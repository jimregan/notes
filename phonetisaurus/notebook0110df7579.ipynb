{
  "nbformat": 4,
  "nbformat_minor": 0,
  "metadata": {
    "colab": {
      "name": "run_phonetisaurus_on_timit.ipynb",
      "provenance": []
    },
    "kernelspec": {
      "name": "python3",
      "display_name": "Python 3"
    },
    "language_info": {
      "name": "python"
    }
  },
  "cells": [
    {
      "cell_type": "markdown",
      "metadata": {
        "id": "Hb-bcDt8iV3_"
      },
      "source": [
        "The first few cells set up phonetisaurus; they are adapted from the instructions in the git README."
      ]
    },
    {
      "cell_type": "code",
      "metadata": {
        "id": "4oKjChPhZKoH"
      },
      "source": [
        "%%capture\n",
        "!apt-get -y install git g++ autoconf-archive make libtool\n",
        "# Python bindings\n",
        "!apt-get -y install python-setuptools python-dev\n",
        "# mitlm (to build a quick play model)\n",
        "!apt-get -y install gfortran"
      ],
      "execution_count": null,
      "outputs": []
    },
    {
      "cell_type": "code",
      "metadata": {
        "id": "hJilOunEZc1C"
      },
      "source": [
        "%%capture\n",
        "!wget http://www.openfst.org/twiki/pub/FST/FstDownload/openfst-1.6.2.tar.gz\n",
        "!tar -xvzf openfst-1.6.2.tar.gz\n",
        "%cd openfst-1.6.2\n",
        "# Minimal configure, compatible with current defaults for Kaldi\n",
        "!./configure --enable-static --enable-shared --enable-far --enable-ngram-fsts\n",
        "!make -j 4\n",
        "# Now wait a while...\n",
        "!make install"
      ],
      "execution_count": null,
      "outputs": []
    },
    {
      "cell_type": "code",
      "metadata": {
        "colab": {
          "base_uri": "https://localhost:8080/",
          "height": 35
        },
        "id": "XcQVoprkc-nz",
        "outputId": "28af04b5-1e1d-423a-80cd-45e552a31c2d"
      },
      "source": [
        "import os\n",
        "ldlibpath = os.environ['LD_LIBRARY_PATH']\n",
        "#_STORED_LD = \"/usr/local/nvidia/lib:/usr/local/nvidia/lib64\"\n",
        "newld = f'{ldlibpath}:/usr/local/lib:/usr/local/lib/fst'\n",
        "os.environ['LD_LIBRARY_PATH']=newld\n",
        "%env LD_LIBRARY_PATH"
      ],
      "execution_count": 17,
      "outputs": [
        {
          "output_type": "execute_result",
          "data": {
            "application/vnd.google.colaboratory.intrinsic+json": {
              "type": "string"
            },
            "text/plain": [
              "'/usr/local/nvidia/lib:/usr/local/nvidia/lib64:/usr/local/lib:/usr/local/lib/fst'"
            ]
          },
          "metadata": {
            "tags": []
          },
          "execution_count": 17
        }
      ]
    },
    {
      "cell_type": "code",
      "metadata": {
        "id": "ziFGLPG7evck"
      },
      "source": [
        "%%capture\n",
        "%cd /content\n",
        "!git clone https://github.com/AdolfVonKleist/Phonetisaurus.git\n",
        "%cd Phonetisaurus\n",
        "!./configure\n",
        "!make\n",
        "!make install"
      ],
      "execution_count": null,
      "outputs": []
    },
    {
      "cell_type": "code",
      "metadata": {
        "colab": {
          "base_uri": "https://localhost:8080/"
        },
        "id": "kSJUHZsWgSTC",
        "outputId": "f328b345-2670-42f7-f49d-19ca1c1dc9db"
      },
      "source": [
        "%cd /content/"
      ],
      "execution_count": 36,
      "outputs": [
        {
          "output_type": "stream",
          "text": [
            "/content\n"
          ],
          "name": "stdout"
        }
      ]
    },
    {
      "cell_type": "markdown",
      "metadata": {
        "id": "buTTrQpojaD5"
      },
      "source": [
        "We also need MITLM"
      ]
    },
    {
      "cell_type": "code",
      "metadata": {
        "id": "1kIjpv36jd_7"
      },
      "source": [
        "%%capture\n",
        "!git clone https://github.com/mitlm/mitlm\n",
        "%cd mitlm\n",
        "!autoreconf -i\n",
        "!./configure\n",
        "!make\n",
        "!make install"
      ],
      "execution_count": null,
      "outputs": []
    },
    {
      "cell_type": "code",
      "metadata": {
        "colab": {
          "base_uri": "https://localhost:8080/"
        },
        "id": "sWL_apGcmkiZ",
        "outputId": "09d5d21a-d78f-423b-fc7b-59ca188e6ce7"
      },
      "source": [
        "%cd /content"
      ],
      "execution_count": 38,
      "outputs": [
        {
          "output_type": "stream",
          "text": [
            "/content\n"
          ],
          "name": "stdout"
        }
      ]
    },
    {
      "cell_type": "markdown",
      "metadata": {
        "id": "gVCcIZzbiMg2"
      },
      "source": [
        "The TIMIT dictionary is relatively clean, so there are only a few small changes that are needed for phonetisaurus."
      ]
    },
    {
      "cell_type": "code",
      "metadata": {
        "id": "8jvRytTLiKTY"
      },
      "source": [
        "!cat TIMITDIC.txt|grep -v '^;'|tr -d '/'|sed -e 's/  */ /g;s/~adj//;s/~v_past//;s/~v_pres//;s/~v//;s/~n//;' > TIMIT.cleaned\n",
        "!cat TIMIT.cleaned | perl -pe 's/\\s+/ /g; s/^\\s+//; s/\\s+$//; @_ = split (/\\s+/); $w = shift (@_); $_ = $w.\"\\t\".join (\" \", @_).\"\\n\";' > TIMIT.clean"
      ],
      "execution_count": 82,
      "outputs": []
    },
    {
      "cell_type": "code",
      "metadata": {
        "colab": {
          "base_uri": "https://localhost:8080/"
        },
        "id": "SHoBNKGQiqE7",
        "outputId": "008a21ac-c933-408b-c460-066f4f075312"
      },
      "source": [
        "!phonetisaurus-align --input=TIMIT.clean --ofile=TIMIT.clean.corpus --seq1_del=false\n",
        "# Train an n-gram model (5s-10s):\n",
        "!estimate-ngram -o 8 -t TIMIT.clean.corpus -wl timit.arpa\n",
        "# Convert to OpenFst format (10s-20s):\n",
        "!phonetisaurus-arpa2wfst --lm=timit.arpa --ofile=timit.fst"
      ],
      "execution_count": 83,
      "outputs": [
        {
          "output_type": "stream",
          "text": [
            "GitRevision: 0.9.1\n",
            "Loading input file: TIMIT.clean\n",
            "Alignment failed: x\n",
            "Starting EM...\n",
            "Finished first iter...\n",
            "Iteration: 1 Change: 2.70318\n",
            "Iteration: 2 Change: 0.0603504\n",
            "Iteration: 3 Change: 0.0425539\n",
            "Iteration: 4 Change: 0.0206814\n",
            "Iteration: 5 Change: 0.0114756\n",
            "Iteration: 6 Change: 0.00711536\n",
            "Iteration: 7 Change: 0.0042429\n",
            "Iteration: 8 Change: 0.00297546\n",
            "Iteration: 9 Change: 0.00223923\n",
            "Iteration: 10 Change: 0.00151825\n",
            "Iteration: 11 Change: 0.00115204\n",
            "Last iteration: \n",
            "0.001\tLoading corpus TIMIT.clean.corpus...\n",
            "0.037\tSmoothing[1] = ModKN\n",
            "0.037\tSmoothing[2] = ModKN\n",
            "0.037\tSmoothing[3] = ModKN\n",
            "0.037\tSmoothing[4] = ModKN\n",
            "0.037\tSmoothing[5] = ModKN\n",
            "0.037\tSmoothing[6] = ModKN\n",
            "0.037\tSmoothing[7] = ModKN\n",
            "0.037\tSmoothing[8] = ModKN\n",
            "0.037\tSet smoothing algorithms...\n",
            "0.037\tY 6.063492e-01\n",
            "0.037\tY 6.304450e-01\n",
            "0.037\tY 7.305669e-01\n",
            "0.037\tY 7.950124e-01\n",
            "0.037\tY 8.524463e-01\n",
            "0.038\tY 9.033717e-01\n",
            "0.038\tY 9.355036e-01\n",
            "0.038\tY 9.092702e-01\n",
            "0.038\tEstimating full n-gram model...\n",
            "0.040\tSaving LM to timit.arpa...\n",
            "GitRevision: 0.9.1\n",
            "Initializing...\n",
            "Converting...\n"
          ],
          "name": "stdout"
        }
      ]
    },
    {
      "cell_type": "code",
      "metadata": {
        "colab": {
          "base_uri": "https://localhost:8080/"
        },
        "id": "S_gU2MiatZIY",
        "outputId": "dfaad9b2-c40e-4273-aa48-3ddea4ff83bc"
      },
      "source": [
        "!tail TIMIT.clean.corpus"
      ],
      "execution_count": 89,
      "outputs": [
        {
          "output_type": "stream",
          "text": [
            "z}z i|n}ih1 n}n i}iy a}ax s}z\n",
            "z}z i}ih1 p}p\n",
            "z}z i}ih1 p|p}p e|r}axr s}z\n",
            "z}z i|r}er1 c}k o}aa n}n s}z\n",
            "z}z o}aa1 m}m b}b i}iy e}_\n",
            "z}z o}ow1 n}n e}_ s}z\n",
            "z}z o}ow1 n}n i}ix n|g}ng\n",
            "z}z o|o}uw1\n",
            "z}z o}ow o}aa1 l}l o}ax g}jh i}ix s}s t}t\n",
            "z}z o|o}uw1 s}z\n"
          ],
          "name": "stdout"
        }
      ]
    },
    {
      "cell_type": "code",
      "metadata": {
        "id": "FtkHX8qjo99E"
      },
      "source": [
        "!cat TIMIT.clean|cut -f 1|tail -n 10 > TIMIT.list"
      ],
      "execution_count": 95,
      "outputs": []
    },
    {
      "cell_type": "code",
      "metadata": {
        "colab": {
          "base_uri": "https://localhost:8080/"
        },
        "id": "2moIx62roJRi",
        "outputId": "538851f0-dba4-4c7a-d8b2-42ad341cccd2"
      },
      "source": [
        "!phonetisaurus-apply --model timit.fst --word_list TIMIT.list"
      ],
      "execution_count": 96,
      "outputs": [
        {
          "output_type": "stream",
          "text": [
            "zinnias\tz ih1 n iy ax z\n",
            "zip\tz ih1 p\n",
            "zippers\tz ih1 p axr z\n",
            "zircons\tz er1 k aa n z\n",
            "zombie\tz aa1 m b iy\n",
            "zones\tz ow1 n z\n",
            "zoning\tz ow1 n ix ng\n",
            "zoo\tz uw1\n",
            "zoologist\tz ow aa1 l ax jh ix s t\n",
            "zoos\tz uw1 z\n"
          ],
          "name": "stdout"
        }
      ]
    }
  ]
}