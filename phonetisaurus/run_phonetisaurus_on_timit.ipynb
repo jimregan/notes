{
  "nbformat": 4,
  "nbformat_minor": 0,
  "metadata": {
    "colab": {
      "name": "run_phonetisaurus_on_timit.ipynb",
      "provenance": []
    },
    "kernelspec": {
      "name": "python3",
      "display_name": "Python 3"
    },
    "language_info": {
      "name": "python"
    }
  },
  "cells": [
    {
      "cell_type": "markdown",
      "metadata": {
        "id": "Hb-bcDt8iV3_"
      },
      "source": [
        "The first few cells set up phonetisaurus; they are adapted from the instructions in the git README."
      ]
    },
    {
      "cell_type": "code",
      "metadata": {
        "id": "4oKjChPhZKoH"
      },
      "source": [
        "%%capture\n",
        "!apt-get -y install git g++ autoconf-archive make libtool\n",
        "# Python bindings\n",
        "!apt-get -y install python-setuptools python-dev\n",
        "# mitlm (to build a quick play model)\n",
        "!apt-get -y install gfortran"
      ],
      "execution_count": null,
      "outputs": []
    },
    {
      "cell_type": "code",
      "metadata": {
        "id": "hJilOunEZc1C"
      },
      "source": [
        "%%capture\n",
        "!wget http://www.openfst.org/twiki/pub/FST/FstDownload/openfst-1.6.2.tar.gz\n",
        "!tar -xvzf openfst-1.6.2.tar.gz\n",
        "%cd openfst-1.6.2\n",
        "# Minimal configure, compatible with current defaults for Kaldi\n",
        "!./configure --enable-static --enable-shared --enable-far --enable-ngram-fsts\n",
        "!make -j 4\n",
        "# Now wait a while...\n",
        "!make install"
      ],
      "execution_count": null,
      "outputs": []
    },
    {
      "cell_type": "code",
      "metadata": {
        "colab": {
          "base_uri": "https://localhost:8080/",
          "height": 35
        },
        "id": "XcQVoprkc-nz",
        "outputId": "28af04b5-1e1d-423a-80cd-45e552a31c2d"
      },
      "source": [
        "import os\n",
        "ldlibpath = os.environ['LD_LIBRARY_PATH']\n",
        "#_STORED_LD = \"/usr/local/nvidia/lib:/usr/local/nvidia/lib64\"\n",
        "newld = f'{ldlibpath}:/usr/local/lib:/usr/local/lib/fst'\n",
        "os.environ['LD_LIBRARY_PATH']=newld\n",
        "%env LD_LIBRARY_PATH"
      ],
      "execution_count": 17,
      "outputs": [
        {
          "output_type": "execute_result",
          "data": {
            "application/vnd.google.colaboratory.intrinsic+json": {
              "type": "string"
            },
            "text/plain": [
              "'/usr/local/nvidia/lib:/usr/local/nvidia/lib64:/usr/local/lib:/usr/local/lib/fst'"
            ]
          },
          "metadata": {
            "tags": []
          },
          "execution_count": 17
        }
      ]
    },
    {
      "cell_type": "code",
      "metadata": {
        "id": "ziFGLPG7evck"
      },
      "source": [
        "%%capture\n",
        "%cd /content\n",
        "!git clone https://github.com/AdolfVonKleist/Phonetisaurus.git\n",
        "%cd Phonetisaurus\n",
        "!./configure\n",
        "!make\n",
        "!make install"
      ],
      "execution_count": null,
      "outputs": []
    },
    {
      "cell_type": "code",
      "metadata": {
        "colab": {
          "base_uri": "https://localhost:8080/"
        },
        "id": "kSJUHZsWgSTC",
        "outputId": "f328b345-2670-42f7-f49d-19ca1c1dc9db"
      },
      "source": [
        "%cd /content/"
      ],
      "execution_count": 36,
      "outputs": [
        {
          "output_type": "stream",
          "text": [
            "/content\n"
          ],
          "name": "stdout"
        }
      ]
    },
    {
      "cell_type": "markdown",
      "metadata": {
        "id": "buTTrQpojaD5"
      },
      "source": [
        "We also need MITLM"
      ]
    },
    {
      "cell_type": "code",
      "metadata": {
        "id": "1kIjpv36jd_7"
      },
      "source": [
        "%%capture\n",
        "!git clone https://github.com/mitlm/mitlm\n",
        "%cd mitlm\n",
        "!autoreconf -i\n",
        "!./configure\n",
        "!make\n",
        "!make install"
      ],
      "execution_count": null,
      "outputs": []
    },
    {
      "cell_type": "code",
      "metadata": {
        "colab": {
          "base_uri": "https://localhost:8080/"
        },
        "id": "sWL_apGcmkiZ",
        "outputId": "09d5d21a-d78f-423b-fc7b-59ca188e6ce7"
      },
      "source": [
        "%cd /content"
      ],
      "execution_count": 38,
      "outputs": [
        {
          "output_type": "stream",
          "text": [
            "/content\n"
          ],
          "name": "stdout"
        }
      ]
    },
    {
      "cell_type": "markdown",
      "metadata": {
        "id": "gVCcIZzbiMg2"
      },
      "source": [
        "The TIMIT dictionary is relatively clean, so there are only a few small changes that are needed for phonetisaurus."
      ]
    },
    {
      "cell_type": "code",
      "metadata": {
        "id": "8jvRytTLiKTY"
      },
      "source": [
        "!cat TIMITDIC.txt|grep -v '^;'|tr -d '/'|sed -e 's/  */ /g;s/~adj//;s/~v_past//;s/~v_pres//;s/~v//;s/~n//;' > TIMIT.clean"
      ],
      "execution_count": 75,
      "outputs": []
    },
    {
      "cell_type": "code",
      "metadata": {
        "colab": {
          "base_uri": "https://localhost:8080/"
        },
        "id": "SHoBNKGQiqE7",
        "outputId": "b7c2114e-7395-4587-b8cd-92923e08dff5"
      },
      "source": [
        "!phonetisaurus-align --input=TIMIT.clean --ofile=TIMIT.clean.corpus --seq1_del=false\n",
        "# Train an n-gram model (5s-10s):\n",
        "!estimate-ngram -o 8 -t TIMIT.clean.corpus -wl timit.arpa\n",
        "# Convert to OpenFst format (10s-20s):\n",
        "!phonetisaurus-arpa2wfst --lm=timit.arpa --ofile=timit.fst"
      ],
      "execution_count": 77,
      "outputs": [
        {
          "output_type": "stream",
          "text": [
            "GitRevision: 0.9.1\n",
            "Loading input file: TIMIT.clean\n",
            "Starting EM...\n",
            "Finished first iter...\n",
            "Iteration: 1 Change: 7.52312\n",
            "Iteration: 2 Change: 0.00584698\n",
            "Iteration: 3 Change: 0.00989723\n",
            "Iteration: 4 Change: 0.00993443\n",
            "Iteration: 5 Change: 0.00851822\n",
            "Iteration: 6 Change: 0.00636768\n",
            "Iteration: 7 Change: 0.00507736\n",
            "Iteration: 8 Change: 0.00345325\n",
            "Iteration: 9 Change: 0.00275803\n",
            "Iteration: 10 Change: 0.00178242\n",
            "Iteration: 11 Change: 0.0011425\n",
            "Last iteration: \n",
            "0.001\tLoading corpus TIMIT.clean.corpus...\n",
            "0.107\tSmoothing[1] = ModKN\n",
            "0.107\tSmoothing[2] = ModKN\n",
            "0.107\tSmoothing[3] = ModKN\n",
            "0.107\tSmoothing[4] = ModKN\n",
            "0.107\tSmoothing[5] = ModKN\n",
            "0.107\tSmoothing[6] = ModKN\n",
            "0.107\tSmoothing[7] = ModKN\n",
            "0.107\tSmoothing[8] = ModKN\n",
            "0.107\tSet smoothing algorithms...\n",
            "0.107\tY 8.000000e-01\n",
            "0.107\tY 5.139752e-01\n",
            "0.107\tY 6.063855e-01\n",
            "0.107\tY 7.198564e-01\n",
            "0.108\tY 8.121408e-01\n",
            "0.109\tY 8.843038e-01\n",
            "0.110\tY 9.301026e-01\n",
            "0.111\tY 9.179621e-01\n",
            "0.111\tEstimating full n-gram model...\n",
            "0.115\tSaving LM to timit.arpa...\n",
            "GitRevision: 0.9.1\n",
            "Initializing...\n",
            "Converting...\n"
          ],
          "name": "stdout"
        }
      ]
    },
    {
      "cell_type": "code",
      "metadata": {
        "id": "FtkHX8qjo99E"
      },
      "source": [
        "!cat TIMIT.clean|cut -d ' ' -f 1|head -n 50 > TIMIT.list"
      ],
      "execution_count": 78,
      "outputs": []
    },
    {
      "cell_type": "code",
      "metadata": {
        "id": "2moIx62roJRi"
      },
      "source": [
        "!phonetisaurus-apply -v --model timit.fst --word_list TIMIT.list"
      ],
      "execution_count": null,
      "outputs": []
    }
  ]
}