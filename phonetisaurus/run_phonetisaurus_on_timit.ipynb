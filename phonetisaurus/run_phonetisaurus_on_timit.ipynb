{
  "nbformat": 4,
  "nbformat_minor": 0,
  "metadata": {
    "colab": {
      "name": "run_phonetisaurus_on_timit.ipynb",
      "provenance": []
    },
    "kernelspec": {
      "name": "python3",
      "display_name": "Python 3"
    },
    "language_info": {
      "name": "python"
    }
  },
  "cells": [
    {
      "cell_type": "markdown",
      "metadata": {
        "id": "Hb-bcDt8iV3_"
      },
      "source": [
        "The first few cells set up phonetisaurus; they are adapted from the instructions in the git README."
      ]
    },
    {
      "cell_type": "code",
      "metadata": {
        "id": "4oKjChPhZKoH"
      },
      "source": [
        "%%capture\n",
        "!apt-get -y install git g++ autoconf-archive make libtool\n",
        "# Python bindings\n",
        "!apt-get -y install python-setuptools python-dev\n",
        "# mitlm (to build a quick play model)\n",
        "!apt-get -y install gfortran"
      ],
      "execution_count": null,
      "outputs": []
    },
    {
      "cell_type": "code",
      "metadata": {
        "id": "hJilOunEZc1C"
      },
      "source": [
        "%%capture\n",
        "!wget http://www.openfst.org/twiki/pub/FST/FstDownload/openfst-1.6.2.tar.gz\n",
        "!tar -xvzf openfst-1.6.2.tar.gz\n",
        "%cd openfst-1.6.2\n",
        "# Minimal configure, compatible with current defaults for Kaldi\n",
        "!./configure --enable-static --enable-shared --enable-far --enable-ngram-fsts\n",
        "!make -j 4\n",
        "# Now wait a while...\n",
        "!make install"
      ],
      "execution_count": null,
      "outputs": []
    },
    {
      "cell_type": "code",
      "metadata": {
        "colab": {
          "base_uri": "https://localhost:8080/",
          "height": 35
        },
        "id": "XcQVoprkc-nz",
        "outputId": "28af04b5-1e1d-423a-80cd-45e552a31c2d"
      },
      "source": [
        "import os\n",
        "ldlibpath = os.environ['LD_LIBRARY_PATH']\n",
        "#_STORED_LD = \"/usr/local/nvidia/lib:/usr/local/nvidia/lib64\"\n",
        "newld = f'{ldlibpath}:/usr/local/lib:/usr/local/lib/fst'\n",
        "os.environ['LD_LIBRARY_PATH']=newld\n",
        "%env LD_LIBRARY_PATH"
      ],
      "execution_count": 17,
      "outputs": [
        {
          "output_type": "execute_result",
          "data": {
            "application/vnd.google.colaboratory.intrinsic+json": {
              "type": "string"
            },
            "text/plain": [
              "'/usr/local/nvidia/lib:/usr/local/nvidia/lib64:/usr/local/lib:/usr/local/lib/fst'"
            ]
          },
          "metadata": {
            "tags": []
          },
          "execution_count": 17
        }
      ]
    },
    {
      "cell_type": "code",
      "metadata": {
        "id": "ziFGLPG7evck"
      },
      "source": [
        "%%capture\n",
        "%cd /content\n",
        "!git clone https://github.com/AdolfVonKleist/Phonetisaurus.git\n",
        "%cd Phonetisaurus\n",
        "!./configure\n",
        "!make\n",
        "!make install"
      ],
      "execution_count": null,
      "outputs": []
    },
    {
      "cell_type": "code",
      "metadata": {
        "colab": {
          "base_uri": "https://localhost:8080/"
        },
        "id": "kSJUHZsWgSTC",
        "outputId": "f328b345-2670-42f7-f49d-19ca1c1dc9db"
      },
      "source": [
        "%cd /content/"
      ],
      "execution_count": 36,
      "outputs": [
        {
          "output_type": "stream",
          "text": [
            "/content\n"
          ],
          "name": "stdout"
        }
      ]
    },
    {
      "cell_type": "markdown",
      "metadata": {
        "id": "buTTrQpojaD5"
      },
      "source": [
        "We also need MITLM"
      ]
    },
    {
      "cell_type": "code",
      "metadata": {
        "id": "1kIjpv36jd_7"
      },
      "source": [
        "%%capture\n",
        "!git clone https://github.com/mitlm/mitlm\n",
        "%cd mitlm\n",
        "!autoreconf -i\n",
        "!./configure\n",
        "!make\n",
        "!make install"
      ],
      "execution_count": null,
      "outputs": []
    },
    {
      "cell_type": "code",
      "metadata": {
        "colab": {
          "base_uri": "https://localhost:8080/"
        },
        "id": "sWL_apGcmkiZ",
        "outputId": "09d5d21a-d78f-423b-fc7b-59ca188e6ce7"
      },
      "source": [
        "%cd /content"
      ],
      "execution_count": 38,
      "outputs": [
        {
          "output_type": "stream",
          "text": [
            "/content\n"
          ],
          "name": "stdout"
        }
      ]
    },
    {
      "cell_type": "markdown",
      "metadata": {
        "id": "gVCcIZzbiMg2"
      },
      "source": [
        "The TIMIT dictionary is relatively clean, so there are only a few small changes that are needed for phonetisaurus."
      ]
    },
    {
      "cell_type": "code",
      "metadata": {
        "id": "8jvRytTLiKTY"
      },
      "source": [
        "!cat TIMITDIC.txt|grep -v '^;'|tr -d '/'|sed -e 's/  */ /g' > TIMIT.clean"
      ],
      "execution_count": null,
      "outputs": []
    },
    {
      "cell_type": "code",
      "metadata": {
        "colab": {
          "base_uri": "https://localhost:8080/"
        },
        "id": "SHoBNKGQiqE7",
        "outputId": "67272350-0428-46f1-aed2-4e989c945966"
      },
      "source": [
        "!phonetisaurus-align --input=TIMIT.clean --ofile=TIMIT.clean.corpus --seq1_del=false\n",
        "# Train an n-gram model (5s-10s):\n",
        "!estimate-ngram -o 8 -t TIMIT.clean.corpus -wl timit.arpa\n",
        "# Convert to OpenFst format (10s-20s):\n",
        "!phonetisaurus-arpa2wfst --lm=timit.arpa --ofile=timit.fst"
      ],
      "execution_count": 39,
      "outputs": [
        {
          "output_type": "stream",
          "text": [
            "GitRevision: 0.9.1\n",
            "Loading input file: TIMIT.clean\n",
            "Starting EM...\n",
            "Finished first iter...\n",
            "Iteration: 1 Change: 7.52353\n",
            "Iteration: 2 Change: 0.00586414\n",
            "Iteration: 3 Change: 0.00986576\n",
            "Iteration: 4 Change: 0.00996876\n",
            "Iteration: 5 Change: 0.00853443\n",
            "Iteration: 6 Change: 0.00628281\n",
            "Iteration: 7 Change: 0.00513172\n",
            "Iteration: 8 Change: 0.00343132\n",
            "Iteration: 9 Change: 0.0027523\n",
            "Iteration: 10 Change: 0.00179482\n",
            "Iteration: 11 Change: 0.00112724\n",
            "Last iteration: \n",
            "0.001\tLoading corpus TIMIT.clean.corpus...\n",
            "0.105\tSmoothing[1] = ModKN\n",
            "0.105\tSmoothing[2] = ModKN\n",
            "0.105\tSmoothing[3] = ModKN\n",
            "0.105\tSmoothing[4] = ModKN\n",
            "0.105\tSmoothing[5] = ModKN\n",
            "0.105\tSmoothing[6] = ModKN\n",
            "0.105\tSmoothing[7] = ModKN\n",
            "0.105\tSmoothing[8] = ModKN\n",
            "0.105\tSet smoothing algorithms...\n",
            "0.105\tY 8.181818e-01\n",
            "0.105\tY 5.155185e-01\n",
            "0.105\tY 6.079470e-01\n",
            "0.105\tY 7.203451e-01\n",
            "0.106\tY 8.125633e-01\n",
            "0.107\tY 8.845738e-01\n",
            "0.108\tY 9.304152e-01\n",
            "0.109\tY 9.185127e-01\n",
            "0.109\tEstimating full n-gram model...\n",
            "0.114\tSaving LM to timit.arpa...\n",
            "GitRevision: 0.9.1\n",
            "Initializing...\n",
            "Converting...\n"
          ],
          "name": "stdout"
        }
      ]
    },
    {
      "cell_type": "code",
      "metadata": {
        "colab": {
          "base_uri": "https://localhost:8080/"
        },
        "id": "VsDX4VLpmwZF",
        "outputId": "97f7fe6e-5e04-4376-9650-d1150f76e789"
      },
      "source": [
        "!python phoneticize.py -m timit.fst -w test"
      ],
      "execution_count": 45,
      "outputs": [
        {
          "output_type": "stream",
          "text": [
            "Traceback (most recent call last):\n",
            "  File \"phoneticize.py\", line 2, in <module>\n",
            "    import phonetisaurus\n",
            "ModuleNotFoundError: No module named 'phonetisaurus'\n"
          ],
          "name": "stdout"
        }
      ]
    },
    {
      "cell_type": "code",
      "metadata": {
        "colab": {
          "base_uri": "https://localhost:8080/"
        },
        "id": "rK4GB0HGnKzY",
        "outputId": "72fbe496-22b3-4af7-a6dc-5012c8c5f14b"
      },
      "source": [
        "%%writefile phoneticize.py\n",
        "#!/usr/bin/env python\n",
        "import phonetisaurus\n",
        "from itertools import izip\n",
        "\n",
        "def Phoneticize (model, args) :\n",
        "    \"\"\"Python wrapper function for g2p bindings.\n",
        "\n",
        "    Python wrapper function for g2p bindings.  Most basic possible example.\n",
        "    Intended as a template for doing something more useful.\n",
        "\n",
        "    Args:\n",
        "        model (str): The g2p fst model to load.\n",
        "        args (obj): The argparse object with user specified options.\n",
        "    \"\"\"\n",
        "\n",
        "    results = model.Phoneticize (\n",
        "        args.token,\n",
        "        args.nbest,\n",
        "        args.beam,\n",
        "        args.thresh,\n",
        "        args.write_fsts,\n",
        "        args.accumulate,\n",
        "        args.pmass\n",
        "    )\n",
        "\n",
        "    for result in results :\n",
        "        uniques = [model.FindOsym (u) for u in result.Uniques]\n",
        "        print (\"{0:0.2f}\\t{1}\".format (result.PathWeight, \" \".join (uniques)))\n",
        "        print (\"-------\")\n",
        "\n",
        "        #Should always be equal length\n",
        "        for ilab, olab, weight in izip (result.ILabels,\n",
        "                                        result.OLabels,\n",
        "                                        result.PathWeights) :\n",
        "            print (\"{0}:{1}:{2:0.2f}\".format (\n",
        "                model.FindIsym (ilab),\n",
        "                model.FindOsym (olab),\n",
        "                weight\n",
        "            ))\n",
        "\n",
        "    return\n",
        "\n",
        "\n",
        "if __name__ == \"__main__\" :\n",
        "    import argparse, sys\n",
        "\n",
        "    example = \"{0} --model model.fst --word \\\"test\\\"\".format (sys.argv [0])\n",
        "    parser  = argparse.ArgumentParser (description=example)\n",
        "    parser.add_argument (\"--model\", \"-m\", help=\"Phonetisaurus G2P model.\",\n",
        "                         required=True)\n",
        "    group   = parser.add_mutually_exclusive_group (required=True)\n",
        "    group.add_argument (\"--word\", \"-w\", help=\"Input word in lower case.\")\n",
        "    group.add_argument (\"--wlist\", \"-wl\", help=\"Provide a wordlist.\")\n",
        "    parser.add_argument (\"--nbest\", \"-n\", help=\"NBest\",\n",
        "                         default=1, type=int)\n",
        "    parser.add_argument (\"--beam\", \"-b\", help=\"Search beam\",\n",
        "                         default=500, type=int)\n",
        "    parser.add_argument (\"--thresh\", \"-t\", help=\"NBest threshold.\",\n",
        "                         default=10., type=float)\n",
        "    parser.add_argument (\"--write_fsts\", \"-wf\", help=\"Write decoded fsts \"\n",
        "                         \"to disk\", default=False, action=\"store_true\")\n",
        "    parser.add_argument (\"--accumulate\", \"-a\", help=\"Accumulate probs across \"\n",
        "                         \"unique pronunciations.\", default=False,\n",
        "                         action=\"store_true\")\n",
        "    parser.add_argument (\"--pmass\", \"-p\", help=\"Target probability mass.\",\n",
        "                         default=0.0, type=float)\n",
        "    parser.add_argument (\"--verbose\", \"-v\", help=\"Verbose mode.\",\n",
        "                         default=False, action=\"store_true\")\n",
        "    args = parser.parse_args ()\n",
        "\n",
        "    if args.verbose :\n",
        "        for key,val in args.__dict__.iteritems () :\n",
        "            print (\"{0}:  {1}\".format (key, val))\n",
        "\n",
        "    model = phonetisaurus.Phonetisaurus (args.model)\n",
        "\n",
        "    if args.word :\n",
        "        args.token = args.word\n",
        "        Phoneticize (model, args)\n",
        "\n",
        "    else :\n",
        "        with open (args.wlist, \"r\") as ifp :\n",
        "            for word in ifp :\n",
        "                word = word.decode (\"utf8\").strip ()\n",
        "                args.token = word\n",
        "                Phoneticize (model, args)\n",
        "                print (\"-----------------------\")\n",
        "                print (\"\")"
      ],
      "execution_count": 43,
      "outputs": [
        {
          "output_type": "stream",
          "text": [
            "Writing phoneticize.py\n"
          ],
          "name": "stdout"
        }
      ]
    }
  ]
}