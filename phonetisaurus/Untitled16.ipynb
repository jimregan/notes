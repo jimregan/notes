{
  "nbformat": 4,
  "nbformat_minor": 0,
  "metadata": {
    "colab": {
      "name": "Untitled16.ipynb",
      "provenance": [],
      "collapsed_sections": []
    },
    "kernelspec": {
      "name": "python3",
      "display_name": "Python 3"
    },
    "language_info": {
      "name": "python"
    }
  },
  "cells": [
    {
      "cell_type": "markdown",
      "metadata": {
        "id": "uANUea6b1jgh"
      },
      "source": [
        "The alignment from phonetisaurus is quite good, but there are some things that don't quite fit with an English speaker's intuition, so we repair some of them."
      ]
    },
    {
      "cell_type": "code",
      "metadata": {
        "id": "VaRbahDd1gm4"
      },
      "source": [
        "_ngram_replacements = \"\"\"\n",
        "e}_ l}el\te|l}el\n",
        "e}_ d}ed\te|d}ed\n",
        "e}iy1 e}_\te|e}iy1\n",
        "i}ix o|n}n\ti|o}ix n}n\n",
        "r}_ t|-}r t}t\tr}r t|-|t}t\n",
        "\"\"\"\n",
        "ngram_replacements = {a.split('\\t')[0]: a.split('\\t')[1] for a in _ngram_replacements.split('\\n') if '\\t' in a}"
      ],
      "execution_count": null,
      "outputs": []
    },
    {
      "cell_type": "code",
      "metadata": {
        "colab": {
          "base_uri": "https://localhost:8080/"
        },
        "id": "t4HFF1ltOEO4",
        "outputId": "d446b3d8-6ce2-4403-9556-5f93831e0896"
      },
      "source": [
        "ngram_replacements"
      ],
      "execution_count": null,
      "outputs": [
        {
          "output_type": "execute_result",
          "data": {
            "text/plain": [
              "{'e}_ d}ed': 'e|d}ed',\n",
              " 'e}_ l}el': 'e|l}el',\n",
              " 'e}iy1 e}_': 'e|e}iy1',\n",
              " 'i}ix o|n}n': 'i|o}ix n}n',\n",
              " 'r}_ t|-}r t}t': 'r}r t|-|t}t'}"
            ]
          },
          "metadata": {
            "tags": []
          },
          "execution_count": 65
        }
      ]
    },
    {
      "cell_type": "code",
      "metadata": {
        "id": "tOt6twup0iuv"
      },
      "source": [
        "def make_replacements(fixables):\n",
        "  out = {}\n",
        "  for line in fixables.split('\\n'):\n",
        "    if line == '':\n",
        "      continue\n",
        "    tmp = line.split('\\t')\n",
        "#    out[tmp[0]] = (tmp[1], tmp[2])\n",
        "  return out"
      ],
      "execution_count": null,
      "outputs": []
    },
    {
      "cell_type": "code",
      "metadata": {
        "id": "cK4ewGs42v2L"
      },
      "source": [
        "bg_to_ug = make_pair_replacements(bigrams_to_unigrams)"
      ],
      "execution_count": null,
      "outputs": []
    },
    {
      "cell_type": "code",
      "metadata": {
        "colab": {
          "base_uri": "https://localhost:8080/"
        },
        "id": "LvxoDPva4oF7",
        "outputId": "e82e626b-fa87-49cf-84bb-2d00c53f57d3"
      },
      "source": [
        "bg_to_ug"
      ],
      "execution_count": null,
      "outputs": [
        {
          "output_type": "execute_result",
          "data": {
            "text/plain": [
              "{'e}_': ('d}ed', 'e|d}ed'),\n",
              " 'e}iy1': ('e}_', 'e|e}iy1'),\n",
              " 'i}ix': ('o|n}n', 'i|o}ix')}"
            ]
          },
          "metadata": {
            "tags": []
          },
          "execution_count": 18
        }
      ]
    },
    {
      "cell_type": "code",
      "metadata": {
        "id": "rOnEoaCx1-v4"
      },
      "source": [
        "def fix_graphones(graphones):\n",
        "  out = []\n",
        "  skip = False\n",
        "  for i in range(len(graphones)):\n",
        "    if skip:\n",
        "      skip = False\n",
        "      continue\n",
        "    if graphones[i] in bg_to_ug:\n",
        "      possible_replacement = bg_to_ug[graphones[i]]\n",
        "      if i < len(graphones) and graphones[i+1] == possible_replacement[0]:\n",
        "        out.append(possible_replacement[1])\n",
        "        skip = True\n",
        "    elif graphones[i] == '-|c}ao':\n",
        "      out.append('-}_')\n",
        "      out.append('c}k')\n",
        "    elif graphones[i] == 'c}ao':\n",
        "      if graphones[0] == 'n}n':\n",
        "        out.append('c}s')\n",
        "      else:\n",
        "        out.append('c}k')\n",
        "    elif graphones[i].startswith('-|'):\n",
        "      out.append('-}_')\n",
        "      out.append(graphones[i][2:])\n",
        "    else:\n",
        "      out.append(graphones[i])\n",
        "  return out"
      ],
      "execution_count": null,
      "outputs": []
    },
    {
      "cell_type": "code",
      "metadata": {
        "colab": {
          "base_uri": "https://localhost:8080/"
        },
        "id": "Tus6O0O43_Vy",
        "outputId": "bf24b5f6-51d8-421e-fb51-2d12cc284c53"
      },
      "source": [
        "#fix_graphones(\"w}w e}iy1 e}_ w}w\".split(' '))\n",
        "fix_graphones(\"-|u}ah1 p}p\".split(' '))\n"
      ],
      "execution_count": null,
      "outputs": [
        {
          "output_type": "execute_result",
          "data": {
            "text/plain": [
              "['-}_', 'u}ah1', 'p}p']"
            ]
          },
          "metadata": {
            "tags": []
          },
          "execution_count": 51
        }
      ]
    },
    {
      "cell_type": "code",
      "metadata": {
        "id": "as4idufH_xFN"
      },
      "source": [
        "with open('TIMIT.clean.corpus', 'r') as f:\n",
        "  for line in f.readlines():\n",
        "     graphones = line.split(' ')\n",
        "     for i in range(0, len(graphones)):\n",
        "       print (f'{graphones}: {graphones[i]}')"
      ],
      "execution_count": null,
      "outputs": []
    }
  ]
}