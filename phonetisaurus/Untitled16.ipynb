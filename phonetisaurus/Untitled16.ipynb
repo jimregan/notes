{
  "nbformat": 4,
  "nbformat_minor": 0,
  "metadata": {
    "colab": {
      "name": "Untitled16.ipynb",
      "provenance": [],
      "collapsed_sections": []
    },
    "kernelspec": {
      "name": "python3",
      "display_name": "Python 3"
    },
    "language_info": {
      "name": "python"
    }
  },
  "cells": [
    {
      "cell_type": "code",
      "metadata": {
        "id": "0azNZqbS0Gir"
      },
      "source": [
        "def is_schwa(phone, is_timit=True):\n",
        "  if is_timit:\n",
        "    return phone in [\"ax\", \"axr\", \"ix\"]\n",
        "  else:\n",
        "    return phone == \"AH0\"\n",
        "\n",
        "# CMUdict doesn't have syllabic consonants\n",
        "def is_syllabic_consonant(phone, is_timit=True):\n",
        "  SYLLC = [\"el\", \"em\", \"en\", \"er\", \"er1\", \"er2\"]\n",
        "  if is_timit and phone in SYLLC:\n",
        "    return True\n",
        "  else:\n",
        "    return False\n",
        "\n",
        "# http://web.archive.org/web/20100614180508/http://semarch.linguistics.fas.nyu.edu/barker/Syllables/syllabify.pl\n",
        "def sonority(phone):\n",
        "  STOPS = [\"p\", \"b\", \"t\", \"d\", \"k\", \"g\"]\n",
        "  AFFRICATES = [\"ch\", \"jh\"]\n",
        "  FRICATIVES = [\"th\", \"dh\", \"f\", \"v\", \"s\", \"z\", \"sh\", \"zh\"]\n",
        "  NASALS = [\"m\", \"n\", \"ng\"]\n",
        "  LIQUIDS = [\"l\", \"r\"]\n",
        "  APPROXIMANTS = [\"w\", \"y\"]\n",
        "\n",
        "  # 's' is special\n",
        "  if phone == \"s\":\n",
        "    return 1\n",
        "  elif phone in STOPS:\n",
        "    return 1\n",
        "  elif phone in AFFRICATES:\n",
        "    return 2\n",
        "  elif phone in FRICATIVES:\n",
        "    return 3\n",
        "  elif phone in NASALS:\n",
        "    return 4\n",
        "  elif phone in LIQUIDS:\n",
        "    return 5\n",
        "  elif phone == \"hh\":\n",
        "    return 6\n",
        "  elif phone in APPROXIMANTS:\n",
        "    return 6\n",
        "  else:\n",
        "    return 7"
      ],
      "execution_count": null,
      "outputs": []
    },
    {
      "cell_type": "code",
      "metadata": {
        "id": "as4idufH_xFN"
      },
      "source": [
        "with open('TIMIT.clean.corpus', 'r') as f:\n",
        "  for line in f.readlines():\n",
        "     graphones = line.split(' ')\n",
        "     for i in range(0, len(graphones)):\n",
        "       print (f'{graphones}: {graphones[i]}')"
      ],
      "execution_count": null,
      "outputs": []
    }
  ]
}