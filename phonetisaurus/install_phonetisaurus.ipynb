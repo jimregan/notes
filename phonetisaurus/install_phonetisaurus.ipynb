{
  "nbformat": 4,
  "nbformat_minor": 0,
  "metadata": {
    "colab": {
      "name": "install_phonetisaurus.ipynb",
      "provenance": []
    },
    "kernelspec": {
      "name": "python3",
      "display_name": "Python 3"
    },
    "language_info": {
      "name": "python"
    }
  },
  "cells": [
    {
      "cell_type": "code",
      "metadata": {
        "id": "4oKjChPhZKoH"
      },
      "source": [
        "%%capture\n",
        "!apt-get -y install git g++ autoconf-archive make libtool\n",
        "# Python bindings\n",
        "!apt-get -y install python-setuptools python-dev\n",
        "# mitlm (to build a quick play model)\n",
        "!apt-get -y install gfortran"
      ],
      "execution_count": null,
      "outputs": []
    },
    {
      "cell_type": "code",
      "metadata": {
        "id": "hJilOunEZc1C"
      },
      "source": [
        "%%capture\n",
        "!wget http://www.openfst.org/twiki/pub/FST/FstDownload/openfst-1.6.2.tar.gz\n",
        "!tar -xvzf openfst-1.6.2.tar.gz\n",
        "%cd openfst-1.6.2\n",
        "# Minimal configure, compatible with current defaults for Kaldi\n",
        "!./configure --enable-static --enable-shared --enable-far --enable-ngram-fsts\n",
        "!make -j 4\n",
        "# Now wait a while...\n",
        "!make install"
      ],
      "execution_count": null,
      "outputs": []
    },
    {
      "cell_type": "code",
      "metadata": {
        "colab": {
          "base_uri": "https://localhost:8080/",
          "height": 35
        },
        "id": "XcQVoprkc-nz",
        "outputId": "28af04b5-1e1d-423a-80cd-45e552a31c2d"
      },
      "source": [
        "import os\n",
        "ldlibpath = os.environ['LD_LIBRARY_PATH']\n",
        "#_STORED_LD = \"/usr/local/nvidia/lib:/usr/local/nvidia/lib64\"\n",
        "newld = f'{ldlibpath}:/usr/local/lib:/usr/local/lib/fst'\n",
        "os.environ['LD_LIBRARY_PATH']=newld\n",
        "%env LD_LIBRARY_PATH"
      ],
      "execution_count": 17,
      "outputs": [
        {
          "output_type": "execute_result",
          "data": {
            "application/vnd.google.colaboratory.intrinsic+json": {
              "type": "string"
            },
            "text/plain": [
              "'/usr/local/nvidia/lib:/usr/local/nvidia/lib64:/usr/local/lib:/usr/local/lib/fst'"
            ]
          },
          "metadata": {
            "tags": []
          },
          "execution_count": 17
        }
      ]
    },
    {
      "cell_type": "code",
      "metadata": {
        "id": "ziFGLPG7evck"
      },
      "source": [
        "%%capture\n",
        "%cd /content\n",
        "!git clone https://github.com/AdolfVonKleist/Phonetisaurus.git\n",
        "%cd Phonetisaurus\n",
        "!./configure\n",
        "!make\n",
        "!make install"
      ],
      "execution_count": null,
      "outputs": []
    },
    {
      "cell_type": "code",
      "metadata": {
        "colab": {
          "base_uri": "https://localhost:8080/"
        },
        "id": "kSJUHZsWgSTC",
        "outputId": "20d2f36e-fe1e-4e1b-b9fe-01865e07a289"
      },
      "source": [
        "%cd /content/"
      ],
      "execution_count": 19,
      "outputs": [
        {
          "output_type": "stream",
          "text": [
            "/content\n"
          ],
          "name": "stdout"
        }
      ]
    }
  ]
}