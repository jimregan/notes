{
 "cells": [
  {
   "cell_type": "code",
   "execution_count": 1,
   "metadata": {},
   "outputs": [],
   "source": [
    "from pathlib import Path\n",
    "\n",
    "BASE = Path(\"/Users/joregan/Playing/rd_ctm_edit\")"
   ]
  },
  {
   "cell_type": "code",
   "execution_count": 11,
   "metadata": {},
   "outputs": [],
   "source": [
    "files = []\n",
    "with open(\"/tmp/terror-files\") as terrorf:\n",
    "    for ff in terrorf.readlines():\n",
    "        files.append(ff.strip())"
   ]
  },
  {
   "cell_type": "code",
   "execution_count": 50,
   "metadata": {},
   "outputs": [],
   "source": [
    "def tidy(word, lc=True):\n",
    "    if word[0:1] == '\"':\n",
    "        word = word[1:]\n",
    "    if word[-1:] == '\"':\n",
    "        word = word[:-1]\n",
    "    if word[-1:] in \".!?,;-\":\n",
    "        word = word[:-1]\n",
    "    if lc:\n",
    "        return word.lower()\n",
    "    else:\n",
    "        return word"
   ]
  },
  {
   "cell_type": "code",
   "execution_count": 20,
   "metadata": {},
   "outputs": [
    {
     "name": "stdout",
     "output_type": "stream",
     "text": [
      "0.8571428571428571\n",
      "0.75\n",
      "0.9333333333333333\n"
     ]
    }
   ],
   "source": [
    "import difflib\n",
    "\n",
    "a = \"afkanistan\"\n",
    "b = \"Afghanistan.\"\n",
    "def ratio(a, b):\n",
    "    return difflib.SequenceMatcher(None, a, tidy(b)).ratio()\n",
    "\n",
    "print(ratio(a, b))\n",
    "print(ratio(\"male\", \"Mali\"))\n",
    "print(ratio(\"normader\", \"Nomader\"))"
   ]
  },
  {
   "cell_type": "code",
   "execution_count": 22,
   "metadata": {},
   "outputs": [],
   "source": [
    "def slurp(filename):\n",
    "    lines = []\n",
    "    with open(filename) as infile:\n",
    "        for line in infile.readlines():\n",
    "            lines.append(line.strip())\n",
    "    return lines"
   ]
  },
  {
   "cell_type": "code",
   "execution_count": 23,
   "metadata": {},
   "outputs": [],
   "source": [
    "testing = slurp(\"/Users/joregan/Playing/rd_ctm_edit/H001UFöU4\")"
   ]
  },
  {
   "cell_type": "code",
   "execution_count": 24,
   "metadata": {},
   "outputs": [
    {
     "data": {
      "text/plain": [
       "['2442207150019781021 1 43.44 0.02 k 1.0 Jag sub',\n",
       " '2442207150019781021 1 49.04 0.42 härtalman 1.0 yrkar sub',\n",
       " '2442207150019781021 1 50.2 0.059 jag 1.0 bifall sub',\n",
       " '2442207150019781021 1 50.34 0.379 bifaller 1.0 till sub',\n",
       " '2442207150019781021 1 50.78 0.659 reservationen. 1.0 reservationen. cor']"
      ]
     },
     "execution_count": 24,
     "metadata": {},
     "output_type": "execute_result"
    }
   ],
   "source": [
    "testing[0:5]"
   ]
  },
  {
   "cell_type": "code",
   "execution_count": 25,
   "metadata": {},
   "outputs": [],
   "source": [
    "CONJ = [\"och\", \"men\"]"
   ]
  },
  {
   "cell_type": "code",
   "execution_count": 70,
   "metadata": {},
   "outputs": [],
   "source": [
    "def modify_pairs(sent_a, sent_b):\n",
    "    a = sent_a.split(\" \")\n",
    "    b = sent_b.split(\" \")\n",
    "\n",
    "    changed = False\n",
    "\n",
    "    def multiway(s1, s2, t1, t2):\n",
    "        if s1 + s2 == t1 + t2:\n",
    "            pass\n",
    "        pass\n",
    "    if a[4] == tidy(b[6]) or is_subst(a[4], tidy(b[6], False)):\n",
    "        if a[6] == \"<eps>\":\n",
    "            changed = True\n",
    "            a[4] = a[6] = b[6]\n",
    "            b[6] = \"<eps>\"\n",
    "            a[7] = \"cor\"\n",
    "            b[7] = \"ins\"\n",
    "        if b[4] in CONJ:\n",
    "            b[7] = \"ins-conj\"\n",
    "    if a[4] == \"<eps>\":\n",
    "        if a[6] + b[6] == b[4]:\n",
    "            changed = True\n",
    "            joined = f\"{a[6]}_{b[6]}\"\n",
    "            b[4] = b[6] = joined\n",
    "            b[7] = \"cor\"\n",
    "            a = []\n",
    "    #if (a[4]+[b4]) == \n",
    "    if changed:\n",
    "        return (\" \".join(a), \" \".join(b))\n",
    "    else:\n",
    "        return None"
   ]
  },
  {
   "cell_type": "code",
   "execution_count": 55,
   "metadata": {},
   "outputs": [
    {
     "name": "stdout",
     "output_type": "stream",
     "text": [
      "invandringspolitiken <eps> men invandringspolitiken.\n"
     ]
    },
    {
     "data": {
      "text/plain": [
       "('2442207150019781021 1 58.4 0.78 invandringspolitiken. 1.0 invandringspolitiken. cor',\n",
       " '2442207150019781021 1 59.9 0.079 men 1.0 <eps> ins-conj')"
      ]
     },
     "execution_count": 55,
     "metadata": {},
     "output_type": "execute_result"
    }
   ],
   "source": [
    "modify_pairs(\"2442207150019781021 1 58.4 0.78 invandringspolitiken 1.0 <eps> ins\",\n",
    "             \"2442207150019781021 1 59.9 0.079 men 1.0 invandringspolitiken. sub\")"
   ]
  },
  {
   "cell_type": "code",
   "execution_count": 56,
   "metadata": {},
   "outputs": [
    {
     "name": "stdout",
     "output_type": "stream",
     "text": [
      "<eps> insats insatsregeringen regeringen\n"
     ]
    },
    {
     "data": {
      "text/plain": [
       "('',\n",
       " '2442207150019781021 1 97.18 0.739 insats_regeringen 1.0 insats_regeringen cor')"
      ]
     },
     "execution_count": 56,
     "metadata": {},
     "output_type": "execute_result"
    }
   ],
   "source": [
    "modify_pairs(\"2442207150019781021 1 97.12 0.0 <eps> 1.0 insats del\",\n",
    "             \"2442207150019781021 1 97.18 0.739 insatsregeringen 1.0 regeringen sub\")"
   ]
  },
  {
   "cell_type": "code",
   "execution_count": 57,
   "metadata": {},
   "outputs": [
    {
     "name": "stdout",
     "output_type": "stream",
     "text": [
      "afkanistan <eps> och Afghanistan.\n"
     ]
    },
    {
     "data": {
      "text/plain": [
       "('2442207150019781021 1 121.18 0.559 Afghanistan. 1.0 Afghanistan. cor',\n",
       " '2442207150019781021 1 122.62 0.079 och 1.0 <eps> ins-conj')"
      ]
     },
     "execution_count": 57,
     "metadata": {},
     "output_type": "execute_result"
    }
   ],
   "source": [
    "modify_pairs(\"2442207150019781021 1 121.18 0.559 afkanistan 1.0 <eps> ins\",\n",
    "\"2442207150019781021 1 122.62 0.079 och 1.0 Afghanistan. sub\")"
   ]
  },
  {
   "cell_type": "code",
   "execution_count": 61,
   "metadata": {},
   "outputs": [],
   "source": [
    "_SUBS = \"\"\"\n",
    "afkanistan Afghanistan\n",
    "maly Mali\n",
    "male Mali\n",
    "övvik Ö-vik\n",
    "abebégymnasiet ABB-gymnasiet\n",
    "abeflygplan A/B-flygplan\n",
    "abefs ABF:s\n",
    "abfs ABF:s\n",
    "abies ABS\n",
    "abieffkurserna ABF-kursern\n",
    "abief ABF\n",
    "aczen Axén\n",
    "adeärrkort ADR-kort\n",
    "adeärr ADR\n",
    "adiellbedömningen ADL-bedömningen\n",
    "adiesselstationer ADSL-stationer\n",
    "adihodepreparaten adhd-preparat\n",
    "adihodemediciner adhd-mediciner\n",
    "adihodeläkemedel adhd-läkemedel\n",
    "adihodedroger adhd-droger\n",
    "aduptioner adoptioner\n",
    "aeff AF\n",
    "aelless ALS\n",
    "aenddeesstrategin ANDTS-strategin\n",
    "aettaffisch A1-affisch\n",
    "aendete ANDT\n",
    "aendeteanvändandet ANDT-användandet\n",
    "aendeteessfrågorna ANDTS-frågorna\n",
    "aendeteesspolitiken ANDTS-politiken\n",
    "aendeteessstrategin ANDTS-strategin\n",
    "aendetefrågan ANDT-frågan\n",
    "aendetefrågor ANDT-frågor\n",
    "aendeteområdet ANDT-området\n",
    "aendetessområdet ANDTS-området\n",
    "aendetesspolitiskt ANDTS-politiskt\n",
    "aendetesstrategi ANDTS-strategi\n",
    "aendetestrategi ANDT-strategi\n",
    "aendetestrategin ANDT-strategin\n",
    "rutavdraget RUT-avdraget\n",
    "sahäll Sahel\n",
    "akim Aqim\n",
    "alkaida_relaterade al-Qaida-relaterade\n",
    "libien Libyen\n",
    "malie Mali\n",
    "kunskapoc kunskap_och\n",
    "\"\"\"\n",
    "def get_subs():\n",
    "    subs = {}\n",
    "    for l in _SUBS.split(\"\\n\"):\n",
    "        if l.strip() == \"\":\n",
    "            continue\n",
    "        p = l.strip().split(\" \")\n",
    "        if not p[0] in subs:\n",
    "            subs[p[0]] = []\n",
    "        for part in p[1:]:\n",
    "            subs[p[0]].append(part)\n",
    "    return subs"
   ]
  },
  {
   "cell_type": "code",
   "execution_count": 62,
   "metadata": {},
   "outputs": [],
   "source": [
    "SUBS = get_subs()"
   ]
  },
  {
   "cell_type": "code",
   "execution_count": 45,
   "metadata": {},
   "outputs": [],
   "source": [
    "def is_subst(a, b):\n",
    "    if a in SUBS:\n",
    "        if b in SUBS[a]:\n",
    "            return True\n",
    "    return False"
   ]
  },
  {
   "cell_type": "code",
   "execution_count": 46,
   "metadata": {},
   "outputs": [
    {
     "data": {
      "text/plain": [
       "True"
      ]
     },
     "execution_count": 46,
     "metadata": {},
     "output_type": "execute_result"
    }
   ],
   "source": [
    "is_subst(\"male\", \"Mali\")"
   ]
  },
  {
   "cell_type": "code",
   "execution_count": 64,
   "metadata": {},
   "outputs": [
    {
     "name": "stdout",
     "output_type": "stream",
     "text": [
      "Collecting more-itertools\n",
      "  Downloading more_itertools-10.2.0-py3-none-any.whl.metadata (34 kB)\n",
      "Downloading more_itertools-10.2.0-py3-none-any.whl (57 kB)\n",
      "\u001b[2K   \u001b[90m━━━━━━━━━━━━━━━━━━━━━━━━━━━━━━━━━━━━━━━━\u001b[0m \u001b[32m57.0/57.0 kB\u001b[0m \u001b[31m3.2 MB/s\u001b[0m eta \u001b[36m0:00:00\u001b[0m\n",
      "\u001b[?25hInstalling collected packages: more-itertools\n",
      "Successfully installed more-itertools-10.2.0\n",
      "Note: you may need to restart the kernel to use updated packages.\n"
     ]
    }
   ],
   "source": [
    "%pip install more-itertools\n"
   ]
  },
  {
   "cell_type": "code",
   "execution_count": 65,
   "metadata": {},
   "outputs": [],
   "source": [
    "import more_itertools"
   ]
  },
  {
   "cell_type": "code",
   "execution_count": 68,
   "metadata": {},
   "outputs": [
    {
     "name": "stdout",
     "output_type": "stream",
     "text": [
      "('2442207150019781021 1 43.44 0.02 k 1.0 Jag sub', '2442207150019781021 1 49.04 0.42 härtalman 1.0 yrkar sub')\n",
      "('2442207150019781021 1 49.04 0.42 härtalman 1.0 yrkar sub', '2442207150019781021 1 50.2 0.059 jag 1.0 bifall sub')\n",
      "('2442207150019781021 1 50.2 0.059 jag 1.0 bifall sub', '2442207150019781021 1 50.34 0.379 bifaller 1.0 till sub')\n",
      "('2442207150019781021 1 50.34 0.379 bifaller 1.0 till sub', '2442207150019781021 1 50.78 0.659 reservationen. 1.0 reservationen. cor')\n",
      "('2442207150019781021 1 50.78 0.659 reservationen. 1.0 reservationen. cor', '2442207150019781021 1 52.76 0.06 På 1.0 På cor')\n"
     ]
    }
   ],
   "source": [
    "for pair in more_itertools.windowed(testing[0:6], 2):\n",
    "    print(pair)"
   ]
  },
  {
   "cell_type": "code",
   "execution_count": 89,
   "metadata": {},
   "outputs": [],
   "source": [
    "def partition(lines):\n",
    "    def has_final(line):\n",
    "        FINAL = \".!?\"\n",
    "        parts = line.strip().split(\" \")\n",
    "        piece = parts[6]\n",
    "        if piece.endswith('\"'):\n",
    "            piece = piece[:-1]\n",
    "        return piece[-1:] in FINAL\n",
    "    \n",
    "    def is_capital(line):\n",
    "        parts = line.strip().split(\" \")\n",
    "        piece = parts[6]\n",
    "        return piece[0:1].isupper()\n",
    "    \n",
    "    def splittable(a, b):\n",
    "        return has_final(a) and is_capital(b)\n",
    "\n",
    "    sentences = []\n",
    "    current = []\n",
    "    last_mod = \"\"\n",
    "\n",
    "    for pair in more_itertools.windowed(lines + [\"END\"], 2):\n",
    "        first = pair[0]\n",
    "        second = pair[1]\n",
    "        if last_mod != \"\":\n",
    "            second = last_mod\n",
    "        last_mod = \"\"\n",
    "        \n",
    "        if second == \"END\":\n",
    "            current.append(first)\n",
    "            sentences.append(current[:])\n",
    "        else:\n",
    "            mod = modify_pairs(first, second)\n",
    "            if mod is not None:\n",
    "                first = mod[0]\n",
    "                second = mod[1]\n",
    "                last_mod = second\n",
    "            elif splittable(first, second):\n",
    "                current.append(first)\n",
    "                sentences.append(current[:])\n",
    "                current = []\n",
    "            else:\n",
    "                current.append(first)\n",
    "    return sentences"
   ]
  },
  {
   "cell_type": "code",
   "execution_count": 90,
   "metadata": {},
   "outputs": [],
   "source": [
    "parting = partition(testing)"
   ]
  },
  {
   "cell_type": "code",
   "execution_count": 93,
   "metadata": {},
   "outputs": [
    {
     "data": {
      "text/plain": [
       "['2442207150019781021 1 43.44 0.02 k 1.0 Jag sub',\n",
       " '2442207150019781021 1 49.04 0.42 härtalman 1.0 yrkar sub',\n",
       " '2442207150019781021 1 50.2 0.059 jag 1.0 bifall sub',\n",
       " '2442207150019781021 1 50.34 0.379 bifaller 1.0 till sub',\n",
       " '2442207150019781021 1 50.78 0.659 reservationen. 1.0 reservationen. cor']"
      ]
     },
     "execution_count": 93,
     "metadata": {},
     "output_type": "execute_result"
    }
   ],
   "source": [
    "ttt = parting[0]\n",
    "ttt"
   ]
  },
  {
   "cell_type": "code",
   "execution_count": 102,
   "metadata": {},
   "outputs": [],
   "source": [
    "def sentence_correctness(sentence):\n",
    "    length = len(sentence)\n",
    "    score = 0\n",
    "    for word in sentence:\n",
    "        parts = word.split(\" \")\n",
    "        if parts[-1].startswith(\"cor\"):\n",
    "            score += 1\n",
    "    return score / length"
   ]
  },
  {
   "cell_type": "code",
   "execution_count": 107,
   "metadata": {},
   "outputs": [
    {
     "data": {
      "text/plain": [
       "1.0"
      ]
     },
     "execution_count": 107,
     "metadata": {},
     "output_type": "execute_result"
    }
   ],
   "source": [
    "sentence_correctness(parting[4])"
   ]
  },
  {
   "cell_type": "code",
   "execution_count": 114,
   "metadata": {},
   "outputs": [
    {
     "data": {
      "text/plain": [
       "['2442207150019781021 1 207.8 0.339 Mali 1.0 Mali cor',\n",
       " '2442207150019781021 1 208.54 0.08 har 1.0 har cor',\n",
       " '2442207150019781021 1 208.7 0.38 drabbats 1.0 drabbats cor',\n",
       " '2442207150019781021 1 209.079 0.0 <eps> 1.0 hårt. del']"
      ]
     },
     "execution_count": 114,
     "metadata": {},
     "output_type": "execute_result"
    }
   ],
   "source": [
    "parting[25]"
   ]
  },
  {
   "cell_type": "code",
   "execution_count": 115,
   "metadata": {},
   "outputs": [
    {
     "data": {
      "text/plain": [
       "['2442207150019781021 1 209.079 0.0 <eps> 1.0 Mali del',\n",
       " '2442207150019781021 1 209.12 0.259 hårt 1.0 är sub',\n",
       " '2442207150019781021 1 209.48 0.219 mali 1.0 också sub',\n",
       " '2442207150019781021 1 209.8 0.099 ett 1.0 ett cor',\n",
       " '2442207150019781021 1 209.96 0.199 land 1.0 land cor',\n",
       " '2442207150019781021 1 210.22 0.08 som 1.0 som cor',\n",
       " '2442207150019781021 1 210.38 0.14 också 1.0 <eps> ins',\n",
       " '2442207150019781021 1 210.6 0.64 utrikesutskottet 1.0 utrikesutskottet cor',\n",
       " '2442207150019781021 1 211.239 0.0 <eps> 1.0 har del',\n",
       " '2442207150019781021 1 211.32 0.12 haft 1.0 haft cor',\n",
       " '2442207150019781021 1 211.48 0.36 möjlighet 1.0 möjlighet cor',\n",
       " '2442207150019781021 1 211.92 0.1 att 1.0 att cor',\n",
       " '2442207150019781021 1 212.08 0.519 besöka 1.0 besöka cor',\n",
       " '2442207150019781021 1 212.92 0.16 under 1.0 under cor',\n",
       " '2442207150019781021 1 213.14 0.08 en 1.0 en cor',\n",
       " '2442207150019781021 1 213.26 0.06 av 1.0 av cor',\n",
       " '2442207150019781021 1 213.4 0.239 sina 1.0 sina cor',\n",
       " '2442207150019781021 1 214.44 0.36 formella 1.0 formella cor',\n",
       " '2442207150019781021 1 214.88 0.379 resor. 1.0 resor. cor']"
      ]
     },
     "execution_count": 115,
     "metadata": {},
     "output_type": "execute_result"
    }
   ],
   "source": [
    "parting[26]"
   ]
  },
  {
   "cell_type": "code",
   "execution_count": 117,
   "metadata": {},
   "outputs": [
    {
     "data": {
      "text/plain": [
       "['2442207150019781021 1 227.62 0.039 Vi 1.0 Vi cor',\n",
       " '2442207150019781021 1 227.8 0.639 socialdemokrater 1.0 socialdemokrater cor',\n",
       " '2442207150019781021 1 228.5 0.08 ser 1.0 ser cor',\n",
       " '2442207150019781021 1 228.62 0.06 det 1.0 det cor',\n",
       " '2442207150019781021 1 228.72 0.06 som 1.0 som cor',\n",
       " '2442207150019781021 1 228.82 0.06 en 1.0 en cor',\n",
       " '2442207150019781021 1 229.0 0.819 förutsättning 1.0 förutsättning cor',\n",
       " '2442207150019781021 1 229.86 0.099 att 1.0 att cor',\n",
       " '2442207150019781021 1 229.98 0.06 det 1.0 det cor',\n",
       " '2442207150019781021 1 230.08 0.159 finns 1.0 finns cor',\n",
       " '2442207150019781021 1 230.28 0.06 en 1.0 en cor',\n",
       " '2442207150019781021 1 230.44 0.36 bred 1.0 bred cor',\n",
       " '2442207150019781021 1 230.88 0.48 majoritet 1.0 majoritet cor',\n",
       " '2442207150019781021 1 231.42 0.02 i 1.0 när sub',\n",
       " '2442207150019781021 1 231.52 0.319 kammaren 1.0 kammaren cor',\n",
       " '2442207150019781021 1 231.88 0.08 för 1.0 <eps> ins',\n",
       " '2442207150019781021 1 231.98 0.12 att 1.0 <eps> ins',\n",
       " '2442207150019781021 1 232.12 0.06 ta 1.0 <eps> ins',\n",
       " '2442207150019781021 1 232.3 0.099 den 1.0 tar sub',\n",
       " '2442207150019781021 1 232.46 0.079 här 1.0 denna sub',\n",
       " '2442207150019781021 1 232.66 0.24 arten 1.0 art sub',\n",
       " '2442207150019781021 1 232.94 0.06 av 1.0 av cor',\n",
       " '2442207150019781021 1 233.0 0.0 <eps> 1.0 beslut, del',\n",
       " '2442207150019781021 1 233.04 0.4 beslut 1.0 och sub',\n",
       " '2442207150019781021 1 234.08 0.039 de 1.0 det sub',\n",
       " '2442207150019781021 1 234.26 0.26 finns 1.0 finns cor',\n",
       " '2442207150019781021 1 234.519 0.0 <eps> 1.0 det del',\n",
       " '2442207150019781021 1 234.58 0.239 också. 1.0 också. cor']"
      ]
     },
     "execution_count": 117,
     "metadata": {},
     "output_type": "execute_result"
    }
   ],
   "source": [
    "parting[28]"
   ]
  },
  {
   "cell_type": "code",
   "execution_count": 118,
   "metadata": {},
   "outputs": [],
   "source": [
    "def find_terror_segs(segments):\n",
    "    terror = []\n",
    "    def ismatch(word):\n",
    "        return \"terror\" in word or \"teror\" in word\n",
    "\n",
    "    for segment in segments:\n",
    "        for line in segment:\n",
    "            parts = line.split(\" \")\n",
    "            if ismatch(parts[4]) or ismatch(parts[6].lower()):\n",
    "                terror.append(segment)\n",
    "    return terror\n",
    "            "
   ]
  },
  {
   "cell_type": "code",
   "execution_count": 120,
   "metadata": {},
   "outputs": [],
   "source": [
    "tsegs = find_terror_segs(parting)"
   ]
  },
  {
   "cell_type": "code",
   "execution_count": 121,
   "metadata": {},
   "outputs": [
    {
     "data": {
      "text/plain": [
       "9"
      ]
     },
     "execution_count": 121,
     "metadata": {},
     "output_type": "execute_result"
    }
   ],
   "source": [
    "len(tsegs)"
   ]
  },
  {
   "cell_type": "code",
   "execution_count": null,
   "metadata": {},
   "outputs": [],
   "source": [
    "tsegs"
   ]
  },
  {
   "cell_type": "code",
   "execution_count": null,
   "metadata": {},
   "outputs": [],
   "source": [
    "OUTPATH = Path(\"/tmp/outfiles\")\n",
    "for file in files:\n",
    "    OUTFILE = OUTPATH / file.stem\n",
    "    with open(OUTFILE, \"w\") as outputfile:\n",
    "        pass\n",
    "    "
   ]
  }
 ],
 "metadata": {
  "kernelspec": {
   "display_name": "phonemizer",
   "language": "python",
   "name": "python3"
  },
  "language_info": {
   "codemirror_mode": {
    "name": "ipython",
    "version": 3
   },
   "file_extension": ".py",
   "mimetype": "text/x-python",
   "name": "python",
   "nbconvert_exporter": "python",
   "pygments_lexer": "ipython3",
   "version": "3.11.7"
  }
 },
 "nbformat": 4,
 "nbformat_minor": 2
}
