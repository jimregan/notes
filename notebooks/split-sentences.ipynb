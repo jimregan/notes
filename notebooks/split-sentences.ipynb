{
 "cells": [
  {
   "cell_type": "code",
   "execution_count": 1,
   "metadata": {},
   "outputs": [],
   "source": [
    "from pathlib import Path\n",
    "\n",
    "BASE = Path(\"/Users/joregan/Playing/rd_ctm_edit\")"
   ]
  },
  {
   "cell_type": "code",
   "execution_count": 11,
   "metadata": {},
   "outputs": [],
   "source": [
    "files = []\n",
    "with open(\"/tmp/terror-files\") as terrorf:\n",
    "    for ff in terrorf.readlines():\n",
    "        files.append(ff.strip())"
   ]
  },
  {
   "cell_type": "code",
   "execution_count": 50,
   "metadata": {},
   "outputs": [],
   "source": [
    "def tidy(word, lc=True):\n",
    "    if word[0:1] == '\"':\n",
    "        word = word[1:]\n",
    "    if word[-1:] == '\"':\n",
    "        word = word[:-1]\n",
    "    if word[-1:] in \".!?,;-\":\n",
    "        word = word[:-1]\n",
    "    if lc:\n",
    "        return word.lower()\n",
    "    else:\n",
    "        return word"
   ]
  },
  {
   "cell_type": "code",
   "execution_count": 20,
   "metadata": {},
   "outputs": [
    {
     "name": "stdout",
     "output_type": "stream",
     "text": [
      "0.8571428571428571\n",
      "0.75\n",
      "0.9333333333333333\n"
     ]
    }
   ],
   "source": [
    "import difflib\n",
    "\n",
    "a = \"afkanistan\"\n",
    "b = \"Afghanistan.\"\n",
    "def ratio(a, b):\n",
    "    return difflib.SequenceMatcher(None, a, tidy(b)).ratio()\n",
    "\n",
    "print(ratio(a, b))\n",
    "print(ratio(\"male\", \"Mali\"))\n",
    "print(ratio(\"normader\", \"Nomader\"))"
   ]
  },
  {
   "cell_type": "code",
   "execution_count": 22,
   "metadata": {},
   "outputs": [],
   "source": [
    "def slurp(filename):\n",
    "    lines = []\n",
    "    with open(filename) as infile:\n",
    "        for line in infile.readlines():\n",
    "            lines.append(line.strip())\n",
    "    return lines"
   ]
  },
  {
   "cell_type": "code",
   "execution_count": 23,
   "metadata": {},
   "outputs": [],
   "source": [
    "testing = slurp(\"/Users/joregan/Playing/rd_ctm_edit/H001UFöU4\")"
   ]
  },
  {
   "cell_type": "code",
   "execution_count": 24,
   "metadata": {},
   "outputs": [
    {
     "data": {
      "text/plain": [
       "['2442207150019781021 1 43.44 0.02 k 1.0 Jag sub',\n",
       " '2442207150019781021 1 49.04 0.42 härtalman 1.0 yrkar sub',\n",
       " '2442207150019781021 1 50.2 0.059 jag 1.0 bifall sub',\n",
       " '2442207150019781021 1 50.34 0.379 bifaller 1.0 till sub',\n",
       " '2442207150019781021 1 50.78 0.659 reservationen. 1.0 reservationen. cor']"
      ]
     },
     "execution_count": 24,
     "metadata": {},
     "output_type": "execute_result"
    }
   ],
   "source": [
    "testing[0:5]"
   ]
  },
  {
   "cell_type": "code",
   "execution_count": 25,
   "metadata": {},
   "outputs": [],
   "source": [
    "CONJ = [\"och\", \"men\"]"
   ]
  },
  {
   "cell_type": "code",
   "execution_count": 151,
   "metadata": {},
   "outputs": [],
   "source": [
    "def modify_pairs(sent_a, sent_b):\n",
    "    def get_start_dur(sent_a, sent_b):\n",
    "        start = sent_a[2]\n",
    "        a_start = float(sent_a[2])\n",
    "        a_dur = float(sent_a[3])\n",
    "        b_start = float(sent_b[2])\n",
    "        b_dur = float(sent_b[3])\n",
    "        b_end = b_start + b_dur\n",
    "        new_dur = b_end - a_start\n",
    "        return start, \"{:.3f}\".format(new_dur)\n",
    "\n",
    "    a = sent_a.split(\" \")\n",
    "    b = sent_b.split(\" \")\n",
    "\n",
    "    changed = False\n",
    "\n",
    "    if a[4] == tidy(b[6]) or is_subst(a[4], tidy(b[6], False)):\n",
    "        if a[6] == \"<eps>\":\n",
    "            changed = True\n",
    "            a[4] = a[6] = b[6]\n",
    "            b[6] = \"<eps>\"\n",
    "            a[7] = \"cor\"\n",
    "            b[7] = \"ins\"\n",
    "        if b[4] in CONJ:\n",
    "            b[7] = \"ins-conj\"\n",
    "    elif a[4] == \"<eps>\":\n",
    "        if a[6] + b[6] == b[4]:\n",
    "            changed = True\n",
    "            joined = f\"{a[6]}_{b[6]}\"\n",
    "            b[4] = b[6] = joined\n",
    "            b[7] = \"cor\"\n",
    "            a = []\n",
    "    elif a[4] + b[4] == tidy(a[6]) and b[6] == \"<eps>\":\n",
    "        print(\"a\")\n",
    "        changed = True\n",
    "        start, end = get_start_dur(a, b)\n",
    "        b[4] = b[6] = a[6]\n",
    "        b[7] = \"cor\"\n",
    "        b[2] = start\n",
    "        b[3] = end\n",
    "        a = []\n",
    "    elif a[4] + b[4] == tidy(b[6]) and a[6] == \"<eps>\":\n",
    "        print(\"b\")\n",
    "        changed = True\n",
    "        start, end = get_start_dur(a, b)\n",
    "        b[4] = b[6]\n",
    "        b[7] = \"cor\"\n",
    "        b[2] = start\n",
    "        b[3] = end\n",
    "        a = []\n",
    "    if changed:\n",
    "        return (\" \".join(a), \" \".join(b))\n",
    "    else:\n",
    "        return None"
   ]
  },
  {
   "cell_type": "code",
   "execution_count": 133,
   "metadata": {},
   "outputs": [
    {
     "data": {
      "text/plain": [
       "('2442207150019781021 1 58.4 0.78 invandringspolitiken. 1.0 invandringspolitiken. cor',\n",
       " '2442207150019781021 1 59.9 0.079 men 1.0 <eps> ins-conj')"
      ]
     },
     "execution_count": 133,
     "metadata": {},
     "output_type": "execute_result"
    }
   ],
   "source": [
    "modify_pairs(\"2442207150019781021 1 58.4 0.78 invandringspolitiken 1.0 <eps> ins\",\n",
    "             \"2442207150019781021 1 59.9 0.079 men 1.0 invandringspolitiken. sub\")"
   ]
  },
  {
   "cell_type": "code",
   "execution_count": 134,
   "metadata": {},
   "outputs": [
    {
     "data": {
      "text/plain": [
       "('',\n",
       " '2442207150019781021 1 97.18 0.739 insats_regeringen 1.0 insats_regeringen cor')"
      ]
     },
     "execution_count": 134,
     "metadata": {},
     "output_type": "execute_result"
    }
   ],
   "source": [
    "modify_pairs(\"2442207150019781021 1 97.12 0.0 <eps> 1.0 insats del\",\n",
    "             \"2442207150019781021 1 97.18 0.739 insatsregeringen 1.0 regeringen sub\")"
   ]
  },
  {
   "cell_type": "code",
   "execution_count": 135,
   "metadata": {},
   "outputs": [
    {
     "data": {
      "text/plain": [
       "('2442207150019781021 1 121.18 0.559 Afghanistan. 1.0 Afghanistan. cor',\n",
       " '2442207150019781021 1 122.62 0.079 och 1.0 <eps> ins-conj')"
      ]
     },
     "execution_count": 135,
     "metadata": {},
     "output_type": "execute_result"
    }
   ],
   "source": [
    "modify_pairs(\"2442207150019781021 1 121.18 0.559 afkanistan 1.0 <eps> ins\",\n",
    "\"2442207150019781021 1 122.62 0.079 och 1.0 Afghanistan. sub\")"
   ]
  },
  {
   "cell_type": "code",
   "execution_count": 152,
   "metadata": {},
   "outputs": [
    {
     "name": "stdout",
     "output_type": "stream",
     "text": [
      "b\n"
     ]
    },
    {
     "data": {
      "text/plain": [
       "('', '2442207150019781021 1 121.18 1.519 Afghanistan. 1.0 Afghanistan. cor')"
      ]
     },
     "execution_count": 152,
     "metadata": {},
     "output_type": "execute_result"
    }
   ],
   "source": [
    "modify_pairs(\"2442207150019781021 1 121.18 0.559 af 1.0 <eps> ins\",\n",
    "\"2442207150019781021 1 122.62 0.079 ghanistan 1.0 Afghanistan. sub\")"
   ]
  },
  {
   "cell_type": "code",
   "execution_count": 150,
   "metadata": {},
   "outputs": [],
   "source": [
    "_SUBS = \"\"\"\n",
    "afkanistan Afghanistan\n",
    "maly Mali\n",
    "male Mali\n",
    "övvik Ö-vik\n",
    "abebégymnasiet ABB-gymnasiet\n",
    "abeflygplan A/B-flygplan\n",
    "abefs ABF:s\n",
    "abfs ABF:s\n",
    "abies ABS\n",
    "abieffkurserna ABF-kursern\n",
    "abief ABF\n",
    "aczen Axén\n",
    "adeärrkort ADR-kort\n",
    "adeärr ADR\n",
    "adiellbedömningen ADL-bedömningen\n",
    "adiesselstationer ADSL-stationer\n",
    "adihodepreparaten adhd-preparat\n",
    "adihodemediciner adhd-mediciner\n",
    "adihodeläkemedel adhd-läkemedel\n",
    "adihodedroger adhd-droger\n",
    "aduptioner adoptioner\n",
    "aeff AF\n",
    "aelless ALS\n",
    "aenddeesstrategin ANDTS-strategin\n",
    "aettaffisch A1-affisch\n",
    "aendete ANDT\n",
    "aendeteanvändandet ANDT-användandet\n",
    "aendeteessfrågorna ANDTS-frågorna\n",
    "aendeteesspolitiken ANDTS-politiken\n",
    "aendeteessstrategin ANDTS-strategin\n",
    "aendetefrågan ANDT-frågan\n",
    "aendetefrågor ANDT-frågor\n",
    "aendeteområdet ANDT-området\n",
    "aendetessområdet ANDTS-området\n",
    "aendetesspolitiskt ANDTS-politiskt\n",
    "aendetesstrategi ANDTS-strategi\n",
    "aendetestrategi ANDT-strategi\n",
    "aendetestrategin ANDT-strategin\n",
    "rutavdraget RUT-avdraget\n",
    "sahäll Sahel\n",
    "akim Aqim\n",
    "alkaida_relaterade al-Qaida-relaterade\n",
    "libien Libyen\n",
    "malie Mali\n",
    "kunskapoc kunskap_och\n",
    "adisabeba Addis_Abeba\n",
    "eus EU:s\n",
    "gihadister jihadister\n",
    "\"\"\"\n",
    "def get_subs():\n",
    "    subs = {}\n",
    "    for l in _SUBS.split(\"\\n\"):\n",
    "        if l.strip() == \"\":\n",
    "            continue\n",
    "        p = l.strip().split(\" \")\n",
    "        if not p[0] in subs:\n",
    "            subs[p[0]] = []\n",
    "        for part in p[1:]:\n",
    "            subs[p[0]].append(part)\n",
    "    return subs"
   ]
  },
  {
   "cell_type": "code",
   "execution_count": 148,
   "metadata": {},
   "outputs": [],
   "source": [
    "def modify_single(sentence):\n",
    "    parts = sentence.split(\" \")\n",
    "    if is_subst(parts[4], tidy(parts[6])):\n",
    "        parts[4] = parts[6]\n",
    "        parts[7] = \"cor\"\n",
    "        return \" \".join(parts)\n",
    "    return sentence\n"
   ]
  },
  {
   "cell_type": "code",
   "execution_count": 62,
   "metadata": {},
   "outputs": [],
   "source": [
    "SUBS = get_subs()"
   ]
  },
  {
   "cell_type": "code",
   "execution_count": 45,
   "metadata": {},
   "outputs": [],
   "source": [
    "def is_subst(a, b):\n",
    "    if a in SUBS:\n",
    "        if b in SUBS[a]:\n",
    "            return True\n",
    "    return False"
   ]
  },
  {
   "cell_type": "code",
   "execution_count": 46,
   "metadata": {},
   "outputs": [
    {
     "data": {
      "text/plain": [
       "True"
      ]
     },
     "execution_count": 46,
     "metadata": {},
     "output_type": "execute_result"
    }
   ],
   "source": [
    "is_subst(\"male\", \"Mali\")"
   ]
  },
  {
   "cell_type": "code",
   "execution_count": 64,
   "metadata": {},
   "outputs": [
    {
     "name": "stdout",
     "output_type": "stream",
     "text": [
      "Collecting more-itertools\n",
      "  Downloading more_itertools-10.2.0-py3-none-any.whl.metadata (34 kB)\n",
      "Downloading more_itertools-10.2.0-py3-none-any.whl (57 kB)\n",
      "\u001b[2K   \u001b[90m━━━━━━━━━━━━━━━━━━━━━━━━━━━━━━━━━━━━━━━━\u001b[0m \u001b[32m57.0/57.0 kB\u001b[0m \u001b[31m3.2 MB/s\u001b[0m eta \u001b[36m0:00:00\u001b[0m\n",
      "\u001b[?25hInstalling collected packages: more-itertools\n",
      "Successfully installed more-itertools-10.2.0\n",
      "Note: you may need to restart the kernel to use updated packages.\n"
     ]
    }
   ],
   "source": [
    "%pip install more-itertools\n"
   ]
  },
  {
   "cell_type": "code",
   "execution_count": 65,
   "metadata": {},
   "outputs": [],
   "source": [
    "import more_itertools"
   ]
  },
  {
   "cell_type": "code",
   "execution_count": 68,
   "metadata": {},
   "outputs": [
    {
     "name": "stdout",
     "output_type": "stream",
     "text": [
      "('2442207150019781021 1 43.44 0.02 k 1.0 Jag sub', '2442207150019781021 1 49.04 0.42 härtalman 1.0 yrkar sub')\n",
      "('2442207150019781021 1 49.04 0.42 härtalman 1.0 yrkar sub', '2442207150019781021 1 50.2 0.059 jag 1.0 bifall sub')\n",
      "('2442207150019781021 1 50.2 0.059 jag 1.0 bifall sub', '2442207150019781021 1 50.34 0.379 bifaller 1.0 till sub')\n",
      "('2442207150019781021 1 50.34 0.379 bifaller 1.0 till sub', '2442207150019781021 1 50.78 0.659 reservationen. 1.0 reservationen. cor')\n",
      "('2442207150019781021 1 50.78 0.659 reservationen. 1.0 reservationen. cor', '2442207150019781021 1 52.76 0.06 På 1.0 På cor')\n"
     ]
    }
   ],
   "source": [
    "for pair in more_itertools.windowed(testing[0:6], 2):\n",
    "    print(pair)"
   ]
  },
  {
   "cell_type": "code",
   "execution_count": 149,
   "metadata": {},
   "outputs": [],
   "source": [
    "def partition(lines):\n",
    "    def has_final(line):\n",
    "        FINAL = \".!?\"\n",
    "        parts = line.strip().split(\" \")\n",
    "        piece = parts[6]\n",
    "        if piece.endswith('\"'):\n",
    "            piece = piece[:-1]\n",
    "        return piece[-1:] in FINAL\n",
    "    \n",
    "    def is_capital(line):\n",
    "        parts = line.strip().split(\" \")\n",
    "        piece = parts[6]\n",
    "        return piece[0:1].isupper()\n",
    "    \n",
    "    def splittable(a, b):\n",
    "        return has_final(a) and is_capital(b)\n",
    "\n",
    "    sentences = []\n",
    "    current = []\n",
    "    last_mod = \"\"\n",
    "\n",
    "    for pair in more_itertools.windowed(lines + [\"END\"], 2):\n",
    "        first = modify_single(pair[0])\n",
    "        second = modify_single(pair[1])\n",
    "        if last_mod != \"\":\n",
    "            second = last_mod\n",
    "        last_mod = \"\"\n",
    "        \n",
    "        if second == \"END\":\n",
    "            current.append(first)\n",
    "            sentences.append(current[:])\n",
    "        else:\n",
    "            mod = modify_pairs(first, second)\n",
    "            if mod is not None:\n",
    "                first = mod[0]\n",
    "                second = mod[1]\n",
    "                last_mod = second\n",
    "            elif splittable(first, second):\n",
    "                current.append(first)\n",
    "                sentences.append(current[:])\n",
    "                current = []\n",
    "            else:\n",
    "                current.append(first)\n",
    "    return sentences"
   ]
  },
  {
   "cell_type": "code",
   "execution_count": 90,
   "metadata": {},
   "outputs": [],
   "source": [
    "parting = partition(testing)"
   ]
  },
  {
   "cell_type": "code",
   "execution_count": 93,
   "metadata": {},
   "outputs": [
    {
     "data": {
      "text/plain": [
       "['2442207150019781021 1 43.44 0.02 k 1.0 Jag sub',\n",
       " '2442207150019781021 1 49.04 0.42 härtalman 1.0 yrkar sub',\n",
       " '2442207150019781021 1 50.2 0.059 jag 1.0 bifall sub',\n",
       " '2442207150019781021 1 50.34 0.379 bifaller 1.0 till sub',\n",
       " '2442207150019781021 1 50.78 0.659 reservationen. 1.0 reservationen. cor']"
      ]
     },
     "execution_count": 93,
     "metadata": {},
     "output_type": "execute_result"
    }
   ],
   "source": [
    "ttt = parting[0]\n",
    "ttt"
   ]
  },
  {
   "cell_type": "code",
   "execution_count": 102,
   "metadata": {},
   "outputs": [],
   "source": [
    "def sentence_correctness(sentence):\n",
    "    length = len(sentence)\n",
    "    score = 0\n",
    "    for word in sentence:\n",
    "        parts = word.split(\" \")\n",
    "        if parts[-1].startswith(\"cor\"):\n",
    "            score += 1\n",
    "    return score / length"
   ]
  },
  {
   "cell_type": "code",
   "execution_count": 107,
   "metadata": {},
   "outputs": [
    {
     "data": {
      "text/plain": [
       "1.0"
      ]
     },
     "execution_count": 107,
     "metadata": {},
     "output_type": "execute_result"
    }
   ],
   "source": [
    "sentence_correctness(parting[4])"
   ]
  },
  {
   "cell_type": "code",
   "execution_count": 123,
   "metadata": {},
   "outputs": [
    {
     "data": {
      "text/plain": [
       "['2442207150019781021 1 207.8 0.339 Mali 1.0 Mali cor',\n",
       " '2442207150019781021 1 208.54 0.08 har 1.0 har cor',\n",
       " '2442207150019781021 1 208.7 0.38 drabbats 1.0 drabbats cor',\n",
       " '2442207150019781021 1 209.079 0.0 <eps> 1.0 hårt. del']"
      ]
     },
     "execution_count": 123,
     "metadata": {},
     "output_type": "execute_result"
    }
   ],
   "source": [
    "parting[25]"
   ]
  },
  {
   "cell_type": "code",
   "execution_count": 115,
   "metadata": {},
   "outputs": [
    {
     "data": {
      "text/plain": [
       "['2442207150019781021 1 209.079 0.0 <eps> 1.0 Mali del',\n",
       " '2442207150019781021 1 209.12 0.259 hårt 1.0 är sub',\n",
       " '2442207150019781021 1 209.48 0.219 mali 1.0 också sub',\n",
       " '2442207150019781021 1 209.8 0.099 ett 1.0 ett cor',\n",
       " '2442207150019781021 1 209.96 0.199 land 1.0 land cor',\n",
       " '2442207150019781021 1 210.22 0.08 som 1.0 som cor',\n",
       " '2442207150019781021 1 210.38 0.14 också 1.0 <eps> ins',\n",
       " '2442207150019781021 1 210.6 0.64 utrikesutskottet 1.0 utrikesutskottet cor',\n",
       " '2442207150019781021 1 211.239 0.0 <eps> 1.0 har del',\n",
       " '2442207150019781021 1 211.32 0.12 haft 1.0 haft cor',\n",
       " '2442207150019781021 1 211.48 0.36 möjlighet 1.0 möjlighet cor',\n",
       " '2442207150019781021 1 211.92 0.1 att 1.0 att cor',\n",
       " '2442207150019781021 1 212.08 0.519 besöka 1.0 besöka cor',\n",
       " '2442207150019781021 1 212.92 0.16 under 1.0 under cor',\n",
       " '2442207150019781021 1 213.14 0.08 en 1.0 en cor',\n",
       " '2442207150019781021 1 213.26 0.06 av 1.0 av cor',\n",
       " '2442207150019781021 1 213.4 0.239 sina 1.0 sina cor',\n",
       " '2442207150019781021 1 214.44 0.36 formella 1.0 formella cor',\n",
       " '2442207150019781021 1 214.88 0.379 resor. 1.0 resor. cor']"
      ]
     },
     "execution_count": 115,
     "metadata": {},
     "output_type": "execute_result"
    }
   ],
   "source": [
    "parting[26]"
   ]
  },
  {
   "cell_type": "code",
   "execution_count": 117,
   "metadata": {},
   "outputs": [
    {
     "data": {
      "text/plain": [
       "['2442207150019781021 1 227.62 0.039 Vi 1.0 Vi cor',\n",
       " '2442207150019781021 1 227.8 0.639 socialdemokrater 1.0 socialdemokrater cor',\n",
       " '2442207150019781021 1 228.5 0.08 ser 1.0 ser cor',\n",
       " '2442207150019781021 1 228.62 0.06 det 1.0 det cor',\n",
       " '2442207150019781021 1 228.72 0.06 som 1.0 som cor',\n",
       " '2442207150019781021 1 228.82 0.06 en 1.0 en cor',\n",
       " '2442207150019781021 1 229.0 0.819 förutsättning 1.0 förutsättning cor',\n",
       " '2442207150019781021 1 229.86 0.099 att 1.0 att cor',\n",
       " '2442207150019781021 1 229.98 0.06 det 1.0 det cor',\n",
       " '2442207150019781021 1 230.08 0.159 finns 1.0 finns cor',\n",
       " '2442207150019781021 1 230.28 0.06 en 1.0 en cor',\n",
       " '2442207150019781021 1 230.44 0.36 bred 1.0 bred cor',\n",
       " '2442207150019781021 1 230.88 0.48 majoritet 1.0 majoritet cor',\n",
       " '2442207150019781021 1 231.42 0.02 i 1.0 när sub',\n",
       " '2442207150019781021 1 231.52 0.319 kammaren 1.0 kammaren cor',\n",
       " '2442207150019781021 1 231.88 0.08 för 1.0 <eps> ins',\n",
       " '2442207150019781021 1 231.98 0.12 att 1.0 <eps> ins',\n",
       " '2442207150019781021 1 232.12 0.06 ta 1.0 <eps> ins',\n",
       " '2442207150019781021 1 232.3 0.099 den 1.0 tar sub',\n",
       " '2442207150019781021 1 232.46 0.079 här 1.0 denna sub',\n",
       " '2442207150019781021 1 232.66 0.24 arten 1.0 art sub',\n",
       " '2442207150019781021 1 232.94 0.06 av 1.0 av cor',\n",
       " '2442207150019781021 1 233.0 0.0 <eps> 1.0 beslut, del',\n",
       " '2442207150019781021 1 233.04 0.4 beslut 1.0 och sub',\n",
       " '2442207150019781021 1 234.08 0.039 de 1.0 det sub',\n",
       " '2442207150019781021 1 234.26 0.26 finns 1.0 finns cor',\n",
       " '2442207150019781021 1 234.519 0.0 <eps> 1.0 det del',\n",
       " '2442207150019781021 1 234.58 0.239 också. 1.0 också. cor']"
      ]
     },
     "execution_count": 117,
     "metadata": {},
     "output_type": "execute_result"
    }
   ],
   "source": [
    "parting[28]"
   ]
  },
  {
   "cell_type": "code",
   "execution_count": 118,
   "metadata": {},
   "outputs": [],
   "source": [
    "def find_terror_segs(segments):\n",
    "    terror = []\n",
    "    def ismatch(word):\n",
    "        return \"terror\" in word or \"teror\" in word\n",
    "\n",
    "    for segment in segments:\n",
    "        for line in segment:\n",
    "            parts = line.split(\" \")\n",
    "            if ismatch(parts[4]) or ismatch(parts[6].lower()):\n",
    "                terror.append(segment)\n",
    "    return terror\n",
    "            "
   ]
  },
  {
   "cell_type": "code",
   "execution_count": 120,
   "metadata": {},
   "outputs": [],
   "source": [
    "tsegs = find_terror_segs(parting)"
   ]
  },
  {
   "cell_type": "code",
   "execution_count": 121,
   "metadata": {},
   "outputs": [
    {
     "data": {
      "text/plain": [
       "9"
      ]
     },
     "execution_count": 121,
     "metadata": {},
     "output_type": "execute_result"
    }
   ],
   "source": [
    "len(tsegs)"
   ]
  },
  {
   "cell_type": "code",
   "execution_count": 124,
   "metadata": {},
   "outputs": [
    {
     "data": {
      "text/plain": [
       "[['2442207150019781021 1 305.86 0.439 malisk 1.0 Malis sub',\n",
       "  '2442207150019781021 1 306.48 0.74 suveränitet, 1.0 suveränitet, cor',\n",
       "  '2442207150019781021 1 307.36 0.36 enhet 1.0 enhet cor',\n",
       "  '2442207150019781021 1 307.76 0.079 och 1.0 och cor',\n",
       "  '2442207150019781021 1 307.9 0.66 terrortuella 1.0 territoriella sub',\n",
       "  '2442207150019781021 1 308.72 0.5 integritet 1.0 integritet cor',\n",
       "  '2442207150019781021 1 309.6 0.259 var 1.0 var cor',\n",
       "  '2442207150019781021 1 310.02 0.4 uppenbart 1.0 uppenbart cor',\n",
       "  '2442207150019781021 1 310.48 0.339 hotad 1.0 hotad cor',\n",
       "  '2442207150019781021 1 311.16 0.159 efter 1.0 efter cor',\n",
       "  '2442207150019781021 1 311.34 0.1 att 1.0 att cor',\n",
       "  '2442207150019781021 1 311.48 0.56 islamisterna 1.0 islamister sub',\n",
       "  '2442207150019781021 1 312.1 0.319 intagit 1.0 intagit cor',\n",
       "  '2442207150019781021 1 312.48 0.299 stora 1.0 stora cor',\n",
       "  '2442207150019781021 1 312.88 0.259 delar 1.0 delar cor',\n",
       "  '2442207150019781021 1 313.22 0.059 av 1.0 av cor',\n",
       "  '2442207150019781021 1 313.38 0.439 maliskt 1.0 Malis sub',\n",
       "  '2442207150019781021 1 313.88 0.62 territorium. 1.0 territorium. cor'],\n",
       " ['2442207150019781021 1 453.42 0.12 Dock 1.0 Dock cor',\n",
       "  '2442207150019781021 1 453.58 0.08 bör 1.0 bör cor',\n",
       "  '2442207150019781021 1 453.7 0.06 det 1.0 det cor',\n",
       "  '2442207150019781021 1 453.8 0.439 poängteras 1.0 poängteras cor',\n",
       "  '2442207150019781021 1 454.26 0.1 att 1.0 att cor',\n",
       "  '2442207150019781021 1 454.44 0.62 islamisternas 1.0 islamisternas cor',\n",
       "  '2442207150019781021 1 455.18 0.279 intåg 1.0 intåg cor',\n",
       "  '2442207150019781021 1 455.54 0.019 i 1.0 i cor',\n",
       "  '2442207150019781021 1 455.64 0.24 norra 1.0 norra cor',\n",
       "  '2442207150019781021 1 455.98 0.299 Mali 1.0 Mali cor',\n",
       "  '2442207150019781021 1 456.66 0.56 tidigt 1.0 tidigt cor',\n",
       "  '2442207150019781021 1 457.34 0.3 möttes 1.0 möttes cor',\n",
       "  '2442207150019781021 1 457.68 0.06 av 1.0 av cor',\n",
       "  '2442207150019781021 1 457.78 0.54 protester 1.0 protester cor',\n",
       "  '2442207150019781021 1 458.72 0.159 inte 1.0 inte cor',\n",
       "  '2442207150019781021 1 458.94 0.18 minst 1.0 minst cor',\n",
       "  '2442207150019781021 1 459.18 0.199 bland 1.0 bland cor',\n",
       "  '2442207150019781021 1 460.5 0.339 självt 1.0 lokalbefolkningen. sub',\n",
       "  '2442207150019781021 1 462.1 0.659 Terroristgrupperna 1.0 Terroristgrupperna cor',\n",
       "  '2442207150019781021 1 462.84 0.02 i 1.0 i cor',\n",
       "  '2442207150019781021 1 462.92 0.159 norra 1.0 norra cor',\n",
       "  '2442207150019781021 1 463.14 0.199 maly 1.0 Mali sub',\n",
       "  '2442207150019781021 1 463.4 0.16 kunde 1.0 kunde cor',\n",
       "  '2442207150019781021 1 463.6 0.279 pressas 1.0 pressas cor',\n",
       "  '2442207150019781021 1 463.92 0.419 tillbaka, 1.0 tillbaka, cor',\n",
       "  '2442207150019781021 1 464.5 0.079 och 1.0 och cor',\n",
       "  '2442207150019781021 1 464.64 0.72 företrädare 1.0 företrädare cor',\n",
       "  '2442207150019781021 1 465.46 0.08 för 1.0 för cor',\n",
       "  '2442207150019781021 1 465.6 0.259 landet 1.0 landet cor',\n",
       "  '2442207150019781021 1 465.9 0.06 har 1.0 har cor',\n",
       "  '2442207150019781021 1 466.04 0.379 framfört 1.0 framfört cor',\n",
       "  '2442207150019781021 1 466.46 0.12 sitt 1.0 sitt cor',\n",
       "  '2442207150019781021 1 466.6 0.239 takt 1.0 tack sub',\n",
       "  '2442207150019781021 1 466.86 0.139 till 1.0 till cor',\n",
       "  '2442207150019781021 1 467.04 0.459 Frankrike 1.0 Frankrike cor',\n",
       "  '2442207150019781021 1 467.96 0.08 och 1.0 och cor',\n",
       "  '2442207150019781021 1 468.08 0.66 välkomna 1.0 välkomnar sub',\n",
       "  '2442207150019781021 1 468.82 0.079 det 1.0 det cor',\n",
       "  '2442207150019781021 1 468.899 0.0 <eps> 1.0 beslut del',\n",
       "  '2442207150019781021 1 468.94 0.399 beslutet 1.0 som sub',\n",
       "  '2442207150019781021 1 469.42 0.039 vi 1.0 vi cor',\n",
       "  '2442207150019781021 1 469.68 0.18 kommer 1.0 kommer cor',\n",
       "  '2442207150019781021 1 469.92 0.12 till 1.0 <eps> ins',\n",
       "  '2442207150019781021 1 470.1 0.12 att 1.0 att cor',\n",
       "  '2442207150019781021 1 470.28 0.2 fatta 1.0 fatta cor',\n",
       "  '2442207150019781021 1 470.58 0.16 här 1.0 här cor',\n",
       "  '2442207150019781021 1 470.84 0.02 i 1.0 i cor',\n",
       "  '2442207150019781021 1 470.92 0.12 dag. 1.0 dag. cor'],\n",
       " ['2442207150019781021 1 533.36 0.159 Under 1.0 Under cor',\n",
       "  '2442207150019781021 1 533.58 0.479 perioden 1.0 perioden cor',\n",
       "  '2442207150019781021 1 534.1 0.439 tvåtusen 1.0 <eps> ins',\n",
       "  '2442207150019781021 1 534.6 0.12 ett 1.0 <eps> ins',\n",
       "  '2442207150019781021 1 534.74 0.08 oh 1.0 <eps> ins',\n",
       "  '2442207150019781021 1 534.84 0.379 tvåtusen 1.0 <eps> ins',\n",
       "  '2442207150019781021 1 535.28 0.16 elva 1.0 2001-2011 sub',\n",
       "  '2442207150019781021 1 535.56 0.18 ägde 1.0 ägde cor',\n",
       "  '2442207150019781021 1 535.82 0.379 totalt 1.0 totalt cor',\n",
       "  '2442207150019781021 1 536.26 0.18 sett 1.0 sett cor',\n",
       "  '2442207150019781021 1 536.76 0.46 etttusen 1.0 1 sub',\n",
       "  '2442207150019781021 1 537.28 0.62 trettiofyra 1.0 034 sub',\n",
       "  '2442207150019781021 1 538.04 0.92 terroristincidenter 1.0 terroristincidenter cor',\n",
       "  '2442207150019781021 1 539.02 0.159 rum 1.0 rum cor',\n",
       "  '2442207150019781021 1 539.3 0.02 i 1.0 i cor',\n",
       "  '2442207150019781021 1 539.319 0.0 <eps> 1.0 Algeriet, del',\n",
       "  '2442207150019781021 1 539.46 0.5 algeriet 1.0 Mali, sub',\n",
       "  '2442207150019781021 1 540.02 0.659 malinigir 1.0 Niger sub',\n",
       "  '2442207150019781021 1 540.72 0.059 och 1.0 och cor',\n",
       "  '2442207150019781021 1 540.779 0.0 <eps> 1.0 Mauretanien. del'],\n",
       " ['2442207150019781021 1 544.82 0.419 Bryts 1.0 Bryts cor',\n",
       "  '2442207150019781021 1 545.3 0.28 dessa 1.0 dessa cor',\n",
       "  '2442207150019781021 1 545.78 0.6 incidenter 1.0 incidenter cor',\n",
       "  '2442207150019781021 1 546.52 0.139 ner 1.0 <eps> ins',\n",
       "  '2442207150019781021 1 546.7 0.139 till 1.0 <eps> ins',\n",
       "  '2442207150019781021 1 546.9 0.42 åsvisa 1.0 ned sub',\n",
       "  '2442207150019781021 1 547.38 0.06 så 1.0 årsvis sub',\n",
       "  '2442207150019781021 1 547.46 0.039 är 1.0 är cor',\n",
       "  '2442207150019781021 1 547.52 0.08 det 1.0 det cor',\n",
       "  '2442207150019781021 1 547.68 0.4 uppenbart 1.0 uppenbart cor',\n",
       "  '2442207150019781021 1 548.12 0.08 att 1.0 att cor',\n",
       "  '2442207150019781021 1 548.24 0.399 terrorismen 1.0 terrorismen cor',\n",
       "  '2442207150019781021 1 548.639 0.0 <eps> 1.0 har del',\n",
       "  '2442207150019781021 1 548.72 0.199 blivit 1.0 blivit cor',\n",
       "  '2442207150019781021 1 548.96 0.099 ett 1.0 ett cor',\n",
       "  '2442207150019781021 1 549.1 0.559 tilltagande 1.0 tilltagande cor',\n",
       "  '2442207150019781021 1 549.72 0.319 problem 1.0 problem cor',\n",
       "  '2442207150019781021 1 550.1 0.019 i 1.0 i cor',\n",
       "  '2442207150019781021 1 550.18 0.36 sahell 1.0 Sahel, sub',\n",
       "  '2442207150019781021 1 550.88 0.039 då 1.0 då cor',\n",
       "  '2442207150019781021 1 551.0 0.059 det 1.0 det cor',\n",
       "  '2442207150019781021 1 551.14 0.279 första 1.0 första cor',\n",
       "  '2442207150019781021 1 551.5 0.5 attentatet 1.0 attentatet cor',\n",
       "  '2442207150019781021 1 552.08 0.579 inträffade 1.0 inträffade cor',\n",
       "  '2442207150019781021 1 553.04 0.28 först 1.0 först cor',\n",
       "  '2442207150019781021 1 553.42 0.259 efter 1.0 efter cor',\n",
       "  '2442207150019781021 1 553.679 0.0 <eps> 1.0 det del',\n",
       "  '2442207150019781021 1 553.74 0.059 då 1.0 att sub',\n",
       "  '2442207150019781021 1 554.34 0.279 akim 1.0 Aqim sub',\n",
       "  '2442207150019781021 1 554.72 0.399 startades 1.0 startades cor',\n",
       "  '2442207150019781021 1 555.18 0.44 tvåtusen 1.0 <eps> ins',\n",
       "  '2442207150019781021 1 555.72 0.22 sex 1.0 2006. sub'],\n",
       " ['2442207150019781021 1 1090.9 1.139 Stabiliseringsinsatsen 1.0 Stabiliseringsinsatsen cor',\n",
       "  '2442207150019781021 1 1092.1 0.22 bidrar 1.0 bidrar cor',\n",
       "  '2442207150019781021 1 1092.36 0.14 också 1.0 också cor',\n",
       "  '2442207150019781021 1 1092.54 0.12 till 1.0 till cor',\n",
       "  '2442207150019781021 1 1092.68 0.099 att 1.0 att cor',\n",
       "  '2442207150019781021 1 1092.86 0.24 öka 1.0 öka cor',\n",
       "  '2442207150019781021 1 1093.2 0.659 säkerheten 1.0 säkerheten cor',\n",
       "  '2442207150019781021 1 1094.02 0.019 i 1.0 i cor',\n",
       "  '2442207150019781021 1 1094.16 0.319 hela 1.0 hela cor',\n",
       "  '2442207150019781021 1 1094.76 1.039 sahellregionen 1.0 Sahelregionen sub',\n",
       "  '2442207150019781021 1 1096.34 0.18 genom 1.0 genom cor',\n",
       "  '2442207150019781021 1 1096.56 0.1 att 1.0 att cor',\n",
       "  '2442207150019781021 1 1096.76 0.539 undanröja 1.0 undanröja cor',\n",
       "  '2442207150019781021 1 1097.4 0.399 hotet 1.0 hotet cor',\n",
       "  '2442207150019781021 1 1097.86 0.14 från 1.0 från cor',\n",
       "  '2442207150019781021 1 1098.06 0.66 terrorister 1.0 terrorister cor',\n",
       "  '2442207150019781021 1 1099.22 0.079 som 1.0 som cor',\n",
       "  '2442207150019781021 1 1099.299 0.0 <eps> 1.0 har del',\n",
       "  '2442207150019781021 1 1099.38 0.159 haft 1.0 haft cor',\n",
       "  '2442207150019781021 1 1099.6 0.16 sina 1.0 sina cor',\n",
       "  '2442207150019781021 1 1099.82 0.519 badser 1.0 baser sub',\n",
       "  '2442207150019781021 1 1100.52 0.22 inte 1.0 inte cor',\n",
       "  '2442207150019781021 1 1100.84 0.22 minst 1.0 minst cor',\n",
       "  '2442207150019781021 1 1101.1 0.019 i 1.0 i cor',\n",
       "  '2442207150019781021 1 1101.18 0.079 den 1.0 den cor',\n",
       "  '2442207150019781021 1 1101.32 0.259 norra 1.0 norra cor',\n",
       "  '2442207150019781021 1 1101.88 0.279 delen 1.0 delen cor',\n",
       "  '2442207150019781021 1 1102.2 0.18 utav 1.0 <eps> ins',\n",
       "  '2442207150019781021 1 1102.42 0.419 landet 1.0 av sub',\n",
       "  '2442207150019781021 1 1104.22 0.099 här 1.0 landet. sub'],\n",
       " ['2442207150019781021 1 1105.88 0.539 Instabila 1.0 Instabila cor',\n",
       "  '2442207150019781021 1 1106.5 0.44 stater 1.0 stater cor',\n",
       "  '2442207150019781021 1 1107.08 0.08 som 1.0 som cor',\n",
       "  '2442207150019781021 1 1107.24 0.14 inte 1.0 inte cor',\n",
       "  '2442207150019781021 1 1107.42 0.079 har 1.0 har cor',\n",
       "  '2442207150019781021 1 1107.56 0.5 kontroll 1.0 kontroll cor',\n",
       "  '2442207150019781021 1 1108.12 0.12 över 1.0 över cor',\n",
       "  '2442207150019781021 1 1108.32 0.14 sitt 1.0 sitt cor',\n",
       "  '2442207150019781021 1 1108.52 0.64 territorium 1.0 territorium cor',\n",
       "  '2442207150019781021 1 1109.62 0.1 kan 1.0 kan cor',\n",
       "  '2442207150019781021 1 1109.8 0.36 användas 1.0 användas cor',\n",
       "  '2442207150019781021 1 1110.2 0.099 som 1.0 som cor',\n",
       "  '2442207150019781021 1 1110.38 0.419 baser 1.0 baser cor',\n",
       "  '2442207150019781021 1 1110.9 0.099 för 1.0 för cor',\n",
       "  '2442207150019781021 1 1111.08 0.62 terrorister 1.0 terrorister cor',\n",
       "  '2442207150019781021 1 1111.8 0.1 som 1.0 som cor',\n",
       "  '2442207150019781021 1 1112.26 0.259 hotar 1.0 hotar cor',\n",
       "  '2442207150019781021 1 1112.62 0.58 säkerheten 1.0 säkerheten cor',\n",
       "  '2442207150019781021 1 1113.28 0.279 såväl 1.0 såväl cor',\n",
       "  '2442207150019781021 1 1113.68 0.519 regionalt 1.0 regionalt cor',\n",
       "  '2442207150019781021 1 1114.3 0.14 som 1.0 som cor',\n",
       "  '2442207150019781021 1 1114.72 0.5 globalt. 1.0 globalt. cor'],\n",
       " ['2442207150019781021 1 1476.72 0.119 Till 1.0 Till cor',\n",
       "  '2442207150019781021 1 1476.86 0.1 det 1.0 det cor',\n",
       "  '2442207150019781021 1 1477.0 0.079 ska 1.0 ska cor',\n",
       "  '2442207150019781021 1 1477.18 0.299 läggas 1.0 läggas cor',\n",
       "  '2442207150019781021 1 1477.62 0.42 olika 1.0 olika cor',\n",
       "  '2442207150019781021 1 1478.42 0.48 beväpnade 1.0 beväpnade cor',\n",
       "  '2442207150019781021 1 1478.98 0.339 grupper, 1.0 grupper, cor',\n",
       "  '2442207150019781021 1 1479.38 0.159 bland 1.0 bland cor',\n",
       "  '2442207150019781021 1 1479.58 0.24 annat 1.0 annat cor',\n",
       "  '2442207150019781021 1 1479.88 0.719 terrorgrupper, 1.0 terrorgrupper, cor',\n",
       "  '2442207150019781021 1 1480.98 0.079 den 1.0 den cor',\n",
       "  '2442207150019781021 1 1481.14 1.0 narkotikasmuggling 1.0 narkotikasmuggling cor',\n",
       "  '2442207150019781021 1 1482.2 0.079 som 1.0 som cor',\n",
       "  '2442207150019781021 1 1482.38 0.199 sedan 1.0 sedan cor',\n",
       "  '2442207150019781021 1 1482.64 0.219 länge 1.0 länge cor',\n",
       "  '2442207150019781021 1 1482.859 0.0 <eps> 1.0 har del',\n",
       "  '2442207150019781021 1 1482.94 0.279 pågått 1.0 pågått cor',\n",
       "  '2442207150019781021 1 1483.26 0.019 i 1.0 i cor',\n",
       "  '2442207150019781021 1 1483.34 0.4 området 1.0 området cor',\n",
       "  '2442207150019781021 1 1484.06 0.059 och 1.0 och cor',\n",
       "  '2442207150019781021 1 1484.16 0.079 som 1.0 som cor',\n",
       "  '2442207150019781021 1 1484.32 0.019 i 1.0 i cor',\n",
       "  '2442207150019781021 1 1484.42 0.179 sig 1.0 sig cor',\n",
       "  '2442207150019781021 1 1484.7 0.059 är 1.0 är cor',\n",
       "  '2442207150019781021 1 1484.82 0.1 ett 1.0 ett cor',\n",
       "  '2442207150019781021 1 1484.94 0.2 stort 1.0 stort cor',\n",
       "  '2442207150019781021 1 1485.2 0.799 säkerhetsproblem 1.0 säkerhetsproblem cor',\n",
       "  '2442207150019781021 1 1486.54 0.079 och 1.0 och cor',\n",
       "  '2442207150019781021 1 1486.68 0.159 inte 1.0 inte cor',\n",
       "  '2442207150019781021 1 1486.92 0.199 minst 1.0 minst cor',\n",
       "  '2442207150019781021 1 1487.16 0.059 de 1.0 det sub',\n",
       "  '2442207150019781021 1 1487.32 0.7 tuareguppror 1.0 tuareguppror cor',\n",
       "  '2442207150019781021 1 1488.1 0.08 som 1.0 som cor',\n",
       "  '2442207150019781021 1 1488.179 0.0 <eps> 1.0 har del',\n",
       "  '2442207150019781021 1 1488.26 0.319 pågått 1.0 pågått cor',\n",
       "  '2442207150019781021 1 1488.62 0.22 från 1.0 från cor',\n",
       "  '2442207150019781021 1 1488.94 0.059 och 1.0 och cor',\n",
       "  '2442207150019781021 1 1489.04 0.16 till 1.0 till cor',\n",
       "  '2442207150019781021 1 1489.26 0.14 under 1.0 under cor',\n",
       "  '2442207150019781021 1 1489.46 0.2 många 1.0 många cor',\n",
       "  '2442207150019781021 1 1489.82 0.16 år 1.0 år cor',\n",
       "  '2442207150019781021 1 1490.36 0.06 och 1.0 och cor',\n",
       "  '2442207150019781021 1 1490.44 0.079 som 1.0 som cor',\n",
       "  '2442207150019781021 1 1490.6 0.16 också 1.0 också cor',\n",
       "  '2442207150019781021 1 1490.82 0.06 var 1.0 var cor',\n",
       "  '2442207150019781021 1 1490.98 0.539 orsaken 1.0 orsaken cor',\n",
       "  '2442207150019781021 1 1491.62 0.18 till 1.0 till cor',\n",
       "  '2442207150019781021 1 1491.94 0.519 statscuppen 1.0 statskuppen sub',\n",
       "  '2442207150019781021 1 1492.5 0.019 i 1.0 i cor',\n",
       "  '2442207150019781021 1 1494.22 0.079 och 1.0 Mali. sub',\n",
       "  '2442207150019781021 1 1494.34 0.34 Knappast 1.0 Knappast cor',\n",
       "  '2442207150019781021 1 1494.7 0.18 trodde 1.0 trodde cor',\n",
       "  '2442207150019781021 1 1494.92 0.079 väl 1.0 väl cor',\n",
       "  '2442207150019781021 1 1495.06 0.059 de 1.0 de cor',\n",
       "  '2442207150019781021 1 1495.24 0.48 militärer 1.0 militärer cor',\n",
       "  '2442207150019781021 1 1495.78 0.079 som 1.0 som cor',\n",
       "  '2442207150019781021 1 1495.92 0.099 tog 1.0 tog cor',\n",
       "  '2442207150019781021 1 1496.08 0.259 makten 1.0 makten cor',\n",
       "  '2442207150019781021 1 1496.38 0.019 i 1.0 i cor',\n",
       "  '2442207150019781021 1 1496.48 0.24 Mali, 1.0 Mali, cor',\n",
       "  '2442207150019781021 1 1496.8 0.019 i 1.0 i cor',\n",
       "  '2442207150019781021 1 1496.9 0.399 protest 1.0 protest cor',\n",
       "  '2442207150019781021 1 1497.34 0.12 mot 1.0 mot cor',\n",
       "  '2442207150019781021 1 1497.48 0.099 att 1.0 att cor',\n",
       "  '2442207150019781021 1 1497.6 0.04 de 1.0 de cor',\n",
       "  '2442207150019781021 1 1497.76 0.22 inte 1.0 inte cor',\n",
       "  '2442207150019781021 1 1498.04 0.12 fick 1.0 fick cor',\n",
       "  '2442207150019781021 1 1498.22 0.519 tillräckligt 1.0 tillräckligt cor',\n",
       "  '2442207150019781021 1 1498.82 0.32 stöd 1.0 stöd cor',\n",
       "  '2442207150019781021 1 1499.5 0.099 att 1.0 att cor',\n",
       "  '2442207150019781021 1 1499.64 0.399 bekämpa 1.0 bekämpa cor',\n",
       "  '2442207150019781021 1 1500.12 0.16 just 1.0 just cor',\n",
       "  '2442207150019781021 1 1500.32 0.039 du 1.0 <eps> ins',\n",
       "  '2442207150019781021 1 1500.44 0.059 är 1.0 <eps> ins',\n",
       "  '2442207150019781021 1 1500.54 0.319 regerna 1.0 tuaregerna, sub',\n",
       "  '2442207150019781021 1 1501.36 0.1 att 1.0 att cor',\n",
       "  '2442207150019781021 1 1501.5 0.519 situationen 1.0 situationen cor',\n",
       "  '2442207150019781021 1 1502.06 0.2 skulle 1.0 skulle cor',\n",
       "  '2442207150019781021 1 1502.34 0.08 bli 1.0 bli cor',\n",
       "  '2442207150019781021 1 1502.52 0.059 den 1.0 den cor',\n",
       "  '2442207150019781021 1 1502.64 0.359 totalt 1.0 totalt cor',\n",
       "  '2442207150019781021 1 1503.06 0.539 motsatta 1.0 motsatta cor',\n",
       "  '2442207150019781021 1 1503.74 0.039 på 1.0 på cor',\n",
       "  '2442207150019781021 1 1503.86 0.18 grund 1.0 grund cor',\n",
       "  '2442207150019781021 1 1504.08 0.06 av 1.0 av cor',\n",
       "  '2442207150019781021 1 1504.18 0.059 de 1.0 det sub',\n",
       "  '2442207150019781021 1 1504.8 1.519 aktvakum 1.0 maktvakuum sub',\n",
       "  '2442207150019781021 1 1506.4 0.079 som 1.0 som cor',\n",
       "  '2442207150019781021 1 1506.56 0.32 kuppen 1.0 kuppen cor',\n",
       "  '2442207150019781021 1 1506.96 0.5 orsakade. 1.0 orsakade. cor'],\n",
       " ['2442207150019781021 1 2679.66 1.1 terroristverksamheten 1.0 Terroristverksamhet sub',\n",
       "  '2442207150019781021 1 2680.82 0.079 har 1.0 har cor',\n",
       "  '2442207150019781021 1 2680.96 0.279 ökat 1.0 ökat cor',\n",
       "  '2442207150019781021 1 2681.3 0.019 i 1.0 i cor',\n",
       "  '2442207150019781021 1 2681.66 0.079 och 1.0 Mali. sub',\n",
       "  '2442207150019781021 1 2681.76 0.239 Olika 1.0 Olika cor',\n",
       "  '2442207150019781021 1 2682.08 0.42 väpnade 1.0 väpnade cor',\n",
       "  '2442207150019781021 1 2682.54 1.159 extremistgrupperingar 1.0 extremistgrupperingar cor',\n",
       "  '2442207150019781021 1 2683.74 0.08 har 1.0 har cor',\n",
       "  '2442207150019781021 1 2683.86 0.539 etablerat 1.0 etablerat cor',\n",
       "  '2442207150019781021 1 2684.44 0.079 sig 1.0 sig cor',\n",
       "  '2442207150019781021 1 2684.58 0.019 i 1.0 i cor',\n",
       "  '2442207150019781021 1 2684.68 0.24 norra 1.0 norra cor',\n",
       "  '2442207150019781021 1 2685.0 0.3 delarna 1.0 delarna cor',\n",
       "  '2442207150019781021 1 2685.34 0.059 av 1.0 av cor',\n",
       "  '2442207150019781021 1 2685.44 0.279 Mali, 1.0 Mali, cor',\n",
       "  '2442207150019781021 1 2685.92 0.279 ofta 1.0 ofta cor',\n",
       "  '2442207150019781021 1 2687.0 0.539 alierade 1.0 <eps> ins',\n",
       "  '2442207150019781021 1 2687.6 0.059 då 1.0 lierade sub',\n",
       "  '2442207150019781021 1 2687.74 0.06 med 1.0 med cor',\n",
       "  '2442207150019781021 1 2687.86 0.48 kriminella 1.0 kriminella cor',\n",
       "  '2442207150019781021 1 2688.42 0.44 grupper, 1.0 grupper, cor',\n",
       "  '2442207150019781021 1 2689.1 0.079 och 1.0 och cor',\n",
       "  '2442207150019781021 1 2689.26 0.179 kom 1.0 kom cor',\n",
       "  '2442207150019781021 1 2689.58 0.059 ju 1.0 <eps> ins',\n",
       "  '2442207150019781021 1 2689.74 0.06 så 1.0 så cor',\n",
       "  '2442207150019781021 1 2689.86 0.44 småningom 1.0 småningom cor',\n",
       "  '2442207150019781021 1 2690.4 0.159 under 1.0 under cor',\n",
       "  '2442207150019781021 1 2690.62 0.64 tjugohundratolv 1.0 2012 sub',\n",
       "  '2442207150019781021 1 2691.32 0.099 att 1.0 att cor',\n",
       "  '2442207150019781021 1 2691.46 0.579 kontrollera 1.0 kontrollera cor',\n",
       "  '2442207150019781021 1 2692.14 0.099 två 1.0 två cor',\n",
       "  '2442207150019781021 1 2692.36 0.599 tredjedelar 1.0 tredjedelar cor',\n",
       "  '2442207150019781021 1 2693.02 0.059 av 1.0 av cor',\n",
       "  '2442207150019781021 1 2693.12 0.3 mali 1.0 <eps> ins',\n",
       "  '2442207150019781021 1 2694.16 0.079 där 1.0 <eps> ins',\n",
       "  '2442207150019781021 1 2694.3 0.079 man 1.0 Mali, sub',\n",
       "  '2442207150019781021 1 2694.44 0.4 införde 1.0 införde cor',\n",
       "  '2442207150019781021 1 2694.9 0.339 strikta 1.0 strikta cor',\n",
       "  '2442207150019781021 1 2695.239 0.0 <eps> 1.0 sharialagar del',\n",
       "  '2442207150019781021 1 2695.32 0.94 scharialagar 1.0 och sub',\n",
       "  '2442207150019781021 1 2696.42 0.48 utdömde 1.0 utdömde cor',\n",
       "  '2442207150019781021 1 2697.0 0.659 kroppsstraff 1.0 kroppsstraff cor',\n",
       "  '2442207150019781021 1 2697.74 0.1 som 1.0 som cor',\n",
       "  '2442207150019781021 1 2697.96 0.4 tydligt 1.0 tydligt cor',\n",
       "  '2442207150019781021 1 2698.42 0.239 stred 1.0 och sub',\n",
       "  '2442207150019781021 1 2698.78 0.559 allvarligt 1.0 allvarligt cor',\n",
       "  '2442207150019781021 1 2699.339 0.0 <eps> 1.0 stred del',\n",
       "  '2442207150019781021 1 2699.38 0.119 mot 1.0 mot cor',\n",
       "  '2442207150019781021 1 2699.56 0.38 mänskliga 1.0 mänskliga cor',\n",
       "  '2442207150019781021 1 2700.0 0.099 fri- 1.0 fri- cor',\n",
       "  '2442207150019781021 1 2700.22 0.08 och 1.0 och cor',\n",
       "  '2442207150019781021 1 2700.32 0.599 rättigheter. 1.0 rättigheter. cor'],\n",
       " ['2442207150019781021 1 3142.919 0.0 <eps> 1.0 Landet del',\n",
       "  '2442207150019781021 1 3143.0 0.92 livsmedelskriser 1.0 är sub',\n",
       "  '2442207150019781021 1 3144.86 0.299 drabbat 1.0 drabbat cor',\n",
       "  '2442207150019781021 1 3145.22 0.06 av 1.0 av cor',\n",
       "  '2442207150019781021 1 3145.34 0.539 terrorism 1.0 terrorism cor',\n",
       "  '2442207150019781021 1 3146.36 0.079 av 1.0 och sub',\n",
       "  '2442207150019781021 1 3146.5 0.599 organiserad 1.0 organiserad cor',\n",
       "  '2442207150019781021 1 3147.14 0.64 brottslighet 1.0 brottslighet cor',\n",
       "  '2442207150019781021 1 3147.84 0.079 och 1.0 och cor',\n",
       "  '2442207150019781021 1 3147.919 0.0 <eps> 1.0 det del',\n",
       "  '2442207150019781021 1 3147.919 0.0 <eps> 1.0 är del',\n",
       "  '2442207150019781021 1 3148.02 0.48 olösta 1.0 olösta cor',\n",
       "  '2442207150019781021 1 3148.6 0.539 konflikter 1.0 konflikter cor',\n",
       "  '2442207150019781021 1 3149.36 0.259 mellan 1.0 mellan cor',\n",
       "  '2442207150019781021 1 3149.619 0.0 <eps> 1.0 folkgrupper. del']]"
      ]
     },
     "execution_count": 124,
     "metadata": {},
     "output_type": "execute_result"
    }
   ],
   "source": [
    "tsegs"
   ]
  },
  {
   "cell_type": "code",
   "execution_count": 127,
   "metadata": {},
   "outputs": [],
   "source": [
    "def get_readable_sentence(sentence):\n",
    "    outwords = []\n",
    "    for word in sentence:\n",
    "        parts = word.split(\" \")\n",
    "        if parts[-1].startswith(\"cor\"):\n",
    "            outwords.append(parts[6])\n",
    "        else:\n",
    "            if parts[4] == \"<eps>\":\n",
    "                outwords.append(f\"+({parts[6]})\")\n",
    "            elif parts[6] == \"<eps>\":\n",
    "                outwords.append(f\"-({parts[4]})\")\n",
    "            else:\n",
    "                outwords.append(f\"({parts[4]}/{parts[6]})\")\n",
    "    return \" \".join(outwords)"
   ]
  },
  {
   "cell_type": "code",
   "execution_count": 128,
   "metadata": {},
   "outputs": [
    {
     "data": {
      "text/plain": [
       "'(malisk/Malis) suveränitet, enhet och (terrortuella/territoriella) integritet var uppenbart hotad efter att (islamisterna/islamister) intagit stora delar av (maliskt/Malis) territorium.'"
      ]
     },
     "execution_count": 128,
     "metadata": {},
     "output_type": "execute_result"
    }
   ],
   "source": [
    "get_readable_sentence(tsegs[0])"
   ]
  },
  {
   "cell_type": "code",
   "execution_count": 129,
   "metadata": {},
   "outputs": [
    {
     "data": {
      "text/plain": [
       "'Vi socialdemokrater ser det som en förutsättning att det finns en bred majoritet (i/när) kammaren -(för) -(att) -(ta) (den/tar) (här/denna) (arten/art) av +(beslut,) (beslut/och) (de/det) finns +(det) också.'"
      ]
     },
     "execution_count": 129,
     "metadata": {},
     "output_type": "execute_result"
    }
   ],
   "source": [
    "get_readable_sentence(parting[28])"
   ]
  },
  {
   "cell_type": "code",
   "execution_count": null,
   "metadata": {},
   "outputs": [],
   "source": [
    "OUTPATH = Path(\"/tmp/outfiles\")\n",
    "for file in files:\n",
    "    OUTFILE = OUTPATH / file.stem\n",
    "    TERRORFILE = OUTPATH / f\"TERROR_{file.stem}\"\n",
    "    with open(OUTFILE, \"w\") as outputfile, open(TERRORFILE, \"w\") as terrorfile:\n",
    "        lines = slurp(file)\n",
    "        partitions = partition(lines)\n",
    "        for ptn in partitions:\n",
    "            for line in ptn:\n",
    "                outputfile.write(line + \"\\n\")\n",
    "            outputfile.write(\"\\n\")\n",
    "        terror_segs = find_terror_segs(partitions)\n",
    "        for tsg in terror_segs:\n",
    "            for line in tsg:\n",
    "                terrorfile.write(line + \"\\n\")\n",
    "            terrorfile.write(\"\\n\")"
   ]
  }
 ],
 "metadata": {
  "kernelspec": {
   "display_name": "phonemizer",
   "language": "python",
   "name": "python3"
  },
  "language_info": {
   "codemirror_mode": {
    "name": "ipython",
    "version": 3
   },
   "file_extension": ".py",
   "mimetype": "text/x-python",
   "name": "python",
   "nbconvert_exporter": "python",
   "pygments_lexer": "ipython3",
   "version": "3.11.7"
  }
 },
 "nbformat": 4,
 "nbformat_minor": 2
}
