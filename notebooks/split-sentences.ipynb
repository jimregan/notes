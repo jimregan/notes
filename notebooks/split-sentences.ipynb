{
 "cells": [
  {
   "cell_type": "code",
   "execution_count": 1,
   "metadata": {},
   "outputs": [],
   "source": [
    "from pathlib import Path\n",
    "\n",
    "BASE = Path(\"/Users/joregan/Playing/rd_ctm_edit\")"
   ]
  },
  {
   "cell_type": "code",
   "execution_count": 11,
   "metadata": {},
   "outputs": [],
   "source": [
    "files = []\n",
    "with open(\"/tmp/terror-files\") as terrorf:\n",
    "    for ff in terrorf.readlines():\n",
    "        files.append(ff.strip())"
   ]
  },
  {
   "cell_type": "code",
   "execution_count": 50,
   "metadata": {},
   "outputs": [],
   "source": [
    "def tidy(word, lc=True):\n",
    "    if word[0:1] == '\"':\n",
    "        word = word[1:]\n",
    "    if word[-1:] == '\"':\n",
    "        word = word[:-1]\n",
    "    if word[-1:] in \".!?,;-\":\n",
    "        word = word[:-1]\n",
    "    if lc:\n",
    "        return word.lower()\n",
    "    else:\n",
    "        return word"
   ]
  },
  {
   "cell_type": "code",
   "execution_count": 20,
   "metadata": {},
   "outputs": [
    {
     "name": "stdout",
     "output_type": "stream",
     "text": [
      "0.8571428571428571\n",
      "0.75\n",
      "0.9333333333333333\n"
     ]
    }
   ],
   "source": [
    "import difflib\n",
    "\n",
    "a = \"afkanistan\"\n",
    "b = \"Afghanistan.\"\n",
    "def ratio(a, b):\n",
    "    return difflib.SequenceMatcher(None, a, tidy(b)).ratio()\n",
    "\n",
    "print(ratio(a, b))\n",
    "print(ratio(\"male\", \"Mali\"))\n",
    "print(ratio(\"normader\", \"Nomader\"))"
   ]
  },
  {
   "cell_type": "code",
   "execution_count": 22,
   "metadata": {},
   "outputs": [],
   "source": [
    "def slurp(filename):\n",
    "    lines = []\n",
    "    with open(filename) as infile:\n",
    "        for line in infile.readlines():\n",
    "            lines.append(line.strip())\n",
    "    return lines"
   ]
  },
  {
   "cell_type": "code",
   "execution_count": 23,
   "metadata": {},
   "outputs": [],
   "source": [
    "testing = slurp(\"/Users/joregan/Playing/rd_ctm_edit/H001UFöU4\")"
   ]
  },
  {
   "cell_type": "code",
   "execution_count": 24,
   "metadata": {},
   "outputs": [
    {
     "data": {
      "text/plain": [
       "['2442207150019781021 1 43.44 0.02 k 1.0 Jag sub',\n",
       " '2442207150019781021 1 49.04 0.42 härtalman 1.0 yrkar sub',\n",
       " '2442207150019781021 1 50.2 0.059 jag 1.0 bifall sub',\n",
       " '2442207150019781021 1 50.34 0.379 bifaller 1.0 till sub',\n",
       " '2442207150019781021 1 50.78 0.659 reservationen. 1.0 reservationen. cor']"
      ]
     },
     "execution_count": 24,
     "metadata": {},
     "output_type": "execute_result"
    }
   ],
   "source": [
    "testing[0:5]"
   ]
  },
  {
   "cell_type": "code",
   "execution_count": 25,
   "metadata": {},
   "outputs": [],
   "source": [
    "CONJ = [\"och\", \"men\"]"
   ]
  },
  {
   "cell_type": "code",
   "execution_count": null,
   "metadata": {},
   "outputs": [],
   "source": [
    "_SUBS = \"\"\"\n",
    "afkanistan Afghanistan\n",
    "maly Mali\n",
    "male Mali\n",
    "övvik Ö-vik\n",
    "abebégymnasiet ABB-gymnasiet\n",
    "abeflygplan A/B-flygplan\n",
    "abefs ABF:s\n",
    "abfs ABF:s\n",
    "abies ABS\n",
    "abieffkurserna ABF-kurserna\n",
    "abief ABF\n",
    "aczen Axén\n",
    "adeärrkort ADR-kort\n",
    "adeärr ADR\n",
    "adiellbedömningen ADL-bedömningen\n",
    "adiesselstationer ADSL-stationer\n",
    "adihodepreparaten adhd-preparaten\n",
    "adihodemediciner adhd-mediciner\n",
    "adihodeläkemedel adhd-läkemedel\n",
    "adihodedroger adhd-droger\n",
    "aduptioner adoptioner\n",
    "aeff AF\n",
    "aelless ALS\n",
    "aenddeesstrategin ANDTS-strategin\n",
    "aettaffisch A1-affisch\n",
    "aendete ANDT\n",
    "aendeteanvändandet ANDT-användandet\n",
    "aendeteessfrågorna ANDTS-frågorna\n",
    "aendeteesspolitiken ANDTS-politiken\n",
    "aendeteessstrategin ANDTS-strategin\n",
    "aendetefrågan ANDT-frågan\n",
    "aendetefrågor ANDT-frågor\n",
    "aendeteområdet ANDT-området\n",
    "aendetessområdet ANDTS-området\n",
    "aendetesspolitiskt ANDTS-politiskt\n",
    "aendetesstrategi ANDTS-strategi\n",
    "aendetestrategi ANDT-strategi\n",
    "aendetestrategin ANDT-strategin\n",
    "rutavdraget RUT-avdraget\n",
    "sahäll Sahel\n",
    "akim Aqim\n",
    "alkaida_relaterade al-Qaida-relaterade\n",
    "libien Libyen\n",
    "malie Mali\n",
    "kunskapoc kunskap_och\n",
    "adisabeba Addis_Abeba\n",
    "eus EU:s\n",
    "gihadister jihadister\n",
    "peesertester PCR-tester\n",
    "beesiärtest PCR-test\n",
    "\"\"\"\n",
    "def get_subs():\n",
    "    subs = {}\n",
    "    for l in _SUBS.split(\"\\n\"):\n",
    "        if l.strip() == \"\":\n",
    "            continue\n",
    "        p = l.strip().split(\" \")\n",
    "        if not p[0] in subs:\n",
    "            subs[p[0]] = []\n",
    "        for part in p[1:]:\n",
    "            subs[p[0]].append(part)\n",
    "    return subs"
   ]
  },
  {
   "cell_type": "code",
   "execution_count": null,
   "metadata": {},
   "outputs": [],
   "source": [
    "def is_subst(a, b, lc=False):\n",
    "    if a in SUBS:\n",
    "        if b in SUBS[a]:\n",
    "            return True\n",
    "        elif lc and b.lower() in SUBS[a]:\n",
    "            return True\n",
    "    return False"
   ]
  },
  {
   "cell_type": "code",
   "execution_count": 151,
   "metadata": {},
   "outputs": [],
   "source": [
    "def modify_pairs(sent_a, sent_b):\n",
    "    def get_start_dur(sent_a, sent_b):\n",
    "        start = sent_a[2]\n",
    "        a_start = float(sent_a[2])\n",
    "        a_dur = float(sent_a[3])\n",
    "        b_start = float(sent_b[2])\n",
    "        b_dur = float(sent_b[3])\n",
    "        b_end = b_start + b_dur\n",
    "        new_dur = b_end - a_start\n",
    "        return start, \"{:.3f}\".format(new_dur)\n",
    "\n",
    "    a = sent_a.split(\" \")\n",
    "    b = sent_b.split(\" \")\n",
    "\n",
    "    changed = False\n",
    "\n",
    "    if a[4] == tidy(b[6]) or is_subst(a[4], tidy(b[6], False)):\n",
    "        if a[6] == \"<eps>\":\n",
    "            changed = True\n",
    "            a[4] = a[6] = b[6]\n",
    "            b[6] = \"<eps>\"\n",
    "            a[7] = \"cor\"\n",
    "            b[7] = \"ins\"\n",
    "        if b[4] in CONJ:\n",
    "            b[7] = \"ins-conj\"\n",
    "    elif a[4] == \"<eps>\":\n",
    "        if a[6] + b[6] == b[4]:\n",
    "            changed = True\n",
    "            joined = f\"{a[6]}_{b[6]}\"\n",
    "            b[4] = b[6] = joined\n",
    "            b[7] = \"cor\"\n",
    "            a = []\n",
    "    elif a[4] + b[4] == tidy(a[6]) and b[6] == \"<eps>\":\n",
    "        print(\"a\")\n",
    "        changed = True\n",
    "        start, end = get_start_dur(a, b)\n",
    "        b[4] = b[6] = a[6]\n",
    "        b[7] = \"cor\"\n",
    "        b[2] = start\n",
    "        b[3] = end\n",
    "        a = []\n",
    "    elif a[4] + b[4] == tidy(b[6]) and a[6] == \"<eps>\":\n",
    "        print(\"b\")\n",
    "        changed = True\n",
    "        start, end = get_start_dur(a, b)\n",
    "        b[4] = b[6]\n",
    "        b[7] = \"cor\"\n",
    "        b[2] = start\n",
    "        b[3] = end\n",
    "        a = []\n",
    "    if changed:\n",
    "        return (\" \".join(a), \" \".join(b))\n",
    "    else:\n",
    "        return None"
   ]
  },
  {
   "cell_type": "code",
   "execution_count": 133,
   "metadata": {},
   "outputs": [
    {
     "data": {
      "text/plain": [
       "('2442207150019781021 1 58.4 0.78 invandringspolitiken. 1.0 invandringspolitiken. cor',\n",
       " '2442207150019781021 1 59.9 0.079 men 1.0 <eps> ins-conj')"
      ]
     },
     "execution_count": 133,
     "metadata": {},
     "output_type": "execute_result"
    }
   ],
   "source": [
    "modify_pairs(\"2442207150019781021 1 58.4 0.78 invandringspolitiken 1.0 <eps> ins\",\n",
    "             \"2442207150019781021 1 59.9 0.079 men 1.0 invandringspolitiken. sub\")"
   ]
  },
  {
   "cell_type": "code",
   "execution_count": 134,
   "metadata": {},
   "outputs": [
    {
     "data": {
      "text/plain": [
       "('',\n",
       " '2442207150019781021 1 97.18 0.739 insats_regeringen 1.0 insats_regeringen cor')"
      ]
     },
     "execution_count": 134,
     "metadata": {},
     "output_type": "execute_result"
    }
   ],
   "source": [
    "modify_pairs(\"2442207150019781021 1 97.12 0.0 <eps> 1.0 insats del\",\n",
    "             \"2442207150019781021 1 97.18 0.739 insatsregeringen 1.0 regeringen sub\")"
   ]
  },
  {
   "cell_type": "code",
   "execution_count": 135,
   "metadata": {},
   "outputs": [
    {
     "data": {
      "text/plain": [
       "('2442207150019781021 1 121.18 0.559 Afghanistan. 1.0 Afghanistan. cor',\n",
       " '2442207150019781021 1 122.62 0.079 och 1.0 <eps> ins-conj')"
      ]
     },
     "execution_count": 135,
     "metadata": {},
     "output_type": "execute_result"
    }
   ],
   "source": [
    "modify_pairs(\"2442207150019781021 1 121.18 0.559 afkanistan 1.0 <eps> ins\",\n",
    "\"2442207150019781021 1 122.62 0.079 och 1.0 Afghanistan. sub\")"
   ]
  },
  {
   "cell_type": "code",
   "execution_count": 152,
   "metadata": {},
   "outputs": [
    {
     "name": "stdout",
     "output_type": "stream",
     "text": [
      "b\n"
     ]
    },
    {
     "data": {
      "text/plain": [
       "('', '2442207150019781021 1 121.18 1.519 Afghanistan. 1.0 Afghanistan. cor')"
      ]
     },
     "execution_count": 152,
     "metadata": {},
     "output_type": "execute_result"
    }
   ],
   "source": [
    "modify_pairs(\"2442207150019781021 1 121.18 0.559 af 1.0 <eps> ins\",\n",
    "\"2442207150019781021 1 122.62 0.079 ghanistan 1.0 Afghanistan. sub\")"
   ]
  },
  {
   "cell_type": "code",
   "execution_count": 162,
   "metadata": {},
   "outputs": [],
   "source": [
    "def modify_single(sentence):\n",
    "    if sentence == \"END\":\n",
    "        return sentence\n",
    "    parts = sentence.split(\" \")\n",
    "    tidied = tidy(parts[6])\n",
    "    if is_subst(parts[4], tidied, True):\n",
    "        parts[4] = parts[6]\n",
    "        parts[7] = \"cor\"\n",
    "        return \" \".join(parts)\n",
    "    return sentence\n"
   ]
  },
  {
   "cell_type": "code",
   "execution_count": 62,
   "metadata": {},
   "outputs": [],
   "source": [
    "SUBS = get_subs()"
   ]
  },
  {
   "cell_type": "code",
   "execution_count": 46,
   "metadata": {},
   "outputs": [
    {
     "data": {
      "text/plain": [
       "True"
      ]
     },
     "execution_count": 46,
     "metadata": {},
     "output_type": "execute_result"
    }
   ],
   "source": [
    "is_subst(\"male\", \"Mali\")"
   ]
  },
  {
   "cell_type": "code",
   "execution_count": 64,
   "metadata": {},
   "outputs": [
    {
     "name": "stdout",
     "output_type": "stream",
     "text": [
      "Collecting more-itertools\n",
      "  Downloading more_itertools-10.2.0-py3-none-any.whl.metadata (34 kB)\n",
      "Downloading more_itertools-10.2.0-py3-none-any.whl (57 kB)\n",
      "\u001b[2K   \u001b[90m━━━━━━━━━━━━━━━━━━━━━━━━━━━━━━━━━━━━━━━━\u001b[0m \u001b[32m57.0/57.0 kB\u001b[0m \u001b[31m3.2 MB/s\u001b[0m eta \u001b[36m0:00:00\u001b[0m\n",
      "\u001b[?25hInstalling collected packages: more-itertools\n",
      "Successfully installed more-itertools-10.2.0\n",
      "Note: you may need to restart the kernel to use updated packages.\n"
     ]
    }
   ],
   "source": [
    "%pip install more-itertools\n"
   ]
  },
  {
   "cell_type": "code",
   "execution_count": 65,
   "metadata": {},
   "outputs": [],
   "source": [
    "import more_itertools"
   ]
  },
  {
   "cell_type": "code",
   "execution_count": 68,
   "metadata": {},
   "outputs": [
    {
     "name": "stdout",
     "output_type": "stream",
     "text": [
      "('2442207150019781021 1 43.44 0.02 k 1.0 Jag sub', '2442207150019781021 1 49.04 0.42 härtalman 1.0 yrkar sub')\n",
      "('2442207150019781021 1 49.04 0.42 härtalman 1.0 yrkar sub', '2442207150019781021 1 50.2 0.059 jag 1.0 bifall sub')\n",
      "('2442207150019781021 1 50.2 0.059 jag 1.0 bifall sub', '2442207150019781021 1 50.34 0.379 bifaller 1.0 till sub')\n",
      "('2442207150019781021 1 50.34 0.379 bifaller 1.0 till sub', '2442207150019781021 1 50.78 0.659 reservationen. 1.0 reservationen. cor')\n",
      "('2442207150019781021 1 50.78 0.659 reservationen. 1.0 reservationen. cor', '2442207150019781021 1 52.76 0.06 På 1.0 På cor')\n"
     ]
    }
   ],
   "source": [
    "for pair in more_itertools.windowed(testing[0:6], 2):\n",
    "    print(pair)"
   ]
  },
  {
   "cell_type": "code",
   "execution_count": 149,
   "metadata": {},
   "outputs": [],
   "source": [
    "def partition(lines):\n",
    "    def has_final(line):\n",
    "        FINAL = \".!?\"\n",
    "        parts = line.strip().split(\" \")\n",
    "        piece = parts[6]\n",
    "        if piece.endswith('\"'):\n",
    "            piece = piece[:-1]\n",
    "        return piece[-1:] in FINAL\n",
    "    \n",
    "    def is_capital(line):\n",
    "        parts = line.strip().split(\" \")\n",
    "        piece = parts[6]\n",
    "        return piece[0:1].isupper()\n",
    "    \n",
    "    def splittable(a, b):\n",
    "        return has_final(a) and is_capital(b)\n",
    "\n",
    "    sentences = []\n",
    "    current = []\n",
    "    last_mod = \"\"\n",
    "\n",
    "    for pair in more_itertools.windowed(lines + [\"END\"], 2):\n",
    "        first = modify_single(pair[0])\n",
    "        second = modify_single(pair[1])\n",
    "        if last_mod != \"\":\n",
    "            second = last_mod\n",
    "        last_mod = \"\"\n",
    "        \n",
    "        if second == \"END\":\n",
    "            current.append(first)\n",
    "            sentences.append(current[:])\n",
    "        else:\n",
    "            mod = modify_pairs(first, second)\n",
    "            if mod is not None:\n",
    "                first = mod[0]\n",
    "                second = mod[1]\n",
    "                last_mod = second\n",
    "            elif splittable(first, second):\n",
    "                current.append(first)\n",
    "                sentences.append(current[:])\n",
    "                current = []\n",
    "            else:\n",
    "                current.append(first)\n",
    "    return sentences"
   ]
  },
  {
   "cell_type": "code",
   "execution_count": 90,
   "metadata": {},
   "outputs": [],
   "source": [
    "parting = partition(testing)"
   ]
  },
  {
   "cell_type": "code",
   "execution_count": 93,
   "metadata": {},
   "outputs": [
    {
     "data": {
      "text/plain": [
       "['2442207150019781021 1 43.44 0.02 k 1.0 Jag sub',\n",
       " '2442207150019781021 1 49.04 0.42 härtalman 1.0 yrkar sub',\n",
       " '2442207150019781021 1 50.2 0.059 jag 1.0 bifall sub',\n",
       " '2442207150019781021 1 50.34 0.379 bifaller 1.0 till sub',\n",
       " '2442207150019781021 1 50.78 0.659 reservationen. 1.0 reservationen. cor']"
      ]
     },
     "execution_count": 93,
     "metadata": {},
     "output_type": "execute_result"
    }
   ],
   "source": [
    "ttt = parting[0]\n",
    "ttt"
   ]
  },
  {
   "cell_type": "code",
   "execution_count": 102,
   "metadata": {},
   "outputs": [],
   "source": [
    "def sentence_correctness(sentence):\n",
    "    length = len(sentence)\n",
    "    score = 0\n",
    "    for word in sentence:\n",
    "        parts = word.split(\" \")\n",
    "        if parts[-1].startswith(\"cor\"):\n",
    "            score += 1\n",
    "    return score / length"
   ]
  },
  {
   "cell_type": "code",
   "execution_count": 107,
   "metadata": {},
   "outputs": [
    {
     "data": {
      "text/plain": [
       "1.0"
      ]
     },
     "execution_count": 107,
     "metadata": {},
     "output_type": "execute_result"
    }
   ],
   "source": [
    "sentence_correctness(parting[4])"
   ]
  },
  {
   "cell_type": "code",
   "execution_count": 123,
   "metadata": {},
   "outputs": [
    {
     "data": {
      "text/plain": [
       "['2442207150019781021 1 207.8 0.339 Mali 1.0 Mali cor',\n",
       " '2442207150019781021 1 208.54 0.08 har 1.0 har cor',\n",
       " '2442207150019781021 1 208.7 0.38 drabbats 1.0 drabbats cor',\n",
       " '2442207150019781021 1 209.079 0.0 <eps> 1.0 hårt. del']"
      ]
     },
     "execution_count": 123,
     "metadata": {},
     "output_type": "execute_result"
    }
   ],
   "source": [
    "parting[25]"
   ]
  },
  {
   "cell_type": "code",
   "execution_count": 115,
   "metadata": {},
   "outputs": [
    {
     "data": {
      "text/plain": [
       "['2442207150019781021 1 209.079 0.0 <eps> 1.0 Mali del',\n",
       " '2442207150019781021 1 209.12 0.259 hårt 1.0 är sub',\n",
       " '2442207150019781021 1 209.48 0.219 mali 1.0 också sub',\n",
       " '2442207150019781021 1 209.8 0.099 ett 1.0 ett cor',\n",
       " '2442207150019781021 1 209.96 0.199 land 1.0 land cor',\n",
       " '2442207150019781021 1 210.22 0.08 som 1.0 som cor',\n",
       " '2442207150019781021 1 210.38 0.14 också 1.0 <eps> ins',\n",
       " '2442207150019781021 1 210.6 0.64 utrikesutskottet 1.0 utrikesutskottet cor',\n",
       " '2442207150019781021 1 211.239 0.0 <eps> 1.0 har del',\n",
       " '2442207150019781021 1 211.32 0.12 haft 1.0 haft cor',\n",
       " '2442207150019781021 1 211.48 0.36 möjlighet 1.0 möjlighet cor',\n",
       " '2442207150019781021 1 211.92 0.1 att 1.0 att cor',\n",
       " '2442207150019781021 1 212.08 0.519 besöka 1.0 besöka cor',\n",
       " '2442207150019781021 1 212.92 0.16 under 1.0 under cor',\n",
       " '2442207150019781021 1 213.14 0.08 en 1.0 en cor',\n",
       " '2442207150019781021 1 213.26 0.06 av 1.0 av cor',\n",
       " '2442207150019781021 1 213.4 0.239 sina 1.0 sina cor',\n",
       " '2442207150019781021 1 214.44 0.36 formella 1.0 formella cor',\n",
       " '2442207150019781021 1 214.88 0.379 resor. 1.0 resor. cor']"
      ]
     },
     "execution_count": 115,
     "metadata": {},
     "output_type": "execute_result"
    }
   ],
   "source": [
    "parting[26]"
   ]
  },
  {
   "cell_type": "code",
   "execution_count": 117,
   "metadata": {},
   "outputs": [
    {
     "data": {
      "text/plain": [
       "['2442207150019781021 1 227.62 0.039 Vi 1.0 Vi cor',\n",
       " '2442207150019781021 1 227.8 0.639 socialdemokrater 1.0 socialdemokrater cor',\n",
       " '2442207150019781021 1 228.5 0.08 ser 1.0 ser cor',\n",
       " '2442207150019781021 1 228.62 0.06 det 1.0 det cor',\n",
       " '2442207150019781021 1 228.72 0.06 som 1.0 som cor',\n",
       " '2442207150019781021 1 228.82 0.06 en 1.0 en cor',\n",
       " '2442207150019781021 1 229.0 0.819 förutsättning 1.0 förutsättning cor',\n",
       " '2442207150019781021 1 229.86 0.099 att 1.0 att cor',\n",
       " '2442207150019781021 1 229.98 0.06 det 1.0 det cor',\n",
       " '2442207150019781021 1 230.08 0.159 finns 1.0 finns cor',\n",
       " '2442207150019781021 1 230.28 0.06 en 1.0 en cor',\n",
       " '2442207150019781021 1 230.44 0.36 bred 1.0 bred cor',\n",
       " '2442207150019781021 1 230.88 0.48 majoritet 1.0 majoritet cor',\n",
       " '2442207150019781021 1 231.42 0.02 i 1.0 när sub',\n",
       " '2442207150019781021 1 231.52 0.319 kammaren 1.0 kammaren cor',\n",
       " '2442207150019781021 1 231.88 0.08 för 1.0 <eps> ins',\n",
       " '2442207150019781021 1 231.98 0.12 att 1.0 <eps> ins',\n",
       " '2442207150019781021 1 232.12 0.06 ta 1.0 <eps> ins',\n",
       " '2442207150019781021 1 232.3 0.099 den 1.0 tar sub',\n",
       " '2442207150019781021 1 232.46 0.079 här 1.0 denna sub',\n",
       " '2442207150019781021 1 232.66 0.24 arten 1.0 art sub',\n",
       " '2442207150019781021 1 232.94 0.06 av 1.0 av cor',\n",
       " '2442207150019781021 1 233.0 0.0 <eps> 1.0 beslut, del',\n",
       " '2442207150019781021 1 233.04 0.4 beslut 1.0 och sub',\n",
       " '2442207150019781021 1 234.08 0.039 de 1.0 det sub',\n",
       " '2442207150019781021 1 234.26 0.26 finns 1.0 finns cor',\n",
       " '2442207150019781021 1 234.519 0.0 <eps> 1.0 det del',\n",
       " '2442207150019781021 1 234.58 0.239 också. 1.0 också. cor']"
      ]
     },
     "execution_count": 117,
     "metadata": {},
     "output_type": "execute_result"
    }
   ],
   "source": [
    "parting[28]"
   ]
  },
  {
   "cell_type": "code",
   "execution_count": 118,
   "metadata": {},
   "outputs": [],
   "source": [
    "def find_terror_segs(segments):\n",
    "    terror = []\n",
    "    def ismatch(word):\n",
    "        return \"terror\" in word or \"teror\" in word\n",
    "\n",
    "    for segment in segments:\n",
    "        for line in segment:\n",
    "            parts = line.split(\" \")\n",
    "            if ismatch(parts[4]) or ismatch(parts[6].lower()):\n",
    "                terror.append(segment)\n",
    "    return terror\n",
    "            "
   ]
  },
  {
   "cell_type": "code",
   "execution_count": 120,
   "metadata": {},
   "outputs": [],
   "source": [
    "tsegs = find_terror_segs(parting)"
   ]
  },
  {
   "cell_type": "code",
   "execution_count": 121,
   "metadata": {},
   "outputs": [
    {
     "data": {
      "text/plain": [
       "9"
      ]
     },
     "execution_count": 121,
     "metadata": {},
     "output_type": "execute_result"
    }
   ],
   "source": [
    "len(tsegs)"
   ]
  },
  {
   "cell_type": "code",
   "execution_count": 124,
   "metadata": {},
   "outputs": [
    {
     "data": {
      "text/plain": [
       "[['2442207150019781021 1 305.86 0.439 malisk 1.0 Malis sub',\n",
       "  '2442207150019781021 1 306.48 0.74 suveränitet, 1.0 suveränitet, cor',\n",
       "  '2442207150019781021 1 307.36 0.36 enhet 1.0 enhet cor',\n",
       "  '2442207150019781021 1 307.76 0.079 och 1.0 och cor',\n",
       "  '2442207150019781021 1 307.9 0.66 terrortuella 1.0 territoriella sub',\n",
       "  '2442207150019781021 1 308.72 0.5 integritet 1.0 integritet cor',\n",
       "  '2442207150019781021 1 309.6 0.259 var 1.0 var cor',\n",
       "  '2442207150019781021 1 310.02 0.4 uppenbart 1.0 uppenbart cor',\n",
       "  '2442207150019781021 1 310.48 0.339 hotad 1.0 hotad cor',\n",
       "  '2442207150019781021 1 311.16 0.159 efter 1.0 efter cor',\n",
       "  '2442207150019781021 1 311.34 0.1 att 1.0 att cor',\n",
       "  '2442207150019781021 1 311.48 0.56 islamisterna 1.0 islamister sub',\n",
       "  '2442207150019781021 1 312.1 0.319 intagit 1.0 intagit cor',\n",
       "  '2442207150019781021 1 312.48 0.299 stora 1.0 stora cor',\n",
       "  '2442207150019781021 1 312.88 0.259 delar 1.0 delar cor',\n",
       "  '2442207150019781021 1 313.22 0.059 av 1.0 av cor',\n",
       "  '2442207150019781021 1 313.38 0.439 maliskt 1.0 Malis sub',\n",
       "  '2442207150019781021 1 313.88 0.62 territorium. 1.0 territorium. cor'],\n",
       " ['2442207150019781021 1 453.42 0.12 Dock 1.0 Dock cor',\n",
       "  '2442207150019781021 1 453.58 0.08 bör 1.0 bör cor',\n",
       "  '2442207150019781021 1 453.7 0.06 det 1.0 det cor',\n",
       "  '2442207150019781021 1 453.8 0.439 poängteras 1.0 poängteras cor',\n",
       "  '2442207150019781021 1 454.26 0.1 att 1.0 att cor',\n",
       "  '2442207150019781021 1 454.44 0.62 islamisternas 1.0 islamisternas cor',\n",
       "  '2442207150019781021 1 455.18 0.279 intåg 1.0 intåg cor',\n",
       "  '2442207150019781021 1 455.54 0.019 i 1.0 i cor',\n",
       "  '2442207150019781021 1 455.64 0.24 norra 1.0 norra cor',\n",
       "  '2442207150019781021 1 455.98 0.299 Mali 1.0 Mali cor',\n",
       "  '2442207150019781021 1 456.66 0.56 tidigt 1.0 tidigt cor',\n",
       "  '2442207150019781021 1 457.34 0.3 möttes 1.0 möttes cor',\n",
       "  '2442207150019781021 1 457.68 0.06 av 1.0 av cor',\n",
       "  '2442207150019781021 1 457.78 0.54 protester 1.0 protester cor',\n",
       "  '2442207150019781021 1 458.72 0.159 inte 1.0 inte cor',\n",
       "  '2442207150019781021 1 458.94 0.18 minst 1.0 minst cor',\n",
       "  '2442207150019781021 1 459.18 0.199 bland 1.0 bland cor',\n",
       "  '2442207150019781021 1 460.5 0.339 självt 1.0 lokalbefolkningen. sub',\n",
       "  '2442207150019781021 1 462.1 0.659 Terroristgrupperna 1.0 Terroristgrupperna cor',\n",
       "  '2442207150019781021 1 462.84 0.02 i 1.0 i cor',\n",
       "  '2442207150019781021 1 462.92 0.159 norra 1.0 norra cor',\n",
       "  '2442207150019781021 1 463.14 0.199 maly 1.0 Mali sub',\n",
       "  '2442207150019781021 1 463.4 0.16 kunde 1.0 kunde cor',\n",
       "  '2442207150019781021 1 463.6 0.279 pressas 1.0 pressas cor',\n",
       "  '2442207150019781021 1 463.92 0.419 tillbaka, 1.0 tillbaka, cor',\n",
       "  '2442207150019781021 1 464.5 0.079 och 1.0 och cor',\n",
       "  '2442207150019781021 1 464.64 0.72 företrädare 1.0 företrädare cor',\n",
       "  '2442207150019781021 1 465.46 0.08 för 1.0 för cor',\n",
       "  '2442207150019781021 1 465.6 0.259 landet 1.0 landet cor',\n",
       "  '2442207150019781021 1 465.9 0.06 har 1.0 har cor',\n",
       "  '2442207150019781021 1 466.04 0.379 framfört 1.0 framfört cor',\n",
       "  '2442207150019781021 1 466.46 0.12 sitt 1.0 sitt cor',\n",
       "  '2442207150019781021 1 466.6 0.239 takt 1.0 tack sub',\n",
       "  '2442207150019781021 1 466.86 0.139 till 1.0 till cor',\n",
       "  '2442207150019781021 1 467.04 0.459 Frankrike 1.0 Frankrike cor',\n",
       "  '2442207150019781021 1 467.96 0.08 och 1.0 och cor',\n",
       "  '2442207150019781021 1 468.08 0.66 välkomna 1.0 välkomnar sub',\n",
       "  '2442207150019781021 1 468.82 0.079 det 1.0 det cor',\n",
       "  '2442207150019781021 1 468.899 0.0 <eps> 1.0 beslut del',\n",
       "  '2442207150019781021 1 468.94 0.399 beslutet 1.0 som sub',\n",
       "  '2442207150019781021 1 469.42 0.039 vi 1.0 vi cor',\n",
       "  '2442207150019781021 1 469.68 0.18 kommer 1.0 kommer cor',\n",
       "  '2442207150019781021 1 469.92 0.12 till 1.0 <eps> ins',\n",
       "  '2442207150019781021 1 470.1 0.12 att 1.0 att cor',\n",
       "  '2442207150019781021 1 470.28 0.2 fatta 1.0 fatta cor',\n",
       "  '2442207150019781021 1 470.58 0.16 här 1.0 här cor',\n",
       "  '2442207150019781021 1 470.84 0.02 i 1.0 i cor',\n",
       "  '2442207150019781021 1 470.92 0.12 dag. 1.0 dag. cor'],\n",
       " ['2442207150019781021 1 533.36 0.159 Under 1.0 Under cor',\n",
       "  '2442207150019781021 1 533.58 0.479 perioden 1.0 perioden cor',\n",
       "  '2442207150019781021 1 534.1 0.439 tvåtusen 1.0 <eps> ins',\n",
       "  '2442207150019781021 1 534.6 0.12 ett 1.0 <eps> ins',\n",
       "  '2442207150019781021 1 534.74 0.08 oh 1.0 <eps> ins',\n",
       "  '2442207150019781021 1 534.84 0.379 tvåtusen 1.0 <eps> ins',\n",
       "  '2442207150019781021 1 535.28 0.16 elva 1.0 2001-2011 sub',\n",
       "  '2442207150019781021 1 535.56 0.18 ägde 1.0 ägde cor',\n",
       "  '2442207150019781021 1 535.82 0.379 totalt 1.0 totalt cor',\n",
       "  '2442207150019781021 1 536.26 0.18 sett 1.0 sett cor',\n",
       "  '2442207150019781021 1 536.76 0.46 etttusen 1.0 1 sub',\n",
       "  '2442207150019781021 1 537.28 0.62 trettiofyra 1.0 034 sub',\n",
       "  '2442207150019781021 1 538.04 0.92 terroristincidenter 1.0 terroristincidenter cor',\n",
       "  '2442207150019781021 1 539.02 0.159 rum 1.0 rum cor',\n",
       "  '2442207150019781021 1 539.3 0.02 i 1.0 i cor',\n",
       "  '2442207150019781021 1 539.319 0.0 <eps> 1.0 Algeriet, del',\n",
       "  '2442207150019781021 1 539.46 0.5 algeriet 1.0 Mali, sub',\n",
       "  '2442207150019781021 1 540.02 0.659 malinigir 1.0 Niger sub',\n",
       "  '2442207150019781021 1 540.72 0.059 och 1.0 och cor',\n",
       "  '2442207150019781021 1 540.779 0.0 <eps> 1.0 Mauretanien. del'],\n",
       " ['2442207150019781021 1 544.82 0.419 Bryts 1.0 Bryts cor',\n",
       "  '2442207150019781021 1 545.3 0.28 dessa 1.0 dessa cor',\n",
       "  '2442207150019781021 1 545.78 0.6 incidenter 1.0 incidenter cor',\n",
       "  '2442207150019781021 1 546.52 0.139 ner 1.0 <eps> ins',\n",
       "  '2442207150019781021 1 546.7 0.139 till 1.0 <eps> ins',\n",
       "  '2442207150019781021 1 546.9 0.42 åsvisa 1.0 ned sub',\n",
       "  '2442207150019781021 1 547.38 0.06 så 1.0 årsvis sub',\n",
       "  '2442207150019781021 1 547.46 0.039 är 1.0 är cor',\n",
       "  '2442207150019781021 1 547.52 0.08 det 1.0 det cor',\n",
       "  '2442207150019781021 1 547.68 0.4 uppenbart 1.0 uppenbart cor',\n",
       "  '2442207150019781021 1 548.12 0.08 att 1.0 att cor',\n",
       "  '2442207150019781021 1 548.24 0.399 terrorismen 1.0 terrorismen cor',\n",
       "  '2442207150019781021 1 548.639 0.0 <eps> 1.0 har del',\n",
       "  '2442207150019781021 1 548.72 0.199 blivit 1.0 blivit cor',\n",
       "  '2442207150019781021 1 548.96 0.099 ett 1.0 ett cor',\n",
       "  '2442207150019781021 1 549.1 0.559 tilltagande 1.0 tilltagande cor',\n",
       "  '2442207150019781021 1 549.72 0.319 problem 1.0 problem cor',\n",
       "  '2442207150019781021 1 550.1 0.019 i 1.0 i cor',\n",
       "  '2442207150019781021 1 550.18 0.36 sahell 1.0 Sahel, sub',\n",
       "  '2442207150019781021 1 550.88 0.039 då 1.0 då cor',\n",
       "  '2442207150019781021 1 551.0 0.059 det 1.0 det cor',\n",
       "  '2442207150019781021 1 551.14 0.279 första 1.0 första cor',\n",
       "  '2442207150019781021 1 551.5 0.5 attentatet 1.0 attentatet cor',\n",
       "  '2442207150019781021 1 552.08 0.579 inträffade 1.0 inträffade cor',\n",
       "  '2442207150019781021 1 553.04 0.28 först 1.0 först cor',\n",
       "  '2442207150019781021 1 553.42 0.259 efter 1.0 efter cor',\n",
       "  '2442207150019781021 1 553.679 0.0 <eps> 1.0 det del',\n",
       "  '2442207150019781021 1 553.74 0.059 då 1.0 att sub',\n",
       "  '2442207150019781021 1 554.34 0.279 akim 1.0 Aqim sub',\n",
       "  '2442207150019781021 1 554.72 0.399 startades 1.0 startades cor',\n",
       "  '2442207150019781021 1 555.18 0.44 tvåtusen 1.0 <eps> ins',\n",
       "  '2442207150019781021 1 555.72 0.22 sex 1.0 2006. sub'],\n",
       " ['2442207150019781021 1 1090.9 1.139 Stabiliseringsinsatsen 1.0 Stabiliseringsinsatsen cor',\n",
       "  '2442207150019781021 1 1092.1 0.22 bidrar 1.0 bidrar cor',\n",
       "  '2442207150019781021 1 1092.36 0.14 också 1.0 också cor',\n",
       "  '2442207150019781021 1 1092.54 0.12 till 1.0 till cor',\n",
       "  '2442207150019781021 1 1092.68 0.099 att 1.0 att cor',\n",
       "  '2442207150019781021 1 1092.86 0.24 öka 1.0 öka cor',\n",
       "  '2442207150019781021 1 1093.2 0.659 säkerheten 1.0 säkerheten cor',\n",
       "  '2442207150019781021 1 1094.02 0.019 i 1.0 i cor',\n",
       "  '2442207150019781021 1 1094.16 0.319 hela 1.0 hela cor',\n",
       "  '2442207150019781021 1 1094.76 1.039 sahellregionen 1.0 Sahelregionen sub',\n",
       "  '2442207150019781021 1 1096.34 0.18 genom 1.0 genom cor',\n",
       "  '2442207150019781021 1 1096.56 0.1 att 1.0 att cor',\n",
       "  '2442207150019781021 1 1096.76 0.539 undanröja 1.0 undanröja cor',\n",
       "  '2442207150019781021 1 1097.4 0.399 hotet 1.0 hotet cor',\n",
       "  '2442207150019781021 1 1097.86 0.14 från 1.0 från cor',\n",
       "  '2442207150019781021 1 1098.06 0.66 terrorister 1.0 terrorister cor',\n",
       "  '2442207150019781021 1 1099.22 0.079 som 1.0 som cor',\n",
       "  '2442207150019781021 1 1099.299 0.0 <eps> 1.0 har del',\n",
       "  '2442207150019781021 1 1099.38 0.159 haft 1.0 haft cor',\n",
       "  '2442207150019781021 1 1099.6 0.16 sina 1.0 sina cor',\n",
       "  '2442207150019781021 1 1099.82 0.519 badser 1.0 baser sub',\n",
       "  '2442207150019781021 1 1100.52 0.22 inte 1.0 inte cor',\n",
       "  '2442207150019781021 1 1100.84 0.22 minst 1.0 minst cor',\n",
       "  '2442207150019781021 1 1101.1 0.019 i 1.0 i cor',\n",
       "  '2442207150019781021 1 1101.18 0.079 den 1.0 den cor',\n",
       "  '2442207150019781021 1 1101.32 0.259 norra 1.0 norra cor',\n",
       "  '2442207150019781021 1 1101.88 0.279 delen 1.0 delen cor',\n",
       "  '2442207150019781021 1 1102.2 0.18 utav 1.0 <eps> ins',\n",
       "  '2442207150019781021 1 1102.42 0.419 landet 1.0 av sub',\n",
       "  '2442207150019781021 1 1104.22 0.099 här 1.0 landet. sub'],\n",
       " ['2442207150019781021 1 1105.88 0.539 Instabila 1.0 Instabila cor',\n",
       "  '2442207150019781021 1 1106.5 0.44 stater 1.0 stater cor',\n",
       "  '2442207150019781021 1 1107.08 0.08 som 1.0 som cor',\n",
       "  '2442207150019781021 1 1107.24 0.14 inte 1.0 inte cor',\n",
       "  '2442207150019781021 1 1107.42 0.079 har 1.0 har cor',\n",
       "  '2442207150019781021 1 1107.56 0.5 kontroll 1.0 kontroll cor',\n",
       "  '2442207150019781021 1 1108.12 0.12 över 1.0 över cor',\n",
       "  '2442207150019781021 1 1108.32 0.14 sitt 1.0 sitt cor',\n",
       "  '2442207150019781021 1 1108.52 0.64 territorium 1.0 territorium cor',\n",
       "  '2442207150019781021 1 1109.62 0.1 kan 1.0 kan cor',\n",
       "  '2442207150019781021 1 1109.8 0.36 användas 1.0 användas cor',\n",
       "  '2442207150019781021 1 1110.2 0.099 som 1.0 som cor',\n",
       "  '2442207150019781021 1 1110.38 0.419 baser 1.0 baser cor',\n",
       "  '2442207150019781021 1 1110.9 0.099 för 1.0 för cor',\n",
       "  '2442207150019781021 1 1111.08 0.62 terrorister 1.0 terrorister cor',\n",
       "  '2442207150019781021 1 1111.8 0.1 som 1.0 som cor',\n",
       "  '2442207150019781021 1 1112.26 0.259 hotar 1.0 hotar cor',\n",
       "  '2442207150019781021 1 1112.62 0.58 säkerheten 1.0 säkerheten cor',\n",
       "  '2442207150019781021 1 1113.28 0.279 såväl 1.0 såväl cor',\n",
       "  '2442207150019781021 1 1113.68 0.519 regionalt 1.0 regionalt cor',\n",
       "  '2442207150019781021 1 1114.3 0.14 som 1.0 som cor',\n",
       "  '2442207150019781021 1 1114.72 0.5 globalt. 1.0 globalt. cor'],\n",
       " ['2442207150019781021 1 1476.72 0.119 Till 1.0 Till cor',\n",
       "  '2442207150019781021 1 1476.86 0.1 det 1.0 det cor',\n",
       "  '2442207150019781021 1 1477.0 0.079 ska 1.0 ska cor',\n",
       "  '2442207150019781021 1 1477.18 0.299 läggas 1.0 läggas cor',\n",
       "  '2442207150019781021 1 1477.62 0.42 olika 1.0 olika cor',\n",
       "  '2442207150019781021 1 1478.42 0.48 beväpnade 1.0 beväpnade cor',\n",
       "  '2442207150019781021 1 1478.98 0.339 grupper, 1.0 grupper, cor',\n",
       "  '2442207150019781021 1 1479.38 0.159 bland 1.0 bland cor',\n",
       "  '2442207150019781021 1 1479.58 0.24 annat 1.0 annat cor',\n",
       "  '2442207150019781021 1 1479.88 0.719 terrorgrupper, 1.0 terrorgrupper, cor',\n",
       "  '2442207150019781021 1 1480.98 0.079 den 1.0 den cor',\n",
       "  '2442207150019781021 1 1481.14 1.0 narkotikasmuggling 1.0 narkotikasmuggling cor',\n",
       "  '2442207150019781021 1 1482.2 0.079 som 1.0 som cor',\n",
       "  '2442207150019781021 1 1482.38 0.199 sedan 1.0 sedan cor',\n",
       "  '2442207150019781021 1 1482.64 0.219 länge 1.0 länge cor',\n",
       "  '2442207150019781021 1 1482.859 0.0 <eps> 1.0 har del',\n",
       "  '2442207150019781021 1 1482.94 0.279 pågått 1.0 pågått cor',\n",
       "  '2442207150019781021 1 1483.26 0.019 i 1.0 i cor',\n",
       "  '2442207150019781021 1 1483.34 0.4 området 1.0 området cor',\n",
       "  '2442207150019781021 1 1484.06 0.059 och 1.0 och cor',\n",
       "  '2442207150019781021 1 1484.16 0.079 som 1.0 som cor',\n",
       "  '2442207150019781021 1 1484.32 0.019 i 1.0 i cor',\n",
       "  '2442207150019781021 1 1484.42 0.179 sig 1.0 sig cor',\n",
       "  '2442207150019781021 1 1484.7 0.059 är 1.0 är cor',\n",
       "  '2442207150019781021 1 1484.82 0.1 ett 1.0 ett cor',\n",
       "  '2442207150019781021 1 1484.94 0.2 stort 1.0 stort cor',\n",
       "  '2442207150019781021 1 1485.2 0.799 säkerhetsproblem 1.0 säkerhetsproblem cor',\n",
       "  '2442207150019781021 1 1486.54 0.079 och 1.0 och cor',\n",
       "  '2442207150019781021 1 1486.68 0.159 inte 1.0 inte cor',\n",
       "  '2442207150019781021 1 1486.92 0.199 minst 1.0 minst cor',\n",
       "  '2442207150019781021 1 1487.16 0.059 de 1.0 det sub',\n",
       "  '2442207150019781021 1 1487.32 0.7 tuareguppror 1.0 tuareguppror cor',\n",
       "  '2442207150019781021 1 1488.1 0.08 som 1.0 som cor',\n",
       "  '2442207150019781021 1 1488.179 0.0 <eps> 1.0 har del',\n",
       "  '2442207150019781021 1 1488.26 0.319 pågått 1.0 pågått cor',\n",
       "  '2442207150019781021 1 1488.62 0.22 från 1.0 från cor',\n",
       "  '2442207150019781021 1 1488.94 0.059 och 1.0 och cor',\n",
       "  '2442207150019781021 1 1489.04 0.16 till 1.0 till cor',\n",
       "  '2442207150019781021 1 1489.26 0.14 under 1.0 under cor',\n",
       "  '2442207150019781021 1 1489.46 0.2 många 1.0 många cor',\n",
       "  '2442207150019781021 1 1489.82 0.16 år 1.0 år cor',\n",
       "  '2442207150019781021 1 1490.36 0.06 och 1.0 och cor',\n",
       "  '2442207150019781021 1 1490.44 0.079 som 1.0 som cor',\n",
       "  '2442207150019781021 1 1490.6 0.16 också 1.0 också cor',\n",
       "  '2442207150019781021 1 1490.82 0.06 var 1.0 var cor',\n",
       "  '2442207150019781021 1 1490.98 0.539 orsaken 1.0 orsaken cor',\n",
       "  '2442207150019781021 1 1491.62 0.18 till 1.0 till cor',\n",
       "  '2442207150019781021 1 1491.94 0.519 statscuppen 1.0 statskuppen sub',\n",
       "  '2442207150019781021 1 1492.5 0.019 i 1.0 i cor',\n",
       "  '2442207150019781021 1 1494.22 0.079 och 1.0 Mali. sub',\n",
       "  '2442207150019781021 1 1494.34 0.34 Knappast 1.0 Knappast cor',\n",
       "  '2442207150019781021 1 1494.7 0.18 trodde 1.0 trodde cor',\n",
       "  '2442207150019781021 1 1494.92 0.079 väl 1.0 väl cor',\n",
       "  '2442207150019781021 1 1495.06 0.059 de 1.0 de cor',\n",
       "  '2442207150019781021 1 1495.24 0.48 militärer 1.0 militärer cor',\n",
       "  '2442207150019781021 1 1495.78 0.079 som 1.0 som cor',\n",
       "  '2442207150019781021 1 1495.92 0.099 tog 1.0 tog cor',\n",
       "  '2442207150019781021 1 1496.08 0.259 makten 1.0 makten cor',\n",
       "  '2442207150019781021 1 1496.38 0.019 i 1.0 i cor',\n",
       "  '2442207150019781021 1 1496.48 0.24 Mali, 1.0 Mali, cor',\n",
       "  '2442207150019781021 1 1496.8 0.019 i 1.0 i cor',\n",
       "  '2442207150019781021 1 1496.9 0.399 protest 1.0 protest cor',\n",
       "  '2442207150019781021 1 1497.34 0.12 mot 1.0 mot cor',\n",
       "  '2442207150019781021 1 1497.48 0.099 att 1.0 att cor',\n",
       "  '2442207150019781021 1 1497.6 0.04 de 1.0 de cor',\n",
       "  '2442207150019781021 1 1497.76 0.22 inte 1.0 inte cor',\n",
       "  '2442207150019781021 1 1498.04 0.12 fick 1.0 fick cor',\n",
       "  '2442207150019781021 1 1498.22 0.519 tillräckligt 1.0 tillräckligt cor',\n",
       "  '2442207150019781021 1 1498.82 0.32 stöd 1.0 stöd cor',\n",
       "  '2442207150019781021 1 1499.5 0.099 att 1.0 att cor',\n",
       "  '2442207150019781021 1 1499.64 0.399 bekämpa 1.0 bekämpa cor',\n",
       "  '2442207150019781021 1 1500.12 0.16 just 1.0 just cor',\n",
       "  '2442207150019781021 1 1500.32 0.039 du 1.0 <eps> ins',\n",
       "  '2442207150019781021 1 1500.44 0.059 är 1.0 <eps> ins',\n",
       "  '2442207150019781021 1 1500.54 0.319 regerna 1.0 tuaregerna, sub',\n",
       "  '2442207150019781021 1 1501.36 0.1 att 1.0 att cor',\n",
       "  '2442207150019781021 1 1501.5 0.519 situationen 1.0 situationen cor',\n",
       "  '2442207150019781021 1 1502.06 0.2 skulle 1.0 skulle cor',\n",
       "  '2442207150019781021 1 1502.34 0.08 bli 1.0 bli cor',\n",
       "  '2442207150019781021 1 1502.52 0.059 den 1.0 den cor',\n",
       "  '2442207150019781021 1 1502.64 0.359 totalt 1.0 totalt cor',\n",
       "  '2442207150019781021 1 1503.06 0.539 motsatta 1.0 motsatta cor',\n",
       "  '2442207150019781021 1 1503.74 0.039 på 1.0 på cor',\n",
       "  '2442207150019781021 1 1503.86 0.18 grund 1.0 grund cor',\n",
       "  '2442207150019781021 1 1504.08 0.06 av 1.0 av cor',\n",
       "  '2442207150019781021 1 1504.18 0.059 de 1.0 det sub',\n",
       "  '2442207150019781021 1 1504.8 1.519 aktvakum 1.0 maktvakuum sub',\n",
       "  '2442207150019781021 1 1506.4 0.079 som 1.0 som cor',\n",
       "  '2442207150019781021 1 1506.56 0.32 kuppen 1.0 kuppen cor',\n",
       "  '2442207150019781021 1 1506.96 0.5 orsakade. 1.0 orsakade. cor'],\n",
       " ['2442207150019781021 1 2679.66 1.1 terroristverksamheten 1.0 Terroristverksamhet sub',\n",
       "  '2442207150019781021 1 2680.82 0.079 har 1.0 har cor',\n",
       "  '2442207150019781021 1 2680.96 0.279 ökat 1.0 ökat cor',\n",
       "  '2442207150019781021 1 2681.3 0.019 i 1.0 i cor',\n",
       "  '2442207150019781021 1 2681.66 0.079 och 1.0 Mali. sub',\n",
       "  '2442207150019781021 1 2681.76 0.239 Olika 1.0 Olika cor',\n",
       "  '2442207150019781021 1 2682.08 0.42 väpnade 1.0 väpnade cor',\n",
       "  '2442207150019781021 1 2682.54 1.159 extremistgrupperingar 1.0 extremistgrupperingar cor',\n",
       "  '2442207150019781021 1 2683.74 0.08 har 1.0 har cor',\n",
       "  '2442207150019781021 1 2683.86 0.539 etablerat 1.0 etablerat cor',\n",
       "  '2442207150019781021 1 2684.44 0.079 sig 1.0 sig cor',\n",
       "  '2442207150019781021 1 2684.58 0.019 i 1.0 i cor',\n",
       "  '2442207150019781021 1 2684.68 0.24 norra 1.0 norra cor',\n",
       "  '2442207150019781021 1 2685.0 0.3 delarna 1.0 delarna cor',\n",
       "  '2442207150019781021 1 2685.34 0.059 av 1.0 av cor',\n",
       "  '2442207150019781021 1 2685.44 0.279 Mali, 1.0 Mali, cor',\n",
       "  '2442207150019781021 1 2685.92 0.279 ofta 1.0 ofta cor',\n",
       "  '2442207150019781021 1 2687.0 0.539 alierade 1.0 <eps> ins',\n",
       "  '2442207150019781021 1 2687.6 0.059 då 1.0 lierade sub',\n",
       "  '2442207150019781021 1 2687.74 0.06 med 1.0 med cor',\n",
       "  '2442207150019781021 1 2687.86 0.48 kriminella 1.0 kriminella cor',\n",
       "  '2442207150019781021 1 2688.42 0.44 grupper, 1.0 grupper, cor',\n",
       "  '2442207150019781021 1 2689.1 0.079 och 1.0 och cor',\n",
       "  '2442207150019781021 1 2689.26 0.179 kom 1.0 kom cor',\n",
       "  '2442207150019781021 1 2689.58 0.059 ju 1.0 <eps> ins',\n",
       "  '2442207150019781021 1 2689.74 0.06 så 1.0 så cor',\n",
       "  '2442207150019781021 1 2689.86 0.44 småningom 1.0 småningom cor',\n",
       "  '2442207150019781021 1 2690.4 0.159 under 1.0 under cor',\n",
       "  '2442207150019781021 1 2690.62 0.64 tjugohundratolv 1.0 2012 sub',\n",
       "  '2442207150019781021 1 2691.32 0.099 att 1.0 att cor',\n",
       "  '2442207150019781021 1 2691.46 0.579 kontrollera 1.0 kontrollera cor',\n",
       "  '2442207150019781021 1 2692.14 0.099 två 1.0 två cor',\n",
       "  '2442207150019781021 1 2692.36 0.599 tredjedelar 1.0 tredjedelar cor',\n",
       "  '2442207150019781021 1 2693.02 0.059 av 1.0 av cor',\n",
       "  '2442207150019781021 1 2693.12 0.3 mali 1.0 <eps> ins',\n",
       "  '2442207150019781021 1 2694.16 0.079 där 1.0 <eps> ins',\n",
       "  '2442207150019781021 1 2694.3 0.079 man 1.0 Mali, sub',\n",
       "  '2442207150019781021 1 2694.44 0.4 införde 1.0 införde cor',\n",
       "  '2442207150019781021 1 2694.9 0.339 strikta 1.0 strikta cor',\n",
       "  '2442207150019781021 1 2695.239 0.0 <eps> 1.0 sharialagar del',\n",
       "  '2442207150019781021 1 2695.32 0.94 scharialagar 1.0 och sub',\n",
       "  '2442207150019781021 1 2696.42 0.48 utdömde 1.0 utdömde cor',\n",
       "  '2442207150019781021 1 2697.0 0.659 kroppsstraff 1.0 kroppsstraff cor',\n",
       "  '2442207150019781021 1 2697.74 0.1 som 1.0 som cor',\n",
       "  '2442207150019781021 1 2697.96 0.4 tydligt 1.0 tydligt cor',\n",
       "  '2442207150019781021 1 2698.42 0.239 stred 1.0 och sub',\n",
       "  '2442207150019781021 1 2698.78 0.559 allvarligt 1.0 allvarligt cor',\n",
       "  '2442207150019781021 1 2699.339 0.0 <eps> 1.0 stred del',\n",
       "  '2442207150019781021 1 2699.38 0.119 mot 1.0 mot cor',\n",
       "  '2442207150019781021 1 2699.56 0.38 mänskliga 1.0 mänskliga cor',\n",
       "  '2442207150019781021 1 2700.0 0.099 fri- 1.0 fri- cor',\n",
       "  '2442207150019781021 1 2700.22 0.08 och 1.0 och cor',\n",
       "  '2442207150019781021 1 2700.32 0.599 rättigheter. 1.0 rättigheter. cor'],\n",
       " ['2442207150019781021 1 3142.919 0.0 <eps> 1.0 Landet del',\n",
       "  '2442207150019781021 1 3143.0 0.92 livsmedelskriser 1.0 är sub',\n",
       "  '2442207150019781021 1 3144.86 0.299 drabbat 1.0 drabbat cor',\n",
       "  '2442207150019781021 1 3145.22 0.06 av 1.0 av cor',\n",
       "  '2442207150019781021 1 3145.34 0.539 terrorism 1.0 terrorism cor',\n",
       "  '2442207150019781021 1 3146.36 0.079 av 1.0 och sub',\n",
       "  '2442207150019781021 1 3146.5 0.599 organiserad 1.0 organiserad cor',\n",
       "  '2442207150019781021 1 3147.14 0.64 brottslighet 1.0 brottslighet cor',\n",
       "  '2442207150019781021 1 3147.84 0.079 och 1.0 och cor',\n",
       "  '2442207150019781021 1 3147.919 0.0 <eps> 1.0 det del',\n",
       "  '2442207150019781021 1 3147.919 0.0 <eps> 1.0 är del',\n",
       "  '2442207150019781021 1 3148.02 0.48 olösta 1.0 olösta cor',\n",
       "  '2442207150019781021 1 3148.6 0.539 konflikter 1.0 konflikter cor',\n",
       "  '2442207150019781021 1 3149.36 0.259 mellan 1.0 mellan cor',\n",
       "  '2442207150019781021 1 3149.619 0.0 <eps> 1.0 folkgrupper. del']]"
      ]
     },
     "execution_count": 124,
     "metadata": {},
     "output_type": "execute_result"
    }
   ],
   "source": [
    "tsegs"
   ]
  },
  {
   "cell_type": "code",
   "execution_count": 127,
   "metadata": {},
   "outputs": [],
   "source": [
    "def get_readable_sentence(sentence):\n",
    "    outwords = []\n",
    "    for word in sentence:\n",
    "        parts = word.split(\" \")\n",
    "        if parts[-1].startswith(\"cor\"):\n",
    "            outwords.append(parts[6])\n",
    "        else:\n",
    "            if parts[4] == \"<eps>\":\n",
    "                outwords.append(f\"+({parts[6]})\")\n",
    "            elif parts[6] == \"<eps>\":\n",
    "                outwords.append(f\"-({parts[4]})\")\n",
    "            else:\n",
    "                outwords.append(f\"({parts[4]}/{parts[6]})\")\n",
    "    return \" \".join(outwords)"
   ]
  },
  {
   "cell_type": "code",
   "execution_count": 128,
   "metadata": {},
   "outputs": [
    {
     "data": {
      "text/plain": [
       "'(malisk/Malis) suveränitet, enhet och (terrortuella/territoriella) integritet var uppenbart hotad efter att (islamisterna/islamister) intagit stora delar av (maliskt/Malis) territorium.'"
      ]
     },
     "execution_count": 128,
     "metadata": {},
     "output_type": "execute_result"
    }
   ],
   "source": [
    "get_readable_sentence(tsegs[0])"
   ]
  },
  {
   "cell_type": "code",
   "execution_count": 163,
   "metadata": {},
   "outputs": [
    {
     "data": {
      "text/plain": [
       "['2442207150019781021 1 305.86 0.439 malisk 1.0 Malis sub',\n",
       " '2442207150019781021 1 306.48 0.74 suveränitet, 1.0 suveränitet, cor',\n",
       " '2442207150019781021 1 307.36 0.36 enhet 1.0 enhet cor',\n",
       " '2442207150019781021 1 307.76 0.079 och 1.0 och cor',\n",
       " '2442207150019781021 1 307.9 0.66 terrortuella 1.0 territoriella sub',\n",
       " '2442207150019781021 1 308.72 0.5 integritet 1.0 integritet cor',\n",
       " '2442207150019781021 1 309.6 0.259 var 1.0 var cor',\n",
       " '2442207150019781021 1 310.02 0.4 uppenbart 1.0 uppenbart cor',\n",
       " '2442207150019781021 1 310.48 0.339 hotad 1.0 hotad cor',\n",
       " '2442207150019781021 1 311.16 0.159 efter 1.0 efter cor',\n",
       " '2442207150019781021 1 311.34 0.1 att 1.0 att cor',\n",
       " '2442207150019781021 1 311.48 0.56 islamisterna 1.0 islamister sub',\n",
       " '2442207150019781021 1 312.1 0.319 intagit 1.0 intagit cor',\n",
       " '2442207150019781021 1 312.48 0.299 stora 1.0 stora cor',\n",
       " '2442207150019781021 1 312.88 0.259 delar 1.0 delar cor',\n",
       " '2442207150019781021 1 313.22 0.059 av 1.0 av cor',\n",
       " '2442207150019781021 1 313.38 0.439 maliskt 1.0 Malis sub',\n",
       " '2442207150019781021 1 313.88 0.62 territorium. 1.0 territorium. cor']"
      ]
     },
     "execution_count": 163,
     "metadata": {},
     "output_type": "execute_result"
    }
   ],
   "source": [
    "tsegs[0]"
   ]
  },
  {
   "cell_type": "code",
   "execution_count": 129,
   "metadata": {},
   "outputs": [
    {
     "data": {
      "text/plain": [
       "'Vi socialdemokrater ser det som en förutsättning att det finns en bred majoritet (i/när) kammaren -(för) -(att) -(ta) (den/tar) (här/denna) (arten/art) av +(beslut,) (beslut/och) (de/det) finns +(det) också.'"
      ]
     },
     "execution_count": 129,
     "metadata": {},
     "output_type": "execute_result"
    }
   ],
   "source": [
    "get_readable_sentence(parting[28])"
   ]
  },
  {
   "cell_type": "code",
   "execution_count": null,
   "metadata": {},
   "outputs": [],
   "source": [
    "OUTPATH = Path(\"/tmp/outfiles\")\n",
    "for file in files:\n",
    "    filestem = Path(file).stem\n",
    "    OUTFILE = OUTPATH / filestem\n",
    "    TERRORFILE = OUTPATH / f\"TERROR_{filestem}\"\n",
    "    with open(OUTFILE, \"w\") as outputfile, open(TERRORFILE, \"w\") as terrorfile:\n",
    "        lines = slurp(file)\n",
    "        if lines == []:\n",
    "            continue\n",
    "        partitions = partition(lines)\n",
    "        for ptn in partitions:\n",
    "            for line in ptn:\n",
    "                outputfile.write(line + \"\\n\")\n",
    "            outputfile.write(\"\\n\")\n",
    "        terror_segs = find_terror_segs(partitions)\n",
    "        for tsg in terror_segs:\n",
    "            for line in tsg:\n",
    "                terrorfile.write(line + \"\\n\")\n",
    "            terrorfile.write(\"\\n\")"
   ]
  },
  {
   "cell_type": "code",
   "execution_count": 9,
   "metadata": {},
   "outputs": [
    {
     "name": "stdout",
     "output_type": "stream",
     "text": [
      "/Users/joregan/Playing/sync_asr\n",
      "Obtaining file:///Users/joregan/Playing/sync_asr\n",
      "  Preparing metadata (setup.py) ... \u001b[?25ldone\n",
      "\u001b[?25hRequirement already satisfied: pytest in /Users/joregan/opt/anaconda3/envs/syncasr_stats/lib/python3.9/site-packages (from sync-asr==0.0.1a0) (7.3.0)\n",
      "Requirement already satisfied: beautifulsoup4 in /Users/joregan/opt/anaconda3/envs/syncasr_stats/lib/python3.9/site-packages (from sync-asr==0.0.1a0) (4.12.2)\n",
      "Requirement already satisfied: requests in /Users/joregan/opt/anaconda3/envs/syncasr_stats/lib/python3.9/site-packages (from sync-asr==0.0.1a0) (2.28.2)\n",
      "Requirement already satisfied: soupsieve>1.2 in /Users/joregan/opt/anaconda3/envs/syncasr_stats/lib/python3.9/site-packages (from beautifulsoup4->sync-asr==0.0.1a0) (2.4)\n",
      "Requirement already satisfied: iniconfig in /Users/joregan/opt/anaconda3/envs/syncasr_stats/lib/python3.9/site-packages (from pytest->sync-asr==0.0.1a0) (2.0.0)\n",
      "Requirement already satisfied: packaging in /Users/joregan/opt/anaconda3/envs/syncasr_stats/lib/python3.9/site-packages (from pytest->sync-asr==0.0.1a0) (23.0)\n",
      "Requirement already satisfied: pluggy<2.0,>=0.12 in /Users/joregan/opt/anaconda3/envs/syncasr_stats/lib/python3.9/site-packages (from pytest->sync-asr==0.0.1a0) (1.0.0)\n",
      "Requirement already satisfied: exceptiongroup>=1.0.0rc8 in /Users/joregan/opt/anaconda3/envs/syncasr_stats/lib/python3.9/site-packages (from pytest->sync-asr==0.0.1a0) (1.1.1)\n",
      "Requirement already satisfied: tomli>=1.0.0 in /Users/joregan/opt/anaconda3/envs/syncasr_stats/lib/python3.9/site-packages (from pytest->sync-asr==0.0.1a0) (2.0.1)\n",
      "Requirement already satisfied: charset-normalizer<4,>=2 in /Users/joregan/opt/anaconda3/envs/syncasr_stats/lib/python3.9/site-packages (from requests->sync-asr==0.0.1a0) (3.1.0)\n",
      "Requirement already satisfied: certifi>=2017.4.17 in /Users/joregan/opt/anaconda3/envs/syncasr_stats/lib/python3.9/site-packages (from requests->sync-asr==0.0.1a0) (2022.12.7)\n",
      "Requirement already satisfied: urllib3<1.27,>=1.21.1 in /Users/joregan/opt/anaconda3/envs/syncasr_stats/lib/python3.9/site-packages (from requests->sync-asr==0.0.1a0) (1.26.15)\n",
      "Requirement already satisfied: idna<4,>=2.5 in /Users/joregan/opt/anaconda3/envs/syncasr_stats/lib/python3.9/site-packages (from requests->sync-asr==0.0.1a0) (3.4)\n",
      "Installing collected packages: sync-asr\n",
      "  Attempting uninstall: sync-asr\n",
      "    Found existing installation: sync-asr 0.0.1a0\n",
      "    Uninstalling sync-asr-0.0.1a0:\n",
      "      Successfully uninstalled sync-asr-0.0.1a0\n",
      "  Running setup.py develop for sync-asr\n",
      "Successfully installed sync-asr-0.0.1a0\n",
      "Note: you may need to restart the kernel to use updated packages.\n"
     ]
    }
   ],
   "source": [
    "%cd /Users/joregan/Playing/sync_asr\n",
    "%pip install -e ."
   ]
  },
  {
   "cell_type": "code",
   "execution_count": 5,
   "metadata": {},
   "outputs": [],
   "source": [
    "from sync_asr.ctm_edit import split_sentences\n",
    "from sync_asr.ctm_edit import ctm_from_file\n",
    "from pathlib import Path\n",
    "\n",
    "BASEOUT = Path(\"/Users/joregan/rd_filt\")\n",
    "CLEANDIR = BASEOUT / \"clean\"\n",
    "NOISYDIR = BASEOUT / \"noisy\"\n",
    "#INDIR = Path(\"/Users/joregan/Playing/rd_ctm_edit\")\n",
    "INDIR = Path(\"/tmp/rdtmp/\")"
   ]
  },
  {
   "cell_type": "code",
   "execution_count": 2,
   "metadata": {},
   "outputs": [],
   "source": [
    "def check_correct(lines):\n",
    "    for line in lines:\n",
    "        if line.edit != \"cor\":\n",
    "            return False\n",
    "    return True"
   ]
  },
  {
   "cell_type": "code",
   "execution_count": 3,
   "metadata": {},
   "outputs": [],
   "source": [
    "def generate_filename(lines):\n",
    "    first = lines[0].split(\" \")\n",
    "    last = lines[-1].split(\" \")\n",
    "    file_id = first[0]\n",
    "    start = first[2]\n",
    "    last_start = float(last[2])\n",
    "    last_dur = float(last[3])\n",
    "    end = last_start + last_dur\n",
    "    seg_dur = end - float(start)\n",
    "    filename = f\"{file_id}_{start}_{seg_dur:.2f}.ctmedit\"\n",
    "    return filename"
   ]
  },
  {
   "cell_type": "code",
   "execution_count": 6,
   "metadata": {},
   "outputs": [
    {
     "name": "stdout",
     "output_type": "stream",
     "text": [
      "[2442205060011518321 ((32940, 33340)) justitie|<eps>, 2442205060011518321 ((33360, 33439)) och|<eps>, 2442205060011518321 ((33460, 34280)) migrationsminister|<eps>, 2442205060011518321 ((34360, 34619)) morgan|<eps>, 2442205060011518321 ((34660, 34980)) johansson|<eps>, 2442205060011518321 ((35400, 35799)) varsågod|<eps>, 2442205060011518321 ((36740, 36899)) tack|<eps>, 2442205060011518321 ((36920, 36999)) för|<eps>, 2442205060011518321 ((37060, 37399)) talmann|Fru, 2442205060011518321 ((37500, 37799)) mikel|talman!, 2442205060011518321 ((37880, 38139)) eskil|Mikael, 2442205060011518321 ((38200, 38499)) andersson|Eskilandersson, 2442205060011518321 ((38540, 38600)) har|har, 2442205060011518321 ((38640, 38899)) frågat|frågat, 2442205060011518321 ((38960, 39060)) mig|mig, 2442205060011518321 ((39140, 39240)) hur|hur, 2442205060011518321 ((39300, 39400)) jag|jag, 2442205060011518321 ((39500, 39920)) konkret|konkret, 2442205060011518321 ((39960, 40039)) ska|ska, 2442205060011518321 ((40140, 40439)) uppnå|uppnå, 2442205060011518321 ((40600, 40899)) barnets|barnets, 2442205060011518321 ((40980, 41260)) bästa|bästa, 2442205060011518321 ((41340, 41499)) genom|genom, 2442205060011518321 ((41560, 41659)) den|den, 2442205060011518321 ((41780, 42840)) könsneutralisering|könsneutralisering, 2442205060011518321 ((42860, 42920)) av|av, 2442205060011518321 ((42960, 43579)) föräldrabalken|föräldrabalken, 2442205060011518321 ((44200, 44259)) och|och, 2442205060011518321 ((44300, 44380)) det|det, 2442205060011518321 ((44440, 44659)) faktum|faktum, 2442205060011518321 ((44720, 44799)) att|att, 2442205060011518321 ((44840, 44999)) fler|flera, 2442205060011518321 ((45060, 45340)) vuxna|vuxna, 2442205060011518321 ((45400, 45479)) ska|ska, 2442205060011518321 ((45600, 45740)) ges|ges, 2442205060011518321 ((45820, 46200)) juridiskt|juridiskt, 2442205060011518321 ((46240, 46520)) ansvar|ansvar, 2442205060011518321 ((46540, 46619)) för|för, 2442205060011518321 ((46680, 46939)) barnet|barnet, 2442205060011518321 ((46980, 47040)) som|som, 2442205060011518321 ((47100, 47399)) regeringen|regeringen, 2442205060011518321 ((47440, 47580)) gett|gett, 2442205060011518321 ((47600, 47959)) direktiv|direktiv, 2442205060011518321 ((47980, 48060)) som|om, 2442205060011518321 ((48120, 48180)) ska|ska, 2442205060011518321 ((48260, 48700)) utredas.|utredas., 2442205060011518321 ((49260, 49340)) Han|Han, 2442205060011518321 ((49380, 49459)) har|har, 2442205060011518321 ((49520, 49639)) även|även, 2442205060011518321 ((49680, 49899)) frågat|frågat, 2442205060011518321 ((49940, 50299)) statsrådet|statsrådet, 2442205060011518321 ((50340, 50479)) Åsa|Åsa, 2442205060011518321 ((50560, 50999)) Lindhagen|Lindhagen, 2442205060011518321 ((51140, 51179)) om|om, 2442205060011518321 ((51280, 51340)) hon|hon, 2442205060011518321 ((51380, 51539)) kommer|kommer, 2442205060011518321 ((51580, 51659)) att|att, 2442205060011518321 ((51700, 51939)) agera|agera, 2442205060011518321 ((51980, 52040)) för|för, 2442205060011518321 ((52080, 52159)) att|att, 2442205060011518321 ((52220, 52460)) öka|öka, 2442205060011518321 ((52560, 53279)) prioriteringen|prioriteringen, 2442205060011518321 ((53340, 53379)) av|av, 2442205060011518321 ((53420, 53479)) de|de, 2442205060011518321 ((53600, 54100)) lagförslag|lagförslag, 2442205060011518321 ((54620, 54700)) som|som, 2442205060011518321 ((54740, 54919)) redan|redan, 2442205060011518321 ((55000, 55259)) finns|finns, 2442205060011518321 ((55300, 55360)) och|och, 2442205060011518321 ((55400, 55439)) de|de, 2442205060011518321 ((55540, 55840)) problem|problem, 2442205060011518321 ((55880, 55939)) med|med, 2442205060011518321 ((55980, 56880)) föräldrabakbalken|föräldrabalken, 2442205060011518321 ((56920, 56979)) som|som, 2442205060011518321 ((57040, 57119)) kan|kan, 2442205060011518321 ((57180, 57700)) utläsas|utläsas, 2442205060011518321 ((57760, 57780)) i|i, 2442205060011518321 ((58560, 58719)) sou|<eps>, 2442205060011518321 ((58840, 59059)) tjugo|<eps>, 2442205060011518321 ((59140, 59460)) tjugo|<eps>, 2442205060011518321 ((59580, 59799)) kolan|SOU, 2442205060011518321 ((59880, 60299)) sextiotre|2020:63,, 2442205060011518321 ((60700, 60759)) så|så, 2442205060011518321 ((60800, 60900)) att|att, 2442205060011518321 ((60940, 61140)) dessa|dessa, 2442205060011518321 ((61200, 61539)) förslags|förslags, 2442205060011518321 ((61580, 62040)) genomförande|genomförande, 2442205060011518321 ((62100, 62200)) får|får, 2442205060011518321 ((62260, 62299)) en|en, 2442205060011518321 ((62380, 62700)) lika|lika, 2442205060011518321 ((62780, 62939)) hög|hög, 2442205060011518321 ((63020, 63459)) prioritet|prioritet, 2442205060011518321 ((63520, 63579)) av|av, 2442205060011518321 ((63640, 63999)) regeringen.|regeringen., 2442205060011518321 ((64500, 64640)) Den|Den, 2442205060011518321 ((64720, 65159)) interpulation|interpellationen, 2442205060011518321 ((65200, 65260)) har|har, 2442205060011518321 ((65319, 65719)) överlämnats|överlämnats, 2442205060011518321 ((65760, 65879)) till|till, 2442205060011518321 ((65900, 66059)) mig.|mig., 2442205060011518321 ((67400, 67479)) Att|Att, 2442205060011518321 ((67520, 67580)) bli|bli, 2442205060011518321 ((67640, 67959)) förälder|förälder, 2442205060011518321 ((67980, 68040)) är|är, 2442205060011518321 ((68060, 68099)) en|en, 2442205060011518321 ((68140, 68340)) viktig|viktig, 2442205060011518321 ((68380, 68500)) del|del, 2442205060011518321 ((68560, 68599)) av|av, 2442205060011518321 ((68660, 68879)) livet|livet, 2442205060011518321 ((68920, 68980)) för|för, 2442205060011518321 ((69040, 69159)) många|många, 2442205060011518321 ((69200, 69480)) människor.|människor., 2442205060011518321 ((70080, 70180)) Den|Den, 2442205060011518321 ((70240, 71120)) föräldraskapsrättsliga|föräldraskapsrättsliga, 2442205060011518321 ((71160, 71680)) lagstiftningen|lagstiftningen, 2442205060011518321 ((71720, 71939)) behöver|behöver, 2442205060011518321 ((71980, 72499)) utvecklas|utvecklas, 2442205060011518321 ((72600, 72620)) i|i, 2442205060011518321 ((72720, 72939)) takt|takt, 2442205060011518321 ((72980, 73059)) med|med, 2442205060011518321 ((73140, 73519)) samhället|samhället, 2442205060011518321 ((73560, 73620)) och|och, 2442205060011518321 ((73660, 73800)) kunna|kunna, 2442205060011518321 ((73840, 74219)) hantera|hantera, 2442205060011518321 ((74540, 74639)) att|att, 2442205060011518321 ((74660, 74720)) det|det, 2442205060011518321 ((74740, 74880)) finns|finns, 2442205060011518321 ((74940, 75220)) olika|olika, 2442205060011518321 ((75300, 75480)) sätt|sätt, 2442205060011518321 ((75500, 75599)) att|att, 2442205060011518321 ((75620, 75680)) få|få, 2442205060011518321 ((75740, 75940)) barn|barn, 2442205060011518321 ((75980, 76059)) och|och, 2442205060011518321 ((76120, 76279)) bilda|bilda, 2442205060011518321 ((76340, 76620)) familj|familj, 2442205060011518321 ((76700, 76779)) på.|på., 2442205060011518321 ((77620, 77919)) Regeringen|Regeringen, 2442205060011518321 ((77960, 78240)) arbetar|arbetar, 2442205060011518321 ((78300, 78480)) sedan|sedan, 2442205060011518321 ((78520, 78700)) flera|flera, 2442205060011518321 ((78780, 78879)) år|år, 2442205060011518321 ((78940, 79000)) med|med, 2442205060011518321 ((79020, 79120)) att|att, 2442205060011518321 ((79160, 79720)) modernisera|modernisera, 2442205060011518321 ((79800, 80360)) familjerätten.|familjerätten., 2442205060011518321 ((80960, 81319)) Arbetet|Arbetet, 2442205060011518321 ((81380, 81540)) sker|sker, 2442205060011518321 ((81580, 81640)) med|med, 2442205060011518321 ((81720, 82040)) barnets|barnets, 2442205060011518321 ((82100, 82360)) bästa|bästa, 2442205060011518321 ((82440, 82480)) i|i, 2442205060011518321 ((82540, 82939)) fokus.|fokus., 2442205060011518321 ((83500, 83780)) Regeringen|Regeringen, 2442205060011518321 ((83820, 83880)) har|har, 2442205060011518321 ((83920, 84040)) bland|bland, 2442205060011518321 ((84080, 84280)) annat|annat, 2442205060011518321 ((84340, 84719)) genomfört|genomfört, 2442205060011518321 ((84820, 85020)) flera|flera, 2442205060011518321 ((85060, 85379)) åtgärder|åtgärder, 2442205060011518321 ((85420, 85480)) för|för, 2442205060011518321 ((85500, 85599)) att|att, 2442205060011518321 ((85640, 85680)) ge|ge, 2442205060011518321 ((85800, 86040)) fler|fler, 2442205060011518321 ((86120, 86559)) möjligheten|möjligheten, 2442205060011518321 ((86600, 86700)) att|att, 2442205060011518321 ((86720, 86799)) bli|bli, 2442205060011518321 ((86920, 87299)) föräldrar.|föräldrar., 2442205060011518321 ((87760, 87799)) Vi|Vi, 2442205060011518321 ((87840, 87919)) har|har, 2442205060011518321 ((87940, 88080)) också|också, 2442205060011518321 ((88160, 88760)) reformerat|reformerat, 2442205060011518321 ((88840, 89639)) adoptionsreglerna|adoptionsreglerna, 2442205060011518321 ((89720, 89799)) och|och, 2442205060011518321 ((89860, 90159)) tillsatt|tillsatt, 2442205060011518321 ((90180, 90239)) en|en, 2442205060011518321 ((90280, 90739)) utredning|utredning, 2442205060011518321 ((91060, 91139)) för|för, 2442205060011518321 ((91180, 91279)) att|att, 2442205060011518321 ((91320, 91640)) utöka|utöka, 2442205060011518321 ((91740, 92180)) möjligheterna|möjligheterna, 2442205060011518321 ((92200, 92299)) att|att, 2442205060011518321 ((92320, 92460)) göra|göra, 2442205060011518321 ((93000, 93420)) utländska|utländska, 2442205060011518321 ((93500, 94060)) föräldrarskap|föräldraskap, 2442205060011518321 ((94180, 94499)) gällande|gällande, 2442205060011518321 ((95040, 95059)) i|i, 2442205060011518321 ((95140, 95400)) Sverige.|Sverige., 2442205060011518321 ((97560, 97700)) Inom|Inom, 2442205060011518321 ((97780, 97959)) kort|kort, 2442205060011518321 ((98000, 98159)) kommer|kommer, 2442205060011518321 ((98200, 98519)) regeringen|regeringen, 2442205060011518321 ((98560, 98639)) att|att, 2442205060011518321 ((98680, 98979)) föreslå|föreslå, 2442205060011518321 ((99060, 99239)) nya|nya, 2442205060011518321 ((99320, 99580)) regler|regler, 2442205060011518321 ((99640, 99680)) om|om, 2442205060011518321 ((99740, 100140)) vårdnad,|vårdnad,, 2442205060011518321 ((100200, 100760)) föräldraskap|föräldraskap, 2442205060011518321 ((100820, 100900)) och|och, 2442205060011518321 ((100980, 101919)) faderskapsutredningar.|faderskapsutredningar., 2442205060011518321 ((102220, 102400)) Sist|Sist, 2442205060011518321 ((102440, 102500)) men|men, 2442205060011518321 ((102560, 102659)) inte|inte, 2442205060011518321 ((102720, 102980)) minst|minst, 2442205060011518321 ((103220, 103299)) har|har, 2442205060011518321 ((103320, 103460)) denna|denna, 2442205060011518321 ((103520, 103780)) regering|regering, 2442205060011518321 ((103840, 103959)) sett|sett, 2442205060011518321 ((103980, 104079)) till|till, 2442205060011518321 ((104100, 104200)) att|att, 2442205060011518321 ((104240, 105020)) barnkonventionen|barnkonventionen, 2442205060011518321 ((105080, 105379)) numera|numera, 2442205060011518321 ((105500, 105540)) är|är, 2442205060011518321 ((105600, 105920)) svensk|svensk, 2442205060011518321 ((106040, 106239)) lag.|lag., 2442205060011518321 ((107520, 107840)) Regeringens|Regeringens, 2442205060011518321 ((107880, 108120)) arbete|arbete, 2442205060011518321 ((108160, 108239)) med|med, 2442205060011518321 ((108260, 108339)) att|att, 2442205060011518321 ((108380, 108959)) modernisera|modernisera, 2442205060011518321 ((109020, 109099)) den|den, 2442205060011518321 ((109140, 109840)) familjerättsliga|familjerättsliga, 2442205060011518321 ((109900, 110419)) lagstiftningen|lagstiftningen, 2442205060011518321 ((110460, 110960)) fortsätter|<eps>, 2442205060011518321 ((111160, 111239)) och|fortsätter., 2442205060011518321 ((111280, 111540)) Precis|Precis, 2442205060011518321 ((111600, 111720)) före|före, 2442205060011518321 ((111780, 111959)) jul|jul, 2442205060011518321 ((112040, 112079)) så|<eps>, 2442205060011518321 ((112160, 112580)) tillsattes|tillsattes, 2442205060011518321 ((112620, 112719)) den|den, 2442205060011518321 ((112780, 113120)) utredning|utredning, 2442205060011518321 ((113160, 113220)) som|som, 2442205060011518321 ((113220, 113220)) <eps>|Mikael, 2442205060011518321 ((113280, 114060)) mikelesklianderson|Eskilandersson, 2442205060011518321 ((114120, 114199)) tar|tar, 2442205060011518321 ((114260, 114379)) upp|upp, 2442205060011518321 ((114420, 114439)) i|i, 2442205060011518321 ((114500, 114579)) sin|sin, 2442205060011518321 ((114579, 114579)) <eps>|interpellation., 2442205060011518321 ((114579, 114579)) <eps>|Det, 2442205060011518321 ((114640, 115200)) interpelation|är, 2442205060011518321 ((115740, 115900)) den|en, 2442205060011518321 ((115960, 116460)) efterlängtad|efterlängtad, 2442205060011518321 ((116520, 116940)) utredning,|utredning,, 2442205060011518321 ((117000, 117060)) och|och, 2442205060011518321 ((117100, 117380)) frågorna|frågorna, 2442205060011518321 ((117440, 117519)) som|som, 2442205060011518321 ((117580, 117640)) ska|ska, 2442205060011518321 ((117720, 118040)) utredas|utredas, 2442205060011518321 ((118080, 118120)) är|är, 2442205060011518321 ((118180, 118599)) angelägna.|angelägna., 2442205060011518321 ((119240, 119340)) Att|Att, 2442205060011518321 ((119380, 119920)) lagstiftningen|lagstiftningen, 2442205060011518321 ((120020, 120200)) inte|inte, 2442205060011518321 ((120280, 120519)) utan|utan, 2442205060011518321 ((120620, 120879)) tungt|tungt, 2442205060011518321 ((120920, 121219)) vägande|vägande, 2442205060011518321 ((121300, 121519)) skäl|skäl, 2442205060011518321 ((121880, 121980)) bör|bör, 2442205060011518321 ((122040, 122299)) skilja|skilja, 2442205060011518321 ((122380, 122420)) på|på, 2442205060011518321 ((122500, 122859)) personer|personer, 2442205060011518321 ((122900, 123159)) beroende|beroende, 2442205060011518321 ((123220, 123280)) på|på, 2442205060011518321 ((123380, 123599)) kön|kön, 2442205060011518321 ((123640, 123719)) och|och, 2442205060011518321 ((123780, 124099)) sexuell|sexuell, 2442205060011518321 ((124140, 124400)) läggning|läggning, 2442205060011518321 ((124440, 124480)) är|är, 2442205060011518321 ((124480, 124480)) <eps>|grundläggande., 2442205060011518321 ((124520, 125040)) grundläggande|Det, 2442205060011518321 ((125560, 125719)) detär|är, 2442205060011518321 ((125740, 125860)) också|också, 2442205060011518321 ((125920, 126120)) viktigt|viktigt, 2442205060011518321 ((126140, 126239)) att|att, 2442205060011518321 ((126280, 126480)) barns|barns, 2442205060011518321 ((126520, 126920)) relation|relation, 2442205060011518321 ((126960, 127080)) till|till, 2442205060011518321 ((127120, 127239)) sina|sina, 2442205060011518321 ((127300, 127640)) sociala|sociala, 2442205060011518321 ((127720, 128099)) föräldrar|föräldrar, 2442205060011518321 ((128479, 128619)) ges|ges, 2442205060011518321 ((128680, 129300)) uppmärksamhet.|uppmärksamhet., 2442205060011518321 ((130120, 130559)) Utredningen|Utredningen, 2442205060011518321 ((130600, 130660)) ska|ska, 2442205060011518321 ((130780, 131259)) genomgående|genomgående, 2442205060011518321 ((131300, 131360)) ha|ha, 2442205060011518321 ((131400, 131499)) ett|ett, 2442205060011518321 ((131540, 132759)) barnrättsperspektiv|barnrättsperspektiv, 2442205060011518321 ((132860, 132879)) i|i, 2442205060011518321 ((132960, 133059)) den|den, 2442205060011518321 ((133160, 133580)) analys|analys, 2442205060011518321 ((133680, 133779)) som|som, 2442205060011518321 ((133860, 134039)) gör|görs., 2442205060011518321 ((135320, 135380)) För|För, 2442205060011518321 ((135420, 135520)) att|att, 2442205060011518321 ((135540, 135780)) barnets|barnets, 2442205060011518321 ((135820, 136220)) rättigheter|rättigheter, 2442205060011518321 ((136240, 136319)) ska|ska, 2442205060011518321 ((136420, 136460)) få|få, 2442205060011518321 ((136540, 136960)) genomslag|genomslag, 2442205060011518321 ((137000, 137020)) i|i, 2442205060011518321 ((137060, 137539)) praktiken|praktiken, 2442205060011518321 ((137840, 138159)) behöver|behöver, 2442205060011518321 ((138220, 138580)) arbetet|arbetet, 2442205060011518321 ((138600, 138680)) med|med, 2442205060011518321 ((138700, 138780)) att|att, 2442205060011518321 ((138800, 139379)) modernisera|modernisera, 2442205060011518321 ((139440, 139520)) den|den, 2442205060011518321 ((139560, 140180)) familjerättsliga|familjerättsliga, 2442205060011518321 ((140220, 140720)) lagstiftningen|lagstiftningen, 2442205060011518321 ((140780, 141219)) fortsätta|<eps>, 2442205060011518321 ((141800, 141879)) och|fortsätta., 2442205060011518321 ((141920, 142180)) Regeringen|Regeringen, 2442205060011518321 ((142200, 142360)) kommer|kommer, 2442205060011518321 ((142440, 142580)) även|även, 2442205060011518321 ((142640, 143000)) framöver|framöver, 2442205060011518321 ((143060, 143159)) att|att, 2442205060011518321 ((143200, 143460)) arbeta|arbeta, 2442205060011518321 ((143560, 143900)) aktivt|aktivt, 2442205060011518321 ((143940, 144000)) för|för, 2442205060011518321 ((144020, 144119)) att|att, 2442205060011518321 ((144160, 144620)) säkerställa|säkerställa, 2442205060011518321 ((144980, 145080)) att|att, 2442205060011518321 ((145120, 145339)) Sverige|Sverige, 2442205060011518321 ((145400, 145460)) har|har, 2442205060011518321 ((145480, 145540)) en|en, 2442205060011518321 ((145560, 146020)) lagstiftning|lagstiftning, 2442205060011518321 ((146060, 146120)) som|som, 2442205060011518321 ((146160, 146220)) är|är, 2442205060011518321 ((146280, 146599)) modern|modern, 2442205060011518321 ((146700, 146780)) och|och, 2442205060011518321 ((146840, 146900)) som|som, 2442205060011518321 ((146960, 146999)) i|i, 2442205060011518321 ((147080, 147239)) alla|alla, 2442205060011518321 ((147300, 147499)) delar|delar, 2442205060011518321 ((147600, 147900)) utgår|utgår, 2442205060011518321 ((147960, 148059)) från|från, 2442205060011518321 ((148140, 148480)) barnets|barnets, 2442205060011518321 ((148540, 148820)) bästa|<eps>, 2442205060011518321 ((149540, 149699)) tackf|bästa., 2442205060011518321 ((152880, 153199)) eskel|<eps>, 2442205060011518321 ((153240, 153619)) andersson|<eps>, 2442205060011518321 ((153720, 154460)) sveriedemokraterna|<eps>, 2442205060011518321 ((154540, 154960)) varsågod|<eps>, 2442205060011518321 ((158980, 159300)) tack|<eps>, 2442205060011518321 ((159700, 159800)) Fru|Fru, 2442205060011518321 ((159940, 160379)) talman!|talman!]\n",
      "[2442205060011518321 ((161820, 161919)) och|Tack,, 2442205060011518321 ((162020, 162239)) tack|Morgan, 2442205060011518321 ((162400, 162639)) morgan|Johansson,, 2442205060011518321 ((162700, 163040)) joansson|för, 2442205060011518321 ((163100, 163660)) försvaret|svaret!, 2442205060011518321 ((164080, 164159)) Det|Det, 2442205060011518321 ((164200, 164260)) är|är, 2442205060011518321 ((164360, 164619)) alltid|alltid, 2442205060011518321 ((164660, 165180)) intressant|intressant, 2442205060011518321 ((165220, 165319)) att|att, 2442205060011518321 ((165360, 165539)) höra|höra, 2442205060011518321 ((165640, 165760)) hur|hur, 2442205060011518321 ((166000, 166580)) statsrådet|statsrådet, 2442205060011518321 ((166640, 166740)) kan|kan, 2442205060011518321 ((166820, 166919)) slå|slå, 2442205060011518321 ((166980, 167199)) ihop|ihop, 2442205060011518321 ((167280, 167379)) två|två, 2442205060011518321 ((167520, 168199)) interpelationer|interpellationer, 2442205060011518321 ((168240, 168319)) med|med, 2442205060011518321 ((168380, 168479)) två|två, 2442205060011518321 ((168620, 168860)) olika|olika, 2442205060011518321 ((168940, 169740)) frågeställningar|frågeställningar, 2442205060011518321 ((169860, 169939)) och|och, 2442205060011518321 ((169980, 170240)) sedan|sedan, 2442205060011518321 ((170340, 170479)) inte|inte, 2442205060011518321 ((170580, 170899)) svarar|<eps>, 2442205060011518321 ((170980, 171300)) egentligen|svara, 2442205060011518321 ((171340, 171400)) på|på, 2442205060011518321 ((171480, 171780)) någon|någon, 2442205060011518321 ((171860, 171959)) av|av, 2442205060011518321 ((172020, 172099)) dem.|dem., 2442205060011518321 ((173380, 173419)) På|På, 2442205060011518321 ((173500, 173740)) vilket|vilket, 2442205060011518321 ((173820, 174039)) sätt|sätt, 2442205060011518321 ((174140, 174320)) barn|barn, 2442205060011518321 ((174380, 174460)) får|får, 2442205060011518321 ((174500, 174560)) det|det, 2442205060011518321 ((174640, 174980)) bättre|bättre, 2442205060011518321 ((175060, 175120)) av|av, 2442205060011518321 ((175160, 175199)) en|en, 2442205060011518321 ((175280, 175900)) könsneutral|könsneutral, 2442205060011518321 ((175960, 176619)) föräldrabalk|föräldrabalk, 2442205060011518321 ((176880, 176960)) är|är, 2442205060011518321 ((177060, 177319)) kanske|kanske, 2442205060011518321 ((177360, 177499)) inte|inte, 2442205060011518321 ((177499, 177499)) <eps>|en, 2442205060011518321 ((177600, 177819)) helt|helt, 2442205060011518321 ((177920, 178320)) enkelt|enkel, 2442205060011518321 ((179120, 179639)) formulering|fråga, 2442205060011518321 ((179700, 179800)) att|att, 2442205060011518321 ((179820, 180120)) svara|svara, 2442205060011518321 ((180220, 180300)) på|<eps>, 2442205060011518321 ((181300, 181360)) då|på., 2442205060011518321 ((181480, 181860)) Sanningen|Sanningen, 2442205060011518321 ((181920, 181960)) är|är, 2442205060011518321 ((182020, 182119)) att|att, 2442205060011518321 ((182160, 182319)) barn|barn, 2442205060011518321 ((182380, 182740)) knappast|knappast, 2442205060011518321 ((182800, 182939)) bör|berörs, 2442205060011518321 ((183100, 183380)) alls|alls, 2442205060011518321 ((183380, 183380)) <eps>|av, 2442205060011518321 ((183440, 183500)) om|om, 2442205060011518321 ((183580, 184219)) lagtexten|lagtexten, 2442205060011518321 ((184320, 184539)) säger|säger, 2442205060011518321 ((184539, 184539)) <eps>|\"fader\", 2442205060011518321 ((184660, 185099)) fader|i, 2442205060011518321 ((185220, 185639)) istället|stället, 2442205060011518321 ((185720, 185840)) för|för, 2442205060011518321 ((186280, 186419)) den|\"den, 2442205060011518321 ((186500, 186580)) som|som, 2442205060011518321 ((186680, 187199)) bidragit|bidragit, 2442205060011518321 ((187260, 187400)) med|med, 2442205060011518321 ((187580, 188219)) könsceller\".|könsceller\"., 2442205060011518321 ((188820, 188900)) Det|Det, 2442205060011518321 ((188920, 188980)) är|är, 2442205060011518321 ((189020, 189119)) ett|ett, 2442205060011518321 ((189180, 189860)) ickeproblem|icke-problem, 2442205060011518321 ((190200, 190280)) för|för, 2442205060011518321 ((190360, 190599)) barn,|barn,, 2442205060011518321 ((190760, 190860)) och|och, 2442205060011518321 ((190920, 191300)) egentligen|egentligen, 2442205060011518321 ((191320, 191400)) har|har, 2442205060011518321 ((191420, 191480)) jag|jag, 2442205060011518321 ((191540, 191660)) inga|inga, 2442205060011518321 ((191720, 192000)) problem|problem, 2442205060011518321 ((192020, 192059)) me|med, 2442205060011518321 ((192120, 192199)) att|att, 2442205060011518321 ((192240, 192399)) dessa|dessa, 2442205060011518321 ((192480, 192820)) texter|texter, 2442205060011518321 ((192900, 193539)) justeras|justeras, 2442205060011518321 ((193920, 193980)) om|om, 2442205060011518321 ((194060, 194120)) det|det, 2442205060011518321 ((194280, 194659)) inte|inte, 2442205060011518321 ((194760, 194940)) blir|blir, 2442205060011518321 ((195020, 195159)) till|till, 2442205060011518321 ((195200, 195260)) det|det, 2442205060011518321 ((195340, 195699)) sämre|sämre, 2442205060011518321 ((195760, 195840)) för|för, 2442205060011518321 ((195900, 195960)) den|den, 2442205060011518321 ((196020, 196259)) stora|stora, 2442205060011518321 ((196340, 196680)) massan|massan, 2442205060011518321 ((196740, 196800)) av|av, 2442205060011518321 ((196860, 197059)) barn|barn, 2442205060011518321 ((197120, 197139)) i|i, 2442205060011518321 ((197180, 197279)) dag.|dag., 2442205060011518321 ((198480, 198580)) Den|Den, 2442205060011518321 ((198680, 198939)) andra|andra, 2442205060011518321 ((199060, 199539)) frågan|frågan, 2442205060011518321 ((199800, 199860)) om|-, 2442205060011518321 ((199940, 200180)) varför|varför, 2442205060011518321 ((200280, 200460)) inte|<eps>, 2442205060011518321 ((200540, 200600)) en|en, 2442205060011518321 ((201060, 201539)) utredning|utredning, 2442205060011518321 ((201620, 201659)) av|av, 2442205060011518321 ((201720, 202439)) föräldrabalken|föräldrabalken, 2442205060011518321 ((202560, 202800)) också|inte, 2442205060011518321 ((202900, 202999)) får|får, 2442205060011518321 ((203100, 203479)) tydliga|tydliga, 2442205060011518321 ((203580, 204059)) direktiv|direktiv, 2442205060011518321 ((204180, 204240)) om|om, 2442205060011518321 ((204320, 204440)) att|att, 2442205060011518321 ((204500, 204819)) lösa|lösa, 2442205060011518321 ((204960, 205419)) krockarna|krockarna, 2442205060011518321 ((205520, 205739)) mellan|mellan, 2442205060011518321 ((205820, 206639)) barnkomvensionen|barnkonventionen, 2442205060011518321 ((206680, 206759)) och|och, 2442205060011518321 ((206800, 207499)) föräldrabalken|föräldrabalken, 2442205060011518321 ((207499, 207499)) <eps>|-, 2442205060011518321 ((208540, 208699)) har|har, 2442205060011518321 ((208920, 209500)) betydligt|betydligt, 2442205060011518321 ((209600, 209880)) större|större, 2442205060011518321 ((209960, 210520)) betydelse.|betydelse., 2442205060011518321 ((211620, 212419)) Barnkonventionen|Barnkonventionen, 2442205060011518321 ((212580, 212759)) är|är, 2442205060011518321 ((213060, 213080)) i|i, 2442205060011518321 ((213160, 213379)) dag|dag, 2442205060011518321 ((213520, 213739)) lag|lag, 2442205060011518321 ((213860, 213879)) i|i, 2442205060011518321 ((213960, 214259)) Sverige.|Sverige., 2442205060011518321 ((215000, 215159)) Ändå|Ändå, 2442205060011518321 ((215220, 215259)) är|är, 2442205060011518321 ((215300, 215360)) det|det, 2442205060011518321 ((215440, 215819)) tydligt|tydligt, 2442205060011518321 ((215860, 215959)) att|att, 2442205060011518321 ((216000, 216240)) Sverige|Sverige, 2442205060011518321 ((216280, 216400)) inte|inte, 2442205060011518321 ((216480, 216660)) lever|lever, 2442205060011518321 ((216720, 216819)) upp|upp, 2442205060011518321 ((216880, 217000)) till|till, 2442205060011518321 ((217020, 217159)) allt|allt, 2442205060011518321 ((217200, 217260)) som|som, 2442205060011518321 ((217340, 217520)) står|står, 2442205060011518321 ((217560, 217599)) i|i, 2442205060011518321 ((217660, 218580)) barnkonventionen|<eps>, 2442205060011518321 ((219060, 219139)) och|barnkonventionen., 2442205060011518321 ((219160, 219220)) Vi|Vi, 2442205060011518321 ((219300, 219419)) ger|ger, 2442205060011518321 ((219500, 219680)) inte|inte, 2442205060011518321 ((219780, 219979)) alla|alla, 2442205060011518321 ((220100, 220380)) barn|barn, 2442205060011518321 ((220660, 220720)) de|de, 2442205060011518321 ((220840, 221400)) rättigheter|rättigheter, 2442205060011518321 ((221460, 221539)) som|som, 2442205060011518321 ((221620, 221659)) vi|<eps>, 2442205060011518321 ((221760, 221979)) säger|<eps>, 2442205060011518321 ((222020, 222119)) att|<eps>, 2442205060011518321 ((222160, 222199)) de|de, 2442205060011518321 ((222300, 222399)) ska|ska, 2442205060011518321 ((222580, 222639)) ha|ha, 2442205060011518321 ((222960, 223199)) enligt|enligt, 2442205060011518321 ((223240, 223979)) barnkomvissionen|barnkonventionen., 2442205060011518321 ((225180, 225259)) Jag|Jag, 2442205060011518321 ((225340, 225680)) förstår|förstår, 2442205060011518321 ((225760, 226040)) faktiskt|faktiskt, 2442205060011518321 ((226080, 226199)) inte|inte, 2442205060011518321 ((226240, 226300)) hur|hur, 2442205060011518321 ((226360, 226419)) man|man, 2442205060011518321 ((226480, 226580)) kan|kan, 2442205060011518321 ((226700, 227100)) bortse|bortse, 2442205060011518321 ((227240, 227459)) från|från, 2442205060011518321 ((227600, 227699)) att|att, 2442205060011518321 ((227760, 227800)) ta|ta, 2442205060011518321 ((227920, 228139)) med|med, 2442205060011518321 ((228420, 228480)) en|en, 2442205060011518321 ((228540, 229139)) korrigering|korrigering, 2442205060011518321 ((229240, 229300)) av|av, 2442205060011518321 ((229360, 229559)) dessa|dessa, 2442205060011518321 ((229620, 230199)) aspekter|aspekter, 2442205060011518321 ((230600, 230680)) när|när, 2442205060011518321 ((230720, 230800)) man|man, 2442205060011518321 ((230900, 231499)) tillsätter|tillsätter, 2442205060011518321 ((231540, 231600)) en|en, 2442205060011518321 ((231700, 232300)) utredning|utredning, 2442205060011518321 ((232680, 232759)) som|som, 2442205060011518321 ((232820, 232880)) har|har, 2442205060011518321 ((232940, 233080)) till|till, 2442205060011518321 ((233140, 233660)) uppgift|uppgift, 2442205060011518321 ((234020, 234119)) att|att, 2442205060011518321 ((234160, 234419)) skriva|skriva, 2442205060011518321 ((234500, 234580)) om|om, 2442205060011518321 ((234700, 234960)) just|<eps>, 2442205060011518321 ((235060, 235819)) föräldrabalken.|föräldrabalken., 2442205060011518321 ((237060, 237139)) Den|Den, 2442205060011518321 ((237240, 237679)) tidigare|tidigare, 2442205060011518321 ((237760, 238360)) utredningen|utredningen, 2442205060011518321 ((238700, 239080)) pekade|pekade, 2442205060011518321 ((239140, 239240)) ut|ut, 2442205060011518321 ((239340, 239800)) problemen|problemen, 2442205060011518321 ((239900, 240479)) tydligt|tydligt, 2442205060011518321 ((240880, 240960)) men|men, 2442205060011518321 ((241020, 241139)) gav|gav, 2442205060011518321 ((241220, 241400)) inte|inga, 2442205060011518321 ((241500, 241699)) svar|svar, 2442205060011518321 ((241780, 241840)) på|på, 2442205060011518321 ((241920, 242020)) hur|hur, 2442205060011518321 ((242060, 242099)) de|de, 2442205060011518321 ((242220, 242419)) kunde|kunde, 2442205060011518321 ((242520, 243020)) lösas.|lösas., 2442205060011518321 ((243860, 244279)) Rimligt|Rimligt, 2442205060011518321 ((244340, 244499)) vore|vore, 2442205060011518321 ((244560, 244620)) ju|<eps>, 2442205060011518321 ((244680, 244719)) då|då, 2442205060011518321 ((244820, 244919)) att|att, 2442205060011518321 ((244980, 245020)) en|en, 2442205060011518321 ((245120, 245180)) ny|ny, 2442205060011518321 ((245420, 246080)) utredning|utredning, 2442205060011518321 ((246420, 246500)) som|som, 2442205060011518321 ((246600, 246680)) har|har, 2442205060011518321 ((246740, 246899)) till|till, 2442205060011518321 ((246980, 247340)) uppgift|uppgift, 2442205060011518321 ((247380, 247479)) att|att, 2442205060011518321 ((247520, 247719)) skriva|skriva, 2442205060011518321 ((247800, 247879)) om|om, 2442205060011518321 ((248000, 248740)) föräldrabalken|föräldrabalken, 2442205060011518321 ((249100, 249180)) får|får, 2442205060011518321 ((249280, 249499)) komma|komma, 2442205060011518321 ((249580, 249639)) med|med, 2442205060011518321 ((249720, 250259)) lösningar|lösningar, 2442205060011518321 ((250380, 250440)) på|på, 2442205060011518321 ((250540, 250620)) hur|hur, 2442205060011518321 ((250700, 251440)) barnkomvensionen|<eps>, 2442205060011518321 ((252020, 252419)) faktiskt|barnkonventionen, 2442205060011518321 ((252440, 252520)) ska|ska, 2442205060011518321 ((252620, 252680)) få|få, 2442205060011518321 ((252760, 253300)) genomslag|genomslag, 2442205060011518321 ((253700, 253780)) på|på, 2442205060011518321 ((253920, 254500)) riktigt.|riktigt., 2442205060011518321 ((256700, 256779)) En|En, 2442205060011518321 ((256899, 257559)) rundringning|rundringning, 2442205060011518321 ((257620, 257839)) till|till, 2442205060011518321 ((257899, 258059)) våra|våra, 2442205060011518321 ((258140, 258959)) socialtjänster|socialtjänster, 2442205060011518321 ((259000, 259019)) i|i, 2442205060011518321 ((259079, 259119)) de|de, 2442205060011518321 ((259200, 259420)) större|större, 2442205060011518321 ((259500, 259959)) kommunerna|kommunerna, 2442205060011518321 ((260160, 260259)) med|med, 2442205060011518321 ((260339, 260399)) en|en, 2442205060011518321 ((260480, 260819)) fråga|fråga, 2442205060011518321 ((260940, 260980)) om|om, 2442205060011518321 ((261140, 261760)) tjänstemännen|tjänstemännen, 2442205060011518321 ((261820, 261880)) nu|nu, 2442205060011518321 ((261959, 262039)) var|var, 2442205060011518321 ((262100, 262799)) informerade|informerade, 2442205060011518321 ((262860, 262920)) om|om, 2442205060011518321 ((263000, 263100)) att|att, 2442205060011518321 ((263140, 263180)) de|de, 2442205060011518321 ((263260, 263320)) ska|ska, 2442205060011518321 ((263460, 263740)) tänka|tänka, 2442205060011518321 ((263840, 263880)) på|på, 2442205060011518321 ((263980, 264998)) barnkonventioen|barnkonventionen, 2442205060011518321 ((265580, 265760)) gav|gav, 2442205060011518321 ((265880, 266360)) svaret:|svaret:, 2442205060011518321 ((266880, 267120)) Nej,|Nej,, 2442205060011518321 ((267240, 267319)) det|det, 2442205060011518321 ((267360, 267439)) har|har, 2442205060011518321 ((267520, 267680)) inte|inte, 2442205060011518321 ((267780, 268320)) påverkat|påverkat, 2442205060011518321 ((268360, 268499)) våra|våra, 2442205060011518321 ((268560, 268939)) interna|interna, 2442205060011518321 ((269040, 269559)) riktlinjer.|riktlinjer., 2442205060011518321 ((270260, 271180)) Barnkonventionen|Barnkonventionen, 2442205060011518321 ((271340, 271560)) är|är, 2442205060011518321 ((271840, 271940)) och|och, 2442205060011518321 ((272060, 272519)) förblir|förblir, 2442205060011518321 ((272660, 273720)) plakatpolitik|plakatpolitik, 2442205060011518321 ((274400, 274460)) om|om, 2442205060011518321 ((274540, 274639)) den|den, 2442205060011518321 ((274740, 274980)) inte|inte, 2442205060011518321 ((275040, 275119)) ska|får, 2442205060011518321 ((275220, 275639)) betyda|betyda, 2442205060011518321 ((275720, 275979)) något|något, 2442205060011518321 ((276040, 276059)) i|i, 2442205060011518321 ((276140, 276680)) praktiken.|praktiken., 2442205060011518321 ((278200, 278720)) Regeringen|Regeringen, 2442205060011518321 ((278780, 278860)) har|har, 2442205060011518321 ((278980, 279480)) struntat|struntat, 2442205060011518321 ((279540, 279559)) i|i, 2442205060011518321 ((279660, 279759)) att|att, 2442205060011518321 ((279800, 279939)) lägga|lägga, 2442205060011518321 ((280000, 280060)) in|in, 2442205060011518321 ((280140, 280360)) barns|barns, 2442205060011518321 ((280420, 280959)) rättigheter|rättigheter, 2442205060011518321 ((281020, 281100)) och|och, 2442205060011518321 ((281160, 281399)) däras|deras, 2442205060011518321 ((281460, 281620)) rätt|rätt, 2442205060011518321 ((281660, 281779)) till|till, 2442205060011518321 ((281820, 282120)) föräldrar|föräldrar, 2442205060011518321 ((282160, 282199)) i|i, 2442205060011518321 ((282260, 282779)) utredningen.|utredningen., 2442205060011518321 ((283240, 283259)) I|I, 2442205060011518321 ((283380, 283779)) stället|stället, 2442205060011518321 ((283820, 283899)) har|har, 2442205060011518321 ((283940, 284360)) regeringen|regeringen, 2442205060011518321 ((284500, 284759)) inte|inte, 2442205060011518321 ((284860, 285299)) försuttit|försuttit, 2442205060011518321 ((285360, 285779)) chansen|chansen, 2442205060011518321 ((286100, 286199)) att|att, 2442205060011518321 ((286240, 286300)) få|få, 2442205060011518321 ((286360, 286439)) med|med, 2442205060011518321 ((286540, 287699)) vuxenperspektivet,|vuxenperspektivet,, 2442205060011518321 ((287920, 288040)) där|där, 2442205060011518321 ((288120, 289079)) föräldraskapet|föräldraskapet, 2442205060011518321 ((289340, 289420)) och|och, 2442205060011518321 ((289520, 289800)) allas|allas, 2442205060011518321 ((289880, 290079)) rätt|rätt, 2442205060011518321 ((290120, 290240)) till|till, 2442205060011518321 ((290280, 290520)) barn|barn, 2442205060011518321 ((290640, 290800)) står|står, 2442205060011518321 ((290860, 290879)) i|i, 2442205060011518321 ((290960, 291380)) fokus.|fokus., 2442205060011518321 ((292680, 293059)) flera|Fler, 2442205060011518321 ((293140, 293740)) möjligheter|möjligheter, 2442205060011518321 ((293980, 294100)) att|att, 2442205060011518321 ((294160, 294259)) bli|bli, 2442205060011518321 ((294400, 294880)) förälder|förälder, 2442205060011518321 ((295000, 295079)) och|och, 2442205060011518321 ((295140, 295459)) flera|fler, 2442205060011518321 ((295580, 296019)) föräldrar|föräldrar, 2442205060011518321 ((296140, 296200)) än|än, 2442205060011518321 ((296300, 296439)) två|två, 2442205060011518321 ((296439, 296439)) <eps>|är, 2442205060011518321 ((296940, 297139)) inte|inte, 2442205060011518321 ((297240, 298139)) barnperspektiv|barnperspektiv, 2442205060011518321 ((298280, 298540)) utan|utan, 2442205060011518321 ((298600, 298720)) ett|<eps>, 2442205060011518321 ((298760, 299199)) tydligt|tydligt, 2442205060011518321 ((299280, 300180)) vuxenperspektiv.|vuxenperspektiv., 2442205060011518321 ((301340, 301720)) Tidigare|Tidigare, 2442205060011518321 ((301760, 301820)) har|har, 2442205060011518321 ((301880, 302319)) regeringen|regeringen, 2442205060011518321 ((302380, 302540)) gjort|gjort, 2442205060011518321 ((302560, 302620)) det|det, 2442205060011518321 ((302680, 302980)) möjligt|möjligt, 2442205060011518321 ((303020, 303080)) för|för, 2442205060011518321 ((303160, 303779)) ensamstående|ensamstående, 2442205060011518321 ((304240, 304660)) kvinnor|kvinnor, 2442205060011518321 ((304760, 304880)) att|att, 2442205060011518321 ((304940, 305540)) inciminera|inseminera,, 2442205060011518321 ((305960, 306200)) vilket|vilket, 2442205060011518321 ((306260, 306279)) i|i, 2442205060011518321 ((306600, 307199)) praktiken|praktiken, 2442205060011518321 ((307360, 307459)) tar|tar, 2442205060011518321 ((307560, 307879)) bort|bort, 2442205060011518321 ((307960, 308060)) en|en, 2442205060011518321 ((308140, 308480)) föräldrer|förälder, 2442205060011518321 ((308520, 308640)) från|från, 2442205060011518321 ((308880, 309220)) brnet|barnet, 2442205060011518321 ((309300, 309660)) helt.|helt., 2442205060011518321 ((310320, 310380)) Men|Men, 2442205060011518321 ((310460, 310640)) detta|detta, 2442205060011518321 ((310700, 310959)) räcker|räcker, 2442205060011518321 ((311000, 311180)) alltså|alltså, 2442205060011518321 ((311240, 311439)) inte.|inte., 2442205060011518321 ((312080, 312300)) Ännu|Ännu, 2442205060011518321 ((312380, 312560)) fler|fler, 2442205060011518321 ((312640, 312800)) måste|måste, 2442205060011518321 ((312840, 313000)) kunna|kunna, 2442205060011518321 ((313060, 313120)) bli|bli, 2442205060011518321 ((313220, 313579)) föräldrer|föräldrar,, 2442205060011518321 ((313660, 313859)) enligt|enligt, 2442205060011518321 ((313920, 314379)) regeringen.|regeringen., 2442205060011518321 ((314900, 314980)) När|När, 2442205060011518321 ((315020, 315060)) vi|vi, 2442205060011518321 ((315160, 315399)) andra|andra, 2442205060011518321 ((315520, 315940)) partier|partier, 2442205060011518321 ((316020, 316420)) funderar|funderar, 2442205060011518321 ((316500, 316639)) över|över, 2442205060011518321 ((316720, 316839)) hur|hur, 2442205060011518321 ((316900, 316980)) man|man, 2442205060011518321 ((317020, 317100)) ska|ska, 2442205060011518321 ((317200, 317459)) höja|höja, 2442205060011518321 ((317560, 318100)) kvaliteten|kvaliteten, 2442205060011518321 ((318160, 318220)) på|på, 2442205060011518321 ((318320, 318740)) föräldrar|föräldrar, 2442205060011518321 ((318860, 319059)) genom|genom, 2442205060011518321 ((319140, 319440)) ökade|ökade, 2442205060011518321 ((319540, 320220)) satsningar|satsningar, 2442205060011518321 ((320300, 320339)) på|på, 2442205060011518321 ((320440, 321339)) föräldrautbildning|föräldrautbildning, 2442205060011518321 ((321760, 321839)) och|och, 2442205060011518321 ((321920, 322239)) stöd|stöd, 2442205060011518321 ((322320, 322459)) till|till, 2442205060011518321 ((322500, 323000)) föräldrar|föräldrar, 2442205060011518321 ((323460, 323500)) på|på, 2442205060011518321 ((323580, 323860)) olika|olika, 2442205060011518321 ((323980, 324299)) sätt,|sätt,, 2442205060011518321 ((324720, 325099)) samtidigt|samtidigt, 2442205060011518321 ((325140, 325200)) som|som, 2442205060011518321 ((325240, 325319)) han|man, 2442205060011518321 ((325400, 325640)) helst|helst, 2442205060011518321 ((325680, 325839)) skulle|skulle, 2442205060011518321 ((325920, 326079)) kunna|<eps>, 2442205060011518321 ((326180, 326259)) se|se, 2442205060011518321 ((326380, 326500)) att|att, 2442205060011518321 ((326540, 326600)) man|man, 2442205060011518321 ((326660, 326839)) kanske|kanske, 2442205060011518321 ((326900, 327040)) kunde|kunde, 2442205060011518321 ((327100, 327539)) förhindra|hindra, 2442205060011518321 ((327640, 328100)) olämpliga|olämpliga, 2442205060011518321 ((328099, 328099)) <eps>|från, 2442205060011518321 ((328140, 328240)) att|att, 2442205060011518321 ((328280, 328580)) skaffa|skaffa, 2442205060011518321 ((328660, 328879)) barn|<eps>, 2442205060011518321 ((329460, 329520)) då|barn,, 2442205060011518321 ((329640, 329760)) gör|gör, 2442205060011518321 ((329820, 330279)) regeringen|regeringen, 2442205060011518321 ((330360, 330699)) precis|precis, 2442205060011518321 ((330780, 331260)) tvärtom.|tvärtom., 2442205060011518321 ((332120, 332180)) de|Regeringen, 2442205060011518321 ((332320, 332639)) satsar|satsar, 2442205060011518321 ((332700, 332740)) på|på, 2442205060011518321 ((332840, 333560)) kvantitet|kvantitet, 2442205060011518321 ((333680, 333699)) i|i, 2442205060011518321 ((333760, 334040)) stället|stället, 2442205060011518321 ((334100, 334179)) för|för, 2442205060011518321 ((334240, 334819)) kvalitet:|kvalitet:, 2442205060011518321 ((335620, 335879)) Alla|Alla, 2442205060011518321 ((336120, 336199)) ska|ska, 2442205060011518321 ((336280, 336340)) ha|ha, 2442205060011518321 ((336400, 336580)) rätt|rätt, 2442205060011518321 ((336600, 336739)) till|till, 2442205060011518321 ((336760, 336980)) barn.|barn., 2442205060011518321 ((337780, 337860)) Kan|Kan, 2442205060011518321 ((337920, 337999)) man|man, 2442205060011518321 ((338060, 338180)) inte|inte, 2442205060011518321 ((338260, 338320)) få|få, 2442205060011518321 ((338400, 338460)) dem|dem, 2442205060011518321 ((338600, 338919)) själv|själv, 2442205060011518321 ((339060, 339120)) så|<eps>, 2442205060011518321 ((339200, 339279)) ska|ska, 2442205060011518321 ((339400, 339820)) staten|staten, 2442205060011518321 ((339900, 340180)) fixa|fixa, 2442205060011518321 ((340240, 340319)) det,|det,, 2442205060011518321 ((341160, 341359)) eller|eller, 2442205060011518321 ((341640, 341680)) så|så, 2442205060011518321 ((341760, 341860)) kan|kan, 2442205060011518321 ((341920, 341999)) man|man, 2442205060011518321 ((342060, 342120)) ju|<eps>, 2442205060011518321 ((342620, 343059)) utnyttja|utnyttja, 2442205060011518321 ((343160, 344039)) sogatmödrare|surrogatmödrar, 2442205060011518321 ((344140, 344160)) i|i, 2442205060011518321 ((344280, 344680)) utsatta|utsatta, 2442205060011518321 ((344760, 345060)) länder.|länder., 2442205060011518321 ((346180, 346259)) Och|Och, 2442205060011518321 ((346320, 346639)) fler|fler, 2442205060011518321 ((346900, 347160)) nya|nya, 2442205060011518321 ((347380, 347920)) sociala|sociala, 2442205060011518321 ((348040, 348439)) föräldrar|föräldrar, 2442205060011518321 ((348540, 348699)) till|till, 2442205060011518321 ((348760, 348920)) alla|alla, 2442205060011518321 ((349020, 349260)) barn|barn, 2442205060011518321 ((349660, 349679)) i|i, 2442205060011518321 ((349740, 349999)) stället|stället, 2442205060011518321 ((350040, 350100)) för|för, 2442205060011518321 ((350140, 350220)) att|<eps>, 2442205060011518321 ((350260, 350620)) stödja|stöd, 2442205060011518321 ((350660, 350759)) och|och, 2442205060011518321 ((350759, 350759)) <eps>|hjälp, 2442205060011518321 ((350800, 351100)) hjälpa|till, 2442205060011518321 ((351160, 351220)) de|de, 2442205060011518321 ((351320, 351699)) föräldrar|föräldrar, 2442205060011518321 ((351760, 351839)) som|som, 2442205060011518321 ((351900, 352100)) redan|redan, 2442205060011518321 ((352200, 352579)) finns|finns, 2442205060011518321 ((352900, 352980)) och|och, 2442205060011518321 ((353040, 353119)) som|som, 2442205060011518321 ((353220, 353559)) barnet|barnet, 2442205060011518321 ((353620, 353759)) har.|har., 2442205060011518321 ((354360, 354439)) Det|Det, 2442205060011518321 ((354480, 354519)) är|är, 2442205060011518321 ((354580, 355420)) kvantitet|kvantitet, 2442205060011518321 ((355800, 355819)) i|i, 2442205060011518321 ((355900, 356180)) stället|stället, 2442205060011518321 ((356240, 356319)) för|för, 2442205060011518321 ((356400, 356940)) kvalitet.|kvalitet., 2442205060011518321 ((358380, 358480)) Jag|Jag, 2442205060011518321 ((358580, 358800)) tror|tror, 2442205060011518321 ((358920, 359079)) inte|inte, 2442205060011518321 ((359140, 359240)) att|att, 2442205060011518321 ((359300, 359559)) barns|barns, 2442205060011518321 ((359600, 359999)) situation|situation, 2442205060011518321 ((360060, 360079)) i|i, 2442205060011518321 ((360140, 360440)) sverge|Sverige, 2442205060011518321 ((360520, 360660)) blir|blir, 2442205060011518321 ((360780, 361160)) bättre|bättre, 2442205060011518321 ((361420, 361499)) för|för, 2442205060011518321 ((361560, 361660)) att|att, 2442205060011518321 ((361700, 362120)) regeringen|regeringen, 2442205060011518321 ((362180, 362540)) försöker|försöker, 2442205060011518321 ((362600, 362639)) ge|ge, 2442205060011518321 ((362740, 362920)) barn|barn, 2442205060011518321 ((363040, 363299)) fler|fler, 2442205060011518321 ((363400, 363839)) föräldrar|föräldrar, 2442205060011518321 ((364400, 364440)) än|än, 2442205060011518321 ((364500, 364600)) vad|<eps>, 2442205060011518321 ((364640, 364680)) de|de, 2442205060011518321 ((364780, 364940)) har|har, 2442205060011518321 ((365500, 365639)) genom|genom, 2442205060011518321 ((365680, 365779)) att|att, 2442205060011518321 ((365820, 366000)) hitta|hitta, 2442205060011518321 ((366080, 366120)) på|på, 2442205060011518321 ((366260, 366519)) nya|nya, 2442205060011518321 ((366620, 366920)) begrepp|begrepp, 2442205060011518321 ((366980, 367059)) som|som, 2442205060011518321 ((367160, 367619)) sociala|\"sociala, 2442205060011518321 ((367680, 368079)) föräldrar\"|föräldrar\", 2442205060011518321 ((368140, 368220)) och|och, 2442205060011518321 ((368260, 368500)) skriva|skriva, 2442205060011518321 ((368560, 368639)) in|in, 2442205060011518321 ((368740, 368999)) dessa|dessa, 2442205060011518321 ((369120, 369139)) i|i, 2442205060011518321 ((369240, 369939)) föräldrabalken.|föräldrabalken., 2442205060011518321 ((370840, 371080)) Morgan|Morgan, 2442205060011518321 ((371140, 371560)) Johansson|Johansson, 2442205060011518321 ((371860, 372259)) framhåller|framhåller, 2442205060011518321 ((372380, 372660)) själv|själv, 2442205060011518321 ((372860, 373199)) vikten|vikten, 2442205060011518321 ((373280, 373340)) av|av, 2442205060011518321 ((373420, 373540)) att|att, 2442205060011518321 ((373700, 374079)) sociala|sociala, 2442205060011518321 ((374160, 374459)) föräldrar|föräldrar, 2442205060011518321 ((374500, 374560)) ska|ska, 2442205060011518321 ((374660, 375239)) uppmärksammas|uppmärksammas, 2442205060011518321 ((375280, 375320)) i|i, 2442205060011518321 ((375380, 376040)) föräldrabalket|föräldrabalken,, 2442205060011518321 ((376340, 376620)) vilket|vilket, 2442205060011518321 ((376680, 376800)) jag|jag, 2442205060011518321 ((376880, 376959)) har|har, 2442205060011518321 ((377060, 377360)) svårt|svårt, 2442205060011518321 ((377420, 377519)) att|att, 2442205060011518321 ((377560, 377639)) se|se, 2442205060011518321 ((377760, 377899)) någon|någon, 2442205060011518321 ((377960, 378279)) fördel|fördel, 2442205060011518321 ((378279, 378279)) <eps>|med., 2442205060011518321 ((378360, 378459)) med|I, 2442205060011518321 ((379000, 379019)) i|kommittédirektivet, 2442205060011518321 ((379100, 380379)) kommittedirektivet|talas, 2442205060011518321 ((380440, 380779)) pratas|det, 2442205060011518321 ((380880, 381079)) till|till, 2442205060011518321 ((381120, 381199)) och|och, 2442205060011518321 ((381260, 381360)) med|med, 2442205060011518321 ((381420, 381459)) om|om, 2442205060011518321 ((381500, 381600)) att|att, 2442205060011518321 ((381640, 381700)) ge|ge, 2442205060011518321 ((381820, 382220)) sociala|sociala, 2442205060011518321 ((382280, 382620)) föräldrar|föräldrar, 2442205060011518321 ((382680, 383139)) juridiskt|juridiskt, 2442205060011518321 ((383200, 383600)) ansvar|ansvar, 2442205060011518321 ((383680, 383779)) för|för, 2442205060011518321 ((383840, 384220)) barnet.|barnet., 2442205060011518321 ((384940, 385000)) Nu|Nu, 2442205060011518321 ((385120, 385579)) hoppas|hoppas, 2442205060011518321 ((385640, 385720)) jag|jag, 2442205060011518321 ((385800, 385920)) att|att, 2442205060011518321 ((386000, 386540)) utredaren|utredaren, 2442205060011518321 ((386580, 386779)) kommer|kommer, 2442205060011518321 ((386800, 386899)) att|att, 2442205060011518321 ((386940, 387180)) förstå|förstå, 2442205060011518321 ((387300, 387399)) att|att, 2442205060011518321 ((387420, 387499)) det|det, 2442205060011518321 ((387520, 387580)) är|är, 2442205060011518321 ((387620, 388199)) olämpligt|olämpligt, 2442205060011518321 ((388260, 388339)) med|med, 2442205060011518321 ((388400, 388680)) flera|fler, 2442205060011518321 ((388760, 389120)) föräldrar,|föräldrar,, 2442205060011518321 ((389560, 389620)) men|men, 2442205060011518321 ((389700, 389760)) det|det, 2442205060011518321 ((389820, 389899)) har|har, 2442205060011518321 ((389980, 390119)) hänt|hänt, 2442205060011518321 ((390180, 390360)) förr|förr, 2442205060011518321 ((390420, 390519)) att|att, 2442205060011518321 ((390580, 391100)) utredningar|utredningar, 2442205060011518321 ((391160, 391220)) har|<eps>, 2442205060011518321 ((391280, 391860)) föreslagit|föreslagit, 2442205060011518321 ((392220, 392679)) olämpliga|olämpliga, 2442205060011518321 ((392780, 393280)) förändringar.|förändringar., 2442205060011518321 ((395960, 397120)) justitiemigrationsminister|<eps>, 2442205060011518321 ((397200, 397420)) morgan|<eps>, 2442205060011518321 ((397460, 397800)) johansson|<eps>, 2442205060011518321 ((397860, 398239)) varsågod|<eps>, 2442205060011518321 ((399580, 400440)) tackfört|<eps>, 2442205060011518321 ((400480, 400499)) a|Fru, 2442205060011518321 ((400600, 400660)) man|talman!, 2442205060011518321 ((400680, 400779)) Till|Till, 2442205060011518321 ((400820, 400860)) en|en, 2442205060011518321 ((400900, 401020)) början|början, 2442205060011518321 ((401080, 401140)) var|var, 2442205060011518321 ((401160, 401220)) det|det, 2442205060011518321 ((401240, 401360)) lite|lite, 2442205060011518321 ((401420, 401579)) svårt|svårt, 2442205060011518321 ((401620, 401699)) att|att, 2442205060011518321 ((401740, 401959)) förstå|förstå, 2442205060011518321 ((402080, 402160)) vad|vad, 2442205060011518321 ((402200, 402360)) mikel|<eps>, 2442205060011518321 ((402400, 402620)) leskul|Mikael, 2442205060011518321 ((402660, 402919)) anderson|Eskilandersson, 2442205060011518321 ((402960, 403240)) egentligen|egentligen, 2442205060011518321 ((403260, 403339)) var|var, 2442205060011518321 ((403400, 403620)) ute|ute, 2442205060011518321 ((403700, 403980)) efter|<eps>, 2442205060011518321 ((404080, 404480)) eftersom|<eps>, 2442205060011518321 ((404540, 404619)) han|efter., 2442205060011518321 ((404800, 404839)) I|I, 2442205060011518321 ((404920, 405059)) sina|sina, 2442205060011518321 ((405100, 405720)) intepelationer|interpellationer, 2442205060011518321 ((405780, 406200)) blandar|blandar, 2442205060011518321 ((406380, 406540)) liksom|han, 2442205060011518321 ((406620, 406800)) alla|alla, 2442205060011518321 ((407240, 407540)) frågor|frågor, 2442205060011518321 ((407600, 407619)) i|i, 2442205060011518321 ((407680, 407740)) en|en, 2442205060011518321 ((407800, 407980)) enda|enda, 2442205060011518321 ((408700, 409019)) röra|<eps>, 2442205060011518321 ((409160, 409199)) så|<eps>, 2442205060011518321 ((409260, 409420)) att|röra., 2442205060011518321 ((409840, 409960)) Till|Till, 2442205060011518321 ((410000, 410180)) slut|slut, 2442205060011518321 ((410280, 410460)) undrar|undrar, 2442205060011518321 ((410500, 410579)) man|man, 2442205060011518321 ((410620, 410660)) om|om, 2442205060011518321 ((410700, 410760)) det|det, 2442205060011518321 ((410800, 410839)) är|<eps>, 2442205060011518321 ((410860, 410939)) bara|bara, 2442205060011518321 ((410939, 410939)) <eps>|är, 2442205060011518321 ((411000, 411100)) någon|något, 2442205060011518321 ((411120, 411259)) slags|slags, 2442205060011518321 ((411259, 411259)) <eps>|seminarieövningar, 2442205060011518321 ((411300, 411959)) seminarieövning|som, 2442205060011518321 ((412020, 412100)) han|han, 2442205060011518321 ((412160, 412199)) är|är, 2442205060011518321 ((412560, 412680)) häd|<eps>, 2442205060011518321 ((412780, 412940)) ite|ute, 2442205060011518321 ((413260, 413540)) efter.|efter., 2442205060011518321 ((414180, 414300)) Men|Men, 2442205060011518321 ((414400, 414480)) jag|jag, 2442205060011518321 ((414560, 414680)) kan|kan, 2442205060011518321 ((415100, 415319)) beta|beta, 2442205060011518321 ((415380, 415480)) av|av, 2442205060011518321 ((415540, 415839)) frågorna|frågorna, 2442205060011518321 ((415900, 416000)) här|här, 2442205060011518321 ((416260, 417899)) eftrten|en, 2442205060011518321 ((417960, 418140)) efter|efter, 2442205060011518321 ((418220, 418319)) en|<eps>, 2442205060011518321 ((419100, 419160)) men|en., 2442205060011518321 ((419200, 419300)) Till|Till, 2442205060011518321 ((419320, 419399)) att|att, 2442205060011518321 ((419420, 419540)) börja|börja, 2442205060011518321 ((419560, 419639)) med|med, 2442205060011518321 ((419680, 419740)) kan|kan, 2442205060011518321 ((419780, 419860)) man|man, 2442205060011518321 ((419880, 419980)) väl|väl, 2442205060011518321 ((420040, 420160)) ändå|ändå, 2442205060011518321 ((420280, 420540)) säga|säga, 2442205060011518321 ((421000, 421240)) att|att, 2442205060011518321 ((421800, 422519)) utgångspunktern|utgångspunkten, 2442205060011518321 ((422560, 422639)) för|för, 2442205060011518321 ((422720, 422959)) barn|barn, 2442205060011518321 ((423100, 423519)) generellt|generellt, 2442205060011518321 ((423560, 423720)) sett|sett, 2442205060011518321 ((423760, 423779)) i|i, 2442205060011518321 ((423840, 424120)) Sverige|Sverige, 2442205060011518321 ((424160, 424220)) är|är, 2442205060011518321 ((424280, 424500)) väldigt|väldigt, 2442205060011518321 ((424500, 424500)) <eps>|god., 2442205060011518321 ((424500, 424500)) <eps>|Det, 2442205060011518321 ((424560, 424819)) god|finns, 2442205060011518321 ((425480, 425600)) till|till, 2442205060011518321 ((425620, 425699)) och|och, 2442205060011518321 ((425720, 425779)) med|med, 2442205060011518321 ((425840, 425900)) så|<eps>, 2442205060011518321 ((425980, 426079)) att|<eps>, 2442205060011518321 ((426100, 426160)) det|<eps>, 2442205060011518321 ((426180, 426300)) finns|<eps>, 2442205060011518321 ((426360, 426480)) många|många, 2442205060011518321 ((426540, 427100)) utvärderingar|utvärderingar, 2442205060011518321 ((427160, 427239)) som|som, 2442205060011518321 ((427300, 427559)) visar|visar, 2442205060011518321 ((427960, 428060)) att|att, 2442205060011518321 ((428120, 428399)) Sverige|Sverige, 2442205060011518321 ((428440, 428500)) är|är, 2442205060011518321 ((428560, 428720)) bland|bland, 2442205060011518321 ((428780, 428820)) de|de, 2442205060011518321 ((429220, 429559)) bästa|bästa, 2442205060011518321 ((429660, 429919)) länder|länderna, 2442205060011518321 ((429980, 429999)) i|i, 2442205060011518321 ((430060, 430439)) världen|världen, 2442205060011518321 ((430720, 430819)) när|<eps>, 2442205060011518321 ((430860, 430920)) det|<eps>, 2442205060011518321 ((430960, 431140)) gäller|<eps>, 2442205060011518321 ((431180, 431279)) att|<eps>, 2442205060011518321 ((431300, 431540)) växa|<eps>, 2442205060011518321 ((431620, 431879)) upp|<eps>, 2442205060011518321 ((432220, 432299)) får|för, 2442205060011518321 ((432340, 432480)) barn|barn, 2442205060011518321 ((432520, 432600)) att|att, 2442205060011518321 ((432620, 432800)) växa|växa, 2442205060011518321 ((432860, 433059)) upp|upp, 2442205060011518321 ((433320, 433339)) i.|i., 2442205060011518321 ((434640, 434740)) och|Det, 2442205060011518321 ((434760, 434860)) detär|är, 2442205060011518321 ((434900, 435020)) ingen|ingen, 2442205060011518321 ((435060, 435660)) tillfällighet|<eps>, 2442205060011518321 ((435800, 435899)) det|tillfällighet,, 2442205060011518321 ((436040, 436160)) utan|utan, 2442205060011518321 ((436200, 436260)) det|det, 2442205060011518321 ((436280, 436340)) är|är, 2442205060011518321 ((436360, 436420)) en|en, 2442205060011518321 ((436520, 436839)) följd|följd, 2442205060011518321 ((436920, 437199)) utav|av, 2442205060011518321 ((437480, 437779)) många|många, 2442205060011518321 ((437940, 438259)) års|års, 2442205060011518321 ((438259, 438259)) <eps>|reformarbete,, 2442205060011518321 ((438620, 438800)) inte|inte, 2442205060011518321 ((438880, 439100)) minst|minst, 2442205060011518321 ((439160, 440099)) socialdemokratiskt|<eps>, 2442205060011518321 ((440120, 441199)) reformarbete|socialdemokratiskt,, 2442205060011518321 ((441620, 441699)) där|där, 2442205060011518321 ((441800, 442639)) utgångspunkten|utgångspunkten, 2442205060011518321 ((443020, 443300)) hela|hela, 2442205060011518321 ((443400, 443600)) tiden|tiden, 2442205060011518321 ((443640, 443720)) har|har, 2442205060011518321 ((443780, 444100)) varit|varit, 2442205060011518321 ((444480, 444600)) att|att, 2442205060011518321 ((444700, 444940)) barn|barn, 2442205060011518321 ((445000, 445060)) är|är, 2442205060011518321 ((445180, 445459)) egna|egna, 2442205060011518321 ((445540, 446079)) individer|individer, 2442205060011518321 ((446400, 446460)) och|<eps>, 2442205060011518321 ((446520, 446600)) med|med, 2442205060011518321 ((446720, 446999)) egna|egna, 2442205060011518321 ((447120, 447860)) okränkbara|okränkbara, 2442205060011518321 ((447860, 447860)) <eps>|rättigheter., 2442205060011518321 ((447860, 447860)) <eps>|De, 2442205060011518321 ((448200, 448800)) rättigheter|är, 2442205060011518321 ((449260, 449399)) inte|inte, 2442205060011518321 ((449480, 449660)) bara|bara, 2442205060011518321 ((450060, 450240)) någon|något, 2442205060011518321 ((450280, 450480)) slags|slags, 2442205060011518321 ((450580, 451080)) bihang|bihang, 2442205060011518321 ((451160, 451299)) till|till, 2442205060011518321 ((451380, 451899)) familjen|familjen, 2442205060011518321 ((451940, 452079)) eller|eller, 2442205060011518321 ((452140, 452260)) till|till, 2442205060011518321 ((452300, 452339)) de|de, 2442205060011518321 ((452339, 452339)) <eps>|vuxna,, 2442205060011518321 ((452440, 452819)) vuxna|vilket, 2442205060011518321 ((453260, 453360)) som|ju, 2442205060011518321 ((453440, 453540)) ger|är, 2442205060011518321 ((453580, 453660)) den|den, 2442205060011518321 ((453780, 454600)) konservativa|konservativa, 2442205060011518321 ((455340, 456020)) utgångspunkten|<eps>, 2442205060011518321 ((456140, 456240)) att|<eps>, 2442205060011518321 ((456280, 456540)) barnen|<eps>, 2442205060011518321 ((456580, 456620)) är|<eps>, 2442205060011518321 ((456660, 456759)) någon|<eps>, 2442205060011518321 ((456780, 456920)) slags|<eps>, 2442205060011518321 ((456980, 457339)) bihankt|<eps>, 2442205060011518321 ((457400, 457420)) i|<eps>, 2442205060011518321 ((457480, 457899)) familjen|utgångspunkten., 2442205060011518321 ((458300, 458439)) Den|Den, 2442205060011518321 ((458580, 458839)) synen|synen, 2442205060011518321 ((458900, 459000)) har|har, 2442205060011518321 ((459040, 459100)) vi|vi, 2442205060011518321 ((459140, 459200)) ju|<eps>, 2442205060011518321 ((459280, 459680)) brutit|brutit, 2442205060011518321 ((459740, 459839)) med|med, 2442205060011518321 ((459900, 459980)) för|för, 2442205060011518321 ((460040, 460179)) länge|<eps>, 2442205060011518321 ((460260, 460420)) länge|länge, 2442205060011518321 ((460500, 460699)) sen|<eps>, 2442205060011518321 ((461160, 461339)) utan|sedan., 2442205060011518321 ((461400, 461500)) Det|Det, 2442205060011518321 ((461560, 461620)) som|som, 2442205060011518321 ((461660, 461720)) har|har, 2442205060011518321 ((461760, 461920)) legat|legat, 2442205060011518321 ((461940, 462060)) till|till, 2442205060011518321 ((462080, 462260)) grund|grund, 2442205060011518321 ((462280, 462360)) för|för, 2442205060011518321 ((462420, 462600)) vårt|vårt, 2442205060011518321 ((462640, 463279)) reformarbete|reformarbete, 2442205060011518321 ((463620, 463720)) har|har, 2442205060011518321 ((463780, 464060)) varit|varit, 2442205060011518321 ((464120, 464160)) en|en, 2442205060011518321 ((464240, 464860)) proggressiv|progressiv, 2442205060011518321 ((465020, 465240)) syn,|syn,, 2442205060011518321 ((465560, 465660)) där|där, 2442205060011518321 ((465740, 466040)) barnen|barnen, 2442205060011518321 ((466100, 466160)) är|är, 2442205060011518321 ((466280, 466500)) egna|egna, 2442205060011518321 ((466580, 467040)) individer|individer, 2442205060011518321 ((467280, 467360)) med|med, 2442205060011518321 ((467480, 467720)) egna|egna, 2442205060011518321 ((467800, 468360)) rättigheter.|rättigheter., 2442205060011518321 ((469020, 469060)) Vi|Vi, 2442205060011518321 ((469160, 469239)) var|var, 2442205060011518321 ((469239, 469239)) <eps>|till, 2442205060011518321 ((469239, 469239)) <eps>|exempel, 2442205060011518321 ((469320, 469540)) först|först, 2442205060011518321 ((469580, 469600)) i|i, 2442205060011518321 ((469660, 469959)) världen|världen, 2442205060011518321 ((470000, 470079)) med|med, 2442205060011518321 ((470140, 470260)) till|<eps>, 2442205060011518321 ((470300, 470619)) exempel|<eps>, 2442205060011518321 ((470640, 470740)) att|att, 2442205060011518321 ((470760, 471180)) förbjuda|förbjuda, 2442205060011518321 ((471460, 471779)) aga.|aga., 2442205060011518321 ((472520, 472560)) Vi|Vi, 2442205060011518321 ((472660, 472720)) har|har, 2442205060011518321 ((472820, 473100)) bättre|bättre, 2442205060011518321 ((473160, 473459)) utbyggd|utbyggd, 2442205060011518321 ((473520, 474060)) barnomsorg|barnomsorg, 2442205060011518321 ((474100, 474160)) än|än, 2442205060011518321 ((474220, 474459)) något|något, 2442205060011518321 ((474500, 474680)) annat|annat, 2442205060011518321 ((474720, 474899)) land,|land,, 2442205060011518321 ((474940, 475120)) vågar|vågar, 2442205060011518321 ((475160, 475239)) jag|jag, 2442205060011518321 ((475300, 475579)) påstå.|påstå., 2442205060011518321 ((476000, 476040)) Vi|Vi, 2442205060011518321 ((476100, 476160)) har|har, 2442205060011518321 ((476240, 476600)) världens|<eps>, 2442205060011518321 ((476900, 477300)) förmodligen|förmodligen, 2442205060011518321 ((477360, 477639)) världens|världens, 2442205060011518321 ((477700, 477940)) mest|mest, 2442205060011518321 ((478320, 478839)) generösa|generösa, 2442205060011518321 ((478839, 478839)) <eps>|föräldraförsäkring., 2442205060011518321 ((478839, 478839)) <eps>|Allt, 2442205060011518321 ((479480, 480359)) föräldraförsäkring|detta, 2442205060011518321 ((480520, 481020)) alltihop|är, 2442205060011518321 ((481420, 481899)) viktiga|viktiga, 2442205060011518321 ((482040, 482759)) socialdemokratiska|socialdemokratiska, 2442205060011518321 ((482820, 483300)) reformer|reformer, 2442205060011518321 ((483540, 483619)) för|för, 2442205060011518321 ((483660, 483779)) att|<eps>, 2442205060011518321 ((483800, 483860)) se|<eps>, 2442205060011518321 ((483920, 484079)) till|<eps>, 2442205060011518321 ((484100, 484220)) att|<eps>, 2442205060011518321 ((484440, 484560)) att|att, 2442205060011518321 ((484620, 484860)) Sverige|Sverige, 2442205060011518321 ((484940, 485000)) ska|ska, 2442205060011518321 ((485100, 485199)) vara|vara, 2442205060011518321 ((485220, 485239)) e|<eps>, 2442205060011518321 ((485800, 485899)) ett|ett, 2442205060011518321 ((485940, 486000)) av|av, 2442205060011518321 ((486040, 486399)) världens|världens, 2442205060011518321 ((486760, 487000)) bästa|bästa, 2442205060011518321 ((487080, 487300)) länder|länder, 2442205060011518321 ((487360, 487420)) för|för, 2442205060011518321 ((487480, 487799)) barnet|barn, 2442205060011518321 ((487900, 488020)) att|att, 2442205060011518321 ((488080, 488320)) växa|växa, 2442205060011518321 ((488420, 488600)) upp|upp, 2442205060011518321 ((488760, 488779)) i|i, 2442205060011518321 ((488920, 488999)) och|och, 2442205060011518321 ((489020, 489120)) att|att, 2442205060011518321 ((489140, 489200)) det|det, 2442205060011518321 ((489220, 489299)) ska|ska, 2442205060011518321 ((489400, 489580)) förbli|förbli, 2442205060011518321 ((489760, 489800)) på|på, 2442205060011518321 ((489860, 489959)) det|det, 2442205060011518321 ((490020, 490320)) sättet.|sättet., 2442205060011518321 ((490980, 491059)) Den|Den, 2442205060011518321 ((491120, 491439)) senaste|senaste, 2442205060011518321 ((491480, 491879)) reformen|reformen, 2442205060011518321 ((493100, 493179)) det|<eps>, 2442205060011518321 ((493220, 493299)) var|var, 2442205060011518321 ((493400, 493540)) just|just, 2442205060011518321 ((493580, 493680)) att|att, 2442205060011518321 ((493720, 493859)) göra|göra, 2442205060011518321 ((493940, 494779)) barnkonventionen|barnkonventionen, 2442205060011518321 ((494800, 494939)) till|till, 2442205060011518321 ((494980, 495359)) svensk|svensk, 2442205060011518321 ((495580, 495800)) lag,|lag,, 2442205060011518321 ((495840, 495900)) och|och, 2442205060011518321 ((495940, 496000)) den|den, 2442205060011518321 ((496060, 496160)) kom|kom, 2442205060011518321 ((496240, 496300)) då|<eps>, 2442205060011518321 ((496380, 496459)) från|<eps>, 2442205060011518321 ((496520, 496740)) tjugo|<eps>, 2442205060011518321 ((496820, 497100)) tjugo|2020., 2442205060011518321 ((497760, 497839)) Och|Och, 2442205060011518321 ((497880, 497959)) här|här, 2442205060011518321 ((498000, 498120)) står|står, 2442205060011518321 ((498440, 498699)) mikal|<eps>, 2442205060011518321 ((498760, 499040)) heskel|Mikael, 2442205060011518321 ((499100, 499459)) andersson|Eskilandersson, 2442205060011518321 ((500100, 500239)) och|och, 2442205060011518321 ((500880, 501259)) undgör|ondgör, 2442205060011518321 ((501360, 501519)) sig|sig, 2442205060011518321 ((502060, 502379)) över|över, 2442205060011518321 ((502700, 503100)) huruvida|huruvida, 2442205060011518321 ((503160, 503220)) vi|vi, 2442205060011518321 ((503340, 503700)) följer|följer, 2442205060011518321 ((503740, 503879)) den|den, 2442205060011518321 ((504600, 505239)) barnkonventionen|<eps>, 2442205060011518321 ((505260, 505399)) eller|eller, 2442205060011518321 ((505460, 505720)) inte|<eps>, 2442205060011518321 ((506380, 506600)) jamen|<eps>, 2442205060011518321 ((507040, 507439)) herregud|inte.]\n",
      "[2442205060011518321 ((507480, 507899)) förtama|Herregud,, 2442205060011518321 ((508740, 509379)) sveriedemokraterna|Sverigedemokraterna, 2442205060011518321 ((509440, 509720)) röstade|röstade, 2442205060011518321 ((509760, 509820)) ju|ju, 2442205060011518321 ((509920, 510299)) mot|emot, 2442205060011518321 ((510560, 510639)) den|den, 2442205060011518321 ((510639, 510639)) <eps>|reformen!, 2442205060011518321 ((510740, 511139)) reformen|Ni, 2442205060011518321 ((511660, 511919)) ville|ville, 2442205060011518321 ((511980, 512039)) ju|ju, 2442205060011518321 ((512100, 512279)) inte|inte, 2442205060011518321 ((512600, 512700)) att|att, 2442205060011518321 ((512760, 513399)) barnkomvensionen|barnkonventionen, 2442205060011518321 ((513440, 513599)) skulle|skulle, 2442205060011518321 ((513640, 513700)) bli|bli, 2442205060011518321 ((513760, 514039)) svensk|svensk, 2442205060011518321 ((514100, 514279)) lag|<eps>, 2442205060011518321 ((514659, 514699)) så|lag., 2442205060011518321 ((514760, 514840)) Hur|Hur, 2442205060011518321 ((514880, 514960)) kan|kan, 2442205060011518321 ((515000, 515059)) man|man, 2442205060011518321 ((515120, 515139)) i|i, 2442205060011518321 ((515220, 515379)) ena|ena, 2442205060011518321 ((515440, 515940)) andetaget|andetaget, 2442205060011518321 ((516380, 516580)) vara|vara, 2442205060011518321 ((516760, 517260)) emot|emot, 2442205060011518321 ((517780, 517880)) att|att, 2442205060011518321 ((517919, 518079)) detta|den, 2442205060011518321 ((518120, 518200)) ska|ska, 2442205060011518321 ((518260, 518360)) vara|vara, 2442205060011518321 ((518400, 518640)) svensk|svensk, 2442205060011518321 ((518700, 518859)) lag|lag, 2442205060011518321 ((518940, 519019)) och|och, 2442205060011518321 ((519058, 519218)) sen|<eps>, 2442205060011518321 ((519260, 519279)) i|i, 2442205060011518321 ((519360, 519639)) nästa|nästa, 2442205060011518321 ((519700, 520039)) andetag|andetag, 2442205060011518321 ((520039, 520039)) <eps>|beklaga, 2442205060011518321 ((520380, 520480)) stå|sig, 2442205060011518321 ((520558, 520618)) och|och, 2442205060011518321 ((520659, 521079)) beklagar|fråga, 2442205060011518321 ((521140, 521220)) sig|sig, 2442205060011518321 ((521280, 521419)) över|<eps>, 2442205060011518321 ((521460, 521820)) huruvida|om, 2442205060011518321 ((521900, 522120)) Sverige|Sverige, 2442205060011518321 ((522200, 522499)) följer|följer, 2442205060011518321 ((522539, 522639)) den|den, 2442205060011518321 ((522900, 523059)) eller|eller, 2442205060011518321 ((523120, 523360)) inte|<eps>, 2442205060011518321 ((523820, 523940)) den|inte?, 2442205060011518321 ((524020, 524279)) frågan|Det, 2442205060011518321 ((524320, 524499)) tycker|tycker, 2442205060011518321 ((524520, 524559)) ag|<eps>, 2442205060011518321 ((524580, 524619)) är|<eps>, 2442205060011518321 ((524640, 524799)) mycket|jag, 2442205060011518321 ((524840, 525019)) läski|faktiskt, 2442205060011518321 ((525120, 525279)) anders|att, 2442205060011518321 ((525300, 525380)) som|Mikael, 2442205060011518321 ((525460, 525619)) faktist|Eskilandersson, 2442205060011518321 ((525640, 525700)) ska|ska, 2442205060011518321 ((525780, 526020)) svara|svara, 2442205060011518321 ((526420, 526480)) på.|på., 2442205060011518321 ((527340, 527460)) sedn|Sedan, 2442205060011518321 ((527480, 527519)) är|är, 2442205060011518321 ((527560, 527620)) det|det, 2442205060011518321 ((527640, 527700)) ju|<eps>, 2442205060011518321 ((527720, 527840)) inte|inte, 2442205060011518321 ((527960, 528339)) sant|sant, 2442205060011518321 ((528700, 528820)) att|att, 2442205060011518321 ((528860, 528899)) vi|vi, 2442205060011518321 ((528980, 529159)) inte|inte, 2442205060011518321 ((529520, 529600)) har|har, 2442205060011518321 ((529660, 529860)) gjort|gjort, 2442205060011518321 ((529900, 529960)) en|någon, 2442205060011518321 ((530040, 530500)) översyn|översyn, 2442205060011518321 ((530560, 530620)) för|för, 2442205060011518321 ((530660, 530760)) att|att, 2442205060011518321 ((530800, 530860)) se|se, 2442205060011518321 ((531000, 531080)) hur|hur, 2442205060011518321 ((531080, 531080)) <eps>|Sverige, 2442205060011518321 ((531160, 531559)) förhåller|förhåller, 2442205060011518321 ((531640, 531799)) sig|sig, 2442205060011518321 ((532380, 532779)) sverige|<eps>, 2442205060011518321 ((533000, 533200)) till|till, 2442205060011518321 ((533260, 533460)) just|<eps>, 2442205060011518321 ((533540, 534160)) barnkommension|<eps>, 2442205060011518321 ((534180, 534260)) det|barnkonventionen., 2442205060011518321 ((534280, 534299)) r|Det, 2442205060011518321 ((534340, 534359)) u|är, 2442205060011518321 ((534400, 534820)) precis|precis, 2442205060011518321 ((534920, 535040)) det|det, 2442205060011518321 ((535120, 535159)) vi|vi, 2442205060011518321 ((535220, 535299)) har|har, 2442205060011518321 ((535360, 535700)) gjort.|gjort., 2442205060011518321 ((536380, 536419)) Vi|Vi, 2442205060011518321 ((536520, 536880)) kopplade|kopplade, 2442205060011518321 ((536940, 536979)) ju|<eps>, 2442205060011518321 ((537100, 537159)) en|en, 2442205060011518321 ((537480, 537799)) särskild|särskild, 2442205060011518321 ((537860, 538360)) utredning|utredning, 2442205060011518321 ((538500, 538740)) till|till, 2442205060011518321 ((539080, 539119)) de|de, 2442205060011518321 ((539220, 539320)) här|här, 2442205060011518321 ((539320, 539320)) <eps>|frågeställningarna,, 2442205060011518321 ((539380, 539980)) frågeställningarna|och, 2442205060011518321 ((540040, 540100)) som|utredningen, 2442205060011518321 ((540180, 540460)) lämnade|lämnade, 2442205060011518321 ((540540, 540679)) sitt|sitt, 2442205060011518321 ((540720, 541279)) betänkande|betänkande, 2442205060011518321 ((541860, 541879)) i|i, 2442205060011518321 ((542200, 542659)) november|november, 2442205060011518321 ((542760, 542980)) tjugo|<eps>, 2442205060011518321 ((543060, 543360)) tjugo|<eps>, 2442205060011518321 ((543940, 544059)) där|<eps>, 2442205060011518321 ((544100, 544179)) den|<eps>, 2442205060011518321 ((544240, 544340)) här|2020., 2442205060011518321 ((544400, 544760)) Utredaren|Utredaren, 2442205060011518321 ((544780, 544880)) gick|gick, 2442205060011518321 ((544940, 545259)) igenom|igenom, 2442205060011518321 ((545259, 545259)) <eps>|detta, 2442205060011518321 ((545340, 545419)) för|för, 2442205060011518321 ((545460, 545559)) att|att, 2442205060011518321 ((545600, 545679)) se|se, 2442205060011518321 ((545820, 545999)) hur|hur, 2442205060011518321 ((546080, 546440)) förhåller|<eps>, 2442205060011518321 ((546500, 546580)) sig|<eps>, 2442205060011518321 ((546820, 547079)) svensk|svensk, 2442205060011518321 ((547160, 547700)) lagstiftning|lagstiftning, 2442205060011518321 ((547780, 547960)) till|förhåller, 2442205060011518321 ((548000, 548779)) barnkonventionen|sig, 2442205060011518321 ((549320, 549479)) och|till, 2442205060011518321 ((549980, 549999)) i|barnkonventionen., 2442205060011518321 ((550080, 550159)) det|I, 2442205060011518321 ((550220, 550799)) betänkandet|betänkandet, 2442205060011518321 ((550860, 550980)) där|<eps>, 2442205060011518321 ((551040, 551220)) kommer|kom, 2442205060011518321 ((551260, 551340)) man|man, 2442205060011518321 ((551400, 551559)) fram|fram, 2442205060011518321 ((551660, 551799)) till|till, 2442205060011518321 ((551860, 551980)) att|att, 2442205060011518321 ((552500, 552860)) Sverige|Sverige, 2442205060011518321 ((553000, 553019)) i|i, 2442205060011518321 ((553660, 553860)) allt|allt, 2442205060011518321 ((553920, 554480)) väsentligt|väsentligt, 2442205060011518321 ((554500, 554580)) ska|<eps>, 2442205060011518321 ((554640, 554679)) ja|<eps>, 2442205060011518321 ((554760, 554899)) säga|<eps>, 2442205060011518321 ((555360, 555619)) lever|lever, 2442205060011518321 ((555740, 555899)) upp|upp, 2442205060011518321 ((556020, 556260)) till|till, 2442205060011518321 ((556680, 557460)) barnkonventionen.|barnkonventionen., 2442205060011518321 ((557500, 557580)) Men|Men, 2442205060011518321 ((557700, 557759)) man|man, 2442205060011518321 ((557880, 558240)) pekar|pekar, 2442205060011518321 ((558320, 558579)) också|också, 2442205060011518321 ((558700, 558779)) på|på, 2442205060011518321 ((559280, 559320)) en|en, 2442205060011518321 ((559400, 559539)) del|del, 2442205060011518321 ((559640, 560019)) frågor|frågor, 2442205060011518321 ((560380, 560460)) som|som, 2442205060011518321 ((560520, 560600)) man|man, 2442205060011518321 ((560660, 560880)) menar|menar, 2442205060011518321 ((560960, 561039)) på|<eps>, 2442205060011518321 ((562000, 562259)) bör|bör, 2442205060011518321 ((563520, 563600)) man|ses, 2442205060011518321 ((563660, 563760)) bör|över, 2442205060011518321 ((563820, 563899)) se|ytterligare., 2442205060011518321 ((564000, 564179)) över|Det, 2442205060011518321 ((564320, 564839)) ytterligare|finns, 2442205060011518321 ((564920, 565100)) saker|saker, 2442205060011518321 ((565140, 565200)) och|och, 2442205060011518321 ((565220, 565340)) ting|ting, 2442205060011518321 ((565380, 565440)) som|som, 2442205060011518321 ((565760, 565840)) den|den, 2442205060011518321 ((565940, 566339)) utredningen|utredningen, 2442205060011518321 ((566380, 566419)) då|<eps>, 2442205060011518321 ((566740, 566940)) menar|menar, 2442205060011518321 ((566980, 567039)) på|<eps>, 2442205060011518321 ((567140, 567260)) bör|<eps>, 2442205060011518321 ((567400, 567500)) bör|bör, 2442205060011518321 ((567600, 567979)) ändras|<eps>, 2442205060011518321 ((569140, 569200)) och|ändras., 2442205060011518321 ((569240, 569299)) Det|Det, 2442205060011518321 ((569340, 569519)) gäller|gäller, 2442205060011518321 ((569580, 569739)) också|också, 2442205060011518321 ((569820, 570859)) familjerätten.|familjerätten., 2442205060011518321 ((571000, 571120)) En|En, 2442205060011518321 ((571220, 571379)) sådan|sådan, 2442205060011518321 ((571440, 571679)) sak,|sak,, 2442205060011518321 ((572760, 573200)) förtalman|fru, 2442205060011518321 ((573440, 573499)) det|talman,, 2442205060011518321 ((573580, 573639)) är|är, 2442205060011518321 ((573740, 573860)) att|att, 2442205060011518321 ((573940, 573999)) en|en, 2442205060011518321 ((574080, 574719)) domstol|domstol, 2442205060011518321 ((575060, 575080)) i|i, 2442205060011518321 ((575180, 575320)) dag|dag, 2442205060011518321 ((575420, 575580)) inte|inte, 2442205060011518321 ((575660, 575740)) kan|kan, 2442205060011518321 ((575840, 576099)) döma|döma, 2442205060011518321 ((576220, 576399)) till|till, 2442205060011518321 ((576480, 576960)) gemensam|gemensam, 2442205060011518321 ((577040, 577480)) vårdnad|vårdnad, 2442205060011518321 ((577820, 577940)) när|<eps>, 2442205060011518321 ((578280, 578679)) bo|om, 2442205060011518321 ((578780, 579020)) båda|båda, 2442205060011518321 ((579100, 579479)) föräldrarna|föräldrarna, 2442205060011518321 ((579600, 579679)) är|är, 2442205060011518321 ((579740, 580119)) emot|emot, 2442205060011518321 ((580300, 580660)) gemensam|gemensam, 2442205060011518321 ((580720, 580999)) vårdnad,|vårdnad,, 2442205060011518321 ((581180, 581600)) även|även, 2442205060011518321 ((582020, 582120)) om|om, 2442205060011518321 ((582260, 582679)) gemensam|gemensam, 2442205060011518321 ((582760, 583080)) vårdnad|vårdnad, 2442205060011518321 ((583400, 583539)) hade|hade, 2442205060011518321 ((583600, 583779)) varit|varit, 2442205060011518321 ((583820, 583879)) det|det, 2442205060011518321 ((583940, 584199)) bästa|bästa, 2442205060011518321 ((584260, 584340)) för|för, 2442205060011518321 ((584400, 584779)) barnet.|barnet., 2442205060011518321 ((585480, 585600)) Det|Det, 2442205060011518321 ((585680, 585780)) kan|kan, 2442205060011518321 ((585840, 585899)) en|en, 2442205060011518321 ((585960, 586179)) svensk|svensk, 2442205060011518321 ((586240, 586539)) domstol|domstol, 2442205060011518321 ((586600, 586619)) i|i, 2442205060011518321 ((586660, 586760)) dag|dag, 2442205060011518321 ((586840, 587019)) inte|<eps>, 2442205060011518321 ((587300, 587460)) inte|inte, 2442205060011518321 ((587520, 587740)) göra|<eps>, 2442205060011518321 ((587780, 587840)) och|göra., 2442205060011518321 ((587880, 587940)) det|Utredningen, 2442205060011518321 ((588020, 588260)) pekar|pekar, 2442205060011518321 ((588320, 588399)) den|<eps>, 2442205060011518321 ((588440, 588539)) här|<eps>, 2442205060011518321 ((588600, 589019)) utredningen|<eps>, 2442205060011518321 ((589080, 589139)) på|på, 2442205060011518321 ((589260, 589360)) att|att, 2442205060011518321 ((589400, 589480)) det|det, 2442205060011518321 ((589540, 589640)) bör|bör, 2442205060011518321 ((589720, 590080)) ändras.|ändras., 2442205060011518321 ((590780, 590820)) En|En, 2442205060011518321 ((590940, 591239)) annan|annan, 2442205060011518321 ((591320, 591539)) sådan|<eps>, 2442205060011518321 ((591960, 592219)) sak|sak, 2442205060011518321 ((592560, 592700)) som|som, 2442205060011518321 ((592880, 592960)) man|man, 2442205060011518321 ((593020, 593200)) också|<eps>, 2442205060011518321 ((593300, 593620)) pekade|pekar, 2442205060011518321 ((593680, 593740)) på|på, 2442205060011518321 ((594480, 594539)) det|<eps>, 2442205060011518321 ((594620, 594679)) är|är, 2442205060011518321 ((594800, 594980)) att|att, 2442205060011518321 ((595520, 595600)) det|det, 2442205060011518321 ((595700, 595739)) är|är, 2442205060011518321 ((595820, 595879)) för|för, 2442205060011518321 ((595960, 596599)) otydligt|otydligt, 2442205060011518321 ((597020, 597120)) när|när, 2442205060011518321 ((597180, 597260)) det|det, 2442205060011518321 ((597320, 597619)) gäller|gäller, 2442205060011518321 ((597740, 598100)) barnets|barnets, 2442205060011518321 ((598160, 598320)) rätt|rätt, 2442205060011518321 ((598360, 598460)) att|att, 2442205060011518321 ((598500, 598659)) komma|komma, 2442205060011518321 ((598740, 598860)) till|till, 2442205060011518321 ((598900, 599299)) tals|tals, 2442205060011518321 ((599400, 599419)) i|i, 2442205060011518321 ((599500, 600399)) vårdnadstvister|<eps>, 2442205060011518321 ((600740, 600840)) det|<eps>, 2442205060011518321 ((600940, 601219)) pekade|<eps>, 2442205060011518321 ((601280, 601480)) också|vårdnadstvister., 2442205060011518321 ((601540, 601600)) den|Det, 2442205060011518321 ((601640, 601720)) här|pekar, 2442205060011518321 ((601780, 602179)) utredningen|utredningen, 2442205060011518321 ((602179, 602179)) <eps>|också, 2442205060011518321 ((602220, 602279)) på.|på., 2442205060011518321 ((602960, 602999)) Nu|Nu, 2442205060011518321 ((603060, 603120)) är|är, 2442205060011518321 ((603140, 603220)) det|det, 2442205060011518321 ((603240, 603299)) ju|<eps>, 2442205060011518321 ((603340, 603399)) då|<eps>, 2442205060011518321 ((605060, 605460)) lyckligtvis|lyckligtvis, 2442205060011518321 ((605540, 605620)) så|så, 2442205060011518321 ((606000, 606100)) att|att, 2442205060011518321 ((606160, 606200)) på|vi,, 2442205060011518321 ((606280, 606520)) båda|när, 2442205060011518321 ((606580, 606619)) de|det, 2442205060011518321 ((606700, 606779)) här|gäller, 2442205060011518321 ((606840, 607200)) punkterna|båda, 2442205060011518321 ((607340, 607779)) såhar|dessa, 2442205060011518321 ((607820, 607859)) vi|punkter,, 2442205060011518321 ((607920, 608000)) ett|har, 2442205060011518321 ((608040, 608860)) beredningsunderlag|beredningsunderlag, 2442205060011518321 ((609220, 609320)) för|för, 2442205060011518321 ((609360, 609460)) att|att, 2442205060011518321 ((609500, 609720)) göra|göra, 2442205060011518321 ((609800, 609960)) just|just, 2442205060011518321 ((609980, 610059)) den|den, 2442205060011518321 ((610140, 610399)) typen|typen, 2442205060011518321 ((610440, 610619)) utav|<eps>, 2442205060011518321 ((610680, 611420)) lagändringar|av, 2442205060011518321 ((611800, 611860)) och|lagändringar., 2442205060011518321 ((611900, 611960)) Det|Det, 2442205060011518321 ((612020, 612220)) kommer|kommer, 2442205060011518321 ((612280, 612440)) från|från, 2442205060011518321 ((612920, 613000)) den|den, 2442205060011518321 ((613100, 613419)) utrednig|utredning, 2442205060011518321 ((613440, 613519)) som|som, 2442205060011518321 ((613540, 613679)) hette|heter, 2442205060011518321 ((613800, 614500)) sebarnet|Se, 2442205060011518321 ((614820, 614899)) och|barnet!., 2442205060011518321 ((614940, 615039)) Där|Där, 2442205060011518321 ((615100, 615159)) är|är, 2442205060011518321 ((615220, 615259)) vi|vi, 2442205060011518321 ((615340, 615399)) nu|nu, 2442205060011518321 ((615520, 615539)) i|i, 2442205060011518321 ((615600, 616259)) slutskedet|slutskedet, 2442205060011518321 ((616720, 617099)) utav|<eps>, 2442205060011518321 ((617420, 618420)) beredningsprocessen|<eps>, 2442205060011518321 ((618460, 618519)) så|<eps>, 2442205060011518321 ((618560, 618680)) att|av, 2442205060011518321 ((618700, 618739)) vi|beredningsprocessen., 2442205060011518321 ((618800, 618940)) Inom|Inom, 2442205060011518321 ((619040, 619340)) kort|kort, 2442205060011518321 ((619640, 619820)) kommer|kommer, 2442205060011518321 ((619819, 619819)) <eps>|vi, 2442205060011518321 ((619860, 619960)) att|att, 2442205060011518321 ((620200, 620339)) kunna|kunna, 2442205060011518321 ((620380, 620440)) gå|gå, 2442205060011518321 ((620500, 620600)) till|till, 2442205060011518321 ((620640, 621019)) riksdagen|riksdagen, 2442205060011518321 ((621320, 621379)) med|för, 2442205060011518321 ((621420, 621520)) att|att, 2442205060011518321 ((621580, 621820)) göra|göra, 2442205060011518321 ((621920, 622100)) just|just, 2442205060011518321 ((622120, 622200)) den|<eps>, 2442205060011518321 ((622240, 622320)) här|denna, 2442205060011518321 ((622400, 622679)) typen|typ, 2442205060011518321 ((622720, 622960)) utav|av, 2442205060011518321 ((623220, 623679)) förändringar|förändringar, 2442205060011518321 ((623720, 623779)) så|så, 2442205060011518321 ((623820, 623919)) att|att, 2442205060011518321 ((623940, 623979)) vi|vi, 2442205060011518321 ((624180, 624400)) ännu|<eps>, 2442205060011518321 ((624500, 624799)) bättre|<eps>, 2442205060011518321 ((625140, 625220)) ska|<eps>, 2442205060011518321 ((625320, 625479)) kunna|kan, 2442205060011518321 ((625540, 625720)) leva|leva, 2442205060011518321 ((625780, 625919)) upp|upp, 2442205060011518321 ((625919, 625919)) <eps>|ännu, 2442205060011518321 ((625980, 626119)) till|bättre, 2442205060011518321 ((626180, 626320)) till|till, 2442205060011518321 ((626360, 627080)) barnkonvensionen|barnkonventionen., 2442205060011518321 ((627480, 627559)) Men|Men, 2442205060011518321 ((627640, 628039)) återigen,|återigen,, 2442205060011518321 ((628100, 628399)) förtal|fru, 2442205060011518321 ((628460, 628559)) man|talman:, 2442205060011518321 ((629080, 629139)) Det|Det, 2442205060011518321 ((629220, 629519)) duger|duger, 2442205060011518321 ((629600, 629820)) inte|inte, 2442205060011518321 ((630140, 630260)) att|att, 2442205060011518321 ((630300, 630380)) stå|<eps>, 2442205060011518321 ((630500, 630700)) här|göra, 2442205060011518321 ((631500, 631580)) när|så, 2442205060011518321 ((631640, 631720)) man|här., 2442205060011518321 ((631820, 632079)) själv|Man, 2442205060011518321 ((632140, 632220)) har|har, 2442205060011518321 ((632220, 632220)) <eps>|själv, 2442205060011518321 ((632620, 632899)) röstat|röstat, 2442205060011518321 ((632960, 633339)) emot|emot, 2442205060011518321 ((633640, 633740)) att|att, 2442205060011518321 ((633780, 634320)) barnkommissionen|barnkonventionen, 2442205060011518321 ((634340, 634419)) ska|ska, 2442205060011518321 ((634480, 634559)) bli|bli, 2442205060011518321 ((634620, 634860)) svensk|svensk, 2442205060011518321 ((634860, 634860)) <eps>|lag., 2442205060011518321 ((634860, 634860)) <eps>|Då, 2442205060011518321 ((634860, 634860)) <eps>|duger, 2442205060011518321 ((634860, 634860)) <eps>|det, 2442205060011518321 ((634920, 635100)) lag|inte, 2442205060011518321 ((635440, 635539)) att|att, 2442205060011518321 ((635580, 635739)) sen|<eps>, 2442205060011518321 ((635780, 635799)) i|i, 2442205060011518321 ((635860, 636080)) nästa|nästa, 2442205060011518321 ((636140, 636460)) andetag|andetag, 2442205060011518321 ((636780, 636919)) börja|börja, 2442205060011518321 ((636980, 637279)) anklaga|anklaga, 2442205060011518321 ((637340, 637700)) regeringen|regeringen, 2442205060011518321 ((637720, 637799)) för|för, 2442205060011518321 ((637820, 637919)) att|att, 2442205060011518321 ((637960, 638059)) inte|inte, 2442205060011518321 ((638160, 638400)) följa|följa, 2442205060011518321 ((638840, 638999)) just|just, 2442205060011518321 ((639060, 639320)) precis|<eps>, 2442205060011518321 ((639360, 639399)) de|de, 2442205060011518321 ((639520, 639799)) reglerna.|reglerna., 2442205060011518321 ((641140, 641220)) för|<eps>, 2442205060011518321 ((641300, 641520)) det|<eps>, 2442205060011518321 ((641720, 642139)) mikael|<eps>, 2442205060011518321 ((642200, 642979)) estgilandersson|<eps>, 2442205060011518321 ((643060, 643780)) sveriedemokraterna|<eps>, 2442205060011518321 ((643820, 644219)) varsågod|<eps>, 2442205060011518321 ((646100, 646359)) tack|<eps>, 2442205060011518321 ((646480, 646619)) förhu|Fru, 2442205060011518321 ((646720, 647119)) talman!|talman!, 2442205060011518321 ((648440, 648499)) om|Vi, 2442205060011518321 ((648540, 648580)) vi|kan, 2442205060011518321 ((648680, 648920)) börjar|börja, 2442205060011518321 ((648980, 649059)) med|med, 2442205060011518321 ((649140, 650059)) barnkomvensionen|barnkonventionen., 2442205060011518321 ((650160, 650240)) så|Det, 2442205060011518321 ((650460, 650580)) är|är, 2442205060011518321 ((650620, 650700)) det|<eps>, 2442205060011518321 ((650720, 650779)) ju|<eps>, 2442205060011518321 ((650840, 651119)) faktiskt|faktiskt, 2442205060011518321 ((651140, 651179)) så|<eps>, 2442205060011518321 ((651220, 651320)) att|<eps>, 2442205060011518321 ((651340, 651399)) det|<eps>, 2442205060011518321 ((651460, 651580)) är|<eps>, 2442205060011518321 ((651640, 651700)) en|en, 2442205060011518321 ((651780, 652280)) konvension|konvention, 2442205060011518321 ((652320, 652399)) som|som, 2442205060011518321 ((652460, 652619)) sverge|<eps>, 2442205060011518321 ((652660, 652940)) harskrivit|Sverige, 2442205060011518321 ((653000, 653320)) under|har, 2442205060011518321 ((654540, 655360)) sverigedemokraterna|skrivit, 2442205060011518321 ((655420, 655500)) och|under., 2442205060011518321 ((655540, 655720)) Jag|Jag, 2442205060011518321 ((655840, 655960)) och|och, 2442205060011518321 ((656080, 656239)) mitt|mitt, 2442205060011518321 ((656239, 656239)) <eps>|parti,, 2442205060011518321 ((656280, 656480)) parti|Sverigedemokraterna,, 2442205060011518321 ((656620, 656679)) har|har, 2442205060011518321 ((656740, 656960)) aldrig|aldrig, 2442205060011518321 ((657240, 657619)) motsatt|motsatt, 2442205060011518321 ((657660, 657780)) oss|oss, 2442205060011518321 ((657800, 657900)) att|att, 2442205060011518321 ((657900, 657900)) <eps>|Sverige, 2442205060011518321 ((657940, 657979)) vi|skulle, 2442205060011518321 ((658040, 658220)) skrev|skriva, 2442205060011518321 ((658280, 658500)) under|under, 2442205060011518321 ((658580, 659299)) barnkomvensionen|barnkonventionen, 2442205060011518321 ((659340, 659399)) och|och, 2442205060011518321 ((659440, 659559)) inte|inte, 2442205060011518321 ((659640, 659820)) heller|heller, 2442205060011518321 ((659860, 659960)) att|att, 2442205060011518321 ((659980, 660019)) vi|vi, 2442205060011518321 ((660080, 660139)) ska|ska, 2442205060011518321 ((660260, 660539)) följa|följa, 2442205060011518321 ((660640, 661320)) barnkonventionen.|barnkonventionen., 2442205060011518321 ((662020, 662120)) Men|Men, 2442205060011518321 ((662200, 662299)) det|det, 2442205060011518321 ((662380, 662600)) finns|finns, 2442205060011518321 ((662640, 662679)) en|en, 2442205060011518321 ((662740, 662879)) viss|viss, 2442205060011518321 ((662920, 663200)) skillnad|skillnad, 2442205060011518321 ((663240, 663440)) mellan|mellan, 2442205060011518321 ((663500, 663659)) att|att, 2442205060011518321 ((663680, 663740)) ta|ha, 2442205060011518321 ((663880, 664679)) barnkonventionen|barnkonventionen, 2442205060011518321 ((664679, 664679)) <eps>|som, 2442205060011518321 ((664679, 664679)) <eps>|en, 2442205060011518321 ((664679, 664679)) <eps>|konvention, 2442205060011518321 ((664740, 665460)) somvnkomvention|som, 2442205060011518321 ((665540, 665620)) man|man, 2442205060011518321 ((665660, 665720)) ska|ska, 2442205060011518321 ((665840, 666219)) följa|följa, 2442205060011518321 ((666560, 666640)) och|och, 2442205060011518321 ((666720, 666840)) att|att, 2442205060011518321 ((667120, 667559)) införa|införa, 2442205060011518321 ((667620, 667740)) den|den, 2442205060011518321 ((667820, 667899)) som|som, 2442205060011518321 ((668000, 668379)) direkt|direkt, 2442205060011518321 ((668460, 668759)) lag|<eps>, 2442205060011518321 ((669060, 669140)) och|lag., 2442205060011518321 ((669460, 669639)) Vår|Vår, 2442205060011518321 ((669740, 670480)) huvudkritik|huvudkritik, 2442205060011518321 ((670540, 670640)) mot|mot, 2442205060011518321 ((670680, 670780)) att|att, 2442205060011518321 ((670840, 671139)) införa|införa, 2442205060011518321 ((671180, 671240)) den|den, 2442205060011518321 ((671300, 671380)) som|som, 2442205060011518321 ((671420, 671700)) direkt|direkt, 2442205060011518321 ((671780, 672000)) lag|lag, 2442205060011518321 ((672060, 672160)) var|var, 2442205060011518321 ((672200, 672259)) ju|<eps>, 2442205060011518321 ((672300, 672400)) att|att, 2442205060011518321 ((672420, 672500)) det|det, 2442205060011518321 ((672580, 672779)) inte|inte, 2442205060011518321 ((672920, 673100)) är|är, 2442205060011518321 ((673400, 673440)) en|en, 2442205060011518321 ((674000, 674519)) anpassad|anpassad, 2442205060011518321 ((674600, 675340)) lagtext|lagtext, 2442205060011518321 ((675640, 675740)) som|som, 2442205060011518321 ((675820, 676379)) fungerar|fungerar, 2442205060011518321 ((676460, 676559)) som|som, 2442205060011518321 ((677060, 677340)) lag,|lag,, 2442205060011518321 ((677660, 677799)) utan|utan, 2442205060011518321 ((677840, 677899)) det|den, 2442205060011518321 ((677940, 677979)) är|är, 2442205060011518321 ((678020, 678080)) ju|<eps>, 2442205060011518321 ((678140, 678620)) anpassat|anpassad, 2442205060011518321 ((678680, 678760)) som|som, 2442205060011518321 ((678800, 678880)) ven|en, 2442205060011518321 ((678960, 679519)) konvention|konvention, 2442205060011518321 ((679620, 679700)) som|som, 2442205060011518321 ((679740, 679820)) man|man, 2442205060011518321 ((679900, 680100)) bör|<eps>, 2442205060011518321 ((680200, 680579)) följa|<eps>, 2442205060011518321 ((680660, 680820)) eller|<eps>, 2442205060011518321 ((680880, 681000)) ska|ska, 2442205060011518321 ((681200, 681459)) följa|följa, 2442205060011518321 ((681520, 681580)) om|om, 2442205060011518321 ((681620, 681679)) man|man, 2442205060011518321 ((681720, 681799)) har|har, 2442205060011518321 ((681840, 682059)) skrivit|skrivit, 2442205060011518321 ((682120, 682340)) under|under, 2442205060011518321 ((682340, 682340)) <eps>|den., 2442205060011518321 ((682680, 682740)) Vi|Vi, 2442205060011518321 ((682800, 682980)) hadeju|hade, 2442205060011518321 ((683000, 683039)) en|en, 2442205060011518321 ((683220, 683599)) skyldighet|skyldighet, 2442205060011518321 ((683640, 683740)) att|att, 2442205060011518321 ((683780, 684020)) följa|följa, 2442205060011518321 ((684100, 684799)) barnkonventionen|barnkonventionen, 2442205060011518321 ((684860, 685080)) redan|redan, 2442205060011518321 ((685200, 685539)) innan|innan, 2442205060011518321 ((685600, 685679)) den|den, 2442205060011518321 ((685740, 685860)) blev|blev, 2442205060011518321 ((685940, 686239)) svensk|svensk, 2442205060011518321 ((686320, 686519)) lag|lag, 2442205060011518321 ((686580, 686879)) eftersom|eftersom, 2442205060011518321 ((686920, 686960)) vi|vi, 2442205060011518321 ((687000, 687120)) hade|hade, 2442205060011518321 ((687420, 687660)) skrivit|skrivit, 2442205060011518321 ((687700, 687919)) under|under, 2442205060011518321 ((687960, 688039)) den|<eps>, 2442205060011518321 ((688100, 688340)) redan|<eps>, 2442205060011518321 ((688500, 688840)) innan|<eps>, 2442205060011518321 ((689140, 689240)) men|<eps>, 2442205060011518321 ((689320, 689479)) just|<eps>, 2442205060011518321 ((689500, 689559)) det|<eps>, 2442205060011518321 ((689600, 689679)) här|den., 2442205060011518321 ((689740, 689840)) Att|Att, 2442205060011518321 ((689880, 690100)) djöra|göra, 2442205060011518321 ((690200, 690799)) konventioner|konventioner, 2442205060011518321 ((690880, 691059)) till|till, 2442205060011518321 ((691120, 691779)) lagstiftning|lagstiftning, 2442205060011518321 ((691880, 691960)) är|är, 2442205060011518321 ((691980, 692039)) ju|<eps>, 2442205060011518321 ((692100, 692759)) problematiskt|problematiskt, 2442205060011518321 ((692800, 693080)) eftersom|eftersom, 2442205060011518321 ((693140, 693220)) man|man, 2442205060011518321 ((693260, 693340)) får|får, 2442205060011518321 ((693380, 693419)) en|en, 2442205060011518321 ((693520, 693799)) dubbel|dubbel, 2442205060011518321 ((693860, 694480)) lagstiftning|<eps>, 2442205060011518321 ((694540, 694600)) där|lagstiftning., 2442205060011518321 ((694640, 694700)) det|Då, 2442205060011518321 ((694720, 694779)) är|är, 2442205060011518321 ((694800, 695000)) fråga|frågan, 2442205060011518321 ((695140, 695419)) vilken|vilken, 2442205060011518321 ((695480, 696039)) lagstiftning|lagstiftning, 2442205060011518321 ((696100, 696200)) som|som, 2442205060011518321 ((696260, 696419)) står|står, 2442205060011518321 ((696500, 696700)) över|över, 2442205060011518321 ((696740, 696840)) den|den, 2442205060011518321 ((696920, 697200)) andra,|andra,, 2442205060011518321 ((697740, 698080)) eftersom|eftersom, 2442205060011518321 ((698080, 698080)) <eps>|den, 2442205060011518321 ((698520, 699140)) lagstiftningen|lagstiftningen, 2442205060011518321 ((699220, 699359)) inte|inte, 2442205060011518321 ((699480, 699759)) helt|helt, 2442205060011518321 ((700280, 700820)) fungerar|fungerar, 2442205060011518321 ((700900, 701120)) ihop|ihop, 2442205060011518321 ((701160, 701220)) med|med, 2442205060011518321 ((701280, 701340)) den|den, 2442205060011518321 ((701400, 701760)) svenska|svenska, 2442205060011518321 ((701840, 702580)) lagstiftningen|<eps>, 2442205060011518321 ((703380, 703480)) och|lagstiftningen., 2442205060011518321 ((703560, 703660)) det|Detta, 2442205060011518321 ((703720, 703799)) har|har, 2442205060011518321 ((703860, 703899)) ju|man, 2442205060011518321 ((703980, 704159)) även|även, 2442205060011518321 ((704200, 704279)) den|<eps>, 2442205060011518321 ((704340, 704419)) här|<eps>, 2442205060011518321 ((704500, 705019)) utredningen|<eps>, 2442205060011518321 ((705060, 705320)) tjugo|<eps>, 2442205060011518321 ((705400, 705659)) tjugo|<eps>, 2442205060011518321 ((705760, 706039)) konor|<eps>, 2442205060011518321 ((706140, 706600)) sextiotre|<eps>, 2442205060011518321 ((706860, 707220)) pekat|pekat, 2442205060011518321 ((707300, 707360)) på|på, 2442205060011518321 ((707359, 707359)) <eps>|i, 2442205060011518321 ((707359, 707359)) <eps>|utredningen, 2442205060011518321 ((708300, 708380)) det|2020:63., 2442205060011518321 ((708440, 708479)) vi|Där, 2442205060011518321 ((708520, 708600)) har|har, 2442205060011518321 ((708600, 708600)) <eps>|vi, 2442205060011518321 ((708660, 708880)) kunnat|kunnat, 2442205060011518321 ((708920, 709179)) läsa|läsa, 2442205060011518321 ((709240, 709360)) där|<eps>, 2442205060011518321 ((709420, 709500)) var|<eps>, 2442205060011518321 ((709560, 709620)) ju|<eps>, 2442205060011518321 ((709660, 709760)) att|att, 2442205060011518321 ((709800, 709860)) det|det, 2442205060011518321 ((709900, 710059)) fanns|fanns, 2442205060011518321 ((710200, 710479)) flera|flera, 2442205060011518321 ((710560, 710900)) brister,|brister,, 2442205060011518321 ((711000, 711200)) framför|framför, 2442205060011518321 ((711240, 711419)) allt|allt, 2442205060011518321 ((711460, 711539)) vad|när, 2442205060011518321 ((711560, 711620)) det|det, 2442205060011518321 ((711660, 711840)) gällde|gällde, 2442205060011518321 ((711920, 712780)) barnperspektivet|barnperspektivet, 2442205060011518321 ((712840, 712919)) och|och, 2442205060011518321 ((712960, 713219)) barns|barns, 2442205060011518321 ((713280, 713460)) rätt|rätt, 2442205060011518321 ((713480, 713619)) till|till, 2442205060011518321 ((713660, 713780)) sin|sin, 2442205060011518321 ((713860, 714220)) familj|familj, 2442205060011518321 ((714260, 714340)) och|och, 2442205060011518321 ((714400, 714539)) sina|sina, 2442205060011518321 ((714620, 715039)) föräldrar.|föräldrar., 2442205060011518321 ((715760, 715980)) Barn|Barn, 2442205060011518321 ((716660, 716880)) har|har, 2442205060011518321 ((716880, 716880)) <eps>|en, 2442205060011518321 ((717220, 718080)) ennaturlig|naturlig, 2442205060011518321 ((718120, 718299)) rätt|rätt, 2442205060011518321 ((718340, 718479)) till|till, 2442205060011518321 ((718520, 718779)) båda|båda, 2442205060011518321 ((718880, 719039)) sina|sina, 2442205060011518321 ((719120, 719580)) föräldrar|föräldrar, 2442205060011518321 ((719780, 719840)) om|om, 2442205060011518321 ((719960, 719999)) de|föräldrarna, 2442205060011518321 ((720140, 720260)) är|är, 2442205060011518321 ((720720, 721099)) gifta,|gifta,, 2442205060011518321 ((721320, 721399)) men|men, 2442205060011518321 ((721500, 721559)) om|om, 2442205060011518321 ((721820, 722239)) föräldrarna|föräldrarna, 2442205060011518321 ((722340, 722580)) inte|inte, 2442205060011518321 ((722640, 722700)) är|är, 2442205060011518321 ((722760, 723039)) gifta|gifta, 2442205060011518321 ((723100, 723220)) deo|<eps>, 2442205060011518321 ((723340, 723460)) har|har, 2442205060011518321 ((723540, 723660)) inte|<eps>, 2442205060011518321 ((723740, 723999)) barnet|barnet, 2442205060011518321 ((723999, 723999)) <eps>|inte, 2442205060011518321 ((724120, 724340)) alls|alls, 2442205060011518321 ((724400, 724580)) samma|samma, 2442205060011518321 ((724640, 725000)) rättighet|rätt, 2442205060011518321 ((725040, 725179)) till|till, 2442205060011518321 ((725220, 725419)) båda|båda, 2442205060011518321 ((725520, 725659)) sina|sina, 2442205060011518321 ((725740, 726139)) föräldrar|<eps>, 2442205060011518321 ((726440, 726519)) och|föräldrar., 2442205060011518321 ((726580, 726899)) Varför|Varför, 2442205060011518321 ((726940, 726999)) ska|ska, 2442205060011518321 ((727100, 727179)) man|man, 2442205060011518321 ((727220, 727440)) göra|göra, 2442205060011518321 ((727560, 727720)) den|den, 2442205060011518321 ((727719, 727719)) <eps>|skillnaden?, 2442205060011518321 ((728000, 728539)) skillnaden|Det, 2442205060011518321 ((729700, 730479)) eär|är, 2442205060011518321 ((730560, 730600)) en|en, 2442205060011518321 ((730660, 730820)) sak|sak, 2442205060011518321 ((730860, 730940)) som|som, 2442205060011518321 ((730980, 731059)) jag|jag, 2442205060011518321 ((731080, 731139)) har|har, 2442205060011518321 ((731180, 731340)) tatt|tagit, 2442205060011518321 ((731380, 731480)) upp|upp, 2442205060011518321 ((731540, 731559)) i|i, 2442205060011518321 ((731640, 731960)) flera|flera, 2442205060011518321 ((733000, 733759)) interpelationer|<eps>, 2442205060011518321 ((733840, 734399)) tidigare|<eps>, 2442205060011518321 ((734720, 734799)) och|interpellationer, 2442205060011518321 ((734840, 734919)) som|tidigare., 2442205060011518321 ((734980, 735039)) Jag|Jag, 2442205060011518321 ((735100, 735299)) vet|vet, 2442205060011518321 ((735360, 735480)) att|att, 2442205060011518321 ((735740, 736119)) Morgan|Morgan, 2442205060011518321 ((736360, 736759)) Johansson|Johansson, 2442205060011518321 ((736800, 737080)) brukar|brukar, 2442205060011518321 ((737220, 737619)) uttrycka|uttrycka, 2442205060011518321 ((737619, 737619)) <eps>|det, 2442205060011518321 ((737720, 737799)) som|som, 2442205060011518321 ((737840, 737940)) att|att, 2442205060011518321 ((737960, 738019)) det|det, 2442205060011518321 ((738040, 738080)) är|är, 2442205060011518321 ((738120, 738220)) ett|ett, 2442205060011518321 ((738420, 738860)) tydligt|tydligt, 2442205060011518321 ((739240, 739600)) pappa-|pappa-, 2442205060011518321 ((740020, 740200)) eller|eller, 2442205060011518321 ((740300, 742000)) faderskapsperspektiv,|faderskapsperspektiv,, 2442205060011518321 ((742100, 742179)) men|men, 2442205060011518321 ((742240, 742340)) jag|jag, 2442205060011518321 ((742400, 742620)) menar|menar, 2442205060011518321 ((742660, 742700)) på|<eps>, 2442205060011518321 ((742740, 742840)) att|att, 2442205060011518321 ((742860, 742940)) det|det, 2442205060011518321 ((743000, 743379)) faktiskt|faktiskt, 2442205060011518321 ((743440, 743519)) är|är, 2442205060011518321 ((743580, 743679)) ett|ett, 2442205060011518321 ((743720, 744519)) barnperspektiv.|barnperspektiv., 2442205060011518321 ((744960, 745399)) Barnets|Barnets, 2442205060011518321 ((745460, 745639)) rätt|rätt, 2442205060011518321 ((745680, 745820)) till|till, 2442205060011518321 ((745880, 746200)) båda|båda, 2442205060011518321 ((746320, 746539)) sina|sina, 2442205060011518321 ((746620, 747100)) föräldrar|föräldrar, 2442205060011518321 ((747240, 747379)) är|är, 2442205060011518321 ((747440, 747539)) ett|ett, 2442205060011518321 ((747580, 748419)) barnperspektiv|barnperspektiv, 2442205060011518321 ((748520, 748539)) i|i, 2442205060011518321 ((748640, 748779)) min|min, 2442205060011518321 ((748880, 749120)) värld.|värld., 2442205060011518321 ((749520, 749679)) Jag|Jag, 2442205060011518321 ((749800, 750059)) ser|ser, 2442205060011518321 ((750220, 750419)) inte|inte, 2442205060011518321 ((750520, 750700)) barn|barn, 2442205060011518321 ((750760, 750840)) som|som, 2442205060011518321 ((750900, 751260)) bihang|bihang, 2442205060011518321 ((751320, 751440)) till|till, 2442205060011518321 ((751460, 751839)) vuxna.|vuxna., 2442205060011518321 ((752260, 752700)) Tvärtom|Tvärtom, 2442205060011518321 ((752840, 753059)) anser|anser, 2442205060011518321 ((753100, 753159)) jag|jag, 2442205060011518321 ((753200, 753299)) att|att, 2442205060011518321 ((753360, 753619)) barn|barn, 2442205060011518321 ((753880, 754320)) alltid|alltid, 2442205060011518321 ((754520, 754580)) har|har, 2442205060011518321 ((754660, 754820)) rätt|rätt, 2442205060011518321 ((754860, 754960)) till|till, 2442205060011518321 ((755000, 755139)) sina|sina, 2442205060011518321 ((755200, 755579)) föräldrar.|föräldrar., 2442205060011518321 ((755960, 756039)) Men|Men, 2442205060011518321 ((756080, 756139)) jag|jag, 2442205060011518321 ((756200, 756419)) anser|anser, 2442205060011518321 ((756520, 756760)) inte|inte, 2442205060011518321 ((756820, 756940)) att|att, 2442205060011518321 ((757000, 757419)) föräldrar|föräldrar, 2442205060011518321 ((757500, 757580)) har|har, 2442205060011518321 ((757640, 757840)) rätt|rätt, 2442205060011518321 ((758080, 758239)) till|till, 2442205060011518321 ((758320, 758479)) sina|sina, 2442205060011518321 ((758560, 758800)) barn.|barn., 2442205060011518321 ((762180, 762260)) Det|Det, 2442205060011518321 ((762320, 762379)) är|är, 2442205060011518321 ((762500, 762840)) inte|inte, 2442205060011518321 ((763700, 764079)) barnen|barnen, 2442205060011518321 ((764140, 764159)) i|i, 2442205060011518321 ((764260, 764620)) Sverige|Sverige, 2442205060011518321 ((764700, 764779)) som|som, 2442205060011518321 ((764840, 764919)) har|har, 2442205060011518321 ((764980, 765340)) problem|problem, 2442205060011518321 ((765340, 765340)) <eps>|med, 2442205060011518321 ((765420, 765520)) att|att, 2442205060011518321 ((765560, 766380)) föräldrabalken|föräldrabalken, 2442205060011518321 ((766700, 767159)) benämner|benämner, 2442205060011518321 ((767460, 767839)) människor|människor, 2442205060011518321 ((767920, 768000)) som|som, 2442205060011518321 ((768100, 768299)) far|far, 2442205060011518321 ((768360, 768519)) eller|eller, 2442205060011518321 ((769000, 769200)) mor|mor, 2442205060011518321 ((769980, 770279)) utifrån|utifrån, 2442205060011518321 ((770320, 770499)) vilka|vilka, 2442205060011518321 ((770620, 771159)) könsceller|könsceller, 2442205060011518321 ((771220, 771279)) man|de, 2442205060011518321 ((771400, 771840)) bidragit|bidragit, 2442205060011518321 ((771880, 771980)) med|med, 2442205060011518321 ((772020, 772120)) vid|vid, 2442205060011518321 ((772240, 772860)) befruktningen.|befruktningen., 2442205060011518321 ((773380, 773399)) I|I, 2442205060011518321 ((773460, 773779)) stället|stället, 2442205060011518321 ((773840, 774059)) handlar|handlar, 2442205060011518321 ((774080, 774159)) det|det, 2442205060011518321 ((774200, 774239)) ju|<eps>, 2442205060011518321 ((774280, 774500)) snarare|snarare, 2442205060011518321 ((774520, 774559)) om|om, 2442205060011518321 ((774600, 774700)) att|att, 2442205060011518321 ((774740, 775340)) regeringen|regeringen, 2442205060011518321 ((775400, 775419)) i|i, 2442205060011518321 ((775500, 775740)) vanlig|vanlig, 2442205060011518321 ((775800, 776080)) ordning|ordning, 2442205060011518321 ((776160, 776780)) försökker|försöker, 2442205060011518321 ((776860, 777720)) röstmaximera|röstmaximera, 2442205060011518321 ((778100, 778320)) genom|genom, 2442205060011518321 ((778380, 778460)) att|att, 2442205060011518321 ((778500, 778620)) till|<eps>, 2442205060011518321 ((778640, 779179)) mötesgå|tillmötesgå, 2442205060011518321 ((779440, 780559)) hobitekurörelsen|hbtq-rörelsen, 2442205060011518321 ((780980, 781119)) med|med, 2442205060011518321 ((781200, 781739)) förändringar|förändringar, 2442205060011518321 ((781820, 781899)) som|som, 2442205060011518321 ((781980, 782440)) egentligen|egentligen, 2442205060011518321 ((782520, 782659)) inte|inte, 2442205060011518321 ((782740, 782860)) har|har, 2442205060011518321 ((782940, 783139)) någon|någon, 2442205060011518321 ((783220, 783499)) större|större, 2442205060011518321 ((783620, 784039)) praktisk|praktisk, 2442205060011518321 ((784140, 784679)) betydelse.|betydelse., 2442205060011518321 ((786360, 786440)) Jag|Jag, 2442205060011518321 ((786520, 786779)) anser|anser, 2442205060011518321 ((786820, 786919)) att|att, 2442205060011518321 ((786940, 787440)) förändringarna|förändringar, 2442205060011518321 ((787520, 787539)) i|i, 2442205060011518321 ((787600, 788320)) lagtexten|lagtexten, 2442205060011518321 ((788660, 788960)) enbart|enbart, 2442205060011518321 ((788980, 789059)) ska|ska, 2442205060011518321 ((789160, 789539)) göras|göras, 2442205060011518321 ((789620, 789700)) för|för, 2442205060011518321 ((789740, 789860)) att|att, 2442205060011518321 ((789900, 790360)) förbättra|förbättra, 2442205060011518321 ((790460, 790979)) tolkningen|tolkningen, 2442205060011518321 ((791040, 791120)) och|och, 2442205060011518321 ((791160, 791440)) förändra|förändra, 2442205060011518321 ((791540, 792120)) innehållet,|innehållet,, 2442205060011518321 ((792220, 792359)) inte|inte, 2442205060011518321 ((792420, 792500)) för|för, 2442205060011518321 ((792540, 792640)) att|att, 2442205060011518321 ((792680, 792940)) någon|någon, 2442205060011518321 ((793000, 793019)) i|i, 2442205060011518321 ((793120, 793659)) regeringen|regeringen, 2442205060011518321 ((793740, 793980)) anser|anser, 2442205060011518321 ((794020, 794120)) att|att, 2442205060011518321 ((794240, 794559)) orden|orden, 2442205060011518321 ((794620, 794639)) i|i, 2442205060011518321 ((794720, 795019)) lagen|lagen, 2442205060011518321 ((795080, 795119)) är|är, 2442205060011518321 ((795180, 795880)) gammalmodiga|<eps>, 2442205060011518321 ((796640, 796880)) andra|gammalmodiga., 2442205060011518321 ((796960, 797239)) lagar|Andra, 2442205060011518321 ((797280, 797340)) som|lagar,, 2442205060011518321 ((797380, 797500)) till|till, 2442205060011518321 ((797520, 797840)) exempel|exempel, 2442205060011518321 ((797940, 798839)) handelsbanken|<eps>, 2442205060011518321 ((799940, 801019)) handelsbalken,|handelsbalken,, 2442205060011518321 ((801540, 801919)) innehåller|innehåller, 2442205060011518321 ((801980, 802399)) fortfarande|fortfarande, 2442205060011518321 ((802500, 802639)) ord|ord, 2442205060011518321 ((802740, 802820)) som|som, 2442205060011518321 ((803020, 803380)) daler|daler, 2442205060011518321 ((804220, 804299)) när|när, 2442205060011518321 ((804360, 804399)) de|det, 2442205060011518321 ((804500, 804740)) talar|talas, 2442205060011518321 ((804780, 804820)) om|om, 2442205060011518321 ((804880, 805419)) bötesstraff|bötesstraff, 2442205060011518321 ((805440, 805599)) eller|eller, 2442205060011518321 ((805640, 806120)) ersättning.|ersättning., 2442205060011518321 ((806900, 807000)) Jag|Jag, 2442205060011518321 ((807060, 807140)) har|har, 2442205060011518321 ((807220, 807419)) aldrig|aldrig, 2442205060011518321 ((807480, 807639)) hört|hört, 2442205060011518321 ((807700, 807940)) någon|någon, 2442205060011518321 ((808000, 808279)) klaga|klaga, 2442205060011518321 ((808360, 808399)) på|på, 2442205060011518321 ((808480, 808580)) det|<eps>, 2442205060011518321 ((808980, 809399)) tvärtom|det., 2442205060011518321 ((809540, 809600)) så|Man, 2442205060011518321 ((809700, 809879)) tycker|tycker, 2442205060011518321 ((809940, 809999)) man|<eps>, 2442205060011518321 ((810060, 810100)) då|tvärtom, 2442205060011518321 ((810180, 810280)) att|att, 2442205060011518321 ((810300, 810380)) det|det, 2442205060011518321 ((810420, 810580)) finns|finns, 2442205060011518321 ((810640, 810679)) en|en, 2442205060011518321 ((810740, 811059)) poäng|poäng, 2442205060011518321 ((811120, 811139)) i|i, 2442205060011518321 ((811240, 811340)) att|att, 2442205060011518321 ((811380, 811419)) vi|vi, 2442205060011518321 ((811500, 811779)) faktiskt|<eps>, 2442205060011518321 ((811800, 811880)) har|har, 2442205060011518321 ((811920, 811960)) en|en, 2442205060011518321 ((811959, 811959)) <eps>|gammal, 2442205060011518321 ((812000, 812600)) lagstiftning|lagstiftning, 2442205060011518321 ((812680, 812760)) som|som, 2442205060011518321 ((812820, 812879)) är|<eps>, 2442205060011518321 ((812920, 812980)) så|<eps>, 2442205060011518321 ((813060, 813460)) gammal|<eps>, 2442205060011518321 ((813720, 813779)) så|<eps>, 2442205060011518321 ((813820, 813899)) att|<eps>, 2442205060011518321 ((813940, 813999)) den|<eps>, 2442205060011518321 ((814060, 814220)) aldrig|aldrig, 2442205060011518321 ((814260, 814320)) har|har, 2442205060011518321 ((814380, 814639)) behövts|behövt, 2442205060011518321 ((814740, 815119)) ändras|ändras, 2442205060011518321 ((815180, 815540)) egentligen|<eps>, 2442205060011518321 ((815620, 815700)) för|<eps>, 2442205060011518321 ((815760, 815860)) att|eftersom, 2442205060011518321 ((815900, 815960)) den|den, 2442205060011518321 ((816040, 816559)) fortfarande|fortfarande, 2442205060011518321 ((816640, 817120)) fungerar.|fungerar., 2442205060011518321 ((819480, 819559)) Det|Det, 2442205060011518321 ((819640, 819899)) finns|finns, 2442205060011518321 ((819940, 819979)) en|en, 2442205060011518321 ((820040, 820280)) poäng|poäng, 2442205060011518321 ((820340, 820359)) i|i, 2442205060011518321 ((820420, 820600)) att|att, 2442205060011518321 ((820820, 821019)) ändra|ändra, 2442205060011518321 ((821080, 821099)) i|i, 2442205060011518321 ((821140, 821779)) föräldrabalken|föräldrabalken, 2442205060011518321 ((821840, 822080)) utifrån|utifrån, 2442205060011518321 ((822120, 822220)) att|att, 2442205060011518321 ((822260, 822559)) texten|texten, 2442205060011518321 ((822559, 822559)) <eps>|har, 2442205060011518321 ((822600, 822820)) blivit|blivit, 2442205060011518321 ((822880, 823279)) rörig|rörig, 2442205060011518321 ((823320, 823399)) och|och, 2442205060011518321 ((823460, 823639)) full|full, 2442205060011518321 ((823680, 823760)) med|med, 2442205060011518321 ((823820, 823999)) nya|nya, 2442205060011518321 ((824080, 824919)) hänvisningar|<eps>, 2442205060011518321 ((825300, 825360)) och|hänvisningar., 2442205060011518321 ((825400, 825480)) Det|Det, 2442205060011518321 ((825500, 825580)) har|har, 2442205060011518321 ((825620, 825799)) även|även, 2442205060011518321 ((825860, 825999)) mitt|mitt, 2442205060011518321 ((826040, 826240)) parti|parti, 2442205060011518321 ((826380, 826899)) påtalat|påpekat, 2442205060011518321 ((826940, 827019)) vid|vid, 2442205060011518321 ((827019, 827019)) <eps>|ett, 2442205060011518321 ((827280, 827659)) tidigare|tidigare, 2442205060011518321 ((828580, 829039)) tillfälle.|tillfälle., 2442205060011518321 ((829540, 829600)) Men|Men, 2442205060011518321 ((829640, 829720)) det|det, 2442205060011518321 ((829760, 829799)) är|är, 2442205060011518321 ((829860, 829980)) inte|inte, 2442205060011518321 ((830080, 830299)) samma|samma, 2442205060011518321 ((830380, 830559)) sak|sak, 2442205060011518321 ((830620, 830679)) som|som, 2442205060011518321 ((830740, 830840)) att|att, 2442205060011518321 ((830880, 831080)) börja|börja, 2442205060011518321 ((831160, 831360)) hitta|hitta, 2442205060011518321 ((831460, 831519)) på|på, 2442205060011518321 ((832440, 832699)) andra|andra, 2442205060011518321 ((832860, 833139)) ord|ord, 2442205060011518321 ((833440, 833459)) i|i, 2442205060011518321 ((833580, 833820)) själva|själva, 2442205060011518321 ((833820, 833820)) <eps>|lagtexten., 2442205060011518321 ((833820, 833820)) <eps>|I, 2442205060011518321 ((833820, 833820)) <eps>|en, 2442205060011518321 ((833900, 834559)) lagtexten|intervju, 2442205060011518321 ((835600, 835759)) åsa|i, 2442205060011518321 ((835840, 836259)) lindehage|SVT, 2442205060011518321 ((836340, 836719)) framhöll|framhöll, 2442205060011518321 ((836719, 836719)) <eps>|Åsa, 2442205060011518321 ((836780, 836820)) ju|Lindhagen, 2442205060011518321 ((836900, 837320)) särskilt|särskilt, 2442205060011518321 ((837400, 837580)) barn|barn, 2442205060011518321 ((837640, 837720)) som|som, 2442205060011518321 ((837780, 837980)) lever|lever, 2442205060011518321 ((838020, 838059)) i|i, 2442205060011518321 ((838120, 838499)) familjer|familjer, 2442205060011518321 ((838540, 838620)) där|där, 2442205060011518321 ((838660, 838720)) det|det, 2442205060011518321 ((838760, 838919)) finns|finns, 2442205060011518321 ((838980, 839220)) fler|fler, 2442205060011518321 ((839300, 839679)) vuxna|vuxna, 2442205060011518321 ((840060, 840120)) än|än, 2442205060011518321 ((840220, 840359)) två|två, 2442205060011518321 ((840640, 840700)) och|och, 2442205060011518321 ((840740, 840820)) där|där, 2442205060011518321 ((840900, 841020)) mer|mer, 2442205060011518321 ((841080, 841119)) än|än, 2442205060011518321 ((841220, 841379)) två|två, 2442205060011518321 ((841600, 841720)) tar|tar, 2442205060011518321 ((841780, 842419)) föräldraransvar|<eps>, 2442205060011518321 ((842480, 842499)) i|<eps>, 2442205060011518321 ((842580, 842759)) sin|<eps>, 2442205060011518321 ((842880, 843200)) intervju|<eps>, 2442205060011518321 ((843420, 843440)) i|<eps>, 2442205060011518321 ((843580, 843999)) äsvete|föräldraansvar., 2442205060011518321 ((844940, 845019)) Jag|Jag, 2442205060011518321 ((845060, 845200)) hade|hade, 2442205060011518321 ((845320, 845639)) gärna|gärna, 2442205060011518321 ((845820, 846159)) fått|fått, 2442205060011518321 ((846480, 846700)) detta|detta, 2442205060011518321 ((846780, 846919)) mer|mer, 2442205060011518321 ((847060, 847760)) utvecklat,|utvecklat,, 2442205060011518321 ((847860, 847940)) men|men, 2442205060011518321 ((848000, 848039)) nu|nu, 2442205060011518321 ((848120, 848200)) har|har, 2442205060011518321 ((848280, 848580)) frågan|frågan, 2442205060011518321 ((848660, 849080)) flyttats|flyttats, 2442205060011518321 ((849120, 849240)) till|till, 2442205060011518321 ((849280, 849480)) Morgan|Morgan, 2442205060011518321 ((849540, 850040)) Johansson,|Johansson,, 2442205060011518321 ((850100, 850159)) och|och, 2442205060011518321 ((850220, 850279)) han|han, 2442205060011518321 ((850360, 850559)) kanske|kanske, 2442205060011518321 ((850600, 850720)) inte|inte, 2442205060011518321 ((850800, 851040)) vet|vet, 2442205060011518321 ((851100, 851179)) vad|vad, 2442205060011518321 ((851260, 851500)) Åsa|Åsa, 2442205060011518321 ((851900, 852380)) lindehage|Lindhagen, 2442205060011518321 ((852480, 852759)) menar|menar, 2442205060011518321 ((852820, 852879)) med|med, 2442205060011518321 ((852960, 853139)) sitt|sitt, 2442205060011518321 ((853220, 853659)) yttrande|<eps>, 2442205060011518321 ((853760, 853880)) för|yttrande., 2442205060011518321 ((853960, 854059)) Hur|Hur, 2442205060011518321 ((854380, 854740)) vanligt|vanligt, 2442205060011518321 ((854760, 854820)) det|<eps>, 2442205060011518321 ((854880, 854960)) är|är, 2442205060011518321 ((854960, 854960)) <eps>|det, 2442205060011518321 ((855020, 855120)) med|med, 2442205060011518321 ((855180, 855600)) familjer|familjer, 2442205060011518321 ((855660, 855760)) med|med, 2442205060011518321 ((855860, 856119)) fler|fler, 2442205060011518321 ((856220, 856599)) vuxna|vuxna, 2442205060011518321 ((856740, 856799)) än|än, 2442205060011518321 ((856880, 857019)) två?|två?, 2442205060011518321 ((858120, 858240)) Tre|Tre, 2442205060011518321 ((858460, 858519)) av|av, 2442205060011518321 ((858600, 858840)) fyra|fyra, 2442205060011518321 ((858940, 859119)) barn|barn, 2442205060011518321 ((859180, 859200)) i|i, 2442205060011518321 ((859280, 859659)) Sverige|Sverige, 2442205060011518321 ((859920, 860120)) växer|växer, 2442205060011518321 ((860160, 860260)) upp|upp, 2442205060011518321 ((860300, 860320)) i|i, 2442205060011518321 ((860400, 860820)) familjer|familjer, 2442205060011518321 ((860880, 860960)) som|som, 2442205060011518321 ((861020, 861240)) består|består, 2442205060011518321 ((861300, 861340)) av|av, 2442205060011518321 ((861400, 861640)) mamma,|mamma,, 2442205060011518321 ((861780, 862000)) pappa|pappa, 2442205060011518321 ((862000, 862000)) <eps>|och, 2442205060011518321 ((862140, 862340)) barn|barn, 2442205060011518321 ((862340, 862340)) <eps>|-, 2442205060011518321 ((863260, 863639)) sjuttiofem|det, 2442205060011518321 ((863740, 864139)) procent|är, 2442205060011518321 ((864200, 864399)) alltså|alltså, 2442205060011518321 ((864399, 864399)) <eps>|75, 2442205060011518321 ((864399, 864399)) <eps>|procent., 2442205060011518321 ((864680, 864740)) Så|Så, 2442205060011518321 ((864820, 864919)) ser|ser, 2442205060011518321 ((864980, 865519)) verkligheten|verkligheten, 2442205060011518321 ((865600, 865739)) ut|ut, 2442205060011518321 ((865820, 865859)) om|<eps>, 2442205060011518321 ((865940, 866379)) regeringen|<eps>, 2442205060011518321 ((868200, 868359)) även|även, 2442205060011518321 ((868400, 868460)) om|om, 2442205060011518321 ((868560, 869000)) regeringens|regeringens, 2442205060011518321 ((869040, 869640)) företrädare|företrädare, 2442205060011518321 ((869680, 869780)) gör|gör, 2442205060011518321 ((869840, 869979)) sitt|sitt, 2442205060011518321 ((870040, 870320)) bästa|bästa, 2442205060011518321 ((870380, 870460)) för|för, 2442205060011518321 ((870480, 870600)) att|att, 2442205060011518321 ((870640, 871039)) utmåla|utmåla, 2442205060011518321 ((871120, 871340)) detta|detta, 2442205060011518321 ((871400, 871480)) som|som, 2442205060011518321 ((871540, 871640)) ett|ett, 2442205060011518321 ((871680, 872180)) förlegat|förlegat, 2442205060011518321 ((872220, 872299)) och|och, 2442205060011518321 ((872380, 872899)) omodernt|omodernt, 2442205060011518321 ((872960, 873159)) sätt|sätt, 2442205060011518321 ((873220, 873320)) att|att, 2442205060011518321 ((873360, 873440)) se|se, 2442205060011518321 ((873560, 873620)) på|på, 2442205060011518321 ((873720, 874159)) familjen.|familjen., 2442205060011518321 ((874880, 874919)) Är|Är, 2442205060011518321 ((874980, 875039)) det|det, 2442205060011518321 ((875080, 875359)) verkligen|verkligen, 2442205060011518321 ((875440, 875659)) fel|fel, 2442205060011518321 ((875700, 875839)) att|att, 2442205060011518321 ((876040, 876100)) ta|ta, 2442205060011518321 ((876220, 876379)) runt|runt, 2442205060011518321 ((876440, 876979)) sjuttiofem|75, 2442205060011518321 ((877100, 877460)) procent|procent, 2442205060011518321 ((877500, 877559)) av|av, 2442205060011518321 ((877620, 877879)) barnen|barnen, 2442205060011518321 ((877940, 877959)) i|i, 2442205060011518321 ((878040, 878320)) Sverige|Sverige, 2442205060011518321 ((878380, 878460)) som|som, 2442205060011518321 ((878560, 879240)) utgångspunkt|<eps>, 2442205060011518321 ((881620, 881740)) tack|<eps>, 2442205060011518321 ((881800, 881840)) så|utgångspunkt?, 2442205060011518321 ((882320, 883459)) justitiemigrationsminister|<eps>, 2442205060011518321 ((883520, 883720)) morgan|<eps>, 2442205060011518321 ((883760, 884080)) joansson|<eps>, 2442205060011518321 ((884140, 884539)) varsågod|<eps>, 2442205060011518321 ((885340, 885519)) tack|<eps>, 2442205060011518321 ((885540, 885620)) för|Fru, 2442205060011518321 ((885640, 885740)) att|talman!]\n",
      "[2442205060011518321 ((885760, 885820)) ha|Nej,, 2442205060011518321 ((885980, 886179)) nejmen|men, 2442205060011518321 ((886260, 886299)) en|en, 2442205060011518321 ((886360, 886759)) lagstifting|lagstiftning, 2442205060011518321 ((886800, 886920)) måste|måste, 2442205060011518321 ((886960, 887019)) ju|<eps>, 2442205060011518321 ((887080, 887399)) fungera|fungera, 2442205060011518321 ((887480, 887559)) för|för, 2442205060011518321 ((887660, 887919)) alla|<eps>, 2442205060011518321 ((888400, 888460)) det|<eps>, 2442205060011518321 ((888500, 888539)) är|<eps>, 2442205060011518321 ((889180, 889240)) det|<eps>, 2442205060011518321 ((889440, 889619)) liksom|alla,, 2442205060011518321 ((890040, 890280)) också|också, 2442205060011518321 ((890360, 890379)) i|i, 2442205060011518321 ((890460, 890499)) en|en, 2442205060011518321 ((890620, 890980)) modern|modern, 2442205060011518321 ((891060, 891260)) miljö|miljö, 2442205060011518321 ((891420, 891520)) där|där, 2442205060011518321 ((891600, 891799)) saker|saker, 2442205060011518321 ((891840, 891919)) och|och, 2442205060011518321 ((891940, 892059)) ting|ting, 2442205060011518321 ((892120, 892179)) har|har, 2442205060011518321 ((892240, 892820)) förändrats.|förändrats., 2442205060011518321 ((892880, 892940)) Det|Det, 2442205060011518321 ((893000, 893159)) måste|måste, 2442205060011518321 ((893200, 893259)) ju|rimligen, 2442205060011518321 ((893300, 893440)) också|också, 2442205060011518321 ((893520, 893799)) rimligen|<eps>, 2442205060011518321 ((893860, 894739)) mikelesklandersom|Mikael, 2442205060011518321 ((895540, 895940)) förstår|Eskilandersson, 2442205060011518321 ((897160, 897240)) men|förstå., 2442205060011518321 ((897560, 897660)) Låt|Låt, 2442205060011518321 ((897700, 897759)) mig|mig, 2442205060011518321 ((897820, 897959)) först|först, 2442205060011518321 ((897980, 898299)) slutföra|slutföra, 2442205060011518321 ((898320, 898399)) den|<eps>, 2442205060011518321 ((898420, 898480)) här|<eps>, 2442205060011518321 ((898520, 898720)) punkten|punkten, 2442205060011518321 ((898760, 899000)) ärdetgäller|<eps>, 2442205060011518321 ((899040, 899720)) barnkonventionen|när, 2442205060011518321 ((899740, 899820)) at|det, 2442205060011518321 ((899840, 899879)) så|gäller, 2442205060011518321 ((900000, 900259)) först|barnkonventionen., 2442205060011518321 ((900300, 900340)) så|Först, 2442205060011518321 ((900420, 900660)) röstar|röstar, 2442205060011518321 ((900740, 902019)) sveriedemokdemokraterna|Sverigedemokraterna, 2442205060011518321 ((902140, 902659)) emot|emot, 2442205060011518321 ((903020, 903140)) att|att, 2442205060011518321 ((903180, 903840)) barnkomventionen|barnkonventionen, 2442205060011518321 ((903880, 903960)) ska|ska, 2442205060011518321 ((904400, 904480)) bli|bli, 2442205060011518321 ((904560, 904820)) svensk|svensk, 2442205060011518321 ((904880, 905059)) lag|<eps>, 2442205060011518321 ((905600, 905659)) och|<eps>, 2442205060011518321 ((905720, 905859)) sen|lag., 2442205060011518321 ((905880, 905919)) I|I, 2442205060011518321 ((905980, 906220)) nästa|nästa, 2442205060011518321 ((906280, 906640)) andetag|andetag, 2442205060011518321 ((906960, 906999)) så|<eps>, 2442205060011518321 ((907080, 907239)) säger|<eps>, 2442205060011518321 ((907300, 907500)) mikael|<eps>, 2442205060011518321 ((907560, 909280)) eskelandersklagar|klagar, 2442205060011518321 ((909340, 909539)) mikel|Mikael, 2442205060011518321 ((909600, 910100)) eskelandersson|Eskilandersson, 2442205060011518321 ((910160, 910240)) på|på, 2442205060011518321 ((910320, 910419)) att|att, 2442205060011518321 ((910440, 910479)) vi|vi, 2442205060011518321 ((910520, 910640)) inte|inte, 2442205060011518321 ((910720, 910979)) följer|följer, 2442205060011518321 ((911040, 911780)) barnkomventionen|<eps>, 2442205060011518321 ((912360, 912539)) just|<eps>, 2442205060011518321 ((912560, 912660)) den|<eps>, 2442205060011518321 ((912860, 912899)) de|<eps>, 2442205060011518321 ((913000, 913519)) lagstiftningar|<eps>, 2442205060011518321 ((913540, 913620)) som|barnkonventionen., 2442205060011518321 ((913640, 913720)) man|Han, 2442205060011518321 ((913740, 913820)) har|har, 2442205060011518321 ((913840, 914080)) pekat|pekat, 2442205060011518321 ((914140, 914200)) på|på, 2442205060011518321 ((914320, 914379)) som|lagstiftningar, 2442205060011518321 ((914740, 914840)) som|som, 2442205060011518321 ((914900, 914980)) man|<eps>, 2442205060011518321 ((915020, 915080)) då|<eps>, 2442205060011518321 ((916140, 916260)) inte|inte, 2442205060011518321 ((916300, 916340)) är|är, 2442205060011518321 ((916339, 916339)) <eps>|i, 2442205060011518321 ((916400, 917000)) överensstämmelse|överensstämmelse, 2442205060011518321 ((917040, 917100)) med|med, 2442205060011518321 ((917160, 917780)) barnkomvensionen|barnkonventionen., 2442205060011518321 ((917860, 917919)) och|Jag, 2442205060011518321 ((917960, 917999)) så|säger, 2442205060011518321 ((918080, 918259)) sager|då:, 2442205060011518321 ((918300, 918360)) jag|Ja,, 2442205060011518321 ((918800, 919020)) jamen|men, 2442205060011518321 ((919060, 919100)) vi|vi, 2442205060011518321 ((919120, 919179)) har|har, 2442205060011518321 ((919200, 919339)) gjort|tillsatt, 2442205060011518321 ((919380, 919419)) en|en, 2442205060011518321 ((919500, 919960)) utredning|utredning, 2442205060011518321 ((920020, 920100)) för|för, 2442205060011518321 ((920140, 920240)) att|att, 2442205060011518321 ((920280, 920539)) visa|se, 2442205060011518321 ((920680, 920760)) vad|vad, 2442205060011518321 ((920860, 920919)) är|<eps>, 2442205060011518321 ((920980, 921039)) det|<eps>, 2442205060011518321 ((921100, 921139)) vi|vi, 2442205060011518321 ((921220, 921519)) behöver|behöver, 2442205060011518321 ((922040, 922280)) ändra|ändra, 2442205060011518321 ((922400, 922480)) på|på, 2442205060011518321 ((922600, 922739)) eller|eller, 2442205060011518321 ((922780, 922840)) vad|<eps>, 2442205060011518321 ((922880, 922940)) är|<eps>, 2442205060011518321 ((922980, 923039)) det|vilka, 2442205060011518321 ((923400, 923580)) saker|saker, 2442205060011518321 ((923600, 923659)) och|och, 2442205060011518321 ((923700, 923820)) ting|ting, 2442205060011518321 ((923920, 924020)) som|<eps>, 2442205060011518321 ((924180, 924200)) i|i, 2442205060011518321 ((924260, 924380)) vår|vår, 2442205060011518321 ((924440, 924859)) lagstiftning|lagstiftning, 2442205060011518321 ((924920, 924980)) som|<eps>, 2442205060011518321 ((925060, 925340)) behöver|<eps>, 2442205060011518321 ((925960, 926059)) som|som, 2442205060011518321 ((926160, 926200)) nu|<eps>, 2442205060011518321 ((926300, 926600)) behöver|behöver, 2442205060011518321 ((926800, 927320)) förändras|<eps>, 2442205060011518321 ((927440, 927539)) och|förändras., 2442205060011518321 ((927940, 927979)) då|Jag, 2442205060011518321 ((928100, 928159)) har|har, 2442205060011518321 ((928200, 928259)) jag|<eps>, 2442205060011518321 ((928300, 928420)) sagt|sagt, 2442205060011518321 ((928440, 928519)) att|att, 2442205060011518321 ((928560, 928600)) vi|vi, 2442205060011518321 ((928640, 928679)) är|är, 2442205060011518321 ((928720, 928899)) beredda|beredda, 2442205060011518321 ((928940, 929019)) att|att, 2442205060011518321 ((929060, 929200)) göra|göra, 2442205060011518321 ((929260, 929320)) de|de, 2442205060011518321 ((929420, 929920)) förändringarna|förändringarna, 2442205060011518321 ((930200, 930279)) och|och, 2442205060011518321 ((930320, 930419)) att|att, 2442205060011518321 ((930460, 930519)) en|en, 2442205060011518321 ((930580, 930779)) sådn|<eps>, 2442205060011518321 ((931420, 931580)) een|proposition, 2442205060011518321 ((931640, 931779)) sådan|om, 2442205060011518321 ((931820, 932279)) proposition|en, 2442205060011518321 ((932380, 932820)) lagändring|lagändring, 2442205060011518321 ((932860, 932940)) när|när, 2442205060011518321 ((932960, 933019)) det|det, 2442205060011518321 ((933040, 933179)) gäller|gäller, 2442205060011518321 ((933220, 933859)) familjerätten|<eps>, 2442205060011518321 ((934300, 934360)) på|<eps>, 2442205060011518321 ((934420, 934460)) en|en, 2442205060011518321 ((934500, 934639)) del|del, 2442205060011518321 ((934760, 935019)) viktiga|viktiga, 2442205060011518321 ((935100, 935399)) punkter|punkter, 2442205060011518321 ((935399, 935399)) <eps>|i, 2442205060011518321 ((935399, 935399)) <eps>|familjerätten, 2442205060011518321 ((935840, 936059)) faktiskt|faktiskt, 2442205060011518321 ((936100, 936139)) är|är, 2442205060011518321 ((936200, 936259)) på|på, 2442205060011518321 ((936320, 936440)) väg|väg, 2442205060011518321 ((936520, 936720)) fram|<eps>, 2442205060011518321 ((936820, 936879)) nu|<eps>, 2442205060011518321 ((936960, 937059)) till|till, 2442205060011518321 ((937100, 937379)) riksdagen|<eps>, 2442205060011518321 ((937420, 937620)) också|riksdagen., 2442205060011518321 ((938120, 938179)) Det|Det, 2442205060011518321 ((938240, 938360)) går|går, 2442205060011518321 ((938400, 938520)) inte|inte, 2442205060011518321 ((938560, 938840)) ihop,|ihop,, 2442205060011518321 ((938900, 939080)) ändå|fru, 2442205060011518321 ((939900, 940360)) fotalman|talman,, 2442205060011518321 ((940600, 940700)) att|att, 2442205060011518321 ((940740, 940759)) å|<eps>, 2442205060011518321 ((940840, 940960)) ena|<eps>, 2442205060011518321 ((941020, 941179)) sidan|<eps>, 2442205060011518321 ((941240, 941360)) vara|vara, 2442205060011518321 ((941400, 941779)) emot|emot, 2442205060011518321 ((941900, 942000)) att|att, 2442205060011518321 ((942040, 942640)) barnkomventionen|barnkonventionen, 2442205060011518321 ((942680, 942700)) i|är, 2442205060011518321 ((942740, 942980)) svensk|svensk, 2442205060011518321 ((943060, 943240)) lag|lag, 2442205060011518321 ((943500, 943580)) och|och, 2442205060011518321 ((943620, 943740)) sean|att, 2442205060011518321 ((943780, 943799)) i|i, 2442205060011518321 ((943860, 944080)) nästa|nästa, 2442205060011518321 ((944140, 944460)) andetag,|andetag,, 2442205060011518321 ((945460, 945580)) när|när, 2442205060011518321 ((945860, 945899)) vi|vi, 2442205060011518321 ((945960, 946019)) har|har, 2442205060011518321 ((946060, 947020)) gegenomfört|genomfört, 2442205060011518321 ((947060, 947140)) det|detta,, 2442205060011518321 ((947280, 947640)) klagar|klaga, 2442205060011518321 ((947700, 947739)) på|på, 2442205060011518321 ((947800, 948220)) regeringen|regeringen, 2442205060011518321 ((948520, 948600)) om|för, 2442205060011518321 ((948880, 948980)) att|att, 2442205060011518321 ((949000, 949080)) man|den, 2442205060011518321 ((949120, 949220)) inte|inte, 2442205060011518321 ((949260, 949419)) lever|lever, 2442205060011518321 ((949480, 949619)) upp|upp, 2442205060011518321 ((949700, 949820)) till|till, 2442205060011518321 ((949860, 949899)) de|de, 2442205060011518321 ((950000, 950279)) beslut|beslut, 2442205060011518321 ((950340, 950419)) som|som, 2442205060011518321 ((950520, 951120)) sveridemokraterna|<eps>, 2442205060011518321 ((951180, 951480)) egentligen|Sverigedemokraterna, 2442205060011518321 ((951500, 951580)) var|var, 2442205060011518321 ((951620, 951980)) emot.|emot., 2442205060011518321 ((952480, 952559)) Det|Det, 2442205060011518321 ((952640, 952899)) funkar|funkar, 2442205060011518321 ((952960, 953099)) inte|<eps>, 2442205060011518321 ((953300, 953640)) faktiskt|faktiskt, 2442205060011518321 ((953640, 953640)) <eps>|inte,, 2442205060011518321 ((953680, 953900)) rent|rent, 2442205060011518321 ((954000, 954399)) logiskt|<eps>, 2442205060011518321 ((955100, 955220)) sen|<eps>, 2442205060011518321 ((955240, 955539)) förstår|<eps>, 2442205060011518321 ((955580, 955679)) jag|<eps>, 2442205060011518321 ((955720, 955779)) ju|<eps>, 2442205060011518321 ((955860, 955999)) att|logiskt., 2442205060011518321 ((956220, 956259)) Nu|Nu, 2442205060011518321 ((956320, 956519)) förstår|förstår, 2442205060011518321 ((956560, 956640)) jag|jag, 2442205060011518321 ((956740, 956960)) mer|mer, 2442205060011518321 ((957320, 957419)) var|var, 2442205060011518321 ((957500, 957740)) skon|skon, 2442205060011518321 ((957800, 958179)) klämmer|klämmer, 2442205060011518321 ((958220, 958299)) för|för, 2442205060011518321 ((958299, 958299)) <eps>|Mikael, 2442205060011518321 ((958360, 959200)) mikeleskeloanderson|Eskilandersson, 2442205060011518321 ((959300, 959320)) i|i, 2442205060011518321 ((959400, 959460)) den|<eps>, 2442205060011518321 ((959520, 959679)) hela|hela, 2442205060011518321 ((959720, 959779)) den|<eps>, 2442205060011518321 ((959820, 959879)) här|<eps>, 2442205060011518321 ((959920, 960360)) debatten|<eps>, 2442205060011518321 ((961540, 961640)) han|<eps>, 2442205060011518321 ((961700, 961739)) är|<eps>, 2442205060011518321 ((961820, 961999)) inne|<eps>, 2442205060011518321 ((962100, 962179)) på|<eps>, 2442205060011518321 ((963580, 963639)) för|denna, 2442205060011518321 ((963680, 963740)) det|debatt., 2442205060011518321 ((963760, 963820)) här|Det, 2442205060011518321 ((963880, 964059)) handlar|handlar, 2442205060011518321 ((964100, 964159)) ju|<eps>, 2442205060011518321 ((964180, 964260)) inte|inte, 2442205060011518321 ((964300, 964340)) om|om, 2442205060011518321 ((964380, 964539)) vilka|vilka, 2442205060011518321 ((964620, 965080)) reformer|reformer, 2442205060011518321 ((965140, 965179)) vi|vi, 2442205060011518321 ((965240, 965299)) ska|ska, 2442205060011518321 ((965400, 965539)) göra|göra, 2442205060011518321 ((965580, 965639)) för|för, 2442205060011518321 ((965680, 965760)) att|att, 2442205060011518321 ((965800, 966160)) förbättra|förbättra, 2442205060011518321 ((966240, 966519)) barns|barns, 2442205060011518321 ((966680, 967140)) rättigheter|rättigheter, 2442205060011518321 ((967220, 967679)) ytterligare.|ytterligare., 2442205060011518321 ((968040, 968120)) Han|Han, 2442205060011518321 ((968200, 968679)) återkommer|återkommer, 2442205060011518321 ((968720, 968840)) hela|hela, 2442205060011518321 ((968920, 969100)) tiden|tiden, 2442205060011518321 ((969120, 969220)) till|till, 2442205060011518321 ((969260, 969399)) detta|<eps>, 2442205060011518321 ((969460, 969539)) med|<eps>, 2442205060011518321 ((969620, 970659)) könsneutralitet|<eps>, 2442205060011518321 ((971140, 971279)) och|<eps>, 2442205060011518321 ((972020, 972940)) homosexualitet|könsneutralitet,, 2442205060011518321 ((972980, 973059)) och|homosexualitet,, 2442205060011518321 ((973100, 973679)) samkönade|samkönade, 2442205060011518321 ((974360, 974820)) äktenskap|äktenskap, 2442205060011518321 ((974880, 974940)) och|och, 2442205060011518321 ((975000, 975440)) samkönade|samkönade, 2442205060011518321 ((975440, 975440)) <eps>|relationer., 2442205060011518321 ((975440, 975440)) <eps>|Jag, 2442205060011518321 ((975480, 976019)) relationer|tror, 2442205060011518321 ((976360, 976519)) ochjag|faktiskt, 2442205060011518321 ((976540, 976700)) troratt|att, 2442205060011518321 ((976720, 976799)) det|det, 2442205060011518321 ((976820, 976859)) är|är, 2442205060011518321 ((976940, 977159)) där|där, 2442205060011518321 ((977260, 977340)) som|<eps>, 2442205060011518321 ((977440, 977639)) skon|skon, 2442205060011518321 ((977700, 977999)) klämmer|klämmer, 2442205060011518321 ((978180, 978520)) faktiskt|<eps>, 2442205060011518321 ((978840, 979299)) förför|<eps>, 2442205060011518321 ((979400, 980100)) sverjildemokraterna|för, 2442205060011518321 ((980680, 980800)) att|Sverigedemokraterna., 2442205060011518321 ((980940, 980999)) Ni|Ni, 2442205060011518321 ((981460, 981659)) kan|kan, 2442205060011518321 ((981900, 982159)) inte|inte, 2442205060011518321 ((982260, 982899)) acceptera|acceptera, 2442205060011518321 ((982899, 982899)) <eps>|-, 2442205060011518321 ((982960, 983099)) eller|eller, 2442205060011518321 ((983120, 983159)) ni|ni, 2442205060011518321 ((983220, 983299)) har|har, 2442205060011518321 ((983380, 983720)) svårt|svårt, 2442205060011518321 ((983760, 983860)) att|att, 2442205060011518321 ((983920, 984420)) acceptera|acceptera, 2442205060011518321 ((984420, 984420)) <eps>|-, 2442205060011518321 ((984780, 984880)) att|att, 2442205060011518321 ((984940, 985619)) homosexuella|homosexuella, 2442205060011518321 ((985760, 986100)) numera|numera, 2442205060011518321 ((986200, 986399)) också|också, 2442205060011518321 ((986460, 986519)) är|är, 2442205060011518321 ((986600, 987080)) föräldrar|föräldrar, 2442205060011518321 ((987720, 987739)) i|i, 2442205060011518321 ((987820, 988119)) sverige|<eps>, 2442205060011518321 ((988720, 988820)) att|Sverige., 2442205060011518321 ((988900, 989500)) Homosexuella|Homosexuella, 2442205060011518321 ((989540, 989620)) har|har, 2442205060011518321 ((989700, 990019)) barn|<eps>, 2442205060011518321 ((990740, 990840)) att|<eps>, 2442205060011518321 ((990860, 990899)) vi|barn., 2442205060011518321 ((990960, 991179)) Därför|Därför, 2442205060011518321 ((991240, 991419)) måste|måste, 2442205060011518321 ((991419, 991419)) <eps>|vi, 2442205060011518321 ((991520, 991559)) ha|ha, 2442205060011518321 ((991640, 991679)) en|en, 2442205060011518321 ((991720, 992200)) lagstiftning|lagstiftning, 2442205060011518321 ((992260, 992320)) som|som, 2442205060011518321 ((992400, 992659)) faktiskt|<eps>, 2442205060011518321 ((992700, 992839)) också|<eps>, 2442205060011518321 ((992940, 993139)) täcker|täcker, 2442205060011518321 ((993200, 993259)) in|in, 2442205060011518321 ((993360, 993539)) dem|<eps>, 2442205060011518321 ((993900, 994539)) situationerna|de, 2442205060011518321 ((995640, 995720)) och|situationerna., 2442205060011518321 ((995740, 995799)) Det|Det, 2442205060011518321 ((995820, 995879)) är|är, 2442205060011518321 ((995920, 996080)) också|<eps>, 2442205060011518321 ((996180, 996240)) dä|<eps>, 2442205060011518321 ((996440, 996819)) därför|<eps>, 2442205060011518321 ((996900, 997059)) bland|bland, 2442205060011518321 ((997120, 997499)) annat|annat, 2442205060011518321 ((997499, 997499)) <eps>|därför, 2442205060011518321 ((997780, 997860)) som|som, 2442205060011518321 ((997920, 997960)) vi|vi, 2442205060011518321 ((998020, 998279)) behöver|behöver, 2442205060011518321 ((998340, 998399)) ha|ha, 2442205060011518321 ((998480, 998519)) en|en, 2442205060011518321 ((998580, 999019)) översyn|översyn, 2442205060011518321 ((999060, 999220)) utav|av, 2442205060011518321 ((999280, 999919)) föräldrabalken|föräldrabalken, 2442205060011518321 ((999980, 1000039)) för|<eps>, 2442205060011518321 ((1000100, 1000200)) att|och, 2442205060011518321 ((1000260, 1000500)) göra|göra, 2442205060011518321 ((1000580, 1000700)) den|den, 2442205060011518321 ((1000700, 1000700)) <eps>|könsneutral., 2442205060011518321 ((1000700, 1000700)) <eps>|Men, 2442205060011518321 ((1001240, 1001879)) könsnetroll|det, 2442205060011518321 ((1001920, 1001980)) men|handlar, 2442205060011518321 ((1002040, 1002179)) också|också, 2442205060011518321 ((1002220, 1002299)) för|om, 2442205060011518321 ((1002320, 1002419)) att|att, 2442205060011518321 ((1002460, 1002639)) titta|titta, 2442205060011518321 ((1002680, 1002740)) på|på, 2442205060011518321 ((1002820, 1003059)) andra|andra, 2442205060011518321 ((1003140, 1003419)) frågor|frågor, 2442205060011518321 ((1003460, 1003539)) som|som, 2442205060011518321 ((1003740, 1003840)) kan|kan, 2442205060011518321 ((1004020, 1004080)) bli|vara, 2442205060011518321 ((1004160, 1004520)) aktuella.|aktuella., 2442205060011518321 ((1005240, 1005820)) föräldrabalkan|Föräldrabalken, 2442205060011518321 ((1005880, 1005919)) är|är, 2442205060011518321 ((1005960, 1006080)) från|från, 2442205060011518321 ((1006160, 1006860)) femtiotalet|<eps>, 2442205060011518321 ((1008120, 1008259)) har|<eps>, 2442205060011518321 ((1008480, 1008499)) i|<eps>, 2442205060011518321 ((1008600, 1008700)) sin|50-talet., 2442205060011518321 ((1008760, 1009039)) grund|Den, 2442205060011518321 ((1009560, 1009640)) har|har, 2442205060011518321 ((1009740, 1010279)) lappats|lappats, 2442205060011518321 ((1010340, 1010419)) och|och, 2442205060011518321 ((1010480, 1010999)) lagats|lagats, 2442205060011518321 ((1011060, 1011240)) under|<eps>, 2442205060011518321 ((1011360, 1011679)) många|<eps>, 2442205060011518321 ((1012220, 1012320)) vid|vid, 2442205060011518321 ((1012380, 1012539)) många|många, 2442205060011518321 ((1012620, 1013080)) tillfällen|tillfällen, 2442205060011518321 ((1013080, 1013080)) <eps>|och, 2442205060011518321 ((1013640, 1013659)) i|i, 2442205060011518321 ((1013760, 1013919)) många|många, 2442205060011518321 ((1014000, 1014360)) omgångar|omgångar, 2442205060011518321 ((1014420, 1014620)) sedan|sedan, 2442205060011518321 ((1014680, 1014900)) dess.|dess., 2442205060011518321 ((1015880, 1015960)) Man|Man, 2442205060011518321 ((1016040, 1016200)) måste|måste, 2442205060011518321 ((1016260, 1016360)) nog|nog, 2442205060011518321 ((1016420, 1016540)) ändå|ändå, 2442205060011518321 ((1016640, 1016880)) förstå|förstå, 2442205060011518321 ((1017020, 1017120)) att|att, 2442205060011518321 ((1017160, 1018100)) familjebildning|<eps>, 2442205060011518321 ((1018740, 1018820)) nu|familjebildningen, 2442205060011518321 ((1019420, 1019540)) ser|ser, 2442205060011518321 ((1019620, 1020019)) annorlunda|annorlunda, 2442205060011518321 ((1020120, 1020340)) ut|ut, 2442205060011518321 ((1020340, 1020340)) <eps>|nu, 2442205060011518321 ((1020440, 1020499)) än|än, 2442205060011518321 ((1020560, 1020620)) vad|vad, 2442205060011518321 ((1020680, 1020780)) den|den, 2442205060011518321 ((1021220, 1021499)) gjorde|gjorde, 2442205060011518321 ((1021780, 1021860)) på|på, 2442205060011518321 ((1022260, 1022940)) femtiotalet|50-talet., 2442205060011518321 ((1023340, 1023999)) skilsmässor|Det, 2442205060011518321 ((1024040, 1024079)) är|är, 2442205060011518321 ((1024117, 1024317)) mycket|mycket, 2442205060011518321 ((1024319, 1024319)) <eps>|vanligare, 2442205060011518321 ((1024319, 1024319)) <eps>|med, 2442205060011518321 ((1024319, 1024319)) <eps>|skilsmässor, 2442205060011518321 ((1024358, 1024458)) mer|nu., 2442205060011518321 ((1024540, 1024920)) vanligt|Det, 2442205060011518321 ((1025280, 1025440)) att|är,, 2442205060011518321 ((1025480, 1025559)) som|som, 2442205060011518321 ((1025559, 1025559)) <eps>|sagt,, 2442205060011518321 ((1025559, 1025559)) <eps>|mycket, 2442205060011518321 ((1025559, 1025559)) <eps>|vanligare, 2442205060011518321 ((1025640, 1025799)) sagt|nu, 2442205060011518321 ((1025819, 1025919)) att|att, 2442205060011518321 ((1025940, 1026660)) homosexuella|homosexuella, 2442205060011518321 ((1026740, 1026900)) också|<eps>, 2442205060011518321 ((1026960, 1027039)) har|har, 2442205060011518321 ((1027098, 1027338)) barn|barn, 2442205060011518321 ((1027400, 1027459)) är|<eps>, 2442205060011518321 ((1027520, 1027559)) ju|<eps>, 2442205060011518321 ((1027680, 1027959)) mycket|<eps>, 2442205060011518321 ((1028020, 1028200)) mycket|<eps>, 2442205060011518321 ((1028220, 1028319)) mer|<eps>, 2442205060011518321 ((1028380, 1028659)) vanligt|<eps>, 2442205060011518321 ((1028700, 1028739)) än|<eps>, 2442205060011518321 ((1029140, 1029179)) än|än, 2442205060011518321 ((1029280, 1029359)) vad|vad, 2442205060011518321 ((1029400, 1029459)) det|det, 2442205060011518321 ((1029500, 1029559)) var|var, 2442205060011518321 ((1030040, 1030079)) på|på, 2442205060011518321 ((1030140, 1030239)) den|den, 2442205060011518321 ((1030319, 1030578)) tiden|<eps>, 2442205060011518321 ((1031117, 1031197)) och|tiden., 2442205060011518321 ((1031240, 1031279)) Då|Då, 2442205060011518321 ((1031358, 1031518)) måste|måste, 2442205060011518321 ((1031579, 1031639)) man|man, 2442205060011518321 ((1031660, 1031699)) ju|<eps>, 2442205060011518321 ((1031760, 1031900)) också|<eps>, 2442205060011518321 ((1031960, 1032059)) vara|vara, 2442205060011518321 ((1032117, 1032357)) beredd|beredd, 2442205060011518321 ((1032400, 1032519)) att|att, 2442205060011518321 ((1032560, 1033300)) modernisera|modernisera, 2442205060011518321 ((1033380, 1034019)) lagstiftningen|lagstiftningen, 2442205060011518321 ((1034040, 1034099)) så|så, 2442205060011518321 ((1034140, 1034219)) att|att, 2442205060011518321 ((1034260, 1034319)) den|den, 2442205060011518321 ((1034400, 1034979)) fungerar|fungerar, 2442205060011518321 ((1035300, 1035400)) för|för, 2442205060011518321 ((1035598, 1035958)) alla|alla, 2442205060011518321 ((1036380, 1036859)) föräldrar|föräldrar, 2442205060011518321 ((1036900, 1036959)) och|och, 2442205060011518321 ((1036980, 1037059)) för|för, 2442205060011518321 ((1037180, 1037400)) alla|alla, 2442205060011518321 ((1037500, 1038319)) familjebildningar,|familjebildningar,, 2442205060011518321 ((1038560, 1038859)) också|också, 2442205060011518321 ((1038960, 1038979)) i|i, 2442205060011518321 ((1039079, 1039139)) en|en, 2442205060011518321 ((1039220, 1039619)) modern|modern, 2442205060011518321 ((1040240, 1040519)) värld.|värld., 2442205060011518321 ((1040680, 1040739)) Det|Det, 2442205060011518321 ((1040800, 1041000)) handlar|handlar, 2442205060011518321 ((1041040, 1041160)) inte|inte, 2442205060011518321 ((1041180, 1041239)) om|om, 2442205060011518321 ((1041280, 1041380)) att|att, 2442205060011518321 ((1041400, 1041679)) ställa|ställa, 2442205060011518321 ((1041780, 1042119)) olika|olika, 2442205060011518321 ((1042220, 1042940)) familjebildningar|familjebildningar, 2442205060011518321 ((1043000, 1043220)) mot|mot, 2442205060011518321 ((1043280, 1043599)) varandra,|varandra,, 2442205060011518321 ((1043960, 1044099)) utan|utan, 2442205060011518321 ((1044160, 1044219)) det|det, 2442205060011518321 ((1044260, 1044480)) handlar|handlar, 2442205060011518321 ((1044560, 1044619)) om|om, 2442205060011518321 ((1044700, 1044799)) att|att, 2442205060011518321 ((1044858, 1044898)) ha|ha, 2442205060011518321 ((1044980, 1045039)) en|en, 2442205060011518321 ((1045079, 1045579)) lagstiftning|lagstiftning, 2442205060011518321 ((1045640, 1045719)) som|som, 2442205060011518321 ((1045800, 1046180)) fungerar|fungerar, 2442205060011518321 ((1046240, 1046339)) för|för, 2442205060011518321 ((1046440, 1046640)) alla|alla, 2442205060011518321 ((1047339, 1047939)) situationer|<eps>, 2442205060011518321 ((1048300, 1048380)) och|situationer., 2442205060011518321 ((1048420, 1048479)) Det|Det, 2442205060011518321 ((1048520, 1048559)) är|är, 2442205060011518321 ((1048600, 1048680)) väl|väl, 2442205060011518321 ((1048780, 1048960)) det|detta, 2442205060011518321 ((1049640, 1049799)) som|som, 2442205060011518321 ((1049980, 1050799)) sveriedemokraterna|Sverigedemokraterna, 2442205060011518321 ((1050940, 1050959)) i|i, 2442205060011518321 ((1051060, 1051500)) grunden|grunden, 2442205060011518321 ((1051580, 1051680)) har|har, 2442205060011518321 ((1051760, 1051819)) så|<eps>, 2442205060011518321 ((1051920, 1052219)) svårt|svårt, 2442205060011518321 ((1052260, 1052359)) att|att, 2442205060011518321 ((1052440, 1053199)) acceptera|<eps>, 2442205060011518321 ((1053820, 1053920)) att|acceptera., 2442205060011518321 ((1053980, 1054019)) Ni|Ni, 2442205060011518321 ((1054120, 1054420)) drömmer|drömmer, 2442205060011518321 ((1054480, 1054539)) er|er, 2442205060011518321 ((1054600, 1055160)) tillbaka|tillbaka, 2442205060011518321 ((1055700, 1055859)) till|till, 2442205060011518321 ((1055920, 1055979)) en|en, 2442205060011518321 ((1056700, 1056999)) tid|tid, 2442205060011518321 ((1057100, 1057140)) då|då, 2442205060011518321 ((1057320, 1057839)) allting|allting, 2442205060011518321 ((1057940, 1058199)) byggde|byggde, 2442205060011518321 ((1058280, 1058339)) på|på, 2442205060011518321 ((1058460, 1059359)) kärnfamiljen|<eps>, 2442205060011518321 ((1059900, 1060039)) men|<eps>, 2442205060011518321 ((1060200, 1060279)) oh|kärnfamiljen., 2442205060011518321 ((1060300, 1060339)) Ni|Ni, 2442205060011518321 ((1060400, 1060459)) har|har, 2442205060011518321 ((1060540, 1060799)) svårt|svårt, 2442205060011518321 ((1060840, 1060940)) att|att, 2442205060011518321 ((1060980, 1061400)) acceptera|acceptera, 2442205060011518321 ((1061440, 1061539)) att|att, 2442205060011518321 ((1061580, 1062080)) verkligheten|verkligheten, 2442205060011518321 ((1062140, 1062279)) inte|inte, 2442205060011518321 ((1062279, 1062279)) <eps>|längre, 2442205060011518321 ((1062360, 1062460)) ser|ser, 2442205060011518321 ((1062540, 1062740)) ut|ut, 2442205060011518321 ((1062960, 1063200)) riktigt|riktigt, 2442205060011518321 ((1063260, 1063299)) på|på, 2442205060011518321 ((1063340, 1063440)) det|det, 2442205060011518321 ((1063520, 1063819)) sättet|<eps>, 2442205060011518321 ((1064540, 1064839)) längre|sättet., 2442205060011518321 ((1065240, 1065420)) Den|Den, 2442205060011518321 ((1065800, 1066400)) homofobi|homofobi, 2442205060011518321 ((1067020, 1067119)) som|som, 2442205060011518321 ((1067240, 1067720)) präglade|präglade, 2442205060011518321 ((1067780, 1067859)) det|det, 2442205060011518321 ((1067940, 1068279)) gamla|gamla, 2442205060011518321 ((1068400, 1068839)) samhället|samhället, 2442205060011518321 ((1068980, 1069079)) har|har, 2442205060011518321 ((1069140, 1069179)) vi|vi, 2442205060011518321 ((1069320, 1069380)) nu|nu, 2442205060011518321 ((1069500, 1069680)) gjort|gjort, 2442205060011518321 ((1069760, 1069960)) upp|upp, 2442205060011518321 ((1070040, 1070160)) med|med, 2442205060011518321 ((1070480, 1070599)) en|en, 2442205060011518321 ((1070680, 1070839)) gång|gång, 2442205060011518321 ((1070920, 1071019)) för|för, 2442205060011518321 ((1071100, 1071300)) alla|<eps>, 2442205060011518321 ((1072160, 1072279)) och|alla., 2442205060011518321 ((1072880, 1073019)) Den|Den, 2442205060011518321 ((1073160, 1073519)) norm|norm, 2442205060011518321 ((1073800, 1073880)) som|som, 2442205060011518321 ((1073980, 1074200)) byggde|byggde, 2442205060011518321 ((1074300, 1074819)) påpå|på, 2442205060011518321 ((1074940, 1075559)) kärnfamiljen|kärnfamiljen, 2442205060011518321 ((1075600, 1075680)) har|har, 2442205060011518321 ((1075740, 1075940)) också|också, 2442205060011518321 ((1076040, 1076640)) förändrats|<eps>, 2442205060011518321 ((1077260, 1077400)) många|<eps>, 2442205060011518321 ((1077460, 1077660)) gånger|<eps>, 2442205060011518321 ((1077700, 1077759)) så|<eps>, 2442205060011518321 ((1077820, 1078240)) låstes|<eps>, 2442205060011518321 ((1078300, 1078359)) ju|förändrats., 2442205060011518321 ((1078660, 1078859)) Många|Många, 2442205060011518321 ((1079020, 1079299)) människor,|människor,, 2442205060011518321 ((1079340, 1079460)) inte|inte, 2442205060011518321 ((1079500, 1079660)) minst|minst, 2442205060011518321 ((1079660, 1079660)) <eps>|kvinnor,, 2442205060011518321 ((1079760, 1080180)) kvinnor|låstes, 2442205060011518321 ((1080240, 1080339)) in|in, 2442205060011518321 ((1080740, 1080779)) i|i, 2442205060011518321 ((1080900, 1081539)) destruktiva|destruktiva, 2442205060011518321 ((1081539, 1081539)) <eps>|äktenskap., 2442205060011518321 ((1081620, 1082120)) äktenskap|På, 2442205060011518321 ((1082160, 1082219)) för|den, 2442205060011518321 ((1082260, 1082299)) de|tiden, 2442205060011518321 ((1082400, 1082559)) hade|hade, 2442205060011518321 ((1082559, 1082559)) <eps>|de, 2442205060011518321 ((1082640, 1082819)) inget|inget, 2442205060011518321 ((1082860, 1083060)) annat|annat, 2442205060011518321 ((1083100, 1083359)) val,|val,, 2442205060011518321 ((1083500, 1083660)) helt|helt, 2442205060011518321 ((1083720, 1083979)) enkelt|<eps>, 2442205060011518321 ((1084040, 1084079)) på|<eps>, 2442205060011518321 ((1084140, 1084239)) den|<eps>, 2442205060011518321 ((1084580, 1084619)) på|<eps>, 2442205060011518321 ((1084680, 1084759)) den|<eps>, 2442205060011518321 ((1084860, 1085080)) tiden|enkelt., 2442205060011518321 ((1085160, 1085219)) det|Detta, 2442205060011518321 ((1085280, 1085339)) har|har, 2442205060011518321 ((1085380, 1085419)) vi|vi, 2442205060011518321 ((1085520, 1085779)) också|också, 2442205060011518321 ((1086380, 1086880)) successivt|successivt, 2442205060011518321 ((1086940, 1087160)) kunnat|kunnat, 2442205060011518321 ((1087220, 1087579)) bryta|<eps>, 2442205060011518321 ((1088020, 1088160)) med|bryta,, 2442205060011518321 ((1088620, 1088680)) med|med, 2442205060011518321 ((1088740, 1089359)) utgångspunkten|utgångspunkten, 2442205060011518321 ((1089420, 1089539)) att|att, 2442205060011518321 ((1090020, 1090119)) ren|<eps>, 2442205060011518321 ((1090180, 1090640)) relation|<eps>, 2442205060011518321 ((1090680, 1090739)) det|<eps>, 2442205060011518321 ((1090760, 1090819)) är|<eps>, 2442205060011518321 ((1090860, 1091000)) något|<eps>, 2442205060011518321 ((1091040, 1091099)) som|<eps>, 2442205060011518321 ((1091160, 1091219)) man|man, 2442205060011518321 ((1091280, 1091359)) ska|ska, 2442205060011518321 ((1091440, 1091539)) vara|stanna, 2442205060011518321 ((1091600, 1091880)) kvar|kvar, 2442205060011518321 ((1091940, 1091959)) i|i, 2442205060011518321 ((1091959, 1091959)) <eps>|en, 2442205060011518321 ((1091959, 1091959)) <eps>|relation, 2442205060011518321 ((1092380, 1092459)) av|av, 2442205060011518321 ((1092560, 1092680)) fri|fri, 2442205060011518321 ((1092860, 1093200)) vilja|vilja, 2442205060011518321 ((1093540, 1093619)) och|och, 2442205060011518321 ((1093720, 1093979)) inte|inte, 2442205060011518321 ((1094200, 1094299)) av|av, 2442205060011518321 ((1094400, 1094719)) tvång|<eps>, 2442205060011518321 ((1095160, 1095239)) och|tvång., 2442205060011518321 ((1095280, 1095319)) om|När, 2442205060011518321 ((1095360, 1095420)) det|det, 2442205060011518321 ((1095480, 1095519)) då|<eps>, 2442205060011518321 ((1095620, 1095840)) blir|gäller, 2442205060011518321 ((1095940, 1096599)) skilsmässor|skilsmässor, 2442205060011518321 ((1097040, 1097099)) ja|<eps>, 2442205060011518321 ((1097160, 1097199)) då|<eps>, 2442205060011518321 ((1097280, 1097460)) måste|måste, 2442205060011518321 ((1097520, 1097579)) man|man, 2442205060011518321 ((1097660, 1097699)) se|se, 2442205060011518321 ((1097760, 1097880)) till|till, 2442205060011518321 ((1097900, 1097979)) att|att, 2442205060011518321 ((1098000, 1098059)) ha|ha, 2442205060011518321 ((1098080, 1098119)) en|en, 2442205060011518321 ((1098160, 1098819)) lagstiftning|lagstiftning, 2442205060011518321 ((1099320, 1099420)) som|som, 2442205060011518321 ((1099520, 1099640)) tar|tar, 2442205060011518321 ((1099740, 1099940)) höjd|höjd, 2442205060011518321 ((1099980, 1100059)) för|för, 2442205060011518321 ((1100180, 1100380)) alla|alla, 2442205060011518321 ((1100460, 1100499)) de|<eps>, 2442205060011518321 ((1100600, 1100700)) här|dessa, 2442205060011518321 ((1100780, 1101400)) situationerna|situationer, 2442205060011518321 ((1101760, 1101859)) och|och, 2442205060011518321 ((1101940, 1102019)) som|som, 2442205060011518321 ((1102140, 1102259)) har|har, 2442205060011518321 ((1102380, 1102880)) barnets|barnets, 2442205060011518321 ((1102960, 1103319)) bästa|bästa, 2442205060011518321 ((1103660, 1103739)) för|för, 2442205060011518321 ((1103820, 1104160)) ögonen|<eps>, 2442205060011518321 ((1104500, 1104579)) och|ögonen., 2442205060011518321 ((1104640, 1104719)) Man|Man, 2442205060011518321 ((1104780, 1104859)) kan|kan, 2442205060011518321 ((1104940, 1105059)) inte|inte, 2442205060011518321 ((1105120, 1105160)) gå|gå, 2442205060011518321 ((1105220, 1105440)) omkring|omkring, 2442205060011518321 ((1105460, 1105539)) och|och, 2442205060011518321 ((1105600, 1105720)) tro|tro, 2442205060011518321 ((1106220, 1106319)) att|att, 2442205060011518321 ((1106340, 1106420)) man|man, 2442205060011518321 ((1106460, 1106519)) kan|kan, 2442205060011518321 ((1106580, 1106820)) drömma|<eps>, 2442205060011518321 ((1106880, 1106959)) sig|<eps>, 2442205060011518321 ((1107020, 1107539)) tillbaka|<eps>, 2442205060011518321 ((1107900, 1108039)) till|<eps>, 2442205060011518321 ((1108080, 1108140)) en|<eps>, 2442205060011518321 ((1108220, 1108420)) tid|<eps>, 2442205060011518321 ((1108460, 1108619)) eller|<eps>, 2442205060011518321 ((1108680, 1108880)) rulla|rulla, 2442205060011518321 ((1108980, 1109539)) tillbaka|tillbaka, 2442205060011518321 ((1109680, 1109739)) en|utvecklingen, 2442205060011518321 ((1109820, 1110339)) utveckling|så, 2442205060011518321 ((1110620, 1110700)) där|att, 2442205060011518321 ((1110760, 1110839)) man|man, 2442205060011518321 ((1110920, 1111439)) återigen|återigen, 2442205060011518321 ((1111580, 1111680)) ska|kan, 2442205060011518321 ((1111820, 1112359)) förhindra|förhindra, 2442205060011518321 ((1112460, 1112579)) till|till, 2442205060011518321 ((1112620, 1112980)) exempel|exempel, 2442205060011518321 ((1113040, 1113680)) skilsmässor|skilsmässor, 2442205060011518321 ((1113980, 1114140)) eller|eller, 2442205060011518321 ((1114180, 1114259)) ska|<eps>, 2442205060011518321 ((1114380, 1114959)) förhindra|<eps>, 2442205060011518321 ((1115060, 1115200)) till|<eps>, 2442205060011518321 ((1115240, 1115619)) exempel|<eps>, 2442205060011518321 ((1116060, 1116180)) att|att, 2442205060011518321 ((1116220, 1116380)) också|<eps>, 2442205060011518321 ((1116440, 1117140)) homosexuella|homosexuella, 2442205060011518321 ((1117700, 1117759)) ha|<eps>, 2442205060011518321 ((1117880, 1118139)) barn|har, 2442205060011518321 ((1118460, 1118579)) till|barn., 2442205060011518321 ((1118600, 1118680)) Den|Den, 2442205060011518321 ((1118800, 1119140)) gamla|gamla, 2442205060011518321 ((1119260, 1119880)) konservativa|konservativa, 2442205060011518321 ((1119980, 1120239)) synen|synen, 2442205060011518321 ((1120280, 1120359)) för|<eps>, 2442205060011518321 ((1120420, 1120519)) den|<eps>, 2442205060011518321 ((1120600, 1120680)) har|har, 2442205060011518321 ((1120740, 1120779)) vi|vi, 2442205060011518321 ((1120880, 1121199)) brutit|brutit, 2442205060011518321 ((1121260, 1121359)) med|med, 2442205060011518321 ((1121620, 1121700)) för|för, 2442205060011518321 ((1121800, 1122000)) länge|<eps>, 2442205060011518321 ((1122060, 1122240)) länge|länge, 2442205060011518321 ((1122320, 1122500)) sedan|<eps>, 2442205060011518321 ((1122960, 1123140)) nej|sedan.]\n",
      "[2442205060011518321 ((1123360, 1123440)) så|Nej,, 2442205060011518321 ((1123660, 1125719)) familjeföräldralagstiftningen|föräldralagstiftningen, 2442205060011518321 ((1125740, 1125799)) och|och, 2442205060011518321 ((1125840, 1126660)) familjepolitiken|familjepolitiken, 2442205060011518321 ((1126960, 1127079)) den|<eps>, 2442205060011518321 ((1127160, 1127579)) behöver|behöver, 2442205060011518321 ((1127700, 1127959)) också|<eps>, 2442205060011518321 ((1128060, 1128760)) moderniseras|moderniseras, 2442205060011518321 ((1129020, 1129099)) för|för, 2442205060011518321 ((1129120, 1129240)) att|att, 2442205060011518321 ((1129239, 1129239)) <eps>|man, 2442205060011518321 ((1129239, 1129239)) <eps>|ska, 2442205060011518321 ((1129260, 1129420)) hänga|hänga, 2442205060011518321 ((1129500, 1129660)) med|med, 2442205060011518321 ((1132540, 1132780)) eskul|<eps>, 2442205060011518321 ((1132840, 1133160)) andersson|<eps>, 2442205060011518321 ((1133240, 1134039)) svarjedemokraternas|<eps>, 2442205060011518321 ((1134080, 1134820)) slutanförande|<eps>, 2442205060011518321 ((1134900, 1135239)) varsågod|<eps>, 2442205060011518321 ((1136540, 1136780)) tack|<eps>, 2442205060011518321 ((1136860, 1136980)) Fru|Fru, 2442205060011518321 ((1137140, 1137619)) talmannen|talman!, 2442205060011518321 ((1137720, 1137799)) För|För, 2442205060011518321 ((1137860, 1138020)) mig|mig, 2442205060011518321 ((1138120, 1138200)) är|är, 2442205060011518321 ((1138240, 1138319)) det|det, 2442205060011518321 ((1138380, 1138499)) inte|inte, 2442205060011518321 ((1138600, 1139420)) konservativt|konservativt, 2442205060011518321 ((1139480, 1139599)) att|att, 2442205060011518321 ((1139640, 1139739)) stå|stå, 2442205060011518321 ((1139820, 1139940)) upp|upp, 2442205060011518321 ((1139980, 1140059)) för|för, 2442205060011518321 ((1140120, 1140420)) barns|barns, 2442205060011518321 ((1140500, 1140700)) rätt|rätt, 2442205060011518321 ((1140740, 1140880)) till|till, 2442205060011518321 ((1140920, 1141140)) båda|båda, 2442205060011518321 ((1141240, 1141400)) sina|sina, 2442205060011518321 ((1141500, 1142019)) föräldrar|<eps>, 2442205060011518321 ((1143000, 1143099)) och|föräldrar., 2442205060011518321 ((1143140, 1143239)) Jag|Jag, 2442205060011518321 ((1143300, 1143400)) kan|kan, 2442205060011518321 ((1143440, 1143479)) ju|<eps>, 2442205060011518321 ((1143560, 1143680)) bara|bara, 2442205060011518321 ((1143740, 1144099)) vädja|vädja, 2442205060011518321 ((1144160, 1144299)) till|till, 2442205060011518321 ((1144340, 1144800)) regeringen|regeringen, 2442205060011518321 ((1144860, 1144960)) att|att, 2442205060011518321 ((1145020, 1145079)) man|man, 2442205060011518321 ((1145160, 1145539)) faktiskt|faktiskt, 2442205060011518321 ((1145539, 1145539)) <eps>|ska, 2442205060011518321 ((1145620, 1145880)) tänker|tänka, 2442205060011518321 ((1145980, 1146119)) om|om, 2442205060011518321 ((1146360, 1146460)) och|och, 2442205060011518321 ((1146560, 1146839)) lyfter|lyfta, 2442205060011518321 ((1146920, 1146999)) in|in, 2442205060011518321 ((1147100, 1147380)) barns|barns, 2442205060011518321 ((1147440, 1147619)) rätt|rätt, 2442205060011518321 ((1147660, 1147779)) till|till, 2442205060011518321 ((1147820, 1147960)) sina|sina, 2442205060011518321 ((1148040, 1148359)) riktiga|riktiga, 2442205060011518321 ((1148440, 1148819)) föräldrar|föräldrar, 2442205060011518321 ((1148880, 1148899)) i|i, 2442205060011518321 ((1148980, 1149599)) utredningen|<eps>, 2442205060011518321 ((1150660, 1150819)) alltså|utredningen., 2442205060011518321 ((1150920, 1151599)) Utredningen|Utredningen, 2442205060011518321 ((1151840, 1151940)) av|om, 2442205060011518321 ((1152180, 1152739)) sociala|sociala, 2442205060011518321 ((1152840, 1153220)) föräldrar|föräldrar, 2442205060011518321 ((1153240, 1153299)) är|är, 2442205060011518321 ((1153299, 1153299)) <eps>|bara, 2442205060011518321 ((1153380, 1153599)) barett|ett, 2442205060011518321 ((1153640, 1153839)) sätt|sätt, 2442205060011518321 ((1153900, 1154019)) att|att, 2442205060011518321 ((1154060, 1154359)) smyga|smyga, 2442205060011518321 ((1154420, 1154479)) in|in, 2442205060011518321 ((1154600, 1154880)) fler|fler, 2442205060011518321 ((1154960, 1155359)) föräldrar|föräldrar, 2442205060011518321 ((1155420, 1155479)) än|än, 2442205060011518321 ((1155540, 1155660)) två|två, 2442205060011518321 ((1155860, 1155880)) i|i, 2442205060011518321 ((1155940, 1156239)) svensk|svensk, 2442205060011518321 ((1156320, 1157079)) lagstiftning|<eps>, 2442205060011518321 ((1157800, 1157880)) det|lagstiftning., 2442205060011518321 ((1157920, 1157939)) ä|Det, 2442205060011518321 ((1157960, 1157979)) r|är, 2442205060011518321 ((1158040, 1158059)) i|i, 2442205060011518321 ((1158320, 1158599)) högsta|högsta, 2442205060011518321 ((1158660, 1158819)) grad|grad, 2442205060011518321 ((1158920, 1159459)) allvarligt|allvarligt, 2442205060011518321 ((1159500, 1159559)) och|och, 2442205060011518321 ((1159600, 1159680)) kan|kan, 2442205060011518321 ((1159740, 1159779)) få|få, 2442205060011518321 ((1159860, 1160160)) stora|stora, 2442205060011518321 ((1160260, 1160640)) negativa|negativa, 2442205060011518321 ((1160720, 1161440)) konsekvenser|konsekvenser, 2442205060011518321 ((1161580, 1161660)) för|<eps>, 2442205060011518321 ((1161740, 1161960)) framför|framför, 2442205060011518321 ((1161980, 1162140)) allt|allt, 2442205060011518321 ((1162140, 1162140)) <eps>|för, 2442205060011518321 ((1162200, 1162599)) barnen|barnen, 2442205060011518321 ((1162660, 1162719)) om|om, 2442205060011518321 ((1162760, 1162819)) det|det, 2442205060011518321 ((1162880, 1163439)) genomförs.|genomförs., 2442205060011518321 ((1164840, 1164960)) den|Det, 2442205060011518321 ((1165060, 1165760)) regeringen|regeringen, 2442205060011518321 ((1165960, 1166239)) kallar|kallar, 2442205060011518321 ((1166280, 1166339)) för|för, 2442205060011518321 ((1166380, 1166479)) att|att, 2442205060011518321 ((1166500, 1166680)) ligga|ligga, 2442205060011518321 ((1166760, 1167039)) längst|längst, 2442205060011518321 ((1167100, 1167260)) fram|fram, 2442205060011518321 ((1167340, 1167420)) och|och, 2442205060011518321 ((1167460, 1167680)) leda|leda, 2442205060011518321 ((1167760, 1168380)) utvecklingen|utvecklingen, 2442205060011518321 ((1168440, 1168499)) av|av, 2442205060011518321 ((1168560, 1169640)) familjepolitiken|familjepolitiken, 2442205060011518321 ((1169639, 1169639)) <eps>|är, 2442205060011518321 ((1169720, 1169759)) i|i, 2442205060011518321 ((1169820, 1170040)) själva|själva, 2442205060011518321 ((1170120, 1170560)) verket|verket, 2442205060011518321 ((1170760, 1170880)) ett|ett, 2442205060011518321 ((1170960, 1171499)) oprövat|oprövat, 2442205060011518321 ((1171540, 1171980)) försök,|försök,, 2442205060011518321 ((1172100, 1172200)) där|där, 2442205060011518321 ((1172280, 1172700)) barnen|barnen, 2442205060011518321 ((1173060, 1173180)) får|får, 2442205060011518321 ((1173280, 1173619)) agera|agera, 2442205060011518321 ((1173720, 1174640)) försökskaniner|försökskaniner, 2442205060011518321 ((1174840, 1174859)) i|i, 2442205060011518321 ((1174960, 1176219)) scialdemokraternas|Socialdemokraternas, 2442205060011518321 ((1176280, 1177020)) fantasivärld.|fantasivärld., 2442205060011518321 ((1178020, 1178160)) Vad|Vad, 2442205060011518321 ((1178240, 1178319)) som|som, 2442205060011518321 ((1178480, 1179200)) antagligen|antagligen, 2442205060011518321 ((1179280, 1179619)) händer|händer, 2442205060011518321 ((1179680, 1179739)) om|om, 2442205060011518321 ((1179820, 1179900)) den|den, 2442205060011518321 ((1179980, 1180819)) socialistiska|socialistiska, 2442205060011518321 ((1180900, 1181259)) drömmen|drömmen, 2442205060011518321 ((1181340, 1181400)) om|om, 2442205060011518321 ((1181800, 1182079)) många|många, 2442205060011518321 ((1182180, 1182559)) föräldrar|föräldrar, 2442205060011518321 ((1182620, 1182740)) blir|blir, 2442205060011518321 ((1182800, 1183339)) verklighet|verklighet, 2442205060011518321 ((1183980, 1183999)) i|är, 2442205060011518321 ((1184160, 1184279)) att|att, 2442205060011518321 ((1184400, 1185099)) ansvaret|ansvaret, 2442205060011518321 ((1185340, 1185420)) för|för, 2442205060011518321 ((1185480, 1185799)) barnet|barnen, 2442205060011518321 ((1185880, 1186199)) suddas|suddas, 2442205060011518321 ((1186300, 1186540)) ut.|ut., 2442205060011518321 ((1187380, 1187719)) Dubbelt|Dubbelt, 2442205060011518321 ((1187760, 1187799)) så|så, 2442205060011518321 ((1187880, 1188039)) många|många, 2442205060011518321 ((1188120, 1188540)) föräldrar|föräldrar, 2442205060011518321 ((1188620, 1188840)) blir|blir, 2442205060011518321 ((1188940, 1189099)) inte|inte, 2442205060011518321 ((1189240, 1189599)) dubbelt|dubbelt, 2442205060011518321 ((1189660, 1189719)) så|så, 2442205060011518321 ((1189820, 1190119)) stort|stort, 2442205060011518321 ((1190220, 1190680)) ansvar|<eps>, 2442205060011518321 ((1190940, 1191140)) utan|ansvar,, 2442205060011518321 ((1191240, 1191759)) tvärtom|tvärtom, 2442205060011518321 ((1191759, 1191759)) <eps>|-, 2442205060011518321 ((1192200, 1192459)) ingen|ingen, 2442205060011518321 ((1192560, 1192660)) tar|tar, 2442205060011518321 ((1192659, 1192659)) <eps>|ansvar., 2442205060011518321 ((1192720, 1193099)) ansvar|Detta, 2442205060011518321 ((1193400, 1193640)) vilket|leder, 2442205060011518321 ((1193700, 1193719)) i|i, 2442205060011518321 ((1193800, 1193940)) sin|sin, 2442205060011518321 ((1194040, 1194240)) tur|tur, 2442205060011518321 ((1194620, 1194840)) leder|<eps>, 2442205060011518321 ((1194880, 1194999)) till|till, 2442205060011518321 ((1195040, 1195140)) att|att, 2442205060011518321 ((1195180, 1195439)) barnen|barnen, 2442205060011518321 ((1195500, 1195599)) får|far, 2442205060011518321 ((1195680, 1195880)) illa.|illa., 2442205060011518321 ((1196980, 1197039)) En|En, 2442205060011518321 ((1197140, 1197419)) stor|stor, 2442205060011518321 ((1197480, 1197599)) del|del, 2442205060011518321 ((1197660, 1197719)) av|av, 2442205060011518321 ((1197800, 1198960)) kommittedirektivet|kommittédirektivet, 2442205060011518321 ((1199060, 1199480)) ägnas|ägnas, 2442205060011518321 ((1199560, 1199680)) åt|åt, 2442205060011518321 ((1199740, 1199940)) just|just, 2442205060011518321 ((1200000, 1200640)) möjligheten|möjligheten, 2442205060011518321 ((1201160, 1201279)) att|att, 2442205060011518321 ((1201340, 1201400)) ha|ha, 2442205060011518321 ((1201580, 1201960)) flera|flera, 2442205060011518321 ((1202080, 1202160)) så|så, 2442205060011518321 ((1202280, 1202720)) kallade|kallade, 2442205060011518321 ((1202840, 1203380)) sociala|sociala, 2442205060011518321 ((1203480, 1203999)) föräldrar,|föräldrar,, 2442205060011518321 ((1204240, 1204319)) och|och, 2442205060011518321 ((1204360, 1204440)) det|det, 2442205060011518321 ((1204480, 1204619)) står|står, 2442205060011518321 ((1204700, 1205160)) tydligt|tydligt, 2442205060011518321 ((1205260, 1205359)) att|att, 2442205060011518321 ((1205400, 1205439)) de|det, 2442205060011518321 ((1205580, 1205900)) även|även, 2442205060011518321 ((1205980, 1206079)) kan|kan, 2442205060011518321 ((1206160, 1206439)) handla|handla, 2442205060011518321 ((1206520, 1206559)) om|om, 2442205060011518321 ((1206620, 1206720)) att|att, 2442205060011518321 ((1206760, 1206940)) föra|föra, 2442205060011518321 ((1207040, 1207240)) över|över, 2442205060011518321 ((1207280, 1207319)) en|en, 2442205060011518321 ((1207380, 1207579)) del|del, 2442205060011518321 ((1207620, 1207680)) av|av, 2442205060011518321 ((1207740, 1207819)) det|det, 2442205060011518321 ((1207880, 1208439)) juridiska|juridiska, 2442205060011518321 ((1208520, 1209039)) ansvaret|ansvaret, 2442205060011518321 ((1209100, 1209180)) för|för, 2442205060011518321 ((1209260, 1209660)) barnet.|barnet., 2442205060011518321 ((1210580, 1210740)) Jag|Jag, 2442205060011518321 ((1210880, 1211199)) tror|tror, 2442205060011518321 ((1211300, 1211420)) att|att, 2442205060011518321 ((1211500, 1211599)) bra|bra, 2442205060011518321 ((1211800, 1212220)) föräldrar|föräldrar, 2442205060011518321 ((1212360, 1212400)) är|är, 2442205060011518321 ((1212500, 1212960)) kapabla|kapabla, 2442205060011518321 ((1213020, 1213119)) att|att, 2442205060011518321 ((1213180, 1213599)) avgöra|avgöra, 2442205060011518321 ((1214040, 1214400)) vilka|vilka, 2442205060011518321 ((1214500, 1215339)) vuxenkontakter|vuxenkontakter, 2442205060011518321 ((1215380, 1215459)) som|som, 2442205060011518321 ((1215520, 1215760)) deras|deras, 2442205060011518321 ((1215860, 1216080)) barn|barn, 2442205060011518321 ((1216180, 1216279)) mår|mår, 2442205060011518321 ((1216340, 1216460)) bra|bra, 2442205060011518321 ((1216620, 1216720)) av|av, 2442205060011518321 ((1217160, 1217239)) och|och, 2442205060011518321 ((1217280, 1217520)) vilka|vilka, 2442205060011518321 ((1217620, 1217660)) de|de, 2442205060011518321 ((1217920, 1218179)) inte|inte, 2442205060011518321 ((1218280, 1218400)) mår|mår, 2442205060011518321 ((1218399, 1218399)) <eps>|bra, 2442205060011518321 ((1218440, 1218759)) brav|av., 2442205060011518321 ((1219780, 1219839)) Nu|Nu, 2442205060011518321 ((1219900, 1219979)) kan|kan, 2442205060011518321 ((1220020, 1220079)) jag|jag, 2442205060011518321 ((1220120, 1220220)) bara|bara, 2442205060011518321 ((1220280, 1220599)) hoppas|hoppas, 2442205060011518321 ((1220660, 1220779)) att|att, 2442205060011518321 ((1220840, 1221480)) utredningen|utredningen, 2442205060011518321 ((1221560, 1221740)) inte|inte, 2442205060011518321 ((1221880, 1222219)) faller|faller, 2442205060011518321 ((1222260, 1222359)) för|för, 2442205060011518321 ((1222420, 1223099)) regeringens|regeringens, 2442205060011518321 ((1223240, 1224359)) experimentslusta|experimentlusta, 2442205060011518321 ((1224480, 1224680)) utan|utan, 2442205060011518321 ((1224740, 1224920)) står|står, 2442205060011518321 ((1224980, 1225140)) upp|upp, 2442205060011518321 ((1225240, 1225319)) för|för, 2442205060011518321 ((1225420, 1225799)) barnen|barnen, 2442205060011518321 ((1226380, 1226439)) så|så, 2442205060011518321 ((1226500, 1226599)) att|att, 2442205060011518321 ((1226660, 1227239)) förslaget|förslaget, 2442205060011518321 ((1227300, 1227359)) om|om, 2442205060011518321 ((1227500, 1227960)) sociala|sociala, 2442205060011518321 ((1228060, 1228440)) föräldrar|föräldrar, 2442205060011518321 ((1228540, 1229140)) skrotas.|skrotas., 2442205060011518321 ((1229820, 1230060)) Barn|Barn, 2442205060011518321 ((1230120, 1230200)) har|har, 2442205060011518321 ((1230280, 1230520)) rätt|rätt, 2442205060011518321 ((1230560, 1230700)) till|till, 2442205060011518321 ((1230760, 1230920)) sina|sina, 2442205060011518321 ((1231040, 1231200)) två|två, 2442205060011518321 ((1231380, 1231779)) föräldrar,|föräldrar,, 2442205060011518321 ((1232020, 1232099)) men|men, 2442205060011518321 ((1232180, 1232559)) föräldrar|föräldrar, 2442205060011518321 ((1232640, 1232759)) har|har, 2442205060011518321 ((1232940, 1233319)) inte|inte, 2442205060011518321 ((1233640, 1233839)) rätt|rätt, 2442205060011518321 ((1233920, 1234039)) till|till, 2442205060011518321 ((1234080, 1234300)) barn.|barn., 2442205060011518321 ((1236340, 1236420)) för|När, 2442205060011518321 ((1236460, 1236579)) det|det, 2442205060011518321 ((1236700, 1236719)) r|<eps>, 2442205060011518321 ((1236800, 1237900)) justitiemigrationsminister|<eps>, 2442205060011518321 ((1237980, 1238200)) morgan|<eps>, 2442205060011518321 ((1238240, 1238640)) johanssons|<eps>, 2442205060011518321 ((1238680, 1239380)) slutanförande|<eps>, 2442205060011518321 ((1239460, 1239839)) varsågod|<eps>, 2442205060011518321 ((1241140, 1241459)) tack|<eps>, 2442205060011518321 ((1242340, 1242840)) förtalaan|<eps>, 2442205060011518321 ((1242960, 1242979)) o|<eps>, 2442205060011518321 ((1243080, 1243140)) men|gäller, 2442205060011518321 ((1243200, 1243259)) det|det, 2442205060011518321 ((1243340, 1243460)) här|här, 2442205060011518321 ((1243920, 1244920)) medfler|<eps>, 2442205060011518321 ((1245080, 1246080)) vårdnadshavare|med, 2442205060011518321 ((1246200, 1246319)) som|fler, 2442205060011518321 ((1246420, 1246459)) ja|vårdnadshavare,, 2442205060011518321 ((1246840, 1246920)) som|som, 2442205060011518321 ((1246980, 1247039)) jag|jag, 2442205060011518321 ((1247100, 1247300)) förstår|förstår, 2442205060011518321 ((1247380, 1247579)) mikel|att, 2442205060011518321 ((1247620, 1247820)) eskel|Mikael, 2442205060011518321 ((1247900, 1248179)) anderson|Eskilandersson, 2442205060011518321 ((1248220, 1248259)) är|är, 2442205060011518321 ((1248300, 1248500)) ute|ute, 2442205060011518321 ((1248780, 1249079)) efter|<eps>, 2442205060011518321 ((1249940, 1249999)) det|<eps>, 2442205060011518321 ((1250060, 1250119)) är|<eps>, 2442205060011518321 ((1250200, 1250259)) ju|<eps>, 2442205060011518321 ((1252220, 1252279)) för|<eps>, 2442205060011518321 ((1252300, 1252380)) det|<eps>, 2442205060011518321 ((1252400, 1252539)) första|efter,, 2442205060011518321 ((1252560, 1252619)) är|är, 2442205060011518321 ((1252640, 1252699)) det|det, 2442205060011518321 ((1252720, 1252759)) ju|<eps>, 2442205060011518321 ((1252780, 1252819)) en|en, 2442205060011518321 ((1252860, 1253000)) ren|ren, 2442205060011518321 ((1253100, 1253460)) lögn|lögn, 2442205060011518321 ((1253680, 1253799)) att|<eps>, 2442205060011518321 ((1254160, 1254219)) om|om, 2442205060011518321 ((1254280, 1254359)) man|man, 2442205060011518321 ((1254440, 1254759)) påstår|påstår, 2442205060011518321 ((1254800, 1254920)) att|att, 2442205060011518321 ((1254980, 1255380)) utredningen|utredningen, 2442205060011518321 ((1255400, 1255559)) skulle|skulle, 2442205060011518321 ((1255580, 1255640)) ha|ha, 2442205060011518321 ((1255680, 1255759)) ett|ett, 2442205060011518321 ((1255800, 1255980)) sådant|<eps>, 2442205060011518321 ((1256100, 1256560)) uppdrag|uppdrag, 2442205060011518321 ((1256560, 1256560)) <eps>|om, 2442205060011518321 ((1256620, 1256740)) att|att, 2442205060011518321 ((1256739, 1256739)) <eps>|man, 2442205060011518321 ((1256739, 1256739)) <eps>|får, 2442205060011518321 ((1256780, 1257079)) införa|ha, 2442205060011518321 ((1257160, 1257339)) fler|fler, 2442205060011518321 ((1257400, 1257959)) vårdnadshavare.|vårdnadshavare., 2442205060011518321 ((1257980, 1258039)) Det|Det, 2442205060011518321 ((1258080, 1258119)) är|är, 2442205060011518321 ((1258119, 1258119)) <eps>|faktiskt, 2442205060011518321 ((1258160, 1258419)) snarare|snarare, 2442205060011518321 ((1258500, 1258559)) så|så, 2442205060011518321 ((1258980, 1259319)) faktiskt|<eps>, 2442205060011518321 ((1259360, 1259460)) att|att, 2442205060011518321 ((1259860, 1260280)) direktiven|utredningen, 2442205060011518321 ((1260360, 1260619)) pekar|pekar, 2442205060011518321 ((1260680, 1260719)) på|på, 2442205060011518321 ((1260820, 1261320)) riskerna|riskerna, 2442205060011518321 ((1261780, 1261880)) med|<eps>, 2442205060011518321 ((1261960, 1262219)) just|just, 2442205060011518321 ((1262380, 1262439)) de|<eps>, 2442205060011518321 ((1262700, 1262779)) med|med, 2442205060011518321 ((1262840, 1263000)) fler|fler, 2442205060011518321 ((1263060, 1263619)) vårdnadshavare|<eps>, 2442205060011518321 ((1264600, 1265060)) däremot|<eps>, 2442205060011518321 ((1265120, 1265160)) så|vårdnadshavare., 2442205060011518321 ((1265360, 1265400)) så|Däremot, 2442205060011518321 ((1265600, 1265720)) tar|tar, 2442205060011518321 ((1266100, 1266600)) utredningen|utredningen, 2442205060011518321 ((1266680, 1266880)) höjd|höjd, 2442205060011518321 ((1266980, 1267180)) för|för, 2442205060011518321 ((1267500, 1267619)) att|att, 2442205060011518321 ((1267700, 1267779)) det|det, 2442205060011518321 ((1267860, 1267960)) kan|kan, 2442205060011518321 ((1268080, 1268359)) finnas|finnas, 2442205060011518321 ((1268420, 1268920)) situationer|situationer, 2442205060011518321 ((1269020, 1269039)) i|i, 2442205060011518321 ((1269160, 1269239)) den|den, 2442205060011518321 ((1270020, 1270039)) n|<eps>, 2442205060011518321 ((1270120, 1270460)) moderna|moderna, 2442205060011518321 ((1270540, 1270799)) världen|världen, 2442205060011518321 ((1271160, 1271239)) där|där, 2442205060011518321 ((1271420, 1271799)) andra|andra, 2442205060011518321 ((1271940, 1272359)) vuxna|vuxna, 2442205060011518321 ((1272720, 1272940)) också|<eps>, 2442205060011518321 ((1273000, 1273019)) i|i, 2442205060011518321 ((1273100, 1273380)) barnets|barnets, 2442205060011518321 ((1273460, 1273799)) närhet|närhet, 2442205060011518321 ((1273880, 1273959)) har|har, 2442205060011518321 ((1274020, 1274079)) en|en, 2442205060011518321 ((1274120, 1274360)) väldigt|väldigt, 2442205060011518321 ((1274400, 1274659)) viktig|viktig, 2442205060011518321 ((1274720, 1275140)) funktion|funktion, 2442205060011518321 ((1275200, 1275279)) för|för, 2442205060011518321 ((1275340, 1275680)) barnet.|barnet., 2442205060011518321 ((1276100, 1276160)) Det|Det, 2442205060011518321 ((1276220, 1276279)) kan|kan, 2442205060011518321 ((1276340, 1276460)) till|till, 2442205060011518321 ((1276480, 1276859)) exempel|exempel, 2442205060011518321 ((1276900, 1277019)) vara|vara, 2442205060011518321 ((1277040, 1277079)) en|en, 2442205060011518321 ((1277120, 1277480)) situation|situation, 2442205060011518321 ((1277500, 1277559)) då|<eps>, 2442205060011518321 ((1278100, 1278140)) ja|<eps>, 2442205060011518321 ((1278200, 1278259)) där|där, 2442205060011518321 ((1278300, 1278380)) man|man, 2442205060011518321 ((1278400, 1278459)) har|har, 2442205060011518321 ((1278500, 1278640)) gått|gått, 2442205060011518321 ((1278660, 1278900)) skilda|skilda, 2442205060011518321 ((1278960, 1279279)) vägar|vägar, 2442205060011518321 ((1279820, 1279980)) helt|<eps>, 2442205060011518321 ((1280040, 1280319)) enkelt|<eps>, 2442205060011518321 ((1280380, 1280459)) och|och, 2442205060011518321 ((1280480, 1280519)) så|<eps>, 2442205060011518321 ((1280600, 1280660)) har|<eps>, 2442205060011518321 ((1280700, 1280779)) man|<eps>, 2442205060011518321 ((1280840, 1280980)) fått|fått, 2442205060011518321 ((1281040, 1281079)) en|en, 2442205060011518321 ((1281160, 1281219)) ny|ny, 2442205060011518321 ((1281600, 1282020)) relation,|relation,, 2442205060011518321 ((1282080, 1282160)) och|och, 2442205060011518321 ((1282180, 1282239)) så|så, 2442205060011518321 ((1282300, 1282380)) har|har, 2442205060011518321 ((1282440, 1282719)) barnet|barnet, 2442205060011518321 ((1282719, 1282719)) <eps>|fått, 2442205060011518321 ((1282780, 1282819)) en|en, 2442205060011518321 ((1282900, 1283459)) bonusmamma|bonusmamma, 2442205060011518321 ((1283500, 1283640)) eller|eller, 2442205060011518321 ((1283680, 1283719)) en|en, 2442205060011518321 ((1283780, 1284480)) bonuspappa.|bonuspappa., 2442205060011518321 ((1285000, 1285039)) Då|Då, 2442205060011518321 ((1285100, 1285140)) är|kan, 2442205060011518321 ((1285200, 1285239)) en|en, 2442205060011518321 ((1285260, 1285400)) sådan|<eps>, 2442205060011518321 ((1285440, 1285959)) frågeställning|<eps>, 2442205060011518321 ((1286060, 1286240)) var|<eps>, 2442205060011518321 ((1286340, 1286440)) ska|<eps>, 2442205060011518321 ((1286580, 1286640)) då|fråga, 2442205060011518321 ((1287260, 1287339)) den|vara, 2442205060011518321 ((1287400, 1287479)) här|vad, 2442205060011518321 ((1287560, 1288300)) bonusmamman|bonusmamman, 2442205060011518321 ((1288340, 1288480)) eller|eller, 2442205060011518321 ((1288560, 1289220)) bonuspappan|bonuspappan, 2442205060011518321 ((1289220, 1289220)) <eps>|ska, 2442205060011518321 ((1289300, 1289380)) få|få, 2442205060011518321 ((1289520, 1289640)) för|för, 2442205060011518321 ((1289780, 1290539)) information|information, 2442205060011518321 ((1290580, 1290700)) till|<eps>, 2442205060011518321 ((1290720, 1290999)) exempel|<eps>, 2442205060011518321 ((1291040, 1291099)) om|om, 2442205060011518321 ((1291140, 1291219)) hur|hur, 2442205060011518321 ((1291260, 1291339)) det|det, 2442205060011518321 ((1291339, 1291339)) <eps>|till, 2442205060011518321 ((1291339, 1291339)) <eps>|exempel, 2442205060011518321 ((1291400, 1291599)) går|går, 2442205060011518321 ((1291680, 1291759)) för|för, 2442205060011518321 ((1291820, 1292200)) barnet|barnet, 2442205060011518321 ((1292500, 1292579)) och|<eps>, 2442205060011518321 ((1292660, 1292739)) för|så, 2442205060011518321 ((1292760, 1292859)) att|att, 2442205060011518321 ((1292859, 1292859)) <eps>|man, 2442205060011518321 ((1292900, 1293059)) kunna|kan, 2442205060011518321 ((1293360, 1293460)) vara|vara, 2442205060011518321 ((1293500, 1293599)) ett|ett, 2442205060011518321 ((1293660, 1294039)) stöd|stöd, 2442205060011518321 ((1294120, 1294220)) för|för, 2442205060011518321 ((1294280, 1294640)) barnet|barnet, 2442205060011518321 ((1295140, 1295159)) i|i, 2442205060011518321 ((1295240, 1295799)) vardagen.|vardagen., 2442205060011518321 ((1296140, 1296199)) Det|Det, 2442205060011518321 ((1296240, 1296279)) är|är, 2442205060011518321 ((1296340, 1296400)) en|en, 2442205060011518321 ((1296440, 1296599)) sån|sådan, 2442205060011518321 ((1296660, 1296900)) fråga|fråga, 2442205060011518321 ((1296980, 1297059)) som|som, 2442205060011518321 ((1297120, 1297200)) man|man, 2442205060011518321 ((1297260, 1297299)) då|<eps>, 2442205060011518321 ((1297420, 1297519)) kan|<eps>, 2442205060011518321 ((1297780, 1297880)) kan|kan, 2442205060011518321 ((1297960, 1298200)) titta|titta, 2442205060011518321 ((1298200, 1298200)) <eps>|på,, 2442205060011518321 ((1298300, 1298359)) på|och, 2442205060011518321 ((1299560, 1299800)) dels|jag, 2442205060011518321 ((1299840, 1300000)) skulle|skulle, 2442205060011518321 ((1300000, 1300000)) <eps>|vilja, 2442205060011518321 ((1300020, 1300079)) jag|påstå, 2442205060011518321 ((1300120, 1300280)) vella|att, 2442205060011518321 ((1300680, 1300859)) säga|det, 2442205060011518321 ((1301360, 1301380)) e|är, 2442205060011518321 ((1301520, 1301660)) till|till, 2442205060011518321 ((1301700, 1301940)) stöd|stöd, 2442205060011518321 ((1302000, 1302079)) för|<eps>, 2442205060011518321 ((1302140, 1302419)) barnet|<eps>, 2442205060011518321 ((1302500, 1302579)) och|<eps>, 2442205060011518321 ((1302700, 1302779)) och|och, 2442205060011518321 ((1302900, 1303039)) bra|bra, 2442205060011518321 ((1303240, 1303319)) för|för, 2442205060011518321 ((1303380, 1303679)) barnet|barnet, 2442205060011518321 ((1303760, 1303819)) om|om, 2442205060011518321 ((1303860, 1303940)) det|det, 2442205060011518321 ((1304240, 1304380)) finns|finns, 2442205060011518321 ((1304480, 1304999)) ytterligare|ytterligare, 2442205060011518321 ((1305060, 1305339)) vuxna|vuxna, 2442205060011518321 ((1305420, 1305499)) som|som, 2442205060011518321 ((1305580, 1305680)) kan|kan, 2442205060011518321 ((1305740, 1305799)) ta|ta, 2442205060011518321 ((1305880, 1306139)) ansvar|ansvar, 2442205060011518321 ((1306180, 1306199)) i|i, 2442205060011518321 ((1306240, 1306319)) den|den, 2442205060011518321 ((1306380, 1306759)) situationen|<eps>, 2442205060011518321 ((1306800, 1306880)) meh|situationen., 2442205060011518321 ((1306960, 1307059)) Att|Att, 2442205060011518321 ((1307080, 1307320)) ställa|ställa, 2442205060011518321 ((1307400, 1307559)) det|det, 2442205060011518321 ((1307640, 1307719)) då|<eps>, 2442205060011518321 ((1308420, 1308719)) mot|mot, 2442205060011518321 ((1309100, 1309240)) den|den, 2442205060011518321 ((1309580, 1310320)) biologiska|biologiska, 2442205060011518321 ((1311440, 1311799)) pappans|pappans, 2442205060011518321 ((1311840, 1311980)) eller|eller, 2442205060011518321 ((1312040, 1312380)) mammans|mammans, 2442205060011518321 ((1312440, 1312920)) rättigheter|rättigheter, 2442205060011518321 ((1313000, 1313079)) det|<eps>, 2442205060011518321 ((1313120, 1313300)) tycker|tycker, 2442205060011518321 ((1313340, 1313420)) jag|jag, 2442205060011518321 ((1313540, 1313760)) leder|leder, 2442205060011518321 ((1313860, 1314220)) helt|helt, 2442205060011518321 ((1314500, 1314799)) fel.|fel.]\n",
      "[2442205060011518321 ((1315140, 1315679)) Återigen:|Återigen:, 2442205060011518321 ((1315820, 1316460)) Utgångspunkten|Utgångspunkten, 2442205060011518321 ((1316520, 1316579)) för|för, 2442205060011518321 ((1316620, 1316700)) den|<eps>, 2442205060011518321 ((1316740, 1316819)) här|<eps>, 2442205060011518321 ((1316880, 1317299)) utredningen|utredningen, 2442205060011518321 ((1317320, 1317339)) i|i, 2442205060011518321 ((1317400, 1317479)) den|den, 2442205060011518321 ((1317540, 1317640)) här|här, 2442205060011518321 ((1317700, 1317959)) delen|delen, 2442205060011518321 ((1318080, 1318160)) det|<eps>, 2442205060011518321 ((1318280, 1318339)) är|är, 2442205060011518321 ((1318480, 1318859)) barnets|barnets, 2442205060011518321 ((1318940, 1319279)) bästa|bästa, 2442205060011518321 ((1319580, 1319680)) men|och, 2442205060011518321 ((1319760, 1319880)) att|att, 2442205060011518321 ((1320040, 1320220)) kunna|kunna, 2442205060011518321 ((1320320, 1320619)) verka|verka, 2442205060011518321 ((1320680, 1320759)) för|för, 2442205060011518321 ((1320820, 1321099)) barnets|barnets, 2442205060011518321 ((1321160, 1321419)) bästa|bästa, 2442205060011518321 ((1321620, 1321640)) i|i, 2442205060011518321 ((1321840, 1321900)) en|en, 2442205060011518321 ((1322000, 1322380)) modern|modern, 2442205060011518321 ((1322700, 1322920)) miljö|miljö, 2442205060011518321 ((1323040, 1323119)) och|och, 2442205060011518321 ((1323140, 1323159)) i|i, 2442205060011518321 ((1323200, 1323299)) ett|ett, 2442205060011518321 ((1323360, 1323680)) modernt|modernt, 2442205060011518321 ((1323740, 1324200)) sammanhang|<eps>, 2442205060011518321 ((1324920, 1325039)) nej|sammanhang., 2442205060011518321 ((1325120, 1325560)) återigen|Fru, 2442205060011518321 ((1326060, 1326260)) oma|talman!, 2442205060011518321 ((1326420, 1326499)) Jag|Jag, 2442205060011518321 ((1326580, 1326780)) tror|tror, 2442205060011518321 ((1326820, 1326920)) att|att, 2442205060011518321 ((1326940, 1327019)) det|det, 2442205060011518321 ((1327080, 1327180)) här|här, 2442205060011518321 ((1327240, 1327499)) handlar|handlar, 2442205060011518321 ((1327600, 1327680)) om|om, 2442205060011518321 ((1328060, 1328180)) att|att, 2442205060011518321 ((1328220, 1328999)) sveriedemokraterna|Sverigedemokraterna, 2442205060011518321 ((1329080, 1329180)) har|har, 2442205060011518321 ((1329300, 1329640)) svårt|svårt, 2442205060011518321 ((1329680, 1329779)) att|att, 2442205060011518321 ((1329840, 1330440)) acceptera|acceptera, 2442205060011518321 ((1330800, 1330920)) att|att, 2442205060011518321 ((1330960, 1330999)) vi|vi, 2442205060011518321 ((1331060, 1331180)) inte|inte, 2442205060011518321 ((1331260, 1331480)) längre|längre, 2442205060011518321 ((1331580, 1331859)) lever|lever, 2442205060011518321 ((1331920, 1331979)) på|på, 2442205060011518321 ((1332060, 1332760)) femtiotalet|50-talet,, 2442205060011518321 ((1333220, 1333380)) att|att, 2442205060011518321 ((1333520, 1333920)) numera|<eps>, 2442205060011518321 ((1334020, 1334260)) har|<eps>, 2442205060011518321 ((1334360, 1334600)) också|även, 2442205060011518321 ((1334680, 1335199)) samkönade|samkönade, 2442205060011518321 ((1336240, 1336480)) par|par, 2442205060011518321 ((1336480, 1336480)) <eps>|numera, 2442205060011518321 ((1336480, 1336480)) <eps>|har, 2442205060011518321 ((1336980, 1337259)) barn|barn, 2442205060011518321 ((1337520, 1337599)) och|och, 2442205060011518321 ((1337599, 1337599)) <eps>|att, 2442205060011518321 ((1337640, 1337699)) vi|vi, 2442205060011518321 ((1337780, 1337920)) måste|måste, 2442205060011518321 ((1337960, 1338019)) ha|ha, 2442205060011518321 ((1338040, 1338079)) en|en, 2442205060011518321 ((1338120, 1338600)) lagstiftning|lagstiftning, 2442205060011518321 ((1338640, 1338719)) som|som, 2442205060011518321 ((1338780, 1339079)) funkar|funkar, 2442205060011518321 ((1339120, 1339180)) för|för, 2442205060011518321 ((1339240, 1339359)) den|den, 2442205060011518321 ((1339440, 1339940)) situationen|<eps>, 2442205060011518321 ((1340380, 1340479)) att|situationen., 2442205060011518321 ((1340540, 1340920)) Numera|Numera, 2442205060011518321 ((1341020, 1341099)) är|är, 2442205060011518321 ((1341220, 1341960)) skilsmässor|skilsmässor, 2442205060011518321 ((1342480, 1342559)) och|<eps>, 2442205060011518321 ((1343220, 1343499)) mycket|mycket, 2442205060011518321 ((1343540, 1343660)) mer|<eps>, 2442205060011518321 ((1343720, 1344059)) vanligt|vanligare, 2442205060011518321 ((1344100, 1344160)) än|än, 2442205060011518321 ((1344200, 1344259)) vad|vad, 2442205060011518321 ((1344300, 1344359)) det|det, 2442205060011518321 ((1344400, 1344479)) var|var, 2442205060011518321 ((1344580, 1344960)) tidigare,|tidigare,, 2442205060011518321 ((1345440, 1345640)) vilket|vilket, 2442205060011518321 ((1345700, 1345799)) jag|<eps>, 2442205060011518321 ((1346460, 1346680)) menar|<eps>, 2442205060011518321 ((1346760, 1346839)) på|<eps>, 2442205060011518321 ((1346980, 1347339)) faktiskt|<eps>, 2442205060011518321 ((1347600, 1347660)) det|det, 2442205060011518321 ((1347659, 1347659)) <eps>|naturligtvis, 2442205060011518321 ((1347720, 1347859)) finns|finns, 2442205060011518321 ((1347920, 1348059)) både|både, 2442205060011518321 ((1348280, 1348440)) för-|för-, 2442205060011518321 ((1348460, 1348539)) och|och, 2442205060011518321 ((1348580, 1348920)) nackdelar|nackdelar, 2442205060011518321 ((1348960, 1349019)) med|<eps>, 2442205060011518321 ((1349040, 1349119)) den|<eps>, 2442205060011518321 ((1349200, 1349640)) naturligtvis|med,, 2442205060011518321 ((1349680, 1349759)) men|men, 2442205060011518321 ((1350080, 1350160)) jag|jag, 2442205060011518321 ((1350220, 1350420)) vet|vet, 2442205060011518321 ((1350460, 1350519)) ju|ju, 2442205060011518321 ((1350580, 1350680)) att|att, 2442205060011518321 ((1350679, 1350679)) <eps>|det, 2442205060011518321 ((1351460, 1351660)) förr|för, 2442205060011518321 ((1351740, 1352180)) såså|väldigt, 2442205060011518321 ((1352580, 1352700)) var|många, 2442205060011518321 ((1352760, 1352819)) det|fanns, 2442205060011518321 ((1353060, 1353260)) mycket|mycket, 2442205060011518321 ((1353300, 1353480)) stora|stora, 2442205060011518321 ((1353540, 1353900)) nackdelar|nackdelar, 2442205060011518321 ((1354200, 1354279)) med|med, 2442205060011518321 ((1354320, 1354400)) den|den, 2442205060011518321 ((1354460, 1354739)) gamla|gamla, 2442205060011518321 ((1354820, 1355119)) normen|<eps>, 2442205060011518321 ((1355180, 1355499)) ssom|<eps>, 2442205060011518321 ((1355560, 1355599)) vi|<eps>, 2442205060011518321 ((1355680, 1355839)) hade|<eps>, 2442205060011518321 ((1355920, 1355999)) för|<eps>, 2442205060011518321 ((1356060, 1356280)) väldigt|<eps>, 2442205060011518321 ((1356320, 1356540)) många|<eps>, 2442205060011518321 ((1357060, 1357119)) och|normen., 2442205060011518321 ((1357140, 1357239)) endå|Därför, 2442205060011518321 ((1357340, 1357500)) måste|måste, 2442205060011518321 ((1357560, 1357619)) man|vi, 2442205060011518321 ((1357660, 1357699)) ha|ha, 2442205060011518321 ((1357720, 1357759)) en|en, 2442205060011518321 ((1357800, 1358220)) lagstiftning|lagstiftning, 2442205060011518321 ((1358260, 1358319)) som|som, 2442205060011518321 ((1358380, 1358419)) är|är, 2442205060011518321 ((1358480, 1358819)) modern|modern, 2442205060011518321 ((1358900, 1358979)) och|och, 2442205060011518321 ((1358979, 1358979)) <eps>|som, 2442205060011518321 ((1359040, 1359460)) funkar|funkar, 2442205060011518321 ((1359720, 1359739)) i|i, 2442205060011518321 ((1359800, 1359839)) en|en, 2442205060011518321 ((1359880, 1360179)) modern|modern, 2442205060011518321 ((1360240, 1360440)) värld|<eps>, 2442205060011518321 ((1360480, 1360559)) och|värld., 2442205060011518321 ((1360580, 1360640)) Det|Det, 2442205060011518321 ((1360680, 1360719)) är|är, 2442205060011518321 ((1360780, 1360880)) det|det, 2442205060011518321 ((1360960, 1360999)) vi|vi, 2442205060011518321 ((1361080, 1361119)) nu|nu, 2442205060011518321 ((1361240, 1361539)) skissar|skissar, 2442205060011518321 ((1361580, 1361640)) på.|på., 2442205060011518321 ((1362060, 1362700)) tackfötack|Interpellationsdebatten, 2442205060011518321 ((1362740, 1362779)) så|var]\n",
      "/Users/joregan/rd_filt/noisy/H810255_0001\n"
     ]
    }
   ],
   "source": [
    "noisy = []\n",
    "for file in INDIR.glob(\"H*\"):\n",
    "    counter = 1\n",
    "    lines = ctm_from_file(file)\n",
    "    splits = split_sentences(lines)\n",
    "    for split in splits:\n",
    "        print(split)\n",
    "\n",
    "    def write_noisy():\n",
    "        outfile = NOISYDIR / f\"{file.name}_{counter:04d}\"\n",
    "        print(outfile)\n",
    "        with open(outfile, \"w\") as of:\n",
    "            for line in noisy:\n",
    "                of.write(str(line) + \"\\n\")\n",
    "\n",
    "    for split in splits:\n",
    "        if check_correct(split):\n",
    "            fn = generate_filename(split)\n",
    "            print(fn)\n",
    "            with open(CLEANDIR / fn, \"w\") as of:\n",
    "                for line in split:\n",
    "                    of.write(str(line) + \"\\n\")\n",
    "            if noisy != []:\n",
    "                write_noisy()\n",
    "                counter += 1  \n",
    "                noisy = []\n",
    "        else:\n",
    "            noisy += split\n",
    "    if noisy != []:\n",
    "        write_noisy()"
   ]
  }
 ],
 "metadata": {
  "kernelspec": {
   "display_name": "phonemizer",
   "language": "python",
   "name": "python3"
  },
  "language_info": {
   "codemirror_mode": {
    "name": "ipython",
    "version": 3
   },
   "file_extension": ".py",
   "mimetype": "text/x-python",
   "name": "python",
   "nbconvert_exporter": "python",
   "pygments_lexer": "ipython3",
   "version": "3.9.16"
  }
 },
 "nbformat": 4,
 "nbformat_minor": 2
}
