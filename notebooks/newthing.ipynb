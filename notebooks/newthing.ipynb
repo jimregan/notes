{
 "cells": [
  {
   "cell_type": "code",
   "execution_count": 2,
   "metadata": {},
   "outputs": [],
   "source": [
    "_ALPHABET = {\n",
    "    \"A\": [\"a\"],\n",
    "    \"B\": [\"be\", \"bé\"],\n",
    "    \"C\": [\"ce\", \"se\", \"sé\", \"cé\", \"si\", \"ci\"],\n",
    "    \"D\": [\"de\", \"dé\", \"di\"],\n",
    "    \"E\": [\"e\", \"é\"],\n",
    "    \"F\": [\"eff\", \"ef\"],\n",
    "    \"G\": [\"ge\", \"gé\", \"gi\"],\n",
    "    \"H\": [\"hå\", \"ho\"],\n",
    "    \"I\": [\"i\"],\n",
    "    \"J\": [\"ji\", \"gi\"],\n",
    "    \"K\": [\"kå\", \"ko\"],\n",
    "    \"L\": [\"ell\", \"el\"],\n",
    "    \"M\": [\"emm\", \"em\"],\n",
    "    \"N\": [\"enn\", \"en\"],\n",
    "    \"O\": [\"o\"],\n",
    "    \"P\": [\"pe\", \"pé\", \"pi\"],\n",
    "    \"Q\": [\"qu\"],\n",
    "    \"R\": [\"err\", \"er\", \"är\", \"ärr\"],\n",
    "    \"S\": [\"ess\", \"es\"],\n",
    "    \"T\": [\"te\", \"té\", \"ti\"],\n",
    "    \"U\": [\"u\"],\n",
    "    \"V\": [\"ve\", \"vé\", \"vi\"],\n",
    "    \"W\": [\"dubbelve\"],\n",
    "    \"X\": [\"ex\", \"ecz\", \"ecs\", \"eks\"],\n",
    "    \"Y\": [\"y\"],\n",
    "    \"Z\": [\"zäta\", \"säta\", \"seta\", \"zeta\"],\n",
    "    \"Å\": [\"å\"],\n",
    "    \"Ä\": [\"ä\"],\n",
    "    \"Ö\": [\"ö\"]\n",
    "}\n",
    "\n",
    "DIGITS = {\n",
    "    \"1\": [\"ett\"],\n",
    "    \"2\": [\"två\"],\n",
    "    \"3\": [\"tre\"],\n",
    "    \"4\": [\"fyra\"],\n",
    "    \"5\": [\"fem\"],\n",
    "    \"6\": [\"sex\"],\n",
    "    \"7\": [\"sju\"],\n",
    "    \"8\": [\"åtta\"],\n",
    "    \"9\": [\"nio\", \"ni\"]\n",
    "}"
   ]
  },
  {
   "cell_type": "code",
   "execution_count": 8,
   "metadata": {},
   "outputs": [],
   "source": [
    "ALPHABET = {k: sorted(v, key=len, reverse=True) for k,v in _ALPHABET.items()}"
   ]
  },
  {
   "cell_type": "code",
   "execution_count": 11,
   "metadata": {},
   "outputs": [],
   "source": [
    "ALNUM = {**ALPHABET, **DIGITS}\n",
    "ALNUM_REGEX = {k: f\"({'|'.join(v)})\" for k,v in ALNUM.items()}"
   ]
  },
  {
   "cell_type": "code",
   "execution_count": null,
   "metadata": {},
   "outputs": [],
   "source": [
    "def letter_matcher(letters):\n",
    "    pass"
   ]
  }
 ],
 "metadata": {
  "kernelspec": {
   "display_name": "syncasr_stats",
   "language": "python",
   "name": "python3"
  },
  "language_info": {
   "codemirror_mode": {
    "name": "ipython",
    "version": 3
   },
   "file_extension": ".py",
   "mimetype": "text/x-python",
   "name": "python",
   "nbconvert_exporter": "python",
   "pygments_lexer": "ipython3",
   "version": "3.9.16"
  }
 },
 "nbformat": 4,
 "nbformat_minor": 2
}
