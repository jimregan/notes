{
 "cells": [
  {
   "cell_type": "code",
   "execution_count": 1,
   "metadata": {},
   "outputs": [],
   "source": [
    "LINES = \"\"\"\n",
    "2442207080018759021 1 112.18 0.059 Det 1.0 Det cor\n",
    "2442207080018759021 1 112.32 0.36 återstår 1.0 återstår cor\n",
    "2442207080018759021 1 112.76 0.339 nämligen 1.0 nämligen cor\n",
    "2442207080018759021 1 113.24 0.219 två 1.0 två cor\n",
    "2442207080018759021 1 114.4 0.399 viktiga 1.0 <eps> ins\n",
    "2442207080018759021 1 115.86 0.42 brister 1.0 brister cor\n",
    "2442207080018759021 1 116.28 0.0 <eps> 1.0 som del\n",
    "2442207080018759021 1 116.28 0.0 <eps> 1.0 är del\n",
    "2442207080018759021 1 116.28 0.0 <eps> 1.0 viktiga del\n",
    "2442207080018759021 1 116.62 0.099 att 1.0 att cor\n",
    "2442207080018759021 1 116.82 0.48 åtgärda. 1.0 åtgärda. cor\n",
    "\"\"\""
   ]
  },
  {
   "cell_type": "code",
   "execution_count": 7,
   "metadata": {},
   "outputs": [],
   "source": [
    "def accept_paraphrase(lines):\n",
    "    outlines = []\n",
    "    ltext = []\n",
    "    rtext = []\n",
    "    for line in lines.split(\"\\n\"):\n",
    "        line = line.strip()\n",
    "        if line == \"\":\n",
    "            continue\n",
    "        parts = line.split(\" \")\n",
    "        if parts[-1] == \"cor\":\n",
    "            outlines.append(line)\n",
    "            ltext.append(parts[6])\n",
    "            rtext.append(parts[6])\n",
    "        elif parts[-1] == \"sub\":\n",
    "            ltext.append(parts[4])\n",
    "            rtext.append(parts[6])\n",
    "            parts[6] = parts[4]\n",
    "            parts[7] = \"cor\"\n",
    "            outlines.append(\" \".join(parts))\n",
    "        elif parts[6] == \"<eps>\":\n",
    "            ltext.append(parts[4])\n",
    "            parts[6] = parts[4]\n",
    "            parts[7] = \"cor\"\n",
    "            outlines.append(\" \".join(parts))\n",
    "        elif parts[4] == \"<eps>\":\n",
    "            rtext.append(parts[6])\n",
    "        else:\n",
    "            print(\"Huh?\", line)\n",
    "    return outlines, (\" \".join(ltext), \" \".join(rtext))"
   ]
  },
  {
   "cell_type": "code",
   "execution_count": 13,
   "metadata": {},
   "outputs": [],
   "source": [
    "def generate_filename(lines):\n",
    "    first = lines[0].split(\" \")\n",
    "    last = lines[-1].split(\" \")\n",
    "    file_id = first[0]\n",
    "    start = first[2]\n",
    "    last_start = float(last[2])\n",
    "    last_dur = float(last[3])\n",
    "    end = last_start + last_dur\n",
    "    # filename = f\"{file_id}_{start}_{end:.2f}.ctmedit\"\n",
    "    seg_dur = end - float(start)\n",
    "    filename = f\"{file_id}_{start}_{seg_dur:.2f}.ctmedit\"\n",
    "    return filename"
   ]
  },
  {
   "cell_type": "code",
   "execution_count": 15,
   "metadata": {},
   "outputs": [],
   "source": [
    "from pathlib import Path\n",
    "def write_ctm_segment(outdir, lines):\n",
    "    filename = generate_filename(lines)\n",
    "    dirpath = Path(outdir)\n",
    "    if not dirpath.is_dir():\n",
    "        dirpath.mkdir()\n",
    "    outfile = dirpath / filename\n",
    "    with open(outfile, \"w\") as f:\n",
    "        for line in lines:\n",
    "            f.write(line + \"\\n\")"
   ]
  },
  {
   "cell_type": "code",
   "execution_count": 3,
   "metadata": {},
   "outputs": [
    {
     "data": {
      "text/plain": [
       "(['2442207080018759021 1 112.18 0.059 Det 1.0 Det cor',\n",
       "  '2442207080018759021 1 112.32 0.36 återstår 1.0 återstår cor',\n",
       "  '2442207080018759021 1 112.76 0.339 nämligen 1.0 nämligen cor',\n",
       "  '2442207080018759021 1 113.24 0.219 två 1.0 två cor',\n",
       "  '2442207080018759021 1 114.4 0.399 viktiga 1.0 viktiga cor',\n",
       "  '2442207080018759021 1 115.86 0.42 brister 1.0 brister cor',\n",
       "  '2442207080018759021 1 116.62 0.099 att 1.0 att cor',\n",
       "  '2442207080018759021 1 116.82 0.48 åtgärda. 1.0 åtgärda. cor'],\n",
       " ('Det återstår nämligen två viktiga brister att åtgärda.',\n",
       "  'Det återstår nämligen två brister som är viktiga att åtgärda.'))"
      ]
     },
     "execution_count": 3,
     "metadata": {},
     "output_type": "execute_result"
    }
   ],
   "source": [
    "accept_paraphrase(LINES)"
   ]
  },
  {
   "cell_type": "code",
   "execution_count": 8,
   "metadata": {},
   "outputs": [
    {
     "data": {
      "text/plain": [
       "(['2442203250006958021 1 39.58 0.06 Vi 1.0 Vi cor',\n",
       "  '2442203250006958021 1 39.82 0.1 har 1.0 har cor',\n",
       "  '2442203250006958021 1 40.0 0.34 lämnat 1.0 lämnat cor',\n",
       "  '2442203250006958021 1 40.44 0.1 in 1.0 in cor',\n",
       "  '2442203250006958021 1 40.78 0.119 en 1.0 en cor',\n",
       "  '2442203250006958021 1 42.1 1.479 motivreservation, 1.0 motivreservation, cor',\n",
       "  '2442203250006958021 1 43.64 0.079 det 1.0 det cor',\n",
       "  '2442203250006958021 1 43.74 0.119 vill 1.0 vill cor',\n",
       "  '2442203250006958021 1 43.92 0.179 säga 1.0 säga cor',\n",
       "  '2442203250006958021 1 44.16 0.1 att 1.0 att cor',\n",
       "  '2442203250006958021 1 44.3 0.08 den 1.0 den cor',\n",
       "  '2442203250006958021 1 44.5 0.38 texten 1.0 texten cor',\n",
       "  '2442203250006958021 1 44.94 0.1 som 1.0 som cor',\n",
       "  '2442203250006958021 1 45.12 0.2 kommer 1.0 kommer cor',\n",
       "  '2442203250006958021 1 45.4 0.34 före 1.0 före cor',\n",
       "  '2442203250006958021 1 46.38 0.159 vill 1.0 vill cor',\n",
       "  '2442203250006958021 1 46.56 0.039 vi 1.0 vi cor',\n",
       "  '2442203250006958021 1 46.7 0.039 ha 1.0 ha cor',\n",
       "  '2442203250006958021 1 47.4 0.179 lite 1.0 lite cor',\n",
       "  '2442203250006958021 1 47.64 0.38 förändrad 1.0 förändrad. cor'],\n",
       " ('Vi har lämnat in en motivreservation, det vill säga att den texten som kommer före vill vi ha lite förändrad.',\n",
       "  'Vi har lämnat in en motivreservation, det vill säga att vi vill ha texten lite förändrad.'))"
      ]
     },
     "execution_count": 8,
     "metadata": {},
     "output_type": "execute_result"
    }
   ],
   "source": [
    "LINES = \"\"\"\n",
    "2442203250006958021 1 39.58 0.06 Vi 1.0 Vi cor\n",
    "2442203250006958021 1 39.82 0.1 har 1.0 har cor\n",
    "2442203250006958021 1 40.0 0.34 lämnat 1.0 lämnat cor\n",
    "2442203250006958021 1 40.44 0.1 in 1.0 in cor\n",
    "2442203250006958021 1 40.78 0.119 en 1.0 en cor\n",
    "2442203250006958021 1 42.1 1.479 motivreservation, 1.0 motivreservation, cor\n",
    "2442203250006958021 1 43.64 0.079 det 1.0 det cor\n",
    "2442203250006958021 1 43.74 0.119 vill 1.0 vill cor\n",
    "2442203250006958021 1 43.92 0.179 säga 1.0 säga cor\n",
    "2442203250006958021 1 44.16 0.1 att 1.0 att cor\n",
    "2442203250006958021 1 44.3 0.08 den 1.0 <eps> ins\n",
    "2442203250006958021 1 44.5 0.38 texten 1.0 <eps> ins\n",
    "2442203250006958021 1 44.94 0.1 som 1.0 <eps> ins\n",
    "2442203250006958021 1 45.12 0.2 kommer 1.0 <eps> ins\n",
    "2442203250006958021 1 45.4 0.34 före 1.0 vi sub\n",
    "2442203250006958021 1 46.38 0.159 vill 1.0 vill cor\n",
    "2442203250006958021 1 46.56 0.039 vi 1.0 <eps> ins\n",
    "2442203250006958021 1 46.7 0.039 ha 1.0 ha cor\n",
    "2442203250006958021 1 46.739 0.0 <eps> 1.0 texten del\n",
    "2442203250006958021 1 47.4 0.179 lite 1.0 lite cor\n",
    "2442203250006958021 1 47.64 0.38 förändrad 1.0 förändrad. cor\n",
    "\"\"\"\n",
    "accept_paraphrase(LINES)"
   ]
  },
  {
   "cell_type": "code",
   "execution_count": 14,
   "metadata": {},
   "outputs": [
    {
     "data": {
      "text/plain": [
       "'2442203250006958021_39.58_8.44.ctmedit'"
      ]
     },
     "execution_count": 14,
     "metadata": {},
     "output_type": "execute_result"
    }
   ],
   "source": [
    "a, b = accept_paraphrase(LINES)\n",
    "generate_filename(a)"
   ]
  }
 ],
 "metadata": {
  "kernelspec": {
   "display_name": "syncasr_stats",
   "language": "python",
   "name": "python3"
  },
  "language_info": {
   "codemirror_mode": {
    "name": "ipython",
    "version": 3
   },
   "file_extension": ".py",
   "mimetype": "text/x-python",
   "name": "python",
   "nbconvert_exporter": "python",
   "pygments_lexer": "ipython3",
   "version": "3.9.16"
  }
 },
 "nbformat": 4,
 "nbformat_minor": 2
}
