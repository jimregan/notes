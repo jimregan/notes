{
 "cells": [
  {
   "cell_type": "code",
   "execution_count": 1,
   "metadata": {},
   "outputs": [],
   "source": [
    "LINES = \"\"\"\n",
    "2442207080018759021 1 112.18 0.059 Det 1.0 Det cor\n",
    "2442207080018759021 1 112.32 0.36 återstår 1.0 återstår cor\n",
    "2442207080018759021 1 112.76 0.339 nämligen 1.0 nämligen cor\n",
    "2442207080018759021 1 113.24 0.219 två 1.0 två cor\n",
    "2442207080018759021 1 114.4 0.399 viktiga 1.0 <eps> ins\n",
    "2442207080018759021 1 115.86 0.42 brister 1.0 brister cor\n",
    "2442207080018759021 1 116.28 0.0 <eps> 1.0 som del\n",
    "2442207080018759021 1 116.28 0.0 <eps> 1.0 är del\n",
    "2442207080018759021 1 116.28 0.0 <eps> 1.0 viktiga del\n",
    "2442207080018759021 1 116.62 0.099 att 1.0 att cor\n",
    "2442207080018759021 1 116.82 0.48 åtgärda. 1.0 åtgärda. cor\n",
    "\"\"\""
   ]
  },
  {
   "cell_type": "code",
   "execution_count": 2,
   "metadata": {},
   "outputs": [],
   "source": [
    "def accept_paraphrase(lines):\n",
    "    outlines = []\n",
    "    ltext = []\n",
    "    rtext = []\n",
    "    for line in lines.split(\"\\n\"):\n",
    "        line = line.strip()\n",
    "        if line == \"\":\n",
    "            continue\n",
    "        parts = line.split(\" \")\n",
    "        if parts[-1] == \"cor\":\n",
    "            outlines.append(line)\n",
    "            ltext.append(parts[6])\n",
    "            rtext.append(parts[6])\n",
    "        elif parts[6] == \"<eps>\":\n",
    "            ltext.append(parts[4])\n",
    "            parts[6] = parts[4]\n",
    "            parts[7] = \"cor\"\n",
    "            outlines.append(\" \".join(parts))\n",
    "        elif parts[4] == \"<eps>\":\n",
    "            rtext.append(parts[6])\n",
    "        else:\n",
    "            print(\"Huh?\", line)\n",
    "    return outlines, (\" \".join(ltext), \" \".join(rtext))"
   ]
  },
  {
   "cell_type": "code",
   "execution_count": 3,
   "metadata": {},
   "outputs": [
    {
     "data": {
      "text/plain": [
       "(['2442207080018759021 1 112.18 0.059 Det 1.0 Det cor',\n",
       "  '2442207080018759021 1 112.32 0.36 återstår 1.0 återstår cor',\n",
       "  '2442207080018759021 1 112.76 0.339 nämligen 1.0 nämligen cor',\n",
       "  '2442207080018759021 1 113.24 0.219 två 1.0 två cor',\n",
       "  '2442207080018759021 1 114.4 0.399 viktiga 1.0 viktiga cor',\n",
       "  '2442207080018759021 1 115.86 0.42 brister 1.0 brister cor',\n",
       "  '2442207080018759021 1 116.62 0.099 att 1.0 att cor',\n",
       "  '2442207080018759021 1 116.82 0.48 åtgärda. 1.0 åtgärda. cor'],\n",
       " ('Det återstår nämligen två viktiga brister att åtgärda.',\n",
       "  'Det återstår nämligen två brister som är viktiga att åtgärda.'))"
      ]
     },
     "execution_count": 3,
     "metadata": {},
     "output_type": "execute_result"
    }
   ],
   "source": [
    "accept_paraphrase(LINES)"
   ]
  }
 ],
 "metadata": {
  "kernelspec": {
   "display_name": "syncasr_stats",
   "language": "python",
   "name": "python3"
  },
  "language_info": {
   "codemirror_mode": {
    "name": "ipython",
    "version": 3
   },
   "file_extension": ".py",
   "mimetype": "text/x-python",
   "name": "python",
   "nbconvert_exporter": "python",
   "pygments_lexer": "ipython3",
   "version": "3.9.16"
  }
 },
 "nbformat": 4,
 "nbformat_minor": 2
}
