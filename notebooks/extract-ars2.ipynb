{
 "cells": [
  {
   "cell_type": "code",
   "execution_count": 1,
   "metadata": {},
   "outputs": [],
   "source": [
    "!grep -i '\\(terror\\|teror\\)' ~/rd_ctm_edit/* | awk -F':' '{print $1}'|sort|uniq > /tmp/terror_files"
   ]
  },
  {
   "cell_type": "code",
   "execution_count": 3,
   "metadata": {},
   "outputs": [],
   "source": [
    "FILES=!cat /tmp/terror_files | shuf | head -n 5"
   ]
  },
  {
   "cell_type": "code",
   "execution_count": 7,
   "metadata": {},
   "outputs": [],
   "source": [
    "UPPER_BOUND = 60 * 7\n",
    "LOWER_BOUND = 60 * 6"
   ]
  },
  {
   "cell_type": "code",
   "execution_count": 8,
   "metadata": {},
   "outputs": [
    {
     "data": {
      "text/plain": [
       "379"
      ]
     },
     "execution_count": 8,
     "metadata": {},
     "output_type": "execute_result"
    }
   ],
   "source": [
    "import random\n",
    "random.randrange(LOWER_BOUND, UPPER_BOUND)"
   ]
  },
  {
   "cell_type": "code",
   "execution_count": 9,
   "metadata": {},
   "outputs": [],
   "source": [
    "def slurp(filename):\n",
    "    lines = []\n",
    "    with open(filename) as inputfile:\n",
    "        for line in inputfile.readlines():\n",
    "            if line.strip() != \"\":\n",
    "                lines.append(line.strip())\n",
    "    return lines"
   ]
  },
  {
   "cell_type": "code",
   "execution_count": 10,
   "metadata": {},
   "outputs": [],
   "source": [
    "from pathlib import Path\n",
    "BASEPATH = Path(\"/home/joregan/rd_ctm_edit\")"
   ]
  },
  {
   "cell_type": "code",
   "execution_count": 11,
   "metadata": {},
   "outputs": [],
   "source": [
    "testing = slurp(str(BASEPATH / \"H9C120210930fs\"))"
   ]
  },
  {
   "cell_type": "code",
   "execution_count": 14,
   "metadata": {},
   "outputs": [],
   "source": [
    "def get_terror_lines(lines):\n",
    "    outlines = []\n",
    "    for line in lines:\n",
    "        if \"terror\" in line.lower() or \"teror\" in line.lower():\n",
    "            outlines.append(line)\n",
    "    return outlines"
   ]
  },
  {
   "cell_type": "code",
   "execution_count": 16,
   "metadata": {},
   "outputs": [],
   "source": [
    "def file_upper_bound(lines):\n",
    "    last = lines[-1]\n",
    "    parts = last.split(\" \")\n",
    "    return float(parts[2]) + float(parts[3])"
   ]
  },
  {
   "cell_type": "code",
   "execution_count": 25,
   "metadata": {},
   "outputs": [],
   "source": [
    "def file_upper_bound_start(lines):\n",
    "    last = lines[-1]\n",
    "    parts = last.split(\" \")\n",
    "    return float(parts[2])"
   ]
  },
  {
   "cell_type": "code",
   "execution_count": 19,
   "metadata": {},
   "outputs": [],
   "source": [
    "def get_random_mention(lines):\n",
    "    terror_lines = get_terror_lines(lines)\n",
    "    randn = random.randrange(0, len(terror_lines) - 1)\n",
    "    return terror_lines[randn]"
   ]
  },
  {
   "cell_type": "code",
   "execution_count": 35,
   "metadata": {},
   "outputs": [],
   "source": [
    "def random_time(lines):\n",
    "    random_line = get_random_mention(lines)\n",
    "    parts = random_line.split(\" \")\n",
    "    start_time = float(parts[2])\n",
    "    return start_time, random_line\n",
    "\n",
    "def time_difference(line1, line2):\n",
    "    parts1 = line1.split(\" \")\n",
    "    parts2 = line2.split(\" \")\n",
    "    start = float(parts1[2])\n",
    "    end = float(parts2[2]) + float(parts2[3])\n",
    "    return end - start\n",
    "\n",
    "def do_the_thing(lines):\n",
    "    upper = file_upper_bound_start(lines)\n",
    "    focal = upper\n",
    "    line = \"\"\n",
    "    while focal >= upper:\n",
    "        focal, line = random_time(lines)\n",
    "    line_index = lines.index(line)\n",
    "    idx_up = idx_down = line_index\n",
    "    while idx_up < len(lines) and idx_down > 0:\n",
    "        if time_difference(lines[idx_down], lines[idx_up]) < UPPER_BOUND:\n",
    "            if idx_up < len(lines):\n",
    "                idx_up += 1\n",
    "            if idx_down > 0:\n",
    "                idx_down -= 1\n",
    "        elif time_difference(lines[idx_down], lines[idx_up]) > UPPER_BOUND:\n",
    "            idx_up -= 1\n",
    "            idx_down += 1\n",
    "            break\n",
    "        else:\n",
    "            break\n",
    "    return lines[idx_down:idx_up]\n"
   ]
  },
  {
   "cell_type": "code",
   "execution_count": 36,
   "metadata": {},
   "outputs": [
    {
     "data": {
      "text/plain": [
       "418.8399999999997"
      ]
     },
     "execution_count": 36,
     "metadata": {},
     "output_type": "execute_result"
    }
   ],
   "source": [
    "a = do_the_thing(testing)\n",
    "time_difference(a[0], a[-1])"
   ]
  },
  {
   "cell_type": "code",
   "execution_count": 38,
   "metadata": {},
   "outputs": [
    {
     "ename": "ValueError",
     "evalue": "empty range for randrange() (0, 0, 0)",
     "output_type": "error",
     "traceback": [
      "\u001b[0;31m---------------------------------------------------------------------------\u001b[0m",
      "\u001b[0;31mValueError\u001b[0m                                Traceback (most recent call last)",
      "Cell \u001b[0;32mIn[38], line 5\u001b[0m\n\u001b[1;32m      3\u001b[0m \u001b[38;5;28;01mfor\u001b[39;00m filename \u001b[38;5;129;01min\u001b[39;00m FILES:\n\u001b[1;32m      4\u001b[0m     lines \u001b[38;5;241m=\u001b[39m slurp(filename)\n\u001b[0;32m----> 5\u001b[0m     seg \u001b[38;5;241m=\u001b[39m \u001b[43mdo_the_thing\u001b[49m\u001b[43m(\u001b[49m\u001b[43mlines\u001b[49m\u001b[43m)\u001b[49m\n\u001b[1;32m      6\u001b[0m     segments\u001b[38;5;241m.\u001b[39mappend(seg)\n\u001b[1;32m      7\u001b[0m     \u001b[38;5;66;03m# stem = Path(filename).stem\u001b[39;00m\n",
      "Cell \u001b[0;32mIn[35], line 19\u001b[0m, in \u001b[0;36mdo_the_thing\u001b[0;34m(lines)\u001b[0m\n\u001b[1;32m     17\u001b[0m line \u001b[38;5;241m=\u001b[39m \u001b[38;5;124m\"\u001b[39m\u001b[38;5;124m\"\u001b[39m\n\u001b[1;32m     18\u001b[0m \u001b[38;5;28;01mwhile\u001b[39;00m focal \u001b[38;5;241m>\u001b[39m\u001b[38;5;241m=\u001b[39m upper:\n\u001b[0;32m---> 19\u001b[0m     focal, line \u001b[38;5;241m=\u001b[39m \u001b[43mrandom_time\u001b[49m\u001b[43m(\u001b[49m\u001b[43mlines\u001b[49m\u001b[43m)\u001b[49m\n\u001b[1;32m     20\u001b[0m line_index \u001b[38;5;241m=\u001b[39m lines\u001b[38;5;241m.\u001b[39mindex(line)\n\u001b[1;32m     21\u001b[0m idx_up \u001b[38;5;241m=\u001b[39m idx_down \u001b[38;5;241m=\u001b[39m line_index\n",
      "Cell \u001b[0;32mIn[35], line 2\u001b[0m, in \u001b[0;36mrandom_time\u001b[0;34m(lines)\u001b[0m\n\u001b[1;32m      1\u001b[0m \u001b[38;5;28;01mdef\u001b[39;00m \u001b[38;5;21mrandom_time\u001b[39m(lines):\n\u001b[0;32m----> 2\u001b[0m     random_line \u001b[38;5;241m=\u001b[39m \u001b[43mget_random_mention\u001b[49m\u001b[43m(\u001b[49m\u001b[43mlines\u001b[49m\u001b[43m)\u001b[49m\n\u001b[1;32m      3\u001b[0m     parts \u001b[38;5;241m=\u001b[39m random_line\u001b[38;5;241m.\u001b[39msplit(\u001b[38;5;124m\"\u001b[39m\u001b[38;5;124m \u001b[39m\u001b[38;5;124m\"\u001b[39m)\n\u001b[1;32m      4\u001b[0m     start_time \u001b[38;5;241m=\u001b[39m \u001b[38;5;28mfloat\u001b[39m(parts[\u001b[38;5;241m2\u001b[39m])\n",
      "Cell \u001b[0;32mIn[19], line 3\u001b[0m, in \u001b[0;36mget_random_mention\u001b[0;34m(lines)\u001b[0m\n\u001b[1;32m      1\u001b[0m \u001b[38;5;28;01mdef\u001b[39;00m \u001b[38;5;21mget_random_mention\u001b[39m(lines):\n\u001b[1;32m      2\u001b[0m     terror_lines \u001b[38;5;241m=\u001b[39m get_terror_lines(lines)\n\u001b[0;32m----> 3\u001b[0m     randn \u001b[38;5;241m=\u001b[39m \u001b[43mrandom\u001b[49m\u001b[38;5;241;43m.\u001b[39;49m\u001b[43mrandrange\u001b[49m\u001b[43m(\u001b[49m\u001b[38;5;241;43m0\u001b[39;49m\u001b[43m,\u001b[49m\u001b[43m \u001b[49m\u001b[38;5;28;43mlen\u001b[39;49m\u001b[43m(\u001b[49m\u001b[43mterror_lines\u001b[49m\u001b[43m)\u001b[49m\u001b[43m \u001b[49m\u001b[38;5;241;43m-\u001b[39;49m\u001b[43m \u001b[49m\u001b[38;5;241;43m1\u001b[39;49m\u001b[43m)\u001b[49m\n\u001b[1;32m      4\u001b[0m     \u001b[38;5;28;01mreturn\u001b[39;00m terror_lines[randn]\n",
      "File \u001b[0;32m~/miniconda3/envs/whisper-v3/lib/python3.10/random.py:353\u001b[0m, in \u001b[0;36mRandom.randrange\u001b[0;34m(self, start, stop, step)\u001b[0m\n\u001b[1;32m    351\u001b[0m     \u001b[38;5;28;01mif\u001b[39;00m width \u001b[38;5;241m>\u001b[39m \u001b[38;5;241m0\u001b[39m:\n\u001b[1;32m    352\u001b[0m         \u001b[38;5;28;01mreturn\u001b[39;00m istart \u001b[38;5;241m+\u001b[39m \u001b[38;5;28mself\u001b[39m\u001b[38;5;241m.\u001b[39m_randbelow(width)\n\u001b[0;32m--> 353\u001b[0m     \u001b[38;5;28;01mraise\u001b[39;00m \u001b[38;5;167;01mValueError\u001b[39;00m(\u001b[38;5;124m\"\u001b[39m\u001b[38;5;124mempty range for randrange() (\u001b[39m\u001b[38;5;132;01m%d\u001b[39;00m\u001b[38;5;124m, \u001b[39m\u001b[38;5;132;01m%d\u001b[39;00m\u001b[38;5;124m, \u001b[39m\u001b[38;5;132;01m%d\u001b[39;00m\u001b[38;5;124m)\u001b[39m\u001b[38;5;124m\"\u001b[39m \u001b[38;5;241m%\u001b[39m (istart, istop, width))\n\u001b[1;32m    355\u001b[0m \u001b[38;5;66;03m# Non-unit step argument supplied.\u001b[39;00m\n\u001b[1;32m    356\u001b[0m \u001b[38;5;28;01mif\u001b[39;00m istep \u001b[38;5;241m>\u001b[39m \u001b[38;5;241m0\u001b[39m:\n",
      "\u001b[0;31mValueError\u001b[0m: empty range for randrange() (0, 0, 0)"
     ]
    }
   ],
   "source": [
    "segments = []\n",
    "with open(\"/tmp/run_ffmpeg1.sh\", \"w\") as runsh, open(\"/tmp/segments.ctm\", \"w\") as segctm:\n",
    "    for filename in FILES:\n",
    "        lines = slurp(filename)\n",
    "        seg = do_the_thing(lines)\n",
    "        segments.append(seg)\n",
    "        # stem = Path(filename).stem\n",
    "        parts = lines[0].split(\" \")\n",
    "        vidid = parts[0]\n",
    "        runsh.write(f\"ffmpeg -i /sbtal/riksdag-video/{vidid}_480p.mp4 -acodec pcm_s16le -ac 1 -ar 16000 /tmp/{vidid}.wav\\n\")\n",
    "        for segline in seg:\n",
    "            segctm.write(segline + \"\\n\")\n",
    "        segctm.write(\"\\n\")\n",
    "    "
   ]
  }
 ],
 "metadata": {
  "kernelspec": {
   "display_name": "whisper-v3",
   "language": "python",
   "name": "python3"
  },
  "language_info": {
   "codemirror_mode": {
    "name": "ipython",
    "version": 3
   },
   "file_extension": ".py",
   "mimetype": "text/x-python",
   "name": "python",
   "nbconvert_exporter": "python",
   "pygments_lexer": "ipython3",
   "version": "3.10.13"
  }
 },
 "nbformat": 4,
 "nbformat_minor": 2
}
