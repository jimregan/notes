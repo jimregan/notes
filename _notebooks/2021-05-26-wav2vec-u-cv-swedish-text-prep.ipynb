{
 "cells": [
  {
   "cell_type": "code",
   "execution_count": 1,
   "id": "cubic-shoulder",
   "metadata": {
    "_cell_guid": "b1076dfc-b9ad-4769-8c92-a6c4dae69d19",
    "_uuid": "8f2839f25d086af736a60e9eeb907d3b93b6e0e5",
    "execution": {
     "iopub.execute_input": "2021-05-30T13:54:00.782390Z",
     "iopub.status.busy": "2021-05-30T13:54:00.781748Z",
     "iopub.status.idle": "2021-05-30T13:54:00.786715Z",
     "shell.execute_reply": "2021-05-30T13:54:00.786041Z",
     "shell.execute_reply.started": "2021-05-25T22:46:58.262403Z"
    },
    "papermill": {
     "duration": 0.034349,
     "end_time": "2021-05-30T13:54:00.786886",
     "exception": false,
     "start_time": "2021-05-30T13:54:00.752537",
     "status": "completed"
    },
    "tags": []
   },
   "outputs": [
    {
     "name": "stdout",
     "output_type": "stream",
     "text": [
      "/opt\n"
     ]
    }
   ],
   "source": [
    "%cd /opt"
   ]
  },
  {
   "cell_type": "code",
   "execution_count": 2,
   "id": "personalized-logan",
   "metadata": {
    "execution": {
     "iopub.execute_input": "2021-05-30T13:54:00.841291Z",
     "iopub.status.busy": "2021-05-30T13:54:00.830365Z",
     "iopub.status.idle": "2021-05-30T13:54:43.011243Z",
     "shell.execute_reply": "2021-05-30T13:54:43.012298Z"
    },
    "papermill": {
     "duration": 42.207082,
     "end_time": "2021-05-30T13:54:43.013213",
     "exception": false,
     "start_time": "2021-05-30T13:54:00.806131",
     "status": "completed"
    },
    "tags": []
   },
   "outputs": [],
   "source": [
    "%%capture\n",
    "!tar xvf /kaggle/input/extract-prebuilt-kaldi-from-docker/kaldi.tar"
   ]
  },
  {
   "cell_type": "code",
   "execution_count": 3,
   "id": "consecutive-disclaimer",
   "metadata": {
    "execution": {
     "iopub.execute_input": "2021-05-30T13:54:43.083528Z",
     "iopub.status.busy": "2021-05-30T13:54:43.082517Z",
     "iopub.status.idle": "2021-05-30T13:54:43.087552Z",
     "shell.execute_reply": "2021-05-30T13:54:43.088259Z"
    },
    "papermill": {
     "duration": 0.040201,
     "end_time": "2021-05-30T13:54:43.088454",
     "exception": false,
     "start_time": "2021-05-30T13:54:43.048253",
     "status": "completed"
    },
    "tags": []
   },
   "outputs": [
    {
     "name": "stdout",
     "output_type": "stream",
     "text": [
      "/tmp\n"
     ]
    }
   ],
   "source": [
    "%cd /tmp"
   ]
  },
  {
   "cell_type": "code",
   "execution_count": 4,
   "id": "sound-comparative",
   "metadata": {
    "execution": {
     "iopub.execute_input": "2021-05-30T13:54:43.144623Z",
     "iopub.status.busy": "2021-05-30T13:54:43.138564Z",
     "iopub.status.idle": "2021-05-30T13:54:46.688386Z",
     "shell.execute_reply": "2021-05-30T13:54:46.689285Z",
     "shell.execute_reply.started": "2021-05-25T22:38:20.218298Z"
    },
    "papermill": {
     "duration": 3.578283,
     "end_time": "2021-05-30T13:54:46.689508",
     "exception": false,
     "start_time": "2021-05-30T13:54:43.111225",
     "status": "completed"
    },
    "tags": []
   },
   "outputs": [
    {
     "name": "stdout",
     "output_type": "stream",
     "text": [
      "Cloning into 'fairseq'...\r\n",
      "remote: Enumerating objects: 28172, done.\u001b[K\r\n",
      "remote: Counting objects: 100% (586/586), done.\u001b[K\r\n",
      "remote: Compressing objects: 100% (339/339), done.\u001b[K\r\n",
      "remote: Total 28172 (delta 308), reused 465 (delta 234), pack-reused 27586\u001b[K\r\n",
      "Receiving objects: 100% (28172/28172), 11.87 MiB | 15.65 MiB/s, done.\r\n",
      "Resolving deltas: 100% (21127/21127), done.\r\n"
     ]
    }
   ],
   "source": [
    "!git clone https://github.com/pytorch/fairseq/"
   ]
  },
  {
   "cell_type": "code",
   "execution_count": 5,
   "id": "physical-durham",
   "metadata": {
    "execution": {
     "iopub.execute_input": "2021-05-30T13:54:46.768492Z",
     "iopub.status.busy": "2021-05-30T13:54:46.767649Z",
     "iopub.status.idle": "2021-05-30T13:55:00.147447Z",
     "shell.execute_reply": "2021-05-30T13:55:00.148030Z"
    },
    "papermill": {
     "duration": 13.427521,
     "end_time": "2021-05-30T13:55:00.148241",
     "exception": false,
     "start_time": "2021-05-30T13:54:46.720720",
     "status": "completed"
    },
    "tags": []
   },
   "outputs": [],
   "source": [
    "%%capture\n",
    "!pip install phonemizer"
   ]
  },
  {
   "cell_type": "code",
   "execution_count": 6,
   "id": "indonesian-assessment",
   "metadata": {
    "execution": {
     "iopub.execute_input": "2021-05-30T13:55:00.223306Z",
     "iopub.status.busy": "2021-05-30T13:55:00.222600Z",
     "iopub.status.idle": "2021-05-30T13:55:55.113715Z",
     "shell.execute_reply": "2021-05-30T13:55:55.114448Z"
    },
    "papermill": {
     "duration": 54.936747,
     "end_time": "2021-05-30T13:55:55.114675",
     "exception": false,
     "start_time": "2021-05-30T13:55:00.177928",
     "status": "completed"
    },
    "tags": []
   },
   "outputs": [],
   "source": [
    "%%capture\n",
    "!pip install git+https://github.com/pytorch/fairseq/"
   ]
  },
  {
   "cell_type": "code",
   "execution_count": 7,
   "id": "joined-march",
   "metadata": {
    "execution": {
     "iopub.execute_input": "2021-05-30T13:55:55.174276Z",
     "iopub.status.busy": "2021-05-30T13:55:55.173685Z",
     "iopub.status.idle": "2021-05-30T13:56:01.832166Z",
     "shell.execute_reply": "2021-05-30T13:56:01.831637Z"
    },
    "papermill": {
     "duration": 6.689189,
     "end_time": "2021-05-30T13:56:01.832309",
     "exception": false,
     "start_time": "2021-05-30T13:55:55.143120",
     "status": "completed"
    },
    "tags": []
   },
   "outputs": [],
   "source": [
    "%%capture\n",
    "!apt-get -y install espeak"
   ]
  },
  {
   "cell_type": "code",
   "execution_count": 8,
   "id": "compressed-execution",
   "metadata": {
    "execution": {
     "iopub.execute_input": "2021-05-30T13:56:01.893545Z",
     "iopub.status.busy": "2021-05-30T13:56:01.892960Z",
     "iopub.status.idle": "2021-05-30T13:56:04.204520Z",
     "shell.execute_reply": "2021-05-30T13:56:04.203863Z",
     "shell.execute_reply.started": "2021-05-25T22:47:02.096238Z"
    },
    "papermill": {
     "duration": 2.344302,
     "end_time": "2021-05-30T13:56:04.204657",
     "exception": false,
     "start_time": "2021-05-30T13:56:01.860355",
     "status": "completed"
    },
    "tags": []
   },
   "outputs": [
    {
     "name": "stdout",
     "output_type": "stream",
     "text": [
      "Cloning into 'kenlm'...\r\n",
      "remote: Enumerating objects: 13824, done.\u001b[K\r\n",
      "remote: Counting objects: 100% (137/137), done.\u001b[K\r\n",
      "remote: Compressing objects: 100% (79/79), done.\u001b[K\r\n",
      "remote: Total 13824 (delta 76), reused 92 (delta 45), pack-reused 13687\u001b[K\r\n",
      "Receiving objects: 100% (13824/13824), 5.49 MiB | 10.90 MiB/s, done.\r\n",
      "Resolving deltas: 100% (7956/7956), done.\r\n"
     ]
    }
   ],
   "source": [
    "!git clone https://github.com/kpu/kenlm"
   ]
  },
  {
   "cell_type": "code",
   "execution_count": 9,
   "id": "outstanding-times",
   "metadata": {
    "execution": {
     "iopub.execute_input": "2021-05-30T13:56:04.281557Z",
     "iopub.status.busy": "2021-05-30T13:56:04.280944Z",
     "iopub.status.idle": "2021-05-30T13:56:09.251404Z",
     "shell.execute_reply": "2021-05-30T13:56:09.251951Z"
    },
    "papermill": {
     "duration": 5.014048,
     "end_time": "2021-05-30T13:56:09.252180",
     "exception": false,
     "start_time": "2021-05-30T13:56:04.238132",
     "status": "completed"
    },
    "tags": []
   },
   "outputs": [],
   "source": [
    "%%capture\n",
    "!apt-get -y install libeigen3-dev liblzma-dev zlib1g-dev libbz2-dev"
   ]
  },
  {
   "cell_type": "code",
   "execution_count": 10,
   "id": "jewish-martial",
   "metadata": {
    "execution": {
     "iopub.execute_input": "2021-05-30T13:56:09.330999Z",
     "iopub.status.busy": "2021-05-30T13:56:09.330315Z",
     "iopub.status.idle": "2021-05-30T13:57:21.012990Z",
     "shell.execute_reply": "2021-05-30T13:57:21.011804Z"
    },
    "papermill": {
     "duration": 71.725868,
     "end_time": "2021-05-30T13:57:21.013224",
     "exception": false,
     "start_time": "2021-05-30T13:56:09.287356",
     "status": "completed"
    },
    "tags": []
   },
   "outputs": [],
   "source": [
    "%%capture\n",
    "%cd kenlm\n",
    "!mkdir build\n",
    "%cd build\n",
    "!cmake ..\n",
    "!make -j 4\n",
    "%cd /tmp"
   ]
  },
  {
   "cell_type": "code",
   "execution_count": 11,
   "id": "outer-renaissance",
   "metadata": {
    "execution": {
     "iopub.execute_input": "2021-05-30T13:57:21.089771Z",
     "iopub.status.busy": "2021-05-30T13:57:21.088757Z",
     "iopub.status.idle": "2021-05-30T13:57:21.091012Z",
     "shell.execute_reply": "2021-05-30T13:57:21.091601Z",
     "shell.execute_reply.started": "2021-05-25T22:58:58.397816Z"
    },
    "papermill": {
     "duration": 0.043271,
     "end_time": "2021-05-30T13:57:21.091759",
     "exception": false,
     "start_time": "2021-05-30T13:57:21.048488",
     "status": "completed"
    },
    "tags": []
   },
   "outputs": [],
   "source": [
    "import os\n",
    "os.environ['PATH'] = f\"{os.environ['PATH']}:/tmp/kenlm/build/bin/\"\n",
    "os.environ['FAIRSEQ_ROOT'] = '/tmp/fairseq'"
   ]
  },
  {
   "cell_type": "code",
   "execution_count": 12,
   "id": "interstate-generation",
   "metadata": {
    "execution": {
     "iopub.execute_input": "2021-05-30T13:57:21.162689Z",
     "iopub.status.busy": "2021-05-30T13:57:21.161746Z",
     "iopub.status.idle": "2021-05-30T13:57:21.953492Z",
     "shell.execute_reply": "2021-05-30T13:57:21.952108Z",
     "shell.execute_reply.started": "2021-05-25T22:55:06.647826Z"
    },
    "papermill": {
     "duration": 0.828548,
     "end_time": "2021-05-30T13:57:21.953647",
     "exception": false,
     "start_time": "2021-05-30T13:57:21.125099",
     "status": "completed"
    },
    "tags": []
   },
   "outputs": [],
   "source": [
    "!cat /kaggle/input/wav2vec-u-cv-swedish-audio/*.wrd | grep -v '^$' | sort| uniq > /kaggle/working/sentences.txt\n"
   ]
  },
  {
   "cell_type": "code",
   "execution_count": 13,
   "id": "expected-courtesy",
   "metadata": {
    "execution": {
     "iopub.execute_input": "2021-05-30T13:57:22.027133Z",
     "iopub.status.busy": "2021-05-30T13:57:22.026138Z",
     "iopub.status.idle": "2021-05-30T13:57:22.031453Z",
     "shell.execute_reply": "2021-05-30T13:57:22.032105Z",
     "shell.execute_reply.started": "2021-05-25T22:55:38.373919Z"
    },
    "papermill": {
     "duration": 0.044878,
     "end_time": "2021-05-30T13:57:22.032328",
     "exception": false,
     "start_time": "2021-05-30T13:57:21.987450",
     "status": "completed"
    },
    "tags": []
   },
   "outputs": [
    {
     "name": "stdout",
     "output_type": "stream",
     "text": [
      "/tmp/fairseq/examples/wav2vec/unsupervised\n"
     ]
    }
   ],
   "source": [
    "%cd fairseq/examples/wav2vec/unsupervised"
   ]
  },
  {
   "cell_type": "code",
   "execution_count": 14,
   "id": "tender-compression",
   "metadata": {
    "execution": {
     "iopub.execute_input": "2021-05-30T13:57:22.110133Z",
     "iopub.status.busy": "2021-05-30T13:57:22.105901Z",
     "iopub.status.idle": "2021-05-30T13:57:27.523309Z",
     "shell.execute_reply": "2021-05-30T13:57:27.522759Z"
    },
    "papermill": {
     "duration": 5.456884,
     "end_time": "2021-05-30T13:57:27.523462",
     "exception": false,
     "start_time": "2021-05-30T13:57:22.066578",
     "status": "completed"
    },
    "tags": []
   },
   "outputs": [],
   "source": [
    "%%capture\n",
    "!apt-get -y install zsh"
   ]
  },
  {
   "cell_type": "code",
   "execution_count": 15,
   "id": "furnished-doctrine",
   "metadata": {
    "execution": {
     "iopub.execute_input": "2021-05-30T13:57:27.599740Z",
     "iopub.status.busy": "2021-05-30T13:57:27.599119Z",
     "iopub.status.idle": "2021-05-30T13:57:28.331014Z",
     "shell.execute_reply": "2021-05-30T13:57:28.330368Z",
     "shell.execute_reply.started": "2021-05-25T22:58:19.000595Z"
    },
    "papermill": {
     "duration": 0.770704,
     "end_time": "2021-05-30T13:57:28.331173",
     "exception": false,
     "start_time": "2021-05-30T13:57:27.560469",
     "status": "completed"
    },
    "tags": []
   },
   "outputs": [],
   "source": [
    "!mkdir /kaggle/working/preppedtext"
   ]
  },
  {
   "cell_type": "code",
   "execution_count": 16,
   "id": "posted-directive",
   "metadata": {
    "execution": {
     "iopub.execute_input": "2021-05-30T13:57:28.408751Z",
     "iopub.status.busy": "2021-05-30T13:57:28.407800Z",
     "iopub.status.idle": "2021-05-30T13:57:28.412902Z",
     "shell.execute_reply": "2021-05-30T13:57:28.412157Z",
     "shell.execute_reply.started": "2021-05-25T23:04:33.0148Z"
    },
    "papermill": {
     "duration": 0.045209,
     "end_time": "2021-05-30T13:57:28.413093",
     "exception": false,
     "start_time": "2021-05-30T13:57:28.367884",
     "status": "completed"
    },
    "tags": []
   },
   "outputs": [
    {
     "name": "stdout",
     "output_type": "stream",
     "text": [
      "/tmp/fairseq/examples/wav2vec/unsupervised/scripts\n"
     ]
    }
   ],
   "source": [
    "%cd scripts"
   ]
  },
  {
   "cell_type": "markdown",
   "id": "induced-identification",
   "metadata": {
    "papermill": {
     "duration": 0.034123,
     "end_time": "2021-05-30T13:57:28.482635",
     "exception": false,
     "start_time": "2021-05-30T13:57:28.448512",
     "status": "completed"
    },
    "tags": []
   },
   "source": [
    "The next part requires a FastText language id model; I don't know where the 187 language model comes from, but there is a model for 176 languages [here](https://fasttext.cc/docs/en/language-identification.html#content)"
   ]
  },
  {
   "cell_type": "code",
   "execution_count": 17,
   "id": "municipal-worth",
   "metadata": {
    "execution": {
     "iopub.execute_input": "2021-05-30T13:57:28.556682Z",
     "iopub.status.busy": "2021-05-30T13:57:28.556051Z",
     "iopub.status.idle": "2021-05-30T13:57:32.047015Z",
     "shell.execute_reply": "2021-05-30T13:57:32.046447Z",
     "shell.execute_reply.started": "2021-05-25T23:26:05.700782Z"
    },
    "papermill": {
     "duration": 3.529922,
     "end_time": "2021-05-30T13:57:32.047171",
     "exception": false,
     "start_time": "2021-05-30T13:57:28.517249",
     "status": "completed"
    },
    "tags": []
   },
   "outputs": [
    {
     "name": "stdout",
     "output_type": "stream",
     "text": [
      "--2021-05-30 13:57:29--  https://dl.fbaipublicfiles.com/fasttext/supervised-models/lid.176.bin\r\n",
      "Resolving dl.fbaipublicfiles.com (dl.fbaipublicfiles.com)... 172.67.9.4, 104.22.74.142, 104.22.75.142, ...\r\n",
      "Connecting to dl.fbaipublicfiles.com (dl.fbaipublicfiles.com)|172.67.9.4|:443... connected.\r\n",
      "HTTP request sent, awaiting response... 200 OK\r\n",
      "Length: 131266198 (125M) [application/octet-stream]\r\n",
      "Saving to: ‘lid.176.bin’\r\n",
      "\r\n",
      "lid.176.bin         100%[===================>] 125.18M  52.9MB/s    in 2.4s    \r\n",
      "\r\n",
      "2021-05-30 13:57:31 (52.9 MB/s) - ‘lid.176.bin’ saved [131266198/131266198]\r\n",
      "\r\n"
     ]
    }
   ],
   "source": [
    "!wget https://dl.fbaipublicfiles.com/fasttext/supervised-models/lid.176.bin"
   ]
  },
  {
   "cell_type": "code",
   "execution_count": 18,
   "id": "actual-characteristic",
   "metadata": {
    "execution": {
     "iopub.execute_input": "2021-05-30T13:57:32.135143Z",
     "iopub.status.busy": "2021-05-30T13:57:32.131367Z",
     "iopub.status.idle": "2021-05-30T13:57:33.585589Z",
     "shell.execute_reply": "2021-05-30T13:57:33.584657Z",
     "shell.execute_reply.started": "2021-05-25T23:28:29.362953Z"
    },
    "papermill": {
     "duration": 1.499266,
     "end_time": "2021-05-30T13:57:33.585759",
     "exception": false,
     "start_time": "2021-05-30T13:57:32.086493",
     "status": "completed"
    },
    "tags": []
   },
   "outputs": [],
   "source": [
    "!cat normalize_and_filter_text.py|sed -e 's/187/176/' > tmp\n",
    "!mv tmp normalize_and_filter_text.py"
   ]
  },
  {
   "cell_type": "code",
   "execution_count": 19,
   "id": "lyric-surfing",
   "metadata": {
    "execution": {
     "iopub.execute_input": "2021-05-30T13:57:33.669391Z",
     "iopub.status.busy": "2021-05-30T13:57:33.668463Z",
     "iopub.status.idle": "2021-05-30T13:57:33.671529Z",
     "shell.execute_reply": "2021-05-30T13:57:33.671073Z"
    },
    "papermill": {
     "duration": 0.046318,
     "end_time": "2021-05-30T13:57:33.671661",
     "exception": false,
     "start_time": "2021-05-30T13:57:33.625343",
     "status": "completed"
    },
    "tags": []
   },
   "outputs": [],
   "source": [
    "# Needed to see what's going wrong\n",
    "os.environ['HYDRA_FULL_ERROR'] = '1'"
   ]
  },
  {
   "cell_type": "code",
   "execution_count": 20,
   "id": "oriented-delicious",
   "metadata": {
    "execution": {
     "iopub.execute_input": "2021-05-30T13:57:33.759648Z",
     "iopub.status.busy": "2021-05-30T13:57:33.758991Z",
     "iopub.status.idle": "2021-05-30T13:57:34.470629Z",
     "shell.execute_reply": "2021-05-30T13:57:34.471112Z"
    },
    "papermill": {
     "duration": 0.760825,
     "end_time": "2021-05-30T13:57:34.471291",
     "exception": false,
     "start_time": "2021-05-30T13:57:33.710466",
     "status": "completed"
    },
    "tags": []
   },
   "outputs": [],
   "source": [
    "!mkdir /tmp/fairseq/examples/speech_recognition/kaldi/config"
   ]
  },
  {
   "cell_type": "markdown",
   "id": "dried-separation",
   "metadata": {
    "papermill": {
     "duration": 0.038587,
     "end_time": "2021-05-30T13:57:34.549008",
     "exception": false,
     "start_time": "2021-05-30T13:57:34.510421",
     "status": "completed"
    },
    "tags": []
   },
   "source": [
    "There are two lines with missing variables in `prepare_text.sh` - [pull request](https://github.com/pytorch/fairseq/pull/3569) - so replace the file.\n",
    "\n",
    "While I'm replacing the file: most of the first part of the script is unneeded, as I already have a phonetic dictionary, so I'm use that instead.\n",
    "\n",
    "With the calls of the `preprocess.py` script, make sure to check the threshold: there's a divide by zero if the threshold is set too high."
   ]
  },
  {
   "cell_type": "code",
   "execution_count": 21,
   "id": "informed-contributor",
   "metadata": {
    "_kg_hide-input": true,
    "execution": {
     "iopub.execute_input": "2021-05-30T13:57:34.634478Z",
     "iopub.status.busy": "2021-05-30T13:57:34.633673Z",
     "iopub.status.idle": "2021-05-30T13:57:34.638757Z",
     "shell.execute_reply": "2021-05-30T13:57:34.637927Z"
    },
    "papermill": {
     "duration": 0.051532,
     "end_time": "2021-05-30T13:57:34.638948",
     "exception": false,
     "start_time": "2021-05-30T13:57:34.587416",
     "status": "completed"
    },
    "tags": []
   },
   "outputs": [
    {
     "name": "stdout",
     "output_type": "stream",
     "text": [
      "Overwriting prepare_text.sh\n"
     ]
    }
   ],
   "source": [
    "%%writefile prepare_text.sh\n",
    "#!/usr/bin/env zsh\n",
    "# Copyright (c) Facebook, Inc. and its affiliates.\n",
    "#\n",
    "# This source code is licensed under the MIT license found in the\n",
    "# LICENSE file in the root directory of this source tree.\n",
    "\n",
    "lg=$1\n",
    "text_path=$2\n",
    "target_dir=$3\n",
    "\n",
    "#ph_lg=${lg:l}\n",
    "#if test \"$lg\" = 'fr'; then\n",
    "#  ph_lg='fr-fr'\n",
    "#elif test \"$lg\" = 'en'; then\n",
    "#  ph_lg='en-us'\n",
    "#elif test \"$lg\" = 'pt'; then\n",
    "#  ph_lg='pt-br'\n",
    "#fi\n",
    "ph_lg=\"sv\"\n",
    "\n",
    "echo $lg\n",
    "echo $ph_lg\n",
    "echo $text_path\n",
    "echo $target_dir\n",
    "\n",
    "mkdir -p $target_dir\n",
    "#python normalize_and_filter_text.py --lang $lg < $text_path | grep -v '\\-\\-\\-' >! $target_dir/lm.upper.lid.txt\n",
    "#python $FAIRSEQ_ROOT/fairseq_cli/preprocess.py --dataset-impl mmap --trainpref $target_dir/lm.upper.lid.txt --only-source --destdir $target_dir --thresholdsrc 2 --padding-factor 1 --dict-only\n",
    "#cut -f1 -d' ' $target_dir/dict.txt | grep -v -x '[[:punct:]]*' | grep -Pv '\\d\\d\\d\\d\\d+' >! $target_dir/words.txt\n",
    "cp /kaggle/input/wav2vec-u-cv-swedish-audio/train.wrd $target_dir/lm.upper.lid.txt\n",
    "cut -f1 -d' ' /kaggle/input/wav2vec-u-cv-swedish-audio/dict.train >! $target_dir/words.txt\n",
    "\n",
    "#one=$(echo \"1\" | PHONEMIZER_ESPEAK_PATH=$(which espeak) phonemize -p ' ' -w '' -l $ph_lg --language-switch remove-flags)\n",
    "#sed 's/$/ 1/' $target_dir/words.txt | PHONEMIZER_ESPEAK_PATH=$(which espeak) phonemize -o $target_dir/phones.txt -p ' ' -w '' -l $ph_lg -j 70 --language-switch remove-flags\n",
    "cut -f2- -d' ' /kaggle/input/wav2vec-u-cv-swedish-audio/dict.train >! $target_dir/phones.txt\n",
    "\n",
    "#echo \"one is ${one}\"\n",
    "\n",
    "#sed -i \"s/${one}$//\" $target_dir/phones.txt\n",
    "#paste $target_dir/words.txt $target_dir/phones.txt >! $target_dir/lexicon.lst\n",
    "cp /kaggle/input/wav2vec-u-cv-swedish-audio/dict.train $target_dir/lexicon.lst\n",
    "\n",
    "#python $FAIRSEQ_ROOT/fairseq_cli/preprocess.py --dataset-impl mmap --trainpref $target_dir/phones.txt --only-source --destdir $target_dir/phones --thresholdsrc 1000 --padding-factor 1 --dict-only\n",
    "python $FAIRSEQ_ROOT/fairseq_cli/preprocess.py --dataset-impl mmap --trainpref $target_dir/phones.txt --only-source --destdir $target_dir/phones --thresholdsrc 2 --padding-factor 1 --dict-only\n",
    "\n",
    "python filter_lexicon.py -d $target_dir/phones/dict.txt < $target_dir/lexicon.lst >! $target_dir/lexicon_filtered.lst\n",
    "python phonemize_with_sil.py -s 0.25 --surround --lexicon $target_dir/lexicon_filtered.lst < $target_dir/lm.upper.lid.txt >! $target_dir/phones/lm.phones.filtered.txt\n",
    "cp $target_dir/phones/dict.txt $target_dir/phones/dict.phn.txt\n",
    "echo \"<SIL> 0\" >> $target_dir/phones/dict.phn.txt\n",
    "python $FAIRSEQ_ROOT/fairseq_cli/preprocess.py --dataset-impl mmap --trainpref $target_dir/phones/lm.phones.filtered.txt --workers 70 --only-source --destdir $target_dir/phones --srcdict $target_dir/phones/dict.phn.txt\n",
    "\n",
    "lmplz -o 4 < $target_dir/lm.upper.lid.txt --discount_fallback --prune 0 0 0 3 >! $target_dir/kenlm.wrd.o40003.arpa\n",
    "build_binary $target_dir/kenlm.wrd.o40003.arpa $target_dir/kenlm.wrd.o40003.bin\n",
    "lg=$lg python $FAIRSEQ_ROOT/examples/speech_recognition/kaldi/kaldi_initializer.py fst_dir=$target_dir/fst/phn_to_words_sil lm_arpa=$target_dir/kenlm.wrd.o40003.arpa wav2letter_lexicon=$target_dir/lexicon_filtered.lst data_dir=$target_dir/phones \"blank_symbol='<SIL>'\" \"in_label='phn_to_words_sil'\"\n",
    "lg=$lg python $FAIRSEQ_ROOT/examples/speech_recognition/kaldi/kaldi_initializer.py fst_dir=$target_dir/fst/phn_to_words lm_arpa=$target_dir/kenlm.wrd.o40003.arpa wav2letter_lexicon=$target_dir/lexicon_filtered.lst data_dir=$target_dir/phones  \"in_label='phn_to_words'\"\n",
    "\n",
    "lmplz -o 4 < $target_dir/phones/lm.phones.filtered.txt --discount_fallback >! $target_dir/phones/lm.phones.filtered.04.arpa\n",
    "build_binary -s $target_dir/phones/lm.phones.filtered.04.arpa $target_dir/phones/lm.phones.filtered.04.bin\n",
    "lmplz -o 6 < $target_dir/phones/lm.phones.filtered.txt --discount_fallback >! $target_dir/phones/lm.phones.filtered.06.arpa\n",
    "build_binary -s $target_dir/phones/lm.phones.filtered.06.arpa $target_dir/phones/lm.phones.filtered.06.bin\n",
    "\n",
    "lg=$lg python $FAIRSEQ_ROOT/examples/speech_recognition/kaldi/kaldi_initializer.py fst_dir=$target_dir/fst/phn_to_phn_sil lm_arpa=$target_dir/phones/lm.phones.filtered.06.arpa data_dir=$target_dir/phones \"blank_symbol='<SIL>'\" \"in_label='phn_to_phn_sil'\""
   ]
  },
  {
   "cell_type": "markdown",
   "id": "exotic-despite",
   "metadata": {
    "papermill": {
     "duration": 0.039543,
     "end_time": "2021-05-30T13:57:34.719042",
     "exception": false,
     "start_time": "2021-05-30T13:57:34.679499",
     "status": "completed"
    },
    "tags": []
   },
   "source": [
    "`config.yaml` needs to exist. Most of the options are set on the command line, but not everything: `in_labels`, `out_labels`, `kaldi_root` and (for one run) `silence_symbol`. The options are:\n",
    "\n",
    "- `in_labels`\n",
    "- `wav2letter_lexicon`: path to wav2letter lexicon: set on the command line\n",
    "- `out_labels`\n",
    "- `kaldi_root`: path to Kaldi: `/opt/kaldi` for my kaggle image\n",
    "- `fst_dir`: path where generated fsts will be saved: set on the command line\n",
    "- `data_dir`: path to phones data: set on the command line\n",
    "- `lm_arpa`: path to the lm in ARPA format: set on the command line\n",
    "- `blank_symbol`: CTC blank symbol (`<s>` is used in the script)\n",
    "- `silence_symbol`: Kaldi symbol for silence (`<SIL>` is set on the command line for two of the scripts)\n",
    "\n"
   ]
  },
  {
   "cell_type": "code",
   "execution_count": 22,
   "id": "executed-input",
   "metadata": {
    "execution": {
     "iopub.execute_input": "2021-05-30T13:57:34.803511Z",
     "iopub.status.busy": "2021-05-30T13:57:34.802599Z",
     "iopub.status.idle": "2021-05-30T13:57:34.806958Z",
     "shell.execute_reply": "2021-05-30T13:57:34.806403Z"
    },
    "papermill": {
     "duration": 0.048351,
     "end_time": "2021-05-30T13:57:34.807094",
     "exception": false,
     "start_time": "2021-05-30T13:57:34.758743",
     "status": "completed"
    },
    "tags": []
   },
   "outputs": [
    {
     "name": "stdout",
     "output_type": "stream",
     "text": [
      "Writing /tmp/fairseq/examples/speech_recognition/kaldi/config/config.yaml\n"
     ]
    }
   ],
   "source": [
    "%%writefile /tmp/fairseq/examples/speech_recognition/kaldi/config/config.yaml\n",
    "kaldi_root: \"/opt/kaldi\""
   ]
  },
  {
   "cell_type": "code",
   "execution_count": 23,
   "id": "biblical-fundamental",
   "metadata": {
    "execution": {
     "iopub.execute_input": "2021-05-30T13:57:34.896730Z",
     "iopub.status.busy": "2021-05-30T13:57:34.896100Z",
     "iopub.status.idle": "2021-05-30T13:58:00.949052Z",
     "shell.execute_reply": "2021-05-30T13:58:00.948470Z",
     "shell.execute_reply.started": "2021-05-25T23:28:33.84656Z"
    },
    "papermill": {
     "duration": 26.102079,
     "end_time": "2021-05-30T13:58:00.949228",
     "exception": false,
     "start_time": "2021-05-30T13:57:34.847149",
     "status": "completed"
    },
    "tags": []
   },
   "outputs": [
    {
     "name": "stdout",
     "output_type": "stream",
     "text": [
      "sv\r\n",
      "sv\r\n",
      "/kaggle/working/sentences.txt\r\n",
      "/kaggle/working/preppedtext\r\n",
      "=== 1/5 Counting and sorting n-grams ===\r\n",
      "Reading /kaggle/working/preppedtext/lm.upper.lid.txt\r\n",
      "----5---10---15---20---25---30---35---40---45---50---55---60---65---70---75---80---85---90---95--100\r\n",
      "****************************************************************************************************\r\n",
      "Unigram tokens 14359 types 3160\r\n",
      "=== 2/5 Calculating and sorting adjusted counts ===\r\n",
      "Chain sizes: 1:37920 2:2571431424 3:4821433856 4:7714294272\r\n",
      "Statistics:\r\n",
      "1 3160 D1=0.722623 D2=1.14413 D3+=1.45956\r\n",
      "2 10285 D1=0.848104 D2=1.2466 D3+=1.46191\r\n",
      "3 12632 D1=0.943362 D2=1.24166 D3+=1.32723\r\n",
      "4 19/11699 D1=0.970399 D2=1.4843 D3+=2.12351\r\n",
      "Memory estimate for binary LM:\r\n",
      "type     kB\r\n",
      "probing 617 assuming -p 1.5\r\n",
      "probing 764 assuming -r models -p 1.5\r\n",
      "trie    309 without quantization\r\n",
      "trie    182 assuming -q 8 -b 8 quantization \r\n",
      "trie    293 assuming -a 22 array pointer compression\r\n",
      "trie    166 assuming -a 22 -q 8 -b 8 array pointer compression and quantization\r\n",
      "=== 3/5 Calculating and sorting initial probabilities ===\r\n",
      "Chain sizes: 1:37920 2:164560 3:252640 4:456\r\n",
      "----5---10---15---20---25---30---35---40---45---50---55---60---65---70---75---80---85---90---95--100\r\n",
      "####################################################################################################\r\n",
      "=== 4/5 Calculating and writing order-interpolated probabilities ===\r\n",
      "Chain sizes: 1:37920 2:164560 3:252640 4:456\r\n",
      "----5---10---15---20---25---30---35---40---45---50---55---60---65---70---75---80---85---90---95--100\r\n",
      "####################################################################################################\r\n",
      "=== 5/5 Writing ARPA model ===\r\n",
      "----5---10---15---20---25---30---35---40---45---50---55---60---65---70---75---80---85---90---95--100\r\n",
      "****************************************************************************************************\r\n",
      "Name:lmplz\tVmPeak:14916876 kB\tVmRSS:6472 kB\tRSSMax:2975176 kB\tuser:0.455012\tsys:3.0555\tCPU:3.51056\treal:3.51687\r\n",
      "Reading /kaggle/working/preppedtext/kenlm.wrd.o40003.arpa\r\n",
      "----5---10---15---20---25---30---35---40---45---50---55---60---65---70---75---80---85---90---95--100\r\n",
      "****************************************************************************************************\r\n",
      "SUCCESS\r\n",
      "Traceback (most recent call last):\r\n",
      "  File \"/opt/conda/lib/python3.7/site-packages/hydra/_internal/config_loader_impl.py\", line 513, in _apply_overrides_to_config\r\n",
      "    OmegaConf.update(cfg, key, value, merge=True)\r\n",
      "  File \"/opt/conda/lib/python3.7/site-packages/omegaconf/omegaconf.py\", line 613, in update\r\n",
      "    root.__setattr__(last_key, value)\r\n",
      "  File \"/opt/conda/lib/python3.7/site-packages/omegaconf/dictconfig.py\", line 285, in __setattr__\r\n",
      "    raise e\r\n",
      "  File \"/opt/conda/lib/python3.7/site-packages/omegaconf/dictconfig.py\", line 282, in __setattr__\r\n",
      "    self.__set_impl(key, value)\r\n",
      "  File \"/opt/conda/lib/python3.7/site-packages/omegaconf/dictconfig.py\", line 266, in __set_impl\r\n",
      "    self._set_item_impl(key, value)\r\n",
      "  File \"/opt/conda/lib/python3.7/site-packages/omegaconf/basecontainer.py\", line 398, in _set_item_impl\r\n",
      "    self._validate_set(key, value)\r\n",
      "  File \"/opt/conda/lib/python3.7/site-packages/omegaconf/dictconfig.py\", line 143, in _validate_set\r\n",
      "    self._validate_set_merge_impl(key, value, is_assign=True)\r\n",
      "  File \"/opt/conda/lib/python3.7/site-packages/omegaconf/dictconfig.py\", line 176, in _validate_set_merge_impl\r\n",
      "    target = self._get_node(key)\r\n",
      "  File \"/opt/conda/lib/python3.7/site-packages/omegaconf/dictconfig.py\", line 383, in _get_node\r\n",
      "    self._validate_get(key)\r\n",
      "  File \"/opt/conda/lib/python3.7/site-packages/omegaconf/dictconfig.py\", line 136, in _validate_get\r\n",
      "    key=key, value=value, cause=ConfigAttributeError(msg)\r\n",
      "  File \"/opt/conda/lib/python3.7/site-packages/omegaconf/base.py\", line 101, in _format_and_raise\r\n",
      "    type_override=type_override,\r\n",
      "  File \"/opt/conda/lib/python3.7/site-packages/omegaconf/_utils.py\", line 694, in format_and_raise\r\n",
      "    _raise(ex, cause)\r\n",
      "  File \"/opt/conda/lib/python3.7/site-packages/omegaconf/_utils.py\", line 610, in _raise\r\n",
      "    raise ex  # set end OC_CAUSE=1 for full backtrace\r\n",
      "omegaconf.errors.ConfigAttributeError: Key 'in_label' not in 'KaldiInitializerConfig'\r\n",
      "\tfull_key: in_label\r\n",
      "\treference_type=Optional[KaldiInitializerConfig]\r\n",
      "\tobject_type=KaldiInitializerConfig\r\n",
      "\r\n",
      "The above exception was the direct cause of the following exception:\r\n",
      "\r\n",
      "Traceback (most recent call last):\r\n",
      "  File \"/tmp/fairseq/examples/speech_recognition/kaldi/kaldi_initializer.py\", line 698, in <module>\r\n",
      "    cli_main()\r\n",
      "  File \"/opt/conda/lib/python3.7/site-packages/hydra/main.py\", line 37, in decorated_main\r\n",
      "    strict=strict,\r\n",
      "  File \"/opt/conda/lib/python3.7/site-packages/hydra/_internal/utils.py\", line 347, in _run_hydra\r\n",
      "    lambda: hydra.run(\r\n",
      "  File \"/opt/conda/lib/python3.7/site-packages/hydra/_internal/utils.py\", line 201, in run_and_report\r\n",
      "    raise ex\r\n",
      "  File \"/opt/conda/lib/python3.7/site-packages/hydra/_internal/utils.py\", line 198, in run_and_report\r\n",
      "    return func()\r\n",
      "  File \"/opt/conda/lib/python3.7/site-packages/hydra/_internal/utils.py\", line 350, in <lambda>\r\n",
      "    overrides=args.overrides,\r\n",
      "  File \"/opt/conda/lib/python3.7/site-packages/hydra/_internal/hydra.py\", line 104, in run\r\n",
      "    run_mode=RunMode.RUN,\r\n",
      "  File \"/opt/conda/lib/python3.7/site-packages/hydra/_internal/hydra.py\", line 512, in compose_config\r\n",
      "    from_shell=from_shell,\r\n",
      "  File \"/opt/conda/lib/python3.7/site-packages/hydra/_internal/config_loader_impl.py\", line 156, in load_configuration\r\n",
      "    from_shell=from_shell,\r\n",
      "  File \"/opt/conda/lib/python3.7/site-packages/hydra/_internal/config_loader_impl.py\", line 277, in _load_configuration\r\n",
      "    ConfigLoaderImpl._apply_overrides_to_config(config_overrides, cfg)\r\n",
      "  File \"/opt/conda/lib/python3.7/site-packages/hydra/_internal/config_loader_impl.py\", line 518, in _apply_overrides_to_config\r\n",
      "    ) from ex\r\n",
      "hydra.errors.ConfigCompositionException: Could not override 'in_label'.\r\n",
      "To append to your config use +in_label='phn_to_words_sil'\r\n",
      "Traceback (most recent call last):\r\n",
      "  File \"/opt/conda/lib/python3.7/site-packages/hydra/_internal/config_loader_impl.py\", line 513, in _apply_overrides_to_config\r\n",
      "    OmegaConf.update(cfg, key, value, merge=True)\r\n",
      "  File \"/opt/conda/lib/python3.7/site-packages/omegaconf/omegaconf.py\", line 613, in update\r\n",
      "    root.__setattr__(last_key, value)\r\n",
      "  File \"/opt/conda/lib/python3.7/site-packages/omegaconf/dictconfig.py\", line 285, in __setattr__\r\n",
      "    raise e\r\n",
      "  File \"/opt/conda/lib/python3.7/site-packages/omegaconf/dictconfig.py\", line 282, in __setattr__\r\n",
      "    self.__set_impl(key, value)\r\n",
      "  File \"/opt/conda/lib/python3.7/site-packages/omegaconf/dictconfig.py\", line 266, in __set_impl\r\n",
      "    self._set_item_impl(key, value)\r\n",
      "  File \"/opt/conda/lib/python3.7/site-packages/omegaconf/basecontainer.py\", line 398, in _set_item_impl\r\n",
      "    self._validate_set(key, value)\r\n",
      "  File \"/opt/conda/lib/python3.7/site-packages/omegaconf/dictconfig.py\", line 143, in _validate_set\r\n",
      "    self._validate_set_merge_impl(key, value, is_assign=True)\r\n",
      "  File \"/opt/conda/lib/python3.7/site-packages/omegaconf/dictconfig.py\", line 176, in _validate_set_merge_impl\r\n",
      "    target = self._get_node(key)\r\n",
      "  File \"/opt/conda/lib/python3.7/site-packages/omegaconf/dictconfig.py\", line 383, in _get_node\r\n",
      "    self._validate_get(key)\r\n",
      "  File \"/opt/conda/lib/python3.7/site-packages/omegaconf/dictconfig.py\", line 136, in _validate_get\r\n",
      "    key=key, value=value, cause=ConfigAttributeError(msg)\r\n",
      "  File \"/opt/conda/lib/python3.7/site-packages/omegaconf/base.py\", line 101, in _format_and_raise\r\n",
      "    type_override=type_override,\r\n",
      "  File \"/opt/conda/lib/python3.7/site-packages/omegaconf/_utils.py\", line 694, in format_and_raise\r\n",
      "    _raise(ex, cause)\r\n",
      "  File \"/opt/conda/lib/python3.7/site-packages/omegaconf/_utils.py\", line 610, in _raise\r\n",
      "    raise ex  # set end OC_CAUSE=1 for full backtrace\r\n",
      "omegaconf.errors.ConfigAttributeError: Key 'in_label' not in 'KaldiInitializerConfig'\r\n",
      "\tfull_key: in_label\r\n",
      "\treference_type=Optional[KaldiInitializerConfig]\r\n",
      "\tobject_type=KaldiInitializerConfig\r\n",
      "\r\n",
      "The above exception was the direct cause of the following exception:\r\n",
      "\r\n",
      "Traceback (most recent call last):\r\n",
      "  File \"/tmp/fairseq/examples/speech_recognition/kaldi/kaldi_initializer.py\", line 698, in <module>\r\n",
      "    cli_main()\r\n",
      "  File \"/opt/conda/lib/python3.7/site-packages/hydra/main.py\", line 37, in decorated_main\r\n",
      "    strict=strict,\r\n",
      "  File \"/opt/conda/lib/python3.7/site-packages/hydra/_internal/utils.py\", line 347, in _run_hydra\r\n",
      "    lambda: hydra.run(\r\n",
      "  File \"/opt/conda/lib/python3.7/site-packages/hydra/_internal/utils.py\", line 201, in run_and_report\r\n",
      "    raise ex\r\n",
      "  File \"/opt/conda/lib/python3.7/site-packages/hydra/_internal/utils.py\", line 198, in run_and_report\r\n",
      "    return func()\r\n",
      "  File \"/opt/conda/lib/python3.7/site-packages/hydra/_internal/utils.py\", line 350, in <lambda>\r\n",
      "    overrides=args.overrides,\r\n",
      "  File \"/opt/conda/lib/python3.7/site-packages/hydra/_internal/hydra.py\", line 104, in run\r\n",
      "    run_mode=RunMode.RUN,\r\n",
      "  File \"/opt/conda/lib/python3.7/site-packages/hydra/_internal/hydra.py\", line 512, in compose_config\r\n",
      "    from_shell=from_shell,\r\n",
      "  File \"/opt/conda/lib/python3.7/site-packages/hydra/_internal/config_loader_impl.py\", line 156, in load_configuration\r\n",
      "    from_shell=from_shell,\r\n",
      "  File \"/opt/conda/lib/python3.7/site-packages/hydra/_internal/config_loader_impl.py\", line 277, in _load_configuration\r\n",
      "    ConfigLoaderImpl._apply_overrides_to_config(config_overrides, cfg)\r\n",
      "  File \"/opt/conda/lib/python3.7/site-packages/hydra/_internal/config_loader_impl.py\", line 518, in _apply_overrides_to_config\r\n",
      "    ) from ex\r\n",
      "hydra.errors.ConfigCompositionException: Could not override 'in_label'.\r\n",
      "To append to your config use +in_label='phn_to_words'\r\n",
      "=== 1/5 Counting and sorting n-grams ===\r\n",
      "Reading /kaggle/working/preppedtext/phones/lm.phones.filtered.txt\r\n",
      "----5---10---15---20---25---30---35---40---45---50---55---60---65---70---75---80---85---90---95--100\r\n",
      "****************************************************************************************************\r\n",
      "Unigram tokens 63708 types 44\r\n",
      "=== 2/5 Calculating and sorting adjusted counts ===\r\n",
      "Chain sizes: 1:528 2:2571437824 3:4821446144 4:7714313728\r\n",
      "Substituting fallback discounts for order 0: D1=0.5 D2=1 D3+=1.5\r\n",
      "Statistics:\r\n",
      "1 44 D1=0.5 D2=1 D3+=1.5\r\n",
      "2 1052 D1=0.456044 D2=0.659507 D3+=1.74\r\n",
      "3 8511 D1=0.549554 D2=1.19148 D3+=1.43867\r\n",
      "4 23131 D1=0.648047 D2=1.12935 D3+=1.54463\r\n",
      "Memory estimate for binary LM:\r\n",
      "type     kB\r\n",
      "probing 631 assuming -p 1.5\r\n",
      "probing 688 assuming -r models -p 1.5\r\n",
      "trie    203 without quantization\r\n",
      "trie     88 assuming -q 8 -b 8 quantization \r\n",
      "trie    196 assuming -a 22 array pointer compression\r\n",
      "trie     81 assuming -a 22 -q 8 -b 8 array pointer compression and quantization\r\n",
      "=== 3/5 Calculating and sorting initial probabilities ===\r\n",
      "Chain sizes: 1:528 2:16832 3:170220 4:555144\r\n",
      "----5---10---15---20---25---30---35---40---45---50---55---60---65---70---75---80---85---90---95--100\r\n",
      "####################################################################################################\r\n",
      "=== 4/5 Calculating and writing order-interpolated probabilities ===\r\n",
      "Chain sizes: 1:528 2:16832 3:170220 4:555144\r\n",
      "----5---10---15---20---25---30---35---40---45---50---55---60---65---70---75---80---85---90---95--100\r\n",
      "####################################################################################################\r\n",
      "=== 5/5 Writing ARPA model ===\r\n",
      "----5---10---15---20---25---30---35---40---45---50---55---60---65---70---75---80---85---90---95--100\r\n",
      "****************************************************************************************************\r\n",
      "Name:lmplz\tVmPeak:14925136 kB\tVmRSS:6808 kB\tRSSMax:2973864 kB\tuser:0.446815\tsys:1.56354\tCPU:2.01041\treal:2.00795\r\n",
      "Reading /kaggle/working/preppedtext/phones/lm.phones.filtered.04.arpa\r\n",
      "----5---10---15---20---25---30---35---40---45---50---55---60---65---70---75---80---85---90---95--100\r\n",
      "****************************************************************************************************\r\n",
      "SUCCESS\r\n",
      "=== 1/5 Counting and sorting n-grams ===\r\n",
      "Reading /kaggle/working/preppedtext/phones/lm.phones.filtered.txt\r\n",
      "----5---10---15---20---25---30---35---40---45---50---55---60---65---70---75---80---85---90---95--100\r\n",
      "****************************************************************************************************\r\n",
      "Unigram tokens 63708 types 44\r\n",
      "=== 2/5 Calculating and sorting adjusted counts ===\r\n",
      "Chain sizes: 1:528 2:929673728 3:1743138176 4:2789021184 5:4067322624 6:5578042368\r\n",
      "Substituting fallback discounts for order 0: D1=0.5 D2=1 D3+=1.5\r\n",
      "Statistics:\r\n",
      "1 44 D1=0.5 D2=1 D3+=1.5\r\n",
      "2 1052 D1=0.456044 D2=0.659507 D3+=1.74\r\n",
      "3 8511 D1=0.549554 D2=1.19148 D3+=1.43867\r\n",
      "4 23131 D1=0.705473 D2=1.25633 D3+=1.57647\r\n",
      "5 35942 D1=0.825771 D2=1.31304 D3+=1.56038\r\n",
      "6 43669 D1=0.834805 D2=1.25937 D3+=1.60487\r\n",
      "Memory estimate for binary LM:\r\n",
      "type      kB\r\n",
      "probing 2377 assuming -p 1.5\r\n",
      "probing 2779 assuming -r models -p 1.5\r\n",
      "trie     909 without quantization\r\n",
      "trie     401 assuming -q 8 -b 8 quantization \r\n",
      "trie     839 assuming -a 22 array pointer compression\r\n",
      "trie     332 assuming -a 22 -q 8 -b 8 array pointer compression and quantization\r\n",
      "=== 3/5 Calculating and sorting initial probabilities ===\r\n",
      "Chain sizes: 1:528 2:16832 3:170220 4:555144 5:1006376 6:1397408\r\n",
      "----5---10---15---20---25---30---35---40---45---50---55---60---65---70---75---80---85---90---95--100\r\n",
      "####################################################################################################\r\n",
      "=== 4/5 Calculating and writing order-interpolated probabilities ===\r\n",
      "Chain sizes: 1:528 2:16832 3:170220 4:555144 5:1006376 6:1397408\r\n",
      "----5---10---15---20---25---30---35---40---45---50---55---60---65---70---75---80---85---90---95--100\r\n",
      "####################################################################################################\r\n",
      "=== 5/5 Writing ARPA model ===\r\n",
      "----5---10---15---20---25---30---35---40---45---50---55---60---65---70---75---80---85---90---95--100\r\n",
      "****************************************************************************************************\r\n",
      "Name:lmplz\tVmPeak:14949572 kB\tVmRSS:6400 kB\tRSSMax:2354428 kB\tuser:0.439253\tsys:1.20233\tCPU:1.64163\treal:1.62868\r\n",
      "Reading /kaggle/working/preppedtext/phones/lm.phones.filtered.06.arpa\r\n",
      "----5---10---15---20---25---30---35---40---45---50---55---60---65---70---75---80---85---90---95--100\r\n",
      "****************************************************************************************************\r\n",
      "SUCCESS\r\n",
      "Traceback (most recent call last):\r\n",
      "  File \"/opt/conda/lib/python3.7/site-packages/hydra/_internal/config_loader_impl.py\", line 513, in _apply_overrides_to_config\r\n",
      "    OmegaConf.update(cfg, key, value, merge=True)\r\n",
      "  File \"/opt/conda/lib/python3.7/site-packages/omegaconf/omegaconf.py\", line 613, in update\r\n",
      "    root.__setattr__(last_key, value)\r\n",
      "  File \"/opt/conda/lib/python3.7/site-packages/omegaconf/dictconfig.py\", line 285, in __setattr__\r\n",
      "    raise e\r\n",
      "  File \"/opt/conda/lib/python3.7/site-packages/omegaconf/dictconfig.py\", line 282, in __setattr__\r\n",
      "    self.__set_impl(key, value)\r\n",
      "  File \"/opt/conda/lib/python3.7/site-packages/omegaconf/dictconfig.py\", line 266, in __set_impl\r\n",
      "    self._set_item_impl(key, value)\r\n",
      "  File \"/opt/conda/lib/python3.7/site-packages/omegaconf/basecontainer.py\", line 398, in _set_item_impl\r\n",
      "    self._validate_set(key, value)\r\n",
      "  File \"/opt/conda/lib/python3.7/site-packages/omegaconf/dictconfig.py\", line 143, in _validate_set\r\n",
      "    self._validate_set_merge_impl(key, value, is_assign=True)\r\n",
      "  File \"/opt/conda/lib/python3.7/site-packages/omegaconf/dictconfig.py\", line 176, in _validate_set_merge_impl\r\n",
      "    target = self._get_node(key)\r\n",
      "  File \"/opt/conda/lib/python3.7/site-packages/omegaconf/dictconfig.py\", line 383, in _get_node\r\n",
      "    self._validate_get(key)\r\n",
      "  File \"/opt/conda/lib/python3.7/site-packages/omegaconf/dictconfig.py\", line 136, in _validate_get\r\n",
      "    key=key, value=value, cause=ConfigAttributeError(msg)\r\n",
      "  File \"/opt/conda/lib/python3.7/site-packages/omegaconf/base.py\", line 101, in _format_and_raise\r\n",
      "    type_override=type_override,\r\n",
      "  File \"/opt/conda/lib/python3.7/site-packages/omegaconf/_utils.py\", line 694, in format_and_raise\r\n",
      "    _raise(ex, cause)\r\n",
      "  File \"/opt/conda/lib/python3.7/site-packages/omegaconf/_utils.py\", line 610, in _raise\r\n",
      "    raise ex  # set end OC_CAUSE=1 for full backtrace\r\n",
      "omegaconf.errors.ConfigAttributeError: Key 'in_label' not in 'KaldiInitializerConfig'\r\n",
      "\tfull_key: in_label\r\n",
      "\treference_type=Optional[KaldiInitializerConfig]\r\n",
      "\tobject_type=KaldiInitializerConfig\r\n",
      "\r\n",
      "The above exception was the direct cause of the following exception:\r\n",
      "\r\n",
      "Traceback (most recent call last):\r\n",
      "  File \"/tmp/fairseq/examples/speech_recognition/kaldi/kaldi_initializer.py\", line 698, in <module>\r\n",
      "    cli_main()\r\n",
      "  File \"/opt/conda/lib/python3.7/site-packages/hydra/main.py\", line 37, in decorated_main\r\n",
      "    strict=strict,\r\n",
      "  File \"/opt/conda/lib/python3.7/site-packages/hydra/_internal/utils.py\", line 347, in _run_hydra\r\n",
      "    lambda: hydra.run(\r\n",
      "  File \"/opt/conda/lib/python3.7/site-packages/hydra/_internal/utils.py\", line 201, in run_and_report\r\n",
      "    raise ex\r\n",
      "  File \"/opt/conda/lib/python3.7/site-packages/hydra/_internal/utils.py\", line 198, in run_and_report\r\n",
      "    return func()\r\n",
      "  File \"/opt/conda/lib/python3.7/site-packages/hydra/_internal/utils.py\", line 350, in <lambda>\r\n",
      "    overrides=args.overrides,\r\n",
      "  File \"/opt/conda/lib/python3.7/site-packages/hydra/_internal/hydra.py\", line 104, in run\r\n",
      "    run_mode=RunMode.RUN,\r\n",
      "  File \"/opt/conda/lib/python3.7/site-packages/hydra/_internal/hydra.py\", line 512, in compose_config\r\n",
      "    from_shell=from_shell,\r\n",
      "  File \"/opt/conda/lib/python3.7/site-packages/hydra/_internal/config_loader_impl.py\", line 156, in load_configuration\r\n",
      "    from_shell=from_shell,\r\n",
      "  File \"/opt/conda/lib/python3.7/site-packages/hydra/_internal/config_loader_impl.py\", line 277, in _load_configuration\r\n",
      "    ConfigLoaderImpl._apply_overrides_to_config(config_overrides, cfg)\r\n",
      "  File \"/opt/conda/lib/python3.7/site-packages/hydra/_internal/config_loader_impl.py\", line 518, in _apply_overrides_to_config\r\n",
      "    ) from ex\r\n",
      "hydra.errors.ConfigCompositionException: Could not override 'in_label'.\r\n",
      "To append to your config use +in_label='phn_to_phn_sil'\r\n"
     ]
    }
   ],
   "source": [
    "!zsh prepare_text.sh sv /kaggle/working/sentences.txt /kaggle/working/preppedtext"
   ]
  }
 ],
 "metadata": {
  "kernelspec": {
   "display_name": "Python 3",
   "language": "python",
   "name": "python3"
  },
  "language_info": {
   "codemirror_mode": {
    "name": "ipython",
    "version": 3
   },
   "file_extension": ".py",
   "mimetype": "text/x-python",
   "name": "python",
   "nbconvert_exporter": "python",
   "pygments_lexer": "ipython3",
   "version": "3.7.10"
  },
  "papermill": {
   "default_parameters": {},
   "duration": 248.764633,
   "end_time": "2021-05-30T13:58:02.412509",
   "environment_variables": {},
   "exception": null,
   "input_path": "__notebook__.ipynb",
   "output_path": "__notebook__.ipynb",
   "parameters": {},
   "start_time": "2021-05-30T13:53:53.647876",
   "version": "2.3.3"
  }
 },
 "nbformat": 4,
 "nbformat_minor": 5
}
