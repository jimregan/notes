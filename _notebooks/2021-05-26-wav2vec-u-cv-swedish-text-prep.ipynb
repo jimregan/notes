{
 "cells": [
  {
   "cell_type": "code",
   "execution_count": 1,
   "id": "confident-invalid",
   "metadata": {
    "_cell_guid": "b1076dfc-b9ad-4769-8c92-a6c4dae69d19",
    "_uuid": "8f2839f25d086af736a60e9eeb907d3b93b6e0e5",
    "execution": {
     "iopub.execute_input": "2021-05-30T14:01:07.941825Z",
     "iopub.status.busy": "2021-05-30T14:01:07.940695Z",
     "iopub.status.idle": "2021-05-30T14:01:07.951978Z",
     "shell.execute_reply": "2021-05-30T14:01:07.951285Z",
     "shell.execute_reply.started": "2021-05-25T22:46:58.262403Z"
    },
    "papermill": {
     "duration": 0.034342,
     "end_time": "2021-05-30T14:01:07.952136",
     "exception": false,
     "start_time": "2021-05-30T14:01:07.917794",
     "status": "completed"
    },
    "tags": []
   },
   "outputs": [
    {
     "name": "stdout",
     "output_type": "stream",
     "text": [
      "/opt\n"
     ]
    }
   ],
   "source": [
    "%cd /opt"
   ]
  },
  {
   "cell_type": "code",
   "execution_count": 2,
   "id": "cloudy-reset",
   "metadata": {
    "execution": {
     "iopub.execute_input": "2021-05-30T14:01:07.996271Z",
     "iopub.status.busy": "2021-05-30T14:01:07.995622Z",
     "iopub.status.idle": "2021-05-30T14:01:51.887635Z",
     "shell.execute_reply": "2021-05-30T14:01:51.888583Z"
    },
    "papermill": {
     "duration": 43.917986,
     "end_time": "2021-05-30T14:01:51.889500",
     "exception": false,
     "start_time": "2021-05-30T14:01:07.971514",
     "status": "completed"
    },
    "tags": []
   },
   "outputs": [],
   "source": [
    "%%capture\n",
    "!tar xvf /kaggle/input/extract-prebuilt-kaldi-from-docker/kaldi.tar"
   ]
  },
  {
   "cell_type": "code",
   "execution_count": 3,
   "id": "broken-alliance",
   "metadata": {
    "execution": {
     "iopub.execute_input": "2021-05-30T14:01:51.952673Z",
     "iopub.status.busy": "2021-05-30T14:01:51.951935Z",
     "iopub.status.idle": "2021-05-30T14:01:51.959635Z",
     "shell.execute_reply": "2021-05-30T14:01:51.959075Z"
    },
    "papermill": {
     "duration": 0.038521,
     "end_time": "2021-05-30T14:01:51.959816",
     "exception": false,
     "start_time": "2021-05-30T14:01:51.921295",
     "status": "completed"
    },
    "tags": []
   },
   "outputs": [
    {
     "name": "stdout",
     "output_type": "stream",
     "text": [
      "/tmp\n"
     ]
    }
   ],
   "source": [
    "%cd /tmp"
   ]
  },
  {
   "cell_type": "code",
   "execution_count": 4,
   "id": "relevant-picnic",
   "metadata": {
    "execution": {
     "iopub.execute_input": "2021-05-30T14:01:52.005333Z",
     "iopub.status.busy": "2021-05-30T14:01:52.004593Z",
     "iopub.status.idle": "2021-05-30T14:01:58.758357Z",
     "shell.execute_reply": "2021-05-30T14:01:58.756707Z",
     "shell.execute_reply.started": "2021-05-25T22:38:20.218298Z"
    },
    "papermill": {
     "duration": 6.778992,
     "end_time": "2021-05-30T14:01:58.758539",
     "exception": false,
     "start_time": "2021-05-30T14:01:51.979547",
     "status": "completed"
    },
    "tags": []
   },
   "outputs": [
    {
     "name": "stdout",
     "output_type": "stream",
     "text": [
      "Cloning into 'fairseq'...\r\n",
      "remote: Enumerating objects: 28172, done.\u001b[K\r\n",
      "remote: Counting objects: 100% (586/586), done.\u001b[K\r\n",
      "remote: Compressing objects: 100% (337/337), done.\u001b[K\r\n",
      "remote: Total 28172 (delta 308), reused 464 (delta 236), pack-reused 27586\u001b[K\r\n",
      "Receiving objects: 100% (28172/28172), 11.87 MiB | 16.19 MiB/s, done.\r\n",
      "Resolving deltas: 100% (21131/21131), done.\r\n"
     ]
    }
   ],
   "source": [
    "!git clone https://github.com/pytorch/fairseq/"
   ]
  },
  {
   "cell_type": "code",
   "execution_count": 5,
   "id": "former-ukraine",
   "metadata": {
    "execution": {
     "iopub.execute_input": "2021-05-30T14:01:58.835963Z",
     "iopub.status.busy": "2021-05-30T14:01:58.835014Z",
     "iopub.status.idle": "2021-05-30T14:02:11.597838Z",
     "shell.execute_reply": "2021-05-30T14:02:11.597042Z"
    },
    "papermill": {
     "duration": 12.80446,
     "end_time": "2021-05-30T14:02:11.597987",
     "exception": false,
     "start_time": "2021-05-30T14:01:58.793527",
     "status": "completed"
    },
    "tags": []
   },
   "outputs": [],
   "source": [
    "%%capture\n",
    "!pip install phonemizer"
   ]
  },
  {
   "cell_type": "code",
   "execution_count": 6,
   "id": "married-buffalo",
   "metadata": {
    "execution": {
     "iopub.execute_input": "2021-05-30T14:02:11.661392Z",
     "iopub.status.busy": "2021-05-30T14:02:11.660749Z",
     "iopub.status.idle": "2021-05-30T14:03:07.836478Z",
     "shell.execute_reply": "2021-05-30T14:03:07.835870Z"
    },
    "papermill": {
     "duration": 56.210141,
     "end_time": "2021-05-30T14:03:07.836649",
     "exception": false,
     "start_time": "2021-05-30T14:02:11.626508",
     "status": "completed"
    },
    "tags": []
   },
   "outputs": [],
   "source": [
    "%%capture\n",
    "!pip install git+https://github.com/pytorch/fairseq/"
   ]
  },
  {
   "cell_type": "code",
   "execution_count": 7,
   "id": "scientific-uzbekistan",
   "metadata": {
    "execution": {
     "iopub.execute_input": "2021-05-30T14:03:07.905790Z",
     "iopub.status.busy": "2021-05-30T14:03:07.900633Z",
     "iopub.status.idle": "2021-05-30T14:03:15.114726Z",
     "shell.execute_reply": "2021-05-30T14:03:15.113983Z"
    },
    "papermill": {
     "duration": 7.249553,
     "end_time": "2021-05-30T14:03:15.114881",
     "exception": false,
     "start_time": "2021-05-30T14:03:07.865328",
     "status": "completed"
    },
    "tags": []
   },
   "outputs": [],
   "source": [
    "%%capture\n",
    "!apt-get -y install espeak"
   ]
  },
  {
   "cell_type": "code",
   "execution_count": 8,
   "id": "acknowledged-january",
   "metadata": {
    "execution": {
     "iopub.execute_input": "2021-05-30T14:03:15.183803Z",
     "iopub.status.busy": "2021-05-30T14:03:15.183102Z",
     "iopub.status.idle": "2021-05-30T14:03:17.161025Z",
     "shell.execute_reply": "2021-05-30T14:03:17.160475Z",
     "shell.execute_reply.started": "2021-05-25T22:47:02.096238Z"
    },
    "papermill": {
     "duration": 2.016728,
     "end_time": "2021-05-30T14:03:17.161170",
     "exception": false,
     "start_time": "2021-05-30T14:03:15.144442",
     "status": "completed"
    },
    "tags": []
   },
   "outputs": [
    {
     "name": "stdout",
     "output_type": "stream",
     "text": [
      "Cloning into 'kenlm'...\r\n",
      "remote: Enumerating objects: 13824, done.\u001b[K\r\n",
      "remote: Counting objects: 100% (137/137), done.\u001b[K\r\n",
      "remote: Compressing objects: 100% (79/79), done.\u001b[K\r\n",
      "remote: Total 13824 (delta 76), reused 92 (delta 45), pack-reused 13687\u001b[K\r\n",
      "Receiving objects: 100% (13824/13824), 5.49 MiB | 11.43 MiB/s, done.\r\n",
      "Resolving deltas: 100% (7956/7956), done.\r\n"
     ]
    }
   ],
   "source": [
    "!git clone https://github.com/kpu/kenlm"
   ]
  },
  {
   "cell_type": "code",
   "execution_count": 9,
   "id": "synthetic-squad",
   "metadata": {
    "execution": {
     "iopub.execute_input": "2021-05-30T14:03:17.240116Z",
     "iopub.status.busy": "2021-05-30T14:03:17.235742Z",
     "iopub.status.idle": "2021-05-30T14:03:22.367942Z",
     "shell.execute_reply": "2021-05-30T14:03:22.367358Z"
    },
    "papermill": {
     "duration": 5.17289,
     "end_time": "2021-05-30T14:03:22.368111",
     "exception": false,
     "start_time": "2021-05-30T14:03:17.195221",
     "status": "completed"
    },
    "tags": []
   },
   "outputs": [],
   "source": [
    "%%capture\n",
    "!apt-get -y install libeigen3-dev liblzma-dev zlib1g-dev libbz2-dev"
   ]
  },
  {
   "cell_type": "code",
   "execution_count": 10,
   "id": "specialized-recommendation",
   "metadata": {
    "execution": {
     "iopub.execute_input": "2021-05-30T14:03:22.445447Z",
     "iopub.status.busy": "2021-05-30T14:03:22.444821Z",
     "iopub.status.idle": "2021-05-30T14:04:35.644097Z",
     "shell.execute_reply": "2021-05-30T14:04:35.643478Z"
    },
    "papermill": {
     "duration": 73.242209,
     "end_time": "2021-05-30T14:04:35.644266",
     "exception": false,
     "start_time": "2021-05-30T14:03:22.402057",
     "status": "completed"
    },
    "tags": []
   },
   "outputs": [],
   "source": [
    "%%capture\n",
    "%cd kenlm\n",
    "!mkdir build\n",
    "%cd build\n",
    "!cmake ..\n",
    "!make -j 4\n",
    "%cd /tmp"
   ]
  },
  {
   "cell_type": "code",
   "execution_count": 11,
   "id": "attended-merchant",
   "metadata": {
    "execution": {
     "iopub.execute_input": "2021-05-30T14:04:35.719283Z",
     "iopub.status.busy": "2021-05-30T14:04:35.718600Z",
     "iopub.status.idle": "2021-05-30T14:04:35.720534Z",
     "shell.execute_reply": "2021-05-30T14:04:35.721055Z",
     "shell.execute_reply.started": "2021-05-25T22:58:58.397816Z"
    },
    "papermill": {
     "duration": 0.042007,
     "end_time": "2021-05-30T14:04:35.721243",
     "exception": false,
     "start_time": "2021-05-30T14:04:35.679236",
     "status": "completed"
    },
    "tags": []
   },
   "outputs": [],
   "source": [
    "import os\n",
    "os.environ['PATH'] = f\"{os.environ['PATH']}:/tmp/kenlm/build/bin/\"\n",
    "os.environ['FAIRSEQ_ROOT'] = '/tmp/fairseq'"
   ]
  },
  {
   "cell_type": "code",
   "execution_count": 12,
   "id": "continued-match",
   "metadata": {
    "execution": {
     "iopub.execute_input": "2021-05-30T14:04:35.793797Z",
     "iopub.status.busy": "2021-05-30T14:04:35.793170Z",
     "iopub.status.idle": "2021-05-30T14:04:36.569640Z",
     "shell.execute_reply": "2021-05-30T14:04:36.569086Z",
     "shell.execute_reply.started": "2021-05-25T22:55:06.647826Z"
    },
    "papermill": {
     "duration": 0.814388,
     "end_time": "2021-05-30T14:04:36.569807",
     "exception": false,
     "start_time": "2021-05-30T14:04:35.755419",
     "status": "completed"
    },
    "tags": []
   },
   "outputs": [],
   "source": [
    "!cat /kaggle/input/wav2vec-u-cv-swedish-audio/*.wrd | grep -v '^$' | sort| uniq > /kaggle/working/sentences.txt\n"
   ]
  },
  {
   "cell_type": "code",
   "execution_count": 13,
   "id": "material-boost",
   "metadata": {
    "execution": {
     "iopub.execute_input": "2021-05-30T14:04:36.645027Z",
     "iopub.status.busy": "2021-05-30T14:04:36.643983Z",
     "iopub.status.idle": "2021-05-30T14:04:36.649163Z",
     "shell.execute_reply": "2021-05-30T14:04:36.649894Z",
     "shell.execute_reply.started": "2021-05-25T22:55:38.373919Z"
    },
    "papermill": {
     "duration": 0.045917,
     "end_time": "2021-05-30T14:04:36.650130",
     "exception": false,
     "start_time": "2021-05-30T14:04:36.604213",
     "status": "completed"
    },
    "tags": []
   },
   "outputs": [
    {
     "name": "stdout",
     "output_type": "stream",
     "text": [
      "/tmp/fairseq/examples/wav2vec/unsupervised\n"
     ]
    }
   ],
   "source": [
    "%cd fairseq/examples/wav2vec/unsupervised"
   ]
  },
  {
   "cell_type": "code",
   "execution_count": 14,
   "id": "legitimate-moore",
   "metadata": {
    "execution": {
     "iopub.execute_input": "2021-05-30T14:04:36.730651Z",
     "iopub.status.busy": "2021-05-30T14:04:36.729362Z",
     "iopub.status.idle": "2021-05-30T14:04:42.462311Z",
     "shell.execute_reply": "2021-05-30T14:04:42.461626Z"
    },
    "papermill": {
     "duration": 5.777027,
     "end_time": "2021-05-30T14:04:42.462452",
     "exception": false,
     "start_time": "2021-05-30T14:04:36.685425",
     "status": "completed"
    },
    "tags": []
   },
   "outputs": [],
   "source": [
    "%%capture\n",
    "!apt-get -y install zsh"
   ]
  },
  {
   "cell_type": "code",
   "execution_count": 15,
   "id": "affected-constant",
   "metadata": {
    "execution": {
     "iopub.execute_input": "2021-05-30T14:04:42.541727Z",
     "iopub.status.busy": "2021-05-30T14:04:42.537549Z",
     "iopub.status.idle": "2021-05-30T14:04:43.254896Z",
     "shell.execute_reply": "2021-05-30T14:04:43.254288Z",
     "shell.execute_reply.started": "2021-05-25T22:58:19.000595Z"
    },
    "papermill": {
     "duration": 0.757583,
     "end_time": "2021-05-30T14:04:43.255107",
     "exception": false,
     "start_time": "2021-05-30T14:04:42.497524",
     "status": "completed"
    },
    "tags": []
   },
   "outputs": [],
   "source": [
    "!mkdir /kaggle/working/preppedtext"
   ]
  },
  {
   "cell_type": "code",
   "execution_count": 16,
   "id": "verified-newport",
   "metadata": {
    "execution": {
     "iopub.execute_input": "2021-05-30T14:04:43.332210Z",
     "iopub.status.busy": "2021-05-30T14:04:43.331243Z",
     "iopub.status.idle": "2021-05-30T14:04:43.336494Z",
     "shell.execute_reply": "2021-05-30T14:04:43.335772Z",
     "shell.execute_reply.started": "2021-05-25T23:04:33.0148Z"
    },
    "papermill": {
     "duration": 0.046259,
     "end_time": "2021-05-30T14:04:43.336694",
     "exception": false,
     "start_time": "2021-05-30T14:04:43.290435",
     "status": "completed"
    },
    "tags": []
   },
   "outputs": [
    {
     "name": "stdout",
     "output_type": "stream",
     "text": [
      "/tmp/fairseq/examples/wav2vec/unsupervised/scripts\n"
     ]
    }
   ],
   "source": [
    "%cd scripts"
   ]
  },
  {
   "cell_type": "markdown",
   "id": "consecutive-intention",
   "metadata": {
    "papermill": {
     "duration": 0.034389,
     "end_time": "2021-05-30T14:04:43.406945",
     "exception": false,
     "start_time": "2021-05-30T14:04:43.372556",
     "status": "completed"
    },
    "tags": []
   },
   "source": [
    "The next part requires a FastText language id model; I don't know where the 187 language model comes from, but there is a model for 176 languages [here](https://fasttext.cc/docs/en/language-identification.html#content)"
   ]
  },
  {
   "cell_type": "code",
   "execution_count": 17,
   "id": "selected-grant",
   "metadata": {
    "execution": {
     "iopub.execute_input": "2021-05-30T14:04:43.480526Z",
     "iopub.status.busy": "2021-05-30T14:04:43.479861Z",
     "iopub.status.idle": "2021-05-30T14:04:47.264066Z",
     "shell.execute_reply": "2021-05-30T14:04:47.263423Z",
     "shell.execute_reply.started": "2021-05-25T23:26:05.700782Z"
    },
    "papermill": {
     "duration": 3.822573,
     "end_time": "2021-05-30T14:04:47.264241",
     "exception": false,
     "start_time": "2021-05-30T14:04:43.441668",
     "status": "completed"
    },
    "tags": []
   },
   "outputs": [
    {
     "name": "stdout",
     "output_type": "stream",
     "text": [
      "--2021-05-30 14:04:44--  https://dl.fbaipublicfiles.com/fasttext/supervised-models/lid.176.bin\r\n",
      "Resolving dl.fbaipublicfiles.com (dl.fbaipublicfiles.com)... 104.22.74.142, 172.67.9.4, 104.22.75.142, ...\r\n",
      "Connecting to dl.fbaipublicfiles.com (dl.fbaipublicfiles.com)|104.22.74.142|:443... connected.\r\n",
      "HTTP request sent, awaiting response... 200 OK\r\n",
      "Length: 131266198 (125M) [application/octet-stream]\r\n",
      "Saving to: ‘lid.176.bin’\r\n",
      "\r\n",
      "lid.176.bin         100%[===================>] 125.18M  47.5MB/s    in 2.6s    \r\n",
      "\r\n",
      "2021-05-30 14:04:47 (47.5 MB/s) - ‘lid.176.bin’ saved [131266198/131266198]\r\n",
      "\r\n"
     ]
    }
   ],
   "source": [
    "!wget https://dl.fbaipublicfiles.com/fasttext/supervised-models/lid.176.bin"
   ]
  },
  {
   "cell_type": "code",
   "execution_count": 18,
   "id": "traditional-recording",
   "metadata": {
    "execution": {
     "iopub.execute_input": "2021-05-30T14:04:47.355418Z",
     "iopub.status.busy": "2021-05-30T14:04:47.354719Z",
     "iopub.status.idle": "2021-05-30T14:04:48.784400Z",
     "shell.execute_reply": "2021-05-30T14:04:48.783645Z",
     "shell.execute_reply.started": "2021-05-25T23:28:29.362953Z"
    },
    "papermill": {
     "duration": 1.478161,
     "end_time": "2021-05-30T14:04:48.784564",
     "exception": false,
     "start_time": "2021-05-30T14:04:47.306403",
     "status": "completed"
    },
    "tags": []
   },
   "outputs": [],
   "source": [
    "!cat normalize_and_filter_text.py|sed -e 's/187/176/' > tmp\n",
    "!mv tmp normalize_and_filter_text.py"
   ]
  },
  {
   "cell_type": "code",
   "execution_count": 19,
   "id": "accredited-radius",
   "metadata": {
    "execution": {
     "iopub.execute_input": "2021-05-30T14:04:48.870900Z",
     "iopub.status.busy": "2021-05-30T14:04:48.870188Z",
     "iopub.status.idle": "2021-05-30T14:04:48.873311Z",
     "shell.execute_reply": "2021-05-30T14:04:48.872800Z"
    },
    "papermill": {
     "duration": 0.048175,
     "end_time": "2021-05-30T14:04:48.873455",
     "exception": false,
     "start_time": "2021-05-30T14:04:48.825280",
     "status": "completed"
    },
    "tags": []
   },
   "outputs": [],
   "source": [
    "# Needed to see what's going wrong\n",
    "os.environ['HYDRA_FULL_ERROR'] = '1'"
   ]
  },
  {
   "cell_type": "code",
   "execution_count": 20,
   "id": "fantastic-winning",
   "metadata": {
    "execution": {
     "iopub.execute_input": "2021-05-30T14:04:48.962461Z",
     "iopub.status.busy": "2021-05-30T14:04:48.958958Z",
     "iopub.status.idle": "2021-05-30T14:04:49.691301Z",
     "shell.execute_reply": "2021-05-30T14:04:49.689856Z"
    },
    "papermill": {
     "duration": 0.777851,
     "end_time": "2021-05-30T14:04:49.691458",
     "exception": false,
     "start_time": "2021-05-30T14:04:48.913607",
     "status": "completed"
    },
    "tags": []
   },
   "outputs": [],
   "source": [
    "!mkdir /tmp/fairseq/examples/speech_recognition/kaldi/config"
   ]
  },
  {
   "cell_type": "markdown",
   "id": "nasty-biotechnology",
   "metadata": {
    "papermill": {
     "duration": 0.039788,
     "end_time": "2021-05-30T14:04:49.771235",
     "exception": false,
     "start_time": "2021-05-30T14:04:49.731447",
     "status": "completed"
    },
    "tags": []
   },
   "source": [
    "There are two lines with missing variables in `prepare_text.sh` - [pull request](https://github.com/pytorch/fairseq/pull/3569) - so replace the file.\n",
    "\n",
    "While I'm replacing the file: most of the first part of the script is unneeded, as I already have a phonetic dictionary, so I'm use that instead.\n",
    "\n",
    "With the calls of the `preprocess.py` script, make sure to check the threshold: there's a divide by zero if the threshold is set too high."
   ]
  },
  {
   "cell_type": "code",
   "execution_count": 21,
   "id": "caroline-filing",
   "metadata": {
    "_kg_hide-input": true,
    "execution": {
     "iopub.execute_input": "2021-05-30T14:04:49.861909Z",
     "iopub.status.busy": "2021-05-30T14:04:49.861123Z",
     "iopub.status.idle": "2021-05-30T14:04:49.865439Z",
     "shell.execute_reply": "2021-05-30T14:04:49.865980Z"
    },
    "papermill": {
     "duration": 0.053571,
     "end_time": "2021-05-30T14:04:49.866185",
     "exception": false,
     "start_time": "2021-05-30T14:04:49.812614",
     "status": "completed"
    },
    "tags": []
   },
   "outputs": [
    {
     "name": "stdout",
     "output_type": "stream",
     "text": [
      "Overwriting prepare_text.sh\n"
     ]
    }
   ],
   "source": [
    "%%writefile prepare_text.sh\n",
    "#!/usr/bin/env zsh\n",
    "# Copyright (c) Facebook, Inc. and its affiliates.\n",
    "#\n",
    "# This source code is licensed under the MIT license found in the\n",
    "# LICENSE file in the root directory of this source tree.\n",
    "\n",
    "lg=$1\n",
    "text_path=$2\n",
    "target_dir=$3\n",
    "\n",
    "#ph_lg=${lg:l}\n",
    "#if test \"$lg\" = 'fr'; then\n",
    "#  ph_lg='fr-fr'\n",
    "#elif test \"$lg\" = 'en'; then\n",
    "#  ph_lg='en-us'\n",
    "#elif test \"$lg\" = 'pt'; then\n",
    "#  ph_lg='pt-br'\n",
    "#fi\n",
    "ph_lg=\"sv\"\n",
    "\n",
    "echo $lg\n",
    "echo $ph_lg\n",
    "echo $text_path\n",
    "echo $target_dir\n",
    "\n",
    "mkdir -p $target_dir\n",
    "#python normalize_and_filter_text.py --lang $lg < $text_path | grep -v '\\-\\-\\-' >! $target_dir/lm.upper.lid.txt\n",
    "#python $FAIRSEQ_ROOT/fairseq_cli/preprocess.py --dataset-impl mmap --trainpref $target_dir/lm.upper.lid.txt --only-source --destdir $target_dir --thresholdsrc 2 --padding-factor 1 --dict-only\n",
    "#cut -f1 -d' ' $target_dir/dict.txt | grep -v -x '[[:punct:]]*' | grep -Pv '\\d\\d\\d\\d\\d+' >! $target_dir/words.txt\n",
    "cp /kaggle/input/wav2vec-u-cv-swedish-audio/train.wrd $target_dir/lm.upper.lid.txt\n",
    "cut -f1 -d' ' /kaggle/input/wav2vec-u-cv-swedish-audio/dict.train >! $target_dir/words.txt\n",
    "\n",
    "#one=$(echo \"1\" | PHONEMIZER_ESPEAK_PATH=$(which espeak) phonemize -p ' ' -w '' -l $ph_lg --language-switch remove-flags)\n",
    "#sed 's/$/ 1/' $target_dir/words.txt | PHONEMIZER_ESPEAK_PATH=$(which espeak) phonemize -o $target_dir/phones.txt -p ' ' -w '' -l $ph_lg -j 70 --language-switch remove-flags\n",
    "cut -f2- -d' ' /kaggle/input/wav2vec-u-cv-swedish-audio/dict.train >! $target_dir/phones.txt\n",
    "\n",
    "#echo \"one is ${one}\"\n",
    "\n",
    "#sed -i \"s/${one}$//\" $target_dir/phones.txt\n",
    "#paste $target_dir/words.txt $target_dir/phones.txt >! $target_dir/lexicon.lst\n",
    "cp /kaggle/input/wav2vec-u-cv-swedish-audio/dict.train $target_dir/lexicon.lst\n",
    "\n",
    "#python $FAIRSEQ_ROOT/fairseq_cli/preprocess.py --dataset-impl mmap --trainpref $target_dir/phones.txt --only-source --destdir $target_dir/phones --thresholdsrc 1000 --padding-factor 1 --dict-only\n",
    "python $FAIRSEQ_ROOT/fairseq_cli/preprocess.py --dataset-impl mmap --trainpref $target_dir/phones.txt --only-source --destdir $target_dir/phones --thresholdsrc 2 --padding-factor 1 --dict-only\n",
    "\n",
    "python filter_lexicon.py -d $target_dir/phones/dict.txt < $target_dir/lexicon.lst >! $target_dir/lexicon_filtered.lst\n",
    "python phonemize_with_sil.py -s 0.25 --surround --lexicon $target_dir/lexicon_filtered.lst < $target_dir/lm.upper.lid.txt >! $target_dir/phones/lm.phones.filtered.txt\n",
    "cp $target_dir/phones/dict.txt $target_dir/phones/dict.phn.txt\n",
    "echo \"<SIL> 0\" >> $target_dir/phones/dict.phn.txt\n",
    "python $FAIRSEQ_ROOT/fairseq_cli/preprocess.py --dataset-impl mmap --trainpref $target_dir/phones/lm.phones.filtered.txt --workers 70 --only-source --destdir $target_dir/phones --srcdict $target_dir/phones/dict.phn.txt\n",
    "\n",
    "lmplz -o 4 < $target_dir/lm.upper.lid.txt --discount_fallback --prune 0 0 0 3 >! $target_dir/kenlm.wrd.o40003.arpa\n",
    "build_binary $target_dir/kenlm.wrd.o40003.arpa $target_dir/kenlm.wrd.o40003.bin\n",
    "lg=$lg python $FAIRSEQ_ROOT/examples/speech_recognition/kaldi/kaldi_initializer.py fst_dir=$target_dir/fst/phn_to_words_sil lm_arpa=$target_dir/kenlm.wrd.o40003.arpa wav2letter_lexicon=$target_dir/lexicon_filtered.lst data_dir=$target_dir/phones \"blank_symbol='<SIL>'\" \"in_labels='phn_to_words_sil'\"\n",
    "lg=$lg python $FAIRSEQ_ROOT/examples/speech_recognition/kaldi/kaldi_initializer.py fst_dir=$target_dir/fst/phn_to_words lm_arpa=$target_dir/kenlm.wrd.o40003.arpa wav2letter_lexicon=$target_dir/lexicon_filtered.lst data_dir=$target_dir/phones  \"in_labels='phn_to_words'\"\n",
    "\n",
    "lmplz -o 4 < $target_dir/phones/lm.phones.filtered.txt --discount_fallback >! $target_dir/phones/lm.phones.filtered.04.arpa\n",
    "build_binary -s $target_dir/phones/lm.phones.filtered.04.arpa $target_dir/phones/lm.phones.filtered.04.bin\n",
    "lmplz -o 6 < $target_dir/phones/lm.phones.filtered.txt --discount_fallback >! $target_dir/phones/lm.phones.filtered.06.arpa\n",
    "build_binary -s $target_dir/phones/lm.phones.filtered.06.arpa $target_dir/phones/lm.phones.filtered.06.bin\n",
    "\n",
    "lg=$lg python $FAIRSEQ_ROOT/examples/speech_recognition/kaldi/kaldi_initializer.py fst_dir=$target_dir/fst/phn_to_phn_sil lm_arpa=$target_dir/phones/lm.phones.filtered.06.arpa data_dir=$target_dir/phones \"blank_symbol='<SIL>'\" \"in_labels='phn_to_phn_sil'\""
   ]
  },
  {
   "cell_type": "markdown",
   "id": "insured-anaheim",
   "metadata": {
    "papermill": {
     "duration": 0.040019,
     "end_time": "2021-05-30T14:04:49.946975",
     "exception": false,
     "start_time": "2021-05-30T14:04:49.906956",
     "status": "completed"
    },
    "tags": []
   },
   "source": [
    "`config.yaml` needs to exist. Most of the options are set on the command line, but not everything: `in_labels`, `out_labels`, `kaldi_root` and (for one run) `silence_symbol`. The options are:\n",
    "\n",
    "- `in_labels`\n",
    "- `wav2letter_lexicon`: path to wav2letter lexicon: set on the command line\n",
    "- `out_labels`\n",
    "- `kaldi_root`: path to Kaldi: `/opt/kaldi` for my kaggle image\n",
    "- `fst_dir`: path where generated fsts will be saved: set on the command line\n",
    "- `data_dir`: path to phones data: set on the command line\n",
    "- `lm_arpa`: path to the lm in ARPA format: set on the command line\n",
    "- `blank_symbol`: CTC blank symbol (`<s>` is used in the script)\n",
    "- `silence_symbol`: Kaldi symbol for silence (`<SIL>` is set on the command line for two of the scripts)\n",
    "\n"
   ]
  },
  {
   "cell_type": "code",
   "execution_count": 22,
   "id": "missing-above",
   "metadata": {
    "execution": {
     "iopub.execute_input": "2021-05-30T14:04:50.033291Z",
     "iopub.status.busy": "2021-05-30T14:04:50.032271Z",
     "iopub.status.idle": "2021-05-30T14:04:50.036502Z",
     "shell.execute_reply": "2021-05-30T14:04:50.037024Z"
    },
    "papermill": {
     "duration": 0.050247,
     "end_time": "2021-05-30T14:04:50.037208",
     "exception": false,
     "start_time": "2021-05-30T14:04:49.986961",
     "status": "completed"
    },
    "tags": []
   },
   "outputs": [
    {
     "name": "stdout",
     "output_type": "stream",
     "text": [
      "Writing /tmp/fairseq/examples/speech_recognition/kaldi/config/config.yaml\n"
     ]
    }
   ],
   "source": [
    "%%writefile /tmp/fairseq/examples/speech_recognition/kaldi/config/config.yaml\n",
    "kaldi_root: \"/opt/kaldi\""
   ]
  },
  {
   "cell_type": "code",
   "execution_count": 23,
   "id": "critical-mathematics",
   "metadata": {
    "execution": {
     "iopub.execute_input": "2021-05-30T14:04:50.129003Z",
     "iopub.status.busy": "2021-05-30T14:04:50.128311Z",
     "iopub.status.idle": "2021-05-30T14:05:17.526667Z",
     "shell.execute_reply": "2021-05-30T14:05:17.525889Z",
     "shell.execute_reply.started": "2021-05-25T23:28:33.84656Z"
    },
    "papermill": {
     "duration": 27.44865,
     "end_time": "2021-05-30T14:05:17.526880",
     "exception": false,
     "start_time": "2021-05-30T14:04:50.078230",
     "status": "completed"
    },
    "tags": []
   },
   "outputs": [
    {
     "name": "stdout",
     "output_type": "stream",
     "text": [
      "sv\r\n",
      "sv\r\n",
      "/kaggle/working/sentences.txt\r\n",
      "/kaggle/working/preppedtext\r\n",
      "=== 1/5 Counting and sorting n-grams ===\r\n",
      "Reading /kaggle/working/preppedtext/lm.upper.lid.txt\r\n",
      "----5---10---15---20---25---30---35---40---45---50---55---60---65---70---75---80---85---90---95--100\r\n",
      "****************************************************************************************************\r\n",
      "Unigram tokens 14359 types 3160\r\n",
      "=== 2/5 Calculating and sorting adjusted counts ===\r\n",
      "Chain sizes: 1:37920 2:2571430400 3:4821431808 4:7714291200\r\n",
      "Statistics:\r\n",
      "1 3160 D1=0.722623 D2=1.14413 D3+=1.45956\r\n",
      "2 10285 D1=0.848104 D2=1.2466 D3+=1.46191\r\n",
      "3 12632 D1=0.943362 D2=1.24166 D3+=1.32723\r\n",
      "4 19/11699 D1=0.970399 D2=1.4843 D3+=2.12351\r\n",
      "Memory estimate for binary LM:\r\n",
      "type     kB\r\n",
      "probing 617 assuming -p 1.5\r\n",
      "probing 764 assuming -r models -p 1.5\r\n",
      "trie    309 without quantization\r\n",
      "trie    182 assuming -q 8 -b 8 quantization \r\n",
      "trie    293 assuming -a 22 array pointer compression\r\n",
      "trie    166 assuming -a 22 -q 8 -b 8 array pointer compression and quantization\r\n",
      "=== 3/5 Calculating and sorting initial probabilities ===\r\n",
      "Chain sizes: 1:37920 2:164560 3:252640 4:456\r\n",
      "----5---10---15---20---25---30---35---40---45---50---55---60---65---70---75---80---85---90---95--100\r\n",
      "####################################################################################################\r\n",
      "=== 4/5 Calculating and writing order-interpolated probabilities ===\r\n",
      "Chain sizes: 1:37920 2:164560 3:252640 4:456\r\n",
      "----5---10---15---20---25---30---35---40---45---50---55---60---65---70---75---80---85---90---95--100\r\n",
      "####################################################################################################\r\n",
      "=== 5/5 Writing ARPA model ===\r\n",
      "----5---10---15---20---25---30---35---40---45---50---55---60---65---70---75---80---85---90---95--100\r\n",
      "****************************************************************************************************\r\n",
      "Name:lmplz\tVmPeak:14916872 kB\tVmRSS:6380 kB\tRSSMax:2975172 kB\tuser:0.458391\tsys:3.07457\tCPU:3.53306\treal:3.5301\r\n",
      "Reading /kaggle/working/preppedtext/kenlm.wrd.o40003.arpa\r\n",
      "----5---10---15---20---25---30---35---40---45---50---55---60---65---70---75---80---85---90---95--100\r\n",
      "****************************************************************************************************\r\n",
      "SUCCESS\r\n",
      "Traceback (most recent call last):\r\n",
      "  File \"/tmp/fairseq/examples/speech_recognition/kaldi/kaldi_initializer.py\", line 698, in <module>\r\n",
      "    cli_main()\r\n",
      "  File \"/opt/conda/lib/python3.7/site-packages/hydra/main.py\", line 37, in decorated_main\r\n",
      "    strict=strict,\r\n",
      "  File \"/opt/conda/lib/python3.7/site-packages/hydra/_internal/utils.py\", line 347, in _run_hydra\r\n",
      "    lambda: hydra.run(\r\n",
      "  File \"/opt/conda/lib/python3.7/site-packages/hydra/_internal/utils.py\", line 201, in run_and_report\r\n",
      "    raise ex\r\n",
      "  File \"/opt/conda/lib/python3.7/site-packages/hydra/_internal/utils.py\", line 198, in run_and_report\r\n",
      "    return func()\r\n",
      "  File \"/opt/conda/lib/python3.7/site-packages/hydra/_internal/utils.py\", line 350, in <lambda>\r\n",
      "    overrides=args.overrides,\r\n",
      "  File \"/opt/conda/lib/python3.7/site-packages/hydra/_internal/hydra.py\", line 112, in run\r\n",
      "    configure_logging=with_log_configuration,\r\n",
      "  File \"/opt/conda/lib/python3.7/site-packages/hydra/core/utils.py\", line 127, in run_job\r\n",
      "    ret.return_value = task_function(task_cfg)\r\n",
      "  File \"/tmp/fairseq/examples/speech_recognition/kaldi/kaldi_initializer.py\", line 677, in cli_main\r\n",
      "    initalize_kaldi(cfg)\r\n",
      "  File \"/tmp/fairseq/examples/speech_recognition/kaldi/kaldi_initializer.py\", line 618, in initalize_kaldi\r\n",
      "    kaldi_root = Path(cfg.kaldi_root)\r\n",
      "  File \"/opt/conda/lib/python3.7/site-packages/omegaconf/dictconfig.py\", line 305, in __getattr__\r\n",
      "    self._format_and_raise(key=key, value=None, cause=e)\r\n",
      "  File \"/opt/conda/lib/python3.7/site-packages/omegaconf/base.py\", line 101, in _format_and_raise\r\n",
      "    type_override=type_override,\r\n",
      "  File \"/opt/conda/lib/python3.7/site-packages/omegaconf/_utils.py\", line 694, in format_and_raise\r\n",
      "    _raise(ex, cause)\r\n",
      "  File \"/opt/conda/lib/python3.7/site-packages/omegaconf/_utils.py\", line 610, in _raise\r\n",
      "    raise ex  # set end OC_CAUSE=1 for full backtrace\r\n",
      "omegaconf.errors.MissingMandatoryValue: Missing mandatory value: kaldi_root\r\n",
      "\tfull_key: kaldi_root\r\n",
      "\treference_type=Optional[Dict[Union[str, Enum], Any]]\r\n",
      "\tobject_type=dict\r\n",
      "Traceback (most recent call last):\r\n",
      "  File \"/tmp/fairseq/examples/speech_recognition/kaldi/kaldi_initializer.py\", line 698, in <module>\r\n",
      "    cli_main()\r\n",
      "  File \"/opt/conda/lib/python3.7/site-packages/hydra/main.py\", line 37, in decorated_main\r\n",
      "    strict=strict,\r\n",
      "  File \"/opt/conda/lib/python3.7/site-packages/hydra/_internal/utils.py\", line 347, in _run_hydra\r\n",
      "    lambda: hydra.run(\r\n",
      "  File \"/opt/conda/lib/python3.7/site-packages/hydra/_internal/utils.py\", line 201, in run_and_report\r\n",
      "    raise ex\r\n",
      "  File \"/opt/conda/lib/python3.7/site-packages/hydra/_internal/utils.py\", line 198, in run_and_report\r\n",
      "    return func()\r\n",
      "  File \"/opt/conda/lib/python3.7/site-packages/hydra/_internal/utils.py\", line 350, in <lambda>\r\n",
      "    overrides=args.overrides,\r\n",
      "  File \"/opt/conda/lib/python3.7/site-packages/hydra/_internal/hydra.py\", line 112, in run\r\n",
      "    configure_logging=with_log_configuration,\r\n",
      "  File \"/opt/conda/lib/python3.7/site-packages/hydra/core/utils.py\", line 127, in run_job\r\n",
      "    ret.return_value = task_function(task_cfg)\r\n",
      "  File \"/tmp/fairseq/examples/speech_recognition/kaldi/kaldi_initializer.py\", line 677, in cli_main\r\n",
      "    initalize_kaldi(cfg)\r\n",
      "  File \"/tmp/fairseq/examples/speech_recognition/kaldi/kaldi_initializer.py\", line 618, in initalize_kaldi\r\n",
      "    kaldi_root = Path(cfg.kaldi_root)\r\n",
      "  File \"/opt/conda/lib/python3.7/site-packages/omegaconf/dictconfig.py\", line 305, in __getattr__\r\n",
      "    self._format_and_raise(key=key, value=None, cause=e)\r\n",
      "  File \"/opt/conda/lib/python3.7/site-packages/omegaconf/base.py\", line 101, in _format_and_raise\r\n",
      "    type_override=type_override,\r\n",
      "  File \"/opt/conda/lib/python3.7/site-packages/omegaconf/_utils.py\", line 694, in format_and_raise\r\n",
      "    _raise(ex, cause)\r\n",
      "  File \"/opt/conda/lib/python3.7/site-packages/omegaconf/_utils.py\", line 610, in _raise\r\n",
      "    raise ex  # set end OC_CAUSE=1 for full backtrace\r\n",
      "omegaconf.errors.MissingMandatoryValue: Missing mandatory value: kaldi_root\r\n",
      "\tfull_key: kaldi_root\r\n",
      "\treference_type=Optional[Dict[Union[str, Enum], Any]]\r\n",
      "\tobject_type=dict\r\n",
      "=== 1/5 Counting and sorting n-grams ===\r\n",
      "Reading /kaggle/working/preppedtext/phones/lm.phones.filtered.txt\r\n",
      "----5---10---15---20---25---30---35---40---45---50---55---60---65---70---75---80---85---90---95--100\r\n",
      "****************************************************************************************************\r\n",
      "Unigram tokens 63529 types 44\r\n",
      "=== 2/5 Calculating and sorting adjusted counts ===\r\n",
      "Chain sizes: 1:528 2:2571436544 3:4821443584 4:7714310144\r\n",
      "Substituting fallback discounts for order 0: D1=0.5 D2=1 D3+=1.5\r\n",
      "Statistics:\r\n",
      "1 44 D1=0.5 D2=1 D3+=1.5\r\n",
      "2 1060 D1=0.447368 D2=0.862406 D3+=1.4518\r\n",
      "3 8519 D1=0.5481 D2=1.17148 D3+=1.62229\r\n",
      "4 23148 D1=0.646354 D2=1.16332 D3+=1.46641\r\n",
      "Memory estimate for binary LM:\r\n",
      "type     kB\r\n",
      "probing 632 assuming -p 1.5\r\n",
      "probing 688 assuming -r models -p 1.5\r\n",
      "trie    203 without quantization\r\n",
      "trie     88 assuming -q 8 -b 8 quantization \r\n",
      "trie    196 assuming -a 22 array pointer compression\r\n",
      "trie     81 assuming -a 22 -q 8 -b 8 array pointer compression and quantization\r\n",
      "=== 3/5 Calculating and sorting initial probabilities ===\r\n",
      "Chain sizes: 1:528 2:16960 3:170380 4:555552\r\n",
      "----5---10---15---20---25---30---35---40---45---50---55---60---65---70---75---80---85---90---95--100\r\n",
      "####################################################################################################\r\n",
      "=== 4/5 Calculating and writing order-interpolated probabilities ===\r\n",
      "Chain sizes: 1:528 2:16960 3:170380 4:555552\r\n",
      "----5---10---15---20---25---30---35---40---45---50---55---60---65---70---75---80---85---90---95--100\r\n",
      "####################################################################################################\r\n",
      "=== 5/5 Writing ARPA model ===\r\n",
      "----5---10---15---20---25---30---35---40---45---50---55---60---65---70---75---80---85---90---95--100\r\n",
      "****************************************************************************************************\r\n",
      "Name:lmplz\tVmPeak:14916780 kB\tVmRSS:6780 kB\tRSSMax:2973848 kB\tuser:0.438801\tsys:1.52327\tCPU:1.96212\treal:1.96111\r\n",
      "Reading /kaggle/working/preppedtext/phones/lm.phones.filtered.04.arpa\r\n",
      "----5---10---15---20---25---30---35---40---45---50---55---60---65---70---75---80---85---90---95--100\r\n",
      "****************************************************************************************************\r\n",
      "SUCCESS\r\n",
      "=== 1/5 Counting and sorting n-grams ===\r\n",
      "Reading /kaggle/working/preppedtext/phones/lm.phones.filtered.txt\r\n",
      "----5---10---15---20---25---30---35---40---45---50---55---60---65---70---75---80---85---90---95--100\r\n",
      "****************************************************************************************************\r\n",
      "Unigram tokens 63529 types 44\r\n",
      "=== 2/5 Calculating and sorting adjusted counts ===\r\n",
      "Chain sizes: 1:528 2:929673280 3:1743137408 4:2789019904 5:4067320832 6:5578039808\r\n",
      "Substituting fallback discounts for order 0: D1=0.5 D2=1 D3+=1.5\r\n",
      "Statistics:\r\n",
      "1 44 D1=0.5 D2=1 D3+=1.5\r\n",
      "2 1060 D1=0.447368 D2=0.862406 D3+=1.4518\r\n",
      "3 8519 D1=0.5481 D2=1.17148 D3+=1.62229\r\n",
      "4 23148 D1=0.706422 D2=1.26697 D3+=1.60581\r\n",
      "5 35885 D1=0.823562 D2=1.34175 D3+=1.57748\r\n",
      "6 43569 D1=0.837767 D2=1.21589 D3+=1.62414\r\n",
      "Memory estimate for binary LM:\r\n",
      "type      kB\r\n",
      "probing 2375 assuming -p 1.5\r\n",
      "probing 2777 assuming -r models -p 1.5\r\n",
      "trie     908 without quantization\r\n",
      "trie     401 assuming -q 8 -b 8 quantization \r\n",
      "trie     838 assuming -a 22 array pointer compression\r\n",
      "trie     331 assuming -a 22 -q 8 -b 8 array pointer compression and quantization\r\n",
      "=== 3/5 Calculating and sorting initial probabilities ===\r\n",
      "Chain sizes: 1:528 2:16960 3:170380 4:555552 5:1004780 6:1394208\r\n",
      "----5---10---15---20---25---30---35---40---45---50---55---60---65---70---75---80---85---90---95--100\r\n",
      "####################################################################################################\r\n",
      "=== 4/5 Calculating and writing order-interpolated probabilities ===\r\n",
      "Chain sizes: 1:528 2:16960 3:170380 4:555552 5:1004780 6:1394208\r\n",
      "----5---10---15---20---25---30---35---40---45---50---55---60---65---70---75---80---85---90---95--100\r\n",
      "####################################################################################################\r\n",
      "=== 5/5 Writing ARPA model ===\r\n",
      "----5---10---15---20---25---30---35---40---45---50---55---60---65---70---75---80---85---90---95--100\r\n",
      "****************************************************************************************************\r\n",
      "Name:lmplz\tVmPeak:14949572 kB\tVmRSS:6412 kB\tRSSMax:2354512 kB\tuser:0.487367\tsys:1.14646\tCPU:1.63391\treal:1.59659\r\n",
      "Reading /kaggle/working/preppedtext/phones/lm.phones.filtered.06.arpa\r\n",
      "----5---10---15---20---25---30---35---40---45---50---55---60---65---70---75---80---85---90---95--100\r\n",
      "****************************************************************************************************\r\n",
      "SUCCESS\r\n",
      "Traceback (most recent call last):\r\n",
      "  File \"/tmp/fairseq/examples/speech_recognition/kaldi/kaldi_initializer.py\", line 698, in <module>\r\n",
      "    cli_main()\r\n",
      "  File \"/opt/conda/lib/python3.7/site-packages/hydra/main.py\", line 37, in decorated_main\r\n",
      "    strict=strict,\r\n",
      "  File \"/opt/conda/lib/python3.7/site-packages/hydra/_internal/utils.py\", line 347, in _run_hydra\r\n",
      "    lambda: hydra.run(\r\n",
      "  File \"/opt/conda/lib/python3.7/site-packages/hydra/_internal/utils.py\", line 201, in run_and_report\r\n",
      "    raise ex\r\n",
      "  File \"/opt/conda/lib/python3.7/site-packages/hydra/_internal/utils.py\", line 198, in run_and_report\r\n",
      "    return func()\r\n",
      "  File \"/opt/conda/lib/python3.7/site-packages/hydra/_internal/utils.py\", line 350, in <lambda>\r\n",
      "    overrides=args.overrides,\r\n",
      "  File \"/opt/conda/lib/python3.7/site-packages/hydra/_internal/hydra.py\", line 112, in run\r\n",
      "    configure_logging=with_log_configuration,\r\n",
      "  File \"/opt/conda/lib/python3.7/site-packages/hydra/core/utils.py\", line 127, in run_job\r\n",
      "    ret.return_value = task_function(task_cfg)\r\n",
      "  File \"/tmp/fairseq/examples/speech_recognition/kaldi/kaldi_initializer.py\", line 677, in cli_main\r\n",
      "    initalize_kaldi(cfg)\r\n",
      "  File \"/tmp/fairseq/examples/speech_recognition/kaldi/kaldi_initializer.py\", line 618, in initalize_kaldi\r\n",
      "    kaldi_root = Path(cfg.kaldi_root)\r\n",
      "  File \"/opt/conda/lib/python3.7/site-packages/omegaconf/dictconfig.py\", line 305, in __getattr__\r\n",
      "    self._format_and_raise(key=key, value=None, cause=e)\r\n",
      "  File \"/opt/conda/lib/python3.7/site-packages/omegaconf/base.py\", line 101, in _format_and_raise\r\n",
      "    type_override=type_override,\r\n",
      "  File \"/opt/conda/lib/python3.7/site-packages/omegaconf/_utils.py\", line 694, in format_and_raise\r\n",
      "    _raise(ex, cause)\r\n",
      "  File \"/opt/conda/lib/python3.7/site-packages/omegaconf/_utils.py\", line 610, in _raise\r\n",
      "    raise ex  # set end OC_CAUSE=1 for full backtrace\r\n",
      "omegaconf.errors.MissingMandatoryValue: Missing mandatory value: kaldi_root\r\n",
      "\tfull_key: kaldi_root\r\n",
      "\treference_type=Optional[Dict[Union[str, Enum], Any]]\r\n",
      "\tobject_type=dict\r\n"
     ]
    }
   ],
   "source": [
    "!zsh prepare_text.sh sv /kaggle/working/sentences.txt /kaggle/working/preppedtext"
   ]
  }
 ],
 "metadata": {
  "kernelspec": {
   "display_name": "Python 3",
   "language": "python",
   "name": "python3"
  },
  "language_info": {
   "codemirror_mode": {
    "name": "ipython",
    "version": 3
   },
   "file_extension": ".py",
   "mimetype": "text/x-python",
   "name": "python",
   "nbconvert_exporter": "python",
   "pygments_lexer": "ipython3",
   "version": "3.7.10"
  },
  "papermill": {
   "default_parameters": {},
   "duration": 258.835156,
   "end_time": "2021-05-30T14:05:19.301520",
   "environment_variables": {},
   "exception": null,
   "input_path": "__notebook__.ipynb",
   "output_path": "__notebook__.ipynb",
   "parameters": {},
   "start_time": "2021-05-30T14:01:00.466364",
   "version": "2.3.3"
  }
 },
 "nbformat": 4,
 "nbformat_minor": 5
}
