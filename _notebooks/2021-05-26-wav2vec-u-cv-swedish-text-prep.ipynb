{
 "cells": [
  {
   "cell_type": "code",
   "execution_count": 1,
   "id": "agricultural-aircraft",
   "metadata": {
    "_cell_guid": "b1076dfc-b9ad-4769-8c92-a6c4dae69d19",
    "_uuid": "8f2839f25d086af736a60e9eeb907d3b93b6e0e5",
    "execution": {
     "iopub.execute_input": "2021-05-30T14:34:48.644482Z",
     "iopub.status.busy": "2021-05-30T14:34:48.643468Z",
     "iopub.status.idle": "2021-05-30T14:34:48.648634Z",
     "shell.execute_reply": "2021-05-30T14:34:48.647941Z",
     "shell.execute_reply.started": "2021-05-25T22:46:58.262403Z"
    },
    "papermill": {
     "duration": 0.036159,
     "end_time": "2021-05-30T14:34:48.648812",
     "exception": false,
     "start_time": "2021-05-30T14:34:48.612653",
     "status": "completed"
    },
    "tags": []
   },
   "outputs": [
    {
     "name": "stdout",
     "output_type": "stream",
     "text": [
      "/opt\n"
     ]
    }
   ],
   "source": [
    "%cd /opt"
   ]
  },
  {
   "cell_type": "code",
   "execution_count": 2,
   "id": "loose-trail",
   "metadata": {
    "execution": {
     "iopub.execute_input": "2021-05-30T14:34:48.696503Z",
     "iopub.status.busy": "2021-05-30T14:34:48.695773Z",
     "iopub.status.idle": "2021-05-30T14:35:26.687190Z",
     "shell.execute_reply": "2021-05-30T14:35:26.685893Z"
    },
    "papermill": {
     "duration": 38.018451,
     "end_time": "2021-05-30T14:35:26.687401",
     "exception": false,
     "start_time": "2021-05-30T14:34:48.668950",
     "status": "completed"
    },
    "tags": []
   },
   "outputs": [],
   "source": [
    "%%capture\n",
    "!tar xvf /kaggle/input/extract-prebuilt-kaldi-from-docker/kaldi.tar"
   ]
  },
  {
   "cell_type": "code",
   "execution_count": 3,
   "id": "relevant-prairie",
   "metadata": {
    "execution": {
     "iopub.execute_input": "2021-05-30T14:35:26.746450Z",
     "iopub.status.busy": "2021-05-30T14:35:26.745555Z",
     "iopub.status.idle": "2021-05-30T14:35:26.753260Z",
     "shell.execute_reply": "2021-05-30T14:35:26.752720Z"
    },
    "papermill": {
     "duration": 0.040399,
     "end_time": "2021-05-30T14:35:26.753416",
     "exception": false,
     "start_time": "2021-05-30T14:35:26.713017",
     "status": "completed"
    },
    "tags": []
   },
   "outputs": [
    {
     "name": "stdout",
     "output_type": "stream",
     "text": [
      "/tmp\n"
     ]
    }
   ],
   "source": [
    "%cd /tmp"
   ]
  },
  {
   "cell_type": "code",
   "execution_count": 4,
   "id": "ruled-cathedral",
   "metadata": {
    "execution": {
     "iopub.execute_input": "2021-05-30T14:35:26.820616Z",
     "iopub.status.busy": "2021-05-30T14:35:26.815486Z",
     "iopub.status.idle": "2021-05-30T14:35:34.146740Z",
     "shell.execute_reply": "2021-05-30T14:35:34.146172Z",
     "shell.execute_reply.started": "2021-05-25T22:38:20.218298Z"
    },
    "papermill": {
     "duration": 7.369643,
     "end_time": "2021-05-30T14:35:34.146886",
     "exception": false,
     "start_time": "2021-05-30T14:35:26.777243",
     "status": "completed"
    },
    "tags": []
   },
   "outputs": [
    {
     "name": "stdout",
     "output_type": "stream",
     "text": [
      "Cloning into 'fairseq'...\r\n",
      "remote: Enumerating objects: 28172, done.\u001b[K\r\n",
      "remote: Counting objects: 100% (586/586), done.\u001b[K\r\n",
      "remote: Compressing objects: 100% (337/337), done.\u001b[K\r\n",
      "remote: Total 28172 (delta 308), reused 464 (delta 236), pack-reused 27586\u001b[K\r\n",
      "Receiving objects: 100% (28172/28172), 11.87 MiB | 16.56 MiB/s, done.\r\n",
      "Resolving deltas: 100% (21131/21131), done.\r\n"
     ]
    }
   ],
   "source": [
    "!git clone https://github.com/pytorch/fairseq/"
   ]
  },
  {
   "cell_type": "code",
   "execution_count": 5,
   "id": "cellular-plumbing",
   "metadata": {
    "execution": {
     "iopub.execute_input": "2021-05-30T14:35:34.215563Z",
     "iopub.status.busy": "2021-05-30T14:35:34.214742Z",
     "iopub.status.idle": "2021-05-30T14:35:44.852935Z",
     "shell.execute_reply": "2021-05-30T14:35:44.853491Z"
    },
    "papermill": {
     "duration": 10.677012,
     "end_time": "2021-05-30T14:35:44.853674",
     "exception": false,
     "start_time": "2021-05-30T14:35:34.176662",
     "status": "completed"
    },
    "tags": []
   },
   "outputs": [],
   "source": [
    "%%capture\n",
    "!pip install phonemizer"
   ]
  },
  {
   "cell_type": "code",
   "execution_count": 6,
   "id": "departmental-south",
   "metadata": {
    "execution": {
     "iopub.execute_input": "2021-05-30T14:35:44.920793Z",
     "iopub.status.busy": "2021-05-30T14:35:44.919810Z",
     "iopub.status.idle": "2021-05-30T14:36:42.227153Z",
     "shell.execute_reply": "2021-05-30T14:36:42.226449Z"
    },
    "papermill": {
     "duration": 57.34552,
     "end_time": "2021-05-30T14:36:42.227301",
     "exception": false,
     "start_time": "2021-05-30T14:35:44.881781",
     "status": "completed"
    },
    "tags": []
   },
   "outputs": [],
   "source": [
    "%%capture\n",
    "!pip install git+https://github.com/pytorch/fairseq/"
   ]
  },
  {
   "cell_type": "code",
   "execution_count": 7,
   "id": "large-sarah",
   "metadata": {
    "execution": {
     "iopub.execute_input": "2021-05-30T14:36:42.289936Z",
     "iopub.status.busy": "2021-05-30T14:36:42.289318Z",
     "iopub.status.idle": "2021-05-30T14:36:48.127013Z",
     "shell.execute_reply": "2021-05-30T14:36:48.127543Z"
    },
    "papermill": {
     "duration": 5.872199,
     "end_time": "2021-05-30T14:36:48.127736",
     "exception": false,
     "start_time": "2021-05-30T14:36:42.255537",
     "status": "completed"
    },
    "tags": []
   },
   "outputs": [],
   "source": [
    "%%capture\n",
    "!apt-get -y install espeak"
   ]
  },
  {
   "cell_type": "code",
   "execution_count": 8,
   "id": "subsequent-wheat",
   "metadata": {
    "execution": {
     "iopub.execute_input": "2021-05-30T14:36:48.193767Z",
     "iopub.status.busy": "2021-05-30T14:36:48.190150Z",
     "iopub.status.idle": "2021-05-30T14:36:50.544686Z",
     "shell.execute_reply": "2021-05-30T14:36:50.544008Z",
     "shell.execute_reply.started": "2021-05-25T22:47:02.096238Z"
    },
    "papermill": {
     "duration": 2.388191,
     "end_time": "2021-05-30T14:36:50.544828",
     "exception": false,
     "start_time": "2021-05-30T14:36:48.156637",
     "status": "completed"
    },
    "tags": []
   },
   "outputs": [
    {
     "name": "stdout",
     "output_type": "stream",
     "text": [
      "Cloning into 'kenlm'...\r\n",
      "remote: Enumerating objects: 13824, done.\u001b[K\r\n",
      "remote: Counting objects: 100% (137/137), done.\u001b[K\r\n",
      "remote: Compressing objects: 100% (79/79), done.\u001b[K\r\n",
      "remote: Total 13824 (delta 76), reused 92 (delta 45), pack-reused 13687\u001b[K\r\n",
      "Receiving objects: 100% (13824/13824), 5.49 MiB | 8.47 MiB/s, done.\r\n",
      "Resolving deltas: 100% (7956/7956), done.\r\n"
     ]
    }
   ],
   "source": [
    "!git clone https://github.com/kpu/kenlm"
   ]
  },
  {
   "cell_type": "code",
   "execution_count": 9,
   "id": "southern-oregon",
   "metadata": {
    "execution": {
     "iopub.execute_input": "2021-05-30T14:36:50.624835Z",
     "iopub.status.busy": "2021-05-30T14:36:50.624174Z",
     "iopub.status.idle": "2021-05-30T14:36:54.493623Z",
     "shell.execute_reply": "2021-05-30T14:36:54.492933Z"
    },
    "papermill": {
     "duration": 3.913695,
     "end_time": "2021-05-30T14:36:54.493760",
     "exception": false,
     "start_time": "2021-05-30T14:36:50.580065",
     "status": "completed"
    },
    "tags": []
   },
   "outputs": [],
   "source": [
    "%%capture\n",
    "!apt-get -y install libeigen3-dev liblzma-dev zlib1g-dev libbz2-dev"
   ]
  },
  {
   "cell_type": "code",
   "execution_count": 10,
   "id": "pointed-delaware",
   "metadata": {
    "execution": {
     "iopub.execute_input": "2021-05-30T14:36:54.572580Z",
     "iopub.status.busy": "2021-05-30T14:36:54.571645Z",
     "iopub.status.idle": "2021-05-30T14:38:03.950147Z",
     "shell.execute_reply": "2021-05-30T14:38:03.949280Z"
    },
    "papermill": {
     "duration": 69.422052,
     "end_time": "2021-05-30T14:38:03.950308",
     "exception": false,
     "start_time": "2021-05-30T14:36:54.528256",
     "status": "completed"
    },
    "tags": []
   },
   "outputs": [],
   "source": [
    "%%capture\n",
    "%cd kenlm\n",
    "!mkdir build\n",
    "%cd build\n",
    "!cmake ..\n",
    "!make -j 4\n",
    "%cd /tmp"
   ]
  },
  {
   "cell_type": "code",
   "execution_count": 11,
   "id": "hairy-arrangement",
   "metadata": {
    "execution": {
     "iopub.execute_input": "2021-05-30T14:38:04.023524Z",
     "iopub.status.busy": "2021-05-30T14:38:04.022875Z",
     "iopub.status.idle": "2021-05-30T14:38:04.027265Z",
     "shell.execute_reply": "2021-05-30T14:38:04.027756Z",
     "shell.execute_reply.started": "2021-05-25T22:58:58.397816Z"
    },
    "papermill": {
     "duration": 0.042991,
     "end_time": "2021-05-30T14:38:04.027941",
     "exception": false,
     "start_time": "2021-05-30T14:38:03.984950",
     "status": "completed"
    },
    "tags": []
   },
   "outputs": [],
   "source": [
    "import os\n",
    "os.environ['PATH'] = f\"{os.environ['PATH']}:/tmp/kenlm/build/bin/\"\n",
    "os.environ['FAIRSEQ_ROOT'] = '/tmp/fairseq'"
   ]
  },
  {
   "cell_type": "code",
   "execution_count": 12,
   "id": "liable-geneva",
   "metadata": {
    "execution": {
     "iopub.execute_input": "2021-05-30T14:38:04.101763Z",
     "iopub.status.busy": "2021-05-30T14:38:04.101120Z",
     "iopub.status.idle": "2021-05-30T14:38:04.863978Z",
     "shell.execute_reply": "2021-05-30T14:38:04.863304Z",
     "shell.execute_reply.started": "2021-05-25T22:55:06.647826Z"
    },
    "papermill": {
     "duration": 0.80141,
     "end_time": "2021-05-30T14:38:04.864139",
     "exception": false,
     "start_time": "2021-05-30T14:38:04.062729",
     "status": "completed"
    },
    "tags": []
   },
   "outputs": [],
   "source": [
    "!cat /kaggle/input/wav2vec-u-cv-swedish-audio/*.wrd | grep -v '^$' | sort| uniq > /kaggle/working/sentences.txt\n"
   ]
  },
  {
   "cell_type": "code",
   "execution_count": 13,
   "id": "historic-audience",
   "metadata": {
    "execution": {
     "iopub.execute_input": "2021-05-30T14:38:04.938968Z",
     "iopub.status.busy": "2021-05-30T14:38:04.937975Z",
     "iopub.status.idle": "2021-05-30T14:38:04.942682Z",
     "shell.execute_reply": "2021-05-30T14:38:04.943428Z",
     "shell.execute_reply.started": "2021-05-25T22:55:38.373919Z"
    },
    "papermill": {
     "duration": 0.045352,
     "end_time": "2021-05-30T14:38:04.943668",
     "exception": false,
     "start_time": "2021-05-30T14:38:04.898316",
     "status": "completed"
    },
    "tags": []
   },
   "outputs": [
    {
     "name": "stdout",
     "output_type": "stream",
     "text": [
      "/tmp/fairseq/examples/wav2vec/unsupervised\n"
     ]
    }
   ],
   "source": [
    "%cd fairseq/examples/wav2vec/unsupervised"
   ]
  },
  {
   "cell_type": "code",
   "execution_count": 14,
   "id": "continued-victoria",
   "metadata": {
    "execution": {
     "iopub.execute_input": "2021-05-30T14:38:05.021671Z",
     "iopub.status.busy": "2021-05-30T14:38:05.020648Z",
     "iopub.status.idle": "2021-05-30T14:38:09.404208Z",
     "shell.execute_reply": "2021-05-30T14:38:09.403504Z"
    },
    "papermill": {
     "duration": 4.424547,
     "end_time": "2021-05-30T14:38:09.404349",
     "exception": false,
     "start_time": "2021-05-30T14:38:04.979802",
     "status": "completed"
    },
    "tags": []
   },
   "outputs": [],
   "source": [
    "%%capture\n",
    "!apt-get -y install zsh"
   ]
  },
  {
   "cell_type": "code",
   "execution_count": 15,
   "id": "iraqi-activity",
   "metadata": {
    "execution": {
     "iopub.execute_input": "2021-05-30T14:38:09.477272Z",
     "iopub.status.busy": "2021-05-30T14:38:09.476581Z",
     "iopub.status.idle": "2021-05-30T14:38:10.195762Z",
     "shell.execute_reply": "2021-05-30T14:38:10.196244Z",
     "shell.execute_reply.started": "2021-05-25T22:58:19.000595Z"
    },
    "papermill": {
     "duration": 0.757098,
     "end_time": "2021-05-30T14:38:10.196429",
     "exception": false,
     "start_time": "2021-05-30T14:38:09.439331",
     "status": "completed"
    },
    "tags": []
   },
   "outputs": [],
   "source": [
    "!mkdir /kaggle/working/preppedtext"
   ]
  },
  {
   "cell_type": "code",
   "execution_count": 16,
   "id": "august-prototype",
   "metadata": {
    "execution": {
     "iopub.execute_input": "2021-05-30T14:38:10.272286Z",
     "iopub.status.busy": "2021-05-30T14:38:10.271463Z",
     "iopub.status.idle": "2021-05-30T14:38:10.277374Z",
     "shell.execute_reply": "2021-05-30T14:38:10.276769Z",
     "shell.execute_reply.started": "2021-05-25T23:04:33.0148Z"
    },
    "papermill": {
     "duration": 0.045997,
     "end_time": "2021-05-30T14:38:10.277528",
     "exception": false,
     "start_time": "2021-05-30T14:38:10.231531",
     "status": "completed"
    },
    "tags": []
   },
   "outputs": [
    {
     "name": "stdout",
     "output_type": "stream",
     "text": [
      "/tmp/fairseq/examples/wav2vec/unsupervised/scripts\n"
     ]
    }
   ],
   "source": [
    "%cd scripts"
   ]
  },
  {
   "cell_type": "markdown",
   "id": "current-nursery",
   "metadata": {
    "papermill": {
     "duration": 0.035525,
     "end_time": "2021-05-30T14:38:10.349198",
     "exception": false,
     "start_time": "2021-05-30T14:38:10.313673",
     "status": "completed"
    },
    "tags": []
   },
   "source": [
    "The next part requires a FastText language id model; I don't know where the 187 language model comes from, but there is a model for 176 languages [here](https://fasttext.cc/docs/en/language-identification.html#content)"
   ]
  },
  {
   "cell_type": "code",
   "execution_count": 17,
   "id": "musical-semiconductor",
   "metadata": {
    "execution": {
     "iopub.execute_input": "2021-05-30T14:38:10.430670Z",
     "iopub.status.busy": "2021-05-30T14:38:10.429945Z",
     "iopub.status.idle": "2021-05-30T14:38:23.780067Z",
     "shell.execute_reply": "2021-05-30T14:38:23.779396Z",
     "shell.execute_reply.started": "2021-05-25T23:26:05.700782Z"
    },
    "papermill": {
     "duration": 13.395344,
     "end_time": "2021-05-30T14:38:23.780240",
     "exception": false,
     "start_time": "2021-05-30T14:38:10.384896",
     "status": "completed"
    },
    "tags": []
   },
   "outputs": [
    {
     "name": "stdout",
     "output_type": "stream",
     "text": [
      "--2021-05-30 14:38:11--  https://dl.fbaipublicfiles.com/fasttext/supervised-models/lid.176.bin\r\n",
      "Resolving dl.fbaipublicfiles.com (dl.fbaipublicfiles.com)... 104.22.75.142, 172.67.9.4, 104.22.74.142, ...\r\n",
      "Connecting to dl.fbaipublicfiles.com (dl.fbaipublicfiles.com)|104.22.75.142|:443... connected.\r\n",
      "HTTP request sent, awaiting response... 200 OK\r\n",
      "Length: 131266198 (125M) [application/octet-stream]\r\n",
      "Saving to: ‘lid.176.bin’\r\n",
      "\r\n",
      "lid.176.bin         100%[===================>] 125.18M  12.0MB/s    in 12s     \r\n",
      "\r\n",
      "2021-05-30 14:38:23 (10.7 MB/s) - ‘lid.176.bin’ saved [131266198/131266198]\r\n",
      "\r\n"
     ]
    }
   ],
   "source": [
    "!wget https://dl.fbaipublicfiles.com/fasttext/supervised-models/lid.176.bin"
   ]
  },
  {
   "cell_type": "code",
   "execution_count": 18,
   "id": "posted-suspect",
   "metadata": {
    "execution": {
     "iopub.execute_input": "2021-05-30T14:38:23.889312Z",
     "iopub.status.busy": "2021-05-30T14:38:23.888086Z",
     "iopub.status.idle": "2021-05-30T14:38:25.312808Z",
     "shell.execute_reply": "2021-05-30T14:38:25.312251Z",
     "shell.execute_reply.started": "2021-05-25T23:28:29.362953Z"
    },
    "papermill": {
     "duration": 1.483114,
     "end_time": "2021-05-30T14:38:25.312964",
     "exception": false,
     "start_time": "2021-05-30T14:38:23.829850",
     "status": "completed"
    },
    "tags": []
   },
   "outputs": [],
   "source": [
    "!cat normalize_and_filter_text.py|sed -e 's/187/176/' > tmp\n",
    "!mv tmp normalize_and_filter_text.py"
   ]
  },
  {
   "cell_type": "code",
   "execution_count": 19,
   "id": "announced-iceland",
   "metadata": {
    "execution": {
     "iopub.execute_input": "2021-05-30T14:38:25.417859Z",
     "iopub.status.busy": "2021-05-30T14:38:25.417220Z",
     "iopub.status.idle": "2021-05-30T14:38:25.419090Z",
     "shell.execute_reply": "2021-05-30T14:38:25.419653Z"
    },
    "papermill": {
     "duration": 0.057262,
     "end_time": "2021-05-30T14:38:25.419816",
     "exception": false,
     "start_time": "2021-05-30T14:38:25.362554",
     "status": "completed"
    },
    "tags": []
   },
   "outputs": [],
   "source": [
    "# Needed to see what's going wrong\n",
    "os.environ['HYDRA_FULL_ERROR'] = '1'"
   ]
  },
  {
   "cell_type": "code",
   "execution_count": 20,
   "id": "incorporated-congress",
   "metadata": {
    "execution": {
     "iopub.execute_input": "2021-05-30T14:38:25.522516Z",
     "iopub.status.busy": "2021-05-30T14:38:25.521852Z",
     "iopub.status.idle": "2021-05-30T14:38:25.527188Z",
     "shell.execute_reply": "2021-05-30T14:38:25.526334Z"
    },
    "papermill": {
     "duration": 0.057703,
     "end_time": "2021-05-30T14:38:25.527347",
     "exception": false,
     "start_time": "2021-05-30T14:38:25.469644",
     "status": "completed"
    },
    "tags": []
   },
   "outputs": [],
   "source": [
    "import os\n",
    "os.environ['LD_LIBRARY_PATH'] = '/opt/conda/lib:/opt/kaldi/tools/openfst-1.6.7/lib:/opt/kaldi/src/lib'"
   ]
  },
  {
   "cell_type": "markdown",
   "id": "together-circumstances",
   "metadata": {
    "papermill": {
     "duration": 0.049692,
     "end_time": "2021-05-30T14:38:25.627082",
     "exception": false,
     "start_time": "2021-05-30T14:38:25.577390",
     "status": "completed"
    },
    "tags": []
   },
   "source": [
    "There are two lines with missing variables in `prepare_text.sh` - [pull request](https://github.com/pytorch/fairseq/pull/3569) - so replace the file.\n",
    "\n",
    "While I'm replacing the file: most of the first part of the script is unneeded, as I already have a phonetic dictionary, so I'm use that instead.\n",
    "\n",
    "With the calls of the `preprocess.py` script, make sure to check the threshold: there's a divide by zero if the threshold is set too high."
   ]
  },
  {
   "cell_type": "markdown",
   "id": "outstanding-architect",
   "metadata": {
    "papermill": {
     "duration": 0.049189,
     "end_time": "2021-05-30T14:38:25.726026",
     "exception": false,
     "start_time": "2021-05-30T14:38:25.676837",
     "status": "completed"
    },
    "tags": []
   },
   "source": [
    "Config options for `kaldi_initializer.py`\n",
    "\n",
    "- `in_labels`: a naming component, for the Kaldi lexicons/fsts (required)\n",
    "- `wav2letter_lexicon`: path to wav2letter lexicon\n",
    "- `out_labels`: a naming component, for the Kaldi lexicons/fsts: set to `in_label` if missing\n",
    "- `kaldi_root`: path to Kaldi: `/opt/kaldi` for my kaggle image\n",
    "- `fst_dir`: path where generated fsts will be saved\n",
    "- `data_dir`: path to phones data\n",
    "- `lm_arpa`: path to the lm in ARPA format\n",
    "- `blank_symbol`: CTC blank symbol (`<s>` here)\n",
    "- `silence_symbol`: Kaldi symbol for silence (`<SIL>` is set for two of the scripts)\n",
    "\n",
    "A config file needs to exist for this, even though the options set in it seem to be ignored."
   ]
  },
  {
   "cell_type": "code",
   "execution_count": 21,
   "id": "false-combination",
   "metadata": {
    "execution": {
     "iopub.execute_input": "2021-05-30T14:38:25.828510Z",
     "iopub.status.busy": "2021-05-30T14:38:25.827871Z",
     "iopub.status.idle": "2021-05-30T14:38:26.549989Z",
     "shell.execute_reply": "2021-05-30T14:38:26.549469Z"
    },
    "papermill": {
     "duration": 0.774582,
     "end_time": "2021-05-30T14:38:26.550205",
     "exception": false,
     "start_time": "2021-05-30T14:38:25.775623",
     "status": "completed"
    },
    "tags": []
   },
   "outputs": [],
   "source": [
    "!mkdir /tmp/fairseq/examples/speech_recognition/kaldi/config/"
   ]
  },
  {
   "cell_type": "code",
   "execution_count": 22,
   "id": "laughing-consortium",
   "metadata": {
    "execution": {
     "iopub.execute_input": "2021-05-30T14:38:26.658262Z",
     "iopub.status.busy": "2021-05-30T14:38:26.657414Z",
     "iopub.status.idle": "2021-05-30T14:38:26.661342Z",
     "shell.execute_reply": "2021-05-30T14:38:26.661779Z"
    },
    "papermill": {
     "duration": 0.061231,
     "end_time": "2021-05-30T14:38:26.661950",
     "exception": false,
     "start_time": "2021-05-30T14:38:26.600719",
     "status": "completed"
    },
    "tags": []
   },
   "outputs": [
    {
     "name": "stdout",
     "output_type": "stream",
     "text": [
      "Writing /tmp/fairseq/examples/speech_recognition/kaldi/config/config.yaml\n"
     ]
    }
   ],
   "source": [
    "%%writefile /tmp/fairseq/examples/speech_recognition/kaldi/config/config.yaml\n",
    "kaldi_root: \"/opt/kaldi\""
   ]
  },
  {
   "cell_type": "code",
   "execution_count": 23,
   "id": "patient-raise",
   "metadata": {
    "_kg_hide-input": true,
    "execution": {
     "iopub.execute_input": "2021-05-30T14:38:26.769269Z",
     "iopub.status.busy": "2021-05-30T14:38:26.768411Z",
     "iopub.status.idle": "2021-05-30T14:38:26.772672Z",
     "shell.execute_reply": "2021-05-30T14:38:26.771856Z"
    },
    "papermill": {
     "duration": 0.060489,
     "end_time": "2021-05-30T14:38:26.772856",
     "exception": false,
     "start_time": "2021-05-30T14:38:26.712367",
     "status": "completed"
    },
    "tags": []
   },
   "outputs": [
    {
     "name": "stdout",
     "output_type": "stream",
     "text": [
      "Overwriting prepare_text.sh\n"
     ]
    }
   ],
   "source": [
    "%%writefile prepare_text.sh\n",
    "#!/usr/bin/env zsh\n",
    "# Copyright (c) Facebook, Inc. and its affiliates.\n",
    "#\n",
    "# This source code is licensed under the MIT license found in the\n",
    "# LICENSE file in the root directory of this source tree.\n",
    "\n",
    "lg=$1\n",
    "text_path=$2\n",
    "target_dir=$3\n",
    "\n",
    "#ph_lg=${lg:l}\n",
    "#if test \"$lg\" = 'fr'; then\n",
    "#  ph_lg='fr-fr'\n",
    "#elif test \"$lg\" = 'en'; then\n",
    "#  ph_lg='en-us'\n",
    "#elif test \"$lg\" = 'pt'; then\n",
    "#  ph_lg='pt-br'\n",
    "#fi\n",
    "ph_lg=\"sv\"\n",
    "\n",
    "echo $lg\n",
    "echo $ph_lg\n",
    "echo $text_path\n",
    "echo $target_dir\n",
    "\n",
    "mkdir -p $target_dir\n",
    "#python normalize_and_filter_text.py --lang $lg < $text_path | grep -v '\\-\\-\\-' >! $target_dir/lm.upper.lid.txt\n",
    "#python $FAIRSEQ_ROOT/fairseq_cli/preprocess.py --dataset-impl mmap --trainpref $target_dir/lm.upper.lid.txt --only-source --destdir $target_dir --thresholdsrc 2 --padding-factor 1 --dict-only\n",
    "#cut -f1 -d' ' $target_dir/dict.txt | grep -v -x '[[:punct:]]*' | grep -Pv '\\d\\d\\d\\d\\d+' >! $target_dir/words.txt\n",
    "cp /kaggle/input/wav2vec-u-cv-swedish-audio/train.wrd $target_dir/lm.upper.lid.txt\n",
    "cut -f1 -d' ' /kaggle/input/wav2vec-u-cv-swedish-audio/dict.train >! $target_dir/words.txt\n",
    "\n",
    "#one=$(echo \"1\" | PHONEMIZER_ESPEAK_PATH=$(which espeak) phonemize -p ' ' -w '' -l $ph_lg --language-switch remove-flags)\n",
    "#sed 's/$/ 1/' $target_dir/words.txt | PHONEMIZER_ESPEAK_PATH=$(which espeak) phonemize -o $target_dir/phones.txt -p ' ' -w '' -l $ph_lg -j 70 --language-switch remove-flags\n",
    "cut -f2- -d' ' /kaggle/input/wav2vec-u-cv-swedish-audio/dict.train >! $target_dir/phones.txt\n",
    "\n",
    "#echo \"one is ${one}\"\n",
    "\n",
    "#sed -i \"s/${one}$//\" $target_dir/phones.txt\n",
    "#paste $target_dir/words.txt $target_dir/phones.txt >! $target_dir/lexicon.lst\n",
    "cp /kaggle/input/wav2vec-u-cv-swedish-audio/dict.train $target_dir/lexicon.lst\n",
    "\n",
    "#python $FAIRSEQ_ROOT/fairseq_cli/preprocess.py --dataset-impl mmap --trainpref $target_dir/phones.txt --only-source --destdir $target_dir/phones --thresholdsrc 1000 --padding-factor 1 --dict-only\n",
    "python $FAIRSEQ_ROOT/fairseq_cli/preprocess.py --dataset-impl mmap --trainpref $target_dir/phones.txt --only-source --destdir $target_dir/phones --thresholdsrc 2 --padding-factor 1 --dict-only\n",
    "\n",
    "python filter_lexicon.py -d $target_dir/phones/dict.txt < $target_dir/lexicon.lst >! $target_dir/lexicon_filtered.lst\n",
    "python phonemize_with_sil.py -s 0.25 --surround --lexicon $target_dir/lexicon_filtered.lst < $target_dir/lm.upper.lid.txt >! $target_dir/phones/lm.phones.filtered.txt\n",
    "cp $target_dir/phones/dict.txt $target_dir/phones/dict.phn.txt\n",
    "echo \"<SIL> 0\" >> $target_dir/phones/dict.phn.txt\n",
    "python $FAIRSEQ_ROOT/fairseq_cli/preprocess.py --dataset-impl mmap --trainpref $target_dir/phones/lm.phones.filtered.txt --workers 70 --only-source --destdir $target_dir/phones --srcdict $target_dir/phones/dict.phn.txt\n",
    "\n",
    "lmplz -o 4 < $target_dir/lm.upper.lid.txt --discount_fallback --prune 0 0 0 3 >! $target_dir/kenlm.wrd.o40003.arpa\n",
    "build_binary $target_dir/kenlm.wrd.o40003.arpa $target_dir/kenlm.wrd.o40003.bin\n",
    "lg=$lg python $FAIRSEQ_ROOT/examples/speech_recognition/kaldi/kaldi_initializer.py fst_dir=$target_dir/fst/phn_to_words_sil lm_arpa=$target_dir/kenlm.wrd.o40003.arpa wav2letter_lexicon=$target_dir/lexicon_filtered.lst data_dir=$target_dir/phones \"blank_symbol='<SIL>'\" \"in_labels='phn_to_words_sil'\" \"kaldi_root='/opt/kaldi'\"\n",
    "lg=$lg python $FAIRSEQ_ROOT/examples/speech_recognition/kaldi/kaldi_initializer.py fst_dir=$target_dir/fst/phn_to_words lm_arpa=$target_dir/kenlm.wrd.o40003.arpa wav2letter_lexicon=$target_dir/lexicon_filtered.lst data_dir=$target_dir/phones  \"in_labels='phn_to_words'\" \"kaldi_root='/opt/kaldi'\"\n",
    "\n",
    "lmplz -o 4 < $target_dir/phones/lm.phones.filtered.txt --discount_fallback >! $target_dir/phones/lm.phones.filtered.04.arpa\n",
    "build_binary -s $target_dir/phones/lm.phones.filtered.04.arpa $target_dir/phones/lm.phones.filtered.04.bin\n",
    "lmplz -o 6 < $target_dir/phones/lm.phones.filtered.txt --discount_fallback >! $target_dir/phones/lm.phones.filtered.06.arpa\n",
    "build_binary -s $target_dir/phones/lm.phones.filtered.06.arpa $target_dir/phones/lm.phones.filtered.06.bin\n",
    "\n",
    "lg=$lg python $FAIRSEQ_ROOT/examples/speech_recognition/kaldi/kaldi_initializer.py fst_dir=$target_dir/fst/phn_to_phn_sil lm_arpa=$target_dir/phones/lm.phones.filtered.06.arpa data_dir=$target_dir/phones \"blank_symbol='<SIL>'\" \"in_labels='phn_to_phn_sil'\" \"kaldi_root='/opt/kaldi'\""
   ]
  },
  {
   "cell_type": "code",
   "execution_count": 24,
   "id": "accessible-irish",
   "metadata": {
    "execution": {
     "iopub.execute_input": "2021-05-30T14:38:26.886057Z",
     "iopub.status.busy": "2021-05-30T14:38:26.881702Z",
     "iopub.status.idle": "2021-05-30T14:38:52.147493Z",
     "shell.execute_reply": "2021-05-30T14:38:52.146943Z",
     "shell.execute_reply.started": "2021-05-25T23:28:33.84656Z"
    },
    "papermill": {
     "duration": 25.322482,
     "end_time": "2021-05-30T14:38:52.147640",
     "exception": false,
     "start_time": "2021-05-30T14:38:26.825158",
     "status": "completed"
    },
    "tags": []
   },
   "outputs": [
    {
     "name": "stdout",
     "output_type": "stream",
     "text": [
      "sv\r\n",
      "sv\r\n",
      "/kaggle/working/sentences.txt\r\n",
      "/kaggle/working/preppedtext\r\n",
      "=== 1/5 Counting and sorting n-grams ===\r\n",
      "Reading /kaggle/working/preppedtext/lm.upper.lid.txt\r\n",
      "----5---10---15---20---25---30---35---40---45---50---55---60---65---70---75---80---85---90---95--100\r\n",
      "****************************************************************************************************\r\n",
      "Unigram tokens 14359 types 3160\r\n",
      "=== 2/5 Calculating and sorting adjusted counts ===\r\n",
      "Chain sizes: 1:37920 2:2571431424 3:4821433856 4:7714294272\r\n",
      "Statistics:\r\n",
      "1 3160 D1=0.722623 D2=1.14413 D3+=1.45956\r\n",
      "2 10285 D1=0.848104 D2=1.2466 D3+=1.46191\r\n",
      "3 12632 D1=0.943362 D2=1.24166 D3+=1.32723\r\n",
      "4 19/11699 D1=0.970399 D2=1.4843 D3+=2.12351\r\n",
      "Memory estimate for binary LM:\r\n",
      "type     kB\r\n",
      "probing 617 assuming -p 1.5\r\n",
      "probing 764 assuming -r models -p 1.5\r\n",
      "trie    309 without quantization\r\n",
      "trie    182 assuming -q 8 -b 8 quantization \r\n",
      "trie    293 assuming -a 22 array pointer compression\r\n",
      "trie    166 assuming -a 22 -q 8 -b 8 array pointer compression and quantization\r\n",
      "=== 3/5 Calculating and sorting initial probabilities ===\r\n",
      "Chain sizes: 1:37920 2:164560 3:252640 4:456\r\n",
      "----5---10---15---20---25---30---35---40---45---50---55---60---65---70---75---80---85---90---95--100\r\n",
      "####################################################################################################\r\n",
      "=== 4/5 Calculating and writing order-interpolated probabilities ===\r\n",
      "Chain sizes: 1:37920 2:164560 3:252640 4:456\r\n",
      "----5---10---15---20---25---30---35---40---45---50---55---60---65---70---75---80---85---90---95--100\r\n",
      "####################################################################################################\r\n",
      "=== 5/5 Writing ARPA model ===\r\n",
      "----5---10---15---20---25---30---35---40---45---50---55---60---65---70---75---80---85---90---95--100\r\n",
      "****************************************************************************************************\r\n",
      "Name:lmplz\tVmPeak:14916876 kB\tVmRSS:6604 kB\tRSSMax:2975220 kB\tuser:0.453205\tsys:1.6089\tCPU:2.06216\treal:2.10725\r\n",
      "Reading /kaggle/working/preppedtext/kenlm.wrd.o40003.arpa\r\n",
      "----5---10---15---20---25---30---35---40---45---50---55---60---65---70---75---80---85---90---95--100\r\n",
      "****************************************************************************************************\r\n",
      "SUCCESS\r\n",
      "Traceback (most recent call last):\r\n",
      "  File \"/tmp/fairseq/examples/speech_recognition/kaldi/kaldi_initializer.py\", line 698, in <module>\r\n",
      "    cli_main()\r\n",
      "  File \"/opt/conda/lib/python3.7/site-packages/hydra/main.py\", line 37, in decorated_main\r\n",
      "    strict=strict,\r\n",
      "  File \"/opt/conda/lib/python3.7/site-packages/hydra/_internal/utils.py\", line 347, in _run_hydra\r\n",
      "    lambda: hydra.run(\r\n",
      "  File \"/opt/conda/lib/python3.7/site-packages/hydra/_internal/utils.py\", line 201, in run_and_report\r\n",
      "    raise ex\r\n",
      "  File \"/opt/conda/lib/python3.7/site-packages/hydra/_internal/utils.py\", line 198, in run_and_report\r\n",
      "    return func()\r\n",
      "  File \"/opt/conda/lib/python3.7/site-packages/hydra/_internal/utils.py\", line 350, in <lambda>\r\n",
      "    overrides=args.overrides,\r\n",
      "  File \"/opt/conda/lib/python3.7/site-packages/hydra/_internal/hydra.py\", line 112, in run\r\n",
      "    configure_logging=with_log_configuration,\r\n",
      "  File \"/opt/conda/lib/python3.7/site-packages/hydra/core/utils.py\", line 127, in run_job\r\n",
      "    ret.return_value = task_function(task_cfg)\r\n",
      "  File \"/tmp/fairseq/examples/speech_recognition/kaldi/kaldi_initializer.py\", line 677, in cli_main\r\n",
      "    initalize_kaldi(cfg)\r\n",
      "  File \"/tmp/fairseq/examples/speech_recognition/kaldi/kaldi_initializer.py\", line 626, in initalize_kaldi\r\n",
      "    with open(data_dir / f\"dict.{cfg.in_labels}.txt\", \"r\") as f:\r\n",
      "FileNotFoundError: [Errno 2] No such file or directory: '/kaggle/working/preppedtext/phones/dict.phn_to_words_sil.txt'\r\n",
      "Traceback (most recent call last):\r\n",
      "  File \"/tmp/fairseq/examples/speech_recognition/kaldi/kaldi_initializer.py\", line 698, in <module>\r\n",
      "    cli_main()\r\n",
      "  File \"/opt/conda/lib/python3.7/site-packages/hydra/main.py\", line 37, in decorated_main\r\n",
      "    strict=strict,\r\n",
      "  File \"/opt/conda/lib/python3.7/site-packages/hydra/_internal/utils.py\", line 347, in _run_hydra\r\n",
      "    lambda: hydra.run(\r\n",
      "  File \"/opt/conda/lib/python3.7/site-packages/hydra/_internal/utils.py\", line 201, in run_and_report\r\n",
      "    raise ex\r\n",
      "  File \"/opt/conda/lib/python3.7/site-packages/hydra/_internal/utils.py\", line 198, in run_and_report\r\n",
      "    return func()\r\n",
      "  File \"/opt/conda/lib/python3.7/site-packages/hydra/_internal/utils.py\", line 350, in <lambda>\r\n",
      "    overrides=args.overrides,\r\n",
      "  File \"/opt/conda/lib/python3.7/site-packages/hydra/_internal/hydra.py\", line 112, in run\r\n",
      "    configure_logging=with_log_configuration,\r\n",
      "  File \"/opt/conda/lib/python3.7/site-packages/hydra/core/utils.py\", line 127, in run_job\r\n",
      "    ret.return_value = task_function(task_cfg)\r\n",
      "  File \"/tmp/fairseq/examples/speech_recognition/kaldi/kaldi_initializer.py\", line 677, in cli_main\r\n",
      "    initalize_kaldi(cfg)\r\n",
      "  File \"/tmp/fairseq/examples/speech_recognition/kaldi/kaldi_initializer.py\", line 626, in initalize_kaldi\r\n",
      "    with open(data_dir / f\"dict.{cfg.in_labels}.txt\", \"r\") as f:\r\n",
      "FileNotFoundError: [Errno 2] No such file or directory: '/kaggle/working/preppedtext/phones/dict.phn_to_words.txt'\r\n",
      "=== 1/5 Counting and sorting n-grams ===\r\n",
      "Reading /kaggle/working/preppedtext/phones/lm.phones.filtered.txt\r\n",
      "----5---10---15---20---25---30---35---40---45---50---55---60---65---70---75---80---85---90---95--100\r\n",
      "****************************************************************************************************\r\n",
      "Unigram tokens 63672 types 44\r\n",
      "=== 2/5 Calculating and sorting adjusted counts ===\r\n",
      "Chain sizes: 1:528 2:2571437824 3:4821446144 4:7714313728\r\n",
      "Substituting fallback discounts for order 0: D1=0.5 D2=1 D3+=1.5\r\n",
      "Statistics:\r\n",
      "1 44 D1=0.5 D2=1 D3+=1.5\r\n",
      "2 1054 D1=0.449198 D2=0.874825 D3+=1.30767\r\n",
      "3 8492 D1=0.556523 D2=1.1478 D3+=1.53913\r\n",
      "4 23071 D1=0.64538 D2=1.13374 D3+=1.52271\r\n",
      "Memory estimate for binary LM:\r\n",
      "type     kB\r\n",
      "probing 630 assuming -p 1.5\r\n",
      "probing 686 assuming -r models -p 1.5\r\n",
      "trie    203 without quantization\r\n",
      "trie     88 assuming -q 8 -b 8 quantization \r\n",
      "trie    195 assuming -a 22 array pointer compression\r\n",
      "trie     81 assuming -a 22 -q 8 -b 8 array pointer compression and quantization\r\n",
      "=== 3/5 Calculating and sorting initial probabilities ===\r\n",
      "Chain sizes: 1:528 2:16864 3:169840 4:553704\r\n",
      "----5---10---15---20---25---30---35---40---45---50---55---60---65---70---75---80---85---90---95--100\r\n",
      "####################################################################################################\r\n",
      "=== 4/5 Calculating and writing order-interpolated probabilities ===\r\n",
      "Chain sizes: 1:528 2:16864 3:169840 4:553704\r\n",
      "----5---10---15---20---25---30---35---40---45---50---55---60---65---70---75---80---85---90---95--100\r\n",
      "####################################################################################################\r\n",
      "=== 5/5 Writing ARPA model ===\r\n",
      "----5---10---15---20---25---30---35---40---45---50---55---60---65---70---75---80---85---90---95--100\r\n",
      "****************************************************************************************************\r\n",
      "Name:lmplz\tVmPeak:14916784 kB\tVmRSS:6812 kB\tRSSMax:2973808 kB\tuser:0.485067\tsys:1.40126\tCPU:1.88639\treal:1.89521\r\n",
      "Reading /kaggle/working/preppedtext/phones/lm.phones.filtered.04.arpa\r\n",
      "----5---10---15---20---25---30---35---40---45---50---55---60---65---70---75---80---85---90---95--100\r\n",
      "****************************************************************************************************\r\n",
      "SUCCESS\r\n",
      "=== 1/5 Counting and sorting n-grams ===\r\n",
      "Reading /kaggle/working/preppedtext/phones/lm.phones.filtered.txt\r\n",
      "----5---10---15---20---25---30---35---40---45---50---55---60---65---70---75---80---85---90---95--100\r\n",
      "****************************************************************************************************\r\n",
      "Unigram tokens 63672 types 44\r\n",
      "=== 2/5 Calculating and sorting adjusted counts ===\r\n",
      "Chain sizes: 1:528 2:929673728 3:1743138176 4:2789021184 5:4067322624 6:5578042368\r\n",
      "Substituting fallback discounts for order 0: D1=0.5 D2=1 D3+=1.5\r\n",
      "Statistics:\r\n",
      "1 44 D1=0.5 D2=1 D3+=1.5\r\n",
      "2 1054 D1=0.449198 D2=0.874825 D3+=1.30767\r\n",
      "3 8492 D1=0.556523 D2=1.1478 D3+=1.53913\r\n",
      "4 23071 D1=0.708448 D2=1.24047 D3+=1.51421\r\n",
      "5 35886 D1=0.823003 D2=1.31769 D3+=1.64722\r\n",
      "6 43661 D1=0.833629 D2=1.28546 D3+=1.43228\r\n",
      "Memory estimate for binary LM:\r\n",
      "type      kB\r\n",
      "probing 2374 assuming -p 1.5\r\n",
      "probing 2775 assuming -r models -p 1.5\r\n",
      "trie     907 without quantization\r\n",
      "trie     401 assuming -q 8 -b 8 quantization \r\n",
      "trie     838 assuming -a 22 array pointer compression\r\n",
      "trie     331 assuming -a 22 -q 8 -b 8 array pointer compression and quantization\r\n",
      "=== 3/5 Calculating and sorting initial probabilities ===\r\n",
      "Chain sizes: 1:528 2:16864 3:169840 4:553704 5:1004808 6:1397152\r\n",
      "----5---10---15---20---25---30---35---40---45---50---55---60---65---70---75---80---85---90---95--100\r\n",
      "####################################################################################################\r\n",
      "=== 4/5 Calculating and writing order-interpolated probabilities ===\r\n",
      "Chain sizes: 1:528 2:16864 3:169840 4:553704 5:1004808 6:1397152\r\n",
      "----5---10---15---20---25---30---35---40---45---50---55---60---65---70---75---80---85---90---95--100\r\n",
      "####################################################################################################\r\n",
      "=== 5/5 Writing ARPA model ===\r\n",
      "----5---10---15---20---25---30---35---40---45---50---55---60---65---70---75---80---85---90---95--100\r\n",
      "****************************************************************************************************\r\n",
      "Name:lmplz\tVmPeak:14949572 kB\tVmRSS:6476 kB\tRSSMax:2354436 kB\tuser:0.473221\tsys:1.15377\tCPU:1.62705\treal:1.60269\r\n",
      "Reading /kaggle/working/preppedtext/phones/lm.phones.filtered.06.arpa\r\n",
      "----5---10---15---20---25---30---35---40---45---50---55---60---65---70---75---80---85---90---95--100\r\n",
      "****************************************************************************************************\r\n",
      "SUCCESS\r\n",
      "Traceback (most recent call last):\r\n",
      "  File \"/tmp/fairseq/examples/speech_recognition/kaldi/kaldi_initializer.py\", line 698, in <module>\r\n",
      "    cli_main()\r\n",
      "  File \"/opt/conda/lib/python3.7/site-packages/hydra/main.py\", line 37, in decorated_main\r\n",
      "    strict=strict,\r\n",
      "  File \"/opt/conda/lib/python3.7/site-packages/hydra/_internal/utils.py\", line 347, in _run_hydra\r\n",
      "    lambda: hydra.run(\r\n",
      "  File \"/opt/conda/lib/python3.7/site-packages/hydra/_internal/utils.py\", line 201, in run_and_report\r\n",
      "    raise ex\r\n",
      "  File \"/opt/conda/lib/python3.7/site-packages/hydra/_internal/utils.py\", line 198, in run_and_report\r\n",
      "    return func()\r\n",
      "  File \"/opt/conda/lib/python3.7/site-packages/hydra/_internal/utils.py\", line 350, in <lambda>\r\n",
      "    overrides=args.overrides,\r\n",
      "  File \"/opt/conda/lib/python3.7/site-packages/hydra/_internal/hydra.py\", line 112, in run\r\n",
      "    configure_logging=with_log_configuration,\r\n",
      "  File \"/opt/conda/lib/python3.7/site-packages/hydra/core/utils.py\", line 127, in run_job\r\n",
      "    ret.return_value = task_function(task_cfg)\r\n",
      "  File \"/tmp/fairseq/examples/speech_recognition/kaldi/kaldi_initializer.py\", line 677, in cli_main\r\n",
      "    initalize_kaldi(cfg)\r\n",
      "  File \"/tmp/fairseq/examples/speech_recognition/kaldi/kaldi_initializer.py\", line 626, in initalize_kaldi\r\n",
      "    with open(data_dir / f\"dict.{cfg.in_labels}.txt\", \"r\") as f:\r\n",
      "FileNotFoundError: [Errno 2] No such file or directory: '/kaggle/working/preppedtext/phones/dict.phn_to_phn_sil.txt'\r\n"
     ]
    }
   ],
   "source": [
    "!zsh prepare_text.sh sv /kaggle/working/sentences.txt /kaggle/working/preppedtext"
   ]
  }
 ],
 "metadata": {
  "kernelspec": {
   "display_name": "Python 3",
   "language": "python",
   "name": "python3"
  },
  "language_info": {
   "codemirror_mode": {
    "name": "ipython",
    "version": 3
   },
   "file_extension": ".py",
   "mimetype": "text/x-python",
   "name": "python",
   "nbconvert_exporter": "python",
   "pygments_lexer": "ipython3",
   "version": "3.7.10"
  },
  "papermill": {
   "default_parameters": {},
   "duration": 252.659869,
   "end_time": "2021-05-30T14:38:52.918239",
   "environment_variables": {},
   "exception": null,
   "input_path": "__notebook__.ipynb",
   "output_path": "__notebook__.ipynb",
   "parameters": {},
   "start_time": "2021-05-30T14:34:40.258370",
   "version": "2.3.3"
  }
 },
 "nbformat": 4,
 "nbformat_minor": 5
}
