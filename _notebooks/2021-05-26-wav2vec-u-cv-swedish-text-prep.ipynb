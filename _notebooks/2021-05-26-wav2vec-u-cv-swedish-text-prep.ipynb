{
 "cells": [
  {
   "cell_type": "code",
   "execution_count": 1,
   "id": "organizational-yield",
   "metadata": {
    "_cell_guid": "b1076dfc-b9ad-4769-8c92-a6c4dae69d19",
    "_uuid": "8f2839f25d086af736a60e9eeb907d3b93b6e0e5",
    "execution": {
     "iopub.execute_input": "2021-05-30T12:43:47.374405Z",
     "iopub.status.busy": "2021-05-30T12:43:47.373896Z",
     "iopub.status.idle": "2021-05-30T12:43:47.380253Z",
     "shell.execute_reply": "2021-05-30T12:43:47.380644Z",
     "shell.execute_reply.started": "2021-05-25T22:46:58.262403Z"
    },
    "papermill": {
     "duration": 0.029191,
     "end_time": "2021-05-30T12:43:47.380911",
     "exception": false,
     "start_time": "2021-05-30T12:43:47.351720",
     "status": "completed"
    },
    "tags": []
   },
   "outputs": [
    {
     "name": "stdout",
     "output_type": "stream",
     "text": [
      "/opt\n"
     ]
    }
   ],
   "source": [
    "%cd /opt"
   ]
  },
  {
   "cell_type": "code",
   "execution_count": 2,
   "id": "academic-warrant",
   "metadata": {
    "execution": {
     "iopub.execute_input": "2021-05-30T12:43:47.412098Z",
     "iopub.status.busy": "2021-05-30T12:43:47.411599Z",
     "iopub.status.idle": "2021-05-30T12:44:30.484381Z",
     "shell.execute_reply": "2021-05-30T12:44:30.484994Z"
    },
    "papermill": {
     "duration": 43.089706,
     "end_time": "2021-05-30T12:44:30.485157",
     "exception": false,
     "start_time": "2021-05-30T12:43:47.395451",
     "status": "completed"
    },
    "tags": []
   },
   "outputs": [],
   "source": [
    "%%capture\n",
    "!tar xvf /kaggle/input/extract-prebuilt-kaldi-from-docker/kaldi.tar"
   ]
  },
  {
   "cell_type": "code",
   "execution_count": 3,
   "id": "sorted-picnic",
   "metadata": {
    "execution": {
     "iopub.execute_input": "2021-05-30T12:44:30.516484Z",
     "iopub.status.busy": "2021-05-30T12:44:30.515987Z",
     "iopub.status.idle": "2021-05-30T12:44:30.521971Z",
     "shell.execute_reply": "2021-05-30T12:44:30.522591Z"
    },
    "papermill": {
     "duration": 0.023628,
     "end_time": "2021-05-30T12:44:30.522792",
     "exception": false,
     "start_time": "2021-05-30T12:44:30.499164",
     "status": "completed"
    },
    "tags": []
   },
   "outputs": [
    {
     "name": "stdout",
     "output_type": "stream",
     "text": [
      "/tmp\n"
     ]
    }
   ],
   "source": [
    "%cd /tmp"
   ]
  },
  {
   "cell_type": "code",
   "execution_count": 4,
   "id": "needed-fence",
   "metadata": {
    "execution": {
     "iopub.execute_input": "2021-05-30T12:44:30.555987Z",
     "iopub.status.busy": "2021-05-30T12:44:30.555187Z",
     "iopub.status.idle": "2021-05-30T12:44:33.490592Z",
     "shell.execute_reply": "2021-05-30T12:44:33.489991Z",
     "shell.execute_reply.started": "2021-05-25T22:38:20.218298Z"
    },
    "papermill": {
     "duration": 2.952812,
     "end_time": "2021-05-30T12:44:33.490721",
     "exception": false,
     "start_time": "2021-05-30T12:44:30.537909",
     "status": "completed"
    },
    "tags": []
   },
   "outputs": [
    {
     "name": "stdout",
     "output_type": "stream",
     "text": [
      "Cloning into 'fairseq'...\r\n",
      "remote: Enumerating objects: 28172, done.\u001b[K\r\n",
      "remote: Counting objects: 100% (586/586), done.\u001b[K\r\n",
      "remote: Compressing objects: 100% (337/337), done.\u001b[K\r\n",
      "remote: Total 28172 (delta 308), reused 464 (delta 236), pack-reused 27586\u001b[K\r\n",
      "Receiving objects: 100% (28172/28172), 11.87 MiB | 23.56 MiB/s, done.\r\n",
      "Resolving deltas: 100% (21131/21131), done.\r\n"
     ]
    }
   ],
   "source": [
    "!git clone https://github.com/pytorch/fairseq/"
   ]
  },
  {
   "cell_type": "code",
   "execution_count": 5,
   "id": "stunning-property",
   "metadata": {
    "execution": {
     "iopub.execute_input": "2021-05-30T12:44:33.537905Z",
     "iopub.status.busy": "2021-05-30T12:44:33.534369Z",
     "iopub.status.idle": "2021-05-30T12:44:43.447565Z",
     "shell.execute_reply": "2021-05-30T12:44:43.446972Z"
    },
    "papermill": {
     "duration": 9.93788,
     "end_time": "2021-05-30T12:44:43.447702",
     "exception": false,
     "start_time": "2021-05-30T12:44:33.509822",
     "status": "completed"
    },
    "tags": []
   },
   "outputs": [],
   "source": [
    "%%capture\n",
    "!pip install phonemizer"
   ]
  },
  {
   "cell_type": "code",
   "execution_count": 6,
   "id": "adapted-austin",
   "metadata": {
    "execution": {
     "iopub.execute_input": "2021-05-30T12:44:43.494792Z",
     "iopub.status.busy": "2021-05-30T12:44:43.490899Z",
     "iopub.status.idle": "2021-05-30T12:45:24.177262Z",
     "shell.execute_reply": "2021-05-30T12:45:24.176615Z"
    },
    "papermill": {
     "duration": 40.710895,
     "end_time": "2021-05-30T12:45:24.177391",
     "exception": false,
     "start_time": "2021-05-30T12:44:43.466496",
     "status": "completed"
    },
    "tags": []
   },
   "outputs": [],
   "source": [
    "%%capture\n",
    "!pip install git+https://github.com/pytorch/fairseq/"
   ]
  },
  {
   "cell_type": "code",
   "execution_count": 7,
   "id": "frequent-absorption",
   "metadata": {
    "execution": {
     "iopub.execute_input": "2021-05-30T12:45:24.224842Z",
     "iopub.status.busy": "2021-05-30T12:45:24.221412Z",
     "iopub.status.idle": "2021-05-30T12:45:30.019320Z",
     "shell.execute_reply": "2021-05-30T12:45:30.018369Z"
    },
    "papermill": {
     "duration": 5.822331,
     "end_time": "2021-05-30T12:45:30.019469",
     "exception": false,
     "start_time": "2021-05-30T12:45:24.197138",
     "status": "completed"
    },
    "tags": []
   },
   "outputs": [],
   "source": [
    "%%capture\n",
    "!apt-get -y install espeak"
   ]
  },
  {
   "cell_type": "code",
   "execution_count": 8,
   "id": "compressed-introduction",
   "metadata": {
    "execution": {
     "iopub.execute_input": "2021-05-30T12:45:30.067169Z",
     "iopub.status.busy": "2021-05-30T12:45:30.066497Z",
     "iopub.status.idle": "2021-05-30T12:45:31.456584Z",
     "shell.execute_reply": "2021-05-30T12:45:31.455697Z",
     "shell.execute_reply.started": "2021-05-25T22:47:02.096238Z"
    },
    "papermill": {
     "duration": 1.417691,
     "end_time": "2021-05-30T12:45:31.456722",
     "exception": false,
     "start_time": "2021-05-30T12:45:30.039031",
     "status": "completed"
    },
    "tags": []
   },
   "outputs": [
    {
     "name": "stdout",
     "output_type": "stream",
     "text": [
      "Cloning into 'kenlm'...\r\n",
      "remote: Enumerating objects: 13824, done.\u001b[K\r\n",
      "remote: Counting objects: 100% (137/137), done.\u001b[K\r\n",
      "remote: Compressing objects: 100% (79/79), done.\u001b[K\r\n",
      "remote: Total 13824 (delta 76), reused 92 (delta 45), pack-reused 13687\u001b[K\r\n",
      "Receiving objects: 100% (13824/13824), 5.49 MiB | 21.72 MiB/s, done.\r\n",
      "Resolving deltas: 100% (7956/7956), done.\r\n"
     ]
    }
   ],
   "source": [
    "!git clone https://github.com/kpu/kenlm"
   ]
  },
  {
   "cell_type": "code",
   "execution_count": 9,
   "id": "maritime-newfoundland",
   "metadata": {
    "execution": {
     "iopub.execute_input": "2021-05-30T12:45:31.507717Z",
     "iopub.status.busy": "2021-05-30T12:45:31.507179Z",
     "iopub.status.idle": "2021-05-30T12:45:35.757664Z",
     "shell.execute_reply": "2021-05-30T12:45:35.757072Z"
    },
    "papermill": {
     "duration": 4.277138,
     "end_time": "2021-05-30T12:45:35.757789",
     "exception": false,
     "start_time": "2021-05-30T12:45:31.480651",
     "status": "completed"
    },
    "tags": []
   },
   "outputs": [],
   "source": [
    "%%capture\n",
    "!apt-get -y install libeigen3-dev liblzma-dev zlib1g-dev libbz2-dev"
   ]
  },
  {
   "cell_type": "code",
   "execution_count": 10,
   "id": "digital-malpractice",
   "metadata": {
    "execution": {
     "iopub.execute_input": "2021-05-30T12:45:35.808369Z",
     "iopub.status.busy": "2021-05-30T12:45:35.807534Z",
     "iopub.status.idle": "2021-05-30T12:46:38.421657Z",
     "shell.execute_reply": "2021-05-30T12:46:38.420841Z"
    },
    "papermill": {
     "duration": 62.642532,
     "end_time": "2021-05-30T12:46:38.421803",
     "exception": false,
     "start_time": "2021-05-30T12:45:35.779271",
     "status": "completed"
    },
    "tags": []
   },
   "outputs": [],
   "source": [
    "%%capture\n",
    "%cd kenlm\n",
    "!mkdir build\n",
    "%cd build\n",
    "!cmake ..\n",
    "!make -j 4\n",
    "%cd /tmp"
   ]
  },
  {
   "cell_type": "code",
   "execution_count": 11,
   "id": "coordinate-edwards",
   "metadata": {
    "execution": {
     "iopub.execute_input": "2021-05-30T12:46:38.469667Z",
     "iopub.status.busy": "2021-05-30T12:46:38.469033Z",
     "iopub.status.idle": "2021-05-30T12:46:38.471367Z",
     "shell.execute_reply": "2021-05-30T12:46:38.470831Z",
     "shell.execute_reply.started": "2021-05-25T22:58:58.397816Z"
    },
    "papermill": {
     "duration": 0.028186,
     "end_time": "2021-05-30T12:46:38.471491",
     "exception": false,
     "start_time": "2021-05-30T12:46:38.443305",
     "status": "completed"
    },
    "tags": []
   },
   "outputs": [],
   "source": [
    "import os\n",
    "os.environ['PATH'] = f\"{os.environ['PATH']}:/tmp/kenlm/build/bin/\"\n",
    "os.environ['FAIRSEQ_ROOT'] = '/tmp/fairseq'"
   ]
  },
  {
   "cell_type": "code",
   "execution_count": 12,
   "id": "bound-absorption",
   "metadata": {
    "execution": {
     "iopub.execute_input": "2021-05-30T12:46:38.521863Z",
     "iopub.status.busy": "2021-05-30T12:46:38.518366Z",
     "iopub.status.idle": "2021-05-30T12:46:39.289375Z",
     "shell.execute_reply": "2021-05-30T12:46:39.288780Z",
     "shell.execute_reply.started": "2021-05-25T22:55:06.647826Z"
    },
    "papermill": {
     "duration": 0.796375,
     "end_time": "2021-05-30T12:46:39.289504",
     "exception": false,
     "start_time": "2021-05-30T12:46:38.493129",
     "status": "completed"
    },
    "tags": []
   },
   "outputs": [],
   "source": [
    "!cat /kaggle/input/wav2vec-u-cv-swedish-audio/*.wrd | grep -v '^$' | sort| uniq > /kaggle/working/sentences.txt\n"
   ]
  },
  {
   "cell_type": "code",
   "execution_count": 13,
   "id": "ordered-grave",
   "metadata": {
    "execution": {
     "iopub.execute_input": "2021-05-30T12:46:39.338495Z",
     "iopub.status.busy": "2021-05-30T12:46:39.337586Z",
     "iopub.status.idle": "2021-05-30T12:46:39.341575Z",
     "shell.execute_reply": "2021-05-30T12:46:39.341161Z",
     "shell.execute_reply.started": "2021-05-25T22:55:38.373919Z"
    },
    "papermill": {
     "duration": 0.030346,
     "end_time": "2021-05-30T12:46:39.341706",
     "exception": false,
     "start_time": "2021-05-30T12:46:39.311360",
     "status": "completed"
    },
    "tags": []
   },
   "outputs": [
    {
     "name": "stdout",
     "output_type": "stream",
     "text": [
      "/tmp/fairseq/examples/wav2vec/unsupervised\n"
     ]
    }
   ],
   "source": [
    "%cd fairseq/examples/wav2vec/unsupervised"
   ]
  },
  {
   "cell_type": "code",
   "execution_count": 14,
   "id": "treated-dispatch",
   "metadata": {
    "execution": {
     "iopub.execute_input": "2021-05-30T12:46:39.388250Z",
     "iopub.status.busy": "2021-05-30T12:46:39.387704Z",
     "iopub.status.idle": "2021-05-30T12:46:44.104066Z",
     "shell.execute_reply": "2021-05-30T12:46:44.103411Z"
    },
    "papermill": {
     "duration": 4.740543,
     "end_time": "2021-05-30T12:46:44.104193",
     "exception": false,
     "start_time": "2021-05-30T12:46:39.363650",
     "status": "completed"
    },
    "tags": []
   },
   "outputs": [],
   "source": [
    "%%capture\n",
    "!apt-get -y install zsh"
   ]
  },
  {
   "cell_type": "code",
   "execution_count": 15,
   "id": "assigned-occasions",
   "metadata": {
    "execution": {
     "iopub.execute_input": "2021-05-30T12:46:44.152114Z",
     "iopub.status.busy": "2021-05-30T12:46:44.151603Z",
     "iopub.status.idle": "2021-05-30T12:46:44.867295Z",
     "shell.execute_reply": "2021-05-30T12:46:44.866825Z",
     "shell.execute_reply.started": "2021-05-25T22:58:19.000595Z"
    },
    "papermill": {
     "duration": 0.741183,
     "end_time": "2021-05-30T12:46:44.867427",
     "exception": false,
     "start_time": "2021-05-30T12:46:44.126244",
     "status": "completed"
    },
    "tags": []
   },
   "outputs": [],
   "source": [
    "!mkdir /kaggle/working/preppedtext"
   ]
  },
  {
   "cell_type": "code",
   "execution_count": 16,
   "id": "running-input",
   "metadata": {
    "execution": {
     "iopub.execute_input": "2021-05-30T12:46:44.916043Z",
     "iopub.status.busy": "2021-05-30T12:46:44.915496Z",
     "iopub.status.idle": "2021-05-30T12:46:44.918939Z",
     "shell.execute_reply": "2021-05-30T12:46:44.919335Z",
     "shell.execute_reply.started": "2021-05-25T23:04:33.0148Z"
    },
    "papermill": {
     "duration": 0.029761,
     "end_time": "2021-05-30T12:46:44.919476",
     "exception": false,
     "start_time": "2021-05-30T12:46:44.889715",
     "status": "completed"
    },
    "tags": []
   },
   "outputs": [
    {
     "name": "stdout",
     "output_type": "stream",
     "text": [
      "/tmp/fairseq/examples/wav2vec/unsupervised/scripts\n"
     ]
    }
   ],
   "source": [
    "%cd scripts"
   ]
  },
  {
   "cell_type": "markdown",
   "id": "molecular-scholarship",
   "metadata": {
    "papermill": {
     "duration": 0.021337,
     "end_time": "2021-05-30T12:46:44.962504",
     "exception": false,
     "start_time": "2021-05-30T12:46:44.941167",
     "status": "completed"
    },
    "tags": []
   },
   "source": [
    "The next part requires a FastText language id model; I don't know where the 187 language model comes from, but there is a model for 176 languages [here](https://fasttext.cc/docs/en/language-identification.html#content)"
   ]
  },
  {
   "cell_type": "code",
   "execution_count": 17,
   "id": "fleet-catalyst",
   "metadata": {
    "execution": {
     "iopub.execute_input": "2021-05-30T12:46:45.014184Z",
     "iopub.status.busy": "2021-05-30T12:46:45.010204Z",
     "iopub.status.idle": "2021-05-30T12:46:51.254764Z",
     "shell.execute_reply": "2021-05-30T12:46:51.254260Z",
     "shell.execute_reply.started": "2021-05-25T23:26:05.700782Z"
    },
    "papermill": {
     "duration": 6.2704,
     "end_time": "2021-05-30T12:46:51.254892",
     "exception": false,
     "start_time": "2021-05-30T12:46:44.984492",
     "status": "completed"
    },
    "tags": []
   },
   "outputs": [
    {
     "name": "stdout",
     "output_type": "stream",
     "text": [
      "--2021-05-30 12:46:45--  https://dl.fbaipublicfiles.com/fasttext/supervised-models/lid.176.bin\r\n",
      "Resolving dl.fbaipublicfiles.com (dl.fbaipublicfiles.com)... 104.22.75.142, 104.22.74.142, 172.67.9.4, ...\r\n",
      "Connecting to dl.fbaipublicfiles.com (dl.fbaipublicfiles.com)|104.22.75.142|:443... connected.\r\n",
      "HTTP request sent, awaiting response... 200 OK\r\n",
      "Length: 131266198 (125M) [application/octet-stream]\r\n",
      "Saving to: ‘lid.176.bin’\r\n",
      "\r\n",
      "lid.176.bin         100%[===================>] 125.18M  27.5MB/s    in 5.1s    \r\n",
      "\r\n",
      "2021-05-30 12:46:51 (24.8 MB/s) - ‘lid.176.bin’ saved [131266198/131266198]\r\n",
      "\r\n"
     ]
    }
   ],
   "source": [
    "!wget https://dl.fbaipublicfiles.com/fasttext/supervised-models/lid.176.bin"
   ]
  },
  {
   "cell_type": "code",
   "execution_count": 18,
   "id": "entertaining-surfing",
   "metadata": {
    "execution": {
     "iopub.execute_input": "2021-05-30T12:46:51.319958Z",
     "iopub.status.busy": "2021-05-30T12:46:51.315087Z",
     "iopub.status.idle": "2021-05-30T12:46:52.735964Z",
     "shell.execute_reply": "2021-05-30T12:46:52.735366Z",
     "shell.execute_reply.started": "2021-05-25T23:28:29.362953Z"
    },
    "papermill": {
     "duration": 1.452518,
     "end_time": "2021-05-30T12:46:52.736090",
     "exception": false,
     "start_time": "2021-05-30T12:46:51.283572",
     "status": "completed"
    },
    "tags": []
   },
   "outputs": [],
   "source": [
    "!cat normalize_and_filter_text.py|sed -e 's/187/176/' > tmp\n",
    "!mv tmp normalize_and_filter_text.py"
   ]
  },
  {
   "cell_type": "code",
   "execution_count": 19,
   "id": "hazardous-qualification",
   "metadata": {
    "execution": {
     "iopub.execute_input": "2021-05-30T12:46:52.795599Z",
     "iopub.status.busy": "2021-05-30T12:46:52.795051Z",
     "iopub.status.idle": "2021-05-30T12:46:52.797810Z",
     "shell.execute_reply": "2021-05-30T12:46:52.797246Z"
    },
    "papermill": {
     "duration": 0.03408,
     "end_time": "2021-05-30T12:46:52.797934",
     "exception": false,
     "start_time": "2021-05-30T12:46:52.763854",
     "status": "completed"
    },
    "tags": []
   },
   "outputs": [],
   "source": [
    "# Needed to see what's going wrong\n",
    "os.environ['HYDRA_FULL_ERROR'] = '1'"
   ]
  },
  {
   "cell_type": "code",
   "execution_count": 20,
   "id": "considerable-workplace",
   "metadata": {
    "execution": {
     "iopub.execute_input": "2021-05-30T12:46:52.860367Z",
     "iopub.status.busy": "2021-05-30T12:46:52.859694Z",
     "iopub.status.idle": "2021-05-30T12:46:53.571156Z",
     "shell.execute_reply": "2021-05-30T12:46:53.570657Z"
    },
    "papermill": {
     "duration": 0.745925,
     "end_time": "2021-05-30T12:46:53.571279",
     "exception": false,
     "start_time": "2021-05-30T12:46:52.825354",
     "status": "completed"
    },
    "tags": []
   },
   "outputs": [],
   "source": [
    "!mkdir /tmp/fairseq/examples/speech_recognition/kaldi/config"
   ]
  },
  {
   "cell_type": "markdown",
   "id": "becoming-patent",
   "metadata": {
    "papermill": {
     "duration": 0.027484,
     "end_time": "2021-05-30T12:46:53.626376",
     "exception": false,
     "start_time": "2021-05-30T12:46:53.598892",
     "status": "completed"
    },
    "tags": []
   },
   "source": [
    "The first run of `preprocess.py` results in a divide by zero; most of the first part of the script is unneeded, as we already have a phonetic dictionary."
   ]
  },
  {
   "cell_type": "code",
   "execution_count": 21,
   "id": "involved-consolidation",
   "metadata": {
    "_kg_hide-input": true,
    "execution": {
     "iopub.execute_input": "2021-05-30T12:46:53.688671Z",
     "iopub.status.busy": "2021-05-30T12:46:53.687776Z",
     "iopub.status.idle": "2021-05-30T12:46:53.691588Z",
     "shell.execute_reply": "2021-05-30T12:46:53.691937Z"
    },
    "papermill": {
     "duration": 0.037839,
     "end_time": "2021-05-30T12:46:53.692080",
     "exception": false,
     "start_time": "2021-05-30T12:46:53.654241",
     "status": "completed"
    },
    "tags": []
   },
   "outputs": [
    {
     "name": "stdout",
     "output_type": "stream",
     "text": [
      "Overwriting prepare_text.sh\n"
     ]
    }
   ],
   "source": [
    "%%writefile prepare_text.sh\n",
    "#!/usr/bin/env zsh\n",
    "# Copyright (c) Facebook, Inc. and its affiliates.\n",
    "#\n",
    "# This source code is licensed under the MIT license found in the\n",
    "# LICENSE file in the root directory of this source tree.\n",
    "\n",
    "lg=$1\n",
    "text_path=$2\n",
    "target_dir=$3\n",
    "\n",
    "#ph_lg=${lg:l}\n",
    "#if test \"$lg\" = 'fr'; then\n",
    "#  ph_lg='fr-fr'\n",
    "#elif test \"$lg\" = 'en'; then\n",
    "#  ph_lg='en-us'\n",
    "#elif test \"$lg\" = 'pt'; then\n",
    "#  ph_lg='pt-br'\n",
    "#fi\n",
    "ph_lg=\"sv\"\n",
    "\n",
    "echo $lg\n",
    "echo $ph_lg\n",
    "echo $text_path\n",
    "echo $target_dir\n",
    "\n",
    "mkdir -p $target_dir\n",
    "#python normalize_and_filter_text.py --lang $lg < $text_path | grep -v '\\-\\-\\-' >! $target_dir/lm.upper.lid.txt\n",
    "#python $FAIRSEQ_ROOT/fairseq_cli/preprocess.py --dataset-impl mmap --trainpref $target_dir/lm.upper.lid.txt --only-source --destdir $target_dir --thresholdsrc 2 --padding-factor 1 --dict-only\n",
    "#cut -f1 -d' ' $target_dir/dict.txt | grep -v -x '[[:punct:]]*' | grep -Pv '\\d\\d\\d\\d\\d+' >! $target_dir/words.txt\n",
    "cp /kaggle/input/wav2vec-u-cv-swedish-audio/train.wrd $target_dir/lm.upper.lid.txt\n",
    "cut -f1 -d' ' /kaggle/input/wav2vec-u-cv-swedish-audio/dict.train >! $target_dir/words.txt\n",
    "\n",
    "#one=$(echo \"1\" | PHONEMIZER_ESPEAK_PATH=$(which espeak) phonemize -p ' ' -w '' -l $ph_lg --language-switch remove-flags)\n",
    "#sed 's/$/ 1/' $target_dir/words.txt | PHONEMIZER_ESPEAK_PATH=$(which espeak) phonemize -o $target_dir/phones.txt -p ' ' -w '' -l $ph_lg -j 70 --language-switch remove-flags\n",
    "cut -f2- -d' ' /kaggle/input/wav2vec-u-cv-swedish-audio/dict.train >! $target_dir/phones.txt\n",
    "\n",
    "#echo \"one is ${one}\"\n",
    "\n",
    "#sed -i \"s/${one}$//\" $target_dir/phones.txt\n",
    "#paste $target_dir/words.txt $target_dir/phones.txt >! $target_dir/lexicon.lst\n",
    "cp /kaggle/input/wav2vec-u-cv-swedish-audio/dict.train $target_dir/lexicon.lst\n",
    "\n",
    "python $FAIRSEQ_ROOT/fairseq_cli/preprocess.py --dataset-impl mmap --trainpref $target_dir/phones.txt --only-source --destdir $target_dir/phones --thresholdsrc 1000 --padding-factor 1 --dict-only\n",
    "\n",
    "python filter_lexicon.py -d $target_dir/phones/dict.txt < $target_dir/lexicon.lst >! $target_dir/lexicon_filtered.lst\n",
    "python phonemize_with_sil.py -s 0.25 --surround --lexicon $target_dir/lexicon_filtered.lst < $target_dir/lm.upper.lid.txt >! $target_dir/phones/lm.phones.filtered.txt\n",
    "cp $target_dir/phones/dict.txt $target_dir/phones/dict.phn.txt\n",
    "echo \"<SIL> 0\" >> $target_dir/phones/dict.phn.txt\n",
    "python $FAIRSEQ_ROOT/fairseq_cli/preprocess.py --dataset-impl mmap --trainpref $target_dir/phones/lm.phones.filtered.txt --workers 70 --only-source --destdir $target_dir/phones --srcdict $target_dir/phones/dict.phn.txt\n",
    "\n",
    "lmplz -o 4 < $target_dir/lm.upper.lid.txt --discount_fallback --prune 0 0 0 3 >! $target_dir/kenlm.wrd.o40003.arpa\n",
    "build_binary $target_dir/kenlm.wrd.o40003.arpa $target_dir/kenlm.wrd.o40003.bin\n",
    "lg=$lg python $FAIRSEQ_ROOT/examples/speech_recognition/kaldi/kaldi_initializer.py fst_dir=$target_dir/fst/phn_to_words_sil lm_arpa=$target_dir/kenlm.wrd.o40003.arpa wav2letter_lexicon=$target_dir/lexicon_filtered.lst data_dir=$target_dir/phones \"blank_symbol='<SIL>'\"\n",
    "lg=$lg python $FAIRSEQ_ROOT/examples/speech_recognition/kaldi/kaldi_initializer.py fst_dir=$target_dir/fst/phn_to_words lm_arpa=$target_dir/kenlm.wrd.o40003.arpa wav2letter_lexicon=$target_dir/lexicon_filtered.lst data_dir=$target_dir/phones\n",
    "\n",
    "lmplz -o 4 < $target_dir/phones/lm.phones.filtered.txt --discount_fallback >! $target_dir/phones/lm.phones.filtered.04.arpa\n",
    "build_binary $target_dir/phones/lm.phones.filtered.04.arpa $target_dir/phones/lm.phones.filtered.04.bin\n",
    "lmplz -o 6 < $target_dir/phones/lm.phones.filtered.txt --discount_fallback >! $target_dir/phones/lm.phones.filtered.06.arpa\n",
    "build_binary $target_dir/phones/lm.phones.filtered.06.arpa $target_dir/phones/lm.phones.filtered.06.bin\n",
    "\n",
    "lg=$lg python $FAIRSEQ_ROOT/examples/speech_recognition/kaldi/kaldi_initializer.py fst_dir=$target_dir/fst/phn_to_phn_sil lm_arpa=$target_dir/phones/lm.phones.filtered.06.arpa data_dir=$target_dir/phones \"blank_symbol='<SIL>'\""
   ]
  },
  {
   "cell_type": "markdown",
   "id": "roman-watershed",
   "metadata": {
    "papermill": {
     "duration": 0.027301,
     "end_time": "2021-05-30T12:46:53.747937",
     "exception": false,
     "start_time": "2021-05-30T12:46:53.720636",
     "status": "completed"
    },
    "tags": []
   },
   "source": [
    "`config.yaml` needs to exist. Most of the options are set on the command line, but not everything: `in_labels`, `out_labels`, `kaldi_root` and (for one run) `silence_symbol`. The options are:\n",
    "\n",
    "- `in_labels`\n",
    "- `wav2letter_lexicon`: path to wav2letter lexicon: set on the command line\n",
    "- `out_labels`\n",
    "- `kaldi_root`: path to Kaldi: `/opt/kaldi` for my kaggle image\n",
    "- `fst_dir`: path where generated fsts will be saved: set on the command line\n",
    "- `data_dir`: path to phones data: set on the command line\n",
    "- `lm_arpa`: path to the lm in ARPA format: set on the command line\n",
    "- `blank_symbol`: CTC blank symbol (`<s>` is used in the script)\n",
    "- `silence_symbol`: Kaldi symbol for silence (`<SIL>` is set on the command line for two of the scripts)\n",
    "\n"
   ]
  },
  {
   "cell_type": "code",
   "execution_count": 22,
   "id": "popular-modem",
   "metadata": {
    "execution": {
     "iopub.execute_input": "2021-05-30T12:46:53.808585Z",
     "iopub.status.busy": "2021-05-30T12:46:53.808061Z",
     "iopub.status.idle": "2021-05-30T12:46:53.811323Z",
     "shell.execute_reply": "2021-05-30T12:46:53.810793Z"
    },
    "papermill": {
     "duration": 0.035938,
     "end_time": "2021-05-30T12:46:53.811443",
     "exception": false,
     "start_time": "2021-05-30T12:46:53.775505",
     "status": "completed"
    },
    "tags": []
   },
   "outputs": [
    {
     "name": "stdout",
     "output_type": "stream",
     "text": [
      "Writing /tmp/fairseq/examples/speech_recognition/kaldi/config/config.yaml\n"
     ]
    }
   ],
   "source": [
    "%%writefile /tmp/fairseq/examples/speech_recognition/kaldi/config/config.yaml\n",
    "kaldi_root: \"/opt/kaldi\""
   ]
  },
  {
   "cell_type": "markdown",
   "id": "swedish-thong",
   "metadata": {
    "papermill": {
     "duration": 0.028096,
     "end_time": "2021-05-30T12:46:53.868078",
     "exception": false,
     "start_time": "2021-05-30T12:46:53.839982",
     "status": "completed"
    },
    "tags": []
   },
   "source": [
    "There are two lines with missing variables in `prepare_text.sh` - [pull request](https://github.com/pytorch/fairseq/pull/3569) - so replace the file."
   ]
  },
  {
   "cell_type": "code",
   "execution_count": 23,
   "id": "nonprofit-alloy",
   "metadata": {
    "execution": {
     "iopub.execute_input": "2021-05-30T12:46:53.933934Z",
     "iopub.status.busy": "2021-05-30T12:46:53.929314Z",
     "iopub.status.idle": "2021-05-30T12:47:15.457809Z",
     "shell.execute_reply": "2021-05-30T12:47:15.457316Z",
     "shell.execute_reply.started": "2021-05-25T23:28:33.84656Z"
    },
    "papermill": {
     "duration": 21.561382,
     "end_time": "2021-05-30T12:47:15.457945",
     "exception": false,
     "start_time": "2021-05-30T12:46:53.896563",
     "status": "completed"
    },
    "tags": []
   },
   "outputs": [
    {
     "name": "stdout",
     "output_type": "stream",
     "text": [
      "sv\r\n",
      "sv\r\n",
      "/kaggle/working/sentences.txt\r\n",
      "/kaggle/working/preppedtext\r\n",
      "Traceback (most recent call last):\r\n",
      "  File \"/tmp/fairseq/fairseq_cli/preprocess.py\", line 401, in <module>\r\n",
      "    cli_main()\r\n",
      "  File \"/tmp/fairseq/fairseq_cli/preprocess.py\", line 397, in cli_main\r\n",
      "    main(args)\r\n",
      "  File \"/tmp/fairseq/fairseq_cli/preprocess.py\", line 287, in main\r\n",
      "    make_all(args.source_lang, src_dict)\r\n",
      "  File \"/tmp/fairseq/fairseq_cli/preprocess.py\", line 255, in make_all\r\n",
      "    make_dataset(vocab, args.trainpref, \"train\", lang, num_workers=args.workers)\r\n",
      "  File \"/tmp/fairseq/fairseq_cli/preprocess.py\", line 251, in make_dataset\r\n",
      "    make_binary_dataset(vocab, input_prefix, output_prefix, lang, num_workers)\r\n",
      "  File \"/tmp/fairseq/fairseq_cli/preprocess.py\", line 184, in make_binary_dataset\r\n",
      "    100 * sum(replaced.values()) / n_seq_tok[1],\r\n",
      "ZeroDivisionError: division by zero\r\n",
      "=== 1/5 Counting and sorting n-grams ===\r\n",
      "Reading /kaggle/working/preppedtext/lm.upper.lid.txt\r\n",
      "----5---10---15---20---25---30---35---40---45---50---55---60---65---70---75---80---85---90---95--100\r\n",
      "****************************************************************************************************\r\n",
      "Unigram tokens 14359 types 3160\r\n",
      "=== 2/5 Calculating and sorting adjusted counts ===\r\n",
      "Chain sizes: 1:37920 2:2571431424 3:4821433856 4:7714294272\r\n",
      "Statistics:\r\n",
      "1 3160 D1=0.722623 D2=1.14413 D3+=1.45956\r\n",
      "2 10285 D1=0.848104 D2=1.2466 D3+=1.46191\r\n",
      "3 12632 D1=0.943362 D2=1.24166 D3+=1.32723\r\n",
      "4 19/11699 D1=0.970399 D2=1.4843 D3+=2.12351\r\n",
      "Memory estimate for binary LM:\r\n",
      "type     kB\r\n",
      "probing 617 assuming -p 1.5\r\n",
      "probing 764 assuming -r models -p 1.5\r\n",
      "trie    309 without quantization\r\n",
      "trie    182 assuming -q 8 -b 8 quantization \r\n",
      "trie    293 assuming -a 22 array pointer compression\r\n",
      "trie    166 assuming -a 22 -q 8 -b 8 array pointer compression and quantization\r\n",
      "=== 3/5 Calculating and sorting initial probabilities ===\r\n",
      "Chain sizes: 1:37920 2:164560 3:252640 4:456\r\n",
      "----5---10---15---20---25---30---35---40---45---50---55---60---65---70---75---80---85---90---95--100\r\n",
      "####################################################################################################\r\n",
      "=== 4/5 Calculating and writing order-interpolated probabilities ===\r\n",
      "Chain sizes: 1:37920 2:164560 3:252640 4:456\r\n",
      "----5---10---15---20---25---30---35---40---45---50---55---60---65---70---75---80---85---90---95--100\r\n",
      "####################################################################################################\r\n",
      "=== 5/5 Writing ARPA model ===\r\n",
      "----5---10---15---20---25---30---35---40---45---50---55---60---65---70---75---80---85---90---95--100\r\n",
      "****************************************************************************************************\r\n",
      "Name:lmplz\tVmPeak:14916876 kB\tVmRSS:6348 kB\tRSSMax:2975164 kB\tuser:0.415624\tsys:1.62533\tCPU:2.04104\treal:2.04045\r\n",
      "Reading /kaggle/working/preppedtext/kenlm.wrd.o40003.arpa\r\n",
      "----5---10---15---20---25---30---35---40---45---50---55---60---65---70---75---80---85---90---95--100\r\n",
      "****************************************************************************************************\r\n",
      "SUCCESS\r\n",
      "Traceback (most recent call last):\r\n",
      "  File \"/tmp/fairseq/examples/speech_recognition/kaldi/kaldi_initializer.py\", line 698, in <module>\r\n",
      "    cli_main()\r\n",
      "  File \"/opt/conda/lib/python3.7/site-packages/hydra/main.py\", line 37, in decorated_main\r\n",
      "    strict=strict,\r\n",
      "  File \"/opt/conda/lib/python3.7/site-packages/hydra/_internal/utils.py\", line 347, in _run_hydra\r\n",
      "    lambda: hydra.run(\r\n",
      "  File \"/opt/conda/lib/python3.7/site-packages/hydra/_internal/utils.py\", line 201, in run_and_report\r\n",
      "    raise ex\r\n",
      "  File \"/opt/conda/lib/python3.7/site-packages/hydra/_internal/utils.py\", line 198, in run_and_report\r\n",
      "    return func()\r\n",
      "  File \"/opt/conda/lib/python3.7/site-packages/hydra/_internal/utils.py\", line 350, in <lambda>\r\n",
      "    overrides=args.overrides,\r\n",
      "  File \"/opt/conda/lib/python3.7/site-packages/hydra/_internal/hydra.py\", line 112, in run\r\n",
      "    configure_logging=with_log_configuration,\r\n",
      "  File \"/opt/conda/lib/python3.7/site-packages/hydra/core/utils.py\", line 127, in run_job\r\n",
      "    ret.return_value = task_function(task_cfg)\r\n",
      "  File \"/tmp/fairseq/examples/speech_recognition/kaldi/kaldi_initializer.py\", line 677, in cli_main\r\n",
      "    initalize_kaldi(cfg)\r\n",
      "  File \"/tmp/fairseq/examples/speech_recognition/kaldi/kaldi_initializer.py\", line 616, in initalize_kaldi\r\n",
      "    cfg.out_labels = cfg.in_labels\r\n",
      "  File \"/opt/conda/lib/python3.7/site-packages/omegaconf/dictconfig.py\", line 305, in __getattr__\r\n",
      "    self._format_and_raise(key=key, value=None, cause=e)\r\n",
      "  File \"/opt/conda/lib/python3.7/site-packages/omegaconf/base.py\", line 101, in _format_and_raise\r\n",
      "    type_override=type_override,\r\n",
      "  File \"/opt/conda/lib/python3.7/site-packages/omegaconf/_utils.py\", line 694, in format_and_raise\r\n",
      "    _raise(ex, cause)\r\n",
      "  File \"/opt/conda/lib/python3.7/site-packages/omegaconf/_utils.py\", line 610, in _raise\r\n",
      "    raise ex  # set end OC_CAUSE=1 for full backtrace\r\n",
      "omegaconf.errors.MissingMandatoryValue: Missing mandatory value: in_labels\r\n",
      "\tfull_key: in_labels\r\n",
      "\treference_type=Optional[Dict[Union[str, Enum], Any]]\r\n",
      "\tobject_type=dict\r\n",
      "Traceback (most recent call last):\r\n",
      "  File \"/tmp/fairseq/examples/speech_recognition/kaldi/kaldi_initializer.py\", line 698, in <module>\r\n",
      "    cli_main()\r\n",
      "  File \"/opt/conda/lib/python3.7/site-packages/hydra/main.py\", line 37, in decorated_main\r\n",
      "    strict=strict,\r\n",
      "  File \"/opt/conda/lib/python3.7/site-packages/hydra/_internal/utils.py\", line 347, in _run_hydra\r\n",
      "    lambda: hydra.run(\r\n",
      "  File \"/opt/conda/lib/python3.7/site-packages/hydra/_internal/utils.py\", line 201, in run_and_report\r\n",
      "    raise ex\r\n",
      "  File \"/opt/conda/lib/python3.7/site-packages/hydra/_internal/utils.py\", line 198, in run_and_report\r\n",
      "    return func()\r\n",
      "  File \"/opt/conda/lib/python3.7/site-packages/hydra/_internal/utils.py\", line 350, in <lambda>\r\n",
      "    overrides=args.overrides,\r\n",
      "  File \"/opt/conda/lib/python3.7/site-packages/hydra/_internal/hydra.py\", line 112, in run\r\n",
      "    configure_logging=with_log_configuration,\r\n",
      "  File \"/opt/conda/lib/python3.7/site-packages/hydra/core/utils.py\", line 127, in run_job\r\n",
      "    ret.return_value = task_function(task_cfg)\r\n",
      "  File \"/tmp/fairseq/examples/speech_recognition/kaldi/kaldi_initializer.py\", line 677, in cli_main\r\n",
      "    initalize_kaldi(cfg)\r\n",
      "  File \"/tmp/fairseq/examples/speech_recognition/kaldi/kaldi_initializer.py\", line 616, in initalize_kaldi\r\n",
      "    cfg.out_labels = cfg.in_labels\r\n",
      "  File \"/opt/conda/lib/python3.7/site-packages/omegaconf/dictconfig.py\", line 305, in __getattr__\r\n",
      "    self._format_and_raise(key=key, value=None, cause=e)\r\n",
      "  File \"/opt/conda/lib/python3.7/site-packages/omegaconf/base.py\", line 101, in _format_and_raise\r\n",
      "    type_override=type_override,\r\n",
      "  File \"/opt/conda/lib/python3.7/site-packages/omegaconf/_utils.py\", line 694, in format_and_raise\r\n",
      "    _raise(ex, cause)\r\n",
      "  File \"/opt/conda/lib/python3.7/site-packages/omegaconf/_utils.py\", line 610, in _raise\r\n",
      "    raise ex  # set end OC_CAUSE=1 for full backtrace\r\n",
      "omegaconf.errors.MissingMandatoryValue: Missing mandatory value: in_labels\r\n",
      "\tfull_key: in_labels\r\n",
      "\treference_type=Optional[Dict[Union[str, Enum], Any]]\r\n",
      "\tobject_type=dict\r\n",
      "=== 1/5 Counting and sorting n-grams ===\r\n",
      "Reading /kaggle/working/preppedtext/phones/lm.phones.filtered.txt\r\n",
      "----5---10---15---20---25---30---35---40---45---50---55---60---65---70---75---80---85---90---95--100\r\n",
      "Unigram tokens 0 types 3\r\n",
      "=== 2/5 Calculating and sorting adjusted counts ===\r\n",
      "Chain sizes: 1:36 2:2571437824 3:4821446144 4:7714313728\r\n",
      "Substituting fallback discounts for order 0: D1=0.5 D2=1 D3+=1.5\r\n",
      "Substituting fallback discounts for order 1: D1=0.5 D2=1 D3+=1.5\r\n",
      "Substituting fallback discounts for order 2: D1=0.5 D2=1 D3+=1.5\r\n",
      "Substituting fallback discounts for order 3: D1=0.5 D2=1 D3+=1.5\r\n",
      "Statistics:\r\n",
      "1 2 D1=0.5 D2=1 D3+=1.5\r\n",
      "2 0 D1=0.5 D2=1 D3+=1.5\r\n",
      "3 0 D1=0.5 D2=1 D3+=1.5\r\n",
      "4 0 D1=0.5 D2=1 D3+=1.5\r\n",
      "Memory estimate for binary LM:\r\n",
      "type       B\r\n",
      "probing  112 assuming -p 1.5\r\n",
      "probing  132 assuming -r models -p 1.5\r\n",
      "trie     135 without quantization\r\n",
      "trie    5248 assuming -q 8 -b 8 quantization \r\n",
      "trie     181 assuming -a 22 array pointer compression\r\n",
      "trie    5294 assuming -a 22 -q 8 -b 8 array pointer compression and quantization\r\n",
      "=== 3/5 Calculating and sorting initial probabilities ===\r\n",
      "Chain sizes: 1:24 2:16 3:20 4:24\r\n",
      "----5---10---15---20---25---30---35---40---45---50---55---60---65---70---75---80---85---90---95--100\r\n",
      "\r\n",
      "=== 4/5 Calculating and writing order-interpolated probabilities ===\r\n",
      "Chain sizes: 1:24 2:16 3:20 4:24\r\n",
      "----5---10---15---20---25---30---35---40---45---50---55---60---65---70---75---80---85---90---95--100\r\n",
      "\r\n",
      "=== 5/5 Writing ARPA model ===\r\n",
      "----5---10---15---20---25---30---35---40---45---50---55---60---65---70---75---80---85---90---95--100\r\n",
      "\r\n",
      "Name:lmplz\tVmPeak:14916784 kB\tVmRSS:5860 kB\tRSSMax:2956928 kB\tuser:0.376741\tsys:1.3735\tCPU:1.7503\treal:1.75392\r\n",
      "Reading /kaggle/working/preppedtext/phones/lm.phones.filtered.04.arpa\r\n",
      "----5---10---15---20---25---30---35---40---45---50---55---60---65---70---75---80---85---90---95--100\r\n",
      "****************************************************************************************************\r\n",
      "/tmp/kenlm/lm/vocab.cc:305 in void lm::ngram::MissingSentenceMarker(const lm::ngram::Config&, const char*) threw SpecialWordMissingException.\r\n",
      "The ARPA file is missing </s> and the model is configured to reject these models.  Run build_binary -s to disable this check. Byte: 76\r\n",
      "ERROR\r\n",
      "=== 1/5 Counting and sorting n-grams ===\r\n",
      "Reading /kaggle/working/preppedtext/phones/lm.phones.filtered.txt\r\n",
      "----5---10---15---20---25---30---35---40---45---50---55---60---65---70---75---80---85---90---95--100\r\n",
      "Unigram tokens 0 types 3\r\n",
      "=== 2/5 Calculating and sorting adjusted counts ===\r\n",
      "Chain sizes: 1:36 2:929673728 3:1743138176 4:2789021184 5:4067322624 6:5578042368\r\n",
      "Substituting fallback discounts for order 0: D1=0.5 D2=1 D3+=1.5\r\n",
      "Substituting fallback discounts for order 1: D1=0.5 D2=1 D3+=1.5\r\n",
      "Substituting fallback discounts for order 2: D1=0.5 D2=1 D3+=1.5\r\n",
      "Substituting fallback discounts for order 3: D1=0.5 D2=1 D3+=1.5\r\n",
      "Substituting fallback discounts for order 4: D1=0.5 D2=1 D3+=1.5\r\n",
      "Substituting fallback discounts for order 5: D1=0.5 D2=1 D3+=1.5\r\n",
      "Statistics:\r\n",
      "1 2 D1=0.5 D2=1 D3+=1.5\r\n",
      "2 0 D1=0.5 D2=1 D3+=1.5\r\n",
      "3 0 D1=0.5 D2=1 D3+=1.5\r\n",
      "4 0 D1=0.5 D2=1 D3+=1.5\r\n",
      "5 0 D1=0.5 D2=1 D3+=1.5\r\n",
      "6 0 D1=0.5 D2=1 D3+=1.5\r\n",
      "Memory estimate for binary LM:\r\n",
      "type       B\r\n",
      "probing  144 assuming -p 1.5\r\n",
      "probing  172 assuming -r models -p 1.5\r\n",
      "trie     169 without quantization\r\n",
      "trie    9366 assuming -q 8 -b 8 quantization \r\n",
      "trie     261 assuming -a 22 array pointer compression\r\n",
      "trie    9458 assuming -a 22 -q 8 -b 8 array pointer compression and quantization\r\n",
      "=== 3/5 Calculating and sorting initial probabilities ===\r\n",
      "Chain sizes: 1:24 2:16 3:20 4:24 5:28 6:32\r\n",
      "----5---10---15---20---25---30---35---40---45---50---55---60---65---70---75---80---85---90---95--100\r\n",
      "\r\n",
      "=== 4/5 Calculating and writing order-interpolated probabilities ===\r\n",
      "Chain sizes: 1:24 2:16 3:20 4:24 5:28 6:32\r\n",
      "----5---10---15---20---25---30---35---40---45---50---55---60---65---70---75---80---85---90---95--100\r\n",
      "\r\n",
      "=== 5/5 Writing ARPA model ===\r\n",
      "----5---10---15---20---25---30---35---40---45---50---55---60---65---70---75---80---85---90---95--100\r\n",
      "\r\n",
      "Name:lmplz\tVmPeak:14949572 kB\tVmRSS:5936 kB\tRSSMax:2336824 kB\tuser:0.306637\tsys:1.07816\tCPU:1.38486\treal:1.39457\r\n",
      "Reading /kaggle/working/preppedtext/phones/lm.phones.filtered.06.arpa\r\n",
      "----5---10---15---20---25---30---35---40---45---50---55---60---65---70---75---80---85---90---95--100\r\n",
      "****************************************************************************************************\r\n",
      "/tmp/kenlm/lm/vocab.cc:305 in void lm::ngram::MissingSentenceMarker(const lm::ngram::Config&, const char*) threw SpecialWordMissingException.\r\n",
      "The ARPA file is missing </s> and the model is configured to reject these models.  Run build_binary -s to disable this check. Byte: 96\r\n",
      "ERROR\r\n",
      "Traceback (most recent call last):\r\n",
      "  File \"/tmp/fairseq/examples/speech_recognition/kaldi/kaldi_initializer.py\", line 698, in <module>\r\n",
      "    cli_main()\r\n",
      "  File \"/opt/conda/lib/python3.7/site-packages/hydra/main.py\", line 37, in decorated_main\r\n",
      "    strict=strict,\r\n",
      "  File \"/opt/conda/lib/python3.7/site-packages/hydra/_internal/utils.py\", line 347, in _run_hydra\r\n",
      "    lambda: hydra.run(\r\n",
      "  File \"/opt/conda/lib/python3.7/site-packages/hydra/_internal/utils.py\", line 201, in run_and_report\r\n",
      "    raise ex\r\n",
      "  File \"/opt/conda/lib/python3.7/site-packages/hydra/_internal/utils.py\", line 198, in run_and_report\r\n",
      "    return func()\r\n",
      "  File \"/opt/conda/lib/python3.7/site-packages/hydra/_internal/utils.py\", line 350, in <lambda>\r\n",
      "    overrides=args.overrides,\r\n",
      "  File \"/opt/conda/lib/python3.7/site-packages/hydra/_internal/hydra.py\", line 112, in run\r\n",
      "    configure_logging=with_log_configuration,\r\n",
      "  File \"/opt/conda/lib/python3.7/site-packages/hydra/core/utils.py\", line 127, in run_job\r\n",
      "    ret.return_value = task_function(task_cfg)\r\n",
      "  File \"/tmp/fairseq/examples/speech_recognition/kaldi/kaldi_initializer.py\", line 677, in cli_main\r\n",
      "    initalize_kaldi(cfg)\r\n",
      "  File \"/tmp/fairseq/examples/speech_recognition/kaldi/kaldi_initializer.py\", line 616, in initalize_kaldi\r\n",
      "    cfg.out_labels = cfg.in_labels\r\n",
      "  File \"/opt/conda/lib/python3.7/site-packages/omegaconf/dictconfig.py\", line 305, in __getattr__\r\n",
      "    self._format_and_raise(key=key, value=None, cause=e)\r\n",
      "  File \"/opt/conda/lib/python3.7/site-packages/omegaconf/base.py\", line 101, in _format_and_raise\r\n",
      "    type_override=type_override,\r\n",
      "  File \"/opt/conda/lib/python3.7/site-packages/omegaconf/_utils.py\", line 694, in format_and_raise\r\n",
      "    _raise(ex, cause)\r\n",
      "  File \"/opt/conda/lib/python3.7/site-packages/omegaconf/_utils.py\", line 610, in _raise\r\n",
      "    raise ex  # set end OC_CAUSE=1 for full backtrace\r\n",
      "omegaconf.errors.MissingMandatoryValue: Missing mandatory value: in_labels\r\n",
      "\tfull_key: in_labels\r\n",
      "\treference_type=Optional[Dict[Union[str, Enum], Any]]\r\n",
      "\tobject_type=dict\r\n"
     ]
    }
   ],
   "source": [
    "!zsh prepare_text.sh sv /kaggle/working/sentences.txt /kaggle/working/preppedtext"
   ]
  }
 ],
 "metadata": {
  "kernelspec": {
   "display_name": "Python 3",
   "language": "python",
   "name": "python3"
  },
  "language_info": {
   "codemirror_mode": {
    "name": "ipython",
    "version": 3
   },
   "file_extension": ".py",
   "mimetype": "text/x-python",
   "name": "python",
   "nbconvert_exporter": "python",
   "pygments_lexer": "ipython3",
   "version": "3.7.10"
  },
  "papermill": {
   "default_parameters": {},
   "duration": 215.805297,
   "end_time": "2021-05-30T12:47:16.722951",
   "environment_variables": {},
   "exception": null,
   "input_path": "__notebook__.ipynb",
   "output_path": "__notebook__.ipynb",
   "parameters": {},
   "start_time": "2021-05-30T12:43:40.917654",
   "version": "2.3.3"
  }
 },
 "nbformat": 4,
 "nbformat_minor": 5
}
