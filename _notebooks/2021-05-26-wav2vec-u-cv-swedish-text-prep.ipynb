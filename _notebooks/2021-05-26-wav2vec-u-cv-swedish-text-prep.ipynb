{
  "nbformat": 4,
  "nbformat_minor": 5,
  "metadata": {
    "kernelspec": {
      "display_name": "Python 3",
      "language": "python",
      "name": "python3"
    },
    "language_info": {
      "codemirror_mode": {
        "name": "ipython",
        "version": 3
      },
      "file_extension": ".py",
      "mimetype": "text/x-python",
      "name": "python",
      "nbconvert_exporter": "python",
      "pygments_lexer": "ipython3",
      "version": "3.7.10"
    },
    "papermill": {
      "default_parameters": {},
      "duration": 236.798816,
      "end_time": "2021-05-30T15:50:42.588983",
      "environment_variables": {},
      "exception": null,
      "input_path": "__notebook__.ipynb",
      "output_path": "__notebook__.ipynb",
      "parameters": {},
      "start_time": "2021-05-30T15:46:45.790167",
      "version": "2.3.3"
    },
    "colab": {
      "name": "2021-05-26-wav2vec-u-cv-swedish-text-prep.ipynb",
      "provenance": []
    }
  },
  "cells": [
    {
      "cell_type": "markdown",
      "metadata": {
        "id": "Tb8Dlc3cvb-g"
      },
      "source": [
        "# wav2vec-u CV-sv - prepare text\n",
        "\n",
        "> \"Running prepare_text.sh for wav2vec-u on Common Voice Swedish\"\n",
        "\n",
        "- toc: false\n",
        "- branch: master\n",
        "- badges: false\n",
        "- hidden: true\n",
        "- categories: [kaggle, wav2vec-u]"
      ],
      "id": "Tb8Dlc3cvb-g"
    },
    {
      "cell_type": "markdown",
      "metadata": {
        "id": "v8L8t1YLvm0n"
      },
      "source": [
        "Original [here](https://www.kaggle.com/jimregan/wav2vec-u-cv-swedish-text-prep)"
      ],
      "id": "v8L8t1YLvm0n"
    },
    {
      "cell_type": "code",
      "metadata": {
        "_cell_guid": "b1076dfc-b9ad-4769-8c92-a6c4dae69d19",
        "_uuid": "8f2839f25d086af736a60e9eeb907d3b93b6e0e5",
        "execution": {
          "iopub.execute_input": "2021-05-30T15:46:53.230397Z",
          "iopub.status.busy": "2021-05-30T15:46:53.229887Z",
          "iopub.status.idle": "2021-05-30T15:46:53.236161Z",
          "shell.execute_reply": "2021-05-30T15:46:53.236660Z",
          "shell.execute_reply.started": "2021-05-25T22:46:58.262403Z"
        },
        "papermill": {
          "duration": 0.032818,
          "end_time": "2021-05-30T15:46:53.236930",
          "exception": false,
          "start_time": "2021-05-30T15:46:53.204112",
          "status": "completed"
        },
        "tags": [],
        "id": "welcome-offer",
        "outputId": "5692778d-9602-46d7-e136-71f1bd1cfaee"
      },
      "source": [
        "%cd /opt"
      ],
      "id": "welcome-offer",
      "execution_count": null,
      "outputs": [
        {
          "output_type": "stream",
          "text": [
            "/opt\n"
          ],
          "name": "stdout"
        }
      ]
    },
    {
      "cell_type": "code",
      "metadata": {
        "execution": {
          "iopub.execute_input": "2021-05-30T15:46:53.306839Z",
          "iopub.status.busy": "2021-05-30T15:46:53.306217Z",
          "iopub.status.idle": "2021-05-30T15:47:31.683293Z",
          "shell.execute_reply": "2021-05-30T15:47:31.682854Z"
        },
        "papermill": {
          "duration": 38.419926,
          "end_time": "2021-05-30T15:47:31.683409",
          "exception": false,
          "start_time": "2021-05-30T15:46:53.263483",
          "status": "completed"
        },
        "tags": [],
        "id": "painted-roman"
      },
      "source": [
        "%%capture\n",
        "!tar xvf /kaggle/input/extract-prebuilt-kaldi-from-docker/kaldi.tar"
      ],
      "id": "painted-roman",
      "execution_count": null,
      "outputs": []
    },
    {
      "cell_type": "code",
      "metadata": {
        "execution": {
          "iopub.execute_input": "2021-05-30T15:47:31.724739Z",
          "iopub.status.busy": "2021-05-30T15:47:31.724202Z",
          "iopub.status.idle": "2021-05-30T15:47:31.726859Z",
          "shell.execute_reply": "2021-05-30T15:47:31.727379Z"
        },
        "papermill": {
          "duration": 0.026387,
          "end_time": "2021-05-30T15:47:31.727544",
          "exception": false,
          "start_time": "2021-05-30T15:47:31.701157",
          "status": "completed"
        },
        "tags": [],
        "id": "danish-cooking",
        "outputId": "a0b689f8-97dc-460f-a420-f2de6ec16135"
      },
      "source": [
        "%cd /tmp"
      ],
      "id": "danish-cooking",
      "execution_count": null,
      "outputs": [
        {
          "output_type": "stream",
          "text": [
            "/tmp\n"
          ],
          "name": "stdout"
        }
      ]
    },
    {
      "cell_type": "code",
      "metadata": {
        "execution": {
          "iopub.execute_input": "2021-05-30T15:47:31.770798Z",
          "iopub.status.busy": "2021-05-30T15:47:31.767457Z",
          "iopub.status.idle": "2021-05-30T15:47:39.808112Z",
          "shell.execute_reply": "2021-05-30T15:47:39.808555Z",
          "shell.execute_reply.started": "2021-05-25T22:38:20.218298Z"
        },
        "papermill": {
          "duration": 8.062336,
          "end_time": "2021-05-30T15:47:39.808700",
          "exception": false,
          "start_time": "2021-05-30T15:47:31.746364",
          "status": "completed"
        },
        "tags": [],
        "id": "driven-comparative"
      },
      "source": [
        "!git clone https://github.com/pytorch/fairseq/"
      ],
      "id": "driven-comparative",
      "execution_count": null,
      "outputs": []
    },
    {
      "cell_type": "code",
      "metadata": {
        "execution": {
          "iopub.execute_input": "2021-05-30T15:47:39.860043Z",
          "iopub.status.busy": "2021-05-30T15:47:39.859390Z",
          "iopub.status.idle": "2021-05-30T15:47:51.349431Z",
          "shell.execute_reply": "2021-05-30T15:47:51.349001Z"
        },
        "papermill": {
          "duration": 11.517856,
          "end_time": "2021-05-30T15:47:51.349544",
          "exception": false,
          "start_time": "2021-05-30T15:47:39.831688",
          "status": "completed"
        },
        "tags": [],
        "id": "copyrighted-diameter"
      },
      "source": [
        "%%capture\n",
        "!pip install phonemizer"
      ],
      "id": "copyrighted-diameter",
      "execution_count": null,
      "outputs": []
    },
    {
      "cell_type": "code",
      "metadata": {
        "execution": {
          "iopub.execute_input": "2021-05-30T15:47:51.405072Z",
          "iopub.status.busy": "2021-05-30T15:47:51.404459Z",
          "iopub.status.idle": "2021-05-30T15:48:38.552099Z",
          "shell.execute_reply": "2021-05-30T15:48:38.551437Z"
        },
        "papermill": {
          "duration": 47.179551,
          "end_time": "2021-05-30T15:48:38.552240",
          "exception": false,
          "start_time": "2021-05-30T15:47:51.372689",
          "status": "completed"
        },
        "tags": [],
        "id": "described-retirement"
      },
      "source": [
        "%%capture\n",
        "!pip install git+https://github.com/pytorch/fairseq/"
      ],
      "id": "described-retirement",
      "execution_count": null,
      "outputs": []
    },
    {
      "cell_type": "code",
      "metadata": {
        "execution": {
          "iopub.execute_input": "2021-05-30T15:48:38.631233Z",
          "iopub.status.busy": "2021-05-30T15:48:38.630570Z",
          "iopub.status.idle": "2021-05-30T15:48:43.580837Z",
          "shell.execute_reply": "2021-05-30T15:48:43.580202Z"
        },
        "papermill": {
          "duration": 4.993642,
          "end_time": "2021-05-30T15:48:43.580968",
          "exception": false,
          "start_time": "2021-05-30T15:48:38.587326",
          "status": "completed"
        },
        "tags": [],
        "id": "robust-soldier"
      },
      "source": [
        "%%capture\n",
        "!apt-get -y install espeak"
      ],
      "id": "robust-soldier",
      "execution_count": null,
      "outputs": []
    },
    {
      "cell_type": "code",
      "metadata": {
        "execution": {
          "iopub.execute_input": "2021-05-30T15:48:43.656144Z",
          "iopub.status.busy": "2021-05-30T15:48:43.655599Z",
          "iopub.status.idle": "2021-05-30T15:48:45.564972Z",
          "shell.execute_reply": "2021-05-30T15:48:45.565385Z",
          "shell.execute_reply.started": "2021-05-25T22:47:02.096238Z"
        },
        "papermill": {
          "duration": 1.949371,
          "end_time": "2021-05-30T15:48:45.565530",
          "exception": false,
          "start_time": "2021-05-30T15:48:43.616159",
          "status": "completed"
        },
        "tags": [],
        "id": "auburn-penetration"
      },
      "source": [
        "!git clone https://github.com/kpu/kenlm"
      ],
      "id": "auburn-penetration",
      "execution_count": null,
      "outputs": []
    },
    {
      "cell_type": "code",
      "metadata": {
        "execution": {
          "iopub.execute_input": "2021-05-30T15:48:45.631184Z",
          "iopub.status.busy": "2021-05-30T15:48:45.630679Z",
          "iopub.status.idle": "2021-05-30T15:48:48.872848Z",
          "shell.execute_reply": "2021-05-30T15:48:48.872339Z"
        },
        "papermill": {
          "duration": 3.278477,
          "end_time": "2021-05-30T15:48:48.872968",
          "exception": false,
          "start_time": "2021-05-30T15:48:45.594491",
          "status": "completed"
        },
        "tags": [],
        "id": "equal-portfolio"
      },
      "source": [
        "%%capture\n",
        "!apt-get -y install libeigen3-dev liblzma-dev zlib1g-dev libbz2-dev"
      ],
      "id": "equal-portfolio",
      "execution_count": null,
      "outputs": []
    },
    {
      "cell_type": "code",
      "metadata": {
        "execution": {
          "iopub.execute_input": "2021-05-30T15:48:48.936198Z",
          "iopub.status.busy": "2021-05-30T15:48:48.935708Z",
          "iopub.status.idle": "2021-05-30T15:49:41.951729Z",
          "shell.execute_reply": "2021-05-30T15:49:41.951067Z"
        },
        "papermill": {
          "duration": 53.050345,
          "end_time": "2021-05-30T15:49:41.951862",
          "exception": false,
          "start_time": "2021-05-30T15:48:48.901517",
          "status": "completed"
        },
        "tags": [],
        "id": "cooperative-louis"
      },
      "source": [
        "%%capture\n",
        "%cd kenlm\n",
        "!mkdir build\n",
        "%cd build\n",
        "!cmake ..\n",
        "!make -j 4\n",
        "%cd /tmp"
      ],
      "id": "cooperative-louis",
      "execution_count": null,
      "outputs": []
    },
    {
      "cell_type": "code",
      "metadata": {
        "execution": {
          "iopub.execute_input": "2021-05-30T15:49:42.042349Z",
          "iopub.status.busy": "2021-05-30T15:49:42.041712Z",
          "iopub.status.idle": "2021-05-30T15:49:42.044158Z",
          "shell.execute_reply": "2021-05-30T15:49:42.043673Z",
          "shell.execute_reply.started": "2021-05-25T22:58:58.397816Z"
        },
        "papermill": {
          "duration": 0.049347,
          "end_time": "2021-05-30T15:49:42.044261",
          "exception": false,
          "start_time": "2021-05-30T15:49:41.994914",
          "status": "completed"
        },
        "tags": [],
        "id": "announced-wealth"
      },
      "source": [
        "import os\n",
        "os.environ['PATH'] = f\"{os.environ['PATH']}:/tmp/kenlm/build/bin/\"\n",
        "os.environ['FAIRSEQ_ROOT'] = '/tmp/fairseq'"
      ],
      "id": "announced-wealth",
      "execution_count": null,
      "outputs": []
    },
    {
      "cell_type": "code",
      "metadata": {
        "execution": {
          "iopub.execute_input": "2021-05-30T15:49:42.109222Z",
          "iopub.status.busy": "2021-05-30T15:49:42.107054Z",
          "iopub.status.idle": "2021-05-30T15:49:42.434581Z",
          "shell.execute_reply": "2021-05-30T15:49:42.433836Z",
          "shell.execute_reply.started": "2021-05-25T22:55:06.647826Z"
        },
        "papermill": {
          "duration": 0.36141,
          "end_time": "2021-05-30T15:49:42.434694",
          "exception": false,
          "start_time": "2021-05-30T15:49:42.073284",
          "status": "completed"
        },
        "tags": [],
        "id": "southwest-nelson"
      },
      "source": [
        "!cat /kaggle/input/wav2vec-u-cv-swedish-audio/*.wrd | grep -v '^$' | sort| uniq > /kaggle/working/sentences.txt\n"
      ],
      "id": "southwest-nelson",
      "execution_count": null,
      "outputs": []
    },
    {
      "cell_type": "code",
      "metadata": {
        "execution": {
          "iopub.execute_input": "2021-05-30T15:49:42.497367Z",
          "iopub.status.busy": "2021-05-30T15:49:42.496884Z",
          "iopub.status.idle": "2021-05-30T15:49:42.501916Z",
          "shell.execute_reply": "2021-05-30T15:49:42.501341Z",
          "shell.execute_reply.started": "2021-05-25T22:55:38.373919Z"
        },
        "papermill": {
          "duration": 0.038432,
          "end_time": "2021-05-30T15:49:42.502078",
          "exception": false,
          "start_time": "2021-05-30T15:49:42.463646",
          "status": "completed"
        },
        "tags": [],
        "id": "searching-bleeding",
        "outputId": "1d569a3c-baa2-4e4c-e801-e36c2c78d88f"
      },
      "source": [
        "%cd fairseq/examples/wav2vec/unsupervised"
      ],
      "id": "searching-bleeding",
      "execution_count": null,
      "outputs": [
        {
          "output_type": "stream",
          "text": [
            "/tmp/fairseq/examples/wav2vec/unsupervised\n"
          ],
          "name": "stdout"
        }
      ]
    },
    {
      "cell_type": "code",
      "metadata": {
        "execution": {
          "iopub.execute_input": "2021-05-30T15:49:42.597355Z",
          "iopub.status.busy": "2021-05-30T15:49:42.596714Z",
          "iopub.status.idle": "2021-05-30T15:49:46.081687Z",
          "shell.execute_reply": "2021-05-30T15:49:46.081151Z"
        },
        "papermill": {
          "duration": 3.536067,
          "end_time": "2021-05-30T15:49:46.081855",
          "exception": false,
          "start_time": "2021-05-30T15:49:42.545788",
          "status": "completed"
        },
        "tags": [],
        "id": "traditional-thirty"
      },
      "source": [
        "%%capture\n",
        "!apt-get -y install zsh"
      ],
      "id": "traditional-thirty",
      "execution_count": null,
      "outputs": []
    },
    {
      "cell_type": "code",
      "metadata": {
        "execution": {
          "iopub.execute_input": "2021-05-30T15:49:46.173740Z",
          "iopub.status.busy": "2021-05-30T15:49:46.173257Z",
          "iopub.status.idle": "2021-05-30T15:49:46.453875Z",
          "shell.execute_reply": "2021-05-30T15:49:46.453355Z",
          "shell.execute_reply.started": "2021-05-25T22:58:19.000595Z"
        },
        "papermill": {
          "duration": 0.3284,
          "end_time": "2021-05-30T15:49:46.453999",
          "exception": false,
          "start_time": "2021-05-30T15:49:46.125599",
          "status": "completed"
        },
        "tags": [],
        "id": "judicial-yugoslavia"
      },
      "source": [
        "!mkdir /kaggle/working/preppedtext"
      ],
      "id": "judicial-yugoslavia",
      "execution_count": null,
      "outputs": []
    },
    {
      "cell_type": "code",
      "metadata": {
        "execution": {
          "iopub.execute_input": "2021-05-30T15:49:46.517001Z",
          "iopub.status.busy": "2021-05-30T15:49:46.516409Z",
          "iopub.status.idle": "2021-05-30T15:49:46.519823Z",
          "shell.execute_reply": "2021-05-30T15:49:46.520333Z",
          "shell.execute_reply.started": "2021-05-25T23:04:33.0148Z"
        },
        "papermill": {
          "duration": 0.037329,
          "end_time": "2021-05-30T15:49:46.520482",
          "exception": false,
          "start_time": "2021-05-30T15:49:46.483153",
          "status": "completed"
        },
        "tags": [],
        "id": "engaging-princeton",
        "outputId": "42ba9f3b-a6ee-4e73-dc07-6ad878441534"
      },
      "source": [
        "%cd scripts"
      ],
      "id": "engaging-princeton",
      "execution_count": null,
      "outputs": [
        {
          "output_type": "stream",
          "text": [
            "/tmp/fairseq/examples/wav2vec/unsupervised/scripts\n"
          ],
          "name": "stdout"
        }
      ]
    },
    {
      "cell_type": "markdown",
      "metadata": {
        "papermill": {
          "duration": 0.042909,
          "end_time": "2021-05-30T15:49:46.606603",
          "exception": false,
          "start_time": "2021-05-30T15:49:46.563694",
          "status": "completed"
        },
        "tags": [],
        "id": "incorrect-grill"
      },
      "source": [
        "The next part requires a FastText language id model; I don't know where the 187 language model comes from, but there is a model for 176 languages [here](https://fasttext.cc/docs/en/language-identification.html#content)"
      ],
      "id": "incorrect-grill"
    },
    {
      "cell_type": "code",
      "metadata": {
        "execution": {
          "iopub.execute_input": "2021-05-30T15:49:46.700286Z",
          "iopub.status.busy": "2021-05-30T15:49:46.697749Z",
          "iopub.status.idle": "2021-05-30T15:49:59.665722Z",
          "shell.execute_reply": "2021-05-30T15:49:59.665274Z",
          "shell.execute_reply.started": "2021-05-25T23:26:05.700782Z"
        },
        "papermill": {
          "duration": 13.015984,
          "end_time": "2021-05-30T15:49:59.665834",
          "exception": false,
          "start_time": "2021-05-30T15:49:46.649850",
          "status": "completed"
        },
        "tags": [],
        "id": "discrete-columbia"
      },
      "source": [
        "!wget https://dl.fbaipublicfiles.com/fasttext/supervised-models/lid.176.bin"
      ],
      "id": "discrete-columbia",
      "execution_count": null,
      "outputs": []
    },
    {
      "cell_type": "code",
      "metadata": {
        "execution": {
          "iopub.execute_input": "2021-05-30T15:49:59.753558Z",
          "iopub.status.busy": "2021-05-30T15:49:59.753049Z",
          "iopub.status.idle": "2021-05-30T15:50:00.291944Z",
          "shell.execute_reply": "2021-05-30T15:50:00.291441Z",
          "shell.execute_reply.started": "2021-05-25T23:28:29.362953Z"
        },
        "papermill": {
          "duration": 0.585651,
          "end_time": "2021-05-30T15:50:00.292077",
          "exception": false,
          "start_time": "2021-05-30T15:49:59.706426",
          "status": "completed"
        },
        "tags": [],
        "id": "alleged-willow"
      },
      "source": [
        "!cat normalize_and_filter_text.py|sed -e 's/187/176/' > tmp\n",
        "!mv tmp normalize_and_filter_text.py"
      ],
      "id": "alleged-willow",
      "execution_count": null,
      "outputs": []
    },
    {
      "cell_type": "code",
      "metadata": {
        "execution": {
          "iopub.execute_input": "2021-05-30T15:50:00.377609Z",
          "iopub.status.busy": "2021-05-30T15:50:00.377116Z",
          "iopub.status.idle": "2021-05-30T15:50:00.380048Z",
          "shell.execute_reply": "2021-05-30T15:50:00.379648Z"
        },
        "papermill": {
          "duration": 0.048158,
          "end_time": "2021-05-30T15:50:00.380148",
          "exception": false,
          "start_time": "2021-05-30T15:50:00.331990",
          "status": "completed"
        },
        "tags": [],
        "id": "dedicated-alarm"
      },
      "source": [
        "# Needed to see what's going wrong\n",
        "os.environ['HYDRA_FULL_ERROR'] = '1'"
      ],
      "id": "dedicated-alarm",
      "execution_count": null,
      "outputs": []
    },
    {
      "cell_type": "code",
      "metadata": {
        "execution": {
          "iopub.execute_input": "2021-05-30T15:50:00.462628Z",
          "iopub.status.busy": "2021-05-30T15:50:00.462156Z",
          "iopub.status.idle": "2021-05-30T15:50:00.464453Z",
          "shell.execute_reply": "2021-05-30T15:50:00.464056Z"
        },
        "papermill": {
          "duration": 0.045137,
          "end_time": "2021-05-30T15:50:00.464563",
          "exception": false,
          "start_time": "2021-05-30T15:50:00.419426",
          "status": "completed"
        },
        "tags": [],
        "id": "strategic-trading"
      },
      "source": [
        "import os\n",
        "os.environ['LD_LIBRARY_PATH'] = '/opt/conda/lib:/opt/kaldi/tools/openfst-1.6.7/lib:/opt/kaldi/src/lib'"
      ],
      "id": "strategic-trading",
      "execution_count": null,
      "outputs": []
    },
    {
      "cell_type": "markdown",
      "metadata": {
        "papermill": {
          "duration": 0.040367,
          "end_time": "2021-05-30T15:50:00.545473",
          "exception": false,
          "start_time": "2021-05-30T15:50:00.505106",
          "status": "completed"
        },
        "tags": [],
        "id": "boolean-aging"
      },
      "source": [
        "There are two lines with missing variables in `prepare_text.sh` - [pull request](https://github.com/pytorch/fairseq/pull/3569) - so replace the file.\n",
        "\n",
        "While I'm replacing the file: most of the first part of the script is unneeded, as I already have a phonetic dictionary, so I'm using that instead.\n",
        "\n",
        "With the calls of the `preprocess.py` script, make sure to check the threshold: there's a divide by zero if the threshold is set too high."
      ],
      "id": "boolean-aging"
    },
    {
      "cell_type": "markdown",
      "metadata": {
        "papermill": {
          "duration": 0.04037,
          "end_time": "2021-05-30T15:50:00.627225",
          "exception": false,
          "start_time": "2021-05-30T15:50:00.586855",
          "status": "completed"
        },
        "tags": [],
        "id": "sound-manner"
      },
      "source": [
        "Config options for `kaldi_initializer.py`\n",
        "\n",
        "- `in_labels`: a naming component, for the Kaldi lexicons/fsts (required)\n",
        "- `wav2letter_lexicon`: path to wav2letter lexicon\n",
        "- `out_labels`: a naming component, for the Kaldi lexicons/fsts: set to `in_label` if missing\n",
        "- `kaldi_root`: path to Kaldi: `/opt/kaldi` for my kaggle image\n",
        "- `fst_dir`: path where generated fsts will be saved\n",
        "- `data_dir`: path to phones data\n",
        "- `lm_arpa`: path to the lm in ARPA format\n",
        "- `blank_symbol`: CTC blank symbol (`<s>` here)\n",
        "- `silence_symbol`: Kaldi symbol for silence (`<SIL>` is set for two of the scripts)\n",
        "\n",
        "A config file needs to exist for this, even though the options set in it seem to be ignored."
      ],
      "id": "sound-manner"
    },
    {
      "cell_type": "code",
      "metadata": {
        "execution": {
          "iopub.execute_input": "2021-05-30T15:50:00.709906Z",
          "iopub.status.busy": "2021-05-30T15:50:00.709465Z",
          "iopub.status.idle": "2021-05-30T15:50:00.990534Z",
          "shell.execute_reply": "2021-05-30T15:50:00.990100Z"
        },
        "papermill": {
          "duration": 0.32394,
          "end_time": "2021-05-30T15:50:00.990647",
          "exception": false,
          "start_time": "2021-05-30T15:50:00.666707",
          "status": "completed"
        },
        "tags": [],
        "id": "adaptive-calculation"
      },
      "source": [
        "!mkdir /tmp/fairseq/examples/speech_recognition/kaldi/config/"
      ],
      "id": "adaptive-calculation",
      "execution_count": null,
      "outputs": []
    },
    {
      "cell_type": "code",
      "metadata": {
        "execution": {
          "iopub.execute_input": "2021-05-30T15:50:01.078214Z",
          "iopub.status.busy": "2021-05-30T15:50:01.077711Z",
          "iopub.status.idle": "2021-05-30T15:50:01.081372Z",
          "shell.execute_reply": "2021-05-30T15:50:01.081813Z"
        },
        "papermill": {
          "duration": 0.050151,
          "end_time": "2021-05-30T15:50:01.081969",
          "exception": false,
          "start_time": "2021-05-30T15:50:01.031818",
          "status": "completed"
        },
        "tags": [],
        "id": "straight-morocco",
        "outputId": "c4ccae41-fa1d-4c5c-a4b6-959d88e71b93"
      },
      "source": [
        "%%writefile /tmp/fairseq/examples/speech_recognition/kaldi/config/config.yaml\n",
        "kaldi_root: \"/opt/kaldi\""
      ],
      "id": "straight-morocco",
      "execution_count": null,
      "outputs": [
        {
          "output_type": "stream",
          "text": [
            "Writing /tmp/fairseq/examples/speech_recognition/kaldi/config/config.yaml\n"
          ],
          "name": "stdout"
        }
      ]
    },
    {
      "cell_type": "code",
      "metadata": {
        "_kg_hide-input": true,
        "execution": {
          "iopub.execute_input": "2021-05-30T15:50:01.168732Z",
          "iopub.status.busy": "2021-05-30T15:50:01.168002Z",
          "iopub.status.idle": "2021-05-30T15:50:01.174048Z",
          "shell.execute_reply": "2021-05-30T15:50:01.173653Z"
        },
        "papermill": {
          "duration": 0.052733,
          "end_time": "2021-05-30T15:50:01.174168",
          "exception": false,
          "start_time": "2021-05-30T15:50:01.121435",
          "status": "completed"
        },
        "tags": [],
        "id": "organizational-membership",
        "outputId": "d1b311a6-a9d7-4e48-c811-4ee84ef83d89"
      },
      "source": [
        "%%writefile prepare_text.sh\n",
        "#!/usr/bin/env zsh\n",
        "# Copyright (c) Facebook, Inc. and its affiliates.\n",
        "#\n",
        "# This source code is licensed under the MIT license found in the\n",
        "# LICENSE file in the root directory of this source tree.\n",
        "\n",
        "lg=$1\n",
        "text_path=$2\n",
        "target_dir=$3\n",
        "\n",
        "#ph_lg=${lg:l}\n",
        "#if test \"$lg\" = 'fr'; then\n",
        "#  ph_lg='fr-fr'\n",
        "#elif test \"$lg\" = 'en'; then\n",
        "#  ph_lg='en-us'\n",
        "#elif test \"$lg\" = 'pt'; then\n",
        "#  ph_lg='pt-br'\n",
        "#fi\n",
        "ph_lg=\"sv\"\n",
        "\n",
        "echo $lg\n",
        "echo $ph_lg\n",
        "echo $text_path\n",
        "echo $target_dir\n",
        "\n",
        "mkdir -p $target_dir\n",
        "#python normalize_and_filter_text.py --lang $lg < $text_path | grep -v '\\-\\-\\-' >! $target_dir/lm.upper.lid.txt\n",
        "#python $FAIRSEQ_ROOT/fairseq_cli/preprocess.py --dataset-impl mmap --trainpref $target_dir/lm.upper.lid.txt --only-source --destdir $target_dir --thresholdsrc 2 --padding-factor 1 --dict-only\n",
        "#cut -f1 -d' ' $target_dir/dict.txt | grep -v -x '[[:punct:]]*' | grep -Pv '\\d\\d\\d\\d\\d+' >! $target_dir/words.txt\n",
        "cp /kaggle/input/wav2vec-u-cv-swedish-audio/train.wrd $target_dir/lm.upper.lid.txt\n",
        "cut -f1 -d' ' /kaggle/input/wav2vec-u-cv-swedish-audio/dict.train >! $target_dir/words.txt\n",
        "\n",
        "#one=$(echo \"1\" | PHONEMIZER_ESPEAK_PATH=$(which espeak) phonemize -p ' ' -w '' -l $ph_lg --language-switch remove-flags)\n",
        "#sed 's/$/ 1/' $target_dir/words.txt | PHONEMIZER_ESPEAK_PATH=$(which espeak) phonemize -o $target_dir/phones.txt -p ' ' -w '' -l $ph_lg -j 70 --language-switch remove-flags\n",
        "cut -f2- -d' ' /kaggle/input/wav2vec-u-cv-swedish-audio/dict.train >! $target_dir/phones.txt\n",
        "\n",
        "#echo \"one is ${one}\"\n",
        "\n",
        "#sed -i \"s/${one}$//\" $target_dir/phones.txt\n",
        "#paste $target_dir/words.txt $target_dir/phones.txt >! $target_dir/lexicon.lst\n",
        "cp /kaggle/input/wav2vec-u-cv-swedish-audio/dict.train $target_dir/lexicon.lst\n",
        "\n",
        "#python $FAIRSEQ_ROOT/fairseq_cli/preprocess.py --dataset-impl mmap --trainpref $target_dir/phones.txt --only-source --destdir $target_dir/phones --thresholdsrc 1000 --padding-factor 1 --dict-only\n",
        "python $FAIRSEQ_ROOT/fairseq_cli/preprocess.py --dataset-impl mmap --trainpref $target_dir/phones.txt --only-source --destdir $target_dir/phones --thresholdsrc 2 --padding-factor 1 --dict-only\n",
        "\n",
        "python filter_lexicon.py -d $target_dir/phones/dict.txt < $target_dir/lexicon.lst >! $target_dir/lexicon_filtered.lst\n",
        "python phonemize_with_sil.py -s 0.25 --surround --lexicon $target_dir/lexicon_filtered.lst < $target_dir/lm.upper.lid.txt >! $target_dir/phones/lm.phones.filtered.txt\n",
        "cp $target_dir/phones/dict.txt $target_dir/phones/dict.phn.txt\n",
        "echo \"<SIL> 0\" >> $target_dir/phones/dict.phn.txt\n",
        "python $FAIRSEQ_ROOT/fairseq_cli/preprocess.py --dataset-impl mmap --trainpref $target_dir/phones/lm.phones.filtered.txt --workers 70 --only-source --destdir $target_dir/phones --srcdict $target_dir/phones/dict.phn.txt\n",
        "\n",
        "lmplz -o 4 < $target_dir/lm.upper.lid.txt --discount_fallback --prune 0 0 0 3 >! $target_dir/kenlm.wrd.o40003.arpa\n",
        "build_binary $target_dir/kenlm.wrd.o40003.arpa $target_dir/kenlm.wrd.o40003.bin\n",
        "lg=$lg python $FAIRSEQ_ROOT/examples/speech_recognition/kaldi/kaldi_initializer.py fst_dir=$target_dir/fst/phn_to_words_sil lm_arpa=$target_dir/kenlm.wrd.o40003.arpa wav2letter_lexicon=$target_dir/lexicon_filtered.lst data_dir=$target_dir/phones \"blank_symbol='<SIL>'\" \"in_labels='phn'\" \"kaldi_root='/opt/kaldi'\"\n",
        "lg=$lg python $FAIRSEQ_ROOT/examples/speech_recognition/kaldi/kaldi_initializer.py fst_dir=$target_dir/fst/phn_to_words lm_arpa=$target_dir/kenlm.wrd.o40003.arpa wav2letter_lexicon=$target_dir/lexicon_filtered.lst data_dir=$target_dir/phones  \"in_labels='phn'\" \"kaldi_root='/opt/kaldi'\"\n",
        "\n",
        "lmplz -o 4 < $target_dir/phones/lm.phones.filtered.txt --discount_fallback >! $target_dir/phones/lm.phones.filtered.04.arpa\n",
        "build_binary -s $target_dir/phones/lm.phones.filtered.04.arpa $target_dir/phones/lm.phones.filtered.04.bin\n",
        "lmplz -o 6 < $target_dir/phones/lm.phones.filtered.txt --discount_fallback >! $target_dir/phones/lm.phones.filtered.06.arpa\n",
        "build_binary -s $target_dir/phones/lm.phones.filtered.06.arpa $target_dir/phones/lm.phones.filtered.06.bin\n",
        "\n",
        "lg=$lg python $FAIRSEQ_ROOT/examples/speech_recognition/kaldi/kaldi_initializer.py fst_dir=$target_dir/fst/phn_to_phn_sil lm_arpa=$target_dir/phones/lm.phones.filtered.06.arpa data_dir=$target_dir/phones \"blank_symbol='<SIL>'\" \"in_labels='phn'\" \"kaldi_root='/opt/kaldi'\""
      ],
      "id": "organizational-membership",
      "execution_count": null,
      "outputs": [
        {
          "output_type": "stream",
          "text": [
            "Overwriting prepare_text.sh\n"
          ],
          "name": "stdout"
        }
      ]
    },
    {
      "cell_type": "markdown",
      "metadata": {
        "papermill": {
          "duration": 0.040205,
          "end_time": "2021-05-30T15:50:01.255805",
          "exception": false,
          "start_time": "2021-05-30T15:50:01.215600",
          "status": "completed"
        },
        "tags": [],
        "id": "dynamic-walker"
      },
      "source": [
        "`add-self-loop-simple.cc` attempts to use `std::endl` with `KALDI_LOG`, which doesn't work, so rewrite that (I'm not sure if this actually prevents anything from working, but it is really distracting)."
      ],
      "id": "dynamic-walker"
    },
    {
      "cell_type": "code",
      "metadata": {
        "_kg_hide-input": true,
        "execution": {
          "iopub.execute_input": "2021-05-30T15:50:01.341496Z",
          "iopub.status.busy": "2021-05-30T15:50:01.340931Z",
          "iopub.status.idle": "2021-05-30T15:50:01.344549Z",
          "shell.execute_reply": "2021-05-30T15:50:01.344125Z"
        },
        "papermill": {
          "duration": 0.048429,
          "end_time": "2021-05-30T15:50:01.344658",
          "exception": false,
          "start_time": "2021-05-30T15:50:01.296229",
          "status": "completed"
        },
        "tags": [],
        "id": "whole-upper",
        "outputId": "ba8a6a77-72b5-49a1-a82e-9dca27829629"
      },
      "source": [
        "%%writefile /tmp/fairseq/examples/speech_recognition/kaldi/add-self-loop-simple.cc\n",
        "/*\n",
        "* Copyright (c) Facebook, Inc. and its affiliates.\n",
        "*\n",
        "* This source code is licensed under the MIT license found in the\n",
        "* LICENSE file in the root directory of this source tree.\n",
        "*/\n",
        "\n",
        "#include <iostream>\n",
        "#include \"fstext/fstext-lib.h\" // @manual\n",
        "#include \"util/common-utils.h\" // @manual\n",
        "\n",
        "/*\n",
        " * This program is to modify a FST without self-loop by:\n",
        " *   for each incoming arc with non-eps input symbol, add a self-loop arc\n",
        " *   with that non-eps symbol as input and eps as output.\n",
        " *\n",
        " * This is to make sure the resultant FST can do deduplication for repeated\n",
        " * symbols, which is very common in acoustic model\n",
        " *\n",
        " */\n",
        "namespace {\n",
        "int32 AddSelfLoopsSimple(fst::StdVectorFst* fst) {\n",
        "  typedef fst::MutableArcIterator<fst::StdVectorFst> IterType;\n",
        "\n",
        "  int32 num_states_before = fst->NumStates();\n",
        "  fst::MakePrecedingInputSymbolsSame(false, fst);\n",
        "  int32 num_states_after = fst->NumStates();\n",
        "  KALDI_LOG << \"There are \" << num_states_before\n",
        "            << \" states in the original FST; \"\n",
        "            << \" after MakePrecedingInputSymbolsSame, there are \"\n",
        "            << num_states_after << \" states \";\n",
        "\n",
        "  auto weight_one = fst::StdArc::Weight::One();\n",
        "\n",
        "  int32 num_arc_added = 0;\n",
        "\n",
        "  fst::StdArc self_loop_arc;\n",
        "  self_loop_arc.weight = weight_one;\n",
        "\n",
        "  int32 num_states = fst->NumStates();\n",
        "  std::vector<std::set<int32>> incoming_non_eps_label_per_state(num_states);\n",
        "\n",
        "  for (int32 state = 0; state < num_states; state++) {\n",
        "    for (IterType aiter(fst, state); !aiter.Done(); aiter.Next()) {\n",
        "      fst::StdArc arc(aiter.Value());\n",
        "      if (arc.ilabel != 0) {\n",
        "        incoming_non_eps_label_per_state[arc.nextstate].insert(arc.ilabel);\n",
        "      }\n",
        "    }\n",
        "  }\n",
        "\n",
        "  for (int32 state = 0; state < num_states; state++) {\n",
        "    if (!incoming_non_eps_label_per_state[state].empty()) {\n",
        "      auto& ilabel_set = incoming_non_eps_label_per_state[state];\n",
        "      for (auto it = ilabel_set.begin(); it != ilabel_set.end(); it++) {\n",
        "        self_loop_arc.ilabel = *it;\n",
        "        self_loop_arc.olabel = 0;\n",
        "        self_loop_arc.nextstate = state;\n",
        "        fst->AddArc(state, self_loop_arc);\n",
        "        num_arc_added++;\n",
        "      }\n",
        "    }\n",
        "  }\n",
        "  return num_arc_added;\n",
        "}\n",
        "\n",
        "void print_usage() {\n",
        "  std::cout << \"add-self-loop-simple usage:\\n\"\n",
        "               \"\\tadd-self-loop-simple <in-fst> <out-fst> \\n\";\n",
        "}\n",
        "} // namespace\n",
        "\n",
        "int main(int argc, char** argv) {\n",
        "  if (argc != 3) {\n",
        "    print_usage();\n",
        "    exit(1);\n",
        "  }\n",
        "\n",
        "  auto input = argv[1];\n",
        "  auto output = argv[2];\n",
        "\n",
        "  auto fst = fst::ReadFstKaldi(input);\n",
        "  auto num_states = fst->NumStates();\n",
        "  KALDI_LOG << \"Loading FST from \" << input << \" with \" << num_states\n",
        "            << \" states.\";\n",
        "\n",
        "  int32 num_arc_added = AddSelfLoopsSimple(fst);\n",
        "  KALDI_LOG << \"Adding \" << num_arc_added << \" self-loop arcs \";\n",
        "\n",
        "  fst::WriteFstKaldi(*fst, std::string(output));\n",
        "  KALDI_LOG << \"Writing FST to \" << output;\n",
        "\n",
        "  delete fst;\n",
        "}"
      ],
      "id": "whole-upper",
      "execution_count": null,
      "outputs": [
        {
          "output_type": "stream",
          "text": [
            "Overwriting /tmp/fairseq/examples/speech_recognition/kaldi/add-self-loop-simple.cc\n"
          ],
          "name": "stdout"
        }
      ]
    },
    {
      "cell_type": "code",
      "metadata": {
        "execution": {
          "iopub.execute_input": "2021-05-30T15:50:01.433332Z",
          "iopub.status.busy": "2021-05-30T15:50:01.432809Z",
          "iopub.status.idle": "2021-05-30T15:50:41.796135Z",
          "shell.execute_reply": "2021-05-30T15:50:41.795422Z",
          "shell.execute_reply.started": "2021-05-25T23:28:33.84656Z"
        },
        "papermill": {
          "duration": 40.409853,
          "end_time": "2021-05-30T15:50:41.796279",
          "exception": false,
          "start_time": "2021-05-30T15:50:01.386426",
          "status": "completed"
        },
        "tags": [],
        "id": "partial-quarter",
        "outputId": "ee4f7e43-5a09-4bcf-b7b3-2701df035e7d"
      },
      "source": [
        "!zsh prepare_text.sh sv /kaggle/working/sentences.txt /kaggle/working/preppedtext"
      ],
      "id": "partial-quarter",
      "execution_count": null,
      "outputs": [
        {
          "output_type": "stream",
          "text": [
            "sv\r\n",
            "sv\r\n",
            "/kaggle/working/sentences.txt\r\n",
            "/kaggle/working/preppedtext\r\n",
            "=== 1/5 Counting and sorting n-grams ===\r\n",
            "Reading /kaggle/working/preppedtext/lm.upper.lid.txt\r\n",
            "----5---10---15---20---25---30---35---40---45---50---55---60---65---70---75---80---85---90---95--100\r\n",
            "****************************************************************************************************\r\n",
            "Unigram tokens 14359 types 3160\r\n",
            "=== 2/5 Calculating and sorting adjusted counts ===\r\n",
            "Chain sizes: 1:37920 2:2571431424 3:4821433856 4:7714294272\r\n",
            "Statistics:\r\n",
            "1 3160 D1=0.722623 D2=1.14413 D3+=1.45956\r\n",
            "2 10285 D1=0.848104 D2=1.2466 D3+=1.46191\r\n",
            "3 12632 D1=0.943362 D2=1.24166 D3+=1.32723\r\n",
            "4 19/11699 D1=0.970399 D2=1.4843 D3+=2.12351\r\n",
            "Memory estimate for binary LM:\r\n",
            "type     kB\r\n",
            "probing 617 assuming -p 1.5\r\n",
            "probing 764 assuming -r models -p 1.5\r\n",
            "trie    309 without quantization\r\n",
            "trie    182 assuming -q 8 -b 8 quantization \r\n",
            "trie    293 assuming -a 22 array pointer compression\r\n",
            "trie    166 assuming -a 22 -q 8 -b 8 array pointer compression and quantization\r\n",
            "=== 3/5 Calculating and sorting initial probabilities ===\r\n",
            "Chain sizes: 1:37920 2:164560 3:252640 4:456\r\n",
            "----5---10---15---20---25---30---35---40---45---50---55---60---65---70---75---80---85---90---95--100\r\n",
            "####################################################################################################\r\n",
            "=== 4/5 Calculating and writing order-interpolated probabilities ===\r\n",
            "Chain sizes: 1:37920 2:164560 3:252640 4:456\r\n",
            "----5---10---15---20---25---30---35---40---45---50---55---60---65---70---75---80---85---90---95--100\r\n",
            "####################################################################################################\r\n",
            "=== 5/5 Writing ARPA model ===\r\n",
            "----5---10---15---20---25---30---35---40---45---50---55---60---65---70---75---80---85---90---95--100\r\n",
            "****************************************************************************************************\r\n",
            "Name:lmplz\tVmPeak:14925024 kB\tVmRSS:6488 kB\tRSSMax:2975268 kB\tuser:0.194576\tsys:0.839708\tCPU:1.03431\treal:1.03864\r\n",
            "Reading /kaggle/working/preppedtext/kenlm.wrd.o40003.arpa\r\n",
            "----5---10---15---20---25---30---35---40---45---50---55---60---65---70---75---80---85---90---95--100\r\n",
            "****************************************************************************************************\r\n",
            "SUCCESS\r\n",
            "[2021-05-30 15:50:13,771][__main__][INFO] - Creating /kaggle/working/preppedtext/fst/phn_to_words_sil/kaldi_dict.phn.txt\r\n",
            "[2021-05-30 15:50:13,771][__main__][INFO] - Creating /kaggle/working/preppedtext/fst/phn_to_words_sil/G_kenlm.wrd.o40003.fst\r\n",
            "/opt/kaldi/src/lmbin/arpa2fst --disambig-symbol=#0 --write-symbol-table=/kaggle/working/preppedtext/fst/phn_to_words_sil/kaldi_dict.kenlm.wrd.o40003.txt /kaggle/working/preppedtext/kenlm.wrd.o40003.arpa /kaggle/working/preppedtext/fst/phn_to_words_sil/G_kenlm.wrd.o40003.fst \r\n",
            "LOG (arpa2fst[5.5.0~1-2b62]:Read():arpa-file-parser.cc:94) Reading \\data\\ section.\r\n",
            "LOG (arpa2fst[5.5.0~1-2b62]:Read():arpa-file-parser.cc:149) Reading \\1-grams: section.\r\n",
            "LOG (arpa2fst[5.5.0~1-2b62]:Read():arpa-file-parser.cc:149) Reading \\2-grams: section.\r\n",
            "LOG (arpa2fst[5.5.0~1-2b62]:Read():arpa-file-parser.cc:149) Reading \\3-grams: section.\r\n",
            "LOG (arpa2fst[5.5.0~1-2b62]:Read():arpa-file-parser.cc:149) Reading \\4-grams: section.\r\n",
            "LOG (arpa2fst[5.5.0~1-2b62]:RemoveRedundantStates():arpa-lm-compiler.cc:359) Reduced num-states from 22665 to 12144\r\n",
            "[2021-05-30 15:50:13,918][__main__][INFO] - Creating /kaggle/working/preppedtext/fst/phn_to_words_sil/kaldi_lexicon.phn.kenlm.wrd.o40003.txt (in units file: /kaggle/working/preppedtext/fst/phn_to_words_sil/kaldi_dict.phn.txt)\r\n",
            "[2021-05-30 15:50:14,005][__main__][INFO] - Creating /kaggle/working/preppedtext/fst/phn_to_words_sil/H.phn.fst\r\n",
            "[2021-05-30 15:50:14,045][__main__][INFO] - Creating /kaggle/working/preppedtext/fst/phn_to_words_sil/L.phn.kenlm.wrd.o40003.fst (in units: /kaggle/working/preppedtext/fst/phn_to_words_sil/kaldi_dict.phn_disambig.txt)\r\n",
            "[2021-05-30 15:50:14,244][__main__][INFO] - Creating /kaggle/working/preppedtext/fst/phn_to_words_sil/LG.phn.kenlm.wrd.o40003.fst\r\n",
            "[2021-05-30 15:50:15,269][__main__][INFO] - Creating /kaggle/working/preppedtext/fst/phn_to_words_sil/HLGa.phn.kenlm.wrd.o40003.fst\r\n",
            "[2021-05-30 15:50:17,600][__main__][INFO] - Creating /kaggle/working/preppedtext/fst/phn_to_words_sil/HLG.phn.kenlm.wrd.o40003.fst\r\n",
            "[2021-05-30 15:50:26,782][__main__][INFO] - Creating /kaggle/working/preppedtext/fst/phn_to_words/kaldi_dict.phn.txt\r\n",
            "[2021-05-30 15:50:26,783][__main__][INFO] - Creating /kaggle/working/preppedtext/fst/phn_to_words/G_kenlm.wrd.o40003.fst\r\n",
            "/opt/kaldi/src/lmbin/arpa2fst --disambig-symbol=#0 --write-symbol-table=/kaggle/working/preppedtext/fst/phn_to_words/kaldi_dict.kenlm.wrd.o40003.txt /kaggle/working/preppedtext/kenlm.wrd.o40003.arpa /kaggle/working/preppedtext/fst/phn_to_words/G_kenlm.wrd.o40003.fst \r\n",
            "LOG (arpa2fst[5.5.0~1-2b62]:Read():arpa-file-parser.cc:94) Reading \\data\\ section.\r\n",
            "LOG (arpa2fst[5.5.0~1-2b62]:Read():arpa-file-parser.cc:149) Reading \\1-grams: section.\r\n",
            "LOG (arpa2fst[5.5.0~1-2b62]:Read():arpa-file-parser.cc:149) Reading \\2-grams: section.\r\n",
            "LOG (arpa2fst[5.5.0~1-2b62]:Read():arpa-file-parser.cc:149) Reading \\3-grams: section.\r\n",
            "LOG (arpa2fst[5.5.0~1-2b62]:Read():arpa-file-parser.cc:149) Reading \\4-grams: section.\r\n",
            "LOG (arpa2fst[5.5.0~1-2b62]:RemoveRedundantStates():arpa-lm-compiler.cc:359) Reduced num-states from 22665 to 12144\r\n",
            "[2021-05-30 15:50:26,992][__main__][INFO] - Creating /kaggle/working/preppedtext/fst/phn_to_words/kaldi_lexicon.phn.kenlm.wrd.o40003.txt (in units file: /kaggle/working/preppedtext/fst/phn_to_words/kaldi_dict.phn.txt)\r\n",
            "[2021-05-30 15:50:27,047][__main__][INFO] - Creating /kaggle/working/preppedtext/fst/phn_to_words/H.phn.fst\r\n",
            "[2021-05-30 15:50:27,088][__main__][INFO] - Creating /kaggle/working/preppedtext/fst/phn_to_words/L.phn.kenlm.wrd.o40003.fst (in units: /kaggle/working/preppedtext/fst/phn_to_words/kaldi_dict.phn_disambig.txt)\r\n",
            "[2021-05-30 15:50:27,281][__main__][INFO] - Creating /kaggle/working/preppedtext/fst/phn_to_words/LG.phn.kenlm.wrd.o40003.fst\r\n",
            "[2021-05-30 15:50:28,293][__main__][INFO] - Creating /kaggle/working/preppedtext/fst/phn_to_words/HLGa.phn.kenlm.wrd.o40003.fst\r\n",
            "[2021-05-30 15:50:31,245][__main__][INFO] - Creating /kaggle/working/preppedtext/fst/phn_to_words/HLG.phn.kenlm.wrd.o40003.fst\r\n",
            "=== 1/5 Counting and sorting n-grams ===\r\n",
            "Reading /kaggle/working/preppedtext/phones/lm.phones.filtered.txt\r\n",
            "----5---10---15---20---25---30---35---40---45---50---55---60---65---70---75---80---85---90---95--100\r\n",
            "****************************************************************************************************\r\n",
            "Unigram tokens 63676 types 44\r\n",
            "=== 2/5 Calculating and sorting adjusted counts ===\r\n",
            "Chain sizes: 1:528 2:2571437824 3:4821446144 4:7714313728\r\n",
            "Substituting fallback discounts for order 0: D1=0.5 D2=1 D3+=1.5\r\n",
            "Statistics:\r\n",
            "1 44 D1=0.5 D2=1 D3+=1.5\r\n",
            "2 1053 D1=0.421189 D2=1.06361 D3+=1.49793\r\n",
            "3 8534 D1=0.558099 D2=1.17765 D3+=1.45173\r\n",
            "4 23058 D1=0.643934 D2=1.15876 D3+=1.53884\r\n",
            "Memory estimate for binary LM:\r\n",
            "type     kB\r\n",
            "probing 631 assuming -p 1.5\r\n",
            "probing 687 assuming -r models -p 1.5\r\n",
            "trie    203 without quantization\r\n",
            "trie     88 assuming -q 8 -b 8 quantization \r\n",
            "trie    196 assuming -a 22 array pointer compression\r\n",
            "trie     81 assuming -a 22 -q 8 -b 8 array pointer compression and quantization\r\n",
            "=== 3/5 Calculating and sorting initial probabilities ===\r\n",
            "Chain sizes: 1:528 2:16848 3:170680 4:553392\r\n",
            "----5---10---15---20---25---30---35---40---45---50---55---60---65---70---75---80---85---90---95--100\r\n",
            "####################################################################################################\r\n",
            "=== 4/5 Calculating and writing order-interpolated probabilities ===\r\n",
            "Chain sizes: 1:528 2:16848 3:170680 4:553392\r\n",
            "----5---10---15---20---25---30---35---40---45---50---55---60---65---70---75---80---85---90---95--100\r\n",
            "####################################################################################################\r\n",
            "=== 5/5 Writing ARPA model ===\r\n",
            "----5---10---15---20---25---30---35---40---45---50---55---60---65---70---75---80---85---90---95--100\r\n",
            "****************************************************************************************************\r\n",
            "Name:lmplz\tVmPeak:14916784 kB\tVmRSS:7056 kB\tRSSMax:2973864 kB\tuser:0.209899\tsys:0.716931\tCPU:0.926881\treal:0.936705\r\n",
            "Reading /kaggle/working/preppedtext/phones/lm.phones.filtered.04.arpa\r\n",
            "----5---10---15---20---25---30---35---40---45---50---55---60---65---70---75---80---85---90---95--100\r\n",
            "****************************************************************************************************\r\n",
            "SUCCESS\r\n",
            "=== 1/5 Counting and sorting n-grams ===\r\n",
            "Reading /kaggle/working/preppedtext/phones/lm.phones.filtered.txt\r\n",
            "----5---10---15---20---25---30---35---40---45---50---55---60---65---70---75---80---85---90---95--100\r\n",
            "****************************************************************************************************\r\n",
            "Unigram tokens 63676 types 44\r\n",
            "=== 2/5 Calculating and sorting adjusted counts ===\r\n",
            "Chain sizes: 1:528 2:929673728 3:1743138176 4:2789021184 5:4067322624 6:5578042368\r\n",
            "Substituting fallback discounts for order 0: D1=0.5 D2=1 D3+=1.5\r\n",
            "Statistics:\r\n",
            "1 44 D1=0.5 D2=1 D3+=1.5\r\n",
            "2 1053 D1=0.421189 D2=1.06361 D3+=1.49793\r\n",
            "3 8534 D1=0.558099 D2=1.17765 D3+=1.45173\r\n",
            "4 23058 D1=0.704256 D2=1.25425 D3+=1.63465\r\n",
            "5 35879 D1=0.821218 D2=1.34714 D3+=1.61281\r\n",
            "6 43593 D1=0.834579 D2=1.24241 D3+=1.56972\r\n",
            "Memory estimate for binary LM:\r\n",
            "type      kB\r\n",
            "probing 2373 assuming -p 1.5\r\n",
            "probing 2775 assuming -r models -p 1.5\r\n",
            "trie     907 without quantization\r\n",
            "trie     401 assuming -q 8 -b 8 quantization \r\n",
            "trie     838 assuming -a 22 array pointer compression\r\n",
            "trie     331 assuming -a 22 -q 8 -b 8 array pointer compression and quantization\r\n",
            "=== 3/5 Calculating and sorting initial probabilities ===\r\n",
            "Chain sizes: 1:528 2:16848 3:170680 4:553392 5:1004612 6:1394976\r\n",
            "----5---10---15---20---25---30---35---40---45---50---55---60---65---70---75---80---85---90---95--100\r\n",
            "####################################################################################################\r\n",
            "=== 4/5 Calculating and writing order-interpolated probabilities ===\r\n",
            "Chain sizes: 1:528 2:16848 3:170680 4:553392 5:1004612 6:1394976\r\n",
            "----5---10---15---20---25---30---35---40---45---50---55---60---65---70---75---80---85---90---95--100\r\n",
            "####################################################################################################\r\n",
            "=== 5/5 Writing ARPA model ===\r\n",
            "----5---10---15---20---25---30---35---40---45---50---55---60---65---70---75---80---85---90---95--100\r\n",
            "****************************************************************************************************\r\n",
            "Name:lmplz\tVmPeak:14949572 kB\tVmRSS:6500 kB\tRSSMax:2354520 kB\tuser:0.256512\tsys:0.588288\tCPU:0.84484\treal:0.81585\r\n",
            "Reading /kaggle/working/preppedtext/phones/lm.phones.filtered.06.arpa\r\n",
            "----5---10---15---20---25---30---35---40---45---50---55---60---65---70---75---80---85---90---95--100\r\n",
            "****************************************************************************************************\r\n",
            "SUCCESS\r\n",
            "[2021-05-30 15:50:35,812][__main__][INFO] - Creating /kaggle/working/preppedtext/fst/phn_to_phn_sil/kaldi_dict.phn.txt\r\n",
            "[2021-05-30 15:50:35,812][__main__][INFO] - Creating /kaggle/working/preppedtext/fst/phn_to_phn_sil/G_lm.phones.filtered.06.fst\r\n",
            "/opt/kaldi/src/lmbin/arpa2fst --disambig-symbol=#0 --write-symbol-table=/kaggle/working/preppedtext/fst/phn_to_phn_sil/kaldi_dict.lm.phones.filtered.06.txt /kaggle/working/preppedtext/phones/lm.phones.filtered.06.arpa /kaggle/working/preppedtext/fst/phn_to_phn_sil/G_lm.phones.filtered.06.fst \r\n",
            "LOG (arpa2fst[5.5.0~1-2b62]:Read():arpa-file-parser.cc:94) Reading \\data\\ section.\r\n",
            "LOG (arpa2fst[5.5.0~1-2b62]:HeaderAvailable():arpa-lm-compiler.cc:300) Reverting to slower state tracking because model is large: 6-gram with symbols up to 47\r\n",
            "LOG (arpa2fst[5.5.0~1-2b62]:Read():arpa-file-parser.cc:149) Reading \\1-grams: section.\r\n",
            "LOG (arpa2fst[5.5.0~1-2b62]:Read():arpa-file-parser.cc:149) Reading \\2-grams: section.\r\n",
            "LOG (arpa2fst[5.5.0~1-2b62]:Read():arpa-file-parser.cc:149) Reading \\3-grams: section.\r\n",
            "LOG (arpa2fst[5.5.0~1-2b62]:Read():arpa-file-parser.cc:149) Reading \\4-grams: section.\r\n",
            "LOG (arpa2fst[5.5.0~1-2b62]:Read():arpa-file-parser.cc:149) Reading \\5-grams: section.\r\n",
            "LOG (arpa2fst[5.5.0~1-2b62]:Read():arpa-file-parser.cc:149) Reading \\6-grams: section.\r\n",
            "LOG (arpa2fst[5.5.0~1-2b62]:RemoveRedundantStates():arpa-lm-compiler.cc:359) Reduced num-states from 67529 to 67528\r\n",
            "[2021-05-30 15:50:36,696][__main__][INFO] - Creating /kaggle/working/preppedtext/fst/phn_to_phn_sil/kaldi_lexicon.phn.lm.phones.filtered.06.txt (in units file: /kaggle/working/preppedtext/fst/phn_to_phn_sil/kaldi_dict.phn.txt)\r\n",
            "[2021-05-30 15:50:36,713][__main__][INFO] - Creating /kaggle/working/preppedtext/fst/phn_to_phn_sil/H.phn.fst\r\n",
            "[2021-05-30 15:50:36,754][__main__][INFO] - Creating /kaggle/working/preppedtext/fst/phn_to_phn_sil/L.phn.lm.phones.filtered.06.fst (in units: /kaggle/working/preppedtext/fst/phn_to_phn_sil/kaldi_dict.phn_disambig.txt)\r\n",
            "[2021-05-30 15:50:36,802][__main__][INFO] - Creating /kaggle/working/preppedtext/fst/phn_to_phn_sil/LG.phn.lm.phones.filtered.06.fst\r\n",
            "[2021-05-30 15:50:37,700][__main__][INFO] - Creating /kaggle/working/preppedtext/fst/phn_to_phn_sil/HLGa.phn.lm.phones.filtered.06.fst\r\n",
            "[2021-05-30 15:50:40,759][__main__][INFO] - Creating /kaggle/working/preppedtext/fst/phn_to_phn_sil/HLG.phn.lm.phones.filtered.06.fst\r\n"
          ],
          "name": "stdout"
        }
      ]
    }
  ]
}
