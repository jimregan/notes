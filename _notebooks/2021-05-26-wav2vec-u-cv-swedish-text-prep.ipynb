{
 "cells": [
  {
   "cell_type": "code",
   "execution_count": 1,
   "id": "coupled-possession",
   "metadata": {
    "_cell_guid": "b1076dfc-b9ad-4769-8c92-a6c4dae69d19",
    "_uuid": "8f2839f25d086af736a60e9eeb907d3b93b6e0e5",
    "execution": {
     "iopub.execute_input": "2021-05-30T15:40:11.010275Z",
     "iopub.status.busy": "2021-05-30T15:40:11.009499Z",
     "iopub.status.idle": "2021-05-30T15:40:11.014741Z",
     "shell.execute_reply": "2021-05-30T15:40:11.014080Z",
     "shell.execute_reply.started": "2021-05-25T22:46:58.262403Z"
    },
    "papermill": {
     "duration": 0.039918,
     "end_time": "2021-05-30T15:40:11.014918",
     "exception": false,
     "start_time": "2021-05-30T15:40:10.975000",
     "status": "completed"
    },
    "tags": []
   },
   "outputs": [
    {
     "name": "stdout",
     "output_type": "stream",
     "text": [
      "/opt\n"
     ]
    }
   ],
   "source": [
    "%cd /opt"
   ]
  },
  {
   "cell_type": "code",
   "execution_count": 2,
   "id": "champion-joyce",
   "metadata": {
    "execution": {
     "iopub.execute_input": "2021-05-30T15:40:11.075192Z",
     "iopub.status.busy": "2021-05-30T15:40:11.062026Z",
     "iopub.status.idle": "2021-05-30T15:40:50.867489Z",
     "shell.execute_reply": "2021-05-30T15:40:50.866792Z"
    },
    "papermill": {
     "duration": 39.831671,
     "end_time": "2021-05-30T15:40:50.867649",
     "exception": false,
     "start_time": "2021-05-30T15:40:11.035978",
     "status": "completed"
    },
    "tags": []
   },
   "outputs": [],
   "source": [
    "%%capture\n",
    "!tar xvf /kaggle/input/extract-prebuilt-kaldi-from-docker/kaldi.tar"
   ]
  },
  {
   "cell_type": "code",
   "execution_count": 3,
   "id": "imported-mountain",
   "metadata": {
    "execution": {
     "iopub.execute_input": "2021-05-30T15:40:50.915368Z",
     "iopub.status.busy": "2021-05-30T15:40:50.914420Z",
     "iopub.status.idle": "2021-05-30T15:40:50.918447Z",
     "shell.execute_reply": "2021-05-30T15:40:50.918882Z"
    },
    "papermill": {
     "duration": 0.030428,
     "end_time": "2021-05-30T15:40:50.919054",
     "exception": false,
     "start_time": "2021-05-30T15:40:50.888626",
     "status": "completed"
    },
    "tags": []
   },
   "outputs": [
    {
     "name": "stdout",
     "output_type": "stream",
     "text": [
      "/tmp\n"
     ]
    }
   ],
   "source": [
    "%cd /tmp"
   ]
  },
  {
   "cell_type": "code",
   "execution_count": 4,
   "id": "invisible-cruise",
   "metadata": {
    "execution": {
     "iopub.execute_input": "2021-05-30T15:40:50.963771Z",
     "iopub.status.busy": "2021-05-30T15:40:50.963154Z",
     "iopub.status.idle": "2021-05-30T15:40:55.914997Z",
     "shell.execute_reply": "2021-05-30T15:40:55.913612Z",
     "shell.execute_reply.started": "2021-05-25T22:38:20.218298Z"
    },
    "papermill": {
     "duration": 4.975321,
     "end_time": "2021-05-30T15:40:55.915241",
     "exception": false,
     "start_time": "2021-05-30T15:40:50.939920",
     "status": "completed"
    },
    "tags": []
   },
   "outputs": [
    {
     "name": "stdout",
     "output_type": "stream",
     "text": [
      "Cloning into 'fairseq'...\r\n",
      "remote: Enumerating objects: 28172, done.\u001b[K\r\n",
      "remote: Counting objects: 100% (586/586), done.\u001b[K\r\n",
      "remote: Compressing objects: 100% (337/337), done.\u001b[K\r\n",
      "remote: Total 28172 (delta 308), reused 464 (delta 236), pack-reused 27586\u001b[K\r\n",
      "Receiving objects: 100% (28172/28172), 11.87 MiB | 20.54 MiB/s, done.\r\n",
      "Resolving deltas: 100% (21131/21131), done.\r\n"
     ]
    }
   ],
   "source": [
    "!git clone https://github.com/pytorch/fairseq/"
   ]
  },
  {
   "cell_type": "code",
   "execution_count": 5,
   "id": "armed-research",
   "metadata": {
    "execution": {
     "iopub.execute_input": "2021-05-30T15:40:56.012711Z",
     "iopub.status.busy": "2021-05-30T15:40:56.011632Z",
     "iopub.status.idle": "2021-05-30T15:41:07.070837Z",
     "shell.execute_reply": "2021-05-30T15:41:07.070287Z"
    },
    "papermill": {
     "duration": 11.102713,
     "end_time": "2021-05-30T15:41:07.070988",
     "exception": false,
     "start_time": "2021-05-30T15:40:55.968275",
     "status": "completed"
    },
    "tags": []
   },
   "outputs": [],
   "source": [
    "%%capture\n",
    "!pip install phonemizer"
   ]
  },
  {
   "cell_type": "code",
   "execution_count": 6,
   "id": "scenic-school",
   "metadata": {
    "execution": {
     "iopub.execute_input": "2021-05-30T15:41:07.138053Z",
     "iopub.status.busy": "2021-05-30T15:41:07.137409Z",
     "iopub.status.idle": "2021-05-30T15:42:00.949445Z",
     "shell.execute_reply": "2021-05-30T15:42:00.950054Z"
    },
    "papermill": {
     "duration": 53.850876,
     "end_time": "2021-05-30T15:42:00.950240",
     "exception": false,
     "start_time": "2021-05-30T15:41:07.099364",
     "status": "completed"
    },
    "tags": []
   },
   "outputs": [],
   "source": [
    "%%capture\n",
    "!pip install git+https://github.com/pytorch/fairseq/"
   ]
  },
  {
   "cell_type": "code",
   "execution_count": 7,
   "id": "characteristic-hours",
   "metadata": {
    "execution": {
     "iopub.execute_input": "2021-05-30T15:42:01.011363Z",
     "iopub.status.busy": "2021-05-30T15:42:01.010373Z",
     "iopub.status.idle": "2021-05-30T15:42:07.784497Z",
     "shell.execute_reply": "2021-05-30T15:42:07.783903Z"
    },
    "papermill": {
     "duration": 6.805746,
     "end_time": "2021-05-30T15:42:07.784644",
     "exception": false,
     "start_time": "2021-05-30T15:42:00.978898",
     "status": "completed"
    },
    "tags": []
   },
   "outputs": [],
   "source": [
    "%%capture\n",
    "!apt-get -y install espeak"
   ]
  },
  {
   "cell_type": "code",
   "execution_count": 8,
   "id": "sized-glossary",
   "metadata": {
    "execution": {
     "iopub.execute_input": "2021-05-30T15:42:07.846845Z",
     "iopub.status.busy": "2021-05-30T15:42:07.845887Z",
     "iopub.status.idle": "2021-05-30T15:42:09.911073Z",
     "shell.execute_reply": "2021-05-30T15:42:09.910389Z",
     "shell.execute_reply.started": "2021-05-25T22:47:02.096238Z"
    },
    "papermill": {
     "duration": 2.097225,
     "end_time": "2021-05-30T15:42:09.911231",
     "exception": false,
     "start_time": "2021-05-30T15:42:07.814006",
     "status": "completed"
    },
    "tags": []
   },
   "outputs": [
    {
     "name": "stdout",
     "output_type": "stream",
     "text": [
      "Cloning into 'kenlm'...\r\n",
      "remote: Enumerating objects: 13824, done.\u001b[K\r\n",
      "remote: Counting objects: 100% (137/137), done.\u001b[K\r\n",
      "remote: Compressing objects: 100% (79/79), done.\u001b[K\r\n",
      "remote: Total 13824 (delta 76), reused 92 (delta 45), pack-reused 13687\u001b[K\r\n",
      "Receiving objects: 100% (13824/13824), 5.49 MiB | 10.57 MiB/s, done.\r\n",
      "Resolving deltas: 100% (7956/7956), done.\r\n"
     ]
    }
   ],
   "source": [
    "!git clone https://github.com/kpu/kenlm"
   ]
  },
  {
   "cell_type": "code",
   "execution_count": 9,
   "id": "relevant-junior",
   "metadata": {
    "execution": {
     "iopub.execute_input": "2021-05-30T15:42:09.990404Z",
     "iopub.status.busy": "2021-05-30T15:42:09.985968Z",
     "iopub.status.idle": "2021-05-30T15:42:15.131357Z",
     "shell.execute_reply": "2021-05-30T15:42:15.131881Z"
    },
    "papermill": {
     "duration": 5.186496,
     "end_time": "2021-05-30T15:42:15.132066",
     "exception": false,
     "start_time": "2021-05-30T15:42:09.945570",
     "status": "completed"
    },
    "tags": []
   },
   "outputs": [],
   "source": [
    "%%capture\n",
    "!apt-get -y install libeigen3-dev liblzma-dev zlib1g-dev libbz2-dev"
   ]
  },
  {
   "cell_type": "code",
   "execution_count": 10,
   "id": "perceived-organ",
   "metadata": {
    "execution": {
     "iopub.execute_input": "2021-05-30T15:42:15.209761Z",
     "iopub.status.busy": "2021-05-30T15:42:15.208839Z",
     "iopub.status.idle": "2021-05-30T15:43:33.546659Z",
     "shell.execute_reply": "2021-05-30T15:43:33.545316Z"
    },
    "papermill": {
     "duration": 78.38114,
     "end_time": "2021-05-30T15:43:33.547072",
     "exception": false,
     "start_time": "2021-05-30T15:42:15.165932",
     "status": "completed"
    },
    "tags": []
   },
   "outputs": [],
   "source": [
    "%%capture\n",
    "%cd kenlm\n",
    "!mkdir build\n",
    "%cd build\n",
    "!cmake ..\n",
    "!make -j 4\n",
    "%cd /tmp"
   ]
  },
  {
   "cell_type": "code",
   "execution_count": 11,
   "id": "representative-adelaide",
   "metadata": {
    "execution": {
     "iopub.execute_input": "2021-05-30T15:43:33.625200Z",
     "iopub.status.busy": "2021-05-30T15:43:33.624553Z",
     "iopub.status.idle": "2021-05-30T15:43:33.627399Z",
     "shell.execute_reply": "2021-05-30T15:43:33.626839Z",
     "shell.execute_reply.started": "2021-05-25T22:58:58.397816Z"
    },
    "papermill": {
     "duration": 0.043172,
     "end_time": "2021-05-30T15:43:33.627540",
     "exception": false,
     "start_time": "2021-05-30T15:43:33.584368",
     "status": "completed"
    },
    "tags": []
   },
   "outputs": [],
   "source": [
    "import os\n",
    "os.environ['PATH'] = f\"{os.environ['PATH']}:/tmp/kenlm/build/bin/\"\n",
    "os.environ['FAIRSEQ_ROOT'] = '/tmp/fairseq'"
   ]
  },
  {
   "cell_type": "code",
   "execution_count": 12,
   "id": "iraqi-ground",
   "metadata": {
    "execution": {
     "iopub.execute_input": "2021-05-30T15:43:33.705367Z",
     "iopub.status.busy": "2021-05-30T15:43:33.701181Z",
     "iopub.status.idle": "2021-05-30T15:43:34.474455Z",
     "shell.execute_reply": "2021-05-30T15:43:34.473629Z",
     "shell.execute_reply.started": "2021-05-25T22:55:06.647826Z"
    },
    "papermill": {
     "duration": 0.81285,
     "end_time": "2021-05-30T15:43:34.474601",
     "exception": false,
     "start_time": "2021-05-30T15:43:33.661751",
     "status": "completed"
    },
    "tags": []
   },
   "outputs": [],
   "source": [
    "!cat /kaggle/input/wav2vec-u-cv-swedish-audio/*.wrd | grep -v '^$' | sort| uniq > /kaggle/working/sentences.txt\n"
   ]
  },
  {
   "cell_type": "code",
   "execution_count": 13,
   "id": "spanish-remove",
   "metadata": {
    "execution": {
     "iopub.execute_input": "2021-05-30T15:43:34.546010Z",
     "iopub.status.busy": "2021-05-30T15:43:34.545071Z",
     "iopub.status.idle": "2021-05-30T15:43:34.552296Z",
     "shell.execute_reply": "2021-05-30T15:43:34.553414Z",
     "shell.execute_reply.started": "2021-05-25T22:55:38.373919Z"
    },
    "papermill": {
     "duration": 0.045294,
     "end_time": "2021-05-30T15:43:34.553694",
     "exception": false,
     "start_time": "2021-05-30T15:43:34.508400",
     "status": "completed"
    },
    "tags": []
   },
   "outputs": [
    {
     "name": "stdout",
     "output_type": "stream",
     "text": [
      "/tmp/fairseq/examples/wav2vec/unsupervised\n"
     ]
    }
   ],
   "source": [
    "%cd fairseq/examples/wav2vec/unsupervised"
   ]
  },
  {
   "cell_type": "code",
   "execution_count": 14,
   "id": "adaptive-worthy",
   "metadata": {
    "execution": {
     "iopub.execute_input": "2021-05-30T15:43:34.627028Z",
     "iopub.status.busy": "2021-05-30T15:43:34.626062Z",
     "iopub.status.idle": "2021-05-30T15:43:40.326726Z",
     "shell.execute_reply": "2021-05-30T15:43:40.325884Z"
    },
    "papermill": {
     "duration": 5.737588,
     "end_time": "2021-05-30T15:43:40.326879",
     "exception": false,
     "start_time": "2021-05-30T15:43:34.589291",
     "status": "completed"
    },
    "tags": []
   },
   "outputs": [],
   "source": [
    "%%capture\n",
    "!apt-get -y install zsh"
   ]
  },
  {
   "cell_type": "code",
   "execution_count": 15,
   "id": "personal-interface",
   "metadata": {
    "execution": {
     "iopub.execute_input": "2021-05-30T15:43:40.406508Z",
     "iopub.status.busy": "2021-05-30T15:43:40.405846Z",
     "iopub.status.idle": "2021-05-30T15:43:41.141141Z",
     "shell.execute_reply": "2021-05-30T15:43:41.140573Z",
     "shell.execute_reply.started": "2021-05-25T22:58:19.000595Z"
    },
    "papermill": {
     "duration": 0.779648,
     "end_time": "2021-05-30T15:43:41.141310",
     "exception": false,
     "start_time": "2021-05-30T15:43:40.361662",
     "status": "completed"
    },
    "tags": []
   },
   "outputs": [],
   "source": [
    "!mkdir /kaggle/working/preppedtext"
   ]
  },
  {
   "cell_type": "code",
   "execution_count": 16,
   "id": "informational-screening",
   "metadata": {
    "execution": {
     "iopub.execute_input": "2021-05-30T15:43:41.215855Z",
     "iopub.status.busy": "2021-05-30T15:43:41.215078Z",
     "iopub.status.idle": "2021-05-30T15:43:41.219685Z",
     "shell.execute_reply": "2021-05-30T15:43:41.219111Z",
     "shell.execute_reply.started": "2021-05-25T23:04:33.0148Z"
    },
    "papermill": {
     "duration": 0.044083,
     "end_time": "2021-05-30T15:43:41.219830",
     "exception": false,
     "start_time": "2021-05-30T15:43:41.175747",
     "status": "completed"
    },
    "tags": []
   },
   "outputs": [
    {
     "name": "stdout",
     "output_type": "stream",
     "text": [
      "/tmp/fairseq/examples/wav2vec/unsupervised/scripts\n"
     ]
    }
   ],
   "source": [
    "%cd scripts"
   ]
  },
  {
   "cell_type": "markdown",
   "id": "flying-regression",
   "metadata": {
    "papermill": {
     "duration": 0.034268,
     "end_time": "2021-05-30T15:43:41.289256",
     "exception": false,
     "start_time": "2021-05-30T15:43:41.254988",
     "status": "completed"
    },
    "tags": []
   },
   "source": [
    "The next part requires a FastText language id model; I don't know where the 187 language model comes from, but there is a model for 176 languages [here](https://fasttext.cc/docs/en/language-identification.html#content)"
   ]
  },
  {
   "cell_type": "code",
   "execution_count": 17,
   "id": "demographic-glory",
   "metadata": {
    "execution": {
     "iopub.execute_input": "2021-05-30T15:43:41.364935Z",
     "iopub.status.busy": "2021-05-30T15:43:41.364319Z",
     "iopub.status.idle": "2021-05-30T15:43:44.462126Z",
     "shell.execute_reply": "2021-05-30T15:43:44.461511Z",
     "shell.execute_reply.started": "2021-05-25T23:26:05.700782Z"
    },
    "papermill": {
     "duration": 3.137144,
     "end_time": "2021-05-30T15:43:44.462304",
     "exception": false,
     "start_time": "2021-05-30T15:43:41.325160",
     "status": "completed"
    },
    "tags": []
   },
   "outputs": [
    {
     "name": "stdout",
     "output_type": "stream",
     "text": [
      "--2021-05-30 15:43:41--  https://dl.fbaipublicfiles.com/fasttext/supervised-models/lid.176.bin\r\n",
      "Resolving dl.fbaipublicfiles.com (dl.fbaipublicfiles.com)... 104.22.75.142, 104.22.74.142, 172.67.9.4, ...\r\n",
      "Connecting to dl.fbaipublicfiles.com (dl.fbaipublicfiles.com)|104.22.75.142|:443... connected.\r\n",
      "HTTP request sent, awaiting response... 200 OK\r\n",
      "Length: 131266198 (125M) [application/octet-stream]\r\n",
      "Saving to: ‘lid.176.bin’\r\n",
      "\r\n",
      "lid.176.bin         100%[===================>] 125.18M  59.8MB/s    in 2.1s    \r\n",
      "\r\n",
      "2021-05-30 15:43:44 (59.8 MB/s) - ‘lid.176.bin’ saved [131266198/131266198]\r\n",
      "\r\n"
     ]
    }
   ],
   "source": [
    "!wget https://dl.fbaipublicfiles.com/fasttext/supervised-models/lid.176.bin"
   ]
  },
  {
   "cell_type": "code",
   "execution_count": 18,
   "id": "elementary-webster",
   "metadata": {
    "execution": {
     "iopub.execute_input": "2021-05-30T15:43:44.554537Z",
     "iopub.status.busy": "2021-05-30T15:43:44.550028Z",
     "iopub.status.idle": "2021-05-30T15:43:45.985520Z",
     "shell.execute_reply": "2021-05-30T15:43:45.984798Z",
     "shell.execute_reply.started": "2021-05-25T23:28:29.362953Z"
    },
    "papermill": {
     "duration": 1.483193,
     "end_time": "2021-05-30T15:43:45.985677",
     "exception": false,
     "start_time": "2021-05-30T15:43:44.502484",
     "status": "completed"
    },
    "tags": []
   },
   "outputs": [],
   "source": [
    "!cat normalize_and_filter_text.py|sed -e 's/187/176/' > tmp\n",
    "!mv tmp normalize_and_filter_text.py"
   ]
  },
  {
   "cell_type": "code",
   "execution_count": 19,
   "id": "unlikely-blind",
   "metadata": {
    "execution": {
     "iopub.execute_input": "2021-05-30T15:43:46.069690Z",
     "iopub.status.busy": "2021-05-30T15:43:46.068994Z",
     "iopub.status.idle": "2021-05-30T15:43:46.072583Z",
     "shell.execute_reply": "2021-05-30T15:43:46.071767Z"
    },
    "papermill": {
     "duration": 0.047864,
     "end_time": "2021-05-30T15:43:46.072737",
     "exception": false,
     "start_time": "2021-05-30T15:43:46.024873",
     "status": "completed"
    },
    "tags": []
   },
   "outputs": [],
   "source": [
    "# Needed to see what's going wrong\n",
    "os.environ['HYDRA_FULL_ERROR'] = '1'"
   ]
  },
  {
   "cell_type": "code",
   "execution_count": 20,
   "id": "returning-clearing",
   "metadata": {
    "execution": {
     "iopub.execute_input": "2021-05-30T15:43:46.156188Z",
     "iopub.status.busy": "2021-05-30T15:43:46.155570Z",
     "iopub.status.idle": "2021-05-30T15:43:46.158742Z",
     "shell.execute_reply": "2021-05-30T15:43:46.158107Z"
    },
    "papermill": {
     "duration": 0.046446,
     "end_time": "2021-05-30T15:43:46.158875",
     "exception": false,
     "start_time": "2021-05-30T15:43:46.112429",
     "status": "completed"
    },
    "tags": []
   },
   "outputs": [],
   "source": [
    "import os\n",
    "os.environ['LD_LIBRARY_PATH'] = '/opt/conda/lib:/opt/kaldi/tools/openfst-1.6.7/lib:/opt/kaldi/src/lib'"
   ]
  },
  {
   "cell_type": "markdown",
   "id": "freelance-border",
   "metadata": {
    "papermill": {
     "duration": 0.039327,
     "end_time": "2021-05-30T15:43:46.237401",
     "exception": false,
     "start_time": "2021-05-30T15:43:46.198074",
     "status": "completed"
    },
    "tags": []
   },
   "source": [
    "There are two lines with missing variables in `prepare_text.sh` - [pull request](https://github.com/pytorch/fairseq/pull/3569) - so replace the file.\n",
    "\n",
    "While I'm replacing the file: most of the first part of the script is unneeded, as I already have a phonetic dictionary, so I'm use that instead.\n",
    "\n",
    "With the calls of the `preprocess.py` script, make sure to check the threshold: there's a divide by zero if the threshold is set too high."
   ]
  },
  {
   "cell_type": "markdown",
   "id": "parliamentary-webmaster",
   "metadata": {
    "papermill": {
     "duration": 0.039014,
     "end_time": "2021-05-30T15:43:46.315775",
     "exception": false,
     "start_time": "2021-05-30T15:43:46.276761",
     "status": "completed"
    },
    "tags": []
   },
   "source": [
    "Config options for `kaldi_initializer.py`\n",
    "\n",
    "- `in_labels`: a naming component, for the Kaldi lexicons/fsts (required)\n",
    "- `wav2letter_lexicon`: path to wav2letter lexicon\n",
    "- `out_labels`: a naming component, for the Kaldi lexicons/fsts: set to `in_label` if missing\n",
    "- `kaldi_root`: path to Kaldi: `/opt/kaldi` for my kaggle image\n",
    "- `fst_dir`: path where generated fsts will be saved\n",
    "- `data_dir`: path to phones data\n",
    "- `lm_arpa`: path to the lm in ARPA format\n",
    "- `blank_symbol`: CTC blank symbol (`<s>` here)\n",
    "- `silence_symbol`: Kaldi symbol for silence (`<SIL>` is set for two of the scripts)\n",
    "\n",
    "A config file needs to exist for this, even though the options set in it seem to be ignored."
   ]
  },
  {
   "cell_type": "code",
   "execution_count": 21,
   "id": "humanitarian-second",
   "metadata": {
    "execution": {
     "iopub.execute_input": "2021-05-30T15:43:46.403859Z",
     "iopub.status.busy": "2021-05-30T15:43:46.399815Z",
     "iopub.status.idle": "2021-05-30T15:43:47.118329Z",
     "shell.execute_reply": "2021-05-30T15:43:47.117644Z"
    },
    "papermill": {
     "duration": 0.763331,
     "end_time": "2021-05-30T15:43:47.118469",
     "exception": false,
     "start_time": "2021-05-30T15:43:46.355138",
     "status": "completed"
    },
    "tags": []
   },
   "outputs": [],
   "source": [
    "!mkdir /tmp/fairseq/examples/speech_recognition/kaldi/config/"
   ]
  },
  {
   "cell_type": "code",
   "execution_count": 22,
   "id": "perfect-astronomy",
   "metadata": {
    "execution": {
     "iopub.execute_input": "2021-05-30T15:43:47.203329Z",
     "iopub.status.busy": "2021-05-30T15:43:47.202390Z",
     "iopub.status.idle": "2021-05-30T15:43:47.207148Z",
     "shell.execute_reply": "2021-05-30T15:43:47.206678Z"
    },
    "papermill": {
     "duration": 0.049971,
     "end_time": "2021-05-30T15:43:47.207322",
     "exception": false,
     "start_time": "2021-05-30T15:43:47.157351",
     "status": "completed"
    },
    "tags": []
   },
   "outputs": [
    {
     "name": "stdout",
     "output_type": "stream",
     "text": [
      "Writing /tmp/fairseq/examples/speech_recognition/kaldi/config/config.yaml\n"
     ]
    }
   ],
   "source": [
    "%%writefile /tmp/fairseq/examples/speech_recognition/kaldi/config/config.yaml\n",
    "kaldi_root: \"/opt/kaldi\""
   ]
  },
  {
   "cell_type": "code",
   "execution_count": 23,
   "id": "alleged-berry",
   "metadata": {
    "_kg_hide-input": true,
    "execution": {
     "iopub.execute_input": "2021-05-30T15:43:47.293846Z",
     "iopub.status.busy": "2021-05-30T15:43:47.292836Z",
     "iopub.status.idle": "2021-05-30T15:43:47.298025Z",
     "shell.execute_reply": "2021-05-30T15:43:47.297065Z"
    },
    "papermill": {
     "duration": 0.051062,
     "end_time": "2021-05-30T15:43:47.298245",
     "exception": false,
     "start_time": "2021-05-30T15:43:47.247183",
     "status": "completed"
    },
    "tags": []
   },
   "outputs": [
    {
     "name": "stdout",
     "output_type": "stream",
     "text": [
      "Overwriting prepare_text.sh\n"
     ]
    }
   ],
   "source": [
    "%%writefile prepare_text.sh\n",
    "#!/usr/bin/env zsh\n",
    "# Copyright (c) Facebook, Inc. and its affiliates.\n",
    "#\n",
    "# This source code is licensed under the MIT license found in the\n",
    "# LICENSE file in the root directory of this source tree.\n",
    "\n",
    "lg=$1\n",
    "text_path=$2\n",
    "target_dir=$3\n",
    "\n",
    "#ph_lg=${lg:l}\n",
    "#if test \"$lg\" = 'fr'; then\n",
    "#  ph_lg='fr-fr'\n",
    "#elif test \"$lg\" = 'en'; then\n",
    "#  ph_lg='en-us'\n",
    "#elif test \"$lg\" = 'pt'; then\n",
    "#  ph_lg='pt-br'\n",
    "#fi\n",
    "ph_lg=\"sv\"\n",
    "\n",
    "echo $lg\n",
    "echo $ph_lg\n",
    "echo $text_path\n",
    "echo $target_dir\n",
    "\n",
    "mkdir -p $target_dir\n",
    "#python normalize_and_filter_text.py --lang $lg < $text_path | grep -v '\\-\\-\\-' >! $target_dir/lm.upper.lid.txt\n",
    "#python $FAIRSEQ_ROOT/fairseq_cli/preprocess.py --dataset-impl mmap --trainpref $target_dir/lm.upper.lid.txt --only-source --destdir $target_dir --thresholdsrc 2 --padding-factor 1 --dict-only\n",
    "#cut -f1 -d' ' $target_dir/dict.txt | grep -v -x '[[:punct:]]*' | grep -Pv '\\d\\d\\d\\d\\d+' >! $target_dir/words.txt\n",
    "cp /kaggle/input/wav2vec-u-cv-swedish-audio/train.wrd $target_dir/lm.upper.lid.txt\n",
    "cut -f1 -d' ' /kaggle/input/wav2vec-u-cv-swedish-audio/dict.train >! $target_dir/words.txt\n",
    "\n",
    "#one=$(echo \"1\" | PHONEMIZER_ESPEAK_PATH=$(which espeak) phonemize -p ' ' -w '' -l $ph_lg --language-switch remove-flags)\n",
    "#sed 's/$/ 1/' $target_dir/words.txt | PHONEMIZER_ESPEAK_PATH=$(which espeak) phonemize -o $target_dir/phones.txt -p ' ' -w '' -l $ph_lg -j 70 --language-switch remove-flags\n",
    "cut -f2- -d' ' /kaggle/input/wav2vec-u-cv-swedish-audio/dict.train >! $target_dir/phones.txt\n",
    "\n",
    "#echo \"one is ${one}\"\n",
    "\n",
    "#sed -i \"s/${one}$//\" $target_dir/phones.txt\n",
    "#paste $target_dir/words.txt $target_dir/phones.txt >! $target_dir/lexicon.lst\n",
    "cp /kaggle/input/wav2vec-u-cv-swedish-audio/dict.train $target_dir/lexicon.lst\n",
    "\n",
    "#python $FAIRSEQ_ROOT/fairseq_cli/preprocess.py --dataset-impl mmap --trainpref $target_dir/phones.txt --only-source --destdir $target_dir/phones --thresholdsrc 1000 --padding-factor 1 --dict-only\n",
    "python $FAIRSEQ_ROOT/fairseq_cli/preprocess.py --dataset-impl mmap --trainpref $target_dir/phones.txt --only-source --destdir $target_dir/phones --thresholdsrc 2 --padding-factor 1 --dict-only\n",
    "\n",
    "python filter_lexicon.py -d $target_dir/phones/dict.txt < $target_dir/lexicon.lst >! $target_dir/lexicon_filtered.lst\n",
    "python phonemize_with_sil.py -s 0.25 --surround --lexicon $target_dir/lexicon_filtered.lst < $target_dir/lm.upper.lid.txt >! $target_dir/phones/lm.phones.filtered.txt\n",
    "cp $target_dir/phones/dict.txt $target_dir/phones/dict.phn.txt\n",
    "echo \"<SIL> 0\" >> $target_dir/phones/dict.phn.txt\n",
    "python $FAIRSEQ_ROOT/fairseq_cli/preprocess.py --dataset-impl mmap --trainpref $target_dir/phones/lm.phones.filtered.txt --workers 70 --only-source --destdir $target_dir/phones --srcdict $target_dir/phones/dict.phn.txt\n",
    "\n",
    "lmplz -o 4 < $target_dir/lm.upper.lid.txt --discount_fallback --prune 0 0 0 3 >! $target_dir/kenlm.wrd.o40003.arpa\n",
    "build_binary $target_dir/kenlm.wrd.o40003.arpa $target_dir/kenlm.wrd.o40003.bin\n",
    "lg=$lg python $FAIRSEQ_ROOT/examples/speech_recognition/kaldi/kaldi_initializer.py fst_dir=$target_dir/fst/phn_to_words_sil lm_arpa=$target_dir/kenlm.wrd.o40003.arpa wav2letter_lexicon=$target_dir/lexicon_filtered.lst data_dir=$target_dir/phones \"blank_symbol='<SIL>'\" \"in_labels='phn'\" \"kaldi_root='/opt/kaldi'\"\n",
    "lg=$lg python $FAIRSEQ_ROOT/examples/speech_recognition/kaldi/kaldi_initializer.py fst_dir=$target_dir/fst/phn_to_words lm_arpa=$target_dir/kenlm.wrd.o40003.arpa wav2letter_lexicon=$target_dir/lexicon_filtered.lst data_dir=$target_dir/phones  \"in_labels='phn'\" \"kaldi_root='/opt/kaldi'\"\n",
    "\n",
    "lmplz -o 4 < $target_dir/phones/lm.phones.filtered.txt --discount_fallback >! $target_dir/phones/lm.phones.filtered.04.arpa\n",
    "build_binary -s $target_dir/phones/lm.phones.filtered.04.arpa $target_dir/phones/lm.phones.filtered.04.bin\n",
    "lmplz -o 6 < $target_dir/phones/lm.phones.filtered.txt --discount_fallback >! $target_dir/phones/lm.phones.filtered.06.arpa\n",
    "build_binary -s $target_dir/phones/lm.phones.filtered.06.arpa $target_dir/phones/lm.phones.filtered.06.bin\n",
    "\n",
    "lg=$lg python $FAIRSEQ_ROOT/examples/speech_recognition/kaldi/kaldi_initializer.py fst_dir=$target_dir/fst/phn_to_phn_sil lm_arpa=$target_dir/phones/lm.phones.filtered.06.arpa data_dir=$target_dir/phones \"blank_symbol='<SIL>'\" \"in_labels='phn'\" \"kaldi_root='/opt/kaldi'\""
   ]
  },
  {
   "cell_type": "code",
   "execution_count": 24,
   "id": "martial-island",
   "metadata": {
    "_kg_hide-input": true,
    "execution": {
     "iopub.execute_input": "2021-05-30T15:43:47.387785Z",
     "iopub.status.busy": "2021-05-30T15:43:47.386734Z",
     "iopub.status.idle": "2021-05-30T15:43:47.391070Z",
     "shell.execute_reply": "2021-05-30T15:43:47.391582Z"
    },
    "papermill": {
     "duration": 0.051832,
     "end_time": "2021-05-30T15:43:47.391749",
     "exception": false,
     "start_time": "2021-05-30T15:43:47.339917",
     "status": "completed"
    },
    "tags": []
   },
   "outputs": [
    {
     "name": "stdout",
     "output_type": "stream",
     "text": [
      "Overwriting /tmp/fairseq/examples/speech_recognition/kaldi/add-self-loop-simple.cc\n"
     ]
    }
   ],
   "source": [
    "%%writefile /tmp/fairseq/examples/speech_recognition/kaldi/add-self-loop-simple.cc\n",
    "/*\n",
    "* Copyright (c) Facebook, Inc. and its affiliates.\n",
    "*\n",
    "* This source code is licensed under the MIT license found in the\n",
    "* LICENSE file in the root directory of this source tree.\n",
    "*/\n",
    "\n",
    "#include <iostream>\n",
    "#include \"fstext/fstext-lib.h\" // @manual\n",
    "#include \"util/common-utils.h\" // @manual\n",
    "\n",
    "/*\n",
    " * This program is to modify a FST without self-loop by:\n",
    " *   for each incoming arc with non-eps input symbol, add a self-loop arc\n",
    " *   with that non-eps symbol as input and eps as output.\n",
    " *\n",
    " * This is to make sure the resultant FST can do deduplication for repeated\n",
    " * symbols, which is very common in acoustic model\n",
    " *\n",
    " */\n",
    "namespace {\n",
    "int32 AddSelfLoopsSimple(fst::StdVectorFst* fst) {\n",
    "  typedef fst::MutableArcIterator<fst::StdVectorFst> IterType;\n",
    "\n",
    "  int32 num_states_before = fst->NumStates();\n",
    "  fst::MakePrecedingInputSymbolsSame(false, fst);\n",
    "  int32 num_states_after = fst->NumStates();\n",
    "  KALDI_LOG << \"There are \" << num_states_before\n",
    "            << \" states in the original FST; \"\n",
    "            << \" after MakePrecedingInputSymbolsSame, there are \"\n",
    "            << num_states_after << \" states \";\n",
    "\n",
    "  auto weight_one = fst::StdArc::Weight::One();\n",
    "\n",
    "  int32 num_arc_added = 0;\n",
    "\n",
    "  fst::StdArc self_loop_arc;\n",
    "  self_loop_arc.weight = weight_one;\n",
    "\n",
    "  int32 num_states = fst->NumStates();\n",
    "  std::vector<std::set<int32>> incoming_non_eps_label_per_state(num_states);\n",
    "\n",
    "  for (int32 state = 0; state < num_states; state++) {\n",
    "    for (IterType aiter(fst, state); !aiter.Done(); aiter.Next()) {\n",
    "      fst::StdArc arc(aiter.Value());\n",
    "      if (arc.ilabel != 0) {\n",
    "        incoming_non_eps_label_per_state[arc.nextstate].insert(arc.ilabel);\n",
    "      }\n",
    "    }\n",
    "  }\n",
    "\n",
    "  for (int32 state = 0; state < num_states; state++) {\n",
    "    if (!incoming_non_eps_label_per_state[state].empty()) {\n",
    "      auto& ilabel_set = incoming_non_eps_label_per_state[state];\n",
    "      for (auto it = ilabel_set.begin(); it != ilabel_set.end(); it++) {\n",
    "        self_loop_arc.ilabel = *it;\n",
    "        self_loop_arc.olabel = 0;\n",
    "        self_loop_arc.nextstate = state;\n",
    "        fst->AddArc(state, self_loop_arc);\n",
    "        num_arc_added++;\n",
    "      }\n",
    "    }\n",
    "  }\n",
    "  return num_arc_added;\n",
    "}\n",
    "\n",
    "void print_usage() {\n",
    "  std::cout << \"add-self-loop-simple usage:\\n\"\n",
    "               \"\\tadd-self-loop-simple <in-fst> <out-fst> \\n\";\n",
    "}\n",
    "} // namespace\n",
    "\n",
    "int main(int argc, char** argv) {\n",
    "  if (argc != 3) {\n",
    "    print_usage();\n",
    "    exit(1);\n",
    "  }\n",
    "\n",
    "  auto input = argv[1];\n",
    "  auto output = argv[2];\n",
    "\n",
    "  auto fst = fst::ReadFstKaldi(input);\n",
    "  auto num_states = fst->NumStates();\n",
    "  KALDI_LOG << \"Loading FST from \" << input << \" with \" << num_states\n",
    "            << \" states.\";\n",
    "\n",
    "  int32 num_arc_added = AddSelfLoopsSimple(fst);\n",
    "  KALDI_LOG << \"Adding \" << num_arc_added << \" self-loop arcs \";\n",
    "\n",
    "  fst::WriteFstKaldi(*fst, std::string(output));\n",
    "  KALDI_LOG << \"Writing FST to \" << output;\n",
    "\n",
    "  delete fst;\n",
    "}"
   ]
  },
  {
   "cell_type": "code",
   "execution_count": 25,
   "id": "continental-container",
   "metadata": {
    "execution": {
     "iopub.execute_input": "2021-05-30T15:43:47.482097Z",
     "iopub.status.busy": "2021-05-30T15:43:47.481420Z",
     "iopub.status.idle": "2021-05-30T15:44:36.055344Z",
     "shell.execute_reply": "2021-05-30T15:44:36.054583Z",
     "shell.execute_reply.started": "2021-05-25T23:28:33.84656Z"
    },
    "papermill": {
     "duration": 48.62312,
     "end_time": "2021-05-30T15:44:36.055534",
     "exception": false,
     "start_time": "2021-05-30T15:43:47.432414",
     "status": "completed"
    },
    "tags": []
   },
   "outputs": [
    {
     "name": "stdout",
     "output_type": "stream",
     "text": [
      "sv\r\n",
      "sv\r\n",
      "/kaggle/working/sentences.txt\r\n",
      "/kaggle/working/preppedtext\r\n",
      "=== 1/5 Counting and sorting n-grams ===\r\n",
      "Reading /kaggle/working/preppedtext/lm.upper.lid.txt\r\n",
      "----5---10---15---20---25---30---35---40---45---50---55---60---65---70---75---80---85---90---95--100\r\n",
      "****************************************************************************************************\r\n",
      "Unigram tokens 14359 types 3160\r\n",
      "=== 2/5 Calculating and sorting adjusted counts ===\r\n",
      "Chain sizes: 1:37920 2:2571430400 3:4821431808 4:7714291200\r\n",
      "Statistics:\r\n",
      "1 3160 D1=0.722623 D2=1.14413 D3+=1.45956\r\n",
      "2 10285 D1=0.848104 D2=1.2466 D3+=1.46191\r\n",
      "3 12632 D1=0.943362 D2=1.24166 D3+=1.32723\r\n",
      "4 19/11699 D1=0.970399 D2=1.4843 D3+=2.12351\r\n",
      "Memory estimate for binary LM:\r\n",
      "type     kB\r\n",
      "probing 617 assuming -p 1.5\r\n",
      "probing 764 assuming -r models -p 1.5\r\n",
      "trie    309 without quantization\r\n",
      "trie    182 assuming -q 8 -b 8 quantization \r\n",
      "trie    293 assuming -a 22 array pointer compression\r\n",
      "trie    166 assuming -a 22 -q 8 -b 8 array pointer compression and quantization\r\n",
      "=== 3/5 Calculating and sorting initial probabilities ===\r\n",
      "Chain sizes: 1:37920 2:164560 3:252640 4:456\r\n",
      "----5---10---15---20---25---30---35---40---45---50---55---60---65---70---75---80---85---90---95--100\r\n",
      "####################################################################################################\r\n",
      "=== 4/5 Calculating and writing order-interpolated probabilities ===\r\n",
      "Chain sizes: 1:37920 2:164560 3:252640 4:456\r\n",
      "----5---10---15---20---25---30---35---40---45---50---55---60---65---70---75---80---85---90---95--100\r\n",
      "####################################################################################################\r\n",
      "=== 5/5 Writing ARPA model ===\r\n",
      "----5---10---15---20---25---30---35---40---45---50---55---60---65---70---75---80---85---90---95--100\r\n",
      "****************************************************************************************************\r\n",
      "Name:lmplz\tVmPeak:14916872 kB\tVmRSS:6308 kB\tRSSMax:2975208 kB\tuser:0.41155\tsys:3.231\tCPU:3.64263\treal:3.64406\r\n",
      "Reading /kaggle/working/preppedtext/kenlm.wrd.o40003.arpa\r\n",
      "----5---10---15---20---25---30---35---40---45---50---55---60---65---70---75---80---85---90---95--100\r\n",
      "****************************************************************************************************\r\n",
      "SUCCESS\r\n",
      "[2021-05-30 15:44:05,066][__main__][INFO] - Creating /kaggle/working/preppedtext/fst/phn_to_words_sil/kaldi_dict.phn.txt\r\n",
      "[2021-05-30 15:44:05,067][__main__][INFO] - Creating /kaggle/working/preppedtext/fst/phn_to_words_sil/G_kenlm.wrd.o40003.fst\r\n",
      "/opt/kaldi/src/lmbin/arpa2fst --disambig-symbol=#0 --write-symbol-table=/kaggle/working/preppedtext/fst/phn_to_words_sil/kaldi_dict.kenlm.wrd.o40003.txt /kaggle/working/preppedtext/kenlm.wrd.o40003.arpa /kaggle/working/preppedtext/fst/phn_to_words_sil/G_kenlm.wrd.o40003.fst \r\n",
      "LOG (arpa2fst[5.5.0~1-2b62]:Read():arpa-file-parser.cc:94) Reading \\data\\ section.\r\n",
      "LOG (arpa2fst[5.5.0~1-2b62]:Read():arpa-file-parser.cc:149) Reading \\1-grams: section.\r\n",
      "LOG (arpa2fst[5.5.0~1-2b62]:Read():arpa-file-parser.cc:149) Reading \\2-grams: section.\r\n",
      "LOG (arpa2fst[5.5.0~1-2b62]:Read():arpa-file-parser.cc:149) Reading \\3-grams: section.\r\n",
      "LOG (arpa2fst[5.5.0~1-2b62]:Read():arpa-file-parser.cc:149) Reading \\4-grams: section.\r\n",
      "LOG (arpa2fst[5.5.0~1-2b62]:RemoveRedundantStates():arpa-lm-compiler.cc:359) Reduced num-states from 22665 to 12144\r\n",
      "[2021-05-30 15:44:05,233][__main__][INFO] - Creating /kaggle/working/preppedtext/fst/phn_to_words_sil/kaldi_lexicon.phn.kenlm.wrd.o40003.txt (in units file: /kaggle/working/preppedtext/fst/phn_to_words_sil/kaldi_dict.phn.txt)\r\n",
      "[2021-05-30 15:44:05,334][__main__][INFO] - Creating /kaggle/working/preppedtext/fst/phn_to_words_sil/H.phn.fst\r\n",
      "[2021-05-30 15:44:05,384][__main__][INFO] - Creating /kaggle/working/preppedtext/fst/phn_to_words_sil/L.phn.kenlm.wrd.o40003.fst (in units: /kaggle/working/preppedtext/fst/phn_to_words_sil/kaldi_dict.phn_disambig.txt)\r\n",
      "[2021-05-30 15:44:05,552][__main__][INFO] - Creating /kaggle/working/preppedtext/fst/phn_to_words_sil/LG.phn.kenlm.wrd.o40003.fst\r\n",
      "[2021-05-30 15:44:06,384][__main__][INFO] - Creating /kaggle/working/preppedtext/fst/phn_to_words_sil/HLGa.phn.kenlm.wrd.o40003.fst\r\n",
      "[2021-05-30 15:44:08,724][__main__][INFO] - Creating /kaggle/working/preppedtext/fst/phn_to_words_sil/HLG.phn.kenlm.wrd.o40003.fst\r\n",
      "[2021-05-30 15:44:19,207][__main__][INFO] - Creating /kaggle/working/preppedtext/fst/phn_to_words/kaldi_dict.phn.txt\r\n",
      "[2021-05-30 15:44:19,208][__main__][INFO] - Creating /kaggle/working/preppedtext/fst/phn_to_words/G_kenlm.wrd.o40003.fst\r\n",
      "/opt/kaldi/src/lmbin/arpa2fst --disambig-symbol=#0 --write-symbol-table=/kaggle/working/preppedtext/fst/phn_to_words/kaldi_dict.kenlm.wrd.o40003.txt /kaggle/working/preppedtext/kenlm.wrd.o40003.arpa /kaggle/working/preppedtext/fst/phn_to_words/G_kenlm.wrd.o40003.fst \r\n",
      "LOG (arpa2fst[5.5.0~1-2b62]:Read():arpa-file-parser.cc:94) Reading \\data\\ section.\r\n",
      "LOG (arpa2fst[5.5.0~1-2b62]:Read():arpa-file-parser.cc:149) Reading \\1-grams: section.\r\n",
      "LOG (arpa2fst[5.5.0~1-2b62]:Read():arpa-file-parser.cc:149) Reading \\2-grams: section.\r\n",
      "LOG (arpa2fst[5.5.0~1-2b62]:Read():arpa-file-parser.cc:149) Reading \\3-grams: section.\r\n",
      "LOG (arpa2fst[5.5.0~1-2b62]:Read():arpa-file-parser.cc:149) Reading \\4-grams: section.\r\n",
      "LOG (arpa2fst[5.5.0~1-2b62]:RemoveRedundantStates():arpa-lm-compiler.cc:359) Reduced num-states from 22665 to 12144\r\n",
      "[2021-05-30 15:44:19,355][__main__][INFO] - Creating /kaggle/working/preppedtext/fst/phn_to_words/kaldi_lexicon.phn.kenlm.wrd.o40003.txt (in units file: /kaggle/working/preppedtext/fst/phn_to_words/kaldi_dict.phn.txt)\r\n",
      "[2021-05-30 15:44:19,430][__main__][INFO] - Creating /kaggle/working/preppedtext/fst/phn_to_words/H.phn.fst\r\n",
      "[2021-05-30 15:44:19,477][__main__][INFO] - Creating /kaggle/working/preppedtext/fst/phn_to_words/L.phn.kenlm.wrd.o40003.fst (in units: /kaggle/working/preppedtext/fst/phn_to_words/kaldi_dict.phn_disambig.txt)\r\n",
      "[2021-05-30 15:44:19,637][__main__][INFO] - Creating /kaggle/working/preppedtext/fst/phn_to_words/LG.phn.kenlm.wrd.o40003.fst\r\n",
      "[2021-05-30 15:44:20,455][__main__][INFO] - Creating /kaggle/working/preppedtext/fst/phn_to_words/HLGa.phn.kenlm.wrd.o40003.fst\r\n",
      "[2021-05-30 15:44:22,764][__main__][INFO] - Creating /kaggle/working/preppedtext/fst/phn_to_words/HLG.phn.kenlm.wrd.o40003.fst\r\n",
      "=== 1/5 Counting and sorting n-grams ===\r\n",
      "Reading /kaggle/working/preppedtext/phones/lm.phones.filtered.txt\r\n",
      "----5---10---15---20---25---30---35---40---45---50---55---60---65---70---75---80---85---90---95--100\r\n",
      "****************************************************************************************************\r\n",
      "Unigram tokens 63687 types 44\r\n",
      "=== 2/5 Calculating and sorting adjusted counts ===\r\n",
      "Chain sizes: 1:528 2:2571436544 3:4821443584 4:7714310144\r\n",
      "Substituting fallback discounts for order 0: D1=0.5 D2=1 D3+=1.5\r\n",
      "Statistics:\r\n",
      "1 44 D1=0.5 D2=1 D3+=1.5\r\n",
      "2 1060 D1=0.448454 D2=0.918682 D3+=1.37305\r\n",
      "3 8535 D1=0.559372 D2=1.10789 D3+=1.68748\r\n",
      "4 23147 D1=0.64806 D2=1.16389 D3+=1.47349\r\n",
      "Memory estimate for binary LM:\r\n",
      "type     kB\r\n",
      "probing 632 assuming -p 1.5\r\n",
      "probing 689 assuming -r models -p 1.5\r\n",
      "trie    203 without quantization\r\n",
      "trie     88 assuming -q 8 -b 8 quantization \r\n",
      "trie    196 assuming -a 22 array pointer compression\r\n",
      "trie     81 assuming -a 22 -q 8 -b 8 array pointer compression and quantization\r\n",
      "=== 3/5 Calculating and sorting initial probabilities ===\r\n",
      "Chain sizes: 1:528 2:16960 3:170700 4:555528\r\n",
      "----5---10---15---20---25---30---35---40---45---50---55---60---65---70---75---80---85---90---95--100\r\n",
      "####################################################################################################\r\n",
      "=== 4/5 Calculating and writing order-interpolated probabilities ===\r\n",
      "Chain sizes: 1:528 2:16960 3:170700 4:555528\r\n",
      "----5---10---15---20---25---30---35---40---45---50---55---60---65---70---75---80---85---90---95--100\r\n",
      "####################################################################################################\r\n",
      "=== 5/5 Writing ARPA model ===\r\n",
      "----5---10---15---20---25---30---35---40---45---50---55---60---65---70---75---80---85---90---95--100\r\n",
      "****************************************************************************************************\r\n",
      "Name:lmplz\tVmPeak:14916780 kB\tVmRSS:6804 kB\tRSSMax:2973812 kB\tuser:0.457158\tsys:1.6065\tCPU:2.0637\treal:2.06024\r\n",
      "Reading /kaggle/working/preppedtext/phones/lm.phones.filtered.04.arpa\r\n",
      "----5---10---15---20---25---30---35---40---45---50---55---60---65---70---75---80---85---90---95--100\r\n",
      "****************************************************************************************************\r\n",
      "SUCCESS\r\n",
      "=== 1/5 Counting and sorting n-grams ===\r\n",
      "Reading /kaggle/working/preppedtext/phones/lm.phones.filtered.txt\r\n",
      "----5---10---15---20---25---30---35---40---45---50---55---60---65---70---75---80---85---90---95--100\r\n",
      "****************************************************************************************************\r\n",
      "Unigram tokens 63687 types 44\r\n",
      "=== 2/5 Calculating and sorting adjusted counts ===\r\n",
      "Chain sizes: 1:528 2:929673280 3:1743137408 4:2789019904 5:4067320832 6:5578039808\r\n",
      "Substituting fallback discounts for order 0: D1=0.5 D2=1 D3+=1.5\r\n",
      "Statistics:\r\n",
      "1 44 D1=0.5 D2=1 D3+=1.5\r\n",
      "2 1060 D1=0.448454 D2=0.918682 D3+=1.37305\r\n",
      "3 8535 D1=0.559372 D2=1.10789 D3+=1.68748\r\n",
      "4 23147 D1=0.71018 D2=1.23649 D3+=1.60492\r\n",
      "5 35868 D1=0.823551 D2=1.35408 D3+=1.49986\r\n",
      "6 43617 D1=0.838139 D2=1.20043 D3+=1.50094\r\n",
      "Memory estimate for binary LM:\r\n",
      "type      kB\r\n",
      "probing 2375 assuming -p 1.5\r\n",
      "probing 2778 assuming -r models -p 1.5\r\n",
      "trie     908 without quantization\r\n",
      "trie     401 assuming -q 8 -b 8 quantization \r\n",
      "trie     839 assuming -a 22 array pointer compression\r\n",
      "trie     331 assuming -a 22 -q 8 -b 8 array pointer compression and quantization\r\n",
      "=== 3/5 Calculating and sorting initial probabilities ===\r\n",
      "Chain sizes: 1:528 2:16960 3:170700 4:555528 5:1004304 6:1395744\r\n",
      "----5---10---15---20---25---30---35---40---45---50---55---60---65---70---75---80---85---90---95--100\r\n",
      "####################################################################################################\r\n",
      "=== 4/5 Calculating and writing order-interpolated probabilities ===\r\n",
      "Chain sizes: 1:528 2:16960 3:170700 4:555528 5:1004304 6:1395744\r\n",
      "----5---10---15---20---25---30---35---40---45---50---55---60---65---70---75---80---85---90---95--100\r\n",
      "####################################################################################################\r\n",
      "=== 5/5 Writing ARPA model ===\r\n",
      "----5---10---15---20---25---30---35---40---45---50---55---60---65---70---75---80---85---90---95--100\r\n",
      "****************************************************************************************************\r\n",
      "Name:lmplz\tVmPeak:14949572 kB\tVmRSS:6552 kB\tRSSMax:2354508 kB\tuser:0.44613\tsys:1.20694\tCPU:1.65316\treal:1.63147\r\n",
      "Reading /kaggle/working/preppedtext/phones/lm.phones.filtered.06.arpa\r\n",
      "----5---10---15---20---25---30---35---40---45---50---55---60---65---70---75---80---85---90---95--100\r\n",
      "****************************************************************************************************\r\n",
      "SUCCESS\r\n",
      "[2021-05-30 15:44:29,788][__main__][INFO] - Creating /kaggle/working/preppedtext/fst/phn_to_phn_sil/kaldi_dict.phn.txt\r\n",
      "[2021-05-30 15:44:29,788][__main__][INFO] - Creating /kaggle/working/preppedtext/fst/phn_to_phn_sil/G_lm.phones.filtered.06.fst\r\n",
      "/opt/kaldi/src/lmbin/arpa2fst --disambig-symbol=#0 --write-symbol-table=/kaggle/working/preppedtext/fst/phn_to_phn_sil/kaldi_dict.lm.phones.filtered.06.txt /kaggle/working/preppedtext/phones/lm.phones.filtered.06.arpa /kaggle/working/preppedtext/fst/phn_to_phn_sil/G_lm.phones.filtered.06.fst \r\n",
      "LOG (arpa2fst[5.5.0~1-2b62]:Read():arpa-file-parser.cc:94) Reading \\data\\ section.\r\n",
      "LOG (arpa2fst[5.5.0~1-2b62]:HeaderAvailable():arpa-lm-compiler.cc:300) Reverting to slower state tracking because model is large: 6-gram with symbols up to 47\r\n",
      "LOG (arpa2fst[5.5.0~1-2b62]:Read():arpa-file-parser.cc:149) Reading \\1-grams: section.\r\n",
      "LOG (arpa2fst[5.5.0~1-2b62]:Read():arpa-file-parser.cc:149) Reading \\2-grams: section.\r\n",
      "LOG (arpa2fst[5.5.0~1-2b62]:Read():arpa-file-parser.cc:149) Reading \\3-grams: section.\r\n",
      "LOG (arpa2fst[5.5.0~1-2b62]:Read():arpa-file-parser.cc:149) Reading \\4-grams: section.\r\n",
      "LOG (arpa2fst[5.5.0~1-2b62]:Read():arpa-file-parser.cc:149) Reading \\5-grams: section.\r\n",
      "LOG (arpa2fst[5.5.0~1-2b62]:Read():arpa-file-parser.cc:149) Reading \\6-grams: section.\r\n",
      "LOG (arpa2fst[5.5.0~1-2b62]:RemoveRedundantStates():arpa-lm-compiler.cc:359) Reduced num-states from 67623 to 67622\r\n",
      "[2021-05-30 15:44:30,412][__main__][INFO] - Creating /kaggle/working/preppedtext/fst/phn_to_phn_sil/kaldi_lexicon.phn.lm.phones.filtered.06.txt (in units file: /kaggle/working/preppedtext/fst/phn_to_phn_sil/kaldi_dict.phn.txt)\r\n",
      "[2021-05-30 15:44:30,434][__main__][INFO] - Creating /kaggle/working/preppedtext/fst/phn_to_phn_sil/H.phn.fst\r\n",
      "[2021-05-30 15:44:30,483][__main__][INFO] - Creating /kaggle/working/preppedtext/fst/phn_to_phn_sil/L.phn.lm.phones.filtered.06.fst (in units: /kaggle/working/preppedtext/fst/phn_to_phn_sil/kaldi_dict.phn_disambig.txt)\r\n",
      "[2021-05-30 15:44:30,541][__main__][INFO] - Creating /kaggle/working/preppedtext/fst/phn_to_phn_sil/LG.phn.lm.phones.filtered.06.fst\r\n",
      "[2021-05-30 15:44:31,599][__main__][INFO] - Creating /kaggle/working/preppedtext/fst/phn_to_phn_sil/HLGa.phn.lm.phones.filtered.06.fst\r\n",
      "[2021-05-30 15:44:34,789][__main__][INFO] - Creating /kaggle/working/preppedtext/fst/phn_to_phn_sil/HLG.phn.lm.phones.filtered.06.fst\r\n"
     ]
    }
   ],
   "source": [
    "!zsh prepare_text.sh sv /kaggle/working/sentences.txt /kaggle/working/preppedtext"
   ]
  }
 ],
 "metadata": {
  "kernelspec": {
   "display_name": "Python 3",
   "language": "python",
   "name": "python3"
  },
  "language_info": {
   "codemirror_mode": {
    "name": "ipython",
    "version": 3
   },
   "file_extension": ".py",
   "mimetype": "text/x-python",
   "name": "python",
   "nbconvert_exporter": "python",
   "pygments_lexer": "ipython3",
   "version": "3.7.10"
  },
  "papermill": {
   "default_parameters": {},
   "duration": 274.905394,
   "end_time": "2021-05-30T15:44:37.848723",
   "environment_variables": {},
   "exception": null,
   "input_path": "__notebook__.ipynb",
   "output_path": "__notebook__.ipynb",
   "parameters": {},
   "start_time": "2021-05-30T15:40:02.943329",
   "version": "2.3.3"
  }
 },
 "nbformat": 4,
 "nbformat_minor": 5
}
