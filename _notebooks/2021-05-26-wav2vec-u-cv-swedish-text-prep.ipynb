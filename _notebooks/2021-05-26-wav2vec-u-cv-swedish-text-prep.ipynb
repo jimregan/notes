{
 "cells": [
  {
   "cell_type": "code",
   "execution_count": 1,
   "id": "matched-mother",
   "metadata": {
    "_cell_guid": "b1076dfc-b9ad-4769-8c92-a6c4dae69d19",
    "_uuid": "8f2839f25d086af736a60e9eeb907d3b93b6e0e5",
    "execution": {
     "iopub.execute_input": "2021-05-30T12:38:46.338739Z",
     "iopub.status.busy": "2021-05-30T12:38:46.337773Z",
     "iopub.status.idle": "2021-05-30T12:38:46.346535Z",
     "shell.execute_reply": "2021-05-30T12:38:46.346020Z",
     "shell.execute_reply.started": "2021-05-25T22:46:58.262403Z"
    },
    "papermill": {
     "duration": 0.025561,
     "end_time": "2021-05-30T12:38:46.346670",
     "exception": false,
     "start_time": "2021-05-30T12:38:46.321109",
     "status": "completed"
    },
    "tags": []
   },
   "outputs": [
    {
     "name": "stdout",
     "output_type": "stream",
     "text": [
      "/opt\n"
     ]
    }
   ],
   "source": [
    "%cd /opt"
   ]
  },
  {
   "cell_type": "code",
   "execution_count": 2,
   "id": "adapted-sussex",
   "metadata": {
    "execution": {
     "iopub.execute_input": "2021-05-30T12:38:46.377688Z",
     "iopub.status.busy": "2021-05-30T12:38:46.377174Z",
     "iopub.status.idle": "2021-05-30T12:39:27.694872Z",
     "shell.execute_reply": "2021-05-30T12:39:27.694378Z"
    },
    "papermill": {
     "duration": 41.334785,
     "end_time": "2021-05-30T12:39:27.695022",
     "exception": false,
     "start_time": "2021-05-30T12:38:46.360237",
     "status": "completed"
    },
    "tags": []
   },
   "outputs": [],
   "source": [
    "%%capture\n",
    "!tar xvf /kaggle/input/extract-prebuilt-kaldi-from-docker/kaldi.tar"
   ]
  },
  {
   "cell_type": "code",
   "execution_count": 3,
   "id": "certified-device",
   "metadata": {
    "execution": {
     "iopub.execute_input": "2021-05-30T12:39:27.730617Z",
     "iopub.status.busy": "2021-05-30T12:39:27.730073Z",
     "iopub.status.idle": "2021-05-30T12:39:28.282045Z",
     "shell.execute_reply": "2021-05-30T12:39:28.282544Z"
    },
    "papermill": {
     "duration": 0.573384,
     "end_time": "2021-05-30T12:39:28.282717",
     "exception": false,
     "start_time": "2021-05-30T12:39:27.709333",
     "status": "completed"
    },
    "tags": []
   },
   "outputs": [
    {
     "name": "stdout",
     "output_type": "stream",
     "text": [
      "/tmp\n"
     ]
    }
   ],
   "source": [
    "%cd /tmp"
   ]
  },
  {
   "cell_type": "code",
   "execution_count": 4,
   "id": "permanent-shore",
   "metadata": {
    "execution": {
     "iopub.execute_input": "2021-05-30T12:39:28.330796Z",
     "iopub.status.busy": "2021-05-30T12:39:28.329995Z",
     "iopub.status.idle": "2021-05-30T12:39:33.779345Z",
     "shell.execute_reply": "2021-05-30T12:39:33.778224Z",
     "shell.execute_reply.started": "2021-05-25T22:38:20.218298Z"
    },
    "papermill": {
     "duration": 5.472708,
     "end_time": "2021-05-30T12:39:33.779503",
     "exception": false,
     "start_time": "2021-05-30T12:39:28.306795",
     "status": "completed"
    },
    "tags": []
   },
   "outputs": [
    {
     "name": "stdout",
     "output_type": "stream",
     "text": [
      "Cloning into 'fairseq'...\r\n",
      "remote: Enumerating objects: 28172, done.\u001b[K\r\n",
      "remote: Counting objects: 100% (586/586), done.\u001b[K\r\n",
      "remote: Compressing objects: 100% (337/337), done.\u001b[K\r\n",
      "remote: Total 28172 (delta 308), reused 464 (delta 236), pack-reused 27586\u001b[K\r\n",
      "Receiving objects: 100% (28172/28172), 11.87 MiB | 9.23 MiB/s, done.\r\n",
      "Resolving deltas: 100% (21131/21131), done.\r\n"
     ]
    }
   ],
   "source": [
    "!git clone https://github.com/pytorch/fairseq/"
   ]
  },
  {
   "cell_type": "code",
   "execution_count": 5,
   "id": "fantastic-radius",
   "metadata": {
    "execution": {
     "iopub.execute_input": "2021-05-30T12:39:33.827800Z",
     "iopub.status.busy": "2021-05-30T12:39:33.826999Z",
     "iopub.status.idle": "2021-05-30T12:39:43.931781Z",
     "shell.execute_reply": "2021-05-30T12:39:43.931292Z"
    },
    "papermill": {
     "duration": 10.129656,
     "end_time": "2021-05-30T12:39:43.931917",
     "exception": false,
     "start_time": "2021-05-30T12:39:33.802261",
     "status": "completed"
    },
    "tags": []
   },
   "outputs": [],
   "source": [
    "%%capture\n",
    "!pip install phonemizer"
   ]
  },
  {
   "cell_type": "code",
   "execution_count": 6,
   "id": "negative-vintage",
   "metadata": {
    "execution": {
     "iopub.execute_input": "2021-05-30T12:39:43.981463Z",
     "iopub.status.busy": "2021-05-30T12:39:43.980234Z",
     "iopub.status.idle": "2021-05-30T12:40:38.874943Z",
     "shell.execute_reply": "2021-05-30T12:40:38.874457Z"
    },
    "papermill": {
     "duration": 54.923053,
     "end_time": "2021-05-30T12:40:38.875081",
     "exception": false,
     "start_time": "2021-05-30T12:39:43.952028",
     "status": "completed"
    },
    "tags": []
   },
   "outputs": [],
   "source": [
    "%%capture\n",
    "!pip install git+https://github.com/pytorch/fairseq/"
   ]
  },
  {
   "cell_type": "code",
   "execution_count": 7,
   "id": "guilty-density",
   "metadata": {
    "execution": {
     "iopub.execute_input": "2021-05-30T12:40:38.925142Z",
     "iopub.status.busy": "2021-05-30T12:40:38.921108Z",
     "iopub.status.idle": "2021-05-30T12:40:45.771931Z",
     "shell.execute_reply": "2021-05-30T12:40:45.771238Z"
    },
    "papermill": {
     "duration": 6.876251,
     "end_time": "2021-05-30T12:40:45.772072",
     "exception": false,
     "start_time": "2021-05-30T12:40:38.895821",
     "status": "completed"
    },
    "tags": []
   },
   "outputs": [],
   "source": [
    "%%capture\n",
    "!apt-get -y install espeak"
   ]
  },
  {
   "cell_type": "code",
   "execution_count": 8,
   "id": "senior-rebound",
   "metadata": {
    "execution": {
     "iopub.execute_input": "2021-05-30T12:40:45.822414Z",
     "iopub.status.busy": "2021-05-30T12:40:45.821898Z",
     "iopub.status.idle": "2021-05-30T12:40:49.428915Z",
     "shell.execute_reply": "2021-05-30T12:40:49.428448Z",
     "shell.execute_reply.started": "2021-05-25T22:47:02.096238Z"
    },
    "papermill": {
     "duration": 3.636016,
     "end_time": "2021-05-30T12:40:49.429053",
     "exception": false,
     "start_time": "2021-05-30T12:40:45.793037",
     "status": "completed"
    },
    "tags": []
   },
   "outputs": [
    {
     "name": "stdout",
     "output_type": "stream",
     "text": [
      "Cloning into 'kenlm'...\r\n",
      "remote: Enumerating objects: 13824, done.\u001b[K\r\n",
      "remote: Counting objects: 100% (137/137), done.\u001b[K\r\n",
      "remote: Compressing objects: 100% (79/79), done.\u001b[K\r\n",
      "remote: Total 13824 (delta 76), reused 92 (delta 45), pack-reused 13687\u001b[K\r\n",
      "Receiving objects: 100% (13824/13824), 5.49 MiB | 4.42 MiB/s, done.\r\n",
      "Resolving deltas: 100% (7956/7956), done.\r\n"
     ]
    }
   ],
   "source": [
    "!git clone https://github.com/kpu/kenlm"
   ]
  },
  {
   "cell_type": "code",
   "execution_count": 9,
   "id": "hairy-dress",
   "metadata": {
    "execution": {
     "iopub.execute_input": "2021-05-30T12:40:49.488630Z",
     "iopub.status.busy": "2021-05-30T12:40:49.484479Z",
     "iopub.status.idle": "2021-05-30T12:40:55.065169Z",
     "shell.execute_reply": "2021-05-30T12:40:55.064266Z"
    },
    "papermill": {
     "duration": 5.611096,
     "end_time": "2021-05-30T12:40:55.065308",
     "exception": false,
     "start_time": "2021-05-30T12:40:49.454212",
     "status": "completed"
    },
    "tags": []
   },
   "outputs": [],
   "source": [
    "%%capture\n",
    "!apt-get -y install libeigen3-dev liblzma-dev zlib1g-dev libbz2-dev"
   ]
  },
  {
   "cell_type": "code",
   "execution_count": 10,
   "id": "invalid-symbol",
   "metadata": {
    "execution": {
     "iopub.execute_input": "2021-05-30T12:40:55.122958Z",
     "iopub.status.busy": "2021-05-30T12:40:55.122413Z",
     "iopub.status.idle": "2021-05-30T12:41:55.861670Z",
     "shell.execute_reply": "2021-05-30T12:41:55.861166Z"
    },
    "papermill": {
     "duration": 60.771218,
     "end_time": "2021-05-30T12:41:55.861823",
     "exception": false,
     "start_time": "2021-05-30T12:40:55.090605",
     "status": "completed"
    },
    "tags": []
   },
   "outputs": [],
   "source": [
    "%%capture\n",
    "%cd kenlm\n",
    "!mkdir build\n",
    "%cd build\n",
    "!cmake ..\n",
    "!make -j 4\n",
    "%cd /tmp"
   ]
  },
  {
   "cell_type": "code",
   "execution_count": 11,
   "id": "different-rachel",
   "metadata": {
    "execution": {
     "iopub.execute_input": "2021-05-30T12:41:55.916612Z",
     "iopub.status.busy": "2021-05-30T12:41:55.916075Z",
     "iopub.status.idle": "2021-05-30T12:41:55.918045Z",
     "shell.execute_reply": "2021-05-30T12:41:55.918531Z",
     "shell.execute_reply.started": "2021-05-25T22:58:58.397816Z"
    },
    "papermill": {
     "duration": 0.031539,
     "end_time": "2021-05-30T12:41:55.918667",
     "exception": false,
     "start_time": "2021-05-30T12:41:55.887128",
     "status": "completed"
    },
    "tags": []
   },
   "outputs": [],
   "source": [
    "import os\n",
    "os.environ['PATH'] = f\"{os.environ['PATH']}:/tmp/kenlm/build/bin/\"\n",
    "os.environ['FAIRSEQ_ROOT'] = '/tmp/fairseq'"
   ]
  },
  {
   "cell_type": "code",
   "execution_count": 12,
   "id": "turned-unemployment",
   "metadata": {
    "execution": {
     "iopub.execute_input": "2021-05-30T12:41:55.970167Z",
     "iopub.status.busy": "2021-05-30T12:41:55.969673Z",
     "iopub.status.idle": "2021-05-30T12:41:56.761492Z",
     "shell.execute_reply": "2021-05-30T12:41:56.761009Z",
     "shell.execute_reply.started": "2021-05-25T22:55:06.647826Z"
    },
    "papermill": {
     "duration": 0.818184,
     "end_time": "2021-05-30T12:41:56.761641",
     "exception": false,
     "start_time": "2021-05-30T12:41:55.943457",
     "status": "completed"
    },
    "tags": []
   },
   "outputs": [],
   "source": [
    "!cat /kaggle/input/wav2vec-u-cv-swedish-audio/*.wrd | grep -v '^$' | sort| uniq > /kaggle/working/sentences.txt\n"
   ]
  },
  {
   "cell_type": "code",
   "execution_count": 13,
   "id": "collectible-evening",
   "metadata": {
    "execution": {
     "iopub.execute_input": "2021-05-30T12:41:56.818447Z",
     "iopub.status.busy": "2021-05-30T12:41:56.817617Z",
     "iopub.status.idle": "2021-05-30T12:41:56.821245Z",
     "shell.execute_reply": "2021-05-30T12:41:56.821713Z",
     "shell.execute_reply.started": "2021-05-25T22:55:38.373919Z"
    },
    "papermill": {
     "duration": 0.035129,
     "end_time": "2021-05-30T12:41:56.821857",
     "exception": false,
     "start_time": "2021-05-30T12:41:56.786728",
     "status": "completed"
    },
    "tags": []
   },
   "outputs": [
    {
     "name": "stdout",
     "output_type": "stream",
     "text": [
      "/tmp/fairseq/examples/wav2vec/unsupervised\n"
     ]
    }
   ],
   "source": [
    "%cd fairseq/examples/wav2vec/unsupervised"
   ]
  },
  {
   "cell_type": "code",
   "execution_count": 14,
   "id": "circular-leadership",
   "metadata": {
    "execution": {
     "iopub.execute_input": "2021-05-30T12:41:56.875613Z",
     "iopub.status.busy": "2021-05-30T12:41:56.874803Z",
     "iopub.status.idle": "2021-05-30T12:42:02.911265Z",
     "shell.execute_reply": "2021-05-30T12:42:02.910789Z"
    },
    "papermill": {
     "duration": 6.063785,
     "end_time": "2021-05-30T12:42:02.911411",
     "exception": false,
     "start_time": "2021-05-30T12:41:56.847626",
     "status": "completed"
    },
    "tags": []
   },
   "outputs": [],
   "source": [
    "%%capture\n",
    "!apt-get -y install zsh"
   ]
  },
  {
   "cell_type": "code",
   "execution_count": 15,
   "id": "happy-traveler",
   "metadata": {
    "execution": {
     "iopub.execute_input": "2021-05-30T12:42:02.964668Z",
     "iopub.status.busy": "2021-05-30T12:42:02.963970Z",
     "iopub.status.idle": "2021-05-30T12:42:03.680339Z",
     "shell.execute_reply": "2021-05-30T12:42:03.679751Z",
     "shell.execute_reply.started": "2021-05-25T22:58:19.000595Z"
    },
    "papermill": {
     "duration": 0.74386,
     "end_time": "2021-05-30T12:42:03.680484",
     "exception": false,
     "start_time": "2021-05-30T12:42:02.936624",
     "status": "completed"
    },
    "tags": []
   },
   "outputs": [],
   "source": [
    "!mkdir /kaggle/working/preppedtext"
   ]
  },
  {
   "cell_type": "code",
   "execution_count": 16,
   "id": "fantastic-result",
   "metadata": {
    "execution": {
     "iopub.execute_input": "2021-05-30T12:42:03.735544Z",
     "iopub.status.busy": "2021-05-30T12:42:03.734862Z",
     "iopub.status.idle": "2021-05-30T12:42:03.739200Z",
     "shell.execute_reply": "2021-05-30T12:42:03.738786Z",
     "shell.execute_reply.started": "2021-05-25T23:04:33.0148Z"
    },
    "papermill": {
     "duration": 0.033551,
     "end_time": "2021-05-30T12:42:03.739314",
     "exception": false,
     "start_time": "2021-05-30T12:42:03.705763",
     "status": "completed"
    },
    "tags": []
   },
   "outputs": [
    {
     "name": "stdout",
     "output_type": "stream",
     "text": [
      "/tmp/fairseq/examples/wav2vec/unsupervised/scripts\n"
     ]
    }
   ],
   "source": [
    "%cd scripts"
   ]
  },
  {
   "cell_type": "markdown",
   "id": "secondary-potato",
   "metadata": {
    "papermill": {
     "duration": 0.025261,
     "end_time": "2021-05-30T12:42:03.790057",
     "exception": false,
     "start_time": "2021-05-30T12:42:03.764796",
     "status": "completed"
    },
    "tags": []
   },
   "source": [
    "The next part requires a FastText language id model; I don't know where the 187 language model comes from, but there is a model for 176 languages [here](https://fasttext.cc/docs/en/language-identification.html#content)"
   ]
  },
  {
   "cell_type": "code",
   "execution_count": 17,
   "id": "simple-flight",
   "metadata": {
    "execution": {
     "iopub.execute_input": "2021-05-30T12:42:03.843986Z",
     "iopub.status.busy": "2021-05-30T12:42:03.843511Z",
     "iopub.status.idle": "2021-05-30T12:42:18.142587Z",
     "shell.execute_reply": "2021-05-30T12:42:18.142068Z",
     "shell.execute_reply.started": "2021-05-25T23:26:05.700782Z"
    },
    "papermill": {
     "duration": 14.326936,
     "end_time": "2021-05-30T12:42:18.142721",
     "exception": false,
     "start_time": "2021-05-30T12:42:03.815785",
     "status": "completed"
    },
    "tags": []
   },
   "outputs": [
    {
     "name": "stdout",
     "output_type": "stream",
     "text": [
      "--2021-05-30 12:42:04--  https://dl.fbaipublicfiles.com/fasttext/supervised-models/lid.176.bin\r\n",
      "Resolving dl.fbaipublicfiles.com (dl.fbaipublicfiles.com)... 104.22.74.142, 172.67.9.4, 104.22.75.142, ...\r\n",
      "Connecting to dl.fbaipublicfiles.com (dl.fbaipublicfiles.com)|104.22.74.142|:443... connected.\r\n",
      "HTTP request sent, awaiting response... 200 OK\r\n",
      "Length: 131266198 (125M) [application/octet-stream]\r\n",
      "Saving to: ‘lid.176.bin’\r\n",
      "\r\n",
      "lid.176.bin         100%[===================>] 125.18M  11.3MB/s    in 12s     \r\n",
      "\r\n",
      "2021-05-30 12:42:18 (10.2 MB/s) - ‘lid.176.bin’ saved [131266198/131266198]\r\n",
      "\r\n"
     ]
    }
   ],
   "source": [
    "!wget https://dl.fbaipublicfiles.com/fasttext/supervised-models/lid.176.bin"
   ]
  },
  {
   "cell_type": "code",
   "execution_count": 18,
   "id": "metric-election",
   "metadata": {
    "execution": {
     "iopub.execute_input": "2021-05-30T12:42:18.227146Z",
     "iopub.status.busy": "2021-05-30T12:42:18.226599Z",
     "iopub.status.idle": "2021-05-30T12:42:19.647783Z",
     "shell.execute_reply": "2021-05-30T12:42:19.648163Z",
     "shell.execute_reply.started": "2021-05-25T23:28:29.362953Z"
    },
    "papermill": {
     "duration": 1.467088,
     "end_time": "2021-05-30T12:42:19.648336",
     "exception": false,
     "start_time": "2021-05-30T12:42:18.181248",
     "status": "completed"
    },
    "tags": []
   },
   "outputs": [],
   "source": [
    "!cat normalize_and_filter_text.py|sed -e 's/187/176/' > tmp\n",
    "!mv tmp normalize_and_filter_text.py"
   ]
  },
  {
   "cell_type": "code",
   "execution_count": 19,
   "id": "valuable-pilot",
   "metadata": {
    "execution": {
     "iopub.execute_input": "2021-05-30T12:42:19.726075Z",
     "iopub.status.busy": "2021-05-30T12:42:19.725224Z",
     "iopub.status.idle": "2021-05-30T12:42:19.728817Z",
     "shell.execute_reply": "2021-05-30T12:42:19.729198Z"
    },
    "papermill": {
     "duration": 0.043529,
     "end_time": "2021-05-30T12:42:19.729340",
     "exception": false,
     "start_time": "2021-05-30T12:42:19.685811",
     "status": "completed"
    },
    "tags": []
   },
   "outputs": [],
   "source": [
    "# Needed to see what's going wrong\n",
    "os.environ['HYDRA_FULL_ERROR'] = '1'"
   ]
  },
  {
   "cell_type": "code",
   "execution_count": 20,
   "id": "based-words",
   "metadata": {
    "execution": {
     "iopub.execute_input": "2021-05-30T12:42:19.814507Z",
     "iopub.status.busy": "2021-05-30T12:42:19.808069Z",
     "iopub.status.idle": "2021-05-30T12:42:20.545931Z",
     "shell.execute_reply": "2021-05-30T12:42:20.545393Z"
    },
    "papermill": {
     "duration": 0.779717,
     "end_time": "2021-05-30T12:42:20.546059",
     "exception": false,
     "start_time": "2021-05-30T12:42:19.766342",
     "status": "completed"
    },
    "tags": []
   },
   "outputs": [],
   "source": [
    "!mkdir /tmp/fairseq/examples/speech_recognition/kaldi/config"
   ]
  },
  {
   "cell_type": "code",
   "execution_count": 21,
   "id": "nearby-success",
   "metadata": {
    "_kg_hide-input": true,
    "execution": {
     "iopub.execute_input": "2021-05-30T12:42:20.627534Z",
     "iopub.status.busy": "2021-05-30T12:42:20.626690Z",
     "iopub.status.idle": "2021-05-30T12:42:20.630436Z",
     "shell.execute_reply": "2021-05-30T12:42:20.629902Z"
    },
    "papermill": {
     "duration": 0.046643,
     "end_time": "2021-05-30T12:42:20.630556",
     "exception": false,
     "start_time": "2021-05-30T12:42:20.583913",
     "status": "completed"
    },
    "tags": []
   },
   "outputs": [
    {
     "name": "stdout",
     "output_type": "stream",
     "text": [
      "Overwriting prepare_text.sh\n"
     ]
    }
   ],
   "source": [
    "%%writefile prepare_text.sh\n",
    "#!/usr/bin/env zsh\n",
    "# Copyright (c) Facebook, Inc. and its affiliates.\n",
    "#\n",
    "# This source code is licensed under the MIT license found in the\n",
    "# LICENSE file in the root directory of this source tree.\n",
    "\n",
    "lg=$1\n",
    "text_path=$2\n",
    "target_dir=$3\n",
    "\n",
    "#ph_lg=${lg:l}\n",
    "#if test \"$lg\" = 'fr'; then\n",
    "#  ph_lg='fr-fr'\n",
    "#elif test \"$lg\" = 'en'; then\n",
    "#  ph_lg='en-us'\n",
    "#elif test \"$lg\" = 'pt'; then\n",
    "#  ph_lg='pt-br'\n",
    "#fi\n",
    "ph_lg=\"sv\"\n",
    "\n",
    "echo $lg\n",
    "echo $ph_lg\n",
    "echo $text_path\n",
    "echo $target_dir\n",
    "\n",
    "mkdir -p $target_dir\n",
    "#python normalize_and_filter_text.py --lang $lg < $text_path | grep -v '\\-\\-\\-' >! $target_dir/lm.upper.lid.txt\n",
    "#python $FAIRSEQ_ROOT/fairseq_cli/preprocess.py --dataset-impl mmap --trainpref $target_dir/lm.upper.lid.txt --only-source --destdir $target_dir --thresholdsrc 2 --padding-factor 1 --dict-only\n",
    "#cut -f1 -d' ' $target_dir/dict.txt | grep -v -x '[[:punct:]]*' | grep -Pv '\\d\\d\\d\\d\\d+' >! $target_dir/words.txt\n",
    "cp ../input/wav2vec-u-cv-swedish-audio/train.wrd $target_dir/lm.upper.lid.txt\n",
    "cut -f1 -d' ' ../input/wav2vec-u-cv-swedish-audio/dict.train >! $target_dir/words.txt\n",
    "\n",
    "#one=$(echo \"1\" | PHONEMIZER_ESPEAK_PATH=$(which espeak) phonemize -p ' ' -w '' -l $ph_lg --language-switch remove-flags)\n",
    "#sed 's/$/ 1/' $target_dir/words.txt | PHONEMIZER_ESPEAK_PATH=$(which espeak) phonemize -o $target_dir/phones.txt -p ' ' -w '' -l $ph_lg -j 70 --language-switch remove-flags\n",
    "cut -f2- -d' ' ../input/wav2vec-u-cv-swedish-audio/dict.train >! $target_dir/phones.txt\n",
    "\n",
    "#echo \"one is ${one}\"\n",
    "\n",
    "#sed -i \"s/${one}$//\" $target_dir/phones.txt\n",
    "#paste $target_dir/words.txt $target_dir/phones.txt >! $target_dir/lexicon.lst\n",
    "cp ../input/wav2vec-u-cv-swedish-audio/dict.train $target_dir/lexicon.lst\n",
    "\n",
    "python $FAIRSEQ_ROOT/fairseq_cli/preprocess.py --dataset-impl mmap --trainpref $target_dir/phones.txt --only-source --destdir $target_dir/phones --thresholdsrc 1000 --padding-factor 1 --dict-only\n",
    "\n",
    "python filter_lexicon.py -d $target_dir/phones/dict.txt < $target_dir/lexicon.lst >! $target_dir/lexicon_filtered.lst\n",
    "python phonemize_with_sil.py -s 0.25 --surround --lexicon $target_dir/lexicon_filtered.lst < $target_dir/lm.upper.lid.txt >! $target_dir/phones/lm.phones.filtered.txt\n",
    "cp $target_dir/phones/dict.txt $target_dir/phones/dict.phn.txt\n",
    "echo \"<SIL> 0\" >> $target_dir/phones/dict.phn.txt\n",
    "python $FAIRSEQ_ROOT/fairseq_cli/preprocess.py --dataset-impl mmap --trainpref $target_dir/phones/lm.phones.filtered.txt --workers 70 --only-source --destdir $target_dir/phones --srcdict $target_dir/phones/dict.phn.txt\n",
    "\n",
    "lmplz -o 4 < $target_dir/lm.upper.lid.txt --discount_fallback --prune 0 0 0 3 >! $target_dir/kenlm.wrd.o40003.arpa\n",
    "build_binary $target_dir/kenlm.wrd.o40003.arpa $target_dir/kenlm.wrd.o40003.bin\n",
    "lg=$lg python $FAIRSEQ_ROOT/examples/speech_recognition/kaldi/kaldi_initializer.py fst_dir=$target_dir/fst/phn_to_words_sil lm_arpa=$target_dir/kenlm.wrd.o40003.arpa wav2letter_lexicon=$target_dir/lexicon_filtered.lst data_dir=$target_dir/phones \"blank_symbol='<SIL>'\"\n",
    "lg=$lg python $FAIRSEQ_ROOT/examples/speech_recognition/kaldi/kaldi_initializer.py fst_dir=$target_dir/fst/phn_to_words lm_arpa=$target_dir/kenlm.wrd.o40003.arpa wav2letter_lexicon=$target_dir/lexicon_filtered.lst data_dir=$target_dir/phones\n",
    "\n",
    "lmplz -o 4 < $target_dir/phones/lm.phones.filtered.txt --discount_fallback >! $target_dir/phones/lm.phones.filtered.04.arpa\n",
    "build_binary $target_dir/phones/lm.phones.filtered.04.arpa $target_dir/phones/lm.phones.filtered.04.bin\n",
    "lmplz -o 6 < $target_dir/phones/lm.phones.filtered.txt --discount_fallback >! $target_dir/phones/lm.phones.filtered.06.arpa\n",
    "build_binary $target_dir/phones/lm.phones.filtered.06.arpa $target_dir/phones/lm.phones.filtered.06.bin\n",
    "\n",
    "lg=$lg python $FAIRSEQ_ROOT/examples/speech_recognition/kaldi/kaldi_initializer.py fst_dir=$target_dir/fst/phn_to_phn_sil lm_arpa=$target_dir/phones/lm.phones.filtered.06.arpa data_dir=$target_dir/phones \"blank_symbol='<SIL>'\""
   ]
  },
  {
   "cell_type": "markdown",
   "id": "outdoor-comfort",
   "metadata": {
    "papermill": {
     "duration": 0.037741,
     "end_time": "2021-05-30T12:42:20.705819",
     "exception": false,
     "start_time": "2021-05-30T12:42:20.668078",
     "status": "completed"
    },
    "tags": []
   },
   "source": [
    "`config.yaml` needs to exist. Most of the options are set on the command line, but not everything: `in_labels`, `out_labels`, `kaldi_root` and (for one run) `silence_symbol`. The options are:\n",
    "\n",
    "- `in_labels`\n",
    "- `wav2letter_lexicon`: path to wav2letter lexicon: set on the command line\n",
    "- `out_labels`\n",
    "- `kaldi_root`: path to Kaldi: `/opt/kaldi` for my kaggle image\n",
    "- `fst_dir`: path where generated fsts will be saved: set on the command line\n",
    "- `data_dir`: path to phones data: set on the command line\n",
    "- `lm_arpa`: path to the lm in ARPA format: set on the command line\n",
    "- `blank_symbol`: CTC blank symbol (`<s>` is used in the script)\n",
    "- `silence_symbol`: Kaldi symbol for silence (`<SIL>` is set on the command line for two of the scripts)\n",
    "\n"
   ]
  },
  {
   "cell_type": "code",
   "execution_count": 22,
   "id": "american-private",
   "metadata": {
    "execution": {
     "iopub.execute_input": "2021-05-30T12:42:20.785731Z",
     "iopub.status.busy": "2021-05-30T12:42:20.785152Z",
     "iopub.status.idle": "2021-05-30T12:42:20.789325Z",
     "shell.execute_reply": "2021-05-30T12:42:20.788893Z"
    },
    "papermill": {
     "duration": 0.0462,
     "end_time": "2021-05-30T12:42:20.789474",
     "exception": false,
     "start_time": "2021-05-30T12:42:20.743274",
     "status": "completed"
    },
    "tags": []
   },
   "outputs": [
    {
     "name": "stdout",
     "output_type": "stream",
     "text": [
      "Writing /tmp/fairseq/examples/speech_recognition/kaldi/config/config.yaml\n"
     ]
    }
   ],
   "source": [
    "%%writefile /tmp/fairseq/examples/speech_recognition/kaldi/config/config.yaml\n",
    "kaldi_root: \"/opt/kaldi\""
   ]
  },
  {
   "cell_type": "markdown",
   "id": "geographic-person",
   "metadata": {
    "papermill": {
     "duration": 0.037986,
     "end_time": "2021-05-30T12:42:20.865432",
     "exception": false,
     "start_time": "2021-05-30T12:42:20.827446",
     "status": "completed"
    },
    "tags": []
   },
   "source": [
    "There are two lines with missing variables in `prepare_text.sh` - [pull request](https://github.com/pytorch/fairseq/pull/3569) - so replace the file."
   ]
  },
  {
   "cell_type": "code",
   "execution_count": 23,
   "id": "perfect-people",
   "metadata": {
    "execution": {
     "iopub.execute_input": "2021-05-30T12:42:20.949855Z",
     "iopub.status.busy": "2021-05-30T12:42:20.946498Z",
     "iopub.status.idle": "2021-05-30T12:42:33.589653Z",
     "shell.execute_reply": "2021-05-30T12:42:33.589180Z",
     "shell.execute_reply.started": "2021-05-25T23:28:33.84656Z"
    },
    "papermill": {
     "duration": 12.685832,
     "end_time": "2021-05-30T12:42:33.589788",
     "exception": false,
     "start_time": "2021-05-30T12:42:20.903956",
     "status": "completed"
    },
    "tags": []
   },
   "outputs": [
    {
     "name": "stdout",
     "output_type": "stream",
     "text": [
      "sv\r\n",
      "sv\r\n",
      "/kaggle/working/sentences.txt\r\n",
      "/kaggle/working/preppedtext\r\n",
      "cp: cannot stat '../input/wav2vec-u-cv-swedish-audio/train.wrd': No such file or directory\r\n",
      "cut: ../input/wav2vec-u-cv-swedish-audio/dict.train: No such file or directory\r\n",
      "cut: ../input/wav2vec-u-cv-swedish-audio/dict.train: No such file or directory\r\n",
      "cp: cannot stat '../input/wav2vec-u-cv-swedish-audio/dict.train': No such file or directory\r\n",
      "prepare_text.sh:45: no such file or directory: /kaggle/working/preppedtext/lexicon.lst\r\n",
      "prepare_text.sh:46: no such file or directory: /kaggle/working/preppedtext/lm.upper.lid.txt\r\n",
      "Traceback (most recent call last):\r\n",
      "  File \"/tmp/fairseq/fairseq_cli/preprocess.py\", line 401, in <module>\r\n",
      "    cli_main()\r\n",
      "  File \"/tmp/fairseq/fairseq_cli/preprocess.py\", line 397, in cli_main\r\n",
      "    main(args)\r\n",
      "  File \"/tmp/fairseq/fairseq_cli/preprocess.py\", line 287, in main\r\n",
      "    make_all(args.source_lang, src_dict)\r\n",
      "  File \"/tmp/fairseq/fairseq_cli/preprocess.py\", line 255, in make_all\r\n",
      "    make_dataset(vocab, args.trainpref, \"train\", lang, num_workers=args.workers)\r\n",
      "  File \"/tmp/fairseq/fairseq_cli/preprocess.py\", line 251, in make_dataset\r\n",
      "    make_binary_dataset(vocab, input_prefix, output_prefix, lang, num_workers)\r\n",
      "  File \"/tmp/fairseq/fairseq_cli/preprocess.py\", line 136, in make_binary_dataset\r\n",
      "    offsets = Binarizer.find_offsets(input_file, num_workers)\r\n",
      "  File \"/opt/conda/lib/python3.7/site-packages/fairseq/binarizer.py\", line 106, in find_offsets\r\n",
      "    with open(PathManager.get_local_path(filename), \"r\", encoding=\"utf-8\") as f:\r\n",
      "FileNotFoundError: [Errno 2] No such file or directory: '/kaggle/working/preppedtext/phones/lm.phones.filtered.txt'\r\n",
      "prepare_text.sh:51: no such file or directory: /kaggle/working/preppedtext/lm.upper.lid.txt\r\n",
      "/tmp/kenlm/util/file.cc:76 in int util::OpenReadOrThrow(const char*) threw ErrnoException because `-1 == (ret = open(name, 00))'.\r\n",
      "No such file or directory while opening /kaggle/working/preppedtext/kenlm.wrd.o40003.arpa\r\n",
      "ERROR\r\n",
      "Traceback (most recent call last):\r\n",
      "  File \"/tmp/fairseq/examples/speech_recognition/kaldi/kaldi_initializer.py\", line 698, in <module>\r\n",
      "    cli_main()\r\n",
      "  File \"/opt/conda/lib/python3.7/site-packages/hydra/main.py\", line 37, in decorated_main\r\n",
      "    strict=strict,\r\n",
      "  File \"/opt/conda/lib/python3.7/site-packages/hydra/_internal/utils.py\", line 347, in _run_hydra\r\n",
      "    lambda: hydra.run(\r\n",
      "  File \"/opt/conda/lib/python3.7/site-packages/hydra/_internal/utils.py\", line 201, in run_and_report\r\n",
      "    raise ex\r\n",
      "  File \"/opt/conda/lib/python3.7/site-packages/hydra/_internal/utils.py\", line 198, in run_and_report\r\n",
      "    return func()\r\n",
      "  File \"/opt/conda/lib/python3.7/site-packages/hydra/_internal/utils.py\", line 350, in <lambda>\r\n",
      "    overrides=args.overrides,\r\n",
      "  File \"/opt/conda/lib/python3.7/site-packages/hydra/_internal/hydra.py\", line 112, in run\r\n",
      "    configure_logging=with_log_configuration,\r\n",
      "  File \"/opt/conda/lib/python3.7/site-packages/hydra/core/utils.py\", line 127, in run_job\r\n",
      "    ret.return_value = task_function(task_cfg)\r\n",
      "  File \"/tmp/fairseq/examples/speech_recognition/kaldi/kaldi_initializer.py\", line 677, in cli_main\r\n",
      "    initalize_kaldi(cfg)\r\n",
      "  File \"/tmp/fairseq/examples/speech_recognition/kaldi/kaldi_initializer.py\", line 616, in initalize_kaldi\r\n",
      "    cfg.out_labels = cfg.in_labels\r\n",
      "  File \"/opt/conda/lib/python3.7/site-packages/omegaconf/dictconfig.py\", line 305, in __getattr__\r\n",
      "    self._format_and_raise(key=key, value=None, cause=e)\r\n",
      "  File \"/opt/conda/lib/python3.7/site-packages/omegaconf/base.py\", line 101, in _format_and_raise\r\n",
      "    type_override=type_override,\r\n",
      "  File \"/opt/conda/lib/python3.7/site-packages/omegaconf/_utils.py\", line 694, in format_and_raise\r\n",
      "    _raise(ex, cause)\r\n",
      "  File \"/opt/conda/lib/python3.7/site-packages/omegaconf/_utils.py\", line 610, in _raise\r\n",
      "    raise ex  # set end OC_CAUSE=1 for full backtrace\r\n",
      "omegaconf.errors.MissingMandatoryValue: Missing mandatory value: in_labels\r\n",
      "\tfull_key: in_labels\r\n",
      "\treference_type=Optional[Dict[Union[str, Enum], Any]]\r\n",
      "\tobject_type=dict\r\n",
      "Traceback (most recent call last):\r\n",
      "  File \"/tmp/fairseq/examples/speech_recognition/kaldi/kaldi_initializer.py\", line 698, in <module>\r\n",
      "    cli_main()\r\n",
      "  File \"/opt/conda/lib/python3.7/site-packages/hydra/main.py\", line 37, in decorated_main\r\n",
      "    strict=strict,\r\n",
      "  File \"/opt/conda/lib/python3.7/site-packages/hydra/_internal/utils.py\", line 347, in _run_hydra\r\n",
      "    lambda: hydra.run(\r\n",
      "  File \"/opt/conda/lib/python3.7/site-packages/hydra/_internal/utils.py\", line 201, in run_and_report\r\n",
      "    raise ex\r\n",
      "  File \"/opt/conda/lib/python3.7/site-packages/hydra/_internal/utils.py\", line 198, in run_and_report\r\n",
      "    return func()\r\n",
      "  File \"/opt/conda/lib/python3.7/site-packages/hydra/_internal/utils.py\", line 350, in <lambda>\r\n",
      "    overrides=args.overrides,\r\n",
      "  File \"/opt/conda/lib/python3.7/site-packages/hydra/_internal/hydra.py\", line 112, in run\r\n",
      "    configure_logging=with_log_configuration,\r\n",
      "  File \"/opt/conda/lib/python3.7/site-packages/hydra/core/utils.py\", line 127, in run_job\r\n",
      "    ret.return_value = task_function(task_cfg)\r\n",
      "  File \"/tmp/fairseq/examples/speech_recognition/kaldi/kaldi_initializer.py\", line 677, in cli_main\r\n",
      "    initalize_kaldi(cfg)\r\n",
      "  File \"/tmp/fairseq/examples/speech_recognition/kaldi/kaldi_initializer.py\", line 616, in initalize_kaldi\r\n",
      "    cfg.out_labels = cfg.in_labels\r\n",
      "  File \"/opt/conda/lib/python3.7/site-packages/omegaconf/dictconfig.py\", line 305, in __getattr__\r\n",
      "    self._format_and_raise(key=key, value=None, cause=e)\r\n",
      "  File \"/opt/conda/lib/python3.7/site-packages/omegaconf/base.py\", line 101, in _format_and_raise\r\n",
      "    type_override=type_override,\r\n",
      "  File \"/opt/conda/lib/python3.7/site-packages/omegaconf/_utils.py\", line 694, in format_and_raise\r\n",
      "    _raise(ex, cause)\r\n",
      "  File \"/opt/conda/lib/python3.7/site-packages/omegaconf/_utils.py\", line 610, in _raise\r\n",
      "    raise ex  # set end OC_CAUSE=1 for full backtrace\r\n",
      "omegaconf.errors.MissingMandatoryValue: Missing mandatory value: in_labels\r\n",
      "\tfull_key: in_labels\r\n",
      "\treference_type=Optional[Dict[Union[str, Enum], Any]]\r\n",
      "\tobject_type=dict\r\n",
      "prepare_text.sh:56: no such file or directory: /kaggle/working/preppedtext/phones/lm.phones.filtered.txt\r\n",
      "/tmp/kenlm/util/file.cc:76 in int util::OpenReadOrThrow(const char*) threw ErrnoException because `-1 == (ret = open(name, 00))'.\r\n",
      "No such file or directory while opening /kaggle/working/preppedtext/phones/lm.phones.filtered.04.arpa\r\n",
      "ERROR\r\n",
      "prepare_text.sh:58: no such file or directory: /kaggle/working/preppedtext/phones/lm.phones.filtered.txt\r\n",
      "/tmp/kenlm/util/file.cc:76 in int util::OpenReadOrThrow(const char*) threw ErrnoException because `-1 == (ret = open(name, 00))'.\r\n",
      "No such file or directory while opening /kaggle/working/preppedtext/phones/lm.phones.filtered.06.arpa\r\n",
      "ERROR\r\n",
      "Traceback (most recent call last):\r\n",
      "  File \"/tmp/fairseq/examples/speech_recognition/kaldi/kaldi_initializer.py\", line 698, in <module>\r\n",
      "    cli_main()\r\n",
      "  File \"/opt/conda/lib/python3.7/site-packages/hydra/main.py\", line 37, in decorated_main\r\n",
      "    strict=strict,\r\n",
      "  File \"/opt/conda/lib/python3.7/site-packages/hydra/_internal/utils.py\", line 347, in _run_hydra\r\n",
      "    lambda: hydra.run(\r\n",
      "  File \"/opt/conda/lib/python3.7/site-packages/hydra/_internal/utils.py\", line 201, in run_and_report\r\n",
      "    raise ex\r\n",
      "  File \"/opt/conda/lib/python3.7/site-packages/hydra/_internal/utils.py\", line 198, in run_and_report\r\n",
      "    return func()\r\n",
      "  File \"/opt/conda/lib/python3.7/site-packages/hydra/_internal/utils.py\", line 350, in <lambda>\r\n",
      "    overrides=args.overrides,\r\n",
      "  File \"/opt/conda/lib/python3.7/site-packages/hydra/_internal/hydra.py\", line 112, in run\r\n",
      "    configure_logging=with_log_configuration,\r\n",
      "  File \"/opt/conda/lib/python3.7/site-packages/hydra/core/utils.py\", line 127, in run_job\r\n",
      "    ret.return_value = task_function(task_cfg)\r\n",
      "  File \"/tmp/fairseq/examples/speech_recognition/kaldi/kaldi_initializer.py\", line 677, in cli_main\r\n",
      "    initalize_kaldi(cfg)\r\n",
      "  File \"/tmp/fairseq/examples/speech_recognition/kaldi/kaldi_initializer.py\", line 616, in initalize_kaldi\r\n",
      "    cfg.out_labels = cfg.in_labels\r\n",
      "  File \"/opt/conda/lib/python3.7/site-packages/omegaconf/dictconfig.py\", line 305, in __getattr__\r\n",
      "    self._format_and_raise(key=key, value=None, cause=e)\r\n",
      "  File \"/opt/conda/lib/python3.7/site-packages/omegaconf/base.py\", line 101, in _format_and_raise\r\n",
      "    type_override=type_override,\r\n",
      "  File \"/opt/conda/lib/python3.7/site-packages/omegaconf/_utils.py\", line 694, in format_and_raise\r\n",
      "    _raise(ex, cause)\r\n",
      "  File \"/opt/conda/lib/python3.7/site-packages/omegaconf/_utils.py\", line 610, in _raise\r\n",
      "    raise ex  # set end OC_CAUSE=1 for full backtrace\r\n",
      "omegaconf.errors.MissingMandatoryValue: Missing mandatory value: in_labels\r\n",
      "\tfull_key: in_labels\r\n",
      "\treference_type=Optional[Dict[Union[str, Enum], Any]]\r\n",
      "\tobject_type=dict\r\n"
     ]
    }
   ],
   "source": [
    "!zsh prepare_text.sh sv /kaggle/working/sentences.txt /kaggle/working/preppedtext"
   ]
  }
 ],
 "metadata": {
  "kernelspec": {
   "display_name": "Python 3",
   "language": "python",
   "name": "python3"
  },
  "language_info": {
   "codemirror_mode": {
    "name": "ipython",
    "version": 3
   },
   "file_extension": ".py",
   "mimetype": "text/x-python",
   "name": "python",
   "nbconvert_exporter": "python",
   "pygments_lexer": "ipython3",
   "version": "3.7.10"
  },
  "papermill": {
   "default_parameters": {},
   "duration": 234.742111,
   "end_time": "2021-05-30T12:42:34.853983",
   "environment_variables": {},
   "exception": null,
   "input_path": "__notebook__.ipynb",
   "output_path": "__notebook__.ipynb",
   "parameters": {},
   "start_time": "2021-05-30T12:38:40.111872",
   "version": "2.3.3"
  }
 },
 "nbformat": 4,
 "nbformat_minor": 5
}
