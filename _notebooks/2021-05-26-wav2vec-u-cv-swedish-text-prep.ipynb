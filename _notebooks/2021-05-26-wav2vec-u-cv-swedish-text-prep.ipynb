{
 "cells": [
  {
   "cell_type": "code",
   "execution_count": 1,
   "id": "protected-guard",
   "metadata": {
    "_cell_guid": "b1076dfc-b9ad-4769-8c92-a6c4dae69d19",
    "_uuid": "8f2839f25d086af736a60e9eeb907d3b93b6e0e5",
    "execution": {
     "iopub.execute_input": "2021-05-29T17:28:45.067152Z",
     "iopub.status.busy": "2021-05-29T17:28:45.065923Z",
     "iopub.status.idle": "2021-05-29T17:28:45.072458Z",
     "shell.execute_reply": "2021-05-29T17:28:45.073273Z",
     "shell.execute_reply.started": "2021-05-25T22:46:58.262403Z"
    },
    "papermill": {
     "duration": 0.037584,
     "end_time": "2021-05-29T17:28:45.073773",
     "exception": false,
     "start_time": "2021-05-29T17:28:45.036189",
     "status": "completed"
    },
    "tags": []
   },
   "outputs": [
    {
     "name": "stdout",
     "output_type": "stream",
     "text": [
      "/tmp\n"
     ]
    }
   ],
   "source": [
    "%cd /tmp"
   ]
  },
  {
   "cell_type": "code",
   "execution_count": 2,
   "id": "fancy-hindu",
   "metadata": {
    "execution": {
     "iopub.execute_input": "2021-05-29T17:28:45.132577Z",
     "iopub.status.busy": "2021-05-29T17:28:45.131385Z",
     "iopub.status.idle": "2021-05-29T17:28:47.941769Z",
     "shell.execute_reply": "2021-05-29T17:28:47.941016Z",
     "shell.execute_reply.started": "2021-05-25T22:38:20.218298Z"
    },
    "papermill": {
     "duration": 2.849833,
     "end_time": "2021-05-29T17:28:47.941932",
     "exception": false,
     "start_time": "2021-05-29T17:28:45.092099",
     "status": "completed"
    },
    "tags": []
   },
   "outputs": [
    {
     "name": "stdout",
     "output_type": "stream",
     "text": [
      "Cloning into 'fairseq'...\r\n",
      "remote: Enumerating objects: 28172, done.\u001b[K\r\n",
      "remote: Counting objects: 100% (586/586), done.\u001b[K\r\n",
      "remote: Compressing objects: 100% (339/339), done.\u001b[K\r\n",
      "remote: Total 28172 (delta 308), reused 465 (delta 234), pack-reused 27586\u001b[K\r\n",
      "Receiving objects: 100% (28172/28172), 11.87 MiB | 23.84 MiB/s, done.\r\n",
      "Resolving deltas: 100% (21127/21127), done.\r\n"
     ]
    }
   ],
   "source": [
    "!git clone https://github.com/pytorch/fairseq/"
   ]
  },
  {
   "cell_type": "code",
   "execution_count": 3,
   "id": "found-distance",
   "metadata": {
    "execution": {
     "iopub.execute_input": "2021-05-29T17:28:48.000776Z",
     "iopub.status.busy": "2021-05-29T17:28:47.996723Z",
     "iopub.status.idle": "2021-05-29T17:28:58.764195Z",
     "shell.execute_reply": "2021-05-29T17:28:58.763377Z"
    },
    "papermill": {
     "duration": 10.798916,
     "end_time": "2021-05-29T17:28:58.764368",
     "exception": false,
     "start_time": "2021-05-29T17:28:47.965452",
     "status": "completed"
    },
    "tags": []
   },
   "outputs": [],
   "source": [
    "%%capture\n",
    "!pip install phonemizer"
   ]
  },
  {
   "cell_type": "code",
   "execution_count": 4,
   "id": "consistent-sound",
   "metadata": {
    "execution": {
     "iopub.execute_input": "2021-05-29T17:28:58.827054Z",
     "iopub.status.busy": "2021-05-29T17:28:58.820603Z",
     "iopub.status.idle": "2021-05-29T17:29:56.660679Z",
     "shell.execute_reply": "2021-05-29T17:29:56.659132Z"
    },
    "papermill": {
     "duration": 57.872166,
     "end_time": "2021-05-29T17:29:56.660881",
     "exception": false,
     "start_time": "2021-05-29T17:28:58.788715",
     "status": "completed"
    },
    "tags": []
   },
   "outputs": [],
   "source": [
    "%%capture\n",
    "!pip install git+https://github.com/pytorch/fairseq/"
   ]
  },
  {
   "cell_type": "code",
   "execution_count": 5,
   "id": "assured-catalog",
   "metadata": {
    "execution": {
     "iopub.execute_input": "2021-05-29T17:29:56.721973Z",
     "iopub.status.busy": "2021-05-29T17:29:56.715950Z",
     "iopub.status.idle": "2021-05-29T17:30:03.899732Z",
     "shell.execute_reply": "2021-05-29T17:30:03.899099Z"
    },
    "papermill": {
     "duration": 7.215004,
     "end_time": "2021-05-29T17:30:03.899903",
     "exception": false,
     "start_time": "2021-05-29T17:29:56.684899",
     "status": "completed"
    },
    "tags": []
   },
   "outputs": [],
   "source": [
    "%%capture\n",
    "!apt-get -y install espeak"
   ]
  },
  {
   "cell_type": "code",
   "execution_count": 6,
   "id": "hairy-logistics",
   "metadata": {
    "execution": {
     "iopub.execute_input": "2021-05-29T17:30:03.961692Z",
     "iopub.status.busy": "2021-05-29T17:30:03.956663Z",
     "iopub.status.idle": "2021-05-29T17:30:05.725345Z",
     "shell.execute_reply": "2021-05-29T17:30:05.724637Z",
     "shell.execute_reply.started": "2021-05-25T22:47:02.096238Z"
    },
    "papermill": {
     "duration": 1.799312,
     "end_time": "2021-05-29T17:30:05.725677",
     "exception": false,
     "start_time": "2021-05-29T17:30:03.926365",
     "status": "completed"
    },
    "tags": []
   },
   "outputs": [
    {
     "name": "stdout",
     "output_type": "stream",
     "text": [
      "Cloning into 'kenlm'...\r\n",
      "remote: Enumerating objects: 13824, done.\u001b[K\r\n",
      "remote: Counting objects: 100% (137/137), done.\u001b[K\r\n",
      "remote: Compressing objects: 100% (79/79), done.\u001b[K\r\n",
      "remote: Total 13824 (delta 76), reused 92 (delta 45), pack-reused 13687\u001b[K\r\n",
      "Receiving objects: 100% (13824/13824), 5.49 MiB | 16.26 MiB/s, done.\r\n",
      "Resolving deltas: 100% (7956/7956), done.\r\n"
     ]
    }
   ],
   "source": [
    "!git clone https://github.com/kpu/kenlm"
   ]
  },
  {
   "cell_type": "code",
   "execution_count": 7,
   "id": "cellular-discharge",
   "metadata": {
    "execution": {
     "iopub.execute_input": "2021-05-29T17:30:05.795429Z",
     "iopub.status.busy": "2021-05-29T17:30:05.791393Z",
     "iopub.status.idle": "2021-05-29T17:30:11.295446Z",
     "shell.execute_reply": "2021-05-29T17:30:11.294789Z"
    },
    "papermill": {
     "duration": 5.541295,
     "end_time": "2021-05-29T17:30:11.295605",
     "exception": false,
     "start_time": "2021-05-29T17:30:05.754310",
     "status": "completed"
    },
    "tags": []
   },
   "outputs": [],
   "source": [
    "%%capture\n",
    "!apt-get -y install libeigen3-dev liblzma-dev zlib1g-dev libbz2-dev"
   ]
  },
  {
   "cell_type": "code",
   "execution_count": 8,
   "id": "central-sugar",
   "metadata": {
    "execution": {
     "iopub.execute_input": "2021-05-29T17:30:11.366171Z",
     "iopub.status.busy": "2021-05-29T17:30:11.365328Z",
     "iopub.status.idle": "2021-05-29T17:31:30.308152Z",
     "shell.execute_reply": "2021-05-29T17:31:30.307552Z"
    },
    "papermill": {
     "duration": 78.98469,
     "end_time": "2021-05-29T17:31:30.308339",
     "exception": false,
     "start_time": "2021-05-29T17:30:11.323649",
     "status": "completed"
    },
    "tags": []
   },
   "outputs": [],
   "source": [
    "%%capture\n",
    "%cd kenlm\n",
    "!mkdir build\n",
    "%cd build\n",
    "!cmake ..\n",
    "!make -j 4\n",
    "%cd /tmp"
   ]
  },
  {
   "cell_type": "code",
   "execution_count": 9,
   "id": "adjustable-headset",
   "metadata": {
    "execution": {
     "iopub.execute_input": "2021-05-29T17:31:30.371323Z",
     "iopub.status.busy": "2021-05-29T17:31:30.370085Z",
     "iopub.status.idle": "2021-05-29T17:31:30.374570Z",
     "shell.execute_reply": "2021-05-29T17:31:30.373827Z",
     "shell.execute_reply.started": "2021-05-25T22:58:58.397816Z"
    },
    "papermill": {
     "duration": 0.038078,
     "end_time": "2021-05-29T17:31:30.374720",
     "exception": false,
     "start_time": "2021-05-29T17:31:30.336642",
     "status": "completed"
    },
    "tags": []
   },
   "outputs": [],
   "source": [
    "import os\n",
    "os.environ['PATH'] = f\"{os.environ['PATH']}:/tmp/kenlm/build/bin/\"\n",
    "os.environ['FAIRSEQ_ROOT'] = '/tmp/fairseq'"
   ]
  },
  {
   "cell_type": "code",
   "execution_count": 10,
   "id": "polyphonic-grammar",
   "metadata": {
    "execution": {
     "iopub.execute_input": "2021-05-29T17:31:30.440161Z",
     "iopub.status.busy": "2021-05-29T17:31:30.435869Z",
     "iopub.status.idle": "2021-05-29T17:31:31.221733Z",
     "shell.execute_reply": "2021-05-29T17:31:31.221025Z",
     "shell.execute_reply.started": "2021-05-25T22:55:06.647826Z"
    },
    "papermill": {
     "duration": 0.820048,
     "end_time": "2021-05-29T17:31:31.221887",
     "exception": false,
     "start_time": "2021-05-29T17:31:30.401839",
     "status": "completed"
    },
    "tags": []
   },
   "outputs": [],
   "source": [
    "!cat /kaggle/input/wav2vec-u-cv-swedish-audio/*.wrd | grep -v '^$' | sort| uniq > /kaggle/working/sentences.txt\n"
   ]
  },
  {
   "cell_type": "code",
   "execution_count": 11,
   "id": "dietary-sapphire",
   "metadata": {
    "execution": {
     "iopub.execute_input": "2021-05-29T17:31:31.288568Z",
     "iopub.status.busy": "2021-05-29T17:31:31.287360Z",
     "iopub.status.idle": "2021-05-29T17:31:31.293587Z",
     "shell.execute_reply": "2021-05-29T17:31:31.292950Z",
     "shell.execute_reply.started": "2021-05-25T22:55:38.373919Z"
    },
    "papermill": {
     "duration": 0.041762,
     "end_time": "2021-05-29T17:31:31.293756",
     "exception": false,
     "start_time": "2021-05-29T17:31:31.251994",
     "status": "completed"
    },
    "tags": []
   },
   "outputs": [
    {
     "name": "stdout",
     "output_type": "stream",
     "text": [
      "/tmp/fairseq/examples/wav2vec/unsupervised\n"
     ]
    }
   ],
   "source": [
    "%cd fairseq/examples/wav2vec/unsupervised"
   ]
  },
  {
   "cell_type": "code",
   "execution_count": 12,
   "id": "grand-sullivan",
   "metadata": {
    "execution": {
     "iopub.execute_input": "2021-05-29T17:31:31.359032Z",
     "iopub.status.busy": "2021-05-29T17:31:31.358052Z",
     "iopub.status.idle": "2021-05-29T17:31:37.651166Z",
     "shell.execute_reply": "2021-05-29T17:31:37.650311Z"
    },
    "papermill": {
     "duration": 6.32814,
     "end_time": "2021-05-29T17:31:37.651333",
     "exception": false,
     "start_time": "2021-05-29T17:31:31.323193",
     "status": "completed"
    },
    "tags": []
   },
   "outputs": [
    {
     "name": "stdout",
     "output_type": "stream",
     "text": [
      "\r\n",
      "\r\n",
      "\r\n",
      "The following additional packages will be installed:\r\n",
      "  libcap2 zsh-common\r\n",
      "Suggested packages:\r\n",
      "  zsh-doc\r\n",
      "The following NEW packages will be installed:\r\n",
      "  libcap2 zsh zsh-common\r\n",
      "0 upgraded, 3 newly installed, 0 to remove and 15 not upgraded.\r\n",
      "Need to get 4079 kB of archives.\r\n",
      "After this operation, 15.2 MB of additional disk space will be used.\r\n",
      "Get:1 http://archive.ubuntu.com/ubuntu bionic/main amd64 libcap2 amd64 1:2.25-1.2 [13.0 kB]\r\n",
      "Get:2 http://archive.ubuntu.com/ubuntu bionic-updates/main amd64 zsh-common all 5.4.2-3ubuntu3.1 [3376 kB]\r\n",
      "Get:3 http://archive.ubuntu.com/ubuntu bionic-updates/main amd64 zsh amd64 5.4.2-3ubuntu3.1 [690 kB]\r\n",
      "Fetched 4079 kB in 1s (3081 kB/s)\r\n",
      "debconf: delaying package configuration, since apt-utils is not installed\r\n",
      "Selecting previously unselected package libcap2:amd64.\r\n",
      "(Reading database ... 96266 files and directories currently installed.)\r\n",
      "Preparing to unpack .../libcap2_1%3a2.25-1.2_amd64.deb ...\r\n",
      "Unpacking libcap2:amd64 (1:2.25-1.2) ...\r\n",
      "Selecting previously unselected package zsh-common.\r\n",
      "Preparing to unpack .../zsh-common_5.4.2-3ubuntu3.1_all.deb ...\r\n",
      "Unpacking zsh-common (5.4.2-3ubuntu3.1) ...\r\n",
      "Selecting previously unselected package zsh.\r\n",
      "Preparing to unpack .../zsh_5.4.2-3ubuntu3.1_amd64.deb ...\r\n",
      "Unpacking zsh (5.4.2-3ubuntu3.1) ...\r\n",
      "Setting up libcap2:amd64 (1:2.25-1.2) ...\r\n",
      "Setting up zsh-common (5.4.2-3ubuntu3.1) ...\r\n",
      "Setting up zsh (5.4.2-3ubuntu3.1) ...\r\n",
      "Processing triggers for libc-bin (2.27-3ubuntu1.4) ...\r\n"
     ]
    }
   ],
   "source": [
    "!apt-get -y install zsh"
   ]
  },
  {
   "cell_type": "code",
   "execution_count": 13,
   "id": "superior-jordan",
   "metadata": {
    "execution": {
     "iopub.execute_input": "2021-05-29T17:31:37.738347Z",
     "iopub.status.busy": "2021-05-29T17:31:37.737449Z",
     "iopub.status.idle": "2021-05-29T17:31:38.476155Z",
     "shell.execute_reply": "2021-05-29T17:31:38.475587Z",
     "shell.execute_reply.started": "2021-05-25T22:58:19.000595Z"
    },
    "papermill": {
     "duration": 0.784956,
     "end_time": "2021-05-29T17:31:38.476324",
     "exception": false,
     "start_time": "2021-05-29T17:31:37.691368",
     "status": "completed"
    },
    "tags": []
   },
   "outputs": [],
   "source": [
    "!mkdir /kaggle/working/preppedtext"
   ]
  },
  {
   "cell_type": "code",
   "execution_count": 14,
   "id": "polish-trade",
   "metadata": {
    "execution": {
     "iopub.execute_input": "2021-05-29T17:31:38.566077Z",
     "iopub.status.busy": "2021-05-29T17:31:38.564649Z",
     "iopub.status.idle": "2021-05-29T17:31:38.570361Z",
     "shell.execute_reply": "2021-05-29T17:31:38.569795Z",
     "shell.execute_reply.started": "2021-05-25T23:04:33.0148Z"
    },
    "papermill": {
     "duration": 0.052105,
     "end_time": "2021-05-29T17:31:38.570568",
     "exception": false,
     "start_time": "2021-05-29T17:31:38.518463",
     "status": "completed"
    },
    "tags": []
   },
   "outputs": [
    {
     "name": "stdout",
     "output_type": "stream",
     "text": [
      "/tmp/fairseq/examples/wav2vec/unsupervised/scripts\n"
     ]
    }
   ],
   "source": [
    "%cd scripts"
   ]
  },
  {
   "cell_type": "markdown",
   "id": "embedded-consent",
   "metadata": {
    "papermill": {
     "duration": 0.039383,
     "end_time": "2021-05-29T17:31:38.650548",
     "exception": false,
     "start_time": "2021-05-29T17:31:38.611165",
     "status": "completed"
    },
    "tags": []
   },
   "source": [
    "The next part requires a FastText language id model; I don't know where the 187 language model comes from, but there is a model for 176 languages [here](https://fasttext.cc/docs/en/language-identification.html#content)"
   ]
  },
  {
   "cell_type": "code",
   "execution_count": 15,
   "id": "average-bronze",
   "metadata": {
    "execution": {
     "iopub.execute_input": "2021-05-29T17:31:38.738871Z",
     "iopub.status.busy": "2021-05-29T17:31:38.738126Z",
     "iopub.status.idle": "2021-05-29T17:31:44.654363Z",
     "shell.execute_reply": "2021-05-29T17:31:44.653609Z",
     "shell.execute_reply.started": "2021-05-25T23:26:05.700782Z"
    },
    "papermill": {
     "duration": 5.96175,
     "end_time": "2021-05-29T17:31:44.654545",
     "exception": false,
     "start_time": "2021-05-29T17:31:38.692795",
     "status": "completed"
    },
    "tags": []
   },
   "outputs": [
    {
     "name": "stdout",
     "output_type": "stream",
     "text": [
      "--2021-05-29 17:31:39--  https://dl.fbaipublicfiles.com/fasttext/supervised-models/lid.176.bin\r\n",
      "Resolving dl.fbaipublicfiles.com (dl.fbaipublicfiles.com)... 172.67.9.4, 104.22.75.142, 104.22.74.142, ...\r\n",
      "Connecting to dl.fbaipublicfiles.com (dl.fbaipublicfiles.com)|172.67.9.4|:443... connected.\r\n",
      "HTTP request sent, awaiting response... 200 OK\r\n",
      "Length: 131266198 (125M) [application/octet-stream]\r\n",
      "Saving to: ‘lid.176.bin’\r\n",
      "\r\n",
      "lid.176.bin         100%[===================>] 125.18M  31.0MB/s    in 4.4s    \r\n",
      "\r\n",
      "2021-05-29 17:31:44 (28.2 MB/s) - ‘lid.176.bin’ saved [131266198/131266198]\r\n",
      "\r\n"
     ]
    }
   ],
   "source": [
    "!wget https://dl.fbaipublicfiles.com/fasttext/supervised-models/lid.176.bin"
   ]
  },
  {
   "cell_type": "code",
   "execution_count": 16,
   "id": "mature-sleeve",
   "metadata": {
    "execution": {
     "iopub.execute_input": "2021-05-29T17:31:44.755653Z",
     "iopub.status.busy": "2021-05-29T17:31:44.754931Z",
     "iopub.status.idle": "2021-05-29T17:31:46.234128Z",
     "shell.execute_reply": "2021-05-29T17:31:46.233007Z",
     "shell.execute_reply.started": "2021-05-25T23:28:29.362953Z"
    },
    "papermill": {
     "duration": 1.532656,
     "end_time": "2021-05-29T17:31:46.234302",
     "exception": false,
     "start_time": "2021-05-29T17:31:44.701646",
     "status": "completed"
    },
    "tags": []
   },
   "outputs": [],
   "source": [
    "!cat normalize_and_filter_text.py|sed -e 's/187/176/' > tmp\n",
    "!mv tmp normalize_and_filter_text.py"
   ]
  },
  {
   "cell_type": "markdown",
   "id": "statutory-arrow",
   "metadata": {
    "papermill": {
     "duration": 0.047567,
     "end_time": "2021-05-29T17:31:46.330021",
     "exception": false,
     "start_time": "2021-05-29T17:31:46.282454",
     "status": "completed"
    },
    "tags": []
   },
   "source": [
    "There are two lines with missing variables in `prepare_text.sh` - [pull request](https://github.com/pytorch/fairseq/pull/3569) - so replace the file."
   ]
  },
  {
   "cell_type": "code",
   "execution_count": 17,
   "id": "middle-glass",
   "metadata": {
    "_kg_hide-input": true,
    "execution": {
     "iopub.execute_input": "2021-05-29T17:31:46.435903Z",
     "iopub.status.busy": "2021-05-29T17:31:46.434747Z",
     "iopub.status.idle": "2021-05-29T17:31:46.440390Z",
     "shell.execute_reply": "2021-05-29T17:31:46.440939Z"
    },
    "papermill": {
     "duration": 0.061755,
     "end_time": "2021-05-29T17:31:46.441125",
     "exception": false,
     "start_time": "2021-05-29T17:31:46.379370",
     "status": "completed"
    },
    "tags": []
   },
   "outputs": [
    {
     "name": "stdout",
     "output_type": "stream",
     "text": [
      "Overwriting prepare_text.sh\n"
     ]
    }
   ],
   "source": [
    "%%writefile prepare_text.sh\n",
    "#!/usr/bin/env zsh\n",
    "# Copyright (c) Facebook, Inc. and its affiliates.\n",
    "#\n",
    "# This source code is licensed under the MIT license found in the\n",
    "# LICENSE file in the root directory of this source tree.\n",
    "\n",
    "lg=$1\n",
    "text_path=$2\n",
    "target_dir=$3\n",
    "\n",
    "ph_lg=${lg:l}\n",
    "if test \"$lg\" = 'fr'; then\n",
    "  ph_lg='fr-fr'\n",
    "elif test \"$lg\" = 'en'; then\n",
    "  ph_lg='en-us'\n",
    "elif test \"$lg\" = 'pt'; then\n",
    "  ph_lg='pt-br'\n",
    "fi\n",
    "\n",
    "echo $lg\n",
    "echo $ph_lg\n",
    "echo $text_path\n",
    "echo $target_dir\n",
    "\n",
    "mkdir -p $target_dir\n",
    "python normalize_and_filter_text.py --lang $lg < $text_path | grep -v '\\-\\-\\-' >! $target_dir/lm.upper.lid.txt\n",
    "python $FAIRSEQ_ROOT/fairseq_cli/preprocess.py --dataset-impl mmap --trainpref $target_dir/lm.upper.lid.txt --only-source --destdir $target_dir --thresholdsrc 2 --padding-factor 1 --dict-only\n",
    "cut -f1 -d' ' $target_dir/dict.txt | grep -v -x '[[:punct:]]*' | grep -Pv '\\d\\d\\d\\d\\d+' >! $target_dir/words.txt\n",
    "\n",
    "one=$(echo \"1\" | PHONEMIZER_ESPEAK_PATH=$(which espeak) phonemize -p ' ' -w '' -l $ph_lg --language-switch remove-flags)\n",
    "sed 's/$/ 1/' $target_dir/words.txt | PHONEMIZER_ESPEAK_PATH=$(which espeak) phonemize -o $target_dir/phones.txt -p ' ' -w '' -l $ph_lg -j 70 --language-switch remove-flags\n",
    "\n",
    "echo \"one is ${one}\"\n",
    "\n",
    "sed -i \"s/${one}$//\" $target_dir/phones.txt\n",
    "paste $target_dir/words.txt $target_dir/phones.txt >! $target_dir/lexicon.lst\n",
    "\n",
    "python $FAIRSEQ_ROOT/fairseq_cli/preprocess.py --dataset-impl mmap --trainpref $target_dir/phones.txt --only-source --destdir $target_dir/phones --thresholdsrc 1000 --padding-factor 1 --dict-only\n",
    "\n",
    "python filter_lexicon.py -d $target_dir/phones/dict.txt < $target_dir/lexicon.lst >! $target_dir/lexicon_filtered.lst\n",
    "python phonemize_with_sil.py -s 0.25 --surround --lexicon $target_dir/lexicon_filtered.lst < $target_dir/lm.upper.lid.txt >! $target_dir/phones/lm.phones.filtered.txt\n",
    "cp $target_dir/phones/dict.txt $target_dir/phones/dict.phn.txt\n",
    "echo \"<SIL> 0\" >> $target_dir/phones/dict.phn.txt\n",
    "python $FAIRSEQ_ROOT/fairseq_cli/preprocess.py --dataset-impl mmap --trainpref $target_dir/phones/lm.phones.filtered.txt --workers 70 --only-source --destdir $target_dir/phones --srcdict $target_dir/phones/dict.phn.txt\n",
    "\n",
    "lmplz -o 4 < $target_dir/lm.upper.lid.txt --discount_fallback --prune 0 0 0 3 >! $target_dir/kenlm.wrd.o40003.arpa\n",
    "build_binary $target_dir/kenlm.wrd.o40003.arpa $target_dir/kenlm.wrd.o40003.bin\n",
    "lg=$lg python $FAIRSEQ_ROOT/examples/speech_recognition/kaldi/kaldi_initializer.py fst_dir=$target_dir/fst/phn_to_words_sil lm_arpa=$target_dir/kenlm.wrd.o40003.arpa wav2letter_lexicon=$target_dir/lexicon_filtered.lst data_dir=$target_dir/phones \"blank_symbol='<SIL>'\"\n",
    "lg=$lg python $FAIRSEQ_ROOT/examples/speech_recognition/kaldi/kaldi_initializer.py fst_dir=$target_dir/fst/phn_to_words lm_arpa=$target_dir/kenlm.wrd.o40003.arpa wav2letter_lexicon=$target_dir/lexicon_filtered.lst data_dir=$target_dir/phones\n",
    "\n",
    "lmplz -o 4 < $target_dir/phones/lm.phones.filtered.txt --discount_fallback >! $target_dir/phones/lm.phones.filtered.04.arpa\n",
    "build_binary $target_dir/phones/lm.phones.filtered.04.arpa $target_dir/phones/lm.phones.filtered.04.bin\n",
    "lmplz -o 6 < $target_dir/phones/lm.phones.filtered.txt --discount_fallback >! $target_dir/phones/lm.phones.filtered.06.arpa\n",
    "build_binary $target_dir/phones/lm.phones.filtered.06.arpa $target_dir/phones/lm.phones.filtered.06.bin\n",
    "\n",
    "lg=$lg python $FAIRSEQ_ROOT/examples/speech_recognition/kaldi/kaldi_initializer.py fst_dir=$target_dir/fst/phn_to_phn_sil lm_arpa=$target_dir/phones/lm.phones.filtered.06.arpa data_dir=$target_dir/phones \"blank_symbol='<SIL>'\""
   ]
  },
  {
   "cell_type": "code",
   "execution_count": 18,
   "id": "finite-marketing",
   "metadata": {
    "execution": {
     "iopub.execute_input": "2021-05-29T17:31:46.552428Z",
     "iopub.status.busy": "2021-05-29T17:31:46.547245Z",
     "iopub.status.idle": "2021-05-29T17:32:59.580336Z",
     "shell.execute_reply": "2021-05-29T17:32:59.580900Z",
     "shell.execute_reply.started": "2021-05-25T23:28:33.84656Z"
    },
    "papermill": {
     "duration": 73.090509,
     "end_time": "2021-05-29T17:32:59.581172",
     "exception": false,
     "start_time": "2021-05-29T17:31:46.490663",
     "status": "completed"
    },
    "tags": []
   },
   "outputs": [
    {
     "name": "stdout",
     "output_type": "stream",
     "text": [
      "sv\r\n",
      "sv\r\n",
      "/kaggle/working/sentences.txt\r\n",
      "/kaggle/working/preppedtext\r\n",
      "Warning : `load_model` does not return WordVectorModel or SupervisedModel any more, but a `FastText` object which is very similar.\r\n",
      "[WARNING] 1 utterances containing language switches on lines 1546\r\n",
      "[WARNING] extra phones may appear in the \"sv\" phoneset\r\n",
      "[WARNING] language switch flags have been removed (applying \"remove-flags\" policy)\r\n",
      "one is ɛ t \r\n",
      "Traceback (most recent call last):\r\n",
      "  File \"/tmp/fairseq/fairseq_cli/preprocess.py\", line 401, in <module>\r\n",
      "    cli_main()\r\n",
      "  File \"/tmp/fairseq/fairseq_cli/preprocess.py\", line 397, in cli_main\r\n",
      "    main(args)\r\n",
      "  File \"/tmp/fairseq/fairseq_cli/preprocess.py\", line 287, in main\r\n",
      "    make_all(args.source_lang, src_dict)\r\n",
      "  File \"/tmp/fairseq/fairseq_cli/preprocess.py\", line 255, in make_all\r\n",
      "    make_dataset(vocab, args.trainpref, \"train\", lang, num_workers=args.workers)\r\n",
      "  File \"/tmp/fairseq/fairseq_cli/preprocess.py\", line 251, in make_dataset\r\n",
      "    make_binary_dataset(vocab, input_prefix, output_prefix, lang, num_workers)\r\n",
      "  File \"/tmp/fairseq/fairseq_cli/preprocess.py\", line 184, in make_binary_dataset\r\n",
      "    100 * sum(replaced.values()) / n_seq_tok[1],\r\n",
      "ZeroDivisionError: division by zero\r\n",
      "=== 1/5 Counting and sorting n-grams ===\r\n",
      "Reading /kaggle/working/preppedtext/lm.upper.lid.txt\r\n",
      "----5---10---15---20---25---30---35---40---45---50---55---60---65---70---75---80---85---90---95--100\r\n",
      "****************************************************************************************************\r\n",
      "Unigram tokens 34312 types 5260\r\n",
      "=== 2/5 Calculating and sorting adjusted counts ===\r\n",
      "Chain sizes: 1:63120 2:2571427328 3:4821426176 4:7714281984\r\n",
      "Statistics:\r\n",
      "1 5260 D1=0.693271 D2=1.11217 D3+=1.57922\r\n",
      "2 20174 D1=0.81526 D2=1.18129 D3+=1.4957\r\n",
      "3 27884 D1=0.914828 D2=1.3954 D3+=1.34166\r\n",
      "4 114/27003 D1=0.954567 D2=1.40148 D3+=1.53144\r\n",
      "Memory estimate for binary LM:\r\n",
      "type      kB\r\n",
      "probing 1261 assuming -p 1.5\r\n",
      "probing 1564 assuming -r models -p 1.5\r\n",
      "trie     630 without quantization\r\n",
      "trie     359 assuming -q 8 -b 8 quantization \r\n",
      "trie     588 assuming -a 22 array pointer compression\r\n",
      "trie     317 assuming -a 22 -q 8 -b 8 array pointer compression and quantization\r\n",
      "=== 3/5 Calculating and sorting initial probabilities ===\r\n",
      "Chain sizes: 1:63120 2:322784 3:557680 4:2736\r\n",
      "----5---10---15---20---25---30---35---40---45---50---55---60---65---70---75---80---85---90---95--100\r\n",
      "####################################################################################################\r\n",
      "=== 4/5 Calculating and writing order-interpolated probabilities ===\r\n",
      "Chain sizes: 1:63120 2:322784 3:557680 4:2736\r\n",
      "----5---10---15---20---25---30---35---40---45---50---55---60---65---70---75---80---85---90---95--100\r\n",
      "####################################################################################################\r\n",
      "=== 5/5 Writing ARPA model ===\r\n",
      "----5---10---15---20---25---30---35---40---45---50---55---60---65---70---75---80---85---90---95--100\r\n",
      "****************************************************************************************************\r\n",
      "Name:lmplz\tVmPeak:14916936 kB\tVmRSS:7108 kB\tRSSMax:2975692 kB\tuser:0.471736\tsys:1.91616\tCPU:2.38794\treal:2.38399\r\n",
      "Reading /kaggle/working/preppedtext/kenlm.wrd.o40003.arpa\r\n",
      "----5---10---15---20---25---30---35---40---45---50---55---60---65---70---75---80---85---90---95--100\r\n",
      "****************************************************************************************************\r\n",
      "SUCCESS\r\n",
      "Primary config directory not found.\r\n",
      "Check that the config directory '/tmp/fairseq/examples/speech_recognition/kaldi/config' exists and readable\r\n",
      "\r\n",
      "Set the environment variable HYDRA_FULL_ERROR=1 for a complete stack trace.\r\n",
      "Primary config directory not found.\r\n",
      "Check that the config directory '/tmp/fairseq/examples/speech_recognition/kaldi/config' exists and readable\r\n",
      "\r\n",
      "Set the environment variable HYDRA_FULL_ERROR=1 for a complete stack trace.\r\n",
      "=== 1/5 Counting and sorting n-grams ===\r\n",
      "Reading /kaggle/working/preppedtext/phones/lm.phones.filtered.txt\r\n",
      "----5---10---15---20---25---30---35---40---45---50---55---60---65---70---75---80---85---90---95--100\r\n",
      "Unigram tokens 0 types 3\r\n",
      "=== 2/5 Calculating and sorting adjusted counts ===\r\n",
      "Chain sizes: 1:36 2:2571437824 3:4821446144 4:7714313728\r\n",
      "Substituting fallback discounts for order 0: D1=0.5 D2=1 D3+=1.5\r\n",
      "Substituting fallback discounts for order 1: D1=0.5 D2=1 D3+=1.5\r\n",
      "Substituting fallback discounts for order 2: D1=0.5 D2=1 D3+=1.5\r\n",
      "Substituting fallback discounts for order 3: D1=0.5 D2=1 D3+=1.5\r\n",
      "Statistics:\r\n",
      "1 2 D1=0.5 D2=1 D3+=1.5\r\n",
      "2 0 D1=0.5 D2=1 D3+=1.5\r\n",
      "3 0 D1=0.5 D2=1 D3+=1.5\r\n",
      "4 0 D1=0.5 D2=1 D3+=1.5\r\n",
      "Memory estimate for binary LM:\r\n",
      "type       B\r\n",
      "probing  112 assuming -p 1.5\r\n",
      "probing  132 assuming -r models -p 1.5\r\n",
      "trie     135 without quantization\r\n",
      "trie    5248 assuming -q 8 -b 8 quantization \r\n",
      "trie     181 assuming -a 22 array pointer compression\r\n",
      "trie    5294 assuming -a 22 -q 8 -b 8 array pointer compression and quantization\r\n",
      "=== 3/5 Calculating and sorting initial probabilities ===\r\n",
      "Chain sizes: 1:24 2:16 3:20 4:24\r\n",
      "----5---10---15---20---25---30---35---40---45---50---55---60---65---70---75---80---85---90---95--100\r\n",
      "\r\n",
      "=== 4/5 Calculating and writing order-interpolated probabilities ===\r\n",
      "Chain sizes: 1:24 2:16 3:20 4:24\r\n",
      "----5---10---15---20---25---30---35---40---45---50---55---60---65---70---75---80---85---90---95--100\r\n",
      "\r\n",
      "=== 5/5 Writing ARPA model ===\r\n",
      "----5---10---15---20---25---30---35---40---45---50---55---60---65---70---75---80---85---90---95--100\r\n",
      "\r\n",
      "Name:lmplz\tVmPeak:14916784 kB\tVmRSS:5904 kB\tRSSMax:2956972 kB\tuser:0.435189\tsys:1.66691\tCPU:2.10215\treal:2.11765\r\n",
      "Reading /kaggle/working/preppedtext/phones/lm.phones.filtered.04.arpa\r\n",
      "----5---10---15---20---25---30---35---40---45---50---55---60---65---70---75---80---85---90---95--100\r\n",
      "****************************************************************************************************\r\n",
      "/tmp/kenlm/lm/vocab.cc:305 in void lm::ngram::MissingSentenceMarker(const lm::ngram::Config&, const char*) threw SpecialWordMissingException.\r\n",
      "The ARPA file is missing </s> and the model is configured to reject these models.  Run build_binary -s to disable this check. Byte: 76\r\n",
      "ERROR\r\n",
      "=== 1/5 Counting and sorting n-grams ===\r\n",
      "Reading /kaggle/working/preppedtext/phones/lm.phones.filtered.txt\r\n",
      "----5---10---15---20---25---30---35---40---45---50---55---60---65---70---75---80---85---90---95--100\r\n",
      "Unigram tokens 0 types 3\r\n",
      "=== 2/5 Calculating and sorting adjusted counts ===\r\n",
      "Chain sizes: 1:36 2:929673728 3:1743138176 4:2789021184 5:4067322624 6:5578042368\r\n",
      "Substituting fallback discounts for order 0: D1=0.5 D2=1 D3+=1.5\r\n",
      "Substituting fallback discounts for order 1: D1=0.5 D2=1 D3+=1.5\r\n",
      "Substituting fallback discounts for order 2: D1=0.5 D2=1 D3+=1.5\r\n",
      "Substituting fallback discounts for order 3: D1=0.5 D2=1 D3+=1.5\r\n",
      "Substituting fallback discounts for order 4: D1=0.5 D2=1 D3+=1.5\r\n",
      "Substituting fallback discounts for order 5: D1=0.5 D2=1 D3+=1.5\r\n",
      "Statistics:\r\n",
      "1 2 D1=0.5 D2=1 D3+=1.5\r\n",
      "2 0 D1=0.5 D2=1 D3+=1.5\r\n",
      "3 0 D1=0.5 D2=1 D3+=1.5\r\n",
      "4 0 D1=0.5 D2=1 D3+=1.5\r\n",
      "5 0 D1=0.5 D2=1 D3+=1.5\r\n",
      "6 0 D1=0.5 D2=1 D3+=1.5\r\n",
      "Memory estimate for binary LM:\r\n",
      "type       B\r\n",
      "probing  144 assuming -p 1.5\r\n",
      "probing  172 assuming -r models -p 1.5\r\n",
      "trie     169 without quantization\r\n",
      "trie    9366 assuming -q 8 -b 8 quantization \r\n",
      "trie     261 assuming -a 22 array pointer compression\r\n",
      "trie    9458 assuming -a 22 -q 8 -b 8 array pointer compression and quantization\r\n",
      "=== 3/5 Calculating and sorting initial probabilities ===\r\n",
      "Chain sizes: 1:24 2:16 3:20 4:24 5:28 6:32\r\n",
      "----5---10---15---20---25---30---35---40---45---50---55---60---65---70---75---80---85---90---95--100\r\n",
      "\r\n",
      "=== 4/5 Calculating and writing order-interpolated probabilities ===\r\n",
      "Chain sizes: 1:24 2:16 3:20 4:24 5:28 6:32\r\n",
      "----5---10---15---20---25---30---35---40---45---50---55---60---65---70---75---80---85---90---95--100\r\n",
      "\r\n",
      "=== 5/5 Writing ARPA model ===\r\n",
      "----5---10---15---20---25---30---35---40---45---50---55---60---65---70---75---80---85---90---95--100\r\n",
      "\r\n",
      "Name:lmplz\tVmPeak:14949572 kB\tVmRSS:5992 kB\tRSSMax:2336716 kB\tuser:0.309492\tsys:1.38908\tCPU:1.69862\treal:1.74077\r\n",
      "Reading /kaggle/working/preppedtext/phones/lm.phones.filtered.06.arpa\r\n",
      "----5---10---15---20---25---30---35---40---45---50---55---60---65---70---75---80---85---90---95--100\r\n",
      "****************************************************************************************************\r\n",
      "/tmp/kenlm/lm/vocab.cc:305 in void lm::ngram::MissingSentenceMarker(const lm::ngram::Config&, const char*) threw SpecialWordMissingException.\r\n",
      "The ARPA file is missing </s> and the model is configured to reject these models.  Run build_binary -s to disable this check. Byte: 96\r\n",
      "ERROR\r\n",
      "Primary config directory not found.\r\n",
      "Check that the config directory '/tmp/fairseq/examples/speech_recognition/kaldi/config' exists and readable\r\n",
      "\r\n",
      "Set the environment variable HYDRA_FULL_ERROR=1 for a complete stack trace.\r\n"
     ]
    }
   ],
   "source": [
    "!zsh prepare_text.sh sv /kaggle/working/sentences.txt /kaggle/working/preppedtext"
   ]
  }
 ],
 "metadata": {
  "kernelspec": {
   "display_name": "Python 3",
   "language": "python",
   "name": "python3"
  },
  "language_info": {
   "codemirror_mode": {
    "name": "ipython",
    "version": 3
   },
   "file_extension": ".py",
   "mimetype": "text/x-python",
   "name": "python",
   "nbconvert_exporter": "python",
   "pygments_lexer": "ipython3",
   "version": "3.7.10"
  },
  "papermill": {
   "default_parameters": {},
   "duration": 267.264606,
   "end_time": "2021-05-29T17:33:01.312564",
   "environment_variables": {},
   "exception": null,
   "input_path": "__notebook__.ipynb",
   "output_path": "__notebook__.ipynb",
   "parameters": {},
   "start_time": "2021-05-29T17:28:34.047958",
   "version": "2.3.3"
  }
 },
 "nbformat": 4,
 "nbformat_minor": 5
}
