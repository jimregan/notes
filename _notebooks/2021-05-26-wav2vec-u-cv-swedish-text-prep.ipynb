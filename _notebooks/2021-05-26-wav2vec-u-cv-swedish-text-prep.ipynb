{
 "cells": [
  {
   "cell_type": "code",
   "execution_count": 1,
   "id": "hispanic-bridal",
   "metadata": {
    "_cell_guid": "b1076dfc-b9ad-4769-8c92-a6c4dae69d19",
    "_uuid": "8f2839f25d086af736a60e9eeb907d3b93b6e0e5",
    "execution": {
     "iopub.execute_input": "2021-05-30T14:14:36.078111Z",
     "iopub.status.busy": "2021-05-30T14:14:36.076390Z",
     "iopub.status.idle": "2021-05-30T14:14:36.090389Z",
     "shell.execute_reply": "2021-05-30T14:14:36.089714Z",
     "shell.execute_reply.started": "2021-05-25T22:46:58.262403Z"
    },
    "papermill": {
     "duration": 0.037974,
     "end_time": "2021-05-30T14:14:36.090556",
     "exception": false,
     "start_time": "2021-05-30T14:14:36.052582",
     "status": "completed"
    },
    "tags": []
   },
   "outputs": [
    {
     "name": "stdout",
     "output_type": "stream",
     "text": [
      "/opt\n"
     ]
    }
   ],
   "source": [
    "%cd /opt"
   ]
  },
  {
   "cell_type": "code",
   "execution_count": 2,
   "id": "killing-concord",
   "metadata": {
    "execution": {
     "iopub.execute_input": "2021-05-30T14:14:36.148586Z",
     "iopub.status.busy": "2021-05-30T14:14:36.133708Z",
     "iopub.status.idle": "2021-05-30T14:15:26.092521Z",
     "shell.execute_reply": "2021-05-30T14:15:26.091335Z"
    },
    "papermill": {
     "duration": 49.984087,
     "end_time": "2021-05-30T14:15:26.093852",
     "exception": false,
     "start_time": "2021-05-30T14:14:36.109765",
     "status": "completed"
    },
    "tags": []
   },
   "outputs": [],
   "source": [
    "%%capture\n",
    "!tar xvf /kaggle/input/extract-prebuilt-kaldi-from-docker/kaldi.tar"
   ]
  },
  {
   "cell_type": "code",
   "execution_count": 3,
   "id": "mounted-polyester",
   "metadata": {
    "execution": {
     "iopub.execute_input": "2021-05-30T14:15:26.143816Z",
     "iopub.status.busy": "2021-05-30T14:15:26.143159Z",
     "iopub.status.idle": "2021-05-30T14:15:26.155929Z",
     "shell.execute_reply": "2021-05-30T14:15:26.155001Z"
    },
    "papermill": {
     "duration": 0.035857,
     "end_time": "2021-05-30T14:15:26.156071",
     "exception": false,
     "start_time": "2021-05-30T14:15:26.120214",
     "status": "completed"
    },
    "tags": []
   },
   "outputs": [
    {
     "name": "stdout",
     "output_type": "stream",
     "text": [
      "/tmp\n"
     ]
    }
   ],
   "source": [
    "%cd /tmp"
   ]
  },
  {
   "cell_type": "code",
   "execution_count": 4,
   "id": "endless-scale",
   "metadata": {
    "execution": {
     "iopub.execute_input": "2021-05-30T14:15:26.197304Z",
     "iopub.status.busy": "2021-05-30T14:15:26.196609Z",
     "iopub.status.idle": "2021-05-30T14:15:30.617804Z",
     "shell.execute_reply": "2021-05-30T14:15:30.617072Z",
     "shell.execute_reply.started": "2021-05-25T22:38:20.218298Z"
    },
    "papermill": {
     "duration": 4.442654,
     "end_time": "2021-05-30T14:15:30.617947",
     "exception": false,
     "start_time": "2021-05-30T14:15:26.175293",
     "status": "completed"
    },
    "tags": []
   },
   "outputs": [
    {
     "name": "stdout",
     "output_type": "stream",
     "text": [
      "Cloning into 'fairseq'...\r\n",
      "remote: Enumerating objects: 28172, done.\u001b[K\r\n",
      "remote: Counting objects: 100% (586/586), done.\u001b[K\r\n",
      "remote: Compressing objects: 100% (339/339), done.\u001b[K\r\n",
      "remote: Total 28172 (delta 308), reused 465 (delta 234), pack-reused 27586\u001b[K\r\n",
      "Receiving objects: 100% (28172/28172), 11.87 MiB | 14.47 MiB/s, done.\r\n",
      "Resolving deltas: 100% (21127/21127), done.\r\n"
     ]
    }
   ],
   "source": [
    "!git clone https://github.com/pytorch/fairseq/"
   ]
  },
  {
   "cell_type": "code",
   "execution_count": 5,
   "id": "adapted-leone",
   "metadata": {
    "execution": {
     "iopub.execute_input": "2021-05-30T14:15:30.701603Z",
     "iopub.status.busy": "2021-05-30T14:15:30.700813Z",
     "iopub.status.idle": "2021-05-30T14:15:46.221567Z",
     "shell.execute_reply": "2021-05-30T14:15:46.222053Z"
    },
    "papermill": {
     "duration": 15.557226,
     "end_time": "2021-05-30T14:15:46.222292",
     "exception": false,
     "start_time": "2021-05-30T14:15:30.665066",
     "status": "completed"
    },
    "tags": []
   },
   "outputs": [],
   "source": [
    "%%capture\n",
    "!pip install phonemizer"
   ]
  },
  {
   "cell_type": "code",
   "execution_count": 6,
   "id": "threatened-avatar",
   "metadata": {
    "execution": {
     "iopub.execute_input": "2021-05-30T14:15:46.287695Z",
     "iopub.status.busy": "2021-05-30T14:15:46.286939Z",
     "iopub.status.idle": "2021-05-30T14:16:43.137473Z",
     "shell.execute_reply": "2021-05-30T14:16:43.136671Z"
    },
    "papermill": {
     "duration": 56.886958,
     "end_time": "2021-05-30T14:16:43.137668",
     "exception": false,
     "start_time": "2021-05-30T14:15:46.250710",
     "status": "completed"
    },
    "tags": []
   },
   "outputs": [],
   "source": [
    "%%capture\n",
    "!pip install git+https://github.com/pytorch/fairseq/"
   ]
  },
  {
   "cell_type": "code",
   "execution_count": 7,
   "id": "bulgarian-cambodia",
   "metadata": {
    "execution": {
     "iopub.execute_input": "2021-05-30T14:16:43.200867Z",
     "iopub.status.busy": "2021-05-30T14:16:43.200181Z",
     "iopub.status.idle": "2021-05-30T14:16:48.967346Z",
     "shell.execute_reply": "2021-05-30T14:16:48.966622Z"
    },
    "papermill": {
     "duration": 5.801371,
     "end_time": "2021-05-30T14:16:48.967494",
     "exception": false,
     "start_time": "2021-05-30T14:16:43.166123",
     "status": "completed"
    },
    "tags": []
   },
   "outputs": [],
   "source": [
    "%%capture\n",
    "!apt-get -y install espeak"
   ]
  },
  {
   "cell_type": "code",
   "execution_count": 8,
   "id": "criminal-cursor",
   "metadata": {
    "execution": {
     "iopub.execute_input": "2021-05-30T14:16:49.038975Z",
     "iopub.status.busy": "2021-05-30T14:16:49.032951Z",
     "iopub.status.idle": "2021-05-30T14:16:51.407833Z",
     "shell.execute_reply": "2021-05-30T14:16:51.407120Z",
     "shell.execute_reply.started": "2021-05-25T22:47:02.096238Z"
    },
    "papermill": {
     "duration": 2.411263,
     "end_time": "2021-05-30T14:16:51.407970",
     "exception": false,
     "start_time": "2021-05-30T14:16:48.996707",
     "status": "completed"
    },
    "tags": []
   },
   "outputs": [
    {
     "name": "stdout",
     "output_type": "stream",
     "text": [
      "Cloning into 'kenlm'...\r\n",
      "remote: Enumerating objects: 13824, done.\u001b[K\r\n",
      "remote: Counting objects: 100% (137/137), done.\u001b[K\r\n",
      "remote: Compressing objects: 100% (79/79), done.\u001b[K\r\n",
      "remote: Total 13824 (delta 76), reused 92 (delta 45), pack-reused 13687\u001b[K\r\n",
      "Receiving objects: 100% (13824/13824), 5.49 MiB | 8.55 MiB/s, done.\r\n",
      "Resolving deltas: 100% (7956/7956), done.\r\n"
     ]
    }
   ],
   "source": [
    "!git clone https://github.com/kpu/kenlm"
   ]
  },
  {
   "cell_type": "code",
   "execution_count": 9,
   "id": "foster-emphasis",
   "metadata": {
    "execution": {
     "iopub.execute_input": "2021-05-30T14:16:51.487374Z",
     "iopub.status.busy": "2021-05-30T14:16:51.483625Z",
     "iopub.status.idle": "2021-05-30T14:16:55.482604Z",
     "shell.execute_reply": "2021-05-30T14:16:55.481832Z"
    },
    "papermill": {
     "duration": 4.039698,
     "end_time": "2021-05-30T14:16:55.482750",
     "exception": false,
     "start_time": "2021-05-30T14:16:51.443052",
     "status": "completed"
    },
    "tags": []
   },
   "outputs": [],
   "source": [
    "%%capture\n",
    "!apt-get -y install libeigen3-dev liblzma-dev zlib1g-dev libbz2-dev"
   ]
  },
  {
   "cell_type": "code",
   "execution_count": 10,
   "id": "focal-world",
   "metadata": {
    "execution": {
     "iopub.execute_input": "2021-05-30T14:16:55.560614Z",
     "iopub.status.busy": "2021-05-30T14:16:55.559913Z",
     "iopub.status.idle": "2021-05-30T14:18:08.717050Z",
     "shell.execute_reply": "2021-05-30T14:18:08.716220Z"
    },
    "papermill": {
     "duration": 73.200687,
     "end_time": "2021-05-30T14:18:08.717285",
     "exception": false,
     "start_time": "2021-05-30T14:16:55.516598",
     "status": "completed"
    },
    "tags": []
   },
   "outputs": [],
   "source": [
    "%%capture\n",
    "%cd kenlm\n",
    "!mkdir build\n",
    "%cd build\n",
    "!cmake ..\n",
    "!make -j 4\n",
    "%cd /tmp"
   ]
  },
  {
   "cell_type": "code",
   "execution_count": 11,
   "id": "unauthorized-retro",
   "metadata": {
    "execution": {
     "iopub.execute_input": "2021-05-30T14:18:08.792648Z",
     "iopub.status.busy": "2021-05-30T14:18:08.791963Z",
     "iopub.status.idle": "2021-05-30T14:18:08.795050Z",
     "shell.execute_reply": "2021-05-30T14:18:08.794530Z",
     "shell.execute_reply.started": "2021-05-25T22:58:58.397816Z"
    },
    "papermill": {
     "duration": 0.042969,
     "end_time": "2021-05-30T14:18:08.795219",
     "exception": false,
     "start_time": "2021-05-30T14:18:08.752250",
     "status": "completed"
    },
    "tags": []
   },
   "outputs": [],
   "source": [
    "import os\n",
    "os.environ['PATH'] = f\"{os.environ['PATH']}:/tmp/kenlm/build/bin/\"\n",
    "os.environ['FAIRSEQ_ROOT'] = '/tmp/fairseq'"
   ]
  },
  {
   "cell_type": "code",
   "execution_count": 12,
   "id": "square-preservation",
   "metadata": {
    "execution": {
     "iopub.execute_input": "2021-05-30T14:18:08.873743Z",
     "iopub.status.busy": "2021-05-30T14:18:08.869380Z",
     "iopub.status.idle": "2021-05-30T14:18:09.648594Z",
     "shell.execute_reply": "2021-05-30T14:18:09.647855Z",
     "shell.execute_reply.started": "2021-05-25T22:55:06.647826Z"
    },
    "papermill": {
     "duration": 0.818715,
     "end_time": "2021-05-30T14:18:09.648760",
     "exception": false,
     "start_time": "2021-05-30T14:18:08.830045",
     "status": "completed"
    },
    "tags": []
   },
   "outputs": [],
   "source": [
    "!cat /kaggle/input/wav2vec-u-cv-swedish-audio/*.wrd | grep -v '^$' | sort| uniq > /kaggle/working/sentences.txt\n"
   ]
  },
  {
   "cell_type": "code",
   "execution_count": 13,
   "id": "anonymous-optimization",
   "metadata": {
    "execution": {
     "iopub.execute_input": "2021-05-30T14:18:09.723693Z",
     "iopub.status.busy": "2021-05-30T14:18:09.722698Z",
     "iopub.status.idle": "2021-05-30T14:18:09.730007Z",
     "shell.execute_reply": "2021-05-30T14:18:09.730948Z",
     "shell.execute_reply.started": "2021-05-25T22:55:38.373919Z"
    },
    "papermill": {
     "duration": 0.047571,
     "end_time": "2021-05-30T14:18:09.731209",
     "exception": false,
     "start_time": "2021-05-30T14:18:09.683638",
     "status": "completed"
    },
    "tags": []
   },
   "outputs": [
    {
     "name": "stdout",
     "output_type": "stream",
     "text": [
      "/tmp/fairseq/examples/wav2vec/unsupervised\n"
     ]
    }
   ],
   "source": [
    "%cd fairseq/examples/wav2vec/unsupervised"
   ]
  },
  {
   "cell_type": "code",
   "execution_count": 14,
   "id": "respective-multimedia",
   "metadata": {
    "execution": {
     "iopub.execute_input": "2021-05-30T14:18:09.810543Z",
     "iopub.status.busy": "2021-05-30T14:18:09.806280Z",
     "iopub.status.idle": "2021-05-30T14:18:14.222419Z",
     "shell.execute_reply": "2021-05-30T14:18:14.221879Z"
    },
    "papermill": {
     "duration": 4.456281,
     "end_time": "2021-05-30T14:18:14.222573",
     "exception": false,
     "start_time": "2021-05-30T14:18:09.766292",
     "status": "completed"
    },
    "tags": []
   },
   "outputs": [],
   "source": [
    "%%capture\n",
    "!apt-get -y install zsh"
   ]
  },
  {
   "cell_type": "code",
   "execution_count": 15,
   "id": "fabulous-replacement",
   "metadata": {
    "execution": {
     "iopub.execute_input": "2021-05-30T14:18:14.298278Z",
     "iopub.status.busy": "2021-05-30T14:18:14.297337Z",
     "iopub.status.idle": "2021-05-30T14:18:15.010057Z",
     "shell.execute_reply": "2021-05-30T14:18:15.010549Z",
     "shell.execute_reply.started": "2021-05-25T22:58:19.000595Z"
    },
    "papermill": {
     "duration": 0.753348,
     "end_time": "2021-05-30T14:18:15.010747",
     "exception": false,
     "start_time": "2021-05-30T14:18:14.257399",
     "status": "completed"
    },
    "tags": []
   },
   "outputs": [],
   "source": [
    "!mkdir /kaggle/working/preppedtext"
   ]
  },
  {
   "cell_type": "code",
   "execution_count": 16,
   "id": "massive-christopher",
   "metadata": {
    "execution": {
     "iopub.execute_input": "2021-05-30T14:18:15.087783Z",
     "iopub.status.busy": "2021-05-30T14:18:15.086839Z",
     "iopub.status.idle": "2021-05-30T14:18:15.092282Z",
     "shell.execute_reply": "2021-05-30T14:18:15.091606Z",
     "shell.execute_reply.started": "2021-05-25T23:04:33.0148Z"
    },
    "papermill": {
     "duration": 0.046393,
     "end_time": "2021-05-30T14:18:15.092431",
     "exception": false,
     "start_time": "2021-05-30T14:18:15.046038",
     "status": "completed"
    },
    "tags": []
   },
   "outputs": [
    {
     "name": "stdout",
     "output_type": "stream",
     "text": [
      "/tmp/fairseq/examples/wav2vec/unsupervised/scripts\n"
     ]
    }
   ],
   "source": [
    "%cd scripts"
   ]
  },
  {
   "cell_type": "markdown",
   "id": "great-agenda",
   "metadata": {
    "papermill": {
     "duration": 0.034457,
     "end_time": "2021-05-30T14:18:15.161953",
     "exception": false,
     "start_time": "2021-05-30T14:18:15.127496",
     "status": "completed"
    },
    "tags": []
   },
   "source": [
    "The next part requires a FastText language id model; I don't know where the 187 language model comes from, but there is a model for 176 languages [here](https://fasttext.cc/docs/en/language-identification.html#content)"
   ]
  },
  {
   "cell_type": "code",
   "execution_count": 17,
   "id": "phantom-concentrate",
   "metadata": {
    "execution": {
     "iopub.execute_input": "2021-05-30T14:18:15.241269Z",
     "iopub.status.busy": "2021-05-30T14:18:15.236919Z",
     "iopub.status.idle": "2021-05-30T14:18:38.216051Z",
     "shell.execute_reply": "2021-05-30T14:18:38.215477Z",
     "shell.execute_reply.started": "2021-05-25T23:26:05.700782Z"
    },
    "papermill": {
     "duration": 23.019193,
     "end_time": "2021-05-30T14:18:38.216235",
     "exception": false,
     "start_time": "2021-05-30T14:18:15.197042",
     "status": "completed"
    },
    "tags": []
   },
   "outputs": [
    {
     "name": "stdout",
     "output_type": "stream",
     "text": [
      "--2021-05-30 14:18:15--  https://dl.fbaipublicfiles.com/fasttext/supervised-models/lid.176.bin\r\n",
      "Resolving dl.fbaipublicfiles.com (dl.fbaipublicfiles.com)... 172.67.9.4, 104.22.74.142, 104.22.75.142, ...\r\n",
      "Connecting to dl.fbaipublicfiles.com (dl.fbaipublicfiles.com)|172.67.9.4|:443... connected.\r\n",
      "HTTP request sent, awaiting response... 200 OK\r\n",
      "Length: 131266198 (125M) [application/octet-stream]\r\n",
      "Saving to: ‘lid.176.bin’\r\n",
      "\r\n",
      "lid.176.bin         100%[===================>] 125.18M  6.21MB/s    in 21s     \r\n",
      "\r\n",
      "2021-05-30 14:18:38 (5.89 MB/s) - ‘lid.176.bin’ saved [131266198/131266198]\r\n",
      "\r\n"
     ]
    }
   ],
   "source": [
    "!wget https://dl.fbaipublicfiles.com/fasttext/supervised-models/lid.176.bin"
   ]
  },
  {
   "cell_type": "code",
   "execution_count": 18,
   "id": "antique-actor",
   "metadata": {
    "execution": {
     "iopub.execute_input": "2021-05-30T14:18:38.341573Z",
     "iopub.status.busy": "2021-05-30T14:18:38.337199Z",
     "iopub.status.idle": "2021-05-30T14:18:39.794124Z",
     "shell.execute_reply": "2021-05-30T14:18:39.793619Z",
     "shell.execute_reply.started": "2021-05-25T23:28:29.362953Z"
    },
    "papermill": {
     "duration": 1.519234,
     "end_time": "2021-05-30T14:18:39.794302",
     "exception": false,
     "start_time": "2021-05-30T14:18:38.275068",
     "status": "completed"
    },
    "tags": []
   },
   "outputs": [],
   "source": [
    "!cat normalize_and_filter_text.py|sed -e 's/187/176/' > tmp\n",
    "!mv tmp normalize_and_filter_text.py"
   ]
  },
  {
   "cell_type": "code",
   "execution_count": 19,
   "id": "mature-taxation",
   "metadata": {
    "execution": {
     "iopub.execute_input": "2021-05-30T14:18:39.911584Z",
     "iopub.status.busy": "2021-05-30T14:18:39.910948Z",
     "iopub.status.idle": "2021-05-30T14:18:39.914216Z",
     "shell.execute_reply": "2021-05-30T14:18:39.913583Z"
    },
    "papermill": {
     "duration": 0.063935,
     "end_time": "2021-05-30T14:18:39.914462",
     "exception": false,
     "start_time": "2021-05-30T14:18:39.850527",
     "status": "completed"
    },
    "tags": []
   },
   "outputs": [],
   "source": [
    "# Needed to see what's going wrong\n",
    "os.environ['HYDRA_FULL_ERROR'] = '1'"
   ]
  },
  {
   "cell_type": "code",
   "execution_count": 20,
   "id": "acceptable-happening",
   "metadata": {
    "execution": {
     "iopub.execute_input": "2021-05-30T14:18:40.034247Z",
     "iopub.status.busy": "2021-05-30T14:18:40.033553Z",
     "iopub.status.idle": "2021-05-30T14:18:40.035664Z",
     "shell.execute_reply": "2021-05-30T14:18:40.036155Z"
    },
    "papermill": {
     "duration": 0.064639,
     "end_time": "2021-05-30T14:18:40.036332",
     "exception": false,
     "start_time": "2021-05-30T14:18:39.971693",
     "status": "completed"
    },
    "tags": []
   },
   "outputs": [],
   "source": [
    "import os\n",
    "os.environ['LD_LIBRARY_PATH'] = '/opt/conda/lib:/opt/kaldi/tools/openfst-1.6.7/lib:/opt/kaldi/src/lib'"
   ]
  },
  {
   "cell_type": "markdown",
   "id": "cloudy-failing",
   "metadata": {
    "papermill": {
     "duration": 0.057513,
     "end_time": "2021-05-30T14:18:40.149816",
     "exception": false,
     "start_time": "2021-05-30T14:18:40.092303",
     "status": "completed"
    },
    "tags": []
   },
   "source": [
    "There are two lines with missing variables in `prepare_text.sh` - [pull request](https://github.com/pytorch/fairseq/pull/3569) - so replace the file.\n",
    "\n",
    "While I'm replacing the file: most of the first part of the script is unneeded, as I already have a phonetic dictionary, so I'm use that instead.\n",
    "\n",
    "With the calls of the `preprocess.py` script, make sure to check the threshold: there's a divide by zero if the threshold is set too high."
   ]
  },
  {
   "cell_type": "markdown",
   "id": "seventh-college",
   "metadata": {
    "papermill": {
     "duration": 0.055538,
     "end_time": "2021-05-30T14:18:40.261550",
     "exception": false,
     "start_time": "2021-05-30T14:18:40.206012",
     "status": "completed"
    },
    "tags": []
   },
   "source": [
    "Config options for `kaldi_initializer.py`\n",
    "\n",
    "- `in_labels`: a naming component, for the Kaldi lexicons/fsts (required)\n",
    "- `wav2letter_lexicon`: path to wav2letter lexicon\n",
    "- `out_labels`: a naming component, for the Kaldi lexicons/fsts: set to `in_label` if missing\n",
    "- `kaldi_root`: path to Kaldi: `/opt/kaldi` for my kaggle image\n",
    "- `fst_dir`: path where generated fsts will be saved\n",
    "- `data_dir`: path to phones data\n",
    "- `lm_arpa`: path to the lm in ARPA format\n",
    "- `blank_symbol`: CTC blank symbol (`<s>` here)\n",
    "- `silence_symbol`: Kaldi symbol for silence (`<SIL>` is set for two of the scripts)"
   ]
  },
  {
   "cell_type": "code",
   "execution_count": 21,
   "id": "terminal-divorce",
   "metadata": {
    "_kg_hide-input": true,
    "execution": {
     "iopub.execute_input": "2021-05-30T14:18:40.380864Z",
     "iopub.status.busy": "2021-05-30T14:18:40.379713Z",
     "iopub.status.idle": "2021-05-30T14:18:40.384974Z",
     "shell.execute_reply": "2021-05-30T14:18:40.384230Z"
    },
    "papermill": {
     "duration": 0.068075,
     "end_time": "2021-05-30T14:18:40.385181",
     "exception": false,
     "start_time": "2021-05-30T14:18:40.317106",
     "status": "completed"
    },
    "tags": []
   },
   "outputs": [
    {
     "name": "stdout",
     "output_type": "stream",
     "text": [
      "Overwriting prepare_text.sh\n"
     ]
    }
   ],
   "source": [
    "%%writefile prepare_text.sh\n",
    "#!/usr/bin/env zsh\n",
    "# Copyright (c) Facebook, Inc. and its affiliates.\n",
    "#\n",
    "# This source code is licensed under the MIT license found in the\n",
    "# LICENSE file in the root directory of this source tree.\n",
    "\n",
    "lg=$1\n",
    "text_path=$2\n",
    "target_dir=$3\n",
    "\n",
    "#ph_lg=${lg:l}\n",
    "#if test \"$lg\" = 'fr'; then\n",
    "#  ph_lg='fr-fr'\n",
    "#elif test \"$lg\" = 'en'; then\n",
    "#  ph_lg='en-us'\n",
    "#elif test \"$lg\" = 'pt'; then\n",
    "#  ph_lg='pt-br'\n",
    "#fi\n",
    "ph_lg=\"sv\"\n",
    "\n",
    "echo $lg\n",
    "echo $ph_lg\n",
    "echo $text_path\n",
    "echo $target_dir\n",
    "\n",
    "mkdir -p $target_dir\n",
    "#python normalize_and_filter_text.py --lang $lg < $text_path | grep -v '\\-\\-\\-' >! $target_dir/lm.upper.lid.txt\n",
    "#python $FAIRSEQ_ROOT/fairseq_cli/preprocess.py --dataset-impl mmap --trainpref $target_dir/lm.upper.lid.txt --only-source --destdir $target_dir --thresholdsrc 2 --padding-factor 1 --dict-only\n",
    "#cut -f1 -d' ' $target_dir/dict.txt | grep -v -x '[[:punct:]]*' | grep -Pv '\\d\\d\\d\\d\\d+' >! $target_dir/words.txt\n",
    "cp /kaggle/input/wav2vec-u-cv-swedish-audio/train.wrd $target_dir/lm.upper.lid.txt\n",
    "cut -f1 -d' ' /kaggle/input/wav2vec-u-cv-swedish-audio/dict.train >! $target_dir/words.txt\n",
    "\n",
    "#one=$(echo \"1\" | PHONEMIZER_ESPEAK_PATH=$(which espeak) phonemize -p ' ' -w '' -l $ph_lg --language-switch remove-flags)\n",
    "#sed 's/$/ 1/' $target_dir/words.txt | PHONEMIZER_ESPEAK_PATH=$(which espeak) phonemize -o $target_dir/phones.txt -p ' ' -w '' -l $ph_lg -j 70 --language-switch remove-flags\n",
    "cut -f2- -d' ' /kaggle/input/wav2vec-u-cv-swedish-audio/dict.train >! $target_dir/phones.txt\n",
    "\n",
    "#echo \"one is ${one}\"\n",
    "\n",
    "#sed -i \"s/${one}$//\" $target_dir/phones.txt\n",
    "#paste $target_dir/words.txt $target_dir/phones.txt >! $target_dir/lexicon.lst\n",
    "cp /kaggle/input/wav2vec-u-cv-swedish-audio/dict.train $target_dir/lexicon.lst\n",
    "\n",
    "#python $FAIRSEQ_ROOT/fairseq_cli/preprocess.py --dataset-impl mmap --trainpref $target_dir/phones.txt --only-source --destdir $target_dir/phones --thresholdsrc 1000 --padding-factor 1 --dict-only\n",
    "python $FAIRSEQ_ROOT/fairseq_cli/preprocess.py --dataset-impl mmap --trainpref $target_dir/phones.txt --only-source --destdir $target_dir/phones --thresholdsrc 2 --padding-factor 1 --dict-only\n",
    "\n",
    "python filter_lexicon.py -d $target_dir/phones/dict.txt < $target_dir/lexicon.lst >! $target_dir/lexicon_filtered.lst\n",
    "python phonemize_with_sil.py -s 0.25 --surround --lexicon $target_dir/lexicon_filtered.lst < $target_dir/lm.upper.lid.txt >! $target_dir/phones/lm.phones.filtered.txt\n",
    "cp $target_dir/phones/dict.txt $target_dir/phones/dict.phn.txt\n",
    "echo \"<SIL> 0\" >> $target_dir/phones/dict.phn.txt\n",
    "python $FAIRSEQ_ROOT/fairseq_cli/preprocess.py --dataset-impl mmap --trainpref $target_dir/phones/lm.phones.filtered.txt --workers 70 --only-source --destdir $target_dir/phones --srcdict $target_dir/phones/dict.phn.txt\n",
    "\n",
    "lmplz -o 4 < $target_dir/lm.upper.lid.txt --discount_fallback --prune 0 0 0 3 >! $target_dir/kenlm.wrd.o40003.arpa\n",
    "build_binary $target_dir/kenlm.wrd.o40003.arpa $target_dir/kenlm.wrd.o40003.bin\n",
    "lg=$lg python $FAIRSEQ_ROOT/examples/speech_recognition/kaldi/kaldi_initializer.py fst_dir=$target_dir/fst/phn_to_words_sil lm_arpa=$target_dir/kenlm.wrd.o40003.arpa wav2letter_lexicon=$target_dir/lexicon_filtered.lst data_dir=$target_dir/phones \"blank_symbol='<SIL>'\" \"in_labels='phn_to_words_sil'\" \"kaldi_root='/opt/kaldi'\"\n",
    "lg=$lg python $FAIRSEQ_ROOT/examples/speech_recognition/kaldi/kaldi_initializer.py fst_dir=$target_dir/fst/phn_to_words lm_arpa=$target_dir/kenlm.wrd.o40003.arpa wav2letter_lexicon=$target_dir/lexicon_filtered.lst data_dir=$target_dir/phones  \"in_labels='phn_to_words'\" \"kaldi_root='/opt/kaldi'\"\n",
    "\n",
    "lmplz -o 4 < $target_dir/phones/lm.phones.filtered.txt --discount_fallback >! $target_dir/phones/lm.phones.filtered.04.arpa\n",
    "build_binary -s $target_dir/phones/lm.phones.filtered.04.arpa $target_dir/phones/lm.phones.filtered.04.bin\n",
    "lmplz -o 6 < $target_dir/phones/lm.phones.filtered.txt --discount_fallback >! $target_dir/phones/lm.phones.filtered.06.arpa\n",
    "build_binary -s $target_dir/phones/lm.phones.filtered.06.arpa $target_dir/phones/lm.phones.filtered.06.bin\n",
    "\n",
    "lg=$lg python $FAIRSEQ_ROOT/examples/speech_recognition/kaldi/kaldi_initializer.py fst_dir=$target_dir/fst/phn_to_phn_sil lm_arpa=$target_dir/phones/lm.phones.filtered.06.arpa data_dir=$target_dir/phones \"blank_symbol='<SIL>'\" \"in_labels='phn_to_phn_sil'\" \"kaldi_root='/opt/kaldi'\""
   ]
  },
  {
   "cell_type": "code",
   "execution_count": 22,
   "id": "featured-vienna",
   "metadata": {
    "execution": {
     "iopub.execute_input": "2021-05-30T14:18:40.509195Z",
     "iopub.status.busy": "2021-05-30T14:18:40.508530Z",
     "iopub.status.idle": "2021-05-30T14:19:07.850292Z",
     "shell.execute_reply": "2021-05-30T14:19:07.849768Z",
     "shell.execute_reply.started": "2021-05-25T23:28:33.84656Z"
    },
    "papermill": {
     "duration": 27.407339,
     "end_time": "2021-05-30T14:19:07.850454",
     "exception": false,
     "start_time": "2021-05-30T14:18:40.443115",
     "status": "completed"
    },
    "tags": []
   },
   "outputs": [
    {
     "name": "stdout",
     "output_type": "stream",
     "text": [
      "sv\r\n",
      "sv\r\n",
      "/kaggle/working/sentences.txt\r\n",
      "/kaggle/working/preppedtext\r\n",
      "=== 1/5 Counting and sorting n-grams ===\r\n",
      "Reading /kaggle/working/preppedtext/lm.upper.lid.txt\r\n",
      "----5---10---15---20---25---30---35---40---45---50---55---60---65---70---75---80---85---90---95--100\r\n",
      "****************************************************************************************************\r\n",
      "Unigram tokens 14359 types 3160\r\n",
      "=== 2/5 Calculating and sorting adjusted counts ===\r\n",
      "Chain sizes: 1:37920 2:2571431424 3:4821433856 4:7714294272\r\n",
      "Statistics:\r\n",
      "1 3160 D1=0.722623 D2=1.14413 D3+=1.45956\r\n",
      "2 10285 D1=0.848104 D2=1.2466 D3+=1.46191\r\n",
      "3 12632 D1=0.943362 D2=1.24166 D3+=1.32723\r\n",
      "4 19/11699 D1=0.970399 D2=1.4843 D3+=2.12351\r\n",
      "Memory estimate for binary LM:\r\n",
      "type     kB\r\n",
      "probing 617 assuming -p 1.5\r\n",
      "probing 764 assuming -r models -p 1.5\r\n",
      "trie    309 without quantization\r\n",
      "trie    182 assuming -q 8 -b 8 quantization \r\n",
      "trie    293 assuming -a 22 array pointer compression\r\n",
      "trie    166 assuming -a 22 -q 8 -b 8 array pointer compression and quantization\r\n",
      "=== 3/5 Calculating and sorting initial probabilities ===\r\n",
      "Chain sizes: 1:37920 2:164560 3:252640 4:456\r\n",
      "----5---10---15---20---25---30---35---40---45---50---55---60---65---70---75---80---85---90---95--100\r\n",
      "####################################################################################################\r\n",
      "=== 4/5 Calculating and writing order-interpolated probabilities ===\r\n",
      "Chain sizes: 1:37920 2:164560 3:252640 4:456\r\n",
      "----5---10---15---20---25---30---35---40---45---50---55---60---65---70---75---80---85---90---95--100\r\n",
      "####################################################################################################\r\n",
      "=== 5/5 Writing ARPA model ===\r\n",
      "----5---10---15---20---25---30---35---40---45---50---55---60---65---70---75---80---85---90---95--100\r\n",
      "****************************************************************************************************\r\n",
      "Name:lmplz\tVmPeak:14916876 kB\tVmRSS:6408 kB\tRSSMax:2975208 kB\tuser:0.461265\tsys:3.2849\tCPU:3.74625\treal:3.79803\r\n",
      "Reading /kaggle/working/preppedtext/kenlm.wrd.o40003.arpa\r\n",
      "----5---10---15---20---25---30---35---40---45---50---55---60---65---70---75---80---85---90---95--100\r\n",
      "****************************************************************************************************\r\n",
      "SUCCESS\r\n",
      "Traceback (most recent call last):\r\n",
      "  File \"/tmp/fairseq/examples/speech_recognition/kaldi/kaldi_initializer.py\", line 698, in <module>\r\n",
      "    cli_main()\r\n",
      "  File \"/opt/conda/lib/python3.7/site-packages/hydra/main.py\", line 37, in decorated_main\r\n",
      "    strict=strict,\r\n",
      "  File \"/opt/conda/lib/python3.7/site-packages/hydra/_internal/utils.py\", line 347, in _run_hydra\r\n",
      "    lambda: hydra.run(\r\n",
      "  File \"/opt/conda/lib/python3.7/site-packages/hydra/_internal/utils.py\", line 201, in run_and_report\r\n",
      "    raise ex\r\n",
      "  File \"/opt/conda/lib/python3.7/site-packages/hydra/_internal/utils.py\", line 198, in run_and_report\r\n",
      "    return func()\r\n",
      "  File \"/opt/conda/lib/python3.7/site-packages/hydra/_internal/utils.py\", line 350, in <lambda>\r\n",
      "    overrides=args.overrides,\r\n",
      "  File \"/opt/conda/lib/python3.7/site-packages/hydra/_internal/hydra.py\", line 104, in run\r\n",
      "    run_mode=RunMode.RUN,\r\n",
      "  File \"/opt/conda/lib/python3.7/site-packages/hydra/_internal/hydra.py\", line 505, in compose_config\r\n",
      "    self.config_loader.ensure_main_config_source_available()\r\n",
      "  File \"/opt/conda/lib/python3.7/site-packages/hydra/_internal/config_loader_impl.py\", line 139, in ensure_main_config_source_available\r\n",
      "    config_name=None, msg=msg, with_search_path=False\r\n",
      "  File \"/opt/conda/lib/python3.7/site-packages/hydra/_internal/config_loader_impl.py\", line 113, in missing_config_error\r\n",
      "    missing_cfg_file=config_name, message=add_search_path()\r\n",
      "hydra.errors.MissingConfigException: Primary config directory not found.\r\n",
      "Check that the config directory '/tmp/fairseq/examples/speech_recognition/kaldi/config' exists and readable\r\n",
      "Traceback (most recent call last):\r\n",
      "  File \"/tmp/fairseq/examples/speech_recognition/kaldi/kaldi_initializer.py\", line 698, in <module>\r\n",
      "    cli_main()\r\n",
      "  File \"/opt/conda/lib/python3.7/site-packages/hydra/main.py\", line 37, in decorated_main\r\n",
      "    strict=strict,\r\n",
      "  File \"/opt/conda/lib/python3.7/site-packages/hydra/_internal/utils.py\", line 347, in _run_hydra\r\n",
      "    lambda: hydra.run(\r\n",
      "  File \"/opt/conda/lib/python3.7/site-packages/hydra/_internal/utils.py\", line 201, in run_and_report\r\n",
      "    raise ex\r\n",
      "  File \"/opt/conda/lib/python3.7/site-packages/hydra/_internal/utils.py\", line 198, in run_and_report\r\n",
      "    return func()\r\n",
      "  File \"/opt/conda/lib/python3.7/site-packages/hydra/_internal/utils.py\", line 350, in <lambda>\r\n",
      "    overrides=args.overrides,\r\n",
      "  File \"/opt/conda/lib/python3.7/site-packages/hydra/_internal/hydra.py\", line 104, in run\r\n",
      "    run_mode=RunMode.RUN,\r\n",
      "  File \"/opt/conda/lib/python3.7/site-packages/hydra/_internal/hydra.py\", line 505, in compose_config\r\n",
      "    self.config_loader.ensure_main_config_source_available()\r\n",
      "  File \"/opt/conda/lib/python3.7/site-packages/hydra/_internal/config_loader_impl.py\", line 139, in ensure_main_config_source_available\r\n",
      "    config_name=None, msg=msg, with_search_path=False\r\n",
      "  File \"/opt/conda/lib/python3.7/site-packages/hydra/_internal/config_loader_impl.py\", line 113, in missing_config_error\r\n",
      "    missing_cfg_file=config_name, message=add_search_path()\r\n",
      "hydra.errors.MissingConfigException: Primary config directory not found.\r\n",
      "Check that the config directory '/tmp/fairseq/examples/speech_recognition/kaldi/config' exists and readable\r\n",
      "=== 1/5 Counting and sorting n-grams ===\r\n",
      "Reading /kaggle/working/preppedtext/phones/lm.phones.filtered.txt\r\n",
      "----5---10---15---20---25---30---35---40---45---50---55---60---65---70---75---80---85---90---95--100\r\n",
      "****************************************************************************************************\r\n",
      "Unigram tokens 63614 types 44\r\n",
      "=== 2/5 Calculating and sorting adjusted counts ===\r\n",
      "Chain sizes: 1:528 2:2571437824 3:4821446144 4:7714313728\r\n",
      "Substituting fallback discounts for order 0: D1=0.5 D2=1 D3+=1.5\r\n",
      "Statistics:\r\n",
      "1 44 D1=0.5 D2=1 D3+=1.5\r\n",
      "2 1052 D1=0.450549 D2=0.702418 D3+=1.6859\r\n",
      "3 8534 D1=0.554361 D2=1.19153 D3+=1.4731\r\n",
      "4 23101 D1=0.645163 D2=1.12242 D3+=1.61246\r\n",
      "Memory estimate for binary LM:\r\n",
      "type     kB\r\n",
      "probing 631 assuming -p 1.5\r\n",
      "probing 688 assuming -r models -p 1.5\r\n",
      "trie    203 without quantization\r\n",
      "trie     88 assuming -q 8 -b 8 quantization \r\n",
      "trie    196 assuming -a 22 array pointer compression\r\n",
      "trie     81 assuming -a 22 -q 8 -b 8 array pointer compression and quantization\r\n",
      "=== 3/5 Calculating and sorting initial probabilities ===\r\n",
      "Chain sizes: 1:528 2:16832 3:170680 4:554424\r\n",
      "----5---10---15---20---25---30---35---40---45---50---55---60---65---70---75---80---85---90---95--100\r\n",
      "####################################################################################################\r\n",
      "=== 4/5 Calculating and writing order-interpolated probabilities ===\r\n",
      "Chain sizes: 1:528 2:16832 3:170680 4:554424\r\n",
      "----5---10---15---20---25---30---35---40---45---50---55---60---65---70---75---80---85---90---95--100\r\n",
      "####################################################################################################\r\n",
      "=== 5/5 Writing ARPA model ===\r\n",
      "----5---10---15---20---25---30---35---40---45---50---55---60---65---70---75---80---85---90---95--100\r\n",
      "****************************************************************************************************\r\n",
      "Name:lmplz\tVmPeak:14916784 kB\tVmRSS:6768 kB\tRSSMax:2973872 kB\tuser:0.427439\tsys:1.77087\tCPU:2.19836\treal:2.19703\r\n",
      "Reading /kaggle/working/preppedtext/phones/lm.phones.filtered.04.arpa\r\n",
      "----5---10---15---20---25---30---35---40---45---50---55---60---65---70---75---80---85---90---95--100\r\n",
      "****************************************************************************************************\r\n",
      "SUCCESS\r\n",
      "=== 1/5 Counting and sorting n-grams ===\r\n",
      "Reading /kaggle/working/preppedtext/phones/lm.phones.filtered.txt\r\n",
      "----5---10---15---20---25---30---35---40---45---50---55---60---65---70---75---80---85---90---95--100\r\n",
      "****************************************************************************************************\r\n",
      "Unigram tokens 63614 types 44\r\n",
      "=== 2/5 Calculating and sorting adjusted counts ===\r\n",
      "Chain sizes: 1:528 2:929673728 3:1743138176 4:2789021184 5:4067322624 6:5578042368\r\n",
      "Substituting fallback discounts for order 0: D1=0.5 D2=1 D3+=1.5\r\n",
      "Statistics:\r\n",
      "1 44 D1=0.5 D2=1 D3+=1.5\r\n",
      "2 1052 D1=0.450549 D2=0.702418 D3+=1.6859\r\n",
      "3 8534 D1=0.554361 D2=1.19153 D3+=1.4731\r\n",
      "4 23101 D1=0.708072 D2=1.2222 D3+=1.61289\r\n",
      "5 35926 D1=0.822712 D2=1.32856 D3+=1.58392\r\n",
      "6 43651 D1=0.83421 D2=1.26066 D3+=1.5764\r\n",
      "Memory estimate for binary LM:\r\n",
      "type      kB\r\n",
      "probing 2376 assuming -p 1.5\r\n",
      "probing 2778 assuming -r models -p 1.5\r\n",
      "trie     908 without quantization\r\n",
      "trie     401 assuming -q 8 -b 8 quantization \r\n",
      "trie     839 assuming -a 22 array pointer compression\r\n",
      "trie     332 assuming -a 22 -q 8 -b 8 array pointer compression and quantization\r\n",
      "=== 3/5 Calculating and sorting initial probabilities ===\r\n",
      "Chain sizes: 1:528 2:16832 3:170680 4:554424 5:1005928 6:1396832\r\n",
      "----5---10---15---20---25---30---35---40---45---50---55---60---65---70---75---80---85---90---95--100\r\n",
      "####################################################################################################\r\n",
      "=== 4/5 Calculating and writing order-interpolated probabilities ===\r\n",
      "Chain sizes: 1:528 2:16832 3:170680 4:554424 5:1005928 6:1396832\r\n",
      "----5---10---15---20---25---30---35---40---45---50---55---60---65---70---75---80---85---90---95--100\r\n",
      "####################################################################################################\r\n",
      "=== 5/5 Writing ARPA model ===\r\n",
      "----5---10---15---20---25---30---35---40---45---50---55---60---65---70---75---80---85---90---95--100\r\n",
      "****************************************************************************************************\r\n",
      "Name:lmplz\tVmPeak:14949572 kB\tVmRSS:6460 kB\tRSSMax:2354500 kB\tuser:0.482869\tsys:1.22007\tCPU:1.70299\treal:1.66587\r\n",
      "Reading /kaggle/working/preppedtext/phones/lm.phones.filtered.06.arpa\r\n",
      "----5---10---15---20---25---30---35---40---45---50---55---60---65---70---75---80---85---90---95--100\r\n",
      "****************************************************************************************************\r\n",
      "SUCCESS\r\n",
      "Traceback (most recent call last):\r\n",
      "  File \"/tmp/fairseq/examples/speech_recognition/kaldi/kaldi_initializer.py\", line 698, in <module>\r\n",
      "    cli_main()\r\n",
      "  File \"/opt/conda/lib/python3.7/site-packages/hydra/main.py\", line 37, in decorated_main\r\n",
      "    strict=strict,\r\n",
      "  File \"/opt/conda/lib/python3.7/site-packages/hydra/_internal/utils.py\", line 347, in _run_hydra\r\n",
      "    lambda: hydra.run(\r\n",
      "  File \"/opt/conda/lib/python3.7/site-packages/hydra/_internal/utils.py\", line 201, in run_and_report\r\n",
      "    raise ex\r\n",
      "  File \"/opt/conda/lib/python3.7/site-packages/hydra/_internal/utils.py\", line 198, in run_and_report\r\n",
      "    return func()\r\n",
      "  File \"/opt/conda/lib/python3.7/site-packages/hydra/_internal/utils.py\", line 350, in <lambda>\r\n",
      "    overrides=args.overrides,\r\n",
      "  File \"/opt/conda/lib/python3.7/site-packages/hydra/_internal/hydra.py\", line 104, in run\r\n",
      "    run_mode=RunMode.RUN,\r\n",
      "  File \"/opt/conda/lib/python3.7/site-packages/hydra/_internal/hydra.py\", line 505, in compose_config\r\n",
      "    self.config_loader.ensure_main_config_source_available()\r\n",
      "  File \"/opt/conda/lib/python3.7/site-packages/hydra/_internal/config_loader_impl.py\", line 139, in ensure_main_config_source_available\r\n",
      "    config_name=None, msg=msg, with_search_path=False\r\n",
      "  File \"/opt/conda/lib/python3.7/site-packages/hydra/_internal/config_loader_impl.py\", line 113, in missing_config_error\r\n",
      "    missing_cfg_file=config_name, message=add_search_path()\r\n",
      "hydra.errors.MissingConfigException: Primary config directory not found.\r\n",
      "Check that the config directory '/tmp/fairseq/examples/speech_recognition/kaldi/config' exists and readable\r\n"
     ]
    }
   ],
   "source": [
    "!zsh prepare_text.sh sv /kaggle/working/sentences.txt /kaggle/working/preppedtext"
   ]
  }
 ],
 "metadata": {
  "kernelspec": {
   "display_name": "Python 3",
   "language": "python",
   "name": "python3"
  },
  "language_info": {
   "codemirror_mode": {
    "name": "ipython",
    "version": 3
   },
   "file_extension": ".py",
   "mimetype": "text/x-python",
   "name": "python",
   "nbconvert_exporter": "python",
   "pygments_lexer": "ipython3",
   "version": "3.7.10"
  },
  "papermill": {
   "default_parameters": {},
   "duration": 281.96862,
   "end_time": "2021-05-30T14:19:09.694530",
   "environment_variables": {},
   "exception": null,
   "input_path": "__notebook__.ipynb",
   "output_path": "__notebook__.ipynb",
   "parameters": {},
   "start_time": "2021-05-30T14:14:27.725910",
   "version": "2.3.3"
  }
 },
 "nbformat": 4,
 "nbformat_minor": 5
}
