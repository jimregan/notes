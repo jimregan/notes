{
 "cells": [
  {
   "cell_type": "code",
   "execution_count": 1,
   "id": "cheap-wyoming",
   "metadata": {
    "_cell_guid": "b1076dfc-b9ad-4769-8c92-a6c4dae69d19",
    "_uuid": "8f2839f25d086af736a60e9eeb907d3b93b6e0e5",
    "execution": {
     "iopub.execute_input": "2021-05-25T23:29:37.496122Z",
     "iopub.status.busy": "2021-05-25T23:29:37.495302Z",
     "iopub.status.idle": "2021-05-25T23:29:37.503010Z",
     "shell.execute_reply": "2021-05-25T23:29:37.503417Z",
     "shell.execute_reply.started": "2021-05-25T22:46:58.262403Z"
    },
    "papermill": {
     "duration": 0.023009,
     "end_time": "2021-05-25T23:29:37.503639",
     "exception": false,
     "start_time": "2021-05-25T23:29:37.480630",
     "status": "completed"
    },
    "tags": []
   },
   "outputs": [
    {
     "name": "stdout",
     "output_type": "stream",
     "text": [
      "/tmp\n"
     ]
    }
   ],
   "source": [
    "%cd /tmp"
   ]
  },
  {
   "cell_type": "code",
   "execution_count": 2,
   "id": "immediate-ballot",
   "metadata": {
    "execution": {
     "iopub.execute_input": "2021-05-25T23:29:37.544002Z",
     "iopub.status.busy": "2021-05-25T23:29:37.543523Z",
     "iopub.status.idle": "2021-05-25T23:29:40.310301Z",
     "shell.execute_reply": "2021-05-25T23:29:40.309379Z",
     "shell.execute_reply.started": "2021-05-25T22:38:20.218298Z"
    },
    "papermill": {
     "duration": 2.794635,
     "end_time": "2021-05-25T23:29:40.310453",
     "exception": false,
     "start_time": "2021-05-25T23:29:37.515818",
     "status": "completed"
    },
    "tags": []
   },
   "outputs": [
    {
     "name": "stdout",
     "output_type": "stream",
     "text": [
      "Cloning into 'fairseq'...\r\n",
      "remote: Enumerating objects: 28093, done.\u001b[K\r\n",
      "remote: Counting objects: 100% (514/514), done.\u001b[K\r\n",
      "remote: Compressing objects: 100% (306/306), done.\u001b[K\r\n",
      "remote: Total 28093 (delta 251), reused 393 (delta 197), pack-reused 27579\u001b[K\r\n",
      "Receiving objects: 100% (28093/28093), 11.83 MiB | 16.68 MiB/s, done.\r\n",
      "Resolving deltas: 100% (21070/21070), done.\r\n"
     ]
    }
   ],
   "source": [
    "!git clone https://github.com/pytorch/fairseq/"
   ]
  },
  {
   "cell_type": "code",
   "execution_count": 3,
   "id": "absolute-refund",
   "metadata": {
    "execution": {
     "iopub.execute_input": "2021-05-25T23:29:40.368272Z",
     "iopub.status.busy": "2021-05-25T23:29:40.367677Z",
     "iopub.status.idle": "2021-05-25T23:29:48.980953Z",
     "shell.execute_reply": "2021-05-25T23:29:48.980543Z"
    },
    "papermill": {
     "duration": 8.64475,
     "end_time": "2021-05-25T23:29:48.981078",
     "exception": false,
     "start_time": "2021-05-25T23:29:40.336328",
     "status": "completed"
    },
    "tags": []
   },
   "outputs": [],
   "source": [
    "%%capture\n",
    "!pip install phonemizer"
   ]
  },
  {
   "cell_type": "code",
   "execution_count": 4,
   "id": "alternative-designer",
   "metadata": {
    "execution": {
     "iopub.execute_input": "2021-05-25T23:29:49.022557Z",
     "iopub.status.busy": "2021-05-25T23:29:49.022097Z",
     "iopub.status.idle": "2021-05-25T23:30:40.137860Z",
     "shell.execute_reply": "2021-05-25T23:30:40.137324Z"
    },
    "papermill": {
     "duration": 51.139597,
     "end_time": "2021-05-25T23:30:40.137965",
     "exception": false,
     "start_time": "2021-05-25T23:29:48.998368",
     "status": "completed"
    },
    "tags": []
   },
   "outputs": [],
   "source": [
    "%%capture\n",
    "!pip install git+https://github.com/pytorch/fairseq/"
   ]
  },
  {
   "cell_type": "code",
   "execution_count": 5,
   "id": "atlantic-politics",
   "metadata": {
    "execution": {
     "iopub.execute_input": "2021-05-25T23:30:40.179696Z",
     "iopub.status.busy": "2021-05-25T23:30:40.177032Z",
     "iopub.status.idle": "2021-05-25T23:30:44.804353Z",
     "shell.execute_reply": "2021-05-25T23:30:44.803933Z"
    },
    "papermill": {
     "duration": 4.649111,
     "end_time": "2021-05-25T23:30:44.804474",
     "exception": false,
     "start_time": "2021-05-25T23:30:40.155363",
     "status": "completed"
    },
    "tags": []
   },
   "outputs": [],
   "source": [
    "%%capture\n",
    "!apt-get -y install espeak"
   ]
  },
  {
   "cell_type": "code",
   "execution_count": 6,
   "id": "resistant-determination",
   "metadata": {
    "execution": {
     "iopub.execute_input": "2021-05-25T23:30:44.844091Z",
     "iopub.status.busy": "2021-05-25T23:30:44.843625Z",
     "iopub.status.idle": "2021-05-25T23:30:46.698241Z",
     "shell.execute_reply": "2021-05-25T23:30:46.697814Z",
     "shell.execute_reply.started": "2021-05-25T22:47:02.096238Z"
    },
    "papermill": {
     "duration": 1.876955,
     "end_time": "2021-05-25T23:30:46.698369",
     "exception": false,
     "start_time": "2021-05-25T23:30:44.821414",
     "status": "completed"
    },
    "tags": []
   },
   "outputs": [
    {
     "name": "stdout",
     "output_type": "stream",
     "text": [
      "Cloning into 'kenlm'...\r\n",
      "remote: Enumerating objects: 13824, done.\u001b[K\r\n",
      "remote: Counting objects: 100% (137/137), done.\u001b[K\r\n",
      "remote: Compressing objects: 100% (79/79), done.\u001b[K\r\n",
      "remote: Total 13824 (delta 76), reused 92 (delta 45), pack-reused 13687\u001b[K\r\n",
      "Receiving objects: 100% (13824/13824), 5.49 MiB | 8.48 MiB/s, done.\r\n",
      "Resolving deltas: 100% (7956/7956), done.\r\n"
     ]
    }
   ],
   "source": [
    "!git clone https://github.com/kpu/kenlm"
   ]
  },
  {
   "cell_type": "code",
   "execution_count": 7,
   "id": "empirical-queen",
   "metadata": {
    "execution": {
     "iopub.execute_input": "2021-05-25T23:30:46.754232Z",
     "iopub.status.busy": "2021-05-25T23:30:46.750876Z",
     "iopub.status.idle": "2021-05-25T23:30:50.026264Z",
     "shell.execute_reply": "2021-05-25T23:30:50.025778Z"
    },
    "papermill": {
     "duration": 3.305244,
     "end_time": "2021-05-25T23:30:50.026366",
     "exception": false,
     "start_time": "2021-05-25T23:30:46.721122",
     "status": "completed"
    },
    "tags": []
   },
   "outputs": [],
   "source": [
    "%%capture\n",
    "!apt-get -y install libeigen3-dev liblzma-dev zlib1g-dev libbz2-dev"
   ]
  },
  {
   "cell_type": "code",
   "execution_count": 8,
   "id": "seasonal-relative",
   "metadata": {
    "execution": {
     "iopub.execute_input": "2021-05-25T23:30:50.078524Z",
     "iopub.status.busy": "2021-05-25T23:30:50.078042Z",
     "iopub.status.idle": "2021-05-25T23:31:40.614260Z",
     "shell.execute_reply": "2021-05-25T23:31:40.613846Z"
    },
    "papermill": {
     "duration": 50.566239,
     "end_time": "2021-05-25T23:31:40.614367",
     "exception": false,
     "start_time": "2021-05-25T23:30:50.048128",
     "status": "completed"
    },
    "tags": []
   },
   "outputs": [],
   "source": [
    "%%capture\n",
    "%cd kenlm\n",
    "!mkdir build\n",
    "%cd build\n",
    "!cmake ..\n",
    "!make -j 4\n",
    "%cd /tmp"
   ]
  },
  {
   "cell_type": "code",
   "execution_count": 9,
   "id": "actual-depth",
   "metadata": {
    "execution": {
     "iopub.execute_input": "2021-05-25T23:31:40.663509Z",
     "iopub.status.busy": "2021-05-25T23:31:40.662848Z",
     "iopub.status.idle": "2021-05-25T23:31:40.665176Z",
     "shell.execute_reply": "2021-05-25T23:31:40.664681Z",
     "shell.execute_reply.started": "2021-05-25T22:58:58.397816Z"
    },
    "papermill": {
     "duration": 0.028517,
     "end_time": "2021-05-25T23:31:40.665316",
     "exception": false,
     "start_time": "2021-05-25T23:31:40.636799",
     "status": "completed"
    },
    "tags": []
   },
   "outputs": [],
   "source": [
    "import os\n",
    "os.environ['PATH'] = f\"{os.environ['PATH']}:/tmp/kenlm/build/bin/\"\n",
    "os.environ['FAIRSEQ_ROOT'] = '/tmp/fairseq'"
   ]
  },
  {
   "cell_type": "code",
   "execution_count": 10,
   "id": "changing-shuttle",
   "metadata": {
    "execution": {
     "iopub.execute_input": "2021-05-25T23:31:40.739265Z",
     "iopub.status.busy": "2021-05-25T23:31:40.737041Z",
     "iopub.status.idle": "2021-05-25T23:31:41.053439Z",
     "shell.execute_reply": "2021-05-25T23:31:41.052750Z",
     "shell.execute_reply.started": "2021-05-25T22:55:06.647826Z"
    },
    "papermill": {
     "duration": 0.35503,
     "end_time": "2021-05-25T23:31:41.053568",
     "exception": false,
     "start_time": "2021-05-25T23:31:40.698538",
     "status": "completed"
    },
    "tags": []
   },
   "outputs": [],
   "source": [
    "!cat /kaggle/input/download-common-voice-swedish/cv-corpus-6.1-2020-12-11/sv-SE/test.tsv /kaggle/input/download-common-voice-swedish/cv-corpus-6.1-2020-12-11/sv-SE/dev.tsv /kaggle/input/download-common-voice-swedish/cv-corpus-6.1-2020-12-11/sv-SE/train.tsv | awk -F'\\t' '{print $3}'|grep -v '^sentence$' | sort| uniq > /kaggle/working/sentences.txt\n"
   ]
  },
  {
   "cell_type": "code",
   "execution_count": 11,
   "id": "extra-cooling",
   "metadata": {
    "execution": {
     "iopub.execute_input": "2021-05-25T23:31:41.124987Z",
     "iopub.status.busy": "2021-05-25T23:31:41.124443Z",
     "iopub.status.idle": "2021-05-25T23:31:41.128899Z",
     "shell.execute_reply": "2021-05-25T23:31:41.129540Z",
     "shell.execute_reply.started": "2021-05-25T22:55:38.373919Z"
    },
    "papermill": {
     "duration": 0.042773,
     "end_time": "2021-05-25T23:31:41.129694",
     "exception": false,
     "start_time": "2021-05-25T23:31:41.086921",
     "status": "completed"
    },
    "tags": []
   },
   "outputs": [
    {
     "name": "stdout",
     "output_type": "stream",
     "text": [
      "/tmp/fairseq/examples/wav2vec/unsupervised\n"
     ]
    }
   ],
   "source": [
    "%cd fairseq/examples/wav2vec/unsupervised"
   ]
  },
  {
   "cell_type": "code",
   "execution_count": 12,
   "id": "transparent-spotlight",
   "metadata": {
    "execution": {
     "iopub.execute_input": "2021-05-25T23:31:41.182508Z",
     "iopub.status.busy": "2021-05-25T23:31:41.182003Z",
     "iopub.status.idle": "2021-05-25T23:31:44.504543Z",
     "shell.execute_reply": "2021-05-25T23:31:44.504113Z"
    },
    "papermill": {
     "duration": 3.352102,
     "end_time": "2021-05-25T23:31:44.504647",
     "exception": false,
     "start_time": "2021-05-25T23:31:41.152545",
     "status": "completed"
    },
    "tags": []
   },
   "outputs": [
    {
     "name": "stdout",
     "output_type": "stream",
     "text": [
      "\r\n",
      "\r\n",
      "\r\n",
      "The following additional packages will be installed:\r\n",
      "  libcap2 zsh-common\r\n",
      "Suggested packages:\r\n",
      "  zsh-doc\r\n",
      "The following NEW packages will be installed:\r\n",
      "  libcap2 zsh zsh-common\r\n",
      "0 upgraded, 3 newly installed, 0 to remove and 15 not upgraded.\r\n",
      "Need to get 4079 kB of archives.\r\n",
      "After this operation, 15.2 MB of additional disk space will be used.\r\n",
      "Get:1 http://archive.ubuntu.com/ubuntu bionic/main amd64 libcap2 amd64 1:2.25-1.2 [13.0 kB]\r\n",
      "Get:2 http://archive.ubuntu.com/ubuntu bionic-updates/main amd64 zsh-common all 5.4.2-3ubuntu3.1 [3376 kB]\r\n",
      "Get:3 http://archive.ubuntu.com/ubuntu bionic-updates/main amd64 zsh amd64 5.4.2-3ubuntu3.1 [690 kB]\r\n",
      "Fetched 4079 kB in 0s (16.0 MB/s)\r\n",
      "debconf: delaying package configuration, since apt-utils is not installed\r\n",
      "Selecting previously unselected package libcap2:amd64.\r\n",
      "(Reading database ... 96266 files and directories currently installed.)\r\n",
      "Preparing to unpack .../libcap2_1%3a2.25-1.2_amd64.deb ...\r\n",
      "Unpacking libcap2:amd64 (1:2.25-1.2) ...\r\n",
      "Selecting previously unselected package zsh-common.\r\n",
      "Preparing to unpack .../zsh-common_5.4.2-3ubuntu3.1_all.deb ...\r\n",
      "Unpacking zsh-common (5.4.2-3ubuntu3.1) ...\r\n",
      "Selecting previously unselected package zsh.\r\n",
      "Preparing to unpack .../zsh_5.4.2-3ubuntu3.1_amd64.deb ...\r\n",
      "Unpacking zsh (5.4.2-3ubuntu3.1) ...\r\n",
      "Setting up libcap2:amd64 (1:2.25-1.2) ...\r\n",
      "Setting up zsh-common (5.4.2-3ubuntu3.1) ...\r\n",
      "Setting up zsh (5.4.2-3ubuntu3.1) ...\r\n",
      "Processing triggers for libc-bin (2.27-3ubuntu1.4) ...\r\n"
     ]
    }
   ],
   "source": [
    "!apt-get -y install zsh"
   ]
  },
  {
   "cell_type": "code",
   "execution_count": 13,
   "id": "impossible-hotel",
   "metadata": {
    "execution": {
     "iopub.execute_input": "2021-05-25T23:31:44.565928Z",
     "iopub.status.busy": "2021-05-25T23:31:44.565284Z",
     "iopub.status.idle": "2021-05-25T23:31:44.844276Z",
     "shell.execute_reply": "2021-05-25T23:31:44.843787Z",
     "shell.execute_reply.started": "2021-05-25T22:58:19.000595Z"
    },
    "papermill": {
     "duration": 0.311192,
     "end_time": "2021-05-25T23:31:44.844381",
     "exception": false,
     "start_time": "2021-05-25T23:31:44.533189",
     "status": "completed"
    },
    "tags": []
   },
   "outputs": [],
   "source": [
    "!mkdir /kaggle/working/preppedtext"
   ]
  },
  {
   "cell_type": "code",
   "execution_count": 14,
   "id": "heavy-object",
   "metadata": {
    "execution": {
     "iopub.execute_input": "2021-05-25T23:31:44.907361Z",
     "iopub.status.busy": "2021-05-25T23:31:44.906924Z",
     "iopub.status.idle": "2021-05-25T23:31:44.911164Z",
     "shell.execute_reply": "2021-05-25T23:31:44.911660Z",
     "shell.execute_reply.started": "2021-05-25T23:04:33.014800Z"
    },
    "papermill": {
     "duration": 0.038537,
     "end_time": "2021-05-25T23:31:44.911794",
     "exception": false,
     "start_time": "2021-05-25T23:31:44.873257",
     "status": "completed"
    },
    "tags": []
   },
   "outputs": [
    {
     "name": "stdout",
     "output_type": "stream",
     "text": [
      "/tmp/fairseq/examples/wav2vec/unsupervised/scripts\n"
     ]
    }
   ],
   "source": [
    "%cd scripts"
   ]
  },
  {
   "cell_type": "markdown",
   "id": "industrial-fight",
   "metadata": {
    "papermill": {
     "duration": 0.028919,
     "end_time": "2021-05-25T23:31:44.970470",
     "exception": false,
     "start_time": "2021-05-25T23:31:44.941551",
     "status": "completed"
    },
    "tags": []
   },
   "source": [
    "The next part requires a FastText language id model; I don't know where the 187 language model comes from, but there is a model for 176 languages [here](https://fasttext.cc/docs/en/language-identification.html#content)"
   ]
  },
  {
   "cell_type": "code",
   "execution_count": 15,
   "id": "floppy-audio",
   "metadata": {
    "execution": {
     "iopub.execute_input": "2021-05-25T23:31:45.029807Z",
     "iopub.status.busy": "2021-05-25T23:31:45.029370Z",
     "iopub.status.idle": "2021-05-25T23:31:58.282901Z",
     "shell.execute_reply": "2021-05-25T23:31:58.282508Z",
     "shell.execute_reply.started": "2021-05-25T23:26:05.700782Z"
    },
    "papermill": {
     "duration": 13.284086,
     "end_time": "2021-05-25T23:31:58.283007",
     "exception": false,
     "start_time": "2021-05-25T23:31:44.998921",
     "status": "completed"
    },
    "tags": []
   },
   "outputs": [
    {
     "name": "stdout",
     "output_type": "stream",
     "text": [
      "--2021-05-25 23:31:45--  https://dl.fbaipublicfiles.com/fasttext/supervised-models/lid.176.bin\r\n",
      "Resolving dl.fbaipublicfiles.com (dl.fbaipublicfiles.com)... 172.67.9.4, 104.22.74.142, 104.22.75.142, ...\r\n",
      "Connecting to dl.fbaipublicfiles.com (dl.fbaipublicfiles.com)|172.67.9.4|:443... connected.\r\n",
      "HTTP request sent, awaiting response... 200 OK\r\n",
      "Length: 131266198 (125M) [application/octet-stream]\r\n",
      "Saving to: ‘lid.176.bin’\r\n",
      "\r\n",
      "lid.176.bin         100%[===================>] 125.18M  11.6MB/s    in 12s     \r\n",
      "\r\n",
      "2021-05-25 23:31:58 (10.4 MB/s) - ‘lid.176.bin’ saved [131266198/131266198]\r\n",
      "\r\n"
     ]
    }
   ],
   "source": [
    "!wget https://dl.fbaipublicfiles.com/fasttext/supervised-models/lid.176.bin"
   ]
  },
  {
   "cell_type": "code",
   "execution_count": 16,
   "id": "accepting-buddy",
   "metadata": {
    "execution": {
     "iopub.execute_input": "2021-05-25T23:31:58.368383Z",
     "iopub.status.busy": "2021-05-25T23:31:58.367946Z",
     "iopub.status.idle": "2021-05-25T23:31:58.893253Z",
     "shell.execute_reply": "2021-05-25T23:31:58.892762Z",
     "shell.execute_reply.started": "2021-05-25T23:28:29.362953Z"
    },
    "papermill": {
     "duration": 0.570405,
     "end_time": "2021-05-25T23:31:58.893358",
     "exception": false,
     "start_time": "2021-05-25T23:31:58.322953",
     "status": "completed"
    },
    "tags": []
   },
   "outputs": [],
   "source": [
    "!cat normalize_and_filter_text.py|sed -e 's/187/176/' > tmp\n",
    "!mv tmp normalize_and_filter_text.py"
   ]
  },
  {
   "cell_type": "code",
   "execution_count": 17,
   "id": "diverse-margin",
   "metadata": {
    "execution": {
     "iopub.execute_input": "2021-05-25T23:31:58.977304Z",
     "iopub.status.busy": "2021-05-25T23:31:58.974878Z",
     "iopub.status.idle": "2021-05-25T23:32:40.190883Z",
     "shell.execute_reply": "2021-05-25T23:32:40.190210Z",
     "shell.execute_reply.started": "2021-05-25T23:28:33.846560Z"
    },
    "papermill": {
     "duration": 41.258772,
     "end_time": "2021-05-25T23:32:40.190988",
     "exception": false,
     "start_time": "2021-05-25T23:31:58.932216",
     "status": "completed"
    },
    "tags": []
   },
   "outputs": [
    {
     "name": "stdout",
     "output_type": "stream",
     "text": [
      "sv\r\n",
      "sv\r\n",
      "/kaggle/working/sentences.txt\r\n",
      "/kaggle/working/preppedtext\r\n",
      "Warning : `load_model` does not return WordVectorModel or SupervisedModel any more, but a `FastText` object which is very similar.\r\n",
      "one is ɛ t \r\n",
      "Traceback (most recent call last):\r\n",
      "  File \"/tmp/fairseq/fairseq_cli/preprocess.py\", line 401, in <module>\r\n",
      "    cli_main()\r\n",
      "  File \"/tmp/fairseq/fairseq_cli/preprocess.py\", line 397, in cli_main\r\n",
      "    main(args)\r\n",
      "  File \"/tmp/fairseq/fairseq_cli/preprocess.py\", line 287, in main\r\n",
      "    make_all(args.source_lang, src_dict)\r\n",
      "  File \"/tmp/fairseq/fairseq_cli/preprocess.py\", line 255, in make_all\r\n",
      "    make_dataset(vocab, args.trainpref, \"train\", lang, num_workers=args.workers)\r\n",
      "  File \"/tmp/fairseq/fairseq_cli/preprocess.py\", line 251, in make_dataset\r\n",
      "    make_binary_dataset(vocab, input_prefix, output_prefix, lang, num_workers)\r\n",
      "  File \"/tmp/fairseq/fairseq_cli/preprocess.py\", line 184, in make_binary_dataset\r\n",
      "    100 * sum(replaced.values()) / n_seq_tok[1],\r\n",
      "ZeroDivisionError: division by zero\r\n",
      "=== 1/5 Counting and sorting n-grams ===\r\n",
      "Reading /kaggle/working/preppedtext/lm.upper.lid.txt\r\n",
      "----5---10---15---20---25---30---35---40---45---50---55---60---65---70---75---80---85---90---95--100\r\n",
      "****************************************************************************************************\r\n",
      "Unigram tokens 34550 types 5721\r\n",
      "=== 2/5 Calculating and sorting adjusted counts ===\r\n",
      "Chain sizes: 1:68652 2:2571426304 3:4821424128 4:7714278912\r\n",
      "Statistics:\r\n",
      "1 5721 D1=0.727743 D2=1.05798 D3+=1.51705\r\n",
      "2 21020 D1=0.836942 D2=1.15049 D3+=1.44609\r\n",
      "3 28370 D1=0.928023 D2=1.32011 D3+=1.13662\r\n",
      "4 106/27237 D1=0.957232 D2=1.36725 D3+=1.73351\r\n",
      "Memory estimate for binary LM:\r\n",
      "type      kB\r\n",
      "probing 1304 assuming -p 1.5\r\n",
      "probing 1616 assuming -r models -p 1.5\r\n",
      "trie     655 without quantization\r\n",
      "trie     377 assuming -q 8 -b 8 quantization \r\n",
      "trie     612 assuming -a 22 array pointer compression\r\n",
      "trie     334 assuming -a 22 -q 8 -b 8 array pointer compression and quantization\r\n",
      "=== 3/5 Calculating and sorting initial probabilities ===\r\n",
      "Chain sizes: 1:68652 2:336320 3:567400 4:2544\r\n",
      "----5---10---15---20---25---30---35---40---45---50---55---60---65---70---75---80---85---90---95--100\r\n",
      "####################################################################################################\r\n",
      "=== 4/5 Calculating and writing order-interpolated probabilities ===\r\n",
      "Chain sizes: 1:68652 2:336320 3:567400 4:2544\r\n",
      "----5---10---15---20---25---30---35---40---45---50---55---60---65---70---75---80---85---90---95--100\r\n",
      "####################################################################################################\r\n",
      "=== 5/5 Writing ARPA model ===\r\n",
      "----5---10---15---20---25---30---35---40---45---50---55---60---65---70---75---80---85---90---95--100\r\n",
      "****************************************************************************************************\r\n",
      "Name:lmplz\tVmPeak:14916936 kB\tVmRSS:7240 kB\tRSSMax:2975664 kB\tuser:0.210098\tsys:0.76267\tCPU:0.972897\treal:0.959981\r\n",
      "Reading /kaggle/working/preppedtext/kenlm.wrd.o40003.arpa\r\n",
      "----5---10---15---20---25---30---35---40---45---50---55---60---65---70---75---80---85---90---95--100\r\n",
      "****************************************************************************************************\r\n",
      "SUCCESS\r\n",
      "python: can't open file 'examples/speech_recognition/kaldi/kaldi_initializer.py': [Errno 2] No such file or directory\r\n",
      "python: can't open file 'examples/speech_recognition/kaldi/kaldi_initializer.py': [Errno 2] No such file or directory\r\n",
      "=== 1/5 Counting and sorting n-grams ===\r\n",
      "Reading /kaggle/working/preppedtext/phones/lm.phones.filtered.txt\r\n",
      "----5---10---15---20---25---30---35---40---45---50---55---60---65---70---75---80---85---90---95--100\r\n",
      "Unigram tokens 0 types 3\r\n",
      "=== 2/5 Calculating and sorting adjusted counts ===\r\n",
      "Chain sizes: 1:36 2:2571437824 3:4821446144 4:7714313728\r\n",
      "Substituting fallback discounts for order 0: D1=0.5 D2=1 D3+=1.5\r\n",
      "Substituting fallback discounts for order 1: D1=0.5 D2=1 D3+=1.5\r\n",
      "Substituting fallback discounts for order 2: D1=0.5 D2=1 D3+=1.5\r\n",
      "Substituting fallback discounts for order 3: D1=0.5 D2=1 D3+=1.5\r\n",
      "Statistics:\r\n",
      "1 2 D1=0.5 D2=1 D3+=1.5\r\n",
      "2 0 D1=0.5 D2=1 D3+=1.5\r\n",
      "3 0 D1=0.5 D2=1 D3+=1.5\r\n",
      "4 0 D1=0.5 D2=1 D3+=1.5\r\n",
      "Memory estimate for binary LM:\r\n",
      "type       B\r\n",
      "probing  112 assuming -p 1.5\r\n",
      "probing  132 assuming -r models -p 1.5\r\n",
      "trie     135 without quantization\r\n",
      "trie    5248 assuming -q 8 -b 8 quantization \r\n",
      "trie     181 assuming -a 22 array pointer compression\r\n",
      "trie    5294 assuming -a 22 -q 8 -b 8 array pointer compression and quantization\r\n",
      "=== 3/5 Calculating and sorting initial probabilities ===\r\n",
      "Chain sizes: 1:24 2:16 3:20 4:24\r\n",
      "----5---10---15---20---25---30---35---40---45---50---55---60---65---70---75---80---85---90---95--100\r\n",
      "\r\n",
      "=== 4/5 Calculating and writing order-interpolated probabilities ===\r\n",
      "Chain sizes: 1:24 2:16 3:20 4:24\r\n",
      "----5---10---15---20---25---30---35---40---45---50---55---60---65---70---75---80---85---90---95--100\r\n",
      "\r\n",
      "=== 5/5 Writing ARPA model ===\r\n",
      "----5---10---15---20---25---30---35---40---45---50---55---60---65---70---75---80---85---90---95--100\r\n",
      "\r\n",
      "Name:lmplz\tVmPeak:14917784 kB\tVmRSS:6072 kB\tRSSMax:2956996 kB\tuser:0.143503\tsys:0.70659\tCPU:0.850165\treal:0.859675\r\n",
      "Reading /kaggle/working/preppedtext/phones/lm.phones.filtered.04.arpa\r\n",
      "----5---10---15---20---25---30---35---40---45---50---55---60---65---70---75---80---85---90---95--100\r\n",
      "****************************************************************************************************\r\n",
      "/tmp/kenlm/lm/vocab.cc:305 in void lm::ngram::MissingSentenceMarker(const lm::ngram::Config&, const char*) threw SpecialWordMissingException.\r\n",
      "The ARPA file is missing </s> and the model is configured to reject these models.  Run build_binary -s to disable this check. Byte: 76\r\n",
      "ERROR\r\n",
      "=== 1/5 Counting and sorting n-grams ===\r\n",
      "Reading /kaggle/working/preppedtext/phones/lm.phones.filtered.txt\r\n",
      "----5---10---15---20---25---30---35---40---45---50---55---60---65---70---75---80---85---90---95--100\r\n",
      "Unigram tokens 0 types 3\r\n",
      "=== 2/5 Calculating and sorting adjusted counts ===\r\n",
      "Chain sizes: 1:36 2:929673728 3:1743138176 4:2789021184 5:4067322624 6:5578042368\r\n",
      "Substituting fallback discounts for order 0: D1=0.5 D2=1 D3+=1.5\r\n",
      "Substituting fallback discounts for order 1: D1=0.5 D2=1 D3+=1.5\r\n",
      "Substituting fallback discounts for order 2: D1=0.5 D2=1 D3+=1.5\r\n",
      "Substituting fallback discounts for order 3: D1=0.5 D2=1 D3+=1.5\r\n",
      "Substituting fallback discounts for order 4: D1=0.5 D2=1 D3+=1.5\r\n",
      "Substituting fallback discounts for order 5: D1=0.5 D2=1 D3+=1.5\r\n",
      "Statistics:\r\n",
      "1 2 D1=0.5 D2=1 D3+=1.5\r\n",
      "2 0 D1=0.5 D2=1 D3+=1.5\r\n",
      "3 0 D1=0.5 D2=1 D3+=1.5\r\n",
      "4 0 D1=0.5 D2=1 D3+=1.5\r\n",
      "5 0 D1=0.5 D2=1 D3+=1.5\r\n",
      "6 0 D1=0.5 D2=1 D3+=1.5\r\n",
      "Memory estimate for binary LM:\r\n",
      "type       B\r\n",
      "probing  144 assuming -p 1.5\r\n",
      "probing  172 assuming -r models -p 1.5\r\n",
      "trie     169 without quantization\r\n",
      "trie    9366 assuming -q 8 -b 8 quantization \r\n",
      "trie     261 assuming -a 22 array pointer compression\r\n",
      "trie    9458 assuming -a 22 -q 8 -b 8 array pointer compression and quantization\r\n",
      "=== 3/5 Calculating and sorting initial probabilities ===\r\n",
      "Chain sizes: 1:24 2:16 3:20 4:24 5:28 6:32\r\n",
      "----5---10---15---20---25---30---35---40---45---50---55---60---65---70---75---80---85---90---95--100\r\n",
      "\r\n",
      "=== 4/5 Calculating and writing order-interpolated probabilities ===\r\n",
      "Chain sizes: 1:24 2:16 3:20 4:24 5:28 6:32\r\n",
      "----5---10---15---20---25---30---35---40---45---50---55---60---65---70---75---80---85---90---95--100\r\n",
      "\r\n",
      "=== 5/5 Writing ARPA model ===\r\n",
      "----5---10---15---20---25---30---35---40---45---50---55---60---65---70---75---80---85---90---95--100\r\n",
      "\r\n",
      "Name:lmplz\tVmPeak:14949572 kB\tVmRSS:6020 kB\tRSSMax:2336864 kB\tuser:0.132076\tsys:0.554287\tCPU:0.686408\treal:0.695792\r\n",
      "Reading /kaggle/working/preppedtext/phones/lm.phones.filtered.06.arpa\r\n",
      "----5---10---15---20---25---30---35---40---45---50---55---60---65---70---75---80---85---90---95--100\r\n",
      "****************************************************************************************************\r\n",
      "/tmp/kenlm/lm/vocab.cc:305 in void lm::ngram::MissingSentenceMarker(const lm::ngram::Config&, const char*) threw SpecialWordMissingException.\r\n",
      "The ARPA file is missing </s> and the model is configured to reject these models.  Run build_binary -s to disable this check. Byte: 96\r\n",
      "ERROR\r\n",
      "Primary config directory not found.\r\n",
      "Check that the config directory '/tmp/fairseq/examples/speech_recognition/kaldi/config' exists and readable\r\n",
      "\r\n",
      "Set the environment variable HYDRA_FULL_ERROR=1 for a complete stack trace.\r\n"
     ]
    }
   ],
   "source": [
    "!zsh prepare_text.sh sv /kaggle/working/sentences.txt /kaggle/working/preppedtext"
   ]
  }
 ],
 "metadata": {
  "kernelspec": {
   "display_name": "Python 3",
   "language": "python",
   "name": "python3"
  },
  "language_info": {
   "codemirror_mode": {
    "name": "ipython",
    "version": 3
   },
   "file_extension": ".py",
   "mimetype": "text/x-python",
   "name": "python",
   "nbconvert_exporter": "python",
   "pygments_lexer": "ipython3",
   "version": "3.7.10"
  },
  "papermill": {
   "default_parameters": {},
   "duration": 189.599407,
   "end_time": "2021-05-25T23:32:40.847517",
   "environment_variables": {},
   "exception": null,
   "input_path": "__notebook__.ipynb",
   "output_path": "__notebook__.ipynb",
   "parameters": {},
   "start_time": "2021-05-25T23:29:31.248110",
   "version": "2.3.3"
  }
 },
 "nbformat": 4,
 "nbformat_minor": 5
}
