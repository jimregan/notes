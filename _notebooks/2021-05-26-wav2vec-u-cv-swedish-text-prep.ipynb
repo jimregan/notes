{
 "cells": [
  {
   "cell_type": "code",
   "execution_count": 1,
   "id": "continuing-dimension",
   "metadata": {
    "_cell_guid": "b1076dfc-b9ad-4769-8c92-a6c4dae69d19",
    "_uuid": "8f2839f25d086af736a60e9eeb907d3b93b6e0e5",
    "execution": {
     "iopub.execute_input": "2021-05-29T20:55:06.225556Z",
     "iopub.status.busy": "2021-05-29T20:55:06.224389Z",
     "iopub.status.idle": "2021-05-29T20:55:06.235800Z",
     "shell.execute_reply": "2021-05-29T20:55:06.236261Z",
     "shell.execute_reply.started": "2021-05-25T22:46:58.262403Z"
    },
    "papermill": {
     "duration": 0.035369,
     "end_time": "2021-05-29T20:55:06.236560",
     "exception": false,
     "start_time": "2021-05-29T20:55:06.201191",
     "status": "completed"
    },
    "tags": []
   },
   "outputs": [
    {
     "name": "stdout",
     "output_type": "stream",
     "text": [
      "/opt\n"
     ]
    }
   ],
   "source": [
    "%cd /opt"
   ]
  },
  {
   "cell_type": "code",
   "execution_count": 2,
   "id": "human-western",
   "metadata": {
    "execution": {
     "iopub.execute_input": "2021-05-29T20:55:06.291072Z",
     "iopub.status.busy": "2021-05-29T20:55:06.279818Z",
     "iopub.status.idle": "2021-05-29T20:55:52.478465Z",
     "shell.execute_reply": "2021-05-29T20:55:52.477874Z"
    },
    "papermill": {
     "duration": 46.223061,
     "end_time": "2021-05-29T20:55:52.478632",
     "exception": false,
     "start_time": "2021-05-29T20:55:06.255571",
     "status": "completed"
    },
    "tags": []
   },
   "outputs": [],
   "source": [
    "%%capture\n",
    "!tar xvf /kaggle/input/extract-prebuilt-kaldi-from-docker/kaldi.tar"
   ]
  },
  {
   "cell_type": "code",
   "execution_count": 3,
   "id": "proprietary-delta",
   "metadata": {
    "execution": {
     "iopub.execute_input": "2021-05-29T20:55:52.523941Z",
     "iopub.status.busy": "2021-05-29T20:55:52.523099Z",
     "iopub.status.idle": "2021-05-29T20:55:52.526921Z",
     "shell.execute_reply": "2021-05-29T20:55:52.527499Z"
    },
    "papermill": {
     "duration": 0.028654,
     "end_time": "2021-05-29T20:55:52.527669",
     "exception": false,
     "start_time": "2021-05-29T20:55:52.499015",
     "status": "completed"
    },
    "tags": []
   },
   "outputs": [
    {
     "name": "stdout",
     "output_type": "stream",
     "text": [
      "/tmp\n"
     ]
    }
   ],
   "source": [
    "%cd /tmp"
   ]
  },
  {
   "cell_type": "code",
   "execution_count": 4,
   "id": "generous-translation",
   "metadata": {
    "execution": {
     "iopub.execute_input": "2021-05-29T20:55:52.575480Z",
     "iopub.status.busy": "2021-05-29T20:55:52.571307Z",
     "iopub.status.idle": "2021-05-29T20:55:57.684438Z",
     "shell.execute_reply": "2021-05-29T20:55:57.683124Z",
     "shell.execute_reply.started": "2021-05-25T22:38:20.218298Z"
    },
    "papermill": {
     "duration": 5.137113,
     "end_time": "2021-05-29T20:55:57.684643",
     "exception": false,
     "start_time": "2021-05-29T20:55:52.547530",
     "status": "completed"
    },
    "tags": []
   },
   "outputs": [
    {
     "name": "stdout",
     "output_type": "stream",
     "text": [
      "Cloning into 'fairseq'...\r\n",
      "remote: Enumerating objects: 28172, done.\u001b[K\r\n",
      "remote: Counting objects: 100% (586/586), done.\u001b[K\r\n",
      "remote: Compressing objects: 100% (337/337), done.\u001b[K\r\n",
      "remote: Total 28172 (delta 308), reused 464 (delta 236), pack-reused 27586\u001b[K\r\n",
      "Receiving objects: 100% (28172/28172), 11.87 MiB | 8.22 MiB/s, done.\r\n",
      "Resolving deltas: 100% (21131/21131), done.\r\n"
     ]
    }
   ],
   "source": [
    "!git clone https://github.com/pytorch/fairseq/"
   ]
  },
  {
   "cell_type": "code",
   "execution_count": 5,
   "id": "connected-repository",
   "metadata": {
    "execution": {
     "iopub.execute_input": "2021-05-29T20:55:57.775421Z",
     "iopub.status.busy": "2021-05-29T20:55:57.774447Z",
     "iopub.status.idle": "2021-05-29T20:56:12.230442Z",
     "shell.execute_reply": "2021-05-29T20:56:12.229904Z"
    },
    "papermill": {
     "duration": 14.506753,
     "end_time": "2021-05-29T20:56:12.230591",
     "exception": false,
     "start_time": "2021-05-29T20:55:57.723838",
     "status": "completed"
    },
    "tags": []
   },
   "outputs": [],
   "source": [
    "%%capture\n",
    "!pip install phonemizer"
   ]
  },
  {
   "cell_type": "code",
   "execution_count": 6,
   "id": "secret-amendment",
   "metadata": {
    "execution": {
     "iopub.execute_input": "2021-05-29T20:56:12.299780Z",
     "iopub.status.busy": "2021-05-29T20:56:12.299034Z",
     "iopub.status.idle": "2021-05-29T20:57:13.554075Z",
     "shell.execute_reply": "2021-05-29T20:57:13.554615Z"
    },
    "papermill": {
     "duration": 61.294883,
     "end_time": "2021-05-29T20:57:13.554799",
     "exception": false,
     "start_time": "2021-05-29T20:56:12.259916",
     "status": "completed"
    },
    "tags": []
   },
   "outputs": [],
   "source": [
    "%%capture\n",
    "!pip install git+https://github.com/pytorch/fairseq/"
   ]
  },
  {
   "cell_type": "code",
   "execution_count": 7,
   "id": "banner-juice",
   "metadata": {
    "execution": {
     "iopub.execute_input": "2021-05-29T20:57:13.616616Z",
     "iopub.status.busy": "2021-05-29T20:57:13.615966Z",
     "iopub.status.idle": "2021-05-29T20:57:21.511328Z",
     "shell.execute_reply": "2021-05-29T20:57:21.510789Z"
    },
    "papermill": {
     "duration": 7.927364,
     "end_time": "2021-05-29T20:57:21.511477",
     "exception": false,
     "start_time": "2021-05-29T20:57:13.584113",
     "status": "completed"
    },
    "tags": []
   },
   "outputs": [],
   "source": [
    "%%capture\n",
    "!apt-get -y install espeak"
   ]
  },
  {
   "cell_type": "code",
   "execution_count": 8,
   "id": "accepted-employee",
   "metadata": {
    "execution": {
     "iopub.execute_input": "2021-05-29T20:57:21.573404Z",
     "iopub.status.busy": "2021-05-29T20:57:21.572773Z",
     "iopub.status.idle": "2021-05-29T20:57:25.181760Z",
     "shell.execute_reply": "2021-05-29T20:57:25.181224Z",
     "shell.execute_reply.started": "2021-05-25T22:47:02.096238Z"
    },
    "papermill": {
     "duration": 3.640815,
     "end_time": "2021-05-29T20:57:25.181902",
     "exception": false,
     "start_time": "2021-05-29T20:57:21.541087",
     "status": "completed"
    },
    "tags": []
   },
   "outputs": [
    {
     "name": "stdout",
     "output_type": "stream",
     "text": [
      "Cloning into 'kenlm'...\r\n",
      "remote: Enumerating objects: 13824, done.\u001b[K\r\n",
      "remote: Counting objects: 100% (137/137), done.\u001b[K\r\n",
      "remote: Compressing objects: 100% (79/79), done.\u001b[K\r\n",
      "remote: Total 13824 (delta 76), reused 92 (delta 45), pack-reused 13687\u001b[K\r\n",
      "Receiving objects: 100% (13824/13824), 5.49 MiB | 4.29 MiB/s, done.\r\n",
      "Resolving deltas: 100% (7956/7956), done.\r\n"
     ]
    }
   ],
   "source": [
    "!git clone https://github.com/kpu/kenlm"
   ]
  },
  {
   "cell_type": "code",
   "execution_count": 9,
   "id": "statistical-institution",
   "metadata": {
    "execution": {
     "iopub.execute_input": "2021-05-29T20:57:25.257587Z",
     "iopub.status.busy": "2021-05-29T20:57:25.256917Z",
     "iopub.status.idle": "2021-05-29T20:57:31.521678Z",
     "shell.execute_reply": "2021-05-29T20:57:31.521131Z"
    },
    "papermill": {
     "duration": 6.304129,
     "end_time": "2021-05-29T20:57:31.521866",
     "exception": false,
     "start_time": "2021-05-29T20:57:25.217737",
     "status": "completed"
    },
    "tags": []
   },
   "outputs": [],
   "source": [
    "%%capture\n",
    "!apt-get -y install libeigen3-dev liblzma-dev zlib1g-dev libbz2-dev"
   ]
  },
  {
   "cell_type": "code",
   "execution_count": 10,
   "id": "taken-confusion",
   "metadata": {
    "execution": {
     "iopub.execute_input": "2021-05-29T20:57:31.603534Z",
     "iopub.status.busy": "2021-05-29T20:57:31.602868Z",
     "iopub.status.idle": "2021-05-29T20:58:41.527161Z",
     "shell.execute_reply": "2021-05-29T20:58:41.526419Z"
    },
    "papermill": {
     "duration": 69.970133,
     "end_time": "2021-05-29T20:58:41.527343",
     "exception": false,
     "start_time": "2021-05-29T20:57:31.557210",
     "status": "completed"
    },
    "tags": []
   },
   "outputs": [],
   "source": [
    "%%capture\n",
    "%cd kenlm\n",
    "!mkdir build\n",
    "%cd build\n",
    "!cmake ..\n",
    "!make -j 4\n",
    "%cd /tmp"
   ]
  },
  {
   "cell_type": "code",
   "execution_count": 11,
   "id": "finished-jungle",
   "metadata": {
    "execution": {
     "iopub.execute_input": "2021-05-29T20:58:41.602972Z",
     "iopub.status.busy": "2021-05-29T20:58:41.602360Z",
     "iopub.status.idle": "2021-05-29T20:58:41.605432Z",
     "shell.execute_reply": "2021-05-29T20:58:41.604829Z",
     "shell.execute_reply.started": "2021-05-25T22:58:58.397816Z"
    },
    "papermill": {
     "duration": 0.042758,
     "end_time": "2021-05-29T20:58:41.605561",
     "exception": false,
     "start_time": "2021-05-29T20:58:41.562803",
     "status": "completed"
    },
    "tags": []
   },
   "outputs": [],
   "source": [
    "import os\n",
    "os.environ['PATH'] = f\"{os.environ['PATH']}:/tmp/kenlm/build/bin/\"\n",
    "os.environ['FAIRSEQ_ROOT'] = '/tmp/fairseq'"
   ]
  },
  {
   "cell_type": "code",
   "execution_count": 12,
   "id": "political-garden",
   "metadata": {
    "execution": {
     "iopub.execute_input": "2021-05-29T20:58:41.686931Z",
     "iopub.status.busy": "2021-05-29T20:58:41.686242Z",
     "iopub.status.idle": "2021-05-29T20:58:42.483561Z",
     "shell.execute_reply": "2021-05-29T20:58:42.482862Z",
     "shell.execute_reply.started": "2021-05-25T22:55:06.647826Z"
    },
    "papermill": {
     "duration": 0.842275,
     "end_time": "2021-05-29T20:58:42.483706",
     "exception": false,
     "start_time": "2021-05-29T20:58:41.641431",
     "status": "completed"
    },
    "tags": []
   },
   "outputs": [],
   "source": [
    "!cat /kaggle/input/wav2vec-u-cv-swedish-audio/*.wrd | grep -v '^$' | sort| uniq > /kaggle/working/sentences.txt\n"
   ]
  },
  {
   "cell_type": "code",
   "execution_count": 13,
   "id": "armed-silicon",
   "metadata": {
    "execution": {
     "iopub.execute_input": "2021-05-29T20:58:42.561239Z",
     "iopub.status.busy": "2021-05-29T20:58:42.560462Z",
     "iopub.status.idle": "2021-05-29T20:58:42.565563Z",
     "shell.execute_reply": "2021-05-29T20:58:42.564889Z",
     "shell.execute_reply.started": "2021-05-25T22:55:38.373919Z"
    },
    "papermill": {
     "duration": 0.046741,
     "end_time": "2021-05-29T20:58:42.565728",
     "exception": false,
     "start_time": "2021-05-29T20:58:42.518987",
     "status": "completed"
    },
    "tags": []
   },
   "outputs": [
    {
     "name": "stdout",
     "output_type": "stream",
     "text": [
      "/tmp/fairseq/examples/wav2vec/unsupervised\n"
     ]
    }
   ],
   "source": [
    "%cd fairseq/examples/wav2vec/unsupervised"
   ]
  },
  {
   "cell_type": "code",
   "execution_count": 14,
   "id": "hidden-plaintiff",
   "metadata": {
    "execution": {
     "iopub.execute_input": "2021-05-29T20:58:42.649977Z",
     "iopub.status.busy": "2021-05-29T20:58:42.648849Z",
     "iopub.status.idle": "2021-05-29T20:58:49.201957Z",
     "shell.execute_reply": "2021-05-29T20:58:49.201391Z"
    },
    "papermill": {
     "duration": 6.600284,
     "end_time": "2021-05-29T20:58:49.202095",
     "exception": false,
     "start_time": "2021-05-29T20:58:42.601811",
     "status": "completed"
    },
    "tags": []
   },
   "outputs": [],
   "source": [
    "%%capture\n",
    "!apt-get -y install zsh"
   ]
  },
  {
   "cell_type": "code",
   "execution_count": 15,
   "id": "complete-capacity",
   "metadata": {
    "execution": {
     "iopub.execute_input": "2021-05-29T20:58:49.279826Z",
     "iopub.status.busy": "2021-05-29T20:58:49.279173Z",
     "iopub.status.idle": "2021-05-29T20:58:50.008051Z",
     "shell.execute_reply": "2021-05-29T20:58:50.007524Z",
     "shell.execute_reply.started": "2021-05-25T22:58:19.000595Z"
    },
    "papermill": {
     "duration": 0.768381,
     "end_time": "2021-05-29T20:58:50.008196",
     "exception": false,
     "start_time": "2021-05-29T20:58:49.239815",
     "status": "completed"
    },
    "tags": []
   },
   "outputs": [],
   "source": [
    "!mkdir /kaggle/working/preppedtext"
   ]
  },
  {
   "cell_type": "code",
   "execution_count": 16,
   "id": "compressed-orchestra",
   "metadata": {
    "execution": {
     "iopub.execute_input": "2021-05-29T20:58:50.086531Z",
     "iopub.status.busy": "2021-05-29T20:58:50.085687Z",
     "iopub.status.idle": "2021-05-29T20:58:50.090316Z",
     "shell.execute_reply": "2021-05-29T20:58:50.091302Z",
     "shell.execute_reply.started": "2021-05-25T23:04:33.0148Z"
    },
    "papermill": {
     "duration": 0.04733,
     "end_time": "2021-05-29T20:58:50.091583",
     "exception": false,
     "start_time": "2021-05-29T20:58:50.044253",
     "status": "completed"
    },
    "tags": []
   },
   "outputs": [
    {
     "name": "stdout",
     "output_type": "stream",
     "text": [
      "/tmp/fairseq/examples/wav2vec/unsupervised/scripts\n"
     ]
    }
   ],
   "source": [
    "%cd scripts"
   ]
  },
  {
   "cell_type": "markdown",
   "id": "photographic-constraint",
   "metadata": {
    "papermill": {
     "duration": 0.035601,
     "end_time": "2021-05-29T20:58:50.163652",
     "exception": false,
     "start_time": "2021-05-29T20:58:50.128051",
     "status": "completed"
    },
    "tags": []
   },
   "source": [
    "The next part requires a FastText language id model; I don't know where the 187 language model comes from, but there is a model for 176 languages [here](https://fasttext.cc/docs/en/language-identification.html#content)"
   ]
  },
  {
   "cell_type": "code",
   "execution_count": 17,
   "id": "derived-school",
   "metadata": {
    "execution": {
     "iopub.execute_input": "2021-05-29T20:58:50.240419Z",
     "iopub.status.busy": "2021-05-29T20:58:50.239737Z",
     "iopub.status.idle": "2021-05-29T20:59:05.686142Z",
     "shell.execute_reply": "2021-05-29T20:59:05.685613Z",
     "shell.execute_reply.started": "2021-05-25T23:26:05.700782Z"
    },
    "papermill": {
     "duration": 15.486085,
     "end_time": "2021-05-29T20:59:05.686304",
     "exception": false,
     "start_time": "2021-05-29T20:58:50.200219",
     "status": "completed"
    },
    "tags": []
   },
   "outputs": [
    {
     "name": "stdout",
     "output_type": "stream",
     "text": [
      "--2021-05-29 20:58:50--  https://dl.fbaipublicfiles.com/fasttext/supervised-models/lid.176.bin\r\n",
      "Resolving dl.fbaipublicfiles.com (dl.fbaipublicfiles.com)... 104.22.74.142, 104.22.75.142, 172.67.9.4, ...\r\n",
      "Connecting to dl.fbaipublicfiles.com (dl.fbaipublicfiles.com)|104.22.74.142|:443... connected.\r\n",
      "HTTP request sent, awaiting response... 200 OK\r\n",
      "Length: 131266198 (125M) [application/octet-stream]\r\n",
      "Saving to: ‘lid.176.bin’\r\n",
      "\r\n",
      "lid.176.bin         100%[===================>] 125.18M  11.1MB/s    in 13s     \r\n",
      "\r\n",
      "2021-05-29 20:59:05 (9.35 MB/s) - ‘lid.176.bin’ saved [131266198/131266198]\r\n",
      "\r\n"
     ]
    }
   ],
   "source": [
    "!wget https://dl.fbaipublicfiles.com/fasttext/supervised-models/lid.176.bin"
   ]
  },
  {
   "cell_type": "code",
   "execution_count": 18,
   "id": "velvet-hanging",
   "metadata": {
    "execution": {
     "iopub.execute_input": "2021-05-29T20:59:05.799109Z",
     "iopub.status.busy": "2021-05-29T20:59:05.798442Z",
     "iopub.status.idle": "2021-05-29T20:59:07.224741Z",
     "shell.execute_reply": "2021-05-29T20:59:07.224186Z",
     "shell.execute_reply.started": "2021-05-25T23:28:29.362953Z"
    },
    "papermill": {
     "duration": 1.485189,
     "end_time": "2021-05-29T20:59:07.224894",
     "exception": false,
     "start_time": "2021-05-29T20:59:05.739705",
     "status": "completed"
    },
    "tags": []
   },
   "outputs": [],
   "source": [
    "!cat normalize_and_filter_text.py|sed -e 's/187/176/' > tmp\n",
    "!mv tmp normalize_and_filter_text.py"
   ]
  },
  {
   "cell_type": "code",
   "execution_count": 19,
   "id": "adaptive-blanket",
   "metadata": {
    "execution": {
     "iopub.execute_input": "2021-05-29T20:59:07.329611Z",
     "iopub.status.busy": "2021-05-29T20:59:07.328643Z",
     "iopub.status.idle": "2021-05-29T20:59:07.331419Z",
     "shell.execute_reply": "2021-05-29T20:59:07.331854Z"
    },
    "papermill": {
     "duration": 0.05686,
     "end_time": "2021-05-29T20:59:07.332018",
     "exception": false,
     "start_time": "2021-05-29T20:59:07.275158",
     "status": "completed"
    },
    "tags": []
   },
   "outputs": [],
   "source": [
    "# Needed to see what's going wrong\n",
    "os.environ['HYDRA_FULL_ERROR'] = '1'"
   ]
  },
  {
   "cell_type": "code",
   "execution_count": 20,
   "id": "twenty-seating",
   "metadata": {
    "execution": {
     "iopub.execute_input": "2021-05-29T20:59:07.438646Z",
     "iopub.status.busy": "2021-05-29T20:59:07.437942Z",
     "iopub.status.idle": "2021-05-29T20:59:08.158983Z",
     "shell.execute_reply": "2021-05-29T20:59:08.158411Z"
    },
    "papermill": {
     "duration": 0.777909,
     "end_time": "2021-05-29T20:59:08.159132",
     "exception": false,
     "start_time": "2021-05-29T20:59:07.381223",
     "status": "completed"
    },
    "tags": []
   },
   "outputs": [],
   "source": [
    "!mkdir /tmp/fairseq/examples/speech_recognition/kaldi/config"
   ]
  },
  {
   "cell_type": "code",
   "execution_count": 21,
   "id": "satellite-substitute",
   "metadata": {
    "execution": {
     "iopub.execute_input": "2021-05-29T20:59:08.265376Z",
     "iopub.status.busy": "2021-05-29T20:59:08.264728Z",
     "iopub.status.idle": "2021-05-29T20:59:08.269557Z",
     "shell.execute_reply": "2021-05-29T20:59:08.269040Z"
    },
    "papermill": {
     "duration": 0.060802,
     "end_time": "2021-05-29T20:59:08.269752",
     "exception": false,
     "start_time": "2021-05-29T20:59:08.208950",
     "status": "completed"
    },
    "tags": []
   },
   "outputs": [
    {
     "name": "stdout",
     "output_type": "stream",
     "text": [
      "Writing /tmp/fairseq/examples/speech_recognition/kaldi/config/config.yaml\n"
     ]
    }
   ],
   "source": [
    "%%writefile /tmp/fairseq/examples/speech_recognition/kaldi/config/config.yaml\n",
    "kaldi_root: \"/opt/kaldi\""
   ]
  },
  {
   "cell_type": "markdown",
   "id": "understood-treatment",
   "metadata": {
    "papermill": {
     "duration": 0.05014,
     "end_time": "2021-05-29T20:59:08.370074",
     "exception": false,
     "start_time": "2021-05-29T20:59:08.319934",
     "status": "completed"
    },
    "tags": []
   },
   "source": [
    "There are two lines with missing variables in `prepare_text.sh` - [pull request](https://github.com/pytorch/fairseq/pull/3569) - so replace the file."
   ]
  },
  {
   "cell_type": "code",
   "execution_count": 22,
   "id": "later-uganda",
   "metadata": {
    "_kg_hide-input": true,
    "execution": {
     "iopub.execute_input": "2021-05-29T20:59:08.479048Z",
     "iopub.status.busy": "2021-05-29T20:59:08.478233Z",
     "iopub.status.idle": "2021-05-29T20:59:08.481366Z",
     "shell.execute_reply": "2021-05-29T20:59:08.481902Z"
    },
    "papermill": {
     "duration": 0.061136,
     "end_time": "2021-05-29T20:59:08.482062",
     "exception": false,
     "start_time": "2021-05-29T20:59:08.420926",
     "status": "completed"
    },
    "tags": []
   },
   "outputs": [
    {
     "name": "stdout",
     "output_type": "stream",
     "text": [
      "Overwriting prepare_text.sh\n"
     ]
    }
   ],
   "source": [
    "%%writefile prepare_text.sh\n",
    "#!/usr/bin/env zsh\n",
    "# Copyright (c) Facebook, Inc. and its affiliates.\n",
    "#\n",
    "# This source code is licensed under the MIT license found in the\n",
    "# LICENSE file in the root directory of this source tree.\n",
    "\n",
    "lg=$1\n",
    "text_path=$2\n",
    "target_dir=$3\n",
    "\n",
    "ph_lg=${lg:l}\n",
    "if test \"$lg\" = 'fr'; then\n",
    "  ph_lg='fr-fr'\n",
    "elif test \"$lg\" = 'en'; then\n",
    "  ph_lg='en-us'\n",
    "elif test \"$lg\" = 'pt'; then\n",
    "  ph_lg='pt-br'\n",
    "fi\n",
    "\n",
    "echo $lg\n",
    "echo $ph_lg\n",
    "echo $text_path\n",
    "echo $target_dir\n",
    "\n",
    "mkdir -p $target_dir\n",
    "python normalize_and_filter_text.py --lang $lg < $text_path | grep -v '\\-\\-\\-' >! $target_dir/lm.upper.lid.txt\n",
    "python $FAIRSEQ_ROOT/fairseq_cli/preprocess.py --dataset-impl mmap --trainpref $target_dir/lm.upper.lid.txt --only-source --destdir $target_dir --thresholdsrc 2 --padding-factor 1 --dict-only\n",
    "cut -f1 -d' ' $target_dir/dict.txt | grep -v -x '[[:punct:]]*' | grep -Pv '\\d\\d\\d\\d\\d+' >! $target_dir/words.txt\n",
    "\n",
    "one=$(echo \"1\" | PHONEMIZER_ESPEAK_PATH=$(which espeak) phonemize -p ' ' -w '' -l $ph_lg --language-switch remove-flags)\n",
    "sed 's/$/ 1/' $target_dir/words.txt | PHONEMIZER_ESPEAK_PATH=$(which espeak) phonemize -o $target_dir/phones.txt -p ' ' -w '' -l $ph_lg -j 70 --language-switch remove-flags\n",
    "\n",
    "echo \"one is ${one}\"\n",
    "\n",
    "sed -i \"s/${one}$//\" $target_dir/phones.txt\n",
    "paste $target_dir/words.txt $target_dir/phones.txt >! $target_dir/lexicon.lst\n",
    "\n",
    "python $FAIRSEQ_ROOT/fairseq_cli/preprocess.py --dataset-impl mmap --trainpref $target_dir/phones.txt --only-source --destdir $target_dir/phones --thresholdsrc 1000 --padding-factor 1 --dict-only\n",
    "\n",
    "python filter_lexicon.py -d $target_dir/phones/dict.txt < $target_dir/lexicon.lst >! $target_dir/lexicon_filtered.lst\n",
    "python phonemize_with_sil.py -s 0.25 --surround --lexicon $target_dir/lexicon_filtered.lst < $target_dir/lm.upper.lid.txt >! $target_dir/phones/lm.phones.filtered.txt\n",
    "cp $target_dir/phones/dict.txt $target_dir/phones/dict.phn.txt\n",
    "echo \"<SIL> 0\" >> $target_dir/phones/dict.phn.txt\n",
    "python $FAIRSEQ_ROOT/fairseq_cli/preprocess.py --dataset-impl mmap --trainpref $target_dir/phones/lm.phones.filtered.txt --workers 70 --only-source --destdir $target_dir/phones --srcdict $target_dir/phones/dict.phn.txt\n",
    "\n",
    "lmplz -o 4 < $target_dir/lm.upper.lid.txt --discount_fallback --prune 0 0 0 3 >! $target_dir/kenlm.wrd.o40003.arpa\n",
    "build_binary $target_dir/kenlm.wrd.o40003.arpa $target_dir/kenlm.wrd.o40003.bin\n",
    "lg=$lg python $FAIRSEQ_ROOT/examples/speech_recognition/kaldi/kaldi_initializer.py fst_dir=$target_dir/fst/phn_to_words_sil lm_arpa=$target_dir/kenlm.wrd.o40003.arpa wav2letter_lexicon=$target_dir/lexicon_filtered.lst data_dir=$target_dir/phones \"blank_symbol='<SIL>'\"\n",
    "lg=$lg python $FAIRSEQ_ROOT/examples/speech_recognition/kaldi/kaldi_initializer.py fst_dir=$target_dir/fst/phn_to_words lm_arpa=$target_dir/kenlm.wrd.o40003.arpa wav2letter_lexicon=$target_dir/lexicon_filtered.lst data_dir=$target_dir/phones\n",
    "\n",
    "lmplz -o 4 < $target_dir/phones/lm.phones.filtered.txt --discount_fallback >! $target_dir/phones/lm.phones.filtered.04.arpa\n",
    "build_binary $target_dir/phones/lm.phones.filtered.04.arpa $target_dir/phones/lm.phones.filtered.04.bin\n",
    "lmplz -o 6 < $target_dir/phones/lm.phones.filtered.txt --discount_fallback >! $target_dir/phones/lm.phones.filtered.06.arpa\n",
    "build_binary $target_dir/phones/lm.phones.filtered.06.arpa $target_dir/phones/lm.phones.filtered.06.bin\n",
    "\n",
    "lg=$lg python $FAIRSEQ_ROOT/examples/speech_recognition/kaldi/kaldi_initializer.py fst_dir=$target_dir/fst/phn_to_phn_sil lm_arpa=$target_dir/phones/lm.phones.filtered.06.arpa data_dir=$target_dir/phones \"blank_symbol='<SIL>'\""
   ]
  },
  {
   "cell_type": "code",
   "execution_count": 23,
   "id": "fiscal-church",
   "metadata": {
    "execution": {
     "iopub.execute_input": "2021-05-29T20:59:08.587348Z",
     "iopub.status.busy": "2021-05-29T20:59:08.586414Z",
     "iopub.status.idle": "2021-05-29T21:00:10.645785Z",
     "shell.execute_reply": "2021-05-29T21:00:10.645227Z",
     "shell.execute_reply.started": "2021-05-25T23:28:33.84656Z"
    },
    "papermill": {
     "duration": 62.112446,
     "end_time": "2021-05-29T21:00:10.645934",
     "exception": false,
     "start_time": "2021-05-29T20:59:08.533488",
     "status": "completed"
    },
    "tags": []
   },
   "outputs": [
    {
     "name": "stdout",
     "output_type": "stream",
     "text": [
      "sv\r\n",
      "sv\r\n",
      "/kaggle/working/sentences.txt\r\n",
      "/kaggle/working/preppedtext\r\n",
      "Warning : `load_model` does not return WordVectorModel or SupervisedModel any more, but a `FastText` object which is very similar.\r\n",
      "[WARNING] 1 utterances containing language switches on lines 1546\r\n",
      "[WARNING] extra phones may appear in the \"sv\" phoneset\r\n",
      "[WARNING] language switch flags have been removed (applying \"remove-flags\" policy)\r\n",
      "one is ɛ t \r\n",
      "Traceback (most recent call last):\r\n",
      "  File \"/tmp/fairseq/fairseq_cli/preprocess.py\", line 401, in <module>\r\n",
      "    cli_main()\r\n",
      "  File \"/tmp/fairseq/fairseq_cli/preprocess.py\", line 397, in cli_main\r\n",
      "    main(args)\r\n",
      "  File \"/tmp/fairseq/fairseq_cli/preprocess.py\", line 287, in main\r\n",
      "    make_all(args.source_lang, src_dict)\r\n",
      "  File \"/tmp/fairseq/fairseq_cli/preprocess.py\", line 255, in make_all\r\n",
      "    make_dataset(vocab, args.trainpref, \"train\", lang, num_workers=args.workers)\r\n",
      "  File \"/tmp/fairseq/fairseq_cli/preprocess.py\", line 251, in make_dataset\r\n",
      "    make_binary_dataset(vocab, input_prefix, output_prefix, lang, num_workers)\r\n",
      "  File \"/tmp/fairseq/fairseq_cli/preprocess.py\", line 184, in make_binary_dataset\r\n",
      "    100 * sum(replaced.values()) / n_seq_tok[1],\r\n",
      "ZeroDivisionError: division by zero\r\n",
      "=== 1/5 Counting and sorting n-grams ===\r\n",
      "Reading /kaggle/working/preppedtext/lm.upper.lid.txt\r\n",
      "----5---10---15---20---25---30---35---40---45---50---55---60---65---70---75---80---85---90---95--100\r\n",
      "****************************************************************************************************\r\n",
      "Unigram tokens 34312 types 5260\r\n",
      "=== 2/5 Calculating and sorting adjusted counts ===\r\n",
      "Chain sizes: 1:63120 2:2571427328 3:4821426176 4:7714281984\r\n",
      "Statistics:\r\n",
      "1 5260 D1=0.693271 D2=1.11217 D3+=1.57922\r\n",
      "2 20174 D1=0.81526 D2=1.18129 D3+=1.4957\r\n",
      "3 27884 D1=0.914828 D2=1.3954 D3+=1.34166\r\n",
      "4 114/27003 D1=0.954567 D2=1.40148 D3+=1.53144\r\n",
      "Memory estimate for binary LM:\r\n",
      "type      kB\r\n",
      "probing 1261 assuming -p 1.5\r\n",
      "probing 1564 assuming -r models -p 1.5\r\n",
      "trie     630 without quantization\r\n",
      "trie     359 assuming -q 8 -b 8 quantization \r\n",
      "trie     588 assuming -a 22 array pointer compression\r\n",
      "trie     317 assuming -a 22 -q 8 -b 8 array pointer compression and quantization\r\n",
      "=== 3/5 Calculating and sorting initial probabilities ===\r\n",
      "Chain sizes: 1:63120 2:322784 3:557680 4:2736\r\n",
      "----5---10---15---20---25---30---35---40---45---50---55---60---65---70---75---80---85---90---95--100\r\n",
      "####################################################################################################\r\n",
      "=== 4/5 Calculating and writing order-interpolated probabilities ===\r\n",
      "Chain sizes: 1:63120 2:322784 3:557680 4:2736\r\n",
      "----5---10---15---20---25---30---35---40---45---50---55---60---65---70---75---80---85---90---95--100\r\n",
      "####################################################################################################\r\n",
      "=== 5/5 Writing ARPA model ===\r\n",
      "----5---10---15---20---25---30---35---40---45---50---55---60---65---70---75---80---85---90---95--100\r\n",
      "****************************************************************************************************\r\n",
      "Name:lmplz\tVmPeak:14916880 kB\tVmRSS:7236 kB\tRSSMax:2975752 kB\tuser:0.477014\tsys:1.50142\tCPU:1.97857\treal:1.96774\r\n",
      "Reading /kaggle/working/preppedtext/kenlm.wrd.o40003.arpa\r\n",
      "----5---10---15---20---25---30---35---40---45---50---55---60---65---70---75---80---85---90---95--100\r\n",
      "****************************************************************************************************\r\n",
      "SUCCESS\r\n",
      "Traceback (most recent call last):\r\n",
      "  File \"/tmp/fairseq/examples/speech_recognition/kaldi/kaldi_initializer.py\", line 698, in <module>\r\n",
      "    cli_main()\r\n",
      "  File \"/opt/conda/lib/python3.7/site-packages/hydra/main.py\", line 37, in decorated_main\r\n",
      "    strict=strict,\r\n",
      "  File \"/opt/conda/lib/python3.7/site-packages/hydra/_internal/utils.py\", line 347, in _run_hydra\r\n",
      "    lambda: hydra.run(\r\n",
      "  File \"/opt/conda/lib/python3.7/site-packages/hydra/_internal/utils.py\", line 201, in run_and_report\r\n",
      "    raise ex\r\n",
      "  File \"/opt/conda/lib/python3.7/site-packages/hydra/_internal/utils.py\", line 198, in run_and_report\r\n",
      "    return func()\r\n",
      "  File \"/opt/conda/lib/python3.7/site-packages/hydra/_internal/utils.py\", line 350, in <lambda>\r\n",
      "    overrides=args.overrides,\r\n",
      "  File \"/opt/conda/lib/python3.7/site-packages/hydra/_internal/hydra.py\", line 112, in run\r\n",
      "    configure_logging=with_log_configuration,\r\n",
      "  File \"/opt/conda/lib/python3.7/site-packages/hydra/core/utils.py\", line 127, in run_job\r\n",
      "    ret.return_value = task_function(task_cfg)\r\n",
      "  File \"/tmp/fairseq/examples/speech_recognition/kaldi/kaldi_initializer.py\", line 677, in cli_main\r\n",
      "    initalize_kaldi(cfg)\r\n",
      "  File \"/tmp/fairseq/examples/speech_recognition/kaldi/kaldi_initializer.py\", line 616, in initalize_kaldi\r\n",
      "    cfg.out_labels = cfg.in_labels\r\n",
      "  File \"/opt/conda/lib/python3.7/site-packages/omegaconf/dictconfig.py\", line 305, in __getattr__\r\n",
      "    self._format_and_raise(key=key, value=None, cause=e)\r\n",
      "  File \"/opt/conda/lib/python3.7/site-packages/omegaconf/base.py\", line 101, in _format_and_raise\r\n",
      "    type_override=type_override,\r\n",
      "  File \"/opt/conda/lib/python3.7/site-packages/omegaconf/_utils.py\", line 694, in format_and_raise\r\n",
      "    _raise(ex, cause)\r\n",
      "  File \"/opt/conda/lib/python3.7/site-packages/omegaconf/_utils.py\", line 610, in _raise\r\n",
      "    raise ex  # set end OC_CAUSE=1 for full backtrace\r\n",
      "omegaconf.errors.MissingMandatoryValue: Missing mandatory value: in_labels\r\n",
      "\tfull_key: in_labels\r\n",
      "\treference_type=Optional[Dict[Union[str, Enum], Any]]\r\n",
      "\tobject_type=dict\r\n",
      "Traceback (most recent call last):\r\n",
      "  File \"/tmp/fairseq/examples/speech_recognition/kaldi/kaldi_initializer.py\", line 698, in <module>\r\n",
      "    cli_main()\r\n",
      "  File \"/opt/conda/lib/python3.7/site-packages/hydra/main.py\", line 37, in decorated_main\r\n",
      "    strict=strict,\r\n",
      "  File \"/opt/conda/lib/python3.7/site-packages/hydra/_internal/utils.py\", line 347, in _run_hydra\r\n",
      "    lambda: hydra.run(\r\n",
      "  File \"/opt/conda/lib/python3.7/site-packages/hydra/_internal/utils.py\", line 201, in run_and_report\r\n",
      "    raise ex\r\n",
      "  File \"/opt/conda/lib/python3.7/site-packages/hydra/_internal/utils.py\", line 198, in run_and_report\r\n",
      "    return func()\r\n",
      "  File \"/opt/conda/lib/python3.7/site-packages/hydra/_internal/utils.py\", line 350, in <lambda>\r\n",
      "    overrides=args.overrides,\r\n",
      "  File \"/opt/conda/lib/python3.7/site-packages/hydra/_internal/hydra.py\", line 112, in run\r\n",
      "    configure_logging=with_log_configuration,\r\n",
      "  File \"/opt/conda/lib/python3.7/site-packages/hydra/core/utils.py\", line 127, in run_job\r\n",
      "    ret.return_value = task_function(task_cfg)\r\n",
      "  File \"/tmp/fairseq/examples/speech_recognition/kaldi/kaldi_initializer.py\", line 677, in cli_main\r\n",
      "    initalize_kaldi(cfg)\r\n",
      "  File \"/tmp/fairseq/examples/speech_recognition/kaldi/kaldi_initializer.py\", line 616, in initalize_kaldi\r\n",
      "    cfg.out_labels = cfg.in_labels\r\n",
      "  File \"/opt/conda/lib/python3.7/site-packages/omegaconf/dictconfig.py\", line 305, in __getattr__\r\n",
      "    self._format_and_raise(key=key, value=None, cause=e)\r\n",
      "  File \"/opt/conda/lib/python3.7/site-packages/omegaconf/base.py\", line 101, in _format_and_raise\r\n",
      "    type_override=type_override,\r\n",
      "  File \"/opt/conda/lib/python3.7/site-packages/omegaconf/_utils.py\", line 694, in format_and_raise\r\n",
      "    _raise(ex, cause)\r\n",
      "  File \"/opt/conda/lib/python3.7/site-packages/omegaconf/_utils.py\", line 610, in _raise\r\n",
      "    raise ex  # set end OC_CAUSE=1 for full backtrace\r\n",
      "omegaconf.errors.MissingMandatoryValue: Missing mandatory value: in_labels\r\n",
      "\tfull_key: in_labels\r\n",
      "\treference_type=Optional[Dict[Union[str, Enum], Any]]\r\n",
      "\tobject_type=dict\r\n",
      "=== 1/5 Counting and sorting n-grams ===\r\n",
      "Reading /kaggle/working/preppedtext/phones/lm.phones.filtered.txt\r\n",
      "----5---10---15---20---25---30---35---40---45---50---55---60---65---70---75---80---85---90---95--100\r\n",
      "Unigram tokens 0 types 3\r\n",
      "=== 2/5 Calculating and sorting adjusted counts ===\r\n",
      "Chain sizes: 1:36 2:2571437824 3:4821446144 4:7714313728\r\n",
      "Substituting fallback discounts for order 0: D1=0.5 D2=1 D3+=1.5\r\n",
      "Substituting fallback discounts for order 1: D1=0.5 D2=1 D3+=1.5\r\n",
      "Substituting fallback discounts for order 2: D1=0.5 D2=1 D3+=1.5\r\n",
      "Substituting fallback discounts for order 3: D1=0.5 D2=1 D3+=1.5\r\n",
      "Statistics:\r\n",
      "1 2 D1=0.5 D2=1 D3+=1.5\r\n",
      "2 0 D1=0.5 D2=1 D3+=1.5\r\n",
      "3 0 D1=0.5 D2=1 D3+=1.5\r\n",
      "4 0 D1=0.5 D2=1 D3+=1.5\r\n",
      "Memory estimate for binary LM:\r\n",
      "type       B\r\n",
      "probing  112 assuming -p 1.5\r\n",
      "probing  132 assuming -r models -p 1.5\r\n",
      "trie     135 without quantization\r\n",
      "trie    5248 assuming -q 8 -b 8 quantization \r\n",
      "trie     181 assuming -a 22 array pointer compression\r\n",
      "trie    5294 assuming -a 22 -q 8 -b 8 array pointer compression and quantization\r\n",
      "=== 3/5 Calculating and sorting initial probabilities ===\r\n",
      "Chain sizes: 1:24 2:16 3:20 4:24\r\n",
      "----5---10---15---20---25---30---35---40---45---50---55---60---65---70---75---80---85---90---95--100\r\n",
      "\r\n",
      "=== 4/5 Calculating and writing order-interpolated probabilities ===\r\n",
      "Chain sizes: 1:24 2:16 3:20 4:24\r\n",
      "----5---10---15---20---25---30---35---40---45---50---55---60---65---70---75---80---85---90---95--100\r\n",
      "\r\n",
      "=== 5/5 Writing ARPA model ===\r\n",
      "----5---10---15---20---25---30---35---40---45---50---55---60---65---70---75---80---85---90---95--100\r\n",
      "\r\n",
      "Name:lmplz\tVmPeak:14916784 kB\tVmRSS:5952 kB\tRSSMax:2956996 kB\tuser:0.391655\tsys:1.42794\tCPU:1.81965\treal:1.82677\r\n",
      "Reading /kaggle/working/preppedtext/phones/lm.phones.filtered.04.arpa\r\n",
      "----5---10---15---20---25---30---35---40---45---50---55---60---65---70---75---80---85---90---95--100\r\n",
      "****************************************************************************************************\r\n",
      "/tmp/kenlm/lm/vocab.cc:305 in void lm::ngram::MissingSentenceMarker(const lm::ngram::Config&, const char*) threw SpecialWordMissingException.\r\n",
      "The ARPA file is missing </s> and the model is configured to reject these models.  Run build_binary -s to disable this check. Byte: 76\r\n",
      "ERROR\r\n",
      "=== 1/5 Counting and sorting n-grams ===\r\n",
      "Reading /kaggle/working/preppedtext/phones/lm.phones.filtered.txt\r\n",
      "----5---10---15---20---25---30---35---40---45---50---55---60---65---70---75---80---85---90---95--100\r\n",
      "Unigram tokens 0 types 3\r\n",
      "=== 2/5 Calculating and sorting adjusted counts ===\r\n",
      "Chain sizes: 1:36 2:929673728 3:1743138176 4:2789021184 5:4067322624 6:5578042368\r\n",
      "Substituting fallback discounts for order 0: D1=0.5 D2=1 D3+=1.5\r\n",
      "Substituting fallback discounts for order 1: D1=0.5 D2=1 D3+=1.5\r\n",
      "Substituting fallback discounts for order 2: D1=0.5 D2=1 D3+=1.5\r\n",
      "Substituting fallback discounts for order 3: D1=0.5 D2=1 D3+=1.5\r\n",
      "Substituting fallback discounts for order 4: D1=0.5 D2=1 D3+=1.5\r\n",
      "Substituting fallback discounts for order 5: D1=0.5 D2=1 D3+=1.5\r\n",
      "Statistics:\r\n",
      "1 2 D1=0.5 D2=1 D3+=1.5\r\n",
      "2 0 D1=0.5 D2=1 D3+=1.5\r\n",
      "3 0 D1=0.5 D2=1 D3+=1.5\r\n",
      "4 0 D1=0.5 D2=1 D3+=1.5\r\n",
      "5 0 D1=0.5 D2=1 D3+=1.5\r\n",
      "6 0 D1=0.5 D2=1 D3+=1.5\r\n",
      "Memory estimate for binary LM:\r\n",
      "type       B\r\n",
      "probing  144 assuming -p 1.5\r\n",
      "probing  172 assuming -r models -p 1.5\r\n",
      "trie     169 without quantization\r\n",
      "trie    9366 assuming -q 8 -b 8 quantization \r\n",
      "trie     261 assuming -a 22 array pointer compression\r\n",
      "trie    9458 assuming -a 22 -q 8 -b 8 array pointer compression and quantization\r\n",
      "=== 3/5 Calculating and sorting initial probabilities ===\r\n",
      "Chain sizes: 1:24 2:16 3:20 4:24 5:28 6:32\r\n",
      "----5---10---15---20---25---30---35---40---45---50---55---60---65---70---75---80---85---90---95--100\r\n",
      "\r\n",
      "=== 4/5 Calculating and writing order-interpolated probabilities ===\r\n",
      "Chain sizes: 1:24 2:16 3:20 4:24 5:28 6:32\r\n",
      "----5---10---15---20---25---30---35---40---45---50---55---60---65---70---75---80---85---90---95--100\r\n",
      "\r\n",
      "=== 5/5 Writing ARPA model ===\r\n",
      "----5---10---15---20---25---30---35---40---45---50---55---60---65---70---75---80---85---90---95--100\r\n",
      "\r\n",
      "Name:lmplz\tVmPeak:14949572 kB\tVmRSS:5984 kB\tRSSMax:2336900 kB\tuser:0.323549\tsys:1.11333\tCPU:1.43692\treal:1.44253\r\n",
      "Reading /kaggle/working/preppedtext/phones/lm.phones.filtered.06.arpa\r\n",
      "----5---10---15---20---25---30---35---40---45---50---55---60---65---70---75---80---85---90---95--100\r\n",
      "****************************************************************************************************\r\n",
      "/tmp/kenlm/lm/vocab.cc:305 in void lm::ngram::MissingSentenceMarker(const lm::ngram::Config&, const char*) threw SpecialWordMissingException.\r\n",
      "The ARPA file is missing </s> and the model is configured to reject these models.  Run build_binary -s to disable this check. Byte: 96\r\n",
      "ERROR\r\n",
      "Traceback (most recent call last):\r\n",
      "  File \"/tmp/fairseq/examples/speech_recognition/kaldi/kaldi_initializer.py\", line 698, in <module>\r\n",
      "    cli_main()\r\n",
      "  File \"/opt/conda/lib/python3.7/site-packages/hydra/main.py\", line 37, in decorated_main\r\n",
      "    strict=strict,\r\n",
      "  File \"/opt/conda/lib/python3.7/site-packages/hydra/_internal/utils.py\", line 347, in _run_hydra\r\n",
      "    lambda: hydra.run(\r\n",
      "  File \"/opt/conda/lib/python3.7/site-packages/hydra/_internal/utils.py\", line 201, in run_and_report\r\n",
      "    raise ex\r\n",
      "  File \"/opt/conda/lib/python3.7/site-packages/hydra/_internal/utils.py\", line 198, in run_and_report\r\n",
      "    return func()\r\n",
      "  File \"/opt/conda/lib/python3.7/site-packages/hydra/_internal/utils.py\", line 350, in <lambda>\r\n",
      "    overrides=args.overrides,\r\n",
      "  File \"/opt/conda/lib/python3.7/site-packages/hydra/_internal/hydra.py\", line 112, in run\r\n",
      "    configure_logging=with_log_configuration,\r\n",
      "  File \"/opt/conda/lib/python3.7/site-packages/hydra/core/utils.py\", line 127, in run_job\r\n",
      "    ret.return_value = task_function(task_cfg)\r\n",
      "  File \"/tmp/fairseq/examples/speech_recognition/kaldi/kaldi_initializer.py\", line 677, in cli_main\r\n",
      "    initalize_kaldi(cfg)\r\n",
      "  File \"/tmp/fairseq/examples/speech_recognition/kaldi/kaldi_initializer.py\", line 616, in initalize_kaldi\r\n",
      "    cfg.out_labels = cfg.in_labels\r\n",
      "  File \"/opt/conda/lib/python3.7/site-packages/omegaconf/dictconfig.py\", line 305, in __getattr__\r\n",
      "    self._format_and_raise(key=key, value=None, cause=e)\r\n",
      "  File \"/opt/conda/lib/python3.7/site-packages/omegaconf/base.py\", line 101, in _format_and_raise\r\n",
      "    type_override=type_override,\r\n",
      "  File \"/opt/conda/lib/python3.7/site-packages/omegaconf/_utils.py\", line 694, in format_and_raise\r\n",
      "    _raise(ex, cause)\r\n",
      "  File \"/opt/conda/lib/python3.7/site-packages/omegaconf/_utils.py\", line 610, in _raise\r\n",
      "    raise ex  # set end OC_CAUSE=1 for full backtrace\r\n",
      "omegaconf.errors.MissingMandatoryValue: Missing mandatory value: in_labels\r\n",
      "\tfull_key: in_labels\r\n",
      "\treference_type=Optional[Dict[Union[str, Enum], Any]]\r\n",
      "\tobject_type=dict\r\n"
     ]
    }
   ],
   "source": [
    "!zsh prepare_text.sh sv /kaggle/working/sentences.txt /kaggle/working/preppedtext"
   ]
  }
 ],
 "metadata": {
  "kernelspec": {
   "display_name": "Python 3",
   "language": "python",
   "name": "python3"
  },
  "language_info": {
   "codemirror_mode": {
    "name": "ipython",
    "version": 3
   },
   "file_extension": ".py",
   "mimetype": "text/x-python",
   "name": "python",
   "nbconvert_exporter": "python",
   "pygments_lexer": "ipython3",
   "version": "3.7.10"
  },
  "papermill": {
   "default_parameters": {},
   "duration": 314.058352,
   "end_time": "2021-05-29T21:00:11.926064",
   "environment_variables": {},
   "exception": null,
   "input_path": "__notebook__.ipynb",
   "output_path": "__notebook__.ipynb",
   "parameters": {},
   "start_time": "2021-05-29T20:54:57.867712",
   "version": "2.3.3"
  }
 },
 "nbformat": 4,
 "nbformat_minor": 5
}
