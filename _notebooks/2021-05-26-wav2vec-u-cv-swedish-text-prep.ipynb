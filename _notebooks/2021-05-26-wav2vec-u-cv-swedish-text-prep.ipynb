{
 "cells": [
  {
   "cell_type": "code",
   "execution_count": 1,
   "id": "irish-internship",
   "metadata": {
    "_cell_guid": "b1076dfc-b9ad-4769-8c92-a6c4dae69d19",
    "_uuid": "8f2839f25d086af736a60e9eeb907d3b93b6e0e5",
    "execution": {
     "iopub.execute_input": "2021-05-29T18:49:34.731520Z",
     "iopub.status.busy": "2021-05-29T18:49:34.730348Z",
     "iopub.status.idle": "2021-05-29T18:49:34.743539Z",
     "shell.execute_reply": "2021-05-29T18:49:34.744325Z",
     "shell.execute_reply.started": "2021-05-25T22:46:58.262403Z"
    },
    "papermill": {
     "duration": 0.035652,
     "end_time": "2021-05-29T18:49:34.744818",
     "exception": false,
     "start_time": "2021-05-29T18:49:34.709166",
     "status": "completed"
    },
    "tags": []
   },
   "outputs": [
    {
     "name": "stdout",
     "output_type": "stream",
     "text": [
      "/tmp\n"
     ]
    }
   ],
   "source": [
    "%cd /tmp"
   ]
  },
  {
   "cell_type": "code",
   "execution_count": 2,
   "id": "basic-sitting",
   "metadata": {
    "execution": {
     "iopub.execute_input": "2021-05-29T18:49:34.787644Z",
     "iopub.status.busy": "2021-05-29T18:49:34.786707Z",
     "iopub.status.idle": "2021-05-29T18:49:39.679121Z",
     "shell.execute_reply": "2021-05-29T18:49:39.678423Z",
     "shell.execute_reply.started": "2021-05-25T22:38:20.218298Z"
    },
    "papermill": {
     "duration": 4.912452,
     "end_time": "2021-05-29T18:49:39.679277",
     "exception": false,
     "start_time": "2021-05-29T18:49:34.766825",
     "status": "completed"
    },
    "tags": []
   },
   "outputs": [
    {
     "name": "stdout",
     "output_type": "stream",
     "text": [
      "Cloning into 'fairseq'...\r\n",
      "remote: Enumerating objects: 28172, done.\u001b[K\r\n",
      "remote: Counting objects: 100% (586/586), done.\u001b[K\r\n",
      "remote: Compressing objects: 100% (339/339), done.\u001b[K\r\n",
      "remote: Total 28172 (delta 308), reused 465 (delta 234), pack-reused 27586\u001b[K\r\n",
      "Receiving objects: 100% (28172/28172), 11.87 MiB | 8.40 MiB/s, done.\r\n",
      "Resolving deltas: 100% (21127/21127), done.\r\n"
     ]
    }
   ],
   "source": [
    "!git clone https://github.com/pytorch/fairseq/"
   ]
  },
  {
   "cell_type": "code",
   "execution_count": 3,
   "id": "completed-hammer",
   "metadata": {
    "execution": {
     "iopub.execute_input": "2021-05-29T18:49:39.743129Z",
     "iopub.status.busy": "2021-05-29T18:49:39.738989Z",
     "iopub.status.idle": "2021-05-29T18:49:52.606903Z",
     "shell.execute_reply": "2021-05-29T18:49:52.606352Z"
    },
    "papermill": {
     "duration": 12.901652,
     "end_time": "2021-05-29T18:49:52.607070",
     "exception": false,
     "start_time": "2021-05-29T18:49:39.705418",
     "status": "completed"
    },
    "tags": []
   },
   "outputs": [],
   "source": [
    "%%capture\n",
    "!pip install phonemizer"
   ]
  },
  {
   "cell_type": "code",
   "execution_count": 4,
   "id": "practical-finger",
   "metadata": {
    "execution": {
     "iopub.execute_input": "2021-05-29T18:49:52.667704Z",
     "iopub.status.busy": "2021-05-29T18:49:52.662474Z",
     "iopub.status.idle": "2021-05-29T18:50:55.970884Z",
     "shell.execute_reply": "2021-05-29T18:50:55.971438Z"
    },
    "papermill": {
     "duration": 63.340381,
     "end_time": "2021-05-29T18:50:55.971656",
     "exception": false,
     "start_time": "2021-05-29T18:49:52.631275",
     "status": "completed"
    },
    "tags": []
   },
   "outputs": [],
   "source": [
    "%%capture\n",
    "!pip install git+https://github.com/pytorch/fairseq/"
   ]
  },
  {
   "cell_type": "code",
   "execution_count": 5,
   "id": "former-tradition",
   "metadata": {
    "execution": {
     "iopub.execute_input": "2021-05-29T18:50:56.037145Z",
     "iopub.status.busy": "2021-05-29T18:50:56.036451Z",
     "iopub.status.idle": "2021-05-29T18:51:03.900825Z",
     "shell.execute_reply": "2021-05-29T18:51:03.900028Z"
    },
    "papermill": {
     "duration": 7.903829,
     "end_time": "2021-05-29T18:51:03.901006",
     "exception": false,
     "start_time": "2021-05-29T18:50:55.997177",
     "status": "completed"
    },
    "tags": []
   },
   "outputs": [],
   "source": [
    "%%capture\n",
    "!apt-get -y install espeak"
   ]
  },
  {
   "cell_type": "code",
   "execution_count": 6,
   "id": "distinguished-architect",
   "metadata": {
    "execution": {
     "iopub.execute_input": "2021-05-29T18:51:03.959467Z",
     "iopub.status.busy": "2021-05-29T18:51:03.958820Z",
     "iopub.status.idle": "2021-05-29T18:51:07.670952Z",
     "shell.execute_reply": "2021-05-29T18:51:07.671470Z",
     "shell.execute_reply.started": "2021-05-25T22:47:02.096238Z"
    },
    "papermill": {
     "duration": 3.744584,
     "end_time": "2021-05-29T18:51:07.671714",
     "exception": false,
     "start_time": "2021-05-29T18:51:03.927130",
     "status": "completed"
    },
    "tags": []
   },
   "outputs": [
    {
     "name": "stdout",
     "output_type": "stream",
     "text": [
      "Cloning into 'kenlm'...\r\n",
      "remote: Enumerating objects: 13824, done.\u001b[K\r\n",
      "remote: Counting objects: 100% (137/137), done.\u001b[K\r\n",
      "remote: Compressing objects: 100% (79/79), done.\u001b[K\r\n",
      "remote: Total 13824 (delta 76), reused 92 (delta 45), pack-reused 13687\u001b[K\r\n",
      "Receiving objects: 100% (13824/13824), 5.49 MiB | 4.25 MiB/s, done.\r\n",
      "Resolving deltas: 100% (7956/7956), done.\r\n"
     ]
    }
   ],
   "source": [
    "!git clone https://github.com/kpu/kenlm"
   ]
  },
  {
   "cell_type": "code",
   "execution_count": 7,
   "id": "massive-music",
   "metadata": {
    "execution": {
     "iopub.execute_input": "2021-05-29T18:51:07.750637Z",
     "iopub.status.busy": "2021-05-29T18:51:07.749717Z",
     "iopub.status.idle": "2021-05-29T18:51:14.014427Z",
     "shell.execute_reply": "2021-05-29T18:51:14.013784Z"
    },
    "papermill": {
     "duration": 6.311255,
     "end_time": "2021-05-29T18:51:14.014607",
     "exception": false,
     "start_time": "2021-05-29T18:51:07.703352",
     "status": "completed"
    },
    "tags": []
   },
   "outputs": [],
   "source": [
    "%%capture\n",
    "!apt-get -y install libeigen3-dev liblzma-dev zlib1g-dev libbz2-dev"
   ]
  },
  {
   "cell_type": "code",
   "execution_count": 8,
   "id": "racial-alcohol",
   "metadata": {
    "execution": {
     "iopub.execute_input": "2021-05-29T18:51:14.093509Z",
     "iopub.status.busy": "2021-05-29T18:51:14.091355Z",
     "iopub.status.idle": "2021-05-29T18:52:27.538267Z",
     "shell.execute_reply": "2021-05-29T18:52:27.537523Z"
    },
    "papermill": {
     "duration": 73.490541,
     "end_time": "2021-05-29T18:52:27.538443",
     "exception": false,
     "start_time": "2021-05-29T18:51:14.047902",
     "status": "completed"
    },
    "tags": []
   },
   "outputs": [],
   "source": [
    "%%capture\n",
    "%cd kenlm\n",
    "!mkdir build\n",
    "%cd build\n",
    "!cmake ..\n",
    "!make -j 4\n",
    "%cd /tmp"
   ]
  },
  {
   "cell_type": "code",
   "execution_count": 9,
   "id": "continent-christopher",
   "metadata": {
    "execution": {
     "iopub.execute_input": "2021-05-29T18:52:27.607103Z",
     "iopub.status.busy": "2021-05-29T18:52:27.606276Z",
     "iopub.status.idle": "2021-05-29T18:52:27.609717Z",
     "shell.execute_reply": "2021-05-29T18:52:27.609101Z",
     "shell.execute_reply.started": "2021-05-25T22:58:58.397816Z"
    },
    "papermill": {
     "duration": 0.039635,
     "end_time": "2021-05-29T18:52:27.609842",
     "exception": false,
     "start_time": "2021-05-29T18:52:27.570207",
     "status": "completed"
    },
    "tags": []
   },
   "outputs": [],
   "source": [
    "import os\n",
    "os.environ['PATH'] = f\"{os.environ['PATH']}:/tmp/kenlm/build/bin/\"\n",
    "os.environ['FAIRSEQ_ROOT'] = '/tmp/fairseq'"
   ]
  },
  {
   "cell_type": "code",
   "execution_count": 10,
   "id": "incoming-motel",
   "metadata": {
    "execution": {
     "iopub.execute_input": "2021-05-29T18:52:27.674807Z",
     "iopub.status.busy": "2021-05-29T18:52:27.673893Z",
     "iopub.status.idle": "2021-05-29T18:52:28.452602Z",
     "shell.execute_reply": "2021-05-29T18:52:28.451866Z",
     "shell.execute_reply.started": "2021-05-25T22:55:06.647826Z"
    },
    "papermill": {
     "duration": 0.812338,
     "end_time": "2021-05-29T18:52:28.452791",
     "exception": false,
     "start_time": "2021-05-29T18:52:27.640453",
     "status": "completed"
    },
    "tags": []
   },
   "outputs": [],
   "source": [
    "!cat /kaggle/input/wav2vec-u-cv-swedish-audio/*.wrd | grep -v '^$' | sort| uniq > /kaggle/working/sentences.txt\n"
   ]
  },
  {
   "cell_type": "code",
   "execution_count": 11,
   "id": "ethical-proposition",
   "metadata": {
    "execution": {
     "iopub.execute_input": "2021-05-29T18:52:28.519845Z",
     "iopub.status.busy": "2021-05-29T18:52:28.519149Z",
     "iopub.status.idle": "2021-05-29T18:52:28.526405Z",
     "shell.execute_reply": "2021-05-29T18:52:28.525396Z",
     "shell.execute_reply.started": "2021-05-25T22:55:38.373919Z"
    },
    "papermill": {
     "duration": 0.04231,
     "end_time": "2021-05-29T18:52:28.526654",
     "exception": false,
     "start_time": "2021-05-29T18:52:28.484344",
     "status": "completed"
    },
    "tags": []
   },
   "outputs": [
    {
     "name": "stdout",
     "output_type": "stream",
     "text": [
      "/tmp/fairseq/examples/wav2vec/unsupervised\n"
     ]
    }
   ],
   "source": [
    "%cd fairseq/examples/wav2vec/unsupervised"
   ]
  },
  {
   "cell_type": "code",
   "execution_count": 12,
   "id": "worldwide-pixel",
   "metadata": {
    "execution": {
     "iopub.execute_input": "2021-05-29T18:52:28.603768Z",
     "iopub.status.busy": "2021-05-29T18:52:28.599499Z",
     "iopub.status.idle": "2021-05-29T18:52:35.149035Z",
     "shell.execute_reply": "2021-05-29T18:52:35.148231Z"
    },
    "papermill": {
     "duration": 6.586732,
     "end_time": "2021-05-29T18:52:35.149209",
     "exception": false,
     "start_time": "2021-05-29T18:52:28.562477",
     "status": "completed"
    },
    "tags": []
   },
   "outputs": [
    {
     "name": "stdout",
     "output_type": "stream",
     "text": [
      "\r\n",
      "\r\n",
      "\r\n",
      "The following additional packages will be installed:\r\n",
      "  libcap2 zsh-common\r\n",
      "Suggested packages:\r\n",
      "  zsh-doc\r\n",
      "The following NEW packages will be installed:\r\n",
      "  libcap2 zsh zsh-common\r\n",
      "0 upgraded, 3 newly installed, 0 to remove and 15 not upgraded.\r\n",
      "Need to get 4079 kB of archives.\r\n",
      "After this operation, 15.2 MB of additional disk space will be used.\r\n",
      "Get:1 http://archive.ubuntu.com/ubuntu bionic/main amd64 libcap2 amd64 1:2.25-1.2 [13.0 kB]\r\n",
      "Get:2 http://archive.ubuntu.com/ubuntu bionic-updates/main amd64 zsh-common all 5.4.2-3ubuntu3.1 [3376 kB]\r\n",
      "Get:3 http://archive.ubuntu.com/ubuntu bionic-updates/main amd64 zsh amd64 5.4.2-3ubuntu3.1 [690 kB]\r\n",
      "Fetched 4079 kB in 3s (1578 kB/s)\r\n",
      "debconf: delaying package configuration, since apt-utils is not installed\r\n",
      "Selecting previously unselected package libcap2:amd64.\r\n",
      "(Reading database ... 96266 files and directories currently installed.)\r\n",
      "Preparing to unpack .../libcap2_1%3a2.25-1.2_amd64.deb ...\r\n",
      "Unpacking libcap2:amd64 (1:2.25-1.2) ...\r\n",
      "Selecting previously unselected package zsh-common.\r\n",
      "Preparing to unpack .../zsh-common_5.4.2-3ubuntu3.1_all.deb ...\r\n",
      "Unpacking zsh-common (5.4.2-3ubuntu3.1) ...\r\n",
      "Selecting previously unselected package zsh.\r\n",
      "Preparing to unpack .../zsh_5.4.2-3ubuntu3.1_amd64.deb ...\r\n",
      "Unpacking zsh (5.4.2-3ubuntu3.1) ...\r\n",
      "Setting up libcap2:amd64 (1:2.25-1.2) ...\r\n",
      "Setting up zsh-common (5.4.2-3ubuntu3.1) ...\r\n",
      "Setting up zsh (5.4.2-3ubuntu3.1) ...\r\n",
      "Processing triggers for libc-bin (2.27-3ubuntu1.4) ...\r\n"
     ]
    }
   ],
   "source": [
    "!apt-get -y install zsh"
   ]
  },
  {
   "cell_type": "code",
   "execution_count": 13,
   "id": "western-assumption",
   "metadata": {
    "execution": {
     "iopub.execute_input": "2021-05-29T18:52:35.239895Z",
     "iopub.status.busy": "2021-05-29T18:52:35.238797Z",
     "iopub.status.idle": "2021-05-29T18:52:35.965093Z",
     "shell.execute_reply": "2021-05-29T18:52:35.964517Z",
     "shell.execute_reply.started": "2021-05-25T22:58:19.000595Z"
    },
    "papermill": {
     "duration": 0.77357,
     "end_time": "2021-05-29T18:52:35.965264",
     "exception": false,
     "start_time": "2021-05-29T18:52:35.191694",
     "status": "completed"
    },
    "tags": []
   },
   "outputs": [],
   "source": [
    "!mkdir /kaggle/working/preppedtext"
   ]
  },
  {
   "cell_type": "code",
   "execution_count": 14,
   "id": "nearby-conclusion",
   "metadata": {
    "execution": {
     "iopub.execute_input": "2021-05-29T18:52:36.056110Z",
     "iopub.status.busy": "2021-05-29T18:52:36.055079Z",
     "iopub.status.idle": "2021-05-29T18:52:36.060817Z",
     "shell.execute_reply": "2021-05-29T18:52:36.060243Z",
     "shell.execute_reply.started": "2021-05-25T23:04:33.0148Z"
    },
    "papermill": {
     "duration": 0.054289,
     "end_time": "2021-05-29T18:52:36.060979",
     "exception": false,
     "start_time": "2021-05-29T18:52:36.006690",
     "status": "completed"
    },
    "tags": []
   },
   "outputs": [
    {
     "name": "stdout",
     "output_type": "stream",
     "text": [
      "/tmp/fairseq/examples/wav2vec/unsupervised/scripts\n"
     ]
    }
   ],
   "source": [
    "%cd scripts"
   ]
  },
  {
   "cell_type": "markdown",
   "id": "engaged-behavior",
   "metadata": {
    "papermill": {
     "duration": 0.041513,
     "end_time": "2021-05-29T18:52:36.144712",
     "exception": false,
     "start_time": "2021-05-29T18:52:36.103199",
     "status": "completed"
    },
    "tags": []
   },
   "source": [
    "The next part requires a FastText language id model; I don't know where the 187 language model comes from, but there is a model for 176 languages [here](https://fasttext.cc/docs/en/language-identification.html#content)"
   ]
  },
  {
   "cell_type": "code",
   "execution_count": 15,
   "id": "sustained-owner",
   "metadata": {
    "execution": {
     "iopub.execute_input": "2021-05-29T18:52:36.231018Z",
     "iopub.status.busy": "2021-05-29T18:52:36.230353Z",
     "iopub.status.idle": "2021-05-29T18:52:50.508431Z",
     "shell.execute_reply": "2021-05-29T18:52:50.507660Z",
     "shell.execute_reply.started": "2021-05-25T23:26:05.700782Z"
    },
    "papermill": {
     "duration": 14.322416,
     "end_time": "2021-05-29T18:52:50.508643",
     "exception": false,
     "start_time": "2021-05-29T18:52:36.186227",
     "status": "completed"
    },
    "tags": []
   },
   "outputs": [
    {
     "name": "stdout",
     "output_type": "stream",
     "text": [
      "--2021-05-29 18:52:36--  https://dl.fbaipublicfiles.com/fasttext/supervised-models/lid.176.bin\r\n",
      "Resolving dl.fbaipublicfiles.com (dl.fbaipublicfiles.com)... 104.22.75.142, 104.22.74.142, 172.67.9.4, ...\r\n",
      "Connecting to dl.fbaipublicfiles.com (dl.fbaipublicfiles.com)|104.22.75.142|:443... connected.\r\n",
      "HTTP request sent, awaiting response... 200 OK\r\n",
      "Length: 131266198 (125M) [application/octet-stream]\r\n",
      "Saving to: ‘lid.176.bin’\r\n",
      "\r\n",
      "lid.176.bin         100%[===================>] 125.18M  11.3MB/s    in 12s     \r\n",
      "\r\n",
      "2021-05-29 18:52:50 (10.1 MB/s) - ‘lid.176.bin’ saved [131266198/131266198]\r\n",
      "\r\n"
     ]
    }
   ],
   "source": [
    "!wget https://dl.fbaipublicfiles.com/fasttext/supervised-models/lid.176.bin"
   ]
  },
  {
   "cell_type": "code",
   "execution_count": 16,
   "id": "found-messenger",
   "metadata": {
    "execution": {
     "iopub.execute_input": "2021-05-29T18:52:50.641385Z",
     "iopub.status.busy": "2021-05-29T18:52:50.640129Z",
     "iopub.status.idle": "2021-05-29T18:52:52.082488Z",
     "shell.execute_reply": "2021-05-29T18:52:52.081880Z",
     "shell.execute_reply.started": "2021-05-25T23:28:29.362953Z"
    },
    "papermill": {
     "duration": 1.510947,
     "end_time": "2021-05-29T18:52:52.082664",
     "exception": false,
     "start_time": "2021-05-29T18:52:50.571717",
     "status": "completed"
    },
    "tags": []
   },
   "outputs": [],
   "source": [
    "!cat normalize_and_filter_text.py|sed -e 's/187/176/' > tmp\n",
    "!mv tmp normalize_and_filter_text.py"
   ]
  },
  {
   "cell_type": "code",
   "execution_count": 17,
   "id": "ordinary-emergency",
   "metadata": {
    "execution": {
     "iopub.execute_input": "2021-05-29T18:52:52.200343Z",
     "iopub.status.busy": "2021-05-29T18:52:52.199717Z",
     "iopub.status.idle": "2021-05-29T18:52:52.276946Z",
     "shell.execute_reply": "2021-05-29T18:52:52.276347Z"
    },
    "papermill": {
     "duration": 0.137225,
     "end_time": "2021-05-29T18:52:52.277126",
     "exception": false,
     "start_time": "2021-05-29T18:52:52.139901",
     "status": "completed"
    },
    "tags": []
   },
   "outputs": [
    {
     "ename": "TypeError",
     "evalue": "str expected, not int",
     "output_type": "error",
     "traceback": [
      "\u001b[0;31m---------------------------------------------------------------------------\u001b[0m",
      "\u001b[0;31mTypeError\u001b[0m                                 Traceback (most recent call last)",
      "\u001b[0;32m<ipython-input-17-f3a4133b148a>\u001b[0m in \u001b[0;36m<module>\u001b[0;34m\u001b[0m\n\u001b[1;32m      1\u001b[0m \u001b[0;31m# Needed to see what's going wrong\u001b[0m\u001b[0;34m\u001b[0m\u001b[0;34m\u001b[0m\u001b[0;34m\u001b[0m\u001b[0m\n\u001b[0;32m----> 2\u001b[0;31m \u001b[0mos\u001b[0m\u001b[0;34m.\u001b[0m\u001b[0menviron\u001b[0m\u001b[0;34m[\u001b[0m\u001b[0;34m'HYDRA_FULL_ERROR'\u001b[0m\u001b[0;34m]\u001b[0m \u001b[0;34m=\u001b[0m \u001b[0;36m1\u001b[0m\u001b[0;34m\u001b[0m\u001b[0;34m\u001b[0m\u001b[0m\n\u001b[0m",
      "\u001b[0;32m/opt/conda/lib/python3.7/os.py\u001b[0m in \u001b[0;36m__setitem__\u001b[0;34m(self, key, value)\u001b[0m\n\u001b[1;32m    684\u001b[0m     \u001b[0;32mdef\u001b[0m \u001b[0m__setitem__\u001b[0m\u001b[0;34m(\u001b[0m\u001b[0mself\u001b[0m\u001b[0;34m,\u001b[0m \u001b[0mkey\u001b[0m\u001b[0;34m,\u001b[0m \u001b[0mvalue\u001b[0m\u001b[0;34m)\u001b[0m\u001b[0;34m:\u001b[0m\u001b[0;34m\u001b[0m\u001b[0;34m\u001b[0m\u001b[0m\n\u001b[1;32m    685\u001b[0m         \u001b[0mkey\u001b[0m \u001b[0;34m=\u001b[0m \u001b[0mself\u001b[0m\u001b[0;34m.\u001b[0m\u001b[0mencodekey\u001b[0m\u001b[0;34m(\u001b[0m\u001b[0mkey\u001b[0m\u001b[0;34m)\u001b[0m\u001b[0;34m\u001b[0m\u001b[0;34m\u001b[0m\u001b[0m\n\u001b[0;32m--> 686\u001b[0;31m         \u001b[0mvalue\u001b[0m \u001b[0;34m=\u001b[0m \u001b[0mself\u001b[0m\u001b[0;34m.\u001b[0m\u001b[0mencodevalue\u001b[0m\u001b[0;34m(\u001b[0m\u001b[0mvalue\u001b[0m\u001b[0;34m)\u001b[0m\u001b[0;34m\u001b[0m\u001b[0;34m\u001b[0m\u001b[0m\n\u001b[0m\u001b[1;32m    687\u001b[0m         \u001b[0mself\u001b[0m\u001b[0;34m.\u001b[0m\u001b[0mputenv\u001b[0m\u001b[0;34m(\u001b[0m\u001b[0mkey\u001b[0m\u001b[0;34m,\u001b[0m \u001b[0mvalue\u001b[0m\u001b[0;34m)\u001b[0m\u001b[0;34m\u001b[0m\u001b[0;34m\u001b[0m\u001b[0m\n\u001b[1;32m    688\u001b[0m         \u001b[0mself\u001b[0m\u001b[0;34m.\u001b[0m\u001b[0m_data\u001b[0m\u001b[0;34m[\u001b[0m\u001b[0mkey\u001b[0m\u001b[0;34m]\u001b[0m \u001b[0;34m=\u001b[0m \u001b[0mvalue\u001b[0m\u001b[0;34m\u001b[0m\u001b[0;34m\u001b[0m\u001b[0m\n",
      "\u001b[0;32m/opt/conda/lib/python3.7/os.py\u001b[0m in \u001b[0;36mencode\u001b[0;34m(value)\u001b[0m\n\u001b[1;32m    754\u001b[0m         \u001b[0;32mdef\u001b[0m \u001b[0mencode\u001b[0m\u001b[0;34m(\u001b[0m\u001b[0mvalue\u001b[0m\u001b[0;34m)\u001b[0m\u001b[0;34m:\u001b[0m\u001b[0;34m\u001b[0m\u001b[0;34m\u001b[0m\u001b[0m\n\u001b[1;32m    755\u001b[0m             \u001b[0;32mif\u001b[0m \u001b[0;32mnot\u001b[0m \u001b[0misinstance\u001b[0m\u001b[0;34m(\u001b[0m\u001b[0mvalue\u001b[0m\u001b[0;34m,\u001b[0m \u001b[0mstr\u001b[0m\u001b[0;34m)\u001b[0m\u001b[0;34m:\u001b[0m\u001b[0;34m\u001b[0m\u001b[0;34m\u001b[0m\u001b[0m\n\u001b[0;32m--> 756\u001b[0;31m                 \u001b[0;32mraise\u001b[0m \u001b[0mTypeError\u001b[0m\u001b[0;34m(\u001b[0m\u001b[0;34m\"str expected, not %s\"\u001b[0m \u001b[0;34m%\u001b[0m \u001b[0mtype\u001b[0m\u001b[0;34m(\u001b[0m\u001b[0mvalue\u001b[0m\u001b[0;34m)\u001b[0m\u001b[0;34m.\u001b[0m\u001b[0m__name__\u001b[0m\u001b[0;34m)\u001b[0m\u001b[0;34m\u001b[0m\u001b[0;34m\u001b[0m\u001b[0m\n\u001b[0m\u001b[1;32m    757\u001b[0m             \u001b[0;32mreturn\u001b[0m \u001b[0mvalue\u001b[0m\u001b[0;34m.\u001b[0m\u001b[0mencode\u001b[0m\u001b[0;34m(\u001b[0m\u001b[0mencoding\u001b[0m\u001b[0;34m,\u001b[0m \u001b[0;34m'surrogateescape'\u001b[0m\u001b[0;34m)\u001b[0m\u001b[0;34m\u001b[0m\u001b[0;34m\u001b[0m\u001b[0m\n\u001b[1;32m    758\u001b[0m         \u001b[0;32mdef\u001b[0m \u001b[0mdecode\u001b[0m\u001b[0;34m(\u001b[0m\u001b[0mvalue\u001b[0m\u001b[0;34m)\u001b[0m\u001b[0;34m:\u001b[0m\u001b[0;34m\u001b[0m\u001b[0;34m\u001b[0m\u001b[0m\n",
      "\u001b[0;31mTypeError\u001b[0m: str expected, not int"
     ]
    }
   ],
   "source": [
    "# Needed to see what's going wrong\n",
    "os.environ['HYDRA_FULL_ERROR'] = 1"
   ]
  },
  {
   "cell_type": "markdown",
   "id": "nervous-purchase",
   "metadata": {
    "papermill": {
     "duration": 0.056704,
     "end_time": "2021-05-29T18:52:52.392165",
     "exception": false,
     "start_time": "2021-05-29T18:52:52.335461",
     "status": "completed"
    },
    "tags": []
   },
   "source": [
    "There are two lines with missing variables in `prepare_text.sh` - [pull request](https://github.com/pytorch/fairseq/pull/3569) - so replace the file."
   ]
  },
  {
   "cell_type": "code",
   "execution_count": 18,
   "id": "trained-softball",
   "metadata": {
    "_kg_hide-input": true,
    "execution": {
     "iopub.execute_input": "2021-05-29T18:52:52.514101Z",
     "iopub.status.busy": "2021-05-29T18:52:52.513444Z",
     "iopub.status.idle": "2021-05-29T18:52:52.520156Z",
     "shell.execute_reply": "2021-05-29T18:52:52.519549Z"
    },
    "papermill": {
     "duration": 0.069385,
     "end_time": "2021-05-29T18:52:52.520319",
     "exception": false,
     "start_time": "2021-05-29T18:52:52.450934",
     "status": "completed"
    },
    "tags": []
   },
   "outputs": [
    {
     "name": "stdout",
     "output_type": "stream",
     "text": [
      "Overwriting prepare_text.sh\n"
     ]
    }
   ],
   "source": [
    "%%writefile prepare_text.sh\n",
    "#!/usr/bin/env zsh\n",
    "# Copyright (c) Facebook, Inc. and its affiliates.\n",
    "#\n",
    "# This source code is licensed under the MIT license found in the\n",
    "# LICENSE file in the root directory of this source tree.\n",
    "\n",
    "lg=$1\n",
    "text_path=$2\n",
    "target_dir=$3\n",
    "\n",
    "ph_lg=${lg:l}\n",
    "if test \"$lg\" = 'fr'; then\n",
    "  ph_lg='fr-fr'\n",
    "elif test \"$lg\" = 'en'; then\n",
    "  ph_lg='en-us'\n",
    "elif test \"$lg\" = 'pt'; then\n",
    "  ph_lg='pt-br'\n",
    "fi\n",
    "\n",
    "echo $lg\n",
    "echo $ph_lg\n",
    "echo $text_path\n",
    "echo $target_dir\n",
    "\n",
    "mkdir -p $target_dir\n",
    "python normalize_and_filter_text.py --lang $lg < $text_path | grep -v '\\-\\-\\-' >! $target_dir/lm.upper.lid.txt\n",
    "python $FAIRSEQ_ROOT/fairseq_cli/preprocess.py --dataset-impl mmap --trainpref $target_dir/lm.upper.lid.txt --only-source --destdir $target_dir --thresholdsrc 2 --padding-factor 1 --dict-only\n",
    "cut -f1 -d' ' $target_dir/dict.txt | grep -v -x '[[:punct:]]*' | grep -Pv '\\d\\d\\d\\d\\d+' >! $target_dir/words.txt\n",
    "\n",
    "one=$(echo \"1\" | PHONEMIZER_ESPEAK_PATH=$(which espeak) phonemize -p ' ' -w '' -l $ph_lg --language-switch remove-flags)\n",
    "sed 's/$/ 1/' $target_dir/words.txt | PHONEMIZER_ESPEAK_PATH=$(which espeak) phonemize -o $target_dir/phones.txt -p ' ' -w '' -l $ph_lg -j 70 --language-switch remove-flags\n",
    "\n",
    "echo \"one is ${one}\"\n",
    "\n",
    "sed -i \"s/${one}$//\" $target_dir/phones.txt\n",
    "paste $target_dir/words.txt $target_dir/phones.txt >! $target_dir/lexicon.lst\n",
    "\n",
    "python $FAIRSEQ_ROOT/fairseq_cli/preprocess.py --dataset-impl mmap --trainpref $target_dir/phones.txt --only-source --destdir $target_dir/phones --thresholdsrc 1000 --padding-factor 1 --dict-only\n",
    "\n",
    "python filter_lexicon.py -d $target_dir/phones/dict.txt < $target_dir/lexicon.lst >! $target_dir/lexicon_filtered.lst\n",
    "python phonemize_with_sil.py -s 0.25 --surround --lexicon $target_dir/lexicon_filtered.lst < $target_dir/lm.upper.lid.txt >! $target_dir/phones/lm.phones.filtered.txt\n",
    "cp $target_dir/phones/dict.txt $target_dir/phones/dict.phn.txt\n",
    "echo \"<SIL> 0\" >> $target_dir/phones/dict.phn.txt\n",
    "python $FAIRSEQ_ROOT/fairseq_cli/preprocess.py --dataset-impl mmap --trainpref $target_dir/phones/lm.phones.filtered.txt --workers 70 --only-source --destdir $target_dir/phones --srcdict $target_dir/phones/dict.phn.txt\n",
    "\n",
    "lmplz -o 4 < $target_dir/lm.upper.lid.txt --discount_fallback --prune 0 0 0 3 >! $target_dir/kenlm.wrd.o40003.arpa\n",
    "build_binary $target_dir/kenlm.wrd.o40003.arpa $target_dir/kenlm.wrd.o40003.bin\n",
    "lg=$lg python $FAIRSEQ_ROOT/examples/speech_recognition/kaldi/kaldi_initializer.py fst_dir=$target_dir/fst/phn_to_words_sil lm_arpa=$target_dir/kenlm.wrd.o40003.arpa wav2letter_lexicon=$target_dir/lexicon_filtered.lst data_dir=$target_dir/phones \"blank_symbol='<SIL>'\"\n",
    "lg=$lg python $FAIRSEQ_ROOT/examples/speech_recognition/kaldi/kaldi_initializer.py fst_dir=$target_dir/fst/phn_to_words lm_arpa=$target_dir/kenlm.wrd.o40003.arpa wav2letter_lexicon=$target_dir/lexicon_filtered.lst data_dir=$target_dir/phones\n",
    "\n",
    "lmplz -o 4 < $target_dir/phones/lm.phones.filtered.txt --discount_fallback >! $target_dir/phones/lm.phones.filtered.04.arpa\n",
    "build_binary $target_dir/phones/lm.phones.filtered.04.arpa $target_dir/phones/lm.phones.filtered.04.bin\n",
    "lmplz -o 6 < $target_dir/phones/lm.phones.filtered.txt --discount_fallback >! $target_dir/phones/lm.phones.filtered.06.arpa\n",
    "build_binary $target_dir/phones/lm.phones.filtered.06.arpa $target_dir/phones/lm.phones.filtered.06.bin\n",
    "\n",
    "lg=$lg python $FAIRSEQ_ROOT/examples/speech_recognition/kaldi/kaldi_initializer.py fst_dir=$target_dir/fst/phn_to_phn_sil lm_arpa=$target_dir/phones/lm.phones.filtered.06.arpa data_dir=$target_dir/phones \"blank_symbol='<SIL>'\""
   ]
  },
  {
   "cell_type": "code",
   "execution_count": 19,
   "id": "directed-american",
   "metadata": {
    "execution": {
     "iopub.execute_input": "2021-05-29T18:52:52.649153Z",
     "iopub.status.busy": "2021-05-29T18:52:52.644497Z",
     "iopub.status.idle": "2021-05-29T18:53:57.371693Z",
     "shell.execute_reply": "2021-05-29T18:53:57.370465Z",
     "shell.execute_reply.started": "2021-05-25T23:28:33.84656Z"
    },
    "papermill": {
     "duration": 64.792115,
     "end_time": "2021-05-29T18:53:57.371897",
     "exception": false,
     "start_time": "2021-05-29T18:52:52.579782",
     "status": "completed"
    },
    "tags": []
   },
   "outputs": [
    {
     "name": "stdout",
     "output_type": "stream",
     "text": [
      "sv\r\n",
      "sv\r\n",
      "/kaggle/working/sentences.txt\r\n",
      "/kaggle/working/preppedtext\r\n",
      "Warning : `load_model` does not return WordVectorModel or SupervisedModel any more, but a `FastText` object which is very similar.\r\n",
      "[WARNING] 1 utterances containing language switches on lines 1546\r\n",
      "[WARNING] extra phones may appear in the \"sv\" phoneset\r\n",
      "[WARNING] language switch flags have been removed (applying \"remove-flags\" policy)\r\n",
      "one is ɛ t \r\n",
      "Traceback (most recent call last):\r\n",
      "  File \"/tmp/fairseq/fairseq_cli/preprocess.py\", line 401, in <module>\r\n",
      "    cli_main()\r\n",
      "  File \"/tmp/fairseq/fairseq_cli/preprocess.py\", line 397, in cli_main\r\n",
      "    main(args)\r\n",
      "  File \"/tmp/fairseq/fairseq_cli/preprocess.py\", line 287, in main\r\n",
      "    make_all(args.source_lang, src_dict)\r\n",
      "  File \"/tmp/fairseq/fairseq_cli/preprocess.py\", line 255, in make_all\r\n",
      "    make_dataset(vocab, args.trainpref, \"train\", lang, num_workers=args.workers)\r\n",
      "  File \"/tmp/fairseq/fairseq_cli/preprocess.py\", line 251, in make_dataset\r\n",
      "    make_binary_dataset(vocab, input_prefix, output_prefix, lang, num_workers)\r\n",
      "  File \"/tmp/fairseq/fairseq_cli/preprocess.py\", line 184, in make_binary_dataset\r\n",
      "    100 * sum(replaced.values()) / n_seq_tok[1],\r\n",
      "ZeroDivisionError: division by zero\r\n",
      "=== 1/5 Counting and sorting n-grams ===\r\n",
      "Reading /kaggle/working/preppedtext/lm.upper.lid.txt\r\n",
      "----5---10---15---20---25---30---35---40---45---50---55---60---65---70---75---80---85---90---95--100\r\n",
      "****************************************************************************************************\r\n",
      "Unigram tokens 34312 types 5260\r\n",
      "=== 2/5 Calculating and sorting adjusted counts ===\r\n",
      "Chain sizes: 1:63120 2:2571427328 3:4821426176 4:7714281984\r\n",
      "Statistics:\r\n",
      "1 5260 D1=0.693271 D2=1.11217 D3+=1.57922\r\n",
      "2 20174 D1=0.81526 D2=1.18129 D3+=1.4957\r\n",
      "3 27884 D1=0.914828 D2=1.3954 D3+=1.34166\r\n",
      "4 114/27003 D1=0.954567 D2=1.40148 D3+=1.53144\r\n",
      "Memory estimate for binary LM:\r\n",
      "type      kB\r\n",
      "probing 1261 assuming -p 1.5\r\n",
      "probing 1564 assuming -r models -p 1.5\r\n",
      "trie     630 without quantization\r\n",
      "trie     359 assuming -q 8 -b 8 quantization \r\n",
      "trie     588 assuming -a 22 array pointer compression\r\n",
      "trie     317 assuming -a 22 -q 8 -b 8 array pointer compression and quantization\r\n",
      "=== 3/5 Calculating and sorting initial probabilities ===\r\n",
      "Chain sizes: 1:63120 2:322784 3:557680 4:2736\r\n",
      "----5---10---15---20---25---30---35---40---45---50---55---60---65---70---75---80---85---90---95--100\r\n",
      "####################################################################################################\r\n",
      "=== 4/5 Calculating and writing order-interpolated probabilities ===\r\n",
      "Chain sizes: 1:63120 2:322784 3:557680 4:2736\r\n",
      "----5---10---15---20---25---30---35---40---45---50---55---60---65---70---75---80---85---90---95--100\r\n",
      "####################################################################################################\r\n",
      "=== 5/5 Writing ARPA model ===\r\n",
      "----5---10---15---20---25---30---35---40---45---50---55---60---65---70---75---80---85---90---95--100\r\n",
      "****************************************************************************************************\r\n",
      "Name:lmplz\tVmPeak:14916880 kB\tVmRSS:7092 kB\tRSSMax:2975616 kB\tuser:0.457478\tsys:1.75891\tCPU:2.21646\treal:2.20294\r\n",
      "Reading /kaggle/working/preppedtext/kenlm.wrd.o40003.arpa\r\n",
      "----5---10---15---20---25---30---35---40---45---50---55---60---65---70---75---80---85---90---95--100\r\n",
      "****************************************************************************************************\r\n",
      "SUCCESS\r\n",
      "Primary config directory not found.\r\n",
      "Check that the config directory '/tmp/fairseq/examples/speech_recognition/kaldi/config' exists and readable\r\n",
      "\r\n",
      "Set the environment variable HYDRA_FULL_ERROR=1 for a complete stack trace.\r\n",
      "Primary config directory not found.\r\n",
      "Check that the config directory '/tmp/fairseq/examples/speech_recognition/kaldi/config' exists and readable\r\n",
      "\r\n",
      "Set the environment variable HYDRA_FULL_ERROR=1 for a complete stack trace.\r\n",
      "=== 1/5 Counting and sorting n-grams ===\r\n",
      "Reading /kaggle/working/preppedtext/phones/lm.phones.filtered.txt\r\n",
      "----5---10---15---20---25---30---35---40---45---50---55---60---65---70---75---80---85---90---95--100\r\n",
      "Unigram tokens 0 types 3\r\n",
      "=== 2/5 Calculating and sorting adjusted counts ===\r\n",
      "Chain sizes: 1:36 2:2571437824 3:4821446144 4:7714313728\r\n",
      "Substituting fallback discounts for order 0: D1=0.5 D2=1 D3+=1.5\r\n",
      "Substituting fallback discounts for order 1: D1=0.5 D2=1 D3+=1.5\r\n",
      "Substituting fallback discounts for order 2: D1=0.5 D2=1 D3+=1.5\r\n",
      "Substituting fallback discounts for order 3: D1=0.5 D2=1 D3+=1.5\r\n",
      "Statistics:\r\n",
      "1 2 D1=0.5 D2=1 D3+=1.5\r\n",
      "2 0 D1=0.5 D2=1 D3+=1.5\r\n",
      "3 0 D1=0.5 D2=1 D3+=1.5\r\n",
      "4 0 D1=0.5 D2=1 D3+=1.5\r\n",
      "Memory estimate for binary LM:\r\n",
      "type       B\r\n",
      "probing  112 assuming -p 1.5\r\n",
      "probing  132 assuming -r models -p 1.5\r\n",
      "trie     135 without quantization\r\n",
      "trie    5248 assuming -q 8 -b 8 quantization \r\n",
      "trie     181 assuming -a 22 array pointer compression\r\n",
      "trie    5294 assuming -a 22 -q 8 -b 8 array pointer compression and quantization\r\n",
      "=== 3/5 Calculating and sorting initial probabilities ===\r\n",
      "Chain sizes: 1:24 2:16 3:20 4:24\r\n",
      "----5---10---15---20---25---30---35---40---45---50---55---60---65---70---75---80---85---90---95--100\r\n",
      "\r\n",
      "=== 4/5 Calculating and writing order-interpolated probabilities ===\r\n",
      "Chain sizes: 1:24 2:16 3:20 4:24\r\n",
      "----5---10---15---20---25---30---35---40---45---50---55---60---65---70---75---80---85---90---95--100\r\n",
      "\r\n",
      "=== 5/5 Writing ARPA model ===\r\n",
      "----5---10---15---20---25---30---35---40---45---50---55---60---65---70---75---80---85---90---95--100\r\n",
      "\r\n",
      "Name:lmplz\tVmPeak:14916784 kB\tVmRSS:5872 kB\tRSSMax:2956852 kB\tuser:0.428372\tsys:1.53436\tCPU:1.9628\treal:1.99622\r\n",
      "Reading /kaggle/working/preppedtext/phones/lm.phones.filtered.04.arpa\r\n",
      "----5---10---15---20---25---30---35---40---45---50---55---60---65---70---75---80---85---90---95--100\r\n",
      "****************************************************************************************************\r\n",
      "/tmp/kenlm/lm/vocab.cc:305 in void lm::ngram::MissingSentenceMarker(const lm::ngram::Config&, const char*) threw SpecialWordMissingException.\r\n",
      "The ARPA file is missing </s> and the model is configured to reject these models.  Run build_binary -s to disable this check. Byte: 76\r\n",
      "ERROR\r\n",
      "=== 1/5 Counting and sorting n-grams ===\r\n",
      "Reading /kaggle/working/preppedtext/phones/lm.phones.filtered.txt\r\n",
      "----5---10---15---20---25---30---35---40---45---50---55---60---65---70---75---80---85---90---95--100\r\n",
      "Unigram tokens 0 types 3\r\n",
      "=== 2/5 Calculating and sorting adjusted counts ===\r\n",
      "Chain sizes: 1:36 2:929673728 3:1743138176 4:2789021184 5:4067322624 6:5578042368\r\n",
      "Substituting fallback discounts for order 0: D1=0.5 D2=1 D3+=1.5\r\n",
      "Substituting fallback discounts for order 1: D1=0.5 D2=1 D3+=1.5\r\n",
      "Substituting fallback discounts for order 2: D1=0.5 D2=1 D3+=1.5\r\n",
      "Substituting fallback discounts for order 3: D1=0.5 D2=1 D3+=1.5\r\n",
      "Substituting fallback discounts for order 4: D1=0.5 D2=1 D3+=1.5\r\n",
      "Substituting fallback discounts for order 5: D1=0.5 D2=1 D3+=1.5\r\n",
      "Statistics:\r\n",
      "1 2 D1=0.5 D2=1 D3+=1.5\r\n",
      "2 0 D1=0.5 D2=1 D3+=1.5\r\n",
      "3 0 D1=0.5 D2=1 D3+=1.5\r\n",
      "4 0 D1=0.5 D2=1 D3+=1.5\r\n",
      "5 0 D1=0.5 D2=1 D3+=1.5\r\n",
      "6 0 D1=0.5 D2=1 D3+=1.5\r\n",
      "Memory estimate for binary LM:\r\n",
      "type       B\r\n",
      "probing  144 assuming -p 1.5\r\n",
      "probing  172 assuming -r models -p 1.5\r\n",
      "trie     169 without quantization\r\n",
      "trie    9366 assuming -q 8 -b 8 quantization \r\n",
      "trie     261 assuming -a 22 array pointer compression\r\n",
      "trie    9458 assuming -a 22 -q 8 -b 8 array pointer compression and quantization\r\n",
      "=== 3/5 Calculating and sorting initial probabilities ===\r\n",
      "Chain sizes: 1:24 2:16 3:20 4:24 5:28 6:32\r\n",
      "----5---10---15---20---25---30---35---40---45---50---55---60---65---70---75---80---85---90---95--100\r\n",
      "\r\n",
      "=== 4/5 Calculating and writing order-interpolated probabilities ===\r\n",
      "Chain sizes: 1:24 2:16 3:20 4:24 5:28 6:32\r\n",
      "----5---10---15---20---25---30---35---40---45---50---55---60---65---70---75---80---85---90---95--100\r\n",
      "\r\n",
      "=== 5/5 Writing ARPA model ===\r\n",
      "----5---10---15---20---25---30---35---40---45---50---55---60---65---70---75---80---85---90---95--100\r\n",
      "\r\n",
      "Name:lmplz\tVmPeak:14949572 kB\tVmRSS:5940 kB\tRSSMax:2336828 kB\tuser:0.319218\tsys:1.1159\tCPU:1.43517\treal:1.4422\r\n",
      "Reading /kaggle/working/preppedtext/phones/lm.phones.filtered.06.arpa\r\n",
      "----5---10---15---20---25---30---35---40---45---50---55---60---65---70---75---80---85---90---95--100\r\n",
      "****************************************************************************************************\r\n",
      "/tmp/kenlm/lm/vocab.cc:305 in void lm::ngram::MissingSentenceMarker(const lm::ngram::Config&, const char*) threw SpecialWordMissingException.\r\n",
      "The ARPA file is missing </s> and the model is configured to reject these models.  Run build_binary -s to disable this check. Byte: 96\r\n",
      "ERROR\r\n",
      "Primary config directory not found.\r\n",
      "Check that the config directory '/tmp/fairseq/examples/speech_recognition/kaldi/config' exists and readable\r\n",
      "\r\n",
      "Set the environment variable HYDRA_FULL_ERROR=1 for a complete stack trace.\r\n"
     ]
    }
   ],
   "source": [
    "!zsh prepare_text.sh sv /kaggle/working/sentences.txt /kaggle/working/preppedtext"
   ]
  }
 ],
 "metadata": {
  "kernelspec": {
   "display_name": "Python 3",
   "language": "python",
   "name": "python3"
  },
  "language_info": {
   "codemirror_mode": {
    "name": "ipython",
    "version": 3
   },
   "file_extension": ".py",
   "mimetype": "text/x-python",
   "name": "python",
   "nbconvert_exporter": "python",
   "pygments_lexer": "ipython3",
   "version": "3.7.10"
  },
  "papermill": {
   "default_parameters": {},
   "duration": 271.973232,
   "end_time": "2021-05-29T18:53:58.820014",
   "environment_variables": {},
   "exception": null,
   "input_path": "__notebook__.ipynb",
   "output_path": "__notebook__.ipynb",
   "parameters": {},
   "start_time": "2021-05-29T18:49:26.846782",
   "version": "2.3.3"
  }
 },
 "nbformat": 4,
 "nbformat_minor": 5
}
