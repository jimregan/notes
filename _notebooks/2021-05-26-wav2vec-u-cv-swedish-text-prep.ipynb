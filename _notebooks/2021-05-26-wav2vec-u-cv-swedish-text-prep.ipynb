{
 "cells": [
  {
   "cell_type": "code",
   "execution_count": 1,
   "id": "smart-needle",
   "metadata": {
    "_cell_guid": "b1076dfc-b9ad-4769-8c92-a6c4dae69d19",
    "_uuid": "8f2839f25d086af736a60e9eeb907d3b93b6e0e5",
    "execution": {
     "iopub.execute_input": "2021-05-30T12:58:12.670748Z",
     "iopub.status.busy": "2021-05-30T12:58:12.669949Z",
     "iopub.status.idle": "2021-05-30T12:58:12.673830Z",
     "shell.execute_reply": "2021-05-30T12:58:12.674297Z",
     "shell.execute_reply.started": "2021-05-25T22:46:58.262403Z"
    },
    "papermill": {
     "duration": 0.033543,
     "end_time": "2021-05-30T12:58:12.674548",
     "exception": false,
     "start_time": "2021-05-30T12:58:12.641005",
     "status": "completed"
    },
    "tags": []
   },
   "outputs": [
    {
     "name": "stdout",
     "output_type": "stream",
     "text": [
      "/opt\n"
     ]
    }
   ],
   "source": [
    "%cd /opt"
   ]
  },
  {
   "cell_type": "code",
   "execution_count": 2,
   "id": "early-charter",
   "metadata": {
    "execution": {
     "iopub.execute_input": "2021-05-30T12:58:12.730015Z",
     "iopub.status.busy": "2021-05-30T12:58:12.729349Z",
     "iopub.status.idle": "2021-05-30T12:59:01.038524Z",
     "shell.execute_reply": "2021-05-30T12:59:01.039315Z"
    },
    "papermill": {
     "duration": 48.345742,
     "end_time": "2021-05-30T12:59:01.040240",
     "exception": false,
     "start_time": "2021-05-30T12:58:12.694498",
     "status": "completed"
    },
    "tags": []
   },
   "outputs": [],
   "source": [
    "%%capture\n",
    "!tar xvf /kaggle/input/extract-prebuilt-kaldi-from-docker/kaldi.tar"
   ]
  },
  {
   "cell_type": "code",
   "execution_count": 3,
   "id": "realistic-moses",
   "metadata": {
    "execution": {
     "iopub.execute_input": "2021-05-30T12:59:01.098216Z",
     "iopub.status.busy": "2021-05-30T12:59:01.097522Z",
     "iopub.status.idle": "2021-05-30T12:59:01.110804Z",
     "shell.execute_reply": "2021-05-30T12:59:01.111794Z"
    },
    "papermill": {
     "duration": 0.038893,
     "end_time": "2021-05-30T12:59:01.112035",
     "exception": false,
     "start_time": "2021-05-30T12:59:01.073142",
     "status": "completed"
    },
    "tags": []
   },
   "outputs": [
    {
     "name": "stdout",
     "output_type": "stream",
     "text": [
      "/tmp\n"
     ]
    }
   ],
   "source": [
    "%cd /tmp"
   ]
  },
  {
   "cell_type": "code",
   "execution_count": 4,
   "id": "canadian-model",
   "metadata": {
    "execution": {
     "iopub.execute_input": "2021-05-30T12:59:01.161309Z",
     "iopub.status.busy": "2021-05-30T12:59:01.160466Z",
     "iopub.status.idle": "2021-05-30T12:59:04.981062Z",
     "shell.execute_reply": "2021-05-30T12:59:04.980227Z",
     "shell.execute_reply.started": "2021-05-25T22:38:20.218298Z"
    },
    "papermill": {
     "duration": 3.845194,
     "end_time": "2021-05-30T12:59:04.981197",
     "exception": false,
     "start_time": "2021-05-30T12:59:01.136003",
     "status": "completed"
    },
    "tags": []
   },
   "outputs": [
    {
     "name": "stdout",
     "output_type": "stream",
     "text": [
      "Cloning into 'fairseq'...\r\n",
      "remote: Enumerating objects: 28172, done.\u001b[K\r\n",
      "remote: Counting objects: 100% (586/586), done.\u001b[K\r\n",
      "remote: Compressing objects: 100% (337/337), done.\u001b[K\r\n",
      "remote: Total 28172 (delta 308), reused 464 (delta 236), pack-reused 27586\u001b[K\r\n",
      "Receiving objects: 100% (28172/28172), 11.87 MiB | 15.08 MiB/s, done.\r\n",
      "Resolving deltas: 100% (21131/21131), done.\r\n"
     ]
    }
   ],
   "source": [
    "!git clone https://github.com/pytorch/fairseq/"
   ]
  },
  {
   "cell_type": "code",
   "execution_count": 5,
   "id": "guided-motivation",
   "metadata": {
    "execution": {
     "iopub.execute_input": "2021-05-30T12:59:05.221539Z",
     "iopub.status.busy": "2021-05-30T12:59:05.054211Z",
     "iopub.status.idle": "2021-05-30T12:59:16.938528Z",
     "shell.execute_reply": "2021-05-30T12:59:16.937491Z"
    },
    "papermill": {
     "duration": 11.92403,
     "end_time": "2021-05-30T12:59:16.938704",
     "exception": false,
     "start_time": "2021-05-30T12:59:05.014674",
     "status": "completed"
    },
    "tags": []
   },
   "outputs": [],
   "source": [
    "%%capture\n",
    "!pip install phonemizer"
   ]
  },
  {
   "cell_type": "code",
   "execution_count": 6,
   "id": "premier-pantyhose",
   "metadata": {
    "execution": {
     "iopub.execute_input": "2021-05-30T12:59:17.003572Z",
     "iopub.status.busy": "2021-05-30T12:59:17.002980Z",
     "iopub.status.idle": "2021-05-30T13:00:10.906662Z",
     "shell.execute_reply": "2021-05-30T13:00:10.907144Z"
    },
    "papermill": {
     "duration": 53.942686,
     "end_time": "2021-05-30T13:00:10.907340",
     "exception": false,
     "start_time": "2021-05-30T12:59:16.964654",
     "status": "completed"
    },
    "tags": []
   },
   "outputs": [],
   "source": [
    "%%capture\n",
    "!pip install git+https://github.com/pytorch/fairseq/"
   ]
  },
  {
   "cell_type": "code",
   "execution_count": 7,
   "id": "headed-central",
   "metadata": {
    "execution": {
     "iopub.execute_input": "2021-05-30T13:00:10.970992Z",
     "iopub.status.busy": "2021-05-30T13:00:10.970339Z",
     "iopub.status.idle": "2021-05-30T13:00:16.165494Z",
     "shell.execute_reply": "2021-05-30T13:00:16.164705Z"
    },
    "papermill": {
     "duration": 5.231723,
     "end_time": "2021-05-30T13:00:16.165648",
     "exception": false,
     "start_time": "2021-05-30T13:00:10.933925",
     "status": "completed"
    },
    "tags": []
   },
   "outputs": [],
   "source": [
    "%%capture\n",
    "!apt-get -y install espeak"
   ]
  },
  {
   "cell_type": "code",
   "execution_count": 8,
   "id": "impressed-cocktail",
   "metadata": {
    "execution": {
     "iopub.execute_input": "2021-05-30T13:00:16.222759Z",
     "iopub.status.busy": "2021-05-30T13:00:16.222196Z",
     "iopub.status.idle": "2021-05-30T13:00:18.541192Z",
     "shell.execute_reply": "2021-05-30T13:00:18.540389Z",
     "shell.execute_reply.started": "2021-05-25T22:47:02.096238Z"
    },
    "papermill": {
     "duration": 2.348801,
     "end_time": "2021-05-30T13:00:18.541340",
     "exception": false,
     "start_time": "2021-05-30T13:00:16.192539",
     "status": "completed"
    },
    "tags": []
   },
   "outputs": [
    {
     "name": "stdout",
     "output_type": "stream",
     "text": [
      "Cloning into 'kenlm'...\r\n",
      "remote: Enumerating objects: 13824, done.\u001b[K\r\n",
      "remote: Counting objects: 100% (137/137), done.\u001b[K\r\n",
      "remote: Compressing objects: 100% (79/79), done.\u001b[K\r\n",
      "remote: Total 13824 (delta 76), reused 92 (delta 45), pack-reused 13687\u001b[K\r\n",
      "Receiving objects: 100% (13824/13824), 5.49 MiB | 8.83 MiB/s, done.\r\n",
      "Resolving deltas: 100% (7956/7956), done.\r\n"
     ]
    }
   ],
   "source": [
    "!git clone https://github.com/kpu/kenlm"
   ]
  },
  {
   "cell_type": "code",
   "execution_count": 9,
   "id": "transparent-tiger",
   "metadata": {
    "execution": {
     "iopub.execute_input": "2021-05-30T13:00:18.615465Z",
     "iopub.status.busy": "2021-05-30T13:00:18.612172Z",
     "iopub.status.idle": "2021-05-30T13:00:22.189365Z",
     "shell.execute_reply": "2021-05-30T13:00:22.188725Z"
    },
    "papermill": {
     "duration": 3.615371,
     "end_time": "2021-05-30T13:00:22.189502",
     "exception": false,
     "start_time": "2021-05-30T13:00:18.574131",
     "status": "completed"
    },
    "tags": []
   },
   "outputs": [],
   "source": [
    "%%capture\n",
    "!apt-get -y install libeigen3-dev liblzma-dev zlib1g-dev libbz2-dev"
   ]
  },
  {
   "cell_type": "code",
   "execution_count": 10,
   "id": "bulgarian-arnold",
   "metadata": {
    "execution": {
     "iopub.execute_input": "2021-05-30T13:00:22.263276Z",
     "iopub.status.busy": "2021-05-30T13:00:22.262722Z",
     "iopub.status.idle": "2021-05-30T13:01:29.892948Z",
     "shell.execute_reply": "2021-05-30T13:01:29.892385Z"
    },
    "papermill": {
     "duration": 67.671036,
     "end_time": "2021-05-30T13:01:29.893089",
     "exception": false,
     "start_time": "2021-05-30T13:00:22.222053",
     "status": "completed"
    },
    "tags": []
   },
   "outputs": [],
   "source": [
    "%%capture\n",
    "%cd kenlm\n",
    "!mkdir build\n",
    "%cd build\n",
    "!cmake ..\n",
    "!make -j 4\n",
    "%cd /tmp"
   ]
  },
  {
   "cell_type": "code",
   "execution_count": 11,
   "id": "occasional-sharing",
   "metadata": {
    "execution": {
     "iopub.execute_input": "2021-05-30T13:01:29.962993Z",
     "iopub.status.busy": "2021-05-30T13:01:29.962399Z",
     "iopub.status.idle": "2021-05-30T13:01:29.963996Z",
     "shell.execute_reply": "2021-05-30T13:01:29.964417Z",
     "shell.execute_reply.started": "2021-05-25T22:58:58.397816Z"
    },
    "papermill": {
     "duration": 0.039176,
     "end_time": "2021-05-30T13:01:29.964559",
     "exception": false,
     "start_time": "2021-05-30T13:01:29.925383",
     "status": "completed"
    },
    "tags": []
   },
   "outputs": [],
   "source": [
    "import os\n",
    "os.environ['PATH'] = f\"{os.environ['PATH']}:/tmp/kenlm/build/bin/\"\n",
    "os.environ['FAIRSEQ_ROOT'] = '/tmp/fairseq'"
   ]
  },
  {
   "cell_type": "code",
   "execution_count": 12,
   "id": "southern-thumb",
   "metadata": {
    "execution": {
     "iopub.execute_input": "2021-05-30T13:01:30.031162Z",
     "iopub.status.busy": "2021-05-30T13:01:30.030476Z",
     "iopub.status.idle": "2021-05-30T13:01:30.750179Z",
     "shell.execute_reply": "2021-05-30T13:01:30.749515Z",
     "shell.execute_reply.started": "2021-05-25T22:55:06.647826Z"
    },
    "papermill": {
     "duration": 0.754779,
     "end_time": "2021-05-30T13:01:30.750340",
     "exception": false,
     "start_time": "2021-05-30T13:01:29.995561",
     "status": "completed"
    },
    "tags": []
   },
   "outputs": [],
   "source": [
    "!cat /kaggle/input/wav2vec-u-cv-swedish-audio/*.wrd | grep -v '^$' | sort| uniq > /kaggle/working/sentences.txt\n"
   ]
  },
  {
   "cell_type": "code",
   "execution_count": 13,
   "id": "coated-shoulder",
   "metadata": {
    "execution": {
     "iopub.execute_input": "2021-05-30T13:01:30.820770Z",
     "iopub.status.busy": "2021-05-30T13:01:30.819875Z",
     "iopub.status.idle": "2021-05-30T13:01:30.825098Z",
     "shell.execute_reply": "2021-05-30T13:01:30.824129Z",
     "shell.execute_reply.started": "2021-05-25T22:55:38.373919Z"
    },
    "papermill": {
     "duration": 0.042572,
     "end_time": "2021-05-30T13:01:30.825309",
     "exception": false,
     "start_time": "2021-05-30T13:01:30.782737",
     "status": "completed"
    },
    "tags": []
   },
   "outputs": [
    {
     "name": "stdout",
     "output_type": "stream",
     "text": [
      "/tmp/fairseq/examples/wav2vec/unsupervised\n"
     ]
    }
   ],
   "source": [
    "%cd fairseq/examples/wav2vec/unsupervised"
   ]
  },
  {
   "cell_type": "code",
   "execution_count": 14,
   "id": "optimum-departure",
   "metadata": {
    "execution": {
     "iopub.execute_input": "2021-05-30T13:01:30.896398Z",
     "iopub.status.busy": "2021-05-30T13:01:30.895856Z",
     "iopub.status.idle": "2021-05-30T13:01:34.784228Z",
     "shell.execute_reply": "2021-05-30T13:01:34.783720Z"
    },
    "papermill": {
     "duration": 3.925305,
     "end_time": "2021-05-30T13:01:34.784371",
     "exception": false,
     "start_time": "2021-05-30T13:01:30.859066",
     "status": "completed"
    },
    "tags": []
   },
   "outputs": [],
   "source": [
    "%%capture\n",
    "!apt-get -y install zsh"
   ]
  },
  {
   "cell_type": "code",
   "execution_count": 15,
   "id": "national-forge",
   "metadata": {
    "execution": {
     "iopub.execute_input": "2021-05-30T13:01:34.858957Z",
     "iopub.status.busy": "2021-05-30T13:01:34.858367Z",
     "iopub.status.idle": "2021-05-30T13:01:35.539062Z",
     "shell.execute_reply": "2021-05-30T13:01:35.538454Z",
     "shell.execute_reply.started": "2021-05-25T22:58:19.000595Z"
    },
    "papermill": {
     "duration": 0.722244,
     "end_time": "2021-05-30T13:01:35.539215",
     "exception": false,
     "start_time": "2021-05-30T13:01:34.816971",
     "status": "completed"
    },
    "tags": []
   },
   "outputs": [],
   "source": [
    "!mkdir /kaggle/working/preppedtext"
   ]
  },
  {
   "cell_type": "code",
   "execution_count": 16,
   "id": "cardiovascular-cartridge",
   "metadata": {
    "execution": {
     "iopub.execute_input": "2021-05-30T13:01:35.611199Z",
     "iopub.status.busy": "2021-05-30T13:01:35.610168Z",
     "iopub.status.idle": "2021-05-30T13:01:35.614445Z",
     "shell.execute_reply": "2021-05-30T13:01:35.614946Z",
     "shell.execute_reply.started": "2021-05-25T23:04:33.0148Z"
    },
    "papermill": {
     "duration": 0.042763,
     "end_time": "2021-05-30T13:01:35.615140",
     "exception": false,
     "start_time": "2021-05-30T13:01:35.572377",
     "status": "completed"
    },
    "tags": []
   },
   "outputs": [
    {
     "name": "stdout",
     "output_type": "stream",
     "text": [
      "/tmp/fairseq/examples/wav2vec/unsupervised/scripts\n"
     ]
    }
   ],
   "source": [
    "%cd scripts"
   ]
  },
  {
   "cell_type": "markdown",
   "id": "electronic-steal",
   "metadata": {
    "papermill": {
     "duration": 0.033406,
     "end_time": "2021-05-30T13:01:35.682195",
     "exception": false,
     "start_time": "2021-05-30T13:01:35.648789",
     "status": "completed"
    },
    "tags": []
   },
   "source": [
    "The next part requires a FastText language id model; I don't know where the 187 language model comes from, but there is a model for 176 languages [here](https://fasttext.cc/docs/en/language-identification.html#content)"
   ]
  },
  {
   "cell_type": "code",
   "execution_count": 17,
   "id": "forced-session",
   "metadata": {
    "execution": {
     "iopub.execute_input": "2021-05-30T13:01:35.757447Z",
     "iopub.status.busy": "2021-05-30T13:01:35.756758Z",
     "iopub.status.idle": "2021-05-30T13:01:48.925322Z",
     "shell.execute_reply": "2021-05-30T13:01:48.924791Z",
     "shell.execute_reply.started": "2021-05-25T23:26:05.700782Z"
    },
    "papermill": {
     "duration": 13.209878,
     "end_time": "2021-05-30T13:01:48.925465",
     "exception": false,
     "start_time": "2021-05-30T13:01:35.715587",
     "status": "completed"
    },
    "tags": []
   },
   "outputs": [
    {
     "name": "stdout",
     "output_type": "stream",
     "text": [
      "--2021-05-30 13:01:36--  https://dl.fbaipublicfiles.com/fasttext/supervised-models/lid.176.bin\r\n",
      "Resolving dl.fbaipublicfiles.com (dl.fbaipublicfiles.com)... 104.22.74.142, 172.67.9.4, 104.22.75.142, ...\r\n",
      "Connecting to dl.fbaipublicfiles.com (dl.fbaipublicfiles.com)|104.22.74.142|:443... connected.\r\n",
      "HTTP request sent, awaiting response... 200 OK\r\n",
      "Length: 131266198 (125M) [application/octet-stream]\r\n",
      "Saving to: ‘lid.176.bin’\r\n",
      "\r\n",
      "lid.176.bin         100%[===================>] 125.18M  12.2MB/s    in 12s     \r\n",
      "\r\n",
      "2021-05-30 13:01:48 (10.9 MB/s) - ‘lid.176.bin’ saved [131266198/131266198]\r\n",
      "\r\n"
     ]
    }
   ],
   "source": [
    "!wget https://dl.fbaipublicfiles.com/fasttext/supervised-models/lid.176.bin"
   ]
  },
  {
   "cell_type": "code",
   "execution_count": 18,
   "id": "conditional-sally",
   "metadata": {
    "execution": {
     "iopub.execute_input": "2021-05-30T13:01:49.022476Z",
     "iopub.status.busy": "2021-05-30T13:01:49.018360Z",
     "iopub.status.idle": "2021-05-30T13:01:50.392994Z",
     "shell.execute_reply": "2021-05-30T13:01:50.393925Z",
     "shell.execute_reply.started": "2021-05-25T23:28:29.362953Z"
    },
    "papermill": {
     "duration": 1.425423,
     "end_time": "2021-05-30T13:01:50.394104",
     "exception": false,
     "start_time": "2021-05-30T13:01:48.968681",
     "status": "completed"
    },
    "tags": []
   },
   "outputs": [],
   "source": [
    "!cat normalize_and_filter_text.py|sed -e 's/187/176/' > tmp\n",
    "!mv tmp normalize_and_filter_text.py"
   ]
  },
  {
   "cell_type": "code",
   "execution_count": 19,
   "id": "divided-exposure",
   "metadata": {
    "execution": {
     "iopub.execute_input": "2021-05-30T13:01:50.488209Z",
     "iopub.status.busy": "2021-05-30T13:01:50.487537Z",
     "iopub.status.idle": "2021-05-30T13:01:50.489317Z",
     "shell.execute_reply": "2021-05-30T13:01:50.489893Z"
    },
    "papermill": {
     "duration": 0.05177,
     "end_time": "2021-05-30T13:01:50.490046",
     "exception": false,
     "start_time": "2021-05-30T13:01:50.438276",
     "status": "completed"
    },
    "tags": []
   },
   "outputs": [],
   "source": [
    "# Needed to see what's going wrong\n",
    "os.environ['HYDRA_FULL_ERROR'] = '1'"
   ]
  },
  {
   "cell_type": "code",
   "execution_count": 20,
   "id": "expressed-grill",
   "metadata": {
    "execution": {
     "iopub.execute_input": "2021-05-30T13:01:50.580577Z",
     "iopub.status.busy": "2021-05-30T13:01:50.580061Z",
     "iopub.status.idle": "2021-05-30T13:01:51.255953Z",
     "shell.execute_reply": "2021-05-30T13:01:51.255456Z"
    },
    "papermill": {
     "duration": 0.721865,
     "end_time": "2021-05-30T13:01:51.256114",
     "exception": false,
     "start_time": "2021-05-30T13:01:50.534249",
     "status": "completed"
    },
    "tags": []
   },
   "outputs": [],
   "source": [
    "!mkdir /tmp/fairseq/examples/speech_recognition/kaldi/config"
   ]
  },
  {
   "cell_type": "markdown",
   "id": "alternate-sustainability",
   "metadata": {
    "papermill": {
     "duration": 0.044111,
     "end_time": "2021-05-30T13:01:51.345980",
     "exception": false,
     "start_time": "2021-05-30T13:01:51.301869",
     "status": "completed"
    },
    "tags": []
   },
   "source": [
    "There are two lines with missing variables in `prepare_text.sh` - [pull request](https://github.com/pytorch/fairseq/pull/3569) - so replace the file.\n",
    "\n",
    "While I'm replacing the file: the first run of `preprocess.py` results in a divide by zero; most of the first part of the script is unneeded, as we already have a phonetic dictionary, so use that instead."
   ]
  },
  {
   "cell_type": "code",
   "execution_count": 21,
   "id": "peaceful-progressive",
   "metadata": {
    "_kg_hide-input": true,
    "execution": {
     "iopub.execute_input": "2021-05-30T13:01:51.442431Z",
     "iopub.status.busy": "2021-05-30T13:01:51.441774Z",
     "iopub.status.idle": "2021-05-30T13:01:51.445711Z",
     "shell.execute_reply": "2021-05-30T13:01:51.446154Z"
    },
    "papermill": {
     "duration": 0.056497,
     "end_time": "2021-05-30T13:01:51.446303",
     "exception": false,
     "start_time": "2021-05-30T13:01:51.389806",
     "status": "completed"
    },
    "tags": []
   },
   "outputs": [
    {
     "name": "stdout",
     "output_type": "stream",
     "text": [
      "Overwriting prepare_text.sh\n"
     ]
    }
   ],
   "source": [
    "%%writefile prepare_text.sh\n",
    "#!/usr/bin/env zsh\n",
    "# Copyright (c) Facebook, Inc. and its affiliates.\n",
    "#\n",
    "# This source code is licensed under the MIT license found in the\n",
    "# LICENSE file in the root directory of this source tree.\n",
    "\n",
    "lg=$1\n",
    "text_path=$2\n",
    "target_dir=$3\n",
    "\n",
    "#ph_lg=${lg:l}\n",
    "#if test \"$lg\" = 'fr'; then\n",
    "#  ph_lg='fr-fr'\n",
    "#elif test \"$lg\" = 'en'; then\n",
    "#  ph_lg='en-us'\n",
    "#elif test \"$lg\" = 'pt'; then\n",
    "#  ph_lg='pt-br'\n",
    "#fi\n",
    "ph_lg=\"sv\"\n",
    "\n",
    "echo $lg\n",
    "echo $ph_lg\n",
    "echo $text_path\n",
    "echo $target_dir\n",
    "\n",
    "mkdir -p $target_dir\n",
    "#python normalize_and_filter_text.py --lang $lg < $text_path | grep -v '\\-\\-\\-' >! $target_dir/lm.upper.lid.txt\n",
    "#python $FAIRSEQ_ROOT/fairseq_cli/preprocess.py --dataset-impl mmap --trainpref $target_dir/lm.upper.lid.txt --only-source --destdir $target_dir --thresholdsrc 2 --padding-factor 1 --dict-only\n",
    "#cut -f1 -d' ' $target_dir/dict.txt | grep -v -x '[[:punct:]]*' | grep -Pv '\\d\\d\\d\\d\\d+' >! $target_dir/words.txt\n",
    "cp /kaggle/input/wav2vec-u-cv-swedish-audio/train.wrd $target_dir/lm.upper.lid.txt\n",
    "cut -f1 -d' ' /kaggle/input/wav2vec-u-cv-swedish-audio/dict.train >! $target_dir/words.txt\n",
    "\n",
    "#one=$(echo \"1\" | PHONEMIZER_ESPEAK_PATH=$(which espeak) phonemize -p ' ' -w '' -l $ph_lg --language-switch remove-flags)\n",
    "#sed 's/$/ 1/' $target_dir/words.txt | PHONEMIZER_ESPEAK_PATH=$(which espeak) phonemize -o $target_dir/phones.txt -p ' ' -w '' -l $ph_lg -j 70 --language-switch remove-flags\n",
    "cut -f2- -d' ' /kaggle/input/wav2vec-u-cv-swedish-audio/dict.train >! $target_dir/phones.txt\n",
    "\n",
    "#echo \"one is ${one}\"\n",
    "\n",
    "#sed -i \"s/${one}$//\" $target_dir/phones.txt\n",
    "#paste $target_dir/words.txt $target_dir/phones.txt >! $target_dir/lexicon.lst\n",
    "cp /kaggle/input/wav2vec-u-cv-swedish-audio/dict.train $target_dir/lexicon.lst\n",
    "\n",
    "#python $FAIRSEQ_ROOT/fairseq_cli/preprocess.py --dataset-impl mmap --trainpref $target_dir/phones.txt --only-source --destdir $target_dir/phones --thresholdsrc 1000 --padding-factor 1 --dict-only\n",
    "python $FAIRSEQ_ROOT/fairseq_cli/preprocess.py --dataset-impl mmap --trainpref $target_dir/phones.txt --only-source --destdir $target_dir/phones --thresholdsrc 2 --padding-factor 1 --dict-only\n",
    "\n",
    "python filter_lexicon.py -d $target_dir/phones/dict.txt < $target_dir/lexicon.lst >! $target_dir/lexicon_filtered.lst\n",
    "python phonemize_with_sil.py -s 0.25 --surround --lexicon $target_dir/lexicon_filtered.lst < $target_dir/lm.upper.lid.txt >! $target_dir/phones/lm.phones.filtered.txt\n",
    "cp $target_dir/phones/dict.txt $target_dir/phones/dict.phn.txt\n",
    "echo \"<SIL> 0\" >> $target_dir/phones/dict.phn.txt\n",
    "python $FAIRSEQ_ROOT/fairseq_cli/preprocess.py --dataset-impl mmap --trainpref $target_dir/phones/lm.phones.filtered.txt --workers 70 --only-source --destdir $target_dir/phones --srcdict $target_dir/phones/dict.phn.txt\n",
    "\n",
    "lmplz -o 4 < $target_dir/lm.upper.lid.txt --discount_fallback --prune 0 0 0 3 >! $target_dir/kenlm.wrd.o40003.arpa\n",
    "build_binary $target_dir/kenlm.wrd.o40003.arpa $target_dir/kenlm.wrd.o40003.bin\n",
    "lg=$lg python $FAIRSEQ_ROOT/examples/speech_recognition/kaldi/kaldi_initializer.py fst_dir=$target_dir/fst/phn_to_words_sil lm_arpa=$target_dir/kenlm.wrd.o40003.arpa wav2letter_lexicon=$target_dir/lexicon_filtered.lst data_dir=$target_dir/phones \"blank_symbol='<SIL>'\"\n",
    "lg=$lg python $FAIRSEQ_ROOT/examples/speech_recognition/kaldi/kaldi_initializer.py fst_dir=$target_dir/fst/phn_to_words lm_arpa=$target_dir/kenlm.wrd.o40003.arpa wav2letter_lexicon=$target_dir/lexicon_filtered.lst data_dir=$target_dir/phones\n",
    "\n",
    "lmplz -o 4 < $target_dir/phones/lm.phones.filtered.txt --discount_fallback >! $target_dir/phones/lm.phones.filtered.04.arpa\n",
    "build_binary -s $target_dir/phones/lm.phones.filtered.04.arpa $target_dir/phones/lm.phones.filtered.04.bin\n",
    "lmplz -o 6 < $target_dir/phones/lm.phones.filtered.txt --discount_fallback >! $target_dir/phones/lm.phones.filtered.06.arpa\n",
    "build_binary -s $target_dir/phones/lm.phones.filtered.06.arpa $target_dir/phones/lm.phones.filtered.06.bin\n",
    "\n",
    "lg=$lg python $FAIRSEQ_ROOT/examples/speech_recognition/kaldi/kaldi_initializer.py fst_dir=$target_dir/fst/phn_to_phn_sil lm_arpa=$target_dir/phones/lm.phones.filtered.06.arpa data_dir=$target_dir/phones \"blank_symbol='<SIL>'\""
   ]
  },
  {
   "cell_type": "markdown",
   "id": "consecutive-complaint",
   "metadata": {
    "papermill": {
     "duration": 0.045405,
     "end_time": "2021-05-30T13:01:51.536906",
     "exception": false,
     "start_time": "2021-05-30T13:01:51.491501",
     "status": "completed"
    },
    "tags": []
   },
   "source": [
    "`config.yaml` needs to exist. Most of the options are set on the command line, but not everything: `in_labels`, `out_labels`, `kaldi_root` and (for one run) `silence_symbol`. The options are:\n",
    "\n",
    "- `in_labels`\n",
    "- `wav2letter_lexicon`: path to wav2letter lexicon: set on the command line\n",
    "- `out_labels`\n",
    "- `kaldi_root`: path to Kaldi: `/opt/kaldi` for my kaggle image\n",
    "- `fst_dir`: path where generated fsts will be saved: set on the command line\n",
    "- `data_dir`: path to phones data: set on the command line\n",
    "- `lm_arpa`: path to the lm in ARPA format: set on the command line\n",
    "- `blank_symbol`: CTC blank symbol (`<s>` is used in the script)\n",
    "- `silence_symbol`: Kaldi symbol for silence (`<SIL>` is set on the command line for two of the scripts)\n",
    "\n"
   ]
  },
  {
   "cell_type": "code",
   "execution_count": 22,
   "id": "instant-birmingham",
   "metadata": {
    "execution": {
     "iopub.execute_input": "2021-05-30T13:01:51.630109Z",
     "iopub.status.busy": "2021-05-30T13:01:51.629311Z",
     "iopub.status.idle": "2021-05-30T13:01:51.632879Z",
     "shell.execute_reply": "2021-05-30T13:01:51.633415Z"
    },
    "papermill": {
     "duration": 0.052022,
     "end_time": "2021-05-30T13:01:51.633562",
     "exception": false,
     "start_time": "2021-05-30T13:01:51.581540",
     "status": "completed"
    },
    "tags": []
   },
   "outputs": [
    {
     "name": "stdout",
     "output_type": "stream",
     "text": [
      "Writing /tmp/fairseq/examples/speech_recognition/kaldi/config/config.yaml\n"
     ]
    }
   ],
   "source": [
    "%%writefile /tmp/fairseq/examples/speech_recognition/kaldi/config/config.yaml\n",
    "kaldi_root: \"/opt/kaldi\""
   ]
  },
  {
   "cell_type": "code",
   "execution_count": 23,
   "id": "continent-cabin",
   "metadata": {
    "execution": {
     "iopub.execute_input": "2021-05-30T13:01:51.725372Z",
     "iopub.status.busy": "2021-05-30T13:01:51.724827Z",
     "iopub.status.idle": "2021-05-30T13:02:17.643854Z",
     "shell.execute_reply": "2021-05-30T13:02:17.643245Z",
     "shell.execute_reply.started": "2021-05-25T23:28:33.84656Z"
    },
    "papermill": {
     "duration": 25.965758,
     "end_time": "2021-05-30T13:02:17.643993",
     "exception": false,
     "start_time": "2021-05-30T13:01:51.678235",
     "status": "completed"
    },
    "tags": []
   },
   "outputs": [
    {
     "name": "stdout",
     "output_type": "stream",
     "text": [
      "sv\r\n",
      "sv\r\n",
      "/kaggle/working/sentences.txt\r\n",
      "/kaggle/working/preppedtext\r\n",
      "=== 1/5 Counting and sorting n-grams ===\r\n",
      "Reading /kaggle/working/preppedtext/lm.upper.lid.txt\r\n",
      "----5---10---15---20---25---30---35---40---45---50---55---60---65---70---75---80---85---90---95--100\r\n",
      "****************************************************************************************************\r\n",
      "Unigram tokens 14359 types 3160\r\n",
      "=== 2/5 Calculating and sorting adjusted counts ===\r\n",
      "Chain sizes: 1:37920 2:2571431424 3:4821433856 4:7714294272\r\n",
      "Statistics:\r\n",
      "1 3160 D1=0.722623 D2=1.14413 D3+=1.45956\r\n",
      "2 10285 D1=0.848104 D2=1.2466 D3+=1.46191\r\n",
      "3 12632 D1=0.943362 D2=1.24166 D3+=1.32723\r\n",
      "4 19/11699 D1=0.970399 D2=1.4843 D3+=2.12351\r\n",
      "Memory estimate for binary LM:\r\n",
      "type     kB\r\n",
      "probing 617 assuming -p 1.5\r\n",
      "probing 764 assuming -r models -p 1.5\r\n",
      "trie    309 without quantization\r\n",
      "trie    182 assuming -q 8 -b 8 quantization \r\n",
      "trie    293 assuming -a 22 array pointer compression\r\n",
      "trie    166 assuming -a 22 -q 8 -b 8 array pointer compression and quantization\r\n",
      "=== 3/5 Calculating and sorting initial probabilities ===\r\n",
      "Chain sizes: 1:37920 2:164560 3:252640 4:456\r\n",
      "----5---10---15---20---25---30---35---40---45---50---55---60---65---70---75---80---85---90---95--100\r\n",
      "####################################################################################################\r\n",
      "=== 4/5 Calculating and writing order-interpolated probabilities ===\r\n",
      "Chain sizes: 1:37920 2:164560 3:252640 4:456\r\n",
      "----5---10---15---20---25---30---35---40---45---50---55---60---65---70---75---80---85---90---95--100\r\n",
      "####################################################################################################\r\n",
      "=== 5/5 Writing ARPA model ===\r\n",
      "----5---10---15---20---25---30---35---40---45---50---55---60---65---70---75---80---85---90---95--100\r\n",
      "****************************************************************************************************\r\n",
      "Name:lmplz\tVmPeak:14916876 kB\tVmRSS:6316 kB\tRSSMax:2975252 kB\tuser:0.429723\tsys:2.85281\tCPU:3.28257\treal:3.29524\r\n",
      "Reading /kaggle/working/preppedtext/kenlm.wrd.o40003.arpa\r\n",
      "----5---10---15---20---25---30---35---40---45---50---55---60---65---70---75---80---85---90---95--100\r\n",
      "****************************************************************************************************\r\n",
      "SUCCESS\r\n",
      "Traceback (most recent call last):\r\n",
      "  File \"/tmp/fairseq/examples/speech_recognition/kaldi/kaldi_initializer.py\", line 698, in <module>\r\n",
      "    cli_main()\r\n",
      "  File \"/opt/conda/lib/python3.7/site-packages/hydra/main.py\", line 37, in decorated_main\r\n",
      "    strict=strict,\r\n",
      "  File \"/opt/conda/lib/python3.7/site-packages/hydra/_internal/utils.py\", line 347, in _run_hydra\r\n",
      "    lambda: hydra.run(\r\n",
      "  File \"/opt/conda/lib/python3.7/site-packages/hydra/_internal/utils.py\", line 201, in run_and_report\r\n",
      "    raise ex\r\n",
      "  File \"/opt/conda/lib/python3.7/site-packages/hydra/_internal/utils.py\", line 198, in run_and_report\r\n",
      "    return func()\r\n",
      "  File \"/opt/conda/lib/python3.7/site-packages/hydra/_internal/utils.py\", line 350, in <lambda>\r\n",
      "    overrides=args.overrides,\r\n",
      "  File \"/opt/conda/lib/python3.7/site-packages/hydra/_internal/hydra.py\", line 112, in run\r\n",
      "    configure_logging=with_log_configuration,\r\n",
      "  File \"/opt/conda/lib/python3.7/site-packages/hydra/core/utils.py\", line 127, in run_job\r\n",
      "    ret.return_value = task_function(task_cfg)\r\n",
      "  File \"/tmp/fairseq/examples/speech_recognition/kaldi/kaldi_initializer.py\", line 677, in cli_main\r\n",
      "    initalize_kaldi(cfg)\r\n",
      "  File \"/tmp/fairseq/examples/speech_recognition/kaldi/kaldi_initializer.py\", line 616, in initalize_kaldi\r\n",
      "    cfg.out_labels = cfg.in_labels\r\n",
      "  File \"/opt/conda/lib/python3.7/site-packages/omegaconf/dictconfig.py\", line 305, in __getattr__\r\n",
      "    self._format_and_raise(key=key, value=None, cause=e)\r\n",
      "  File \"/opt/conda/lib/python3.7/site-packages/omegaconf/base.py\", line 101, in _format_and_raise\r\n",
      "    type_override=type_override,\r\n",
      "  File \"/opt/conda/lib/python3.7/site-packages/omegaconf/_utils.py\", line 694, in format_and_raise\r\n",
      "    _raise(ex, cause)\r\n",
      "  File \"/opt/conda/lib/python3.7/site-packages/omegaconf/_utils.py\", line 610, in _raise\r\n",
      "    raise ex  # set end OC_CAUSE=1 for full backtrace\r\n",
      "omegaconf.errors.MissingMandatoryValue: Missing mandatory value: in_labels\r\n",
      "\tfull_key: in_labels\r\n",
      "\treference_type=Optional[Dict[Union[str, Enum], Any]]\r\n",
      "\tobject_type=dict\r\n",
      "Traceback (most recent call last):\r\n",
      "  File \"/tmp/fairseq/examples/speech_recognition/kaldi/kaldi_initializer.py\", line 698, in <module>\r\n",
      "    cli_main()\r\n",
      "  File \"/opt/conda/lib/python3.7/site-packages/hydra/main.py\", line 37, in decorated_main\r\n",
      "    strict=strict,\r\n",
      "  File \"/opt/conda/lib/python3.7/site-packages/hydra/_internal/utils.py\", line 347, in _run_hydra\r\n",
      "    lambda: hydra.run(\r\n",
      "  File \"/opt/conda/lib/python3.7/site-packages/hydra/_internal/utils.py\", line 201, in run_and_report\r\n",
      "    raise ex\r\n",
      "  File \"/opt/conda/lib/python3.7/site-packages/hydra/_internal/utils.py\", line 198, in run_and_report\r\n",
      "    return func()\r\n",
      "  File \"/opt/conda/lib/python3.7/site-packages/hydra/_internal/utils.py\", line 350, in <lambda>\r\n",
      "    overrides=args.overrides,\r\n",
      "  File \"/opt/conda/lib/python3.7/site-packages/hydra/_internal/hydra.py\", line 112, in run\r\n",
      "    configure_logging=with_log_configuration,\r\n",
      "  File \"/opt/conda/lib/python3.7/site-packages/hydra/core/utils.py\", line 127, in run_job\r\n",
      "    ret.return_value = task_function(task_cfg)\r\n",
      "  File \"/tmp/fairseq/examples/speech_recognition/kaldi/kaldi_initializer.py\", line 677, in cli_main\r\n",
      "    initalize_kaldi(cfg)\r\n",
      "  File \"/tmp/fairseq/examples/speech_recognition/kaldi/kaldi_initializer.py\", line 616, in initalize_kaldi\r\n",
      "    cfg.out_labels = cfg.in_labels\r\n",
      "  File \"/opt/conda/lib/python3.7/site-packages/omegaconf/dictconfig.py\", line 305, in __getattr__\r\n",
      "    self._format_and_raise(key=key, value=None, cause=e)\r\n",
      "  File \"/opt/conda/lib/python3.7/site-packages/omegaconf/base.py\", line 101, in _format_and_raise\r\n",
      "    type_override=type_override,\r\n",
      "  File \"/opt/conda/lib/python3.7/site-packages/omegaconf/_utils.py\", line 694, in format_and_raise\r\n",
      "    _raise(ex, cause)\r\n",
      "  File \"/opt/conda/lib/python3.7/site-packages/omegaconf/_utils.py\", line 610, in _raise\r\n",
      "    raise ex  # set end OC_CAUSE=1 for full backtrace\r\n",
      "omegaconf.errors.MissingMandatoryValue: Missing mandatory value: in_labels\r\n",
      "\tfull_key: in_labels\r\n",
      "\treference_type=Optional[Dict[Union[str, Enum], Any]]\r\n",
      "\tobject_type=dict\r\n",
      "=== 1/5 Counting and sorting n-grams ===\r\n",
      "Reading /kaggle/working/preppedtext/phones/lm.phones.filtered.txt\r\n",
      "----5---10---15---20---25---30---35---40---45---50---55---60---65---70---75---80---85---90---95--100\r\n",
      "****************************************************************************************************\r\n",
      "Unigram tokens 63576 types 44\r\n",
      "=== 2/5 Calculating and sorting adjusted counts ===\r\n",
      "Chain sizes: 1:528 2:2571437824 3:4821446144 4:7714313728\r\n",
      "Substituting fallback discounts for order 0: D1=0.5 D2=1 D3+=1.5\r\n",
      "Statistics:\r\n",
      "1 44 D1=0.5 D2=1 D3+=1.5\r\n",
      "2 1058 D1=0.463807 D2=0.747721 D3+=1.51582\r\n",
      "3 8523 D1=0.556936 D2=1.15135 D3+=1.54515\r\n",
      "4 23107 D1=0.64494 D2=1.16373 D3+=1.45584\r\n",
      "Memory estimate for binary LM:\r\n",
      "type     kB\r\n",
      "probing 631 assuming -p 1.5\r\n",
      "probing 688 assuming -r models -p 1.5\r\n",
      "trie    203 without quantization\r\n",
      "trie     88 assuming -q 8 -b 8 quantization \r\n",
      "trie    196 assuming -a 22 array pointer compression\r\n",
      "trie     81 assuming -a 22 -q 8 -b 8 array pointer compression and quantization\r\n",
      "=== 3/5 Calculating and sorting initial probabilities ===\r\n",
      "Chain sizes: 1:528 2:16928 3:170460 4:554568\r\n",
      "----5---10---15---20---25---30---35---40---45---50---55---60---65---70---75---80---85---90---95--100\r\n",
      "####################################################################################################\r\n",
      "=== 4/5 Calculating and writing order-interpolated probabilities ===\r\n",
      "Chain sizes: 1:528 2:16928 3:170460 4:554568\r\n",
      "----5---10---15---20---25---30---35---40---45---50---55---60---65---70---75---80---85---90---95--100\r\n",
      "####################################################################################################\r\n",
      "=== 5/5 Writing ARPA model ===\r\n",
      "----5---10---15---20---25---30---35---40---45---50---55---60---65---70---75---80---85---90---95--100\r\n",
      "****************************************************************************************************\r\n",
      "Name:lmplz\tVmPeak:14916784 kB\tVmRSS:6748 kB\tRSSMax:2973728 kB\tuser:0.458556\tsys:1.62804\tCPU:2.08672\treal:2.52963\r\n",
      "Reading /kaggle/working/preppedtext/phones/lm.phones.filtered.04.arpa\r\n",
      "----5---10---15---20---25---30---35---40---45---50---55---60---65---70---75---80---85---90---95--100\r\n",
      "****************************************************************************************************\r\n",
      "SUCCESS\r\n",
      "=== 1/5 Counting and sorting n-grams ===\r\n",
      "Reading /kaggle/working/preppedtext/phones/lm.phones.filtered.txt\r\n",
      "----5---10---15---20---25---30---35---40---45---50---55---60---65---70---75---80---85---90---95--100\r\n",
      "****************************************************************************************************\r\n",
      "Unigram tokens 63576 types 44\r\n",
      "=== 2/5 Calculating and sorting adjusted counts ===\r\n",
      "Chain sizes: 1:528 2:929673728 3:1743138176 4:2789021184 5:4067322624 6:5578042368\r\n",
      "Substituting fallback discounts for order 0: D1=0.5 D2=1 D3+=1.5\r\n",
      "Statistics:\r\n",
      "1 44 D1=0.5 D2=1 D3+=1.5\r\n",
      "2 1058 D1=0.463807 D2=0.747721 D3+=1.51582\r\n",
      "3 8523 D1=0.556936 D2=1.15135 D3+=1.54515\r\n",
      "4 23107 D1=0.707584 D2=1.25295 D3+=1.61027\r\n",
      "5 35895 D1=0.825177 D2=1.29985 D3+=1.63185\r\n",
      "6 43597 D1=0.832686 D2=1.26828 D3+=1.56995\r\n",
      "Memory estimate for binary LM:\r\n",
      "type      kB\r\n",
      "probing 2374 assuming -p 1.5\r\n",
      "probing 2776 assuming -r models -p 1.5\r\n",
      "trie     908 without quantization\r\n",
      "trie     401 assuming -q 8 -b 8 quantization \r\n",
      "trie     838 assuming -a 22 array pointer compression\r\n",
      "trie     331 assuming -a 22 -q 8 -b 8 array pointer compression and quantization\r\n",
      "=== 3/5 Calculating and sorting initial probabilities ===\r\n",
      "Chain sizes: 1:528 2:16928 3:170460 4:554568 5:1005060 6:1395104\r\n",
      "----5---10---15---20---25---30---35---40---45---50---55---60---65---70---75---80---85---90---95--100\r\n",
      "####################################################################################################\r\n",
      "=== 4/5 Calculating and writing order-interpolated probabilities ===\r\n",
      "Chain sizes: 1:528 2:16928 3:170460 4:554568 5:1005060 6:1395104\r\n",
      "----5---10---15---20---25---30---35---40---45---50---55---60---65---70---75---80---85---90---95--100\r\n",
      "####################################################################################################\r\n",
      "=== 5/5 Writing ARPA model ===\r\n",
      "----5---10---15---20---25---30---35---40---45---50---55---60---65---70---75---80---85---90---95--100\r\n",
      "****************************************************************************************************\r\n",
      "Name:lmplz\tVmPeak:14949572 kB\tVmRSS:6332 kB\tRSSMax:2354456 kB\tuser:0.411663\tsys:1.1522\tCPU:1.56393\treal:1.53177\r\n",
      "Reading /kaggle/working/preppedtext/phones/lm.phones.filtered.06.arpa\r\n",
      "----5---10---15---20---25---30---35---40---45---50---55---60---65---70---75---80---85---90---95--100\r\n",
      "****************************************************************************************************\r\n",
      "SUCCESS\r\n",
      "Traceback (most recent call last):\r\n",
      "  File \"/tmp/fairseq/examples/speech_recognition/kaldi/kaldi_initializer.py\", line 698, in <module>\r\n",
      "    cli_main()\r\n",
      "  File \"/opt/conda/lib/python3.7/site-packages/hydra/main.py\", line 37, in decorated_main\r\n",
      "    strict=strict,\r\n",
      "  File \"/opt/conda/lib/python3.7/site-packages/hydra/_internal/utils.py\", line 347, in _run_hydra\r\n",
      "    lambda: hydra.run(\r\n",
      "  File \"/opt/conda/lib/python3.7/site-packages/hydra/_internal/utils.py\", line 201, in run_and_report\r\n",
      "    raise ex\r\n",
      "  File \"/opt/conda/lib/python3.7/site-packages/hydra/_internal/utils.py\", line 198, in run_and_report\r\n",
      "    return func()\r\n",
      "  File \"/opt/conda/lib/python3.7/site-packages/hydra/_internal/utils.py\", line 350, in <lambda>\r\n",
      "    overrides=args.overrides,\r\n",
      "  File \"/opt/conda/lib/python3.7/site-packages/hydra/_internal/hydra.py\", line 112, in run\r\n",
      "    configure_logging=with_log_configuration,\r\n",
      "  File \"/opt/conda/lib/python3.7/site-packages/hydra/core/utils.py\", line 127, in run_job\r\n",
      "    ret.return_value = task_function(task_cfg)\r\n",
      "  File \"/tmp/fairseq/examples/speech_recognition/kaldi/kaldi_initializer.py\", line 677, in cli_main\r\n",
      "    initalize_kaldi(cfg)\r\n",
      "  File \"/tmp/fairseq/examples/speech_recognition/kaldi/kaldi_initializer.py\", line 616, in initalize_kaldi\r\n",
      "    cfg.out_labels = cfg.in_labels\r\n",
      "  File \"/opt/conda/lib/python3.7/site-packages/omegaconf/dictconfig.py\", line 305, in __getattr__\r\n",
      "    self._format_and_raise(key=key, value=None, cause=e)\r\n",
      "  File \"/opt/conda/lib/python3.7/site-packages/omegaconf/base.py\", line 101, in _format_and_raise\r\n",
      "    type_override=type_override,\r\n",
      "  File \"/opt/conda/lib/python3.7/site-packages/omegaconf/_utils.py\", line 694, in format_and_raise\r\n",
      "    _raise(ex, cause)\r\n",
      "  File \"/opt/conda/lib/python3.7/site-packages/omegaconf/_utils.py\", line 610, in _raise\r\n",
      "    raise ex  # set end OC_CAUSE=1 for full backtrace\r\n",
      "omegaconf.errors.MissingMandatoryValue: Missing mandatory value: in_labels\r\n",
      "\tfull_key: in_labels\r\n",
      "\treference_type=Optional[Dict[Union[str, Enum], Any]]\r\n",
      "\tobject_type=dict\r\n"
     ]
    }
   ],
   "source": [
    "!zsh prepare_text.sh sv /kaggle/working/sentences.txt /kaggle/working/preppedtext"
   ]
  }
 ],
 "metadata": {
  "kernelspec": {
   "display_name": "Python 3",
   "language": "python",
   "name": "python3"
  },
  "language_info": {
   "codemirror_mode": {
    "name": "ipython",
    "version": 3
   },
   "file_extension": ".py",
   "mimetype": "text/x-python",
   "name": "python",
   "nbconvert_exporter": "python",
   "pygments_lexer": "ipython3",
   "version": "3.7.10"
  },
  "papermill": {
   "default_parameters": {},
   "duration": 253.86196,
   "end_time": "2021-05-30T13:02:19.062505",
   "environment_variables": {},
   "exception": null,
   "input_path": "__notebook__.ipynb",
   "output_path": "__notebook__.ipynb",
   "parameters": {},
   "start_time": "2021-05-30T12:58:05.200545",
   "version": "2.3.3"
  }
 },
 "nbformat": 4,
 "nbformat_minor": 5
}
