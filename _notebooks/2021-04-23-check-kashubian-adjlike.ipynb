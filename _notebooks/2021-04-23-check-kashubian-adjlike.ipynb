{
 "cells": [
  {
   "cell_type": "code",
   "execution_count": 1,
   "id": "64a48bc5",
   "metadata": {},
   "outputs": [],
   "source": [
    "def _list_to_check(pos):\n",
    "    num = ['sg', 'pl']\n",
    "    gen = ['mp', 'ma', 'mi', 'f', 'nt']\n",
    "    cas = ['nom', 'gen', 'dat', 'acc', 'ins', 'loc', 'voc']\n",
    "    out = []\n",
    "    for n in num:\n",
    "        for g in gen:\n",
    "            for c in cas:\n",
    "                out.append(f\"{pos}.{g}.{n}.{c}\")\n",
    "    return out"
   ]
  },
  {
   "cell_type": "code",
   "execution_count": 5,
   "id": "24dc7973",
   "metadata": {},
   "outputs": [
    {
     "data": {
      "text/plain": [
       "70"
      ]
     },
     "execution_count": 5,
     "metadata": {},
     "output_type": "execute_result"
    }
   ],
   "source": [
    "len(_list_to_check('num.ord'))"
   ]
  },
  {
   "cell_type": "code",
   "execution_count": 14,
   "id": "483330fb",
   "metadata": {},
   "outputs": [],
   "source": [
    "dredzi = \"\"\"\n",
    "drëdżi\tdrëdżi\tnum.ord.mp|ma|mi.sg.nom|voc\n",
    "drëgô\tdrëdżi\tnum.ord.f.sg.nom|voc\n",
    "drëdżé\tdrëdżi\tnum.ord.nt.sg.nom|acc|voc\n",
    "drëgą\tdrëdżi\tnum.ord.f.sg.acc|ins\n",
    "drëdżi\tdrëdżi\tnum.ord.f.sg.gen|dat|loc\n",
    "drëdżim\tdrëdżi\tnum.ord.mp|ma|mi|nt.sg.loc|ins\n",
    "drëdżé\tdrëdżi\tnum.ord.nt|f|mi|ma.pl.nom|acc|voc\n",
    "drëdżich\tdrëdżi\tnum.ord.nt|f|mi|ma|mp.pl.gen|loc\n",
    "drëdżima\tdrëdżi\tnum.ord.nt|f|mi|ma.pl.ins\n",
    "drëdżégò\tdrëdżi\tnum.ord.nt|mi|ma|mp.sg.gen\n",
    "drëdżégò\tdrëdżi\tnum.ord.ma|mp.sg.acc\n",
    "drëdżémù\tdrëdżi\tnum.ord.nt|mi|ma|mp.sg.dat\n",
    "drëdżi\tdrëdżi\tnum.ord.mp.pl.nom|voc\n",
    "drëdżich\tdrëdżi\tnum.ord.mp.pl.acc\n",
    "drëdżim\tdrëdżi\tnum.ord.nt|f|mi|ma|mp.pl.dat\n",
    "\"\"\""
   ]
  },
  {
   "cell_type": "code",
   "execution_count": 22,
   "id": "266631dc",
   "metadata": {},
   "outputs": [],
   "source": [
    "def _do_expand(stack, todo):\n",
    "    onward = []\n",
    "    if not '.' in todo:\n",
    "        return [f'{a}.{b}' for a in stack for b in todo.split('|')]\n",
    "    cur, rest = todo.split('.', 1)\n",
    "    if stack == []:\n",
    "        onward = cur.split('|')\n",
    "        return _do_expand(onward, rest)\n",
    "    else:\n",
    "        onward = [f'{a}.{b}' for a in stack for b in cur.split('|')]\n",
    "        return _do_expand(onward, rest)\n",
    "def expand_compressed(lines):\n",
    "    output = []\n",
    "    for i in lines:\n",
    "        form, lemma, postag = i.split('\\t')\n",
    "        newtags = _do_expand([], postag)\n",
    "        output.extend([f\"{form}\\t{lemma}\\t{itag}\" for itag in newtags])\n",
    "    return output"
   ]
  },
  {
   "cell_type": "code",
   "execution_count": 23,
   "id": "9ce1740f",
   "metadata": {},
   "outputs": [
    {
     "data": {
      "text/plain": [
       "['drëdżi\\tdrëdżi\\tnum.ord.mp.sg.nom',\n",
       " 'drëdżi\\tdrëdżi\\tnum.ord.mp.sg.voc',\n",
       " 'drëdżi\\tdrëdżi\\tnum.ord.ma.sg.nom',\n",
       " 'drëdżi\\tdrëdżi\\tnum.ord.ma.sg.voc',\n",
       " 'drëdżi\\tdrëdżi\\tnum.ord.mi.sg.nom',\n",
       " 'drëdżi\\tdrëdżi\\tnum.ord.mi.sg.voc',\n",
       " 'drëgô\\tdrëdżi\\tnum.ord.f.sg.nom',\n",
       " 'drëgô\\tdrëdżi\\tnum.ord.f.sg.voc',\n",
       " 'drëdżé\\tdrëdżi\\tnum.ord.nt.sg.nom',\n",
       " 'drëdżé\\tdrëdżi\\tnum.ord.nt.sg.acc',\n",
       " 'drëdżé\\tdrëdżi\\tnum.ord.nt.sg.voc',\n",
       " 'drëgą\\tdrëdżi\\tnum.ord.f.sg.acc',\n",
       " 'drëgą\\tdrëdżi\\tnum.ord.f.sg.ins',\n",
       " 'drëdżi\\tdrëdżi\\tnum.ord.f.sg.gen',\n",
       " 'drëdżi\\tdrëdżi\\tnum.ord.f.sg.dat',\n",
       " 'drëdżi\\tdrëdżi\\tnum.ord.f.sg.loc',\n",
       " 'drëdżim\\tdrëdżi\\tnum.ord.mp.sg.loc',\n",
       " 'drëdżim\\tdrëdżi\\tnum.ord.mp.sg.ins',\n",
       " 'drëdżim\\tdrëdżi\\tnum.ord.ma.sg.loc',\n",
       " 'drëdżim\\tdrëdżi\\tnum.ord.ma.sg.ins',\n",
       " 'drëdżim\\tdrëdżi\\tnum.ord.mi.sg.loc',\n",
       " 'drëdżim\\tdrëdżi\\tnum.ord.mi.sg.ins',\n",
       " 'drëdżim\\tdrëdżi\\tnum.ord.nt.sg.loc',\n",
       " 'drëdżim\\tdrëdżi\\tnum.ord.nt.sg.ins',\n",
       " 'drëdżé\\tdrëdżi\\tnum.ord.nt.pl.nom',\n",
       " 'drëdżé\\tdrëdżi\\tnum.ord.nt.pl.acc',\n",
       " 'drëdżé\\tdrëdżi\\tnum.ord.nt.pl.voc',\n",
       " 'drëdżé\\tdrëdżi\\tnum.ord.f.pl.nom',\n",
       " 'drëdżé\\tdrëdżi\\tnum.ord.f.pl.acc',\n",
       " 'drëdżé\\tdrëdżi\\tnum.ord.f.pl.voc',\n",
       " 'drëdżé\\tdrëdżi\\tnum.ord.mi.pl.nom',\n",
       " 'drëdżé\\tdrëdżi\\tnum.ord.mi.pl.acc',\n",
       " 'drëdżé\\tdrëdżi\\tnum.ord.mi.pl.voc',\n",
       " 'drëdżé\\tdrëdżi\\tnum.ord.ma.pl.nom',\n",
       " 'drëdżé\\tdrëdżi\\tnum.ord.ma.pl.acc',\n",
       " 'drëdżé\\tdrëdżi\\tnum.ord.ma.pl.voc',\n",
       " 'drëdżich\\tdrëdżi\\tnum.ord.nt.pl.gen',\n",
       " 'drëdżich\\tdrëdżi\\tnum.ord.nt.pl.loc',\n",
       " 'drëdżich\\tdrëdżi\\tnum.ord.f.pl.gen',\n",
       " 'drëdżich\\tdrëdżi\\tnum.ord.f.pl.loc',\n",
       " 'drëdżich\\tdrëdżi\\tnum.ord.mi.pl.gen',\n",
       " 'drëdżich\\tdrëdżi\\tnum.ord.mi.pl.loc',\n",
       " 'drëdżich\\tdrëdżi\\tnum.ord.ma.pl.gen',\n",
       " 'drëdżich\\tdrëdżi\\tnum.ord.ma.pl.loc',\n",
       " 'drëdżich\\tdrëdżi\\tnum.ord.mp.pl.gen',\n",
       " 'drëdżich\\tdrëdżi\\tnum.ord.mp.pl.loc',\n",
       " 'drëdżima\\tdrëdżi\\tnum.ord.nt.pl.ins',\n",
       " 'drëdżima\\tdrëdżi\\tnum.ord.f.pl.ins',\n",
       " 'drëdżima\\tdrëdżi\\tnum.ord.mi.pl.ins',\n",
       " 'drëdżima\\tdrëdżi\\tnum.ord.ma.pl.ins',\n",
       " 'drëdżégò\\tdrëdżi\\tnum.ord.nt.sg.gen',\n",
       " 'drëdżégò\\tdrëdżi\\tnum.ord.mi.sg.gen',\n",
       " 'drëdżégò\\tdrëdżi\\tnum.ord.ma.sg.gen',\n",
       " 'drëdżégò\\tdrëdżi\\tnum.ord.mp.sg.gen',\n",
       " 'drëdżégò\\tdrëdżi\\tnum.ord.ma.sg.acc',\n",
       " 'drëdżégò\\tdrëdżi\\tnum.ord.mp.sg.acc',\n",
       " 'drëdżémù\\tdrëdżi\\tnum.ord.nt.sg.dat',\n",
       " 'drëdżémù\\tdrëdżi\\tnum.ord.mi.sg.dat',\n",
       " 'drëdżémù\\tdrëdżi\\tnum.ord.ma.sg.dat',\n",
       " 'drëdżémù\\tdrëdżi\\tnum.ord.mp.sg.dat',\n",
       " 'drëdżi\\tdrëdżi\\tnum.ord.mp.pl.nom',\n",
       " 'drëdżi\\tdrëdżi\\tnum.ord.mp.pl.voc',\n",
       " 'drëdżich\\tdrëdżi\\tnum.ord.mp.pl.acc',\n",
       " 'drëdżim\\tdrëdżi\\tnum.ord.nt.pl.dat',\n",
       " 'drëdżim\\tdrëdżi\\tnum.ord.f.pl.dat',\n",
       " 'drëdżim\\tdrëdżi\\tnum.ord.mi.pl.dat',\n",
       " 'drëdżim\\tdrëdżi\\tnum.ord.ma.pl.dat',\n",
       " 'drëdżim\\tdrëdżi\\tnum.ord.mp.pl.dat']"
      ]
     },
     "execution_count": 23,
     "metadata": {},
     "output_type": "execute_result"
    }
   ],
   "source": [
    "expand_compressed([l for l in dredzi.split('\\n') if l != ''])"
   ]
  },
  {
   "cell_type": "code",
   "execution_count": 25,
   "id": "9e91c194",
   "metadata": {},
   "outputs": [],
   "source": [
    "vals = expand_compressed([l for l in dredzi.split('\\n') if l != ''])"
   ]
  },
  {
   "cell_type": "code",
   "execution_count": 26,
   "id": "2eb75b21",
   "metadata": {},
   "outputs": [],
   "source": [
    "tags = [a.split('\\t')[-1] for a in vals]"
   ]
  },
  {
   "cell_type": "code",
   "execution_count": 30,
   "id": "64736c78",
   "metadata": {},
   "outputs": [
    {
     "name": "stdout",
     "output_type": "stream",
     "text": [
      "('insert', 1, 1, 1, 6)\n",
      "('insert', 3, 3, 8, 13)\n",
      "('insert', 5, 5, 15, 20)\n",
      "('insert', 7, 7, 22, 27)\n",
      "('insert', 9, 9, 29, 31)\n",
      "('insert', 10, 10, 32, 34)\n",
      "('replace', 11, 24, 35, 63)\n",
      "('insert', 25, 25, 64, 66)\n",
      "('insert', 26, 26, 67, 69)\n",
      "('delete', 27, 68, 70, 70)\n"
     ]
    }
   ],
   "source": [
    "from difflib import SequenceMatcher\n",
    "sm = SequenceMatcher(None, tags, _list_to_check('num.ord'))\n",
    "for oc in sm.get_opcodes():\n",
    "    if oc[0] == 'equal':\n",
    "        continue\n",
    "    else:\n",
    "        print(oc)"
   ]
  },
  {
   "cell_type": "code",
   "execution_count": 31,
   "id": "53ddca45",
   "metadata": {},
   "outputs": [
    {
     "name": "stdout",
     "output_type": "stream",
     "text": [
      "num.ord.mi.sg.acc\n",
      "num.ord.mp.pl.ins\n"
     ]
    }
   ],
   "source": [
    "for tc in _list_to_check('num.ord'):\n",
    "    if not tc in tags:\n",
    "        print(tc)"
   ]
  },
  {
   "cell_type": "code",
   "execution_count": null,
   "id": "b2eed595",
   "metadata": {},
   "outputs": [],
   "source": []
  }
 ],
 "metadata": {
  "kernelspec": {
   "display_name": "Python 3",
   "language": "python",
   "name": "python3"
  },
  "language_info": {
   "codemirror_mode": {
    "name": "ipython",
    "version": 3
   },
   "file_extension": ".py",
   "mimetype": "text/x-python",
   "name": "python",
   "nbconvert_exporter": "python",
   "pygments_lexer": "ipython3",
   "version": "3.8.2"
  }
 },
 "nbformat": 4,
 "nbformat_minor": 5
}
