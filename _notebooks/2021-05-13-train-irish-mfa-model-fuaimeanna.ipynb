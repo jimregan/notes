{
 "cells": [
  {
   "cell_type": "markdown",
   "id": "concrete-wholesale",
   "metadata": {
    "papermill": {
     "duration": 0.013892,
     "end_time": "2023-07-12T16:29:53.132108",
     "exception": false,
     "start_time": "2023-07-12T16:29:53.118216",
     "status": "completed"
    },
    "tags": []
   },
   "source": [
    "## Part, the first\n",
    "### Setting up MFA"
   ]
  },
  {
   "cell_type": "markdown",
   "id": "coupled-demand",
   "metadata": {
    "papermill": {
     "duration": 0.011959,
     "end_time": "2023-07-12T16:29:53.156653",
     "exception": false,
     "start_time": "2023-07-12T16:29:53.144694",
     "status": "completed"
    },
    "tags": []
   },
   "source": [
    "Upgrading python from [this notebook](https://www.kaggle.com/code/svaningelgem/upgrade-to-python-3-10)"
   ]
  },
  {
   "cell_type": "code",
   "execution_count": 1,
   "id": "aerial-toolbox",
   "metadata": {
    "execution": {
     "iopub.execute_input": "2023-07-12T16:29:53.190341Z",
     "iopub.status.busy": "2023-07-12T16:29:53.187198Z",
     "iopub.status.idle": "2023-07-12T16:49:06.872277Z",
     "shell.execute_reply": "2023-07-12T16:49:06.873632Z",
     "shell.execute_reply.started": "2023-07-12T16:11:37.082269Z"
    },
    "papermill": {
     "duration": 1153.706058,
     "end_time": "2023-07-12T16:49:06.875193",
     "exception": false,
     "start_time": "2023-07-12T16:29:53.169135",
     "status": "completed"
    },
    "tags": []
   },
   "outputs": [],
   "source": [
    "%%capture\n",
    "!conda create -n py310 -y\n",
    "!source /opt/conda/bin/activate py310 && conda install python=3.10 jupyter montreal-forced-aligner mamba -y"
   ]
  },
  {
   "cell_type": "code",
   "execution_count": 2,
   "id": "composite-assault",
   "metadata": {
    "execution": {
     "iopub.execute_input": "2023-07-12T16:49:06.912882Z",
     "iopub.status.busy": "2023-07-12T16:49:06.911740Z",
     "iopub.status.idle": "2023-07-12T16:49:13.538052Z",
     "shell.execute_reply": "2023-07-12T16:49:13.537285Z",
     "shell.execute_reply.started": "2023-07-12T16:27:45.005999Z"
    },
    "papermill": {
     "duration": 6.645909,
     "end_time": "2023-07-12T16:49:13.538237",
     "exception": false,
     "start_time": "2023-07-12T16:49:06.892328",
     "status": "completed"
    },
    "tags": []
   },
   "outputs": [],
   "source": [
    "!rm /opt/conda/bin/python3\n",
    "!ln -sf /opt/conda/envs/py310/bin/python3 /opt/conda/bin/python3\n",
    "!rm /opt/conda/bin/python3.7\n",
    "!ln -sf /opt/conda/envs/py310/bin/python3 /opt/conda/bin/python3.7\n",
    "!rm /opt/conda/bin/python\n",
    "!ln -sf /opt/conda/envs/py310/bin/python3 /opt/conda/bin/python"
   ]
  },
  {
   "cell_type": "markdown",
   "id": "turned-logistics",
   "metadata": {
    "papermill": {
     "duration": 0.012132,
     "end_time": "2023-07-12T16:49:13.563233",
     "exception": false,
     "start_time": "2023-07-12T16:49:13.551101",
     "status": "completed"
    },
    "tags": []
   },
   "source": [
    "To create the same data, fork and run [this notebook](https://www.kaggle.com/jimregan/scrape-fuaimeanna-ie)"
   ]
  },
  {
   "cell_type": "code",
   "execution_count": 3,
   "id": "basic-carnival",
   "metadata": {
    "execution": {
     "iopub.execute_input": "2023-07-12T16:49:13.603337Z",
     "iopub.status.busy": "2023-07-12T16:49:13.597996Z",
     "iopub.status.idle": "2023-07-12T16:49:32.559997Z",
     "shell.execute_reply": "2023-07-12T16:49:32.558950Z",
     "shell.execute_reply.started": "2023-07-12T16:26:14.307049Z"
    },
    "papermill": {
     "duration": 18.984435,
     "end_time": "2023-07-12T16:49:32.560261",
     "exception": false,
     "start_time": "2023-07-12T16:49:13.575826",
     "status": "completed"
    },
    "tags": []
   },
   "outputs": [],
   "source": [
    "!mkdir /tmp/m\n",
    "!mkdir /tmp/c\n",
    "!mkdir /tmp/u\n",
    "\n",
    "!cp ../input/scrape-fuaimeanna-private/wav/*s1.wav /tmp/u\n",
    "!cp ../input/scrape-fuaimeanna-private/wav/*s2.wav /tmp/m\n",
    "!cp ../input/scrape-fuaimeanna-private/wav/*s3.wav /tmp/c"
   ]
  },
  {
   "cell_type": "code",
   "execution_count": 4,
   "id": "defensive-malta",
   "metadata": {
    "execution": {
     "iopub.execute_input": "2023-07-12T16:49:32.594075Z",
     "iopub.status.busy": "2023-07-12T16:49:32.592728Z",
     "iopub.status.idle": "2023-07-12T16:49:32.607281Z",
     "shell.execute_reply": "2023-07-12T16:49:32.605976Z",
     "shell.execute_reply.started": "2023-07-12T16:26:14.293104Z"
    },
    "papermill": {
     "duration": 0.033116,
     "end_time": "2023-07-12T16:49:32.607487",
     "exception": false,
     "start_time": "2023-07-12T16:49:32.574371",
     "status": "completed"
    },
    "tags": []
   },
   "outputs": [
    {
     "name": "stdout",
     "output_type": "stream",
     "text": [
      "Writing /tmp/fuaimeanna-write.pl\n"
     ]
    }
   ],
   "source": [
    "%%writefile /tmp/fuaimeanna-write.pl\n",
    "#!/usr/bin/perl\n",
    "use warnings;\n",
    "use strict;\n",
    "use utf8;\n",
    "\n",
    "binmode(STDIN, \":utf8\");\n",
    "binmode(STDOUT, \":utf8\");\n",
    "binmode(STDERR, \":utf8\");\n",
    "\n",
    "my %cr_files = (\n",
    "\t'mo shmidiú' => 'mo chuid smidiú',\n",
    "\t'mo shmior' => 'mo chuid smior',\n",
    "\t'mo shmólach' => 'mo smólach',\n",
    "\t'shmachtaigh' => 'smachtaigh',\n",
    "\t'shmaoinigh' => 'smaoinigh',\n",
    "\t'shmear' => 'smear',\n",
    "\t'deamhain' => 'diabhail',\n",
    "\t'folach' => 'i bhfolach',\n",
    "\t'captaen' => 'caiptín',\n",
    "\t'oirthe' => 'feilte',\n",
    ");\n",
    "my %empty = (\n",
    "\t'/sounds/gob_i3_s3.mp3' => 1,\n",
    "\t'/sounds/iioctha_i3_s3.mp3' => 1,\n",
    "\t'/sounds/mo_shuiiochaan_i3_s3.mp3' => 1,\n",
    "\t'/sounds/riail_i3_s3.mp3' => 1\n",
    ");\n",
    "\n",
    "open(LEXM, '>>', '/tmp/lexicon-munster.raw');\n",
    "binmode LEXM, ':utf8';\n",
    "open(LEXU, '>>', '/tmp/lexicon-ulster.raw');\n",
    "binmode LEXU, ':utf8';\n",
    "open(LEXC, '>>', '/tmp/lexicon-connaught.raw');\n",
    "binmode LEXC, ':utf8';\n",
    "\n",
    "sub write_text {\n",
    "\tmy $file = shift;\n",
    "\tmy $text = shift;\n",
    "\topen(OUTF, '>>', $file);\n",
    "\tbinmode OUTF, ':utf8';\n",
    "\tprint OUTF $text;\n",
    "\tclose OUTF;\n",
    "}\n",
    "\n",
    "sub write_pron {\n",
    "\tmy $file = shift;\n",
    "\tmy $text = shift;\n",
    "\tmy $pron = shift;\n",
    "\tif ($text eq 'ar tí') {\n",
    "\t\t$pron =~ s/ \\. ˈ / # /g;\n",
    "\t}\n",
    "\t$pron =~ s/ [ˈˌ] / /g;\n",
    "\t$pron =~ s/^[ˈˌ] //g;\n",
    "\t$pron =~ s/ \\. / /g;\n",
    "\tmy @words = split/ /, $text;\n",
    "\tmy @prons = split/ \\# /, $pron;\n",
    "\tif($#words != $#prons) {\n",
    "\t\tprint STDERR \"ERROR: $file $text $pron\\n\";\n",
    "\t}\n",
    "\tif($#words == 0) {\n",
    "\t\tprint $file \"$text $pron\\n\";\n",
    "\t} else {\n",
    "\t\tfor(my $i = 0; $i <= $#words; $i++) {\n",
    "\t\t\tprint $file \"$words[$i] $prons[$i]\\n\";\n",
    "\t\t}\n",
    "\t}\n",
    "}\n",
    "\n",
    "while(<STDIN>) {\n",
    "\tchomp;\n",
    "\tmy @line = split/\\t/;\n",
    "\tnext if($line[0] eq 'Orthographic');\n",
    "\tmy $text = lc($line[0]);\n",
    "\tnext if($line[0] eq \"d'fhág\");\n",
    "\tmy $uout = $line[1];\n",
    "\t$uout =~ s!/sounds/!!;\n",
    "\t$uout =~ s/\\.mp3$/.txt/;\n",
    "\tmy $cout = $line[3];\n",
    "\t$cout =~ s!/sounds/!!;\n",
    "\t$cout =~ s/\\.mp3$/.txt/;\n",
    "\tmy $mout = $line[5];\n",
    "\t$mout =~ s!/sounds/!!;\n",
    "\t$mout =~ s/\\.mp3$/.txt/;\n",
    "\t$uout = '/tmp/u/' . $uout;\n",
    "\t$cout = '/tmp/c/' . $cout;\n",
    "\t$mout = '/tmp/m/' . $mout;\n",
    "\n",
    "\tmy $pronu = $line[2];\n",
    "\tmy $pronc = $line[4];\n",
    "\tmy $pronm = $line[6];\n",
    "\n",
    "\tif($text eq 'Gaeilge') {\n",
    "\t\twrite_text($uout, \"gaeilic\");\n",
    "\t\twrite_text($cout, \"gaeilge\");\n",
    "\t\twrite_text($mout, \"gaelainn\");\n",
    "\t\twrite_pron(\\*LEXU, \"gaeilic\", $pronu);\n",
    "\t\twrite_pron(\\*LEXC, \"gaeilge\", $pronc);\n",
    "\t\twrite_pron(\\*LEXM, \"gaelainn\", $pronm);\n",
    "\t\tnext;\n",
    "\t}\n",
    "\tif($line[0] eq 'bocht' || $line[0] eq 'teacht' || $line[0] eq 'teocht') {\n",
    "\t\t$pronu =~ s/x t̪ˠ/ɾˠ t̪ˠ/;\n",
    "\t}\n",
    "\twrite_text($uout, $text);\n",
    "\twrite_pron(\\*LEXU, $text, $pronu);\n",
    "\twrite_text($mout, $text);\n",
    "\twrite_pron(\\*LEXM, $text, $pronm);\n",
    "\tif(!exists $empty{$line[3]}) {\n",
    "\t\tmy $cfix = exists $cr_files{$text} ? $cr_files{$text} : $text;\n",
    "\t\twrite_text($cout, $cfix);\n",
    "\t\twrite_pron(\\*LEXC, $cfix, $pronc);\n",
    "\t}\n",
    "}"
   ]
  },
  {
   "cell_type": "code",
   "execution_count": 5,
   "id": "choice-scott",
   "metadata": {
    "execution": {
     "iopub.execute_input": "2023-07-12T16:49:32.649731Z",
     "iopub.status.busy": "2023-07-12T16:49:32.642583Z",
     "iopub.status.idle": "2023-07-12T16:49:34.019068Z",
     "shell.execute_reply": "2023-07-12T16:49:34.018383Z"
    },
    "papermill": {
     "duration": 1.398029,
     "end_time": "2023-07-12T16:49:34.019257",
     "exception": false,
     "start_time": "2023-07-12T16:49:32.621228",
     "status": "completed"
    },
    "tags": []
   },
   "outputs": [],
   "source": [
    "!cat ../input/scrape-fuaimeanna-private/all-fuaimeanna-data.tsv | perl /tmp/fuaimeanna-write.pl"
   ]
  },
  {
   "cell_type": "code",
   "execution_count": 6,
   "id": "working-termination",
   "metadata": {
    "execution": {
     "iopub.execute_input": "2023-07-12T16:49:34.062651Z",
     "iopub.status.busy": "2023-07-12T16:49:34.061791Z",
     "iopub.status.idle": "2023-07-12T16:49:38.467607Z",
     "shell.execute_reply": "2023-07-12T16:49:38.466926Z"
    },
    "papermill": {
     "duration": 4.43466,
     "end_time": "2023-07-12T16:49:38.467810",
     "exception": false,
     "start_time": "2023-07-12T16:49:34.033150",
     "status": "completed"
    },
    "tags": []
   },
   "outputs": [],
   "source": [
    "!cat /tmp/lexicon-connaught.raw | sort | uniq > /tmp/lexicon-connaught.txt\n",
    "!cat /tmp/lexicon-ulster.raw | sort | uniq > /tmp/lexicon-ulster.txt\n",
    "!cat /tmp/lexicon-munster.raw | sort | uniq > /tmp/lexicon-munster.txt\n",
    "!cat /tmp/lexicon-connaught.raw /tmp/lexicon-ulster.raw /tmp/lexicon-munster.raw | sort | uniq > /tmp/lexicon-all.txt"
   ]
  },
  {
   "cell_type": "code",
   "execution_count": 7,
   "id": "engaged-battery",
   "metadata": {
    "execution": {
     "iopub.execute_input": "2023-07-12T16:49:38.499465Z",
     "iopub.status.busy": "2023-07-12T16:49:38.498597Z",
     "iopub.status.idle": "2023-07-12T16:49:46.593641Z",
     "shell.execute_reply": "2023-07-12T16:49:46.594262Z"
    },
    "papermill": {
     "duration": 8.112993,
     "end_time": "2023-07-12T16:49:46.594520",
     "exception": false,
     "start_time": "2023-07-12T16:49:38.481527",
     "status": "completed"
    },
    "tags": []
   },
   "outputs": [],
   "source": [
    "!mkdir /tmp/all\n",
    "!cp /tmp/c/* /tmp/all\n",
    "!cp /tmp/m/* /tmp/all\n",
    "!cp /tmp/u/* /tmp/all\n",
    "!mkdir /tmp/mfa-temp"
   ]
  },
  {
   "cell_type": "markdown",
   "id": "broad-discretion",
   "metadata": {
    "papermill": {
     "duration": 0.012946,
     "end_time": "2023-07-12T16:49:46.620960",
     "exception": false,
     "start_time": "2023-07-12T16:49:46.608014",
     "status": "completed"
    },
    "tags": []
   },
   "source": [
    "### Run MFA"
   ]
  },
  {
   "cell_type": "code",
   "execution_count": 8,
   "id": "electoral-single",
   "metadata": {
    "execution": {
     "iopub.execute_input": "2023-07-12T16:49:46.653112Z",
     "iopub.status.busy": "2023-07-12T16:49:46.651856Z",
     "iopub.status.idle": "2023-07-12T16:50:06.329566Z",
     "shell.execute_reply": "2023-07-12T16:50:06.328647Z"
    },
    "papermill": {
     "duration": 19.695432,
     "end_time": "2023-07-12T16:50:06.329746",
     "exception": false,
     "start_time": "2023-07-12T16:49:46.634314",
     "status": "completed"
    },
    "tags": []
   },
   "outputs": [
    {
     "name": "stdout",
     "output_type": "stream",
     "text": [
      "Traceback (most recent call last):\r\n",
      "  File \"/opt/conda/envs/py310/bin/mfa\", line 10, in <module>\r\n",
      "    sys.exit(mfa_cli())\r\n",
      "  File \"/opt/conda/envs/py310/lib/python3.10/site-packages/click/core.py\", line 1157, in __call__\r\n",
      "    return self.main(*args, **kwargs)\r\n",
      "  File \"/opt/conda/envs/py310/lib/python3.10/site-packages/rich_click/rich_group.py\", line 21, in main\r\n",
      "    rv = super().main(*args, standalone_mode=False, **kwargs)\r\n",
      "  File \"/opt/conda/envs/py310/lib/python3.10/site-packages/click/core.py\", line 1078, in main\r\n",
      "    rv = self.invoke(ctx)\r\n",
      "  File \"/opt/conda/envs/py310/lib/python3.10/site-packages/click/core.py\", line 1685, in invoke\r\n",
      "    super().invoke(ctx)\r\n",
      "  File \"/opt/conda/envs/py310/lib/python3.10/site-packages/click/core.py\", line 1434, in invoke\r\n",
      "    return ctx.invoke(self.callback, **ctx.params)\r\n",
      "  File \"/opt/conda/envs/py310/lib/python3.10/site-packages/click/core.py\", line 783, in invoke\r\n",
      "    return __callback(*args, **kwargs)\r\n",
      "  File \"/opt/conda/envs/py310/lib/python3.10/site-packages/click/decorators.py\", line 34, in new_func\r\n",
      "    return f(get_current_context(), *args, **kwargs)\r\n",
      "  File \"/opt/conda/envs/py310/lib/python3.10/site-packages/montreal_forced_aligner/command_line/mfa.py\", line 149, in mfa_cli\r\n",
      "    check_third_party()\r\n",
      "  File \"/opt/conda/envs/py310/lib/python3.10/site-packages/montreal_forced_aligner/utils.py\", line 279, in check_third_party\r\n",
      "    raise ThirdpartyError(\"sox\")\r\n",
      "montreal_forced_aligner.exceptions.ThirdpartyError: ThirdpartyError:\r\n",
      "\r\n",
      "Could not find 'sox'.\r\n",
      "Please ensure that you have installed MFA's conda dependencies and are in the correct environment.\r\n",
      "Traceback (most recent call last):\r\n",
      "  File \"/opt/conda/envs/py310/bin/mfa\", line 10, in <module>\r\n",
      "    sys.exit(mfa_cli())\r\n",
      "  File \"/opt/conda/envs/py310/lib/python3.10/site-packages/click/core.py\", line 1157, in __call__\r\n",
      "    return self.main(*args, **kwargs)\r\n",
      "  File \"/opt/conda/envs/py310/lib/python3.10/site-packages/rich_click/rich_group.py\", line 21, in main\r\n",
      "    rv = super().main(*args, standalone_mode=False, **kwargs)\r\n",
      "  File \"/opt/conda/envs/py310/lib/python3.10/site-packages/click/core.py\", line 1078, in main\r\n",
      "    rv = self.invoke(ctx)\r\n",
      "  File \"/opt/conda/envs/py310/lib/python3.10/site-packages/click/core.py\", line 1685, in invoke\r\n",
      "    super().invoke(ctx)\r\n",
      "  File \"/opt/conda/envs/py310/lib/python3.10/site-packages/click/core.py\", line 1434, in invoke\r\n",
      "    return ctx.invoke(self.callback, **ctx.params)\r\n",
      "  File \"/opt/conda/envs/py310/lib/python3.10/site-packages/click/core.py\", line 783, in invoke\r\n",
      "    return __callback(*args, **kwargs)\r\n",
      "  File \"/opt/conda/envs/py310/lib/python3.10/site-packages/click/decorators.py\", line 34, in new_func\r\n",
      "    return f(get_current_context(), *args, **kwargs)\r\n",
      "  File \"/opt/conda/envs/py310/lib/python3.10/site-packages/montreal_forced_aligner/command_line/mfa.py\", line 149, in mfa_cli\r\n",
      "    check_third_party()\r\n",
      "  File \"/opt/conda/envs/py310/lib/python3.10/site-packages/montreal_forced_aligner/utils.py\", line 279, in check_third_party\r\n",
      "    raise ThirdpartyError(\"sox\")\r\n",
      "montreal_forced_aligner.exceptions.ThirdpartyError: ThirdpartyError:\r\n",
      "\r\n",
      "Could not find 'sox'.\r\n",
      "Please ensure that you have installed MFA's conda dependencies and are in the correct environment.\r\n",
      "Traceback (most recent call last):\r\n",
      "  File \"/opt/conda/envs/py310/bin/mfa\", line 10, in <module>\r\n",
      "    sys.exit(mfa_cli())\r\n",
      "  File \"/opt/conda/envs/py310/lib/python3.10/site-packages/click/core.py\", line 1157, in __call__\r\n",
      "    return self.main(*args, **kwargs)\r\n",
      "  File \"/opt/conda/envs/py310/lib/python3.10/site-packages/rich_click/rich_group.py\", line 21, in main\r\n",
      "    rv = super().main(*args, standalone_mode=False, **kwargs)\r\n",
      "  File \"/opt/conda/envs/py310/lib/python3.10/site-packages/click/core.py\", line 1078, in main\r\n",
      "    rv = self.invoke(ctx)\r\n",
      "  File \"/opt/conda/envs/py310/lib/python3.10/site-packages/click/core.py\", line 1685, in invoke\r\n",
      "    super().invoke(ctx)\r\n",
      "  File \"/opt/conda/envs/py310/lib/python3.10/site-packages/click/core.py\", line 1434, in invoke\r\n",
      "    return ctx.invoke(self.callback, **ctx.params)\r\n",
      "  File \"/opt/conda/envs/py310/lib/python3.10/site-packages/click/core.py\", line 783, in invoke\r\n",
      "    return __callback(*args, **kwargs)\r\n",
      "  File \"/opt/conda/envs/py310/lib/python3.10/site-packages/click/decorators.py\", line 34, in new_func\r\n",
      "    return f(get_current_context(), *args, **kwargs)\r\n",
      "  File \"/opt/conda/envs/py310/lib/python3.10/site-packages/montreal_forced_aligner/command_line/mfa.py\", line 149, in mfa_cli\r\n",
      "    check_third_party()\r\n",
      "  File \"/opt/conda/envs/py310/lib/python3.10/site-packages/montreal_forced_aligner/utils.py\", line 279, in check_third_party\r\n",
      "    raise ThirdpartyError(\"sox\")\r\n",
      "montreal_forced_aligner.exceptions.ThirdpartyError: ThirdpartyError:\r\n",
      "\r\n",
      "Could not find 'sox'.\r\n",
      "Please ensure that you have installed MFA's conda dependencies and are in the correct environment.\r\n",
      "Traceback (most recent call last):\r\n",
      "  File \"/opt/conda/envs/py310/bin/mfa\", line 10, in <module>\r\n",
      "    sys.exit(mfa_cli())\r\n",
      "  File \"/opt/conda/envs/py310/lib/python3.10/site-packages/click/core.py\", line 1157, in __call__\r\n",
      "    return self.main(*args, **kwargs)\r\n",
      "  File \"/opt/conda/envs/py310/lib/python3.10/site-packages/rich_click/rich_group.py\", line 21, in main\r\n",
      "    rv = super().main(*args, standalone_mode=False, **kwargs)\r\n",
      "  File \"/opt/conda/envs/py310/lib/python3.10/site-packages/click/core.py\", line 1078, in main\r\n",
      "    rv = self.invoke(ctx)\r\n",
      "  File \"/opt/conda/envs/py310/lib/python3.10/site-packages/click/core.py\", line 1685, in invoke\r\n",
      "    super().invoke(ctx)\r\n",
      "  File \"/opt/conda/envs/py310/lib/python3.10/site-packages/click/core.py\", line 1434, in invoke\r\n",
      "    return ctx.invoke(self.callback, **ctx.params)\r\n",
      "  File \"/opt/conda/envs/py310/lib/python3.10/site-packages/click/core.py\", line 783, in invoke\r\n",
      "    return __callback(*args, **kwargs)\r\n",
      "  File \"/opt/conda/envs/py310/lib/python3.10/site-packages/click/decorators.py\", line 34, in new_func\r\n",
      "    return f(get_current_context(), *args, **kwargs)\r\n",
      "  File \"/opt/conda/envs/py310/lib/python3.10/site-packages/montreal_forced_aligner/command_line/mfa.py\", line 149, in mfa_cli\r\n",
      "    check_third_party()\r\n",
      "  File \"/opt/conda/envs/py310/lib/python3.10/site-packages/montreal_forced_aligner/utils.py\", line 279, in check_third_party\r\n",
      "    raise ThirdpartyError(\"sox\")\r\n",
      "montreal_forced_aligner.exceptions.ThirdpartyError: ThirdpartyError:\r\n",
      "\r\n",
      "Could not find 'sox'.\r\n",
      "Please ensure that you have installed MFA's conda dependencies and are in the correct environment.\r\n"
     ]
    }
   ],
   "source": [
    "!/opt/conda/envs/py310/bin/mfa train -t /tmp/mfa-temp --output_directory /tmp/textgrid-munster /tmp/m /tmp/lexicon-munster.txt ./munster-model\n",
    "!/opt/conda/envs/py310/bin/mfa train -t /tmp/mfa-temp --output_directory /tmp/textgrid-ulster /tmp/u /tmp/lexicon-ulster.txt ./ulster-model\n",
    "!/opt/conda/envs/py310/bin/mfa train -t /tmp/mfa-temp --output_directory /tmp/textgrid-connaught /tmp/c /tmp/lexicon-connaught.txt ./connaught-model\n",
    "!/opt/conda/envs/py310/bin/mfa train -t /tmp/mfa-temp --output_directory /tmp/textgrid-all /tmp/all /tmp/lexicon-all.txt ./all-model"
   ]
  },
  {
   "cell_type": "code",
   "execution_count": 9,
   "id": "amateur-renewal",
   "metadata": {
    "execution": {
     "iopub.execute_input": "2023-07-12T16:50:06.387809Z",
     "iopub.status.busy": "2023-07-12T16:50:06.381656Z",
     "iopub.status.idle": "2023-07-12T16:50:24.488644Z",
     "shell.execute_reply": "2023-07-12T16:50:24.487502Z"
    },
    "papermill": {
     "duration": 18.140584,
     "end_time": "2023-07-12T16:50:24.488886",
     "exception": false,
     "start_time": "2023-07-12T16:50:06.348302",
     "status": "completed"
    },
    "tags": []
   },
   "outputs": [
    {
     "name": "stdout",
     "output_type": "stream",
     "text": [
      "Traceback (most recent call last):\r\n",
      "  File \"/opt/conda/envs/py310/bin/mfa\", line 10, in <module>\r\n",
      "    sys.exit(mfa_cli())\r\n",
      "  File \"/opt/conda/envs/py310/lib/python3.10/site-packages/click/core.py\", line 1157, in __call__\r\n",
      "    return self.main(*args, **kwargs)\r\n",
      "  File \"/opt/conda/envs/py310/lib/python3.10/site-packages/rich_click/rich_group.py\", line 21, in main\r\n",
      "    rv = super().main(*args, standalone_mode=False, **kwargs)\r\n",
      "  File \"/opt/conda/envs/py310/lib/python3.10/site-packages/click/core.py\", line 1078, in main\r\n",
      "    rv = self.invoke(ctx)\r\n",
      "  File \"/opt/conda/envs/py310/lib/python3.10/site-packages/click/core.py\", line 1685, in invoke\r\n",
      "    super().invoke(ctx)\r\n",
      "  File \"/opt/conda/envs/py310/lib/python3.10/site-packages/click/core.py\", line 1434, in invoke\r\n",
      "    return ctx.invoke(self.callback, **ctx.params)\r\n",
      "  File \"/opt/conda/envs/py310/lib/python3.10/site-packages/click/core.py\", line 783, in invoke\r\n",
      "    return __callback(*args, **kwargs)\r\n",
      "  File \"/opt/conda/envs/py310/lib/python3.10/site-packages/click/decorators.py\", line 34, in new_func\r\n",
      "    return f(get_current_context(), *args, **kwargs)\r\n",
      "  File \"/opt/conda/envs/py310/lib/python3.10/site-packages/montreal_forced_aligner/command_line/mfa.py\", line 149, in mfa_cli\r\n",
      "    check_third_party()\r\n",
      "  File \"/opt/conda/envs/py310/lib/python3.10/site-packages/montreal_forced_aligner/utils.py\", line 279, in check_third_party\r\n",
      "    raise ThirdpartyError(\"sox\")\r\n",
      "montreal_forced_aligner.exceptions.ThirdpartyError: ThirdpartyError:\r\n",
      "\r\n",
      "Could not find 'sox'.\r\n",
      "Please ensure that you have installed MFA's conda dependencies and are in the correct environment.\r\n",
      "Traceback (most recent call last):\r\n",
      "  File \"/opt/conda/envs/py310/bin/mfa\", line 10, in <module>\r\n",
      "    sys.exit(mfa_cli())\r\n",
      "  File \"/opt/conda/envs/py310/lib/python3.10/site-packages/click/core.py\", line 1157, in __call__\r\n",
      "    return self.main(*args, **kwargs)\r\n",
      "  File \"/opt/conda/envs/py310/lib/python3.10/site-packages/rich_click/rich_group.py\", line 21, in main\r\n",
      "    rv = super().main(*args, standalone_mode=False, **kwargs)\r\n",
      "  File \"/opt/conda/envs/py310/lib/python3.10/site-packages/click/core.py\", line 1078, in main\r\n",
      "    rv = self.invoke(ctx)\r\n",
      "  File \"/opt/conda/envs/py310/lib/python3.10/site-packages/click/core.py\", line 1685, in invoke\r\n",
      "    super().invoke(ctx)\r\n",
      "  File \"/opt/conda/envs/py310/lib/python3.10/site-packages/click/core.py\", line 1434, in invoke\r\n",
      "    return ctx.invoke(self.callback, **ctx.params)\r\n",
      "  File \"/opt/conda/envs/py310/lib/python3.10/site-packages/click/core.py\", line 783, in invoke\r\n",
      "    return __callback(*args, **kwargs)\r\n",
      "  File \"/opt/conda/envs/py310/lib/python3.10/site-packages/click/decorators.py\", line 34, in new_func\r\n",
      "    return f(get_current_context(), *args, **kwargs)\r\n",
      "  File \"/opt/conda/envs/py310/lib/python3.10/site-packages/montreal_forced_aligner/command_line/mfa.py\", line 149, in mfa_cli\r\n",
      "    check_third_party()\r\n",
      "  File \"/opt/conda/envs/py310/lib/python3.10/site-packages/montreal_forced_aligner/utils.py\", line 279, in check_third_party\r\n",
      "    raise ThirdpartyError(\"sox\")\r\n",
      "montreal_forced_aligner.exceptions.ThirdpartyError: ThirdpartyError:\r\n",
      "\r\n",
      "Could not find 'sox'.\r\n",
      "Please ensure that you have installed MFA's conda dependencies and are in the correct environment.\r\n",
      "Traceback (most recent call last):\r\n",
      "  File \"/opt/conda/envs/py310/bin/mfa\", line 10, in <module>\r\n",
      "    sys.exit(mfa_cli())\r\n",
      "  File \"/opt/conda/envs/py310/lib/python3.10/site-packages/click/core.py\", line 1157, in __call__\r\n",
      "    return self.main(*args, **kwargs)\r\n",
      "  File \"/opt/conda/envs/py310/lib/python3.10/site-packages/rich_click/rich_group.py\", line 21, in main\r\n",
      "    rv = super().main(*args, standalone_mode=False, **kwargs)\r\n",
      "  File \"/opt/conda/envs/py310/lib/python3.10/site-packages/click/core.py\", line 1078, in main\r\n",
      "    rv = self.invoke(ctx)\r\n",
      "  File \"/opt/conda/envs/py310/lib/python3.10/site-packages/click/core.py\", line 1685, in invoke\r\n",
      "    super().invoke(ctx)\r\n",
      "  File \"/opt/conda/envs/py310/lib/python3.10/site-packages/click/core.py\", line 1434, in invoke\r\n",
      "    return ctx.invoke(self.callback, **ctx.params)\r\n",
      "  File \"/opt/conda/envs/py310/lib/python3.10/site-packages/click/core.py\", line 783, in invoke\r\n",
      "    return __callback(*args, **kwargs)\r\n",
      "  File \"/opt/conda/envs/py310/lib/python3.10/site-packages/click/decorators.py\", line 34, in new_func\r\n",
      "    return f(get_current_context(), *args, **kwargs)\r\n",
      "  File \"/opt/conda/envs/py310/lib/python3.10/site-packages/montreal_forced_aligner/command_line/mfa.py\", line 149, in mfa_cli\r\n",
      "    check_third_party()\r\n",
      "  File \"/opt/conda/envs/py310/lib/python3.10/site-packages/montreal_forced_aligner/utils.py\", line 279, in check_third_party\r\n",
      "    raise ThirdpartyError(\"sox\")\r\n",
      "montreal_forced_aligner.exceptions.ThirdpartyError: ThirdpartyError:\r\n",
      "\r\n",
      "Could not find 'sox'.\r\n",
      "Please ensure that you have installed MFA's conda dependencies and are in the correct environment.\r\n",
      "Traceback (most recent call last):\r\n",
      "  File \"/opt/conda/envs/py310/bin/mfa\", line 10, in <module>\r\n",
      "    sys.exit(mfa_cli())\r\n",
      "  File \"/opt/conda/envs/py310/lib/python3.10/site-packages/click/core.py\", line 1157, in __call__\r\n",
      "    return self.main(*args, **kwargs)\r\n",
      "  File \"/opt/conda/envs/py310/lib/python3.10/site-packages/rich_click/rich_group.py\", line 21, in main\r\n",
      "    rv = super().main(*args, standalone_mode=False, **kwargs)\r\n",
      "  File \"/opt/conda/envs/py310/lib/python3.10/site-packages/click/core.py\", line 1078, in main\r\n",
      "    rv = self.invoke(ctx)\r\n",
      "  File \"/opt/conda/envs/py310/lib/python3.10/site-packages/click/core.py\", line 1685, in invoke\r\n",
      "    super().invoke(ctx)\r\n",
      "  File \"/opt/conda/envs/py310/lib/python3.10/site-packages/click/core.py\", line 1434, in invoke\r\n",
      "    return ctx.invoke(self.callback, **ctx.params)\r\n",
      "  File \"/opt/conda/envs/py310/lib/python3.10/site-packages/click/core.py\", line 783, in invoke\r\n",
      "    return __callback(*args, **kwargs)\r\n",
      "  File \"/opt/conda/envs/py310/lib/python3.10/site-packages/click/decorators.py\", line 34, in new_func\r\n",
      "    return f(get_current_context(), *args, **kwargs)\r\n",
      "  File \"/opt/conda/envs/py310/lib/python3.10/site-packages/montreal_forced_aligner/command_line/mfa.py\", line 149, in mfa_cli\r\n",
      "    check_third_party()\r\n",
      "  File \"/opt/conda/envs/py310/lib/python3.10/site-packages/montreal_forced_aligner/utils.py\", line 279, in check_third_party\r\n",
      "    raise ThirdpartyError(\"sox\")\r\n",
      "montreal_forced_aligner.exceptions.ThirdpartyError: ThirdpartyError:\r\n",
      "\r\n",
      "Could not find 'sox'.\r\n",
      "Please ensure that you have installed MFA's conda dependencies and are in the correct environment.\r\n"
     ]
    }
   ],
   "source": [
    "!/opt/conda/envs/py310/bin/mfa train_g2p -t /tmp/mfa-temp /tmp/lexicon-ulster.txt ./g2p-ulster\n",
    "!/opt/conda/envs/py310/bin/mfa train_g2p -t /tmp/mfa-temp /tmp/lexicon-munster.txt ./g2p-munster\n",
    "!/opt/conda/envs/py310/bin/mfa train_g2p -t /tmp/mfa-temp /tmp/lexicon-connaught.txt ./g2p-connaught\n",
    "!/opt/conda/envs/py310/bin/mfa train_g2p -t /tmp/mfa-temp /tmp/lexicon-all.txt ./g2p-all"
   ]
  }
 ],
 "metadata": {
  "kernelspec": {
   "display_name": "Python 3",
   "language": "python",
   "name": "python3"
  },
  "language_info": {
   "codemirror_mode": {
    "name": "ipython",
    "version": 3
   },
   "file_extension": ".py",
   "mimetype": "text/x-python",
   "name": "python",
   "nbconvert_exporter": "python",
   "pygments_lexer": "ipython3",
   "version": "3.7.9"
  },
  "papermill": {
   "default_parameters": {},
   "duration": 1239.810133,
   "end_time": "2023-07-12T16:50:25.322579",
   "environment_variables": {},
   "exception": null,
   "input_path": "__notebook__.ipynb",
   "output_path": "__notebook__.ipynb",
   "parameters": {},
   "start_time": "2023-07-12T16:29:45.512446",
   "version": "2.3.2"
  }
 },
 "nbformat": 4,
 "nbformat_minor": 5
}
