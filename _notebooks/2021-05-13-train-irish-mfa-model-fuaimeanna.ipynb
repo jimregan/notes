{
 "cells": [
  {
   "cell_type": "markdown",
   "id": "third-breakfast",
   "metadata": {
    "papermill": {
     "duration": 0.014382,
     "end_time": "2023-07-12T18:05:21.876350",
     "exception": false,
     "start_time": "2023-07-12T18:05:21.861968",
     "status": "completed"
    },
    "tags": []
   },
   "source": [
    "## Part, the first\n",
    "### Setting up MFA"
   ]
  },
  {
   "cell_type": "markdown",
   "id": "aggressive-degree",
   "metadata": {
    "papermill": {
     "duration": 0.012445,
     "end_time": "2023-07-12T18:05:21.901368",
     "exception": false,
     "start_time": "2023-07-12T18:05:21.888923",
     "status": "completed"
    },
    "tags": []
   },
   "source": [
    "Upgrading python from [this notebook](https://www.kaggle.com/code/svaningelgem/upgrade-to-python-3-10)"
   ]
  },
  {
   "cell_type": "code",
   "execution_count": 1,
   "id": "historic-surgeon",
   "metadata": {
    "execution": {
     "iopub.execute_input": "2023-07-12T18:05:21.935847Z",
     "iopub.status.busy": "2023-07-12T18:05:21.935056Z",
     "iopub.status.idle": "2023-07-12T18:24:27.449066Z",
     "shell.execute_reply": "2023-07-12T18:24:27.447471Z",
     "shell.execute_reply.started": "2023-07-12T16:11:37.082269Z"
    },
    "papermill": {
     "duration": 1145.53586,
     "end_time": "2023-07-12T18:24:27.449536",
     "exception": false,
     "start_time": "2023-07-12T18:05:21.913676",
     "status": "completed"
    },
    "tags": []
   },
   "outputs": [],
   "source": [
    "%%capture\n",
    "!conda create -n py310 -y\n",
    "!source /opt/conda/bin/activate py310 && conda install python=3.10 jupyter montreal-forced-aligner mamba -y"
   ]
  },
  {
   "cell_type": "code",
   "execution_count": 2,
   "id": "liable-chance",
   "metadata": {
    "execution": {
     "iopub.execute_input": "2023-07-12T18:24:27.497687Z",
     "iopub.status.busy": "2023-07-12T18:24:27.496775Z",
     "iopub.status.idle": "2023-07-12T18:24:34.017515Z",
     "shell.execute_reply": "2023-07-12T18:24:34.016796Z",
     "shell.execute_reply.started": "2023-07-12T16:27:45.005999Z"
    },
    "papermill": {
     "duration": 6.553529,
     "end_time": "2023-07-12T18:24:34.017676",
     "exception": false,
     "start_time": "2023-07-12T18:24:27.464147",
     "status": "completed"
    },
    "tags": []
   },
   "outputs": [],
   "source": [
    "!rm /opt/conda/bin/python3\n",
    "!ln -sf /opt/conda/envs/py310/bin/python3 /opt/conda/bin/python3\n",
    "!rm /opt/conda/bin/python3.7\n",
    "!ln -sf /opt/conda/envs/py310/bin/python3 /opt/conda/bin/python3.7\n",
    "!rm /opt/conda/bin/python\n",
    "!ln -sf /opt/conda/envs/py310/bin/python3 /opt/conda/bin/python"
   ]
  },
  {
   "cell_type": "markdown",
   "id": "chief-former",
   "metadata": {
    "papermill": {
     "duration": 0.011684,
     "end_time": "2023-07-12T18:24:34.041533",
     "exception": false,
     "start_time": "2023-07-12T18:24:34.029849",
     "status": "completed"
    },
    "tags": []
   },
   "source": [
    "To create the same data, fork and run [this notebook](https://www.kaggle.com/jimregan/scrape-fuaimeanna-ie)"
   ]
  },
  {
   "cell_type": "code",
   "execution_count": 3,
   "id": "static-somewhere",
   "metadata": {
    "execution": {
     "iopub.execute_input": "2023-07-12T18:24:34.087628Z",
     "iopub.status.busy": "2023-07-12T18:24:34.083490Z",
     "iopub.status.idle": "2023-07-12T18:24:53.775034Z",
     "shell.execute_reply": "2023-07-12T18:24:53.774225Z",
     "shell.execute_reply.started": "2023-07-12T16:26:14.307049Z"
    },
    "papermill": {
     "duration": 19.721611,
     "end_time": "2023-07-12T18:24:53.775221",
     "exception": false,
     "start_time": "2023-07-12T18:24:34.053610",
     "status": "completed"
    },
    "tags": []
   },
   "outputs": [],
   "source": [
    "!mkdir /tmp/m\n",
    "!mkdir /tmp/c\n",
    "!mkdir /tmp/u\n",
    "\n",
    "!cp ../input/scrape-fuaimeanna-private/wav/*s1.wav /tmp/u\n",
    "!cp ../input/scrape-fuaimeanna-private/wav/*s2.wav /tmp/m\n",
    "!cp ../input/scrape-fuaimeanna-private/wav/*s3.wav /tmp/c"
   ]
  },
  {
   "cell_type": "code",
   "execution_count": 4,
   "id": "raised-wrist",
   "metadata": {
    "execution": {
     "iopub.execute_input": "2023-07-12T18:24:53.809679Z",
     "iopub.status.busy": "2023-07-12T18:24:53.808821Z",
     "iopub.status.idle": "2023-07-12T18:24:53.814787Z",
     "shell.execute_reply": "2023-07-12T18:24:53.814064Z",
     "shell.execute_reply.started": "2023-07-12T16:26:14.293104Z"
    },
    "papermill": {
     "duration": 0.027191,
     "end_time": "2023-07-12T18:24:53.814941",
     "exception": false,
     "start_time": "2023-07-12T18:24:53.787750",
     "status": "completed"
    },
    "tags": []
   },
   "outputs": [
    {
     "name": "stdout",
     "output_type": "stream",
     "text": [
      "Writing /tmp/fuaimeanna-write.pl\n"
     ]
    }
   ],
   "source": [
    "%%writefile /tmp/fuaimeanna-write.pl\n",
    "#!/usr/bin/perl\n",
    "use warnings;\n",
    "use strict;\n",
    "use utf8;\n",
    "\n",
    "binmode(STDIN, \":utf8\");\n",
    "binmode(STDOUT, \":utf8\");\n",
    "binmode(STDERR, \":utf8\");\n",
    "\n",
    "my %cr_files = (\n",
    "\t'mo shmidiú' => 'mo chuid smidiú',\n",
    "\t'mo shmior' => 'mo chuid smior',\n",
    "\t'mo shmólach' => 'mo smólach',\n",
    "\t'shmachtaigh' => 'smachtaigh',\n",
    "\t'shmaoinigh' => 'smaoinigh',\n",
    "\t'shmear' => 'smear',\n",
    "\t'deamhain' => 'diabhail',\n",
    "\t'folach' => 'i bhfolach',\n",
    "\t'captaen' => 'caiptín',\n",
    "\t'oirthe' => 'feilte',\n",
    ");\n",
    "my %empty = (\n",
    "\t'/sounds/gob_i3_s3.mp3' => 1,\n",
    "\t'/sounds/iioctha_i3_s3.mp3' => 1,\n",
    "\t'/sounds/mo_shuiiochaan_i3_s3.mp3' => 1,\n",
    "\t'/sounds/riail_i3_s3.mp3' => 1\n",
    ");\n",
    "\n",
    "open(LEXM, '>>', '/tmp/lexicon-munster.raw');\n",
    "binmode LEXM, ':utf8';\n",
    "open(LEXU, '>>', '/tmp/lexicon-ulster.raw');\n",
    "binmode LEXU, ':utf8';\n",
    "open(LEXC, '>>', '/tmp/lexicon-connaught.raw');\n",
    "binmode LEXC, ':utf8';\n",
    "\n",
    "sub write_text {\n",
    "\tmy $file = shift;\n",
    "\tmy $text = shift;\n",
    "\topen(OUTF, '>>', $file);\n",
    "\tbinmode OUTF, ':utf8';\n",
    "\tprint OUTF $text;\n",
    "\tclose OUTF;\n",
    "}\n",
    "\n",
    "sub write_pron {\n",
    "\tmy $file = shift;\n",
    "\tmy $text = shift;\n",
    "\tmy $pron = shift;\n",
    "\tif ($text eq 'ar tí') {\n",
    "\t\t$pron =~ s/ \\. ˈ / # /g;\n",
    "\t}\n",
    "\t$pron =~ s/ [ˈˌ] / /g;\n",
    "\t$pron =~ s/^[ˈˌ] //g;\n",
    "\t$pron =~ s/ \\. / /g;\n",
    "\tmy @words = split/ /, $text;\n",
    "\tmy @prons = split/ \\# /, $pron;\n",
    "\tif($#words != $#prons) {\n",
    "\t\tprint STDERR \"ERROR: $file $text $pron\\n\";\n",
    "\t}\n",
    "\tif($#words == 0) {\n",
    "\t\tprint $file \"$text $pron\\n\";\n",
    "\t} else {\n",
    "\t\tfor(my $i = 0; $i <= $#words; $i++) {\n",
    "\t\t\tprint $file \"$words[$i] $prons[$i]\\n\";\n",
    "\t\t}\n",
    "\t}\n",
    "}\n",
    "\n",
    "while(<STDIN>) {\n",
    "\tchomp;\n",
    "\tmy @line = split/\\t/;\n",
    "\tnext if($line[0] eq 'Orthographic');\n",
    "\tmy $text = lc($line[0]);\n",
    "\tnext if($line[0] eq \"d'fhág\");\n",
    "\tmy $uout = $line[1];\n",
    "\t$uout =~ s!/sounds/!!;\n",
    "\t$uout =~ s/\\.mp3$/.txt/;\n",
    "\tmy $cout = $line[3];\n",
    "\t$cout =~ s!/sounds/!!;\n",
    "\t$cout =~ s/\\.mp3$/.txt/;\n",
    "\tmy $mout = $line[5];\n",
    "\t$mout =~ s!/sounds/!!;\n",
    "\t$mout =~ s/\\.mp3$/.txt/;\n",
    "\t$uout = '/tmp/u/' . $uout;\n",
    "\t$cout = '/tmp/c/' . $cout;\n",
    "\t$mout = '/tmp/m/' . $mout;\n",
    "\n",
    "\tmy $pronu = $line[2];\n",
    "\tmy $pronc = $line[4];\n",
    "\tmy $pronm = $line[6];\n",
    "\n",
    "\tif($text eq 'Gaeilge') {\n",
    "\t\twrite_text($uout, \"gaeilic\");\n",
    "\t\twrite_text($cout, \"gaeilge\");\n",
    "\t\twrite_text($mout, \"gaelainn\");\n",
    "\t\twrite_pron(\\*LEXU, \"gaeilic\", $pronu);\n",
    "\t\twrite_pron(\\*LEXC, \"gaeilge\", $pronc);\n",
    "\t\twrite_pron(\\*LEXM, \"gaelainn\", $pronm);\n",
    "\t\tnext;\n",
    "\t}\n",
    "\tif($line[0] eq 'bocht' || $line[0] eq 'teacht' || $line[0] eq 'teocht') {\n",
    "\t\t$pronu =~ s/x t̪ˠ/ɾˠ t̪ˠ/;\n",
    "\t}\n",
    "\twrite_text($uout, $text);\n",
    "\twrite_pron(\\*LEXU, $text, $pronu);\n",
    "\twrite_text($mout, $text);\n",
    "\twrite_pron(\\*LEXM, $text, $pronm);\n",
    "\tif(!exists $empty{$line[3]}) {\n",
    "\t\tmy $cfix = exists $cr_files{$text} ? $cr_files{$text} : $text;\n",
    "\t\twrite_text($cout, $cfix);\n",
    "\t\twrite_pron(\\*LEXC, $cfix, $pronc);\n",
    "\t}\n",
    "}"
   ]
  },
  {
   "cell_type": "code",
   "execution_count": 5,
   "id": "competitive-democrat",
   "metadata": {
    "execution": {
     "iopub.execute_input": "2023-07-12T18:24:53.850919Z",
     "iopub.status.busy": "2023-07-12T18:24:53.846812Z",
     "iopub.status.idle": "2023-07-12T18:24:55.137783Z",
     "shell.execute_reply": "2023-07-12T18:24:55.137151Z"
    },
    "papermill": {
     "duration": 1.309409,
     "end_time": "2023-07-12T18:24:55.137954",
     "exception": false,
     "start_time": "2023-07-12T18:24:53.828545",
     "status": "completed"
    },
    "tags": []
   },
   "outputs": [],
   "source": [
    "!cat ../input/scrape-fuaimeanna-private/all-fuaimeanna-data.tsv | perl /tmp/fuaimeanna-write.pl"
   ]
  },
  {
   "cell_type": "code",
   "execution_count": 6,
   "id": "organizational-express",
   "metadata": {
    "execution": {
     "iopub.execute_input": "2023-07-12T18:24:55.183037Z",
     "iopub.status.busy": "2023-07-12T18:24:55.178079Z",
     "iopub.status.idle": "2023-07-12T18:24:59.543919Z",
     "shell.execute_reply": "2023-07-12T18:24:59.543259Z"
    },
    "papermill": {
     "duration": 4.393057,
     "end_time": "2023-07-12T18:24:59.544102",
     "exception": false,
     "start_time": "2023-07-12T18:24:55.151045",
     "status": "completed"
    },
    "tags": []
   },
   "outputs": [],
   "source": [
    "!cat /tmp/lexicon-connaught.raw | sort | uniq > /tmp/lexicon-connaught.txt\n",
    "!cat /tmp/lexicon-ulster.raw | sort | uniq > /tmp/lexicon-ulster.txt\n",
    "!cat /tmp/lexicon-munster.raw | sort | uniq > /tmp/lexicon-munster.txt\n",
    "!cat /tmp/lexicon-connaught.raw /tmp/lexicon-ulster.raw /tmp/lexicon-munster.raw | sort | uniq > /tmp/lexicon-all.txt"
   ]
  },
  {
   "cell_type": "code",
   "execution_count": 7,
   "id": "legitimate-maximum",
   "metadata": {
    "execution": {
     "iopub.execute_input": "2023-07-12T18:24:59.574392Z",
     "iopub.status.busy": "2023-07-12T18:24:59.573626Z",
     "iopub.status.idle": "2023-07-12T18:25:07.321224Z",
     "shell.execute_reply": "2023-07-12T18:25:07.321847Z"
    },
    "papermill": {
     "duration": 7.764795,
     "end_time": "2023-07-12T18:25:07.322088",
     "exception": false,
     "start_time": "2023-07-12T18:24:59.557293",
     "status": "completed"
    },
    "tags": []
   },
   "outputs": [],
   "source": [
    "!mkdir /tmp/all\n",
    "!cp /tmp/c/* /tmp/all\n",
    "!cp /tmp/m/* /tmp/all\n",
    "!cp /tmp/u/* /tmp/all\n",
    "!mkdir /tmp/mfa-temp"
   ]
  },
  {
   "cell_type": "markdown",
   "id": "genuine-dairy",
   "metadata": {
    "papermill": {
     "duration": 0.012689,
     "end_time": "2023-07-12T18:25:07.348098",
     "exception": false,
     "start_time": "2023-07-12T18:25:07.335409",
     "status": "completed"
    },
    "tags": []
   },
   "source": [
    "### Run MFA"
   ]
  },
  {
   "cell_type": "code",
   "execution_count": 8,
   "id": "chinese-motel",
   "metadata": {
    "execution": {
     "iopub.execute_input": "2023-07-12T18:25:07.378594Z",
     "iopub.status.busy": "2023-07-12T18:25:07.377758Z",
     "iopub.status.idle": "2023-07-12T18:25:12.509489Z",
     "shell.execute_reply": "2023-07-12T18:25:12.508504Z"
    },
    "papermill": {
     "duration": 5.148214,
     "end_time": "2023-07-12T18:25:12.509659",
     "exception": false,
     "start_time": "2023-07-12T18:25:07.361445",
     "status": "completed"
    },
    "tags": []
   },
   "outputs": [
    {
     "name": "stdout",
     "output_type": "stream",
     "text": [
      "\r\n",
      "EnvironmentNameNotFound: Could not find conda environment: py310\r\n",
      "You can list all discoverable environments with `conda info --envs`.\r\n",
      "\r\n",
      "\r\n",
      "\r\n",
      "EnvironmentNameNotFound: Could not find conda environment: py310\r\n",
      "You can list all discoverable environments with `conda info --envs`.\r\n",
      "\r\n",
      "\r\n",
      "\r\n",
      "EnvironmentNameNotFound: Could not find conda environment: py310\r\n",
      "You can list all discoverable environments with `conda info --envs`.\r\n",
      "\r\n",
      "\r\n",
      "\r\n",
      "EnvironmentNameNotFound: Could not find conda environment: py310\r\n",
      "You can list all discoverable environments with `conda info --envs`.\r\n",
      "\r\n",
      "\r\n"
     ]
    }
   ],
   "source": [
    "!source /opt/conda/bin/activate py310 && mfa train -t /tmp/mfa-temp --output_directory /tmp/textgrid-munster /tmp/m /tmp/lexicon-munster.txt ./munster-model\n",
    "!source /opt/conda/bin/activate py310 && mfa train -t /tmp/mfa-temp --output_directory /tmp/textgrid-ulster /tmp/u /tmp/lexicon-ulster.txt ./ulster-model\n",
    "!source /opt/conda/bin/activate py310 && mfa train -t /tmp/mfa-temp --output_directory /tmp/textgrid-connaught /tmp/c /tmp/lexicon-connaught.txt ./connaught-model\n",
    "!source /opt/conda/bin/activate py310 && mfa train -t /tmp/mfa-temp --output_directory /tmp/textgrid-all /tmp/all /tmp/lexicon-all.txt ./all-model"
   ]
  },
  {
   "cell_type": "code",
   "execution_count": 9,
   "id": "pleasant-termination",
   "metadata": {
    "execution": {
     "iopub.execute_input": "2023-07-12T18:25:12.556709Z",
     "iopub.status.busy": "2023-07-12T18:25:12.555889Z",
     "iopub.status.idle": "2023-07-12T18:25:17.622058Z",
     "shell.execute_reply": "2023-07-12T18:25:17.621051Z"
    },
    "papermill": {
     "duration": 5.09599,
     "end_time": "2023-07-12T18:25:17.622237",
     "exception": false,
     "start_time": "2023-07-12T18:25:12.526247",
     "status": "completed"
    },
    "tags": []
   },
   "outputs": [
    {
     "name": "stdout",
     "output_type": "stream",
     "text": [
      "\r\n",
      "EnvironmentNameNotFound: Could not find conda environment: py310\r\n",
      "You can list all discoverable environments with `conda info --envs`.\r\n",
      "\r\n",
      "\r\n",
      "\r\n",
      "EnvironmentNameNotFound: Could not find conda environment: py310\r\n",
      "You can list all discoverable environments with `conda info --envs`.\r\n",
      "\r\n",
      "\r\n",
      "\r\n",
      "EnvironmentNameNotFound: Could not find conda environment: py310\r\n",
      "You can list all discoverable environments with `conda info --envs`.\r\n",
      "\r\n",
      "\r\n",
      "\r\n",
      "EnvironmentNameNotFound: Could not find conda environment: py310\r\n",
      "You can list all discoverable environments with `conda info --envs`.\r\n",
      "\r\n",
      "\r\n"
     ]
    }
   ],
   "source": [
    "!source /opt/conda/bin/activate py310 && mfa train_g2p -t /tmp/mfa-temp /tmp/lexicon-ulster.txt ./g2p-ulster\n",
    "!source /opt/conda/bin/activate py310 && mfa train_g2p -t /tmp/mfa-temp /tmp/lexicon-munster.txt ./g2p-munster\n",
    "!source /opt/conda/bin/activate py310 && mfa train_g2p -t /tmp/mfa-temp /tmp/lexicon-connaught.txt ./g2p-connaught\n",
    "!source /opt/conda/bin/activate py310 && mfa train_g2p -t /tmp/mfa-temp /tmp/lexicon-all.txt ./g2p-all"
   ]
  }
 ],
 "metadata": {
  "kernelspec": {
   "display_name": "Python 3",
   "language": "python",
   "name": "python3"
  },
  "language_info": {
   "codemirror_mode": {
    "name": "ipython",
    "version": 3
   },
   "file_extension": ".py",
   "mimetype": "text/x-python",
   "name": "python",
   "nbconvert_exporter": "python",
   "pygments_lexer": "ipython3",
   "version": "3.7.9"
  },
  "papermill": {
   "default_parameters": {},
   "duration": 1203.577115,
   "end_time": "2023-07-12T18:25:18.353086",
   "environment_variables": {},
   "exception": null,
   "input_path": "__notebook__.ipynb",
   "output_path": "__notebook__.ipynb",
   "parameters": {},
   "start_time": "2023-07-12T18:05:14.775971",
   "version": "2.3.2"
  }
 },
 "nbformat": 4,
 "nbformat_minor": 5
}
