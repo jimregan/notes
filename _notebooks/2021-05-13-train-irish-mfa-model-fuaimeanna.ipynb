{
 "cells": [
  {
   "cell_type": "markdown",
   "id": "1f2fbd89",
   "metadata": {
    "papermill": {
     "duration": 0.005954,
     "end_time": "2023-07-13T10:02:58.294564",
     "exception": false,
     "start_time": "2023-07-13T10:02:58.288610",
     "status": "completed"
    },
    "tags": []
   },
   "source": [
    "## Part, the first\n",
    "### Setting up MFA"
   ]
  },
  {
   "cell_type": "markdown",
   "id": "2f0be16f",
   "metadata": {
    "papermill": {
     "duration": 0.004556,
     "end_time": "2023-07-13T10:02:58.303286",
     "exception": false,
     "start_time": "2023-07-13T10:02:58.298730",
     "status": "completed"
    },
    "tags": []
   },
   "source": [
    "To create the same data, fork and run [this notebook](https://www.kaggle.com/jimregan/scrape-fuaimeanna-ie)"
   ]
  },
  {
   "cell_type": "code",
   "execution_count": 1,
   "id": "3aa9f326",
   "metadata": {
    "execution": {
     "iopub.execute_input": "2023-07-13T10:02:58.314247Z",
     "iopub.status.busy": "2023-07-13T10:02:58.312851Z",
     "iopub.status.idle": "2023-07-13T10:03:16.171792Z",
     "shell.execute_reply": "2023-07-13T10:03:16.170524Z"
    },
    "papermill": {
     "duration": 17.868086,
     "end_time": "2023-07-13T10:03:16.174630",
     "exception": false,
     "start_time": "2023-07-13T10:02:58.306544",
     "status": "completed"
    },
    "tags": []
   },
   "outputs": [],
   "source": [
    "!mkdir /tmp/m\n",
    "!mkdir /tmp/c\n",
    "!mkdir /tmp/u\n",
    "\n",
    "!cp ../input/scrape-fuaimeanna-private/wav/*s1.wav /tmp/u\n",
    "!cp ../input/scrape-fuaimeanna-private/wav/*s2.wav /tmp/m\n",
    "!cp ../input/scrape-fuaimeanna-private/wav/*s3.wav /tmp/c"
   ]
  },
  {
   "cell_type": "code",
   "execution_count": 2,
   "id": "17a679c7",
   "metadata": {
    "execution": {
     "iopub.execute_input": "2023-07-13T10:03:16.184464Z",
     "iopub.status.busy": "2023-07-13T10:03:16.184050Z",
     "iopub.status.idle": "2023-07-13T10:03:16.193531Z",
     "shell.execute_reply": "2023-07-13T10:03:16.192768Z"
    },
    "papermill": {
     "duration": 0.017068,
     "end_time": "2023-07-13T10:03:16.195389",
     "exception": false,
     "start_time": "2023-07-13T10:03:16.178321",
     "status": "completed"
    },
    "tags": []
   },
   "outputs": [
    {
     "name": "stdout",
     "output_type": "stream",
     "text": [
      "Writing /tmp/fuaimeanna-write.pl\n"
     ]
    }
   ],
   "source": [
    "%%writefile /tmp/fuaimeanna-write.pl\n",
    "#!/usr/bin/perl\n",
    "use warnings;\n",
    "use strict;\n",
    "use utf8;\n",
    "\n",
    "binmode(STDIN, \":utf8\");\n",
    "binmode(STDOUT, \":utf8\");\n",
    "binmode(STDERR, \":utf8\");\n",
    "\n",
    "my %cr_files = (\n",
    "\t'mo shmidiú' => 'mo chuid smidiú',\n",
    "\t'mo shmior' => 'mo chuid smior',\n",
    "\t'mo shmólach' => 'mo smólach',\n",
    "\t'shmachtaigh' => 'smachtaigh',\n",
    "\t'shmaoinigh' => 'smaoinigh',\n",
    "\t'shmear' => 'smear',\n",
    "\t'deamhain' => 'diabhail',\n",
    "\t'folach' => 'i bhfolach',\n",
    "\t'captaen' => 'caiptín',\n",
    "\t'oirthe' => 'feilte',\n",
    ");\n",
    "my %empty = (\n",
    "\t'/sounds/gob_i3_s3.mp3' => 1,\n",
    "\t'/sounds/iioctha_i3_s3.mp3' => 1,\n",
    "\t'/sounds/mo_shuiiochaan_i3_s3.mp3' => 1,\n",
    "\t'/sounds/riail_i3_s3.mp3' => 1\n",
    ");\n",
    "\n",
    "open(LEXM, '>>', '/tmp/lexicon-munster.raw');\n",
    "binmode LEXM, ':utf8';\n",
    "open(LEXU, '>>', '/tmp/lexicon-ulster.raw');\n",
    "binmode LEXU, ':utf8';\n",
    "open(LEXC, '>>', '/tmp/lexicon-connaught.raw');\n",
    "binmode LEXC, ':utf8';\n",
    "\n",
    "sub write_text {\n",
    "\tmy $file = shift;\n",
    "\tmy $text = shift;\n",
    "\topen(OUTF, '>>', $file);\n",
    "\tbinmode OUTF, ':utf8';\n",
    "\tprint OUTF $text;\n",
    "\tclose OUTF;\n",
    "}\n",
    "\n",
    "sub write_pron {\n",
    "\tmy $file = shift;\n",
    "\tmy $text = shift;\n",
    "\tmy $pron = shift;\n",
    "\tif ($text eq 'ar tí') {\n",
    "\t\t$pron =~ s/ \\. ˈ / # /g;\n",
    "\t}\n",
    "\t$pron =~ s/ [ˈˌ] / /g;\n",
    "\t$pron =~ s/^[ˈˌ] //g;\n",
    "\t$pron =~ s/ \\. / /g;\n",
    "\tmy @words = split/ /, $text;\n",
    "\tmy @prons = split/ \\# /, $pron;\n",
    "\tif($#words != $#prons) {\n",
    "\t\tprint STDERR \"ERROR: $file $text $pron\\n\";\n",
    "\t}\n",
    "\tif($#words == 0) {\n",
    "\t\tprint $file \"$text $pron\\n\";\n",
    "\t} else {\n",
    "\t\tfor(my $i = 0; $i <= $#words; $i++) {\n",
    "\t\t\tprint $file \"$words[$i] $prons[$i]\\n\";\n",
    "\t\t}\n",
    "\t}\n",
    "}\n",
    "\n",
    "while(<STDIN>) {\n",
    "\tchomp;\n",
    "\tmy @line = split/\\t/;\n",
    "\tnext if($line[0] eq 'Orthographic');\n",
    "\tmy $text = lc($line[0]);\n",
    "\tnext if($line[0] eq \"d'fhág\");\n",
    "\tmy $uout = $line[1];\n",
    "\t$uout =~ s!/sounds/!!;\n",
    "\t$uout =~ s/\\.mp3$/.txt/;\n",
    "\tmy $cout = $line[3];\n",
    "\t$cout =~ s!/sounds/!!;\n",
    "\t$cout =~ s/\\.mp3$/.txt/;\n",
    "\tmy $mout = $line[5];\n",
    "\t$mout =~ s!/sounds/!!;\n",
    "\t$mout =~ s/\\.mp3$/.txt/;\n",
    "\t$uout = '/tmp/u/' . $uout;\n",
    "\t$cout = '/tmp/c/' . $cout;\n",
    "\t$mout = '/tmp/m/' . $mout;\n",
    "\n",
    "\tmy $pronu = $line[2];\n",
    "\tmy $pronc = $line[4];\n",
    "\tmy $pronm = $line[6];\n",
    "\n",
    "\tif($text eq 'Gaeilge') {\n",
    "\t\twrite_text($uout, \"gaeilic\");\n",
    "\t\twrite_text($cout, \"gaeilge\");\n",
    "\t\twrite_text($mout, \"gaelainn\");\n",
    "\t\twrite_pron(\\*LEXU, \"gaeilic\", $pronu);\n",
    "\t\twrite_pron(\\*LEXC, \"gaeilge\", $pronc);\n",
    "\t\twrite_pron(\\*LEXM, \"gaelainn\", $pronm);\n",
    "\t\tnext;\n",
    "\t}\n",
    "\tif($line[0] eq 'bocht' || $line[0] eq 'teacht' || $line[0] eq 'teocht') {\n",
    "\t\t$pronu =~ s/x t̪ˠ/ɾˠ t̪ˠ/;\n",
    "\t}\n",
    "\twrite_text($uout, $text);\n",
    "\twrite_pron(\\*LEXU, $text, $pronu);\n",
    "\twrite_text($mout, $text);\n",
    "\twrite_pron(\\*LEXM, $text, $pronm);\n",
    "\tif(!exists $empty{$line[3]}) {\n",
    "\t\tmy $cfix = exists $cr_files{$text} ? $cr_files{$text} : $text;\n",
    "\t\twrite_text($cout, $cfix);\n",
    "\t\twrite_pron(\\*LEXC, $cfix, $pronc);\n",
    "\t}\n",
    "}"
   ]
  },
  {
   "cell_type": "code",
   "execution_count": 3,
   "id": "dbeeeb0a",
   "metadata": {
    "execution": {
     "iopub.execute_input": "2023-07-13T10:03:16.203062Z",
     "iopub.status.busy": "2023-07-13T10:03:16.202796Z",
     "iopub.status.idle": "2023-07-13T10:03:17.322456Z",
     "shell.execute_reply": "2023-07-13T10:03:17.321059Z"
    },
    "papermill": {
     "duration": 1.126463,
     "end_time": "2023-07-13T10:03:17.325140",
     "exception": false,
     "start_time": "2023-07-13T10:03:16.198677",
     "status": "completed"
    },
    "tags": []
   },
   "outputs": [],
   "source": [
    "!cat ../input/scrape-fuaimeanna-private/all-fuaimeanna-data.tsv | perl /tmp/fuaimeanna-write.pl"
   ]
  },
  {
   "cell_type": "code",
   "execution_count": 4,
   "id": "45ed33d7",
   "metadata": {
    "execution": {
     "iopub.execute_input": "2023-07-13T10:03:17.333497Z",
     "iopub.status.busy": "2023-07-13T10:03:17.333135Z",
     "iopub.status.idle": "2023-07-13T10:03:21.120325Z",
     "shell.execute_reply": "2023-07-13T10:03:21.118874Z"
    },
    "papermill": {
     "duration": 3.794675,
     "end_time": "2023-07-13T10:03:21.123305",
     "exception": false,
     "start_time": "2023-07-13T10:03:17.328630",
     "status": "completed"
    },
    "tags": []
   },
   "outputs": [],
   "source": [
    "!cat /tmp/lexicon-connaught.raw | sort | uniq > /tmp/lexicon-connaught.txt\n",
    "!cat /tmp/lexicon-ulster.raw | sort | uniq > /tmp/lexicon-ulster.txt\n",
    "!cat /tmp/lexicon-munster.raw | sort | uniq > /tmp/lexicon-munster.txt\n",
    "!cat /tmp/lexicon-connaught.raw /tmp/lexicon-ulster.raw /tmp/lexicon-munster.raw | sort | uniq > /tmp/lexicon-all.txt"
   ]
  },
  {
   "cell_type": "code",
   "execution_count": 5,
   "id": "06ce5931",
   "metadata": {
    "execution": {
     "iopub.execute_input": "2023-07-13T10:03:21.132266Z",
     "iopub.status.busy": "2023-07-13T10:03:21.131950Z",
     "iopub.status.idle": "2023-07-13T10:03:26.956599Z",
     "shell.execute_reply": "2023-07-13T10:03:26.955257Z"
    },
    "papermill": {
     "duration": 5.832023,
     "end_time": "2023-07-13T10:03:26.959108",
     "exception": false,
     "start_time": "2023-07-13T10:03:21.127085",
     "status": "completed"
    },
    "tags": []
   },
   "outputs": [],
   "source": [
    "!mkdir /tmp/all\n",
    "!cp /tmp/c/* /tmp/all\n",
    "!cp /tmp/m/* /tmp/all\n",
    "!cp /tmp/u/* /tmp/all\n",
    "!mkdir /tmp/mfa-temp"
   ]
  },
  {
   "cell_type": "markdown",
   "id": "a6607acf",
   "metadata": {
    "papermill": {
     "duration": 0.00316,
     "end_time": "2023-07-13T10:03:26.965746",
     "exception": false,
     "start_time": "2023-07-13T10:03:26.962586",
     "status": "completed"
    },
    "tags": []
   },
   "source": [
    "### Run MFA"
   ]
  },
  {
   "cell_type": "markdown",
   "id": "8eaf570b",
   "metadata": {
    "papermill": {
     "duration": 0.002911,
     "end_time": "2023-07-13T10:03:26.971805",
     "exception": false,
     "start_time": "2023-07-13T10:03:26.968894",
     "status": "completed"
    },
    "tags": []
   },
   "source": [
    "Aha. Was pinned to an old environment."
   ]
  },
  {
   "cell_type": "code",
   "execution_count": 6,
   "id": "ec8a8134",
   "metadata": {
    "execution": {
     "iopub.execute_input": "2023-07-13T10:03:26.980029Z",
     "iopub.status.busy": "2023-07-13T10:03:26.979480Z",
     "iopub.status.idle": "2023-07-13T10:04:06.469345Z",
     "shell.execute_reply": "2023-07-13T10:04:06.468108Z"
    },
    "papermill": {
     "duration": 39.496638,
     "end_time": "2023-07-13T10:04:06.471731",
     "exception": false,
     "start_time": "2023-07-13T10:03:26.975093",
     "status": "completed"
    },
    "tags": []
   },
   "outputs": [
    {
     "name": "stdout",
     "output_type": "stream",
     "text": [
      "Retrieving notices: ...working... done\r\n",
      "Collecting package metadata (current_repodata.json): \\ \b\b| \b\b/ \b\b- \b\b\\ \b\b| \b\b/ \b\b- \b\b\\ \b\b| \b\b/ \b\b- \b\b\\ \b\b| \b\b/ \b\b- \b\b\\ \b\b| \b\b/ \b\b- \b\b\\ \b\b| \b\b/ \b\b- \b\b\\ \b\b| \b\b/ \b\b- \b\b\\ \b\b| \b\b/ \b\b- \b\b\\ \b\b| \b\b/ \b\b- \b\b\\ \b\b| \b\b/ \b\b- \b\b\\ \b\b| \b\b/ \b\b- \b\b\\ \b\b| \b\b/ \b\b- \b\b\\ \b\b| \b\b/ \b\b- \b\b\\ \b\b| \b\b/ \b\b- \b\b\\ \b\b| \b\b/ \b\b- \b\b\\ \b\b| \b\b/ \b\b- \b\b\\ \b\b| \b\b/ \b\b- \b\b\\ \b\bfailed\r\n",
      "\r\n",
      "# >>>>>>>>>>>>>>>>>>>>>> ERROR REPORT <<<<<<<<<<<<<<<<<<<<<<\r\n",
      "\r\n",
      "    Traceback (most recent call last):\r\n",
      "      File \"/opt/conda/lib/python3.10/site-packages/conda/gateways/repodata/__init__.py\", line 187, in conda_http_errors\r\n",
      "        yield\r\n",
      "      File \"/opt/conda/lib/python3.10/site-packages/conda/gateways/repodata/__init__.py\", line 153, in repodata\r\n",
      "        response.raise_for_status()\r\n",
      "      File \"/opt/conda/lib/python3.10/site-packages/requests/models.py\", line 1021, in raise_for_status\r\n",
      "        raise HTTPError(http_error_msg, response=self)\r\n",
      "    requests.exceptions.HTTPError: 404 Client Error: Not Found for url: https://conda.anaconda.org/rapidsai/linux-64/current_repodata.json\r\n",
      "    \r\n",
      "    During handling of the above exception, another exception occurred:\r\n",
      "    \r\n",
      "    Traceback (most recent call last):\r\n",
      "      File \"/opt/conda/lib/python3.10/site-packages/requests/models.py\", line 971, in json\r\n",
      "        return complexjson.loads(self.text, **kwargs)\r\n",
      "      File \"/opt/conda/lib/python3.10/site-packages/simplejson/__init__.py\", line 514, in loads\r\n",
      "        return _default_decoder.decode(s)\r\n",
      "      File \"/opt/conda/lib/python3.10/site-packages/simplejson/decoder.py\", line 386, in decode\r\n",
      "        obj, end = self.raw_decode(s)\r\n",
      "      File \"/opt/conda/lib/python3.10/site-packages/simplejson/decoder.py\", line 416, in raw_decode\r\n",
      "        return self.scan_once(s, idx=_w(s, idx).end())\r\n",
      "    simplejson.errors.JSONDecodeError: Expecting value: line 1 column 1 (char 0)\r\n",
      "    \r\n",
      "    During handling of the above exception, another exception occurred:\r\n",
      "    \r\n",
      "    Traceback (most recent call last):\r\n",
      "      File \"/opt/conda/lib/python3.10/site-packages/conda/exception_handler.py\", line 16, in __call__\r\n",
      "        return func(*args, **kwargs)\r\n",
      "      File \"/opt/conda/lib/python3.10/site-packages/conda/cli/main.py\", line 84, in main_subshell\r\n",
      "        exit_code = do_call(args, p)\r\n",
      "      File \"/opt/conda/lib/python3.10/site-packages/conda/cli/conda_argparse.py\", line 126, in do_call\r\n",
      "        return getattr(module, func_name)(args, parser)\r\n",
      "      File \"/opt/conda/lib/python3.10/site-packages/conda/notices/core.py\", line 118, in wrapper\r\n",
      "        return_value = func(*args, **kwargs)\r\n",
      "      File \"/opt/conda/lib/python3.10/site-packages/conda/cli/main_install.py\", line 22, in execute\r\n",
      "        install(args, parser, \"install\")\r\n",
      "      File \"/opt/conda/lib/python3.10/site-packages/conda/cli/install.py\", line 309, in install\r\n",
      "        unlink_link_transaction = solver.solve_for_transaction(\r\n",
      "      File \"/opt/conda/lib/python3.10/site-packages/conda/core/solve.py\", line 153, in solve_for_transaction\r\n",
      "        unlink_precs, link_precs = self.solve_for_diff(\r\n",
      "      File \"/opt/conda/lib/python3.10/site-packages/conda/core/solve.py\", line 214, in solve_for_diff\r\n",
      "        final_precs = self.solve_final_state(\r\n",
      "      File \"/opt/conda/lib/python3.10/site-packages/conda/core/solve.py\", line 357, in solve_final_state\r\n",
      "        ssc = self._collect_all_metadata(ssc)\r\n",
      "      File \"/opt/conda/lib/python3.10/site-packages/conda/common/io.py\", line 83, in decorated\r\n",
      "        return f(*args, **kwds)\r\n",
      "      File \"/opt/conda/lib/python3.10/site-packages/conda/core/solve.py\", line 571, in _collect_all_metadata\r\n",
      "        index, r = self._prepare(prepared_specs)\r\n",
      "      File \"/opt/conda/lib/python3.10/site-packages/conda/core/solve.py\", line 1285, in _prepare\r\n",
      "        reduced_index = get_reduced_index(\r\n",
      "      File \"/opt/conda/lib/python3.10/site-packages/conda/core/index.py\", line 286, in get_reduced_index\r\n",
      "        new_records = SubdirData.query_all(\r\n",
      "      File \"/opt/conda/lib/python3.10/site-packages/conda/core/subdir_data.py\", line 157, in query_all\r\n",
      "        result = tuple(\r\n",
      "      File \"/opt/conda/lib/python3.10/concurrent/futures/_base.py\", line 621, in result_iterator\r\n",
      "        yield _result_or_cancel(fs.pop())\r\n",
      "      File \"/opt/conda/lib/python3.10/concurrent/futures/_base.py\", line 319, in _result_or_cancel\r\n",
      "        return fut.result(timeout)\r\n",
      "      File \"/opt/conda/lib/python3.10/concurrent/futures/_base.py\", line 458, in result\r\n",
      "        return self.__get_result()\r\n",
      "      File \"/opt/conda/lib/python3.10/concurrent/futures/_base.py\", line 403, in __get_result\r\n",
      "        raise self._exception\r\n",
      "      File \"/opt/conda/lib/python3.10/concurrent/futures/thread.py\", line 58, in run\r\n",
      "        result = self.fn(*self.args, **self.kwargs)\r\n",
      "      File \"/opt/conda/lib/python3.10/site-packages/conda/core/subdir_data.py\", line 142, in subdir_query\r\n",
      "        return tuple(\r\n",
      "      File \"/opt/conda/lib/python3.10/site-packages/conda/core/subdir_data.py\", line 164, in query\r\n",
      "        self.load()\r\n",
      "      File \"/opt/conda/lib/python3.10/site-packages/conda/core/subdir_data.py\", line 264, in load\r\n",
      "        _internal_state = self._load()\r\n",
      "      File \"/opt/conda/lib/python3.10/site-packages/conda/core/subdir_data.py\", line 321, in _load\r\n",
      "        repodata, state = fetcher.fetch_latest_parsed()\r\n",
      "      File \"/opt/conda/lib/python3.10/site-packages/conda/gateways/repodata/__init__.py\", line 757, in fetch_latest_parsed\r\n",
      "        parsed, state = self.fetch_latest()\r\n",
      "      File \"/opt/conda/lib/python3.10/site-packages/conda/gateways/repodata/__init__.py\", line 879, in fetch_latest\r\n",
      "        raw_repodata = repo.repodata(cache.state)  # type: ignore\r\n",
      "      File \"/opt/conda/lib/python3.10/site-packages/conda/gateways/repodata/__init__.py\", line 143, in repodata\r\n",
      "        with conda_http_errors(self._url, filename):\r\n",
      "      File \"/opt/conda/lib/python3.10/contextlib.py\", line 153, in __exit__\r\n",
      "        self.gen.throw(typ, value, traceback)\r\n",
      "      File \"/opt/conda/lib/python3.10/site-packages/conda/gateways/repodata/__init__.py\", line 234, in conda_http_errors\r\n",
      "        raise RepodataIsEmpty(\r\n",
      "      File \"/opt/conda/lib/python3.10/site-packages/conda/exceptions.py\", line 527, in __init__\r\n",
      "        body = response.json()\r\n",
      "      File \"/opt/conda/lib/python3.10/site-packages/requests/models.py\", line 975, in json\r\n",
      "        raise RequestsJSONDecodeError(e.msg, e.doc, e.pos)\r\n",
      "    requests.exceptions.JSONDecodeError: Expecting value: line 1 column 1 (char 0)\r\n",
      "\r\n",
      "`$ /opt/conda/bin/conda install montreal-forced-aligner -y`\r\n",
      "\r\n",
      "  environment variables:\r\n",
      "                 CIO_TEST=<not set>\r\n",
      "               CONDA_ROOT=/opt/conda\r\n",
      "           CURL_CA_BUNDLE=<not set>\r\n",
      "          LD_LIBRARY_PATH=/usr/local/cuda/lib64:/usr/local/cuda/lib:/usr/local/lib/x86_64-linux-\r\n",
      "                          gnu:/usr/local/nvidia/lib:/usr/local/nvidia/lib64::/opt/conda/lib\r\n",
      "               LD_PRELOAD=<not set>\r\n",
      "             LIBRARY_PATH=:/opt/conda/lib\r\n",
      "                     PATH=/opt/conda/bin:/usr/local/sbin:/usr/local/bin:/usr/sbin:/usr/bin:/sbin\r\n",
      "                          :/bin\r\n",
      "               PYTHONPATH=/kaggle/lib/kagglegym:/kaggle/lib\r\n",
      "           PYTHONUSERBASE=/root/.local\r\n",
      "       REQUESTS_CA_BUNDLE=<not set>\r\n",
      "            SSL_CERT_FILE=<not set>\r\n",
      "           TESSERACT_PATH=/usr/bin/tesseract\r\n",
      "\r\n",
      "     active environment : None\r\n",
      "       user config file : /root/.condarc\r\n",
      " populated config files : /opt/conda/.condarc\r\n",
      "                          /root/.condarc\r\n",
      "          conda version : 23.5.0\r\n",
      "    conda-build version : not installed\r\n",
      "         python version : 3.10.12.final.0\r\n",
      "       virtual packages : __archspec=1=x86_64\r\n",
      "                          __glibc=2.31=0\r\n",
      "                          __linux=5.15.109=0\r\n",
      "                          __unix=0=0\r\n",
      "       base environment : /opt/conda  (writable)\r\n",
      "      conda av data dir : /opt/conda/etc/conda\r\n",
      "  conda av metadata url : None\r\n",
      "           channel URLs : https://conda.anaconda.org/rapidsai/linux-64\r\n",
      "                          https://conda.anaconda.org/rapidsai/noarch\r\n",
      "                          https://conda.anaconda.org/nvidia/linux-64\r\n",
      "                          https://conda.anaconda.org/nvidia/noarch\r\n",
      "                          https://conda.anaconda.org/conda-forge/linux-64\r\n",
      "                          https://conda.anaconda.org/conda-forge/noarch\r\n",
      "                          https://repo.anaconda.com/pkgs/main/linux-64\r\n",
      "                          https://repo.anaconda.com/pkgs/main/noarch\r\n",
      "                          https://repo.anaconda.com/pkgs/r/linux-64\r\n",
      "                          https://repo.anaconda.com/pkgs/r/noarch\r\n",
      "          package cache : /opt/conda/pkgs\r\n",
      "                          /root/.conda/pkgs\r\n",
      "       envs directories : /opt/conda/envs\r\n",
      "                          /root/.conda/envs\r\n",
      "               platform : linux-64\r\n",
      "             user-agent : conda/23.5.0 requests/2.31.0 CPython/3.10.12 Linux/5.15.109+ ubuntu/20.04.6 glibc/2.31\r\n",
      "                UID:GID : 0:0\r\n",
      "             netrc file : None\r\n",
      "           offline mode : False\r\n",
      "\r\n",
      "\r\n",
      "An unexpected error has occurred. Conda has prepared the above report.\r\n",
      "\r\n",
      "Upload successful.\r\n",
      "/bin/bash: mfa: command not found\r\n",
      "/bin/bash: mfa: command not found\r\n",
      "/bin/bash: mfa: command not found\r\n",
      "/bin/bash: mfa: command not found\r\n",
      "/bin/bash: mfa: command not found\r\n",
      "/bin/bash: mfa: command not found\r\n",
      "/bin/bash: mfa: command not found\r\n",
      "/bin/bash: mfa: command not found\r\n"
     ]
    }
   ],
   "source": [
    "!conda install montreal-forced-aligner -y\n",
    "!mfa train -t /tmp/mfa-temp --output_directory /tmp/textgrid-munster /tmp/m /tmp/lexicon-munster.txt ./munster-model\n",
    "!mfa train -t /tmp/mfa-temp --output_directory /tmp/textgrid-ulster /tmp/u /tmp/lexicon-ulster.txt ./ulster-model\n",
    "!mfa train -t /tmp/mfa-temp --output_directory /tmp/textgrid-connaught /tmp/c /tmp/lexicon-connaught.txt ./connaught-model\n",
    "!mfa train -t /tmp/mfa-temp --output_directory /tmp/textgrid-all /tmp/all /tmp/lexicon-all.txt ./all-model\n",
    "\n",
    "!mfa train_g2p -t /tmp/mfa-temp /tmp/lexicon-ulster.txt ./g2p-ulster\n",
    "!mfa train_g2p -t /tmp/mfa-temp /tmp/lexicon-munster.txt ./g2p-munster\n",
    "!mfa train_g2p -t /tmp/mfa-temp /tmp/lexicon-connaught.txt ./g2p-connaught\n",
    "!mfa train_g2p -t /tmp/mfa-temp /tmp/lexicon-all.txt ./g2p-all"
   ]
  }
 ],
 "metadata": {
  "kernelspec": {
   "display_name": "Python 3",
   "language": "python",
   "name": "python3"
  },
  "language_info": {
   "codemirror_mode": {
    "name": "ipython",
    "version": 3
   },
   "file_extension": ".py",
   "mimetype": "text/x-python",
   "name": "python",
   "nbconvert_exporter": "python",
   "pygments_lexer": "ipython3",
   "version": "3.10.12"
  },
  "papermill": {
   "default_parameters": {},
   "duration": 78.163519,
   "end_time": "2023-07-13T10:04:07.102665",
   "environment_variables": {},
   "exception": null,
   "input_path": "__notebook__.ipynb",
   "output_path": "__notebook__.ipynb",
   "parameters": {},
   "start_time": "2023-07-13T10:02:48.939146",
   "version": "2.4.0"
  }
 },
 "nbformat": 4,
 "nbformat_minor": 5
}
