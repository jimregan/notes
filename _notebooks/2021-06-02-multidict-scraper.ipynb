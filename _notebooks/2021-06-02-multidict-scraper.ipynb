{
 "cells": [
  {
   "cell_type": "code",
   "execution_count": null,
   "id": "c879b1f1",
   "metadata": {},
   "outputs": [],
   "source": [
    "url = 'https://multidict.net/wordlink/wordlink.php?sid=4366748'"
   ]
  },
  {
   "cell_type": "code",
   "execution_count": null,
   "id": "04eb13fc",
   "metadata": {},
   "outputs": [],
   "source": [
    "import requests\n",
    "from bs4 import BeautifulSoup\n",
    "\n",
    "def scrapepage(pageid):\n",
    "    page = requests.get(f'https://multidict.net/clilstore/page.php?id={pageid}')\n",
    "    soup = BeautifulSoup(page.text, 'html.parser')\n",
    "    body = soup.find('body')\n",
    "    bodytext = body.find('div', {'class': 'body-indent'})\n",
    "    text = [tmp.text for tmp in bodytext.findAll('p')]\n",
    "    iframe = bodytext.findAll('iframe')\n",
    "    return iframe[0]['src'], text"
   ]
  },
  {
   "cell_type": "code",
   "execution_count": null,
   "id": "5fcbf711",
   "metadata": {},
   "outputs": [],
   "source": [
    "def getpageid(page):\n",
    "    if page.startswith('https://multidict.net/cs/'):\n",
    "        return page[25:]"
   ]
  },
  {
   "cell_type": "code",
   "execution_count": null,
   "id": "b42aa4d6",
   "metadata": {},
   "outputs": [],
   "source": [
    "getpageid('https://multidict.net/cs/8839')"
   ]
  },
  {
   "cell_type": "code",
   "execution_count": null,
   "id": "cf5a3d78",
   "metadata": {},
   "outputs": [],
   "source": [
    "# change to page.php?id=\n",
    "print(scrapepage('8839'))"
   ]
  },
  {
   "cell_type": "code",
   "execution_count": null,
   "id": "4bbc77ca",
   "metadata": {},
   "outputs": [],
   "source": [
    "headers = {\n",
    "    \"accept\": \"text/html,application/xhtml+xml,application/xml;q=0.9,image/avif,image/webp,image/apng,*/*;q=0.8,application/signed-exchange;v=b3;q=0.9\",\n",
    "    \"accept-language\": \"en-US,en;q=0.9,pl;q=0.8,ga;q=0.7,en-GB;q=0.6\",\n",
    "    \"cache-control\": \"max-age=0\",\n",
    "    \"content-type\": \"application/x-www-form-urlencoded\",\n",
    "    \"sec-ch-ua\": \"\\\" Not A;Brand\\\";v=\\\"99\\\", \\\"Chromium\\\";v=\\\"90\\\", \\\"Google Chrome\\\";v=\\\"90\\\"\",\n",
    "    \"sec-ch-ua-mobile\": \"?0\",\n",
    "    \"sec-fetch-dest\": \"document\",\n",
    "    \"sec-fetch-mode\": \"navigate\",\n",
    "    \"sec-fetch-site\": \"same-origin\",\n",
    "    \"sec-fetch-user\": \"?1\",\n",
    "    \"upgrade-insecure-requests\": \"1\"\n",
    "  }"
   ]
  },
  {
   "cell_type": "code",
   "execution_count": null,
   "id": "0802d347",
   "metadata": {},
   "outputs": [],
   "source": [
    "s = requests.Session()\n",
    "s.headers.update(headers)\n",
    "s.get(\"https://multidict.net/clilstore/\")\n",
    "s.headers.update({'referer': \"https://multidict.net/clilstore/\"})\n",
    "x = s.post(\"https://multidict.net/clilstore/\", data=\"sl=ga&filterForm=1&title=&text=&showAll=showAll\")\n",
    "print(x)"
   ]
  },
  {
   "cell_type": "code",
   "execution_count": null,
   "id": "b2f05f7f",
   "metadata": {},
   "outputs": [],
   "source": [
    "listsoup = BeautifulSoup(x.text, 'html.parser')"
   ]
  },
  {
   "cell_type": "code",
   "execution_count": null,
   "id": "fd698d73",
   "metadata": {},
   "outputs": [],
   "source": [
    "table = listsoup.find('table', {'id': 'main'})"
   ]
  },
  {
   "cell_type": "code",
   "execution_count": null,
   "id": "1c485fbe",
   "metadata": {},
   "outputs": [],
   "source": [
    "links = table.findAll('a')"
   ]
  },
  {
   "cell_type": "code",
   "execution_count": null,
   "id": "da4fde10",
   "metadata": {},
   "outputs": [],
   "source": [
    "def attrstartswith(tag, attr, needle):\n",
    "    return tag.attrs and attr in tag.attrs and tag.attrs[attr].startswith(needle)"
   ]
  },
  {
   "cell_type": "code",
   "execution_count": null,
   "id": "f69b198f",
   "metadata": {},
   "outputs": [],
   "source": [
    "def collectlinks(links):\n",
    "    out = []\n",
    "    for link in links:\n",
    "        if attrstartswith(link, 'href', '/cs/'):\n",
    "            out.append(link.attrs['href'][4:])\n",
    "    return out"
   ]
  },
  {
   "cell_type": "code",
   "execution_count": null,
   "id": "e96a9aa5",
   "metadata": {},
   "outputs": [],
   "source": [
    "for link in table.findAll(lambda tag: tag.name == 'a' and attrstartswith(tag, 'href', '/cs/')):\n",
    "    print(link.attrs['href'])"
   ]
  },
  {
   "cell_type": "code",
   "execution_count": null,
   "id": "aa64a719",
   "metadata": {},
   "outputs": [],
   "source": [
    "collectlinks(links)"
   ]
  }
 ],
 "metadata": {
  "kernelspec": {
   "display_name": "Python 3",
   "language": "python",
   "name": "python3"
  },
  "language_info": {
   "codemirror_mode": {
    "name": "ipython",
    "version": 3
   },
   "file_extension": ".py",
   "mimetype": "text/x-python",
   "name": "python",
   "nbconvert_exporter": "python",
   "pygments_lexer": "ipython3",
   "version": "3.8.2"
  }
 },
 "nbformat": 4,
 "nbformat_minor": 5
}
