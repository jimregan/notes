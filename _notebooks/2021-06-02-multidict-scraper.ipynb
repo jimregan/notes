{
  "nbformat": 4,
  "nbformat_minor": 5,
  "metadata": {
    "kernelspec": {
      "display_name": "Python 3",
      "language": "python",
      "name": "python3"
    },
    "language_info": {
      "codemirror_mode": {
        "name": "ipython",
        "version": 3
      },
      "file_extension": ".py",
      "mimetype": "text/x-python",
      "name": "python",
      "nbconvert_exporter": "python",
      "pygments_lexer": "ipython3",
      "version": "3.8.2"
    },
    "colab": {
      "name": "2021-06-02-multidict-scraper.ipynb",
      "provenance": []
    }
  },
  "cells": [
    {
      "cell_type": "markdown",
      "metadata": {
        "id": "p-FEp9Yv6aqU"
      },
      "source": [
        "# Multidict scraper\n",
        "\n",
        "> \"(Not completed)\"\n",
        "\n",
        "- toc: false\n",
        "- branch: master\n",
        "- hidden: true\n",
        "- categories: [asr, irish, todo]"
      ],
      "id": "p-FEp9Yv6aqU"
    },
    {
      "cell_type": "code",
      "metadata": {
        "id": "390b034f"
      },
      "source": [
        "import requests\n",
        "from bs4 import BeautifulSoup\n",
        "\n",
        "def scrapepage(pageid):\n",
        "    page = requests.get(f'https://multidict.net/clilstore/page.php?id={pageid}')\n",
        "    soup = BeautifulSoup(page.text, 'html.parser')\n",
        "    body = soup.find('body')\n",
        "    bodytext = body.find('div', {'class': 'body-indent'})\n",
        "    text = [tmp.text for tmp in bodytext.findAll('p')]\n",
        "    iframe = bodytext.findAll('iframe')\n",
        "    return iframe[0]['src'], text"
      ],
      "id": "390b034f",
      "execution_count": null,
      "outputs": []
    },
    {
      "cell_type": "code",
      "metadata": {
        "id": "9b1cadf6"
      },
      "source": [
        "# change to page.php?id=\n",
        "print(scrapepage('8839'))"
      ],
      "id": "9b1cadf6",
      "execution_count": null,
      "outputs": []
    },
    {
      "cell_type": "code",
      "metadata": {
        "id": "4a198b0a"
      },
      "source": [
        "headers = {\n",
        "    \"accept\": \"text/html,application/xhtml+xml,application/xml;q=0.9,image/avif,image/webp,image/apng,*/*;q=0.8,application/signed-exchange;v=b3;q=0.9\",\n",
        "    \"accept-language\": \"en-US,en;q=0.9,pl;q=0.8,ga;q=0.7,en-GB;q=0.6\",\n",
        "    \"cache-control\": \"max-age=0\",\n",
        "    \"content-type\": \"application/x-www-form-urlencoded\",\n",
        "    \"sec-ch-ua\": \"\\\" Not A;Brand\\\";v=\\\"99\\\", \\\"Chromium\\\";v=\\\"90\\\", \\\"Google Chrome\\\";v=\\\"90\\\"\",\n",
        "    \"sec-ch-ua-mobile\": \"?0\",\n",
        "    \"sec-fetch-dest\": \"document\",\n",
        "    \"sec-fetch-mode\": \"navigate\",\n",
        "    \"sec-fetch-site\": \"same-origin\",\n",
        "    \"sec-fetch-user\": \"?1\",\n",
        "    \"upgrade-insecure-requests\": \"1\"\n",
        "  }"
      ],
      "id": "4a198b0a",
      "execution_count": null,
      "outputs": []
    },
    {
      "cell_type": "code",
      "metadata": {
        "id": "9a7eacef"
      },
      "source": [
        "s = requests.Session()\n",
        "s.headers.update(headers)\n",
        "s.get(\"https://multidict.net/clilstore/\")\n",
        "s.headers.update({'referer': \"https://multidict.net/clilstore/\"})\n",
        "x = s.post(\"https://multidict.net/clilstore/\", data=\"sl=ga&filterForm=1&title=&text=&showAll=showAll\")"
      ],
      "id": "9a7eacef",
      "execution_count": null,
      "outputs": []
    },
    {
      "cell_type": "code",
      "metadata": {
        "id": "6e229417"
      },
      "source": [
        "listsoup = BeautifulSoup(x.text, 'html.parser')"
      ],
      "id": "6e229417",
      "execution_count": null,
      "outputs": []
    },
    {
      "cell_type": "code",
      "metadata": {
        "id": "e2f37b06"
      },
      "source": [
        "table = listsoup.find('table', {'id': 'main'})"
      ],
      "id": "e2f37b06",
      "execution_count": null,
      "outputs": []
    },
    {
      "cell_type": "code",
      "metadata": {
        "id": "2081fe45"
      },
      "source": [
        "links = table.findAll('a')"
      ],
      "id": "2081fe45",
      "execution_count": null,
      "outputs": []
    },
    {
      "cell_type": "code",
      "metadata": {
        "id": "375fb5e0"
      },
      "source": [
        "def attrstartswith(tag, attr, needle):\n",
        "    return tag.attrs and attr in tag.attrs and tag.attrs[attr].startswith(needle)"
      ],
      "id": "375fb5e0",
      "execution_count": null,
      "outputs": []
    },
    {
      "cell_type": "code",
      "metadata": {
        "id": "0919bf92"
      },
      "source": [
        "def collectlinks(links):\n",
        "    out = []\n",
        "    for link in links:\n",
        "        if attrstartswith(link, 'href', '/cs/'):\n",
        "            out.append(link.attrs['href'][4:])\n",
        "    return out"
      ],
      "id": "0919bf92",
      "execution_count": null,
      "outputs": []
    }
  ]
}