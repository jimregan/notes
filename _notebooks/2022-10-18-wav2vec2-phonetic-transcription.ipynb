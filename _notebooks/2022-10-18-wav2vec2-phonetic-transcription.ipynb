{
  "cells": [
    {
      "cell_type": "markdown",
      "metadata": {
        "id": "Wm2nXAnR3HXm"
      },
      "source": [
        "# Phonetic transcription with HuggingFace\n",
        "\n",
        "> \"wav2vec2 espeak phonetic model\"\n",
        "\n",
        "- tok: false\n",
        "- branch: master\n",
        "- comments: true\n",
        "- categories: [phonetic, espeak, wav2vec2, huggingface, timestamps]\n"
      ]
    },
    {
      "cell_type": "markdown",
      "source": [
        "Based on [an earlier notebook]({% post_url 2022-03-08-getting-timestamps-on-long-audio-with-wav2vec2-and-huggingface %})"
      ],
      "metadata": {
        "id": "rCRd_4eDKJo_"
      }
    },
    {
      "cell_type": "code",
      "execution_count": 2,
      "metadata": {
        "id": "wKSZXGoJiVhj"
      },
      "outputs": [],
      "source": [
        "%%capture\n",
        "!pip install youtube-dl\n",
        "!pip install phonemizer"
      ]
    },
    {
      "cell_type": "code",
      "source": [
        "%%capture\n",
        "!apt install espeak-ng"
      ],
      "metadata": {
        "id": "TJAXU555ITys"
      },
      "execution_count": null,
      "outputs": []
    },
    {
      "cell_type": "code",
      "execution_count": 3,
      "metadata": {
        "id": "bXUYhibUiZVh",
        "colab": {
          "base_uri": "https://localhost:8080/"
        },
        "outputId": "36ce17c7-d8b4-4e9c-f318-e80f7eaa22b5"
      },
      "outputs": [
        {
          "output_type": "stream",
          "name": "stdout",
          "text": [
            "[youtube] Kw5jkyLGFGc: Downloading webpage\n",
            "[youtube] Kw5jkyLGFGc: Downloading MPD manifest\n",
            "[download] Destination: Kw5jkyLGFGc.m4a\n",
            "\u001b[K[download] 100% of 10.98MiB in 04:05\n",
            "[ffmpeg] Correcting container in \"Kw5jkyLGFGc.m4a\"\n",
            "[ffmpeg] Post-process file Kw5jkyLGFGc.m4a exists, skipping\n"
          ]
        }
      ],
      "source": [
        "!youtube-dl -x --audio-format best -o '%(id)s.%(ext)s' https://www.youtube.com/watch?v=Kw5jkyLGFGc"
      ]
    },
    {
      "cell_type": "code",
      "execution_count": 4,
      "metadata": {
        "id": "ODqMU5f5j8oq"
      },
      "outputs": [],
      "source": [
        "%%capture\n",
        "!ffmpeg -i Kw5jkyLGFGc.m4a -acodec pcm_s16le -ac 1 -ar 16000 Kw5jkyLGFGc.wav"
      ]
    },
    {
      "cell_type": "markdown",
      "metadata": {
        "id": "24HKZajJy06C"
      },
      "source": [
        "Here starts the actual ASR stuff."
      ]
    },
    {
      "cell_type": "code",
      "execution_count": 5,
      "metadata": {
        "id": "CSMuf1IzkgE0"
      },
      "outputs": [],
      "source": [
        "%%capture\n",
        "!pip install transformers"
      ]
    },
    {
      "cell_type": "code",
      "execution_count": 6,
      "metadata": {
        "id": "Xz-XdAEUgWhb"
      },
      "outputs": [],
      "source": [
        "_SWE_MODEL = \"facebook/wav2vec2-lv-60-espeak-cv-ft\""
      ]
    },
    {
      "cell_type": "code",
      "execution_count": 7,
      "metadata": {
        "id": "jlDRjS16kaqF"
      },
      "outputs": [],
      "source": [
        "from transformers import pipeline"
      ]
    },
    {
      "cell_type": "code",
      "execution_count": null,
      "metadata": {
        "id": "p5LFs7rRk8ek"
      },
      "outputs": [],
      "source": [
        "pipe = pipeline(model=_SWE_MODEL, device=0)"
      ]
    },
    {
      "cell_type": "code",
      "execution_count": 13,
      "metadata": {
        "id": "WJ5spXO7kmuF"
      },
      "outputs": [],
      "source": [
        "output = pipe(\"/content/Kw5jkyLGFGc.wav\", chunk_length_s=10, return_timestamps=\"char\")"
      ]
    },
    {
      "cell_type": "code",
      "execution_count": 14,
      "metadata": {
        "id": "GwgL6OowvTXj"
      },
      "outputs": [],
      "source": [
        "import json\n",
        "with open(\"/content/Kw5jkyLGFGc.json\", \"w\") as f:\n",
        "    json.dump(output, f)"
      ]
    }
  ],
  "metadata": {
    "colab": {
      "collapsed_sections": [],
      "name": "2022-03-08-getting-timestamps-on-long-audio-with-wav2vec2-and-huggingface.ipynb",
      "provenance": []
    },
    "kernelspec": {
      "display_name": "Python 3",
      "name": "python3"
    },
    "language_info": {
      "name": "python"
    },
    "accelerator": "GPU"
  },
  "nbformat": 4,
  "nbformat_minor": 0
}