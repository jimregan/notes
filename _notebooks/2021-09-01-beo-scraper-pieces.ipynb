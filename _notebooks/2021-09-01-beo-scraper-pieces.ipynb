{
  "nbformat": 4,
  "nbformat_minor": 0,
  "metadata": {
    "colab": {
      "name": "beo_scraper_pieces.ipynb",
      "provenance": []
    },
    "kernelspec": {
      "name": "python3",
      "display_name": "Python 3"
    },
    "language_info": {
      "name": "python"
    }
  },
  "cells": [
    {
      "cell_type": "markdown",
      "metadata": {
        "id": "WOtCGbPSQWsW"
      },
      "source": [
        "# Scraper pieces for beo.ie\n",
        "\n",
        "> Incomplete, most pieces done\n",
        "\n",
        "- toc: false\n",
        "- branch: master\n",
        "- badges: false\n",
        "- comments: true\n",
        "- categories: [irish, text]"
      ]
    },
    {
      "cell_type": "code",
      "metadata": {
        "id": "MhPcVHAcPBev"
      },
      "source": [
        "sample_url = 'http://beo.ie/alt-an-eaglais-fein-a-bheas-thios-leis-ma-chuirtear-ba.aspx'"
      ],
      "execution_count": null,
      "outputs": []
    },
    {
      "cell_type": "code",
      "metadata": {
        "id": "KsfGDtNyP5Vh"
      },
      "source": [
        "import requests\n",
        "from bs4 import BeautifulSoup"
      ],
      "execution_count": null,
      "outputs": []
    },
    {
      "cell_type": "code",
      "metadata": {
        "id": "dGY3IT1iQV4m"
      },
      "source": [
        "page = requests.get(sample_url)\n"
      ],
      "execution_count": null,
      "outputs": []
    },
    {
      "cell_type": "code",
      "metadata": {
        "id": "_f-l9DplQ5TA"
      },
      "source": [
        "soup = BeautifulSoup(page.text, 'html.parser')"
      ],
      "execution_count": null,
      "outputs": []
    },
    {
      "cell_type": "code",
      "metadata": {
        "id": "nPy1pq8WRlFL"
      },
      "source": [
        "def _get_translations(soup):\n",
        "  out = []\n",
        "  for gloss in soup.find_all('span', {'class': 'gloss'}):\n",
        "    if gloss.get('title') != None and gloss.text:\n",
        "      out.append({'en': gloss.get('title'), 'ga': gloss.text})\n",
        "  return out"
      ],
      "execution_count": null,
      "outputs": []
    },
    {
      "cell_type": "code",
      "metadata": {
        "id": "lUEBmqo9SDtU"
      },
      "source": [
        "def _get_captioned_images(soup):\n",
        "  out = []\n",
        "  for pic in soup.find_all('div', {'class': 'pic'}):\n",
        "    title = pic.find('div', {'class': 'title'})\n",
        "    if title:\n",
        "      imgtag = pic.find('img')\n",
        "      out.append({'image': f\"http://beo.ie/{imgtag.get('src')}\", 'caption': title.text})\n",
        "  return out"
      ],
      "execution_count": null,
      "outputs": []
    },
    {
      "cell_type": "code",
      "metadata": {
        "id": "GarnMpaxXzOC"
      },
      "source": [
        "def _get_title(soup):\n",
        "    title = soup.find('title').text\n",
        "    if title and title.startswith('Beo! - '):\n",
        "        return(title[7:])\n",
        "    else:\n",
        "        return None"
      ],
      "execution_count": null,
      "outputs": []
    },
    {
      "cell_type": "code",
      "metadata": {
        "id": "2SHtlP5hdMqZ"
      },
      "source": [
        "def _get_blurb(soup):\n",
        "    return soup.find('div', {'class', 'blurb'}).text.strip()"
      ],
      "execution_count": null,
      "outputs": []
    },
    {
      "cell_type": "code",
      "metadata": {
        "id": "pgtkfakvgSQm"
      },
      "source": [
        "def _get_author(soup):\n",
        "  dauth = soup.find('div', {'class': 'author'})\n",
        "  return dauth.find('span', {'class': 'smallscreenInline'}).text.strip()"
      ],
      "execution_count": null,
      "outputs": []
    },
    {
      "cell_type": "code",
      "metadata": {
        "id": "xC0Vhw8GkZxd"
      },
      "source": [
        "def _get_paragraphs(soup):\n",
        "  out = []\n",
        "  content = soup.find('div', {'class': 'content'})\n",
        "  for p in content.find_all('p'):\n",
        "    text = p.text.strip()\n",
        "    if text:\n",
        "      out.append(text)\n",
        "  return out"
      ],
      "execution_count": null,
      "outputs": []
    },
    {
      "cell_type": "code",
      "metadata": {
        "id": "s7oA-bqKsrBw"
      },
      "source": [
        "edition_sample = 'http://beo.ie/eagran-2014-09.aspx'"
      ],
      "execution_count": null,
      "outputs": []
    },
    {
      "cell_type": "code",
      "metadata": {
        "id": "BpFhieYvtViI"
      },
      "source": [
        "def _get_article_links(url):\n",
        "  out = set()\n",
        "  page = requests.get(url)\n",
        "  soup = BeautifulSoup(page.text, 'html.parser')\n",
        "  for article in soup.find_all('div', {'class': 'articleListing'}):\n",
        "    for a in article.find_all('a'):\n",
        "      link = a.get('href')\n",
        "      if link:\n",
        "        out.add(f\"http://beo.ie/{link}\")\n",
        "  return list(out)"
      ],
      "execution_count": null,
      "outputs": []
    },
    {
      "cell_type": "code",
      "metadata": {
        "id": "BU-4BLe3ujHE"
      },
      "source": [
        "def _get_edition_links():\n",
        "  out = set()\n",
        "  for i in range(1, 15):\n",
        "    url = f\"http://beo.ie/Editions.aspx?Year=20{i:02}\"\n",
        "    page = requests.get(url)\n",
        "    soup = BeautifulSoup(page.text, 'html.parser')\n",
        "    eds = soup.find('ul', {'class': 'editions'})\n",
        "    for ed in eds.find_all('a'):\n",
        "      if ed.get('href'):\n",
        "        out.add(f\"http://beo.ie/{ed.get('href')}\")\n",
        "  return list(out)"
      ],
      "execution_count": null,
      "outputs": []
    }
  ]
}