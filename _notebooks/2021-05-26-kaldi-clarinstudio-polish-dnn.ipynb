{
 "cells": [
  {
   "cell_type": "code",
   "execution_count": 1,
   "id": "designing-lease",
   "metadata": {
    "execution": {
     "iopub.execute_input": "2021-05-27T14:57:30.286724Z",
     "iopub.status.busy": "2021-05-27T14:57:30.285957Z",
     "iopub.status.idle": "2021-05-27T14:57:30.290080Z",
     "shell.execute_reply": "2021-05-27T14:57:30.290516Z",
     "shell.execute_reply.started": "2021-05-27T08:45:21.860805Z"
    },
    "papermill": {
     "duration": 0.034563,
     "end_time": "2021-05-27T14:57:30.290752",
     "exception": false,
     "start_time": "2021-05-27T14:57:30.256189",
     "status": "completed"
    },
    "tags": []
   },
   "outputs": [
    {
     "name": "stdout",
     "output_type": "stream",
     "text": [
      "/opt\n"
     ]
    }
   ],
   "source": [
    "%cd /opt"
   ]
  },
  {
   "cell_type": "code",
   "execution_count": 2,
   "id": "devoted-reading",
   "metadata": {
    "execution": {
     "iopub.execute_input": "2021-05-27T14:57:30.334344Z",
     "iopub.status.busy": "2021-05-27T14:57:30.324923Z",
     "iopub.status.idle": "2021-05-27T14:57:30.966994Z",
     "shell.execute_reply": "2021-05-27T14:57:30.966426Z",
     "shell.execute_reply.started": "2021-05-27T08:49:38.587474Z"
    },
    "papermill": {
     "duration": 0.660902,
     "end_time": "2021-05-27T14:57:30.967141",
     "exception": false,
     "start_time": "2021-05-27T14:57:30.306239",
     "status": "completed"
    },
    "tags": []
   },
   "outputs": [
    {
     "name": "stdout",
     "output_type": "stream",
     "text": [
      "Untarring Kaldi\r\n"
     ]
    }
   ],
   "source": [
    "!echo Untarring Kaldi"
   ]
  },
  {
   "cell_type": "code",
   "execution_count": 3,
   "id": "exclusive-class",
   "metadata": {
    "_cell_guid": "b1076dfc-b9ad-4769-8c92-a6c4dae69d19",
    "_uuid": "8f2839f25d086af736a60e9eeb907d3b93b6e0e5",
    "execution": {
     "iopub.execute_input": "2021-05-27T14:57:31.008112Z",
     "iopub.status.busy": "2021-05-27T14:57:31.004476Z",
     "iopub.status.idle": "2021-05-27T14:58:05.083429Z",
     "shell.execute_reply": "2021-05-27T14:58:05.084850Z",
     "shell.execute_reply.started": "2021-05-27T08:49:41.295876Z"
    },
    "papermill": {
     "duration": 34.101906,
     "end_time": "2021-05-27T14:58:05.085114",
     "exception": false,
     "start_time": "2021-05-27T14:57:30.983208",
     "status": "completed"
    },
    "tags": []
   },
   "outputs": [],
   "source": [
    "%%capture\n",
    "!tar xvf /kaggle/input/extract-prebuilt-kaldi-from-docker/kaldi.tar"
   ]
  },
  {
   "cell_type": "code",
   "execution_count": 4,
   "id": "induced-checklist",
   "metadata": {
    "execution": {
     "iopub.execute_input": "2021-05-27T14:58:05.144583Z",
     "iopub.status.busy": "2021-05-27T14:58:05.143621Z",
     "iopub.status.idle": "2021-05-27T14:58:05.149025Z",
     "shell.execute_reply": "2021-05-27T14:58:05.149969Z",
     "shell.execute_reply.started": "2021-05-27T08:50:19.586455Z"
    },
    "papermill": {
     "duration": 0.039112,
     "end_time": "2021-05-27T14:58:05.150161",
     "exception": false,
     "start_time": "2021-05-27T14:58:05.111049",
     "status": "completed"
    },
    "tags": []
   },
   "outputs": [
    {
     "name": "stdout",
     "output_type": "stream",
     "text": [
      "/opt/kaldi/egs\n"
     ]
    }
   ],
   "source": [
    "%cd kaldi/egs"
   ]
  },
  {
   "cell_type": "code",
   "execution_count": 5,
   "id": "grand-winter",
   "metadata": {
    "execution": {
     "iopub.execute_input": "2021-05-27T14:58:05.212665Z",
     "iopub.status.busy": "2021-05-27T14:58:05.211841Z",
     "iopub.status.idle": "2021-05-27T14:58:09.756215Z",
     "shell.execute_reply": "2021-05-27T14:58:09.755632Z",
     "shell.execute_reply.started": "2021-05-27T08:50:19.595169Z"
    },
    "papermill": {
     "duration": 4.580723,
     "end_time": "2021-05-27T14:58:09.756348",
     "exception": false,
     "start_time": "2021-05-27T14:58:05.175625",
     "status": "completed"
    },
    "tags": []
   },
   "outputs": [
    {
     "name": "stdout",
     "output_type": "stream",
     "text": [
      "Cloning into 'ClarinStudioKaldi'...\r\n",
      "remote: Enumerating objects: 778, done.\u001b[K\r\n",
      "remote: Counting objects: 100% (3/3), done.\u001b[K\r\n",
      "remote: Compressing objects: 100% (3/3), done.\u001b[K\r\n",
      "remote: Total 778 (delta 0), reused 0 (delta 0), pack-reused 775\u001b[K\r\n",
      "Receiving objects: 100% (778/778), 35.26 MiB | 40.75 MiB/s, done.\r\n",
      "Resolving deltas: 100% (262/262), done.\r\n"
     ]
    }
   ],
   "source": [
    "!git clone https://github.com/danijel3/ClarinStudioKaldi"
   ]
  },
  {
   "cell_type": "code",
   "execution_count": 6,
   "id": "fresh-secret",
   "metadata": {
    "execution": {
     "iopub.execute_input": "2021-05-27T14:58:09.796853Z",
     "iopub.status.busy": "2021-05-27T14:58:09.796017Z",
     "iopub.status.idle": "2021-05-27T14:58:09.800961Z",
     "shell.execute_reply": "2021-05-27T14:58:09.800354Z",
     "shell.execute_reply.started": "2021-05-27T08:50:26.782487Z"
    },
    "papermill": {
     "duration": 0.026806,
     "end_time": "2021-05-27T14:58:09.801115",
     "exception": false,
     "start_time": "2021-05-27T14:58:09.774309",
     "status": "completed"
    },
    "tags": []
   },
   "outputs": [
    {
     "name": "stdout",
     "output_type": "stream",
     "text": [
      "/opt/kaldi/egs/ClarinStudioKaldi\n"
     ]
    }
   ],
   "source": [
    "%cd ClarinStudioKaldi"
   ]
  },
  {
   "cell_type": "code",
   "execution_count": 7,
   "id": "wired-bonus",
   "metadata": {
    "execution": {
     "iopub.execute_input": "2021-05-27T14:58:09.841214Z",
     "iopub.status.busy": "2021-05-27T14:58:09.840458Z",
     "iopub.status.idle": "2021-05-27T14:58:10.488360Z",
     "shell.execute_reply": "2021-05-27T14:58:10.487863Z",
     "shell.execute_reply.started": "2021-05-27T08:50:26.794160Z"
    },
    "papermill": {
     "duration": 0.669012,
     "end_time": "2021-05-27T14:58:10.488482",
     "exception": false,
     "start_time": "2021-05-27T14:58:09.819470",
     "status": "completed"
    },
    "tags": []
   },
   "outputs": [
    {
     "name": "stdout",
     "output_type": "stream",
     "text": [
      "getting cudatoolkit 10.0\r\n"
     ]
    }
   ],
   "source": [
    "!echo getting cudatoolkit 10.0"
   ]
  },
  {
   "cell_type": "code",
   "execution_count": 8,
   "id": "common-anaheim",
   "metadata": {
    "execution": {
     "iopub.execute_input": "2021-05-27T14:58:10.533215Z",
     "iopub.status.busy": "2021-05-27T14:58:10.529372Z",
     "iopub.status.idle": "2021-05-27T15:11:34.110053Z",
     "shell.execute_reply": "2021-05-27T15:11:34.109477Z"
    },
    "papermill": {
     "duration": 803.603582,
     "end_time": "2021-05-27T15:11:34.110217",
     "exception": false,
     "start_time": "2021-05-27T14:58:10.506635",
     "status": "completed"
    },
    "tags": []
   },
   "outputs": [
    {
     "name": "stdout",
     "output_type": "stream",
     "text": [
      "Collecting package metadata (current_repodata.json): - \b\b\\ \b\b| \b\b/ \b\b- \b\b\\ \b\b| \b\b/ \b\b- \b\b\\ \b\b| \b\b/ \b\b- \b\b\\ \b\b| \b\b/ \b\b- \b\b\\ \b\b| \b\b/ \b\b- \b\b\\ \b\b| \b\b/ \b\b- \b\b\\ \b\b| \b\b/ \b\b- \b\b\\ \b\b| \b\b/ \b\b- \b\b\\ \b\b| \b\b/ \b\b- \b\b\\ \b\b| \b\b/ \b\b- \b\b\\ \b\b| \b\b/ \b\b- \b\b\\ \b\b| \b\b/ \b\b- \b\b\\ \b\b| \b\b/ \b\b- \b\b\\ \b\b| \b\b/ \b\b- \b\b\\ \b\b| \b\b/ \b\b- \b\b\\ \b\b| \b\b/ \b\b- \b\b\\ \b\b| \b\b/ \b\b- \b\b\\ \b\b| \b\b/ \b\b- \b\b\\ \b\b| \b\b/ \b\b- \b\b\\ \b\b| \b\b/ \b\b- \b\b\\ \b\b| \b\b/ \b\b- \b\b\\ \b\b| \b\b/ \b\b- \b\b\\ \b\b| \b\b/ \b\b- \b\b\\ \b\b| \b\b/ \b\b- \b\b\\ \b\b| \b\b/ \b\b- \b\b\\ \b\b| \b\b/ \b\b- \b\b\\ \b\b| \b\b/ \b\b- \b\b\\ \b\b| \b\b/ \b\b- \b\b\\ \b\b| \b\b/ \b\b- \b\b\\ \b\b| \b\b/ \b\b- \b\b\\ \b\b| \b\b/ \b\b- \b\b\\ \b\b| \b\b/ \b\b- \b\bdone\r\n",
      "Solving environment: | \b\b/ \b\b- \b\b\\ \b\b| \b\b/ \b\b- \b\b\\ \b\b| \b\b/ \b\b- \b\b\\ \b\b| \b\b/ \b\b- \b\b\\ \b\b| \b\b/ \b\b- \b\b\\ \b\b| \b\b/ \b\b- \b\b\\ \b\b| \b\b/ \b\b- \b\b\\ \b\b| \b\b/ \b\b- \b\b\\ \b\b| \b\b/ \b\b- \b\b\\ \b\b| \b\b/ \b\b- \b\b\\ \b\b| \b\b/ \b\b- \b\b\\ \b\b| \b\b/ \b\b- \b\b\\ \b\b| \b\b/ \b\b- \b\b\\ \b\b| \b\b/ \b\b- \b\b\\ \b\b| \b\b/ \b\b- \b\b\\ \b\b| \b\b/ \b\b- \b\b\\ \b\b| \b\b/ \b\b- \b\b\\ \b\b| \b\b/ \b\b- \b\b\\ \b\b| \b\b/ \b\b- \b\b\\ \b\b| \b\b/ \b\b- \b\b\\ \b\b| \b\b/ \b\b- \b\b\\ \b\b| \b\b/ \b\b- \b\b\\ \b\b| \b\b/ \b\b- \b\b\\ \b\b| \b\b/ \b\b- \b\b\\ \b\b| \b\b/ \b\b- \b\b\\ \b\b| \b\b/ \b\b- \b\b\\ \b\b| \b\b/ \b\b- \b\b\\ \b\b| \b\b/ \b\b- \b\b\\ \b\b| \b\b/ \b\b- \b\b\\ \b\b| \b\b/ \b\b- \b\b\\ \b\b| \b\b/ \b\b- \b\b\\ \b\b| \b\b/ \b\b- \b\b\\ \b\b| \b\b/ \b\b- \b\b\\ \b\b| \b\b/ \b\b- \b\b\\ \b\b| \b\b/ \b\b- \b\b\\ \b\b| \b\b/ \b\b- \b\b\\ \b\b| \b\b/ \b\b- \b\b\\ \b\b| \b\b/ \b\b- \b\b\\ \b\b| \b\b/ \b\b- \b\b\\ \b\b| \b\b/ \b\b- \b\b\\ \b\b| \b\b/ \b\b- \b\b\\ \b\b| \b\b/ \b\b- \b\b\\ \b\b| \b\b/ \b\b- \b\b\\ \b\b| \b\b/ \b\b- \b\b\\ \b\b| \b\b/ \b\b- \b\b\\ \b\b| \b\b/ \b\b- \b\b\\ \b\b| \b\b/ \b\b- \b\b\\ \b\b| \b\b/ \b\b- \b\b\\ \b\b| \b\b/ \b\b- \b\b\\ \b\b| \b\b/ \b\b- \b\b\\ \b\b| \b\b/ \b\b- \b\b\\ \b\b| \b\b/ \b\b- \b\b\\ \b\b| \b\b/ \b\b- \b\b\\ \b\b| \b\b/ \b\b- \b\b\\ \b\b| \b\b/ \b\b- \b\b\\ \b\b| \b\b/ \b\b- \b\b\\ \b\b| \b\b/ \b\b- \b\b\\ \b\b| \b\b/ \b\b- \b\b\\ \b\b| \b\b/ \b\b- \b\b\\ \b\b| \b\b/ \b\b- \b\b\\ \b\b| \b\b/ \b\b- \b\b\\ \b\b| \b\b/ \b\b- \b\b\\ \b\b| \b\b/ \b\b- \b\b\\ \b\b| \b\b/ \b\b- \b\b\\ \b\b| \b\b/ \b\b- \b\b\\ \b\b| \b\b/ \b\b- \b\b\\ \b\b| \b\b/ \b\b- \b\b\\ \b\b| \b\b/ \b\b- \b\b\\ \b\b| \b\b/ \b\b- \b\b\\ \b\b| \b\b/ \b\b- \b\b\\ \b\b| \b\b/ \b\b- \b\b\\ \b\b| \b\b/ \b\b- \b\b\\ \b\b| \b\b/ \b\b- \b\b\\ \b\b| \b\b/ \b\b- \b\b\\ \b\b| \b\b/ \b\b- \b\b\\ \b\b| \b\b/ \b\b- \b\b\\ \b\b| \b\b/ \b\b- \b\b\\ \b\b| \b\b/ \b\b- \b\b\\ \b\b| \b\b/ \b\b- \b\b\\ \b\b| \b\b/ \b\b- \b\b\\ \b\b| \b\b/ \b\b- \b\b\\ \b\b| \b\b/ \b\b- \b\b\\ \b\b| \b\b/ \b\b- \b\b\\ \b\b| \b\b/ \b\b- \b\b\\ \b\b| \b\b/ \b\b- \b\b\\ \b\b| \b\b/ \b\b- \b\b\\ \b\b| \b\b/ \b\b- \b\b\\ \b\b| \b\b/ \b\b- \b\b\\ \b\b| \b\b/ \b\b- \b\b\\ \b\b| \b\b/ \b\b- \b\b\\ \b\b| \b\b/ \b\b- \b\b\\ \b\b| \b\b/ \b\b- \b\b\\ \b\b| \b\b/ \b\b- \b\b\\ \b\b| \b\b/ \b\b- \b\b\\ \b\b| \b\b/ \b\b- \b\b\\ \b\b| \b\b/ \b\b- \b\b\\ \b\b| \b\b/ \b\b- \b\b\\ \b\b| \b\b/ \b\b- \b\b\\ \b\b| \b\b/ \b\b- \b\b\\ \b\b| \b\b/ \b\b- \b\b\\ \b\b| \b\b/ \b\b- \b\b\\ \b\b| \b\b/ \b\b- \b\b\\ \b\b| \b\b/ \b\b- \b\b\\ \b\b| \b\b/ \b\b- \b\b\\ \b\b| \b\b/ \b\b- \b\b\\ \b\b| \b\b/ \b\b- \b\b\\ \b\b| \b\b/ \b\b- \b\b\\ \b\b| \b\b/ \b\b- \b\b\\ \b\b| \b\b/ \b\b- \b\b\\ \b\b| \b\b/ \b\b- \b\b\\ \b\b| \b\b/ \b\b- \b\b\\ \b\b| \b\b/ \b\b- \b\b\\ \b\b| \b\b/ \b\b- \b\b\\ \b\b| \b\b/ \b\b- \b\b\\ \b\b| \b\b/ \b\b- \b\b\\ \b\b| \b\b/ \b\b- \b\b\\ \b\b| \b\b/ \b\b- \b\b\\ \b\b| \b\b/ \b\b- \b\b\\ \b\b| \b\b/ \b\b- \b\b\\ \b\b| \b\b/ \b\b- \b\b\\ \b\b| \b\b/ \b\b- \b\b\\ \b\b| \b\b/ \b\b- \b\b\\ \b\b| \b\b/ \b\b- \b\b\\ \b\b| \b\b/ \b\b- \b\b\\ \b\b| \b\b/ \b\b- \b\b\\ \b\b| \b\b/ \b\b- \b\b\\ \b\b| \b\b/ \b\b- \b\b\\ \b\b| \b\b/ \b\b- \b\b\\ \b\b| \b\b/ \b\b- \b\b\\ \b\b| \b\b/ \b\b- \b\b\\ \b\b| \b\b/ \b\b- \b\b\\ \b\b| \b\b/ \b\b- \b\b\\ \b\b| \b\b/ \b\b- \b\b\\ \b\b| \b\b/ \b\b- \b\b\\ \b\b| \b\b/ \b\b- \b\b\\ \b\b| \b\b/ \b\b- \b\b\\ \b\b| \b\b/ \b\b- \b\b\\ \b\b| \b\b/ \b\b- \b\b\\ \b\b| \b\b/ \b\b- \b\b\\ \b\b| \b\b/ \b\b- \b\b\\ \b\b| \b\b/ \b\b- \b\b\\ \b\b| \b\b/ \b\b- \b\b\\ \b\b| \b\b/ \b\b- \b\b\\ \b\b| \b\b/ \b\b- \b\b\\ \b\b| \b\b/ \b\b- \b\b\\ \b\b| \b\b/ \b\b- \b\b\\ \b\b| \b\b/ \b\b- \b\b\\ \b\b| \b\b/ \b\b- \b\b\\ \b\b| \b\b/ \b\b- \b\b\\ \b\b| \b\b/ \b\b- \b\b\\ \b\b| \b\b/ \b\b- \b\b\\ \b\b| \b\b/ \b\b- \b\b\\ \b\b| \b\b/ \b\b- \b\b\\ \b\b| \b\b/ \b\b- \b\b\\ \b\b| \b\b/ \b\b- \b\b\\ \b\b| \b\b/ \b\b- \b\b\\ \b\b| \b\b/ \b\b- \b\b\\ \b\b| \b\b/ \b\b- \b\b\\ \b\b| \b\b/ \b\b- \b\b\\ \b\b| \b\b/ \b\b- \b\b\\ \b\b| \b\b/ \b\b- \b\b\\ \b\b| \b\b/ \b\b- \b\b\\ \b\b| \b\b/ \b\b- \b\b\\ \b\b| \b\b/ \b\b- \b\b\\ \b\b| \b\b/ \b\b- \b\b\\ \b\b| \b\b/ \b\b- \b\b\\ \b\b| \b\b/ \b\b- \b\b\\ \b\b| \b\b/ \b\b- \b\b\\ \b\b| \b\b/ \b\b- \b\b\\ \b\b| \b\b/ \b\b- \b\b\\ \b\b| \b\b/ \b\b- \b\b\\ \b\b| \b\b/ \b\b- \b\b\\ \b\b| \b\b/ \b\b- \b\b\\ \b\b| \b\b/ \b\b- \b\b\\ \b\b| \b\b/ \b\b- \b\b\\ \b\b| \b\b/ \b\b- \b\b\\ \b\b| \b\b/ \b\b- \b\b\\ \b\b| \b\b/ \b\b- \b\b\\ \b\b| \b\b/ \b\b- \b\b\\ \b\b| \b\b/ \b\b- \b\b\\ \b\b| \b\b/ \b\b- \b\b\\ \b\b| \b\b/ \b\b- \b\b\\ \b\b| \b\b/ \b\b- \b\b\\ \b\b| \b\b/ \b\b- \b\b\\ \b\b| \b\b/ \b\b- \b\b\\ \b\b| \b\b/ \b\b- \b\b\\ \b\b| \b\b/ \b\b- \b\b\\ \b\b| \b\b/ \b\b- \b\b\\ \b\b| \b\b/ \b\b- \b\b\\ \b\b| \b\b/ \b\b- \b\b\\ \b\b| \b\b/ \b\b- \b\b\\ \b\b| \b\b/ \b\b- \b\b\\ \b\b| \b\b/ \b\b- \b\b\\ \b\b| \b\b/ \b\b- \b\b\\ \b\b| \b\b/ \b\b- \b\b\\ \b\b| \b\b/ \b\b- \b\b\\ \b\b| \b\b/ \b\b- \b\b\\ \b\b| \b\b/ \b\b- \b\b\\ \b\b| \b\b/ \b\b- \b\b\\ \b\b| \b\b/ \b\b- \b\b\\ \b\b| \b\b/ \b\b- \b\b\\ \b\b| \b\b/ \b\b- \b\b\\ \b\b| \b\b/ \b\b- \b\b\\ \b\b| \b\b/ \b\b- \b\b\\ \b\b| \b\b/ \b\b- \b\b\\ \b\b| \b\b/ \b\b- \b\b\\ \b\b| \b\b/ \b\b- \b\b\\ \b\b| \b\b/ \b\b- \b\b\\ \b\b| \b\b/ \b\b- \b\b\\ \b\b| \b\b/ \b\b- \b\b\\ \b\b| \b\b/ \b\b- \b\b\\ \b\b| \b\b/ \b\b- \b\b\\ \b\b| \b\b/ \b\b- \b\b\\ \b\b| \b\b/ \b\b- \b\b\\ \b\b| \b\b/ \b\b- \b\b\\ \b\b| \b\b/ \b\b- \b\b\\ \b\b| \b\b/ \b\b- \b\b\\ \b\b| \b\b/ \b\b- \b\b\\ \b\b| \b\b/ \b\b- \b\b\\ \b\b| \b\b/ \b\b- \b\b\\ \b\b| \b\b/ \b\b- \b\b\\ \b\b| \b\b/ \b\b- \b\b\\ \b\b| \b\b/ \b\b- \b\b\\ \b\b| \b\b/ \b\b- \b\b\\ \b\b| \b\b/ \b\b- \b\b\\ \b\b| \b\b/ \b\b- \b\b\\ \b\b| \b\b/ \b\b- \b\b\\ \b\b| \b\b/ \b\b- \b\b\\ \b\b| \b\b/ \b\b- \b\b\\ \b\b| \b\b/ \b\b- \b\b\\ \b\b| \b\b/ \b\b- \b\b\\ \b\b| \b\b/ \b\b- \b\b\\ \b\b| \b\b/ \b\b- \b\b\\ \b\b| \b\b/ \b\b- \b\b\\ \b\b| \b\b/ \b\b- \b\b\\ \b\b| \b\b/ \b\b- \b\b\\ \b\b| \b\b/ \b\b- \b\b\\ \b\b| \b\b/ \b\b- \b\b\\ \b\b| \b\b/ \b\b- \b\b\\ \b\b| \b\b/ \b\b- \b\b\\ \b\b| \b\b/ \b\b- \b\b\\ \b\b| \b\b/ \b\b- \b\b\\ \b\b| \b\b/ \b\b- \b\b\\ \b\b| \b\b/ \b\b- \b\b\\ \b\b| \b\b/ \b\b- \b\b\\ \b\b| \b\b/ \b\b- \b\b\\ \b\b| \b\b/ \b\b- \b\b\\ \b\b| \b\b/ \b\b- \b\b\\ \b\b| \b\b/ \b\b- \b\b\\ \b\b| \b\b/ \b\b- \b\b\\ \b\b| \b\b/ \b\b- \b\b\\ \b\b| \b\b/ \b\b- \b\b\\ \b\b| \b\b/ \b\b- \b\b\\ \b\b| \b\b/ \b\b- \b\b\\ \b\b| \b\b/ \b\b- \b\b\\ \b\b| \b\b/ \b\b- \b\b\\ \b\b| \b\b/ \b\b- \b\b\\ \b\b| \b\b/ \b\b- \b\b\\ \b\b| \b\b/ \b\b- \b\b\\ \b\b| \b\b/ \b\b- \b\b\\ \b\b| \b\b/ \b\b- \b\b\\ \b\b| \b\b/ \b\b- \b\b\\ \b\b| \b\b/ \b\b- \b\b\\ \b\b| \b\b/ \b\b- \b\b\\ \b\b| \b\b/ \b\b- \b\b\\ \b\b| \b\b/ \b\b- \b\b\\ \b\b| \b\b/ \b\b- \b\b\\ \b\b| \b\b/ \b\b- \b\b\\ \b\b| \b\b/ \b\b- \b\b\\ \b\b| \b\b/ \b\b- \b\b\\ \b\b| \b\b/ \b\b- \b\b\\ \b\b| \b\b/ \b\b- \b\b\\ \b\b| \b\b/ \b\b- \b\b\\ \b\b| \b\b/ \b\b- \b\b\\ \b\b| \b\b/ \b\b- \b\b\\ \b\b| \b\b/ \b\b- \b\b\\ \b\b| \b\b/ \b\b- \b\b\\ \b\b| \b\b/ \b\b- \b\b\\ \b\b| \b\b/ \b\b- \b\b\\ \b\b| \b\b/ \b\b- \b\b\\ \b\b| \b\b/ \b\b- \b\b\\ \b\b| \b\b/ \b\b- \b\b\\ \b\b| \b\b/ \b\b- \b\b\\ \b\b| \b\b/ \b\b- \b\b\\ \b\b| \b\b/ \b\b- \b\b\\ \b\b| \b\b/ \b\b- \b\b\\ \b\b| \b\b/ \b\b- \b\b\\ \b\b| \b\b/ \b\b- \b\b\\ \b\b| \b\b/ \b\b- \b\b\\ \b\b| \b\b/ \b\b- \b\b\\ \b\b| \b\b/ \b\b- \b\b\\ \b\b| \b\b/ \b\b- \b\b\\ \b\b| \b\b/ \b\b- \b\b\\ \b\b| \b\b/ \b\b- \b\b\\ \b\b| \b\b/ \b\b- \b\b\\ \b\b| \b\b/ \b\b- \b\b\\ \b\b| \b\b/ \b\b- \b\b\\ \b\b| \b\b/ \b\b- \b\b\\ \b\b| \b\b/ \b\b- \b\b\\ \b\b| \b\b/ \b\b- \b\b\\ \b\b| \b\b/ \b\b- \b\b\\ \b\b| \b\b/ \b\b- \b\b\\ \b\b| \b\b/ \b\b- \b\b\\ \b\b| \b\b/ \b\b- \b\b\\ \b\b| \b\b/ \b\b- \b\b\\ \b\b| \b\b/ \b\b- \b\b\\ \b\b| \b\b/ \b\b- \b\b\\ \b\b| \b\b/ \b\b- \b\b\\ \b\b| \b\b/ \b\b- \b\b\\ \b\b| \b\b/ \b\b- \b\b\\ \b\b| \b\b/ \b\b- \b\b\\ \b\b| \b\b/ \b\b- \b\b\\ \b\b| \b\b/ \b\b- \b\b\\ \b\b| \b\b/ \b\b- \b\b\\ \b\b| \b\b/ \b\b- \b\b\\ \b\b| \b\b/ \b\b- \b\b\\ \b\b| \b\b/ \b\b- \b\b\\ \b\b| \b\b/ \b\b- \b\b\\ \b\b| \b\b/ \b\b- \b\b\\ \b\b| \b\b/ \b\b- \b\b\\ \b\b| \b\b/ \b\b- \b\b\\ \b\b| \b\b/ \b\b- \b\b\\ \b\b| \b\b/ \b\b- \b\b\\ \b\b| \b\b/ \b\b- \b\b\\ \b\b| \b\b/ \b\b- \b\b\\ \b\b| \b\b/ \b\b- \b\b\\ \b\b| \b\b/ \b\b- \b\b\\ \b\b| \b\b/ \b\b- \b\b\\ \b\b| \b\b/ \b\b- \b\b\\ \b\b| \b\b/ \b\b- \b\b\\ \b\b| \b\b/ \b\b- \b\b\\ \b\b| \b\b/ \b\b- \b\b\\ \b\b| \b\b/ \b\b- \b\b\\ \b\b| \b\b/ \b\b- \b\b\\ \b\b| \b\b/ \b\b- \b\b\\ \b\b| \b\b/ \b\b- \b\b\\ \b\b| \b\b/ \b\b- \b\b\\ \b\b| \b\b/ \b\b- \b\b\\ \b\b| \b\b/ \b\b- \b\b\\ \b\b| \b\b/ \b\b- \b\b\\ \b\b| \b\b/ \b\b- \b\b\\ \b\b| \b\b/ \b\b- \b\b\\ \b\b| \b\b/ \b\b- \b\b\\ \b\b| \b\b/ \b\b- \b\b\\ \b\b| \b\b/ \b\b- \b\b\\ \b\b| \b\b/ \b\b- \b\b\\ \b\b| \b\b/ \b\b- \b\b\\ \b\b| \b\b/ \b\b- \b\b\\ \b\b| \b\b/ \b\b- \b\b\\ \b\b| \b\b/ \b\b- \b\b\\ \b\b| \b\b/ \b\b- \b\b\\ \b\b| \b\b/ \b\b- \b\b\\ \b\b| \b\b/ \b\b- \b\b\\ \b\b| \b\b/ \b\b- \b\b\\ \b\b| \b\b/ \b\b- \b\b\\ \b\b| \b\b/ \b\b- \b\b\\ \b\b| \b\b/ \b\b- \b\b\\ \b\b| \b\b/ \b\b- \b\b\\ \b\b| \b\b/ \b\b- \b\b\\ \b\b| \b\b/ \b\b- \b\b\\ \b\b| \b\b/ \b\b- \b\b\\ \b\b| \b\b/ \b\b- \b\b\\ \b\b| \b\b/ \b\b- \b\b\\ \b\b| \b\b/ \b\b- \b\b\\ \b\b| \b\b/ \b\b- \b\b\\ \b\b| \b\b/ \b\b- \b\b\\ \b\b| \b\b/ \b\b- \b\b\\ \b\b| \b\b/ \b\b- \b\b\\ \b\b| \b\b/ \b\b- \b\b\\ \b\b| \b\b/ \b\b- \b\b\\ \b\b| \b\b/ \b\b- \b\b\\ \b\b| \b\b/ \b\b- \b\b\\ \b\b| \b\b/ \b\b- \b\b\\ \b\b| \b\b/ \b\b- \b\b\\ \b\b| \b\b/ \b\b- \b\b\\ \b\b| \b\b/ \b\b- \b\b\\ \b\b| \b\b/ \b\b- \b\b\\ \b\b| \b\b/ \b\b- \b\b\\ \b\b| \b\b/ \b\b- \b\b\\ \b\b| \b\b/ \b\b- \b\b\\ \b\b| \b\b/ \b\b- \b\b\\ \b\b| \b\b/ \b\b- \b\b\\ \b\b| \b\b/ \b\b- \b\b\\ \b\b| \b\b/ \b\b- \b\b\\ \b\b| \b\b/ \b\b- \b\b\\ \b\b| \b\b/ \b\b- \b\b\\ \b\b| \b\b/ \b\b- \b\b\\ \b\b| \b\b/ \b\b- \b\b\\ \b\b| \b\b/ \b\b- \b\b\\ \b\b| \b\b/ \b\b- \b\b\\ \b\b| \b\b/ \b\b- \b\b\\ \b\b| \b\b/ \b\b- \b\b\\ \b\b| \b\b/ \b\b- \b\b\\ \b\b| \b\b/ \b\b- \b\b\\ \b\b| \b\b/ \b\b- \b\b\\ \b\b| \b\b/ \b\b- \b\b\\ \b\b| \b\b/ \b\b- \b\b\\ \b\b| \b\b/ \b\b- \b\b\\ \b\b| \b\b/ \b\b- \b\b\\ \b\b| \b\b/ \b\b- \b\b\\ \b\b| \b\b/ \b\b- \b\b\\ \b\b| \b\b/ \b\b- \b\b\\ \b\b| \b\b/ \b\b- \b\b\\ \b\b| \b\b/ \b\b- \b\b\\ \b\b| \b\b/ \b\b- \b\b\\ \b\b| \b\b/ \b\b- \b\b\\ \b\b| \b\b/ \b\b- \b\b\\ \b\b| \b\b/ \b\b- \b\b\\ \b\b| \b\b/ \b\b- \b\b\\ \b\b| \b\b/ \b\b- \b\b\\ \b\b| \b\b/ \b\b- \b\b\\ \b\b| \b\b/ \b\b- \b\b\\ \b\b| \b\b/ \b\b- \b\b\\ \b\b| \b\b/ \b\b- \b\b\\ \b\b| \b\b/ \b\b- \b\b\\ \b\b| \b\b/ \b\b- \b\b\\ \b\b| \b\b/ \b\b- \b\b\\ \b\b| \b\b/ \b\b- \b\b\\ \b\b| \b\b/ \b\b- \b\b\\ \b\b| \b\b/ \b\b- \b\b\\ \b\b| \b\b/ \b\b- \b\b\\ \b\b| \b\b/ \b\b- \b\b\\ \b\b| \b\b/ \b\b- \b\b\\ \b\b| \b\b/ \b\b- \b\b\\ \b\b| \b\b/ \b\b- \b\b\\ \b\b| \b\b/ \b\b- \b\b\\ \b\b| \b\b/ \b\b- \b\b\\ \b\b| \b\b/ \b\b- \b\b\\ \b\b| \b\b/ \b\b- \b\b\\ \b\b| \b\b/ \b\b- \b\b\\ \b\b| \b\b/ \b\b- \b\b\\ \b\b| \b\b/ \b\b- \b\b\\ \b\b| \b\b/ \b\b- \b\b\\ \b\b| \b\b/ \b\b- \b\b\\ \b\b| \b\b/ \b\b- \b\b\\ \b\b| \b\b/ \b\b- \b\b\\ \b\b| \b\b/ \b\b- \b\b\\ \b\b| \b\b/ \b\b- \b\b\\ \b\b| \b\b/ \b\b- \b\b\\ \b\b| \b\b/ \b\b- \b\b\\ \b\b| \b\b/ \b\b- \b\b\\ \b\b| \b\b/ \b\b- \b\b\\ \b\b| \b\b/ \b\b- \b\b\\ \b\b| \b\b/ \b\b- \b\b\\ \b\b| \b\b/ \b\b- \b\b\\ \b\b| \b\b/ \b\b- \b\b\\ \b\b| \b\b/ \b\b- \b\b\\ \b\b| \b\b/ \b\b- \b\b\\ \b\b| \b\b/ \b\b- \b\b\\ \b\b| \b\b/ \b\b- \b\b\\ \b\b| \b\b/ \b\b- \b\b\\ \b\b| \b\b/ \b\b- \b\b\\ \b\b| \b\b/ \b\b- \b\b\\ \b\b| \b\b/ \b\b- \b\b\\ \b\b| \b\b/ \b\b- \b\b\\ \b\b| \b\b/ \b\b- \b\b\\ \b\b| \b\b/ \b\b- \b\b\\ \b\b| \b\b/ \b\b- \b\b\\ \b\b| \b\b/ \b\b- \b\b\\ \b\b| \b\b/ \b\b- \b\b\\ \b\b| \b\b/ \b\b- \b\b\\ \b\b| \b\b/ \b\b- \b\b\\ \b\b| \b\b/ \b\b- \b\b\\ \b\b| \b\b/ \b\b- \b\b\\ \b\b| \b\b/ \b\b- \b\b\\ \b\b| \b\b/ \b\b- \b\b\\ \b\b| \b\b/ \b\b- \b\b\\ \b\b| \b\b/ \b\b- \b\b\\ \b\b| \b\b/ \b\b- \b\b\\ \b\b| \b\b/ \b\b- \b\b\\ \b\b| \b\b/ \b\b- \b\b\\ \b\b| \b\b/ \b\b- \b\b\\ \b\b| \b\b/ \b\b- \b\b\\ \b\b| \b\b/ \b\b- \b\b\\ \b\b| \b\b/ \b\b- \b\b\\ \b\b| \b\b/ \b\b- \b\b\\ \b\b| \b\b/ \b\b- \b\b\\ \b\b| \b\b/ \b\b- \b\b\\ \b\b| \b\b/ \b\b- \b\b\\ \b\b| \b\b/ \b\b- \b\b\\ \b\b| \b\b/ \b\b- \b\b\\ \b\b| \b\b/ \b\b- \b\b\\ \b\b| \b\b/ \b\b- \b\b\\ \b\b| \b\b/ \b\b- \b\b\\ \b\b| \b\b/ \b\b- \b\b\\ \b\b| \b\b/ \b\b- \b\b\\ \b\b| \b\b/ \b\b- \b\b\\ \b\b| \b\b/ \b\b- \b\b\\ \b\b| \b\b/ \b\b- \b\b\\ \b\b| \b\b/ \b\b- \b\b\\ \b\b| \b\b/ \b\b- \b\b\\ \b\b| \b\b/ \b\b- \b\bfailed with initial frozen solve. Retrying with flexible solve.\r\n",
      "Solving environment: | \b\b/ \b\b- \b\b\\ \b\b| \b\b/ \b\b- \b\b\\ \b\b| \b\b/ \b\b- \b\b\\ \b\b| \b\b/ \b\b- \b\b\\ \b\b| \b\b/ \b\b- \b\b\\ \b\b| \b\b/ \b\b- \b\b\\ \b\b| \b\b/ \b\b- \b\b\\ \b\b| \b\b/ \b\b- \b\b\\ \b\b| \b\b/ \b\b- \b\b\\ \b\b| \b\b/ \b\b- \b\b\\ \b\b| \b\b/ \b\b- \b\b\\ \b\b| \b\b/ \b\b- \b\b\\ \b\b| \b\b/ \b\b- \b\b\\ \b\b| \b\b/ \b\b- \b\b\\ \b\b| \b\b/ \b\b- \b\b\\ \b\b| \b\b/ \b\b- \b\b\\ \b\b| \b\b/ \b\b- \b\b\\ \b\b| \b\b/ \b\b- \b\b\\ \b\b| \b\b/ \b\b- \b\b\\ \b\b| \b\b/ \b\b- \b\b\\ \b\b| \b\b/ \b\b- \b\b\\ \b\b| \b\b/ \b\b- \b\b\\ \b\b| \b\b/ \b\b- \b\b\\ \b\b| \b\b/ \b\b- \b\b\\ \b\b| \b\b/ \b\b- \b\b\\ \b\b| \b\b/ \b\b- \b\b\\ \b\b| \b\b/ \b\b- \b\b\\ \b\b| \b\b/ \b\b- \b\b\\ \b\b| \b\b/ \b\b- \b\b\\ \b\b| \b\b/ \b\b- \b\b\\ \b\b| \b\b/ \b\b- \b\b\\ \b\b| \b\b/ \b\b- \b\b\\ \b\b| \b\b/ \b\b- \b\b\\ \b\b| \b\b/ \b\b- \b\b\\ \b\b| \b\b/ \b\b- \b\b\\ \b\b| \b\b/ \b\b- \b\b\\ \b\b| \b\b/ \b\b- \b\b\\ \b\b| \b\b/ \b\b- \b\b\\ \b\b| \b\b/ \b\b- \b\b\\ \b\b| \b\b/ \b\b- \b\b\\ \b\b| \b\b/ \b\b- \b\b\\ \b\b| \b\b/ \b\b- \b\b\\ \b\b| \b\b/ \b\b- \b\b\\ \b\b| \b\b/ \b\b- \b\b\\ \b\b| \b\b/ \b\b- \b\b\\ \b\b| \b\b/ \b\b- \b\b\\ \b\b| \b\b/ \b\b- \b\b\\ \b\b| \b\b/ \b\b- \b\b\\ \b\b| \b\b/ \b\b- \b\b\\ \b\b| \b\b/ \b\b- \b\b\\ \b\b| \b\b/ \b\b- \b\b\\ \b\b| \b\b/ \b\b- \b\b\\ \b\b| \b\b/ \b\b- \b\b\\ \b\b| \b\b/ \b\b- \b\b\\ \b\b| \b\b/ \b\b- \b\b\\ \b\b| \b\b/ \b\b- \b\b\\ \b\b| \b\b/ \b\b- \b\b\\ \b\b| \b\b/ \b\b- \b\b\\ \b\b| \b\b/ \b\b- \b\b\\ \b\b| \b\b/ \b\b- \b\b\\ \b\b| \b\b/ \b\b- \b\b\\ \b\b| \b\b/ \b\b- \b\b\\ \b\b| \b\b/ \b\b- \b\b\\ \b\b| \b\b/ \b\b- \b\b\\ \b\b| \b\b/ \b\b- \b\b\\ \b\b| \b\b/ \b\b- \b\b\\ \b\b| \b\b/ \b\b- \b\b\\ \b\b| \b\b/ \b\b- \b\b\\ \b\b| \b\b/ \b\b- \b\b\\ \b\b| \b\b/ \b\b- \b\b\\ \b\b| \b\b/ \b\b- \b\b\\ \b\b| \b\b/ \b\b- \b\b\\ \b\b| \b\b/ \b\b- \b\b\\ \b\b| \b\b/ \b\b- \b\b\\ \b\b| \b\b/ \b\b- \b\b\\ \b\b| \b\b/ \b\b- \b\b\\ \b\b| \b\b/ \b\b- \b\b\\ \b\b| \b\b/ \b\b- \b\b\\ \b\b| \b\b/ \b\b- \b\b\\ \b\b| \b\b/ \b\b- \b\b\\ \b\b| \b\b/ \b\b- \b\b\\ \b\b| \b\b/ \b\b- \b\b\\ \b\b| \b\b/ \b\b- \b\b\\ \b\b| \b\b/ \b\b- \b\b\\ \b\b| \b\b/ \b\b- \b\b\\ \b\b| \b\b/ \b\b- \b\b\\ \b\b| \b\b/ \b\b- \b\b\\ \b\b| \b\b/ \b\b- \b\b\\ \b\b| \b\b/ \b\b- \b\b\\ \b\b| \b\b/ \b\b- \b\b\\ \b\b| \b\b/ \b\b- \b\b\\ \b\b| \b\b/ \b\b- \b\b\\ \b\b| \b\b/ \b\b- \b\b\\ \b\b| \b\b/ \b\b- \b\b\\ \b\b| \b\b/ \b\b- \b\b\\ \b\b| \b\b/ \b\b- \b\b\\ \b\b| \b\b/ \b\b- \b\b\\ \b\b| \b\b/ \b\b- \b\b\\ \b\b| \b\b/ \b\b- \b\b\\ \b\b| \b\b/ \b\b- \b\b\\ \b\b| \b\b/ \b\b- \b\b\\ \b\b| \b\b/ \b\b- \b\b\\ \b\b| \b\b/ \b\b- \b\b\\ \b\b| \b\b/ \b\b- \b\b\\ \b\b| \b\b/ \b\b- \b\b\\ \b\b| \b\b/ \b\b- \b\b\\ \b\b| \b\b/ \b\b- \b\b\\ \b\b| \b\b/ \b\b- \b\b\\ \b\b| \b\b/ \b\b- \b\b\\ \b\b| \b\b/ \b\b- \b\b\\ \b\b| \b\b/ \b\b- \b\b\\ \b\b| \b\b/ \b\b- \b\b\\ \b\b| \b\b/ \b\b- \b\b\\ \b\b| \b\b/ \b\b- \b\b\\ \b\b| \b\b/ \b\b- \b\b\\ \b\b| \b\b/ \b\b- \b\b\\ \b\b| \b\b/ \b\b- \b\b\\ \b\b| \b\b/ \b\b- \b\b\\ \b\b| \b\b/ \b\b- \b\b\\ \b\b| \b\b/ \b\b- \b\b\\ \b\b| \b\b/ \b\b- \b\b\\ \b\b| \b\b/ \b\b- \b\b\\ \b\b| \b\b/ \b\b- \b\b\\ \b\b| \b\b/ \b\b- \b\b\\ \b\b| \b\b/ \b\b- \b\b\\ \b\b| \b\b/ \b\b- \b\b\\ \b\b| \b\b/ \b\b- \b\b\\ \b\b| \b\b/ \b\b- \b\b\\ \b\b| \b\b/ \b\b- \b\b\\ \b\b| \b\b/ \b\b- \b\b\\ \b\b| \b\b/ \b\b- \b\b\\ \b\b| \b\b/ \b\b- \b\b\\ \b\b| \b\b/ \b\b- \b\b\\ \b\b| \b\b/ \b\b- \b\b\\ \b\b| \b\b/ \b\b- \b\b\\ \b\b| \b\b/ \b\b- \b\b\\ \b\b| \b\b/ \b\b- \b\b\\ \b\b| \b\b/ \b\b- \b\b\\ \b\b| \b\b/ \b\b- \b\b\\ \b\b| \b\b/ \b\b- \b\b\\ \b\b| \b\b/ \b\b- \b\b\\ \b\b| \b\b/ \b\b- \b\b\\ \b\b| \b\b/ \b\b- \b\b\\ \b\b| \b\b/ \b\b- \b\b\\ \b\b| \b\b/ \b\b- \b\b\\ \b\b| \b\b/ \b\b- \b\b\\ \b\b| \b\b/ \b\b- \b\b\\ \b\b| \b\b/ \b\b- \b\b\\ \b\b| \b\b/ \b\b- \b\b\\ \b\b| \b\b/ \b\b- \b\b\\ \b\b| \b\b/ \b\b- \b\b\\ \b\b| \b\b/ \b\b- \b\b\\ \b\b| \b\b/ \b\b- \b\b\\ \b\b| \b\b/ \b\b- \b\b\\ \b\b| \b\b/ \b\b- \b\b\\ \b\b| \b\b/ \b\b- \b\b\\ \b\b| \b\b/ \b\b- \b\b\\ \b\b| \b\b/ \b\b- \b\b\\ \b\b| \b\b/ \b\b- \b\b\\ \b\b| \b\b/ \b\b- \b\b\\ \b\b| \b\b/ \b\b- \b\b\\ \b\b| \b\b/ \b\b- \b\b\\ \b\b| \b\b/ \b\b- \b\b\\ \b\b| \b\b/ \b\b- \b\b\\ \b\b| \b\b/ \b\b- \b\b\\ \b\b| \b\b/ \b\b- \b\b\\ \b\b| \b\b/ \b\b- \b\b\\ \b\b| \b\b/ \b\b- \b\b\\ \b\b| \b\b/ \b\b- \b\b\\ \b\b| \b\b/ \b\b- \b\b\\ \b\b| \b\b/ \b\b- \b\b\\ \b\b| \b\b/ \b\b- \b\b\\ \b\b| \b\b/ \b\b- \b\b\\ \b\b| \b\b/ \b\b- \b\b\\ \b\b| \b\b/ \b\b- \b\b\\ \b\b| \b\b/ \b\b- \b\b\\ \b\b| \b\b/ \b\b- \b\b\\ \b\b| \b\b/ \b\b- \b\b\\ \b\b| \b\b/ \b\b- \b\b\\ \b\b| \b\b/ \b\b- \b\b\\ \b\b| \b\b/ \b\b- \b\b\\ \b\b| \b\b/ \b\b- \b\b\\ \b\b| \b\b/ \b\b- \b\b\\ \b\b| \b\b/ \b\b- \b\b\\ \b\b| \b\b/ \b\b- \b\b\\ \b\b| \b\b/ \b\b- \b\b\\ \b\b| \b\b/ \b\b- \b\b\\ \b\b| \b\b/ \b\b- \b\b\\ \b\b| \b\b/ \b\b- \b\b\\ \b\b| \b\b/ \b\b- \b\b\\ \b\b| \b\b/ \b\b- \b\b\\ \b\b| \b\b/ \b\b- \b\b\\ \b\b| \b\b/ \b\b- \b\b\\ \b\b| \b\b/ \b\b- \b\b\\ \b\b| \b\b/ \b\b- \b\b\\ \b\b| \b\b/ \b\b- \b\b\\ \b\b| \b\b/ \b\b- \b\b\\ \b\b| \b\b/ \b\b- \b\b\\ \b\b| \b\b/ \b\b- \b\b\\ \b\b| \b\b/ \b\b- \b\b\\ \b\b| \b\b/ \b\b- \b\b\\ \b\b| \b\b/ \b\b- \b\b\\ \b\b| \b\b/ \b\b- \b\b\\ \b\b| \b\b/ \b\b- \b\b\\ \b\b| \b\b/ \b\b- \b\b\\ \b\b| \b\b/ \b\b- \b\b\\ \b\b| \b\b/ \b\b- \b\b\\ \b\b| \b\b/ \b\b- \b\b\\ \b\b| \b\b/ \b\b- \b\b\\ \b\b| \b\b/ \b\b- \b\b\\ \b\b| \b\b/ \b\b- \b\b\\ \b\b| \b\b/ \b\b- \b\b\\ \b\b| \b\b/ \b\b- \b\b\\ \b\b| \b\b/ \b\b- \b\b\\ \b\b| \b\b/ \b\b- \b\b\\ \b\b| \b\b/ \b\b- \b\b\\ \b\b| \b\b/ \b\b- \b\b\\ \b\b| \b\b/ \b\b- \b\b\\ \b\b| \b\b/ \b\b- \b\b\\ \b\b| \b\b/ \b\b- \b\b\\ \b\b| \b\b/ \b\b- \b\b\\ \b\b| \b\b/ \b\b- \b\b\\ \b\b| \b\b/ \b\b- \b\b\\ \b\b| \b\b/ \b\b- \b\b\\ \b\b| \b\b/ \b\b- \b\b\\ \b\b| \b\b/ \b\b- \b\b\\ \b\b| \b\b/ \b\b- \b\b\\ \b\b| \b\b/ \b\b- \b\b\\ \b\b| \b\b/ \b\b- \b\b\\ \b\b| \b\b/ \b\b- \b\b\\ \b\b| \b\b/ \b\b- \b\b\\ \b\b| \b\b/ \b\b- \b\b\\ \b\b| \b\b/ \b\b- \b\b\\ \b\b| \b\b/ \b\b- \b\b\\ \b\b| \b\b/ \b\b- \b\b\\ \b\b| \b\b/ \b\b- \b\b\\ \b\b| \b\b/ \b\b- \b\b\\ \b\b| \b\b/ \b\b- \b\b\\ \b\b| \b\b/ \b\b- \b\b\\ \b\b| \b\b/ \b\b- \b\b\\ \b\b| \b\b/ \b\b- \b\b\\ \b\b| \b\b/ \b\b- \b\b\\ \b\b| \b\b/ \b\b- \b\b\\ \b\b| \b\b/ \b\b- \b\b\\ \b\b| \b\b/ \b\b- \b\b\\ \b\b| \b\b/ \b\b- \b\b\\ \b\b| \b\b/ \b\b- \b\b\\ \b\b| \b\b/ \b\b- \b\b\\ \b\b| \b\b/ \b\b- \b\b\\ \b\b| \b\b/ \b\b- \b\b\\ \b\b| \b\b/ \b\b- \b\b\\ \b\b| \b\b/ \b\b- \b\b\\ \b\b| \b\b/ \b\b- \b\b\\ \b\b| \b\b/ \b\b- \b\b\\ \b\b| \b\b/ \b\b- \b\b\\ \b\b| \b\b/ \b\b- \b\b\\ \b\b| \b\b/ \b\b- \b\b\\ \b\b| \b\b/ \b\b- \b\b\\ \b\b| \b\b/ \b\b- \b\b\\ \b\b| \b\b/ \b\b- \b\b\\ \b\b| \b\b/ \b\b- \b\b\\ \b\b| \b\b/ \b\b- \b\b\\ \b\b| \b\b/ \b\b- \b\b\\ \b\b| \b\b/ \b\b- \b\b\\ \b\b| \b\b/ \b\b- \b\b\\ \b\b| \b\b/ \b\b- \b\b\\ \b\b| \b\b/ \b\b- \b\b\\ \b\b| \b\b/ \b\b- \b\b\\ \b\b| \b\b/ \b\b- \b\b\\ \b\b| \b\b/ \b\b- \b\b\\ \b\b| \b\b/ \b\b- \b\b\\ \b\b| \b\b/ \b\b- \b\b\\ \b\b| \b\b/ \b\b- \b\b\\ \b\b| \b\b/ \b\b- \b\b\\ \b\b| \b\b/ \b\b- \b\b\\ \b\b| \b\b/ \b\b- \b\b\\ \b\b| \b\b/ \b\b- \b\b\\ \b\b| \b\b/ \b\b- \b\b\\ \b\b| \b\b/ \b\b- \b\b\\ \b\b| \b\b/ \b\b- \b\b\\ \b\b| \b\b/ \b\b- \b\b\\ \b\b| \b\b/ \b\b- \b\b\\ \b\b| \b\b/ \b\b- \b\b\\ \b\b| \b\b/ \b\b- \b\b\\ \b\b| \b\b/ \b\b- \b\b\\ \b\b| \b\b/ \b\b- \b\b\\ \b\b| \b\b/ \b\b- \b\b\\ \b\b| \b\b/ \b\b- \b\b\\ \b\b| \b\b/ \b\b- \b\b\\ \b\b| \b\b/ \b\b- \b\b\\ \b\b| \b\b/ \b\b- \b\b\\ \b\b| \b\b/ \b\b- \b\b\\ \b\b| \b\b/ \b\b- \b\b\\ \b\b| \b\b/ \b\b- \b\b\\ \b\b| \b\b/ \b\b- \b\b\\ \b\b| \b\b/ \b\b- \b\b\\ \b\b| \b\b/ \b\b- \b\b\\ \b\b| \b\b/ \b\b- \b\b\\ \b\b| \b\b/ \b\b- \b\b\\ \b\b| \b\b/ \b\b- \b\b\\ \b\b| \b\b/ \b\b- \b\b\\ \b\b| \b\b/ \b\b- \b\b\\ \b\b| \b\b/ \b\b- \b\b\\ \b\b| \b\b/ \b\b- \b\b\\ \b\b| \b\b/ \b\b- \b\b\\ \b\b| \b\b/ \b\b- \b\b\\ \b\b| \b\b/ \b\b- \b\b\\ \b\b| \b\b/ \b\b- \b\b\\ \b\b| \b\b/ \b\b- \b\b\\ \b\b| \b\b/ \b\b- \b\b\\ \b\b| \b\b/ \b\b- \b\b\\ \b\b| \b\b/ \b\b- \b\b\\ \b\b| \b\b/ \b\b- \b\b\\ \b\b| \b\b/ \b\b- \b\b\\ \b\b| \b\b/ \b\b- \b\b\\ \b\b| \b\b/ \b\b- \b\b\\ \b\b| \b\b/ \b\b- \b\b\\ \b\b| \b\b/ \b\b- \b\b\\ \b\b| \b\b/ \b\b- \b\b\\ \b\b| \b\b/ \b\b- \b\b\\ \b\b| \b\b/ \b\b- \b\b\\ \b\b| \b\b/ \b\b- \b\b\\ \b\b| \b\b/ \b\b- \b\b\\ \b\b| \b\b/ \b\b- \b\b\\ \b\b| \b\b/ \b\b- \b\b\\ \b\b| \b\b/ \b\b- \b\b\\ \b\b| \b\b/ \b\b- \b\b\\ \b\b| \b\b/ \b\b- \b\b\\ \b\b| \b\b/ \b\b- \b\b\\ \b\b| \b\b/ \b\b- \b\b\\ \b\b| \b\b/ \b\b- \b\b\\ \b\b| \b\b/ \b\b- \b\b\\ \b\b| \b\b/ \b\b- \b\b\\ \b\b| \b\b/ \b\b- \b\b\\ \b\b| \b\b/ \b\b- \b\b\\ \b\b| \b\b/ \b\b- \b\b\\ \b\b| \b\b/ \b\b- \b\b\\ \b\b| \b\b/ \b\b- \b\b\\ \b\b| \b\b/ \b\b- \b\b\\ \b\b| \b\b/ \b\b- \b\b\\ \b\b| \b\b/ \b\b- \b\b\\ \b\b| \b\b/ \b\b- \b\b\\ \b\b| \b\b/ \b\b- \b\b\\ \b\b| \b\b/ \b\b- \b\b\\ \b\b| \b\b/ \b\b- \b\b\\ \b\b| \b\b/ \b\b- \b\b\\ \b\b| \b\b/ \b\b- \b\b\\ \b\b| \b\b/ \b\b- \b\b\\ \b\b| \b\b/ \b\b- \b\b\\ \b\b| \b\b/ \b\b- \b\b\\ \b\b| \b\b/ \b\b- \b\b\\ \b\b| \b\b/ \b\b- \b\b\\ \b\b| \b\b/ \b\b- \b\b\\ \b\b| \b\b/ \b\b- \b\b\\ \b\b| \b\b/ \b\b- \b\b\\ \b\b| \b\b/ \b\b- \b\b\\ \b\b| \b\b/ \b\b- \b\b\\ \b\b| \b\b/ \b\b- \b\b\\ \b\b| \b\b/ \b\b- \b\b\\ \b\b| \b\b/ \b\b- \b\b\\ \b\b| \b\b/ \b\b- \b\b\\ \b\b| \b\b/ \b\b- \b\b\\ \b\b| \b\b/ \b\b- \b\b\\ \b\b| \b\b/ \b\b- \b\b\\ \b\b| \b\b/ \b\b- \b\b\\ \b\b| \b\b/ \b\b- \b\b\\ \b\b| \b\b/ \b\b- \b\b\\ \b\b| \b\b/ \b\b- \b\b\\ \b\b| \b\b/ \b\b- \b\b\\ \b\b| \b\b/ \b\b- \b\b\\ \b\b| \b\b/ \b\b- \b\b\\ \b\b| \b\b/ \b\b- \b\b\\ \b\b| \b\b/ \b\b- \b\b\\ \b\b| \b\b/ \b\b- \b\b\\ \b\b| \b\b/ \b\b- \b\b\\ \b\b| \b\b/ \b\b- \b\b\\ \b\b| \b\b/ \b\b- \b\b\\ \b\b| \b\b/ \b\b- \b\b\\ \b\b| \b\b/ \b\b- \b\b\\ \b\b| \b\b/ \b\b- \b\b\\ \b\b| \b\b/ \b\b- \b\b\\ \b\b| \b\b/ \b\b- \b\b\\ \b\b| \b\b/ \b\b- \b\b\\ \b\b| \b\b/ \b\b- \b\b\\ \b\b| \b\b/ \b\b- \b\b\\ \b\b| \b\b/ \b\b- \b\b\\ \b\b| \b\b/ \b\b- \b\b\\ \b\b| \b\b/ \b\b- \b\b\\ \b\b| \b\b/ \b\b- \b\b\\ \b\b| \b\b/ \b\b- \b\b\\ \b\b| \b\b/ \b\b- \b\b\\ \b\b| \b\b/ \b\b- \b\b\\ \b\b| \b\b/ \b\b- \b\b\\ \b\b| \b\b/ \b\b- \b\b\\ \b\b| \b\b/ \b\b- \b\b\\ \b\b| \b\b/ \b\b- \b\b\\ \b\b| \b\b/ \b\b- \b\b\\ \b\b| \b\b/ \b\b- \b\b\\ \b\b| \b\b/ \b\b- \b\b\\ \b\b| \b\b/ \b\b- \b\b\\ \b\b| \b\b/ \b\b- \b\b\\ \b\b| \b\b/ \b\b- \b\b\\ \b\b| \b\b/ \b\b- \b\b\\ \b\b| \b\b/ \b\b- \b\b\\ \b\b| \b\b/ \b\b- \b\b\\ \b\b| \b\b/ \b\b- \b\b\\ \b\b| \b\b/ \b\b- \b\b\\ \b\b| \b\b/ \b\b- \b\b\\ \b\b| \b\b/ \b\b- \b\b\\ \b\b| \b\b/ \b\b- \b\b\\ \b\b| \b\b/ \b\b- \b\b\\ \b\b| \b\b/ \b\b- \b\b\\ \b\b| \b\b/ \b\b- \b\b\\ \b\b| \b\b/ \b\b- \b\b\\ \b\b| \b\b/ \b\b- \b\b\\ \b\b| \b\b/ \b\b- \b\b\\ \b\b| \b\b/ \b\b- \b\b\\ \b\b| \b\b/ \b\b- \b\b\\ \b\b| \b\b/ \b\b- \b\b\\ \b\b| \b\b/ \b\b- \b\b\\ \b\b| \b\b/ \b\b- \b\b\\ \b\b| \b\b/ \b\b- \b\b\\ \b\b| \b\b/ \b\b- \b\b\\ \b\b| \b\b/ \b\b- \b\b\\ \b\b| \b\b/ \b\b- \b\b\\ \b\b| \b\b/ \b\b- \b\b\\ \b\b| \b\b/ \b\b- \b\b\\ \b\b| \b\b/ \b\b- \b\b\\ \b\b| \b\b/ \b\b- \b\b\\ \b\b| \b\b/ \b\b- \b\b\\ \b\b| \b\b/ \b\b- \b\b\\ \b\b| \b\b/ \b\b- \b\b\\ \b\b| \b\b/ \b\b- \b\b\\ \b\b| \b\b/ \b\b- \b\b\\ \b\b| \b\b/ \b\b- \b\b\\ \b\b| \b\b/ \b\b- \b\b\\ \b\b| \b\b/ \b\b- \b\b\\ \b\b| \b\b/ \b\b- \b\b\\ \b\b| \b\b/ \b\b- \b\b\\ \b\b| \b\b/ \b\b- \b\b\\ \b\b| \b\b/ \b\b- \b\b\\ \b\b| \b\b/ \b\b- \b\b\\ \b\b| \b\b/ \b\b- \b\b\\ \b\b| \b\b/ \b\b- \b\b\\ \b\b| \b\b/ \b\b- \b\b\\ \b\b| \b\b/ \b\b- \b\b\\ \b\b| \b\b/ \b\b- \b\b\\ \b\b| \b\b/ \b\b- \b\b\\ \b\b| \b\b/ \b\b- \b\b\\ \b\b| \b\b/ \b\b- \b\b\\ \b\b| \b\b/ \b\b- \b\b\\ \b\b| \b\b/ \b\b- \b\b\\ \b\b| \b\b/ \b\b- \b\b\\ \b\b| \b\b/ \b\b- \b\b\\ \b\b| \b\b/ \b\b- \b\b\\ \b\b| \b\b/ \b\b- \b\b\\ \b\b| \b\b/ \b\b- \b\b\\ \b\b| \b\b/ \b\b- \b\b\\ \b\b| \b\b/ \b\b- \b\b\\ \b\b| \b\b/ \b\b- \b\b\\ \b\b| \b\b/ \b\b- \b\b\\ \b\b| \b\b/ \b\b- \b\b\\ \b\b| \b\b/ \b\b- \b\b\\ \b\b| \b\b/ \b\b- \b\b\\ \b\b| \b\b/ \b\b- \b\b\\ \b\b| \b\b/ \b\b- \b\b\\ \b\b| \b\b/ \b\b- \b\b\\ \b\b| \b\b/ \b\b- \b\b\\ \b\b| \b\b/ \b\b- \b\b\\ \b\b| \b\b/ \b\b- \b\b\\ \b\b| \b\b/ \b\b- \b\b\\ \b\b| \b\b/ \b\b- \b\b\\ \b\b| \b\b/ \b\b- \b\b\\ \b\b| \b\b/ \b\b- \b\b\\ \b\b| \b\b/ \b\b- \b\b\\ \b\b| \b\b/ \b\b- \b\b\\ \b\b| \b\b/ \b\b- \b\b\\ \b\b| \b\b/ \b\b- \b\b\\ \b\b| \b\b/ \b\b- \b\b\\ \b\b| \b\b/ \b\b- \b\b\\ \b\b| \b\b/ \b\b- \b\b\\ \b\b| \b\b/ \b\b- \b\b\\ \b\b| \b\b/ \b\b- \b\b\\ \b\b| \b\b/ \b\b- \b\b\\ \b\b| \b\b/ \b\b- \b\b\\ \b\b| \b\b/ \b\b- \b\b\\ \b\b| \b\b/ \b\b- \b\b\\ \b\b| \b\b/ \b\b- \b\b\\ \b\b| \b\b/ \b\b- \b\b\\ \b\b| \b\b/ \b\b- \b\b\\ \b\b| \b\b/ \b\b- \b\b\\ \b\b| \b\b/ \b\b- \b\b\\ \b\b| \b\b/ \b\b- \b\b\\ \b\b| \b\b/ \b\b- \b\b\\ \b\b| \b\b/ \b\b- \b\b\\ \b\b| \b\b/ \b\b- \b\b\\ \b\b| \b\b/ \b\b- \b\b\\ \b\b| \b\b/ \b\b- \b\b\\ \b\b| \b\b/ \b\b- \b\b\\ \b\b| \b\b/ \b\b- \b\b\\ \b\b| \b\b/ \b\b- \b\b\\ \b\b| \b\b/ \b\b- \b\b\\ \b\b| \b\b/ \b\b- \b\b\\ \b\b| \b\b/ \b\b- \b\b\\ \b\b| \b\b/ \b\b- \b\b\\ \b\b| \b\b/ \b\b- \b\b\\ \b\b| \b\b/ \b\b- \b\b\\ \b\b| \b\b/ \b\b- \b\b\\ \b\b| \b\b/ \b\b- \b\b\\ \b\b| \b\b/ \b\b- \b\b\\ \b\b| \b\b/ \b\b- \b\b\\ \b\b| \b\b/ \b\b- \b\b\\ \b\b| \b\b/ \b\b- \b\b\\ \b\b| \b\b/ \b\b- \b\b\\ \b\b| \b\b/ \b\b- \b\b\\ \b\b| \b\b/ \b\b- \b\b\\ \b\b| \b\b/ \b\b- \b\b\\ \b\b| \b\b/ \b\b- \b\b\\ \b\b| \b\b/ \b\b- \b\b\\ \b\b| \b\b/ \b\b- \b\b\\ \b\b| \b\b/ \b\b- \b\b\\ \b\b| \b\b/ \b\b- \b\b\\ \b\b| \b\b/ \b\b- \b\b\\ \b\b| \b\b/ \b\b- \b\b\\ \b\b| \b\b/ \b\b- \b\b\\ \b\b| \b\b/ \b\b- \b\b\\ \b\b| \b\b/ \b\b- \b\b\\ \b\b| \b\b/ \b\b- \b\b\\ \b\b| \b\b/ \b\b- \b\b\\ \b\b| \b\b/ \b\b- \b\b\\ \b\b| \b\b/ \b\b- \b\b\\ \b\b| \b\b/ \b\b- \b\b\\ \b\b| \b\b/ \b\b- \b\b\\ \b\b| \b\b/ \b\b- \b\b\\ \b\b| \b\b/ \b\b- \b\b\\ \b\b| \b\b/ \b\b- \b\b\\ \b\b| \b\b/ \b\b- \b\b\\ \b\b| \b\b/ \b\b- \b\b\\ \b\b| \b\b/ \b\b- \b\b\\ \b\b| \b\b/ \b\b- \b\b\\ \b\b| \b\b/ \b\b- \b\b\\ \b\b| \b\b/ \b\b- \b\b\\ \b\b| \b\b/ \b\b- \b\b\\ \b\b| \b\b/ \b\b- \b\b\\ \b\b| \b\b/ \b\b- \b\b\\ \b\b| \b\b/ \b\b- \b\b\\ \b\b| \b\b/ \b\b- \b\b\\ \b\b| \b\b/ \b\b- \b\b\\ \b\b| \b\b/ \b\b- \b\b\\ \b\b| \b\b/ \b\b- \b\b\\ \b\b| \b\b/ \b\b- \b\b\\ \b\b| \b\b/ \b\b- \b\b\\ \b\b| \b\b/ \b\b- \b\b\\ \b\b| \b\b/ \b\b- \b\b\\ \b\b| \b\b/ \b\b- \b\b\\ \b\b| \b\b/ \b\b- \b\b\\ \b\b| \b\b/ \b\b- \b\b\\ \b\b| \b\b/ \b\b- \b\b\\ \b\b| \b\b/ \b\b- \b\b\\ \b\b| \b\b/ \b\b- \b\b\\ \b\b| \b\b/ \b\b- \b\b\\ \b\b| \b\b/ \b\b- \b\b\\ \b\b| \b\b/ \b\b- \b\b\\ \b\b| \b\b/ \b\b- \b\b\\ \b\b| \b\b/ \b\b- \b\b\\ \b\b| \b\b/ \b\b- \b\b\\ \b\b| \b\b/ \b\b- \b\b\\ \b\b| \b\b/ \b\b- \b\b\\ \b\b| \b\b/ \b\b- \b\b\\ \b\b| \b\b/ \b\b- \b\b\\ \b\b| \b\b/ \b\b- \b\b\\ \b\b| \b\b/ \b\b- \b\b\\ \b\b| \b\b/ \b\b- \b\b\\ \b\b| \b\b/ \b\b- \b\b\\ \b\b| \b\b/ \b\b- \b\b\\ \b\b| \b\b/ \b\b- \b\b\\ \b\b| \b\b/ \b\b- \b\b\\ \b\b| \b\b/ \b\b- \b\b\\ \b\b| \b\b/ \b\b- \b\b\\ \b\b| \b\b/ \b\b- \b\b\\ \b\b| \b\b/ \b\b- \b\b\\ \b\b| \b\b/ \b\b- \b\b\\ \b\b| \b\b/ \b\b- \b\b\\ \b\b| \b\b/ \b\b- \b\b\\ \b\b| \b\b/ \b\b- \b\b\\ \b\b| \b\b/ \b\b- \b\b\\ \b\b| \b\b/ \b\b- \b\b\\ \b\b| \b\b/ \b\b- \b\b\\ \b\b| \b\b/ \b\b- \b\b\\ \b\b| \b\b/ \b\b- \b\b\\ \b\b| \b\b/ \b\b- \b\b\\ \b\b| \b\b/ \b\b- \b\b\\ \b\b| \b\b/ \b\b- \b\b\\ \b\b| \b\b/ \b\b- \b\b\\ \b\b| \b\b/ \b\b- \b\b\\ \b\b| \b\b/ \b\b- \b\b\\ \b\b| \b\b/ \b\b- \b\b\\ \b\b| \b\b/ \b\b- \b\b\\ \b\b| \b\b/ \b\b- \b\b\\ \b\b| \b\b/ \b\b- \b\b\\ \b\b| \b\b/ \b\b- \b\b\\ \b\b| \b\b/ \b\b- \b\b\\ \b\b| \b\b/ \b\b- \b\b\\ \b\b| \b\b/ \b\b- \b\b\\ \b\b| \b\b/ \b\b- \b\b\\ \b\b| \b\b/ \b\b- \b\b\\ \b\b| \b\b/ \b\b- \b\b\\ \b\b| \b\b/ \b\b- \b\b\\ \b\b| \b\b/ \b\b- \b\b\\ \b\b| \b\b/ \b\b- \b\b\\ \b\b| \b\b/ \b\b- \b\b\\ \b\b| \b\b/ \b\b- \b\b\\ \b\b| \b\b/ \b\b- \b\b\\ \b\b| \b\b/ \b\b- \b\b\\ \b\b| \b\b/ \b\b- \b\b\\ \b\b| \b\b/ \b\b- \b\b\\ \b\b| \b\b/ \b\b- \b\b\\ \b\b| \b\b/ \b\b- \b\b\\ \b\b| \b\b/ \b\b- \b\b\\ \b\b| \b\b/ \b\b- \b\b\\ \b\b| \b\b/ \b\b- \b\b\\ \b\b| \b\b/ \b\b- \b\b\\ \b\b| \b\b/ \b\b- \b\b\\ \b\b| \b\b/ \b\b- \b\b\\ \b\b| \b\b/ \b\b- \b\b\\ \b\b| \b\b/ \b\b- \b\b\\ \b\b| \b\b/ \b\b- \b\b\\ \b\b| \b\b/ \b\b- \b\b\\ \b\b| \b\b/ \b\b- \b\b\\ \b\b| \b\b/ \b\b- \b\b\\ \b\b| \b\b/ \b\b- \b\b\\ \b\b| \b\b/ \b\b- \b\b\\ \b\b| \b\b/ \b\b- \b\b\\ \b\b| \b\b/ \b\b- \b\b\\ \b\b| \b\b/ \b\b- \b\b\\ \b\b| \b\b/ \b\b- \b\b\\ \b\b| \b\b/ \b\b- \b\b\\ \b\b| \b\b/ \b\b- \b\b\\ \b\b| \b\b/ \b\b- \b\b\\ \b\b| \b\b/ \b\b- \b\b\\ \b\b| \b\b/ \b\b- \b\b\\ \b\b| \b\b/ \b\b- \b\b\\ \b\b| \b\b/ \b\b- \b\b\\ \b\b| \b\b/ \b\b- \b\b\\ \b\b| \b\b/ \b\b- \b\b\\ \b\b| \b\b/ \b\b- \b\b\\ \b\b| \b\b/ \b\b- \b\b\\ \b\b| \b\b/ \b\b- \b\b\\ \b\b| \b\b/ \b\b- \b\b\\ \b\b| \b\b/ \b\b- \b\b\\ \b\b| \b\b/ \b\b- \b\b\\ \b\b| \b\b/ \b\b- \b\b\\ \b\b| \b\b/ \b\b- \b\b\\ \b\b| \b\b/ \b\b- \b\b\\ \b\b| \b\b/ \b\b- \b\b\\ \b\b| \b\b/ \b\b- \b\b\\ \b\b| \b\b/ \b\b- \b\b\\ \b\b| \b\b/ \b\b- \b\b\\ \b\b| \b\b/ \b\b- \b\b\\ \b\b| \b\b/ \b\b- \b\b\\ \b\b| \b\b/ \b\b- \b\b\\ \b\b| \b\b/ \b\b- \b\b\\ \b\b| \b\b/ \b\b- \b\b\\ \b\b| \b\b/ \b\b- \b\b\\ \b\b| \b\b/ \b\b- \b\b\\ \b\b| \b\b/ \b\b- \b\b\\ \b\b| \b\b/ \b\b- \b\b\\ \b\b| \b\b/ \b\b- \b\b\\ \b\b| \b\b/ \b\b- \b\b\\ \b\b| \b\b/ \b\b- \b\b\\ \b\b| \b\b/ \b\b- \b\b\\ \b\b| \b\b/ \b\b- \b\b\\ \b\b| \b\b/ \b\b- \b\b\\ \b\b| \b\b/ \b\b- \b\b\\ \b\b| \b\b/ \b\b- \b\b\\ \b\b| \b\b/ \b\b- \b\b\\ \b\b| \b\b/ \b\b- \b\b\\ \b\b| \b\b/ \b\b- \b\b\\ \b\b| \b\b/ \b\b- \b\b\\ \b\b| \b\b/ \b\b- \b\b\\ \b\b| \b\b/ \b\b- \b\b\\ \b\b| \b\b/ \b\b- \b\b\\ \b\b| \b\b/ \b\b- \b\b\\ \b\b| \b\b/ \b\b- \b\b\\ \b\b| \b\b/ \b\b- \b\b\\ \b\b| \b\b/ \b\b- \b\b\\ \b\b| \b\b/ \b\b- \b\b\\ \b\b| \b\b/ \b\b- \b\b\\ \b\b| \b\b/ \b\b- \b\b\\ \b\b| \b\b/ \b\b- \b\b\\ \b\b| \b\b/ \b\b- \b\b\\ \b\b| \b\b/ \b\b- \b\b\\ \b\b| \b\b/ \b\b- \b\b\\ \b\b| \b\b/ \b\b- \b\b\\ \b\b| \b\b/ \b\b- \b\b\\ \b\b| \b\b/ \b\b- \b\b\\ \b\b| \b\b/ \b\b- \b\b\\ \b\b| \b\b/ \b\b- \b\b\\ \b\b| \b\b/ \b\b- \b\b\\ \b\b| \b\b/ \b\b- \b\b\\ \b\b| \b\b/ \b\b- \b\b\\ \b\b| \b\b/ \b\b- \b\b\\ \b\b| \b\b/ \b\b- \b\b\\ \b\b| \b\b/ \b\b- \b\b\\ \b\b| \b\b/ \b\b- \b\b\\ \b\b| \b\b/ \b\b- \b\b\\ \b\b| \b\b/ \b\b- \b\b\\ \b\b| \b\b/ \b\b- \b\b\\ \b\b| \b\b/ \b\b- \b\b\\ \b\b| \b\b/ \b\b- \b\b\\ \b\b| \b\b/ \b\b- \b\b\\ \b\b| \b\b/ \b\b- \b\b\\ \b\b| \b\b/ \b\b- \b\b\\ \b\b| \b\b/ \b\b- \b\b\\ \b\b| \b\b/ \b\b- \b\b\\ \b\b| \b\b/ \b\b- \b\b\\ \b\b| \b\b/ \b\b- \b\b\\ \b\b| \b\b/ \b\b- \b\b\\ \b\b| \b\b/ \b\b- \b\b\\ \b\b| \b\b/ \b\b- \b\b\\ \b\b| \b\b/ \b\b- \b\b\\ \b\b| \b\b/ \b\b- \b\b\\ \b\b| \b\b/ \b\b- \b\b\\ \b\b| \b\b/ \b\b- \b\b\\ \b\b| \b\b/ \b\b- \b\b\\ \b\b| \b\b/ \b\b- \b\b\\ \b\b| \b\b/ \b\b- \b\b\\ \b\b| \b\b/ \b\b- \b\b\\ \b\b| \b\b/ \b\b- \b\b\\ \b\b| \b\b/ \b\b- \b\b\\ \b\b| \b\b/ \b\b- \b\b\\ \b\b| \b\b/ \b\b- \b\b\\ \b\b| \b\b/ \b\b- \b\b\\ \b\b| \b\b/ \b\b- \b\b\\ \b\b| \b\b/ \b\b- \b\b\\ \b\b| \b\b/ \b\b- \b\b\\ \b\b| \b\b/ \b\b- \b\b\\ \b\b| \b\b/ \b\b- \b\b\\ \b\b| \b\b/ \b\b- \b\b\\ \b\b| \b\b/ \b\b- \b\b\\ \b\b| \b\b/ \b\b- \b\b\\ \b\b| \b\b/ \b\b- \b\b\\ \b\b| \b\b/ \b\b- \b\b\\ \b\b| \b\b/ \b\b- \b\b\\ \b\b| \b\b/ \b\b- \b\b\\ \b\b| \b\b/ \b\b- \b\b\\ \b\b| \b\b/ \b\b- \b\b\\ \b\b| \b\b/ \b\b- \b\b\\ \b\b| \b\b/ \b\b- \b\b\\ \b\b| \b\b/ \b\b- \b\b\\ \b\b| \b\b/ \b\b- \b\b\\ \b\b| \b\b/ \b\b- \b\b\\ \b\b| \b\b/ \b\b- \b\b\\ \b\b| \b\b/ \b\b- \b\b\\ \b\b| \b\b/ \b\b- \b\b\\ \b\b| \b\b/ \b\b- \b\b\\ \b\b| \b\b/ \b\b- \b\b\\ \b\b| \b\b/ \b\b- \b\b\\ \b\b| \b\b/ \b\b- \b\b\\ \b\b| \b\b/ \b\b- \b\b\\ \b\b| \b\b/ \b\b- \b\b\\ \b\b| \b\b/ \b\b- \b\b\\ \b\b| \b\b/ \b\b- \b\b\\ \b\b| \b\b/ \b\b- \b\b\\ \b\b| \b\b/ \b\b- \b\b\\ \b\b| \b\b/ \b\b- \b\b\\ \b\b| \b\b/ \b\b- \b\b\\ \b\b| \b\b/ \b\b- \b\b\\ \b\b| \b\b/ \b\b- \b\b\\ \b\b| \b\b/ \b\b- \b\b\\ \b\b| \b\b/ \b\b- \b\b\\ \b\b| \b\b/ \b\b- \b\b\\ \b\b| \b\b/ \b\b- \b\b\\ \b\b| \b\b/ \b\b- \b\b\\ \b\b| \b\b/ \b\b- \b\b\\ \b\b| \b\b/ \b\b- \b\b\\ \b\b| \b\b/ \b\b- \b\b\\ \b\b| \b\b/ \b\b- \b\b\\ \b\b| \b\b/ \b\b- \b\b\\ \b\b| \b\b/ \b\b- \b\b\\ \b\b| \b\b/ \b\b- \b\b\\ \b\b| \b\b/ \b\b- \b\b\\ \b\b| \b\b/ \b\b- \b\b\\ \b\b| \b\b/ \b\b- \b\b\\ \b\b| \b\b/ \b\b- \b\b\\ \b\b| \b\b/ \b\b- \b\b\\ \b\b| \b\b/ \b\b- \b\b\\ \b\b| \b\b/ \b\b- \b\b\\ \b\b| \b\b/ \b\b- \b\b\\ \b\b| \b\b/ \b\b- \b\b\\ \b\b| \b\b/ \b\b- \b\b\\ \b\b| \b\b/ \b\b- \b\b\\ \b\b| \b\b/ \b\b- \b\b\\ \b\b| \b\b/ \b\b- \b\b\\ \b\b| \b\b/ \b\b- \b\b\\ \b\b| \b\b/ \b\b- \b\b\\ \b\b| \b\b/ \b\b- \b\b\\ \b\b| \b\b/ \b\b- \b\b\\ \b\b| \b\b/ \b\b- \b\b\\ \b\b| \b\b/ \b\b- \b\b\\ \b\b| \b\b/ \b\b- \b\b\\ \b\b| \b\b/ \b\b- \b\b\\ \b\b| \b\b/ \b\b- \b\b\\ \b\b| \b\b/ \b\b- \b\b\\ \b\b| \b\b/ \b\b- \b\b\\ \b\b| \b\b/ \b\b- \b\b\\ \b\b| \b\b/ \b\b- \b\b\\ \b\b| \b\b/ \b\b- \b\b\\ \b\bfailed with repodata from current_repodata.json, will retry with next repodata source.\r\n",
      "Collecting package metadata (repodata.json): / \b\b- \b\b\\ \b\b| \b\b/ \b\b- \b\b\\ \b\b| \b\b/ \b\b- \b\b\\ \b\b| \b\b/ \b\b- \b\b\\ \b\b| \b\b/ \b\b- \b\b\\ \b\b| \b\b/ \b\b- \b\b\\ \b\b| \b\b/ \b\b- \b\b\\ \b\b| \b\b/ \b\b- \b\b\\ \b\b| \b\b/ \b\b- \b\b\\ \b\b| \b\b/ \b\b- \b\b\\ \b\b| \b\b/ \b\b- \b\b\\ \b\b| \b\b/ \b\b- \b\b\\ \b\b| \b\b/ \b\b- \b\b\\ \b\b| \b\b/ \b\b- \b\b\\ \b\b| \b\b/ \b\b- \b\b\\ \b\b| \b\b/ \b\b- \b\b\\ \b\b| \b\b/ \b\b- \b\b\\ \b\b| \b\b/ \b\b- \b\b\\ \b\b| \b\b/ \b\b- \b\b\\ \b\b| \b\b/ \b\b- \b\b\\ \b\b| \b\b/ \b\b- \b\b\\ \b\b| \b\b/ \b\b- \b\b\\ \b\b| \b\b/ \b\b- \b\b\\ \b\b| \b\b/ \b\b- \b\b\\ \b\b| \b\b/ \b\b- \b\b\\ \b\b| \b\b/ \b\b- \b\b\\ \b\b| \b\b/ \b\b- \b\b\\ \b\b| \b\b/ \b\b- \b\b\\ \b\b| \b\b/ \b\b- \b\b\\ \b\b| \b\b/ \b\b- \b\b\\ \b\b| \b\b/ \b\b- \b\b\\ \b\b| \b\b/ \b\b- \b\b\\ \b\b| \b\b/ \b\b- \b\b\\ \b\b| \b\b/ \b\b- \b\b\\ \b\b| \b\b/ \b\b- \b\b\\ \b\b| \b\b/ \b\b- \b\b\\ \b\b| \b\b/ \b\b- \b\b\\ \b\b| \b\b/ \b\b- \b\b\\ \b\b| \b\b/ \b\b- \b\b\\ \b\b| \b\b/ \b\b- \b\b\\ \b\b| \b\b/ \b\b- \b\b\\ \b\b| \b\b/ \b\b- \b\b\\ \b\b| \b\b/ \b\b- \b\b\\ \b\b| \b\b/ \b\b- \b\b\\ \b\b| \b\b/ \b\b- \b\b\\ \b\b| \b\b/ \b\b- \b\b\\ \b\b| \b\b/ \b\b- \b\b\\ \b\b| \b\b/ \b\b- \b\b\\ \b\b| \b\b/ \b\b- \b\b\\ \b\b| \b\b/ \b\b- \b\b\\ \b\b| \b\b/ \b\b- \b\b\\ \b\b| \b\b/ \b\b- \b\b\\ \b\b| \b\b/ \b\b- \b\b\\ \b\b| \b\b/ \b\b- \b\b\\ \b\b| \b\b/ \b\b- \b\b\\ \b\b| \b\b/ \b\b- \b\b\\ \b\b| \b\b/ \b\b- \b\b\\ \b\b| \b\b/ \b\b- \b\b\\ \b\b| \b\b/ \b\b- \b\b\\ \b\b| \b\b/ \b\b- \b\b\\ \b\b| \b\b/ \b\b- \b\b\\ \b\b| \b\b/ \b\b- \b\b\\ \b\b| \b\b/ \b\b- \b\b\\ \b\b| \b\b/ \b\b- \b\b\\ \b\b| \b\b/ \b\b- \b\b\\ \b\b| \b\b/ \b\b- \b\b\\ \b\b| \b\b/ \b\b- \b\b\\ \b\b| \b\b/ \b\b- \b\b\\ \b\b| \b\b/ \b\b- \b\b\\ \b\b| \b\b/ \b\b- \b\b\\ \b\b| \b\b/ \b\b- \b\b\\ \b\b| \b\b/ \b\b- \b\b\\ \b\b| \b\b/ \b\b- \b\b\\ \b\b| \b\b/ \b\b- \b\b\\ \b\b| \b\b/ \b\b- \b\b\\ \b\b| \b\b/ \b\b- \b\b\\ \b\b| \b\b/ \b\b- \b\b\\ \b\b| \b\b/ \b\b- \b\b\\ \b\b| \b\b/ \b\b- \b\b\\ \b\b| \b\b/ \b\b- \b\b\\ \b\b| \b\b/ \b\b- \b\b\\ \b\b| \b\b/ \b\b- \b\b\\ \b\b| \b\b/ \b\b- \b\b\\ \b\b| \b\b/ \b\b- \b\b\\ \b\b| \b\b/ \b\b- \b\b\\ \b\b| \b\b/ \b\b- \b\b\\ \b\b| \b\b/ \b\b- \b\b\\ \b\b| \b\b/ \b\b- \b\b\\ \b\b| \b\b/ \b\b- \b\b\\ \b\b| \b\b/ \b\b- \b\b\\ \b\b| \b\b/ \b\b- \b\b\\ \b\b| \b\b/ \b\b- \b\b\\ \b\b| \b\b/ \b\b- \b\b\\ \b\b| \b\b/ \b\b- \b\b\\ \b\b| \b\b/ \b\b- \b\b\\ \b\b| \b\b/ \b\b- \b\b\\ \b\b| \b\b/ \b\b- \b\b\\ \b\b| \b\b/ \b\b- \b\b\\ \b\b| \b\b/ \b\b- \b\b\\ \b\b| \b\b/ \b\b- \b\bdone\r\n",
      "Solving environment: | \b\b/ \b\b- \b\b\\ \b\b| \b\b/ \b\b- \b\b\\ \b\b| \b\b/ \b\b- \b\b\\ \b\b| \b\b/ \b\b- \b\b\\ \b\b| \b\b/ \b\b- \b\b\\ \b\b| \b\b/ \b\b- \b\b\\ \b\b| \b\b/ \b\b- \b\b\\ \b\b| \b\b/ \b\b- \b\b\\ \b\b| \b\b/ \b\b- \b\b\\ \b\b| \b\b/ \b\b- \b\b\\ \b\b| \b\b/ \b\b- \b\b\\ \b\b| \b\b/ \b\b- \b\b\\ \b\b| \b\b/ \b\b- \b\b\\ \b\b| \b\b/ \b\b- \b\b\\ \b\b| \b\b/ \b\b- \b\b\\ \b\b| \b\b/ \b\b- \b\b\\ \b\b| \b\b/ \b\b- \b\b\\ \b\b| \b\b/ \b\b- \b\b\\ \b\b| \b\b/ \b\b- \b\b\\ \b\b| \b\b/ \b\b- \b\b\\ \b\b| \b\b/ \b\b- \b\b\\ \b\b| \b\b/ \b\b- \b\b\\ \b\b| \b\b/ \b\b- \b\b\\ \b\b| \b\b/ \b\b- \b\b\\ \b\b| \b\b/ \b\b- \b\b\\ \b\b| \b\b/ \b\b- \b\b\\ \b\b| \b\b/ \b\b- \b\b\\ \b\b| \b\b/ \b\b- \b\b\\ \b\b| \b\b/ \b\b- \b\b\\ \b\b| \b\b/ \b\b- \b\b\\ \b\b| \b\b/ \b\b- \b\b\\ \b\b| \b\b/ \b\b- \b\b\\ \b\b| \b\b/ \b\b- \b\b\\ \b\b| \b\b/ \b\b- \b\b\\ \b\b| \b\b/ \b\b- \b\b\\ \b\b| \b\b/ \b\b- \b\b\\ \b\b| \b\b/ \b\b- \b\b\\ \b\b| \b\b/ \b\b- \b\b\\ \b\b| \b\b/ \b\b- \b\b\\ \b\b| \b\b/ \b\b- \b\b\\ \b\b| \b\b/ \b\b- \b\b\\ \b\b| \b\b/ \b\b- \b\b\\ \b\b| \b\b/ \b\b- \b\b\\ \b\b| \b\b/ \b\b- \b\b\\ \b\b| \b\b/ \b\b- \b\b\\ \b\b| \b\b/ \b\b- \b\b\\ \b\b| \b\b/ \b\b- \b\b\\ \b\b| \b\b/ \b\b- \b\b\\ \b\b| \b\b/ \b\b- \b\b\\ \b\b| \b\b/ \b\b- \b\b\\ \b\b| \b\b/ \b\b- \b\b\\ \b\b| \b\b/ \b\b- \b\b\\ \b\b| \b\b/ \b\b- \b\b\\ \b\b| \b\b/ \b\b- \b\b\\ \b\b| \b\b/ \b\b- \b\b\\ \b\b| \b\b/ \b\b- \b\b\\ \b\b| \b\b/ \b\b- \b\b\\ \b\b| \b\b/ \b\b- \b\b\\ \b\b| \b\b/ \b\b- \b\b\\ \b\b| \b\b/ \b\b- \b\b\\ \b\b| \b\b/ \b\b- \b\b\\ \b\b| \b\b/ \b\b- \b\b\\ \b\b| \b\b/ \b\b- \b\b\\ \b\b| \b\b/ \b\b- \b\b\\ \b\b| \b\b/ \b\b- \b\b\\ \b\b| \b\b/ \b\b- \b\b\\ \b\b| \b\b/ \b\b- \b\b\\ \b\b| \b\b/ \b\b- \b\b\\ \b\b| \b\b/ \b\b- \b\b\\ \b\b| \b\b/ \b\b- \b\b\\ \b\b| \b\b/ \b\b- \b\b\\ \b\b| \b\b/ \b\b- \b\b\\ \b\b| \b\b/ \b\b- \b\b\\ \b\b| \b\b/ \b\b- \b\b\\ \b\b| \b\b/ \b\b- \b\b\\ \b\b| \b\b/ \b\b- \b\b\\ \b\b| \b\b/ \b\b- \b\b\\ \b\b| \b\b/ \b\b- \b\b\\ \b\b| \b\b/ \b\b- \b\b\\ \b\b| \b\b/ \b\b- \b\b\\ \b\b| \b\bdone\r\n",
      "\r\n",
      "## Package Plan ##\r\n",
      "\r\n",
      "  environment location: /opt/conda\r\n",
      "\r\n",
      "  added / updated specs:\r\n",
      "    - mamba\r\n",
      "\r\n",
      "\r\n",
      "The following packages will be downloaded:\r\n",
      "\r\n",
      "    package                    |            build\r\n",
      "    ---------------------------|-----------------\r\n",
      "    libarchive-3.5.1           |       h3f442fb_1         1.6 MB  conda-forge\r\n",
      "    libsolv-0.7.18             |       h780b84a_0         439 KB  conda-forge\r\n",
      "    lzo-2.10                   |    h516909a_1000         314 KB  conda-forge\r\n",
      "    mamba-0.9.1                |   py37h7f483ca_0         648 KB  conda-forge\r\n",
      "    reproc-14.2.1              |       h36c2ea0_0          28 KB  conda-forge\r\n",
      "    reproc-cpp-14.2.1          |       h58526e2_0          20 KB  conda-forge\r\n",
      "    ------------------------------------------------------------\r\n",
      "                                           Total:         3.0 MB\r\n",
      "\r\n",
      "The following NEW packages will be INSTALLED:\r\n",
      "\r\n",
      "  libarchive         conda-forge/linux-64::libarchive-3.5.1-h3f442fb_1\r\n",
      "  libsolv            conda-forge/linux-64::libsolv-0.7.18-h780b84a_0\r\n",
      "  lzo                conda-forge/linux-64::lzo-2.10-h516909a_1000\r\n",
      "  mamba              conda-forge/linux-64::mamba-0.9.1-py37h7f483ca_0\r\n",
      "  reproc             conda-forge/linux-64::reproc-14.2.1-h36c2ea0_0\r\n",
      "  reproc-cpp         conda-forge/linux-64::reproc-cpp-14.2.1-h58526e2_0\r\n",
      "\r\n",
      "\r\n",
      "\r\n",
      "Downloading and Extracting Packages\r\n",
      "lzo-2.10             | 314 KB    | ##################################### | 100% \r\n",
      "reproc-cpp-14.2.1    | 20 KB     | ##################################### | 100% \r\n",
      "libsolv-0.7.18       | 439 KB    | ##################################### | 100% \r\n",
      "mamba-0.9.1          | 648 KB    | ##################################### | 100% \r\n",
      "reproc-14.2.1        | 28 KB     | ##################################### | 100% \r\n",
      "libarchive-3.5.1     | 1.6 MB    | ##################################### | 100% \r\n",
      "Preparing transaction: - \b\bdone\r\n",
      "Verifying transaction: | \b\bdone\r\n",
      "Executing transaction: - \b\bdone\r\n"
     ]
    }
   ],
   "source": [
    "!conda install mamba -n base -c conda-forge -y"
   ]
  },
  {
   "cell_type": "code",
   "execution_count": 9,
   "id": "nasty-greece",
   "metadata": {
    "execution": {
     "iopub.execute_input": "2021-05-27T15:11:37.256386Z",
     "iopub.status.busy": "2021-05-27T15:11:37.251590Z",
     "iopub.status.idle": "2021-05-27T15:11:44.163738Z",
     "shell.execute_reply": "2021-05-27T15:11:44.163240Z"
    },
    "papermill": {
     "duration": 8.469781,
     "end_time": "2021-05-27T15:11:44.163899",
     "exception": false,
     "start_time": "2021-05-27T15:11:35.694118",
     "status": "completed"
    },
    "tags": []
   },
   "outputs": [
    {
     "name": "stdout",
     "output_type": "stream",
     "text": [
      "\r\n",
      "                  __    __    __    __\r\n",
      "                 /  \\  /  \\  /  \\  /  \\\r\n",
      "                /    \\/    \\/    \\/    \\\r\n",
      "███████████████/  /██/  /██/  /██/  /████████████████████████\r\n",
      "              /  / \\   / \\   / \\   / \\  \\____\r\n",
      "             /  /   \\_/   \\_/   \\_/   \\    o \\__,\r\n",
      "            / _/                       \\_____/  `\r\n",
      "            |/\r\n",
      "        ███╗   ███╗ █████╗ ███╗   ███╗██████╗  █████╗\r\n",
      "        ████╗ ████║██╔══██╗████╗ ████║██╔══██╗██╔══██╗\r\n",
      "        ██╔████╔██║███████║██╔████╔██║██████╔╝███████║\r\n",
      "        ██║╚██╔╝██║██╔══██║██║╚██╔╝██║██╔══██╗██╔══██║\r\n",
      "        ██║ ╚═╝ ██║██║  ██║██║ ╚═╝ ██║██████╔╝██║  ██║\r\n",
      "        ╚═╝     ╚═╝╚═╝  ╚═╝╚═╝     ╚═╝╚═════╝ ╚═╝  ╚═╝\r\n",
      "\r\n",
      "        mamba (0.9.1) supported by @QuantStack\r\n",
      "\r\n",
      "        GitHub:  https://github.com/mamba-org/mamba\r\n",
      "        Twitter: https://twitter.com/QuantStack\r\n",
      "\r\n",
      "█████████████████████████████████████████████████████████████\r\n",
      "\r\n",
      "\r\n",
      "Looking for: ['cudatoolkit=10.0.130']\r\n",
      "\r\n",
      "anaconda/noarch          [=>                  ] (--:--) Finalizing...\r\n",
      "anaconda/noarch          [=>                  ] (--:--) Done\r\n",
      "anaconda/noarch          [====================] (00m:00s) Done\r\n",
      "anaconda/noarch          [====================] (00m:00s) Done\r\n",
      "anaconda/linux-64        [<=>                 ] (00m:00s) \r\n",
      "anaconda/linux-64        [=>              ] (00m:00s) 291 KB / ?? (961.17 KB/s)\r\n",
      "anaconda/linux-64        [<=>             ] (00m:00s) 291 KB / ?? (961.17 KB/s)\r\n",
      "anaconda/linux-64        [<=>               ] (00m:00s) 736 KB / ?? (1.58 MB/s)\r\n",
      "anaconda/linux-64        [ <=>              ] (00m:00s) 736 KB / ?? (1.58 MB/s)\r\n",
      "anaconda/linux-64        [  <=>               ] (00m:00s) 1 MB / ?? (1.83 MB/s)\r\n",
      "anaconda/linux-64        [   <=>              ] (00m:00s) 1 MB / ?? (1.83 MB/s)\r\n",
      "anaconda/linux-64        [   <=>              ] (00m:00s) 2 MB / ?? (2.04 MB/s)\r\n",
      "anaconda/linux-64        [   <=>              ] (00m:00s) Finalizing...\r\n",
      "anaconda/linux-64        [   <=>              ] (00m:00s) Done\r\n",
      "anaconda/linux-64        [====================] (00m:00s) Done\r\n",
      "anaconda/linux-64        [====================] (00m:00s) Done\r\n",
      "Encountered problems while solving.\r\n",
      "Problem: package cudf-0.16.0-cuda_11.0_py37_g2b8298f566_0 requires cupy >7.1.0,<9.0.0a0, but none of the providers can be installed\r\n",
      "\r\n"
     ]
    }
   ],
   "source": [
    "!timeout 15m mamba install --override-channels -c anaconda cudatoolkit=10.0.130 -y || exit 1"
   ]
  },
  {
   "cell_type": "code",
   "execution_count": 10,
   "id": "velvet-empty",
   "metadata": {
    "execution": {
     "iopub.execute_input": "2021-05-27T15:11:47.326240Z",
     "iopub.status.busy": "2021-05-27T15:11:47.325251Z",
     "iopub.status.idle": "2021-05-27T15:11:47.327941Z",
     "shell.execute_reply": "2021-05-27T15:11:47.327496Z"
    },
    "papermill": {
     "duration": 1.560705,
     "end_time": "2021-05-27T15:11:47.328058",
     "exception": false,
     "start_time": "2021-05-27T15:11:45.767353",
     "status": "completed"
    },
    "tags": []
   },
   "outputs": [],
   "source": [
    "import os\n",
    "os.environ['LD_LIBRARY_PATH'] = '/opt/conda/lib:/opt/kaldi/tools/openfst-1.6.7/lib:/opt/kaldi/src/lib'"
   ]
  },
  {
   "cell_type": "code",
   "execution_count": 11,
   "id": "equivalent-approach",
   "metadata": {
    "execution": {
     "iopub.execute_input": "2021-05-27T15:11:50.474302Z",
     "iopub.status.busy": "2021-05-27T15:11:50.473338Z",
     "iopub.status.idle": "2021-05-27T15:11:51.850621Z",
     "shell.execute_reply": "2021-05-27T15:11:51.850098Z",
     "shell.execute_reply.started": "2021-05-25T17:41:52.084223Z"
    },
    "papermill": {
     "duration": 2.957253,
     "end_time": "2021-05-27T15:11:51.850748",
     "exception": false,
     "start_time": "2021-05-27T15:11:48.893495",
     "status": "completed"
    },
    "tags": []
   },
   "outputs": [],
   "source": [
    "!cat path.sh|sed -e 's/~\\/apps/\\/opt/' > tmp\n",
    "!mv tmp path.sh"
   ]
  },
  {
   "cell_type": "code",
   "execution_count": 12,
   "id": "adjacent-reflection",
   "metadata": {
    "execution": {
     "iopub.execute_input": "2021-05-27T15:11:55.044704Z",
     "iopub.status.busy": "2021-05-27T15:11:55.040317Z",
     "iopub.status.idle": "2021-05-27T15:11:55.693693Z",
     "shell.execute_reply": "2021-05-27T15:11:55.693217Z",
     "shell.execute_reply.started": "2021-05-25T17:41:53.567245Z"
    },
    "papermill": {
     "duration": 2.235316,
     "end_time": "2021-05-27T15:11:55.693829",
     "exception": false,
     "start_time": "2021-05-27T15:11:53.458513",
     "status": "completed"
    },
    "tags": []
   },
   "outputs": [],
   "source": [
    "!echo > local_clarin/clarin_pl_clean.sh"
   ]
  },
  {
   "cell_type": "code",
   "execution_count": 13,
   "id": "solar-inventory",
   "metadata": {
    "execution": {
     "iopub.execute_input": "2021-05-27T15:11:59.353268Z",
     "iopub.status.busy": "2021-05-27T15:11:59.349248Z",
     "iopub.status.idle": "2021-05-27T15:12:01.882763Z",
     "shell.execute_reply": "2021-05-27T15:12:01.882268Z",
     "shell.execute_reply.started": "2021-05-25T17:41:54.312456Z"
    },
    "papermill": {
     "duration": 4.600839,
     "end_time": "2021-05-27T15:12:01.882925",
     "exception": false,
     "start_time": "2021-05-27T15:11:57.282086",
     "status": "completed"
    },
    "tags": []
   },
   "outputs": [],
   "source": [
    "!ln -s ../wsj/s5/steps\n",
    "!ln -s ../wsj/s5/conf\n",
    "!ln -s ../wsj/s5/local\n",
    "!ln -s ../wsj/s5/utils"
   ]
  },
  {
   "cell_type": "code",
   "execution_count": 14,
   "id": "descending-influence",
   "metadata": {
    "execution": {
     "iopub.execute_input": "2021-05-27T15:12:05.302976Z",
     "iopub.status.busy": "2021-05-27T15:12:05.298850Z",
     "iopub.status.idle": "2021-05-27T15:12:05.930366Z",
     "shell.execute_reply": "2021-05-27T15:12:05.929879Z"
    },
    "papermill": {
     "duration": 2.216089,
     "end_time": "2021-05-27T15:12:05.930487",
     "exception": false,
     "start_time": "2021-05-27T15:12:03.714398",
     "status": "completed"
    },
    "tags": []
   },
   "outputs": [
    {
     "name": "stdout",
     "output_type": "stream",
     "text": [
      "copying data and exp from last run\r\n"
     ]
    }
   ],
   "source": [
    "!echo \"copying data and exp from last run\" "
   ]
  },
  {
   "cell_type": "code",
   "execution_count": 15,
   "id": "entertaining-cooking",
   "metadata": {
    "execution": {
     "iopub.execute_input": "2021-05-27T15:12:09.070273Z",
     "iopub.status.busy": "2021-05-27T15:12:09.065915Z",
     "iopub.status.idle": "2021-05-27T15:16:09.876685Z",
     "shell.execute_reply": "2021-05-27T15:16:09.875678Z",
     "shell.execute_reply.started": "2021-05-25T17:41:57.206175Z"
    },
    "papermill": {
     "duration": 242.381385,
     "end_time": "2021-05-27T15:16:09.876858",
     "exception": false,
     "start_time": "2021-05-27T15:12:07.495473",
     "status": "completed"
    },
    "tags": []
   },
   "outputs": [],
   "source": [
    "!cp -r /kaggle/input/kaldi-clarinstudio-polish-ivectors/data /kaggle/working/\n",
    "!cp -r /kaggle/input/kaldi-clarinstudio-polish-ivectors/exp /kaggle/working/"
   ]
  },
  {
   "cell_type": "code",
   "execution_count": 16,
   "id": "greek-campus",
   "metadata": {
    "execution": {
     "iopub.execute_input": "2021-05-27T15:16:13.021733Z",
     "iopub.status.busy": "2021-05-27T15:16:13.021005Z",
     "iopub.status.idle": "2021-05-27T15:16:14.281585Z",
     "shell.execute_reply": "2021-05-27T15:16:14.280993Z",
     "shell.execute_reply.started": "2021-05-25T17:43:40.959798Z"
    },
    "papermill": {
     "duration": 2.825475,
     "end_time": "2021-05-27T15:16:14.281763",
     "exception": false,
     "start_time": "2021-05-27T15:16:11.456288",
     "status": "completed"
    },
    "tags": []
   },
   "outputs": [],
   "source": [
    "!ln -s /kaggle/working/exp\n",
    "!ln -s /kaggle/working/data"
   ]
  },
  {
   "cell_type": "code",
   "execution_count": 17,
   "id": "available-declaration",
   "metadata": {
    "execution": {
     "iopub.execute_input": "2021-05-27T15:16:18.185947Z",
     "iopub.status.busy": "2021-05-27T15:16:18.181529Z",
     "iopub.status.idle": "2021-05-27T15:16:19.485977Z",
     "shell.execute_reply": "2021-05-27T15:16:19.486384Z"
    },
    "papermill": {
     "duration": 2.917647,
     "end_time": "2021-05-27T15:16:19.486547",
     "exception": false,
     "start_time": "2021-05-27T15:16:16.568900",
     "status": "completed"
    },
    "tags": []
   },
   "outputs": [],
   "source": [
    "!cp exp/tri3b/35.mdl exp/tri3b/final.mdl\n",
    "!cp exp/tri3b/35.occs exp/tri3b/final.occs"
   ]
  },
  {
   "cell_type": "code",
   "execution_count": 18,
   "id": "natural-march",
   "metadata": {
    "execution": {
     "iopub.execute_input": "2021-05-27T15:16:22.649544Z",
     "iopub.status.busy": "2021-05-27T15:16:22.648730Z",
     "iopub.status.idle": "2021-05-27T15:16:23.281738Z",
     "shell.execute_reply": "2021-05-27T15:16:23.281301Z"
    },
    "papermill": {
     "duration": 2.19747,
     "end_time": "2021-05-27T15:16:23.281881",
     "exception": false,
     "start_time": "2021-05-27T15:16:21.084411",
     "status": "completed"
    },
    "tags": []
   },
   "outputs": [
    {
     "name": "stdout",
     "output_type": "stream",
     "text": [
      "Setup done\r\n"
     ]
    }
   ],
   "source": [
    "!echo Setup done"
   ]
  },
  {
   "cell_type": "code",
   "execution_count": 19,
   "id": "known-dress",
   "metadata": {
    "execution": {
     "iopub.execute_input": "2021-05-27T15:16:26.681023Z",
     "iopub.status.busy": "2021-05-27T15:16:26.680068Z",
     "iopub.status.idle": "2021-05-27T15:16:26.683274Z",
     "shell.execute_reply": "2021-05-27T15:16:26.683757Z",
     "shell.execute_reply.started": "2021-05-25T17:43:42.408401Z"
    },
    "papermill": {
     "duration": 1.844532,
     "end_time": "2021-05-27T15:16:26.683929",
     "exception": false,
     "start_time": "2021-05-27T15:16:24.839397",
     "status": "completed"
    },
    "tags": []
   },
   "outputs": [
    {
     "name": "stdout",
     "output_type": "stream",
     "text": [
      "Overwriting run.sh\n"
     ]
    }
   ],
   "source": [
    "%%writefile run.sh\n",
    ". path.sh\n",
    "\n",
    "export nj=40 ##number of concurrent processes\n",
    "export nj_test=30 ## number of concurrent processes for test has to be <=30\n",
    "\n",
    "#Performing tests on all the above systems:\n",
    "\n",
    "#./local/nnet3/run_ivector_common.sh --nj $nj_test --train_set train --test_sets test --gmm tri3b\n",
    "\n",
    "./local_clarin/clarin_tdnn.sh\n",
    "steps/nnet3/decode.sh --nj $nj_test --num-threads 4 --online-ivector-dir exp/nnet3/ivectors_test_hires \\\n",
    "          exp/tri3b/graph data/test_hires exp/nnet3/tdnn1a_sp/decode\n",
    "./steps/oracle_wer.sh data/test_hires data/lang exp/nnet3/tdnn1a_sp/decode\n",
    "./steps/lmrescore_const_arpa.sh data/lang_test data/lang_carpa data/test_hires exp/nnet3/tdnn1a_sp/decode exp/nnet3/tdnn1a_sp/decode_rs\n",
    "\n",
    "# Same as above but using the chain framework - trains about the same, works much faster as has lower WER\n",
    "./local_clarin/clarin_chain_tdnn.sh\n",
    "./steps/oracle_wer.sh data/test_hires data/lang exp/chain/tdnn1f_sp/decode\n",
    "./steps/lmrescore_const_arpa.sh data/lang_test data/lang_carpa data/test_hires exp/chain/tdnn1f_sp/decode exp/chain/tdnn1f_sp/decode_rs\n",
    "\n",
    "# Getting results\n",
    "find exp -name best_wer | while read f ; do cat $f ; done | sort -k2nr\n",
    "find exp -name oracle_wer | while read f ; do echo -n \"$f: \" ; cat $f ; done | sort -k2nr"
   ]
  },
  {
   "cell_type": "code",
   "execution_count": 20,
   "id": "unknown-wallpaper",
   "metadata": {
    "execution": {
     "iopub.execute_input": "2021-05-27T15:16:29.852020Z",
     "iopub.status.busy": "2021-05-27T15:16:29.850979Z",
     "iopub.status.idle": "2021-05-27T15:16:29.854538Z",
     "shell.execute_reply": "2021-05-27T15:16:29.854983Z"
    },
    "papermill": {
     "duration": 1.618381,
     "end_time": "2021-05-27T15:16:29.855137",
     "exception": false,
     "start_time": "2021-05-27T15:16:28.236756",
     "status": "completed"
    },
    "tags": []
   },
   "outputs": [
    {
     "name": "stdout",
     "output_type": "stream",
     "text": [
      "Overwriting local_clarin/clarin_chain_tdnn.sh\n"
     ]
    }
   ],
   "source": [
    "%%writefile local_clarin/clarin_chain_tdnn.sh\n",
    "#!/bin/bash\n",
    "\n",
    "# 1f is as 1a but using --proportional-shrink=60.0\n",
    "\n",
    "# local/chain/compare_wer.sh exp/chain/tdnn1a_sp exp/chain/tdnn1b_sp\n",
    "# System                tdnn1a_sp tdnn1b_sp\n",
    "#WER dev93 (tgpr)                7.87      7.24\n",
    "#WER dev93 (tg)                  7.61      6.95\n",
    "#WER dev93 (big-dict,tgpr)       5.71      5.19\n",
    "#WER dev93 (big-dict,fg)         5.10      4.52\n",
    "#WER eval92 (tgpr)               5.23      5.09\n",
    "#WER eval92 (tg)                 4.87      4.64\n",
    "#WER eval92 (big-dict,tgpr)      3.24      2.91\n",
    "#WER eval92 (big-dict,fg)        2.71      2.39\n",
    "# Final train prob        -0.0414   -0.0570\n",
    "# Final valid prob        -0.0634   -0.0680\n",
    "# Final train prob (xent)   -0.8216   -0.9587\n",
    "# Final valid prob (xent)   -0.9208   -1.0039\n",
    "\n",
    "\n",
    "# steps/info/chain_dir_info.pl exp/chain/tdnn1b_sp\n",
    "# exp/chain/tdnn1b_sp: num-iters=102 nj=2..5 num-params=7.6M dim=40+100->2889 combine=-0.066->-0.063 xent:train/valid[67,101,final]=(-1.12,-0.979,-0.959/-1.13,-1.03,-1.00) logprob:train/valid[67,101,final]=(-0.071,-0.058,-0.057/-0.077,-0.069,-0.068)\n",
    "\n",
    "set -e -o pipefail\n",
    "\n",
    "# First the options that are passed through to run_ivector_common.sh\n",
    "# (some of which are also used in this script directly).\n",
    "stage=0\n",
    "nj=40\n",
    "train_set=train\n",
    "test_set=test\n",
    "gmm=tri3b        # this is the source gmm-dir that we'll use for alignments; it\n",
    "                 # should have alignments for the specified training data.\n",
    "num_threads_ubm=40\n",
    "nnet3_affix=       # affix for exp dirs, e.g. it was _cleaned in tedlium.\n",
    "\n",
    "# Options which are not passed through to run_ivector_common.sh\n",
    "affix=1f  #affix for TDNN+LSTM directory e.g. \"1a\" or \"1b\", in case we change the configuration.\n",
    "common_egs_dir=\n",
    "reporting_email=\n",
    "\n",
    "# LSTM/chain options\n",
    "train_stage=-10\n",
    "xent_regularize=0.1\n",
    "\n",
    "# training chunk-options\n",
    "chunk_width=140,100,160\n",
    "# we don't need extra left/right context for TDNN systems.\n",
    "chunk_left_context=0\n",
    "chunk_right_context=0\n",
    "\n",
    "# training options\n",
    "srand=0\n",
    "remove_egs=true\n",
    "\n",
    "#decode options\n",
    "test_online_decoding=false  # if true, it will run the last decoding stage.\n",
    "\n",
    "# End configuration section.\n",
    "echo \"$0 $@\"  # Print the command line for logging\n",
    "\n",
    "\n",
    ". ./cmd.sh\n",
    ". ./path.sh\n",
    ". ./utils/parse_options.sh\n",
    "\n",
    "\n",
    "if ! cuda-compiled; then\n",
    "  cat <<EOF && exit 1\n",
    "This script is intended to be used with GPUs but you have not compiled Kaldi with CUDA\n",
    "If you want to use GPUs (and have them), go to src/, and configure and make on a machine\n",
    "where \"nvcc\" is installed.\n",
    "EOF\n",
    "fi\n",
    "\n",
    "#local/nnet3/run_ivector_common.sh \\\n",
    "#  --stage $stage --nj $nj \\\n",
    "#  --train-set $train_set --gmm $gmm \\\n",
    "#  --test-sets $test_set \\\n",
    "#  --num-threads-ubm $num_threads_ubm \\\n",
    "#  --nnet3-affix \"$nnet3_affix\"\n",
    "\n",
    "\n",
    "\n",
    "gmm_dir=exp/${gmm}\n",
    "ali_dir=exp/${gmm}_ali_${train_set}_sp\n",
    "lat_dir=exp/chain${nnet3_affix}/${gmm}_${train_set}_sp_lats\n",
    "dir=exp/chain${nnet3_affix}/tdnn${affix}_sp\n",
    "train_data_dir=data/${train_set}_sp_hires\n",
    "train_ivector_dir=exp/nnet3${nnet3_affix}/ivectors_${train_set}_sp_hires\n",
    "lores_train_data_dir=data/${train_set}_sp\n",
    "\n",
    "# note: you don't necessarily have to change the treedir name\n",
    "# each time you do a new experiment-- only if you change the\n",
    "# configuration in a way that affects the tree.\n",
    "tree_dir=exp/chain${nnet3_affix}/tree_a_sp\n",
    "# the 'lang' directory is created by this script.\n",
    "# If you create such a directory with a non-standard topology\n",
    "# you should probably name it differently.\n",
    "lang=data/lang_chain\n",
    "\n",
    "for f in $train_data_dir/feats.scp $train_ivector_dir/ivector_online.scp \\\n",
    "    $lores_train_data_dir/feats.scp $ali_dir/ali.1.gz; do\n",
    "  [ ! -f $f ] && echo \"$0: expected file $f to exist\" && exit 1\n",
    "done\n",
    "\n",
    "\n",
    "if [ $stage -le 12 ]; then\n",
    "  echo \"$0: creating lang directory $lang with chain-type topology\"\n",
    "  # Create a version of the lang/ directory that has one state per phone in the\n",
    "  # topo file. [note, it really has two states.. the first one is only repeated\n",
    "  # once, the second one has zero or more repeats.]\n",
    "  if [ -d $lang ]; then\n",
    "    if [ $lang/L.fst -nt data/lang/L.fst ]; then\n",
    "      echo \"$0: $lang already exists, not overwriting it; continuing\"\n",
    "    else\n",
    "      echo \"$0: $lang already exists and seems to be older than data/lang...\"\n",
    "      echo \" ... not sure what to do.  Exiting.\"\n",
    "      exit 1;\n",
    "    fi\n",
    "  else\n",
    "    cp -r data/lang $lang\n",
    "    silphonelist=$(cat $lang/phones/silence.csl) || exit 1;\n",
    "    nonsilphonelist=$(cat $lang/phones/nonsilence.csl) || exit 1;\n",
    "    # Use our special topology... note that later on may have to tune this\n",
    "    # topology.\n",
    "    steps/nnet3/chain/gen_topo.py $nonsilphonelist $silphonelist >$lang/topo\n",
    "  fi\n",
    "fi\n",
    "\n",
    "if [ $stage -le 13 ]; then\n",
    "  # Get the alignments as lattices (gives the chain training more freedom).\n",
    "  # use the same num-jobs as the alignments\n",
    "  steps/align_fmllr_lats.sh --nj 100 --cmd \"$train_cmd\" ${lores_train_data_dir} \\\n",
    "    data/lang $gmm_dir $lat_dir\n",
    "  rm $lat_dir/fsts.*.gz # save space\n",
    "fi\n",
    "\n",
    "if [ $stage -le 14 ]; then\n",
    "  # Build a tree using our new topology.  We know we have alignments for the\n",
    "  # speed-perturbed data (local/nnet3/run_ivector_common.sh made them), so use\n",
    "  # those.  The num-leaves is always somewhat less than the num-leaves from\n",
    "  # the GMM baseline.\n",
    "   if [ -f $tree_dir/final.mdl ]; then\n",
    "     echo \"$0: $tree_dir/final.mdl already exists, refusing to overwrite it.\"\n",
    "     exit 1;\n",
    "  fi\n",
    "  steps/nnet3/chain/build_tree.sh \\\n",
    "    --frame-subsampling-factor 3 \\\n",
    "    --context-opts \"--context-width=2 --central-position=1\" \\\n",
    "    --cmd \"$train_cmd\" 3500 ${lores_train_data_dir} \\\n",
    "    $lang $ali_dir $tree_dir\n",
    "fi\n",
    "\n",
    "\n",
    "if [ $stage -le 15 ]; then\n",
    "  mkdir -p $dir\n",
    "  echo \"$0: creating neural net configs using the xconfig parser\";\n",
    "\n",
    "  num_targets=$(tree-info $tree_dir/tree |grep num-pdfs|awk '{print $2}')\n",
    "  learning_rate_factor=$(echo \"print(0.5/$xent_regularize)\" | python)\n",
    "\n",
    "  mkdir -p $dir/configs\n",
    "  cat <<EOF > $dir/configs/network.xconfig\n",
    "  input dim=100 name=ivector\n",
    "  input dim=40 name=input\n",
    "\n",
    "  # please note that it is important to have input layer with the name=input\n",
    "  # as the layer immediately preceding the fixed-affine-layer to enable\n",
    "  # the use of short notation for the descriptor\n",
    "  fixed-affine-layer name=lda input=Append(-2,-1,0,1,2,ReplaceIndex(ivector, t, 0)) affine-transform-file=$dir/configs/lda.mat\n",
    "\n",
    "  # the first splicing is moved before the lda layer, so no splicing here\n",
    "  relu-renorm-layer name=tdnn1 dim=512\n",
    "  relu-renorm-layer name=tdnn2 dim=512 input=Append(-1,0,1)\n",
    "  relu-renorm-layer name=tdnn3 dim=512 input=Append(-1,0,1)\n",
    "  relu-renorm-layer name=tdnn4 dim=512 input=Append(-3,0,3)\n",
    "  relu-renorm-layer name=tdnn5 dim=512 input=Append(-3,0,3)\n",
    "  relu-renorm-layer name=tdnn6 dim=512 input=Append(-6,-3,0)\n",
    "\n",
    "  ## adding the layers for chain branch\n",
    "  relu-renorm-layer name=prefinal-chain dim=512 target-rms=0.5\n",
    "  output-layer name=output include-log-softmax=false dim=$num_targets max-change=1.5\n",
    "\n",
    "  # adding the layers for xent branch\n",
    "  # This block prints the configs for a separate output that will be\n",
    "  # trained with a cross-entropy objective in the 'chain' models... this\n",
    "  # has the effect of regularizing the hidden parts of the model.  we use\n",
    "  # 0.5 / args.xent_regularize as the learning rate factor- the factor of\n",
    "  # 0.5 / args.xent_regularize is suitable as it means the xent\n",
    "  # final-layer learns at a rate independent of the regularization\n",
    "  # constant; and the 0.5 was tuned so as to make the relative progress\n",
    "  # similar in the xent and regular final layers.\n",
    "  relu-renorm-layer name=prefinal-xent input=tdnn6 dim=512 target-rms=0.5\n",
    "  output-layer name=output-xent dim=$num_targets learning-rate-factor=$learning_rate_factor max-change=1.5\n",
    "EOF\n",
    "  steps/nnet3/xconfig_to_configs.py --xconfig-file $dir/configs/network.xconfig --config-dir $dir/configs/\n",
    "fi\n",
    "\n",
    "\n",
    "if [ $stage -le 16 ]; then\n",
    "  if [[ $(hostname -f) == *.clsp.jhu.edu ]] && [ ! -d $dir/egs/storage ]; then\n",
    "    utils/create_split_dir.pl \\\n",
    "     /export/b0{3,4,5,6}/$USER/kaldi-data/egs/wsj-$(date +'%m_%d_%H_%M')/s5/$dir/egs/storage $dir/egs/storage\n",
    "  fi\n",
    "\n",
    "  steps/nnet3/chain/train.py --stage=$train_stage \\\n",
    "    --cmd=\"$decode_cmd\" \\\n",
    "    --feat.online-ivector-dir=$train_ivector_dir \\\n",
    "    --feat.cmvn-opts=\"--norm-means=false --norm-vars=false\" \\\n",
    "    --chain.xent-regularize $xent_regularize \\\n",
    "    --chain.leaky-hmm-coefficient=0.1 \\\n",
    "    --chain.l2-regularize=0.00005 \\\n",
    "    --chain.apply-deriv-weights=false \\\n",
    "    --chain.lm-opts=\"--num-extra-lm-states=2000\" \\\n",
    "    --trainer.srand=$srand \\\n",
    "    --trainer.max-param-change=2.0 \\\n",
    "    --trainer.num-epochs=4 \\\n",
    "    --trainer.frames-per-iter=3000000 \\\n",
    "    --trainer.optimization.num-jobs-initial=4 \\\n",
    "    --trainer.optimization.num-jobs-final=4 \\\n",
    "    --trainer.optimization.initial-effective-lrate=0.001 \\\n",
    "    --trainer.optimization.final-effective-lrate=0.0001 \\\n",
    "    --trainer.optimization.shrink-value=1.0 \\\n",
    "    --trainer.optimization.proportional-shrink=60.0 \\\n",
    "    --trainer.num-chunk-per-minibatch=256,128,64 \\\n",
    "    --trainer.optimization.momentum=0.0 \\\n",
    "    --egs.chunk-width=$chunk_width \\\n",
    "    --egs.chunk-left-context=$chunk_left_context \\\n",
    "    --egs.chunk-right-context=$chunk_right_context \\\n",
    "    --egs.chunk-left-context-initial=0 \\\n",
    "    --egs.chunk-right-context-final=0 \\\n",
    "    --egs.dir=\"$common_egs_dir\" \\\n",
    "    --egs.opts=\"--frames-overlap-per-eg 0\" \\\n",
    "    --cleanup.remove-egs=$remove_egs \\\n",
    "    --use-gpu=true \\\n",
    "    --reporting.email=\"$reporting_email\" \\\n",
    "    --feat-dir=$train_data_dir \\\n",
    "    --tree-dir=$tree_dir \\\n",
    "    --lat-dir=$lat_dir \\\n",
    "    --dir=$dir  || exit 1;\n",
    "fi\n",
    "\n",
    "if [ $stage -le 17 ]; then\n",
    "  # The reason we are using data/lang here, instead of $lang, is just to\n",
    "  # emphasize that it's not actually important to give mkgraph.sh the\n",
    "  # lang directory with the matched topology (since it gets the\n",
    "  # topology file from the model).  So you could give it a different\n",
    "  # lang directory, one that contained a wordlist and LM of your choice,\n",
    "  # as long as phones.txt was compatible.\n",
    "\n",
    "  utils/lang/check_phones_compatible.sh \\\n",
    "    data/lang_test/phones.txt $lang/phones.txt\n",
    "  utils/mkgraph.sh \\\n",
    "    --self-loop-scale 1.0 data/lang_test \\\n",
    "    $tree_dir $tree_dir/graph || exit 1;\n",
    "\n",
    "fi\n",
    "\n",
    "if [ $stage -le 18 ]; then\n",
    "  frames_per_chunk=$(echo $chunk_width | cut -d, -f1)\n",
    "  nspk=$(wc -l <data/${test_set}_hires/spk2utt)\n",
    "  steps/nnet3/decode.sh \\\n",
    "          --acwt 1.0 --post-decode-acwt 10.0 \\\n",
    "          --extra-left-context $chunk_left_context \\\n",
    "          --extra-right-context $chunk_right_context \\\n",
    "          --extra-left-context-initial 0 \\\n",
    "          --extra-right-context-final 0 \\\n",
    "          --frames-per-chunk $frames_per_chunk \\\n",
    "          --nj $nspk --cmd \"$decode_cmd\"  --num-threads 4 \\\n",
    "          --online-ivector-dir exp/nnet3${nnet3_affix}/ivectors_${test_set}_hires \\\n",
    "          $tree_dir/graph data/${test_set}_hires ${dir}/decode || exit 1\n",
    "fi\n",
    "\n",
    "\n",
    "exit 0;"
   ]
  },
  {
   "cell_type": "code",
   "execution_count": 21,
   "id": "failing-nickname",
   "metadata": {
    "execution": {
     "iopub.execute_input": "2021-05-27T15:16:33.043789Z",
     "iopub.status.busy": "2021-05-27T15:16:33.042988Z",
     "iopub.status.idle": "2021-05-27T17:59:20.002506Z",
     "shell.execute_reply": "2021-05-27T17:59:20.000582Z"
    },
    "papermill": {
     "duration": 9768.563341,
     "end_time": "2021-05-27T17:59:20.002704",
     "exception": false,
     "start_time": "2021-05-27T15:16:31.439363",
     "status": "completed"
    },
    "tags": []
   },
   "outputs": [
    {
     "name": "stdout",
     "output_type": "stream",
     "text": [
      "./local_clarin/clarin_tdnn.sh: creating neural net configs using the xconfig parser\r\n",
      "tree-info exp/tri3b/tree \r\n",
      "steps/nnet3/xconfig_to_configs.py --xconfig-file exp/nnet3/tdnn1a_sp/configs/network.xconfig --config-dir exp/nnet3/tdnn1a_sp/configs/\r\n",
      "nnet3-init: error while loading shared libraries: libcudart.so.10.0: cannot open shared object file: No such file or directory\r\n",
      "Traceback (most recent call last):\r\n",
      "  File \"steps/nnet3/xconfig_to_configs.py\", line 333, in <module>\r\n",
      "    main()\r\n",
      "  File \"steps/nnet3/xconfig_to_configs.py\", line 327, in main\r\n",
      "    existing_model=args.existing_model)\r\n",
      "  File \"steps/nnet3/xconfig_to_configs.py\", line 278, in check_model_contexts\r\n",
      "    config_dir, file_name))\r\n",
      "  File \"steps/libs/common.py\", line 158, in execute_command\r\n",
      "    p.returncode, command))\r\n",
      "Exception: Command exited with status 127: nnet3-init  exp/nnet3/tdnn1a_sp/configs//init.config exp/nnet3/tdnn1a_sp/configs//init.raw\r\n",
      "steps/nnet3/decode.sh --nj 30 --num-threads 4 --online-ivector-dir exp/nnet3/ivectors_test_hires exp/tri3b/graph data/test_hires exp/nnet3/tdnn1a_sp/decode\r\n",
      "steps/nnet2/check_ivectors_compatible.sh: WARNING: One of the directories do not contain iVector ID.\r\n",
      "steps/nnet2/check_ivectors_compatible.sh: WARNING: That means it's you who's reponsible for keeping \r\n",
      "steps/nnet2/check_ivectors_compatible.sh: WARNING: the directories compatible\r\n",
      "steps/nnet3/decode.sh: no such file exp/nnet3/tdnn1a_sp/final.mdl\r\n",
      "./steps/oracle_wer.sh data/test_hires data/lang exp/nnet3/tdnn1a_sp/decode\r\n",
      "./steps/oracle_wer.sh: expected file exp/nnet3/tdnn1a_sp/decode/lat.1.gz to exist\r\n",
      "./steps/lmrescore_const_arpa.sh data/lang_test data/lang_carpa data/test_hires exp/nnet3/tdnn1a_sp/decode exp/nnet3/tdnn1a_sp/decode_rs\r\n",
      "ls: cannot access 'exp/nnet3/tdnn1a_sp/decode/lat.*.gz': No such file or directory\r\n",
      "./steps/lmrescore_const_arpa.sh: No lattices input directory exp/nnet3/tdnn1a_sp/decode\r\n",
      "./local_clarin/clarin_chain_tdnn.sh \r\n",
      "./local_clarin/clarin_chain_tdnn.sh: creating lang directory data/lang_chain with chain-type topology\r\n",
      "steps/align_fmllr_lats.sh --nj 100 --cmd run.pl data/train_sp data/lang exp/tri3b exp/chain/tri3b_train_sp_lats\r\n",
      "steps/align_fmllr_lats.sh: feature type is lda\r\n",
      "steps/align_fmllr_lats.sh: compiling training graphs\r\n",
      "steps/align_fmllr_lats.sh: aligning data in data/train_sp using exp/tri3b/final.mdl and speaker-independent features.\r\n",
      "steps/align_fmllr_lats.sh: computing fMLLR transforms\r\n",
      "steps/align_fmllr_lats.sh: generating lattices containing alternate pronunciations.\r\n",
      "steps/align_fmllr_lats.sh: done generating lattices from training transcripts.\r\n",
      "949 warnings in exp/chain/tri3b_train_sp_lats/log/align_pass1.*.log\r\n",
      "110 warnings in exp/chain/tri3b_train_sp_lats/log/fmllr.*.log\r\n",
      "112 warnings in exp/chain/tri3b_train_sp_lats/log/generate_lattices.*.log\r\n",
      "steps/nnet3/chain/build_tree.sh --frame-subsampling-factor 3 --context-opts --context-width=2 --central-position=1 --cmd run.pl 3500 data/train_sp data/lang_chain exp/tri3b_ali_train_sp exp/chain/tree_a_sp\r\n",
      "steps/nnet3/chain/build_tree.sh: feature type is lda\r\n",
      "steps/nnet3/chain/build_tree.sh: Using transforms from exp/tri3b_ali_train_sp\r\n",
      "steps/nnet3/chain/build_tree.sh: Initializing monophone model (for alignment conversion, in case topology changed)\r\n",
      "steps/nnet3/chain/build_tree.sh: Accumulating tree stats\r\n",
      "steps/nnet3/chain/build_tree.sh: Getting questions for tree clustering.\r\n",
      "steps/nnet3/chain/build_tree.sh: Building the tree\r\n",
      "steps/nnet3/chain/build_tree.sh: Initializing the model\r\n",
      "steps/nnet3/chain/build_tree.sh: Converting alignments from exp/tri3b_ali_train_sp to use current tree\r\n",
      "steps/nnet3/chain/build_tree.sh: Done building tree\r\n",
      "./local_clarin/clarin_chain_tdnn.sh: creating neural net configs using the xconfig parser\r\n",
      "tree-info exp/chain/tree_a_sp/tree \r\n",
      "steps/nnet3/xconfig_to_configs.py --xconfig-file exp/chain/tdnn1f_sp/configs/network.xconfig --config-dir exp/chain/tdnn1f_sp/configs/\r\n",
      "nnet3-init: error while loading shared libraries: libcudart.so.10.0: cannot open shared object file: No such file or directory\r\n",
      "Traceback (most recent call last):\r\n",
      "  File \"steps/nnet3/xconfig_to_configs.py\", line 333, in <module>\r\n",
      "    main()\r\n",
      "  File \"steps/nnet3/xconfig_to_configs.py\", line 327, in main\r\n",
      "    existing_model=args.existing_model)\r\n",
      "  File \"steps/nnet3/xconfig_to_configs.py\", line 278, in check_model_contexts\r\n",
      "    config_dir, file_name))\r\n",
      "  File \"steps/libs/common.py\", line 158, in execute_command\r\n",
      "    p.returncode, command))\r\n",
      "Exception: Command exited with status 127: nnet3-init  exp/chain/tdnn1f_sp/configs//init.config exp/chain/tdnn1f_sp/configs//init.raw\r\n",
      "./steps/oracle_wer.sh data/test_hires data/lang exp/chain/tdnn1f_sp/decode\r\n",
      "./steps/oracle_wer.sh: expected file exp/chain/tdnn1f_sp/decode/lat.1.gz to exist\r\n",
      "./steps/lmrescore_const_arpa.sh data/lang_test data/lang_carpa data/test_hires exp/chain/tdnn1f_sp/decode exp/chain/tdnn1f_sp/decode_rs\r\n",
      "ls: cannot access 'exp/chain/tdnn1f_sp/decode/lat.*.gz': No such file or directory\r\n",
      "./steps/lmrescore_const_arpa.sh: No lattices input directory exp/chain/tdnn1f_sp/decode\r\n"
     ]
    }
   ],
   "source": [
    "!bash run.sh"
   ]
  }
 ],
 "metadata": {
  "kernelspec": {
   "display_name": "Python 3",
   "language": "python",
   "name": "python3"
  },
  "language_info": {
   "codemirror_mode": {
    "name": "ipython",
    "version": 3
   },
   "file_extension": ".py",
   "mimetype": "text/x-python",
   "name": "python",
   "nbconvert_exporter": "python",
   "pygments_lexer": "ipython3",
   "version": "3.7.10"
  },
  "papermill": {
   "default_parameters": {},
   "duration": 10919.730767,
   "end_time": "2021-05-27T17:59:23.241852",
   "environment_variables": {},
   "exception": null,
   "input_path": "__notebook__.ipynb",
   "output_path": "__notebook__.ipynb",
   "parameters": {},
   "start_time": "2021-05-27T14:57:23.511085",
   "version": "2.3.3"
  }
 },
 "nbformat": 4,
 "nbformat_minor": 5
}
