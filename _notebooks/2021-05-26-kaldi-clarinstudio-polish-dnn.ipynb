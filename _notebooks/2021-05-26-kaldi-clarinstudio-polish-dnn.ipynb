{
 "cells": [
  {
   "cell_type": "code",
   "execution_count": 1,
   "id": "stock-seeker",
   "metadata": {
    "execution": {
     "iopub.execute_input": "2021-05-26T13:46:26.463198Z",
     "iopub.status.busy": "2021-05-26T13:46:26.462354Z",
     "iopub.status.idle": "2021-05-26T13:46:26.466490Z",
     "shell.execute_reply": "2021-05-26T13:46:26.466889Z",
     "shell.execute_reply.started": "2021-05-25T17:38:41.257731Z"
    },
    "papermill": {
     "duration": 0.029861,
     "end_time": "2021-05-26T13:46:26.467108",
     "exception": false,
     "start_time": "2021-05-26T13:46:26.437247",
     "status": "completed"
    },
    "tags": []
   },
   "outputs": [
    {
     "name": "stdout",
     "output_type": "stream",
     "text": [
      "/opt\n"
     ]
    }
   ],
   "source": [
    "%cd /opt"
   ]
  },
  {
   "cell_type": "code",
   "execution_count": 2,
   "id": "blind-layout",
   "metadata": {
    "_cell_guid": "b1076dfc-b9ad-4769-8c92-a6c4dae69d19",
    "_uuid": "8f2839f25d086af736a60e9eeb907d3b93b6e0e5",
    "execution": {
     "iopub.execute_input": "2021-05-26T13:46:26.493905Z",
     "iopub.status.busy": "2021-05-26T13:46:26.493361Z",
     "iopub.status.idle": "2021-05-26T13:46:59.082100Z",
     "shell.execute_reply": "2021-05-26T13:46:59.081646Z",
     "shell.execute_reply.started": "2021-05-25T17:38:41.278229Z"
    },
    "papermill": {
     "duration": 32.604051,
     "end_time": "2021-05-26T13:46:59.082234",
     "exception": false,
     "start_time": "2021-05-26T13:46:26.478183",
     "status": "completed"
    },
    "tags": []
   },
   "outputs": [],
   "source": [
    "%%capture\n",
    "!tar xvf /kaggle/input/extract-prebuilt-kaldi-from-docker/kaldi.tar"
   ]
  },
  {
   "cell_type": "code",
   "execution_count": 3,
   "id": "right-sudan",
   "metadata": {
    "execution": {
     "iopub.execute_input": "2021-05-26T13:46:59.108285Z",
     "iopub.status.busy": "2021-05-26T13:46:59.107761Z",
     "iopub.status.idle": "2021-05-26T13:46:59.114367Z",
     "shell.execute_reply": "2021-05-26T13:46:59.113772Z",
     "shell.execute_reply.started": "2021-05-25T17:39:29.136058Z"
    },
    "papermill": {
     "duration": 0.021222,
     "end_time": "2021-05-26T13:46:59.114543",
     "exception": false,
     "start_time": "2021-05-26T13:46:59.093321",
     "status": "completed"
    },
    "tags": []
   },
   "outputs": [
    {
     "name": "stdout",
     "output_type": "stream",
     "text": [
      "/opt/kaldi/egs\n"
     ]
    }
   ],
   "source": [
    "%cd kaldi/egs"
   ]
  },
  {
   "cell_type": "code",
   "execution_count": 4,
   "id": "headed-mustang",
   "metadata": {
    "execution": {
     "iopub.execute_input": "2021-05-26T13:46:59.139815Z",
     "iopub.status.busy": "2021-05-26T13:46:59.139279Z",
     "iopub.status.idle": "2021-05-26T13:47:02.005338Z",
     "shell.execute_reply": "2021-05-26T13:47:02.005955Z",
     "shell.execute_reply.started": "2021-05-25T17:39:29.147976Z"
    },
    "papermill": {
     "duration": 2.88085,
     "end_time": "2021-05-26T13:47:02.006133",
     "exception": false,
     "start_time": "2021-05-26T13:46:59.125283",
     "status": "completed"
    },
    "tags": []
   },
   "outputs": [
    {
     "name": "stdout",
     "output_type": "stream",
     "text": [
      "Cloning into 'ClarinStudioKaldi'...\r\n",
      "remote: Enumerating objects: 778, done.\u001b[K\r\n",
      "remote: Counting objects: 100% (3/3), done.\u001b[K\r\n",
      "remote: Compressing objects: 100% (3/3), done.\u001b[K\r\n",
      "remote: Total 778 (delta 0), reused 0 (delta 0), pack-reused 775\u001b[K\r\n",
      "Receiving objects: 100% (778/778), 35.26 MiB | 41.22 MiB/s, done.\r\n",
      "Resolving deltas: 100% (262/262), done.\r\n"
     ]
    }
   ],
   "source": [
    "!git clone https://github.com/danijel3/ClarinStudioKaldi"
   ]
  },
  {
   "cell_type": "code",
   "execution_count": 5,
   "id": "deluxe-bobby",
   "metadata": {
    "execution": {
     "iopub.execute_input": "2021-05-26T13:47:02.066960Z",
     "iopub.status.busy": "2021-05-26T13:47:02.060163Z",
     "iopub.status.idle": "2021-05-26T13:47:02.073547Z",
     "shell.execute_reply": "2021-05-26T13:47:02.071338Z",
     "shell.execute_reply.started": "2021-05-25T17:39:33.484146Z"
    },
    "papermill": {
     "duration": 0.045917,
     "end_time": "2021-05-26T13:47:02.074200",
     "exception": false,
     "start_time": "2021-05-26T13:47:02.028283",
     "status": "completed"
    },
    "tags": []
   },
   "outputs": [
    {
     "name": "stdout",
     "output_type": "stream",
     "text": [
      "/opt/kaldi/egs/ClarinStudioKaldi\n"
     ]
    }
   ],
   "source": [
    "%cd ClarinStudioKaldi"
   ]
  },
  {
   "cell_type": "code",
   "execution_count": 6,
   "id": "inside-nursery",
   "metadata": {
    "execution": {
     "iopub.execute_input": "2021-05-26T13:47:02.192268Z",
     "iopub.status.busy": "2021-05-26T13:47:02.187009Z",
     "iopub.status.idle": "2021-05-26T13:49:35.952253Z",
     "shell.execute_reply": "2021-05-26T13:49:35.952770Z",
     "shell.execute_reply.started": "2021-05-25T17:39:33.493317Z"
    },
    "papermill": {
     "duration": 153.830155,
     "end_time": "2021-05-26T13:49:35.952975",
     "exception": false,
     "start_time": "2021-05-26T13:47:02.122820",
     "status": "completed"
    },
    "tags": []
   },
   "outputs": [],
   "source": [
    "%%capture\n",
    "!conda install -c bioconda perl-perlio-gzip -y"
   ]
  },
  {
   "cell_type": "code",
   "execution_count": 7,
   "id": "talented-emission",
   "metadata": {
    "execution": {
     "iopub.execute_input": "2021-05-26T13:49:35.987311Z",
     "iopub.status.busy": "2021-05-26T13:49:35.986786Z",
     "iopub.status.idle": "2021-05-26T13:49:35.990816Z",
     "shell.execute_reply": "2021-05-26T13:49:35.990399Z",
     "shell.execute_reply.started": "2021-05-25T17:41:52.076269Z"
    },
    "papermill": {
     "duration": 0.023023,
     "end_time": "2021-05-26T13:49:35.990941",
     "exception": false,
     "start_time": "2021-05-26T13:49:35.967918",
     "status": "completed"
    },
    "tags": []
   },
   "outputs": [],
   "source": [
    "import os\n",
    "os.environ['LD_LIBRARY_PATH'] = '/opt/conda/lib:/opt/kaldi/tools/openfst-1.6.7/lib:/opt/kaldi/src/lib'"
   ]
  },
  {
   "cell_type": "code",
   "execution_count": 8,
   "id": "latin-construction",
   "metadata": {
    "execution": {
     "iopub.execute_input": "2021-05-26T13:49:36.028015Z",
     "iopub.status.busy": "2021-05-26T13:49:36.027121Z",
     "iopub.status.idle": "2021-05-26T13:49:37.339051Z",
     "shell.execute_reply": "2021-05-26T13:49:37.338536Z",
     "shell.execute_reply.started": "2021-05-25T17:41:52.084223Z"
    },
    "papermill": {
     "duration": 1.334212,
     "end_time": "2021-05-26T13:49:37.339181",
     "exception": false,
     "start_time": "2021-05-26T13:49:36.004969",
     "status": "completed"
    },
    "tags": []
   },
   "outputs": [],
   "source": [
    "!cat path.sh|sed -e 's/~\\/apps/\\/opt/' > tmp\n",
    "!mv tmp path.sh"
   ]
  },
  {
   "cell_type": "code",
   "execution_count": 9,
   "id": "complicated-orientation",
   "metadata": {
    "execution": {
     "iopub.execute_input": "2021-05-26T13:49:37.374278Z",
     "iopub.status.busy": "2021-05-26T13:49:37.370732Z",
     "iopub.status.idle": "2021-05-26T13:49:38.003644Z",
     "shell.execute_reply": "2021-05-26T13:49:38.003107Z",
     "shell.execute_reply.started": "2021-05-25T17:41:53.567245Z"
    },
    "papermill": {
     "duration": 0.650459,
     "end_time": "2021-05-26T13:49:38.003792",
     "exception": false,
     "start_time": "2021-05-26T13:49:37.353333",
     "status": "completed"
    },
    "tags": []
   },
   "outputs": [],
   "source": [
    "!echo > local_clarin/clarin_pl_clean.sh"
   ]
  },
  {
   "cell_type": "code",
   "execution_count": 10,
   "id": "electronic-breakdown",
   "metadata": {
    "execution": {
     "iopub.execute_input": "2021-05-26T13:49:38.040889Z",
     "iopub.status.busy": "2021-05-26T13:49:38.040167Z",
     "iopub.status.idle": "2021-05-26T13:49:40.592816Z",
     "shell.execute_reply": "2021-05-26T13:49:40.592280Z",
     "shell.execute_reply.started": "2021-05-25T17:41:54.312456Z"
    },
    "papermill": {
     "duration": 2.573725,
     "end_time": "2021-05-26T13:49:40.592953",
     "exception": false,
     "start_time": "2021-05-26T13:49:38.019228",
     "status": "completed"
    },
    "tags": []
   },
   "outputs": [],
   "source": [
    "!ln -s ../wsj/s5/steps\n",
    "!ln -s ../wsj/s5/conf\n",
    "!ln -s ../wsj/s5/local\n",
    "!ln -s ../wsj/s5/utils"
   ]
  },
  {
   "cell_type": "code",
   "execution_count": 11,
   "id": "active-provider",
   "metadata": {
    "execution": {
     "iopub.execute_input": "2021-05-26T13:49:40.629372Z",
     "iopub.status.busy": "2021-05-26T13:49:40.628501Z",
     "iopub.status.idle": "2021-05-26T13:51:21.384102Z",
     "shell.execute_reply": "2021-05-26T13:51:21.383109Z",
     "shell.execute_reply.started": "2021-05-25T17:41:57.206175Z"
    },
    "papermill": {
     "duration": 100.777227,
     "end_time": "2021-05-26T13:51:21.384249",
     "exception": false,
     "start_time": "2021-05-26T13:49:40.607022",
     "status": "completed"
    },
    "tags": []
   },
   "outputs": [],
   "source": [
    "!cp -r /kaggle/input/kaldi-clarinstudio-polish-decode-gmm/data /kaggle/working/\n",
    "!cp -r /kaggle/input/kaldi-clarinstudio-polish-decode-gmm/exp /kaggle/working/"
   ]
  },
  {
   "cell_type": "code",
   "execution_count": 12,
   "id": "changed-flood",
   "metadata": {
    "execution": {
     "iopub.execute_input": "2021-05-26T13:51:27.861219Z",
     "iopub.status.busy": "2021-05-26T13:51:27.860261Z",
     "iopub.status.idle": "2021-05-26T13:51:29.306176Z",
     "shell.execute_reply": "2021-05-26T13:51:29.305684Z",
     "shell.execute_reply.started": "2021-05-25T17:43:40.959798Z"
    },
    "papermill": {
     "duration": 1.643505,
     "end_time": "2021-05-26T13:51:29.306304",
     "exception": false,
     "start_time": "2021-05-26T13:51:27.662799",
     "status": "completed"
    },
    "tags": []
   },
   "outputs": [],
   "source": [
    "!ln -s /kaggle/working/exp\n",
    "!ln -s /kaggle/working/data"
   ]
  },
  {
   "cell_type": "code",
   "execution_count": 13,
   "id": "critical-reggae",
   "metadata": {
    "execution": {
     "iopub.execute_input": "2021-05-26T13:51:29.340211Z",
     "iopub.status.busy": "2021-05-26T13:51:29.339292Z",
     "iopub.status.idle": "2021-05-26T13:51:29.344069Z",
     "shell.execute_reply": "2021-05-26T13:51:29.343548Z",
     "shell.execute_reply.started": "2021-05-25T17:43:42.408401Z"
    },
    "papermill": {
     "duration": 0.023356,
     "end_time": "2021-05-26T13:51:29.344175",
     "exception": false,
     "start_time": "2021-05-26T13:51:29.320819",
     "status": "completed"
    },
    "tags": []
   },
   "outputs": [
    {
     "name": "stdout",
     "output_type": "stream",
     "text": [
      "Overwriting run.sh\n"
     ]
    }
   ],
   "source": [
    "%%writefile run.sh\n",
    ". path.sh\n",
    "\n",
    "export nj=40 ##number of concurrent processes\n",
    "export nj_test=30 ## number of concurrent processes for test has to be <=30\n",
    "\n",
    "#Performing tests on all the above systems:\n",
    "\n",
    "./local/nnet3/run_ivector_common.sh --nj $nj_test --train_set train --test_sets test --gmm tri3b\n",
    "\n",
    "./local_clarin/clarin_tdnn.sh\n",
    "steps/nnet3/decode.sh --nj $nj_test --num-threads 4 --online-ivector-dir exp/nnet3/ivectors_test_hires \\\n",
    "          exp/tri3b/graph data/test_hires exp/nnet3/tdnn1a_sp/decode\n",
    "./steps/oracle_wer.sh data/test_hires data/lang exp/nnet3/tdnn1a_sp/decode\n",
    "./steps/lmrescore_const_arpa.sh data/lang_test data/lang_carpa data/test_hires exp/nnet3/tdnn1a_sp/decode exp/nnet3/tdnn1a_sp/decode_rs\n",
    "\n",
    "# Same as above but using the chain framework - trains about the same, works much faster as has lower WER\n",
    "./local_clarin/clarin_chain_tdnn.sh\n",
    "./steps/oracle_wer.sh data/test_hires data/lang exp/chain/tdnn1f_sp/decode\n",
    "./steps/lmrescore_const_arpa.sh data/lang_test data/lang_carpa data/test_hires exp/chain/tdnn1f_sp/decode exp/chain/tdnn1f_sp/decode_rs\n",
    "\n",
    "# Getting results\n",
    "find exp -name best_wer | while read f ; do cat $f ; done | sort -k2nr\n",
    "find exp -name oracle_wer | while read f ; do echo -n \"$f: \" ; cat $f ; done | sort -k2nr"
   ]
  },
  {
   "cell_type": "code",
   "execution_count": 14,
   "id": "million-chick",
   "metadata": {
    "execution": {
     "iopub.execute_input": "2021-05-26T13:51:29.379509Z",
     "iopub.status.busy": "2021-05-26T13:51:29.375163Z",
     "iopub.status.idle": "2021-05-26T13:51:30.226483Z",
     "shell.execute_reply": "2021-05-26T13:51:30.225978Z"
    },
    "papermill": {
     "duration": 0.868617,
     "end_time": "2021-05-26T13:51:30.226612",
     "exception": false,
     "start_time": "2021-05-26T13:51:29.357995",
     "status": "completed"
    },
    "tags": []
   },
   "outputs": [
    {
     "name": "stdout",
     "output_type": "stream",
     "text": [
      "./local/nnet3/run_ivector_common.sh: expected file exp/tri3b/final.mdl to exist\r\n",
      "./local_clarin/clarin_tdnn.sh: expected file data/train_sp_hires/feats.scp to exist\r\n",
      "steps/nnet3/decode.sh --nj 30 --num-threads 4 --online-ivector-dir exp/nnet3/ivectors_test_hires exp/tri3b/graph data/test_hires exp/nnet3/tdnn1a_sp/decode\r\n",
      "steps/nnet2/check_ivectors_compatible.sh: WARNING: The directories do not contain iVector ID.\r\n",
      "steps/nnet2/check_ivectors_compatible.sh: WARNING: That means it's you who's reponsible for keeping \r\n",
      "steps/nnet2/check_ivectors_compatible.sh: WARNING: the directories compatible\r\n",
      "steps/nnet3/decode.sh: no such file data/test_hires/feats.scp\r\n",
      "./steps/oracle_wer.sh data/test_hires data/lang exp/nnet3/tdnn1a_sp/decode\r\n",
      "./steps/oracle_wer.sh: expected file data/test_hires/text to exist\r\n",
      "./steps/lmrescore_const_arpa.sh data/lang_test data/lang_carpa data/test_hires exp/nnet3/tdnn1a_sp/decode exp/nnet3/tdnn1a_sp/decode_rs\r\n",
      "ls: cannot access 'exp/nnet3/tdnn1a_sp/decode/lat.*.gz': No such file or directory\r\n",
      "./steps/lmrescore_const_arpa.sh: No lattices input directory exp/nnet3/tdnn1a_sp/decode\r\n",
      "./local_clarin/clarin_chain_tdnn.sh \r\n",
      "./local_clarin/clarin_chain_tdnn.sh: expected file data/train_sp_hires/feats.scp to exist\r\n",
      "./steps/oracle_wer.sh data/test_hires data/lang exp/chain/tdnn1f_sp/decode\r\n",
      "./steps/oracle_wer.sh: expected file data/test_hires/text to exist\r\n",
      "./steps/lmrescore_const_arpa.sh data/lang_test data/lang_carpa data/test_hires exp/chain/tdnn1f_sp/decode exp/chain/tdnn1f_sp/decode_rs\r\n",
      "ls: cannot access 'exp/chain/tdnn1f_sp/decode/lat.*.gz': No such file or directory\r\n",
      "./steps/lmrescore_const_arpa.sh: No lattices input directory exp/chain/tdnn1f_sp/decode\r\n"
     ]
    }
   ],
   "source": [
    "!bash run.sh"
   ]
  }
 ],
 "metadata": {
  "kernelspec": {
   "display_name": "Python 3",
   "language": "python",
   "name": "python3"
  },
  "language_info": {
   "codemirror_mode": {
    "name": "ipython",
    "version": 3
   },
   "file_extension": ".py",
   "mimetype": "text/x-python",
   "name": "python",
   "nbconvert_exporter": "python",
   "pygments_lexer": "ipython3",
   "version": "3.7.10"
  },
  "papermill": {
   "default_parameters": {},
   "duration": 311.606216,
   "end_time": "2021-05-26T13:51:30.850524",
   "environment_variables": {},
   "exception": null,
   "input_path": "__notebook__.ipynb",
   "output_path": "__notebook__.ipynb",
   "parameters": {},
   "start_time": "2021-05-26T13:46:19.244308",
   "version": "2.3.3"
  }
 },
 "nbformat": 4,
 "nbformat_minor": 5
}
