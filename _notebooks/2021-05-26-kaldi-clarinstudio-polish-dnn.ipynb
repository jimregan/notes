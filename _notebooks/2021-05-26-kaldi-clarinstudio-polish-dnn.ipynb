{
 "cells": [
  {
   "cell_type": "code",
   "execution_count": 1,
   "id": "academic-security",
   "metadata": {
    "execution": {
     "iopub.execute_input": "2021-05-26T14:28:42.786553Z",
     "iopub.status.busy": "2021-05-26T14:28:42.786080Z",
     "iopub.status.idle": "2021-05-26T14:28:42.792257Z",
     "shell.execute_reply": "2021-05-26T14:28:42.791783Z",
     "shell.execute_reply.started": "2021-05-25T17:38:41.257731Z"
    },
    "papermill": {
     "duration": 0.02747,
     "end_time": "2021-05-26T14:28:42.792380",
     "exception": false,
     "start_time": "2021-05-26T14:28:42.764910",
     "status": "completed"
    },
    "tags": []
   },
   "outputs": [
    {
     "name": "stdout",
     "output_type": "stream",
     "text": [
      "/opt\n"
     ]
    }
   ],
   "source": [
    "%cd /opt"
   ]
  },
  {
   "cell_type": "code",
   "execution_count": 2,
   "id": "stupid-thing",
   "metadata": {
    "_cell_guid": "b1076dfc-b9ad-4769-8c92-a6c4dae69d19",
    "_uuid": "8f2839f25d086af736a60e9eeb907d3b93b6e0e5",
    "execution": {
     "iopub.execute_input": "2021-05-26T14:28:42.820088Z",
     "iopub.status.busy": "2021-05-26T14:28:42.819515Z",
     "iopub.status.idle": "2021-05-26T14:29:24.319405Z",
     "shell.execute_reply": "2021-05-26T14:29:24.318947Z",
     "shell.execute_reply.started": "2021-05-25T17:38:41.278229Z"
    },
    "papermill": {
     "duration": 41.51612,
     "end_time": "2021-05-26T14:29:24.319539",
     "exception": false,
     "start_time": "2021-05-26T14:28:42.803419",
     "status": "completed"
    },
    "tags": []
   },
   "outputs": [],
   "source": [
    "%%capture\n",
    "!tar xvf /kaggle/input/extract-prebuilt-kaldi-from-docker/kaldi.tar"
   ]
  },
  {
   "cell_type": "code",
   "execution_count": 3,
   "id": "electoral-trailer",
   "metadata": {
    "execution": {
     "iopub.execute_input": "2021-05-26T14:29:24.345437Z",
     "iopub.status.busy": "2021-05-26T14:29:24.344948Z",
     "iopub.status.idle": "2021-05-26T14:29:24.350097Z",
     "shell.execute_reply": "2021-05-26T14:29:24.350669Z",
     "shell.execute_reply.started": "2021-05-25T17:39:29.136058Z"
    },
    "papermill": {
     "duration": 0.020144,
     "end_time": "2021-05-26T14:29:24.350828",
     "exception": false,
     "start_time": "2021-05-26T14:29:24.330684",
     "status": "completed"
    },
    "tags": []
   },
   "outputs": [
    {
     "name": "stdout",
     "output_type": "stream",
     "text": [
      "/opt/kaldi/egs\n"
     ]
    }
   ],
   "source": [
    "%cd kaldi/egs"
   ]
  },
  {
   "cell_type": "code",
   "execution_count": 4,
   "id": "decreased-vegetarian",
   "metadata": {
    "execution": {
     "iopub.execute_input": "2021-05-26T14:29:24.377466Z",
     "iopub.status.busy": "2021-05-26T14:29:24.376786Z",
     "iopub.status.idle": "2021-05-26T14:29:31.710742Z",
     "shell.execute_reply": "2021-05-26T14:29:31.710278Z",
     "shell.execute_reply.started": "2021-05-25T17:39:29.147976Z"
    },
    "papermill": {
     "duration": 7.348509,
     "end_time": "2021-05-26T14:29:31.710873",
     "exception": false,
     "start_time": "2021-05-26T14:29:24.362364",
     "status": "completed"
    },
    "tags": []
   },
   "outputs": [
    {
     "name": "stdout",
     "output_type": "stream",
     "text": [
      "Cloning into 'ClarinStudioKaldi'...\r\n",
      "remote: Enumerating objects: 778, done.\u001b[K\r\n",
      "remote: Counting objects: 100% (3/3), done.\u001b[K\r\n",
      "remote: Compressing objects: 100% (3/3), done.\u001b[K\r\n",
      "remote: Total 778 (delta 0), reused 0 (delta 0), pack-reused 775\u001b[K\r\n",
      "Receiving objects: 100% (778/778), 35.26 MiB | 19.12 MiB/s, done.\r\n",
      "Resolving deltas: 100% (262/262), done.\r\n"
     ]
    }
   ],
   "source": [
    "!git clone https://github.com/danijel3/ClarinStudioKaldi"
   ]
  },
  {
   "cell_type": "code",
   "execution_count": 5,
   "id": "stock-craps",
   "metadata": {
    "execution": {
     "iopub.execute_input": "2021-05-26T14:29:31.745515Z",
     "iopub.status.busy": "2021-05-26T14:29:31.744847Z",
     "iopub.status.idle": "2021-05-26T14:29:31.748231Z",
     "shell.execute_reply": "2021-05-26T14:29:31.748613Z",
     "shell.execute_reply.started": "2021-05-25T17:39:33.484146Z"
    },
    "papermill": {
     "duration": 0.023409,
     "end_time": "2021-05-26T14:29:31.748771",
     "exception": false,
     "start_time": "2021-05-26T14:29:31.725362",
     "status": "completed"
    },
    "tags": []
   },
   "outputs": [
    {
     "name": "stdout",
     "output_type": "stream",
     "text": [
      "/opt/kaldi/egs/ClarinStudioKaldi\n"
     ]
    }
   ],
   "source": [
    "%cd ClarinStudioKaldi"
   ]
  },
  {
   "cell_type": "code",
   "execution_count": 6,
   "id": "protective-class",
   "metadata": {
    "execution": {
     "iopub.execute_input": "2021-05-26T14:29:31.781906Z",
     "iopub.status.busy": "2021-05-26T14:29:31.781191Z",
     "iopub.status.idle": "2021-05-26T14:32:00.493586Z",
     "shell.execute_reply": "2021-05-26T14:32:00.492642Z",
     "shell.execute_reply.started": "2021-05-25T17:39:33.493317Z"
    },
    "papermill": {
     "duration": 148.73094,
     "end_time": "2021-05-26T14:32:00.493763",
     "exception": false,
     "start_time": "2021-05-26T14:29:31.762823",
     "status": "completed"
    },
    "tags": []
   },
   "outputs": [],
   "source": [
    "%%capture\n",
    "!conda install -c bioconda perl-perlio-gzip -y"
   ]
  },
  {
   "cell_type": "code",
   "execution_count": 7,
   "id": "editorial-italy",
   "metadata": {
    "execution": {
     "iopub.execute_input": "2021-05-26T14:32:00.527649Z",
     "iopub.status.busy": "2021-05-26T14:32:00.526873Z",
     "iopub.status.idle": "2021-05-26T14:32:00.529133Z",
     "shell.execute_reply": "2021-05-26T14:32:00.529494Z",
     "shell.execute_reply.started": "2021-05-25T17:41:52.076269Z"
    },
    "papermill": {
     "duration": 0.020957,
     "end_time": "2021-05-26T14:32:00.529644",
     "exception": false,
     "start_time": "2021-05-26T14:32:00.508687",
     "status": "completed"
    },
    "tags": []
   },
   "outputs": [],
   "source": [
    "import os\n",
    "os.environ['LD_LIBRARY_PATH'] = '/opt/conda/lib:/opt/kaldi/tools/openfst-1.6.7/lib:/opt/kaldi/src/lib'"
   ]
  },
  {
   "cell_type": "code",
   "execution_count": 8,
   "id": "extended-cabinet",
   "metadata": {
    "execution": {
     "iopub.execute_input": "2021-05-26T14:32:00.566843Z",
     "iopub.status.busy": "2021-05-26T14:32:00.562351Z",
     "iopub.status.idle": "2021-05-26T14:32:01.832426Z",
     "shell.execute_reply": "2021-05-26T14:32:01.831599Z",
     "shell.execute_reply.started": "2021-05-25T17:41:52.084223Z"
    },
    "papermill": {
     "duration": 1.288511,
     "end_time": "2021-05-26T14:32:01.832561",
     "exception": false,
     "start_time": "2021-05-26T14:32:00.544050",
     "status": "completed"
    },
    "tags": []
   },
   "outputs": [],
   "source": [
    "!cat path.sh|sed -e 's/~\\/apps/\\/opt/' > tmp\n",
    "!mv tmp path.sh"
   ]
  },
  {
   "cell_type": "code",
   "execution_count": 9,
   "id": "spoken-baking",
   "metadata": {
    "execution": {
     "iopub.execute_input": "2021-05-26T14:32:01.869352Z",
     "iopub.status.busy": "2021-05-26T14:32:01.868391Z",
     "iopub.status.idle": "2021-05-26T14:32:02.500158Z",
     "shell.execute_reply": "2021-05-26T14:32:02.499652Z",
     "shell.execute_reply.started": "2021-05-25T17:41:53.567245Z"
    },
    "papermill": {
     "duration": 0.653162,
     "end_time": "2021-05-26T14:32:02.500280",
     "exception": false,
     "start_time": "2021-05-26T14:32:01.847118",
     "status": "completed"
    },
    "tags": []
   },
   "outputs": [],
   "source": [
    "!echo > local_clarin/clarin_pl_clean.sh"
   ]
  },
  {
   "cell_type": "code",
   "execution_count": 10,
   "id": "studied-ambassador",
   "metadata": {
    "execution": {
     "iopub.execute_input": "2021-05-26T14:32:02.540289Z",
     "iopub.status.busy": "2021-05-26T14:32:02.539432Z",
     "iopub.status.idle": "2021-05-26T14:32:05.153444Z",
     "shell.execute_reply": "2021-05-26T14:32:05.152949Z",
     "shell.execute_reply.started": "2021-05-25T17:41:54.312456Z"
    },
    "papermill": {
     "duration": 2.638245,
     "end_time": "2021-05-26T14:32:05.153564",
     "exception": false,
     "start_time": "2021-05-26T14:32:02.515319",
     "status": "completed"
    },
    "tags": []
   },
   "outputs": [],
   "source": [
    "!ln -s ../wsj/s5/steps\n",
    "!ln -s ../wsj/s5/conf\n",
    "!ln -s ../wsj/s5/local\n",
    "!ln -s ../wsj/s5/utils"
   ]
  },
  {
   "cell_type": "code",
   "execution_count": 11,
   "id": "hispanic-copyright",
   "metadata": {
    "execution": {
     "iopub.execute_input": "2021-05-26T14:32:05.192287Z",
     "iopub.status.busy": "2021-05-26T14:32:05.188442Z",
     "iopub.status.idle": "2021-05-26T14:34:21.058090Z",
     "shell.execute_reply": "2021-05-26T14:34:21.057161Z",
     "shell.execute_reply.started": "2021-05-25T17:41:57.206175Z"
    },
    "papermill": {
     "duration": 135.88933,
     "end_time": "2021-05-26T14:34:21.058251",
     "exception": false,
     "start_time": "2021-05-26T14:32:05.168921",
     "status": "completed"
    },
    "tags": []
   },
   "outputs": [],
   "source": [
    "!cp -r /kaggle/input/kaldi-clarinstudio-polish-decode-gmm/data /kaggle/working/\n",
    "!cp -r /kaggle/input/kaldi-clarinstudio-polish-decode-gmm/exp /kaggle/working/"
   ]
  },
  {
   "cell_type": "code",
   "execution_count": 12,
   "id": "separated-pendant",
   "metadata": {
    "execution": {
     "iopub.execute_input": "2021-05-26T14:34:22.561593Z",
     "iopub.status.busy": "2021-05-26T14:34:22.560628Z",
     "iopub.status.idle": "2021-05-26T14:34:23.791544Z",
     "shell.execute_reply": "2021-05-26T14:34:23.791036Z",
     "shell.execute_reply.started": "2021-05-25T17:43:40.959798Z"
    },
    "papermill": {
     "duration": 2.707958,
     "end_time": "2021-05-26T14:34:23.791701",
     "exception": false,
     "start_time": "2021-05-26T14:34:21.083743",
     "status": "completed"
    },
    "tags": []
   },
   "outputs": [],
   "source": [
    "!ln -s /kaggle/working/exp\n",
    "!ln -s /kaggle/working/data"
   ]
  },
  {
   "cell_type": "code",
   "execution_count": 13,
   "id": "offshore-forest",
   "metadata": {
    "execution": {
     "iopub.execute_input": "2021-05-26T14:34:23.831572Z",
     "iopub.status.busy": "2021-05-26T14:34:23.827258Z",
     "iopub.status.idle": "2021-05-26T14:34:25.108486Z",
     "shell.execute_reply": "2021-05-26T14:34:25.108035Z"
    },
    "papermill": {
     "duration": 1.30107,
     "end_time": "2021-05-26T14:34:25.108635",
     "exception": false,
     "start_time": "2021-05-26T14:34:23.807565",
     "status": "completed"
    },
    "tags": []
   },
   "outputs": [],
   "source": [
    "!cp exp/tri3b/35.mdl exp/tri3b/final.mdl\n",
    "!cp exp/tri3b/35.occs exp/tri3b/final.occs"
   ]
  },
  {
   "cell_type": "code",
   "execution_count": 14,
   "id": "abandoned-diabetes",
   "metadata": {
    "execution": {
     "iopub.execute_input": "2021-05-26T14:34:25.144128Z",
     "iopub.status.busy": "2021-05-26T14:34:25.143280Z",
     "iopub.status.idle": "2021-05-26T14:34:25.147534Z",
     "shell.execute_reply": "2021-05-26T14:34:25.147943Z",
     "shell.execute_reply.started": "2021-05-25T17:43:42.408401Z"
    },
    "papermill": {
     "duration": 0.024564,
     "end_time": "2021-05-26T14:34:25.148079",
     "exception": false,
     "start_time": "2021-05-26T14:34:25.123515",
     "status": "completed"
    },
    "tags": []
   },
   "outputs": [
    {
     "name": "stdout",
     "output_type": "stream",
     "text": [
      "Overwriting run.sh\n"
     ]
    }
   ],
   "source": [
    "%%writefile run.sh\n",
    ". path.sh\n",
    "\n",
    "export nj=40 ##number of concurrent processes\n",
    "export nj_test=30 ## number of concurrent processes for test has to be <=30\n",
    "\n",
    "#Performing tests on all the above systems:\n",
    "\n",
    "./local/nnet3/run_ivector_common.sh --nj $nj_test --train_set train --test_sets test --gmm tri3b\n",
    "\n",
    "./local_clarin/clarin_tdnn.sh\n",
    "steps/nnet3/decode.sh --nj $nj_test --num-threads 4 --online-ivector-dir exp/nnet3/ivectors_test_hires \\\n",
    "          exp/tri3b/graph data/test_hires exp/nnet3/tdnn1a_sp/decode\n",
    "./steps/oracle_wer.sh data/test_hires data/lang exp/nnet3/tdnn1a_sp/decode\n",
    "./steps/lmrescore_const_arpa.sh data/lang_test data/lang_carpa data/test_hires exp/nnet3/tdnn1a_sp/decode exp/nnet3/tdnn1a_sp/decode_rs\n",
    "\n",
    "# Same as above but using the chain framework - trains about the same, works much faster as has lower WER\n",
    "./local_clarin/clarin_chain_tdnn.sh\n",
    "./steps/oracle_wer.sh data/test_hires data/lang exp/chain/tdnn1f_sp/decode\n",
    "./steps/lmrescore_const_arpa.sh data/lang_test data/lang_carpa data/test_hires exp/chain/tdnn1f_sp/decode exp/chain/tdnn1f_sp/decode_rs\n",
    "\n",
    "# Getting results\n",
    "find exp -name best_wer | while read f ; do cat $f ; done | sort -k2nr\n",
    "find exp -name oracle_wer | while read f ; do echo -n \"$f: \" ; cat $f ; done | sort -k2nr"
   ]
  },
  {
   "cell_type": "code",
   "execution_count": 15,
   "id": "stable-species",
   "metadata": {
    "execution": {
     "iopub.execute_input": "2021-05-26T14:34:25.185129Z",
     "iopub.status.busy": "2021-05-26T14:34:25.180784Z",
     "iopub.status.idle": "2021-05-26T14:34:26.064634Z",
     "shell.execute_reply": "2021-05-26T14:34:26.064170Z"
    },
    "papermill": {
     "duration": 0.90194,
     "end_time": "2021-05-26T14:34:26.064768",
     "exception": false,
     "start_time": "2021-05-26T14:34:25.162828",
     "status": "completed"
    },
    "tags": []
   },
   "outputs": [
    {
     "name": "stdout",
     "output_type": "stream",
     "text": [
      "./local/nnet3/run_ivector_common.sh: preparing directory for low-resolution speed-perturbed data (for alignment)\r\n",
      "utils/data/perturb_data_dir_speed_3way.sh: making sure the utt2dur and the reco2dur files are present\r\n",
      "... in data/train, because obtaining it after speed-perturbing\r\n",
      "... would be very slow, and you might need them.\r\n",
      "utils/data/get_utt2dur.sh: data/train/utt2dur already exists with the expected length.  We won't recompute it.\r\n",
      "utils/data/get_reco2dur.sh: data/train/wav.scp indexed by utt-id; copying utt2dur to reco2dur\r\n",
      "sox: command not found\r\n",
      "./local_clarin/clarin_tdnn.sh: expected file data/train_sp_hires/feats.scp to exist\r\n",
      "steps/nnet3/decode.sh --nj 30 --num-threads 4 --online-ivector-dir exp/nnet3/ivectors_test_hires exp/tri3b/graph data/test_hires exp/nnet3/tdnn1a_sp/decode\r\n",
      "steps/nnet2/check_ivectors_compatible.sh: WARNING: The directories do not contain iVector ID.\r\n",
      "steps/nnet2/check_ivectors_compatible.sh: WARNING: That means it's you who's reponsible for keeping \r\n",
      "steps/nnet2/check_ivectors_compatible.sh: WARNING: the directories compatible\r\n",
      "steps/nnet3/decode.sh: no such file data/test_hires/feats.scp\r\n",
      "./steps/oracle_wer.sh data/test_hires data/lang exp/nnet3/tdnn1a_sp/decode\r\n",
      "./steps/oracle_wer.sh: expected file data/test_hires/text to exist\r\n",
      "./steps/lmrescore_const_arpa.sh data/lang_test data/lang_carpa data/test_hires exp/nnet3/tdnn1a_sp/decode exp/nnet3/tdnn1a_sp/decode_rs\r\n",
      "ls: cannot access 'exp/nnet3/tdnn1a_sp/decode/lat.*.gz': No such file or directory\r\n",
      "./steps/lmrescore_const_arpa.sh: No lattices input directory exp/nnet3/tdnn1a_sp/decode\r\n",
      "./local_clarin/clarin_chain_tdnn.sh \r\n",
      "./local_clarin/clarin_chain_tdnn.sh: expected file data/train_sp_hires/feats.scp to exist\r\n",
      "./steps/oracle_wer.sh data/test_hires data/lang exp/chain/tdnn1f_sp/decode\r\n",
      "./steps/oracle_wer.sh: expected file data/test_hires/text to exist\r\n",
      "./steps/lmrescore_const_arpa.sh data/lang_test data/lang_carpa data/test_hires exp/chain/tdnn1f_sp/decode exp/chain/tdnn1f_sp/decode_rs\r\n",
      "ls: cannot access 'exp/chain/tdnn1f_sp/decode/lat.*.gz': No such file or directory\r\n",
      "./steps/lmrescore_const_arpa.sh: No lattices input directory exp/chain/tdnn1f_sp/decode\r\n"
     ]
    }
   ],
   "source": [
    "!bash run.sh"
   ]
  }
 ],
 "metadata": {
  "kernelspec": {
   "display_name": "Python 3",
   "language": "python",
   "name": "python3"
  },
  "language_info": {
   "codemirror_mode": {
    "name": "ipython",
    "version": 3
   },
   "file_extension": ".py",
   "mimetype": "text/x-python",
   "name": "python",
   "nbconvert_exporter": "python",
   "pygments_lexer": "ipython3",
   "version": "3.7.10"
  },
  "papermill": {
   "default_parameters": {},
   "duration": 350.283839,
   "end_time": "2021-05-26T14:34:26.590110",
   "environment_variables": {},
   "exception": null,
   "input_path": "__notebook__.ipynb",
   "output_path": "__notebook__.ipynb",
   "parameters": {},
   "start_time": "2021-05-26T14:28:36.306271",
   "version": "2.3.3"
  }
 },
 "nbformat": 4,
 "nbformat_minor": 5
}
