{
 "cells": [
  {
   "cell_type": "code",
   "execution_count": 1,
   "id": "bibliographic-marathon",
   "metadata": {
    "execution": {
     "iopub.execute_input": "2021-06-04T11:16:12.452885Z",
     "iopub.status.busy": "2021-06-04T11:16:12.452364Z",
     "iopub.status.idle": "2021-06-04T11:16:12.458630Z",
     "shell.execute_reply": "2021-06-04T11:16:12.458145Z",
     "shell.execute_reply.started": "2021-05-27T08:45:21.860805Z"
    },
    "papermill": {
     "duration": 0.029955,
     "end_time": "2021-06-04T11:16:12.458758",
     "exception": false,
     "start_time": "2021-06-04T11:16:12.428803",
     "status": "completed"
    },
    "tags": []
   },
   "outputs": [
    {
     "name": "stdout",
     "output_type": "stream",
     "text": [
      "/opt\n"
     ]
    }
   ],
   "source": [
    "%cd /opt"
   ]
  },
  {
   "cell_type": "code",
   "execution_count": 2,
   "id": "maritime-manitoba",
   "metadata": {
    "execution": {
     "iopub.execute_input": "2021-06-04T11:16:12.487974Z",
     "iopub.status.busy": "2021-06-04T11:16:12.487475Z",
     "iopub.status.idle": "2021-06-04T11:16:13.112744Z",
     "shell.execute_reply": "2021-06-04T11:16:13.112287Z",
     "shell.execute_reply.started": "2021-05-27T08:49:38.587474Z"
    },
    "papermill": {
     "duration": 0.641246,
     "end_time": "2021-06-04T11:16:13.112874",
     "exception": false,
     "start_time": "2021-06-04T11:16:12.471628",
     "status": "completed"
    },
    "tags": []
   },
   "outputs": [
    {
     "name": "stdout",
     "output_type": "stream",
     "text": [
      "Untarring Kaldi\r\n"
     ]
    }
   ],
   "source": [
    "!echo Untarring Kaldi"
   ]
  },
  {
   "cell_type": "code",
   "execution_count": 3,
   "id": "going-match",
   "metadata": {
    "_cell_guid": "b1076dfc-b9ad-4769-8c92-a6c4dae69d19",
    "_uuid": "8f2839f25d086af736a60e9eeb907d3b93b6e0e5",
    "execution": {
     "iopub.execute_input": "2021-06-04T11:16:13.145310Z",
     "iopub.status.busy": "2021-06-04T11:16:13.144605Z",
     "iopub.status.idle": "2021-06-04T11:16:29.283356Z",
     "shell.execute_reply": "2021-06-04T11:16:29.282810Z",
     "shell.execute_reply.started": "2021-05-27T08:49:41.295876Z"
    },
    "papermill": {
     "duration": 16.1573,
     "end_time": "2021-06-04T11:16:29.283495",
     "exception": false,
     "start_time": "2021-06-04T11:16:13.126195",
     "status": "completed"
    },
    "tags": []
   },
   "outputs": [],
   "source": [
    "%%capture\n",
    "!tar xvf /kaggle/input/compile-kaldi/kaldi.tar"
   ]
  },
  {
   "cell_type": "code",
   "execution_count": 4,
   "id": "monetary-mainland",
   "metadata": {
    "execution": {
     "iopub.execute_input": "2021-06-04T11:16:29.328521Z",
     "iopub.status.busy": "2021-06-04T11:16:29.327160Z",
     "iopub.status.idle": "2021-06-04T11:16:29.331266Z",
     "shell.execute_reply": "2021-06-04T11:16:29.330850Z",
     "shell.execute_reply.started": "2021-05-27T08:50:19.586455Z"
    },
    "papermill": {
     "duration": 0.025286,
     "end_time": "2021-06-04T11:16:29.331377",
     "exception": false,
     "start_time": "2021-06-04T11:16:29.306091",
     "status": "completed"
    },
    "tags": []
   },
   "outputs": [
    {
     "name": "stdout",
     "output_type": "stream",
     "text": [
      "/opt/kaldi/egs\n"
     ]
    }
   ],
   "source": [
    "%cd kaldi/egs"
   ]
  },
  {
   "cell_type": "code",
   "execution_count": 5,
   "id": "digital-device",
   "metadata": {
    "execution": {
     "iopub.execute_input": "2021-06-04T11:16:29.364482Z",
     "iopub.status.busy": "2021-06-04T11:16:29.363761Z",
     "iopub.status.idle": "2021-06-04T11:16:34.055797Z",
     "shell.execute_reply": "2021-06-04T11:16:34.055297Z",
     "shell.execute_reply.started": "2021-05-27T08:50:19.595169Z"
    },
    "papermill": {
     "duration": 4.709815,
     "end_time": "2021-06-04T11:16:34.055936",
     "exception": false,
     "start_time": "2021-06-04T11:16:29.346121",
     "status": "completed"
    },
    "tags": []
   },
   "outputs": [
    {
     "name": "stdout",
     "output_type": "stream",
     "text": [
      "Cloning into 'ClarinStudioKaldi'...\r\n",
      "remote: Enumerating objects: 778, done.\u001b[K\r\n",
      "remote: Counting objects: 100% (3/3), done.\u001b[K\r\n",
      "remote: Compressing objects: 100% (3/3), done.\u001b[K\r\n",
      "remote: Total 778 (delta 0), reused 0 (delta 0), pack-reused 775\u001b[K\r\n",
      "Receiving objects: 100% (778/778), 35.26 MiB | 17.17 MiB/s, done.\r\n",
      "Resolving deltas: 100% (262/262), done.\r\n"
     ]
    }
   ],
   "source": [
    "!git clone https://github.com/danijel3/ClarinStudioKaldi"
   ]
  },
  {
   "cell_type": "code",
   "execution_count": 6,
   "id": "completed-heading",
   "metadata": {
    "execution": {
     "iopub.execute_input": "2021-06-04T11:16:34.093526Z",
     "iopub.status.busy": "2021-06-04T11:16:34.092935Z",
     "iopub.status.idle": "2021-06-04T11:16:34.098924Z",
     "shell.execute_reply": "2021-06-04T11:16:34.098373Z",
     "shell.execute_reply.started": "2021-05-27T08:50:26.782487Z"
    },
    "papermill": {
     "duration": 0.026292,
     "end_time": "2021-06-04T11:16:34.099096",
     "exception": false,
     "start_time": "2021-06-04T11:16:34.072804",
     "status": "completed"
    },
    "tags": []
   },
   "outputs": [
    {
     "name": "stdout",
     "output_type": "stream",
     "text": [
      "/opt/kaldi/egs/ClarinStudioKaldi\n"
     ]
    }
   ],
   "source": [
    "%cd ClarinStudioKaldi"
   ]
  },
  {
   "cell_type": "code",
   "execution_count": 7,
   "id": "contemporary-headquarters",
   "metadata": {
    "execution": {
     "iopub.execute_input": "2021-06-04T11:16:34.135367Z",
     "iopub.status.busy": "2021-06-04T11:16:34.134716Z",
     "iopub.status.idle": "2021-06-04T11:16:34.137558Z",
     "shell.execute_reply": "2021-06-04T11:16:34.137156Z"
    },
    "papermill": {
     "duration": 0.022048,
     "end_time": "2021-06-04T11:16:34.137661",
     "exception": false,
     "start_time": "2021-06-04T11:16:34.115613",
     "status": "completed"
    },
    "tags": []
   },
   "outputs": [],
   "source": [
    "import os\n",
    "os.environ['LD_LIBRARY_PATH'] = '/opt/conda/lib:/opt/kaldi/tools/openfst-1.6.7/lib:/opt/kaldi/src/lib'"
   ]
  },
  {
   "cell_type": "code",
   "execution_count": 8,
   "id": "extended-variable",
   "metadata": {
    "execution": {
     "iopub.execute_input": "2021-06-04T11:16:34.174295Z",
     "iopub.status.busy": "2021-06-04T11:16:34.173575Z",
     "iopub.status.idle": "2021-06-04T11:16:35.455636Z",
     "shell.execute_reply": "2021-06-04T11:16:35.456265Z",
     "shell.execute_reply.started": "2021-05-25T17:41:52.084223Z"
    },
    "papermill": {
     "duration": 1.302585,
     "end_time": "2021-06-04T11:16:35.456432",
     "exception": false,
     "start_time": "2021-06-04T11:16:34.153847",
     "status": "completed"
    },
    "tags": []
   },
   "outputs": [],
   "source": [
    "!cat path.sh|sed -e 's/~\\/apps/\\/opt/' > tmp\n",
    "!mv tmp path.sh"
   ]
  },
  {
   "cell_type": "code",
   "execution_count": 9,
   "id": "severe-decrease",
   "metadata": {
    "execution": {
     "iopub.execute_input": "2021-06-04T11:16:35.494714Z",
     "iopub.status.busy": "2021-06-04T11:16:35.493954Z",
     "iopub.status.idle": "2021-06-04T11:16:36.154205Z",
     "shell.execute_reply": "2021-06-04T11:16:36.153697Z",
     "shell.execute_reply.started": "2021-05-25T17:41:53.567245Z"
    },
    "papermill": {
     "duration": 0.681167,
     "end_time": "2021-06-04T11:16:36.154348",
     "exception": false,
     "start_time": "2021-06-04T11:16:35.473181",
     "status": "completed"
    },
    "tags": []
   },
   "outputs": [],
   "source": [
    "!echo > local_clarin/clarin_pl_clean.sh"
   ]
  },
  {
   "cell_type": "code",
   "execution_count": 10,
   "id": "prospective-scientist",
   "metadata": {
    "execution": {
     "iopub.execute_input": "2021-06-04T11:16:36.216386Z",
     "iopub.status.busy": "2021-06-04T11:16:36.213088Z",
     "iopub.status.idle": "2021-06-04T11:16:39.164862Z",
     "shell.execute_reply": "2021-06-04T11:16:39.164359Z",
     "shell.execute_reply.started": "2021-05-25T17:41:54.312456Z"
    },
    "papermill": {
     "duration": 2.994372,
     "end_time": "2021-06-04T11:16:39.165030",
     "exception": false,
     "start_time": "2021-06-04T11:16:36.170658",
     "status": "completed"
    },
    "tags": []
   },
   "outputs": [],
   "source": [
    "!ln -s ../wsj/s5/steps\n",
    "!ln -s ../wsj/s5/conf\n",
    "!ln -s ../wsj/s5/local\n",
    "!ln -s ../wsj/s5/utils"
   ]
  },
  {
   "cell_type": "code",
   "execution_count": 11,
   "id": "subsequent-gossip",
   "metadata": {
    "execution": {
     "iopub.execute_input": "2021-06-04T11:16:39.208153Z",
     "iopub.status.busy": "2021-06-04T11:16:39.204100Z",
     "iopub.status.idle": "2021-06-04T11:16:39.848249Z",
     "shell.execute_reply": "2021-06-04T11:16:39.847462Z"
    },
    "papermill": {
     "duration": 0.666006,
     "end_time": "2021-06-04T11:16:39.848382",
     "exception": false,
     "start_time": "2021-06-04T11:16:39.182376",
     "status": "completed"
    },
    "tags": []
   },
   "outputs": [
    {
     "name": "stdout",
     "output_type": "stream",
     "text": [
      "copying data and exp from last run\r\n"
     ]
    }
   ],
   "source": [
    "!echo \"copying data and exp from last run\" "
   ]
  },
  {
   "cell_type": "code",
   "execution_count": 12,
   "id": "confident-northwest",
   "metadata": {
    "execution": {
     "iopub.execute_input": "2021-06-04T11:16:39.896439Z",
     "iopub.status.busy": "2021-06-04T11:16:39.893158Z",
     "iopub.status.idle": "2021-06-04T11:19:04.756447Z",
     "shell.execute_reply": "2021-06-04T11:19:04.755574Z",
     "shell.execute_reply.started": "2021-05-25T17:41:57.206175Z"
    },
    "papermill": {
     "duration": 144.890532,
     "end_time": "2021-06-04T11:19:04.756610",
     "exception": false,
     "start_time": "2021-06-04T11:16:39.866078",
     "status": "completed"
    },
    "tags": []
   },
   "outputs": [],
   "source": [
    "!cp -r /kaggle/input/kaldi-clarinstudio-polish-ivectors/data /kaggle/working/\n",
    "!cp -r /kaggle/input/kaldi-clarinstudio-polish-ivectors/exp /kaggle/working/"
   ]
  },
  {
   "cell_type": "code",
   "execution_count": 13,
   "id": "comfortable-kenya",
   "metadata": {
    "execution": {
     "iopub.execute_input": "2021-06-04T11:19:09.037719Z",
     "iopub.status.busy": "2021-06-04T11:19:09.036913Z",
     "iopub.status.idle": "2021-06-04T11:19:10.338377Z",
     "shell.execute_reply": "2021-06-04T11:19:10.337561Z",
     "shell.execute_reply.started": "2021-05-25T17:43:40.959798Z"
    },
    "papermill": {
     "duration": 2.577072,
     "end_time": "2021-06-04T11:19:10.338584",
     "exception": false,
     "start_time": "2021-06-04T11:19:07.761512",
     "status": "completed"
    },
    "tags": []
   },
   "outputs": [],
   "source": [
    "!ln -s /kaggle/working/exp\n",
    "!ln -s /kaggle/working/data"
   ]
  },
  {
   "cell_type": "code",
   "execution_count": 14,
   "id": "failing-registrar",
   "metadata": {
    "execution": {
     "iopub.execute_input": "2021-06-04T11:19:10.488664Z",
     "iopub.status.busy": "2021-06-04T11:19:10.487816Z",
     "iopub.status.idle": "2021-06-04T11:19:12.678916Z",
     "shell.execute_reply": "2021-06-04T11:19:12.677703Z"
    },
    "papermill": {
     "duration": 2.297167,
     "end_time": "2021-06-04T11:19:12.679128",
     "exception": false,
     "start_time": "2021-06-04T11:19:10.381961",
     "status": "completed"
    },
    "tags": []
   },
   "outputs": [],
   "source": [
    "!cp exp/tri3b/35.mdl exp/tri3b/final.mdl\n",
    "!cp exp/tri3b/35.occs exp/tri3b/final.occs"
   ]
  },
  {
   "cell_type": "code",
   "execution_count": 15,
   "id": "cross-girlfriend",
   "metadata": {
    "execution": {
     "iopub.execute_input": "2021-06-04T11:19:12.755562Z",
     "iopub.status.busy": "2021-06-04T11:19:12.754724Z",
     "iopub.status.idle": "2021-06-04T11:19:13.436832Z",
     "shell.execute_reply": "2021-06-04T11:19:13.437325Z"
    },
    "papermill": {
     "duration": 0.727224,
     "end_time": "2021-06-04T11:19:13.437484",
     "exception": false,
     "start_time": "2021-06-04T11:19:12.710260",
     "status": "completed"
    },
    "tags": []
   },
   "outputs": [
    {
     "name": "stdout",
     "output_type": "stream",
     "text": [
      "Setup done\r\n"
     ]
    }
   ],
   "source": [
    "!echo Setup done"
   ]
  },
  {
   "cell_type": "code",
   "execution_count": 16,
   "id": "domestic-debate",
   "metadata": {
    "execution": {
     "iopub.execute_input": "2021-06-04T11:19:13.478831Z",
     "iopub.status.busy": "2021-06-04T11:19:13.477895Z",
     "iopub.status.idle": "2021-06-04T11:19:13.482434Z",
     "shell.execute_reply": "2021-06-04T11:19:13.481973Z",
     "shell.execute_reply.started": "2021-05-25T17:43:42.408401Z"
    },
    "papermill": {
     "duration": 0.026817,
     "end_time": "2021-06-04T11:19:13.482549",
     "exception": false,
     "start_time": "2021-06-04T11:19:13.455732",
     "status": "completed"
    },
    "tags": []
   },
   "outputs": [
    {
     "name": "stdout",
     "output_type": "stream",
     "text": [
      "Overwriting run.sh\n"
     ]
    }
   ],
   "source": [
    "%%writefile run.sh\n",
    ". path.sh\n",
    "\n",
    "export nj=40 ##number of concurrent processes\n",
    "export nj_test=30 ## number of concurrent processes for test has to be <=30\n",
    "\n",
    "./local_clarin/clarin_tdnn.sh\n",
    "steps/nnet3/decode.sh --nj $nj_test --num-threads 4 --online-ivector-dir exp/nnet3/ivectors_test_hires \\\n",
    "          exp/tri3b/graph data/test_hires exp/nnet3/tdnn1a_sp/decode\n",
    "./steps/oracle_wer.sh data/test_hires data/lang exp/nnet3/tdnn1a_sp/decode\n",
    "./steps/lmrescore_const_arpa.sh data/lang_test data/lang_carpa data/test_hires exp/nnet3/tdnn1a_sp/decode exp/nnet3/tdnn1a_sp/decode_rs\n",
    "\n",
    "# Same as above but using the chain framework - trains about the same, works much faster as has lower WER\n",
    "./local_clarin/clarin_chain_tdnn.sh\n",
    "./steps/oracle_wer.sh data/test_hires data/lang exp/chain/tdnn1f_sp/decode\n",
    "./steps/lmrescore_const_arpa.sh data/lang_test data/lang_carpa data/test_hires exp/chain/tdnn1f_sp/decode exp/chain/tdnn1f_sp/decode_rs\n",
    "\n",
    "# Getting results\n",
    "find exp -name best_wer | while read f ; do cat $f ; done | sort -k2nr\n",
    "find exp -name oracle_wer | while read f ; do echo -n \"$f: \" ; cat $f ; done | sort -k2nr"
   ]
  },
  {
   "cell_type": "code",
   "execution_count": 17,
   "id": "medical-thirty",
   "metadata": {
    "execution": {
     "iopub.execute_input": "2021-06-04T11:19:13.528809Z",
     "iopub.status.busy": "2021-06-04T11:19:13.524920Z",
     "iopub.status.idle": "2021-06-04T11:19:13.532334Z",
     "shell.execute_reply": "2021-06-04T11:19:13.532892Z"
    },
    "papermill": {
     "duration": 0.029592,
     "end_time": "2021-06-04T11:19:13.533077",
     "exception": false,
     "start_time": "2021-06-04T11:19:13.503485",
     "status": "completed"
    },
    "tags": []
   },
   "outputs": [
    {
     "name": "stdout",
     "output_type": "stream",
     "text": [
      "Overwriting local_clarin/clarin_chain_tdnn.sh\n"
     ]
    }
   ],
   "source": [
    "%%writefile local_clarin/clarin_chain_tdnn.sh\n",
    "#!/bin/bash\n",
    "\n",
    "set -e -o pipefail\n",
    "\n",
    "# First the options that are passed through to run_ivector_common.sh\n",
    "# (some of which are also used in this script directly).\n",
    "stage=0\n",
    "nj=40\n",
    "train_set=train\n",
    "test_set=test\n",
    "gmm=tri3b        # this is the source gmm-dir that we'll use for alignments; it\n",
    "                 # should have alignments for the specified training data.\n",
    "num_threads_ubm=40\n",
    "nnet3_affix=       # affix for exp dirs, e.g. it was _cleaned in tedlium.\n",
    "\n",
    "# Options which are not passed through to run_ivector_common.sh\n",
    "affix=1f  #affix for TDNN+LSTM directory e.g. \"1a\" or \"1b\", in case we change the configuration.\n",
    "common_egs_dir=\n",
    "reporting_email=\n",
    "\n",
    "# LSTM/chain options\n",
    "train_stage=-10\n",
    "xent_regularize=0.1\n",
    "\n",
    "# training chunk-options\n",
    "chunk_width=140,100,160\n",
    "# we don't need extra left/right context for TDNN systems.\n",
    "chunk_left_context=0\n",
    "chunk_right_context=0\n",
    "\n",
    "# training options\n",
    "srand=0\n",
    "remove_egs=true\n",
    "\n",
    "#decode options\n",
    "test_online_decoding=false  # if true, it will run the last decoding stage.\n",
    "\n",
    "# End configuration section.\n",
    "echo \"$0 $@\"  # Print the command line for logging\n",
    "\n",
    "\n",
    ". ./cmd.sh\n",
    ". ./path.sh\n",
    ". ./utils/parse_options.sh\n",
    "\n",
    "\n",
    "if ! cuda-compiled; then\n",
    "  cat <<EOF && exit 1\n",
    "This script is intended to be used with GPUs but you have not compiled Kaldi with CUDA\n",
    "If you want to use GPUs (and have them), go to src/, and configure and make on a machine\n",
    "where \"nvcc\" is installed.\n",
    "EOF\n",
    "fi\n",
    "\n",
    "#local/nnet3/run_ivector_common.sh \\\n",
    "#  --stage $stage --nj $nj \\\n",
    "#  --train-set $train_set --gmm $gmm \\\n",
    "#  --test-sets $test_set \\\n",
    "#  --num-threads-ubm $num_threads_ubm \\\n",
    "#  --nnet3-affix \"$nnet3_affix\"\n",
    "\n",
    "\n",
    "\n",
    "gmm_dir=exp/${gmm}\n",
    "ali_dir=exp/${gmm}_ali_${train_set}_sp\n",
    "lat_dir=exp/chain${nnet3_affix}/${gmm}_${train_set}_sp_lats\n",
    "dir=exp/chain${nnet3_affix}/tdnn${affix}_sp\n",
    "train_data_dir=data/${train_set}_sp_hires\n",
    "train_ivector_dir=exp/nnet3${nnet3_affix}/ivectors_${train_set}_sp_hires\n",
    "lores_train_data_dir=data/${train_set}_sp\n",
    "\n",
    "# note: you don't necessarily have to change the treedir name\n",
    "# each time you do a new experiment-- only if you change the\n",
    "# configuration in a way that affects the tree.\n",
    "tree_dir=exp/chain${nnet3_affix}/tree_a_sp\n",
    "# the 'lang' directory is created by this script.\n",
    "# If you create such a directory with a non-standard topology\n",
    "# you should probably name it differently.\n",
    "lang=data/lang_chain\n",
    "\n",
    "for f in $train_data_dir/feats.scp $train_ivector_dir/ivector_online.scp \\\n",
    "    $lores_train_data_dir/feats.scp $ali_dir/ali.1.gz; do\n",
    "  [ ! -f $f ] && echo \"$0: expected file $f to exist\" && exit 1\n",
    "done\n",
    "\n",
    "\n",
    "if [ $stage -le 12 ]; then\n",
    "  echo \"$0: creating lang directory $lang with chain-type topology\"\n",
    "  # Create a version of the lang/ directory that has one state per phone in the\n",
    "  # topo file. [note, it really has two states.. the first one is only repeated\n",
    "  # once, the second one has zero or more repeats.]\n",
    "  if [ -d $lang ]; then\n",
    "    if [ $lang/L.fst -nt data/lang/L.fst ]; then\n",
    "      echo \"$0: $lang already exists, not overwriting it; continuing\"\n",
    "    else\n",
    "      echo \"$0: $lang already exists and seems to be older than data/lang...\"\n",
    "      echo \" ... not sure what to do.  Exiting.\"\n",
    "      exit 1;\n",
    "    fi\n",
    "  else\n",
    "    cp -r data/lang $lang\n",
    "    silphonelist=$(cat $lang/phones/silence.csl) || exit 1;\n",
    "    nonsilphonelist=$(cat $lang/phones/nonsilence.csl) || exit 1;\n",
    "    # Use our special topology... note that later on may have to tune this\n",
    "    # topology.\n",
    "    steps/nnet3/chain/gen_topo.py $nonsilphonelist $silphonelist >$lang/topo\n",
    "  fi\n",
    "fi\n",
    "\n",
    "if [ $stage -le 13 ]; then\n",
    "  # Get the alignments as lattices (gives the chain training more freedom).\n",
    "  # use the same num-jobs as the alignments\n",
    "  steps/align_fmllr_lats.sh --nj 100 --cmd \"$train_cmd\" ${lores_train_data_dir} \\\n",
    "    data/lang $gmm_dir $lat_dir\n",
    "  rm $lat_dir/fsts.*.gz # save space\n",
    "fi\n",
    "\n",
    "if [ $stage -le 14 ]; then\n",
    "  # Build a tree using our new topology.  We know we have alignments for the\n",
    "  # speed-perturbed data (local/nnet3/run_ivector_common.sh made them), so use\n",
    "  # those.  The num-leaves is always somewhat less than the num-leaves from\n",
    "  # the GMM baseline.\n",
    "   if [ -f $tree_dir/final.mdl ]; then\n",
    "     echo \"$0: $tree_dir/final.mdl already exists, refusing to overwrite it.\"\n",
    "     exit 1;\n",
    "  fi\n",
    "  steps/nnet3/chain/build_tree.sh \\\n",
    "    --frame-subsampling-factor 3 \\\n",
    "    --context-opts \"--context-width=2 --central-position=1\" \\\n",
    "    --cmd \"$train_cmd\" 3500 ${lores_train_data_dir} \\\n",
    "    $lang $ali_dir $tree_dir\n",
    "fi\n",
    "\n",
    "\n",
    "if [ $stage -le 15 ]; then\n",
    "  mkdir -p $dir\n",
    "  echo \"$0: creating neural net configs using the xconfig parser\";\n",
    "\n",
    "  num_targets=$(tree-info $tree_dir/tree |grep num-pdfs|awk '{print $2}')\n",
    "  learning_rate_factor=$(echo \"print(0.5/$xent_regularize)\" | python)\n",
    "\n",
    "  mkdir -p $dir/configs\n",
    "  cat <<EOF > $dir/configs/network.xconfig\n",
    "  input dim=100 name=ivector\n",
    "  input dim=40 name=input\n",
    "\n",
    "  # please note that it is important to have input layer with the name=input\n",
    "  # as the layer immediately preceding the fixed-affine-layer to enable\n",
    "  # the use of short notation for the descriptor\n",
    "  fixed-affine-layer name=lda input=Append(-2,-1,0,1,2,ReplaceIndex(ivector, t, 0)) affine-transform-file=$dir/configs/lda.mat\n",
    "\n",
    "  # the first splicing is moved before the lda layer, so no splicing here\n",
    "  relu-renorm-layer name=tdnn1 dim=512\n",
    "  relu-renorm-layer name=tdnn2 dim=512 input=Append(-1,0,1)\n",
    "  relu-renorm-layer name=tdnn3 dim=512 input=Append(-1,0,1)\n",
    "  relu-renorm-layer name=tdnn4 dim=512 input=Append(-3,0,3)\n",
    "  relu-renorm-layer name=tdnn5 dim=512 input=Append(-3,0,3)\n",
    "  relu-renorm-layer name=tdnn6 dim=512 input=Append(-6,-3,0)\n",
    "\n",
    "  ## adding the layers for chain branch\n",
    "  relu-renorm-layer name=prefinal-chain dim=512 target-rms=0.5\n",
    "  output-layer name=output include-log-softmax=false dim=$num_targets max-change=1.5\n",
    "\n",
    "  # adding the layers for xent branch\n",
    "  # This block prints the configs for a separate output that will be\n",
    "  # trained with a cross-entropy objective in the 'chain' models... this\n",
    "  # has the effect of regularizing the hidden parts of the model.  we use\n",
    "  # 0.5 / args.xent_regularize as the learning rate factor- the factor of\n",
    "  # 0.5 / args.xent_regularize is suitable as it means the xent\n",
    "  # final-layer learns at a rate independent of the regularization\n",
    "  # constant; and the 0.5 was tuned so as to make the relative progress\n",
    "  # similar in the xent and regular final layers.\n",
    "  relu-renorm-layer name=prefinal-xent input=tdnn6 dim=512 target-rms=0.5\n",
    "  output-layer name=output-xent dim=$num_targets learning-rate-factor=$learning_rate_factor max-change=1.5\n",
    "EOF\n",
    "  steps/nnet3/xconfig_to_configs.py --xconfig-file $dir/configs/network.xconfig --config-dir $dir/configs/\n",
    "fi\n",
    "\n",
    "\n",
    "if [ $stage -le 16 ]; then\n",
    "  if [[ $(hostname -f) == *.clsp.jhu.edu ]] && [ ! -d $dir/egs/storage ]; then\n",
    "    utils/create_split_dir.pl \\\n",
    "     /export/b0{3,4,5,6}/$USER/kaldi-data/egs/wsj-$(date +'%m_%d_%H_%M')/s5/$dir/egs/storage $dir/egs/storage\n",
    "  fi\n",
    "\n",
    "  steps/nnet3/chain/train.py --stage=$train_stage \\\n",
    "    --cmd=\"$decode_cmd\" \\\n",
    "    --feat.online-ivector-dir=$train_ivector_dir \\\n",
    "    --feat.cmvn-opts=\"--norm-means=false --norm-vars=false\" \\\n",
    "    --chain.xent-regularize $xent_regularize \\\n",
    "    --chain.leaky-hmm-coefficient=0.1 \\\n",
    "    --chain.l2-regularize=0.00005 \\\n",
    "    --chain.apply-deriv-weights=false \\\n",
    "    --chain.lm-opts=\"--num-extra-lm-states=2000\" \\\n",
    "    --trainer.srand=$srand \\\n",
    "    --trainer.max-param-change=2.0 \\\n",
    "    --trainer.num-epochs=4 \\\n",
    "    --trainer.frames-per-iter=3000000 \\\n",
    "    --trainer.optimization.num-jobs-initial=4 \\\n",
    "    --trainer.optimization.num-jobs-final=4 \\\n",
    "    --trainer.optimization.initial-effective-lrate=0.001 \\\n",
    "    --trainer.optimization.final-effective-lrate=0.0001 \\\n",
    "    --trainer.optimization.shrink-value=1.0 \\\n",
    "    --trainer.optimization.proportional-shrink=60.0 \\\n",
    "    --trainer.num-chunk-per-minibatch=256,128,64 \\\n",
    "    --trainer.optimization.momentum=0.0 \\\n",
    "    --egs.chunk-width=$chunk_width \\\n",
    "    --egs.chunk-left-context=$chunk_left_context \\\n",
    "    --egs.chunk-right-context=$chunk_right_context \\\n",
    "    --egs.chunk-left-context-initial=0 \\\n",
    "    --egs.chunk-right-context-final=0 \\\n",
    "    --egs.dir=\"$common_egs_dir\" \\\n",
    "    --egs.opts=\"--frames-overlap-per-eg 0\" \\\n",
    "    --cleanup.remove-egs=$remove_egs \\\n",
    "    --use-gpu=true \\\n",
    "    --reporting.email=\"$reporting_email\" \\\n",
    "    --feat-dir=$train_data_dir \\\n",
    "    --tree-dir=$tree_dir \\\n",
    "    --lat-dir=$lat_dir \\\n",
    "    --dir=$dir  || exit 1;\n",
    "fi\n",
    "\n",
    "if [ $stage -le 17 ]; then\n",
    "  # The reason we are using data/lang here, instead of $lang, is just to\n",
    "  # emphasize that it's not actually important to give mkgraph.sh the\n",
    "  # lang directory with the matched topology (since it gets the\n",
    "  # topology file from the model).  So you could give it a different\n",
    "  # lang directory, one that contained a wordlist and LM of your choice,\n",
    "  # as long as phones.txt was compatible.\n",
    "\n",
    "  utils/lang/check_phones_compatible.sh \\\n",
    "    data/lang_test/phones.txt $lang/phones.txt\n",
    "  utils/mkgraph.sh \\\n",
    "    --self-loop-scale 1.0 data/lang_test \\\n",
    "    $tree_dir $tree_dir/graph || exit 1;\n",
    "\n",
    "fi\n",
    "\n",
    "if [ $stage -le 18 ]; then\n",
    "  frames_per_chunk=$(echo $chunk_width | cut -d, -f1)\n",
    "  nspk=$(wc -l <data/${test_set}_hires/spk2utt)\n",
    "  steps/nnet3/decode.sh \\\n",
    "          --acwt 1.0 --post-decode-acwt 10.0 \\\n",
    "          --extra-left-context $chunk_left_context \\\n",
    "          --extra-right-context $chunk_right_context \\\n",
    "          --extra-left-context-initial 0 \\\n",
    "          --extra-right-context-final 0 \\\n",
    "          --frames-per-chunk $frames_per_chunk \\\n",
    "          --nj $nspk --cmd \"$decode_cmd\"  --num-threads 4 \\\n",
    "          --online-ivector-dir exp/nnet3${nnet3_affix}/ivectors_${test_set}_hires \\\n",
    "          $tree_dir/graph data/${test_set}_hires ${dir}/decode || exit 1\n",
    "fi\n",
    "\n",
    "\n",
    "exit 0;"
   ]
  },
  {
   "cell_type": "code",
   "execution_count": 18,
   "id": "metropolitan-riverside",
   "metadata": {
    "execution": {
     "iopub.execute_input": "2021-06-04T11:19:13.573964Z",
     "iopub.status.busy": "2021-06-04T11:19:13.573289Z",
     "iopub.status.idle": "2021-06-04T11:19:42.685974Z",
     "shell.execute_reply": "2021-06-04T11:19:42.686448Z"
    },
    "papermill": {
     "duration": 29.134748,
     "end_time": "2021-06-04T11:19:42.686633",
     "exception": false,
     "start_time": "2021-06-04T11:19:13.551885",
     "status": "completed"
    },
    "tags": []
   },
   "outputs": [
    {
     "name": "stdout",
     "output_type": "stream",
     "text": [
      "./local_clarin/clarin_tdnn.sh: line 48: cuda-compiled: command not found\r\n",
      "This script is intended to be used with GPUs but you have not compiled Kaldi with CUDA\r\n",
      "If you want to use GPUs (and have them), go to src/, and configure and make on a machine\r\n",
      "where \"nvcc\" is installed.\r\n",
      "steps/nnet3/decode.sh --nj 30 --num-threads 4 --online-ivector-dir exp/nnet3/ivectors_test_hires exp/tri3b/graph data/test_hires exp/nnet3/tdnn1a_sp/decode\r\n",
      "steps/nnet2/check_ivectors_compatible.sh: WARNING: One of the directories do not contain iVector ID.\r\n",
      "steps/nnet2/check_ivectors_compatible.sh: WARNING: That means it's you who's reponsible for keeping \r\n",
      "steps/nnet2/check_ivectors_compatible.sh: WARNING: the directories compatible\r\n",
      "steps/nnet3/decode.sh: no such file exp/nnet3/tdnn1a_sp/final.mdl\r\n",
      "./steps/oracle_wer.sh data/test_hires data/lang exp/nnet3/tdnn1a_sp/decode\r\n",
      "./steps/oracle_wer.sh: expected file exp/nnet3/tdnn1a_sp/decode/lat.1.gz to exist\r\n",
      "./steps/lmrescore_const_arpa.sh data/lang_test data/lang_carpa data/test_hires exp/nnet3/tdnn1a_sp/decode exp/nnet3/tdnn1a_sp/decode_rs\r\n",
      "ls: cannot access 'exp/nnet3/tdnn1a_sp/decode/lat.*.gz': No such file or directory\r\n",
      "./steps/lmrescore_const_arpa.sh: No lattices input directory exp/nnet3/tdnn1a_sp/decode\r\n",
      "./local_clarin/clarin_chain_tdnn.sh \r\n",
      "./local_clarin/clarin_chain_tdnn.sh: line 47: cuda-compiled: command not found\r\n",
      "This script is intended to be used with GPUs but you have not compiled Kaldi with CUDA\r\n",
      "If you want to use GPUs (and have them), go to src/, and configure and make on a machine\r\n",
      "where \"nvcc\" is installed.\r\n",
      "./steps/oracle_wer.sh data/test_hires data/lang exp/chain/tdnn1f_sp/decode\r\n",
      "./steps/oracle_wer.sh: expected file exp/chain/tdnn1f_sp/decode/lat.1.gz to exist\r\n",
      "./steps/lmrescore_const_arpa.sh data/lang_test data/lang_carpa data/test_hires exp/chain/tdnn1f_sp/decode exp/chain/tdnn1f_sp/decode_rs\r\n",
      "ls: cannot access 'exp/chain/tdnn1f_sp/decode/lat.*.gz': No such file or directory\r\n",
      "./steps/lmrescore_const_arpa.sh: No lattices input directory exp/chain/tdnn1f_sp/decode\r\n"
     ]
    }
   ],
   "source": [
    "!bash run.sh"
   ]
  }
 ],
 "metadata": {
  "kernelspec": {
   "display_name": "Python 3",
   "language": "python",
   "name": "python3"
  },
  "language_info": {
   "codemirror_mode": {
    "name": "ipython",
    "version": 3
   },
   "file_extension": ".py",
   "mimetype": "text/x-python",
   "name": "python",
   "nbconvert_exporter": "python",
   "pygments_lexer": "ipython3",
   "version": "3.7.10"
  },
  "papermill": {
   "default_parameters": {},
   "duration": 217.380545,
   "end_time": "2021-06-04T11:19:43.314452",
   "environment_variables": {},
   "exception": null,
   "input_path": "__notebook__.ipynb",
   "output_path": "__notebook__.ipynb",
   "parameters": {},
   "start_time": "2021-06-04T11:16:05.933907",
   "version": "2.3.3"
  }
 },
 "nbformat": 4,
 "nbformat_minor": 5
}
