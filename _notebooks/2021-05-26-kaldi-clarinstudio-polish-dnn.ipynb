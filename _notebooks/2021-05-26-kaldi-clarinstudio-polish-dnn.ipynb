{
 "cells": [
  {
   "cell_type": "code",
   "execution_count": 1,
   "id": "professional-unknown",
   "metadata": {
    "execution": {
     "iopub.execute_input": "2021-05-26T20:48:50.128302Z",
     "iopub.status.busy": "2021-05-26T20:48:50.126800Z",
     "iopub.status.idle": "2021-05-26T20:48:50.137289Z",
     "shell.execute_reply": "2021-05-26T20:48:50.138119Z",
     "shell.execute_reply.started": "2021-05-25T17:38:41.257731Z"
    },
    "papermill": {
     "duration": 0.028479,
     "end_time": "2021-05-26T20:48:50.138452",
     "exception": false,
     "start_time": "2021-05-26T20:48:50.109973",
     "status": "completed"
    },
    "tags": []
   },
   "outputs": [
    {
     "name": "stdout",
     "output_type": "stream",
     "text": [
      "/opt\n"
     ]
    }
   ],
   "source": [
    "%cd /opt"
   ]
  },
  {
   "cell_type": "code",
   "execution_count": 2,
   "id": "senior-graduation",
   "metadata": {
    "_cell_guid": "b1076dfc-b9ad-4769-8c92-a6c4dae69d19",
    "_uuid": "8f2839f25d086af736a60e9eeb907d3b93b6e0e5",
    "execution": {
     "iopub.execute_input": "2021-05-26T20:48:50.177631Z",
     "iopub.status.busy": "2021-05-26T20:48:50.177064Z",
     "iopub.status.idle": "2021-05-26T20:49:23.920006Z",
     "shell.execute_reply": "2021-05-26T20:49:23.919413Z",
     "shell.execute_reply.started": "2021-05-25T17:38:41.278229Z"
    },
    "papermill": {
     "duration": 33.76912,
     "end_time": "2021-05-26T20:49:23.920141",
     "exception": false,
     "start_time": "2021-05-26T20:48:50.151021",
     "status": "completed"
    },
    "tags": []
   },
   "outputs": [],
   "source": [
    "%%capture\n",
    "!tar xvf /kaggle/input/extract-prebuilt-kaldi-from-docker/kaldi.tar"
   ]
  },
  {
   "cell_type": "code",
   "execution_count": 3,
   "id": "consistent-bruce",
   "metadata": {
    "execution": {
     "iopub.execute_input": "2021-05-26T20:49:23.951421Z",
     "iopub.status.busy": "2021-05-26T20:49:23.950848Z",
     "iopub.status.idle": "2021-05-26T20:49:29.594709Z",
     "shell.execute_reply": "2021-05-26T20:49:29.594211Z",
     "shell.execute_reply.started": "2021-05-25T17:39:29.136058Z"
    },
    "papermill": {
     "duration": 5.661578,
     "end_time": "2021-05-26T20:49:29.594853",
     "exception": false,
     "start_time": "2021-05-26T20:49:23.933275",
     "status": "completed"
    },
    "tags": []
   },
   "outputs": [
    {
     "name": "stdout",
     "output_type": "stream",
     "text": [
      "/opt/kaldi/egs\n"
     ]
    }
   ],
   "source": [
    "%cd kaldi/egs"
   ]
  },
  {
   "cell_type": "code",
   "execution_count": 4,
   "id": "characteristic-stream",
   "metadata": {
    "execution": {
     "iopub.execute_input": "2021-05-26T20:49:29.638929Z",
     "iopub.status.busy": "2021-05-26T20:49:29.638134Z",
     "iopub.status.idle": "2021-05-26T20:49:32.045692Z",
     "shell.execute_reply": "2021-05-26T20:49:32.045219Z",
     "shell.execute_reply.started": "2021-05-25T17:39:29.147976Z"
    },
    "papermill": {
     "duration": 2.438422,
     "end_time": "2021-05-26T20:49:32.045822",
     "exception": false,
     "start_time": "2021-05-26T20:49:29.607400",
     "status": "completed"
    },
    "tags": []
   },
   "outputs": [
    {
     "name": "stdout",
     "output_type": "stream",
     "text": [
      "Cloning into 'ClarinStudioKaldi'...\r\n"
     ]
    },
    {
     "name": "stdout",
     "output_type": "stream",
     "text": [
      "remote: Enumerating objects: 778, done.\u001b[K\r\n",
      "remote: Counting objects:  33% (1/3)\u001b[K\r",
      "remote: Counting objects:  66% (2/3)\u001b[K\r",
      "remote: Counting objects: 100% (3/3)\u001b[K\r",
      "remote: Counting objects: 100% (3/3), done.\u001b[K\r\n",
      "remote: Compressing objects:  33% (1/3)\u001b[K\r",
      "remote: Compressing objects:  66% (2/3)\u001b[K\r",
      "remote: Compressing objects: 100% (3/3)\u001b[K\r",
      "remote: Compressing objects: 100% (3/3), done.\u001b[K\r\n",
      "Receiving objects:   0% (1/778)   \r",
      "Receiving objects:   1% (8/778)   \r",
      "Receiving objects:   2% (16/778)   \r",
      "Receiving objects:   3% (24/778)   \r",
      "Receiving objects:   4% (32/778)   \r",
      "Receiving objects:   5% (39/778)   \r",
      "Receiving objects:   6% (47/778)   \r",
      "Receiving objects:   7% (55/778)   \r",
      "Receiving objects:   8% (63/778)   \r"
     ]
    },
    {
     "name": "stdout",
     "output_type": "stream",
     "text": [
      "Receiving objects:   9% (71/778)   \r",
      "Receiving objects:  10% (78/778)   \r",
      "Receiving objects:  11% (86/778)   \r"
     ]
    },
    {
     "name": "stdout",
     "output_type": "stream",
     "text": [
      "Receiving objects:  12% (94/778), 22.15 MiB | 44.29 MiB/s   \r",
      "Receiving objects:  13% (102/778), 22.15 MiB | 44.29 MiB/s   \r",
      "Receiving objects:  14% (109/778), 22.15 MiB | 44.29 MiB/s   \r",
      "Receiving objects:  15% (117/778), 22.15 MiB | 44.29 MiB/s   \r",
      "Receiving objects:  16% (125/778), 22.15 MiB | 44.29 MiB/s   \r",
      "Receiving objects:  17% (133/778), 22.15 MiB | 44.29 MiB/s   \r",
      "Receiving objects:  18% (141/778), 22.15 MiB | 44.29 MiB/s   \r",
      "Receiving objects:  19% (148/778), 22.15 MiB | 44.29 MiB/s   \r",
      "Receiving objects:  20% (156/778), 22.15 MiB | 44.29 MiB/s   \r",
      "Receiving objects:  21% (164/778), 22.15 MiB | 44.29 MiB/s   \r",
      "Receiving objects:  22% (172/778), 22.15 MiB | 44.29 MiB/s   \r",
      "Receiving objects:  23% (179/778), 22.15 MiB | 44.29 MiB/s   \r",
      "Receiving objects:  24% (187/778), 22.15 MiB | 44.29 MiB/s   \r",
      "Receiving objects:  25% (195/778), 22.15 MiB | 44.29 MiB/s   \r",
      "Receiving objects:  26% (203/778), 22.15 MiB | 44.29 MiB/s   \r",
      "Receiving objects:  27% (211/778), 22.15 MiB | 44.29 MiB/s   \r",
      "Receiving objects:  28% (218/778), 22.15 MiB | 44.29 MiB/s   \r",
      "Receiving objects:  29% (226/778), 22.15 MiB | 44.29 MiB/s   \r",
      "Receiving objects:  30% (234/778), 22.15 MiB | 44.29 MiB/s   \r",
      "Receiving objects:  31% (242/778), 22.15 MiB | 44.29 MiB/s   \r",
      "Receiving objects:  32% (249/778), 22.15 MiB | 44.29 MiB/s   \r",
      "Receiving objects:  33% (257/778), 22.15 MiB | 44.29 MiB/s   \r",
      "Receiving objects:  34% (265/778), 22.15 MiB | 44.29 MiB/s   \r",
      "Receiving objects:  35% (273/778), 22.15 MiB | 44.29 MiB/s   \r",
      "Receiving objects:  36% (281/778), 22.15 MiB | 44.29 MiB/s   \r",
      "Receiving objects:  37% (288/778), 22.15 MiB | 44.29 MiB/s   \r",
      "Receiving objects:  38% (296/778), 22.15 MiB | 44.29 MiB/s   \r",
      "Receiving objects:  39% (304/778), 22.15 MiB | 44.29 MiB/s   \r",
      "Receiving objects:  40% (312/778), 22.15 MiB | 44.29 MiB/s   \r",
      "Receiving objects:  41% (319/778), 22.15 MiB | 44.29 MiB/s   \r",
      "Receiving objects:  42% (327/778), 22.15 MiB | 44.29 MiB/s   \r",
      "Receiving objects:  43% (335/778), 22.15 MiB | 44.29 MiB/s   \r",
      "Receiving objects:  44% (343/778), 22.15 MiB | 44.29 MiB/s   \r",
      "Receiving objects:  45% (351/778), 22.15 MiB | 44.29 MiB/s   \r",
      "Receiving objects:  46% (358/778), 22.15 MiB | 44.29 MiB/s   \r",
      "Receiving objects:  47% (366/778), 22.15 MiB | 44.29 MiB/s   \r",
      "Receiving objects:  48% (374/778), 22.15 MiB | 44.29 MiB/s   \r",
      "Receiving objects:  49% (382/778), 22.15 MiB | 44.29 MiB/s   \r",
      "Receiving objects:  50% (389/778), 22.15 MiB | 44.29 MiB/s   \r",
      "Receiving objects:  51% (397/778), 22.15 MiB | 44.29 MiB/s   \r",
      "Receiving objects:  52% (405/778), 22.15 MiB | 44.29 MiB/s   \r",
      "Receiving objects:  53% (413/778), 22.15 MiB | 44.29 MiB/s   \r",
      "Receiving objects:  54% (421/778), 22.15 MiB | 44.29 MiB/s   \r",
      "Receiving objects:  55% (428/778), 22.15 MiB | 44.29 MiB/s   \r"
     ]
    },
    {
     "name": "stdout",
     "output_type": "stream",
     "text": [
      "Receiving objects:  56% (436/778), 22.15 MiB | 44.29 MiB/s   \r",
      "Receiving objects:  57% (444/778), 22.15 MiB | 44.29 MiB/s   \r",
      "Receiving objects:  58% (452/778), 22.15 MiB | 44.29 MiB/s   \r",
      "Receiving objects:  59% (460/778), 22.15 MiB | 44.29 MiB/s   \r",
      "Receiving objects:  60% (467/778), 22.15 MiB | 44.29 MiB/s   \r",
      "Receiving objects:  61% (475/778), 22.15 MiB | 44.29 MiB/s   \r",
      "Receiving objects:  62% (483/778), 22.15 MiB | 44.29 MiB/s   \r",
      "Receiving objects:  63% (491/778), 22.15 MiB | 44.29 MiB/s   \r",
      "Receiving objects:  64% (498/778), 22.15 MiB | 44.29 MiB/s   \r",
      "Receiving objects:  65% (506/778), 22.15 MiB | 44.29 MiB/s   \r",
      "Receiving objects:  66% (514/778), 22.15 MiB | 44.29 MiB/s   \r",
      "Receiving objects:  67% (522/778), 22.15 MiB | 44.29 MiB/s   \r",
      "Receiving objects:  68% (530/778), 22.15 MiB | 44.29 MiB/s   \r",
      "Receiving objects:  69% (537/778), 22.15 MiB | 44.29 MiB/s   \r",
      "Receiving objects:  70% (545/778), 22.15 MiB | 44.29 MiB/s   \r",
      "Receiving objects:  71% (553/778), 22.15 MiB | 44.29 MiB/s   \r",
      "Receiving objects:  72% (561/778), 22.15 MiB | 44.29 MiB/s   \r",
      "Receiving objects:  73% (568/778), 22.15 MiB | 44.29 MiB/s   \r",
      "Receiving objects:  74% (576/778), 22.15 MiB | 44.29 MiB/s   \r",
      "Receiving objects:  75% (584/778), 22.15 MiB | 44.29 MiB/s   \r",
      "Receiving objects:  76% (592/778), 22.15 MiB | 44.29 MiB/s   \r",
      "Receiving objects:  77% (600/778), 22.15 MiB | 44.29 MiB/s   \r",
      "Receiving objects:  78% (607/778), 22.15 MiB | 44.29 MiB/s   \r",
      "Receiving objects:  79% (615/778), 22.15 MiB | 44.29 MiB/s   \r",
      "Receiving objects:  80% (623/778), 22.15 MiB | 44.29 MiB/s   \r",
      "Receiving objects:  81% (631/778), 22.15 MiB | 44.29 MiB/s   \r",
      "Receiving objects:  82% (638/778), 22.15 MiB | 44.29 MiB/s   \r",
      "Receiving objects:  83% (646/778), 22.15 MiB | 44.29 MiB/s   \r",
      "Receiving objects:  84% (654/778), 22.15 MiB | 44.29 MiB/s   \r"
     ]
    },
    {
     "name": "stdout",
     "output_type": "stream",
     "text": [
      "Receiving objects:  85% (662/778), 22.15 MiB | 44.29 MiB/s   \r",
      "Receiving objects:  86% (670/778), 22.15 MiB | 44.29 MiB/s   \r",
      "Receiving objects:  87% (677/778), 22.15 MiB | 44.29 MiB/s   \r",
      "Receiving objects:  88% (685/778), 22.15 MiB | 44.29 MiB/s   \r",
      "remote: Total 778 (delta 0), reused 0 (delta 0), pack-reused 775\u001b[K\r\n",
      "Receiving objects:  89% (693/778), 22.15 MiB | 44.29 MiB/s   \r",
      "Receiving objects:  90% (701/778), 22.15 MiB | 44.29 MiB/s   \r",
      "Receiving objects:  91% (708/778), 22.15 MiB | 44.29 MiB/s   \r",
      "Receiving objects:  92% (716/778), 22.15 MiB | 44.29 MiB/s   \r",
      "Receiving objects:  93% (724/778), 22.15 MiB | 44.29 MiB/s   \r",
      "Receiving objects:  94% (732/778), 22.15 MiB | 44.29 MiB/s   \r",
      "Receiving objects:  95% (740/778), 22.15 MiB | 44.29 MiB/s   \r",
      "Receiving objects:  96% (747/778), 22.15 MiB | 44.29 MiB/s   \r",
      "Receiving objects:  97% (755/778), 22.15 MiB | 44.29 MiB/s   \r",
      "Receiving objects:  98% (763/778), 22.15 MiB | 44.29 MiB/s   \r",
      "Receiving objects:  99% (771/778), 22.15 MiB | 44.29 MiB/s   \r",
      "Receiving objects: 100% (778/778), 22.15 MiB | 44.29 MiB/s   \r",
      "Receiving objects: 100% (778/778), 35.26 MiB | 42.93 MiB/s, done.\r\n",
      "Resolving deltas:   0% (0/262)   \r",
      "Resolving deltas:   3% (10/262)   \r",
      "Resolving deltas:   4% (11/262)   \r",
      "Resolving deltas:   5% (15/262)   \r",
      "Resolving deltas:   7% (19/262)   \r",
      "Resolving deltas:   8% (23/262)   \r",
      "Resolving deltas:   9% (26/262)   \r",
      "Resolving deltas:  10% (28/262)   \r",
      "Resolving deltas:  11% (30/262)   \r"
     ]
    },
    {
     "name": "stdout",
     "output_type": "stream",
     "text": [
      "Resolving deltas:  12% (32/262)   \r",
      "Resolving deltas:  17% (47/262)   \r",
      "Resolving deltas:  19% (52/262)   \r",
      "Resolving deltas:  25% (68/262)   \r",
      "Resolving deltas:  27% (73/262)   \r",
      "Resolving deltas:  32% (84/262)   \r",
      "Resolving deltas:  44% (116/262)   \r",
      "Resolving deltas:  45% (118/262)   \r",
      "Resolving deltas:  46% (122/262)   \r",
      "Resolving deltas:  47% (124/262)   \r",
      "Resolving deltas:  48% (127/262)   \r",
      "Resolving deltas:  49% (130/262)   \r",
      "Resolving deltas:  50% (133/262)   \r",
      "Resolving deltas:  51% (134/262)   \r",
      "Resolving deltas:  52% (137/262)   \r",
      "Resolving deltas:  53% (140/262)   \r",
      "Resolving deltas:  54% (143/262)   \r",
      "Resolving deltas:  55% (145/262)   \r",
      "Resolving deltas:  56% (147/262)   \r",
      "Resolving deltas:  57% (150/262)   \r",
      "Resolving deltas:  59% (155/262)   \r",
      "Resolving deltas:  60% (158/262)   \r",
      "Resolving deltas:  61% (160/262)   \r",
      "Resolving deltas:  62% (163/262)   \r",
      "Resolving deltas:  63% (166/262)   \r",
      "Resolving deltas:  64% (170/262)   \r",
      "Resolving deltas:  65% (171/262)   \r",
      "Resolving deltas:  66% (174/262)   \r",
      "Resolving deltas:  67% (176/262)   \r",
      "Resolving deltas:  68% (179/262)   \r",
      "Resolving deltas:  69% (182/262)   \r",
      "Resolving deltas:  70% (184/262)   \r",
      "Resolving deltas:  71% (188/262)   \r",
      "Resolving deltas:  72% (191/262)   \r",
      "Resolving deltas:  73% (193/262)   \r",
      "Resolving deltas:  74% (194/262)   \r",
      "Resolving deltas:  75% (199/262)   \r",
      "Resolving deltas:  76% (200/262)   \r",
      "Resolving deltas:  77% (203/262)   \r",
      "Resolving deltas:  78% (206/262)   \r",
      "Resolving deltas:  79% (207/262)   \r",
      "Resolving deltas:  80% (210/262)   \r",
      "Resolving deltas:  81% (213/262)   \r",
      "Resolving deltas:  82% (215/262)   \r",
      "Resolving deltas:  83% (218/262)   \r",
      "Resolving deltas:  84% (221/262)   \r",
      "Resolving deltas:  85% (223/262)   \r",
      "Resolving deltas:  86% (226/262)   \r",
      "Resolving deltas:  87% (228/262)   \r",
      "Resolving deltas:  88% (231/262)   \r",
      "Resolving deltas:  89% (234/262)   \r",
      "Resolving deltas:  90% (236/262)   \r",
      "Resolving deltas:  91% (241/262)   \r",
      "Resolving deltas:  93% (245/262)   \r"
     ]
    },
    {
     "name": "stdout",
     "output_type": "stream",
     "text": [
      "Resolving deltas:  94% (248/262)   \r",
      "Resolving deltas:  95% (251/262)   \r",
      "Resolving deltas:  98% (257/262)   \r"
     ]
    },
    {
     "name": "stdout",
     "output_type": "stream",
     "text": [
      "Resolving deltas: 100% (262/262)   \r",
      "Resolving deltas: 100% (262/262), done.\r\n"
     ]
    }
   ],
   "source": [
    "!git clone https://github.com/danijel3/ClarinStudioKaldi"
   ]
  },
  {
   "cell_type": "code",
   "execution_count": 5,
   "id": "saving-charlotte",
   "metadata": {
    "execution": {
     "iopub.execute_input": "2021-05-26T20:49:32.080851Z",
     "iopub.status.busy": "2021-05-26T20:49:32.079924Z",
     "iopub.status.idle": "2021-05-26T20:49:32.085282Z",
     "shell.execute_reply": "2021-05-26T20:49:32.084868Z",
     "shell.execute_reply.started": "2021-05-25T17:39:33.484146Z"
    },
    "papermill": {
     "duration": 0.025043,
     "end_time": "2021-05-26T20:49:32.085418",
     "exception": false,
     "start_time": "2021-05-26T20:49:32.060375",
     "status": "completed"
    },
    "tags": []
   },
   "outputs": [
    {
     "name": "stdout",
     "output_type": "stream",
     "text": [
      "/opt/kaldi/egs/ClarinStudioKaldi\n"
     ]
    }
   ],
   "source": [
    "%cd ClarinStudioKaldi"
   ]
  },
  {
   "cell_type": "code",
   "execution_count": 6,
   "id": "vertical-reducing",
   "metadata": {
    "execution": {
     "iopub.execute_input": "2021-05-26T20:49:32.120808Z",
     "iopub.status.busy": "2021-05-26T20:49:32.120081Z",
     "iopub.status.idle": "2021-05-26T20:52:00.473467Z",
     "shell.execute_reply": "2021-05-26T20:52:00.472516Z",
     "shell.execute_reply.started": "2021-05-25T17:39:33.493317Z"
    },
    "papermill": {
     "duration": 148.37314,
     "end_time": "2021-05-26T20:52:00.473622",
     "exception": false,
     "start_time": "2021-05-26T20:49:32.100482",
     "status": "completed"
    },
    "tags": []
   },
   "outputs": [],
   "source": [
    "%%capture\n",
    "!conda install -c bioconda perl-perlio-gzip -y"
   ]
  },
  {
   "cell_type": "code",
   "execution_count": null,
   "id": "controversial-genre",
   "metadata": {
    "papermill": {
     "duration": null,
     "end_time": null,
     "exception": false,
     "start_time": "2021-05-26T20:52:00.488583",
     "status": "running"
    },
    "tags": []
   },
   "outputs": [],
   "source": [
    "%%capture\n",
    "!conda install cudatoolkit=10.0.130 -y"
   ]
  },
  {
   "cell_type": "code",
   "execution_count": null,
   "id": "collective-swedish",
   "metadata": {
    "execution": {
     "iopub.execute_input": "2021-05-25T17:41:52.076309Z",
     "iopub.status.busy": "2021-05-25T17:41:52.07597Z",
     "iopub.status.idle": "2021-05-25T17:41:52.083041Z",
     "shell.execute_reply": "2021-05-25T17:41:52.082176Z",
     "shell.execute_reply.started": "2021-05-25T17:41:52.076269Z"
    },
    "papermill": {
     "duration": null,
     "end_time": null,
     "exception": null,
     "start_time": null,
     "status": "pending"
    },
    "tags": []
   },
   "outputs": [],
   "source": [
    "import os\n",
    "os.environ['LD_LIBRARY_PATH'] = '/opt/conda/lib:/opt/kaldi/tools/openfst-1.6.7/lib:/opt/kaldi/src/lib'"
   ]
  },
  {
   "cell_type": "code",
   "execution_count": null,
   "id": "regular-february",
   "metadata": {
    "execution": {
     "iopub.execute_input": "2021-05-25T17:41:52.084244Z",
     "iopub.status.busy": "2021-05-25T17:41:52.08403Z",
     "iopub.status.idle": "2021-05-25T17:41:53.564637Z",
     "shell.execute_reply": "2021-05-25T17:41:53.563351Z",
     "shell.execute_reply.started": "2021-05-25T17:41:52.084223Z"
    },
    "papermill": {
     "duration": null,
     "end_time": null,
     "exception": null,
     "start_time": null,
     "status": "pending"
    },
    "tags": []
   },
   "outputs": [],
   "source": [
    "!cat path.sh|sed -e 's/~\\/apps/\\/opt/' > tmp\n",
    "!mv tmp path.sh"
   ]
  },
  {
   "cell_type": "code",
   "execution_count": null,
   "id": "acoustic-bottom",
   "metadata": {
    "execution": {
     "iopub.execute_input": "2021-05-25T17:41:53.567274Z",
     "iopub.status.busy": "2021-05-25T17:41:53.566993Z",
     "iopub.status.idle": "2021-05-25T17:41:54.310366Z",
     "shell.execute_reply": "2021-05-25T17:41:54.309073Z",
     "shell.execute_reply.started": "2021-05-25T17:41:53.567245Z"
    },
    "papermill": {
     "duration": null,
     "end_time": null,
     "exception": null,
     "start_time": null,
     "status": "pending"
    },
    "tags": []
   },
   "outputs": [],
   "source": [
    "!echo > local_clarin/clarin_pl_clean.sh"
   ]
  },
  {
   "cell_type": "code",
   "execution_count": null,
   "id": "crude-warren",
   "metadata": {
    "execution": {
     "iopub.execute_input": "2021-05-25T17:41:54.312497Z",
     "iopub.status.busy": "2021-05-25T17:41:54.312197Z",
     "iopub.status.idle": "2021-05-25T17:41:57.204431Z",
     "shell.execute_reply": "2021-05-25T17:41:57.203233Z",
     "shell.execute_reply.started": "2021-05-25T17:41:54.312456Z"
    },
    "papermill": {
     "duration": null,
     "end_time": null,
     "exception": null,
     "start_time": null,
     "status": "pending"
    },
    "tags": []
   },
   "outputs": [],
   "source": [
    "!ln -s ../wsj/s5/steps\n",
    "!ln -s ../wsj/s5/conf\n",
    "!ln -s ../wsj/s5/local\n",
    "!ln -s ../wsj/s5/utils"
   ]
  },
  {
   "cell_type": "code",
   "execution_count": null,
   "id": "manufactured-hazard",
   "metadata": {
    "execution": {
     "iopub.execute_input": "2021-05-25T17:41:57.206207Z",
     "iopub.status.busy": "2021-05-25T17:41:57.205908Z",
     "iopub.status.idle": "2021-05-25T17:43:40.957574Z",
     "shell.execute_reply": "2021-05-25T17:43:40.955985Z",
     "shell.execute_reply.started": "2021-05-25T17:41:57.206175Z"
    },
    "papermill": {
     "duration": null,
     "end_time": null,
     "exception": null,
     "start_time": null,
     "status": "pending"
    },
    "tags": []
   },
   "outputs": [],
   "source": [
    "!cp -r /kaggle/input/kaldi-clarinstudio-polish-ivectors/data /kaggle/working/\n",
    "!cp -r /kaggle/input/kaldi-clarinstudio-polish-ivectors/exp /kaggle/working/"
   ]
  },
  {
   "cell_type": "code",
   "execution_count": null,
   "id": "seventh-reply",
   "metadata": {
    "execution": {
     "iopub.execute_input": "2021-05-25T17:43:40.959823Z",
     "iopub.status.busy": "2021-05-25T17:43:40.959576Z",
     "iopub.status.idle": "2021-05-25T17:43:42.406563Z",
     "shell.execute_reply": "2021-05-25T17:43:42.405312Z",
     "shell.execute_reply.started": "2021-05-25T17:43:40.959798Z"
    },
    "papermill": {
     "duration": null,
     "end_time": null,
     "exception": null,
     "start_time": null,
     "status": "pending"
    },
    "tags": []
   },
   "outputs": [],
   "source": [
    "!ln -s /kaggle/working/exp\n",
    "!ln -s /kaggle/working/data"
   ]
  },
  {
   "cell_type": "code",
   "execution_count": null,
   "id": "engaged-beast",
   "metadata": {
    "papermill": {
     "duration": null,
     "end_time": null,
     "exception": null,
     "start_time": null,
     "status": "pending"
    },
    "tags": []
   },
   "outputs": [],
   "source": [
    "!cp exp/tri3b/35.mdl exp/tri3b/final.mdl\n",
    "!cp exp/tri3b/35.occs exp/tri3b/final.occs"
   ]
  },
  {
   "cell_type": "code",
   "execution_count": null,
   "id": "careful-assistant",
   "metadata": {
    "execution": {
     "iopub.execute_input": "2021-05-25T17:43:42.408431Z",
     "iopub.status.busy": "2021-05-25T17:43:42.408143Z",
     "iopub.status.idle": "2021-05-25T17:43:47.132173Z",
     "shell.execute_reply": "2021-05-25T17:43:47.131178Z",
     "shell.execute_reply.started": "2021-05-25T17:43:42.408401Z"
    },
    "papermill": {
     "duration": null,
     "end_time": null,
     "exception": null,
     "start_time": null,
     "status": "pending"
    },
    "tags": []
   },
   "outputs": [],
   "source": [
    "%%writefile run.sh\n",
    ". path.sh\n",
    "\n",
    "export nj=40 ##number of concurrent processes\n",
    "export nj_test=30 ## number of concurrent processes for test has to be <=30\n",
    "\n",
    "#Performing tests on all the above systems:\n",
    "\n",
    "#./local/nnet3/run_ivector_common.sh --nj $nj_test --train_set train --test_sets test --gmm tri3b\n",
    "\n",
    "./local_clarin/clarin_tdnn.sh\n",
    "steps/nnet3/decode.sh --nj $nj_test --num-threads 4 --online-ivector-dir exp/nnet3/ivectors_test_hires \\\n",
    "          exp/tri3b/graph data/test_hires exp/nnet3/tdnn1a_sp/decode\n",
    "./steps/oracle_wer.sh data/test_hires data/lang exp/nnet3/tdnn1a_sp/decode\n",
    "./steps/lmrescore_const_arpa.sh data/lang_test data/lang_carpa data/test_hires exp/nnet3/tdnn1a_sp/decode exp/nnet3/tdnn1a_sp/decode_rs\n",
    "\n",
    "# Same as above but using the chain framework - trains about the same, works much faster as has lower WER\n",
    "./local_clarin/clarin_chain_tdnn.sh\n",
    "./steps/oracle_wer.sh data/test_hires data/lang exp/chain/tdnn1f_sp/decode\n",
    "./steps/lmrescore_const_arpa.sh data/lang_test data/lang_carpa data/test_hires exp/chain/tdnn1f_sp/decode exp/chain/tdnn1f_sp/decode_rs\n",
    "\n",
    "# Getting results\n",
    "find exp -name best_wer | while read f ; do cat $f ; done | sort -k2nr\n",
    "find exp -name oracle_wer | while read f ; do echo -n \"$f: \" ; cat $f ; done | sort -k2nr"
   ]
  },
  {
   "cell_type": "code",
   "execution_count": null,
   "id": "tutorial-chain",
   "metadata": {
    "execution": {
     "iopub.execute_input": "2021-05-25T17:48:05.420122Z",
     "iopub.status.busy": "2021-05-25T17:48:05.419759Z"
    },
    "papermill": {
     "duration": null,
     "end_time": null,
     "exception": null,
     "start_time": null,
     "status": "pending"
    },
    "tags": []
   },
   "outputs": [],
   "source": [
    "!bash run.sh"
   ]
  }
 ],
 "metadata": {
  "kernelspec": {
   "display_name": "Python 3",
   "language": "python",
   "name": "python3"
  },
  "language_info": {
   "codemirror_mode": {
    "name": "ipython",
    "version": 3
   },
   "file_extension": ".py",
   "mimetype": "text/x-python",
   "name": "python",
   "nbconvert_exporter": "python",
   "pygments_lexer": "ipython3",
   "version": "3.6.4"
  },
  "papermill": {
   "default_parameters": {},
   "duration": null,
   "end_time": null,
   "environment_variables": {},
   "exception": null,
   "input_path": "__notebook__.ipynb",
   "output_path": "__notebook__.ipynb",
   "parameters": {},
   "start_time": "2021-05-26T20:48:43.488207",
   "version": "2.3.3"
  }
 },
 "nbformat": 4,
 "nbformat_minor": 5
}