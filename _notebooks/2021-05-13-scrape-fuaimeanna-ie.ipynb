{
 "cells": [
  {
   "cell_type": "markdown",
   "metadata": {},
   "source": [
    "# Scrape fuaimeanna.ie\n",
    "\n",
    "> \"For making a private dataset on Kaggle\"\n",
    "\n",
    "- toc: false\n",
    "- branch: master\n",
    "- badges: false\n",
    "- comments: true\n",
    "- hidden: true\n",
    "- categories: [kaggle, fuaimeanna, scraper]"
   ]
  },
  {
   "cell_type": "markdown",
   "metadata": {},
   "source": [
    "[Not-quite original version](https://www.kaggle.com/jimregan/scrape-fuaimeanna-ie)"
   ]
  },
  {
   "cell_type": "code",
   "execution_count": null,
   "metadata": {
    "_cell_guid": "b1076dfc-b9ad-4769-8c92-a6c4dae69d19",
    "_kg_hide-input": true,
    "_uuid": "8f2839f25d086af736a60e9eeb907d3b93b6e0e5",
    "jupyter": {
     "source_hidden": true
    }
   },
   "outputs": [],
   "source": [
    "%%writefile fuaimeanna.pl\n",
    "#!/usr/bin/perl\n",
    "# License: Apache 2.0\n",
    "# Scrapes sounds from fuaimeanna.ie\n",
    "# Creates a set of labels in 'label/' (which must exist)\n",
    "# along with three files:\n",
    "# run-wget.sh, which downloads the sounds to mp3/ (it creates it)\n",
    "# run-ffmpeg.sh, which converts the sounds in mp3/ to wav files in wav/\n",
    "# all-fuaimeanna-data.tsv, which contains all of the data\n",
    "\n",
    "use warnings;\n",
    "use strict;\n",
    "use utf8;\n",
    "\n",
    "use URI;\n",
    "use Web::Scraper;\n",
    "use Data::Dumper;\n",
    "\n",
    "binmode(STDOUT, \":utf8\");\n",
    "binmode(STDERR, \":utf8\");\n",
    "open(WGET, \">\", \"run-wget.sh\");\n",
    "binmode(WGET, \":utf8\");\n",
    "open(FFMPEG, \">\", \"run-ffmpeg.sh\");\n",
    "binmode(FFMPEG, \":utf8\");\n",
    "open(ALL, \">\", \"all-fuaimeanna-data.tsv\");\n",
    "binmode(ALL, \":utf8\");\n",
    "\n",
    "my $phones = scraper {\n",
    "    process 'div[class=\"friotal\"]', 'sounds[]' => scraper {\n",
    "        process 'span[class=\"ortho\"]', 'orth' => 'TEXT';\n",
    "        process 'span[class=\"taifead\"] span[class=\"player\"] a audio source', 'sounds[]' => '@src';\n",
    "        process 'span[class=\"phonological\"]', 'dialects[]' => scraper {\n",
    "            process 'a[class=\"phoneme\"]', 'phonemes[]' => 'TEXT';\n",
    "        };\n",
    "    };\n",
    "};\n",
    "\n",
    "if(! -d \"label\") {\n",
    "    die \"Directory 'label' does not exist\\n\";\n",
    "}\n",
    "\n",
    "# write shell headers to output files\n",
    "print WGET \"#!/bin/sh\\n\";\n",
    "print WGET \"mkdir mp3\\n\";\n",
    "\n",
    "print FFMPEG \"#!/bin/sh\\n\";\n",
    "print FFMPEG \"mkdir wav\\n\";\n",
    "\n",
    "# write .tsv header\n",
    "print ALL \"Orthographic\\t\";\n",
    "print ALL \"Audio (Gaoth Dobhair)\\tIPA (Gaoth Dobhair)\\t\";\n",
    "print ALL \"Audio (Ceathrú Rua)\\tIPA (Ceathrú Rua)\\t\";\n",
    "print ALL \"Audio (Corca Dhuibhne)\\tIPA (Corca Dhuibhne)\\n\";\n",
    "\n",
    "for my $i (1..77) {\n",
    "    my $res = $phones->scrape(URI->new(\"http://www.fuaimeanna.ie/en/Recordings.aspx?Page=$i\"));\n",
    "\n",
    "    for my $sound (@{$res->{'sounds'}}) {\n",
    "        my $word = $sound->{'orth'};\n",
    "        $word =~ s/^<//;\n",
    "        $word =~ s/>$//;\n",
    "        if($#{$sound->{'sounds'}} != 2 && $#{$sound->{'dialects'}} != 2) {\n",
    "            print STDERR \"Error reading <$word> on page $i\";\n",
    "        }\n",
    "        print ALL \"$word\\t\";\n",
    "        for my $j (0..2) {\n",
    "            my $sound_raw = ${$sound->{'sounds'}}[$j];\n",
    "            my $phones_raw = join(' ', @{${$sound->{'dialects'}}[$j]->{'phonemes'}});\n",
    "            # put everything in a tsv file first, because it doesn't make sense to hammer their server again\n",
    "            print ALL $sound_raw . \"\\t\" . $phones_raw;\n",
    "            print ALL \"\\t\" unless ($j == 2);\n",
    "\n",
    "            my $sound_base = $sound_raw;\n",
    "            $sound_base =~ s!/sounds/!!;\n",
    "            $sound_base =~ s/\\.mp3//;\n",
    "            \n",
    "            my $phones_out = $phones_raw;\n",
    "            # discard word boundary\n",
    "            $phones_out =~ s/ \\# / /g;\n",
    "            $phones_out =~ s/\\.//g;\n",
    "            $phones_out =~ s/ˈ//g;\n",
    "            $phones_out =~ s/\\s+/ /g;\n",
    "            $phones_out =~ s/^ //;\n",
    "            $phones_out =~ s/ $//;\n",
    "            \n",
    "            # write the script line\n",
    "            print WGET \"wget http://www.fuaimeanna.ie$sound_raw -O mp3/$sound_base.mp3\\n\";\n",
    "            print FFMPEG \"ffmpeg -i \\\"mp3/$sound_base.mp3\\\" -acodec pcm_s16le -ac 1 -ar 16000 wav/$sound_base.wav\\n\";\n",
    "            \n",
    "            # write the phones to the label file\n",
    "            my $label_file = \"label/$sound_base.phones\";\n",
    "            open(OUT, \">\", $label_file);\n",
    "            binmode(OUT, \":utf8\");\n",
    "            print OUT \"$phones_out\";\n",
    "            close(OUT);\n",
    "        }\n",
    "        # add a newline to the tsv file\n",
    "        print ALL \"\\n\";\n",
    "    }\n",
    "}"
   ]
  },
  {
   "cell_type": "code",
   "execution_count": null,
   "metadata": {},
   "outputs": [],
   "source": [
    "!mkdir label"
   ]
  },
  {
   "cell_type": "code",
   "execution_count": null,
   "metadata": {},
   "outputs": [],
   "source": [
    "%%capture\n",
    "!apt-get -y install libweb-scraper-perl liburi-perl"
   ]
  },
  {
   "cell_type": "code",
   "execution_count": null,
   "metadata": {},
   "outputs": [],
   "source": [
    "!chmod a+x fuaimeanna.pl"
   ]
  },
  {
   "cell_type": "code",
   "execution_count": null,
   "metadata": {},
   "outputs": [],
   "source": [
    "!./fuaimeanna.pl"
   ]
  },
  {
   "cell_type": "code",
   "execution_count": null,
   "metadata": {},
   "outputs": [],
   "source": [
    "%%capture\n",
    "!sh run-wget.sh\n",
    "!sh run-ffmpeg.sh"
   ]
  }
 ],
 "metadata": {
  "kernelspec": {
   "display_name": "Python 3",
   "language": "python",
   "name": "python3"
  },
  "language_info": {
   "codemirror_mode": {
    "name": "ipython",
    "version": 3
   },
   "file_extension": ".py",
   "mimetype": "text/x-python",
   "name": "python",
   "nbconvert_exporter": "python",
   "pygments_lexer": "ipython3",
   "version": "3.8.2"
  }
 },
 "nbformat": 4,
 "nbformat_minor": 4
}
