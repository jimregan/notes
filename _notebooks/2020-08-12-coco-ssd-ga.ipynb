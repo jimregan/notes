{
  "nbformat": 4,
  "nbformat_minor": 0,
  "metadata": {
    "colab": {
      "name": "coco-ssd-ga.ipynb",
      "provenance": []
    },
    "kernelspec": {
      "name": "python3",
      "display_name": "Python 3"
    }
  },
  "cells": [
    {
      "cell_type": "markdown",
      "metadata": {
        "id": "5a5cElP6mJmm"
      },
      "source": [
        "# \"Javascript hoops\"\n",
        "> \"tl;dr: building tensorflow-js object detector, adapted to Irish\"\n",
        "\n",
        "- toc: false\n",
        "- branch: master\n",
        "- comments: true\n",
        "- categories: [web, coco-ssd]"
      ]
    },
    {
      "cell_type": "code",
      "metadata": {
        "id": "7U3p6shHk66p",
        "colab": {
          "base_uri": "https://localhost:8080/"
        },
        "outputId": "35497bf9-3960-4c2e-c422-39b9843d88c4"
      },
      "source": [
        "!git clone https://github.com/jimregan/coco-ssd-ga"
      ],
      "execution_count": 1,
      "outputs": [
        {
          "output_type": "stream",
          "text": [
            "Cloning into 'coco-ssd-ga'...\n",
            "remote: Enumerating objects: 55, done.\u001b[K\n",
            "remote: Counting objects: 100% (55/55), done.\u001b[K\n",
            "remote: Compressing objects: 100% (38/38), done.\u001b[K\n",
            "remote: Total 55 (delta 17), reused 48 (delta 14), pack-reused 0\u001b[K\n",
            "Unpacking objects: 100% (55/55), done.\n"
          ],
          "name": "stdout"
        }
      ]
    },
    {
      "cell_type": "code",
      "metadata": {
        "id": "NElzqvWfv_X2"
      },
      "source": [
        "import os\n",
        "os.chdir('coco-ssd-ga')"
      ],
      "execution_count": 25,
      "outputs": []
    },
    {
      "cell_type": "code",
      "metadata": {
        "id": "bkdrTFEpoArg",
        "colab": {
          "base_uri": "https://localhost:8080/"
        },
        "outputId": "ad307982-a94b-47aa-98b1-74382b5a23e0"
      },
      "source": [
        "!npm install -g yarn rimraf browserify typescript ts-node @tensorflow/tfjs-core @tensorflow/tfjs-converter"
      ],
      "execution_count": 3,
      "outputs": [
        {
          "output_type": "stream",
          "text": [
            "\u001b[K\u001b[?25h\n",
            "> yarn@1.22.10 preinstall /tools/node/lib/node_modules/yarn\n",
            "> :; (node ./preinstall.js > /dev/null 2>&1 || true)\n",
            "\n",
            "\u001b[K\u001b[?25h/tools/node/bin/browserify -> /tools/node/lib/node_modules/browserify/bin/cmd.js\n",
            "/tools/node/bin/rimraf -> /tools/node/lib/node_modules/rimraf/bin.js\n",
            "/tools/node/bin/ts-node -> /tools/node/lib/node_modules/ts-node/dist/bin.js\n",
            "/tools/node/bin/ts-script -> /tools/node/lib/node_modules/ts-node/dist/bin-script-deprecated.js\n",
            "/tools/node/bin/ts-node-script -> /tools/node/lib/node_modules/ts-node/dist/bin-script.js\n",
            "/tools/node/bin/ts-node-transpile-only -> /tools/node/lib/node_modules/ts-node/dist/bin-transpile.js\n",
            "/tools/node/bin/tsc -> /tools/node/lib/node_modules/typescript/bin/tsc\n",
            "/tools/node/bin/tsserver -> /tools/node/lib/node_modules/typescript/bin/tsserver\n",
            "/tools/node/bin/yarn -> /tools/node/lib/node_modules/yarn/bin/yarn.js\n",
            "/tools/node/bin/yarnpkg -> /tools/node/lib/node_modules/yarn/bin/yarn.js\n",
            "\u001b[K\u001b[?25h+ rimraf@3.0.2\n",
            "+ yarn@1.22.10\n",
            "+ browserify@17.0.0\n",
            "+ ts-node@9.1.1\n",
            "+ @tensorflow/tfjs-converter@3.5.0\n",
            "+ @tensorflow/tfjs-core@3.5.0\n",
            "+ typescript@4.2.4\n",
            "added 203 packages from 137 contributors in 12.754s\n"
          ],
          "name": "stdout"
        }
      ]
    },
    {
      "cell_type": "code",
      "metadata": {
        "id": "FUp2J-_urTzF",
        "colab": {
          "base_uri": "https://localhost:8080/"
        },
        "outputId": "52b2bcca-fbb2-4581-85b5-f44d5073bbbf"
      },
      "source": [
        "!npm install"
      ],
      "execution_count": 4,
      "outputs": [
        {
          "output_type": "stream",
          "text": [
            "\u001b[K\u001b[?25h\u001b[37;40mnpm\u001b[0m \u001b[0m\u001b[30;43mWARN\u001b[0m \u001b[0m\u001b[35mdeprecated\u001b[0m fsevents@2.1.3: \"Please update to latest v2.3 or v2.2\"\n",
            "\u001b[K\u001b[?25h\u001b[37;40mnpm\u001b[0m \u001b[0m\u001b[30;43mWARN\u001b[0m \u001b[0m\u001b[35mdeprecated\u001b[0m core-js@2.6.12: core-js@<3 is no longer maintained and not recommended for usage due to the number of issues. Please, upgrade your dependencies to the actual version of core-js@3.\n",
            "\u001b[K\u001b[?25h\n",
            "> core-js@2.6.12 postinstall /content/coco-ssd-ga/node_modules/core-js\n",
            "> node -e \"try{require('./postinstall')}catch(e){}\"\n",
            "\n",
            "\u001b[96mThank you for using core-js (\u001b[94m https://github.com/zloirock/core-js \u001b[96m) for polyfilling JavaScript standard library!\u001b[0m\n",
            "\n",
            "\u001b[96mThe project needs your help! Please consider supporting of core-js on Open Collective or Patreon: \u001b[0m\n",
            "\u001b[96m>\u001b[94m https://opencollective.com/core-js \u001b[0m\n",
            "\u001b[96m>\u001b[94m https://www.patreon.com/zloirock \u001b[0m\n",
            "\n",
            "\u001b[96mAlso, the author of core-js (\u001b[94m https://github.com/zloirock \u001b[96m) is looking for a good job -)\u001b[0m\n",
            "\n",
            "\u001b[K\u001b[?25h\u001b[37;40mnpm\u001b[0m \u001b[0m\u001b[34;40mnotice\u001b[0m\u001b[35m\u001b[0m created a lockfile as package-lock.json. You should commit this file.\n",
            "\u001b[0m\u001b[37;40mnpm\u001b[0m \u001b[0m\u001b[30;43mWARN\u001b[0m \u001b[0m\u001b[35moptional\u001b[0m SKIPPING OPTIONAL DEPENDENCY: fsevents@~2.1.2 (node_modules/rollup/node_modules/fsevents):\n",
            "\u001b[0m\u001b[37;40mnpm\u001b[0m \u001b[0m\u001b[30;43mWARN\u001b[0m \u001b[0m\u001b[35mnotsup\u001b[0m SKIPPING OPTIONAL DEPENDENCY: Unsupported platform for fsevents@2.1.3: wanted {\"os\":\"darwin\",\"arch\":\"any\"} (current: {\"os\":\"linux\",\"arch\":\"x64\"})\n",
            "\u001b[0m\u001b[37;40mnpm\u001b[0m \u001b[0m\u001b[30;43mWARN\u001b[0m\u001b[35m\u001b[0m @rollup/plugin-typescript@3.1.1 requires a peer of rollup@^1.20.0 but none is installed. You must install peer dependencies yourself.\n",
            "\u001b[0m\n",
            "added 196 packages from 157 contributors and audited 197 packages in 10.534s\n",
            "\n",
            "10 packages are looking for funding\n",
            "  run `npm fund` for details\n",
            "\n",
            "found \u001b[92m0\u001b[0m vulnerabilities\n",
            "\n",
            "\u001b[K\u001b[?25h\n",
            "\u001b[33m\u001b[39m\n",
            "\u001b[33m   ╭────────────────────────────────────────────────────────────────╮\u001b[39m\n",
            "   \u001b[33m│\u001b[39m                                                                \u001b[33m│\u001b[39m\n",
            "   \u001b[33m│\u001b[39m      New \u001b[31mmajor\u001b[39m version of npm available! \u001b[31m6.14.8\u001b[39m → \u001b[32m7.11.1\u001b[39m       \u001b[33m│\u001b[39m\n",
            "   \u001b[33m│\u001b[39m   \u001b[33mChangelog:\u001b[39m \u001b[36mhttps://github.com/npm/cli/releases/tag/v7.11.1\u001b[39m   \u001b[33m│\u001b[39m\n",
            "   \u001b[33m│\u001b[39m               Run \u001b[32mnpm install -g npm\u001b[39m to update!                \u001b[33m│\u001b[39m\n",
            "   \u001b[33m│\u001b[39m                                                                \u001b[33m│\u001b[39m\n",
            "\u001b[33m   ╰────────────────────────────────────────────────────────────────╯\u001b[39m\n",
            "\u001b[33m\u001b[39m\n"
          ],
          "name": "stdout"
        }
      ]
    },
    {
      "cell_type": "code",
      "metadata": {
        "id": "uQAF3vDcuCrm",
        "colab": {
          "base_uri": "https://localhost:8080/"
        },
        "outputId": "9d0ec603-8da8-4f76-8b3b-fc7b22c56361"
      },
      "source": [
        "!yarn build\n"
      ],
      "execution_count": 5,
      "outputs": [
        {
          "output_type": "stream",
          "text": [
            "\u001b[2K\u001b[1G\u001b[1myarn run v1.22.10\u001b[22m\n",
            "\u001b[2K\u001b[1G\u001b[2m$ rimraf dist && tsc\u001b[22m\n",
            "\u001b[2K\u001b[1GDone in 6.76s.\n"
          ],
          "name": "stdout"
        }
      ]
    },
    {
      "cell_type": "code",
      "metadata": {
        "colab": {
          "base_uri": "https://localhost:8080/"
        },
        "id": "z8h_BVECXK1_",
        "outputId": "5e6b6a60-f9a5-44bc-ed4f-a03ea72ee836"
      },
      "source": [
        "!npm install yalc"
      ],
      "execution_count": 6,
      "outputs": [
        {
          "output_type": "stream",
          "text": [
            "\u001b[K\u001b[?25h\u001b[37;40mnpm\u001b[0m \u001b[0m\u001b[30;43mWARN\u001b[0m\u001b[35m\u001b[0m @rollup/plugin-typescript@3.1.1 requires a peer of rollup@^1.20.0 but none is installed. You must install peer dependencies yourself.\n",
            "\u001b[0m\u001b[37;40mnpm\u001b[0m \u001b[0m\u001b[30;43mWARN\u001b[0m \u001b[0m\u001b[35moptional\u001b[0m SKIPPING OPTIONAL DEPENDENCY: fsevents@2.1.3 (node_modules/fsevents):\n",
            "\u001b[0m\u001b[37;40mnpm\u001b[0m \u001b[0m\u001b[30;43mWARN\u001b[0m \u001b[0m\u001b[35mnotsup\u001b[0m SKIPPING OPTIONAL DEPENDENCY: Unsupported platform for fsevents@2.1.3: wanted {\"os\":\"darwin\",\"arch\":\"any\"} (current: {\"os\":\"linux\",\"arch\":\"x64\"})\n",
            "\u001b[0m\n",
            "+ yalc@1.0.0-pre.51\n",
            "updated 1 package and audited 197 packages in 2.25s\n",
            "\n",
            "8 packages are looking for funding\n",
            "  run `npm fund` for details\n",
            "\n",
            "found \u001b[92m0\u001b[0m vulnerabilities\n",
            "\n",
            "\u001b[K\u001b[?25h"
          ],
          "name": "stdout"
        }
      ]
    },
    {
      "cell_type": "code",
      "metadata": {
        "id": "yayhAzdKwsLB",
        "colab": {
          "base_uri": "https://localhost:8080/"
        },
        "outputId": "ac427537-1a05-4b65-ee80-8b2c529488ac"
      },
      "source": [
        "!npm install -g cross-env"
      ],
      "execution_count": 7,
      "outputs": [
        {
          "output_type": "stream",
          "text": [
            "\u001b[K\u001b[?25h/tools/node/bin/cross-env -> /tools/node/lib/node_modules/cross-env/src/bin/cross-env.js\n",
            "/tools/node/bin/cross-env-shell -> /tools/node/lib/node_modules/cross-env/src/bin/cross-env-shell.js\n",
            "\u001b[K\u001b[?25h+ cross-env@7.0.3\n",
            "added 7 packages from 5 contributors in 0.789s\n"
          ],
          "name": "stdout"
        }
      ]
    },
    {
      "cell_type": "code",
      "metadata": {
        "id": "0i78CYj1uOHj",
        "colab": {
          "base_uri": "https://localhost:8080/"
        },
        "outputId": "d3ab5fcb-029c-4969-8c83-610b21293e47"
      },
      "source": [
        "!npm install -g @tensorflow/tfjs-core @tensorflow/tfjs-converter rollup yalc\n",
        "!npm install --save install\n",
        "!yarn run publish-local ."
      ],
      "execution_count": 35,
      "outputs": [
        {
          "output_type": "stream",
          "text": [
            "\u001b[K\u001b[?25h/tools/node/bin/rollup -> /tools/node/lib/node_modules/rollup/dist/bin/rollup\n",
            "/tools/node/bin/yalc -> /tools/node/lib/node_modules/yalc/src/yalc.js\n",
            "\u001b[K\u001b[?25h\u001b[37;40mnpm\u001b[0m \u001b[0m\u001b[30;43mWARN\u001b[0m \u001b[0m\u001b[35moptional\u001b[0m SKIPPING OPTIONAL DEPENDENCY: fsevents@~2.3.1 (node_modules/rollup/node_modules/fsevents):\n",
            "\u001b[0m\u001b[37;40mnpm\u001b[0m \u001b[0m\u001b[30;43mWARN\u001b[0m \u001b[0m\u001b[35mnotsup\u001b[0m SKIPPING OPTIONAL DEPENDENCY: Unsupported platform for fsevents@2.3.2: wanted {\"os\":\"darwin\",\"arch\":\"any\"} (current: {\"os\":\"linux\",\"arch\":\"x64\"})\n",
            "\u001b[0m\n",
            "+ rollup@2.45.2\n",
            "+ yalc@1.0.0-pre.51\n",
            "+ @tensorflow/tfjs-core@3.5.0\n",
            "+ @tensorflow/tfjs-converter@3.5.0\n",
            "updated 4 packages in 3.883s\n",
            "\u001b[K\u001b[?25h\u001b[37;40mnpm\u001b[0m \u001b[0m\u001b[30;43mWARN\u001b[0m\u001b[35m\u001b[0m @rollup/plugin-typescript@3.1.1 requires a peer of rollup@^1.20.0 but none is installed. You must install peer dependencies yourself.\n",
            "\u001b[0m\u001b[37;40mnpm\u001b[0m \u001b[0m\u001b[30;43mWARN\u001b[0m \u001b[0m\u001b[35moptional\u001b[0m SKIPPING OPTIONAL DEPENDENCY: fsevents@2.1.3 (node_modules/fsevents):\n",
            "\u001b[0m\u001b[37;40mnpm\u001b[0m \u001b[0m\u001b[30;43mWARN\u001b[0m \u001b[0m\u001b[35mnotsup\u001b[0m SKIPPING OPTIONAL DEPENDENCY: Unsupported platform for fsevents@2.1.3: wanted {\"os\":\"darwin\",\"arch\":\"any\"} (current: {\"os\":\"linux\",\"arch\":\"x64\"})\n",
            "\u001b[0m\n",
            "+ install@0.13.0\n",
            "added 1 package from 1 contributor and audited 198 packages in 1.647s\n",
            "\n",
            "10 packages are looking for funding\n",
            "  run `npm fund` for details\n",
            "\n",
            "found \u001b[92m0\u001b[0m vulnerabilities\n",
            "\n",
            "\u001b[K\u001b[?25h\u001b[2K\u001b[1G\u001b[1myarn run v1.22.10\u001b[22m\n",
            "\u001b[2K\u001b[1G\u001b[2m$ yarn build && rollup -c && yalc push .\u001b[22m\n",
            "\u001b[2K\u001b[1G\u001b[2m$ rimraf dist && tsc\u001b[22m\n",
            "\u001b[36m\n",
            "\u001b[1msrc/index.ts\u001b[22m → \u001b[1mdist/coco-ssd.node.js\u001b[22m...\u001b[39m\n",
            "\u001b[32mcreated \u001b[1mdist/coco-ssd.node.js\u001b[22m in \u001b[1m8.9s\u001b[22m\u001b[39m\n",
            "coco-ssd-ga@2.1.0 published in store.\n",
            "\u001b[2K\u001b[1GDone in 16.51s.\n"
          ],
          "name": "stdout"
        }
      ]
    },
    {
      "cell_type": "code",
      "metadata": {
        "colab": {
          "base_uri": "https://localhost:8080/"
        },
        "id": "HaFeBm2VfIas",
        "outputId": "f3bcf37f-0cdf-48b8-dbab-8ae5512adad8"
      },
      "source": [
        "!npm install -g browserify"
      ],
      "execution_count": 32,
      "outputs": [
        {
          "output_type": "stream",
          "text": [
            "\u001b[K\u001b[?25h/tools/node/bin/browserify -> /tools/node/lib/node_modules/browserify/bin/cmd.js\n",
            "+ browserify@17.0.0\n",
            "updated 1 package in 4.871s\n"
          ],
          "name": "stdout"
        }
      ]
    },
    {
      "cell_type": "code",
      "metadata": {
        "id": "xWeTL9puxKU_",
        "colab": {
          "base_uri": "https://localhost:8080/"
        },
        "outputId": "4c7e233e-23a6-4a58-b03d-306288af4d11"
      },
      "source": [
        "!npm i minify -g"
      ],
      "execution_count": 27,
      "outputs": [
        {
          "output_type": "stream",
          "text": [
            "\u001b[K\u001b[?25h/tools/node/bin/minify -> /tools/node/lib/node_modules/minify/bin/minify.js\n",
            "+ minify@7.0.1\n",
            "added 26 packages from 52 contributors in 1.951s\n"
          ],
          "name": "stdout"
        }
      ]
    },
    {
      "cell_type": "code",
      "metadata": {
        "id": "SSWz1vPWgIlH"
      },
      "source": [
        "!browserify /content/coco-ssd-ga/dist/coco-ssd.node.js --s cocoGa -o /content/coco-ssd-ga/dist/coco-ssd.browser.js"
      ],
      "execution_count": 38,
      "outputs": []
    },
    {
      "cell_type": "code",
      "metadata": {
        "id": "yrixVGEQaA39"
      },
      "source": [
        "!minify /content/coco-ssd-ga/dist/coco-ssd.browser.js > /content/coco-ssd-ga/dist/coco-ssd.min.js"
      ],
      "execution_count": 39,
      "outputs": []
    }
  ]
}
