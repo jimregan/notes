{
  "nbformat": 4,
  "nbformat_minor": 0,
  "metadata": {
    "colab": {
      "provenance": []
    },
    "kernelspec": {
      "name": "python3",
      "display_name": "Python 3"
    },
    "language_info": {
      "name": "python"
    }
  },
  "cells": [
    {
      "cell_type": "code",
      "execution_count": null,
      "metadata": {
        "id": "TNgK3y_WwaPI"
      },
      "outputs": [],
      "source": [
        "!pip install pynlpl"
      ]
    },
    {
      "cell_type": "markdown",
      "source": [
        "# \"Playing with SimpleLanguageModel from pynlpl\"\n",
        "\n",
        "> \"I wanted to know if it could be used to write an ARPA LM. It cannot\"\n",
        "\n",
        "- toc: false\n",
        "- badges: true\n",
        "- categories: [pynlpl, lm, arpa]"
      ],
      "metadata": {
        "id": "ZOoDCtwyyc3l"
      }
    },
    {
      "cell_type": "code",
      "source": [
        "from pynlpl.lm.lm import SimpleLanguageModel"
      ],
      "metadata": {
        "colab": {
          "base_uri": "https://localhost:8080/"
        },
        "id": "cBaeQKIFwj-I",
        "outputId": "935184d3-2419-4376-bd0c-de3b75402b8a"
      },
      "execution_count": 2,
      "outputs": [
        {
          "output_type": "stream",
          "name": "stderr",
          "text": [
            "WARNING: The FoLiA library pynlpl.formats.folia is being used but this version is now deprecated and is replaced by FoLiAPy (pip install folia), see https://github.com/proycon/foliapy. Please update your software if you are a developer, if you are an end-user you can safely ignore this message.\n"
          ]
        }
      ]
    },
    {
      "cell_type": "code",
      "source": [
        "lm = SimpleLanguageModel(3)"
      ],
      "metadata": {
        "id": "8_b5C8mCwuMj"
      },
      "execution_count": 3,
      "outputs": []
    },
    {
      "cell_type": "code",
      "source": [
        "lm.append(\"test sentence one\")\n",
        "lm.append(\"also a test sentence\")"
      ],
      "metadata": {
        "id": "u9LGad43w0PR"
      },
      "execution_count": 4,
      "outputs": []
    },
    {
      "cell_type": "code",
      "source": [
        "lm.save(\"simple.lm\")"
      ],
      "metadata": {
        "id": "u8GsSkGRw5Bi"
      },
      "execution_count": 7,
      "outputs": []
    },
    {
      "cell_type": "code",
      "source": [
        "!cat simple.lm"
      ],
      "metadata": {
        "colab": {
          "base_uri": "https://localhost:8080/"
        },
        "id": "Q_TUUdlmw79U",
        "outputId": "47a494a4-df1f-495d-d93b-e871d93bf32c"
      },
      "execution_count": 8,
      "outputs": [
        {
          "output_type": "stream",
          "name": "stdout",
          "text": [
            "[simplelanguagemodel]\n",
            "n=3\n",
            "sentences=2\n",
            "beginmarker=<begin>\n",
            "endmarker=<end>\n",
            "casesensitive=1\n",
            "\n",
            "[freqlistN]\n",
            "<begin> <begin> test\t1\n",
            "<begin> test sentence\t1\n",
            "test sentence one\t1\n",
            "sentence one <end>\t1\n",
            "one <end> <end>\t1\n",
            "<begin> <begin> also\t1\n",
            "<begin> also a\t1\n",
            "also a test\t1\n",
            "a test sentence\t1\n",
            "test sentence <end>\t1\n",
            "sentence <end> <end>\t1\n",
            "[freqlistNm1]\n",
            "test sentence\t2\n",
            "<begin> test\t1\n",
            "sentence one\t1\n",
            "one <end>\t1\n",
            "<begin> also\t1\n",
            "also a\t1\n",
            "a test\t1\n",
            "sentence <end>\t1\n"
          ]
        }
      ]
    }
  ]
}
