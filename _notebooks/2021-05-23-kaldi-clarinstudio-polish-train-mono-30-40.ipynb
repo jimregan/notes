{
 "cells": [
  {
   "cell_type": "code",
   "execution_count": 1,
   "id": "distributed-arthur",
   "metadata": {
    "execution": {
     "iopub.execute_input": "2021-05-23T23:38:03.782980Z",
     "iopub.status.busy": "2021-05-23T23:38:03.781677Z",
     "iopub.status.idle": "2021-05-23T23:38:03.794888Z",
     "shell.execute_reply": "2021-05-23T23:38:03.795468Z",
     "shell.execute_reply.started": "2021-05-23T22:42:59.94366Z"
    },
    "papermill": {
     "duration": 0.032879,
     "end_time": "2021-05-23T23:38:03.795890",
     "exception": false,
     "start_time": "2021-05-23T23:38:03.763011",
     "status": "completed"
    },
    "tags": []
   },
   "outputs": [
    {
     "name": "stdout",
     "output_type": "stream",
     "text": [
      "/opt\n"
     ]
    }
   ],
   "source": [
    "%cd /opt"
   ]
  },
  {
   "cell_type": "code",
   "execution_count": 2,
   "id": "dutch-investing",
   "metadata": {
    "_cell_guid": "b1076dfc-b9ad-4769-8c92-a6c4dae69d19",
    "_uuid": "8f2839f25d086af736a60e9eeb907d3b93b6e0e5",
    "execution": {
     "iopub.execute_input": "2021-05-23T23:38:03.845332Z",
     "iopub.status.busy": "2021-05-23T23:38:03.831005Z",
     "iopub.status.idle": "2021-05-23T23:38:36.582335Z",
     "shell.execute_reply": "2021-05-23T23:38:36.581757Z",
     "shell.execute_reply.started": "2021-05-23T22:43:43.503379Z"
    },
    "papermill": {
     "duration": 32.77218,
     "end_time": "2021-05-23T23:38:36.582501",
     "exception": false,
     "start_time": "2021-05-23T23:38:03.810321",
     "status": "completed"
    },
    "tags": []
   },
   "outputs": [],
   "source": [
    "%%capture\n",
    "!tar xvf /kaggle/input/extract-prebuilt-kaldi-from-docker/kaldi.tar"
   ]
  },
  {
   "cell_type": "code",
   "execution_count": 3,
   "id": "administrative-madonna",
   "metadata": {
    "execution": {
     "iopub.execute_input": "2021-05-23T23:38:36.615513Z",
     "iopub.status.busy": "2021-05-23T23:38:36.614514Z",
     "iopub.status.idle": "2021-05-23T23:38:36.618769Z",
     "shell.execute_reply": "2021-05-23T23:38:36.619286Z",
     "shell.execute_reply.started": "2021-05-23T22:44:51.747433Z"
    },
    "papermill": {
     "duration": 0.023537,
     "end_time": "2021-05-23T23:38:36.619479",
     "exception": false,
     "start_time": "2021-05-23T23:38:36.595942",
     "status": "completed"
    },
    "tags": []
   },
   "outputs": [
    {
     "name": "stdout",
     "output_type": "stream",
     "text": [
      "/opt/kaldi/egs\n"
     ]
    }
   ],
   "source": [
    "%cd kaldi/egs"
   ]
  },
  {
   "cell_type": "code",
   "execution_count": 4,
   "id": "becoming-control",
   "metadata": {
    "execution": {
     "iopub.execute_input": "2021-05-23T23:38:36.656379Z",
     "iopub.status.busy": "2021-05-23T23:38:36.655693Z",
     "iopub.status.idle": "2021-05-23T23:38:40.440035Z",
     "shell.execute_reply": "2021-05-23T23:38:40.439120Z",
     "shell.execute_reply.started": "2021-05-23T22:44:55.283104Z"
    },
    "papermill": {
     "duration": 3.806972,
     "end_time": "2021-05-23T23:38:40.440242",
     "exception": false,
     "start_time": "2021-05-23T23:38:36.633270",
     "status": "completed"
    },
    "tags": []
   },
   "outputs": [
    {
     "name": "stdout",
     "output_type": "stream",
     "text": [
      "Cloning into 'ClarinStudioKaldi'...\r\n",
      "remote: Enumerating objects: 778, done.\u001b[K\r\n",
      "remote: Counting objects: 100% (3/3), done.\u001b[K\r\n",
      "remote: Compressing objects: 100% (3/3), done.\u001b[K\r\n",
      "remote: Total 778 (delta 0), reused 0 (delta 0), pack-reused 775\u001b[K\r\n",
      "Receiving objects: 100% (778/778), 35.26 MiB | 26.55 MiB/s, done.\r\n",
      "Resolving deltas: 100% (262/262), done.\r\n"
     ]
    }
   ],
   "source": [
    "!git clone https://github.com/danijel3/ClarinStudioKaldi"
   ]
  },
  {
   "cell_type": "code",
   "execution_count": 5,
   "id": "assumed-compatibility",
   "metadata": {
    "execution": {
     "iopub.execute_input": "2021-05-23T23:38:40.492575Z",
     "iopub.status.busy": "2021-05-23T23:38:40.491467Z",
     "iopub.status.idle": "2021-05-23T23:38:40.496921Z",
     "shell.execute_reply": "2021-05-23T23:38:40.497446Z",
     "shell.execute_reply.started": "2021-05-23T22:45:02.333219Z"
    },
    "papermill": {
     "duration": 0.034756,
     "end_time": "2021-05-23T23:38:40.497632",
     "exception": false,
     "start_time": "2021-05-23T23:38:40.462876",
     "status": "completed"
    },
    "tags": []
   },
   "outputs": [
    {
     "name": "stdout",
     "output_type": "stream",
     "text": [
      "/opt/kaldi/egs/ClarinStudioKaldi\n"
     ]
    }
   ],
   "source": [
    "%cd ClarinStudioKaldi"
   ]
  },
  {
   "cell_type": "code",
   "execution_count": 6,
   "id": "divided-internship",
   "metadata": {
    "execution": {
     "iopub.execute_input": "2021-05-23T23:38:40.557984Z",
     "iopub.status.busy": "2021-05-23T23:38:40.555619Z",
     "iopub.status.idle": "2021-05-23T23:41:22.479992Z",
     "shell.execute_reply": "2021-05-23T23:41:22.478905Z",
     "shell.execute_reply.started": "2021-05-23T22:45:13.828183Z"
    },
    "papermill": {
     "duration": 161.964063,
     "end_time": "2021-05-23T23:41:22.480360",
     "exception": false,
     "start_time": "2021-05-23T23:38:40.516297",
     "status": "completed"
    },
    "tags": []
   },
   "outputs": [],
   "source": [
    "%%capture\n",
    "!conda install -c bioconda perl-perlio-gzip -y"
   ]
  },
  {
   "cell_type": "code",
   "execution_count": 7,
   "id": "single-vessel",
   "metadata": {
    "execution": {
     "iopub.execute_input": "2021-05-23T23:41:22.525979Z",
     "iopub.status.busy": "2021-05-23T23:41:22.525219Z",
     "iopub.status.idle": "2021-05-23T23:41:22.527057Z",
     "shell.execute_reply": "2021-05-23T23:41:22.527508Z",
     "shell.execute_reply.started": "2021-05-23T22:48:01.867999Z"
    },
    "papermill": {
     "duration": 0.027215,
     "end_time": "2021-05-23T23:41:22.527686",
     "exception": false,
     "start_time": "2021-05-23T23:41:22.500471",
     "status": "completed"
    },
    "tags": []
   },
   "outputs": [],
   "source": [
    "import os\n",
    "os.environ['LD_LIBRARY_PATH'] = '/opt/conda/lib:/opt/kaldi/tools/openfst-1.6.7/lib:/opt/kaldi/src/lib'"
   ]
  },
  {
   "cell_type": "code",
   "execution_count": 8,
   "id": "published-production",
   "metadata": {
    "execution": {
     "iopub.execute_input": "2021-05-23T23:41:22.566158Z",
     "iopub.status.busy": "2021-05-23T23:41:22.565445Z",
     "iopub.status.idle": "2021-05-23T23:41:24.032728Z",
     "shell.execute_reply": "2021-05-23T23:41:24.032157Z",
     "shell.execute_reply.started": "2021-05-23T22:48:01.876848Z"
    },
    "papermill": {
     "duration": 1.48762,
     "end_time": "2021-05-23T23:41:24.033034",
     "exception": false,
     "start_time": "2021-05-23T23:41:22.545414",
     "status": "completed"
    },
    "tags": []
   },
   "outputs": [],
   "source": [
    "!cat path.sh|sed -e 's/~\\/apps/\\/opt/' > tmp\n",
    "!mv tmp path.sh"
   ]
  },
  {
   "cell_type": "code",
   "execution_count": 9,
   "id": "separated-costa",
   "metadata": {
    "execution": {
     "iopub.execute_input": "2021-05-23T23:41:24.082296Z",
     "iopub.status.busy": "2021-05-23T23:41:24.078461Z",
     "iopub.status.idle": "2021-05-23T23:41:24.800095Z",
     "shell.execute_reply": "2021-05-23T23:41:24.799373Z",
     "shell.execute_reply.started": "2021-05-23T22:48:03.38233Z"
    },
    "papermill": {
     "duration": 0.749513,
     "end_time": "2021-05-23T23:41:24.800241",
     "exception": false,
     "start_time": "2021-05-23T23:41:24.050728",
     "status": "completed"
    },
    "tags": []
   },
   "outputs": [],
   "source": [
    "!echo > local_clarin/clarin_pl_clean.sh"
   ]
  },
  {
   "cell_type": "code",
   "execution_count": 10,
   "id": "acquired-threshold",
   "metadata": {
    "execution": {
     "iopub.execute_input": "2021-05-23T23:41:24.848447Z",
     "iopub.status.busy": "2021-05-23T23:41:24.847810Z",
     "iopub.status.idle": "2021-05-23T23:41:27.768519Z",
     "shell.execute_reply": "2021-05-23T23:41:27.769196Z",
     "shell.execute_reply.started": "2021-05-23T22:48:04.106786Z"
    },
    "papermill": {
     "duration": 2.951871,
     "end_time": "2021-05-23T23:41:27.769389",
     "exception": false,
     "start_time": "2021-05-23T23:41:24.817518",
     "status": "completed"
    },
    "tags": []
   },
   "outputs": [],
   "source": [
    "!ln -s ../wsj/s5/steps\n",
    "!ln -s ../wsj/s5/conf\n",
    "!ln -s ../wsj/s5/local\n",
    "!ln -s ../wsj/s5/utils"
   ]
  },
  {
   "cell_type": "code",
   "execution_count": 11,
   "id": "limiting-suffering",
   "metadata": {
    "execution": {
     "iopub.execute_input": "2021-05-23T23:41:27.809265Z",
     "iopub.status.busy": "2021-05-23T23:41:27.808323Z",
     "iopub.status.idle": "2021-05-23T23:41:43.081841Z",
     "shell.execute_reply": "2021-05-23T23:41:43.081010Z",
     "shell.execute_reply.started": "2021-05-23T22:48:06.993185Z"
    },
    "papermill": {
     "duration": 15.294759,
     "end_time": "2021-05-23T23:41:43.081991",
     "exception": false,
     "start_time": "2021-05-23T23:41:27.787232",
     "status": "completed"
    },
    "tags": []
   },
   "outputs": [],
   "source": [
    "!cp -r /kaggle/input/kaldi-clarinstudio-polish-train-mono-1-30/data /kaggle/working/\n",
    "!cp -r /kaggle/input/kaldi-clarinstudio-polish-train-mono-1-30/exp /kaggle/working/"
   ]
  },
  {
   "cell_type": "code",
   "execution_count": 12,
   "id": "special-carpet",
   "metadata": {
    "execution": {
     "iopub.execute_input": "2021-05-23T23:41:43.129310Z",
     "iopub.status.busy": "2021-05-23T23:41:43.128113Z",
     "iopub.status.idle": "2021-05-23T23:41:44.593728Z",
     "shell.execute_reply": "2021-05-23T23:41:44.592599Z",
     "shell.execute_reply.started": "2021-05-23T22:48:21.907982Z"
    },
    "papermill": {
     "duration": 1.494258,
     "end_time": "2021-05-23T23:41:44.593932",
     "exception": false,
     "start_time": "2021-05-23T23:41:43.099674",
     "status": "completed"
    },
    "tags": []
   },
   "outputs": [],
   "source": [
    "!ln -s /kaggle/working/exp\n",
    "!ln -s /kaggle/working/data"
   ]
  },
  {
   "cell_type": "code",
   "execution_count": 13,
   "id": "demonstrated-feeling",
   "metadata": {
    "execution": {
     "iopub.execute_input": "2021-05-23T23:41:44.640269Z",
     "iopub.status.busy": "2021-05-23T23:41:44.639605Z",
     "iopub.status.idle": "2021-05-23T23:41:45.501561Z",
     "shell.execute_reply": "2021-05-23T23:41:45.500848Z",
     "shell.execute_reply.started": "2021-05-23T22:51:41.822193Z"
    },
    "papermill": {
     "duration": 0.890231,
     "end_time": "2021-05-23T23:41:45.501698",
     "exception": false,
     "start_time": "2021-05-23T23:41:44.611467",
     "status": "completed"
    },
    "tags": []
   },
   "outputs": [
    {
     "name": "stdout",
     "output_type": "stream",
     "text": [
      "925\r\n"
     ]
    }
   ],
   "source": [
    "!/opt/kaldi/src/gmmbin/gmm-info --print-args=false exp/mono0/30.mdl | grep gaussians | awk '{print $NF}'"
   ]
  },
  {
   "cell_type": "code",
   "execution_count": 14,
   "id": "gothic-serve",
   "metadata": {
    "execution": {
     "iopub.execute_input": "2021-05-23T23:41:45.545927Z",
     "iopub.status.busy": "2021-05-23T23:41:45.545195Z",
     "iopub.status.idle": "2021-05-23T23:41:45.550859Z",
     "shell.execute_reply": "2021-05-23T23:41:45.550206Z"
    },
    "papermill": {
     "duration": 0.031083,
     "end_time": "2021-05-23T23:41:45.551001",
     "exception": false,
     "start_time": "2021-05-23T23:41:45.519918",
     "status": "completed"
    },
    "tags": []
   },
   "outputs": [
    {
     "name": "stdout",
     "output_type": "stream",
     "text": [
      "Writing train_mono.sh\n"
     ]
    }
   ],
   "source": [
    "%%writefile train_mono.sh\n",
    "#!/usr/bin/env bash\n",
    "# Copyright 2012  Johns Hopkins University (Author: Daniel Povey)\n",
    "#           2019  Xiaohui Zhang\n",
    "# Apache 2.0\n",
    "\n",
    "# Trimmed down from WSJ train_mono.sh, to continue from 30\n",
    "# Begin configuration section.\n",
    "nj=4\n",
    "cmd=run.pl\n",
    "scale_opts=\"--transition-scale=1.0 --acoustic-scale=0.1 --self-loop-scale=0.1\"\n",
    "num_iters=40    # Number of iterations of training\n",
    "max_iter_inc=30 # Last iter to increase #Gauss on.\n",
    "regular_beam=10 # beam used after the first iteration\n",
    "retry_beam=40\n",
    "totgauss=1000 # Target #Gaussians.\n",
    "boost_silence=1.0 # Factor by which to boost silence likelihoods in alignment\n",
    "realign_iters=\"1 2 3 4 5 6 7 8 9 10 12 14 16 18 20 23 26 29 32 35 38\";\n",
    "config= # name of config file.\n",
    "stage=-4\n",
    "power=0.25\n",
    "# End configuration section.\n",
    "\n",
    "echo \"$0 $@\"  # Print the command line for logging\n",
    "\n",
    "if [ -f path.sh ]; then . ./path.sh; fi\n",
    ". parse_options.sh || exit 1;\n",
    "\n",
    "if [ $# != 3 ]; then\n",
    "  echo \"Usage: steps/train_mono.sh [options] <data-dir> <lang-dir> <exp-dir>\"\n",
    "  echo \" e.g.: steps/train_mono.sh data/train.1k data/lang exp/mono\"\n",
    "  echo \"main options (for others, see top of script file)\"\n",
    "  echo \"  --config <config-file>                           # config containing options\"\n",
    "  echo \"  --nj <nj>                                        # number of parallel jobs\"\n",
    "  echo \"  --cmd (utils/run.pl|utils/queue.pl <queue opts>) # how to run jobs.\"\n",
    "  exit 1;\n",
    "fi\n",
    "\n",
    "data=$1\n",
    "lang=$2\n",
    "dir=$3\n",
    "\n",
    "oov_sym=`cat $lang/oov.int` || exit 1;\n",
    "\n",
    "mkdir -p $dir/log\n",
    "echo $nj > $dir/num_jobs\n",
    "sdata=$data/split$nj;\n",
    "[[ -d $sdata && $data/feats.scp -ot $sdata ]] || split_data.sh $data $nj || exit 1;\n",
    "\n",
    "feats=\"ark,s,cs:apply-cmvn $cmvn_opts --utt2spk=ark:$sdata/JOB/utt2spk scp:$sdata/JOB/cmvn.scp scp:$sdata/JOB/feats.scp ark:- | add-deltas $delta_opts ark:- ark:- |\"\n",
    "\n",
    "cp $lang/phones.txt $dir || exit 1;\n",
    "\n",
    "numgauss=`gmm-info --print-args=false $dir/0.mdl | grep gaussians | awk '{print $NF}'`\n",
    "incgauss=$[($totgauss-$numgauss)/$max_iter_inc] # per-iter increment for #Gauss\n",
    "# update from last run\n",
    "#numgauss=`gmm-info --print-args=false $dir/30.mdl | grep gaussians | awk '{print $NF}'`\n",
    "#numgauss=925\n",
    "igauss=1\n",
    "while [ $igauss -lt 30 ];do\n",
    "    numgauss=$[$numgauss+$incgauss];\n",
    "    igauss=$[$igauss+1]\n",
    "done\n",
    "\n",
    "# beam is only set to $initial_beam for first run\n",
    "beam=$regular_beam\n",
    "x=30\n",
    "while [ $x -lt $num_iters ]; do\n",
    "  echo \"$0: Pass $x\"\n",
    "  if [ $stage -le $x ]; then\n",
    "    if echo $realign_iters | grep -w $x >/dev/null; then\n",
    "      echo \"$0: Aligning data\"\n",
    "      mdl=\"gmm-boost-silence --boost=$boost_silence `cat $lang/phones/optional_silence.csl` $dir/$x.mdl - |\"\n",
    "      $cmd JOB=1:$nj $dir/log/align.$x.JOB.log \\\n",
    "        gmm-align-compiled $scale_opts --beam=$beam --retry-beam=$retry_beam --careful=$careful \"$mdl\" \\\n",
    "        \"ark:gunzip -c $dir/fsts.JOB.gz|\" \"$feats\" \"ark,t:|gzip -c >$dir/ali.JOB.gz\" \\\n",
    "        || exit 1;\n",
    "    fi\n",
    "    $cmd JOB=1:$nj $dir/log/acc.$x.JOB.log \\\n",
    "      gmm-acc-stats-ali  $dir/$x.mdl \"$feats\" \"ark:gunzip -c $dir/ali.JOB.gz|\" \\\n",
    "      $dir/$x.JOB.acc || exit 1;\n",
    "\n",
    "    $cmd $dir/log/update.$x.log \\\n",
    "      gmm-est --write-occs=$dir/$[$x+1].occs --mix-up=$numgauss --power=$power $dir/$x.mdl \\\n",
    "      \"gmm-sum-accs - $dir/$x.*.acc|\" $dir/$[$x+1].mdl || exit 1;\n",
    "    rm $dir/$x.mdl $dir/$x.*.acc $dir/$x.occs 2>/dev/null\n",
    "  fi\n",
    "  if [ $x -le $max_iter_inc ]; then\n",
    "     numgauss=$[$numgauss+$incgauss];\n",
    "  fi\n",
    "  beam=$regular_beam\n",
    "  x=$[$x+1]\n",
    "done\n",
    "\n",
    "( cd $dir; rm final.{mdl,occs} 2>/dev/null; ln -s $x.mdl final.mdl; ln -s $x.occs final.occs )\n",
    "\n",
    "\n",
    "steps/diagnostic/analyze_alignments.sh --cmd \"$cmd\" $lang $dir\n",
    "utils/summarize_warnings.pl $dir/log\n",
    "\n",
    "steps/info/gmm_dir_info.pl $dir\n",
    "\n",
    "echo \"$0: Done training monophone system in $dir\"\n",
    "\n",
    "exit 0"
   ]
  },
  {
   "cell_type": "code",
   "execution_count": 15,
   "id": "elegant-literacy",
   "metadata": {
    "execution": {
     "iopub.execute_input": "2021-05-23T23:41:45.596104Z",
     "iopub.status.busy": "2021-05-23T23:41:45.592240Z",
     "iopub.status.idle": "2021-05-23T23:44:23.316992Z",
     "shell.execute_reply": "2021-05-23T23:44:23.316037Z"
    },
    "papermill": {
     "duration": 157.747882,
     "end_time": "2021-05-23T23:44:23.317231",
     "exception": false,
     "start_time": "2021-05-23T23:41:45.569349",
     "status": "completed"
    },
    "tags": []
   },
   "outputs": [
    {
     "name": "stdout",
     "output_type": "stream",
     "text": [
      "train_mono.sh --nj 40 data/train data/lang_nosp exp/mono0\r\n",
      "train_mono.sh: Pass 30\r\n",
      "train_mono.sh: Pass 31\r\n",
      "train_mono.sh: Pass 32\r\n",
      "train_mono.sh: Aligning data\r\n",
      "run.pl: 40 / 40 failed, log is in exp/mono0/log/align.32.*.log\r\n"
     ]
    }
   ],
   "source": [
    "!bash train_mono.sh --nj 40 data/train data/lang_nosp exp/mono0"
   ]
  }
 ],
 "metadata": {
  "kernelspec": {
   "display_name": "Python 3",
   "language": "python",
   "name": "python3"
  },
  "language_info": {
   "codemirror_mode": {
    "name": "ipython",
    "version": 3
   },
   "file_extension": ".py",
   "mimetype": "text/x-python",
   "name": "python",
   "nbconvert_exporter": "python",
   "pygments_lexer": "ipython3",
   "version": "3.7.10"
  },
  "papermill": {
   "default_parameters": {},
   "duration": 388.813842,
   "end_time": "2021-05-23T23:44:24.149426",
   "environment_variables": {},
   "exception": null,
   "input_path": "__notebook__.ipynb",
   "output_path": "__notebook__.ipynb",
   "parameters": {},
   "start_time": "2021-05-23T23:37:55.335584",
   "version": "2.3.3"
  }
 },
 "nbformat": 4,
 "nbformat_minor": 5
}
