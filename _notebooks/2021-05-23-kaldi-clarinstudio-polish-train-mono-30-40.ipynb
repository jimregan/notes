{
 "cells": [
  {
   "cell_type": "code",
   "execution_count": 1,
   "id": "exposed-briefing",
   "metadata": {
    "execution": {
     "iopub.execute_input": "2021-05-23T23:29:17.844368Z",
     "iopub.status.busy": "2021-05-23T23:29:17.843204Z",
     "iopub.status.idle": "2021-05-23T23:29:17.848454Z",
     "shell.execute_reply": "2021-05-23T23:29:17.849115Z",
     "shell.execute_reply.started": "2021-05-23T22:42:59.94366Z"
    },
    "papermill": {
     "duration": 0.032176,
     "end_time": "2021-05-23T23:29:17.849471",
     "exception": false,
     "start_time": "2021-05-23T23:29:17.817295",
     "status": "completed"
    },
    "tags": []
   },
   "outputs": [
    {
     "name": "stdout",
     "output_type": "stream",
     "text": [
      "/opt\n"
     ]
    }
   ],
   "source": [
    "%cd /opt"
   ]
  },
  {
   "cell_type": "code",
   "execution_count": 2,
   "id": "separate-lewis",
   "metadata": {
    "_cell_guid": "b1076dfc-b9ad-4769-8c92-a6c4dae69d19",
    "_uuid": "8f2839f25d086af736a60e9eeb907d3b93b6e0e5",
    "execution": {
     "iopub.execute_input": "2021-05-23T23:29:17.898329Z",
     "iopub.status.busy": "2021-05-23T23:29:17.897106Z",
     "iopub.status.idle": "2021-05-23T23:29:54.013303Z",
     "shell.execute_reply": "2021-05-23T23:29:54.013948Z",
     "shell.execute_reply.started": "2021-05-23T22:43:43.503379Z"
    },
    "papermill": {
     "duration": 36.15014,
     "end_time": "2021-05-23T23:29:54.014156",
     "exception": false,
     "start_time": "2021-05-23T23:29:17.864016",
     "status": "completed"
    },
    "tags": []
   },
   "outputs": [],
   "source": [
    "%%capture\n",
    "!tar xvf /kaggle/input/extract-prebuilt-kaldi-from-docker/kaldi.tar"
   ]
  },
  {
   "cell_type": "code",
   "execution_count": 3,
   "id": "compatible-vertical",
   "metadata": {
    "execution": {
     "iopub.execute_input": "2021-05-23T23:29:54.045359Z",
     "iopub.status.busy": "2021-05-23T23:29:54.044746Z",
     "iopub.status.idle": "2021-05-23T23:29:54.052294Z",
     "shell.execute_reply": "2021-05-23T23:29:54.051446Z",
     "shell.execute_reply.started": "2021-05-23T22:44:51.747433Z"
    },
    "papermill": {
     "duration": 0.024647,
     "end_time": "2021-05-23T23:29:54.052476",
     "exception": false,
     "start_time": "2021-05-23T23:29:54.027829",
     "status": "completed"
    },
    "tags": []
   },
   "outputs": [
    {
     "name": "stdout",
     "output_type": "stream",
     "text": [
      "/opt/kaldi/egs\n"
     ]
    }
   ],
   "source": [
    "%cd kaldi/egs"
   ]
  },
  {
   "cell_type": "code",
   "execution_count": 4,
   "id": "dramatic-visit",
   "metadata": {
    "execution": {
     "iopub.execute_input": "2021-05-23T23:29:54.089925Z",
     "iopub.status.busy": "2021-05-23T23:29:54.085005Z",
     "iopub.status.idle": "2021-05-23T23:29:59.967470Z",
     "shell.execute_reply": "2021-05-23T23:29:59.966892Z",
     "shell.execute_reply.started": "2021-05-23T22:44:55.283104Z"
    },
    "papermill": {
     "duration": 5.901149,
     "end_time": "2021-05-23T23:29:59.967656",
     "exception": false,
     "start_time": "2021-05-23T23:29:54.066507",
     "status": "completed"
    },
    "tags": []
   },
   "outputs": [
    {
     "name": "stdout",
     "output_type": "stream",
     "text": [
      "Cloning into 'ClarinStudioKaldi'...\r\n",
      "remote: Enumerating objects: 778, done.\u001b[K\r\n",
      "remote: Counting objects: 100% (3/3), done.\u001b[K\r\n",
      "remote: Compressing objects: 100% (3/3), done.\u001b[K\r\n",
      "remote: Total 778 (delta 0), reused 0 (delta 0), pack-reused 775\u001b[K\r\n",
      "Receiving objects: 100% (778/778), 35.26 MiB | 24.97 MiB/s, done.\r\n",
      "Resolving deltas: 100% (262/262), done.\r\n"
     ]
    }
   ],
   "source": [
    "!git clone https://github.com/danijel3/ClarinStudioKaldi"
   ]
  },
  {
   "cell_type": "code",
   "execution_count": 5,
   "id": "declared-bidding",
   "metadata": {
    "execution": {
     "iopub.execute_input": "2021-05-23T23:30:00.010949Z",
     "iopub.status.busy": "2021-05-23T23:30:00.010135Z",
     "iopub.status.idle": "2021-05-23T23:30:00.013771Z",
     "shell.execute_reply": "2021-05-23T23:30:00.014363Z",
     "shell.execute_reply.started": "2021-05-23T22:45:02.333219Z"
    },
    "papermill": {
     "duration": 0.028265,
     "end_time": "2021-05-23T23:30:00.014527",
     "exception": false,
     "start_time": "2021-05-23T23:29:59.986262",
     "status": "completed"
    },
    "tags": []
   },
   "outputs": [
    {
     "name": "stdout",
     "output_type": "stream",
     "text": [
      "/opt/kaldi/egs/ClarinStudioKaldi\n"
     ]
    }
   ],
   "source": [
    "%cd ClarinStudioKaldi"
   ]
  },
  {
   "cell_type": "code",
   "execution_count": 6,
   "id": "prospective-grove",
   "metadata": {
    "execution": {
     "iopub.execute_input": "2021-05-23T23:30:00.064178Z",
     "iopub.status.busy": "2021-05-23T23:30:00.058245Z",
     "iopub.status.idle": "2021-05-23T23:32:39.811290Z",
     "shell.execute_reply": "2021-05-23T23:32:39.810687Z",
     "shell.execute_reply.started": "2021-05-23T22:45:13.828183Z"
    },
    "papermill": {
     "duration": 159.779107,
     "end_time": "2021-05-23T23:32:39.811480",
     "exception": false,
     "start_time": "2021-05-23T23:30:00.032373",
     "status": "completed"
    },
    "tags": []
   },
   "outputs": [],
   "source": [
    "%%capture\n",
    "!conda install -c bioconda perl-perlio-gzip -y"
   ]
  },
  {
   "cell_type": "code",
   "execution_count": 7,
   "id": "awful-toronto",
   "metadata": {
    "execution": {
     "iopub.execute_input": "2021-05-23T23:32:39.853961Z",
     "iopub.status.busy": "2021-05-23T23:32:39.852991Z",
     "iopub.status.idle": "2021-05-23T23:32:39.856288Z",
     "shell.execute_reply": "2021-05-23T23:32:39.855609Z",
     "shell.execute_reply.started": "2021-05-23T22:48:01.867999Z"
    },
    "papermill": {
     "duration": 0.026604,
     "end_time": "2021-05-23T23:32:39.856446",
     "exception": false,
     "start_time": "2021-05-23T23:32:39.829842",
     "status": "completed"
    },
    "tags": []
   },
   "outputs": [],
   "source": [
    "import os\n",
    "os.environ['LD_LIBRARY_PATH'] = '/opt/conda/lib:/opt/kaldi/tools/openfst-1.6.7/lib:/opt/kaldi/src/lib'"
   ]
  },
  {
   "cell_type": "code",
   "execution_count": 8,
   "id": "bacterial-glossary",
   "metadata": {
    "execution": {
     "iopub.execute_input": "2021-05-23T23:32:39.901650Z",
     "iopub.status.busy": "2021-05-23T23:32:39.900949Z",
     "iopub.status.idle": "2021-05-23T23:32:41.344859Z",
     "shell.execute_reply": "2021-05-23T23:32:41.345411Z",
     "shell.execute_reply.started": "2021-05-23T22:48:01.876848Z"
    },
    "papermill": {
     "duration": 1.471621,
     "end_time": "2021-05-23T23:32:41.345653",
     "exception": false,
     "start_time": "2021-05-23T23:32:39.874032",
     "status": "completed"
    },
    "tags": []
   },
   "outputs": [],
   "source": [
    "!cat path.sh|sed -e 's/~\\/apps/\\/opt/' > tmp\n",
    "!mv tmp path.sh"
   ]
  },
  {
   "cell_type": "code",
   "execution_count": 9,
   "id": "rotary-audit",
   "metadata": {
    "execution": {
     "iopub.execute_input": "2021-05-23T23:32:41.385128Z",
     "iopub.status.busy": "2021-05-23T23:32:41.384390Z",
     "iopub.status.idle": "2021-05-23T23:32:42.099306Z",
     "shell.execute_reply": "2021-05-23T23:32:42.098445Z",
     "shell.execute_reply.started": "2021-05-23T22:48:03.38233Z"
    },
    "papermill": {
     "duration": 0.735968,
     "end_time": "2021-05-23T23:32:42.099487",
     "exception": false,
     "start_time": "2021-05-23T23:32:41.363519",
     "status": "completed"
    },
    "tags": []
   },
   "outputs": [],
   "source": [
    "!echo > local_clarin/clarin_pl_clean.sh"
   ]
  },
  {
   "cell_type": "code",
   "execution_count": 10,
   "id": "recorded-bunch",
   "metadata": {
    "execution": {
     "iopub.execute_input": "2021-05-23T23:32:42.149432Z",
     "iopub.status.busy": "2021-05-23T23:32:42.144728Z",
     "iopub.status.idle": "2021-05-23T23:32:45.012058Z",
     "shell.execute_reply": "2021-05-23T23:32:45.011234Z",
     "shell.execute_reply.started": "2021-05-23T22:48:04.106786Z"
    },
    "papermill": {
     "duration": 2.894624,
     "end_time": "2021-05-23T23:32:45.012306",
     "exception": false,
     "start_time": "2021-05-23T23:32:42.117682",
     "status": "completed"
    },
    "tags": []
   },
   "outputs": [],
   "source": [
    "!ln -s ../wsj/s5/steps\n",
    "!ln -s ../wsj/s5/conf\n",
    "!ln -s ../wsj/s5/local\n",
    "!ln -s ../wsj/s5/utils"
   ]
  },
  {
   "cell_type": "code",
   "execution_count": 11,
   "id": "digital-bracelet",
   "metadata": {
    "execution": {
     "iopub.execute_input": "2021-05-23T23:32:45.060287Z",
     "iopub.status.busy": "2021-05-23T23:32:45.056553Z",
     "iopub.status.idle": "2021-05-23T23:32:59.664092Z",
     "shell.execute_reply": "2021-05-23T23:32:59.663515Z",
     "shell.execute_reply.started": "2021-05-23T22:48:06.993185Z"
    },
    "papermill": {
     "duration": 14.633253,
     "end_time": "2021-05-23T23:32:59.664267",
     "exception": false,
     "start_time": "2021-05-23T23:32:45.031014",
     "status": "completed"
    },
    "tags": []
   },
   "outputs": [],
   "source": [
    "!cp -r /kaggle/input/kaldi-clarinstudio-polish-train-mono-1-30/data /kaggle/working/\n",
    "!cp -r /kaggle/input/kaldi-clarinstudio-polish-train-mono-1-30/exp /kaggle/working/"
   ]
  },
  {
   "cell_type": "code",
   "execution_count": 12,
   "id": "banner-venezuela",
   "metadata": {
    "execution": {
     "iopub.execute_input": "2021-05-23T23:32:59.707874Z",
     "iopub.status.busy": "2021-05-23T23:32:59.707211Z",
     "iopub.status.idle": "2021-05-23T23:33:01.145010Z",
     "shell.execute_reply": "2021-05-23T23:33:01.145485Z",
     "shell.execute_reply.started": "2021-05-23T22:48:21.907982Z"
    },
    "papermill": {
     "duration": 1.462195,
     "end_time": "2021-05-23T23:33:01.145714",
     "exception": false,
     "start_time": "2021-05-23T23:32:59.683519",
     "status": "completed"
    },
    "tags": []
   },
   "outputs": [],
   "source": [
    "!ln -s /kaggle/working/exp\n",
    "!ln -s /kaggle/working/data"
   ]
  },
  {
   "cell_type": "code",
   "execution_count": 13,
   "id": "simplified-words",
   "metadata": {
    "execution": {
     "iopub.execute_input": "2021-05-23T23:33:01.192453Z",
     "iopub.status.busy": "2021-05-23T23:33:01.191780Z",
     "iopub.status.idle": "2021-05-23T23:33:01.995552Z",
     "shell.execute_reply": "2021-05-23T23:33:01.994978Z",
     "shell.execute_reply.started": "2021-05-23T22:51:41.822193Z"
    },
    "papermill": {
     "duration": 0.832221,
     "end_time": "2021-05-23T23:33:01.995743",
     "exception": false,
     "start_time": "2021-05-23T23:33:01.163522",
     "status": "completed"
    },
    "tags": []
   },
   "outputs": [
    {
     "name": "stdout",
     "output_type": "stream",
     "text": [
      "925\r\n"
     ]
    }
   ],
   "source": [
    "!/opt/kaldi/src/gmmbin/gmm-info --print-args=false exp/mono0/30.mdl | grep gaussians | awk '{print $NF}'"
   ]
  },
  {
   "cell_type": "code",
   "execution_count": 14,
   "id": "studied-handy",
   "metadata": {
    "execution": {
     "iopub.execute_input": "2021-05-23T23:33:02.040794Z",
     "iopub.status.busy": "2021-05-23T23:33:02.040002Z",
     "iopub.status.idle": "2021-05-23T23:33:02.044517Z",
     "shell.execute_reply": "2021-05-23T23:33:02.043890Z"
    },
    "papermill": {
     "duration": 0.029928,
     "end_time": "2021-05-23T23:33:02.044695",
     "exception": false,
     "start_time": "2021-05-23T23:33:02.014767",
     "status": "completed"
    },
    "tags": []
   },
   "outputs": [
    {
     "name": "stdout",
     "output_type": "stream",
     "text": [
      "Writing train_mono.sh\n"
     ]
    }
   ],
   "source": [
    "%%writefile train_mono.sh\n",
    "#!/usr/bin/env bash\n",
    "# Copyright 2012  Johns Hopkins University (Author: Daniel Povey)\n",
    "#           2019  Xiaohui Zhang\n",
    "# Apache 2.0\n",
    "\n",
    "# Trimmed down from WSJ train_mono.sh, to continue from 30\n",
    "# Begin configuration section.\n",
    "nj=4\n",
    "cmd=run.pl\n",
    "scale_opts=\"--transition-scale=1.0 --acoustic-scale=0.1 --self-loop-scale=0.1\"\n",
    "num_iters=40    # Number of iterations of training\n",
    "max_iter_inc=30 # Last iter to increase #Gauss on.\n",
    "regular_beam=10 # beam used after the first iteration\n",
    "retry_beam=40\n",
    "totgauss=1000 # Target #Gaussians.\n",
    "boost_silence=1.0 # Factor by which to boost silence likelihoods in alignment\n",
    "realign_iters=\"1 2 3 4 5 6 7 8 9 10 12 14 16 18 20 23 26 29 32 35 38\";\n",
    "config= # name of config file.\n",
    "stage=-4\n",
    "power=0.25\n",
    "# End configuration section.\n",
    "\n",
    "echo \"$0 $@\"  # Print the command line for logging\n",
    "\n",
    "if [ -f path.sh ]; then . ./path.sh; fi\n",
    ". parse_options.sh || exit 1;\n",
    "\n",
    "if [ $# != 3 ]; then\n",
    "  echo \"Usage: steps/train_mono.sh [options] <data-dir> <lang-dir> <exp-dir>\"\n",
    "  echo \" e.g.: steps/train_mono.sh data/train.1k data/lang exp/mono\"\n",
    "  echo \"main options (for others, see top of script file)\"\n",
    "  echo \"  --config <config-file>                           # config containing options\"\n",
    "  echo \"  --nj <nj>                                        # number of parallel jobs\"\n",
    "  echo \"  --cmd (utils/run.pl|utils/queue.pl <queue opts>) # how to run jobs.\"\n",
    "  exit 1;\n",
    "fi\n",
    "\n",
    "data=$1\n",
    "lang=$2\n",
    "dir=$3\n",
    "\n",
    "oov_sym=`cat $lang/oov.int` || exit 1;\n",
    "\n",
    "mkdir -p $dir/log\n",
    "echo $nj > $dir/num_jobs\n",
    "sdata=$data/split$nj;\n",
    "[[ -d $sdata && $data/feats.scp -ot $sdata ]] || split_data.sh $data $nj || exit 1;\n",
    "\n",
    "feats=\"ark,s,cs:apply-cmvn $cmvn_opts --utt2spk=ark:$sdata/JOB/utt2spk scp:$sdata/JOB/cmvn.scp scp:$sdata/JOB/feats.scp ark:- | add-deltas $delta_opts ark:- ark:- |\"\n",
    "\n",
    "cp $lang/phones.txt $dir || exit 1;\n",
    "\n",
    "numgauss=`gmm-info --print-args=false $dir/0.mdl | grep gaussians | awk '{print $NF}'`\n",
    "incgauss=$[($totgauss-$numgauss)/$max_iter_inc] # per-iter increment for #Gauss\n",
    "# update from last run\n",
    "#numgauss=`gmm-info --print-args=false $dir/30.mdl | grep gaussians | awk '{print $NF}'`\n",
    "#numgauss=925\n",
    "igauss=1\n",
    "while [ $igauss -lt 30 ];do\n",
    "    numgauss=$[$numgauss+$incgauss];\n",
    "    igauss=$[$igauss+1]\n",
    "done\n",
    "\n",
    "# beam is only set to $initial_beam for first run\n",
    "beam=$regular_beam\n",
    "x=30\n",
    "while [ $x -lt $num_iters ]; do\n",
    "  echo \"$0: Pass $x\"\n",
    "  if [ $stage -le $x ]; then\n",
    "    if echo $realign_iters | grep -w $x >/dev/null; then\n",
    "      echo \"$0: Aligning data\"\n",
    "      mdl=\"gmm-boost-silence --boost=$boost_silence `cat $lang/phones/optional_silence.csl` $dir/$x.mdl - |\"\n",
    "      $cmd JOB=1:$nj $dir/log/align.$x.JOB.log \\\n",
    "        gmm-align-compiled $scale_opts --beam=$beam --retry-beam=$retry_beam --careful=$careful \"$mdl\" \\\n",
    "        \"ark:gunzip -c $dir/fsts.JOB.gz|\" \"$feats\" \"ark,t:|gzip -c >$dir/ali.JOB.gz\" \\\n",
    "        || exit 1;\n",
    "    fi\n",
    "    $cmd JOB=1:$nj $dir/log/acc.$x.JOB.log \\\n",
    "      gmm-acc-stats-ali  $dir/$x.mdl \"$feats\" \"ark:gunzip -c $dir/ali.JOB.gz|\" \\\n",
    "      $dir/$x.JOB.acc || exit 1;\n",
    "\n",
    "    $cmd $dir/log/update.$x.log \\\n",
    "      gmm-est --write-occs=$dir/$[$x+1].occs --mix-up=$numgauss --power=$power $dir/$x.mdl \\\n",
    "      \"gmm-sum-accs - $dir/$x.*.acc|\" $dir/$[$x+1].mdl || exit 1;\n",
    "    rm $dir/$x.mdl $dir/$x.*.acc $dir/$x.occs 2>/dev/null\n",
    "  fi\n",
    "  if [ $x -le $max_iter_inc ]; then\n",
    "     numgauss=$[$numgauss+$incgauss];\n",
    "  fi\n",
    "  beam=$regular_beam\n",
    "  x=$[$x+1]\n",
    "done\n",
    "\n",
    "( cd $dir; rm final.{mdl,occs} 2>/dev/null; ln -s $x.mdl final.mdl; ln -s $x.occs final.occs )\n",
    "\n",
    "\n",
    "steps/diagnostic/analyze_alignments.sh --cmd \"$cmd\" $lang $dir\n",
    "utils/summarize_warnings.pl $dir/log\n",
    "\n",
    "steps/info/gmm_dir_info.pl $dir\n",
    "\n",
    "echo \"$0: Done training monophone system in $dir\"\n",
    "\n",
    "exit 0"
   ]
  },
  {
   "cell_type": "code",
   "execution_count": 15,
   "id": "experienced-alexandria",
   "metadata": {
    "execution": {
     "iopub.execute_input": "2021-05-23T23:33:02.093704Z",
     "iopub.status.busy": "2021-05-23T23:33:02.093020Z",
     "iopub.status.idle": "2021-05-23T23:35:41.023642Z",
     "shell.execute_reply": "2021-05-23T23:35:41.023073Z"
    },
    "papermill": {
     "duration": 158.959742,
     "end_time": "2021-05-23T23:35:41.023814",
     "exception": false,
     "start_time": "2021-05-23T23:33:02.064072",
     "status": "completed"
    },
    "tags": []
   },
   "outputs": [
    {
     "name": "stdout",
     "output_type": "stream",
     "text": [
      "train_mono.sh --nj 40 data/train data/lang_nosp exp/mono0\r\n",
      "train_mono.sh: Pass 30\r\n",
      "train_mono.sh: Pass 31\r\n",
      "train_mono.sh: Pass 32\r\n",
      "train_mono.sh: Aligning data\r\n",
      "run.pl: 40 / 40 failed, log is in exp/mono0/log/align.32.*.log\r\n"
     ]
    }
   ],
   "source": [
    "!bash train_mono.sh --nj 40 data/train data/lang_nosp exp/mono0"
   ]
  }
 ],
 "metadata": {
  "kernelspec": {
   "display_name": "Python 3",
   "language": "python",
   "name": "python3"
  },
  "language_info": {
   "codemirror_mode": {
    "name": "ipython",
    "version": 3
   },
   "file_extension": ".py",
   "mimetype": "text/x-python",
   "name": "python",
   "nbconvert_exporter": "python",
   "pygments_lexer": "ipython3",
   "version": "3.7.10"
  },
  "papermill": {
   "default_parameters": {},
   "duration": 393.011429,
   "end_time": "2021-05-23T23:35:41.957689",
   "environment_variables": {},
   "exception": null,
   "input_path": "__notebook__.ipynb",
   "output_path": "__notebook__.ipynb",
   "parameters": {},
   "start_time": "2021-05-23T23:29:08.946260",
   "version": "2.3.3"
  }
 },
 "nbformat": 4,
 "nbformat_minor": 5
}
