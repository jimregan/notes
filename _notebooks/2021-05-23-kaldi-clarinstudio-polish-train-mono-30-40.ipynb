{
 "cells": [
  {
   "cell_type": "markdown",
   "id": "9d17f2b7",
   "metadata": {},
   "source": [
    "# \"Kaldi on Kaggle, ClarinStudio PL Mono iters 30-40\"\n",
    "\n",
    "> \"This was my fault; the lexicon wasn't being created properly and it took too long to align\"\n",
    "\n",
    "- toc: false\n",
    "- branch: master\n",
    "- hidden: true\n",
    "- categories: [kaldi, kaggle, clarinstudio]"
   ]
  },
  {
   "cell_type": "code",
   "execution_count": 1,
   "id": "french-legend",
   "metadata": {
    "execution": {
     "iopub.execute_input": "2021-05-24T08:47:20.613640Z",
     "iopub.status.busy": "2021-05-24T08:47:20.612591Z",
     "iopub.status.idle": "2021-05-24T08:47:20.621684Z",
     "shell.execute_reply": "2021-05-24T08:47:20.622336Z",
     "shell.execute_reply.started": "2021-05-23T22:42:59.94366Z"
    },
    "papermill": {
     "duration": 0.026667,
     "end_time": "2021-05-24T08:47:20.622654",
     "exception": false,
     "start_time": "2021-05-24T08:47:20.595987",
     "status": "completed"
    },
    "tags": []
   },
   "outputs": [
    {
     "name": "stdout",
     "output_type": "stream",
     "text": [
      "/opt\n"
     ]
    }
   ],
   "source": [
    "%cd /opt"
   ]
  },
  {
   "cell_type": "code",
   "execution_count": 2,
   "id": "liable-plasma",
   "metadata": {
    "_cell_guid": "b1076dfc-b9ad-4769-8c92-a6c4dae69d19",
    "_uuid": "8f2839f25d086af736a60e9eeb907d3b93b6e0e5",
    "execution": {
     "iopub.execute_input": "2021-05-24T08:47:20.651668Z",
     "iopub.status.busy": "2021-05-24T08:47:20.651141Z",
     "iopub.status.idle": "2021-05-24T08:48:04.859961Z",
     "shell.execute_reply": "2021-05-24T08:48:04.861112Z",
     "shell.execute_reply.started": "2021-05-23T22:43:43.503379Z"
    },
    "papermill": {
     "duration": 44.22544,
     "end_time": "2021-05-24T08:48:04.862170",
     "exception": false,
     "start_time": "2021-05-24T08:47:20.636730",
     "status": "completed"
    },
    "tags": []
   },
   "outputs": [],
   "source": [
    "%%capture\n",
    "!tar xvf /kaggle/input/extract-prebuilt-kaldi-from-docker/kaldi.tar"
   ]
  },
  {
   "cell_type": "code",
   "execution_count": 3,
   "id": "filled-synthetic",
   "metadata": {
    "execution": {
     "iopub.execute_input": "2021-05-24T08:48:05.481534Z",
     "iopub.status.busy": "2021-05-24T08:48:05.477541Z",
     "iopub.status.idle": "2021-05-24T08:48:05.582045Z",
     "shell.execute_reply": "2021-05-24T08:48:05.582783Z",
     "shell.execute_reply.started": "2021-05-23T22:44:51.747433Z"
    },
    "papermill": {
     "duration": 0.137929,
     "end_time": "2021-05-24T08:48:05.583005",
     "exception": false,
     "start_time": "2021-05-24T08:48:05.445076",
     "status": "completed"
    },
    "tags": []
   },
   "outputs": [
    {
     "name": "stdout",
     "output_type": "stream",
     "text": [
      "/opt/kaldi/egs\n"
     ]
    }
   ],
   "source": [
    "%cd kaldi/egs"
   ]
  },
  {
   "cell_type": "code",
   "execution_count": 4,
   "id": "ordered-place",
   "metadata": {
    "execution": {
     "iopub.execute_input": "2021-05-24T08:48:05.627695Z",
     "iopub.status.busy": "2021-05-24T08:48:05.625309Z",
     "iopub.status.idle": "2021-05-24T08:48:19.647311Z",
     "shell.execute_reply": "2021-05-24T08:48:19.646788Z",
     "shell.execute_reply.started": "2021-05-23T22:44:55.283104Z"
    },
    "papermill": {
     "duration": 14.046425,
     "end_time": "2021-05-24T08:48:19.647480",
     "exception": false,
     "start_time": "2021-05-24T08:48:05.601055",
     "status": "completed"
    },
    "tags": []
   },
   "outputs": [
    {
     "name": "stdout",
     "output_type": "stream",
     "text": [
      "Cloning into 'ClarinStudioKaldi'...\r\n",
      "remote: Enumerating objects: 778, done.\u001b[K\r\n",
      "remote: Counting objects: 100% (3/3), done.\u001b[K\r\n",
      "remote: Compressing objects: 100% (3/3), done.\u001b[K\r\n",
      "remote: Total 778 (delta 0), reused 0 (delta 0), pack-reused 775\u001b[K\r\n",
      "Receiving objects: 100% (778/778), 35.26 MiB | 22.14 MiB/s, done.\r\n",
      "Resolving deltas: 100% (262/262), done.\r\n"
     ]
    }
   ],
   "source": [
    "!git clone https://github.com/danijel3/ClarinStudioKaldi"
   ]
  },
  {
   "cell_type": "code",
   "execution_count": 5,
   "id": "divine-hearing",
   "metadata": {
    "execution": {
     "iopub.execute_input": "2021-05-24T08:48:19.687978Z",
     "iopub.status.busy": "2021-05-24T08:48:19.687109Z",
     "iopub.status.idle": "2021-05-24T08:48:19.690996Z",
     "shell.execute_reply": "2021-05-24T08:48:19.691381Z",
     "shell.execute_reply.started": "2021-05-23T22:45:02.333219Z"
    },
    "papermill": {
     "duration": 0.026966,
     "end_time": "2021-05-24T08:48:19.691618",
     "exception": false,
     "start_time": "2021-05-24T08:48:19.664652",
     "status": "completed"
    },
    "tags": []
   },
   "outputs": [
    {
     "name": "stdout",
     "output_type": "stream",
     "text": [
      "/opt/kaldi/egs/ClarinStudioKaldi\n"
     ]
    }
   ],
   "source": [
    "%cd ClarinStudioKaldi"
   ]
  },
  {
   "cell_type": "code",
   "execution_count": 6,
   "id": "pointed-bhutan",
   "metadata": {
    "execution": {
     "iopub.execute_input": "2021-05-24T08:48:19.737840Z",
     "iopub.status.busy": "2021-05-24T08:48:19.737141Z",
     "iopub.status.idle": "2021-05-24T08:50:45.038029Z",
     "shell.execute_reply": "2021-05-24T08:50:45.038513Z",
     "shell.execute_reply.started": "2021-05-23T22:45:13.828183Z"
    },
    "papermill": {
     "duration": 145.329104,
     "end_time": "2021-05-24T08:50:45.038721",
     "exception": false,
     "start_time": "2021-05-24T08:48:19.709617",
     "status": "completed"
    },
    "tags": []
   },
   "outputs": [],
   "source": [
    "%%capture\n",
    "!conda install -c bioconda perl-perlio-gzip -y"
   ]
  },
  {
   "cell_type": "code",
   "execution_count": 7,
   "id": "measured-strap",
   "metadata": {
    "execution": {
     "iopub.execute_input": "2021-05-24T08:50:45.077331Z",
     "iopub.status.busy": "2021-05-24T08:50:45.076745Z",
     "iopub.status.idle": "2021-05-24T08:50:45.080963Z",
     "shell.execute_reply": "2021-05-24T08:50:45.081422Z",
     "shell.execute_reply.started": "2021-05-23T22:48:01.867999Z"
    },
    "papermill": {
     "duration": 0.02506,
     "end_time": "2021-05-24T08:50:45.081614",
     "exception": false,
     "start_time": "2021-05-24T08:50:45.056554",
     "status": "completed"
    },
    "tags": []
   },
   "outputs": [],
   "source": [
    "import os\n",
    "os.environ['LD_LIBRARY_PATH'] = '/opt/conda/lib:/opt/kaldi/tools/openfst-1.6.7/lib:/opt/kaldi/src/lib'"
   ]
  },
  {
   "cell_type": "code",
   "execution_count": 8,
   "id": "contrary-public",
   "metadata": {
    "execution": {
     "iopub.execute_input": "2021-05-24T08:50:45.118823Z",
     "iopub.status.busy": "2021-05-24T08:50:45.118230Z",
     "iopub.status.idle": "2021-05-24T08:50:46.547937Z",
     "shell.execute_reply": "2021-05-24T08:50:46.547211Z",
     "shell.execute_reply.started": "2021-05-23T22:48:01.876848Z"
    },
    "papermill": {
     "duration": 1.449076,
     "end_time": "2021-05-24T08:50:46.548074",
     "exception": false,
     "start_time": "2021-05-24T08:50:45.098998",
     "status": "completed"
    },
    "tags": []
   },
   "outputs": [],
   "source": [
    "!cat path.sh|sed -e 's/~\\/apps/\\/opt/' > tmp\n",
    "!mv tmp path.sh"
   ]
  },
  {
   "cell_type": "code",
   "execution_count": 9,
   "id": "dressed-ethnic",
   "metadata": {
    "execution": {
     "iopub.execute_input": "2021-05-24T08:50:46.591990Z",
     "iopub.status.busy": "2021-05-24T08:50:46.588081Z",
     "iopub.status.idle": "2021-05-24T08:50:47.296378Z",
     "shell.execute_reply": "2021-05-24T08:50:47.297010Z",
     "shell.execute_reply.started": "2021-05-23T22:48:03.38233Z"
    },
    "papermill": {
     "duration": 0.731656,
     "end_time": "2021-05-24T08:50:47.297175",
     "exception": false,
     "start_time": "2021-05-24T08:50:46.565519",
     "status": "completed"
    },
    "tags": []
   },
   "outputs": [],
   "source": [
    "!echo > local_clarin/clarin_pl_clean.sh"
   ]
  },
  {
   "cell_type": "code",
   "execution_count": 10,
   "id": "african-retro",
   "metadata": {
    "execution": {
     "iopub.execute_input": "2021-05-24T08:50:47.336162Z",
     "iopub.status.busy": "2021-05-24T08:50:47.335260Z",
     "iopub.status.idle": "2021-05-24T08:50:50.130796Z",
     "shell.execute_reply": "2021-05-24T08:50:50.130201Z",
     "shell.execute_reply.started": "2021-05-23T22:48:04.106786Z"
    },
    "papermill": {
     "duration": 2.816169,
     "end_time": "2021-05-24T08:50:50.130929",
     "exception": false,
     "start_time": "2021-05-24T08:50:47.314760",
     "status": "completed"
    },
    "tags": []
   },
   "outputs": [],
   "source": [
    "!ln -s ../wsj/s5/steps\n",
    "!ln -s ../wsj/s5/conf\n",
    "!ln -s ../wsj/s5/local\n",
    "!ln -s ../wsj/s5/utils"
   ]
  },
  {
   "cell_type": "code",
   "execution_count": 11,
   "id": "apart-reference",
   "metadata": {
    "execution": {
     "iopub.execute_input": "2021-05-24T08:50:50.175685Z",
     "iopub.status.busy": "2021-05-24T08:50:50.171995Z",
     "iopub.status.idle": "2021-05-24T08:51:18.224800Z",
     "shell.execute_reply": "2021-05-24T08:51:18.223846Z",
     "shell.execute_reply.started": "2021-05-23T22:48:06.993185Z"
    },
    "papermill": {
     "duration": 28.076981,
     "end_time": "2021-05-24T08:51:18.224979",
     "exception": false,
     "start_time": "2021-05-24T08:50:50.147998",
     "status": "completed"
    },
    "tags": []
   },
   "outputs": [],
   "source": [
    "!cp -r /kaggle/input/kaldi-clarinstudio-polish-train-mono-1-30/data /kaggle/working/\n",
    "!cp -r /kaggle/input/kaldi-clarinstudio-polish-train-mono-1-30/exp /kaggle/working/"
   ]
  },
  {
   "cell_type": "code",
   "execution_count": 12,
   "id": "acceptable-geometry",
   "metadata": {
    "execution": {
     "iopub.execute_input": "2021-05-24T08:51:18.266742Z",
     "iopub.status.busy": "2021-05-24T08:51:18.266111Z",
     "iopub.status.idle": "2021-05-24T08:51:19.668177Z",
     "shell.execute_reply": "2021-05-24T08:51:19.667656Z",
     "shell.execute_reply.started": "2021-05-23T22:48:21.907982Z"
    },
    "papermill": {
     "duration": 1.425802,
     "end_time": "2021-05-24T08:51:19.668324",
     "exception": false,
     "start_time": "2021-05-24T08:51:18.242522",
     "status": "completed"
    },
    "tags": []
   },
   "outputs": [],
   "source": [
    "!ln -s /kaggle/working/exp\n",
    "!ln -s /kaggle/working/data"
   ]
  },
  {
   "cell_type": "code",
   "execution_count": 13,
   "id": "ready-beauty",
   "metadata": {
    "execution": {
     "iopub.execute_input": "2021-05-24T08:51:19.710715Z",
     "iopub.status.busy": "2021-05-24T08:51:19.709834Z",
     "iopub.status.idle": "2021-05-24T08:51:20.470374Z",
     "shell.execute_reply": "2021-05-24T08:51:20.469864Z"
    },
    "papermill": {
     "duration": 0.784304,
     "end_time": "2021-05-24T08:51:20.470551",
     "exception": false,
     "start_time": "2021-05-24T08:51:19.686247",
     "status": "completed"
    },
    "tags": []
   },
   "outputs": [],
   "source": [
    "!find /kaggle/working/exp -name '*.log' -delete"
   ]
  },
  {
   "cell_type": "code",
   "execution_count": 14,
   "id": "hindu-basin",
   "metadata": {
    "execution": {
     "iopub.execute_input": "2021-05-24T08:51:20.515949Z",
     "iopub.status.busy": "2021-05-24T08:51:20.512003Z",
     "iopub.status.idle": "2021-05-24T08:51:21.364016Z",
     "shell.execute_reply": "2021-05-24T08:51:21.364424Z",
     "shell.execute_reply.started": "2021-05-23T22:51:41.822193Z"
    },
    "papermill": {
     "duration": 0.876093,
     "end_time": "2021-05-24T08:51:21.364599",
     "exception": false,
     "start_time": "2021-05-24T08:51:20.488506",
     "status": "completed"
    },
    "tags": []
   },
   "outputs": [
    {
     "name": "stdout",
     "output_type": "stream",
     "text": [
      "925\r\n"
     ]
    }
   ],
   "source": [
    "!/opt/kaldi/src/gmmbin/gmm-info --print-args=false exp/mono0/30.mdl | grep gaussians | awk '{print $NF}'"
   ]
  },
  {
   "cell_type": "code",
   "execution_count": 15,
   "id": "continued-necklace",
   "metadata": {
    "execution": {
     "iopub.execute_input": "2021-05-24T08:51:21.404120Z",
     "iopub.status.busy": "2021-05-24T08:51:21.403425Z",
     "iopub.status.idle": "2021-05-24T08:51:21.411031Z",
     "shell.execute_reply": "2021-05-24T08:51:21.410546Z"
    },
    "papermill": {
     "duration": 0.028522,
     "end_time": "2021-05-24T08:51:21.411165",
     "exception": false,
     "start_time": "2021-05-24T08:51:21.382643",
     "status": "completed"
    },
    "tags": []
   },
   "outputs": [
    {
     "name": "stdout",
     "output_type": "stream",
     "text": [
      "Writing train_mono.sh\n"
     ]
    }
   ],
   "source": [
    "%%writefile train_mono.sh\n",
    "#!/usr/bin/env bash\n",
    "# Copyright 2012  Johns Hopkins University (Author: Daniel Povey)\n",
    "#           2019  Xiaohui Zhang\n",
    "# Apache 2.0\n",
    "\n",
    "# Trimmed down from WSJ train_mono.sh, to continue from 30\n",
    "# Begin configuration section.\n",
    "nj=4\n",
    "cmd=run.pl\n",
    "scale_opts=\"--transition-scale=1.0 --acoustic-scale=0.1 --self-loop-scale=0.1\"\n",
    "num_iters=40    # Number of iterations of training\n",
    "max_iter_inc=30 # Last iter to increase #Gauss on.\n",
    "regular_beam=10 # beam used after the first iteration\n",
    "retry_beam=40\n",
    "totgauss=1000 # Target #Gaussians.\n",
    "careful=false\n",
    "boost_silence=1.0 # Factor by which to boost silence likelihoods in alignment\n",
    "realign_iters=\"1 2 3 4 5 6 7 8 9 10 12 14 16 18 20 23 26 29 32 35 38\";\n",
    "config= # name of config file.\n",
    "stage=-4\n",
    "power=0.25\n",
    "# End configuration section.\n",
    "\n",
    "echo \"$0 $@\"  # Print the command line for logging\n",
    "\n",
    "if [ -f path.sh ]; then . ./path.sh; fi\n",
    ". parse_options.sh || exit 1;\n",
    "\n",
    "if [ $# != 3 ]; then\n",
    "  echo \"Usage: steps/train_mono.sh [options] <data-dir> <lang-dir> <exp-dir>\"\n",
    "  echo \" e.g.: steps/train_mono.sh data/train.1k data/lang exp/mono\"\n",
    "  echo \"main options (for others, see top of script file)\"\n",
    "  echo \"  --config <config-file>                           # config containing options\"\n",
    "  echo \"  --nj <nj>                                        # number of parallel jobs\"\n",
    "  echo \"  --cmd (utils/run.pl|utils/queue.pl <queue opts>) # how to run jobs.\"\n",
    "  exit 1;\n",
    "fi\n",
    "\n",
    "data=$1\n",
    "lang=$2\n",
    "dir=$3\n",
    "\n",
    "oov_sym=`cat $lang/oov.int` || exit 1;\n",
    "\n",
    "mkdir -p $dir/log\n",
    "echo $nj > $dir/num_jobs\n",
    "sdata=$data/split$nj;\n",
    "[[ -d $sdata && $data/feats.scp -ot $sdata ]] || split_data.sh $data $nj || exit 1;\n",
    "\n",
    "feats=\"ark,s,cs:apply-cmvn $cmvn_opts --utt2spk=ark:$sdata/JOB/utt2spk scp:$sdata/JOB/cmvn.scp scp:$sdata/JOB/feats.scp ark:- | add-deltas $delta_opts ark:- ark:- |\"\n",
    "\n",
    "cp $lang/phones.txt $dir || exit 1;\n",
    "\n",
    "numgauss=`gmm-info --print-args=false $dir/0.mdl | grep gaussians | awk '{print $NF}'`\n",
    "incgauss=$[($totgauss-$numgauss)/$max_iter_inc] # per-iter increment for #Gauss\n",
    "# update from last run\n",
    "#numgauss=`gmm-info --print-args=false $dir/30.mdl | grep gaussians | awk '{print $NF}'`\n",
    "#numgauss=925\n",
    "igauss=1\n",
    "while [ $igauss -lt 30 ];do\n",
    "    numgauss=$[$numgauss+$incgauss];\n",
    "    igauss=$[$igauss+1]\n",
    "done\n",
    "\n",
    "# beam is only set to $initial_beam for first run\n",
    "beam=$regular_beam\n",
    "x=30\n",
    "while [ $x -lt $num_iters ]; do\n",
    "  echo \"$0: Pass $x\"\n",
    "  if [ $stage -le $x ]; then\n",
    "    if echo $realign_iters | grep -w $x >/dev/null; then\n",
    "      echo \"$0: Aligning data\"\n",
    "      mdl=\"gmm-boost-silence --boost=$boost_silence `cat $lang/phones/optional_silence.csl` $dir/$x.mdl - |\"\n",
    "      $cmd JOB=1:$nj $dir/log/align.$x.JOB.log \\\n",
    "        gmm-align-compiled $scale_opts --beam=$beam --retry-beam=$retry_beam --careful=$careful \"$mdl\" \\\n",
    "        \"ark:gunzip -c $dir/fsts.JOB.gz|\" \"$feats\" \"ark,t:|gzip -c >$dir/ali.JOB.gz\" \\\n",
    "        || exit 1;\n",
    "    fi\n",
    "    $cmd JOB=1:$nj $dir/log/acc.$x.JOB.log \\\n",
    "      gmm-acc-stats-ali  $dir/$x.mdl \"$feats\" \"ark:gunzip -c $dir/ali.JOB.gz|\" \\\n",
    "      $dir/$x.JOB.acc || exit 1;\n",
    "\n",
    "    $cmd $dir/log/update.$x.log \\\n",
    "      gmm-est --write-occs=$dir/$[$x+1].occs --mix-up=$numgauss --power=$power $dir/$x.mdl \\\n",
    "      \"gmm-sum-accs - $dir/$x.*.acc|\" $dir/$[$x+1].mdl || exit 1;\n",
    "    rm $dir/$x.mdl $dir/$x.*.acc $dir/$x.occs 2>/dev/null\n",
    "  fi\n",
    "  if [ $x -le $max_iter_inc ]; then\n",
    "     numgauss=$[$numgauss+$incgauss];\n",
    "  fi\n",
    "  beam=$regular_beam\n",
    "  x=$[$x+1]\n",
    "done\n",
    "\n",
    "( cd $dir; rm final.{mdl,occs} 2>/dev/null; ln -s $x.mdl final.mdl; ln -s $x.occs final.occs )\n",
    "\n",
    "\n",
    "steps/diagnostic/analyze_alignments.sh --cmd \"$cmd\" $lang $dir\n",
    "utils/summarize_warnings.pl $dir/log\n",
    "\n",
    "steps/info/gmm_dir_info.pl $dir\n",
    "\n",
    "echo \"$0: Done training monophone system in $dir\"\n",
    "\n",
    "exit 0"
   ]
  },
  {
   "cell_type": "code",
   "execution_count": 16,
   "id": "static-campaign",
   "metadata": {
    "execution": {
     "iopub.execute_input": "2021-05-24T08:51:21.452012Z",
     "iopub.status.busy": "2021-05-24T08:51:21.451087Z",
     "iopub.status.idle": "2021-05-24T10:13:05.733448Z",
     "shell.execute_reply": "2021-05-24T10:13:05.732907Z"
    },
    "papermill": {
     "duration": 4904.303823,
     "end_time": "2021-05-24T10:13:05.733693",
     "exception": false,
     "start_time": "2021-05-24T08:51:21.429870",
     "status": "completed"
    },
    "tags": []
   },
   "outputs": [
    {
     "name": "stdout",
     "output_type": "stream",
     "text": [
      "train_mono.sh --nj 40 data/train data/lang_nosp exp/mono0\r\n",
      "train_mono.sh: Pass 30\r\n",
      "train_mono.sh: Pass 31\r\n",
      "train_mono.sh: Pass 32\r\n",
      "train_mono.sh: Aligning data\r\n",
      "train_mono.sh: Pass 33\r\n",
      "train_mono.sh: Pass 34\r\n",
      "train_mono.sh: Pass 35\r\n",
      "train_mono.sh: Aligning data\r\n",
      "train_mono.sh: Pass 36\r\n",
      "train_mono.sh: Pass 37\r\n",
      "train_mono.sh: Pass 38\r\n",
      "train_mono.sh: Aligning data\r\n",
      "train_mono.sh: Pass 39\r\n",
      "steps/diagnostic/analyze_alignments.sh --cmd run.pl data/lang_nosp exp/mono0\r\n",
      "analyze_phone_length_stats.py: WARNING: optional-silence sil is seen only 0.7763698018918437% of the time at utterance begin.  This may not be optimal.\r\n",
      "analyze_phone_length_stats.py: WARNING: optional-silence sil is seen only 1.2225593432089952% of the time at utterance end.  This may not be optimal.\r\n",
      "steps/diagnostic/analyze_alignments.sh: see stats in exp/mono0/log/analyze_alignments.log\r\n",
      "2 warnings in exp/mono0/log/analyze_alignments.log\r\n",
      "19947 warnings in exp/mono0/log/align.*.*.log\r\n",
      "1080 warnings in exp/mono0/log/update.*.log\r\n",
      "490 warnings in exp/mono0/log/acc.*.*.log\r\n",
      "exp/mono0: nj=40 align prob=-95.71 over 43.70h [retry=55.8%, fail=0.1%] states=113 gauss=987\r\n",
      "train_mono.sh: Done training monophone system in exp/mono0\r\n"
     ]
    }
   ],
   "source": [
    "!bash train_mono.sh --nj 40 data/train data/lang_nosp exp/mono0"
   ]
  }
 ],
 "metadata": {
  "kernelspec": {
   "display_name": "Python 3",
   "language": "python",
   "name": "python3"
  },
  "language_info": {
   "codemirror_mode": {
    "name": "ipython",
    "version": 3
   },
   "file_extension": ".py",
   "mimetype": "text/x-python",
   "name": "python",
   "nbconvert_exporter": "python",
   "pygments_lexer": "ipython3",
   "version": "3.8.2"
  },
  "papermill": {
   "default_parameters": {},
   "duration": 5152.918855,
   "end_time": "2021-05-24T10:13:06.469564",
   "environment_variables": {},
   "exception": null,
   "input_path": "__notebook__.ipynb",
   "output_path": "__notebook__.ipynb",
   "parameters": {},
   "start_time": "2021-05-24T08:47:13.550709",
   "version": "2.3.3"
  }
 },
 "nbformat": 4,
 "nbformat_minor": 5
}
