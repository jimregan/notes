{
 "cells": [
  {
   "cell_type": "code",
   "execution_count": 1,
   "id": "sophisticated-notebook",
   "metadata": {
    "execution": {
     "iopub.execute_input": "2021-05-23T22:56:14.819450Z",
     "iopub.status.busy": "2021-05-23T22:56:14.818637Z",
     "iopub.status.idle": "2021-05-23T22:56:14.823705Z",
     "shell.execute_reply": "2021-05-23T22:56:14.822981Z",
     "shell.execute_reply.started": "2021-05-23T22:42:59.943660Z"
    },
    "papermill": {
     "duration": 0.026783,
     "end_time": "2021-05-23T22:56:14.823871",
     "exception": false,
     "start_time": "2021-05-23T22:56:14.797088",
     "status": "completed"
    },
    "tags": []
   },
   "outputs": [
    {
     "name": "stdout",
     "output_type": "stream",
     "text": [
      "/opt\n"
     ]
    }
   ],
   "source": [
    "%cd /opt"
   ]
  },
  {
   "cell_type": "code",
   "execution_count": 2,
   "id": "awful-isolation",
   "metadata": {
    "_cell_guid": "b1076dfc-b9ad-4769-8c92-a6c4dae69d19",
    "_uuid": "8f2839f25d086af736a60e9eeb907d3b93b6e0e5",
    "execution": {
     "iopub.execute_input": "2021-05-23T22:56:14.861741Z",
     "iopub.status.busy": "2021-05-23T22:56:14.849137Z",
     "iopub.status.idle": "2021-05-23T22:56:47.841525Z",
     "shell.execute_reply": "2021-05-23T22:56:47.842613Z",
     "shell.execute_reply.started": "2021-05-23T22:43:43.503379Z"
    },
    "papermill": {
     "duration": 33.009227,
     "end_time": "2021-05-23T22:56:47.843265",
     "exception": false,
     "start_time": "2021-05-23T22:56:14.834038",
     "status": "completed"
    },
    "tags": []
   },
   "outputs": [],
   "source": [
    "%%capture\n",
    "!tar xvf /kaggle/input/extract-prebuilt-kaldi-from-docker/kaldi.tar"
   ]
  },
  {
   "cell_type": "code",
   "execution_count": 3,
   "id": "cognitive-thermal",
   "metadata": {
    "execution": {
     "iopub.execute_input": "2021-05-23T22:56:47.889082Z",
     "iopub.status.busy": "2021-05-23T22:56:47.888083Z",
     "iopub.status.idle": "2021-05-23T22:56:47.897418Z",
     "shell.execute_reply": "2021-05-23T22:56:47.898058Z",
     "shell.execute_reply.started": "2021-05-23T22:44:51.747433Z"
    },
    "papermill": {
     "duration": 0.034624,
     "end_time": "2021-05-23T22:56:47.898238",
     "exception": false,
     "start_time": "2021-05-23T22:56:47.863614",
     "status": "completed"
    },
    "tags": []
   },
   "outputs": [
    {
     "name": "stdout",
     "output_type": "stream",
     "text": [
      "/opt/kaldi/egs\n"
     ]
    }
   ],
   "source": [
    "%cd kaldi/egs"
   ]
  },
  {
   "cell_type": "code",
   "execution_count": 4,
   "id": "canadian-sodium",
   "metadata": {
    "execution": {
     "iopub.execute_input": "2021-05-23T22:56:47.932589Z",
     "iopub.status.busy": "2021-05-23T22:56:47.923563Z",
     "iopub.status.idle": "2021-05-23T22:57:02.414198Z",
     "shell.execute_reply": "2021-05-23T22:57:02.412862Z",
     "shell.execute_reply.started": "2021-05-23T22:44:55.283104Z"
    },
    "papermill": {
     "duration": 14.506526,
     "end_time": "2021-05-23T22:57:02.414442",
     "exception": false,
     "start_time": "2021-05-23T22:56:47.907916",
     "status": "completed"
    },
    "tags": []
   },
   "outputs": [
    {
     "name": "stdout",
     "output_type": "stream",
     "text": [
      "Cloning into 'ClarinStudioKaldi'...\r\n",
      "remote: Enumerating objects: 778, done.\u001b[K\r\n",
      "remote: Counting objects: 100% (3/3), done.\u001b[K\r\n",
      "remote: Compressing objects: 100% (3/3), done.\u001b[K\r\n",
      "remote: Total 778 (delta 0), reused 0 (delta 0), pack-reused 775\u001b[K\r\n",
      "Receiving objects: 100% (778/778), 35.26 MiB | 28.12 MiB/s, done.\r\n",
      "Resolving deltas: 100% (262/262), done.\r\n"
     ]
    }
   ],
   "source": [
    "!git clone https://github.com/danijel3/ClarinStudioKaldi"
   ]
  },
  {
   "cell_type": "code",
   "execution_count": 5,
   "id": "sharp-auckland",
   "metadata": {
    "execution": {
     "iopub.execute_input": "2021-05-23T22:57:02.453203Z",
     "iopub.status.busy": "2021-05-23T22:57:02.452118Z",
     "iopub.status.idle": "2021-05-23T22:57:02.456713Z",
     "shell.execute_reply": "2021-05-23T22:57:02.456088Z",
     "shell.execute_reply.started": "2021-05-23T22:45:02.333219Z"
    },
    "papermill": {
     "duration": 0.027095,
     "end_time": "2021-05-23T22:57:02.456855",
     "exception": false,
     "start_time": "2021-05-23T22:57:02.429760",
     "status": "completed"
    },
    "tags": []
   },
   "outputs": [
    {
     "name": "stdout",
     "output_type": "stream",
     "text": [
      "/opt/kaldi/egs/ClarinStudioKaldi\n"
     ]
    }
   ],
   "source": [
    "%cd ClarinStudioKaldi"
   ]
  },
  {
   "cell_type": "code",
   "execution_count": 6,
   "id": "academic-feeding",
   "metadata": {
    "execution": {
     "iopub.execute_input": "2021-05-23T22:57:02.524076Z",
     "iopub.status.busy": "2021-05-23T22:57:02.507130Z",
     "iopub.status.idle": "2021-05-23T22:59:20.634260Z",
     "shell.execute_reply": "2021-05-23T22:59:20.634784Z",
     "shell.execute_reply.started": "2021-05-23T22:45:13.828183Z"
    },
    "papermill": {
     "duration": 138.160709,
     "end_time": "2021-05-23T22:59:20.634984",
     "exception": false,
     "start_time": "2021-05-23T22:57:02.474275",
     "status": "completed"
    },
    "tags": []
   },
   "outputs": [],
   "source": [
    "%%capture\n",
    "!conda install -c bioconda perl-perlio-gzip -y"
   ]
  },
  {
   "cell_type": "code",
   "execution_count": 7,
   "id": "documented-intensity",
   "metadata": {
    "execution": {
     "iopub.execute_input": "2021-05-23T22:59:20.666568Z",
     "iopub.status.busy": "2021-05-23T22:59:20.665944Z",
     "iopub.status.idle": "2021-05-23T22:59:20.669276Z",
     "shell.execute_reply": "2021-05-23T22:59:20.668714Z",
     "shell.execute_reply.started": "2021-05-23T22:48:01.867999Z"
    },
    "papermill": {
     "duration": 0.021193,
     "end_time": "2021-05-23T22:59:20.669441",
     "exception": false,
     "start_time": "2021-05-23T22:59:20.648248",
     "status": "completed"
    },
    "tags": []
   },
   "outputs": [],
   "source": [
    "import os\n",
    "os.environ['LD_LIBRARY_PATH'] = '/opt/conda/lib:/opt/kaldi/tools/openfst-1.6.7/lib:/opt/kaldi/src/lib'"
   ]
  },
  {
   "cell_type": "code",
   "execution_count": 8,
   "id": "pointed-stage",
   "metadata": {
    "execution": {
     "iopub.execute_input": "2021-05-23T22:59:20.703700Z",
     "iopub.status.busy": "2021-05-23T22:59:20.703048Z",
     "iopub.status.idle": "2021-05-23T22:59:22.150204Z",
     "shell.execute_reply": "2021-05-23T22:59:22.149723Z",
     "shell.execute_reply.started": "2021-05-23T22:48:01.876848Z"
    },
    "papermill": {
     "duration": 1.468248,
     "end_time": "2021-05-23T22:59:22.150367",
     "exception": false,
     "start_time": "2021-05-23T22:59:20.682119",
     "status": "completed"
    },
    "tags": []
   },
   "outputs": [],
   "source": [
    "!cat path.sh|sed -e 's/~\\/apps/\\/opt/' > tmp\n",
    "!mv tmp path.sh"
   ]
  },
  {
   "cell_type": "code",
   "execution_count": 9,
   "id": "saving-remove",
   "metadata": {
    "execution": {
     "iopub.execute_input": "2021-05-23T22:59:22.184398Z",
     "iopub.status.busy": "2021-05-23T22:59:22.183791Z",
     "iopub.status.idle": "2021-05-23T22:59:22.915194Z",
     "shell.execute_reply": "2021-05-23T22:59:22.915667Z",
     "shell.execute_reply.started": "2021-05-23T22:48:03.382330Z"
    },
    "papermill": {
     "duration": 0.752796,
     "end_time": "2021-05-23T22:59:22.915835",
     "exception": false,
     "start_time": "2021-05-23T22:59:22.163039",
     "status": "completed"
    },
    "tags": []
   },
   "outputs": [],
   "source": [
    "!echo > local_clarin/clarin_pl_clean.sh"
   ]
  },
  {
   "cell_type": "code",
   "execution_count": 10,
   "id": "noble-latino",
   "metadata": {
    "execution": {
     "iopub.execute_input": "2021-05-23T22:59:22.953610Z",
     "iopub.status.busy": "2021-05-23T22:59:22.953034Z",
     "iopub.status.idle": "2021-05-23T22:59:25.826513Z",
     "shell.execute_reply": "2021-05-23T22:59:25.825595Z",
     "shell.execute_reply.started": "2021-05-23T22:48:04.106786Z"
    },
    "papermill": {
     "duration": 2.89795,
     "end_time": "2021-05-23T22:59:25.826652",
     "exception": false,
     "start_time": "2021-05-23T22:59:22.928702",
     "status": "completed"
    },
    "tags": []
   },
   "outputs": [],
   "source": [
    "!ln -s ../wsj/s5/steps\n",
    "!ln -s ../wsj/s5/conf\n",
    "!ln -s ../wsj/s5/local\n",
    "!ln -s ../wsj/s5/utils"
   ]
  },
  {
   "cell_type": "code",
   "execution_count": 11,
   "id": "native-slovakia",
   "metadata": {
    "execution": {
     "iopub.execute_input": "2021-05-23T22:59:25.856489Z",
     "iopub.status.busy": "2021-05-23T22:59:25.855902Z",
     "iopub.status.idle": "2021-05-23T22:59:38.489527Z",
     "shell.execute_reply": "2021-05-23T22:59:38.489990Z",
     "shell.execute_reply.started": "2021-05-23T22:48:06.993185Z"
    },
    "papermill": {
     "duration": 12.650672,
     "end_time": "2021-05-23T22:59:38.490213",
     "exception": false,
     "start_time": "2021-05-23T22:59:25.839541",
     "status": "completed"
    },
    "tags": []
   },
   "outputs": [],
   "source": [
    "!cp -r /kaggle/input/kaldi-clarinstudio-polish-train-mono-1-30/data /kaggle/working/\n",
    "!cp -r /kaggle/input/kaldi-clarinstudio-polish-train-mono-1-30/exp /kaggle/working/"
   ]
  },
  {
   "cell_type": "code",
   "execution_count": 12,
   "id": "close-revolution",
   "metadata": {
    "execution": {
     "iopub.execute_input": "2021-05-23T22:59:38.522689Z",
     "iopub.status.busy": "2021-05-23T22:59:38.522016Z",
     "iopub.status.idle": "2021-05-23T22:59:39.983140Z",
     "shell.execute_reply": "2021-05-23T22:59:39.982628Z",
     "shell.execute_reply.started": "2021-05-23T22:48:21.907982Z"
    },
    "papermill": {
     "duration": 1.479347,
     "end_time": "2021-05-23T22:59:39.983272",
     "exception": false,
     "start_time": "2021-05-23T22:59:38.503925",
     "status": "completed"
    },
    "tags": []
   },
   "outputs": [],
   "source": [
    "!ln -s /kaggle/working/exp\n",
    "!ln -s /kaggle/working/data"
   ]
  },
  {
   "cell_type": "code",
   "execution_count": 13,
   "id": "different-material",
   "metadata": {
    "execution": {
     "iopub.execute_input": "2021-05-23T22:59:40.020860Z",
     "iopub.status.busy": "2021-05-23T22:59:40.016857Z",
     "iopub.status.idle": "2021-05-23T22:59:40.860656Z",
     "shell.execute_reply": "2021-05-23T22:59:40.860000Z",
     "shell.execute_reply.started": "2021-05-23T22:51:41.822193Z"
    },
    "papermill": {
     "duration": 0.864152,
     "end_time": "2021-05-23T22:59:40.860796",
     "exception": false,
     "start_time": "2021-05-23T22:59:39.996644",
     "status": "completed"
    },
    "tags": []
   },
   "outputs": [
    {
     "name": "stdout",
     "output_type": "stream",
     "text": [
      "925\r\n"
     ]
    }
   ],
   "source": [
    "!/opt/kaldi/src/gmmbin/gmm-info --print-args=false exp/mono0/30.mdl | grep gaussians | awk '{print $NF}'"
   ]
  },
  {
   "cell_type": "code",
   "execution_count": 14,
   "id": "collaborative-fundamental",
   "metadata": {
    "execution": {
     "iopub.execute_input": "2021-05-23T22:59:40.894962Z",
     "iopub.status.busy": "2021-05-23T22:59:40.893986Z",
     "iopub.status.idle": "2021-05-23T22:59:40.898079Z",
     "shell.execute_reply": "2021-05-23T22:59:40.897637Z"
    },
    "papermill": {
     "duration": 0.024335,
     "end_time": "2021-05-23T22:59:40.898204",
     "exception": false,
     "start_time": "2021-05-23T22:59:40.873869",
     "status": "completed"
    },
    "tags": []
   },
   "outputs": [
    {
     "name": "stdout",
     "output_type": "stream",
     "text": [
      "Writing train_mono.sh\n"
     ]
    }
   ],
   "source": [
    "%%writefile train_mono.sh\n",
    "#!/usr/bin/env bash\n",
    "# Copyright 2012  Johns Hopkins University (Author: Daniel Povey)\n",
    "#           2019  Xiaohui Zhang\n",
    "# Apache 2.0\n",
    "\n",
    "# Trimmed down from WSJ train_mono.sh, to continue from 30\n",
    "# Begin configuration section.\n",
    "nj=4\n",
    "cmd=run.pl\n",
    "scale_opts=\"--transition-scale=1.0 --acoustic-scale=0.1 --self-loop-scale=0.1\"\n",
    "num_iters=40    # Number of iterations of training\n",
    "max_iter_inc=30 # Last iter to increase #Gauss on.\n",
    "regular_beam=10 # beam used after the first iteration\n",
    "retry_beam=40\n",
    "totgauss=1000 # Target #Gaussians.\n",
    "boost_silence=1.0 # Factor by which to boost silence likelihoods in alignment\n",
    "realign_iters=\"1 2 3 4 5 6 7 8 9 10 12 14 16 18 20 23 26 29 32 35 38\";\n",
    "config= # name of config file.\n",
    "stage=-4\n",
    "# End configuration section.\n",
    "\n",
    "echo \"$0 $@\"  # Print the command line for logging\n",
    "\n",
    "if [ -f path.sh ]; then . ./path.sh; fi\n",
    ". parse_options.sh || exit 1;\n",
    "\n",
    "if [ $# != 3 ]; then\n",
    "  echo \"Usage: steps/train_mono.sh [options] <data-dir> <lang-dir> <exp-dir>\"\n",
    "  echo \" e.g.: steps/train_mono.sh data/train.1k data/lang exp/mono\"\n",
    "  echo \"main options (for others, see top of script file)\"\n",
    "  echo \"  --config <config-file>                           # config containing options\"\n",
    "  echo \"  --nj <nj>                                        # number of parallel jobs\"\n",
    "  echo \"  --cmd (utils/run.pl|utils/queue.pl <queue opts>) # how to run jobs.\"\n",
    "  exit 1;\n",
    "fi\n",
    "\n",
    "data=$1\n",
    "lang=$2\n",
    "dir=$3\n",
    "\n",
    "oov_sym=`cat $lang/oov.int` || exit 1;\n",
    "\n",
    "mkdir -p $dir/log\n",
    "echo $nj > $dir/num_jobs\n",
    "sdata=$data/split$nj;\n",
    "[[ -d $sdata && $data/feats.scp -ot $sdata ]] || split_data.sh $data $nj || exit 1;\n",
    "\n",
    "feats=\"ark,s,cs:apply-cmvn $cmvn_opts --utt2spk=ark:$sdata/JOB/utt2spk scp:$sdata/JOB/cmvn.scp scp:$sdata/JOB/feats.scp ark:- | add-deltas $delta_opts ark:- ark:- |\"\n",
    "\n",
    "cp $lang/phones.txt $dir || exit 1;\n",
    "\n",
    "numgauss=`gmm-info --print-args=false $dir/0.mdl | grep gaussians | awk '{print $NF}'`\n",
    "incgauss=$[($totgauss-$numgauss)/$max_iter_inc] # per-iter increment for #Gauss\n",
    "# update from last run\n",
    "#numgauss=`gmm-info --print-args=false $dir/30.mdl | grep gaussians | awk '{print $NF}'`\n",
    "#numgauss=925\n",
    "igauss=1\n",
    "while [ $igauss -lt $30 ];do\n",
    "    numgauss=$[$numgauss+$incgauss];\n",
    "    igauss=$[$igauss+1]\n",
    "done\n",
    "\n",
    "# beam is only set to $initial_beam for first run\n",
    "beam=$regular_beam\n",
    "x=30\n",
    "while [ $x -lt $num_iters ]; do\n",
    "  echo \"$0: Pass $x\"\n",
    "  if [ $stage -le $x ]; then\n",
    "    if echo $realign_iters | grep -w $x >/dev/null; then\n",
    "      echo \"$0: Aligning data\"\n",
    "      mdl=\"gmm-boost-silence --boost=$boost_silence `cat $lang/phones/optional_silence.csl` $dir/$x.mdl - |\"\n",
    "      $cmd JOB=1:$nj $dir/log/align.$x.JOB.log \\\n",
    "        gmm-align-compiled $scale_opts --beam=$beam --retry-beam=$retry_beam --careful=$careful \"$mdl\" \\\n",
    "        \"ark:gunzip -c $dir/fsts.JOB.gz|\" \"$feats\" \"ark,t:|gzip -c >$dir/ali.JOB.gz\" \\\n",
    "        || exit 1;\n",
    "    fi\n",
    "    $cmd JOB=1:$nj $dir/log/acc.$x.JOB.log \\\n",
    "      gmm-acc-stats-ali  $dir/$x.mdl \"$feats\" \"ark:gunzip -c $dir/ali.JOB.gz|\" \\\n",
    "      $dir/$x.JOB.acc || exit 1;\n",
    "\n",
    "    $cmd $dir/log/update.$x.log \\\n",
    "      gmm-est --write-occs=$dir/$[$x+1].occs --mix-up=$numgauss --power=$power $dir/$x.mdl \\\n",
    "      \"gmm-sum-accs - $dir/$x.*.acc|\" $dir/$[$x+1].mdl || exit 1;\n",
    "    rm $dir/$x.mdl $dir/$x.*.acc $dir/$x.occs 2>/dev/null\n",
    "  fi\n",
    "  if [ $x -le $max_iter_inc ]; then\n",
    "     numgauss=$[$numgauss+$incgauss];\n",
    "  fi\n",
    "  beam=$regular_beam\n",
    "  x=$[$x+1]\n",
    "done\n",
    "\n",
    "( cd $dir; rm final.{mdl,occs} 2>/dev/null; ln -s $x.mdl final.mdl; ln -s $x.occs final.occs )\n",
    "\n",
    "\n",
    "steps/diagnostic/analyze_alignments.sh --cmd \"$cmd\" $lang $dir\n",
    "utils/summarize_warnings.pl $dir/log\n",
    "\n",
    "steps/info/gmm_dir_info.pl $dir\n",
    "\n",
    "echo \"$0: Done training monophone system in $dir\"\n",
    "\n",
    "exit 0"
   ]
  },
  {
   "cell_type": "code",
   "execution_count": 15,
   "id": "broadband-hebrew",
   "metadata": {
    "execution": {
     "iopub.execute_input": "2021-05-23T22:59:40.934158Z",
     "iopub.status.busy": "2021-05-23T22:59:40.933128Z",
     "iopub.status.idle": "2021-05-23T23:00:57.477097Z",
     "shell.execute_reply": "2021-05-23T23:00:57.476544Z"
    },
    "papermill": {
     "duration": 76.565422,
     "end_time": "2021-05-23T23:00:57.477246",
     "exception": false,
     "start_time": "2021-05-23T22:59:40.911824",
     "status": "completed"
    },
    "tags": []
   },
   "outputs": [
    {
     "name": "stdout",
     "output_type": "stream",
     "text": [
      "train_mono.sh --nj 40 data/train data/lang_nosp exp/mono0\r\n",
      "train_mono.sh: line 58: [: exp/mono00: integer expression expected\r\n",
      "train_mono.sh: Pass 30\r\n",
      "run.pl: job failed, log is in exp/mono0/log/update.30.log\r\n"
     ]
    }
   ],
   "source": [
    "!bash train_mono.sh --nj 40 data/train data/lang_nosp exp/mono0"
   ]
  }
 ],
 "metadata": {
  "kernelspec": {
   "display_name": "Python 3",
   "language": "python",
   "name": "python3"
  },
  "language_info": {
   "codemirror_mode": {
    "name": "ipython",
    "version": 3
   },
   "file_extension": ".py",
   "mimetype": "text/x-python",
   "name": "python",
   "nbconvert_exporter": "python",
   "pygments_lexer": "ipython3",
   "version": "3.7.10"
  },
  "papermill": {
   "default_parameters": {},
   "duration": 290.696332,
   "end_time": "2021-05-23T23:00:58.302860",
   "environment_variables": {},
   "exception": null,
   "input_path": "__notebook__.ipynb",
   "output_path": "__notebook__.ipynb",
   "parameters": {},
   "start_time": "2021-05-23T22:56:07.606528",
   "version": "2.3.3"
  }
 },
 "nbformat": 4,
 "nbformat_minor": 5
}
