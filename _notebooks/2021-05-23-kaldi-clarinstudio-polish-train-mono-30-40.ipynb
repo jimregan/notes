{
 "cells": [
  {
   "cell_type": "code",
   "execution_count": 1,
   "id": "helpful-african",
   "metadata": {
    "execution": {
     "iopub.execute_input": "2021-05-23T22:15:33.274111Z",
     "iopub.status.busy": "2021-05-23T22:15:33.272988Z",
     "iopub.status.idle": "2021-05-23T22:15:33.277871Z",
     "shell.execute_reply": "2021-05-23T22:15:33.278671Z"
    },
    "papermill": {
     "duration": 0.035359,
     "end_time": "2021-05-23T22:15:33.279068",
     "exception": false,
     "start_time": "2021-05-23T22:15:33.243709",
     "status": "completed"
    },
    "tags": []
   },
   "outputs": [
    {
     "name": "stdout",
     "output_type": "stream",
     "text": [
      "/opt\n"
     ]
    }
   ],
   "source": [
    "%cd /opt"
   ]
  },
  {
   "cell_type": "code",
   "execution_count": 2,
   "id": "elementary-disney",
   "metadata": {
    "_cell_guid": "b1076dfc-b9ad-4769-8c92-a6c4dae69d19",
    "_uuid": "8f2839f25d086af736a60e9eeb907d3b93b6e0e5",
    "execution": {
     "iopub.execute_input": "2021-05-23T22:15:33.319431Z",
     "iopub.status.busy": "2021-05-23T22:15:33.318747Z",
     "iopub.status.idle": "2021-05-23T22:16:05.847464Z",
     "shell.execute_reply": "2021-05-23T22:16:05.848369Z"
    },
    "papermill": {
     "duration": 32.551613,
     "end_time": "2021-05-23T22:16:05.849439",
     "exception": false,
     "start_time": "2021-05-23T22:15:33.297826",
     "status": "completed"
    },
    "tags": []
   },
   "outputs": [],
   "source": [
    "%%capture\n",
    "!tar xvf /kaggle/input/extract-prebuilt-kaldi-from-docker/kaldi.tar"
   ]
  },
  {
   "cell_type": "code",
   "execution_count": 3,
   "id": "transsexual-location",
   "metadata": {
    "execution": {
     "iopub.execute_input": "2021-05-23T22:16:05.894523Z",
     "iopub.status.busy": "2021-05-23T22:16:05.893500Z",
     "iopub.status.idle": "2021-05-23T22:16:05.905283Z",
     "shell.execute_reply": "2021-05-23T22:16:05.906093Z"
    },
    "papermill": {
     "duration": 0.038184,
     "end_time": "2021-05-23T22:16:05.906312",
     "exception": false,
     "start_time": "2021-05-23T22:16:05.868128",
     "status": "completed"
    },
    "tags": []
   },
   "outputs": [
    {
     "name": "stdout",
     "output_type": "stream",
     "text": [
      "/opt/kaldi/egs\n"
     ]
    }
   ],
   "source": [
    "%cd kaldi/egs"
   ]
  },
  {
   "cell_type": "code",
   "execution_count": 4,
   "id": "exact-pregnancy",
   "metadata": {
    "execution": {
     "iopub.execute_input": "2021-05-23T22:16:05.951325Z",
     "iopub.status.busy": "2021-05-23T22:16:05.943407Z",
     "iopub.status.idle": "2021-05-23T22:16:11.566350Z",
     "shell.execute_reply": "2021-05-23T22:16:11.566812Z"
    },
    "papermill": {
     "duration": 5.644809,
     "end_time": "2021-05-23T22:16:11.566990",
     "exception": false,
     "start_time": "2021-05-23T22:16:05.922181",
     "status": "completed"
    },
    "tags": []
   },
   "outputs": [
    {
     "name": "stdout",
     "output_type": "stream",
     "text": [
      "Cloning into 'ClarinStudioKaldi'...\r\n",
      "remote: Enumerating objects: 778, done.\u001b[K\r\n",
      "remote: Counting objects: 100% (3/3), done.\u001b[K\r\n",
      "remote: Compressing objects: 100% (3/3), done.\u001b[K\r\n",
      "remote: Total 778 (delta 0), reused 0 (delta 0), pack-reused 775\u001b[K\r\n",
      "Receiving objects: 100% (778/778), 35.26 MiB | 40.84 MiB/s, done.\r\n",
      "Resolving deltas: 100% (262/262), done.\r\n"
     ]
    }
   ],
   "source": [
    "!git clone https://github.com/danijel3/ClarinStudioKaldi"
   ]
  },
  {
   "cell_type": "code",
   "execution_count": 5,
   "id": "angry-engagement",
   "metadata": {
    "execution": {
     "iopub.execute_input": "2021-05-23T22:16:11.600397Z",
     "iopub.status.busy": "2021-05-23T22:16:11.599621Z",
     "iopub.status.idle": "2021-05-23T22:16:11.606669Z",
     "shell.execute_reply": "2021-05-23T22:16:11.605994Z"
    },
    "papermill": {
     "duration": 0.025207,
     "end_time": "2021-05-23T22:16:11.606811",
     "exception": false,
     "start_time": "2021-05-23T22:16:11.581604",
     "status": "completed"
    },
    "tags": []
   },
   "outputs": [
    {
     "name": "stdout",
     "output_type": "stream",
     "text": [
      "/opt/kaldi/egs/ClarinStudioKaldi\n"
     ]
    }
   ],
   "source": [
    "%cd ClarinStudioKaldi"
   ]
  },
  {
   "cell_type": "code",
   "execution_count": 6,
   "id": "tender-surgery",
   "metadata": {
    "execution": {
     "iopub.execute_input": "2021-05-23T22:16:11.645996Z",
     "iopub.status.busy": "2021-05-23T22:16:11.642304Z",
     "iopub.status.idle": "2021-05-23T22:18:52.775494Z",
     "shell.execute_reply": "2021-05-23T22:18:52.774643Z"
    },
    "papermill": {
     "duration": 161.153287,
     "end_time": "2021-05-23T22:18:52.775806",
     "exception": false,
     "start_time": "2021-05-23T22:16:11.622519",
     "status": "completed"
    },
    "tags": []
   },
   "outputs": [
    {
     "name": "stdout",
     "output_type": "stream",
     "text": [
      "Collecting package metadata (current_repodata.json): - \b\b\\ \b\b| \b\b/ \b\b- \b\b\\ \b\b| \b\b/ \b\b- \b\b\\ \b\b| \b\b/ \b\b- \b\b\\ \b\b| \b\b/ \b\b- \b\b\\ \b\b| \b\b/ \b\b- \b\b\\ \b\b| \b\b/ \b\b- \b\b\\ \b\b| \b\b/ \b\b- \b\b\\ \b\b| \b\b/ \b\b- \b\b\\ \b\b| \b\b/ \b\b- \b\b\\ \b\b| \b\b/ \b\b- \b\b\\ \b\b| \b\b/ \b\b- \b\b\\ \b\b| \b\b/ \b\b- \b\b\\ \b\b| \b\b/ \b\b- \b\b\\ \b\b| \b\b/ \b\b- \b\b\\ \b\b| \b\b/ \b\b- \b\b\\ \b\b| \b\b/ \b\b- \b\b\\ \b\b| \b\b/ \b\b- \b\b\\ \b\b| \b\b/ \b\b- \b\b\\ \b\b| \b\b/ \b\b- \b\b\\ \b\b| \b\b/ \b\b- \b\b\\ \b\b| \b\b/ \b\b- \b\b\\ \b\b| \b\b/ \b\b- \b\b\\ \b\b| \b\b/ \b\b- \b\b\\ \b\b| \b\b/ \b\b- \b\b\\ \b\b| \b\b/ \b\b- \b\b\\ \b\b| \b\b/ \b\b- \b\b\\ \b\b| \b\b/ \b\b- \b\b\\ \b\b| \b\b/ \b\b- \b\b\\ \b\b| \b\b/ \b\b- \b\b\\ \b\b| \b\b/ \b\b- \b\b\\ \b\b| \b\b/ \b\b- \b\b\\ \b\b| \b\b/ \b\b- \b\b\\ \b\b| \b\b/ \b\b- \b\b\\ \b\b| \b\b/ \b\b- \b\b\\ \b\b| \b\b/ \b\b- \b\b\\ \b\b| \b\b/ \b\b- \b\b\\ \b\b| \b\b/ \b\b- \b\b\\ \b\b| \b\b/ \b\b- \b\b\\ \b\b| \b\b/ \b\b- \b\b\\ \b\b| \b\b/ \b\b- \b\b\\ \b\b| \b\b/ \b\b- \b\b\\ \b\b| \b\b/ \b\b- \b\b\\ \b\b| \b\b/ \b\b- \b\b\\ \b\b| \b\b/ \b\b- \b\b\\ \b\b| \b\b/ \b\b- \b\b\\ \b\b| \b\b/ \b\b- \b\b\\ \b\b| \b\b/ \b\bdone\r\n",
      "Solving environment: \\ \b\b| \b\b/ \b\b- \b\b\\ \b\b| \b\b/ \b\b- \b\b\\ \b\b| \b\b/ \b\b- \b\b\\ \b\b| \b\b/ \b\b- \b\b\\ \b\b| \b\b/ \b\b- \b\b\\ \b\b| \b\b/ \b\b- \b\b\\ \b\b| \b\b/ \b\b- \b\b\\ \b\b| \b\b/ \b\b- \b\b\\ \b\b| \b\b/ \b\b- \b\b\\ \b\b| \b\b/ \b\b- \b\b\\ \b\b| \b\b/ \b\b- \b\b\\ \b\b| \b\b/ \b\b- \b\b\\ \b\b| \b\b/ \b\b- \b\b\\ \b\b| \b\b/ \b\b- \b\b\\ \b\b| \b\b/ \b\b- \b\b\\ \b\b| \b\b/ \b\b- \b\b\\ \b\b| \b\b/ \b\b- \b\b\\ \b\b| \b\b/ \b\b- \b\b\\ \b\b| \b\b/ \b\b- \b\b\\ \b\b| \b\b/ \b\b- \b\b\\ \b\b| \b\b/ \b\b- \b\b\\ \b\b| \b\b/ \b\b- \b\b\\ \b\b| \b\b/ \b\b- \b\b\\ \b\b| \b\b/ \b\b- \b\b\\ \b\b| \b\b/ \b\b- \b\b\\ \b\b| \b\b/ \b\b- \b\b\\ \b\b| \b\b/ \b\b- \b\b\\ \b\b| \b\b/ \b\b- \b\b\\ \b\b| \b\b/ \b\b- \b\b\\ \b\b| \b\b/ \b\b- \b\b\\ \b\b| \b\b/ \b\b- \b\b\\ \b\b| \b\b/ \b\b- \b\b\\ \b\b| \b\b/ \b\b- \b\b\\ \b\b| \b\b/ \b\b- \b\b\\ \b\b| \b\b/ \b\b- \b\b\\ \b\b| \b\b/ \b\b- \b\b\\ \b\b| \b\b/ \b\b- \b\b\\ \b\b| \b\b/ \b\b- \b\b\\ \b\b| \b\b/ \b\b- \b\b\\ \b\b| \b\b/ \b\b- \b\b\\ \b\b| \b\b/ \b\b- \b\b\\ \b\b| \b\b/ \b\b- \b\b\\ \b\b| \b\b/ \b\b- \b\b\\ \b\b| \b\b/ \b\b- \b\b\\ \b\b| \b\b/ \b\b- \b\b\\ \b\b| \b\b/ \b\b- \b\b\\ \b\b| \b\b/ \b\b- \b\b\\ \b\b| \b\b/ \b\b- \b\b\\ \b\b| \b\b/ \b\b- \b\b\\ \b\b| \b\b/ \b\b- \b\b\\ \b\b| \b\b/ \b\b- \b\b\\ \b\b| \b\b/ \b\b- \b\b\\ \b\b| \b\b/ \b\b- \b\b\\ \b\b| \b\b/ \b\b- \b\b\\ \b\b| \b\b/ \b\b- \b\b\\ \b\b| \b\b/ \b\b- \b\b\\ \b\b| \b\b/ \b\b- \b\b\\ \b\b| \b\b/ \b\b- \b\b\\ \b\b| \b\b/ \b\b- \b\b\\ \b\b| \b\b/ \b\b- \b\b\\ \b\b| \b\b/ \b\b- \b\b\\ \b\b| \b\b/ \b\b- \b\b\\ \b\b| \b\b/ \b\b- \b\b\\ \b\b| \b\b/ \b\b- \b\b\\ \b\b| \b\b/ \b\b- \b\b\\ \b\b| \b\b/ \b\b- \b\b\\ \b\b| \b\b/ \b\b- \b\b\\ \b\b| \b\b/ \b\b- \b\b\\ \b\b| \b\b/ \b\b- \b\b\\ \b\b| \b\b/ \b\b- \b\b\\ \b\b| \b\b/ \b\b- \b\b\\ \b\b| \b\b/ \b\b- \b\b\\ \b\b| \b\b/ \b\b- \b\b\\ \b\b| \b\b/ \b\b- \b\b\\ \b\b| \b\b/ \b\b- \b\b\\ \b\b| \b\b/ \b\b- \b\b\\ \b\b| \b\b/ \b\b- \b\b\\ \b\b| \b\b/ \b\b- \b\b\\ \b\b| \b\b/ \b\b- \b\b\\ \b\b| \b\b/ \b\b- \b\b\\ \b\b| \b\b/ \b\b- \b\b\\ \b\b| \b\b/ \b\b- \b\b\\ \b\b| \b\b/ \b\b- \b\b\\ \b\b| \b\b/ \b\b- \b\b\\ \b\b| \b\b/ \b\b- \b\b\\ \b\b| \b\b/ \b\b- \b\b\\ \b\b| \b\b/ \b\b- \b\b\\ \b\b| \b\b/ \b\b- \b\b\\ \b\b| \b\b/ \b\b- \b\b\\ \b\b| \b\b/ \b\b- \b\b\\ \b\b| \b\b/ \b\b- \b\b\\ \b\b| \b\b/ \b\b- \b\b\\ \b\b| \b\b/ \b\b- \b\b\\ \b\b| \b\b/ \b\b- \b\b\\ \b\b| \b\b/ \b\b- \b\b\\ \b\b| \b\b/ \b\b- \b\b\\ \b\b| \b\b/ \b\b- \b\b\\ \b\b| \b\b/ \b\b- \b\b\\ \b\b| \b\b/ \b\b- \b\b\\ \b\b| \b\b/ \b\b- \b\b\\ \b\b| \b\b/ \b\b- \b\b\\ \b\b| \b\b/ \b\b- \b\b\\ \b\b| \b\b/ \b\b- \b\b\\ \b\b| \b\b/ \b\b- \b\b\\ \b\b| \b\b/ \b\b- \b\b\\ \b\b| \b\b/ \b\b- \b\b\\ \b\b| \b\b/ \b\b- \b\b\\ \b\b| \b\b/ \b\b- \b\b\\ \b\b| \b\b/ \b\b- \b\b\\ \b\b| \b\b/ \b\b- \b\b\\ \b\b| \b\b/ \b\b- \b\b\\ \b\b| \b\b/ \b\b- \b\b\\ \b\b| \b\b/ \b\b- \b\b\\ \b\b| \b\b/ \b\b- \b\b\\ \b\b| \b\b/ \b\b- \b\b\\ \b\b| \b\b/ \b\b- \b\b\\ \b\b| \b\b/ \b\b- \b\b\\ \b\b| \b\b/ \b\b- \b\b\\ \b\b| \b\b/ \b\b- \b\b\\ \b\b| \b\b/ \b\b- \b\b\\ \b\b| \b\b/ \b\b- \b\b\\ \b\b| \b\b/ \b\b- \b\b\\ \b\b| \b\b/ \b\b- \b\b\\ \b\b| \b\b/ \b\b- \b\b\\ \b\b| \b\b/ \b\b- \b\b\\ \b\b| \b\b/ \b\b- \b\b\\ \b\b| \b\b/ \b\b- \b\b\\ \b\b| \b\b/ \b\b- \b\b\\ \b\b| \b\b/ \b\b- \b\b\\ \b\b| \b\b/ \b\b- \b\b\\ \b\b| \b\b/ \b\b- \b\b\\ \b\b| \b\b/ \b\b- \b\b\\ \b\b| \b\b/ \b\b- \b\b\\ \b\b| \b\b/ \b\b- \b\b\\ \b\b| \b\b/ \b\b- \b\b\\ \b\b| \b\b/ \b\b- \b\b\\ \b\b| \b\b/ \b\b- \b\b\\ \b\b| \b\b/ \b\b- \b\b\\ \b\b| \b\b/ \b\b- \b\b\\ \b\b| \b\b/ \b\b- \b\b\\ \b\b| \b\b/ \b\b- \b\b\\ \b\b| \b\b/ \b\b- \b\b\\ \b\b| \b\b/ \b\b- \b\b\\ \b\b| \b\b/ \b\b- \b\b\\ \b\b| \b\b/ \b\b- \b\b\\ \b\b| \b\b/ \b\b- \b\b\\ \b\bdone\r\n",
      "\r\n",
      "## Package Plan ##\r\n",
      "\r\n",
      "  environment location: /opt/conda\r\n",
      "\r\n",
      "  added / updated specs:\r\n",
      "    - perl-perlio-gzip\r\n",
      "\r\n",
      "\r\n",
      "The following packages will be downloaded:\r\n",
      "\r\n",
      "    package                    |            build\r\n",
      "    ---------------------------|-----------------\r\n",
      "    perl-5.26.2                |    h36c2ea0_1008        15.4 MB  conda-forge\r\n",
      "    perl-perlio-gzip-0.20      |  pl526h84994c4_1          17 KB  bioconda\r\n",
      "    ------------------------------------------------------------\r\n",
      "                                           Total:        15.4 MB\r\n",
      "\r\n",
      "The following NEW packages will be INSTALLED:\r\n",
      "\r\n",
      "  perl-perlio-gzip   bioconda/linux-64::perl-perlio-gzip-0.20-pl526h84994c4_1\r\n",
      "\r\n",
      "The following packages will be DOWNGRADED:\r\n",
      "\r\n",
      "  perl                                    5.32.0-h36c2ea0_0 --> 5.26.2-h36c2ea0_1008\r\n",
      "\r\n",
      "\r\n",
      "\r\n",
      "Downloading and Extracting Packages\r\n",
      "perl-5.26.2          | 15.4 MB   | ##################################### | 100% \r\n",
      "perl-perlio-gzip-0.2 | 17 KB     | ##################################### | 100% \r\n",
      "Preparing transaction: / \b\b- \b\bdone\r\n",
      "Verifying transaction: | \b\b/ \b\b- \b\b\\ \b\b| \b\b/ \b\bdone\r\n",
      "Executing transaction: \\ \b\b| \b\b/ \b\b- \b\b\\ \b\b| \b\b/ \b\b- \b\b\\ \b\b| \b\b/ \b\b- \b\b\\ \b\b| \b\b/ \b\b- \b\b\\ \b\b| \b\b/ \b\b- \b\b\\ \b\b| \b\b/ \b\b- \b\b\\ \b\b| \b\b/ \b\b- \b\b\\ \b\b| \b\b/ \b\b- \b\b\\ \b\b| \b\b/ \b\b- \b\b\\ \b\b| \b\b/ \b\b- \b\b\\ \b\b| \b\b/ \b\b- \b\b\\ \b\b| \b\b/ \b\b- \b\b\\ \b\b| \b\b/ \b\b- \b\b\\ \b\b| \b\b/ \b\b- \b\b\\ \b\b| \b\b/ \b\b- \b\b\\ \b\b| \b\b/ \b\b- \b\b\\ \b\b| \b\b/ \b\b- \b\b\\ \b\b| \b\b/ \b\b- \b\b\\ \b\b| \b\b/ \b\b- \b\b\\ \b\b| \b\b/ \b\b- \b\b\\ \b\b| \b\b/ \b\b- \b\b\\ \b\b| \b\b/ \b\b- \b\b\\ \b\b| \b\b/ \b\b- \b\b\\ \b\b| \b\b/ \b\b- \b\b\\ \b\b| \b\b/ \b\b- \b\b\\ \b\b| \b\b/ \b\b- \b\b\\ \b\b| \b\b/ \b\b- \b\b\\ \b\b| \b\b/ \b\b- \b\b\\ \b\b| \b\b/ \b\b- \b\b\\ \b\b| \b\b/ \b\b- \b\b\\ \b\b| \b\b/ \b\b- \b\b\\ \b\b| \b\b/ \b\b- \b\b\\ \b\b| \b\b/ \b\b- \b\b\\ \b\b| \b\b/ \b\b- \b\b\\ \b\b| \b\b/ \b\b- \b\b\\ \b\b| \b\b/ \b\b- \b\b\\ \b\b| \b\b/ \b\b- \b\b\\ \b\b| \b\b/ \b\b- \b\b\\ \b\b| \b\b/ \b\b- \b\b\\ \b\b| \b\b/ \b\b- \b\b\\ \b\b| \b\b/ \b\b- \b\b\\ \b\b| \b\b/ \b\b- \b\b\\ \b\b| \b\b/ \b\b- \b\b\\ \b\b| \b\b/ \b\b- \b\b\\ \b\b| \b\b/ \b\b- \b\b\\ \b\b| \b\b/ \b\b- \b\b\\ \b\b| \b\b/ \b\b- \b\b\\ \b\b| \b\b/ \b\bdone\r\n"
     ]
    }
   ],
   "source": [
    "#apt-get -y install libperlio-gzip-perl\n",
    "!conda install -c bioconda perl-perlio-gzip -y"
   ]
  },
  {
   "cell_type": "code",
   "execution_count": 7,
   "id": "utility-better",
   "metadata": {
    "execution": {
     "iopub.execute_input": "2021-05-23T22:18:53.397793Z",
     "iopub.status.busy": "2021-05-23T22:18:53.397043Z",
     "iopub.status.idle": "2021-05-23T22:18:53.399718Z",
     "shell.execute_reply": "2021-05-23T22:18:53.399194Z"
    },
    "papermill": {
     "duration": 0.311429,
     "end_time": "2021-05-23T22:18:53.399861",
     "exception": false,
     "start_time": "2021-05-23T22:18:53.088432",
     "status": "completed"
    },
    "tags": []
   },
   "outputs": [],
   "source": [
    "import os\n",
    "#os.environ['LD_LIBRARY_PATH'] = f'{os.environ[\"LD_LIBRARY_PATH\"]}:/opt/kaldi/tools/openfst-1.6.7/lib:/opt/kaldi/src/lib'\n",
    "os.environ['LD_LIBRARY_PATH'] = '/opt/conda/lib:/opt/kaldi/tools/openfst-1.6.7/lib:/opt/kaldi/src/lib'"
   ]
  },
  {
   "cell_type": "code",
   "execution_count": 8,
   "id": "external-plymouth",
   "metadata": {
    "execution": {
     "iopub.execute_input": "2021-05-23T22:18:54.025014Z",
     "iopub.status.busy": "2021-05-23T22:18:54.024319Z",
     "iopub.status.idle": "2021-05-23T22:18:55.477166Z",
     "shell.execute_reply": "2021-05-23T22:18:55.476343Z"
    },
    "papermill": {
     "duration": 1.775019,
     "end_time": "2021-05-23T22:18:55.477342",
     "exception": false,
     "start_time": "2021-05-23T22:18:53.702323",
     "status": "completed"
    },
    "tags": []
   },
   "outputs": [],
   "source": [
    "!cat path.sh|sed -e 's/~\\/apps/\\/opt/' > tmp\n",
    "!mv tmp path.sh"
   ]
  },
  {
   "cell_type": "code",
   "execution_count": 9,
   "id": "severe-people",
   "metadata": {
    "execution": {
     "iopub.execute_input": "2021-05-23T22:18:56.098763Z",
     "iopub.status.busy": "2021-05-23T22:18:56.098017Z",
     "iopub.status.idle": "2021-05-23T22:18:56.817111Z",
     "shell.execute_reply": "2021-05-23T22:18:56.816544Z"
    },
    "papermill": {
     "duration": 1.034681,
     "end_time": "2021-05-23T22:18:56.817285",
     "exception": false,
     "start_time": "2021-05-23T22:18:55.782604",
     "status": "completed"
    },
    "tags": []
   },
   "outputs": [],
   "source": [
    "!echo > local_clarin/clarin_pl_clean.sh"
   ]
  },
  {
   "cell_type": "code",
   "execution_count": 10,
   "id": "sticky-scanner",
   "metadata": {
    "execution": {
     "iopub.execute_input": "2021-05-23T22:18:57.444343Z",
     "iopub.status.busy": "2021-05-23T22:18:57.443564Z",
     "iopub.status.idle": "2021-05-23T22:19:00.319120Z",
     "shell.execute_reply": "2021-05-23T22:19:00.318512Z"
    },
    "papermill": {
     "duration": 3.192372,
     "end_time": "2021-05-23T22:19:00.319287",
     "exception": false,
     "start_time": "2021-05-23T22:18:57.126915",
     "status": "completed"
    },
    "tags": []
   },
   "outputs": [],
   "source": [
    "!ln -s ../wsj/s5/steps\n",
    "!ln -s ../wsj/s5/conf\n",
    "!ln -s ../wsj/s5/local\n",
    "!ln -s ../wsj/s5/utils"
   ]
  },
  {
   "cell_type": "code",
   "execution_count": 11,
   "id": "solved-german",
   "metadata": {
    "execution": {
     "iopub.execute_input": "2021-05-23T22:19:00.932019Z",
     "iopub.status.busy": "2021-05-23T22:19:00.931335Z",
     "iopub.status.idle": "2021-05-23T22:19:16.429166Z",
     "shell.execute_reply": "2021-05-23T22:19:16.428592Z"
    },
    "papermill": {
     "duration": 15.80889,
     "end_time": "2021-05-23T22:19:16.429322",
     "exception": false,
     "start_time": "2021-05-23T22:19:00.620432",
     "status": "completed"
    },
    "tags": []
   },
   "outputs": [],
   "source": [
    "!cp -r /kaggle/input/kaldi-clarinstudio-polish-train-mono-1-30/data /kaggle/working/\n",
    "!cp -r /kaggle/input/kaldi-clarinstudio-polish-train-mono-1-30/exp /kaggle/working/"
   ]
  },
  {
   "cell_type": "code",
   "execution_count": 12,
   "id": "functioning-vector",
   "metadata": {
    "execution": {
     "iopub.execute_input": "2021-05-23T22:19:17.101389Z",
     "iopub.status.busy": "2021-05-23T22:19:17.100295Z",
     "iopub.status.idle": "2021-05-23T22:19:18.567075Z",
     "shell.execute_reply": "2021-05-23T22:19:18.567603Z"
    },
    "papermill": {
     "duration": 1.821482,
     "end_time": "2021-05-23T22:19:18.567801",
     "exception": false,
     "start_time": "2021-05-23T22:19:16.746319",
     "status": "completed"
    },
    "tags": []
   },
   "outputs": [],
   "source": [
    "!ln -s /kaggle/working/exp\n",
    "!ln -s /kaggle/working/data"
   ]
  },
  {
   "cell_type": "code",
   "execution_count": 13,
   "id": "former-invalid",
   "metadata": {
    "execution": {
     "iopub.execute_input": "2021-05-23T22:19:19.186603Z",
     "iopub.status.busy": "2021-05-23T22:19:19.185677Z",
     "iopub.status.idle": "2021-05-23T22:19:19.190375Z",
     "shell.execute_reply": "2021-05-23T22:19:19.189764Z"
    },
    "papermill": {
     "duration": 0.318378,
     "end_time": "2021-05-23T22:19:19.190519",
     "exception": false,
     "start_time": "2021-05-23T22:19:18.872141",
     "status": "completed"
    },
    "tags": []
   },
   "outputs": [
    {
     "name": "stdout",
     "output_type": "stream",
     "text": [
      "Writing train_mono.sh\n"
     ]
    }
   ],
   "source": [
    "%%writefile train_mono.sh\n",
    "#!/usr/bin/env bash\n",
    "# Copyright 2012  Johns Hopkins University (Author: Daniel Povey)\n",
    "#           2019  Xiaohui Zhang\n",
    "# Apache 2.0\n",
    "\n",
    "# Trimmed down from WSJ train_mono.sh, to continue from 30\n",
    "# Begin configuration section.\n",
    "nj=4\n",
    "cmd=run.pl\n",
    "scale_opts=\"--transition-scale=1.0 --acoustic-scale=0.1 --self-loop-scale=0.1\"\n",
    "num_iters=40    # Number of iterations of training\n",
    "max_iter_inc=30 # Last iter to increase #Gauss on.\n",
    "regular_beam=10 # beam used after the first iteration\n",
    "retry_beam=40\n",
    "totgauss=1000 # Target #Gaussians.\n",
    "boost_silence=1.0 # Factor by which to boost silence likelihoods in alignment\n",
    "realign_iters=\"1 2 3 4 5 6 7 8 9 10 12 14 16 18 20 23 26 29 32 35 38\";\n",
    "config= # name of config file.\n",
    "stage=-4\n",
    "# End configuration section.\n",
    "\n",
    "echo \"$0 $@\"  # Print the command line for logging\n",
    "\n",
    "if [ -f path.sh ]; then . ./path.sh; fi\n",
    ". parse_options.sh || exit 1;\n",
    "\n",
    "if [ $# != 3 ]; then\n",
    "  echo \"Usage: steps/train_mono.sh [options] <data-dir> <lang-dir> <exp-dir>\"\n",
    "  echo \" e.g.: steps/train_mono.sh data/train.1k data/lang exp/mono\"\n",
    "  echo \"main options (for others, see top of script file)\"\n",
    "  echo \"  --config <config-file>                           # config containing options\"\n",
    "  echo \"  --nj <nj>                                        # number of parallel jobs\"\n",
    "  echo \"  --cmd (utils/run.pl|utils/queue.pl <queue opts>) # how to run jobs.\"\n",
    "  exit 1;\n",
    "fi\n",
    "\n",
    "data=$1\n",
    "lang=$2\n",
    "dir=$3\n",
    "\n",
    "oov_sym=`cat $lang/oov.int` || exit 1;\n",
    "\n",
    "mkdir -p $dir/log\n",
    "echo $nj > $dir/num_jobs\n",
    "sdata=$data/split$nj;\n",
    "[[ -d $sdata && $data/feats.scp -ot $sdata ]] || split_data.sh $data $nj || exit 1;\n",
    "\n",
    "feats=\"ark,s,cs:apply-cmvn $cmvn_opts --utt2spk=ark:$sdata/JOB/utt2spk scp:$sdata/JOB/cmvn.scp scp:$sdata/JOB/feats.scp ark:- | add-deltas $delta_opts ark:- ark:- |\"\n",
    "\n",
    "cp $lang/phones.txt $dir || exit 1;\n",
    "\n",
    "numgauss=`gmm-info --print-args=false $dir/0.mdl | grep gaussians | awk '{print $NF}'`\n",
    "incgauss=$[($totgauss-$numgauss)/$max_iter_inc] # per-iter increment for #Gauss\n",
    "# update from last run\n",
    "numgauss=`gmm-info --print-args=false $dir/29.mdl | grep gaussians | awk '{print $NF}'`\n",
    "\n",
    "# beam is only set to $initial_beam for first run\n",
    "beam=$regular_beam\n",
    "x=30\n",
    "while [ $x -lt $num_iters ]; do\n",
    "  echo \"$0: Pass $x\"\n",
    "  if [ $stage -le $x ]; then\n",
    "    if echo $realign_iters | grep -w $x >/dev/null; then\n",
    "      echo \"$0: Aligning data\"\n",
    "      mdl=\"gmm-boost-silence --boost=$boost_silence `cat $lang/phones/optional_silence.csl` $dir/$x.mdl - |\"\n",
    "      $cmd JOB=1:$nj $dir/log/align.$x.JOB.log \\\n",
    "        gmm-align-compiled $scale_opts --beam=$beam --retry-beam=$retry_beam --careful=$careful \"$mdl\" \\\n",
    "        \"ark:gunzip -c $dir/fsts.JOB.gz|\" \"$feats\" \"ark,t:|gzip -c >$dir/ali.JOB.gz\" \\\n",
    "        || exit 1;\n",
    "    fi\n",
    "    $cmd JOB=1:$nj $dir/log/acc.$x.JOB.log \\\n",
    "      gmm-acc-stats-ali  $dir/$x.mdl \"$feats\" \"ark:gunzip -c $dir/ali.JOB.gz|\" \\\n",
    "      $dir/$x.JOB.acc || exit 1;\n",
    "\n",
    "    $cmd $dir/log/update.$x.log \\\n",
    "      gmm-est --write-occs=$dir/$[$x+1].occs --mix-up=$numgauss --power=$power $dir/$x.mdl \\\n",
    "      \"gmm-sum-accs - $dir/$x.*.acc|\" $dir/$[$x+1].mdl || exit 1;\n",
    "    rm $dir/$x.mdl $dir/$x.*.acc $dir/$x.occs 2>/dev/null\n",
    "  fi\n",
    "  if [ $x -le $max_iter_inc ]; then\n",
    "     numgauss=$[$numgauss+$incgauss];\n",
    "  fi\n",
    "  beam=$regular_beam\n",
    "  x=$[$x+1]\n",
    "done\n",
    "\n",
    "( cd $dir; rm final.{mdl,occs} 2>/dev/null; ln -s $x.mdl final.mdl; ln -s $x.occs final.occs )\n",
    "\n",
    "\n",
    "steps/diagnostic/analyze_alignments.sh --cmd \"$cmd\" $lang $dir\n",
    "utils/summarize_warnings.pl $dir/log\n",
    "\n",
    "steps/info/gmm_dir_info.pl $dir\n",
    "\n",
    "echo \"$0: Done training monophone system in $dir\"\n",
    "\n",
    "exit 0"
   ]
  },
  {
   "cell_type": "code",
   "execution_count": 14,
   "id": "fitted-armor",
   "metadata": {
    "execution": {
     "iopub.execute_input": "2021-05-23T22:19:19.888397Z",
     "iopub.status.busy": "2021-05-23T22:19:19.887635Z",
     "iopub.status.idle": "2021-05-23T22:20:38.565436Z",
     "shell.execute_reply": "2021-05-23T22:20:38.566159Z"
    },
    "papermill": {
     "duration": 78.99035,
     "end_time": "2021-05-23T22:20:38.566494",
     "exception": false,
     "start_time": "2021-05-23T22:19:19.576144",
     "status": "completed"
    },
    "tags": []
   },
   "outputs": [
    {
     "name": "stdout",
     "output_type": "stream",
     "text": [
      "train_mono.sh --nj 40 data/train data/lang_nosp exp/mono0\r\n",
      "ERROR (gmm-info[5.5.0~1-2b62]:Input():kaldi-io.cc:756) Error opening input stream exp/mono0/29.mdl\r\n",
      "\r\n",
      "[ Stack-Trace: ]\r\n",
      "/opt/kaldi/src/lib/libkaldi-base.so(kaldi::MessageLogger::LogMessage() const+0x82c) [0x7fb689e482aa]\r\n",
      "/opt/kaldi/src/lib/libkaldi-hmm.so(kaldi::MessageLogger::LogAndThrow::operator=(kaldi::MessageLogger const&)+0x21) [0x7fb68a7c1c37]\r\n",
      "/opt/kaldi/src/lib/libkaldi-util.so(kaldi::Input::Input(std::__cxx11::basic_string<char, std::char_traits<char>, std::allocator<char> > const&, bool*)+0x9e) [0x7fb68a30e8da]\r\n",
      "gmm-info(main+0x1de) [0x4020f4]\r\n",
      "/lib/x86_64-linux-gnu/libc.so.6(__libc_start_main+0xe7) [0x7fb689a72bf7]\r\n",
      "gmm-info(_start+0x29) [0x401e49]\r\n",
      "\r\n",
      "kaldi::KaldiFatalError\r\n",
      "train_mono.sh: Pass 30\r\n",
      "run.pl: job failed, log is in exp/mono0/log/update.30.log\r\n"
     ]
    }
   ],
   "source": [
    "!bash train_mono.sh --nj 40 data/train data/lang_nosp exp/mono0"
   ]
  }
 ],
 "metadata": {
  "kernelspec": {
   "display_name": "Python 3",
   "language": "python",
   "name": "python3"
  },
  "language_info": {
   "codemirror_mode": {
    "name": "ipython",
    "version": 3
   },
   "file_extension": ".py",
   "mimetype": "text/x-python",
   "name": "python",
   "nbconvert_exporter": "python",
   "pygments_lexer": "ipython3",
   "version": "3.7.10"
  },
  "papermill": {
   "default_parameters": {},
   "duration": 315.005432,
   "end_time": "2021-05-23T22:20:39.682501",
   "environment_variables": {},
   "exception": null,
   "input_path": "__notebook__.ipynb",
   "output_path": "__notebook__.ipynb",
   "parameters": {},
   "start_time": "2021-05-23T22:15:24.677069",
   "version": "2.3.3"
  }
 },
 "nbformat": 4,
 "nbformat_minor": 5
}
