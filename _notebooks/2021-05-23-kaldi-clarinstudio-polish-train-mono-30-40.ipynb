{
 "cells": [
  {
   "cell_type": "code",
   "execution_count": 1,
   "id": "placed-sherman",
   "metadata": {
    "execution": {
     "iopub.execute_input": "2021-05-23T23:07:47.827473Z",
     "iopub.status.busy": "2021-05-23T23:07:47.825860Z",
     "iopub.status.idle": "2021-05-23T23:07:47.838099Z",
     "shell.execute_reply": "2021-05-23T23:07:47.836827Z",
     "shell.execute_reply.started": "2021-05-23T22:42:59.94366Z"
    },
    "papermill": {
     "duration": 0.026911,
     "end_time": "2021-05-23T23:07:47.838330",
     "exception": false,
     "start_time": "2021-05-23T23:07:47.811419",
     "status": "completed"
    },
    "tags": []
   },
   "outputs": [
    {
     "name": "stdout",
     "output_type": "stream",
     "text": [
      "/opt\n"
     ]
    }
   ],
   "source": [
    "%cd /opt"
   ]
  },
  {
   "cell_type": "code",
   "execution_count": 2,
   "id": "cosmetic-arrival",
   "metadata": {
    "_cell_guid": "b1076dfc-b9ad-4769-8c92-a6c4dae69d19",
    "_uuid": "8f2839f25d086af736a60e9eeb907d3b93b6e0e5",
    "execution": {
     "iopub.execute_input": "2021-05-23T23:07:47.862660Z",
     "iopub.status.busy": "2021-05-23T23:07:47.861745Z",
     "iopub.status.idle": "2021-05-23T23:08:19.675351Z",
     "shell.execute_reply": "2021-05-23T23:08:19.675798Z",
     "shell.execute_reply.started": "2021-05-23T22:43:43.503379Z"
    },
    "papermill": {
     "duration": 31.826378,
     "end_time": "2021-05-23T23:08:19.675995",
     "exception": false,
     "start_time": "2021-05-23T23:07:47.849617",
     "status": "completed"
    },
    "tags": []
   },
   "outputs": [],
   "source": [
    "%%capture\n",
    "!tar xvf /kaggle/input/extract-prebuilt-kaldi-from-docker/kaldi.tar"
   ]
  },
  {
   "cell_type": "code",
   "execution_count": 3,
   "id": "generic-instruction",
   "metadata": {
    "execution": {
     "iopub.execute_input": "2021-05-23T23:08:19.704440Z",
     "iopub.status.busy": "2021-05-23T23:08:19.703739Z",
     "iopub.status.idle": "2021-05-23T23:08:19.709007Z",
     "shell.execute_reply": "2021-05-23T23:08:19.708467Z",
     "shell.execute_reply.started": "2021-05-23T22:44:51.747433Z"
    },
    "papermill": {
     "duration": 0.022923,
     "end_time": "2021-05-23T23:08:19.709202",
     "exception": false,
     "start_time": "2021-05-23T23:08:19.686279",
     "status": "completed"
    },
    "tags": []
   },
   "outputs": [
    {
     "name": "stdout",
     "output_type": "stream",
     "text": [
      "/opt/kaldi/egs\n"
     ]
    }
   ],
   "source": [
    "%cd kaldi/egs"
   ]
  },
  {
   "cell_type": "code",
   "execution_count": 4,
   "id": "lesser-scenario",
   "metadata": {
    "execution": {
     "iopub.execute_input": "2021-05-23T23:08:19.735433Z",
     "iopub.status.busy": "2021-05-23T23:08:19.734774Z",
     "iopub.status.idle": "2021-05-23T23:08:23.986898Z",
     "shell.execute_reply": "2021-05-23T23:08:23.986130Z",
     "shell.execute_reply.started": "2021-05-23T22:44:55.283104Z"
    },
    "papermill": {
     "duration": 4.267531,
     "end_time": "2021-05-23T23:08:23.987124",
     "exception": false,
     "start_time": "2021-05-23T23:08:19.719593",
     "status": "completed"
    },
    "tags": []
   },
   "outputs": [
    {
     "name": "stdout",
     "output_type": "stream",
     "text": [
      "Cloning into 'ClarinStudioKaldi'...\r\n",
      "remote: Enumerating objects: 778, done.\u001b[K\r\n",
      "remote: Counting objects: 100% (3/3), done.\u001b[K\r\n",
      "remote: Compressing objects: 100% (3/3), done.\u001b[K\r\n",
      "remote: Total 778 (delta 0), reused 0 (delta 0), pack-reused 775\u001b[K\r\n",
      "Receiving objects: 100% (778/778), 35.26 MiB | 35.68 MiB/s, done.\r\n",
      "Resolving deltas: 100% (262/262), done.\r\n"
     ]
    }
   ],
   "source": [
    "!git clone https://github.com/danijel3/ClarinStudioKaldi"
   ]
  },
  {
   "cell_type": "code",
   "execution_count": 5,
   "id": "laden-theory",
   "metadata": {
    "execution": {
     "iopub.execute_input": "2021-05-23T23:08:24.048274Z",
     "iopub.status.busy": "2021-05-23T23:08:24.046684Z",
     "iopub.status.idle": "2021-05-23T23:08:24.057921Z",
     "shell.execute_reply": "2021-05-23T23:08:24.058633Z",
     "shell.execute_reply.started": "2021-05-23T22:45:02.333219Z"
    },
    "papermill": {
     "duration": 0.04683,
     "end_time": "2021-05-23T23:08:24.058813",
     "exception": false,
     "start_time": "2021-05-23T23:08:24.011983",
     "status": "completed"
    },
    "tags": []
   },
   "outputs": [
    {
     "name": "stdout",
     "output_type": "stream",
     "text": [
      "/opt/kaldi/egs/ClarinStudioKaldi\n"
     ]
    }
   ],
   "source": [
    "%cd ClarinStudioKaldi"
   ]
  },
  {
   "cell_type": "code",
   "execution_count": 6,
   "id": "pleased-spectrum",
   "metadata": {
    "execution": {
     "iopub.execute_input": "2021-05-23T23:08:24.095126Z",
     "iopub.status.busy": "2021-05-23T23:08:24.094273Z",
     "iopub.status.idle": "2021-05-23T23:10:51.509469Z",
     "shell.execute_reply": "2021-05-23T23:10:51.510289Z",
     "shell.execute_reply.started": "2021-05-23T22:45:13.828183Z"
    },
    "papermill": {
     "duration": 147.434503,
     "end_time": "2021-05-23T23:10:51.510845",
     "exception": false,
     "start_time": "2021-05-23T23:08:24.076342",
     "status": "completed"
    },
    "tags": []
   },
   "outputs": [],
   "source": [
    "%%capture\n",
    "!conda install -c bioconda perl-perlio-gzip -y"
   ]
  },
  {
   "cell_type": "code",
   "execution_count": 7,
   "id": "signed-expense",
   "metadata": {
    "execution": {
     "iopub.execute_input": "2021-05-23T23:10:51.550415Z",
     "iopub.status.busy": "2021-05-23T23:10:51.549731Z",
     "iopub.status.idle": "2021-05-23T23:10:51.551678Z",
     "shell.execute_reply": "2021-05-23T23:10:51.552393Z",
     "shell.execute_reply.started": "2021-05-23T22:48:01.867999Z"
    },
    "papermill": {
     "duration": 0.024879,
     "end_time": "2021-05-23T23:10:51.552584",
     "exception": false,
     "start_time": "2021-05-23T23:10:51.527705",
     "status": "completed"
    },
    "tags": []
   },
   "outputs": [],
   "source": [
    "import os\n",
    "os.environ['LD_LIBRARY_PATH'] = '/opt/conda/lib:/opt/kaldi/tools/openfst-1.6.7/lib:/opt/kaldi/src/lib'"
   ]
  },
  {
   "cell_type": "code",
   "execution_count": 8,
   "id": "rotary-turner",
   "metadata": {
    "execution": {
     "iopub.execute_input": "2021-05-23T23:10:51.584261Z",
     "iopub.status.busy": "2021-05-23T23:10:51.583653Z",
     "iopub.status.idle": "2021-05-23T23:10:53.054024Z",
     "shell.execute_reply": "2021-05-23T23:10:53.053513Z",
     "shell.execute_reply.started": "2021-05-23T22:48:01.876848Z"
    },
    "papermill": {
     "duration": 1.488794,
     "end_time": "2021-05-23T23:10:53.054207",
     "exception": false,
     "start_time": "2021-05-23T23:10:51.565413",
     "status": "completed"
    },
    "tags": []
   },
   "outputs": [],
   "source": [
    "!cat path.sh|sed -e 's/~\\/apps/\\/opt/' > tmp\n",
    "!mv tmp path.sh"
   ]
  },
  {
   "cell_type": "code",
   "execution_count": 9,
   "id": "certain-protocol",
   "metadata": {
    "execution": {
     "iopub.execute_input": "2021-05-23T23:10:53.084996Z",
     "iopub.status.busy": "2021-05-23T23:10:53.084344Z",
     "iopub.status.idle": "2021-05-23T23:10:53.808013Z",
     "shell.execute_reply": "2021-05-23T23:10:53.808552Z",
     "shell.execute_reply.started": "2021-05-23T22:48:03.38233Z"
    },
    "papermill": {
     "duration": 0.741818,
     "end_time": "2021-05-23T23:10:53.808725",
     "exception": false,
     "start_time": "2021-05-23T23:10:53.066907",
     "status": "completed"
    },
    "tags": []
   },
   "outputs": [],
   "source": [
    "!echo > local_clarin/clarin_pl_clean.sh"
   ]
  },
  {
   "cell_type": "code",
   "execution_count": 10,
   "id": "bigger-coverage",
   "metadata": {
    "execution": {
     "iopub.execute_input": "2021-05-23T23:10:53.837498Z",
     "iopub.status.busy": "2021-05-23T23:10:53.836630Z",
     "iopub.status.idle": "2021-05-23T23:10:56.751115Z",
     "shell.execute_reply": "2021-05-23T23:10:56.751658Z",
     "shell.execute_reply.started": "2021-05-23T22:48:04.106786Z"
    },
    "papermill": {
     "duration": 2.930592,
     "end_time": "2021-05-23T23:10:56.751922",
     "exception": false,
     "start_time": "2021-05-23T23:10:53.821330",
     "status": "completed"
    },
    "tags": []
   },
   "outputs": [],
   "source": [
    "!ln -s ../wsj/s5/steps\n",
    "!ln -s ../wsj/s5/conf\n",
    "!ln -s ../wsj/s5/local\n",
    "!ln -s ../wsj/s5/utils"
   ]
  },
  {
   "cell_type": "code",
   "execution_count": 11,
   "id": "intelligent-liability",
   "metadata": {
    "execution": {
     "iopub.execute_input": "2021-05-23T23:10:56.786256Z",
     "iopub.status.busy": "2021-05-23T23:10:56.785355Z",
     "iopub.status.idle": "2021-05-23T23:11:11.873004Z",
     "shell.execute_reply": "2021-05-23T23:11:11.872478Z",
     "shell.execute_reply.started": "2021-05-23T22:48:06.993185Z"
    },
    "papermill": {
     "duration": 15.105063,
     "end_time": "2021-05-23T23:11:11.873205",
     "exception": false,
     "start_time": "2021-05-23T23:10:56.768142",
     "status": "completed"
    },
    "tags": []
   },
   "outputs": [],
   "source": [
    "!cp -r /kaggle/input/kaldi-clarinstudio-polish-train-mono-1-30/data /kaggle/working/\n",
    "!cp -r /kaggle/input/kaldi-clarinstudio-polish-train-mono-1-30/exp /kaggle/working/"
   ]
  },
  {
   "cell_type": "code",
   "execution_count": 12,
   "id": "circular-subscription",
   "metadata": {
    "execution": {
     "iopub.execute_input": "2021-05-23T23:11:11.906865Z",
     "iopub.status.busy": "2021-05-23T23:11:11.906267Z",
     "iopub.status.idle": "2021-05-23T23:11:13.353354Z",
     "shell.execute_reply": "2021-05-23T23:11:13.352869Z",
     "shell.execute_reply.started": "2021-05-23T22:48:21.907982Z"
    },
    "papermill": {
     "duration": 1.466163,
     "end_time": "2021-05-23T23:11:13.353575",
     "exception": false,
     "start_time": "2021-05-23T23:11:11.887412",
     "status": "completed"
    },
    "tags": []
   },
   "outputs": [],
   "source": [
    "!ln -s /kaggle/working/exp\n",
    "!ln -s /kaggle/working/data"
   ]
  },
  {
   "cell_type": "code",
   "execution_count": 13,
   "id": "bridal-seller",
   "metadata": {
    "execution": {
     "iopub.execute_input": "2021-05-23T23:11:13.389708Z",
     "iopub.status.busy": "2021-05-23T23:11:13.389125Z",
     "iopub.status.idle": "2021-05-23T23:11:14.266883Z",
     "shell.execute_reply": "2021-05-23T23:11:14.266107Z",
     "shell.execute_reply.started": "2021-05-23T22:51:41.822193Z"
    },
    "papermill": {
     "duration": 0.900623,
     "end_time": "2021-05-23T23:11:14.267024",
     "exception": false,
     "start_time": "2021-05-23T23:11:13.366401",
     "status": "completed"
    },
    "tags": []
   },
   "outputs": [
    {
     "name": "stdout",
     "output_type": "stream",
     "text": [
      "925\r\n"
     ]
    }
   ],
   "source": [
    "!/opt/kaldi/src/gmmbin/gmm-info --print-args=false exp/mono0/30.mdl | grep gaussians | awk '{print $NF}'"
   ]
  },
  {
   "cell_type": "code",
   "execution_count": 14,
   "id": "narrow-acoustic",
   "metadata": {
    "execution": {
     "iopub.execute_input": "2021-05-23T23:11:14.301144Z",
     "iopub.status.busy": "2021-05-23T23:11:14.300223Z",
     "iopub.status.idle": "2021-05-23T23:11:14.305646Z",
     "shell.execute_reply": "2021-05-23T23:11:14.304958Z"
    },
    "papermill": {
     "duration": 0.026008,
     "end_time": "2021-05-23T23:11:14.305829",
     "exception": false,
     "start_time": "2021-05-23T23:11:14.279821",
     "status": "completed"
    },
    "tags": []
   },
   "outputs": [
    {
     "name": "stdout",
     "output_type": "stream",
     "text": [
      "Writing train_mono.sh\n"
     ]
    }
   ],
   "source": [
    "%%writefile train_mono.sh\n",
    "#!/usr/bin/env bash\n",
    "# Copyright 2012  Johns Hopkins University (Author: Daniel Povey)\n",
    "#           2019  Xiaohui Zhang\n",
    "# Apache 2.0\n",
    "\n",
    "# Trimmed down from WSJ train_mono.sh, to continue from 30\n",
    "# Begin configuration section.\n",
    "nj=4\n",
    "cmd=run.pl\n",
    "scale_opts=\"--transition-scale=1.0 --acoustic-scale=0.1 --self-loop-scale=0.1\"\n",
    "num_iters=40    # Number of iterations of training\n",
    "max_iter_inc=30 # Last iter to increase #Gauss on.\n",
    "regular_beam=10 # beam used after the first iteration\n",
    "retry_beam=40\n",
    "totgauss=1000 # Target #Gaussians.\n",
    "boost_silence=1.0 # Factor by which to boost silence likelihoods in alignment\n",
    "realign_iters=\"1 2 3 4 5 6 7 8 9 10 12 14 16 18 20 23 26 29 32 35 38\";\n",
    "config= # name of config file.\n",
    "stage=-4\n",
    "# End configuration section.\n",
    "\n",
    "echo \"$0 $@\"  # Print the command line for logging\n",
    "\n",
    "if [ -f path.sh ]; then . ./path.sh; fi\n",
    ". parse_options.sh || exit 1;\n",
    "\n",
    "if [ $# != 3 ]; then\n",
    "  echo \"Usage: steps/train_mono.sh [options] <data-dir> <lang-dir> <exp-dir>\"\n",
    "  echo \" e.g.: steps/train_mono.sh data/train.1k data/lang exp/mono\"\n",
    "  echo \"main options (for others, see top of script file)\"\n",
    "  echo \"  --config <config-file>                           # config containing options\"\n",
    "  echo \"  --nj <nj>                                        # number of parallel jobs\"\n",
    "  echo \"  --cmd (utils/run.pl|utils/queue.pl <queue opts>) # how to run jobs.\"\n",
    "  exit 1;\n",
    "fi\n",
    "\n",
    "data=$1\n",
    "lang=$2\n",
    "dir=$3\n",
    "\n",
    "oov_sym=`cat $lang/oov.int` || exit 1;\n",
    "\n",
    "mkdir -p $dir/log\n",
    "echo $nj > $dir/num_jobs\n",
    "sdata=$data/split$nj;\n",
    "[[ -d $sdata && $data/feats.scp -ot $sdata ]] || split_data.sh $data $nj || exit 1;\n",
    "\n",
    "feats=\"ark,s,cs:apply-cmvn $cmvn_opts --utt2spk=ark:$sdata/JOB/utt2spk scp:$sdata/JOB/cmvn.scp scp:$sdata/JOB/feats.scp ark:- | add-deltas $delta_opts ark:- ark:- |\"\n",
    "\n",
    "cp $lang/phones.txt $dir || exit 1;\n",
    "\n",
    "numgauss=`gmm-info --print-args=false $dir/0.mdl | grep gaussians | awk '{print $NF}'`\n",
    "incgauss=$[($totgauss-$numgauss)/$max_iter_inc] # per-iter increment for #Gauss\n",
    "# update from last run\n",
    "#numgauss=`gmm-info --print-args=false $dir/30.mdl | grep gaussians | awk '{print $NF}'`\n",
    "#numgauss=925\n",
    "igauss=1\n",
    "while [ $igauss -lt 30 ];do\n",
    "    numgauss=$[$numgauss+$incgauss];\n",
    "    igauss=$[$igauss+1]\n",
    "done\n",
    "\n",
    "# beam is only set to $initial_beam for first run\n",
    "beam=$regular_beam\n",
    "x=30\n",
    "while [ $x -lt $num_iters ]; do\n",
    "  echo \"$0: Pass $x\"\n",
    "  if [ $stage -le $x ]; then\n",
    "    if echo $realign_iters | grep -w $x >/dev/null; then\n",
    "      echo \"$0: Aligning data\"\n",
    "      mdl=\"gmm-boost-silence --boost=$boost_silence `cat $lang/phones/optional_silence.csl` $dir/$x.mdl - |\"\n",
    "      $cmd JOB=1:$nj $dir/log/align.$x.JOB.log \\\n",
    "        gmm-align-compiled $scale_opts --beam=$beam --retry-beam=$retry_beam --careful=$careful \"$mdl\" \\\n",
    "        \"ark:gunzip -c $dir/fsts.JOB.gz|\" \"$feats\" \"ark,t:|gzip -c >$dir/ali.JOB.gz\" \\\n",
    "        || exit 1;\n",
    "    fi\n",
    "    $cmd JOB=1:$nj $dir/log/acc.$x.JOB.log \\\n",
    "      gmm-acc-stats-ali  $dir/$x.mdl \"$feats\" \"ark:gunzip -c $dir/ali.JOB.gz|\" \\\n",
    "      $dir/$x.JOB.acc || exit 1;\n",
    "\n",
    "    $cmd $dir/log/update.$x.log \\\n",
    "      gmm-est --write-occs=$dir/$[$x+1].occs --mix-up=$numgauss --power=$power $dir/$x.mdl \\\n",
    "      \"gmm-sum-accs - $dir/$x.*.acc|\" $dir/$[$x+1].mdl || exit 1;\n",
    "    rm $dir/$x.mdl $dir/$x.*.acc $dir/$x.occs 2>/dev/null\n",
    "  fi\n",
    "  if [ $x -le $max_iter_inc ]; then\n",
    "     numgauss=$[$numgauss+$incgauss];\n",
    "  fi\n",
    "  beam=$regular_beam\n",
    "  x=$[$x+1]\n",
    "done\n",
    "\n",
    "( cd $dir; rm final.{mdl,occs} 2>/dev/null; ln -s $x.mdl final.mdl; ln -s $x.occs final.occs )\n",
    "\n",
    "\n",
    "steps/diagnostic/analyze_alignments.sh --cmd \"$cmd\" $lang $dir\n",
    "utils/summarize_warnings.pl $dir/log\n",
    "\n",
    "steps/info/gmm_dir_info.pl $dir\n",
    "\n",
    "echo \"$0: Done training monophone system in $dir\"\n",
    "\n",
    "exit 0"
   ]
  },
  {
   "cell_type": "code",
   "execution_count": 15,
   "id": "dietary-michael",
   "metadata": {
    "execution": {
     "iopub.execute_input": "2021-05-23T23:11:14.342115Z",
     "iopub.status.busy": "2021-05-23T23:11:14.337494Z",
     "iopub.status.idle": "2021-05-23T23:12:30.468295Z",
     "shell.execute_reply": "2021-05-23T23:12:30.467761Z"
    },
    "papermill": {
     "duration": 76.148692,
     "end_time": "2021-05-23T23:12:30.468481",
     "exception": false,
     "start_time": "2021-05-23T23:11:14.319789",
     "status": "completed"
    },
    "tags": []
   },
   "outputs": [
    {
     "name": "stdout",
     "output_type": "stream",
     "text": [
      "train_mono.sh --nj 40 data/train data/lang_nosp exp/mono0\r\n",
      "train_mono.sh: Pass 30\r\n",
      "run.pl: job failed, log is in exp/mono0/log/update.30.log\r\n"
     ]
    }
   ],
   "source": [
    "!bash train_mono.sh --nj 40 data/train data/lang_nosp exp/mono0"
   ]
  }
 ],
 "metadata": {
  "kernelspec": {
   "display_name": "Python 3",
   "language": "python",
   "name": "python3"
  },
  "language_info": {
   "codemirror_mode": {
    "name": "ipython",
    "version": 3
   },
   "file_extension": ".py",
   "mimetype": "text/x-python",
   "name": "python",
   "nbconvert_exporter": "python",
   "pygments_lexer": "ipython3",
   "version": "3.7.10"
  },
  "papermill": {
   "default_parameters": {},
   "duration": 290.837793,
   "end_time": "2021-05-23T23:12:31.296397",
   "environment_variables": {},
   "exception": null,
   "input_path": "__notebook__.ipynb",
   "output_path": "__notebook__.ipynb",
   "parameters": {},
   "start_time": "2021-05-23T23:07:40.458604",
   "version": "2.3.3"
  }
 },
 "nbformat": 4,
 "nbformat_minor": 5
}
