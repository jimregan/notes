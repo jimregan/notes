{
 "cells": [
  {
   "cell_type": "markdown",
   "metadata": {},
   "source": [
    "# Fix LJSpeech text\n",
    "\n",
    "> LJSpeech comes with a normalised version, but it needs some extra work\n",
    "\n",
    "- toc: false\n",
    "- branch: master\n",
    "- categories: [ljspeech]"
   ]
  },
  {
   "cell_type": "code",
   "execution_count": 1,
   "metadata": {},
   "outputs": [],
   "source": [
    "PATH = \"/home/joregan/ljspeech/LJSpeech-1.1/metadata.csv\""
   ]
  },
  {
   "cell_type": "code",
   "execution_count": 17,
   "metadata": {},
   "outputs": [],
   "source": [
    "def fix_text(text):\n",
    "    text = text.lower()\n",
    "    text = text.replace(\" -- \", \" \")\n",
    "    text = text.replace(\"ü\", \"u\")\n",
    "    text = text.replace(\"etc.\", \"etcetera\")\n",
    "    text = text.replace(\"i.e.\", \"i e \")\n",
    "    text = text.replace(\";\", \"\")\n",
    "    text = text.replace(\". \", \" \")\n",
    "    text = text.replace(\",\", \"\")\n",
    "    text = text.replace(\"\\\"\", \"\")\n",
    "    text = text.replace(\"  \", \" \")\n",
    "    alpha = \"abcdefghijklmnopqrstuvwxyz\"\n",
    "    i = 0\n",
    "    buf = []\n",
    "    while i < len(text):\n",
    "        if text[i] in alpha or text[i] == \" \":\n",
    "            buf.append(text[i])\n",
    "        elif text[i:i+1] == \"'s\" or text[i-1:i+1] == \"s' \" or (i == len(text)-1 and text[i:i+1] == \"s'\"):\n",
    "            buf.append(text[i])\n",
    "        elif text[i] == \"-\" and text[i-1] in alpha:\n",
    "            buf.append(\" \")\n",
    "        else:\n",
    "            pass\n",
    "        i += 1\n",
    "    text = \"\".join(buf)\n",
    "    return text"
   ]
  },
  {
   "cell_type": "code",
   "execution_count": 18,
   "metadata": {},
   "outputs": [],
   "source": [
    "items = {}\n",
    "with open(PATH) as f:\n",
    "    for line in f.readlines():\n",
    "        arr = line.split(\"|\")\n",
    "        if len(arr) != 3:\n",
    "            print(line)\n",
    "        id = arr[0]\n",
    "        text = fix_text(arr[2])\n",
    "        items[id] = text\n",
    "        "
   ]
  },
  {
   "cell_type": "code",
   "execution_count": 19,
   "metadata": {},
   "outputs": [],
   "source": [
    "OUTPATH = \"/home/joregan/ljspeech/LJSpeech-1.1/text.tsv\"\n",
    "with open(OUTPATH, \"w\") as outf:\n",
    "    for key in items.keys():\n",
    "        outf.write(f\"{key}\\t{items[key]}\\n\")"
   ]
  }
 ],
 "metadata": {
  "interpreter": {
   "hash": "5aaff6959852088ba68e3b74670bab30a036b45e314ed2af36f9a8ccbd21216c"
  },
  "kernelspec": {
   "display_name": "Python 3.8.13 ('fs2')",
   "language": "python",
   "name": "python3"
  },
  "language_info": {
   "codemirror_mode": {
    "name": "ipython",
    "version": 3
   },
   "file_extension": ".py",
   "mimetype": "text/x-python",
   "name": "python",
   "nbconvert_exporter": "python",
   "pygments_lexer": "ipython3",
   "version": "3.8.13"
  },
  "orig_nbformat": 4
 },
 "nbformat": 4,
 "nbformat_minor": 2
}
