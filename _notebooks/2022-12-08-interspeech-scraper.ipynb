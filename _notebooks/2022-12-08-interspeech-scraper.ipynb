{
 "cells": [
  {
   "cell_type": "markdown",
   "metadata": {},
   "source": [
    "# Scraper for Interspeech, etc.\n",
    "\n",
    "> \"This one actually scrapes the page\"\n",
    "\n",
    "- hidden: true\n",
    "- toc: false\n",
    "- badges: true\n",
    "- categories: [scraper, interspeech]"
   ]
  },
  {
   "cell_type": "code",
   "execution_count": 1,
   "metadata": {},
   "outputs": [],
   "source": [
    "from bs4 import BeautifulSoup\n",
    "import requests"
   ]
  },
  {
   "cell_type": "code",
   "execution_count": 2,
   "metadata": {},
   "outputs": [],
   "source": [
    "req = requests.get(\"https://www.isca-speech.org/archive/\")"
   ]
  },
  {
   "cell_type": "code",
   "execution_count": 3,
   "metadata": {},
   "outputs": [],
   "source": [
    "assert req.status_code == 200"
   ]
  },
  {
   "cell_type": "code",
   "execution_count": 4,
   "metadata": {},
   "outputs": [],
   "source": [
    "soup = BeautifulSoup(req.text, 'html.parser')"
   ]
  },
  {
   "cell_type": "code",
   "execution_count": 5,
   "metadata": {},
   "outputs": [],
   "source": [
    "for div in soup.find_all(\"div\", {\"class\": \"w3-container\"}):\n",
    "    if div.text.strip().endswith(\"1987\"):\n",
    "        top = div"
   ]
  },
  {
   "cell_type": "code",
   "execution_count": 14,
   "metadata": {},
   "outputs": [],
   "source": [
    "raw_data = []\n",
    "for a_tag in top.find_all(\"a\"):\n",
    "    href = a_tag.attrs[\"href\"]\n",
    "    conf = href.split(\"_\")[0]\n",
    "    year = href.split(\"/\")[0].split(\"_\")[-1]\n",
    "    if conf.endswith(\"speech\"):\n",
    "        doi = f\"10.21437/{conf[0].upper()}{conf[1:]}.{year}\"\n",
    "    elif conf == \"icslp\":\n",
    "        doi = f\"10.21437/{conf.upper()}.{year}\"\n",
    "    else:\n",
    "        doi = \"\"\n",
    "    raw_data.append([href, conf, year, doi])"
   ]
  },
  {
   "cell_type": "code",
   "execution_count": 15,
   "metadata": {},
   "outputs": [],
   "source": [
    "output = []\n",
    "output.append(\"| Year | Conference | Title | DOI |\")\n",
    "output.append(\"|------|------------|-------|-----|\")\n",
    "for item in raw_data:\n",
    "    output.append(f\"| {item[2]} | {item[1]} | [{item[1].upper()} {item[2]}](https://www.isca-speech.org/archive/{item[0]}) | {item[3]} |\")\n"
   ]
  },
  {
   "cell_type": "code",
   "execution_count": 16,
   "metadata": {},
   "outputs": [],
   "source": [
    "from IPython.display import display, Markdown"
   ]
  },
  {
   "cell_type": "code",
   "execution_count": 17,
   "metadata": {},
   "outputs": [
    {
     "data": {
      "text/markdown": [
       "| Year | Conference | Title | DOI |\n",
       "|------|------------|-------|-----|\n",
       "| 2022 | interspeech | [INTERSPEECH 2022](https://www.isca-speech.org/archive/interspeech_2022/index.html) | 10.21437/Interspeech.2022 |\n",
       "| 2021 | interspeech | [INTERSPEECH 2021](https://www.isca-speech.org/archive/interspeech_2021/index.html) | 10.21437/Interspeech.2021 |\n",
       "| 2020 | interspeech | [INTERSPEECH 2020](https://www.isca-speech.org/archive/interspeech_2020/index.html) | 10.21437/Interspeech.2020 |\n",
       "| 2019 | interspeech | [INTERSPEECH 2019](https://www.isca-speech.org/archive/interspeech_2019/index.html) | 10.21437/Interspeech.2019 |\n",
       "| 2018 | interspeech | [INTERSPEECH 2018](https://www.isca-speech.org/archive/interspeech_2018/index.html) | 10.21437/Interspeech.2018 |\n",
       "| 2017 | interspeech | [INTERSPEECH 2017](https://www.isca-speech.org/archive/interspeech_2017/index.html) | 10.21437/Interspeech.2017 |\n",
       "| 2016 | interspeech | [INTERSPEECH 2016](https://www.isca-speech.org/archive/interspeech_2016/index.html) | 10.21437/Interspeech.2016 |\n",
       "| 2015 | interspeech | [INTERSPEECH 2015](https://www.isca-speech.org/archive/interspeech_2015/index.html) | 10.21437/Interspeech.2015 |\n",
       "| 2014 | interspeech | [INTERSPEECH 2014](https://www.isca-speech.org/archive/interspeech_2014/index.html) | 10.21437/Interspeech.2014 |\n",
       "| 2013 | interspeech | [INTERSPEECH 2013](https://www.isca-speech.org/archive/interspeech_2013/index.html) | 10.21437/Interspeech.2013 |\n",
       "| 2012 | interspeech | [INTERSPEECH 2012](https://www.isca-speech.org/archive/interspeech_2012/index.html) | 10.21437/Interspeech.2012 |\n",
       "| 2011 | interspeech | [INTERSPEECH 2011](https://www.isca-speech.org/archive/interspeech_2011/index.html) | 10.21437/Interspeech.2011 |\n",
       "| 2010 | interspeech | [INTERSPEECH 2010](https://www.isca-speech.org/archive/interspeech_2010/index.html) | 10.21437/Interspeech.2010 |\n",
       "| 2009 | interspeech | [INTERSPEECH 2009](https://www.isca-speech.org/archive/interspeech_2009/index.html) | 10.21437/Interspeech.2009 |\n",
       "| 2008 | interspeech | [INTERSPEECH 2008](https://www.isca-speech.org/archive/interspeech_2008/index.html) | 10.21437/Interspeech.2008 |\n",
       "| 2007 | interspeech | [INTERSPEECH 2007](https://www.isca-speech.org/archive/interspeech_2007/index.html) | 10.21437/Interspeech.2007 |\n",
       "| 2006 | interspeech | [INTERSPEECH 2006](https://www.isca-speech.org/archive/interspeech_2006/index.html) | 10.21437/Interspeech.2006 |\n",
       "| 2005 | interspeech | [INTERSPEECH 2005](https://www.isca-speech.org/archive/interspeech_2005/index.html) | 10.21437/Interspeech.2005 |\n",
       "| 2004 | interspeech | [INTERSPEECH 2004](https://www.isca-speech.org/archive/interspeech_2004/index.html) | 10.21437/Interspeech.2004 |\n",
       "| 2003 | eurospeech | [EUROSPEECH 2003](https://www.isca-speech.org/archive/eurospeech_2003/index.html) | 10.21437/Eurospeech.2003 |\n",
       "| 2002 | icslp | [ICSLP 2002](https://www.isca-speech.org/archive/icslp_2002/index.html) | 10.21437/ICSLP.2002 |\n",
       "| 2001 | eurospeech | [EUROSPEECH 2001](https://www.isca-speech.org/archive/eurospeech_2001/index.html) | 10.21437/Eurospeech.2001 |\n",
       "| 2000 | icslp | [ICSLP 2000](https://www.isca-speech.org/archive/icslp_2000/index.html) | 10.21437/ICSLP.2000 |\n",
       "| 1999 | eurospeech | [EUROSPEECH 1999](https://www.isca-speech.org/archive/eurospeech_1999/index.html) | 10.21437/Eurospeech.1999 |\n",
       "| 1998 | icslp | [ICSLP 1998](https://www.isca-speech.org/archive/icslp_1998/index.html) | 10.21437/ICSLP.1998 |\n",
       "| 1997 | eurospeech | [EUROSPEECH 1997](https://www.isca-speech.org/archive/eurospeech_1997/index.html) | 10.21437/Eurospeech.1997 |\n",
       "| 1996 | icslp | [ICSLP 1996](https://www.isca-speech.org/archive/icslp_1996/index.html) | 10.21437/ICSLP.1996 |\n",
       "| 1995 | eurospeech | [EUROSPEECH 1995](https://www.isca-speech.org/archive/eurospeech_1995/index.html) | 10.21437/Eurospeech.1995 |\n",
       "| 1994 | icslp | [ICSLP 1994](https://www.isca-speech.org/archive/icslp_1994/index.html) | 10.21437/ICSLP.1994 |\n",
       "| 1993 | eurospeech | [EUROSPEECH 1993](https://www.isca-speech.org/archive/eurospeech_1993/index.html) | 10.21437/Eurospeech.1993 |\n",
       "| 1992 | icslp | [ICSLP 1992](https://www.isca-speech.org/archive/icslp_1992/index.html) | 10.21437/ICSLP.1992 |\n",
       "| 1991 | eurospeech | [EUROSPEECH 1991](https://www.isca-speech.org/archive/eurospeech_1991/index.html) | 10.21437/Eurospeech.1991 |\n",
       "| 1990 | icslp | [ICSLP 1990](https://www.isca-speech.org/archive/icslp_1990/index.html) | 10.21437/ICSLP.1990 |\n",
       "| 1989 | eurospeech | [EUROSPEECH 1989](https://www.isca-speech.org/archive/eurospeech_1989/index.html) | 10.21437/Eurospeech.1989 |\n",
       "| 1987 | ecst | [ECST 1987](https://www.isca-speech.org/archive/ecst_1987/index.html) |  |"
      ],
      "text/plain": [
       "<IPython.core.display.Markdown object>"
      ]
     },
     "metadata": {},
     "output_type": "display_data"
    }
   ],
   "source": [
    "display(Markdown(\"\\n\".join(output)))"
   ]
  }
 ],
 "metadata": {
  "kernelspec": {
   "display_name": "Python 3.10.4 ('ctcseg')",
   "language": "python",
   "name": "python3"
  },
  "language_info": {
   "codemirror_mode": {
    "name": "ipython",
    "version": 3
   },
   "file_extension": ".py",
   "mimetype": "text/x-python",
   "name": "python",
   "nbconvert_exporter": "python",
   "pygments_lexer": "ipython3",
   "version": "3.10.4"
  },
  "orig_nbformat": 4,
  "vscode": {
   "interpreter": {
    "hash": "04f1aebeda7ca92f6170d2806fa3f3c0cbb14da723fd908a9af630117dfe1004"
   }
  }
 },
 "nbformat": 4,
 "nbformat_minor": 2
}
