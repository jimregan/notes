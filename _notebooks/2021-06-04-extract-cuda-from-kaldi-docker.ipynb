{
  "nbformat": 4,
  "nbformat_minor": 0,
  "metadata": {
    "kernelspec": {
      "language": "python",
      "display_name": "Python 3",
      "name": "python3"
    },
    "language_info": {
      "pygments_lexer": "ipython3",
      "nbconvert_exporter": "python",
      "version": "3.6.4",
      "file_extension": ".py",
      "codemirror_mode": {
        "name": "ipython",
        "version": 3
      },
      "name": "python",
      "mimetype": "text/x-python"
    },
    "colab": {
      "name": "2021-06-04-extract-cuda-from-kaldi-docker.ipynb",
      "provenance": []
    }
  },
  "cells": [
    {
      "cell_type": "markdown",
      "metadata": {
        "id": "G5Tqx6oy89du"
      },
      "source": [
        "# Extract CUDA from Kaldi docker image\n",
        "\n",
        "> \"Needed for nnet programs\"\n",
        "\n",
        "- toc: false\n",
        "- branch: master\n",
        "- hidden: true\n",
        "- categories: [asr, kaggle]"
      ]
    },
    {
      "cell_type": "code",
      "metadata": {
        "_uuid": "8f2839f25d086af736a60e9eeb907d3b93b6e0e5",
        "_cell_guid": "b1076dfc-b9ad-4769-8c92-a6c4dae69d19",
        "execution": {
          "iopub.status.busy": "2021-06-04T13:18:55.141496Z",
          "iopub.execute_input": "2021-06-04T13:18:55.142183Z",
          "iopub.status.idle": "2021-06-04T13:18:55.154964Z",
          "shell.execute_reply.started": "2021-06-04T13:18:55.142089Z",
          "shell.execute_reply": "2021-06-04T13:18:55.153474Z"
        },
        "trusted": true,
        "id": "a1FKRCjO85LM"
      },
      "source": [
        "%cd /tmp"
      ],
      "execution_count": null,
      "outputs": []
    },
    {
      "cell_type": "code",
      "metadata": {
        "execution": {
          "iopub.status.busy": "2021-06-04T13:18:55.157342Z",
          "iopub.execute_input": "2021-06-04T13:18:55.157929Z",
          "iopub.status.idle": "2021-06-04T13:18:57.065081Z",
          "shell.execute_reply.started": "2021-06-04T13:18:55.15786Z",
          "shell.execute_reply": "2021-06-04T13:18:57.063906Z"
        },
        "trusted": true,
        "id": "tv5MaIfz85LP"
      },
      "source": [
        "!git clone https://github.com/jjlin/docker-image-extract/"
      ],
      "execution_count": null,
      "outputs": []
    },
    {
      "cell_type": "code",
      "metadata": {
        "execution": {
          "iopub.status.busy": "2021-06-04T13:19:00.059449Z",
          "iopub.execute_input": "2021-06-04T13:19:00.059805Z",
          "iopub.status.idle": "2021-06-04T13:20:29.4452Z",
          "shell.execute_reply.started": "2021-06-04T13:19:00.059772Z",
          "shell.execute_reply": "2021-06-04T13:20:29.444239Z"
        },
        "trusted": true,
        "id": "1H88gXu485LQ"
      },
      "source": [
        "!docker-image-extract/docker-image-extract kaldiasr/kaldi:gpu-latest\n"
      ],
      "execution_count": null,
      "outputs": []
    },
    {
      "cell_type": "code",
      "metadata": {
        "execution": {
          "iopub.status.busy": "2021-06-04T13:20:55.319481Z",
          "iopub.execute_input": "2021-06-04T13:20:55.319868Z",
          "iopub.status.idle": "2021-06-04T13:20:55.327103Z",
          "shell.execute_reply.started": "2021-06-04T13:20:55.31983Z",
          "shell.execute_reply": "2021-06-04T13:20:55.32575Z"
        },
        "trusted": true,
        "id": "eH6-zyGZ85LQ"
      },
      "source": [
        "%cd output/"
      ],
      "execution_count": null,
      "outputs": []
    },
    {
      "cell_type": "code",
      "metadata": {
        "execution": {
          "iopub.status.busy": "2021-06-04T13:24:47.586582Z",
          "iopub.execute_input": "2021-06-04T13:24:47.587011Z",
          "iopub.status.idle": "2021-06-04T13:24:48.445182Z",
          "shell.execute_reply.started": "2021-06-04T13:24:47.586963Z",
          "shell.execute_reply": "2021-06-04T13:24:48.443601Z"
        },
        "trusted": true,
        "id": "2G9JbNwN85LR"
      },
      "source": [
        "!find . -name '*cudnn*' -or -name '*cuda*'"
      ],
      "execution_count": null,
      "outputs": []
    },
    {
      "cell_type": "code",
      "metadata": {
        "trusted": true,
        "id": "iUGnDxfn85LS"
      },
      "source": [
        "!tar cvf /kaggle/working/cuda.tar ./usr/local/cuda-10.0/ ./usr/include/cudnn.h ./usr/include/x86_64-linux-gnu/cudnn_v7.h ./usr/include/linux/cuda.h ./usr/lib/x86_64-linux-gnu/libcudnn*"
      ],
      "execution_count": null,
      "outputs": []
    }
  ]
}