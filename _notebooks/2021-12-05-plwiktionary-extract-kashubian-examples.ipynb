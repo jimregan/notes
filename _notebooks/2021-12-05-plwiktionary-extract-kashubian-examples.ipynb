{
 "cells": [
  {
   "cell_type": "markdown",
   "metadata": {},
   "source": [
    "# \"Extract Kashubian from (English) Wiktionary\"\n",
    "\n",
    "> \"Perl in a notebook ftw\"\n",
    "\n",
    "- toc: false\n",
    "- branch: master\n",
    "- hidden: true\n",
    "- categories: [kashubian, wiktionary]"
   ]
  },
  {
   "cell_type": "code",
   "execution_count": null,
   "metadata": {
    "colab": {
     "base_uri": "https://localhost:8080/"
    },
    "id": "NdYeSjp-LgP9",
    "outputId": "7326d9ce-fce3-46a9-99e4-7b117c00568a"
   },
   "outputs": [],
   "source": [
    "!wget https://dumps.wikimedia.org/plwiktionary/20211201/plwiktionary-20211201-pages-articles-multistream.xml.bz2"
   ]
  },
  {
   "cell_type": "code",
   "execution_count": 6,
   "metadata": {
    "colab": {
     "base_uri": "https://localhost:8080/"
    },
    "id": "NirvBdZaLjPC",
    "outputId": "812192e8-826e-4d88-9e0b-49427041f30b"
   },
   "outputs": [
    {
     "name": "stdout",
     "output_type": "stream",
     "text": [
      "Overwriting kashubian.pl\n"
     ]
    }
   ],
   "source": [
    "%%writefile kashubian.pl\n",
    "#!/usr/bin/perl\n",
    "\n",
    "use warnings;\n",
    "use strict;\n",
    "use utf8;\n",
    "\n",
    "#: (1.1) ''barzo [[kòmùs]] [[dosôdzëc]]'' → [[bardzo]] [[ktoś|komuś]] [[dokuczyć]]\n",
    "\n",
    "binmode(STDIN, \":utf8\");\n",
    "binmode(STDOUT, \":utf8\");\n",
    "\n",
    "my $reading = 0;\n",
    "my $kashubian = 0;\n",
    "while(<>) {\n",
    "\tchomp;\n",
    "\tif($reading == 1) {\n",
    "\t\tif(/^\\{\\{/) {\n",
    "\t\t\t$reading = 0;\n",
    "\t\t\t$kashubian = 0;\n",
    "\t\t\tnext;\n",
    "\t\t} else {\n",
    "\t\t\tprint \"$_\\n\";\n",
    "\t\t}\n",
    "\t} else {\n",
    "\t\tif(/^\\{\\{kolokacje\\}\\}/ && $kashubian == 1) {\n",
    "\t\t\t$reading = 1;\n",
    "\t\t\tnext;\n",
    "\t\t} elsif(/^\\{\\{przykłady\\}\\}/ && $kashubian == 1) {\n",
    "\t\t\t$reading = 1;\n",
    "\t\t\tnext;\n",
    "\t\t} elsif(/^==/) {\n",
    "\t\t\tif(/\\{\\{język kaszubski\\}\\}/) {\n",
    "\t\t\t\t$kashubian = 1;\n",
    "\t\t\t} else {\n",
    "\t\t\t\t$kashubian = 0;\n",
    "\t\t\t}\n",
    "\t\t} else {\n",
    "\t\t\tnext;\n",
    "\t\t}\n",
    "\t}\n",
    "}"
   ]
  },
  {
   "cell_type": "code",
   "execution_count": 8,
   "metadata": {
    "id": "dAx8T96zMIHs"
   },
   "outputs": [],
   "source": [
    "!bzcat plwiktionary-20211201-pages-articles-multistream.xml.bz2 | perl kashubian.pl > kashubian.txt"
   ]
  }
 ],
 "metadata": {
  "colab": {
   "name": "2021-12-05-plwiktionary-extract-kashubian-examples.ipynb",
   "provenance": []
  },
  "kernelspec": {
   "display_name": "Python 3 (ipykernel)",
   "language": "python",
   "name": "python3"
  },
  "language_info": {
   "codemirror_mode": {
    "name": "ipython",
    "version": 3
   },
   "file_extension": ".py",
   "mimetype": "text/x-python",
   "name": "python",
   "nbconvert_exporter": "python",
   "pygments_lexer": "ipython3",
   "version": "3.9.10"
  }
 },
 "nbformat": 4,
 "nbformat_minor": 4
}
