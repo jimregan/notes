{
 "cells": [
  {
   "cell_type": "code",
   "execution_count": 1,
   "id": "eligible-pickup",
   "metadata": {
    "_cell_guid": "b1076dfc-b9ad-4769-8c92-a6c4dae69d19",
    "_uuid": "8f2839f25d086af736a60e9eeb907d3b93b6e0e5",
    "execution": {
     "iopub.execute_input": "2021-05-04T22:37:42.351738Z",
     "iopub.status.busy": "2021-05-04T22:37:42.350349Z",
     "iopub.status.idle": "2021-05-04T22:37:42.673991Z",
     "shell.execute_reply": "2021-05-04T22:37:42.674530Z"
    },
    "papermill": {
     "duration": 0.332422,
     "end_time": "2021-05-04T22:37:42.674835",
     "exception": false,
     "start_time": "2021-05-04T22:37:42.342413",
     "status": "completed"
    },
    "tags": []
   },
   "outputs": [],
   "source": [
    "import glob\n",
    "import json\n",
    "for i in glob.glob('../input/mo-sgeal-fein-wikisource-azure-asr-output/*.jsonl'):\n",
    "    outf = i.replace('jsonl', 'json').split('/')[-1]\n",
    "    with open(i) as f:\n",
    "        curfile = []\n",
    "        for line in f.readlines():\n",
    "            cur = {}\n",
    "            json_data = json.loads(line)\n",
    "            cur['start'] = json_data['Offset']\n",
    "            cur['duration'] = json_data['Duration']\n",
    "            cur['text'] = json_data['NBest'][0]['Lexical']\n",
    "            curfile.append(cur)\n",
    "        with open(outf, 'w') as of:\n",
    "            json.dump(curfile, of)"
   ]
  }
 ],
 "metadata": {
  "kernelspec": {
   "display_name": "Python 3",
   "language": "python",
   "name": "python3"
  },
  "language_info": {
   "codemirror_mode": {
    "name": "ipython",
    "version": 3
   },
   "file_extension": ".py",
   "mimetype": "text/x-python",
   "name": "python",
   "nbconvert_exporter": "python",
   "pygments_lexer": "ipython3",
   "version": "3.7.9"
  },
  "papermill": {
   "default_parameters": {},
   "duration": 8.234689,
   "end_time": "2021-05-04T22:37:43.287485",
   "environment_variables": {},
   "exception": null,
   "input_path": "__notebook__.ipynb",
   "output_path": "__notebook__.ipynb",
   "parameters": {},
   "start_time": "2021-05-04T22:37:35.052796",
   "version": "2.3.2"
  }
 },
 "nbformat": 4,
 "nbformat_minor": 5
}
