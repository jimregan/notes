{
 "cells": [
  {
   "cell_type": "markdown",
   "metadata": {},
   "source": [
    "# Attempt to install Merlin on Kaggle\n",
    "\n",
    "> \"tl;dr - Merlin is outdated\"\n",
    "\n",
    "- toc: false\n",
    "- branch: master\n",
    "- hidden: true\n",
    "- categories: [kaggle, merlin]\n"
   ]
  },
  {
   "cell_type": "code",
   "execution_count": null,
   "metadata": {
    "_cell_guid": "b1076dfc-b9ad-4769-8c92-a6c4dae69d19",
    "_uuid": "8f2839f25d086af736a60e9eeb907d3b93b6e0e5",
    "execution": {
     "iopub.execute_input": "2021-05-26T20:32:13.444501Z",
     "iopub.status.busy": "2021-05-26T20:32:13.444137Z",
     "iopub.status.idle": "2021-05-26T20:32:15.736980Z",
     "shell.execute_reply": "2021-05-26T20:32:15.735933Z",
     "shell.execute_reply.started": "2021-05-26T20:32:13.444471Z"
    }
   },
   "outputs": [],
   "source": [
    "!git clone https://github.com/CSTR-Edinburgh/merlin"
   ]
  },
  {
   "cell_type": "markdown",
   "metadata": {},
   "source": [
    "Merlin needs bandmat, but there's [an issue](https://github.com/MattShannon/bandmat/issues/10) with Python 3.7 and Cython, so build it separately:"
   ]
  },
  {
   "cell_type": "code",
   "execution_count": null,
   "metadata": {
    "execution": {
     "iopub.execute_input": "2021-05-26T20:36:15.195646Z",
     "iopub.status.busy": "2021-05-26T20:36:15.195239Z",
     "iopub.status.idle": "2021-05-26T20:36:42.186044Z",
     "shell.execute_reply": "2021-05-26T20:36:42.184768Z",
     "shell.execute_reply.started": "2021-05-26T20:36:15.195614Z"
    }
   },
   "outputs": [],
   "source": [
    "%%capture\n",
    "!pip install git+https://github.com/MattShannon/bandmat"
   ]
  },
  {
   "cell_type": "code",
   "execution_count": 3,
   "metadata": {
    "execution": {
     "iopub.execute_input": "2021-05-26T20:32:22.083537Z",
     "iopub.status.busy": "2021-05-26T20:32:22.083169Z",
     "iopub.status.idle": "2021-05-26T20:32:22.090665Z",
     "shell.execute_reply": "2021-05-26T20:32:22.089616Z",
     "shell.execute_reply.started": "2021-05-26T20:32:22.083504Z"
    }
   },
   "outputs": [
    {
     "name": "stdout",
     "output_type": "stream",
     "text": [
      "/kaggle/working/merlin\n"
     ]
    }
   ],
   "source": [
    "%cd merlin"
   ]
  },
  {
   "cell_type": "code",
   "execution_count": null,
   "metadata": {
    "execution": {
     "iopub.execute_input": "2021-05-26T20:38:07.554990Z",
     "iopub.status.busy": "2021-05-26T20:38:07.554598Z",
     "iopub.status.idle": "2021-05-26T20:38:14.114746Z",
     "shell.execute_reply": "2021-05-26T20:38:14.113451Z",
     "shell.execute_reply.started": "2021-05-26T20:38:07.554958Z"
    }
   },
   "outputs": [],
   "source": [
    "%%capture\n",
    "!pip install -r requirements.txt"
   ]
  },
  {
   "cell_type": "code",
   "execution_count": 8,
   "metadata": {
    "execution": {
     "iopub.execute_input": "2021-05-26T20:38:29.340607Z",
     "iopub.status.busy": "2021-05-26T20:38:29.340255Z",
     "iopub.status.idle": "2021-05-26T20:38:29.346487Z",
     "shell.execute_reply": "2021-05-26T20:38:29.345690Z",
     "shell.execute_reply.started": "2021-05-26T20:38:29.340577Z"
    }
   },
   "outputs": [
    {
     "name": "stdout",
     "output_type": "stream",
     "text": [
      "/kaggle/working/merlin/tools\n"
     ]
    }
   ],
   "source": [
    "%cd tools"
   ]
  },
  {
   "cell_type": "code",
   "execution_count": 13,
   "metadata": {
    "execution": {
     "iopub.execute_input": "2021-05-26T20:41:25.895924Z",
     "iopub.status.busy": "2021-05-26T20:41:25.895507Z",
     "iopub.status.idle": "2021-05-26T20:41:31.598100Z",
     "shell.execute_reply": "2021-05-26T20:41:31.596836Z",
     "shell.execute_reply.started": "2021-05-26T20:41:25.895887Z"
    }
   },
   "outputs": [],
   "source": [
    "%%capture\n",
    "!apt-get -y install csh automake autoconf"
   ]
  },
  {
   "cell_type": "code",
   "execution_count": null,
   "metadata": {
    "execution": {
     "iopub.execute_input": "2021-05-26T20:41:36.551414Z",
     "iopub.status.busy": "2021-05-26T20:41:36.551052Z",
     "iopub.status.idle": "2021-05-26T20:41:56.025857Z",
     "shell.execute_reply": "2021-05-26T20:41:56.024633Z",
     "shell.execute_reply.started": "2021-05-26T20:41:36.551382Z"
    }
   },
   "outputs": [],
   "source": [
    "!./compile_tools.sh"
   ]
  },
  {
   "cell_type": "code",
   "execution_count": 15,
   "metadata": {
    "execution": {
     "iopub.execute_input": "2021-05-26T20:42:52.400136Z",
     "iopub.status.busy": "2021-05-26T20:42:52.399774Z",
     "iopub.status.idle": "2021-05-26T20:42:52.406522Z",
     "shell.execute_reply": "2021-05-26T20:42:52.405705Z",
     "shell.execute_reply.started": "2021-05-26T20:42:52.400107Z"
    }
   },
   "outputs": [
    {
     "name": "stdout",
     "output_type": "stream",
     "text": [
      "/kaggle/working/merlin\n"
     ]
    }
   ],
   "source": [
    "%cd /kaggle/working/merlin"
   ]
  },
  {
   "cell_type": "code",
   "execution_count": 20,
   "metadata": {
    "execution": {
     "iopub.execute_input": "2021-05-26T20:43:33.029956Z",
     "iopub.status.busy": "2021-05-26T20:43:33.029577Z",
     "iopub.status.idle": "2021-05-26T20:43:33.035973Z",
     "shell.execute_reply": "2021-05-26T20:43:33.035175Z",
     "shell.execute_reply.started": "2021-05-26T20:43:33.029920Z"
    }
   },
   "outputs": [
    {
     "name": "stdout",
     "output_type": "stream",
     "text": [
      "/kaggle/working/merlin/egs/slt_arctic\n"
     ]
    }
   ],
   "source": [
    "%cd egs/slt_arctic"
   ]
  },
  {
   "cell_type": "code",
   "execution_count": 22,
   "metadata": {
    "execution": {
     "iopub.execute_input": "2021-05-26T20:43:49.749466Z",
     "iopub.status.busy": "2021-05-26T20:43:49.749093Z",
     "iopub.status.idle": "2021-05-26T20:43:50.462179Z",
     "shell.execute_reply": "2021-05-26T20:43:50.461270Z",
     "shell.execute_reply.started": "2021-05-26T20:43:49.749436Z"
    }
   },
   "outputs": [
    {
     "name": "stdout",
     "output_type": "stream",
     "text": [
      "About the SLT Arctic corpus\n",
      "\n",
      "The CMU_ARCTIC databases were constructed at the Language Technologies Institute at Carnegie Mellon University as phonetically balanced, US English single speaker databases designed for unit selection speech synthesis research.\n",
      "\n",
      "The databases consist of around 1150 utterances carefully selected from out-of-copyright texts from Project Gutenberg. The databses include US English male (bdl) and female (slt) speakers (both experienced voice talent) as well as other accented speakers.\n",
      "\n",
      "Each subdirectory of this directory contains the\n",
      "scripts for a sequence of experiments.\n",
      "\n",
      "  s1: To run slt_arctic_demo with WORLD vocoder.\n",
      "  s2: To run slt_arctic_demo with MagPhase vocoder (includes acoustic feature extraction).\n",
      "\n",
      "\n"
     ]
    }
   ],
   "source": [
    "!cat README"
   ]
  },
  {
   "cell_type": "code",
   "execution_count": 23,
   "metadata": {
    "execution": {
     "iopub.execute_input": "2021-05-26T20:48:46.920895Z",
     "iopub.status.busy": "2021-05-26T20:48:46.920509Z",
     "iopub.status.idle": "2021-05-26T20:48:46.926643Z",
     "shell.execute_reply": "2021-05-26T20:48:46.925925Z",
     "shell.execute_reply.started": "2021-05-26T20:48:46.920857Z"
    }
   },
   "outputs": [
    {
     "name": "stdout",
     "output_type": "stream",
     "text": [
      "/kaggle/working/merlin/egs/slt_arctic/s1\n"
     ]
    }
   ],
   "source": [
    "%cd s1"
   ]
  },
  {
   "cell_type": "code",
   "execution_count": 27,
   "metadata": {
    "execution": {
     "iopub.execute_input": "2021-05-26T20:49:54.407537Z",
     "iopub.status.busy": "2021-05-26T20:49:54.407189Z",
     "iopub.status.idle": "2021-05-26T20:49:55.129681Z",
     "shell.execute_reply": "2021-05-26T20:49:55.128698Z",
     "shell.execute_reply.started": "2021-05-26T20:49:54.407507Z"
    }
   },
   "outputs": [
    {
     "name": "stdout",
     "output_type": "stream",
     "text": [
      "01_setup.sh\t\t    RESULTS.md\t\t scripts\n",
      "02_prepare_conf_files.sh    conf\t\t slt_arctic_full_data\n",
      "03_train_duration_model.sh  experiments\t\t slt_arctic_full_data.zip\n",
      "04_train_acoustic_model.sh  merlin_synthesis.sh  testrefs\n",
      "05_run_merlin.sh\t    run_demo.sh\n",
      "README.md\t\t    run_full_voice.sh\n"
     ]
    }
   ],
   "source": [
    "!ls"
   ]
  },
  {
   "cell_type": "code",
   "execution_count": 30,
   "metadata": {
    "execution": {
     "iopub.execute_input": "2021-05-26T20:50:30.453896Z",
     "iopub.status.busy": "2021-05-26T20:50:30.453494Z",
     "iopub.status.idle": "2021-05-26T20:50:31.177312Z",
     "shell.execute_reply": "2021-05-26T20:50:31.175973Z",
     "shell.execute_reply.started": "2021-05-26T20:50:30.453859Z"
    }
   },
   "outputs": [
    {
     "name": "stdout",
     "output_type": "stream",
     "text": [
      "################################\n",
      "Usage:\n",
      "Chose any of the below datasets\n",
      "To run on short data:\n",
      "./01_setup.sh slt_arctic_demo\n",
      "./01_setup.sh awb_arctic_demo\n",
      "              (or)          \n",
      "To run on full data:\n",
      "./01_setup.sh slt_arctic_full\n",
      "./01_setup.sh awb_arctic_full\n",
      "./01_setup.sh bdl_arctic_full\n",
      "################################\n"
     ]
    }
   ],
   "source": [
    "!./01_setup.sh"
   ]
  },
  {
   "cell_type": "code",
   "execution_count": 26,
   "metadata": {
    "execution": {
     "iopub.execute_input": "2021-05-26T20:49:30.504235Z",
     "iopub.status.busy": "2021-05-26T20:49:30.503864Z",
     "iopub.status.idle": "2021-05-26T20:49:45.925904Z",
     "shell.execute_reply": "2021-05-26T20:49:45.924849Z",
     "shell.execute_reply.started": "2021-05-26T20:49:30.504204Z"
    }
   },
   "outputs": [
    {
     "name": "stdout",
     "output_type": "stream",
     "text": [
      "Step 1:\n",
      "downloading data.....\n",
      "  % Total    % Received % Xferd  Average Speed   Time    Time     Time  Current\n",
      "                                 Dload  Upload   Total   Spent    Left  Speed\n",
      "100  247M  100  247M    0     0  23.1M      0  0:00:10  0:00:10 --:--:-- 26.5M\n",
      "unzipping files......\n",
      "data is ready!\n",
      "Merlin default voice settings configured in conf/global_settings.cfg\n",
      "setup done...!\n"
     ]
    }
   ],
   "source": [
    "!./01_setup.sh slt_arctic_full"
   ]
  },
  {
   "cell_type": "code",
   "execution_count": 29,
   "metadata": {
    "execution": {
     "iopub.execute_input": "2021-05-26T20:50:12.157654Z",
     "iopub.status.busy": "2021-05-26T20:50:12.157304Z",
     "iopub.status.idle": "2021-05-26T20:50:12.882299Z",
     "shell.execute_reply": "2021-05-26T20:50:12.881167Z",
     "shell.execute_reply.started": "2021-05-26T20:50:12.157623Z"
    }
   },
   "outputs": [
    {
     "name": "stdout",
     "output_type": "stream",
     "text": [
      "################################\n",
      "Usage:\n",
      "./02_prepare_conf_files.sh <path_to_global_conf_file>\n",
      "\n",
      "default path to global conf file: conf/global_settings.cfg\n",
      "Config files will be prepared based on settings in global conf file\n",
      "################################\n"
     ]
    }
   ],
   "source": [
    "!./02_prepare_conf_files.sh"
   ]
  },
  {
   "cell_type": "code",
   "execution_count": 31,
   "metadata": {
    "execution": {
     "iopub.execute_input": "2021-05-26T20:59:54.890059Z",
     "iopub.status.busy": "2021-05-26T20:59:54.889662Z",
     "iopub.status.idle": "2021-05-26T20:59:55.620199Z",
     "shell.execute_reply": "2021-05-26T20:59:55.619038Z",
     "shell.execute_reply.started": "2021-05-26T20:59:54.890025Z"
    }
   },
   "outputs": [
    {
     "name": "stdout",
     "output_type": "stream",
     "text": [
      "MerlinDir=/kaggle/working/merlin\n",
      "WorkDir=/kaggle/working/merlin/egs/slt_arctic/s1\n",
      "Voice=slt_arctic_full\n",
      "Labels=state_align\n",
      "QuestionFile=questions-radio_dnn_416.hed\n",
      "Vocoder=WORLD\n",
      "SamplingFreq=16000\n",
      "FileIDList=file_id_list_full.scp\n",
      "Train=1000\n",
      "Valid=66\n",
      "Test=66\n"
     ]
    }
   ],
   "source": [
    "!cat conf/global_settings.cfg"
   ]
  },
  {
   "cell_type": "code",
   "execution_count": 32,
   "metadata": {
    "execution": {
     "iopub.execute_input": "2021-05-26T21:00:16.843787Z",
     "iopub.status.busy": "2021-05-26T21:00:16.843155Z",
     "iopub.status.idle": "2021-05-26T21:00:17.738497Z",
     "shell.execute_reply": "2021-05-26T21:00:17.737396Z",
     "shell.execute_reply.started": "2021-05-26T21:00:16.843738Z"
    }
   },
   "outputs": [
    {
     "name": "stdout",
     "output_type": "stream",
     "text": [
      "Step 2:\n",
      "preparing config files for acoustic, duration models...\n",
      "Duration configuration settings stored in conf/duration_slt_arctic_full.conf\n",
      "Acoustic configuration settings stored in conf/acoustic_slt_arctic_full.conf\n",
      "preparing config files for synthesis...\n",
      "Duration configuration settings stored in conf/test_dur_synth_slt_arctic_full.conf\n",
      "Acoustic configuration settings stored in conf/test_synth_slt_arctic_full.conf\n"
     ]
    }
   ],
   "source": [
    "!./02_prepare_conf_files.sh conf/global_settings.cfg"
   ]
  },
  {
   "cell_type": "code",
   "execution_count": 33,
   "metadata": {
    "execution": {
     "iopub.execute_input": "2021-05-26T21:00:46.151230Z",
     "iopub.status.busy": "2021-05-26T21:00:46.150786Z",
     "iopub.status.idle": "2021-05-26T21:00:46.880729Z",
     "shell.execute_reply": "2021-05-26T21:00:46.879305Z",
     "shell.execute_reply.started": "2021-05-26T21:00:46.151188Z"
    }
   },
   "outputs": [
    {
     "name": "stdout",
     "output_type": "stream",
     "text": [
      "################################\n",
      "Usage:\n",
      "./03_train_duration_model.sh <path_to_duration_conf_file>\n",
      "\n",
      "Default path to duration conf file: conf/duration_slt_arctic_full.conf\n",
      "################################\n"
     ]
    }
   ],
   "source": [
    "!./03_train_duration_model.sh"
   ]
  },
  {
   "cell_type": "code",
   "execution_count": 35,
   "metadata": {
    "execution": {
     "iopub.execute_input": "2021-05-26T21:01:32.332280Z",
     "iopub.status.busy": "2021-05-26T21:01:32.331839Z",
     "iopub.status.idle": "2021-05-26T21:01:35.820031Z",
     "shell.execute_reply": "2021-05-26T21:01:35.819026Z",
     "shell.execute_reply.started": "2021-05-26T21:01:32.332240Z"
    }
   },
   "outputs": [
    {
     "name": "stdout",
     "output_type": "stream",
     "text": [
      "Step 3:\n",
      "training duration model...\n",
      "Architecture: x86_64\n",
      "Distribution: Ubuntu 18.04.5 LTS\n",
      "HOSTNAME=37a070d6fe91\n",
      "USER=\n",
      " \n",
      "PATH:\n",
      "    /opt/conda/bin\n",
      "    /usr/local/sbin\n",
      "    /usr/local/bin\n",
      "    /usr/sbin\n",
      "    /usr/bin\n",
      "    /sbin\n",
      "    /bin\n",
      "LD_LIBRARY_PATH:\n",
      "    /opt/conda/lib\n",
      "PYTHONPATH:\n",
      "    /kaggle/lib/kagglegym\n",
      "    /kaggle/lib\n",
      "PYTHONBIN: python\n",
      "MERLIN_THEANO_FLAGS:\n",
      "    cuda.root=/usr/local/8.0\n",
      "    floatX=float32\n",
      "    on_unused_input=ignore\n",
      " \n",
      "No GPU is available! Running on CPU...\n",
      "/opt/conda/lib/python3.7/site-packages/theano/configparser.py:255: UserWarning: Theano does not recognise this flag: cuda.root\n",
      "  warnings.warn(f\"Theano does not recognise this flag: {key}\")\n",
      "Traceback (most recent call last):\n",
      "  File \"/kaggle/working/merlin/src/run_merlin.py\", line 74, in <module>\n",
      "    from models.deep_rnn import DeepRecurrentNetwork\n",
      "  File \"/kaggle/working/merlin/src/models/deep_rnn.py\", line 9, in <module>\n",
      "    from theano.tensor.shared_randomstreams import RandomStreams\n",
      "ModuleNotFoundError: No module named 'theano.tensor.shared_randomstreams'\n"
     ]
    }
   ],
   "source": [
    "!./03_train_duration_model.sh conf/duration_slt_arctic_full.conf"
   ]
  }
 ],
 "metadata": {
  "kernelspec": {
   "display_name": "Python 3",
   "language": "python",
   "name": "python3"
  },
  "language_info": {
   "codemirror_mode": {
    "name": "ipython",
    "version": 3
   },
   "file_extension": ".py",
   "mimetype": "text/x-python",
   "name": "python",
   "nbconvert_exporter": "python",
   "pygments_lexer": "ipython3",
   "version": "3.8.2"
  }
 },
 "nbformat": 4,
 "nbformat_minor": 4
}
