{
 "cells": [
  {
   "cell_type": "markdown",
   "metadata": {},
   "source": [
    "# Textgrid durations\n",
    "\n",
    "> \"Get max/min segment durations from textgrids\"\n",
    "\n",
    "- branch: master\n",
    "- comments: false\n",
    "- categories: [textgrid, hsi]"
   ]
  },
  {
   "cell_type": "code",
   "execution_count": 7,
   "metadata": {},
   "outputs": [],
   "source": [
    "from praatio import textgrid"
   ]
  },
  {
   "cell_type": "code",
   "execution_count": 2,
   "metadata": {
    "tags": [
     "parameters"
    ]
   },
   "outputs": [],
   "source": [
    "input = \"/Users/joregan/Desktop/\""
   ]
  },
  {
   "cell_type": "code",
   "execution_count": 8,
   "metadata": {},
   "outputs": [],
   "source": [
    "from pathlib import Path\n",
    "\n",
    "input_path = Path(input)\n",
    "IS_DIR = False\n",
    "if input_path.is_dir():\n",
    "    IS_DIR = True\n",
    "assert input_path.exists()"
   ]
  },
  {
   "cell_type": "code",
   "execution_count": 29,
   "metadata": {},
   "outputs": [],
   "source": [
    "import re\n",
    "\n",
    "def get_durations(filename):\n",
    "    tg = textgrid.openTextgrid(filename, includeEmptyIntervals=False)\n",
    "\n",
    "    if len(tg.tierNames) == 1:\n",
    "        tier = tg.getTier(tg.tierNames[0])\n",
    "    elif \"whisperx\" in tg.tierNames:\n",
    "        tier = tg.getTier(\"whisperx\")\n",
    "    elif \"utterances\" in tg.tierNames:\n",
    "        tier = tg.getTier(\"utterances\")\n",
    "    elif \"words\" in tg.tierNames:\n",
    "        tier = tg.getTier(\"words\")\n",
    "    else:\n",
    "        print(\"Be careful: file\", filename, \"has none of the expected tier names\")\n",
    "\n",
    "    longest_utt = 0.0\n",
    "    longest_sil = 0.0\n",
    "    shortest_utt = 100.0\n",
    "    shortest_sil = 100.0\n",
    "\n",
    "    def silence_like(text):\n",
    "        text = text.strip()\n",
    "\n",
    "        if text == \"\":\n",
    "            return True\n",
    "        if text in [\"sp\", \"sil\", \"<eps>\"]:\n",
    "            return True\n",
    "        m = re.match(\"^\\[[^]]+\\]$\", text)\n",
    "        if m:\n",
    "            return True\n",
    "        return False        \n",
    "\n",
    "    silences = []\n",
    "    utterances = []\n",
    "\n",
    "    for interval in tier.entries:\n",
    "        start = interval[0]\n",
    "        end = interval[1]\n",
    "        text = interval[2]\n",
    "        duration = end - start\n",
    "\n",
    "        text = text.strip()\n",
    "        if silence_like(text):\n",
    "            silences.append(duration)\n",
    "            if duration > longest_sil:\n",
    "                longest_sil = duration\n",
    "            if duration < shortest_sil:\n",
    "                shortest_sil = duration\n",
    "        else:\n",
    "            utterances.append(duration)\n",
    "            if duration > longest_utt:\n",
    "                longest_utt = duration\n",
    "            if duration < shortest_utt:\n",
    "                shortest_utt = duration\n",
    "    \n",
    "    return {\n",
    "        \"longest_utt\": longest_utt,\n",
    "        \"longest_sil\": longest_sil,\n",
    "        \"shortest_utt\": shortest_utt,\n",
    "        \"shortest_sil\": shortest_sil,\n",
    "        \"utterances\": utterances,\n",
    "        \"silences\": silences\n",
    "    }\n",
    "            "
   ]
  },
  {
   "cell_type": "code",
   "execution_count": 36,
   "metadata": {},
   "outputs": [
    {
     "name": "stdout",
     "output_type": "stream",
     "text": [
      "Longest utterance: 27.59\n",
      "Shortest utterance: 0.20\n",
      "Longest silence: 2.04\n",
      "Shortest silence: 0.13\n",
      "Average utterance: 2.54\n",
      "Average silence: 0.64\n"
     ]
    }
   ],
   "source": [
    "import statistics\n",
    "\n",
    "longest_utt = 0.0\n",
    "longest_sil = 0.0\n",
    "shortest_utt = 100.0\n",
    "shortest_sil = 100.0\n",
    "\n",
    "silences = []\n",
    "utterances = []\n",
    "\n",
    "if IS_DIR:\n",
    "    for filename in input_path.glob(\"*.[Tt]ext[Gg]rid\"):\n",
    "        res = get_durations(str(filename))\n",
    "        silences += res[\"silences\"]\n",
    "        utterances += res[\"utterances\"]\n",
    "        longest_utt = max(longest_utt, res[\"longest_utt\"])\n",
    "        longest_sil = max(longest_sil, res[\"longest_sil\"])\n",
    "        shortest_utt = min(shortest_utt, res[\"shortest_utt\"])\n",
    "        shortest_sil = min(shortest_sil, res[\"shortest_sil\"])\n",
    "else:\n",
    "    res = get_durations(str(input_path))\n",
    "    silences = res[\"silences\"]\n",
    "    utterances = res[\"utterances\"]\n",
    "    longest_utt = res[\"longest_utt\"]\n",
    "    longest_sil = res[\"longest_sil\"]\n",
    "    shortest_utt = res[\"shortest_utt\"]\n",
    "    shortest_sil = res[\"shortest_sil\"]\n",
    "\n",
    "print(f\"Longest utterance: {longest_utt:.02f}\")\n",
    "print(f\"Shortest utterance: {shortest_utt:.02f}\")\n",
    "print(f\"Longest silence: {longest_sil:.02f}\")\n",
    "print(f\"Shortest silence: {shortest_sil:.02f}\")\n",
    "\n",
    "print(f\"Average utterance: {statistics.fmean(utterances):.02f}\")\n",
    "print(f\"Average silence: {statistics.fmean(silences):.02f}\")"
   ]
  }
 ],
 "metadata": {
  "kernelspec": {
   "display_name": "hf",
   "language": "python",
   "name": "python3"
  },
  "language_info": {
   "codemirror_mode": {
    "name": "ipython",
    "version": 3
   },
   "file_extension": ".py",
   "mimetype": "text/x-python",
   "name": "python",
   "nbconvert_exporter": "python",
   "pygments_lexer": "ipython3",
   "version": "3.9.15"
  }
 },
 "nbformat": 4,
 "nbformat_minor": 2
}
