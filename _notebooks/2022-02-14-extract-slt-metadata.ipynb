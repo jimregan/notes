{
 "cells": [
  {
   "cell_type": "markdown",
   "metadata": {},
   "source": [
    "# Extract SLT metadata\n",
    "\n",
    "> \"The data has been updated, so this is obsolete\"\n",
    "\n",
    "- toc: false\n",
    "- branch: master\n",
    "- badges: false\n",
    "- comments: true\n",
    "- hidden: true\n",
    "- tags: [slt, asr, swedish]"
   ]
  },
  {
   "cell_type": "code",
   "execution_count": null,
   "metadata": {},
   "outputs": [],
   "source": [
    "!pip install ffmpeg-python"
   ]
  },
  {
   "cell_type": "code",
   "execution_count": 2,
   "metadata": {},
   "outputs": [],
   "source": [
    "_BASE = \"/Users/joregan/asr/slt/audio\""
   ]
  },
  {
   "cell_type": "code",
   "execution_count": 38,
   "metadata": {},
   "outputs": [],
   "source": [
    "import json\n",
    "from pathlib import Path"
   ]
  },
  {
   "cell_type": "code",
   "execution_count": 39,
   "metadata": {},
   "outputs": [],
   "source": [
    "slt = {}\n",
    "with open(\"/Users/joregan/asr/slt.json\") as slt_file:\n",
    "    for line in slt_file.readlines():\n",
    "        linedata = json.loads(line)\n",
    "        slt_id = Path(linedata[\"path\"]).stem\n",
    "        slt[slt_id] = linedata\n",
    "        "
   ]
  },
  {
   "cell_type": "code",
   "execution_count": 44,
   "metadata": {},
   "outputs": [],
   "source": [
    "from pathlib import Path\n",
    "base = Path(_BASE)\n",
    "for shn in base.glob(\"**/*.shn\"):\n",
    "    meta = {}\n",
    "    meta[\"id\"] = shn.stem\n",
    "    probe = ffmpeg.probe(shn)\n",
    "    if not \"format\" in probe and not \"tags\" in probe[\"format\"]:\n",
    "        continue\n",
    "    tags = probe[\"format\"][\"tags\"]\n",
    "    if \"Gender\" in tags:\n",
    "        meta[\"gender\"] = tags[\"Gender\"]\n",
    "    if \"UserID\" in tags:\n",
    "        meta[\"user_id\"] = tags[\"UserID\"]\n",
    "    if \"Dialect\" in tags:\n",
    "        meta[\"dialect\"] = tags[\"Dialect\"]\n",
    "    if \"recording_date\" in tags:\n",
    "        meta[\"recording_date\"] = tags[\"recording_date\"]\n",
    "    if \"recording_time\" in tags:\n",
    "        meta[\"recording_time\"] = tags[\"recording_time\"]\n",
    "    if meta[\"id\"] in slt:\n",
    "        slt[meta[\"id\"]].update(meta)\n",
    "    else:\n",
    "        slt[meta[\"id\"]] = meta"
   ]
  },
  {
   "cell_type": "code",
   "execution_count": 48,
   "metadata": {},
   "outputs": [],
   "source": [
    "with open(\"slt-meta.json\", \"w\") as slt_out:\n",
    "    for item in slt.keys():\n",
    "        slt_out.write(json.dumps(slt[item]) + \"\\n\")"
   ]
  }
 ],
 "metadata": {
  "interpreter": {
   "hash": "89fbc08dfd66a4d70b8c654d0739e683cbc7204a4800398b67c93488768e81ee"
  },
  "kernelspec": {
   "display_name": "Python 3.9.7 64-bit ('torchaudio': conda)",
   "language": "python",
   "name": "python3"
  },
  "language_info": {
   "codemirror_mode": {
    "name": "ipython",
    "version": 3
   },
   "file_extension": ".py",
   "mimetype": "text/x-python",
   "name": "python",
   "nbconvert_exporter": "python",
   "pygments_lexer": "ipython3",
   "version": "3.9.7"
  },
  "orig_nbformat": 4
 },
 "nbformat": 4,
 "nbformat_minor": 2
}
