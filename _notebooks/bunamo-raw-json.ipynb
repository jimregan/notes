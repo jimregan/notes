{
 "cells": [
  {
   "cell_type": "code",
   "execution_count": 1,
   "id": "specified-scratch",
   "metadata": {
    "_cell_guid": "b1076dfc-b9ad-4769-8c92-a6c4dae69d19",
    "_uuid": "8f2839f25d086af736a60e9eeb907d3b93b6e0e5",
    "execution": {
     "iopub.execute_input": "2021-04-24T20:05:38.166325Z",
     "iopub.status.busy": "2021-04-24T20:05:38.165433Z",
     "iopub.status.idle": "2021-04-24T20:05:38.226196Z",
     "shell.execute_reply": "2021-04-24T20:05:38.225349Z"
    },
    "papermill": {
     "duration": 0.081046,
     "end_time": "2021-04-24T20:05:38.226364",
     "exception": false,
     "start_time": "2021-04-24T20:05:38.145318",
     "status": "completed"
    },
    "tags": []
   },
   "outputs": [],
   "source": [
    "from lxml import etree"
   ]
  },
  {
   "cell_type": "code",
   "execution_count": 2,
   "id": "tribal-donna",
   "metadata": {
    "execution": {
     "iopub.execute_input": "2021-04-24T20:05:38.251013Z",
     "iopub.status.busy": "2021-04-24T20:05:38.250306Z",
     "iopub.status.idle": "2021-04-24T20:05:38.253732Z",
     "shell.execute_reply": "2021-04-24T20:05:38.253060Z"
    },
    "papermill": {
     "duration": 0.018176,
     "end_time": "2021-04-24T20:05:38.253873",
     "exception": false,
     "start_time": "2021-04-24T20:05:38.235697",
     "status": "completed"
    },
    "tags": []
   },
   "outputs": [],
   "source": [
    "class BuNaMoWrongDocument(Exception):\n",
    "    \"\"\"Exception raised for wrong document type\"\"\"\n",
    "\n",
    "    def __init__(self, expected, got):\n",
    "        self.expected = expected\n",
    "        self.got = got\n",
    "        self.message = f\"Expected root element <{self.expected}> but got <{self.got}>\"\n",
    "        super().__init__(self.message)"
   ]
  },
  {
   "cell_type": "markdown",
   "id": "boring-importance",
   "metadata": {
    "papermill": {
     "duration": 0.008901,
     "end_time": "2021-04-24T20:05:38.271839",
     "exception": false,
     "start_time": "2021-04-24T20:05:38.262938",
     "status": "completed"
    },
    "tags": []
   },
   "source": [
    "Various functions to read one of the types of XML file. The open parts of speech (noun, adjective, verb) can have multiple forms, so those functions return attributes (a dictionary) and forms (a list of dictionaries) separately.\n",
    "\n",
    "Close parts of speech (possessives and prepositions) are simpler, and most of the attributes are needless, so they return a simple dictionary containing the forms."
   ]
  },
  {
   "cell_type": "code",
   "execution_count": 3,
   "id": "unique-ghana",
   "metadata": {
    "execution": {
     "iopub.execute_input": "2021-04-24T20:05:38.320764Z",
     "iopub.status.busy": "2021-04-24T20:05:38.314601Z",
     "iopub.status.idle": "2021-04-24T20:05:38.327628Z",
     "shell.execute_reply": "2021-04-24T20:05:38.327082Z"
    },
    "papermill": {
     "duration": 0.04673,
     "end_time": "2021-04-24T20:05:38.327773",
     "exception": false,
     "start_time": "2021-04-24T20:05:38.281043",
     "status": "completed"
    },
    "tags": []
   },
   "outputs": [],
   "source": [
    "def read_adjective(file):\n",
    "    tree = etree.parse(file)\n",
    "    root = tree.getroot()\n",
    "    valid_tags = ['sgNom', 'sgGenMasc', 'sgGenFem', 'plNom', 'graded', 'abstractNoun', 'sgVocMasc', 'sgVocFem']\n",
    "    attribs = {}\n",
    "    forms = []\n",
    "    if root.tag != 'adjective':\n",
    "        raise BuNaMoWrongDocument('adjective', root.tag)\n",
    "    attribs['default'] = root.get('default')\n",
    "    attribs['declension'] = root.get('declension')\n",
    "    attribs['disambig'] = root.get('disambig')\n",
    "    attribs['isPre'] = root.get('isPre')\n",
    "    for child in root:\n",
    "        if child.tag not in valid_tags:\n",
    "            raise Exception('Unexpected tag ' + child.tag)\n",
    "        tmp = {}\n",
    "        tmp['props'] = child.tag\n",
    "        tmp['form'] = child.get('default')\n",
    "        forms.append(tmp)\n",
    "    return attribs, forms\n",
    "def read_noun(file):\n",
    "    tree = etree.parse(file)\n",
    "    root = tree.getroot()\n",
    "    valid_tags = ['sgNom', 'sgGen', 'plNom', 'plGen', 'count', 'sgDat']\n",
    "    attribs = {}\n",
    "    forms = []\n",
    "    if root.tag != 'noun':\n",
    "        raise BuNaMoWrongDocument('noun', root.tag)\n",
    "    attribs['default'] = root.get('default')\n",
    "    attribs['declension'] = root.get('declension')\n",
    "    attribs['disambig'] = root.get('disambig')\n",
    "    attribs['isProper'] = root.get('isProper')\n",
    "    attribs['isDefinite'] = root.get('isDefinite')\n",
    "    attribs['allowArticledGenitive'] = root.get('allowArticledGenitive')\n",
    "    for child in root:\n",
    "        if child.tag not in valid_tags:\n",
    "            raise Exception('Unexpected tag ' + child.tag)\n",
    "        tmp = {}\n",
    "        tmp['props'] = child.tag\n",
    "        tmp['form'] = child.get('default')\n",
    "        tmp['gender'] = child.get('gender')\n",
    "        tmp['strength'] = child.get('strength')\n",
    "        forms.append(tmp)\n",
    "    return attribs, forms\n",
    "def read_verb(file):\n",
    "    tree = etree.parse(file)\n",
    "    root = tree.getroot()\n",
    "    valid_tags = ['verbalNoun', 'verbalAdjective', 'tenseForm', 'moodForm']\n",
    "    attribs = {}\n",
    "    forms = []\n",
    "    if root.tag != 'verb':\n",
    "        raise BuNaMoWrongDocument('verb', root.tag)\n",
    "    attribs['default'] = root.get('default')\n",
    "    attribs['disambig'] = root.get('disambig')\n",
    "    for child in root:\n",
    "        if child.tag not in valid_tags:\n",
    "            raise Exception('Unexpected tag ' + child.tag)\n",
    "        tmp = {}\n",
    "        tmp['props'] = child.tag\n",
    "        tmp['form'] = child.get('default')\n",
    "        tmp['tense'] = child.get('tense')\n",
    "        tmp['mood'] = child.get('mood')\n",
    "        tmp['dependency'] = child.get('dependency')\n",
    "        tmp['person'] = child.get('person')\n",
    "        forms.append(tmp)\n",
    "    return attribs, forms\n",
    "def read_nounphrase(file):\n",
    "    tree = etree.parse(file)\n",
    "    root = tree.getroot()\n",
    "    valid_tags = ['sgNom', 'sgGen', 'plNom', 'plGen', 'sgNomArt', 'sgGenArt', 'plNomArt', 'plGenArt']\n",
    "    attribs = {}\n",
    "    forms = []\n",
    "    if root.tag != 'nounPhrase':\n",
    "        raise BuNaMoWrongDocument('nounPhrase', root.tag)\n",
    "    attribs['default'] = root.get('default')\n",
    "    attribs['declension'] = root.get('declension')\n",
    "    attribs['disambig'] = root.get('disambig')\n",
    "    attribs['isProper'] = root.get('isProper')\n",
    "    attribs['isDefinite'] = root.get('isDefinite')\n",
    "    attribs['allowArticledGenitive'] = root.get('allowArticledGenitive')\n",
    "    attribs['forceNominative'] = root.get('forceNominative')\n",
    "    for child in root:\n",
    "        if child.tag not in valid_tags:\n",
    "            raise Exception('Unexpected tag ' + child.tag)\n",
    "        tmp = {}\n",
    "        tmp['props'] = child.tag\n",
    "        tmp['form'] = child.get('default')\n",
    "        tmp['gender'] = child.get('gender')\n",
    "        tmp['strength'] = child.get('strength')\n",
    "        forms.append(tmp)\n",
    "    return attribs, forms\n",
    "def read_possessive(file):\n",
    "    tree = etree.parse(file)\n",
    "    root = tree.getroot()\n",
    "    valid_tags = ['full', 'apos']\n",
    "    attribs = {}\n",
    "    forms = []\n",
    "    if root.tag != 'possessive':\n",
    "        raise BuNaMoWrongDocument('possessive', root.tag)\n",
    "    attribs['default'] = root.get('default')\n",
    "    attribs['disambig'] = root.get('disambig')\n",
    "    attribs['mutation'] = root.get('mutation')\n",
    "    for child in root:\n",
    "        if child.tag not in valid_tags:\n",
    "            raise Exception('Unexpected tag ' + child.tag)\n",
    "        if child.tag == 'apos':\n",
    "            attribs['apos'] = child.get('default')\n",
    "    return attribs\n",
    "def read_preposition(file):\n",
    "    tree = etree.parse(file)\n",
    "    root = tree.getroot()\n",
    "    valid_tags = ['sg1', 'sg2', 'sg3Masc', 'sg3Fem', 'pl1', 'pl2', 'pl3']\n",
    "    attribs = {}\n",
    "    forms = []\n",
    "    if root.tag != 'preposition':\n",
    "        raise BuNaMoWrongDocument('preposition', root.tag)\n",
    "    attribs['default'] = root.get('default')\n",
    "    for child in root:\n",
    "        if child.tag not in valid_tags:\n",
    "            raise Exception('Unexpected tag ' + child.tag)\n",
    "        attribs[child.tag] = child.get('default')\n",
    "    return attribs\n"
   ]
  },
  {
   "cell_type": "code",
   "execution_count": 4,
   "id": "encouraging-bruce",
   "metadata": {
    "execution": {
     "iopub.execute_input": "2021-04-24T20:05:38.352425Z",
     "iopub.status.busy": "2021-04-24T20:05:38.351803Z",
     "iopub.status.idle": "2021-04-24T20:06:09.533482Z",
     "shell.execute_reply": "2021-04-24T20:06:09.532740Z"
    },
    "papermill": {
     "duration": 31.196793,
     "end_time": "2021-04-24T20:06:09.533664",
     "exception": false,
     "start_time": "2021-04-24T20:05:38.336871",
     "status": "completed"
    },
    "tags": []
   },
   "outputs": [],
   "source": [
    "import glob\n",
    "import json\n",
    "\n",
    "adjectives = {}\n",
    "for x in glob.glob('../input/bunamo-bunachar-naisiunta-moirfeolaiochta/adjective/*.xml'):\n",
    "    fname = x.split('/')[-1].replace('.xml', '')\n",
    "    attribs, forms = read_adjective(x)\n",
    "    tmp = {}\n",
    "    tmp['attributes'] = attribs\n",
    "    tmp['forms'] = forms\n",
    "    adjectives[fname] = tmp\n",
    "    word = attribs['default']\n",
    "with open('adjectives.json', 'w') as outfile:\n",
    "    json.dump(adjectives, outfile)"
   ]
  },
  {
   "cell_type": "code",
   "execution_count": 5,
   "id": "coral-crossing",
   "metadata": {
    "execution": {
     "iopub.execute_input": "2021-04-24T20:06:09.559043Z",
     "iopub.status.busy": "2021-04-24T20:06:09.558322Z",
     "iopub.status.idle": "2021-04-24T20:07:59.000731Z",
     "shell.execute_reply": "2021-04-24T20:07:59.000115Z"
    },
    "papermill": {
     "duration": 109.45799,
     "end_time": "2021-04-24T20:07:59.000915",
     "exception": false,
     "start_time": "2021-04-24T20:06:09.542925",
     "status": "completed"
    },
    "tags": []
   },
   "outputs": [],
   "source": [
    "nouns = {}\n",
    "for x in glob.glob('../input/bunamo-bunachar-naisiunta-moirfeolaiochta/noun/*.xml'):\n",
    "    fname = x.split('/')[-1].replace('.xml', '')\n",
    "    attribs, forms = read_noun(x)\n",
    "    tmp = {}\n",
    "    tmp['attributes'] = attribs\n",
    "    tmp['forms'] = forms\n",
    "    nouns[fname] = tmp\n",
    "    word = attribs['default']\n",
    "with open('nouns.json', 'w') as outfile:\n",
    "    json.dump(nouns, outfile)"
   ]
  },
  {
   "cell_type": "code",
   "execution_count": 6,
   "id": "complimentary-structure",
   "metadata": {
    "execution": {
     "iopub.execute_input": "2021-04-24T20:07:59.027310Z",
     "iopub.status.busy": "2021-04-24T20:07:59.026645Z",
     "iopub.status.idle": "2021-04-24T20:07:59.047610Z",
     "shell.execute_reply": "2021-04-24T20:07:59.046822Z"
    },
    "papermill": {
     "duration": 0.037087,
     "end_time": "2021-04-24T20:07:59.047775",
     "exception": false,
     "start_time": "2021-04-24T20:07:59.010688",
     "status": "completed"
    },
    "tags": []
   },
   "outputs": [],
   "source": [
    "nounphrases = {}\n",
    "for x in glob.glob('../input/bunamo-bunachar-naisiunta-moirfeolaiochta/nounPhrase/*.xml'):\n",
    "    fname = x.split('/')[-1].replace('.xml', '')\n",
    "    attribs, forms = read_nounphrase(x)\n",
    "    tmp = {}\n",
    "    tmp['attributes'] = attribs\n",
    "    tmp['forms'] = forms\n",
    "    nounphrases[fname] = tmp\n",
    "    word = attribs['default']\n",
    "with open('nounphrases.json', 'w') as outfile:\n",
    "    json.dump(nounphrases, outfile)"
   ]
  },
  {
   "cell_type": "code",
   "execution_count": 7,
   "id": "driven-brook",
   "metadata": {
    "execution": {
     "iopub.execute_input": "2021-04-24T20:07:59.073786Z",
     "iopub.status.busy": "2021-04-24T20:07:59.072950Z",
     "iopub.status.idle": "2021-04-24T20:08:15.385981Z",
     "shell.execute_reply": "2021-04-24T20:08:15.385412Z"
    },
    "papermill": {
     "duration": 16.328721,
     "end_time": "2021-04-24T20:08:15.386146",
     "exception": false,
     "start_time": "2021-04-24T20:07:59.057425",
     "status": "completed"
    },
    "tags": []
   },
   "outputs": [],
   "source": [
    "verbs = {}\n",
    "for x in glob.glob('../input/bunamo-bunachar-naisiunta-moirfeolaiochta/verb/*.xml'):\n",
    "    fname = x.split('/')[-1].replace('.xml', '')\n",
    "    attribs, forms = read_verb(x)\n",
    "    tmp = {}\n",
    "    tmp['attributes'] = attribs\n",
    "    tmp['forms'] = forms\n",
    "    verbs[fname] = tmp\n",
    "    word = attribs['default']\n",
    "with open('verbs.json', 'w') as outfile:\n",
    "    json.dump(verbs, outfile)"
   ]
  },
  {
   "cell_type": "code",
   "execution_count": 8,
   "id": "bored-career",
   "metadata": {
    "execution": {
     "iopub.execute_input": "2021-04-24T20:08:15.412342Z",
     "iopub.status.busy": "2021-04-24T20:08:15.411678Z",
     "iopub.status.idle": "2021-04-24T20:08:15.460150Z",
     "shell.execute_reply": "2021-04-24T20:08:15.459526Z"
    },
    "papermill": {
     "duration": 0.064447,
     "end_time": "2021-04-24T20:08:15.460289",
     "exception": false,
     "start_time": "2021-04-24T20:08:15.395842",
     "status": "completed"
    },
    "tags": []
   },
   "outputs": [],
   "source": [
    "preposition = {}\n",
    "for x in glob.glob('../input/bunamo-bunachar-naisiunta-moirfeolaiochta/preposition/*.xml'):\n",
    "    fname = x.split('/')[-1].replace('.xml', '')\n",
    "    attribs = read_preposition(x)\n",
    "    tmp = {}\n",
    "    tmp['attributes'] = attribs\n",
    "    preposition[fname] = tmp\n",
    "with open('prepositions.json', 'w') as outfile:\n",
    "    json.dump(preposition, outfile)"
   ]
  },
  {
   "cell_type": "code",
   "execution_count": 9,
   "id": "charming-canadian",
   "metadata": {
    "execution": {
     "iopub.execute_input": "2021-04-24T20:08:15.488159Z",
     "iopub.status.busy": "2021-04-24T20:08:15.487386Z",
     "iopub.status.idle": "2021-04-24T20:08:15.513848Z",
     "shell.execute_reply": "2021-04-24T20:08:15.513230Z"
    },
    "papermill": {
     "duration": 0.042784,
     "end_time": "2021-04-24T20:08:15.514013",
     "exception": false,
     "start_time": "2021-04-24T20:08:15.471229",
     "status": "completed"
    },
    "tags": []
   },
   "outputs": [],
   "source": [
    "possessive = {}\n",
    "for x in glob.glob('../input/bunamo-bunachar-naisiunta-moirfeolaiochta/possessive/*.xml'):\n",
    "    fname = x.split('/')[-1].replace('.xml', '')\n",
    "    attribs = read_possessive(x)\n",
    "    tmp = {}\n",
    "    tmp['attributes'] = attribs\n",
    "    possessive[fname] = tmp\n",
    "with open('possessives.json', 'w') as outfile:\n",
    "    json.dump(possessive, outfile)"
   ]
  },
  {
   "cell_type": "code",
   "execution_count": 10,
   "id": "bibliographic-canal",
   "metadata": {
    "execution": {
     "iopub.execute_input": "2021-04-24T20:08:15.542679Z",
     "iopub.status.busy": "2021-04-24T20:08:15.541991Z",
     "iopub.status.idle": "2021-04-24T20:08:15.546722Z",
     "shell.execute_reply": "2021-04-24T20:08:15.546096Z"
    },
    "papermill": {
     "duration": 0.022705,
     "end_time": "2021-04-24T20:08:15.546863",
     "exception": false,
     "start_time": "2021-04-24T20:08:15.524158",
     "status": "completed"
    },
    "tags": []
   },
   "outputs": [
    {
     "data": {
      "text/plain": [
       "{'ár_poss': {'attributes': {'default': 'ár',\n",
       "   'disambig': '',\n",
       "   'mutation': 'ecl1'}},\n",
       " 'a_poss_masc': {'attributes': {'default': 'a',\n",
       "   'disambig': 'masc',\n",
       "   'mutation': 'len1'}},\n",
       " 'a_poss_fem': {'attributes': {'default': 'a',\n",
       "   'disambig': 'fem',\n",
       "   'mutation': 'prefH'}},\n",
       " 'do_poss': {'attributes': {'default': 'do',\n",
       "   'disambig': '',\n",
       "   'mutation': 'len1',\n",
       "   'apos': \"d'\"}},\n",
       " 'a_poss_pl': {'attributes': {'default': 'a',\n",
       "   'disambig': 'pl',\n",
       "   'mutation': 'ecl1'}},\n",
       " 'mo_poss': {'attributes': {'default': 'mo',\n",
       "   'disambig': '',\n",
       "   'mutation': 'len1',\n",
       "   'apos': \"m'\"}},\n",
       " 'bhur_poss': {'attributes': {'default': 'bhur',\n",
       "   'disambig': '',\n",
       "   'mutation': 'ecl1'}}}"
      ]
     },
     "execution_count": 10,
     "metadata": {},
     "output_type": "execute_result"
    }
   ],
   "source": [
    "possessive"
   ]
  }
 ],
 "metadata": {
  "kernelspec": {
   "display_name": "Python 3",
   "language": "python",
   "name": "python3"
  },
  "language_info": {
   "codemirror_mode": {
    "name": "ipython",
    "version": 3
   },
   "file_extension": ".py",
   "mimetype": "text/x-python",
   "name": "python",
   "nbconvert_exporter": "python",
   "pygments_lexer": "ipython3",
   "version": "3.7.10"
  },
  "papermill": {
   "default_parameters": {},
   "duration": 167.952231,
   "end_time": "2021-04-24T20:08:17.222137",
   "environment_variables": {},
   "exception": null,
   "input_path": "__notebook__.ipynb",
   "output_path": "__notebook__.ipynb",
   "parameters": {},
   "start_time": "2021-04-24T20:05:29.269906",
   "version": "2.3.3"
  }
 },
 "nbformat": 4,
 "nbformat_minor": 5
}
