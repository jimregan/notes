{
 "cells": [
  {
   "cell_type": "code",
   "execution_count": 1,
   "id": "legislative-count",
   "metadata": {
    "execution": {
     "iopub.execute_input": "2021-05-25T21:24:49.409476Z",
     "iopub.status.busy": "2021-05-25T21:24:49.408798Z",
     "iopub.status.idle": "2021-05-25T21:25:33.028351Z",
     "shell.execute_reply": "2021-05-25T21:25:33.027654Z",
     "shell.execute_reply.started": "2021-05-25T11:50:13.947646Z"
    },
    "papermill": {
     "duration": 43.635355,
     "end_time": "2021-05-25T21:25:33.028512",
     "exception": false,
     "start_time": "2021-05-25T21:24:49.393157",
     "status": "completed"
    },
    "tags": []
   },
   "outputs": [],
   "source": [
    "import soundfile\n",
    "input = {\n",
    "    'train': '/kaggle/input/download-common-voice-swedish/cv-corpus-6.1-2020-12-11/sv-SE/train.tsv',\n",
    "    'test': '/kaggle/input/download-common-voice-swedish/cv-corpus-6.1-2020-12-11/sv-SE/test.tsv',\n",
    "    'valid': '/kaggle/input/download-common-voice-swedish/cv-corpus-6.1-2020-12-11/sv-SE/dev.tsv'\n",
    "}\n",
    "for split in input.keys():\n",
    "    with open(input[split], 'r') as tsv:\n",
    "        with open(f'/kaggle/working/{split}.tsv', 'w') as out:\n",
    "            for line in tsv.readlines():\n",
    "                data = line.split('\\t')\n",
    "                if data[1] == 'path':\n",
    "                    continue\n",
    "                file = data[1]\n",
    "                file = file.replace('.mp3', '.wav')\n",
    "                path = f'/kaggle/input/common-voice-swedish-16bit-wav/{file}'\n",
    "                frames = soundfile.info(path).frames\n",
    "                print(\"{}\\t{}\".format(path, frames), file=out)"
   ]
  }
 ],
 "metadata": {
  "kernelspec": {
   "display_name": "Python 3",
   "language": "python",
   "name": "python3"
  },
  "language_info": {
   "codemirror_mode": {
    "name": "ipython",
    "version": 3
   },
   "file_extension": ".py",
   "mimetype": "text/x-python",
   "name": "python",
   "nbconvert_exporter": "python",
   "pygments_lexer": "ipython3",
   "version": "3.7.10"
  },
  "papermill": {
   "default_parameters": {},
   "duration": 52.406315,
   "end_time": "2021-05-25T21:25:33.840249",
   "environment_variables": {},
   "exception": null,
   "input_path": "__notebook__.ipynb",
   "output_path": "__notebook__.ipynb",
   "parameters": {},
   "start_time": "2021-05-25T21:24:41.433934",
   "version": "2.3.3"
  }
 },
 "nbformat": 4,
 "nbformat_minor": 5
}
