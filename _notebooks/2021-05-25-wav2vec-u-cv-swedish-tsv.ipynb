{
 "cells": [
  {
   "cell_type": "code",
   "execution_count": null,
   "id": "pharmaceutical-approval",
   "metadata": {
    "execution": {
     "iopub.execute_input": "2021-05-25T11:50:13.947677Z",
     "iopub.status.busy": "2021-05-25T11:50:13.947315Z",
     "iopub.status.idle": "2021-05-25T11:51:15.260581Z",
     "shell.execute_reply": "2021-05-25T11:51:15.259232Z",
     "shell.execute_reply.started": "2021-05-25T11:50:13.947646Z"
    },
    "papermill": {
     "duration": null,
     "end_time": null,
     "exception": false,
     "start_time": "2021-05-25T21:24:02.014055",
     "status": "running"
    },
    "tags": []
   },
   "outputs": [],
   "source": [
    "import soundfile\n",
    "input = {\n",
    "    'train': '/kaggle/input/download-common-voice-swedish/cv-corpus-6.1-2020-12-11/sv-SE/train.tsv',\n",
    "    'test': '/kaggle/input/download-common-voice-swedish/cv-corpus-6.1-2020-12-11/sv-SE/test.tsv',\n",
    "    'valid': '/kaggle/input/download-common-voice-swedish/cv-corpus-6.1-2020-12-11/sv-SE/validated.tsv'\n",
    "}\n",
    "for split in input.keys():\n",
    "    with open(input[split], 'r') as tsv:\n",
    "        with open(f'/kaggle/working/{split}.tsv', 'w') as out:\n",
    "            for line in tsv.readlines():\n",
    "                data = line.split('\\t')\n",
    "                if data[1] == 'path':\n",
    "                    continue\n",
    "                file = data[1]\n",
    "                file = file.replace('.mp3', '.wav')\n",
    "                path = f'/kaggle/input/common-voice-swedish-16bit-wav/{file}'\n",
    "                frames = soundfile.info(path).frames\n",
    "                print(\"{}\\t{}\".format(path, frames), file=out)"
   ]
  }
 ],
 "metadata": {
  "kernelspec": {
   "display_name": "Python 3",
   "language": "python",
   "name": "python3"
  },
  "language_info": {
   "codemirror_mode": {
    "name": "ipython",
    "version": 3
   },
   "file_extension": ".py",
   "mimetype": "text/x-python",
   "name": "python",
   "nbconvert_exporter": "python",
   "pygments_lexer": "ipython3",
   "version": "3.6.4"
  },
  "papermill": {
   "default_parameters": {},
   "duration": null,
   "end_time": null,
   "environment_variables": {},
   "exception": null,
   "input_path": "__notebook__.ipynb",
   "output_path": "__notebook__.ipynb",
   "parameters": {},
   "start_time": "2021-05-25T21:23:54.289705",
   "version": "2.3.3"
  }
 },
 "nbformat": 4,
 "nbformat_minor": 5
}