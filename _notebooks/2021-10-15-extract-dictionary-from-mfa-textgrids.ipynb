{
 "cells": [
  {
   "cell_type": "markdown",
   "metadata": {},
   "source": [
    "# Extract a dictionary from MFA-aligned TextGrids\n",
    "\n",
    "> \"Need to re-align, don't have the dictionary\"\n",
    "\n",
    "- toc: false\n",
    "- branch: master\n",
    "- comments: true\n",
    "- categories: [textgrid, mfa]"
   ]
  },
  {
   "cell_type": "code",
   "execution_count": 1,
   "metadata": {},
   "outputs": [],
   "source": [
    "%%capture\n",
    "!pip install praatio"
   ]
  },
  {
   "cell_type": "code",
   "execution_count": 39,
   "metadata": {},
   "outputs": [],
   "source": [
    "def irish_lc(word):\n",
    "    if word[0:1] in \"nt\" and word[1:2] in \"AEIOUÁÉÍÓÚ\":\n",
    "        return word[0:1] + \"-\" + word[1:].lower()\n",
    "    else:\n",
    "        return word.lower()"
   ]
  },
  {
   "cell_type": "code",
   "execution_count": 40,
   "metadata": {},
   "outputs": [],
   "source": [
    "assert irish_lc(\"nAthair\") == \"n-athair\"\n",
    "assert irish_lc(\"nDeas\") == \"ndeas\""
   ]
  },
  {
   "cell_type": "code",
   "execution_count": 28,
   "metadata": {},
   "outputs": [],
   "source": [
    "def get_combined_words_and_phones(filename):\n",
    "    from praatio import textgrid\n",
    "\n",
    "    tg = textgrid.openTextgrid(filename, False)\n",
    "    if not tg.tierNameList or tg.tierNameList != ['Word', 'phones']:\n",
    "        return []\n",
    "    \n",
    "    word = tg.tierDict['Word']\n",
    "    phones = tg.tierDict['phones']\n",
    "    \n",
    "    i = 0\n",
    "    j = 0\n",
    "    out = []\n",
    "\n",
    "    def it_to_dict(it):\n",
    "        ret = {}\n",
    "        ret['start'] = it.start\n",
    "        ret['end'] = it.end\n",
    "        ret['label'] = it.label\n",
    "        return ret\n",
    "\n",
    "    while i < len(word.entryList) and j < len(phones.entryList):\n",
    "        cur_word = it_to_dict(word.entryList[i])\n",
    "        cur_word['phones'] = []\n",
    "        while j < len(phones.entryList) and phones.entryList[j].end <= cur_word['end']:\n",
    "            end_time = phones.entryList[j].end\n",
    "            tmp_phone = it_to_dict(phones.entryList[j])\n",
    "            cur_word['phones'].append(tmp_phone)\n",
    "            j += 1\n",
    "            if end_time == cur_word['end']:\n",
    "                i += 1\n",
    "                out.append(cur_word)\n",
    "                continue\n",
    "    return out"
   ]
  },
  {
   "cell_type": "code",
   "execution_count": 42,
   "metadata": {},
   "outputs": [],
   "source": [
    "def get_wordlist_from_combined(items, wordnorm=None):\n",
    "    tmp = []\n",
    "    for item in items:\n",
    "        word = item['label']\n",
    "        if wordnorm is None:\n",
    "            word = word.lower()\n",
    "        else:\n",
    "            word = wordnorm(word)\n",
    "        phones = \" \".join([a['label'] for a in item['phones']])\n",
    "        if phones == \"sil\":\n",
    "            continue\n",
    "        tmp.append((word, phones))\n",
    "    return tmp"
   ]
  },
  {
   "cell_type": "code",
   "execution_count": 43,
   "metadata": {},
   "outputs": [],
   "source": [
    "from pathlib import Path\n",
    "wd = Path(\"/home/jim/Playing/snc_ga_co/FastSpeech2/preprocessed_data/TextGrid/snc_ga_co/\")\n",
    "tg_data = {}\n",
    "for tg in wd.glob(\"*.TextGrid\"):\n",
    "    tg_data[tg.stem] = get_wordlist_from_combined(get_combined_words_and_phones(tg), wordnorm=irish_lc)"
   ]
  },
  {
   "cell_type": "code",
   "execution_count": 44,
   "metadata": {},
   "outputs": [],
   "source": [
    "dictionary = set()\n",
    "for (tg_name, tg_words) in tg_data.items():\n",
    "    dictionary.update(set(tg_words))"
   ]
  },
  {
   "cell_type": "code",
   "execution_count": 48,
   "metadata": {},
   "outputs": [],
   "source": [
    "joined = [\" \".join(a) for a in dictionary]"
   ]
  },
  {
   "cell_type": "code",
   "execution_count": 50,
   "metadata": {},
   "outputs": [],
   "source": [
    "with open(\"snc.dict\", \"w\") as outf:\n",
    "    for word in sorted(joined):\n",
    "        outf.write(word + \"\\n\")"
   ]
  }
 ],
 "metadata": {
  "kernelspec": {
   "display_name": "Python 3",
   "language": "python",
   "name": "python3"
  },
  "language_info": {
   "codemirror_mode": {
    "name": "ipython",
    "version": 3
   },
   "file_extension": ".py",
   "mimetype": "text/x-python",
   "name": "python",
   "nbconvert_exporter": "python",
   "pygments_lexer": "ipython3",
   "version": "3.6.9"
  }
 },
 "nbformat": 4,
 "nbformat_minor": 2
}
