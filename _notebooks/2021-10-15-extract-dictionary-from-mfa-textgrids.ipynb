{
 "cells": [
  {
   "cell_type": "markdown",
   "metadata": {},
   "source": [
    "# Extract a dictionary from MFA-aligned TextGrids\n",
    "\n",
    "> \"Need to re-align, don't have the dictionary\"\n",
    "\n",
    "- toc: false\n",
    "- branch: master\n",
    "- comments: true\n",
    "- categories: [textgrid, mfa]"
   ]
  },
  {
   "cell_type": "code",
   "execution_count": 1,
   "metadata": {},
   "outputs": [],
   "source": [
    "%%capture\n",
    "!pip install praatio"
   ]
  },
  {
   "cell_type": "code",
   "execution_count": 2,
   "metadata": {},
   "outputs": [],
   "source": [
    "from praatio import textgrid"
   ]
  },
  {
   "cell_type": "code",
   "execution_count": 3,
   "metadata": {},
   "outputs": [],
   "source": [
    "def get_combined_words_and_phones(filename):\n",
    "    tg = textgrid.openTextgrid(filename, False)\n",
    "    if not tg.tierNameList or tg.tierNameList != ['Word', 'phones']:\n",
    "        return []\n",
    "    \n",
    "    word = tg.tierDict['Word']\n",
    "    phones = tg.tierDict['phones']\n",
    "    \n",
    "    i = 0\n",
    "    j = 0\n",
    "    out = []\n",
    "\n",
    "    def it_to_dict(it):\n",
    "        ret = {}\n",
    "        ret['start'] = it.start\n",
    "        ret['end'] = it.end\n",
    "        ret['label'] = it.label\n",
    "        return ret\n",
    "\n",
    "    while i < len(word.entryList) and j < len(phones.entryList):\n",
    "        cur_word = it_to_dict(word.entryList[i])\n",
    "        cur_word['phones'] = []\n",
    "        while j < len(phones.entryList) and phones.entryList[j].end <= cur_word['end']:\n",
    "            end_time = phones.entryList[j].end\n",
    "            tmp_phone = it_to_dict(phones.entryList[j])\n",
    "            cur_word['phones'].append(tmp_phone)\n",
    "            j += 1\n",
    "            if end_time == cur_word['end']:\n",
    "                i += 1\n",
    "                out.append(cur_word)\n",
    "                continue\n",
    "    return out"
   ]
  },
  {
   "cell_type": "code",
   "execution_count": 4,
   "metadata": {},
   "outputs": [],
   "source": [
    "def get_wordlist_from_combined(items):\n",
    "    tmp = []\n",
    "    for item in items:\n",
    "        word = item['label']\n",
    "        phones = \" \".join([a['label'] for a in item['phones']])\n",
    "        if phones == \"sil\":\n",
    "            continue\n",
    "        tmp.append((word, phones))\n",
    "    return tmp"
   ]
  }
 ],
 "metadata": {
  "kernelspec": {
   "display_name": "Python 3",
   "language": "python",
   "name": "python3"
  },
  "language_info": {
   "codemirror_mode": {
    "name": "ipython",
    "version": 3
   },
   "file_extension": ".py",
   "mimetype": "text/x-python",
   "name": "python",
   "nbconvert_exporter": "python",
   "pygments_lexer": "ipython3",
   "version": "3.6.9"
  }
 },
 "nbformat": 4,
 "nbformat_minor": 2
}
