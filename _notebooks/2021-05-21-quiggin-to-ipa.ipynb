{
 "cells": [
  {
   "cell_type": "code",
   "execution_count": null,
   "id": "ee1c1825",
   "metadata": {},
   "outputs": [],
   "source": [
    "# \"Quiggin to IPA\"\n",
    "\n",
    "> \"Converting Quiggin's proto-IPA to more modern conventions\"\n",
    "\n",
    "- toc: false\n",
    "- branch: master\n",
    "- hidden: true\n",
    "- categories: [irish, quiggin, icu, ipa, phonetic]"
   ]
  },
  {
   "cell_type": "code",
   "execution_count": 1,
   "id": "b2579095",
   "metadata": {},
   "outputs": [],
   "source": [
    "import icu\n",
    "def transliterator_from_rules(name, rules):\n",
    "    fromrules = icu.Transliterator.createFromRules(name, rules)\n",
    "    icu.Transliterator.registerInstance(fromrules)\n",
    "    return icu.Transliterator.createInstance(name)"
   ]
  },
  {
   "cell_type": "code",
   "execution_count": 22,
   "id": "a4e0cd3c",
   "metadata": {},
   "outputs": [],
   "source": [
    "quiggin_to_wikipedia = \"\"\"\n",
    "b′ → bʲ;\n",
    "b → bˠ;\n",
    "k′ → c;\n",
    "k → k;\n",
    "ç → ç;\n",
    "d′ → dʲ;\n",
    "d → d̪ˠ;\n",
    "e\\: → eː;\n",
    "ɛ → ɛ;\n",
    "e → ɛ;\n",
    "ə → ə;\n",
    "αi → əi;\n",
    "αu → əu;\n",
    "α\\: → aː;\n",
    "α̃\\: → aː;\n",
    "æ → a;\n",
    "α → a;\n",
    "f′ → fʲ;\n",
    "f → fˠ;\n",
    "ɡ′ → ɟ;\n",
    "g′ → ɟ;\n",
    "ɡ → ɡ;\n",
    "g → ɡ;\n",
    "ℊ → ɣ;\n",
    "h → h;\n",
    "i\\: → iː;\n",
    "iə → iə;\n",
    "ï → ɪ;\n",
    "ĩ → ɪ;\n",
    "i → ɪ;\n",
    "y → ɪ;\n",
    "j → j;\n",
    "L′ → l̠ʲ;\n",
    "l′ → lʲ;\n",
    "L → l̪ˠ;\n",
    "l → lˠ;\n",
    "m′ → mʲ;\n",
    "m → mˠ;\n",
    "n′ → nʲ;\n",
    "n → nˠ;\n",
    "N′ → n̠ʲ;\n",
    "N → n̪ˠ;\n",
    "ɲ → ɲ;\n",
    "ŋ → ŋ;\n",
    "o\\: → oː;\n",
    "ɔ\\: → oː;\n",
    "ɔ → ɔ;\n",
    "o̤ → ɔ;\n",
    "p′ → pʲ;\n",
    "p → pˠ;\n",
    "r′ → ɾʲ;\n",
    "r → ɾˠ;\n",
    "R → ɾˠ;\n",
    "s → sˠ;\n",
    "ʃ → ʃ;\n",
    "t′ → tʲ;\n",
    "t → t̪ˠ;\n",
    "u\\: → uː;\n",
    "uə → uə;\n",
    "Ũ → ʊ;\n",
    "U → ʊ;\n",
    "v → vʲ;\n",
    "w̥` → w;\n",
    "w̥ → w;\n",
    "w → w;\n",
    "χ → x;\n",
    "\"\"\""
   ]
  },
  {
   "cell_type": "code",
   "execution_count": 23,
   "id": "5f05e9d2",
   "metadata": {},
   "outputs": [],
   "source": [
    "quiggin = transliterator_from_rules('quiggin', quiggin_to_wikipedia)"
   ]
  },
  {
   "cell_type": "code",
   "execution_count": 8,
   "id": "2cd2dc44",
   "metadata": {},
   "outputs": [
    {
     "data": {
      "text/plain": [
       "'ə tʲasˠpˠəlˠ'"
      ]
     },
     "execution_count": 8,
     "metadata": {},
     "output_type": "execute_result"
    }
   ],
   "source": [
    "quiggin.transliterate(\"ə t′αspəl\")"
   ]
  },
  {
   "cell_type": "code",
   "execution_count": 9,
   "id": "7555965c",
   "metadata": {},
   "outputs": [],
   "source": [
    "sample = \"\"\"\n",
    "ʃαnɔklə.\n",
    "\n",
    " 1. l′eʃ ə Nïl′ə wαduw α χrα̃:v.\n",
    "\n",
    " 2. b′i: ə çiəL hein′ ɛg′ ə Nïl′ə ℊyn′ə αgəs k′iəL ər L′eç ɛg′ ə N′αr vir′ə.\n",
    "\n",
    " 3. N′i: wi:r′ ə mαduw ruə t′αχt′ir′ə N′i: b′α:r Nα ɛ hein′.\n",
    "\n",
    " 4. mαrəguw Nə bα:ʃt′i:, L′ig′ dŨw̥`, L′ik′ə m′ə did′.\n",
    "\n",
    " 5. əs Nα̃:wid′ ə çïrd′ gən ə f′jɔ:l′əm′.\n",
    "\n",
    " 6. ʃi:l′i: N′ t′ɛəN dUw̥ gər b′e: ɛən hein′ ə t′ɛən əs bα:n′ə er′ b′iç.\n",
    "\n",
    " 7. ʃk′ɛəl ə iN′ʃə də χαpəL sə kαpəL ər to:n′ ə Nα:rd′ə.\n",
    "\n",
    " 8. N′i:r′ vĩʃt′ə də f′αdər pɔ:l.\n",
    "\n",
    " 9. tu:s k′αhə k′ɔ:.\n",
    " \"\"\""
   ]
  },
  {
   "cell_type": "code",
   "execution_count": 24,
   "id": "d25ce849",
   "metadata": {},
   "outputs": [
    {
     "name": "stdout",
     "output_type": "stream",
     "text": [
      "\n",
      "ʃanˠɔklˠə.\n",
      "\n",
      " 1. lʲɛʃ ə n̪ˠɪlʲə wad̪ˠuw a xɾˠaːvʲ.\n",
      "\n",
      " 2. bʲiː ə çiəl̪ˠ hɛɪnʲ ɛɟ ə n̪ˠɪlʲə ɣɪnʲə aɡəsˠ ciəl̪ˠ əɾˠ l̠ʲɛç ɛɟ ə n̠ʲaɾˠ vʲɪɾʲə.\n",
      "\n",
      " 3. n̠ʲiː wiːɾʲ ə mˠad̪ˠuw ɾˠuə tʲaxtʲɪɾʲə n̠ʲiː bʲaːɾˠ n̪ˠa ɛ hɛɪnʲ.\n",
      "\n",
      " 4. mˠaɾˠəɡuw n̪ˠə bˠaːʃtʲiː, l̠ʲɪɟ d̪ˠʊw̥`, l̠ʲɪcə mʲə d̪ˠɪdʲ.\n",
      "\n",
      " 5. əsˠ n̪ˠaːwɪdʲ ə çɪɾˠdʲ ɡənˠ ə fʲjoːlʲəmʲ.\n",
      "\n",
      " 6. ʃiːlʲiː n̠ʲ tʲɛən̪ˠ d̪ˠʊw̥ ɡəɾˠ bʲeː ɛənˠ hɛɪnʲ ə tʲɛənˠ əsˠ bˠaːnʲə ɛɾʲ bʲɪç.\n",
      "\n",
      " 7. ʃcɛəlˠ ə ɪn̠ʲʃə d̪ˠə xapˠəl̪ˠ sˠə kapˠəl̪ˠ əɾˠ t̪ˠoːnʲ ə n̪ˠaːɾˠdʲə.\n",
      "\n",
      " 8. n̠ʲiːɾʲ vʲĩʃtʲə d̪ˠə fʲad̪ˠəɾˠ pˠoːlˠ.\n",
      "\n",
      " 9. t̪ˠuːsˠ cahə coː.\n",
      " \n"
     ]
    }
   ],
   "source": [
    "print(quiggin.transliterate(sample))"
   ]
  }
 ],
 "metadata": {
  "kernelspec": {
   "display_name": "Python 3",
   "language": "python",
   "name": "python3"
  },
  "language_info": {
   "codemirror_mode": {
    "name": "ipython",
    "version": 3
   },
   "file_extension": ".py",
   "mimetype": "text/x-python",
   "name": "python",
   "nbconvert_exporter": "python",
   "pygments_lexer": "ipython3",
   "version": "3.8.2"
  }
 },
 "nbformat": 4,
 "nbformat_minor": 5
}
