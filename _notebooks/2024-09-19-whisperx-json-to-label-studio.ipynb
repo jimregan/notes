{
 "cells": [
  {
   "cell_type": "markdown",
   "metadata": {},
   "source": [
    "# WhisperX JSON to Label Studio\n",
    "\n",
    "> \"Via the API\"\n",
    "\n",
    "- branch: master\n",
    "- comments: false\n",
    "- categories: [labelstudio, json, whisperx, hsi]"
   ]
  },
  {
   "cell_type": "code",
   "execution_count": 1,
   "metadata": {
    "tags": [
     "parameters"
    ]
   },
   "outputs": [],
   "source": [
    "input_dir = \"/Users/joregan/Playing/hsi/audio/whisperx-json/\"\n",
    "output_dir = \"/tmp/label-studio\"\n",
    "model_version = \"whisperx-large-v2\"\n",
    "data_path = \"/data/local-files/?d=hsi/\""
   ]
  },
  {
   "cell_type": "code",
   "execution_count": 2,
   "metadata": {},
   "outputs": [],
   "source": [
    "from pathlib import Path\n",
    "\n",
    "input_path = Path(input_dir)\n",
    "output_path = Path(output_dir)"
   ]
  },
  {
   "cell_type": "code",
   "execution_count": 3,
   "metadata": {},
   "outputs": [],
   "source": [
    "import json\n",
    "import uuid\n",
    "\n",
    "def convert_json(filename):\n",
    "    with open(filename) as inf:\n",
    "        data = json.load(inf)\n",
    "\n",
    "    outputs = []\n",
    "    for segment in data[\"segments\"]:\n",
    "        start = segment[\"start\"]\n",
    "        end = segment[\"end\"]\n",
    "        text = segment[\"text\"]\n",
    "        scores = [w[\"score\"] for w in segment[\"words\"] if \"score\" in w]\n",
    "        if len(segment[\"words\"]) == 0:\n",
    "            score = 0.0\n",
    "        else:\n",
    "            score = sum(scores) / len(segment[\"words\"])\n",
    "        gen_id = str(uuid.uuid4())[:6]\n",
    "        segment = {\n",
    "            \"model_version\": model_version,\n",
    "            \"score\": score,\n",
    "            \"result\": {\n",
    "                \"start\": start,\n",
    "                \"end\": end,\n",
    "                \"channel\": 0,\n",
    "                \"labels\": [\"Speech\"]\n",
    "            },\n",
    "            \"from_name\": \"labels\",\n",
    "            \"to_name\": \"audio\",\n",
    "            \"type\": \"labels\",\n",
    "            \"id\": gen_id\n",
    "        }\n",
    "        rec = {\n",
    "            \"model_version\": model_version,\n",
    "            \"score\": score,\n",
    "            \"result\": {\n",
    "                \"start\": start,\n",
    "                \"end\": end,\n",
    "                \"channel\": 0,\n",
    "                \"text\": [text.strip()]\n",
    "            },\n",
    "            \"from_name\": \"transcription\",\n",
    "            \"to_name\": \"audio\",\n",
    "            \"type\": \"textarea\",\n",
    "            \"id\": gen_id\n",
    "        }\n",
    "        outputs.append(segment)\n",
    "        outputs.append(rec)\n",
    "\n",
    "    return outputs"
   ]
  },
  {
   "cell_type": "code",
   "execution_count": 4,
   "metadata": {},
   "outputs": [],
   "source": [
    "if not output_path.is_dir():\n",
    "    output_path.mkdir()\n",
    "\n",
    "for jsonfile in input_path.glob(\"*.json\"):\n",
    "    annots = convert_json(str(jsonfile))\n",
    "    filename = data_path + jsonfile.stem + \".wav\"\n",
    "    output = {}\n",
    "    output[\"data\"] = {\n",
    "        \"audio\": filename\n",
    "    }\n",
    "    output[\"predictions\"] = annots\n",
    "    out_json = output_path / f\"{jsonfile.name}\"\n",
    "    with open(out_json, \"w\") as outf:\n",
    "        json.dump(output, outf)"
   ]
  }
 ],
 "metadata": {
  "kernelspec": {
   "display_name": "nst-tts",
   "language": "python",
   "name": "python3"
  },
  "language_info": {
   "codemirror_mode": {
    "name": "ipython",
    "version": 3
   },
   "file_extension": ".py",
   "mimetype": "text/x-python",
   "name": "python",
   "nbconvert_exporter": "python",
   "pygments_lexer": "ipython3",
   "version": "3.10.9"
  }
 },
 "nbformat": 4,
 "nbformat_minor": 2
}
