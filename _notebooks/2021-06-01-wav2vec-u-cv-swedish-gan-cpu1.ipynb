{
  "nbformat": 4,
  "nbformat_minor": 5,
  "metadata": {
    "kernelspec": {
      "display_name": "Python 3",
      "language": "python",
      "name": "python3"
    },
    "language_info": {
      "codemirror_mode": {
        "name": "ipython",
        "version": 3
      },
      "file_extension": ".py",
      "mimetype": "text/x-python",
      "name": "python",
      "nbconvert_exporter": "python",
      "pygments_lexer": "ipython3",
      "version": "3.6.4"
    },
    "papermill": {
      "default_parameters": {},
      "duration": null,
      "end_time": null,
      "environment_variables": {},
      "exception": null,
      "input_path": "__notebook__.ipynb",
      "output_path": "__notebook__.ipynb",
      "parameters": {},
      "start_time": "2021-06-01T09:58:53.351400",
      "version": "2.3.3"
    },
    "colab": {
      "name": "2021-06-01-wav2vec-u-cv-swedish-gan-cpu1.ipynb",
      "provenance": []
    }
  },
  "cells": [
    {
      "cell_type": "markdown",
      "metadata": {
        "id": "YAG_IuuhhGc7"
      },
      "source": [
        "# wav2vec-u Common Voice Swedish - GAN training, CPU1\n",
        "\n",
        "> \"Kaggle kernels run for maximum 9 hours, this is the first link in the chain\"\n",
        "\n",
        "- toc: false\n",
        "- branch: master\n",
        "- badges: false\n",
        "- hidden: true\n",
        "- categories: [kaggle, wav2vec-u]\n"
      ],
      "id": "YAG_IuuhhGc7"
    },
    {
      "cell_type": "markdown",
      "metadata": {
        "id": "lx1vt__ZhXUn"
      },
      "source": [
        "Original [here](https://www.kaggle.com/jimregan/wav2vec-u-cv-swedish-gan-cpu1)"
      ],
      "id": "lx1vt__ZhXUn"
    },
    {
      "cell_type": "markdown",
      "metadata": {
        "papermill": {
          "duration": 0.015141,
          "end_time": "2021-06-01T09:59:01.479900",
          "exception": false,
          "start_time": "2021-06-01T09:59:01.464759",
          "status": "completed"
        },
        "tags": [],
        "id": "little-ceramic"
      },
      "source": [
        "## Preparation"
      ],
      "id": "little-ceramic"
    },
    {
      "cell_type": "code",
      "metadata": {
        "_cell_guid": "b1076dfc-b9ad-4769-8c92-a6c4dae69d19",
        "_uuid": "8f2839f25d086af736a60e9eeb907d3b93b6e0e5",
        "execution": {
          "iopub.execute_input": "2021-06-01T09:59:01.513341Z",
          "iopub.status.busy": "2021-06-01T09:59:01.511610Z",
          "iopub.status.idle": "2021-06-01T10:03:06.964776Z",
          "shell.execute_reply": "2021-06-01T10:03:06.965335Z",
          "shell.execute_reply.started": "2021-05-31T11:43:46.770364Z"
        },
        "papermill": {
          "duration": 245.472115,
          "end_time": "2021-06-01T10:03:06.965831",
          "exception": false,
          "start_time": "2021-06-01T09:59:01.493716",
          "status": "completed"
        },
        "tags": [],
        "id": "precious-infrared"
      },
      "source": [
        "%%capture\n",
        "!conda install -c pykaldi pykaldi -y"
      ],
      "id": "precious-infrared",
      "execution_count": null,
      "outputs": []
    },
    {
      "cell_type": "code",
      "metadata": {
        "execution": {
          "iopub.execute_input": "2021-06-01T10:03:07.004599Z",
          "iopub.status.busy": "2021-06-01T10:03:07.003529Z",
          "iopub.status.idle": "2021-06-01T10:03:07.011811Z",
          "shell.execute_reply": "2021-06-01T10:03:07.011209Z",
          "shell.execute_reply.started": "2021-05-31T13:58:07.987793Z"
        },
        "papermill": {
          "duration": 0.027985,
          "end_time": "2021-06-01T10:03:07.011957",
          "exception": false,
          "start_time": "2021-06-01T10:03:06.983972",
          "status": "completed"
        },
        "tags": [],
        "id": "short-tennis",
        "outputId": "c50cafb6-83e0-4534-f15b-f20876062cb5"
      },
      "source": [
        "%cd /tmp"
      ],
      "id": "short-tennis",
      "execution_count": null,
      "outputs": [
        {
          "output_type": "stream",
          "text": [
            "/tmp\n"
          ],
          "name": "stdout"
        }
      ]
    },
    {
      "cell_type": "code",
      "metadata": {
        "execution": {
          "iopub.execute_input": "2021-06-01T10:03:07.052478Z",
          "iopub.status.busy": "2021-06-01T10:03:07.051566Z",
          "iopub.status.idle": "2021-06-01T10:03:12.886475Z",
          "shell.execute_reply": "2021-06-01T10:03:12.885855Z",
          "shell.execute_reply.started": "2021-05-31T11:47:48.174342Z"
        },
        "papermill": {
          "duration": 5.853471,
          "end_time": "2021-06-01T10:03:12.886647",
          "exception": false,
          "start_time": "2021-06-01T10:03:07.033176",
          "status": "completed"
        },
        "tags": [],
        "id": "creative-limit"
      },
      "source": [
        "!git clone https://github.com/jimregan/fairseq/ --branch issue3581"
      ],
      "id": "creative-limit",
      "execution_count": null,
      "outputs": []
    },
    {
      "cell_type": "code",
      "metadata": {
        "execution": {
          "iopub.execute_input": "2021-06-01T10:03:12.942263Z",
          "iopub.status.busy": "2021-06-01T10:03:12.941493Z",
          "iopub.status.idle": "2021-06-01T10:03:14.990058Z",
          "shell.execute_reply": "2021-06-01T10:03:14.989385Z",
          "shell.execute_reply.started": "2021-05-31T13:58:08.002832Z"
        },
        "papermill": {
          "duration": 2.082153,
          "end_time": "2021-06-01T10:03:14.990195",
          "exception": false,
          "start_time": "2021-06-01T10:03:12.908042",
          "status": "completed"
        },
        "tags": [],
        "id": "other-serbia"
      },
      "source": [
        "!git clone https://github.com/kpu/kenlm"
      ],
      "id": "other-serbia",
      "execution_count": null,
      "outputs": []
    },
    {
      "cell_type": "code",
      "metadata": {
        "execution": {
          "iopub.execute_input": "2021-06-01T10:03:15.053928Z",
          "iopub.status.busy": "2021-06-01T10:03:15.050315Z",
          "iopub.status.idle": "2021-06-01T10:03:21.237525Z",
          "shell.execute_reply": "2021-06-01T10:03:21.236858Z",
          "shell.execute_reply.started": "2021-05-31T13:58:12.001162Z"
        },
        "papermill": {
          "duration": 6.221478,
          "end_time": "2021-06-01T10:03:21.237686",
          "exception": false,
          "start_time": "2021-06-01T10:03:15.016208",
          "status": "completed"
        },
        "tags": [],
        "id": "significant-homework"
      },
      "source": [
        "%%capture\n",
        "!apt-get -y install libeigen3-dev liblzma-dev zlib1g-dev libbz2-dev"
      ],
      "id": "significant-homework",
      "execution_count": null,
      "outputs": []
    },
    {
      "cell_type": "code",
      "metadata": {
        "execution": {
          "iopub.execute_input": "2021-06-01T10:04:33.957520Z",
          "iopub.status.busy": "2021-06-01T10:04:33.956878Z",
          "iopub.status.idle": "2021-06-01T10:05:12.820841Z",
          "shell.execute_reply": "2021-06-01T10:05:12.820237Z",
          "shell.execute_reply.started": "2021-05-31T14:00:27.915818Z"
        },
        "papermill": {
          "duration": 38.897111,
          "end_time": "2021-06-01T10:05:12.820997",
          "exception": false,
          "start_time": "2021-06-01T10:04:33.923886",
          "status": "completed"
        },
        "tags": [],
        "id": "increasing-football"
      },
      "source": [
        "%%capture\n",
        "%cd /tmp/kenlm\n",
        "!python setup.py install\n",
        "%cd /tmp"
      ],
      "id": "increasing-football",
      "execution_count": null,
      "outputs": []
    },
    {
      "cell_type": "code",
      "metadata": {
        "execution": {
          "iopub.execute_input": "2021-06-01T10:05:12.879121Z",
          "iopub.status.busy": "2021-06-01T10:05:12.878039Z",
          "iopub.status.idle": "2021-06-01T10:05:12.880334Z",
          "shell.execute_reply": "2021-06-01T10:05:12.880871Z",
          "shell.execute_reply.started": "2021-05-25T22:58:58.397816Z"
        },
        "papermill": {
          "duration": 0.033878,
          "end_time": "2021-06-01T10:05:12.881043",
          "exception": false,
          "start_time": "2021-06-01T10:05:12.847165",
          "status": "completed"
        },
        "tags": [],
        "id": "supreme-mayor"
      },
      "source": [
        "import os\n",
        "os.environ['PATH'] = f\"{os.environ['PATH']}:/tmp/kenlm/build/bin/\"\n",
        "os.environ['FAIRSEQ_ROOT'] = '/tmp/fairseq'"
      ],
      "id": "supreme-mayor",
      "execution_count": null,
      "outputs": []
    },
    {
      "cell_type": "code",
      "metadata": {
        "execution": {
          "iopub.execute_input": "2021-06-01T10:05:12.937863Z",
          "iopub.status.busy": "2021-06-01T10:05:12.936878Z",
          "iopub.status.idle": "2021-06-01T10:05:12.943339Z",
          "shell.execute_reply": "2021-06-01T10:05:12.944080Z",
          "shell.execute_reply.started": "2021-05-31T11:51:49.832574Z"
        },
        "papermill": {
          "duration": 0.036632,
          "end_time": "2021-06-01T10:05:12.944303",
          "exception": false,
          "start_time": "2021-06-01T10:05:12.907671",
          "status": "completed"
        },
        "tags": [],
        "id": "fleet-wrestling",
        "outputId": "2bff3b49-10a0-4b4c-b281-9330ee263492"
      },
      "source": [
        "%cd /tmp/fairseq/"
      ],
      "id": "fleet-wrestling",
      "execution_count": null,
      "outputs": [
        {
          "output_type": "stream",
          "text": [
            "/tmp/fairseq\n"
          ],
          "name": "stdout"
        }
      ]
    },
    {
      "cell_type": "code",
      "metadata": {
        "execution": {
          "iopub.execute_input": "2021-06-01T10:05:13.008589Z",
          "iopub.status.busy": "2021-06-01T10:05:13.004964Z",
          "iopub.status.idle": "2021-06-01T10:06:32.274614Z",
          "shell.execute_reply": "2021-06-01T10:06:32.275420Z"
        },
        "papermill": {
          "duration": 79.303924,
          "end_time": "2021-06-01T10:06:32.275938",
          "exception": false,
          "start_time": "2021-06-01T10:05:12.972014",
          "status": "completed"
        },
        "tags": [],
        "id": "selected-baseball"
      },
      "source": [
        "%%capture\n",
        "!python setup.py install"
      ],
      "id": "selected-baseball",
      "execution_count": null,
      "outputs": []
    },
    {
      "cell_type": "code",
      "metadata": {
        "execution": {
          "iopub.execute_input": "2021-06-01T10:06:32.342215Z",
          "iopub.status.busy": "2021-06-01T10:06:32.341431Z",
          "iopub.status.idle": "2021-06-01T10:06:32.345259Z",
          "shell.execute_reply": "2021-06-01T10:06:32.345765Z"
        },
        "papermill": {
          "duration": 0.040542,
          "end_time": "2021-06-01T10:06:32.345935",
          "exception": false,
          "start_time": "2021-06-01T10:06:32.305393",
          "status": "completed"
        },
        "tags": [],
        "id": "statutory-triumph",
        "outputId": "caf81806-0596-4f00-ef8f-e7d7d982a18c"
      },
      "source": [
        "%cd /tmp/fairseq/"
      ],
      "id": "statutory-triumph",
      "execution_count": null,
      "outputs": [
        {
          "output_type": "stream",
          "text": [
            "/tmp/fairseq\n"
          ],
          "name": "stdout"
        }
      ]
    },
    {
      "cell_type": "code",
      "metadata": {
        "execution": {
          "iopub.execute_input": "2021-06-01T10:06:32.405681Z",
          "iopub.status.busy": "2021-06-01T10:06:32.405022Z",
          "iopub.status.idle": "2021-06-01T10:06:32.407860Z",
          "shell.execute_reply": "2021-06-01T10:06:32.408289Z"
        },
        "papermill": {
          "duration": 0.035489,
          "end_time": "2021-06-01T10:06:32.408459",
          "exception": false,
          "start_time": "2021-06-01T10:06:32.372970",
          "status": "completed"
        },
        "tags": [],
        "id": "paperback-vehicle"
      },
      "source": [
        "os.environ['HYDRA_FULL_ERROR'] = '1'"
      ],
      "id": "paperback-vehicle",
      "execution_count": null,
      "outputs": []
    },
    {
      "cell_type": "code",
      "metadata": {
        "execution": {
          "iopub.execute_input": "2021-06-01T10:06:32.473907Z",
          "iopub.status.busy": "2021-06-01T10:06:32.468828Z",
          "iopub.status.idle": "2021-06-01T10:06:41.171092Z",
          "shell.execute_reply": "2021-06-01T10:06:41.171588Z"
        },
        "papermill": {
          "duration": 8.7361,
          "end_time": "2021-06-01T10:06:41.171787",
          "exception": false,
          "start_time": "2021-06-01T10:06:32.435687",
          "status": "completed"
        },
        "tags": [],
        "id": "sealed-glasgow"
      },
      "source": [
        "%%capture\n",
        "!pip install editdistance"
      ],
      "id": "sealed-glasgow",
      "execution_count": null,
      "outputs": []
    },
    {
      "cell_type": "markdown",
      "metadata": {
        "papermill": {
          "duration": 0.026857,
          "end_time": "2021-06-01T10:06:41.226163",
          "exception": false,
          "start_time": "2021-06-01T10:06:41.199306",
          "status": "completed"
        },
        "tags": [],
        "id": "driven-blood"
      },
      "source": [
        "## GAN"
      ],
      "id": "driven-blood"
    },
    {
      "cell_type": "code",
      "metadata": {
        "execution": {
          "iopub.execute_input": "2021-06-01T10:06:41.289181Z",
          "iopub.status.busy": "2021-06-01T10:06:41.288450Z",
          "iopub.status.idle": "2021-06-01T10:06:41.291931Z",
          "shell.execute_reply": "2021-06-01T10:06:41.292359Z"
        },
        "papermill": {
          "duration": 0.038857,
          "end_time": "2021-06-01T10:06:41.292524",
          "exception": false,
          "start_time": "2021-06-01T10:06:41.253667",
          "status": "completed"
        },
        "tags": [],
        "id": "martial-separate",
        "outputId": "210f98cf-fd82-4348-80a2-38479bbb81a2"
      },
      "source": [
        "%%writefile rungan.sh\n",
        "PREFIX=w2v_unsup_gan_xp\n",
        "TASK_DATA=/kaggle/input/wav2vec-u-cv-swedish-audio/precompute_pca512_cls128_mean_pooled/\n",
        "TEXT_DATA=/kaggle/input/wav2vec-u-cv-swedish-text-prep/preppedtext/phones/\n",
        "KENLM_PATH=/kaggle/input/wav2vec-u-cv-swedish-text-prep/preppedtext/phones/lm.phones.filtered.04.bin\n",
        "\n",
        "PREFIX=$PREFIX fairseq-hydra-train \\\n",
        "\t-m --config-dir fairseq/config/model/wav2vecu/gan \\\n",
        "\t--config-name w2vu \\\n",
        "\ttask.data=${TASK_DATA} \\\n",
        "\ttask.text_data=${TEXT_DATA} \\\n",
        "\ttask.kenlm_path=${KENLM_PATH} \\\n",
        "\tcheckpoint.no_epoch_checkpoints=false \\\n",
        "\tcheckpoint.keep_last_epochs=20 \\\n",
        "\tcheckpoint.save_dir=/kaggle/working \\\n",
        "\t'common.seed=range(0,5)'"
      ],
      "id": "martial-separate",
      "execution_count": null,
      "outputs": [
        {
          "output_type": "stream",
          "text": [
            "Writing rungan.sh\n"
          ],
          "name": "stdout"
        }
      ]
    },
    {
      "cell_type": "code",
      "metadata": {
        "execution": {
          "iopub.execute_input": "2021-06-01T10:06:41.356944Z",
          "iopub.status.busy": "2021-06-01T10:06:41.352217Z"
        },
        "papermill": {
          "duration": null,
          "end_time": null,
          "exception": false,
          "start_time": "2021-06-01T10:06:41.320212",
          "status": "running"
        },
        "tags": [],
        "id": "psychological-pharmaceutical"
      },
      "source": [
        "!bash rungan.sh"
      ],
      "id": "psychological-pharmaceutical",
      "execution_count": null,
      "outputs": []
    }
  ]
}
