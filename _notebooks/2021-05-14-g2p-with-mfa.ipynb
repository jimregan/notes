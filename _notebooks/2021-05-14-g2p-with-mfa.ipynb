{
 "cells": [
  {
   "cell_type": "markdown",
   "id": "2185bb37",
   "metadata": {},
   "source": [
    "# G2P with MFA\n",
    "\n",
    "> Grapheme-to-phoneme conversion with Montreal Forced Aligner (on Kaggle)\n",
    "\n",
    "- toc: false\n",
    "- branch: master\n",
    "- comments: true\n",
    "- categories: [kaggle, g2p, mfa]"
   ]
  },
  {
   "cell_type": "code",
   "execution_count": 1,
   "id": "excited-region",
   "metadata": {
    "_cell_guid": "b1076dfc-b9ad-4769-8c92-a6c4dae69d19",
    "_uuid": "8f2839f25d086af736a60e9eeb907d3b93b6e0e5",
    "execution": {
     "iopub.execute_input": "2021-05-14T21:50:04.955262Z",
     "iopub.status.busy": "2021-05-14T21:50:04.954073Z",
     "iopub.status.idle": "2021-05-14T21:50:16.342851Z",
     "shell.execute_reply": "2021-05-14T21:50:16.342184Z"
    },
    "papermill": {
     "duration": 11.404354,
     "end_time": "2021-05-14T21:50:16.343046",
     "exception": false,
     "start_time": "2021-05-14T21:50:04.938692",
     "status": "completed"
    },
    "tags": []
   },
   "outputs": [],
   "source": [
    "%%capture\n",
    "import os\n",
    "os.chdir('/tmp')\n",
    "!wget https://github.com/MontrealCorpusTools/Montreal-Forced-Aligner/releases/download/v1.0.1/montreal-forced-aligner_linux.tar.gz\n",
    "!tar zxvf montreal-forced-aligner_linux.tar.gz\n",
    "!ln -s /tmp/montreal-forced-aligner/lib/libpython3.6m.so.1.0 /tmp/montreal-forced-aligner/lib/libpython3.6m.so\n"
   ]
  },
  {
   "cell_type": "code",
   "execution_count": 2,
   "id": "formed-governor",
   "metadata": {
    "execution": {
     "iopub.execute_input": "2021-05-14T21:50:16.368759Z",
     "iopub.status.busy": "2021-05-14T21:50:16.367807Z",
     "iopub.status.idle": "2021-05-14T21:50:16.370704Z",
     "shell.execute_reply": "2021-05-14T21:50:16.370154Z"
    },
    "papermill": {
     "duration": 0.017709,
     "end_time": "2021-05-14T21:50:16.370833",
     "exception": false,
     "start_time": "2021-05-14T21:50:16.353124",
     "status": "completed"
    },
    "tags": []
   },
   "outputs": [],
   "source": [
    "os.chdir('/kaggle/working')\n",
    "os.environ['LD_LIBRARY_PATH'] = f'{os.environ[\"LD_LIBRARY_PATH\"]}:/tmp/montreal-forced-aligner/lib/'\n",
    "os.environ['PATH'] = f'{os.environ[\"PATH\"]}:/tmp/montreal-forced-aligner/bin/'"
   ]
  },
  {
   "cell_type": "code",
   "execution_count": 3,
   "id": "distant-anime",
   "metadata": {
    "execution": {
     "iopub.execute_input": "2021-05-14T21:50:16.401524Z",
     "iopub.status.busy": "2021-05-14T21:50:16.396734Z",
     "iopub.status.idle": "2021-05-14T21:50:21.684296Z",
     "shell.execute_reply": "2021-05-14T21:50:21.684821Z"
    },
    "papermill": {
     "duration": 5.304287,
     "end_time": "2021-05-14T21:50:21.685017",
     "exception": false,
     "start_time": "2021-05-14T21:50:16.380730",
     "status": "completed"
    },
    "tags": []
   },
   "outputs": [],
   "source": [
    "%%capture\n",
    "!apt-get -y install libgfortran3"
   ]
  },
  {
   "cell_type": "code",
   "execution_count": 4,
   "id": "correct-retailer",
   "metadata": {
    "execution": {
     "iopub.execute_input": "2021-05-14T21:50:21.714639Z",
     "iopub.status.busy": "2021-05-14T21:50:21.713439Z",
     "iopub.status.idle": "2021-05-14T21:50:22.432404Z",
     "shell.execute_reply": "2021-05-14T21:50:22.431717Z"
    },
    "papermill": {
     "duration": 0.737223,
     "end_time": "2021-05-14T21:50:22.432544",
     "exception": false,
     "start_time": "2021-05-14T21:50:21.695321",
     "status": "completed"
    },
    "tags": []
   },
   "outputs": [],
   "source": [
    "!mkdir /tmp/example"
   ]
  },
  {
   "cell_type": "markdown",
   "id": "starting-drill",
   "metadata": {
    "papermill": {
     "duration": 0.009739,
     "end_time": "2021-05-14T21:50:22.452319",
     "exception": false,
     "start_time": "2021-05-14T21:50:22.442580",
     "status": "completed"
    },
    "tags": []
   },
   "source": [
    "The example below is from section 488 (p. 239) of [_Gaeilge Chorca Dhuibhne_](https://shop.dias.ie/product/gaeilge-chorca-dhuibhne/) by Diarmuid Ó Sé.\n",
    "\n",
    "The provided transcription is:\n",
    "əs kiːn′ l′əm nə ˈheːn′ɪ v′eh ə bɪn′t′ vuːn er′"
   ]
  },
  {
   "cell_type": "code",
   "execution_count": 5,
   "id": "breeding-wiring",
   "metadata": {
    "execution": {
     "iopub.execute_input": "2021-05-14T21:50:22.478071Z",
     "iopub.status.busy": "2021-05-14T21:50:22.477397Z",
     "iopub.status.idle": "2021-05-14T21:50:22.482595Z",
     "shell.execute_reply": "2021-05-14T21:50:22.482093Z"
    },
    "papermill": {
     "duration": 0.020497,
     "end_time": "2021-05-14T21:50:22.482724",
     "exception": false,
     "start_time": "2021-05-14T21:50:22.462227",
     "status": "completed"
    },
    "tags": []
   },
   "outputs": [
    {
     "name": "stdout",
     "output_type": "stream",
     "text": [
      "Writing /tmp/example/test1.lab\n"
     ]
    }
   ],
   "source": [
    "%%writefile /tmp/example/test1.lab\n",
    "is cuimhin liom na haoinne a bheith ag baint mhóna air"
   ]
  },
  {
   "cell_type": "markdown",
   "id": "strong-breeding",
   "metadata": {
    "papermill": {
     "duration": 0.011383,
     "end_time": "2021-05-14T21:50:22.505140",
     "exception": false,
     "start_time": "2021-05-14T21:50:22.493757",
     "status": "completed"
    },
    "tags": []
   },
   "source": [
    "Ibid, Section 488, p. 238\n",
    "\n",
    "xuːərˈdiːs ˈgax ɑːt′"
   ]
  },
  {
   "cell_type": "code",
   "execution_count": 6,
   "id": "public-aquatic",
   "metadata": {
    "execution": {
     "iopub.execute_input": "2021-05-14T21:50:22.532246Z",
     "iopub.status.busy": "2021-05-14T21:50:22.531255Z",
     "iopub.status.idle": "2021-05-14T21:50:22.536294Z",
     "shell.execute_reply": "2021-05-14T21:50:22.535762Z"
    },
    "papermill": {
     "duration": 0.020718,
     "end_time": "2021-05-14T21:50:22.536442",
     "exception": false,
     "start_time": "2021-05-14T21:50:22.515724",
     "status": "completed"
    },
    "tags": []
   },
   "outputs": [
    {
     "name": "stdout",
     "output_type": "stream",
     "text": [
      "Writing /tmp/example/test2.lab\n"
     ]
    }
   ],
   "source": [
    "%%writefile /tmp/example/test2.lab\n",
    "chuardaíos gach áit"
   ]
  },
  {
   "cell_type": "markdown",
   "id": "separated-gender",
   "metadata": {
    "papermill": {
     "duration": 0.010582,
     "end_time": "2021-05-14T21:50:22.558692",
     "exception": false,
     "start_time": "2021-05-14T21:50:22.548110",
     "status": "completed"
    },
    "tags": []
   },
   "source": [
    "MFA insists on having `.wav` files, which it reads, even though it makes no use of them for G2P"
   ]
  },
  {
   "cell_type": "code",
   "execution_count": 7,
   "id": "unlimited-legislature",
   "metadata": {
    "execution": {
     "iopub.execute_input": "2021-05-14T21:50:22.590456Z",
     "iopub.status.busy": "2021-05-14T21:50:22.589626Z",
     "iopub.status.idle": "2021-05-14T21:50:27.094141Z",
     "shell.execute_reply": "2021-05-14T21:50:27.093456Z"
    },
    "papermill": {
     "duration": 4.524729,
     "end_time": "2021-05-14T21:50:27.094294",
     "exception": false,
     "start_time": "2021-05-14T21:50:22.569565",
     "status": "completed"
    },
    "tags": []
   },
   "outputs": [],
   "source": [
    "%%capture\n",
    "!apt-get -y install sox"
   ]
  },
  {
   "cell_type": "code",
   "execution_count": 8,
   "id": "signed-outside",
   "metadata": {
    "execution": {
     "iopub.execute_input": "2021-05-14T21:50:27.127902Z",
     "iopub.status.busy": "2021-05-14T21:50:27.127256Z",
     "iopub.status.idle": "2021-05-14T21:50:28.616035Z",
     "shell.execute_reply": "2021-05-14T21:50:28.615283Z"
    },
    "papermill": {
     "duration": 1.510633,
     "end_time": "2021-05-14T21:50:28.616185",
     "exception": false,
     "start_time": "2021-05-14T21:50:27.105552",
     "status": "completed"
    },
    "tags": []
   },
   "outputs": [],
   "source": [
    "!sox -n -r 16000 -b 16 -c 1 -L /tmp/example/test1.wav trim 0.0 6.000\n",
    "!sox -n -r 16000 -b 16 -c 1 -L /tmp/example/test2.wav trim 0.0 6.000"
   ]
  },
  {
   "cell_type": "code",
   "execution_count": 9,
   "id": "clear-guidance",
   "metadata": {
    "execution": {
     "iopub.execute_input": "2021-05-14T21:50:28.649281Z",
     "iopub.status.busy": "2021-05-14T21:50:28.648385Z",
     "iopub.status.idle": "2021-05-14T21:50:29.657101Z",
     "shell.execute_reply": "2021-05-14T21:50:29.656404Z"
    },
    "papermill": {
     "duration": 1.029405,
     "end_time": "2021-05-14T21:50:29.657249",
     "exception": false,
     "start_time": "2021-05-14T21:50:28.627844",
     "status": "completed"
    },
    "tags": []
   },
   "outputs": [
    {
     "name": "stdout",
     "output_type": "stream",
     "text": [
      "Setting up corpus information...\r\n"
     ]
    }
   ],
   "source": [
    "!mfa_generate_dictionary ../input/train-irish-mfa-model-fuaimeanna/g2p-munster.zip /tmp/example/ output"
   ]
  },
  {
   "cell_type": "code",
   "execution_count": 10,
   "id": "early-brown",
   "metadata": {
    "execution": {
     "iopub.execute_input": "2021-05-14T21:50:29.689779Z",
     "iopub.status.busy": "2021-05-14T21:50:29.685641Z",
     "iopub.status.idle": "2021-05-14T21:50:30.405987Z",
     "shell.execute_reply": "2021-05-14T21:50:30.406495Z"
    },
    "papermill": {
     "duration": 0.737575,
     "end_time": "2021-05-14T21:50:30.406678",
     "exception": false,
     "start_time": "2021-05-14T21:50:29.669103",
     "status": "completed"
    },
    "tags": []
   },
   "outputs": [
    {
     "name": "stdout",
     "output_type": "stream",
     "text": [
      "cuimhin\tk ɪ vˠ nʲ\r\n",
      "áit\tɑː tʲ\r\n",
      "a\tə\r\n",
      "mhóna\tvˠ oː n̪ˠ ə\r\n",
      "bheith\tvʲ ɛ\r\n",
      "baint\tbˠ ɪ nʲ tʲ\r\n",
      "air\ta ɾʲ\r\n",
      "is\tɪ ʃ\r\n",
      "na\tn̪ˠ ə\r\n",
      "gach\tɡ ə x\r\n",
      "chuardaíos\tx uə ɾˠ d̪ˠ iː ʌ sˠ\r\n",
      "ag\ta ɡ\r\n",
      "liom\tlʲ ʌ mˠ\r\n",
      "haoinne\tɪ nʲ ɛ\r\n"
     ]
    }
   ],
   "source": [
    "!cat output"
   ]
  },
  {
   "cell_type": "markdown",
   "id": "sustainable-atlanta",
   "metadata": {
    "papermill": {
     "duration": 0.011795,
     "end_time": "2021-05-14T21:50:30.430883",
     "exception": false,
     "start_time": "2021-05-14T21:50:30.419088",
     "status": "completed"
    },
    "tags": []
   },
   "source": [
    "| Word | Pronunciation | Alt. Transcript | Generated | Correct? | In context? | Rule/Reason |\n",
    "| -- | -- | -- | -- | -- | -- | -- |\n",
    "| is | əs | əsˠ (~ ɪʃ) | ɪ ʃ | ✔️ | ❌ | Exception: `ios` **but** correct before a slender consonant |\n",
    "| cuimhin | kiːn′ | kiːnʲ | k ɪ vˠ nʲ | ❌ | ❌ | Missing grapheme: `uimhi` |\n",
    "| liom | l′əm | lʲəmˠ (~ lʲʌmˠ) | lʲ ʌ mˠ | ✔️ | ✔️ | (See, e.g., section 291: l′um) |\n",
    "| na | nə | n̪ˠə | n̪ˠ ə | ✔️ | ✔️ | |\n",
    "| haoinne | ˈheːn′ɪ | heːnʲɪ | ɪ nʲ ɛ | ❌ | ❌ | |\n",
    "| a | ə | | ə | ✔️ | ✔️ | |\n",
    "| bheith | v′eh | vʲɛ(h) | vʲ ɛ | ✔️ | ❌ | Section 9: h  → ∅ / `_` # -V |\n",
    "| ag | ə | ə (~ ɪɟ) | a ɡ | ❌ | ❌ | ɪg′, section 60|\n",
    "| baint | bɪn′t′ | bˠɪnʲtʲ | bˠ ɪ nʲ tʲ | ✔️ | ✔️ | |\n",
    "| mhóna | vuːn | vˠuːn̪ˠ(ə) | vˠ oː n̪ˠ ə | ✔️ | ❌ | ó → oː ~ uː / `_` [+nasal], ə  → ∅ / `_` # |\n",
    "| air | er′ | eɾʲ | a ɾʲ | ❌ | ❌ | Exception: `eir` |\n",
    "| chuardaíos | xuːərˈdiːs | xuəɾˠd̪ˠiːsˠ | x uə ɾˠ d̪ˠ iː ʌ sˠ | ❌ | ❌ | Missing grapheme `aío`\n",
    "| gach | ˈgax | ɡax (~ ɡəx) | ɡ ə x | ✔️ | ✔️ | See section 810 |\n",
    "| áit | ɑːt′ | ɑːtʲ | ɑː tʲ | ✔️ | ✔️ | |\n",
    "\n"
   ]
  }
 ],
 "metadata": {
  "kernelspec": {
   "display_name": "Python 3",
   "language": "python",
   "name": "python3"
  },
  "language_info": {
   "codemirror_mode": {
    "name": "ipython",
    "version": 3
   },
   "file_extension": ".py",
   "mimetype": "text/x-python",
   "name": "python",
   "nbconvert_exporter": "python",
   "pygments_lexer": "ipython3",
   "version": "3.8.2"
  },
  "papermill": {
   "default_parameters": {},
   "duration": 34.747809,
   "end_time": "2021-05-14T21:50:31.153295",
   "environment_variables": {},
   "exception": null,
   "input_path": "__notebook__.ipynb",
   "output_path": "__notebook__.ipynb",
   "parameters": {},
   "start_time": "2021-05-14T21:49:56.405486",
   "version": "2.3.3"
  }
 },
 "nbformat": 4,
 "nbformat_minor": 5
}
