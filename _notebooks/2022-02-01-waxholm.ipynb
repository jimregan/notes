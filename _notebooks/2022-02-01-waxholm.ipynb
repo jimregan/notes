{
 "cells": [
  {
   "cell_type": "markdown",
   "metadata": {},
   "source": [
    "# Read Waxholm corpus\n",
    "\n",
    "> \"Read Waxholm corpus transcripts\"\n",
    "\n",
    "- toc: false\n",
    "- branch: master\n",
    "- badges: false\n",
    "- categories: [waxholm]"
   ]
  },
  {
   "cell_type": "code",
   "execution_count": 6,
   "metadata": {},
   "outputs": [],
   "source": [
    "def fix_text(text):\n",
    "    return text.replace(\"{\", \"ä\").replace(\"}\", \"å\").replace(\"|\", \"ö\")"
   ]
  },
  {
   "cell_type": "code",
   "execution_count": 7,
   "metadata": {},
   "outputs": [],
   "source": [
    "TESTF = \"/Users/joregan/Playing/waxholm/scenes_formatted//fp2033/fp2033.6.20.smp.mix\""
   ]
  },
  {
   "cell_type": "code",
   "execution_count": 8,
   "metadata": {},
   "outputs": [],
   "source": [
    "class FR:\n",
    "    def __init__(self, text):\n",
    "        if not text.startswith(\"FR\"):\n",
    "            raise IOError(\"Unknown line type (does not begin with 'FR'): \" + text)\n",
    "        parts = text.split(\"\\t\")\n",
    "        if len(parts) == 5:\n",
    "            self.type = 'B'\n",
    "        if len(parts) == 4:\n",
    "            self.type = 'I'\n",
    "        if len(parts) == 3:\n",
    "            self.type = 'E'\n",
    "            if parts[1].strip() != \"OK\":\n",
    "                raise IOError(\"Unexpected line: \" + text)\n",
    "        self.frame = parts[0][2:].strip()\n",
    "        if len(parts) > 3:\n",
    "            self.phone_type = parts[1].strip()[0:1]\n",
    "            self.phone = parts[1].strip()[1:]\n",
    "            if not parts[2].strip().startswith(\">pm \"):\n",
    "                raise IOError(\"Unexpected line: \" + text)\n",
    "            self.pm_type = parts[2].strip()[4:5]\n",
    "            self.pm = parts[2].strip()[5:]\n",
    "        if len(parts) == 5:\n",
    "            if not parts[3].strip().startswith(\">w \"):\n",
    "                raise IOError(\"Unexpected line: \" + text)\n",
    "            self.word = fix_text(parts[3].strip()[3:])\n",
    "        if parts[-1].strip().endswith(\" sec\"):\n",
    "            self.seconds = parts[-1].strip()[0:-4]\n",
    "\n",
    "    def __repr__(self):\n",
    "        parts = []\n",
    "        parts.append(f\"type: {self.type}\")\n",
    "        parts.append(f\"frame: {self.frame}\")\n",
    "        if self.type != 'E':\n",
    "            parts.append(f\"phone: {self.phone}\")\n",
    "        if 'word' in self.__dict__:\n",
    "            parts.append(f\"word: {self.word}\")\n",
    "        if 'pm_type' in self.__dict__:\n",
    "            parts.append(f\"pm_type: {self.pm_type}\")\n",
    "        if 'pm' in self.__dict__:\n",
    "            parts.append(f\"pm: {self.pm}\")\n",
    "        parts.append(f\"sec: {self.seconds}\")\n",
    "        return f\"FR(\" + \", \".join(parts) + \")\"\n",
    "        "
   ]
  },
  {
   "cell_type": "code",
   "execution_count": 9,
   "metadata": {},
   "outputs": [],
   "source": [
    "class Mix():\n",
    "    def __init__(self, filepath):\n",
    "        self.fr = []\n",
    "        with open(filepath) as inpf:\n",
    "            saw_text = False\n",
    "            saw_phoneme = False\n",
    "            saw_labels = False\n",
    "            for line in inpf.readlines():\n",
    "                if line.startswith(\"Waxholm dialog.\"):\n",
    "                    self.filepath = line[15:].strip()\n",
    "                if line.startswith(\"TEXT:\"):\n",
    "                    saw_text = True\n",
    "                if saw_text:\n",
    "                    self.text = fix_text(line.strip())\n",
    "                    saw_text = False\n",
    "                if line.startswith(\"FR \"):\n",
    "                    if saw_labels:\n",
    "                        saw_labels = False\n",
    "                    self.fr.append(FR(line))\n",
    "                if line.startswith(\"Labels: \"):\n",
    "                    self.labels = line[8:].strip()\n",
    "                    saw_labels = True\n",
    "                if saw_labels and line.startswith(\" \"):\n",
    "                    self.labels += line.strip()\n",
    "        "
   ]
  },
  {
   "cell_type": "code",
   "execution_count": 10,
   "metadata": {},
   "outputs": [],
   "source": [
    "def smp_probe(filename):\n",
    "    with open(filename, \"rb\") as f:\n",
    "        return f.read(9) == b\"file=samp\""
   ]
  },
  {
   "cell_type": "code",
   "execution_count": 1,
   "metadata": {},
   "outputs": [],
   "source": [
    "def smp_headers(filename):\n",
    "    with open(filename, \"rb\") as f:\n",
    "        f.seek(0)\n",
    "        raw_headers = f.read(1024)\n",
    "        raw_headers = raw_headers.rstrip(b'\\x00')\n",
    "        asc_headers = raw_headers.decode(\"ascii\")\n",
    "        asc_headers.rstrip('\\x00')\n",
    "        tmp = [a for a in asc_headers.split(\"\\r\\n\")]\n",
    "        back = -1\n",
    "        while abs(back) > len(tmp) + 1:\n",
    "            if tmp[back] == '=':\n",
    "                break\n",
    "            back -= 1\n",
    "        tmp = tmp[0:back-1]\n",
    "        return dict(a.split(\"=\") for a in tmp)"
   ]
  },
  {
   "cell_type": "code",
   "execution_count": 1,
   "metadata": {},
   "outputs": [],
   "source": [
    "import soundfile as sf\n",
    "\n",
    "def smp_read_sf(filename):\n",
    "    headers = smp_headers(filename)\n",
    "    if headers[\"msb\"] == \"last\":\n",
    "        ENDIAN = \"LITTLE\"\n",
    "    else:\n",
    "        ENDIAN = \"BIG\"\n",
    "\n",
    "    data, sr = sf.read(filename, channels=int(headers[\"nchans\"]),\n",
    "                       samplerate=16000, endian=ENDIAN, start=512,\n",
    "                       dtype=\"int16\", format=\"RAW\", subtype=\"PCM_16\")\n",
    "    return (data, sr)"
   ]
  },
  {
   "cell_type": "code",
   "execution_count": null,
   "metadata": {},
   "outputs": [],
   "source": [
    "def write_wav(filename, arr):\n",
    "    import wave\n",
    "\n",
    "    with wave.open(filename, \"w\") as f:\n",
    "        f.setnchannels(1)\n",
    "        f.setsampwidth(2)\n",
    "        f.setframerate(16000)\n",
    "        f.writeframes(arr)\n",
    "\n",
    "\n",
    "arr, sr = smp_read_sf(\"/Users/joregan/Playing/waxholm/scenes_formatted//fp2060/fp2060.pr.09.smp\")\n",
    "write_wav(\"out.wav\", arr)"
   ]
  }
 ],
 "metadata": {
  "interpreter": {
   "hash": "2603f07046c437130ee32ef9381ac7221f7902403001eace09f7e749adb599f7"
  },
  "kernelspec": {
   "display_name": "Python 3.9.7 ('base')",
   "language": "python",
   "name": "python3"
  },
  "language_info": {
   "codemirror_mode": {
    "name": "ipython",
    "version": 3
   },
   "file_extension": ".py",
   "mimetype": "text/x-python",
   "name": "python",
   "nbconvert_exporter": "python",
   "pygments_lexer": "ipython3",
   "version": "3.9.7"
  },
  "orig_nbformat": 4
 },
 "nbformat": 4,
 "nbformat_minor": 2
}
