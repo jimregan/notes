{
 "cells": [
  {
   "cell_type": "markdown",
   "id": "e683978f",
   "metadata": {},
   "source": [
    "# Create n-gram LM from Dubliners\n",
    "\n",
    "> \"For a student project\"\n",
    "\n",
    "- toc: false\n",
    "- branch: master\n",
    "- badges: false\n",
    "- comments: true\n",
    "- categories: [lm, dubliners, dt2112]"
   ]
  },
  {
   "cell_type": "markdown",
   "id": "405979c8",
   "metadata": {},
   "source": [
    "Version on [Kaggle](https://www.kaggle.com/code/jimregan/dubliners-lm)"
   ]
  },
  {
   "cell_type": "code",
   "execution_count": null,
   "id": "18f7aa1a",
   "metadata": {
    "execution": {
     "iopub.execute_input": "2024-02-16T14:02:37.347839Z",
     "iopub.status.busy": "2024-02-16T14:02:37.347195Z",
     "iopub.status.idle": "2024-02-16T14:03:02.739380Z",
     "shell.execute_reply": "2024-02-16T14:03:02.737926Z"
    },
    "id": "s1uqBf2p4Ue_",
    "outputId": "8b1010c7-e81a-4786-e839-d8a69416885b",
    "papermill": {
     "duration": 25.403417,
     "end_time": "2024-02-16T14:03:02.742116",
     "exception": false,
     "start_time": "2024-02-16T14:02:37.338699",
     "status": "completed"
    },
    "tags": []
   },
   "outputs": [],
   "source": [
    "%pip install mosestokenizer"
   ]
  },
  {
   "cell_type": "code",
   "execution_count": 2,
   "id": "f2d5e747",
   "metadata": {
    "execution": {
     "iopub.execute_input": "2024-02-16T14:03:02.763187Z",
     "iopub.status.busy": "2024-02-16T14:03:02.762451Z",
     "iopub.status.idle": "2024-02-16T14:03:03.885229Z",
     "shell.execute_reply": "2024-02-16T14:03:03.883873Z"
    },
    "papermill": {
     "duration": 1.136078,
     "end_time": "2024-02-16T14:03:03.887892",
     "exception": false,
     "start_time": "2024-02-16T14:03:02.751814",
     "status": "completed"
    },
    "tags": []
   },
   "outputs": [
    {
     "name": "stdout",
     "output_type": "stream",
     "text": [
      "/kaggle/working\r\n"
     ]
    }
   ],
   "source": [
    "!pwd"
   ]
  },
  {
   "cell_type": "code",
   "execution_count": 3,
   "id": "d25d7c37",
   "metadata": {
    "execution": {
     "iopub.execute_input": "2024-02-16T14:03:03.908838Z",
     "iopub.status.busy": "2024-02-16T14:03:03.907978Z",
     "iopub.status.idle": "2024-02-16T14:03:03.913118Z",
     "shell.execute_reply": "2024-02-16T14:03:03.912176Z"
    },
    "id": "iUgxQzzPyEgG",
    "papermill": {
     "duration": 0.018694,
     "end_time": "2024-02-16T14:03:03.915560",
     "exception": false,
     "start_time": "2024-02-16T14:03:03.896866",
     "status": "completed"
    },
    "tags": []
   },
   "outputs": [],
   "source": [
    "HTML = \"https://www.gutenberg.org/cache/epub/2814/pg2814-images.html\""
   ]
  },
  {
   "cell_type": "code",
   "execution_count": 4,
   "id": "2e729d6f",
   "metadata": {
    "execution": {
     "iopub.execute_input": "2024-02-16T14:03:03.936396Z",
     "iopub.status.busy": "2024-02-16T14:03:03.935594Z",
     "iopub.status.idle": "2024-02-16T14:03:04.243857Z",
     "shell.execute_reply": "2024-02-16T14:03:04.242698Z"
    },
    "id": "q_Gn8EmZyKXJ",
    "papermill": {
     "duration": 0.32194,
     "end_time": "2024-02-16T14:03:04.246812",
     "exception": false,
     "start_time": "2024-02-16T14:03:03.924872",
     "status": "completed"
    },
    "tags": []
   },
   "outputs": [],
   "source": [
    "import requests\n",
    "from bs4 import BeautifulSoup"
   ]
  },
  {
   "cell_type": "code",
   "execution_count": 5,
   "id": "ab409145",
   "metadata": {
    "execution": {
     "iopub.execute_input": "2024-02-16T14:03:04.267577Z",
     "iopub.status.busy": "2024-02-16T14:03:04.266433Z",
     "iopub.status.idle": "2024-02-16T14:03:05.802780Z",
     "shell.execute_reply": "2024-02-16T14:03:05.801645Z"
    },
    "id": "QjDunps8yZgY",
    "papermill": {
     "duration": 1.549962,
     "end_time": "2024-02-16T14:03:05.805858",
     "exception": false,
     "start_time": "2024-02-16T14:03:04.255896",
     "status": "completed"
    },
    "tags": []
   },
   "outputs": [],
   "source": [
    "dubliners = requests.get(HTML)"
   ]
  },
  {
   "cell_type": "code",
   "execution_count": 6,
   "id": "7818b0bf",
   "metadata": {
    "execution": {
     "iopub.execute_input": "2024-02-16T14:03:05.825918Z",
     "iopub.status.busy": "2024-02-16T14:03:05.825536Z",
     "iopub.status.idle": "2024-02-16T14:03:05.830675Z",
     "shell.execute_reply": "2024-02-16T14:03:05.829449Z"
    },
    "id": "3MPyOE_6ydVI",
    "papermill": {
     "duration": 0.018174,
     "end_time": "2024-02-16T14:03:05.833207",
     "exception": false,
     "start_time": "2024-02-16T14:03:05.815033",
     "status": "completed"
    },
    "tags": []
   },
   "outputs": [],
   "source": [
    "assert dubliners.status_code == 200"
   ]
  },
  {
   "cell_type": "code",
   "execution_count": 7,
   "id": "e257651a",
   "metadata": {
    "execution": {
     "iopub.execute_input": "2024-02-16T14:03:05.853683Z",
     "iopub.status.busy": "2024-02-16T14:03:05.853241Z",
     "iopub.status.idle": "2024-02-16T14:03:05.994109Z",
     "shell.execute_reply": "2024-02-16T14:03:05.992928Z"
    },
    "id": "yKuReWqMygCD",
    "papermill": {
     "duration": 0.154143,
     "end_time": "2024-02-16T14:03:05.996845",
     "exception": false,
     "start_time": "2024-02-16T14:03:05.842702",
     "status": "completed"
    },
    "tags": []
   },
   "outputs": [],
   "source": [
    "soup = BeautifulSoup(dubliners.text, 'html.parser')"
   ]
  },
  {
   "cell_type": "code",
   "execution_count": 8,
   "id": "ea2ecbef",
   "metadata": {
    "execution": {
     "iopub.execute_input": "2024-02-16T14:03:06.017595Z",
     "iopub.status.busy": "2024-02-16T14:03:06.016984Z",
     "iopub.status.idle": "2024-02-16T14:03:06.022217Z",
     "shell.execute_reply": "2024-02-16T14:03:06.021087Z"
    },
    "id": "kfIl4XyqzsFk",
    "papermill": {
     "duration": 0.01888,
     "end_time": "2024-02-16T14:03:06.025013",
     "exception": false,
     "start_time": "2024-02-16T14:03:06.006133",
     "status": "completed"
    },
    "tags": []
   },
   "outputs": [],
   "source": [
    "body = soup.find(\"body\")"
   ]
  },
  {
   "cell_type": "code",
   "execution_count": 9,
   "id": "ac241d5a",
   "metadata": {
    "execution": {
     "iopub.execute_input": "2024-02-16T14:03:06.046352Z",
     "iopub.status.busy": "2024-02-16T14:03:06.045546Z",
     "iopub.status.idle": "2024-02-16T14:03:06.077373Z",
     "shell.execute_reply": "2024-02-16T14:03:06.075813Z"
    },
    "id": "2aFVbTLKzvVq",
    "papermill": {
     "duration": 0.045915,
     "end_time": "2024-02-16T14:03:06.080587",
     "exception": false,
     "start_time": "2024-02-16T14:03:06.034672",
     "status": "completed"
    },
    "tags": []
   },
   "outputs": [],
   "source": [
    "text = []\n",
    "for chapter in body.findAll(\"div\", {\"class\": \"chapter\"}):\n",
    "    for element in chapter.findChildren():\n",
    "        if element.name == \"section\" and element.get(\"id\") in [\"pg-header\", \"pg-footer\"]:\n",
    "            continue\n",
    "        stripped = element.text.strip()\n",
    "        if stripped != \"\":\n",
    "            text.append(stripped)"
   ]
  },
  {
   "cell_type": "code",
   "execution_count": 10,
   "id": "daf2988a",
   "metadata": {
    "execution": {
     "iopub.execute_input": "2024-02-16T14:03:06.101999Z",
     "iopub.status.busy": "2024-02-16T14:03:06.101615Z",
     "iopub.status.idle": "2024-02-16T14:03:06.152763Z",
     "shell.execute_reply": "2024-02-16T14:03:06.151420Z"
    },
    "id": "053hnCim2WNl",
    "papermill": {
     "duration": 0.065185,
     "end_time": "2024-02-16T14:03:06.155887",
     "exception": false,
     "start_time": "2024-02-16T14:03:06.090702",
     "status": "completed"
    },
    "tags": []
   },
   "outputs": [],
   "source": [
    "from mosestokenizer import MosesSentenceSplitter"
   ]
  },
  {
   "cell_type": "code",
   "execution_count": 11,
   "id": "1db0998f",
   "metadata": {
    "execution": {
     "iopub.execute_input": "2024-02-16T14:03:06.178418Z",
     "iopub.status.busy": "2024-02-16T14:03:06.177951Z",
     "iopub.status.idle": "2024-02-16T14:03:06.625435Z",
     "shell.execute_reply": "2024-02-16T14:03:06.624223Z"
    },
    "id": "NvW_Hgpu4gWW",
    "papermill": {
     "duration": 0.462924,
     "end_time": "2024-02-16T14:03:06.628635",
     "exception": false,
     "start_time": "2024-02-16T14:03:06.165711",
     "status": "completed"
    },
    "tags": []
   },
   "outputs": [],
   "source": [
    "sents = []\n",
    "try:\n",
    "    with MosesSentenceSplitter('en') as splitsents:\n",
    "        for para in text:\n",
    "          if para == \"\":\n",
    "              continue\n",
    "          sents += splitsents([para.replace(\"\\r\\n\", \" \")])\n",
    "except Exception as ex:\n",
    "    print(ex, para)"
   ]
  },
  {
   "cell_type": "code",
   "execution_count": 12,
   "id": "0f605843",
   "metadata": {
    "execution": {
     "iopub.execute_input": "2024-02-16T14:03:06.651034Z",
     "iopub.status.busy": "2024-02-16T14:03:06.649813Z",
     "iopub.status.idle": "2024-02-16T14:03:06.664461Z",
     "shell.execute_reply": "2024-02-16T14:03:06.663130Z"
    },
    "id": "UmcJhPj0A2wB",
    "papermill": {
     "duration": 0.028533,
     "end_time": "2024-02-16T14:03:06.667045",
     "exception": false,
     "start_time": "2024-02-16T14:03:06.638512",
     "status": "completed"
    },
    "tags": []
   },
   "outputs": [],
   "source": [
    "import re\n",
    "def cleaner(text):\n",
    "    text = text.replace(\"“\", \"\")\n",
    "    text = text.replace(\"”\", \"\")\n",
    "    text = text.replace(\"’ \", \" \")\n",
    "    text = text.replace(\"’\", \"'\")\n",
    "    text = text.replace(\"‘\", \" \")\n",
    "    text = text.replace(\"\\t\", \" \")\n",
    "    text = text.replace(\"!...\", \" \")\n",
    "    text = text.replace(\"....\", \" \")\n",
    "    text = text.replace(\"...\", \" \")\n",
    "    text = text.replace(\":\", \" \")\n",
    "    text = text.replace(\";\", \" \")\n",
    "    text = text.replace(\"!\", \" \")\n",
    "    text = text.replace(\",\", \" \")\n",
    "    text = text.replace(\"?\", \" \")\n",
    "    text = text.replace(\"(\", \" \")\n",
    "    text = text.replace(\")\", \" \")\n",
    "    text = text.replace(\"—\", \" \")\n",
    "    text = text.replace(\"\\r\\n\", \" \")\n",
    "    text = text.replace(\"\\n\", \" \")\n",
    "    text = text.replace(\"\\xa0\", \" \")\n",
    "    text = text.replace(\".\", \" \")\n",
    "    text = text.replace(\"&\", \" and \")\n",
    "    text = text.replace(\" 57E \", \" fifty seven e \")\n",
    "    text = text.replace(\" 1st \", \" first \")\n",
    "    text = text.replace(\" 6th \", \" sixth \")\n",
    "    text = text.replace(\" 1895 \", \" eighteen ninety five \")\n",
    "    text = text.replace(\" 1891\", \" eighteen ninety one\")\n",
    "    text = text.replace(\"1891\", \" eighteen ninety one\")\n",
    "    text = text.replace(\"65 \", \" sixty five \")\n",
    "    if text[-1] == \".\":\n",
    "        text = text[:-1]\n",
    "    text = re.sub(\"  +\", \" \", text)\n",
    "    return text.lower().strip()"
   ]
  },
  {
   "cell_type": "code",
   "execution_count": 13,
   "id": "29120507",
   "metadata": {
    "execution": {
     "iopub.execute_input": "2024-02-16T14:03:06.688230Z",
     "iopub.status.busy": "2024-02-16T14:03:06.687855Z",
     "iopub.status.idle": "2024-02-16T14:03:06.739432Z",
     "shell.execute_reply": "2024-02-16T14:03:06.738205Z"
    },
    "id": "nwLfF1X6A5LN",
    "papermill": {
     "duration": 0.065382,
     "end_time": "2024-02-16T14:03:06.742092",
     "exception": false,
     "start_time": "2024-02-16T14:03:06.676710",
     "status": "completed"
    },
    "tags": []
   },
   "outputs": [],
   "source": [
    "clean = [cleaner(x) for x in sents]"
   ]
  },
  {
   "cell_type": "code",
   "execution_count": 14,
   "id": "1c2c5c24",
   "metadata": {
    "execution": {
     "iopub.execute_input": "2024-02-16T14:03:06.764356Z",
     "iopub.status.busy": "2024-02-16T14:03:06.763931Z",
     "iopub.status.idle": "2024-02-16T14:03:06.772272Z",
     "shell.execute_reply": "2024-02-16T14:03:06.771235Z"
    },
    "id": "MbRQks1nJ3Jm",
    "papermill": {
     "duration": 0.02278,
     "end_time": "2024-02-16T14:03:06.775133",
     "exception": false,
     "start_time": "2024-02-16T14:03:06.752353",
     "status": "completed"
    },
    "tags": []
   },
   "outputs": [],
   "source": [
    "with open(\"dubliners-clean.txt\", \"w\") as outf:\n",
    "    for line in clean:\n",
    "        outf.write(line + \"\\n\")"
   ]
  },
  {
   "cell_type": "code",
   "execution_count": null,
   "id": "64752379",
   "metadata": {
    "execution": {
     "iopub.execute_input": "2024-02-16T14:03:06.796886Z",
     "iopub.status.busy": "2024-02-16T14:03:06.796495Z",
     "iopub.status.idle": "2024-02-16T14:04:07.310377Z",
     "shell.execute_reply": "2024-02-16T14:04:07.308716Z"
    },
    "id": "czNV3MSSKg5K",
    "outputId": "38263001-6e03-4af4-a8f4-52e88af9217e",
    "papermill": {
     "duration": 60.528321,
     "end_time": "2024-02-16T14:04:07.313387",
     "exception": false,
     "start_time": "2024-02-16T14:03:06.785066",
     "status": "completed"
    },
    "tags": []
   },
   "outputs": [],
   "source": [
    "!apt install -y build-essential libboost-all-dev cmake zlib1g-dev libbz2-dev liblzma-dev"
   ]
  },
  {
   "cell_type": "code",
   "execution_count": 16,
   "id": "3121dc61",
   "metadata": {
    "execution": {
     "iopub.execute_input": "2024-02-16T14:04:07.424784Z",
     "iopub.status.busy": "2024-02-16T14:04:07.424283Z",
     "iopub.status.idle": "2024-02-16T14:04:07.432481Z",
     "shell.execute_reply": "2024-02-16T14:04:07.431235Z"
    },
    "papermill": {
     "duration": 0.067687,
     "end_time": "2024-02-16T14:04:07.435447",
     "exception": false,
     "start_time": "2024-02-16T14:04:07.367760",
     "status": "completed"
    },
    "tags": []
   },
   "outputs": [
    {
     "name": "stdout",
     "output_type": "stream",
     "text": [
      "/tmp\n"
     ]
    }
   ],
   "source": [
    "%cd /tmp"
   ]
  },
  {
   "cell_type": "code",
   "execution_count": null,
   "id": "c50a5f9b",
   "metadata": {
    "execution": {
     "iopub.execute_input": "2024-02-16T14:04:07.553075Z",
     "iopub.status.busy": "2024-02-16T14:04:07.552678Z",
     "iopub.status.idle": "2024-02-16T14:04:10.312764Z",
     "shell.execute_reply": "2024-02-16T14:04:10.311230Z"
    },
    "id": "-PW25gVvKlrq",
    "outputId": "a61cc4aa-6be3-4fb8-91db-79dcf8a74663",
    "papermill": {
     "duration": 2.823098,
     "end_time": "2024-02-16T14:04:10.315873",
     "exception": false,
     "start_time": "2024-02-16T14:04:07.492775",
     "status": "completed"
    },
    "tags": []
   },
   "outputs": [],
   "source": [
    "!git clone https://github.com/kpu/kenlm"
   ]
  },
  {
   "cell_type": "code",
   "execution_count": 18,
   "id": "535e40c7",
   "metadata": {
    "execution": {
     "iopub.execute_input": "2024-02-16T14:04:10.435996Z",
     "iopub.status.busy": "2024-02-16T14:04:10.435558Z",
     "iopub.status.idle": "2024-02-16T14:04:10.442855Z",
     "shell.execute_reply": "2024-02-16T14:04:10.441849Z"
    },
    "id": "Hn1pRmdJKrdW",
    "outputId": "dc019ba7-eaa9-4922-8cd9-21ba4567efde",
    "papermill": {
     "duration": 0.069961,
     "end_time": "2024-02-16T14:04:10.445612",
     "exception": false,
     "start_time": "2024-02-16T14:04:10.375651",
     "status": "completed"
    },
    "tags": []
   },
   "outputs": [
    {
     "name": "stdout",
     "output_type": "stream",
     "text": [
      "/tmp/kenlm\n"
     ]
    }
   ],
   "source": [
    "%cd kenlm"
   ]
  },
  {
   "cell_type": "code",
   "execution_count": null,
   "id": "66046831",
   "metadata": {
    "execution": {
     "iopub.execute_input": "2024-02-16T14:04:10.563068Z",
     "iopub.status.busy": "2024-02-16T14:04:10.562366Z",
     "iopub.status.idle": "2024-02-16T14:05:25.555823Z",
     "shell.execute_reply": "2024-02-16T14:05:25.554383Z"
    },
    "id": "VxWMTEL_KuWF",
    "outputId": "76c336b7-dd73-4b62-ffb5-f2e08ad66b00",
    "papermill": {
     "duration": 75.055762,
     "end_time": "2024-02-16T14:05:25.558683",
     "exception": false,
     "start_time": "2024-02-16T14:04:10.502921",
     "status": "completed"
    },
    "tags": []
   },
   "outputs": [],
   "source": [
    "!mkdir build\n",
    "%cd build\n",
    "!cmake ..\n",
    "!make -j 4"
   ]
  },
  {
   "cell_type": "code",
   "execution_count": 20,
   "id": "514efa5d",
   "metadata": {
    "execution": {
     "iopub.execute_input": "2024-02-16T14:05:25.696787Z",
     "iopub.status.busy": "2024-02-16T14:05:25.696210Z",
     "iopub.status.idle": "2024-02-16T14:05:25.704403Z",
     "shell.execute_reply": "2024-02-16T14:05:25.703150Z"
    },
    "id": "uO35UjwyLZU7",
    "outputId": "7fa03fff-c257-4b6d-c806-59efbe21841d",
    "papermill": {
     "duration": 0.080508,
     "end_time": "2024-02-16T14:05:25.707050",
     "exception": false,
     "start_time": "2024-02-16T14:05:25.626542",
     "status": "completed"
    },
    "tags": []
   },
   "outputs": [
    {
     "name": "stdout",
     "output_type": "stream",
     "text": [
      "/kaggle/working\n"
     ]
    }
   ],
   "source": [
    "%cd /kaggle/working"
   ]
  },
  {
   "cell_type": "code",
   "execution_count": null,
   "id": "b2500aae",
   "metadata": {
    "execution": {
     "iopub.execute_input": "2024-02-16T14:05:25.920542Z",
     "iopub.status.busy": "2024-02-16T14:05:25.919766Z",
     "iopub.status.idle": "2024-02-16T14:05:31.339191Z",
     "shell.execute_reply": "2024-02-16T14:05:31.337671Z"
    },
    "id": "1bR7MSgXLf8q",
    "outputId": "23409044-a85f-4f13-8e69-fccd0ec78f46",
    "papermill": {
     "duration": 5.56643,
     "end_time": "2024-02-16T14:05:31.342268",
     "exception": false,
     "start_time": "2024-02-16T14:05:25.775838",
     "status": "completed"
    },
    "tags": []
   },
   "outputs": [],
   "source": [
    "!/tmp/kenlm/build/bin/lmplz -o 5 < dubliners-clean.txt > dubliners.arpa"
   ]
  }
 ],
 "metadata": {
  "colab": {
   "provenance": []
  },
  "kaggle": {
   "accelerator": "none",
   "dataSources": [],
   "dockerImageVersionId": 30646,
   "isGpuEnabled": false,
   "isInternetEnabled": true,
   "language": "python",
   "sourceType": "notebook"
  },
  "kernelspec": {
   "display_name": "Python 3",
   "language": "python",
   "name": "python3"
  },
  "language_info": {
   "codemirror_mode": {
    "name": "ipython",
    "version": 3
   },
   "file_extension": ".py",
   "mimetype": "text/x-python",
   "name": "python",
   "nbconvert_exporter": "python",
   "pygments_lexer": "ipython3",
   "version": "3.10.13"
  },
  "papermill": {
   "default_parameters": {},
   "duration": 177.715216,
   "end_time": "2024-02-16T14:05:31.936233",
   "environment_variables": {},
   "exception": null,
   "input_path": "__notebook__.ipynb",
   "output_path": "__notebook__.ipynb",
   "parameters": {},
   "start_time": "2024-02-16T14:02:34.221017",
   "version": "2.5.0"
  }
 },
 "nbformat": 4,
 "nbformat_minor": 5
}
