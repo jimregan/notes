{
 "cells": [
  {
   "cell_type": "markdown",
   "metadata": {},
   "source": [
    "# Instaloader to ntriples\n",
    "\n",
    "> \"Grab file locations\"\n",
    "\n",
    "- toc: false\n",
    "- branch: master\n",
    "- hidden: true\n",
    "- categories: [instaloader, rdf]"
   ]
  },
  {
   "cell_type": "code",
   "execution_count": 1,
   "metadata": {},
   "outputs": [],
   "source": [
    "import lzma"
   ]
  },
  {
   "cell_type": "code",
   "execution_count": 2,
   "metadata": {},
   "outputs": [],
   "source": [
    "from pathlib import Path\n",
    "BASE = Path(\"/Users/joregan/Playing/instascr\")"
   ]
  },
  {
   "cell_type": "code",
   "execution_count": 3,
   "metadata": {},
   "outputs": [],
   "source": [
    "import json"
   ]
  },
  {
   "cell_type": "code",
   "execution_count": 4,
   "metadata": {},
   "outputs": [],
   "source": [
    "from datetime import datetime\n",
    "datestr = datetime.today().strftime('%Y%m%d')"
   ]
  },
  {
   "cell_type": "code",
   "execution_count": 20,
   "metadata": {},
   "outputs": [
    {
     "name": "stdout",
     "output_type": "stream",
     "text": [
      "dict_keys(['__typename', 'id', 'gating_info', 'fact_check_overall_rating', 'fact_check_information', 'media_overlay_info', 'sensitivity_friction_info', 'sharing_friction_info', 'dimensions', 'display_url', 'display_resources', 'is_video', 'media_preview', 'tracking_token', 'edge_media_to_tagged_user', 'accessibility_caption', 'edge_media_to_caption', 'shortcode', 'edge_media_to_comment', 'edge_media_to_sponsor_user', 'comments_disabled', 'taken_at_timestamp', 'edge_media_preview_like', 'owner', 'location', 'viewer_has_liked', 'viewer_has_saved', 'viewer_has_saved_to_collection', 'viewer_in_photo_of_you', 'viewer_can_reshare', 'thumbnail_src', 'thumbnail_resources', 'edge_sidecar_to_children'])\n"
     ]
    }
   ],
   "source": [
    "print(data['node'].keys())\n"
   ]
  },
  {
   "cell_type": "code",
   "execution_count": 39,
   "metadata": {},
   "outputs": [],
   "source": [
    "testf = '/Users/joregan/Playing/instascr/mollyryanxo/2020-06-06_20-36-58_UTC.json.xz'\n",
    "jsons = lzma.open(testf).read().decode('utf-8')\n",
    "data = json.loads(jsons)\n",
    "username = data['node']['owner']['username']\n",
    "#for edge in data['node']['edge_sidecar_to_children']['edges']:\n",
    "#    if 'video_url' in edge['node']:\n",
    "#        print(edge['node']['video_url'])\n"
   ]
  },
  {
   "cell_type": "code",
   "execution_count": 5,
   "metadata": {},
   "outputs": [],
   "source": [
    "def get_from_data(data):\n",
    "    urls = set()\n",
    "    if 'node' not in data:\n",
    "        print(f\"Error reading file\")\n",
    "    if 'edge_sidecar_to_children' in data['node']:\n",
    "        for edge in data['node']['edge_sidecar_to_children']['edges']:\n",
    "            urls.add(edge['node']['display_url'])\n",
    "            if 'video_url' in data['node']:\n",
    "                urls.add(data['node']['video_url'])            \n",
    "    urls.add(data['node']['display_url'])\n",
    "    if 'video_url' in data['node']:\n",
    "        urls.add(data['node']['video_url'])\n",
    "    return list(urls)"
   ]
  },
  {
   "cell_type": "code",
   "execution_count": 6,
   "metadata": {},
   "outputs": [
    {
     "ename": "NameError",
     "evalue": "name 'data' is not defined",
     "output_type": "error",
     "traceback": [
      "\u001b[0;31m---------------------------------------------------------------------------\u001b[0m",
      "\u001b[0;31mNameError\u001b[0m                                 Traceback (most recent call last)",
      "\u001b[1;32m/Users/joregan/Playing/notes/_notebooks/2022-04-16-extract-instaloader.ipynb Cell 9'\u001b[0m in \u001b[0;36m<cell line: 1>\u001b[0;34m()\u001b[0m\n\u001b[0;32m----> <a href='vscode-notebook-cell:/Users/joregan/Playing/notes/_notebooks/2022-04-16-extract-instaloader.ipynb#ch0000008?line=0'>1</a>\u001b[0m get_from_data(data)\n",
      "\u001b[0;31mNameError\u001b[0m: name 'data' is not defined"
     ]
    }
   ],
   "source": [
    "get_from_data(data)"
   ]
  },
  {
   "cell_type": "code",
   "execution_count": 7,
   "metadata": {},
   "outputs": [],
   "source": [
    "datestr = \"20220417\""
   ]
  },
  {
   "cell_type": "code",
   "execution_count": 6,
   "metadata": {},
   "outputs": [],
   "source": [
    "from pathlib import Path\n",
    "BASE = Path(\"/Users/joregan/Playing/instascr\")"
   ]
  },
  {
   "cell_type": "code",
   "execution_count": 7,
   "metadata": {},
   "outputs": [
    {
     "name": "stdout",
     "output_type": "stream",
     "text": [
      "Skipping /Users/joregan/Playing/instascr/julia_cavanagh/julia_cavanagh_43049694.json.xz\n",
      "Skipping /Users/joregan/Playing/instascr/paigeallen_/paigeallen__186619309.json.xz\n",
      "Skipping /Users/joregan/Playing/instascr/eibhlismcdonald/eibhlismcdonald_295157560.json.xz\n",
      "Skipping /Users/joregan/Playing/instascr/rose.rogers/rose.rogers_1498001011.json.xz\n",
      "Skipping /Users/joregan/Playing/instascr/nephtys_laurent/nephtys_laurent_3541907582.json.xz\n",
      "Skipping /Users/joregan/Playing/instascr/cindyromme__/cindyromme___9983777145.json.xz\n",
      "Skipping /Users/joregan/Playing/instascr/p.kopera/p.kopera_1557071822.json.xz\n",
      "Skipping /Users/joregan/Playing/instascr/sareaycaa/sareaycaa_1829475321.json.xz\n",
      "Skipping /Users/joregan/Playing/instascr/pear.l.y/pear.l.y_24091203122.json.xz\n",
      "Skipping /Users/joregan/Playing/instascr/ciara.jpeg/ciara.jpeg_322557161.json.xz\n",
      "Skipping /Users/joregan/Playing/instascr/miaboyka/miaboyka_4016061833.json.xz\n",
      "Skipping /Users/joregan/Playing/instascr/margarita____v/margarita____v_279156969.json.xz\n",
      "Skipping /Users/joregan/Playing/instascr/erinrafferty_/erinrafferty__321652836.json.xz\n",
      "Skipping /Users/joregan/Playing/instascr/sarah_mccooey/sarah_mccooey_2233925974.json.xz\n",
      "Skipping /Users/joregan/Playing/instascr/salheneghan/salheneghan_198432670.json.xz\n",
      "Skipping /Users/joregan/Playing/instascr/anellamiller/anellamiller_244994126.json.xz\n",
      "Skipping /Users/joregan/Playing/instascr/jacquelinax/jacquelinax_271408242.json.xz\n",
      "Skipping /Users/joregan/Playing/instascr/ava_recker/ava_recker_2268924321.json.xz\n",
      "Skipping /Users/joregan/Playing/instascr/caroline_hu/caroline_hu_268442859.json.xz\n",
      "Skipping /Users/joregan/Playing/instascr/sineaddeblogger/sineaddeblogger_215788713.json.xz\n",
      "Skipping /Users/joregan/Playing/instascr/lucierosedonlan/lucierosedonlan_643223449.json.xz\n",
      "Skipping /Users/joregan/Playing/instascr/annamariaolbrycht/annamariaolbrycht_36987693.json.xz\n",
      "Skipping /Users/joregan/Playing/instascr/seklaudiaa/seklaudiaa_1073049324.json.xz\n",
      "Skipping /Users/joregan/Playing/instascr/wera_marzeda/wera_marzeda_265349295.json.xz\n",
      "Skipping /Users/joregan/Playing/instascr/elina1elli/elina1elli_3987964383.json.xz\n",
      "Skipping /Users/joregan/Playing/instascr/marie_teissonniere/marie_teissonniere_357055513.json.xz\n",
      "Skipping /Users/joregan/Playing/instascr/anya.sokolova96_inspire/anya.sokolova96_inspire_49815183991.json.xz\n",
      "Skipping /Users/joregan/Playing/instascr/malaa_czarrnaaa/malaa_czarrnaaa_2246283396.json.xz\n",
      "Skipping /Users/joregan/Playing/instascr/eskaembe/eskaembe_5838114686.json.xz\n",
      "Skipping /Users/joregan/Playing/instascr/aw98x_/aw98x__1163363518.json.xz\n",
      "Skipping /Users/joregan/Playing/instascr/leannaharriss/leannaharriss_633261624.json.xz\n",
      "Skipping /Users/joregan/Playing/instascr/hanadedkova_/hanadedkova__1666192478.json.xz\n",
      "Skipping /Users/joregan/Playing/instascr/_arctic.sea_/_arctic.sea__1397681763.json.xz\n",
      "Skipping /Users/joregan/Playing/instascr/mrs.lilly_ink/mrs.lilly_ink_4961794152.json.xz\n",
      "Skipping /Users/joregan/Playing/instascr/natalieemusicc/natalieemusicc_8430628732.json.xz\n",
      "Skipping /Users/joregan/Playing/instascr/___nastyal___/___nastyal____2268595698.json.xz\n",
      "Skipping /Users/joregan/Playing/instascr/badbrunette/badbrunette_6308816454.json.xz\n",
      "Skipping /Users/joregan/Playing/instascr/lakenromine/lakenromine_54617931.json.xz\n",
      "Skipping /Users/joregan/Playing/instascr/tarabrxdy/tarabrxdy_387374220.json.xz\n",
      "Skipping /Users/joregan/Playing/instascr/katiedevlinn/katiedevlinn_1616894617.json.xz\n",
      "Skipping /Users/joregan/Playing/instascr/reneeherbert_/reneeherbert__178504494.json.xz\n",
      "Skipping /Users/joregan/Playing/instascr/caoimhe.mahadyx/caoimhe.mahadyx_414484166.json.xz\n",
      "Skipping /Users/joregan/Playing/instascr/leahmurraygirl/leahmurraygirl_274021074.json.xz\n",
      "Skipping /Users/joregan/Playing/instascr/jess.greenberg/jess.greenberg_1452059351.json.xz\n",
      "Skipping /Users/joregan/Playing/instascr/rossana_latallada/rossana_latallada_1654008792.json.xz\n",
      "Skipping /Users/joregan/Playing/instascr/paulaaaq/paulaaaq_2049297820.json.xz\n",
      "Skipping /Users/joregan/Playing/instascr/irisha_bakulina/irisha_bakulina_294778291.json.xz\n",
      "Skipping /Users/joregan/Playing/instascr/olivia__christie/olivia__christie_602445166.json.xz\n",
      "Skipping /Users/joregan/Playing/instascr/amyscanlonn/amyscanlonn_8565534391.json.xz\n",
      "Skipping /Users/joregan/Playing/instascr/xo.courtt/xo.courtt_8443474602.json.xz\n",
      "Skipping /Users/joregan/Playing/instascr/yulia_kapriz/yulia_kapriz_231663077.json.xz\n",
      "Skipping /Users/joregan/Playing/instascr/haileysoap/haileysoap_229660176.json.xz\n",
      "Skipping /Users/joregan/Playing/instascr/orianne.kotel/orianne.kotel_709674703.json.xz\n",
      "Skipping /Users/joregan/Playing/instascr/msmonamour/msmonamour_5550641784.json.xz\n",
      "Skipping /Users/joregan/Playing/instascr/leah_mcbride/leah_mcbride_962588595.json.xz\n",
      "Skipping /Users/joregan/Playing/instascr/mary_bedford/mary_bedford_469776821.json.xz\n",
      "Skipping /Users/joregan/Playing/instascr/klaudia.rupert/klaudia.rupert_3764882188.json.xz\n",
      "Skipping /Users/joregan/Playing/instascr/ingridschneider/ingridschneider_247676062.json.xz\n",
      "Skipping /Users/joregan/Playing/instascr/leannefisher/leannefisher_18157921.json.xz\n",
      "Skipping /Users/joregan/Playing/instascr/annamarkowska_official/annamarkowska_official_365715808.json.xz\n",
      "Skipping /Users/joregan/Playing/instascr/ashleyrose.harris/ashleyrose.harris_246879071.json.xz\n",
      "Skipping /Users/joregan/Playing/instascr/loren/loren_240759746.json.xz\n",
      "Skipping /Users/joregan/Playing/instascr/karolina.malina/karolina.malina_52367781.json.xz\n",
      "Skipping /Users/joregan/Playing/instascr/beatricepiccapiccon/beatricepiccapiccon_54897371.json.xz\n",
      "Skipping /Users/joregan/Playing/instascr/elisalevallois/elisalevallois_447576926.json.xz\n",
      "Skipping /Users/joregan/Playing/instascr/amydjh/amydjh_15040933.json.xz\n",
      "Skipping /Users/joregan/Playing/instascr/aisab_basia/aisab_basia_266634255.json.xz\n",
      "Skipping /Users/joregan/Playing/instascr/chiaraking/chiaraking_217018920.json.xz\n",
      "Skipping /Users/joregan/Playing/instascr/sophiemoloneyy/sophiemoloneyy_1167147511.json.xz\n",
      "Skipping /Users/joregan/Playing/instascr/zofja.ha/zofja.ha_3679353599.json.xz\n",
      "Skipping /Users/joregan/Playing/instascr/ksu_e1iz/ksu_e1iz_877161857.json.xz\n",
      "Skipping /Users/joregan/Playing/instascr/kellyrennick/kellyrennick_535039029.json.xz\n",
      "Skipping /Users/joregan/Playing/instascr/immaturefruit/immaturefruit_274229396.json.xz\n",
      "Skipping /Users/joregan/Playing/instascr/monica.zin/monica.zin_202062352.json.xz\n",
      "Skipping /Users/joregan/Playing/instascr/lucybirch.02/lucybirch.02_4938805396.json.xz\n",
      "Skipping /Users/joregan/Playing/instascr/mikaelahaller/mikaelahaller_25758459.json.xz\n",
      "Skipping /Users/joregan/Playing/instascr/justynaryszka/justynaryszka_311339756.json.xz\n",
      "Skipping /Users/joregan/Playing/instascr/jessienorbz/jessienorbz_226842399.json.xz\n",
      "Skipping /Users/joregan/Playing/instascr/jasminbald/jasminbald_1638550440.json.xz\n",
      "Skipping /Users/joregan/Playing/instascr/emiczk/emiczk_2308296989.json.xz\n",
      "Skipping /Users/joregan/Playing/instascr/lisamarie_mcguire/lisamarie_mcguire_1600313840.json.xz\n",
      "Skipping /Users/joregan/Playing/instascr/alena_viva/alena_viva_1057657109.json.xz\n",
      "Skipping /Users/joregan/Playing/instascr/vitoriabrugnera/vitoriabrugnera_313641069.json.xz\n"
     ]
    },
    {
     "ename": "KeyError",
     "evalue": "'shortcode'",
     "output_type": "error",
     "traceback": [
      "\u001b[0;31m---------------------------------------------------------------------------\u001b[0m",
      "\u001b[0;31mKeyError\u001b[0m                                  Traceback (most recent call last)",
      "\u001b[1;32m/Users/joregan/Playing/notes/_notebooks/2022-04-16-extract-instaloader.ipynb Cell 12'\u001b[0m in \u001b[0;36m<cell line: 1>\u001b[0;34m()\u001b[0m\n\u001b[1;32m      <a href='vscode-notebook-cell:/Users/joregan/Playing/notes/_notebooks/2022-04-16-extract-instaloader.ipynb#ch0000011?line=6'>7</a>\u001b[0m     \u001b[39mcontinue\u001b[39;00m\n\u001b[1;32m      <a href='vscode-notebook-cell:/Users/joregan/Playing/notes/_notebooks/2022-04-16-extract-instaloader.ipynb#ch0000011?line=7'>8</a>\u001b[0m username \u001b[39m=\u001b[39m data[\u001b[39m'\u001b[39m\u001b[39mnode\u001b[39m\u001b[39m'\u001b[39m][\u001b[39m'\u001b[39m\u001b[39mowner\u001b[39m\u001b[39m'\u001b[39m][\u001b[39m'\u001b[39m\u001b[39musername\u001b[39m\u001b[39m'\u001b[39m]\n\u001b[0;32m----> <a href='vscode-notebook-cell:/Users/joregan/Playing/notes/_notebooks/2022-04-16-extract-instaloader.ipynb#ch0000011?line=8'>9</a>\u001b[0m short \u001b[39m=\u001b[39m data[\u001b[39m'\u001b[39;49m\u001b[39mnode\u001b[39;49m\u001b[39m'\u001b[39;49m][\u001b[39m'\u001b[39;49m\u001b[39mshortcode\u001b[39;49m\u001b[39m'\u001b[39;49m]\n\u001b[1;32m     <a href='vscode-notebook-cell:/Users/joregan/Playing/notes/_notebooks/2022-04-16-extract-instaloader.ipynb#ch0000011?line=9'>10</a>\u001b[0m urls \u001b[39m=\u001b[39m get_from_data(data)\n\u001b[1;32m     <a href='vscode-notebook-cell:/Users/joregan/Playing/notes/_notebooks/2022-04-16-extract-instaloader.ipynb#ch0000011?line=10'>11</a>\u001b[0m \u001b[39mfor\u001b[39;00m url \u001b[39min\u001b[39;00m urls:\n",
      "\u001b[0;31mKeyError\u001b[0m: 'shortcode'"
     ]
    }
   ],
   "source": [
    "with open(f\"/Users/joregan/Playing/400bcacf78036990182af6bbd7e41a71/instascrape-{datestr}.nt\", \"w\") as outf:\n",
    "    for xzfile in BASE.glob(\"**/*.xz\"):\n",
    "        jsons = lzma.open(xzfile).read().decode('utf-8')\n",
    "        data = json.loads(jsons)\n",
    "        if not 'owner' in data['node']:\n",
    "            print(f\"Skipping {str(xzfile)}\")\n",
    "            continue\n",
    "        if not 'shortcode' in data['node']:\n",
    "            print(f\"Missing shortcode: {str(xzfile)}\")\n",
    "            continue\n",
    "        username = data['node']['owner']['username']\n",
    "        short = data['node']['shortcode']\n",
    "        urls = get_from_data(data)\n",
    "        for url in urls:\n",
    "            outf.write(f\"<{url}> <http://xmlns.com/foaf/0.1/page> <https://www.instagram.com/p/{short}/?taken-by={username}>\\n\")\n",
    "        "
   ]
  }
 ],
 "metadata": {
  "interpreter": {
   "hash": "dd927b719e572b496e2474453a2ada7f45c90bda9f6c95960374c767a23741c2"
  },
  "kernelspec": {
   "display_name": "Python 3.8.12 ('psst')",
   "language": "python",
   "name": "python3"
  },
  "language_info": {
   "codemirror_mode": {
    "name": "ipython",
    "version": 3
   },
   "file_extension": ".py",
   "mimetype": "text/x-python",
   "name": "python",
   "nbconvert_exporter": "python",
   "pygments_lexer": "ipython3",
   "version": "3.8.12"
  },
  "orig_nbformat": 4
 },
 "nbformat": 4,
 "nbformat_minor": 2
}
