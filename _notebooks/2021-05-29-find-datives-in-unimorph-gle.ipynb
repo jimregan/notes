{
 "cells": [
  {
   "cell_type": "markdown",
   "metadata": {},
   "source": [
    "# Find datives in Unimorph\n",
    "\n",
    "> \"Doesn't work; Unimorph for Irish is basically useless\"\n",
    "\n",
    "- toc: false\n",
    "- branch: master\n",
    "- categories: [irish, unimorph]"
   ]
  },
  {
   "cell_type": "markdown",
   "metadata": {},
   "source": [
    "Unimorph's Irish extraction from Wiktionary is basically useless: nouns don't include gender, they extract contexts instead of forms, and only extract the first of multiple contexts; their tagset is bizarre and incomplete regarding Irish. About the only thing it's even _potentially_ good for is finding the dative forms of nouns (without doing a full wiktionary extraction)."
   ]
  },
  {
   "cell_type": "code",
   "execution_count": null,
   "metadata": {
    "execution": {
     "iopub.execute_input": "2021-05-29T19:33:50.243338Z",
     "iopub.status.busy": "2021-05-29T19:33:50.242766Z",
     "iopub.status.idle": "2021-05-29T19:33:50.453178Z",
     "shell.execute_reply": "2021-05-29T19:33:50.452146Z",
     "shell.execute_reply.started": "2021-05-29T19:33:50.243253Z"
    }
   },
   "outputs": [],
   "source": [
    "with open('../input/unimorph-gle/gle', 'r') as crap:\n",
    "    for line in crap.readlines():\n",
    "        if line.strip() == '':\n",
    "            continue\n",
    "        parts = line.split('\\t')\n",
    "        if len(parts) < 3:\n",
    "            print(f'Junk: <{parts[0]}> <{parts[1]}>')\n",
    "        if parts[2] == 'N;DAT;SG' and parts[0] != parts[1]:\n",
    "            print(f'{parts[0]}\\t{parts[1]}')\n",
    "        elif parts[2] == 'N;DAT;SG;DEF':\n",
    "            form = parts[2].replace('leis an ', '')\n",
    "            if len(form) > 3 and form[0:2] == 'bhf' or form[0:1] == 'n-':\n",
    "                if parts[0] != form[2:]:\n",
    "                    print(f'{parts[0]}\\t{form[2:]}')\n",
    "            elif len(form) > 2 and form[0:1] in ['mb', 'gc', 'nd', 'ng', 'bp', 'dt']:\n",
    "                if parts[0] != form[1:]:\n",
    "                    print(f'{parts[0]}\\t{form[1:]}')\n",
    "            else:\n",
    "                continue"
   ]
  }
 ],
 "metadata": {
  "kernelspec": {
   "display_name": "Python 3",
   "language": "python",
   "name": "python3"
  },
  "language_info": {
   "codemirror_mode": {
    "name": "ipython",
    "version": 3
   },
   "file_extension": ".py",
   "mimetype": "text/x-python",
   "name": "python",
   "nbconvert_exporter": "python",
   "pygments_lexer": "ipython3",
   "version": "3.6.9"
  }
 },
 "nbformat": 4,
 "nbformat_minor": 4
}
