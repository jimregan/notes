{
  "nbformat": 4,
  "nbformat_minor": 0,
  "metadata": {
    "colab": {
      "name": "get Polish IPA from enwiktionary.ipynb",
      "provenance": []
    },
    "kernelspec": {
      "name": "python3",
      "display_name": "Python 3"
    }
  },
  "cells": [
    {
      "cell_type": "markdown",
      "metadata": {
        "id": "Q-pNEmrXDkH9"
      },
      "source": [
        "https://dumps.wikimedia.org/enwiktionary/\n"
      ]
    },
    {
      "cell_type": "code",
      "metadata": {
        "id": "3nMO4xyfCo9T",
        "colab": {
          "base_uri": "https://localhost:8080/",
          "height": 224
        },
        "outputId": "4286dc51-b783-404b-b089-be794efa9c5a"
      },
      "source": [
        "!wget https://dumps.wikimedia.org/enwiktionary/20190501/enwiktionary-20190501-pages-articles-multistream.xml.bz2"
      ],
      "execution_count": null,
      "outputs": [
        {
          "output_type": "stream",
          "text": [
            "--2019-05-19 07:42:30--  https://dumps.wikimedia.org/enwiktionary/20190501/enwiktionary-20190501-pages-articles-multistream.xml.bz2\n",
            "Resolving dumps.wikimedia.org (dumps.wikimedia.org)... 208.80.155.106, 2620:0:861:4:208:80:155:106\n",
            "Connecting to dumps.wikimedia.org (dumps.wikimedia.org)|208.80.155.106|:443... connected.\n",
            "HTTP request sent, awaiting response... 200 OK\n",
            "Length: 859329387 (820M) [application/octet-stream]\n",
            "Saving to: ‘enwiktionary-20190501-pages-articles-multistream.xml.bz2’\n",
            "\n",
            "enwiktionary-201905 100%[===================>] 819.52M  1.95MB/s    in 7m 0s   \n",
            "\n",
            "2019-05-19 07:49:35 (1.95 MB/s) - ‘enwiktionary-20190501-pages-articles-multistream.xml.bz2’ saved [859329387/859329387]\n",
            "\n"
          ],
          "name": "stdout"
        }
      ]
    },
    {
      "cell_type": "code",
      "metadata": {
        "id": "oYEj5UUrEVEB"
      },
      "source": [
        "!bzcat enwiktionary-20190501-pages-articles-multistream.xml.bz2|grep '{{pl-IPA' > pl-ipa.txt"
      ],
      "execution_count": null,
      "outputs": []
    },
    {
      "cell_type": "code",
      "metadata": {
        "id": "T3NR309sFWE4"
      },
      "source": [
        "!gzip pl-ipa.txt"
      ],
      "execution_count": null,
      "outputs": []
    },
    {
      "cell_type": "code",
      "metadata": {
        "id": "hGDl2cWgFdaU",
        "colab": {
          "base_uri": "https://localhost:8080/",
          "height": 136
        },
        "outputId": "6808df42-1782-4cb7-b045-af2c3339e4f6"
      },
      "source": [
        "!git clone https://github.com/jimregan/wolnelektury-audio-corpus"
      ],
      "execution_count": null,
      "outputs": [
        {
          "output_type": "stream",
          "text": [
            "Cloning into 'wolnelektury-audio-corpus'...\n",
            "remote: Enumerating objects: 44, done.\u001b[K\n",
            "remote: Counting objects: 100% (44/44), done.\u001b[K\n",
            "remote: Compressing objects: 100% (33/33), done.\u001b[K\n",
            "remote: Total 342 (delta 16), reused 24 (delta 9), pack-reused 298\u001b[K\n",
            "Receiving objects: 100% (342/342), 9.02 MiB | 7.72 MiB/s, done.\n",
            "Resolving deltas: 100% (191/191), done.\n"
          ],
          "name": "stdout"
        }
      ]
    },
    {
      "cell_type": "code",
      "metadata": {
        "id": "ItMpgHtwFhzV"
      },
      "source": [
        "!bzcat enwiktionary-20190501-pages-articles-multistream.xml.bz2|perl wolnelektury-audio-corpus/extract-enwiktionary-ipa.pl > wikt-ipa.txt"
      ],
      "execution_count": null,
      "outputs": []
    }
  ]
}