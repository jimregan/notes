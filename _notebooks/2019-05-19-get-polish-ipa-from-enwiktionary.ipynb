{
  "nbformat": 4,
  "nbformat_minor": 0,
  "metadata": {
    "colab": {
      "name": "get Polish IPA from enwiktionary.ipynb",
      "provenance": []
    },
    "kernelspec": {
      "name": "python3",
      "display_name": "Python 3"
    }
  },
  "cells": [
    {
      "cell_type": "markdown",
      "metadata": {
        "id": "Q-pNEmrXDkH9"
      },
      "source": [
        "https://dumps.wikimedia.org/enwiktionary/\n"
      ]
    },
    {
      "cell_type": "code",
      "metadata": {
        "id": "3nMO4xyfCo9T"
      },
      "source": [
        "!wget https://dumps.wikimedia.org/enwiktionary/20190501/enwiktionary-20190501-pages-articles-multistream.xml.bz2"
      ],
      "execution_count": null,
      "outputs": []
    },
    {
      "cell_type": "code",
      "metadata": {
        "id": "hGDl2cWgFdaU"
      },
      "source": [
        "%%writefile extract-enwiktionary-ipa.pl\n",
        "#!/usr/bin/perl\n",
        "\n",
        "use warnings;\n",
        "use strict;\n",
        "use utf8;\n",
        "\n",
        "binmode(STDIN, \":utf8\");\n",
        "binmode(STDOUT, \":utf8\");\n",
        "binmode(STDERR, \":utf8\");\n",
        "\n",
        "my $title = '';\n",
        "my $polish_seen = 0;\n",
        "while(<>) {\n",
        "    if(/<title>([^<]*)<\\/title>/) {\n",
        "        $title = trim($1);\n",
        "        $polish_seen = 0;\n",
        "    } elsif(/== *Polish *==/) {\n",
        "        $polish_seen = 1;\n",
        "    } elsif(/== *([^=]*)==/) {\n",
        "        if($1 !~ /polish/i) {\n",
        "            $polish_seen = 0;\n",
        "        }\n",
        "    } elsif(/\\{\\{IPA\\|([^}]*)\\}\\}/) {\n",
        "        my $inner = $1;\n",
        "        if($inner =~ /\\|/) {\n",
        "            my @parts = split/\\|/, $inner;\n",
        "            if($#parts != 1) {\n",
        "                if($inner =~ /lang=pl$|lang=pl\\|/) {\n",
        "                    for my $part (@parts) {\n",
        "                        next if($part =~ /^lang=pl$/);\n",
        "                        print \"$title\\t$part\\n\";\n",
        "                    }\n",
        "                } else {\n",
        "                    next;\n",
        "                }\n",
        "            } else {\n",
        "                my $pron = ($parts[0] =~ /lang=/) ? $parts[1] : $parts[0];\n",
        "                my $lang = ($parts[0] =~ /lang=/) ? $parts[0] : $parts[1];\n",
        "                if($lang =~ /=pl$/) {\n",
        "                    print \"$title\\t$pron\\n\";\n",
        "                } else {\n",
        "                    next;\n",
        "                }\n",
        "            }\n",
        "        } elsif($polish_seen) {\n",
        "            print \"CHECK:\\t$title\\$inner\\n\";\n",
        "        } else {\n",
        "            next;\n",
        "        }\n",
        "        $polish_seen = 0;\n",
        "    } else {\n",
        "        next;\n",
        "    }\n",
        "}\n",
        "\n",
        "sub trim {\n",
        "    my $var = shift;\n",
        "    $var =~ s/^ *//;\n",
        "    $var =~ s/ *$//;\n",
        "    $var;\n",
        "}"
      ],
      "execution_count": null,
      "outputs": []
    },
    {
      "cell_type": "code",
      "metadata": {
        "id": "ItMpgHtwFhzV"
      },
      "source": [
        "!bzcat enwiktionary-20190501-pages-articles-multistream.xml.bz2|perl extract-enwiktionary-ipa.pl > wikt-ipa.txt"
      ],
      "execution_count": null,
      "outputs": []
    }
  ]
}