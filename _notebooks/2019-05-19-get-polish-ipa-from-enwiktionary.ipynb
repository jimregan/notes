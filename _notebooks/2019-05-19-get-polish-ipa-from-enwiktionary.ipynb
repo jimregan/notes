{
  "nbformat": 4,
  "nbformat_minor": 0,
  "metadata": {
    "colab": {
      "name": "get Polish IPA from enwiktionary.ipynb",
      "provenance": []
    },
    "kernelspec": {
      "name": "python3",
      "display_name": "Python 3"
    }
  },
  "cells": [
    {
      "cell_type": "markdown",
      "metadata": {
        "id": "Q-pNEmrXDkH9"
      },
      "source": [
        "https://dumps.wikimedia.org/enwiktionary/\n"
      ]
    },
    {
      "cell_type": "code",
      "metadata": {
        "id": "3nMO4xyfCo9T"
      },
      "source": [
        "!wget https://dumps.wikimedia.org/enwiktionary/20190501/enwiktionary-20190501-pages-articles-multistream.xml.bz2"
      ],
      "execution_count": null,
      "outputs": []
    },
    {
      "cell_type": "code",
      "metadata": {
        "id": "hGDl2cWgFdaU",
        "colab": {
          "base_uri": "https://localhost:8080/",
          "height": 136
        },
        "outputId": "6808df42-1782-4cb7-b045-af2c3339e4f6"
      },
      "source": [
        "%%writefile extract-enwiktionary-ipa.pl\n",
        "#!/usr/bin/perl\n",
        "\n",
        "use warnings;\n",
        "use strict;\n",
        "use utf8;\n",
        "\n",
        "binmode(STDIN, \":utf8\");\n",
        "binmode(STDOUT, \":utf8\");\n",
        "binmode(STDERR, \":utf8\");\n",
        "\n",
        "my $title = '';\n",
        "my $polish_seen = 0;\n",
        "while(<>) {\n",
        "    if(/<title>([^<]*)<\\/title>/) {\n",
        "        $title = trim($1);\n",
        "        $polish_seen = 0;\n",
        "    }\n",
        "    if(/== *(.*)\\(\\{\\{język ([^}]*)\\}\\}\\) *==/) {\n",
        "        my $lang = $2;\n",
        "        if($lang eq 'polski') {\n",
        "            $polish_seen = 1;\n",
        "        } else {\n",
        "            $polish_seen = 0;\n",
        "        }\n",
        "    }\n",
        "    if($polish_seen) {\n",
        "        my $orth = '';\n",
        "        if(/\\{\\{ortograficzny\\|([^}]*)\\}\\}/) {\n",
        "            $orth = $1;\n",
        "        }\n",
        "        if(/\\{\\{IPA3\\|([^}]*)\\}\\}/) {\n",
        "            my $pron = $1;\n",
        "            doentry($title, $orth, $pron);\n",
        "        } else {\n",
        "            doentry($title, $orth, '');\n",
        "        }\n",
        "    }\n",
        "}\n",
        "\n",
        "sub trim {\n",
        "    my $var = shift;\n",
        "    $var =~ s/^ *//;\n",
        "    $var =~ s/ *$//;\n",
        "    $var;\n",
        "}\n",
        "\n",
        "sub doentry {\n",
        "    my $title = $_[0];\n",
        "    my $orth = $_[1];\n",
        "    my $pron = $_[2];\n",
        "\n",
        "    $pron =~ s/\\&lt;sup\\&gt;j\\&lt;\\/sup\\&gt;/ʲ/g;\n",
        "    $pron =~ s/\\&lt;sup\\&gt;w\\&lt;\\/sup\\&gt;/ʷ/g;\n",
        "    $pron =~ s/'''//g;\n",
        "\n",
        "    # skip in current dump - 'masy' is given the pronunciation of 'ludzie'\n",
        "    return if($title eq 'masy');\n",
        "    if($title eq 'kipiatok') {\n",
        "        print \"kipiatok\\tcipʲjaˈtɔk\\t\";\n",
        "    }\n",
        "    \n",
        "    my $orth_out = '';\n",
        "    if($pron eq '') {\n",
        "        print \"$title\\t\\t$orth\\n\" if($orth ne '');\n",
        "    } else {\n",
        "        if($pron =~ /\\|/) {\n",
        "            for my $part (split/\\|/, $pron) {\n",
        "                print \"$title\\t$part\\t$orth\\n\";\n",
        "            }\n",
        "        } else {\n",
        "            print \"$title\\t$pron\\t$orth\\n\";\n",
        "        }\n",
        "    }\n",
        "}"
      ],
      "execution_count": null,
      "outputs": [
        {
          "output_type": "stream",
          "text": [
            "Cloning into 'wolnelektury-audio-corpus'...\n",
            "remote: Enumerating objects: 44, done.\u001b[K\n",
            "remote: Counting objects: 100% (44/44), done.\u001b[K\n",
            "remote: Compressing objects: 100% (33/33), done.\u001b[K\n",
            "remote: Total 342 (delta 16), reused 24 (delta 9), pack-reused 298\u001b[K\n",
            "Receiving objects: 100% (342/342), 9.02 MiB | 7.72 MiB/s, done.\n",
            "Resolving deltas: 100% (191/191), done.\n"
          ],
          "name": "stdout"
        }
      ]
    },
    {
      "cell_type": "code",
      "metadata": {
        "id": "ItMpgHtwFhzV"
      },
      "source": [
        "!bzcat enwiktionary-20190501-pages-articles-multistream.xml.bz2|perl extract-enwiktionary-ipa.pl > wikt-ipa.txt"
      ],
      "execution_count": null,
      "outputs": []
    }
  ]
}