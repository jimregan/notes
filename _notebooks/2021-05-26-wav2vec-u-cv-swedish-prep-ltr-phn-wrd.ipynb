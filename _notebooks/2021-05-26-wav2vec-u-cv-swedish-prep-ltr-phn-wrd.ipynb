{
 "cells": [
  {
   "cell_type": "markdown",
   "id": "elder-place",
   "metadata": {
    "papermill": {
     "duration": 0.01368,
     "end_time": "2021-05-26T12:37:44.763879",
     "exception": false,
     "start_time": "2021-05-26T12:37:44.750199",
     "status": "completed"
    },
    "tags": []
   },
   "source": [
    "In the section [Preparation of speech and text data](https://github.com/pytorch/fairseq/tree/master/examples/wav2vec/unsupervised#preparation-of-speech-and-text-data) of the readme, it says:\n",
    "\n",
    "> Similar to [wav2vec 2.0](https://github.com/pytorch/fairseq/blob/master/examples/wav2vec/README.md),  data folders contain {train,valid,test}.{tsv,wrd,phn} files, where audio paths are stored in tsv files, and word, letter or phoneme transcriptions are stored in .{wrd,ltr,phn}.\n",
    "\n",
    "The `.wrd` and `.ltr` files are outputs of `libri_labels.py`"
   ]
  },
  {
   "cell_type": "code",
   "execution_count": 1,
   "id": "bulgarian-mobile",
   "metadata": {
    "execution": {
     "iopub.execute_input": "2021-05-26T12:37:44.813393Z",
     "iopub.status.busy": "2021-05-26T12:37:44.800924Z",
     "iopub.status.idle": "2021-05-26T12:37:54.182763Z",
     "shell.execute_reply": "2021-05-26T12:37:54.182053Z",
     "shell.execute_reply.started": "2021-05-26T12:15:49.572241Z"
    },
    "papermill": {
     "duration": 9.406174,
     "end_time": "2021-05-26T12:37:54.182946",
     "exception": false,
     "start_time": "2021-05-26T12:37:44.776772",
     "status": "completed"
    },
    "tags": []
   },
   "outputs": [],
   "source": [
    "%%capture\n",
    "!pip install phonemizer"
   ]
  },
  {
   "cell_type": "code",
   "execution_count": 2,
   "id": "advance-finance",
   "metadata": {
    "execution": {
     "iopub.execute_input": "2021-05-26T12:37:54.219397Z",
     "iopub.status.busy": "2021-05-26T12:37:54.215669Z",
     "iopub.status.idle": "2021-05-26T12:38:00.608987Z",
     "shell.execute_reply": "2021-05-26T12:38:00.608423Z",
     "shell.execute_reply.started": "2021-05-26T12:16:00.191624Z"
    },
    "papermill": {
     "duration": 6.413211,
     "end_time": "2021-05-26T12:38:00.609140",
     "exception": false,
     "start_time": "2021-05-26T12:37:54.195929",
     "status": "completed"
    },
    "tags": []
   },
   "outputs": [],
   "source": [
    "%%capture\n",
    "!apt-get -y install espeak"
   ]
  },
  {
   "cell_type": "code",
   "execution_count": 3,
   "id": "impressed-uncertainty",
   "metadata": {
    "execution": {
     "iopub.execute_input": "2021-05-26T12:38:00.642124Z",
     "iopub.status.busy": "2021-05-26T12:38:00.641156Z",
     "iopub.status.idle": "2021-05-26T12:38:05.611477Z",
     "shell.execute_reply": "2021-05-26T12:38:05.610253Z",
     "shell.execute_reply.started": "2021-05-26T12:16:07.537282Z"
    },
    "papermill": {
     "duration": 4.989614,
     "end_time": "2021-05-26T12:38:05.611634",
     "exception": false,
     "start_time": "2021-05-26T12:38:00.622020",
     "status": "completed"
    },
    "tags": []
   },
   "outputs": [],
   "source": [
    "%%capture\n",
    "!apt-get -y install zsh"
   ]
  },
  {
   "cell_type": "markdown",
   "id": "permanent-threat",
   "metadata": {
    "papermill": {
     "duration": 0.012723,
     "end_time": "2021-05-26T12:38:05.637514",
     "exception": false,
     "start_time": "2021-05-26T12:38:05.624791",
     "status": "completed"
    },
    "tags": []
   },
   "source": [
    "This is just my best guess at what the `.wrd` files contain - it seems to match up with what `libri_labels.py` does: given input like\n",
    "```\n",
    "1272-128104-0000 MISTER QUILTER IS THE APOSTLE OF THE MIDDLE CLASSES AND WE ARE GLAD TO WELCOME HIS GOSPEL\n",
    "```\n",
    "it does `\" \".join(items[1:])`, which is basically the same"
   ]
  },
  {
   "cell_type": "code",
   "execution_count": 4,
   "id": "incorporate-school",
   "metadata": {
    "execution": {
     "iopub.execute_input": "2021-05-26T12:38:05.676516Z",
     "iopub.status.busy": "2021-05-26T12:38:05.675753Z",
     "iopub.status.idle": "2021-05-26T12:38:07.953293Z",
     "shell.execute_reply": "2021-05-26T12:38:07.952705Z",
     "shell.execute_reply.started": "2021-05-26T12:16:13.522788Z"
    },
    "papermill": {
     "duration": 2.303069,
     "end_time": "2021-05-26T12:38:07.953459",
     "exception": false,
     "start_time": "2021-05-26T12:38:05.650390",
     "status": "completed"
    },
    "tags": []
   },
   "outputs": [],
   "source": [
    "!cat /kaggle/input/download-common-voice-swedish/cv-corpus-6.1-2020-12-11/sv-SE/test.tsv | awk -F'\\t' '{print $3}'|grep -v '^sentence$' | perl -C7 -ane 'chomp;$_=lc($_);s/[^\\p{L}\\p{N}\\p{M}'\"\\'\"' \\-]/ /g;s/  +/ /g;s/ $//;s/^ //;print \"$_\\n\";' > test.wrd\n",
    "!cat /kaggle/input/download-common-voice-swedish/cv-corpus-6.1-2020-12-11/sv-SE/dev.tsv | awk -F'\\t' '{print $3}'|grep -v '^sentence$' | perl -C7 -ane 'chomp;$_=lc($_);s/[^\\p{L}\\p{N}\\p{M}'\"\\'\"' \\-]/ /g;s/  +/ /g;s/ $//;s/^ //;print \"$_\\n\";' > valid.wrd\n",
    "!cat /kaggle/input/download-common-voice-swedish/cv-corpus-6.1-2020-12-11/sv-SE/train.tsv | awk -F'\\t' '{print $3}'|grep -v '^sentence$' | perl -C7 -ane 'chomp;$_=lc($_);s/[^\\p{L}\\p{N}\\p{M}'\"\\'\"' \\-]/ /g;s/  +/ /g;s/ $//;s/^ //;print \"$_\\n\";' > train.wrd\n"
   ]
  },
  {
   "cell_type": "code",
   "execution_count": 5,
   "id": "blind-disaster",
   "metadata": {
    "execution": {
     "iopub.execute_input": "2021-05-26T12:38:07.986594Z",
     "iopub.status.busy": "2021-05-26T12:38:07.985331Z",
     "iopub.status.idle": "2021-05-26T12:38:08.010427Z",
     "shell.execute_reply": "2021-05-26T12:38:08.009760Z",
     "shell.execute_reply.started": "2021-05-26T12:17:09.299107Z"
    },
    "papermill": {
     "duration": 0.044182,
     "end_time": "2021-05-26T12:38:08.010581",
     "exception": false,
     "start_time": "2021-05-26T12:38:07.966399",
     "status": "completed"
    },
    "tags": []
   },
   "outputs": [],
   "source": [
    "for i in ['train', 'test', 'valid']:\n",
    "    with open(f'/kaggle/working/{i}.wrd', 'r') as inf, open(f'/kaggle/working/{i}.ltr', 'w') as out:\n",
    "        for line in inf.readlines():\n",
    "            print(\" \".join(list(line.strip().replace(\" \", \"|\"))) + \" |\", file=out)"
   ]
  },
  {
   "cell_type": "code",
   "execution_count": 6,
   "id": "banner-insider",
   "metadata": {
    "execution": {
     "iopub.execute_input": "2021-05-26T12:38:08.045741Z",
     "iopub.status.busy": "2021-05-26T12:38:08.044539Z",
     "iopub.status.idle": "2021-05-26T12:38:08.770365Z",
     "shell.execute_reply": "2021-05-26T12:38:08.770965Z",
     "shell.execute_reply.started": "2021-05-26T12:17:12.181059Z"
    },
    "papermill": {
     "duration": 0.747763,
     "end_time": "2021-05-26T12:38:08.771244",
     "exception": false,
     "start_time": "2021-05-26T12:38:08.023481",
     "status": "completed"
    },
    "tags": []
   },
   "outputs": [
    {
     "name": "stdout",
     "output_type": "stream",
     "text": [
      "v a d | ä r | d e t | i | e u r o |\r\n",
      "d u | s k a | v e t a | a t t | d e t | ä r | d u | s o m | h a r | f e l |\r\n",
      "g å | n e r | p å | k n ä |\r\n",
      "f ö r s t | m å s t e | j a g | s l å | s ö n d e r | d e n | d ä r | s t o r a | s k r o t h ö g e n |\r\n",
      "d e t | b l i r | s v å r t |\r\n",
      "v a d | f ö r | j ä v l a | f r å g a | ä r | d e t |\r\n",
      "j a g | å t e r v ä n d e r | i n t e | t i l l | s k i t h å l e t |\r\n",
      "t i t t a | p å | s ö m m a r n a |\r\n",
      "f e s | d u | p r e c i s |\r\n",
      "a k t r i s e r | h a r | e t t | b ä s t | f ö r e d a t u m |\r\n"
     ]
    }
   ],
   "source": [
    "!head train.ltr"
   ]
  },
  {
   "cell_type": "markdown",
   "id": "worldwide-soccer",
   "metadata": {
    "papermill": {
     "duration": 0.01296,
     "end_time": "2021-05-26T12:38:08.798307",
     "exception": false,
     "start_time": "2021-05-26T12:38:08.785347",
     "status": "completed"
    },
    "tags": []
   },
   "source": [
    "There are some warnings about switching, so echo the filename first to known where the errors are"
   ]
  },
  {
   "cell_type": "code",
   "execution_count": 7,
   "id": "appointed-project",
   "metadata": {
    "execution": {
     "iopub.execute_input": "2021-05-26T12:38:08.836501Z",
     "iopub.status.busy": "2021-05-26T12:38:08.835574Z",
     "iopub.status.idle": "2021-05-26T12:39:56.518195Z",
     "shell.execute_reply": "2021-05-26T12:39:56.517404Z",
     "shell.execute_reply.started": "2021-05-26T10:03:43.267937Z"
    },
    "papermill": {
     "duration": 107.706354,
     "end_time": "2021-05-26T12:39:56.518364",
     "exception": false,
     "start_time": "2021-05-26T12:38:08.812010",
     "status": "completed"
    },
    "tags": []
   },
   "outputs": [
    {
     "name": "stdout",
     "output_type": "stream",
     "text": [
      "train.wrd\r\n",
      "[WARNING] 2 utterances containing language switches on lines 254, 1457\r\n",
      "[WARNING] extra phones may appear in the \"sv\" phoneset\r\n",
      "[WARNING] language switch flags have been removed (applying \"remove-flags\" policy)\r\n",
      "test.wrd\r\n",
      "[WARNING] 1 utterances containing language switches on lines 81\r\n",
      "[WARNING] extra phones may appear in the \"sv\" phoneset\r\n",
      "[WARNING] language switch flags have been removed (applying \"remove-flags\" policy)\r\n",
      "valid.wrd\r\n",
      "[WARNING] 1 utterances containing language switches on lines 1831\r\n",
      "[WARNING] extra phones may appear in the \"sv\" phoneset\r\n",
      "[WARNING] language switch flags have been removed (applying \"remove-flags\" policy)\r\n"
     ]
    }
   ],
   "source": [
    "!for i in train test valid; do echo $i.wrd; cat $i.wrd | PHONEMIZER_ESPEAK_PATH=$(which espeak) phonemize -o $i.phn -p ' ' -w '' -l sv  -j 70 --language-switch remove-flags ;done"
   ]
  },
  {
   "cell_type": "code",
   "execution_count": 8,
   "id": "educated-walter",
   "metadata": {
    "execution": {
     "iopub.execute_input": "2021-05-26T12:39:56.557967Z",
     "iopub.status.busy": "2021-05-26T12:39:56.557293Z",
     "iopub.status.idle": "2021-05-26T12:39:58.716812Z",
     "shell.execute_reply": "2021-05-26T12:39:58.716241Z",
     "shell.execute_reply.started": "2021-05-26T10:14:15.138707Z"
    },
    "papermill": {
     "duration": 2.181883,
     "end_time": "2021-05-26T12:39:58.716980",
     "exception": false,
     "start_time": "2021-05-26T12:39:56.535097",
     "status": "completed"
    },
    "tags": []
   },
   "outputs": [
    {
     "name": "stdout",
     "output_type": "stream",
     "text": [
      "det är taskigt\r\n",
      "och så unik design\r\n",
      "internet slutade fungera\r\n",
      "det finns inget internet\r\n"
     ]
    }
   ],
   "source": [
    "!cat test.wrd|awk 'BEGIN{ln=1}{if(ln==81){print $0};ln++}'\n",
    "!cat train.wrd|awk 'BEGIN{ln=1}{if(ln==254||ln==1457){print $0};ln++}'\n",
    "!cat valid.wrd|awk 'BEGIN{ln=1}{if(ln==1831){print $0};ln++}'"
   ]
  },
  {
   "cell_type": "code",
   "execution_count": 9,
   "id": "improved-oliver",
   "metadata": {
    "execution": {
     "iopub.execute_input": "2021-05-26T12:39:58.760164Z",
     "iopub.status.busy": "2021-05-26T12:39:58.759313Z",
     "iopub.status.idle": "2021-05-26T12:40:00.916064Z",
     "shell.execute_reply": "2021-05-26T12:40:00.916638Z",
     "shell.execute_reply.started": "2021-05-26T10:15:19.869013Z"
    },
    "papermill": {
     "duration": 2.183256,
     "end_time": "2021-05-26T12:40:00.916831",
     "exception": false,
     "start_time": "2021-05-26T12:39:58.733575",
     "status": "completed"
    },
    "tags": []
   },
   "outputs": [
    {
     "name": "stdout",
     "output_type": "stream",
     "text": [
      "d eː t ɛː r  t a s k ɪ ɡ t  \r\n",
      "ɔ k s oː ɵ n iː k  d ɪ z aɪ n  \r\n",
      " ɪ n t ə n ɛ t  s l ʉ t a d ə f ɵ n ɡ eː r a \r\n",
      "d eː t f ɪ n s ɪ ŋ ə t  ɪ n t ə n ɛ t  \r\n"
     ]
    }
   ],
   "source": [
    "!cat test.phn|awk 'BEGIN{ln=1}{if(ln==81){print $0};ln++}'\n",
    "!cat train.phn|awk 'BEGIN{ln=1}{if(ln==254||ln==1457){print $0};ln++}'\n",
    "!cat valid.phn|awk 'BEGIN{ln=1}{if(ln==1831){print $0};ln++}'"
   ]
  },
  {
   "cell_type": "markdown",
   "id": "israeli-weekly",
   "metadata": {
    "papermill": {
     "duration": 0.017667,
     "end_time": "2021-05-26T12:40:00.951300",
     "exception": false,
     "start_time": "2021-05-26T12:40:00.933633",
     "status": "completed"
    },
    "tags": []
   },
   "source": [
    "\"design\" and \"internet\" are clearly the English words that are causing the switch in their respective sentences, but I'm not sure what the problem in test.wrd is: \"taskigt\"?\n",
    "* [design](https://en.wiktionary.org/wiki/design#Swedish) `/dɛˈsajn/`\n",
    "* [internet](https://en.wiktionary.org/wiki/internet#Swedish) `/ˈɪntɛrnɛt/, /ɪntɛrˈnɛt/`"
   ]
  },
  {
   "cell_type": "code",
   "execution_count": 10,
   "id": "better-remedy",
   "metadata": {
    "execution": {
     "iopub.execute_input": "2021-05-26T12:40:00.988451Z",
     "iopub.status.busy": "2021-05-26T12:40:00.987802Z",
     "iopub.status.idle": "2021-05-26T12:40:01.760770Z",
     "shell.execute_reply": "2021-05-26T12:40:01.760247Z",
     "shell.execute_reply.started": "2021-05-26T10:58:28.963048Z"
    },
    "papermill": {
     "duration": 0.792793,
     "end_time": "2021-05-26T12:40:01.760936",
     "exception": false,
     "start_time": "2021-05-26T12:40:00.968143",
     "status": "completed"
    },
    "tags": []
   },
   "outputs": [
    {
     "name": "stdout",
     "output_type": "stream",
     "text": [
      " (en)tˈaskɪɡt(sv)\r\n"
     ]
    }
   ],
   "source": [
    "!echo taskigt|espeak -v sv --ipa 2> /dev/null"
   ]
  },
  {
   "cell_type": "code",
   "execution_count": 11,
   "id": "about-custom",
   "metadata": {
    "execution": {
     "iopub.execute_input": "2021-05-26T12:40:01.807815Z",
     "iopub.status.busy": "2021-05-26T12:40:01.807126Z",
     "iopub.status.idle": "2021-05-26T12:40:06.122575Z",
     "shell.execute_reply": "2021-05-26T12:40:06.121998Z"
    },
    "papermill": {
     "duration": 4.344409,
     "end_time": "2021-05-26T12:40:06.122716",
     "exception": false,
     "start_time": "2021-05-26T12:40:01.778307",
     "status": "completed"
    },
    "tags": []
   },
   "outputs": [],
   "source": [
    "!cat test.phn|sed -e 's/^ //;s/t a s k ɪ ɡ t/t a s k ɪ t/' > tmp\n",
    "!mv tmp test.phn\n",
    "!cat train.phn|sed -e 's/^ //;s/d ɪ z aɪ n/d ɛ s a j n/;s/ɪ n t ə n ɛ t/ɪ n t ɛ r n ɛ t/' > tmp\n",
    "!mv tmp train.phn\n",
    "!cat valid.phn|sed -e 's/^ //;s/ɪ n t ə n ɛ t/ɪ n t ɛ r n ɛ t/' > tmp\n",
    "!mv tmp valid.phn"
   ]
  },
  {
   "cell_type": "code",
   "execution_count": 12,
   "id": "renewable-density",
   "metadata": {
    "execution": {
     "iopub.execute_input": "2021-05-26T12:40:06.160652Z",
     "iopub.status.busy": "2021-05-26T12:40:06.159997Z",
     "iopub.status.idle": "2021-05-26T12:41:57.121250Z",
     "shell.execute_reply": "2021-05-26T12:41:57.120630Z"
    },
    "papermill": {
     "duration": 110.98136,
     "end_time": "2021-05-26T12:41:57.121420",
     "exception": false,
     "start_time": "2021-05-26T12:40:06.140060",
     "status": "completed"
    },
    "tags": []
   },
   "outputs": [],
   "source": [
    "!for i in train test valid; do cat $i.wrd|tr ' ' '\\n'|sort|uniq > /tmp/$i.wl; cat /tmp/$i.wl |grep -v '^internet$'|grep -v '^design$'|grep -v '^taskigt$' | PHONEMIZER_ESPEAK_PATH=$(which espeak) phonemize -o /tmp/$i.wl.phn -p ' ' -w '' -l sv  -j 70 --language-switch remove-flags;paste /tmp/$i.wl /tmp/$i.wl.phn > dict.$i; done\n",
    "!printf \"taskigt\\tt a s k ɪ t\\n\" >> dict.test\n",
    "!printf \"design\\td ɛ s a j n\\n\" >> dict.train\n",
    "!printf \"internet\\tɪ n t ɛ r n ɛ t\\n\" >> dict.train\n",
    "!printf \"internet\\tɪ n t ɛ r n ɛ t\\n\" >> dict.valid"
   ]
  },
  {
   "cell_type": "markdown",
   "id": "sporting-circle",
   "metadata": {
    "papermill": {
     "duration": 0.017345,
     "end_time": "2021-05-26T12:41:57.156362",
     "exception": false,
     "start_time": "2021-05-26T12:41:57.139017",
     "status": "completed"
    },
    "tags": []
   },
   "source": [
    "*taskigt: `/taskɪkt/`"
   ]
  }
 ],
 "metadata": {
  "kernelspec": {
   "display_name": "Python 3",
   "language": "python",
   "name": "python3"
  },
  "language_info": {
   "codemirror_mode": {
    "name": "ipython",
    "version": 3
   },
   "file_extension": ".py",
   "mimetype": "text/x-python",
   "name": "python",
   "nbconvert_exporter": "python",
   "pygments_lexer": "ipython3",
   "version": "3.7.10"
  },
  "papermill": {
   "default_parameters": {},
   "duration": 261.993806,
   "end_time": "2021-05-26T12:41:58.500964",
   "environment_variables": {},
   "exception": null,
   "input_path": "__notebook__.ipynb",
   "output_path": "__notebook__.ipynb",
   "parameters": {},
   "start_time": "2021-05-26T12:37:36.507158",
   "version": "2.3.3"
  }
 },
 "nbformat": 4,
 "nbformat_minor": 5
}
