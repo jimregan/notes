{
 "cells": [
  {
   "cell_type": "markdown",
   "id": "tropical-trading",
   "metadata": {
    "papermill": {
     "duration": 0.014534,
     "end_time": "2021-05-26T13:31:55.143540",
     "exception": false,
     "start_time": "2021-05-26T13:31:55.129006",
     "status": "completed"
    },
    "tags": []
   },
   "source": [
    "In the section [Preparation of speech and text data](https://github.com/pytorch/fairseq/tree/master/examples/wav2vec/unsupervised#preparation-of-speech-and-text-data) of the readme, it says:\n",
    "\n",
    "> Similar to [wav2vec 2.0](https://github.com/pytorch/fairseq/blob/master/examples/wav2vec/README.md),  data folders contain {train,valid,test}.{tsv,wrd,phn} files, where audio paths are stored in tsv files, and word, letter or phoneme transcriptions are stored in .{wrd,ltr,phn}.\n",
    "\n",
    "The `.wrd` and `.ltr` files are outputs of `libri_labels.py`"
   ]
  },
  {
   "cell_type": "code",
   "execution_count": 1,
   "id": "rubber-monitoring",
   "metadata": {
    "execution": {
     "iopub.execute_input": "2021-05-26T13:31:55.173546Z",
     "iopub.status.busy": "2021-05-26T13:31:55.172372Z",
     "iopub.status.idle": "2021-05-26T13:32:07.383880Z",
     "shell.execute_reply": "2021-05-26T13:32:07.383045Z",
     "shell.execute_reply.started": "2021-05-26T12:15:49.572241Z"
    },
    "papermill": {
     "duration": 12.227413,
     "end_time": "2021-05-26T13:32:07.384049",
     "exception": false,
     "start_time": "2021-05-26T13:31:55.156636",
     "status": "completed"
    },
    "tags": []
   },
   "outputs": [],
   "source": [
    "%%capture\n",
    "!pip install phonemizer"
   ]
  },
  {
   "cell_type": "code",
   "execution_count": 2,
   "id": "after-twins",
   "metadata": {
    "execution": {
     "iopub.execute_input": "2021-05-26T13:32:07.418082Z",
     "iopub.status.busy": "2021-05-26T13:32:07.417165Z",
     "iopub.status.idle": "2021-05-26T13:32:15.779396Z",
     "shell.execute_reply": "2021-05-26T13:32:15.778846Z",
     "shell.execute_reply.started": "2021-05-26T12:16:00.191624Z"
    },
    "papermill": {
     "duration": 8.382507,
     "end_time": "2021-05-26T13:32:15.779544",
     "exception": false,
     "start_time": "2021-05-26T13:32:07.397037",
     "status": "completed"
    },
    "tags": []
   },
   "outputs": [],
   "source": [
    "%%capture\n",
    "!apt-get -y install espeak"
   ]
  },
  {
   "cell_type": "code",
   "execution_count": 3,
   "id": "relative-angola",
   "metadata": {
    "execution": {
     "iopub.execute_input": "2021-05-26T13:32:15.816275Z",
     "iopub.status.busy": "2021-05-26T13:32:15.811852Z",
     "iopub.status.idle": "2021-05-26T13:32:22.529203Z",
     "shell.execute_reply": "2021-05-26T13:32:22.528650Z",
     "shell.execute_reply.started": "2021-05-26T12:16:07.537282Z"
    },
    "papermill": {
     "duration": 6.736812,
     "end_time": "2021-05-26T13:32:22.529386",
     "exception": false,
     "start_time": "2021-05-26T13:32:15.792574",
     "status": "completed"
    },
    "tags": []
   },
   "outputs": [],
   "source": [
    "%%capture\n",
    "!apt-get -y install zsh"
   ]
  },
  {
   "cell_type": "markdown",
   "id": "municipal-gravity",
   "metadata": {
    "papermill": {
     "duration": 0.013833,
     "end_time": "2021-05-26T13:32:22.557347",
     "exception": false,
     "start_time": "2021-05-26T13:32:22.543514",
     "status": "completed"
    },
    "tags": []
   },
   "source": [
    "This is just my best guess at what the `.wrd` files contain - it seems to match up with what `libri_labels.py` does: given input like\n",
    "```\n",
    "1272-128104-0000 MISTER QUILTER IS THE APOSTLE OF THE MIDDLE CLASSES AND WE ARE GLAD TO WELCOME HIS GOSPEL\n",
    "```\n",
    "it does `\" \".join(items[1:])`, which is basically the same"
   ]
  },
  {
   "cell_type": "code",
   "execution_count": 4,
   "id": "tight-turtle",
   "metadata": {
    "execution": {
     "iopub.execute_input": "2021-05-26T13:32:22.600277Z",
     "iopub.status.busy": "2021-05-26T13:32:22.599455Z",
     "iopub.status.idle": "2021-05-26T13:32:24.910979Z",
     "shell.execute_reply": "2021-05-26T13:32:24.910300Z",
     "shell.execute_reply.started": "2021-05-26T12:16:13.522788Z"
    },
    "papermill": {
     "duration": 2.339359,
     "end_time": "2021-05-26T13:32:24.911150",
     "exception": false,
     "start_time": "2021-05-26T13:32:22.571791",
     "status": "completed"
    },
    "tags": []
   },
   "outputs": [],
   "source": [
    "!cat /kaggle/input/download-common-voice-swedish/cv-corpus-6.1-2020-12-11/sv-SE/test.tsv | awk -F'\\t' '{print $3}'|grep -v '^sentence$' | perl -C7 -ane 'chomp;$_=lc($_);s/[^\\p{L}\\p{N}\\p{M}'\"\\'\"' \\-]/ /g;s/  +/ /g;s/ $//;s/^ //;print \"$_\\n\";' > test.wrd\n",
    "!cat /kaggle/input/download-common-voice-swedish/cv-corpus-6.1-2020-12-11/sv-SE/dev.tsv | awk -F'\\t' '{print $3}'|grep -v '^sentence$' | perl -C7 -ane 'chomp;$_=lc($_);s/[^\\p{L}\\p{N}\\p{M}'\"\\'\"' \\-]/ /g;s/  +/ /g;s/ $//;s/^ //;print \"$_\\n\";' > valid.wrd\n",
    "!cat /kaggle/input/download-common-voice-swedish/cv-corpus-6.1-2020-12-11/sv-SE/train.tsv | awk -F'\\t' '{print $3}'|grep -v '^sentence$' | perl -C7 -ane 'chomp;$_=lc($_);s/[^\\p{L}\\p{N}\\p{M}'\"\\'\"' \\-]/ /g;s/  +/ /g;s/ $//;s/^ //;print \"$_\\n\";' > train.wrd\n"
   ]
  },
  {
   "cell_type": "code",
   "execution_count": 5,
   "id": "spatial-black",
   "metadata": {
    "execution": {
     "iopub.execute_input": "2021-05-26T13:32:24.942021Z",
     "iopub.status.busy": "2021-05-26T13:32:24.941370Z",
     "iopub.status.idle": "2021-05-26T13:32:24.968069Z",
     "shell.execute_reply": "2021-05-26T13:32:24.968605Z",
     "shell.execute_reply.started": "2021-05-26T12:17:09.299107Z"
    },
    "papermill": {
     "duration": 0.044371,
     "end_time": "2021-05-26T13:32:24.968792",
     "exception": false,
     "start_time": "2021-05-26T13:32:24.924421",
     "status": "completed"
    },
    "tags": []
   },
   "outputs": [],
   "source": [
    "for i in ['train', 'test', 'valid']:\n",
    "    with open(f'/kaggle/working/{i}.wrd', 'r') as inf, open(f'/kaggle/working/{i}.ltr', 'w') as out:\n",
    "        for line in inf.readlines():\n",
    "            print(\" \".join(list(line.strip().replace(\" \", \"|\"))) + \" |\", file=out)"
   ]
  },
  {
   "cell_type": "code",
   "execution_count": 6,
   "id": "korean-cruise",
   "metadata": {
    "execution": {
     "iopub.execute_input": "2021-05-26T13:32:24.999428Z",
     "iopub.status.busy": "2021-05-26T13:32:24.998755Z",
     "iopub.status.idle": "2021-05-26T13:32:25.730708Z",
     "shell.execute_reply": "2021-05-26T13:32:25.730184Z",
     "shell.execute_reply.started": "2021-05-26T12:17:12.181059Z"
    },
    "papermill": {
     "duration": 0.74811,
     "end_time": "2021-05-26T13:32:25.730862",
     "exception": false,
     "start_time": "2021-05-26T13:32:24.982752",
     "status": "completed"
    },
    "tags": []
   },
   "outputs": [
    {
     "name": "stdout",
     "output_type": "stream",
     "text": [
      "v a d | ä r | d e t | i | e u r o |\r\n",
      "d u | s k a | v e t a | a t t | d e t | ä r | d u | s o m | h a r | f e l |\r\n",
      "g å | n e r | p å | k n ä |\r\n",
      "f ö r s t | m å s t e | j a g | s l å | s ö n d e r | d e n | d ä r | s t o r a | s k r o t h ö g e n |\r\n",
      "d e t | b l i r | s v å r t |\r\n",
      "v a d | f ö r | j ä v l a | f r å g a | ä r | d e t |\r\n",
      "j a g | å t e r v ä n d e r | i n t e | t i l l | s k i t h å l e t |\r\n",
      "t i t t a | p å | s ö m m a r n a |\r\n",
      "f e s | d u | p r e c i s |\r\n",
      "a k t r i s e r | h a r | e t t | b ä s t | f ö r e d a t u m |\r\n"
     ]
    }
   ],
   "source": [
    "!head train.ltr"
   ]
  },
  {
   "cell_type": "markdown",
   "id": "choice-trout",
   "metadata": {
    "papermill": {
     "duration": 0.014361,
     "end_time": "2021-05-26T13:32:25.759738",
     "exception": false,
     "start_time": "2021-05-26T13:32:25.745377",
     "status": "completed"
    },
    "tags": []
   },
   "source": [
    "There are some warnings about switching, so echo the filename first to known where the errors are"
   ]
  },
  {
   "cell_type": "code",
   "execution_count": 7,
   "id": "environmental-conference",
   "metadata": {
    "execution": {
     "iopub.execute_input": "2021-05-26T13:32:25.793734Z",
     "iopub.status.busy": "2021-05-26T13:32:25.793084Z",
     "iopub.status.idle": "2021-05-26T13:34:15.917948Z",
     "shell.execute_reply": "2021-05-26T13:34:15.917209Z",
     "shell.execute_reply.started": "2021-05-26T10:03:43.267937Z"
    },
    "papermill": {
     "duration": 110.144922,
     "end_time": "2021-05-26T13:34:15.918110",
     "exception": false,
     "start_time": "2021-05-26T13:32:25.773188",
     "status": "completed"
    },
    "tags": []
   },
   "outputs": [
    {
     "name": "stdout",
     "output_type": "stream",
     "text": [
      "train.wrd\r\n",
      "[WARNING] 2 utterances containing language switches on lines 254, 1457\r\n",
      "[WARNING] extra phones may appear in the \"sv\" phoneset\r\n",
      "[WARNING] language switch flags have been removed (applying \"remove-flags\" policy)\r\n",
      "test.wrd\r\n",
      "[WARNING] 1 utterances containing language switches on lines 81\r\n",
      "[WARNING] extra phones may appear in the \"sv\" phoneset\r\n",
      "[WARNING] language switch flags have been removed (applying \"remove-flags\" policy)\r\n",
      "valid.wrd\r\n",
      "[WARNING] 1 utterances containing language switches on lines 1831\r\n",
      "[WARNING] extra phones may appear in the \"sv\" phoneset\r\n",
      "[WARNING] language switch flags have been removed (applying \"remove-flags\" policy)\r\n"
     ]
    }
   ],
   "source": [
    "!for i in train test valid; do echo $i.wrd; cat $i.wrd | PHONEMIZER_ESPEAK_PATH=$(which espeak) phonemize -o $i.phn -p ' ' -w '' -l sv  -j 70 --language-switch remove-flags ;done"
   ]
  },
  {
   "cell_type": "code",
   "execution_count": 8,
   "id": "martial-income",
   "metadata": {
    "execution": {
     "iopub.execute_input": "2021-05-26T13:34:15.960411Z",
     "iopub.status.busy": "2021-05-26T13:34:15.959702Z",
     "iopub.status.idle": "2021-05-26T13:34:18.136025Z",
     "shell.execute_reply": "2021-05-26T13:34:18.135330Z",
     "shell.execute_reply.started": "2021-05-26T10:14:15.138707Z"
    },
    "papermill": {
     "duration": 2.202678,
     "end_time": "2021-05-26T13:34:18.136189",
     "exception": false,
     "start_time": "2021-05-26T13:34:15.933511",
     "status": "completed"
    },
    "tags": []
   },
   "outputs": [
    {
     "name": "stdout",
     "output_type": "stream",
     "text": [
      "det är taskigt\r\n",
      "och så unik design\r\n",
      "internet slutade fungera\r\n",
      "det finns inget internet\r\n"
     ]
    }
   ],
   "source": [
    "!cat test.wrd|awk 'BEGIN{ln=1}{if(ln==81){print $0};ln++}'\n",
    "!cat train.wrd|awk 'BEGIN{ln=1}{if(ln==254||ln==1457){print $0};ln++}'\n",
    "!cat valid.wrd|awk 'BEGIN{ln=1}{if(ln==1831){print $0};ln++}'"
   ]
  },
  {
   "cell_type": "code",
   "execution_count": 9,
   "id": "ranging-routine",
   "metadata": {
    "execution": {
     "iopub.execute_input": "2021-05-26T13:34:18.179452Z",
     "iopub.status.busy": "2021-05-26T13:34:18.178697Z",
     "iopub.status.idle": "2021-05-26T13:34:20.370866Z",
     "shell.execute_reply": "2021-05-26T13:34:20.370327Z",
     "shell.execute_reply.started": "2021-05-26T10:15:19.869013Z"
    },
    "papermill": {
     "duration": 2.218534,
     "end_time": "2021-05-26T13:34:20.371016",
     "exception": false,
     "start_time": "2021-05-26T13:34:18.152482",
     "status": "completed"
    },
    "tags": []
   },
   "outputs": [
    {
     "name": "stdout",
     "output_type": "stream",
     "text": [
      "d eː t ɛː r  t a s k ɪ ɡ t  \r\n",
      "ɔ k s oː ɵ n iː k  d ɪ z aɪ n  \r\n",
      " ɪ n t ə n ɛ t  s l ʉ t a d ə f ɵ n ɡ eː r a \r\n",
      "d eː t f ɪ n s ɪ ŋ ə t  ɪ n t ə n ɛ t  \r\n"
     ]
    }
   ],
   "source": [
    "!cat test.phn|awk 'BEGIN{ln=1}{if(ln==81){print $0};ln++}'\n",
    "!cat train.phn|awk 'BEGIN{ln=1}{if(ln==254||ln==1457){print $0};ln++}'\n",
    "!cat valid.phn|awk 'BEGIN{ln=1}{if(ln==1831){print $0};ln++}'"
   ]
  },
  {
   "cell_type": "markdown",
   "id": "filled-beverage",
   "metadata": {
    "papermill": {
     "duration": 0.016639,
     "end_time": "2021-05-26T13:34:20.404808",
     "exception": false,
     "start_time": "2021-05-26T13:34:20.388169",
     "status": "completed"
    },
    "tags": []
   },
   "source": [
    "\"design\" and \"internet\" are clearly the English words that are causing the switch in their respective sentences, but I'm not sure what the problem in test.wrd is: \"taskigt\"?\n",
    "* [design](https://en.wiktionary.org/wiki/design#Swedish) `/dɛˈsajn/`\n",
    "* [internet](https://en.wiktionary.org/wiki/internet#Swedish) `/ˈɪntɛrnɛt/, /ɪntɛrˈnɛt/`"
   ]
  },
  {
   "cell_type": "code",
   "execution_count": 10,
   "id": "nervous-willow",
   "metadata": {
    "execution": {
     "iopub.execute_input": "2021-05-26T13:34:20.447082Z",
     "iopub.status.busy": "2021-05-26T13:34:20.446097Z",
     "iopub.status.idle": "2021-05-26T13:34:21.228606Z",
     "shell.execute_reply": "2021-05-26T13:34:21.229264Z",
     "shell.execute_reply.started": "2021-05-26T10:58:28.963048Z"
    },
    "papermill": {
     "duration": 0.80688,
     "end_time": "2021-05-26T13:34:21.229436",
     "exception": false,
     "start_time": "2021-05-26T13:34:20.422556",
     "status": "completed"
    },
    "tags": []
   },
   "outputs": [
    {
     "name": "stdout",
     "output_type": "stream",
     "text": [
      " (en)tˈaskɪɡt(sv)\r\n"
     ]
    }
   ],
   "source": [
    "!echo taskigt|espeak -v sv --ipa 2> /dev/null"
   ]
  },
  {
   "cell_type": "code",
   "execution_count": 11,
   "id": "interstate-divorce",
   "metadata": {
    "execution": {
     "iopub.execute_input": "2021-05-26T13:34:21.280742Z",
     "iopub.status.busy": "2021-05-26T13:34:21.276947Z",
     "iopub.status.idle": "2021-05-26T13:34:25.702384Z",
     "shell.execute_reply": "2021-05-26T13:34:25.702907Z"
    },
    "papermill": {
     "duration": 4.455998,
     "end_time": "2021-05-26T13:34:25.703091",
     "exception": false,
     "start_time": "2021-05-26T13:34:21.247093",
     "status": "completed"
    },
    "tags": []
   },
   "outputs": [],
   "source": [
    "!cat test.phn|sed -e 's/^ //;s/t a s k ɪ ɡ t/t a s k ɪ t/' > tmp\n",
    "!mv tmp test.phn\n",
    "!cat train.phn|sed -e 's/^ //;s/d ɪ z aɪ n/d ɛ s a j n/;s/ɪ n t ə n ɛ t/ɪ n t ɛ r n ɛ t/' > tmp\n",
    "!mv tmp train.phn\n",
    "!cat valid.phn|sed -e 's/^ //;s/ɪ n t ə n ɛ t/ɪ n t ɛ r n ɛ t/' > tmp\n",
    "!mv tmp valid.phn"
   ]
  },
  {
   "cell_type": "code",
   "execution_count": 12,
   "id": "alert-indicator",
   "metadata": {
    "execution": {
     "iopub.execute_input": "2021-05-26T13:34:25.743171Z",
     "iopub.status.busy": "2021-05-26T13:34:25.742500Z",
     "iopub.status.idle": "2021-05-26T13:36:19.379479Z",
     "shell.execute_reply": "2021-05-26T13:36:19.380107Z"
    },
    "papermill": {
     "duration": 113.659789,
     "end_time": "2021-05-26T13:36:19.380360",
     "exception": false,
     "start_time": "2021-05-26T13:34:25.720571",
     "status": "completed"
    },
    "tags": []
   },
   "outputs": [],
   "source": [
    "!for i in train test valid; do cat $i.wrd|tr ' ' '\\n'|sort|uniq |grep -v '^internet$'|grep -v '^design$'|grep -v '^taskigt$' > /tmp/$i.wl; cat /tmp/$i.wl | PHONEMIZER_ESPEAK_PATH=$(which espeak) phonemize -o /tmp/$i.wl.phn -p ' ' -w '' -l sv  -j 70 --language-switch remove-flags;paste /tmp/$i.wl /tmp/$i.wl.phn > dict.$i; done\n",
    "!printf \"taskigt\\tt a s k ɪ t\\n\" >> dict.test\n",
    "!printf \"design\\td ɛ s a j n\\n\" >> dict.train\n",
    "!printf \"internet\\tɪ n t ɛ r n ɛ t\\n\" >> dict.train\n",
    "!printf \"internet\\tɪ n t ɛ r n ɛ t\\n\" >> dict.valid"
   ]
  },
  {
   "cell_type": "code",
   "execution_count": 13,
   "id": "polar-infrastructure",
   "metadata": {
    "execution": {
     "iopub.execute_input": "2021-05-26T13:36:19.426551Z",
     "iopub.status.busy": "2021-05-26T13:36:19.422779Z",
     "iopub.status.idle": "2021-05-26T13:36:20.147750Z",
     "shell.execute_reply": "2021-05-26T13:36:20.148312Z"
    },
    "papermill": {
     "duration": 0.749504,
     "end_time": "2021-05-26T13:36:20.148490",
     "exception": false,
     "start_time": "2021-05-26T13:36:19.398986",
     "status": "completed"
    },
    "tags": []
   },
   "outputs": [
    {
     "name": "stdout",
     "output_type": "stream",
     "text": [
      "cat: valid: No such file or directory\r\n"
     ]
    }
   ],
   "source": [
    "!for i in dic*;do cat $i |sort > tmp;mv tmp $i;done"
   ]
  }
 ],
 "metadata": {
  "kernelspec": {
   "display_name": "Python 3",
   "language": "python",
   "name": "python3"
  },
  "language_info": {
   "codemirror_mode": {
    "name": "ipython",
    "version": 3
   },
   "file_extension": ".py",
   "mimetype": "text/x-python",
   "name": "python",
   "nbconvert_exporter": "python",
   "pygments_lexer": "ipython3",
   "version": "3.7.10"
  },
  "papermill": {
   "default_parameters": {},
   "duration": 275.009759,
   "end_time": "2021-05-26T13:36:21.612264",
   "environment_variables": {},
   "exception": null,
   "input_path": "__notebook__.ipynb",
   "output_path": "__notebook__.ipynb",
   "parameters": {},
   "start_time": "2021-05-26T13:31:46.602505",
   "version": "2.3.3"
  }
 },
 "nbformat": 4,
 "nbformat_minor": 5
}
