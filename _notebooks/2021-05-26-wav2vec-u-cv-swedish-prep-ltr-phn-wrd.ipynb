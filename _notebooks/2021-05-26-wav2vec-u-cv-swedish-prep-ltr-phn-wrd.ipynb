{
 "cells": [
  {
   "cell_type": "markdown",
   "id": "lasting-removal",
   "metadata": {
    "papermill": {
     "duration": 0.017241,
     "end_time": "2021-05-26T10:34:13.211290",
     "exception": false,
     "start_time": "2021-05-26T10:34:13.194049",
     "status": "completed"
    },
    "tags": []
   },
   "source": [
    "In the section [Preparation of speech and text data](https://github.com/pytorch/fairseq/tree/master/examples/wav2vec/unsupervised#preparation-of-speech-and-text-data) of the readme, it says:\n",
    "\n",
    "> Similar to [wav2vec 2.0](https://github.com/pytorch/fairseq/blob/master/examples/wav2vec/README.md),  data folders contain {train,valid,test}.{tsv,wrd,phn} files, where audio paths are stored in tsv files, and word, letter or phoneme transcriptions are stored in .{wrd,ltr,phn}.\n",
    "\n",
    "The `.wrd` and `.ltr` files are outputs of `libri_labels.py`"
   ]
  },
  {
   "cell_type": "code",
   "execution_count": 1,
   "id": "funky-robin",
   "metadata": {
    "_cell_guid": "b1076dfc-b9ad-4769-8c92-a6c4dae69d19",
    "_uuid": "8f2839f25d086af736a60e9eeb907d3b93b6e0e5",
    "execution": {
     "iopub.execute_input": "2021-05-26T10:34:13.247318Z",
     "iopub.status.busy": "2021-05-26T10:34:13.246197Z",
     "iopub.status.idle": "2021-05-26T10:34:13.257494Z",
     "shell.execute_reply": "2021-05-26T10:34:13.257984Z",
     "shell.execute_reply.started": "2021-05-26T09:36:53.991468Z"
    },
    "papermill": {
     "duration": 0.031041,
     "end_time": "2021-05-26T10:34:13.258279",
     "exception": false,
     "start_time": "2021-05-26T10:34:13.227238",
     "status": "completed"
    },
    "tags": []
   },
   "outputs": [
    {
     "name": "stdout",
     "output_type": "stream",
     "text": [
      "/tmp\n"
     ]
    }
   ],
   "source": [
    "%cd /tmp"
   ]
  },
  {
   "cell_type": "code",
   "execution_count": 2,
   "id": "utility-optics",
   "metadata": {
    "execution": {
     "iopub.execute_input": "2021-05-26T10:34:13.294637Z",
     "iopub.status.busy": "2021-05-26T10:34:13.293990Z",
     "iopub.status.idle": "2021-05-26T10:34:16.475236Z",
     "shell.execute_reply": "2021-05-26T10:34:16.474657Z",
     "shell.execute_reply.started": "2021-05-26T09:36:54.017081Z"
    },
    "papermill": {
     "duration": 3.200437,
     "end_time": "2021-05-26T10:34:16.475413",
     "exception": false,
     "start_time": "2021-05-26T10:34:13.274976",
     "status": "completed"
    },
    "tags": []
   },
   "outputs": [
    {
     "name": "stdout",
     "output_type": "stream",
     "text": [
      "Cloning into 'fairseq'...\r\n",
      "remote: Enumerating objects: 28101, done.\u001b[K\r\n",
      "remote: Counting objects: 100% (522/522), done.\u001b[K\r\n",
      "remote: Compressing objects: 100% (314/314), done.\u001b[K\r\n",
      "remote: Total 28101 (delta 254), reused 398 (delta 197), pack-reused 27579\u001b[K\r\n",
      "Receiving objects: 100% (28101/28101), 11.85 MiB | 19.33 MiB/s, done.\r\n",
      "Resolving deltas: 100% (21069/21069), done.\r\n"
     ]
    }
   ],
   "source": [
    "!git clone https://github.com/pytorch/fairseq/"
   ]
  },
  {
   "cell_type": "code",
   "execution_count": 3,
   "id": "sought-tunnel",
   "metadata": {
    "execution": {
     "iopub.execute_input": "2021-05-26T10:34:16.536172Z",
     "iopub.status.busy": "2021-05-26T10:34:16.531400Z",
     "iopub.status.idle": "2021-05-26T10:34:26.913235Z",
     "shell.execute_reply": "2021-05-26T10:34:26.912529Z",
     "shell.execute_reply.started": "2021-05-26T09:36:57.172301Z"
    },
    "papermill": {
     "duration": 10.413667,
     "end_time": "2021-05-26T10:34:26.913391",
     "exception": false,
     "start_time": "2021-05-26T10:34:16.499724",
     "status": "completed"
    },
    "tags": []
   },
   "outputs": [],
   "source": [
    "%%capture\n",
    "!pip install phonemizer"
   ]
  },
  {
   "cell_type": "code",
   "execution_count": 4,
   "id": "isolated-punch",
   "metadata": {
    "execution": {
     "iopub.execute_input": "2021-05-26T10:34:26.968511Z",
     "iopub.status.busy": "2021-05-26T10:34:26.967872Z",
     "iopub.status.idle": "2021-05-26T10:34:34.009186Z",
     "shell.execute_reply": "2021-05-26T10:34:34.008564Z",
     "shell.execute_reply.started": "2021-05-26T09:38:00.401581Z"
    },
    "papermill": {
     "duration": 7.072139,
     "end_time": "2021-05-26T10:34:34.009346",
     "exception": false,
     "start_time": "2021-05-26T10:34:26.937207",
     "status": "completed"
    },
    "tags": []
   },
   "outputs": [],
   "source": [
    "%%capture\n",
    "!apt-get -y install espeak"
   ]
  },
  {
   "cell_type": "code",
   "execution_count": 5,
   "id": "scientific-notice",
   "metadata": {
    "execution": {
     "iopub.execute_input": "2021-05-26T10:34:34.063076Z",
     "iopub.status.busy": "2021-05-26T10:34:34.062325Z",
     "iopub.status.idle": "2021-05-26T10:34:34.067379Z",
     "shell.execute_reply": "2021-05-26T10:34:34.066766Z",
     "shell.execute_reply.started": "2021-05-26T09:39:24.374336Z"
    },
    "papermill": {
     "duration": 0.034336,
     "end_time": "2021-05-26T10:34:34.067540",
     "exception": false,
     "start_time": "2021-05-26T10:34:34.033204",
     "status": "completed"
    },
    "tags": []
   },
   "outputs": [],
   "source": [
    "import os\n",
    "os.environ['FAIRSEQ_ROOT'] = '/tmp/fairseq'"
   ]
  },
  {
   "cell_type": "code",
   "execution_count": 6,
   "id": "protective-navigation",
   "metadata": {
    "execution": {
     "iopub.execute_input": "2021-05-26T10:34:34.119858Z",
     "iopub.status.busy": "2021-05-26T10:34:34.119176Z",
     "iopub.status.idle": "2021-05-26T10:34:39.768378Z",
     "shell.execute_reply": "2021-05-26T10:34:39.767518Z",
     "shell.execute_reply.started": "2021-05-26T09:39:26.553494Z"
    },
    "papermill": {
     "duration": 5.677011,
     "end_time": "2021-05-26T10:34:39.768554",
     "exception": false,
     "start_time": "2021-05-26T10:34:34.091543",
     "status": "completed"
    },
    "tags": []
   },
   "outputs": [],
   "source": [
    "%%capture\n",
    "!apt-get -y install zsh"
   ]
  },
  {
   "cell_type": "markdown",
   "id": "passive-snapshot",
   "metadata": {
    "papermill": {
     "duration": 0.023782,
     "end_time": "2021-05-26T10:34:39.816763",
     "exception": false,
     "start_time": "2021-05-26T10:34:39.792981",
     "status": "completed"
    },
    "tags": []
   },
   "source": [
    "This is just my best guess at what the `.wrd` files contain"
   ]
  },
  {
   "cell_type": "code",
   "execution_count": 7,
   "id": "appointed-truth",
   "metadata": {
    "execution": {
     "iopub.execute_input": "2021-05-26T10:34:39.876644Z",
     "iopub.status.busy": "2021-05-26T10:34:39.872755Z",
     "iopub.status.idle": "2021-05-26T10:34:42.136166Z",
     "shell.execute_reply": "2021-05-26T10:34:42.135329Z",
     "shell.execute_reply.started": "2021-05-26T09:50:56.568719Z"
    },
    "papermill": {
     "duration": 2.295925,
     "end_time": "2021-05-26T10:34:42.136328",
     "exception": false,
     "start_time": "2021-05-26T10:34:39.840403",
     "status": "completed"
    },
    "tags": []
   },
   "outputs": [],
   "source": [
    "!cat /kaggle/input/download-common-voice-swedish/cv-corpus-6.1-2020-12-11/sv-SE/test.tsv | awk -F'\\t' '{print $3}'|grep -v '^sentence$' | perl -C7 -ane 'chomp;$_=lc($_);s/[^\\p{L}\\p{N}\\p{M}'\"\\'\"' \\-]/ /g;s/  +/ /g;s/ $//;s/^ //;print \"$_\\n\";' > /kaggle/working/test.wrd\n",
    "!cat /kaggle/input/download-common-voice-swedish/cv-corpus-6.1-2020-12-11/sv-SE/dev.tsv | awk -F'\\t' '{print $3}'|grep -v '^sentence$' | perl -C7 -ane 'chomp;$_=lc($_);s/[^\\p{L}\\p{N}\\p{M}'\"\\'\"' \\-]/ /g;s/  +/ /g;s/ $//;s/^ //;print \"$_\\n\";' > /kaggle/working/valid.wrd\n",
    "!cat /kaggle/input/download-common-voice-swedish/cv-corpus-6.1-2020-12-11/sv-SE/train.tsv | awk -F'\\t' '{print $3}'|grep -v '^sentence$' | perl -C7 -ane 'chomp;$_=lc($_);s/[^\\p{L}\\p{N}\\p{M}'\"\\'\"' \\-]/ /g;s/  +/ /g;s/ $//;s/^ //;print \"$_\\n\";' > /kaggle/working/train.wrd\n"
   ]
  },
  {
   "cell_type": "code",
   "execution_count": 8,
   "id": "beginning-treatment",
   "metadata": {
    "execution": {
     "iopub.execute_input": "2021-05-26T10:34:42.192049Z",
     "iopub.status.busy": "2021-05-26T10:34:42.191132Z",
     "iopub.status.idle": "2021-05-26T10:34:42.196409Z",
     "shell.execute_reply": "2021-05-26T10:34:42.195773Z",
     "shell.execute_reply.started": "2021-05-26T09:39:26.546818Z"
    },
    "papermill": {
     "duration": 0.035386,
     "end_time": "2021-05-26T10:34:42.196555",
     "exception": false,
     "start_time": "2021-05-26T10:34:42.161169",
     "status": "completed"
    },
    "tags": []
   },
   "outputs": [
    {
     "name": "stdout",
     "output_type": "stream",
     "text": [
      "/tmp/fairseq/examples/wav2vec/unsupervised/scripts\n"
     ]
    }
   ],
   "source": [
    "%cd fairseq/examples/wav2vec/unsupervised/scripts"
   ]
  },
  {
   "cell_type": "markdown",
   "id": "absolute-winter",
   "metadata": {
    "papermill": {
     "duration": 0.023734,
     "end_time": "2021-05-26T10:34:42.244297",
     "exception": false,
     "start_time": "2021-05-26T10:34:42.220563",
     "status": "completed"
    },
    "tags": []
   },
   "source": [
    "This is probably completely wrong"
   ]
  },
  {
   "cell_type": "code",
   "execution_count": 9,
   "id": "featured-retro",
   "metadata": {
    "execution": {
     "iopub.execute_input": "2021-05-26T10:34:42.303476Z",
     "iopub.status.busy": "2021-05-26T10:34:42.302661Z",
     "iopub.status.idle": "2021-05-26T10:34:43.324198Z",
     "shell.execute_reply": "2021-05-26T10:34:43.324691Z",
     "shell.execute_reply.started": "2021-05-26T09:52:43.847806Z"
    },
    "papermill": {
     "duration": 1.056742,
     "end_time": "2021-05-26T10:34:43.324886",
     "exception": false,
     "start_time": "2021-05-26T10:34:42.268144",
     "status": "completed"
    },
    "tags": []
   },
   "outputs": [],
   "source": [
    "!for i in train test valid; do cat /kaggle/working/$i.wrd | python wrd_to_ltr.py > /kaggle/working/$i.ltr;done"
   ]
  },
  {
   "cell_type": "code",
   "execution_count": 10,
   "id": "primary-financing",
   "metadata": {
    "execution": {
     "iopub.execute_input": "2021-05-26T10:34:43.376660Z",
     "iopub.status.busy": "2021-05-26T10:34:43.376019Z",
     "iopub.status.idle": "2021-05-26T10:34:44.103508Z",
     "shell.execute_reply": "2021-05-26T10:34:44.102877Z",
     "shell.execute_reply.started": "2021-05-26T09:53:12.053708Z"
    },
    "papermill": {
     "duration": 0.754958,
     "end_time": "2021-05-26T10:34:44.103689",
     "exception": false,
     "start_time": "2021-05-26T10:34:43.348731",
     "status": "completed"
    },
    "tags": []
   },
   "outputs": [
    {
     "name": "stdout",
     "output_type": "stream",
     "text": [
      "v a d | ä r | d e t | i | e u r o |\r\n",
      "d u | s k a | v e t a | a t t | d e t | ä r | d u | s o m | h a r | f e l |\r\n",
      "g å | n e r | p å | k n ä |\r\n",
      "f ö r s t | m å s t e | j a g | s l å | s ö n d e r | d e n | d ä r | s t o r a | s k r o t h ö g e n |\r\n",
      "d e t | b l i r | s v å r t |\r\n",
      "v a d | f ö r | j ä v l a | f r å g a | ä r | d e t |\r\n",
      "j a g | å t e r v ä n d e r | i n t e | t i l l | s k i t h å l e t |\r\n",
      "t i t t a | p å | s ö m m a r n a |\r\n",
      "f e s | d u | p r e c i s |\r\n",
      "a k t r i s e r | h a r | e t t | b ä s t | f ö r e d a t u m |\r\n"
     ]
    }
   ],
   "source": [
    "!head /kaggle/working/train.ltr"
   ]
  },
  {
   "cell_type": "markdown",
   "id": "medieval-blowing",
   "metadata": {
    "papermill": {
     "duration": 0.024474,
     "end_time": "2021-05-26T10:34:44.152684",
     "exception": false,
     "start_time": "2021-05-26T10:34:44.128210",
     "status": "completed"
    },
    "tags": []
   },
   "source": [
    "There are some warnings about switching, so echo the filename first to known where the errors are"
   ]
  },
  {
   "cell_type": "code",
   "execution_count": 11,
   "id": "attended-drink",
   "metadata": {
    "execution": {
     "iopub.execute_input": "2021-05-26T10:34:44.213041Z",
     "iopub.status.busy": "2021-05-26T10:34:44.208613Z",
     "iopub.status.idle": "2021-05-26T10:36:40.630492Z",
     "shell.execute_reply": "2021-05-26T10:36:40.629658Z",
     "shell.execute_reply.started": "2021-05-26T10:03:43.267937Z"
    },
    "papermill": {
     "duration": 116.453424,
     "end_time": "2021-05-26T10:36:40.630685",
     "exception": false,
     "start_time": "2021-05-26T10:34:44.177261",
     "status": "completed"
    },
    "tags": []
   },
   "outputs": [
    {
     "name": "stdout",
     "output_type": "stream",
     "text": [
      "/kaggle/working/train.wrd\r\n",
      "[WARNING] 2 utterances containing language switches on lines 254, 1457\r\n",
      "[WARNING] extra phones may appear in the \"sv\" phoneset\r\n",
      "[WARNING] language switch flags have been removed (applying \"remove-flags\" policy)\r\n",
      "/kaggle/working/test.wrd\r\n",
      "[WARNING] 1 utterances containing language switches on lines 81\r\n",
      "[WARNING] extra phones may appear in the \"sv\" phoneset\r\n",
      "[WARNING] language switch flags have been removed (applying \"remove-flags\" policy)\r\n",
      "/kaggle/working/valid.wrd\r\n",
      "[WARNING] 1 utterances containing language switches on lines 1831\r\n",
      "[WARNING] extra phones may appear in the \"sv\" phoneset\r\n",
      "[WARNING] language switch flags have been removed (applying \"remove-flags\" policy)\r\n"
     ]
    }
   ],
   "source": [
    "!for i in train test valid; do echo /kaggle/working/$i.wrd; cat /kaggle/working/$i.wrd | PHONEMIZER_ESPEAK_PATH=$(which espeak) phonemize -o /kaggle/working/$i.phn -p ' ' -w '' -l sv  -j 70 --language-switch remove-flags ;done"
   ]
  },
  {
   "cell_type": "code",
   "execution_count": 12,
   "id": "third-stress",
   "metadata": {
    "execution": {
     "iopub.execute_input": "2021-05-26T10:36:40.691379Z",
     "iopub.status.busy": "2021-05-26T10:36:40.690700Z",
     "iopub.status.idle": "2021-05-26T10:36:41.414197Z",
     "shell.execute_reply": "2021-05-26T10:36:41.414723Z",
     "shell.execute_reply.started": "2021-05-26T10:09:32.146895Z"
    },
    "papermill": {
     "duration": 0.756358,
     "end_time": "2021-05-26T10:36:41.414950",
     "exception": false,
     "start_time": "2021-05-26T10:36:40.658592",
     "status": "completed"
    },
    "tags": []
   },
   "outputs": [
    {
     "name": "stdout",
     "output_type": "stream",
     "text": [
      "/kaggle/working/*.err\r\n",
      "cat: '/kaggle/working/*.err': No such file or directory\r\n"
     ]
    }
   ],
   "source": [
    "!for i in /kaggle/working/*.err;do echo $i; cat $i;done"
   ]
  },
  {
   "cell_type": "code",
   "execution_count": 13,
   "id": "continuous-cardiff",
   "metadata": {
    "execution": {
     "iopub.execute_input": "2021-05-26T10:36:41.475368Z",
     "iopub.status.busy": "2021-05-26T10:36:41.474307Z",
     "iopub.status.idle": "2021-05-26T10:36:43.660803Z",
     "shell.execute_reply": "2021-05-26T10:36:43.660194Z",
     "shell.execute_reply.started": "2021-05-26T10:14:15.138707Z"
    },
    "papermill": {
     "duration": 2.21869,
     "end_time": "2021-05-26T10:36:43.660993",
     "exception": false,
     "start_time": "2021-05-26T10:36:41.442303",
     "status": "completed"
    },
    "tags": []
   },
   "outputs": [
    {
     "name": "stdout",
     "output_type": "stream",
     "text": [
      "det är taskigt\r\n",
      "och så unik design\r\n",
      "internet slutade fungera\r\n",
      "det finns inget internet\r\n"
     ]
    }
   ],
   "source": [
    "!cat /kaggle/working/test.wrd|awk 'BEGIN{ln=1}{if(ln==81){print $0};ln++}'\n",
    "!cat /kaggle/working/train.wrd|awk 'BEGIN{ln=1}{if(ln==254||ln==1457){print $0};ln++}'\n",
    "!cat /kaggle/working/valid.wrd|awk 'BEGIN{ln=1}{if(ln==1831){print $0};ln++}'"
   ]
  },
  {
   "cell_type": "code",
   "execution_count": 14,
   "id": "quiet-disclaimer",
   "metadata": {
    "execution": {
     "iopub.execute_input": "2021-05-26T10:36:43.729040Z",
     "iopub.status.busy": "2021-05-26T10:36:43.725246Z",
     "iopub.status.idle": "2021-05-26T10:36:45.896261Z",
     "shell.execute_reply": "2021-05-26T10:36:45.896838Z",
     "shell.execute_reply.started": "2021-05-26T10:15:19.869013Z"
    },
    "papermill": {
     "duration": 2.207438,
     "end_time": "2021-05-26T10:36:45.897046",
     "exception": false,
     "start_time": "2021-05-26T10:36:43.689608",
     "status": "completed"
    },
    "tags": []
   },
   "outputs": [
    {
     "name": "stdout",
     "output_type": "stream",
     "text": [
      "d eː t ɛː r  t a s k ɪ ɡ t  \r\n",
      "ɔ k s oː ɵ n iː k  d ɪ z aɪ n  \r\n",
      " ɪ n t ə n ɛ t  s l ʉ t a d ə f ɵ n ɡ eː r a \r\n",
      "d eː t f ɪ n s ɪ ŋ ə t  ɪ n t ə n ɛ t  \r\n"
     ]
    }
   ],
   "source": [
    "!cat /kaggle/working/test.phn|awk 'BEGIN{ln=1}{if(ln==81){print $0};ln++}'\n",
    "!cat /kaggle/working/train.phn|awk 'BEGIN{ln=1}{if(ln==254||ln==1457){print $0};ln++}'\n",
    "!cat /kaggle/working/valid.phn|awk 'BEGIN{ln=1}{if(ln==1831){print $0};ln++}'"
   ]
  },
  {
   "cell_type": "markdown",
   "id": "german-spokesman",
   "metadata": {
    "papermill": {
     "duration": 0.029058,
     "end_time": "2021-05-26T10:36:45.955760",
     "exception": false,
     "start_time": "2021-05-26T10:36:45.926702",
     "status": "completed"
    },
    "tags": []
   },
   "source": [
    "\"design\" and \"internet\" are clearly the English words that are causing the switch in their respective sentences, but I'm not sure what the problem in test.wrd is: \"taskigt\"?\n",
    "* [design](https://en.wiktionary.org/wiki/design#Swedish) `/dɛˈsajn/`\n",
    "* [internet](https://en.wiktionary.org/wiki/internet#Swedish) `/ˈɪntɛrnɛt/, /ɪntɛrˈnɛt/`"
   ]
  },
  {
   "cell_type": "code",
   "execution_count": 15,
   "id": "perceived-minutes",
   "metadata": {
    "execution": {
     "iopub.execute_input": "2021-05-26T10:36:46.025257Z",
     "iopub.status.busy": "2021-05-26T10:36:46.024476Z",
     "iopub.status.idle": "2021-05-26T10:36:57.757392Z",
     "shell.execute_reply": "2021-05-26T10:36:57.756616Z",
     "shell.execute_reply.started": "2021-05-26T10:31:55.283215Z"
    },
    "papermill": {
     "duration": 11.773216,
     "end_time": "2021-05-26T10:36:57.757556",
     "exception": false,
     "start_time": "2021-05-26T10:36:45.984340",
     "status": "completed"
    },
    "tags": []
   },
   "outputs": [
    {
     "name": "stdout",
     "output_type": "stream",
     "text": [
      "[WARNING] 1 utterances containing language switches on lines 3\r\n",
      "[WARNING] extra phones may appear in the \"sv\" phoneset\r\n",
      "[WARNING] language switch flags have been removed (applying \"remove-flags\" policy)\r\n"
     ]
    }
   ],
   "source": [
    "!echo \"det är taskigt\"|tr ' ' '\\n' | PHONEMIZER_ESPEAK_PATH=$(which espeak) phonemize -o test-output -p ' ' -w '' -l sv  -j 70 --language-switch remove-flags"
   ]
  },
  {
   "cell_type": "code",
   "execution_count": 16,
   "id": "planned-renaissance",
   "metadata": {
    "execution": {
     "iopub.execute_input": "2021-05-26T10:36:57.828259Z",
     "iopub.status.busy": "2021-05-26T10:36:57.827550Z",
     "iopub.status.idle": "2021-05-26T10:36:58.599069Z",
     "shell.execute_reply": "2021-05-26T10:36:58.598456Z",
     "shell.execute_reply.started": "2021-05-26T10:32:27.975042Z"
    },
    "papermill": {
     "duration": 0.812671,
     "end_time": "2021-05-26T10:36:58.599240",
     "exception": false,
     "start_time": "2021-05-26T10:36:57.786569",
     "status": "completed"
    },
    "tags": []
   },
   "outputs": [
    {
     "name": "stdout",
     "output_type": "stream",
     "text": [
      " (en)tˈaskɪɡt(sv)\r\n",
      "ALSA lib confmisc.c:767:(parse_card) cannot find card '0'\r\n",
      "ALSA lib conf.c:4528:(_snd_config_evaluate) function snd_func_card_driver returned error: No such file or directory\r\n",
      "ALSA lib confmisc.c:392:(snd_func_concat) error evaluating strings\r\n",
      "ALSA lib conf.c:4528:(_snd_config_evaluate) function snd_func_concat returned error: No such file or directory\r\n",
      "ALSA lib confmisc.c:1246:(snd_func_refer) error evaluating name\r\n",
      "ALSA lib conf.c:4528:(_snd_config_evaluate) function snd_func_refer returned error: No such file or directory\r\n",
      "ALSA lib conf.c:5007:(snd_config_expand) Evaluate error: No such file or directory\r\n",
      "ALSA lib pcm.c:2495:(snd_pcm_open_noupdate) Unknown PCM sysdefault\r\n",
      "ALSA lib confmisc.c:767:(parse_card) cannot find card '0'\r\n",
      "ALSA lib conf.c:4528:(_snd_config_evaluate) function snd_func_card_driver returned error: No such file or directory\r\n",
      "ALSA lib confmisc.c:392:(snd_func_concat) error evaluating strings\r\n",
      "ALSA lib conf.c:4528:(_snd_config_evaluate) function snd_func_concat returned error: No such file or directory\r\n",
      "ALSA lib confmisc.c:1246:(snd_func_refer) error evaluating name\r\n",
      "ALSA lib conf.c:4528:(_snd_config_evaluate) function snd_func_refer returned error: No such file or directory\r\n",
      "ALSA lib conf.c:5007:(snd_config_expand) Evaluate error: No such file or directory\r\n",
      "ALSA lib pcm.c:2495:(snd_pcm_open_noupdate) Unknown PCM sysdefault\r\n",
      "ALSA lib pcm.c:2495:(snd_pcm_open_noupdate) Unknown PCM cards.pcm.front\r\n",
      "ALSA lib pcm.c:2495:(snd_pcm_open_noupdate) Unknown PCM cards.pcm.rear\r\n",
      "ALSA lib pcm.c:2495:(snd_pcm_open_noupdate) Unknown PCM cards.pcm.center_lfe\r\n",
      "ALSA lib pcm.c:2495:(snd_pcm_open_noupdate) Unknown PCM cards.pcm.side\r\n",
      "ALSA lib pcm.c:2495:(snd_pcm_open_noupdate) Unknown PCM cards.pcm.surround21\r\n",
      "ALSA lib pcm.c:2495:(snd_pcm_open_noupdate) Unknown PCM cards.pcm.surround21\r\n",
      "ALSA lib pcm.c:2495:(snd_pcm_open_noupdate) Unknown PCM cards.pcm.surround40\r\n",
      "ALSA lib pcm.c:2495:(snd_pcm_open_noupdate) Unknown PCM cards.pcm.surround41\r\n",
      "ALSA lib pcm.c:2495:(snd_pcm_open_noupdate) Unknown PCM cards.pcm.surround50\r\n",
      "ALSA lib pcm.c:2495:(snd_pcm_open_noupdate) Unknown PCM cards.pcm.surround51\r\n",
      "ALSA lib pcm.c:2495:(snd_pcm_open_noupdate) Unknown PCM cards.pcm.surround71\r\n",
      "ALSA lib pcm.c:2495:(snd_pcm_open_noupdate) Unknown PCM cards.pcm.iec958\r\n",
      "ALSA lib pcm.c:2495:(snd_pcm_open_noupdate) Unknown PCM cards.pcm.iec958\r\n",
      "ALSA lib pcm.c:2495:(snd_pcm_open_noupdate) Unknown PCM cards.pcm.iec958\r\n",
      "ALSA lib pcm.c:2495:(snd_pcm_open_noupdate) Unknown PCM cards.pcm.hdmi\r\n",
      "ALSA lib pcm.c:2495:(snd_pcm_open_noupdate) Unknown PCM cards.pcm.hdmi\r\n",
      "ALSA lib pcm.c:2495:(snd_pcm_open_noupdate) Unknown PCM cards.pcm.modem\r\n",
      "ALSA lib pcm.c:2495:(snd_pcm_open_noupdate) Unknown PCM cards.pcm.modem\r\n",
      "ALSA lib pcm.c:2495:(snd_pcm_open_noupdate) Unknown PCM cards.pcm.phoneline\r\n",
      "ALSA lib pcm.c:2495:(snd_pcm_open_noupdate) Unknown PCM cards.pcm.phoneline\r\n",
      "ALSA lib confmisc.c:767:(parse_card) cannot find card '0'\r\n",
      "ALSA lib conf.c:4528:(_snd_config_evaluate) function snd_func_card_driver returned error: No such file or directory\r\n",
      "ALSA lib confmisc.c:392:(snd_func_concat) error evaluating strings\r\n",
      "ALSA lib conf.c:4528:(_snd_config_evaluate) function snd_func_concat returned error: No such file or directory\r\n",
      "ALSA lib confmisc.c:1246:(snd_func_refer) error evaluating name\r\n",
      "ALSA lib conf.c:4528:(_snd_config_evaluate) function snd_func_refer returned error: No such file or directory\r\n",
      "ALSA lib conf.c:5007:(snd_config_expand) Evaluate error: No such file or directory\r\n",
      "ALSA lib pcm.c:2495:(snd_pcm_open_noupdate) Unknown PCM default\r\n",
      "ALSA lib confmisc.c:767:(parse_card) cannot find card '0'\r\n",
      "ALSA lib conf.c:4528:(_snd_config_evaluate) function snd_func_card_driver returned error: No such file or directory\r\n",
      "ALSA lib confmisc.c:392:(snd_func_concat) error evaluating strings\r\n",
      "ALSA lib conf.c:4528:(_snd_config_evaluate) function snd_func_concat returned error: No such file or directory\r\n",
      "ALSA lib confmisc.c:1246:(snd_func_refer) error evaluating name\r\n",
      "ALSA lib conf.c:4528:(_snd_config_evaluate) function snd_func_refer returned error: No such file or directory\r\n",
      "ALSA lib conf.c:5007:(snd_config_expand) Evaluate error: No such file or directory\r\n",
      "ALSA lib pcm.c:2495:(snd_pcm_open_noupdate) Unknown PCM default\r\n",
      "ALSA lib confmisc.c:767:(parse_card) cannot find card '0'\r\n",
      "ALSA lib conf.c:4528:(_snd_config_evaluate) function snd_func_card_driver returned error: No such file or directory\r\n",
      "ALSA lib confmisc.c:392:(snd_func_concat) error evaluating strings\r\n",
      "ALSA lib conf.c:4528:(_snd_config_evaluate) function snd_func_concat returned error: No such file or directory\r\n",
      "ALSA lib confmisc.c:1246:(snd_func_refer) error evaluating name\r\n",
      "ALSA lib conf.c:4528:(_snd_config_evaluate) function snd_func_refer returned error: No such file or directory\r\n",
      "ALSA lib conf.c:5007:(snd_config_expand) Evaluate error: No such file or directory\r\n",
      "ALSA lib pcm.c:2495:(snd_pcm_open_noupdate) Unknown PCM dmix\r\n",
      "Cannot connect to server socket err = No such file or directory\r\n",
      "Cannot connect to server request channel\r\n",
      "jack server is not running or cannot be started\r\n",
      "JackShmReadWritePtr::~JackShmReadWritePtr - Init not done for -1, skipping unlock\r\n",
      "JackShmReadWritePtr::~JackShmReadWritePtr - Init not done for -1, skipping unlock\r\n",
      "wave_open_sound > Pa_OpenStream : err=-9996 (Invalid device)\r\n",
      "wave_open_sound > Pa_OpenStream : err=-9996 (Invalid device)\r\n",
      "wave_open_sound > Pa_OpenStream : err=-9996 (Invalid device)\r\n",
      "wave_open_sound > Pa_OpenStream : err=-9996 (Invalid device)\r\n",
      "wave_open_sound > Pa_OpenStream : err=-9996 (Invalid device)\r\n"
     ]
    }
   ],
   "source": [
    "!echo taskigt|espeak -v sv --ipa"
   ]
  }
 ],
 "metadata": {
  "kernelspec": {
   "display_name": "Python 3",
   "language": "python",
   "name": "python3"
  },
  "language_info": {
   "codemirror_mode": {
    "name": "ipython",
    "version": 3
   },
   "file_extension": ".py",
   "mimetype": "text/x-python",
   "name": "python",
   "nbconvert_exporter": "python",
   "pygments_lexer": "ipython3",
   "version": "3.7.10"
  },
  "papermill": {
   "default_parameters": {},
   "duration": 174.932039,
   "end_time": "2021-05-26T10:37:00.253269",
   "environment_variables": {},
   "exception": null,
   "input_path": "__notebook__.ipynb",
   "output_path": "__notebook__.ipynb",
   "parameters": {},
   "start_time": "2021-05-26T10:34:05.321230",
   "version": "2.3.3"
  }
 },
 "nbformat": 4,
 "nbformat_minor": 5
}
