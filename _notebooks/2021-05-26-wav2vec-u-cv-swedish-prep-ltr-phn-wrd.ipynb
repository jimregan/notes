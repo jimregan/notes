{
 "cells": [
  {
   "cell_type": "markdown",
   "id": "descending-drinking",
   "metadata": {
    "papermill": {
     "duration": 0.015967,
     "end_time": "2021-05-26T10:26:59.567717",
     "exception": false,
     "start_time": "2021-05-26T10:26:59.551750",
     "status": "completed"
    },
    "tags": []
   },
   "source": [
    "In the section [Preparation of speech and text data](https://github.com/pytorch/fairseq/tree/master/examples/wav2vec/unsupervised#preparation-of-speech-and-text-data) of the readme, it says:\n",
    "\n",
    "> Similar to [wav2vec 2.0](https://github.com/pytorch/fairseq/blob/master/examples/wav2vec/README.md),  data folders contain {train,valid,test}.{tsv,wrd,phn} files, where audio paths are stored in tsv files, and word, letter or phoneme transcriptions are stored in .{wrd,ltr,phn}.\n",
    "\n",
    "...where are these files explained? This is my best guess:"
   ]
  },
  {
   "cell_type": "code",
   "execution_count": 1,
   "id": "arbitrary-search",
   "metadata": {
    "_cell_guid": "b1076dfc-b9ad-4769-8c92-a6c4dae69d19",
    "_uuid": "8f2839f25d086af736a60e9eeb907d3b93b6e0e5",
    "execution": {
     "iopub.execute_input": "2021-05-26T10:26:59.611449Z",
     "iopub.status.busy": "2021-05-26T10:26:59.610427Z",
     "iopub.status.idle": "2021-05-26T10:26:59.618284Z",
     "shell.execute_reply": "2021-05-26T10:26:59.617373Z",
     "shell.execute_reply.started": "2021-05-26T09:36:53.991468Z"
    },
    "papermill": {
     "duration": 0.035447,
     "end_time": "2021-05-26T10:26:59.618516",
     "exception": false,
     "start_time": "2021-05-26T10:26:59.583069",
     "status": "completed"
    },
    "tags": []
   },
   "outputs": [
    {
     "name": "stdout",
     "output_type": "stream",
     "text": [
      "/tmp\n"
     ]
    }
   ],
   "source": [
    "%cd /tmp"
   ]
  },
  {
   "cell_type": "code",
   "execution_count": 2,
   "id": "destroyed-coffee",
   "metadata": {
    "execution": {
     "iopub.execute_input": "2021-05-26T10:26:59.665312Z",
     "iopub.status.busy": "2021-05-26T10:26:59.654165Z",
     "iopub.status.idle": "2021-05-26T10:27:03.410514Z",
     "shell.execute_reply": "2021-05-26T10:27:03.409794Z",
     "shell.execute_reply.started": "2021-05-26T09:36:54.017081Z"
    },
    "papermill": {
     "duration": 3.776189,
     "end_time": "2021-05-26T10:27:03.410675",
     "exception": false,
     "start_time": "2021-05-26T10:26:59.634486",
     "status": "completed"
    },
    "tags": []
   },
   "outputs": [
    {
     "name": "stdout",
     "output_type": "stream",
     "text": [
      "Cloning into 'fairseq'...\r\n",
      "remote: Enumerating objects: 28101, done.\u001b[K\r\n",
      "remote: Counting objects: 100% (522/522), done.\u001b[K\r\n",
      "remote: Compressing objects: 100% (314/314), done.\u001b[K\r\n",
      "remote: Total 28101 (delta 254), reused 398 (delta 197), pack-reused 27579\u001b[K\r\n",
      "Receiving objects: 100% (28101/28101), 11.85 MiB | 16.43 MiB/s, done.\r\n",
      "Resolving deltas: 100% (21069/21069), done.\r\n"
     ]
    }
   ],
   "source": [
    "!git clone https://github.com/pytorch/fairseq/"
   ]
  },
  {
   "cell_type": "code",
   "execution_count": 3,
   "id": "present-fitting",
   "metadata": {
    "execution": {
     "iopub.execute_input": "2021-05-26T10:27:03.471329Z",
     "iopub.status.busy": "2021-05-26T10:27:03.470667Z",
     "iopub.status.idle": "2021-05-26T10:27:14.511309Z",
     "shell.execute_reply": "2021-05-26T10:27:14.510764Z",
     "shell.execute_reply.started": "2021-05-26T09:36:57.172301Z"
    },
    "papermill": {
     "duration": 11.07556,
     "end_time": "2021-05-26T10:27:14.511484",
     "exception": false,
     "start_time": "2021-05-26T10:27:03.435924",
     "status": "completed"
    },
    "tags": []
   },
   "outputs": [],
   "source": [
    "%%capture\n",
    "!pip install phonemizer"
   ]
  },
  {
   "cell_type": "code",
   "execution_count": 4,
   "id": "collective-pursuit",
   "metadata": {
    "execution": {
     "iopub.execute_input": "2021-05-26T10:27:14.568103Z",
     "iopub.status.busy": "2021-05-26T10:27:14.563305Z",
     "iopub.status.idle": "2021-05-26T10:27:20.539964Z",
     "shell.execute_reply": "2021-05-26T10:27:20.540437Z",
     "shell.execute_reply.started": "2021-05-26T09:38:00.401581Z"
    },
    "papermill": {
     "duration": 6.006007,
     "end_time": "2021-05-26T10:27:20.540620",
     "exception": false,
     "start_time": "2021-05-26T10:27:14.534613",
     "status": "completed"
    },
    "tags": []
   },
   "outputs": [],
   "source": [
    "%%capture\n",
    "!apt-get -y install espeak"
   ]
  },
  {
   "cell_type": "code",
   "execution_count": 5,
   "id": "suspended-radar",
   "metadata": {
    "execution": {
     "iopub.execute_input": "2021-05-26T10:27:20.591753Z",
     "iopub.status.busy": "2021-05-26T10:27:20.590780Z",
     "iopub.status.idle": "2021-05-26T10:27:20.593318Z",
     "shell.execute_reply": "2021-05-26T10:27:20.593790Z",
     "shell.execute_reply.started": "2021-05-26T09:39:24.374336Z"
    },
    "papermill": {
     "duration": 0.031141,
     "end_time": "2021-05-26T10:27:20.593961",
     "exception": false,
     "start_time": "2021-05-26T10:27:20.562820",
     "status": "completed"
    },
    "tags": []
   },
   "outputs": [],
   "source": [
    "import os\n",
    "os.environ['FAIRSEQ_ROOT'] = '/tmp/fairseq'"
   ]
  },
  {
   "cell_type": "code",
   "execution_count": 6,
   "id": "wired-vulnerability",
   "metadata": {
    "execution": {
     "iopub.execute_input": "2021-05-26T10:27:20.647092Z",
     "iopub.status.busy": "2021-05-26T10:27:20.646438Z",
     "iopub.status.idle": "2021-05-26T10:27:24.862270Z",
     "shell.execute_reply": "2021-05-26T10:27:24.861214Z",
     "shell.execute_reply.started": "2021-05-26T09:39:26.553494Z"
    },
    "papermill": {
     "duration": 4.246509,
     "end_time": "2021-05-26T10:27:24.862437",
     "exception": false,
     "start_time": "2021-05-26T10:27:20.615928",
     "status": "completed"
    },
    "tags": []
   },
   "outputs": [],
   "source": [
    "%%capture\n",
    "!apt-get -y install zsh"
   ]
  },
  {
   "cell_type": "markdown",
   "id": "recreational-first",
   "metadata": {
    "papermill": {
     "duration": 0.021691,
     "end_time": "2021-05-26T10:27:24.906543",
     "exception": false,
     "start_time": "2021-05-26T10:27:24.884852",
     "status": "completed"
    },
    "tags": []
   },
   "source": [
    "This is just my best guess at what the `.wrd` files contain"
   ]
  },
  {
   "cell_type": "code",
   "execution_count": 7,
   "id": "virgin-school",
   "metadata": {
    "execution": {
     "iopub.execute_input": "2021-05-26T10:27:24.967584Z",
     "iopub.status.busy": "2021-05-26T10:27:24.966671Z",
     "iopub.status.idle": "2021-05-26T10:27:27.236649Z",
     "shell.execute_reply": "2021-05-26T10:27:27.237271Z",
     "shell.execute_reply.started": "2021-05-26T09:50:56.568719Z"
    },
    "papermill": {
     "duration": 2.308937,
     "end_time": "2021-05-26T10:27:27.237489",
     "exception": false,
     "start_time": "2021-05-26T10:27:24.928552",
     "status": "completed"
    },
    "tags": []
   },
   "outputs": [],
   "source": [
    "!cat /kaggle/input/download-common-voice-swedish/cv-corpus-6.1-2020-12-11/sv-SE/test.tsv | awk -F'\\t' '{print $3}'|grep -v '^sentence$' | perl -C7 -ane 'chomp;$_=lc($_);s/[^\\p{L}\\p{N}\\p{M}'\"\\'\"' \\-]/ /g;s/  +/ /g;s/ $//;s/^ //;print \"$_\\n\";' > /kaggle/working/test.wrd\n",
    "!cat /kaggle/input/download-common-voice-swedish/cv-corpus-6.1-2020-12-11/sv-SE/dev.tsv | awk -F'\\t' '{print $3}'|grep -v '^sentence$' | perl -C7 -ane 'chomp;$_=lc($_);s/[^\\p{L}\\p{N}\\p{M}'\"\\'\"' \\-]/ /g;s/  +/ /g;s/ $//;s/^ //;print \"$_\\n\";' > /kaggle/working/valid.wrd\n",
    "!cat /kaggle/input/download-common-voice-swedish/cv-corpus-6.1-2020-12-11/sv-SE/train.tsv | awk -F'\\t' '{print $3}'|grep -v '^sentence$' | perl -C7 -ane 'chomp;$_=lc($_);s/[^\\p{L}\\p{N}\\p{M}'\"\\'\"' \\-]/ /g;s/  +/ /g;s/ $//;s/^ //;print \"$_\\n\";' > /kaggle/working/train.wrd\n"
   ]
  },
  {
   "cell_type": "code",
   "execution_count": 8,
   "id": "processed-favorite",
   "metadata": {
    "execution": {
     "iopub.execute_input": "2021-05-26T10:27:27.291007Z",
     "iopub.status.busy": "2021-05-26T10:27:27.289955Z",
     "iopub.status.idle": "2021-05-26T10:27:27.296299Z",
     "shell.execute_reply": "2021-05-26T10:27:27.295497Z",
     "shell.execute_reply.started": "2021-05-26T09:39:26.546818Z"
    },
    "papermill": {
     "duration": 0.035297,
     "end_time": "2021-05-26T10:27:27.296530",
     "exception": false,
     "start_time": "2021-05-26T10:27:27.261233",
     "status": "completed"
    },
    "tags": []
   },
   "outputs": [
    {
     "name": "stdout",
     "output_type": "stream",
     "text": [
      "/tmp/fairseq/examples/wav2vec/unsupervised/scripts\n"
     ]
    }
   ],
   "source": [
    "%cd fairseq/examples/wav2vec/unsupervised/scripts"
   ]
  },
  {
   "cell_type": "markdown",
   "id": "adolescent-aircraft",
   "metadata": {
    "papermill": {
     "duration": 0.024084,
     "end_time": "2021-05-26T10:27:27.345327",
     "exception": false,
     "start_time": "2021-05-26T10:27:27.321243",
     "status": "completed"
    },
    "tags": []
   },
   "source": [
    "This is probably completely wrong"
   ]
  },
  {
   "cell_type": "code",
   "execution_count": 9,
   "id": "acting-stanford",
   "metadata": {
    "execution": {
     "iopub.execute_input": "2021-05-26T10:27:27.402924Z",
     "iopub.status.busy": "2021-05-26T10:27:27.398857Z",
     "iopub.status.idle": "2021-05-26T10:27:28.538303Z",
     "shell.execute_reply": "2021-05-26T10:27:28.538812Z",
     "shell.execute_reply.started": "2021-05-26T09:52:43.847806Z"
    },
    "papermill": {
     "duration": 1.170103,
     "end_time": "2021-05-26T10:27:28.539008",
     "exception": false,
     "start_time": "2021-05-26T10:27:27.368905",
     "status": "completed"
    },
    "tags": []
   },
   "outputs": [],
   "source": [
    "!for i in train test valid; do cat /kaggle/working/$i.wrd | python wrd_to_ltr.py > /kaggle/working/$i.ltr;done"
   ]
  },
  {
   "cell_type": "code",
   "execution_count": 10,
   "id": "recorded-float",
   "metadata": {
    "execution": {
     "iopub.execute_input": "2021-05-26T10:27:28.588808Z",
     "iopub.status.busy": "2021-05-26T10:27:28.588001Z",
     "iopub.status.idle": "2021-05-26T10:27:29.352377Z",
     "shell.execute_reply": "2021-05-26T10:27:29.352961Z",
     "shell.execute_reply.started": "2021-05-26T09:53:12.053708Z"
    },
    "papermill": {
     "duration": 0.791191,
     "end_time": "2021-05-26T10:27:29.353160",
     "exception": false,
     "start_time": "2021-05-26T10:27:28.561969",
     "status": "completed"
    },
    "tags": []
   },
   "outputs": [
    {
     "name": "stdout",
     "output_type": "stream",
     "text": [
      "v a d | ä r | d e t | i | e u r o |\r\n",
      "d u | s k a | v e t a | a t t | d e t | ä r | d u | s o m | h a r | f e l |\r\n",
      "g å | n e r | p å | k n ä |\r\n",
      "f ö r s t | m å s t e | j a g | s l å | s ö n d e r | d e n | d ä r | s t o r a | s k r o t h ö g e n |\r\n",
      "d e t | b l i r | s v å r t |\r\n",
      "v a d | f ö r | j ä v l a | f r å g a | ä r | d e t |\r\n",
      "j a g | å t e r v ä n d e r | i n t e | t i l l | s k i t h å l e t |\r\n",
      "t i t t a | p å | s ö m m a r n a |\r\n",
      "f e s | d u | p r e c i s |\r\n",
      "a k t r i s e r | h a r | e t t | b ä s t | f ö r e d a t u m |\r\n"
     ]
    }
   ],
   "source": [
    "!head /kaggle/working/train.ltr"
   ]
  },
  {
   "cell_type": "code",
   "execution_count": 11,
   "id": "mysterious-mailman",
   "metadata": {
    "execution": {
     "iopub.execute_input": "2021-05-26T10:27:29.408862Z",
     "iopub.status.busy": "2021-05-26T10:27:29.408062Z",
     "iopub.status.idle": "2021-05-26T10:29:25.497529Z",
     "shell.execute_reply": "2021-05-26T10:29:25.496706Z",
     "shell.execute_reply.started": "2021-05-26T10:03:43.267937Z"
    },
    "papermill": {
     "duration": 116.121606,
     "end_time": "2021-05-26T10:29:25.497727",
     "exception": false,
     "start_time": "2021-05-26T10:27:29.376121",
     "status": "completed"
    },
    "tags": []
   },
   "outputs": [],
   "source": [
    "# | PHONEMIZER_ESPEAK_PATH=$(which espeak) phonemize -o $target_dir/phones.txt -p ' ' -w '' -l $ph_lg -j 70 --language-switch remove-flags\n",
    "!for i in train test valid; do cat /kaggle/working/$i.wrd | PHONEMIZER_ESPEAK_PATH=$(which espeak) phonemize -o /kaggle/working/$i.phn -p ' ' -w '' -l sv  -j 70 --language-switch remove-flags 2> /kaggle/working/$i.phn.err;done"
   ]
  },
  {
   "cell_type": "code",
   "execution_count": 12,
   "id": "oriental-acrobat",
   "metadata": {
    "execution": {
     "iopub.execute_input": "2021-05-26T10:29:25.558220Z",
     "iopub.status.busy": "2021-05-26T10:29:25.554174Z",
     "iopub.status.idle": "2021-05-26T10:29:26.337211Z",
     "shell.execute_reply": "2021-05-26T10:29:26.337805Z",
     "shell.execute_reply.started": "2021-05-26T10:09:32.146895Z"
    },
    "papermill": {
     "duration": 0.814909,
     "end_time": "2021-05-26T10:29:26.338023",
     "exception": false,
     "start_time": "2021-05-26T10:29:25.523114",
     "status": "completed"
    },
    "tags": []
   },
   "outputs": [
    {
     "name": "stdout",
     "output_type": "stream",
     "text": [
      "/kaggle/working/test.phn.err\r\n",
      "[WARNING] 1 utterances containing language switches on lines 81\r\n",
      "[WARNING] extra phones may appear in the \"sv\" phoneset\r\n",
      "[WARNING] language switch flags have been removed (applying \"remove-flags\" policy)\r\n",
      "/kaggle/working/train.phn.err\r\n",
      "[WARNING] 2 utterances containing language switches on lines 254, 1457\r\n",
      "[WARNING] extra phones may appear in the \"sv\" phoneset\r\n",
      "[WARNING] language switch flags have been removed (applying \"remove-flags\" policy)\r\n",
      "/kaggle/working/valid.phn.err\r\n",
      "[WARNING] 1 utterances containing language switches on lines 1831\r\n",
      "[WARNING] extra phones may appear in the \"sv\" phoneset\r\n",
      "[WARNING] language switch flags have been removed (applying \"remove-flags\" policy)\r\n"
     ]
    }
   ],
   "source": [
    "!for i in /kaggle/working/*.err;do echo $i; cat $i;done"
   ]
  },
  {
   "cell_type": "code",
   "execution_count": 13,
   "id": "hydraulic-metro",
   "metadata": {
    "execution": {
     "iopub.execute_input": "2021-05-26T10:29:26.403791Z",
     "iopub.status.busy": "2021-05-26T10:29:26.402871Z",
     "iopub.status.idle": "2021-05-26T10:29:28.710315Z",
     "shell.execute_reply": "2021-05-26T10:29:28.709485Z",
     "shell.execute_reply.started": "2021-05-26T10:14:15.138707Z"
    },
    "papermill": {
     "duration": 2.347464,
     "end_time": "2021-05-26T10:29:28.710485",
     "exception": false,
     "start_time": "2021-05-26T10:29:26.363021",
     "status": "completed"
    },
    "tags": []
   },
   "outputs": [
    {
     "name": "stdout",
     "output_type": "stream",
     "text": [
      "det är taskigt\r\n",
      "och så unik design\r\n",
      "internet slutade fungera\r\n",
      "det finns inget internet\r\n"
     ]
    }
   ],
   "source": [
    "!cat /kaggle/working/test.wrd|awk 'BEGIN{ln=1}{if(ln==81){print $0};ln++}'\n",
    "!cat /kaggle/working/train.wrd|awk 'BEGIN{ln=1}{if(ln==254||ln==1457){print $0};ln++}'\n",
    "!cat /kaggle/working/valid.wrd|awk 'BEGIN{ln=1}{if(ln==1831){print $0};ln++}'"
   ]
  },
  {
   "cell_type": "code",
   "execution_count": 14,
   "id": "north-nebraska",
   "metadata": {
    "execution": {
     "iopub.execute_input": "2021-05-26T10:29:28.776892Z",
     "iopub.status.busy": "2021-05-26T10:29:28.773209Z",
     "iopub.status.idle": "2021-05-26T10:29:31.043461Z",
     "shell.execute_reply": "2021-05-26T10:29:31.042806Z",
     "shell.execute_reply.started": "2021-05-26T10:15:19.869013Z"
    },
    "papermill": {
     "duration": 2.305582,
     "end_time": "2021-05-26T10:29:31.043639",
     "exception": false,
     "start_time": "2021-05-26T10:29:28.738057",
     "status": "completed"
    },
    "tags": []
   },
   "outputs": [
    {
     "name": "stdout",
     "output_type": "stream",
     "text": [
      "d eː t ɛː r  t a s k ɪ ɡ t  \r\n",
      "ɔ k s oː ɵ n iː k  d ɪ z aɪ n  \r\n",
      " ɪ n t ə n ɛ t  s l ʉ t a d ə f ɵ n ɡ eː r a \r\n",
      "d eː t f ɪ n s ɪ ŋ ə t  ɪ n t ə n ɛ t  \r\n"
     ]
    }
   ],
   "source": [
    "!cat /kaggle/working/test.phn|awk 'BEGIN{ln=1}{if(ln==81){print $0};ln++}'\n",
    "!cat /kaggle/working/train.phn|awk 'BEGIN{ln=1}{if(ln==254||ln==1457){print $0};ln++}'\n",
    "!cat /kaggle/working/valid.phn|awk 'BEGIN{ln=1}{if(ln==1831){print $0};ln++}'"
   ]
  },
  {
   "cell_type": "markdown",
   "id": "renewable-victory",
   "metadata": {
    "papermill": {
     "duration": 0.029932,
     "end_time": "2021-05-26T10:29:31.103525",
     "exception": false,
     "start_time": "2021-05-26T10:29:31.073593",
     "status": "completed"
    },
    "tags": []
   },
   "source": [
    "\"design\" and \"internet\" are clearly the English words that are causing the switch in their respective sentences, but I'm not sure what the problem in test.wrd is: \"taskigt\"?\n",
    "* [design](https://en.wiktionary.org/wiki/design#Swedish) `/dɛˈsajn/`\n",
    "* [internet](https://en.wiktionary.org/wiki/internet#Swedish) `/ˈɪntɛrnɛt/, /ɪntɛrˈnɛt/`"
   ]
  }
 ],
 "metadata": {
  "kernelspec": {
   "display_name": "Python 3",
   "language": "python",
   "name": "python3"
  },
  "language_info": {
   "codemirror_mode": {
    "name": "ipython",
    "version": 3
   },
   "file_extension": ".py",
   "mimetype": "text/x-python",
   "name": "python",
   "nbconvert_exporter": "python",
   "pygments_lexer": "ipython3",
   "version": "3.7.10"
  },
  "papermill": {
   "default_parameters": {},
   "duration": 161.930296,
   "end_time": "2021-05-26T10:29:32.787674",
   "environment_variables": {},
   "exception": null,
   "input_path": "__notebook__.ipynb",
   "output_path": "__notebook__.ipynb",
   "parameters": {},
   "start_time": "2021-05-26T10:26:50.857378",
   "version": "2.3.3"
  }
 },
 "nbformat": 4,
 "nbformat_minor": 5
}
