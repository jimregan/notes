{
 "cells": [
  {
   "cell_type": "markdown",
   "id": "cooked-carter",
   "metadata": {
    "papermill": {
     "duration": 0.010341,
     "end_time": "2021-05-26T12:57:47.893374",
     "exception": false,
     "start_time": "2021-05-26T12:57:47.883033",
     "status": "completed"
    },
    "tags": []
   },
   "source": [
    "In the section [Preparation of speech and text data](https://github.com/pytorch/fairseq/tree/master/examples/wav2vec/unsupervised#preparation-of-speech-and-text-data) of the readme, it says:\n",
    "\n",
    "> Similar to [wav2vec 2.0](https://github.com/pytorch/fairseq/blob/master/examples/wav2vec/README.md),  data folders contain {train,valid,test}.{tsv,wrd,phn} files, where audio paths are stored in tsv files, and word, letter or phoneme transcriptions are stored in .{wrd,ltr,phn}.\n",
    "\n",
    "The `.wrd` and `.ltr` files are outputs of `libri_labels.py`"
   ]
  },
  {
   "cell_type": "code",
   "execution_count": 1,
   "id": "varying-privilege",
   "metadata": {
    "execution": {
     "iopub.execute_input": "2021-05-26T12:57:47.918410Z",
     "iopub.status.busy": "2021-05-26T12:57:47.916818Z",
     "iopub.status.idle": "2021-05-26T12:57:58.599405Z",
     "shell.execute_reply": "2021-05-26T12:57:58.599883Z",
     "shell.execute_reply.started": "2021-05-26T12:15:49.572241Z"
    },
    "papermill": {
     "duration": 10.69692,
     "end_time": "2021-05-26T12:57:58.600150",
     "exception": false,
     "start_time": "2021-05-26T12:57:47.903230",
     "status": "completed"
    },
    "tags": []
   },
   "outputs": [],
   "source": [
    "%%capture\n",
    "!pip install phonemizer"
   ]
  },
  {
   "cell_type": "code",
   "execution_count": 2,
   "id": "featured-sally",
   "metadata": {
    "execution": {
     "iopub.execute_input": "2021-05-26T12:57:58.622750Z",
     "iopub.status.busy": "2021-05-26T12:57:58.622162Z",
     "iopub.status.idle": "2021-05-26T12:58:06.590350Z",
     "shell.execute_reply": "2021-05-26T12:58:06.589886Z",
     "shell.execute_reply.started": "2021-05-26T12:16:00.191624Z"
    },
    "papermill": {
     "duration": 7.980431,
     "end_time": "2021-05-26T12:58:06.590488",
     "exception": false,
     "start_time": "2021-05-26T12:57:58.610057",
     "status": "completed"
    },
    "tags": []
   },
   "outputs": [],
   "source": [
    "%%capture\n",
    "!apt-get -y install espeak"
   ]
  },
  {
   "cell_type": "code",
   "execution_count": 3,
   "id": "thirty-third",
   "metadata": {
    "execution": {
     "iopub.execute_input": "2021-05-26T12:58:06.617607Z",
     "iopub.status.busy": "2021-05-26T12:58:06.616491Z",
     "iopub.status.idle": "2021-05-26T12:58:13.027586Z",
     "shell.execute_reply": "2021-05-26T12:58:13.027006Z",
     "shell.execute_reply.started": "2021-05-26T12:16:07.537282Z"
    },
    "papermill": {
     "duration": 6.427316,
     "end_time": "2021-05-26T12:58:13.027729",
     "exception": false,
     "start_time": "2021-05-26T12:58:06.600413",
     "status": "completed"
    },
    "tags": []
   },
   "outputs": [],
   "source": [
    "%%capture\n",
    "!apt-get -y install zsh"
   ]
  },
  {
   "cell_type": "markdown",
   "id": "cheap-acrobat",
   "metadata": {
    "papermill": {
     "duration": 0.009441,
     "end_time": "2021-05-26T12:58:13.046925",
     "exception": false,
     "start_time": "2021-05-26T12:58:13.037484",
     "status": "completed"
    },
    "tags": []
   },
   "source": [
    "This is just my best guess at what the `.wrd` files contain - it seems to match up with what `libri_labels.py` does: given input like\n",
    "```\n",
    "1272-128104-0000 MISTER QUILTER IS THE APOSTLE OF THE MIDDLE CLASSES AND WE ARE GLAD TO WELCOME HIS GOSPEL\n",
    "```\n",
    "it does `\" \".join(items[1:])`, which is basically the same"
   ]
  },
  {
   "cell_type": "code",
   "execution_count": 4,
   "id": "linear-token",
   "metadata": {
    "execution": {
     "iopub.execute_input": "2021-05-26T12:58:13.075283Z",
     "iopub.status.busy": "2021-05-26T12:58:13.074666Z",
     "iopub.status.idle": "2021-05-26T12:58:15.339393Z",
     "shell.execute_reply": "2021-05-26T12:58:15.339807Z",
     "shell.execute_reply.started": "2021-05-26T12:16:13.522788Z"
    },
    "papermill": {
     "duration": 2.28348,
     "end_time": "2021-05-26T12:58:15.339978",
     "exception": false,
     "start_time": "2021-05-26T12:58:13.056498",
     "status": "completed"
    },
    "tags": []
   },
   "outputs": [],
   "source": [
    "!cat /kaggle/input/download-common-voice-swedish/cv-corpus-6.1-2020-12-11/sv-SE/test.tsv | awk -F'\\t' '{print $3}'|grep -v '^sentence$' | perl -C7 -ane 'chomp;$_=lc($_);s/[^\\p{L}\\p{N}\\p{M}'\"\\'\"' \\-]/ /g;s/  +/ /g;s/ $//;s/^ //;print \"$_\\n\";' > test.wrd\n",
    "!cat /kaggle/input/download-common-voice-swedish/cv-corpus-6.1-2020-12-11/sv-SE/dev.tsv | awk -F'\\t' '{print $3}'|grep -v '^sentence$' | perl -C7 -ane 'chomp;$_=lc($_);s/[^\\p{L}\\p{N}\\p{M}'\"\\'\"' \\-]/ /g;s/  +/ /g;s/ $//;s/^ //;print \"$_\\n\";' > valid.wrd\n",
    "!cat /kaggle/input/download-common-voice-swedish/cv-corpus-6.1-2020-12-11/sv-SE/train.tsv | awk -F'\\t' '{print $3}'|grep -v '^sentence$' | perl -C7 -ane 'chomp;$_=lc($_);s/[^\\p{L}\\p{N}\\p{M}'\"\\'\"' \\-]/ /g;s/  +/ /g;s/ $//;s/^ //;print \"$_\\n\";' > train.wrd\n"
   ]
  },
  {
   "cell_type": "code",
   "execution_count": 5,
   "id": "human-pioneer",
   "metadata": {
    "execution": {
     "iopub.execute_input": "2021-05-26T12:58:15.365366Z",
     "iopub.status.busy": "2021-05-26T12:58:15.364502Z",
     "iopub.status.idle": "2021-05-26T12:58:15.382737Z",
     "shell.execute_reply": "2021-05-26T12:58:15.382157Z",
     "shell.execute_reply.started": "2021-05-26T12:17:09.299107Z"
    },
    "papermill": {
     "duration": 0.033268,
     "end_time": "2021-05-26T12:58:15.382871",
     "exception": false,
     "start_time": "2021-05-26T12:58:15.349603",
     "status": "completed"
    },
    "tags": []
   },
   "outputs": [],
   "source": [
    "for i in ['train', 'test', 'valid']:\n",
    "    with open(f'/kaggle/working/{i}.wrd', 'r') as inf, open(f'/kaggle/working/{i}.ltr', 'w') as out:\n",
    "        for line in inf.readlines():\n",
    "            print(\" \".join(list(line.strip().replace(\" \", \"|\"))) + \" |\", file=out)"
   ]
  },
  {
   "cell_type": "code",
   "execution_count": 6,
   "id": "genetic-bangkok",
   "metadata": {
    "execution": {
     "iopub.execute_input": "2021-05-26T12:58:15.409966Z",
     "iopub.status.busy": "2021-05-26T12:58:15.406759Z",
     "iopub.status.idle": "2021-05-26T12:58:16.128844Z",
     "shell.execute_reply": "2021-05-26T12:58:16.128221Z",
     "shell.execute_reply.started": "2021-05-26T12:17:12.181059Z"
    },
    "papermill": {
     "duration": 0.736188,
     "end_time": "2021-05-26T12:58:16.128977",
     "exception": false,
     "start_time": "2021-05-26T12:58:15.392789",
     "status": "completed"
    },
    "tags": []
   },
   "outputs": [
    {
     "name": "stdout",
     "output_type": "stream",
     "text": [
      "v a d | ä r | d e t | i | e u r o |\r\n",
      "d u | s k a | v e t a | a t t | d e t | ä r | d u | s o m | h a r | f e l |\r\n",
      "g å | n e r | p å | k n ä |\r\n",
      "f ö r s t | m å s t e | j a g | s l å | s ö n d e r | d e n | d ä r | s t o r a | s k r o t h ö g e n |\r\n",
      "d e t | b l i r | s v å r t |\r\n",
      "v a d | f ö r | j ä v l a | f r å g a | ä r | d e t |\r\n",
      "j a g | å t e r v ä n d e r | i n t e | t i l l | s k i t h å l e t |\r\n",
      "t i t t a | p å | s ö m m a r n a |\r\n",
      "f e s | d u | p r e c i s |\r\n",
      "a k t r i s e r | h a r | e t t | b ä s t | f ö r e d a t u m |\r\n"
     ]
    }
   ],
   "source": [
    "!head train.ltr"
   ]
  },
  {
   "cell_type": "markdown",
   "id": "hindu-dating",
   "metadata": {
    "papermill": {
     "duration": 0.009686,
     "end_time": "2021-05-26T12:58:16.149466",
     "exception": false,
     "start_time": "2021-05-26T12:58:16.139780",
     "status": "completed"
    },
    "tags": []
   },
   "source": [
    "There are some warnings about switching, so echo the filename first to known where the errors are"
   ]
  },
  {
   "cell_type": "code",
   "execution_count": 7,
   "id": "exotic-offset",
   "metadata": {
    "execution": {
     "iopub.execute_input": "2021-05-26T12:58:16.178237Z",
     "iopub.status.busy": "2021-05-26T12:58:16.174850Z",
     "iopub.status.idle": "2021-05-26T12:59:51.703296Z",
     "shell.execute_reply": "2021-05-26T12:59:51.702708Z",
     "shell.execute_reply.started": "2021-05-26T10:03:43.267937Z"
    },
    "papermill": {
     "duration": 95.5435,
     "end_time": "2021-05-26T12:59:51.703435",
     "exception": false,
     "start_time": "2021-05-26T12:58:16.159935",
     "status": "completed"
    },
    "tags": []
   },
   "outputs": [
    {
     "name": "stdout",
     "output_type": "stream",
     "text": [
      "train.wrd\r\n",
      "[WARNING] 2 utterances containing language switches on lines 254, 1457\r\n",
      "[WARNING] extra phones may appear in the \"sv\" phoneset\r\n",
      "[WARNING] language switch flags have been removed (applying \"remove-flags\" policy)\r\n",
      "test.wrd\r\n",
      "[WARNING] 1 utterances containing language switches on lines 81\r\n",
      "[WARNING] extra phones may appear in the \"sv\" phoneset\r\n",
      "[WARNING] language switch flags have been removed (applying \"remove-flags\" policy)\r\n",
      "valid.wrd\r\n",
      "[WARNING] 1 utterances containing language switches on lines 1831\r\n",
      "[WARNING] extra phones may appear in the \"sv\" phoneset\r\n",
      "[WARNING] language switch flags have been removed (applying \"remove-flags\" policy)\r\n"
     ]
    }
   ],
   "source": [
    "!for i in train test valid; do echo $i.wrd; cat $i.wrd | PHONEMIZER_ESPEAK_PATH=$(which espeak) phonemize -o $i.phn -p ' ' -w '' -l sv  -j 70 --language-switch remove-flags ;done"
   ]
  },
  {
   "cell_type": "code",
   "execution_count": 8,
   "id": "wanted-usage",
   "metadata": {
    "execution": {
     "iopub.execute_input": "2021-05-26T12:59:51.737253Z",
     "iopub.status.busy": "2021-05-26T12:59:51.736578Z",
     "iopub.status.idle": "2021-05-26T12:59:53.924316Z",
     "shell.execute_reply": "2021-05-26T12:59:53.923112Z",
     "shell.execute_reply.started": "2021-05-26T10:14:15.138707Z"
    },
    "papermill": {
     "duration": 2.207951,
     "end_time": "2021-05-26T12:59:53.924503",
     "exception": false,
     "start_time": "2021-05-26T12:59:51.716552",
     "status": "completed"
    },
    "tags": []
   },
   "outputs": [
    {
     "name": "stdout",
     "output_type": "stream",
     "text": [
      "det är taskigt\r\n",
      "och så unik design\r\n",
      "internet slutade fungera\r\n",
      "det finns inget internet\r\n"
     ]
    }
   ],
   "source": [
    "!cat test.wrd|awk 'BEGIN{ln=1}{if(ln==81){print $0};ln++}'\n",
    "!cat train.wrd|awk 'BEGIN{ln=1}{if(ln==254||ln==1457){print $0};ln++}'\n",
    "!cat valid.wrd|awk 'BEGIN{ln=1}{if(ln==1831){print $0};ln++}'"
   ]
  },
  {
   "cell_type": "code",
   "execution_count": 9,
   "id": "special-composition",
   "metadata": {
    "execution": {
     "iopub.execute_input": "2021-05-26T12:59:53.961484Z",
     "iopub.status.busy": "2021-05-26T12:59:53.960565Z",
     "iopub.status.idle": "2021-05-26T12:59:56.112876Z",
     "shell.execute_reply": "2021-05-26T12:59:56.112397Z",
     "shell.execute_reply.started": "2021-05-26T10:15:19.869013Z"
    },
    "papermill": {
     "duration": 2.170103,
     "end_time": "2021-05-26T12:59:56.113010",
     "exception": false,
     "start_time": "2021-05-26T12:59:53.942907",
     "status": "completed"
    },
    "tags": []
   },
   "outputs": [
    {
     "name": "stdout",
     "output_type": "stream",
     "text": [
      "d eː t ɛː r  t a s k ɪ ɡ t  \r\n",
      "ɔ k s oː ɵ n iː k  d ɪ z aɪ n  \r\n",
      " ɪ n t ə n ɛ t  s l ʉ t a d ə f ɵ n ɡ eː r a \r\n",
      "d eː t f ɪ n s ɪ ŋ ə t  ɪ n t ə n ɛ t  \r\n"
     ]
    }
   ],
   "source": [
    "!cat test.phn|awk 'BEGIN{ln=1}{if(ln==81){print $0};ln++}'\n",
    "!cat train.phn|awk 'BEGIN{ln=1}{if(ln==254||ln==1457){print $0};ln++}'\n",
    "!cat valid.phn|awk 'BEGIN{ln=1}{if(ln==1831){print $0};ln++}'"
   ]
  },
  {
   "cell_type": "markdown",
   "id": "front-enterprise",
   "metadata": {
    "papermill": {
     "duration": 0.01248,
     "end_time": "2021-05-26T12:59:56.138143",
     "exception": false,
     "start_time": "2021-05-26T12:59:56.125663",
     "status": "completed"
    },
    "tags": []
   },
   "source": [
    "\"design\" and \"internet\" are clearly the English words that are causing the switch in their respective sentences, but I'm not sure what the problem in test.wrd is: \"taskigt\"?\n",
    "* [design](https://en.wiktionary.org/wiki/design#Swedish) `/dɛˈsajn/`\n",
    "* [internet](https://en.wiktionary.org/wiki/internet#Swedish) `/ˈɪntɛrnɛt/, /ɪntɛrˈnɛt/`"
   ]
  },
  {
   "cell_type": "code",
   "execution_count": 10,
   "id": "formed-hormone",
   "metadata": {
    "execution": {
     "iopub.execute_input": "2021-05-26T12:59:56.172232Z",
     "iopub.status.busy": "2021-05-26T12:59:56.171595Z",
     "iopub.status.idle": "2021-05-26T12:59:56.943396Z",
     "shell.execute_reply": "2021-05-26T12:59:56.942857Z",
     "shell.execute_reply.started": "2021-05-26T10:58:28.963048Z"
    },
    "papermill": {
     "duration": 0.792718,
     "end_time": "2021-05-26T12:59:56.943528",
     "exception": false,
     "start_time": "2021-05-26T12:59:56.150810",
     "status": "completed"
    },
    "tags": []
   },
   "outputs": [
    {
     "name": "stdout",
     "output_type": "stream",
     "text": [
      " (en)tˈaskɪɡt(sv)\r\n"
     ]
    }
   ],
   "source": [
    "!echo taskigt|espeak -v sv --ipa 2> /dev/null"
   ]
  },
  {
   "cell_type": "code",
   "execution_count": 11,
   "id": "interior-luxembourg",
   "metadata": {
    "execution": {
     "iopub.execute_input": "2021-05-26T12:59:56.980721Z",
     "iopub.status.busy": "2021-05-26T12:59:56.977722Z",
     "iopub.status.idle": "2021-05-26T13:00:01.291805Z",
     "shell.execute_reply": "2021-05-26T13:00:01.291134Z"
    },
    "papermill": {
     "duration": 4.335541,
     "end_time": "2021-05-26T13:00:01.291939",
     "exception": false,
     "start_time": "2021-05-26T12:59:56.956398",
     "status": "completed"
    },
    "tags": []
   },
   "outputs": [],
   "source": [
    "!cat test.phn|sed -e 's/^ //;s/t a s k ɪ ɡ t/t a s k ɪ t/' > tmp\n",
    "!mv tmp test.phn\n",
    "!cat train.phn|sed -e 's/^ //;s/d ɪ z aɪ n/d ɛ s a j n/;s/ɪ n t ə n ɛ t/ɪ n t ɛ r n ɛ t/' > tmp\n",
    "!mv tmp train.phn\n",
    "!cat valid.phn|sed -e 's/^ //;s/ɪ n t ə n ɛ t/ɪ n t ɛ r n ɛ t/' > tmp\n",
    "!mv tmp valid.phn"
   ]
  },
  {
   "cell_type": "code",
   "execution_count": 12,
   "id": "unique-genome",
   "metadata": {
    "execution": {
     "iopub.execute_input": "2021-05-26T13:00:01.330325Z",
     "iopub.status.busy": "2021-05-26T13:00:01.329699Z",
     "iopub.status.idle": "2021-05-26T13:01:42.105849Z",
     "shell.execute_reply": "2021-05-26T13:01:42.106283Z"
    },
    "papermill": {
     "duration": 100.801597,
     "end_time": "2021-05-26T13:01:42.106484",
     "exception": false,
     "start_time": "2021-05-26T13:00:01.304887",
     "status": "completed"
    },
    "tags": []
   },
   "outputs": [],
   "source": [
    "!for i in train test valid; do cat $i.wrd|tr ' ' '\\n'|sort|uniq |grep -v '^internet$'|grep -v '^design$'|grep -v '^taskigt$' > /tmp/$i.wl; cat /tmp/$i.wl | PHONEMIZER_ESPEAK_PATH=$(which espeak) phonemize -o /tmp/$i.wl.phn -p ' ' -w '' -l sv  -j 70 --language-switch remove-flags;paste /tmp/$i.wl /tmp/$i.wl.phn > dict.$i; done\n",
    "!printf \"taskigt\\tt a s k ɪ t\\n\" >> dict.test\n",
    "!printf \"design\\td ɛ s a j n\\n\" >> dict.train\n",
    "!printf \"internet\\tɪ n t ɛ r n ɛ t\\n\" >> dict.train\n",
    "!printf \"internet\\tɪ n t ɛ r n ɛ t\\n\" >> dict.valid"
   ]
  },
  {
   "cell_type": "code",
   "execution_count": 13,
   "id": "numeric-ambassador",
   "metadata": {
    "execution": {
     "iopub.execute_input": "2021-05-26T13:01:42.136095Z",
     "iopub.status.busy": "2021-05-26T13:01:42.135527Z",
     "iopub.status.idle": "2021-05-26T13:01:42.885517Z",
     "shell.execute_reply": "2021-05-26T13:01:42.885068Z"
    },
    "papermill": {
     "duration": 0.76582,
     "end_time": "2021-05-26T13:01:42.885678",
     "exception": false,
     "start_time": "2021-05-26T13:01:42.119858",
     "status": "completed"
    },
    "tags": []
   },
   "outputs": [
    {
     "name": "stdout",
     "output_type": "stream",
     "text": [
      "cat: valid: No such file or directory\r\n"
     ]
    }
   ],
   "source": [
    "!for i in dict.*;do cat $i |sort > tmp;mv tmp $i;done"
   ]
  },
  {
   "cell_type": "markdown",
   "id": "official-tackle",
   "metadata": {
    "papermill": {
     "duration": 0.013241,
     "end_time": "2021-05-26T13:01:42.912428",
     "exception": false,
     "start_time": "2021-05-26T13:01:42.899187",
     "status": "completed"
    },
    "tags": []
   },
   "source": [
    "*taskigt: `/taskɪkt/`"
   ]
  }
 ],
 "metadata": {
  "kernelspec": {
   "display_name": "Python 3",
   "language": "python",
   "name": "python3"
  },
  "language_info": {
   "codemirror_mode": {
    "name": "ipython",
    "version": 3
   },
   "file_extension": ".py",
   "mimetype": "text/x-python",
   "name": "python",
   "nbconvert_exporter": "python",
   "pygments_lexer": "ipython3",
   "version": "3.7.10"
  },
  "papermill": {
   "default_parameters": {},
   "duration": 242.701228,
   "end_time": "2021-05-26T13:01:43.636708",
   "environment_variables": {},
   "exception": null,
   "input_path": "__notebook__.ipynb",
   "output_path": "__notebook__.ipynb",
   "parameters": {},
   "start_time": "2021-05-26T12:57:40.935480",
   "version": "2.3.3"
  }
 },
 "nbformat": 4,
 "nbformat_minor": 5
}
