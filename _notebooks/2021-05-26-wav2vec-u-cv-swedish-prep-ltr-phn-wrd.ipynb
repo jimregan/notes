{
 "cells": [
  {
   "cell_type": "markdown",
   "id": "involved-southeast",
   "metadata": {
    "papermill": {
     "duration": 0.015908,
     "end_time": "2021-05-26T12:52:28.502408",
     "exception": false,
     "start_time": "2021-05-26T12:52:28.486500",
     "status": "completed"
    },
    "tags": []
   },
   "source": [
    "In the section [Preparation of speech and text data](https://github.com/pytorch/fairseq/tree/master/examples/wav2vec/unsupervised#preparation-of-speech-and-text-data) of the readme, it says:\n",
    "\n",
    "> Similar to [wav2vec 2.0](https://github.com/pytorch/fairseq/blob/master/examples/wav2vec/README.md),  data folders contain {train,valid,test}.{tsv,wrd,phn} files, where audio paths are stored in tsv files, and word, letter or phoneme transcriptions are stored in .{wrd,ltr,phn}.\n",
    "\n",
    "The `.wrd` and `.ltr` files are outputs of `libri_labels.py`"
   ]
  },
  {
   "cell_type": "code",
   "execution_count": 1,
   "id": "taken-trout",
   "metadata": {
    "execution": {
     "iopub.execute_input": "2021-05-26T12:52:28.557936Z",
     "iopub.status.busy": "2021-05-26T12:52:28.545452Z",
     "iopub.status.idle": "2021-05-26T12:52:38.836375Z",
     "shell.execute_reply": "2021-05-26T12:52:38.835267Z",
     "shell.execute_reply.started": "2021-05-26T12:15:49.572241Z"
    },
    "papermill": {
     "duration": 10.318745,
     "end_time": "2021-05-26T12:52:38.836542",
     "exception": false,
     "start_time": "2021-05-26T12:52:28.517797",
     "status": "completed"
    },
    "tags": []
   },
   "outputs": [],
   "source": [
    "%%capture\n",
    "!pip install phonemizer"
   ]
  },
  {
   "cell_type": "code",
   "execution_count": 2,
   "id": "later-processing",
   "metadata": {
    "execution": {
     "iopub.execute_input": "2021-05-26T12:52:38.869785Z",
     "iopub.status.busy": "2021-05-26T12:52:38.868849Z",
     "iopub.status.idle": "2021-05-26T12:52:44.439707Z",
     "shell.execute_reply": "2021-05-26T12:52:44.438596Z",
     "shell.execute_reply.started": "2021-05-26T12:16:00.191624Z"
    },
    "papermill": {
     "duration": 5.589968,
     "end_time": "2021-05-26T12:52:44.439856",
     "exception": false,
     "start_time": "2021-05-26T12:52:38.849888",
     "status": "completed"
    },
    "tags": []
   },
   "outputs": [],
   "source": [
    "%%capture\n",
    "!apt-get -y install espeak"
   ]
  },
  {
   "cell_type": "code",
   "execution_count": 3,
   "id": "funded-bleeding",
   "metadata": {
    "execution": {
     "iopub.execute_input": "2021-05-26T12:52:44.474266Z",
     "iopub.status.busy": "2021-05-26T12:52:44.473589Z",
     "iopub.status.idle": "2021-05-26T12:52:48.566199Z",
     "shell.execute_reply": "2021-05-26T12:52:48.565670Z",
     "shell.execute_reply.started": "2021-05-26T12:16:07.537282Z"
    },
    "papermill": {
     "duration": 4.112854,
     "end_time": "2021-05-26T12:52:48.566359",
     "exception": false,
     "start_time": "2021-05-26T12:52:44.453505",
     "status": "completed"
    },
    "tags": []
   },
   "outputs": [],
   "source": [
    "%%capture\n",
    "!apt-get -y install zsh"
   ]
  },
  {
   "cell_type": "markdown",
   "id": "compound-helicopter",
   "metadata": {
    "papermill": {
     "duration": 0.012929,
     "end_time": "2021-05-26T12:52:48.592880",
     "exception": false,
     "start_time": "2021-05-26T12:52:48.579951",
     "status": "completed"
    },
    "tags": []
   },
   "source": [
    "This is just my best guess at what the `.wrd` files contain - it seems to match up with what `libri_labels.py` does: given input like\n",
    "```\n",
    "1272-128104-0000 MISTER QUILTER IS THE APOSTLE OF THE MIDDLE CLASSES AND WE ARE GLAD TO WELCOME HIS GOSPEL\n",
    "```\n",
    "it does `\" \".join(items[1:])`, which is basically the same"
   ]
  },
  {
   "cell_type": "code",
   "execution_count": 4,
   "id": "surgical-print",
   "metadata": {
    "execution": {
     "iopub.execute_input": "2021-05-26T12:52:48.625179Z",
     "iopub.status.busy": "2021-05-26T12:52:48.624578Z",
     "iopub.status.idle": "2021-05-26T12:52:50.874828Z",
     "shell.execute_reply": "2021-05-26T12:52:50.873809Z",
     "shell.execute_reply.started": "2021-05-26T12:16:13.522788Z"
    },
    "papermill": {
     "duration": 2.268867,
     "end_time": "2021-05-26T12:52:50.874980",
     "exception": false,
     "start_time": "2021-05-26T12:52:48.606113",
     "status": "completed"
    },
    "tags": []
   },
   "outputs": [],
   "source": [
    "!cat /kaggle/input/download-common-voice-swedish/cv-corpus-6.1-2020-12-11/sv-SE/test.tsv | awk -F'\\t' '{print $3}'|grep -v '^sentence$' | perl -C7 -ane 'chomp;$_=lc($_);s/[^\\p{L}\\p{N}\\p{M}'\"\\'\"' \\-]/ /g;s/  +/ /g;s/ $//;s/^ //;print \"$_\\n\";' > test.wrd\n",
    "!cat /kaggle/input/download-common-voice-swedish/cv-corpus-6.1-2020-12-11/sv-SE/dev.tsv | awk -F'\\t' '{print $3}'|grep -v '^sentence$' | perl -C7 -ane 'chomp;$_=lc($_);s/[^\\p{L}\\p{N}\\p{M}'\"\\'\"' \\-]/ /g;s/  +/ /g;s/ $//;s/^ //;print \"$_\\n\";' > valid.wrd\n",
    "!cat /kaggle/input/download-common-voice-swedish/cv-corpus-6.1-2020-12-11/sv-SE/train.tsv | awk -F'\\t' '{print $3}'|grep -v '^sentence$' | perl -C7 -ane 'chomp;$_=lc($_);s/[^\\p{L}\\p{N}\\p{M}'\"\\'\"' \\-]/ /g;s/  +/ /g;s/ $//;s/^ //;print \"$_\\n\";' > train.wrd\n"
   ]
  },
  {
   "cell_type": "code",
   "execution_count": 5,
   "id": "excessive-design",
   "metadata": {
    "execution": {
     "iopub.execute_input": "2021-05-26T12:52:50.908536Z",
     "iopub.status.busy": "2021-05-26T12:52:50.907565Z",
     "iopub.status.idle": "2021-05-26T12:52:50.932324Z",
     "shell.execute_reply": "2021-05-26T12:52:50.931711Z",
     "shell.execute_reply.started": "2021-05-26T12:17:09.299107Z"
    },
    "papermill": {
     "duration": 0.044106,
     "end_time": "2021-05-26T12:52:50.932465",
     "exception": false,
     "start_time": "2021-05-26T12:52:50.888359",
     "status": "completed"
    },
    "tags": []
   },
   "outputs": [],
   "source": [
    "for i in ['train', 'test', 'valid']:\n",
    "    with open(f'/kaggle/working/{i}.wrd', 'r') as inf, open(f'/kaggle/working/{i}.ltr', 'w') as out:\n",
    "        for line in inf.readlines():\n",
    "            print(\" \".join(list(line.strip().replace(\" \", \"|\"))) + \" |\", file=out)"
   ]
  },
  {
   "cell_type": "code",
   "execution_count": 6,
   "id": "third-return",
   "metadata": {
    "execution": {
     "iopub.execute_input": "2021-05-26T12:52:50.967844Z",
     "iopub.status.busy": "2021-05-26T12:52:50.967040Z",
     "iopub.status.idle": "2021-05-26T12:52:51.689184Z",
     "shell.execute_reply": "2021-05-26T12:52:51.688521Z",
     "shell.execute_reply.started": "2021-05-26T12:17:12.181059Z"
    },
    "papermill": {
     "duration": 0.743485,
     "end_time": "2021-05-26T12:52:51.689351",
     "exception": false,
     "start_time": "2021-05-26T12:52:50.945866",
     "status": "completed"
    },
    "tags": []
   },
   "outputs": [
    {
     "name": "stdout",
     "output_type": "stream",
     "text": [
      "v a d | ä r | d e t | i | e u r o |\r\n",
      "d u | s k a | v e t a | a t t | d e t | ä r | d u | s o m | h a r | f e l |\r\n",
      "g å | n e r | p å | k n ä |\r\n",
      "f ö r s t | m å s t e | j a g | s l å | s ö n d e r | d e n | d ä r | s t o r a | s k r o t h ö g e n |\r\n",
      "d e t | b l i r | s v å r t |\r\n",
      "v a d | f ö r | j ä v l a | f r å g a | ä r | d e t |\r\n",
      "j a g | å t e r v ä n d e r | i n t e | t i l l | s k i t h å l e t |\r\n",
      "t i t t a | p å | s ö m m a r n a |\r\n",
      "f e s | d u | p r e c i s |\r\n",
      "a k t r i s e r | h a r | e t t | b ä s t | f ö r e d a t u m |\r\n"
     ]
    }
   ],
   "source": [
    "!head train.ltr"
   ]
  },
  {
   "cell_type": "markdown",
   "id": "continued-duplicate",
   "metadata": {
    "papermill": {
     "duration": 0.014034,
     "end_time": "2021-05-26T12:52:51.717740",
     "exception": false,
     "start_time": "2021-05-26T12:52:51.703706",
     "status": "completed"
    },
    "tags": []
   },
   "source": [
    "There are some warnings about switching, so echo the filename first to known where the errors are"
   ]
  },
  {
   "cell_type": "code",
   "execution_count": 7,
   "id": "pretty-parking",
   "metadata": {
    "execution": {
     "iopub.execute_input": "2021-05-26T12:52:51.755660Z",
     "iopub.status.busy": "2021-05-26T12:52:51.751782Z",
     "iopub.status.idle": "2021-05-26T12:54:37.546920Z",
     "shell.execute_reply": "2021-05-26T12:54:37.546183Z",
     "shell.execute_reply.started": "2021-05-26T10:03:43.267937Z"
    },
    "papermill": {
     "duration": 105.815075,
     "end_time": "2021-05-26T12:54:37.547076",
     "exception": false,
     "start_time": "2021-05-26T12:52:51.732001",
     "status": "completed"
    },
    "tags": []
   },
   "outputs": [
    {
     "name": "stdout",
     "output_type": "stream",
     "text": [
      "train.wrd\r\n",
      "[WARNING] 2 utterances containing language switches on lines 254, 1457\r\n",
      "[WARNING] extra phones may appear in the \"sv\" phoneset\r\n",
      "[WARNING] language switch flags have been removed (applying \"remove-flags\" policy)\r\n",
      "test.wrd\r\n",
      "[WARNING] 1 utterances containing language switches on lines 81\r\n",
      "[WARNING] extra phones may appear in the \"sv\" phoneset\r\n",
      "[WARNING] language switch flags have been removed (applying \"remove-flags\" policy)\r\n",
      "valid.wrd\r\n",
      "[WARNING] 1 utterances containing language switches on lines 1831\r\n",
      "[WARNING] extra phones may appear in the \"sv\" phoneset\r\n",
      "[WARNING] language switch flags have been removed (applying \"remove-flags\" policy)\r\n"
     ]
    }
   ],
   "source": [
    "!for i in train test valid; do echo $i.wrd; cat $i.wrd | PHONEMIZER_ESPEAK_PATH=$(which espeak) phonemize -o $i.phn -p ' ' -w '' -l sv  -j 70 --language-switch remove-flags ;done"
   ]
  },
  {
   "cell_type": "code",
   "execution_count": 8,
   "id": "informational-pricing",
   "metadata": {
    "execution": {
     "iopub.execute_input": "2021-05-26T12:54:37.586482Z",
     "iopub.status.busy": "2021-05-26T12:54:37.585823Z",
     "iopub.status.idle": "2021-05-26T12:54:39.725074Z",
     "shell.execute_reply": "2021-05-26T12:54:39.724437Z",
     "shell.execute_reply.started": "2021-05-26T10:14:15.138707Z"
    },
    "papermill": {
     "duration": 2.161631,
     "end_time": "2021-05-26T12:54:39.725210",
     "exception": false,
     "start_time": "2021-05-26T12:54:37.563579",
     "status": "completed"
    },
    "tags": []
   },
   "outputs": [
    {
     "name": "stdout",
     "output_type": "stream",
     "text": [
      "det är taskigt\r\n",
      "och så unik design\r\n",
      "internet slutade fungera\r\n",
      "det finns inget internet\r\n"
     ]
    }
   ],
   "source": [
    "!cat test.wrd|awk 'BEGIN{ln=1}{if(ln==81){print $0};ln++}'\n",
    "!cat train.wrd|awk 'BEGIN{ln=1}{if(ln==254||ln==1457){print $0};ln++}'\n",
    "!cat valid.wrd|awk 'BEGIN{ln=1}{if(ln==1831){print $0};ln++}'"
   ]
  },
  {
   "cell_type": "code",
   "execution_count": 9,
   "id": "quality-insulin",
   "metadata": {
    "execution": {
     "iopub.execute_input": "2021-05-26T12:54:39.765542Z",
     "iopub.status.busy": "2021-05-26T12:54:39.764931Z",
     "iopub.status.idle": "2021-05-26T12:54:41.922172Z",
     "shell.execute_reply": "2021-05-26T12:54:41.921495Z",
     "shell.execute_reply.started": "2021-05-26T10:15:19.869013Z"
    },
    "papermill": {
     "duration": 2.180295,
     "end_time": "2021-05-26T12:54:41.922328",
     "exception": false,
     "start_time": "2021-05-26T12:54:39.742033",
     "status": "completed"
    },
    "tags": []
   },
   "outputs": [
    {
     "name": "stdout",
     "output_type": "stream",
     "text": [
      "d eː t ɛː r  t a s k ɪ ɡ t  \r\n",
      "ɔ k s oː ɵ n iː k  d ɪ z aɪ n  \r\n",
      " ɪ n t ə n ɛ t  s l ʉ t a d ə f ɵ n ɡ eː r a \r\n",
      "d eː t f ɪ n s ɪ ŋ ə t  ɪ n t ə n ɛ t  \r\n"
     ]
    }
   ],
   "source": [
    "!cat test.phn|awk 'BEGIN{ln=1}{if(ln==81){print $0};ln++}'\n",
    "!cat train.phn|awk 'BEGIN{ln=1}{if(ln==254||ln==1457){print $0};ln++}'\n",
    "!cat valid.phn|awk 'BEGIN{ln=1}{if(ln==1831){print $0};ln++}'"
   ]
  },
  {
   "cell_type": "markdown",
   "id": "shaped-injury",
   "metadata": {
    "papermill": {
     "duration": 0.017221,
     "end_time": "2021-05-26T12:54:41.957015",
     "exception": false,
     "start_time": "2021-05-26T12:54:41.939794",
     "status": "completed"
    },
    "tags": []
   },
   "source": [
    "\"design\" and \"internet\" are clearly the English words that are causing the switch in their respective sentences, but I'm not sure what the problem in test.wrd is: \"taskigt\"?\n",
    "* [design](https://en.wiktionary.org/wiki/design#Swedish) `/dɛˈsajn/`\n",
    "* [internet](https://en.wiktionary.org/wiki/internet#Swedish) `/ˈɪntɛrnɛt/, /ɪntɛrˈnɛt/`"
   ]
  },
  {
   "cell_type": "code",
   "execution_count": 10,
   "id": "terminal-slide",
   "metadata": {
    "execution": {
     "iopub.execute_input": "2021-05-26T12:54:41.995855Z",
     "iopub.status.busy": "2021-05-26T12:54:41.994853Z",
     "iopub.status.idle": "2021-05-26T12:54:42.779997Z",
     "shell.execute_reply": "2021-05-26T12:54:42.779480Z",
     "shell.execute_reply.started": "2021-05-26T10:58:28.963048Z"
    },
    "papermill": {
     "duration": 0.805721,
     "end_time": "2021-05-26T12:54:42.780148",
     "exception": false,
     "start_time": "2021-05-26T12:54:41.974427",
     "status": "completed"
    },
    "tags": []
   },
   "outputs": [
    {
     "name": "stdout",
     "output_type": "stream",
     "text": [
      " (en)tˈaskɪɡt(sv)\r\n"
     ]
    }
   ],
   "source": [
    "!echo taskigt|espeak -v sv --ipa 2> /dev/null"
   ]
  },
  {
   "cell_type": "code",
   "execution_count": 11,
   "id": "killing-diabetes",
   "metadata": {
    "execution": {
     "iopub.execute_input": "2021-05-26T12:54:42.831329Z",
     "iopub.status.busy": "2021-05-26T12:54:42.827591Z",
     "iopub.status.idle": "2021-05-26T12:54:47.149183Z",
     "shell.execute_reply": "2021-05-26T12:54:47.148508Z"
    },
    "papermill": {
     "duration": 4.351472,
     "end_time": "2021-05-26T12:54:47.149347",
     "exception": false,
     "start_time": "2021-05-26T12:54:42.797875",
     "status": "completed"
    },
    "tags": []
   },
   "outputs": [],
   "source": [
    "!cat test.phn|sed -e 's/^ //;s/t a s k ɪ ɡ t/t a s k ɪ t/' > tmp\n",
    "!mv tmp test.phn\n",
    "!cat train.phn|sed -e 's/^ //;s/d ɪ z aɪ n/d ɛ s a j n/;s/ɪ n t ə n ɛ t/ɪ n t ɛ r n ɛ t/' > tmp\n",
    "!mv tmp train.phn\n",
    "!cat valid.phn|sed -e 's/^ //;s/ɪ n t ə n ɛ t/ɪ n t ɛ r n ɛ t/' > tmp\n",
    "!mv tmp valid.phn"
   ]
  },
  {
   "cell_type": "code",
   "execution_count": 12,
   "id": "digital-hebrew",
   "metadata": {
    "execution": {
     "iopub.execute_input": "2021-05-26T12:54:47.201875Z",
     "iopub.status.busy": "2021-05-26T12:54:47.200699Z",
     "iopub.status.idle": "2021-05-26T12:56:37.679448Z",
     "shell.execute_reply": "2021-05-26T12:56:37.678844Z"
    },
    "papermill": {
     "duration": 110.511875,
     "end_time": "2021-05-26T12:56:37.679605",
     "exception": false,
     "start_time": "2021-05-26T12:54:47.167730",
     "status": "completed"
    },
    "tags": []
   },
   "outputs": [],
   "source": [
    "!for i in train test valid; do cat $i.wrd|tr ' ' '\\n'|sort|uniq |grep -v '^internet$'|grep -v '^design$'|grep -v '^taskigt$' > /tmp/$i.wl; cat /tmp/$i.wl | PHONEMIZER_ESPEAK_PATH=$(which espeak) phonemize -o /tmp/$i.wl.phn -p ' ' -w '' -l sv  -j 70 --language-switch remove-flags;paste /tmp/$i.wl /tmp/$i.wl.phn > dict.$i; done\n",
    "!printf \"taskigt\\tt a s k ɪ t\\n\" >> dict.test\n",
    "!printf \"design\\td ɛ s a j n\\n\" >> dict.train\n",
    "!printf \"internet\\tɪ n t ɛ r n ɛ t\\n\" >> dict.train\n",
    "!printf \"internet\\tɪ n t ɛ r n ɛ t\\n\" >> dict.valid"
   ]
  },
  {
   "cell_type": "code",
   "execution_count": 13,
   "id": "chief-essay",
   "metadata": {
    "execution": {
     "iopub.execute_input": "2021-05-26T12:56:37.725585Z",
     "iopub.status.busy": "2021-05-26T12:56:37.721931Z",
     "iopub.status.idle": "2021-05-26T12:56:38.449758Z",
     "shell.execute_reply": "2021-05-26T12:56:38.449243Z"
    },
    "papermill": {
     "duration": 0.751832,
     "end_time": "2021-05-26T12:56:38.449899",
     "exception": false,
     "start_time": "2021-05-26T12:56:37.698067",
     "status": "completed"
    },
    "tags": []
   },
   "outputs": [
    {
     "name": "stdout",
     "output_type": "stream",
     "text": [
      "sort: cannot read: valid: No such file or directory\r\n",
      "sort: cannot read: valid: No such file or directory\r\n",
      "sort: cannot read: valid: No such file or directory\r\n"
     ]
    }
   ],
   "source": [
    "!for i in dict.*;do sort -o $i $i;done"
   ]
  },
  {
   "cell_type": "markdown",
   "id": "reserved-fetish",
   "metadata": {
    "papermill": {
     "duration": 0.018536,
     "end_time": "2021-05-26T12:56:38.487315",
     "exception": false,
     "start_time": "2021-05-26T12:56:38.468779",
     "status": "completed"
    },
    "tags": []
   },
   "source": [
    "*taskigt: `/taskɪkt/`"
   ]
  }
 ],
 "metadata": {
  "kernelspec": {
   "display_name": "Python 3",
   "language": "python",
   "name": "python3"
  },
  "language_info": {
   "codemirror_mode": {
    "name": "ipython",
    "version": 3
   },
   "file_extension": ".py",
   "mimetype": "text/x-python",
   "name": "python",
   "nbconvert_exporter": "python",
   "pygments_lexer": "ipython3",
   "version": "3.7.10"
  },
  "papermill": {
   "default_parameters": {},
   "duration": 258.525946,
   "end_time": "2021-05-26T12:56:39.216408",
   "environment_variables": {},
   "exception": null,
   "input_path": "__notebook__.ipynb",
   "output_path": "__notebook__.ipynb",
   "parameters": {},
   "start_time": "2021-05-26T12:52:20.690462",
   "version": "2.3.3"
  }
 },
 "nbformat": 4,
 "nbformat_minor": 5
}
