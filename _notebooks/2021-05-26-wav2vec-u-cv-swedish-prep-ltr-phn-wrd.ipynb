{
 "cells": [
  {
   "cell_type": "markdown",
   "id": "hairy-discount",
   "metadata": {
    "papermill": {
     "duration": 0.015022,
     "end_time": "2021-05-26T12:45:52.345723",
     "exception": false,
     "start_time": "2021-05-26T12:45:52.330701",
     "status": "completed"
    },
    "tags": []
   },
   "source": [
    "In the section [Preparation of speech and text data](https://github.com/pytorch/fairseq/tree/master/examples/wav2vec/unsupervised#preparation-of-speech-and-text-data) of the readme, it says:\n",
    "\n",
    "> Similar to [wav2vec 2.0](https://github.com/pytorch/fairseq/blob/master/examples/wav2vec/README.md),  data folders contain {train,valid,test}.{tsv,wrd,phn} files, where audio paths are stored in tsv files, and word, letter or phoneme transcriptions are stored in .{wrd,ltr,phn}.\n",
    "\n",
    "The `.wrd` and `.ltr` files are outputs of `libri_labels.py`"
   ]
  },
  {
   "cell_type": "code",
   "execution_count": 1,
   "id": "fitted-collection",
   "metadata": {
    "execution": {
     "iopub.execute_input": "2021-05-26T12:45:52.387379Z",
     "iopub.status.busy": "2021-05-26T12:45:52.386584Z",
     "iopub.status.idle": "2021-05-26T12:46:03.531721Z",
     "shell.execute_reply": "2021-05-26T12:46:03.530958Z",
     "shell.execute_reply.started": "2021-05-26T12:15:49.572241Z"
    },
    "papermill": {
     "duration": 11.171713,
     "end_time": "2021-05-26T12:46:03.531946",
     "exception": false,
     "start_time": "2021-05-26T12:45:52.360233",
     "status": "completed"
    },
    "tags": []
   },
   "outputs": [],
   "source": [
    "%%capture\n",
    "!pip install phonemizer"
   ]
  },
  {
   "cell_type": "code",
   "execution_count": 2,
   "id": "drawn-dating",
   "metadata": {
    "execution": {
     "iopub.execute_input": "2021-05-26T12:46:03.572608Z",
     "iopub.status.busy": "2021-05-26T12:46:03.571226Z",
     "iopub.status.idle": "2021-05-26T12:46:11.155895Z",
     "shell.execute_reply": "2021-05-26T12:46:11.155192Z",
     "shell.execute_reply.started": "2021-05-26T12:16:00.191624Z"
    },
    "papermill": {
     "duration": 7.610383,
     "end_time": "2021-05-26T12:46:11.156087",
     "exception": false,
     "start_time": "2021-05-26T12:46:03.545704",
     "status": "completed"
    },
    "tags": []
   },
   "outputs": [],
   "source": [
    "%%capture\n",
    "!apt-get -y install espeak"
   ]
  },
  {
   "cell_type": "code",
   "execution_count": 3,
   "id": "heavy-active",
   "metadata": {
    "execution": {
     "iopub.execute_input": "2021-05-26T12:46:11.195341Z",
     "iopub.status.busy": "2021-05-26T12:46:11.190201Z",
     "iopub.status.idle": "2021-05-26T12:46:17.259184Z",
     "shell.execute_reply": "2021-05-26T12:46:17.259836Z",
     "shell.execute_reply.started": "2021-05-26T12:16:07.537282Z"
    },
    "papermill": {
     "duration": 6.090492,
     "end_time": "2021-05-26T12:46:17.260062",
     "exception": false,
     "start_time": "2021-05-26T12:46:11.169570",
     "status": "completed"
    },
    "tags": []
   },
   "outputs": [],
   "source": [
    "%%capture\n",
    "!apt-get -y install zsh"
   ]
  },
  {
   "cell_type": "markdown",
   "id": "electoral-mining",
   "metadata": {
    "papermill": {
     "duration": 0.012822,
     "end_time": "2021-05-26T12:46:17.287236",
     "exception": false,
     "start_time": "2021-05-26T12:46:17.274414",
     "status": "completed"
    },
    "tags": []
   },
   "source": [
    "This is just my best guess at what the `.wrd` files contain - it seems to match up with what `libri_labels.py` does: given input like\n",
    "```\n",
    "1272-128104-0000 MISTER QUILTER IS THE APOSTLE OF THE MIDDLE CLASSES AND WE ARE GLAD TO WELCOME HIS GOSPEL\n",
    "```\n",
    "it does `\" \".join(items[1:])`, which is basically the same"
   ]
  },
  {
   "cell_type": "code",
   "execution_count": 4,
   "id": "urban-twenty",
   "metadata": {
    "execution": {
     "iopub.execute_input": "2021-05-26T12:46:17.317544Z",
     "iopub.status.busy": "2021-05-26T12:46:17.316839Z",
     "iopub.status.idle": "2021-05-26T12:46:19.644040Z",
     "shell.execute_reply": "2021-05-26T12:46:19.643177Z",
     "shell.execute_reply.started": "2021-05-26T12:16:13.522788Z"
    },
    "papermill": {
     "duration": 2.343902,
     "end_time": "2021-05-26T12:46:19.644230",
     "exception": false,
     "start_time": "2021-05-26T12:46:17.300328",
     "status": "completed"
    },
    "tags": []
   },
   "outputs": [],
   "source": [
    "!cat /kaggle/input/download-common-voice-swedish/cv-corpus-6.1-2020-12-11/sv-SE/test.tsv | awk -F'\\t' '{print $3}'|grep -v '^sentence$' | perl -C7 -ane 'chomp;$_=lc($_);s/[^\\p{L}\\p{N}\\p{M}'\"\\'\"' \\-]/ /g;s/  +/ /g;s/ $//;s/^ //;print \"$_\\n\";' > test.wrd\n",
    "!cat /kaggle/input/download-common-voice-swedish/cv-corpus-6.1-2020-12-11/sv-SE/dev.tsv | awk -F'\\t' '{print $3}'|grep -v '^sentence$' | perl -C7 -ane 'chomp;$_=lc($_);s/[^\\p{L}\\p{N}\\p{M}'\"\\'\"' \\-]/ /g;s/  +/ /g;s/ $//;s/^ //;print \"$_\\n\";' > valid.wrd\n",
    "!cat /kaggle/input/download-common-voice-swedish/cv-corpus-6.1-2020-12-11/sv-SE/train.tsv | awk -F'\\t' '{print $3}'|grep -v '^sentence$' | perl -C7 -ane 'chomp;$_=lc($_);s/[^\\p{L}\\p{N}\\p{M}'\"\\'\"' \\-]/ /g;s/  +/ /g;s/ $//;s/^ //;print \"$_\\n\";' > train.wrd\n"
   ]
  },
  {
   "cell_type": "code",
   "execution_count": 5,
   "id": "explicit-breed",
   "metadata": {
    "execution": {
     "iopub.execute_input": "2021-05-26T12:46:19.683603Z",
     "iopub.status.busy": "2021-05-26T12:46:19.682180Z",
     "iopub.status.idle": "2021-05-26T12:46:19.711683Z",
     "shell.execute_reply": "2021-05-26T12:46:19.710978Z",
     "shell.execute_reply.started": "2021-05-26T12:17:09.299107Z"
    },
    "papermill": {
     "duration": 0.053647,
     "end_time": "2021-05-26T12:46:19.711906",
     "exception": false,
     "start_time": "2021-05-26T12:46:19.658259",
     "status": "completed"
    },
    "tags": []
   },
   "outputs": [],
   "source": [
    "for i in ['train', 'test', 'valid']:\n",
    "    with open(f'/kaggle/working/{i}.wrd', 'r') as inf, open(f'/kaggle/working/{i}.ltr', 'w') as out:\n",
    "        for line in inf.readlines():\n",
    "            print(\" \".join(list(line.strip().replace(\" \", \"|\"))) + \" |\", file=out)"
   ]
  },
  {
   "cell_type": "code",
   "execution_count": 6,
   "id": "diagnostic-purse",
   "metadata": {
    "execution": {
     "iopub.execute_input": "2021-05-26T12:46:19.752656Z",
     "iopub.status.busy": "2021-05-26T12:46:19.751963Z",
     "iopub.status.idle": "2021-05-26T12:46:20.493935Z",
     "shell.execute_reply": "2021-05-26T12:46:20.492570Z",
     "shell.execute_reply.started": "2021-05-26T12:17:12.181059Z"
    },
    "papermill": {
     "duration": 0.766537,
     "end_time": "2021-05-26T12:46:20.494128",
     "exception": false,
     "start_time": "2021-05-26T12:46:19.727591",
     "status": "completed"
    },
    "tags": []
   },
   "outputs": [
    {
     "name": "stdout",
     "output_type": "stream",
     "text": [
      "v a d | ä r | d e t | i | e u r o |\r\n",
      "d u | s k a | v e t a | a t t | d e t | ä r | d u | s o m | h a r | f e l |\r\n",
      "g å | n e r | p å | k n ä |\r\n",
      "f ö r s t | m å s t e | j a g | s l å | s ö n d e r | d e n | d ä r | s t o r a | s k r o t h ö g e n |\r\n",
      "d e t | b l i r | s v å r t |\r\n",
      "v a d | f ö r | j ä v l a | f r å g a | ä r | d e t |\r\n",
      "j a g | å t e r v ä n d e r | i n t e | t i l l | s k i t h å l e t |\r\n",
      "t i t t a | p å | s ö m m a r n a |\r\n",
      "f e s | d u | p r e c i s |\r\n",
      "a k t r i s e r | h a r | e t t | b ä s t | f ö r e d a t u m |\r\n"
     ]
    }
   ],
   "source": [
    "!head train.ltr"
   ]
  },
  {
   "cell_type": "markdown",
   "id": "sized-china",
   "metadata": {
    "papermill": {
     "duration": 0.01393,
     "end_time": "2021-05-26T12:46:20.522244",
     "exception": false,
     "start_time": "2021-05-26T12:46:20.508314",
     "status": "completed"
    },
    "tags": []
   },
   "source": [
    "There are some warnings about switching, so echo the filename first to known where the errors are"
   ]
  },
  {
   "cell_type": "code",
   "execution_count": 7,
   "id": "irish-liberal",
   "metadata": {
    "execution": {
     "iopub.execute_input": "2021-05-26T12:46:20.559654Z",
     "iopub.status.busy": "2021-05-26T12:46:20.558743Z",
     "iopub.status.idle": "2021-05-26T12:48:17.986692Z",
     "shell.execute_reply": "2021-05-26T12:48:17.985343Z",
     "shell.execute_reply.started": "2021-05-26T10:03:43.267937Z"
    },
    "papermill": {
     "duration": 117.448844,
     "end_time": "2021-05-26T12:48:17.986981",
     "exception": false,
     "start_time": "2021-05-26T12:46:20.538137",
     "status": "completed"
    },
    "tags": []
   },
   "outputs": [
    {
     "name": "stdout",
     "output_type": "stream",
     "text": [
      "train.wrd\r\n",
      "[WARNING] 2 utterances containing language switches on lines 254, 1457\r\n",
      "[WARNING] extra phones may appear in the \"sv\" phoneset\r\n",
      "[WARNING] language switch flags have been removed (applying \"remove-flags\" policy)\r\n",
      "test.wrd\r\n",
      "[WARNING] 1 utterances containing language switches on lines 81\r\n",
      "[WARNING] extra phones may appear in the \"sv\" phoneset\r\n",
      "[WARNING] language switch flags have been removed (applying \"remove-flags\" policy)\r\n",
      "valid.wrd\r\n",
      "[WARNING] 1 utterances containing language switches on lines 1831\r\n",
      "[WARNING] extra phones may appear in the \"sv\" phoneset\r\n",
      "[WARNING] language switch flags have been removed (applying \"remove-flags\" policy)\r\n"
     ]
    }
   ],
   "source": [
    "!for i in train test valid; do echo $i.wrd; cat $i.wrd | PHONEMIZER_ESPEAK_PATH=$(which espeak) phonemize -o $i.phn -p ' ' -w '' -l sv  -j 70 --language-switch remove-flags ;done"
   ]
  },
  {
   "cell_type": "code",
   "execution_count": 8,
   "id": "vocal-consciousness",
   "metadata": {
    "execution": {
     "iopub.execute_input": "2021-05-26T12:48:18.030149Z",
     "iopub.status.busy": "2021-05-26T12:48:18.029404Z",
     "iopub.status.idle": "2021-05-26T12:48:20.217673Z",
     "shell.execute_reply": "2021-05-26T12:48:20.218198Z",
     "shell.execute_reply.started": "2021-05-26T10:14:15.138707Z"
    },
    "papermill": {
     "duration": 2.214379,
     "end_time": "2021-05-26T12:48:20.218431",
     "exception": false,
     "start_time": "2021-05-26T12:48:18.004052",
     "status": "completed"
    },
    "tags": []
   },
   "outputs": [
    {
     "name": "stdout",
     "output_type": "stream",
     "text": [
      "det är taskigt\r\n",
      "och så unik design\r\n",
      "internet slutade fungera\r\n",
      "det finns inget internet\r\n"
     ]
    }
   ],
   "source": [
    "!cat test.wrd|awk 'BEGIN{ln=1}{if(ln==81){print $0};ln++}'\n",
    "!cat train.wrd|awk 'BEGIN{ln=1}{if(ln==254||ln==1457){print $0};ln++}'\n",
    "!cat valid.wrd|awk 'BEGIN{ln=1}{if(ln==1831){print $0};ln++}'"
   ]
  },
  {
   "cell_type": "code",
   "execution_count": 9,
   "id": "threatened-impression",
   "metadata": {
    "execution": {
     "iopub.execute_input": "2021-05-26T12:48:20.265502Z",
     "iopub.status.busy": "2021-05-26T12:48:20.259380Z",
     "iopub.status.idle": "2021-05-26T12:48:22.444103Z",
     "shell.execute_reply": "2021-05-26T12:48:22.444605Z",
     "shell.execute_reply.started": "2021-05-26T10:15:19.869013Z"
    },
    "papermill": {
     "duration": 2.209614,
     "end_time": "2021-05-26T12:48:22.444831",
     "exception": false,
     "start_time": "2021-05-26T12:48:20.235217",
     "status": "completed"
    },
    "tags": []
   },
   "outputs": [
    {
     "name": "stdout",
     "output_type": "stream",
     "text": [
      "d eː t ɛː r  t a s k ɪ ɡ t  \r\n",
      "ɔ k s oː ɵ n iː k  d ɪ z aɪ n  \r\n",
      " ɪ n t ə n ɛ t  s l ʉ t a d ə f ɵ n ɡ eː r a \r\n",
      "d eː t f ɪ n s ɪ ŋ ə t  ɪ n t ə n ɛ t  \r\n"
     ]
    }
   ],
   "source": [
    "!cat test.phn|awk 'BEGIN{ln=1}{if(ln==81){print $0};ln++}'\n",
    "!cat train.phn|awk 'BEGIN{ln=1}{if(ln==254||ln==1457){print $0};ln++}'\n",
    "!cat valid.phn|awk 'BEGIN{ln=1}{if(ln==1831){print $0};ln++}'"
   ]
  },
  {
   "cell_type": "markdown",
   "id": "accessory-stopping",
   "metadata": {
    "papermill": {
     "duration": 0.01714,
     "end_time": "2021-05-26T12:48:22.479028",
     "exception": false,
     "start_time": "2021-05-26T12:48:22.461888",
     "status": "completed"
    },
    "tags": []
   },
   "source": [
    "\"design\" and \"internet\" are clearly the English words that are causing the switch in their respective sentences, but I'm not sure what the problem in test.wrd is: \"taskigt\"?\n",
    "* [design](https://en.wiktionary.org/wiki/design#Swedish) `/dɛˈsajn/`\n",
    "* [internet](https://en.wiktionary.org/wiki/internet#Swedish) `/ˈɪntɛrnɛt/, /ɪntɛrˈnɛt/`"
   ]
  },
  {
   "cell_type": "code",
   "execution_count": 10,
   "id": "crucial-eclipse",
   "metadata": {
    "execution": {
     "iopub.execute_input": "2021-05-26T12:48:22.523789Z",
     "iopub.status.busy": "2021-05-26T12:48:22.519888Z",
     "iopub.status.idle": "2021-05-26T12:48:23.308412Z",
     "shell.execute_reply": "2021-05-26T12:48:23.307843Z",
     "shell.execute_reply.started": "2021-05-26T10:58:28.963048Z"
    },
    "papermill": {
     "duration": 0.812708,
     "end_time": "2021-05-26T12:48:23.308588",
     "exception": false,
     "start_time": "2021-05-26T12:48:22.495880",
     "status": "completed"
    },
    "tags": []
   },
   "outputs": [
    {
     "name": "stdout",
     "output_type": "stream",
     "text": [
      " (en)tˈaskɪɡt(sv)\r\n"
     ]
    }
   ],
   "source": [
    "!echo taskigt|espeak -v sv --ipa 2> /dev/null"
   ]
  },
  {
   "cell_type": "code",
   "execution_count": 11,
   "id": "square-recovery",
   "metadata": {
    "execution": {
     "iopub.execute_input": "2021-05-26T12:48:23.364048Z",
     "iopub.status.busy": "2021-05-26T12:48:23.359787Z",
     "iopub.status.idle": "2021-05-26T12:48:27.759988Z",
     "shell.execute_reply": "2021-05-26T12:48:27.759251Z"
    },
    "papermill": {
     "duration": 4.434145,
     "end_time": "2021-05-26T12:48:27.760147",
     "exception": false,
     "start_time": "2021-05-26T12:48:23.326002",
     "status": "completed"
    },
    "tags": []
   },
   "outputs": [],
   "source": [
    "!cat test.phn|sed -e 's/^ //;s/t a s k ɪ ɡ t/t a s k ɪ t/' > tmp\n",
    "!mv tmp test.phn\n",
    "!cat train.phn|sed -e 's/^ //;s/d ɪ z aɪ n/d ɛ s a j n/;s/ɪ n t ə n ɛ t/ɪ n t ɛ r n ɛ t/' > tmp\n",
    "!mv tmp train.phn\n",
    "!cat valid.phn|sed -e 's/^ //;s/ɪ n t ə n ɛ t/ɪ n t ɛ r n ɛ t/' > tmp\n",
    "!mv tmp valid.phn"
   ]
  },
  {
   "cell_type": "code",
   "execution_count": 12,
   "id": "valuable-pharmacy",
   "metadata": {
    "execution": {
     "iopub.execute_input": "2021-05-26T12:48:27.807902Z",
     "iopub.status.busy": "2021-05-26T12:48:27.807154Z",
     "iopub.status.idle": "2021-05-26T12:50:33.648422Z",
     "shell.execute_reply": "2021-05-26T12:50:33.647525Z"
    },
    "papermill": {
     "duration": 125.870916,
     "end_time": "2021-05-26T12:50:33.648612",
     "exception": false,
     "start_time": "2021-05-26T12:48:27.777696",
     "status": "completed"
    },
    "tags": []
   },
   "outputs": [],
   "source": [
    "!for i in train test valid; do cat $i.wrd|tr ' ' '\\n'|sort|uniq |grep -v '^internet$'|grep -v '^design$'|grep -v '^taskigt$' > /tmp/$i.wl; cat /tmp/$i.wl | PHONEMIZER_ESPEAK_PATH=$(which espeak) phonemize -o /tmp/$i.wl.phn -p ' ' -w '' -l sv  -j 70 --language-switch remove-flags;paste /tmp/$i.wl /tmp/$i.wl.phn > dict.$i; done\n",
    "!printf \"taskigt\\tt a s k ɪ t\\n\" >> dict.test\n",
    "!printf \"design\\td ɛ s a j n\\n\" >> dict.train\n",
    "!printf \"internet\\tɪ n t ɛ r n ɛ t\\n\" >> dict.train\n",
    "!printf \"internet\\tɪ n t ɛ r n ɛ t\\n\" >> dict.valid"
   ]
  },
  {
   "cell_type": "markdown",
   "id": "inside-balloon",
   "metadata": {
    "papermill": {
     "duration": 0.017971,
     "end_time": "2021-05-26T12:50:33.685529",
     "exception": false,
     "start_time": "2021-05-26T12:50:33.667558",
     "status": "completed"
    },
    "tags": []
   },
   "source": [
    "*taskigt: `/taskɪkt/`"
   ]
  }
 ],
 "metadata": {
  "kernelspec": {
   "display_name": "Python 3",
   "language": "python",
   "name": "python3"
  },
  "language_info": {
   "codemirror_mode": {
    "name": "ipython",
    "version": 3
   },
   "file_extension": ".py",
   "mimetype": "text/x-python",
   "name": "python",
   "nbconvert_exporter": "python",
   "pygments_lexer": "ipython3",
   "version": "3.7.10"
  },
  "papermill": {
   "default_parameters": {},
   "duration": 293.133604,
   "end_time": "2021-05-26T12:50:35.293244",
   "environment_variables": {},
   "exception": null,
   "input_path": "__notebook__.ipynb",
   "output_path": "__notebook__.ipynb",
   "parameters": {},
   "start_time": "2021-05-26T12:45:42.159640",
   "version": "2.3.3"
  }
 },
 "nbformat": 4,
 "nbformat_minor": 5
}
