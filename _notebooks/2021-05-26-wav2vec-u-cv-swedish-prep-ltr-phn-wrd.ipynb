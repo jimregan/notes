{
 "cells": [
  {
   "cell_type": "markdown",
   "id": "former-satin",
   "metadata": {
    "papermill": {
     "duration": 0.017256,
     "end_time": "2021-05-26T11:00:33.994454",
     "exception": false,
     "start_time": "2021-05-26T11:00:33.977198",
     "status": "completed"
    },
    "tags": []
   },
   "source": [
    "In the section [Preparation of speech and text data](https://github.com/pytorch/fairseq/tree/master/examples/wav2vec/unsupervised#preparation-of-speech-and-text-data) of the readme, it says:\n",
    "\n",
    "> Similar to [wav2vec 2.0](https://github.com/pytorch/fairseq/blob/master/examples/wav2vec/README.md),  data folders contain {train,valid,test}.{tsv,wrd,phn} files, where audio paths are stored in tsv files, and word, letter or phoneme transcriptions are stored in .{wrd,ltr,phn}.\n",
    "\n",
    "The `.wrd` and `.ltr` files are outputs of `libri_labels.py`"
   ]
  },
  {
   "cell_type": "code",
   "execution_count": 1,
   "id": "simplified-techno",
   "metadata": {
    "_cell_guid": "b1076dfc-b9ad-4769-8c92-a6c4dae69d19",
    "_uuid": "8f2839f25d086af736a60e9eeb907d3b93b6e0e5",
    "execution": {
     "iopub.execute_input": "2021-05-26T11:00:34.040197Z",
     "iopub.status.busy": "2021-05-26T11:00:34.038218Z",
     "iopub.status.idle": "2021-05-26T11:00:34.046367Z",
     "shell.execute_reply": "2021-05-26T11:00:34.045494Z",
     "shell.execute_reply.started": "2021-05-26T09:36:53.991468Z"
    },
    "papermill": {
     "duration": 0.03565,
     "end_time": "2021-05-26T11:00:34.046595",
     "exception": false,
     "start_time": "2021-05-26T11:00:34.010945",
     "status": "completed"
    },
    "tags": []
   },
   "outputs": [
    {
     "name": "stdout",
     "output_type": "stream",
     "text": [
      "/tmp\n"
     ]
    }
   ],
   "source": [
    "%cd /tmp"
   ]
  },
  {
   "cell_type": "code",
   "execution_count": 2,
   "id": "expired-reducing",
   "metadata": {
    "execution": {
     "iopub.execute_input": "2021-05-26T11:00:34.099496Z",
     "iopub.status.busy": "2021-05-26T11:00:34.098850Z",
     "iopub.status.idle": "2021-05-26T11:00:37.066524Z",
     "shell.execute_reply": "2021-05-26T11:00:37.065950Z",
     "shell.execute_reply.started": "2021-05-26T09:36:54.017081Z"
    },
    "papermill": {
     "duration": 3.002428,
     "end_time": "2021-05-26T11:00:37.066686",
     "exception": false,
     "start_time": "2021-05-26T11:00:34.064258",
     "status": "completed"
    },
    "tags": []
   },
   "outputs": [
    {
     "name": "stdout",
     "output_type": "stream",
     "text": [
      "Cloning into 'fairseq'...\r\n",
      "remote: Enumerating objects: 28101, done.\u001b[K\r\n",
      "remote: Counting objects: 100% (522/522), done.\u001b[K\r\n",
      "remote: Compressing objects: 100% (315/315), done.\u001b[K\r\n",
      "remote: Total 28101 (delta 254), reused 397 (delta 196), pack-reused 27579\u001b[K\r\n",
      "Receiving objects: 100% (28101/28101), 11.88 MiB | 20.10 MiB/s, done.\r\n",
      "Resolving deltas: 100% (21075/21075), done.\r\n"
     ]
    }
   ],
   "source": [
    "!git clone https://github.com/pytorch/fairseq/"
   ]
  },
  {
   "cell_type": "code",
   "execution_count": 3,
   "id": "expensive-congo",
   "metadata": {
    "execution": {
     "iopub.execute_input": "2021-05-26T11:00:37.123330Z",
     "iopub.status.busy": "2021-05-26T11:00:37.122718Z",
     "iopub.status.idle": "2021-05-26T11:00:47.204990Z",
     "shell.execute_reply": "2021-05-26T11:00:47.203939Z",
     "shell.execute_reply.started": "2021-05-26T09:36:57.172301Z"
    },
    "papermill": {
     "duration": 10.114064,
     "end_time": "2021-05-26T11:00:47.205171",
     "exception": false,
     "start_time": "2021-05-26T11:00:37.091107",
     "status": "completed"
    },
    "tags": []
   },
   "outputs": [],
   "source": [
    "%%capture\n",
    "!pip install phonemizer"
   ]
  },
  {
   "cell_type": "code",
   "execution_count": 4,
   "id": "modified-being",
   "metadata": {
    "execution": {
     "iopub.execute_input": "2021-05-26T11:00:47.265532Z",
     "iopub.status.busy": "2021-05-26T11:00:47.261141Z",
     "iopub.status.idle": "2021-05-26T11:00:54.018010Z",
     "shell.execute_reply": "2021-05-26T11:00:54.016437Z",
     "shell.execute_reply.started": "2021-05-26T09:38:00.401581Z"
    },
    "papermill": {
     "duration": 6.7884,
     "end_time": "2021-05-26T11:00:54.018181",
     "exception": false,
     "start_time": "2021-05-26T11:00:47.229781",
     "status": "completed"
    },
    "tags": []
   },
   "outputs": [],
   "source": [
    "%%capture\n",
    "!apt-get -y install espeak"
   ]
  },
  {
   "cell_type": "code",
   "execution_count": 5,
   "id": "informational-briefing",
   "metadata": {
    "execution": {
     "iopub.execute_input": "2021-05-26T11:00:54.072173Z",
     "iopub.status.busy": "2021-05-26T11:00:54.071368Z",
     "iopub.status.idle": "2021-05-26T11:00:54.073994Z",
     "shell.execute_reply": "2021-05-26T11:00:54.073315Z",
     "shell.execute_reply.started": "2021-05-26T09:39:24.374336Z"
    },
    "papermill": {
     "duration": 0.031956,
     "end_time": "2021-05-26T11:00:54.074139",
     "exception": false,
     "start_time": "2021-05-26T11:00:54.042183",
     "status": "completed"
    },
    "tags": []
   },
   "outputs": [],
   "source": [
    "import os\n",
    "os.environ['FAIRSEQ_ROOT'] = '/tmp/fairseq'"
   ]
  },
  {
   "cell_type": "code",
   "execution_count": 6,
   "id": "august-insight",
   "metadata": {
    "execution": {
     "iopub.execute_input": "2021-05-26T11:00:54.126049Z",
     "iopub.status.busy": "2021-05-26T11:00:54.125402Z",
     "iopub.status.idle": "2021-05-26T11:00:59.584623Z",
     "shell.execute_reply": "2021-05-26T11:00:59.583426Z",
     "shell.execute_reply.started": "2021-05-26T09:39:26.553494Z"
    },
    "papermill": {
     "duration": 5.485906,
     "end_time": "2021-05-26T11:00:59.584791",
     "exception": false,
     "start_time": "2021-05-26T11:00:54.098885",
     "status": "completed"
    },
    "tags": []
   },
   "outputs": [],
   "source": [
    "%%capture\n",
    "!apt-get -y install zsh"
   ]
  },
  {
   "cell_type": "markdown",
   "id": "organic-factor",
   "metadata": {
    "papermill": {
     "duration": 0.024049,
     "end_time": "2021-05-26T11:00:59.633485",
     "exception": false,
     "start_time": "2021-05-26T11:00:59.609436",
     "status": "completed"
    },
    "tags": []
   },
   "source": [
    "This is just my best guess at what the `.wrd` files contain"
   ]
  },
  {
   "cell_type": "code",
   "execution_count": 7,
   "id": "twelve-redhead",
   "metadata": {
    "execution": {
     "iopub.execute_input": "2021-05-26T11:00:59.701464Z",
     "iopub.status.busy": "2021-05-26T11:00:59.696789Z",
     "iopub.status.idle": "2021-05-26T11:01:01.990905Z",
     "shell.execute_reply": "2021-05-26T11:01:01.990128Z",
     "shell.execute_reply.started": "2021-05-26T09:50:56.568719Z"
    },
    "papermill": {
     "duration": 2.332353,
     "end_time": "2021-05-26T11:01:01.991069",
     "exception": false,
     "start_time": "2021-05-26T11:00:59.658716",
     "status": "completed"
    },
    "tags": []
   },
   "outputs": [],
   "source": [
    "!cat /kaggle/input/download-common-voice-swedish/cv-corpus-6.1-2020-12-11/sv-SE/test.tsv | awk -F'\\t' '{print $3}'|grep -v '^sentence$' | perl -C7 -ane 'chomp;$_=lc($_);s/[^\\p{L}\\p{N}\\p{M}'\"\\'\"' \\-]/ /g;s/  +/ /g;s/ $//;s/^ //;print \"$_\\n\";' > /kaggle/working/test.wrd\n",
    "!cat /kaggle/input/download-common-voice-swedish/cv-corpus-6.1-2020-12-11/sv-SE/dev.tsv | awk -F'\\t' '{print $3}'|grep -v '^sentence$' | perl -C7 -ane 'chomp;$_=lc($_);s/[^\\p{L}\\p{N}\\p{M}'\"\\'\"' \\-]/ /g;s/  +/ /g;s/ $//;s/^ //;print \"$_\\n\";' > /kaggle/working/valid.wrd\n",
    "!cat /kaggle/input/download-common-voice-swedish/cv-corpus-6.1-2020-12-11/sv-SE/train.tsv | awk -F'\\t' '{print $3}'|grep -v '^sentence$' | perl -C7 -ane 'chomp;$_=lc($_);s/[^\\p{L}\\p{N}\\p{M}'\"\\'\"' \\-]/ /g;s/  +/ /g;s/ $//;s/^ //;print \"$_\\n\";' > /kaggle/working/train.wrd\n"
   ]
  },
  {
   "cell_type": "code",
   "execution_count": 8,
   "id": "reverse-antibody",
   "metadata": {
    "execution": {
     "iopub.execute_input": "2021-05-26T11:01:02.047503Z",
     "iopub.status.busy": "2021-05-26T11:01:02.046861Z",
     "iopub.status.idle": "2021-05-26T11:01:02.053689Z",
     "shell.execute_reply": "2021-05-26T11:01:02.054227Z",
     "shell.execute_reply.started": "2021-05-26T09:39:26.546818Z"
    },
    "papermill": {
     "duration": 0.038245,
     "end_time": "2021-05-26T11:01:02.054423",
     "exception": false,
     "start_time": "2021-05-26T11:01:02.016178",
     "status": "completed"
    },
    "tags": []
   },
   "outputs": [
    {
     "name": "stdout",
     "output_type": "stream",
     "text": [
      "/tmp/fairseq/examples/wav2vec/unsupervised/scripts\n"
     ]
    }
   ],
   "source": [
    "%cd fairseq/examples/wav2vec/unsupervised/scripts"
   ]
  },
  {
   "cell_type": "markdown",
   "id": "pharmaceutical-willow",
   "metadata": {
    "papermill": {
     "duration": 0.024162,
     "end_time": "2021-05-26T11:01:02.104530",
     "exception": false,
     "start_time": "2021-05-26T11:01:02.080368",
     "status": "completed"
    },
    "tags": []
   },
   "source": [
    "This is probably completely wrong"
   ]
  },
  {
   "cell_type": "code",
   "execution_count": 9,
   "id": "absent-south",
   "metadata": {
    "execution": {
     "iopub.execute_input": "2021-05-26T11:01:02.159370Z",
     "iopub.status.busy": "2021-05-26T11:01:02.158473Z",
     "iopub.status.idle": "2021-05-26T11:01:03.209124Z",
     "shell.execute_reply": "2021-05-26T11:01:03.208409Z",
     "shell.execute_reply.started": "2021-05-26T09:52:43.847806Z"
    },
    "papermill": {
     "duration": 1.080467,
     "end_time": "2021-05-26T11:01:03.209280",
     "exception": false,
     "start_time": "2021-05-26T11:01:02.128813",
     "status": "completed"
    },
    "tags": []
   },
   "outputs": [],
   "source": [
    "!for i in train test valid; do cat /kaggle/working/$i.wrd | python wrd_to_ltr.py > /kaggle/working/$i.ltr;done"
   ]
  },
  {
   "cell_type": "code",
   "execution_count": 10,
   "id": "native-moderator",
   "metadata": {
    "execution": {
     "iopub.execute_input": "2021-05-26T11:01:03.269327Z",
     "iopub.status.busy": "2021-05-26T11:01:03.265307Z",
     "iopub.status.idle": "2021-05-26T11:01:03.978293Z",
     "shell.execute_reply": "2021-05-26T11:01:03.977707Z",
     "shell.execute_reply.started": "2021-05-26T09:53:12.053708Z"
    },
    "papermill": {
     "duration": 0.743662,
     "end_time": "2021-05-26T11:01:03.978458",
     "exception": false,
     "start_time": "2021-05-26T11:01:03.234796",
     "status": "completed"
    },
    "tags": []
   },
   "outputs": [
    {
     "name": "stdout",
     "output_type": "stream",
     "text": [
      "v a d | ä r | d e t | i | e u r o |\r\n",
      "d u | s k a | v e t a | a t t | d e t | ä r | d u | s o m | h a r | f e l |\r\n",
      "g å | n e r | p å | k n ä |\r\n",
      "f ö r s t | m å s t e | j a g | s l å | s ö n d e r | d e n | d ä r | s t o r a | s k r o t h ö g e n |\r\n",
      "d e t | b l i r | s v å r t |\r\n",
      "v a d | f ö r | j ä v l a | f r å g a | ä r | d e t |\r\n",
      "j a g | å t e r v ä n d e r | i n t e | t i l l | s k i t h å l e t |\r\n",
      "t i t t a | p å | s ö m m a r n a |\r\n",
      "f e s | d u | p r e c i s |\r\n",
      "a k t r i s e r | h a r | e t t | b ä s t | f ö r e d a t u m |\r\n"
     ]
    }
   ],
   "source": [
    "!head /kaggle/working/train.ltr"
   ]
  },
  {
   "cell_type": "markdown",
   "id": "wireless-appreciation",
   "metadata": {
    "papermill": {
     "duration": 0.025287,
     "end_time": "2021-05-26T11:01:04.029095",
     "exception": false,
     "start_time": "2021-05-26T11:01:04.003808",
     "status": "completed"
    },
    "tags": []
   },
   "source": [
    "There are some warnings about switching, so echo the filename first to known where the errors are"
   ]
  },
  {
   "cell_type": "code",
   "execution_count": 11,
   "id": "desperate-median",
   "metadata": {
    "execution": {
     "iopub.execute_input": "2021-05-26T11:01:04.087226Z",
     "iopub.status.busy": "2021-05-26T11:01:04.086619Z",
     "iopub.status.idle": "2021-05-26T11:02:59.365308Z",
     "shell.execute_reply": "2021-05-26T11:02:59.364609Z",
     "shell.execute_reply.started": "2021-05-26T10:03:43.267937Z"
    },
    "papermill": {
     "duration": 115.310643,
     "end_time": "2021-05-26T11:02:59.365493",
     "exception": false,
     "start_time": "2021-05-26T11:01:04.054850",
     "status": "completed"
    },
    "tags": []
   },
   "outputs": [
    {
     "name": "stdout",
     "output_type": "stream",
     "text": [
      "/kaggle/working/train.wrd\r\n",
      "[WARNING] 2 utterances containing language switches on lines 254, 1457\r\n",
      "[WARNING] extra phones may appear in the \"sv\" phoneset\r\n",
      "[WARNING] language switch flags have been removed (applying \"remove-flags\" policy)\r\n",
      "/kaggle/working/test.wrd\r\n",
      "[WARNING] 1 utterances containing language switches on lines 81\r\n",
      "[WARNING] extra phones may appear in the \"sv\" phoneset\r\n",
      "[WARNING] language switch flags have been removed (applying \"remove-flags\" policy)\r\n",
      "/kaggle/working/valid.wrd\r\n",
      "[WARNING] 1 utterances containing language switches on lines 1831\r\n",
      "[WARNING] extra phones may appear in the \"sv\" phoneset\r\n",
      "[WARNING] language switch flags have been removed (applying \"remove-flags\" policy)\r\n"
     ]
    }
   ],
   "source": [
    "!for i in train test valid; do echo /kaggle/working/$i.wrd; cat /kaggle/working/$i.wrd | PHONEMIZER_ESPEAK_PATH=$(which espeak) phonemize -o /kaggle/working/$i.phn -p ' ' -w '' -l sv  -j 70 --language-switch remove-flags ;done"
   ]
  },
  {
   "cell_type": "code",
   "execution_count": 12,
   "id": "caroline-oasis",
   "metadata": {
    "execution": {
     "iopub.execute_input": "2021-05-26T11:02:59.423944Z",
     "iopub.status.busy": "2021-05-26T11:02:59.423023Z",
     "iopub.status.idle": "2021-05-26T11:03:00.154085Z",
     "shell.execute_reply": "2021-05-26T11:03:00.153468Z",
     "shell.execute_reply.started": "2021-05-26T10:09:32.146895Z"
    },
    "papermill": {
     "duration": 0.761822,
     "end_time": "2021-05-26T11:03:00.154249",
     "exception": false,
     "start_time": "2021-05-26T11:02:59.392427",
     "status": "completed"
    },
    "tags": []
   },
   "outputs": [
    {
     "name": "stdout",
     "output_type": "stream",
     "text": [
      "/kaggle/working/*.err\r\n",
      "cat: '/kaggle/working/*.err': No such file or directory\r\n"
     ]
    }
   ],
   "source": [
    "!for i in /kaggle/working/*.err;do echo $i; cat $i;done"
   ]
  },
  {
   "cell_type": "code",
   "execution_count": 13,
   "id": "renewable-invitation",
   "metadata": {
    "execution": {
     "iopub.execute_input": "2021-05-26T11:03:00.221234Z",
     "iopub.status.busy": "2021-05-26T11:03:00.216410Z",
     "iopub.status.idle": "2021-05-26T11:03:02.379692Z",
     "shell.execute_reply": "2021-05-26T11:03:02.379125Z",
     "shell.execute_reply.started": "2021-05-26T10:14:15.138707Z"
    },
    "papermill": {
     "duration": 2.198378,
     "end_time": "2021-05-26T11:03:02.379861",
     "exception": false,
     "start_time": "2021-05-26T11:03:00.181483",
     "status": "completed"
    },
    "tags": []
   },
   "outputs": [
    {
     "name": "stdout",
     "output_type": "stream",
     "text": [
      "det är taskigt\r\n",
      "och så unik design\r\n",
      "internet slutade fungera\r\n",
      "det finns inget internet\r\n"
     ]
    }
   ],
   "source": [
    "!cat /kaggle/working/test.wrd|awk 'BEGIN{ln=1}{if(ln==81){print $0};ln++}'\n",
    "!cat /kaggle/working/train.wrd|awk 'BEGIN{ln=1}{if(ln==254||ln==1457){print $0};ln++}'\n",
    "!cat /kaggle/working/valid.wrd|awk 'BEGIN{ln=1}{if(ln==1831){print $0};ln++}'"
   ]
  },
  {
   "cell_type": "code",
   "execution_count": 14,
   "id": "atmospheric-williams",
   "metadata": {
    "execution": {
     "iopub.execute_input": "2021-05-26T11:03:02.443911Z",
     "iopub.status.busy": "2021-05-26T11:03:02.443244Z",
     "iopub.status.idle": "2021-05-26T11:03:04.607161Z",
     "shell.execute_reply": "2021-05-26T11:03:04.607672Z",
     "shell.execute_reply.started": "2021-05-26T10:15:19.869013Z"
    },
    "papermill": {
     "duration": 2.199985,
     "end_time": "2021-05-26T11:03:04.607906",
     "exception": false,
     "start_time": "2021-05-26T11:03:02.407921",
     "status": "completed"
    },
    "tags": []
   },
   "outputs": [
    {
     "name": "stdout",
     "output_type": "stream",
     "text": [
      "d eː t ɛː r  t a s k ɪ ɡ t  \r\n",
      "ɔ k s oː ɵ n iː k  d ɪ z aɪ n  \r\n",
      " ɪ n t ə n ɛ t  s l ʉ t a d ə f ɵ n ɡ eː r a \r\n",
      "d eː t f ɪ n s ɪ ŋ ə t  ɪ n t ə n ɛ t  \r\n"
     ]
    }
   ],
   "source": [
    "!cat /kaggle/working/test.phn|awk 'BEGIN{ln=1}{if(ln==81){print $0};ln++}'\n",
    "!cat /kaggle/working/train.phn|awk 'BEGIN{ln=1}{if(ln==254||ln==1457){print $0};ln++}'\n",
    "!cat /kaggle/working/valid.phn|awk 'BEGIN{ln=1}{if(ln==1831){print $0};ln++}'"
   ]
  },
  {
   "cell_type": "markdown",
   "id": "social-dominant",
   "metadata": {
    "papermill": {
     "duration": 0.028384,
     "end_time": "2021-05-26T11:03:04.665673",
     "exception": false,
     "start_time": "2021-05-26T11:03:04.637289",
     "status": "completed"
    },
    "tags": []
   },
   "source": [
    "\"design\" and \"internet\" are clearly the English words that are causing the switch in their respective sentences, but I'm not sure what the problem in test.wrd is: \"taskigt\"?\n",
    "* [design](https://en.wiktionary.org/wiki/design#Swedish) `/dɛˈsajn/`\n",
    "* [internet](https://en.wiktionary.org/wiki/internet#Swedish) `/ˈɪntɛrnɛt/, /ɪntɛrˈnɛt/`"
   ]
  },
  {
   "cell_type": "code",
   "execution_count": 15,
   "id": "relative-alfred",
   "metadata": {
    "execution": {
     "iopub.execute_input": "2021-05-26T11:03:04.731133Z",
     "iopub.status.busy": "2021-05-26T11:03:04.730439Z",
     "iopub.status.idle": "2021-05-26T11:03:16.311060Z",
     "shell.execute_reply": "2021-05-26T11:03:16.310452Z",
     "shell.execute_reply.started": "2021-05-26T10:31:55.283215Z"
    },
    "papermill": {
     "duration": 11.616135,
     "end_time": "2021-05-26T11:03:16.311221",
     "exception": false,
     "start_time": "2021-05-26T11:03:04.695086",
     "status": "completed"
    },
    "tags": []
   },
   "outputs": [
    {
     "name": "stdout",
     "output_type": "stream",
     "text": [
      "[WARNING] 1 utterances containing language switches on lines 3\r\n",
      "[WARNING] extra phones may appear in the \"sv\" phoneset\r\n",
      "[WARNING] language switch flags have been removed (applying \"remove-flags\" policy)\r\n"
     ]
    }
   ],
   "source": [
    "!echo \"det är taskigt\"|tr ' ' '\\n' | PHONEMIZER_ESPEAK_PATH=$(which espeak) phonemize -o test-output -p ' ' -w '' -l sv  -j 70 --language-switch remove-flags"
   ]
  },
  {
   "cell_type": "code",
   "execution_count": 16,
   "id": "rocky-economics",
   "metadata": {
    "execution": {
     "iopub.execute_input": "2021-05-26T11:03:16.380590Z",
     "iopub.status.busy": "2021-05-26T11:03:16.376236Z",
     "iopub.status.idle": "2021-05-26T11:03:17.158082Z",
     "shell.execute_reply": "2021-05-26T11:03:17.157468Z",
     "shell.execute_reply.started": "2021-05-26T10:58:28.963048Z"
    },
    "papermill": {
     "duration": 0.817426,
     "end_time": "2021-05-26T11:03:17.158243",
     "exception": false,
     "start_time": "2021-05-26T11:03:16.340817",
     "status": "completed"
    },
    "tags": []
   },
   "outputs": [
    {
     "name": "stdout",
     "output_type": "stream",
     "text": [
      " (en)tˈaskɪɡt(sv)\r\n"
     ]
    }
   ],
   "source": [
    "!echo taskigt|espeak -v sv --ipa 2> /dev/null"
   ]
  },
  {
   "cell_type": "markdown",
   "id": "cardiovascular-trash",
   "metadata": {
    "papermill": {
     "duration": 0.029093,
     "end_time": "2021-05-26T11:03:17.216960",
     "exception": false,
     "start_time": "2021-05-26T11:03:17.187867",
     "status": "completed"
    },
    "tags": []
   },
   "source": [
    "*taskigt: `/taskɪkt/`"
   ]
  }
 ],
 "metadata": {
  "kernelspec": {
   "display_name": "Python 3",
   "language": "python",
   "name": "python3"
  },
  "language_info": {
   "codemirror_mode": {
    "name": "ipython",
    "version": 3
   },
   "file_extension": ".py",
   "mimetype": "text/x-python",
   "name": "python",
   "nbconvert_exporter": "python",
   "pygments_lexer": "ipython3",
   "version": "3.7.10"
  },
  "papermill": {
   "default_parameters": {},
   "duration": 171.91303,
   "end_time": "2021-05-26T11:03:17.958431",
   "environment_variables": {},
   "exception": null,
   "input_path": "__notebook__.ipynb",
   "output_path": "__notebook__.ipynb",
   "parameters": {},
   "start_time": "2021-05-26T11:00:26.045401",
   "version": "2.3.3"
  }
 },
 "nbformat": 4,
 "nbformat_minor": 5
}
