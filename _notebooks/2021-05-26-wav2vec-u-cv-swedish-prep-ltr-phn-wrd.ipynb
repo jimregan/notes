{
 "cells": [
  {
   "cell_type": "markdown",
   "id": "fatty-constitution",
   "metadata": {
    "papermill": {
     "duration": 0.01484,
     "end_time": "2021-05-26T12:30:49.078603",
     "exception": false,
     "start_time": "2021-05-26T12:30:49.063763",
     "status": "completed"
    },
    "tags": []
   },
   "source": [
    "In the section [Preparation of speech and text data](https://github.com/pytorch/fairseq/tree/master/examples/wav2vec/unsupervised#preparation-of-speech-and-text-data) of the readme, it says:\n",
    "\n",
    "> Similar to [wav2vec 2.0](https://github.com/pytorch/fairseq/blob/master/examples/wav2vec/README.md),  data folders contain {train,valid,test}.{tsv,wrd,phn} files, where audio paths are stored in tsv files, and word, letter or phoneme transcriptions are stored in .{wrd,ltr,phn}.\n",
    "\n",
    "The `.wrd` and `.ltr` files are outputs of `libri_labels.py`"
   ]
  },
  {
   "cell_type": "code",
   "execution_count": 1,
   "id": "selected-teens",
   "metadata": {
    "execution": {
     "iopub.execute_input": "2021-05-26T12:30:49.109546Z",
     "iopub.status.busy": "2021-05-26T12:30:49.108331Z",
     "iopub.status.idle": "2021-05-26T12:30:59.221784Z",
     "shell.execute_reply": "2021-05-26T12:30:59.222341Z",
     "shell.execute_reply.started": "2021-05-26T12:15:49.572241Z"
    },
    "papermill": {
     "duration": 10.130862,
     "end_time": "2021-05-26T12:30:59.222649",
     "exception": false,
     "start_time": "2021-05-26T12:30:49.091787",
     "status": "completed"
    },
    "tags": []
   },
   "outputs": [],
   "source": [
    "%%capture\n",
    "!pip install phonemizer"
   ]
  },
  {
   "cell_type": "code",
   "execution_count": 2,
   "id": "ordered-partition",
   "metadata": {
    "execution": {
     "iopub.execute_input": "2021-05-26T12:30:59.252422Z",
     "iopub.status.busy": "2021-05-26T12:30:59.251820Z",
     "iopub.status.idle": "2021-05-26T12:31:06.476567Z",
     "shell.execute_reply": "2021-05-26T12:31:06.477090Z",
     "shell.execute_reply.started": "2021-05-26T12:16:00.191624Z"
    },
    "papermill": {
     "duration": 7.241172,
     "end_time": "2021-05-26T12:31:06.477320",
     "exception": false,
     "start_time": "2021-05-26T12:30:59.236148",
     "status": "completed"
    },
    "tags": []
   },
   "outputs": [],
   "source": [
    "%%capture\n",
    "!apt-get -y install espeak"
   ]
  },
  {
   "cell_type": "code",
   "execution_count": 3,
   "id": "social-orientation",
   "metadata": {
    "execution": {
     "iopub.execute_input": "2021-05-26T12:31:06.516567Z",
     "iopub.status.busy": "2021-05-26T12:31:06.511228Z",
     "iopub.status.idle": "2021-05-26T12:31:12.601990Z",
     "shell.execute_reply": "2021-05-26T12:31:12.601092Z",
     "shell.execute_reply.started": "2021-05-26T12:16:07.537282Z"
    },
    "papermill": {
     "duration": 6.111483,
     "end_time": "2021-05-26T12:31:12.602192",
     "exception": false,
     "start_time": "2021-05-26T12:31:06.490709",
     "status": "completed"
    },
    "tags": []
   },
   "outputs": [],
   "source": [
    "%%capture\n",
    "!apt-get -y install zsh"
   ]
  },
  {
   "cell_type": "markdown",
   "id": "hearing-transfer",
   "metadata": {
    "papermill": {
     "duration": 0.012919,
     "end_time": "2021-05-26T12:31:12.628598",
     "exception": false,
     "start_time": "2021-05-26T12:31:12.615679",
     "status": "completed"
    },
    "tags": []
   },
   "source": [
    "This is just my best guess at what the `.wrd` files contain - it seems to match up with what `libri_labels.py` does: given input like\n",
    "```\n",
    "1272-128104-0000 MISTER QUILTER IS THE APOSTLE OF THE MIDDLE CLASSES AND WE ARE GLAD TO WELCOME HIS GOSPEL\n",
    "```\n",
    "it does `\" \".join(items[1:])`, which is basically the same"
   ]
  },
  {
   "cell_type": "code",
   "execution_count": 4,
   "id": "included-horizon",
   "metadata": {
    "execution": {
     "iopub.execute_input": "2021-05-26T12:31:12.660045Z",
     "iopub.status.busy": "2021-05-26T12:31:12.658953Z",
     "iopub.status.idle": "2021-05-26T12:31:14.917844Z",
     "shell.execute_reply": "2021-05-26T12:31:14.917099Z",
     "shell.execute_reply.started": "2021-05-26T12:16:13.522788Z"
    },
    "papermill": {
     "duration": 2.276001,
     "end_time": "2021-05-26T12:31:14.918003",
     "exception": false,
     "start_time": "2021-05-26T12:31:12.642002",
     "status": "completed"
    },
    "tags": []
   },
   "outputs": [],
   "source": [
    "!cat /kaggle/input/download-common-voice-swedish/cv-corpus-6.1-2020-12-11/sv-SE/test.tsv | awk -F'\\t' '{print $3}'|grep -v '^sentence$' | perl -C7 -ane 'chomp;$_=lc($_);s/[^\\p{L}\\p{N}\\p{M}'\"\\'\"' \\-]/ /g;s/  +/ /g;s/ $//;s/^ //;print \"$_\\n\";' > test.wrd\n",
    "!cat /kaggle/input/download-common-voice-swedish/cv-corpus-6.1-2020-12-11/sv-SE/dev.tsv | awk -F'\\t' '{print $3}'|grep -v '^sentence$' | perl -C7 -ane 'chomp;$_=lc($_);s/[^\\p{L}\\p{N}\\p{M}'\"\\'\"' \\-]/ /g;s/  +/ /g;s/ $//;s/^ //;print \"$_\\n\";' > valid.wrd\n",
    "!cat /kaggle/input/download-common-voice-swedish/cv-corpus-6.1-2020-12-11/sv-SE/train.tsv | awk -F'\\t' '{print $3}'|grep -v '^sentence$' | perl -C7 -ane 'chomp;$_=lc($_);s/[^\\p{L}\\p{N}\\p{M}'\"\\'\"' \\-]/ /g;s/  +/ /g;s/ $//;s/^ //;print \"$_\\n\";' > train.wrd\n"
   ]
  },
  {
   "cell_type": "code",
   "execution_count": 5,
   "id": "discrete-academy",
   "metadata": {
    "execution": {
     "iopub.execute_input": "2021-05-26T12:31:14.951707Z",
     "iopub.status.busy": "2021-05-26T12:31:14.951032Z",
     "iopub.status.idle": "2021-05-26T12:31:14.976173Z",
     "shell.execute_reply": "2021-05-26T12:31:14.975652Z",
     "shell.execute_reply.started": "2021-05-26T12:17:09.299107Z"
    },
    "papermill": {
     "duration": 0.044505,
     "end_time": "2021-05-26T12:31:14.976318",
     "exception": false,
     "start_time": "2021-05-26T12:31:14.931813",
     "status": "completed"
    },
    "tags": []
   },
   "outputs": [],
   "source": [
    "for i in ['train', 'test', 'valid']:\n",
    "    with open(f'/kaggle/working/{i}.wrd', 'r') as inf, open(f'/kaggle/working/{i}.ltr', 'w') as out:\n",
    "        for line in inf.readlines():\n",
    "            print(\" \".join(list(line.strip().replace(\" \", \"|\"))) + \" |\", file=out)"
   ]
  },
  {
   "cell_type": "code",
   "execution_count": 6,
   "id": "original-warren",
   "metadata": {
    "execution": {
     "iopub.execute_input": "2021-05-26T12:31:15.007027Z",
     "iopub.status.busy": "2021-05-26T12:31:15.006274Z",
     "iopub.status.idle": "2021-05-26T12:31:15.731884Z",
     "shell.execute_reply": "2021-05-26T12:31:15.731314Z",
     "shell.execute_reply.started": "2021-05-26T12:17:12.181059Z"
    },
    "papermill": {
     "duration": 0.742956,
     "end_time": "2021-05-26T12:31:15.732038",
     "exception": false,
     "start_time": "2021-05-26T12:31:14.989082",
     "status": "completed"
    },
    "tags": []
   },
   "outputs": [
    {
     "name": "stdout",
     "output_type": "stream",
     "text": [
      "v a d | ä r | d e t | i | e u r o |\r\n",
      "d u | s k a | v e t a | a t t | d e t | ä r | d u | s o m | h a r | f e l |\r\n",
      "g å | n e r | p å | k n ä |\r\n",
      "f ö r s t | m å s t e | j a g | s l å | s ö n d e r | d e n | d ä r | s t o r a | s k r o t h ö g e n |\r\n",
      "d e t | b l i r | s v å r t |\r\n",
      "v a d | f ö r | j ä v l a | f r å g a | ä r | d e t |\r\n",
      "j a g | å t e r v ä n d e r | i n t e | t i l l | s k i t h å l e t |\r\n",
      "t i t t a | p å | s ö m m a r n a |\r\n",
      "f e s | d u | p r e c i s |\r\n",
      "a k t r i s e r | h a r | e t t | b ä s t | f ö r e d a t u m |\r\n"
     ]
    }
   ],
   "source": [
    "!head train.ltr"
   ]
  },
  {
   "cell_type": "markdown",
   "id": "hybrid-taste",
   "metadata": {
    "papermill": {
     "duration": 0.012716,
     "end_time": "2021-05-26T12:31:15.758186",
     "exception": false,
     "start_time": "2021-05-26T12:31:15.745470",
     "status": "completed"
    },
    "tags": []
   },
   "source": [
    "There are some warnings about switching, so echo the filename first to known where the errors are"
   ]
  },
  {
   "cell_type": "code",
   "execution_count": 7,
   "id": "magnetic-arbor",
   "metadata": {
    "execution": {
     "iopub.execute_input": "2021-05-26T12:31:15.793574Z",
     "iopub.status.busy": "2021-05-26T12:31:15.789901Z",
     "iopub.status.idle": "2021-05-26T12:33:02.464498Z",
     "shell.execute_reply": "2021-05-26T12:33:02.463672Z",
     "shell.execute_reply.started": "2021-05-26T10:03:43.267937Z"
    },
    "papermill": {
     "duration": 106.693407,
     "end_time": "2021-05-26T12:33:02.464679",
     "exception": false,
     "start_time": "2021-05-26T12:31:15.771272",
     "status": "completed"
    },
    "tags": []
   },
   "outputs": [
    {
     "name": "stdout",
     "output_type": "stream",
     "text": [
      "train.wrd\r\n",
      "[WARNING] 2 utterances containing language switches on lines 254, 1457\r\n",
      "[WARNING] extra phones may appear in the \"sv\" phoneset\r\n",
      "[WARNING] language switch flags have been removed (applying \"remove-flags\" policy)\r\n",
      "test.wrd\r\n",
      "[WARNING] 1 utterances containing language switches on lines 81\r\n",
      "[WARNING] extra phones may appear in the \"sv\" phoneset\r\n",
      "[WARNING] language switch flags have been removed (applying \"remove-flags\" policy)\r\n",
      "valid.wrd\r\n",
      "[WARNING] 1 utterances containing language switches on lines 1831\r\n",
      "[WARNING] extra phones may appear in the \"sv\" phoneset\r\n",
      "[WARNING] language switch flags have been removed (applying \"remove-flags\" policy)\r\n"
     ]
    }
   ],
   "source": [
    "!for i in train test valid; do echo $i.wrd; cat $i.wrd | PHONEMIZER_ESPEAK_PATH=$(which espeak) phonemize -o $i.phn -p ' ' -w '' -l sv  -j 70 --language-switch remove-flags ;done"
   ]
  },
  {
   "cell_type": "code",
   "execution_count": 8,
   "id": "homeless-jimmy",
   "metadata": {
    "execution": {
     "iopub.execute_input": "2021-05-26T12:33:02.504303Z",
     "iopub.status.busy": "2021-05-26T12:33:02.501155Z",
     "iopub.status.idle": "2021-05-26T12:33:04.673549Z",
     "shell.execute_reply": "2021-05-26T12:33:04.672295Z",
     "shell.execute_reply.started": "2021-05-26T10:14:15.138707Z"
    },
    "papermill": {
     "duration": 2.193943,
     "end_time": "2021-05-26T12:33:04.673747",
     "exception": false,
     "start_time": "2021-05-26T12:33:02.479804",
     "status": "completed"
    },
    "tags": []
   },
   "outputs": [
    {
     "name": "stdout",
     "output_type": "stream",
     "text": [
      "det är taskigt\r\n",
      "och så unik design\r\n",
      "internet slutade fungera\r\n",
      "det finns inget internet\r\n"
     ]
    }
   ],
   "source": [
    "!cat test.wrd|awk 'BEGIN{ln=1}{if(ln==81){print $0};ln++}'\n",
    "!cat train.wrd|awk 'BEGIN{ln=1}{if(ln==254||ln==1457){print $0};ln++}'\n",
    "!cat valid.wrd|awk 'BEGIN{ln=1}{if(ln==1831){print $0};ln++}'"
   ]
  },
  {
   "cell_type": "code",
   "execution_count": 9,
   "id": "thorough-device",
   "metadata": {
    "execution": {
     "iopub.execute_input": "2021-05-26T12:33:04.720376Z",
     "iopub.status.busy": "2021-05-26T12:33:04.714902Z",
     "iopub.status.idle": "2021-05-26T12:33:06.859471Z",
     "shell.execute_reply": "2021-05-26T12:33:06.859996Z",
     "shell.execute_reply.started": "2021-05-26T10:15:19.869013Z"
    },
    "papermill": {
     "duration": 2.169834,
     "end_time": "2021-05-26T12:33:06.860219",
     "exception": false,
     "start_time": "2021-05-26T12:33:04.690385",
     "status": "completed"
    },
    "tags": []
   },
   "outputs": [
    {
     "name": "stdout",
     "output_type": "stream",
     "text": [
      "d eː t ɛː r  t a s k ɪ ɡ t  \r\n",
      "ɔ k s oː ɵ n iː k  d ɪ z aɪ n  \r\n",
      " ɪ n t ə n ɛ t  s l ʉ t a d ə f ɵ n ɡ eː r a \r\n",
      "d eː t f ɪ n s ɪ ŋ ə t  ɪ n t ə n ɛ t  \r\n"
     ]
    }
   ],
   "source": [
    "!cat test.phn|awk 'BEGIN{ln=1}{if(ln==81){print $0};ln++}'\n",
    "!cat train.phn|awk 'BEGIN{ln=1}{if(ln==254||ln==1457){print $0};ln++}'\n",
    "!cat valid.phn|awk 'BEGIN{ln=1}{if(ln==1831){print $0};ln++}'"
   ]
  },
  {
   "cell_type": "markdown",
   "id": "latest-bedroom",
   "metadata": {
    "papermill": {
     "duration": 0.016799,
     "end_time": "2021-05-26T12:33:06.894415",
     "exception": false,
     "start_time": "2021-05-26T12:33:06.877616",
     "status": "completed"
    },
    "tags": []
   },
   "source": [
    "\"design\" and \"internet\" are clearly the English words that are causing the switch in their respective sentences, but I'm not sure what the problem in test.wrd is: \"taskigt\"?\n",
    "* [design](https://en.wiktionary.org/wiki/design#Swedish) `/dɛˈsajn/`\n",
    "* [internet](https://en.wiktionary.org/wiki/internet#Swedish) `/ˈɪntɛrnɛt/, /ɪntɛrˈnɛt/`"
   ]
  },
  {
   "cell_type": "code",
   "execution_count": 10,
   "id": "liberal-shell",
   "metadata": {
    "execution": {
     "iopub.execute_input": "2021-05-26T12:33:06.940806Z",
     "iopub.status.busy": "2021-05-26T12:33:06.935565Z",
     "iopub.status.idle": "2021-05-26T12:33:07.710931Z",
     "shell.execute_reply": "2021-05-26T12:33:07.711420Z",
     "shell.execute_reply.started": "2021-05-26T10:58:28.963048Z"
    },
    "papermill": {
     "duration": 0.799783,
     "end_time": "2021-05-26T12:33:07.711651",
     "exception": false,
     "start_time": "2021-05-26T12:33:06.911868",
     "status": "completed"
    },
    "tags": []
   },
   "outputs": [
    {
     "name": "stdout",
     "output_type": "stream",
     "text": [
      " (en)tˈaskɪɡt(sv)\r\n"
     ]
    }
   ],
   "source": [
    "!echo taskigt|espeak -v sv --ipa 2> /dev/null"
   ]
  },
  {
   "cell_type": "code",
   "execution_count": 11,
   "id": "herbal-instruction",
   "metadata": {
    "execution": {
     "iopub.execute_input": "2021-05-26T12:33:07.764139Z",
     "iopub.status.busy": "2021-05-26T12:33:07.760873Z",
     "iopub.status.idle": "2021-05-26T12:33:12.100233Z",
     "shell.execute_reply": "2021-05-26T12:33:12.099398Z"
    },
    "papermill": {
     "duration": 4.369749,
     "end_time": "2021-05-26T12:33:12.100395",
     "exception": false,
     "start_time": "2021-05-26T12:33:07.730646",
     "status": "completed"
    },
    "tags": []
   },
   "outputs": [],
   "source": [
    "!cat test.phn|sed -e 's/^ //;s/t a s k ɪ ɡ t/t a s k ɪ t/' > tmp\n",
    "!mv tmp test.phn\n",
    "!cat train.phn|sed -e 's/^ //;s/d ɪ z aɪ n/d ɛ s a j n/;s/ɪ n t ə n ɛ t/ɪ n t ɛ r n ɛ t/' > tmp\n",
    "!mv tmp train.phn\n",
    "!cat valid.phn|sed -e 's/^ //;s/ɪ n t ə n ɛ t/ɪ n t ɛ r n ɛ t/' > tmp\n",
    "!mv tmp valid.phn"
   ]
  },
  {
   "cell_type": "code",
   "execution_count": 12,
   "id": "tired-relay",
   "metadata": {
    "execution": {
     "iopub.execute_input": "2021-05-26T12:33:12.138737Z",
     "iopub.status.busy": "2021-05-26T12:33:12.138044Z",
     "iopub.status.idle": "2021-05-26T12:35:02.204390Z",
     "shell.execute_reply": "2021-05-26T12:35:02.204906Z"
    },
    "papermill": {
     "duration": 110.087269,
     "end_time": "2021-05-26T12:35:02.205154",
     "exception": false,
     "start_time": "2021-05-26T12:33:12.117885",
     "status": "completed"
    },
    "tags": []
   },
   "outputs": [
    {
     "name": "stdout",
     "output_type": "stream",
     "text": [
      "[WARNING] 2 utterances containing language switches on lines 254, 1457\r\n",
      "[WARNING] extra phones may appear in the \"sv\" phoneset\r\n",
      "[WARNING] language switch flags have been removed (applying \"remove-flags\" policy)\r\n",
      "[WARNING] 1 utterances containing language switches on lines 81\r\n",
      "[WARNING] extra phones may appear in the \"sv\" phoneset\r\n",
      "[WARNING] language switch flags have been removed (applying \"remove-flags\" policy)\r\n",
      "[WARNING] 1 utterances containing language switches on lines 1831\r\n",
      "[WARNING] extra phones may appear in the \"sv\" phoneset\r\n",
      "[WARNING] language switch flags have been removed (applying \"remove-flags\" policy)\r\n"
     ]
    }
   ],
   "source": [
    "!for i in train test valid; do cat $i.wrd|tr ' ' '\\n'|sort|uniq > /tmp/$i.wl; cat $i.wrd |grep -v '^internet$'|grep -v '^design$'|grep -v '^taskigt$' | PHONEMIZER_ESPEAK_PATH=$(which espeak) phonemize -o /tmp/$i.wl.phn -p ' ' -w '' -l sv  -j 70 --language-switch remove-flags;paste /tmp/$i.wl /tmp/$i.wl.phn > dict.$i; done\n",
    "!printf \"taskigt\\tt a s k ɪ t\\n\" >> dict.test\n",
    "!printf \"design\\td ɛ s a j n\\n\" >> dict.train\n",
    "!printf \"internet\\tɪ n t ɛ r n ɛ t\\n\" >> dict.train\n",
    "!printf \"internet\\tɪ n t ɛ r n ɛ t\\n\" >> dict.valid"
   ]
  },
  {
   "cell_type": "markdown",
   "id": "broken-teaching",
   "metadata": {
    "papermill": {
     "duration": 0.018578,
     "end_time": "2021-05-26T12:35:02.242734",
     "exception": false,
     "start_time": "2021-05-26T12:35:02.224156",
     "status": "completed"
    },
    "tags": []
   },
   "source": [
    "*taskigt: `/taskɪkt/`"
   ]
  }
 ],
 "metadata": {
  "kernelspec": {
   "display_name": "Python 3",
   "language": "python",
   "name": "python3"
  },
  "language_info": {
   "codemirror_mode": {
    "name": "ipython",
    "version": 3
   },
   "file_extension": ".py",
   "mimetype": "text/x-python",
   "name": "python",
   "nbconvert_exporter": "python",
   "pygments_lexer": "ipython3",
   "version": "3.7.10"
  },
  "papermill": {
   "default_parameters": {},
   "duration": 262.797081,
   "end_time": "2021-05-26T12:35:03.174419",
   "environment_variables": {},
   "exception": null,
   "input_path": "__notebook__.ipynb",
   "output_path": "__notebook__.ipynb",
   "parameters": {},
   "start_time": "2021-05-26T12:30:40.377338",
   "version": "2.3.3"
  }
 },
 "nbformat": 4,
 "nbformat_minor": 5
}
