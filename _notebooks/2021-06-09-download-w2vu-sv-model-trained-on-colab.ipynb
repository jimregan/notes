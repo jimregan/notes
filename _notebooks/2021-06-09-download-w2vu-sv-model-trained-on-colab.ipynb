{
 "cells": [
  {
   "cell_type": "markdown",
   "metadata": {},
   "source": [
    "# Download w2v-u Swedish model trained on Colab\n",
    "\n",
    "> Mostly to link to the dataset\n",
    "\n",
    "- toc: false\n",
    "- branch: master\n",
    "- hidden: true\n",
    "- categories: [kaggle, w2vu]"
   ]
  },
  {
   "cell_type": "markdown",
   "metadata": {},
   "source": [
    "[Original](https://www.kaggle.com/jimregan/download-w2vu-sv-model-trained-on-colab)"
   ]
  },
  {
   "cell_type": "code",
   "execution_count": null,
   "metadata": {
    "_cell_guid": "b1076dfc-b9ad-4769-8c92-a6c4dae69d19",
    "_uuid": "8f2839f25d086af736a60e9eeb907d3b93b6e0e5",
    "execution": {
     "iopub.execute_input": "2021-06-09T20:33:55.482121Z",
     "iopub.status.busy": "2021-06-09T20:33:55.481550Z",
     "iopub.status.idle": "2021-06-09T20:34:13.826303Z",
     "shell.execute_reply": "2021-06-09T20:34:13.824107Z",
     "shell.execute_reply.started": "2021-06-09T20:33:55.482033Z"
    }
   },
   "outputs": [],
   "source": [
    "%%capture\n",
    "!pip install gdown"
   ]
  },
  {
   "cell_type": "code",
   "execution_count": 3,
   "metadata": {
    "execution": {
     "iopub.execute_input": "2021-06-09T20:35:18.413059Z",
     "iopub.status.busy": "2021-06-09T20:35:18.412674Z",
     "iopub.status.idle": "2021-06-09T20:35:26.301589Z",
     "shell.execute_reply": "2021-06-09T20:35:26.300304Z",
     "shell.execute_reply.started": "2021-06-09T20:35:18.413024Z"
    }
   },
   "outputs": [
    {
     "name": "stdout",
     "output_type": "stream",
     "text": [
      "Downloading...\n",
      "From: https://drive.google.com/uc?id=1-3fYwuDq-l7UpowGtzq3X4Dg-jTrb5jQ\n",
      "To: /kaggle/working/checkpoint_last.pt\n",
      "13.0MB [00:00, 57.6MB/s]\n",
      "Downloading...\n",
      "From: https://drive.google.com/uc?id=1E3LB7rlmk00zhsgYEYFq8y-2Ck6QU-wx\n",
      "To: /kaggle/working/checkpoint_best.pt\n",
      "13.0MB [00:00, 65.7MB/s]\n"
     ]
    }
   ],
   "source": [
    "!gdown https://drive.google.com/uc?id=1-3fYwuDq-l7UpowGtzq3X4Dg-jTrb5jQ\n",
    "!gdown https://drive.google.com/uc?id=1E3LB7rlmk00zhsgYEYFq8y-2Ck6QU-wx"
   ]
  }
 ],
 "metadata": {
  "kernelspec": {
   "display_name": "Python 3",
   "language": "python",
   "name": "python3"
  },
  "language_info": {
   "codemirror_mode": {
    "name": "ipython",
    "version": 3
   },
   "file_extension": ".py",
   "mimetype": "text/x-python",
   "name": "python",
   "nbconvert_exporter": "python",
   "pygments_lexer": "ipython3",
   "version": "3.8.2"
  }
 },
 "nbformat": 4,
 "nbformat_minor": 4
}
