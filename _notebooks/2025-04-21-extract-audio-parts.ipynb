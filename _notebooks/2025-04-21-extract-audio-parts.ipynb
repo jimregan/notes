{
 "cells": [
  {
   "cell_type": "markdown",
   "metadata": {},
   "source": [
    "# Extract phonetic chunks\n",
    "\n",
    "> \"For hesitations\"\n",
    "\n",
    "- branch: master\n",
    "- hidden: true\n",
    "- categories: [phonetic, riksdag, hesitations]"
   ]
  },
  {
   "cell_type": "code",
   "execution_count": 1,
   "metadata": {},
   "outputs": [],
   "source": [
    "import json"
   ]
  },
  {
   "cell_type": "code",
   "execution_count": 2,
   "metadata": {},
   "outputs": [],
   "source": [
    "from pathlib import Path\n",
    "JSONPATH = Path(\"/Users/joregan/Playing/rd_phonetic\")"
   ]
  },
  {
   "cell_type": "code",
   "execution_count": 50,
   "metadata": {},
   "outputs": [],
   "source": [
    "def get_slice(a, n, window=2):\n",
    "    start = max(n - window, 0)\n",
    "    centre = 2\n",
    "    if n < 0:\n",
    "        centre = centre - (n - window)\n",
    "    end = min(n + (window + 1), len(a))\n",
    "    slice = a[start:end]\n",
    "    return slice, centre"
   ]
  },
  {
   "cell_type": "code",
   "execution_count": 35,
   "metadata": {},
   "outputs": [],
   "source": [
    "def any_in(checks, text):\n",
    "    for check in checks:\n",
    "        if check in text:\n",
    "            return True\n",
    "    return False"
   ]
  },
  {
   "cell_type": "code",
   "execution_count": 54,
   "metadata": {},
   "outputs": [],
   "source": [
    "from dataclasses import dataclass\n",
    "\n",
    "\n",
    "@dataclass\n",
    "class Found():\n",
    "    stem: str\n",
    "    start: float\n",
    "    end: float\n",
    "    text: str\n",
    "\n",
    "    def __hash__(self):\n",
    "        return hash((self.stem, str(self.start), str(self.end), self.text))\n",
    "\n",
    "def inspect_file(filename, checks=[\"<hes>\", \"<ha>\"]):\n",
    "    collected = set()\n",
    "    with open(filename) as f:\n",
    "        stem = Path(filename).stem\n",
    "        data = json.load(f)\n",
    "        chunks = data[\"chunks\"]\n",
    "        for i in range(len(chunks)):\n",
    "            slice, centre = get_slice(chunks, i)\n",
    "            if any_in(checks, slice[centre][\"text\"]):\n",
    "                current = Found(\n",
    "                    stem=stem,\n",
    "                    start=slice[0][\"timestamp\"][0],\n",
    "                    end=slice[-1][\"timestamp\"][1],\n",
    "                    text=\" \".join([s[\"text\"] for s in slice]),\n",
    "                )\n",
    "                collected.add(current)\n",
    "        return collected"
   ]
  },
  {
   "cell_type": "code",
   "execution_count": 55,
   "metadata": {},
   "outputs": [],
   "source": [
    "all = set()\n",
    "for filename in JSONPATH.glob(\"*.json\"):\n",
    "    found = inspect_file(filename)\n",
    "    all.update(found)\n",
    "\n",
    "with open(\"/tmp/found.json\", \"w\") as f:\n",
    "    json.dump([f.__dict__ for f in all], f, indent=2)"
   ]
  },
  {
   "cell_type": "code",
   "execution_count": 56,
   "metadata": {},
   "outputs": [
    {
     "data": {
      "text/plain": [
       "992335"
      ]
     },
     "execution_count": 56,
     "metadata": {},
     "output_type": "execute_result"
    }
   ],
   "source": [
    "len(all)"
   ]
  },
  {
   "cell_type": "code",
   "execution_count": 57,
   "metadata": {},
   "outputs": [
    {
     "name": "stderr",
     "output_type": "stream",
     "text": [
      "/var/folders/d9/cbkhg23x349_t692zq6yhcv00000gn/T/ipykernel_57884/3143163464.py:3: DeprecationWarning: Sampling from a set deprecated\n",
      "since Python 3.9 and will be removed in a subsequent version.\n",
      "  subset = random.sample(all, 200)\n"
     ]
    }
   ],
   "source": [
    "import random\n",
    "\n",
    "subset = random.sample(all, 200)"
   ]
  },
  {
   "cell_type": "code",
   "execution_count": 58,
   "metadata": {},
   "outputs": [],
   "source": [
    "files = set([x.stem for x in subset])"
   ]
  },
  {
   "cell_type": "code",
   "execution_count": 60,
   "metadata": {},
   "outputs": [],
   "source": [
    "with open(\"/tmp/write_ffmpeg.sh\", \"w\") as of:\n",
    "    for f in files:\n",
    "        of.write(f\"ffmpeg -i /sbtal/riksdag-video/{f}.mp4 -acodec pcm_s16le -ac 1 -ar 16000 /tmp/samples-tmp/{f}.wav\\n\")"
   ]
  },
  {
   "cell_type": "code",
   "execution_count": 63,
   "metadata": {},
   "outputs": [],
   "source": [
    "with open(\"/tmp/write_ffmpeg_clips.sh\", \"w\") as of, open(\"/tmp/clips.tsv\", \"w\") as of2:\n",
    "    for item in subset:\n",
    "        clipname = f\"{item.stem}_{item.start}-{item.end}.wav\"\n",
    "        of.write(f\"ffmpeg -i /tmp/samples-tmp/{item.stem}.wav -ss {item.start} -t {item.end - item.start} -c copy /home/joregan/hes-clips/{clipname}\\n\")\n",
    "        of2.write(f\"{clipname}\\t{item.text}\\n\")"
   ]
  }
 ],
 "metadata": {
  "kernelspec": {
   "display_name": "nst-tts",
   "language": "python",
   "name": "python3"
  },
  "language_info": {
   "codemirror_mode": {
    "name": "ipython",
    "version": 3
   },
   "file_extension": ".py",
   "mimetype": "text/x-python",
   "name": "python",
   "nbconvert_exporter": "python",
   "pygments_lexer": "ipython3",
   "version": "3.10.9"
  }
 },
 "nbformat": 4,
 "nbformat_minor": 2
}
