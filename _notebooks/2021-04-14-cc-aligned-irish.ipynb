{
  "nbformat": 4,
  "nbformat_minor": 0,
  "metadata": {
    "colab": {
      "name": "2021-04-14-cc-aligned-irish.ipynb",
      "provenance": [],
      "collapsed_sections": []
    },
    "kernelspec": {
      "name": "python3",
      "display_name": "Python 3"
    },
    "language_info": {
      "name": "python"
    }
  },
  "cells": [
    {
      "cell_type": "markdown",
      "metadata": {
        "id": "sEal1wPSLD0e"
      },
      "source": [
        "# CC-Aligned Irish contains rubbish\n",
        "\n",
        "> \"M2M100 used CC-Aligned\"\n",
        "\n",
        "- toc: false\n",
        "- comments: false\n",
        "- badges: false\n",
        "- branch: master\n",
        "- categories: [badmt, irish]"
      ]
    },
    {
      "cell_type": "markdown",
      "metadata": {
        "id": "uvqm1W7NLeYU"
      },
      "source": [
        "See [here]({% post_url 2021-04-13-m2m100-sucks-at-irish %}). This is probably why M2M100 sucks at Irish."
      ]
    },
    {
      "cell_type": "code",
      "metadata": {
        "id": "tugdI2wpPIII",
        "outputId": "0a5401dd-27f2-479a-8a11-128b417d3175",
        "colab": {
          "base_uri": "https://localhost:8080/"
        }
      },
      "source": [
        "!wget http://www.statmt.org/cc-aligned/en_XX-ga_IE.tsv.xz"
      ],
      "execution_count": 1,
      "outputs": [
        {
          "output_type": "stream",
          "text": [
            "--2021-06-05 17:38:16--  http://www.statmt.org/cc-aligned/en_XX-ga_IE.tsv.xz\n",
            "Resolving www.statmt.org (www.statmt.org)... 129.215.197.184\n",
            "Connecting to www.statmt.org (www.statmt.org)|129.215.197.184|:80... connected.\n",
            "HTTP request sent, awaiting response... 200 OK\n",
            "Length: 150347648 (143M) [application/x-xz]\n",
            "Saving to: ‘en_XX-ga_IE.tsv.xz’\n",
            "\n",
            "en_XX-ga_IE.tsv.xz  100%[===================>] 143.38M   139KB/s    in 20m 26s \n",
            "\n",
            "2021-06-05 17:58:43 (120 KB/s) - ‘en_XX-ga_IE.tsv.xz’ saved [150347648/150347648]\n",
            "\n"
          ],
          "name": "stdout"
        }
      ]
    },
    {
      "cell_type": "code",
      "metadata": {
        "id": "7QeZl3VTQOZ4"
      },
      "source": [
        "!unxz en_XX-ga_IE.tsv.xz"
      ],
      "execution_count": 2,
      "outputs": []
    },
    {
      "cell_type": "code",
      "metadata": {
        "colab": {
          "base_uri": "https://localhost:8080/"
        },
        "id": "hgIg0k65QYvT",
        "outputId": "2f83c7ab-31bd-4ef5-e746-a26b4d57b0c4"
      },
      "source": [
        "!grep '\\.ca' en_XX-ga_IE.tsv| cut -c -120"
      ],
      "execution_count": 3,
      "outputs": [
        {
          "output_type": "stream",
          "text": [
            "boutiquestepup.ca\thttps://boutiquestepup.ca/collections/figure-skating-tights\tFigure skating tights – Boutique Step Up\n",
            "boutiquestepup.ca\thttps://boutiquestepup.ca/collections/crystalized-dress-and-catsuit\tFigure Skating Dress with Crystals\n",
            "boutiquestepup.ca\thttps://boutiquestepup.ca/collections/mens-skatewear\tBOYS & MENS FIGURE SKATING WEAR – Boutique Step\n",
            "boutiquestepup.ca\thttps://boutiquestepup.ca/collections/black-figure-skating-dresses\tBlack Figure Skating Dresses, Catsu\n",
            "boutiquestepup.ca\thttps://boutiquestepup.ca/products/new-jerrys-figure-skating-dress-catsuit-unitard-black-lace-made-on-\n",
            "boutiquestepup.ca\thttps://boutiquestepup.ca/\tBoutique Step Up|All Departments|GIFT CARDS|AQUATICS & SWIMMING|WOMENS /GIR\n",
            "boutiquestepup.ca\thttps://boutiquestepup.ca/products/new-skating-dress-catsuit-unitard-290-high-neck-made-on-order-youth\n",
            "boutiquestepup.ca\thttps://boutiquestepup.ca/collections/training-racing-swimsuit\tTraining & Racing Swimsuit – Boutique\n",
            "boutiquestepup.ca\thttps://boutiquestepup.ca/collections/skating-catsuit-unitard\tSKATING CATSUIT- UNITARD – Boutique St\n",
            "boutiquestepup.ca\thttps://boutiquestepup.ca/collections/figure-skates-skating-boots-and-skating-blades\tFigure Skates, Sk\n",
            "boutiquestepup.ca\thttps://boutiquestepup.ca/collections/dance-shoes\tDance Shoes – Boutique Step Up|❅|❆|❅|❆|❅\n",
            "boutiquestepup.ca\thttps://boutiquestepup.ca/collections/dance-costumes\tDance Costumes – Boutique Step Up|All Departmen\n",
            "mp3gain-pro.com\thttp://mp3gain-pro.com/mp3/keywords\tKeywords « Mp3 Gain PRO official site Mp3 Normalizer|Home|Tags|Keyw\n",
            "boutiquestepup.ca\thttps://boutiquestepup.ca/collections/skating-shorts\tSkating Shorts – Boutique Step Up|All Departmen\n",
            "boutiquestepup.ca\thttps://boutiquestepup.ca/products/new-jerrys-competition-skating-dress-142-mirror-red-made-on-order\tN\n",
            "boutiquestepup.ca\thttps://boutiquestepup.ca/collections/jammers\tMen's & Boys Swimwear – Boutique Step Up|All Departmen\n",
            "boutiquestepup.ca\thttps://boutiquestepup.ca/products/new-rockerz-figure-skating-guards-skate-guards-mix-match-colors\tFig\n",
            "boutiquestepup.ca\thttps://boutiquestepup.ca/collections/practice-gymnastics-leotard-competition-gymnastics-leotard-team-\n",
            "boutiquestepup.ca\thttps://boutiquestepup.ca/collections/figure-skating-skirt\tFIGURE SKATING SKIRT – Boutique Step Up|A\n",
            "boutiquestepup.ca\thttps://boutiquestepup.ca/collections/aqua-fitness-chlorine-resistant-swimsuit\tAqua Fitness Swimsuits \n",
            "boutiquestepup.ca\thttps://boutiquestepup.ca/collections/dance-accessories-tights\tDANCE ACCESSORIES & TIGHTS – Boutique\n",
            "cantonfair.net\thttps://www.cantonfair.net/category/49-health-industry\tTrade Shows from Health Industry China|Search|Sear\n",
            "lrmsafety.com\thttps://en.lrmsafety.com/products/3m-11525\t3M รุ่น 11525 – บริษัท เหลือง\n",
            "Binary file en_XX-ga_IE.tsv matches\n"
          ],
          "name": "stdout"
        }
      ]
    }
  ]
}