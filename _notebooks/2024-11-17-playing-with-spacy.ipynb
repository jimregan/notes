{
 "cells": [
  {
   "cell_type": "markdown",
   "metadata": {},
   "source": [
    "# Get dependencies from spaCy\n",
    "\n",
    "> \"Don't remember why\"\n",
    "\n",
    "- branch: master\n",
    "- hidden: true\n",
    "- categories: [spacy, dependencies]"
   ]
  },
  {
   "cell_type": "code",
   "execution_count": null,
   "metadata": {
    "id": "GS2XLmM548In"
   },
   "outputs": [],
   "source": [
    "!pip install spacy\n",
    "!python -m spacy download en_core_web_sm"
   ]
  },
  {
   "cell_type": "code",
   "execution_count": 21,
   "metadata": {
    "id": "UXkv8sKo5pTK"
   },
   "outputs": [],
   "source": [
    "nlp = spacy.load('en_core_web_sm')\n",
    "\n",
    "sentence = \"Mm-hmm.\"\n",
    "\n",
    "doc = nlp(sentence)\n",
    "\n"
   ]
  },
  {
   "cell_type": "code",
   "execution_count": 22,
   "metadata": {
    "colab": {
     "base_uri": "https://localhost:8080/"
    },
    "id": "NKyNXz_M-xvT",
    "outputId": "ade52dc8-7f70-4996-f652-e6f74065b454"
   },
   "outputs": [
    {
     "data": {
      "text/plain": [
       "{'text': 'Mm-hmm.',\n",
       " 'ents': [],\n",
       " 'sents': [{'start': 0, 'end': 7}],\n",
       " 'tokens': [{'id': 0,\n",
       "   'start': 0,\n",
       "   'end': 2,\n",
       "   'tag': 'NNP',\n",
       "   'pos': 'PROPN',\n",
       "   'morph': 'Number=Sing',\n",
       "   'lemma': 'Mm',\n",
       "   'dep': 'compound',\n",
       "   'head': 2},\n",
       "  {'id': 1,\n",
       "   'start': 2,\n",
       "   'end': 3,\n",
       "   'tag': 'HYPH',\n",
       "   'pos': 'PUNCT',\n",
       "   'morph': 'PunctType=Dash',\n",
       "   'lemma': '-',\n",
       "   'dep': 'punct',\n",
       "   'head': 2},\n",
       "  {'id': 2,\n",
       "   'start': 3,\n",
       "   'end': 6,\n",
       "   'tag': 'NN',\n",
       "   'pos': 'NOUN',\n",
       "   'morph': 'Number=Sing',\n",
       "   'lemma': 'hmm',\n",
       "   'dep': 'ROOT',\n",
       "   'head': 2},\n",
       "  {'id': 3,\n",
       "   'start': 6,\n",
       "   'end': 7,\n",
       "   'tag': '.',\n",
       "   'pos': 'PUNCT',\n",
       "   'morph': 'PunctType=Peri',\n",
       "   'lemma': '.',\n",
       "   'dep': 'punct',\n",
       "   'head': 2}]}"
      ]
     },
     "execution_count": 22,
     "metadata": {},
     "output_type": "execute_result"
    }
   ],
   "source": [
    "doc.to_json()"
   ]
  },
  {
   "cell_type": "code",
   "execution_count": null,
   "metadata": {
    "id": "XoTrmwyV_XLS"
   },
   "outputs": [],
   "source": []
  }
 ],
 "metadata": {
  "colab": {
   "provenance": []
  },
  "kernelspec": {
   "display_name": "Python 3",
   "name": "python3"
  },
  "language_info": {
   "name": "python"
  }
 },
 "nbformat": 4,
 "nbformat_minor": 0
}
