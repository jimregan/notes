{
 "cells": [
  {
   "cell_type": "markdown",
   "id": "6fbd3d99",
   "metadata": {},
   "source": [
    "# CoreNLP English model on Kaggle\n",
    "\n",
    "> \"To have offline\"\n",
    "\n",
    "- toc: false\n",
    "- branch: master\n",
    "- badges: false\n",
    "- hidden: true\n",
    "- categories: [kaggle, corenlp, english]\n"
   ]
  },
  {
   "cell_type": "markdown",
   "id": "2ecbc3aa",
   "metadata": {},
   "source": [
    "[Original on Kaggle](https://www.kaggle.com/jimregan/stanza-corenlp-english-model) (complete with downloaded model)."
   ]
  },
  {
   "cell_type": "code",
   "execution_count": null,
   "id": "infinite-nirvana",
   "metadata": {
    "execution": {
     "iopub.execute_input": "2021-05-22T19:30:06.902218Z",
     "iopub.status.busy": "2021-05-22T19:30:06.901074Z",
     "iopub.status.idle": "2021-05-22T19:30:16.006899Z",
     "shell.execute_reply": "2021-05-22T19:30:16.005846Z",
     "shell.execute_reply.started": "2021-05-22T19:26:00.444006Z"
    },
    "papermill": {
     "duration": 9.115579,
     "end_time": "2021-05-22T19:30:16.007104",
     "exception": false,
     "start_time": "2021-05-22T19:30:06.891525",
     "status": "completed"
    },
    "tags": []
   },
   "outputs": [],
   "source": [
    "!pip install stanza"
   ]
  },
  {
   "cell_type": "code",
   "execution_count": 2,
   "id": "nasty-mileage",
   "metadata": {
    "_cell_guid": "b1076dfc-b9ad-4769-8c92-a6c4dae69d19",
    "_uuid": "8f2839f25d086af736a60e9eeb907d3b93b6e0e5",
    "execution": {
     "iopub.execute_input": "2021-05-22T19:30:16.028266Z",
     "iopub.status.busy": "2021-05-22T19:30:16.027286Z",
     "iopub.status.idle": "2021-05-22T19:32:49.521699Z",
     "shell.execute_reply": "2021-05-22T19:32:49.521004Z",
     "shell.execute_reply.started": "2021-05-22T19:26:15.055428Z"
    },
    "papermill": {
     "duration": 153.507211,
     "end_time": "2021-05-22T19:32:49.521922",
     "exception": false,
     "start_time": "2021-05-22T19:30:16.014711",
     "status": "completed"
    },
    "tags": []
   },
   "outputs": [
    {
     "name": "stderr",
     "output_type": "stream",
     "text": [
      "Downloading http://nlp.stanford.edu/software/stanford-corenlp-latest.zip: 100%|██████████| 504M/504M [02:28<00:00, 3.39MB/s]\n"
     ]
    }
   ],
   "source": [
    "import stanza\n",
    "stanza.install_corenlp(dir=\"corenlp\")"
   ]
  },
  {
   "cell_type": "code",
   "execution_count": 3,
   "id": "bizarre-metadata",
   "metadata": {
    "execution": {
     "iopub.execute_input": "2021-05-22T19:32:50.012766Z",
     "iopub.status.busy": "2021-05-22T19:32:50.010291Z",
     "iopub.status.idle": "2021-05-22T19:36:28.403158Z",
     "shell.execute_reply": "2021-05-22T19:36:28.402485Z"
    },
    "papermill": {
     "duration": 218.634618,
     "end_time": "2021-05-22T19:36:28.403342",
     "exception": false,
     "start_time": "2021-05-22T19:32:49.768724",
     "status": "completed"
    },
    "tags": []
   },
   "outputs": [
    {
     "name": "stderr",
     "output_type": "stream",
     "text": [
      "Downloading http://nlp.stanford.edu/software/stanford-corenlp-4.1.0-models-english.jar: 100%|██████████| 671M/671M [03:37<00:00, 3.08MB/s]\n"
     ]
    }
   ],
   "source": [
    "stanza.download_corenlp_models(model='english', version='4.1.0', dir=\"corenlp\")"
   ]
  }
 ],
 "metadata": {
  "kernelspec": {
   "display_name": "Python 3",
   "language": "python",
   "name": "python3"
  },
  "language_info": {
   "codemirror_mode": {
    "name": "ipython",
    "version": 3
   },
   "file_extension": ".py",
   "mimetype": "text/x-python",
   "name": "python",
   "nbconvert_exporter": "python",
   "pygments_lexer": "ipython3",
   "version": "3.8.2"
  },
  "papermill": {
   "default_parameters": {},
   "duration": 389.59186,
   "end_time": "2021-05-22T19:36:29.862432",
   "environment_variables": {},
   "exception": null,
   "input_path": "__notebook__.ipynb",
   "output_path": "__notebook__.ipynb",
   "parameters": {},
   "start_time": "2021-05-22T19:30:00.270572",
   "version": "2.3.2"
  }
 },
 "nbformat": 4,
 "nbformat_minor": 5
}
