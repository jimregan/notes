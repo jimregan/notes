{
 "cells": [
  {
   "cell_type": "code",
   "execution_count": 1,
   "metadata": {},
   "outputs": [
    {
     "name": "stdout",
     "output_type": "stream",
     "text": [
      "--2021-03-26 00:44:46--  https://ia800700.us.archive.org/6/items/ga.ie.cll.48000.tar/ga.ie.cll.48000.tar.gz\n",
      "Resolving ia800700.us.archive.org (ia800700.us.archive.org)... 207.241.230.70\n",
      "Connecting to ia800700.us.archive.org (ia800700.us.archive.org)|207.241.230.70|:443... connected.\n",
      "HTTP request sent, awaiting response... 200 OK\n",
      "Length: 286318482 (273M) [application/octet-stream]\n",
      "Saving to: ‘data/irish/ga.ie.cll.48000.tar.gz’\n",
      "\n",
      "data/irish/ga.ie.cl 100%[===================>] 273.05M   304KB/s    in 9m 49s  \n",
      "\n",
      "2021-03-26 00:54:36 (474 KB/s) - ‘data/irish/ga.ie.cll.48000.tar.gz’ saved [286318482/286318482]\n",
      "\n",
      "--2021-03-26 00:54:36--  https://raw.githubusercontent.com/Idlak/Living-Audio-Dataset/master/ga/text.xml\n",
      "Resolving raw.githubusercontent.com (raw.githubusercontent.com)... 185.199.109.133, 185.199.110.133, 185.199.108.133, ...\n",
      "Connecting to raw.githubusercontent.com (raw.githubusercontent.com)|185.199.109.133|:443... connected.\n",
      "HTTP request sent, awaiting response... 200 OK\n",
      "Length: 109933 (107K) [text/plain]\n",
      "Saving to: ‘data/irish/ga.ie.cll.xml’\n",
      "\n",
      "data/irish/ga.ie.cl 100%[===================>] 107.36K  --.-KB/s    in 0.02s   \n",
      "\n",
      "2021-03-26 00:54:37 (6.42 MB/s) - ‘data/irish/ga.ie.cll.xml’ saved [109933/109933]\n",
      "\n"
     ]
    }
   ],
   "source": [
    "# License: Apache 2.0\n",
    "!wget https://ia800700.us.archive.org/6/items/ga.ie.cll.48000.tar/ga.ie.cll.48000.tar.gz -O data/irish/ga.ie.cll.48000.tar.gz\n",
    "!wget https://raw.githubusercontent.com/Idlak/Living-Audio-Dataset/master/ga/text.xml -O data/irish/ga.ie.cll.xml"
   ]
  },
  {
   "cell_type": "code",
   "execution_count": null,
   "metadata": {},
   "outputs": [],
   "source": [
    "!tar zxvf data/irish/ga.ie.cll.48000.tar.gz -C /workspace/data/irish/"
   ]
  },
  {
   "cell_type": "code",
   "execution_count": 5,
   "metadata": {},
   "outputs": [
    {
     "name": "stdout",
     "output_type": "stream",
     "text": [
      "Requirement already satisfied: bs4 in /opt/conda/lib/python3.7/site-packages (0.0.1)\n",
      "Requirement already satisfied: beautifulsoup4 in /opt/conda/lib/python3.7/site-packages (from bs4) (4.9.0)\n",
      "Requirement already satisfied: soupsieve>1.2 in /opt/conda/lib/python3.7/site-packages (from beautifulsoup4->bs4) (1.9.4)\n",
      "Requirement already satisfied: lxml in /opt/conda/lib/python3.7/site-packages (4.5.0)\n"
     ]
    }
   ],
   "source": [
    "!pip install bs4\n",
    "!pip install lxml"
   ]
  },
  {
   "cell_type": "code",
   "execution_count": 18,
   "metadata": {},
   "outputs": [],
   "source": [
    "from bs4 import BeautifulSoup\n",
    "import unicodedata\n",
    "soup = BeautifulSoup(open('/workspace/data/irish/ga.ie.cll.xml').read(), 'lxml')\n",
    "dataset = list()\n",
    "for entry in soup.find_all('fileid'):\n",
    "    current = dict()\n",
    "    current['id'] = entry['id']\n",
    "    current['text'] = unicodedata.normalize('NFC', entry.text.strip())\n",
    "    dataset.append(current)"
   ]
  },
  {
   "cell_type": "code",
   "execution_count": 30,
   "metadata": {},
   "outputs": [],
   "source": [
    "def is_upper_vowel(letter):\n",
    "  if letter in ['A', 'E', 'I', 'O', 'U', 'Á', 'É', 'Í', 'Ó', 'Ú']:\n",
    "    return True\n",
    "  else:\n",
    "    return False\n",
    "\n",
    "def irish_lower(word):\n",
    "  if len(word) > 1 and word[0] in ['n', 't'] and is_upper_vowel(word[1]):\n",
    "    return word[0] + '-' + word[1:].lower()\n",
    "  else:\n",
    "    return word.lower()\n",
    "\n",
    "def irish_lower_sentence(sentence):\n",
    "  return \" \".join([irish_lower(w) for w in sentence.split(\" \")])"
   ]
  },
  {
   "cell_type": "code",
   "execution_count": 31,
   "metadata": {},
   "outputs": [],
   "source": [
    "import re\n",
    "hyphens = 'cll_z0001_713 cll_z0001_804 cll_z0002_069 cll_z0002_296 cll_z0002_448 cll_z0002_481 cll_z0002_484 cll_z0002_495'.split(' ')\n",
    "for entry in dataset:\n",
    "    tmp = entry['text']\n",
    "    tmp = re.sub(' \\- ', ' ', tmp)\n",
    "    tmp = re.sub(' – ', ' ', tmp)\n",
    "    tmp = re.sub('[‘“”\\\"\\.\\?!,–—;:]', '', tmp)\n",
    "    if entry['id'] in hyphens:\n",
    "        tmp = re.sub('\\'', '', tmp)\n",
    "    entry['sentence'] = irish_lower_sentence(tmp)"
   ]
  },
  {
   "cell_type": "code",
   "execution_count": 29,
   "metadata": {},
   "outputs": [],
   "source": [
    "for entry in dataset:\n",
    "    entry['speaker'] = 'caoimhin'\n",
    "    entry['accent'] = 'dublin'\n",
    "    entry['gender'] = 'male'\n",
    "    entry['path'] = '/workspace/data/irish/48000_orig/{}.wav'.format(entry['id'])"
   ]
  },
  {
   "cell_type": "code",
   "execution_count": 34,
   "metadata": {},
   "outputs": [],
   "source": [
    "import json\n",
    "datasetjson = json.dumps(dataset)\n",
    "jsonf = open(\"/workspace/data/irish/ga.ie.cll.json\", \"w\")\n",
    "jsonf.write(datasetjson)\n",
    "jsonf.close()"
   ]
  },
  {
   "cell_type": "code",
   "execution_count": 2,
   "metadata": {},
   "outputs": [],
   "source": [
    "import json\n",
    "with open(\"/workspace/data/irish/ga.ie.cll.json\") as jsonf:\n",
    "    data = json.load(jsonf)"
   ]
  },
  {
   "cell_type": "code",
   "execution_count": 3,
   "metadata": {},
   "outputs": [],
   "source": [
    "paths = [e['path'] for e in data]\n",
    "sentences = [e['sentence'] for e in data]\n",
    "dictds = {'path': paths,\n",
    "          'sentence': sentences}"
   ]
  },
  {
   "cell_type": "code",
   "execution_count": 6,
   "metadata": {},
   "outputs": [],
   "source": [
    "from datasets import Dataset\n",
    "tmpds = Dataset.from_dict(dictds)\n",
    "tmpds.save_to_disk('/workspace/data/irish/ga.ie.cll')"
   ]
  },
  {
   "cell_type": "code",
   "execution_count": 7,
   "metadata": {},
   "outputs": [],
   "source": [
    "from datasets import Dataset\n",
    "livingaudio = Dataset.load_from_disk('/workspace/data/irish/ga.ie.cll')"
   ]
  }
 ],
 "metadata": {
  "kernelspec": {
   "display_name": "Python 3",
   "language": "python",
   "name": "python3"
  },
  "language_info": {
   "codemirror_mode": {
    "name": "ipython",
    "version": 3
   },
   "file_extension": ".py",
   "mimetype": "text/x-python",
   "name": "python",
   "nbconvert_exporter": "python",
   "pygments_lexer": "ipython3",
   "version": "3.7.6"
  }
 },
 "nbformat": 4,
 "nbformat_minor": 4
}
