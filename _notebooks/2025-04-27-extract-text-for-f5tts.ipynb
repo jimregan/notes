{
 "cells": [
  {
   "cell_type": "markdown",
   "metadata": {},
   "source": [
    "# Extract text for F5TTS\n",
    "\n",
    "> \"Extracting text from our data for synthesis\"\n",
    "\n",
    "- branch: master\n",
    "- badges: false\n",
    "- hidden: true\n",
    "- categories: [hsi, f5tts]"
   ]
  },
  {
   "cell_type": "code",
   "execution_count": 2,
   "metadata": {},
   "outputs": [],
   "source": [
    "SAMPLE = \"\"\"\n",
    "{\n",
    "  \"1\": {\n",
    "    \"snippet\": \"Yes, I will try. Let's see here. So we have couch.\",\n",
    "    \"references\": [\n",
    "      {\n",
    "        \"ref_id\": 0,\n",
    "        \"phrase\": \"couch\",\n",
    "        \"resolved_ref\": \"Sofa_b5c02446\",\n",
    "        \"plurality\": \"single\",\n",
    "        \"original_label\": \"exact\",\n",
    "        \"object_id\": \"Sofa_b5c02446\",\n",
    "        \"phrase_start\": 15.892,\n",
    "        \"phrase_end\": 17.032\n",
    "      }\n",
    "    ],\n",
    "    \"start\": 10.192,\n",
    "    \"end\": 17.092000000000002,\n",
    "    \"high_level\": {\n",
    "      \"current_topic\": \"Sofa_b5c02446\",\n",
    "      \"topic_duration_id\": 0\n",
    "    }\n",
    "  }\n",
    "}\n",
    "\"\"\""
   ]
  },
  {
   "cell_type": "code",
   "execution_count": 3,
   "metadata": {},
   "outputs": [],
   "source": [
    "import json\n",
    "\n",
    "sample = json.loads(SAMPLE)"
   ]
  },
  {
   "cell_type": "code",
   "execution_count": 4,
   "metadata": {},
   "outputs": [],
   "source": [
    "from pathlib import Path\n",
    "\n",
    "JSONDIR = Path(\"/tmp/resolved_references_with_timings\")\n",
    "WAVDIR = Path(\"/tmp/audio_prompt_clips\")"
   ]
  },
  {
   "cell_type": "code",
   "execution_count": 8,
   "metadata": {},
   "outputs": [],
   "source": [
    "for wavfile in WAVDIR.glob(\"*.wav\"):\n",
    "    wavstem = wavfile.stem\n",
    "    parts = wavstem.split(\"_\")\n",
    "    orig_stem = \"_\".join(parts[:5])\n",
    "    jsonfile = JSONDIR / f\"{orig_stem}_with_timings.json\"\n",
    "    with open(jsonfile, \"r\") as f:\n",
    "        data = json.load(f)\n",
    "    phrase_id = parts[5]\n",
    "    orig_start = float(parts[6])\n",
    "    orig_end = float(parts[7])\n",
    "    text = data[phrase_id][\"snippet\"]\n",
    "    with open(WAVDIR / f\"{wavstem}.txt\", \"w\") as f:\n",
    "        f.write(text)\n"
   ]
  },
  {
   "cell_type": "code",
   "execution_count": 14,
   "metadata": {},
   "outputs": [],
   "source": [
    "from string import punctuation\n",
    "\n",
    "punct = set(punctuation)\n",
    "\n",
    "with open(\"/Users/joregan/Downloads/object_utterances_batch1_to_4.md\") as inf:\n",
    "    count = 1\n",
    "    for line in inf.readlines():\n",
    "        line = line.strip()\n",
    "        if line == \"\":\n",
    "            continue\n",
    "        parts = line.split(\" \")\n",
    "        new_parts = []\n",
    "        for part in parts:\n",
    "            if part.startswith(\"**\"):\n",
    "                new_parts.append(f\"*{part[2:]}*\")\n",
    "            elif part.endswith(\"**\"):\n",
    "                new_parts.append(f\"{part[:-2]}\")\n",
    "            elif part[-3:-1] == \"**\":\n",
    "                new_parts.append(f\"{part[:-3]}{part[-1:]}\")\n",
    "            else:\n",
    "                new_parts.append(part)\n",
    "        with open(f\"/tmp/test_batch/test_batch_{count}.txt\", \"w\") as of:\n",
    "            of.write(\" \".join(new_parts))\n",
    "        count += 1\n"
   ]
  },
  {
   "cell_type": "code",
   "execution_count": 15,
   "metadata": {},
   "outputs": [],
   "source": [
    "def read_reference_dir(ref_dir):\n",
    "    pairs = {}\n",
    "    if type(ref_dir) == str:\n",
    "        ref_dir = Path(ref_dir)\n",
    "        for wavfile in ref_dir.glob(\"*.wav\"):\n",
    "            name = str(wavfile)\n",
    "            text = name.replace(\".wav\", \".txt\")\n",
    "            with open(text, \"r\") as f:\n",
    "                data = f.readlines().strip()\n",
    "            pairs[wavfile] = data\n",
    "    return pairs\n"
   ]
  },
  {
   "cell_type": "code",
   "execution_count": 16,
   "metadata": {},
   "outputs": [],
   "source": [
    "def get_mmconv_speaker_room_pairs(ref_dir):\n",
    "    pairs = {}\n",
    "    if type(ref_dir) == str:\n",
    "        ref_dir = Path(ref_dir)\n",
    "    for wavfile in ref_dir.glob(\"*.wav\"):\n",
    "        name = str(wavfile)\n",
    "        text = name.replace(\".wav\", \".txt\")\n",
    "        parts = text.split(\"_\")\n",
    "        speaker = parts[1]\n",
    "        if not speaker in pairs:\n",
    "            pairs[speaker] = {}\n",
    "        room = parts[3]\n",
    "        if not room in pairs[speaker]:\n",
    "            pairs[speaker][room] = {}\n",
    "        with open(text, \"r\") as f:\n",
    "            data = f.readlines().strip()\n",
    "        pairs[speaker][room][wavfile] = data\n",
    "    return pairs\n"
   ]
  }
 ],
 "metadata": {
  "kernelspec": {
   "display_name": "nst-tts",
   "language": "python",
   "name": "python3"
  },
  "language_info": {
   "codemirror_mode": {
    "name": "ipython",
    "version": 3
   },
   "file_extension": ".py",
   "mimetype": "text/x-python",
   "name": "python",
   "nbconvert_exporter": "python",
   "pygments_lexer": "ipython3",
   "version": "3.10.9"
  }
 },
 "nbformat": 4,
 "nbformat_minor": 2
}
