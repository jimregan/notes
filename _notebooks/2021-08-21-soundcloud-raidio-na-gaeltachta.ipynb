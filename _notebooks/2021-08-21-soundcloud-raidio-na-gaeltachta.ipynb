{
  "nbformat": 4,
  "nbformat_minor": 0,
  "metadata": {
    "kernelspec": {
      "display_name": "Python 3",
      "language": "python",
      "name": "python3"
    },
    "language_info": {
      "codemirror_mode": {
        "name": "ipython",
        "version": 3
      },
      "file_extension": ".py",
      "mimetype": "text/x-python",
      "name": "python",
      "nbconvert_exporter": "python",
      "pygments_lexer": "ipython3",
      "version": "3.8.2"
    },
    "colab": {
      "name": "2021-08-21-soundcloud-raidio-na-gaeltachta.ipynb",
      "provenance": []
    }
  },
  "cells": [
    {
      "cell_type": "markdown",
      "metadata": {
        "id": "UR_qqy3QaRyR"
      },
      "source": [
        "# Soundcloud - Raidió na Gaeltachta/Raidió Fáilte\n",
        "\n",
        "> \"Dataset\"\n",
        "\n",
        "- toc: false\n",
        "- branch: master\n",
        "- badges: false\n",
        "- comments: true\n",
        "- hidden: true\n",
        "- categories: [kaggle, irish, soundcloud, dataset, unlabelled, rnag, raidiofailte]"
      ]
    },
    {
      "cell_type": "code",
      "metadata": {
        "_cell_guid": "b1076dfc-b9ad-4769-8c92-a6c4dae69d19",
        "_uuid": "8f2839f25d086af736a60e9eeb907d3b93b6e0e5",
        "id": "lC8eBcbqaRyb"
      },
      "source": [
        "!pip install youtube-dl\n",
        "!youtube-dl  -o '%(id)s.%(ext)s' https://soundcloud.com/rte-rnag/\n",
        "!youtube-dl  -o '%(id)s.%(ext)s' https://soundcloud.com/raidio-f"
      ],
      "execution_count": null,
      "outputs": []
    }
  ]
}