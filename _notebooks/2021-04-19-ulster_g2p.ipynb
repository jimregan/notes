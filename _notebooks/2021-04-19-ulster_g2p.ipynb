{
 "cells": [
  {
   "cell_type": "code",
   "execution_count": 2,
   "id": "ee2b8b36",
   "metadata": {},
   "outputs": [],
   "source": [
    "import icu"
   ]
  },
  {
   "cell_type": "code",
   "execution_count": 3,
   "id": "e7428501",
   "metadata": {},
   "outputs": [],
   "source": [
    "def transliterator_from_rules(name, rules):\n",
    "    fromrules = icu.Transliterator.createFromRules(name, rules)\n",
    "    icu.Transliterator.registerInstance(fromrules)\n",
    "    return icu.Transliterator.createInstance(name)"
   ]
  },
  {
   "cell_type": "code",
   "execution_count": 13,
   "id": "b9731e77",
   "metadata": {},
   "outputs": [],
   "source": [
    "irishlc_rules = \"\"\"\n",
    ":: NFD;\n",
    "$uvowel=[AEIOU];\n",
    "$wb=[^[:L:][:M:]];\n",
    "$wb { ([nt]) } $uvowel → $1 '-';\n",
    ":: lower;\n",
    ":: NFC;\n",
    "\"\"\""
   ]
  },
  {
   "cell_type": "code",
   "execution_count": 14,
   "id": "720d08a1",
   "metadata": {},
   "outputs": [],
   "source": [
    "irishlc = transliterator_from_rules('irishlc', irishlc_rules)"
   ]
  },
  {
   "cell_type": "code",
   "execution_count": 8,
   "id": "f110d168",
   "metadata": {},
   "outputs": [],
   "source": [
    "ulster_stress_rules = \"\"\"\n",
    "$wb=[^[:L:][:M:]];\n",
    "$cons = [bcdfghjklmnpqrstvwxyz];\n",
    "$vowel = [aeiouáéíóú];\n",
    "$bvowel = [aouáóú{ae}];\n",
    "$svowel = [eiéí];\n",
    ":: irishlc;\n",
    "$wb { anois } $wb → an'ˈ'ois;\n",
    "$wb { arís } $wb → air'ˈ'ís;\n",
    "$wb { isteach } $wb → ist'ˈ'each;\n",
    "$wb { amach } $wb → am'ˈ'ach;\n",
    "$wb $cons* { ($vowel) → 'ˈ'$1;\n",
    "\"\"\""
   ]
  },
  {
   "cell_type": "code",
   "execution_count": 9,
   "id": "236d973a",
   "metadata": {},
   "outputs": [],
   "source": [
    "stress = transliterator_from_rules('ulster_stress', ulster_stress_rules)"
   ]
  },
  {
   "cell_type": "code",
   "execution_count": 12,
   "id": "4ca6d841",
   "metadata": {},
   "outputs": [
    {
     "data": {
      "text/plain": [
       "'amˈach'"
      ]
     },
     "execution_count": 12,
     "metadata": {},
     "output_type": "execute_result"
    }
   ],
   "source": [
    "stress.transliterate(\"amach\")"
   ]
  },
  {
   "cell_type": "code",
   "execution_count": 134,
   "id": "6b253632",
   "metadata": {},
   "outputs": [],
   "source": [
    "ulster_g2p_rules = \"\"\"\n",
    "$wb=[^[:L:][:M:]];\n",
    "$cons = [bcdfghjklmnpqrstvwxyz];\n",
    "# when we transliterate past the first consonant,\n",
    "# we need to use the transliteration as context\n",
    "$scons = [{bʲ}{dʲ}{fʲ}{mʲ}ʃ{tʲ}{vʲ}];\n",
    "$bcons = [{bˠ}{dˠ}{fˠ}{mˠ}{sˠ}{tˠ}w];\n",
    "$vowel = [aeiouáéíóú];\n",
    "$bvowel = [aouáóú{ae}];\n",
    "$svowel = [eiéí];\n",
    "$ps = 'ˈ';\n",
    ":: irishlc;\n",
    ":: ulster_stress;\n",
    "\n",
    "\n",
    "\n",
    "$wb { mb } $cons* ˈ? $bvowel → mˠ;\n",
    "$wb { mb } $cons* ˈ? $svowel → mʲ;\n",
    "$bvowel $bcons* { bh → w;\n",
    "bh } $cons* ˈ? $bvowel → w;\n",
    "$svowel $scons* { bh → vʲ;\n",
    "bh } $cons* ˈ? $svowel → vʲ;\n",
    "$bvowel $bcons* { b → bˠ;\n",
    "b } $cons* ˈ? $bvowel → bˠ;\n",
    "$svowel $scons* { b → bʲ;\n",
    "b } $cons* ˈ? $svowel → bʲ;\n",
    "\n",
    "$wb { gc } $cons* ˈ? $bvowel → gˠ;\n",
    "$wb { gc } $cons* ˈ? $svowel → ɟ;\n",
    "$bvowel $bcons* { ch → x;\n",
    "ch } $cons* ˈ? $bvowel → x;\n",
    "$svowel $scons* { ch → ç;\n",
    "ch } $cons* ˈ? $svowel → ç;\n",
    "$bvowel $bcons* { c → kˠ;\n",
    "c } $cons* ˈ? $bvowel → kˠ;\n",
    "$svowel $scons* { c → c;\n",
    "c } $cons* ˈ? $svowel → c;\n",
    "\n",
    "$wb { nd } $cons* ˈ? $bvowel → ɴˠ;\n",
    "$wb { nd } $cons* ˈ? $svowel → ɴʲ;\n",
    "$bvowel $bcons* { dh → ɣ;\n",
    "dh } $cons* ˈ? $bvowel → ɣ;\n",
    "$svowel $scons* { dh → j;\n",
    "dh } $cons* ˈ? $svowel → j;\n",
    "$bvowel $bcons* { d → dˠ;\n",
    "d } $cons* ˈ? $bvowel → dˠ;\n",
    "$svowel $scons* { d → dʲ;\n",
    "d } $cons* ˈ? $svowel → dʲ;\n",
    "\n",
    "$wb { bhf } $cons* ˈ? $bvowel → w;\n",
    "$wb { bhf } $cons* ˈ? $svowel → vʲ;\n",
    "fh → ;\n",
    "$bvowel $bcons* { f → fˠ;\n",
    "f } $cons* ˈ? $bvowel → fˠ;\n",
    "$svowel $scons* { f → fʲ;\n",
    "f } $cons* ˈ? $svowel → fʲ;\n",
    "\n",
    "$bvowel $bcons* { mh → w;\n",
    "mh } $cons* ˈ? $bvowel → w;\n",
    "$svowel $scons* { mh → vʲ;\n",
    "mh } $cons* ˈ? $svowel → vʲ;\n",
    "$bvowel $bcons* { m → mˠ;\n",
    "m } $cons* ˈ? $bvowel → mˠ;\n",
    "$svowel $scons* { m → mʲ;\n",
    "m } $cons* ˈ? $svowel → mʲ;\n",
    "\n",
    "$wb { l } ˈ? $bvowel → ʟˠ;\n",
    "$wb { l } ˈ? $svowel → ʟʲ;\n",
    "$wb { r → ɾˠ;\n",
    "$bvowel $cons* { s → sˠ;\n",
    "s } $cons* ˈ? $bvowel → sˠ;\n",
    "$svowel $cons* { s → ʃ;\n",
    "s } $cons* ˈ? $svowel → ʃ;\n",
    "$bvowel $bcons* { t → tˠ;\n",
    "t } $cons* ˈ? $bvowel → tˠ;\n",
    "$svowel $scons* { t → tʲ;\n",
    "t } $cons* ˈ? $svowel → tʲ;\n",
    "\n",
    "# 'oi' can represent either:\n",
    "# * 'o' before a slender consonant\n",
    "# * 'i' after a broad consonant\n",
    "$wb g { $ps oi } tse $wb → $ps i ;\n",
    "$wb an { $ps oi } s $wb → $ps i ;\n",
    "\n",
    ":: null;\n",
    "\n",
    "$ps eái → $ps aː;\n",
    "$ps eá → $ps aː;\n",
    "$ps ái → $ps aː;\n",
    "$ps á → $ps aː;\n",
    "$ps aei → $ps eː;\n",
    "$ps ae → $ps eː;\n",
    "$ps éi → $ps eː;\n",
    "$ps é → $ps eː;\n",
    "eái → a;\n",
    "eá → a;\n",
    "ái → a;\n",
    "á → a;\n",
    "aei → e;\n",
    "ae → e;\n",
    "éi → e;\n",
    "é → e;\n",
    "\n",
    "$ps eai → $ps a ;\n",
    "$ps ea → $ps a ;\n",
    "$ps ai → $ps a ;\n",
    "$ps a → $ps a ;\n",
    "$ps ei → $ps e ;\n",
    "$ps ue → $ps e ;\n",
    "$ps e → $ps e ;\n",
    "eai → ə ;\n",
    "ea → ə ;\n",
    "ai → ə ;\n",
    "a → ə ;\n",
    "ei → ə ;\n",
    "ue → ə ;\n",
    "e → ə ;\n",
    "\n",
    "$ps oi → $ps o ;\n",
    "$ps ui → $ps i ;\n",
    "$ps iu → $ps u ;\n",
    "$ps u → $ps u ;\n",
    "$ps io → $ps i ;\n",
    "$ps i → $ps i ;\n",
    "oi → ə ;\n",
    "ui → ə ;\n",
    "iu → ə ;\n",
    "io → ə ;\n",
    "u → ə ;\n",
    "i → ə ;\n",
    "\n",
    "$ps → $ps;\n",
    "\"\"\""
   ]
  },
  {
   "cell_type": "code",
   "execution_count": 135,
   "id": "71077e72",
   "metadata": {},
   "outputs": [],
   "source": [
    "ulster_g2p = transliterator_from_rules('ulster_g2p', ulster_g2p_rules)"
   ]
  },
  {
   "cell_type": "code",
   "execution_count": 138,
   "id": "22c30891",
   "metadata": {},
   "outputs": [
    {
     "data": {
      "text/plain": [
       "'xˈatˠ'"
      ]
     },
     "execution_count": 138,
     "metadata": {},
     "output_type": "execute_result"
    }
   ],
   "source": [
    "ulster_g2p.transliterate(\"chat\")"
   ]
  }
 ],
 "metadata": {
  "kernelspec": {
   "display_name": "Python 3",
   "language": "python",
   "name": "python3"
  },
  "language_info": {
   "codemirror_mode": {
    "name": "ipython",
    "version": 3
   },
   "file_extension": ".py",
   "mimetype": "text/x-python",
   "name": "python",
   "nbconvert_exporter": "python",
   "pygments_lexer": "ipython3",
   "version": "3.8.2"
  }
 },
 "nbformat": 4,
 "nbformat_minor": 5
}
