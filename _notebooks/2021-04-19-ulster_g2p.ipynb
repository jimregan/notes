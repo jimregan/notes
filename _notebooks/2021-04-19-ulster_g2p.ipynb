{
 "cells": [
  {
   "cell_type": "code",
   "execution_count": 2,
   "id": "995fba6c",
   "metadata": {},
   "outputs": [],
   "source": [
    "import icu"
   ]
  },
  {
   "cell_type": "code",
   "execution_count": 3,
   "id": "bf33bbf2",
   "metadata": {},
   "outputs": [],
   "source": [
    "def transliterator_from_rules(name, rules):\n",
    "    fromrules = icu.Transliterator.createFromRules(name, rules)\n",
    "    icu.Transliterator.registerInstance(fromrules)\n",
    "    return icu.Transliterator.createInstance(name)"
   ]
  },
  {
   "cell_type": "code",
   "execution_count": 13,
   "id": "d3d82ced",
   "metadata": {},
   "outputs": [],
   "source": [
    "irishlc_rules = \"\"\"\n",
    ":: NFD;\n",
    "$uvowel=[AEIOU];\n",
    "$wb=[^[:L:][:M:]];\n",
    "$wb { ([nt]) } $uvowel → $1 '-';\n",
    ":: lower;\n",
    ":: NFC;\n",
    "\"\"\""
   ]
  },
  {
   "cell_type": "code",
   "execution_count": 14,
   "id": "c463af79",
   "metadata": {},
   "outputs": [],
   "source": [
    "irishlc = transliterator_from_rules('irishlc', irishlc_rules)"
   ]
  },
  {
   "cell_type": "code",
   "execution_count": 8,
   "id": "481609fa",
   "metadata": {},
   "outputs": [],
   "source": [
    "ulster_stress_rules = \"\"\"\n",
    "$wb=[^[:L:][:M:]];\n",
    "$cons = [bcdfghjklmnpqrstvwxyz];\n",
    "$vowel = [aeiouáéíóú];\n",
    "$bvowel = [aouáóú{ae}];\n",
    "$svowel = [eiéí];\n",
    ":: irishlc;\n",
    "$wb { anois } $wb → an'ˈ'ois;\n",
    "$wb { arís } $wb → air'ˈ'ís;\n",
    "$wb { isteach } $wb → ist'ˈ'each;\n",
    "$wb { amach } $wb → am'ˈ'ach;\n",
    "$wb $cons* { ($vowel) → 'ˈ'$1;\n",
    "\"\"\""
   ]
  },
  {
   "cell_type": "code",
   "execution_count": 9,
   "id": "76c8ba76",
   "metadata": {},
   "outputs": [],
   "source": [
    "stress = transliterator_from_rules('ulster_stress', ulster_stress_rules)"
   ]
  },
  {
   "cell_type": "code",
   "execution_count": 12,
   "id": "ca2d68b7",
   "metadata": {},
   "outputs": [
    {
     "data": {
      "text/plain": [
       "'amˈach'"
      ]
     },
     "execution_count": 12,
     "metadata": {},
     "output_type": "execute_result"
    }
   ],
   "source": [
    "stress.transliterate(\"amach\")"
   ]
  },
  {
   "cell_type": "code",
   "execution_count": 57,
   "id": "de40c9d1",
   "metadata": {},
   "outputs": [],
   "source": [
    "ulster_g2p_rules = \"\"\"\n",
    "$wb=[^[:L:][:M:]];\n",
    "$cons = [bcdfghjklmnpqrstvwxyz];\n",
    "$vowel = [aeiouáéíóú];\n",
    "$bvowel = [aouáóú{ae}];\n",
    "$svowel = [eiéí];\n",
    ":: irishlc;\n",
    ":: ulster_stress;\n",
    "$wb { l } ˈ? $bvowel → ʟˠ;\n",
    "$wb { l } ˈ? $svowel → ʟʲ;\n",
    "$wb { r → ɾˠ;\n",
    "$bvowel $cons* { t → tˠ;\n",
    "t } $cons* ˈ? $bvowel → tˠ;\n",
    "$svowel $cons* { t → tʲ;\n",
    "t } $cons* ˈ? $svowel → tʲ;\n",
    "$bvowel $cons* { s → sˠ;\n",
    "s } $cons* ˈ? $bvowel → sˠ;\n",
    "$svowel $cons* { s → ʃ;\n",
    "s } $cons* ˈ? $svowel → ʃ;\n",
    "ˈeá → aː;\n",
    "ˈá → aː;\n",
    "a → ə ;\n",
    "'ˈ' → 'ˈ';\n",
    "\"\"\""
   ]
  },
  {
   "cell_type": "code",
   "execution_count": 58,
   "id": "2dda2c8d",
   "metadata": {},
   "outputs": [],
   "source": [
    "ulster_g2p = transliterator_from_rules('ulster_g2p', ulster_g2p_rules)"
   ]
  },
  {
   "cell_type": "code",
   "execution_count": 59,
   "id": "11a34923",
   "metadata": {},
   "outputs": [
    {
     "data": {
      "text/plain": [
       "'ˈənoitʲ'"
      ]
     },
     "execution_count": 59,
     "metadata": {},
     "output_type": "execute_result"
    }
   ],
   "source": [
    "ulster_g2p.transliterate(\"anoit\")"
   ]
  }
 ],
 "metadata": {
  "kernelspec": {
   "display_name": "Python 3",
   "language": "python",
   "name": "python3"
  },
  "language_info": {
   "codemirror_mode": {
    "name": "ipython",
    "version": 3
   },
   "file_extension": ".py",
   "mimetype": "text/x-python",
   "name": "python",
   "nbconvert_exporter": "python",
   "pygments_lexer": "ipython3",
   "version": "3.8.2"
  }
 },
 "nbformat": 4,
 "nbformat_minor": 5
}
