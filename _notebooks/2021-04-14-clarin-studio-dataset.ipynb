{
 "cells": [
  {
   "cell_type": "markdown",
   "metadata": {
    "id": "dSprHNT5Je2r"
   },
   "source": [
    "# Clarin-Studio dataset\n",
    "\n",
    "> Making/testing the dataset\n",
    "\n",
    "- toc: false\n",
    "- branch: master\n",
    "- badges: false\n",
    "- comments: false\n",
    "- categories: [clarinpl, huggingface]"
   ]
  },
  {
   "cell_type": "markdown",
   "metadata": {
    "id": "cSrYJFDJJzyZ"
   },
   "source": [
    "The datasets are on the hub: [jimregan/clarinpl_studio](https://huggingface.co/datasets/jimregan/clarinpl_studio) and [jimregan/clarinpl_sejmsenat](https://huggingface.co/datasets/jimregan/clarinpl_sejmsenat)"
   ]
  },
  {
   "cell_type": "code",
   "execution_count": null,
   "metadata": {
    "id": "fgGAR0IBAPk4"
   },
   "outputs": [],
   "source": [
    "!wget http://mowa.clarin-pl.eu/korpusy/audio.tar.gz"
   ]
  },
  {
   "cell_type": "code",
   "execution_count": null,
   "metadata": {
    "id": "sogzZyjiAanV"
   },
   "outputs": [],
   "source": [
    "!tar zxvf audio.tar.gz"
   ]
  },
  {
   "cell_type": "code",
   "execution_count": null,
   "metadata": {
    "colab": {
     "base_uri": "https://localhost:8080/"
    },
    "id": "CSGJsLln_rbT",
    "outputId": "b786c95e-91a1-4895-9553-1905891dc034"
   },
   "outputs": [
    {
     "name": "stdout",
     "output_type": "stream",
     "text": [
      "SPK0001\n"
     ]
    }
   ],
   "source": [
    "!cat /content/audio/SES0001/spk.txt"
   ]
  },
  {
   "cell_type": "code",
   "execution_count": null,
   "metadata": {
    "colab": {
     "base_uri": "https://localhost:8080/"
    },
    "id": "nzm4mo63_xCt",
    "outputId": "012ff6c2-ab3b-4e75-854b-ddf3fa781dd1"
   },
   "outputs": [
    {
     "name": "stdout",
     "output_type": "stream",
     "text": [
      "gdy maluch już się wypluska wytrzyjcie go dokładnie ręcznikiem posmarujcie jeszcze raz kremem przeciwsłonecznym i ubierzcie w suche u branie\n"
     ]
    }
   ],
   "source": [
    "!cat /content/audio/SES0001/sent030.txt"
   ]
  },
  {
   "cell_type": "code",
   "execution_count": null,
   "metadata": {
    "id": "Au8pVCbGDpfz"
   },
   "outputs": [],
   "source": [
    "!head /content/SejmSenat/test/wav.scp.orig"
   ]
  },
  {
   "cell_type": "code",
   "execution_count": null,
   "metadata": {
    "id": "T7Qjm0qHDwcO"
   },
   "outputs": [],
   "source": [
    "!head /content/SejmSenat/test/spk2utt"
   ]
  },
  {
   "cell_type": "code",
   "execution_count": null,
   "metadata": {
    "id": "q6puAiKXMJHg"
   },
   "outputs": [],
   "source": [
    "!head /content/SejmSenat/train/text"
   ]
  },
  {
   "cell_type": "code",
   "execution_count": null,
   "metadata": {
    "id": "Km96LQXKg13j"
   },
   "outputs": [],
   "source": [
    "!huggingface-cli login"
   ]
  },
  {
   "cell_type": "code",
   "execution_count": null,
   "metadata": {
    "id": "HehYwqLehHLf"
   },
   "outputs": [],
   "source": [
    "!huggingface-cli repo create clarinpl_studio --type dataset"
   ]
  },
  {
   "cell_type": "code",
   "execution_count": null,
   "metadata": {
    "colab": {
     "base_uri": "https://localhost:8080/"
    },
    "id": "DowdUXWbhn5N",
    "outputId": "cfd9f756-a27c-496e-b564-a93976c62cbc"
   },
   "outputs": [
    {
     "name": "stdout",
     "output_type": "stream",
     "text": [
      "Cloning into 'clarinpl_studio'...\n",
      "remote: Enumerating objects: 6, done.\u001b[K\n",
      "remote: Counting objects: 100% (6/6), done.\u001b[K\n",
      "remote: Compressing objects: 100% (5/5), done.\u001b[K\n",
      "remote: Total 6 (delta 0), reused 0 (delta 0)\u001b[K\n",
      "Unpacking objects: 100% (6/6), done.\n"
     ]
    }
   ],
   "source": [
    "!rm -rf clarinpl_studio\n",
    "!git clone https://huggingface.co/datasets/jimregan/clarinpl_studio"
   ]
  },
  {
   "cell_type": "code",
   "execution_count": null,
   "metadata": {
    "colab": {
     "base_uri": "https://localhost:8080/"
    },
    "id": "nb-3UPhViIYU",
    "outputId": "01a33426-2718-4c40-fb0f-113423404f42"
   },
   "outputs": [
    {
     "name": "stdout",
     "output_type": "stream",
     "text": [
      "Testing builder 'clean' (1/1)\n",
      "Downloading and preparing dataset clarin_pl_studio/clean (download: 4.59 GiB, generated: 4.50 MiB, post-processed: Unknown size, total: 4.60 GiB) to /root/.cache/huggingface/datasets/clarin_pl_studio/clean/2.1.0/733df40ff099ad45628c8c755782c0abb5554817218890a3d232ed359122252c...\n",
      "0 examples [00:00, ? examples/s]2021-04-15 10:43:00.739700: I tensorflow/stream_executor/platform/default/dso_loader.cc:49] Successfully opened dynamic library libcudart.so.11.0\n",
      "Dataset clarin_pl_studio downloaded and prepared to /root/.cache/huggingface/datasets/clarin_pl_studio/clean/2.1.0/733df40ff099ad45628c8c755782c0abb5554817218890a3d232ed359122252c. Subsequent calls will reuse this data.\n",
      "100% 3/3 [00:00<00:00, 176.78it/s]\n",
      "Dataset Infos file saved at clarinpl_studio/dataset_infos.json\n",
      "Test successful.\n"
     ]
    }
   ],
   "source": [
    "!datasets-cli test clarinpl_studio --save_infos --all_configs\n"
   ]
  },
  {
   "cell_type": "code",
   "execution_count": null,
   "metadata": {
    "cellView": "form",
    "id": "5wkvnlHRD5J5"
   },
   "outputs": [],
   "source": [
    "#@title\n",
    "# coding=utf-8\n",
    "# Copyright 2021 The TensorFlow Datasets Authors and the HuggingFace Datasets Authors.\n",
    "# Copyright 2021 Jim O'Regan\n",
    "#\n",
    "# Licensed under the Apache License, Version 2.0 (the \"License\");\n",
    "# you may not use this file except in compliance with the License.\n",
    "# You may obtain a copy of the License at\n",
    "#\n",
    "#     http://www.apache.org/licenses/LICENSE-2.0\n",
    "#\n",
    "# Unless required by applicable law or agreed to in writing, software\n",
    "# distributed under the License is distributed on an \"AS IS\" BASIS,\n",
    "# WITHOUT WARRANTIES OR CONDITIONS OF ANY KIND, either express or implied.\n",
    "# See the License for the specific language governing permissions and\n",
    "# limitations under the License.\n",
    "\n",
    "# Lint as: python3\n",
    "\"\"\"ClarinPL Studio automatic speech recognition dataset.\"\"\"\n",
    "\n",
    "import os\n",
    "\n",
    "import datasets\n",
    "\n",
    "\n",
    "_CITATION = \"\"\"\\\n",
    "@article{korvzinek2017polish,\n",
    "  title={Polish read speech corpus for speech tools and services},\n",
    "  author={Kor{\\v{z}}inek, Danijel and Marasek, Krzysztof and Brocki, {\\L}ukasz and Wo{\\l}k, Krzysztof},\n",
    "  journal={arXiv preprint arXiv:1706.00245},\n",
    "  year={2017}\n",
    "}\n",
    "\"\"\"\n",
    "\n",
    "_DESCRIPTION = \"\"\"\\\n",
    "The corpus consists of 317 speakers recorded in 554\n",
    "sessions, where each session consists of 20 read sentences and 10 phonetically rich words. The size of\n",
    "the audio portion of the corpus amounts to around 56 hours, with transcriptions containing 356674 words\n",
    "from a vocabulary of size 46361.\n",
    "\n",
    "Note that in order to limit the required storage for preparing this dataset, the audio\n",
    "is stored in the .wav format and is not converted to a float32 array. To convert the audio\n",
    "file to a float32 array, please make use of the `.map()` function as follows:\n",
    "\n",
    "```python\n",
    "import soundfile as sf\n",
    "\n",
    "def map_to_array(batch):\n",
    "    speech_array, _ = sf.read(batch[\"file\"])\n",
    "    batch[\"speech\"] = speech_array\n",
    "    return batch\n",
    "\n",
    "dataset = dataset.map(map_to_array, remove_columns=[\"file\"])\n",
    "```\n",
    "\"\"\"\n",
    "\n",
    "_URL = \"https://mowa.clarin-pl.eu/\"\n",
    "_DS_URL = \"http://mowa.clarin-pl.eu/korpusy/audio.tar.gz\"\n",
    "_TRAIN_URL = \"https://raw.githubusercontent.com/danijel3/ClarinStudioKaldi/master/local_clarin/train.sessions\"\n",
    "_TEST_URL = \"https://raw.githubusercontent.com/danijel3/ClarinStudioKaldi/master/local_clarin/test.sessions\"\n",
    "_VALID_URL = \"https://raw.githubusercontent.com/danijel3/ClarinStudioKaldi/master/local_clarin/dev.sessions\"\n",
    "\n",
    "class ClarinPLStudioASRConfig(datasets.BuilderConfig):\n",
    "    \"\"\"BuilderConfig for ClarinPLStudioASR.\"\"\"\n",
    "\n",
    "    def __init__(self, **kwargs):\n",
    "        \"\"\"\n",
    "        Args:\n",
    "          data_dir: `string`, the path to the folder containing the files in the\n",
    "            downloaded .tar\n",
    "          citation: `string`, citation for the data set\n",
    "          url: `string`, url for information about the data set\n",
    "          **kwargs: keyword arguments forwarded to super.\n",
    "        \"\"\"\n",
    "        super(ClarinPLStudioASRConfig, self).__init__(version=datasets.Version(\"2.1.0\", \"\"), **kwargs)\n",
    "\n",
    "\n",
    "class ClarinPLStudio(datasets.GeneratorBasedBuilder):\n",
    "    \"\"\"ClarinPL Studio dataset.\"\"\"\n",
    "\n",
    "    BUILDER_CONFIGS = [\n",
    "        ClarinPLStudioASRConfig(name=\"clean\", description=\"'Clean' speech.\"),\n",
    "    ]\n",
    "\n",
    "    def _info(self):\n",
    "        return datasets.DatasetInfo(\n",
    "            description=_DESCRIPTION,\n",
    "            features=datasets.Features(\n",
    "                {\n",
    "                    \"file\": datasets.Value(\"string\"),\n",
    "                    \"text\": datasets.Value(\"string\"),\n",
    "                    \"speaker_id\": datasets.Value(\"string\"),\n",
    "                    \"id\": datasets.Value(\"string\"),\n",
    "                }\n",
    "            ),\n",
    "            supervised_keys=(\"file\", \"text\"),\n",
    "            homepage=_URL,\n",
    "            citation=_CITATION,\n",
    "        )\n",
    "\n",
    "    def _split_generators(self, dl_manager):\n",
    "        def get_sessions(path):\n",
    "          sessions = []\n",
    "          with open(path, 'r') as f:\n",
    "            for line in f:\n",
    "              sessions.append(line.strip())\n",
    "            return sessions\n",
    "        archive_path = dl_manager.download_and_extract(_DS_URL)\n",
    "        train_sessions_path = dl_manager.download(_TRAIN_URL)\n",
    "        test_sessions_path = dl_manager.download(_TEST_URL)\n",
    "        valid_sessions_path = dl_manager.download(_VALID_URL)\n",
    "\n",
    "        train_sessions = get_sessions(train_sessions_path)\n",
    "        test_sessions = get_sessions(test_sessions_path)\n",
    "        valid_sessions = get_sessions(valid_sessions_path)\n",
    "\n",
    "        archive_path = os.path.join(archive_path, \"audio\")\n",
    "        return [\n",
    "            datasets.SplitGenerator(name=\"train\", gen_kwargs={\n",
    "                \"archive_path\": archive_path,\n",
    "                \"sessions\": train_sessions\n",
    "                }),\n",
    "            datasets.SplitGenerator(name=\"test\", gen_kwargs={\n",
    "                \"archive_path\": archive_path,\n",
    "                \"sessions\": test_sessions\n",
    "                }),\n",
    "            datasets.SplitGenerator(name=\"valid\", gen_kwargs={\n",
    "                \"archive_path\": archive_path,\n",
    "                \"sessions\": valid_sessions\n",
    "                }),\n",
    "        ]\n",
    "\n",
    "    def _generate_examples(self, archive_path, sessions):\n",
    "        \"\"\"Generate examples from a ClarinPL Studio archive_path.\"\"\"\n",
    "        def get_single_line(path):\n",
    "          lines = []\n",
    "          with open(path, 'r', encoding=\"utf-8\") as f:\n",
    "            for line in f:\n",
    "              line = line.strip()\n",
    "              lines.append(line)\n",
    "          assert(len(lines) == 1)\n",
    "          return lines[0]\n",
    "        for session in sessions:\n",
    "          session_path = os.path.join(archive_path, session)\n",
    "          speaker = get_single_line(os.path.join(session_path, \"spk.txt\"))\n",
    "          text_glob = os.path.join(session_path, \"*.txt\")\n",
    "          for text_file in sorted(glob.glob(text_glob)):\n",
    "            if text_file.endswith(\"spk.txt\"):\n",
    "              continue\n",
    "            basename = os.path.basename(text_file)\n",
    "            basename = basename.replace('.txt', '')\n",
    "            key = f'{session}_{basename}'\n",
    "            text = get_single_line(text_file)\n",
    "            audio = text_file.replace('.txt', '.wav')\n",
    "            example = {\n",
    "                \"id\": key,\n",
    "                \"speaker_id\": speaker,\n",
    "                \"file\": audio,\n",
    "                \"text\": text,\n",
    "            }\n",
    "            yield key, example"
   ]
  },
  {
   "cell_type": "code",
   "execution_count": null,
   "metadata": {
    "id": "Th6Vq9B8WLst"
   },
   "outputs": [],
   "source": [
    "!pip install datasets"
   ]
  },
  {
   "cell_type": "code",
   "execution_count": null,
   "metadata": {
    "colab": {
     "base_uri": "https://localhost:8080/",
     "height": 71,
     "referenced_widgets": [
      "bc3edc70f07f4ab9aa2f2e62682bedc2",
      "0fd9c4ee5c694bb2a0fdf0dc0773882d",
      "95681268616c49b79443280fcd6ee261",
      "34a2dd4e831549a79d1b3b3b9a96df4b",
      "50c41f2dc970480a9ba70f62dc38c5cd",
      "49074d016df84a309d243dd95e075523",
      "6141207756e4448f881648d93919276e",
      "ba7f75e0070c401785889e3573d2ffa1",
      "be260fe3881f4c9a8a4520647900d632",
      "62acdd195fd343b09fbc0e58b63fc788",
      "66069a5ceac64c31ada987e29102e036",
      "0911c9a3df154c1789830c2c1baabe35",
      "c177523ff4b14f89a7c7b83f290c26ab",
      "d6313a7a093d446c99ef935a9499a8c6",
      "645ee744cdb649f79706665be23e6e37",
      "3f93bc905fbc4a95b7635dd2088fca44",
      "bdc80b1f51b3447ebb0cfb9513429d05",
      "42c25fb05ebb49808c7f6616a160de94",
      "2f8175a5f3bb4e0da764c350e43b8906",
      "52751760ceb04a609667746d087a568e",
      "d4485e9d515e4d8bb22feb8d77728551",
      "190a24f0c1dd4031996600e55f9d9af0",
      "ed4781e7edf543f7b9d9333f22c7a293",
      "291e936badfe424e86839a8ad80c6831"
     ]
    },
    "id": "t_dgNYQnW_PT",
    "outputId": "c10db8d3-705f-4afd-8146-0c87900a6550"
   },
   "outputs": [
    {
     "name": "stdout",
     "output_type": "stream",
     "text": [
      "Downloading and preparing dataset clarin_pl_studio/clean (download: Unknown size, generated: Unknown size, post-processed: Unknown size, total: Unknown size) to /root/.cache/huggingface/datasets/clarin_pl_studio/clean/2.1.0/733df40ff099ad45628c8c755782c0abb5554817218890a3d232ed359122252c...\n"
     ]
    },
    {
     "data": {
      "application/vnd.jupyter.widget-view+json": {
       "model_id": "bc3edc70f07f4ab9aa2f2e62682bedc2",
       "version_major": 2,
       "version_minor": 0
      },
      "text/plain": [
       "HBox(children=(FloatProgress(value=1.0, bar_style='info', max=1.0), HTML(value='')))"
      ]
     },
     "metadata": {
      "tags": []
     },
     "output_type": "display_data"
    },
    {
     "data": {
      "application/vnd.jupyter.widget-view+json": {
       "model_id": "be260fe3881f4c9a8a4520647900d632",
       "version_major": 2,
       "version_minor": 0
      },
      "text/plain": [
       "HBox(children=(FloatProgress(value=1.0, bar_style='info', max=1.0), HTML(value='')))"
      ]
     },
     "metadata": {
      "tags": []
     },
     "output_type": "display_data"
    },
    {
     "data": {
      "application/vnd.jupyter.widget-view+json": {
       "model_id": "bdc80b1f51b3447ebb0cfb9513429d05",
       "version_major": 2,
       "version_minor": 0
      },
      "text/plain": [
       "HBox(children=(FloatProgress(value=1.0, bar_style='info', max=1.0), HTML(value='')))"
      ]
     },
     "metadata": {
      "tags": []
     },
     "output_type": "display_data"
    },
    {
     "name": "stdout",
     "output_type": "stream",
     "text": [
      "Dataset clarin_pl_studio downloaded and prepared to /root/.cache/huggingface/datasets/clarin_pl_studio/clean/2.1.0/733df40ff099ad45628c8c755782c0abb5554817218890a3d232ed359122252c. Subsequent calls will reuse this data.\n"
     ]
    }
   ],
   "source": [
    "from datasets import load_dataset\n",
    "dataset = load_dataset('clarinpl_studio.py')"
   ]
  },
  {
   "cell_type": "code",
   "execution_count": null,
   "metadata": {
    "colab": {
     "base_uri": "https://localhost:8080/"
    },
    "id": "PvxjPm0rHJ7L",
    "outputId": "aa80971a-0e0e-4c7b-851f-105ebab7f277"
   },
   "outputs": [
    {
     "data": {
      "text/plain": [
       "DatasetDict({\n",
       "    train: Dataset({\n",
       "        features: ['file', 'text', 'speaker_id', 'id'],\n",
       "        num_rows: 11222\n",
       "    })\n",
       "    test: Dataset({\n",
       "        features: ['file', 'text', 'speaker_id', 'id'],\n",
       "        num_rows: 1362\n",
       "    })\n",
       "    valid: Dataset({\n",
       "        features: ['file', 'text', 'speaker_id', 'id'],\n",
       "        num_rows: 1229\n",
       "    })\n",
       "})"
      ]
     },
     "execution_count": 6,
     "metadata": {
      "tags": []
     },
     "output_type": "execute_result"
    }
   ],
   "source": [
    "dataset"
   ]
  },
  {
   "cell_type": "code",
   "execution_count": null,
   "metadata": {
    "id": "84oo3OXZbyGl"
   },
   "outputs": [],
   "source": [
    "import IPython\n",
    "\n",
    "IPython.display.Audio(dataset['train']['file'][2184])\n"
   ]
  },
  {
   "cell_type": "code",
   "execution_count": null,
   "metadata": {
    "colab": {
     "base_uri": "https://localhost:8080/"
    },
    "id": "MJyvFNekckNk",
    "outputId": "eac108bd-d75a-41cd-bec3-e9e58f38e7b4"
   },
   "outputs": [
    {
     "data": {
      "text/plain": [
       "DatasetDict({\n",
       "    train: Dataset({\n",
       "        features: ['file', 'text', 'speaker_id', 'id'],\n",
       "        num_rows: 6622\n",
       "    })\n",
       "    test: Dataset({\n",
       "        features: ['file', 'text', 'speaker_id', 'id'],\n",
       "        num_rows: 130\n",
       "    })\n",
       "})"
      ]
     },
     "execution_count": 34,
     "metadata": {
      "tags": []
     },
     "output_type": "execute_result"
    }
   ],
   "source": [
    "dataset"
   ]
  },
  {
   "cell_type": "code",
   "execution_count": null,
   "metadata": {
    "colab": {
     "base_uri": "https://localhost:8080/"
    },
    "id": "t_W0axuQlvFL",
    "outputId": "f3a87c05-75ff-4668-91b9-e1b75c9a9473"
   },
   "outputs": [
    {
     "data": {
      "text/plain": [
       "{'file': '/root/.cache/huggingface/datasets/downloads/extracted/333ddc746f2df1e1d19b44986992d4cbe28710fde81d533a220e755ee6c5c519/audio/SES0001/rich001.wav',\n",
       " 'id': 'SES0001_rich001',\n",
       " 'speaker_id': 'SPK0001',\n",
       " 'text': 'drożdże dżip gwożdżenie ozimina wędzarz rdzeń wędzonka ingerować kładzenie jutrzenka'}"
      ]
     },
     "execution_count": 14,
     "metadata": {
      "tags": []
     },
     "output_type": "execute_result"
    }
   ],
   "source": [
    "dataset['train'][0]"
   ]
  },
  {
   "cell_type": "code",
   "execution_count": null,
   "metadata": {
    "colab": {
     "base_uri": "https://localhost:8080/"
    },
    "id": "iYyjs2x0cnI9",
    "outputId": "f5eed6d1-c097-4259-9622-57a84a7de86c"
   },
   "outputs": [
    {
     "name": "stdout",
     "output_type": "stream",
     "text": [
      "    130 /root/.cache/huggingface/datasets/downloads/extracted/4143b1d75559b10028c1c7e8800c9ccc05934ca5a8ea15f8f9a92770576a1ee3/SejmSenat/test/text\n",
      "   6622 /root/.cache/huggingface/datasets/downloads/extracted/4143b1d75559b10028c1c7e8800c9ccc05934ca5a8ea15f8f9a92770576a1ee3/SejmSenat/train/text\n",
      "   6752 total\n"
     ]
    }
   ],
   "source": [
    "!wc -l /root/.cache/huggingface/datasets/downloads/extracted/4143b1d75559b10028c1c7e8800c9ccc05934ca5a8ea15f8f9a92770576a1ee3/SejmSenat/*/text\n"
   ]
  },
  {
   "cell_type": "code",
   "execution_count": null,
   "metadata": {
    "colab": {
     "base_uri": "https://localhost:8080/"
    },
    "id": "cqCOuEJXc348",
    "outputId": "e56fae5f-a015-44d3-93eb-19109a9d5469"
   },
   "outputs": [
    {
     "name": "stdout",
     "output_type": "stream",
     "text": [
      "   6752    6752 1159384\n"
     ]
    }
   ],
   "source": [
    "!find /root/.cache/huggingface/datasets/downloads/extracted/4143b1d75559b10028c1c7e8800c9ccc05934ca5a8ea15f8f9a92770576a1ee3/SejmSenat/audio/ -type f|wc"
   ]
  },
  {
   "cell_type": "code",
   "execution_count": null,
   "metadata": {
    "id": "_oX1CZUKWS_8"
   },
   "outputs": [],
   "source": [
    "!rm -rf SejmSenat/"
   ]
  }
 ],
 "metadata": {
  "colab": {
   "collapsed_sections": [],
   "name": "Untitled16.ipynb",
   "provenance": []
  },
  "kernelspec": {
   "display_name": "Python 3 (ipykernel)",
   "language": "python",
   "name": "python3"
  },
  "language_info": {
   "codemirror_mode": {
    "name": "ipython",
    "version": 3
   },
   "file_extension": ".py",
   "mimetype": "text/x-python",
   "name": "python",
   "nbconvert_exporter": "python",
   "pygments_lexer": "ipython3",
   "version": "3.8.12"
  },
  "widgets": {
   "application/vnd.jupyter.widget-state+json": {
    "0911c9a3df154c1789830c2c1baabe35": {
     "model_module": "@jupyter-widgets/controls",
     "model_name": "HTMLModel",
     "state": {
      "_dom_classes": [],
      "_model_module": "@jupyter-widgets/controls",
      "_model_module_version": "1.5.0",
      "_model_name": "HTMLModel",
      "_view_count": null,
      "_view_module": "@jupyter-widgets/controls",
      "_view_module_version": "1.5.0",
      "_view_name": "HTMLView",
      "description": "",
      "description_tooltip": null,
      "layout": "IPY_MODEL_3f93bc905fbc4a95b7635dd2088fca44",
      "placeholder": "​",
      "style": "IPY_MODEL_645ee744cdb649f79706665be23e6e37",
      "value": " 1362/0 [00:00&lt;00:00, 1630.43 examples/s]"
     }
    },
    "0fd9c4ee5c694bb2a0fdf0dc0773882d": {
     "model_module": "@jupyter-widgets/base",
     "model_name": "LayoutModel",
     "state": {
      "_model_module": "@jupyter-widgets/base",
      "_model_module_version": "1.2.0",
      "_model_name": "LayoutModel",
      "_view_count": null,
      "_view_module": "@jupyter-widgets/base",
      "_view_module_version": "1.2.0",
      "_view_name": "LayoutView",
      "align_content": null,
      "align_items": null,
      "align_self": null,
      "border": null,
      "bottom": null,
      "display": null,
      "flex": null,
      "flex_flow": null,
      "grid_area": null,
      "grid_auto_columns": null,
      "grid_auto_flow": null,
      "grid_auto_rows": null,
      "grid_column": null,
      "grid_gap": null,
      "grid_row": null,
      "grid_template_areas": null,
      "grid_template_columns": null,
      "grid_template_rows": null,
      "height": null,
      "justify_content": null,
      "justify_items": null,
      "left": null,
      "margin": null,
      "max_height": null,
      "max_width": null,
      "min_height": null,
      "min_width": null,
      "object_fit": null,
      "object_position": null,
      "order": null,
      "overflow": null,
      "overflow_x": null,
      "overflow_y": null,
      "padding": null,
      "right": null,
      "top": null,
      "visibility": null,
      "width": null
     }
    },
    "190a24f0c1dd4031996600e55f9d9af0": {
     "model_module": "@jupyter-widgets/base",
     "model_name": "LayoutModel",
     "state": {
      "_model_module": "@jupyter-widgets/base",
      "_model_module_version": "1.2.0",
      "_model_name": "LayoutModel",
      "_view_count": null,
      "_view_module": "@jupyter-widgets/base",
      "_view_module_version": "1.2.0",
      "_view_name": "LayoutView",
      "align_content": null,
      "align_items": null,
      "align_self": null,
      "border": null,
      "bottom": null,
      "display": null,
      "flex": null,
      "flex_flow": null,
      "grid_area": null,
      "grid_auto_columns": null,
      "grid_auto_flow": null,
      "grid_auto_rows": null,
      "grid_column": null,
      "grid_gap": null,
      "grid_row": null,
      "grid_template_areas": null,
      "grid_template_columns": null,
      "grid_template_rows": null,
      "height": null,
      "justify_content": null,
      "justify_items": null,
      "left": null,
      "margin": null,
      "max_height": null,
      "max_width": null,
      "min_height": null,
      "min_width": null,
      "object_fit": null,
      "object_position": null,
      "order": null,
      "overflow": null,
      "overflow_x": null,
      "overflow_y": null,
      "padding": null,
      "right": null,
      "top": null,
      "visibility": null,
      "width": null
     }
    },
    "291e936badfe424e86839a8ad80c6831": {
     "model_module": "@jupyter-widgets/base",
     "model_name": "LayoutModel",
     "state": {
      "_model_module": "@jupyter-widgets/base",
      "_model_module_version": "1.2.0",
      "_model_name": "LayoutModel",
      "_view_count": null,
      "_view_module": "@jupyter-widgets/base",
      "_view_module_version": "1.2.0",
      "_view_name": "LayoutView",
      "align_content": null,
      "align_items": null,
      "align_self": null,
      "border": null,
      "bottom": null,
      "display": null,
      "flex": null,
      "flex_flow": null,
      "grid_area": null,
      "grid_auto_columns": null,
      "grid_auto_flow": null,
      "grid_auto_rows": null,
      "grid_column": null,
      "grid_gap": null,
      "grid_row": null,
      "grid_template_areas": null,
      "grid_template_columns": null,
      "grid_template_rows": null,
      "height": null,
      "justify_content": null,
      "justify_items": null,
      "left": null,
      "margin": null,
      "max_height": null,
      "max_width": null,
      "min_height": null,
      "min_width": null,
      "object_fit": null,
      "object_position": null,
      "order": null,
      "overflow": null,
      "overflow_x": null,
      "overflow_y": null,
      "padding": null,
      "right": null,
      "top": null,
      "visibility": null,
      "width": null
     }
    },
    "2f8175a5f3bb4e0da764c350e43b8906": {
     "model_module": "@jupyter-widgets/controls",
     "model_name": "FloatProgressModel",
     "state": {
      "_dom_classes": [],
      "_model_module": "@jupyter-widgets/controls",
      "_model_module_version": "1.5.0",
      "_model_name": "FloatProgressModel",
      "_view_count": null,
      "_view_module": "@jupyter-widgets/controls",
      "_view_module_version": "1.5.0",
      "_view_name": "ProgressView",
      "bar_style": "info",
      "description": "",
      "description_tooltip": null,
      "layout": "IPY_MODEL_190a24f0c1dd4031996600e55f9d9af0",
      "max": 1,
      "min": 0,
      "orientation": "horizontal",
      "style": "IPY_MODEL_d4485e9d515e4d8bb22feb8d77728551",
      "value": 1
     }
    },
    "34a2dd4e831549a79d1b3b3b9a96df4b": {
     "model_module": "@jupyter-widgets/controls",
     "model_name": "HTMLModel",
     "state": {
      "_dom_classes": [],
      "_model_module": "@jupyter-widgets/controls",
      "_model_module_version": "1.5.0",
      "_model_name": "HTMLModel",
      "_view_count": null,
      "_view_module": "@jupyter-widgets/controls",
      "_view_module_version": "1.5.0",
      "_view_name": "HTMLView",
      "description": "",
      "description_tooltip": null,
      "layout": "IPY_MODEL_ba7f75e0070c401785889e3573d2ffa1",
      "placeholder": "​",
      "style": "IPY_MODEL_6141207756e4448f881648d93919276e",
      "value": " 11222/0 [00:15&lt;00:00, 2200.58 examples/s]"
     }
    },
    "3f93bc905fbc4a95b7635dd2088fca44": {
     "model_module": "@jupyter-widgets/base",
     "model_name": "LayoutModel",
     "state": {
      "_model_module": "@jupyter-widgets/base",
      "_model_module_version": "1.2.0",
      "_model_name": "LayoutModel",
      "_view_count": null,
      "_view_module": "@jupyter-widgets/base",
      "_view_module_version": "1.2.0",
      "_view_name": "LayoutView",
      "align_content": null,
      "align_items": null,
      "align_self": null,
      "border": null,
      "bottom": null,
      "display": null,
      "flex": null,
      "flex_flow": null,
      "grid_area": null,
      "grid_auto_columns": null,
      "grid_auto_flow": null,
      "grid_auto_rows": null,
      "grid_column": null,
      "grid_gap": null,
      "grid_row": null,
      "grid_template_areas": null,
      "grid_template_columns": null,
      "grid_template_rows": null,
      "height": null,
      "justify_content": null,
      "justify_items": null,
      "left": null,
      "margin": null,
      "max_height": null,
      "max_width": null,
      "min_height": null,
      "min_width": null,
      "object_fit": null,
      "object_position": null,
      "order": null,
      "overflow": null,
      "overflow_x": null,
      "overflow_y": null,
      "padding": null,
      "right": null,
      "top": null,
      "visibility": null,
      "width": null
     }
    },
    "42c25fb05ebb49808c7f6616a160de94": {
     "model_module": "@jupyter-widgets/base",
     "model_name": "LayoutModel",
     "state": {
      "_model_module": "@jupyter-widgets/base",
      "_model_module_version": "1.2.0",
      "_model_name": "LayoutModel",
      "_view_count": null,
      "_view_module": "@jupyter-widgets/base",
      "_view_module_version": "1.2.0",
      "_view_name": "LayoutView",
      "align_content": null,
      "align_items": null,
      "align_self": null,
      "border": null,
      "bottom": null,
      "display": null,
      "flex": null,
      "flex_flow": null,
      "grid_area": null,
      "grid_auto_columns": null,
      "grid_auto_flow": null,
      "grid_auto_rows": null,
      "grid_column": null,
      "grid_gap": null,
      "grid_row": null,
      "grid_template_areas": null,
      "grid_template_columns": null,
      "grid_template_rows": null,
      "height": null,
      "justify_content": null,
      "justify_items": null,
      "left": null,
      "margin": null,
      "max_height": null,
      "max_width": null,
      "min_height": null,
      "min_width": null,
      "object_fit": null,
      "object_position": null,
      "order": null,
      "overflow": null,
      "overflow_x": null,
      "overflow_y": null,
      "padding": null,
      "right": null,
      "top": null,
      "visibility": null,
      "width": null
     }
    },
    "49074d016df84a309d243dd95e075523": {
     "model_module": "@jupyter-widgets/base",
     "model_name": "LayoutModel",
     "state": {
      "_model_module": "@jupyter-widgets/base",
      "_model_module_version": "1.2.0",
      "_model_name": "LayoutModel",
      "_view_count": null,
      "_view_module": "@jupyter-widgets/base",
      "_view_module_version": "1.2.0",
      "_view_name": "LayoutView",
      "align_content": null,
      "align_items": null,
      "align_self": null,
      "border": null,
      "bottom": null,
      "display": null,
      "flex": null,
      "flex_flow": null,
      "grid_area": null,
      "grid_auto_columns": null,
      "grid_auto_flow": null,
      "grid_auto_rows": null,
      "grid_column": null,
      "grid_gap": null,
      "grid_row": null,
      "grid_template_areas": null,
      "grid_template_columns": null,
      "grid_template_rows": null,
      "height": null,
      "justify_content": null,
      "justify_items": null,
      "left": null,
      "margin": null,
      "max_height": null,
      "max_width": null,
      "min_height": null,
      "min_width": null,
      "object_fit": null,
      "object_position": null,
      "order": null,
      "overflow": null,
      "overflow_x": null,
      "overflow_y": null,
      "padding": null,
      "right": null,
      "top": null,
      "visibility": null,
      "width": null
     }
    },
    "50c41f2dc970480a9ba70f62dc38c5cd": {
     "model_module": "@jupyter-widgets/controls",
     "model_name": "ProgressStyleModel",
     "state": {
      "_model_module": "@jupyter-widgets/controls",
      "_model_module_version": "1.5.0",
      "_model_name": "ProgressStyleModel",
      "_view_count": null,
      "_view_module": "@jupyter-widgets/base",
      "_view_module_version": "1.2.0",
      "_view_name": "StyleView",
      "bar_color": null,
      "description_width": "initial"
     }
    },
    "52751760ceb04a609667746d087a568e": {
     "model_module": "@jupyter-widgets/controls",
     "model_name": "HTMLModel",
     "state": {
      "_dom_classes": [],
      "_model_module": "@jupyter-widgets/controls",
      "_model_module_version": "1.5.0",
      "_model_name": "HTMLModel",
      "_view_count": null,
      "_view_module": "@jupyter-widgets/controls",
      "_view_module_version": "1.5.0",
      "_view_name": "HTMLView",
      "description": "",
      "description_tooltip": null,
      "layout": "IPY_MODEL_291e936badfe424e86839a8ad80c6831",
      "placeholder": "​",
      "style": "IPY_MODEL_ed4781e7edf543f7b9d9333f22c7a293",
      "value": " 1229/0 [00:00&lt;00:00, 1963.17 examples/s]"
     }
    },
    "6141207756e4448f881648d93919276e": {
     "model_module": "@jupyter-widgets/controls",
     "model_name": "DescriptionStyleModel",
     "state": {
      "_model_module": "@jupyter-widgets/controls",
      "_model_module_version": "1.5.0",
      "_model_name": "DescriptionStyleModel",
      "_view_count": null,
      "_view_module": "@jupyter-widgets/base",
      "_view_module_version": "1.2.0",
      "_view_name": "StyleView",
      "description_width": ""
     }
    },
    "62acdd195fd343b09fbc0e58b63fc788": {
     "model_module": "@jupyter-widgets/base",
     "model_name": "LayoutModel",
     "state": {
      "_model_module": "@jupyter-widgets/base",
      "_model_module_version": "1.2.0",
      "_model_name": "LayoutModel",
      "_view_count": null,
      "_view_module": "@jupyter-widgets/base",
      "_view_module_version": "1.2.0",
      "_view_name": "LayoutView",
      "align_content": null,
      "align_items": null,
      "align_self": null,
      "border": null,
      "bottom": null,
      "display": null,
      "flex": null,
      "flex_flow": null,
      "grid_area": null,
      "grid_auto_columns": null,
      "grid_auto_flow": null,
      "grid_auto_rows": null,
      "grid_column": null,
      "grid_gap": null,
      "grid_row": null,
      "grid_template_areas": null,
      "grid_template_columns": null,
      "grid_template_rows": null,
      "height": null,
      "justify_content": null,
      "justify_items": null,
      "left": null,
      "margin": null,
      "max_height": null,
      "max_width": null,
      "min_height": null,
      "min_width": null,
      "object_fit": null,
      "object_position": null,
      "order": null,
      "overflow": null,
      "overflow_x": null,
      "overflow_y": null,
      "padding": null,
      "right": null,
      "top": null,
      "visibility": null,
      "width": null
     }
    },
    "645ee744cdb649f79706665be23e6e37": {
     "model_module": "@jupyter-widgets/controls",
     "model_name": "DescriptionStyleModel",
     "state": {
      "_model_module": "@jupyter-widgets/controls",
      "_model_module_version": "1.5.0",
      "_model_name": "DescriptionStyleModel",
      "_view_count": null,
      "_view_module": "@jupyter-widgets/base",
      "_view_module_version": "1.2.0",
      "_view_name": "StyleView",
      "description_width": ""
     }
    },
    "66069a5ceac64c31ada987e29102e036": {
     "model_module": "@jupyter-widgets/controls",
     "model_name": "FloatProgressModel",
     "state": {
      "_dom_classes": [],
      "_model_module": "@jupyter-widgets/controls",
      "_model_module_version": "1.5.0",
      "_model_name": "FloatProgressModel",
      "_view_count": null,
      "_view_module": "@jupyter-widgets/controls",
      "_view_module_version": "1.5.0",
      "_view_name": "ProgressView",
      "bar_style": "info",
      "description": "",
      "description_tooltip": null,
      "layout": "IPY_MODEL_d6313a7a093d446c99ef935a9499a8c6",
      "max": 1,
      "min": 0,
      "orientation": "horizontal",
      "style": "IPY_MODEL_c177523ff4b14f89a7c7b83f290c26ab",
      "value": 1
     }
    },
    "95681268616c49b79443280fcd6ee261": {
     "model_module": "@jupyter-widgets/controls",
     "model_name": "FloatProgressModel",
     "state": {
      "_dom_classes": [],
      "_model_module": "@jupyter-widgets/controls",
      "_model_module_version": "1.5.0",
      "_model_name": "FloatProgressModel",
      "_view_count": null,
      "_view_module": "@jupyter-widgets/controls",
      "_view_module_version": "1.5.0",
      "_view_name": "ProgressView",
      "bar_style": "info",
      "description": "",
      "description_tooltip": null,
      "layout": "IPY_MODEL_49074d016df84a309d243dd95e075523",
      "max": 1,
      "min": 0,
      "orientation": "horizontal",
      "style": "IPY_MODEL_50c41f2dc970480a9ba70f62dc38c5cd",
      "value": 1
     }
    },
    "ba7f75e0070c401785889e3573d2ffa1": {
     "model_module": "@jupyter-widgets/base",
     "model_name": "LayoutModel",
     "state": {
      "_model_module": "@jupyter-widgets/base",
      "_model_module_version": "1.2.0",
      "_model_name": "LayoutModel",
      "_view_count": null,
      "_view_module": "@jupyter-widgets/base",
      "_view_module_version": "1.2.0",
      "_view_name": "LayoutView",
      "align_content": null,
      "align_items": null,
      "align_self": null,
      "border": null,
      "bottom": null,
      "display": null,
      "flex": null,
      "flex_flow": null,
      "grid_area": null,
      "grid_auto_columns": null,
      "grid_auto_flow": null,
      "grid_auto_rows": null,
      "grid_column": null,
      "grid_gap": null,
      "grid_row": null,
      "grid_template_areas": null,
      "grid_template_columns": null,
      "grid_template_rows": null,
      "height": null,
      "justify_content": null,
      "justify_items": null,
      "left": null,
      "margin": null,
      "max_height": null,
      "max_width": null,
      "min_height": null,
      "min_width": null,
      "object_fit": null,
      "object_position": null,
      "order": null,
      "overflow": null,
      "overflow_x": null,
      "overflow_y": null,
      "padding": null,
      "right": null,
      "top": null,
      "visibility": null,
      "width": null
     }
    },
    "bc3edc70f07f4ab9aa2f2e62682bedc2": {
     "model_module": "@jupyter-widgets/controls",
     "model_name": "HBoxModel",
     "state": {
      "_dom_classes": [],
      "_model_module": "@jupyter-widgets/controls",
      "_model_module_version": "1.5.0",
      "_model_name": "HBoxModel",
      "_view_count": null,
      "_view_module": "@jupyter-widgets/controls",
      "_view_module_version": "1.5.0",
      "_view_name": "HBoxView",
      "box_style": "",
      "children": [
       "IPY_MODEL_95681268616c49b79443280fcd6ee261",
       "IPY_MODEL_34a2dd4e831549a79d1b3b3b9a96df4b"
      ],
      "layout": "IPY_MODEL_0fd9c4ee5c694bb2a0fdf0dc0773882d"
     }
    },
    "bdc80b1f51b3447ebb0cfb9513429d05": {
     "model_module": "@jupyter-widgets/controls",
     "model_name": "HBoxModel",
     "state": {
      "_dom_classes": [],
      "_model_module": "@jupyter-widgets/controls",
      "_model_module_version": "1.5.0",
      "_model_name": "HBoxModel",
      "_view_count": null,
      "_view_module": "@jupyter-widgets/controls",
      "_view_module_version": "1.5.0",
      "_view_name": "HBoxView",
      "box_style": "",
      "children": [
       "IPY_MODEL_2f8175a5f3bb4e0da764c350e43b8906",
       "IPY_MODEL_52751760ceb04a609667746d087a568e"
      ],
      "layout": "IPY_MODEL_42c25fb05ebb49808c7f6616a160de94"
     }
    },
    "be260fe3881f4c9a8a4520647900d632": {
     "model_module": "@jupyter-widgets/controls",
     "model_name": "HBoxModel",
     "state": {
      "_dom_classes": [],
      "_model_module": "@jupyter-widgets/controls",
      "_model_module_version": "1.5.0",
      "_model_name": "HBoxModel",
      "_view_count": null,
      "_view_module": "@jupyter-widgets/controls",
      "_view_module_version": "1.5.0",
      "_view_name": "HBoxView",
      "box_style": "",
      "children": [
       "IPY_MODEL_66069a5ceac64c31ada987e29102e036",
       "IPY_MODEL_0911c9a3df154c1789830c2c1baabe35"
      ],
      "layout": "IPY_MODEL_62acdd195fd343b09fbc0e58b63fc788"
     }
    },
    "c177523ff4b14f89a7c7b83f290c26ab": {
     "model_module": "@jupyter-widgets/controls",
     "model_name": "ProgressStyleModel",
     "state": {
      "_model_module": "@jupyter-widgets/controls",
      "_model_module_version": "1.5.0",
      "_model_name": "ProgressStyleModel",
      "_view_count": null,
      "_view_module": "@jupyter-widgets/base",
      "_view_module_version": "1.2.0",
      "_view_name": "StyleView",
      "bar_color": null,
      "description_width": "initial"
     }
    },
    "d4485e9d515e4d8bb22feb8d77728551": {
     "model_module": "@jupyter-widgets/controls",
     "model_name": "ProgressStyleModel",
     "state": {
      "_model_module": "@jupyter-widgets/controls",
      "_model_module_version": "1.5.0",
      "_model_name": "ProgressStyleModel",
      "_view_count": null,
      "_view_module": "@jupyter-widgets/base",
      "_view_module_version": "1.2.0",
      "_view_name": "StyleView",
      "bar_color": null,
      "description_width": "initial"
     }
    },
    "d6313a7a093d446c99ef935a9499a8c6": {
     "model_module": "@jupyter-widgets/base",
     "model_name": "LayoutModel",
     "state": {
      "_model_module": "@jupyter-widgets/base",
      "_model_module_version": "1.2.0",
      "_model_name": "LayoutModel",
      "_view_count": null,
      "_view_module": "@jupyter-widgets/base",
      "_view_module_version": "1.2.0",
      "_view_name": "LayoutView",
      "align_content": null,
      "align_items": null,
      "align_self": null,
      "border": null,
      "bottom": null,
      "display": null,
      "flex": null,
      "flex_flow": null,
      "grid_area": null,
      "grid_auto_columns": null,
      "grid_auto_flow": null,
      "grid_auto_rows": null,
      "grid_column": null,
      "grid_gap": null,
      "grid_row": null,
      "grid_template_areas": null,
      "grid_template_columns": null,
      "grid_template_rows": null,
      "height": null,
      "justify_content": null,
      "justify_items": null,
      "left": null,
      "margin": null,
      "max_height": null,
      "max_width": null,
      "min_height": null,
      "min_width": null,
      "object_fit": null,
      "object_position": null,
      "order": null,
      "overflow": null,
      "overflow_x": null,
      "overflow_y": null,
      "padding": null,
      "right": null,
      "top": null,
      "visibility": null,
      "width": null
     }
    },
    "ed4781e7edf543f7b9d9333f22c7a293": {
     "model_module": "@jupyter-widgets/controls",
     "model_name": "DescriptionStyleModel",
     "state": {
      "_model_module": "@jupyter-widgets/controls",
      "_model_module_version": "1.5.0",
      "_model_name": "DescriptionStyleModel",
      "_view_count": null,
      "_view_module": "@jupyter-widgets/base",
      "_view_module_version": "1.2.0",
      "_view_name": "StyleView",
      "description_width": ""
     }
    }
   }
  }
 },
 "nbformat": 4,
 "nbformat_minor": 4
}
