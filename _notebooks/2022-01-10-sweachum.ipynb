{
 "cells": [
  {
   "cell_type": "markdown",
   "metadata": {},
   "source": [
    "# Sweachum reader\n",
    "\n",
    "> \"Incomplete corpus reader\"\n",
    "\n",
    "- toc: false\n",
    "- branch: master\n",
    "- badges: false\n",
    "- categories: [sweachum, corpus]"
   ]
  },
  {
   "cell_type": "code",
   "execution_count": 4,
   "metadata": {},
   "outputs": [],
   "source": [
    "SAMPLE = \"\"\"\n",
    "<corpus id=\"sweachum\">\n",
    "<text datefrom=\"20120101\" dateto=\"20121231\" timefrom=\"000000\" timeto=\"235959\" lix=\"55.44\" ovix=\"65.03\" nk=\"2.01\" subject=\"Filosofi\" type=\"PhD\" date=\"2012\">\n",
    "<sentence id=\"b60ceaf85-b604d04ed\" _geocontext=\"|\">\n",
    "<ne ex=\"ENAMEX\" type=\"PRS\" subtype=\"HUM\" name=\"Marton\">\n",
    "<w pos=\"PM\" msd=\"PM.NOM\" lemma=\"|\" lex=\"|\" sense=\"|\" prefix=\"|\" suffix=\"|\" compwf=\"|\" complemgram=\"|\" ref=\"01\" deprel=\"ROOT\">Marton</w>\n",
    "</ne>\n",
    "<w pos=\"MID\" msd=\"MID\" lemma=\"|\" lex=\"|\" sense=\"|\" prefix=\"|\" suffix=\"|\" compwf=\"|\" complemgram=\"|\" ref=\"02\" dephead=\"01\" deprel=\"IK\">,</w>\n",
    "<w pos=\"PM\" msd=\"PM.NOM\" lemma=\"|\" lex=\"|\" sense=\"|\" prefix=\"|\" suffix=\"|\" compwf=\"|\" complemgram=\"|\" ref=\"03\" dephead=\"01\" deprel=\"ET\">F.</w>\n",
    "<w pos=\"KN\" msd=\"KN.AN\" lemma=\"|&amp;|\" lex=\"|o..kna.2|\" sense=\"|och..1:-1.000|\" prefix=\"|\" suffix=\"|\" compwf=\"|\" complemgram=\"|\" ref=\"04\" dephead=\"03\" deprel=\"HD\">&amp;</w>\n",
    "<w pos=\"NN\" msd=\"NN.UTR.SIN.IND.NOM\" lemma=\"|\" lex=\"|\" sense=\"|\" prefix=\"|\" suffix=\"|\" compwf=\"|\" complemgram=\"|\" ref=\"05\" dephead=\"03\" deprel=\"HD\">amp</w>\n",
    "<w pos=\"MID\" msd=\"MID\" lemma=\"|\" lex=\"|\" sense=\"|\" prefix=\"|\" suffix=\"|\" compwf=\"|\" complemgram=\"|\" ref=\"06\" dephead=\"01\" deprel=\"IS\">;</w>\n",
    "<w pos=\"PM\" msd=\"PM.NOM\" lemma=\"|\" lex=\"|\" sense=\"|\" prefix=\"|\" suffix=\"|\" compwf=\"|\" complemgram=\"|\" ref=\"07\" dephead=\"01\" deprel=\"AN\">Booth</w>\n",
    "<w pos=\"MID\" msd=\"MID\" lemma=\"|\" lex=\"|\" sense=\"|\" prefix=\"|\" suffix=\"|\" compwf=\"|\" complemgram=\"|\" ref=\"08\" dephead=\"07\" deprel=\"IK\">,</w>\n",
    "<w pos=\"PM\" msd=\"PM.NOM\" lemma=\"|\" lex=\"|\" sense=\"|\" prefix=\"|\" suffix=\"|\" compwf=\"|\" complemgram=\"|\" ref=\"09\" dephead=\"07\" deprel=\"ET\">S</w>\n",
    "<w pos=\"MAD\" msd=\"MAD\" lemma=\"|\" lex=\"|\" sense=\"|\" prefix=\"|\" suffix=\"|\" compwf=\"|\" complemgram=\"|\" ref=\"10\" dephead=\"01\" deprel=\"IP\">.</w>\n",
    "</sentence>\n",
    "</text>\n",
    "</corpus>\n",
    "\"\"\""
   ]
  },
  {
   "cell_type": "markdown",
   "metadata": {},
   "source": [
    "Corpus is [here](https://spraakbanken.gu.se/en/resources/sweachum), CC BY 4.0"
   ]
  },
  {
   "cell_type": "code",
   "execution_count": 2,
   "metadata": {},
   "outputs": [],
   "source": [
    "import xml.etree.ElementTree as ET\n",
    "import xml.sax.saxutils as saxutils\n",
    "import io"
   ]
  },
  {
   "cell_type": "code",
   "execution_count": 25,
   "metadata": {},
   "outputs": [],
   "source": [
    "source = io.StringIO(SAMPLE)\n",
    "tree = ET.parse(source)\n",
    "root = tree.getroot()"
   ]
  },
  {
   "cell_type": "code",
   "execution_count": 29,
   "metadata": {},
   "outputs": [],
   "source": [
    "words = []\n",
    "for word in root.findall('.//w'):\n",
    "    words.append(word.text.strip())"
   ]
  },
  {
   "cell_type": "code",
   "execution_count": 30,
   "metadata": {},
   "outputs": [
    {
     "data": {
      "text/plain": [
       "['Marton', ',', 'F.', '&', 'amp', ';', 'Booth', ',', 'S', '.']"
      ]
     },
     "execution_count": 30,
     "metadata": {},
     "output_type": "execute_result"
    }
   ],
   "source": [
    "words"
   ]
  },
  {
   "cell_type": "code",
   "execution_count": 50,
   "metadata": {},
   "outputs": [],
   "source": [
    "def _clean_amps(inlist):\n",
    "    htmlamp = ['&', 'amp', ';']\n",
    "    outlist = []\n",
    "    i = 0\n",
    "    while i < len(inlist):\n",
    "        if inlist[i:i+3] == htmlamp:\n",
    "            outlist.append('&')\n",
    "            i += 3\n",
    "            continue\n",
    "        else:\n",
    "            outlist.append(inlist[i])\n",
    "            i += 1\n",
    "    return outlist"
   ]
  },
  {
   "cell_type": "code",
   "execution_count": 51,
   "metadata": {},
   "outputs": [
    {
     "data": {
      "text/plain": [
       "['Marton', ',', 'F.', '&', 'Booth', ',', 'S', '.']"
      ]
     },
     "execution_count": 51,
     "metadata": {},
     "output_type": "execute_result"
    }
   ],
   "source": [
    "_clean_amps(words)"
   ]
  },
  {
   "cell_type": "code",
   "execution_count": null,
   "metadata": {},
   "outputs": [],
   "source": [
    "def _get_or_blank(text):\n",
    "    if text == \"|\":\n",
    "        return \"\"\n",
    "    if text[0:1] == \"|\" and text[-1:] == \"|\":\n",
    "        text = text[1:-1]\n",
    "    return text\n",
    "\n",
    "class Word():\n",
    "    def __init__(self, text, pos, msd, lemma, lex, sense, prefix, suffix, compwf, complemgram, ref, dephead, deprel):\n",
    "        self.text = text\n",
    "        self.pos = _get_or_blank(pos)\n",
    "        self.msd = _get_or_blank(msd)\n",
    "        self.lex = _get_or_blank(lex)\n",
    "        "
   ]
  }
 ],
 "metadata": {
  "interpreter": {
   "hash": "cae5645f935b2ae360a214f645a431539c059e628a64b3468a834068ba82435f"
  },
  "kernelspec": {
   "display_name": "Python 3 (ipykernel)",
   "language": "python",
   "name": "python3"
  },
  "language_info": {
   "codemirror_mode": {
    "name": "ipython",
    "version": 3
   },
   "file_extension": ".py",
   "mimetype": "text/x-python",
   "name": "python",
   "nbconvert_exporter": "python",
   "pygments_lexer": "ipython3",
   "version": "3.9.10"
  }
 },
 "nbformat": 4,
 "nbformat_minor": 4
}
