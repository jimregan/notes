{
 "cells": [
  {
   "cell_type": "code",
   "execution_count": null,
   "id": "f6eaa3e6",
   "metadata": {},
   "outputs": [],
   "source": [
    "url = 'https://multidict.net/wordlink/wordlink.php?sid=4366748'"
   ]
  },
  {
   "cell_type": "code",
   "execution_count": null,
   "id": "42f8b9bf",
   "metadata": {},
   "outputs": [],
   "source": [
    "import requests\n",
    "from bs4 import BeautifulSoup\n",
    "\n",
    "def scrapepage(pageid):\n",
    "    page = requests.get(f'https://multidict.net/clilstore/page.php?id={pageid}')\n",
    "    soup = BeautifulSoup(page.text, 'html.parser')\n",
    "    body = soup.find('body')\n",
    "    bodytext = body.find('div', {'class': 'body-indent'})\n",
    "    text = [tmp.text for tmp in bodytext.findAll('p')]\n",
    "    iframe = bodytext.findAll('iframe')\n",
    "    return iframe[0]['src'], text"
   ]
  },
  {
   "cell_type": "code",
   "execution_count": null,
   "id": "ba75e85c",
   "metadata": {},
   "outputs": [],
   "source": [
    "def getpageid(page):\n",
    "    if page.startswith('https://multidict.net/cs/'):\n",
    "        return page[25:]"
   ]
  },
  {
   "cell_type": "code",
   "execution_count": null,
   "id": "bdd6d1da",
   "metadata": {},
   "outputs": [],
   "source": [
    "getpageid('https://multidict.net/cs/8839')"
   ]
  },
  {
   "cell_type": "code",
   "execution_count": null,
   "id": "dbbe5997",
   "metadata": {},
   "outputs": [],
   "source": [
    "text"
   ]
  },
  {
   "cell_type": "code",
   "execution_count": null,
   "id": "e308c308",
   "metadata": {},
   "outputs": [],
   "source": [
    "print(scrapepage('4366748'))"
   ]
  },
  {
   "cell_type": "code",
   "execution_count": null,
   "id": "68104b7d",
   "metadata": {},
   "outputs": [],
   "source": [
    "print(scrapepage('4366777'))"
   ]
  },
  {
   "cell_type": "code",
   "execution_count": null,
   "id": "6635b664",
   "metadata": {},
   "outputs": [],
   "source": [
    "print(scrapepage('4366779'))"
   ]
  },
  {
   "cell_type": "code",
   "execution_count": null,
   "id": "e852b511",
   "metadata": {},
   "outputs": [],
   "source": [
    "# change to page.php?id=\n",
    "print(scrapepage('8839'))"
   ]
  },
  {
   "cell_type": "code",
   "execution_count": null,
   "id": "8754a84f",
   "metadata": {},
   "outputs": [],
   "source": [
    "https://multidict.net/clilstore/\n",
    "fetch(\"https://multidict.net/clilstore/\", {\n",
    "  \"headers\": {\n",
    "    \"accept\": \"text/html,application/xhtml+xml,application/xml;q=0.9,image/avif,image/webp,image/apng,*/*;q=0.8,application/signed-exchange;v=b3;q=0.9\",\n",
    "    \"accept-language\": \"en-US,en;q=0.9,pl;q=0.8,ga;q=0.7,en-GB;q=0.6\",\n",
    "    \"cache-control\": \"max-age=0\",\n",
    "    \"sec-ch-ua\": \"\\\" Not A;Brand\\\";v=\\\"99\\\", \\\"Chromium\\\";v=\\\"90\\\", \\\"Google Chrome\\\";v=\\\"90\\\"\",\n",
    "    \"sec-ch-ua-mobile\": \"?0\",\n",
    "    \"sec-fetch-dest\": \"document\",\n",
    "    \"sec-fetch-mode\": \"navigate\",\n",
    "    \"sec-fetch-site\": \"same-origin\",\n",
    "    \"sec-fetch-user\": \"?1\",\n",
    "    \"upgrade-insecure-requests\": \"1\",\n",
    "    \"cookie\": \"csSessionId=1687171; Thl=en; __utmc=265280531; __utmz=265280531.1622541895.1.1.utmcsr=(direct)|utmccn=(direct)|utmcmd=(none); wlUser=5591648; __utma=265280531.1584708636.1622541895.1622666563.1622668642.3; __utmb=265280531.8.9.1622670817298\"\n",
    "  },\n",
    "  \"referrer\": \"https://multidict.net/clilstore/\",\n",
    "  \"referrerPolicy\": \"strict-origin-when-cross-origin\",\n",
    "  \"body\": null,\n",
    "  \"method\": \"GET\",\n",
    "  \"mode\": \"cors\"\n",
    "});"
   ]
  },
  {
   "cell_type": "code",
   "execution_count": null,
   "id": "0f11b33e",
   "metadata": {},
   "outputs": [],
   "source": [
    "fetch(\"https://multidict.net/clilstore/\", {\n",
    "  \"headers\": {\n",
    "    \"accept\": \"text/html,application/xhtml+xml,application/xml;q=0.9,image/avif,image/webp,image/apng,*/*;q=0.8,application/signed-exchange;v=b3;q=0.9\",\n",
    "    \"accept-language\": \"en-US,en;q=0.9,pl;q=0.8,ga;q=0.7,en-GB;q=0.6\",\n",
    "    \"cache-control\": \"max-age=0\",\n",
    "    \"content-type\": \"application/x-www-form-urlencoded\",\n",
    "    \"sec-ch-ua\": \"\\\" Not A;Brand\\\";v=\\\"99\\\", \\\"Chromium\\\";v=\\\"90\\\", \\\"Google Chrome\\\";v=\\\"90\\\"\",\n",
    "    \"sec-ch-ua-mobile\": \"?0\",\n",
    "    \"sec-fetch-dest\": \"document\",\n",
    "    \"sec-fetch-mode\": \"navigate\",\n",
    "    \"sec-fetch-site\": \"same-origin\",\n",
    "    \"sec-fetch-user\": \"?1\",\n",
    "    \"upgrade-insecure-requests\": \"1\"\n",
    "  },\n",
    "  \"referrer\": \"https://multidict.net/clilstore/\",\n",
    "  \"referrerPolicy\": \"strict-origin-when-cross-origin\",\n",
    "  \"body\": \"sl=gv\",\n",
    "  \"method\": \"POST\",\n",
    "  \"mode\": \"cors\",\n",
    "  \"credentials\": \"include\"\n",
    "});"
   ]
  },
  {
   "cell_type": "code",
   "execution_count": null,
   "id": "13b1f7c1",
   "metadata": {},
   "outputs": [],
   "source": [
    "headers = {\n",
    "    \"accept\": \"text/html,application/xhtml+xml,application/xml;q=0.9,image/avif,image/webp,image/apng,*/*;q=0.8,application/signed-exchange;v=b3;q=0.9\",\n",
    "    \"accept-language\": \"en-US,en;q=0.9,pl;q=0.8,ga;q=0.7,en-GB;q=0.6\",\n",
    "    \"cache-control\": \"max-age=0\",\n",
    "    \"content-type\": \"application/x-www-form-urlencoded\",\n",
    "    \"sec-ch-ua\": \"\\\" Not A;Brand\\\";v=\\\"99\\\", \\\"Chromium\\\";v=\\\"90\\\", \\\"Google Chrome\\\";v=\\\"90\\\"\",\n",
    "    \"sec-ch-ua-mobile\": \"?0\",\n",
    "    \"sec-fetch-dest\": \"document\",\n",
    "    \"sec-fetch-mode\": \"navigate\",\n",
    "    \"sec-fetch-site\": \"same-origin\",\n",
    "    \"sec-fetch-user\": \"?1\",\n",
    "    \"upgrade-insecure-requests\": \"1\"\n",
    "  }"
   ]
  },
  {
   "cell_type": "code",
   "execution_count": null,
   "id": "742c1d01",
   "metadata": {},
   "outputs": [],
   "source": [
    "s = requests.Session()\n",
    "s.headers.update(headers)\n",
    "s.get(\"https://multidict.net/clilstore/\")\n",
    "s.headers.update({'referer': \"https://multidict.net/clilstore/\"})\n",
    "x = s.post(\"https://multidict.net/clilstore/\", data=\"sl=ga&filterForm=1&title=&text=&showAll=showAll\")\n",
    "print(x)"
   ]
  },
  {
   "cell_type": "code",
   "execution_count": null,
   "id": "9c7a8206",
   "metadata": {},
   "outputs": [],
   "source": [
    "listsoup = BeautifulSoup(x.text, 'html.parser')"
   ]
  },
  {
   "cell_type": "code",
   "execution_count": null,
   "id": "25bb823b",
   "metadata": {},
   "outputs": [],
   "source": [
    "table = listsoup.find('table', {'id': 'main'})"
   ]
  },
  {
   "cell_type": "code",
   "execution_count": null,
   "id": "1b97a87c",
   "metadata": {},
   "outputs": [],
   "source": [
    "links = table.findAll('a')"
   ]
  },
  {
   "cell_type": "code",
   "execution_count": null,
   "id": "da4556d9",
   "metadata": {},
   "outputs": [],
   "source": [
    "def attrstartswith(tag, attr, needle):\n",
    "    return tag.attrs and attr in tag.attrs and tag.attrs[attr].startswith(needle)"
   ]
  },
  {
   "cell_type": "code",
   "execution_count": null,
   "id": "15301f56",
   "metadata": {},
   "outputs": [],
   "source": [
    "def collectlinks(links):\n",
    "    out = []\n",
    "    for link in links:\n",
    "        if attrstartswith(link, 'href', '/cs/'):\n",
    "            out.append(link.attrs['href'][4:])\n",
    "    return out"
   ]
  },
  {
   "cell_type": "code",
   "execution_count": null,
   "id": "e20ac487",
   "metadata": {},
   "outputs": [],
   "source": [
    "for link in table.findAll(lambda tag: tag.name == 'a' and attrstartswith(tag, 'href', '/cs/')):\n",
    "    print(link.attrs['href'])"
   ]
  },
  {
   "cell_type": "code",
   "execution_count": null,
   "id": "1d78029d",
   "metadata": {},
   "outputs": [],
   "source": [
    "collectlinks(links)"
   ]
  },
  {
   "cell_type": "code",
   "execution_count": null,
   "id": "d1d580a4",
   "metadata": {},
   "outputs": [],
   "source": [
    "out"
   ]
  }
 ],
 "metadata": {
  "kernelspec": {
   "display_name": "Python 3",
   "language": "python",
   "name": "python3"
  },
  "language_info": {
   "codemirror_mode": {
    "name": "ipython",
    "version": 3
   },
   "file_extension": ".py",
   "mimetype": "text/x-python",
   "name": "python",
   "nbconvert_exporter": "python",
   "pygments_lexer": "ipython3",
   "version": "3.8.2"
  }
 },
 "nbformat": 4,
 "nbformat_minor": 5
}
