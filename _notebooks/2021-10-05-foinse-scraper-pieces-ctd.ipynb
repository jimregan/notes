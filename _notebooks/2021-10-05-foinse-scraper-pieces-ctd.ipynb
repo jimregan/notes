{
 "cells": [
  {
   "cell_type": "markdown",
   "metadata": {},
   "source": [
    "# Foinse scraper pieces, ctd\n",
    "\n",
    "> Scraping Foinse, from the Wayback Machine\n",
    "\n",
    "- toc: false\n",
    "- branch: master\n",
    "- badges: true\n",
    "- comments: false\n",
    "- categories: [irish, scraper, foinse]"
   ]
  },
  {
   "cell_type": "markdown",
   "metadata": {},
   "source": [
    "[Continued]({% post_url 2021-09-27-foinse_scraper_pieces %})"
   ]
  },
  {
   "cell_type": "code",
   "execution_count": 1,
   "metadata": {
    "id": "skhj7IflwQHk"
   },
   "outputs": [],
   "source": [
    "link = \"http://web.archive.org/web/20171209002240/http://www.foinse.ie/sport/eile/6412-an-dornalai-john-joe-nevin-rangaithe-ag-uimhir-a-haon-anois\""
   ]
  },
  {
   "cell_type": "code",
   "execution_count": 53,
   "metadata": {
    "id": "9XVXKEgIwUbd"
   },
   "outputs": [],
   "source": [
    "import requests\n",
    "from bs4 import BeautifulSoup, Comment"
   ]
  },
  {
   "cell_type": "code",
   "execution_count": 67,
   "metadata": {
    "id": "W9XJdLGL39i-"
   },
   "outputs": [],
   "source": [
    "def get_content(url):\n",
    "    from bs4 import Comment\n",
    "\n",
    "    out = {}\n",
    "    page = requests.get(url)\n",
    "    if page.status_code != 200:\n",
    "        return {}\n",
    "\n",
    "    soup = BeautifulSoup(page.text, \"lxml\")\n",
    "\n",
    "    content = soup.find(\"div\", {\"class\": \"item-page\"})\n",
    "    if not content:\n",
    "        return {}\n",
    "    \n",
    "    # junk\n",
    "    jc = content.find(\"div\", {\"id\": \"jc\"})\n",
    "    jc.extract()\n",
    "    pagenav = content.find(\"ul\", {\"class\": \"pagenav\"})\n",
    "    pagenav.extract()\n",
    "    for js in content.find_all(\"script\", {\"type\": \"text/javascript\"}):\n",
    "        js.extract()\n",
    "\n",
    "    h2 = content.find(\"h2\")\n",
    "    title = h2.text.strip()\n",
    "    if title:\n",
    "        out[\"title\"] = title\n",
    "    h2.extract()\n",
    "\n",
    "    h1 = content.find(\"h1\")\n",
    "    heading = h1.text.strip()\n",
    "    if h1_text:\n",
    "        out[\"h1\"] = title\n",
    "    h1.extract()\n",
    "\n",
    "    published_tag = content.find(\"dd\", {\"class\": \"published\"})\n",
    "    if published_tag:\n",
    "        out[\"published\"] = published_tag.text.strip()\n",
    "\n",
    "    author_tag = content.find(\"dd\", {\"class\": \"createdby\"})\n",
    "    if author_tag:\n",
    "        out[\"author\"] = author_tag.text.strip()\n",
    "    artinfo = content.find(\"dl\", {\"class\": \"article-info\"})\n",
    "    artinfo.clear()\n",
    "\n",
    "    paragraphs_tags = content.find_all(\"p\")\n",
    "    paragraphs = [p.text.replace(\"\\xa0\", \" \").strip() for p in paragraphs_tags]\n",
    "    out[\"text\"] = paragraphs\n",
    "    \n",
    "    raw_text = content.text\n",
    "    \n",
    "    raw_out = []\n",
    "    for raw_line in raw_text.split(\"\\n\"):\n",
    "        line = raw_line.replace(\"\\xa0\", \" \").strip()\n",
    "        if line == \"\":\n",
    "            continue\n",
    "        raw_out.append(line)\n",
    "    if paragraphs != raw_out:\n",
    "        out[\"text\"] = raw_out\n",
    "\n",
    "    vocab_list = []\n",
    "    for vocab in content.find_all(\"a\", {\"class\": \"glossarylink\"}):\n",
    "        item = {}\n",
    "        item[\"en\"] = vocab.get(\"title\").strip()\n",
    "        item[\"ga\"] = vocab.text.strip()\n",
    "        vocab_list.append(item)\n",
    "    out[\"vocab\"] = vocab_list\n",
    "\n",
    "    return out"
   ]
  },
  {
   "cell_type": "code",
   "execution_count": 24,
   "metadata": {},
   "outputs": [],
   "source": [
    "page = requests.get(link)\n",
    "\n",
    "soup = BeautifulSoup(page.text, \"lxml\")\n",
    "\n",
    "content = soup.find(\"div\", {\"class\": \"item-page\"})\n",
    "if not content:\n",
    "    print(\"Empty\")\n"
   ]
  },
  {
   "cell_type": "code",
   "execution_count": 68,
   "metadata": {},
   "outputs": [
    {
     "data": {
      "text/plain": [
       "{'title': 'An dornálaí John Joe Nevin rangaithe ag uimhir a haon anois',\n",
       " 'h1': 'An dornálaí John Joe Nevin rangaithe ag uimhir a haon anois',\n",
       " 'published': 'Foilsithe an Dé Máirt, 02 Iúil 2013 16:12',\n",
       " 'author': 'Scríofa ag Úna Ní Eidhin',\n",
       " 'text': ['Tá sé fógartha inniu go bhfuil ardú céime faighte ag an dornálaí Éireannach, John Joe Nevin agus uimhir a haon bainte amach aige i rangú coileachmheáchain an domhain.',\n",
       "  'Fuair Nevin an t-ardú céime seo tar éis dó bonn óir a bhuachan ag Craobhchomórtais Dornálaíochta Amaitéaracha na hEorpa ag tús na míosa seo caite sa Bhealarúis. D’fhoilsigh an Cumann Idirnáisiúnta Dornálaíochta Amaitéaraí an rangú athbhreithnithe seo inniu.',\n",
       "  'Mar thoradh air seo, tá dhá dhornálaí ag Éirinn anois atá rangaithe ag uimhir a haon sa domhan – Nevin agus Katie Taylor. Tá na dornálaithe Éireannacha Paddy Barnes agus Michael Conlon rangaithe ag uimhir a trí ina rannáin féin maidir le meáchan.'],\n",
       " 'vocab': [{'en': 'boxer', 'ga': 'dornálaí'},\n",
       "  {'en': 'ranking', 'ga': 'rangú'},\n",
       "  {'en': 'medal', 'ga': 'bonn'},\n",
       "  {'en': 'society', 'ga': 'Cumann'},\n",
       "  {'en': 'International', 'ga': 'Idirnáisiúnta'},\n",
       "  {'en': 'Weight', 'ga': 'meáchan'}]}"
      ]
     },
     "execution_count": 68,
     "metadata": {},
     "output_type": "execute_result"
    }
   ],
   "source": [
    "get_content(link)"
   ]
  },
  {
   "cell_type": "code",
   "execution_count": 63,
   "metadata": {},
   "outputs": [
    {
     "name": "stdout",
     "output_type": "stream",
     "text": [
      " End Wayback Rewrite JS Include \n",
      "- this template -\n",
      "[if IE]>\n",
      "<link rel=\"stylesheet\" href=\"http://www.foinse.ie/templates/foinse_ga/css/ie.css\" type=\"text/css\" />\n",
      "<![endif]\n",
      "[if lt IE 7.0]>\n",
      "<link rel=\"stylesheet\" href=\"http://www.foinse.ie/templates/foinse_ga/css/ie7minus.css\" type=\"text/css\" />\n",
      "<![endif]\n",
      "[if IE 7.0]>\n",
      "<style>\n",
      ".clearfix {\n",
      "\tdisplay: inline-block; /* IE7xhtml*/\n",
      "}\n",
      "</style>\n",
      "<![endif]\n",
      " HEADER \n",
      " //HEADER \n",
      " MAIN NAVIGATION \n",
      " //MAIN NAVIGATION \n",
      " MAIN CONTAINER \n",
      " CONTENT \n",
      " //CONTENT \n",
      " RIGHT COLUMN\n",
      " ss-large-rectangle \n",
      " ss-large-rectangle \n",
      " adsense\n",
      " end adsense\n",
      " RIGHT COLUMN\n",
      " //MAIN CONTAINER \n",
      " BOTTOM SPOTLIGHT \n",
      " Abivia multi Twitter module 1.6.1 http://www.abivia.net \n",
      " //BOTTOM SPOTLIGHT \n",
      " FOOTER \n",
      " //FOOTER \n",
      "\n",
      "     FILE ARCHIVED ON 17:11:00 Dec 23, 2017 AND RETRIEVED FROM THE\n",
      "     INTERNET ARCHIVE ON 07:07:29 Oct 05, 2021.\n",
      "     JAVASCRIPT APPENDED BY WAYBACK MACHINE, COPYRIGHT INTERNET ARCHIVE.\n",
      "\n",
      "     ALL OTHER CONTENT MAY ALSO BE PROTECTED BY COPYRIGHT (17 U.S.C.\n",
      "     SECTION 108(a)(3)).\n",
      "\n"
     ]
    }
   ],
   "source": [
    "page = requests.get(link)\n",
    "\n",
    "soup = BeautifulSoup(page.text, \"lxml\")\n",
    "\n",
    "content = soup.find(\"div\", {\"class\": \"item-page\"})\n",
    "for comment in soup.find_all(string=lambda text: isinstance(text, Comment)):\n",
    "    print(comment.extract())\n"
   ]
  },
  {
   "cell_type": "code",
   "execution_count": 19,
   "metadata": {
    "id": "2iLwYYet5ath"
   },
   "outputs": [],
   "source": [
    "def filter_para_list(inlist):\n",
    "    out = []\n",
    "    for para in inlist:\n",
    "        if para == \"\":\n",
    "            continue\n",
    "        elif para.strip() == \"Foinse - News as Gaeilge\":\n",
    "            return out\n",
    "        else:\n",
    "            out.append(para)\n",
    "    return out"
   ]
  },
  {
   "cell_type": "code",
   "execution_count": 20,
   "metadata": {
    "id": "VcTxKOf14_3W"
   },
   "outputs": [],
   "source": [
    "def extract_summary(inlist):\n",
    "    if len(inlist) > 2:\n",
    "        if inlist[-2] == \"Did you understand this story? Here are the main points:\":\n",
    "            return inlist[-1]\n",
    "    return \"\""
   ]
  }
 ],
 "metadata": {
  "colab": {
   "name": "foinse-scraper-pieces.ipynb",
   "provenance": []
  },
  "kernelspec": {
   "display_name": "Python 3",
   "language": "python",
   "name": "python3"
  },
  "language_info": {
   "codemirror_mode": {
    "name": "ipython",
    "version": 3
   },
   "file_extension": ".py",
   "mimetype": "text/x-python",
   "name": "python",
   "nbconvert_exporter": "python",
   "pygments_lexer": "ipython3",
   "version": "3.6.9"
  }
 },
 "nbformat": 4,
 "nbformat_minor": 4
}
