{
 "cells": [
  {
   "cell_type": "markdown",
   "metadata": {},
   "source": [
    "# Foinse scraper pieces, ctd\n",
    "\n",
    "> Scraping Foinse, from the Wayback Machine\n",
    "\n",
    "- toc: false\n",
    "- branch: master\n",
    "- badges: true\n",
    "- comments: false\n",
    "- categories: [irish, scraper, foinse]"
   ]
  },
  {
   "cell_type": "markdown",
   "metadata": {},
   "source": [
    "[Continued]({% post_url 2021-09-27-foinse_scraper_pieces %})"
   ]
  },
  {
   "cell_type": "code",
   "execution_count": 1,
   "metadata": {
    "id": "skhj7IflwQHk"
   },
   "outputs": [],
   "source": [
    "link = \"http://web.archive.org/web/20171209002240/http://www.foinse.ie/sport/eile/6412-an-dornalai-john-joe-nevin-rangaithe-ag-uimhir-a-haon-anois\""
   ]
  },
  {
   "cell_type": "code",
   "execution_count": 53,
   "metadata": {
    "id": "9XVXKEgIwUbd"
   },
   "outputs": [],
   "source": [
    "import requests\n",
    "from bs4 import BeautifulSoup, Comment"
   ]
  },
  {
   "cell_type": "code",
   "execution_count": 20,
   "metadata": {
    "id": "VcTxKOf14_3W"
   },
   "outputs": [],
   "source": [
    "def extract_summary(inlist):\n",
    "    if len(inlist) > 2:\n",
    "        if inlist[-2] == \"Did you understand this story? Here are the main points:\":\n",
    "            return inlist[-1]\n",
    "    return \"\""
   ]
  },
  {
   "cell_type": "code",
   "execution_count": 19,
   "metadata": {
    "id": "2iLwYYet5ath"
   },
   "outputs": [],
   "source": [
    "def filter_para_list(inlist):\n",
    "    out = []\n",
    "    for para in inlist:\n",
    "        if para == \"\":\n",
    "            continue\n",
    "        elif para.strip() == \"Foinse - News as Gaeilge\":\n",
    "            return out\n",
    "        elif para.strip() == \"Did you understand this story? Here are the main points:\":\n",
    "            return out\n",
    "        else:\n",
    "            out.append(para)\n",
    "    return out"
   ]
  },
  {
   "cell_type": "code",
   "execution_count": 75,
   "metadata": {
    "id": "W9XJdLGL39i-"
   },
   "outputs": [],
   "source": [
    "def get_content(url):\n",
    "    from bs4 import Comment\n",
    "\n",
    "    out = {}\n",
    "    page = requests.get(url)\n",
    "    if page.status_code != 200:\n",
    "        return {}\n",
    "\n",
    "    soup = BeautifulSoup(page.text, \"lxml\")\n",
    "\n",
    "    content = soup.find(\"div\", {\"class\": \"item-page\"})\n",
    "    if not content:\n",
    "        return {}\n",
    "    \n",
    "    breadcrumbs = soup.find(\"div\", {\"class\": \"ja-breadcrums\"})\n",
    "    if breadcrumbs:\n",
    "        here = breadcrumbs.find(\"a\", {\"class\": \"pathway\"})\n",
    "        out[\"category\"] = here.text.strip()\n",
    "    \n",
    "    # junk\n",
    "    jc = content.find(\"div\", {\"id\": \"jc\"})\n",
    "    jc.extract()\n",
    "    pagenav = content.find(\"ul\", {\"class\": \"pagenav\"})\n",
    "    pagenav.extract()\n",
    "    for js in content.find_all(\"script\", {\"type\": \"text/javascript\"}):\n",
    "        js.extract()\n",
    "\n",
    "    h2 = content.find(\"h2\")\n",
    "    title = h2.text.strip()\n",
    "    if title:\n",
    "        out[\"title\"] = title\n",
    "    h2.extract()\n",
    "\n",
    "    h1 = content.find(\"h1\")\n",
    "    heading = h1.text.strip()\n",
    "    if heading:\n",
    "        out[\"subcategory\"] = heading\n",
    "    h1.extract()\n",
    "\n",
    "    published_tag = content.find(\"dd\", {\"class\": \"published\"})\n",
    "    if published_tag:\n",
    "        out[\"published\"] = published_tag.text.strip()\n",
    "\n",
    "    author_tag = content.find(\"dd\", {\"class\": \"createdby\"})\n",
    "    if author_tag:\n",
    "        out[\"author\"] = author_tag.text.strip()\n",
    "    artinfo = content.find(\"dl\", {\"class\": \"article-info\"})\n",
    "    artinfo.clear()\n",
    "\n",
    "    paragraphs_tags = content.find_all(\"p\")\n",
    "    paragraphs = [p.text.replace(\"\\xa0\", \" \").strip() for p in paragraphs_tags]\n",
    "    out[\"text\"] = paragraphs\n",
    "    \n",
    "    raw_text = content.text\n",
    "    \n",
    "    raw_out = []\n",
    "    for raw_line in raw_text.split(\"\\n\"):\n",
    "        line = raw_line.replace(\"\\xa0\", \" \").strip()\n",
    "        if line == \"\":\n",
    "            continue\n",
    "        raw_out.append(line)\n",
    "    if paragraphs != raw_out:\n",
    "        out[\"text\"] = raw_out\n",
    "        \n",
    "    summary = extract_summary(out[\"text\"])\n",
    "    if summary:\n",
    "        out[\"summary\"] = summary\n",
    "    out[\"text\"] = filter_para_list(out[\"text\"])\n",
    "\n",
    "    vocab_list = []\n",
    "    for vocab in content.find_all(\"a\", {\"class\": \"glossarylink\"}):\n",
    "        item = {}\n",
    "        item[\"en\"] = vocab.get(\"title\").strip()\n",
    "        item[\"ga\"] = vocab.text.strip()\n",
    "        vocab_list.append(item)\n",
    "    out[\"vocab\"] = vocab_list\n",
    "\n",
    "    return out"
   ]
  },
  {
   "cell_type": "code",
   "execution_count": 24,
   "metadata": {},
   "outputs": [],
   "source": [
    "page = requests.get(link)\n",
    "\n",
    "soup = BeautifulSoup(page.text, \"lxml\")\n",
    "\n",
    "content = soup.find(\"div\", {\"class\": \"item-page\"})\n",
    "if not content:\n",
    "    print(\"Empty\")\n"
   ]
  },
  {
   "cell_type": "code",
   "execution_count": 76,
   "metadata": {},
   "outputs": [
    {
     "data": {
      "text/plain": [
       "{'category': 'Spórt',\n",
       " 'title': 'An dornálaí John Joe Nevin rangaithe ag uimhir a haon anois',\n",
       " 'subcategory': 'Eile',\n",
       " 'published': 'Foilsithe an Dé Máirt, 02 Iúil 2013 16:12',\n",
       " 'author': 'Scríofa ag Úna Ní Eidhin',\n",
       " 'text': ['Tá sé fógartha inniu go bhfuil ardú céime faighte ag an dornálaí Éireannach, John Joe Nevin agus uimhir a haon bainte amach aige i rangú coileachmheáchain an domhain.',\n",
       "  'Fuair Nevin an t-ardú céime seo tar éis dó bonn óir a bhuachan ag Craobhchomórtais Dornálaíochta Amaitéaracha na hEorpa ag tús na míosa seo caite sa Bhealarúis. D’fhoilsigh an Cumann Idirnáisiúnta Dornálaíochta Amaitéaraí an rangú athbhreithnithe seo inniu.',\n",
       "  'Mar thoradh air seo, tá dhá dhornálaí ag Éirinn anois atá rangaithe ag uimhir a haon sa domhan – Nevin agus Katie Taylor. Tá na dornálaithe Éireannacha Paddy Barnes agus Michael Conlon rangaithe ag uimhir a trí ina rannáin féin maidir le meáchan.'],\n",
       " 'vocab': [{'en': 'boxer', 'ga': 'dornálaí'},\n",
       "  {'en': 'ranking', 'ga': 'rangú'},\n",
       "  {'en': 'medal', 'ga': 'bonn'},\n",
       "  {'en': 'society', 'ga': 'Cumann'},\n",
       "  {'en': 'International', 'ga': 'Idirnáisiúnta'},\n",
       "  {'en': 'Weight', 'ga': 'meáchan'}]}"
      ]
     },
     "execution_count": 76,
     "metadata": {},
     "output_type": "execute_result"
    }
   ],
   "source": [
    "get_content(link)"
   ]
  },
  {
   "cell_type": "code",
   "execution_count": 78,
   "metadata": {},
   "outputs": [
    {
     "data": {
      "text/plain": [
       "{'category': 'Nuacht',\n",
       " 'title': 'John Gilligan scaoilte saor ón bpríosún',\n",
       " 'subcategory': 'Nuacht is Déanaí',\n",
       " 'published': 'Foilsithe an Dé Máirt, 15 Deireadh Fómhair 2013 11:30',\n",
       " 'author': 'Scríofa ag Úna Ní Eidhin',\n",
       " 'text': ['Táthar tar éis an gáinneálaí drugaí ciontaithe, John Gilligan (61), a scaoileadh saor ó Phríosún Phort Laoise ar maidin inniu.',\n",
       "  'Gearradh pianbhreith de 28 bliain sa phríosún ar Gilligan ar dtús i mí an Mhárta 2001 ach baineadh ocht mbliana don phianbhreith seo mar thoradh ar achomharc a rinne sé sa bhliain 2003. Gearradh pianbhreitheanna eile air ansin, as nithe a rinne sé as bealach fad is a bhí sé istigh sa phríosún.',\n",
       "  'D’fhág sé an príosún ag 9.30am ar maidin agus d’imigh sé i gcarr le beirt fhear eile.',\n",
       "  'Bhí Gilligan á thriail freisin as dúnmharú an iriseora, Veronica Guerin, blianta siar ach éigiontaíodh é sa bhliain 2001 sa Chúirt Choiriúil Speisialta.'],\n",
       " 'summary': 'Convicted drug trafficker John Gilligan has been released from Portlaoise Prison this morning. He was originally given a 28-year sentence in 2001, but this was reduced by eight years on appeal in 2003. Gilligan also stood trial for the murder of journalist Veronica Guerin but was acquitted by the Special Criminal Court in 2001.',\n",
       " 'vocab': [{'en': 'drug trafficker', 'ga': 'gáinneálaí drugaí'},\n",
       "  {'en': 'way / method / route / sound / manner / conduit / avenue / channel / gangplank / brow / headway /',\n",
       "   'ga': 'bealach'},\n",
       "  {'en': 'murder', 'ga': 'dúnmharú'}]}"
      ]
     },
     "execution_count": 78,
     "metadata": {},
     "output_type": "execute_result"
    }
   ],
   "source": [
    "get_content(\"http://web.archive.org/web/20140401140521/http://foinse.ie/nuacht/nuacht-is-deanai/6817-john-gilligan-scaoilte-saor-on-bpriosun\")"
   ]
  }
 ],
 "metadata": {
  "colab": {
   "name": "foinse-scraper-pieces.ipynb",
   "provenance": []
  },
  "kernelspec": {
   "display_name": "Python 3",
   "language": "python",
   "name": "python3"
  },
  "language_info": {
   "codemirror_mode": {
    "name": "ipython",
    "version": 3
   },
   "file_extension": ".py",
   "mimetype": "text/x-python",
   "name": "python",
   "nbconvert_exporter": "python",
   "pygments_lexer": "ipython3",
   "version": "3.6.9"
  }
 },
 "nbformat": 4,
 "nbformat_minor": 4
}
