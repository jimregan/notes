{
 "cells": [
  {
   "cell_type": "markdown",
   "metadata": {},
   "source": [
    "# Foinse scraper pieces\n",
    "\n",
    "> Scraping Foinse, from the Wayback Machine\n",
    "\n",
    "- toc: false\n",
    "- branch: master\n",
    "- badges: true\n",
    "- comments: false\n",
    "- categories: [irish, scraper, foinse]"
   ]
  },
  {
   "cell_type": "code",
   "execution_count": 1,
   "metadata": {
    "id": "skhj7IflwQHk"
   },
   "outputs": [],
   "source": [
    "link = \"http://web.archive.org/web/20171209002240/http://www.foinse.ie/sport/eile/6412-an-dornalai-john-joe-nevin-rangaithe-ag-uimhir-a-haon-anois\""
   ]
  },
  {
   "cell_type": "code",
   "execution_count": 53,
   "metadata": {
    "id": "9XVXKEgIwUbd"
   },
   "outputs": [],
   "source": [
    "import requests\n",
    "from bs4 import BeautifulSoup, Comment"
   ]
  },
  {
   "cell_type": "code",
   "execution_count": 3,
   "metadata": {
    "id": "d6zDz_wUwe8_"
   },
   "outputs": [],
   "source": [
    "page = requests.get(link)\n",
    "assert page.status_code == 200"
   ]
  },
  {
   "cell_type": "markdown",
   "metadata": {
    "id": "QxEabIT01LhX"
   },
   "source": [
    "In purely text terms, much of the junk can be discarded using these comments:"
   ]
  },
  {
   "cell_type": "code",
   "execution_count": 4,
   "metadata": {
    "id": "DdpiNMDwwmEJ"
   },
   "outputs": [],
   "source": [
    "if \"<!-- CONTENT -->\" in page.text:\n",
    "    trim = page.text.split(\"<!-- CONTENT -->\")[1]"
   ]
  },
  {
   "cell_type": "code",
   "execution_count": 5,
   "metadata": {
    "id": "OkeHnbOkwzq9"
   },
   "outputs": [],
   "source": [
    "if trim and \"<!-- //CONTENT -->\" in trim:\n",
    "    trim = trim.split(\"<!-- //CONTENT -->\")[0]"
   ]
  },
  {
   "cell_type": "markdown",
   "metadata": {
    "id": "zPu80wwZ1VQB"
   },
   "source": [
    "... but it's easier with BeautifulSoup to just extract `<div class=\"item-page\">`"
   ]
  },
  {
   "cell_type": "code",
   "execution_count": 6,
   "metadata": {
    "id": "ZSyuOk2mw5uI"
   },
   "outputs": [],
   "source": [
    "soup = BeautifulSoup(page.text, \"lxml\")"
   ]
  },
  {
   "cell_type": "code",
   "execution_count": 7,
   "metadata": {
    "id": "V9Chyghuze2c"
   },
   "outputs": [],
   "source": [
    "content = soup.find(\"div\", {\"class\": \"item-page\"})"
   ]
  },
  {
   "cell_type": "code",
   "execution_count": 8,
   "metadata": {
    "colab": {
     "base_uri": "https://localhost:8080/",
     "height": 35
    },
    "id": "GRPjB-hU0SHz",
    "outputId": "9287bd51-14ff-45c0-beb8-d77d6517dc19"
   },
   "outputs": [],
   "source": [
    "title = content.find(\"h2\").text.strip()"
   ]
  },
  {
   "cell_type": "code",
   "execution_count": 9,
   "metadata": {
    "id": "v6QTFDpd0bGh"
   },
   "outputs": [],
   "source": [
    "published_tag = content.find(\"dd\", {\"class\": \"published\"})"
   ]
  },
  {
   "cell_type": "code",
   "execution_count": 10,
   "metadata": {
    "id": "3a_Qh-A50jUQ"
   },
   "outputs": [],
   "source": [
    "if published_tag:\n",
    "    published = published_tag.text.strip()"
   ]
  },
  {
   "cell_type": "code",
   "execution_count": 11,
   "metadata": {
    "id": "xDmeExwm0wpv"
   },
   "outputs": [],
   "source": [
    "author_tag = content.find(\"dd\", {\"class\": \"createdby\"})\n",
    "if author_tag:\n",
    "    author = author_tag.text.strip()"
   ]
  },
  {
   "cell_type": "code",
   "execution_count": 12,
   "metadata": {
    "colab": {
     "base_uri": "https://localhost:8080/",
     "height": 35
    },
    "id": "NAiAu7Vo09TM",
    "outputId": "19e7372d-9657-4011-fe03-91c808587357"
   },
   "outputs": [
    {
     "data": {
      "text/plain": [
       "'Scríofa ag Úna Ní Eidhin'"
      ]
     },
     "execution_count": 12,
     "metadata": {},
     "output_type": "execute_result"
    }
   ],
   "source": [
    "author"
   ]
  },
  {
   "cell_type": "code",
   "execution_count": 13,
   "metadata": {
    "id": "ITUcDyc21fBF"
   },
   "outputs": [],
   "source": [
    "paragraphs_tags = content.find_all(\"p\", {\"class\": \"MsoNormal\"})"
   ]
  },
  {
   "cell_type": "code",
   "execution_count": 14,
   "metadata": {
    "id": "dypFDRCD1iRX"
   },
   "outputs": [],
   "source": [
    "paragraphs = [p.text.replace(\"\\xa0\", \" \").strip() for p in paragraphs_tags]"
   ]
  },
  {
   "cell_type": "code",
   "execution_count": 15,
   "metadata": {
    "id": "PYm_MY8a2Dpi"
   },
   "outputs": [],
   "source": [
    "vocab_list = []\n",
    "for p in paragraphs_tags:\n",
    "    for vocab in p.find_all(\"a\", {\"class\": \"glossarylink\"}):\n",
    "        item = {}\n",
    "        item[\"en\"] = vocab.get(\"title\").strip()\n",
    "        item[\"ga\"] = vocab.text.strip()\n",
    "        vocab_list.append(item)"
   ]
  },
  {
   "cell_type": "code",
   "execution_count": 16,
   "metadata": {
    "id": "mWpe7QJW3V-w"
   },
   "outputs": [],
   "source": [
    "check = \"http://web.archive.org/web/20171222073817/http://www.foinse.ie/nuacht/nuacht-is-deanai/6822-seanoiri-ag-dul-i-mbun-agoide-maidir-le-ciorruithe\""
   ]
  },
  {
   "cell_type": "code",
   "execution_count": 17,
   "metadata": {
    "id": "9aDBI3X73cpS"
   },
   "outputs": [],
   "source": [
    "page2 = requests.get(check)\n",
    "assert page2.status_code == 200"
   ]
  },
  {
   "cell_type": "code",
   "execution_count": 64,
   "metadata": {
    "id": "W9XJdLGL39i-"
   },
   "outputs": [],
   "source": [
    "def get_content(url):\n",
    "    from bs4 import Comment\n",
    "\n",
    "    out = {}\n",
    "    page = requests.get(url)\n",
    "    if page.status_code != 200:\n",
    "        return {}\n",
    "\n",
    "    soup = BeautifulSoup(page.text, \"lxml\")\n",
    "\n",
    "    content = soup.find(\"div\", {\"class\": \"item-page\"})\n",
    "    if not content:\n",
    "        return {}\n",
    "    \n",
    "    # junk\n",
    "    jc = content.find(\"div\", {\"id\": \"jc\"})\n",
    "    jc.extract()\n",
    "    pagenav = content.find(\"ul\", {\"class\": \"pagenav\"})\n",
    "    pagenav.extract()\n",
    "    for js in content.find_all(\"script\", {\"type\": \"text/javascript\"}):\n",
    "        js.extract()\n",
    "\n",
    "    h2 = content.find(\"h2\")\n",
    "    title = h2.text.strip()\n",
    "    if title:\n",
    "        out[\"title\"] = title\n",
    "    h2.extract()\n",
    "\n",
    "    h1 = content.find(\"h1\")\n",
    "    heading = h1.text.strip()\n",
    "    if title:\n",
    "        out[\"h1\"] = title\n",
    "    h1.extract()\n",
    "\n",
    "    published_tag = content.find(\"dd\", {\"class\": \"published\"})\n",
    "    if published_tag:\n",
    "        out[\"published\"] = published_tag.text.strip()\n",
    "\n",
    "    author_tag = content.find(\"dd\", {\"class\": \"createdby\"})\n",
    "    if author_tag:\n",
    "        out[\"author\"] = author_tag.text.strip()\n",
    "    artinfo = content.find(\"dl\", {\"class\": \"article-info\"})\n",
    "    artinfo.clear()\n",
    "\n",
    "    paragraphs_tags = content.find_all(\"p\")\n",
    "    paragraphs = [p.text.replace(\"\\xa0\", \" \").strip() for p in paragraphs_tags]\n",
    "    out[\"text\"] = paragraphs\n",
    "    \n",
    "    raw_text = content.text\n",
    "    \n",
    "    raw_out = []\n",
    "    for raw_line in raw_text.split(\"\\n\"):\n",
    "        line = raw_line.replace(\"\\xa0\", \" \").strip()\n",
    "        if line == \"\":\n",
    "            continue\n",
    "        if line in paragraphs:\n",
    "            continue\n",
    "        raw_out.append(line)\n",
    "    out[\"raw_text\"] = raw_out\n",
    "\n",
    "    vocab_list = []\n",
    "    for vocab in content.find_all(\"a\", {\"class\": \"glossarylink\"}):\n",
    "        item = {}\n",
    "        item[\"en\"] = vocab.get(\"title\").strip()\n",
    "        item[\"ga\"] = vocab.text.strip()\n",
    "        vocab_list.append(item)\n",
    "    out[\"vocab\"] = vocab_list\n",
    "\n",
    "    return out"
   ]
  },
  {
   "cell_type": "code",
   "execution_count": 24,
   "metadata": {},
   "outputs": [],
   "source": [
    "page = requests.get(link)\n",
    "\n",
    "soup = BeautifulSoup(page.text, \"lxml\")\n",
    "\n",
    "content = soup.find(\"div\", {\"class\": \"item-page\"})\n",
    "if not content:\n",
    "    print(\"Empty\")\n"
   ]
  },
  {
   "cell_type": "code",
   "execution_count": 65,
   "metadata": {},
   "outputs": [
    {
     "data": {
      "text/plain": [
       "{'title': 'An dornálaí John Joe Nevin rangaithe ag uimhir a haon anois',\n",
       " 'h1': 'An dornálaí John Joe Nevin rangaithe ag uimhir a haon anois',\n",
       " 'published': 'Foilsithe an Dé Máirt, 02 Iúil 2013 16:12',\n",
       " 'author': 'Scríofa ag Úna Ní Eidhin',\n",
       " 'text': ['Tá sé fógartha inniu go bhfuil ardú céime faighte ag an dornálaí Éireannach, John Joe Nevin agus uimhir a haon bainte amach aige i rangú coileachmheáchain an domhain.',\n",
       "  'Fuair Nevin an t-ardú céime seo tar éis dó bonn óir a bhuachan ag Craobhchomórtais Dornálaíochta Amaitéaracha na hEorpa ag tús na míosa seo caite sa Bhealarúis. D’fhoilsigh an Cumann Idirnáisiúnta Dornálaíochta Amaitéaraí an rangú athbhreithnithe seo inniu.'],\n",
       " 'raw_text': ['Mar thoradh air seo, tá dhá dhornálaí ag Éirinn anois atá rangaithe ag uimhir a haon sa domhan – Nevin agus Katie Taylor. Tá na dornálaithe Éireannacha Paddy Barnes agus Michael Conlon rangaithe ag uimhir a trí ina rannáin féin maidir le meáchan.'],\n",
       " 'vocab': [{'en': 'boxer', 'ga': 'dornálaí'},\n",
       "  {'en': 'ranking', 'ga': 'rangú'},\n",
       "  {'en': 'medal', 'ga': 'bonn'},\n",
       "  {'en': 'society', 'ga': 'Cumann'},\n",
       "  {'en': 'International', 'ga': 'Idirnáisiúnta'},\n",
       "  {'en': 'Weight', 'ga': 'meáchan'}]}"
      ]
     },
     "execution_count": 65,
     "metadata": {},
     "output_type": "execute_result"
    }
   ],
   "source": [
    "get_content(link)"
   ]
  },
  {
   "cell_type": "code",
   "execution_count": 63,
   "metadata": {},
   "outputs": [
    {
     "name": "stdout",
     "output_type": "stream",
     "text": [
      " End Wayback Rewrite JS Include \n",
      "- this template -\n",
      "[if IE]>\n",
      "<link rel=\"stylesheet\" href=\"http://www.foinse.ie/templates/foinse_ga/css/ie.css\" type=\"text/css\" />\n",
      "<![endif]\n",
      "[if lt IE 7.0]>\n",
      "<link rel=\"stylesheet\" href=\"http://www.foinse.ie/templates/foinse_ga/css/ie7minus.css\" type=\"text/css\" />\n",
      "<![endif]\n",
      "[if IE 7.0]>\n",
      "<style>\n",
      ".clearfix {\n",
      "\tdisplay: inline-block; /* IE7xhtml*/\n",
      "}\n",
      "</style>\n",
      "<![endif]\n",
      " HEADER \n",
      " //HEADER \n",
      " MAIN NAVIGATION \n",
      " //MAIN NAVIGATION \n",
      " MAIN CONTAINER \n",
      " CONTENT \n",
      " //CONTENT \n",
      " RIGHT COLUMN\n",
      " ss-large-rectangle \n",
      " ss-large-rectangle \n",
      " adsense\n",
      " end adsense\n",
      " RIGHT COLUMN\n",
      " //MAIN CONTAINER \n",
      " BOTTOM SPOTLIGHT \n",
      " Abivia multi Twitter module 1.6.1 http://www.abivia.net \n",
      " //BOTTOM SPOTLIGHT \n",
      " FOOTER \n",
      " //FOOTER \n",
      "\n",
      "     FILE ARCHIVED ON 17:11:00 Dec 23, 2017 AND RETRIEVED FROM THE\n",
      "     INTERNET ARCHIVE ON 07:07:29 Oct 05, 2021.\n",
      "     JAVASCRIPT APPENDED BY WAYBACK MACHINE, COPYRIGHT INTERNET ARCHIVE.\n",
      "\n",
      "     ALL OTHER CONTENT MAY ALSO BE PROTECTED BY COPYRIGHT (17 U.S.C.\n",
      "     SECTION 108(a)(3)).\n",
      "\n"
     ]
    }
   ],
   "source": [
    "page = requests.get(link)\n",
    "\n",
    "soup = BeautifulSoup(page.text, \"lxml\")\n",
    "\n",
    "content = soup.find(\"div\", {\"class\": \"item-page\"})\n",
    "for comment in soup.find_all(string=lambda text: isinstance(text, Comment)):\n",
    "    print(comment.extract())\n"
   ]
  },
  {
   "cell_type": "code",
   "execution_count": 19,
   "metadata": {
    "id": "2iLwYYet5ath"
   },
   "outputs": [],
   "source": [
    "def filter_para_list(inlist):\n",
    "    out = []\n",
    "    for para in inlist:\n",
    "        if para == \"\":\n",
    "            continue\n",
    "        elif para.strip() == \"Foinse - News as Gaeilge\":\n",
    "            return out\n",
    "        else:\n",
    "            out.append(para)\n",
    "    return out"
   ]
  },
  {
   "cell_type": "code",
   "execution_count": 20,
   "metadata": {
    "id": "VcTxKOf14_3W"
   },
   "outputs": [],
   "source": [
    "def extract_summary(inlist):\n",
    "    if len(inlist) > 2:\n",
    "        if inlist[-2] == \"Did you understand this story? Here are the main points:\":\n",
    "            return inlist[-1]\n",
    "    return \"\""
   ]
  }
 ],
 "metadata": {
  "colab": {
   "name": "foinse-scraper-pieces.ipynb",
   "provenance": []
  },
  "kernelspec": {
   "display_name": "Python 3",
   "language": "python",
   "name": "python3"
  },
  "language_info": {
   "codemirror_mode": {
    "name": "ipython",
    "version": 3
   },
   "file_extension": ".py",
   "mimetype": "text/x-python",
   "name": "python",
   "nbconvert_exporter": "python",
   "pygments_lexer": "ipython3",
   "version": "3.6.9"
  }
 },
 "nbformat": 4,
 "nbformat_minor": 4
}
