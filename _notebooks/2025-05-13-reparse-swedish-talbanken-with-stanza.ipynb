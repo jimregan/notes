{
  "cells": [
    {
      "cell_type": "markdown",
      "metadata": {},
      "source": [
        "# Re-parse Swedish UD Talbanken with Stanza\n",
        "\n",
        "> \"To find out what kind of errors it makes\"\n",
        "\n",
        "- branch: main\n",
        "- badges: true\n",
        "- categories: [swedish, ud, stanza, talbanken]"
      ]
    },
    {
      "cell_type": "code",
      "execution_count": null,
      "metadata": {
        "colab": {
          "base_uri": "https://localhost:8080/"
        },
        "id": "UN_fTbWH-Cnp",
        "outputId": "3fde5bca-d991-4628-bad1-bccc4e7ff744"
      },
      "outputs": [],
      "source": [
        "%%capture\n",
        "!pip install -U stanza conllu==4.5 tqdm"
      ]
    },
    {
      "cell_type": "code",
      "execution_count": null,
      "metadata": {
        "id": "nxPMRFhg-EWV"
      },
      "outputs": [],
      "source": [
        "!wget -O eval.py https://raw.githubusercontent.com/UniversalDependencies/tools/refs/heads/master/eval.py\n",
        "!chmod +x eval.py"
      ]
    },
    {
      "cell_type": "code",
      "execution_count": null,
      "metadata": {
        "id": "J1F65m1g-Lbo"
      },
      "outputs": [],
      "source": [
        "import stanza, pathlib\n",
        "stanza.download('sv')"
      ]
    },
    {
      "cell_type": "code",
      "execution_count": null,
      "metadata": {
        "id": "-MjTqdze-MA7"
      },
      "outputs": [],
      "source": [
        "!wget -O sv_talbanken.tar.gz https://github.com/UniversalDependencies/UD_Swedish-Talbanken/archive/refs/tags/r2.16.tar.gz\n",
        "!tar -xf sv_talbanken.tar.gz"
      ]
    },
    {
      "cell_type": "code",
      "execution_count": null,
      "metadata": {
        "id": "o-65uIrRPyEe"
      },
      "outputs": [],
      "source": [
        "from stanza.utils.conll import CoNLL\n",
        "from tqdm import tqdm\n",
        "import stanza, pathlib\n",
        "\n",
        "nlp = stanza.Pipeline(\n",
        "        lang='sv',\n",
        "        processors='tokenize,pos,lemma,depparse',\n",
        "        tokenize_pretokenized=False,\n",
        "        use_gpu=False)"
      ]
    },
    {
      "cell_type": "code",
      "execution_count": null,
      "metadata": {
        "id": "kNuPlzxePrLg"
      },
      "outputs": [],
      "source": [
        "from conllu import parse_incr\n",
        "\n",
        "for split in [\"test\", \"dev\", \"train\"]:\n",
        "    INFILE=f\"UD_Swedish-Talbanken-r2.16/sv_talbanken-ud-{split}.conllu\"\n",
        "    OUTFILE = f\"talbanken-stanza-{split}.conllu\"\n",
        "\n",
        "    with open(INFILE, encoding=\"utf-8\") as gold,\\\n",
        "        open(OUTFILE,  \"w\", encoding=\"utf-8\") as out:\n",
        "\n",
        "        for tokenlist in tqdm(parse_incr(gold)):\n",
        "            doc = nlp(tokenlist.metadata[\"text\"])\n",
        "\n",
        "            lines = \"{:C}\".format(doc).split(\"\\n\")\n",
        "            lines = [line for line in lines if not line.startswith(\"#\")]\n",
        "\n",
        "            mdlines = []\n",
        "            for mditem in tokenlist.metadata:\n",
        "                mdlines.append(f\"# {mditem}: {tokenlist.metadata[mditem]}\")\n",
        "            lines = mdlines + lines\n",
        "            out.write(\"\\n\".join(lines))\n",
        "            out.write(\"\\n\\n\")\n"
      ]
    }
  ],
  "metadata": {
    "colab": {
      "provenance": []
    },
    "kernelspec": {
      "display_name": "Python 3",
      "name": "python3"
    },
    "language_info": {
      "name": "python"
    }
  },
  "nbformat": 4,
  "nbformat_minor": 0
}
