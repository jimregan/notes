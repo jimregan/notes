{
 "cells": [
  {
   "cell_type": "markdown",
   "id": "c16f821d",
   "metadata": {},
   "source": [
    "# \"Tuairisc question page scraper\"\n",
    "\n",
    "> \"First step towards question answering\"\n",
    "\n",
    "- toc: false\n",
    "- branch: master\n",
    "- hidden: true\n",
    "- categories: [irish, tuairisc, incomplete]"
   ]
  },
  {
   "cell_type": "code",
   "execution_count": null,
   "id": "092e98ea",
   "metadata": {
    "id": "092e98ea"
   },
   "outputs": [],
   "source": [
    "import requests\n",
    "from bs4 import BeautifulSoup"
   ]
  },
  {
   "cell_type": "code",
   "execution_count": null,
   "id": "0bba4500",
   "metadata": {
    "id": "0bba4500"
   },
   "outputs": [],
   "source": [
    "url1 = 'https://tuairisc.ie/leamhthuiscint-faoiseamh-agus-saoirse-sa-snamh/'"
   ]
  },
  {
   "cell_type": "code",
   "execution_count": null,
   "id": "41587f87",
   "metadata": {
    "id": "41587f87"
   },
   "outputs": [],
   "source": [
    "def _get_url(url):\n",
    "    r = requests.get(url)\n",
    "    if r.status_code != 200:\n",
    "        raise Exception(\"Failed to open landing page\")\n",
    "    return r.content"
   ]
  },
  {
   "cell_type": "code",
   "execution_count": null,
   "id": "c12194b0",
   "metadata": {
    "id": "c12194b0"
   },
   "outputs": [],
   "source": [
    "def _stop_reading(elem):\n",
    "    from bs4.element import NavigableString\n",
    "    if isinstance(elem, NavigableString):\n",
    "        return False\n",
    "    elems = [c for c in elem.children]\n",
    "    return len(elems) == 1 and elems[0].name == 'h2' and ' '.join(elems[0]['class']) == 'heading-banner education__banner'"
   ]
  },
  {
   "cell_type": "code",
   "execution_count": null,
   "id": "f97ba20d",
   "metadata": {
    "id": "f97ba20d"
   },
   "outputs": [],
   "source": [
    "t1 = _get_url(url1)"
   ]
  },
  {
   "cell_type": "code",
   "execution_count": null,
   "id": "80fa2bd1",
   "metadata": {
    "id": "80fa2bd1"
   },
   "outputs": [],
   "source": [
    "soup = BeautifulSoup(t1, 'html.parser')"
   ]
  },
  {
   "cell_type": "code",
   "execution_count": null,
   "id": "94d6ef03",
   "metadata": {
    "id": "94d6ef03"
   },
   "outputs": [],
   "source": [
    "desc = soup.find('meta', {'property': 'og:description'})['content']\n",
    "title = soup.find('meta', {'property': 'og:title'})['content']"
   ]
  },
  {
   "cell_type": "code",
   "execution_count": null,
   "id": "c3d308bf",
   "metadata": {
    "id": "c3d308bf"
   },
   "outputs": [],
   "source": [
    "article_outer = soup.find('article')"
   ]
  },
  {
   "cell_type": "code",
   "execution_count": null,
   "id": "9fb1db0a",
   "metadata": {
    "id": "9fb1db0a"
   },
   "outputs": [],
   "source": [
    "article = article_outer.find('div', {'itemprop': 'articleBody'})"
   ]
  },
  {
   "cell_type": "code",
   "execution_count": null,
   "id": "1ed2fb4e",
   "metadata": {
    "id": "1ed2fb4e"
   },
   "outputs": [],
   "source": [
    "def _extract_text(article):\n",
    "    from bs4.element import NavigableString\n",
    "    paragraphs = []\n",
    "    for i in article.children:\n",
    "        if isinstance(i, NavigableString):\n",
    "            continue\n",
    "        if _stop_reading(i):\n",
    "            return paragraphs\n",
    "        paragraphs.append(i.text.replace('\\xa0', ' '))"
   ]
  },
  {
   "cell_type": "code",
   "execution_count": null,
   "id": "7dfb52a6",
   "metadata": {
    "id": "7dfb52a6"
   },
   "outputs": [],
   "source": [
    "def _extract_questions(article):\n",
    "    out = []\n",
    "    for p in article.find('ol').findAll('li'):\n",
    "        out.append(p.text)\n",
    "    return out"
   ]
  },
  {
   "cell_type": "code",
   "execution_count": null,
   "id": "e678d59b",
   "metadata": {
    "id": "e678d59b"
   },
   "outputs": [],
   "source": [
    "qs = _extract_questions(article)"
   ]
  },
  {
   "cell_type": "code",
   "execution_count": null,
   "id": "6b92e7dd",
   "metadata": {
    "id": "6b92e7dd"
   },
   "outputs": [],
   "source": [
    "qs"
   ]
  },
  {
   "cell_type": "code",
   "execution_count": null,
   "id": "5defa44f",
   "metadata": {
    "id": "5defa44f"
   },
   "outputs": [],
   "source": [
    "x.findAll('li')"
   ]
  }
 ],
 "metadata": {
  "colab": {
   "name": "2021-05-24-tuairisc-question-page-scraper.ipynb",
   "provenance": []
  },
  "kernelspec": {
   "display_name": "Python 3",
   "language": "python",
   "name": "python3"
  },
  "language_info": {
   "codemirror_mode": {
    "name": "ipython",
    "version": 3
   },
   "file_extension": ".py",
   "mimetype": "text/x-python",
   "name": "python",
   "nbconvert_exporter": "python",
   "pygments_lexer": "ipython3",
   "version": "3.8.2"
  }
 },
 "nbformat": 4,
 "nbformat_minor": 5
}
