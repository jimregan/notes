{
 "cells": [
  {
   "cell_type": "markdown",
   "id": "concrete-chess",
   "metadata": {
    "papermill": {
     "duration": 0.013709,
     "end_time": "2021-05-31T13:23:53.703858",
     "exception": false,
     "start_time": "2021-05-31T13:23:53.690149",
     "status": "completed"
    },
    "tags": []
   },
   "source": [
    "## Preparation"
   ]
  },
  {
   "cell_type": "code",
   "execution_count": 1,
   "id": "cheap-monthly",
   "metadata": {
    "_cell_guid": "b1076dfc-b9ad-4769-8c92-a6c4dae69d19",
    "_uuid": "8f2839f25d086af736a60e9eeb907d3b93b6e0e5",
    "execution": {
     "iopub.execute_input": "2021-05-31T13:23:53.750647Z",
     "iopub.status.busy": "2021-05-31T13:23:53.741026Z",
     "iopub.status.idle": "2021-05-31T13:27:42.105432Z",
     "shell.execute_reply": "2021-05-31T13:27:42.106257Z",
     "shell.execute_reply.started": "2021-05-31T11:43:46.770364Z"
    },
    "papermill": {
     "duration": 228.390362,
     "end_time": "2021-05-31T13:27:42.107267",
     "exception": false,
     "start_time": "2021-05-31T13:23:53.716905",
     "status": "completed"
    },
    "tags": []
   },
   "outputs": [],
   "source": [
    "%%capture\n",
    "!conda install -c pykaldi pykaldi -y"
   ]
  },
  {
   "cell_type": "code",
   "execution_count": 2,
   "id": "pursuant-utilization",
   "metadata": {
    "execution": {
     "iopub.execute_input": "2021-05-31T13:27:42.139554Z",
     "iopub.status.busy": "2021-05-31T13:27:42.138869Z"
    },
    "papermill": {
     "duration": null,
     "end_time": null,
     "exception": false,
     "start_time": "2021-05-31T13:27:42.122437",
     "status": "running"
    },
    "tags": []
   },
   "outputs": [
    {
     "name": "stdout",
     "output_type": "stream",
     "text": [
      "Collecting kenlm\r\n"
     ]
    },
    {
     "name": "stdout",
     "output_type": "stream",
     "text": [
      "  Downloading kenlm-0.tar.gz (1.4 MB)\r\n",
      "\u001b[?25l\r",
      "\u001b[K     |▎                               | 10 kB 8.7 MB/s eta 0:00:01\r",
      "\u001b[K     |▌                               | 20 kB 2.5 MB/s eta 0:00:01\r",
      "\u001b[K     |▊                               | 30 kB 1.8 MB/s eta 0:00:01"
     ]
    },
    {
     "name": "stdout",
     "output_type": "stream",
     "text": [
      "\r",
      "\u001b[K     |█                               | 40 kB 1.7 MB/s eta 0:00:01\r",
      "\u001b[K     |█▏                              | 51 kB 826 kB/s eta 0:00:02\r",
      "\u001b[K     |█▍                              | 61 kB 917 kB/s eta 0:00:02\r",
      "\u001b[K     |█▋                              | 71 kB 998 kB/s eta 0:00:02"
     ]
    },
    {
     "name": "stdout",
     "output_type": "stream",
     "text": [
      "\r",
      "\u001b[K     |█▉                              | 81 kB 1.1 MB/s eta 0:00:02\r",
      "\u001b[K     |██                              | 92 kB 1.1 MB/s eta 0:00:02\r",
      "\u001b[K     |██▎                             | 102 kB 1.2 MB/s eta 0:00:02"
     ]
    },
    {
     "name": "stdout",
     "output_type": "stream",
     "text": [
      "\r",
      "\u001b[K     |██▌                             | 112 kB 1.2 MB/s eta 0:00:02\r",
      "\u001b[K     |██▊                             | 122 kB 1.2 MB/s eta 0:00:02\r",
      "\u001b[K     |███                             | 133 kB 1.2 MB/s eta 0:00:02\r",
      "\u001b[K     |███▏                            | 143 kB 1.2 MB/s eta 0:00:02\r",
      "\u001b[K     |███▍                            | 153 kB 1.2 MB/s eta 0:00:02\r",
      "\u001b[K     |███▋                            | 163 kB 1.2 MB/s eta 0:00:02\r",
      "\u001b[K     |███▉                            | 174 kB 1.2 MB/s eta 0:00:02\r",
      "\u001b[K     |████                            | 184 kB 1.2 MB/s eta 0:00:02\r",
      "\u001b[K     |████▎                           | 194 kB 1.2 MB/s eta 0:00:02\r",
      "\u001b[K     |████▌                           | 204 kB 1.2 MB/s eta 0:00:02\r",
      "\u001b[K     |████▊                           | 215 kB 1.2 MB/s eta 0:00:02\r",
      "\u001b[K     |█████                           | 225 kB 1.2 MB/s eta 0:00:02"
     ]
    },
    {
     "name": "stdout",
     "output_type": "stream",
     "text": [
      "\r",
      "\u001b[K     |█████▏                          | 235 kB 1.2 MB/s eta 0:00:02\r",
      "\u001b[K     |█████▍                          | 245 kB 1.2 MB/s eta 0:00:02\r",
      "\u001b[K     |█████▋                          | 256 kB 1.2 MB/s eta 0:00:02\r",
      "\u001b[K     |█████▉                          | 266 kB 1.2 MB/s eta 0:00:02\r",
      "\u001b[K     |██████▏                         | 276 kB 1.2 MB/s eta 0:00:02\r",
      "\u001b[K     |██████▍                         | 286 kB 1.2 MB/s eta 0:00:01\r",
      "\u001b[K     |██████▋                         | 296 kB 1.2 MB/s eta 0:00:01\r",
      "\u001b[K     |██████▉                         | 307 kB 1.2 MB/s eta 0:00:01\r",
      "\u001b[K     |███████                         | 317 kB 1.2 MB/s eta 0:00:01\r",
      "\u001b[K     |███████▎                        | 327 kB 1.2 MB/s eta 0:00:01\r",
      "\u001b[K     |███████▌                        | 337 kB 1.2 MB/s eta 0:00:01\r",
      "\u001b[K     |███████▊                        | 348 kB 1.2 MB/s eta 0:00:01\r",
      "\u001b[K     |████████                        | 358 kB 1.2 MB/s eta 0:00:01\r",
      "\u001b[K     |████████▏                       | 368 kB 1.2 MB/s eta 0:00:01\r",
      "\u001b[K     |████████▍                       | 378 kB 1.2 MB/s eta 0:00:01\r",
      "\u001b[K     |████████▋                       | 389 kB 1.2 MB/s eta 0:00:01\r",
      "\u001b[K     |████████▉                       | 399 kB 1.2 MB/s eta 0:00:01\r",
      "\u001b[K     |█████████                       | 409 kB 1.2 MB/s eta 0:00:01\r",
      "\u001b[K     |█████████▎                      | 419 kB 1.2 MB/s eta 0:00:01\r",
      "\u001b[K     |█████████▌                      | 430 kB 1.2 MB/s eta 0:00:01\r",
      "\u001b[K     |█████████▊                      | 440 kB 1.2 MB/s eta 0:00:01\r",
      "\u001b[K     |██████████                      | 450 kB 1.2 MB/s eta 0:00:01\r",
      "\u001b[K     |██████████▏                     | 460 kB 1.2 MB/s eta 0:00:01\r",
      "\u001b[K     |██████████▍                     | 471 kB 1.2 MB/s eta 0:00:01"
     ]
    },
    {
     "name": "stdout",
     "output_type": "stream",
     "text": [
      "\r",
      "\u001b[K     |██████████▋                     | 481 kB 1.2 MB/s eta 0:00:01\r",
      "\u001b[K     |██████████▉                     | 491 kB 1.2 MB/s eta 0:00:01\r",
      "\u001b[K     |███████████                     | 501 kB 1.2 MB/s eta 0:00:01\r",
      "\u001b[K     |███████████▎                    | 512 kB 1.2 MB/s eta 0:00:01\r",
      "\u001b[K     |███████████▌                    | 522 kB 1.2 MB/s eta 0:00:01\r",
      "\u001b[K     |███████████▊                    | 532 kB 1.2 MB/s eta 0:00:01\r",
      "\u001b[K     |████████████                    | 542 kB 1.2 MB/s eta 0:00:01\r",
      "\u001b[K     |████████████▎                   | 552 kB 1.2 MB/s eta 0:00:01\r",
      "\u001b[K     |████████████▌                   | 563 kB 1.2 MB/s eta 0:00:01\r",
      "\u001b[K     |████████████▊                   | 573 kB 1.2 MB/s eta 0:00:01\r",
      "\u001b[K     |█████████████                   | 583 kB 1.2 MB/s eta 0:00:01\r",
      "\u001b[K     |█████████████▏                  | 593 kB 1.2 MB/s eta 0:00:01\r",
      "\u001b[K     |█████████████▍                  | 604 kB 1.2 MB/s eta 0:00:01\r",
      "\u001b[K     |█████████████▋                  | 614 kB 1.2 MB/s eta 0:00:01\r",
      "\u001b[K     |█████████████▉                  | 624 kB 1.2 MB/s eta 0:00:01\r",
      "\u001b[K     |██████████████                  | 634 kB 1.2 MB/s eta 0:00:01\r",
      "\u001b[K     |██████████████▎                 | 645 kB 1.2 MB/s eta 0:00:01\r",
      "\u001b[K     |██████████████▌                 | 655 kB 1.2 MB/s eta 0:00:01"
     ]
    },
    {
     "name": "stdout",
     "output_type": "stream",
     "text": [
      "\r",
      "\u001b[K     |██████████████▊                 | 665 kB 1.2 MB/s eta 0:00:01\r",
      "\u001b[K     |███████████████                 | 675 kB 1.2 MB/s eta 0:00:01\r",
      "\u001b[K     |███████████████▏                | 686 kB 1.2 MB/s eta 0:00:01\r",
      "\u001b[K     |███████████████▍                | 696 kB 1.2 MB/s eta 0:00:01\r",
      "\u001b[K     |███████████████▋                | 706 kB 1.2 MB/s eta 0:00:01\r",
      "\u001b[K     |███████████████▉                | 716 kB 1.2 MB/s eta 0:00:01\r",
      "\u001b[K     |████████████████                | 727 kB 1.2 MB/s eta 0:00:01\r",
      "\u001b[K     |████████████████▎               | 737 kB 1.2 MB/s eta 0:00:01\r",
      "\u001b[K     |████████████████▌               | 747 kB 1.2 MB/s eta 0:00:01\r",
      "\u001b[K     |████████████████▊               | 757 kB 1.2 MB/s eta 0:00:01\r",
      "\u001b[K     |█████████████████               | 768 kB 1.2 MB/s eta 0:00:01\r",
      "\u001b[K     |█████████████████▏              | 778 kB 1.2 MB/s eta 0:00:01\r",
      "\u001b[K     |█████████████████▍              | 788 kB 1.2 MB/s eta 0:00:01\r",
      "\u001b[K     |█████████████████▋              | 798 kB 1.2 MB/s eta 0:00:01\r",
      "\u001b[K     |█████████████████▉              | 808 kB 1.2 MB/s eta 0:00:01\r",
      "\u001b[K     |██████████████████▏             | 819 kB 1.2 MB/s eta 0:00:01\r",
      "\u001b[K     |██████████████████▍             | 829 kB 1.2 MB/s eta 0:00:01\r",
      "\u001b[K     |██████████████████▋             | 839 kB 1.2 MB/s eta 0:00:01\r",
      "\u001b[K     |██████████████████▉             | 849 kB 1.2 MB/s eta 0:00:01\r",
      "\u001b[K     |███████████████████             | 860 kB 1.2 MB/s eta 0:00:01\r",
      "\u001b[K     |███████████████████▎            | 870 kB 1.2 MB/s eta 0:00:01"
     ]
    },
    {
     "name": "stdout",
     "output_type": "stream",
     "text": [
      "\r",
      "\u001b[K     |███████████████████▌            | 880 kB 1.2 MB/s eta 0:00:01\r",
      "\u001b[K     |███████████████████▊            | 890 kB 1.2 MB/s eta 0:00:01\r",
      "\u001b[K     |████████████████████            | 901 kB 1.2 MB/s eta 0:00:01\r",
      "\u001b[K     |████████████████████▏           | 911 kB 1.2 MB/s eta 0:00:01\r",
      "\u001b[K     |████████████████████▍           | 921 kB 1.2 MB/s eta 0:00:01\r",
      "\u001b[K     |████████████████████▋           | 931 kB 1.2 MB/s eta 0:00:01\r",
      "\u001b[K     |████████████████████▉           | 942 kB 1.2 MB/s eta 0:00:01\r",
      "\u001b[K     |█████████████████████           | 952 kB 1.2 MB/s eta 0:00:01\r",
      "\u001b[K     |█████████████████████▎          | 962 kB 1.2 MB/s eta 0:00:01\r",
      "\u001b[K     |█████████████████████▌          | 972 kB 1.2 MB/s eta 0:00:01\r",
      "\u001b[K     |█████████████████████▊          | 983 kB 1.2 MB/s eta 0:00:01\r",
      "\u001b[K     |██████████████████████          | 993 kB 1.2 MB/s eta 0:00:01\r",
      "\u001b[K     |██████████████████████▏         | 1.0 MB 1.2 MB/s eta 0:00:01\r",
      "\u001b[K     |██████████████████████▍         | 1.0 MB 1.2 MB/s eta 0:00:01\r",
      "\u001b[K     |██████████████████████▋         | 1.0 MB 1.2 MB/s eta 0:00:01\r",
      "\u001b[K     |██████████████████████▉         | 1.0 MB 1.2 MB/s eta 0:00:01\r",
      "\u001b[K     |███████████████████████         | 1.0 MB 1.2 MB/s eta 0:00:01\r",
      "\u001b[K     |███████████████████████▎        | 1.1 MB 1.2 MB/s eta 0:00:01\r",
      "\u001b[K     |███████████████████████▌        | 1.1 MB 1.2 MB/s eta 0:00:01\r",
      "\u001b[K     |███████████████████████▊        | 1.1 MB 1.2 MB/s eta 0:00:01\r",
      "\u001b[K     |████████████████████████        | 1.1 MB 1.2 MB/s eta 0:00:01\r",
      "\u001b[K     |████████████████████████▎       | 1.1 MB 1.2 MB/s eta 0:00:01\r",
      "\u001b[K     |████████████████████████▌       | 1.1 MB 1.2 MB/s eta 0:00:01"
     ]
    },
    {
     "name": "stdout",
     "output_type": "stream",
     "text": [
      "\r",
      "\u001b[K     |████████████████████████▊       | 1.1 MB 1.2 MB/s eta 0:00:01\r",
      "\u001b[K     |█████████████████████████       | 1.1 MB 1.2 MB/s eta 0:00:01\r",
      "\u001b[K     |█████████████████████████▏      | 1.1 MB 1.2 MB/s eta 0:00:01\r",
      "\u001b[K     |█████████████████████████▍      | 1.1 MB 1.2 MB/s eta 0:00:01\r",
      "\u001b[K     |█████████████████████████▋      | 1.2 MB 1.2 MB/s eta 0:00:01\r",
      "\u001b[K     |█████████████████████████▉      | 1.2 MB 1.2 MB/s eta 0:00:01\r",
      "\u001b[K     |██████████████████████████      | 1.2 MB 1.2 MB/s eta 0:00:01\r",
      "\u001b[K     |██████████████████████████▎     | 1.2 MB 1.2 MB/s eta 0:00:01\r",
      "\u001b[K     |██████████████████████████▌     | 1.2 MB 1.2 MB/s eta 0:00:01\r",
      "\u001b[K     |██████████████████████████▊     | 1.2 MB 1.2 MB/s eta 0:00:01\r",
      "\u001b[K     |███████████████████████████     | 1.2 MB 1.2 MB/s eta 0:00:01\r",
      "\u001b[K     |███████████████████████████▏    | 1.2 MB 1.2 MB/s eta 0:00:01\r",
      "\u001b[K     |███████████████████████████▍    | 1.2 MB 1.2 MB/s eta 0:00:01\r",
      "\u001b[K     |███████████████████████████▋    | 1.2 MB 1.2 MB/s eta 0:00:01\r",
      "\u001b[K     |███████████████████████████▉    | 1.3 MB 1.2 MB/s eta 0:00:01\r",
      "\u001b[K     |████████████████████████████    | 1.3 MB 1.2 MB/s eta 0:00:01\r",
      "\u001b[K     |████████████████████████████▎   | 1.3 MB 1.2 MB/s eta 0:00:01\r",
      "\u001b[K     |████████████████████████████▌   | 1.3 MB 1.2 MB/s eta 0:00:01\r",
      "\u001b[K     |████████████████████████████▊   | 1.3 MB 1.2 MB/s eta 0:00:01\r",
      "\u001b[K     |█████████████████████████████   | 1.3 MB 1.2 MB/s eta 0:00:01\r",
      "\u001b[K     |█████████████████████████████▏  | 1.3 MB 1.2 MB/s eta 0:00:01\r",
      "\u001b[K     |█████████████████████████████▍  | 1.3 MB 1.2 MB/s eta 0:00:01\r",
      "\u001b[K     |█████████████████████████████▋  | 1.3 MB 1.2 MB/s eta 0:00:01\r",
      "\u001b[K     |██████████████████████████████  | 1.4 MB 1.2 MB/s eta 0:00:01\r",
      "\u001b[K     |██████████████████████████████▏ | 1.4 MB 1.2 MB/s eta 0:00:01\r",
      "\u001b[K     |██████████████████████████████▍ | 1.4 MB 1.2 MB/s eta 0:00:01"
     ]
    },
    {
     "name": "stdout",
     "output_type": "stream",
     "text": [
      "\r",
      "\u001b[K     |██████████████████████████████▋ | 1.4 MB 1.2 MB/s eta 0:00:01\r",
      "\u001b[K     |██████████████████████████████▉ | 1.4 MB 1.2 MB/s eta 0:00:01\r",
      "\u001b[K     |███████████████████████████████ | 1.4 MB 1.2 MB/s eta 0:00:01\r",
      "\u001b[K     |███████████████████████████████▎| 1.4 MB 1.2 MB/s eta 0:00:01\r",
      "\u001b[K     |███████████████████████████████▌| 1.4 MB 1.2 MB/s eta 0:00:01\r",
      "\u001b[K     |███████████████████████████████▊| 1.4 MB 1.2 MB/s eta 0:00:01\r",
      "\u001b[K     |████████████████████████████████| 1.4 MB 1.2 MB/s eta 0:00:01\r",
      "\u001b[K     |████████████████████████████████| 1.4 MB 1.2 MB/s \r\n"
     ]
    },
    {
     "name": "stdout",
     "output_type": "stream",
     "text": [
      "\u001b[?25hBuilding wheels for collected packages: kenlm\r\n"
     ]
    },
    {
     "name": "stdout",
     "output_type": "stream",
     "text": [
      "  Building wheel for kenlm (setup.py) ... \u001b[?25l-"
     ]
    },
    {
     "name": "stdout",
     "output_type": "stream",
     "text": [
      "\b \b\\"
     ]
    },
    {
     "name": "stdout",
     "output_type": "stream",
     "text": [
      "\b \b|"
     ]
    },
    {
     "name": "stdout",
     "output_type": "stream",
     "text": [
      "\b \b/"
     ]
    },
    {
     "name": "stdout",
     "output_type": "stream",
     "text": [
      "\b \b-"
     ]
    },
    {
     "name": "stdout",
     "output_type": "stream",
     "text": [
      "\b \b\\"
     ]
    },
    {
     "name": "stdout",
     "output_type": "stream",
     "text": [
      "\b \b|"
     ]
    },
    {
     "name": "stdout",
     "output_type": "stream",
     "text": [
      "\b \b/"
     ]
    },
    {
     "name": "stdout",
     "output_type": "stream",
     "text": [
      "\b \b-"
     ]
    },
    {
     "name": "stdout",
     "output_type": "stream",
     "text": [
      "\b \b\\"
     ]
    },
    {
     "name": "stdout",
     "output_type": "stream",
     "text": [
      "\b \b|"
     ]
    },
    {
     "name": "stdout",
     "output_type": "stream",
     "text": [
      "\b \b/"
     ]
    },
    {
     "name": "stdout",
     "output_type": "stream",
     "text": [
      "\b \b-"
     ]
    },
    {
     "name": "stdout",
     "output_type": "stream",
     "text": [
      "\b \b\\"
     ]
    },
    {
     "name": "stdout",
     "output_type": "stream",
     "text": [
      "\b \b|"
     ]
    },
    {
     "name": "stdout",
     "output_type": "stream",
     "text": [
      "\b \b/"
     ]
    },
    {
     "name": "stdout",
     "output_type": "stream",
     "text": [
      "\b \b-"
     ]
    },
    {
     "name": "stdout",
     "output_type": "stream",
     "text": [
      "\b \b\\"
     ]
    },
    {
     "name": "stdout",
     "output_type": "stream",
     "text": [
      "\b \b|"
     ]
    },
    {
     "name": "stdout",
     "output_type": "stream",
     "text": [
      "\b \b/"
     ]
    },
    {
     "name": "stdout",
     "output_type": "stream",
     "text": [
      "\b \b-"
     ]
    },
    {
     "name": "stdout",
     "output_type": "stream",
     "text": [
      "\b \b\\"
     ]
    },
    {
     "name": "stdout",
     "output_type": "stream",
     "text": [
      "\b \b|"
     ]
    },
    {
     "name": "stdout",
     "output_type": "stream",
     "text": [
      "\b \b/"
     ]
    },
    {
     "name": "stdout",
     "output_type": "stream",
     "text": [
      "\b \b-"
     ]
    }
   ],
   "source": [
    "!pip install kenlm"
   ]
  },
  {
   "cell_type": "code",
   "execution_count": null,
   "id": "prerequisite-lottery",
   "metadata": {
    "execution": {
     "iopub.execute_input": "2021-05-31T11:47:48.153699Z",
     "iopub.status.busy": "2021-05-31T11:47:48.153383Z",
     "iopub.status.idle": "2021-05-31T11:47:48.170033Z",
     "shell.execute_reply": "2021-05-31T11:47:48.167589Z",
     "shell.execute_reply.started": "2021-05-31T11:47:48.153661Z"
    },
    "papermill": {
     "duration": null,
     "end_time": null,
     "exception": null,
     "start_time": null,
     "status": "pending"
    },
    "tags": []
   },
   "outputs": [],
   "source": [
    "%cd /tmp"
   ]
  },
  {
   "cell_type": "code",
   "execution_count": null,
   "id": "adopted-tenant",
   "metadata": {
    "execution": {
     "iopub.execute_input": "2021-05-31T11:47:48.174373Z",
     "iopub.status.busy": "2021-05-31T11:47:48.173826Z",
     "iopub.status.idle": "2021-05-31T11:47:52.615118Z",
     "shell.execute_reply": "2021-05-31T11:47:52.614079Z",
     "shell.execute_reply.started": "2021-05-31T11:47:48.174342Z"
    },
    "papermill": {
     "duration": null,
     "end_time": null,
     "exception": null,
     "start_time": null,
     "status": "pending"
    },
    "tags": []
   },
   "outputs": [],
   "source": [
    "!git clone https://github.com/jimregan/fairseq/ --branch issue3581"
   ]
  },
  {
   "cell_type": "code",
   "execution_count": null,
   "id": "prostate-latex",
   "metadata": {
    "execution": {
     "iopub.execute_input": "2021-05-25T22:47:02.096273Z",
     "iopub.status.busy": "2021-05-25T22:47:02.095783Z",
     "iopub.status.idle": "2021-05-25T22:47:04.527585Z",
     "shell.execute_reply": "2021-05-25T22:47:04.526333Z",
     "shell.execute_reply.started": "2021-05-25T22:47:02.096238Z"
    },
    "papermill": {
     "duration": null,
     "end_time": null,
     "exception": null,
     "start_time": null,
     "status": "pending"
    },
    "tags": []
   },
   "outputs": [],
   "source": [
    "!git clone https://github.com/kpu/kenlm"
   ]
  },
  {
   "cell_type": "code",
   "execution_count": null,
   "id": "corrected-differential",
   "metadata": {
    "papermill": {
     "duration": null,
     "end_time": null,
     "exception": null,
     "start_time": null,
     "status": "pending"
    },
    "tags": []
   },
   "outputs": [],
   "source": [
    "%%capture\n",
    "!apt-get -y install libeigen3-dev liblzma-dev zlib1g-dev libbz2-dev"
   ]
  },
  {
   "cell_type": "code",
   "execution_count": null,
   "id": "bound-portsmouth",
   "metadata": {
    "papermill": {
     "duration": null,
     "end_time": null,
     "exception": null,
     "start_time": null,
     "status": "pending"
    },
    "tags": []
   },
   "outputs": [],
   "source": [
    "%%capture\n",
    "%cd kenlm\n",
    "!mkdir build\n",
    "%cd build\n",
    "!cmake ..\n",
    "!make -j 4\n",
    "%cd /tmp"
   ]
  },
  {
   "cell_type": "code",
   "execution_count": null,
   "id": "criminal-caution",
   "metadata": {
    "execution": {
     "iopub.execute_input": "2021-05-25T22:58:58.397847Z",
     "iopub.status.busy": "2021-05-25T22:58:58.397461Z",
     "iopub.status.idle": "2021-05-25T22:58:58.402393Z",
     "shell.execute_reply": "2021-05-25T22:58:58.401536Z",
     "shell.execute_reply.started": "2021-05-25T22:58:58.397816Z"
    },
    "papermill": {
     "duration": null,
     "end_time": null,
     "exception": null,
     "start_time": null,
     "status": "pending"
    },
    "tags": []
   },
   "outputs": [],
   "source": [
    "import os\n",
    "os.environ['PATH'] = f\"{os.environ['PATH']}:/tmp/kenlm/build/bin/\"\n",
    "os.environ['FAIRSEQ_ROOT'] = '/tmp/fairseq'"
   ]
  },
  {
   "cell_type": "code",
   "execution_count": null,
   "id": "contrary-silence",
   "metadata": {
    "execution": {
     "iopub.execute_input": "2021-05-31T11:51:49.832611Z",
     "iopub.status.busy": "2021-05-31T11:51:49.832055Z",
     "iopub.status.idle": "2021-05-31T11:51:49.839650Z",
     "shell.execute_reply": "2021-05-31T11:51:49.838625Z",
     "shell.execute_reply.started": "2021-05-31T11:51:49.832574Z"
    },
    "papermill": {
     "duration": null,
     "end_time": null,
     "exception": null,
     "start_time": null,
     "status": "pending"
    },
    "tags": []
   },
   "outputs": [],
   "source": [
    "%cd /tmp/fairseq/"
   ]
  },
  {
   "cell_type": "code",
   "execution_count": null,
   "id": "scenic-curtis",
   "metadata": {
    "papermill": {
     "duration": null,
     "end_time": null,
     "exception": null,
     "start_time": null,
     "status": "pending"
    },
    "tags": []
   },
   "outputs": [],
   "source": [
    "%%capture\n",
    "!python setup.py install"
   ]
  },
  {
   "cell_type": "code",
   "execution_count": null,
   "id": "refined-county",
   "metadata": {
    "papermill": {
     "duration": null,
     "end_time": null,
     "exception": null,
     "start_time": null,
     "status": "pending"
    },
    "tags": []
   },
   "outputs": [],
   "source": [
    "%cd /tmp/fairseq/"
   ]
  },
  {
   "cell_type": "code",
   "execution_count": null,
   "id": "european-rugby",
   "metadata": {
    "papermill": {
     "duration": null,
     "end_time": null,
     "exception": null,
     "start_time": null,
     "status": "pending"
    },
    "tags": []
   },
   "outputs": [],
   "source": [
    "os.environ['HYDRA_FULL_ERROR'] = '1'"
   ]
  },
  {
   "cell_type": "markdown",
   "id": "relative-layout",
   "metadata": {
    "papermill": {
     "duration": null,
     "end_time": null,
     "exception": null,
     "start_time": null,
     "status": "pending"
    },
    "tags": []
   },
   "source": [
    "## GAN"
   ]
  },
  {
   "cell_type": "code",
   "execution_count": null,
   "id": "young-manor",
   "metadata": {
    "execution": {
     "iopub.execute_input": "2021-05-30T16:46:39.899754Z",
     "iopub.status.busy": "2021-05-30T16:46:39.899290Z",
     "iopub.status.idle": "2021-05-30T16:46:40.650582Z",
     "shell.execute_reply": "2021-05-30T16:46:40.649128Z",
     "shell.execute_reply.started": "2021-05-30T16:46:39.899633Z"
    },
    "papermill": {
     "duration": null,
     "end_time": null,
     "exception": null,
     "start_time": null,
     "status": "pending"
    },
    "tags": []
   },
   "outputs": [],
   "source": [
    "!ls /kaggle/input/wav2vec-u-cv-swedish-audio/"
   ]
  },
  {
   "cell_type": "code",
   "execution_count": null,
   "id": "average-harris",
   "metadata": {
    "papermill": {
     "duration": null,
     "end_time": null,
     "exception": null,
     "start_time": null,
     "status": "pending"
    },
    "tags": []
   },
   "outputs": [],
   "source": [
    "%%writefile rungan.sh\n",
    "PREFIX=w2v_unsup_gan_xp\n",
    "#TASK_DATA=/path/to/features/unfiltered/precompute_unfiltered_pca512_cls128_mean_pooled\n",
    "TASK_DATA=/kaggle/input/wav2vec-u-cv-swedish-audio/precompute_pca512_cls128_mean_pooled/\n",
    "#TEXT_DATA=/path/to/data  # path to fairseq-preprocessed GAN data\n",
    "TEXT_DATA=/kaggle/input/wav2vec-u-cv-swedish-text-prep/preppedtext/phones/\n",
    "#KENLM_PATH=/path/to/data/kenlm.phn.o4.bin  # KenLM 4-gram phoneme language model (LM data = GAN data here)\n",
    "KENLM_PATH=/kaggle/input/wav2vec-u-cv-swedish-text-prep/preppedtext/phones/lm.phones.filtered.04.bin\n",
    "\n",
    "PREFIX=$PREFIX fairseq-hydra-train \\\n",
    "\t-m --config-dir fairseq/config/model/wav2vecu/gan \\\n",
    "\t--config-name w2vu \\\n",
    "\ttask.data=${TASK_DATA} \\\n",
    "\ttask.text_data=${TEXT_DATA} \\\n",
    "\ttask.kenlm_path=${KENLM_PATH} \\\n",
    "\tcheckpoint.no_epoch_checkpoints=false \\\n",
    "\tcheckpoint.save_dir=/kaggle/working \\\n",
    "\t'common.seed=range(0,5)'"
   ]
  },
  {
   "cell_type": "code",
   "execution_count": null,
   "id": "curious-retail",
   "metadata": {
    "papermill": {
     "duration": null,
     "end_time": null,
     "exception": null,
     "start_time": null,
     "status": "pending"
    },
    "tags": []
   },
   "outputs": [],
   "source": [
    "!bash rungan.sh"
   ]
  }
 ],
 "metadata": {
  "kernelspec": {
   "display_name": "Python 3",
   "language": "python",
   "name": "python3"
  },
  "language_info": {
   "codemirror_mode": {
    "name": "ipython",
    "version": 3
   },
   "file_extension": ".py",
   "mimetype": "text/x-python",
   "name": "python",
   "nbconvert_exporter": "python",
   "pygments_lexer": "ipython3",
   "version": "3.6.4"
  },
  "papermill": {
   "default_parameters": {},
   "duration": null,
   "end_time": null,
   "environment_variables": {},
   "exception": null,
   "input_path": "__notebook__.ipynb",
   "output_path": "__notebook__.ipynb",
   "parameters": {},
   "start_time": "2021-05-31T13:23:45.707038",
   "version": "2.3.3"
  }
 },
 "nbformat": 4,
 "nbformat_minor": 5
}