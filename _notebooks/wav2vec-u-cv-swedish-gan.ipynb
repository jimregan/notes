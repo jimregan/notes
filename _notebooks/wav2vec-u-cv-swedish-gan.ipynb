{
 "cells": [
  {
   "cell_type": "markdown",
   "id": "altered-terror",
   "metadata": {
    "papermill": {
     "duration": 0.012998,
     "end_time": "2021-05-30T21:55:47.427926",
     "exception": false,
     "start_time": "2021-05-30T21:55:47.414928",
     "status": "completed"
    },
    "tags": []
   },
   "source": [
    "## Preparation"
   ]
  },
  {
   "cell_type": "code",
   "execution_count": 1,
   "id": "every-spanish",
   "metadata": {
    "_cell_guid": "b1076dfc-b9ad-4769-8c92-a6c4dae69d19",
    "_uuid": "8f2839f25d086af736a60e9eeb907d3b93b6e0e5",
    "execution": {
     "iopub.execute_input": "2021-05-30T21:55:47.478051Z",
     "iopub.status.busy": "2021-05-30T21:55:47.474885Z",
     "iopub.status.idle": "2021-05-30T22:00:03.489969Z",
     "shell.execute_reply": "2021-05-30T22:00:03.490893Z",
     "shell.execute_reply.started": "2021-05-30T19:07:03.966422Z"
    },
    "papermill": {
     "duration": 256.052004,
     "end_time": "2021-05-30T22:00:03.492129",
     "exception": false,
     "start_time": "2021-05-30T21:55:47.440125",
     "status": "completed"
    },
    "tags": []
   },
   "outputs": [],
   "source": [
    "%%capture\n",
    "!conda install -c pykaldi pykaldi -y"
   ]
  },
  {
   "cell_type": "code",
   "execution_count": 2,
   "id": "australian-transaction",
   "metadata": {
    "execution": {
     "iopub.execute_input": "2021-05-30T22:00:03.529438Z",
     "iopub.status.busy": "2021-05-30T22:00:03.528630Z",
     "iopub.status.idle": "2021-05-30T22:00:03.537511Z",
     "shell.execute_reply": "2021-05-30T22:00:03.536495Z"
    },
    "papermill": {
     "duration": 0.030421,
     "end_time": "2021-05-30T22:00:03.537805",
     "exception": false,
     "start_time": "2021-05-30T22:00:03.507384",
     "status": "completed"
    },
    "tags": []
   },
   "outputs": [
    {
     "name": "stdout",
     "output_type": "stream",
     "text": [
      "/tmp\n"
     ]
    }
   ],
   "source": [
    "%cd /tmp"
   ]
  },
  {
   "cell_type": "code",
   "execution_count": 3,
   "id": "hollow-martin",
   "metadata": {
    "execution": {
     "iopub.execute_input": "2021-05-30T22:00:03.573715Z",
     "iopub.status.busy": "2021-05-30T22:00:03.569198Z",
     "iopub.status.idle": "2021-05-30T22:00:09.479062Z",
     "shell.execute_reply": "2021-05-30T22:00:09.477776Z",
     "shell.execute_reply.started": "2021-05-25T22:38:20.218298Z"
    },
    "papermill": {
     "duration": 5.927684,
     "end_time": "2021-05-30T22:00:09.479268",
     "exception": false,
     "start_time": "2021-05-30T22:00:03.551584",
     "status": "completed"
    },
    "tags": []
   },
   "outputs": [
    {
     "name": "stdout",
     "output_type": "stream",
     "text": [
      "Cloning into 'fairseq'...\r\n",
      "remote: Enumerating objects: 28172, done.\u001b[K\r\n",
      "remote: Counting objects: 100% (586/586), done.\u001b[K\r\n",
      "remote: Compressing objects: 100% (339/339), done.\u001b[K\r\n",
      "remote: Total 28172 (delta 308), reused 465 (delta 234), pack-reused 27586\u001b[K\r\n",
      "Receiving objects: 100% (28172/28172), 11.87 MiB | 15.41 MiB/s, done.\r\n",
      "Resolving deltas: 100% (21127/21127), done.\r\n"
     ]
    }
   ],
   "source": [
    "!git clone https://github.com/pytorch/fairseq/"
   ]
  },
  {
   "cell_type": "code",
   "execution_count": 4,
   "id": "yellow-rouge",
   "metadata": {
    "execution": {
     "iopub.execute_input": "2021-05-30T22:00:09.537289Z",
     "iopub.status.busy": "2021-05-30T22:00:09.536531Z",
     "iopub.status.idle": "2021-05-30T22:00:11.730983Z",
     "shell.execute_reply": "2021-05-30T22:00:11.730387Z",
     "shell.execute_reply.started": "2021-05-25T22:47:02.096238Z"
    },
    "papermill": {
     "duration": 2.22856,
     "end_time": "2021-05-30T22:00:11.731170",
     "exception": false,
     "start_time": "2021-05-30T22:00:09.502610",
     "status": "completed"
    },
    "tags": []
   },
   "outputs": [
    {
     "name": "stdout",
     "output_type": "stream",
     "text": [
      "Cloning into 'kenlm'...\r\n",
      "remote: Enumerating objects: 13824, done.\u001b[K\r\n",
      "remote: Counting objects: 100% (137/137), done.\u001b[K\r\n",
      "remote: Compressing objects: 100% (79/79), done.\u001b[K\r\n",
      "remote: Total 13824 (delta 76), reused 92 (delta 45), pack-reused 13687\u001b[K\r\n",
      "Receiving objects: 100% (13824/13824), 5.49 MiB | 10.42 MiB/s, done.\r\n",
      "Resolving deltas: 100% (7956/7956), done.\r\n"
     ]
    }
   ],
   "source": [
    "!git clone https://github.com/kpu/kenlm"
   ]
  },
  {
   "cell_type": "code",
   "execution_count": 5,
   "id": "biological-collection",
   "metadata": {
    "execution": {
     "iopub.execute_input": "2021-05-30T22:00:11.796938Z",
     "iopub.status.busy": "2021-05-30T22:00:11.792706Z",
     "iopub.status.idle": "2021-05-30T22:00:18.638303Z",
     "shell.execute_reply": "2021-05-30T22:00:18.637686Z"
    },
    "papermill": {
     "duration": 6.879506,
     "end_time": "2021-05-30T22:00:18.638470",
     "exception": false,
     "start_time": "2021-05-30T22:00:11.758964",
     "status": "completed"
    },
    "tags": []
   },
   "outputs": [],
   "source": [
    "%%capture\n",
    "!apt-get -y install libeigen3-dev liblzma-dev zlib1g-dev libbz2-dev"
   ]
  },
  {
   "cell_type": "code",
   "execution_count": 6,
   "id": "revolutionary-asthma",
   "metadata": {
    "execution": {
     "iopub.execute_input": "2021-05-30T22:00:18.704601Z",
     "iopub.status.busy": "2021-05-30T22:00:18.703656Z",
     "iopub.status.idle": "2021-05-30T22:01:34.661934Z",
     "shell.execute_reply": "2021-05-30T22:01:34.661155Z"
    },
    "papermill": {
     "duration": 75.995506,
     "end_time": "2021-05-30T22:01:34.662255",
     "exception": false,
     "start_time": "2021-05-30T22:00:18.666749",
     "status": "completed"
    },
    "tags": []
   },
   "outputs": [],
   "source": [
    "%%capture\n",
    "%cd kenlm\n",
    "!mkdir build\n",
    "%cd build\n",
    "!cmake ..\n",
    "!make -j 4\n",
    "%cd /tmp"
   ]
  },
  {
   "cell_type": "code",
   "execution_count": 7,
   "id": "valid-exhaust",
   "metadata": {
    "execution": {
     "iopub.execute_input": "2021-05-30T22:01:34.722554Z",
     "iopub.status.busy": "2021-05-30T22:01:34.721881Z",
     "iopub.status.idle": "2021-05-30T22:01:34.723753Z",
     "shell.execute_reply": "2021-05-30T22:01:34.724200Z",
     "shell.execute_reply.started": "2021-05-25T22:58:58.397816Z"
    },
    "papermill": {
     "duration": 0.034224,
     "end_time": "2021-05-30T22:01:34.724374",
     "exception": false,
     "start_time": "2021-05-30T22:01:34.690150",
     "status": "completed"
    },
    "tags": []
   },
   "outputs": [],
   "source": [
    "import os\n",
    "os.environ['PATH'] = f\"{os.environ['PATH']}:/tmp/kenlm/build/bin/\"\n",
    "os.environ['FAIRSEQ_ROOT'] = '/tmp/fairseq'"
   ]
  },
  {
   "cell_type": "code",
   "execution_count": 8,
   "id": "reverse-membrane",
   "metadata": {
    "execution": {
     "iopub.execute_input": "2021-05-30T22:01:34.782391Z",
     "iopub.status.busy": "2021-05-30T22:01:34.781719Z",
     "iopub.status.idle": "2021-05-30T22:01:34.787756Z",
     "shell.execute_reply": "2021-05-30T22:01:34.788370Z",
     "shell.execute_reply.started": "2021-05-25T22:55:38.373919Z"
    },
    "papermill": {
     "duration": 0.037066,
     "end_time": "2021-05-30T22:01:34.788558",
     "exception": false,
     "start_time": "2021-05-30T22:01:34.751492",
     "status": "completed"
    },
    "tags": []
   },
   "outputs": [
    {
     "name": "stdout",
     "output_type": "stream",
     "text": [
      "/tmp/fairseq\n"
     ]
    }
   ],
   "source": [
    "%cd /tmp/fairseq/"
   ]
  },
  {
   "cell_type": "code",
   "execution_count": 9,
   "id": "limiting-diary",
   "metadata": {
    "execution": {
     "iopub.execute_input": "2021-05-30T22:01:34.852215Z",
     "iopub.status.busy": "2021-05-30T22:01:34.848122Z",
     "iopub.status.idle": "2021-05-30T22:02:29.197703Z",
     "shell.execute_reply": "2021-05-30T22:02:29.196934Z"
    },
    "papermill": {
     "duration": 54.38186,
     "end_time": "2021-05-30T22:02:29.197864",
     "exception": false,
     "start_time": "2021-05-30T22:01:34.816004",
     "status": "completed"
    },
    "tags": []
   },
   "outputs": [
    {
     "name": "stdout",
     "output_type": "stream",
     "text": [
      "Processing /tmp/fairseq\r\n",
      "  Installing build dependencies ... \u001b[?25l-\b \b\\\b \b|\b \b/\b \b-\b \b\\\b \bdone\r\n",
      "\u001b[?25h  Getting requirements to build wheel ... \u001b[?25ldone\r\n",
      "\u001b[?25h  Installing backend dependencies ... \u001b[?25l-\b \b\\\b \b|\b \b/\b \b-\b \bdone\r\n",
      "\u001b[?25h    Preparing wheel metadata ... \u001b[?25l-\b \b\\\b \bdone\r\n",
      "\u001b[?25hCollecting sacrebleu>=1.4.12\r\n",
      "  Downloading sacrebleu-1.5.1-py3-none-any.whl (54 kB)\r\n",
      "\u001b[K     |████████████████████████████████| 54 kB 670 kB/s \r\n",
      "\u001b[?25hRequirement already satisfied: regex in /opt/conda/lib/python3.7/site-packages (from fairseq==1.0.0a0+19793a7) (2021.3.17)\r\n",
      "Collecting omegaconf<2.1\r\n",
      "  Downloading omegaconf-2.0.6-py3-none-any.whl (36 kB)\r\n",
      "Requirement already satisfied: torch in /opt/conda/lib/python3.7/site-packages (from fairseq==1.0.0a0+19793a7) (1.7.0)\r\n",
      "Requirement already satisfied: numpy in /opt/conda/lib/python3.7/site-packages (from fairseq==1.0.0a0+19793a7) (1.19.5)\r\n",
      "Requirement already satisfied: cffi in /opt/conda/lib/python3.7/site-packages (from fairseq==1.0.0a0+19793a7) (1.14.5)\r\n",
      "Requirement already satisfied: cython in /opt/conda/lib/python3.7/site-packages (from fairseq==1.0.0a0+19793a7) (0.29.23)\r\n",
      "Requirement already satisfied: tqdm in /opt/conda/lib/python3.7/site-packages (from fairseq==1.0.0a0+19793a7) (4.59.0)\r\n",
      "Collecting hydra-core<1.1\r\n",
      "  Downloading hydra_core-1.0.6-py3-none-any.whl (123 kB)\r\n",
      "\u001b[K     |████████████████████████████████| 123 kB 1.6 MB/s \r\n",
      "\u001b[?25hCollecting importlib-resources\r\n",
      "  Downloading importlib_resources-5.1.4-py3-none-any.whl (26 kB)\r\n",
      "Collecting antlr4-python3-runtime==4.8\r\n",
      "  Downloading antlr4-python3-runtime-4.8.tar.gz (112 kB)\r\n",
      "\u001b[K     |████████████████████████████████| 112 kB 3.3 MB/s \r\n",
      "\u001b[?25hRequirement already satisfied: typing-extensions in /opt/conda/lib/python3.7/site-packages (from omegaconf<2.1->fairseq==1.0.0a0+19793a7) (3.7.4.3)\r\n",
      "Requirement already satisfied: PyYAML>=5.1.* in /opt/conda/lib/python3.7/site-packages (from omegaconf<2.1->fairseq==1.0.0a0+19793a7) (5.3.1)\r\n",
      "Collecting portalocker==2.0.0\r\n",
      "  Downloading portalocker-2.0.0-py2.py3-none-any.whl (11 kB)\r\n",
      "Requirement already satisfied: pycparser in /opt/conda/lib/python3.7/site-packages (from cffi->fairseq==1.0.0a0+19793a7) (2.20)\r\n",
      "Requirement already satisfied: zipp>=3.1.0 in /opt/conda/lib/python3.7/site-packages (from importlib-resources->hydra-core<1.1->fairseq==1.0.0a0+19793a7) (3.4.1)\r\n",
      "Requirement already satisfied: future in /opt/conda/lib/python3.7/site-packages (from torch->fairseq==1.0.0a0+19793a7) (0.18.2)\r\n",
      "Requirement already satisfied: dataclasses in /opt/conda/lib/python3.7/site-packages (from torch->fairseq==1.0.0a0+19793a7) (0.6)\r\n",
      "Building wheels for collected packages: fairseq, antlr4-python3-runtime\r\n",
      "  Building wheel for fairseq (PEP 517) ... \u001b[?25l-\b \b\\\b \b|\b \b/\b \b-\b \b\\\b \b|\b \b/\b \b-\b \b\\\b \b|\b \b/\b \b-\b \b\\\b \b|\b \b/\b \b-\b \b\\\b \b|\b \b/\b \bdone\r\n",
      "\u001b[?25h  Created wheel for fairseq: filename=fairseq-1.0.0a0+19793a7-cp37-cp37m-linux_x86_64.whl size=2041525 sha256=02be4b1de515499be608897d8a00f9c6a6dfb185aab22d6ca63ee3272488c6d8\r\n",
      "  Stored in directory: /tmp/pip-ephem-wheel-cache-95zz_c6t/wheels/e3/52/72/c9070e4abac84e3448568d15e13e9e42bb689c08614271d8f3\r\n",
      "  Building wheel for antlr4-python3-runtime (setup.py) ... \u001b[?25l-\b \b\\\b \b|\b \bdone\r\n",
      "\u001b[?25h  Created wheel for antlr4-python3-runtime: filename=antlr4_python3_runtime-4.8-py3-none-any.whl size=141230 sha256=a48d77e970ec1377bda17eb664bb51ddf02f254a2838653b046c905fa29ed472\r\n",
      "  Stored in directory: /root/.cache/pip/wheels/ca/33/b7/336836125fc9bb4ceaa4376d8abca10ca8bc84ddc824baea6c\r\n",
      "Successfully built fairseq antlr4-python3-runtime\r\n",
      "Installing collected packages: portalocker, omegaconf, importlib-resources, antlr4-python3-runtime, sacrebleu, hydra-core, fairseq\r\n",
      "  Attempting uninstall: portalocker\r\n",
      "    Found existing installation: portalocker 2.3.0\r\n",
      "    Uninstalling portalocker-2.3.0:\r\n",
      "      Successfully uninstalled portalocker-2.3.0\r\n",
      "Successfully installed antlr4-python3-runtime-4.8 fairseq-1.0.0a0+19793a7 hydra-core-1.0.6 importlib-resources-5.1.4 omegaconf-2.0.6 portalocker-2.0.0 sacrebleu-1.5.1\r\n"
     ]
    }
   ],
   "source": [
    "!pip install ."
   ]
  },
  {
   "cell_type": "code",
   "execution_count": 10,
   "id": "committed-leonard",
   "metadata": {
    "execution": {
     "iopub.execute_input": "2021-05-30T22:02:29.299608Z",
     "iopub.status.busy": "2021-05-30T22:02:29.298499Z",
     "iopub.status.idle": "2021-05-30T22:02:29.303284Z",
     "shell.execute_reply": "2021-05-30T22:02:29.303750Z"
    },
    "papermill": {
     "duration": 0.058083,
     "end_time": "2021-05-30T22:02:29.303924",
     "exception": false,
     "start_time": "2021-05-30T22:02:29.245841",
     "status": "completed"
    },
    "tags": []
   },
   "outputs": [
    {
     "name": "stdout",
     "output_type": "stream",
     "text": [
      "/tmp/fairseq/examples/wav2vec/unsupervised\n"
     ]
    }
   ],
   "source": [
    "%cd /tmp/fairseq/examples/wav2vec/unsupervised"
   ]
  },
  {
   "cell_type": "code",
   "execution_count": 11,
   "id": "behind-symposium",
   "metadata": {
    "execution": {
     "iopub.execute_input": "2021-05-30T22:02:29.405162Z",
     "iopub.status.busy": "2021-05-30T22:02:29.404423Z",
     "iopub.status.idle": "2021-05-30T22:02:29.406857Z",
     "shell.execute_reply": "2021-05-30T22:02:29.407401Z"
    },
    "papermill": {
     "duration": 0.055531,
     "end_time": "2021-05-30T22:02:29.407581",
     "exception": false,
     "start_time": "2021-05-30T22:02:29.352050",
     "status": "completed"
    },
    "tags": []
   },
   "outputs": [],
   "source": [
    "os.environ['HYDRA_FULL_ERROR'] = '1'"
   ]
  },
  {
   "cell_type": "markdown",
   "id": "preliminary-landscape",
   "metadata": {
    "papermill": {
     "duration": 0.047048,
     "end_time": "2021-05-30T22:02:29.501967",
     "exception": false,
     "start_time": "2021-05-30T22:02:29.454919",
     "status": "completed"
    },
    "tags": []
   },
   "source": [
    "## GAN"
   ]
  },
  {
   "cell_type": "code",
   "execution_count": 12,
   "id": "circular-hampshire",
   "metadata": {
    "execution": {
     "iopub.execute_input": "2021-05-30T22:02:29.602132Z",
     "iopub.status.busy": "2021-05-30T22:02:29.601391Z",
     "iopub.status.idle": "2021-05-30T22:02:30.339384Z",
     "shell.execute_reply": "2021-05-30T22:02:30.339933Z",
     "shell.execute_reply.started": "2021-05-30T16:46:39.899633Z"
    },
    "papermill": {
     "duration": 0.790934,
     "end_time": "2021-05-30T22:02:30.340151",
     "exception": false,
     "start_time": "2021-05-30T22:02:29.549217",
     "status": "completed"
    },
    "tags": []
   },
   "outputs": [
    {
     "name": "stdout",
     "output_type": "stream",
     "text": [
      "CLUS128\t\t    precompute_pca512_cls128_mean\t  train.npy\r\n",
      "__notebook__.ipynb  precompute_pca512_cls128_mean_pooled  train.phn\r\n",
      "__output__.json     test.lengths\t\t\t  train.tsv\r\n",
      "__results__.html    test.ltr\t\t\t\t  train.wrd\r\n",
      "custom.css\t    test.npy\t\t\t\t  valid.lengths\r\n",
      "dict.test\t    test.phn\t\t\t\t  valid.ltr\r\n",
      "dict.train\t    test.tsv\t\t\t\t  valid.npy\r\n",
      "dict.valid\t    test.wrd\t\t\t\t  valid.phn\r\n",
      "pca\t\t    train.lengths\t\t\t  valid.tsv\r\n",
      "precompute_pca512   train.ltr\t\t\t\t  valid.wrd\r\n"
     ]
    }
   ],
   "source": [
    "!ls /kaggle/input/wav2vec-u-cv-swedish-audio/"
   ]
  },
  {
   "cell_type": "code",
   "execution_count": 13,
   "id": "removed-filename",
   "metadata": {
    "execution": {
     "iopub.execute_input": "2021-05-30T22:02:30.443343Z",
     "iopub.status.busy": "2021-05-30T22:02:30.442420Z",
     "iopub.status.idle": "2021-05-30T22:02:30.446122Z",
     "shell.execute_reply": "2021-05-30T22:02:30.446713Z"
    },
    "papermill": {
     "duration": 0.058603,
     "end_time": "2021-05-30T22:02:30.446883",
     "exception": false,
     "start_time": "2021-05-30T22:02:30.388280",
     "status": "completed"
    },
    "tags": []
   },
   "outputs": [
    {
     "name": "stdout",
     "output_type": "stream",
     "text": [
      "Writing rungan.sh\n"
     ]
    }
   ],
   "source": [
    "%%writefile rungan.sh\n",
    "PREFIX=w2v_unsup_gan_xp\n",
    "#TASK_DATA=/path/to/features/unfiltered/precompute_unfiltered_pca512_cls128_mean_pooled\n",
    "TASK_DATA=/kaggle/input/wav2vec-u-cv-swedish-audio/precompute_pca512_cls128_mean_pooled/\n",
    "#TEXT_DATA=/path/to/data  # path to fairseq-preprocessed GAN data\n",
    "TEXT_DATA=/kaggle/input/wav2vec-u-cv-swedish-text-prep/preppedtext/phones/\n",
    "#KENLM_PATH=/path/to/data/kenlm.phn.o4.bin  # KenLM 4-gram phoneme language model (LM data = GAN data here)\n",
    "KENLM_PATH=/kaggle/input/wav2vec-u-cv-swedish-text-prep/preppedtext/phones/lm.phones.filtered.04.bin\n",
    "\n",
    "PREFIX=$PREFIX fairseq-hydra-train \\\n",
    "\t-m --config-dir /tmp/fairseq/examples/wav2vec/unsupervised \\\n",
    "\t--config-path ./config/gan \\\n",
    "\t--config-name w2vu \\\n",
    "\ttask._name='unpaired_audio_text' \\\n",
    "\ttask.data=${TASK_DATA} \\\n",
    "\ttask.text_data=${TEXT_DATA} \\\n",
    "\ttask.kenlm_path=${KENLM_PATH} \\\n",
    "\tcheckpoint.no_epoch_checkpoints=false \\\n",
    "\tcheckpoint.save_dir=/kaggle/working \\\n",
    "\t'common.seed=range(0,5)'"
   ]
  },
  {
   "cell_type": "code",
   "execution_count": 14,
   "id": "artistic-mumbai",
   "metadata": {
    "execution": {
     "iopub.execute_input": "2021-05-30T22:02:30.548804Z",
     "iopub.status.busy": "2021-05-30T22:02:30.548173Z",
     "iopub.status.idle": "2021-05-30T22:02:35.751683Z",
     "shell.execute_reply": "2021-05-30T22:02:35.752446Z"
    },
    "papermill": {
     "duration": 5.256868,
     "end_time": "2021-05-30T22:02:35.752706",
     "exception": false,
     "start_time": "2021-05-30T22:02:30.495838",
     "status": "completed"
    },
    "tags": []
   },
   "outputs": [
    {
     "name": "stdout",
     "output_type": "stream",
     "text": [
      "Traceback (most recent call last):\r\n",
      "  File \"/opt/conda/bin/fairseq-hydra-train\", line 8, in <module>\r\n",
      "    sys.exit(cli_main())\r\n",
      "  File \"/opt/conda/lib/python3.7/site-packages/fairseq_cli/hydra_train.py\", line 76, in cli_main\r\n",
      "    hydra_main()\r\n",
      "  File \"/opt/conda/lib/python3.7/site-packages/hydra/main.py\", line 37, in decorated_main\r\n",
      "    strict=strict,\r\n",
      "  File \"/opt/conda/lib/python3.7/site-packages/hydra/_internal/utils.py\", line 355, in _run_hydra\r\n",
      "    lambda: hydra.multirun(\r\n",
      "  File \"/opt/conda/lib/python3.7/site-packages/hydra/_internal/utils.py\", line 201, in run_and_report\r\n",
      "    raise ex\r\n",
      "  File \"/opt/conda/lib/python3.7/site-packages/hydra/_internal/utils.py\", line 198, in run_and_report\r\n",
      "    return func()\r\n",
      "  File \"/opt/conda/lib/python3.7/site-packages/hydra/_internal/utils.py\", line 358, in <lambda>\r\n",
      "    overrides=args.overrides,\r\n",
      "  File \"/opt/conda/lib/python3.7/site-packages/hydra/_internal/hydra.py\", line 128, in multirun\r\n",
      "    run_mode=RunMode.MULTIRUN,\r\n",
      "  File \"/opt/conda/lib/python3.7/site-packages/hydra/_internal/hydra.py\", line 505, in compose_config\r\n",
      "    self.config_loader.ensure_main_config_source_available()\r\n",
      "  File \"/opt/conda/lib/python3.7/site-packages/hydra/_internal/config_loader_impl.py\", line 139, in ensure_main_config_source_available\r\n",
      "    config_name=None, msg=msg, with_search_path=False\r\n",
      "  File \"/opt/conda/lib/python3.7/site-packages/hydra/_internal/config_loader_impl.py\", line 113, in missing_config_error\r\n",
      "    missing_cfg_file=config_name, message=add_search_path()\r\n",
      "hydra.errors.MissingConfigException: Primary config module 'fairseq_cli...config.gan' not found.\r\n",
      "Check that it's correct and contains an __init__.py file\r\n"
     ]
    }
   ],
   "source": [
    "!bash rungan.sh"
   ]
  }
 ],
 "metadata": {
  "kernelspec": {
   "display_name": "Python 3",
   "language": "python",
   "name": "python3"
  },
  "language_info": {
   "codemirror_mode": {
    "name": "ipython",
    "version": 3
   },
   "file_extension": ".py",
   "mimetype": "text/x-python",
   "name": "python",
   "nbconvert_exporter": "python",
   "pygments_lexer": "ipython3",
   "version": "3.7.10"
  },
  "papermill": {
   "default_parameters": {},
   "duration": 419.252772,
   "end_time": "2021-05-30T22:02:37.390696",
   "environment_variables": {},
   "exception": null,
   "input_path": "__notebook__.ipynb",
   "output_path": "__notebook__.ipynb",
   "parameters": {},
   "start_time": "2021-05-30T21:55:38.137924",
   "version": "2.3.3"
  }
 },
 "nbformat": 4,
 "nbformat_minor": 5
}
