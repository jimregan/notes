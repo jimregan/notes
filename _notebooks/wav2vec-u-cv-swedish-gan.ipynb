{
 "cells": [
  {
   "cell_type": "markdown",
   "id": "geological-style",
   "metadata": {
    "papermill": {
     "duration": 0.01304,
     "end_time": "2021-05-31T15:35:49.946070",
     "exception": false,
     "start_time": "2021-05-31T15:35:49.933030",
     "status": "completed"
    },
    "tags": []
   },
   "source": [
    "## Preparation"
   ]
  },
  {
   "cell_type": "code",
   "execution_count": 1,
   "id": "silent-quest",
   "metadata": {
    "_cell_guid": "b1076dfc-b9ad-4769-8c92-a6c4dae69d19",
    "_uuid": "8f2839f25d086af736a60e9eeb907d3b93b6e0e5",
    "execution": {
     "iopub.execute_input": "2021-05-31T15:35:49.995461Z",
     "iopub.status.busy": "2021-05-31T15:35:49.981604Z",
     "iopub.status.idle": "2021-05-31T15:39:50.246513Z",
     "shell.execute_reply": "2021-05-31T15:39:50.244216Z",
     "shell.execute_reply.started": "2021-05-31T11:43:46.770364Z"
    },
    "papermill": {
     "duration": 240.288526,
     "end_time": "2021-05-31T15:39:50.247006",
     "exception": false,
     "start_time": "2021-05-31T15:35:49.958480",
     "status": "completed"
    },
    "tags": []
   },
   "outputs": [],
   "source": [
    "%%capture\n",
    "!conda install -c pykaldi pykaldi -y"
   ]
  },
  {
   "cell_type": "code",
   "execution_count": 2,
   "id": "ethical-benefit",
   "metadata": {
    "execution": {
     "iopub.execute_input": "2021-05-31T15:39:50.285519Z",
     "iopub.status.busy": "2021-05-31T15:39:50.284705Z",
     "iopub.status.idle": "2021-05-31T15:39:50.290942Z",
     "shell.execute_reply": "2021-05-31T15:39:50.291458Z",
     "shell.execute_reply.started": "2021-05-31T13:58:07.987793Z"
    },
    "papermill": {
     "duration": 0.029852,
     "end_time": "2021-05-31T15:39:50.291641",
     "exception": false,
     "start_time": "2021-05-31T15:39:50.261789",
     "status": "completed"
    },
    "tags": []
   },
   "outputs": [
    {
     "name": "stdout",
     "output_type": "stream",
     "text": [
      "/tmp\n"
     ]
    }
   ],
   "source": [
    "%cd /tmp"
   ]
  },
  {
   "cell_type": "code",
   "execution_count": 3,
   "id": "purple-credits",
   "metadata": {
    "execution": {
     "iopub.execute_input": "2021-05-31T15:39:50.327920Z",
     "iopub.status.busy": "2021-05-31T15:39:50.327202Z",
     "iopub.status.idle": "2021-05-31T15:39:53.337242Z",
     "shell.execute_reply": "2021-05-31T15:39:53.336610Z",
     "shell.execute_reply.started": "2021-05-31T11:47:48.174342Z"
    },
    "papermill": {
     "duration": 3.032525,
     "end_time": "2021-05-31T15:39:53.337413",
     "exception": false,
     "start_time": "2021-05-31T15:39:50.304888",
     "status": "completed"
    },
    "tags": []
   },
   "outputs": [
    {
     "name": "stdout",
     "output_type": "stream",
     "text": [
      "Cloning into 'fairseq'...\r\n",
      "remote: Enumerating objects: 28260, done.\u001b[K\r\n",
      "remote: Counting objects: 100% (672/672), done.\u001b[K\r\n",
      "remote: Compressing objects: 100% (387/387), done.\u001b[K\r\n",
      "remote: Total 28260 (delta 360), reused 530 (delta 269), pack-reused 27588\u001b[K\r\n",
      "Receiving objects: 100% (28260/28260), 11.93 MiB | 17.25 MiB/s, done.\r\n",
      "Resolving deltas: 100% (21185/21185), done.\r\n"
     ]
    }
   ],
   "source": [
    "!git clone https://github.com/jimregan/fairseq/ --branch issue3581"
   ]
  },
  {
   "cell_type": "code",
   "execution_count": 4,
   "id": "sublime-crawford",
   "metadata": {
    "execution": {
     "iopub.execute_input": "2021-05-31T15:39:53.389270Z",
     "iopub.status.busy": "2021-05-31T15:39:53.385744Z",
     "iopub.status.idle": "2021-05-31T15:39:55.400213Z",
     "shell.execute_reply": "2021-05-31T15:39:55.399349Z",
     "shell.execute_reply.started": "2021-05-31T13:58:08.002832Z"
    },
    "papermill": {
     "duration": 2.041494,
     "end_time": "2021-05-31T15:39:55.400390",
     "exception": false,
     "start_time": "2021-05-31T15:39:53.358896",
     "status": "completed"
    },
    "tags": []
   },
   "outputs": [
    {
     "name": "stdout",
     "output_type": "stream",
     "text": [
      "Cloning into 'kenlm'...\r\n",
      "remote: Enumerating objects: 13824, done.\u001b[K\r\n",
      "remote: Counting objects: 100% (137/137), done.\u001b[K\r\n",
      "remote: Compressing objects: 100% (79/79), done.\u001b[K\r\n",
      "remote: Total 13824 (delta 76), reused 92 (delta 45), pack-reused 13687\u001b[K\r\n",
      "Receiving objects: 100% (13824/13824), 5.49 MiB | 11.23 MiB/s, done.\r\n",
      "Resolving deltas: 100% (7956/7956), done.\r\n"
     ]
    }
   ],
   "source": [
    "!git clone https://github.com/kpu/kenlm"
   ]
  },
  {
   "cell_type": "code",
   "execution_count": 5,
   "id": "technical-logging",
   "metadata": {
    "execution": {
     "iopub.execute_input": "2021-05-31T15:39:55.464344Z",
     "iopub.status.busy": "2021-05-31T15:39:55.463664Z",
     "iopub.status.idle": "2021-05-31T15:40:01.483940Z",
     "shell.execute_reply": "2021-05-31T15:40:01.484522Z",
     "shell.execute_reply.started": "2021-05-31T13:58:12.001162Z"
    },
    "papermill": {
     "duration": 6.05756,
     "end_time": "2021-05-31T15:40:01.484731",
     "exception": false,
     "start_time": "2021-05-31T15:39:55.427171",
     "status": "completed"
    },
    "tags": []
   },
   "outputs": [],
   "source": [
    "%%capture\n",
    "!apt-get -y install libeigen3-dev liblzma-dev zlib1g-dev libbz2-dev"
   ]
  },
  {
   "cell_type": "code",
   "execution_count": 6,
   "id": "funded-tucson",
   "metadata": {
    "execution": {
     "iopub.execute_input": "2021-05-31T15:40:01.546676Z",
     "iopub.status.busy": "2021-05-31T15:40:01.545737Z",
     "iopub.status.idle": "2021-05-31T15:41:16.057710Z",
     "shell.execute_reply": "2021-05-31T15:41:16.056858Z"
    },
    "papermill": {
     "duration": 74.547598,
     "end_time": "2021-05-31T15:41:16.058017",
     "exception": false,
     "start_time": "2021-05-31T15:40:01.510419",
     "status": "completed"
    },
    "tags": []
   },
   "outputs": [],
   "source": [
    "\n",
    "%%capture\n",
    "%cd kenlm\n",
    "!mkdir build\n",
    "%cd build\n",
    "!cmake ..\n",
    "!make -j 4\n",
    "%cd /tmp"
   ]
  },
  {
   "cell_type": "code",
   "execution_count": 7,
   "id": "registered-portable",
   "metadata": {
    "execution": {
     "iopub.execute_input": "2021-05-31T15:41:16.119906Z",
     "iopub.status.busy": "2021-05-31T15:41:16.119054Z",
     "iopub.status.idle": "2021-05-31T15:41:55.748346Z",
     "shell.execute_reply": "2021-05-31T15:41:55.747579Z",
     "shell.execute_reply.started": "2021-05-31T14:00:27.915818Z"
    },
    "papermill": {
     "duration": 39.662758,
     "end_time": "2021-05-31T15:41:55.748507",
     "exception": false,
     "start_time": "2021-05-31T15:41:16.085749",
     "status": "completed"
    },
    "tags": []
   },
   "outputs": [],
   "source": [
    "%%capture\n",
    "%cd /tmp/kenlm\n",
    "!python setup.py install\n",
    "%cd /tmp"
   ]
  },
  {
   "cell_type": "code",
   "execution_count": 8,
   "id": "visible-disease",
   "metadata": {
    "execution": {
     "iopub.execute_input": "2021-05-31T15:41:55.806775Z",
     "iopub.status.busy": "2021-05-31T15:41:55.806084Z",
     "iopub.status.idle": "2021-05-31T15:41:55.809627Z",
     "shell.execute_reply": "2021-05-31T15:41:55.808950Z",
     "shell.execute_reply.started": "2021-05-25T22:58:58.397816Z"
    },
    "papermill": {
     "duration": 0.034986,
     "end_time": "2021-05-31T15:41:55.809773",
     "exception": false,
     "start_time": "2021-05-31T15:41:55.774787",
     "status": "completed"
    },
    "tags": []
   },
   "outputs": [],
   "source": [
    "import os\n",
    "os.environ['PATH'] = f\"{os.environ['PATH']}:/tmp/kenlm/build/bin/\"\n",
    "os.environ['FAIRSEQ_ROOT'] = '/tmp/fairseq'"
   ]
  },
  {
   "cell_type": "code",
   "execution_count": 9,
   "id": "historical-benefit",
   "metadata": {
    "execution": {
     "iopub.execute_input": "2021-05-31T15:41:55.864907Z",
     "iopub.status.busy": "2021-05-31T15:41:55.864292Z",
     "iopub.status.idle": "2021-05-31T15:41:55.869859Z",
     "shell.execute_reply": "2021-05-31T15:41:55.870422Z",
     "shell.execute_reply.started": "2021-05-31T11:51:49.832574Z"
    },
    "papermill": {
     "duration": 0.034853,
     "end_time": "2021-05-31T15:41:55.870592",
     "exception": false,
     "start_time": "2021-05-31T15:41:55.835739",
     "status": "completed"
    },
    "tags": []
   },
   "outputs": [
    {
     "name": "stdout",
     "output_type": "stream",
     "text": [
      "/tmp/fairseq\n"
     ]
    }
   ],
   "source": [
    "%cd /tmp/fairseq/"
   ]
  },
  {
   "cell_type": "code",
   "execution_count": 10,
   "id": "flying-driver",
   "metadata": {
    "execution": {
     "iopub.execute_input": "2021-05-31T15:41:55.933253Z",
     "iopub.status.busy": "2021-05-31T15:41:55.928901Z",
     "iopub.status.idle": "2021-05-31T15:43:09.494823Z",
     "shell.execute_reply": "2021-05-31T15:43:09.494232Z"
    },
    "papermill": {
     "duration": 73.598115,
     "end_time": "2021-05-31T15:43:09.495033",
     "exception": false,
     "start_time": "2021-05-31T15:41:55.896918",
     "status": "completed"
    },
    "tags": []
   },
   "outputs": [],
   "source": [
    "%%capture\n",
    "!python setup.py install"
   ]
  },
  {
   "cell_type": "code",
   "execution_count": 11,
   "id": "infectious-wiring",
   "metadata": {
    "execution": {
     "iopub.execute_input": "2021-05-31T15:43:09.554982Z",
     "iopub.status.busy": "2021-05-31T15:43:09.554298Z",
     "iopub.status.idle": "2021-05-31T15:43:09.556911Z",
     "shell.execute_reply": "2021-05-31T15:43:09.557437Z"
    },
    "papermill": {
     "duration": 0.03587,
     "end_time": "2021-05-31T15:43:09.557603",
     "exception": false,
     "start_time": "2021-05-31T15:43:09.521733",
     "status": "completed"
    },
    "tags": []
   },
   "outputs": [
    {
     "name": "stdout",
     "output_type": "stream",
     "text": [
      "/tmp/fairseq\n"
     ]
    }
   ],
   "source": [
    "%cd /tmp/fairseq/"
   ]
  },
  {
   "cell_type": "code",
   "execution_count": 12,
   "id": "magnetic-hobby",
   "metadata": {
    "execution": {
     "iopub.execute_input": "2021-05-31T15:43:09.614050Z",
     "iopub.status.busy": "2021-05-31T15:43:09.613396Z",
     "iopub.status.idle": "2021-05-31T15:43:09.617283Z",
     "shell.execute_reply": "2021-05-31T15:43:09.617793Z"
    },
    "papermill": {
     "duration": 0.033726,
     "end_time": "2021-05-31T15:43:09.617975",
     "exception": false,
     "start_time": "2021-05-31T15:43:09.584249",
     "status": "completed"
    },
    "tags": []
   },
   "outputs": [],
   "source": [
    "os.environ['HYDRA_FULL_ERROR'] = '1'"
   ]
  },
  {
   "cell_type": "markdown",
   "id": "minute-account",
   "metadata": {
    "papermill": {
     "duration": 0.026256,
     "end_time": "2021-05-31T15:43:09.671139",
     "exception": false,
     "start_time": "2021-05-31T15:43:09.644883",
     "status": "completed"
    },
    "tags": []
   },
   "source": [
    "## GAN"
   ]
  },
  {
   "cell_type": "code",
   "execution_count": 13,
   "id": "deadly-qatar",
   "metadata": {
    "execution": {
     "iopub.execute_input": "2021-05-31T15:43:09.729187Z",
     "iopub.status.busy": "2021-05-31T15:43:09.728456Z",
     "iopub.status.idle": "2021-05-31T15:43:09.736420Z",
     "shell.execute_reply": "2021-05-31T15:43:09.735737Z"
    },
    "papermill": {
     "duration": 0.038781,
     "end_time": "2021-05-31T15:43:09.736580",
     "exception": false,
     "start_time": "2021-05-31T15:43:09.697799",
     "status": "completed"
    },
    "tags": []
   },
   "outputs": [
    {
     "name": "stdout",
     "output_type": "stream",
     "text": [
      "Writing rungan.sh\n"
     ]
    }
   ],
   "source": [
    "%%writefile rungan.sh\n",
    "PREFIX=w2v_unsup_gan_xp\n",
    "#TASK_DATA=/path/to/features/unfiltered/precompute_unfiltered_pca512_cls128_mean_pooled\n",
    "TASK_DATA=/kaggle/input/wav2vec-u-cv-swedish-audio/precompute_pca512_cls128_mean_pooled/\n",
    "#TEXT_DATA=/path/to/data  # path to fairseq-preprocessed GAN data\n",
    "TEXT_DATA=/kaggle/input/wav2vec-u-cv-swedish-text-prep/preppedtext/phones/\n",
    "#KENLM_PATH=/path/to/data/kenlm.phn.o4.bin  # KenLM 4-gram phoneme language model (LM data = GAN data here)\n",
    "KENLM_PATH=/kaggle/input/wav2vec-u-cv-swedish-text-prep/preppedtext/phones/lm.phones.filtered.04.bin\n",
    "\n",
    "PREFIX=$PREFIX fairseq-hydra-train \\\n",
    "\t-m --config-dir fairseq/config/model/wav2vecu/gan \\\n",
    "\t--config-name w2vu \\\n",
    "\ttask.data=${TASK_DATA} \\\n",
    "\ttask.text_data=${TEXT_DATA} \\\n",
    "\ttask.kenlm_path=${KENLM_PATH} \\\n",
    "\tcheckpoint.no_epoch_checkpoints=false \\\n",
    "\tcheckpoint.save_dir=/kaggle/working \\\n",
    "\t'common.seed=range(0,5)'"
   ]
  },
  {
   "cell_type": "code",
   "execution_count": 14,
   "id": "supported-bulletin",
   "metadata": {
    "execution": {
     "iopub.execute_input": "2021-05-31T15:43:09.794599Z",
     "iopub.status.busy": "2021-05-31T15:43:09.793916Z",
     "iopub.status.idle": "2021-05-31T15:43:13.777056Z",
     "shell.execute_reply": "2021-05-31T15:43:13.776435Z"
    },
    "papermill": {
     "duration": 4.013366,
     "end_time": "2021-05-31T15:43:13.777222",
     "exception": false,
     "start_time": "2021-05-31T15:43:09.763856",
     "status": "completed"
    },
    "tags": []
   },
   "outputs": [
    {
     "name": "stdout",
     "output_type": "stream",
     "text": [
      "Traceback (most recent call last):\r\n",
      "  File \"/opt/conda/bin/fairseq-hydra-train\", line 33, in <module>\r\n",
      "    sys.exit(load_entry_point('fairseq==1.0.0a0+f225b64', 'console_scripts', 'fairseq-hydra-train')())\r\n",
      "  File \"/opt/conda/bin/fairseq-hydra-train\", line 25, in importlib_load_entry_point\r\n",
      "    return next(matches).load()\r\n",
      "  File \"/opt/conda/lib/python3.7/site-packages/importlib_metadata/__init__.py\", line 96, in load\r\n",
      "    module = import_module(match.group('module'))\r\n",
      "  File \"/opt/conda/lib/python3.7/importlib/__init__.py\", line 127, in import_module\r\n",
      "    return _bootstrap._gcd_import(name[level:], package, level)\r\n",
      "  File \"<frozen importlib._bootstrap>\", line 1006, in _gcd_import\r\n",
      "  File \"<frozen importlib._bootstrap>\", line 983, in _find_and_load\r\n",
      "  File \"<frozen importlib._bootstrap>\", line 967, in _find_and_load_unlocked\r\n",
      "  File \"<frozen importlib._bootstrap>\", line 677, in _load_unlocked\r\n",
      "  File \"<frozen importlib._bootstrap_external>\", line 728, in exec_module\r\n",
      "  File \"<frozen importlib._bootstrap>\", line 219, in _call_with_frames_removed\r\n",
      "  File \"/opt/conda/lib/python3.7/site-packages/fairseq-1.0.0a0+f225b64-py3.7-linux-x86_64.egg/fairseq_cli/hydra_train.py\", line 10, in <module>\r\n",
      "    from fairseq.dataclass.initialize import add_defaults, hydra_init\r\n",
      "  File \"/opt/conda/lib/python3.7/site-packages/fairseq-1.0.0a0+f225b64-py3.7-linux-x86_64.egg/fairseq/__init__.py\", line 32, in <module>\r\n",
      "    import fairseq.criterions  # noqa\r\n",
      "  File \"/opt/conda/lib/python3.7/site-packages/fairseq-1.0.0a0+f225b64-py3.7-linux-x86_64.egg/fairseq/criterions/__init__.py\", line 36, in <module>\r\n",
      "    importlib.import_module(\"fairseq.criterions.\" + file_name)\r\n",
      "  File \"/opt/conda/lib/python3.7/importlib/__init__.py\", line 127, in import_module\r\n",
      "    return _bootstrap._gcd_import(name[level:], package, level)\r\n",
      "  File \"/opt/conda/lib/python3.7/site-packages/fairseq-1.0.0a0+f225b64-py3.7-linux-x86_64.egg/fairseq/criterions/ctc.py\", line 19, in <module>\r\n",
      "    from fairseq.tasks import FairseqTask\r\n",
      "  File \"/opt/conda/lib/python3.7/site-packages/fairseq-1.0.0a0+f225b64-py3.7-linux-x86_64.egg/fairseq/tasks/__init__.py\", line 116, in <module>\r\n",
      "    module = importlib.import_module(\"fairseq.tasks.\" + task_name)\r\n",
      "  File \"/opt/conda/lib/python3.7/importlib/__init__.py\", line 127, in import_module\r\n",
      "    return _bootstrap._gcd_import(name[level:], package, level)\r\n",
      "  File \"/opt/conda/lib/python3.7/site-packages/fairseq-1.0.0a0+f225b64-py3.7-linux-x86_64.egg/fairseq/tasks/multilingual_translation.py\", line 19, in <module>\r\n",
      "    from fairseq.models import FairseqMultiModel\r\n",
      "  File \"/opt/conda/lib/python3.7/site-packages/fairseq-1.0.0a0+f225b64-py3.7-linux-x86_64.egg/fairseq/models/__init__.py\", line 28, in <module>\r\n",
      "    from .wav2vec_u import Wav2vec_U\r\n",
      "  File \"/opt/conda/lib/python3.7/site-packages/fairseq-1.0.0a0+f225b64-py3.7-linux-x86_64.egg/fairseq/models/wav2vec_u.py\", line 20, in <module>\r\n",
      "    from fairseq.models import register_model\r\n",
      "ImportError: cannot import name 'register_model' from 'fairseq.models' (/opt/conda/lib/python3.7/site-packages/fairseq-1.0.0a0+f225b64-py3.7-linux-x86_64.egg/fairseq/models/__init__.py)\r\n"
     ]
    }
   ],
   "source": [
    "!bash rungan.sh"
   ]
  }
 ],
 "metadata": {
  "kernelspec": {
   "display_name": "Python 3",
   "language": "python",
   "name": "python3"
  },
  "language_info": {
   "codemirror_mode": {
    "name": "ipython",
    "version": 3
   },
   "file_extension": ".py",
   "mimetype": "text/x-python",
   "name": "python",
   "nbconvert_exporter": "python",
   "pygments_lexer": "ipython3",
   "version": "3.7.10"
  },
  "papermill": {
   "default_parameters": {},
   "duration": 452.692647,
   "end_time": "2021-05-31T15:43:14.618635",
   "environment_variables": {},
   "exception": null,
   "input_path": "__notebook__.ipynb",
   "output_path": "__notebook__.ipynb",
   "parameters": {},
   "start_time": "2021-05-31T15:35:41.925988",
   "version": "2.3.3"
  }
 },
 "nbformat": 4,
 "nbformat_minor": 5
}
