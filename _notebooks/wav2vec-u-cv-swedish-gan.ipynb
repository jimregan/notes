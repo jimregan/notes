{
 "cells": [
  {
   "cell_type": "markdown",
   "id": "finite-friendly",
   "metadata": {
    "papermill": {
     "duration": 0.012656,
     "end_time": "2021-05-31T07:45:06.749030",
     "exception": false,
     "start_time": "2021-05-31T07:45:06.736374",
     "status": "completed"
    },
    "tags": []
   },
   "source": [
    "## Preparation"
   ]
  },
  {
   "cell_type": "code",
   "execution_count": 1,
   "id": "serious-spending",
   "metadata": {
    "_cell_guid": "b1076dfc-b9ad-4769-8c92-a6c4dae69d19",
    "_uuid": "8f2839f25d086af736a60e9eeb907d3b93b6e0e5",
    "execution": {
     "iopub.execute_input": "2021-05-31T07:45:06.783700Z",
     "iopub.status.busy": "2021-05-31T07:45:06.780831Z",
     "iopub.status.idle": "2021-05-31T07:49:21.655334Z",
     "shell.execute_reply": "2021-05-31T07:49:21.653217Z",
     "shell.execute_reply.started": "2021-05-30T19:07:03.966422Z"
    },
    "papermill": {
     "duration": 254.894937,
     "end_time": "2021-05-31T07:49:21.655989",
     "exception": false,
     "start_time": "2021-05-31T07:45:06.761052",
     "status": "completed"
    },
    "tags": []
   },
   "outputs": [],
   "source": [
    "%%capture\n",
    "!conda install -c pykaldi pykaldi -y"
   ]
  },
  {
   "cell_type": "code",
   "execution_count": 2,
   "id": "fabulous-highway",
   "metadata": {
    "execution": {
     "iopub.execute_input": "2021-05-31T07:49:21.696680Z",
     "iopub.status.busy": "2021-05-31T07:49:21.694806Z",
     "iopub.status.idle": "2021-05-31T07:49:21.702714Z",
     "shell.execute_reply": "2021-05-31T07:49:21.703424Z"
    },
    "papermill": {
     "duration": 0.029296,
     "end_time": "2021-05-31T07:49:21.703645",
     "exception": false,
     "start_time": "2021-05-31T07:49:21.674349",
     "status": "completed"
    },
    "tags": []
   },
   "outputs": [
    {
     "name": "stdout",
     "output_type": "stream",
     "text": [
      "/tmp\n"
     ]
    }
   ],
   "source": [
    "%cd /tmp"
   ]
  },
  {
   "cell_type": "code",
   "execution_count": 3,
   "id": "finite-situation",
   "metadata": {
    "execution": {
     "iopub.execute_input": "2021-05-31T07:49:21.734510Z",
     "iopub.status.busy": "2021-05-31T07:49:21.733566Z",
     "iopub.status.idle": "2021-05-31T07:49:24.811329Z",
     "shell.execute_reply": "2021-05-31T07:49:24.810567Z",
     "shell.execute_reply.started": "2021-05-25T22:38:20.218298Z"
    },
    "papermill": {
     "duration": 3.093268,
     "end_time": "2021-05-31T07:49:24.811489",
     "exception": false,
     "start_time": "2021-05-31T07:49:21.718221",
     "status": "completed"
    },
    "tags": []
   },
   "outputs": [
    {
     "name": "stdout",
     "output_type": "stream",
     "text": [
      "Cloning into 'fairseq'...\r\n",
      "remote: Enumerating objects: 28172, done.\u001b[K\r\n",
      "remote: Counting objects: 100% (586/586), done.\u001b[K\r\n",
      "remote: Compressing objects: 100% (340/340), done.\u001b[K\r\n",
      "remote: Total 28172 (delta 308), reused 464 (delta 233), pack-reused 27586\u001b[K\r\n",
      "Receiving objects: 100% (28172/28172), 11.89 MiB | 20.26 MiB/s, done.\r\n",
      "Resolving deltas: 100% (21133/21133), done.\r\n"
     ]
    }
   ],
   "source": [
    "!git clone https://github.com/pytorch/fairseq/"
   ]
  },
  {
   "cell_type": "code",
   "execution_count": 4,
   "id": "competent-closing",
   "metadata": {
    "execution": {
     "iopub.execute_input": "2021-05-31T07:49:24.869348Z",
     "iopub.status.busy": "2021-05-31T07:49:24.868232Z",
     "iopub.status.idle": "2021-05-31T07:49:29.375272Z",
     "shell.execute_reply": "2021-05-31T07:49:29.374634Z",
     "shell.execute_reply.started": "2021-05-25T22:47:02.096238Z"
    },
    "papermill": {
     "duration": 4.539175,
     "end_time": "2021-05-31T07:49:29.375443",
     "exception": false,
     "start_time": "2021-05-31T07:49:24.836268",
     "status": "completed"
    },
    "tags": []
   },
   "outputs": [
    {
     "name": "stdout",
     "output_type": "stream",
     "text": [
      "Cloning into 'kenlm'...\r\n",
      "remote: Enumerating objects: 13824, done.\u001b[K\r\n",
      "remote: Counting objects: 100% (137/137), done.\u001b[K\r\n",
      "remote: Compressing objects: 100% (79/79), done.\u001b[K\r\n",
      "remote: Total 13824 (delta 76), reused 92 (delta 45), pack-reused 13687\u001b[K\r\n",
      "Receiving objects: 100% (13824/13824), 5.49 MiB | 10.92 MiB/s, done.\r\n",
      "Resolving deltas: 100% (7956/7956), done.\r\n"
     ]
    }
   ],
   "source": [
    "!git clone https://github.com/kpu/kenlm"
   ]
  },
  {
   "cell_type": "code",
   "execution_count": 5,
   "id": "intimate-affairs",
   "metadata": {
    "execution": {
     "iopub.execute_input": "2021-05-31T07:49:29.434166Z",
     "iopub.status.busy": "2021-05-31T07:49:29.433520Z",
     "iopub.status.idle": "2021-05-31T07:49:36.017539Z",
     "shell.execute_reply": "2021-05-31T07:49:36.016400Z"
    },
    "papermill": {
     "duration": 6.616059,
     "end_time": "2021-05-31T07:49:36.017724",
     "exception": false,
     "start_time": "2021-05-31T07:49:29.401665",
     "status": "completed"
    },
    "tags": []
   },
   "outputs": [],
   "source": [
    "%%capture\n",
    "!apt-get -y install libeigen3-dev liblzma-dev zlib1g-dev libbz2-dev"
   ]
  },
  {
   "cell_type": "code",
   "execution_count": 6,
   "id": "first-electricity",
   "metadata": {
    "execution": {
     "iopub.execute_input": "2021-05-31T07:49:36.082662Z",
     "iopub.status.busy": "2021-05-31T07:49:36.081637Z",
     "iopub.status.idle": "2021-05-31T07:50:52.689467Z",
     "shell.execute_reply": "2021-05-31T07:50:52.688554Z"
    },
    "papermill": {
     "duration": 76.644927,
     "end_time": "2021-05-31T07:50:52.689742",
     "exception": false,
     "start_time": "2021-05-31T07:49:36.044815",
     "status": "completed"
    },
    "tags": []
   },
   "outputs": [],
   "source": [
    "%%capture\n",
    "%cd kenlm\n",
    "!mkdir build\n",
    "%cd build\n",
    "!cmake ..\n",
    "!make -j 4\n",
    "%cd /tmp"
   ]
  },
  {
   "cell_type": "code",
   "execution_count": 7,
   "id": "broken-productivity",
   "metadata": {
    "execution": {
     "iopub.execute_input": "2021-05-31T07:50:52.747514Z",
     "iopub.status.busy": "2021-05-31T07:50:52.746844Z",
     "iopub.status.idle": "2021-05-31T07:50:52.750058Z",
     "shell.execute_reply": "2021-05-31T07:50:52.749505Z",
     "shell.execute_reply.started": "2021-05-25T22:58:58.397816Z"
    },
    "papermill": {
     "duration": 0.034258,
     "end_time": "2021-05-31T07:50:52.750242",
     "exception": false,
     "start_time": "2021-05-31T07:50:52.715984",
     "status": "completed"
    },
    "tags": []
   },
   "outputs": [],
   "source": [
    "import os\n",
    "os.environ['PATH'] = f\"{os.environ['PATH']}:/tmp/kenlm/build/bin/\"\n",
    "os.environ['FAIRSEQ_ROOT'] = '/tmp/fairseq'"
   ]
  },
  {
   "cell_type": "code",
   "execution_count": 8,
   "id": "endangered-stake",
   "metadata": {
    "execution": {
     "iopub.execute_input": "2021-05-31T07:50:52.803582Z",
     "iopub.status.busy": "2021-05-31T07:50:52.802975Z",
     "iopub.status.idle": "2021-05-31T07:50:52.809662Z",
     "shell.execute_reply": "2021-05-31T07:50:52.810468Z",
     "shell.execute_reply.started": "2021-05-25T22:55:38.373919Z"
    },
    "papermill": {
     "duration": 0.035208,
     "end_time": "2021-05-31T07:50:52.810720",
     "exception": false,
     "start_time": "2021-05-31T07:50:52.775512",
     "status": "completed"
    },
    "tags": []
   },
   "outputs": [
    {
     "name": "stdout",
     "output_type": "stream",
     "text": [
      "/tmp/fairseq\n"
     ]
    }
   ],
   "source": [
    "%cd /tmp/fairseq/"
   ]
  },
  {
   "cell_type": "code",
   "execution_count": 9,
   "id": "double-williams",
   "metadata": {
    "execution": {
     "iopub.execute_input": "2021-05-31T07:50:52.871553Z",
     "iopub.status.busy": "2021-05-31T07:50:52.866969Z",
     "iopub.status.idle": "2021-05-31T07:51:47.205627Z",
     "shell.execute_reply": "2021-05-31T07:51:47.206231Z"
    },
    "papermill": {
     "duration": 54.369506,
     "end_time": "2021-05-31T07:51:47.206470",
     "exception": false,
     "start_time": "2021-05-31T07:50:52.836964",
     "status": "completed"
    },
    "tags": []
   },
   "outputs": [
    {
     "name": "stdout",
     "output_type": "stream",
     "text": [
      "Processing /tmp/fairseq\r\n",
      "  Installing build dependencies ... \u001b[?25l-\b \b\\\b \b|\b \b/\b \b-\b \b\\\b \bdone\r\n",
      "\u001b[?25h  Getting requirements to build wheel ... \u001b[?25ldone\r\n",
      "\u001b[?25h  Installing backend dependencies ... \u001b[?25l-\b \b\\\b \b|\b \b/\b \b-\b \bdone\r\n",
      "\u001b[?25h    Preparing wheel metadata ... \u001b[?25l-\b \b\\\b \bdone\r\n",
      "\u001b[?25hRequirement already satisfied: regex in /opt/conda/lib/python3.7/site-packages (from fairseq==1.0.0a0+19793a7) (2021.3.17)\r\n",
      "Requirement already satisfied: numpy in /opt/conda/lib/python3.7/site-packages (from fairseq==1.0.0a0+19793a7) (1.19.5)\r\n",
      "Collecting omegaconf<2.1\r\n",
      "  Downloading omegaconf-2.0.6-py3-none-any.whl (36 kB)\r\n",
      "Requirement already satisfied: torch in /opt/conda/lib/python3.7/site-packages (from fairseq==1.0.0a0+19793a7) (1.7.0)\r\n",
      "Collecting hydra-core<1.1\r\n",
      "  Downloading hydra_core-1.0.6-py3-none-any.whl (123 kB)\r\n",
      "\u001b[K     |████████████████████████████████| 123 kB 1.4 MB/s \r\n",
      "\u001b[?25hRequirement already satisfied: cython in /opt/conda/lib/python3.7/site-packages (from fairseq==1.0.0a0+19793a7) (0.29.23)\r\n",
      "Collecting sacrebleu>=1.4.12\r\n",
      "  Downloading sacrebleu-1.5.1-py3-none-any.whl (54 kB)\r\n",
      "\u001b[K     |████████████████████████████████| 54 kB 1.4 MB/s \r\n",
      "\u001b[?25hRequirement already satisfied: cffi in /opt/conda/lib/python3.7/site-packages (from fairseq==1.0.0a0+19793a7) (1.14.5)\r\n",
      "Requirement already satisfied: tqdm in /opt/conda/lib/python3.7/site-packages (from fairseq==1.0.0a0+19793a7) (4.59.0)\r\n",
      "Collecting antlr4-python3-runtime==4.8\r\n",
      "  Downloading antlr4-python3-runtime-4.8.tar.gz (112 kB)\r\n",
      "\u001b[K     |████████████████████████████████| 112 kB 5.3 MB/s \r\n",
      "\u001b[?25hCollecting importlib-resources\r\n",
      "  Downloading importlib_resources-5.1.4-py3-none-any.whl (26 kB)\r\n",
      "Requirement already satisfied: PyYAML>=5.1.* in /opt/conda/lib/python3.7/site-packages (from omegaconf<2.1->fairseq==1.0.0a0+19793a7) (5.3.1)\r\n",
      "Requirement already satisfied: typing-extensions in /opt/conda/lib/python3.7/site-packages (from omegaconf<2.1->fairseq==1.0.0a0+19793a7) (3.7.4.3)\r\n",
      "Collecting portalocker==2.0.0\r\n",
      "  Downloading portalocker-2.0.0-py2.py3-none-any.whl (11 kB)\r\n",
      "Requirement already satisfied: pycparser in /opt/conda/lib/python3.7/site-packages (from cffi->fairseq==1.0.0a0+19793a7) (2.20)\r\n",
      "Requirement already satisfied: zipp>=3.1.0 in /opt/conda/lib/python3.7/site-packages (from importlib-resources->hydra-core<1.1->fairseq==1.0.0a0+19793a7) (3.4.1)\r\n",
      "Requirement already satisfied: future in /opt/conda/lib/python3.7/site-packages (from torch->fairseq==1.0.0a0+19793a7) (0.18.2)\r\n",
      "Requirement already satisfied: dataclasses in /opt/conda/lib/python3.7/site-packages (from torch->fairseq==1.0.0a0+19793a7) (0.6)\r\n",
      "Building wheels for collected packages: fairseq, antlr4-python3-runtime\r\n",
      "  Building wheel for fairseq (PEP 517) ... \u001b[?25l-\b \b\\\b \b|\b \b/\b \b-\b \b\\\b \b|\b \b/\b \b-\b \b\\\b \b|\b \b/\b \b-\b \b\\\b \b|\b \b/\b \b-\b \b\\\b \b|\b \bdone\r\n",
      "\u001b[?25h  Created wheel for fairseq: filename=fairseq-1.0.0a0+19793a7-cp37-cp37m-linux_x86_64.whl size=2041531 sha256=6d35c292235e157af212fdda66dc08a8f79def81d1c9feb2f542427e22a9bd13\r\n",
      "  Stored in directory: /tmp/pip-ephem-wheel-cache-i56o4d33/wheels/e3/52/72/c9070e4abac84e3448568d15e13e9e42bb689c08614271d8f3\r\n",
      "  Building wheel for antlr4-python3-runtime (setup.py) ... \u001b[?25l-\b \b\\\b \b|\b \bdone\r\n",
      "\u001b[?25h  Created wheel for antlr4-python3-runtime: filename=antlr4_python3_runtime-4.8-py3-none-any.whl size=141230 sha256=9d4c6f54532202bb8a3069a96c14b515c10d841f179e5a1c63f3ae5fc3de7086\r\n",
      "  Stored in directory: /root/.cache/pip/wheels/ca/33/b7/336836125fc9bb4ceaa4376d8abca10ca8bc84ddc824baea6c\r\n",
      "Successfully built fairseq antlr4-python3-runtime\r\n",
      "Installing collected packages: portalocker, omegaconf, importlib-resources, antlr4-python3-runtime, sacrebleu, hydra-core, fairseq\r\n",
      "  Attempting uninstall: portalocker\r\n",
      "    Found existing installation: portalocker 2.3.0\r\n",
      "    Uninstalling portalocker-2.3.0:\r\n",
      "      Successfully uninstalled portalocker-2.3.0\r\n",
      "Successfully installed antlr4-python3-runtime-4.8 fairseq-1.0.0a0+19793a7 hydra-core-1.0.6 importlib-resources-5.1.4 omegaconf-2.0.6 portalocker-2.0.0 sacrebleu-1.5.1\r\n"
     ]
    }
   ],
   "source": [
    "!pip install ."
   ]
  },
  {
   "cell_type": "code",
   "execution_count": 10,
   "id": "changed-tomorrow",
   "metadata": {
    "execution": {
     "iopub.execute_input": "2021-05-31T07:51:47.307311Z",
     "iopub.status.busy": "2021-05-31T07:51:47.306318Z",
     "iopub.status.idle": "2021-05-31T07:51:47.311203Z",
     "shell.execute_reply": "2021-05-31T07:51:47.310679Z"
    },
    "papermill": {
     "duration": 0.058526,
     "end_time": "2021-05-31T07:51:47.311349",
     "exception": false,
     "start_time": "2021-05-31T07:51:47.252823",
     "status": "completed"
    },
    "tags": []
   },
   "outputs": [
    {
     "name": "stdout",
     "output_type": "stream",
     "text": [
      "/tmp/fairseq/examples/wav2vec/unsupervised\n"
     ]
    }
   ],
   "source": [
    "%cd /tmp/fairseq/examples/wav2vec/unsupervised"
   ]
  },
  {
   "cell_type": "code",
   "execution_count": 11,
   "id": "classified-career",
   "metadata": {
    "execution": {
     "iopub.execute_input": "2021-05-31T07:51:47.408830Z",
     "iopub.status.busy": "2021-05-31T07:51:47.408194Z",
     "iopub.status.idle": "2021-05-31T07:51:47.411494Z",
     "shell.execute_reply": "2021-05-31T07:51:47.410914Z"
    },
    "papermill": {
     "duration": 0.053972,
     "end_time": "2021-05-31T07:51:47.411638",
     "exception": false,
     "start_time": "2021-05-31T07:51:47.357666",
     "status": "completed"
    },
    "tags": []
   },
   "outputs": [],
   "source": [
    "os.environ['HYDRA_FULL_ERROR'] = '1'"
   ]
  },
  {
   "cell_type": "markdown",
   "id": "tight-hebrew",
   "metadata": {
    "papermill": {
     "duration": 0.045835,
     "end_time": "2021-05-31T07:51:47.503456",
     "exception": false,
     "start_time": "2021-05-31T07:51:47.457621",
     "status": "completed"
    },
    "tags": []
   },
   "source": [
    "## GAN"
   ]
  },
  {
   "cell_type": "code",
   "execution_count": 12,
   "id": "fuzzy-installation",
   "metadata": {
    "execution": {
     "iopub.execute_input": "2021-05-31T07:51:47.604056Z",
     "iopub.status.busy": "2021-05-31T07:51:47.600502Z",
     "iopub.status.idle": "2021-05-31T07:51:48.344996Z",
     "shell.execute_reply": "2021-05-31T07:51:48.344474Z",
     "shell.execute_reply.started": "2021-05-30T16:46:39.899633Z"
    },
    "papermill": {
     "duration": 0.793824,
     "end_time": "2021-05-31T07:51:48.345156",
     "exception": false,
     "start_time": "2021-05-31T07:51:47.551332",
     "status": "completed"
    },
    "tags": []
   },
   "outputs": [
    {
     "name": "stdout",
     "output_type": "stream",
     "text": [
      "CLUS128\t\t    precompute_pca512_cls128_mean\t  train.npy\r\n",
      "__notebook__.ipynb  precompute_pca512_cls128_mean_pooled  train.phn\r\n",
      "__output__.json     test.lengths\t\t\t  train.tsv\r\n",
      "__results__.html    test.ltr\t\t\t\t  train.wrd\r\n",
      "custom.css\t    test.npy\t\t\t\t  valid.lengths\r\n",
      "dict.test\t    test.phn\t\t\t\t  valid.ltr\r\n",
      "dict.train\t    test.tsv\t\t\t\t  valid.npy\r\n",
      "dict.valid\t    test.wrd\t\t\t\t  valid.phn\r\n",
      "pca\t\t    train.lengths\t\t\t  valid.tsv\r\n",
      "precompute_pca512   train.ltr\t\t\t\t  valid.wrd\r\n"
     ]
    }
   ],
   "source": [
    "!ls /kaggle/input/wav2vec-u-cv-swedish-audio/"
   ]
  },
  {
   "cell_type": "code",
   "execution_count": 13,
   "id": "seasonal-experiment",
   "metadata": {
    "execution": {
     "iopub.execute_input": "2021-05-31T07:51:48.440773Z",
     "iopub.status.busy": "2021-05-31T07:51:48.440016Z",
     "iopub.status.idle": "2021-05-31T07:51:48.444581Z",
     "shell.execute_reply": "2021-05-31T07:51:48.444051Z"
    },
    "papermill": {
     "duration": 0.054999,
     "end_time": "2021-05-31T07:51:48.444719",
     "exception": false,
     "start_time": "2021-05-31T07:51:48.389720",
     "status": "completed"
    },
    "tags": []
   },
   "outputs": [
    {
     "name": "stdout",
     "output_type": "stream",
     "text": [
      "Writing rungan.sh\n"
     ]
    }
   ],
   "source": [
    "%%writefile rungan.sh\n",
    "PREFIX=w2v_unsup_gan_xp\n",
    "#TASK_DATA=/path/to/features/unfiltered/precompute_unfiltered_pca512_cls128_mean_pooled\n",
    "TASK_DATA=/kaggle/input/wav2vec-u-cv-swedish-audio/precompute_pca512_cls128_mean_pooled/\n",
    "#TEXT_DATA=/path/to/data  # path to fairseq-preprocessed GAN data\n",
    "TEXT_DATA=/kaggle/input/wav2vec-u-cv-swedish-text-prep/preppedtext/phones/\n",
    "#KENLM_PATH=/path/to/data/kenlm.phn.o4.bin  # KenLM 4-gram phoneme language model (LM data = GAN data here)\n",
    "KENLM_PATH=/kaggle/input/wav2vec-u-cv-swedish-text-prep/preppedtext/phones/lm.phones.filtered.04.bin\n",
    "\n",
    "PREFIX=$PREFIX fairseq-hydra-train \\\n",
    "\t-m --config-dir /tmp/fairseq/examples/wav2vec/unsupervised \\\n",
    "#\t--config-path examples/wav2vec/unsupervised/config/gan \\\n",
    "\t--config-name w2vu \\\n",
    "\ttask._name='unpaired_audio_text' \\\n",
    "\ttask.data=${TASK_DATA} \\\n",
    "\ttask.text_data=${TEXT_DATA} \\\n",
    "\ttask.kenlm_path=${KENLM_PATH} \\\n",
    "\tcheckpoint.no_epoch_checkpoints=false \\\n",
    "\tcheckpoint.save_dir=/kaggle/working \\\n",
    "\t'common.seed=range(0,5)'"
   ]
  },
  {
   "cell_type": "code",
   "execution_count": 14,
   "id": "everyday-addition",
   "metadata": {
    "execution": {
     "iopub.execute_input": "2021-05-31T07:51:48.543349Z",
     "iopub.status.busy": "2021-05-31T07:51:48.539224Z",
     "iopub.status.idle": "2021-05-31T07:51:58.596150Z",
     "shell.execute_reply": "2021-05-31T07:51:58.595475Z"
    },
    "papermill": {
     "duration": 10.106711,
     "end_time": "2021-05-31T07:51:58.596306",
     "exception": false,
     "start_time": "2021-05-31T07:51:48.489595",
     "status": "completed"
    },
    "tags": []
   },
   "outputs": [
    {
     "name": "stdout",
     "output_type": "stream",
     "text": [
      "[2021-05-31 07:51:56,360][HYDRA] Launching 1 jobs locally\r\n",
      "[2021-05-31 07:51:56,360][HYDRA] \t#0 : \r\n",
      "Traceback (most recent call last):\r\n",
      "  File \"/opt/conda/bin/fairseq-hydra-train\", line 8, in <module>\r\n",
      "    sys.exit(cli_main())\r\n",
      "  File \"/opt/conda/lib/python3.7/site-packages/fairseq_cli/hydra_train.py\", line 76, in cli_main\r\n",
      "    hydra_main()\r\n",
      "  File \"/opt/conda/lib/python3.7/site-packages/hydra/main.py\", line 37, in decorated_main\r\n",
      "    strict=strict,\r\n",
      "  File \"/opt/conda/lib/python3.7/site-packages/hydra/_internal/utils.py\", line 355, in _run_hydra\r\n",
      "    lambda: hydra.multirun(\r\n",
      "  File \"/opt/conda/lib/python3.7/site-packages/hydra/_internal/utils.py\", line 201, in run_and_report\r\n",
      "    raise ex\r\n",
      "  File \"/opt/conda/lib/python3.7/site-packages/hydra/_internal/utils.py\", line 198, in run_and_report\r\n",
      "    return func()\r\n",
      "  File \"/opt/conda/lib/python3.7/site-packages/hydra/_internal/utils.py\", line 358, in <lambda>\r\n",
      "    overrides=args.overrides,\r\n",
      "  File \"/opt/conda/lib/python3.7/site-packages/hydra/_internal/hydra.py\", line 136, in multirun\r\n",
      "    return sweeper.sweep(arguments=task_overrides)\r\n",
      "  File \"/opt/conda/lib/python3.7/site-packages/hydra/_internal/core_plugins/basic_sweeper.py\", line 154, in sweep\r\n",
      "    results = self.launcher.launch(batch, initial_job_idx=initial_job_idx)\r\n",
      "  File \"/opt/conda/lib/python3.7/site-packages/hydra/_internal/core_plugins/basic_launcher.py\", line 80, in launch\r\n",
      "    job_subdir_key=\"hydra.sweep.subdir\",\r\n",
      "  File \"/opt/conda/lib/python3.7/site-packages/hydra/core/utils.py\", line 127, in run_job\r\n",
      "    ret.return_value = task_function(task_cfg)\r\n",
      "  File \"/opt/conda/lib/python3.7/site-packages/fairseq_cli/hydra_train.py\", line 27, in hydra_main\r\n",
      "    add_defaults(cfg)\r\n",
      "  File \"/opt/conda/lib/python3.7/site-packages/fairseq/dataclass/initialize.py\", line 42, in add_defaults\r\n",
      "    field_cfg = cfg.get(k)\r\n",
      "  File \"/opt/conda/lib/python3.7/site-packages/omegaconf/dictconfig.py\", line 357, in get\r\n",
      "    self._format_and_raise(key=key, value=None, cause=e)\r\n",
      "  File \"/opt/conda/lib/python3.7/site-packages/omegaconf/base.py\", line 101, in _format_and_raise\r\n",
      "    type_override=type_override,\r\n",
      "  File \"/opt/conda/lib/python3.7/site-packages/omegaconf/_utils.py\", line 694, in format_and_raise\r\n",
      "    _raise(ex, cause)\r\n",
      "  File \"/opt/conda/lib/python3.7/site-packages/omegaconf/_utils.py\", line 610, in _raise\r\n",
      "    raise ex  # set end OC_CAUSE=1 for full backtrace\r\n",
      "omegaconf.errors.MissingMandatoryValue: Missing mandatory value: model\r\n",
      "\tfull_key: model\r\n",
      "\treference_type=Optional[Dict[Union[str, Enum], Any]]\r\n",
      "\tobject_type=FairseqConfig\r\n",
      "rungan.sh: line 12: --config-name: command not found\r\n"
     ]
    }
   ],
   "source": [
    "!bash rungan.sh"
   ]
  }
 ],
 "metadata": {
  "kernelspec": {
   "display_name": "Python 3",
   "language": "python",
   "name": "python3"
  },
  "language_info": {
   "codemirror_mode": {
    "name": "ipython",
    "version": 3
   },
   "file_extension": ".py",
   "mimetype": "text/x-python",
   "name": "python",
   "nbconvert_exporter": "python",
   "pygments_lexer": "ipython3",
   "version": "3.7.10"
  },
  "papermill": {
   "default_parameters": {},
   "duration": 421.997101,
   "end_time": "2021-05-31T07:52:00.027541",
   "environment_variables": {},
   "exception": null,
   "input_path": "__notebook__.ipynb",
   "output_path": "__notebook__.ipynb",
   "parameters": {},
   "start_time": "2021-05-31T07:44:58.030440",
   "version": "2.3.3"
  }
 },
 "nbformat": 4,
 "nbformat_minor": 5
}
