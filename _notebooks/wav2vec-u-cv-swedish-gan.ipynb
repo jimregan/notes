{
 "cells": [
  {
   "cell_type": "markdown",
   "id": "apart-cabin",
   "metadata": {
    "papermill": {
     "duration": 0.012693,
     "end_time": "2021-05-30T18:54:30.094333",
     "exception": false,
     "start_time": "2021-05-30T18:54:30.081640",
     "status": "completed"
    },
    "tags": []
   },
   "source": [
    "## Preparation"
   ]
  },
  {
   "cell_type": "code",
   "execution_count": 1,
   "id": "dying-extent",
   "metadata": {
    "_cell_guid": "b1076dfc-b9ad-4769-8c92-a6c4dae69d19",
    "_uuid": "8f2839f25d086af736a60e9eeb907d3b93b6e0e5",
    "execution": {
     "iopub.execute_input": "2021-05-30T18:54:30.126939Z",
     "iopub.status.busy": "2021-05-30T18:54:30.120657Z",
     "iopub.status.idle": "2021-05-30T18:54:30.131974Z",
     "shell.execute_reply": "2021-05-30T18:54:30.131420Z",
     "shell.execute_reply.started": "2021-05-25T22:46:58.262403Z"
    },
    "papermill": {
     "duration": 0.025796,
     "end_time": "2021-05-30T18:54:30.132122",
     "exception": false,
     "start_time": "2021-05-30T18:54:30.106326",
     "status": "completed"
    },
    "tags": []
   },
   "outputs": [
    {
     "name": "stdout",
     "output_type": "stream",
     "text": [
      "/opt\n"
     ]
    }
   ],
   "source": [
    "%cd /opt"
   ]
  },
  {
   "cell_type": "code",
   "execution_count": 2,
   "id": "rural-offset",
   "metadata": {
    "execution": {
     "iopub.execute_input": "2021-05-30T18:54:30.171036Z",
     "iopub.status.busy": "2021-05-30T18:54:30.160552Z",
     "iopub.status.idle": "2021-05-30T18:55:09.327730Z",
     "shell.execute_reply": "2021-05-30T18:55:09.327187Z"
    },
    "papermill": {
     "duration": 39.183736,
     "end_time": "2021-05-30T18:55:09.327884",
     "exception": false,
     "start_time": "2021-05-30T18:54:30.144148",
     "status": "completed"
    },
    "tags": []
   },
   "outputs": [],
   "source": [
    "%%capture\n",
    "!tar xvf /kaggle/input/extract-prebuilt-kaldi-from-docker/kaldi.tar"
   ]
  },
  {
   "cell_type": "code",
   "execution_count": 3,
   "id": "cutting-netherlands",
   "metadata": {
    "execution": {
     "iopub.execute_input": "2021-05-30T18:55:09.358778Z",
     "iopub.status.busy": "2021-05-30T18:55:09.357883Z",
     "iopub.status.idle": "2021-05-30T18:55:09.365032Z",
     "shell.execute_reply": "2021-05-30T18:55:09.364539Z"
    },
    "papermill": {
     "duration": 0.022717,
     "end_time": "2021-05-30T18:55:09.365171",
     "exception": false,
     "start_time": "2021-05-30T18:55:09.342454",
     "status": "completed"
    },
    "tags": []
   },
   "outputs": [
    {
     "name": "stdout",
     "output_type": "stream",
     "text": [
      "/tmp\n"
     ]
    }
   ],
   "source": [
    "%cd /tmp"
   ]
  },
  {
   "cell_type": "code",
   "execution_count": 4,
   "id": "regional-martin",
   "metadata": {
    "execution": {
     "iopub.execute_input": "2021-05-30T18:55:09.400270Z",
     "iopub.status.busy": "2021-05-30T18:55:09.396257Z",
     "iopub.status.idle": "2021-05-30T18:55:12.308373Z",
     "shell.execute_reply": "2021-05-30T18:55:12.306870Z",
     "shell.execute_reply.started": "2021-05-25T22:38:20.218298Z"
    },
    "papermill": {
     "duration": 2.929927,
     "end_time": "2021-05-30T18:55:12.308538",
     "exception": false,
     "start_time": "2021-05-30T18:55:09.378611",
     "status": "completed"
    },
    "tags": []
   },
   "outputs": [
    {
     "name": "stdout",
     "output_type": "stream",
     "text": [
      "Cloning into 'fairseq'...\r\n",
      "remote: Enumerating objects: 28172, done.\u001b[K\r\n",
      "remote: Counting objects: 100% (586/586), done.\u001b[K\r\n",
      "remote: Compressing objects: 100% (337/337), done.\u001b[K\r\n",
      "remote: Total 28172 (delta 308), reused 464 (delta 236), pack-reused 27586\u001b[K\r\n",
      "Receiving objects: 100% (28172/28172), 11.87 MiB | 21.03 MiB/s, done.\r\n",
      "Resolving deltas: 100% (21131/21131), done.\r\n"
     ]
    }
   ],
   "source": [
    "!git clone https://github.com/pytorch/fairseq/"
   ]
  },
  {
   "cell_type": "code",
   "execution_count": 5,
   "id": "decimal-cosmetic",
   "metadata": {
    "execution": {
     "iopub.execute_input": "2021-05-30T18:55:12.358650Z",
     "iopub.status.busy": "2021-05-30T18:55:12.358021Z",
     "iopub.status.idle": "2021-05-30T18:56:08.027280Z",
     "shell.execute_reply": "2021-05-30T18:56:08.026734Z"
    },
    "papermill": {
     "duration": 55.698283,
     "end_time": "2021-05-30T18:56:08.027432",
     "exception": false,
     "start_time": "2021-05-30T18:55:12.329149",
     "status": "completed"
    },
    "tags": []
   },
   "outputs": [],
   "source": [
    "%%capture\n",
    "!pip install git+https://github.com/pytorch/fairseq/"
   ]
  },
  {
   "cell_type": "code",
   "execution_count": 6,
   "id": "executed-saint",
   "metadata": {
    "execution": {
     "iopub.execute_input": "2021-05-30T18:56:08.074457Z",
     "iopub.status.busy": "2021-05-30T18:56:08.073789Z",
     "iopub.status.idle": "2021-05-30T18:56:10.043476Z",
     "shell.execute_reply": "2021-05-30T18:56:10.042628Z",
     "shell.execute_reply.started": "2021-05-25T22:47:02.096238Z"
    },
    "papermill": {
     "duration": 1.995429,
     "end_time": "2021-05-30T18:56:10.043614",
     "exception": false,
     "start_time": "2021-05-30T18:56:08.048185",
     "status": "completed"
    },
    "tags": []
   },
   "outputs": [
    {
     "name": "stdout",
     "output_type": "stream",
     "text": [
      "Cloning into 'kenlm'...\r\n",
      "remote: Enumerating objects: 13824, done.\u001b[K\r\n",
      "remote: Counting objects: 100% (137/137), done.\u001b[K\r\n",
      "remote: Compressing objects: 100% (79/79), done.\u001b[K\r\n",
      "remote: Total 13824 (delta 76), reused 92 (delta 45), pack-reused 13687\u001b[K\r\n",
      "Receiving objects: 100% (13824/13824), 5.49 MiB | 11.60 MiB/s, done.\r\n",
      "Resolving deltas: 100% (7956/7956), done.\r\n"
     ]
    }
   ],
   "source": [
    "!git clone https://github.com/kpu/kenlm"
   ]
  },
  {
   "cell_type": "code",
   "execution_count": 7,
   "id": "focused-health",
   "metadata": {
    "execution": {
     "iopub.execute_input": "2021-05-30T18:56:10.104418Z",
     "iopub.status.busy": "2021-05-30T18:56:10.103765Z",
     "iopub.status.idle": "2021-05-30T18:56:15.815536Z",
     "shell.execute_reply": "2021-05-30T18:56:15.814826Z"
    },
    "papermill": {
     "duration": 5.746762,
     "end_time": "2021-05-30T18:56:15.815678",
     "exception": false,
     "start_time": "2021-05-30T18:56:10.068916",
     "status": "completed"
    },
    "tags": []
   },
   "outputs": [],
   "source": [
    "%%capture\n",
    "!apt-get -y install libeigen3-dev liblzma-dev zlib1g-dev libbz2-dev"
   ]
  },
  {
   "cell_type": "code",
   "execution_count": 8,
   "id": "overhead-binary",
   "metadata": {
    "execution": {
     "iopub.execute_input": "2021-05-30T18:56:15.877096Z",
     "iopub.status.busy": "2021-05-30T18:56:15.876202Z",
     "iopub.status.idle": "2021-05-30T18:57:23.000434Z",
     "shell.execute_reply": "2021-05-30T18:57:22.999774Z"
    },
    "papermill": {
     "duration": 67.15948,
     "end_time": "2021-05-30T18:57:23.000591",
     "exception": false,
     "start_time": "2021-05-30T18:56:15.841111",
     "status": "completed"
    },
    "tags": []
   },
   "outputs": [],
   "source": [
    "%%capture\n",
    "%cd kenlm\n",
    "!mkdir build\n",
    "%cd build\n",
    "!cmake ..\n",
    "!make -j 4\n",
    "%cd /tmp"
   ]
  },
  {
   "cell_type": "code",
   "execution_count": 9,
   "id": "funny-black",
   "metadata": {
    "execution": {
     "iopub.execute_input": "2021-05-30T18:57:23.055262Z",
     "iopub.status.busy": "2021-05-30T18:57:23.054628Z",
     "iopub.status.idle": "2021-05-30T18:57:23.057449Z",
     "shell.execute_reply": "2021-05-30T18:57:23.056941Z",
     "shell.execute_reply.started": "2021-05-25T22:58:58.397816Z"
    },
    "papermill": {
     "duration": 0.032028,
     "end_time": "2021-05-30T18:57:23.057603",
     "exception": false,
     "start_time": "2021-05-30T18:57:23.025575",
     "status": "completed"
    },
    "tags": []
   },
   "outputs": [],
   "source": [
    "import os\n",
    "os.environ['PATH'] = f\"{os.environ['PATH']}:/tmp/kenlm/build/bin/\"\n",
    "os.environ['FAIRSEQ_ROOT'] = '/tmp/fairseq'"
   ]
  },
  {
   "cell_type": "code",
   "execution_count": 10,
   "id": "random-custody",
   "metadata": {
    "execution": {
     "iopub.execute_input": "2021-05-30T18:57:23.111164Z",
     "iopub.status.busy": "2021-05-30T18:57:23.110599Z",
     "iopub.status.idle": "2021-05-30T18:57:23.116427Z",
     "shell.execute_reply": "2021-05-30T18:57:23.115470Z",
     "shell.execute_reply.started": "2021-05-25T22:55:38.373919Z"
    },
    "papermill": {
     "duration": 0.034627,
     "end_time": "2021-05-30T18:57:23.116664",
     "exception": false,
     "start_time": "2021-05-30T18:57:23.082037",
     "status": "completed"
    },
    "tags": []
   },
   "outputs": [
    {
     "name": "stdout",
     "output_type": "stream",
     "text": [
      "/tmp/fairseq/examples/wav2vec/unsupervised\n"
     ]
    }
   ],
   "source": [
    "%cd fairseq/examples/wav2vec/unsupervised"
   ]
  },
  {
   "cell_type": "code",
   "execution_count": 11,
   "id": "celtic-avatar",
   "metadata": {
    "execution": {
     "iopub.execute_input": "2021-05-30T18:57:23.170303Z",
     "iopub.status.busy": "2021-05-30T18:57:23.169310Z",
     "iopub.status.idle": "2021-05-30T18:57:23.171869Z",
     "shell.execute_reply": "2021-05-30T18:57:23.171446Z"
    },
    "papermill": {
     "duration": 0.029951,
     "end_time": "2021-05-30T18:57:23.171995",
     "exception": false,
     "start_time": "2021-05-30T18:57:23.142044",
     "status": "completed"
    },
    "tags": []
   },
   "outputs": [],
   "source": [
    "# Needed to see what's going wrong\n",
    "os.environ['HYDRA_FULL_ERROR'] = '1'"
   ]
  },
  {
   "cell_type": "code",
   "execution_count": 12,
   "id": "latest-trainer",
   "metadata": {
    "execution": {
     "iopub.execute_input": "2021-05-30T18:57:23.223229Z",
     "iopub.status.busy": "2021-05-30T18:57:23.222361Z",
     "iopub.status.idle": "2021-05-30T18:57:23.225335Z",
     "shell.execute_reply": "2021-05-30T18:57:23.224853Z"
    },
    "papermill": {
     "duration": 0.030653,
     "end_time": "2021-05-30T18:57:23.225480",
     "exception": false,
     "start_time": "2021-05-30T18:57:23.194827",
     "status": "completed"
    },
    "tags": []
   },
   "outputs": [],
   "source": [
    "import os\n",
    "os.environ['LD_LIBRARY_PATH'] = '/opt/conda/lib:/opt/kaldi/tools/openfst-1.6.7/lib:/opt/kaldi/src/lib'"
   ]
  },
  {
   "cell_type": "markdown",
   "id": "featured-consensus",
   "metadata": {
    "papermill": {
     "duration": 0.024117,
     "end_time": "2021-05-30T18:57:23.273919",
     "exception": false,
     "start_time": "2021-05-30T18:57:23.249802",
     "status": "completed"
    },
    "tags": []
   },
   "source": [
    "## GAN"
   ]
  },
  {
   "cell_type": "code",
   "execution_count": 13,
   "id": "anticipated-funeral",
   "metadata": {
    "execution": {
     "iopub.execute_input": "2021-05-30T18:57:23.331838Z",
     "iopub.status.busy": "2021-05-30T18:57:23.331041Z",
     "iopub.status.idle": "2021-05-30T18:57:24.037907Z",
     "shell.execute_reply": "2021-05-30T18:57:24.038333Z",
     "shell.execute_reply.started": "2021-05-30T16:46:39.899633Z"
    },
    "papermill": {
     "duration": 0.739915,
     "end_time": "2021-05-30T18:57:24.038508",
     "exception": false,
     "start_time": "2021-05-30T18:57:23.298593",
     "status": "completed"
    },
    "tags": []
   },
   "outputs": [
    {
     "name": "stdout",
     "output_type": "stream",
     "text": [
      "CLUS128\t\t    precompute_pca512_cls128_mean\t  train.npy\r\n",
      "__notebook__.ipynb  precompute_pca512_cls128_mean_pooled  train.phn\r\n",
      "__output__.json     test.lengths\t\t\t  train.tsv\r\n",
      "__results__.html    test.ltr\t\t\t\t  train.wrd\r\n",
      "custom.css\t    test.npy\t\t\t\t  valid.lengths\r\n",
      "dict.test\t    test.phn\t\t\t\t  valid.ltr\r\n",
      "dict.train\t    test.tsv\t\t\t\t  valid.npy\r\n",
      "dict.valid\t    test.wrd\t\t\t\t  valid.phn\r\n",
      "pca\t\t    train.lengths\t\t\t  valid.tsv\r\n",
      "precompute_pca512   train.ltr\t\t\t\t  valid.wrd\r\n"
     ]
    }
   ],
   "source": [
    "!ls /kaggle/input/wav2vec-u-cv-swedish-audio/"
   ]
  },
  {
   "cell_type": "code",
   "execution_count": 14,
   "id": "geological-parcel",
   "metadata": {
    "execution": {
     "iopub.execute_input": "2021-05-30T18:57:24.095593Z",
     "iopub.status.busy": "2021-05-30T18:57:24.094910Z",
     "iopub.status.idle": "2021-05-30T18:57:24.098992Z",
     "shell.execute_reply": "2021-05-30T18:57:24.099662Z"
    },
    "papermill": {
     "duration": 0.035449,
     "end_time": "2021-05-30T18:57:24.099861",
     "exception": false,
     "start_time": "2021-05-30T18:57:24.064412",
     "status": "completed"
    },
    "tags": []
   },
   "outputs": [
    {
     "name": "stdout",
     "output_type": "stream",
     "text": [
      "Writing rungan.sh\n"
     ]
    }
   ],
   "source": [
    "%%writefile rungan.sh\n",
    "PREFIX=w2v_unsup_gan_xp\n",
    "#TASK_DATA=/path/to/features/unfiltered/precompute_unfiltered_pca512_cls128_mean_pooled\n",
    "TASK_DATA=/kaggle/input/wav2vec-u-cv-swedish-audio/precompute_pca512_cls128_mean_pooled/\n",
    "#TEXT_DATA=/path/to/data  # path to fairseq-preprocessed GAN data\n",
    "TEXT_DATA=/kaggle/input/wav2vec-u-cv-swedish-text-prep/preppedtext/phones/\n",
    "#KENLM_PATH=/path/to/data/kenlm.phn.o4.bin  # KenLM 4-gram phoneme language model (LM data = GAN data here)\n",
    "KENLM_PATH=/kaggle/input/wav2vec-u-cv-swedish-text-prep/preppedtext/phones/lm.phones.filtered.04.bin\n",
    "\n",
    "PREFIX=$PREFIX fairseq-hydra-train \\\n",
    "\t-m --config-dir config/gan \\\n",
    "\t--config-path . \\\n",
    "\t--config-name w2vu \\\n",
    "\ttask._name='unpaired_audio_text' \\\n",
    "\ttask.data=${TASK_DATA} \\\n",
    "\ttask.text_data=${TEXT_DATA} \\\n",
    "\ttask.kenlm_path=${KENLM_PATH} \\\n",
    "\tcheckpoint.no_epoch_checkpoints=false \\\n",
    "\tcheckpoint.save_dir=/kaggle/working \\\n",
    "\t'common.seed=range(0,5)'"
   ]
  },
  {
   "cell_type": "code",
   "execution_count": 15,
   "id": "imposed-gauge",
   "metadata": {
    "execution": {
     "iopub.execute_input": "2021-05-30T18:57:24.157782Z",
     "iopub.status.busy": "2021-05-30T18:57:24.153977Z",
     "iopub.status.idle": "2021-05-30T18:57:40.626534Z",
     "shell.execute_reply": "2021-05-30T18:57:40.627052Z"
    },
    "papermill": {
     "duration": 16.502529,
     "end_time": "2021-05-30T18:57:40.627247",
     "exception": false,
     "start_time": "2021-05-30T18:57:24.124718",
     "status": "completed"
    },
    "tags": []
   },
   "outputs": [
    {
     "name": "stdout",
     "output_type": "stream",
     "text": [
      "[2021-05-30 18:57:38,072][HYDRA] Launching 5 jobs locally\r\n",
      "[2021-05-30 18:57:38,072][HYDRA] \t#0 : task._name=unpaired_audio_text task.data=/kaggle/input/wav2vec-u-cv-swedish-audio/precompute_pca512_cls128_mean_pooled/ task.text_data=/kaggle/input/wav2vec-u-cv-swedish-text-prep/preppedtext/phones/ task.kenlm_path=/kaggle/input/wav2vec-u-cv-swedish-text-prep/preppedtext/phones/lm.phones.filtered.04.bin checkpoint.no_epoch_checkpoints=False checkpoint.save_dir=/kaggle/working common.seed=0\r\n",
      "[2021-05-30 18:57:40,188][fairseq_cli.train][INFO] - {'_name': None, 'common': {'_name': None, 'no_progress_bar': False, 'log_interval': 100, 'log_format': 'json', 'log_file': None, 'tensorboard_logdir': 'tb', 'wandb_project': None, 'azureml_logging': False, 'seed': 0, 'cpu': False, 'tpu': False, 'bf16': False, 'memory_efficient_bf16': False, 'fp16': False, 'memory_efficient_fp16': False, 'fp16_no_flatten_grads': True, 'fp16_init_scale': 128, 'fp16_scale_window': None, 'fp16_scale_tolerance': 0.0, 'min_loss_scale': 0.0001, 'threshold_loss_scale': None, 'amp': False, 'amp_batch_retries': 2, 'amp_init_scale': 128, 'amp_scale_window': None, 'user_dir': None, 'empty_cache_freq': 0, 'all_gather_list_size': 16384, 'model_parallel_size': 1, 'quantization_config_path': None, 'profile': False, 'reset_logging': False, 'suppress_crashes': False, 'use_plasma_view': False, 'plasma_path': '/tmp/plasma'}, 'common_eval': {'_name': None, 'path': None, 'post_process': None, 'quiet': False, 'model_overrides': '{}', 'results_path': None}, 'distributed_training': {'_name': None, 'distributed_world_size': 1, 'distributed_rank': 0, 'distributed_backend': 'nccl', 'distributed_init_method': None, 'distributed_port': -1, 'device_id': 0, 'distributed_no_spawn': False, 'ddp_backend': 'pytorch_ddp', 'ddp_comm_hook': 'none', 'bucket_cap_mb': 25, 'fix_batches_to_gpus': False, 'find_unused_parameters': False, 'fast_stat_sync': False, 'heartbeat_timeout': -1, 'broadcast_buffers': False, 'slowmo_momentum': None, 'slowmo_algorithm': 'LocalSGD', 'localsgd_frequency': 3, 'nprocs_per_node': 1, 'pipeline_model_parallel': False, 'pipeline_balance': None, 'pipeline_devices': None, 'pipeline_chunks': 0, 'pipeline_encoder_balance': None, 'pipeline_encoder_devices': None, 'pipeline_decoder_balance': None, 'pipeline_decoder_devices': None, 'pipeline_checkpoint': 'never', 'zero_sharding': 'none', 'fp16': False, 'memory_efficient_fp16': False, 'tpu': False, 'no_reshard_after_forward': False, 'fp32_reduce_scatter': False, 'cpu_offload': False, 'use_sharded_state': False, 'distributed_num_procs': 0}, 'dataset': {'_name': None, 'num_workers': 6, 'skip_invalid_size_inputs_valid_test': True, 'max_tokens': None, 'batch_size': 160, 'required_batch_size_multiple': 8, 'required_seq_len_multiple': 1, 'dataset_impl': None, 'data_buffer_size': 10, 'train_subset': 'train', 'valid_subset': 'valid', 'combine_valid_subsets': None, 'ignore_unused_valid_subsets': False, 'validate_interval': 1, 'validate_interval_updates': 0, 'validate_after_updates': 0, 'fixed_validation_seed': None, 'disable_validation': False, 'max_tokens_valid': None, 'batch_size_valid': 160, 'max_valid_steps': None, 'curriculum': 0, 'gen_subset': 'test', 'num_shards': 1, 'shard_id': 0}, 'optimization': {'_name': None, 'max_epoch': 0, 'max_update': 150000, 'stop_time_hours': 0.0, 'clip_norm': 5.0, 'sentence_avg': False, 'update_freq': [1], 'lr': [0.0], 'stop_min_lr': -1.0, 'use_bmuf': False}, 'checkpoint': {'_name': None, 'save_dir': '/kaggle/working', 'restore_file': 'checkpoint_last.pt', 'finetune_from_model': None, 'reset_dataloader': False, 'reset_lr_scheduler': False, 'reset_meters': False, 'reset_optimizer': False, 'optimizer_overrides': '{}', 'save_interval': 1, 'save_interval_updates': 0, 'keep_interval_updates': -1, 'keep_interval_updates_pattern': -1, 'keep_last_epochs': -1, 'keep_best_checkpoints': -1, 'no_save': False, 'no_epoch_checkpoints': False, 'no_last_checkpoints': False, 'no_save_optimizer_state': False, 'best_checkpoint_metric': 'weighted_lm_ppl', 'maximize_best_checkpoint_metric': False, 'patience': -1, 'checkpoint_suffix': '', 'checkpoint_shard_count': 1, 'load_checkpoint_on_all_dp_ranks': False, 'write_checkpoints_asynchronously': False, 'model_parallel_size': 1}, 'bmuf': {'_name': None, 'block_lr': 1.0, 'block_momentum': 0.875, 'global_sync_iter': 50, 'warmup_iterations': 500, 'use_nbm': False, 'average_sync': False, 'distributed_world_size': 1}, 'generation': {'_name': None, 'beam': 5, 'nbest': 1, 'max_len_a': 0.0, 'max_len_b': 200, 'min_len': 1, 'match_source_len': False, 'unnormalized': False, 'no_early_stop': False, 'no_beamable_mm': False, 'lenpen': 1.0, 'unkpen': 0.0, 'replace_unk': None, 'sacrebleu': False, 'score_reference': False, 'prefix_size': 0, 'no_repeat_ngram_size': 0, 'sampling': False, 'sampling_topk': -1, 'sampling_topp': -1.0, 'constraints': None, 'temperature': 1.0, 'diverse_beam_groups': -1, 'diverse_beam_strength': 0.5, 'diversity_rate': -1.0, 'print_alignment': None, 'print_step': False, 'lm_path': None, 'lm_weight': 0.0, 'iter_decode_eos_penalty': 0.0, 'iter_decode_max_iter': 10, 'iter_decode_force_max_iter': False, 'iter_decode_with_beam': 1, 'iter_decode_with_external_reranker': False, 'retain_iter_history': False, 'retain_dropout': False, 'retain_dropout_modules': None, 'decoding_format': None, 'no_seed_provided': False}, 'eval_lm': {'_name': None, 'output_word_probs': False, 'output_word_stats': False, 'context_window': 0, 'softmax_batch': 9223372036854775807}, 'interactive': {'_name': None, 'buffer_size': 0, 'input': '-'}, 'model': {'_name': 'wav2vec_u', 'discriminator_dim': 384, 'discriminator_depth': 2, 'discriminator_kernel': 6, 'discriminator_linear_emb': False, 'discriminator_causal': True, 'discriminator_max_pool': False, 'discriminator_act_after_linear': False, 'discriminator_dropout': 0.0, 'discriminator_weight_norm': False, 'generator_stride': 1, 'generator_kernel': 4, 'generator_bias': False, 'generator_dropout': 0.1, 'smoothness_weight': 0.5, 'smoothing': 0, 'smoothing_one_sided': False, 'gumbel': False, 'hard_gumbel': False, 'gradient_penalty': 1.5, 'code_penalty': 4.0, 'temp': [2, 0.1, 0.99995], 'input_dim': 512, 'segmentation': {'type': 'JOIN', 'mean_pool_join': False, 'remove_zeros': False}}, 'task': {'_name': 'unpaired_audio_text', 'data': '/kaggle/input/wav2vec-u-cv-swedish-audio/precompute_pca512_cls128_mean_pooled/', 'text_data': '/kaggle/input/wav2vec-u-cv-swedish-text-prep/preppedtext/phones/', 'labels': 'phn', 'sort_by_length': False, 'unfiltered': False, 'max_length': None, 'append_eos': False, 'kenlm_path': '/kaggle/input/wav2vec-u-cv-swedish-text-prep/preppedtext/phones/lm.phones.filtered.04.bin'}, 'criterion': {'_name': 'model', 'loss_weights': {}, 'log_keys': ['accuracy_dense', 'accuracy_token', 'temp', 'code_ppl']}, 'optimizer': {'_name': 'composite', 'groups': {'generator': {'lr': [0.0004], 'lr_float': None, 'optimizer': {'_name': 'adam', 'adam_betas': [0.5, 0.98], 'adam_eps': 1e-06, 'weight_decay': 0, 'amsgrad': False}, 'lr_scheduler': {'_name': 'fixed', 'warmup_updates': 0}}, 'discriminator': {'lr': [0.0005], 'lr_float': None, 'optimizer': {'_name': 'adam', 'adam_betas': [0.5, 0.98], 'adam_eps': 1e-06, 'weight_decay': 0.0001, 'amsgrad': False}, 'lr_scheduler': {'_name': 'fixed', 'warmup_updates': 0}}}}, 'lr_scheduler': {'_name': 'pass_through'}, 'scoring': None, 'bpe': None, 'tokenizer': None, 'job_logging_cfg': {'version': 1, 'formatters': {'simple': {'format': '[%(asctime)s][%(name)s][%(levelname)s] - %(message)s'}}, 'handlers': {'console': {'class': 'logging.StreamHandler', 'formatter': 'simple', 'stream': 'ext://sys.stdout'}, 'file': {'class': 'logging.FileHandler', 'formatter': 'simple', 'filename': 'hydra_train.log'}}, 'root': {'level': 'INFO', 'handlers': ['console', 'file']}, 'disable_existing_loggers': False}}\r\n",
      "Traceback (most recent call last):\r\n",
      "  File \"/opt/conda/bin/fairseq-hydra-train\", line 8, in <module>\r\n",
      "    sys.exit(cli_main())\r\n",
      "  File \"/opt/conda/lib/python3.7/site-packages/fairseq_cli/hydra_train.py\", line 76, in cli_main\r\n",
      "    hydra_main()\r\n",
      "  File \"/opt/conda/lib/python3.7/site-packages/hydra/main.py\", line 37, in decorated_main\r\n",
      "    strict=strict,\r\n",
      "  File \"/opt/conda/lib/python3.7/site-packages/hydra/_internal/utils.py\", line 355, in _run_hydra\r\n",
      "    lambda: hydra.multirun(\r\n",
      "  File \"/opt/conda/lib/python3.7/site-packages/hydra/_internal/utils.py\", line 201, in run_and_report\r\n",
      "    raise ex\r\n",
      "  File \"/opt/conda/lib/python3.7/site-packages/hydra/_internal/utils.py\", line 198, in run_and_report\r\n",
      "    return func()\r\n",
      "  File \"/opt/conda/lib/python3.7/site-packages/hydra/_internal/utils.py\", line 358, in <lambda>\r\n",
      "    overrides=args.overrides,\r\n",
      "  File \"/opt/conda/lib/python3.7/site-packages/hydra/_internal/hydra.py\", line 136, in multirun\r\n",
      "    return sweeper.sweep(arguments=task_overrides)\r\n",
      "  File \"/opt/conda/lib/python3.7/site-packages/hydra/_internal/core_plugins/basic_sweeper.py\", line 154, in sweep\r\n",
      "    results = self.launcher.launch(batch, initial_job_idx=initial_job_idx)\r\n",
      "  File \"/opt/conda/lib/python3.7/site-packages/hydra/_internal/core_plugins/basic_launcher.py\", line 80, in launch\r\n",
      "    job_subdir_key=\"hydra.sweep.subdir\",\r\n",
      "  File \"/opt/conda/lib/python3.7/site-packages/hydra/core/utils.py\", line 127, in run_job\r\n",
      "    ret.return_value = task_function(task_cfg)\r\n",
      "  File \"/opt/conda/lib/python3.7/site-packages/fairseq_cli/hydra_train.py\", line 45, in hydra_main\r\n",
      "    distributed_utils.call_main(cfg, pre_main)\r\n",
      "  File \"/opt/conda/lib/python3.7/site-packages/fairseq/distributed/utils.py\", line 369, in call_main\r\n",
      "    main(cfg, **kwargs)\r\n",
      "  File \"/opt/conda/lib/python3.7/site-packages/fairseq_cli/train.py\", line 86, in main\r\n",
      "    task = tasks.setup_task(cfg.task)\r\n",
      "  File \"/opt/conda/lib/python3.7/site-packages/fairseq/tasks/__init__.py\", line 42, in setup_task\r\n",
      "    assert task is not None, f\"Could not infer task type from {cfg}. Available tasks: {TASK_REGISTRY.keys()}\"\r\n",
      "AssertionError: Could not infer task type from {'_name': 'unpaired_audio_text', 'data': '/kaggle/input/wav2vec-u-cv-swedish-audio/precompute_pca512_cls128_mean_pooled/', 'text_data': '/kaggle/input/wav2vec-u-cv-swedish-text-prep/preppedtext/phones/', 'labels': 'phn', 'sort_by_length': False, 'unfiltered': False, 'max_length': None, 'append_eos': False, 'kenlm_path': '/kaggle/input/wav2vec-u-cv-swedish-text-prep/preppedtext/phones/lm.phones.filtered.04.bin'}. Available tasks: dict_keys(['hubert_pretraining', 'translation', 'multilingual_translation', 'semisupervised_translation', 'audio_pretraining', 'translation_from_pretrained_xlm', 'online_backtranslation', 'denoising', 'multilingual_denoising', 'translation_multi_simple_epoch', 'masked_lm', 'translation_lev', 'sentence_prediction', 'multilingual_masked_lm', 'legacy_masked_lm', 'speech_to_text', 'simul_speech_to_text', 'simul_text_to_text', 'language_modeling', 'cross_lingual_lm', 'sentence_ranking', 'translation_from_pretrained_bart', 'dummy_lm', 'dummy_masked_lm', 'dummy_mt'])\r\n"
     ]
    }
   ],
   "source": [
    "!bash rungan.sh"
   ]
  }
 ],
 "metadata": {
  "kernelspec": {
   "display_name": "Python 3",
   "language": "python",
   "name": "python3"
  },
  "language_info": {
   "codemirror_mode": {
    "name": "ipython",
    "version": 3
   },
   "file_extension": ".py",
   "mimetype": "text/x-python",
   "name": "python",
   "nbconvert_exporter": "python",
   "pygments_lexer": "ipython3",
   "version": "3.7.10"
  },
  "papermill": {
   "default_parameters": {},
   "duration": 198.373923,
   "end_time": "2021-05-30T18:57:41.366405",
   "environment_variables": {},
   "exception": null,
   "input_path": "__notebook__.ipynb",
   "output_path": "__notebook__.ipynb",
   "parameters": {},
   "start_time": "2021-05-30T18:54:22.992482",
   "version": "2.3.3"
  }
 },
 "nbformat": 4,
 "nbformat_minor": 5
}
