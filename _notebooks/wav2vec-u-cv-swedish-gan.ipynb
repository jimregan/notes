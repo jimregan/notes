{
 "cells": [
  {
   "cell_type": "markdown",
   "id": "productive-dancing",
   "metadata": {
    "papermill": {
     "duration": 0.013228,
     "end_time": "2021-05-30T18:14:07.813255",
     "exception": false,
     "start_time": "2021-05-30T18:14:07.800027",
     "status": "completed"
    },
    "tags": []
   },
   "source": [
    "## Preparation"
   ]
  },
  {
   "cell_type": "code",
   "execution_count": 1,
   "id": "cloudy-ecuador",
   "metadata": {
    "_cell_guid": "b1076dfc-b9ad-4769-8c92-a6c4dae69d19",
    "_uuid": "8f2839f25d086af736a60e9eeb907d3b93b6e0e5",
    "execution": {
     "iopub.execute_input": "2021-05-30T18:14:07.841927Z",
     "iopub.status.busy": "2021-05-30T18:14:07.840852Z",
     "iopub.status.idle": "2021-05-30T18:14:07.851161Z",
     "shell.execute_reply": "2021-05-30T18:14:07.851621Z",
     "shell.execute_reply.started": "2021-05-25T22:46:58.262403Z"
    },
    "papermill": {
     "duration": 0.026006,
     "end_time": "2021-05-30T18:14:07.851887",
     "exception": false,
     "start_time": "2021-05-30T18:14:07.825881",
     "status": "completed"
    },
    "tags": []
   },
   "outputs": [
    {
     "name": "stdout",
     "output_type": "stream",
     "text": [
      "/opt\n"
     ]
    }
   ],
   "source": [
    "%cd /opt"
   ]
  },
  {
   "cell_type": "code",
   "execution_count": 2,
   "id": "modular-parcel",
   "metadata": {
    "execution": {
     "iopub.execute_input": "2021-05-30T18:14:07.894544Z",
     "iopub.status.busy": "2021-05-30T18:14:07.883463Z",
     "iopub.status.idle": "2021-05-30T18:14:51.780419Z",
     "shell.execute_reply": "2021-05-30T18:14:51.781611Z"
    },
    "papermill": {
     "duration": 43.917605,
     "end_time": "2021-05-30T18:14:51.782584",
     "exception": false,
     "start_time": "2021-05-30T18:14:07.864979",
     "status": "completed"
    },
    "tags": []
   },
   "outputs": [],
   "source": [
    "%%capture\n",
    "!tar xvf /kaggle/input/extract-prebuilt-kaldi-from-docker/kaldi.tar"
   ]
  },
  {
   "cell_type": "code",
   "execution_count": 3,
   "id": "third-natural",
   "metadata": {
    "execution": {
     "iopub.execute_input": "2021-05-30T18:14:51.841062Z",
     "iopub.status.busy": "2021-05-30T18:14:51.839898Z",
     "iopub.status.idle": "2021-05-30T18:14:51.844801Z",
     "shell.execute_reply": "2021-05-30T18:14:51.845276Z"
    },
    "papermill": {
     "duration": 0.034895,
     "end_time": "2021-05-30T18:14:51.845634",
     "exception": false,
     "start_time": "2021-05-30T18:14:51.810739",
     "status": "completed"
    },
    "tags": []
   },
   "outputs": [
    {
     "name": "stdout",
     "output_type": "stream",
     "text": [
      "/tmp\n"
     ]
    }
   ],
   "source": [
    "%cd /tmp"
   ]
  },
  {
   "cell_type": "code",
   "execution_count": 4,
   "id": "finnish-worst",
   "metadata": {
    "execution": {
     "iopub.execute_input": "2021-05-30T18:14:51.876986Z",
     "iopub.status.busy": "2021-05-30T18:14:51.876017Z",
     "iopub.status.idle": "2021-05-30T18:15:02.070834Z",
     "shell.execute_reply": "2021-05-30T18:15:02.071358Z",
     "shell.execute_reply.started": "2021-05-25T22:38:20.218298Z"
    },
    "papermill": {
     "duration": 10.212091,
     "end_time": "2021-05-30T18:15:02.071550",
     "exception": false,
     "start_time": "2021-05-30T18:14:51.859459",
     "status": "completed"
    },
    "tags": []
   },
   "outputs": [
    {
     "name": "stdout",
     "output_type": "stream",
     "text": [
      "Cloning into 'fairseq'...\r\n",
      "remote: Enumerating objects: 28172, done.\u001b[K\r\n",
      "remote: Counting objects: 100% (586/586), done.\u001b[K\r\n",
      "remote: Compressing objects: 100% (339/339), done.\u001b[K\r\n",
      "remote: Total 28172 (delta 308), reused 465 (delta 234), pack-reused 27586\u001b[K\r\n",
      "Receiving objects: 100% (28172/28172), 11.87 MiB | 17.90 MiB/s, done.\r\n",
      "Resolving deltas: 100% (21127/21127), done.\r\n"
     ]
    }
   ],
   "source": [
    "!git clone https://github.com/pytorch/fairseq/"
   ]
  },
  {
   "cell_type": "code",
   "execution_count": 5,
   "id": "informational-overview",
   "metadata": {
    "execution": {
     "iopub.execute_input": "2021-05-30T18:15:02.124679Z",
     "iopub.status.busy": "2021-05-30T18:15:02.121454Z",
     "iopub.status.idle": "2021-05-30T18:15:58.535101Z",
     "shell.execute_reply": "2021-05-30T18:15:58.534409Z"
    },
    "papermill": {
     "duration": 56.44168,
     "end_time": "2021-05-30T18:15:58.535248",
     "exception": false,
     "start_time": "2021-05-30T18:15:02.093568",
     "status": "completed"
    },
    "tags": []
   },
   "outputs": [],
   "source": [
    "%%capture\n",
    "!pip install git+https://github.com/pytorch/fairseq/"
   ]
  },
  {
   "cell_type": "code",
   "execution_count": 6,
   "id": "virtual-steps",
   "metadata": {
    "execution": {
     "iopub.execute_input": "2021-05-30T18:15:58.596607Z",
     "iopub.status.busy": "2021-05-30T18:15:58.591814Z",
     "iopub.status.idle": "2021-05-30T18:16:00.720273Z",
     "shell.execute_reply": "2021-05-30T18:16:00.719515Z",
     "shell.execute_reply.started": "2021-05-25T22:47:02.096238Z"
    },
    "papermill": {
     "duration": 2.163502,
     "end_time": "2021-05-30T18:16:00.720434",
     "exception": false,
     "start_time": "2021-05-30T18:15:58.556932",
     "status": "completed"
    },
    "tags": []
   },
   "outputs": [
    {
     "name": "stdout",
     "output_type": "stream",
     "text": [
      "Cloning into 'kenlm'...\r\n",
      "remote: Enumerating objects: 13824, done.\u001b[K\r\n",
      "remote: Counting objects: 100% (137/137), done.\u001b[K\r\n",
      "remote: Compressing objects: 100% (79/79), done.\u001b[K\r\n",
      "remote: Total 13824 (delta 76), reused 92 (delta 45), pack-reused 13687\u001b[K\r\n",
      "Receiving objects: 100% (13824/13824), 5.49 MiB | 11.36 MiB/s, done.\r\n",
      "Resolving deltas: 100% (7956/7956), done.\r\n"
     ]
    }
   ],
   "source": [
    "!git clone https://github.com/kpu/kenlm"
   ]
  },
  {
   "cell_type": "code",
   "execution_count": 7,
   "id": "active-storm",
   "metadata": {
    "execution": {
     "iopub.execute_input": "2021-05-30T18:16:00.783974Z",
     "iopub.status.busy": "2021-05-30T18:16:00.779486Z",
     "iopub.status.idle": "2021-05-30T18:16:06.582611Z",
     "shell.execute_reply": "2021-05-30T18:16:06.582068Z"
    },
    "papermill": {
     "duration": 5.835882,
     "end_time": "2021-05-30T18:16:06.582748",
     "exception": false,
     "start_time": "2021-05-30T18:16:00.746866",
     "status": "completed"
    },
    "tags": []
   },
   "outputs": [],
   "source": [
    "%%capture\n",
    "!apt-get -y install libeigen3-dev liblzma-dev zlib1g-dev libbz2-dev"
   ]
  },
  {
   "cell_type": "code",
   "execution_count": 8,
   "id": "british-performer",
   "metadata": {
    "execution": {
     "iopub.execute_input": "2021-05-30T18:16:06.644636Z",
     "iopub.status.busy": "2021-05-30T18:16:06.644022Z",
     "iopub.status.idle": "2021-05-30T18:17:18.467457Z",
     "shell.execute_reply": "2021-05-30T18:17:18.467992Z"
    },
    "papermill": {
     "duration": 71.858969,
     "end_time": "2021-05-30T18:17:18.468165",
     "exception": false,
     "start_time": "2021-05-30T18:16:06.609196",
     "status": "completed"
    },
    "tags": []
   },
   "outputs": [],
   "source": [
    "%%capture\n",
    "%cd kenlm\n",
    "!mkdir build\n",
    "%cd build\n",
    "!cmake ..\n",
    "!make -j 4\n",
    "%cd /tmp"
   ]
  },
  {
   "cell_type": "code",
   "execution_count": 9,
   "id": "alleged-carrier",
   "metadata": {
    "execution": {
     "iopub.execute_input": "2021-05-30T18:17:18.525585Z",
     "iopub.status.busy": "2021-05-30T18:17:18.524542Z",
     "iopub.status.idle": "2021-05-30T18:17:18.529604Z",
     "shell.execute_reply": "2021-05-30T18:17:18.530122Z",
     "shell.execute_reply.started": "2021-05-25T22:58:58.397816Z"
    },
    "papermill": {
     "duration": 0.035471,
     "end_time": "2021-05-30T18:17:18.530317",
     "exception": false,
     "start_time": "2021-05-30T18:17:18.494846",
     "status": "completed"
    },
    "tags": []
   },
   "outputs": [],
   "source": [
    "import os\n",
    "os.environ['PATH'] = f\"{os.environ['PATH']}:/tmp/kenlm/build/bin/\"\n",
    "os.environ['FAIRSEQ_ROOT'] = '/tmp/fairseq'"
   ]
  },
  {
   "cell_type": "code",
   "execution_count": 10,
   "id": "legislative-parish",
   "metadata": {
    "execution": {
     "iopub.execute_input": "2021-05-30T18:17:18.587052Z",
     "iopub.status.busy": "2021-05-30T18:17:18.586097Z",
     "iopub.status.idle": "2021-05-30T18:17:18.592040Z",
     "shell.execute_reply": "2021-05-30T18:17:18.592606Z",
     "shell.execute_reply.started": "2021-05-25T22:55:38.373919Z"
    },
    "papermill": {
     "duration": 0.035563,
     "end_time": "2021-05-30T18:17:18.592773",
     "exception": false,
     "start_time": "2021-05-30T18:17:18.557210",
     "status": "completed"
    },
    "tags": []
   },
   "outputs": [
    {
     "name": "stdout",
     "output_type": "stream",
     "text": [
      "/tmp/fairseq/examples/wav2vec/unsupervised\n"
     ]
    }
   ],
   "source": [
    "%cd fairseq/examples/wav2vec/unsupervised"
   ]
  },
  {
   "cell_type": "code",
   "execution_count": 11,
   "id": "plastic-rugby",
   "metadata": {
    "execution": {
     "iopub.execute_input": "2021-05-30T18:17:18.650831Z",
     "iopub.status.busy": "2021-05-30T18:17:18.650175Z",
     "iopub.status.idle": "2021-05-30T18:17:18.652596Z",
     "shell.execute_reply": "2021-05-30T18:17:18.653084Z"
    },
    "papermill": {
     "duration": 0.033508,
     "end_time": "2021-05-30T18:17:18.653249",
     "exception": false,
     "start_time": "2021-05-30T18:17:18.619741",
     "status": "completed"
    },
    "tags": []
   },
   "outputs": [],
   "source": [
    "# Needed to see what's going wrong\n",
    "os.environ['HYDRA_FULL_ERROR'] = '1'"
   ]
  },
  {
   "cell_type": "code",
   "execution_count": 12,
   "id": "decreased-border",
   "metadata": {
    "execution": {
     "iopub.execute_input": "2021-05-30T18:17:18.711895Z",
     "iopub.status.busy": "2021-05-30T18:17:18.711168Z",
     "iopub.status.idle": "2021-05-30T18:17:18.713927Z",
     "shell.execute_reply": "2021-05-30T18:17:18.714450Z"
    },
    "papermill": {
     "duration": 0.034619,
     "end_time": "2021-05-30T18:17:18.714640",
     "exception": false,
     "start_time": "2021-05-30T18:17:18.680021",
     "status": "completed"
    },
    "tags": []
   },
   "outputs": [],
   "source": [
    "import os\n",
    "os.environ['LD_LIBRARY_PATH'] = '/opt/conda/lib:/opt/kaldi/tools/openfst-1.6.7/lib:/opt/kaldi/src/lib'"
   ]
  },
  {
   "cell_type": "markdown",
   "id": "initial-palestine",
   "metadata": {
    "papermill": {
     "duration": 0.026445,
     "end_time": "2021-05-30T18:17:18.768246",
     "exception": false,
     "start_time": "2021-05-30T18:17:18.741801",
     "status": "completed"
    },
    "tags": []
   },
   "source": [
    "## GAN"
   ]
  },
  {
   "cell_type": "code",
   "execution_count": 13,
   "id": "fatal-sociology",
   "metadata": {
    "execution": {
     "iopub.execute_input": "2021-05-30T18:17:18.830359Z",
     "iopub.status.busy": "2021-05-30T18:17:18.826497Z",
     "iopub.status.idle": "2021-05-30T18:17:19.564840Z",
     "shell.execute_reply": "2021-05-30T18:17:19.564304Z",
     "shell.execute_reply.started": "2021-05-30T16:46:39.899633Z"
    },
    "papermill": {
     "duration": 0.769652,
     "end_time": "2021-05-30T18:17:19.564980",
     "exception": false,
     "start_time": "2021-05-30T18:17:18.795328",
     "status": "completed"
    },
    "tags": []
   },
   "outputs": [
    {
     "name": "stdout",
     "output_type": "stream",
     "text": [
      "CLUS128\t\t    precompute_pca512_cls128_mean\t  train.npy\r\n",
      "__notebook__.ipynb  precompute_pca512_cls128_mean_pooled  train.phn\r\n",
      "__output__.json     test.lengths\t\t\t  train.tsv\r\n",
      "__results__.html    test.ltr\t\t\t\t  train.wrd\r\n",
      "custom.css\t    test.npy\t\t\t\t  valid.lengths\r\n",
      "dict.test\t    test.phn\t\t\t\t  valid.ltr\r\n",
      "dict.train\t    test.tsv\t\t\t\t  valid.npy\r\n",
      "dict.valid\t    test.wrd\t\t\t\t  valid.phn\r\n",
      "pca\t\t    train.lengths\t\t\t  valid.tsv\r\n",
      "precompute_pca512   train.ltr\t\t\t\t  valid.wrd\r\n"
     ]
    }
   ],
   "source": [
    "!ls /kaggle/input/wav2vec-u-cv-swedish-audio/"
   ]
  },
  {
   "cell_type": "code",
   "execution_count": 14,
   "id": "unlike-submission",
   "metadata": {
    "execution": {
     "iopub.execute_input": "2021-05-30T18:17:19.626365Z",
     "iopub.status.busy": "2021-05-30T18:17:19.625721Z",
     "iopub.status.idle": "2021-05-30T18:17:19.629790Z",
     "shell.execute_reply": "2021-05-30T18:17:19.630304Z"
    },
    "papermill": {
     "duration": 0.038094,
     "end_time": "2021-05-30T18:17:19.630463",
     "exception": false,
     "start_time": "2021-05-30T18:17:19.592369",
     "status": "completed"
    },
    "tags": []
   },
   "outputs": [
    {
     "name": "stdout",
     "output_type": "stream",
     "text": [
      "Writing rungan.sh\n"
     ]
    }
   ],
   "source": [
    "%%writefile rungan.sh\n",
    "PREFIX=w2v_unsup_gan_xp\n",
    "#TASK_DATA=/path/to/features/unfiltered/precompute_unfiltered_pca512_cls128_mean_pooled\n",
    "TASK_DATA=/kaggle/input/wav2vec-u-cv-swedish-audio/precompute_pca512_cls128_mean_pooled/\n",
    "#TEXT_DATA=/path/to/data  # path to fairseq-preprocessed GAN data\n",
    "TEXT_DATA=/kaggle/input/wav2vec-u-cv-swedish-text-prep/preppedtext/phones/\n",
    "#KENLM_PATH=/path/to/data/kenlm.phn.o4.bin  # KenLM 4-gram phoneme language model (LM data = GAN data here)\n",
    "KENLM_PATH=/kaggle/input/wav2vec-u-cv-swedish-text-prep/preppedtext/phones/lm.phones.filtered.04.bin\n",
    "\n",
    "PREFIX=$PREFIX fairseq-hydra-train \\\n",
    "\t-m --config-dir config/gan \\\n",
    "\t--user-dir=tasks \\\n",
    "\t--config-name w2vu \\\n",
    "\ttask._name='unpaired_audio_text' \\\n",
    "\ttask.data=${TASK_DATA} \\\n",
    "\ttask.text_data=${TEXT_DATA} \\\n",
    "\ttask.kenlm_path=${KENLM_PATH} \\\n",
    "\tcheckpoint.no_epoch_checkpoints=false \\\n",
    "\tcheckpoint.save_dir=/kaggle/working \\\n",
    "\t'common.seed=range(0,5)'"
   ]
  },
  {
   "cell_type": "code",
   "execution_count": 15,
   "id": "authorized-toronto",
   "metadata": {
    "execution": {
     "iopub.execute_input": "2021-05-30T18:17:19.690621Z",
     "iopub.status.busy": "2021-05-30T18:17:19.689940Z",
     "iopub.status.idle": "2021-05-30T18:17:24.462409Z",
     "shell.execute_reply": "2021-05-30T18:17:24.461838Z"
    },
    "papermill": {
     "duration": 4.804235,
     "end_time": "2021-05-30T18:17:24.462568",
     "exception": false,
     "start_time": "2021-05-30T18:17:19.658333",
     "status": "completed"
    },
    "tags": []
   },
   "outputs": [
    {
     "name": "stdout",
     "output_type": "stream",
     "text": [
      "usage: fairseq-hydra-train [--help] [--hydra-help] [--version]\r\n",
      "                           [--cfg {job,hydra,all}] [--package PACKAGE] [--run]\r\n",
      "                           [--multirun] [--shell-completion]\r\n",
      "                           [--config-path CONFIG_PATH]\r\n",
      "                           [--config-name CONFIG_NAME]\r\n",
      "                           [--config-dir CONFIG_DIR] [--info]\r\n",
      "                           [overrides [overrides ...]]\r\n",
      "fairseq-hydra-train: error: unrecognized arguments: --user-dir=tasks\r\n",
      "usage: fairseq-hydra-train [--help] [--hydra-help] [--version]\r\n",
      "                           [--cfg {job,hydra,all}] [--package PACKAGE] [--run]\r\n",
      "                           [--multirun] [--shell-completion]\r\n",
      "                           [--config-path CONFIG_PATH]\r\n",
      "                           [--config-name CONFIG_NAME]\r\n",
      "                           [--config-dir CONFIG_DIR] [--info]\r\n",
      "                           [overrides [overrides ...]]\r\n",
      "fairseq-hydra-train: error: unrecognized arguments: --user-dir=tasks\r\n"
     ]
    }
   ],
   "source": [
    "!bash rungan.sh"
   ]
  }
 ],
 "metadata": {
  "kernelspec": {
   "display_name": "Python 3",
   "language": "python",
   "name": "python3"
  },
  "language_info": {
   "codemirror_mode": {
    "name": "ipython",
    "version": 3
   },
   "file_extension": ".py",
   "mimetype": "text/x-python",
   "name": "python",
   "nbconvert_exporter": "python",
   "pygments_lexer": "ipython3",
   "version": "3.7.10"
  },
  "papermill": {
   "default_parameters": {},
   "duration": 205.804355,
   "end_time": "2021-05-30T18:17:26.057118",
   "environment_variables": {},
   "exception": null,
   "input_path": "__notebook__.ipynb",
   "output_path": "__notebook__.ipynb",
   "parameters": {},
   "start_time": "2021-05-30T18:14:00.252763",
   "version": "2.3.3"
  }
 },
 "nbformat": 4,
 "nbformat_minor": 5
}
