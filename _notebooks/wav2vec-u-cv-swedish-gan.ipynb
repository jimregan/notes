{
 "cells": [
  {
   "cell_type": "markdown",
   "id": "entire-century",
   "metadata": {
    "papermill": {
     "duration": 0.014979,
     "end_time": "2021-06-04T11:29:44.174820",
     "exception": false,
     "start_time": "2021-06-04T11:29:44.159841",
     "status": "completed"
    },
    "tags": []
   },
   "source": [
    "## Preparation"
   ]
  },
  {
   "cell_type": "code",
   "execution_count": 1,
   "id": "standard-occasions",
   "metadata": {
    "_cell_guid": "b1076dfc-b9ad-4769-8c92-a6c4dae69d19",
    "_uuid": "8f2839f25d086af736a60e9eeb907d3b93b6e0e5",
    "execution": {
     "iopub.execute_input": "2021-06-04T11:29:44.213638Z",
     "iopub.status.busy": "2021-06-04T11:29:44.213140Z",
     "iopub.status.idle": "2021-06-04T11:33:11.039702Z",
     "shell.execute_reply": "2021-06-04T11:33:11.038729Z",
     "shell.execute_reply.started": "2021-05-31T11:43:46.770364Z"
    },
    "papermill": {
     "duration": 206.851127,
     "end_time": "2021-06-04T11:33:11.039877",
     "exception": false,
     "start_time": "2021-06-04T11:29:44.188750",
     "status": "completed"
    },
    "tags": []
   },
   "outputs": [],
   "source": [
    "%%capture\n",
    "!conda install -c pykaldi pykaldi -y"
   ]
  },
  {
   "cell_type": "code",
   "execution_count": 2,
   "id": "nominated-african",
   "metadata": {
    "execution": {
     "iopub.execute_input": "2021-06-04T11:33:11.075590Z",
     "iopub.status.busy": "2021-06-04T11:33:11.072247Z",
     "iopub.status.idle": "2021-06-04T11:33:15.966964Z",
     "shell.execute_reply": "2021-06-04T11:33:15.966487Z",
     "shell.execute_reply.started": "2021-06-04T10:14:16.055148Z"
    },
    "papermill": {
     "duration": 4.913195,
     "end_time": "2021-06-04T11:33:15.967107",
     "exception": false,
     "start_time": "2021-06-04T11:33:11.053912",
     "status": "completed"
    },
    "tags": []
   },
   "outputs": [],
   "source": [
    "%%capture\n",
    "!apt-get update"
   ]
  },
  {
   "cell_type": "code",
   "execution_count": 3,
   "id": "acting-fetish",
   "metadata": {
    "execution": {
     "iopub.execute_input": "2021-06-04T11:33:16.004943Z",
     "iopub.status.busy": "2021-06-04T11:33:16.003381Z",
     "iopub.status.idle": "2021-06-04T11:33:18.350955Z",
     "shell.execute_reply": "2021-06-04T11:33:18.351359Z",
     "shell.execute_reply.started": "2021-06-04T10:21:44.116876Z"
    },
    "papermill": {
     "duration": 2.370344,
     "end_time": "2021-06-04T11:33:18.351512",
     "exception": false,
     "start_time": "2021-06-04T11:33:15.981168",
     "status": "completed"
    },
    "tags": []
   },
   "outputs": [
    {
     "name": "stdout",
     "output_type": "stream",
     "text": [
      "/bin/bash: sudo: command not found\r\n"
     ]
    },
    {
     "name": "stdout",
     "output_type": "stream",
     "text": [
      "/bin/bash: sudo: command not found\r\n"
     ]
    },
    {
     "name": "stdout",
     "output_type": "stream",
     "text": [
      "xargs: sudo: No such file or directory\r\n"
     ]
    }
   ],
   "source": [
    "#https://stackoverflow.com/questions/50213021/best-practice-for-upgrading-cuda-and-cudnn-for-tensorflow\n",
    "!sudo apt-get --purge remove cuda\n",
    "!sudo apt-get autoremove\n",
    "!dpkg --list |grep \"^rc\" | cut -d \" \" -f 3 | xargs sudo dpkg --purge"
   ]
  },
  {
   "cell_type": "code",
   "execution_count": 4,
   "id": "photographic-triple",
   "metadata": {
    "execution": {
     "iopub.execute_input": "2021-06-04T11:33:18.389522Z",
     "iopub.status.busy": "2021-06-04T11:33:18.388587Z",
     "iopub.status.idle": "2021-06-04T11:35:58.248017Z",
     "shell.execute_reply": "2021-06-04T11:35:58.248438Z"
    },
    "papermill": {
     "duration": 159.881795,
     "end_time": "2021-06-04T11:35:58.248613",
     "exception": false,
     "start_time": "2021-06-04T11:33:18.366818",
     "status": "completed"
    },
    "tags": []
   },
   "outputs": [
    {
     "name": "stdout",
     "output_type": "stream",
     "text": [
      "\r",
      "Reading package lists... 0%\r"
     ]
    },
    {
     "name": "stdout",
     "output_type": "stream",
     "text": [
      "\r",
      "Reading package lists... 0%\r"
     ]
    },
    {
     "name": "stdout",
     "output_type": "stream",
     "text": [
      "\r",
      "Reading package lists... 0%\r",
      "\r",
      "Reading package lists... 5%\r",
      "\r",
      "Reading package lists... 5%\r"
     ]
    },
    {
     "name": "stdout",
     "output_type": "stream",
     "text": [
      "\r",
      "Reading package lists... 5%\r",
      "\r",
      "Reading package lists... 5%\r"
     ]
    },
    {
     "name": "stdout",
     "output_type": "stream",
     "text": [
      "\r",
      "Reading package lists... 52%\r",
      "\r",
      "Reading package lists... 52%\r"
     ]
    },
    {
     "name": "stdout",
     "output_type": "stream",
     "text": [
      "\r",
      "Reading package lists... 53%\r",
      "\r",
      "Reading package lists... 53%\r"
     ]
    },
    {
     "name": "stdout",
     "output_type": "stream",
     "text": [
      "\r",
      "Reading package lists... 63%\r",
      "\r",
      "Reading package lists... 63%\r"
     ]
    },
    {
     "name": "stdout",
     "output_type": "stream",
     "text": [
      "\r",
      "Reading package lists... 66%\r",
      "\r",
      "Reading package lists... 66%\r",
      "\r",
      "Reading package lists... 68%\r"
     ]
    },
    {
     "name": "stdout",
     "output_type": "stream",
     "text": [
      "\r",
      "Reading package lists... 75%\r",
      "\r",
      "Reading package lists... 75%\r",
      "\r",
      "Reading package lists... 75%\r",
      "\r",
      "Reading package lists... 75%\r",
      "\r",
      "Reading package lists... 75%\r",
      "\r",
      "Reading package lists... 75%\r"
     ]
    },
    {
     "name": "stdout",
     "output_type": "stream",
     "text": [
      "\r",
      "Reading package lists... 75%\r",
      "\r",
      "Reading package lists... 75%\r",
      "\r",
      "Reading package lists... 84%\r",
      "\r",
      "Reading package lists... 84%\r",
      "\r",
      "Reading package lists... 86%\r",
      "\r",
      "Reading package lists... 86%\r"
     ]
    },
    {
     "name": "stdout",
     "output_type": "stream",
     "text": [
      "\r",
      "Reading package lists... 92%\r",
      "\r",
      "Reading package lists... 92%\r",
      "\r",
      "Reading package lists... 92%\r",
      "\r",
      "Reading package lists... 92%\r",
      "\r",
      "Reading package lists... 96%\r",
      "\r",
      "Reading package lists... 96%\r",
      "\r",
      "Reading package lists... 96%\r",
      "\r",
      "Reading package lists... 96%\r",
      "\r",
      "Reading package lists... 97%\r",
      "\r",
      "Reading package lists... 97%\r"
     ]
    },
    {
     "name": "stdout",
     "output_type": "stream",
     "text": [
      "\r",
      "Reading package lists... 98%\r",
      "\r",
      "Reading package lists... 98%\r",
      "\r",
      "Reading package lists... 99%\r",
      "\r",
      "Reading package lists... 99%\r",
      "\r",
      "Reading package lists... Done\r",
      "\r\n"
     ]
    },
    {
     "name": "stdout",
     "output_type": "stream",
     "text": [
      "\r",
      "Building dependency tree... 0%\r",
      "\r",
      "Building dependency tree... 0%\r"
     ]
    },
    {
     "name": "stdout",
     "output_type": "stream",
     "text": [
      "\r",
      "Building dependency tree... 50%\r",
      "\r",
      "Building dependency tree... 50%\r"
     ]
    },
    {
     "name": "stdout",
     "output_type": "stream",
     "text": [
      "\r",
      "Building dependency tree       \r",
      "\r\n",
      "\r",
      "Reading state information... 0%\r",
      "\r",
      "Reading state information... 0%\r",
      "\r",
      "Reading state information... Done\r",
      "\r\n"
     ]
    },
    {
     "name": "stdout",
     "output_type": "stream",
     "text": [
      "The following additional packages will be installed:\r\n",
      "  cuda-cudart-dev-11-1 cuda-cuobjdump-11-1 cuda-cupti-11-1 cuda-cupti-dev-11-1\r\n",
      "  cuda-driver-dev-11-1 cuda-gdb-11-1 cuda-memcheck-11-1 cuda-nvcc-11-1\r\n",
      "  cuda-nvdisasm-11-1 cuda-nvprof-11-1 cuda-nvprune-11-1 cuda-nvtx-11-1\r\n",
      "  cuda-sanitizer-11-1\r\n"
     ]
    },
    {
     "name": "stdout",
     "output_type": "stream",
     "text": [
      "The following NEW packages will be installed:\r\n",
      "  cuda-command-line-tools-11-1 cuda-compiler-11-1 cuda-cudart-11-1\r\n",
      "  cuda-cudart-dev-11-1 cuda-cuobjdump-11-1 cuda-cupti-11-1 cuda-cupti-dev-11-1\r\n",
      "  cuda-driver-dev-11-1 cuda-gdb-11-1 cuda-memcheck-11-1 cuda-nvcc-11-1\r\n",
      "  cuda-nvdisasm-11-1 cuda-nvprof-11-1 cuda-nvprune-11-1 cuda-nvtx-11-1\r\n",
      "  cuda-sanitizer-11-1\r\n",
      "The following packages will be upgraded:\r\n",
      "  libcudnn8 libcudnn8-dev\r\n",
      "2 upgraded, 16 newly installed, 0 to remove and 33 not upgraded.\r\n",
      "Need to get 984 MB of archives.\r\n",
      "After this operation, 1155 MB of additional disk space will be used.\r\n",
      "\r",
      "0% [Working]"
     ]
    },
    {
     "name": "stdout",
     "output_type": "stream",
     "text": [
      "\r",
      "            \r",
      "Get:1 http://developer.download.nvidia.com/compute/cuda/repos/ubuntu1804/x86_64  cuda-cudart-11-1 11.1.74-1 [133 kB]\r\n",
      "\r",
      "0% [1 cuda-cudart-11-1 0 B/133 kB 0%]\r",
      "                                     \r",
      "1% [Working]\r",
      "            \r",
      "Get:2 http://developer.download.nvidia.com/compute/cuda/repos/ubuntu1804/x86_64  cuda-driver-dev-11-1 11.1.74-1 [25.4 kB]\r\n",
      "\r",
      "1% [2 cuda-driver-dev-11-1 25.4 kB/25.4 kB 100%]\r",
      "                                                \r",
      "2% [Waiting for headers]\r",
      "                        \r",
      "Get:3 http://developer.download.nvidia.com/compute/cuda/repos/ubuntu1804/x86_64  cuda-cudart-dev-11-1 11.1.74-1 [1734 kB]\r\n",
      "\r",
      "2% [3 cuda-cudart-dev-11-1 27.5 kB/1734 kB 2%]"
     ]
    },
    {
     "name": "stdout",
     "output_type": "stream",
     "text": [
      "\r",
      "2% [3 cuda-cudart-dev-11-1 1734 kB/1734 kB 100%]"
     ]
    },
    {
     "name": "stdout",
     "output_type": "stream",
     "text": [
      "\r",
      "2% [3 cuda-cudart-dev-11-1 1734 kB/1734 kB 100%]"
     ]
    },
    {
     "name": "stdout",
     "output_type": "stream",
     "text": [
      "\r",
      "                                                \r",
      "3% [Waiting for headers]\r",
      "                        \r",
      "Get:4 http://developer.download.nvidia.com/compute/cuda/repos/ubuntu1804/x86_64  cuda-nvcc-11-1 11.1.105-1 [27.0 MB]\r\n",
      "\r",
      "3% [4 cuda-nvcc-11-1 36.9 kB/27.0 MB 0%]"
     ]
    },
    {
     "name": "stdout",
     "output_type": "stream",
     "text": [
      "\r",
      "                                        \r",
      "7% [Working]\r",
      "            \r",
      "Get:5 http://developer.download.nvidia.com/compute/cuda/repos/ubuntu1804/x86_64  cuda-cupti-11-1 11.1.105-1 [10.9 MB]\r\n",
      "\r",
      "7% [5 cuda-cupti-11-1 0 B/10.9 MB 0%]"
     ]
    },
    {
     "name": "stdout",
     "output_type": "stream",
     "text": [
      "\r",
      "                                     \r",
      "Get:6 http://developer.download.nvidia.com/compute/cuda/repos/ubuntu1804/x86_64  cuda-cupti-dev-11-1 11.1.105-1 [2294 kB]\r\n",
      "\r",
      "9% [6 cuda-cupti-dev-11-1 65.5 kB/2294 kB 3%]"
     ]
    },
    {
     "name": "stdout",
     "output_type": "stream",
     "text": [
      "\r",
      "                                             \r",
      "Get:7 http://developer.download.nvidia.com/compute/cuda/repos/ubuntu1804/x86_64  cuda-nvdisasm-11-1 11.1.74-1 [32.8 MB]\r\n",
      "\r",
      "                                             \r",
      "10% [7 cuda-nvdisasm-11-1 101 kB/32.8 MB 0%]"
     ]
    },
    {
     "name": "stdout",
     "output_type": "stream",
     "text": [
      "\r",
      "13% [7 cuda-nvdisasm-11-1 30.9 MB/32.8 MB 94%]"
     ]
    },
    {
     "name": "stdout",
     "output_type": "stream",
     "text": [
      "\r",
      "                                              \r",
      "Get:8 http://developer.download.nvidia.com/compute/cuda/repos/ubuntu1804/x86_64  cuda-cuobjdump-11-1 11.1.74-1 [110 kB]\r\n",
      "\r",
      "14% [8 cuda-cuobjdump-11-1 65.5 kB/110 kB 59%]\r",
      "                                              \r",
      "15% [Waiting for headers]\r",
      "                         \r",
      "Get:9 http://developer.download.nvidia.com/compute/cuda/repos/ubuntu1804/x86_64  cuda-gdb-11-1 11.1.105-1 [3627 kB]\r\n",
      "\r",
      "15% [9 cuda-gdb-11-1 45.6 kB/3627 kB 1%]"
     ]
    },
    {
     "name": "stdout",
     "output_type": "stream",
     "text": [
      "\r",
      "                                        \r",
      "Get:10 http://developer.download.nvidia.com/compute/cuda/repos/ubuntu1804/x86_64  cuda-memcheck-11-1 11.1.105-1 [144 kB]\r\n",
      "\r",
      "16% [10 cuda-memcheck-11-1 65.5 kB/144 kB 45%]\r",
      "                                              \r",
      "Get:11 http://developer.download.nvidia.com/compute/cuda/repos/ubuntu1804/x86_64  cuda-nvprof-11-1 11.1.105-1 [1910 kB]\r\n",
      "\r",
      "                                              \r",
      "18% [11 cuda-nvprof-11-1 65.5 kB/1910 kB 3%]\r",
      "                                            \r",
      "Get:12 http://developer.download.nvidia.com/compute/cuda/repos/ubuntu1804/x86_64  cuda-nvtx-11-1 11.1.74-1 [51.1 kB]\r\n",
      "\r",
      "19% [12 cuda-nvtx-11-1 51.1 kB/51.1 kB 100%]\r",
      "                                            \r",
      "20% [Working]"
     ]
    },
    {
     "name": "stdout",
     "output_type": "stream",
     "text": [
      "\r",
      "             \r",
      "Get:13 http://developer.download.nvidia.com/compute/cuda/repos/ubuntu1804/x86_64  cuda-sanitizer-11-1 11.1.105-1 [7253 kB]\r\n",
      "\r",
      "20% [13 cuda-sanitizer-11-1 0 B/7253 kB 0%]"
     ]
    },
    {
     "name": "stdout",
     "output_type": "stream",
     "text": [
      "\r",
      "                                           \r",
      "22% [Working]\r",
      "             \r",
      "Get:14 http://developer.download.nvidia.com/compute/cuda/repos/ubuntu1804/x86_64  cuda-command-line-tools-11-1 11.1.1-1 [2472 B]\r\n",
      "\r",
      "22% [14 cuda-command-line-tools-11-1 0 B/2472 B 0%]\r",
      "                                                   \r",
      "23% [Waiting for headers]"
     ]
    },
    {
     "name": "stdout",
     "output_type": "stream",
     "text": [
      "\r",
      "                         \r",
      "Get:15 http://developer.download.nvidia.com/compute/cuda/repos/ubuntu1804/x86_64  cuda-nvprune-11-1 11.1.74-1 [54.4 kB]\r\n",
      "\r",
      "23% [15 cuda-nvprune-11-1 30.8 kB/54.4 kB 57%]\r",
      "                                              \r",
      "24% [Working]\r",
      "             \r",
      "Get:16 http://developer.download.nvidia.com/compute/cuda/repos/ubuntu1804/x86_64  cuda-compiler-11-1 11.1.1-1 [2422 B]\r\n",
      "\r",
      "24% [16 cuda-compiler-11-1 2422 B/2422 B 100%]\r",
      "                                              \r",
      "25% [Working]"
     ]
    },
    {
     "name": "stdout",
     "output_type": "stream",
     "text": [
      "\r",
      "             \r",
      "Get:17 http://developer.download.nvidia.com/compute/cuda/repos/ubuntu1804/x86_64  libcudnn8-dev 8.0.5.39-1+cuda11.1 [389 MB]\r\n",
      "\r",
      "25% [17 libcudnn8-dev 24.6 kB/389 MB 0%]"
     ]
    },
    {
     "name": "stdout",
     "output_type": "stream",
     "text": [
      "\r",
      "26% [17 libcudnn8-dev 14.5 MB/389 MB 4%]"
     ]
    },
    {
     "name": "stdout",
     "output_type": "stream",
     "text": [
      "\r",
      "29% [17 libcudnn8-dev 46.0 MB/389 MB 12%]"
     ]
    },
    {
     "name": "stdout",
     "output_type": "stream",
     "text": [
      "\r",
      "31% [17 libcudnn8-dev 77.6 MB/389 MB 20%]"
     ]
    },
    {
     "name": "stdout",
     "output_type": "stream",
     "text": [
      "\r",
      "                                         \r",
      "34% [17 libcudnn8-dev 109 MB/389 MB 28%]"
     ]
    },
    {
     "name": "stdout",
     "output_type": "stream",
     "text": [
      "\r",
      "36% [17 libcudnn8-dev 141 MB/389 MB 36%]"
     ]
    },
    {
     "name": "stdout",
     "output_type": "stream",
     "text": [
      "\r",
      "39% [17 libcudnn8-dev 173 MB/389 MB 44%]                          41.5 MB/s 17s"
     ]
    },
    {
     "name": "stdout",
     "output_type": "stream",
     "text": [
      "\r",
      "42% [17 libcudnn8-dev 204 MB/389 MB 52%]                          41.5 MB/s 16s"
     ]
    },
    {
     "name": "stdout",
     "output_type": "stream",
     "text": [
      "\r",
      "44% [17 libcudnn8-dev 236 MB/389 MB 61%]                          41.5 MB/s 15s"
     ]
    },
    {
     "name": "stdout",
     "output_type": "stream",
     "text": [
      "\r",
      "46% [17 libcudnn8-dev 256 MB/389 MB 66%]                          41.5 MB/s 15s"
     ]
    },
    {
     "name": "stdout",
     "output_type": "stream",
     "text": [
      "\r",
      "48% [17 libcudnn8-dev 286 MB/389 MB 73%]                          41.5 MB/s 14s"
     ]
    },
    {
     "name": "stdout",
     "output_type": "stream",
     "text": [
      "\r",
      "51% [17 libcudnn8-dev 317 MB/389 MB 82%]                          41.5 MB/s 13s"
     ]
    },
    {
     "name": "stdout",
     "output_type": "stream",
     "text": [
      "\r",
      "53% [17 libcudnn8-dev 349 MB/389 MB 90%]                          41.5 MB/s 13s"
     ]
    },
    {
     "name": "stdout",
     "output_type": "stream",
     "text": [
      "\r",
      "56% [17 libcudnn8-dev 377 MB/389 MB 97%]                          41.5 MB/s 12s"
     ]
    },
    {
     "name": "stdout",
     "output_type": "stream",
     "text": [
      "\r",
      "57% [17 libcudnn8-dev 389 MB/389 MB 100%]                         41.5 MB/s 12s"
     ]
    },
    {
     "name": "stdout",
     "output_type": "stream",
     "text": [
      "\r",
      "58% [Working]                                                     41.5 MB/s 12s\r",
      "                                                                               \r",
      "Get:18 http://developer.download.nvidia.com/compute/cuda/repos/ubuntu1804/x86_64  libcudnn8 8.0.5.39-1+cuda11.1 [506 MB]\r\n",
      "\r",
      "58% [18 libcudnn8 0 B/506 MB 0%]                                  41.5 MB/s 12s"
     ]
    },
    {
     "name": "stdout",
     "output_type": "stream",
     "text": [
      "\r",
      "60% [18 libcudnn8 31.7 MB/506 MB 6%]                              41.5 MB/s 11s"
     ]
    },
    {
     "name": "stdout",
     "output_type": "stream",
     "text": [
      "\r",
      "63% [18 libcudnn8 61.9 MB/506 MB 12%]                             41.5 MB/s 10s"
     ]
    },
    {
     "name": "stdout",
     "output_type": "stream",
     "text": [
      "\r",
      "65% [18 libcudnn8 91.6 MB/506 MB 18%]                             41.5 MB/s 10s"
     ]
    },
    {
     "name": "stdout",
     "output_type": "stream",
     "text": [
      "\r",
      "68% [18 libcudnn8 123 MB/506 MB 24%]                               55.2 MB/s 6s"
     ]
    },
    {
     "name": "stdout",
     "output_type": "stream",
     "text": [
      "\r",
      "70% [18 libcudnn8 154 MB/506 MB 30%]                               55.2 MB/s 6s"
     ]
    },
    {
     "name": "stdout",
     "output_type": "stream",
     "text": [
      "\r",
      "73% [18 libcudnn8 185 MB/506 MB 36%]                               55.2 MB/s 5s"
     ]
    },
    {
     "name": "stdout",
     "output_type": "stream",
     "text": [
      "\r",
      "75% [18 libcudnn8 215 MB/506 MB 42%]                               55.2 MB/s 5s"
     ]
    },
    {
     "name": "stdout",
     "output_type": "stream",
     "text": [
      "\r",
      "78% [18 libcudnn8 244 MB/506 MB 48%]                               55.2 MB/s 4s"
     ]
    },
    {
     "name": "stdout",
     "output_type": "stream",
     "text": [
      "\r",
      "80% [18 libcudnn8 274 MB/506 MB 54%]                               55.2 MB/s 4s"
     ]
    },
    {
     "name": "stdout",
     "output_type": "stream",
     "text": [
      "\r",
      "82% [18 libcudnn8 302 MB/506 MB 60%]                               55.2 MB/s 3s"
     ]
    },
    {
     "name": "stdout",
     "output_type": "stream",
     "text": [
      "\r",
      "85% [18 libcudnn8 332 MB/506 MB 66%]                               55.2 MB/s 3s"
     ]
    },
    {
     "name": "stdout",
     "output_type": "stream",
     "text": [
      "\r",
      "87% [18 libcudnn8 363 MB/506 MB 72%]                               55.2 MB/s 2s"
     ]
    },
    {
     "name": "stdout",
     "output_type": "stream",
     "text": [
      "\r",
      "90% [18 libcudnn8 394 MB/506 MB 78%]                               55.2 MB/s 2s"
     ]
    },
    {
     "name": "stdout",
     "output_type": "stream",
     "text": [
      "\r",
      "92% [18 libcudnn8 425 MB/506 MB 84%]                               55.2 MB/s 1s"
     ]
    },
    {
     "name": "stdout",
     "output_type": "stream",
     "text": [
      "\r",
      "94% [18 libcudnn8 451 MB/506 MB 89%]                               55.2 MB/s 1s"
     ]
    },
    {
     "name": "stdout",
     "output_type": "stream",
     "text": [
      "\r",
      "97% [18 libcudnn8 479 MB/506 MB 94%]                               59.1 MB/s 0s"
     ]
    },
    {
     "name": "stdout",
     "output_type": "stream",
     "text": [
      "\r",
      "98% [18 libcudnn8 498 MB/506 MB 98%]                               59.1 MB/s 0s"
     ]
    },
    {
     "name": "stdout",
     "output_type": "stream",
     "text": [
      "\r",
      "99% [18 libcudnn8 506 MB/506 MB 100%]                              59.1 MB/s 0s"
     ]
    },
    {
     "name": "stdout",
     "output_type": "stream",
     "text": [
      "\r",
      "100% [Working]                                                     59.1 MB/s 0s\r",
      "                                                                               \r",
      "Fetched 984 MB in 20s (50.4 MB/s)\r\n"
     ]
    },
    {
     "name": "stdout",
     "output_type": "stream",
     "text": [
      "debconf: delaying package configuration, since apt-utils is not installed\r\n"
     ]
    },
    {
     "name": "stdout",
     "output_type": "stream",
     "text": [
      "Selecting previously unselected package cuda-cudart-11-1.\r\n",
      "(Reading database ... \r",
      "(Reading database ... 5%\r",
      "(Reading database ... 10%\r",
      "(Reading database ... 15%\r",
      "(Reading database ... 20%\r",
      "(Reading database ... 25%\r",
      "(Reading database ... 30%\r",
      "(Reading database ... 35%\r",
      "(Reading database ... 40%\r",
      "(Reading database ... 45%\r",
      "(Reading database ... 50%\r",
      "(Reading database ... 55%\r",
      "(Reading database ... 60%\r",
      "(Reading database ... 65%\r"
     ]
    },
    {
     "name": "stdout",
     "output_type": "stream",
     "text": [
      "(Reading database ... 70%\r"
     ]
    },
    {
     "name": "stdout",
     "output_type": "stream",
     "text": [
      "(Reading database ... 75%\r"
     ]
    },
    {
     "name": "stdout",
     "output_type": "stream",
     "text": [
      "(Reading database ... 80%\r"
     ]
    },
    {
     "name": "stdout",
     "output_type": "stream",
     "text": [
      "(Reading database ... 85%\r"
     ]
    },
    {
     "name": "stdout",
     "output_type": "stream",
     "text": [
      "(Reading database ... 90%\r",
      "(Reading database ... 95%\r",
      "(Reading database ... 100%\r",
      "(Reading database ... 100757 files and directories currently installed.)\r\n"
     ]
    },
    {
     "name": "stdout",
     "output_type": "stream",
     "text": [
      "Preparing to unpack .../00-cuda-cudart-11-1_11.1.74-1_amd64.deb ...\r\n",
      "Unpacking cuda-cudart-11-1 (11.1.74-1) ...\r\n"
     ]
    },
    {
     "name": "stdout",
     "output_type": "stream",
     "text": [
      "Selecting previously unselected package cuda-driver-dev-11-1.\r\n"
     ]
    },
    {
     "name": "stdout",
     "output_type": "stream",
     "text": [
      "Preparing to unpack .../01-cuda-driver-dev-11-1_11.1.74-1_amd64.deb ...\r\n",
      "Unpacking cuda-driver-dev-11-1 (11.1.74-1) ...\r\n"
     ]
    },
    {
     "name": "stdout",
     "output_type": "stream",
     "text": [
      "Selecting previously unselected package cuda-cudart-dev-11-1.\r\n",
      "Preparing to unpack .../02-cuda-cudart-dev-11-1_11.1.74-1_amd64.deb ...\r\n",
      "Unpacking cuda-cudart-dev-11-1 (11.1.74-1) ...\r\n"
     ]
    },
    {
     "name": "stdout",
     "output_type": "stream",
     "text": [
      "Selecting previously unselected package cuda-nvcc-11-1.\r\n",
      "Preparing to unpack .../03-cuda-nvcc-11-1_11.1.105-1_amd64.deb ...\r\n"
     ]
    },
    {
     "name": "stdout",
     "output_type": "stream",
     "text": [
      "Unpacking cuda-nvcc-11-1 (11.1.105-1) ...\r\n"
     ]
    },
    {
     "name": "stdout",
     "output_type": "stream",
     "text": [
      "Selecting previously unselected package cuda-cupti-11-1.\r\n",
      "Preparing to unpack .../04-cuda-cupti-11-1_11.1.105-1_amd64.deb ...\r\n",
      "Unpacking cuda-cupti-11-1 (11.1.105-1) ...\r\n"
     ]
    },
    {
     "name": "stdout",
     "output_type": "stream",
     "text": [
      "Selecting previously unselected package cuda-cupti-dev-11-1.\r\n",
      "Preparing to unpack .../05-cuda-cupti-dev-11-1_11.1.105-1_amd64.deb ...\r\n",
      "Unpacking cuda-cupti-dev-11-1 (11.1.105-1) ...\r\n"
     ]
    },
    {
     "name": "stdout",
     "output_type": "stream",
     "text": [
      "Selecting previously unselected package cuda-nvdisasm-11-1.\r\n",
      "Preparing to unpack .../06-cuda-nvdisasm-11-1_11.1.74-1_amd64.deb ...\r\n",
      "Unpacking cuda-nvdisasm-11-1 (11.1.74-1) ...\r\n"
     ]
    },
    {
     "name": "stdout",
     "output_type": "stream",
     "text": [
      "Selecting previously unselected package cuda-cuobjdump-11-1.\r\n",
      "Preparing to unpack .../07-cuda-cuobjdump-11-1_11.1.74-1_amd64.deb ...\r\n",
      "Unpacking cuda-cuobjdump-11-1 (11.1.74-1) ...\r\n"
     ]
    },
    {
     "name": "stdout",
     "output_type": "stream",
     "text": [
      "Selecting previously unselected package cuda-gdb-11-1.\r\n",
      "Preparing to unpack .../08-cuda-gdb-11-1_11.1.105-1_amd64.deb ...\r\n",
      "Unpacking cuda-gdb-11-1 (11.1.105-1) ...\r\n"
     ]
    },
    {
     "name": "stdout",
     "output_type": "stream",
     "text": [
      "Selecting previously unselected package cuda-memcheck-11-1.\r\n",
      "Preparing to unpack .../09-cuda-memcheck-11-1_11.1.105-1_amd64.deb ...\r\n",
      "Unpacking cuda-memcheck-11-1 (11.1.105-1) ...\r\n"
     ]
    },
    {
     "name": "stdout",
     "output_type": "stream",
     "text": [
      "Selecting previously unselected package cuda-nvprof-11-1.\r\n",
      "Preparing to unpack .../10-cuda-nvprof-11-1_11.1.105-1_amd64.deb ...\r\n",
      "Unpacking cuda-nvprof-11-1 (11.1.105-1) ...\r\n"
     ]
    },
    {
     "name": "stdout",
     "output_type": "stream",
     "text": [
      "Selecting previously unselected package cuda-nvtx-11-1.\r\n",
      "Preparing to unpack .../11-cuda-nvtx-11-1_11.1.74-1_amd64.deb ...\r\n",
      "Unpacking cuda-nvtx-11-1 (11.1.74-1) ...\r\n"
     ]
    },
    {
     "name": "stdout",
     "output_type": "stream",
     "text": [
      "Selecting previously unselected package cuda-sanitizer-11-1.\r\n",
      "Preparing to unpack .../12-cuda-sanitizer-11-1_11.1.105-1_amd64.deb ...\r\n",
      "Unpacking cuda-sanitizer-11-1 (11.1.105-1) ...\r\n"
     ]
    },
    {
     "name": "stdout",
     "output_type": "stream",
     "text": [
      "Selecting previously unselected package cuda-command-line-tools-11-1.\r\n",
      "Preparing to unpack .../13-cuda-command-line-tools-11-1_11.1.1-1_amd64.deb ...\r\n",
      "Unpacking cuda-command-line-tools-11-1 (11.1.1-1) ...\r\n"
     ]
    },
    {
     "name": "stdout",
     "output_type": "stream",
     "text": [
      "Selecting previously unselected package cuda-nvprune-11-1.\r\n",
      "Preparing to unpack .../14-cuda-nvprune-11-1_11.1.74-1_amd64.deb ...\r\n",
      "Unpacking cuda-nvprune-11-1 (11.1.74-1) ...\r\n"
     ]
    },
    {
     "name": "stdout",
     "output_type": "stream",
     "text": [
      "Selecting previously unselected package cuda-compiler-11-1.\r\n"
     ]
    },
    {
     "name": "stdout",
     "output_type": "stream",
     "text": [
      "Preparing to unpack .../15-cuda-compiler-11-1_11.1.1-1_amd64.deb ...\r\n",
      "Unpacking cuda-compiler-11-1 (11.1.1-1) ...\r\n"
     ]
    },
    {
     "name": "stdout",
     "output_type": "stream",
     "text": [
      "Preparing to unpack .../16-libcudnn8-dev_8.0.5.39-1+cuda11.1_amd64.deb ...\r\n",
      "update-alternatives: removing manually selected alternative - switching libcudnn to auto mode\r\n"
     ]
    },
    {
     "name": "stdout",
     "output_type": "stream",
     "text": [
      "Unpacking libcudnn8-dev (8.0.5.39-1+cuda11.1) over (8.0.4.30-1+cuda11.0) ...\r\n"
     ]
    },
    {
     "name": "stdout",
     "output_type": "stream",
     "text": [
      "Preparing to unpack .../17-libcudnn8_8.0.5.39-1+cuda11.1_amd64.deb ...\r\n"
     ]
    },
    {
     "name": "stdout",
     "output_type": "stream",
     "text": [
      "Unpacking libcudnn8 (8.0.5.39-1+cuda11.1) over (8.0.4.30-1+cuda11.0) ...\r\n"
     ]
    },
    {
     "name": "stdout",
     "output_type": "stream",
     "text": [
      "Setting up cuda-nvprune-11-1 (11.1.74-1) ...\r\n"
     ]
    },
    {
     "name": "stdout",
     "output_type": "stream",
     "text": [
      "Setting up cuda-cuobjdump-11-1 (11.1.74-1) ...\r\n",
      "Setting up cuda-cudart-11-1 (11.1.74-1) ...\r\n"
     ]
    },
    {
     "name": "stdout",
     "output_type": "stream",
     "text": [
      "Setting up libcudnn8 (8.0.5.39-1+cuda11.1) ...\r\n",
      "Setting up cuda-nvtx-11-1 (11.1.74-1) ...\r\n"
     ]
    },
    {
     "name": "stdout",
     "output_type": "stream",
     "text": [
      "Setting up cuda-sanitizer-11-1 (11.1.105-1) ...\r\n",
      "Setting up cuda-driver-dev-11-1 (11.1.74-1) ...\r\n"
     ]
    },
    {
     "name": "stdout",
     "output_type": "stream",
     "text": [
      "Setting up cuda-memcheck-11-1 (11.1.105-1) ...\r\n",
      "Setting up cuda-cudart-dev-11-1 (11.1.74-1) ...\r\n"
     ]
    },
    {
     "name": "stdout",
     "output_type": "stream",
     "text": [
      "Setting up libcudnn8-dev (8.0.5.39-1+cuda11.1) ...\r\n"
     ]
    },
    {
     "name": "stdout",
     "output_type": "stream",
     "text": [
      "update-alternatives: using /usr/include/x86_64-linux-gnu/cudnn_v8.h to provide /usr/include/cudnn.h (libcudnn) in auto mode\r\n",
      "Setting up cuda-nvdisasm-11-1 (11.1.74-1) ...\r\n"
     ]
    },
    {
     "name": "stdout",
     "output_type": "stream",
     "text": [
      "Setting up cuda-nvprof-11-1 (11.1.105-1) ...\r\n",
      "Setting up cuda-nvcc-11-1 (11.1.105-1) ...\r\n"
     ]
    },
    {
     "name": "stdout",
     "output_type": "stream",
     "text": [
      "Setting up cuda-compiler-11-1 (11.1.1-1) ...\r\n",
      "Setting up cuda-cupti-11-1 (11.1.105-1) ...\r\n"
     ]
    },
    {
     "name": "stdout",
     "output_type": "stream",
     "text": [
      "Setting up cuda-cupti-dev-11-1 (11.1.105-1) ...\r\n",
      "Setting up cuda-gdb-11-1 (11.1.105-1) ...\r\n",
      "Setting up cuda-command-line-tools-11-1 (11.1.1-1) ...\r\n"
     ]
    },
    {
     "name": "stdout",
     "output_type": "stream",
     "text": [
      "Processing triggers for libc-bin (2.27-3ubuntu1.4) ...\r\n"
     ]
    },
    {
     "name": "stdout",
     "output_type": "stream",
     "text": [
      "/sbin/ldconfig.real: File /usr/lib/x86_64-linux-gnu/libcuda.so.1 is empty, not checked.\r\n",
      "/sbin/ldconfig.real: File /usr/lib/x86_64-linux-gnu/libnvidia-ml.so.1 is empty, not checked.\r\n",
      "/sbin/ldconfig.real: File /usr/lib/x86_64-linux-gnu/libcuda.so is empty, not checked.\r\n",
      "/sbin/ldconfig.real: File /usr/lib/x86_64-linux-gnu/libnvidia-ptxjitcompiler.so.1 is empty, not checked.\r\n",
      "/sbin/ldconfig.real: File /usr/lib/x86_64-linux-gnu/libnvidia-cfg.so.450.51.06 is empty, not checked.\r\n",
      "/sbin/ldconfig.real: File /usr/lib/x86_64-linux-gnu/libnvidia-ml.so.450.51.06 is empty, not checked.\r\n",
      "/sbin/ldconfig.real: File /usr/lib/x86_64-linux-gnu/libnvidia-opencl.so.1 is empty, not checked.\r\n",
      "/sbin/ldconfig.real: File /usr/lib/x86_64-linux-gnu/libnvidia-allocator.so.450.51.06 is empty, not checked.\r\n",
      "/sbin/ldconfig.real: File /usr/lib/x86_64-linux-gnu/libnvidia-ptxjitcompiler.so.450.51.06 is empty, not checked.\r\n",
      "/sbin/ldconfig.real: File /usr/lib/x86_64-linux-gnu/libnvidia-allocator.so.1 is empty, not checked.\r\n",
      "/sbin/ldconfig.real: File /usr/lib/x86_64-linux-gnu/libnvidia-opencl.so.450.51.06 is empty, not checked.\r\n",
      "/sbin/ldconfig.real: File /usr/lib/x86_64-linux-gnu/libcuda.so.450.51.06 is empty, not checked.\r\n",
      "/sbin/ldconfig.real: File /usr/lib/x86_64-linux-gnu/libnvidia-cfg.so.1 is empty, not checked.\r\n",
      "/sbin/ldconfig.real: File /usr/lib/x86_64-linux-gnu/libnvidia-compiler.so.450.51.06 is empty, not checked.\r\n"
     ]
    }
   ],
   "source": [
    "#%%capture\n",
    "!apt-get install -y cuda-command-line-tools-11-1 cuda-compiler-11-1 cuda-cudart-11-1 libcudnn8=8.0.5.39-1+cuda11.1 libcudnn8-dev=8.0.5.39-1+cuda11.1"
   ]
  },
  {
   "cell_type": "code",
   "execution_count": null,
   "id": "alpine-uzbekistan",
   "metadata": {
    "papermill": {
     "duration": null,
     "end_time": null,
     "exception": false,
     "start_time": "2021-06-04T11:35:58.290332",
     "status": "running"
    },
    "tags": []
   },
   "outputs": [],
   "source": [
    "%%capture\n",
    "!conda install cudatoolkit=11.1 pytorch -y"
   ]
  },
  {
   "cell_type": "code",
   "execution_count": null,
   "id": "initial-maximum",
   "metadata": {
    "execution": {
     "iopub.execute_input": "2021-05-31T13:58:07.987897Z",
     "iopub.status.busy": "2021-05-31T13:58:07.987453Z",
     "iopub.status.idle": "2021-05-31T13:58:08.000102Z",
     "shell.execute_reply": "2021-05-31T13:58:07.998923Z",
     "shell.execute_reply.started": "2021-05-31T13:58:07.987793Z"
    },
    "papermill": {
     "duration": null,
     "end_time": null,
     "exception": null,
     "start_time": null,
     "status": "pending"
    },
    "tags": []
   },
   "outputs": [],
   "source": [
    "%cd /tmp"
   ]
  },
  {
   "cell_type": "code",
   "execution_count": null,
   "id": "first-founder",
   "metadata": {
    "execution": {
     "iopub.execute_input": "2021-05-31T11:47:48.174373Z",
     "iopub.status.busy": "2021-05-31T11:47:48.173826Z",
     "iopub.status.idle": "2021-05-31T11:47:52.615118Z",
     "shell.execute_reply": "2021-05-31T11:47:52.614079Z",
     "shell.execute_reply.started": "2021-05-31T11:47:48.174342Z"
    },
    "papermill": {
     "duration": null,
     "end_time": null,
     "exception": null,
     "start_time": null,
     "status": "pending"
    },
    "tags": []
   },
   "outputs": [],
   "source": [
    "!git clone https://github.com/jimregan/fairseq/ --branch issue3581"
   ]
  },
  {
   "cell_type": "code",
   "execution_count": null,
   "id": "assigned-wonder",
   "metadata": {
    "execution": {
     "iopub.execute_input": "2021-05-31T13:58:08.002862Z",
     "iopub.status.busy": "2021-05-31T13:58:08.002544Z",
     "iopub.status.idle": "2021-05-31T13:58:11.998803Z",
     "shell.execute_reply": "2021-05-31T13:58:11.997716Z",
     "shell.execute_reply.started": "2021-05-31T13:58:08.002832Z"
    },
    "papermill": {
     "duration": null,
     "end_time": null,
     "exception": null,
     "start_time": null,
     "status": "pending"
    },
    "tags": []
   },
   "outputs": [],
   "source": [
    "!git clone https://github.com/kpu/kenlm"
   ]
  },
  {
   "cell_type": "code",
   "execution_count": null,
   "id": "streaming-layout",
   "metadata": {
    "execution": {
     "iopub.execute_input": "2021-05-31T13:58:12.001211Z",
     "iopub.status.busy": "2021-05-31T13:58:12.000794Z",
     "iopub.status.idle": "2021-05-31T13:58:18.971548Z",
     "shell.execute_reply": "2021-05-31T13:58:18.970508Z",
     "shell.execute_reply.started": "2021-05-31T13:58:12.001162Z"
    },
    "papermill": {
     "duration": null,
     "end_time": null,
     "exception": null,
     "start_time": null,
     "status": "pending"
    },
    "tags": []
   },
   "outputs": [],
   "source": [
    "%%capture\n",
    "!apt-get -y install libeigen3-dev liblzma-dev zlib1g-dev libbz2-dev"
   ]
  },
  {
   "cell_type": "code",
   "execution_count": null,
   "id": "satisfied-screen",
   "metadata": {
    "papermill": {
     "duration": null,
     "end_time": null,
     "exception": null,
     "start_time": null,
     "status": "pending"
    },
    "tags": []
   },
   "outputs": [],
   "source": [
    "\n",
    "%%capture\n",
    "%cd kenlm\n",
    "!mkdir build\n",
    "%cd build\n",
    "!cmake ..\n",
    "!make -j 4\n",
    "%cd /tmp"
   ]
  },
  {
   "cell_type": "code",
   "execution_count": null,
   "id": "waiting-arnold",
   "metadata": {
    "execution": {
     "iopub.execute_input": "2021-05-31T14:00:27.91585Z",
     "iopub.status.busy": "2021-05-31T14:00:27.915496Z",
     "iopub.status.idle": "2021-05-31T14:01:06.394568Z",
     "shell.execute_reply": "2021-05-31T14:01:06.393198Z",
     "shell.execute_reply.started": "2021-05-31T14:00:27.915818Z"
    },
    "papermill": {
     "duration": null,
     "end_time": null,
     "exception": null,
     "start_time": null,
     "status": "pending"
    },
    "tags": []
   },
   "outputs": [],
   "source": [
    "%%capture\n",
    "%cd /tmp/kenlm\n",
    "!python setup.py install\n",
    "%cd /tmp"
   ]
  },
  {
   "cell_type": "code",
   "execution_count": null,
   "id": "incomplete-attempt",
   "metadata": {
    "execution": {
     "iopub.execute_input": "2021-05-25T22:58:58.397847Z",
     "iopub.status.busy": "2021-05-25T22:58:58.397461Z",
     "iopub.status.idle": "2021-05-25T22:58:58.402393Z",
     "shell.execute_reply": "2021-05-25T22:58:58.401536Z",
     "shell.execute_reply.started": "2021-05-25T22:58:58.397816Z"
    },
    "papermill": {
     "duration": null,
     "end_time": null,
     "exception": null,
     "start_time": null,
     "status": "pending"
    },
    "tags": []
   },
   "outputs": [],
   "source": [
    "import os\n",
    "os.environ['PATH'] = f\"{os.environ['PATH']}:/tmp/kenlm/build/bin/\"\n",
    "os.environ['FAIRSEQ_ROOT'] = '/tmp/fairseq'"
   ]
  },
  {
   "cell_type": "code",
   "execution_count": null,
   "id": "interior-alexander",
   "metadata": {
    "execution": {
     "iopub.execute_input": "2021-05-31T11:51:49.832611Z",
     "iopub.status.busy": "2021-05-31T11:51:49.832055Z",
     "iopub.status.idle": "2021-05-31T11:51:49.83965Z",
     "shell.execute_reply": "2021-05-31T11:51:49.838625Z",
     "shell.execute_reply.started": "2021-05-31T11:51:49.832574Z"
    },
    "papermill": {
     "duration": null,
     "end_time": null,
     "exception": null,
     "start_time": null,
     "status": "pending"
    },
    "tags": []
   },
   "outputs": [],
   "source": [
    "%cd /tmp/fairseq/"
   ]
  },
  {
   "cell_type": "code",
   "execution_count": null,
   "id": "revolutionary-verse",
   "metadata": {
    "papermill": {
     "duration": null,
     "end_time": null,
     "exception": null,
     "start_time": null,
     "status": "pending"
    },
    "tags": []
   },
   "outputs": [],
   "source": [
    "%%capture\n",
    "!python setup.py install"
   ]
  },
  {
   "cell_type": "code",
   "execution_count": null,
   "id": "monetary-flesh",
   "metadata": {
    "papermill": {
     "duration": null,
     "end_time": null,
     "exception": null,
     "start_time": null,
     "status": "pending"
    },
    "tags": []
   },
   "outputs": [],
   "source": [
    "%cd /tmp/fairseq/"
   ]
  },
  {
   "cell_type": "code",
   "execution_count": null,
   "id": "apparent-requirement",
   "metadata": {
    "papermill": {
     "duration": null,
     "end_time": null,
     "exception": null,
     "start_time": null,
     "status": "pending"
    },
    "tags": []
   },
   "outputs": [],
   "source": [
    "os.environ['HYDRA_FULL_ERROR'] = '1'"
   ]
  },
  {
   "cell_type": "code",
   "execution_count": null,
   "id": "outer-madness",
   "metadata": {
    "papermill": {
     "duration": null,
     "end_time": null,
     "exception": null,
     "start_time": null,
     "status": "pending"
    },
    "tags": []
   },
   "outputs": [],
   "source": [
    "%%capture\n",
    "!pip install editdistance"
   ]
  },
  {
   "cell_type": "markdown",
   "id": "directed-ribbon",
   "metadata": {
    "papermill": {
     "duration": null,
     "end_time": null,
     "exception": null,
     "start_time": null,
     "status": "pending"
    },
    "tags": []
   },
   "source": [
    "## GAN"
   ]
  },
  {
   "cell_type": "code",
   "execution_count": null,
   "id": "written-patch",
   "metadata": {
    "papermill": {
     "duration": null,
     "end_time": null,
     "exception": null,
     "start_time": null,
     "status": "pending"
    },
    "tags": []
   },
   "outputs": [],
   "source": [
    "import torch\n",
    "torch.version.cuda"
   ]
  },
  {
   "cell_type": "code",
   "execution_count": null,
   "id": "closing-publisher",
   "metadata": {
    "papermill": {
     "duration": null,
     "end_time": null,
     "exception": null,
     "start_time": null,
     "status": "pending"
    },
    "tags": []
   },
   "outputs": [],
   "source": [
    "torch.backends.cudnn.version()"
   ]
  },
  {
   "cell_type": "code",
   "execution_count": null,
   "id": "sweet-worship",
   "metadata": {
    "papermill": {
     "duration": null,
     "end_time": null,
     "exception": null,
     "start_time": null,
     "status": "pending"
    },
    "tags": []
   },
   "outputs": [],
   "source": [
    "%%writefile rungan.sh\n",
    "PREFIX=w2v_unsup_gan_xp\n",
    "#TASK_DATA=/path/to/features/unfiltered/precompute_unfiltered_pca512_cls128_mean_pooled\n",
    "TASK_DATA=/kaggle/input/wav2vec-u-cv-swedish-audio/precompute_pca512_cls128_mean_pooled/\n",
    "#TEXT_DATA=/path/to/data  # path to fairseq-preprocessed GAN data\n",
    "TEXT_DATA=/kaggle/input/wav2vec-u-cv-swedish-text-prep/preppedtext/phones/\n",
    "#KENLM_PATH=/path/to/data/kenlm.phn.o4.bin  # KenLM 4-gram phoneme language model (LM data = GAN data here)\n",
    "KENLM_PATH=/kaggle/input/wav2vec-u-cv-swedish-text-prep/preppedtext/phones/lm.phones.filtered.04.bin\n",
    "\n",
    "PREFIX=$PREFIX CUDA_LAUNCH_BLOCKING=1 fairseq-hydra-train \\\n",
    "\t-m --config-dir fairseq/config/model/wav2vecu/gan \\\n",
    "\t--config-name w2vu \\\n",
    "\ttask.data=${TASK_DATA} \\\n",
    "\ttask.text_data=${TEXT_DATA} \\\n",
    "\ttask.kenlm_path=${KENLM_PATH} \\\n",
    "\tcheckpoint.no_epoch_checkpoints=false \\\n",
    "\tcheckpoint.keep_last_epochs=20 \\\n",
    "\tcheckpoint.save_dir=/kaggle/working \\\n",
    "\t'common.seed=range(0,5)'"
   ]
  },
  {
   "cell_type": "code",
   "execution_count": null,
   "id": "experimental-angle",
   "metadata": {
    "papermill": {
     "duration": null,
     "end_time": null,
     "exception": null,
     "start_time": null,
     "status": "pending"
    },
    "tags": []
   },
   "outputs": [],
   "source": [
    "!bash rungan.sh"
   ]
  }
 ],
 "metadata": {
  "kernelspec": {
   "display_name": "Python 3",
   "language": "python",
   "name": "python3"
  },
  "language_info": {
   "codemirror_mode": {
    "name": "ipython",
    "version": 3
   },
   "file_extension": ".py",
   "mimetype": "text/x-python",
   "name": "python",
   "nbconvert_exporter": "python",
   "pygments_lexer": "ipython3",
   "version": "3.6.4"
  },
  "papermill": {
   "default_parameters": {},
   "duration": null,
   "end_time": null,
   "environment_variables": {},
   "exception": null,
   "input_path": "__notebook__.ipynb",
   "output_path": "__notebook__.ipynb",
   "parameters": {},
   "start_time": "2021-06-04T11:29:37.924310",
   "version": "2.3.3"
  }
 },
 "nbformat": 4,
 "nbformat_minor": 5
}