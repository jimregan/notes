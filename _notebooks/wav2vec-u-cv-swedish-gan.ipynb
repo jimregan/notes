{
 "cells": [
  {
   "cell_type": "markdown",
   "id": "hollywood-individual",
   "metadata": {
    "papermill": {
     "duration": 0.0131,
     "end_time": "2021-05-30T19:48:26.784146",
     "exception": false,
     "start_time": "2021-05-30T19:48:26.771046",
     "status": "completed"
    },
    "tags": []
   },
   "source": [
    "## Preparation"
   ]
  },
  {
   "cell_type": "code",
   "execution_count": 1,
   "id": "separate-intranet",
   "metadata": {
    "_cell_guid": "b1076dfc-b9ad-4769-8c92-a6c4dae69d19",
    "_uuid": "8f2839f25d086af736a60e9eeb907d3b93b6e0e5",
    "execution": {
     "iopub.execute_input": "2021-05-30T19:48:26.818290Z",
     "iopub.status.busy": "2021-05-30T19:48:26.817695Z",
     "iopub.status.idle": "2021-05-30T19:51:55.846997Z",
     "shell.execute_reply": "2021-05-30T19:51:55.846351Z",
     "shell.execute_reply.started": "2021-05-30T19:07:03.966422Z"
    },
    "papermill": {
     "duration": 209.050606,
     "end_time": "2021-05-30T19:51:55.847160",
     "exception": false,
     "start_time": "2021-05-30T19:48:26.796554",
     "status": "completed"
    },
    "tags": []
   },
   "outputs": [
    {
     "name": "stdout",
     "output_type": "stream",
     "text": [
      "Collecting package metadata (current_repodata.json): - \b\b\\ \b\b| \b\b/ \b\b- \b\b\\ \b\b| \b\b/ \b\b- \b\b\\ \b\b| \b\b/ \b\b- \b\b\\ \b\b| \b\b/ \b\b- \b\b\\ \b\b| \b\b/ \b\b- \b\b\\ \b\b| \b\b/ \b\b- \b\b\\ \b\b| \b\b/ \b\b- \b\b\\ \b\b| \b\b/ \b\b- \b\b\\ \b\b| \b\b/ \b\b- \b\b\\ \b\b| \b\b/ \b\b- \b\b\\ \b\b| \b\b/ \b\b- \b\b\\ \b\b| \b\b/ \b\b- \b\b\\ \b\b| \b\b/ \b\b- \b\b\\ \b\b| \b\b/ \b\b- \b\b\\ \b\b| \b\b/ \b\b- \b\b\\ \b\b| \b\b/ \b\b- \b\b\\ \b\b| \b\b/ \b\b- \b\b\\ \b\b| \b\b/ \b\b- \b\b\\ \b\b| \b\b/ \b\b- \b\b\\ \b\b| \b\b/ \b\b- \b\b\\ \b\b| \b\b/ \b\b- \b\b\\ \b\b| \b\b/ \b\b- \b\b\\ \b\b| \b\b/ \b\b- \b\b\\ \b\b| \b\b/ \b\b- \b\b\\ \b\b| \b\b/ \b\b- \b\b\\ \b\b| \b\b/ \b\b- \b\b\\ \b\b| \b\b/ \b\b- \b\b\\ \b\b| \b\b/ \b\b- \b\b\\ \b\b| \b\b/ \b\b- \b\b\\ \b\b| \b\b/ \b\b- \b\b\\ \b\b| \b\b/ \b\b- \b\b\\ \b\b| \b\b/ \b\b- \b\b\\ \b\b| \b\b/ \b\b- \b\b\\ \b\b| \b\b/ \b\b- \b\b\\ \b\b| \b\b/ \b\b- \b\b\\ \b\bdone\r\n",
      "Solving environment: / \b\b- \b\b\\ \b\b| \b\b/ \b\b- \b\b\\ \b\b| \b\b/ \b\b- \b\b\\ \b\b| \b\b/ \b\b- \b\b\\ \b\b| \b\b/ \b\b- \b\b\\ \b\b| \b\b/ \b\b- \b\b\\ \b\b| \b\b/ \b\b- \b\b\\ \b\b| \b\b/ \b\b- \b\b\\ \b\b| \b\b/ \b\b- \b\b\\ \b\b| \b\b/ \b\b- \b\b\\ \b\b| \b\b/ \b\b- \b\b\\ \b\b| \b\b/ \b\b- \b\b\\ \b\b| \b\b/ \b\b- \b\b\\ \b\b| \b\b/ \b\b- \b\b\\ \b\b| \b\b/ \b\b- \b\b\\ \b\b| \b\b/ \b\b- \b\b\\ \b\b| \b\b/ \b\b- \b\b\\ \b\b| \b\b/ \b\b- \b\b\\ \b\b| \b\b/ \b\b- \b\b\\ \b\b| \b\b/ \b\b- \b\b\\ \b\b| \b\b/ \b\b- \b\b\\ \b\b| \b\b/ \b\b- \b\b\\ \b\b| \b\b/ \b\b- \b\b\\ \b\b| \b\b/ \b\b- \b\b\\ \b\b| \b\b/ \b\b- \b\b\\ \b\b| \b\b/ \b\b- \b\b\\ \b\b| \b\b/ \b\b- \b\b\\ \b\b| \b\b/ \b\b- \b\b\\ \b\b| \b\b/ \b\b- \b\b\\ \b\b| \b\b/ \b\b- \b\b\\ \b\b| \b\b/ \b\b- \b\b\\ \b\b| \b\b/ \b\b- \b\b\\ \b\b| \b\b/ \b\b- \b\b\\ \b\b| \b\b/ \b\b- \b\b\\ \b\b| \b\b/ \b\b- \b\b\\ \b\b| \b\b/ \b\b- \b\b\\ \b\b| \b\b/ \b\b- \b\b\\ \b\b| \b\b/ \b\b- \b\b\\ \b\b| \b\b/ \b\b- \b\b\\ \b\b| \b\b/ \b\b- \b\b\\ \b\b| \b\b/ \b\b- \b\b\\ \b\b| \b\b/ \b\b- \b\b\\ \b\b| \b\b/ \b\b- \b\b\\ \b\b| \b\b/ \b\b- \b\b\\ \b\b| \b\b/ \b\b- \b\b\\ \b\b| \b\b/ \b\b- \b\b\\ \b\b| \b\b/ \b\b- \b\b\\ \b\b| \b\b/ \b\b- \b\b\\ \b\b| \b\b/ \b\b- \b\b\\ \b\b| \b\b/ \b\b- \b\b\\ \b\b| \b\b/ \b\b- \b\b\\ \b\b| \b\b/ \b\b- \b\b\\ \b\b| \b\b/ \b\b- \b\b\\ \b\b| \b\b/ \b\b- \b\b\\ \b\b| \b\b/ \b\b- \b\b\\ \b\b| \b\b/ \b\b- \b\b\\ \b\b| \b\b/ \b\b- \b\b\\ \b\b| \b\b/ \b\b- \b\b\\ \b\b| \b\b/ \b\b- \b\b\\ \b\b| \b\b/ \b\b- \b\b\\ \b\b| \b\b/ \b\b- \b\b\\ \b\b| \b\b/ \b\b- \b\b\\ \b\b| \b\b/ \b\b- \b\b\\ \b\b| \b\b/ \b\b- \b\b\\ \b\b| \b\b/ \b\b- \b\b\\ \b\b| \b\b/ \b\b- \b\b\\ \b\b| \b\b/ \b\b- \b\b\\ \b\b| \b\b/ \b\b- \b\b\\ \b\b| \b\b/ \b\b- \b\b\\ \b\b| \b\b/ \b\b- \b\b\\ \b\b| \b\b/ \b\b- \b\b\\ \b\b| \b\b/ \b\b- \b\b\\ \b\b| \b\b/ \b\b- \b\b\\ \b\b| \b\b/ \b\b- \b\b\\ \b\b| \b\b/ \b\b- \b\b\\ \b\b| \b\b/ \b\b- \b\b\\ \b\b| \b\b/ \b\b- \b\b\\ \b\b| \b\b/ \b\b- \b\b\\ \b\b| \b\b/ \b\b- \b\b\\ \b\b| \b\b/ \b\b- \b\b\\ \b\b| \b\b/ \b\b- \b\b\\ \b\b| \b\b/ \b\b- \b\b\\ \b\b| \b\b/ \b\b- \b\b\\ \b\b| \b\b/ \b\b- \b\b\\ \b\b| \b\b/ \b\b- \b\b\\ \b\b| \b\b/ \b\b- \b\b\\ \b\b| \b\b/ \b\b- \b\b\\ \b\b| \b\b/ \b\b- \b\b\\ \b\b| \b\b/ \b\b- \b\b\\ \b\b| \b\b/ \b\b- \b\b\\ \b\b| \b\b/ \b\b- \b\b\\ \b\b| \b\b/ \b\b- \b\b\\ \b\b| \b\b/ \b\b- \b\b\\ \b\b| \b\b/ \b\b- \b\b\\ \b\b| \b\b/ \b\b- \b\b\\ \b\b| \b\b/ \b\b- \b\b\\ \b\b| \b\b/ \b\b- \b\b\\ \b\b| \b\b/ \b\b- \b\b\\ \b\b| \b\b/ \b\b- \b\b\\ \b\b| \b\b/ \b\b- \b\b\\ \b\b| \b\b/ \b\b- \b\b\\ \b\b| \b\b/ \b\b- \b\b\\ \b\b| \b\b/ \b\b- \b\b\\ \b\b| \b\b/ \b\b- \b\b\\ \b\b| \b\b/ \b\b- \b\b\\ \b\b| \b\b/ \b\b- \b\b\\ \b\b| \b\b/ \b\b- \b\b\\ \b\b| \b\b/ \b\b- \b\b\\ \b\b| \b\b/ \b\b- \b\b\\ \b\b| \b\b/ \b\b- \b\b\\ \b\b| \b\b/ \b\b- \b\b\\ \b\b| \b\b/ \b\b- \b\b\\ \b\b| \b\b/ \b\b- \b\b\\ \b\b| \b\b/ \b\b- \b\b\\ \b\b| \b\b/ \b\b- \b\b\\ \b\b| \b\b/ \b\b- \b\b\\ \b\b| \b\b/ \b\b- \b\b\\ \b\b| \b\b/ \b\b- \b\b\\ \b\b| \b\b/ \b\b- \b\b\\ \b\b| \b\b/ \b\b- \b\b\\ \b\b| \b\b/ \b\b- \b\b\\ \b\b| \b\b/ \b\b- \b\b\\ \b\b| \b\b/ \b\b- \b\b\\ \b\b| \b\b/ \b\b- \b\b\\ \b\b| \b\b/ \b\b- \b\b\\ \b\b| \b\b/ \b\b- \b\b\\ \b\b| \b\b/ \b\b- \b\b\\ \b\b| \b\b/ \b\b- \b\b\\ \b\b| \b\b/ \b\b- \b\b\\ \b\b| \b\b/ \b\b- \b\b\\ \b\b| \b\b/ \b\b- \b\b\\ \b\b| \b\b/ \b\b- \b\b\\ \b\b| \b\b/ \b\b- \b\b\\ \b\b| \b\b/ \b\b- \b\b\\ \b\b| \b\b/ \b\b- \b\b\\ \b\b| \b\b/ \b\b- \b\b\\ \b\b| \b\b/ \b\b- \b\b\\ \b\b| \b\b/ \b\b- \b\b\\ \b\b| \b\b/ \b\b- \b\b\\ \b\b| \b\b/ \b\b- \b\b\\ \b\b| \b\b/ \b\b- \b\b\\ \b\b| \b\b/ \b\b- \b\b\\ \b\b| \b\b/ \b\b- \b\b\\ \b\b| \b\b/ \b\b- \b\b\\ \b\b| \b\b/ \b\b- \b\b\\ \b\b| \b\bdone\r\n",
      "\r\n",
      "## Package Plan ##\r\n",
      "\r\n",
      "  environment location: /opt/conda\r\n",
      "\r\n",
      "  added / updated specs:\r\n",
      "    - pykaldi\r\n",
      "\r\n",
      "\r\n",
      "The following packages will be downloaded:\r\n",
      "\r\n",
      "    package                    |            build\r\n",
      "    ---------------------------|-----------------\r\n",
      "    ca-certificates-2021.5.30  |       ha878542_0         136 KB  conda-forge\r\n",
      "    certifi-2021.5.30          |   py37h89c1867_0         141 KB  conda-forge\r\n",
      "    libopenblas-0.3.15         |pthreads_h8fe5266_1         9.2 MB  conda-forge\r\n",
      "    openblas-0.3.15            |pthreads_h4748800_1         9.8 MB  conda-forge\r\n",
      "    pykaldi-0.1.3              |   py37h14c3975_1       445.5 MB  pykaldi\r\n",
      "    ------------------------------------------------------------\r\n",
      "                                           Total:       464.6 MB\r\n",
      "\r\n",
      "The following NEW packages will be INSTALLED:\r\n",
      "\r\n",
      "  openblas           conda-forge/linux-64::openblas-0.3.15-pthreads_h4748800_1\r\n",
      "  pykaldi            pykaldi/linux-64::pykaldi-0.1.3-py37h14c3975_1\r\n",
      "\r\n",
      "The following packages will be UPDATED:\r\n",
      "\r\n",
      "  ca-certificates                      2020.12.5-ha878542_0 --> 2021.5.30-ha878542_0\r\n",
      "  certifi                          2020.12.5-py37h89c1867_1 --> 2021.5.30-py37h89c1867_0\r\n",
      "  libopenblas                    0.3.12-pthreads_h4812303_1 --> 0.3.15-pthreads_h8fe5266_1\r\n",
      "\r\n",
      "\r\n",
      "\r\n",
      "Downloading and Extracting Packages\r\n",
      "openblas-0.3.15      | 9.8 MB    | ##################################### | 100% \r\n",
      "ca-certificates-2021 | 136 KB    | ##################################### | 100% \r\n",
      "pykaldi-0.1.3        | 445.5 MB  | ##################################### | 100% \r\n",
      "libopenblas-0.3.15   | 9.2 MB    | ##################################### | 100% \r\n",
      "certifi-2021.5.30    | 141 KB    | ##################################### | 100% \r\n",
      "Preparing transaction: - \b\bdone\r\n",
      "Verifying transaction: | \b\b/ \b\b- \b\b\\ \b\b| \b\b/ \b\b- \b\b\\ \b\b| \b\b/ \b\b- \b\b\\ \b\b| \b\b/ \b\b- \b\b\\ \b\b| \b\b/ \b\b- \b\b\\ \b\b| \b\b/ \b\b- \b\b\\ \b\b| \b\b/ \b\b- \b\b\\ \b\b| \b\b/ \b\b- \b\b\\ \b\b| \b\b/ \b\b- \b\b\\ \b\b| \b\b/ \b\b- \b\b\\ \b\b| \b\b/ \b\b- \b\b\\ \b\b| \b\b/ \b\b- \b\b\\ \b\b| \b\b/ \b\b- \b\b\\ \b\b| \b\b/ \b\b- \b\b\\ \b\b| \b\b/ \b\b- \b\b\\ \b\b| \b\b/ \b\b- \b\b\\ \b\b| \b\b/ \b\b- \b\b\\ \b\b| \b\b/ \b\b- \b\b\\ \b\b| \b\b/ \b\b- \b\b\\ \b\b| \b\b/ \b\b- \b\b\\ \b\b| \b\b/ \b\b- \b\b\\ \b\b| \b\b/ \b\b- \b\b\\ \b\b| \b\b/ \b\b- \b\b\\ \b\b| \b\b/ \b\b- \b\b\\ \b\b| \b\b/ \b\b- \b\b\\ \b\b| \b\b/ \b\b- \b\b\\ \b\bdone\r\n",
      "Executing transaction: / \b\b- \b\b\\ \b\b| \b\b/ \b\bdone\r\n"
     ]
    }
   ],
   "source": [
    "!conda install -c pykaldi pykaldi -y"
   ]
  },
  {
   "cell_type": "code",
   "execution_count": 2,
   "id": "outstanding-burden",
   "metadata": {
    "execution": {
     "iopub.execute_input": "2021-05-30T19:51:56.364103Z",
     "iopub.status.busy": "2021-05-30T19:51:56.363248Z",
     "iopub.status.idle": "2021-05-30T19:51:56.367532Z",
     "shell.execute_reply": "2021-05-30T19:51:56.367093Z"
    },
    "papermill": {
     "duration": 0.263365,
     "end_time": "2021-05-30T19:51:56.367676",
     "exception": false,
     "start_time": "2021-05-30T19:51:56.104311",
     "status": "completed"
    },
    "tags": []
   },
   "outputs": [
    {
     "name": "stdout",
     "output_type": "stream",
     "text": [
      "/tmp\n"
     ]
    }
   ],
   "source": [
    "%cd /tmp"
   ]
  },
  {
   "cell_type": "code",
   "execution_count": 3,
   "id": "destroyed-bread",
   "metadata": {
    "execution": {
     "iopub.execute_input": "2021-05-30T19:51:56.890424Z",
     "iopub.status.busy": "2021-05-30T19:51:56.886528Z",
     "iopub.status.idle": "2021-05-30T19:52:00.517468Z",
     "shell.execute_reply": "2021-05-30T19:52:00.518522Z",
     "shell.execute_reply.started": "2021-05-25T22:38:20.218298Z"
    },
    "papermill": {
     "duration": 3.894294,
     "end_time": "2021-05-30T19:52:00.518725",
     "exception": false,
     "start_time": "2021-05-30T19:51:56.624431",
     "status": "completed"
    },
    "tags": []
   },
   "outputs": [
    {
     "name": "stdout",
     "output_type": "stream",
     "text": [
      "Cloning into 'fairseq'...\r\n",
      "remote: Enumerating objects: 28172, done.\u001b[K\r\n",
      "remote: Counting objects: 100% (586/586), done.\u001b[K\r\n",
      "remote: Compressing objects: 100% (339/339), done.\u001b[K\r\n",
      "remote: Total 28172 (delta 308), reused 465 (delta 234), pack-reused 27586\u001b[K\r\n",
      "Receiving objects: 100% (28172/28172), 11.87 MiB | 20.40 MiB/s, done.\r\n",
      "Resolving deltas: 100% (21127/21127), done.\r\n"
     ]
    }
   ],
   "source": [
    "!git clone https://github.com/pytorch/fairseq/"
   ]
  },
  {
   "cell_type": "code",
   "execution_count": 4,
   "id": "political-subdivision",
   "metadata": {
    "execution": {
     "iopub.execute_input": "2021-05-30T19:52:01.213679Z",
     "iopub.status.busy": "2021-05-30T19:52:01.213013Z",
     "iopub.status.idle": "2021-05-30T19:52:06.573672Z",
     "shell.execute_reply": "2021-05-30T19:52:06.572979Z",
     "shell.execute_reply.started": "2021-05-25T22:47:02.096238Z"
    },
    "papermill": {
     "duration": 5.692659,
     "end_time": "2021-05-30T19:52:06.573805",
     "exception": false,
     "start_time": "2021-05-30T19:52:00.881146",
     "status": "completed"
    },
    "tags": []
   },
   "outputs": [
    {
     "name": "stdout",
     "output_type": "stream",
     "text": [
      "Cloning into 'kenlm'...\r\n",
      "remote: Enumerating objects: 13824, done.\u001b[K\r\n",
      "remote: Counting objects: 100% (137/137), done.\u001b[K\r\n",
      "remote: Compressing objects: 100% (79/79), done.\u001b[K\r\n",
      "remote: Total 13824 (delta 76), reused 92 (delta 45), pack-reused 13687\u001b[K\r\n",
      "Receiving objects: 100% (13824/13824), 5.49 MiB | 11.53 MiB/s, done.\r\n",
      "Resolving deltas: 100% (7956/7956), done.\r\n"
     ]
    }
   ],
   "source": [
    "!git clone https://github.com/kpu/kenlm"
   ]
  },
  {
   "cell_type": "code",
   "execution_count": 5,
   "id": "sporting-homework",
   "metadata": {
    "execution": {
     "iopub.execute_input": "2021-05-30T19:52:07.123772Z",
     "iopub.status.busy": "2021-05-30T19:52:07.123134Z",
     "iopub.status.idle": "2021-05-30T19:52:12.809107Z",
     "shell.execute_reply": "2021-05-30T19:52:12.807548Z"
    },
    "papermill": {
     "duration": 5.964195,
     "end_time": "2021-05-30T19:52:12.809275",
     "exception": false,
     "start_time": "2021-05-30T19:52:06.845080",
     "status": "completed"
    },
    "tags": []
   },
   "outputs": [],
   "source": [
    "%%capture\n",
    "!apt-get -y install libeigen3-dev liblzma-dev zlib1g-dev libbz2-dev"
   ]
  },
  {
   "cell_type": "code",
   "execution_count": 6,
   "id": "breathing-boutique",
   "metadata": {
    "execution": {
     "iopub.execute_input": "2021-05-30T19:52:13.354251Z",
     "iopub.status.busy": "2021-05-30T19:52:13.353556Z",
     "iopub.status.idle": "2021-05-30T19:53:20.545216Z",
     "shell.execute_reply": "2021-05-30T19:53:20.544612Z"
    },
    "papermill": {
     "duration": 67.465945,
     "end_time": "2021-05-30T19:53:20.545361",
     "exception": false,
     "start_time": "2021-05-30T19:52:13.079416",
     "status": "completed"
    },
    "tags": []
   },
   "outputs": [],
   "source": [
    "%%capture\n",
    "%cd kenlm\n",
    "!mkdir build\n",
    "%cd build\n",
    "!cmake ..\n",
    "!make -j 4\n",
    "%cd /tmp"
   ]
  },
  {
   "cell_type": "code",
   "execution_count": 7,
   "id": "blank-hygiene",
   "metadata": {
    "execution": {
     "iopub.execute_input": "2021-05-30T19:53:21.082175Z",
     "iopub.status.busy": "2021-05-30T19:53:21.081534Z",
     "iopub.status.idle": "2021-05-30T19:53:21.084772Z",
     "shell.execute_reply": "2021-05-30T19:53:21.084225Z",
     "shell.execute_reply.started": "2021-05-25T22:58:58.397816Z"
    },
    "papermill": {
     "duration": 0.274687,
     "end_time": "2021-05-30T19:53:21.084906",
     "exception": false,
     "start_time": "2021-05-30T19:53:20.810219",
     "status": "completed"
    },
    "tags": []
   },
   "outputs": [],
   "source": [
    "import os\n",
    "os.environ['PATH'] = f\"{os.environ['PATH']}:/tmp/kenlm/build/bin/\"\n",
    "os.environ['FAIRSEQ_ROOT'] = '/tmp/fairseq'"
   ]
  },
  {
   "cell_type": "code",
   "execution_count": 8,
   "id": "dirty-priest",
   "metadata": {
    "execution": {
     "iopub.execute_input": "2021-05-30T19:53:21.616839Z",
     "iopub.status.busy": "2021-05-30T19:53:21.616131Z",
     "iopub.status.idle": "2021-05-30T19:53:21.620559Z",
     "shell.execute_reply": "2021-05-30T19:53:21.620089Z",
     "shell.execute_reply.started": "2021-05-25T22:55:38.373919Z"
    },
    "papermill": {
     "duration": 0.27189,
     "end_time": "2021-05-30T19:53:21.620725",
     "exception": false,
     "start_time": "2021-05-30T19:53:21.348835",
     "status": "completed"
    },
    "tags": []
   },
   "outputs": [
    {
     "name": "stdout",
     "output_type": "stream",
     "text": [
      "/tmp/fairseq\n"
     ]
    }
   ],
   "source": [
    "%cd /tmp/fairseq/"
   ]
  },
  {
   "cell_type": "code",
   "execution_count": 9,
   "id": "improved-burst",
   "metadata": {
    "execution": {
     "iopub.execute_input": "2021-05-30T19:53:22.164312Z",
     "iopub.status.busy": "2021-05-30T19:53:22.163609Z",
     "iopub.status.idle": "2021-05-30T19:53:22.859036Z",
     "shell.execute_reply": "2021-05-30T19:53:22.858470Z"
    },
    "papermill": {
     "duration": 0.97162,
     "end_time": "2021-05-30T19:53:22.859176",
     "exception": false,
     "start_time": "2021-05-30T19:53:21.887556",
     "status": "completed"
    },
    "tags": []
   },
   "outputs": [],
   "source": [
    "!cp examples/wav2vec/unsupervised/tasks/unpaired_audio_text.py fairseq/tasks/"
   ]
  },
  {
   "cell_type": "code",
   "execution_count": 10,
   "id": "solar-lesson",
   "metadata": {
    "execution": {
     "iopub.execute_input": "2021-05-30T19:53:23.449313Z",
     "iopub.status.busy": "2021-05-30T19:53:23.448610Z",
     "iopub.status.idle": "2021-05-30T19:54:11.893412Z",
     "shell.execute_reply": "2021-05-30T19:54:11.892919Z"
    },
    "papermill": {
     "duration": 48.719586,
     "end_time": "2021-05-30T19:54:11.893552",
     "exception": false,
     "start_time": "2021-05-30T19:53:23.173966",
     "status": "completed"
    },
    "tags": []
   },
   "outputs": [
    {
     "name": "stdout",
     "output_type": "stream",
     "text": [
      "Processing /tmp/fairseq\r\n",
      "  Installing build dependencies ... \u001b[?25l-\b \b\\\b \b|\b \b/\b \b-\b \b\\\b \bdone\r\n",
      "\u001b[?25h  Getting requirements to build wheel ... \u001b[?25ldone\r\n",
      "\u001b[?25h  Installing backend dependencies ... \u001b[?25l-\b \b\\\b \b|\b \b/\b \b-\b \bdone\r\n",
      "\u001b[?25h    Preparing wheel metadata ... \u001b[?25l-\b \b\\\b \bdone\r\n",
      "\u001b[?25hRequirement already satisfied: cffi in /opt/conda/lib/python3.7/site-packages (from fairseq==1.0.0a0+19793a7) (1.14.5)\r\n",
      "Requirement already satisfied: numpy in /opt/conda/lib/python3.7/site-packages (from fairseq==1.0.0a0+19793a7) (1.19.5)\r\n",
      "Requirement already satisfied: torch in /opt/conda/lib/python3.7/site-packages (from fairseq==1.0.0a0+19793a7) (1.7.0)\r\n",
      "Collecting omegaconf<2.1\r\n",
      "  Downloading omegaconf-2.0.6-py3-none-any.whl (36 kB)\r\n",
      "Requirement already satisfied: tqdm in /opt/conda/lib/python3.7/site-packages (from fairseq==1.0.0a0+19793a7) (4.59.0)\r\n",
      "Requirement already satisfied: cython in /opt/conda/lib/python3.7/site-packages (from fairseq==1.0.0a0+19793a7) (0.29.23)\r\n",
      "Requirement already satisfied: regex in /opt/conda/lib/python3.7/site-packages (from fairseq==1.0.0a0+19793a7) (2021.3.17)\r\n",
      "Collecting hydra-core<1.1\r\n",
      "  Downloading hydra_core-1.0.6-py3-none-any.whl (123 kB)\r\n",
      "\u001b[K     |████████████████████████████████| 123 kB 1.5 MB/s \r\n",
      "\u001b[?25hCollecting sacrebleu>=1.4.12\r\n",
      "  Downloading sacrebleu-1.5.1-py3-none-any.whl (54 kB)\r\n",
      "\u001b[K     |████████████████████████████████| 54 kB 940 kB/s \r\n",
      "\u001b[?25hCollecting antlr4-python3-runtime==4.8\r\n",
      "  Downloading antlr4-python3-runtime-4.8.tar.gz (112 kB)\r\n",
      "\u001b[K     |████████████████████████████████| 112 kB 5.9 MB/s \r\n",
      "\u001b[?25hCollecting importlib-resources\r\n",
      "  Downloading importlib_resources-5.1.4-py3-none-any.whl (26 kB)\r\n",
      "Requirement already satisfied: typing-extensions in /opt/conda/lib/python3.7/site-packages (from omegaconf<2.1->fairseq==1.0.0a0+19793a7) (3.7.4.3)\r\n",
      "Requirement already satisfied: PyYAML>=5.1.* in /opt/conda/lib/python3.7/site-packages (from omegaconf<2.1->fairseq==1.0.0a0+19793a7) (5.3.1)\r\n",
      "Collecting portalocker==2.0.0\r\n",
      "  Downloading portalocker-2.0.0-py2.py3-none-any.whl (11 kB)\r\n",
      "Requirement already satisfied: pycparser in /opt/conda/lib/python3.7/site-packages (from cffi->fairseq==1.0.0a0+19793a7) (2.20)\r\n",
      "Requirement already satisfied: zipp>=3.1.0 in /opt/conda/lib/python3.7/site-packages (from importlib-resources->hydra-core<1.1->fairseq==1.0.0a0+19793a7) (3.4.1)\r\n",
      "Requirement already satisfied: future in /opt/conda/lib/python3.7/site-packages (from torch->fairseq==1.0.0a0+19793a7) (0.18.2)\r\n",
      "Requirement already satisfied: dataclasses in /opt/conda/lib/python3.7/site-packages (from torch->fairseq==1.0.0a0+19793a7) (0.6)\r\n",
      "Building wheels for collected packages: fairseq, antlr4-python3-runtime\r\n",
      "  Building wheel for fairseq (PEP 517) ... \u001b[?25l-\b \b\\\b \b|\b \b/\b \b-\b \b\\\b \b|\b \b/\b \b-\b \b\\\b \b|\b \b/\b \b-\b \b\\\b \b|\b \b/\b \b-\b \b\\\b \b|\b \bdone\r\n",
      "\u001b[?25h  Created wheel for fairseq: filename=fairseq-1.0.0a0+19793a7-cp37-cp37m-linux_x86_64.whl size=2045313 sha256=0f5819159c8edf3cfc57e11a0d5f148d8d323cce3d37a6c0358f254820c8bc71\r\n",
      "  Stored in directory: /tmp/pip-ephem-wheel-cache-diu4lis9/wheels/e3/52/72/c9070e4abac84e3448568d15e13e9e42bb689c08614271d8f3\r\n",
      "  Building wheel for antlr4-python3-runtime (setup.py) ... \u001b[?25l-\b \b\\\b \bdone\r\n",
      "\u001b[?25h  Created wheel for antlr4-python3-runtime: filename=antlr4_python3_runtime-4.8-py3-none-any.whl size=141230 sha256=0f6d90c6a5d74c402eecea17cc39044cf16d896c2fcaba11c2162cf8e82ea909\r\n",
      "  Stored in directory: /root/.cache/pip/wheels/ca/33/b7/336836125fc9bb4ceaa4376d8abca10ca8bc84ddc824baea6c\r\n",
      "Successfully built fairseq antlr4-python3-runtime\r\n",
      "Installing collected packages: portalocker, omegaconf, importlib-resources, antlr4-python3-runtime, sacrebleu, hydra-core, fairseq\r\n",
      "  Attempting uninstall: portalocker\r\n",
      "    Found existing installation: portalocker 2.3.0\r\n",
      "    Uninstalling portalocker-2.3.0:\r\n",
      "      Successfully uninstalled portalocker-2.3.0\r\n",
      "Successfully installed antlr4-python3-runtime-4.8 fairseq-1.0.0a0+19793a7 hydra-core-1.0.6 importlib-resources-5.1.4 omegaconf-2.0.6 portalocker-2.0.0 sacrebleu-1.5.1\r\n"
     ]
    }
   ],
   "source": [
    "!pip install ."
   ]
  },
  {
   "cell_type": "code",
   "execution_count": 11,
   "id": "opposed-haven",
   "metadata": {
    "execution": {
     "iopub.execute_input": "2021-05-30T19:54:12.466998Z",
     "iopub.status.busy": "2021-05-30T19:54:12.466253Z",
     "iopub.status.idle": "2021-05-30T19:54:12.470173Z",
     "shell.execute_reply": "2021-05-30T19:54:12.469698Z"
    },
    "papermill": {
     "duration": 0.291582,
     "end_time": "2021-05-30T19:54:12.470302",
     "exception": false,
     "start_time": "2021-05-30T19:54:12.178720",
     "status": "completed"
    },
    "tags": []
   },
   "outputs": [
    {
     "name": "stdout",
     "output_type": "stream",
     "text": [
      "/tmp/fairseq/examples/wav2vec/unsupervised\n"
     ]
    }
   ],
   "source": [
    "%cd /tmp/fairseq/examples/wav2vec/unsupervised"
   ]
  },
  {
   "cell_type": "code",
   "execution_count": 12,
   "id": "earlier-glory",
   "metadata": {
    "execution": {
     "iopub.execute_input": "2021-05-30T19:54:13.050949Z",
     "iopub.status.busy": "2021-05-30T19:54:13.050266Z",
     "iopub.status.idle": "2021-05-30T19:54:13.052756Z",
     "shell.execute_reply": "2021-05-30T19:54:13.053261Z"
    },
    "papermill": {
     "duration": 0.296248,
     "end_time": "2021-05-30T19:54:13.053409",
     "exception": false,
     "start_time": "2021-05-30T19:54:12.757161",
     "status": "completed"
    },
    "tags": []
   },
   "outputs": [],
   "source": [
    "# Needed to see what's going wrong\n",
    "os.environ['HYDRA_FULL_ERROR'] = '1'"
   ]
  },
  {
   "cell_type": "markdown",
   "id": "broken-stretch",
   "metadata": {
    "papermill": {
     "duration": 0.287319,
     "end_time": "2021-05-30T19:54:13.629492",
     "exception": false,
     "start_time": "2021-05-30T19:54:13.342173",
     "status": "completed"
    },
    "tags": []
   },
   "source": [
    "## GAN"
   ]
  },
  {
   "cell_type": "code",
   "execution_count": 13,
   "id": "minus-detroit",
   "metadata": {
    "execution": {
     "iopub.execute_input": "2021-05-30T19:54:14.207444Z",
     "iopub.status.busy": "2021-05-30T19:54:14.206905Z",
     "iopub.status.idle": "2021-05-30T19:54:14.939912Z",
     "shell.execute_reply": "2021-05-30T19:54:14.939356Z",
     "shell.execute_reply.started": "2021-05-30T16:46:39.899633Z"
    },
    "papermill": {
     "duration": 1.023255,
     "end_time": "2021-05-30T19:54:14.940041",
     "exception": false,
     "start_time": "2021-05-30T19:54:13.916786",
     "status": "completed"
    },
    "tags": []
   },
   "outputs": [
    {
     "name": "stdout",
     "output_type": "stream",
     "text": [
      "CLUS128\t\t    precompute_pca512_cls128_mean\t  train.npy\r\n",
      "__notebook__.ipynb  precompute_pca512_cls128_mean_pooled  train.phn\r\n",
      "__output__.json     test.lengths\t\t\t  train.tsv\r\n",
      "__results__.html    test.ltr\t\t\t\t  train.wrd\r\n",
      "custom.css\t    test.npy\t\t\t\t  valid.lengths\r\n",
      "dict.test\t    test.phn\t\t\t\t  valid.ltr\r\n",
      "dict.train\t    test.tsv\t\t\t\t  valid.npy\r\n",
      "dict.valid\t    test.wrd\t\t\t\t  valid.phn\r\n",
      "pca\t\t    train.lengths\t\t\t  valid.tsv\r\n",
      "precompute_pca512   train.ltr\t\t\t\t  valid.wrd\r\n"
     ]
    }
   ],
   "source": [
    "!ls /kaggle/input/wav2vec-u-cv-swedish-audio/"
   ]
  },
  {
   "cell_type": "code",
   "execution_count": 14,
   "id": "unauthorized-capability",
   "metadata": {
    "execution": {
     "iopub.execute_input": "2021-05-30T19:54:15.522894Z",
     "iopub.status.busy": "2021-05-30T19:54:15.522237Z",
     "iopub.status.idle": "2021-05-30T19:54:15.527007Z",
     "shell.execute_reply": "2021-05-30T19:54:15.526529Z"
    },
    "papermill": {
     "duration": 0.3003,
     "end_time": "2021-05-30T19:54:15.527151",
     "exception": false,
     "start_time": "2021-05-30T19:54:15.226851",
     "status": "completed"
    },
    "tags": []
   },
   "outputs": [
    {
     "name": "stdout",
     "output_type": "stream",
     "text": [
      "Writing rungan.sh\n"
     ]
    }
   ],
   "source": [
    "%%writefile rungan.sh\n",
    "PREFIX=w2v_unsup_gan_xp\n",
    "#TASK_DATA=/path/to/features/unfiltered/precompute_unfiltered_pca512_cls128_mean_pooled\n",
    "TASK_DATA=/kaggle/input/wav2vec-u-cv-swedish-audio/precompute_pca512_cls128_mean_pooled/\n",
    "#TEXT_DATA=/path/to/data  # path to fairseq-preprocessed GAN data\n",
    "TEXT_DATA=/kaggle/input/wav2vec-u-cv-swedish-text-prep/preppedtext/phones/\n",
    "#KENLM_PATH=/path/to/data/kenlm.phn.o4.bin  # KenLM 4-gram phoneme language model (LM data = GAN data here)\n",
    "KENLM_PATH=/kaggle/input/wav2vec-u-cv-swedish-text-prep/preppedtext/phones/lm.phones.filtered.04.bin\n",
    "\n",
    "PREFIX=$PREFIX fairseq-hydra-train \\\n",
    "\t-m --config-dir config/gan \\\n",
    "\t--config-path . \\\n",
    "\t--config-name w2vu \\\n",
    "\ttask._name='unpaired_audio_text' \\\n",
    "\ttask.data=${TASK_DATA} \\\n",
    "\ttask.text_data=${TEXT_DATA} \\\n",
    "\ttask.kenlm_path=${KENLM_PATH} \\\n",
    "\tcheckpoint.no_epoch_checkpoints=false \\\n",
    "\tcheckpoint.save_dir=/kaggle/working \\\n",
    "\t'common.seed=range(0,5)'"
   ]
  },
  {
   "cell_type": "code",
   "execution_count": 15,
   "id": "headed-compilation",
   "metadata": {
    "execution": {
     "iopub.execute_input": "2021-05-30T19:54:16.110694Z",
     "iopub.status.busy": "2021-05-30T19:54:16.107006Z",
     "iopub.status.idle": "2021-05-30T19:54:20.047761Z",
     "shell.execute_reply": "2021-05-30T19:54:20.047185Z"
    },
    "papermill": {
     "duration": 4.23387,
     "end_time": "2021-05-30T19:54:20.047895",
     "exception": false,
     "start_time": "2021-05-30T19:54:15.814025",
     "status": "completed"
    },
    "tags": []
   },
   "outputs": [
    {
     "name": "stdout",
     "output_type": "stream",
     "text": [
      "Traceback (most recent call last):\r\n",
      "  File \"/opt/conda/bin/fairseq-hydra-train\", line 5, in <module>\r\n",
      "    from fairseq_cli.hydra_train import cli_main\r\n",
      "  File \"/opt/conda/lib/python3.7/site-packages/fairseq_cli/hydra_train.py\", line 10, in <module>\r\n",
      "    from fairseq.dataclass.initialize import add_defaults, hydra_init\r\n",
      "  File \"/opt/conda/lib/python3.7/site-packages/fairseq/__init__.py\", line 32, in <module>\r\n",
      "    import fairseq.criterions  # noqa\r\n",
      "  File \"/opt/conda/lib/python3.7/site-packages/fairseq/criterions/__init__.py\", line 36, in <module>\r\n",
      "    importlib.import_module(\"fairseq.criterions.\" + file_name)\r\n",
      "  File \"/opt/conda/lib/python3.7/importlib/__init__.py\", line 127, in import_module\r\n",
      "    return _bootstrap._gcd_import(name[level:], package, level)\r\n",
      "  File \"/opt/conda/lib/python3.7/site-packages/fairseq/criterions/ctc.py\", line 19, in <module>\r\n",
      "    from fairseq.tasks import FairseqTask\r\n",
      "  File \"/opt/conda/lib/python3.7/site-packages/fairseq/tasks/__init__.py\", line 116, in <module>\r\n",
      "    module = importlib.import_module(\"fairseq.tasks.\" + task_name)\r\n",
      "  File \"/opt/conda/lib/python3.7/importlib/__init__.py\", line 127, in import_module\r\n",
      "    return _bootstrap._gcd_import(name[level:], package, level)\r\n",
      "  File \"/opt/conda/lib/python3.7/site-packages/fairseq/tasks/unpaired_audio_text.py\", line 17, in <module>\r\n",
      "    from ..data import ExtractedFeaturesDataset, RandomInputDataset\r\n",
      "ImportError: cannot import name 'ExtractedFeaturesDataset' from 'fairseq.data' (/opt/conda/lib/python3.7/site-packages/fairseq/data/__init__.py)\r\n"
     ]
    }
   ],
   "source": [
    "!bash rungan.sh"
   ]
  }
 ],
 "metadata": {
  "kernelspec": {
   "display_name": "Python 3",
   "language": "python",
   "name": "python3"
  },
  "language_info": {
   "codemirror_mode": {
    "name": "ipython",
    "version": 3
   },
   "file_extension": ".py",
   "mimetype": "text/x-python",
   "name": "python",
   "nbconvert_exporter": "python",
   "pygments_lexer": "ipython3",
   "version": "3.7.10"
  },
  "papermill": {
   "default_parameters": {},
   "duration": 361.366015,
   "end_time": "2021-05-30T19:54:20.946113",
   "environment_variables": {},
   "exception": null,
   "input_path": "__notebook__.ipynb",
   "output_path": "__notebook__.ipynb",
   "parameters": {},
   "start_time": "2021-05-30T19:48:19.580098",
   "version": "2.3.3"
  }
 },
 "nbformat": 4,
 "nbformat_minor": 5
}
