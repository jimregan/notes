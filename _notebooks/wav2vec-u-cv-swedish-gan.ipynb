{
 "cells": [
  {
   "cell_type": "markdown",
   "id": "first-dubai",
   "metadata": {
    "papermill": {
     "duration": 0.013692,
     "end_time": "2021-05-30T18:28:44.833855",
     "exception": false,
     "start_time": "2021-05-30T18:28:44.820163",
     "status": "completed"
    },
    "tags": []
   },
   "source": [
    "## Preparation"
   ]
  },
  {
   "cell_type": "code",
   "execution_count": 1,
   "id": "extra-object",
   "metadata": {
    "_cell_guid": "b1076dfc-b9ad-4769-8c92-a6c4dae69d19",
    "_uuid": "8f2839f25d086af736a60e9eeb907d3b93b6e0e5",
    "execution": {
     "iopub.execute_input": "2021-05-30T18:28:44.863524Z",
     "iopub.status.busy": "2021-05-30T18:28:44.862369Z",
     "iopub.status.idle": "2021-05-30T18:28:44.877222Z",
     "shell.execute_reply": "2021-05-30T18:28:44.875766Z",
     "shell.execute_reply.started": "2021-05-25T22:46:58.262403Z"
    },
    "papermill": {
     "duration": 0.031642,
     "end_time": "2021-05-30T18:28:44.878140",
     "exception": false,
     "start_time": "2021-05-30T18:28:44.846498",
     "status": "completed"
    },
    "tags": []
   },
   "outputs": [
    {
     "name": "stdout",
     "output_type": "stream",
     "text": [
      "/opt\n"
     ]
    }
   ],
   "source": [
    "%cd /opt"
   ]
  },
  {
   "cell_type": "code",
   "execution_count": 2,
   "id": "ethical-hollow",
   "metadata": {
    "execution": {
     "iopub.execute_input": "2021-05-30T18:28:44.909299Z",
     "iopub.status.busy": "2021-05-30T18:28:44.908356Z",
     "iopub.status.idle": "2021-05-30T18:29:29.215850Z",
     "shell.execute_reply": "2021-05-30T18:29:29.217097Z"
    },
    "papermill": {
     "duration": 44.325114,
     "end_time": "2021-05-30T18:29:29.217856",
     "exception": false,
     "start_time": "2021-05-30T18:28:44.892742",
     "status": "completed"
    },
    "tags": []
   },
   "outputs": [],
   "source": [
    "%%capture\n",
    "!tar xvf /kaggle/input/extract-prebuilt-kaldi-from-docker/kaldi.tar"
   ]
  },
  {
   "cell_type": "code",
   "execution_count": 3,
   "id": "vanilla-memphis",
   "metadata": {
    "execution": {
     "iopub.execute_input": "2021-05-30T18:29:30.048883Z",
     "iopub.status.busy": "2021-05-30T18:29:30.047826Z",
     "iopub.status.idle": "2021-05-30T18:29:30.059936Z",
     "shell.execute_reply": "2021-05-30T18:29:30.060649Z"
    },
    "papermill": {
     "duration": 0.032435,
     "end_time": "2021-05-30T18:29:30.060910",
     "exception": false,
     "start_time": "2021-05-30T18:29:30.028475",
     "status": "completed"
    },
    "tags": []
   },
   "outputs": [
    {
     "name": "stdout",
     "output_type": "stream",
     "text": [
      "/tmp\n"
     ]
    }
   ],
   "source": [
    "%cd /tmp"
   ]
  },
  {
   "cell_type": "code",
   "execution_count": 4,
   "id": "rocky-clerk",
   "metadata": {
    "execution": {
     "iopub.execute_input": "2021-05-30T18:29:30.094134Z",
     "iopub.status.busy": "2021-05-30T18:29:30.093080Z",
     "iopub.status.idle": "2021-05-30T18:29:33.990382Z",
     "shell.execute_reply": "2021-05-30T18:29:33.991201Z",
     "shell.execute_reply.started": "2021-05-25T22:38:20.218298Z"
    },
    "papermill": {
     "duration": 3.915236,
     "end_time": "2021-05-30T18:29:33.991398",
     "exception": false,
     "start_time": "2021-05-30T18:29:30.076162",
     "status": "completed"
    },
    "tags": []
   },
   "outputs": [
    {
     "name": "stdout",
     "output_type": "stream",
     "text": [
      "Cloning into 'fairseq'...\r\n",
      "remote: Enumerating objects: 28172, done.\u001b[K\r\n",
      "remote: Counting objects: 100% (586/586), done.\u001b[K\r\n",
      "remote: Compressing objects: 100% (337/337), done.\u001b[K\r\n",
      "remote: Total 28172 (delta 308), reused 464 (delta 236), pack-reused 27586\u001b[K\r\n",
      "Receiving objects: 100% (28172/28172), 11.87 MiB | 15.33 MiB/s, done.\r\n",
      "Resolving deltas: 100% (21131/21131), done.\r\n"
     ]
    }
   ],
   "source": [
    "!git clone https://github.com/pytorch/fairseq/"
   ]
  },
  {
   "cell_type": "code",
   "execution_count": 5,
   "id": "simple-benefit",
   "metadata": {
    "execution": {
     "iopub.execute_input": "2021-05-30T18:29:34.050572Z",
     "iopub.status.busy": "2021-05-30T18:29:34.049820Z",
     "iopub.status.idle": "2021-05-30T18:30:39.167906Z",
     "shell.execute_reply": "2021-05-30T18:30:39.168487Z"
    },
    "papermill": {
     "duration": 65.148671,
     "end_time": "2021-05-30T18:30:39.168716",
     "exception": false,
     "start_time": "2021-05-30T18:29:34.020045",
     "status": "completed"
    },
    "tags": []
   },
   "outputs": [],
   "source": [
    "%%capture\n",
    "!pip install git+https://github.com/pytorch/fairseq/"
   ]
  },
  {
   "cell_type": "code",
   "execution_count": 6,
   "id": "spare-pennsylvania",
   "metadata": {
    "execution": {
     "iopub.execute_input": "2021-05-30T18:30:39.218879Z",
     "iopub.status.busy": "2021-05-30T18:30:39.218203Z",
     "iopub.status.idle": "2021-05-30T18:30:41.726939Z",
     "shell.execute_reply": "2021-05-30T18:30:41.726340Z",
     "shell.execute_reply.started": "2021-05-25T22:47:02.096238Z"
    },
    "papermill": {
     "duration": 2.534631,
     "end_time": "2021-05-30T18:30:41.727092",
     "exception": false,
     "start_time": "2021-05-30T18:30:39.192461",
     "status": "completed"
    },
    "tags": []
   },
   "outputs": [
    {
     "name": "stdout",
     "output_type": "stream",
     "text": [
      "Cloning into 'kenlm'...\r\n",
      "remote: Enumerating objects: 13824, done.\u001b[K\r\n",
      "remote: Counting objects: 100% (137/137), done.\u001b[K\r\n",
      "remote: Compressing objects: 100% (79/79), done.\u001b[K\r\n",
      "remote: Total 13824 (delta 76), reused 92 (delta 45), pack-reused 13687\u001b[K\r\n",
      "Receiving objects: 100% (13824/13824), 5.49 MiB | 8.50 MiB/s, done.\r\n",
      "Resolving deltas: 100% (7956/7956), done.\r\n"
     ]
    }
   ],
   "source": [
    "!git clone https://github.com/kpu/kenlm"
   ]
  },
  {
   "cell_type": "code",
   "execution_count": 7,
   "id": "broad-generation",
   "metadata": {
    "execution": {
     "iopub.execute_input": "2021-05-30T18:30:41.798465Z",
     "iopub.status.busy": "2021-05-30T18:30:41.793810Z",
     "iopub.status.idle": "2021-05-30T18:30:47.033001Z",
     "shell.execute_reply": "2021-05-30T18:30:47.032416Z"
    },
    "papermill": {
     "duration": 5.276785,
     "end_time": "2021-05-30T18:30:47.033152",
     "exception": false,
     "start_time": "2021-05-30T18:30:41.756367",
     "status": "completed"
    },
    "tags": []
   },
   "outputs": [],
   "source": [
    "%%capture\n",
    "!apt-get -y install libeigen3-dev liblzma-dev zlib1g-dev libbz2-dev"
   ]
  },
  {
   "cell_type": "code",
   "execution_count": 8,
   "id": "impossible-jewelry",
   "metadata": {
    "execution": {
     "iopub.execute_input": "2021-05-30T18:30:47.105352Z",
     "iopub.status.busy": "2021-05-30T18:30:47.104398Z",
     "iopub.status.idle": "2021-05-30T18:32:04.693385Z",
     "shell.execute_reply": "2021-05-30T18:32:04.692550Z"
    },
    "papermill": {
     "duration": 77.630558,
     "end_time": "2021-05-30T18:32:04.693553",
     "exception": false,
     "start_time": "2021-05-30T18:30:47.062995",
     "status": "completed"
    },
    "tags": []
   },
   "outputs": [],
   "source": [
    "%%capture\n",
    "%cd kenlm\n",
    "!mkdir build\n",
    "%cd build\n",
    "!cmake ..\n",
    "!make -j 4\n",
    "%cd /tmp"
   ]
  },
  {
   "cell_type": "code",
   "execution_count": 9,
   "id": "juvenile-albuquerque",
   "metadata": {
    "execution": {
     "iopub.execute_input": "2021-05-30T18:32:04.762819Z",
     "iopub.status.busy": "2021-05-30T18:32:04.761821Z",
     "iopub.status.idle": "2021-05-30T18:32:04.765092Z",
     "shell.execute_reply": "2021-05-30T18:32:04.764578Z",
     "shell.execute_reply.started": "2021-05-25T22:58:58.397816Z"
    },
    "papermill": {
     "duration": 0.039436,
     "end_time": "2021-05-30T18:32:04.765231",
     "exception": false,
     "start_time": "2021-05-30T18:32:04.725795",
     "status": "completed"
    },
    "tags": []
   },
   "outputs": [],
   "source": [
    "import os\n",
    "os.environ['PATH'] = f\"{os.environ['PATH']}:/tmp/kenlm/build/bin/\"\n",
    "os.environ['FAIRSEQ_ROOT'] = '/tmp/fairseq'"
   ]
  },
  {
   "cell_type": "code",
   "execution_count": 10,
   "id": "fitting-teddy",
   "metadata": {
    "execution": {
     "iopub.execute_input": "2021-05-30T18:32:04.828552Z",
     "iopub.status.busy": "2021-05-30T18:32:04.827916Z",
     "iopub.status.idle": "2021-05-30T18:32:04.832278Z",
     "shell.execute_reply": "2021-05-30T18:32:04.832764Z",
     "shell.execute_reply.started": "2021-05-25T22:55:38.373919Z"
    },
    "papermill": {
     "duration": 0.038832,
     "end_time": "2021-05-30T18:32:04.832941",
     "exception": false,
     "start_time": "2021-05-30T18:32:04.794109",
     "status": "completed"
    },
    "tags": []
   },
   "outputs": [
    {
     "name": "stdout",
     "output_type": "stream",
     "text": [
      "/tmp/fairseq/examples/wav2vec/unsupervised\n"
     ]
    }
   ],
   "source": [
    "%cd fairseq/examples/wav2vec/unsupervised"
   ]
  },
  {
   "cell_type": "code",
   "execution_count": 11,
   "id": "forced-wallet",
   "metadata": {
    "execution": {
     "iopub.execute_input": "2021-05-30T18:32:04.897353Z",
     "iopub.status.busy": "2021-05-30T18:32:04.896427Z",
     "iopub.status.idle": "2021-05-30T18:32:04.899823Z",
     "shell.execute_reply": "2021-05-30T18:32:04.899295Z"
    },
    "papermill": {
     "duration": 0.037706,
     "end_time": "2021-05-30T18:32:04.899960",
     "exception": false,
     "start_time": "2021-05-30T18:32:04.862254",
     "status": "completed"
    },
    "tags": []
   },
   "outputs": [],
   "source": [
    "# Needed to see what's going wrong\n",
    "os.environ['HYDRA_FULL_ERROR'] = '1'"
   ]
  },
  {
   "cell_type": "code",
   "execution_count": 12,
   "id": "designed-weather",
   "metadata": {
    "execution": {
     "iopub.execute_input": "2021-05-30T18:32:04.962623Z",
     "iopub.status.busy": "2021-05-30T18:32:04.961997Z",
     "iopub.status.idle": "2021-05-30T18:32:04.965050Z",
     "shell.execute_reply": "2021-05-30T18:32:04.965510Z"
    },
    "papermill": {
     "duration": 0.036816,
     "end_time": "2021-05-30T18:32:04.965702",
     "exception": false,
     "start_time": "2021-05-30T18:32:04.928886",
     "status": "completed"
    },
    "tags": []
   },
   "outputs": [],
   "source": [
    "import os\n",
    "os.environ['LD_LIBRARY_PATH'] = '/opt/conda/lib:/opt/kaldi/tools/openfst-1.6.7/lib:/opt/kaldi/src/lib'"
   ]
  },
  {
   "cell_type": "markdown",
   "id": "seasonal-liberty",
   "metadata": {
    "papermill": {
     "duration": 0.028398,
     "end_time": "2021-05-30T18:32:05.023585",
     "exception": false,
     "start_time": "2021-05-30T18:32:04.995187",
     "status": "completed"
    },
    "tags": []
   },
   "source": [
    "## GAN"
   ]
  },
  {
   "cell_type": "code",
   "execution_count": 13,
   "id": "atlantic-richmond",
   "metadata": {
    "execution": {
     "iopub.execute_input": "2021-05-30T18:32:05.092713Z",
     "iopub.status.busy": "2021-05-30T18:32:05.087918Z",
     "iopub.status.idle": "2021-05-30T18:32:05.834991Z",
     "shell.execute_reply": "2021-05-30T18:32:05.835641Z",
     "shell.execute_reply.started": "2021-05-30T16:46:39.899633Z"
    },
    "papermill": {
     "duration": 0.782892,
     "end_time": "2021-05-30T18:32:05.835857",
     "exception": false,
     "start_time": "2021-05-30T18:32:05.052965",
     "status": "completed"
    },
    "tags": []
   },
   "outputs": [
    {
     "name": "stdout",
     "output_type": "stream",
     "text": [
      "CLUS128\t\t    precompute_pca512_cls128_mean\t  train.npy\r\n",
      "__notebook__.ipynb  precompute_pca512_cls128_mean_pooled  train.phn\r\n",
      "__output__.json     test.lengths\t\t\t  train.tsv\r\n",
      "__results__.html    test.ltr\t\t\t\t  train.wrd\r\n",
      "custom.css\t    test.npy\t\t\t\t  valid.lengths\r\n",
      "dict.test\t    test.phn\t\t\t\t  valid.ltr\r\n",
      "dict.train\t    test.tsv\t\t\t\t  valid.npy\r\n",
      "dict.valid\t    test.wrd\t\t\t\t  valid.phn\r\n",
      "pca\t\t    train.lengths\t\t\t  valid.tsv\r\n",
      "precompute_pca512   train.ltr\t\t\t\t  valid.wrd\r\n"
     ]
    }
   ],
   "source": [
    "!ls /kaggle/input/wav2vec-u-cv-swedish-audio/"
   ]
  },
  {
   "cell_type": "code",
   "execution_count": 14,
   "id": "genuine-money",
   "metadata": {
    "execution": {
     "iopub.execute_input": "2021-05-30T18:32:05.900136Z",
     "iopub.status.busy": "2021-05-30T18:32:05.899107Z",
     "iopub.status.idle": "2021-05-30T18:32:05.909065Z",
     "shell.execute_reply": "2021-05-30T18:32:05.908276Z"
    },
    "papermill": {
     "duration": 0.042707,
     "end_time": "2021-05-30T18:32:05.909267",
     "exception": false,
     "start_time": "2021-05-30T18:32:05.866560",
     "status": "completed"
    },
    "tags": []
   },
   "outputs": [
    {
     "name": "stdout",
     "output_type": "stream",
     "text": [
      "Writing rungan.sh\n"
     ]
    }
   ],
   "source": [
    "%%writefile rungan.sh\n",
    "PREFIX=w2v_unsup_gan_xp\n",
    "#TASK_DATA=/path/to/features/unfiltered/precompute_unfiltered_pca512_cls128_mean_pooled\n",
    "TASK_DATA=/kaggle/input/wav2vec-u-cv-swedish-audio/precompute_pca512_cls128_mean_pooled/\n",
    "#TEXT_DATA=/path/to/data  # path to fairseq-preprocessed GAN data\n",
    "TEXT_DATA=/kaggle/input/wav2vec-u-cv-swedish-text-prep/preppedtext/phones/\n",
    "#KENLM_PATH=/path/to/data/kenlm.phn.o4.bin  # KenLM 4-gram phoneme language model (LM data = GAN data here)\n",
    "KENLM_PATH=/kaggle/input/wav2vec-u-cv-swedish-text-prep/preppedtext/phones/lm.phones.filtered.04.bin\n",
    "\n",
    "PREFIX=$PREFIX fairseq-hydra-train \\\n",
    "\t-m --config-dir config/gan \\\n",
    "\t--config-path /tmp/fairseq/examples/wav2vec/unsupervised \\\n",
    "\t--config-name w2vu \\\n",
    "\ttask._name='unpaired_audio_text' \\\n",
    "\ttask.data=${TASK_DATA} \\\n",
    "\ttask.text_data=${TEXT_DATA} \\\n",
    "\ttask.kenlm_path=${KENLM_PATH} \\\n",
    "\tcheckpoint.no_epoch_checkpoints=false \\\n",
    "\tcheckpoint.save_dir=/kaggle/working \\\n",
    "\t'common.seed=range(0,5)'"
   ]
  },
  {
   "cell_type": "code",
   "execution_count": 15,
   "id": "recognized-scanning",
   "metadata": {
    "execution": {
     "iopub.execute_input": "2021-05-30T18:32:05.980773Z",
     "iopub.status.busy": "2021-05-30T18:32:05.976352Z",
     "iopub.status.idle": "2021-05-30T18:32:11.192647Z",
     "shell.execute_reply": "2021-05-30T18:32:11.191979Z"
    },
    "papermill": {
     "duration": 5.253079,
     "end_time": "2021-05-30T18:32:11.192859",
     "exception": false,
     "start_time": "2021-05-30T18:32:05.939780",
     "status": "completed"
    },
    "tags": []
   },
   "outputs": [
    {
     "name": "stdout",
     "output_type": "stream",
     "text": [
      "Traceback (most recent call last):\r\n",
      "  File \"/opt/conda/bin/fairseq-hydra-train\", line 8, in <module>\r\n",
      "    sys.exit(cli_main())\r\n",
      "  File \"/opt/conda/lib/python3.7/site-packages/fairseq_cli/hydra_train.py\", line 76, in cli_main\r\n",
      "    hydra_main()\r\n",
      "  File \"/opt/conda/lib/python3.7/site-packages/hydra/main.py\", line 37, in decorated_main\r\n",
      "    strict=strict,\r\n",
      "  File \"/opt/conda/lib/python3.7/site-packages/hydra/_internal/utils.py\", line 355, in _run_hydra\r\n",
      "    lambda: hydra.multirun(\r\n",
      "  File \"/opt/conda/lib/python3.7/site-packages/hydra/_internal/utils.py\", line 201, in run_and_report\r\n",
      "    raise ex\r\n",
      "  File \"/opt/conda/lib/python3.7/site-packages/hydra/_internal/utils.py\", line 198, in run_and_report\r\n",
      "    return func()\r\n",
      "  File \"/opt/conda/lib/python3.7/site-packages/hydra/_internal/utils.py\", line 358, in <lambda>\r\n",
      "    overrides=args.overrides,\r\n",
      "  File \"/opt/conda/lib/python3.7/site-packages/hydra/_internal/hydra.py\", line 128, in multirun\r\n",
      "    run_mode=RunMode.MULTIRUN,\r\n",
      "  File \"/opt/conda/lib/python3.7/site-packages/hydra/_internal/hydra.py\", line 505, in compose_config\r\n",
      "    self.config_loader.ensure_main_config_source_available()\r\n",
      "  File \"/opt/conda/lib/python3.7/site-packages/hydra/_internal/config_loader_impl.py\", line 139, in ensure_main_config_source_available\r\n",
      "    config_name=None, msg=msg, with_search_path=False\r\n",
      "  File \"/opt/conda/lib/python3.7/site-packages/hydra/_internal/config_loader_impl.py\", line 113, in missing_config_error\r\n",
      "    missing_cfg_file=config_name, message=add_search_path()\r\n",
      "hydra.errors.MissingConfigException: Primary config module 'fairseq_cli..tmp.fairseq.examples.wav2vec.unsupervised' not found.\r\n",
      "Check that it's correct and contains an __init__.py file\r\n"
     ]
    }
   ],
   "source": [
    "!bash rungan.sh"
   ]
  }
 ],
 "metadata": {
  "kernelspec": {
   "display_name": "Python 3",
   "language": "python",
   "name": "python3"
  },
  "language_info": {
   "codemirror_mode": {
    "name": "ipython",
    "version": 3
   },
   "file_extension": ".py",
   "mimetype": "text/x-python",
   "name": "python",
   "nbconvert_exporter": "python",
   "pygments_lexer": "ipython3",
   "version": "3.7.10"
  },
  "papermill": {
   "default_parameters": {},
   "duration": 215.839102,
   "end_time": "2021-05-30T18:32:12.652263",
   "environment_variables": {},
   "exception": null,
   "input_path": "__notebook__.ipynb",
   "output_path": "__notebook__.ipynb",
   "parameters": {},
   "start_time": "2021-05-30T18:28:36.813161",
   "version": "2.3.3"
  }
 },
 "nbformat": 4,
 "nbformat_minor": 5
}
