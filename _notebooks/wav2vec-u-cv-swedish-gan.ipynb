{
 "cells": [
  {
   "cell_type": "markdown",
   "id": "early-tracker",
   "metadata": {
    "papermill": {
     "duration": 0.012777,
     "end_time": "2021-05-30T23:19:15.502880",
     "exception": false,
     "start_time": "2021-05-30T23:19:15.490103",
     "status": "completed"
    },
    "tags": []
   },
   "source": [
    "## Preparation"
   ]
  },
  {
   "cell_type": "code",
   "execution_count": 1,
   "id": "nonprofit-karma",
   "metadata": {
    "_cell_guid": "b1076dfc-b9ad-4769-8c92-a6c4dae69d19",
    "_uuid": "8f2839f25d086af736a60e9eeb907d3b93b6e0e5",
    "execution": {
     "iopub.execute_input": "2021-05-30T23:19:15.530701Z",
     "iopub.status.busy": "2021-05-30T23:19:15.529593Z",
     "iopub.status.idle": "2021-05-30T23:23:54.424344Z",
     "shell.execute_reply": "2021-05-30T23:23:54.423647Z",
     "shell.execute_reply.started": "2021-05-30T19:07:03.966422Z"
    },
    "papermill": {
     "duration": 278.909773,
     "end_time": "2021-05-30T23:23:54.424626",
     "exception": false,
     "start_time": "2021-05-30T23:19:15.514853",
     "status": "completed"
    },
    "tags": []
   },
   "outputs": [],
   "source": [
    "%%capture\n",
    "!conda install -c pykaldi pykaldi -y"
   ]
  },
  {
   "cell_type": "code",
   "execution_count": 2,
   "id": "serious-riverside",
   "metadata": {
    "execution": {
     "iopub.execute_input": "2021-05-30T23:23:54.456993Z",
     "iopub.status.busy": "2021-05-30T23:23:54.455519Z",
     "iopub.status.idle": "2021-05-30T23:23:54.459880Z",
     "shell.execute_reply": "2021-05-30T23:23:54.460559Z"
    },
    "papermill": {
     "duration": 0.023901,
     "end_time": "2021-05-30T23:23:54.460781",
     "exception": false,
     "start_time": "2021-05-30T23:23:54.436880",
     "status": "completed"
    },
    "tags": []
   },
   "outputs": [
    {
     "name": "stdout",
     "output_type": "stream",
     "text": [
      "/tmp\n"
     ]
    }
   ],
   "source": [
    "%cd /tmp"
   ]
  },
  {
   "cell_type": "code",
   "execution_count": 3,
   "id": "standard-grocery",
   "metadata": {
    "execution": {
     "iopub.execute_input": "2021-05-30T23:23:54.494842Z",
     "iopub.status.busy": "2021-05-30T23:23:54.494061Z",
     "iopub.status.idle": "2021-05-30T23:24:02.493798Z",
     "shell.execute_reply": "2021-05-30T23:24:02.492567Z",
     "shell.execute_reply.started": "2021-05-25T22:38:20.218298Z"
    },
    "papermill": {
     "duration": 8.019568,
     "end_time": "2021-05-30T23:24:02.493969",
     "exception": false,
     "start_time": "2021-05-30T23:23:54.474401",
     "status": "completed"
    },
    "tags": []
   },
   "outputs": [
    {
     "name": "stdout",
     "output_type": "stream",
     "text": [
      "Cloning into 'fairseq'...\r\n",
      "remote: Enumerating objects: 28172, done.\u001b[K\r\n",
      "remote: Counting objects: 100% (586/586), done.\u001b[K\r\n",
      "remote: Compressing objects: 100% (339/339), done.\u001b[K\r\n",
      "remote: Total 28172 (delta 308), reused 465 (delta 234), pack-reused 27586\u001b[K\r\n",
      "Receiving objects: 100% (28172/28172), 11.87 MiB | 8.74 MiB/s, done.\r\n",
      "Resolving deltas: 100% (21127/21127), done.\r\n"
     ]
    }
   ],
   "source": [
    "!git clone https://github.com/pytorch/fairseq/"
   ]
  },
  {
   "cell_type": "code",
   "execution_count": 4,
   "id": "premier-consciousness",
   "metadata": {
    "execution": {
     "iopub.execute_input": "2021-05-30T23:24:02.551929Z",
     "iopub.status.busy": "2021-05-30T23:24:02.546347Z",
     "iopub.status.idle": "2021-05-30T23:24:06.227844Z",
     "shell.execute_reply": "2021-05-30T23:24:06.226924Z",
     "shell.execute_reply.started": "2021-05-25T22:47:02.096238Z"
    },
    "papermill": {
     "duration": 3.711511,
     "end_time": "2021-05-30T23:24:06.227999",
     "exception": false,
     "start_time": "2021-05-30T23:24:02.516488",
     "status": "completed"
    },
    "tags": []
   },
   "outputs": [
    {
     "name": "stdout",
     "output_type": "stream",
     "text": [
      "Cloning into 'kenlm'...\r\n",
      "remote: Enumerating objects: 13824, done.\u001b[K\r\n",
      "remote: Counting objects: 100% (137/137), done.\u001b[K\r\n",
      "remote: Compressing objects: 100% (79/79), done.\u001b[K\r\n",
      "remote: Total 13824 (delta 76), reused 92 (delta 45), pack-reused 13687\u001b[K\r\n",
      "Receiving objects: 100% (13824/13824), 5.49 MiB | 4.31 MiB/s, done.\r\n",
      "Resolving deltas: 100% (7956/7956), done.\r\n"
     ]
    }
   ],
   "source": [
    "!git clone https://github.com/kpu/kenlm"
   ]
  },
  {
   "cell_type": "code",
   "execution_count": 5,
   "id": "third-complement",
   "metadata": {
    "execution": {
     "iopub.execute_input": "2021-05-30T23:24:06.292812Z",
     "iopub.status.busy": "2021-05-30T23:24:06.288878Z",
     "iopub.status.idle": "2021-05-30T23:24:13.193903Z",
     "shell.execute_reply": "2021-05-30T23:24:13.192913Z"
    },
    "papermill": {
     "duration": 6.938753,
     "end_time": "2021-05-30T23:24:13.194095",
     "exception": false,
     "start_time": "2021-05-30T23:24:06.255342",
     "status": "completed"
    },
    "tags": []
   },
   "outputs": [],
   "source": [
    "%%capture\n",
    "!apt-get -y install libeigen3-dev liblzma-dev zlib1g-dev libbz2-dev"
   ]
  },
  {
   "cell_type": "code",
   "execution_count": 6,
   "id": "connected-ballot",
   "metadata": {
    "execution": {
     "iopub.execute_input": "2021-05-30T23:24:13.258597Z",
     "iopub.status.busy": "2021-05-30T23:24:13.257678Z",
     "iopub.status.idle": "2021-05-30T23:25:22.588112Z",
     "shell.execute_reply": "2021-05-30T23:25:22.587417Z"
    },
    "papermill": {
     "duration": 69.366801,
     "end_time": "2021-05-30T23:25:22.588276",
     "exception": false,
     "start_time": "2021-05-30T23:24:13.221475",
     "status": "completed"
    },
    "tags": []
   },
   "outputs": [],
   "source": [
    "%%capture\n",
    "%cd kenlm\n",
    "!mkdir build\n",
    "%cd build\n",
    "!cmake ..\n",
    "!make -j 4\n",
    "%cd /tmp"
   ]
  },
  {
   "cell_type": "code",
   "execution_count": 7,
   "id": "behavioral-press",
   "metadata": {
    "execution": {
     "iopub.execute_input": "2021-05-30T23:25:22.648275Z",
     "iopub.status.busy": "2021-05-30T23:25:22.647677Z",
     "iopub.status.idle": "2021-05-30T23:25:22.650868Z",
     "shell.execute_reply": "2021-05-30T23:25:22.650385Z",
     "shell.execute_reply.started": "2021-05-25T22:58:58.397816Z"
    },
    "papermill": {
     "duration": 0.034948,
     "end_time": "2021-05-30T23:25:22.651020",
     "exception": false,
     "start_time": "2021-05-30T23:25:22.616072",
     "status": "completed"
    },
    "tags": []
   },
   "outputs": [],
   "source": [
    "import os\n",
    "os.environ['PATH'] = f\"{os.environ['PATH']}:/tmp/kenlm/build/bin/\"\n",
    "os.environ['FAIRSEQ_ROOT'] = '/tmp/fairseq'"
   ]
  },
  {
   "cell_type": "code",
   "execution_count": 8,
   "id": "christian-improvement",
   "metadata": {
    "execution": {
     "iopub.execute_input": "2021-05-30T23:25:22.711106Z",
     "iopub.status.busy": "2021-05-30T23:25:22.710402Z",
     "iopub.status.idle": "2021-05-30T23:25:22.715770Z",
     "shell.execute_reply": "2021-05-30T23:25:22.716691Z",
     "shell.execute_reply.started": "2021-05-25T22:55:38.373919Z"
    },
    "papermill": {
     "duration": 0.038606,
     "end_time": "2021-05-30T23:25:22.716954",
     "exception": false,
     "start_time": "2021-05-30T23:25:22.678348",
     "status": "completed"
    },
    "tags": []
   },
   "outputs": [
    {
     "name": "stdout",
     "output_type": "stream",
     "text": [
      "/tmp/fairseq\n"
     ]
    }
   ],
   "source": [
    "%cd /tmp/fairseq/"
   ]
  },
  {
   "cell_type": "code",
   "execution_count": 9,
   "id": "blessed-breed",
   "metadata": {
    "execution": {
     "iopub.execute_input": "2021-05-30T23:25:22.777488Z",
     "iopub.status.busy": "2021-05-30T23:25:22.776863Z",
     "iopub.status.idle": "2021-05-30T23:26:21.962454Z",
     "shell.execute_reply": "2021-05-30T23:26:21.965063Z"
    },
    "papermill": {
     "duration": 59.220712,
     "end_time": "2021-05-30T23:26:21.966121",
     "exception": false,
     "start_time": "2021-05-30T23:25:22.745409",
     "status": "completed"
    },
    "tags": []
   },
   "outputs": [
    {
     "name": "stdout",
     "output_type": "stream",
     "text": [
      "Processing /tmp/fairseq\r\n",
      "  Installing build dependencies ... \u001b[?25l-\b \b\\\b \b|\b \b/\b \b-\b \b\\\b \b|\b \b/\b \bdone\r\n",
      "\u001b[?25h  Getting requirements to build wheel ... \u001b[?25ldone\r\n",
      "\u001b[?25h  Installing backend dependencies ... \u001b[?25l-\b \b\\\b \b|\b \b/\b \b-\b \bdone\r\n",
      "\u001b[?25h    Preparing wheel metadata ... \u001b[?25l-\b \b\\\b \bdone\r\n",
      "\u001b[?25hRequirement already satisfied: cython in /opt/conda/lib/python3.7/site-packages (from fairseq==1.0.0a0+19793a7) (0.29.23)\r\n",
      "Collecting hydra-core<1.1\r\n",
      "  Downloading hydra_core-1.0.6-py3-none-any.whl (123 kB)\r\n",
      "\u001b[K     |████████████████████████████████| 123 kB 420 kB/s \r\n",
      "\u001b[?25hRequirement already satisfied: regex in /opt/conda/lib/python3.7/site-packages (from fairseq==1.0.0a0+19793a7) (2021.3.17)\r\n",
      "Collecting omegaconf<2.1\r\n",
      "  Downloading omegaconf-2.0.6-py3-none-any.whl (36 kB)\r\n",
      "Requirement already satisfied: torch in /opt/conda/lib/python3.7/site-packages (from fairseq==1.0.0a0+19793a7) (1.7.0)\r\n",
      "Requirement already satisfied: numpy in /opt/conda/lib/python3.7/site-packages (from fairseq==1.0.0a0+19793a7) (1.19.5)\r\n",
      "Collecting sacrebleu>=1.4.12\r\n",
      "  Downloading sacrebleu-1.5.1-py3-none-any.whl (54 kB)\r\n",
      "\u001b[K     |████████████████████████████████| 54 kB 864 kB/s \r\n",
      "\u001b[?25hRequirement already satisfied: cffi in /opt/conda/lib/python3.7/site-packages (from fairseq==1.0.0a0+19793a7) (1.14.5)\r\n",
      "Requirement already satisfied: tqdm in /opt/conda/lib/python3.7/site-packages (from fairseq==1.0.0a0+19793a7) (4.59.0)\r\n",
      "Collecting antlr4-python3-runtime==4.8\r\n",
      "  Downloading antlr4-python3-runtime-4.8.tar.gz (112 kB)\r\n",
      "\u001b[K     |████████████████████████████████| 112 kB 1.3 MB/s \r\n",
      "\u001b[?25hCollecting importlib-resources\r\n",
      "  Downloading importlib_resources-5.1.4-py3-none-any.whl (26 kB)\r\n",
      "Requirement already satisfied: typing-extensions in /opt/conda/lib/python3.7/site-packages (from omegaconf<2.1->fairseq==1.0.0a0+19793a7) (3.7.4.3)\r\n",
      "Requirement already satisfied: PyYAML>=5.1.* in /opt/conda/lib/python3.7/site-packages (from omegaconf<2.1->fairseq==1.0.0a0+19793a7) (5.3.1)\r\n",
      "Collecting portalocker==2.0.0\r\n",
      "  Downloading portalocker-2.0.0-py2.py3-none-any.whl (11 kB)\r\n",
      "Requirement already satisfied: pycparser in /opt/conda/lib/python3.7/site-packages (from cffi->fairseq==1.0.0a0+19793a7) (2.20)\r\n",
      "Requirement already satisfied: zipp>=3.1.0 in /opt/conda/lib/python3.7/site-packages (from importlib-resources->hydra-core<1.1->fairseq==1.0.0a0+19793a7) (3.4.1)\r\n",
      "Requirement already satisfied: future in /opt/conda/lib/python3.7/site-packages (from torch->fairseq==1.0.0a0+19793a7) (0.18.2)\r\n",
      "Requirement already satisfied: dataclasses in /opt/conda/lib/python3.7/site-packages (from torch->fairseq==1.0.0a0+19793a7) (0.6)\r\n",
      "Building wheels for collected packages: fairseq, antlr4-python3-runtime\r\n",
      "  Building wheel for fairseq (PEP 517) ... \u001b[?25l-\b \b\\\b \b|\b \b/\b \b-\b \b\\\b \b|\b \b/\b \b-\b \b\\\b \b|\b \b/\b \b-\b \b\\\b \b|\b \b/\b \b-\b \b\\\b \b|\b \b/\b \bdone\r\n",
      "\u001b[?25h  Created wheel for fairseq: filename=fairseq-1.0.0a0+19793a7-cp37-cp37m-linux_x86_64.whl size=2041523 sha256=662b1c3c01d8ce161100d5f5510623c06c472cca659e91651b9eeadf76edaa88\r\n",
      "  Stored in directory: /tmp/pip-ephem-wheel-cache-ac04hckb/wheels/e3/52/72/c9070e4abac84e3448568d15e13e9e42bb689c08614271d8f3\r\n",
      "  Building wheel for antlr4-python3-runtime (setup.py) ... \u001b[?25l-\b \b\\\b \b|\b \bdone\r\n",
      "\u001b[?25h  Created wheel for antlr4-python3-runtime: filename=antlr4_python3_runtime-4.8-py3-none-any.whl size=141230 sha256=1830b4cdbe5b2987f514199f197d02d5d41a6c71a02f624daba842d503d86c24\r\n",
      "  Stored in directory: /root/.cache/pip/wheels/ca/33/b7/336836125fc9bb4ceaa4376d8abca10ca8bc84ddc824baea6c\r\n",
      "Successfully built fairseq antlr4-python3-runtime\r\n",
      "Installing collected packages: portalocker, omegaconf, importlib-resources, antlr4-python3-runtime, sacrebleu, hydra-core, fairseq\r\n",
      "  Attempting uninstall: portalocker\r\n",
      "    Found existing installation: portalocker 2.3.0\r\n",
      "    Uninstalling portalocker-2.3.0:\r\n",
      "      Successfully uninstalled portalocker-2.3.0\r\n",
      "Successfully installed antlr4-python3-runtime-4.8 fairseq-1.0.0a0+19793a7 hydra-core-1.0.6 importlib-resources-5.1.4 omegaconf-2.0.6 portalocker-2.0.0 sacrebleu-1.5.1\r\n"
     ]
    }
   ],
   "source": [
    "!pip install ."
   ]
  },
  {
   "cell_type": "code",
   "execution_count": 10,
   "id": "hydraulic-coupon",
   "metadata": {
    "execution": {
     "iopub.execute_input": "2021-05-30T23:26:22.149277Z",
     "iopub.status.busy": "2021-05-30T23:26:22.148500Z",
     "iopub.status.idle": "2021-05-30T23:26:22.161699Z",
     "shell.execute_reply": "2021-05-30T23:26:22.162377Z"
    },
    "papermill": {
     "duration": 0.104877,
     "end_time": "2021-05-30T23:26:22.162593",
     "exception": false,
     "start_time": "2021-05-30T23:26:22.057716",
     "status": "completed"
    },
    "tags": []
   },
   "outputs": [
    {
     "name": "stdout",
     "output_type": "stream",
     "text": [
      "/tmp/fairseq/examples/wav2vec/unsupervised\n"
     ]
    }
   ],
   "source": [
    "%cd /tmp/fairseq/examples/wav2vec/unsupervised"
   ]
  },
  {
   "cell_type": "code",
   "execution_count": 11,
   "id": "exterior-binding",
   "metadata": {
    "execution": {
     "iopub.execute_input": "2021-05-30T23:26:22.301712Z",
     "iopub.status.busy": "2021-05-30T23:26:22.300785Z",
     "iopub.status.idle": "2021-05-30T23:26:22.303296Z",
     "shell.execute_reply": "2021-05-30T23:26:22.304144Z"
    },
    "papermill": {
     "duration": 0.073401,
     "end_time": "2021-05-30T23:26:22.304378",
     "exception": false,
     "start_time": "2021-05-30T23:26:22.230977",
     "status": "completed"
    },
    "tags": []
   },
   "outputs": [],
   "source": [
    "os.environ['HYDRA_FULL_ERROR'] = '1'"
   ]
  },
  {
   "cell_type": "markdown",
   "id": "blind-therapist",
   "metadata": {
    "papermill": {
     "duration": 0.066585,
     "end_time": "2021-05-30T23:26:22.440131",
     "exception": false,
     "start_time": "2021-05-30T23:26:22.373546",
     "status": "completed"
    },
    "tags": []
   },
   "source": [
    "## GAN"
   ]
  },
  {
   "cell_type": "code",
   "execution_count": 12,
   "id": "active-article",
   "metadata": {
    "execution": {
     "iopub.execute_input": "2021-05-30T23:26:22.575964Z",
     "iopub.status.busy": "2021-05-30T23:26:22.575349Z",
     "iopub.status.idle": "2021-05-30T23:26:23.399472Z",
     "shell.execute_reply": "2021-05-30T23:26:23.400218Z",
     "shell.execute_reply.started": "2021-05-30T16:46:39.899633Z"
    },
    "papermill": {
     "duration": 0.899191,
     "end_time": "2021-05-30T23:26:23.400406",
     "exception": false,
     "start_time": "2021-05-30T23:26:22.501215",
     "status": "completed"
    },
    "tags": []
   },
   "outputs": [
    {
     "name": "stdout",
     "output_type": "stream",
     "text": [
      "CLUS128\t\t    precompute_pca512_cls128_mean\t  train.npy\r\n",
      "__notebook__.ipynb  precompute_pca512_cls128_mean_pooled  train.phn\r\n",
      "__output__.json     test.lengths\t\t\t  train.tsv\r\n",
      "__results__.html    test.ltr\t\t\t\t  train.wrd\r\n",
      "custom.css\t    test.npy\t\t\t\t  valid.lengths\r\n",
      "dict.test\t    test.phn\t\t\t\t  valid.ltr\r\n",
      "dict.train\t    test.tsv\t\t\t\t  valid.npy\r\n",
      "dict.valid\t    test.wrd\t\t\t\t  valid.phn\r\n",
      "pca\t\t    train.lengths\t\t\t  valid.tsv\r\n",
      "precompute_pca512   train.ltr\t\t\t\t  valid.wrd\r\n"
     ]
    }
   ],
   "source": [
    "!ls /kaggle/input/wav2vec-u-cv-swedish-audio/"
   ]
  },
  {
   "cell_type": "code",
   "execution_count": 13,
   "id": "according-dairy",
   "metadata": {
    "execution": {
     "iopub.execute_input": "2021-05-30T23:26:23.509751Z",
     "iopub.status.busy": "2021-05-30T23:26:23.509139Z",
     "iopub.status.idle": "2021-05-30T23:26:23.517898Z",
     "shell.execute_reply": "2021-05-30T23:26:23.518539Z"
    },
    "papermill": {
     "duration": 0.064049,
     "end_time": "2021-05-30T23:26:23.518719",
     "exception": false,
     "start_time": "2021-05-30T23:26:23.454670",
     "status": "completed"
    },
    "tags": []
   },
   "outputs": [
    {
     "name": "stdout",
     "output_type": "stream",
     "text": [
      "Writing rungan.sh\n"
     ]
    }
   ],
   "source": [
    "%%writefile rungan.sh\n",
    "PREFIX=w2v_unsup_gan_xp\n",
    "#TASK_DATA=/path/to/features/unfiltered/precompute_unfiltered_pca512_cls128_mean_pooled\n",
    "TASK_DATA=/kaggle/input/wav2vec-u-cv-swedish-audio/precompute_pca512_cls128_mean_pooled/\n",
    "#TEXT_DATA=/path/to/data  # path to fairseq-preprocessed GAN data\n",
    "TEXT_DATA=/kaggle/input/wav2vec-u-cv-swedish-text-prep/preppedtext/phones/\n",
    "#KENLM_PATH=/path/to/data/kenlm.phn.o4.bin  # KenLM 4-gram phoneme language model (LM data = GAN data here)\n",
    "KENLM_PATH=/kaggle/input/wav2vec-u-cv-swedish-text-prep/preppedtext/phones/lm.phones.filtered.04.bin\n",
    "\n",
    "PREFIX=$PREFIX fairseq-hydra-train \\\n",
    "\t-m --config-dir /tmp/fairseq/examples/wav2vec/unsupervised \\\n",
    "\t--config-path /tmp/fairseq/examples/wav2vec/unsupervised/config/gan \\\n",
    "\t--config-name w2vu \\\n",
    "\ttask._name='unpaired_audio_text' \\\n",
    "\ttask.data=${TASK_DATA} \\\n",
    "\ttask.text_data=${TEXT_DATA} \\\n",
    "\ttask.kenlm_path=${KENLM_PATH} \\\n",
    "\tcheckpoint.no_epoch_checkpoints=false \\\n",
    "\tcheckpoint.save_dir=/kaggle/working \\\n",
    "\t'common.seed=range(0,5)'"
   ]
  },
  {
   "cell_type": "code",
   "execution_count": 14,
   "id": "increasing-showcase",
   "metadata": {
    "execution": {
     "iopub.execute_input": "2021-05-30T23:26:23.637425Z",
     "iopub.status.busy": "2021-05-30T23:26:23.635142Z",
     "iopub.status.idle": "2021-05-30T23:26:29.105371Z",
     "shell.execute_reply": "2021-05-30T23:26:29.104825Z"
    },
    "papermill": {
     "duration": 5.53293,
     "end_time": "2021-05-30T23:26:29.105522",
     "exception": false,
     "start_time": "2021-05-30T23:26:23.572592",
     "status": "completed"
    },
    "tags": []
   },
   "outputs": [
    {
     "name": "stdout",
     "output_type": "stream",
     "text": [
      "Traceback (most recent call last):\r\n",
      "  File \"/opt/conda/bin/fairseq-hydra-train\", line 8, in <module>\r\n",
      "    sys.exit(cli_main())\r\n",
      "  File \"/opt/conda/lib/python3.7/site-packages/fairseq_cli/hydra_train.py\", line 76, in cli_main\r\n",
      "    hydra_main()\r\n",
      "  File \"/opt/conda/lib/python3.7/site-packages/hydra/main.py\", line 37, in decorated_main\r\n",
      "    strict=strict,\r\n",
      "  File \"/opt/conda/lib/python3.7/site-packages/hydra/_internal/utils.py\", line 355, in _run_hydra\r\n",
      "    lambda: hydra.multirun(\r\n",
      "  File \"/opt/conda/lib/python3.7/site-packages/hydra/_internal/utils.py\", line 201, in run_and_report\r\n",
      "    raise ex\r\n",
      "  File \"/opt/conda/lib/python3.7/site-packages/hydra/_internal/utils.py\", line 198, in run_and_report\r\n",
      "    return func()\r\n",
      "  File \"/opt/conda/lib/python3.7/site-packages/hydra/_internal/utils.py\", line 358, in <lambda>\r\n",
      "    overrides=args.overrides,\r\n",
      "  File \"/opt/conda/lib/python3.7/site-packages/hydra/_internal/hydra.py\", line 128, in multirun\r\n",
      "    run_mode=RunMode.MULTIRUN,\r\n",
      "  File \"/opt/conda/lib/python3.7/site-packages/hydra/_internal/hydra.py\", line 505, in compose_config\r\n",
      "    self.config_loader.ensure_main_config_source_available()\r\n",
      "  File \"/opt/conda/lib/python3.7/site-packages/hydra/_internal/config_loader_impl.py\", line 139, in ensure_main_config_source_available\r\n",
      "    config_name=None, msg=msg, with_search_path=False\r\n",
      "  File \"/opt/conda/lib/python3.7/site-packages/hydra/_internal/config_loader_impl.py\", line 113, in missing_config_error\r\n",
      "    missing_cfg_file=config_name, message=add_search_path()\r\n",
      "hydra.errors.MissingConfigException: Primary config module 'fairseq_cli..tmp.fairseq.examples.wav2vec.unsupervised.config.gan' not found.\r\n",
      "Check that it's correct and contains an __init__.py file\r\n"
     ]
    }
   ],
   "source": [
    "!bash rungan.sh"
   ]
  }
 ],
 "metadata": {
  "kernelspec": {
   "display_name": "Python 3",
   "language": "python",
   "name": "python3"
  },
  "language_info": {
   "codemirror_mode": {
    "name": "ipython",
    "version": 3
   },
   "file_extension": ".py",
   "mimetype": "text/x-python",
   "name": "python",
   "nbconvert_exporter": "python",
   "pygments_lexer": "ipython3",
   "version": "3.7.10"
  },
  "papermill": {
   "default_parameters": {},
   "duration": 442.921678,
   "end_time": "2021-05-30T23:26:30.814975",
   "environment_variables": {},
   "exception": null,
   "input_path": "__notebook__.ipynb",
   "output_path": "__notebook__.ipynb",
   "parameters": {},
   "start_time": "2021-05-30T23:19:07.893297",
   "version": "2.3.3"
  }
 },
 "nbformat": 4,
 "nbformat_minor": 5
}
