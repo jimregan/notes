{
 "cells": [
  {
   "cell_type": "markdown",
   "id": "strong-mounting",
   "metadata": {
    "papermill": {
     "duration": 0.015675,
     "end_time": "2021-05-30T16:55:20.545591",
     "exception": false,
     "start_time": "2021-05-30T16:55:20.529916",
     "status": "completed"
    },
    "tags": []
   },
   "source": [
    "## Preparation"
   ]
  },
  {
   "cell_type": "code",
   "execution_count": 1,
   "id": "operational-might",
   "metadata": {
    "_cell_guid": "b1076dfc-b9ad-4769-8c92-a6c4dae69d19",
    "_uuid": "8f2839f25d086af736a60e9eeb907d3b93b6e0e5",
    "execution": {
     "iopub.execute_input": "2021-05-30T16:55:20.586142Z",
     "iopub.status.busy": "2021-05-30T16:55:20.583250Z",
     "iopub.status.idle": "2021-05-30T16:55:20.590790Z",
     "shell.execute_reply": "2021-05-30T16:55:20.590208Z",
     "shell.execute_reply.started": "2021-05-25T22:46:58.262403Z"
    },
    "papermill": {
     "duration": 0.030253,
     "end_time": "2021-05-30T16:55:20.590976",
     "exception": false,
     "start_time": "2021-05-30T16:55:20.560723",
     "status": "completed"
    },
    "tags": []
   },
   "outputs": [
    {
     "name": "stdout",
     "output_type": "stream",
     "text": [
      "/opt\n"
     ]
    }
   ],
   "source": [
    "%cd /opt"
   ]
  },
  {
   "cell_type": "code",
   "execution_count": 2,
   "id": "located-roads",
   "metadata": {
    "execution": {
     "iopub.execute_input": "2021-05-30T16:55:20.636084Z",
     "iopub.status.busy": "2021-05-30T16:55:20.625606Z",
     "iopub.status.idle": "2021-05-30T16:55:59.676576Z",
     "shell.execute_reply": "2021-05-30T16:55:59.675906Z"
    },
    "papermill": {
     "duration": 39.070994,
     "end_time": "2021-05-30T16:55:59.676743",
     "exception": false,
     "start_time": "2021-05-30T16:55:20.605749",
     "status": "completed"
    },
    "tags": []
   },
   "outputs": [],
   "source": [
    "%%capture\n",
    "!tar xvf /kaggle/input/extract-prebuilt-kaldi-from-docker/kaldi.tar"
   ]
  },
  {
   "cell_type": "code",
   "execution_count": 3,
   "id": "orange-wilson",
   "metadata": {
    "execution": {
     "iopub.execute_input": "2021-05-30T16:55:59.713483Z",
     "iopub.status.busy": "2021-05-30T16:55:59.712704Z",
     "iopub.status.idle": "2021-05-30T16:55:59.716542Z",
     "shell.execute_reply": "2021-05-30T16:55:59.717009Z"
    },
    "papermill": {
     "duration": 0.025024,
     "end_time": "2021-05-30T16:55:59.717177",
     "exception": false,
     "start_time": "2021-05-30T16:55:59.692153",
     "status": "completed"
    },
    "tags": []
   },
   "outputs": [
    {
     "name": "stdout",
     "output_type": "stream",
     "text": [
      "/tmp\n"
     ]
    }
   ],
   "source": [
    "%cd /tmp"
   ]
  },
  {
   "cell_type": "code",
   "execution_count": 4,
   "id": "sweet-jaguar",
   "metadata": {
    "execution": {
     "iopub.execute_input": "2021-05-30T16:55:59.757843Z",
     "iopub.status.busy": "2021-05-30T16:55:59.757224Z",
     "iopub.status.idle": "2021-05-30T16:56:07.284350Z",
     "shell.execute_reply": "2021-05-30T16:56:07.284885Z",
     "shell.execute_reply.started": "2021-05-25T22:38:20.218298Z"
    },
    "papermill": {
     "duration": 7.55215,
     "end_time": "2021-05-30T16:56:07.285053",
     "exception": false,
     "start_time": "2021-05-30T16:55:59.732903",
     "status": "completed"
    },
    "tags": []
   },
   "outputs": [
    {
     "name": "stdout",
     "output_type": "stream",
     "text": [
      "Cloning into 'fairseq'...\r\n",
      "remote: Enumerating objects: 28172, done.\u001b[K\r\n",
      "remote: Counting objects: 100% (586/586), done.\u001b[K\r\n",
      "remote: Compressing objects: 100% (339/339), done.\u001b[K\r\n",
      "remote: Total 28172 (delta 308), reused 465 (delta 234), pack-reused 27586\u001b[K\r\n",
      "Receiving objects: 100% (28172/28172), 11.87 MiB | 8.90 MiB/s, done.\r\n",
      "Resolving deltas: 100% (21127/21127), done.\r\n"
     ]
    }
   ],
   "source": [
    "!git clone https://github.com/pytorch/fairseq/"
   ]
  },
  {
   "cell_type": "code",
   "execution_count": 5,
   "id": "excessive-shadow",
   "metadata": {
    "execution": {
     "iopub.execute_input": "2021-05-30T16:56:07.341565Z",
     "iopub.status.busy": "2021-05-30T16:56:07.340946Z",
     "iopub.status.idle": "2021-05-30T16:57:11.387416Z",
     "shell.execute_reply": "2021-05-30T16:57:11.388228Z"
    },
    "papermill": {
     "duration": 64.078307,
     "end_time": "2021-05-30T16:57:11.388769",
     "exception": false,
     "start_time": "2021-05-30T16:56:07.310462",
     "status": "completed"
    },
    "tags": []
   },
   "outputs": [],
   "source": [
    "%%capture\n",
    "!pip install git+https://github.com/pytorch/fairseq/"
   ]
  },
  {
   "cell_type": "code",
   "execution_count": 6,
   "id": "general-threat",
   "metadata": {
    "execution": {
     "iopub.execute_input": "2021-05-30T16:57:11.447140Z",
     "iopub.status.busy": "2021-05-30T16:57:11.446491Z",
     "iopub.status.idle": "2021-05-30T16:57:15.057554Z",
     "shell.execute_reply": "2021-05-30T16:57:15.056985Z",
     "shell.execute_reply.started": "2021-05-25T22:47:02.096238Z"
    },
    "papermill": {
     "duration": 3.639448,
     "end_time": "2021-05-30T16:57:15.057695",
     "exception": false,
     "start_time": "2021-05-30T16:57:11.418247",
     "status": "completed"
    },
    "tags": []
   },
   "outputs": [
    {
     "name": "stdout",
     "output_type": "stream",
     "text": [
      "Cloning into 'kenlm'...\r\n",
      "remote: Enumerating objects: 13824, done.\u001b[K\r\n",
      "remote: Counting objects: 100% (137/137), done.\u001b[K\r\n",
      "remote: Compressing objects: 100% (79/79), done.\u001b[K\r\n",
      "remote: Total 13824 (delta 76), reused 92 (delta 45), pack-reused 13687\u001b[K\r\n",
      "Receiving objects: 100% (13824/13824), 5.49 MiB | 4.49 MiB/s, done.\r\n",
      "Resolving deltas: 100% (7956/7956), done.\r\n"
     ]
    }
   ],
   "source": [
    "!git clone https://github.com/kpu/kenlm"
   ]
  },
  {
   "cell_type": "code",
   "execution_count": 7,
   "id": "brutal-moses",
   "metadata": {
    "execution": {
     "iopub.execute_input": "2021-05-30T16:57:15.124074Z",
     "iopub.status.busy": "2021-05-30T16:57:15.123431Z",
     "iopub.status.idle": "2021-05-30T16:57:21.972249Z",
     "shell.execute_reply": "2021-05-30T16:57:21.971667Z"
    },
    "papermill": {
     "duration": 6.883362,
     "end_time": "2021-05-30T16:57:21.972389",
     "exception": false,
     "start_time": "2021-05-30T16:57:15.089027",
     "status": "completed"
    },
    "tags": []
   },
   "outputs": [],
   "source": [
    "%%capture\n",
    "!apt-get -y install libeigen3-dev liblzma-dev zlib1g-dev libbz2-dev"
   ]
  },
  {
   "cell_type": "code",
   "execution_count": 8,
   "id": "limited-avatar",
   "metadata": {
    "execution": {
     "iopub.execute_input": "2021-05-30T16:57:22.044462Z",
     "iopub.status.busy": "2021-05-30T16:57:22.043467Z",
     "iopub.status.idle": "2021-05-30T16:58:31.331675Z",
     "shell.execute_reply": "2021-05-30T16:58:31.331119Z"
    },
    "papermill": {
     "duration": 69.328058,
     "end_time": "2021-05-30T16:58:31.331840",
     "exception": false,
     "start_time": "2021-05-30T16:57:22.003782",
     "status": "completed"
    },
    "tags": []
   },
   "outputs": [],
   "source": [
    "%%capture\n",
    "%cd kenlm\n",
    "!mkdir build\n",
    "%cd build\n",
    "!cmake ..\n",
    "!make -j 4\n",
    "%cd /tmp"
   ]
  },
  {
   "cell_type": "code",
   "execution_count": 9,
   "id": "thermal-reference",
   "metadata": {
    "execution": {
     "iopub.execute_input": "2021-05-30T16:58:31.399539Z",
     "iopub.status.busy": "2021-05-30T16:58:31.398910Z",
     "iopub.status.idle": "2021-05-30T16:58:31.401696Z",
     "shell.execute_reply": "2021-05-30T16:58:31.401202Z",
     "shell.execute_reply.started": "2021-05-25T22:58:58.397816Z"
    },
    "papermill": {
     "duration": 0.038602,
     "end_time": "2021-05-30T16:58:31.401831",
     "exception": false,
     "start_time": "2021-05-30T16:58:31.363229",
     "status": "completed"
    },
    "tags": []
   },
   "outputs": [],
   "source": [
    "import os\n",
    "os.environ['PATH'] = f\"{os.environ['PATH']}:/tmp/kenlm/build/bin/\"\n",
    "os.environ['FAIRSEQ_ROOT'] = '/tmp/fairseq'"
   ]
  },
  {
   "cell_type": "code",
   "execution_count": 10,
   "id": "quantitative-business",
   "metadata": {
    "execution": {
     "iopub.execute_input": "2021-05-30T16:58:31.469819Z",
     "iopub.status.busy": "2021-05-30T16:58:31.468810Z",
     "iopub.status.idle": "2021-05-30T16:58:31.473642Z",
     "shell.execute_reply": "2021-05-30T16:58:31.473045Z",
     "shell.execute_reply.started": "2021-05-25T22:55:38.373919Z"
    },
    "papermill": {
     "duration": 0.040775,
     "end_time": "2021-05-30T16:58:31.473772",
     "exception": false,
     "start_time": "2021-05-30T16:58:31.432997",
     "status": "completed"
    },
    "tags": []
   },
   "outputs": [
    {
     "name": "stdout",
     "output_type": "stream",
     "text": [
      "/tmp/fairseq/examples/wav2vec/unsupervised\n"
     ]
    }
   ],
   "source": [
    "%cd fairseq/examples/wav2vec/unsupervised"
   ]
  },
  {
   "cell_type": "code",
   "execution_count": 11,
   "id": "fifth-tucson",
   "metadata": {
    "execution": {
     "iopub.execute_input": "2021-05-30T16:58:31.541241Z",
     "iopub.status.busy": "2021-05-30T16:58:31.540524Z",
     "iopub.status.idle": "2021-05-30T16:58:31.544819Z",
     "shell.execute_reply": "2021-05-30T16:58:31.545279Z",
     "shell.execute_reply.started": "2021-05-25T23:04:33.0148Z"
    },
    "papermill": {
     "duration": 0.040183,
     "end_time": "2021-05-30T16:58:31.545447",
     "exception": false,
     "start_time": "2021-05-30T16:58:31.505264",
     "status": "completed"
    },
    "tags": []
   },
   "outputs": [
    {
     "name": "stdout",
     "output_type": "stream",
     "text": [
      "/tmp/fairseq/examples/wav2vec/unsupervised/scripts\n"
     ]
    }
   ],
   "source": [
    "%cd scripts"
   ]
  },
  {
   "cell_type": "code",
   "execution_count": 12,
   "id": "built-kelly",
   "metadata": {
    "execution": {
     "iopub.execute_input": "2021-05-30T16:58:31.613751Z",
     "iopub.status.busy": "2021-05-30T16:58:31.612760Z",
     "iopub.status.idle": "2021-05-30T16:58:31.615887Z",
     "shell.execute_reply": "2021-05-30T16:58:31.615402Z"
    },
    "papermill": {
     "duration": 0.038687,
     "end_time": "2021-05-30T16:58:31.616033",
     "exception": false,
     "start_time": "2021-05-30T16:58:31.577346",
     "status": "completed"
    },
    "tags": []
   },
   "outputs": [],
   "source": [
    "# Needed to see what's going wrong\n",
    "os.environ['HYDRA_FULL_ERROR'] = '1'"
   ]
  },
  {
   "cell_type": "code",
   "execution_count": 13,
   "id": "quick-independence",
   "metadata": {
    "execution": {
     "iopub.execute_input": "2021-05-30T16:58:31.684553Z",
     "iopub.status.busy": "2021-05-30T16:58:31.683933Z",
     "iopub.status.idle": "2021-05-30T16:58:31.686372Z",
     "shell.execute_reply": "2021-05-30T16:58:31.686874Z"
    },
    "papermill": {
     "duration": 0.039176,
     "end_time": "2021-05-30T16:58:31.687047",
     "exception": false,
     "start_time": "2021-05-30T16:58:31.647871",
     "status": "completed"
    },
    "tags": []
   },
   "outputs": [],
   "source": [
    "import os\n",
    "os.environ['LD_LIBRARY_PATH'] = '/opt/conda/lib:/opt/kaldi/tools/openfst-1.6.7/lib:/opt/kaldi/src/lib'"
   ]
  },
  {
   "cell_type": "markdown",
   "id": "secure-needle",
   "metadata": {
    "papermill": {
     "duration": 0.03192,
     "end_time": "2021-05-30T16:58:31.750890",
     "exception": false,
     "start_time": "2021-05-30T16:58:31.718970",
     "status": "completed"
    },
    "tags": []
   },
   "source": [
    "## GAN"
   ]
  },
  {
   "cell_type": "code",
   "execution_count": 14,
   "id": "disturbed-venture",
   "metadata": {
    "execution": {
     "iopub.execute_input": "2021-05-30T16:58:31.825000Z",
     "iopub.status.busy": "2021-05-30T16:58:31.824294Z",
     "iopub.status.idle": "2021-05-30T16:58:32.548781Z",
     "shell.execute_reply": "2021-05-30T16:58:32.548152Z",
     "shell.execute_reply.started": "2021-05-30T16:46:39.899633Z"
    },
    "papermill": {
     "duration": 0.766224,
     "end_time": "2021-05-30T16:58:32.548934",
     "exception": false,
     "start_time": "2021-05-30T16:58:31.782710",
     "status": "completed"
    },
    "tags": []
   },
   "outputs": [
    {
     "name": "stdout",
     "output_type": "stream",
     "text": [
      "CLUS128\t\t    precompute_pca512_cls128_mean\t  train.npy\r\n",
      "__notebook__.ipynb  precompute_pca512_cls128_mean_pooled  train.phn\r\n",
      "__output__.json     test.lengths\t\t\t  train.tsv\r\n",
      "__results__.html    test.ltr\t\t\t\t  train.wrd\r\n",
      "custom.css\t    test.npy\t\t\t\t  valid.lengths\r\n",
      "dict.test\t    test.phn\t\t\t\t  valid.ltr\r\n",
      "dict.train\t    test.tsv\t\t\t\t  valid.npy\r\n",
      "dict.valid\t    test.wrd\t\t\t\t  valid.phn\r\n",
      "pca\t\t    train.lengths\t\t\t  valid.tsv\r\n",
      "precompute_pca512   train.ltr\t\t\t\t  valid.wrd\r\n"
     ]
    }
   ],
   "source": [
    "!ls /kaggle/input/wav2vec-u-cv-swedish-audio/"
   ]
  },
  {
   "cell_type": "code",
   "execution_count": 15,
   "id": "multiple-projection",
   "metadata": {
    "execution": {
     "iopub.execute_input": "2021-05-30T16:58:32.623370Z",
     "iopub.status.busy": "2021-05-30T16:58:32.622219Z",
     "iopub.status.idle": "2021-05-30T16:58:33.384717Z",
     "shell.execute_reply": "2021-05-30T16:58:33.384132Z",
     "shell.execute_reply.started": "2021-05-30T16:48:08.968025Z"
    },
    "papermill": {
     "duration": 0.803499,
     "end_time": "2021-05-30T16:58:33.384879",
     "exception": false,
     "start_time": "2021-05-30T16:58:32.581380",
     "status": "completed"
    },
    "tags": []
   },
   "outputs": [
    {
     "name": "stdout",
     "output_type": "stream",
     "text": [
      "/kaggle/input/wav2vec-u-cv-swedish-text-prep/preppedtext/phones/train.bin\r\n",
      "/kaggle/input/wav2vec-u-cv-swedish-text-prep/preppedtext/phones/lm.phones.filtered.04.bin\r\n",
      "/kaggle/input/wav2vec-u-cv-swedish-text-prep/preppedtext/phones/lm.phones.filtered.06.bin\r\n",
      "/kaggle/input/wav2vec-u-cv-swedish-text-prep/preppedtext/kenlm.wrd.o40003.bin\r\n"
     ]
    }
   ],
   "source": [
    "!find /kaggle/input/wav2vec-u-cv-swedish-text-prep/preppedtext/ -name '*.bin'"
   ]
  },
  {
   "cell_type": "code",
   "execution_count": 16,
   "id": "integrated-meaning",
   "metadata": {
    "execution": {
     "iopub.execute_input": "2021-05-30T16:58:33.459554Z",
     "iopub.status.busy": "2021-05-30T16:58:33.458918Z",
     "iopub.status.idle": "2021-05-30T16:58:34.181543Z",
     "shell.execute_reply": "2021-05-30T16:58:34.180826Z",
     "shell.execute_reply.started": "2021-05-30T16:54:05.686006Z"
    },
    "papermill": {
     "duration": 0.763909,
     "end_time": "2021-05-30T16:58:34.181683",
     "exception": false,
     "start_time": "2021-05-30T16:58:33.417774",
     "status": "completed"
    },
    "tags": []
   },
   "outputs": [
    {
     "name": "stdout",
     "output_type": "stream",
     "text": [
      "/kaggle/input/wav2vec-u-cv-swedish-text-prep/preppedtext/phones/dict.txt\r\n"
     ]
    }
   ],
   "source": [
    "!find /kaggle/input/wav2vec-u-cv-swedish-text-prep/preppedtext/ -name 'dict.txt'"
   ]
  },
  {
   "cell_type": "code",
   "execution_count": 17,
   "id": "compound-yield",
   "metadata": {
    "execution": {
     "iopub.execute_input": "2021-05-30T16:58:34.255538Z",
     "iopub.status.busy": "2021-05-30T16:58:34.254896Z",
     "iopub.status.idle": "2021-05-30T16:58:34.259678Z",
     "shell.execute_reply": "2021-05-30T16:58:34.259117Z"
    },
    "papermill": {
     "duration": 0.043924,
     "end_time": "2021-05-30T16:58:34.259807",
     "exception": false,
     "start_time": "2021-05-30T16:58:34.215883",
     "status": "completed"
    },
    "tags": []
   },
   "outputs": [
    {
     "name": "stdout",
     "output_type": "stream",
     "text": [
      "Writing rungan.sh\n"
     ]
    }
   ],
   "source": [
    "%%writefile rungan.sh\n",
    "PREFIX=w2v_unsup_gan_xp\n",
    "#TASK_DATA=/path/to/features/unfiltered/precompute_unfiltered_pca512_cls128_mean_pooled\n",
    "TASK_DATA=/kaggle/input/wav2vec-u-cv-swedish-audio/precompute_pca512_cls128_mean_pooled/\n",
    "#TEXT_DATA=/path/to/data  # path to fairseq-preprocessed GAN data\n",
    "TEXT_DATA=/kaggle/input/wav2vec-u-cv-swedish-text-prep/preppedtext/phones/\n",
    "#KENLM_PATH=/path/to/data/kenlm.phn.o4.bin  # KenLM 4-gram phoneme language model (LM data = GAN data here)\n",
    "KENLM_PATH=/kaggle/input/wav2vec-u-cv-swedish-text-prep/preppedtext/phones/lm.phones.filtered.04.bin\n",
    "\n",
    "PREFIX=$PREFIX fairseq-hydra-train \\\n",
    "\t-m --config-dir config/gan \\\n",
    "\t--config-name w2vu \\\n",
    "\ttask.data=${TASK_DATA} \\\n",
    "\ttask.text_data=${TEXT_DATA} \\\n",
    "\ttask.kenlm_path=${KENLM_PATH} \\\n",
    "\t'common.seed=range(0,5)'"
   ]
  },
  {
   "cell_type": "code",
   "execution_count": 18,
   "id": "nominated-acrylic",
   "metadata": {
    "execution": {
     "iopub.execute_input": "2021-05-30T16:58:34.333695Z",
     "iopub.status.busy": "2021-05-30T16:58:34.330322Z",
     "iopub.status.idle": "2021-05-30T16:58:38.879651Z",
     "shell.execute_reply": "2021-05-30T16:58:38.879122Z"
    },
    "papermill": {
     "duration": 4.586496,
     "end_time": "2021-05-30T16:58:38.879799",
     "exception": false,
     "start_time": "2021-05-30T16:58:34.293303",
     "status": "completed"
    },
    "tags": []
   },
   "outputs": [
    {
     "name": "stdout",
     "output_type": "stream",
     "text": [
      "Traceback (most recent call last):\r\n",
      "  File \"/opt/conda/bin/fairseq-hydra-train\", line 8, in <module>\r\n",
      "    sys.exit(cli_main())\r\n",
      "  File \"/opt/conda/lib/python3.7/site-packages/fairseq_cli/hydra_train.py\", line 76, in cli_main\r\n",
      "    hydra_main()\r\n",
      "  File \"/opt/conda/lib/python3.7/site-packages/hydra/main.py\", line 37, in decorated_main\r\n",
      "    strict=strict,\r\n",
      "  File \"/opt/conda/lib/python3.7/site-packages/hydra/_internal/utils.py\", line 318, in _run_hydra\r\n",
      "    run_and_report(add_conf_dir)\r\n",
      "  File \"/opt/conda/lib/python3.7/site-packages/hydra/_internal/utils.py\", line 201, in run_and_report\r\n",
      "    raise ex\r\n",
      "  File \"/opt/conda/lib/python3.7/site-packages/hydra/_internal/utils.py\", line 198, in run_and_report\r\n",
      "    return func()\r\n",
      "  File \"/opt/conda/lib/python3.7/site-packages/hydra/_internal/utils.py\", line 310, in add_conf_dir\r\n",
      "    f\"Additional config directory '{abs_config_dir}' not found\"\r\n",
      "hydra.errors.SearchPathException: Additional config directory '/tmp/fairseq/examples/wav2vec/unsupervised/scripts/config/gan' not found\r\n"
     ]
    }
   ],
   "source": [
    "!bash rungan.sh"
   ]
  }
 ],
 "metadata": {
  "kernelspec": {
   "display_name": "Python 3",
   "language": "python",
   "name": "python3"
  },
  "language_info": {
   "codemirror_mode": {
    "name": "ipython",
    "version": 3
   },
   "file_extension": ".py",
   "mimetype": "text/x-python",
   "name": "python",
   "nbconvert_exporter": "python",
   "pygments_lexer": "ipython3",
   "version": "3.7.10"
  },
  "papermill": {
   "default_parameters": {},
   "duration": 206.681441,
   "end_time": "2021-05-30T16:58:39.624647",
   "environment_variables": {},
   "exception": null,
   "input_path": "__notebook__.ipynb",
   "output_path": "__notebook__.ipynb",
   "parameters": {},
   "start_time": "2021-05-30T16:55:12.943206",
   "version": "2.3.3"
  }
 },
 "nbformat": 4,
 "nbformat_minor": 5
}
