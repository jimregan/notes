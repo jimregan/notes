{
 "cells": [
  {
   "cell_type": "markdown",
   "id": "signed-training",
   "metadata": {
    "papermill": {
     "duration": 0.013392,
     "end_time": "2021-06-04T09:38:39.858780",
     "exception": false,
     "start_time": "2021-06-04T09:38:39.845388",
     "status": "completed"
    },
    "tags": []
   },
   "source": [
    "## Preparation"
   ]
  },
  {
   "cell_type": "code",
   "execution_count": 1,
   "id": "seventh-decrease",
   "metadata": {
    "_cell_guid": "b1076dfc-b9ad-4769-8c92-a6c4dae69d19",
    "_uuid": "8f2839f25d086af736a60e9eeb907d3b93b6e0e5",
    "execution": {
     "iopub.execute_input": "2021-06-04T09:38:39.887972Z",
     "iopub.status.busy": "2021-06-04T09:38:39.886440Z",
     "iopub.status.idle": "2021-06-04T09:42:40.283495Z",
     "shell.execute_reply": "2021-06-04T09:42:40.283918Z",
     "shell.execute_reply.started": "2021-05-31T11:43:46.770364Z"
    },
    "papermill": {
     "duration": 240.413262,
     "end_time": "2021-06-04T09:42:40.284264",
     "exception": false,
     "start_time": "2021-06-04T09:38:39.871002",
     "status": "completed"
    },
    "tags": []
   },
   "outputs": [],
   "source": [
    "%%capture\n",
    "!conda install -c pykaldi pykaldi -y"
   ]
  },
  {
   "cell_type": "code",
   "execution_count": 2,
   "id": "above-dominican",
   "metadata": {
    "execution": {
     "iopub.execute_input": "2021-06-04T09:42:40.372363Z",
     "iopub.status.busy": "2021-06-04T09:42:40.369994Z",
     "iopub.status.idle": "2021-06-04T09:48:33.872371Z",
     "shell.execute_reply": "2021-06-04T09:48:33.871241Z",
     "shell.execute_reply.started": "2021-06-04T09:28:36.099062Z"
    },
    "papermill": {
     "duration": 353.567446,
     "end_time": "2021-06-04T09:48:33.872519",
     "exception": false,
     "start_time": "2021-06-04T09:42:40.305073",
     "status": "completed"
    },
    "tags": []
   },
   "outputs": [
    {
     "name": "stdout",
     "output_type": "stream",
     "text": [
      "Get:1 http://packages.cloud.google.com/apt gcsfuse-bionic InRelease [5394 B]\r\n",
      "Ign:2 http://developer.download.nvidia.com/compute/cuda/repos/ubuntu1804/x86_64  InRelease\r\n",
      "Get:3 http://security.ubuntu.com/ubuntu bionic-security InRelease [88.7 kB]\r\n",
      "Ign:4 http://developer.download.nvidia.com/compute/machine-learning/repos/ubuntu1804/x86_64  InRelease\r\n",
      "Get:5 http://packages.cloud.google.com/apt cloud-sdk-bionic InRelease [6780 B]\r\n",
      "Get:6 http://developer.download.nvidia.com/compute/cuda/repos/ubuntu1804/x86_64  Release [697 B]\r\n",
      "Hit:7 http://developer.download.nvidia.com/compute/machine-learning/repos/ubuntu1804/x86_64  Release\r\n",
      "Get:8 http://developer.download.nvidia.com/compute/cuda/repos/ubuntu1804/x86_64  Release.gpg [836 B]\r\n",
      "Hit:9 http://archive.ubuntu.com/ubuntu bionic InRelease\r\n",
      "Get:10 http://packages.cloud.google.com/apt cloud-sdk InRelease [6739 B]\r\n",
      "Get:11 http://packages.cloud.google.com/apt gcsfuse-bionic/main amd64 Packages [2649 B]\r\n",
      "Get:12 http://archive.ubuntu.com/ubuntu bionic-updates InRelease [88.7 kB]\r\n",
      "Get:13 http://archive.ubuntu.com/ubuntu bionic-backports InRelease [74.6 kB]\r\n",
      "Get:14 http://packages.cloud.google.com/apt cloud-sdk-bionic/main amd64 Packages [187 kB]\r\n",
      "Ign:16 http://developer.download.nvidia.com/compute/cuda/repos/ubuntu1804/x86_64  Packages\r\n",
      "Get:16 http://developer.download.nvidia.com/compute/cuda/repos/ubuntu1804/x86_64  Packages [798 kB]\r\n",
      "Get:17 http://security.ubuntu.com/ubuntu bionic-security/universe amd64 Packages [1414 kB]\r\n",
      "Get:18 http://security.ubuntu.com/ubuntu bionic-security/multiverse amd64 Packages [24.7 kB]\r\n",
      "Get:19 http://security.ubuntu.com/ubuntu bionic-security/main amd64 Packages [2184 kB]\r\n",
      "Get:20 http://packages.cloud.google.com/apt cloud-sdk/main amd64 Packages [167 kB]\r\n",
      "Get:21 http://security.ubuntu.com/ubuntu bionic-security/restricted amd64 Packages [450 kB]\r\n",
      "Get:22 http://archive.ubuntu.com/ubuntu bionic-updates/multiverse amd64 Packages [33.6 kB]\r\n",
      "Get:23 http://archive.ubuntu.com/ubuntu bionic-updates/universe amd64 Packages [2184 kB]\r\n",
      "Get:24 http://archive.ubuntu.com/ubuntu bionic-updates/main amd64 Packages [2616 kB]\r\n",
      "Get:25 http://archive.ubuntu.com/ubuntu bionic-updates/restricted amd64 Packages [480 kB]\r\n",
      "Fetched 10.8 MB in 6s (1861 kB/s)\r\n",
      "\r\n",
      "\r\n",
      "\r\n",
      "\r\n",
      "\r\n",
      "The following package was automatically installed and is no longer required:\r\n",
      "  libxtst6\r\n",
      "Use 'apt autoremove' to remove it.\r\n",
      "The following packages will be upgraded:\r\n",
      "  apt curl distro-info-data gcsfuse google-cloud-sdk libapt-inst2.0\r\n",
      "  libapt-pkg5.0 libcaca0 libcudnn8 libcudnn8-dev libcurl3-gnutls libcurl4\r\n",
      "  libcurl4-openssl-dev libhogweed4 liblz4-1 libnccl-dev libnccl2 libnettle6\r\n",
      "  libpam-modules libpam-modules-bin libpam-runtime libpam0g libseccomp2\r\n",
      "  libsystemd0 libudev1 libwebp6 libwebpmux3 libx11-6 libx11-data libx11-xcb1\r\n",
      "  linux-libc-dev openjdk-11-jre-headless python-apt-common python3-apt\r\n",
      "  ubuntu-keyring\r\n",
      "35 upgraded, 0 newly installed, 0 to remove and 0 not upgraded.\r\n",
      "Need to get 1241 MB of archives.\r\n",
      "After this operation, 396 MB of additional disk space will be used.\r\n",
      "Get:1 http://developer.download.nvidia.com/compute/cuda/repos/ubuntu1804/x86_64  libcudnn8-dev 8.2.0.53-1+cuda11.3 [582 MB]\r\n",
      "Get:2 http://packages.cloud.google.com/apt cloud-sdk-bionic/main amd64 google-cloud-sdk all 343.0.0-0 [70.7 MB]\r\n",
      "Get:3 http://archive.ubuntu.com/ubuntu bionic-updates/main amd64 liblz4-1 amd64 0.0~r131-2ubuntu3.1 [48.5 kB]\r\n",
      "Get:4 http://archive.ubuntu.com/ubuntu bionic-updates/main amd64 libsystemd0 amd64 237-3ubuntu10.47 [209 kB]\r\n",
      "Get:5 http://archive.ubuntu.com/ubuntu bionic-updates/main amd64 libudev1 amd64 237-3ubuntu10.47 [58.2 kB]\r\n",
      "Get:6 http://archive.ubuntu.com/ubuntu bionic-updates/main amd64 libapt-pkg5.0 amd64 1.6.13 [808 kB]\r\n",
      "Get:7 http://archive.ubuntu.com/ubuntu bionic-updates/main amd64 ubuntu-keyring all 2018.09.18.1~18.04.2 [22.3 kB]\r\n",
      "Get:8 http://archive.ubuntu.com/ubuntu bionic-updates/main amd64 libseccomp2 amd64 2.5.1-1ubuntu1~18.04.1 [43.1 kB]\r\n",
      "Get:9 http://archive.ubuntu.com/ubuntu bionic-updates/main amd64 apt amd64 1.6.13 [1201 kB]\r\n",
      "Get:10 http://archive.ubuntu.com/ubuntu bionic-updates/main amd64 libpam0g amd64 1.1.8-3.6ubuntu2.18.04.3 [55.0 kB]\r\n",
      "Get:11 http://archive.ubuntu.com/ubuntu bionic-updates/main amd64 libpam-modules-bin amd64 1.1.8-3.6ubuntu2.18.04.3 [40.3 kB]\r\n",
      "Get:12 http://archive.ubuntu.com/ubuntu bionic-updates/main amd64 libpam-modules amd64 1.1.8-3.6ubuntu2.18.04.3 [252 kB]\r\n",
      "Get:13 http://archive.ubuntu.com/ubuntu bionic-updates/main amd64 libpam-runtime all 1.1.8-3.6ubuntu2.18.04.3 [37.1 kB]\r\n",
      "Get:14 http://archive.ubuntu.com/ubuntu bionic-updates/main amd64 libnettle6 amd64 3.4-1ubuntu0.1 [110 kB]\r\n",
      "Get:15 http://archive.ubuntu.com/ubuntu bionic-updates/main amd64 libhogweed4 amd64 3.4-1ubuntu0.1 [137 kB]\r\n",
      "Get:16 http://archive.ubuntu.com/ubuntu bionic-updates/main amd64 distro-info-data all 0.37ubuntu0.10 [4640 B]\r\n",
      "Get:17 http://archive.ubuntu.com/ubuntu bionic-updates/main amd64 libapt-inst2.0 amd64 1.6.13 [54.6 kB]\r\n",
      "Get:18 http://archive.ubuntu.com/ubuntu bionic-updates/main amd64 libx11-data all 2:1.6.4-3ubuntu0.4 [114 kB]\r\n",
      "Get:19 http://archive.ubuntu.com/ubuntu bionic-updates/main amd64 libx11-6 amd64 2:1.6.4-3ubuntu0.4 [572 kB]\r\n",
      "Get:20 http://archive.ubuntu.com/ubuntu bionic-updates/main amd64 python-apt-common all 1.6.5ubuntu0.6 [17.0 kB]\r\n",
      "Get:21 http://archive.ubuntu.com/ubuntu bionic-updates/main amd64 python3-apt amd64 1.6.5ubuntu0.6 [149 kB]\r\n",
      "Get:22 http://archive.ubuntu.com/ubuntu bionic-updates/main amd64 libcurl4-openssl-dev amd64 7.58.0-2ubuntu3.13 [301 kB]\r\n",
      "Get:23 http://archive.ubuntu.com/ubuntu bionic-updates/main amd64 curl amd64 7.58.0-2ubuntu3.13 [159 kB]\r\n",
      "Get:24 http://archive.ubuntu.com/ubuntu bionic-updates/main amd64 libcurl4 amd64 7.58.0-2ubuntu3.13 [219 kB]\r\n",
      "Get:25 http://archive.ubuntu.com/ubuntu bionic-updates/main amd64 libcaca0 amd64 0.99.beta19-2ubuntu0.18.04.2 [202 kB]\r\n",
      "Get:26 http://archive.ubuntu.com/ubuntu bionic-updates/main amd64 libcurl3-gnutls amd64 7.58.0-2ubuntu3.13 [218 kB]\r\n",
      "Get:27 http://archive.ubuntu.com/ubuntu bionic-updates/main amd64 libwebp6 amd64 0.6.1-2ubuntu0.18.04.1 [186 kB]\r\n",
      "Get:28 http://archive.ubuntu.com/ubuntu bionic-updates/main amd64 libwebpmux3 amd64 0.6.1-2ubuntu0.18.04.1 [19.6 kB]\r\n",
      "Get:29 http://archive.ubuntu.com/ubuntu bionic-updates/main amd64 libx11-xcb1 amd64 2:1.6.4-3ubuntu0.4 [9720 B]\r\n",
      "Get:30 http://archive.ubuntu.com/ubuntu bionic-updates/main amd64 linux-libc-dev amd64 4.15.0-144.148 [1003 kB]\r\n",
      "Get:31 http://archive.ubuntu.com/ubuntu bionic-updates/main amd64 openjdk-11-jre-headless amd64 11.0.11+9-0ubuntu2~18.04 [37.2 MB]\r\n",
      "Get:32 http://packages.cloud.google.com/apt gcsfuse-bionic/main amd64 gcsfuse amd64 0.35.0 [10.8 MB]\r\n",
      "Get:33 http://developer.download.nvidia.com/compute/cuda/repos/ubuntu1804/x86_64  libcudnn8 8.2.0.53-1+cuda11.3 [454 MB]\r\n",
      "Get:34 http://developer.download.nvidia.com/compute/cuda/repos/ubuntu1804/x86_64  libnccl-dev 2.9.9-1+cuda11.3 [39.0 MB]\r\n",
      "Get:35 http://developer.download.nvidia.com/compute/cuda/repos/ubuntu1804/x86_64  libnccl2 2.9.9-1+cuda11.3 [40.5 MB]\r\n",
      "Fetched 1241 MB in 23s (53.7 MB/s)\r\n",
      "debconf: delaying package configuration, since apt-utils is not installed\r\n",
      "(Reading database ... 100757 files and directories currently installed.)\r\n",
      "Preparing to unpack .../liblz4-1_0.0~r131-2ubuntu3.1_amd64.deb ...\r\n",
      "Unpacking liblz4-1:amd64 (0.0~r131-2ubuntu3.1) over (0.0~r131-2ubuntu3) ...\r\n",
      "Setting up liblz4-1:amd64 (0.0~r131-2ubuntu3.1) ...\r\n",
      "(Reading database ... 100757 files and directories currently installed.)\r\n",
      "Preparing to unpack .../libsystemd0_237-3ubuntu10.47_amd64.deb ...\r\n",
      "Unpacking libsystemd0:amd64 (237-3ubuntu10.47) over (237-3ubuntu10.45) ...\r\n",
      "Setting up libsystemd0:amd64 (237-3ubuntu10.47) ...\r\n",
      "(Reading database ... 100757 files and directories currently installed.)\r\n",
      "Preparing to unpack .../libudev1_237-3ubuntu10.47_amd64.deb ...\r\n",
      "Unpacking libudev1:amd64 (237-3ubuntu10.47) over (237-3ubuntu10.45) ...\r\n",
      "Setting up libudev1:amd64 (237-3ubuntu10.47) ...\r\n",
      "(Reading database ... 100757 files and directories currently installed.)\r\n",
      "Preparing to unpack .../libapt-pkg5.0_1.6.13_amd64.deb ...\r\n",
      "Unpacking libapt-pkg5.0:amd64 (1.6.13) over (1.6.12ubuntu0.2) ...\r\n",
      "Setting up libapt-pkg5.0:amd64 (1.6.13) ...\r\n",
      "(Reading database ... 100757 files and directories currently installed.)\r\n",
      "Preparing to unpack .../ubuntu-keyring_2018.09.18.1~18.04.2_all.deb ...\r\n",
      "Unpacking ubuntu-keyring (2018.09.18.1~18.04.2) over (2018.09.18.1~18.04.0) ...\r\n",
      "Setting up ubuntu-keyring (2018.09.18.1~18.04.2) ...\r\n",
      "(Reading database ... 100757 files and directories currently installed.)\r\n",
      "Preparing to unpack .../libseccomp2_2.5.1-1ubuntu1~18.04.1_amd64.deb ...\r\n",
      "Unpacking libseccomp2:amd64 (2.5.1-1ubuntu1~18.04.1) over (2.4.3-1ubuntu3.18.04.3) ...\r\n",
      "Setting up libseccomp2:amd64 (2.5.1-1ubuntu1~18.04.1) ...\r\n",
      "(Reading database ... 100757 files and directories currently installed.)\r\n",
      "Preparing to unpack .../archives/apt_1.6.13_amd64.deb ...\r\n",
      "Unpacking apt (1.6.13) over (1.6.12ubuntu0.2) ...\r\n",
      "Setting up apt (1.6.13) ...\r\n",
      "(Reading database ... 100757 files and directories currently installed.)\r\n",
      "Preparing to unpack .../libpam0g_1.1.8-3.6ubuntu2.18.04.3_amd64.deb ...\r\n",
      "Unpacking libpam0g:amd64 (1.1.8-3.6ubuntu2.18.04.3) over (1.1.8-3.6ubuntu2.18.04.2) ...\r\n",
      "Setting up libpam0g:amd64 (1.1.8-3.6ubuntu2.18.04.3) ...\r\n",
      "debconf: unable to initialize frontend: Dialog\r\n",
      "debconf: (No usable dialog-like program is installed, so the dialog based frontend cannot be used. at /usr/share/perl5/Debconf/FrontEnd/Dialog.pm line 76.)\r\n",
      "debconf: falling back to frontend: Readline\r\n",
      "(Reading database ... 100757 files and directories currently installed.)\r\n",
      "Preparing to unpack .../libpam-modules-bin_1.1.8-3.6ubuntu2.18.04.3_amd64.deb ...\r\n",
      "Unpacking libpam-modules-bin (1.1.8-3.6ubuntu2.18.04.3) over (1.1.8-3.6ubuntu2.18.04.2) ...\r\n",
      "Setting up libpam-modules-bin (1.1.8-3.6ubuntu2.18.04.3) ...\r\n",
      "(Reading database ... 100759 files and directories currently installed.)\r\n",
      "Preparing to unpack .../libpam-modules_1.1.8-3.6ubuntu2.18.04.3_amd64.deb ...\r\n",
      "debconf: unable to initialize frontend: Dialog\r\n",
      "debconf: (No usable dialog-like program is installed, so the dialog based frontend cannot be used. at /usr/share/perl5/Debconf/FrontEnd/Dialog.pm line 76.)\r\n",
      "debconf: falling back to frontend: Readline\r\n",
      "Unpacking libpam-modules:amd64 (1.1.8-3.6ubuntu2.18.04.3) over (1.1.8-3.6ubuntu2.18.04.2) ...\r\n",
      "Setting up libpam-modules:amd64 (1.1.8-3.6ubuntu2.18.04.3) ...\r\n",
      "(Reading database ... 100763 files and directories currently installed.)\r\n",
      "Preparing to unpack .../libpam-runtime_1.1.8-3.6ubuntu2.18.04.3_all.deb ...\r\n",
      "Unpacking libpam-runtime (1.1.8-3.6ubuntu2.18.04.3) over (1.1.8-3.6ubuntu2.18.04.2) ...\r\n",
      "Setting up libpam-runtime (1.1.8-3.6ubuntu2.18.04.3) ...\r\n",
      "debconf: unable to initialize frontend: Dialog\r\n",
      "debconf: (No usable dialog-like program is installed, so the dialog based frontend cannot be used. at /usr/share/perl5/Debconf/FrontEnd/Dialog.pm line 76.)\r\n",
      "debconf: falling back to frontend: Readline\r\n",
      "(Reading database ... 100763 files and directories currently installed.)\r\n",
      "Preparing to unpack .../libnettle6_3.4-1ubuntu0.1_amd64.deb ...\r\n",
      "Unpacking libnettle6:amd64 (3.4-1ubuntu0.1) over (3.4-1) ...\r\n",
      "Setting up libnettle6:amd64 (3.4-1ubuntu0.1) ...\r\n",
      "(Reading database ... 100763 files and directories currently installed.)\r\n",
      "Preparing to unpack .../libhogweed4_3.4-1ubuntu0.1_amd64.deb ...\r\n",
      "Unpacking libhogweed4:amd64 (3.4-1ubuntu0.1) over (3.4-1) ...\r\n",
      "Setting up libhogweed4:amd64 (3.4-1ubuntu0.1) ...\r\n",
      "(Reading database ... 100763 files and directories currently installed.)\r\n",
      "Preparing to unpack .../00-distro-info-data_0.37ubuntu0.10_all.deb ...\r\n",
      "Unpacking distro-info-data (0.37ubuntu0.10) over (0.37ubuntu0.9) ...\r\n",
      "Preparing to unpack .../01-libapt-inst2.0_1.6.13_amd64.deb ...\r\n",
      "Unpacking libapt-inst2.0:amd64 (1.6.13) over (1.6.12ubuntu0.2) ...\r\n",
      "Preparing to unpack .../02-libx11-data_2%3a1.6.4-3ubuntu0.4_all.deb ...\r\n",
      "Unpacking libx11-data (2:1.6.4-3ubuntu0.4) over (2:1.6.4-3ubuntu0.3) ...\r\n",
      "Preparing to unpack .../03-libx11-6_2%3a1.6.4-3ubuntu0.4_amd64.deb ...\r\n",
      "Unpacking libx11-6:amd64 (2:1.6.4-3ubuntu0.4) over (2:1.6.4-3ubuntu0.3) ...\r\n",
      "Preparing to unpack .../04-python-apt-common_1.6.5ubuntu0.6_all.deb ...\r\n",
      "Unpacking python-apt-common (1.6.5ubuntu0.6) over (1.6.5ubuntu0.5) ...\r\n",
      "Preparing to unpack .../05-python3-apt_1.6.5ubuntu0.6_amd64.deb ...\r\n",
      "Unpacking python3-apt (1.6.5ubuntu0.6) over (1.6.5ubuntu0.5) ...\r\n",
      "Preparing to unpack .../06-libcurl4-openssl-dev_7.58.0-2ubuntu3.13_amd64.deb ...\r\n",
      "Unpacking libcurl4-openssl-dev:amd64 (7.58.0-2ubuntu3.13) over (7.58.0-2ubuntu3.12) ...\r\n",
      "Preparing to unpack .../07-curl_7.58.0-2ubuntu3.13_amd64.deb ...\r\n",
      "Unpacking curl (7.58.0-2ubuntu3.13) over (7.58.0-2ubuntu3.12) ...\r\n",
      "Preparing to unpack .../08-libcurl4_7.58.0-2ubuntu3.13_amd64.deb ...\r\n",
      "Unpacking libcurl4:amd64 (7.58.0-2ubuntu3.13) over (7.58.0-2ubuntu3.12) ...\r\n",
      "Preparing to unpack .../09-google-cloud-sdk_343.0.0-0_all.deb ...\r\n",
      "Unpacking google-cloud-sdk (343.0.0-0) over (336.0.0-0) ...\r\n",
      "Preparing to unpack .../10-libcaca0_0.99.beta19-2ubuntu0.18.04.2_amd64.deb ...\r\n",
      "Unpacking libcaca0:amd64 (0.99.beta19-2ubuntu0.18.04.2) over (0.99.beta19-2ubuntu0.18.04.1) ...\r\n",
      "Preparing to unpack .../11-libcudnn8-dev_8.2.0.53-1+cuda11.3_amd64.deb ...\r\n",
      "update-alternatives: removing manually selected alternative - switching libcudnn to auto mode\r\n",
      "Unpacking libcudnn8-dev (8.2.0.53-1+cuda11.3) over (8.0.4.30-1+cuda11.0) ...\r\n",
      "Preparing to unpack .../12-libcudnn8_8.2.0.53-1+cuda11.3_amd64.deb ...\r\n",
      "Unpacking libcudnn8 (8.2.0.53-1+cuda11.3) over (8.0.4.30-1+cuda11.0) ...\r\n",
      "Preparing to unpack .../13-libcurl3-gnutls_7.58.0-2ubuntu3.13_amd64.deb ...\r\n",
      "Unpacking libcurl3-gnutls:amd64 (7.58.0-2ubuntu3.13) over (7.58.0-2ubuntu3.12) ...\r\n",
      "Preparing to unpack .../14-libnccl-dev_2.9.9-1+cuda11.3_amd64.deb ...\r\n",
      "Unpacking libnccl-dev (2.9.9-1+cuda11.3) over (2.7.8-1+cuda11.0) ...\r\n",
      "Preparing to unpack .../15-libnccl2_2.9.9-1+cuda11.3_amd64.deb ...\r\n",
      "Unpacking libnccl2 (2.9.9-1+cuda11.3) over (2.7.8-1+cuda11.0) ...\r\n",
      "Preparing to unpack .../16-libwebp6_0.6.1-2ubuntu0.18.04.1_amd64.deb ...\r\n",
      "Unpacking libwebp6:amd64 (0.6.1-2ubuntu0.18.04.1) over (0.6.1-2) ...\r\n",
      "Preparing to unpack .../17-libwebpmux3_0.6.1-2ubuntu0.18.04.1_amd64.deb ...\r\n",
      "Unpacking libwebpmux3:amd64 (0.6.1-2ubuntu0.18.04.1) over (0.6.1-2) ...\r\n",
      "Preparing to unpack .../18-libx11-xcb1_2%3a1.6.4-3ubuntu0.4_amd64.deb ...\r\n",
      "Unpacking libx11-xcb1:amd64 (2:1.6.4-3ubuntu0.4) over (2:1.6.4-3ubuntu0.3) ...\r\n",
      "Preparing to unpack .../19-linux-libc-dev_4.15.0-144.148_amd64.deb ...\r\n",
      "Unpacking linux-libc-dev:amd64 (4.15.0-144.148) over (4.15.0-140.144) ...\r\n",
      "Preparing to unpack .../20-openjdk-11-jre-headless_11.0.11+9-0ubuntu2~18.04_amd64.deb ...\r\n",
      "Unpacking openjdk-11-jre-headless:amd64 (11.0.11+9-0ubuntu2~18.04) over (11.0.10+9-0ubuntu1~18.04) ...\r\n",
      "Preparing to unpack .../21-gcsfuse_0.35.0_amd64.deb ...\r\n",
      "Unpacking gcsfuse (0.35.0) over (0.34.0) ...\r\n",
      "Setting up python-apt-common (1.6.5ubuntu0.6) ...\r\n",
      "Setting up libapt-inst2.0:amd64 (1.6.13) ...\r\n",
      "Setting up python3-apt (1.6.5ubuntu0.6) ...\r\n",
      "Setting up libnccl2 (2.9.9-1+cuda11.3) ...\r\n",
      "Setting up libcurl3-gnutls:amd64 (7.58.0-2ubuntu3.13) ...\r\n",
      "Setting up libcudnn8 (8.2.0.53-1+cuda11.3) ...\r\n",
      "Setting up libcurl4:amd64 (7.58.0-2ubuntu3.13) ...\r\n",
      "Setting up linux-libc-dev:amd64 (4.15.0-144.148) ...\r\n",
      "Setting up openjdk-11-jre-headless:amd64 (11.0.11+9-0ubuntu2~18.04) ...\r\n",
      "Installing new version of config file /etc/java-11-openjdk/security/default.policy ...\r\n",
      "Installing new version of config file /etc/java-11-openjdk/security/java.security ...\r\n",
      "update-alternatives: warning: alternative /usr/lib/jvm/java-11-openjdk-amd64/bin/jfr (part of link group jfr) doesn't exist; removing from list of alternatives\r\n",
      "update-alternatives: warning: /etc/alternatives/jfr is dangling; it will be updated with best choice\r\n",
      "Setting up distro-info-data (0.37ubuntu0.10) ...\r\n",
      "Setting up libx11-xcb1:amd64 (2:1.6.4-3ubuntu0.4) ...\r\n",
      "Setting up libcudnn8-dev (8.2.0.53-1+cuda11.3) ...\r\n",
      "update-alternatives: using /usr/include/x86_64-linux-gnu/cudnn_v8.h to provide /usr/include/cudnn.h (libcudnn) in auto mode\r\n",
      "Setting up libcaca0:amd64 (0.99.beta19-2ubuntu0.18.04.2) ...\r\n",
      "Setting up google-cloud-sdk (343.0.0-0) ...\r\n",
      "Setting up gcsfuse (0.35.0) ...\r\n",
      "Setting up libcurl4-openssl-dev:amd64 (7.58.0-2ubuntu3.13) ...\r\n",
      "Setting up libx11-data (2:1.6.4-3ubuntu0.4) ...\r\n",
      "Setting up libwebp6:amd64 (0.6.1-2ubuntu0.18.04.1) ...\r\n",
      "Setting up libnccl-dev (2.9.9-1+cuda11.3) ...\r\n",
      "Setting up curl (7.58.0-2ubuntu3.13) ...\r\n",
      "Setting up libx11-6:amd64 (2:1.6.4-3ubuntu0.4) ...\r\n",
      "Setting up libwebpmux3:amd64 (0.6.1-2ubuntu0.18.04.1) ...\r\n",
      "Processing triggers for libc-bin (2.27-3ubuntu1.4) ...\r\n",
      "/sbin/ldconfig.real: File /usr/lib/x86_64-linux-gnu/libcuda.so.1 is empty, not checked.\r\n",
      "/sbin/ldconfig.real: File /usr/lib/x86_64-linux-gnu/libnvidia-ml.so.1 is empty, not checked.\r\n",
      "/sbin/ldconfig.real: File /usr/lib/x86_64-linux-gnu/libcuda.so is empty, not checked.\r\n",
      "/sbin/ldconfig.real: File /usr/lib/x86_64-linux-gnu/libnvidia-ptxjitcompiler.so.1 is empty, not checked.\r\n",
      "/sbin/ldconfig.real: File /usr/lib/x86_64-linux-gnu/libnvidia-cfg.so.450.51.06 is empty, not checked.\r\n",
      "/sbin/ldconfig.real: File /usr/lib/x86_64-linux-gnu/libnvidia-ml.so.450.51.06 is empty, not checked.\r\n",
      "/sbin/ldconfig.real: File /usr/lib/x86_64-linux-gnu/libnvidia-opencl.so.1 is empty, not checked.\r\n",
      "/sbin/ldconfig.real: File /usr/lib/x86_64-linux-gnu/libnvidia-allocator.so.450.51.06 is empty, not checked.\r\n",
      "/sbin/ldconfig.real: File /usr/lib/x86_64-linux-gnu/libnvidia-ptxjitcompiler.so.450.51.06 is empty, not checked.\r\n",
      "/sbin/ldconfig.real: File /usr/lib/x86_64-linux-gnu/libnvidia-allocator.so.1 is empty, not checked.\r\n",
      "/sbin/ldconfig.real: File /usr/lib/x86_64-linux-gnu/libnvidia-opencl.so.450.51.06 is empty, not checked.\r\n",
      "/sbin/ldconfig.real: File /usr/lib/x86_64-linux-gnu/libcuda.so.450.51.06 is empty, not checked.\r\n",
      "/sbin/ldconfig.real: File /usr/lib/x86_64-linux-gnu/libnvidia-cfg.so.1 is empty, not checked.\r\n",
      "/sbin/ldconfig.real: File /usr/lib/x86_64-linux-gnu/libnvidia-compiler.so.450.51.06 is empty, not checked.\r\n"
     ]
    }
   ],
   "source": [
    "!apt-get update && apt-get upgrade -y"
   ]
  },
  {
   "cell_type": "code",
   "execution_count": 3,
   "id": "integrated-hepatitis",
   "metadata": {
    "execution": {
     "iopub.execute_input": "2021-06-04T09:48:34.015212Z",
     "iopub.status.busy": "2021-06-04T09:48:34.014414Z",
     "iopub.status.idle": "2021-06-04T09:48:34.018444Z",
     "shell.execute_reply": "2021-06-04T09:48:34.018973Z",
     "shell.execute_reply.started": "2021-05-31T13:58:07.987793Z"
    },
    "papermill": {
     "duration": 0.077697,
     "end_time": "2021-06-04T09:48:34.019151",
     "exception": false,
     "start_time": "2021-06-04T09:48:33.941454",
     "status": "completed"
    },
    "tags": []
   },
   "outputs": [
    {
     "name": "stdout",
     "output_type": "stream",
     "text": [
      "/tmp\n"
     ]
    }
   ],
   "source": [
    "%cd /tmp"
   ]
  },
  {
   "cell_type": "code",
   "execution_count": 4,
   "id": "victorian-mobile",
   "metadata": {
    "execution": {
     "iopub.execute_input": "2021-06-04T09:48:34.162214Z",
     "iopub.status.busy": "2021-06-04T09:48:34.158787Z",
     "iopub.status.idle": "2021-06-04T09:48:36.784602Z",
     "shell.execute_reply": "2021-06-04T09:48:36.784087Z",
     "shell.execute_reply.started": "2021-05-31T11:47:48.174342Z"
    },
    "papermill": {
     "duration": 2.697104,
     "end_time": "2021-06-04T09:48:36.784728",
     "exception": false,
     "start_time": "2021-06-04T09:48:34.087624",
     "status": "completed"
    },
    "tags": []
   },
   "outputs": [
    {
     "name": "stdout",
     "output_type": "stream",
     "text": [
      "Cloning into 'fairseq'...\r\n",
      "remote: Enumerating objects: 28296, done.\u001b[K\r\n",
      "remote: Total 28296 (delta 0), reused 0 (delta 0), pack-reused 28296\u001b[K\r\n",
      "Receiving objects: 100% (28296/28296), 11.77 MiB | 18.51 MiB/s, done.\r\n",
      "Resolving deltas: 100% (21291/21291), done.\r\n"
     ]
    }
   ],
   "source": [
    "!git clone https://github.com/jimregan/fairseq/ --branch issue3581"
   ]
  },
  {
   "cell_type": "code",
   "execution_count": 5,
   "id": "individual-toronto",
   "metadata": {
    "execution": {
     "iopub.execute_input": "2021-06-04T09:48:36.943327Z",
     "iopub.status.busy": "2021-06-04T09:48:36.938912Z",
     "iopub.status.idle": "2021-06-04T09:48:38.487062Z",
     "shell.execute_reply": "2021-06-04T09:48:38.486611Z",
     "shell.execute_reply.started": "2021-05-31T13:58:08.002832Z"
    },
    "papermill": {
     "duration": 1.627487,
     "end_time": "2021-06-04T09:48:38.487188",
     "exception": false,
     "start_time": "2021-06-04T09:48:36.859701",
     "status": "completed"
    },
    "tags": []
   },
   "outputs": [
    {
     "name": "stdout",
     "output_type": "stream",
     "text": [
      "Cloning into 'kenlm'...\r\n",
      "remote: Enumerating objects: 13824, done.\u001b[K\r\n",
      "remote: Counting objects: 100% (137/137), done.\u001b[K\r\n",
      "remote: Compressing objects: 100% (79/79), done.\u001b[K\r\n",
      "remote: Total 13824 (delta 76), reused 92 (delta 45), pack-reused 13687\u001b[K\r\n",
      "Receiving objects: 100% (13824/13824), 5.49 MiB | 16.59 MiB/s, done.\r\n",
      "Resolving deltas: 100% (7956/7956), done.\r\n"
     ]
    }
   ],
   "source": [
    "!git clone https://github.com/kpu/kenlm"
   ]
  },
  {
   "cell_type": "code",
   "execution_count": 6,
   "id": "extra-divorce",
   "metadata": {
    "execution": {
     "iopub.execute_input": "2021-06-04T09:48:38.649901Z",
     "iopub.status.busy": "2021-06-04T09:48:38.649105Z",
     "iopub.status.idle": "2021-06-04T09:48:42.828708Z",
     "shell.execute_reply": "2021-06-04T09:48:42.827806Z",
     "shell.execute_reply.started": "2021-05-31T13:58:12.001162Z"
    },
    "papermill": {
     "duration": 4.263398,
     "end_time": "2021-06-04T09:48:42.828855",
     "exception": false,
     "start_time": "2021-06-04T09:48:38.565457",
     "status": "completed"
    },
    "tags": []
   },
   "outputs": [],
   "source": [
    "%%capture\n",
    "!apt-get -y install libeigen3-dev liblzma-dev zlib1g-dev libbz2-dev"
   ]
  },
  {
   "cell_type": "code",
   "execution_count": 7,
   "id": "willing-johnson",
   "metadata": {
    "execution": {
     "iopub.execute_input": "2021-06-04T09:48:42.993795Z",
     "iopub.status.busy": "2021-06-04T09:48:42.993296Z",
     "iopub.status.idle": "2021-06-04T09:50:36.135715Z",
     "shell.execute_reply": "2021-06-04T09:50:36.135192Z"
    },
    "papermill": {
     "duration": 113.228666,
     "end_time": "2021-06-04T09:50:36.135870",
     "exception": false,
     "start_time": "2021-06-04T09:48:42.907204",
     "status": "completed"
    },
    "tags": []
   },
   "outputs": [],
   "source": [
    "\n",
    "%%capture\n",
    "%cd kenlm\n",
    "!mkdir build\n",
    "%cd build\n",
    "!cmake ..\n",
    "!make -j 4\n",
    "%cd /tmp"
   ]
  },
  {
   "cell_type": "code",
   "execution_count": 8,
   "id": "related-cardiff",
   "metadata": {
    "execution": {
     "iopub.execute_input": "2021-06-04T09:50:36.298691Z",
     "iopub.status.busy": "2021-06-04T09:50:36.297883Z",
     "iopub.status.idle": "2021-06-04T09:51:08.953910Z",
     "shell.execute_reply": "2021-06-04T09:51:08.953449Z",
     "shell.execute_reply.started": "2021-05-31T14:00:27.915818Z"
    },
    "papermill": {
     "duration": 32.739915,
     "end_time": "2021-06-04T09:51:08.954087",
     "exception": false,
     "start_time": "2021-06-04T09:50:36.214172",
     "status": "completed"
    },
    "tags": []
   },
   "outputs": [],
   "source": [
    "%%capture\n",
    "%cd /tmp/kenlm\n",
    "!python setup.py install\n",
    "%cd /tmp"
   ]
  },
  {
   "cell_type": "code",
   "execution_count": 9,
   "id": "nutritional-saying",
   "metadata": {
    "execution": {
     "iopub.execute_input": "2021-06-04T09:51:09.116189Z",
     "iopub.status.busy": "2021-06-04T09:51:09.115362Z",
     "iopub.status.idle": "2021-06-04T09:51:09.117919Z",
     "shell.execute_reply": "2021-06-04T09:51:09.117421Z",
     "shell.execute_reply.started": "2021-05-25T22:58:58.397816Z"
    },
    "papermill": {
     "duration": 0.08491,
     "end_time": "2021-06-04T09:51:09.118051",
     "exception": false,
     "start_time": "2021-06-04T09:51:09.033141",
     "status": "completed"
    },
    "tags": []
   },
   "outputs": [],
   "source": [
    "import os\n",
    "os.environ['PATH'] = f\"{os.environ['PATH']}:/tmp/kenlm/build/bin/\"\n",
    "os.environ['FAIRSEQ_ROOT'] = '/tmp/fairseq'"
   ]
  },
  {
   "cell_type": "code",
   "execution_count": 10,
   "id": "duplicate-novelty",
   "metadata": {
    "execution": {
     "iopub.execute_input": "2021-06-04T09:51:09.279543Z",
     "iopub.status.busy": "2021-06-04T09:51:09.278672Z",
     "iopub.status.idle": "2021-06-04T09:51:09.283763Z",
     "shell.execute_reply": "2021-06-04T09:51:09.283057Z",
     "shell.execute_reply.started": "2021-05-31T11:51:49.832574Z"
    },
    "papermill": {
     "duration": 0.087379,
     "end_time": "2021-06-04T09:51:09.283908",
     "exception": false,
     "start_time": "2021-06-04T09:51:09.196529",
     "status": "completed"
    },
    "tags": []
   },
   "outputs": [
    {
     "name": "stdout",
     "output_type": "stream",
     "text": [
      "/tmp/fairseq\n"
     ]
    }
   ],
   "source": [
    "%cd /tmp/fairseq/"
   ]
  },
  {
   "cell_type": "code",
   "execution_count": 11,
   "id": "fossil-trout",
   "metadata": {
    "execution": {
     "iopub.execute_input": "2021-06-04T09:51:09.517663Z",
     "iopub.status.busy": "2021-06-04T09:51:09.516837Z",
     "iopub.status.idle": "2021-06-04T09:52:09.417128Z",
     "shell.execute_reply": "2021-06-04T09:52:09.417596Z"
    },
    "papermill": {
     "duration": 60.037268,
     "end_time": "2021-06-04T09:52:09.417763",
     "exception": false,
     "start_time": "2021-06-04T09:51:09.380495",
     "status": "completed"
    },
    "tags": []
   },
   "outputs": [],
   "source": [
    "%%capture\n",
    "!python setup.py install"
   ]
  },
  {
   "cell_type": "code",
   "execution_count": 12,
   "id": "tutorial-ballot",
   "metadata": {
    "execution": {
     "iopub.execute_input": "2021-06-04T09:52:09.581336Z",
     "iopub.status.busy": "2021-06-04T09:52:09.580666Z",
     "iopub.status.idle": "2021-06-04T09:52:09.584305Z",
     "shell.execute_reply": "2021-06-04T09:52:09.584826Z"
    },
    "papermill": {
     "duration": 0.087113,
     "end_time": "2021-06-04T09:52:09.585017",
     "exception": false,
     "start_time": "2021-06-04T09:52:09.497904",
     "status": "completed"
    },
    "tags": []
   },
   "outputs": [
    {
     "name": "stdout",
     "output_type": "stream",
     "text": [
      "/tmp/fairseq\n"
     ]
    }
   ],
   "source": [
    "%cd /tmp/fairseq/"
   ]
  },
  {
   "cell_type": "code",
   "execution_count": 13,
   "id": "fiscal-intervention",
   "metadata": {
    "execution": {
     "iopub.execute_input": "2021-06-04T09:52:09.744817Z",
     "iopub.status.busy": "2021-06-04T09:52:09.744331Z",
     "iopub.status.idle": "2021-06-04T09:52:09.748148Z",
     "shell.execute_reply": "2021-06-04T09:52:09.747681Z"
    },
    "papermill": {
     "duration": 0.084549,
     "end_time": "2021-06-04T09:52:09.748254",
     "exception": false,
     "start_time": "2021-06-04T09:52:09.663705",
     "status": "completed"
    },
    "tags": []
   },
   "outputs": [],
   "source": [
    "os.environ['HYDRA_FULL_ERROR'] = '1'"
   ]
  },
  {
   "cell_type": "code",
   "execution_count": 14,
   "id": "coral-character",
   "metadata": {
    "execution": {
     "iopub.execute_input": "2021-06-04T09:52:09.908836Z",
     "iopub.status.busy": "2021-06-04T09:52:09.908346Z",
     "iopub.status.idle": "2021-06-04T09:52:17.242182Z",
     "shell.execute_reply": "2021-06-04T09:52:17.242592Z"
    },
    "papermill": {
     "duration": 7.416107,
     "end_time": "2021-06-04T09:52:17.242751",
     "exception": false,
     "start_time": "2021-06-04T09:52:09.826644",
     "status": "completed"
    },
    "tags": []
   },
   "outputs": [],
   "source": [
    "%%capture\n",
    "!pip install editdistance"
   ]
  },
  {
   "cell_type": "markdown",
   "id": "guilty-charger",
   "metadata": {
    "papermill": {
     "duration": 0.078299,
     "end_time": "2021-06-04T09:52:17.399904",
     "exception": false,
     "start_time": "2021-06-04T09:52:17.321605",
     "status": "completed"
    },
    "tags": []
   },
   "source": [
    "## GAN"
   ]
  },
  {
   "cell_type": "code",
   "execution_count": 15,
   "id": "english-learning",
   "metadata": {
    "execution": {
     "iopub.execute_input": "2021-06-04T09:52:17.559578Z",
     "iopub.status.busy": "2021-06-04T09:52:17.559064Z",
     "iopub.status.idle": "2021-06-04T09:52:17.898834Z",
     "shell.execute_reply": "2021-06-04T09:52:17.899242Z"
    },
    "papermill": {
     "duration": 0.421549,
     "end_time": "2021-06-04T09:52:17.899396",
     "exception": false,
     "start_time": "2021-06-04T09:52:17.477847",
     "status": "completed"
    },
    "tags": []
   },
   "outputs": [
    {
     "data": {
      "text/plain": [
       "'11.0'"
      ]
     },
     "execution_count": 15,
     "metadata": {},
     "output_type": "execute_result"
    }
   ],
   "source": [
    "import torch\n",
    "torch.version.cuda"
   ]
  },
  {
   "cell_type": "code",
   "execution_count": 16,
   "id": "dried-barbados",
   "metadata": {
    "execution": {
     "iopub.execute_input": "2021-06-04T09:52:18.062622Z",
     "iopub.status.busy": "2021-06-04T09:52:18.062030Z",
     "iopub.status.idle": "2021-06-04T09:52:18.065114Z",
     "shell.execute_reply": "2021-06-04T09:52:18.065515Z"
    },
    "papermill": {
     "duration": 0.087454,
     "end_time": "2021-06-04T09:52:18.065643",
     "exception": false,
     "start_time": "2021-06-04T09:52:17.978189",
     "status": "completed"
    },
    "tags": []
   },
   "outputs": [
    {
     "data": {
      "text/plain": [
       "8003"
      ]
     },
     "execution_count": 16,
     "metadata": {},
     "output_type": "execute_result"
    }
   ],
   "source": [
    "torch.backends.cudnn.version()"
   ]
  },
  {
   "cell_type": "code",
   "execution_count": 17,
   "id": "corporate-husband",
   "metadata": {
    "execution": {
     "iopub.execute_input": "2021-06-04T09:52:18.228185Z",
     "iopub.status.busy": "2021-06-04T09:52:18.227568Z",
     "iopub.status.idle": "2021-06-04T09:52:18.231046Z",
     "shell.execute_reply": "2021-06-04T09:52:18.230530Z"
    },
    "papermill": {
     "duration": 0.087194,
     "end_time": "2021-06-04T09:52:18.231154",
     "exception": false,
     "start_time": "2021-06-04T09:52:18.143960",
     "status": "completed"
    },
    "tags": []
   },
   "outputs": [
    {
     "name": "stdout",
     "output_type": "stream",
     "text": [
      "Writing rungan.sh\n"
     ]
    }
   ],
   "source": [
    "%%writefile rungan.sh\n",
    "PREFIX=w2v_unsup_gan_xp\n",
    "#TASK_DATA=/path/to/features/unfiltered/precompute_unfiltered_pca512_cls128_mean_pooled\n",
    "TASK_DATA=/kaggle/input/wav2vec-u-cv-swedish-audio/precompute_pca512_cls128_mean_pooled/\n",
    "#TEXT_DATA=/path/to/data  # path to fairseq-preprocessed GAN data\n",
    "TEXT_DATA=/kaggle/input/wav2vec-u-cv-swedish-text-prep/preppedtext/phones/\n",
    "#KENLM_PATH=/path/to/data/kenlm.phn.o4.bin  # KenLM 4-gram phoneme language model (LM data = GAN data here)\n",
    "KENLM_PATH=/kaggle/input/wav2vec-u-cv-swedish-text-prep/preppedtext/phones/lm.phones.filtered.04.bin\n",
    "\n",
    "PREFIX=$PREFIX CUDA_LAUNCH_BLOCKING=1 fairseq-hydra-train \\\n",
    "\t-m --config-dir fairseq/config/model/wav2vecu/gan \\\n",
    "\t--config-name w2vu \\\n",
    "\ttask.data=${TASK_DATA} \\\n",
    "\ttask.text_data=${TEXT_DATA} \\\n",
    "\ttask.kenlm_path=${KENLM_PATH} \\\n",
    "\tcheckpoint.no_epoch_checkpoints=false \\\n",
    "\tcheckpoint.keep_last_epochs=20 \\\n",
    "\tcheckpoint.save_dir=/kaggle/working \\\n",
    "\t'common.seed=range(0,5)'"
   ]
  },
  {
   "cell_type": "code",
   "execution_count": 18,
   "id": "individual-north",
   "metadata": {
    "execution": {
     "iopub.execute_input": "2021-06-04T09:52:18.402700Z",
     "iopub.status.busy": "2021-06-04T09:52:18.402090Z",
     "iopub.status.idle": "2021-06-04T09:52:44.232741Z",
     "shell.execute_reply": "2021-06-04T09:52:44.231888Z"
    },
    "papermill": {
     "duration": 25.914144,
     "end_time": "2021-06-04T09:52:44.232938",
     "exception": false,
     "start_time": "2021-06-04T09:52:18.318794",
     "status": "completed"
    },
    "tags": []
   },
   "outputs": [
    {
     "name": "stdout",
     "output_type": "stream",
     "text": [
      "[2021-06-04 09:52:31,378][HYDRA] Launching 5 jobs locally\r\n",
      "[2021-06-04 09:52:31,378][HYDRA] \t#0 : task.data=/kaggle/input/wav2vec-u-cv-swedish-audio/precompute_pca512_cls128_mean_pooled/ task.text_data=/kaggle/input/wav2vec-u-cv-swedish-text-prep/preppedtext/phones/ task.kenlm_path=/kaggle/input/wav2vec-u-cv-swedish-text-prep/preppedtext/phones/lm.phones.filtered.04.bin checkpoint.no_epoch_checkpoints=False checkpoint.keep_last_epochs=20 checkpoint.save_dir=/kaggle/working common.seed=0\r\n",
      "[2021-06-04 09:52:33,278][fairseq_cli.train][INFO] - {'_name': None, 'common': {'_name': None, 'no_progress_bar': False, 'log_interval': 100, 'log_format': 'json', 'log_file': None, 'tensorboard_logdir': 'tb', 'wandb_project': None, 'azureml_logging': False, 'seed': 0, 'cpu': False, 'tpu': False, 'bf16': False, 'memory_efficient_bf16': False, 'fp16': False, 'memory_efficient_fp16': False, 'fp16_no_flatten_grads': True, 'fp16_init_scale': 128, 'fp16_scale_window': None, 'fp16_scale_tolerance': 0.0, 'min_loss_scale': 0.0001, 'threshold_loss_scale': None, 'amp': False, 'amp_batch_retries': 2, 'amp_init_scale': 128, 'amp_scale_window': None, 'user_dir': None, 'empty_cache_freq': 0, 'all_gather_list_size': 16384, 'model_parallel_size': 1, 'quantization_config_path': None, 'profile': False, 'reset_logging': False, 'suppress_crashes': False, 'use_plasma_view': False, 'plasma_path': '/tmp/plasma'}, 'common_eval': {'_name': None, 'path': None, 'post_process': None, 'quiet': False, 'model_overrides': '{}', 'results_path': None}, 'distributed_training': {'_name': None, 'distributed_world_size': 1, 'distributed_rank': 0, 'distributed_backend': 'nccl', 'distributed_init_method': None, 'distributed_port': -1, 'device_id': 0, 'distributed_no_spawn': False, 'ddp_backend': 'pytorch_ddp', 'ddp_comm_hook': 'none', 'bucket_cap_mb': 25, 'fix_batches_to_gpus': False, 'find_unused_parameters': False, 'fast_stat_sync': False, 'heartbeat_timeout': -1, 'broadcast_buffers': False, 'slowmo_momentum': None, 'slowmo_algorithm': 'LocalSGD', 'localsgd_frequency': 3, 'nprocs_per_node': 1, 'pipeline_model_parallel': False, 'pipeline_balance': None, 'pipeline_devices': None, 'pipeline_chunks': 0, 'pipeline_encoder_balance': None, 'pipeline_encoder_devices': None, 'pipeline_decoder_balance': None, 'pipeline_decoder_devices': None, 'pipeline_checkpoint': 'never', 'zero_sharding': 'none', 'fp16': False, 'memory_efficient_fp16': False, 'tpu': False, 'no_reshard_after_forward': False, 'fp32_reduce_scatter': False, 'cpu_offload': False, 'use_sharded_state': False, 'distributed_num_procs': 1}, 'dataset': {'_name': None, 'num_workers': 6, 'skip_invalid_size_inputs_valid_test': True, 'max_tokens': None, 'batch_size': 160, 'required_batch_size_multiple': 8, 'required_seq_len_multiple': 1, 'dataset_impl': None, 'data_buffer_size': 10, 'train_subset': 'train', 'valid_subset': 'valid', 'combine_valid_subsets': None, 'ignore_unused_valid_subsets': False, 'validate_interval': 1, 'validate_interval_updates': 0, 'validate_after_updates': 0, 'fixed_validation_seed': None, 'disable_validation': False, 'max_tokens_valid': None, 'batch_size_valid': 160, 'max_valid_steps': None, 'curriculum': 0, 'gen_subset': 'test', 'num_shards': 1, 'shard_id': 0}, 'optimization': {'_name': None, 'max_epoch': 0, 'max_update': 150000, 'stop_time_hours': 0.0, 'clip_norm': 5.0, 'sentence_avg': False, 'update_freq': [1], 'lr': [0.0], 'stop_min_lr': -1.0, 'use_bmuf': False}, 'checkpoint': {'_name': None, 'save_dir': '/kaggle/working', 'restore_file': 'checkpoint_last.pt', 'finetune_from_model': None, 'reset_dataloader': False, 'reset_lr_scheduler': False, 'reset_meters': False, 'reset_optimizer': False, 'optimizer_overrides': '{}', 'save_interval': 1, 'save_interval_updates': 0, 'keep_interval_updates': -1, 'keep_interval_updates_pattern': -1, 'keep_last_epochs': 20, 'keep_best_checkpoints': -1, 'no_save': False, 'no_epoch_checkpoints': False, 'no_last_checkpoints': False, 'no_save_optimizer_state': False, 'best_checkpoint_metric': 'weighted_lm_ppl', 'maximize_best_checkpoint_metric': False, 'patience': -1, 'checkpoint_suffix': '', 'checkpoint_shard_count': 1, 'load_checkpoint_on_all_dp_ranks': False, 'write_checkpoints_asynchronously': False, 'model_parallel_size': 1}, 'bmuf': {'_name': None, 'block_lr': 1.0, 'block_momentum': 0.875, 'global_sync_iter': 50, 'warmup_iterations': 500, 'use_nbm': False, 'average_sync': False, 'distributed_world_size': 1}, 'generation': {'_name': None, 'beam': 5, 'nbest': 1, 'max_len_a': 0.0, 'max_len_b': 200, 'min_len': 1, 'match_source_len': False, 'unnormalized': False, 'no_early_stop': False, 'no_beamable_mm': False, 'lenpen': 1.0, 'unkpen': 0.0, 'replace_unk': None, 'sacrebleu': False, 'score_reference': False, 'prefix_size': 0, 'no_repeat_ngram_size': 0, 'sampling': False, 'sampling_topk': -1, 'sampling_topp': -1.0, 'constraints': None, 'temperature': 1.0, 'diverse_beam_groups': -1, 'diverse_beam_strength': 0.5, 'diversity_rate': -1.0, 'print_alignment': None, 'print_step': False, 'lm_path': None, 'lm_weight': 0.0, 'iter_decode_eos_penalty': 0.0, 'iter_decode_max_iter': 10, 'iter_decode_force_max_iter': False, 'iter_decode_with_beam': 1, 'iter_decode_with_external_reranker': False, 'retain_iter_history': False, 'retain_dropout': False, 'retain_dropout_modules': None, 'decoding_format': None, 'no_seed_provided': False}, 'eval_lm': {'_name': None, 'output_word_probs': False, 'output_word_stats': False, 'context_window': 0, 'softmax_batch': 9223372036854775807}, 'interactive': {'_name': None, 'buffer_size': 0, 'input': '-'}, 'model': {'_name': 'wav2vec_u', 'discriminator_kernel': 6, 'discriminator_dilation': 1, 'discriminator_dim': 384, 'discriminator_causal': True, 'discriminator_linear_emb': False, 'discriminator_depth': 2, 'discriminator_max_pool': False, 'discriminator_act_after_linear': False, 'discriminator_dropout': 0.0, 'discriminator_spectral_norm': False, 'discriminator_weight_norm': False, 'generator_kernel': 4, 'generator_dilation': 1, 'generator_stride': 1, 'generator_bias': False, 'generator_dropout': 0.1, 'blank_weight': 0.0, 'blank_mode': 'add', 'blank_is_sil': False, 'no_softmax': False, 'smoothness_weight': 0.5, 'smoothing': 0.0, 'smoothing_one_sided': False, 'gradient_penalty': 1.5, 'probabilistic_grad_penalty_slicing': False, 'code_penalty': 4.0, 'gumbel': False, 'hard_gumbel': False, 'temp': [2.0, 0.1, 0.99995], 'input_dim': 512, 'wgan_loss': False, 'segmentation': {'_name': None, 'type': 'JOIN', 'subsample_rate': 0.25, 'mean_pool': True, 'mean_pool_join': False, 'remove_zeros': False}}, 'task': {'_name': 'gan_audio_pretraining_feats', 'data': '/kaggle/input/wav2vec-u-cv-swedish-audio/precompute_pca512_cls128_mean_pooled/', 'text_data': '/kaggle/input/wav2vec-u-cv-swedish-text-prep/preppedtext/phones/', 'max_length': None, 'labels': 'phn', 'unfiltered': False, 'ctc_eval': False, 'sort_by_length': False, 'shuffle': True, 'append_eos': False, 'uppercase': False, 'skipwords': '', 'kenlm_path': '/kaggle/input/wav2vec-u-cv-swedish-text-prep/preppedtext/phones/lm.phones.filtered.04.bin', 'vocab_usage_power': 2.0, 'word_decoder_config': None, 'word_kenlm_path': None, 'decoding_config': {'_name': None, 'kenlm_path': None, 'lm_weight': 0.0, 'blank_weight': 0.0}}, 'criterion': {'_name': 'model', 'loss_weights': {}, 'log_keys': ['accuracy_dense', 'accuracy_token', 'temp', 'code_ppl']}, 'optimizer': {'_name': 'composite', 'groups': {'generator': {'lr': [0.0004], 'lr_float': None, 'optimizer': {'_name': 'adam', 'adam_betas': [0.5, 0.98], 'adam_eps': 1e-06, 'weight_decay': 0, 'amsgrad': False}, 'lr_scheduler': {'_name': 'fixed', 'warmup_updates': 0}}, 'discriminator': {'lr': [0.0005], 'lr_float': None, 'optimizer': {'_name': 'adam', 'adam_betas': [0.5, 0.98], 'adam_eps': 1e-06, 'weight_decay': 0.0001, 'amsgrad': False}, 'lr_scheduler': {'_name': 'fixed', 'warmup_updates': 0}}}}, 'lr_scheduler': {'_name': 'pass_through'}, 'scoring': None, 'bpe': None, 'tokenizer': None, 'job_logging_cfg': {'version': 1, 'formatters': {'simple': {'format': '[%(asctime)s][%(name)s][%(levelname)s] - %(message)s'}}, 'handlers': {'console': {'class': 'logging.StreamHandler', 'formatter': 'simple', 'stream': 'ext://sys.stdout'}, 'file': {'class': 'logging.FileHandler', 'formatter': 'simple', 'filename': 'hydra_train.log'}}, 'root': {'level': 'INFO', 'handlers': ['console', 'file']}, 'disable_existing_loggers': False}}\r\n",
      "[2021-06-04 09:52:33,398][fairseq_cli.train][INFO] - Wav2vec_U(\r\n",
      "  (discriminator): Discriminator(\r\n",
      "    (net): Sequential(\r\n",
      "      (0): Conv1d(45, 384, kernel_size=(6,), stride=(1,), padding=(5,))\r\n",
      "      (1): SamePad()\r\n",
      "      (2): Dropout(p=0.0, inplace=False)\r\n",
      "      (3): Sequential(\r\n",
      "        (0): Conv1d(384, 384, kernel_size=(6,), stride=(1,), padding=(5,))\r\n",
      "        (1): SamePad()\r\n",
      "        (2): Dropout(p=0.0, inplace=False)\r\n",
      "        (3): GELU()\r\n",
      "      )\r\n",
      "      (4): Conv1d(384, 1, kernel_size=(6,), stride=(1,), padding=(5,))\r\n",
      "      (5): SamePad()\r\n",
      "    )\r\n",
      "  )\r\n",
      "  (segmenter): JoinSegmenter()\r\n",
      "  (generator): Generator(\r\n",
      "    (dropout): Dropout(p=0.1, inplace=False)\r\n",
      "    (proj): Sequential(\r\n",
      "      (0): TransposeLast()\r\n",
      "      (1): Conv1d(512, 45, kernel_size=(4,), stride=(1,), padding=(2,), bias=False)\r\n",
      "      (2): TransposeLast()\r\n",
      "    )\r\n",
      "  )\r\n",
      ")\r\n",
      "[2021-06-04 09:52:33,399][fairseq_cli.train][INFO] - task: UnpairedAudioText\r\n",
      "[2021-06-04 09:52:33,399][fairseq_cli.train][INFO] - model: Wav2vec_U\r\n",
      "[2021-06-04 09:52:33,399][fairseq_cli.train][INFO] - criterion: ModelCriterion\r\n",
      "[2021-06-04 09:52:33,399][fairseq_cli.train][INFO] - num. shared model params: 1,083,649 (num. trained: 1,083,649)\r\n",
      "[2021-06-04 09:52:33,400][fairseq_cli.train][INFO] - num. expert model params: 0 (num. trained: 0)\r\n",
      "[2021-06-04 09:52:33,507][fairseq.data.extracted_features_dataset][INFO] - loaded 2019, skipped 0 samples\r\n",
      "[2021-06-04 09:52:33,507][fairseq.tasks.unpaired_audio_text][INFO] - split valid has unpaired text? False\r\n",
      "[2021-06-04 09:52:38,979][fairseq.utils][INFO] - ***********************CUDA enviroments for all 1 workers***********************\r\n",
      "[2021-06-04 09:52:38,979][fairseq.utils][INFO] - rank   0: capabilities =  6.0  ; total memory = 15.899 GB ; name = Tesla P100-PCIE-16GB                    \r\n",
      "[2021-06-04 09:52:38,979][fairseq.utils][INFO] - ***********************CUDA enviroments for all 1 workers***********************\r\n",
      "[2021-06-04 09:52:38,980][fairseq_cli.train][INFO] - training on 1 devices (GPUs/TPUs)\r\n",
      "[2021-06-04 09:52:38,980][fairseq_cli.train][INFO] - max tokens per device = None and max sentences per device = 160\r\n",
      "[2021-06-04 09:52:38,983][fairseq.trainer][INFO] - Preparing to load checkpoint /kaggle/working/checkpoint_last.pt\r\n",
      "[2021-06-04 09:52:38,983][fairseq.trainer][INFO] - No existing checkpoint found /kaggle/working/checkpoint_last.pt\r\n",
      "[2021-06-04 09:52:38,983][fairseq.trainer][INFO] - loading train data for epoch 1\r\n",
      "[2021-06-04 09:52:39,058][fairseq.data.extracted_features_dataset][INFO] - loaded 2331, skipped 0 samples\r\n",
      "[2021-06-04 09:52:39,058][fairseq.tasks.unpaired_audio_text][INFO] - split train has unpaired text? True\r\n",
      "[2021-06-04 09:52:39,079][fairseq.data.data_utils][INFO] - loaded 2,328 examples from: /kaggle/input/wav2vec-u-cv-swedish-text-prep/preppedtext/phones/train\r\n",
      "[2021-06-04 09:52:40,415][fairseq.trainer][INFO] - begin training epoch 1\r\n",
      "[2021-06-04 09:52:40,416][fairseq_cli.train][INFO] - Start iterating over samples\r\n",
      "Traceback (most recent call last):\r\n",
      "  File \"/opt/conda/bin/fairseq-hydra-train\", line 33, in <module>\r\n",
      "    sys.exit(load_entry_point('fairseq==1.0.0a0+6179d53', 'console_scripts', 'fairseq-hydra-train')())\r\n",
      "  File \"/opt/conda/lib/python3.7/site-packages/fairseq-1.0.0a0+6179d53-py3.7-linux-x86_64.egg/fairseq_cli/hydra_train.py\", line 76, in cli_main\r\n",
      "    hydra_main()\r\n",
      "  File \"/opt/conda/lib/python3.7/site-packages/hydra_core-1.0.6-py3.7.egg/hydra/main.py\", line 37, in decorated_main\r\n",
      "    strict=strict,\r\n",
      "  File \"/opt/conda/lib/python3.7/site-packages/hydra_core-1.0.6-py3.7.egg/hydra/_internal/utils.py\", line 355, in _run_hydra\r\n",
      "    lambda: hydra.multirun(\r\n",
      "  File \"/opt/conda/lib/python3.7/site-packages/hydra_core-1.0.6-py3.7.egg/hydra/_internal/utils.py\", line 201, in run_and_report\r\n",
      "    raise ex\r\n",
      "  File \"/opt/conda/lib/python3.7/site-packages/hydra_core-1.0.6-py3.7.egg/hydra/_internal/utils.py\", line 198, in run_and_report\r\n",
      "    return func()\r\n",
      "  File \"/opt/conda/lib/python3.7/site-packages/hydra_core-1.0.6-py3.7.egg/hydra/_internal/utils.py\", line 358, in <lambda>\r\n",
      "    overrides=args.overrides,\r\n",
      "  File \"/opt/conda/lib/python3.7/site-packages/hydra_core-1.0.6-py3.7.egg/hydra/_internal/hydra.py\", line 136, in multirun\r\n",
      "    return sweeper.sweep(arguments=task_overrides)\r\n",
      "  File \"/opt/conda/lib/python3.7/site-packages/hydra_core-1.0.6-py3.7.egg/hydra/_internal/core_plugins/basic_sweeper.py\", line 154, in sweep\r\n",
      "    results = self.launcher.launch(batch, initial_job_idx=initial_job_idx)\r\n",
      "  File \"/opt/conda/lib/python3.7/site-packages/hydra_core-1.0.6-py3.7.egg/hydra/_internal/core_plugins/basic_launcher.py\", line 80, in launch\r\n",
      "    job_subdir_key=\"hydra.sweep.subdir\",\r\n",
      "  File \"/opt/conda/lib/python3.7/site-packages/hydra_core-1.0.6-py3.7.egg/hydra/core/utils.py\", line 127, in run_job\r\n",
      "    ret.return_value = task_function(task_cfg)\r\n",
      "  File \"/opt/conda/lib/python3.7/site-packages/fairseq-1.0.0a0+6179d53-py3.7-linux-x86_64.egg/fairseq_cli/hydra_train.py\", line 45, in hydra_main\r\n",
      "    distributed_utils.call_main(cfg, pre_main)\r\n",
      "  File \"/opt/conda/lib/python3.7/site-packages/fairseq-1.0.0a0+6179d53-py3.7-linux-x86_64.egg/fairseq/distributed/utils.py\", line 369, in call_main\r\n",
      "    main(cfg, **kwargs)\r\n",
      "  File \"/opt/conda/lib/python3.7/site-packages/fairseq-1.0.0a0+6179d53-py3.7-linux-x86_64.egg/fairseq_cli/train.py\", line 178, in main\r\n",
      "    valid_losses, should_stop = train(cfg, trainer, task, epoch_itr)\r\n",
      "  File \"/opt/conda/lib/python3.7/contextlib.py\", line 74, in inner\r\n",
      "    return func(*args, **kwds)\r\n",
      "  File \"/opt/conda/lib/python3.7/site-packages/fairseq-1.0.0a0+6179d53-py3.7-linux-x86_64.egg/fairseq_cli/train.py\", line 289, in train\r\n",
      "    log_output = trainer.train_step(samples)\r\n",
      "  File \"/opt/conda/lib/python3.7/contextlib.py\", line 74, in inner\r\n",
      "    return func(*args, **kwds)\r\n",
      "  File \"/opt/conda/lib/python3.7/site-packages/fairseq-1.0.0a0+6179d53-py3.7-linux-x86_64.egg/fairseq/trainer.py\", line 736, in train_step\r\n",
      "    raise e\r\n",
      "  File \"/opt/conda/lib/python3.7/site-packages/fairseq-1.0.0a0+6179d53-py3.7-linux-x86_64.egg/fairseq/trainer.py\", line 710, in train_step\r\n",
      "    ignore_grad=is_dummy_batch,\r\n",
      "  File \"/opt/conda/lib/python3.7/site-packages/fairseq-1.0.0a0+6179d53-py3.7-linux-x86_64.egg/fairseq/tasks/fairseq_task.py\", line 506, in train_step\r\n",
      "    optimizer.backward(loss)\r\n",
      "  File \"/opt/conda/lib/python3.7/site-packages/fairseq-1.0.0a0+6179d53-py3.7-linux-x86_64.egg/fairseq/optim/fairseq_optimizer.py\", line 95, in backward\r\n",
      "    loss.backward()\r\n",
      "  File \"/opt/conda/lib/python3.7/site-packages/torch/tensor.py\", line 221, in backward\r\n",
      "    torch.autograd.backward(self, gradient, retain_graph, create_graph)\r\n",
      "  File \"/opt/conda/lib/python3.7/site-packages/torch/autograd/__init__.py\", line 132, in backward\r\n",
      "    allow_unreachable=True)  # allow_unreachable flag\r\n",
      "RuntimeError: CUDA error: an illegal memory access was encountered\r\n"
     ]
    }
   ],
   "source": [
    "!bash rungan.sh"
   ]
  }
 ],
 "metadata": {
  "kernelspec": {
   "display_name": "Python 3",
   "language": "python",
   "name": "python3"
  },
  "language_info": {
   "codemirror_mode": {
    "name": "ipython",
    "version": 3
   },
   "file_extension": ".py",
   "mimetype": "text/x-python",
   "name": "python",
   "nbconvert_exporter": "python",
   "pygments_lexer": "ipython3",
   "version": "3.7.10"
  },
  "papermill": {
   "default_parameters": {},
   "duration": 852.955575,
   "end_time": "2021-06-04T09:52:45.773428",
   "environment_variables": {},
   "exception": null,
   "input_path": "__notebook__.ipynb",
   "output_path": "__notebook__.ipynb",
   "parameters": {},
   "start_time": "2021-06-04T09:38:32.817853",
   "version": "2.3.3"
  }
 },
 "nbformat": 4,
 "nbformat_minor": 5
}
