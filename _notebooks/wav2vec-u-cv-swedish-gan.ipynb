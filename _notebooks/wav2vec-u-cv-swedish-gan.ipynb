{
 "cells": [
  {
   "cell_type": "markdown",
   "id": "marked-marketing",
   "metadata": {
    "papermill": {
     "duration": 0.012793,
     "end_time": "2021-06-03T15:00:19.261816",
     "exception": false,
     "start_time": "2021-06-03T15:00:19.249023",
     "status": "completed"
    },
    "tags": []
   },
   "source": [
    "## Preparation"
   ]
  },
  {
   "cell_type": "code",
   "execution_count": 1,
   "id": "suffering-consolidation",
   "metadata": {
    "_cell_guid": "b1076dfc-b9ad-4769-8c92-a6c4dae69d19",
    "_uuid": "8f2839f25d086af736a60e9eeb907d3b93b6e0e5",
    "execution": {
     "iopub.execute_input": "2021-06-03T15:00:19.296776Z",
     "iopub.status.busy": "2021-06-03T15:00:19.296221Z",
     "iopub.status.idle": "2021-06-03T15:05:18.000617Z",
     "shell.execute_reply": "2021-06-03T15:05:18.000025Z",
     "shell.execute_reply.started": "2021-05-31T11:43:46.770364Z"
    },
    "papermill": {
     "duration": 298.727015,
     "end_time": "2021-06-03T15:05:18.000777",
     "exception": false,
     "start_time": "2021-06-03T15:00:19.273762",
     "status": "completed"
    },
    "tags": []
   },
   "outputs": [],
   "source": [
    "%%capture\n",
    "!conda install -c pykaldi pykaldi -y"
   ]
  },
  {
   "cell_type": "code",
   "execution_count": 2,
   "id": "australian-preliminary",
   "metadata": {
    "execution": {
     "iopub.execute_input": "2021-06-03T15:05:18.030558Z",
     "iopub.status.busy": "2021-06-03T15:05:18.029854Z",
     "iopub.status.idle": "2021-06-03T15:05:18.033600Z",
     "shell.execute_reply": "2021-06-03T15:05:18.033995Z",
     "shell.execute_reply.started": "2021-05-31T13:58:07.987793Z"
    },
    "papermill": {
     "duration": 0.021454,
     "end_time": "2021-06-03T15:05:18.034109",
     "exception": false,
     "start_time": "2021-06-03T15:05:18.012655",
     "status": "completed"
    },
    "tags": []
   },
   "outputs": [
    {
     "name": "stdout",
     "output_type": "stream",
     "text": [
      "/tmp\n"
     ]
    }
   ],
   "source": [
    "%cd /tmp"
   ]
  },
  {
   "cell_type": "code",
   "execution_count": 3,
   "id": "second-gibraltar",
   "metadata": {
    "execution": {
     "iopub.execute_input": "2021-06-03T15:05:18.064959Z",
     "iopub.status.busy": "2021-06-03T15:05:18.060744Z",
     "iopub.status.idle": "2021-06-03T15:05:23.816183Z",
     "shell.execute_reply": "2021-06-03T15:05:23.815665Z",
     "shell.execute_reply.started": "2021-05-31T11:47:48.174342Z"
    },
    "papermill": {
     "duration": 5.770398,
     "end_time": "2021-06-03T15:05:23.816304",
     "exception": false,
     "start_time": "2021-06-03T15:05:18.045906",
     "status": "completed"
    },
    "tags": []
   },
   "outputs": [
    {
     "name": "stdout",
     "output_type": "stream",
     "text": [
      "Cloning into 'fairseq'...\r\n",
      "remote: Enumerating objects: 28296, done.\u001b[K\r\n",
      "remote: Total 28296 (delta 0), reused 0 (delta 0), pack-reused 28296\u001b[K\r\n",
      "Receiving objects: 100% (28296/28296), 11.77 MiB | 6.57 MiB/s, done.\r\n",
      "Resolving deltas: 100% (21291/21291), done.\r\n"
     ]
    }
   ],
   "source": [
    "!git clone https://github.com/jimregan/fairseq/ --branch issue3581"
   ]
  },
  {
   "cell_type": "code",
   "execution_count": 4,
   "id": "massive-summer",
   "metadata": {
    "execution": {
     "iopub.execute_input": "2021-06-03T15:05:23.859767Z",
     "iopub.status.busy": "2021-06-03T15:05:23.859053Z",
     "iopub.status.idle": "2021-06-03T15:05:27.498391Z",
     "shell.execute_reply": "2021-06-03T15:05:27.497935Z",
     "shell.execute_reply.started": "2021-05-31T13:58:08.002832Z"
    },
    "papermill": {
     "duration": 3.662251,
     "end_time": "2021-06-03T15:05:27.498505",
     "exception": false,
     "start_time": "2021-06-03T15:05:23.836254",
     "status": "completed"
    },
    "tags": []
   },
   "outputs": [
    {
     "name": "stdout",
     "output_type": "stream",
     "text": [
      "Cloning into 'kenlm'...\r\n",
      "remote: Enumerating objects: 13824, done.\u001b[K\r\n",
      "remote: Counting objects: 100% (137/137), done.\u001b[K\r\n",
      "remote: Compressing objects: 100% (79/79), done.\u001b[K\r\n",
      "remote: Total 13824 (delta 76), reused 92 (delta 45), pack-reused 13687\u001b[K\r\n",
      "Receiving objects: 100% (13824/13824), 5.49 MiB | 4.19 MiB/s, done.\r\n",
      "Resolving deltas: 100% (7956/7956), done.\r\n"
     ]
    }
   ],
   "source": [
    "!git clone https://github.com/kpu/kenlm"
   ]
  },
  {
   "cell_type": "code",
   "execution_count": 5,
   "id": "hollywood-conjunction",
   "metadata": {
    "execution": {
     "iopub.execute_input": "2021-06-03T15:05:27.555634Z",
     "iopub.status.busy": "2021-06-03T15:05:27.554755Z",
     "iopub.status.idle": "2021-06-03T15:05:33.636225Z",
     "shell.execute_reply": "2021-06-03T15:05:33.635768Z",
     "shell.execute_reply.started": "2021-05-31T13:58:12.001162Z"
    },
    "papermill": {
     "duration": 6.114051,
     "end_time": "2021-06-03T15:05:33.636347",
     "exception": false,
     "start_time": "2021-06-03T15:05:27.522296",
     "status": "completed"
    },
    "tags": []
   },
   "outputs": [],
   "source": [
    "%%capture\n",
    "!apt-get -y install libeigen3-dev liblzma-dev zlib1g-dev libbz2-dev"
   ]
  },
  {
   "cell_type": "code",
   "execution_count": 6,
   "id": "formal-attempt",
   "metadata": {
    "execution": {
     "iopub.execute_input": "2021-06-03T15:05:33.690484Z",
     "iopub.status.busy": "2021-06-03T15:05:33.689797Z",
     "iopub.status.idle": "2021-06-03T15:07:26.891169Z",
     "shell.execute_reply": "2021-06-03T15:07:26.890561Z"
    },
    "papermill": {
     "duration": 113.231667,
     "end_time": "2021-06-03T15:07:26.891305",
     "exception": false,
     "start_time": "2021-06-03T15:05:33.659638",
     "status": "completed"
    },
    "tags": []
   },
   "outputs": [],
   "source": [
    "\n",
    "%%capture\n",
    "%cd kenlm\n",
    "!mkdir build\n",
    "%cd build\n",
    "!cmake ..\n",
    "!make -j 4\n",
    "%cd /tmp"
   ]
  },
  {
   "cell_type": "code",
   "execution_count": 7,
   "id": "united-disclosure",
   "metadata": {
    "execution": {
     "iopub.execute_input": "2021-06-03T15:07:26.948428Z",
     "iopub.status.busy": "2021-06-03T15:07:26.947667Z",
     "iopub.status.idle": "2021-06-03T15:08:00.378127Z",
     "shell.execute_reply": "2021-06-03T15:08:00.377164Z",
     "shell.execute_reply.started": "2021-05-31T14:00:27.915818Z"
    },
    "papermill": {
     "duration": 33.461378,
     "end_time": "2021-06-03T15:08:00.378274",
     "exception": false,
     "start_time": "2021-06-03T15:07:26.916896",
     "status": "completed"
    },
    "tags": []
   },
   "outputs": [],
   "source": [
    "%%capture\n",
    "%cd /tmp/kenlm\n",
    "!python setup.py install\n",
    "%cd /tmp"
   ]
  },
  {
   "cell_type": "code",
   "execution_count": 8,
   "id": "collectible-concentrate",
   "metadata": {
    "execution": {
     "iopub.execute_input": "2021-06-03T15:08:00.429959Z",
     "iopub.status.busy": "2021-06-03T15:08:00.429204Z",
     "iopub.status.idle": "2021-06-03T15:08:00.431919Z",
     "shell.execute_reply": "2021-06-03T15:08:00.431500Z",
     "shell.execute_reply.started": "2021-05-25T22:58:58.397816Z"
    },
    "papermill": {
     "duration": 0.029821,
     "end_time": "2021-06-03T15:08:00.432023",
     "exception": false,
     "start_time": "2021-06-03T15:08:00.402202",
     "status": "completed"
    },
    "tags": []
   },
   "outputs": [],
   "source": [
    "import os\n",
    "os.environ['PATH'] = f\"{os.environ['PATH']}:/tmp/kenlm/build/bin/\"\n",
    "os.environ['FAIRSEQ_ROOT'] = '/tmp/fairseq'"
   ]
  },
  {
   "cell_type": "code",
   "execution_count": 9,
   "id": "handed-liberty",
   "metadata": {
    "execution": {
     "iopub.execute_input": "2021-06-03T15:08:00.483450Z",
     "iopub.status.busy": "2021-06-03T15:08:00.482631Z",
     "iopub.status.idle": "2021-06-03T15:08:00.486645Z",
     "shell.execute_reply": "2021-06-03T15:08:00.486207Z",
     "shell.execute_reply.started": "2021-05-31T11:51:49.832574Z"
    },
    "papermill": {
     "duration": 0.031509,
     "end_time": "2021-06-03T15:08:00.486764",
     "exception": false,
     "start_time": "2021-06-03T15:08:00.455255",
     "status": "completed"
    },
    "tags": []
   },
   "outputs": [
    {
     "name": "stdout",
     "output_type": "stream",
     "text": [
      "/tmp/fairseq\n"
     ]
    }
   ],
   "source": [
    "%cd /tmp/fairseq/"
   ]
  },
  {
   "cell_type": "code",
   "execution_count": 10,
   "id": "virtual-dakota",
   "metadata": {
    "execution": {
     "iopub.execute_input": "2021-06-03T15:08:00.542544Z",
     "iopub.status.busy": "2021-06-03T15:08:00.538055Z",
     "iopub.status.idle": "2021-06-03T15:09:07.690349Z",
     "shell.execute_reply": "2021-06-03T15:09:07.689903Z"
    },
    "papermill": {
     "duration": 67.180011,
     "end_time": "2021-06-03T15:09:07.690486",
     "exception": false,
     "start_time": "2021-06-03T15:08:00.510475",
     "status": "completed"
    },
    "tags": []
   },
   "outputs": [],
   "source": [
    "%%capture\n",
    "!python setup.py install"
   ]
  },
  {
   "cell_type": "code",
   "execution_count": 11,
   "id": "sized-parent",
   "metadata": {
    "execution": {
     "iopub.execute_input": "2021-06-03T15:09:07.745653Z",
     "iopub.status.busy": "2021-06-03T15:09:07.745089Z",
     "iopub.status.idle": "2021-06-03T15:09:07.750043Z",
     "shell.execute_reply": "2021-06-03T15:09:07.749624Z"
    },
    "papermill": {
     "duration": 0.034396,
     "end_time": "2021-06-03T15:09:07.750152",
     "exception": false,
     "start_time": "2021-06-03T15:09:07.715756",
     "status": "completed"
    },
    "tags": []
   },
   "outputs": [
    {
     "name": "stdout",
     "output_type": "stream",
     "text": [
      "/tmp/fairseq\n"
     ]
    }
   ],
   "source": [
    "%cd /tmp/fairseq/"
   ]
  },
  {
   "cell_type": "code",
   "execution_count": 12,
   "id": "cognitive-approach",
   "metadata": {
    "execution": {
     "iopub.execute_input": "2021-06-03T15:09:07.803844Z",
     "iopub.status.busy": "2021-06-03T15:09:07.803016Z",
     "iopub.status.idle": "2021-06-03T15:09:07.805537Z",
     "shell.execute_reply": "2021-06-03T15:09:07.805049Z"
    },
    "papermill": {
     "duration": 0.031267,
     "end_time": "2021-06-03T15:09:07.805652",
     "exception": false,
     "start_time": "2021-06-03T15:09:07.774385",
     "status": "completed"
    },
    "tags": []
   },
   "outputs": [],
   "source": [
    "os.environ['HYDRA_FULL_ERROR'] = '1'"
   ]
  },
  {
   "cell_type": "code",
   "execution_count": 13,
   "id": "stupid-patent",
   "metadata": {
    "execution": {
     "iopub.execute_input": "2021-06-03T15:09:07.863076Z",
     "iopub.status.busy": "2021-06-03T15:09:07.858936Z",
     "iopub.status.idle": "2021-06-03T15:09:16.786719Z",
     "shell.execute_reply": "2021-06-03T15:09:16.785451Z"
    },
    "papermill": {
     "duration": 8.956617,
     "end_time": "2021-06-03T15:09:16.786874",
     "exception": false,
     "start_time": "2021-06-03T15:09:07.830257",
     "status": "completed"
    },
    "tags": []
   },
   "outputs": [],
   "source": [
    "%%capture\n",
    "!pip install editdistance"
   ]
  },
  {
   "cell_type": "markdown",
   "id": "sublime-temperature",
   "metadata": {
    "papermill": {
     "duration": 0.025077,
     "end_time": "2021-06-03T15:09:16.837373",
     "exception": false,
     "start_time": "2021-06-03T15:09:16.812296",
     "status": "completed"
    },
    "tags": []
   },
   "source": [
    "## GAN"
   ]
  },
  {
   "cell_type": "code",
   "execution_count": 14,
   "id": "functioning-thanksgiving",
   "metadata": {
    "execution": {
     "iopub.execute_input": "2021-06-03T15:09:16.891727Z",
     "iopub.status.busy": "2021-06-03T15:09:16.890928Z",
     "iopub.status.idle": "2021-06-03T15:09:17.214844Z",
     "shell.execute_reply": "2021-06-03T15:09:17.215239Z"
    },
    "papermill": {
     "duration": 0.353411,
     "end_time": "2021-06-03T15:09:17.215380",
     "exception": false,
     "start_time": "2021-06-03T15:09:16.861969",
     "status": "completed"
    },
    "tags": []
   },
   "outputs": [
    {
     "data": {
      "text/plain": [
       "'11.0'"
      ]
     },
     "execution_count": 14,
     "metadata": {},
     "output_type": "execute_result"
    }
   ],
   "source": [
    "import torch\n",
    "torch.version.cuda"
   ]
  },
  {
   "cell_type": "code",
   "execution_count": 15,
   "id": "eleven-italic",
   "metadata": {
    "execution": {
     "iopub.execute_input": "2021-06-03T15:09:17.270160Z",
     "iopub.status.busy": "2021-06-03T15:09:17.269524Z",
     "iopub.status.idle": "2021-06-03T15:09:17.272640Z",
     "shell.execute_reply": "2021-06-03T15:09:17.273026Z"
    },
    "papermill": {
     "duration": 0.032782,
     "end_time": "2021-06-03T15:09:17.273144",
     "exception": false,
     "start_time": "2021-06-03T15:09:17.240362",
     "status": "completed"
    },
    "tags": []
   },
   "outputs": [
    {
     "data": {
      "text/plain": [
       "8003"
      ]
     },
     "execution_count": 15,
     "metadata": {},
     "output_type": "execute_result"
    }
   ],
   "source": [
    "torch.backends.cudnn.version()"
   ]
  },
  {
   "cell_type": "code",
   "execution_count": 16,
   "id": "banned-transformation",
   "metadata": {
    "execution": {
     "iopub.execute_input": "2021-06-03T15:09:17.328015Z",
     "iopub.status.busy": "2021-06-03T15:09:17.327248Z",
     "iopub.status.idle": "2021-06-03T15:09:17.330885Z",
     "shell.execute_reply": "2021-06-03T15:09:17.331491Z"
    },
    "papermill": {
     "duration": 0.033443,
     "end_time": "2021-06-03T15:09:17.331669",
     "exception": false,
     "start_time": "2021-06-03T15:09:17.298226",
     "status": "completed"
    },
    "tags": []
   },
   "outputs": [
    {
     "name": "stdout",
     "output_type": "stream",
     "text": [
      "Writing rungan.sh\n"
     ]
    }
   ],
   "source": [
    "%%writefile rungan.sh\n",
    "PREFIX=w2v_unsup_gan_xp\n",
    "#TASK_DATA=/path/to/features/unfiltered/precompute_unfiltered_pca512_cls128_mean_pooled\n",
    "TASK_DATA=/kaggle/input/wav2vec-u-cv-swedish-audio/precompute_pca512_cls128_mean_pooled/\n",
    "#TEXT_DATA=/path/to/data  # path to fairseq-preprocessed GAN data\n",
    "TEXT_DATA=/kaggle/input/wav2vec-u-cv-swedish-text-prep/preppedtext/phones/\n",
    "#KENLM_PATH=/path/to/data/kenlm.phn.o4.bin  # KenLM 4-gram phoneme language model (LM data = GAN data here)\n",
    "KENLM_PATH=/kaggle/input/wav2vec-u-cv-swedish-text-prep/preppedtext/phones/lm.phones.filtered.04.bin\n",
    "\n",
    "PREFIX=$PREFIX CUDA_LAUNCH_BLOCKING=1 fairseq-hydra-train \\\n",
    "\t-m --config-dir fairseq/config/model/wav2vecu/gan \\\n",
    "\t--config-name w2vu \\\n",
    "\ttask.data=${TASK_DATA} \\\n",
    "\ttask.text_data=${TEXT_DATA} \\\n",
    "\ttask.kenlm_path=${KENLM_PATH} \\\n",
    "\tcheckpoint.no_epoch_checkpoints=false \\\n",
    "\tcheckpoint.keep_last_epochs=20 \\\n",
    "\tcheckpoint.save_dir=/kaggle/working \\\n",
    "\tdataset.num_workers=1 \\\n",
    "\t'common.seed=range(0,5)'"
   ]
  },
  {
   "cell_type": "code",
   "execution_count": 17,
   "id": "sharp-commission",
   "metadata": {
    "execution": {
     "iopub.execute_input": "2021-06-03T15:09:17.387012Z",
     "iopub.status.busy": "2021-06-03T15:09:17.386356Z",
     "iopub.status.idle": "2021-06-03T15:09:41.317141Z",
     "shell.execute_reply": "2021-06-03T15:09:41.316575Z"
    },
    "papermill": {
     "duration": 23.959416,
     "end_time": "2021-06-03T15:09:41.317267",
     "exception": false,
     "start_time": "2021-06-03T15:09:17.357851",
     "status": "completed"
    },
    "tags": []
   },
   "outputs": [
    {
     "name": "stdout",
     "output_type": "stream",
     "text": [
      "[2021-06-03 15:09:30,403][HYDRA] Launching 5 jobs locally\r\n",
      "[2021-06-03 15:09:30,404][HYDRA] \t#0 : task.data=/kaggle/input/wav2vec-u-cv-swedish-audio/precompute_pca512_cls128_mean_pooled/ task.text_data=/kaggle/input/wav2vec-u-cv-swedish-text-prep/preppedtext/phones/ task.kenlm_path=/kaggle/input/wav2vec-u-cv-swedish-text-prep/preppedtext/phones/lm.phones.filtered.04.bin checkpoint.no_epoch_checkpoints=False checkpoint.keep_last_epochs=20 checkpoint.save_dir=/kaggle/working dataset.num_workers=1 common.seed=0\r\n",
      "[2021-06-03 15:09:32,262][fairseq_cli.train][INFO] - {'_name': None, 'common': {'_name': None, 'no_progress_bar': False, 'log_interval': 100, 'log_format': 'json', 'log_file': None, 'tensorboard_logdir': 'tb', 'wandb_project': None, 'azureml_logging': False, 'seed': 0, 'cpu': False, 'tpu': False, 'bf16': False, 'memory_efficient_bf16': False, 'fp16': False, 'memory_efficient_fp16': False, 'fp16_no_flatten_grads': True, 'fp16_init_scale': 128, 'fp16_scale_window': None, 'fp16_scale_tolerance': 0.0, 'min_loss_scale': 0.0001, 'threshold_loss_scale': None, 'amp': False, 'amp_batch_retries': 2, 'amp_init_scale': 128, 'amp_scale_window': None, 'user_dir': None, 'empty_cache_freq': 0, 'all_gather_list_size': 16384, 'model_parallel_size': 1, 'quantization_config_path': None, 'profile': False, 'reset_logging': False, 'suppress_crashes': False, 'use_plasma_view': False, 'plasma_path': '/tmp/plasma'}, 'common_eval': {'_name': None, 'path': None, 'post_process': None, 'quiet': False, 'model_overrides': '{}', 'results_path': None}, 'distributed_training': {'_name': None, 'distributed_world_size': 1, 'distributed_rank': 0, 'distributed_backend': 'nccl', 'distributed_init_method': None, 'distributed_port': -1, 'device_id': 0, 'distributed_no_spawn': False, 'ddp_backend': 'pytorch_ddp', 'ddp_comm_hook': 'none', 'bucket_cap_mb': 25, 'fix_batches_to_gpus': False, 'find_unused_parameters': False, 'fast_stat_sync': False, 'heartbeat_timeout': -1, 'broadcast_buffers': False, 'slowmo_momentum': None, 'slowmo_algorithm': 'LocalSGD', 'localsgd_frequency': 3, 'nprocs_per_node': 1, 'pipeline_model_parallel': False, 'pipeline_balance': None, 'pipeline_devices': None, 'pipeline_chunks': 0, 'pipeline_encoder_balance': None, 'pipeline_encoder_devices': None, 'pipeline_decoder_balance': None, 'pipeline_decoder_devices': None, 'pipeline_checkpoint': 'never', 'zero_sharding': 'none', 'fp16': False, 'memory_efficient_fp16': False, 'tpu': False, 'no_reshard_after_forward': False, 'fp32_reduce_scatter': False, 'cpu_offload': False, 'use_sharded_state': False, 'distributed_num_procs': 1}, 'dataset': {'_name': None, 'num_workers': 1, 'skip_invalid_size_inputs_valid_test': True, 'max_tokens': None, 'batch_size': 160, 'required_batch_size_multiple': 8, 'required_seq_len_multiple': 1, 'dataset_impl': None, 'data_buffer_size': 10, 'train_subset': 'train', 'valid_subset': 'valid', 'combine_valid_subsets': None, 'ignore_unused_valid_subsets': False, 'validate_interval': 1, 'validate_interval_updates': 0, 'validate_after_updates': 0, 'fixed_validation_seed': None, 'disable_validation': False, 'max_tokens_valid': None, 'batch_size_valid': 160, 'max_valid_steps': None, 'curriculum': 0, 'gen_subset': 'test', 'num_shards': 1, 'shard_id': 0}, 'optimization': {'_name': None, 'max_epoch': 0, 'max_update': 150000, 'stop_time_hours': 0.0, 'clip_norm': 5.0, 'sentence_avg': False, 'update_freq': [1], 'lr': [0.0], 'stop_min_lr': -1.0, 'use_bmuf': False}, 'checkpoint': {'_name': None, 'save_dir': '/kaggle/working', 'restore_file': 'checkpoint_last.pt', 'finetune_from_model': None, 'reset_dataloader': False, 'reset_lr_scheduler': False, 'reset_meters': False, 'reset_optimizer': False, 'optimizer_overrides': '{}', 'save_interval': 1, 'save_interval_updates': 0, 'keep_interval_updates': -1, 'keep_interval_updates_pattern': -1, 'keep_last_epochs': 20, 'keep_best_checkpoints': -1, 'no_save': False, 'no_epoch_checkpoints': False, 'no_last_checkpoints': False, 'no_save_optimizer_state': False, 'best_checkpoint_metric': 'weighted_lm_ppl', 'maximize_best_checkpoint_metric': False, 'patience': -1, 'checkpoint_suffix': '', 'checkpoint_shard_count': 1, 'load_checkpoint_on_all_dp_ranks': False, 'write_checkpoints_asynchronously': False, 'model_parallel_size': 1}, 'bmuf': {'_name': None, 'block_lr': 1.0, 'block_momentum': 0.875, 'global_sync_iter': 50, 'warmup_iterations': 500, 'use_nbm': False, 'average_sync': False, 'distributed_world_size': 1}, 'generation': {'_name': None, 'beam': 5, 'nbest': 1, 'max_len_a': 0.0, 'max_len_b': 200, 'min_len': 1, 'match_source_len': False, 'unnormalized': False, 'no_early_stop': False, 'no_beamable_mm': False, 'lenpen': 1.0, 'unkpen': 0.0, 'replace_unk': None, 'sacrebleu': False, 'score_reference': False, 'prefix_size': 0, 'no_repeat_ngram_size': 0, 'sampling': False, 'sampling_topk': -1, 'sampling_topp': -1.0, 'constraints': None, 'temperature': 1.0, 'diverse_beam_groups': -1, 'diverse_beam_strength': 0.5, 'diversity_rate': -1.0, 'print_alignment': None, 'print_step': False, 'lm_path': None, 'lm_weight': 0.0, 'iter_decode_eos_penalty': 0.0, 'iter_decode_max_iter': 10, 'iter_decode_force_max_iter': False, 'iter_decode_with_beam': 1, 'iter_decode_with_external_reranker': False, 'retain_iter_history': False, 'retain_dropout': False, 'retain_dropout_modules': None, 'decoding_format': None, 'no_seed_provided': False}, 'eval_lm': {'_name': None, 'output_word_probs': False, 'output_word_stats': False, 'context_window': 0, 'softmax_batch': 9223372036854775807}, 'interactive': {'_name': None, 'buffer_size': 0, 'input': '-'}, 'model': {'_name': 'wav2vec_u', 'discriminator_kernel': 6, 'discriminator_dilation': 1, 'discriminator_dim': 384, 'discriminator_causal': True, 'discriminator_linear_emb': False, 'discriminator_depth': 2, 'discriminator_max_pool': False, 'discriminator_act_after_linear': False, 'discriminator_dropout': 0.0, 'discriminator_spectral_norm': False, 'discriminator_weight_norm': False, 'generator_kernel': 4, 'generator_dilation': 1, 'generator_stride': 1, 'generator_bias': False, 'generator_dropout': 0.1, 'blank_weight': 0.0, 'blank_mode': 'add', 'blank_is_sil': False, 'no_softmax': False, 'smoothness_weight': 0.5, 'smoothing': 0.0, 'smoothing_one_sided': False, 'gradient_penalty': 1.5, 'probabilistic_grad_penalty_slicing': False, 'code_penalty': 4.0, 'gumbel': False, 'hard_gumbel': False, 'temp': [2.0, 0.1, 0.99995], 'input_dim': 512, 'wgan_loss': False, 'segmentation': {'_name': None, 'type': 'JOIN', 'subsample_rate': 0.25, 'mean_pool': True, 'mean_pool_join': False, 'remove_zeros': False}}, 'task': {'_name': 'gan_audio_pretraining_feats', 'data': '/kaggle/input/wav2vec-u-cv-swedish-audio/precompute_pca512_cls128_mean_pooled/', 'text_data': '/kaggle/input/wav2vec-u-cv-swedish-text-prep/preppedtext/phones/', 'max_length': None, 'labels': 'phn', 'unfiltered': False, 'ctc_eval': False, 'sort_by_length': False, 'shuffle': True, 'append_eos': False, 'uppercase': False, 'skipwords': '', 'kenlm_path': '/kaggle/input/wav2vec-u-cv-swedish-text-prep/preppedtext/phones/lm.phones.filtered.04.bin', 'vocab_usage_power': 2.0, 'word_decoder_config': None, 'word_kenlm_path': None, 'decoding_config': {'_name': None, 'kenlm_path': None, 'lm_weight': 0.0, 'blank_weight': 0.0}}, 'criterion': {'_name': 'model', 'loss_weights': {}, 'log_keys': ['accuracy_dense', 'accuracy_token', 'temp', 'code_ppl']}, 'optimizer': {'_name': 'composite', 'groups': {'generator': {'lr': [0.0004], 'lr_float': None, 'optimizer': {'_name': 'adam', 'adam_betas': [0.5, 0.98], 'adam_eps': 1e-06, 'weight_decay': 0, 'amsgrad': False}, 'lr_scheduler': {'_name': 'fixed', 'warmup_updates': 0}}, 'discriminator': {'lr': [0.0005], 'lr_float': None, 'optimizer': {'_name': 'adam', 'adam_betas': [0.5, 0.98], 'adam_eps': 1e-06, 'weight_decay': 0.0001, 'amsgrad': False}, 'lr_scheduler': {'_name': 'fixed', 'warmup_updates': 0}}}}, 'lr_scheduler': {'_name': 'pass_through'}, 'scoring': None, 'bpe': None, 'tokenizer': None, 'job_logging_cfg': {'version': 1, 'formatters': {'simple': {'format': '[%(asctime)s][%(name)s][%(levelname)s] - %(message)s'}}, 'handlers': {'console': {'class': 'logging.StreamHandler', 'formatter': 'simple', 'stream': 'ext://sys.stdout'}, 'file': {'class': 'logging.FileHandler', 'formatter': 'simple', 'filename': 'hydra_train.log'}}, 'root': {'level': 'INFO', 'handlers': ['console', 'file']}, 'disable_existing_loggers': False}}\r\n",
      "[2021-06-03 15:09:32,378][fairseq_cli.train][INFO] - Wav2vec_U(\r\n",
      "  (discriminator): Discriminator(\r\n",
      "    (net): Sequential(\r\n",
      "      (0): Conv1d(45, 384, kernel_size=(6,), stride=(1,), padding=(5,))\r\n",
      "      (1): SamePad()\r\n",
      "      (2): Dropout(p=0.0, inplace=False)\r\n",
      "      (3): Sequential(\r\n",
      "        (0): Conv1d(384, 384, kernel_size=(6,), stride=(1,), padding=(5,))\r\n",
      "        (1): SamePad()\r\n",
      "        (2): Dropout(p=0.0, inplace=False)\r\n",
      "        (3): GELU()\r\n",
      "      )\r\n",
      "      (4): Conv1d(384, 1, kernel_size=(6,), stride=(1,), padding=(5,))\r\n",
      "      (5): SamePad()\r\n",
      "    )\r\n",
      "  )\r\n",
      "  (segmenter): JoinSegmenter()\r\n",
      "  (generator): Generator(\r\n",
      "    (dropout): Dropout(p=0.1, inplace=False)\r\n",
      "    (proj): Sequential(\r\n",
      "      (0): TransposeLast()\r\n",
      "      (1): Conv1d(512, 45, kernel_size=(4,), stride=(1,), padding=(2,), bias=False)\r\n",
      "      (2): TransposeLast()\r\n",
      "    )\r\n",
      "  )\r\n",
      ")\r\n",
      "[2021-06-03 15:09:32,379][fairseq_cli.train][INFO] - task: UnpairedAudioText\r\n",
      "[2021-06-03 15:09:32,379][fairseq_cli.train][INFO] - model: Wav2vec_U\r\n",
      "[2021-06-03 15:09:32,379][fairseq_cli.train][INFO] - criterion: ModelCriterion\r\n",
      "[2021-06-03 15:09:32,380][fairseq_cli.train][INFO] - num. shared model params: 1,083,649 (num. trained: 1,083,649)\r\n",
      "[2021-06-03 15:09:32,380][fairseq_cli.train][INFO] - num. expert model params: 0 (num. trained: 0)\r\n",
      "[2021-06-03 15:09:32,491][fairseq.data.extracted_features_dataset][INFO] - loaded 2019, skipped 0 samples\r\n",
      "[2021-06-03 15:09:32,491][fairseq.tasks.unpaired_audio_text][INFO] - split valid has unpaired text? False\r\n",
      "[2021-06-03 15:09:36,856][fairseq.utils][INFO] - ***********************CUDA enviroments for all 1 workers***********************\r\n",
      "[2021-06-03 15:09:36,856][fairseq.utils][INFO] - rank   0: capabilities =  6.0  ; total memory = 15.899 GB ; name = Tesla P100-PCIE-16GB                    \r\n",
      "[2021-06-03 15:09:36,856][fairseq.utils][INFO] - ***********************CUDA enviroments for all 1 workers***********************\r\n",
      "[2021-06-03 15:09:36,857][fairseq_cli.train][INFO] - training on 1 devices (GPUs/TPUs)\r\n",
      "[2021-06-03 15:09:36,857][fairseq_cli.train][INFO] - max tokens per device = None and max sentences per device = 160\r\n",
      "[2021-06-03 15:09:36,858][fairseq.trainer][INFO] - Preparing to load checkpoint /kaggle/working/checkpoint_last.pt\r\n",
      "[2021-06-03 15:09:36,859][fairseq.trainer][INFO] - No existing checkpoint found /kaggle/working/checkpoint_last.pt\r\n",
      "[2021-06-03 15:09:36,859][fairseq.trainer][INFO] - loading train data for epoch 1\r\n",
      "[2021-06-03 15:09:36,915][fairseq.data.extracted_features_dataset][INFO] - loaded 2331, skipped 0 samples\r\n",
      "[2021-06-03 15:09:36,915][fairseq.tasks.unpaired_audio_text][INFO] - split train has unpaired text? True\r\n",
      "[2021-06-03 15:09:36,954][fairseq.data.data_utils][INFO] - loaded 2,328 examples from: /kaggle/input/wav2vec-u-cv-swedish-text-prep/preppedtext/phones/train\r\n",
      "[2021-06-03 15:09:38,455][fairseq.trainer][INFO] - begin training epoch 1\r\n",
      "[2021-06-03 15:09:38,456][fairseq_cli.train][INFO] - Start iterating over samples\r\n",
      "THCudaCheck FAIL file=/opt/conda/conda-bld/pytorch_1603729047590/work/aten/src/THC/THCCachingHostAllocator.cpp line=278 error=700 : an illegal memory access was encountered\r\n",
      "Traceback (most recent call last):\r\n",
      "  File \"/opt/conda/bin/fairseq-hydra-train\", line 33, in <module>\r\n",
      "    sys.exit(load_entry_point('fairseq==1.0.0a0+6179d53', 'console_scripts', 'fairseq-hydra-train')())\r\n",
      "  File \"/opt/conda/lib/python3.7/site-packages/fairseq-1.0.0a0+6179d53-py3.7-linux-x86_64.egg/fairseq_cli/hydra_train.py\", line 76, in cli_main\r\n",
      "    hydra_main()\r\n",
      "  File \"/opt/conda/lib/python3.7/site-packages/hydra_core-1.0.6-py3.7.egg/hydra/main.py\", line 37, in decorated_main\r\n",
      "    strict=strict,\r\n",
      "  File \"/opt/conda/lib/python3.7/site-packages/hydra_core-1.0.6-py3.7.egg/hydra/_internal/utils.py\", line 355, in _run_hydra\r\n",
      "    lambda: hydra.multirun(\r\n",
      "  File \"/opt/conda/lib/python3.7/site-packages/hydra_core-1.0.6-py3.7.egg/hydra/_internal/utils.py\", line 201, in run_and_report\r\n",
      "    raise ex\r\n",
      "  File \"/opt/conda/lib/python3.7/site-packages/hydra_core-1.0.6-py3.7.egg/hydra/_internal/utils.py\", line 198, in run_and_report\r\n",
      "    return func()\r\n",
      "  File \"/opt/conda/lib/python3.7/site-packages/hydra_core-1.0.6-py3.7.egg/hydra/_internal/utils.py\", line 358, in <lambda>\r\n",
      "    overrides=args.overrides,\r\n",
      "  File \"/opt/conda/lib/python3.7/site-packages/hydra_core-1.0.6-py3.7.egg/hydra/_internal/hydra.py\", line 136, in multirun\r\n",
      "    return sweeper.sweep(arguments=task_overrides)\r\n",
      "  File \"/opt/conda/lib/python3.7/site-packages/hydra_core-1.0.6-py3.7.egg/hydra/_internal/core_plugins/basic_sweeper.py\", line 154, in sweep\r\n",
      "    results = self.launcher.launch(batch, initial_job_idx=initial_job_idx)\r\n",
      "  File \"/opt/conda/lib/python3.7/site-packages/hydra_core-1.0.6-py3.7.egg/hydra/_internal/core_plugins/basic_launcher.py\", line 80, in launch\r\n",
      "    job_subdir_key=\"hydra.sweep.subdir\",\r\n",
      "  File \"/opt/conda/lib/python3.7/site-packages/hydra_core-1.0.6-py3.7.egg/hydra/core/utils.py\", line 127, in run_job\r\n",
      "    ret.return_value = task_function(task_cfg)\r\n",
      "  File \"/opt/conda/lib/python3.7/site-packages/fairseq-1.0.0a0+6179d53-py3.7-linux-x86_64.egg/fairseq_cli/hydra_train.py\", line 45, in hydra_main\r\n",
      "    distributed_utils.call_main(cfg, pre_main)\r\n",
      "  File \"/opt/conda/lib/python3.7/site-packages/fairseq-1.0.0a0+6179d53-py3.7-linux-x86_64.egg/fairseq/distributed/utils.py\", line 369, in call_main\r\n",
      "    main(cfg, **kwargs)\r\n",
      "  File \"/opt/conda/lib/python3.7/site-packages/fairseq-1.0.0a0+6179d53-py3.7-linux-x86_64.egg/fairseq_cli/train.py\", line 178, in main\r\n",
      "    valid_losses, should_stop = train(cfg, trainer, task, epoch_itr)\r\n",
      "  File \"/opt/conda/lib/python3.7/contextlib.py\", line 74, in inner\r\n",
      "    return func(*args, **kwds)\r\n",
      "  File \"/opt/conda/lib/python3.7/site-packages/fairseq-1.0.0a0+6179d53-py3.7-linux-x86_64.egg/fairseq_cli/train.py\", line 289, in train\r\n",
      "    log_output = trainer.train_step(samples)\r\n",
      "  File \"/opt/conda/lib/python3.7/contextlib.py\", line 74, in inner\r\n",
      "    return func(*args, **kwds)\r\n",
      "  File \"/opt/conda/lib/python3.7/site-packages/fairseq-1.0.0a0+6179d53-py3.7-linux-x86_64.egg/fairseq/trainer.py\", line 736, in train_step\r\n",
      "    raise e\r\n",
      "  File \"/opt/conda/lib/python3.7/site-packages/fairseq-1.0.0a0+6179d53-py3.7-linux-x86_64.egg/fairseq/trainer.py\", line 710, in train_step\r\n",
      "    ignore_grad=is_dummy_batch,\r\n",
      "  File \"/opt/conda/lib/python3.7/site-packages/fairseq-1.0.0a0+6179d53-py3.7-linux-x86_64.egg/fairseq/tasks/fairseq_task.py\", line 506, in train_step\r\n",
      "    optimizer.backward(loss)\r\n",
      "  File \"/opt/conda/lib/python3.7/site-packages/fairseq-1.0.0a0+6179d53-py3.7-linux-x86_64.egg/fairseq/optim/fairseq_optimizer.py\", line 95, in backward\r\n",
      "    loss.backward()\r\n",
      "  File \"/opt/conda/lib/python3.7/site-packages/torch/tensor.py\", line 221, in backward\r\n",
      "    torch.autograd.backward(self, gradient, retain_graph, create_graph)\r\n",
      "  File \"/opt/conda/lib/python3.7/site-packages/torch/autograd/__init__.py\", line 132, in backward\r\n",
      "    allow_unreachable=True)  # allow_unreachable flag\r\n",
      "RuntimeError: CUDA error: an illegal memory access was encountered\r\n"
     ]
    }
   ],
   "source": [
    "!bash rungan.sh"
   ]
  }
 ],
 "metadata": {
  "kernelspec": {
   "display_name": "Python 3",
   "language": "python",
   "name": "python3"
  },
  "language_info": {
   "codemirror_mode": {
    "name": "ipython",
    "version": 3
   },
   "file_extension": ".py",
   "mimetype": "text/x-python",
   "name": "python",
   "nbconvert_exporter": "python",
   "pygments_lexer": "ipython3",
   "version": "3.7.10"
  },
  "papermill": {
   "default_parameters": {},
   "duration": 569.737973,
   "end_time": "2021-06-03T15:09:41.956034",
   "environment_variables": {},
   "exception": null,
   "input_path": "__notebook__.ipynb",
   "output_path": "__notebook__.ipynb",
   "parameters": {},
   "start_time": "2021-06-03T15:00:12.218061",
   "version": "2.3.3"
  }
 },
 "nbformat": 4,
 "nbformat_minor": 5
}
