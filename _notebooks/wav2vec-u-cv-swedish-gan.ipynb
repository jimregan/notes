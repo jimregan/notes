{
 "cells": [
  {
   "cell_type": "markdown",
   "id": "clear-disabled",
   "metadata": {
    "papermill": {
     "duration": 0.014703,
     "end_time": "2021-06-04T10:23:22.255254",
     "exception": false,
     "start_time": "2021-06-04T10:23:22.240551",
     "status": "completed"
    },
    "tags": []
   },
   "source": [
    "## Preparation"
   ]
  },
  {
   "cell_type": "code",
   "execution_count": 1,
   "id": "alleged-perth",
   "metadata": {
    "_cell_guid": "b1076dfc-b9ad-4769-8c92-a6c4dae69d19",
    "_uuid": "8f2839f25d086af736a60e9eeb907d3b93b6e0e5",
    "execution": {
     "iopub.execute_input": "2021-06-04T10:23:22.293428Z",
     "iopub.status.busy": "2021-06-04T10:23:22.292848Z",
     "iopub.status.idle": "2021-06-04T10:27:06.910223Z",
     "shell.execute_reply": "2021-06-04T10:27:06.911077Z",
     "shell.execute_reply.started": "2021-05-31T11:43:46.770364Z"
    },
    "papermill": {
     "duration": 224.642382,
     "end_time": "2021-06-04T10:27:06.911383",
     "exception": false,
     "start_time": "2021-06-04T10:23:22.269001",
     "status": "completed"
    },
    "tags": []
   },
   "outputs": [],
   "source": [
    "%%capture\n",
    "!conda install -c pykaldi pykaldi -y"
   ]
  },
  {
   "cell_type": "code",
   "execution_count": 2,
   "id": "polyphonic-leeds",
   "metadata": {
    "execution": {
     "iopub.execute_input": "2021-06-04T10:27:06.947825Z",
     "iopub.status.busy": "2021-06-04T10:27:06.944256Z",
     "iopub.status.idle": "2021-06-04T10:27:11.248383Z",
     "shell.execute_reply": "2021-06-04T10:27:11.247899Z",
     "shell.execute_reply.started": "2021-06-04T10:14:16.055148Z"
    },
    "papermill": {
     "duration": 4.323019,
     "end_time": "2021-06-04T10:27:11.248514",
     "exception": false,
     "start_time": "2021-06-04T10:27:06.925495",
     "status": "completed"
    },
    "tags": []
   },
   "outputs": [],
   "source": [
    "%%capture\n",
    "!apt-get update"
   ]
  },
  {
   "cell_type": "code",
   "execution_count": 3,
   "id": "generous-helena",
   "metadata": {
    "execution": {
     "iopub.execute_input": "2021-06-04T10:27:11.280445Z",
     "iopub.status.busy": "2021-06-04T10:27:11.279902Z",
     "iopub.status.idle": "2021-06-04T10:27:11.283625Z",
     "shell.execute_reply": "2021-06-04T10:27:11.283241Z",
     "shell.execute_reply.started": "2021-06-04T10:21:44.116876Z"
    },
    "papermill": {
     "duration": 0.021236,
     "end_time": "2021-06-04T10:27:11.283729",
     "exception": false,
     "start_time": "2021-06-04T10:27:11.262493",
     "status": "completed"
    },
    "tags": []
   },
   "outputs": [],
   "source": [
    "#!apt-cache policy libcudnn8-dev"
   ]
  },
  {
   "cell_type": "code",
   "execution_count": 4,
   "id": "excessive-institute",
   "metadata": {
    "execution": {
     "iopub.execute_input": "2021-06-04T10:27:11.320502Z",
     "iopub.status.busy": "2021-06-04T10:27:11.316056Z",
     "iopub.status.idle": "2021-06-04T10:30:07.872187Z",
     "shell.execute_reply": "2021-06-04T10:30:07.871326Z"
    },
    "papermill": {
     "duration": 176.57494,
     "end_time": "2021-06-04T10:30:07.872334",
     "exception": false,
     "start_time": "2021-06-04T10:27:11.297394",
     "status": "completed"
    },
    "tags": []
   },
   "outputs": [
    {
     "name": "stdout",
     "output_type": "stream",
     "text": [
      "\r",
      "Reading package lists... 0%\r"
     ]
    },
    {
     "name": "stdout",
     "output_type": "stream",
     "text": [
      "\r",
      "Reading package lists... 0%\r"
     ]
    },
    {
     "name": "stdout",
     "output_type": "stream",
     "text": [
      "\r",
      "Reading package lists... 0%\r"
     ]
    },
    {
     "name": "stdout",
     "output_type": "stream",
     "text": [
      "\r",
      "Reading package lists... 5%\r",
      "\r",
      "Reading package lists... 5%\r",
      "\r",
      "Reading package lists... 5%\r",
      "\r",
      "Reading package lists... 5%\r"
     ]
    },
    {
     "name": "stdout",
     "output_type": "stream",
     "text": [
      "\r",
      "Reading package lists... 40%\r"
     ]
    },
    {
     "name": "stdout",
     "output_type": "stream",
     "text": [
      "\r",
      "Reading package lists... 52%\r",
      "\r",
      "Reading package lists... 52%\r"
     ]
    },
    {
     "name": "stdout",
     "output_type": "stream",
     "text": [
      "\r",
      "Reading package lists... 53%\r",
      "\r",
      "Reading package lists... 53%\r"
     ]
    },
    {
     "name": "stdout",
     "output_type": "stream",
     "text": [
      "\r",
      "Reading package lists... 63%\r",
      "\r",
      "Reading package lists... 63%\r",
      "\r",
      "Reading package lists... 66%\r",
      "\r",
      "Reading package lists... 66%\r"
     ]
    },
    {
     "name": "stdout",
     "output_type": "stream",
     "text": [
      "\r",
      "Reading package lists... 75%\r",
      "\r",
      "Reading package lists... 75%\r",
      "\r",
      "Reading package lists... 75%\r",
      "\r",
      "Reading package lists... 75%\r",
      "\r",
      "Reading package lists... 75%\r",
      "\r",
      "Reading package lists... 75%\r",
      "\r",
      "Reading package lists... 75%\r",
      "\r",
      "Reading package lists... 75%\r",
      "\r",
      "Reading package lists... 84%\r",
      "\r",
      "Reading package lists... 84%\r"
     ]
    },
    {
     "name": "stdout",
     "output_type": "stream",
     "text": [
      "\r",
      "Reading package lists... 86%\r",
      "\r",
      "Reading package lists... 86%\r",
      "\r",
      "Reading package lists... 92%\r",
      "\r",
      "Reading package lists... 92%\r",
      "\r",
      "Reading package lists... 92%\r",
      "\r",
      "Reading package lists... 92%\r",
      "\r",
      "Reading package lists... 96%\r",
      "\r",
      "Reading package lists... 96%\r",
      "\r",
      "Reading package lists... 96%\r",
      "\r",
      "Reading package lists... 96%\r"
     ]
    },
    {
     "name": "stdout",
     "output_type": "stream",
     "text": [
      "\r",
      "Reading package lists... 97%\r",
      "\r",
      "Reading package lists... 97%\r",
      "\r",
      "Reading package lists... 98%\r",
      "\r",
      "Reading package lists... 98%\r",
      "\r",
      "Reading package lists... 99%\r",
      "\r",
      "Reading package lists... 99%\r",
      "\r",
      "Reading package lists... Done\r",
      "\r\n"
     ]
    },
    {
     "name": "stdout",
     "output_type": "stream",
     "text": [
      "\r",
      "Building dependency tree... 0%\r",
      "\r",
      "Building dependency tree... 0%\r",
      "\r",
      "Building dependency tree... 0%\r"
     ]
    },
    {
     "name": "stdout",
     "output_type": "stream",
     "text": [
      "\r",
      "Building dependency tree... 50%\r",
      "\r",
      "Building dependency tree... 50%\r"
     ]
    },
    {
     "name": "stdout",
     "output_type": "stream",
     "text": [
      "\r",
      "Building dependency tree       \r",
      "\r\n",
      "\r",
      "Reading state information... 0%\r",
      "\r",
      "Reading state information... 0%\r",
      "\r",
      "Reading state information... Done\r",
      "\r\n"
     ]
    },
    {
     "name": "stdout",
     "output_type": "stream",
     "text": [
      "The following additional packages will be installed:\r\n",
      "  cuda-cudart-dev-11-1 cuda-cuobjdump-11-1 cuda-cupti-11-1 cuda-cupti-dev-11-1\r\n",
      "  cuda-driver-dev-11-1 cuda-gdb-11-1 cuda-memcheck-11-1 cuda-nvcc-11-1\r\n",
      "  cuda-nvdisasm-11-1 cuda-nvprof-11-1 cuda-nvprune-11-1 cuda-nvtx-11-1\r\n",
      "  cuda-sanitizer-11-1\r\n"
     ]
    },
    {
     "name": "stdout",
     "output_type": "stream",
     "text": [
      "The following NEW packages will be installed:\r\n",
      "  cuda-command-line-tools-11-1 cuda-compiler-11-1 cuda-cudart-11-1\r\n",
      "  cuda-cudart-dev-11-1 cuda-cuobjdump-11-1 cuda-cupti-11-1 cuda-cupti-dev-11-1\r\n",
      "  cuda-driver-dev-11-1 cuda-gdb-11-1 cuda-memcheck-11-1 cuda-nvcc-11-1\r\n",
      "  cuda-nvdisasm-11-1 cuda-nvprof-11-1 cuda-nvprune-11-1 cuda-nvtx-11-1\r\n",
      "  cuda-sanitizer-11-1\r\n",
      "The following packages will be upgraded:\r\n",
      "  libcudnn8 libcudnn8-dev\r\n",
      "2 upgraded, 16 newly installed, 0 to remove and 33 not upgraded.\r\n",
      "Need to get 984 MB of archives.\r\n",
      "After this operation, 1155 MB of additional disk space will be used.\r\n",
      "\r",
      "0% [Working]"
     ]
    },
    {
     "name": "stdout",
     "output_type": "stream",
     "text": [
      "\r",
      "            \r",
      "Get:1 http://developer.download.nvidia.com/compute/cuda/repos/ubuntu1804/x86_64  cuda-cudart-11-1 11.1.74-1 [133 kB]\r\n",
      "\r",
      "0% [1 cuda-cudart-11-1 43.1 kB/133 kB 32%]"
     ]
    },
    {
     "name": "stdout",
     "output_type": "stream",
     "text": [
      "\r",
      "                                          \r",
      "1% [Working]"
     ]
    },
    {
     "name": "stdout",
     "output_type": "stream",
     "text": [
      "\r",
      "            \r",
      "Get:2 http://developer.download.nvidia.com/compute/cuda/repos/ubuntu1804/x86_64  cuda-driver-dev-11-1 11.1.74-1 [25.4 kB]\r\n",
      "\r",
      "1% [2 cuda-driver-dev-11-1 25.4 kB/25.4 kB 100%]\r",
      "                                                \r",
      "2% [Waiting for headers]\r",
      "                        \r",
      "Get:3 http://developer.download.nvidia.com/compute/cuda/repos/ubuntu1804/x86_64  cuda-cudart-dev-11-1 11.1.74-1 [1734 kB]\r\n",
      "\r",
      "2% [3 cuda-cudart-dev-11-1 36.9 kB/1734 kB 2%]"
     ]
    },
    {
     "name": "stdout",
     "output_type": "stream",
     "text": [
      "\r",
      "2% [3 cuda-cudart-dev-11-1 1734 kB/1734 kB 100%]"
     ]
    },
    {
     "name": "stdout",
     "output_type": "stream",
     "text": [
      "\r",
      "2% [3 cuda-cudart-dev-11-1 1734 kB/1734 kB 100%]"
     ]
    },
    {
     "name": "stdout",
     "output_type": "stream",
     "text": [
      "\r",
      "2% [3 cuda-cudart-dev-11-1 1734 kB/1734 kB 100%]"
     ]
    },
    {
     "name": "stdout",
     "output_type": "stream",
     "text": [
      "\r",
      "2% [3 cuda-cudart-dev-11-1 1734 kB/1734 kB 100%]"
     ]
    },
    {
     "name": "stdout",
     "output_type": "stream",
     "text": [
      "\r",
      "2% [3 cuda-cudart-dev-11-1 1734 kB/1734 kB 100%]"
     ]
    },
    {
     "name": "stdout",
     "output_type": "stream",
     "text": [
      "\r",
      "2% [3 cuda-cudart-dev-11-1 1734 kB/1734 kB 100%]"
     ]
    },
    {
     "name": "stdout",
     "output_type": "stream",
     "text": [
      "\r",
      "                                                \r",
      "Get:4 http://developer.download.nvidia.com/compute/cuda/repos/ubuntu1804/x86_64  cuda-nvcc-11-1 11.1.105-1 [27.0 MB]\r\n",
      "\r",
      "                                                \r",
      "4% [4 cuda-nvcc-11-1 269 kB/27.0 MB 1%]"
     ]
    },
    {
     "name": "stdout",
     "output_type": "stream",
     "text": [
      "\r",
      "4% [4 cuda-nvcc-11-1 7472 kB/27.0 MB 28%]"
     ]
    },
    {
     "name": "stdout",
     "output_type": "stream",
     "text": [
      "\r",
      "5% [4 cuda-nvcc-11-1 21.8 MB/27.0 MB 81%]"
     ]
    },
    {
     "name": "stdout",
     "output_type": "stream",
     "text": [
      "\r",
      "                                         \r",
      "7% [Waiting for headers]\r",
      "                        \r",
      "Get:5 http://developer.download.nvidia.com/compute/cuda/repos/ubuntu1804/x86_64  cuda-cupti-11-1 11.1.105-1 [10.9 MB]\r\n",
      "\r",
      "7% [5 cuda-cupti-11-1 34.6 kB/10.9 MB 0%]"
     ]
    },
    {
     "name": "stdout",
     "output_type": "stream",
     "text": [
      "\r",
      "                                         \r",
      "9% [Working]\r",
      "            \r",
      "Get:6 http://developer.download.nvidia.com/compute/cuda/repos/ubuntu1804/x86_64  cuda-cupti-dev-11-1 11.1.105-1 [2294 kB]\r\n",
      "\r",
      "9% [6 cuda-cupti-dev-11-1 0 B/2294 kB 0%]"
     ]
    },
    {
     "name": "stdout",
     "output_type": "stream",
     "text": [
      "\r",
      "                                         \r",
      "Get:7 http://developer.download.nvidia.com/compute/cuda/repos/ubuntu1804/x86_64  cuda-nvdisasm-11-1 11.1.74-1 [32.8 MB]\r\n",
      "\r",
      "10% [7 cuda-nvdisasm-11-1 35.0 kB/32.8 MB 0%]"
     ]
    },
    {
     "name": "stdout",
     "output_type": "stream",
     "text": [
      "\r",
      "12% [7 cuda-nvdisasm-11-1 17.7 MB/32.8 MB 54%]"
     ]
    },
    {
     "name": "stdout",
     "output_type": "stream",
     "text": [
      "\r",
      "                                              \r",
      "Get:8 http://developer.download.nvidia.com/compute/cuda/repos/ubuntu1804/x86_64  cuda-cuobjdump-11-1 11.1.74-1 [110 kB]\r\n",
      "\r",
      "15% [Waiting for headers]                                    12.1 MB/s 1min 14s\r",
      "                                                                               \r",
      "Get:9 http://developer.download.nvidia.com/compute/cuda/repos/ubuntu1804/x86_64  cuda-gdb-11-1 11.1.105-1 [3627 kB]\r\n",
      "\r",
      "15% [9 cuda-gdb-11-1 111 kB/3627 kB 3%]                      12.1 MB/s 1min 14s"
     ]
    },
    {
     "name": "stdout",
     "output_type": "stream",
     "text": [
      "\r",
      "16% [Waiting for headers]                                    12.1 MB/s 1min 14s\r",
      "                                                                               \r",
      "Get:10 http://developer.download.nvidia.com/compute/cuda/repos/ubuntu1804/x86_64  cuda-memcheck-11-1 11.1.105-1 [144 kB]\r\n",
      "\r",
      "16% [10 cuda-memcheck-11-1 22.3 kB/144 kB 15%]               12.1 MB/s 1min 14s\r",
      "18% [Waiting for headers]                                    12.1 MB/s 1min 14s\r",
      "                                                                               \r",
      "Get:11 http://developer.download.nvidia.com/compute/cuda/repos/ubuntu1804/x86_64  cuda-nvprof-11-1 11.1.105-1 [1910 kB]\r\n",
      "\r",
      "18% [11 cuda-nvprof-11-1 65.5 kB/1910 kB 3%]                 12.1 MB/s 1min 14s"
     ]
    },
    {
     "name": "stdout",
     "output_type": "stream",
     "text": [
      "\r",
      "19% [Working]                                                12.1 MB/s 1min 14s\r",
      "                                                                               \r",
      "Get:12 http://developer.download.nvidia.com/compute/cuda/repos/ubuntu1804/x86_64  cuda-nvtx-11-1 11.1.74-1 [51.1 kB]\r\n",
      "\r",
      "19% [12 cuda-nvtx-11-1 0 B/51.1 kB 0%]                       12.1 MB/s 1min 14s\r",
      "20% [Working]                                                12.1 MB/s 1min 14s\r",
      "                                                                               \r",
      "Get:13 http://developer.download.nvidia.com/compute/cuda/repos/ubuntu1804/x86_64  cuda-sanitizer-11-1 11.1.105-1 [7253 kB]\r\n",
      "\r",
      "20% [13 cuda-sanitizer-11-1 12.8 kB/7253 kB 0%]              12.1 MB/s 1min 14s"
     ]
    },
    {
     "name": "stdout",
     "output_type": "stream",
     "text": [
      "\r",
      "22% [Working]                                                12.1 MB/s 1min 13s\r",
      "                                                                               \r",
      "Get:14 http://developer.download.nvidia.com/compute/cuda/repos/ubuntu1804/x86_64  cuda-command-line-tools-11-1 11.1.1-1 [2472 B]\r\n",
      "\r",
      "22% [14 cuda-command-line-tools-11-1 2472 B/2472 B 100%]     12.1 MB/s 1min 13s\r",
      "23% [Waiting for headers]                                    12.1 MB/s 1min 13s\r",
      "                                                                               \r",
      "Get:15 http://developer.download.nvidia.com/compute/cuda/repos/ubuntu1804/x86_64  cuda-nvprune-11-1 11.1.74-1 [54.4 kB]\r\n",
      "\r",
      "23% [15 cuda-nvprune-11-1 30.8 kB/54.4 kB 57%]               12.1 MB/s 1min 13s\r",
      "24% [Waiting for headers]                                    12.1 MB/s 1min 13s\r",
      "                                                                               \r",
      "Get:16 http://developer.download.nvidia.com/compute/cuda/repos/ubuntu1804/x86_64  cuda-compiler-11-1 11.1.1-1 [2422 B]\r\n",
      "\r",
      "24% [16 cuda-compiler-11-1 2422 B/2422 B 100%]               12.1 MB/s 1min 13s\r",
      "25% [Waiting for headers]                                    12.1 MB/s 1min 13s"
     ]
    },
    {
     "name": "stdout",
     "output_type": "stream",
     "text": [
      "\r",
      "                                                                               \r",
      "Get:17 http://developer.download.nvidia.com/compute/cuda/repos/ubuntu1804/x86_64  libcudnn8-dev 8.0.5.39-1+cuda11.1 [389 MB]\r\n",
      "\r",
      "25% [17 libcudnn8-dev 4096 B/389 MB 0%]                      12.1 MB/s 1min 13s"
     ]
    },
    {
     "name": "stdout",
     "output_type": "stream",
     "text": [
      "\r",
      "26% [17 libcudnn8-dev 8952 kB/389 MB 2%]                     12.1 MB/s 1min 12s"
     ]
    },
    {
     "name": "stdout",
     "output_type": "stream",
     "text": [
      "\r",
      "27% [17 libcudnn8-dev 27.1 MB/389 MB 7%]                     12.1 MB/s 1min 11s"
     ]
    },
    {
     "name": "stdout",
     "output_type": "stream",
     "text": [
      "\r",
      "29% [17 libcudnn8-dev 45.0 MB/389 MB 12%]                    12.1 MB/s 1min 10s"
     ]
    },
    {
     "name": "stdout",
     "output_type": "stream",
     "text": [
      "\r",
      "30% [17 libcudnn8-dev 64.6 MB/389 MB 17%]                     12.1 MB/s 1min 8s"
     ]
    },
    {
     "name": "stdout",
     "output_type": "stream",
     "text": [
      "\r",
      "32% [17 libcudnn8-dev 82.4 MB/389 MB 21%]                     12.1 MB/s 1min 6s"
     ]
    },
    {
     "name": "stdout",
     "output_type": "stream",
     "text": [
      "\r",
      "33% [17 libcudnn8-dev 103 MB/389 MB 26%]                      12.1 MB/s 1min 5s"
     ]
    },
    {
     "name": "stdout",
     "output_type": "stream",
     "text": [
      "\r",
      "35% [17 libcudnn8-dev 122 MB/389 MB 31%]                      12.1 MB/s 1min 3s"
     ]
    },
    {
     "name": "stdout",
     "output_type": "stream",
     "text": [
      "\r",
      "36% [17 libcudnn8-dev 142 MB/389 MB 36%]                      12.1 MB/s 1min 2s"
     ]
    },
    {
     "name": "stdout",
     "output_type": "stream",
     "text": [
      "\r",
      "38% [17 libcudnn8-dev 160 MB/389 MB 41%]                          12.1 MB/s 60s"
     ]
    },
    {
     "name": "stdout",
     "output_type": "stream",
     "text": [
      "\r",
      "39% [17 libcudnn8-dev 178 MB/389 MB 46%]                          12.1 MB/s 59s"
     ]
    },
    {
     "name": "stdout",
     "output_type": "stream",
     "text": [
      "\r",
      "41% [17 libcudnn8-dev 196 MB/389 MB 50%]                          12.1 MB/s 57s"
     ]
    },
    {
     "name": "stdout",
     "output_type": "stream",
     "text": [
      "\r",
      "43% [17 libcudnn8-dev 216 MB/389 MB 56%]                          35.9 MB/s 18s"
     ]
    },
    {
     "name": "stdout",
     "output_type": "stream",
     "text": [
      "\r",
      "44% [17 libcudnn8-dev 237 MB/389 MB 61%]                          35.9 MB/s 18s"
     ]
    },
    {
     "name": "stdout",
     "output_type": "stream",
     "text": [
      "\r",
      "46% [17 libcudnn8-dev 257 MB/389 MB 66%]                          35.9 MB/s 17s"
     ]
    },
    {
     "name": "stdout",
     "output_type": "stream",
     "text": [
      "\r",
      "47% [17 libcudnn8-dev 277 MB/389 MB 71%]                          35.9 MB/s 17s"
     ]
    },
    {
     "name": "stdout",
     "output_type": "stream",
     "text": [
      "\r",
      "49% [17 libcudnn8-dev 296 MB/389 MB 76%]                          35.9 MB/s 16s"
     ]
    },
    {
     "name": "stdout",
     "output_type": "stream",
     "text": [
      "\r",
      "51% [17 libcudnn8-dev 316 MB/389 MB 81%]                          35.9 MB/s 16s"
     ]
    },
    {
     "name": "stdout",
     "output_type": "stream",
     "text": [
      "\r",
      "52% [17 libcudnn8-dev 337 MB/389 MB 86%]                          35.9 MB/s 15s"
     ]
    },
    {
     "name": "stdout",
     "output_type": "stream",
     "text": [
      "\r",
      "54% [17 libcudnn8-dev 357 MB/389 MB 92%]                          35.9 MB/s 15s"
     ]
    },
    {
     "name": "stdout",
     "output_type": "stream",
     "text": [
      "\r",
      "56% [17 libcudnn8-dev 377 MB/389 MB 97%]                          35.9 MB/s 14s"
     ]
    },
    {
     "name": "stdout",
     "output_type": "stream",
     "text": [
      "\r",
      "57% [17 libcudnn8-dev 389 MB/389 MB 100%]                         35.9 MB/s 14s"
     ]
    },
    {
     "name": "stdout",
     "output_type": "stream",
     "text": [
      "\r",
      "58% [Working]                                                     35.9 MB/s 14s\r",
      "                                                                               \r",
      "Get:18 http://developer.download.nvidia.com/compute/cuda/repos/ubuntu1804/x86_64  libcudnn8 8.0.5.39-1+cuda11.1 [506 MB]\r\n",
      "\r",
      "58% [18 libcudnn8 0 B/506 MB 0%]                                  35.9 MB/s 14s"
     ]
    },
    {
     "name": "stdout",
     "output_type": "stream",
     "text": [
      "\r",
      "59% [18 libcudnn8 17.9 MB/506 MB 4%]                              35.9 MB/s 13s"
     ]
    },
    {
     "name": "stdout",
     "output_type": "stream",
     "text": [
      "\r",
      "61% [18 libcudnn8 34.9 MB/506 MB 7%]                              35.9 MB/s 13s"
     ]
    },
    {
     "name": "stdout",
     "output_type": "stream",
     "text": [
      "\r",
      "62% [18 libcudnn8 54.0 MB/506 MB 11%]                             36.3 MB/s 12s"
     ]
    },
    {
     "name": "stdout",
     "output_type": "stream",
     "text": [
      "\r",
      "64% [18 libcudnn8 72.3 MB/506 MB 14%]                             36.3 MB/s 11s"
     ]
    },
    {
     "name": "stdout",
     "output_type": "stream",
     "text": [
      "\r",
      "65% [18 libcudnn8 92.5 MB/506 MB 18%]                             36.3 MB/s 11s"
     ]
    },
    {
     "name": "stdout",
     "output_type": "stream",
     "text": [
      "\r",
      "67% [18 libcudnn8 112 MB/506 MB 22%]                              36.3 MB/s 10s"
     ]
    },
    {
     "name": "stdout",
     "output_type": "stream",
     "text": [
      "\r",
      "68% [18 libcudnn8 132 MB/506 MB 26%]                              36.3 MB/s 10s"
     ]
    },
    {
     "name": "stdout",
     "output_type": "stream",
     "text": [
      "\r",
      "70% [18 libcudnn8 152 MB/506 MB 30%]                               36.3 MB/s 9s"
     ]
    },
    {
     "name": "stdout",
     "output_type": "stream",
     "text": [
      "\r",
      "72% [18 libcudnn8 172 MB/506 MB 34%]                               36.3 MB/s 9s"
     ]
    },
    {
     "name": "stdout",
     "output_type": "stream",
     "text": [
      "\r",
      "73% [18 libcudnn8 193 MB/506 MB 38%]                               36.3 MB/s 8s"
     ]
    },
    {
     "name": "stdout",
     "output_type": "stream",
     "text": [
      "\r",
      "75% [18 libcudnn8 212 MB/506 MB 42%]                               36.3 MB/s 8s"
     ]
    },
    {
     "name": "stdout",
     "output_type": "stream",
     "text": [
      "\r",
      "77% [18 libcudnn8 233 MB/506 MB 46%]                               36.3 MB/s 7s"
     ]
    },
    {
     "name": "stdout",
     "output_type": "stream",
     "text": [
      "\r",
      "78% [18 libcudnn8 253 MB/506 MB 50%]                               36.3 MB/s 6s"
     ]
    },
    {
     "name": "stdout",
     "output_type": "stream",
     "text": [
      "\r",
      "80% [18 libcudnn8 273 MB/506 MB 54%]                               36.3 MB/s 6s"
     ]
    },
    {
     "name": "stdout",
     "output_type": "stream",
     "text": [
      "\r",
      "82% [18 libcudnn8 293 MB/506 MB 58%]                               39.8 MB/s 5s"
     ]
    },
    {
     "name": "stdout",
     "output_type": "stream",
     "text": [
      "\r",
      "83% [18 libcudnn8 311 MB/506 MB 61%]                               39.8 MB/s 4s"
     ]
    },
    {
     "name": "stdout",
     "output_type": "stream",
     "text": [
      "\r",
      "85% [18 libcudnn8 331 MB/506 MB 65%]                               39.8 MB/s 4s"
     ]
    },
    {
     "name": "stdout",
     "output_type": "stream",
     "text": [
      "\r",
      "86% [18 libcudnn8 351 MB/506 MB 69%]                               39.8 MB/s 3s"
     ]
    },
    {
     "name": "stdout",
     "output_type": "stream",
     "text": [
      "\r",
      "88% [18 libcudnn8 372 MB/506 MB 73%]                               39.8 MB/s 3s"
     ]
    },
    {
     "name": "stdout",
     "output_type": "stream",
     "text": [
      "\r",
      "90% [18 libcudnn8 392 MB/506 MB 77%]                               39.8 MB/s 2s"
     ]
    },
    {
     "name": "stdout",
     "output_type": "stream",
     "text": [
      "\r",
      "91% [18 libcudnn8 412 MB/506 MB 81%]                               39.8 MB/s 2s"
     ]
    },
    {
     "name": "stdout",
     "output_type": "stream",
     "text": [
      "\r",
      "93% [18 libcudnn8 432 MB/506 MB 85%]                               39.8 MB/s 1s"
     ]
    },
    {
     "name": "stdout",
     "output_type": "stream",
     "text": [
      "\r",
      "94% [18 libcudnn8 452 MB/506 MB 89%]                               39.8 MB/s 1s"
     ]
    },
    {
     "name": "stdout",
     "output_type": "stream",
     "text": [
      "\r",
      "96% [18 libcudnn8 473 MB/506 MB 93%]                               39.8 MB/s 0s"
     ]
    },
    {
     "name": "stdout",
     "output_type": "stream",
     "text": [
      "\r",
      "98% [18 libcudnn8 493 MB/506 MB 97%]                               39.8 MB/s 0s"
     ]
    },
    {
     "name": "stdout",
     "output_type": "stream",
     "text": [
      "\r",
      "99% [18 libcudnn8 506 MB/506 MB 100%]                              39.8 MB/s 0s"
     ]
    },
    {
     "name": "stdout",
     "output_type": "stream",
     "text": [
      "\r",
      "99% [18 libcudnn8 506 MB/506 MB 100%]                              35.5 MB/s 0s"
     ]
    },
    {
     "name": "stdout",
     "output_type": "stream",
     "text": [
      "\r",
      "100% [Working]                                                     35.5 MB/s 0s\r",
      "                                                                               \r",
      "Fetched 984 MB in 31s (31.8 MB/s)\r\n"
     ]
    },
    {
     "name": "stdout",
     "output_type": "stream",
     "text": [
      "debconf: delaying package configuration, since apt-utils is not installed\r\n"
     ]
    },
    {
     "name": "stdout",
     "output_type": "stream",
     "text": [
      "Selecting previously unselected package cuda-cudart-11-1.\r\n",
      "(Reading database ... \r"
     ]
    },
    {
     "name": "stdout",
     "output_type": "stream",
     "text": [
      "(Reading database ... 5%\r",
      "(Reading database ... 10%\r",
      "(Reading database ... 15%\r",
      "(Reading database ... 20%\r",
      "(Reading database ... 25%\r",
      "(Reading database ... 30%\r",
      "(Reading database ... 35%\r",
      "(Reading database ... 40%\r",
      "(Reading database ... 45%\r",
      "(Reading database ... 50%\r",
      "(Reading database ... 55%\r",
      "(Reading database ... 60%\r",
      "(Reading database ... 65%\r",
      "(Reading database ... 70%\r"
     ]
    },
    {
     "name": "stdout",
     "output_type": "stream",
     "text": [
      "(Reading database ... 75%\r"
     ]
    },
    {
     "name": "stdout",
     "output_type": "stream",
     "text": [
      "(Reading database ... 80%\r"
     ]
    },
    {
     "name": "stdout",
     "output_type": "stream",
     "text": [
      "(Reading database ... 85%\r"
     ]
    },
    {
     "name": "stdout",
     "output_type": "stream",
     "text": [
      "(Reading database ... 90%\r"
     ]
    },
    {
     "name": "stdout",
     "output_type": "stream",
     "text": [
      "(Reading database ... 95%\r",
      "(Reading database ... 100%\r",
      "(Reading database ... 100757 files and directories currently installed.)\r\n",
      "Preparing to unpack .../00-cuda-cudart-11-1_11.1.74-1_amd64.deb ...\r\n"
     ]
    },
    {
     "name": "stdout",
     "output_type": "stream",
     "text": [
      "Unpacking cuda-cudart-11-1 (11.1.74-1) ...\r\n"
     ]
    },
    {
     "name": "stdout",
     "output_type": "stream",
     "text": [
      "Selecting previously unselected package cuda-driver-dev-11-1.\r\n",
      "Preparing to unpack .../01-cuda-driver-dev-11-1_11.1.74-1_amd64.deb ...\r\n"
     ]
    },
    {
     "name": "stdout",
     "output_type": "stream",
     "text": [
      "Unpacking cuda-driver-dev-11-1 (11.1.74-1) ...\r\n"
     ]
    },
    {
     "name": "stdout",
     "output_type": "stream",
     "text": [
      "Selecting previously unselected package cuda-cudart-dev-11-1.\r\n",
      "Preparing to unpack .../02-cuda-cudart-dev-11-1_11.1.74-1_amd64.deb ...\r\n",
      "Unpacking cuda-cudart-dev-11-1 (11.1.74-1) ...\r\n"
     ]
    },
    {
     "name": "stdout",
     "output_type": "stream",
     "text": [
      "Selecting previously unselected package cuda-nvcc-11-1.\r\n"
     ]
    },
    {
     "name": "stdout",
     "output_type": "stream",
     "text": [
      "Preparing to unpack .../03-cuda-nvcc-11-1_11.1.105-1_amd64.deb ...\r\n",
      "Unpacking cuda-nvcc-11-1 (11.1.105-1) ...\r\n"
     ]
    },
    {
     "name": "stdout",
     "output_type": "stream",
     "text": [
      "Selecting previously unselected package cuda-cupti-11-1.\r\n",
      "Preparing to unpack .../04-cuda-cupti-11-1_11.1.105-1_amd64.deb ...\r\n"
     ]
    },
    {
     "name": "stdout",
     "output_type": "stream",
     "text": [
      "Unpacking cuda-cupti-11-1 (11.1.105-1) ...\r\n"
     ]
    },
    {
     "name": "stdout",
     "output_type": "stream",
     "text": [
      "Selecting previously unselected package cuda-cupti-dev-11-1.\r\n",
      "Preparing to unpack .../05-cuda-cupti-dev-11-1_11.1.105-1_amd64.deb ...\r\n",
      "Unpacking cuda-cupti-dev-11-1 (11.1.105-1) ...\r\n"
     ]
    },
    {
     "name": "stdout",
     "output_type": "stream",
     "text": [
      "Selecting previously unselected package cuda-nvdisasm-11-1.\r\n",
      "Preparing to unpack .../06-cuda-nvdisasm-11-1_11.1.74-1_amd64.deb ...\r\n",
      "Unpacking cuda-nvdisasm-11-1 (11.1.74-1) ...\r\n"
     ]
    },
    {
     "name": "stdout",
     "output_type": "stream",
     "text": [
      "Selecting previously unselected package cuda-cuobjdump-11-1.\r\n",
      "Preparing to unpack .../07-cuda-cuobjdump-11-1_11.1.74-1_amd64.deb ...\r\n"
     ]
    },
    {
     "name": "stdout",
     "output_type": "stream",
     "text": [
      "Unpacking cuda-cuobjdump-11-1 (11.1.74-1) ...\r\n"
     ]
    },
    {
     "name": "stdout",
     "output_type": "stream",
     "text": [
      "Selecting previously unselected package cuda-gdb-11-1.\r\n",
      "Preparing to unpack .../08-cuda-gdb-11-1_11.1.105-1_amd64.deb ...\r\n",
      "Unpacking cuda-gdb-11-1 (11.1.105-1) ...\r\n"
     ]
    },
    {
     "name": "stdout",
     "output_type": "stream",
     "text": [
      "Selecting previously unselected package cuda-memcheck-11-1.\r\n",
      "Preparing to unpack .../09-cuda-memcheck-11-1_11.1.105-1_amd64.deb ...\r\n",
      "Unpacking cuda-memcheck-11-1 (11.1.105-1) ...\r\n"
     ]
    },
    {
     "name": "stdout",
     "output_type": "stream",
     "text": [
      "Selecting previously unselected package cuda-nvprof-11-1.\r\n"
     ]
    },
    {
     "name": "stdout",
     "output_type": "stream",
     "text": [
      "Preparing to unpack .../10-cuda-nvprof-11-1_11.1.105-1_amd64.deb ...\r\n",
      "Unpacking cuda-nvprof-11-1 (11.1.105-1) ...\r\n"
     ]
    },
    {
     "name": "stdout",
     "output_type": "stream",
     "text": [
      "Selecting previously unselected package cuda-nvtx-11-1.\r\n",
      "Preparing to unpack .../11-cuda-nvtx-11-1_11.1.74-1_amd64.deb ...\r\n",
      "Unpacking cuda-nvtx-11-1 (11.1.74-1) ...\r\n"
     ]
    },
    {
     "name": "stdout",
     "output_type": "stream",
     "text": [
      "Selecting previously unselected package cuda-sanitizer-11-1.\r\n",
      "Preparing to unpack .../12-cuda-sanitizer-11-1_11.1.105-1_amd64.deb ...\r\n",
      "Unpacking cuda-sanitizer-11-1 (11.1.105-1) ...\r\n"
     ]
    },
    {
     "name": "stdout",
     "output_type": "stream",
     "text": [
      "Selecting previously unselected package cuda-command-line-tools-11-1.\r\n",
      "Preparing to unpack .../13-cuda-command-line-tools-11-1_11.1.1-1_amd64.deb ...\r\n",
      "Unpacking cuda-command-line-tools-11-1 (11.1.1-1) ...\r\n"
     ]
    },
    {
     "name": "stdout",
     "output_type": "stream",
     "text": [
      "Selecting previously unselected package cuda-nvprune-11-1.\r\n"
     ]
    },
    {
     "name": "stdout",
     "output_type": "stream",
     "text": [
      "Preparing to unpack .../14-cuda-nvprune-11-1_11.1.74-1_amd64.deb ...\r\n",
      "Unpacking cuda-nvprune-11-1 (11.1.74-1) ...\r\n"
     ]
    },
    {
     "name": "stdout",
     "output_type": "stream",
     "text": [
      "Selecting previously unselected package cuda-compiler-11-1.\r\n",
      "Preparing to unpack .../15-cuda-compiler-11-1_11.1.1-1_amd64.deb ...\r\n",
      "Unpacking cuda-compiler-11-1 (11.1.1-1) ...\r\n"
     ]
    },
    {
     "name": "stdout",
     "output_type": "stream",
     "text": [
      "Preparing to unpack .../16-libcudnn8-dev_8.0.5.39-1+cuda11.1_amd64.deb ...\r\n"
     ]
    },
    {
     "name": "stdout",
     "output_type": "stream",
     "text": [
      "update-alternatives: removing manually selected alternative - switching libcudnn to auto mode\r\n",
      "Unpacking libcudnn8-dev (8.0.5.39-1+cuda11.1) over (8.0.4.30-1+cuda11.0) ...\r\n"
     ]
    },
    {
     "name": "stdout",
     "output_type": "stream",
     "text": [
      "Preparing to unpack .../17-libcudnn8_8.0.5.39-1+cuda11.1_amd64.deb ...\r\n"
     ]
    },
    {
     "name": "stdout",
     "output_type": "stream",
     "text": [
      "Unpacking libcudnn8 (8.0.5.39-1+cuda11.1) over (8.0.4.30-1+cuda11.0) ...\r\n"
     ]
    },
    {
     "name": "stdout",
     "output_type": "stream",
     "text": [
      "Setting up cuda-nvprune-11-1 (11.1.74-1) ...\r\n"
     ]
    },
    {
     "name": "stdout",
     "output_type": "stream",
     "text": [
      "Setting up cuda-cuobjdump-11-1 (11.1.74-1) ...\r\n"
     ]
    },
    {
     "name": "stdout",
     "output_type": "stream",
     "text": [
      "Setting up cuda-cudart-11-1 (11.1.74-1) ...\r\n",
      "Setting up libcudnn8 (8.0.5.39-1+cuda11.1) ...\r\n"
     ]
    },
    {
     "name": "stdout",
     "output_type": "stream",
     "text": [
      "Setting up cuda-nvtx-11-1 (11.1.74-1) ...\r\n",
      "Setting up cuda-sanitizer-11-1 (11.1.105-1) ...\r\n"
     ]
    },
    {
     "name": "stdout",
     "output_type": "stream",
     "text": [
      "Setting up cuda-driver-dev-11-1 (11.1.74-1) ...\r\n",
      "Setting up cuda-memcheck-11-1 (11.1.105-1) ...\r\n"
     ]
    },
    {
     "name": "stdout",
     "output_type": "stream",
     "text": [
      "Setting up cuda-cudart-dev-11-1 (11.1.74-1) ...\r\n",
      "Setting up libcudnn8-dev (8.0.5.39-1+cuda11.1) ...\r\n"
     ]
    },
    {
     "name": "stdout",
     "output_type": "stream",
     "text": [
      "update-alternatives: using /usr/include/x86_64-linux-gnu/cudnn_v8.h to provide /usr/include/cudnn.h (libcudnn) in auto mode\r\n",
      "Setting up cuda-nvdisasm-11-1 (11.1.74-1) ...\r\n"
     ]
    },
    {
     "name": "stdout",
     "output_type": "stream",
     "text": [
      "Setting up cuda-nvprof-11-1 (11.1.105-1) ...\r\n",
      "Setting up cuda-nvcc-11-1 (11.1.105-1) ...\r\n"
     ]
    },
    {
     "name": "stdout",
     "output_type": "stream",
     "text": [
      "Setting up cuda-compiler-11-1 (11.1.1-1) ...\r\n",
      "Setting up cuda-cupti-11-1 (11.1.105-1) ...\r\n"
     ]
    },
    {
     "name": "stdout",
     "output_type": "stream",
     "text": [
      "Setting up cuda-cupti-dev-11-1 (11.1.105-1) ...\r\n",
      "Setting up cuda-gdb-11-1 (11.1.105-1) ...\r\n"
     ]
    },
    {
     "name": "stdout",
     "output_type": "stream",
     "text": [
      "Setting up cuda-command-line-tools-11-1 (11.1.1-1) ...\r\n",
      "Processing triggers for libc-bin (2.27-3ubuntu1.4) ...\r\n"
     ]
    },
    {
     "name": "stdout",
     "output_type": "stream",
     "text": [
      "/sbin/ldconfig.real: File /usr/lib/x86_64-linux-gnu/libcuda.so.1 is empty, not checked.\r\n",
      "/sbin/ldconfig.real: File /usr/lib/x86_64-linux-gnu/libnvidia-ml.so.1 is empty, not checked.\r\n",
      "/sbin/ldconfig.real: File /usr/lib/x86_64-linux-gnu/libcuda.so is empty, not checked.\r\n",
      "/sbin/ldconfig.real: File /usr/lib/x86_64-linux-gnu/libnvidia-ptxjitcompiler.so.1 is empty, not checked.\r\n",
      "/sbin/ldconfig.real: File /usr/lib/x86_64-linux-gnu/libnvidia-cfg.so.450.51.06 is empty, not checked.\r\n",
      "/sbin/ldconfig.real: File /usr/lib/x86_64-linux-gnu/libnvidia-ml.so.450.51.06 is empty, not checked.\r\n",
      "/sbin/ldconfig.real: File /usr/lib/x86_64-linux-gnu/libnvidia-opencl.so.1 is empty, not checked.\r\n",
      "/sbin/ldconfig.real: File /usr/lib/x86_64-linux-gnu/libnvidia-allocator.so.450.51.06 is empty, not checked.\r\n",
      "/sbin/ldconfig.real: File /usr/lib/x86_64-linux-gnu/libnvidia-ptxjitcompiler.so.450.51.06 is empty, not checked.\r\n",
      "/sbin/ldconfig.real: File /usr/lib/x86_64-linux-gnu/libnvidia-allocator.so.1 is empty, not checked.\r\n",
      "/sbin/ldconfig.real: File /usr/lib/x86_64-linux-gnu/libnvidia-opencl.so.450.51.06 is empty, not checked.\r\n",
      "/sbin/ldconfig.real: File /usr/lib/x86_64-linux-gnu/libcuda.so.450.51.06 is empty, not checked.\r\n",
      "/sbin/ldconfig.real: File /usr/lib/x86_64-linux-gnu/libnvidia-cfg.so.1 is empty, not checked.\r\n",
      "/sbin/ldconfig.real: File /usr/lib/x86_64-linux-gnu/libnvidia-compiler.so.450.51.06 is empty, not checked.\r\n"
     ]
    }
   ],
   "source": [
    "#%%capture\n",
    "!apt-get install -y cuda-command-line-tools-11-1 cuda-compiler-11-1 cuda-cudart-11-1 libcudnn8=8.0.5.39-1+cuda11.1 libcudnn8-dev=8.0.5.39-1+cuda11.1"
   ]
  },
  {
   "cell_type": "code",
   "execution_count": null,
   "id": "monetary-trainer",
   "metadata": {
    "papermill": {
     "duration": null,
     "end_time": null,
     "exception": false,
     "start_time": "2021-06-04T10:30:07.920300",
     "status": "running"
    },
    "tags": []
   },
   "outputs": [],
   "source": [
    "%%capture\n",
    "!conda install cudatoolkit=11.1 pytorch"
   ]
  },
  {
   "cell_type": "code",
   "execution_count": null,
   "id": "tamil-italic",
   "metadata": {
    "execution": {
     "iopub.execute_input": "2021-05-31T13:58:07.987897Z",
     "iopub.status.busy": "2021-05-31T13:58:07.987453Z",
     "iopub.status.idle": "2021-05-31T13:58:08.000102Z",
     "shell.execute_reply": "2021-05-31T13:58:07.998923Z",
     "shell.execute_reply.started": "2021-05-31T13:58:07.987793Z"
    },
    "papermill": {
     "duration": null,
     "end_time": null,
     "exception": null,
     "start_time": null,
     "status": "pending"
    },
    "tags": []
   },
   "outputs": [],
   "source": [
    "%cd /tmp"
   ]
  },
  {
   "cell_type": "code",
   "execution_count": null,
   "id": "lonely-manitoba",
   "metadata": {
    "execution": {
     "iopub.execute_input": "2021-05-31T11:47:48.174373Z",
     "iopub.status.busy": "2021-05-31T11:47:48.173826Z",
     "iopub.status.idle": "2021-05-31T11:47:52.615118Z",
     "shell.execute_reply": "2021-05-31T11:47:52.614079Z",
     "shell.execute_reply.started": "2021-05-31T11:47:48.174342Z"
    },
    "papermill": {
     "duration": null,
     "end_time": null,
     "exception": null,
     "start_time": null,
     "status": "pending"
    },
    "tags": []
   },
   "outputs": [],
   "source": [
    "!git clone https://github.com/jimregan/fairseq/ --branch issue3581"
   ]
  },
  {
   "cell_type": "code",
   "execution_count": null,
   "id": "extraordinary-cornell",
   "metadata": {
    "execution": {
     "iopub.execute_input": "2021-05-31T13:58:08.002862Z",
     "iopub.status.busy": "2021-05-31T13:58:08.002544Z",
     "iopub.status.idle": "2021-05-31T13:58:11.998803Z",
     "shell.execute_reply": "2021-05-31T13:58:11.997716Z",
     "shell.execute_reply.started": "2021-05-31T13:58:08.002832Z"
    },
    "papermill": {
     "duration": null,
     "end_time": null,
     "exception": null,
     "start_time": null,
     "status": "pending"
    },
    "tags": []
   },
   "outputs": [],
   "source": [
    "!git clone https://github.com/kpu/kenlm"
   ]
  },
  {
   "cell_type": "code",
   "execution_count": null,
   "id": "random-madness",
   "metadata": {
    "execution": {
     "iopub.execute_input": "2021-05-31T13:58:12.001211Z",
     "iopub.status.busy": "2021-05-31T13:58:12.000794Z",
     "iopub.status.idle": "2021-05-31T13:58:18.971548Z",
     "shell.execute_reply": "2021-05-31T13:58:18.970508Z",
     "shell.execute_reply.started": "2021-05-31T13:58:12.001162Z"
    },
    "papermill": {
     "duration": null,
     "end_time": null,
     "exception": null,
     "start_time": null,
     "status": "pending"
    },
    "tags": []
   },
   "outputs": [],
   "source": [
    "%%capture\n",
    "!apt-get -y install libeigen3-dev liblzma-dev zlib1g-dev libbz2-dev"
   ]
  },
  {
   "cell_type": "code",
   "execution_count": null,
   "id": "rational-freedom",
   "metadata": {
    "papermill": {
     "duration": null,
     "end_time": null,
     "exception": null,
     "start_time": null,
     "status": "pending"
    },
    "tags": []
   },
   "outputs": [],
   "source": [
    "\n",
    "%%capture\n",
    "%cd kenlm\n",
    "!mkdir build\n",
    "%cd build\n",
    "!cmake ..\n",
    "!make -j 4\n",
    "%cd /tmp"
   ]
  },
  {
   "cell_type": "code",
   "execution_count": null,
   "id": "miniature-clothing",
   "metadata": {
    "execution": {
     "iopub.execute_input": "2021-05-31T14:00:27.91585Z",
     "iopub.status.busy": "2021-05-31T14:00:27.915496Z",
     "iopub.status.idle": "2021-05-31T14:01:06.394568Z",
     "shell.execute_reply": "2021-05-31T14:01:06.393198Z",
     "shell.execute_reply.started": "2021-05-31T14:00:27.915818Z"
    },
    "papermill": {
     "duration": null,
     "end_time": null,
     "exception": null,
     "start_time": null,
     "status": "pending"
    },
    "tags": []
   },
   "outputs": [],
   "source": [
    "%%capture\n",
    "%cd /tmp/kenlm\n",
    "!python setup.py install\n",
    "%cd /tmp"
   ]
  },
  {
   "cell_type": "code",
   "execution_count": null,
   "id": "another-marijuana",
   "metadata": {
    "execution": {
     "iopub.execute_input": "2021-05-25T22:58:58.397847Z",
     "iopub.status.busy": "2021-05-25T22:58:58.397461Z",
     "iopub.status.idle": "2021-05-25T22:58:58.402393Z",
     "shell.execute_reply": "2021-05-25T22:58:58.401536Z",
     "shell.execute_reply.started": "2021-05-25T22:58:58.397816Z"
    },
    "papermill": {
     "duration": null,
     "end_time": null,
     "exception": null,
     "start_time": null,
     "status": "pending"
    },
    "tags": []
   },
   "outputs": [],
   "source": [
    "import os\n",
    "os.environ['PATH'] = f\"{os.environ['PATH']}:/tmp/kenlm/build/bin/\"\n",
    "os.environ['FAIRSEQ_ROOT'] = '/tmp/fairseq'"
   ]
  },
  {
   "cell_type": "code",
   "execution_count": null,
   "id": "future-wallace",
   "metadata": {
    "execution": {
     "iopub.execute_input": "2021-05-31T11:51:49.832611Z",
     "iopub.status.busy": "2021-05-31T11:51:49.832055Z",
     "iopub.status.idle": "2021-05-31T11:51:49.83965Z",
     "shell.execute_reply": "2021-05-31T11:51:49.838625Z",
     "shell.execute_reply.started": "2021-05-31T11:51:49.832574Z"
    },
    "papermill": {
     "duration": null,
     "end_time": null,
     "exception": null,
     "start_time": null,
     "status": "pending"
    },
    "tags": []
   },
   "outputs": [],
   "source": [
    "%cd /tmp/fairseq/"
   ]
  },
  {
   "cell_type": "code",
   "execution_count": null,
   "id": "french-duplicate",
   "metadata": {
    "papermill": {
     "duration": null,
     "end_time": null,
     "exception": null,
     "start_time": null,
     "status": "pending"
    },
    "tags": []
   },
   "outputs": [],
   "source": [
    "%%capture\n",
    "!python setup.py install"
   ]
  },
  {
   "cell_type": "code",
   "execution_count": null,
   "id": "antique-builder",
   "metadata": {
    "papermill": {
     "duration": null,
     "end_time": null,
     "exception": null,
     "start_time": null,
     "status": "pending"
    },
    "tags": []
   },
   "outputs": [],
   "source": [
    "%cd /tmp/fairseq/"
   ]
  },
  {
   "cell_type": "code",
   "execution_count": null,
   "id": "dramatic-austin",
   "metadata": {
    "papermill": {
     "duration": null,
     "end_time": null,
     "exception": null,
     "start_time": null,
     "status": "pending"
    },
    "tags": []
   },
   "outputs": [],
   "source": [
    "os.environ['HYDRA_FULL_ERROR'] = '1'"
   ]
  },
  {
   "cell_type": "code",
   "execution_count": null,
   "id": "played-lesbian",
   "metadata": {
    "papermill": {
     "duration": null,
     "end_time": null,
     "exception": null,
     "start_time": null,
     "status": "pending"
    },
    "tags": []
   },
   "outputs": [],
   "source": [
    "%%capture\n",
    "!pip install editdistance"
   ]
  },
  {
   "cell_type": "markdown",
   "id": "false-retro",
   "metadata": {
    "papermill": {
     "duration": null,
     "end_time": null,
     "exception": null,
     "start_time": null,
     "status": "pending"
    },
    "tags": []
   },
   "source": [
    "## GAN"
   ]
  },
  {
   "cell_type": "code",
   "execution_count": null,
   "id": "dominican-pakistan",
   "metadata": {
    "papermill": {
     "duration": null,
     "end_time": null,
     "exception": null,
     "start_time": null,
     "status": "pending"
    },
    "tags": []
   },
   "outputs": [],
   "source": [
    "import torch\n",
    "torch.version.cuda"
   ]
  },
  {
   "cell_type": "code",
   "execution_count": null,
   "id": "bizarre-workplace",
   "metadata": {
    "papermill": {
     "duration": null,
     "end_time": null,
     "exception": null,
     "start_time": null,
     "status": "pending"
    },
    "tags": []
   },
   "outputs": [],
   "source": [
    "torch.backends.cudnn.version()"
   ]
  },
  {
   "cell_type": "code",
   "execution_count": null,
   "id": "likely-sheet",
   "metadata": {
    "papermill": {
     "duration": null,
     "end_time": null,
     "exception": null,
     "start_time": null,
     "status": "pending"
    },
    "tags": []
   },
   "outputs": [],
   "source": [
    "%%writefile rungan.sh\n",
    "PREFIX=w2v_unsup_gan_xp\n",
    "#TASK_DATA=/path/to/features/unfiltered/precompute_unfiltered_pca512_cls128_mean_pooled\n",
    "TASK_DATA=/kaggle/input/wav2vec-u-cv-swedish-audio/precompute_pca512_cls128_mean_pooled/\n",
    "#TEXT_DATA=/path/to/data  # path to fairseq-preprocessed GAN data\n",
    "TEXT_DATA=/kaggle/input/wav2vec-u-cv-swedish-text-prep/preppedtext/phones/\n",
    "#KENLM_PATH=/path/to/data/kenlm.phn.o4.bin  # KenLM 4-gram phoneme language model (LM data = GAN data here)\n",
    "KENLM_PATH=/kaggle/input/wav2vec-u-cv-swedish-text-prep/preppedtext/phones/lm.phones.filtered.04.bin\n",
    "\n",
    "PREFIX=$PREFIX CUDA_LAUNCH_BLOCKING=1 fairseq-hydra-train \\\n",
    "\t-m --config-dir fairseq/config/model/wav2vecu/gan \\\n",
    "\t--config-name w2vu \\\n",
    "\ttask.data=${TASK_DATA} \\\n",
    "\ttask.text_data=${TEXT_DATA} \\\n",
    "\ttask.kenlm_path=${KENLM_PATH} \\\n",
    "\tcheckpoint.no_epoch_checkpoints=false \\\n",
    "\tcheckpoint.keep_last_epochs=20 \\\n",
    "\tcheckpoint.save_dir=/kaggle/working \\\n",
    "\t'common.seed=range(0,5)'"
   ]
  },
  {
   "cell_type": "code",
   "execution_count": null,
   "id": "northern-contributor",
   "metadata": {
    "papermill": {
     "duration": null,
     "end_time": null,
     "exception": null,
     "start_time": null,
     "status": "pending"
    },
    "tags": []
   },
   "outputs": [],
   "source": [
    "!bash rungan.sh"
   ]
  }
 ],
 "metadata": {
  "kernelspec": {
   "display_name": "Python 3",
   "language": "python",
   "name": "python3"
  },
  "language_info": {
   "codemirror_mode": {
    "name": "ipython",
    "version": 3
   },
   "file_extension": ".py",
   "mimetype": "text/x-python",
   "name": "python",
   "nbconvert_exporter": "python",
   "pygments_lexer": "ipython3",
   "version": "3.6.4"
  },
  "papermill": {
   "default_parameters": {},
   "duration": null,
   "end_time": null,
   "environment_variables": {},
   "exception": null,
   "input_path": "__notebook__.ipynb",
   "output_path": "__notebook__.ipynb",
   "parameters": {},
   "start_time": "2021-06-04T10:23:15.546841",
   "version": "2.3.3"
  }
 },
 "nbformat": 4,
 "nbformat_minor": 5
}