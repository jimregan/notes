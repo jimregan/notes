{
 "cells": [
  {
   "cell_type": "markdown",
   "id": "eight-insider",
   "metadata": {
    "papermill": {
     "duration": 0.015748,
     "end_time": "2021-05-30T17:10:25.360308",
     "exception": false,
     "start_time": "2021-05-30T17:10:25.344560",
     "status": "completed"
    },
    "tags": []
   },
   "source": [
    "## Preparation"
   ]
  },
  {
   "cell_type": "code",
   "execution_count": 1,
   "id": "welcome-reaction",
   "metadata": {
    "_cell_guid": "b1076dfc-b9ad-4769-8c92-a6c4dae69d19",
    "_uuid": "8f2839f25d086af736a60e9eeb907d3b93b6e0e5",
    "execution": {
     "iopub.execute_input": "2021-05-30T17:10:25.398836Z",
     "iopub.status.busy": "2021-05-30T17:10:25.398216Z",
     "iopub.status.idle": "2021-05-30T17:10:25.405221Z",
     "shell.execute_reply": "2021-05-30T17:10:25.404075Z",
     "shell.execute_reply.started": "2021-05-25T22:46:58.262403Z"
    },
    "papermill": {
     "duration": 0.031002,
     "end_time": "2021-05-30T17:10:25.405462",
     "exception": false,
     "start_time": "2021-05-30T17:10:25.374460",
     "status": "completed"
    },
    "tags": []
   },
   "outputs": [
    {
     "name": "stdout",
     "output_type": "stream",
     "text": [
      "/opt\n"
     ]
    }
   ],
   "source": [
    "%cd /opt"
   ]
  },
  {
   "cell_type": "code",
   "execution_count": 2,
   "id": "alike-longer",
   "metadata": {
    "execution": {
     "iopub.execute_input": "2021-05-30T17:10:25.442955Z",
     "iopub.status.busy": "2021-05-30T17:10:25.442286Z",
     "iopub.status.idle": "2021-05-30T17:11:14.399404Z",
     "shell.execute_reply": "2021-05-30T17:11:14.400181Z"
    },
    "papermill": {
     "duration": 48.979542,
     "end_time": "2021-05-30T17:11:14.400719",
     "exception": false,
     "start_time": "2021-05-30T17:10:25.421177",
     "status": "completed"
    },
    "tags": []
   },
   "outputs": [],
   "source": [
    "%%capture\n",
    "!tar xvf /kaggle/input/extract-prebuilt-kaldi-from-docker/kaldi.tar"
   ]
  },
  {
   "cell_type": "code",
   "execution_count": 3,
   "id": "parental-uncle",
   "metadata": {
    "execution": {
     "iopub.execute_input": "2021-05-30T17:11:14.445139Z",
     "iopub.status.busy": "2021-05-30T17:11:14.444147Z",
     "iopub.status.idle": "2021-05-30T17:11:14.456286Z",
     "shell.execute_reply": "2021-05-30T17:11:14.455335Z"
    },
    "papermill": {
     "duration": 0.034078,
     "end_time": "2021-05-30T17:11:14.456495",
     "exception": false,
     "start_time": "2021-05-30T17:11:14.422417",
     "status": "completed"
    },
    "tags": []
   },
   "outputs": [
    {
     "name": "stdout",
     "output_type": "stream",
     "text": [
      "/tmp\n"
     ]
    }
   ],
   "source": [
    "%cd /tmp"
   ]
  },
  {
   "cell_type": "code",
   "execution_count": 4,
   "id": "narrative-median",
   "metadata": {
    "execution": {
     "iopub.execute_input": "2021-05-30T17:11:14.504105Z",
     "iopub.status.busy": "2021-05-30T17:11:14.495445Z",
     "iopub.status.idle": "2021-05-30T17:11:21.120860Z",
     "shell.execute_reply": "2021-05-30T17:11:21.120138Z",
     "shell.execute_reply.started": "2021-05-25T22:38:20.218298Z"
    },
    "papermill": {
     "duration": 6.647689,
     "end_time": "2021-05-30T17:11:21.121036",
     "exception": false,
     "start_time": "2021-05-30T17:11:14.473347",
     "status": "completed"
    },
    "tags": []
   },
   "outputs": [
    {
     "name": "stdout",
     "output_type": "stream",
     "text": [
      "Cloning into 'fairseq'...\r\n",
      "remote: Enumerating objects: 28172, done.\u001b[K\r\n",
      "remote: Counting objects: 100% (586/586), done.\u001b[K\r\n",
      "remote: Compressing objects: 100% (337/337), done.\u001b[K\r\n",
      "remote: Total 28172 (delta 308), reused 464 (delta 236), pack-reused 27586\u001b[K\r\n",
      "Receiving objects: 100% (28172/28172), 11.87 MiB | 8.36 MiB/s, done.\r\n",
      "Resolving deltas: 100% (21131/21131), done.\r\n"
     ]
    }
   ],
   "source": [
    "!git clone https://github.com/pytorch/fairseq/"
   ]
  },
  {
   "cell_type": "code",
   "execution_count": 5,
   "id": "addressed-corporation",
   "metadata": {
    "execution": {
     "iopub.execute_input": "2021-05-30T17:11:21.185133Z",
     "iopub.status.busy": "2021-05-30T17:11:21.183436Z",
     "iopub.status.idle": "2021-05-30T17:12:30.004408Z",
     "shell.execute_reply": "2021-05-30T17:12:30.003790Z"
    },
    "papermill": {
     "duration": 68.855767,
     "end_time": "2021-05-30T17:12:30.004605",
     "exception": false,
     "start_time": "2021-05-30T17:11:21.148838",
     "status": "completed"
    },
    "tags": []
   },
   "outputs": [],
   "source": [
    "%%capture\n",
    "!pip install git+https://github.com/pytorch/fairseq/"
   ]
  },
  {
   "cell_type": "code",
   "execution_count": 6,
   "id": "faced-screening",
   "metadata": {
    "execution": {
     "iopub.execute_input": "2021-05-30T17:12:30.063833Z",
     "iopub.status.busy": "2021-05-30T17:12:30.063183Z",
     "iopub.status.idle": "2021-05-30T17:12:33.876734Z",
     "shell.execute_reply": "2021-05-30T17:12:33.876152Z",
     "shell.execute_reply.started": "2021-05-25T22:47:02.096238Z"
    },
    "papermill": {
     "duration": 3.845353,
     "end_time": "2021-05-30T17:12:33.876918",
     "exception": false,
     "start_time": "2021-05-30T17:12:30.031565",
     "status": "completed"
    },
    "tags": []
   },
   "outputs": [
    {
     "name": "stdout",
     "output_type": "stream",
     "text": [
      "Cloning into 'kenlm'...\r\n",
      "remote: Enumerating objects: 13824, done.\u001b[K\r\n",
      "remote: Counting objects: 100% (137/137), done.\u001b[K\r\n",
      "remote: Compressing objects: 100% (79/79), done.\u001b[K\r\n",
      "remote: Total 13824 (delta 76), reused 92 (delta 45), pack-reused 13687\u001b[K\r\n",
      "Receiving objects: 100% (13824/13824), 5.49 MiB | 4.34 MiB/s, done.\r\n",
      "Resolving deltas: 100% (7956/7956), done.\r\n"
     ]
    }
   ],
   "source": [
    "!git clone https://github.com/kpu/kenlm"
   ]
  },
  {
   "cell_type": "code",
   "execution_count": 7,
   "id": "bibliographic-leather",
   "metadata": {
    "execution": {
     "iopub.execute_input": "2021-05-30T17:12:33.952387Z",
     "iopub.status.busy": "2021-05-30T17:12:33.951766Z",
     "iopub.status.idle": "2021-05-30T17:12:40.956459Z",
     "shell.execute_reply": "2021-05-30T17:12:40.956956Z"
    },
    "papermill": {
     "duration": 7.048286,
     "end_time": "2021-05-30T17:12:40.957167",
     "exception": false,
     "start_time": "2021-05-30T17:12:33.908881",
     "status": "completed"
    },
    "tags": []
   },
   "outputs": [],
   "source": [
    "%%capture\n",
    "!apt-get -y install libeigen3-dev liblzma-dev zlib1g-dev libbz2-dev"
   ]
  },
  {
   "cell_type": "code",
   "execution_count": 8,
   "id": "hired-praise",
   "metadata": {
    "execution": {
     "iopub.execute_input": "2021-05-30T17:12:41.034287Z",
     "iopub.status.busy": "2021-05-30T17:12:41.033392Z",
     "iopub.status.idle": "2021-05-30T17:13:56.157178Z",
     "shell.execute_reply": "2021-05-30T17:13:56.156077Z"
    },
    "papermill": {
     "duration": 75.16696,
     "end_time": "2021-05-30T17:13:56.157437",
     "exception": false,
     "start_time": "2021-05-30T17:12:40.990477",
     "status": "completed"
    },
    "tags": []
   },
   "outputs": [],
   "source": [
    "%%capture\n",
    "%cd kenlm\n",
    "!mkdir build\n",
    "%cd build\n",
    "!cmake ..\n",
    "!make -j 4\n",
    "%cd /tmp"
   ]
  },
  {
   "cell_type": "code",
   "execution_count": 9,
   "id": "coated-mexico",
   "metadata": {
    "execution": {
     "iopub.execute_input": "2021-05-30T17:13:56.234779Z",
     "iopub.status.busy": "2021-05-30T17:13:56.233622Z",
     "iopub.status.idle": "2021-05-30T17:13:56.236883Z",
     "shell.execute_reply": "2021-05-30T17:13:56.236299Z",
     "shell.execute_reply.started": "2021-05-25T22:58:58.397816Z"
    },
    "papermill": {
     "duration": 0.041843,
     "end_time": "2021-05-30T17:13:56.237029",
     "exception": false,
     "start_time": "2021-05-30T17:13:56.195186",
     "status": "completed"
    },
    "tags": []
   },
   "outputs": [],
   "source": [
    "import os\n",
    "os.environ['PATH'] = f\"{os.environ['PATH']}:/tmp/kenlm/build/bin/\"\n",
    "os.environ['FAIRSEQ_ROOT'] = '/tmp/fairseq'"
   ]
  },
  {
   "cell_type": "code",
   "execution_count": 10,
   "id": "answering-bridges",
   "metadata": {
    "execution": {
     "iopub.execute_input": "2021-05-30T17:13:56.308147Z",
     "iopub.status.busy": "2021-05-30T17:13:56.307230Z",
     "iopub.status.idle": "2021-05-30T17:13:56.312689Z",
     "shell.execute_reply": "2021-05-30T17:13:56.313646Z",
     "shell.execute_reply.started": "2021-05-25T22:55:38.373919Z"
    },
    "papermill": {
     "duration": 0.044461,
     "end_time": "2021-05-30T17:13:56.313925",
     "exception": false,
     "start_time": "2021-05-30T17:13:56.269464",
     "status": "completed"
    },
    "tags": []
   },
   "outputs": [
    {
     "name": "stdout",
     "output_type": "stream",
     "text": [
      "/tmp/fairseq/examples/wav2vec/unsupervised\n"
     ]
    }
   ],
   "source": [
    "%cd fairseq/examples/wav2vec/unsupervised"
   ]
  },
  {
   "cell_type": "code",
   "execution_count": 11,
   "id": "expired-nerve",
   "metadata": {
    "execution": {
     "iopub.execute_input": "2021-05-30T17:13:56.416002Z",
     "iopub.status.busy": "2021-05-30T17:13:56.415324Z",
     "iopub.status.idle": "2021-05-30T17:13:56.420136Z",
     "shell.execute_reply": "2021-05-30T17:13:56.419226Z"
    },
    "papermill": {
     "duration": 0.055974,
     "end_time": "2021-05-30T17:13:56.420335",
     "exception": false,
     "start_time": "2021-05-30T17:13:56.364361",
     "status": "completed"
    },
    "tags": []
   },
   "outputs": [],
   "source": [
    "# Needed to see what's going wrong\n",
    "os.environ['HYDRA_FULL_ERROR'] = '1'"
   ]
  },
  {
   "cell_type": "code",
   "execution_count": 12,
   "id": "controlled-dublin",
   "metadata": {
    "execution": {
     "iopub.execute_input": "2021-05-30T17:13:56.498132Z",
     "iopub.status.busy": "2021-05-30T17:13:56.497161Z",
     "iopub.status.idle": "2021-05-30T17:13:56.499506Z",
     "shell.execute_reply": "2021-05-30T17:13:56.500031Z"
    },
    "papermill": {
     "duration": 0.039951,
     "end_time": "2021-05-30T17:13:56.500186",
     "exception": false,
     "start_time": "2021-05-30T17:13:56.460235",
     "status": "completed"
    },
    "tags": []
   },
   "outputs": [],
   "source": [
    "import os\n",
    "os.environ['LD_LIBRARY_PATH'] = '/opt/conda/lib:/opt/kaldi/tools/openfst-1.6.7/lib:/opt/kaldi/src/lib'"
   ]
  },
  {
   "cell_type": "markdown",
   "id": "primary-witness",
   "metadata": {
    "papermill": {
     "duration": 0.032848,
     "end_time": "2021-05-30T17:13:56.565464",
     "exception": false,
     "start_time": "2021-05-30T17:13:56.532616",
     "status": "completed"
    },
    "tags": []
   },
   "source": [
    "## GAN"
   ]
  },
  {
   "cell_type": "code",
   "execution_count": 13,
   "id": "initial-scheme",
   "metadata": {
    "execution": {
     "iopub.execute_input": "2021-05-30T17:13:56.634283Z",
     "iopub.status.busy": "2021-05-30T17:13:56.633364Z",
     "iopub.status.idle": "2021-05-30T17:13:57.375769Z",
     "shell.execute_reply": "2021-05-30T17:13:57.375100Z",
     "shell.execute_reply.started": "2021-05-30T16:46:39.899633Z"
    },
    "papermill": {
     "duration": 0.777806,
     "end_time": "2021-05-30T17:13:57.375945",
     "exception": false,
     "start_time": "2021-05-30T17:13:56.598139",
     "status": "completed"
    },
    "tags": []
   },
   "outputs": [
    {
     "name": "stdout",
     "output_type": "stream",
     "text": [
      "CLUS128\t\t    precompute_pca512_cls128_mean\t  train.npy\r\n",
      "__notebook__.ipynb  precompute_pca512_cls128_mean_pooled  train.phn\r\n",
      "__output__.json     test.lengths\t\t\t  train.tsv\r\n",
      "__results__.html    test.ltr\t\t\t\t  train.wrd\r\n",
      "custom.css\t    test.npy\t\t\t\t  valid.lengths\r\n",
      "dict.test\t    test.phn\t\t\t\t  valid.ltr\r\n",
      "dict.train\t    test.tsv\t\t\t\t  valid.npy\r\n",
      "dict.valid\t    test.wrd\t\t\t\t  valid.phn\r\n",
      "pca\t\t    train.lengths\t\t\t  valid.tsv\r\n",
      "precompute_pca512   train.ltr\t\t\t\t  valid.wrd\r\n"
     ]
    }
   ],
   "source": [
    "!ls /kaggle/input/wav2vec-u-cv-swedish-audio/"
   ]
  },
  {
   "cell_type": "code",
   "execution_count": 14,
   "id": "attractive-lancaster",
   "metadata": {
    "execution": {
     "iopub.execute_input": "2021-05-30T17:13:57.450242Z",
     "iopub.status.busy": "2021-05-30T17:13:57.449615Z",
     "iopub.status.idle": "2021-05-30T17:13:58.267422Z",
     "shell.execute_reply": "2021-05-30T17:13:58.266841Z",
     "shell.execute_reply.started": "2021-05-30T16:48:08.968025Z"
    },
    "papermill": {
     "duration": 0.85738,
     "end_time": "2021-05-30T17:13:58.267564",
     "exception": false,
     "start_time": "2021-05-30T17:13:57.410184",
     "status": "completed"
    },
    "tags": []
   },
   "outputs": [
    {
     "name": "stdout",
     "output_type": "stream",
     "text": [
      "/kaggle/input/wav2vec-u-cv-swedish-text-prep/preppedtext/phones/train.bin\r\n",
      "/kaggle/input/wav2vec-u-cv-swedish-text-prep/preppedtext/phones/lm.phones.filtered.04.bin\r\n",
      "/kaggle/input/wav2vec-u-cv-swedish-text-prep/preppedtext/phones/lm.phones.filtered.06.bin\r\n",
      "/kaggle/input/wav2vec-u-cv-swedish-text-prep/preppedtext/kenlm.wrd.o40003.bin\r\n"
     ]
    }
   ],
   "source": [
    "!find /kaggle/input/wav2vec-u-cv-swedish-text-prep/preppedtext/ -name '*.bin'"
   ]
  },
  {
   "cell_type": "code",
   "execution_count": 15,
   "id": "convertible-exhibition",
   "metadata": {
    "execution": {
     "iopub.execute_input": "2021-05-30T17:13:58.344462Z",
     "iopub.status.busy": "2021-05-30T17:13:58.340496Z",
     "iopub.status.idle": "2021-05-30T17:13:59.068644Z",
     "shell.execute_reply": "2021-05-30T17:13:59.068083Z",
     "shell.execute_reply.started": "2021-05-30T16:54:05.686006Z"
    },
    "papermill": {
     "duration": 0.767513,
     "end_time": "2021-05-30T17:13:59.068805",
     "exception": false,
     "start_time": "2021-05-30T17:13:58.301292",
     "status": "completed"
    },
    "tags": []
   },
   "outputs": [
    {
     "name": "stdout",
     "output_type": "stream",
     "text": [
      "/kaggle/input/wav2vec-u-cv-swedish-text-prep/preppedtext/phones/dict.txt\r\n"
     ]
    }
   ],
   "source": [
    "!find /kaggle/input/wav2vec-u-cv-swedish-text-prep/preppedtext/ -name 'dict.txt'"
   ]
  },
  {
   "cell_type": "code",
   "execution_count": 16,
   "id": "partial-victim",
   "metadata": {
    "execution": {
     "iopub.execute_input": "2021-05-30T17:13:59.145071Z",
     "iopub.status.busy": "2021-05-30T17:13:59.144411Z",
     "iopub.status.idle": "2021-05-30T17:13:59.149786Z",
     "shell.execute_reply": "2021-05-30T17:13:59.149036Z"
    },
    "papermill": {
     "duration": 0.047301,
     "end_time": "2021-05-30T17:13:59.149995",
     "exception": false,
     "start_time": "2021-05-30T17:13:59.102694",
     "status": "completed"
    },
    "tags": []
   },
   "outputs": [
    {
     "name": "stdout",
     "output_type": "stream",
     "text": [
      "Writing rungan.sh\n"
     ]
    }
   ],
   "source": [
    "%%writefile rungan.sh\n",
    "PREFIX=w2v_unsup_gan_xp\n",
    "#TASK_DATA=/path/to/features/unfiltered/precompute_unfiltered_pca512_cls128_mean_pooled\n",
    "TASK_DATA=/kaggle/input/wav2vec-u-cv-swedish-audio/precompute_pca512_cls128_mean_pooled/\n",
    "#TEXT_DATA=/path/to/data  # path to fairseq-preprocessed GAN data\n",
    "TEXT_DATA=/kaggle/input/wav2vec-u-cv-swedish-text-prep/preppedtext/phones/\n",
    "#KENLM_PATH=/path/to/data/kenlm.phn.o4.bin  # KenLM 4-gram phoneme language model (LM data = GAN data here)\n",
    "KENLM_PATH=/kaggle/input/wav2vec-u-cv-swedish-text-prep/preppedtext/phones/lm.phones.filtered.04.bin\n",
    "\n",
    "PREFIX=$PREFIX fairseq-hydra-train \\\n",
    "\t-m --config-dir config/gan \\\n",
    "\t--config-name w2vu \\\n",
    "\ttask.name=unpaired_audio_text \\\n",
    "\ttask.data=${TASK_DATA} \\\n",
    "\ttask.text_data=${TEXT_DATA} \\\n",
    "\ttask.kenlm_path=${KENLM_PATH} \\\n",
    "\t'common.seed=range(0,5)'"
   ]
  },
  {
   "cell_type": "code",
   "execution_count": 17,
   "id": "grave-allowance",
   "metadata": {
    "execution": {
     "iopub.execute_input": "2021-05-30T17:13:59.228617Z",
     "iopub.status.busy": "2021-05-30T17:13:59.224373Z",
     "iopub.status.idle": "2021-05-30T17:14:07.852805Z",
     "shell.execute_reply": "2021-05-30T17:14:07.852123Z"
    },
    "papermill": {
     "duration": 8.668059,
     "end_time": "2021-05-30T17:14:07.852982",
     "exception": false,
     "start_time": "2021-05-30T17:13:59.184923",
     "status": "completed"
    },
    "tags": []
   },
   "outputs": [
    {
     "name": "stdout",
     "output_type": "stream",
     "text": [
      "Traceback (most recent call last):\r\n",
      "  File \"/opt/conda/lib/python3.7/site-packages/hydra/_internal/config_loader_impl.py\", line 513, in _apply_overrides_to_config\r\n",
      "    OmegaConf.update(cfg, key, value, merge=True)\r\n",
      "  File \"/opt/conda/lib/python3.7/site-packages/omegaconf/omegaconf.py\", line 613, in update\r\n",
      "    root.__setattr__(last_key, value)\r\n",
      "  File \"/opt/conda/lib/python3.7/site-packages/omegaconf/dictconfig.py\", line 285, in __setattr__\r\n",
      "    raise e\r\n",
      "  File \"/opt/conda/lib/python3.7/site-packages/omegaconf/dictconfig.py\", line 282, in __setattr__\r\n",
      "    self.__set_impl(key, value)\r\n",
      "  File \"/opt/conda/lib/python3.7/site-packages/omegaconf/dictconfig.py\", line 266, in __set_impl\r\n",
      "    self._set_item_impl(key, value)\r\n",
      "  File \"/opt/conda/lib/python3.7/site-packages/omegaconf/basecontainer.py\", line 398, in _set_item_impl\r\n",
      "    self._validate_set(key, value)\r\n",
      "  File \"/opt/conda/lib/python3.7/site-packages/omegaconf/dictconfig.py\", line 143, in _validate_set\r\n",
      "    self._validate_set_merge_impl(key, value, is_assign=True)\r\n",
      "  File \"/opt/conda/lib/python3.7/site-packages/omegaconf/dictconfig.py\", line 176, in _validate_set_merge_impl\r\n",
      "    target = self._get_node(key)\r\n",
      "  File \"/opt/conda/lib/python3.7/site-packages/omegaconf/dictconfig.py\", line 383, in _get_node\r\n",
      "    self._validate_get(key)\r\n",
      "  File \"/opt/conda/lib/python3.7/site-packages/omegaconf/dictconfig.py\", line 136, in _validate_get\r\n",
      "    key=key, value=value, cause=ConfigAttributeError(msg)\r\n",
      "  File \"/opt/conda/lib/python3.7/site-packages/omegaconf/base.py\", line 101, in _format_and_raise\r\n",
      "    type_override=type_override,\r\n",
      "  File \"/opt/conda/lib/python3.7/site-packages/omegaconf/_utils.py\", line 694, in format_and_raise\r\n",
      "    _raise(ex, cause)\r\n",
      "  File \"/opt/conda/lib/python3.7/site-packages/omegaconf/_utils.py\", line 610, in _raise\r\n",
      "    raise ex  # set end OC_CAUSE=1 for full backtrace\r\n",
      "omegaconf.errors.ConfigAttributeError: Key 'name' is not in struct\r\n",
      "\tfull_key: task.name\r\n",
      "\treference_type=Any\r\n",
      "\tobject_type=dict\r\n",
      "\r\n",
      "The above exception was the direct cause of the following exception:\r\n",
      "\r\n",
      "Traceback (most recent call last):\r\n",
      "  File \"/opt/conda/bin/fairseq-hydra-train\", line 8, in <module>\r\n",
      "    sys.exit(cli_main())\r\n",
      "  File \"/opt/conda/lib/python3.7/site-packages/fairseq_cli/hydra_train.py\", line 76, in cli_main\r\n",
      "    hydra_main()\r\n",
      "  File \"/opt/conda/lib/python3.7/site-packages/hydra/main.py\", line 37, in decorated_main\r\n",
      "    strict=strict,\r\n",
      "  File \"/opt/conda/lib/python3.7/site-packages/hydra/_internal/utils.py\", line 355, in _run_hydra\r\n",
      "    lambda: hydra.multirun(\r\n",
      "  File \"/opt/conda/lib/python3.7/site-packages/hydra/_internal/utils.py\", line 201, in run_and_report\r\n",
      "    raise ex\r\n",
      "  File \"/opt/conda/lib/python3.7/site-packages/hydra/_internal/utils.py\", line 198, in run_and_report\r\n",
      "    return func()\r\n",
      "  File \"/opt/conda/lib/python3.7/site-packages/hydra/_internal/utils.py\", line 358, in <lambda>\r\n",
      "    overrides=args.overrides,\r\n",
      "  File \"/opt/conda/lib/python3.7/site-packages/hydra/_internal/hydra.py\", line 136, in multirun\r\n",
      "    return sweeper.sweep(arguments=task_overrides)\r\n",
      "  File \"/opt/conda/lib/python3.7/site-packages/hydra/_internal/core_plugins/basic_sweeper.py\", line 149, in sweep\r\n",
      "    self.validate_batch_is_legal(batch)\r\n",
      "  File \"/opt/conda/lib/python3.7/site-packages/hydra/plugins/sweeper.py\", line 57, in validate_batch_is_legal\r\n",
      "    master_config=self.config, sweep_overrides=list(overrides)\r\n",
      "  File \"/opt/conda/lib/python3.7/site-packages/hydra/_internal/config_loader_impl.py\", line 314, in load_sweep_config\r\n",
      "    run_mode=RunMode.RUN,\r\n",
      "  File \"/opt/conda/lib/python3.7/site-packages/hydra/_internal/config_loader_impl.py\", line 156, in load_configuration\r\n",
      "    from_shell=from_shell,\r\n",
      "  File \"/opt/conda/lib/python3.7/site-packages/hydra/_internal/config_loader_impl.py\", line 277, in _load_configuration\r\n",
      "    ConfigLoaderImpl._apply_overrides_to_config(config_overrides, cfg)\r\n",
      "  File \"/opt/conda/lib/python3.7/site-packages/hydra/_internal/config_loader_impl.py\", line 518, in _apply_overrides_to_config\r\n",
      "    ) from ex\r\n",
      "hydra.errors.ConfigCompositionException: Could not override 'task.name'.\r\n",
      "To append to your config use +task.name=unpaired_audio_text\r\n"
     ]
    }
   ],
   "source": [
    "!bash rungan.sh"
   ]
  }
 ],
 "metadata": {
  "kernelspec": {
   "display_name": "Python 3",
   "language": "python",
   "name": "python3"
  },
  "language_info": {
   "codemirror_mode": {
    "name": "ipython",
    "version": 3
   },
   "file_extension": ".py",
   "mimetype": "text/x-python",
   "name": "python",
   "nbconvert_exporter": "python",
   "pygments_lexer": "ipython3",
   "version": "3.7.10"
  },
  "papermill": {
   "default_parameters": {},
   "duration": 231.949717,
   "end_time": "2021-05-30T17:14:09.241243",
   "environment_variables": {},
   "exception": null,
   "input_path": "__notebook__.ipynb",
   "output_path": "__notebook__.ipynb",
   "parameters": {},
   "start_time": "2021-05-30T17:10:17.291526",
   "version": "2.3.3"
  }
 },
 "nbformat": 4,
 "nbformat_minor": 5
}
