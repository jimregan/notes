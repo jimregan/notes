{
 "cells": [
  {
   "cell_type": "markdown",
   "id": "domestic-movie",
   "metadata": {
    "papermill": {
     "duration": 0.016335,
     "end_time": "2021-06-03T15:19:13.089891",
     "exception": false,
     "start_time": "2021-06-03T15:19:13.073556",
     "status": "completed"
    },
    "tags": []
   },
   "source": [
    "## Preparation"
   ]
  },
  {
   "cell_type": "code",
   "execution_count": 1,
   "id": "stupid-aside",
   "metadata": {
    "_cell_guid": "b1076dfc-b9ad-4769-8c92-a6c4dae69d19",
    "_uuid": "8f2839f25d086af736a60e9eeb907d3b93b6e0e5",
    "execution": {
     "iopub.execute_input": "2021-06-03T15:19:13.126997Z",
     "iopub.status.busy": "2021-06-03T15:19:13.124952Z",
     "iopub.status.idle": "2021-06-03T15:23:40.694189Z",
     "shell.execute_reply": "2021-06-03T15:23:40.693031Z",
     "shell.execute_reply.started": "2021-05-31T11:43:46.770364Z"
    },
    "papermill": {
     "duration": 267.589135,
     "end_time": "2021-06-03T15:23:40.694376",
     "exception": false,
     "start_time": "2021-06-03T15:19:13.105241",
     "status": "completed"
    },
    "tags": []
   },
   "outputs": [],
   "source": [
    "%%capture\n",
    "!conda install -c pykaldi pykaldi -y"
   ]
  },
  {
   "cell_type": "code",
   "execution_count": 2,
   "id": "dominican-telescope",
   "metadata": {
    "execution": {
     "iopub.execute_input": "2021-06-03T15:23:40.733464Z",
     "iopub.status.busy": "2021-06-03T15:23:40.731851Z",
     "iopub.status.idle": "2021-06-03T15:23:40.736769Z",
     "shell.execute_reply": "2021-06-03T15:23:40.737627Z",
     "shell.execute_reply.started": "2021-05-31T13:58:07.987793Z"
    },
    "papermill": {
     "duration": 0.028431,
     "end_time": "2021-06-03T15:23:40.737861",
     "exception": false,
     "start_time": "2021-06-03T15:23:40.709430",
     "status": "completed"
    },
    "tags": []
   },
   "outputs": [
    {
     "name": "stdout",
     "output_type": "stream",
     "text": [
      "/tmp\n"
     ]
    }
   ],
   "source": [
    "%cd /tmp"
   ]
  },
  {
   "cell_type": "code",
   "execution_count": 3,
   "id": "faced-dodge",
   "metadata": {
    "execution": {
     "iopub.execute_input": "2021-06-03T15:23:40.774606Z",
     "iopub.status.busy": "2021-06-03T15:23:40.773729Z",
     "iopub.status.idle": "2021-06-03T15:23:44.421354Z",
     "shell.execute_reply": "2021-06-03T15:23:44.420642Z",
     "shell.execute_reply.started": "2021-05-31T11:47:48.174342Z"
    },
    "papermill": {
     "duration": 3.666516,
     "end_time": "2021-06-03T15:23:44.421497",
     "exception": false,
     "start_time": "2021-06-03T15:23:40.754981",
     "status": "completed"
    },
    "tags": []
   },
   "outputs": [
    {
     "name": "stdout",
     "output_type": "stream",
     "text": [
      "Cloning into 'fairseq'...\r\n",
      "remote: Enumerating objects: 28296, done.\u001b[K\r\n",
      "remote: Total 28296 (delta 0), reused 0 (delta 0), pack-reused 28296\u001b[K\r\n",
      "Receiving objects: 100% (28296/28296), 11.79 MiB | 12.05 MiB/s, done.\r\n",
      "Resolving deltas: 100% (21294/21294), done.\r\n"
     ]
    }
   ],
   "source": [
    "!git clone https://github.com/jimregan/fairseq/ --branch issue3581"
   ]
  },
  {
   "cell_type": "code",
   "execution_count": 4,
   "id": "steady-detector",
   "metadata": {
    "execution": {
     "iopub.execute_input": "2021-06-03T15:23:44.481312Z",
     "iopub.status.busy": "2021-06-03T15:23:44.476811Z",
     "iopub.status.idle": "2021-06-03T15:23:47.079922Z",
     "shell.execute_reply": "2021-06-03T15:23:47.078959Z",
     "shell.execute_reply.started": "2021-05-31T13:58:08.002832Z"
    },
    "papermill": {
     "duration": 2.633402,
     "end_time": "2021-06-03T15:23:47.080068",
     "exception": false,
     "start_time": "2021-06-03T15:23:44.446666",
     "status": "completed"
    },
    "tags": []
   },
   "outputs": [
    {
     "name": "stdout",
     "output_type": "stream",
     "text": [
      "Cloning into 'kenlm'...\r\n",
      "remote: Enumerating objects: 13824, done.\u001b[K\r\n",
      "remote: Counting objects: 100% (137/137), done.\u001b[K\r\n",
      "remote: Compressing objects: 100% (79/79), done.\u001b[K\r\n",
      "remote: Total 13824 (delta 76), reused 92 (delta 45), pack-reused 13687\u001b[K\r\n",
      "Receiving objects: 100% (13824/13824), 5.49 MiB | 8.43 MiB/s, done.\r\n",
      "Resolving deltas: 100% (7956/7956), done.\r\n"
     ]
    }
   ],
   "source": [
    "!git clone https://github.com/kpu/kenlm"
   ]
  },
  {
   "cell_type": "code",
   "execution_count": 5,
   "id": "laughing-romantic",
   "metadata": {
    "execution": {
     "iopub.execute_input": "2021-06-03T15:23:47.198765Z",
     "iopub.status.busy": "2021-06-03T15:23:47.197435Z",
     "iopub.status.idle": "2021-06-03T15:23:53.920645Z",
     "shell.execute_reply": "2021-06-03T15:23:53.919591Z",
     "shell.execute_reply.started": "2021-05-31T13:58:12.001162Z"
    },
    "papermill": {
     "duration": 6.783327,
     "end_time": "2021-06-03T15:23:53.920814",
     "exception": false,
     "start_time": "2021-06-03T15:23:47.137487",
     "status": "completed"
    },
    "tags": []
   },
   "outputs": [],
   "source": [
    "%%capture\n",
    "!apt-get -y install libeigen3-dev liblzma-dev zlib1g-dev libbz2-dev"
   ]
  },
  {
   "cell_type": "code",
   "execution_count": 6,
   "id": "competitive-luther",
   "metadata": {
    "execution": {
     "iopub.execute_input": "2021-06-03T15:23:53.993219Z",
     "iopub.status.busy": "2021-06-03T15:23:53.992577Z",
     "iopub.status.idle": "2021-06-03T15:26:22.786089Z",
     "shell.execute_reply": "2021-06-03T15:26:22.785415Z"
    },
    "papermill": {
     "duration": 148.832798,
     "end_time": "2021-06-03T15:26:22.786258",
     "exception": false,
     "start_time": "2021-06-03T15:23:53.953460",
     "status": "completed"
    },
    "tags": []
   },
   "outputs": [],
   "source": [
    "\n",
    "%%capture\n",
    "%cd kenlm\n",
    "!mkdir build\n",
    "%cd build\n",
    "!cmake ..\n",
    "!make -j 4\n",
    "%cd /tmp"
   ]
  },
  {
   "cell_type": "code",
   "execution_count": 7,
   "id": "removable-cyprus",
   "metadata": {
    "execution": {
     "iopub.execute_input": "2021-06-03T15:26:22.859225Z",
     "iopub.status.busy": "2021-06-03T15:26:22.858127Z",
     "iopub.status.idle": "2021-06-03T15:27:03.996732Z",
     "shell.execute_reply": "2021-06-03T15:27:03.995723Z",
     "shell.execute_reply.started": "2021-05-31T14:00:27.915818Z"
    },
    "papermill": {
     "duration": 41.177894,
     "end_time": "2021-06-03T15:27:03.996889",
     "exception": false,
     "start_time": "2021-06-03T15:26:22.818995",
     "status": "completed"
    },
    "tags": []
   },
   "outputs": [],
   "source": [
    "%%capture\n",
    "%cd /tmp/kenlm\n",
    "!python setup.py install\n",
    "%cd /tmp"
   ]
  },
  {
   "cell_type": "code",
   "execution_count": 8,
   "id": "protected-appointment",
   "metadata": {
    "execution": {
     "iopub.execute_input": "2021-06-03T15:27:04.067330Z",
     "iopub.status.busy": "2021-06-03T15:27:04.066122Z",
     "iopub.status.idle": "2021-06-03T15:27:04.069802Z",
     "shell.execute_reply": "2021-06-03T15:27:04.069203Z",
     "shell.execute_reply.started": "2021-05-25T22:58:58.397816Z"
    },
    "papermill": {
     "duration": 0.040437,
     "end_time": "2021-06-03T15:27:04.069964",
     "exception": false,
     "start_time": "2021-06-03T15:27:04.029527",
     "status": "completed"
    },
    "tags": []
   },
   "outputs": [],
   "source": [
    "import os\n",
    "os.environ['PATH'] = f\"{os.environ['PATH']}:/tmp/kenlm/build/bin/\"\n",
    "os.environ['FAIRSEQ_ROOT'] = '/tmp/fairseq'"
   ]
  },
  {
   "cell_type": "code",
   "execution_count": 9,
   "id": "intellectual-salmon",
   "metadata": {
    "execution": {
     "iopub.execute_input": "2021-06-03T15:27:04.136087Z",
     "iopub.status.busy": "2021-06-03T15:27:04.134732Z",
     "iopub.status.idle": "2021-06-03T15:27:04.140475Z",
     "shell.execute_reply": "2021-06-03T15:27:04.141436Z",
     "shell.execute_reply.started": "2021-05-31T11:51:49.832574Z"
    },
    "papermill": {
     "duration": 0.041432,
     "end_time": "2021-06-03T15:27:04.141647",
     "exception": false,
     "start_time": "2021-06-03T15:27:04.100215",
     "status": "completed"
    },
    "tags": []
   },
   "outputs": [
    {
     "name": "stdout",
     "output_type": "stream",
     "text": [
      "/tmp/fairseq\n"
     ]
    }
   ],
   "source": [
    "%cd /tmp/fairseq/"
   ]
  },
  {
   "cell_type": "code",
   "execution_count": 10,
   "id": "surprising-chassis",
   "metadata": {
    "execution": {
     "iopub.execute_input": "2021-06-03T15:27:04.215560Z",
     "iopub.status.busy": "2021-06-03T15:27:04.214529Z",
     "iopub.status.idle": "2021-06-03T15:28:23.477474Z",
     "shell.execute_reply": "2021-06-03T15:28:23.476910Z"
    },
    "papermill": {
     "duration": 79.304052,
     "end_time": "2021-06-03T15:28:23.477655",
     "exception": false,
     "start_time": "2021-06-03T15:27:04.173603",
     "status": "completed"
    },
    "tags": []
   },
   "outputs": [],
   "source": [
    "%%capture\n",
    "!python setup.py install"
   ]
  },
  {
   "cell_type": "code",
   "execution_count": 11,
   "id": "clean-married",
   "metadata": {
    "execution": {
     "iopub.execute_input": "2021-06-03T15:28:23.549356Z",
     "iopub.status.busy": "2021-06-03T15:28:23.548256Z",
     "iopub.status.idle": "2021-06-03T15:28:23.556003Z",
     "shell.execute_reply": "2021-06-03T15:28:23.555169Z"
    },
    "papermill": {
     "duration": 0.047499,
     "end_time": "2021-06-03T15:28:23.556178",
     "exception": false,
     "start_time": "2021-06-03T15:28:23.508679",
     "status": "completed"
    },
    "tags": []
   },
   "outputs": [
    {
     "name": "stdout",
     "output_type": "stream",
     "text": [
      "/tmp/fairseq\n"
     ]
    }
   ],
   "source": [
    "%cd /tmp/fairseq/"
   ]
  },
  {
   "cell_type": "code",
   "execution_count": 12,
   "id": "civic-arkansas",
   "metadata": {
    "execution": {
     "iopub.execute_input": "2021-06-03T15:28:23.630738Z",
     "iopub.status.busy": "2021-06-03T15:28:23.629700Z",
     "iopub.status.idle": "2021-06-03T15:28:23.633584Z",
     "shell.execute_reply": "2021-06-03T15:28:23.633081Z"
    },
    "papermill": {
     "duration": 0.042068,
     "end_time": "2021-06-03T15:28:23.633723",
     "exception": false,
     "start_time": "2021-06-03T15:28:23.591655",
     "status": "completed"
    },
    "tags": []
   },
   "outputs": [],
   "source": [
    "os.environ['HYDRA_FULL_ERROR'] = '1'"
   ]
  },
  {
   "cell_type": "code",
   "execution_count": 13,
   "id": "bright-ceiling",
   "metadata": {
    "execution": {
     "iopub.execute_input": "2021-06-03T15:28:23.711221Z",
     "iopub.status.busy": "2021-06-03T15:28:23.710362Z",
     "iopub.status.idle": "2021-06-03T15:28:33.211246Z",
     "shell.execute_reply": "2021-06-03T15:28:33.209928Z"
    },
    "papermill": {
     "duration": 9.54379,
     "end_time": "2021-06-03T15:28:33.211390",
     "exception": false,
     "start_time": "2021-06-03T15:28:23.667600",
     "status": "completed"
    },
    "tags": []
   },
   "outputs": [],
   "source": [
    "%%capture\n",
    "!pip install editdistance"
   ]
  },
  {
   "cell_type": "markdown",
   "id": "prospective-appointment",
   "metadata": {
    "papermill": {
     "duration": 0.03226,
     "end_time": "2021-06-03T15:28:33.275915",
     "exception": false,
     "start_time": "2021-06-03T15:28:33.243655",
     "status": "completed"
    },
    "tags": []
   },
   "source": [
    "## GAN"
   ]
  },
  {
   "cell_type": "code",
   "execution_count": 14,
   "id": "industrial-tyler",
   "metadata": {
    "execution": {
     "iopub.execute_input": "2021-06-03T15:28:33.348040Z",
     "iopub.status.busy": "2021-06-03T15:28:33.346950Z",
     "iopub.status.idle": "2021-06-03T15:28:33.737987Z",
     "shell.execute_reply": "2021-06-03T15:28:33.737421Z"
    },
    "papermill": {
     "duration": 0.430589,
     "end_time": "2021-06-03T15:28:33.738137",
     "exception": false,
     "start_time": "2021-06-03T15:28:33.307548",
     "status": "completed"
    },
    "tags": []
   },
   "outputs": [
    {
     "data": {
      "text/plain": [
       "'11.0'"
      ]
     },
     "execution_count": 14,
     "metadata": {},
     "output_type": "execute_result"
    }
   ],
   "source": [
    "import torch\n",
    "torch.version.cuda"
   ]
  },
  {
   "cell_type": "code",
   "execution_count": 15,
   "id": "recent-amendment",
   "metadata": {
    "execution": {
     "iopub.execute_input": "2021-06-03T15:28:33.809043Z",
     "iopub.status.busy": "2021-06-03T15:28:33.807989Z",
     "iopub.status.idle": "2021-06-03T15:28:33.812989Z",
     "shell.execute_reply": "2021-06-03T15:28:33.812469Z"
    },
    "papermill": {
     "duration": 0.041639,
     "end_time": "2021-06-03T15:28:33.813113",
     "exception": false,
     "start_time": "2021-06-03T15:28:33.771474",
     "status": "completed"
    },
    "tags": []
   },
   "outputs": [
    {
     "data": {
      "text/plain": [
       "8003"
      ]
     },
     "execution_count": 15,
     "metadata": {},
     "output_type": "execute_result"
    }
   ],
   "source": [
    "torch.backends.cudnn.version()"
   ]
  },
  {
   "cell_type": "code",
   "execution_count": 16,
   "id": "close-argument",
   "metadata": {
    "execution": {
     "iopub.execute_input": "2021-06-03T15:28:33.888956Z",
     "iopub.status.busy": "2021-06-03T15:28:33.887880Z",
     "iopub.status.idle": "2021-06-03T15:28:33.892839Z",
     "shell.execute_reply": "2021-06-03T15:28:33.893517Z"
    },
    "papermill": {
     "duration": 0.046186,
     "end_time": "2021-06-03T15:28:33.893658",
     "exception": false,
     "start_time": "2021-06-03T15:28:33.847472",
     "status": "completed"
    },
    "tags": []
   },
   "outputs": [
    {
     "name": "stdout",
     "output_type": "stream",
     "text": [
      "Writing rungan.sh\n"
     ]
    }
   ],
   "source": [
    "%%writefile rungan.sh\n",
    "PREFIX=w2v_unsup_gan_xp\n",
    "#TASK_DATA=/path/to/features/unfiltered/precompute_unfiltered_pca512_cls128_mean_pooled\n",
    "TASK_DATA=/kaggle/input/wav2vec-u-cv-swedish-audio/precompute_pca512_cls128_mean_pooled/\n",
    "#TEXT_DATA=/path/to/data  # path to fairseq-preprocessed GAN data\n",
    "TEXT_DATA=/kaggle/input/wav2vec-u-cv-swedish-text-prep/preppedtext/phones/\n",
    "#KENLM_PATH=/path/to/data/kenlm.phn.o4.bin  # KenLM 4-gram phoneme language model (LM data = GAN data here)\n",
    "KENLM_PATH=/kaggle/input/wav2vec-u-cv-swedish-text-prep/preppedtext/phones/lm.phones.filtered.04.bin\n",
    "\n",
    "PREFIX=$PREFIX CUDA_LAUNCH_BLOCKING=1 fairseq-hydra-train \\\n",
    "\t-m --config-dir fairseq/config/model/wav2vecu/gan \\\n",
    "\t--config-name w2vu \\\n",
    "\ttask.data=${TASK_DATA} \\\n",
    "\ttask.text_data=${TEXT_DATA} \\\n",
    "\ttask.kenlm_path=${KENLM_PATH} \\\n",
    "\tcheckpoint.no_epoch_checkpoints=false \\\n",
    "\tcheckpoint.keep_last_epochs=20 \\\n",
    "\tcheckpoint.save_dir=/kaggle/working \\\n",
    "\tdataset.batch_size=80 \\\n",
    "\t'common.seed=range(0,5)'"
   ]
  },
  {
   "cell_type": "code",
   "execution_count": 17,
   "id": "timely-overview",
   "metadata": {
    "execution": {
     "iopub.execute_input": "2021-06-03T15:28:33.966768Z",
     "iopub.status.busy": "2021-06-03T15:28:33.965898Z",
     "iopub.status.idle": "2021-06-03T15:29:02.999958Z",
     "shell.execute_reply": "2021-06-03T15:29:02.999309Z"
    },
    "papermill": {
     "duration": 29.0726,
     "end_time": "2021-06-03T15:29:03.000122",
     "exception": false,
     "start_time": "2021-06-03T15:28:33.927522",
     "status": "completed"
    },
    "tags": []
   },
   "outputs": [
    {
     "name": "stdout",
     "output_type": "stream",
     "text": [
      "[2021-06-03 15:28:49,866][HYDRA] Launching 5 jobs locally\r\n",
      "[2021-06-03 15:28:49,867][HYDRA] \t#0 : task.data=/kaggle/input/wav2vec-u-cv-swedish-audio/precompute_pca512_cls128_mean_pooled/ task.text_data=/kaggle/input/wav2vec-u-cv-swedish-text-prep/preppedtext/phones/ task.kenlm_path=/kaggle/input/wav2vec-u-cv-swedish-text-prep/preppedtext/phones/lm.phones.filtered.04.bin checkpoint.no_epoch_checkpoints=False checkpoint.keep_last_epochs=20 checkpoint.save_dir=/kaggle/working dataset.batch_size=80 common.seed=0\r\n",
      "[2021-06-03 15:28:52,283][fairseq_cli.train][INFO] - {'_name': None, 'common': {'_name': None, 'no_progress_bar': False, 'log_interval': 100, 'log_format': 'json', 'log_file': None, 'tensorboard_logdir': 'tb', 'wandb_project': None, 'azureml_logging': False, 'seed': 0, 'cpu': False, 'tpu': False, 'bf16': False, 'memory_efficient_bf16': False, 'fp16': False, 'memory_efficient_fp16': False, 'fp16_no_flatten_grads': True, 'fp16_init_scale': 128, 'fp16_scale_window': None, 'fp16_scale_tolerance': 0.0, 'min_loss_scale': 0.0001, 'threshold_loss_scale': None, 'amp': False, 'amp_batch_retries': 2, 'amp_init_scale': 128, 'amp_scale_window': None, 'user_dir': None, 'empty_cache_freq': 0, 'all_gather_list_size': 16384, 'model_parallel_size': 1, 'quantization_config_path': None, 'profile': False, 'reset_logging': False, 'suppress_crashes': False, 'use_plasma_view': False, 'plasma_path': '/tmp/plasma'}, 'common_eval': {'_name': None, 'path': None, 'post_process': None, 'quiet': False, 'model_overrides': '{}', 'results_path': None}, 'distributed_training': {'_name': None, 'distributed_world_size': 1, 'distributed_rank': 0, 'distributed_backend': 'nccl', 'distributed_init_method': None, 'distributed_port': -1, 'device_id': 0, 'distributed_no_spawn': False, 'ddp_backend': 'pytorch_ddp', 'ddp_comm_hook': 'none', 'bucket_cap_mb': 25, 'fix_batches_to_gpus': False, 'find_unused_parameters': False, 'fast_stat_sync': False, 'heartbeat_timeout': -1, 'broadcast_buffers': False, 'slowmo_momentum': None, 'slowmo_algorithm': 'LocalSGD', 'localsgd_frequency': 3, 'nprocs_per_node': 1, 'pipeline_model_parallel': False, 'pipeline_balance': None, 'pipeline_devices': None, 'pipeline_chunks': 0, 'pipeline_encoder_balance': None, 'pipeline_encoder_devices': None, 'pipeline_decoder_balance': None, 'pipeline_decoder_devices': None, 'pipeline_checkpoint': 'never', 'zero_sharding': 'none', 'fp16': False, 'memory_efficient_fp16': False, 'tpu': False, 'no_reshard_after_forward': False, 'fp32_reduce_scatter': False, 'cpu_offload': False, 'use_sharded_state': False, 'distributed_num_procs': 1}, 'dataset': {'_name': None, 'num_workers': 6, 'skip_invalid_size_inputs_valid_test': True, 'max_tokens': None, 'batch_size': 80, 'required_batch_size_multiple': 8, 'required_seq_len_multiple': 1, 'dataset_impl': None, 'data_buffer_size': 10, 'train_subset': 'train', 'valid_subset': 'valid', 'combine_valid_subsets': None, 'ignore_unused_valid_subsets': False, 'validate_interval': 1, 'validate_interval_updates': 0, 'validate_after_updates': 0, 'fixed_validation_seed': None, 'disable_validation': False, 'max_tokens_valid': None, 'batch_size_valid': 80, 'max_valid_steps': None, 'curriculum': 0, 'gen_subset': 'test', 'num_shards': 1, 'shard_id': 0}, 'optimization': {'_name': None, 'max_epoch': 0, 'max_update': 150000, 'stop_time_hours': 0.0, 'clip_norm': 5.0, 'sentence_avg': False, 'update_freq': [1], 'lr': [0.0], 'stop_min_lr': -1.0, 'use_bmuf': False}, 'checkpoint': {'_name': None, 'save_dir': '/kaggle/working', 'restore_file': 'checkpoint_last.pt', 'finetune_from_model': None, 'reset_dataloader': False, 'reset_lr_scheduler': False, 'reset_meters': False, 'reset_optimizer': False, 'optimizer_overrides': '{}', 'save_interval': 1, 'save_interval_updates': 0, 'keep_interval_updates': -1, 'keep_interval_updates_pattern': -1, 'keep_last_epochs': 20, 'keep_best_checkpoints': -1, 'no_save': False, 'no_epoch_checkpoints': False, 'no_last_checkpoints': False, 'no_save_optimizer_state': False, 'best_checkpoint_metric': 'weighted_lm_ppl', 'maximize_best_checkpoint_metric': False, 'patience': -1, 'checkpoint_suffix': '', 'checkpoint_shard_count': 1, 'load_checkpoint_on_all_dp_ranks': False, 'write_checkpoints_asynchronously': False, 'model_parallel_size': 1}, 'bmuf': {'_name': None, 'block_lr': 1.0, 'block_momentum': 0.875, 'global_sync_iter': 50, 'warmup_iterations': 500, 'use_nbm': False, 'average_sync': False, 'distributed_world_size': 1}, 'generation': {'_name': None, 'beam': 5, 'nbest': 1, 'max_len_a': 0.0, 'max_len_b': 200, 'min_len': 1, 'match_source_len': False, 'unnormalized': False, 'no_early_stop': False, 'no_beamable_mm': False, 'lenpen': 1.0, 'unkpen': 0.0, 'replace_unk': None, 'sacrebleu': False, 'score_reference': False, 'prefix_size': 0, 'no_repeat_ngram_size': 0, 'sampling': False, 'sampling_topk': -1, 'sampling_topp': -1.0, 'constraints': None, 'temperature': 1.0, 'diverse_beam_groups': -1, 'diverse_beam_strength': 0.5, 'diversity_rate': -1.0, 'print_alignment': None, 'print_step': False, 'lm_path': None, 'lm_weight': 0.0, 'iter_decode_eos_penalty': 0.0, 'iter_decode_max_iter': 10, 'iter_decode_force_max_iter': False, 'iter_decode_with_beam': 1, 'iter_decode_with_external_reranker': False, 'retain_iter_history': False, 'retain_dropout': False, 'retain_dropout_modules': None, 'decoding_format': None, 'no_seed_provided': False}, 'eval_lm': {'_name': None, 'output_word_probs': False, 'output_word_stats': False, 'context_window': 0, 'softmax_batch': 9223372036854775807}, 'interactive': {'_name': None, 'buffer_size': 0, 'input': '-'}, 'model': {'_name': 'wav2vec_u', 'discriminator_kernel': 6, 'discriminator_dilation': 1, 'discriminator_dim': 384, 'discriminator_causal': True, 'discriminator_linear_emb': False, 'discriminator_depth': 2, 'discriminator_max_pool': False, 'discriminator_act_after_linear': False, 'discriminator_dropout': 0.0, 'discriminator_spectral_norm': False, 'discriminator_weight_norm': False, 'generator_kernel': 4, 'generator_dilation': 1, 'generator_stride': 1, 'generator_bias': False, 'generator_dropout': 0.1, 'blank_weight': 0.0, 'blank_mode': 'add', 'blank_is_sil': False, 'no_softmax': False, 'smoothness_weight': 0.5, 'smoothing': 0.0, 'smoothing_one_sided': False, 'gradient_penalty': 1.5, 'probabilistic_grad_penalty_slicing': False, 'code_penalty': 4.0, 'gumbel': False, 'hard_gumbel': False, 'temp': [2.0, 0.1, 0.99995], 'input_dim': 512, 'wgan_loss': False, 'segmentation': {'_name': None, 'type': 'JOIN', 'subsample_rate': 0.25, 'mean_pool': True, 'mean_pool_join': False, 'remove_zeros': False}}, 'task': {'_name': 'gan_audio_pretraining_feats', 'data': '/kaggle/input/wav2vec-u-cv-swedish-audio/precompute_pca512_cls128_mean_pooled/', 'text_data': '/kaggle/input/wav2vec-u-cv-swedish-text-prep/preppedtext/phones/', 'max_length': None, 'labels': 'phn', 'unfiltered': False, 'ctc_eval': False, 'sort_by_length': False, 'shuffle': True, 'append_eos': False, 'uppercase': False, 'skipwords': '', 'kenlm_path': '/kaggle/input/wav2vec-u-cv-swedish-text-prep/preppedtext/phones/lm.phones.filtered.04.bin', 'vocab_usage_power': 2.0, 'word_decoder_config': None, 'word_kenlm_path': None, 'decoding_config': {'_name': None, 'kenlm_path': None, 'lm_weight': 0.0, 'blank_weight': 0.0}}, 'criterion': {'_name': 'model', 'loss_weights': {}, 'log_keys': ['accuracy_dense', 'accuracy_token', 'temp', 'code_ppl']}, 'optimizer': {'_name': 'composite', 'groups': {'generator': {'lr': [0.0004], 'lr_float': None, 'optimizer': {'_name': 'adam', 'adam_betas': [0.5, 0.98], 'adam_eps': 1e-06, 'weight_decay': 0, 'amsgrad': False}, 'lr_scheduler': {'_name': 'fixed', 'warmup_updates': 0}}, 'discriminator': {'lr': [0.0005], 'lr_float': None, 'optimizer': {'_name': 'adam', 'adam_betas': [0.5, 0.98], 'adam_eps': 1e-06, 'weight_decay': 0.0001, 'amsgrad': False}, 'lr_scheduler': {'_name': 'fixed', 'warmup_updates': 0}}}}, 'lr_scheduler': {'_name': 'pass_through'}, 'scoring': None, 'bpe': None, 'tokenizer': None, 'job_logging_cfg': {'version': 1, 'formatters': {'simple': {'format': '[%(asctime)s][%(name)s][%(levelname)s] - %(message)s'}}, 'handlers': {'console': {'class': 'logging.StreamHandler', 'formatter': 'simple', 'stream': 'ext://sys.stdout'}, 'file': {'class': 'logging.FileHandler', 'formatter': 'simple', 'filename': 'hydra_train.log'}}, 'root': {'level': 'INFO', 'handlers': ['console', 'file']}, 'disable_existing_loggers': False}}\r\n",
      "[2021-06-03 15:28:52,418][fairseq_cli.train][INFO] - Wav2vec_U(\r\n",
      "  (discriminator): Discriminator(\r\n",
      "    (net): Sequential(\r\n",
      "      (0): Conv1d(45, 384, kernel_size=(6,), stride=(1,), padding=(5,))\r\n",
      "      (1): SamePad()\r\n",
      "      (2): Dropout(p=0.0, inplace=False)\r\n",
      "      (3): Sequential(\r\n",
      "        (0): Conv1d(384, 384, kernel_size=(6,), stride=(1,), padding=(5,))\r\n",
      "        (1): SamePad()\r\n",
      "        (2): Dropout(p=0.0, inplace=False)\r\n",
      "        (3): GELU()\r\n",
      "      )\r\n",
      "      (4): Conv1d(384, 1, kernel_size=(6,), stride=(1,), padding=(5,))\r\n",
      "      (5): SamePad()\r\n",
      "    )\r\n",
      "  )\r\n",
      "  (segmenter): JoinSegmenter()\r\n",
      "  (generator): Generator(\r\n",
      "    (dropout): Dropout(p=0.1, inplace=False)\r\n",
      "    (proj): Sequential(\r\n",
      "      (0): TransposeLast()\r\n",
      "      (1): Conv1d(512, 45, kernel_size=(4,), stride=(1,), padding=(2,), bias=False)\r\n",
      "      (2): TransposeLast()\r\n",
      "    )\r\n",
      "  )\r\n",
      ")\r\n",
      "[2021-06-03 15:28:52,418][fairseq_cli.train][INFO] - task: UnpairedAudioText\r\n",
      "[2021-06-03 15:28:52,419][fairseq_cli.train][INFO] - model: Wav2vec_U\r\n",
      "[2021-06-03 15:28:52,419][fairseq_cli.train][INFO] - criterion: ModelCriterion\r\n",
      "[2021-06-03 15:28:52,419][fairseq_cli.train][INFO] - num. shared model params: 1,083,649 (num. trained: 1,083,649)\r\n",
      "[2021-06-03 15:28:52,420][fairseq_cli.train][INFO] - num. expert model params: 0 (num. trained: 0)\r\n",
      "[2021-06-03 15:28:52,531][fairseq.data.extracted_features_dataset][INFO] - loaded 2019, skipped 0 samples\r\n",
      "[2021-06-03 15:28:52,531][fairseq.tasks.unpaired_audio_text][INFO] - split valid has unpaired text? False\r\n",
      "[2021-06-03 15:28:57,914][fairseq.utils][INFO] - ***********************CUDA enviroments for all 1 workers***********************\r\n",
      "[2021-06-03 15:28:57,914][fairseq.utils][INFO] - rank   0: capabilities =  6.0  ; total memory = 15.899 GB ; name = Tesla P100-PCIE-16GB                    \r\n",
      "[2021-06-03 15:28:57,915][fairseq.utils][INFO] - ***********************CUDA enviroments for all 1 workers***********************\r\n",
      "[2021-06-03 15:28:57,916][fairseq_cli.train][INFO] - training on 1 devices (GPUs/TPUs)\r\n",
      "[2021-06-03 15:28:57,917][fairseq_cli.train][INFO] - max tokens per device = None and max sentences per device = 80\r\n",
      "[2021-06-03 15:28:57,921][fairseq.trainer][INFO] - Preparing to load checkpoint /kaggle/working/checkpoint_last.pt\r\n",
      "[2021-06-03 15:28:57,922][fairseq.trainer][INFO] - No existing checkpoint found /kaggle/working/checkpoint_last.pt\r\n",
      "[2021-06-03 15:28:57,922][fairseq.trainer][INFO] - loading train data for epoch 1\r\n",
      "[2021-06-03 15:28:57,988][fairseq.data.extracted_features_dataset][INFO] - loaded 2331, skipped 0 samples\r\n",
      "[2021-06-03 15:28:57,989][fairseq.tasks.unpaired_audio_text][INFO] - split train has unpaired text? True\r\n",
      "[2021-06-03 15:28:58,013][fairseq.data.data_utils][INFO] - loaded 2,328 examples from: /kaggle/input/wav2vec-u-cv-swedish-text-prep/preppedtext/phones/train\r\n",
      "[2021-06-03 15:28:59,192][fairseq.trainer][INFO] - begin training epoch 1\r\n",
      "[2021-06-03 15:28:59,193][fairseq_cli.train][INFO] - Start iterating over samples\r\n",
      "/opt/conda/lib/python3.7/site-packages/fairseq-1.0.0a0+6179d53-py3.7-linux-x86_64.egg/fairseq/utils.py:369: UserWarning: amp_C fused kernels unavailable, disabling multi_tensor_l2norm; you may get better performance by installing NVIDIA's apex library\r\n",
      "  \"amp_C fused kernels unavailable, disabling multi_tensor_l2norm; \"\r\n",
      "Traceback (most recent call last):\r\n",
      "  File \"/opt/conda/bin/fairseq-hydra-train\", line 33, in <module>\r\n",
      "    sys.exit(load_entry_point('fairseq==1.0.0a0+6179d53', 'console_scripts', 'fairseq-hydra-train')())\r\n",
      "  File \"/opt/conda/lib/python3.7/site-packages/fairseq-1.0.0a0+6179d53-py3.7-linux-x86_64.egg/fairseq_cli/hydra_train.py\", line 76, in cli_main\r\n",
      "    hydra_main()\r\n",
      "  File \"/opt/conda/lib/python3.7/site-packages/hydra_core-1.0.6-py3.7.egg/hydra/main.py\", line 37, in decorated_main\r\n",
      "    strict=strict,\r\n",
      "  File \"/opt/conda/lib/python3.7/site-packages/hydra_core-1.0.6-py3.7.egg/hydra/_internal/utils.py\", line 355, in _run_hydra\r\n",
      "    lambda: hydra.multirun(\r\n",
      "  File \"/opt/conda/lib/python3.7/site-packages/hydra_core-1.0.6-py3.7.egg/hydra/_internal/utils.py\", line 201, in run_and_report\r\n",
      "    raise ex\r\n",
      "  File \"/opt/conda/lib/python3.7/site-packages/hydra_core-1.0.6-py3.7.egg/hydra/_internal/utils.py\", line 198, in run_and_report\r\n",
      "    return func()\r\n",
      "  File \"/opt/conda/lib/python3.7/site-packages/hydra_core-1.0.6-py3.7.egg/hydra/_internal/utils.py\", line 358, in <lambda>\r\n",
      "    overrides=args.overrides,\r\n",
      "  File \"/opt/conda/lib/python3.7/site-packages/hydra_core-1.0.6-py3.7.egg/hydra/_internal/hydra.py\", line 136, in multirun\r\n",
      "    return sweeper.sweep(arguments=task_overrides)\r\n",
      "  File \"/opt/conda/lib/python3.7/site-packages/hydra_core-1.0.6-py3.7.egg/hydra/_internal/core_plugins/basic_sweeper.py\", line 154, in sweep\r\n",
      "    results = self.launcher.launch(batch, initial_job_idx=initial_job_idx)\r\n",
      "  File \"/opt/conda/lib/python3.7/site-packages/hydra_core-1.0.6-py3.7.egg/hydra/_internal/core_plugins/basic_launcher.py\", line 80, in launch\r\n",
      "    job_subdir_key=\"hydra.sweep.subdir\",\r\n",
      "  File \"/opt/conda/lib/python3.7/site-packages/hydra_core-1.0.6-py3.7.egg/hydra/core/utils.py\", line 127, in run_job\r\n",
      "    ret.return_value = task_function(task_cfg)\r\n",
      "  File \"/opt/conda/lib/python3.7/site-packages/fairseq-1.0.0a0+6179d53-py3.7-linux-x86_64.egg/fairseq_cli/hydra_train.py\", line 45, in hydra_main\r\n",
      "    distributed_utils.call_main(cfg, pre_main)\r\n",
      "  File \"/opt/conda/lib/python3.7/site-packages/fairseq-1.0.0a0+6179d53-py3.7-linux-x86_64.egg/fairseq/distributed/utils.py\", line 369, in call_main\r\n",
      "    main(cfg, **kwargs)\r\n",
      "  File \"/opt/conda/lib/python3.7/site-packages/fairseq-1.0.0a0+6179d53-py3.7-linux-x86_64.egg/fairseq_cli/train.py\", line 178, in main\r\n",
      "    valid_losses, should_stop = train(cfg, trainer, task, epoch_itr)\r\n",
      "  File \"/opt/conda/lib/python3.7/contextlib.py\", line 74, in inner\r\n",
      "    return func(*args, **kwds)\r\n",
      "  File \"/opt/conda/lib/python3.7/site-packages/fairseq-1.0.0a0+6179d53-py3.7-linux-x86_64.egg/fairseq_cli/train.py\", line 289, in train\r\n",
      "    log_output = trainer.train_step(samples)\r\n",
      "  File \"/opt/conda/lib/python3.7/contextlib.py\", line 74, in inner\r\n",
      "    return func(*args, **kwds)\r\n",
      "  File \"/opt/conda/lib/python3.7/site-packages/fairseq-1.0.0a0+6179d53-py3.7-linux-x86_64.egg/fairseq/trainer.py\", line 736, in train_step\r\n",
      "    raise e\r\n",
      "  File \"/opt/conda/lib/python3.7/site-packages/fairseq-1.0.0a0+6179d53-py3.7-linux-x86_64.egg/fairseq/trainer.py\", line 710, in train_step\r\n",
      "    ignore_grad=is_dummy_batch,\r\n",
      "  File \"/opt/conda/lib/python3.7/site-packages/fairseq-1.0.0a0+6179d53-py3.7-linux-x86_64.egg/fairseq/tasks/fairseq_task.py\", line 502, in train_step\r\n",
      "    loss, sample_size, logging_output = criterion(model, sample)\r\n",
      "  File \"/opt/conda/lib/python3.7/site-packages/torch/nn/modules/module.py\", line 727, in _call_impl\r\n",
      "    result = self.forward(*input, **kwargs)\r\n",
      "  File \"/opt/conda/lib/python3.7/site-packages/fairseq-1.0.0a0+6179d53-py3.7-linux-x86_64.egg/fairseq/criterions/model_criterion.py\", line 50, in forward\r\n",
      "    net_output = model(**sample[\"net_input\"])\r\n",
      "  File \"/opt/conda/lib/python3.7/site-packages/torch/nn/modules/module.py\", line 727, in _call_impl\r\n",
      "    result = self.forward(*input, **kwargs)\r\n",
      "  File \"/opt/conda/lib/python3.7/site-packages/fairseq-1.0.0a0+6179d53-py3.7-linux-x86_64.egg/fairseq/models/wav2vec_u.py\", line 611, in forward\r\n",
      "    grad_pen = self.calc_gradient_penalty(token_x, dense_x)\r\n",
      "  File \"/opt/conda/lib/python3.7/site-packages/fairseq-1.0.0a0+6179d53-py3.7-linux-x86_64.egg/fairseq/models/wav2vec_u.py\", line 386, in calc_gradient_penalty\r\n",
      "    only_inputs=True,\r\n",
      "  File \"/opt/conda/lib/python3.7/site-packages/torch/autograd/__init__.py\", line 204, in grad\r\n",
      "    inputs, allow_unused)\r\n",
      "RuntimeError: CUDA error: an illegal memory access was encountered\r\n"
     ]
    }
   ],
   "source": [
    "!bash rungan.sh"
   ]
  }
 ],
 "metadata": {
  "kernelspec": {
   "display_name": "Python 3",
   "language": "python",
   "name": "python3"
  },
  "language_info": {
   "codemirror_mode": {
    "name": "ipython",
    "version": 3
   },
   "file_extension": ".py",
   "mimetype": "text/x-python",
   "name": "python",
   "nbconvert_exporter": "python",
   "pygments_lexer": "ipython3",
   "version": "3.7.10"
  },
  "papermill": {
   "default_parameters": {},
   "duration": 598.893095,
   "end_time": "2021-06-03T15:29:03.650932",
   "environment_variables": {},
   "exception": null,
   "input_path": "__notebook__.ipynb",
   "output_path": "__notebook__.ipynb",
   "parameters": {},
   "start_time": "2021-06-03T15:19:04.757837",
   "version": "2.3.3"
  }
 },
 "nbformat": 4,
 "nbformat_minor": 5
}
