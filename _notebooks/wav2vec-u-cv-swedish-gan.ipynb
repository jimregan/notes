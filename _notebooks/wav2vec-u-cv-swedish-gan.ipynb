{
 "cells": [
  {
   "cell_type": "markdown",
   "id": "pharmaceutical-stroke",
   "metadata": {
    "papermill": {
     "duration": 0.014203,
     "end_time": "2021-05-31T14:36:01.136400",
     "exception": false,
     "start_time": "2021-05-31T14:36:01.122197",
     "status": "completed"
    },
    "tags": []
   },
   "source": [
    "## Preparation"
   ]
  },
  {
   "cell_type": "code",
   "execution_count": 1,
   "id": "fatty-google",
   "metadata": {
    "_cell_guid": "b1076dfc-b9ad-4769-8c92-a6c4dae69d19",
    "_uuid": "8f2839f25d086af736a60e9eeb907d3b93b6e0e5",
    "execution": {
     "iopub.execute_input": "2021-05-31T14:36:01.170311Z",
     "iopub.status.busy": "2021-05-31T14:36:01.168452Z",
     "iopub.status.idle": "2021-05-31T14:40:03.417631Z",
     "shell.execute_reply": "2021-05-31T14:40:03.416109Z",
     "shell.execute_reply.started": "2021-05-31T11:43:46.770364Z"
    },
    "papermill": {
     "duration": 242.267153,
     "end_time": "2021-05-31T14:40:03.418106",
     "exception": false,
     "start_time": "2021-05-31T14:36:01.150953",
     "status": "completed"
    },
    "tags": []
   },
   "outputs": [],
   "source": [
    "%%capture\n",
    "!conda install -c pykaldi pykaldi -y"
   ]
  },
  {
   "cell_type": "code",
   "execution_count": 2,
   "id": "early-screening",
   "metadata": {
    "execution": {
     "iopub.execute_input": "2021-05-31T14:40:03.456063Z",
     "iopub.status.busy": "2021-05-31T14:40:03.455253Z",
     "iopub.status.idle": "2021-05-31T14:40:03.462223Z",
     "shell.execute_reply": "2021-05-31T14:40:03.461376Z",
     "shell.execute_reply.started": "2021-05-31T13:58:07.987793Z"
    },
    "papermill": {
     "duration": 0.028925,
     "end_time": "2021-05-31T14:40:03.462455",
     "exception": false,
     "start_time": "2021-05-31T14:40:03.433530",
     "status": "completed"
    },
    "tags": []
   },
   "outputs": [
    {
     "name": "stdout",
     "output_type": "stream",
     "text": [
      "/tmp\n"
     ]
    }
   ],
   "source": [
    "%cd /tmp"
   ]
  },
  {
   "cell_type": "code",
   "execution_count": 3,
   "id": "headed-preserve",
   "metadata": {
    "execution": {
     "iopub.execute_input": "2021-05-31T14:40:03.499455Z",
     "iopub.status.busy": "2021-05-31T14:40:03.498480Z",
     "iopub.status.idle": "2021-05-31T14:40:09.757217Z",
     "shell.execute_reply": "2021-05-31T14:40:09.756551Z",
     "shell.execute_reply.started": "2021-05-31T11:47:48.174342Z"
    },
    "papermill": {
     "duration": 6.280495,
     "end_time": "2021-05-31T14:40:09.757397",
     "exception": false,
     "start_time": "2021-05-31T14:40:03.476902",
     "status": "completed"
    },
    "tags": []
   },
   "outputs": [
    {
     "name": "stdout",
     "output_type": "stream",
     "text": [
      "Cloning into 'fairseq'...\r\n",
      "remote: Enumerating objects: 28255, done.\u001b[K\r\n",
      "remote: Counting objects: 100% (667/667), done.\u001b[K\r\n",
      "remote: Compressing objects: 100% (385/385), done.\u001b[K\r\n",
      "remote: Total 28255 (delta 357), reused 525 (delta 266), pack-reused 27588\u001b[K\r\n",
      "Receiving objects: 100% (28255/28255), 11.92 MiB | 14.57 MiB/s, done.\r\n",
      "Resolving deltas: 100% (21182/21182), done.\r\n"
     ]
    }
   ],
   "source": [
    "!git clone https://github.com/jimregan/fairseq/ --branch issue3581"
   ]
  },
  {
   "cell_type": "code",
   "execution_count": 4,
   "id": "olympic-index",
   "metadata": {
    "execution": {
     "iopub.execute_input": "2021-05-31T14:40:09.810999Z",
     "iopub.status.busy": "2021-05-31T14:40:09.810289Z",
     "iopub.status.idle": "2021-05-31T14:40:12.143803Z",
     "shell.execute_reply": "2021-05-31T14:40:12.143118Z",
     "shell.execute_reply.started": "2021-05-31T13:58:08.002832Z"
    },
    "papermill": {
     "duration": 2.364719,
     "end_time": "2021-05-31T14:40:12.143954",
     "exception": false,
     "start_time": "2021-05-31T14:40:09.779235",
     "status": "completed"
    },
    "tags": []
   },
   "outputs": [
    {
     "name": "stdout",
     "output_type": "stream",
     "text": [
      "Cloning into 'kenlm'...\r\n",
      "remote: Enumerating objects: 13824, done.\u001b[K\r\n",
      "remote: Counting objects: 100% (137/137), done.\u001b[K\r\n",
      "remote: Compressing objects: 100% (79/79), done.\u001b[K\r\n",
      "remote: Total 13824 (delta 76), reused 92 (delta 45), pack-reused 13687\u001b[K\r\n",
      "Receiving objects: 100% (13824/13824), 5.49 MiB | 10.82 MiB/s, done.\r\n",
      "Resolving deltas: 100% (7956/7956), done.\r\n"
     ]
    }
   ],
   "source": [
    "!git clone https://github.com/kpu/kenlm"
   ]
  },
  {
   "cell_type": "code",
   "execution_count": 5,
   "id": "german-transport",
   "metadata": {
    "execution": {
     "iopub.execute_input": "2021-05-31T14:40:12.209550Z",
     "iopub.status.busy": "2021-05-31T14:40:12.208870Z",
     "iopub.status.idle": "2021-05-31T14:40:18.425135Z",
     "shell.execute_reply": "2021-05-31T14:40:18.424545Z",
     "shell.execute_reply.started": "2021-05-31T13:58:12.001162Z"
    },
    "papermill": {
     "duration": 6.253889,
     "end_time": "2021-05-31T14:40:18.425383",
     "exception": false,
     "start_time": "2021-05-31T14:40:12.171494",
     "status": "completed"
    },
    "tags": []
   },
   "outputs": [],
   "source": [
    "%%capture\n",
    "!apt-get -y install libeigen3-dev liblzma-dev zlib1g-dev libbz2-dev"
   ]
  },
  {
   "cell_type": "code",
   "execution_count": 6,
   "id": "dirty-medicine",
   "metadata": {
    "execution": {
     "iopub.execute_input": "2021-05-31T14:40:18.490075Z",
     "iopub.status.busy": "2021-05-31T14:40:18.489116Z",
     "iopub.status.idle": "2021-05-31T14:41:31.759607Z",
     "shell.execute_reply": "2021-05-31T14:41:31.760211Z"
    },
    "papermill": {
     "duration": 73.308046,
     "end_time": "2021-05-31T14:41:31.760588",
     "exception": false,
     "start_time": "2021-05-31T14:40:18.452542",
     "status": "completed"
    },
    "tags": []
   },
   "outputs": [],
   "source": [
    "\n",
    "%%capture\n",
    "%cd kenlm\n",
    "!mkdir build\n",
    "%cd build\n",
    "!cmake ..\n",
    "!make -j 4\n",
    "%cd /tmp"
   ]
  },
  {
   "cell_type": "code",
   "execution_count": 7,
   "id": "gross-spotlight",
   "metadata": {
    "execution": {
     "iopub.execute_input": "2021-05-31T14:41:31.823573Z",
     "iopub.status.busy": "2021-05-31T14:41:31.822893Z",
     "iopub.status.idle": "2021-05-31T14:42:11.732174Z",
     "shell.execute_reply": "2021-05-31T14:42:11.731614Z",
     "shell.execute_reply.started": "2021-05-31T14:00:27.915818Z"
    },
    "papermill": {
     "duration": 39.943561,
     "end_time": "2021-05-31T14:42:11.732337",
     "exception": false,
     "start_time": "2021-05-31T14:41:31.788776",
     "status": "completed"
    },
    "tags": []
   },
   "outputs": [],
   "source": [
    "%%capture\n",
    "%cd /tmp/kenlm\n",
    "!python setup.py install\n",
    "%cd /tmp"
   ]
  },
  {
   "cell_type": "code",
   "execution_count": 8,
   "id": "supreme-influence",
   "metadata": {
    "execution": {
     "iopub.execute_input": "2021-05-31T14:42:11.795023Z",
     "iopub.status.busy": "2021-05-31T14:42:11.794269Z",
     "iopub.status.idle": "2021-05-31T14:42:11.797152Z",
     "shell.execute_reply": "2021-05-31T14:42:11.797793Z",
     "shell.execute_reply.started": "2021-05-25T22:58:58.397816Z"
    },
    "papermill": {
     "duration": 0.038036,
     "end_time": "2021-05-31T14:42:11.797972",
     "exception": false,
     "start_time": "2021-05-31T14:42:11.759936",
     "status": "completed"
    },
    "tags": []
   },
   "outputs": [],
   "source": [
    "import os\n",
    "os.environ['PATH'] = f\"{os.environ['PATH']}:/tmp/kenlm/build/bin/\"\n",
    "os.environ['FAIRSEQ_ROOT'] = '/tmp/fairseq'"
   ]
  },
  {
   "cell_type": "code",
   "execution_count": 9,
   "id": "handy-finger",
   "metadata": {
    "execution": {
     "iopub.execute_input": "2021-05-31T14:42:11.857666Z",
     "iopub.status.busy": "2021-05-31T14:42:11.856972Z",
     "iopub.status.idle": "2021-05-31T14:42:11.862059Z",
     "shell.execute_reply": "2021-05-31T14:42:11.861498Z",
     "shell.execute_reply.started": "2021-05-31T11:51:49.832574Z"
    },
    "papermill": {
     "duration": 0.037062,
     "end_time": "2021-05-31T14:42:11.862198",
     "exception": false,
     "start_time": "2021-05-31T14:42:11.825136",
     "status": "completed"
    },
    "tags": []
   },
   "outputs": [
    {
     "name": "stdout",
     "output_type": "stream",
     "text": [
      "/tmp/fairseq\n"
     ]
    }
   ],
   "source": [
    "%cd /tmp/fairseq/"
   ]
  },
  {
   "cell_type": "code",
   "execution_count": 10,
   "id": "acute-tuning",
   "metadata": {
    "execution": {
     "iopub.execute_input": "2021-05-31T14:42:11.921876Z",
     "iopub.status.busy": "2021-05-31T14:42:11.921228Z",
     "iopub.status.idle": "2021-05-31T14:43:26.753698Z",
     "shell.execute_reply": "2021-05-31T14:43:26.754171Z"
    },
    "papermill": {
     "duration": 74.86363,
     "end_time": "2021-05-31T14:43:26.754390",
     "exception": false,
     "start_time": "2021-05-31T14:42:11.890760",
     "status": "completed"
    },
    "tags": []
   },
   "outputs": [],
   "source": [
    "%%capture\n",
    "!python setup.py install"
   ]
  },
  {
   "cell_type": "code",
   "execution_count": 11,
   "id": "outstanding-hierarchy",
   "metadata": {
    "execution": {
     "iopub.execute_input": "2021-05-31T14:43:26.816241Z",
     "iopub.status.busy": "2021-05-31T14:43:26.815617Z",
     "iopub.status.idle": "2021-05-31T14:43:26.818188Z",
     "shell.execute_reply": "2021-05-31T14:43:26.818875Z"
    },
    "papermill": {
     "duration": 0.036908,
     "end_time": "2021-05-31T14:43:26.819086",
     "exception": false,
     "start_time": "2021-05-31T14:43:26.782178",
     "status": "completed"
    },
    "tags": []
   },
   "outputs": [
    {
     "name": "stdout",
     "output_type": "stream",
     "text": [
      "/tmp/fairseq\n"
     ]
    }
   ],
   "source": [
    "%cd /tmp/fairseq/"
   ]
  },
  {
   "cell_type": "code",
   "execution_count": 12,
   "id": "broke-income",
   "metadata": {
    "execution": {
     "iopub.execute_input": "2021-05-31T14:43:26.883995Z",
     "iopub.status.busy": "2021-05-31T14:43:26.882915Z",
     "iopub.status.idle": "2021-05-31T14:43:26.885384Z",
     "shell.execute_reply": "2021-05-31T14:43:26.885856Z"
    },
    "papermill": {
     "duration": 0.037333,
     "end_time": "2021-05-31T14:43:26.886017",
     "exception": false,
     "start_time": "2021-05-31T14:43:26.848684",
     "status": "completed"
    },
    "tags": []
   },
   "outputs": [],
   "source": [
    "os.environ['HYDRA_FULL_ERROR'] = '1'"
   ]
  },
  {
   "cell_type": "markdown",
   "id": "supreme-credits",
   "metadata": {
    "papermill": {
     "duration": 0.027605,
     "end_time": "2021-05-31T14:43:26.941503",
     "exception": false,
     "start_time": "2021-05-31T14:43:26.913898",
     "status": "completed"
    },
    "tags": []
   },
   "source": [
    "## GAN"
   ]
  },
  {
   "cell_type": "code",
   "execution_count": 13,
   "id": "functional-scheduling",
   "metadata": {
    "execution": {
     "iopub.execute_input": "2021-05-31T14:43:27.000606Z",
     "iopub.status.busy": "2021-05-31T14:43:26.999581Z",
     "iopub.status.idle": "2021-05-31T14:43:27.740467Z",
     "shell.execute_reply": "2021-05-31T14:43:27.739952Z",
     "shell.execute_reply.started": "2021-05-30T16:46:39.899633Z"
    },
    "papermill": {
     "duration": 0.771509,
     "end_time": "2021-05-31T14:43:27.740613",
     "exception": false,
     "start_time": "2021-05-31T14:43:26.969104",
     "status": "completed"
    },
    "tags": []
   },
   "outputs": [
    {
     "name": "stdout",
     "output_type": "stream",
     "text": [
      "CLUS128\t\t    precompute_pca512_cls128_mean\t  train.npy\r\n",
      "__notebook__.ipynb  precompute_pca512_cls128_mean_pooled  train.phn\r\n",
      "__output__.json     test.lengths\t\t\t  train.tsv\r\n",
      "__results__.html    test.ltr\t\t\t\t  train.wrd\r\n",
      "custom.css\t    test.npy\t\t\t\t  valid.lengths\r\n",
      "dict.test\t    test.phn\t\t\t\t  valid.ltr\r\n",
      "dict.train\t    test.tsv\t\t\t\t  valid.npy\r\n",
      "dict.valid\t    test.wrd\t\t\t\t  valid.phn\r\n",
      "pca\t\t    train.lengths\t\t\t  valid.tsv\r\n",
      "precompute_pca512   train.ltr\t\t\t\t  valid.wrd\r\n"
     ]
    }
   ],
   "source": [
    "!ls /kaggle/input/wav2vec-u-cv-swedish-audio/"
   ]
  },
  {
   "cell_type": "code",
   "execution_count": 14,
   "id": "naval-gilbert",
   "metadata": {
    "execution": {
     "iopub.execute_input": "2021-05-31T14:43:27.804128Z",
     "iopub.status.busy": "2021-05-31T14:43:27.803121Z",
     "iopub.status.idle": "2021-05-31T14:43:27.808468Z",
     "shell.execute_reply": "2021-05-31T14:43:27.807754Z"
    },
    "papermill": {
     "duration": 0.040004,
     "end_time": "2021-05-31T14:43:27.808670",
     "exception": false,
     "start_time": "2021-05-31T14:43:27.768666",
     "status": "completed"
    },
    "tags": []
   },
   "outputs": [
    {
     "name": "stdout",
     "output_type": "stream",
     "text": [
      "Writing rungan.sh\n"
     ]
    }
   ],
   "source": [
    "%%writefile rungan.sh\n",
    "PREFIX=w2v_unsup_gan_xp\n",
    "#TASK_DATA=/path/to/features/unfiltered/precompute_unfiltered_pca512_cls128_mean_pooled\n",
    "TASK_DATA=/kaggle/input/wav2vec-u-cv-swedish-audio/precompute_pca512_cls128_mean_pooled/\n",
    "#TEXT_DATA=/path/to/data  # path to fairseq-preprocessed GAN data\n",
    "TEXT_DATA=/kaggle/input/wav2vec-u-cv-swedish-text-prep/preppedtext/phones/\n",
    "#KENLM_PATH=/path/to/data/kenlm.phn.o4.bin  # KenLM 4-gram phoneme language model (LM data = GAN data here)\n",
    "KENLM_PATH=/kaggle/input/wav2vec-u-cv-swedish-text-prep/preppedtext/phones/lm.phones.filtered.04.bin\n",
    "\n",
    "PREFIX=$PREFIX fairseq-hydra-train \\\n",
    "\t-m --config-dir fairseq/config/model/wav2vecu/gan \\\n",
    "\t--config-name w2vu \\\n",
    "\ttask.data=${TASK_DATA} \\\n",
    "\ttask.text_data=${TEXT_DATA} \\\n",
    "\ttask.kenlm_path=${KENLM_PATH} \\\n",
    "\tcheckpoint.no_epoch_checkpoints=false \\\n",
    "\tcheckpoint.save_dir=/kaggle/working \\\n",
    "\t'common.seed=range(0,5)'"
   ]
  },
  {
   "cell_type": "code",
   "execution_count": 15,
   "id": "owned-democracy",
   "metadata": {
    "execution": {
     "iopub.execute_input": "2021-05-31T14:43:27.876048Z",
     "iopub.status.busy": "2021-05-31T14:43:27.871678Z",
     "iopub.status.idle": "2021-05-31T14:43:31.924509Z",
     "shell.execute_reply": "2021-05-31T14:43:31.923812Z"
    },
    "papermill": {
     "duration": 4.086158,
     "end_time": "2021-05-31T14:43:31.924651",
     "exception": false,
     "start_time": "2021-05-31T14:43:27.838493",
     "status": "completed"
    },
    "tags": []
   },
   "outputs": [
    {
     "name": "stdout",
     "output_type": "stream",
     "text": [
      "Traceback (most recent call last):\r\n",
      "  File \"/opt/conda/bin/fairseq-hydra-train\", line 33, in <module>\r\n",
      "    sys.exit(load_entry_point('fairseq==1.0.0a0+51b1014', 'console_scripts', 'fairseq-hydra-train')())\r\n",
      "  File \"/opt/conda/bin/fairseq-hydra-train\", line 25, in importlib_load_entry_point\r\n",
      "    return next(matches).load()\r\n",
      "  File \"/opt/conda/lib/python3.7/site-packages/importlib_metadata/__init__.py\", line 96, in load\r\n",
      "    module = import_module(match.group('module'))\r\n",
      "  File \"/opt/conda/lib/python3.7/importlib/__init__.py\", line 127, in import_module\r\n",
      "    return _bootstrap._gcd_import(name[level:], package, level)\r\n",
      "  File \"<frozen importlib._bootstrap>\", line 1006, in _gcd_import\r\n",
      "  File \"<frozen importlib._bootstrap>\", line 983, in _find_and_load\r\n",
      "  File \"<frozen importlib._bootstrap>\", line 967, in _find_and_load_unlocked\r\n",
      "  File \"<frozen importlib._bootstrap>\", line 677, in _load_unlocked\r\n",
      "  File \"<frozen importlib._bootstrap_external>\", line 728, in exec_module\r\n",
      "  File \"<frozen importlib._bootstrap>\", line 219, in _call_with_frames_removed\r\n",
      "  File \"/opt/conda/lib/python3.7/site-packages/fairseq-1.0.0a0+51b1014-py3.7-linux-x86_64.egg/fairseq_cli/hydra_train.py\", line 10, in <module>\r\n",
      "    from fairseq.dataclass.initialize import add_defaults, hydra_init\r\n",
      "  File \"/opt/conda/lib/python3.7/site-packages/fairseq-1.0.0a0+51b1014-py3.7-linux-x86_64.egg/fairseq/__init__.py\", line 32, in <module>\r\n",
      "    import fairseq.criterions  # noqa\r\n",
      "  File \"/opt/conda/lib/python3.7/site-packages/fairseq-1.0.0a0+51b1014-py3.7-linux-x86_64.egg/fairseq/criterions/__init__.py\", line 36, in <module>\r\n",
      "    importlib.import_module(\"fairseq.criterions.\" + file_name)\r\n",
      "  File \"/opt/conda/lib/python3.7/importlib/__init__.py\", line 127, in import_module\r\n",
      "    return _bootstrap._gcd_import(name[level:], package, level)\r\n",
      "  File \"/opt/conda/lib/python3.7/site-packages/fairseq-1.0.0a0+51b1014-py3.7-linux-x86_64.egg/fairseq/criterions/ctc.py\", line 19, in <module>\r\n",
      "    from fairseq.tasks import FairseqTask\r\n",
      "  File \"/opt/conda/lib/python3.7/site-packages/fairseq-1.0.0a0+51b1014-py3.7-linux-x86_64.egg/fairseq/tasks/__init__.py\", line 116, in <module>\r\n",
      "    module = importlib.import_module(\"fairseq.tasks.\" + task_name)\r\n",
      "  File \"/opt/conda/lib/python3.7/importlib/__init__.py\", line 127, in import_module\r\n",
      "    return _bootstrap._gcd_import(name[level:], package, level)\r\n",
      "  File \"/opt/conda/lib/python3.7/site-packages/fairseq-1.0.0a0+51b1014-py3.7-linux-x86_64.egg/fairseq/tasks/multilingual_translation.py\", line 19, in <module>\r\n",
      "    from fairseq.models import FairseqMultiModel\r\n",
      "  File \"/opt/conda/lib/python3.7/site-packages/fairseq-1.0.0a0+51b1014-py3.7-linux-x86_64.egg/fairseq/models/__init__.py\", line 28, in <module>\r\n",
      "    from .wav2vec_u import Wav2vec_U\r\n",
      "  File \"/opt/conda/lib/python3.7/site-packages/fairseq-1.0.0a0+51b1014-py3.7-linux-x86_64.egg/fairseq/models/wav2vec_u.py\", line 19, in <module>\r\n",
      "    from .fairseq_model import BaseFairseqModel, register_model\r\n",
      "ImportError: cannot import name 'register_model' from 'fairseq.models.fairseq_model' (/opt/conda/lib/python3.7/site-packages/fairseq-1.0.0a0+51b1014-py3.7-linux-x86_64.egg/fairseq/models/fairseq_model.py)\r\n"
     ]
    }
   ],
   "source": [
    "!bash rungan.sh"
   ]
  }
 ],
 "metadata": {
  "kernelspec": {
   "display_name": "Python 3",
   "language": "python",
   "name": "python3"
  },
  "language_info": {
   "codemirror_mode": {
    "name": "ipython",
    "version": 3
   },
   "file_extension": ".py",
   "mimetype": "text/x-python",
   "name": "python",
   "nbconvert_exporter": "python",
   "pygments_lexer": "ipython3",
   "version": "3.7.10"
  },
  "papermill": {
   "default_parameters": {},
   "duration": 459.672547,
   "end_time": "2021-05-31T14:43:32.767441",
   "environment_variables": {},
   "exception": null,
   "input_path": "__notebook__.ipynb",
   "output_path": "__notebook__.ipynb",
   "parameters": {},
   "start_time": "2021-05-31T14:35:53.094894",
   "version": "2.3.3"
  }
 },
 "nbformat": 4,
 "nbformat_minor": 5
}
