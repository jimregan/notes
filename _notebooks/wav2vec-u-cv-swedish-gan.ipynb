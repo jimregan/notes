{
 "cells": [
  {
   "cell_type": "markdown",
   "id": "upper-poker",
   "metadata": {
    "papermill": {
     "duration": 0.011091,
     "end_time": "2021-05-30T18:34:12.436107",
     "exception": false,
     "start_time": "2021-05-30T18:34:12.425016",
     "status": "completed"
    },
    "tags": []
   },
   "source": [
    "## Preparation"
   ]
  },
  {
   "cell_type": "code",
   "execution_count": 1,
   "id": "completed-yacht",
   "metadata": {
    "_cell_guid": "b1076dfc-b9ad-4769-8c92-a6c4dae69d19",
    "_uuid": "8f2839f25d086af736a60e9eeb907d3b93b6e0e5",
    "execution": {
     "iopub.execute_input": "2021-05-30T18:34:12.465003Z",
     "iopub.status.busy": "2021-05-30T18:34:12.464464Z",
     "iopub.status.idle": "2021-05-30T18:34:12.467952Z",
     "shell.execute_reply": "2021-05-30T18:34:12.468360Z",
     "shell.execute_reply.started": "2021-05-25T22:46:58.262403Z"
    },
    "papermill": {
     "duration": 0.022113,
     "end_time": "2021-05-30T18:34:12.468629",
     "exception": false,
     "start_time": "2021-05-30T18:34:12.446516",
     "status": "completed"
    },
    "tags": []
   },
   "outputs": [
    {
     "name": "stdout",
     "output_type": "stream",
     "text": [
      "/opt\n"
     ]
    }
   ],
   "source": [
    "%cd /opt"
   ]
  },
  {
   "cell_type": "code",
   "execution_count": 2,
   "id": "noticed-planning",
   "metadata": {
    "execution": {
     "iopub.execute_input": "2021-05-30T18:34:12.507056Z",
     "iopub.status.busy": "2021-05-30T18:34:12.495414Z",
     "iopub.status.idle": "2021-05-30T18:34:54.932306Z",
     "shell.execute_reply": "2021-05-30T18:34:54.930836Z"
    },
    "papermill": {
     "duration": 42.453354,
     "end_time": "2021-05-30T18:34:54.932828",
     "exception": false,
     "start_time": "2021-05-30T18:34:12.479474",
     "status": "completed"
    },
    "tags": []
   },
   "outputs": [],
   "source": [
    "%%capture\n",
    "!tar xvf /kaggle/input/extract-prebuilt-kaldi-from-docker/kaldi.tar"
   ]
  },
  {
   "cell_type": "code",
   "execution_count": 3,
   "id": "loaded-apple",
   "metadata": {
    "execution": {
     "iopub.execute_input": "2021-05-30T18:34:59.596932Z",
     "iopub.status.busy": "2021-05-30T18:34:59.595261Z",
     "iopub.status.idle": "2021-05-30T18:34:59.649421Z",
     "shell.execute_reply": "2021-05-30T18:34:59.648710Z"
    },
    "papermill": {
     "duration": 0.07955,
     "end_time": "2021-05-30T18:34:59.649584",
     "exception": false,
     "start_time": "2021-05-30T18:34:59.570034",
     "status": "completed"
    },
    "tags": []
   },
   "outputs": [
    {
     "name": "stdout",
     "output_type": "stream",
     "text": [
      "/tmp\n"
     ]
    }
   ],
   "source": [
    "%cd /tmp"
   ]
  },
  {
   "cell_type": "code",
   "execution_count": 4,
   "id": "entire-couple",
   "metadata": {
    "execution": {
     "iopub.execute_input": "2021-05-30T18:34:59.714861Z",
     "iopub.status.busy": "2021-05-30T18:34:59.714181Z",
     "iopub.status.idle": "2021-05-30T18:35:03.212131Z",
     "shell.execute_reply": "2021-05-30T18:35:03.210751Z",
     "shell.execute_reply.started": "2021-05-25T22:38:20.218298Z"
    },
    "papermill": {
     "duration": 3.543533,
     "end_time": "2021-05-30T18:35:03.212327",
     "exception": false,
     "start_time": "2021-05-30T18:34:59.668794",
     "status": "completed"
    },
    "tags": []
   },
   "outputs": [
    {
     "name": "stdout",
     "output_type": "stream",
     "text": [
      "Cloning into 'fairseq'...\r\n",
      "remote: Enumerating objects: 28172, done.\u001b[K\r\n",
      "remote: Counting objects: 100% (586/586), done.\u001b[K\r\n",
      "remote: Compressing objects: 100% (339/339), done.\u001b[K\r\n",
      "remote: Total 28172 (delta 308), reused 465 (delta 234), pack-reused 27586\u001b[K\r\n",
      "Receiving objects: 100% (28172/28172), 11.87 MiB | 16.02 MiB/s, done.\r\n",
      "Resolving deltas: 100% (21127/21127), done.\r\n"
     ]
    }
   ],
   "source": [
    "!git clone https://github.com/pytorch/fairseq/"
   ]
  },
  {
   "cell_type": "code",
   "execution_count": 5,
   "id": "divine-airplane",
   "metadata": {
    "execution": {
     "iopub.execute_input": "2021-05-30T18:35:03.264810Z",
     "iopub.status.busy": "2021-05-30T18:35:03.264256Z",
     "iopub.status.idle": "2021-05-30T18:35:56.096546Z",
     "shell.execute_reply": "2021-05-30T18:35:56.095873Z"
    },
    "papermill": {
     "duration": 52.863868,
     "end_time": "2021-05-30T18:35:56.096662",
     "exception": false,
     "start_time": "2021-05-30T18:35:03.232794",
     "status": "completed"
    },
    "tags": []
   },
   "outputs": [],
   "source": [
    "%%capture\n",
    "!pip install git+https://github.com/pytorch/fairseq/"
   ]
  },
  {
   "cell_type": "code",
   "execution_count": 6,
   "id": "authorized-sacrifice",
   "metadata": {
    "execution": {
     "iopub.execute_input": "2021-05-30T18:35:56.141098Z",
     "iopub.status.busy": "2021-05-30T18:35:56.140596Z",
     "iopub.status.idle": "2021-05-30T18:35:58.087686Z",
     "shell.execute_reply": "2021-05-30T18:35:58.086991Z",
     "shell.execute_reply.started": "2021-05-25T22:47:02.096238Z"
    },
    "papermill": {
     "duration": 1.972861,
     "end_time": "2021-05-30T18:35:58.087801",
     "exception": false,
     "start_time": "2021-05-30T18:35:56.114940",
     "status": "completed"
    },
    "tags": []
   },
   "outputs": [
    {
     "name": "stdout",
     "output_type": "stream",
     "text": [
      "Cloning into 'kenlm'...\r\n",
      "remote: Enumerating objects: 13824, done.\u001b[K\r\n",
      "remote: Counting objects: 100% (137/137), done.\u001b[K\r\n",
      "remote: Compressing objects: 100% (79/79), done.\u001b[K\r\n",
      "remote: Total 13824 (delta 76), reused 92 (delta 45), pack-reused 13687\u001b[K\r\n",
      "Receiving objects: 100% (13824/13824), 5.49 MiB | 8.78 MiB/s, done.\r\n",
      "Resolving deltas: 100% (7956/7956), done.\r\n"
     ]
    }
   ],
   "source": [
    "!git clone https://github.com/kpu/kenlm"
   ]
  },
  {
   "cell_type": "code",
   "execution_count": 7,
   "id": "coated-north",
   "metadata": {
    "execution": {
     "iopub.execute_input": "2021-05-30T18:35:58.140578Z",
     "iopub.status.busy": "2021-05-30T18:35:58.136951Z",
     "iopub.status.idle": "2021-05-30T18:36:02.743950Z",
     "shell.execute_reply": "2021-05-30T18:36:02.743534Z"
    },
    "papermill": {
     "duration": 4.634298,
     "end_time": "2021-05-30T18:36:02.744065",
     "exception": false,
     "start_time": "2021-05-30T18:35:58.109767",
     "status": "completed"
    },
    "tags": []
   },
   "outputs": [],
   "source": [
    "%%capture\n",
    "!apt-get -y install libeigen3-dev liblzma-dev zlib1g-dev libbz2-dev"
   ]
  },
  {
   "cell_type": "code",
   "execution_count": 8,
   "id": "median-richards",
   "metadata": {
    "execution": {
     "iopub.execute_input": "2021-05-30T18:36:02.797188Z",
     "iopub.status.busy": "2021-05-30T18:36:02.796569Z",
     "iopub.status.idle": "2021-05-30T18:36:58.487120Z",
     "shell.execute_reply": "2021-05-30T18:36:58.486716Z"
    },
    "papermill": {
     "duration": 55.720459,
     "end_time": "2021-05-30T18:36:58.487262",
     "exception": false,
     "start_time": "2021-05-30T18:36:02.766803",
     "status": "completed"
    },
    "tags": []
   },
   "outputs": [],
   "source": [
    "%%capture\n",
    "%cd kenlm\n",
    "!mkdir build\n",
    "%cd build\n",
    "!cmake ..\n",
    "!make -j 4\n",
    "%cd /tmp"
   ]
  },
  {
   "cell_type": "code",
   "execution_count": 9,
   "id": "sexual-vitamin",
   "metadata": {
    "execution": {
     "iopub.execute_input": "2021-05-30T18:36:58.536912Z",
     "iopub.status.busy": "2021-05-30T18:36:58.536226Z",
     "iopub.status.idle": "2021-05-30T18:36:58.537991Z",
     "shell.execute_reply": "2021-05-30T18:36:58.538374Z",
     "shell.execute_reply.started": "2021-05-25T22:58:58.397816Z"
    },
    "papermill": {
     "duration": 0.028885,
     "end_time": "2021-05-30T18:36:58.538515",
     "exception": false,
     "start_time": "2021-05-30T18:36:58.509630",
     "status": "completed"
    },
    "tags": []
   },
   "outputs": [],
   "source": [
    "import os\n",
    "os.environ['PATH'] = f\"{os.environ['PATH']}:/tmp/kenlm/build/bin/\"\n",
    "os.environ['FAIRSEQ_ROOT'] = '/tmp/fairseq'"
   ]
  },
  {
   "cell_type": "code",
   "execution_count": 10,
   "id": "fourth-prescription",
   "metadata": {
    "execution": {
     "iopub.execute_input": "2021-05-30T18:36:58.586467Z",
     "iopub.status.busy": "2021-05-30T18:36:58.585776Z",
     "iopub.status.idle": "2021-05-30T18:36:58.593676Z",
     "shell.execute_reply": "2021-05-30T18:36:58.593027Z",
     "shell.execute_reply.started": "2021-05-25T22:55:38.373919Z"
    },
    "papermill": {
     "duration": 0.032663,
     "end_time": "2021-05-30T18:36:58.593814",
     "exception": false,
     "start_time": "2021-05-30T18:36:58.561151",
     "status": "completed"
    },
    "tags": []
   },
   "outputs": [
    {
     "name": "stdout",
     "output_type": "stream",
     "text": [
      "/tmp/fairseq/examples/wav2vec/unsupervised\n"
     ]
    }
   ],
   "source": [
    "%cd fairseq/examples/wav2vec/unsupervised"
   ]
  },
  {
   "cell_type": "code",
   "execution_count": 11,
   "id": "chief-vanilla",
   "metadata": {
    "execution": {
     "iopub.execute_input": "2021-05-30T18:36:58.646929Z",
     "iopub.status.busy": "2021-05-30T18:36:58.646460Z",
     "iopub.status.idle": "2021-05-30T18:36:58.649783Z",
     "shell.execute_reply": "2021-05-30T18:36:58.649347Z"
    },
    "papermill": {
     "duration": 0.032738,
     "end_time": "2021-05-30T18:36:58.649886",
     "exception": false,
     "start_time": "2021-05-30T18:36:58.617148",
     "status": "completed"
    },
    "tags": []
   },
   "outputs": [],
   "source": [
    "# Needed to see what's going wrong\n",
    "os.environ['HYDRA_FULL_ERROR'] = '1'"
   ]
  },
  {
   "cell_type": "code",
   "execution_count": 12,
   "id": "gentle-specialist",
   "metadata": {
    "execution": {
     "iopub.execute_input": "2021-05-30T18:36:58.698154Z",
     "iopub.status.busy": "2021-05-30T18:36:58.697688Z",
     "iopub.status.idle": "2021-05-30T18:36:58.701605Z",
     "shell.execute_reply": "2021-05-30T18:36:58.701223Z"
    },
    "papermill": {
     "duration": 0.029597,
     "end_time": "2021-05-30T18:36:58.701698",
     "exception": false,
     "start_time": "2021-05-30T18:36:58.672101",
     "status": "completed"
    },
    "tags": []
   },
   "outputs": [],
   "source": [
    "import os\n",
    "os.environ['LD_LIBRARY_PATH'] = '/opt/conda/lib:/opt/kaldi/tools/openfst-1.6.7/lib:/opt/kaldi/src/lib'"
   ]
  },
  {
   "cell_type": "markdown",
   "id": "frozen-maintenance",
   "metadata": {
    "papermill": {
     "duration": 0.02182,
     "end_time": "2021-05-30T18:36:58.746330",
     "exception": false,
     "start_time": "2021-05-30T18:36:58.724510",
     "status": "completed"
    },
    "tags": []
   },
   "source": [
    "## GAN"
   ]
  },
  {
   "cell_type": "code",
   "execution_count": 13,
   "id": "interested-timber",
   "metadata": {
    "execution": {
     "iopub.execute_input": "2021-05-30T18:36:58.798516Z",
     "iopub.status.busy": "2021-05-30T18:36:58.798018Z",
     "iopub.status.idle": "2021-05-30T18:36:59.070427Z",
     "shell.execute_reply": "2021-05-30T18:36:59.070839Z",
     "shell.execute_reply.started": "2021-05-30T16:46:39.899633Z"
    },
    "papermill": {
     "duration": 0.302385,
     "end_time": "2021-05-30T18:36:59.071023",
     "exception": false,
     "start_time": "2021-05-30T18:36:58.768638",
     "status": "completed"
    },
    "tags": []
   },
   "outputs": [
    {
     "name": "stdout",
     "output_type": "stream",
     "text": [
      "CLUS128\t\t    precompute_pca512_cls128_mean\t  train.npy\r\n",
      "__notebook__.ipynb  precompute_pca512_cls128_mean_pooled  train.phn\r\n",
      "__output__.json     test.lengths\t\t\t  train.tsv\r\n",
      "__results__.html    test.ltr\t\t\t\t  train.wrd\r\n",
      "custom.css\t    test.npy\t\t\t\t  valid.lengths\r\n",
      "dict.test\t    test.phn\t\t\t\t  valid.ltr\r\n",
      "dict.train\t    test.tsv\t\t\t\t  valid.npy\r\n",
      "dict.valid\t    test.wrd\t\t\t\t  valid.phn\r\n",
      "pca\t\t    train.lengths\t\t\t  valid.tsv\r\n",
      "precompute_pca512   train.ltr\t\t\t\t  valid.wrd\r\n"
     ]
    }
   ],
   "source": [
    "!ls /kaggle/input/wav2vec-u-cv-swedish-audio/"
   ]
  },
  {
   "cell_type": "code",
   "execution_count": 14,
   "id": "black-textbook",
   "metadata": {
    "execution": {
     "iopub.execute_input": "2021-05-30T18:36:59.124863Z",
     "iopub.status.busy": "2021-05-30T18:36:59.124056Z",
     "iopub.status.idle": "2021-05-30T18:36:59.129004Z",
     "shell.execute_reply": "2021-05-30T18:36:59.128558Z"
    },
    "papermill": {
     "duration": 0.035084,
     "end_time": "2021-05-30T18:36:59.129116",
     "exception": false,
     "start_time": "2021-05-30T18:36:59.094032",
     "status": "completed"
    },
    "tags": []
   },
   "outputs": [
    {
     "name": "stdout",
     "output_type": "stream",
     "text": [
      "Writing rungan.sh\n"
     ]
    }
   ],
   "source": [
    "%%writefile rungan.sh\n",
    "PREFIX=w2v_unsup_gan_xp\n",
    "#TASK_DATA=/path/to/features/unfiltered/precompute_unfiltered_pca512_cls128_mean_pooled\n",
    "TASK_DATA=/kaggle/input/wav2vec-u-cv-swedish-audio/precompute_pca512_cls128_mean_pooled/\n",
    "#TEXT_DATA=/path/to/data  # path to fairseq-preprocessed GAN data\n",
    "TEXT_DATA=/kaggle/input/wav2vec-u-cv-swedish-text-prep/preppedtext/phones/\n",
    "#KENLM_PATH=/path/to/data/kenlm.phn.o4.bin  # KenLM 4-gram phoneme language model (LM data = GAN data here)\n",
    "KENLM_PATH=/kaggle/input/wav2vec-u-cv-swedish-text-prep/preppedtext/phones/lm.phones.filtered.04.bin\n",
    "\n",
    "PREFIX=$PREFIX fairseq-hydra-train \\\n",
    "\t-m --config-dir config/gan \\\n",
    "\t--config-path ../examples/wav2vec/unsupervised \\\n",
    "\t--config-name w2vu \\\n",
    "\ttask._name='unpaired_audio_text' \\\n",
    "\ttask.data=${TASK_DATA} \\\n",
    "\ttask.text_data=${TEXT_DATA} \\\n",
    "\ttask.kenlm_path=${KENLM_PATH} \\\n",
    "\tcheckpoint.no_epoch_checkpoints=false \\\n",
    "\tcheckpoint.save_dir=/kaggle/working \\\n",
    "\t'common.seed=range(0,5)'"
   ]
  },
  {
   "cell_type": "code",
   "execution_count": 15,
   "id": "mechanical-jacob",
   "metadata": {
    "execution": {
     "iopub.execute_input": "2021-05-30T18:36:59.183653Z",
     "iopub.status.busy": "2021-05-30T18:36:59.180771Z",
     "iopub.status.idle": "2021-05-30T18:37:03.725127Z",
     "shell.execute_reply": "2021-05-30T18:37:03.724464Z"
    },
    "papermill": {
     "duration": 4.572332,
     "end_time": "2021-05-30T18:37:03.725298",
     "exception": false,
     "start_time": "2021-05-30T18:36:59.152966",
     "status": "completed"
    },
    "tags": []
   },
   "outputs": [
    {
     "name": "stdout",
     "output_type": "stream",
     "text": [
      "Traceback (most recent call last):\r\n",
      "  File \"/opt/conda/bin/fairseq-hydra-train\", line 8, in <module>\r\n",
      "    sys.exit(cli_main())\r\n",
      "  File \"/opt/conda/lib/python3.7/site-packages/fairseq_cli/hydra_train.py\", line 76, in cli_main\r\n",
      "    hydra_main()\r\n",
      "  File \"/opt/conda/lib/python3.7/site-packages/hydra/main.py\", line 37, in decorated_main\r\n",
      "    strict=strict,\r\n",
      "  File \"/opt/conda/lib/python3.7/site-packages/hydra/_internal/utils.py\", line 355, in _run_hydra\r\n",
      "    lambda: hydra.multirun(\r\n",
      "  File \"/opt/conda/lib/python3.7/site-packages/hydra/_internal/utils.py\", line 201, in run_and_report\r\n",
      "    raise ex\r\n",
      "  File \"/opt/conda/lib/python3.7/site-packages/hydra/_internal/utils.py\", line 198, in run_and_report\r\n",
      "    return func()\r\n",
      "  File \"/opt/conda/lib/python3.7/site-packages/hydra/_internal/utils.py\", line 358, in <lambda>\r\n",
      "    overrides=args.overrides,\r\n",
      "  File \"/opt/conda/lib/python3.7/site-packages/hydra/_internal/hydra.py\", line 128, in multirun\r\n",
      "    run_mode=RunMode.MULTIRUN,\r\n",
      "  File \"/opt/conda/lib/python3.7/site-packages/hydra/_internal/hydra.py\", line 505, in compose_config\r\n",
      "    self.config_loader.ensure_main_config_source_available()\r\n",
      "  File \"/opt/conda/lib/python3.7/site-packages/hydra/_internal/config_loader_impl.py\", line 139, in ensure_main_config_source_available\r\n",
      "    config_name=None, msg=msg, with_search_path=False\r\n",
      "  File \"/opt/conda/lib/python3.7/site-packages/hydra/_internal/config_loader_impl.py\", line 113, in missing_config_error\r\n",
      "    missing_cfg_file=config_name, message=add_search_path()\r\n",
      "hydra.errors.MissingConfigException: Primary config module 'examples.wav2vec.unsupervised' not found.\r\n",
      "Check that it's correct and contains an __init__.py file\r\n"
     ]
    }
   ],
   "source": [
    "!bash rungan.sh"
   ]
  }
 ],
 "metadata": {
  "kernelspec": {
   "display_name": "Python 3",
   "language": "python",
   "name": "python3"
  },
  "language_info": {
   "codemirror_mode": {
    "name": "ipython",
    "version": 3
   },
   "file_extension": ".py",
   "mimetype": "text/x-python",
   "name": "python",
   "nbconvert_exporter": "python",
   "pygments_lexer": "ipython3",
   "version": "3.7.10"
  },
  "papermill": {
   "default_parameters": {},
   "duration": 179.825048,
   "end_time": "2021-05-30T18:37:05.391622",
   "environment_variables": {},
   "exception": null,
   "input_path": "__notebook__.ipynb",
   "output_path": "__notebook__.ipynb",
   "parameters": {},
   "start_time": "2021-05-30T18:34:05.566574",
   "version": "2.3.3"
  }
 },
 "nbformat": 4,
 "nbformat_minor": 5
}
