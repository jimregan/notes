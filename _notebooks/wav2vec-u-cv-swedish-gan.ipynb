{
 "cells": [
  {
   "cell_type": "markdown",
   "id": "thousand-capture",
   "metadata": {
    "papermill": {
     "duration": 0.014975,
     "end_time": "2021-05-30T17:35:51.868211",
     "exception": false,
     "start_time": "2021-05-30T17:35:51.853236",
     "status": "completed"
    },
    "tags": []
   },
   "source": [
    "## Preparation"
   ]
  },
  {
   "cell_type": "code",
   "execution_count": 1,
   "id": "pressing-salem",
   "metadata": {
    "_cell_guid": "b1076dfc-b9ad-4769-8c92-a6c4dae69d19",
    "_uuid": "8f2839f25d086af736a60e9eeb907d3b93b6e0e5",
    "execution": {
     "iopub.execute_input": "2021-05-30T17:35:51.901026Z",
     "iopub.status.busy": "2021-05-30T17:35:51.899352Z",
     "iopub.status.idle": "2021-05-30T17:35:51.915312Z",
     "shell.execute_reply": "2021-05-30T17:35:51.915834Z",
     "shell.execute_reply.started": "2021-05-25T22:46:58.262403Z"
    },
    "papermill": {
     "duration": 0.033726,
     "end_time": "2021-05-30T17:35:51.916156",
     "exception": false,
     "start_time": "2021-05-30T17:35:51.882430",
     "status": "completed"
    },
    "tags": []
   },
   "outputs": [
    {
     "name": "stdout",
     "output_type": "stream",
     "text": [
      "/opt\n"
     ]
    }
   ],
   "source": [
    "%cd /opt"
   ]
  },
  {
   "cell_type": "code",
   "execution_count": 2,
   "id": "secondary-command",
   "metadata": {
    "execution": {
     "iopub.execute_input": "2021-05-30T17:35:51.957941Z",
     "iopub.status.busy": "2021-05-30T17:35:51.956819Z",
     "iopub.status.idle": "2021-05-30T17:36:32.359249Z",
     "shell.execute_reply": "2021-05-30T17:36:32.358411Z"
    },
    "papermill": {
     "duration": 40.424902,
     "end_time": "2021-05-30T17:36:32.359408",
     "exception": false,
     "start_time": "2021-05-30T17:35:51.934506",
     "status": "completed"
    },
    "tags": []
   },
   "outputs": [],
   "source": [
    "%%capture\n",
    "!tar xvf /kaggle/input/extract-prebuilt-kaldi-from-docker/kaldi.tar"
   ]
  },
  {
   "cell_type": "code",
   "execution_count": 3,
   "id": "honest-dayton",
   "metadata": {
    "execution": {
     "iopub.execute_input": "2021-05-30T17:36:32.395447Z",
     "iopub.status.busy": "2021-05-30T17:36:32.394462Z",
     "iopub.status.idle": "2021-05-30T17:36:32.399292Z",
     "shell.execute_reply": "2021-05-30T17:36:32.399953Z"
    },
    "papermill": {
     "duration": 0.026042,
     "end_time": "2021-05-30T17:36:32.400203",
     "exception": false,
     "start_time": "2021-05-30T17:36:32.374161",
     "status": "completed"
    },
    "tags": []
   },
   "outputs": [
    {
     "name": "stdout",
     "output_type": "stream",
     "text": [
      "/tmp\n"
     ]
    }
   ],
   "source": [
    "%cd /tmp"
   ]
  },
  {
   "cell_type": "code",
   "execution_count": 4,
   "id": "sunset-network",
   "metadata": {
    "execution": {
     "iopub.execute_input": "2021-05-30T17:36:32.435991Z",
     "iopub.status.busy": "2021-05-30T17:36:32.435332Z",
     "iopub.status.idle": "2021-05-30T17:36:35.767361Z",
     "shell.execute_reply": "2021-05-30T17:36:35.766022Z",
     "shell.execute_reply.started": "2021-05-25T22:38:20.218298Z"
    },
    "papermill": {
     "duration": 3.351558,
     "end_time": "2021-05-30T17:36:35.767610",
     "exception": false,
     "start_time": "2021-05-30T17:36:32.416052",
     "status": "completed"
    },
    "tags": []
   },
   "outputs": [
    {
     "name": "stdout",
     "output_type": "stream",
     "text": [
      "Cloning into 'fairseq'...\r\n",
      "remote: Enumerating objects: 28172, done.\u001b[K\r\n",
      "remote: Counting objects: 100% (586/586), done.\u001b[K\r\n",
      "remote: Compressing objects: 100% (340/340), done.\u001b[K\r\n",
      "remote: Total 28172 (delta 308), reused 464 (delta 233), pack-reused 27586\u001b[K\r\n",
      "Receiving objects: 100% (28172/28172), 11.89 MiB | 21.71 MiB/s, done.\r\n",
      "Resolving deltas: 100% (21133/21133), done.\r\n"
     ]
    }
   ],
   "source": [
    "!git clone https://github.com/pytorch/fairseq/"
   ]
  },
  {
   "cell_type": "code",
   "execution_count": 5,
   "id": "religious-providence",
   "metadata": {
    "execution": {
     "iopub.execute_input": "2021-05-30T17:36:35.825126Z",
     "iopub.status.busy": "2021-05-30T17:36:35.824156Z",
     "iopub.status.idle": "2021-05-30T17:37:33.811730Z",
     "shell.execute_reply": "2021-05-30T17:37:33.811118Z"
    },
    "papermill": {
     "duration": 58.018139,
     "end_time": "2021-05-30T17:37:33.811894",
     "exception": false,
     "start_time": "2021-05-30T17:36:35.793755",
     "status": "completed"
    },
    "tags": []
   },
   "outputs": [],
   "source": [
    "%%capture\n",
    "!pip install git+https://github.com/pytorch/fairseq/"
   ]
  },
  {
   "cell_type": "code",
   "execution_count": 6,
   "id": "rough-pillow",
   "metadata": {
    "execution": {
     "iopub.execute_input": "2021-05-30T17:37:33.866980Z",
     "iopub.status.busy": "2021-05-30T17:37:33.862171Z",
     "iopub.status.idle": "2021-05-30T17:37:35.836245Z",
     "shell.execute_reply": "2021-05-30T17:37:35.835569Z",
     "shell.execute_reply.started": "2021-05-25T22:47:02.096238Z"
    },
    "papermill": {
     "duration": 2.001382,
     "end_time": "2021-05-30T17:37:35.836386",
     "exception": false,
     "start_time": "2021-05-30T17:37:33.835004",
     "status": "completed"
    },
    "tags": []
   },
   "outputs": [
    {
     "name": "stdout",
     "output_type": "stream",
     "text": [
      "Cloning into 'kenlm'...\r\n",
      "remote: Enumerating objects: 13824, done.\u001b[K\r\n",
      "remote: Counting objects: 100% (137/137), done.\u001b[K\r\n",
      "remote: Compressing objects: 100% (79/79), done.\u001b[K\r\n",
      "remote: Total 13824 (delta 76), reused 92 (delta 45), pack-reused 13687\u001b[K\r\n",
      "Receiving objects: 100% (13824/13824), 5.49 MiB | 11.87 MiB/s, done.\r\n",
      "Resolving deltas: 100% (7956/7956), done.\r\n"
     ]
    }
   ],
   "source": [
    "!git clone https://github.com/kpu/kenlm"
   ]
  },
  {
   "cell_type": "code",
   "execution_count": 7,
   "id": "proud-cartridge",
   "metadata": {
    "execution": {
     "iopub.execute_input": "2021-05-30T17:37:35.901113Z",
     "iopub.status.busy": "2021-05-30T17:37:35.897617Z",
     "iopub.status.idle": "2021-05-30T17:37:42.133265Z",
     "shell.execute_reply": "2021-05-30T17:37:42.132544Z"
    },
    "papermill": {
     "duration": 6.269746,
     "end_time": "2021-05-30T17:37:42.133427",
     "exception": false,
     "start_time": "2021-05-30T17:37:35.863681",
     "status": "completed"
    },
    "tags": []
   },
   "outputs": [],
   "source": [
    "%%capture\n",
    "!apt-get -y install libeigen3-dev liblzma-dev zlib1g-dev libbz2-dev"
   ]
  },
  {
   "cell_type": "code",
   "execution_count": 8,
   "id": "pretty-memory",
   "metadata": {
    "execution": {
     "iopub.execute_input": "2021-05-30T17:37:42.200509Z",
     "iopub.status.busy": "2021-05-30T17:37:42.199734Z",
     "iopub.status.idle": "2021-05-30T17:38:54.316753Z",
     "shell.execute_reply": "2021-05-30T17:38:54.316134Z"
    },
    "papermill": {
     "duration": 72.155315,
     "end_time": "2021-05-30T17:38:54.316930",
     "exception": false,
     "start_time": "2021-05-30T17:37:42.161615",
     "status": "completed"
    },
    "tags": []
   },
   "outputs": [],
   "source": [
    "%%capture\n",
    "%cd kenlm\n",
    "!mkdir build\n",
    "%cd build\n",
    "!cmake ..\n",
    "!make -j 4\n",
    "%cd /tmp"
   ]
  },
  {
   "cell_type": "code",
   "execution_count": 9,
   "id": "environmental-lighting",
   "metadata": {
    "execution": {
     "iopub.execute_input": "2021-05-30T17:38:54.378032Z",
     "iopub.status.busy": "2021-05-30T17:38:54.377242Z",
     "iopub.status.idle": "2021-05-30T17:38:54.380666Z",
     "shell.execute_reply": "2021-05-30T17:38:54.380047Z",
     "shell.execute_reply.started": "2021-05-25T22:58:58.397816Z"
    },
    "papermill": {
     "duration": 0.036127,
     "end_time": "2021-05-30T17:38:54.380824",
     "exception": false,
     "start_time": "2021-05-30T17:38:54.344697",
     "status": "completed"
    },
    "tags": []
   },
   "outputs": [],
   "source": [
    "import os\n",
    "os.environ['PATH'] = f\"{os.environ['PATH']}:/tmp/kenlm/build/bin/\"\n",
    "os.environ['FAIRSEQ_ROOT'] = '/tmp/fairseq'"
   ]
  },
  {
   "cell_type": "code",
   "execution_count": 10,
   "id": "concerned-spray",
   "metadata": {
    "execution": {
     "iopub.execute_input": "2021-05-30T17:38:54.441394Z",
     "iopub.status.busy": "2021-05-30T17:38:54.440339Z",
     "iopub.status.idle": "2021-05-30T17:38:54.446814Z",
     "shell.execute_reply": "2021-05-30T17:38:54.445835Z",
     "shell.execute_reply.started": "2021-05-25T22:55:38.373919Z"
    },
    "papermill": {
     "duration": 0.038806,
     "end_time": "2021-05-30T17:38:54.447034",
     "exception": false,
     "start_time": "2021-05-30T17:38:54.408228",
     "status": "completed"
    },
    "tags": []
   },
   "outputs": [
    {
     "name": "stdout",
     "output_type": "stream",
     "text": [
      "/tmp/fairseq/examples/wav2vec/unsupervised\n"
     ]
    }
   ],
   "source": [
    "%cd fairseq/examples/wav2vec/unsupervised"
   ]
  },
  {
   "cell_type": "code",
   "execution_count": 11,
   "id": "extended-approach",
   "metadata": {
    "execution": {
     "iopub.execute_input": "2021-05-30T17:38:54.506811Z",
     "iopub.status.busy": "2021-05-30T17:38:54.505802Z",
     "iopub.status.idle": "2021-05-30T17:38:54.511111Z",
     "shell.execute_reply": "2021-05-30T17:38:54.510342Z"
    },
    "papermill": {
     "duration": 0.035781,
     "end_time": "2021-05-30T17:38:54.511263",
     "exception": false,
     "start_time": "2021-05-30T17:38:54.475482",
     "status": "completed"
    },
    "tags": []
   },
   "outputs": [],
   "source": [
    "# Needed to see what's going wrong\n",
    "os.environ['HYDRA_FULL_ERROR'] = '1'"
   ]
  },
  {
   "cell_type": "code",
   "execution_count": 12,
   "id": "gorgeous-czech",
   "metadata": {
    "execution": {
     "iopub.execute_input": "2021-05-30T17:38:54.572016Z",
     "iopub.status.busy": "2021-05-30T17:38:54.571273Z",
     "iopub.status.idle": "2021-05-30T17:38:54.574799Z",
     "shell.execute_reply": "2021-05-30T17:38:54.574240Z"
    },
    "papermill": {
     "duration": 0.035734,
     "end_time": "2021-05-30T17:38:54.574955",
     "exception": false,
     "start_time": "2021-05-30T17:38:54.539221",
     "status": "completed"
    },
    "tags": []
   },
   "outputs": [],
   "source": [
    "import os\n",
    "os.environ['LD_LIBRARY_PATH'] = '/opt/conda/lib:/opt/kaldi/tools/openfst-1.6.7/lib:/opt/kaldi/src/lib'"
   ]
  },
  {
   "cell_type": "markdown",
   "id": "thermal-opera",
   "metadata": {
    "papermill": {
     "duration": 0.027409,
     "end_time": "2021-05-30T17:38:54.630215",
     "exception": false,
     "start_time": "2021-05-30T17:38:54.602806",
     "status": "completed"
    },
    "tags": []
   },
   "source": [
    "## GAN"
   ]
  },
  {
   "cell_type": "code",
   "execution_count": 13,
   "id": "acquired-messaging",
   "metadata": {
    "execution": {
     "iopub.execute_input": "2021-05-30T17:38:54.694756Z",
     "iopub.status.busy": "2021-05-30T17:38:54.690891Z",
     "iopub.status.idle": "2021-05-30T17:38:55.427666Z",
     "shell.execute_reply": "2021-05-30T17:38:55.426924Z",
     "shell.execute_reply.started": "2021-05-30T16:46:39.899633Z"
    },
    "papermill": {
     "duration": 0.769507,
     "end_time": "2021-05-30T17:38:55.427817",
     "exception": false,
     "start_time": "2021-05-30T17:38:54.658310",
     "status": "completed"
    },
    "tags": []
   },
   "outputs": [
    {
     "name": "stdout",
     "output_type": "stream",
     "text": [
      "CLUS128\t\t    precompute_pca512_cls128_mean\t  train.npy\r\n",
      "__notebook__.ipynb  precompute_pca512_cls128_mean_pooled  train.phn\r\n",
      "__output__.json     test.lengths\t\t\t  train.tsv\r\n",
      "__results__.html    test.ltr\t\t\t\t  train.wrd\r\n",
      "custom.css\t    test.npy\t\t\t\t  valid.lengths\r\n",
      "dict.test\t    test.phn\t\t\t\t  valid.ltr\r\n",
      "dict.train\t    test.tsv\t\t\t\t  valid.npy\r\n",
      "dict.valid\t    test.wrd\t\t\t\t  valid.phn\r\n",
      "pca\t\t    train.lengths\t\t\t  valid.tsv\r\n",
      "precompute_pca512   train.ltr\t\t\t\t  valid.wrd\r\n"
     ]
    }
   ],
   "source": [
    "!ls /kaggle/input/wav2vec-u-cv-swedish-audio/"
   ]
  },
  {
   "cell_type": "code",
   "execution_count": 14,
   "id": "blessed-trial",
   "metadata": {
    "execution": {
     "iopub.execute_input": "2021-05-30T17:38:55.492774Z",
     "iopub.status.busy": "2021-05-30T17:38:55.489358Z",
     "iopub.status.idle": "2021-05-30T17:38:56.252472Z",
     "shell.execute_reply": "2021-05-30T17:38:56.251773Z",
     "shell.execute_reply.started": "2021-05-30T16:48:08.968025Z"
    },
    "papermill": {
     "duration": 0.796489,
     "end_time": "2021-05-30T17:38:56.252643",
     "exception": false,
     "start_time": "2021-05-30T17:38:55.456154",
     "status": "completed"
    },
    "tags": []
   },
   "outputs": [
    {
     "name": "stdout",
     "output_type": "stream",
     "text": [
      "/kaggle/input/wav2vec-u-cv-swedish-text-prep/preppedtext/phones/train.bin\r\n",
      "/kaggle/input/wav2vec-u-cv-swedish-text-prep/preppedtext/phones/lm.phones.filtered.04.bin\r\n",
      "/kaggle/input/wav2vec-u-cv-swedish-text-prep/preppedtext/phones/lm.phones.filtered.06.bin\r\n",
      "/kaggle/input/wav2vec-u-cv-swedish-text-prep/preppedtext/kenlm.wrd.o40003.bin\r\n"
     ]
    }
   ],
   "source": [
    "!find /kaggle/input/wav2vec-u-cv-swedish-text-prep/preppedtext/ -name '*.bin'"
   ]
  },
  {
   "cell_type": "code",
   "execution_count": 15,
   "id": "smaller-finland",
   "metadata": {
    "execution": {
     "iopub.execute_input": "2021-05-30T17:38:56.319820Z",
     "iopub.status.busy": "2021-05-30T17:38:56.315229Z",
     "iopub.status.idle": "2021-05-30T17:38:57.035741Z",
     "shell.execute_reply": "2021-05-30T17:38:57.035006Z",
     "shell.execute_reply.started": "2021-05-30T16:54:05.686006Z"
    },
    "papermill": {
     "duration": 0.754628,
     "end_time": "2021-05-30T17:38:57.035908",
     "exception": false,
     "start_time": "2021-05-30T17:38:56.281280",
     "status": "completed"
    },
    "tags": []
   },
   "outputs": [
    {
     "name": "stdout",
     "output_type": "stream",
     "text": [
      "/kaggle/input/wav2vec-u-cv-swedish-text-prep/preppedtext/phones/dict.txt\r\n"
     ]
    }
   ],
   "source": [
    "!find /kaggle/input/wav2vec-u-cv-swedish-text-prep/preppedtext/ -name 'dict.txt'"
   ]
  },
  {
   "cell_type": "code",
   "execution_count": 16,
   "id": "closed-gazette",
   "metadata": {
    "execution": {
     "iopub.execute_input": "2021-05-30T17:38:57.101718Z",
     "iopub.status.busy": "2021-05-30T17:38:57.101004Z",
     "iopub.status.idle": "2021-05-30T17:38:57.106570Z",
     "shell.execute_reply": "2021-05-30T17:38:57.106007Z"
    },
    "papermill": {
     "duration": 0.041691,
     "end_time": "2021-05-30T17:38:57.106738",
     "exception": false,
     "start_time": "2021-05-30T17:38:57.065047",
     "status": "completed"
    },
    "tags": []
   },
   "outputs": [
    {
     "name": "stdout",
     "output_type": "stream",
     "text": [
      "Writing rungan.sh\n"
     ]
    }
   ],
   "source": [
    "%%writefile rungan.sh\n",
    "PREFIX=w2v_unsup_gan_xp\n",
    "#TASK_DATA=/path/to/features/unfiltered/precompute_unfiltered_pca512_cls128_mean_pooled\n",
    "TASK_DATA=/kaggle/input/wav2vec-u-cv-swedish-audio/precompute_pca512_cls128_mean_pooled/\n",
    "#TEXT_DATA=/path/to/data  # path to fairseq-preprocessed GAN data\n",
    "TEXT_DATA=/kaggle/input/wav2vec-u-cv-swedish-text-prep/preppedtext/phones/\n",
    "#KENLM_PATH=/path/to/data/kenlm.phn.o4.bin  # KenLM 4-gram phoneme language model (LM data = GAN data here)\n",
    "KENLM_PATH=/kaggle/input/wav2vec-u-cv-swedish-text-prep/preppedtext/phones/lm.phones.filtered.04.bin\n",
    "\n",
    "PREFIX=$PREFIX fairseq-hydra-train \\\n",
    "\t-m --config-dir config/gan \\\n",
    "\t_name='unpaired_audio_text' \\\n",
    "\t--config-name w2vu \\\n",
    "\ttask.data=${TASK_DATA} \\\n",
    "\ttask.text_data=${TEXT_DATA} \\\n",
    "\ttask.kenlm_path=${KENLM_PATH} \\\n",
    "\tcheckpoint.no_epoch_checkpoints=false \\\n",
    "\tcheckpoint.save_dir=/kaggle/working \\\n",
    "\t'common.seed=range(0,5)'"
   ]
  },
  {
   "cell_type": "code",
   "execution_count": 17,
   "id": "dense-advocate",
   "metadata": {
    "execution": {
     "iopub.execute_input": "2021-05-30T17:38:57.177253Z",
     "iopub.status.busy": "2021-05-30T17:38:57.176587Z",
     "iopub.status.idle": "2021-05-30T17:39:02.281261Z",
     "shell.execute_reply": "2021-05-30T17:39:02.280556Z"
    },
    "papermill": {
     "duration": 5.144365,
     "end_time": "2021-05-30T17:39:02.281410",
     "exception": false,
     "start_time": "2021-05-30T17:38:57.137045",
     "status": "completed"
    },
    "tags": []
   },
   "outputs": [
    {
     "name": "stdout",
     "output_type": "stream",
     "text": [
      "usage: fairseq-hydra-train [--help] [--hydra-help] [--version]\r\n",
      "                           [--cfg {job,hydra,all}] [--package PACKAGE] [--run]\r\n",
      "                           [--multirun] [--shell-completion]\r\n",
      "                           [--config-path CONFIG_PATH]\r\n",
      "                           [--config-name CONFIG_NAME]\r\n",
      "                           [--config-dir CONFIG_DIR] [--info]\r\n",
      "                           [overrides [overrides ...]]\r\n",
      "fairseq-hydra-train: error: unrecognized arguments: task.data=/kaggle/input/wav2vec-u-cv-swedish-audio/precompute_pca512_cls128_mean_pooled/ task.text_data=/kaggle/input/wav2vec-u-cv-swedish-text-prep/preppedtext/phones/ task.kenlm_path=/kaggle/input/wav2vec-u-cv-swedish-text-prep/preppedtext/phones/lm.phones.filtered.04.bin checkpoint.no_epoch_checkpoints=false checkpoint.save_dir=/kaggle/working common.seed=range(0,5)\r\n",
      "usage: fairseq-hydra-train [--help] [--hydra-help] [--version]\r\n",
      "                           [--cfg {job,hydra,all}] [--package PACKAGE] [--run]\r\n",
      "                           [--multirun] [--shell-completion]\r\n",
      "                           [--config-path CONFIG_PATH]\r\n",
      "                           [--config-name CONFIG_NAME]\r\n",
      "                           [--config-dir CONFIG_DIR] [--info]\r\n",
      "                           [overrides [overrides ...]]\r\n",
      "fairseq-hydra-train: error: unrecognized arguments: task.data=/kaggle/input/wav2vec-u-cv-swedish-audio/precompute_pca512_cls128_mean_pooled/ task.text_data=/kaggle/input/wav2vec-u-cv-swedish-text-prep/preppedtext/phones/ task.kenlm_path=/kaggle/input/wav2vec-u-cv-swedish-text-prep/preppedtext/phones/lm.phones.filtered.04.bin checkpoint.no_epoch_checkpoints=false checkpoint.save_dir=/kaggle/working common.seed=range(0,5)\r\n"
     ]
    }
   ],
   "source": [
    "!bash rungan.sh"
   ]
  }
 ],
 "metadata": {
  "kernelspec": {
   "display_name": "Python 3",
   "language": "python",
   "name": "python3"
  },
  "language_info": {
   "codemirror_mode": {
    "name": "ipython",
    "version": 3
   },
   "file_extension": ".py",
   "mimetype": "text/x-python",
   "name": "python",
   "nbconvert_exporter": "python",
   "pygments_lexer": "ipython3",
   "version": "3.7.10"
  },
  "papermill": {
   "default_parameters": {},
   "duration": 199.790576,
   "end_time": "2021-05-30T17:39:03.024072",
   "environment_variables": {},
   "exception": null,
   "input_path": "__notebook__.ipynb",
   "output_path": "__notebook__.ipynb",
   "parameters": {},
   "start_time": "2021-05-30T17:35:43.233496",
   "version": "2.3.3"
  }
 },
 "nbformat": 4,
 "nbformat_minor": 5
}
