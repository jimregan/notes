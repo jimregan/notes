{
 "cells": [
  {
   "cell_type": "markdown",
   "id": "confident-lighter",
   "metadata": {
    "papermill": {
     "duration": 0.012473,
     "end_time": "2021-05-31T11:37:01.571386",
     "exception": false,
     "start_time": "2021-05-31T11:37:01.558913",
     "status": "completed"
    },
    "tags": []
   },
   "source": [
    "## Preparation"
   ]
  },
  {
   "cell_type": "code",
   "execution_count": 1,
   "id": "injured-overhead",
   "metadata": {
    "_cell_guid": "b1076dfc-b9ad-4769-8c92-a6c4dae69d19",
    "_uuid": "8f2839f25d086af736a60e9eeb907d3b93b6e0e5",
    "execution": {
     "iopub.execute_input": "2021-05-31T11:37:01.620143Z",
     "iopub.status.busy": "2021-05-31T11:37:01.619039Z",
     "iopub.status.idle": "2021-05-31T11:40:39.682165Z",
     "shell.execute_reply": "2021-05-31T11:40:39.681277Z",
     "shell.execute_reply.started": "2021-05-30T19:07:03.966422Z"
    },
    "papermill": {
     "duration": 218.099217,
     "end_time": "2021-05-31T11:40:39.682371",
     "exception": false,
     "start_time": "2021-05-31T11:37:01.583154",
     "status": "completed"
    },
    "tags": []
   },
   "outputs": [],
   "source": [
    "%%capture\n",
    "!conda install -c pykaldi pykaldi -y"
   ]
  },
  {
   "cell_type": "code",
   "execution_count": 2,
   "id": "important-medicare",
   "metadata": {
    "execution": {
     "iopub.execute_input": "2021-05-31T11:40:39.709203Z",
     "iopub.status.busy": "2021-05-31T11:40:39.708624Z",
     "iopub.status.idle": "2021-05-31T11:40:39.715569Z",
     "shell.execute_reply": "2021-05-31T11:40:39.716061Z"
    },
    "papermill": {
     "duration": 0.021916,
     "end_time": "2021-05-31T11:40:39.716261",
     "exception": false,
     "start_time": "2021-05-31T11:40:39.694345",
     "status": "completed"
    },
    "tags": []
   },
   "outputs": [
    {
     "name": "stdout",
     "output_type": "stream",
     "text": [
      "/tmp\n"
     ]
    }
   ],
   "source": [
    "%cd /tmp"
   ]
  },
  {
   "cell_type": "code",
   "execution_count": 3,
   "id": "mysterious-return",
   "metadata": {
    "execution": {
     "iopub.execute_input": "2021-05-31T11:40:39.749657Z",
     "iopub.status.busy": "2021-05-31T11:40:39.745017Z",
     "iopub.status.idle": "2021-05-31T11:40:47.028003Z",
     "shell.execute_reply": "2021-05-31T11:40:47.027480Z",
     "shell.execute_reply.started": "2021-05-25T22:38:20.218298Z"
    },
    "papermill": {
     "duration": 7.299363,
     "end_time": "2021-05-31T11:40:47.028159",
     "exception": false,
     "start_time": "2021-05-31T11:40:39.728796",
     "status": "completed"
    },
    "tags": []
   },
   "outputs": [
    {
     "name": "stdout",
     "output_type": "stream",
     "text": [
      "Cloning into 'fairseq'...\r\n",
      "remote: Enumerating objects: 28209, done.\u001b[K\r\n",
      "remote: Counting objects: 100% (621/621), done.\u001b[K\r\n",
      "remote: Compressing objects: 100% (356/356), done.\u001b[K\r\n",
      "remote: Total 28209 (delta 329), reused 494 (delta 250), pack-reused 27588\u001b[K\r\n",
      "Receiving objects: 100% (28209/28209), 11.88 MiB | 6.66 MiB/s, done.\r\n",
      "Resolving deltas: 100% (21148/21148), done.\r\n"
     ]
    }
   ],
   "source": [
    "!git clone https://github.com/jimregan/fairseq/ --branch issue3581"
   ]
  },
  {
   "cell_type": "code",
   "execution_count": 4,
   "id": "mediterranean-fields",
   "metadata": {
    "execution": {
     "iopub.execute_input": "2021-05-31T11:40:47.079013Z",
     "iopub.status.busy": "2021-05-31T11:40:47.078439Z",
     "iopub.status.idle": "2021-05-31T11:40:50.864555Z",
     "shell.execute_reply": "2021-05-31T11:40:50.863900Z",
     "shell.execute_reply.started": "2021-05-25T22:47:02.096238Z"
    },
    "papermill": {
     "duration": 3.815253,
     "end_time": "2021-05-31T11:40:50.864711",
     "exception": false,
     "start_time": "2021-05-31T11:40:47.049458",
     "status": "completed"
    },
    "tags": []
   },
   "outputs": [
    {
     "name": "stdout",
     "output_type": "stream",
     "text": [
      "Cloning into 'kenlm'...\r\n",
      "remote: Enumerating objects: 13824, done.\u001b[K\r\n",
      "remote: Counting objects: 100% (137/137), done.\u001b[K\r\n",
      "remote: Compressing objects: 100% (79/79), done.\u001b[K\r\n",
      "remote: Total 13824 (delta 76), reused 92 (delta 45), pack-reused 13687\u001b[K\r\n",
      "Receiving objects: 100% (13824/13824), 5.49 MiB | 4.31 MiB/s, done.\r\n",
      "Resolving deltas: 100% (7956/7956), done.\r\n"
     ]
    }
   ],
   "source": [
    "!git clone https://github.com/kpu/kenlm"
   ]
  },
  {
   "cell_type": "code",
   "execution_count": 5,
   "id": "reduced-israeli",
   "metadata": {
    "execution": {
     "iopub.execute_input": "2021-05-31T11:40:50.926383Z",
     "iopub.status.busy": "2021-05-31T11:40:50.923294Z",
     "iopub.status.idle": "2021-05-31T11:40:57.764081Z",
     "shell.execute_reply": "2021-05-31T11:40:57.764595Z"
    },
    "papermill": {
     "duration": 6.87409,
     "end_time": "2021-05-31T11:40:57.764767",
     "exception": false,
     "start_time": "2021-05-31T11:40:50.890677",
     "status": "completed"
    },
    "tags": []
   },
   "outputs": [],
   "source": [
    "%%capture\n",
    "!apt-get -y install libeigen3-dev liblzma-dev zlib1g-dev libbz2-dev"
   ]
  },
  {
   "cell_type": "code",
   "execution_count": 6,
   "id": "beginning-texture",
   "metadata": {
    "execution": {
     "iopub.execute_input": "2021-05-31T11:40:57.818889Z",
     "iopub.status.busy": "2021-05-31T11:40:57.818334Z",
     "iopub.status.idle": "2021-05-31T11:42:06.932029Z",
     "shell.execute_reply": "2021-05-31T11:42:06.931459Z"
    },
    "papermill": {
     "duration": 69.142071,
     "end_time": "2021-05-31T11:42:06.932185",
     "exception": false,
     "start_time": "2021-05-31T11:40:57.790114",
     "status": "completed"
    },
    "tags": []
   },
   "outputs": [],
   "source": [
    "%%capture\n",
    "%cd kenlm\n",
    "!mkdir build\n",
    "%cd build\n",
    "!cmake ..\n",
    "!make -j 4\n",
    "%cd /tmp"
   ]
  },
  {
   "cell_type": "code",
   "execution_count": 7,
   "id": "mighty-correction",
   "metadata": {
    "execution": {
     "iopub.execute_input": "2021-05-31T11:42:06.991663Z",
     "iopub.status.busy": "2021-05-31T11:42:06.990645Z",
     "iopub.status.idle": "2021-05-31T11:42:06.992907Z",
     "shell.execute_reply": "2021-05-31T11:42:06.993345Z",
     "shell.execute_reply.started": "2021-05-25T22:58:58.397816Z"
    },
    "papermill": {
     "duration": 0.034308,
     "end_time": "2021-05-31T11:42:06.993502",
     "exception": false,
     "start_time": "2021-05-31T11:42:06.959194",
     "status": "completed"
    },
    "tags": []
   },
   "outputs": [],
   "source": [
    "import os\n",
    "os.environ['PATH'] = f\"{os.environ['PATH']}:/tmp/kenlm/build/bin/\"\n",
    "os.environ['FAIRSEQ_ROOT'] = '/tmp/fairseq'"
   ]
  },
  {
   "cell_type": "code",
   "execution_count": 8,
   "id": "governmental-amplifier",
   "metadata": {
    "execution": {
     "iopub.execute_input": "2021-05-31T11:42:07.050528Z",
     "iopub.status.busy": "2021-05-31T11:42:07.049593Z",
     "iopub.status.idle": "2021-05-31T11:42:07.056421Z",
     "shell.execute_reply": "2021-05-31T11:42:07.057109Z",
     "shell.execute_reply.started": "2021-05-25T22:55:38.373919Z"
    },
    "papermill": {
     "duration": 0.036995,
     "end_time": "2021-05-31T11:42:07.057328",
     "exception": false,
     "start_time": "2021-05-31T11:42:07.020333",
     "status": "completed"
    },
    "tags": []
   },
   "outputs": [
    {
     "name": "stdout",
     "output_type": "stream",
     "text": [
      "/tmp/fairseq\n"
     ]
    }
   ],
   "source": [
    "%cd /tmp/fairseq/"
   ]
  },
  {
   "cell_type": "code",
   "execution_count": 9,
   "id": "working-spotlight",
   "metadata": {
    "execution": {
     "iopub.execute_input": "2021-05-31T11:42:07.119449Z",
     "iopub.status.busy": "2021-05-31T11:42:07.116059Z",
     "iopub.status.idle": "2021-05-31T11:43:04.238238Z",
     "shell.execute_reply": "2021-05-31T11:43:04.237705Z"
    },
    "papermill": {
     "duration": 57.153733,
     "end_time": "2021-05-31T11:43:04.238417",
     "exception": false,
     "start_time": "2021-05-31T11:42:07.084684",
     "status": "completed"
    },
    "tags": []
   },
   "outputs": [
    {
     "name": "stdout",
     "output_type": "stream",
     "text": [
      "Processing /tmp/fairseq\r\n",
      "  Installing build dependencies ... \u001b[?25l-\b \b\\\b \b|\b \b/\b \b-\b \b\\\b \b|\b \b/\b \bdone\r\n",
      "\u001b[?25h  Getting requirements to build wheel ... \u001b[?25ldone\r\n",
      "\u001b[?25h  Installing backend dependencies ... \u001b[?25l-\b \b\\\b \b|\b \b/\b \b-\b \bdone\r\n",
      "\u001b[?25h    Preparing wheel metadata ... \u001b[?25l-\b \b\\\b \bdone\r\n",
      "\u001b[?25hRequirement already satisfied: regex in /opt/conda/lib/python3.7/site-packages (from fairseq==1.0.0a0+5744f04) (2021.3.17)\r\n",
      "Requirement already satisfied: cython in /opt/conda/lib/python3.7/site-packages (from fairseq==1.0.0a0+5744f04) (0.29.23)\r\n",
      "Collecting omegaconf<2.1\r\n",
      "  Downloading omegaconf-2.0.6-py3-none-any.whl (36 kB)\r\n",
      "Requirement already satisfied: torch in /opt/conda/lib/python3.7/site-packages (from fairseq==1.0.0a0+5744f04) (1.7.0)\r\n",
      "Requirement already satisfied: tqdm in /opt/conda/lib/python3.7/site-packages (from fairseq==1.0.0a0+5744f04) (4.59.0)\r\n",
      "Requirement already satisfied: numpy in /opt/conda/lib/python3.7/site-packages (from fairseq==1.0.0a0+5744f04) (1.19.5)\r\n",
      "Requirement already satisfied: cffi in /opt/conda/lib/python3.7/site-packages (from fairseq==1.0.0a0+5744f04) (1.14.5)\r\n",
      "Collecting sacrebleu>=1.4.12\r\n",
      "  Downloading sacrebleu-1.5.1-py3-none-any.whl (54 kB)\r\n",
      "\u001b[K     |████████████████████████████████| 54 kB 602 kB/s \r\n",
      "\u001b[?25hCollecting hydra-core<1.1\r\n",
      "  Downloading hydra_core-1.0.6-py3-none-any.whl (123 kB)\r\n",
      "\u001b[K     |████████████████████████████████| 123 kB 1.2 MB/s \r\n",
      "\u001b[?25hCollecting antlr4-python3-runtime==4.8\r\n",
      "  Downloading antlr4-python3-runtime-4.8.tar.gz (112 kB)\r\n",
      "\u001b[K     |████████████████████████████████| 112 kB 2.5 MB/s \r\n",
      "\u001b[?25hCollecting importlib-resources\r\n",
      "  Downloading importlib_resources-5.1.4-py3-none-any.whl (26 kB)\r\n",
      "Requirement already satisfied: typing-extensions in /opt/conda/lib/python3.7/site-packages (from omegaconf<2.1->fairseq==1.0.0a0+5744f04) (3.7.4.3)\r\n",
      "Requirement already satisfied: PyYAML>=5.1.* in /opt/conda/lib/python3.7/site-packages (from omegaconf<2.1->fairseq==1.0.0a0+5744f04) (5.3.1)\r\n",
      "Collecting portalocker==2.0.0\r\n",
      "  Downloading portalocker-2.0.0-py2.py3-none-any.whl (11 kB)\r\n",
      "Requirement already satisfied: pycparser in /opt/conda/lib/python3.7/site-packages (from cffi->fairseq==1.0.0a0+5744f04) (2.20)\r\n",
      "Requirement already satisfied: zipp>=3.1.0 in /opt/conda/lib/python3.7/site-packages (from importlib-resources->hydra-core<1.1->fairseq==1.0.0a0+5744f04) (3.4.1)\r\n",
      "Requirement already satisfied: future in /opt/conda/lib/python3.7/site-packages (from torch->fairseq==1.0.0a0+5744f04) (0.18.2)\r\n",
      "Requirement already satisfied: dataclasses in /opt/conda/lib/python3.7/site-packages (from torch->fairseq==1.0.0a0+5744f04) (0.6)\r\n",
      "Building wheels for collected packages: fairseq, antlr4-python3-runtime\r\n",
      "  Building wheel for fairseq (PEP 517) ... \u001b[?25l-\b \b\\\b \b|\b \b/\b \b-\b \b\\\b \b|\b \b/\b \b-\b \b\\\b \b|\b \b/\b \b-\b \b\\\b \b|\b \b/\b \b-\b \b\\\b \b|\b \bdone\r\n",
      "\u001b[?25h  Created wheel for fairseq: filename=fairseq-1.0.0a0+5744f04-cp37-cp37m-linux_x86_64.whl size=2041095 sha256=396bf98e6b8df537a852cad0376571990d6b173915345e53fa49f85f693bfba4\r\n",
      "  Stored in directory: /tmp/pip-ephem-wheel-cache-m2br3191/wheels/e3/52/72/c9070e4abac84e3448568d15e13e9e42bb689c08614271d8f3\r\n",
      "  Building wheel for antlr4-python3-runtime (setup.py) ... \u001b[?25l-\b \b\\\b \bdone\r\n",
      "\u001b[?25h  Created wheel for antlr4-python3-runtime: filename=antlr4_python3_runtime-4.8-py3-none-any.whl size=141230 sha256=4f6e14eb9940f4d1e575e1591433d892b828ee4bfae425472d2203a0f5ddb907\r\n",
      "  Stored in directory: /root/.cache/pip/wheels/ca/33/b7/336836125fc9bb4ceaa4376d8abca10ca8bc84ddc824baea6c\r\n",
      "Successfully built fairseq antlr4-python3-runtime\r\n",
      "Installing collected packages: portalocker, omegaconf, importlib-resources, antlr4-python3-runtime, sacrebleu, hydra-core, fairseq\r\n",
      "  Attempting uninstall: portalocker\r\n",
      "    Found existing installation: portalocker 2.3.0\r\n",
      "    Uninstalling portalocker-2.3.0:\r\n",
      "      Successfully uninstalled portalocker-2.3.0\r\n",
      "Successfully installed antlr4-python3-runtime-4.8 fairseq-1.0.0a0+5744f04 hydra-core-1.0.6 importlib-resources-5.1.4 omegaconf-2.0.6 portalocker-2.0.0 sacrebleu-1.5.1\r\n"
     ]
    }
   ],
   "source": [
    "!pip install ."
   ]
  },
  {
   "cell_type": "code",
   "execution_count": 10,
   "id": "nonprofit-buffer",
   "metadata": {
    "execution": {
     "iopub.execute_input": "2021-05-31T11:43:04.340277Z",
     "iopub.status.busy": "2021-05-31T11:43:04.339551Z",
     "iopub.status.idle": "2021-05-31T11:43:04.342283Z",
     "shell.execute_reply": "2021-05-31T11:43:04.342878Z"
    },
    "papermill": {
     "duration": 0.056683,
     "end_time": "2021-05-31T11:43:04.343050",
     "exception": false,
     "start_time": "2021-05-31T11:43:04.286367",
     "status": "completed"
    },
    "tags": []
   },
   "outputs": [
    {
     "name": "stdout",
     "output_type": "stream",
     "text": [
      "/tmp/fairseq/examples/wav2vec/unsupervised\n"
     ]
    }
   ],
   "source": [
    "%cd /tmp/fairseq/examples/wav2vec/unsupervised"
   ]
  },
  {
   "cell_type": "code",
   "execution_count": 11,
   "id": "brazilian-performance",
   "metadata": {
    "execution": {
     "iopub.execute_input": "2021-05-31T11:43:04.443569Z",
     "iopub.status.busy": "2021-05-31T11:43:04.442910Z",
     "iopub.status.idle": "2021-05-31T11:43:04.445945Z",
     "shell.execute_reply": "2021-05-31T11:43:04.446445Z"
    },
    "papermill": {
     "duration": 0.055884,
     "end_time": "2021-05-31T11:43:04.446620",
     "exception": false,
     "start_time": "2021-05-31T11:43:04.390736",
     "status": "completed"
    },
    "tags": []
   },
   "outputs": [],
   "source": [
    "os.environ['HYDRA_FULL_ERROR'] = '1'"
   ]
  },
  {
   "cell_type": "markdown",
   "id": "opposed-initial",
   "metadata": {
    "papermill": {
     "duration": 0.047563,
     "end_time": "2021-05-31T11:43:04.542075",
     "exception": false,
     "start_time": "2021-05-31T11:43:04.494512",
     "status": "completed"
    },
    "tags": []
   },
   "source": [
    "## GAN"
   ]
  },
  {
   "cell_type": "code",
   "execution_count": 12,
   "id": "linear-student",
   "metadata": {
    "execution": {
     "iopub.execute_input": "2021-05-31T11:43:04.646503Z",
     "iopub.status.busy": "2021-05-31T11:43:04.645793Z",
     "iopub.status.idle": "2021-05-31T11:43:05.400972Z",
     "shell.execute_reply": "2021-05-31T11:43:05.400296Z",
     "shell.execute_reply.started": "2021-05-30T16:46:39.899633Z"
    },
    "papermill": {
     "duration": 0.811092,
     "end_time": "2021-05-31T11:43:05.401109",
     "exception": false,
     "start_time": "2021-05-31T11:43:04.590017",
     "status": "completed"
    },
    "tags": []
   },
   "outputs": [
    {
     "name": "stdout",
     "output_type": "stream",
     "text": [
      "CLUS128\t\t    precompute_pca512_cls128_mean\t  train.npy\r\n",
      "__notebook__.ipynb  precompute_pca512_cls128_mean_pooled  train.phn\r\n",
      "__output__.json     test.lengths\t\t\t  train.tsv\r\n",
      "__results__.html    test.ltr\t\t\t\t  train.wrd\r\n",
      "custom.css\t    test.npy\t\t\t\t  valid.lengths\r\n",
      "dict.test\t    test.phn\t\t\t\t  valid.ltr\r\n",
      "dict.train\t    test.tsv\t\t\t\t  valid.npy\r\n",
      "dict.valid\t    test.wrd\t\t\t\t  valid.phn\r\n",
      "pca\t\t    train.lengths\t\t\t  valid.tsv\r\n",
      "precompute_pca512   train.ltr\t\t\t\t  valid.wrd\r\n"
     ]
    }
   ],
   "source": [
    "!ls /kaggle/input/wav2vec-u-cv-swedish-audio/"
   ]
  },
  {
   "cell_type": "code",
   "execution_count": 13,
   "id": "applicable-runner",
   "metadata": {
    "execution": {
     "iopub.execute_input": "2021-05-31T11:43:05.508584Z",
     "iopub.status.busy": "2021-05-31T11:43:05.507783Z",
     "iopub.status.idle": "2021-05-31T11:43:05.511637Z",
     "shell.execute_reply": "2021-05-31T11:43:05.510873Z"
    },
    "papermill": {
     "duration": 0.059662,
     "end_time": "2021-05-31T11:43:05.511835",
     "exception": false,
     "start_time": "2021-05-31T11:43:05.452173",
     "status": "completed"
    },
    "tags": []
   },
   "outputs": [
    {
     "name": "stdout",
     "output_type": "stream",
     "text": [
      "Writing rungan.sh\n"
     ]
    }
   ],
   "source": [
    "%%writefile rungan.sh\n",
    "PREFIX=w2v_unsup_gan_xp\n",
    "#TASK_DATA=/path/to/features/unfiltered/precompute_unfiltered_pca512_cls128_mean_pooled\n",
    "TASK_DATA=/kaggle/input/wav2vec-u-cv-swedish-audio/precompute_pca512_cls128_mean_pooled/\n",
    "#TEXT_DATA=/path/to/data  # path to fairseq-preprocessed GAN data\n",
    "TEXT_DATA=/kaggle/input/wav2vec-u-cv-swedish-text-prep/preppedtext/phones/\n",
    "#KENLM_PATH=/path/to/data/kenlm.phn.o4.bin  # KenLM 4-gram phoneme language model (LM data = GAN data here)\n",
    "KENLM_PATH=/kaggle/input/wav2vec-u-cv-swedish-text-prep/preppedtext/phones/lm.phones.filtered.04.bin\n",
    "\n",
    "PREFIX=$PREFIX fairseq-hydra-train \\\n",
    "\t-m --config-dir model/wav2vecu/gan \\\n",
    "\t--config-name w2vu \\\n",
    "\ttask.data=${TASK_DATA} \\\n",
    "\ttask.text_data=${TEXT_DATA} \\\n",
    "\ttask.kenlm_path=${KENLM_PATH} \\\n",
    "\tcheckpoint.no_epoch_checkpoints=false \\\n",
    "\tcheckpoint.save_dir=/kaggle/working \\\n",
    "\t'common.seed=range(0,5)'"
   ]
  },
  {
   "cell_type": "code",
   "execution_count": 14,
   "id": "elementary-plain",
   "metadata": {
    "execution": {
     "iopub.execute_input": "2021-05-31T11:43:05.626595Z",
     "iopub.status.busy": "2021-05-31T11:43:05.625533Z",
     "iopub.status.idle": "2021-05-31T11:43:09.923091Z",
     "shell.execute_reply": "2021-05-31T11:43:09.922530Z"
    },
    "papermill": {
     "duration": 4.357435,
     "end_time": "2021-05-31T11:43:09.923238",
     "exception": false,
     "start_time": "2021-05-31T11:43:05.565803",
     "status": "completed"
    },
    "tags": []
   },
   "outputs": [
    {
     "name": "stdout",
     "output_type": "stream",
     "text": [
      "Traceback (most recent call last):\r\n",
      "  File \"/opt/conda/bin/fairseq-hydra-train\", line 5, in <module>\r\n",
      "    from fairseq_cli.hydra_train import cli_main\r\n",
      "  File \"/opt/conda/lib/python3.7/site-packages/fairseq_cli/hydra_train.py\", line 10, in <module>\r\n",
      "    from fairseq.dataclass.initialize import add_defaults, hydra_init\r\n",
      "  File \"/opt/conda/lib/python3.7/site-packages/fairseq/__init__.py\", line 32, in <module>\r\n",
      "    import fairseq.criterions  # noqa\r\n",
      "  File \"/opt/conda/lib/python3.7/site-packages/fairseq/criterions/__init__.py\", line 36, in <module>\r\n",
      "    importlib.import_module(\"fairseq.criterions.\" + file_name)\r\n",
      "  File \"/opt/conda/lib/python3.7/importlib/__init__.py\", line 127, in import_module\r\n",
      "    return _bootstrap._gcd_import(name[level:], package, level)\r\n",
      "  File \"/opt/conda/lib/python3.7/site-packages/fairseq/criterions/ctc.py\", line 19, in <module>\r\n",
      "    from fairseq.tasks import FairseqTask\r\n",
      "  File \"/opt/conda/lib/python3.7/site-packages/fairseq/tasks/__init__.py\", line 116, in <module>\r\n",
      "    module = importlib.import_module(\"fairseq.tasks.\" + task_name)\r\n",
      "  File \"/opt/conda/lib/python3.7/importlib/__init__.py\", line 127, in import_module\r\n",
      "    return _bootstrap._gcd_import(name[level:], package, level)\r\n",
      "  File \"/opt/conda/lib/python3.7/site-packages/fairseq/tasks/unpaired_audio_text.py\", line 28, in <module>\r\n",
      "    from fairseq.fairseq_examples.speech_recognition.kaldi.kaldi_decoder import (\r\n",
      "ModuleNotFoundError: No module named 'fairseq.fairseq_examples'\r\n"
     ]
    }
   ],
   "source": [
    "!bash rungan.sh"
   ]
  }
 ],
 "metadata": {
  "kernelspec": {
   "display_name": "Python 3",
   "language": "python",
   "name": "python3"
  },
  "language_info": {
   "codemirror_mode": {
    "name": "ipython",
    "version": 3
   },
   "file_extension": ".py",
   "mimetype": "text/x-python",
   "name": "python",
   "nbconvert_exporter": "python",
   "pygments_lexer": "ipython3",
   "version": "3.7.10"
  },
  "papermill": {
   "default_parameters": {},
   "duration": 376.662635,
   "end_time": "2021-05-31T11:43:10.584011",
   "environment_variables": {},
   "exception": null,
   "input_path": "__notebook__.ipynb",
   "output_path": "__notebook__.ipynb",
   "parameters": {},
   "start_time": "2021-05-31T11:36:53.921376",
   "version": "2.3.3"
  }
 },
 "nbformat": 4,
 "nbformat_minor": 5
}
