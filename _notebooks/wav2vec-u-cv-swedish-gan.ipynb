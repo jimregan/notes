{
 "cells": [
  {
   "cell_type": "markdown",
   "id": "incomplete-presentation",
   "metadata": {
    "papermill": {
     "duration": 0.012486,
     "end_time": "2021-06-03T17:36:17.850989",
     "exception": false,
     "start_time": "2021-06-03T17:36:17.838503",
     "status": "completed"
    },
    "tags": []
   },
   "source": [
    "## Preparation"
   ]
  },
  {
   "cell_type": "code",
   "execution_count": 1,
   "id": "threaded-bones",
   "metadata": {
    "_cell_guid": "b1076dfc-b9ad-4769-8c92-a6c4dae69d19",
    "_uuid": "8f2839f25d086af736a60e9eeb907d3b93b6e0e5",
    "execution": {
     "iopub.execute_input": "2021-06-03T17:36:17.879077Z",
     "iopub.status.busy": "2021-06-03T17:36:17.877601Z",
     "iopub.status.idle": "2021-06-03T17:39:53.785508Z",
     "shell.execute_reply": "2021-06-03T17:39:53.784403Z",
     "shell.execute_reply.started": "2021-05-31T11:43:46.770364Z"
    },
    "papermill": {
     "duration": 215.923231,
     "end_time": "2021-06-03T17:39:53.785698",
     "exception": false,
     "start_time": "2021-06-03T17:36:17.862467",
     "status": "completed"
    },
    "tags": []
   },
   "outputs": [],
   "source": [
    "%%capture\n",
    "!conda install -c pykaldi pykaldi -y"
   ]
  },
  {
   "cell_type": "code",
   "execution_count": 2,
   "id": "advance-modeling",
   "metadata": {
    "execution": {
     "iopub.execute_input": "2021-06-03T17:39:53.815688Z",
     "iopub.status.busy": "2021-06-03T17:39:53.814698Z",
     "iopub.status.idle": "2021-06-03T17:39:53.818339Z",
     "shell.execute_reply": "2021-06-03T17:39:53.818808Z",
     "shell.execute_reply.started": "2021-05-31T13:58:07.987793Z"
    },
    "papermill": {
     "duration": 0.021265,
     "end_time": "2021-06-03T17:39:53.818952",
     "exception": false,
     "start_time": "2021-06-03T17:39:53.797687",
     "status": "completed"
    },
    "tags": []
   },
   "outputs": [
    {
     "name": "stdout",
     "output_type": "stream",
     "text": [
      "/tmp\n"
     ]
    }
   ],
   "source": [
    "%cd /tmp"
   ]
  },
  {
   "cell_type": "code",
   "execution_count": 3,
   "id": "cloudy-bangkok",
   "metadata": {
    "execution": {
     "iopub.execute_input": "2021-06-03T17:39:53.846531Z",
     "iopub.status.busy": "2021-06-03T17:39:53.845807Z",
     "iopub.status.idle": "2021-06-03T17:39:56.426628Z",
     "shell.execute_reply": "2021-06-03T17:39:56.425713Z",
     "shell.execute_reply.started": "2021-05-31T11:47:48.174342Z"
    },
    "papermill": {
     "duration": 2.595959,
     "end_time": "2021-06-03T17:39:56.426776",
     "exception": false,
     "start_time": "2021-06-03T17:39:53.830817",
     "status": "completed"
    },
    "tags": []
   },
   "outputs": [
    {
     "name": "stdout",
     "output_type": "stream",
     "text": [
      "Cloning into 'fairseq'...\r\n",
      "remote: Enumerating objects: 28296, done.\u001b[K\r\n",
      "remote: Total 28296 (delta 0), reused 0 (delta 0), pack-reused 28296\u001b[K\r\n",
      "Receiving objects: 100% (28296/28296), 11.77 MiB | 20.92 MiB/s, done.\r\n",
      "Resolving deltas: 100% (21286/21286), done.\r\n"
     ]
    }
   ],
   "source": [
    "!git clone https://github.com/jimregan/fairseq/ --branch issue3581"
   ]
  },
  {
   "cell_type": "code",
   "execution_count": 4,
   "id": "advanced-solution",
   "metadata": {
    "execution": {
     "iopub.execute_input": "2021-06-03T17:39:56.471497Z",
     "iopub.status.busy": "2021-06-03T17:39:56.470595Z",
     "iopub.status.idle": "2021-06-03T17:40:00.000200Z",
     "shell.execute_reply": "2021-06-03T17:39:59.999524Z",
     "shell.execute_reply.started": "2021-05-31T13:58:08.002832Z"
    },
    "papermill": {
     "duration": 3.555483,
     "end_time": "2021-06-03T17:40:00.000362",
     "exception": false,
     "start_time": "2021-06-03T17:39:56.444879",
     "status": "completed"
    },
    "tags": []
   },
   "outputs": [
    {
     "name": "stdout",
     "output_type": "stream",
     "text": [
      "Cloning into 'kenlm'...\r\n",
      "remote: Enumerating objects: 13824, done.\u001b[K\r\n",
      "remote: Counting objects: 100% (137/137), done.\u001b[K\r\n",
      "remote: Compressing objects: 100% (79/79), done.\u001b[K\r\n",
      "remote: Total 13824 (delta 76), reused 92 (delta 45), pack-reused 13687\u001b[K\r\n",
      "Receiving objects: 100% (13824/13824), 5.49 MiB | 9.07 MiB/s, done.\r\n",
      "Resolving deltas: 100% (7956/7956), done.\r\n"
     ]
    }
   ],
   "source": [
    "!git clone https://github.com/kpu/kenlm"
   ]
  },
  {
   "cell_type": "code",
   "execution_count": 5,
   "id": "amended-soldier",
   "metadata": {
    "execution": {
     "iopub.execute_input": "2021-06-03T17:40:00.051268Z",
     "iopub.status.busy": "2021-06-03T17:40:00.050514Z",
     "iopub.status.idle": "2021-06-03T17:40:05.068332Z",
     "shell.execute_reply": "2021-06-03T17:40:05.068770Z",
     "shell.execute_reply.started": "2021-05-31T13:58:12.001162Z"
    },
    "papermill": {
     "duration": 5.045785,
     "end_time": "2021-06-03T17:40:05.068947",
     "exception": false,
     "start_time": "2021-06-03T17:40:00.023162",
     "status": "completed"
    },
    "tags": []
   },
   "outputs": [],
   "source": [
    "%%capture\n",
    "!apt-get -y install libeigen3-dev liblzma-dev zlib1g-dev libbz2-dev"
   ]
  },
  {
   "cell_type": "code",
   "execution_count": 6,
   "id": "statutory-providence",
   "metadata": {
    "execution": {
     "iopub.execute_input": "2021-06-03T17:40:05.122190Z",
     "iopub.status.busy": "2021-06-03T17:40:05.121396Z",
     "iopub.status.idle": "2021-06-03T17:41:59.042864Z",
     "shell.execute_reply": "2021-06-03T17:41:59.041862Z"
    },
    "papermill": {
     "duration": 113.951962,
     "end_time": "2021-06-03T17:41:59.043042",
     "exception": false,
     "start_time": "2021-06-03T17:40:05.091080",
     "status": "completed"
    },
    "tags": []
   },
   "outputs": [],
   "source": [
    "\n",
    "%%capture\n",
    "%cd kenlm\n",
    "!mkdir build\n",
    "%cd build\n",
    "!cmake ..\n",
    "!make -j 4\n",
    "%cd /tmp"
   ]
  },
  {
   "cell_type": "code",
   "execution_count": 7,
   "id": "standard-sperm",
   "metadata": {
    "execution": {
     "iopub.execute_input": "2021-06-03T17:41:59.094063Z",
     "iopub.status.busy": "2021-06-03T17:41:59.093289Z",
     "iopub.status.idle": "2021-06-03T17:42:31.424613Z",
     "shell.execute_reply": "2021-06-03T17:42:31.424115Z",
     "shell.execute_reply.started": "2021-05-31T14:00:27.915818Z"
    },
    "papermill": {
     "duration": 32.359376,
     "end_time": "2021-06-03T17:42:31.424748",
     "exception": false,
     "start_time": "2021-06-03T17:41:59.065372",
     "status": "completed"
    },
    "tags": []
   },
   "outputs": [],
   "source": [
    "%%capture\n",
    "%cd /tmp/kenlm\n",
    "!python setup.py install\n",
    "%cd /tmp"
   ]
  },
  {
   "cell_type": "code",
   "execution_count": 8,
   "id": "emotional-klein",
   "metadata": {
    "execution": {
     "iopub.execute_input": "2021-06-03T17:42:31.476346Z",
     "iopub.status.busy": "2021-06-03T17:42:31.475659Z",
     "iopub.status.idle": "2021-06-03T17:42:31.478516Z",
     "shell.execute_reply": "2021-06-03T17:42:31.478068Z",
     "shell.execute_reply.started": "2021-05-25T22:58:58.397816Z"
    },
    "papermill": {
     "duration": 0.028819,
     "end_time": "2021-06-03T17:42:31.478617",
     "exception": false,
     "start_time": "2021-06-03T17:42:31.449798",
     "status": "completed"
    },
    "tags": []
   },
   "outputs": [],
   "source": [
    "import os\n",
    "os.environ['PATH'] = f\"{os.environ['PATH']}:/tmp/kenlm/build/bin/\"\n",
    "os.environ['FAIRSEQ_ROOT'] = '/tmp/fairseq'"
   ]
  },
  {
   "cell_type": "code",
   "execution_count": 9,
   "id": "biological-pulse",
   "metadata": {
    "execution": {
     "iopub.execute_input": "2021-06-03T17:42:31.526520Z",
     "iopub.status.busy": "2021-06-03T17:42:31.525641Z",
     "iopub.status.idle": "2021-06-03T17:42:31.529317Z",
     "shell.execute_reply": "2021-06-03T17:42:31.529676Z",
     "shell.execute_reply.started": "2021-05-31T11:51:49.832574Z"
    },
    "papermill": {
     "duration": 0.029336,
     "end_time": "2021-06-03T17:42:31.529791",
     "exception": false,
     "start_time": "2021-06-03T17:42:31.500455",
     "status": "completed"
    },
    "tags": []
   },
   "outputs": [
    {
     "name": "stdout",
     "output_type": "stream",
     "text": [
      "/tmp/fairseq\n"
     ]
    }
   ],
   "source": [
    "%cd /tmp/fairseq/"
   ]
  },
  {
   "cell_type": "code",
   "execution_count": 10,
   "id": "christian-absorption",
   "metadata": {
    "execution": {
     "iopub.execute_input": "2021-06-03T17:42:31.580632Z",
     "iopub.status.busy": "2021-06-03T17:42:31.577329Z",
     "iopub.status.idle": "2021-06-03T17:43:31.885861Z",
     "shell.execute_reply": "2021-06-03T17:43:31.886343Z"
    },
    "papermill": {
     "duration": 60.334962,
     "end_time": "2021-06-03T17:43:31.886515",
     "exception": false,
     "start_time": "2021-06-03T17:42:31.551553",
     "status": "completed"
    },
    "tags": []
   },
   "outputs": [],
   "source": [
    "%%capture\n",
    "!python setup.py install"
   ]
  },
  {
   "cell_type": "code",
   "execution_count": 11,
   "id": "vital-soundtrack",
   "metadata": {
    "execution": {
     "iopub.execute_input": "2021-06-03T17:43:31.936875Z",
     "iopub.status.busy": "2021-06-03T17:43:31.936332Z",
     "iopub.status.idle": "2021-06-03T17:43:31.939204Z",
     "shell.execute_reply": "2021-06-03T17:43:31.939564Z"
    },
    "papermill": {
     "duration": 0.030143,
     "end_time": "2021-06-03T17:43:31.939691",
     "exception": false,
     "start_time": "2021-06-03T17:43:31.909548",
     "status": "completed"
    },
    "tags": []
   },
   "outputs": [
    {
     "name": "stdout",
     "output_type": "stream",
     "text": [
      "/tmp/fairseq\n"
     ]
    }
   ],
   "source": [
    "%cd /tmp/fairseq/"
   ]
  },
  {
   "cell_type": "code",
   "execution_count": 12,
   "id": "corporate-audit",
   "metadata": {
    "execution": {
     "iopub.execute_input": "2021-06-03T17:43:31.988892Z",
     "iopub.status.busy": "2021-06-03T17:43:31.988274Z",
     "iopub.status.idle": "2021-06-03T17:43:31.991145Z",
     "shell.execute_reply": "2021-06-03T17:43:31.990722Z"
    },
    "papermill": {
     "duration": 0.029042,
     "end_time": "2021-06-03T17:43:31.991247",
     "exception": false,
     "start_time": "2021-06-03T17:43:31.962205",
     "status": "completed"
    },
    "tags": []
   },
   "outputs": [],
   "source": [
    "os.environ['HYDRA_FULL_ERROR'] = '1'"
   ]
  },
  {
   "cell_type": "code",
   "execution_count": 13,
   "id": "southwest-kentucky",
   "metadata": {
    "execution": {
     "iopub.execute_input": "2021-06-03T17:43:32.045337Z",
     "iopub.status.busy": "2021-06-03T17:43:32.040876Z",
     "iopub.status.idle": "2021-06-03T17:43:39.707014Z",
     "shell.execute_reply": "2021-06-03T17:43:39.706095Z"
    },
    "papermill": {
     "duration": 7.693519,
     "end_time": "2021-06-03T17:43:39.707161",
     "exception": false,
     "start_time": "2021-06-03T17:43:32.013642",
     "status": "completed"
    },
    "tags": []
   },
   "outputs": [],
   "source": [
    "%%capture\n",
    "!pip install editdistance"
   ]
  },
  {
   "cell_type": "markdown",
   "id": "blind-decade",
   "metadata": {
    "papermill": {
     "duration": 0.022991,
     "end_time": "2021-06-03T17:43:39.753795",
     "exception": false,
     "start_time": "2021-06-03T17:43:39.730804",
     "status": "completed"
    },
    "tags": []
   },
   "source": [
    "## GAN"
   ]
  },
  {
   "cell_type": "code",
   "execution_count": 14,
   "id": "missing-singles",
   "metadata": {
    "execution": {
     "iopub.execute_input": "2021-06-03T17:43:39.806681Z",
     "iopub.status.busy": "2021-06-03T17:43:39.805824Z",
     "iopub.status.idle": "2021-06-03T17:43:40.130985Z",
     "shell.execute_reply": "2021-06-03T17:43:40.131450Z"
    },
    "papermill": {
     "duration": 0.354823,
     "end_time": "2021-06-03T17:43:40.131593",
     "exception": false,
     "start_time": "2021-06-03T17:43:39.776770",
     "status": "completed"
    },
    "tags": []
   },
   "outputs": [
    {
     "data": {
      "text/plain": [
       "'11.0'"
      ]
     },
     "execution_count": 14,
     "metadata": {},
     "output_type": "execute_result"
    }
   ],
   "source": [
    "import torch\n",
    "torch.version.cuda"
   ]
  },
  {
   "cell_type": "code",
   "execution_count": 15,
   "id": "liked-station",
   "metadata": {
    "execution": {
     "iopub.execute_input": "2021-06-03T17:43:40.183376Z",
     "iopub.status.busy": "2021-06-03T17:43:40.182622Z",
     "iopub.status.idle": "2021-06-03T17:43:40.185751Z",
     "shell.execute_reply": "2021-06-03T17:43:40.186136Z"
    },
    "papermill": {
     "duration": 0.030873,
     "end_time": "2021-06-03T17:43:40.186278",
     "exception": false,
     "start_time": "2021-06-03T17:43:40.155405",
     "status": "completed"
    },
    "tags": []
   },
   "outputs": [
    {
     "data": {
      "text/plain": [
       "8003"
      ]
     },
     "execution_count": 15,
     "metadata": {},
     "output_type": "execute_result"
    }
   ],
   "source": [
    "torch.backends.cudnn.version()"
   ]
  },
  {
   "cell_type": "code",
   "execution_count": 16,
   "id": "colored-contact",
   "metadata": {
    "execution": {
     "iopub.execute_input": "2021-06-03T17:43:40.238614Z",
     "iopub.status.busy": "2021-06-03T17:43:40.237775Z",
     "iopub.status.idle": "2021-06-03T17:43:40.241811Z",
     "shell.execute_reply": "2021-06-03T17:43:40.241386Z"
    },
    "papermill": {
     "duration": 0.032481,
     "end_time": "2021-06-03T17:43:40.241944",
     "exception": false,
     "start_time": "2021-06-03T17:43:40.209463",
     "status": "completed"
    },
    "tags": []
   },
   "outputs": [
    {
     "name": "stdout",
     "output_type": "stream",
     "text": [
      "Writing rungan.sh\n"
     ]
    }
   ],
   "source": [
    "%%writefile rungan.sh\n",
    "PREFIX=w2v_unsup_gan_xp\n",
    "#TASK_DATA=/path/to/features/unfiltered/precompute_unfiltered_pca512_cls128_mean_pooled\n",
    "TASK_DATA=/kaggle/input/wav2vec-u-cv-swedish-audio/precompute_pca512_cls128_mean_pooled/\n",
    "#TEXT_DATA=/path/to/data  # path to fairseq-preprocessed GAN data\n",
    "TEXT_DATA=/kaggle/input/wav2vec-u-cv-swedish-text-prep/preppedtext/phones/\n",
    "#KENLM_PATH=/path/to/data/kenlm.phn.o4.bin  # KenLM 4-gram phoneme language model (LM data = GAN data here)\n",
    "KENLM_PATH=/kaggle/input/wav2vec-u-cv-swedish-text-prep/preppedtext/phones/lm.phones.filtered.04.bin\n",
    "\n",
    "PREFIX=$PREFIX CUDA_LAUNCH_BLOCKING=1 fairseq-hydra-train \\\n",
    "\t-m --config-dir fairseq/config/model/wav2vecu/gan \\\n",
    "\t--config-name w2vu \\\n",
    "\ttask.data=${TASK_DATA} \\\n",
    "\ttask.text_data=${TEXT_DATA} \\\n",
    "\ttask.kenlm_path=${KENLM_PATH} \\\n",
    "\tcheckpoint.no_epoch_checkpoints=false \\\n",
    "\tcheckpoint.keep_last_epochs=20 \\\n",
    "\tcheckpoint.save_dir=/kaggle/working \\\n",
    "\tdataset.batch_size=8 \\\n",
    "\tdataset.num_workers=1 \\\n",
    "\t'common.seed=range(0,5)'"
   ]
  },
  {
   "cell_type": "code",
   "execution_count": 17,
   "id": "bibliographic-support",
   "metadata": {
    "execution": {
     "iopub.execute_input": "2021-06-03T17:43:40.294289Z",
     "iopub.status.busy": "2021-06-03T17:43:40.293587Z",
     "iopub.status.idle": "2021-06-03T17:44:40.613678Z",
     "shell.execute_reply": "2021-06-03T17:44:40.613173Z"
    },
    "papermill": {
     "duration": 60.347634,
     "end_time": "2021-06-03T17:44:40.613805",
     "exception": false,
     "start_time": "2021-06-03T17:43:40.266171",
     "status": "completed"
    },
    "tags": []
   },
   "outputs": [
    {
     "name": "stdout",
     "output_type": "stream",
     "text": [
      "[2021-06-03 17:43:52,943][HYDRA] Launching 5 jobs locally\r\n",
      "[2021-06-03 17:43:52,943][HYDRA] \t#0 : task.data=/kaggle/input/wav2vec-u-cv-swedish-audio/precompute_pca512_cls128_mean_pooled/ task.text_data=/kaggle/input/wav2vec-u-cv-swedish-text-prep/preppedtext/phones/ task.kenlm_path=/kaggle/input/wav2vec-u-cv-swedish-text-prep/preppedtext/phones/lm.phones.filtered.04.bin checkpoint.no_epoch_checkpoints=False checkpoint.keep_last_epochs=20 checkpoint.save_dir=/kaggle/working dataset.batch_size=8 dataset.num_workers=1 common.seed=0\r\n",
      "[2021-06-03 17:43:54,825][fairseq_cli.train][INFO] - {'_name': None, 'common': {'_name': None, 'no_progress_bar': False, 'log_interval': 100, 'log_format': 'json', 'log_file': None, 'tensorboard_logdir': 'tb', 'wandb_project': None, 'azureml_logging': False, 'seed': 0, 'cpu': False, 'tpu': False, 'bf16': False, 'memory_efficient_bf16': False, 'fp16': False, 'memory_efficient_fp16': False, 'fp16_no_flatten_grads': True, 'fp16_init_scale': 128, 'fp16_scale_window': None, 'fp16_scale_tolerance': 0.0, 'min_loss_scale': 0.0001, 'threshold_loss_scale': None, 'amp': False, 'amp_batch_retries': 2, 'amp_init_scale': 128, 'amp_scale_window': None, 'user_dir': None, 'empty_cache_freq': 0, 'all_gather_list_size': 16384, 'model_parallel_size': 1, 'quantization_config_path': None, 'profile': False, 'reset_logging': False, 'suppress_crashes': False, 'use_plasma_view': False, 'plasma_path': '/tmp/plasma'}, 'common_eval': {'_name': None, 'path': None, 'post_process': None, 'quiet': False, 'model_overrides': '{}', 'results_path': None}, 'distributed_training': {'_name': None, 'distributed_world_size': 1, 'distributed_rank': 0, 'distributed_backend': 'nccl', 'distributed_init_method': None, 'distributed_port': -1, 'device_id': 0, 'distributed_no_spawn': False, 'ddp_backend': 'pytorch_ddp', 'ddp_comm_hook': 'none', 'bucket_cap_mb': 25, 'fix_batches_to_gpus': False, 'find_unused_parameters': False, 'fast_stat_sync': False, 'heartbeat_timeout': -1, 'broadcast_buffers': False, 'slowmo_momentum': None, 'slowmo_algorithm': 'LocalSGD', 'localsgd_frequency': 3, 'nprocs_per_node': 1, 'pipeline_model_parallel': False, 'pipeline_balance': None, 'pipeline_devices': None, 'pipeline_chunks': 0, 'pipeline_encoder_balance': None, 'pipeline_encoder_devices': None, 'pipeline_decoder_balance': None, 'pipeline_decoder_devices': None, 'pipeline_checkpoint': 'never', 'zero_sharding': 'none', 'fp16': False, 'memory_efficient_fp16': False, 'tpu': False, 'no_reshard_after_forward': False, 'fp32_reduce_scatter': False, 'cpu_offload': False, 'use_sharded_state': False, 'distributed_num_procs': 1}, 'dataset': {'_name': None, 'num_workers': 1, 'skip_invalid_size_inputs_valid_test': True, 'max_tokens': None, 'batch_size': 8, 'required_batch_size_multiple': 8, 'required_seq_len_multiple': 1, 'dataset_impl': None, 'data_buffer_size': 10, 'train_subset': 'train', 'valid_subset': 'valid', 'combine_valid_subsets': None, 'ignore_unused_valid_subsets': False, 'validate_interval': 1, 'validate_interval_updates': 0, 'validate_after_updates': 0, 'fixed_validation_seed': None, 'disable_validation': False, 'max_tokens_valid': None, 'batch_size_valid': 8, 'max_valid_steps': None, 'curriculum': 0, 'gen_subset': 'test', 'num_shards': 1, 'shard_id': 0}, 'optimization': {'_name': None, 'max_epoch': 0, 'max_update': 150000, 'stop_time_hours': 0.0, 'clip_norm': 5.0, 'sentence_avg': False, 'update_freq': [1], 'lr': [0.0], 'stop_min_lr': -1.0, 'use_bmuf': False}, 'checkpoint': {'_name': None, 'save_dir': '/kaggle/working', 'restore_file': 'checkpoint_last.pt', 'finetune_from_model': None, 'reset_dataloader': False, 'reset_lr_scheduler': False, 'reset_meters': False, 'reset_optimizer': False, 'optimizer_overrides': '{}', 'save_interval': 1, 'save_interval_updates': 0, 'keep_interval_updates': -1, 'keep_interval_updates_pattern': -1, 'keep_last_epochs': 20, 'keep_best_checkpoints': -1, 'no_save': False, 'no_epoch_checkpoints': False, 'no_last_checkpoints': False, 'no_save_optimizer_state': False, 'best_checkpoint_metric': 'weighted_lm_ppl', 'maximize_best_checkpoint_metric': False, 'patience': -1, 'checkpoint_suffix': '', 'checkpoint_shard_count': 1, 'load_checkpoint_on_all_dp_ranks': False, 'write_checkpoints_asynchronously': False, 'model_parallel_size': 1}, 'bmuf': {'_name': None, 'block_lr': 1.0, 'block_momentum': 0.875, 'global_sync_iter': 50, 'warmup_iterations': 500, 'use_nbm': False, 'average_sync': False, 'distributed_world_size': 1}, 'generation': {'_name': None, 'beam': 5, 'nbest': 1, 'max_len_a': 0.0, 'max_len_b': 200, 'min_len': 1, 'match_source_len': False, 'unnormalized': False, 'no_early_stop': False, 'no_beamable_mm': False, 'lenpen': 1.0, 'unkpen': 0.0, 'replace_unk': None, 'sacrebleu': False, 'score_reference': False, 'prefix_size': 0, 'no_repeat_ngram_size': 0, 'sampling': False, 'sampling_topk': -1, 'sampling_topp': -1.0, 'constraints': None, 'temperature': 1.0, 'diverse_beam_groups': -1, 'diverse_beam_strength': 0.5, 'diversity_rate': -1.0, 'print_alignment': None, 'print_step': False, 'lm_path': None, 'lm_weight': 0.0, 'iter_decode_eos_penalty': 0.0, 'iter_decode_max_iter': 10, 'iter_decode_force_max_iter': False, 'iter_decode_with_beam': 1, 'iter_decode_with_external_reranker': False, 'retain_iter_history': False, 'retain_dropout': False, 'retain_dropout_modules': None, 'decoding_format': None, 'no_seed_provided': False}, 'eval_lm': {'_name': None, 'output_word_probs': False, 'output_word_stats': False, 'context_window': 0, 'softmax_batch': 9223372036854775807}, 'interactive': {'_name': None, 'buffer_size': 0, 'input': '-'}, 'model': {'_name': 'wav2vec_u', 'discriminator_kernel': 6, 'discriminator_dilation': 1, 'discriminator_dim': 384, 'discriminator_causal': True, 'discriminator_linear_emb': False, 'discriminator_depth': 2, 'discriminator_max_pool': False, 'discriminator_act_after_linear': False, 'discriminator_dropout': 0.0, 'discriminator_spectral_norm': False, 'discriminator_weight_norm': False, 'generator_kernel': 4, 'generator_dilation': 1, 'generator_stride': 1, 'generator_bias': False, 'generator_dropout': 0.1, 'blank_weight': 0.0, 'blank_mode': 'add', 'blank_is_sil': False, 'no_softmax': False, 'smoothness_weight': 0.5, 'smoothing': 0.0, 'smoothing_one_sided': False, 'gradient_penalty': 1.5, 'probabilistic_grad_penalty_slicing': False, 'code_penalty': 4.0, 'gumbel': False, 'hard_gumbel': False, 'temp': [2.0, 0.1, 0.99995], 'input_dim': 512, 'wgan_loss': False, 'segmentation': {'_name': None, 'type': 'JOIN', 'subsample_rate': 0.25, 'mean_pool': True, 'mean_pool_join': False, 'remove_zeros': False}}, 'task': {'_name': 'gan_audio_pretraining_feats', 'data': '/kaggle/input/wav2vec-u-cv-swedish-audio/precompute_pca512_cls128_mean_pooled/', 'text_data': '/kaggle/input/wav2vec-u-cv-swedish-text-prep/preppedtext/phones/', 'max_length': None, 'labels': 'phn', 'unfiltered': False, 'ctc_eval': False, 'sort_by_length': False, 'shuffle': True, 'append_eos': False, 'uppercase': False, 'skipwords': '', 'kenlm_path': '/kaggle/input/wav2vec-u-cv-swedish-text-prep/preppedtext/phones/lm.phones.filtered.04.bin', 'vocab_usage_power': 2.0, 'word_decoder_config': None, 'word_kenlm_path': None, 'decoding_config': {'_name': None, 'kenlm_path': None, 'lm_weight': 0.0, 'blank_weight': 0.0}}, 'criterion': {'_name': 'model', 'loss_weights': {}, 'log_keys': ['accuracy_dense', 'accuracy_token', 'temp', 'code_ppl']}, 'optimizer': {'_name': 'composite', 'groups': {'generator': {'lr': [0.0004], 'lr_float': None, 'optimizer': {'_name': 'adam', 'adam_betas': [0.5, 0.98], 'adam_eps': 1e-06, 'weight_decay': 0, 'amsgrad': False}, 'lr_scheduler': {'_name': 'fixed', 'warmup_updates': 0}}, 'discriminator': {'lr': [0.0005], 'lr_float': None, 'optimizer': {'_name': 'adam', 'adam_betas': [0.5, 0.98], 'adam_eps': 1e-06, 'weight_decay': 0.0001, 'amsgrad': False}, 'lr_scheduler': {'_name': 'fixed', 'warmup_updates': 0}}}}, 'lr_scheduler': {'_name': 'pass_through'}, 'scoring': None, 'bpe': None, 'tokenizer': None, 'job_logging_cfg': {'version': 1, 'formatters': {'simple': {'format': '[%(asctime)s][%(name)s][%(levelname)s] - %(message)s'}}, 'handlers': {'console': {'class': 'logging.StreamHandler', 'formatter': 'simple', 'stream': 'ext://sys.stdout'}, 'file': {'class': 'logging.FileHandler', 'formatter': 'simple', 'filename': 'hydra_train.log'}}, 'root': {'level': 'INFO', 'handlers': ['console', 'file']}, 'disable_existing_loggers': False}}\r\n",
      "[2021-06-03 17:43:54,964][fairseq_cli.train][INFO] - Wav2vec_U(\r\n",
      "  (discriminator): Discriminator(\r\n",
      "    (net): Sequential(\r\n",
      "      (0): Conv1d(45, 384, kernel_size=(6,), stride=(1,), padding=(5,))\r\n",
      "      (1): SamePad()\r\n",
      "      (2): Dropout(p=0.0, inplace=False)\r\n",
      "      (3): Sequential(\r\n",
      "        (0): Conv1d(384, 384, kernel_size=(6,), stride=(1,), padding=(5,))\r\n",
      "        (1): SamePad()\r\n",
      "        (2): Dropout(p=0.0, inplace=False)\r\n",
      "        (3): GELU()\r\n",
      "      )\r\n",
      "      (4): Conv1d(384, 1, kernel_size=(6,), stride=(1,), padding=(5,))\r\n",
      "      (5): SamePad()\r\n",
      "    )\r\n",
      "  )\r\n",
      "  (segmenter): JoinSegmenter()\r\n",
      "  (generator): Generator(\r\n",
      "    (dropout): Dropout(p=0.1, inplace=False)\r\n",
      "    (proj): Sequential(\r\n",
      "      (0): TransposeLast()\r\n",
      "      (1): Conv1d(512, 45, kernel_size=(4,), stride=(1,), padding=(2,), bias=False)\r\n",
      "      (2): TransposeLast()\r\n",
      "    )\r\n",
      "  )\r\n",
      ")\r\n",
      "[2021-06-03 17:43:54,965][fairseq_cli.train][INFO] - task: UnpairedAudioText\r\n",
      "[2021-06-03 17:43:54,965][fairseq_cli.train][INFO] - model: Wav2vec_U\r\n",
      "[2021-06-03 17:43:54,965][fairseq_cli.train][INFO] - criterion: ModelCriterion\r\n",
      "[2021-06-03 17:43:54,965][fairseq_cli.train][INFO] - num. shared model params: 1,083,649 (num. trained: 1,083,649)\r\n",
      "[2021-06-03 17:43:54,965][fairseq_cli.train][INFO] - num. expert model params: 0 (num. trained: 0)\r\n",
      "[2021-06-03 17:43:55,076][fairseq.data.extracted_features_dataset][INFO] - loaded 2019, skipped 0 samples\r\n",
      "[2021-06-03 17:43:55,076][fairseq.tasks.unpaired_audio_text][INFO] - split valid has unpaired text? False\r\n",
      "[2021-06-03 17:44:00,452][fairseq.utils][INFO] - ***********************CUDA enviroments for all 1 workers***********************\r\n",
      "[2021-06-03 17:44:00,452][fairseq.utils][INFO] - rank   0: capabilities =  6.0  ; total memory = 15.899 GB ; name = Tesla P100-PCIE-16GB                    \r\n",
      "[2021-06-03 17:44:00,452][fairseq.utils][INFO] - ***********************CUDA enviroments for all 1 workers***********************\r\n",
      "[2021-06-03 17:44:00,453][fairseq_cli.train][INFO] - training on 1 devices (GPUs/TPUs)\r\n",
      "[2021-06-03 17:44:00,453][fairseq_cli.train][INFO] - max tokens per device = None and max sentences per device = 8\r\n",
      "[2021-06-03 17:44:00,455][fairseq.trainer][INFO] - Preparing to load checkpoint /kaggle/working/checkpoint_last.pt\r\n",
      "[2021-06-03 17:44:00,455][fairseq.trainer][INFO] - No existing checkpoint found /kaggle/working/checkpoint_last.pt\r\n",
      "[2021-06-03 17:44:00,456][fairseq.trainer][INFO] - loading train data for epoch 1\r\n",
      "[2021-06-03 17:44:00,536][fairseq.data.extracted_features_dataset][INFO] - loaded 2331, skipped 0 samples\r\n",
      "[2021-06-03 17:44:00,536][fairseq.tasks.unpaired_audio_text][INFO] - split train has unpaired text? True\r\n",
      "[2021-06-03 17:44:00,569][fairseq.data.data_utils][INFO] - loaded 2,328 examples from: /kaggle/input/wav2vec-u-cv-swedish-text-prep/preppedtext/phones/train\r\n",
      "[2021-06-03 17:44:01,017][fairseq.trainer][INFO] - begin training epoch 1\r\n",
      "[2021-06-03 17:44:01,019][fairseq_cli.train][INFO] - Start iterating over samples\r\n",
      "/opt/conda/lib/python3.7/site-packages/fairseq-1.0.0a0+6179d53-py3.7-linux-x86_64.egg/fairseq/utils.py:369: UserWarning: amp_C fused kernels unavailable, disabling multi_tensor_l2norm; you may get better performance by installing NVIDIA's apex library\r\n",
      "  \"amp_C fused kernels unavailable, disabling multi_tensor_l2norm; \"\r\n",
      "2021-06-03 17:44:08.469134: I tensorflow/stream_executor/platform/default/dso_loader.cc:49] Successfully opened dynamic library libcudart.so.11.0\r\n",
      "[2021-06-03 17:44:12,588][train_inner][INFO] - {\"epoch\": 1, \"update\": 0.342, \"loss\": \"8.54\", \"ntokens\": \"7.95\", \"nsentences\": \"7.95\", \"temp\": \"1.995\", \"code_ppl\": \"15.722\", \"loss_code_pen\": \"0.146\", \"loss_smoothness\": \"1.798\", \"loss_dense_g\": \"0.336\", \"lm_score_sum\": 0.0, \"num_pred_chars\": 0.0, \"loss_grad_pen\": \"11.671\", \"loss_dense_d\": \"1.511\", \"loss_token_d\": \"1.539\", \"wps\": \"152.2\", \"ups\": \"19.12\", \"wpb\": \"8\", \"bsz\": \"8\", \"num_updates\": \"100\", \"lr_discriminator\": \"0.0005\", \"lr_generator\": \"0.0004\", \"gnorm\": \"24.392\", \"clip\": \"96\", \"train_wall\": \"6\", \"gb_free\": \"15.9\", \"wall\": \"7\"}\r\n",
      "/opt/conda/lib/python3.7/site-packages/fairseq-1.0.0a0+6179d53-py3.7-linux-x86_64.egg/fairseq/utils.py:369: UserWarning: amp_C fused kernels unavailable, disabling multi_tensor_l2norm; you may get better performance by installing NVIDIA's apex library\r\n",
      "  \"amp_C fused kernels unavailable, disabling multi_tensor_l2norm; \"\r\n",
      "[2021-06-03 17:44:19,600][train_inner][INFO] - {\"epoch\": 1, \"update\": 0.685, \"loss\": \"2.608\", \"ntokens\": \"8\", \"nsentences\": \"8\", \"temp\": \"1.985\", \"code_ppl\": \"15.374\", \"loss_code_pen\": \"0.135\", \"loss_smoothness\": \"0.474\", \"loss_dense_g\": \"0.211\", \"lm_score_sum\": 0.0, \"num_pred_chars\": 0.0, \"loss_grad_pen\": \"0.753\", \"loss_dense_d\": \"1.844\", \"loss_token_d\": \"1.798\", \"wps\": \"114.1\", \"ups\": \"14.27\", \"wpb\": \"8\", \"bsz\": \"8\", \"num_updates\": \"200\", \"lr_discriminator\": \"0.0005\", \"lr_generator\": \"0.0004\", \"gnorm\": \"15.465\", \"clip\": \"66\", \"train_wall\": \"5\", \"gb_free\": \"15.9\", \"wall\": \"19\"}\r\n",
      "[2021-06-03 17:44:24,467][fairseq_cli.train][INFO] - begin validation on \"valid\" subset\r\n",
      "[2021-06-03 17:44:29,889][fairseq.tasks.unpaired_audio_text][INFO] - REF: ɛ n f œ ʂ ə n a d ɵ ʂ ə k t f øː r d eː t s ɔ m h ɛ n d ə p oː ɕ œ r k ɔ n s ɛ t ə n\r\n",
      "[2021-06-03 17:44:29,894][fairseq.tasks.unpaired_audio_text][INFO] - HYP: eː ʃ m œ uː ɕ œ ɕ uː ɕ uː ɪ b ʃ ɕ ɪ ɵ ɪ s uː s uː s ɵ uː s t f a ʂ f sx ʂ\r\n",
      "[2021-06-03 17:44:29,904][fairseq.tasks.unpaired_audio_text][INFO] - LM [REF]: -53.44462585449219, 0.05339602260269112\r\n",
      "[2021-06-03 17:44:29,904][fairseq.tasks.unpaired_audio_text][INFO] - LM [HYP]: -74.23101806640625, 0.0065574466017449705\r\n",
      "[2021-06-03 17:44:31,347][valid][INFO] - {\"epoch\": 1, \"valid_loss\": \"0.949\", \"valid_ntokens\": \"168.209\", \"valid_nsentences\": \"7.98024\", \"valid_lm_score_sum\": \"-83169.2\", \"valid_num_pred_chars\": \"34700\", \"valid_vocab_seen_pct\": \"0.847874\", \"valid_uer\": \"94.8587\", \"valid_weighted_lm_ppl\": \"256.069\", \"valid_lm_ppl\": \"184.085\", \"valid_wps\": \"6306.6\", \"valid_wpb\": \"168.2\", \"valid_bsz\": \"8\", \"valid_num_updates\": \"292\"}\r\n",
      "[2021-06-03 17:44:31,350][fairseq.checkpoint_utils][INFO] - Preparing to save checkpoint for epoch 1 @ 292 updates\r\n",
      "[2021-06-03 17:44:31,351][fairseq.trainer][INFO] - Saving checkpoint to /kaggle/working/checkpoint1.pt\r\n",
      "[2021-06-03 17:44:31,395][fairseq.trainer][INFO] - Finished saving checkpoint to /kaggle/working/checkpoint1.pt\r\n",
      "[2021-06-03 17:44:31,423][fairseq.checkpoint_utils][INFO] - Saved checkpoint /kaggle/working/checkpoint1.pt (epoch 1 @ 292 updates, score 256.06858640420677) (writing took 0.07364417100006904 seconds)\r\n",
      "[2021-06-03 17:44:31,424][fairseq_cli.train][INFO] - end of epoch 1 (average epoch stats below)\r\n",
      "[2021-06-03 17:44:31,429][train][INFO] - {\"epoch\": 1, \"train_loss\": \"4.56\", \"train_ntokens\": \"7.98288\", \"train_nsentences\": \"7.98288\", \"train_temp\": \"1.986\", \"train_code_ppl\": \"15.928\", \"train_loss_code_pen\": \"0.136\", \"train_loss_smoothness\": \"0.86\", \"train_loss_dense_g\": \"0.253\", \"train_lm_score_sum\": 0.0, \"train_num_pred_chars\": 0.0, \"train_loss_grad_pen\": \"4.439\", \"train_loss_dense_d\": \"1.731\", \"train_loss_token_d\": \"1.688\", \"train_wps\": \"80.4\", \"train_ups\": \"10.06\", \"train_wpb\": \"8\", \"train_bsz\": \"8\", \"train_num_updates\": \"292\", \"train_lr_discriminator\": \"0.0005\", \"train_lr_generator\": \"0.0004\", \"train_gnorm\": \"18.129\", \"train_clip\": \"73.6\", \"train_train_wall\": \"16\", \"train_gb_free\": \"15.9\", \"train_wall\": \"31\"}\r\n",
      "[2021-06-03 17:44:31,443][fairseq.trainer][INFO] - begin training epoch 2\r\n",
      "[2021-06-03 17:44:31,445][fairseq_cli.train][INFO] - Start iterating over samples\r\n",
      "[2021-06-03 17:44:31,959][train_inner][INFO] - {\"epoch\": 2, \"update\": 1.027, \"loss\": \"2.359\", \"ntokens\": \"8\", \"nsentences\": \"8\", \"temp\": \"1.975\", \"code_ppl\": \"16.598\", \"loss_code_pen\": \"0.124\", \"loss_smoothness\": \"0.265\", \"loss_dense_g\": \"0.21\", \"lm_score_sum\": 0.0, \"num_pred_chars\": 0.0, \"loss_grad_pen\": \"0.558\", \"loss_dense_d\": \"1.85\", \"loss_token_d\": \"1.712\", \"wps\": \"64.7\", \"ups\": \"8.09\", \"wpb\": \"8\", \"bsz\": \"8\", \"num_updates\": \"300\", \"lr_discriminator\": \"0.0005\", \"lr_generator\": \"0.0004\", \"gnorm\": \"13.809\", \"clip\": \"58\", \"train_wall\": \"5\", \"gb_free\": \"15.9\", \"wall\": \"32\"}\r\n",
      "[2021-06-03 17:44:37,192][train_inner][INFO] - {\"epoch\": 2, \"update\": 1.37, \"loss\": \"2.163\", \"ntokens\": \"8\", \"nsentences\": \"8\", \"temp\": \"1.965\", \"code_ppl\": \"17.112\", \"loss_code_pen\": \"0.107\", \"loss_smoothness\": \"0.177\", \"loss_dense_g\": \"0.237\", \"lm_score_sum\": 0.0, \"num_pred_chars\": 0.0, \"loss_grad_pen\": \"0.552\", \"loss_dense_d\": \"1.674\", \"loss_token_d\": \"1.579\", \"wps\": \"153\", \"ups\": \"19.12\", \"wpb\": \"8\", \"bsz\": \"8\", \"num_updates\": \"400\", \"lr_discriminator\": \"0.0005\", \"lr_generator\": \"0.0004\", \"gnorm\": \"13.273\", \"clip\": \"54\", \"train_wall\": \"5\", \"gb_free\": \"15.9\", \"wall\": \"37\"}\r\n",
      "Traceback (most recent call last):\r\n",
      "  File \"/opt/conda/bin/fairseq-hydra-train\", line 33, in <module>\r\n",
      "    sys.exit(load_entry_point('fairseq==1.0.0a0+6179d53', 'console_scripts', 'fairseq-hydra-train')())\r\n",
      "  File \"/opt/conda/lib/python3.7/site-packages/fairseq-1.0.0a0+6179d53-py3.7-linux-x86_64.egg/fairseq_cli/hydra_train.py\", line 76, in cli_main\r\n",
      "    hydra_main()\r\n",
      "  File \"/opt/conda/lib/python3.7/site-packages/hydra_core-1.0.6-py3.7.egg/hydra/main.py\", line 37, in decorated_main\r\n",
      "    strict=strict,\r\n",
      "  File \"/opt/conda/lib/python3.7/site-packages/hydra_core-1.0.6-py3.7.egg/hydra/_internal/utils.py\", line 355, in _run_hydra\r\n",
      "    lambda: hydra.multirun(\r\n",
      "  File \"/opt/conda/lib/python3.7/site-packages/hydra_core-1.0.6-py3.7.egg/hydra/_internal/utils.py\", line 201, in run_and_report\r\n",
      "    raise ex\r\n",
      "  File \"/opt/conda/lib/python3.7/site-packages/hydra_core-1.0.6-py3.7.egg/hydra/_internal/utils.py\", line 198, in run_and_report\r\n",
      "    return func()\r\n",
      "  File \"/opt/conda/lib/python3.7/site-packages/hydra_core-1.0.6-py3.7.egg/hydra/_internal/utils.py\", line 358, in <lambda>\r\n",
      "    overrides=args.overrides,\r\n",
      "  File \"/opt/conda/lib/python3.7/site-packages/hydra_core-1.0.6-py3.7.egg/hydra/_internal/hydra.py\", line 136, in multirun\r\n",
      "    return sweeper.sweep(arguments=task_overrides)\r\n",
      "  File \"/opt/conda/lib/python3.7/site-packages/hydra_core-1.0.6-py3.7.egg/hydra/_internal/core_plugins/basic_sweeper.py\", line 154, in sweep\r\n",
      "    results = self.launcher.launch(batch, initial_job_idx=initial_job_idx)\r\n",
      "  File \"/opt/conda/lib/python3.7/site-packages/hydra_core-1.0.6-py3.7.egg/hydra/_internal/core_plugins/basic_launcher.py\", line 80, in launch\r\n",
      "    job_subdir_key=\"hydra.sweep.subdir\",\r\n",
      "  File \"/opt/conda/lib/python3.7/site-packages/hydra_core-1.0.6-py3.7.egg/hydra/core/utils.py\", line 127, in run_job\r\n",
      "    ret.return_value = task_function(task_cfg)\r\n",
      "  File \"/opt/conda/lib/python3.7/site-packages/fairseq-1.0.0a0+6179d53-py3.7-linux-x86_64.egg/fairseq_cli/hydra_train.py\", line 45, in hydra_main\r\n",
      "    distributed_utils.call_main(cfg, pre_main)\r\n",
      "  File \"/opt/conda/lib/python3.7/site-packages/fairseq-1.0.0a0+6179d53-py3.7-linux-x86_64.egg/fairseq/distributed/utils.py\", line 369, in call_main\r\n",
      "    main(cfg, **kwargs)\r\n",
      "  File \"/opt/conda/lib/python3.7/site-packages/fairseq-1.0.0a0+6179d53-py3.7-linux-x86_64.egg/fairseq_cli/train.py\", line 178, in main\r\n",
      "    valid_losses, should_stop = train(cfg, trainer, task, epoch_itr)\r\n",
      "  File \"/opt/conda/lib/python3.7/contextlib.py\", line 74, in inner\r\n",
      "    return func(*args, **kwds)\r\n",
      "  File \"/opt/conda/lib/python3.7/site-packages/fairseq-1.0.0a0+6179d53-py3.7-linux-x86_64.egg/fairseq_cli/train.py\", line 289, in train\r\n",
      "    log_output = trainer.train_step(samples)\r\n",
      "  File \"/opt/conda/lib/python3.7/contextlib.py\", line 74, in inner\r\n",
      "    return func(*args, **kwds)\r\n",
      "  File \"/opt/conda/lib/python3.7/site-packages/fairseq-1.0.0a0+6179d53-py3.7-linux-x86_64.egg/fairseq/trainer.py\", line 736, in train_step\r\n",
      "    raise e\r\n",
      "  File \"/opt/conda/lib/python3.7/site-packages/fairseq-1.0.0a0+6179d53-py3.7-linux-x86_64.egg/fairseq/trainer.py\", line 710, in train_step\r\n",
      "    ignore_grad=is_dummy_batch,\r\n",
      "  File \"/opt/conda/lib/python3.7/site-packages/fairseq-1.0.0a0+6179d53-py3.7-linux-x86_64.egg/fairseq/tasks/fairseq_task.py\", line 506, in train_step\r\n",
      "    optimizer.backward(loss)\r\n",
      "  File \"/opt/conda/lib/python3.7/site-packages/fairseq-1.0.0a0+6179d53-py3.7-linux-x86_64.egg/fairseq/optim/fairseq_optimizer.py\", line 95, in backward\r\n",
      "    loss.backward()\r\n",
      "  File \"/opt/conda/lib/python3.7/site-packages/torch/tensor.py\", line 221, in backward\r\n",
      "    torch.autograd.backward(self, gradient, retain_graph, create_graph)\r\n",
      "  File \"/opt/conda/lib/python3.7/site-packages/torch/autograd/__init__.py\", line 132, in backward\r\n",
      "    allow_unreachable=True)  # allow_unreachable flag\r\n",
      "RuntimeError: cuDNN error: CUDNN_STATUS_EXECUTION_FAILED\r\n",
      "You can try to repro this exception using the following code snippet. If that doesn't trigger the error, please include your original repro script when reporting this issue.\r\n",
      "\r\n",
      "import torch\r\n",
      "torch.backends.cuda.matmul.allow_tf32 = True\r\n",
      "torch.backends.cudnn.benchmark = False\r\n",
      "torch.backends.cudnn.deterministic = False\r\n",
      "torch.backends.cudnn.allow_tf32 = True\r\n",
      "data = torch.randn([8, 384, 1, 25], dtype=torch.float, device='cuda', requires_grad=True)\r\n",
      "net = torch.nn.Conv2d(384, 384, kernel_size=[1, 6], padding=[0, 5], stride=[1, 1], dilation=[1, 1], groups=1)\r\n",
      "net = net.cuda().float()\r\n",
      "out = net(data)\r\n",
      "out.backward(torch.randn_like(out))\r\n",
      "torch.cuda.synchronize()\r\n",
      "\r\n",
      "ConvolutionParams \r\n",
      "    data_type = CUDNN_DATA_FLOAT\r\n",
      "    padding = [0, 5, 0]\r\n",
      "    stride = [1, 1, 0]\r\n",
      "    dilation = [1, 1, 0]\r\n",
      "    groups = 1\r\n",
      "    deterministic = false\r\n",
      "    allow_tf32 = true\r\n",
      "input: TensorDescriptor 0x7fbec00b3820\r\n",
      "    type = CUDNN_DATA_FLOAT\r\n",
      "    nbDims = 4\r\n",
      "    dimA = 8, 384, 1, 25, \r\n",
      "    strideA = 9600, 25, 25, 1, \r\n",
      "output: TensorDescriptor 0x7fbec0032fa0\r\n",
      "    type = CUDNN_DATA_FLOAT\r\n",
      "    nbDims = 4\r\n",
      "    dimA = 8, 384, 1, 30, \r\n",
      "    strideA = 11520, 30, 30, 1, \r\n",
      "weight: FilterDescriptor 0x7fbec009f2f0\r\n",
      "    type = CUDNN_DATA_FLOAT\r\n",
      "    tensor_format = CUDNN_TENSOR_NCHW\r\n",
      "    nbDims = 4\r\n",
      "    dimA = 384, 384, 1, 6, \r\n",
      "Pointer addresses: \r\n",
      "    input: 0x7fbf011a2600\r\n",
      "    output: 0x7fbf01800000\r\n",
      "    weight: 0x7fbef4000000\r\n",
      "Additional pointer addresses: \r\n",
      "    grad_output: 0x7fbf01800000\r\n",
      "    grad_input: 0x7fbf011a2600\r\n",
      "Backward data algorithm: 1\r\n",
      "\r\n"
     ]
    }
   ],
   "source": [
    "!bash rungan.sh"
   ]
  }
 ],
 "metadata": {
  "kernelspec": {
   "display_name": "Python 3",
   "language": "python",
   "name": "python3"
  },
  "language_info": {
   "codemirror_mode": {
    "name": "ipython",
    "version": 3
   },
   "file_extension": ".py",
   "mimetype": "text/x-python",
   "name": "python",
   "nbconvert_exporter": "python",
   "pygments_lexer": "ipython3",
   "version": "3.7.10"
  },
  "papermill": {
   "default_parameters": {},
   "duration": 510.74363,
   "end_time": "2021-06-03T17:44:41.252391",
   "environment_variables": {},
   "exception": null,
   "input_path": "__notebook__.ipynb",
   "output_path": "__notebook__.ipynb",
   "parameters": {},
   "start_time": "2021-06-03T17:36:10.508761",
   "version": "2.3.3"
  }
 },
 "nbformat": 4,
 "nbformat_minor": 5
}
