{
 "cells": [
  {
   "cell_type": "markdown",
   "id": "laden-disposition",
   "metadata": {
    "papermill": {
     "duration": 0.012891,
     "end_time": "2021-05-31T11:10:37.200138",
     "exception": false,
     "start_time": "2021-05-31T11:10:37.187247",
     "status": "completed"
    },
    "tags": []
   },
   "source": [
    "## Preparation"
   ]
  },
  {
   "cell_type": "code",
   "execution_count": 1,
   "id": "presidential-convention",
   "metadata": {
    "_cell_guid": "b1076dfc-b9ad-4769-8c92-a6c4dae69d19",
    "_uuid": "8f2839f25d086af736a60e9eeb907d3b93b6e0e5",
    "execution": {
     "iopub.execute_input": "2021-05-31T11:10:37.237484Z",
     "iopub.status.busy": "2021-05-31T11:10:37.232742Z",
     "iopub.status.idle": "2021-05-31T11:15:33.474058Z",
     "shell.execute_reply": "2021-05-31T11:15:33.475147Z",
     "shell.execute_reply.started": "2021-05-30T19:07:03.966422Z"
    },
    "papermill": {
     "duration": 296.263483,
     "end_time": "2021-05-31T11:15:33.475646",
     "exception": false,
     "start_time": "2021-05-31T11:10:37.212163",
     "status": "completed"
    },
    "tags": []
   },
   "outputs": [],
   "source": [
    "%%capture\n",
    "!conda install -c pykaldi pykaldi -y"
   ]
  },
  {
   "cell_type": "code",
   "execution_count": 2,
   "id": "adaptive-resident",
   "metadata": {
    "execution": {
     "iopub.execute_input": "2021-05-31T11:15:33.511041Z",
     "iopub.status.busy": "2021-05-31T11:15:33.510014Z",
     "iopub.status.idle": "2021-05-31T11:15:33.518818Z",
     "shell.execute_reply": "2021-05-31T11:15:33.519309Z"
    },
    "papermill": {
     "duration": 0.031728,
     "end_time": "2021-05-31T11:15:33.519520",
     "exception": false,
     "start_time": "2021-05-31T11:15:33.487792",
     "status": "completed"
    },
    "tags": []
   },
   "outputs": [
    {
     "name": "stdout",
     "output_type": "stream",
     "text": [
      "/tmp\n"
     ]
    }
   ],
   "source": [
    "%cd /tmp"
   ]
  },
  {
   "cell_type": "code",
   "execution_count": 3,
   "id": "turkish-actress",
   "metadata": {
    "execution": {
     "iopub.execute_input": "2021-05-31T11:15:33.558418Z",
     "iopub.status.busy": "2021-05-31T11:15:33.553777Z",
     "iopub.status.idle": "2021-05-31T11:15:40.764818Z",
     "shell.execute_reply": "2021-05-31T11:15:40.764126Z",
     "shell.execute_reply.started": "2021-05-25T22:38:20.218298Z"
    },
    "papermill": {
     "duration": 7.229042,
     "end_time": "2021-05-31T11:15:40.764960",
     "exception": false,
     "start_time": "2021-05-31T11:15:33.535918",
     "status": "completed"
    },
    "tags": []
   },
   "outputs": [
    {
     "name": "stdout",
     "output_type": "stream",
     "text": [
      "Cloning into 'fairseq'...\r\n",
      "remote: Enumerating objects: 28199, done.\u001b[K\r\n",
      "remote: Counting objects: 100% (613/613), done.\u001b[K\r\n",
      "remote: Compressing objects: 100% (349/349), done.\u001b[K\r\n",
      "remote: Total 28199 (delta 326), reused 488 (delta 249), pack-reused 27586\u001b[K\r\n",
      "Receiving objects: 100% (28199/28199), 11.88 MiB | 6.41 MiB/s, done.\r\n",
      "Resolving deltas: 100% (21145/21145), done.\r\n"
     ]
    }
   ],
   "source": [
    "!git clone https://github.com/jimregan/fairseq/ --branch issue3581"
   ]
  },
  {
   "cell_type": "code",
   "execution_count": 4,
   "id": "forty-integrity",
   "metadata": {
    "execution": {
     "iopub.execute_input": "2021-05-31T11:15:40.816761Z",
     "iopub.status.busy": "2021-05-31T11:15:40.813031Z",
     "iopub.status.idle": "2021-05-31T11:15:44.526365Z",
     "shell.execute_reply": "2021-05-31T11:15:44.526946Z",
     "shell.execute_reply.started": "2021-05-25T22:47:02.096238Z"
    },
    "papermill": {
     "duration": 3.740405,
     "end_time": "2021-05-31T11:15:44.527131",
     "exception": false,
     "start_time": "2021-05-31T11:15:40.786726",
     "status": "completed"
    },
    "tags": []
   },
   "outputs": [
    {
     "name": "stdout",
     "output_type": "stream",
     "text": [
      "Cloning into 'kenlm'...\r\n",
      "remote: Enumerating objects: 13824, done.\u001b[K\r\n",
      "remote: Counting objects: 100% (137/137), done.\u001b[K\r\n",
      "remote: Compressing objects: 100% (79/79), done.\u001b[K\r\n",
      "remote: Total 13824 (delta 76), reused 92 (delta 45), pack-reused 13687\u001b[K\r\n",
      "Receiving objects: 100% (13824/13824), 5.49 MiB | 4.14 MiB/s, done.\r\n",
      "Resolving deltas: 100% (7956/7956), done.\r\n"
     ]
    }
   ],
   "source": [
    "!git clone https://github.com/kpu/kenlm"
   ]
  },
  {
   "cell_type": "code",
   "execution_count": 5,
   "id": "cardiac-birmingham",
   "metadata": {
    "execution": {
     "iopub.execute_input": "2021-05-31T11:15:44.589915Z",
     "iopub.status.busy": "2021-05-31T11:15:44.589030Z",
     "iopub.status.idle": "2021-05-31T11:15:51.776581Z",
     "shell.execute_reply": "2021-05-31T11:15:51.776019Z"
    },
    "papermill": {
     "duration": 7.221673,
     "end_time": "2021-05-31T11:15:51.776736",
     "exception": false,
     "start_time": "2021-05-31T11:15:44.555063",
     "status": "completed"
    },
    "tags": []
   },
   "outputs": [],
   "source": [
    "%%capture\n",
    "!apt-get -y install libeigen3-dev liblzma-dev zlib1g-dev libbz2-dev"
   ]
  },
  {
   "cell_type": "code",
   "execution_count": 6,
   "id": "amazing-australian",
   "metadata": {
    "execution": {
     "iopub.execute_input": "2021-05-31T11:15:51.842048Z",
     "iopub.status.busy": "2021-05-31T11:15:51.841277Z",
     "iopub.status.idle": "2021-05-31T11:17:03.786633Z",
     "shell.execute_reply": "2021-05-31T11:17:03.786022Z"
    },
    "papermill": {
     "duration": 71.982102,
     "end_time": "2021-05-31T11:17:03.786813",
     "exception": false,
     "start_time": "2021-05-31T11:15:51.804711",
     "status": "completed"
    },
    "tags": []
   },
   "outputs": [],
   "source": [
    "%%capture\n",
    "%cd kenlm\n",
    "!mkdir build\n",
    "%cd build\n",
    "!cmake ..\n",
    "!make -j 4\n",
    "%cd /tmp"
   ]
  },
  {
   "cell_type": "code",
   "execution_count": 7,
   "id": "green-memphis",
   "metadata": {
    "execution": {
     "iopub.execute_input": "2021-05-31T11:17:03.850354Z",
     "iopub.status.busy": "2021-05-31T11:17:03.849348Z",
     "iopub.status.idle": "2021-05-31T11:17:03.852030Z",
     "shell.execute_reply": "2021-05-31T11:17:03.852516Z",
     "shell.execute_reply.started": "2021-05-25T22:58:58.397816Z"
    },
    "papermill": {
     "duration": 0.037092,
     "end_time": "2021-05-31T11:17:03.852690",
     "exception": false,
     "start_time": "2021-05-31T11:17:03.815598",
     "status": "completed"
    },
    "tags": []
   },
   "outputs": [],
   "source": [
    "import os\n",
    "os.environ['PATH'] = f\"{os.environ['PATH']}:/tmp/kenlm/build/bin/\"\n",
    "os.environ['FAIRSEQ_ROOT'] = '/tmp/fairseq'"
   ]
  },
  {
   "cell_type": "code",
   "execution_count": 8,
   "id": "express-pleasure",
   "metadata": {
    "execution": {
     "iopub.execute_input": "2021-05-31T11:17:03.928599Z",
     "iopub.status.busy": "2021-05-31T11:17:03.927431Z",
     "iopub.status.idle": "2021-05-31T11:17:03.937206Z",
     "shell.execute_reply": "2021-05-31T11:17:03.937982Z",
     "shell.execute_reply.started": "2021-05-25T22:55:38.373919Z"
    },
    "papermill": {
     "duration": 0.052989,
     "end_time": "2021-05-31T11:17:03.938233",
     "exception": false,
     "start_time": "2021-05-31T11:17:03.885244",
     "status": "completed"
    },
    "tags": []
   },
   "outputs": [
    {
     "name": "stdout",
     "output_type": "stream",
     "text": [
      "/tmp/fairseq\n"
     ]
    }
   ],
   "source": [
    "%cd /tmp/fairseq/"
   ]
  },
  {
   "cell_type": "code",
   "execution_count": 9,
   "id": "pursuant-filter",
   "metadata": {
    "execution": {
     "iopub.execute_input": "2021-05-31T11:17:04.008669Z",
     "iopub.status.busy": "2021-05-31T11:17:04.007607Z",
     "iopub.status.idle": "2021-05-31T11:18:02.695165Z",
     "shell.execute_reply": "2021-05-31T11:18:02.694420Z"
    },
    "papermill": {
     "duration": 58.723815,
     "end_time": "2021-05-31T11:18:02.695347",
     "exception": false,
     "start_time": "2021-05-31T11:17:03.971532",
     "status": "completed"
    },
    "tags": []
   },
   "outputs": [
    {
     "name": "stdout",
     "output_type": "stream",
     "text": [
      "Processing /tmp/fairseq\r\n",
      "  Installing build dependencies ... \u001b[?25l-\b \b\\\b \b|\b \b/\b \b-\b \b\\\b \b|\b \b/\b \bdone\r\n",
      "\u001b[?25h  Getting requirements to build wheel ... \u001b[?25ldone\r\n",
      "\u001b[?25h  Installing backend dependencies ... \u001b[?25l-\b \b\\\b \b|\b \b/\b \b-\b \bdone\r\n",
      "\u001b[?25h    Preparing wheel metadata ... \u001b[?25l-\b \b\\\b \bdone\r\n",
      "\u001b[?25hRequirement already satisfied: cython in /opt/conda/lib/python3.7/site-packages (from fairseq==1.0.0a0+828272d) (0.29.23)\r\n",
      "Requirement already satisfied: regex in /opt/conda/lib/python3.7/site-packages (from fairseq==1.0.0a0+828272d) (2021.3.17)\r\n",
      "Requirement already satisfied: torch in /opt/conda/lib/python3.7/site-packages (from fairseq==1.0.0a0+828272d) (1.7.0)\r\n",
      "Requirement already satisfied: tqdm in /opt/conda/lib/python3.7/site-packages (from fairseq==1.0.0a0+828272d) (4.59.0)\r\n",
      "Requirement already satisfied: cffi in /opt/conda/lib/python3.7/site-packages (from fairseq==1.0.0a0+828272d) (1.14.5)\r\n",
      "Collecting omegaconf<2.1\r\n",
      "  Downloading omegaconf-2.0.6-py3-none-any.whl (36 kB)\r\n",
      "Collecting sacrebleu>=1.4.12\r\n",
      "  Downloading sacrebleu-1.5.1-py3-none-any.whl (54 kB)\r\n",
      "\u001b[K     |████████████████████████████████| 54 kB 650 kB/s \r\n",
      "\u001b[?25hCollecting hydra-core<1.1\r\n",
      "  Downloading hydra_core-1.0.6-py3-none-any.whl (123 kB)\r\n",
      "\u001b[K     |████████████████████████████████| 123 kB 1.3 MB/s \r\n",
      "\u001b[?25hRequirement already satisfied: numpy in /opt/conda/lib/python3.7/site-packages (from fairseq==1.0.0a0+828272d) (1.19.5)\r\n",
      "Collecting importlib-resources\r\n",
      "  Downloading importlib_resources-5.1.4-py3-none-any.whl (26 kB)\r\n",
      "Collecting antlr4-python3-runtime==4.8\r\n",
      "  Downloading antlr4-python3-runtime-4.8.tar.gz (112 kB)\r\n",
      "\u001b[K     |████████████████████████████████| 112 kB 2.6 MB/s \r\n",
      "\u001b[?25hRequirement already satisfied: typing-extensions in /opt/conda/lib/python3.7/site-packages (from omegaconf<2.1->fairseq==1.0.0a0+828272d) (3.7.4.3)\r\n",
      "Requirement already satisfied: PyYAML>=5.1.* in /opt/conda/lib/python3.7/site-packages (from omegaconf<2.1->fairseq==1.0.0a0+828272d) (5.3.1)\r\n",
      "Collecting portalocker==2.0.0\r\n",
      "  Downloading portalocker-2.0.0-py2.py3-none-any.whl (11 kB)\r\n",
      "Requirement already satisfied: pycparser in /opt/conda/lib/python3.7/site-packages (from cffi->fairseq==1.0.0a0+828272d) (2.20)\r\n",
      "Requirement already satisfied: zipp>=3.1.0 in /opt/conda/lib/python3.7/site-packages (from importlib-resources->hydra-core<1.1->fairseq==1.0.0a0+828272d) (3.4.1)\r\n",
      "Requirement already satisfied: future in /opt/conda/lib/python3.7/site-packages (from torch->fairseq==1.0.0a0+828272d) (0.18.2)\r\n",
      "Requirement already satisfied: dataclasses in /opt/conda/lib/python3.7/site-packages (from torch->fairseq==1.0.0a0+828272d) (0.6)\r\n",
      "Building wheels for collected packages: fairseq, antlr4-python3-runtime\r\n",
      "  Building wheel for fairseq (PEP 517) ... \u001b[?25l-\b \b\\\b \b|\b \b/\b \b-\b \b\\\b \b|\b \b/\b \b-\b \b\\\b \b|\b \b/\b \b-\b \b\\\b \b|\b \b/\b \b-\b \b\\\b \b|\b \bdone\r\n",
      "\u001b[?25h  Created wheel for fairseq: filename=fairseq-1.0.0a0+828272d-cp37-cp37m-linux_x86_64.whl size=2041323 sha256=d8c2f3754d584b414637b3baa716f966a0573027f6f94163f6206f861bea1a62\r\n",
      "  Stored in directory: /tmp/pip-ephem-wheel-cache-04dryv1t/wheels/e3/52/72/c9070e4abac84e3448568d15e13e9e42bb689c08614271d8f3\r\n",
      "  Building wheel for antlr4-python3-runtime (setup.py) ... \u001b[?25l-\b \b\\\b \bdone\r\n",
      "\u001b[?25h  Created wheel for antlr4-python3-runtime: filename=antlr4_python3_runtime-4.8-py3-none-any.whl size=141230 sha256=b5ae5b6b22488abee01ba64efa45ed851023523090d3c3d7d168efaacadae9bb\r\n",
      "  Stored in directory: /root/.cache/pip/wheels/ca/33/b7/336836125fc9bb4ceaa4376d8abca10ca8bc84ddc824baea6c\r\n",
      "Successfully built fairseq antlr4-python3-runtime\r\n",
      "Installing collected packages: portalocker, omegaconf, importlib-resources, antlr4-python3-runtime, sacrebleu, hydra-core, fairseq\r\n",
      "  Attempting uninstall: portalocker\r\n",
      "    Found existing installation: portalocker 2.3.0\r\n",
      "    Uninstalling portalocker-2.3.0:\r\n",
      "      Successfully uninstalled portalocker-2.3.0\r\n",
      "Successfully installed antlr4-python3-runtime-4.8 fairseq-1.0.0a0+828272d hydra-core-1.0.6 importlib-resources-5.1.4 omegaconf-2.0.6 portalocker-2.0.0 sacrebleu-1.5.1\r\n"
     ]
    }
   ],
   "source": [
    "!pip install ."
   ]
  },
  {
   "cell_type": "code",
   "execution_count": 10,
   "id": "hungarian-surge",
   "metadata": {
    "execution": {
     "iopub.execute_input": "2021-05-31T11:18:02.800678Z",
     "iopub.status.busy": "2021-05-31T11:18:02.799774Z",
     "iopub.status.idle": "2021-05-31T11:18:02.805074Z",
     "shell.execute_reply": "2021-05-31T11:18:02.804519Z"
    },
    "papermill": {
     "duration": 0.060059,
     "end_time": "2021-05-31T11:18:02.805217",
     "exception": false,
     "start_time": "2021-05-31T11:18:02.745158",
     "status": "completed"
    },
    "tags": []
   },
   "outputs": [
    {
     "name": "stdout",
     "output_type": "stream",
     "text": [
      "/tmp/fairseq/examples/wav2vec/unsupervised\n"
     ]
    }
   ],
   "source": [
    "%cd /tmp/fairseq/examples/wav2vec/unsupervised"
   ]
  },
  {
   "cell_type": "code",
   "execution_count": 11,
   "id": "numerous-devil",
   "metadata": {
    "execution": {
     "iopub.execute_input": "2021-05-31T11:18:02.910487Z",
     "iopub.status.busy": "2021-05-31T11:18:02.909804Z",
     "iopub.status.idle": "2021-05-31T11:18:02.912250Z",
     "shell.execute_reply": "2021-05-31T11:18:02.912762Z"
    },
    "papermill": {
     "duration": 0.057428,
     "end_time": "2021-05-31T11:18:02.912987",
     "exception": false,
     "start_time": "2021-05-31T11:18:02.855559",
     "status": "completed"
    },
    "tags": []
   },
   "outputs": [],
   "source": [
    "os.environ['HYDRA_FULL_ERROR'] = '1'"
   ]
  },
  {
   "cell_type": "markdown",
   "id": "cardiovascular-blanket",
   "metadata": {
    "papermill": {
     "duration": 0.049369,
     "end_time": "2021-05-31T11:18:03.012200",
     "exception": false,
     "start_time": "2021-05-31T11:18:02.962831",
     "status": "completed"
    },
    "tags": []
   },
   "source": [
    "## GAN"
   ]
  },
  {
   "cell_type": "code",
   "execution_count": 12,
   "id": "jewish-colors",
   "metadata": {
    "execution": {
     "iopub.execute_input": "2021-05-31T11:18:03.119644Z",
     "iopub.status.busy": "2021-05-31T11:18:03.118919Z",
     "iopub.status.idle": "2021-05-31T11:18:03.862551Z",
     "shell.execute_reply": "2021-05-31T11:18:03.861977Z",
     "shell.execute_reply.started": "2021-05-30T16:46:39.899633Z"
    },
    "papermill": {
     "duration": 0.801473,
     "end_time": "2021-05-31T11:18:03.862704",
     "exception": false,
     "start_time": "2021-05-31T11:18:03.061231",
     "status": "completed"
    },
    "tags": []
   },
   "outputs": [
    {
     "name": "stdout",
     "output_type": "stream",
     "text": [
      "CLUS128\t\t    precompute_pca512_cls128_mean\t  train.npy\r\n",
      "__notebook__.ipynb  precompute_pca512_cls128_mean_pooled  train.phn\r\n",
      "__output__.json     test.lengths\t\t\t  train.tsv\r\n",
      "__results__.html    test.ltr\t\t\t\t  train.wrd\r\n",
      "custom.css\t    test.npy\t\t\t\t  valid.lengths\r\n",
      "dict.test\t    test.phn\t\t\t\t  valid.ltr\r\n",
      "dict.train\t    test.tsv\t\t\t\t  valid.npy\r\n",
      "dict.valid\t    test.wrd\t\t\t\t  valid.phn\r\n",
      "pca\t\t    train.lengths\t\t\t  valid.tsv\r\n",
      "precompute_pca512   train.ltr\t\t\t\t  valid.wrd\r\n"
     ]
    }
   ],
   "source": [
    "!ls /kaggle/input/wav2vec-u-cv-swedish-audio/"
   ]
  },
  {
   "cell_type": "code",
   "execution_count": 13,
   "id": "alternate-edward",
   "metadata": {
    "execution": {
     "iopub.execute_input": "2021-05-31T11:18:03.970789Z",
     "iopub.status.busy": "2021-05-31T11:18:03.969707Z",
     "iopub.status.idle": "2021-05-31T11:18:03.975170Z",
     "shell.execute_reply": "2021-05-31T11:18:03.974539Z"
    },
    "papermill": {
     "duration": 0.062715,
     "end_time": "2021-05-31T11:18:03.975342",
     "exception": false,
     "start_time": "2021-05-31T11:18:03.912627",
     "status": "completed"
    },
    "tags": []
   },
   "outputs": [
    {
     "name": "stdout",
     "output_type": "stream",
     "text": [
      "Writing rungan.sh\n"
     ]
    }
   ],
   "source": [
    "%%writefile rungan.sh\n",
    "PREFIX=w2v_unsup_gan_xp\n",
    "#TASK_DATA=/path/to/features/unfiltered/precompute_unfiltered_pca512_cls128_mean_pooled\n",
    "TASK_DATA=/kaggle/input/wav2vec-u-cv-swedish-audio/precompute_pca512_cls128_mean_pooled/\n",
    "#TEXT_DATA=/path/to/data  # path to fairseq-preprocessed GAN data\n",
    "TEXT_DATA=/kaggle/input/wav2vec-u-cv-swedish-text-prep/preppedtext/phones/\n",
    "#KENLM_PATH=/path/to/data/kenlm.phn.o4.bin  # KenLM 4-gram phoneme language model (LM data = GAN data here)\n",
    "KENLM_PATH=/kaggle/input/wav2vec-u-cv-swedish-text-prep/preppedtext/phones/lm.phones.filtered.04.bin\n",
    "\n",
    "PREFIX=$PREFIX fairseq-hydra-train \\\n",
    "\t-m --config-dir model/wav2vecu/gan \\\n",
    "\t--config-name w2vu \\\n",
    "\ttask.data=${TASK_DATA} \\\n",
    "\ttask.text_data=${TEXT_DATA} \\\n",
    "\ttask.kenlm_path=${KENLM_PATH} \\\n",
    "\tcheckpoint.no_epoch_checkpoints=false \\\n",
    "\tcheckpoint.save_dir=/kaggle/working \\\n",
    "\t'common.seed=range(0,5)'"
   ]
  },
  {
   "cell_type": "code",
   "execution_count": 14,
   "id": "informal-merit",
   "metadata": {
    "execution": {
     "iopub.execute_input": "2021-05-31T11:18:04.081391Z",
     "iopub.status.busy": "2021-05-31T11:18:04.080679Z",
     "iopub.status.idle": "2021-05-31T11:18:08.575598Z",
     "shell.execute_reply": "2021-05-31T11:18:08.574861Z"
    },
    "papermill": {
     "duration": 4.55012,
     "end_time": "2021-05-31T11:18:08.575754",
     "exception": false,
     "start_time": "2021-05-31T11:18:04.025634",
     "status": "completed"
    },
    "tags": []
   },
   "outputs": [
    {
     "name": "stdout",
     "output_type": "stream",
     "text": [
      "Traceback (most recent call last):\r\n",
      "  File \"/opt/conda/bin/fairseq-hydra-train\", line 5, in <module>\r\n",
      "    from fairseq_cli.hydra_train import cli_main\r\n",
      "  File \"/opt/conda/lib/python3.7/site-packages/fairseq_cli/hydra_train.py\", line 10, in <module>\r\n",
      "    from fairseq.dataclass.initialize import add_defaults, hydra_init\r\n",
      "  File \"/opt/conda/lib/python3.7/site-packages/fairseq/__init__.py\", line 32, in <module>\r\n",
      "    import fairseq.criterions  # noqa\r\n",
      "  File \"/opt/conda/lib/python3.7/site-packages/fairseq/criterions/__init__.py\", line 36, in <module>\r\n",
      "    importlib.import_module(\"fairseq.criterions.\" + file_name)\r\n",
      "  File \"/opt/conda/lib/python3.7/importlib/__init__.py\", line 127, in import_module\r\n",
      "    return _bootstrap._gcd_import(name[level:], package, level)\r\n",
      "  File \"/opt/conda/lib/python3.7/site-packages/fairseq/criterions/ctc.py\", line 19, in <module>\r\n",
      "    from fairseq.tasks import FairseqTask\r\n",
      "  File \"/opt/conda/lib/python3.7/site-packages/fairseq/tasks/__init__.py\", line 116, in <module>\r\n",
      "    module = importlib.import_module(\"fairseq.tasks.\" + task_name)\r\n",
      "  File \"/opt/conda/lib/python3.7/importlib/__init__.py\", line 127, in import_module\r\n",
      "    return _bootstrap._gcd_import(name[level:], package, level)\r\n",
      "  File \"/opt/conda/lib/python3.7/site-packages/fairseq/tasks/unpaired_audio_text.py\", line 28, in <module>\r\n",
      "    from examples.speech_recognition.kaldi.kaldi_decoder import (\r\n",
      "ModuleNotFoundError: No module named 'examples.speech_recognition'\r\n"
     ]
    }
   ],
   "source": [
    "!bash rungan.sh"
   ]
  }
 ],
 "metadata": {
  "kernelspec": {
   "display_name": "Python 3",
   "language": "python",
   "name": "python3"
  },
  "language_info": {
   "codemirror_mode": {
    "name": "ipython",
    "version": 3
   },
   "file_extension": ".py",
   "mimetype": "text/x-python",
   "name": "python",
   "nbconvert_exporter": "python",
   "pygments_lexer": "ipython3",
   "version": "3.7.10"
  },
  "papermill": {
   "default_parameters": {},
   "duration": 461.002513,
   "end_time": "2021-05-31T11:18:09.939505",
   "environment_variables": {},
   "exception": null,
   "input_path": "__notebook__.ipynb",
   "output_path": "__notebook__.ipynb",
   "parameters": {},
   "start_time": "2021-05-31T11:10:28.936992",
   "version": "2.3.3"
  }
 },
 "nbformat": 4,
 "nbformat_minor": 5
}
