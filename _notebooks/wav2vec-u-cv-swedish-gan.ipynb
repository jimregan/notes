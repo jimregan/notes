{
 "cells": [
  {
   "cell_type": "markdown",
   "id": "voluntary-premises",
   "metadata": {
    "papermill": {
     "duration": 0.012962,
     "end_time": "2021-05-30T20:27:27.409662",
     "exception": false,
     "start_time": "2021-05-30T20:27:27.396700",
     "status": "completed"
    },
    "tags": []
   },
   "source": [
    "## Preparation"
   ]
  },
  {
   "cell_type": "code",
   "execution_count": 1,
   "id": "appointed-repair",
   "metadata": {
    "_cell_guid": "b1076dfc-b9ad-4769-8c92-a6c4dae69d19",
    "_uuid": "8f2839f25d086af736a60e9eeb907d3b93b6e0e5",
    "execution": {
     "iopub.execute_input": "2021-05-30T20:27:27.438952Z",
     "iopub.status.busy": "2021-05-30T20:27:27.437813Z",
     "iopub.status.idle": "2021-05-30T20:31:02.985196Z",
     "shell.execute_reply": "2021-05-30T20:31:02.984457Z",
     "shell.execute_reply.started": "2021-05-30T19:07:03.966422Z"
    },
    "papermill": {
     "duration": 215.562879,
     "end_time": "2021-05-30T20:31:02.985386",
     "exception": false,
     "start_time": "2021-05-30T20:27:27.422507",
     "status": "completed"
    },
    "tags": []
   },
   "outputs": [],
   "source": [
    "%%capture\n",
    "!conda install -c pykaldi pykaldi -y"
   ]
  },
  {
   "cell_type": "code",
   "execution_count": 2,
   "id": "governing-estonia",
   "metadata": {
    "execution": {
     "iopub.execute_input": "2021-05-30T20:31:03.018044Z",
     "iopub.status.busy": "2021-05-30T20:31:03.017276Z",
     "iopub.status.idle": "2021-05-30T20:31:03.020129Z",
     "shell.execute_reply": "2021-05-30T20:31:03.020670Z"
    },
    "papermill": {
     "duration": 0.022375,
     "end_time": "2021-05-30T20:31:03.020866",
     "exception": false,
     "start_time": "2021-05-30T20:31:02.998491",
     "status": "completed"
    },
    "tags": []
   },
   "outputs": [
    {
     "name": "stdout",
     "output_type": "stream",
     "text": [
      "/tmp\n"
     ]
    }
   ],
   "source": [
    "%cd /tmp"
   ]
  },
  {
   "cell_type": "code",
   "execution_count": 3,
   "id": "advance-lotus",
   "metadata": {
    "execution": {
     "iopub.execute_input": "2021-05-30T20:31:03.050049Z",
     "iopub.status.busy": "2021-05-30T20:31:03.049413Z",
     "iopub.status.idle": "2021-05-30T20:31:06.657343Z",
     "shell.execute_reply": "2021-05-30T20:31:06.656832Z",
     "shell.execute_reply.started": "2021-05-25T22:38:20.218298Z"
    },
    "papermill": {
     "duration": 3.623315,
     "end_time": "2021-05-30T20:31:06.657523",
     "exception": false,
     "start_time": "2021-05-30T20:31:03.034208",
     "status": "completed"
    },
    "tags": []
   },
   "outputs": [
    {
     "name": "stdout",
     "output_type": "stream",
     "text": [
      "Cloning into 'fairseq'...\r\n",
      "remote: Enumerating objects: 28172, done.\u001b[K\r\n",
      "remote: Counting objects: 100% (586/586), done.\u001b[K\r\n",
      "remote: Compressing objects: 100% (339/339), done.\u001b[K\r\n",
      "remote: Total 28172 (delta 308), reused 465 (delta 234), pack-reused 27586\u001b[K\r\n",
      "Receiving objects: 100% (28172/28172), 11.87 MiB | 21.63 MiB/s, done.\r\n",
      "Resolving deltas: 100% (21127/21127), done.\r\n"
     ]
    }
   ],
   "source": [
    "!git clone https://github.com/pytorch/fairseq/"
   ]
  },
  {
   "cell_type": "code",
   "execution_count": 4,
   "id": "above-jackson",
   "metadata": {
    "execution": {
     "iopub.execute_input": "2021-05-30T20:31:06.707244Z",
     "iopub.status.busy": "2021-05-30T20:31:06.706125Z",
     "iopub.status.idle": "2021-05-30T20:31:11.161876Z",
     "shell.execute_reply": "2021-05-30T20:31:11.161345Z",
     "shell.execute_reply.started": "2021-05-25T22:47:02.096238Z"
    },
    "papermill": {
     "duration": 4.483908,
     "end_time": "2021-05-30T20:31:11.162019",
     "exception": false,
     "start_time": "2021-05-30T20:31:06.678111",
     "status": "completed"
    },
    "tags": []
   },
   "outputs": [
    {
     "name": "stdout",
     "output_type": "stream",
     "text": [
      "Cloning into 'kenlm'...\r\n",
      "remote: Enumerating objects: 13824, done.\u001b[K\r\n",
      "remote: Counting objects: 100% (137/137), done.\u001b[K\r\n",
      "remote: Compressing objects: 100% (79/79), done.\u001b[K\r\n",
      "remote: Total 13824 (delta 76), reused 92 (delta 45), pack-reused 13687\u001b[K\r\n",
      "Receiving objects: 100% (13824/13824), 5.49 MiB | 11.25 MiB/s, done.\r\n",
      "Resolving deltas: 100% (7956/7956), done.\r\n"
     ]
    }
   ],
   "source": [
    "!git clone https://github.com/kpu/kenlm"
   ]
  },
  {
   "cell_type": "code",
   "execution_count": 5,
   "id": "helpful-morocco",
   "metadata": {
    "execution": {
     "iopub.execute_input": "2021-05-30T20:31:11.223082Z",
     "iopub.status.busy": "2021-05-30T20:31:11.219244Z",
     "iopub.status.idle": "2021-05-30T20:31:17.112530Z",
     "shell.execute_reply": "2021-05-30T20:31:17.111964Z"
    },
    "papermill": {
     "duration": 5.925454,
     "end_time": "2021-05-30T20:31:17.112698",
     "exception": false,
     "start_time": "2021-05-30T20:31:11.187244",
     "status": "completed"
    },
    "tags": []
   },
   "outputs": [],
   "source": [
    "%%capture\n",
    "!apt-get -y install libeigen3-dev liblzma-dev zlib1g-dev libbz2-dev"
   ]
  },
  {
   "cell_type": "code",
   "execution_count": 6,
   "id": "understanding-gentleman",
   "metadata": {
    "execution": {
     "iopub.execute_input": "2021-05-30T20:31:17.175386Z",
     "iopub.status.busy": "2021-05-30T20:31:17.174468Z",
     "iopub.status.idle": "2021-05-30T20:32:41.914620Z",
     "shell.execute_reply": "2021-05-30T20:32:41.913565Z"
    },
    "papermill": {
     "duration": 84.776271,
     "end_time": "2021-05-30T20:32:41.915105",
     "exception": false,
     "start_time": "2021-05-30T20:31:17.138834",
     "status": "completed"
    },
    "tags": []
   },
   "outputs": [],
   "source": [
    "%%capture\n",
    "%cd kenlm\n",
    "!mkdir build\n",
    "%cd build\n",
    "!cmake ..\n",
    "!make -j 4\n",
    "%cd /tmp"
   ]
  },
  {
   "cell_type": "code",
   "execution_count": 7,
   "id": "eligible-difficulty",
   "metadata": {
    "execution": {
     "iopub.execute_input": "2021-05-30T20:32:41.978407Z",
     "iopub.status.busy": "2021-05-30T20:32:41.977604Z",
     "iopub.status.idle": "2021-05-30T20:32:41.980163Z",
     "shell.execute_reply": "2021-05-30T20:32:41.980686Z",
     "shell.execute_reply.started": "2021-05-25T22:58:58.397816Z"
    },
    "papermill": {
     "duration": 0.036649,
     "end_time": "2021-05-30T20:32:41.980927",
     "exception": false,
     "start_time": "2021-05-30T20:32:41.944278",
     "status": "completed"
    },
    "tags": []
   },
   "outputs": [],
   "source": [
    "import os\n",
    "os.environ['PATH'] = f\"{os.environ['PATH']}:/tmp/kenlm/build/bin/\"\n",
    "os.environ['FAIRSEQ_ROOT'] = '/tmp/fairseq'"
   ]
  },
  {
   "cell_type": "code",
   "execution_count": 8,
   "id": "smoking-desktop",
   "metadata": {
    "execution": {
     "iopub.execute_input": "2021-05-30T20:32:42.039871Z",
     "iopub.status.busy": "2021-05-30T20:32:42.039113Z",
     "iopub.status.idle": "2021-05-30T20:32:42.044068Z",
     "shell.execute_reply": "2021-05-30T20:32:42.044568Z",
     "shell.execute_reply.started": "2021-05-25T22:55:38.373919Z"
    },
    "papermill": {
     "duration": 0.037579,
     "end_time": "2021-05-30T20:32:42.044770",
     "exception": false,
     "start_time": "2021-05-30T20:32:42.007191",
     "status": "completed"
    },
    "tags": []
   },
   "outputs": [
    {
     "name": "stdout",
     "output_type": "stream",
     "text": [
      "/tmp/fairseq\n"
     ]
    }
   ],
   "source": [
    "%cd /tmp/fairseq/"
   ]
  },
  {
   "cell_type": "code",
   "execution_count": 9,
   "id": "described-carrier",
   "metadata": {
    "execution": {
     "iopub.execute_input": "2021-05-30T20:32:42.107912Z",
     "iopub.status.busy": "2021-05-30T20:32:42.103443Z",
     "iopub.status.idle": "2021-05-30T20:32:42.904166Z",
     "shell.execute_reply": "2021-05-30T20:32:42.903563Z"
    },
    "papermill": {
     "duration": 0.832613,
     "end_time": "2021-05-30T20:32:42.904315",
     "exception": false,
     "start_time": "2021-05-30T20:32:42.071702",
     "status": "completed"
    },
    "tags": []
   },
   "outputs": [
    {
     "name": "stdout",
     "output_type": "stream",
     "text": [
      "Note: checking out 'a8fe9434adeb6caea65b34ca968f4e5cd1d75be6'.\r\n",
      "\r\n",
      "You are in 'detached HEAD' state. You can look around, make experimental\r\n",
      "changes and commit them, and you can discard any commits you make in this\r\n",
      "state without impacting any branches by performing another checkout.\r\n",
      "\r\n",
      "If you want to create a new branch to retain commits you create, you may\r\n",
      "do so (now or later) by using -b with the checkout command again. Example:\r\n",
      "\r\n",
      "  git checkout -b <new-branch-name>\r\n",
      "\r\n",
      "HEAD is now at a8fe9434 fix readme link (#1890)\r\n"
     ]
    }
   ],
   "source": [
    "!git checkout a8fe9434adeb6caea65b34ca968f4e5cd1d75be6"
   ]
  },
  {
   "cell_type": "code",
   "execution_count": 10,
   "id": "mounted-semester",
   "metadata": {
    "execution": {
     "iopub.execute_input": "2021-05-30T20:32:42.960706Z",
     "iopub.status.busy": "2021-05-30T20:32:42.960098Z",
     "iopub.status.idle": "2021-05-30T20:33:34.949624Z",
     "shell.execute_reply": "2021-05-30T20:33:34.949049Z"
    },
    "papermill": {
     "duration": 52.019347,
     "end_time": "2021-05-30T20:33:34.949874",
     "exception": false,
     "start_time": "2021-05-30T20:32:42.930527",
     "status": "completed"
    },
    "tags": []
   },
   "outputs": [
    {
     "name": "stdout",
     "output_type": "stream",
     "text": [
      "Processing /tmp/fairseq\r\n",
      "  Installing build dependencies ... \u001b[?25l-\b \b\\\b \b|\b \b/\b \b-\b \b\\\b \bdone\r\n",
      "\u001b[?25h  Getting requirements to build wheel ... \u001b[?25ldone\r\n",
      "\u001b[?25h  Installing backend dependencies ... \u001b[?25l-\b \b\\\b \b|\b \b/\b \b-\b \bdone\r\n",
      "\u001b[?25h    Preparing wheel metadata ... \u001b[?25l-\b \b\\\b \bdone\r\n",
      "\u001b[?25hCollecting omegaconf<2.1\r\n",
      "  Downloading omegaconf-2.0.6-py3-none-any.whl (36 kB)\r\n",
      "Collecting sacrebleu>=1.4.12\r\n",
      "  Downloading sacrebleu-1.5.1-py3-none-any.whl (54 kB)\r\n",
      "\u001b[K     |████████████████████████████████| 54 kB 1.1 MB/s \r\n",
      "\u001b[?25hRequirement already satisfied: numpy in /opt/conda/lib/python3.7/site-packages (from fairseq==1.0.0a0+a8fe943) (1.19.5)\r\n",
      "Requirement already satisfied: tqdm in /opt/conda/lib/python3.7/site-packages (from fairseq==1.0.0a0+a8fe943) (4.59.0)\r\n",
      "Requirement already satisfied: regex in /opt/conda/lib/python3.7/site-packages (from fairseq==1.0.0a0+a8fe943) (2021.3.17)\r\n",
      "Requirement already satisfied: torch in /opt/conda/lib/python3.7/site-packages (from fairseq==1.0.0a0+a8fe943) (1.7.0)\r\n",
      "Requirement already satisfied: cython in /opt/conda/lib/python3.7/site-packages (from fairseq==1.0.0a0+a8fe943) (0.29.23)\r\n",
      "Collecting hydra-core<1.1\r\n",
      "  Downloading hydra_core-1.0.6-py3-none-any.whl (123 kB)\r\n",
      "\u001b[K     |████████████████████████████████| 123 kB 4.0 MB/s \r\n",
      "\u001b[?25hRequirement already satisfied: cffi in /opt/conda/lib/python3.7/site-packages (from fairseq==1.0.0a0+a8fe943) (1.14.5)\r\n",
      "Collecting antlr4-python3-runtime==4.8\r\n",
      "  Downloading antlr4-python3-runtime-4.8.tar.gz (112 kB)\r\n",
      "\u001b[K     |████████████████████████████████| 112 kB 4.5 MB/s \r\n",
      "\u001b[?25hCollecting importlib-resources\r\n",
      "  Downloading importlib_resources-5.1.4-py3-none-any.whl (26 kB)\r\n",
      "Requirement already satisfied: typing-extensions in /opt/conda/lib/python3.7/site-packages (from omegaconf<2.1->fairseq==1.0.0a0+a8fe943) (3.7.4.3)\r\n",
      "Requirement already satisfied: PyYAML>=5.1.* in /opt/conda/lib/python3.7/site-packages (from omegaconf<2.1->fairseq==1.0.0a0+a8fe943) (5.3.1)\r\n",
      "Collecting portalocker==2.0.0\r\n",
      "  Downloading portalocker-2.0.0-py2.py3-none-any.whl (11 kB)\r\n",
      "Requirement already satisfied: pycparser in /opt/conda/lib/python3.7/site-packages (from cffi->fairseq==1.0.0a0+a8fe943) (2.20)\r\n",
      "Requirement already satisfied: zipp>=3.1.0 in /opt/conda/lib/python3.7/site-packages (from importlib-resources->hydra-core<1.1->fairseq==1.0.0a0+a8fe943) (3.4.1)\r\n",
      "Requirement already satisfied: future in /opt/conda/lib/python3.7/site-packages (from torch->fairseq==1.0.0a0+a8fe943) (0.18.2)\r\n",
      "Requirement already satisfied: dataclasses in /opt/conda/lib/python3.7/site-packages (from torch->fairseq==1.0.0a0+a8fe943) (0.6)\r\n",
      "Building wheels for collected packages: fairseq, antlr4-python3-runtime\r\n",
      "  Building wheel for fairseq (PEP 517) ... \u001b[?25l-\b \b\\\b \b|\b \b/\b \b-\b \b\\\b \b|\b \b/\b \b-\b \b\\\b \b|\b \b/\b \b-\b \b\\\b \b|\b \b/\b \b-\b \b\\\b \b|\b \bdone\r\n",
      "\u001b[?25h  Created wheel for fairseq: filename=fairseq-1.0.0a0+a8fe943-cp37-cp37m-linux_x86_64.whl size=1994409 sha256=6c71cbb451f0c840872dad220296d13f441b1175d3f052255376ef1a7199f224\r\n",
      "  Stored in directory: /tmp/pip-ephem-wheel-cache-ogxbauhu/wheels/e3/52/72/c9070e4abac84e3448568d15e13e9e42bb689c08614271d8f3\r\n",
      "  Building wheel for antlr4-python3-runtime (setup.py) ... \u001b[?25l-\b \b\\\b \bdone\r\n",
      "\u001b[?25h  Created wheel for antlr4-python3-runtime: filename=antlr4_python3_runtime-4.8-py3-none-any.whl size=141230 sha256=71b170fa6ca6784919a607529d7505d3f4579b3ee3591c5a808b7b2106e7474e\r\n",
      "  Stored in directory: /root/.cache/pip/wheels/ca/33/b7/336836125fc9bb4ceaa4376d8abca10ca8bc84ddc824baea6c\r\n",
      "Successfully built fairseq antlr4-python3-runtime\r\n",
      "Installing collected packages: portalocker, omegaconf, importlib-resources, antlr4-python3-runtime, sacrebleu, hydra-core, fairseq\r\n",
      "  Attempting uninstall: portalocker\r\n",
      "    Found existing installation: portalocker 2.3.0\r\n",
      "    Uninstalling portalocker-2.3.0:\r\n",
      "      Successfully uninstalled portalocker-2.3.0\r\n",
      "Successfully installed antlr4-python3-runtime-4.8 fairseq-1.0.0a0+a8fe943 hydra-core-1.0.6 importlib-resources-5.1.4 omegaconf-2.0.6 portalocker-2.0.0 sacrebleu-1.5.1\r\n"
     ]
    }
   ],
   "source": [
    "!pip install ."
   ]
  },
  {
   "cell_type": "code",
   "execution_count": 11,
   "id": "generic-review",
   "metadata": {
    "execution": {
     "iopub.execute_input": "2021-05-30T20:33:35.053265Z",
     "iopub.status.busy": "2021-05-30T20:33:35.052204Z",
     "iopub.status.idle": "2021-05-30T20:33:35.057172Z",
     "shell.execute_reply": "2021-05-30T20:33:35.057743Z"
    },
    "papermill": {
     "duration": 0.059966,
     "end_time": "2021-05-30T20:33:35.057956",
     "exception": false,
     "start_time": "2021-05-30T20:33:34.997990",
     "status": "completed"
    },
    "tags": []
   },
   "outputs": [
    {
     "name": "stdout",
     "output_type": "stream",
     "text": [
      "/tmp/fairseq/examples/wav2vec/unsupervised\n"
     ]
    }
   ],
   "source": [
    "%cd /tmp/fairseq/examples/wav2vec/unsupervised"
   ]
  },
  {
   "cell_type": "code",
   "execution_count": 12,
   "id": "legendary-reproduction",
   "metadata": {
    "execution": {
     "iopub.execute_input": "2021-05-30T20:33:35.158631Z",
     "iopub.status.busy": "2021-05-30T20:33:35.157927Z",
     "iopub.status.idle": "2021-05-30T20:33:35.161416Z",
     "shell.execute_reply": "2021-05-30T20:33:35.160891Z"
    },
    "papermill": {
     "duration": 0.054683,
     "end_time": "2021-05-30T20:33:35.161571",
     "exception": false,
     "start_time": "2021-05-30T20:33:35.106888",
     "status": "completed"
    },
    "tags": []
   },
   "outputs": [],
   "source": [
    "os.environ['HYDRA_FULL_ERROR'] = '1'"
   ]
  },
  {
   "cell_type": "markdown",
   "id": "encouraging-episode",
   "metadata": {
    "papermill": {
     "duration": 0.045883,
     "end_time": "2021-05-30T20:33:35.253660",
     "exception": false,
     "start_time": "2021-05-30T20:33:35.207777",
     "status": "completed"
    },
    "tags": []
   },
   "source": [
    "## GAN"
   ]
  },
  {
   "cell_type": "code",
   "execution_count": 13,
   "id": "disciplinary-journal",
   "metadata": {
    "execution": {
     "iopub.execute_input": "2021-05-30T20:33:35.352958Z",
     "iopub.status.busy": "2021-05-30T20:33:35.352237Z",
     "iopub.status.idle": "2021-05-30T20:33:36.107095Z",
     "shell.execute_reply": "2021-05-30T20:33:36.106492Z",
     "shell.execute_reply.started": "2021-05-30T16:46:39.899633Z"
    },
    "papermill": {
     "duration": 0.807045,
     "end_time": "2021-05-30T20:33:36.107273",
     "exception": false,
     "start_time": "2021-05-30T20:33:35.300228",
     "status": "completed"
    },
    "tags": []
   },
   "outputs": [
    {
     "name": "stdout",
     "output_type": "stream",
     "text": [
      "CLUS128\t\t    precompute_pca512_cls128_mean\t  train.npy\r\n",
      "__notebook__.ipynb  precompute_pca512_cls128_mean_pooled  train.phn\r\n",
      "__output__.json     test.lengths\t\t\t  train.tsv\r\n",
      "__results__.html    test.ltr\t\t\t\t  train.wrd\r\n",
      "custom.css\t    test.npy\t\t\t\t  valid.lengths\r\n",
      "dict.test\t    test.phn\t\t\t\t  valid.ltr\r\n",
      "dict.train\t    test.tsv\t\t\t\t  valid.npy\r\n",
      "dict.valid\t    test.wrd\t\t\t\t  valid.phn\r\n",
      "pca\t\t    train.lengths\t\t\t  valid.tsv\r\n",
      "precompute_pca512   train.ltr\t\t\t\t  valid.wrd\r\n"
     ]
    }
   ],
   "source": [
    "!ls /kaggle/input/wav2vec-u-cv-swedish-audio/"
   ]
  },
  {
   "cell_type": "code",
   "execution_count": 14,
   "id": "handled-delaware",
   "metadata": {
    "execution": {
     "iopub.execute_input": "2021-05-30T20:33:36.212466Z",
     "iopub.status.busy": "2021-05-30T20:33:36.211379Z",
     "iopub.status.idle": "2021-05-30T20:33:36.217159Z",
     "shell.execute_reply": "2021-05-30T20:33:36.216660Z"
    },
    "papermill": {
     "duration": 0.061161,
     "end_time": "2021-05-30T20:33:36.217290",
     "exception": false,
     "start_time": "2021-05-30T20:33:36.156129",
     "status": "completed"
    },
    "tags": []
   },
   "outputs": [
    {
     "name": "stdout",
     "output_type": "stream",
     "text": [
      "Writing rungan.sh\n"
     ]
    }
   ],
   "source": [
    "%%writefile rungan.sh\n",
    "PREFIX=w2v_unsup_gan_xp\n",
    "#TASK_DATA=/path/to/features/unfiltered/precompute_unfiltered_pca512_cls128_mean_pooled\n",
    "TASK_DATA=/kaggle/input/wav2vec-u-cv-swedish-audio/precompute_pca512_cls128_mean_pooled/\n",
    "#TEXT_DATA=/path/to/data  # path to fairseq-preprocessed GAN data\n",
    "TEXT_DATA=/kaggle/input/wav2vec-u-cv-swedish-text-prep/preppedtext/phones/\n",
    "#KENLM_PATH=/path/to/data/kenlm.phn.o4.bin  # KenLM 4-gram phoneme language model (LM data = GAN data here)\n",
    "KENLM_PATH=/kaggle/input/wav2vec-u-cv-swedish-text-prep/preppedtext/phones/lm.phones.filtered.04.bin\n",
    "\n",
    "PREFIX=$PREFIX fairseq-hydra-train \\\n",
    "\t-m --config-dir config/gan \\\n",
    "\t--config-path . \\\n",
    "\t--config-name w2vu \\\n",
    "\ttask._name='unpaired_audio_text' \\\n",
    "\ttask.data=${TASK_DATA} \\\n",
    "\ttask.text_data=${TEXT_DATA} \\\n",
    "\ttask.kenlm_path=${KENLM_PATH} \\\n",
    "\tcheckpoint.no_epoch_checkpoints=false \\\n",
    "\tcheckpoint.save_dir=/kaggle/working \\\n",
    "\t'common.seed=range(0,5)'"
   ]
  },
  {
   "cell_type": "code",
   "execution_count": 15,
   "id": "generic-universal",
   "metadata": {
    "execution": {
     "iopub.execute_input": "2021-05-30T20:33:36.319590Z",
     "iopub.status.busy": "2021-05-30T20:33:36.315054Z",
     "iopub.status.idle": "2021-05-30T20:33:53.715930Z",
     "shell.execute_reply": "2021-05-30T20:33:53.715351Z"
    },
    "papermill": {
     "duration": 17.452243,
     "end_time": "2021-05-30T20:33:53.716106",
     "exception": false,
     "start_time": "2021-05-30T20:33:36.263863",
     "status": "completed"
    },
    "tags": []
   },
   "outputs": [
    {
     "name": "stdout",
     "output_type": "stream",
     "text": [
      "[2021-05-30 20:33:51,119][HYDRA] Launching 5 jobs locally\r\n",
      "[2021-05-30 20:33:51,119][HYDRA] \t#0 : task._name=unpaired_audio_text task.data=/kaggle/input/wav2vec-u-cv-swedish-audio/precompute_pca512_cls128_mean_pooled/ task.text_data=/kaggle/input/wav2vec-u-cv-swedish-text-prep/preppedtext/phones/ task.kenlm_path=/kaggle/input/wav2vec-u-cv-swedish-text-prep/preppedtext/phones/lm.phones.filtered.04.bin checkpoint.no_epoch_checkpoints=False checkpoint.save_dir=/kaggle/working common.seed=0\r\n",
      "[2021-05-30 20:33:53,234][fairseq_cli.train][INFO] - {'_name': None, 'common': {'_name': None, 'no_progress_bar': False, 'log_interval': 100, 'log_format': 'json', 'log_file': None, 'tensorboard_logdir': 'tb', 'wandb_project': None, 'azureml_logging': False, 'seed': 0, 'cpu': False, 'tpu': False, 'bf16': False, 'memory_efficient_bf16': False, 'fp16': False, 'memory_efficient_fp16': False, 'fp16_no_flatten_grads': True, 'fp16_init_scale': 128, 'fp16_scale_window': None, 'fp16_scale_tolerance': 0.0, 'min_loss_scale': 0.0001, 'threshold_loss_scale': None, 'user_dir': None, 'empty_cache_freq': 0, 'all_gather_list_size': 16384, 'model_parallel_size': 1, 'quantization_config_path': None, 'profile': False, 'reset_logging': False, 'suppress_crashes': False, 'use_plasma_view': False, 'plasma_path': '/tmp/plasma'}, 'common_eval': {'_name': None, 'path': None, 'post_process': None, 'quiet': False, 'model_overrides': '{}', 'results_path': None}, 'distributed_training': {'_name': None, 'distributed_world_size': 1, 'distributed_rank': 0, 'distributed_backend': 'nccl', 'distributed_init_method': None, 'distributed_port': -1, 'device_id': 0, 'distributed_no_spawn': False, 'ddp_backend': 'pytorch_ddp', 'ddp_comm_hook': 'none', 'bucket_cap_mb': 25, 'fix_batches_to_gpus': False, 'find_unused_parameters': False, 'fast_stat_sync': False, 'heartbeat_timeout': -1, 'broadcast_buffers': False, 'slowmo_momentum': None, 'slowmo_algorithm': 'LocalSGD', 'localsgd_frequency': 3, 'nprocs_per_node': 1, 'pipeline_model_parallel': False, 'pipeline_balance': None, 'pipeline_devices': None, 'pipeline_chunks': 0, 'pipeline_encoder_balance': None, 'pipeline_encoder_devices': None, 'pipeline_decoder_balance': None, 'pipeline_decoder_devices': None, 'pipeline_checkpoint': 'never', 'zero_sharding': 'none', 'fp16': False, 'memory_efficient_fp16': False, 'tpu': False, 'no_reshard_after_forward': False, 'fp32_reduce_scatter': False, 'cpu_offload': False, 'use_sharded_state': False, 'distributed_num_procs': 0}, 'dataset': {'_name': None, 'num_workers': 6, 'skip_invalid_size_inputs_valid_test': True, 'max_tokens': None, 'batch_size': 160, 'required_batch_size_multiple': 8, 'required_seq_len_multiple': 1, 'dataset_impl': None, 'data_buffer_size': 10, 'train_subset': 'train', 'valid_subset': 'valid', 'combine_valid_subsets': None, 'ignore_unused_valid_subsets': False, 'validate_interval': 1, 'validate_interval_updates': 0, 'validate_after_updates': 0, 'fixed_validation_seed': None, 'disable_validation': False, 'max_tokens_valid': None, 'batch_size_valid': 160, 'max_valid_steps': None, 'curriculum': 0, 'gen_subset': 'test', 'num_shards': 1, 'shard_id': 0}, 'optimization': {'_name': None, 'max_epoch': 0, 'max_update': 150000, 'stop_time_hours': 0.0, 'clip_norm': 5.0, 'sentence_avg': False, 'update_freq': [1], 'lr': [0.0], 'stop_min_lr': -1.0, 'use_bmuf': False}, 'checkpoint': {'_name': None, 'save_dir': '/kaggle/working', 'restore_file': 'checkpoint_last.pt', 'finetune_from_model': None, 'reset_dataloader': False, 'reset_lr_scheduler': False, 'reset_meters': False, 'reset_optimizer': False, 'optimizer_overrides': '{}', 'save_interval': 1, 'save_interval_updates': 0, 'keep_interval_updates': -1, 'keep_interval_updates_pattern': -1, 'keep_last_epochs': -1, 'keep_best_checkpoints': -1, 'no_save': False, 'no_epoch_checkpoints': False, 'no_last_checkpoints': False, 'no_save_optimizer_state': False, 'best_checkpoint_metric': 'weighted_lm_ppl', 'maximize_best_checkpoint_metric': False, 'patience': -1, 'checkpoint_suffix': '', 'checkpoint_shard_count': 1, 'load_checkpoint_on_all_dp_ranks': False, 'write_checkpoints_asynchronously': False, 'model_parallel_size': 1}, 'bmuf': {'_name': None, 'block_lr': 1.0, 'block_momentum': 0.875, 'global_sync_iter': 50, 'warmup_iterations': 500, 'use_nbm': False, 'average_sync': False, 'distributed_world_size': 1}, 'generation': {'_name': None, 'beam': 5, 'nbest': 1, 'max_len_a': 0.0, 'max_len_b': 200, 'min_len': 1, 'match_source_len': False, 'unnormalized': False, 'no_early_stop': False, 'no_beamable_mm': False, 'lenpen': 1.0, 'unkpen': 0.0, 'replace_unk': None, 'sacrebleu': False, 'score_reference': False, 'prefix_size': 0, 'no_repeat_ngram_size': 0, 'sampling': False, 'sampling_topk': -1, 'sampling_topp': -1.0, 'constraints': None, 'temperature': 1.0, 'diverse_beam_groups': -1, 'diverse_beam_strength': 0.5, 'diversity_rate': -1.0, 'print_alignment': None, 'print_step': False, 'lm_path': None, 'lm_weight': 0.0, 'iter_decode_eos_penalty': 0.0, 'iter_decode_max_iter': 10, 'iter_decode_force_max_iter': False, 'iter_decode_with_beam': 1, 'iter_decode_with_external_reranker': False, 'retain_iter_history': False, 'retain_dropout': False, 'retain_dropout_modules': None, 'decoding_format': None, 'no_seed_provided': False}, 'eval_lm': {'_name': None, 'output_word_probs': False, 'output_word_stats': False, 'context_window': 0, 'softmax_batch': 9223372036854775807}, 'interactive': {'_name': None, 'buffer_size': 0, 'input': '-'}, 'model': {'_name': 'wav2vec_u', 'discriminator_dim': 384, 'discriminator_depth': 2, 'discriminator_kernel': 6, 'discriminator_linear_emb': False, 'discriminator_causal': True, 'discriminator_max_pool': False, 'discriminator_act_after_linear': False, 'discriminator_dropout': 0.0, 'discriminator_weight_norm': False, 'generator_stride': 1, 'generator_kernel': 4, 'generator_bias': False, 'generator_dropout': 0.1, 'smoothness_weight': 0.5, 'smoothing': 0, 'smoothing_one_sided': False, 'gumbel': False, 'hard_gumbel': False, 'gradient_penalty': 1.5, 'code_penalty': 4.0, 'temp': [2, 0.1, 0.99995], 'input_dim': 512, 'segmentation': {'type': 'JOIN', 'mean_pool_join': False, 'remove_zeros': False}}, 'task': {'_name': 'unpaired_audio_text', 'data': '/kaggle/input/wav2vec-u-cv-swedish-audio/precompute_pca512_cls128_mean_pooled/', 'text_data': '/kaggle/input/wav2vec-u-cv-swedish-text-prep/preppedtext/phones/', 'labels': 'phn', 'sort_by_length': False, 'unfiltered': False, 'max_length': None, 'append_eos': False, 'kenlm_path': '/kaggle/input/wav2vec-u-cv-swedish-text-prep/preppedtext/phones/lm.phones.filtered.04.bin'}, 'criterion': {'_name': 'model', 'loss_weights': {}, 'log_keys': ['accuracy_dense', 'accuracy_token', 'temp', 'code_ppl']}, 'optimizer': {'_name': 'composite', 'groups': {'generator': {'lr': [0.0004], 'lr_float': None, 'optimizer': {'_name': 'adam', 'adam_betas': [0.5, 0.98], 'adam_eps': 1e-06, 'weight_decay': 0, 'amsgrad': False}, 'lr_scheduler': {'_name': 'fixed', 'warmup_updates': 0}}, 'discriminator': {'lr': [0.0005], 'lr_float': None, 'optimizer': {'_name': 'adam', 'adam_betas': [0.5, 0.98], 'adam_eps': 1e-06, 'weight_decay': 0.0001, 'amsgrad': False}, 'lr_scheduler': {'_name': 'fixed', 'warmup_updates': 0}}}}, 'lr_scheduler': {'_name': 'pass_through'}, 'scoring': None, 'bpe': None, 'tokenizer': None, 'job_logging_cfg': {'version': 1, 'formatters': {'simple': {'format': '[%(asctime)s][%(name)s][%(levelname)s] - %(message)s'}}, 'handlers': {'console': {'class': 'logging.StreamHandler', 'formatter': 'simple', 'stream': 'ext://sys.stdout'}, 'file': {'class': 'logging.FileHandler', 'formatter': 'simple', 'filename': 'hydra_train.log'}}, 'root': {'level': 'INFO', 'handlers': ['console', 'file']}, 'disable_existing_loggers': False}}\r\n",
      "Traceback (most recent call last):\r\n",
      "  File \"/opt/conda/bin/fairseq-hydra-train\", line 8, in <module>\r\n",
      "    sys.exit(cli_main())\r\n",
      "  File \"/opt/conda/lib/python3.7/site-packages/fairseq_cli/hydra_train.py\", line 76, in cli_main\r\n",
      "    hydra_main()\r\n",
      "  File \"/opt/conda/lib/python3.7/site-packages/hydra/main.py\", line 37, in decorated_main\r\n",
      "    strict=strict,\r\n",
      "  File \"/opt/conda/lib/python3.7/site-packages/hydra/_internal/utils.py\", line 355, in _run_hydra\r\n",
      "    lambda: hydra.multirun(\r\n",
      "  File \"/opt/conda/lib/python3.7/site-packages/hydra/_internal/utils.py\", line 201, in run_and_report\r\n",
      "    raise ex\r\n",
      "  File \"/opt/conda/lib/python3.7/site-packages/hydra/_internal/utils.py\", line 198, in run_and_report\r\n",
      "    return func()\r\n",
      "  File \"/opt/conda/lib/python3.7/site-packages/hydra/_internal/utils.py\", line 358, in <lambda>\r\n",
      "    overrides=args.overrides,\r\n",
      "  File \"/opt/conda/lib/python3.7/site-packages/hydra/_internal/hydra.py\", line 136, in multirun\r\n",
      "    return sweeper.sweep(arguments=task_overrides)\r\n",
      "  File \"/opt/conda/lib/python3.7/site-packages/hydra/_internal/core_plugins/basic_sweeper.py\", line 154, in sweep\r\n",
      "    results = self.launcher.launch(batch, initial_job_idx=initial_job_idx)\r\n",
      "  File \"/opt/conda/lib/python3.7/site-packages/hydra/_internal/core_plugins/basic_launcher.py\", line 80, in launch\r\n",
      "    job_subdir_key=\"hydra.sweep.subdir\",\r\n",
      "  File \"/opt/conda/lib/python3.7/site-packages/hydra/core/utils.py\", line 127, in run_job\r\n",
      "    ret.return_value = task_function(task_cfg)\r\n",
      "  File \"/opt/conda/lib/python3.7/site-packages/fairseq_cli/hydra_train.py\", line 45, in hydra_main\r\n",
      "    distributed_utils.call_main(cfg, pre_main)\r\n",
      "  File \"/opt/conda/lib/python3.7/site-packages/fairseq/distributed/utils.py\", line 369, in call_main\r\n",
      "    main(cfg, **kwargs)\r\n",
      "  File \"/opt/conda/lib/python3.7/site-packages/fairseq_cli/train.py\", line 86, in main\r\n",
      "    task = tasks.setup_task(cfg.task)\r\n",
      "  File \"/opt/conda/lib/python3.7/site-packages/fairseq/tasks/__init__.py\", line 42, in setup_task\r\n",
      "    assert task is not None, f\"Could not infer task type from {cfg}. Available tasks: {TASK_REGISTRY.keys()}\"\r\n",
      "AssertionError: Could not infer task type from {'_name': 'unpaired_audio_text', 'data': '/kaggle/input/wav2vec-u-cv-swedish-audio/precompute_pca512_cls128_mean_pooled/', 'text_data': '/kaggle/input/wav2vec-u-cv-swedish-text-prep/preppedtext/phones/', 'labels': 'phn', 'sort_by_length': False, 'unfiltered': False, 'max_length': None, 'append_eos': False, 'kenlm_path': '/kaggle/input/wav2vec-u-cv-swedish-text-prep/preppedtext/phones/lm.phones.filtered.04.bin'}. Available tasks: dict_keys(['translation', 'multilingual_translation', 'semisupervised_translation', 'audio_pretraining', 'translation_from_pretrained_xlm', 'online_backtranslation', 'denoising', 'multilingual_denoising', 'translation_multi_simple_epoch', 'masked_lm', 'translation_lev', 'sentence_prediction', 'multilingual_masked_lm', 'legacy_masked_lm', 'speech_to_text', 'simul_speech_to_text', 'simul_text_to_text', 'language_modeling', 'cross_lingual_lm', 'sentence_ranking', 'translation_from_pretrained_bart', 'dummy_lm', 'dummy_masked_lm', 'dummy_mt'])\r\n"
     ]
    }
   ],
   "source": [
    "!bash rungan.sh"
   ]
  }
 ],
 "metadata": {
  "kernelspec": {
   "display_name": "Python 3",
   "language": "python",
   "name": "python3"
  },
  "language_info": {
   "codemirror_mode": {
    "name": "ipython",
    "version": 3
   },
   "file_extension": ".py",
   "mimetype": "text/x-python",
   "name": "python",
   "nbconvert_exporter": "python",
   "pygments_lexer": "ipython3",
   "version": "3.7.10"
  },
  "papermill": {
   "default_parameters": {},
   "duration": 395.928325,
   "end_time": "2021-05-30T20:33:55.517241",
   "environment_variables": {},
   "exception": null,
   "input_path": "__notebook__.ipynb",
   "output_path": "__notebook__.ipynb",
   "parameters": {},
   "start_time": "2021-05-30T20:27:19.588916",
   "version": "2.3.3"
  }
 },
 "nbformat": 4,
 "nbformat_minor": 5
}
