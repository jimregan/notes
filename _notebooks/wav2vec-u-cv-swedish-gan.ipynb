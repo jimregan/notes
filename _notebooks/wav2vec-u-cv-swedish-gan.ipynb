{
 "cells": [
  {
   "cell_type": "markdown",
   "id": "steady-rough",
   "metadata": {
    "papermill": {
     "duration": 0.018619,
     "end_time": "2021-05-31T12:24:14.829973",
     "exception": false,
     "start_time": "2021-05-31T12:24:14.811354",
     "status": "completed"
    },
    "tags": []
   },
   "source": [
    "## Preparation"
   ]
  },
  {
   "cell_type": "code",
   "execution_count": 1,
   "id": "crucial-kentucky",
   "metadata": {
    "_cell_guid": "b1076dfc-b9ad-4769-8c92-a6c4dae69d19",
    "_uuid": "8f2839f25d086af736a60e9eeb907d3b93b6e0e5",
    "execution": {
     "iopub.execute_input": "2021-05-31T12:24:14.880168Z",
     "iopub.status.busy": "2021-05-31T12:24:14.874986Z",
     "iopub.status.idle": "2021-05-31T12:28:19.167776Z",
     "shell.execute_reply": "2021-05-31T12:28:19.166327Z",
     "shell.execute_reply.started": "2021-05-31T11:43:46.770364Z"
    },
    "papermill": {
     "duration": 244.323134,
     "end_time": "2021-05-31T12:28:19.168227",
     "exception": false,
     "start_time": "2021-05-31T12:24:14.845093",
     "status": "completed"
    },
    "tags": []
   },
   "outputs": [],
   "source": [
    "%%capture\n",
    "!conda install -c pykaldi pykaldi -y"
   ]
  },
  {
   "cell_type": "code",
   "execution_count": 2,
   "id": "tropical-washington",
   "metadata": {
    "execution": {
     "iopub.execute_input": "2021-05-31T12:28:19.204944Z",
     "iopub.status.busy": "2021-05-31T12:28:19.204163Z",
     "iopub.status.idle": "2021-05-31T12:28:19.211537Z",
     "shell.execute_reply": "2021-05-31T12:28:19.211005Z",
     "shell.execute_reply.started": "2021-05-31T11:47:48.153661Z"
    },
    "papermill": {
     "duration": 0.028671,
     "end_time": "2021-05-31T12:28:19.211754",
     "exception": false,
     "start_time": "2021-05-31T12:28:19.183083",
     "status": "completed"
    },
    "tags": []
   },
   "outputs": [
    {
     "name": "stdout",
     "output_type": "stream",
     "text": [
      "/tmp\n"
     ]
    }
   ],
   "source": [
    "%cd /tmp"
   ]
  },
  {
   "cell_type": "code",
   "execution_count": 3,
   "id": "standard-consciousness",
   "metadata": {
    "execution": {
     "iopub.execute_input": "2021-05-31T12:28:19.247006Z",
     "iopub.status.busy": "2021-05-31T12:28:19.242218Z",
     "iopub.status.idle": "2021-05-31T12:28:22.137350Z",
     "shell.execute_reply": "2021-05-31T12:28:22.136561Z",
     "shell.execute_reply.started": "2021-05-31T11:47:48.174342Z"
    },
    "papermill": {
     "duration": 2.912551,
     "end_time": "2021-05-31T12:28:22.137503",
     "exception": false,
     "start_time": "2021-05-31T12:28:19.224952",
     "status": "completed"
    },
    "tags": []
   },
   "outputs": [
    {
     "name": "stdout",
     "output_type": "stream",
     "text": [
      "Cloning into 'fairseq'...\r\n",
      "remote: Enumerating objects: 28231, done.\u001b[K\r\n",
      "remote: Counting objects: 100% (643/643), done.\u001b[K\r\n",
      "remote: Compressing objects: 100% (365/365), done.\u001b[K\r\n",
      "remote: Total 28231 (delta 342), reused 512 (delta 263), pack-reused 27588\u001b[K\r\n",
      "Receiving objects: 100% (28231/28231), 11.89 MiB | 22.35 MiB/s, done.\r\n",
      "Resolving deltas: 100% (21161/21161), done.\r\n"
     ]
    }
   ],
   "source": [
    "!git clone https://github.com/jimregan/fairseq/ --branch issue3581"
   ]
  },
  {
   "cell_type": "code",
   "execution_count": 4,
   "id": "olive-joshua",
   "metadata": {
    "execution": {
     "iopub.execute_input": "2021-05-31T12:28:22.187378Z",
     "iopub.status.busy": "2021-05-31T12:28:22.186628Z",
     "iopub.status.idle": "2021-05-31T12:28:23.924975Z",
     "shell.execute_reply": "2021-05-31T12:28:23.924189Z",
     "shell.execute_reply.started": "2021-05-25T22:47:02.096238Z"
    },
    "papermill": {
     "duration": 1.767723,
     "end_time": "2021-05-31T12:28:23.925128",
     "exception": false,
     "start_time": "2021-05-31T12:28:22.157405",
     "status": "completed"
    },
    "tags": []
   },
   "outputs": [
    {
     "name": "stdout",
     "output_type": "stream",
     "text": [
      "Cloning into 'kenlm'...\r\n",
      "remote: Enumerating objects: 13824, done.\u001b[K\r\n",
      "remote: Counting objects: 100% (137/137), done.\u001b[K\r\n",
      "remote: Compressing objects: 100% (79/79), done.\u001b[K\r\n",
      "remote: Total 13824 (delta 76), reused 92 (delta 45), pack-reused 13687\u001b[K\r\n",
      "Receiving objects: 100% (13824/13824), 5.49 MiB | 19.20 MiB/s, done.\r\n",
      "Resolving deltas: 100% (7956/7956), done.\r\n"
     ]
    }
   ],
   "source": [
    "!git clone https://github.com/kpu/kenlm"
   ]
  },
  {
   "cell_type": "code",
   "execution_count": 5,
   "id": "legitimate-controversy",
   "metadata": {
    "execution": {
     "iopub.execute_input": "2021-05-31T12:28:23.974284Z",
     "iopub.status.busy": "2021-05-31T12:28:23.973494Z",
     "iopub.status.idle": "2021-05-31T12:28:29.846433Z",
     "shell.execute_reply": "2021-05-31T12:28:29.845705Z"
    },
    "papermill": {
     "duration": 5.898671,
     "end_time": "2021-05-31T12:28:29.846581",
     "exception": false,
     "start_time": "2021-05-31T12:28:23.947910",
     "status": "completed"
    },
    "tags": []
   },
   "outputs": [],
   "source": [
    "%%capture\n",
    "!apt-get -y install libeigen3-dev liblzma-dev zlib1g-dev libbz2-dev"
   ]
  },
  {
   "cell_type": "code",
   "execution_count": 6,
   "id": "partial-communications",
   "metadata": {
    "execution": {
     "iopub.execute_input": "2021-05-31T12:28:29.904217Z",
     "iopub.status.busy": "2021-05-31T12:28:29.903411Z",
     "iopub.status.idle": "2021-05-31T12:29:43.298058Z",
     "shell.execute_reply": "2021-05-31T12:29:43.297337Z"
    },
    "papermill": {
     "duration": 73.428607,
     "end_time": "2021-05-31T12:29:43.298319",
     "exception": false,
     "start_time": "2021-05-31T12:28:29.869712",
     "status": "completed"
    },
    "tags": []
   },
   "outputs": [],
   "source": [
    "%%capture\n",
    "%cd kenlm\n",
    "!mkdir build\n",
    "%cd build\n",
    "!cmake ..\n",
    "!make -j 4\n",
    "%cd /tmp"
   ]
  },
  {
   "cell_type": "code",
   "execution_count": 7,
   "id": "dedicated-calgary",
   "metadata": {
    "execution": {
     "iopub.execute_input": "2021-05-31T12:29:43.351795Z",
     "iopub.status.busy": "2021-05-31T12:29:43.350768Z",
     "iopub.status.idle": "2021-05-31T12:29:43.354080Z",
     "shell.execute_reply": "2021-05-31T12:29:43.353471Z",
     "shell.execute_reply.started": "2021-05-25T22:58:58.397816Z"
    },
    "papermill": {
     "duration": 0.031752,
     "end_time": "2021-05-31T12:29:43.354241",
     "exception": false,
     "start_time": "2021-05-31T12:29:43.322489",
     "status": "completed"
    },
    "tags": []
   },
   "outputs": [],
   "source": [
    "import os\n",
    "os.environ['PATH'] = f\"{os.environ['PATH']}:/tmp/kenlm/build/bin/\"\n",
    "os.environ['FAIRSEQ_ROOT'] = '/tmp/fairseq'"
   ]
  },
  {
   "cell_type": "code",
   "execution_count": 8,
   "id": "hybrid-stranger",
   "metadata": {
    "execution": {
     "iopub.execute_input": "2021-05-31T12:29:43.405976Z",
     "iopub.status.busy": "2021-05-31T12:29:43.404997Z",
     "iopub.status.idle": "2021-05-31T12:29:43.410646Z",
     "shell.execute_reply": "2021-05-31T12:29:43.409810Z",
     "shell.execute_reply.started": "2021-05-31T11:51:49.832574Z"
    },
    "papermill": {
     "duration": 0.033475,
     "end_time": "2021-05-31T12:29:43.410851",
     "exception": false,
     "start_time": "2021-05-31T12:29:43.377376",
     "status": "completed"
    },
    "tags": []
   },
   "outputs": [
    {
     "name": "stdout",
     "output_type": "stream",
     "text": [
      "/tmp/fairseq\n"
     ]
    }
   ],
   "source": [
    "%cd /tmp/fairseq/"
   ]
  },
  {
   "cell_type": "code",
   "execution_count": 9,
   "id": "large-canvas",
   "metadata": {
    "execution": {
     "iopub.execute_input": "2021-05-31T12:29:43.469231Z",
     "iopub.status.busy": "2021-05-31T12:29:43.468478Z",
     "iopub.status.idle": "2021-05-31T12:30:58.453048Z",
     "shell.execute_reply": "2021-05-31T12:30:58.452346Z"
    },
    "papermill": {
     "duration": 75.018714,
     "end_time": "2021-05-31T12:30:58.453274",
     "exception": false,
     "start_time": "2021-05-31T12:29:43.434560",
     "status": "completed"
    },
    "tags": []
   },
   "outputs": [],
   "source": [
    "%%capture\n",
    "!python setup.py install"
   ]
  },
  {
   "cell_type": "code",
   "execution_count": 10,
   "id": "plain-board",
   "metadata": {
    "execution": {
     "iopub.execute_input": "2021-05-31T12:30:58.508757Z",
     "iopub.status.busy": "2021-05-31T12:30:58.507928Z",
     "iopub.status.idle": "2021-05-31T12:30:58.513430Z",
     "shell.execute_reply": "2021-05-31T12:30:58.512874Z"
    },
    "papermill": {
     "duration": 0.036338,
     "end_time": "2021-05-31T12:30:58.513567",
     "exception": false,
     "start_time": "2021-05-31T12:30:58.477229",
     "status": "completed"
    },
    "tags": []
   },
   "outputs": [
    {
     "name": "stdout",
     "output_type": "stream",
     "text": [
      "/tmp/fairseq/examples/wav2vec/unsupervised\n"
     ]
    }
   ],
   "source": [
    "%cd /tmp/fairseq/examples/wav2vec/unsupervised"
   ]
  },
  {
   "cell_type": "code",
   "execution_count": 11,
   "id": "answering-blackjack",
   "metadata": {
    "execution": {
     "iopub.execute_input": "2021-05-31T12:30:58.567780Z",
     "iopub.status.busy": "2021-05-31T12:30:58.567117Z",
     "iopub.status.idle": "2021-05-31T12:30:58.570798Z",
     "shell.execute_reply": "2021-05-31T12:30:58.570275Z"
    },
    "papermill": {
     "duration": 0.033117,
     "end_time": "2021-05-31T12:30:58.570961",
     "exception": false,
     "start_time": "2021-05-31T12:30:58.537844",
     "status": "completed"
    },
    "tags": []
   },
   "outputs": [],
   "source": [
    "os.environ['HYDRA_FULL_ERROR'] = '1'"
   ]
  },
  {
   "cell_type": "markdown",
   "id": "direct-disposal",
   "metadata": {
    "papermill": {
     "duration": 0.023576,
     "end_time": "2021-05-31T12:30:58.618917",
     "exception": false,
     "start_time": "2021-05-31T12:30:58.595341",
     "status": "completed"
    },
    "tags": []
   },
   "source": [
    "## GAN"
   ]
  },
  {
   "cell_type": "code",
   "execution_count": 12,
   "id": "dangerous-amino",
   "metadata": {
    "execution": {
     "iopub.execute_input": "2021-05-31T12:30:58.676536Z",
     "iopub.status.busy": "2021-05-31T12:30:58.675857Z",
     "iopub.status.idle": "2021-05-31T12:30:59.413030Z",
     "shell.execute_reply": "2021-05-31T12:30:59.412265Z",
     "shell.execute_reply.started": "2021-05-30T16:46:39.899633Z"
    },
    "papermill": {
     "duration": 0.769767,
     "end_time": "2021-05-31T12:30:59.413201",
     "exception": false,
     "start_time": "2021-05-31T12:30:58.643434",
     "status": "completed"
    },
    "tags": []
   },
   "outputs": [
    {
     "name": "stdout",
     "output_type": "stream",
     "text": [
      "CLUS128\t\t    precompute_pca512_cls128_mean\t  train.npy\r\n",
      "__notebook__.ipynb  precompute_pca512_cls128_mean_pooled  train.phn\r\n",
      "__output__.json     test.lengths\t\t\t  train.tsv\r\n",
      "__results__.html    test.ltr\t\t\t\t  train.wrd\r\n",
      "custom.css\t    test.npy\t\t\t\t  valid.lengths\r\n",
      "dict.test\t    test.phn\t\t\t\t  valid.ltr\r\n",
      "dict.train\t    test.tsv\t\t\t\t  valid.npy\r\n",
      "dict.valid\t    test.wrd\t\t\t\t  valid.phn\r\n",
      "pca\t\t    train.lengths\t\t\t  valid.tsv\r\n",
      "precompute_pca512   train.ltr\t\t\t\t  valid.wrd\r\n"
     ]
    }
   ],
   "source": [
    "!ls /kaggle/input/wav2vec-u-cv-swedish-audio/"
   ]
  },
  {
   "cell_type": "code",
   "execution_count": 13,
   "id": "compressed-invalid",
   "metadata": {
    "execution": {
     "iopub.execute_input": "2021-05-31T12:30:59.469984Z",
     "iopub.status.busy": "2021-05-31T12:30:59.469266Z",
     "iopub.status.idle": "2021-05-31T12:30:59.474547Z",
     "shell.execute_reply": "2021-05-31T12:30:59.475681Z"
    },
    "papermill": {
     "duration": 0.037528,
     "end_time": "2021-05-31T12:30:59.476007",
     "exception": false,
     "start_time": "2021-05-31T12:30:59.438479",
     "status": "completed"
    },
    "tags": []
   },
   "outputs": [
    {
     "name": "stdout",
     "output_type": "stream",
     "text": [
      "Writing rungan.sh\n"
     ]
    }
   ],
   "source": [
    "%%writefile rungan.sh\n",
    "PREFIX=w2v_unsup_gan_xp\n",
    "#TASK_DATA=/path/to/features/unfiltered/precompute_unfiltered_pca512_cls128_mean_pooled\n",
    "TASK_DATA=/kaggle/input/wav2vec-u-cv-swedish-audio/precompute_pca512_cls128_mean_pooled/\n",
    "#TEXT_DATA=/path/to/data  # path to fairseq-preprocessed GAN data\n",
    "TEXT_DATA=/kaggle/input/wav2vec-u-cv-swedish-text-prep/preppedtext/phones/\n",
    "#KENLM_PATH=/path/to/data/kenlm.phn.o4.bin  # KenLM 4-gram phoneme language model (LM data = GAN data here)\n",
    "KENLM_PATH=/kaggle/input/wav2vec-u-cv-swedish-text-prep/preppedtext/phones/lm.phones.filtered.04.bin\n",
    "\n",
    "PREFIX=$PREFIX fairseq-hydra-train \\\n",
    "\t-m --config-dir config/gan \\\n",
    "\t--config-name w2vu \\\n",
    "\ttask.data=${TASK_DATA} \\\n",
    "\ttask.text_data=${TEXT_DATA} \\\n",
    "\ttask.kenlm_path=${KENLM_PATH} \\\n",
    "\tcheckpoint.no_epoch_checkpoints=false \\\n",
    "\tcheckpoint.save_dir=/kaggle/working \\\n",
    "\t'common.seed=range(0,5)'"
   ]
  },
  {
   "cell_type": "code",
   "execution_count": 14,
   "id": "simplified-sierra",
   "metadata": {
    "execution": {
     "iopub.execute_input": "2021-05-31T12:30:59.538540Z",
     "iopub.status.busy": "2021-05-31T12:30:59.537813Z",
     "iopub.status.idle": "2021-05-31T12:31:04.213073Z",
     "shell.execute_reply": "2021-05-31T12:31:04.212382Z"
    },
    "papermill": {
     "duration": 4.710403,
     "end_time": "2021-05-31T12:31:04.213231",
     "exception": false,
     "start_time": "2021-05-31T12:30:59.502828",
     "status": "completed"
    },
    "tags": []
   },
   "outputs": [
    {
     "name": "stdout",
     "output_type": "stream",
     "text": [
      "Traceback (most recent call last):\r\n",
      "  File \"/opt/conda/bin/fairseq-hydra-train\", line 33, in <module>\r\n",
      "    sys.exit(load_entry_point('fairseq==1.0.0a0+6af4656', 'console_scripts', 'fairseq-hydra-train')())\r\n",
      "  File \"/opt/conda/lib/python3.7/site-packages/fairseq-1.0.0a0+6af4656-py3.7-linux-x86_64.egg/fairseq_cli/hydra_train.py\", line 76, in cli_main\r\n",
      "    hydra_main()\r\n",
      "  File \"/opt/conda/lib/python3.7/site-packages/hydra_core-1.0.6-py3.7.egg/hydra/main.py\", line 37, in decorated_main\r\n",
      "    strict=strict,\r\n",
      "  File \"/opt/conda/lib/python3.7/site-packages/hydra_core-1.0.6-py3.7.egg/hydra/_internal/utils.py\", line 318, in _run_hydra\r\n",
      "    run_and_report(add_conf_dir)\r\n",
      "  File \"/opt/conda/lib/python3.7/site-packages/hydra_core-1.0.6-py3.7.egg/hydra/_internal/utils.py\", line 201, in run_and_report\r\n",
      "    raise ex\r\n",
      "  File \"/opt/conda/lib/python3.7/site-packages/hydra_core-1.0.6-py3.7.egg/hydra/_internal/utils.py\", line 198, in run_and_report\r\n",
      "    return func()\r\n",
      "  File \"/opt/conda/lib/python3.7/site-packages/hydra_core-1.0.6-py3.7.egg/hydra/_internal/utils.py\", line 310, in add_conf_dir\r\n",
      "    f\"Additional config directory '{abs_config_dir}' not found\"\r\n",
      "hydra.errors.SearchPathException: Additional config directory '/tmp/fairseq/examples/wav2vec/unsupervised/config/gan' not found\r\n"
     ]
    }
   ],
   "source": [
    "!bash rungan.sh"
   ]
  }
 ],
 "metadata": {
  "kernelspec": {
   "display_name": "Python 3",
   "language": "python",
   "name": "python3"
  },
  "language_info": {
   "codemirror_mode": {
    "name": "ipython",
    "version": 3
   },
   "file_extension": ".py",
   "mimetype": "text/x-python",
   "name": "python",
   "nbconvert_exporter": "python",
   "pygments_lexer": "ipython3",
   "version": "3.7.10"
  },
  "papermill": {
   "default_parameters": {},
   "duration": 418.601013,
   "end_time": "2021-05-31T12:31:05.054668",
   "environment_variables": {},
   "exception": null,
   "input_path": "__notebook__.ipynb",
   "output_path": "__notebook__.ipynb",
   "parameters": {},
   "start_time": "2021-05-31T12:24:06.453655",
   "version": "2.3.3"
  }
 },
 "nbformat": 4,
 "nbformat_minor": 5
}
