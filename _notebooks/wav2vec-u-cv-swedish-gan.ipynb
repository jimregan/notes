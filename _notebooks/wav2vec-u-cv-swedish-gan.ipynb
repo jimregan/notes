{
 "cells": [
  {
   "cell_type": "markdown",
   "id": "bridal-penetration",
   "metadata": {
    "papermill": {
     "duration": 0.012999,
     "end_time": "2021-05-31T12:46:22.094977",
     "exception": false,
     "start_time": "2021-05-31T12:46:22.081978",
     "status": "completed"
    },
    "tags": []
   },
   "source": [
    "## Preparation"
   ]
  },
  {
   "cell_type": "code",
   "execution_count": 1,
   "id": "careful-transmission",
   "metadata": {
    "_cell_guid": "b1076dfc-b9ad-4769-8c92-a6c4dae69d19",
    "_uuid": "8f2839f25d086af736a60e9eeb907d3b93b6e0e5",
    "execution": {
     "iopub.execute_input": "2021-05-31T12:46:22.125407Z",
     "iopub.status.busy": "2021-05-31T12:46:22.123616Z",
     "iopub.status.idle": "2021-05-31T12:50:28.867680Z",
     "shell.execute_reply": "2021-05-31T12:50:28.868521Z",
     "shell.execute_reply.started": "2021-05-31T11:43:46.770364Z"
    },
    "papermill": {
     "duration": 246.762176,
     "end_time": "2021-05-31T12:50:28.869558",
     "exception": false,
     "start_time": "2021-05-31T12:46:22.107382",
     "status": "completed"
    },
    "tags": []
   },
   "outputs": [],
   "source": [
    "%%capture\n",
    "!conda install -c pykaldi pykaldi -y"
   ]
  },
  {
   "cell_type": "code",
   "execution_count": 2,
   "id": "working-yorkshire",
   "metadata": {
    "execution": {
     "iopub.execute_input": "2021-05-31T12:50:28.905062Z",
     "iopub.status.busy": "2021-05-31T12:50:28.903929Z",
     "iopub.status.idle": "2021-05-31T12:50:28.910738Z",
     "shell.execute_reply": "2021-05-31T12:50:28.910112Z",
     "shell.execute_reply.started": "2021-05-31T11:47:48.153661Z"
    },
    "papermill": {
     "duration": 0.026958,
     "end_time": "2021-05-31T12:50:28.910908",
     "exception": false,
     "start_time": "2021-05-31T12:50:28.883950",
     "status": "completed"
    },
    "tags": []
   },
   "outputs": [
    {
     "name": "stdout",
     "output_type": "stream",
     "text": [
      "/tmp\n"
     ]
    }
   ],
   "source": [
    "%cd /tmp"
   ]
  },
  {
   "cell_type": "code",
   "execution_count": 3,
   "id": "tamil-burner",
   "metadata": {
    "execution": {
     "iopub.execute_input": "2021-05-31T12:50:28.943155Z",
     "iopub.status.busy": "2021-05-31T12:50:28.942492Z",
     "iopub.status.idle": "2021-05-31T12:50:32.060742Z",
     "shell.execute_reply": "2021-05-31T12:50:32.059993Z",
     "shell.execute_reply.started": "2021-05-31T11:47:48.174342Z"
    },
    "papermill": {
     "duration": 3.136334,
     "end_time": "2021-05-31T12:50:32.060916",
     "exception": false,
     "start_time": "2021-05-31T12:50:28.924582",
     "status": "completed"
    },
    "tags": []
   },
   "outputs": [
    {
     "name": "stdout",
     "output_type": "stream",
     "text": [
      "Cloning into 'fairseq'...\r\n",
      "remote: Enumerating objects: 28231, done.\u001b[K\r\n",
      "remote: Counting objects: 100% (643/643), done.\u001b[K\r\n",
      "remote: Compressing objects: 100% (363/363), done.\u001b[K\r\n",
      "remote: Total 28231 (delta 342), reused 511 (delta 265), pack-reused 27588\u001b[K\r\n",
      "Receiving objects: 100% (28231/28231), 11.90 MiB | 16.42 MiB/s, done.\r\n",
      "Resolving deltas: 100% (21165/21165), done.\r\n"
     ]
    }
   ],
   "source": [
    "!git clone https://github.com/jimregan/fairseq/ --branch issue3581"
   ]
  },
  {
   "cell_type": "code",
   "execution_count": 4,
   "id": "enclosed-teaching",
   "metadata": {
    "execution": {
     "iopub.execute_input": "2021-05-31T12:50:32.115255Z",
     "iopub.status.busy": "2021-05-31T12:50:32.111765Z",
     "iopub.status.idle": "2021-05-31T12:50:34.152516Z",
     "shell.execute_reply": "2021-05-31T12:50:34.151767Z",
     "shell.execute_reply.started": "2021-05-25T22:47:02.096238Z"
    },
    "papermill": {
     "duration": 2.069092,
     "end_time": "2021-05-31T12:50:34.152681",
     "exception": false,
     "start_time": "2021-05-31T12:50:32.083589",
     "status": "completed"
    },
    "tags": []
   },
   "outputs": [
    {
     "name": "stdout",
     "output_type": "stream",
     "text": [
      "Cloning into 'kenlm'...\r\n",
      "remote: Enumerating objects: 13824, done.\u001b[K\r\n",
      "remote: Counting objects: 100% (137/137), done.\u001b[K\r\n",
      "remote: Compressing objects: 100% (79/79), done.\u001b[K\r\n",
      "remote: Total 13824 (delta 76), reused 92 (delta 45), pack-reused 13687\u001b[K\r\n",
      "Receiving objects: 100% (13824/13824), 5.49 MiB | 11.46 MiB/s, done.\r\n",
      "Resolving deltas: 100% (7956/7956), done.\r\n"
     ]
    }
   ],
   "source": [
    "!git clone https://github.com/kpu/kenlm"
   ]
  },
  {
   "cell_type": "code",
   "execution_count": 5,
   "id": "unnecessary-sister",
   "metadata": {
    "execution": {
     "iopub.execute_input": "2021-05-31T12:50:34.214374Z",
     "iopub.status.busy": "2021-05-31T12:50:34.210982Z",
     "iopub.status.idle": "2021-05-31T12:50:40.660275Z",
     "shell.execute_reply": "2021-05-31T12:50:40.659524Z"
    },
    "papermill": {
     "duration": 6.482008,
     "end_time": "2021-05-31T12:50:40.660455",
     "exception": false,
     "start_time": "2021-05-31T12:50:34.178447",
     "status": "completed"
    },
    "tags": []
   },
   "outputs": [],
   "source": [
    "%%capture\n",
    "!apt-get -y install libeigen3-dev liblzma-dev zlib1g-dev libbz2-dev"
   ]
  },
  {
   "cell_type": "code",
   "execution_count": 6,
   "id": "eight-account",
   "metadata": {
    "execution": {
     "iopub.execute_input": "2021-05-31T12:50:40.722438Z",
     "iopub.status.busy": "2021-05-31T12:50:40.721736Z",
     "iopub.status.idle": "2021-05-31T12:51:59.811579Z",
     "shell.execute_reply": "2021-05-31T12:51:59.809896Z"
    },
    "papermill": {
     "duration": 79.12579,
     "end_time": "2021-05-31T12:51:59.811933",
     "exception": false,
     "start_time": "2021-05-31T12:50:40.686143",
     "status": "completed"
    },
    "tags": []
   },
   "outputs": [],
   "source": [
    "%%capture\n",
    "%cd kenlm\n",
    "!mkdir build\n",
    "%cd build\n",
    "!cmake ..\n",
    "!make -j 4\n",
    "%cd /tmp"
   ]
  },
  {
   "cell_type": "code",
   "execution_count": 7,
   "id": "iraqi-baseball",
   "metadata": {
    "execution": {
     "iopub.execute_input": "2021-05-31T12:51:59.872540Z",
     "iopub.status.busy": "2021-05-31T12:51:59.871785Z",
     "iopub.status.idle": "2021-05-31T12:51:59.875035Z",
     "shell.execute_reply": "2021-05-31T12:51:59.874386Z",
     "shell.execute_reply.started": "2021-05-25T22:58:58.397816Z"
    },
    "papermill": {
     "duration": 0.036012,
     "end_time": "2021-05-31T12:51:59.875196",
     "exception": false,
     "start_time": "2021-05-31T12:51:59.839184",
     "status": "completed"
    },
    "tags": []
   },
   "outputs": [],
   "source": [
    "import os\n",
    "os.environ['PATH'] = f\"{os.environ['PATH']}:/tmp/kenlm/build/bin/\"\n",
    "os.environ['FAIRSEQ_ROOT'] = '/tmp/fairseq'"
   ]
  },
  {
   "cell_type": "code",
   "execution_count": 8,
   "id": "figured-ireland",
   "metadata": {
    "execution": {
     "iopub.execute_input": "2021-05-31T12:51:59.935612Z",
     "iopub.status.busy": "2021-05-31T12:51:59.934716Z",
     "iopub.status.idle": "2021-05-31T12:51:59.941181Z",
     "shell.execute_reply": "2021-05-31T12:51:59.940562Z",
     "shell.execute_reply.started": "2021-05-31T11:51:49.832574Z"
    },
    "papermill": {
     "duration": 0.040454,
     "end_time": "2021-05-31T12:51:59.941391",
     "exception": false,
     "start_time": "2021-05-31T12:51:59.900937",
     "status": "completed"
    },
    "tags": []
   },
   "outputs": [
    {
     "name": "stdout",
     "output_type": "stream",
     "text": [
      "/tmp/fairseq\n"
     ]
    }
   ],
   "source": [
    "%cd /tmp/fairseq/"
   ]
  },
  {
   "cell_type": "code",
   "execution_count": 9,
   "id": "living-turtle",
   "metadata": {
    "execution": {
     "iopub.execute_input": "2021-05-31T12:52:00.005470Z",
     "iopub.status.busy": "2021-05-31T12:52:00.001338Z",
     "iopub.status.idle": "2021-05-31T12:53:16.678238Z",
     "shell.execute_reply": "2021-05-31T12:53:16.677621Z"
    },
    "papermill": {
     "duration": 76.710511,
     "end_time": "2021-05-31T12:53:16.678444",
     "exception": false,
     "start_time": "2021-05-31T12:51:59.967933",
     "status": "completed"
    },
    "tags": []
   },
   "outputs": [],
   "source": [
    "%%capture\n",
    "!python setup.py install"
   ]
  },
  {
   "cell_type": "code",
   "execution_count": 10,
   "id": "formal-beaver",
   "metadata": {
    "execution": {
     "iopub.execute_input": "2021-05-31T12:53:16.737518Z",
     "iopub.status.busy": "2021-05-31T12:53:16.736858Z",
     "iopub.status.idle": "2021-05-31T12:53:16.739925Z",
     "shell.execute_reply": "2021-05-31T12:53:16.740572Z"
    },
    "papermill": {
     "duration": 0.036134,
     "end_time": "2021-05-31T12:53:16.740743",
     "exception": false,
     "start_time": "2021-05-31T12:53:16.704609",
     "status": "completed"
    },
    "tags": []
   },
   "outputs": [
    {
     "name": "stdout",
     "output_type": "stream",
     "text": [
      "/tmp/fairseq\n"
     ]
    }
   ],
   "source": [
    "%cd /tmp/fairseq/"
   ]
  },
  {
   "cell_type": "code",
   "execution_count": 11,
   "id": "posted-referral",
   "metadata": {
    "execution": {
     "iopub.execute_input": "2021-05-31T12:53:16.796272Z",
     "iopub.status.busy": "2021-05-31T12:53:16.795654Z",
     "iopub.status.idle": "2021-05-31T12:53:16.799687Z",
     "shell.execute_reply": "2021-05-31T12:53:16.800158Z"
    },
    "papermill": {
     "duration": 0.03371,
     "end_time": "2021-05-31T12:53:16.800370",
     "exception": false,
     "start_time": "2021-05-31T12:53:16.766660",
     "status": "completed"
    },
    "tags": []
   },
   "outputs": [],
   "source": [
    "os.environ['HYDRA_FULL_ERROR'] = '1'"
   ]
  },
  {
   "cell_type": "markdown",
   "id": "subjective-classic",
   "metadata": {
    "papermill": {
     "duration": 0.025926,
     "end_time": "2021-05-31T12:53:16.853198",
     "exception": false,
     "start_time": "2021-05-31T12:53:16.827272",
     "status": "completed"
    },
    "tags": []
   },
   "source": [
    "## GAN"
   ]
  },
  {
   "cell_type": "code",
   "execution_count": 12,
   "id": "amateur-money",
   "metadata": {
    "execution": {
     "iopub.execute_input": "2021-05-31T12:53:16.909260Z",
     "iopub.status.busy": "2021-05-31T12:53:16.908610Z",
     "iopub.status.idle": "2021-05-31T12:53:17.655810Z",
     "shell.execute_reply": "2021-05-31T12:53:17.655245Z",
     "shell.execute_reply.started": "2021-05-30T16:46:39.899633Z"
    },
    "papermill": {
     "duration": 0.776478,
     "end_time": "2021-05-31T12:53:17.655950",
     "exception": false,
     "start_time": "2021-05-31T12:53:16.879472",
     "status": "completed"
    },
    "tags": []
   },
   "outputs": [
    {
     "name": "stdout",
     "output_type": "stream",
     "text": [
      "CLUS128\t\t    precompute_pca512_cls128_mean\t  train.npy\r\n",
      "__notebook__.ipynb  precompute_pca512_cls128_mean_pooled  train.phn\r\n",
      "__output__.json     test.lengths\t\t\t  train.tsv\r\n",
      "__results__.html    test.ltr\t\t\t\t  train.wrd\r\n",
      "custom.css\t    test.npy\t\t\t\t  valid.lengths\r\n",
      "dict.test\t    test.phn\t\t\t\t  valid.ltr\r\n",
      "dict.train\t    test.tsv\t\t\t\t  valid.npy\r\n",
      "dict.valid\t    test.wrd\t\t\t\t  valid.phn\r\n",
      "pca\t\t    train.lengths\t\t\t  valid.tsv\r\n",
      "precompute_pca512   train.ltr\t\t\t\t  valid.wrd\r\n"
     ]
    }
   ],
   "source": [
    "!ls /kaggle/input/wav2vec-u-cv-swedish-audio/"
   ]
  },
  {
   "cell_type": "code",
   "execution_count": 13,
   "id": "revolutionary-telling",
   "metadata": {
    "execution": {
     "iopub.execute_input": "2021-05-31T12:53:17.716747Z",
     "iopub.status.busy": "2021-05-31T12:53:17.715828Z",
     "iopub.status.idle": "2021-05-31T12:53:17.720715Z",
     "shell.execute_reply": "2021-05-31T12:53:17.720124Z"
    },
    "papermill": {
     "duration": 0.038367,
     "end_time": "2021-05-31T12:53:17.720858",
     "exception": false,
     "start_time": "2021-05-31T12:53:17.682491",
     "status": "completed"
    },
    "tags": []
   },
   "outputs": [
    {
     "name": "stdout",
     "output_type": "stream",
     "text": [
      "Writing rungan.sh\n"
     ]
    }
   ],
   "source": [
    "%%writefile rungan.sh\n",
    "PREFIX=w2v_unsup_gan_xp\n",
    "#TASK_DATA=/path/to/features/unfiltered/precompute_unfiltered_pca512_cls128_mean_pooled\n",
    "TASK_DATA=/kaggle/input/wav2vec-u-cv-swedish-audio/precompute_pca512_cls128_mean_pooled/\n",
    "#TEXT_DATA=/path/to/data  # path to fairseq-preprocessed GAN data\n",
    "TEXT_DATA=/kaggle/input/wav2vec-u-cv-swedish-text-prep/preppedtext/phones/\n",
    "#KENLM_PATH=/path/to/data/kenlm.phn.o4.bin  # KenLM 4-gram phoneme language model (LM data = GAN data here)\n",
    "KENLM_PATH=/kaggle/input/wav2vec-u-cv-swedish-text-prep/preppedtext/phones/lm.phones.filtered.04.bin\n",
    "\n",
    "PREFIX=$PREFIX fairseq-hydra-train \\\n",
    "\t-m --config-dir config/model/wav2vecu/gan \\\n",
    "\t--config-name w2vu \\\n",
    "\ttask.data=${TASK_DATA} \\\n",
    "\ttask.text_data=${TEXT_DATA} \\\n",
    "\ttask.kenlm_path=${KENLM_PATH} \\\n",
    "\tcheckpoint.no_epoch_checkpoints=false \\\n",
    "\tcheckpoint.save_dir=/kaggle/working \\\n",
    "\t'common.seed=range(0,5)'"
   ]
  },
  {
   "cell_type": "code",
   "execution_count": 14,
   "id": "fiscal-nigeria",
   "metadata": {
    "execution": {
     "iopub.execute_input": "2021-05-31T12:53:17.778023Z",
     "iopub.status.busy": "2021-05-31T12:53:17.777434Z",
     "iopub.status.idle": "2021-05-31T12:53:22.404078Z",
     "shell.execute_reply": "2021-05-31T12:53:22.402718Z"
    },
    "papermill": {
     "duration": 4.656614,
     "end_time": "2021-05-31T12:53:22.404305",
     "exception": false,
     "start_time": "2021-05-31T12:53:17.747691",
     "status": "completed"
    },
    "tags": []
   },
   "outputs": [
    {
     "name": "stdout",
     "output_type": "stream",
     "text": [
      "Traceback (most recent call last):\r\n",
      "  File \"/opt/conda/bin/fairseq-hydra-train\", line 33, in <module>\r\n",
      "    sys.exit(load_entry_point('fairseq==1.0.0a0+6af4656', 'console_scripts', 'fairseq-hydra-train')())\r\n",
      "  File \"/opt/conda/lib/python3.7/site-packages/fairseq-1.0.0a0+6af4656-py3.7-linux-x86_64.egg/fairseq_cli/hydra_train.py\", line 76, in cli_main\r\n",
      "    hydra_main()\r\n",
      "  File \"/opt/conda/lib/python3.7/site-packages/hydra_core-1.0.6-py3.7.egg/hydra/main.py\", line 37, in decorated_main\r\n",
      "    strict=strict,\r\n",
      "  File \"/opt/conda/lib/python3.7/site-packages/hydra_core-1.0.6-py3.7.egg/hydra/_internal/utils.py\", line 318, in _run_hydra\r\n",
      "    run_and_report(add_conf_dir)\r\n",
      "  File \"/opt/conda/lib/python3.7/site-packages/hydra_core-1.0.6-py3.7.egg/hydra/_internal/utils.py\", line 201, in run_and_report\r\n",
      "    raise ex\r\n",
      "  File \"/opt/conda/lib/python3.7/site-packages/hydra_core-1.0.6-py3.7.egg/hydra/_internal/utils.py\", line 198, in run_and_report\r\n",
      "    return func()\r\n",
      "  File \"/opt/conda/lib/python3.7/site-packages/hydra_core-1.0.6-py3.7.egg/hydra/_internal/utils.py\", line 310, in add_conf_dir\r\n",
      "    f\"Additional config directory '{abs_config_dir}' not found\"\r\n",
      "hydra.errors.SearchPathException: Additional config directory '/tmp/fairseq/config/model/wav2vecu/gan' not found\r\n"
     ]
    }
   ],
   "source": [
    "!bash rungan.sh"
   ]
  }
 ],
 "metadata": {
  "kernelspec": {
   "display_name": "Python 3",
   "language": "python",
   "name": "python3"
  },
  "language_info": {
   "codemirror_mode": {
    "name": "ipython",
    "version": 3
   },
   "file_extension": ".py",
   "mimetype": "text/x-python",
   "name": "python",
   "nbconvert_exporter": "python",
   "pygments_lexer": "ipython3",
   "version": "3.7.10"
  },
  "papermill": {
   "default_parameters": {},
   "duration": 429.970042,
   "end_time": "2021-05-31T12:53:24.055842",
   "environment_variables": {},
   "exception": null,
   "input_path": "__notebook__.ipynb",
   "output_path": "__notebook__.ipynb",
   "parameters": {},
   "start_time": "2021-05-31T12:46:14.085800",
   "version": "2.3.3"
  }
 },
 "nbformat": 4,
 "nbformat_minor": 5
}
