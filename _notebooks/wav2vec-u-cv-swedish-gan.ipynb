{
 "cells": [
  {
   "cell_type": "markdown",
   "id": "affecting-crossing",
   "metadata": {
    "papermill": {
     "duration": 0.014162,
     "end_time": "2021-05-31T13:45:22.471051",
     "exception": false,
     "start_time": "2021-05-31T13:45:22.456889",
     "status": "completed"
    },
    "tags": []
   },
   "source": [
    "## Preparation"
   ]
  },
  {
   "cell_type": "code",
   "execution_count": 1,
   "id": "spiritual-graduate",
   "metadata": {
    "_cell_guid": "b1076dfc-b9ad-4769-8c92-a6c4dae69d19",
    "_uuid": "8f2839f25d086af736a60e9eeb907d3b93b6e0e5",
    "execution": {
     "iopub.execute_input": "2021-05-31T13:45:22.510025Z",
     "iopub.status.busy": "2021-05-31T13:45:22.509351Z",
     "iopub.status.idle": "2021-05-31T13:50:26.522513Z",
     "shell.execute_reply": "2021-05-31T13:50:26.520971Z",
     "shell.execute_reply.started": "2021-05-31T11:43:46.770364Z"
    },
    "papermill": {
     "duration": 304.038716,
     "end_time": "2021-05-31T13:50:26.522981",
     "exception": false,
     "start_time": "2021-05-31T13:45:22.484265",
     "status": "completed"
    },
    "tags": []
   },
   "outputs": [],
   "source": [
    "%%capture\n",
    "!conda install -c pykaldi pykaldi -y"
   ]
  },
  {
   "cell_type": "code",
   "execution_count": 2,
   "id": "passing-buying",
   "metadata": {
    "execution": {
     "iopub.execute_input": "2021-05-31T13:50:26.560315Z",
     "iopub.status.busy": "2021-05-31T13:50:26.559224Z",
     "iopub.status.idle": "2021-05-31T13:51:51.803319Z",
     "shell.execute_reply": "2021-05-31T13:51:51.803813Z"
    },
    "papermill": {
     "duration": 85.265847,
     "end_time": "2021-05-31T13:51:51.804047",
     "exception": false,
     "start_time": "2021-05-31T13:50:26.538200",
     "status": "completed"
    },
    "tags": []
   },
   "outputs": [
    {
     "name": "stdout",
     "output_type": "stream",
     "text": [
      "Collecting kenlm\r\n",
      "  Downloading kenlm-0.tar.gz (1.4 MB)\r\n",
      "\u001b[K     |████████████████████████████████| 1.4 MB 862 kB/s \r\n",
      "\u001b[?25hBuilding wheels for collected packages: kenlm\r\n",
      "  Building wheel for kenlm (setup.py) ... \u001b[?25l-\b \b\\\b \b|\b \b/\b \b-\b \b\\\b \b|\b \b/\b \b-\b \b\\\b \b|\b \b/\b \b-\b \b\\\b \b|\b \b/\b \b-\b \b\\\b \b|\b \b/\b \b-\b \b\\\b \b|\b \b/\b \b-\b \b\\\b \b|\b \b/\b \b-\b \b\\\b \b|\b \b/\b \b-\b \b\\\b \b|\b \b/\b \b-\b \b\\\b \b|\b \b/\b \b-\b \b\\\b \b|\b \b/\b \berror\r\n",
      "\u001b[31m  ERROR: Command errored out with exit status 1:\r\n",
      "   command: /opt/conda/bin/python3.7 -u -c 'import sys, setuptools, tokenize; sys.argv[0] = '\"'\"'/tmp/pip-install-_sn1b_8e/kenlm_33feb0ab709b4e009311494d5788ce9b/setup.py'\"'\"'; __file__='\"'\"'/tmp/pip-install-_sn1b_8e/kenlm_33feb0ab709b4e009311494d5788ce9b/setup.py'\"'\"';f=getattr(tokenize, '\"'\"'open'\"'\"', open)(__file__);code=f.read().replace('\"'\"'\\r\\n'\"'\"', '\"'\"'\\n'\"'\"');f.close();exec(compile(code, __file__, '\"'\"'exec'\"'\"'))' bdist_wheel -d /tmp/pip-wheel-g6adg7vm\r\n",
      "       cwd: /tmp/pip-install-_sn1b_8e/kenlm_33feb0ab709b4e009311494d5788ce9b/\r\n",
      "  Complete output (269 lines):\r\n",
      "  running bdist_wheel\r\n",
      "  running build\r\n",
      "  running build_ext\r\n",
      "  building 'kenlm' extension\r\n",
      "  creating build/temp.linux-x86_64-3.7\r\n",
      "  creating build/temp.linux-x86_64-3.7/util\r\n",
      "  creating build/temp.linux-x86_64-3.7/lm\r\n",
      "  creating build/temp.linux-x86_64-3.7/util/double-conversion\r\n",
      "  creating build/temp.linux-x86_64-3.7/python\r\n",
      "  gcc -pthread -B /opt/conda/compiler_compat -Wl,--sysroot=/ -Wsign-compare -DNDEBUG -g -fwrapv -O3 -Wall -Wstrict-prototypes -fPIC -I. -I/opt/conda/include/python3.7m -c util/string_piece.cc -o build/temp.linux-x86_64-3.7/util/string_piece.o -O3 -DNDEBUG -DKENLM_MAX_ORDER=6 -std=c++11 -DHAVE_ZLIB\r\n",
      "  cc1plus: warning: command line option ‘-Wstrict-prototypes’ is valid for C/ObjC but not for C++\r\n",
      "  gcc -pthread -B /opt/conda/compiler_compat -Wl,--sysroot=/ -Wsign-compare -DNDEBUG -g -fwrapv -O3 -Wall -Wstrict-prototypes -fPIC -I. -I/opt/conda/include/python3.7m -c util/file.cc -o build/temp.linux-x86_64-3.7/util/file.o -O3 -DNDEBUG -DKENLM_MAX_ORDER=6 -std=c++11 -DHAVE_ZLIB\r\n",
      "  cc1plus: warning: command line option ‘-Wstrict-prototypes’ is valid for C/ObjC but not for C++\r\n",
      "  gcc -pthread -B /opt/conda/compiler_compat -Wl,--sysroot=/ -Wsign-compare -DNDEBUG -g -fwrapv -O3 -Wall -Wstrict-prototypes -fPIC -I. -I/opt/conda/include/python3.7m -c util/pool.cc -o build/temp.linux-x86_64-3.7/util/pool.o -O3 -DNDEBUG -DKENLM_MAX_ORDER=6 -std=c++11 -DHAVE_ZLIB\r\n",
      "  cc1plus: warning: command line option ‘-Wstrict-prototypes’ is valid for C/ObjC but not for C++\r\n",
      "  gcc -pthread -B /opt/conda/compiler_compat -Wl,--sysroot=/ -Wsign-compare -DNDEBUG -g -fwrapv -O3 -Wall -Wstrict-prototypes -fPIC -I. -I/opt/conda/include/python3.7m -c util/murmur_hash.cc -o build/temp.linux-x86_64-3.7/util/murmur_hash.o -O3 -DNDEBUG -DKENLM_MAX_ORDER=6 -std=c++11 -DHAVE_ZLIB\r\n",
      "  cc1plus: warning: command line option ‘-Wstrict-prototypes’ is valid for C/ObjC but not for C++\r\n",
      "  gcc -pthread -B /opt/conda/compiler_compat -Wl,--sysroot=/ -Wsign-compare -DNDEBUG -g -fwrapv -O3 -Wall -Wstrict-prototypes -fPIC -I. -I/opt/conda/include/python3.7m -c util/integer_to_string.cc -o build/temp.linux-x86_64-3.7/util/integer_to_string.o -O3 -DNDEBUG -DKENLM_MAX_ORDER=6 -std=c++11 -DHAVE_ZLIB\r\n",
      "  cc1plus: warning: command line option ‘-Wstrict-prototypes’ is valid for C/ObjC but not for C++\r\n",
      "  gcc -pthread -B /opt/conda/compiler_compat -Wl,--sysroot=/ -Wsign-compare -DNDEBUG -g -fwrapv -O3 -Wall -Wstrict-prototypes -fPIC -I. -I/opt/conda/include/python3.7m -c util/scoped.cc -o build/temp.linux-x86_64-3.7/util/scoped.o -O3 -DNDEBUG -DKENLM_MAX_ORDER=6 -std=c++11 -DHAVE_ZLIB\r\n",
      "  cc1plus: warning: command line option ‘-Wstrict-prototypes’ is valid for C/ObjC but not for C++\r\n",
      "  gcc -pthread -B /opt/conda/compiler_compat -Wl,--sysroot=/ -Wsign-compare -DNDEBUG -g -fwrapv -O3 -Wall -Wstrict-prototypes -fPIC -I. -I/opt/conda/include/python3.7m -c util/ersatz_progress.cc -o build/temp.linux-x86_64-3.7/util/ersatz_progress.o -O3 -DNDEBUG -DKENLM_MAX_ORDER=6 -std=c++11 -DHAVE_ZLIB\r\n",
      "  cc1plus: warning: command line option ‘-Wstrict-prototypes’ is valid for C/ObjC but not for C++\r\n",
      "  gcc -pthread -B /opt/conda/compiler_compat -Wl,--sysroot=/ -Wsign-compare -DNDEBUG -g -fwrapv -O3 -Wall -Wstrict-prototypes -fPIC -I. -I/opt/conda/include/python3.7m -c util/mmap.cc -o build/temp.linux-x86_64-3.7/util/mmap.o -O3 -DNDEBUG -DKENLM_MAX_ORDER=6 -std=c++11 -DHAVE_ZLIB\r\n",
      "  cc1plus: warning: command line option ‘-Wstrict-prototypes’ is valid for C/ObjC but not for C++\r\n",
      "  gcc -pthread -B /opt/conda/compiler_compat -Wl,--sysroot=/ -Wsign-compare -DNDEBUG -g -fwrapv -O3 -Wall -Wstrict-prototypes -fPIC -I. -I/opt/conda/include/python3.7m -c util/float_to_string.cc -o build/temp.linux-x86_64-3.7/util/float_to_string.o -O3 -DNDEBUG -DKENLM_MAX_ORDER=6 -std=c++11 -DHAVE_ZLIB\r\n",
      "  cc1plus: warning: command line option ‘-Wstrict-prototypes’ is valid for C/ObjC but not for C++\r\n",
      "  gcc -pthread -B /opt/conda/compiler_compat -Wl,--sysroot=/ -Wsign-compare -DNDEBUG -g -fwrapv -O3 -Wall -Wstrict-prototypes -fPIC -I. -I/opt/conda/include/python3.7m -c util/read_compressed.cc -o build/temp.linux-x86_64-3.7/util/read_compressed.o -O3 -DNDEBUG -DKENLM_MAX_ORDER=6 -std=c++11 -DHAVE_ZLIB\r\n",
      "  cc1plus: warning: command line option ‘-Wstrict-prototypes’ is valid for C/ObjC but not for C++\r\n",
      "  gcc -pthread -B /opt/conda/compiler_compat -Wl,--sysroot=/ -Wsign-compare -DNDEBUG -g -fwrapv -O3 -Wall -Wstrict-prototypes -fPIC -I. -I/opt/conda/include/python3.7m -c util/exception.cc -o build/temp.linux-x86_64-3.7/util/exception.o -O3 -DNDEBUG -DKENLM_MAX_ORDER=6 -std=c++11 -DHAVE_ZLIB\r\n",
      "  cc1plus: warning: command line option ‘-Wstrict-prototypes’ is valid for C/ObjC but not for C++\r\n",
      "  gcc -pthread -B /opt/conda/compiler_compat -Wl,--sysroot=/ -Wsign-compare -DNDEBUG -g -fwrapv -O3 -Wall -Wstrict-prototypes -fPIC -I. -I/opt/conda/include/python3.7m -c util/bit_packing.cc -o build/temp.linux-x86_64-3.7/util/bit_packing.o -O3 -DNDEBUG -DKENLM_MAX_ORDER=6 -std=c++11 -DHAVE_ZLIB\r\n",
      "  cc1plus: warning: command line option ‘-Wstrict-prototypes’ is valid for C/ObjC but not for C++\r\n",
      "  gcc -pthread -B /opt/conda/compiler_compat -Wl,--sysroot=/ -Wsign-compare -DNDEBUG -g -fwrapv -O3 -Wall -Wstrict-prototypes -fPIC -I. -I/opt/conda/include/python3.7m -c util/spaces.cc -o build/temp.linux-x86_64-3.7/util/spaces.o -O3 -DNDEBUG -DKENLM_MAX_ORDER=6 -std=c++11 -DHAVE_ZLIB\r\n",
      "  cc1plus: warning: command line option ‘-Wstrict-prototypes’ is valid for C/ObjC but not for C++\r\n",
      "  gcc -pthread -B /opt/conda/compiler_compat -Wl,--sysroot=/ -Wsign-compare -DNDEBUG -g -fwrapv -O3 -Wall -Wstrict-prototypes -fPIC -I. -I/opt/conda/include/python3.7m -c util/usage.cc -o build/temp.linux-x86_64-3.7/util/usage.o -O3 -DNDEBUG -DKENLM_MAX_ORDER=6 -std=c++11 -DHAVE_ZLIB\r\n",
      "  cc1plus: warning: command line option ‘-Wstrict-prototypes’ is valid for C/ObjC but not for C++\r\n",
      "  gcc -pthread -B /opt/conda/compiler_compat -Wl,--sysroot=/ -Wsign-compare -DNDEBUG -g -fwrapv -O3 -Wall -Wstrict-prototypes -fPIC -I. -I/opt/conda/include/python3.7m -c util/file_piece.cc -o build/temp.linux-x86_64-3.7/util/file_piece.o -O3 -DNDEBUG -DKENLM_MAX_ORDER=6 -std=c++11 -DHAVE_ZLIB\r\n",
      "  cc1plus: warning: command line option ‘-Wstrict-prototypes’ is valid for C/ObjC but not for C++\r\n",
      "  gcc -pthread -B /opt/conda/compiler_compat -Wl,--sysroot=/ -Wsign-compare -DNDEBUG -g -fwrapv -O3 -Wall -Wstrict-prototypes -fPIC -I. -I/opt/conda/include/python3.7m -c util/parallel_read.cc -o build/temp.linux-x86_64-3.7/util/parallel_read.o -O3 -DNDEBUG -DKENLM_MAX_ORDER=6 -std=c++11 -DHAVE_ZLIB\r\n",
      "  cc1plus: warning: command line option ‘-Wstrict-prototypes’ is valid for C/ObjC but not for C++\r\n",
      "  gcc -pthread -B /opt/conda/compiler_compat -Wl,--sysroot=/ -Wsign-compare -DNDEBUG -g -fwrapv -O3 -Wall -Wstrict-prototypes -fPIC -I. -I/opt/conda/include/python3.7m -c lm/binary_format.cc -o build/temp.linux-x86_64-3.7/lm/binary_format.o -O3 -DNDEBUG -DKENLM_MAX_ORDER=6 -std=c++11 -DHAVE_ZLIB\r\n",
      "  cc1plus: warning: command line option ‘-Wstrict-prototypes’ is valid for C/ObjC but not for C++\r\n",
      "  gcc -pthread -B /opt/conda/compiler_compat -Wl,--sysroot=/ -Wsign-compare -DNDEBUG -g -fwrapv -O3 -Wall -Wstrict-prototypes -fPIC -I. -I/opt/conda/include/python3.7m -c lm/model.cc -o build/temp.linux-x86_64-3.7/lm/model.o -O3 -DNDEBUG -DKENLM_MAX_ORDER=6 -std=c++11 -DHAVE_ZLIB\r\n",
      "  cc1plus: warning: command line option ‘-Wstrict-prototypes’ is valid for C/ObjC but not for C++\r\n",
      "  In file included from ./lm/model.hh:13:0,\r\n",
      "                   from lm/model.cc:1:\r\n",
      "  ./lm/vocab.hh:210:43: warning: dynamic exception specifications are deprecated in C++11 [-Wdeprecated]\r\n",
      "   void MissingUnknown(const Config &config) throw(SpecialWordMissingException);\r\n",
      "                                             ^~~~~\r\n",
      "  ./lm/vocab.hh:211:67: warning: dynamic exception specifications are deprecated in C++11 [-Wdeprecated]\r\n",
      "   void MissingSentenceMarker(const Config &config, const char *str) throw(SpecialWordMissingException);\r\n",
      "                                                                     ^~~~~\r\n",
      "  ./lm/vocab.hh:213:85: warning: dynamic exception specifications are deprecated in C++11 [-Wdeprecated]\r\n",
      "   template <class Vocab> void CheckSpecials(const Config &config, const Vocab &vocab) throw(SpecialWordMissingException) {\r\n",
      "                                                                                       ^~~~~\r\n",
      "  gcc -pthread -B /opt/conda/compiler_compat -Wl,--sysroot=/ -Wsign-compare -DNDEBUG -g -fwrapv -O3 -Wall -Wstrict-prototypes -fPIC -I. -I/opt/conda/include/python3.7m -c lm/search_trie.cc -o build/temp.linux-x86_64-3.7/lm/search_trie.o -O3 -DNDEBUG -DKENLM_MAX_ORDER=6 -std=c++11 -DHAVE_ZLIB\r\n",
      "  cc1plus: warning: command line option ‘-Wstrict-prototypes’ is valid for C/ObjC but not for C++\r\n",
      "  In file included from lm/search_trie.cc:12:0:\r\n",
      "  ./lm/vocab.hh:210:43: warning: dynamic exception specifications are deprecated in C++11 [-Wdeprecated]\r\n",
      "   void MissingUnknown(const Config &config) throw(SpecialWordMissingException);\r\n",
      "                                             ^~~~~\r\n",
      "  ./lm/vocab.hh:211:67: warning: dynamic exception specifications are deprecated in C++11 [-Wdeprecated]\r\n",
      "   void MissingSentenceMarker(const Config &config, const char *str) throw(SpecialWordMissingException);\r\n",
      "                                                                     ^~~~~\r\n",
      "  ./lm/vocab.hh:213:85: warning: dynamic exception specifications are deprecated in C++11 [-Wdeprecated]\r\n",
      "   template <class Vocab> void CheckSpecials(const Config &config, const Vocab &vocab) throw(SpecialWordMissingException) {\r\n",
      "                                                                                       ^~~~~\r\n",
      "  gcc -pthread -B /opt/conda/compiler_compat -Wl,--sysroot=/ -Wsign-compare -DNDEBUG -g -fwrapv -O3 -Wall -Wstrict-prototypes -fPIC -I. -I/opt/conda/include/python3.7m -c lm/trie_sort.cc -o build/temp.linux-x86_64-3.7/lm/trie_sort.o -O3 -DNDEBUG -DKENLM_MAX_ORDER=6 -std=c++11 -DHAVE_ZLIB\r\n",
      "  cc1plus: warning: command line option ‘-Wstrict-prototypes’ is valid for C/ObjC but not for C++\r\n",
      "  In file included from lm/trie_sort.cc:6:0:\r\n",
      "  ./lm/vocab.hh:210:43: warning: dynamic exception specifications are deprecated in C++11 [-Wdeprecated]\r\n",
      "   void MissingUnknown(const Config &config) throw(SpecialWordMissingException);\r\n",
      "                                             ^~~~~\r\n",
      "  ./lm/vocab.hh:211:67: warning: dynamic exception specifications are deprecated in C++11 [-Wdeprecated]\r\n",
      "   void MissingSentenceMarker(const Config &config, const char *str) throw(SpecialWordMissingException);\r\n",
      "                                                                     ^~~~~\r\n",
      "  ./lm/vocab.hh:213:85: warning: dynamic exception specifications are deprecated in C++11 [-Wdeprecated]\r\n",
      "   template <class Vocab> void CheckSpecials(const Config &config, const Vocab &vocab) throw(SpecialWordMissingException) {\r\n",
      "                                                                                       ^~~~~\r\n",
      "  gcc -pthread -B /opt/conda/compiler_compat -Wl,--sysroot=/ -Wsign-compare -DNDEBUG -g -fwrapv -O3 -Wall -Wstrict-prototypes -fPIC -I. -I/opt/conda/include/python3.7m -c lm/vocab.cc -o build/temp.linux-x86_64-3.7/lm/vocab.o -O3 -DNDEBUG -DKENLM_MAX_ORDER=6 -std=c++11 -DHAVE_ZLIB\r\n",
      "  cc1plus: warning: command line option ‘-Wstrict-prototypes’ is valid for C/ObjC but not for C++\r\n",
      "  In file included from lm/vocab.cc:1:0:\r\n",
      "  ./lm/vocab.hh:210:43: warning: dynamic exception specifications are deprecated in C++11 [-Wdeprecated]\r\n",
      "   void MissingUnknown(const Config &config) throw(SpecialWordMissingException);\r\n",
      "                                             ^~~~~\r\n",
      "  ./lm/vocab.hh:211:67: warning: dynamic exception specifications are deprecated in C++11 [-Wdeprecated]\r\n",
      "   void MissingSentenceMarker(const Config &config, const char *str) throw(SpecialWordMissingException);\r\n",
      "                                                                     ^~~~~\r\n",
      "  ./lm/vocab.hh:213:85: warning: dynamic exception specifications are deprecated in C++11 [-Wdeprecated]\r\n",
      "   template <class Vocab> void CheckSpecials(const Config &config, const Vocab &vocab) throw(SpecialWordMissingException) {\r\n",
      "                                                                                       ^~~~~\r\n",
      "  lm/vocab.cc:285:43: warning: dynamic exception specifications are deprecated in C++11 [-Wdeprecated]\r\n",
      "   void MissingUnknown(const Config &config) throw(SpecialWordMissingException) {\r\n",
      "                                             ^~~~~\r\n",
      "  lm/vocab.cc:297:67: warning: dynamic exception specifications are deprecated in C++11 [-Wdeprecated]\r\n",
      "   void MissingSentenceMarker(const Config &config, const char *str) throw(SpecialWordMissingException) {\r\n",
      "                                                                     ^~~~~\r\n",
      "  gcc -pthread -B /opt/conda/compiler_compat -Wl,--sysroot=/ -Wsign-compare -DNDEBUG -g -fwrapv -O3 -Wall -Wstrict-prototypes -fPIC -I. -I/opt/conda/include/python3.7m -c lm/search_hashed.cc -o build/temp.linux-x86_64-3.7/lm/search_hashed.o -O3 -DNDEBUG -DKENLM_MAX_ORDER=6 -std=c++11 -DHAVE_ZLIB\r\n",
      "  cc1plus: warning: command line option ‘-Wstrict-prototypes’ is valid for C/ObjC but not for C++\r\n",
      "  In file included from ./lm/model.hh:13:0,\r\n",
      "                   from lm/search_hashed.cc:6:\r\n",
      "  ./lm/vocab.hh:210:43: warning: dynamic exception specifications are deprecated in C++11 [-Wdeprecated]\r\n",
      "   void MissingUnknown(const Config &config) throw(SpecialWordMissingException);\r\n",
      "                                             ^~~~~\r\n",
      "  ./lm/vocab.hh:211:67: warning: dynamic exception specifications are deprecated in C++11 [-Wdeprecated]\r\n",
      "   void MissingSentenceMarker(const Config &config, const char *str) throw(SpecialWordMissingException);\r\n",
      "                                                                     ^~~~~\r\n",
      "  ./lm/vocab.hh:213:85: warning: dynamic exception specifications are deprecated in C++11 [-Wdeprecated]\r\n",
      "   template <class Vocab> void CheckSpecials(const Config &config, const Vocab &vocab) throw(SpecialWordMissingException) {\r\n",
      "                                                                                       ^~~~~\r\n",
      "  gcc -pthread -B /opt/conda/compiler_compat -Wl,--sysroot=/ -Wsign-compare -DNDEBUG -g -fwrapv -O3 -Wall -Wstrict-prototypes -fPIC -I. -I/opt/conda/include/python3.7m -c lm/trie.cc -o build/temp.linux-x86_64-3.7/lm/trie.o -O3 -DNDEBUG -DKENLM_MAX_ORDER=6 -std=c++11 -DHAVE_ZLIB\r\n",
      "  cc1plus: warning: command line option ‘-Wstrict-prototypes’ is valid for C/ObjC but not for C++\r\n",
      "  gcc -pthread -B /opt/conda/compiler_compat -Wl,--sysroot=/ -Wsign-compare -DNDEBUG -g -fwrapv -O3 -Wall -Wstrict-prototypes -fPIC -I. -I/opt/conda/include/python3.7m -c lm/virtual_interface.cc -o build/temp.linux-x86_64-3.7/lm/virtual_interface.o -O3 -DNDEBUG -DKENLM_MAX_ORDER=6 -std=c++11 -DHAVE_ZLIB\r\n",
      "  cc1plus: warning: command line option ‘-Wstrict-prototypes’ is valid for C/ObjC but not for C++\r\n",
      "  gcc -pthread -B /opt/conda/compiler_compat -Wl,--sysroot=/ -Wsign-compare -DNDEBUG -g -fwrapv -O3 -Wall -Wstrict-prototypes -fPIC -I. -I/opt/conda/include/python3.7m -c lm/sizes.cc -o build/temp.linux-x86_64-3.7/lm/sizes.o -O3 -DNDEBUG -DKENLM_MAX_ORDER=6 -std=c++11 -DHAVE_ZLIB\r\n",
      "  cc1plus: warning: command line option ‘-Wstrict-prototypes’ is valid for C/ObjC but not for C++\r\n",
      "  In file included from ./lm/model.hh:13:0,\r\n",
      "                   from lm/sizes.cc:2:\r\n",
      "  ./lm/vocab.hh:210:43: warning: dynamic exception specifications are deprecated in C++11 [-Wdeprecated]\r\n",
      "   void MissingUnknown(const Config &config) throw(SpecialWordMissingException);\r\n",
      "                                             ^~~~~\r\n",
      "  ./lm/vocab.hh:211:67: warning: dynamic exception specifications are deprecated in C++11 [-Wdeprecated]\r\n",
      "   void MissingSentenceMarker(const Config &config, const char *str) throw(SpecialWordMissingException);\r\n",
      "                                                                     ^~~~~\r\n",
      "  ./lm/vocab.hh:213:85: warning: dynamic exception specifications are deprecated in C++11 [-Wdeprecated]\r\n",
      "   template <class Vocab> void CheckSpecials(const Config &config, const Vocab &vocab) throw(SpecialWordMissingException) {\r\n",
      "                                                                                       ^~~~~\r\n",
      "  gcc -pthread -B /opt/conda/compiler_compat -Wl,--sysroot=/ -Wsign-compare -DNDEBUG -g -fwrapv -O3 -Wall -Wstrict-prototypes -fPIC -I. -I/opt/conda/include/python3.7m -c lm/config.cc -o build/temp.linux-x86_64-3.7/lm/config.o -O3 -DNDEBUG -DKENLM_MAX_ORDER=6 -std=c++11 -DHAVE_ZLIB\r\n",
      "  cc1plus: warning: command line option ‘-Wstrict-prototypes’ is valid for C/ObjC but not for C++\r\n",
      "  gcc -pthread -B /opt/conda/compiler_compat -Wl,--sysroot=/ -Wsign-compare -DNDEBUG -g -fwrapv -O3 -Wall -Wstrict-prototypes -fPIC -I. -I/opt/conda/include/python3.7m -c lm/bhiksha.cc -o build/temp.linux-x86_64-3.7/lm/bhiksha.o -O3 -DNDEBUG -DKENLM_MAX_ORDER=6 -std=c++11 -DHAVE_ZLIB\r\n",
      "  cc1plus: warning: command line option ‘-Wstrict-prototypes’ is valid for C/ObjC but not for C++\r\n",
      "  gcc -pthread -B /opt/conda/compiler_compat -Wl,--sysroot=/ -Wsign-compare -DNDEBUG -g -fwrapv -O3 -Wall -Wstrict-prototypes -fPIC -I. -I/opt/conda/include/python3.7m -c lm/quantize.cc -o build/temp.linux-x86_64-3.7/lm/quantize.o -O3 -DNDEBUG -DKENLM_MAX_ORDER=6 -std=c++11 -DHAVE_ZLIB\r\n",
      "  cc1plus: warning: command line option ‘-Wstrict-prototypes’ is valid for C/ObjC but not for C++\r\n",
      "  gcc -pthread -B /opt/conda/compiler_compat -Wl,--sysroot=/ -Wsign-compare -DNDEBUG -g -fwrapv -O3 -Wall -Wstrict-prototypes -fPIC -I. -I/opt/conda/include/python3.7m -c lm/lm_exception.cc -o build/temp.linux-x86_64-3.7/lm/lm_exception.o -O3 -DNDEBUG -DKENLM_MAX_ORDER=6 -std=c++11 -DHAVE_ZLIB\r\n",
      "  cc1plus: warning: command line option ‘-Wstrict-prototypes’ is valid for C/ObjC but not for C++\r\n",
      "  gcc -pthread -B /opt/conda/compiler_compat -Wl,--sysroot=/ -Wsign-compare -DNDEBUG -g -fwrapv -O3 -Wall -Wstrict-prototypes -fPIC -I. -I/opt/conda/include/python3.7m -c lm/read_arpa.cc -o build/temp.linux-x86_64-3.7/lm/read_arpa.o -O3 -DNDEBUG -DKENLM_MAX_ORDER=6 -std=c++11 -DHAVE_ZLIB\r\n",
      "  cc1plus: warning: command line option ‘-Wstrict-prototypes’ is valid for C/ObjC but not for C++\r\n",
      "  gcc -pthread -B /opt/conda/compiler_compat -Wl,--sysroot=/ -Wsign-compare -DNDEBUG -g -fwrapv -O3 -Wall -Wstrict-prototypes -fPIC -I. -I/opt/conda/include/python3.7m -c lm/value_build.cc -o build/temp.linux-x86_64-3.7/lm/value_build.o -O3 -DNDEBUG -DKENLM_MAX_ORDER=6 -std=c++11 -DHAVE_ZLIB\r\n",
      "  cc1plus: warning: command line option ‘-Wstrict-prototypes’ is valid for C/ObjC but not for C++\r\n",
      "  In file included from ./lm/model.hh:13:0,\r\n",
      "                   from lm/value_build.cc:3:\r\n",
      "  ./lm/vocab.hh:210:43: warning: dynamic exception specifications are deprecated in C++11 [-Wdeprecated]\r\n",
      "   void MissingUnknown(const Config &config) throw(SpecialWordMissingException);\r\n",
      "                                             ^~~~~\r\n",
      "  ./lm/vocab.hh:211:67: warning: dynamic exception specifications are deprecated in C++11 [-Wdeprecated]\r\n",
      "   void MissingSentenceMarker(const Config &config, const char *str) throw(SpecialWordMissingException);\r\n",
      "                                                                     ^~~~~\r\n",
      "  ./lm/vocab.hh:213:85: warning: dynamic exception specifications are deprecated in C++11 [-Wdeprecated]\r\n",
      "   template <class Vocab> void CheckSpecials(const Config &config, const Vocab &vocab) throw(SpecialWordMissingException) {\r\n",
      "                                                                                       ^~~~~\r\n",
      "  gcc -pthread -B /opt/conda/compiler_compat -Wl,--sysroot=/ -Wsign-compare -DNDEBUG -g -fwrapv -O3 -Wall -Wstrict-prototypes -fPIC -I. -I/opt/conda/include/python3.7m -c util/double-conversion/strtod.cc -o build/temp.linux-x86_64-3.7/util/double-conversion/strtod.o -O3 -DNDEBUG -DKENLM_MAX_ORDER=6 -std=c++11 -DHAVE_ZLIB\r\n",
      "  cc1plus: warning: command line option ‘-Wstrict-prototypes’ is valid for C/ObjC but not for C++\r\n",
      "  gcc -pthread -B /opt/conda/compiler_compat -Wl,--sysroot=/ -Wsign-compare -DNDEBUG -g -fwrapv -O3 -Wall -Wstrict-prototypes -fPIC -I. -I/opt/conda/include/python3.7m -c util/double-conversion/cached-powers.cc -o build/temp.linux-x86_64-3.7/util/double-conversion/cached-powers.o -O3 -DNDEBUG -DKENLM_MAX_ORDER=6 -std=c++11 -DHAVE_ZLIB\r\n",
      "  cc1plus: warning: command line option ‘-Wstrict-prototypes’ is valid for C/ObjC but not for C++\r\n",
      "  gcc -pthread -B /opt/conda/compiler_compat -Wl,--sysroot=/ -Wsign-compare -DNDEBUG -g -fwrapv -O3 -Wall -Wstrict-prototypes -fPIC -I. -I/opt/conda/include/python3.7m -c util/double-conversion/bignum-dtoa.cc -o build/temp.linux-x86_64-3.7/util/double-conversion/bignum-dtoa.o -O3 -DNDEBUG -DKENLM_MAX_ORDER=6 -std=c++11 -DHAVE_ZLIB\r\n",
      "  cc1plus: warning: command line option ‘-Wstrict-prototypes’ is valid for C/ObjC but not for C++\r\n",
      "  gcc -pthread -B /opt/conda/compiler_compat -Wl,--sysroot=/ -Wsign-compare -DNDEBUG -g -fwrapv -O3 -Wall -Wstrict-prototypes -fPIC -I. -I/opt/conda/include/python3.7m -c util/double-conversion/double-conversion.cc -o build/temp.linux-x86_64-3.7/util/double-conversion/double-conversion.o -O3 -DNDEBUG -DKENLM_MAX_ORDER=6 -std=c++11 -DHAVE_ZLIB\r\n",
      "  cc1plus: warning: command line option ‘-Wstrict-prototypes’ is valid for C/ObjC but not for C++\r\n",
      "  gcc -pthread -B /opt/conda/compiler_compat -Wl,--sysroot=/ -Wsign-compare -DNDEBUG -g -fwrapv -O3 -Wall -Wstrict-prototypes -fPIC -I. -I/opt/conda/include/python3.7m -c util/double-conversion/fixed-dtoa.cc -o build/temp.linux-x86_64-3.7/util/double-conversion/fixed-dtoa.o -O3 -DNDEBUG -DKENLM_MAX_ORDER=6 -std=c++11 -DHAVE_ZLIB\r\n",
      "  cc1plus: warning: command line option ‘-Wstrict-prototypes’ is valid for C/ObjC but not for C++\r\n",
      "  gcc -pthread -B /opt/conda/compiler_compat -Wl,--sysroot=/ -Wsign-compare -DNDEBUG -g -fwrapv -O3 -Wall -Wstrict-prototypes -fPIC -I. -I/opt/conda/include/python3.7m -c util/double-conversion/fast-dtoa.cc -o build/temp.linux-x86_64-3.7/util/double-conversion/fast-dtoa.o -O3 -DNDEBUG -DKENLM_MAX_ORDER=6 -std=c++11 -DHAVE_ZLIB\r\n",
      "  cc1plus: warning: command line option ‘-Wstrict-prototypes’ is valid for C/ObjC but not for C++\r\n",
      "  gcc -pthread -B /opt/conda/compiler_compat -Wl,--sysroot=/ -Wsign-compare -DNDEBUG -g -fwrapv -O3 -Wall -Wstrict-prototypes -fPIC -I. -I/opt/conda/include/python3.7m -c util/double-conversion/bignum.cc -o build/temp.linux-x86_64-3.7/util/double-conversion/bignum.o -O3 -DNDEBUG -DKENLM_MAX_ORDER=6 -std=c++11 -DHAVE_ZLIB\r\n",
      "  cc1plus: warning: command line option ‘-Wstrict-prototypes’ is valid for C/ObjC but not for C++\r\n",
      "  gcc -pthread -B /opt/conda/compiler_compat -Wl,--sysroot=/ -Wsign-compare -DNDEBUG -g -fwrapv -O3 -Wall -Wstrict-prototypes -fPIC -I. -I/opt/conda/include/python3.7m -c util/double-conversion/diy-fp.cc -o build/temp.linux-x86_64-3.7/util/double-conversion/diy-fp.o -O3 -DNDEBUG -DKENLM_MAX_ORDER=6 -std=c++11 -DHAVE_ZLIB\r\n",
      "  cc1plus: warning: command line option ‘-Wstrict-prototypes’ is valid for C/ObjC but not for C++\r\n",
      "  gcc -pthread -B /opt/conda/compiler_compat -Wl,--sysroot=/ -Wsign-compare -DNDEBUG -g -fwrapv -O3 -Wall -Wstrict-prototypes -fPIC -I. -I/opt/conda/include/python3.7m -c python/kenlm.cpp -o build/temp.linux-x86_64-3.7/python/kenlm.o -O3 -DNDEBUG -DKENLM_MAX_ORDER=6 -std=c++11 -DHAVE_ZLIB\r\n",
      "  cc1plus: warning: command line option ‘-Wstrict-prototypes’ is valid for C/ObjC but not for C++\r\n",
      "  In file included from ./lm/model.hh:13:0,\r\n",
      "                   from python/kenlm.cpp:253:\r\n",
      "  ./lm/vocab.hh:210:43: warning: dynamic exception specifications are deprecated in C++11 [-Wdeprecated]\r\n",
      "   void MissingUnknown(const Config &config) throw(SpecialWordMissingException);\r\n",
      "                                             ^~~~~\r\n",
      "  ./lm/vocab.hh:211:67: warning: dynamic exception specifications are deprecated in C++11 [-Wdeprecated]\r\n",
      "   void MissingSentenceMarker(const Config &config, const char *str) throw(SpecialWordMissingException);\r\n",
      "                                                                     ^~~~~\r\n",
      "  ./lm/vocab.hh:213:85: warning: dynamic exception specifications are deprecated in C++11 [-Wdeprecated]\r\n",
      "   template <class Vocab> void CheckSpecials(const Config &config, const Vocab &vocab) throw(SpecialWordMissingException) {\r\n",
      "                                                                                       ^~~~~\r\n",
      "  python/kenlm.cpp: In function ‘void __Pyx_ExceptionSave(PyObject**, PyObject**, PyObject**)’:\r\n",
      "  python/kenlm.cpp:5583:21: error: ‘PyThreadState {aka struct _ts}’ has no member named ‘exc_type’; did you mean ‘curexc_type’?\r\n",
      "       *type = tstate->exc_type;\r\n",
      "                       ^~~~~~~~\r\n",
      "                       curexc_type\r\n",
      "  python/kenlm.cpp:5584:22: error: ‘PyThreadState {aka struct _ts}’ has no member named ‘exc_value’; did you mean ‘curexc_value’?\r\n",
      "       *value = tstate->exc_value;\r\n",
      "                        ^~~~~~~~~\r\n",
      "                        curexc_value\r\n",
      "  python/kenlm.cpp:5585:19: error: ‘PyThreadState {aka struct _ts}’ has no member named ‘exc_traceback’; did you mean ‘curexc_traceback’?\r\n",
      "       *tb = tstate->exc_traceback;\r\n",
      "                     ^~~~~~~~~~~~~\r\n",
      "                     curexc_traceback\r\n",
      "  python/kenlm.cpp: In function ‘void __Pyx_ExceptionReset(PyObject*, PyObject*, PyObject*)’:\r\n",
      "  python/kenlm.cpp:5597:24: error: ‘PyThreadState {aka struct _ts}’ has no member named ‘exc_type’; did you mean ‘curexc_type’?\r\n",
      "       tmp_type = tstate->exc_type;\r\n",
      "                          ^~~~~~~~\r\n",
      "                          curexc_type\r\n",
      "  python/kenlm.cpp:5598:25: error: ‘PyThreadState {aka struct _ts}’ has no member named ‘exc_value’; did you mean ‘curexc_value’?\r\n",
      "       tmp_value = tstate->exc_value;\r\n",
      "                           ^~~~~~~~~\r\n",
      "                           curexc_value\r\n",
      "  python/kenlm.cpp:5599:22: error: ‘PyThreadState {aka struct _ts}’ has no member named ‘exc_traceback’; did you mean ‘curexc_traceback’?\r\n",
      "       tmp_tb = tstate->exc_traceback;\r\n",
      "                        ^~~~~~~~~~~~~\r\n",
      "                        curexc_traceback\r\n",
      "  python/kenlm.cpp:5600:13: error: ‘PyThreadState {aka struct _ts}’ has no member named ‘exc_type’; did you mean ‘curexc_type’?\r\n",
      "       tstate->exc_type = type;\r\n",
      "               ^~~~~~~~\r\n",
      "               curexc_type\r\n",
      "  python/kenlm.cpp:5601:13: error: ‘PyThreadState {aka struct _ts}’ has no member named ‘exc_value’; did you mean ‘curexc_value’?\r\n",
      "       tstate->exc_value = value;\r\n",
      "               ^~~~~~~~~\r\n",
      "               curexc_value\r\n",
      "  python/kenlm.cpp:5602:13: error: ‘PyThreadState {aka struct _ts}’ has no member named ‘exc_traceback’; did you mean ‘curexc_traceback’?\r\n",
      "       tstate->exc_traceback = tb;\r\n",
      "               ^~~~~~~~~~~~~\r\n",
      "               curexc_traceback\r\n",
      "  python/kenlm.cpp: In function ‘int __Pyx_GetException(PyObject**, PyObject**, PyObject**)’:\r\n",
      "  python/kenlm.cpp:5645:24: error: ‘PyThreadState {aka struct _ts}’ has no member named ‘exc_type’; did you mean ‘curexc_type’?\r\n",
      "       tmp_type = tstate->exc_type;\r\n",
      "                          ^~~~~~~~\r\n",
      "                          curexc_type\r\n",
      "  python/kenlm.cpp:5646:25: error: ‘PyThreadState {aka struct _ts}’ has no member named ‘exc_value’; did you mean ‘curexc_value’?\r\n",
      "       tmp_value = tstate->exc_value;\r\n",
      "                           ^~~~~~~~~\r\n",
      "                           curexc_value\r\n",
      "  python/kenlm.cpp:5647:22: error: ‘PyThreadState {aka struct _ts}’ has no member named ‘exc_traceback’; did you mean ‘curexc_traceback’?\r\n",
      "       tmp_tb = tstate->exc_traceback;\r\n",
      "                        ^~~~~~~~~~~~~\r\n",
      "                        curexc_traceback\r\n",
      "  python/kenlm.cpp:5648:13: error: ‘PyThreadState {aka struct _ts}’ has no member named ‘exc_type’; did you mean ‘curexc_type’?\r\n",
      "       tstate->exc_type = local_type;\r\n",
      "               ^~~~~~~~\r\n",
      "               curexc_type\r\n",
      "  python/kenlm.cpp:5649:13: error: ‘PyThreadState {aka struct _ts}’ has no member named ‘exc_value’; did you mean ‘curexc_value’?\r\n",
      "       tstate->exc_value = local_value;\r\n",
      "               ^~~~~~~~~\r\n",
      "               curexc_value\r\n",
      "  python/kenlm.cpp:5650:13: error: ‘PyThreadState {aka struct _ts}’ has no member named ‘exc_traceback’; did you mean ‘curexc_traceback’?\r\n",
      "       tstate->exc_traceback = local_tb;\r\n",
      "               ^~~~~~~~~~~~~\r\n",
      "               curexc_traceback\r\n",
      "  python/kenlm.cpp: In function ‘void __Pyx_ExceptionSwap(PyObject**, PyObject**, PyObject**)’:\r\n",
      "  python/kenlm.cpp:6376:24: error: ‘PyThreadState {aka struct _ts}’ has no member named ‘exc_type’; did you mean ‘curexc_type’?\r\n",
      "       tmp_type = tstate->exc_type;\r\n",
      "                          ^~~~~~~~\r\n",
      "                          curexc_type\r\n",
      "  python/kenlm.cpp:6377:25: error: ‘PyThreadState {aka struct _ts}’ has no member named ‘exc_value’; did you mean ‘curexc_value’?\r\n",
      "       tmp_value = tstate->exc_value;\r\n",
      "                           ^~~~~~~~~\r\n",
      "                           curexc_value\r\n",
      "  python/kenlm.cpp:6378:22: error: ‘PyThreadState {aka struct _ts}’ has no member named ‘exc_traceback’; did you mean ‘curexc_traceback’?\r\n",
      "       tmp_tb = tstate->exc_traceback;\r\n",
      "                        ^~~~~~~~~~~~~\r\n",
      "                        curexc_traceback\r\n",
      "  python/kenlm.cpp:6379:13: error: ‘PyThreadState {aka struct _ts}’ has no member named ‘exc_type’; did you mean ‘curexc_type’?\r\n",
      "       tstate->exc_type = *type;\r\n",
      "               ^~~~~~~~\r\n",
      "               curexc_type\r\n",
      "  python/kenlm.cpp:6380:13: error: ‘PyThreadState {aka struct _ts}’ has no member named ‘exc_value’; did you mean ‘curexc_value’?\r\n",
      "       tstate->exc_value = *value;\r\n",
      "               ^~~~~~~~~\r\n",
      "               curexc_value\r\n",
      "  python/kenlm.cpp:6381:13: error: ‘PyThreadState {aka struct _ts}’ has no member named ‘exc_traceback’; did you mean ‘curexc_traceback’?\r\n",
      "       tstate->exc_traceback = *tb;\r\n",
      "               ^~~~~~~~~~~~~\r\n",
      "               curexc_traceback\r\n",
      "  error: command 'gcc' failed with exit status 1\r\n",
      "  ----------------------------------------\u001b[0m\r\n",
      "\u001b[31m  ERROR: Failed building wheel for kenlm\u001b[0m\r\n",
      "\u001b[?25h  Running setup.py clean for kenlm\r\n",
      "Failed to build kenlm\r\n",
      "Installing collected packages: kenlm\r\n",
      "    Running setup.py install for kenlm ... \u001b[?25l-\b \b\\\b \b|\b \b/\b \b-\b \b\\\b \b|\b \b/\b \b-\b \b\\\b \b|\b \b/\b \b-\b \b\\\b \b|\b \b/\b \b-\b \b\\\b \b|\b \b/\b \b-\b \b\\\b \b|\b \b/\b \b-\b \b\\\b \b|\b \b/\b \b-\b \b\\\b \b|\b \b/\b \b-\b \b\\\b \b|\b \b/\b \b-\b \b\\\b \b|\b \b/\b \b-\b \b\\\b \b|\b \b/\b \berror\r\n",
      "\u001b[31m    ERROR: Command errored out with exit status 1:\r\n",
      "     command: /opt/conda/bin/python3.7 -u -c 'import sys, setuptools, tokenize; sys.argv[0] = '\"'\"'/tmp/pip-install-_sn1b_8e/kenlm_33feb0ab709b4e009311494d5788ce9b/setup.py'\"'\"'; __file__='\"'\"'/tmp/pip-install-_sn1b_8e/kenlm_33feb0ab709b4e009311494d5788ce9b/setup.py'\"'\"';f=getattr(tokenize, '\"'\"'open'\"'\"', open)(__file__);code=f.read().replace('\"'\"'\\r\\n'\"'\"', '\"'\"'\\n'\"'\"');f.close();exec(compile(code, __file__, '\"'\"'exec'\"'\"'))' install --record /tmp/pip-record-e4i8z2bk/install-record.txt --single-version-externally-managed --compile --install-headers /opt/conda/include/python3.7m/kenlm\r\n",
      "         cwd: /tmp/pip-install-_sn1b_8e/kenlm_33feb0ab709b4e009311494d5788ce9b/\r\n",
      "    Complete output (269 lines):\r\n",
      "    running install\r\n",
      "    running build\r\n",
      "    running build_ext\r\n",
      "    building 'kenlm' extension\r\n",
      "    creating build/temp.linux-x86_64-3.7\r\n",
      "    creating build/temp.linux-x86_64-3.7/util\r\n",
      "    creating build/temp.linux-x86_64-3.7/lm\r\n",
      "    creating build/temp.linux-x86_64-3.7/util/double-conversion\r\n",
      "    creating build/temp.linux-x86_64-3.7/python\r\n",
      "    gcc -pthread -B /opt/conda/compiler_compat -Wl,--sysroot=/ -Wsign-compare -DNDEBUG -g -fwrapv -O3 -Wall -Wstrict-prototypes -fPIC -I. -I/opt/conda/include/python3.7m -c util/string_piece.cc -o build/temp.linux-x86_64-3.7/util/string_piece.o -O3 -DNDEBUG -DKENLM_MAX_ORDER=6 -std=c++11 -DHAVE_ZLIB\r\n",
      "    cc1plus: warning: command line option ‘-Wstrict-prototypes’ is valid for C/ObjC but not for C++\r\n",
      "    gcc -pthread -B /opt/conda/compiler_compat -Wl,--sysroot=/ -Wsign-compare -DNDEBUG -g -fwrapv -O3 -Wall -Wstrict-prototypes -fPIC -I. -I/opt/conda/include/python3.7m -c util/file.cc -o build/temp.linux-x86_64-3.7/util/file.o -O3 -DNDEBUG -DKENLM_MAX_ORDER=6 -std=c++11 -DHAVE_ZLIB\r\n",
      "    cc1plus: warning: command line option ‘-Wstrict-prototypes’ is valid for C/ObjC but not for C++\r\n",
      "    gcc -pthread -B /opt/conda/compiler_compat -Wl,--sysroot=/ -Wsign-compare -DNDEBUG -g -fwrapv -O3 -Wall -Wstrict-prototypes -fPIC -I. -I/opt/conda/include/python3.7m -c util/pool.cc -o build/temp.linux-x86_64-3.7/util/pool.o -O3 -DNDEBUG -DKENLM_MAX_ORDER=6 -std=c++11 -DHAVE_ZLIB\r\n",
      "    cc1plus: warning: command line option ‘-Wstrict-prototypes’ is valid for C/ObjC but not for C++\r\n",
      "    gcc -pthread -B /opt/conda/compiler_compat -Wl,--sysroot=/ -Wsign-compare -DNDEBUG -g -fwrapv -O3 -Wall -Wstrict-prototypes -fPIC -I. -I/opt/conda/include/python3.7m -c util/murmur_hash.cc -o build/temp.linux-x86_64-3.7/util/murmur_hash.o -O3 -DNDEBUG -DKENLM_MAX_ORDER=6 -std=c++11 -DHAVE_ZLIB\r\n",
      "    cc1plus: warning: command line option ‘-Wstrict-prototypes’ is valid for C/ObjC but not for C++\r\n",
      "    gcc -pthread -B /opt/conda/compiler_compat -Wl,--sysroot=/ -Wsign-compare -DNDEBUG -g -fwrapv -O3 -Wall -Wstrict-prototypes -fPIC -I. -I/opt/conda/include/python3.7m -c util/integer_to_string.cc -o build/temp.linux-x86_64-3.7/util/integer_to_string.o -O3 -DNDEBUG -DKENLM_MAX_ORDER=6 -std=c++11 -DHAVE_ZLIB\r\n",
      "    cc1plus: warning: command line option ‘-Wstrict-prototypes’ is valid for C/ObjC but not for C++\r\n",
      "    gcc -pthread -B /opt/conda/compiler_compat -Wl,--sysroot=/ -Wsign-compare -DNDEBUG -g -fwrapv -O3 -Wall -Wstrict-prototypes -fPIC -I. -I/opt/conda/include/python3.7m -c util/scoped.cc -o build/temp.linux-x86_64-3.7/util/scoped.o -O3 -DNDEBUG -DKENLM_MAX_ORDER=6 -std=c++11 -DHAVE_ZLIB\r\n",
      "    cc1plus: warning: command line option ‘-Wstrict-prototypes’ is valid for C/ObjC but not for C++\r\n",
      "    gcc -pthread -B /opt/conda/compiler_compat -Wl,--sysroot=/ -Wsign-compare -DNDEBUG -g -fwrapv -O3 -Wall -Wstrict-prototypes -fPIC -I. -I/opt/conda/include/python3.7m -c util/ersatz_progress.cc -o build/temp.linux-x86_64-3.7/util/ersatz_progress.o -O3 -DNDEBUG -DKENLM_MAX_ORDER=6 -std=c++11 -DHAVE_ZLIB\r\n",
      "    cc1plus: warning: command line option ‘-Wstrict-prototypes’ is valid for C/ObjC but not for C++\r\n",
      "    gcc -pthread -B /opt/conda/compiler_compat -Wl,--sysroot=/ -Wsign-compare -DNDEBUG -g -fwrapv -O3 -Wall -Wstrict-prototypes -fPIC -I. -I/opt/conda/include/python3.7m -c util/mmap.cc -o build/temp.linux-x86_64-3.7/util/mmap.o -O3 -DNDEBUG -DKENLM_MAX_ORDER=6 -std=c++11 -DHAVE_ZLIB\r\n",
      "    cc1plus: warning: command line option ‘-Wstrict-prototypes’ is valid for C/ObjC but not for C++\r\n",
      "    gcc -pthread -B /opt/conda/compiler_compat -Wl,--sysroot=/ -Wsign-compare -DNDEBUG -g -fwrapv -O3 -Wall -Wstrict-prototypes -fPIC -I. -I/opt/conda/include/python3.7m -c util/float_to_string.cc -o build/temp.linux-x86_64-3.7/util/float_to_string.o -O3 -DNDEBUG -DKENLM_MAX_ORDER=6 -std=c++11 -DHAVE_ZLIB\r\n",
      "    cc1plus: warning: command line option ‘-Wstrict-prototypes’ is valid for C/ObjC but not for C++\r\n",
      "    gcc -pthread -B /opt/conda/compiler_compat -Wl,--sysroot=/ -Wsign-compare -DNDEBUG -g -fwrapv -O3 -Wall -Wstrict-prototypes -fPIC -I. -I/opt/conda/include/python3.7m -c util/read_compressed.cc -o build/temp.linux-x86_64-3.7/util/read_compressed.o -O3 -DNDEBUG -DKENLM_MAX_ORDER=6 -std=c++11 -DHAVE_ZLIB\r\n",
      "    cc1plus: warning: command line option ‘-Wstrict-prototypes’ is valid for C/ObjC but not for C++\r\n",
      "    gcc -pthread -B /opt/conda/compiler_compat -Wl,--sysroot=/ -Wsign-compare -DNDEBUG -g -fwrapv -O3 -Wall -Wstrict-prototypes -fPIC -I. -I/opt/conda/include/python3.7m -c util/exception.cc -o build/temp.linux-x86_64-3.7/util/exception.o -O3 -DNDEBUG -DKENLM_MAX_ORDER=6 -std=c++11 -DHAVE_ZLIB\r\n",
      "    cc1plus: warning: command line option ‘-Wstrict-prototypes’ is valid for C/ObjC but not for C++\r\n",
      "    gcc -pthread -B /opt/conda/compiler_compat -Wl,--sysroot=/ -Wsign-compare -DNDEBUG -g -fwrapv -O3 -Wall -Wstrict-prototypes -fPIC -I. -I/opt/conda/include/python3.7m -c util/bit_packing.cc -o build/temp.linux-x86_64-3.7/util/bit_packing.o -O3 -DNDEBUG -DKENLM_MAX_ORDER=6 -std=c++11 -DHAVE_ZLIB\r\n",
      "    cc1plus: warning: command line option ‘-Wstrict-prototypes’ is valid for C/ObjC but not for C++\r\n",
      "    gcc -pthread -B /opt/conda/compiler_compat -Wl,--sysroot=/ -Wsign-compare -DNDEBUG -g -fwrapv -O3 -Wall -Wstrict-prototypes -fPIC -I. -I/opt/conda/include/python3.7m -c util/spaces.cc -o build/temp.linux-x86_64-3.7/util/spaces.o -O3 -DNDEBUG -DKENLM_MAX_ORDER=6 -std=c++11 -DHAVE_ZLIB\r\n",
      "    cc1plus: warning: command line option ‘-Wstrict-prototypes’ is valid for C/ObjC but not for C++\r\n",
      "    gcc -pthread -B /opt/conda/compiler_compat -Wl,--sysroot=/ -Wsign-compare -DNDEBUG -g -fwrapv -O3 -Wall -Wstrict-prototypes -fPIC -I. -I/opt/conda/include/python3.7m -c util/usage.cc -o build/temp.linux-x86_64-3.7/util/usage.o -O3 -DNDEBUG -DKENLM_MAX_ORDER=6 -std=c++11 -DHAVE_ZLIB\r\n",
      "    cc1plus: warning: command line option ‘-Wstrict-prototypes’ is valid for C/ObjC but not for C++\r\n",
      "    gcc -pthread -B /opt/conda/compiler_compat -Wl,--sysroot=/ -Wsign-compare -DNDEBUG -g -fwrapv -O3 -Wall -Wstrict-prototypes -fPIC -I. -I/opt/conda/include/python3.7m -c util/file_piece.cc -o build/temp.linux-x86_64-3.7/util/file_piece.o -O3 -DNDEBUG -DKENLM_MAX_ORDER=6 -std=c++11 -DHAVE_ZLIB\r\n",
      "    cc1plus: warning: command line option ‘-Wstrict-prototypes’ is valid for C/ObjC but not for C++\r\n",
      "    gcc -pthread -B /opt/conda/compiler_compat -Wl,--sysroot=/ -Wsign-compare -DNDEBUG -g -fwrapv -O3 -Wall -Wstrict-prototypes -fPIC -I. -I/opt/conda/include/python3.7m -c util/parallel_read.cc -o build/temp.linux-x86_64-3.7/util/parallel_read.o -O3 -DNDEBUG -DKENLM_MAX_ORDER=6 -std=c++11 -DHAVE_ZLIB\r\n",
      "    cc1plus: warning: command line option ‘-Wstrict-prototypes’ is valid for C/ObjC but not for C++\r\n",
      "    gcc -pthread -B /opt/conda/compiler_compat -Wl,--sysroot=/ -Wsign-compare -DNDEBUG -g -fwrapv -O3 -Wall -Wstrict-prototypes -fPIC -I. -I/opt/conda/include/python3.7m -c lm/binary_format.cc -o build/temp.linux-x86_64-3.7/lm/binary_format.o -O3 -DNDEBUG -DKENLM_MAX_ORDER=6 -std=c++11 -DHAVE_ZLIB\r\n",
      "    cc1plus: warning: command line option ‘-Wstrict-prototypes’ is valid for C/ObjC but not for C++\r\n",
      "    gcc -pthread -B /opt/conda/compiler_compat -Wl,--sysroot=/ -Wsign-compare -DNDEBUG -g -fwrapv -O3 -Wall -Wstrict-prototypes -fPIC -I. -I/opt/conda/include/python3.7m -c lm/model.cc -o build/temp.linux-x86_64-3.7/lm/model.o -O3 -DNDEBUG -DKENLM_MAX_ORDER=6 -std=c++11 -DHAVE_ZLIB\r\n",
      "    cc1plus: warning: command line option ‘-Wstrict-prototypes’ is valid for C/ObjC but not for C++\r\n",
      "    In file included from ./lm/model.hh:13:0,\r\n",
      "                     from lm/model.cc:1:\r\n",
      "    ./lm/vocab.hh:210:43: warning: dynamic exception specifications are deprecated in C++11 [-Wdeprecated]\r\n",
      "     void MissingUnknown(const Config &config) throw(SpecialWordMissingException);\r\n",
      "                                               ^~~~~\r\n",
      "    ./lm/vocab.hh:211:67: warning: dynamic exception specifications are deprecated in C++11 [-Wdeprecated]\r\n",
      "     void MissingSentenceMarker(const Config &config, const char *str) throw(SpecialWordMissingException);\r\n",
      "                                                                       ^~~~~\r\n",
      "    ./lm/vocab.hh:213:85: warning: dynamic exception specifications are deprecated in C++11 [-Wdeprecated]\r\n",
      "     template <class Vocab> void CheckSpecials(const Config &config, const Vocab &vocab) throw(SpecialWordMissingException) {\r\n",
      "                                                                                         ^~~~~\r\n",
      "    gcc -pthread -B /opt/conda/compiler_compat -Wl,--sysroot=/ -Wsign-compare -DNDEBUG -g -fwrapv -O3 -Wall -Wstrict-prototypes -fPIC -I. -I/opt/conda/include/python3.7m -c lm/search_trie.cc -o build/temp.linux-x86_64-3.7/lm/search_trie.o -O3 -DNDEBUG -DKENLM_MAX_ORDER=6 -std=c++11 -DHAVE_ZLIB\r\n",
      "    cc1plus: warning: command line option ‘-Wstrict-prototypes’ is valid for C/ObjC but not for C++\r\n",
      "    In file included from lm/search_trie.cc:12:0:\r\n",
      "    ./lm/vocab.hh:210:43: warning: dynamic exception specifications are deprecated in C++11 [-Wdeprecated]\r\n",
      "     void MissingUnknown(const Config &config) throw(SpecialWordMissingException);\r\n",
      "                                               ^~~~~\r\n",
      "    ./lm/vocab.hh:211:67: warning: dynamic exception specifications are deprecated in C++11 [-Wdeprecated]\r\n",
      "     void MissingSentenceMarker(const Config &config, const char *str) throw(SpecialWordMissingException);\r\n",
      "                                                                       ^~~~~\r\n",
      "    ./lm/vocab.hh:213:85: warning: dynamic exception specifications are deprecated in C++11 [-Wdeprecated]\r\n",
      "     template <class Vocab> void CheckSpecials(const Config &config, const Vocab &vocab) throw(SpecialWordMissingException) {\r\n",
      "                                                                                         ^~~~~\r\n",
      "    gcc -pthread -B /opt/conda/compiler_compat -Wl,--sysroot=/ -Wsign-compare -DNDEBUG -g -fwrapv -O3 -Wall -Wstrict-prototypes -fPIC -I. -I/opt/conda/include/python3.7m -c lm/trie_sort.cc -o build/temp.linux-x86_64-3.7/lm/trie_sort.o -O3 -DNDEBUG -DKENLM_MAX_ORDER=6 -std=c++11 -DHAVE_ZLIB\r\n",
      "    cc1plus: warning: command line option ‘-Wstrict-prototypes’ is valid for C/ObjC but not for C++\r\n",
      "    In file included from lm/trie_sort.cc:6:0:\r\n",
      "    ./lm/vocab.hh:210:43: warning: dynamic exception specifications are deprecated in C++11 [-Wdeprecated]\r\n",
      "     void MissingUnknown(const Config &config) throw(SpecialWordMissingException);\r\n",
      "                                               ^~~~~\r\n",
      "    ./lm/vocab.hh:211:67: warning: dynamic exception specifications are deprecated in C++11 [-Wdeprecated]\r\n",
      "     void MissingSentenceMarker(const Config &config, const char *str) throw(SpecialWordMissingException);\r\n",
      "                                                                       ^~~~~\r\n",
      "    ./lm/vocab.hh:213:85: warning: dynamic exception specifications are deprecated in C++11 [-Wdeprecated]\r\n",
      "     template <class Vocab> void CheckSpecials(const Config &config, const Vocab &vocab) throw(SpecialWordMissingException) {\r\n",
      "                                                                                         ^~~~~\r\n",
      "    gcc -pthread -B /opt/conda/compiler_compat -Wl,--sysroot=/ -Wsign-compare -DNDEBUG -g -fwrapv -O3 -Wall -Wstrict-prototypes -fPIC -I. -I/opt/conda/include/python3.7m -c lm/vocab.cc -o build/temp.linux-x86_64-3.7/lm/vocab.o -O3 -DNDEBUG -DKENLM_MAX_ORDER=6 -std=c++11 -DHAVE_ZLIB\r\n",
      "    cc1plus: warning: command line option ‘-Wstrict-prototypes’ is valid for C/ObjC but not for C++\r\n",
      "    In file included from lm/vocab.cc:1:0:\r\n",
      "    ./lm/vocab.hh:210:43: warning: dynamic exception specifications are deprecated in C++11 [-Wdeprecated]\r\n",
      "     void MissingUnknown(const Config &config) throw(SpecialWordMissingException);\r\n",
      "                                               ^~~~~\r\n",
      "    ./lm/vocab.hh:211:67: warning: dynamic exception specifications are deprecated in C++11 [-Wdeprecated]\r\n",
      "     void MissingSentenceMarker(const Config &config, const char *str) throw(SpecialWordMissingException);\r\n",
      "                                                                       ^~~~~\r\n",
      "    ./lm/vocab.hh:213:85: warning: dynamic exception specifications are deprecated in C++11 [-Wdeprecated]\r\n",
      "     template <class Vocab> void CheckSpecials(const Config &config, const Vocab &vocab) throw(SpecialWordMissingException) {\r\n",
      "                                                                                         ^~~~~\r\n",
      "    lm/vocab.cc:285:43: warning: dynamic exception specifications are deprecated in C++11 [-Wdeprecated]\r\n",
      "     void MissingUnknown(const Config &config) throw(SpecialWordMissingException) {\r\n",
      "                                               ^~~~~\r\n",
      "    lm/vocab.cc:297:67: warning: dynamic exception specifications are deprecated in C++11 [-Wdeprecated]\r\n",
      "     void MissingSentenceMarker(const Config &config, const char *str) throw(SpecialWordMissingException) {\r\n",
      "                                                                       ^~~~~\r\n",
      "    gcc -pthread -B /opt/conda/compiler_compat -Wl,--sysroot=/ -Wsign-compare -DNDEBUG -g -fwrapv -O3 -Wall -Wstrict-prototypes -fPIC -I. -I/opt/conda/include/python3.7m -c lm/search_hashed.cc -o build/temp.linux-x86_64-3.7/lm/search_hashed.o -O3 -DNDEBUG -DKENLM_MAX_ORDER=6 -std=c++11 -DHAVE_ZLIB\r\n",
      "    cc1plus: warning: command line option ‘-Wstrict-prototypes’ is valid for C/ObjC but not for C++\r\n",
      "    In file included from ./lm/model.hh:13:0,\r\n",
      "                     from lm/search_hashed.cc:6:\r\n",
      "    ./lm/vocab.hh:210:43: warning: dynamic exception specifications are deprecated in C++11 [-Wdeprecated]\r\n",
      "     void MissingUnknown(const Config &config) throw(SpecialWordMissingException);\r\n",
      "                                               ^~~~~\r\n",
      "    ./lm/vocab.hh:211:67: warning: dynamic exception specifications are deprecated in C++11 [-Wdeprecated]\r\n",
      "     void MissingSentenceMarker(const Config &config, const char *str) throw(SpecialWordMissingException);\r\n",
      "                                                                       ^~~~~\r\n",
      "    ./lm/vocab.hh:213:85: warning: dynamic exception specifications are deprecated in C++11 [-Wdeprecated]\r\n",
      "     template <class Vocab> void CheckSpecials(const Config &config, const Vocab &vocab) throw(SpecialWordMissingException) {\r\n",
      "                                                                                         ^~~~~\r\n",
      "    gcc -pthread -B /opt/conda/compiler_compat -Wl,--sysroot=/ -Wsign-compare -DNDEBUG -g -fwrapv -O3 -Wall -Wstrict-prototypes -fPIC -I. -I/opt/conda/include/python3.7m -c lm/trie.cc -o build/temp.linux-x86_64-3.7/lm/trie.o -O3 -DNDEBUG -DKENLM_MAX_ORDER=6 -std=c++11 -DHAVE_ZLIB\r\n",
      "    cc1plus: warning: command line option ‘-Wstrict-prototypes’ is valid for C/ObjC but not for C++\r\n",
      "    gcc -pthread -B /opt/conda/compiler_compat -Wl,--sysroot=/ -Wsign-compare -DNDEBUG -g -fwrapv -O3 -Wall -Wstrict-prototypes -fPIC -I. -I/opt/conda/include/python3.7m -c lm/virtual_interface.cc -o build/temp.linux-x86_64-3.7/lm/virtual_interface.o -O3 -DNDEBUG -DKENLM_MAX_ORDER=6 -std=c++11 -DHAVE_ZLIB\r\n",
      "    cc1plus: warning: command line option ‘-Wstrict-prototypes’ is valid for C/ObjC but not for C++\r\n",
      "    gcc -pthread -B /opt/conda/compiler_compat -Wl,--sysroot=/ -Wsign-compare -DNDEBUG -g -fwrapv -O3 -Wall -Wstrict-prototypes -fPIC -I. -I/opt/conda/include/python3.7m -c lm/sizes.cc -o build/temp.linux-x86_64-3.7/lm/sizes.o -O3 -DNDEBUG -DKENLM_MAX_ORDER=6 -std=c++11 -DHAVE_ZLIB\r\n",
      "    cc1plus: warning: command line option ‘-Wstrict-prototypes’ is valid for C/ObjC but not for C++\r\n",
      "    In file included from ./lm/model.hh:13:0,\r\n",
      "                     from lm/sizes.cc:2:\r\n",
      "    ./lm/vocab.hh:210:43: warning: dynamic exception specifications are deprecated in C++11 [-Wdeprecated]\r\n",
      "     void MissingUnknown(const Config &config) throw(SpecialWordMissingException);\r\n",
      "                                               ^~~~~\r\n",
      "    ./lm/vocab.hh:211:67: warning: dynamic exception specifications are deprecated in C++11 [-Wdeprecated]\r\n",
      "     void MissingSentenceMarker(const Config &config, const char *str) throw(SpecialWordMissingException);\r\n",
      "                                                                       ^~~~~\r\n",
      "    ./lm/vocab.hh:213:85: warning: dynamic exception specifications are deprecated in C++11 [-Wdeprecated]\r\n",
      "     template <class Vocab> void CheckSpecials(const Config &config, const Vocab &vocab) throw(SpecialWordMissingException) {\r\n",
      "                                                                                         ^~~~~\r\n",
      "    gcc -pthread -B /opt/conda/compiler_compat -Wl,--sysroot=/ -Wsign-compare -DNDEBUG -g -fwrapv -O3 -Wall -Wstrict-prototypes -fPIC -I. -I/opt/conda/include/python3.7m -c lm/config.cc -o build/temp.linux-x86_64-3.7/lm/config.o -O3 -DNDEBUG -DKENLM_MAX_ORDER=6 -std=c++11 -DHAVE_ZLIB\r\n",
      "    cc1plus: warning: command line option ‘-Wstrict-prototypes’ is valid for C/ObjC but not for C++\r\n",
      "    gcc -pthread -B /opt/conda/compiler_compat -Wl,--sysroot=/ -Wsign-compare -DNDEBUG -g -fwrapv -O3 -Wall -Wstrict-prototypes -fPIC -I. -I/opt/conda/include/python3.7m -c lm/bhiksha.cc -o build/temp.linux-x86_64-3.7/lm/bhiksha.o -O3 -DNDEBUG -DKENLM_MAX_ORDER=6 -std=c++11 -DHAVE_ZLIB\r\n",
      "    cc1plus: warning: command line option ‘-Wstrict-prototypes’ is valid for C/ObjC but not for C++\r\n",
      "    gcc -pthread -B /opt/conda/compiler_compat -Wl,--sysroot=/ -Wsign-compare -DNDEBUG -g -fwrapv -O3 -Wall -Wstrict-prototypes -fPIC -I. -I/opt/conda/include/python3.7m -c lm/quantize.cc -o build/temp.linux-x86_64-3.7/lm/quantize.o -O3 -DNDEBUG -DKENLM_MAX_ORDER=6 -std=c++11 -DHAVE_ZLIB\r\n",
      "    cc1plus: warning: command line option ‘-Wstrict-prototypes’ is valid for C/ObjC but not for C++\r\n",
      "    gcc -pthread -B /opt/conda/compiler_compat -Wl,--sysroot=/ -Wsign-compare -DNDEBUG -g -fwrapv -O3 -Wall -Wstrict-prototypes -fPIC -I. -I/opt/conda/include/python3.7m -c lm/lm_exception.cc -o build/temp.linux-x86_64-3.7/lm/lm_exception.o -O3 -DNDEBUG -DKENLM_MAX_ORDER=6 -std=c++11 -DHAVE_ZLIB\r\n",
      "    cc1plus: warning: command line option ‘-Wstrict-prototypes’ is valid for C/ObjC but not for C++\r\n",
      "    gcc -pthread -B /opt/conda/compiler_compat -Wl,--sysroot=/ -Wsign-compare -DNDEBUG -g -fwrapv -O3 -Wall -Wstrict-prototypes -fPIC -I. -I/opt/conda/include/python3.7m -c lm/read_arpa.cc -o build/temp.linux-x86_64-3.7/lm/read_arpa.o -O3 -DNDEBUG -DKENLM_MAX_ORDER=6 -std=c++11 -DHAVE_ZLIB\r\n",
      "    cc1plus: warning: command line option ‘-Wstrict-prototypes’ is valid for C/ObjC but not for C++\r\n",
      "    gcc -pthread -B /opt/conda/compiler_compat -Wl,--sysroot=/ -Wsign-compare -DNDEBUG -g -fwrapv -O3 -Wall -Wstrict-prototypes -fPIC -I. -I/opt/conda/include/python3.7m -c lm/value_build.cc -o build/temp.linux-x86_64-3.7/lm/value_build.o -O3 -DNDEBUG -DKENLM_MAX_ORDER=6 -std=c++11 -DHAVE_ZLIB\r\n",
      "    cc1plus: warning: command line option ‘-Wstrict-prototypes’ is valid for C/ObjC but not for C++\r\n",
      "    In file included from ./lm/model.hh:13:0,\r\n",
      "                     from lm/value_build.cc:3:\r\n",
      "    ./lm/vocab.hh:210:43: warning: dynamic exception specifications are deprecated in C++11 [-Wdeprecated]\r\n",
      "     void MissingUnknown(const Config &config) throw(SpecialWordMissingException);\r\n",
      "                                               ^~~~~\r\n",
      "    ./lm/vocab.hh:211:67: warning: dynamic exception specifications are deprecated in C++11 [-Wdeprecated]\r\n",
      "     void MissingSentenceMarker(const Config &config, const char *str) throw(SpecialWordMissingException);\r\n",
      "                                                                       ^~~~~\r\n",
      "    ./lm/vocab.hh:213:85: warning: dynamic exception specifications are deprecated in C++11 [-Wdeprecated]\r\n",
      "     template <class Vocab> void CheckSpecials(const Config &config, const Vocab &vocab) throw(SpecialWordMissingException) {\r\n",
      "                                                                                         ^~~~~\r\n",
      "    gcc -pthread -B /opt/conda/compiler_compat -Wl,--sysroot=/ -Wsign-compare -DNDEBUG -g -fwrapv -O3 -Wall -Wstrict-prototypes -fPIC -I. -I/opt/conda/include/python3.7m -c util/double-conversion/strtod.cc -o build/temp.linux-x86_64-3.7/util/double-conversion/strtod.o -O3 -DNDEBUG -DKENLM_MAX_ORDER=6 -std=c++11 -DHAVE_ZLIB\r\n",
      "    cc1plus: warning: command line option ‘-Wstrict-prototypes’ is valid for C/ObjC but not for C++\r\n",
      "    gcc -pthread -B /opt/conda/compiler_compat -Wl,--sysroot=/ -Wsign-compare -DNDEBUG -g -fwrapv -O3 -Wall -Wstrict-prototypes -fPIC -I. -I/opt/conda/include/python3.7m -c util/double-conversion/cached-powers.cc -o build/temp.linux-x86_64-3.7/util/double-conversion/cached-powers.o -O3 -DNDEBUG -DKENLM_MAX_ORDER=6 -std=c++11 -DHAVE_ZLIB\r\n",
      "    cc1plus: warning: command line option ‘-Wstrict-prototypes’ is valid for C/ObjC but not for C++\r\n",
      "    gcc -pthread -B /opt/conda/compiler_compat -Wl,--sysroot=/ -Wsign-compare -DNDEBUG -g -fwrapv -O3 -Wall -Wstrict-prototypes -fPIC -I. -I/opt/conda/include/python3.7m -c util/double-conversion/bignum-dtoa.cc -o build/temp.linux-x86_64-3.7/util/double-conversion/bignum-dtoa.o -O3 -DNDEBUG -DKENLM_MAX_ORDER=6 -std=c++11 -DHAVE_ZLIB\r\n",
      "    cc1plus: warning: command line option ‘-Wstrict-prototypes’ is valid for C/ObjC but not for C++\r\n",
      "    gcc -pthread -B /opt/conda/compiler_compat -Wl,--sysroot=/ -Wsign-compare -DNDEBUG -g -fwrapv -O3 -Wall -Wstrict-prototypes -fPIC -I. -I/opt/conda/include/python3.7m -c util/double-conversion/double-conversion.cc -o build/temp.linux-x86_64-3.7/util/double-conversion/double-conversion.o -O3 -DNDEBUG -DKENLM_MAX_ORDER=6 -std=c++11 -DHAVE_ZLIB\r\n",
      "    cc1plus: warning: command line option ‘-Wstrict-prototypes’ is valid for C/ObjC but not for C++\r\n",
      "    gcc -pthread -B /opt/conda/compiler_compat -Wl,--sysroot=/ -Wsign-compare -DNDEBUG -g -fwrapv -O3 -Wall -Wstrict-prototypes -fPIC -I. -I/opt/conda/include/python3.7m -c util/double-conversion/fixed-dtoa.cc -o build/temp.linux-x86_64-3.7/util/double-conversion/fixed-dtoa.o -O3 -DNDEBUG -DKENLM_MAX_ORDER=6 -std=c++11 -DHAVE_ZLIB\r\n",
      "    cc1plus: warning: command line option ‘-Wstrict-prototypes’ is valid for C/ObjC but not for C++\r\n",
      "    gcc -pthread -B /opt/conda/compiler_compat -Wl,--sysroot=/ -Wsign-compare -DNDEBUG -g -fwrapv -O3 -Wall -Wstrict-prototypes -fPIC -I. -I/opt/conda/include/python3.7m -c util/double-conversion/fast-dtoa.cc -o build/temp.linux-x86_64-3.7/util/double-conversion/fast-dtoa.o -O3 -DNDEBUG -DKENLM_MAX_ORDER=6 -std=c++11 -DHAVE_ZLIB\r\n",
      "    cc1plus: warning: command line option ‘-Wstrict-prototypes’ is valid for C/ObjC but not for C++\r\n",
      "    gcc -pthread -B /opt/conda/compiler_compat -Wl,--sysroot=/ -Wsign-compare -DNDEBUG -g -fwrapv -O3 -Wall -Wstrict-prototypes -fPIC -I. -I/opt/conda/include/python3.7m -c util/double-conversion/bignum.cc -o build/temp.linux-x86_64-3.7/util/double-conversion/bignum.o -O3 -DNDEBUG -DKENLM_MAX_ORDER=6 -std=c++11 -DHAVE_ZLIB\r\n",
      "    cc1plus: warning: command line option ‘-Wstrict-prototypes’ is valid for C/ObjC but not for C++\r\n",
      "    gcc -pthread -B /opt/conda/compiler_compat -Wl,--sysroot=/ -Wsign-compare -DNDEBUG -g -fwrapv -O3 -Wall -Wstrict-prototypes -fPIC -I. -I/opt/conda/include/python3.7m -c util/double-conversion/diy-fp.cc -o build/temp.linux-x86_64-3.7/util/double-conversion/diy-fp.o -O3 -DNDEBUG -DKENLM_MAX_ORDER=6 -std=c++11 -DHAVE_ZLIB\r\n",
      "    cc1plus: warning: command line option ‘-Wstrict-prototypes’ is valid for C/ObjC but not for C++\r\n",
      "    gcc -pthread -B /opt/conda/compiler_compat -Wl,--sysroot=/ -Wsign-compare -DNDEBUG -g -fwrapv -O3 -Wall -Wstrict-prototypes -fPIC -I. -I/opt/conda/include/python3.7m -c python/kenlm.cpp -o build/temp.linux-x86_64-3.7/python/kenlm.o -O3 -DNDEBUG -DKENLM_MAX_ORDER=6 -std=c++11 -DHAVE_ZLIB\r\n",
      "    cc1plus: warning: command line option ‘-Wstrict-prototypes’ is valid for C/ObjC but not for C++\r\n",
      "    In file included from ./lm/model.hh:13:0,\r\n",
      "                     from python/kenlm.cpp:253:\r\n",
      "    ./lm/vocab.hh:210:43: warning: dynamic exception specifications are deprecated in C++11 [-Wdeprecated]\r\n",
      "     void MissingUnknown(const Config &config) throw(SpecialWordMissingException);\r\n",
      "                                               ^~~~~\r\n",
      "    ./lm/vocab.hh:211:67: warning: dynamic exception specifications are deprecated in C++11 [-Wdeprecated]\r\n",
      "     void MissingSentenceMarker(const Config &config, const char *str) throw(SpecialWordMissingException);\r\n",
      "                                                                       ^~~~~\r\n",
      "    ./lm/vocab.hh:213:85: warning: dynamic exception specifications are deprecated in C++11 [-Wdeprecated]\r\n",
      "     template <class Vocab> void CheckSpecials(const Config &config, const Vocab &vocab) throw(SpecialWordMissingException) {\r\n",
      "                                                                                         ^~~~~\r\n",
      "    python/kenlm.cpp: In function ‘void __Pyx_ExceptionSave(PyObject**, PyObject**, PyObject**)’:\r\n",
      "    python/kenlm.cpp:5583:21: error: ‘PyThreadState {aka struct _ts}’ has no member named ‘exc_type’; did you mean ‘curexc_type’?\r\n",
      "         *type = tstate->exc_type;\r\n",
      "                         ^~~~~~~~\r\n",
      "                         curexc_type\r\n",
      "    python/kenlm.cpp:5584:22: error: ‘PyThreadState {aka struct _ts}’ has no member named ‘exc_value’; did you mean ‘curexc_value’?\r\n",
      "         *value = tstate->exc_value;\r\n",
      "                          ^~~~~~~~~\r\n",
      "                          curexc_value\r\n",
      "    python/kenlm.cpp:5585:19: error: ‘PyThreadState {aka struct _ts}’ has no member named ‘exc_traceback’; did you mean ‘curexc_traceback’?\r\n",
      "         *tb = tstate->exc_traceback;\r\n",
      "                       ^~~~~~~~~~~~~\r\n",
      "                       curexc_traceback\r\n",
      "    python/kenlm.cpp: In function ‘void __Pyx_ExceptionReset(PyObject*, PyObject*, PyObject*)’:\r\n",
      "    python/kenlm.cpp:5597:24: error: ‘PyThreadState {aka struct _ts}’ has no member named ‘exc_type’; did you mean ‘curexc_type’?\r\n",
      "         tmp_type = tstate->exc_type;\r\n",
      "                            ^~~~~~~~\r\n",
      "                            curexc_type\r\n",
      "    python/kenlm.cpp:5598:25: error: ‘PyThreadState {aka struct _ts}’ has no member named ‘exc_value’; did you mean ‘curexc_value’?\r\n",
      "         tmp_value = tstate->exc_value;\r\n",
      "                             ^~~~~~~~~\r\n",
      "                             curexc_value\r\n",
      "    python/kenlm.cpp:5599:22: error: ‘PyThreadState {aka struct _ts}’ has no member named ‘exc_traceback’; did you mean ‘curexc_traceback’?\r\n",
      "         tmp_tb = tstate->exc_traceback;\r\n",
      "                          ^~~~~~~~~~~~~\r\n",
      "                          curexc_traceback\r\n",
      "    python/kenlm.cpp:5600:13: error: ‘PyThreadState {aka struct _ts}’ has no member named ‘exc_type’; did you mean ‘curexc_type’?\r\n",
      "         tstate->exc_type = type;\r\n",
      "                 ^~~~~~~~\r\n",
      "                 curexc_type\r\n",
      "    python/kenlm.cpp:5601:13: error: ‘PyThreadState {aka struct _ts}’ has no member named ‘exc_value’; did you mean ‘curexc_value’?\r\n",
      "         tstate->exc_value = value;\r\n",
      "                 ^~~~~~~~~\r\n",
      "                 curexc_value\r\n",
      "    python/kenlm.cpp:5602:13: error: ‘PyThreadState {aka struct _ts}’ has no member named ‘exc_traceback’; did you mean ‘curexc_traceback’?\r\n",
      "         tstate->exc_traceback = tb;\r\n",
      "                 ^~~~~~~~~~~~~\r\n",
      "                 curexc_traceback\r\n",
      "    python/kenlm.cpp: In function ‘int __Pyx_GetException(PyObject**, PyObject**, PyObject**)’:\r\n",
      "    python/kenlm.cpp:5645:24: error: ‘PyThreadState {aka struct _ts}’ has no member named ‘exc_type’; did you mean ‘curexc_type’?\r\n",
      "         tmp_type = tstate->exc_type;\r\n",
      "                            ^~~~~~~~\r\n",
      "                            curexc_type\r\n",
      "    python/kenlm.cpp:5646:25: error: ‘PyThreadState {aka struct _ts}’ has no member named ‘exc_value’; did you mean ‘curexc_value’?\r\n",
      "         tmp_value = tstate->exc_value;\r\n",
      "                             ^~~~~~~~~\r\n",
      "                             curexc_value\r\n",
      "    python/kenlm.cpp:5647:22: error: ‘PyThreadState {aka struct _ts}’ has no member named ‘exc_traceback’; did you mean ‘curexc_traceback’?\r\n",
      "         tmp_tb = tstate->exc_traceback;\r\n",
      "                          ^~~~~~~~~~~~~\r\n",
      "                          curexc_traceback\r\n",
      "    python/kenlm.cpp:5648:13: error: ‘PyThreadState {aka struct _ts}’ has no member named ‘exc_type’; did you mean ‘curexc_type’?\r\n",
      "         tstate->exc_type = local_type;\r\n",
      "                 ^~~~~~~~\r\n",
      "                 curexc_type\r\n",
      "    python/kenlm.cpp:5649:13: error: ‘PyThreadState {aka struct _ts}’ has no member named ‘exc_value’; did you mean ‘curexc_value’?\r\n",
      "         tstate->exc_value = local_value;\r\n",
      "                 ^~~~~~~~~\r\n",
      "                 curexc_value\r\n",
      "    python/kenlm.cpp:5650:13: error: ‘PyThreadState {aka struct _ts}’ has no member named ‘exc_traceback’; did you mean ‘curexc_traceback’?\r\n",
      "         tstate->exc_traceback = local_tb;\r\n",
      "                 ^~~~~~~~~~~~~\r\n",
      "                 curexc_traceback\r\n",
      "    python/kenlm.cpp: In function ‘void __Pyx_ExceptionSwap(PyObject**, PyObject**, PyObject**)’:\r\n",
      "    python/kenlm.cpp:6376:24: error: ‘PyThreadState {aka struct _ts}’ has no member named ‘exc_type’; did you mean ‘curexc_type’?\r\n",
      "         tmp_type = tstate->exc_type;\r\n",
      "                            ^~~~~~~~\r\n",
      "                            curexc_type\r\n",
      "    python/kenlm.cpp:6377:25: error: ‘PyThreadState {aka struct _ts}’ has no member named ‘exc_value’; did you mean ‘curexc_value’?\r\n",
      "         tmp_value = tstate->exc_value;\r\n",
      "                             ^~~~~~~~~\r\n",
      "                             curexc_value\r\n",
      "    python/kenlm.cpp:6378:22: error: ‘PyThreadState {aka struct _ts}’ has no member named ‘exc_traceback’; did you mean ‘curexc_traceback’?\r\n",
      "         tmp_tb = tstate->exc_traceback;\r\n",
      "                          ^~~~~~~~~~~~~\r\n",
      "                          curexc_traceback\r\n",
      "    python/kenlm.cpp:6379:13: error: ‘PyThreadState {aka struct _ts}’ has no member named ‘exc_type’; did you mean ‘curexc_type’?\r\n",
      "         tstate->exc_type = *type;\r\n",
      "                 ^~~~~~~~\r\n",
      "                 curexc_type\r\n",
      "    python/kenlm.cpp:6380:13: error: ‘PyThreadState {aka struct _ts}’ has no member named ‘exc_value’; did you mean ‘curexc_value’?\r\n",
      "         tstate->exc_value = *value;\r\n",
      "                 ^~~~~~~~~\r\n",
      "                 curexc_value\r\n",
      "    python/kenlm.cpp:6381:13: error: ‘PyThreadState {aka struct _ts}’ has no member named ‘exc_traceback’; did you mean ‘curexc_traceback’?\r\n",
      "         tstate->exc_traceback = *tb;\r\n",
      "                 ^~~~~~~~~~~~~\r\n",
      "                 curexc_traceback\r\n",
      "    error: command 'gcc' failed with exit status 1\r\n",
      "    ----------------------------------------\u001b[0m\r\n",
      "\u001b[31mERROR: Command errored out with exit status 1: /opt/conda/bin/python3.7 -u -c 'import sys, setuptools, tokenize; sys.argv[0] = '\"'\"'/tmp/pip-install-_sn1b_8e/kenlm_33feb0ab709b4e009311494d5788ce9b/setup.py'\"'\"'; __file__='\"'\"'/tmp/pip-install-_sn1b_8e/kenlm_33feb0ab709b4e009311494d5788ce9b/setup.py'\"'\"';f=getattr(tokenize, '\"'\"'open'\"'\"', open)(__file__);code=f.read().replace('\"'\"'\\r\\n'\"'\"', '\"'\"'\\n'\"'\"');f.close();exec(compile(code, __file__, '\"'\"'exec'\"'\"'))' install --record /tmp/pip-record-e4i8z2bk/install-record.txt --single-version-externally-managed --compile --install-headers /opt/conda/include/python3.7m/kenlm Check the logs for full command output.\u001b[0m\r\n",
      "\u001b[?25h"
     ]
    }
   ],
   "source": [
    "!pip install kenlm"
   ]
  },
  {
   "cell_type": "code",
   "execution_count": 3,
   "id": "inner-reporter",
   "metadata": {
    "execution": {
     "iopub.execute_input": "2021-05-31T13:51:51.905687Z",
     "iopub.status.busy": "2021-05-31T13:51:51.903791Z",
     "iopub.status.idle": "2021-05-31T13:51:51.908583Z",
     "shell.execute_reply": "2021-05-31T13:51:51.909008Z",
     "shell.execute_reply.started": "2021-05-31T11:47:48.153661Z"
    },
    "papermill": {
     "duration": 0.057845,
     "end_time": "2021-05-31T13:51:51.909226",
     "exception": false,
     "start_time": "2021-05-31T13:51:51.851381",
     "status": "completed"
    },
    "tags": []
   },
   "outputs": [
    {
     "name": "stdout",
     "output_type": "stream",
     "text": [
      "/tmp\n"
     ]
    }
   ],
   "source": [
    "%cd /tmp"
   ]
  },
  {
   "cell_type": "code",
   "execution_count": 4,
   "id": "cleared-timeline",
   "metadata": {
    "execution": {
     "iopub.execute_input": "2021-05-31T13:51:52.013139Z",
     "iopub.status.busy": "2021-05-31T13:51:52.008452Z",
     "iopub.status.idle": "2021-05-31T13:51:55.290262Z",
     "shell.execute_reply": "2021-05-31T13:51:55.289223Z",
     "shell.execute_reply.started": "2021-05-31T11:47:48.174342Z"
    },
    "papermill": {
     "duration": 3.334107,
     "end_time": "2021-05-31T13:51:55.290419",
     "exception": false,
     "start_time": "2021-05-31T13:51:51.956312",
     "status": "completed"
    },
    "tags": []
   },
   "outputs": [
    {
     "name": "stdout",
     "output_type": "stream",
     "text": [
      "Cloning into 'fairseq'...\r\n",
      "remote: Enumerating objects: 28242, done.\u001b[K\r\n",
      "remote: Counting objects: 100% (654/654), done.\u001b[K\r\n",
      "remote: Compressing objects: 100% (371/371), done.\u001b[K\r\n",
      "remote: Total 28242 (delta 348), reused 520 (delta 267), pack-reused 27588\u001b[K\r\n",
      "Receiving objects: 100% (28242/28242), 11.90 MiB | 13.93 MiB/s, done.\r\n",
      "Resolving deltas: 100% (21171/21171), done.\r\n"
     ]
    }
   ],
   "source": [
    "!git clone https://github.com/jimregan/fairseq/ --branch issue3581"
   ]
  },
  {
   "cell_type": "code",
   "execution_count": 5,
   "id": "blind-emission",
   "metadata": {
    "execution": {
     "iopub.execute_input": "2021-05-31T13:51:55.410890Z",
     "iopub.status.busy": "2021-05-31T13:51:55.406733Z",
     "iopub.status.idle": "2021-05-31T13:51:57.736641Z",
     "shell.execute_reply": "2021-05-31T13:51:57.735780Z",
     "shell.execute_reply.started": "2021-05-25T22:47:02.096238Z"
    },
    "papermill": {
     "duration": 2.39077,
     "end_time": "2021-05-31T13:51:57.736791",
     "exception": false,
     "start_time": "2021-05-31T13:51:55.346021",
     "status": "completed"
    },
    "tags": []
   },
   "outputs": [
    {
     "name": "stdout",
     "output_type": "stream",
     "text": [
      "Cloning into 'kenlm'...\r\n",
      "remote: Enumerating objects: 13824, done.\u001b[K\r\n",
      "remote: Counting objects: 100% (137/137), done.\u001b[K\r\n",
      "remote: Compressing objects: 100% (79/79), done.\u001b[K\r\n",
      "remote: Total 13824 (delta 76), reused 92 (delta 45), pack-reused 13687\u001b[K\r\n",
      "Receiving objects: 100% (13824/13824), 5.49 MiB | 8.06 MiB/s, done.\r\n",
      "Resolving deltas: 100% (7956/7956), done.\r\n"
     ]
    }
   ],
   "source": [
    "!git clone https://github.com/kpu/kenlm"
   ]
  },
  {
   "cell_type": "code",
   "execution_count": 6,
   "id": "guilty-cradle",
   "metadata": {
    "execution": {
     "iopub.execute_input": "2021-05-31T13:51:57.872207Z",
     "iopub.status.busy": "2021-05-31T13:51:57.871481Z",
     "iopub.status.idle": "2021-05-31T13:52:02.762227Z",
     "shell.execute_reply": "2021-05-31T13:52:02.761637Z"
    },
    "papermill": {
     "duration": 4.963081,
     "end_time": "2021-05-31T13:52:02.762396",
     "exception": false,
     "start_time": "2021-05-31T13:51:57.799315",
     "status": "completed"
    },
    "tags": []
   },
   "outputs": [],
   "source": [
    "%%capture\n",
    "!apt-get -y install libeigen3-dev liblzma-dev zlib1g-dev libbz2-dev"
   ]
  },
  {
   "cell_type": "code",
   "execution_count": 7,
   "id": "upper-smith",
   "metadata": {
    "execution": {
     "iopub.execute_input": "2021-05-31T13:52:02.898716Z",
     "iopub.status.busy": "2021-05-31T13:52:02.898015Z",
     "iopub.status.idle": "2021-05-31T13:53:17.486385Z",
     "shell.execute_reply": "2021-05-31T13:53:17.485650Z"
    },
    "papermill": {
     "duration": 74.662032,
     "end_time": "2021-05-31T13:53:17.486586",
     "exception": false,
     "start_time": "2021-05-31T13:52:02.824554",
     "status": "completed"
    },
    "tags": []
   },
   "outputs": [],
   "source": [
    "%%capture\n",
    "%cd kenlm\n",
    "!mkdir build\n",
    "%cd build\n",
    "!cmake ..\n",
    "!make -j 4\n",
    "!python setup.py install\n",
    "%cd /tmp"
   ]
  },
  {
   "cell_type": "code",
   "execution_count": 8,
   "id": "binary-diagnosis",
   "metadata": {
    "execution": {
     "iopub.execute_input": "2021-05-31T13:53:17.615399Z",
     "iopub.status.busy": "2021-05-31T13:53:17.614662Z",
     "iopub.status.idle": "2021-05-31T13:53:17.617982Z",
     "shell.execute_reply": "2021-05-31T13:53:17.617441Z",
     "shell.execute_reply.started": "2021-05-25T22:58:58.397816Z"
    },
    "papermill": {
     "duration": 0.069622,
     "end_time": "2021-05-31T13:53:17.618151",
     "exception": false,
     "start_time": "2021-05-31T13:53:17.548529",
     "status": "completed"
    },
    "tags": []
   },
   "outputs": [],
   "source": [
    "import os\n",
    "os.environ['PATH'] = f\"{os.environ['PATH']}:/tmp/kenlm/build/bin/\"\n",
    "os.environ['FAIRSEQ_ROOT'] = '/tmp/fairseq'"
   ]
  },
  {
   "cell_type": "code",
   "execution_count": 9,
   "id": "friendly-shade",
   "metadata": {
    "execution": {
     "iopub.execute_input": "2021-05-31T13:53:17.742175Z",
     "iopub.status.busy": "2021-05-31T13:53:17.741494Z",
     "iopub.status.idle": "2021-05-31T13:53:17.749123Z",
     "shell.execute_reply": "2021-05-31T13:53:17.750234Z",
     "shell.execute_reply.started": "2021-05-31T11:51:49.832574Z"
    },
    "papermill": {
     "duration": 0.071983,
     "end_time": "2021-05-31T13:53:17.750496",
     "exception": false,
     "start_time": "2021-05-31T13:53:17.678513",
     "status": "completed"
    },
    "tags": []
   },
   "outputs": [
    {
     "name": "stdout",
     "output_type": "stream",
     "text": [
      "/tmp/fairseq\n"
     ]
    }
   ],
   "source": [
    "%cd /tmp/fairseq/"
   ]
  },
  {
   "cell_type": "code",
   "execution_count": 10,
   "id": "african-framing",
   "metadata": {
    "execution": {
     "iopub.execute_input": "2021-05-31T13:53:17.884553Z",
     "iopub.status.busy": "2021-05-31T13:53:17.880145Z",
     "iopub.status.idle": "2021-05-31T13:54:36.921645Z",
     "shell.execute_reply": "2021-05-31T13:54:36.922191Z"
    },
    "papermill": {
     "duration": 79.108936,
     "end_time": "2021-05-31T13:54:36.922409",
     "exception": false,
     "start_time": "2021-05-31T13:53:17.813473",
     "status": "completed"
    },
    "tags": []
   },
   "outputs": [],
   "source": [
    "%%capture\n",
    "!python setup.py install"
   ]
  },
  {
   "cell_type": "code",
   "execution_count": 11,
   "id": "split-primary",
   "metadata": {
    "execution": {
     "iopub.execute_input": "2021-05-31T13:54:37.049703Z",
     "iopub.status.busy": "2021-05-31T13:54:37.048940Z",
     "iopub.status.idle": "2021-05-31T13:54:37.055259Z",
     "shell.execute_reply": "2021-05-31T13:54:37.055747Z"
    },
    "papermill": {
     "duration": 0.071615,
     "end_time": "2021-05-31T13:54:37.055933",
     "exception": false,
     "start_time": "2021-05-31T13:54:36.984318",
     "status": "completed"
    },
    "tags": []
   },
   "outputs": [
    {
     "name": "stdout",
     "output_type": "stream",
     "text": [
      "/tmp/fairseq\n"
     ]
    }
   ],
   "source": [
    "%cd /tmp/fairseq/"
   ]
  },
  {
   "cell_type": "code",
   "execution_count": 12,
   "id": "occupied-niger",
   "metadata": {
    "execution": {
     "iopub.execute_input": "2021-05-31T13:54:37.188290Z",
     "iopub.status.busy": "2021-05-31T13:54:37.187611Z",
     "iopub.status.idle": "2021-05-31T13:54:37.189613Z",
     "shell.execute_reply": "2021-05-31T13:54:37.190052Z"
    },
    "papermill": {
     "duration": 0.072013,
     "end_time": "2021-05-31T13:54:37.190287",
     "exception": false,
     "start_time": "2021-05-31T13:54:37.118274",
     "status": "completed"
    },
    "tags": []
   },
   "outputs": [],
   "source": [
    "os.environ['HYDRA_FULL_ERROR'] = '1'"
   ]
  },
  {
   "cell_type": "markdown",
   "id": "educated-tattoo",
   "metadata": {
    "papermill": {
     "duration": 0.061632,
     "end_time": "2021-05-31T13:54:37.314263",
     "exception": false,
     "start_time": "2021-05-31T13:54:37.252631",
     "status": "completed"
    },
    "tags": []
   },
   "source": [
    "## GAN"
   ]
  },
  {
   "cell_type": "code",
   "execution_count": 13,
   "id": "hispanic-badge",
   "metadata": {
    "execution": {
     "iopub.execute_input": "2021-05-31T13:54:37.451127Z",
     "iopub.status.busy": "2021-05-31T13:54:37.446974Z",
     "iopub.status.idle": "2021-05-31T13:54:38.202634Z",
     "shell.execute_reply": "2021-05-31T13:54:38.201909Z",
     "shell.execute_reply.started": "2021-05-30T16:46:39.899633Z"
    },
    "papermill": {
     "duration": 0.826538,
     "end_time": "2021-05-31T13:54:38.202787",
     "exception": false,
     "start_time": "2021-05-31T13:54:37.376249",
     "status": "completed"
    },
    "tags": []
   },
   "outputs": [
    {
     "name": "stdout",
     "output_type": "stream",
     "text": [
      "CLUS128\t\t    precompute_pca512_cls128_mean\t  train.npy\r\n",
      "__notebook__.ipynb  precompute_pca512_cls128_mean_pooled  train.phn\r\n",
      "__output__.json     test.lengths\t\t\t  train.tsv\r\n",
      "__results__.html    test.ltr\t\t\t\t  train.wrd\r\n",
      "custom.css\t    test.npy\t\t\t\t  valid.lengths\r\n",
      "dict.test\t    test.phn\t\t\t\t  valid.ltr\r\n",
      "dict.train\t    test.tsv\t\t\t\t  valid.npy\r\n",
      "dict.valid\t    test.wrd\t\t\t\t  valid.phn\r\n",
      "pca\t\t    train.lengths\t\t\t  valid.tsv\r\n",
      "precompute_pca512   train.ltr\t\t\t\t  valid.wrd\r\n"
     ]
    }
   ],
   "source": [
    "!ls /kaggle/input/wav2vec-u-cv-swedish-audio/"
   ]
  },
  {
   "cell_type": "code",
   "execution_count": 14,
   "id": "happy-hartford",
   "metadata": {
    "execution": {
     "iopub.execute_input": "2021-05-31T13:54:38.347442Z",
     "iopub.status.busy": "2021-05-31T13:54:38.346391Z",
     "iopub.status.idle": "2021-05-31T13:54:38.351927Z",
     "shell.execute_reply": "2021-05-31T13:54:38.351397Z"
    },
    "papermill": {
     "duration": 0.074804,
     "end_time": "2021-05-31T13:54:38.352079",
     "exception": false,
     "start_time": "2021-05-31T13:54:38.277275",
     "status": "completed"
    },
    "tags": []
   },
   "outputs": [
    {
     "name": "stdout",
     "output_type": "stream",
     "text": [
      "Writing rungan.sh\n"
     ]
    }
   ],
   "source": [
    "%%writefile rungan.sh\n",
    "PREFIX=w2v_unsup_gan_xp\n",
    "#TASK_DATA=/path/to/features/unfiltered/precompute_unfiltered_pca512_cls128_mean_pooled\n",
    "TASK_DATA=/kaggle/input/wav2vec-u-cv-swedish-audio/precompute_pca512_cls128_mean_pooled/\n",
    "#TEXT_DATA=/path/to/data  # path to fairseq-preprocessed GAN data\n",
    "TEXT_DATA=/kaggle/input/wav2vec-u-cv-swedish-text-prep/preppedtext/phones/\n",
    "#KENLM_PATH=/path/to/data/kenlm.phn.o4.bin  # KenLM 4-gram phoneme language model (LM data = GAN data here)\n",
    "KENLM_PATH=/kaggle/input/wav2vec-u-cv-swedish-text-prep/preppedtext/phones/lm.phones.filtered.04.bin\n",
    "\n",
    "PREFIX=$PREFIX fairseq-hydra-train \\\n",
    "\t-m --config-dir fairseq/config/model/wav2vecu/gan \\\n",
    "\t--config-name w2vu \\\n",
    "\ttask.data=${TASK_DATA} \\\n",
    "\ttask.text_data=${TEXT_DATA} \\\n",
    "\ttask.kenlm_path=${KENLM_PATH} \\\n",
    "\tcheckpoint.no_epoch_checkpoints=false \\\n",
    "\tcheckpoint.save_dir=/kaggle/working \\\n",
    "\t'common.seed=range(0,5)'"
   ]
  },
  {
   "cell_type": "code",
   "execution_count": 15,
   "id": "acting-leather",
   "metadata": {
    "execution": {
     "iopub.execute_input": "2021-05-31T13:54:38.481968Z",
     "iopub.status.busy": "2021-05-31T13:54:38.481330Z",
     "iopub.status.idle": "2021-05-31T13:54:56.197579Z",
     "shell.execute_reply": "2021-05-31T13:54:56.196776Z"
    },
    "papermill": {
     "duration": 17.783331,
     "end_time": "2021-05-31T13:54:56.197734",
     "exception": false,
     "start_time": "2021-05-31T13:54:38.414403",
     "status": "completed"
    },
    "tags": []
   },
   "outputs": [
    {
     "name": "stdout",
     "output_type": "stream",
     "text": [
      "[2021-05-31 13:54:53,404][HYDRA] Launching 5 jobs locally\r\n",
      "[2021-05-31 13:54:53,404][HYDRA] \t#0 : task.data=/kaggle/input/wav2vec-u-cv-swedish-audio/precompute_pca512_cls128_mean_pooled/ task.text_data=/kaggle/input/wav2vec-u-cv-swedish-text-prep/preppedtext/phones/ task.kenlm_path=/kaggle/input/wav2vec-u-cv-swedish-text-prep/preppedtext/phones/lm.phones.filtered.04.bin checkpoint.no_epoch_checkpoints=False checkpoint.save_dir=/kaggle/working common.seed=0\r\n",
      "[2021-05-31 13:54:55,664][fairseq_cli.train][INFO] - {'_name': None, 'common': {'_name': None, 'no_progress_bar': False, 'log_interval': 100, 'log_format': 'json', 'log_file': None, 'tensorboard_logdir': 'tb', 'wandb_project': None, 'azureml_logging': False, 'seed': 0, 'cpu': False, 'tpu': False, 'bf16': False, 'memory_efficient_bf16': False, 'fp16': False, 'memory_efficient_fp16': False, 'fp16_no_flatten_grads': True, 'fp16_init_scale': 128, 'fp16_scale_window': None, 'fp16_scale_tolerance': 0.0, 'min_loss_scale': 0.0001, 'threshold_loss_scale': None, 'amp': False, 'amp_batch_retries': 2, 'amp_init_scale': 128, 'amp_scale_window': None, 'user_dir': None, 'empty_cache_freq': 0, 'all_gather_list_size': 16384, 'model_parallel_size': 1, 'quantization_config_path': None, 'profile': False, 'reset_logging': False, 'suppress_crashes': False, 'use_plasma_view': False, 'plasma_path': '/tmp/plasma'}, 'common_eval': {'_name': None, 'path': None, 'post_process': None, 'quiet': False, 'model_overrides': '{}', 'results_path': None}, 'distributed_training': {'_name': None, 'distributed_world_size': 1, 'distributed_rank': 0, 'distributed_backend': 'nccl', 'distributed_init_method': None, 'distributed_port': -1, 'device_id': 0, 'distributed_no_spawn': False, 'ddp_backend': 'pytorch_ddp', 'ddp_comm_hook': 'none', 'bucket_cap_mb': 25, 'fix_batches_to_gpus': False, 'find_unused_parameters': False, 'fast_stat_sync': False, 'heartbeat_timeout': -1, 'broadcast_buffers': False, 'slowmo_momentum': None, 'slowmo_algorithm': 'LocalSGD', 'localsgd_frequency': 3, 'nprocs_per_node': 1, 'pipeline_model_parallel': False, 'pipeline_balance': None, 'pipeline_devices': None, 'pipeline_chunks': 0, 'pipeline_encoder_balance': None, 'pipeline_encoder_devices': None, 'pipeline_decoder_balance': None, 'pipeline_decoder_devices': None, 'pipeline_checkpoint': 'never', 'zero_sharding': 'none', 'fp16': False, 'memory_efficient_fp16': False, 'tpu': False, 'no_reshard_after_forward': False, 'fp32_reduce_scatter': False, 'cpu_offload': False, 'use_sharded_state': False, 'distributed_num_procs': 0}, 'dataset': {'_name': None, 'num_workers': 6, 'skip_invalid_size_inputs_valid_test': True, 'max_tokens': None, 'batch_size': 160, 'required_batch_size_multiple': 8, 'required_seq_len_multiple': 1, 'dataset_impl': None, 'data_buffer_size': 10, 'train_subset': 'train', 'valid_subset': 'valid', 'combine_valid_subsets': None, 'ignore_unused_valid_subsets': False, 'validate_interval': 1, 'validate_interval_updates': 0, 'validate_after_updates': 0, 'fixed_validation_seed': None, 'disable_validation': False, 'max_tokens_valid': None, 'batch_size_valid': 160, 'max_valid_steps': None, 'curriculum': 0, 'gen_subset': 'test', 'num_shards': 1, 'shard_id': 0}, 'optimization': {'_name': None, 'max_epoch': 0, 'max_update': 150000, 'stop_time_hours': 0.0, 'clip_norm': 5.0, 'sentence_avg': False, 'update_freq': [1], 'lr': [0.0], 'stop_min_lr': -1.0, 'use_bmuf': False}, 'checkpoint': {'_name': None, 'save_dir': '/kaggle/working', 'restore_file': 'checkpoint_last.pt', 'finetune_from_model': None, 'reset_dataloader': False, 'reset_lr_scheduler': False, 'reset_meters': False, 'reset_optimizer': False, 'optimizer_overrides': '{}', 'save_interval': 1, 'save_interval_updates': 0, 'keep_interval_updates': -1, 'keep_interval_updates_pattern': -1, 'keep_last_epochs': -1, 'keep_best_checkpoints': -1, 'no_save': False, 'no_epoch_checkpoints': False, 'no_last_checkpoints': False, 'no_save_optimizer_state': False, 'best_checkpoint_metric': 'weighted_lm_ppl', 'maximize_best_checkpoint_metric': False, 'patience': -1, 'checkpoint_suffix': '', 'checkpoint_shard_count': 1, 'load_checkpoint_on_all_dp_ranks': False, 'write_checkpoints_asynchronously': False, 'model_parallel_size': 1}, 'bmuf': {'_name': None, 'block_lr': 1.0, 'block_momentum': 0.875, 'global_sync_iter': 50, 'warmup_iterations': 500, 'use_nbm': False, 'average_sync': False, 'distributed_world_size': 1}, 'generation': {'_name': None, 'beam': 5, 'nbest': 1, 'max_len_a': 0.0, 'max_len_b': 200, 'min_len': 1, 'match_source_len': False, 'unnormalized': False, 'no_early_stop': False, 'no_beamable_mm': False, 'lenpen': 1.0, 'unkpen': 0.0, 'replace_unk': None, 'sacrebleu': False, 'score_reference': False, 'prefix_size': 0, 'no_repeat_ngram_size': 0, 'sampling': False, 'sampling_topk': -1, 'sampling_topp': -1.0, 'constraints': None, 'temperature': 1.0, 'diverse_beam_groups': -1, 'diverse_beam_strength': 0.5, 'diversity_rate': -1.0, 'print_alignment': None, 'print_step': False, 'lm_path': None, 'lm_weight': 0.0, 'iter_decode_eos_penalty': 0.0, 'iter_decode_max_iter': 10, 'iter_decode_force_max_iter': False, 'iter_decode_with_beam': 1, 'iter_decode_with_external_reranker': False, 'retain_iter_history': False, 'retain_dropout': False, 'retain_dropout_modules': None, 'decoding_format': None, 'no_seed_provided': False}, 'eval_lm': {'_name': None, 'output_word_probs': False, 'output_word_stats': False, 'context_window': 0, 'softmax_batch': 9223372036854775807}, 'interactive': {'_name': None, 'buffer_size': 0, 'input': '-'}, 'model': {'_name': 'wav2vec_u', 'discriminator_dim': 384, 'discriminator_depth': 2, 'discriminator_kernel': 6, 'discriminator_linear_emb': False, 'discriminator_causal': True, 'discriminator_max_pool': False, 'discriminator_act_after_linear': False, 'discriminator_dropout': 0.0, 'discriminator_weight_norm': False, 'generator_stride': 1, 'generator_kernel': 4, 'generator_bias': False, 'generator_dropout': 0.1, 'smoothness_weight': 0.5, 'smoothing': 0, 'smoothing_one_sided': False, 'gumbel': False, 'hard_gumbel': False, 'gradient_penalty': 1.5, 'code_penalty': 4.0, 'temp': [2, 0.1, 0.99995], 'input_dim': 512, 'segmentation': {'type': 'JOIN', 'mean_pool_join': False, 'remove_zeros': False}}, 'task': {'_name': 'gan_audio_pretraining_feats', 'data': '/kaggle/input/wav2vec-u-cv-swedish-audio/precompute_pca512_cls128_mean_pooled/', 'text_data': '/kaggle/input/wav2vec-u-cv-swedish-text-prep/preppedtext/phones/', 'max_length': None, 'labels': 'phn', 'unfiltered': False, 'ctc_eval': False, 'sort_by_length': False, 'shuffle': True, 'append_eos': False, 'uppercase': False, 'skipwords': '', 'kenlm_path': '/kaggle/input/wav2vec-u-cv-swedish-text-prep/preppedtext/phones/lm.phones.filtered.04.bin', 'vocab_usage_power': 2.0, 'word_decoder_config': None, 'word_kenlm_path': None, 'decoding_config': {'_name': None, 'kenlm_path': None, 'lm_weight': 0.0, 'blank_weight': 0.0}}, 'criterion': {'_name': 'model', 'loss_weights': {}, 'log_keys': ['accuracy_dense', 'accuracy_token', 'temp', 'code_ppl']}, 'optimizer': {'_name': 'composite', 'groups': {'generator': {'lr': [0.0004], 'lr_float': None, 'optimizer': {'_name': 'adam', 'adam_betas': [0.5, 0.98], 'adam_eps': 1e-06, 'weight_decay': 0, 'amsgrad': False}, 'lr_scheduler': {'_name': 'fixed', 'warmup_updates': 0}}, 'discriminator': {'lr': [0.0005], 'lr_float': None, 'optimizer': {'_name': 'adam', 'adam_betas': [0.5, 0.98], 'adam_eps': 1e-06, 'weight_decay': 0.0001, 'amsgrad': False}, 'lr_scheduler': {'_name': 'fixed', 'warmup_updates': 0}}}}, 'lr_scheduler': {'_name': 'pass_through'}, 'scoring': None, 'bpe': None, 'tokenizer': None, 'job_logging_cfg': {'version': 1, 'formatters': {'simple': {'format': '[%(asctime)s][%(name)s][%(levelname)s] - %(message)s'}}, 'handlers': {'console': {'class': 'logging.StreamHandler', 'formatter': 'simple', 'stream': 'ext://sys.stdout'}, 'file': {'class': 'logging.FileHandler', 'formatter': 'simple', 'filename': 'hydra_train.log'}}, 'root': {'level': 'INFO', 'handlers': ['console', 'file']}, 'disable_existing_loggers': False}}\r\n",
      "Traceback (most recent call last):\r\n",
      "  File \"/opt/conda/bin/fairseq-hydra-train\", line 33, in <module>\r\n",
      "    sys.exit(load_entry_point('fairseq==1.0.0a0+6d7246d', 'console_scripts', 'fairseq-hydra-train')())\r\n",
      "  File \"/opt/conda/lib/python3.7/site-packages/fairseq-1.0.0a0+6d7246d-py3.7-linux-x86_64.egg/fairseq_cli/hydra_train.py\", line 76, in cli_main\r\n",
      "    hydra_main()\r\n",
      "  File \"/opt/conda/lib/python3.7/site-packages/hydra_core-1.0.6-py3.7.egg/hydra/main.py\", line 37, in decorated_main\r\n",
      "    strict=strict,\r\n",
      "  File \"/opt/conda/lib/python3.7/site-packages/hydra_core-1.0.6-py3.7.egg/hydra/_internal/utils.py\", line 355, in _run_hydra\r\n",
      "    lambda: hydra.multirun(\r\n",
      "  File \"/opt/conda/lib/python3.7/site-packages/hydra_core-1.0.6-py3.7.egg/hydra/_internal/utils.py\", line 201, in run_and_report\r\n",
      "    raise ex\r\n",
      "  File \"/opt/conda/lib/python3.7/site-packages/hydra_core-1.0.6-py3.7.egg/hydra/_internal/utils.py\", line 198, in run_and_report\r\n",
      "    return func()\r\n",
      "  File \"/opt/conda/lib/python3.7/site-packages/hydra_core-1.0.6-py3.7.egg/hydra/_internal/utils.py\", line 358, in <lambda>\r\n",
      "    overrides=args.overrides,\r\n",
      "  File \"/opt/conda/lib/python3.7/site-packages/hydra_core-1.0.6-py3.7.egg/hydra/_internal/hydra.py\", line 136, in multirun\r\n",
      "    return sweeper.sweep(arguments=task_overrides)\r\n",
      "  File \"/opt/conda/lib/python3.7/site-packages/hydra_core-1.0.6-py3.7.egg/hydra/_internal/core_plugins/basic_sweeper.py\", line 154, in sweep\r\n",
      "    results = self.launcher.launch(batch, initial_job_idx=initial_job_idx)\r\n",
      "  File \"/opt/conda/lib/python3.7/site-packages/hydra_core-1.0.6-py3.7.egg/hydra/_internal/core_plugins/basic_launcher.py\", line 80, in launch\r\n",
      "    job_subdir_key=\"hydra.sweep.subdir\",\r\n",
      "  File \"/opt/conda/lib/python3.7/site-packages/hydra_core-1.0.6-py3.7.egg/hydra/core/utils.py\", line 127, in run_job\r\n",
      "    ret.return_value = task_function(task_cfg)\r\n",
      "  File \"/opt/conda/lib/python3.7/site-packages/fairseq-1.0.0a0+6d7246d-py3.7-linux-x86_64.egg/fairseq_cli/hydra_train.py\", line 45, in hydra_main\r\n",
      "    distributed_utils.call_main(cfg, pre_main)\r\n",
      "  File \"/opt/conda/lib/python3.7/site-packages/fairseq-1.0.0a0+6d7246d-py3.7-linux-x86_64.egg/fairseq/distributed/utils.py\", line 369, in call_main\r\n",
      "    main(cfg, **kwargs)\r\n",
      "  File \"/opt/conda/lib/python3.7/site-packages/fairseq-1.0.0a0+6d7246d-py3.7-linux-x86_64.egg/fairseq_cli/train.py\", line 86, in main\r\n",
      "    task = tasks.setup_task(cfg.task)\r\n",
      "  File \"/opt/conda/lib/python3.7/site-packages/fairseq-1.0.0a0+6d7246d-py3.7-linux-x86_64.egg/fairseq/tasks/__init__.py\", line 44, in setup_task\r\n",
      "    return task.setup_task(cfg, **kwargs)\r\n",
      "  File \"/opt/conda/lib/python3.7/site-packages/fairseq-1.0.0a0+6d7246d-py3.7-linux-x86_64.egg/fairseq/tasks/unpaired_audio_text.py\", line 161, in setup_task\r\n",
      "    return cls(cfg, target_dictionary=target_dictionary)\r\n",
      "  File \"/opt/conda/lib/python3.7/site-packages/fairseq-1.0.0a0+6d7246d-py3.7-linux-x86_64.egg/fairseq/tasks/unpaired_audio_text.py\", line 111, in __init__\r\n",
      "    import kenlm\r\n",
      "ModuleNotFoundError: No module named 'kenlm'\r\n"
     ]
    }
   ],
   "source": [
    "!bash rungan.sh"
   ]
  }
 ],
 "metadata": {
  "kernelspec": {
   "display_name": "Python 3",
   "language": "python",
   "name": "python3"
  },
  "language_info": {
   "codemirror_mode": {
    "name": "ipython",
    "version": 3
   },
   "file_extension": ".py",
   "mimetype": "text/x-python",
   "name": "python",
   "nbconvert_exporter": "python",
   "pygments_lexer": "ipython3",
   "version": "3.7.10"
  },
  "papermill": {
   "default_parameters": {},
   "duration": 584.054682,
   "end_time": "2021-05-31T13:54:57.789628",
   "environment_variables": {},
   "exception": null,
   "input_path": "__notebook__.ipynb",
   "output_path": "__notebook__.ipynb",
   "parameters": {},
   "start_time": "2021-05-31T13:45:13.734946",
   "version": "2.3.3"
  }
 },
 "nbformat": 4,
 "nbformat_minor": 5
}
