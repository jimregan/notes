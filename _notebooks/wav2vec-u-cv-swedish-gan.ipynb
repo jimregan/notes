{
 "cells": [
  {
   "cell_type": "markdown",
   "id": "purple-demand",
   "metadata": {
    "papermill": {
     "duration": 0.013809,
     "end_time": "2021-05-31T14:15:37.766771",
     "exception": false,
     "start_time": "2021-05-31T14:15:37.752962",
     "status": "completed"
    },
    "tags": []
   },
   "source": [
    "## Preparation"
   ]
  },
  {
   "cell_type": "code",
   "execution_count": 1,
   "id": "romantic-control",
   "metadata": {
    "_cell_guid": "b1076dfc-b9ad-4769-8c92-a6c4dae69d19",
    "_uuid": "8f2839f25d086af736a60e9eeb907d3b93b6e0e5",
    "execution": {
     "iopub.execute_input": "2021-05-31T14:15:37.804782Z",
     "iopub.status.busy": "2021-05-31T14:15:37.804070Z",
     "iopub.status.idle": "2021-05-31T14:19:26.647089Z",
     "shell.execute_reply": "2021-05-31T14:19:26.648037Z",
     "shell.execute_reply.started": "2021-05-31T11:43:46.770364Z"
    },
    "papermill": {
     "duration": 228.868621,
     "end_time": "2021-05-31T14:19:26.648485",
     "exception": false,
     "start_time": "2021-05-31T14:15:37.779864",
     "status": "completed"
    },
    "tags": []
   },
   "outputs": [],
   "source": [
    "%%capture\n",
    "!conda install -c pykaldi pykaldi -y"
   ]
  },
  {
   "cell_type": "code",
   "execution_count": 2,
   "id": "protective-radius",
   "metadata": {
    "execution": {
     "iopub.execute_input": "2021-05-31T14:19:26.693703Z",
     "iopub.status.busy": "2021-05-31T14:19:26.691619Z",
     "iopub.status.idle": "2021-05-31T14:19:26.697994Z",
     "shell.execute_reply": "2021-05-31T14:19:26.697460Z",
     "shell.execute_reply.started": "2021-05-31T13:58:07.987793Z"
    },
    "papermill": {
     "duration": 0.033034,
     "end_time": "2021-05-31T14:19:26.698127",
     "exception": false,
     "start_time": "2021-05-31T14:19:26.665093",
     "status": "completed"
    },
    "tags": []
   },
   "outputs": [
    {
     "name": "stdout",
     "output_type": "stream",
     "text": [
      "/tmp\n"
     ]
    }
   ],
   "source": [
    "%cd /tmp"
   ]
  },
  {
   "cell_type": "code",
   "execution_count": 3,
   "id": "vietnamese-brass",
   "metadata": {
    "execution": {
     "iopub.execute_input": "2021-05-31T14:19:26.735984Z",
     "iopub.status.busy": "2021-05-31T14:19:26.734939Z",
     "iopub.status.idle": "2021-05-31T14:19:33.984261Z",
     "shell.execute_reply": "2021-05-31T14:19:33.983437Z",
     "shell.execute_reply.started": "2021-05-31T11:47:48.174342Z"
    },
    "papermill": {
     "duration": 7.271539,
     "end_time": "2021-05-31T14:19:33.984451",
     "exception": false,
     "start_time": "2021-05-31T14:19:26.712912",
     "status": "completed"
    },
    "tags": []
   },
   "outputs": [
    {
     "name": "stdout",
     "output_type": "stream",
     "text": [
      "Cloning into 'fairseq'...\r\n",
      "remote: Enumerating objects: 28250, done.\u001b[K\r\n",
      "remote: Counting objects: 100% (662/662), done.\u001b[K\r\n",
      "remote: Compressing objects: 100% (380/380), done.\u001b[K\r\n",
      "remote: Total 28250 (delta 354), reused 523 (delta 266), pack-reused 27588\u001b[K\r\n",
      "Receiving objects: 100% (28250/28250), 11.90 MiB | 14.21 MiB/s, done.\r\n",
      "Resolving deltas: 100% (21173/21173), done.\r\n"
     ]
    }
   ],
   "source": [
    "!git clone https://github.com/jimregan/fairseq/ --branch issue3581"
   ]
  },
  {
   "cell_type": "code",
   "execution_count": 4,
   "id": "raising-defendant",
   "metadata": {
    "execution": {
     "iopub.execute_input": "2021-05-31T14:19:34.037756Z",
     "iopub.status.busy": "2021-05-31T14:19:34.037084Z",
     "iopub.status.idle": "2021-05-31T14:19:36.506276Z",
     "shell.execute_reply": "2021-05-31T14:19:36.505567Z",
     "shell.execute_reply.started": "2021-05-31T13:58:08.002832Z"
    },
    "papermill": {
     "duration": 2.49907,
     "end_time": "2021-05-31T14:19:36.506457",
     "exception": false,
     "start_time": "2021-05-31T14:19:34.007387",
     "status": "completed"
    },
    "tags": []
   },
   "outputs": [
    {
     "name": "stdout",
     "output_type": "stream",
     "text": [
      "Cloning into 'kenlm'...\r\n",
      "remote: Enumerating objects: 13824, done.\u001b[K\r\n",
      "remote: Counting objects: 100% (137/137), done.\u001b[K\r\n",
      "remote: Compressing objects: 100% (79/79), done.\u001b[K\r\n",
      "remote: Total 13824 (delta 76), reused 92 (delta 45), pack-reused 13687\u001b[K\r\n",
      "Receiving objects: 100% (13824/13824), 5.49 MiB | 8.58 MiB/s, done.\r\n",
      "Resolving deltas: 100% (7956/7956), done.\r\n"
     ]
    }
   ],
   "source": [
    "!git clone https://github.com/kpu/kenlm"
   ]
  },
  {
   "cell_type": "code",
   "execution_count": 5,
   "id": "attractive-combine",
   "metadata": {
    "execution": {
     "iopub.execute_input": "2021-05-31T14:19:36.569913Z",
     "iopub.status.busy": "2021-05-31T14:19:36.565645Z",
     "iopub.status.idle": "2021-05-31T14:19:41.152086Z",
     "shell.execute_reply": "2021-05-31T14:19:41.151546Z",
     "shell.execute_reply.started": "2021-05-31T13:58:12.001162Z"
    },
    "papermill": {
     "duration": 4.619372,
     "end_time": "2021-05-31T14:19:41.152230",
     "exception": false,
     "start_time": "2021-05-31T14:19:36.532858",
     "status": "completed"
    },
    "tags": []
   },
   "outputs": [],
   "source": [
    "%%capture\n",
    "!apt-get -y install libeigen3-dev liblzma-dev zlib1g-dev libbz2-dev"
   ]
  },
  {
   "cell_type": "code",
   "execution_count": 6,
   "id": "bibliographic-generic",
   "metadata": {
    "execution": {
     "iopub.execute_input": "2021-05-31T14:19:41.213632Z",
     "iopub.status.busy": "2021-05-31T14:19:41.212932Z",
     "iopub.status.idle": "2021-05-31T14:20:51.854612Z",
     "shell.execute_reply": "2021-05-31T14:20:51.854037Z"
    },
    "papermill": {
     "duration": 70.676438,
     "end_time": "2021-05-31T14:20:51.854783",
     "exception": false,
     "start_time": "2021-05-31T14:19:41.178345",
     "status": "completed"
    },
    "tags": []
   },
   "outputs": [],
   "source": [
    "\n",
    "%%capture\n",
    "%cd kenlm\n",
    "!mkdir build\n",
    "%cd build\n",
    "!cmake ..\n",
    "!make -j 4\n",
    "%cd /tmp"
   ]
  },
  {
   "cell_type": "code",
   "execution_count": 7,
   "id": "quarterly-reputation",
   "metadata": {
    "execution": {
     "iopub.execute_input": "2021-05-31T14:20:51.914277Z",
     "iopub.status.busy": "2021-05-31T14:20:51.913664Z",
     "iopub.status.idle": "2021-05-31T14:21:30.674693Z",
     "shell.execute_reply": "2021-05-31T14:21:30.675194Z",
     "shell.execute_reply.started": "2021-05-31T14:00:27.915818Z"
    },
    "papermill": {
     "duration": 38.793858,
     "end_time": "2021-05-31T14:21:30.675462",
     "exception": false,
     "start_time": "2021-05-31T14:20:51.881604",
     "status": "completed"
    },
    "tags": []
   },
   "outputs": [],
   "source": [
    "%%capture\n",
    "%cd /tmp/kenlm\n",
    "!python setup.py install\n",
    "%cd /tmp"
   ]
  },
  {
   "cell_type": "code",
   "execution_count": 8,
   "id": "amber-castle",
   "metadata": {
    "execution": {
     "iopub.execute_input": "2021-05-31T14:21:30.730578Z",
     "iopub.status.busy": "2021-05-31T14:21:30.729945Z",
     "iopub.status.idle": "2021-05-31T14:21:30.734177Z",
     "shell.execute_reply": "2021-05-31T14:21:30.734787Z",
     "shell.execute_reply.started": "2021-05-25T22:58:58.397816Z"
    },
    "papermill": {
     "duration": 0.03326,
     "end_time": "2021-05-31T14:21:30.734959",
     "exception": false,
     "start_time": "2021-05-31T14:21:30.701699",
     "status": "completed"
    },
    "tags": []
   },
   "outputs": [],
   "source": [
    "import os\n",
    "os.environ['PATH'] = f\"{os.environ['PATH']}:/tmp/kenlm/build/bin/\"\n",
    "os.environ['FAIRSEQ_ROOT'] = '/tmp/fairseq'"
   ]
  },
  {
   "cell_type": "code",
   "execution_count": 9,
   "id": "relative-intranet",
   "metadata": {
    "execution": {
     "iopub.execute_input": "2021-05-31T14:21:30.790546Z",
     "iopub.status.busy": "2021-05-31T14:21:30.789905Z",
     "iopub.status.idle": "2021-05-31T14:21:30.796428Z",
     "shell.execute_reply": "2021-05-31T14:21:30.797141Z",
     "shell.execute_reply.started": "2021-05-31T11:51:49.832574Z"
    },
    "papermill": {
     "duration": 0.036287,
     "end_time": "2021-05-31T14:21:30.797391",
     "exception": false,
     "start_time": "2021-05-31T14:21:30.761104",
     "status": "completed"
    },
    "tags": []
   },
   "outputs": [
    {
     "name": "stdout",
     "output_type": "stream",
     "text": [
      "/tmp/fairseq\n"
     ]
    }
   ],
   "source": [
    "%cd /tmp/fairseq/"
   ]
  },
  {
   "cell_type": "code",
   "execution_count": 10,
   "id": "passive-refund",
   "metadata": {
    "execution": {
     "iopub.execute_input": "2021-05-31T14:21:30.857641Z",
     "iopub.status.busy": "2021-05-31T14:21:30.856683Z",
     "iopub.status.idle": "2021-05-31T14:22:44.558546Z",
     "shell.execute_reply": "2021-05-31T14:22:44.559100Z"
    },
    "papermill": {
     "duration": 73.734619,
     "end_time": "2021-05-31T14:22:44.559329",
     "exception": false,
     "start_time": "2021-05-31T14:21:30.824710",
     "status": "completed"
    },
    "tags": []
   },
   "outputs": [],
   "source": [
    "%%capture\n",
    "!python setup.py install"
   ]
  },
  {
   "cell_type": "code",
   "execution_count": 11,
   "id": "second-month",
   "metadata": {
    "execution": {
     "iopub.execute_input": "2021-05-31T14:22:44.618790Z",
     "iopub.status.busy": "2021-05-31T14:22:44.618139Z",
     "iopub.status.idle": "2021-05-31T14:22:44.621507Z",
     "shell.execute_reply": "2021-05-31T14:22:44.620898Z"
    },
    "papermill": {
     "duration": 0.035268,
     "end_time": "2021-05-31T14:22:44.621642",
     "exception": false,
     "start_time": "2021-05-31T14:22:44.586374",
     "status": "completed"
    },
    "tags": []
   },
   "outputs": [
    {
     "name": "stdout",
     "output_type": "stream",
     "text": [
      "/tmp/fairseq\n"
     ]
    }
   ],
   "source": [
    "%cd /tmp/fairseq/"
   ]
  },
  {
   "cell_type": "code",
   "execution_count": 12,
   "id": "encouraging-event",
   "metadata": {
    "execution": {
     "iopub.execute_input": "2021-05-31T14:22:44.678941Z",
     "iopub.status.busy": "2021-05-31T14:22:44.678342Z",
     "iopub.status.idle": "2021-05-31T14:22:44.682721Z",
     "shell.execute_reply": "2021-05-31T14:22:44.683178Z"
    },
    "papermill": {
     "duration": 0.034568,
     "end_time": "2021-05-31T14:22:44.683369",
     "exception": false,
     "start_time": "2021-05-31T14:22:44.648801",
     "status": "completed"
    },
    "tags": []
   },
   "outputs": [],
   "source": [
    "os.environ['HYDRA_FULL_ERROR'] = '1'"
   ]
  },
  {
   "cell_type": "markdown",
   "id": "liquid-exploration",
   "metadata": {
    "papermill": {
     "duration": 0.026727,
     "end_time": "2021-05-31T14:22:44.737520",
     "exception": false,
     "start_time": "2021-05-31T14:22:44.710793",
     "status": "completed"
    },
    "tags": []
   },
   "source": [
    "## GAN"
   ]
  },
  {
   "cell_type": "code",
   "execution_count": 13,
   "id": "dirty-retrieval",
   "metadata": {
    "execution": {
     "iopub.execute_input": "2021-05-31T14:22:44.795555Z",
     "iopub.status.busy": "2021-05-31T14:22:44.794587Z",
     "iopub.status.idle": "2021-05-31T14:22:45.525552Z",
     "shell.execute_reply": "2021-05-31T14:22:45.524957Z",
     "shell.execute_reply.started": "2021-05-30T16:46:39.899633Z"
    },
    "papermill": {
     "duration": 0.760963,
     "end_time": "2021-05-31T14:22:45.525698",
     "exception": false,
     "start_time": "2021-05-31T14:22:44.764735",
     "status": "completed"
    },
    "tags": []
   },
   "outputs": [
    {
     "name": "stdout",
     "output_type": "stream",
     "text": [
      "CLUS128\t\t    precompute_pca512_cls128_mean\t  train.npy\r\n",
      "__notebook__.ipynb  precompute_pca512_cls128_mean_pooled  train.phn\r\n",
      "__output__.json     test.lengths\t\t\t  train.tsv\r\n",
      "__results__.html    test.ltr\t\t\t\t  train.wrd\r\n",
      "custom.css\t    test.npy\t\t\t\t  valid.lengths\r\n",
      "dict.test\t    test.phn\t\t\t\t  valid.ltr\r\n",
      "dict.train\t    test.tsv\t\t\t\t  valid.npy\r\n",
      "dict.valid\t    test.wrd\t\t\t\t  valid.phn\r\n",
      "pca\t\t    train.lengths\t\t\t  valid.tsv\r\n",
      "precompute_pca512   train.ltr\t\t\t\t  valid.wrd\r\n"
     ]
    }
   ],
   "source": [
    "!ls /kaggle/input/wav2vec-u-cv-swedish-audio/"
   ]
  },
  {
   "cell_type": "code",
   "execution_count": 14,
   "id": "municipal-stuart",
   "metadata": {
    "execution": {
     "iopub.execute_input": "2021-05-31T14:22:45.588975Z",
     "iopub.status.busy": "2021-05-31T14:22:45.588001Z",
     "iopub.status.idle": "2021-05-31T14:22:45.592268Z",
     "shell.execute_reply": "2021-05-31T14:22:45.591765Z"
    },
    "papermill": {
     "duration": 0.038243,
     "end_time": "2021-05-31T14:22:45.592443",
     "exception": false,
     "start_time": "2021-05-31T14:22:45.554200",
     "status": "completed"
    },
    "tags": []
   },
   "outputs": [
    {
     "name": "stdout",
     "output_type": "stream",
     "text": [
      "Writing rungan.sh\n"
     ]
    }
   ],
   "source": [
    "%%writefile rungan.sh\n",
    "PREFIX=w2v_unsup_gan_xp\n",
    "#TASK_DATA=/path/to/features/unfiltered/precompute_unfiltered_pca512_cls128_mean_pooled\n",
    "TASK_DATA=/kaggle/input/wav2vec-u-cv-swedish-audio/precompute_pca512_cls128_mean_pooled/\n",
    "#TEXT_DATA=/path/to/data  # path to fairseq-preprocessed GAN data\n",
    "TEXT_DATA=/kaggle/input/wav2vec-u-cv-swedish-text-prep/preppedtext/phones/\n",
    "#KENLM_PATH=/path/to/data/kenlm.phn.o4.bin  # KenLM 4-gram phoneme language model (LM data = GAN data here)\n",
    "KENLM_PATH=/kaggle/input/wav2vec-u-cv-swedish-text-prep/preppedtext/phones/lm.phones.filtered.04.bin\n",
    "\n",
    "PREFIX=$PREFIX fairseq-hydra-train \\\n",
    "\t-m --config-dir fairseq/config/model/wav2vecu/gan \\\n",
    "\t--config-name w2vu \\\n",
    "\ttask.data=${TASK_DATA} \\\n",
    "\ttask.text_data=${TEXT_DATA} \\\n",
    "\ttask.kenlm_path=${KENLM_PATH} \\\n",
    "\tcheckpoint.no_epoch_checkpoints=false \\\n",
    "\tcheckpoint.save_dir=/kaggle/working \\\n",
    "\t'common.seed=range(0,5)'"
   ]
  },
  {
   "cell_type": "code",
   "execution_count": 15,
   "id": "particular-behalf",
   "metadata": {
    "execution": {
     "iopub.execute_input": "2021-05-31T14:22:45.656262Z",
     "iopub.status.busy": "2021-05-31T14:22:45.652294Z",
     "iopub.status.idle": "2021-05-31T14:22:49.390429Z",
     "shell.execute_reply": "2021-05-31T14:22:49.389866Z"
    },
    "papermill": {
     "duration": 3.770067,
     "end_time": "2021-05-31T14:22:49.390591",
     "exception": false,
     "start_time": "2021-05-31T14:22:45.620524",
     "status": "completed"
    },
    "tags": []
   },
   "outputs": [
    {
     "name": "stdout",
     "output_type": "stream",
     "text": [
      "Traceback (most recent call last):\r\n",
      "  File \"/opt/conda/bin/fairseq-hydra-train\", line 33, in <module>\r\n",
      "    sys.exit(load_entry_point('fairseq==1.0.0a0+40a611a', 'console_scripts', 'fairseq-hydra-train')())\r\n",
      "  File \"/opt/conda/bin/fairseq-hydra-train\", line 25, in importlib_load_entry_point\r\n",
      "    return next(matches).load()\r\n",
      "  File \"/opt/conda/lib/python3.7/site-packages/importlib_metadata/__init__.py\", line 96, in load\r\n",
      "    module = import_module(match.group('module'))\r\n",
      "  File \"/opt/conda/lib/python3.7/importlib/__init__.py\", line 127, in import_module\r\n",
      "    return _bootstrap._gcd_import(name[level:], package, level)\r\n",
      "  File \"<frozen importlib._bootstrap>\", line 1006, in _gcd_import\r\n",
      "  File \"<frozen importlib._bootstrap>\", line 983, in _find_and_load\r\n",
      "  File \"<frozen importlib._bootstrap>\", line 967, in _find_and_load_unlocked\r\n",
      "  File \"<frozen importlib._bootstrap>\", line 677, in _load_unlocked\r\n",
      "  File \"<frozen importlib._bootstrap_external>\", line 728, in exec_module\r\n",
      "  File \"<frozen importlib._bootstrap>\", line 219, in _call_with_frames_removed\r\n",
      "  File \"/opt/conda/lib/python3.7/site-packages/fairseq-1.0.0a0+40a611a-py3.7-linux-x86_64.egg/fairseq_cli/hydra_train.py\", line 10, in <module>\r\n",
      "    from fairseq.dataclass.initialize import add_defaults, hydra_init\r\n",
      "  File \"/opt/conda/lib/python3.7/site-packages/fairseq-1.0.0a0+40a611a-py3.7-linux-x86_64.egg/fairseq/__init__.py\", line 32, in <module>\r\n",
      "    import fairseq.criterions  # noqa\r\n",
      "  File \"/opt/conda/lib/python3.7/site-packages/fairseq-1.0.0a0+40a611a-py3.7-linux-x86_64.egg/fairseq/criterions/__init__.py\", line 36, in <module>\r\n",
      "    importlib.import_module(\"fairseq.criterions.\" + file_name)\r\n",
      "  File \"/opt/conda/lib/python3.7/importlib/__init__.py\", line 127, in import_module\r\n",
      "    return _bootstrap._gcd_import(name[level:], package, level)\r\n",
      "  File \"/opt/conda/lib/python3.7/site-packages/fairseq-1.0.0a0+40a611a-py3.7-linux-x86_64.egg/fairseq/criterions/ctc.py\", line 19, in <module>\r\n",
      "    from fairseq.tasks import FairseqTask\r\n",
      "  File \"/opt/conda/lib/python3.7/site-packages/fairseq-1.0.0a0+40a611a-py3.7-linux-x86_64.egg/fairseq/tasks/__init__.py\", line 116, in <module>\r\n",
      "    module = importlib.import_module(\"fairseq.tasks.\" + task_name)\r\n",
      "  File \"/opt/conda/lib/python3.7/importlib/__init__.py\", line 127, in import_module\r\n",
      "    return _bootstrap._gcd_import(name[level:], package, level)\r\n",
      "  File \"/opt/conda/lib/python3.7/site-packages/fairseq-1.0.0a0+40a611a-py3.7-linux-x86_64.egg/fairseq/tasks/multilingual_translation.py\", line 19, in <module>\r\n",
      "    from fairseq.models import FairseqMultiModel\r\n",
      "  File \"/opt/conda/lib/python3.7/site-packages/fairseq-1.0.0a0+40a611a-py3.7-linux-x86_64.egg/fairseq/models/__init__.py\", line 28, in <module>\r\n",
      "    from .wav2vec_u import Wav2vec_U\r\n",
      "  File \"/opt/conda/lib/python3.7/site-packages/fairseq-1.0.0a0+40a611a-py3.7-linux-x86_64.egg/fairseq/models/wav2vec_u.py\", line 19, in <module>\r\n",
      "    from fairseq.models import BaseFairseqModel, register_model\r\n",
      "ImportError: cannot import name 'register_model' from 'fairseq.models' (/opt/conda/lib/python3.7/site-packages/fairseq-1.0.0a0+40a611a-py3.7-linux-x86_64.egg/fairseq/models/__init__.py)\r\n"
     ]
    }
   ],
   "source": [
    "!bash rungan.sh"
   ]
  }
 ],
 "metadata": {
  "kernelspec": {
   "display_name": "Python 3",
   "language": "python",
   "name": "python3"
  },
  "language_info": {
   "codemirror_mode": {
    "name": "ipython",
    "version": 3
   },
   "file_extension": ".py",
   "mimetype": "text/x-python",
   "name": "python",
   "nbconvert_exporter": "python",
   "pygments_lexer": "ipython3",
   "version": "3.7.10"
  },
  "papermill": {
   "default_parameters": {},
   "duration": 440.922872,
   "end_time": "2021-05-31T14:22:50.917687",
   "environment_variables": {},
   "exception": null,
   "input_path": "__notebook__.ipynb",
   "output_path": "__notebook__.ipynb",
   "parameters": {},
   "start_time": "2021-05-31T14:15:29.994815",
   "version": "2.3.3"
  }
 },
 "nbformat": 4,
 "nbformat_minor": 5
}
