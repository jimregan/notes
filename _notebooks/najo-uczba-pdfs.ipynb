{
 "cells": [
  {
   "cell_type": "code",
   "execution_count": null,
   "id": "8527e42c",
   "metadata": {},
   "outputs": [],
   "source": [
    "!wget $(lynx -dump http://skarbnicakaszubska.pl/najo-uczba/|grep pdf|awk '{print $NF}')"
   ]
  },
  {
   "cell_type": "markdown",
   "id": "6bb24af0",
   "metadata": {},
   "source": [
    "For the most part, the text extracted from the pdfs is fine as is; one of the files has multiple articles, several with translations, making it potentially useful as a parallel corpus.\n",
    "\n",
    "The text (seems to) come out fine with `pdftotext`, so I haven't bothered doing anything else."
   ]
  },
  {
   "cell_type": "code",
   "execution_count": 6,
   "id": "ad5f999a",
   "metadata": {},
   "outputs": [],
   "source": [
    "!pdftotext -nopgbrk -f 9 -l 10 ZKP_biuletynRJK_2015_internet.pdf - | grep -v 'BIU­L E­T IN RADZËZNË KASZËBSCZÉGÒ JÃZËKA 2015'|grep -v '^10'|grep -v '^$' > ZKP_biuletynRJK_2015_internet_1.csb.txt"
   ]
  },
  {
   "cell_type": "code",
   "execution_count": 8,
   "id": "d9291e76",
   "metadata": {},
   "outputs": [],
   "source": [
    "!pdftotext -nopgbrk -f 11 -l 12 ZKP_biuletynRJK_2015_internet.pdf - | grep -v 'BIU­L E­T YN RADY JĘZYKA KASZUBSKIEGO 2015'|grep -v '^12'|grep -v '^$' > ZKP_biuletynRJK_2015_internet_1.pl.txt"
   ]
  },
  {
   "cell_type": "code",
   "execution_count": 9,
   "id": "dd53232c",
   "metadata": {},
   "outputs": [],
   "source": [
    "!pdftotext -nopgbrk -f 14 -l 20 ZKP_biuletynRJK_2015_internet.pdf - | grep -v 'BIU­L E­T IN RADZËZNË KASZËBSCZÉGÒ JÃZËKA 2015'|grep -v '^Pòstanowienia Radzëznë Kaszëbsczégò Jãzëka'|grep -v '^$'|grep -v '^1[5-9]$'|grep -v '^20$' > ZKP_biuletynRJK_2015_internet_wl1.txt"
   ]
  },
  {
   "cell_type": "code",
   "execution_count": 12,
   "id": "e61cda75",
   "metadata": {},
   "outputs": [],
   "source": [
    "!pdftotext -nopgbrk -f 21 -l 23 ZKP_biuletynRJK_2015_internet.pdf - | grep -v 'BIU­L E­T IN RADZËZNË KASZËBSCZÉGÒ JÃZËKA 2015'|grep -v '^Pòstanowienia Radzëznë Kaszëbsczégò Jãzëka'|grep -v '^$'|grep -v '^2[1-9]$' > ZKP_biuletynRJK_2015_internet_wl2.txt"
   ]
  },
  {
   "cell_type": "code",
   "execution_count": 13,
   "id": "cf8c4aa6",
   "metadata": {},
   "outputs": [],
   "source": [
    "!pdftotext -nopgbrk -f 24 -l 29 ZKP_biuletynRJK_2015_internet.pdf - | grep -v 'BIU­L E­T IN RADZËZNË KASZËBSCZÉGÒ JÃZËKA 2015'|grep -v '^Pòstanowienia Radzëznë Kaszëbsczégò Jãzëka'|grep -v '^$'|grep -v '^2[1-9]$' > ZKP_biuletynRJK_2015_internet_wl3.txt"
   ]
  },
  {
   "cell_type": "code",
   "execution_count": 16,
   "id": "601b8385",
   "metadata": {},
   "outputs": [],
   "source": [
    "!pdftotext -nopgbrk -f 30 -l 48 ZKP_biuletynRJK_2015_internet.pdf - | grep -v 'BIU­L E­T IN RADZËZNË KASZËBSCZÉGÒ JÃZËKA 2015'|grep -v '^Pòstanowienia Radzëznë Kaszëbsczégò Jãzëka'|grep -v '^$'|grep -v '^[34][0-9]$' > ZKP_biuletynRJK_2015_internet_wl4.txt"
   ]
  },
  {
   "cell_type": "code",
   "execution_count": 17,
   "id": "041b61a0",
   "metadata": {},
   "outputs": [],
   "source": [
    "!pdftotext -nopgbrk -f 49 -l 49 ZKP_biuletynRJK_2015_internet.pdf - | grep -v 'BIU­L E­T IN RADZËZNË KASZËBSCZÉGÒ JÃZËKA 2015'|grep -v '^Pòstanowienia Radzëznë Kaszëbsczégò Jãzëka'|grep -v '^$'|grep -v '^[34][0-9]$' > ZKP_biuletynRJK_2015_internet_wl5.txt"
   ]
  },
  {
   "cell_type": "code",
   "execution_count": 18,
   "id": "3e4f44d5",
   "metadata": {},
   "outputs": [],
   "source": [
    "!pdftotext -nopgbrk -f 50 -l 65 ZKP_biuletynRJK_2015_internet.pdf - | grep -v 'BIU­L E­T IN RADZËZNË KASZËBSCZÉGÒ JÃZËKA 2015'|grep -v '^Pòstanowienia Radzëznë Kaszëbsczégò Jãzëka'|grep -v '^$'|grep -v '^[56][0-9]$' > ZKP_biuletynRJK_2015_internet_wl6.txt"
   ]
  },
  {
   "cell_type": "code",
   "execution_count": 24,
   "id": "275ea089",
   "metadata": {},
   "outputs": [],
   "source": [
    "def runner(file, start, end, suffix):\n",
    "    base = file.replace('.pdf', '')\n",
    "    outfile = f\"{base}_{suffix}.txt\"\n",
    "    !pdftotext -nopgbrk -f {start} -l {end} {file} - | grep -v 'BIU­L E­T IN RADZËZNË KASZËBSCZÉGÒ JÃZËKA 2015'|grep -v 'BIU­L E­T YN RADY JĘZYKA KASZUBSKIEGO 2015'|grep -v '^Pòstanowienia Radzëznë Kaszëbsczégò Jãzëka'|grep -v '^$'|grep -v '^[0-9][0-9]$'|grep -v '^[1-4][0-9][0-9]$' > {outfile}"
   ]
  },
  {
   "cell_type": "code",
   "execution_count": 25,
   "id": "24d7686a",
   "metadata": {},
   "outputs": [],
   "source": [
    "runner('ZKP_biuletynRJK_2015_internet.pdf', 68, 74, 'wl7')\n",
    "runner('ZKP_biuletynRJK_2015_internet.pdf', 75, 77, 'wl8')\n",
    "runner('ZKP_biuletynRJK_2015_internet.pdf', 78, 83, 'wl9')\n",
    "runner('ZKP_biuletynRJK_2015_internet.pdf', 84, 102, 'wl10')\n",
    "runner('ZKP_biuletynRJK_2015_internet.pdf', 103, 103, 'wl11')\n",
    "runner('ZKP_biuletynRJK_2015_internet.pdf', 104, 119, 'wl12')"
   ]
  },
  {
   "cell_type": "code",
   "execution_count": 28,
   "id": "44e7b40b",
   "metadata": {},
   "outputs": [],
   "source": [
    "runner('ZKP_biuletynRJK_2015_internet.pdf', 122, 128, 'csb2')\n",
    "runner('ZKP_biuletynRJK_2015_internet.pdf', 129, 132, 'csb3')\n",
    "runner('ZKP_biuletynRJK_2015_internet.pdf', 133, 144, 'csb4')\n",
    "runner('ZKP_biuletynRJK_2015_internet.pdf', 145, 151, 'csb5')\n",
    "runner('ZKP_biuletynRJK_2015_internet.pdf', 153, 161, 'csb6')\n",
    "runner('ZKP_biuletynRJK_2015_internet.pdf', 162, 166, 'csb7')\n",
    "runner('ZKP_biuletynRJK_2015_internet.pdf', 168, 178, 'csb8')\n",
    "runner('ZKP_biuletynRJK_2015_internet.pdf', 179, 185, 'csb9')\n",
    "# it took me this long to remember that there's a table of contents!\n",
    "runner('ZKP_biuletynRJK_2015_internet.pdf', 186, 197, 'csb10')\n",
    "runner('ZKP_biuletynRJK_2015_internet.pdf', 198, 204, 'csb11')\n",
    "runner('ZKP_biuletynRJK_2015_internet.pdf', 205, 211, 'csb12')\n",
    "runner('ZKP_biuletynRJK_2015_internet.pdf', 212, 220, 'csb13')\n",
    "runner('ZKP_biuletynRJK_2015_internet.pdf', 222, 228, 'pl2')\n",
    "runner('ZKP_biuletynRJK_2015_internet.pdf', 229, 237, 'plx1')\n",
    "runner('ZKP_biuletynRJK_2015_internet.pdf', 238, 241, 'pl3')\n",
    "runner('ZKP_biuletynRJK_2015_internet.pdf', 242, 248, 'plx2')\n",
    "runner('ZKP_biuletynRJK_2015_internet.pdf', 249, 254, 'plx3')\n",
    "runner('ZKP_biuletynRJK_2015_internet.pdf', 255, 266, 'pl4')\n",
    "runner('ZKP_biuletynRJK_2015_internet.pdf', 267, 274, 'pl5')\n",
    "runner('ZKP_biuletynRJK_2015_internet.pdf', 275, 283, 'pl6')\n",
    "runner('ZKP_biuletynRJK_2015_internet.pdf', 284, 289, 'pl7')\n",
    "runner('ZKP_biuletynRJK_2015_internet.pdf', 290, 300, 'plx4')\n",
    "runner('ZKP_biuletynRJK_2015_internet.pdf', 301, 313, 'pl8')\n",
    "runner('ZKP_biuletynRJK_2015_internet.pdf', 314, 320, 'pl9')\n",
    "runner('ZKP_biuletynRJK_2015_internet.pdf', 5, 8, 'toc')\n",
    "runner('ZKP_biuletynRJK_2015_internet.pdf', 321, 333, 'pl10')\n",
    "runner('ZKP_biuletynRJK_2015_internet.pdf', 334, 359, 'plx5')\n",
    "runner('ZKP_biuletynRJK_2015_internet.pdf', 360, 367, 'pl11')\n",
    "runner('ZKP_biuletynRJK_2015_internet.pdf', 368, 374, 'pl12')\n",
    "runner('ZKP_biuletynRJK_2015_internet.pdf', 375, 390, 'plx6')\n",
    "runner('ZKP_biuletynRJK_2015_internet.pdf', 391, 396, 'plx7')\n",
    "runner('ZKP_biuletynRJK_2015_internet.pdf', 397, 404, 'pl13')"
   ]
  },
  {
   "cell_type": "markdown",
   "id": "0cdc458a",
   "metadata": {},
   "source": [
    "Now, the rest"
   ]
  }
 ],
 "metadata": {
  "kernelspec": {
   "display_name": "Python 3",
   "language": "python",
   "name": "python3"
  },
  "language_info": {
   "codemirror_mode": {
    "name": "ipython",
    "version": 3
   },
   "file_extension": ".py",
   "mimetype": "text/x-python",
   "name": "python",
   "nbconvert_exporter": "python",
   "pygments_lexer": "ipython3",
   "version": "3.8.2"
  }
 },
 "nbformat": 4,
 "nbformat_minor": 5
}
