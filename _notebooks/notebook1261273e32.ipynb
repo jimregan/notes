{
 "cells": [
  {
   "cell_type": "code",
   "execution_count": 1,
   "id": "friendly-riding",
   "metadata": {
    "_cell_guid": "b1076dfc-b9ad-4769-8c92-a6c4dae69d19",
    "_uuid": "8f2839f25d086af736a60e9eeb907d3b93b6e0e5",
    "execution": {
     "iopub.execute_input": "2021-06-03T20:13:14.316344Z",
     "iopub.status.busy": "2021-06-03T20:13:14.315011Z",
     "iopub.status.idle": "2021-06-03T20:13:21.848794Z",
     "shell.execute_reply": "2021-06-03T20:13:21.847866Z",
     "shell.execute_reply.started": "2021-06-03T20:11:48.492930Z"
    },
    "papermill": {
     "duration": 7.54191,
     "end_time": "2021-06-03T20:13:21.849029",
     "exception": false,
     "start_time": "2021-06-03T20:13:14.307119",
     "status": "completed"
    },
    "tags": []
   },
   "outputs": [],
   "source": [
    "!cp -r ../input/w2vu-cvsv-audio-processed/precompute_pca512_cls128_mean_pooled/ ."
   ]
  }
 ],
 "metadata": {
  "kernelspec": {
   "display_name": "Python 3",
   "language": "python",
   "name": "python3"
  },
  "language_info": {
   "codemirror_mode": {
    "name": "ipython",
    "version": 3
   },
   "file_extension": ".py",
   "mimetype": "text/x-python",
   "name": "python",
   "nbconvert_exporter": "python",
   "pygments_lexer": "ipython3",
   "version": "3.7.9"
  },
  "papermill": {
   "default_parameters": {},
   "duration": 15.718687,
   "end_time": "2021-06-03T20:13:22.563846",
   "environment_variables": {},
   "exception": null,
   "input_path": "__notebook__.ipynb",
   "output_path": "__notebook__.ipynb",
   "parameters": {},
   "start_time": "2021-06-03T20:13:06.845159",
   "version": "2.3.2"
  }
 },
 "nbformat": 4,
 "nbformat_minor": 5
}
