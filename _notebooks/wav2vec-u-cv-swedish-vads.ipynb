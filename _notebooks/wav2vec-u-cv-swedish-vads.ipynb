{
 "cells": [
  {
   "cell_type": "code",
   "execution_count": 1,
   "id": "fifty-monkey",
   "metadata": {
    "execution": {
     "iopub.execute_input": "2021-05-25T21:53:19.205056Z",
     "iopub.status.busy": "2021-05-25T21:53:19.188408Z",
     "iopub.status.idle": "2021-05-25T21:53:19.931660Z",
     "shell.execute_reply": "2021-05-25T21:53:19.930813Z",
     "shell.execute_reply.started": "2021-05-25T21:21:09.311246Z"
    },
    "papermill": {
     "duration": 0.764021,
     "end_time": "2021-05-25T21:53:19.931869",
     "exception": false,
     "start_time": "2021-05-25T21:53:19.167848",
     "status": "completed"
    },
    "tags": []
   },
   "outputs": [],
   "source": [
    "!mkdir /kaggle/working/train.vads"
   ]
  },
  {
   "cell_type": "code",
   "execution_count": 2,
   "id": "early-afternoon",
   "metadata": {
    "execution": {
     "iopub.execute_input": "2021-05-25T21:53:19.953061Z",
     "iopub.status.busy": "2021-05-25T21:53:19.952343Z",
     "iopub.status.idle": "2021-05-25T21:53:19.959035Z",
     "shell.execute_reply": "2021-05-25T21:53:19.958237Z",
     "shell.execute_reply.started": "2021-05-25T21:21:11.590631Z"
    },
    "papermill": {
     "duration": 0.019313,
     "end_time": "2021-05-25T21:53:19.959247",
     "exception": false,
     "start_time": "2021-05-25T21:53:19.939934",
     "status": "completed"
    },
    "tags": []
   },
   "outputs": [
    {
     "name": "stdout",
     "output_type": "stream",
     "text": [
      "/tmp\n"
     ]
    }
   ],
   "source": [
    "%cd /tmp"
   ]
  },
  {
   "cell_type": "code",
   "execution_count": 3,
   "id": "literary-satisfaction",
   "metadata": {
    "_cell_guid": "b1076dfc-b9ad-4769-8c92-a6c4dae69d19",
    "_uuid": "8f2839f25d086af736a60e9eeb907d3b93b6e0e5",
    "execution": {
     "iopub.execute_input": "2021-05-25T21:53:19.982136Z",
     "iopub.status.busy": "2021-05-25T21:53:19.981331Z",
     "iopub.status.idle": "2021-05-25T21:53:23.072035Z",
     "shell.execute_reply": "2021-05-25T21:53:23.071347Z",
     "shell.execute_reply.started": "2021-05-25T21:21:17.392348Z"
    },
    "papermill": {
     "duration": 3.103879,
     "end_time": "2021-05-25T21:53:23.072214",
     "exception": false,
     "start_time": "2021-05-25T21:53:19.968335",
     "status": "completed"
    },
    "tags": []
   },
   "outputs": [
    {
     "name": "stdout",
     "output_type": "stream",
     "text": [
      "Cloning into 'fairseq'...\r\n"
     ]
    },
    {
     "name": "stdout",
     "output_type": "stream",
     "text": [
      "remote: Enumerating objects: 28093, done.\u001b[K\r\n",
      "remote: Counting objects:   0% (1/514)\u001b[K\r",
      "remote: Counting objects:   1% (6/514)\u001b[K\r",
      "remote: Counting objects:   2% (11/514)\u001b[K\r",
      "remote: Counting objects:   3% (16/514)\u001b[K\r",
      "remote: Counting objects:   4% (21/514)\u001b[K\r",
      "remote: Counting objects:   5% (26/514)\u001b[K\r",
      "remote: Counting objects:   6% (31/514)\u001b[K\r",
      "remote: Counting objects:   7% (36/514)\u001b[K\r",
      "remote: Counting objects:   8% (42/514)\u001b[K\r",
      "remote: Counting objects:   9% (47/514)\u001b[K\r",
      "remote: Counting objects:  10% (52/514)\u001b[K\r",
      "remote: Counting objects:  11% (57/514)\u001b[K\r",
      "remote: Counting objects:  12% (62/514)\u001b[K\r",
      "remote: Counting objects:  13% (67/514)\u001b[K\r",
      "remote: Counting objects:  14% (72/514)\u001b[K\r",
      "remote: Counting objects:  15% (78/514)\u001b[K\r",
      "remote: Counting objects:  16% (83/514)\u001b[K\r",
      "remote: Counting objects:  17% (88/514)\u001b[K\r",
      "remote: Counting objects:  18% (93/514)\u001b[K\r",
      "remote: Counting objects:  19% (98/514)\u001b[K\r",
      "remote: Counting objects:  20% (103/514)\u001b[K\r",
      "remote: Counting objects:  21% (108/514)\u001b[K\r",
      "remote: Counting objects:  22% (114/514)\u001b[K\r",
      "remote: Counting objects:  23% (119/514)\u001b[K\r",
      "remote: Counting objects:  24% (124/514)\u001b[K\r",
      "remote: Counting objects:  25% (129/514)\u001b[K\r",
      "remote: Counting objects:  26% (134/514)\u001b[K\r",
      "remote: Counting objects:  27% (139/514)\u001b[K\r",
      "remote: Counting objects:  28% (144/514)\u001b[K\r",
      "remote: Counting objects:  29% (150/514)\u001b[K\r",
      "remote: Counting objects:  30% (155/514)\u001b[K\r",
      "remote: Counting objects:  31% (160/514)\u001b[K\r",
      "remote: Counting objects:  32% (165/514)\u001b[K\r",
      "remote: Counting objects:  33% (170/514)\u001b[K\r",
      "remote: Counting objects:  34% (175/514)\u001b[K\r",
      "remote: Counting objects:  35% (180/514)\u001b[K\r",
      "remote: Counting objects:  36% (186/514)\u001b[K\r",
      "remote: Counting objects:  37% (191/514)\u001b[K\r",
      "remote: Counting objects:  38% (196/514)\u001b[K\r",
      "remote: Counting objects:  39% (201/514)\u001b[K\r",
      "remote: Counting objects:  40% (206/514)\u001b[K\r",
      "remote: Counting objects:  41% (211/514)\u001b[K\r",
      "remote: Counting objects:  42% (216/514)\u001b[K\r",
      "remote: Counting objects:  43% (222/514)\u001b[K\r",
      "remote: Counting objects:  44% (227/514)\u001b[K\r",
      "remote: Counting objects:  45% (232/514)\u001b[K\r",
      "remote: Counting objects:  46% (237/514)\u001b[K\r",
      "remote: Counting objects:  47% (242/514)\u001b[K\r",
      "remote: Counting objects:  48% (247/514)\u001b[K\r",
      "remote: Counting objects:  49% (252/514)\u001b[K\r",
      "remote: Counting objects:  50% (257/514)\u001b[K\r",
      "remote: Counting objects:  51% (263/514)\u001b[K\r",
      "remote: Counting objects:  52% (268/514)\u001b[K\r",
      "remote: Counting objects:  53% (273/514)\u001b[K\r",
      "remote: Counting objects:  54% (278/514)\u001b[K\r",
      "remote: Counting objects:  55% (283/514)\u001b[K\r",
      "remote: Counting objects:  56% (288/514)\u001b[K\r",
      "remote: Counting objects:  57% (293/514)\u001b[K\r",
      "remote: Counting objects:  58% (299/514)\u001b[K\r",
      "remote: Counting objects:  59% (304/514)\u001b[K\r",
      "remote: Counting objects:  60% (309/514)\u001b[K\r",
      "remote: Counting objects:  61% (314/514)\u001b[K\r",
      "remote: Counting objects:  62% (319/514)\u001b[K\r",
      "remote: Counting objects:  63% (324/514)\u001b[K\r",
      "remote: Counting objects:  64% (329/514)\u001b[K\r",
      "remote: Counting objects:  65% (335/514)\u001b[K\r",
      "remote: Counting objects:  66% (340/514)\u001b[K\r",
      "remote: Counting objects:  67% (345/514)\u001b[K\r",
      "remote: Counting objects:  68% (350/514)\u001b[K\r",
      "remote: Counting objects:  69% (355/514)\u001b[K\r",
      "remote: Counting objects:  70% (360/514)\u001b[K\r",
      "remote: Counting objects:  71% (365/514)\u001b[K\r",
      "remote: Counting objects:  72% (371/514)\u001b[K\r",
      "remote: Counting objects:  73% (376/514)\u001b[K\r",
      "remote: Counting objects:  74% (381/514)\u001b[K\r",
      "remote: Counting objects:  75% (386/514)\u001b[K\r",
      "remote: Counting objects:  76% (391/514)\u001b[K\r",
      "remote: Counting objects:  77% (396/514)\u001b[K\r",
      "remote: Counting objects:  78% (401/514)\u001b[K\r",
      "remote: Counting objects:  79% (407/514)\u001b[K\r",
      "remote: Counting objects:  80% (412/514)\u001b[K\r",
      "remote: Counting objects:  81% (417/514)\u001b[K\r",
      "remote: Counting objects:  82% (422/514)\u001b[K\r",
      "remote: Counting objects:  83% (427/514)\u001b[K\r",
      "remote: Counting objects:  84% (432/514)\u001b[K\r",
      "remote: Counting objects:  85% (437/514)\u001b[K\r",
      "remote: Counting objects:  86% (443/514)\u001b[K\r",
      "remote: Counting objects:  87% (448/514)\u001b[K\r",
      "remote: Counting objects:  88% (453/514)\u001b[K\r",
      "remote: Counting objects:  89% (458/514)\u001b[K\r",
      "remote: Counting objects:  90% (463/514)\u001b[K\r",
      "remote: Counting objects:  91% (468/514)\u001b[K\r",
      "remote: Counting objects:  92% (473/514)\u001b[K\r",
      "remote: Counting objects:  93% (479/514)\u001b[K\r",
      "remote: Counting objects:  94% (484/514)\u001b[K\r",
      "remote: Counting objects:  95% (489/514)\u001b[K\r",
      "remote: Counting objects:  96% (494/514)\u001b[K\r",
      "remote: Counting objects:  97% (499/514)\u001b[K\r",
      "remote: Counting objects:  98% (504/514)\u001b[K\r",
      "remote: Counting objects:  99% (509/514)\u001b[K\r",
      "remote: Counting objects: 100% (514/514)\u001b[K\r",
      "remote: Counting objects: 100% (514/514), done.\u001b[K\r\n",
      "remote: Compressing objects:   0% (1/306)\u001b[K\r",
      "remote: Compressing objects:   1% (4/306)\u001b[K\r",
      "remote: Compressing objects:   2% (7/306)\u001b[K\r",
      "remote: Compressing objects:   3% (10/306)\u001b[K\r",
      "remote: Compressing objects:   4% (13/306)\u001b[K\r",
      "remote: Compressing objects:   5% (16/306)\u001b[K\r",
      "remote: Compressing objects:   6% (19/306)\u001b[K\r",
      "remote: Compressing objects:   7% (22/306)\u001b[K\r",
      "remote: Compressing objects:   8% (25/306)\u001b[K\r",
      "remote: Compressing objects:   9% (28/306)\u001b[K\r",
      "remote: Compressing objects:  10% (31/306)\u001b[K\r",
      "remote: Compressing objects:  11% (34/306)\u001b[K\r",
      "remote: Compressing objects:  12% (37/306)\u001b[K\r",
      "remote: Compressing objects:  13% (40/306)\u001b[K\r",
      "remote: Compressing objects:  14% (43/306)\u001b[K\r",
      "remote: Compressing objects:  15% (46/306)\u001b[K\r",
      "remote: Compressing objects:  16% (49/306)\u001b[K\r",
      "remote: Compressing objects:  17% (53/306)\u001b[K\r",
      "remote: Compressing objects:  18% (56/306)\u001b[K\r",
      "remote: Compressing objects:  19% (59/306)\u001b[K\r",
      "remote: Compressing objects:  20% (62/306)\u001b[K\r",
      "remote: Compressing objects:  21% (65/306)\u001b[K\r",
      "remote: Compressing objects:  22% (68/306)\u001b[K\r",
      "remote: Compressing objects:  23% (71/306)\u001b[K\r",
      "remote: Compressing objects:  24% (74/306)\u001b[K\r",
      "remote: Compressing objects:  25% (77/306)\u001b[K\r",
      "remote: Compressing objects:  26% (80/306)\u001b[K\r",
      "remote: Compressing objects:  27% (83/306)\u001b[K\r",
      "remote: Compressing objects:  28% (86/306)\u001b[K\r",
      "remote: Compressing objects:  29% (89/306)\u001b[K\r",
      "remote: Compressing objects:  30% (92/306)\u001b[K\r",
      "remote: Compressing objects:  31% (95/306)\u001b[K\r",
      "remote: Compressing objects:  32% (98/306)\u001b[K\r",
      "remote: Compressing objects:  33% (101/306)\u001b[K\r",
      "remote: Compressing objects:  34% (105/306)\u001b[K\r",
      "remote: Compressing objects:  35% (108/306)\u001b[K\r"
     ]
    },
    {
     "name": "stdout",
     "output_type": "stream",
     "text": [
      "remote: Compressing objects:  36% (111/306)\u001b[K\r",
      "remote: Compressing objects:  37% (114/306)\u001b[K\r",
      "remote: Compressing objects:  38% (117/306)\u001b[K\r",
      "remote: Compressing objects:  39% (120/306)\u001b[K\r",
      "remote: Compressing objects:  40% (123/306)\u001b[K\r",
      "remote: Compressing objects:  41% (126/306)\u001b[K\r",
      "remote: Compressing objects:  42% (129/306)\u001b[K\r",
      "remote: Compressing objects:  43% (132/306)\u001b[K\r",
      "remote: Compressing objects:  44% (135/306)\u001b[K\r",
      "remote: Compressing objects:  45% (138/306)\u001b[K\r",
      "remote: Compressing objects:  46% (141/306)\u001b[K\r",
      "remote: Compressing objects:  47% (144/306)\u001b[K\r",
      "remote: Compressing objects:  48% (147/306)\u001b[K\r",
      "remote: Compressing objects:  49% (150/306)\u001b[K\r",
      "remote: Compressing objects:  50% (153/306)\u001b[K\r",
      "remote: Compressing objects:  51% (157/306)\u001b[K\r",
      "remote: Compressing objects:  52% (160/306)\u001b[K\r",
      "remote: Compressing objects:  53% (163/306)\u001b[K\r",
      "remote: Compressing objects:  54% (166/306)\u001b[K\r",
      "remote: Compressing objects:  55% (169/306)\u001b[K\r",
      "remote: Compressing objects:  56% (172/306)\u001b[K\r",
      "remote: Compressing objects:  57% (175/306)\u001b[K\r",
      "remote: Compressing objects:  58% (178/306)\u001b[K\r",
      "remote: Compressing objects:  59% (181/306)\u001b[K\r",
      "remote: Compressing objects:  60% (184/306)\u001b[K\r",
      "remote: Compressing objects:  61% (187/306)\u001b[K\r",
      "remote: Compressing objects:  62% (190/306)\u001b[K\r",
      "remote: Compressing objects:  63% (193/306)\u001b[K\r",
      "remote: Compressing objects:  64% (196/306)\u001b[K\r",
      "remote: Compressing objects:  65% (199/306)\u001b[K\r",
      "remote: Compressing objects:  66% (202/306)\u001b[K\r",
      "remote: Compressing objects:  67% (206/306)\u001b[K\r",
      "remote: Compressing objects:  68% (209/306)\u001b[K\r",
      "remote: Compressing objects:  69% (212/306)\u001b[K\r",
      "remote: Compressing objects:  70% (215/306)\u001b[K\r",
      "remote: Compressing objects:  71% (218/306)\u001b[K\r",
      "remote: Compressing objects:  72% (221/306)\u001b[K\r",
      "remote: Compressing objects:  73% (224/306)\u001b[K\r",
      "remote: Compressing objects:  74% (227/306)\u001b[K\r",
      "remote: Compressing objects:  75% (230/306)\u001b[K\r",
      "remote: Compressing objects:  76% (233/306)\u001b[K\r",
      "remote: Compressing objects:  77% (236/306)\u001b[K\r",
      "remote: Compressing objects:  78% (239/306)\u001b[K\r",
      "remote: Compressing objects:  79% (242/306)\u001b[K\r",
      "remote: Compressing objects:  80% (245/306)\u001b[K\r",
      "remote: Compressing objects:  81% (248/306)\u001b[K\r",
      "remote: Compressing objects:  82% (251/306)\u001b[K\r",
      "remote: Compressing objects:  83% (254/306)\u001b[K\r",
      "remote: Compressing objects:  84% (258/306)\u001b[K\r",
      "remote: Compressing objects:  85% (261/306)\u001b[K\r",
      "remote: Compressing objects:  86% (264/306)\u001b[K\r",
      "remote: Compressing objects:  87% (267/306)\u001b[K\r",
      "remote: Compressing objects:  88% (270/306)\u001b[K\r",
      "remote: Compressing objects:  89% (273/306)\u001b[K\r",
      "remote: Compressing objects:  90% (276/306)\u001b[K\r",
      "remote: Compressing objects:  91% (279/306)\u001b[K\r",
      "remote: Compressing objects:  92% (282/306)\u001b[K\r",
      "remote: Compressing objects:  93% (285/306)\u001b[K\r",
      "remote: Compressing objects:  94% (288/306)\u001b[K\r",
      "remote: Compressing objects:  95% (291/306)\u001b[K\r",
      "remote: Compressing objects:  96% (294/306)\u001b[K\r",
      "remote: Compressing objects:  97% (297/306)\u001b[K\r",
      "remote: Compressing objects:  98% (300/306)\u001b[K\r",
      "remote: Compressing objects:  99% (303/306)\u001b[K\r",
      "remote: Compressing objects: 100% (306/306)\u001b[K\r",
      "remote: Compressing objects: 100% (306/306), done.\u001b[K\r\n",
      "Receiving objects:   0% (1/28093)   \r"
     ]
    },
    {
     "name": "stdout",
     "output_type": "stream",
     "text": [
      "Receiving objects:   1% (281/28093)   \r",
      "Receiving objects:   2% (562/28093)   \r"
     ]
    },
    {
     "name": "stdout",
     "output_type": "stream",
     "text": [
      "Receiving objects:   3% (843/28093)   \r",
      "Receiving objects:   4% (1124/28093)   \r",
      "Receiving objects:   5% (1405/28093)   \r",
      "Receiving objects:   6% (1686/28093)   \r"
     ]
    },
    {
     "name": "stdout",
     "output_type": "stream",
     "text": [
      "Receiving objects:   7% (1967/28093)   \r",
      "Receiving objects:   8% (2248/28093)   \r",
      "Receiving objects:   9% (2529/28093)   \r",
      "Receiving objects:  10% (2810/28093)   \r",
      "Receiving objects:  11% (3091/28093)   \r"
     ]
    },
    {
     "name": "stdout",
     "output_type": "stream",
     "text": [
      "Receiving objects:  12% (3372/28093)   \r",
      "Receiving objects:  13% (3653/28093)   \r",
      "Receiving objects:  14% (3934/28093)   \r",
      "Receiving objects:  15% (4214/28093)   \r",
      "Receiving objects:  16% (4495/28093)   \r"
     ]
    },
    {
     "name": "stdout",
     "output_type": "stream",
     "text": [
      "Receiving objects:  17% (4776/28093)   \r",
      "Receiving objects:  18% (5057/28093)   \r"
     ]
    },
    {
     "name": "stdout",
     "output_type": "stream",
     "text": [
      "Receiving objects:  19% (5338/28093)   \r",
      "Receiving objects:  20% (5619/28093)   \r",
      "Receiving objects:  21% (5900/28093)   \r",
      "Receiving objects:  22% (6181/28093)   \r"
     ]
    },
    {
     "name": "stdout",
     "output_type": "stream",
     "text": [
      "Receiving objects:  23% (6462/28093)   \r",
      "Receiving objects:  24% (6743/28093)   \r",
      "Receiving objects:  25% (7024/28093)   \r",
      "Receiving objects:  26% (7305/28093)   \r",
      "Receiving objects:  27% (7586/28093)   \r",
      "Receiving objects:  28% (7867/28093)   \r",
      "Receiving objects:  29% (8147/28093)   \r"
     ]
    },
    {
     "name": "stdout",
     "output_type": "stream",
     "text": [
      "Receiving objects:  30% (8428/28093)   \r",
      "Receiving objects:  31% (8709/28093)   \r",
      "Receiving objects:  32% (8990/28093)   \r",
      "Receiving objects:  33% (9271/28093)   \r",
      "Receiving objects:  34% (9552/28093)   \r",
      "Receiving objects:  35% (9833/28093)   \r",
      "Receiving objects:  36% (10114/28093)   \r",
      "Receiving objects:  37% (10395/28093)   \r",
      "Receiving objects:  38% (10676/28093)   \r",
      "Receiving objects:  39% (10957/28093)   \r",
      "Receiving objects:  40% (11238/28093)   \r",
      "Receiving objects:  41% (11519/28093)   \r",
      "Receiving objects:  42% (11800/28093)   \r",
      "Receiving objects:  43% (12080/28093)   \r",
      "Receiving objects:  44% (12361/28093)   \r"
     ]
    },
    {
     "name": "stdout",
     "output_type": "stream",
     "text": [
      "Receiving objects:  45% (12642/28093)   \r",
      "Receiving objects:  46% (12923/28093)   \r",
      "Receiving objects:  47% (13204/28093)   \r",
      "Receiving objects:  48% (13485/28093)   \r",
      "Receiving objects:  49% (13766/28093)   \r",
      "Receiving objects:  50% (14047/28093)   \r",
      "Receiving objects:  51% (14328/28093)   \r",
      "Receiving objects:  52% (14609/28093)   \r",
      "Receiving objects:  53% (14890/28093)   \r",
      "Receiving objects:  54% (15171/28093)   \r",
      "Receiving objects:  55% (15452/28093)   \r",
      "Receiving objects:  56% (15733/28093)   \r",
      "Receiving objects:  57% (16014/28093)   \r",
      "Receiving objects:  58% (16294/28093), 8.90 MiB | 17.80 MiB/s   \r"
     ]
    },
    {
     "name": "stdout",
     "output_type": "stream",
     "text": [
      "Receiving objects:  59% (16575/28093), 8.90 MiB | 17.80 MiB/s   \r",
      "Receiving objects:  60% (16856/28093), 8.90 MiB | 17.80 MiB/s   \r",
      "Receiving objects:  61% (17137/28093), 8.90 MiB | 17.80 MiB/s   \r",
      "Receiving objects:  62% (17418/28093), 8.90 MiB | 17.80 MiB/s   \r",
      "Receiving objects:  63% (17699/28093), 8.90 MiB | 17.80 MiB/s   \r",
      "Receiving objects:  64% (17980/28093), 8.90 MiB | 17.80 MiB/s   \r",
      "Receiving objects:  65% (18261/28093), 8.90 MiB | 17.80 MiB/s   \r",
      "Receiving objects:  66% (18542/28093), 8.90 MiB | 17.80 MiB/s   \r",
      "Receiving objects:  67% (18823/28093), 8.90 MiB | 17.80 MiB/s   \r",
      "Receiving objects:  68% (19104/28093), 8.90 MiB | 17.80 MiB/s   \r",
      "Receiving objects:  69% (19385/28093), 8.90 MiB | 17.80 MiB/s   \r",
      "Receiving objects:  70% (19666/28093), 8.90 MiB | 17.80 MiB/s   \r",
      "Receiving objects:  71% (19947/28093), 8.90 MiB | 17.80 MiB/s   \r",
      "Receiving objects:  72% (20227/28093), 8.90 MiB | 17.80 MiB/s   \r",
      "Receiving objects:  73% (20508/28093), 8.90 MiB | 17.80 MiB/s   \r",
      "Receiving objects:  74% (20789/28093), 8.90 MiB | 17.80 MiB/s   \r",
      "Receiving objects:  75% (21070/28093), 8.90 MiB | 17.80 MiB/s   \r",
      "Receiving objects:  76% (21351/28093), 8.90 MiB | 17.80 MiB/s   \r"
     ]
    },
    {
     "name": "stdout",
     "output_type": "stream",
     "text": [
      "Receiving objects:  77% (21632/28093), 8.90 MiB | 17.80 MiB/s   \r",
      "Receiving objects:  78% (21913/28093), 8.90 MiB | 17.80 MiB/s   \r",
      "Receiving objects:  79% (22194/28093), 8.90 MiB | 17.80 MiB/s   \r",
      "Receiving objects:  80% (22475/28093), 8.90 MiB | 17.80 MiB/s   \r",
      "Receiving objects:  81% (22756/28093), 8.90 MiB | 17.80 MiB/s   \r",
      "Receiving objects:  82% (23037/28093), 8.90 MiB | 17.80 MiB/s   \r",
      "Receiving objects:  83% (23318/28093), 8.90 MiB | 17.80 MiB/s   \r",
      "Receiving objects:  84% (23599/28093), 8.90 MiB | 17.80 MiB/s   \r",
      "Receiving objects:  85% (23880/28093), 8.90 MiB | 17.80 MiB/s   \r",
      "Receiving objects:  86% (24160/28093), 8.90 MiB | 17.80 MiB/s   \r",
      "Receiving objects:  87% (24441/28093), 8.90 MiB | 17.80 MiB/s   \r",
      "Receiving objects:  88% (24722/28093), 8.90 MiB | 17.80 MiB/s   \r",
      "Receiving objects:  89% (25003/28093), 8.90 MiB | 17.80 MiB/s   \r",
      "Receiving objects:  90% (25284/28093), 8.90 MiB | 17.80 MiB/s   \r",
      "Receiving objects:  91% (25565/28093), 8.90 MiB | 17.80 MiB/s   \r",
      "Receiving objects:  92% (25846/28093), 8.90 MiB | 17.80 MiB/s   \r",
      "Receiving objects:  93% (26127/28093), 8.90 MiB | 17.80 MiB/s   \r",
      "Receiving objects:  94% (26408/28093), 8.90 MiB | 17.80 MiB/s   \r",
      "Receiving objects:  95% (26689/28093), 8.90 MiB | 17.80 MiB/s   \r",
      "Receiving objects:  96% (26970/28093), 8.90 MiB | 17.80 MiB/s   \r",
      "Receiving objects:  97% (27251/28093), 8.90 MiB | 17.80 MiB/s   \r",
      "Receiving objects:  98% (27532/28093), 8.90 MiB | 17.80 MiB/s   \r",
      "Receiving objects:  99% (27813/28093), 8.90 MiB | 17.80 MiB/s   \r"
     ]
    },
    {
     "name": "stdout",
     "output_type": "stream",
     "text": [
      "remote: Total 28093 (delta 251), reused 393 (delta 197), pack-reused 27579\u001b[K\r\n",
      "Receiving objects: 100% (28093/28093), 8.90 MiB | 17.80 MiB/s   \r",
      "Receiving objects: 100% (28093/28093), 11.83 MiB | 19.23 MiB/s, done.\r\n",
      "Resolving deltas:   0% (0/21070)   \r",
      "Resolving deltas:   1% (211/21070)   \r",
      "Resolving deltas:   2% (422/21070)   \r",
      "Resolving deltas:   3% (642/21070)   \r",
      "Resolving deltas:   4% (843/21070)   \r",
      "Resolving deltas:   5% (1054/21070)   \r",
      "Resolving deltas:   6% (1266/21070)   \r",
      "Resolving deltas:   7% (1478/21070)   \r",
      "Resolving deltas:   8% (1690/21070)   \r"
     ]
    },
    {
     "name": "stdout",
     "output_type": "stream",
     "text": [
      "Resolving deltas:   9% (1899/21070)   \r",
      "Resolving deltas:  10% (2115/21070)   \r",
      "Resolving deltas:  11% (2349/21070)   \r",
      "Resolving deltas:  12% (2530/21070)   \r",
      "Resolving deltas:  13% (2753/21070)   \r",
      "Resolving deltas:  14% (2958/21070)   \r",
      "Resolving deltas:  15% (3192/21070)   \r"
     ]
    },
    {
     "name": "stdout",
     "output_type": "stream",
     "text": [
      "Resolving deltas:  16% (3378/21070)   \r",
      "Resolving deltas:  17% (3613/21070)   \r",
      "Resolving deltas:  18% (3807/21070)   \r",
      "Resolving deltas:  19% (4007/21070)   \r",
      "Resolving deltas:  20% (4237/21070)   \r",
      "Resolving deltas:  21% (4429/21070)   \r",
      "Resolving deltas:  22% (4640/21070)   \r",
      "Resolving deltas:  23% (4847/21070)   \r"
     ]
    },
    {
     "name": "stdout",
     "output_type": "stream",
     "text": [
      "Resolving deltas:  24% (5057/21070)   \r",
      "Resolving deltas:  25% (5277/21070)   \r",
      "Resolving deltas:  26% (5481/21070)   \r",
      "Resolving deltas:  27% (5824/21070)   \r",
      "Resolving deltas:  28% (5907/21070)   \r",
      "Resolving deltas:  29% (6203/21070)   \r",
      "Resolving deltas:  30% (6323/21070)   \r",
      "Resolving deltas:  31% (6537/21070)   \r",
      "Resolving deltas:  32% (6783/21070)   \r"
     ]
    },
    {
     "name": "stdout",
     "output_type": "stream",
     "text": [
      "Resolving deltas:  33% (7055/21070)   \r",
      "Resolving deltas:  34% (7180/21070)   \r",
      "Resolving deltas:  35% (7379/21070)   \r",
      "Resolving deltas:  36% (7592/21070)   \r",
      "Resolving deltas:  37% (7809/21070)   \r",
      "Resolving deltas:  38% (8009/21070)   \r",
      "Resolving deltas:  39% (8251/21070)   \r",
      "Resolving deltas:  40% (8439/21070)   \r",
      "Resolving deltas:  41% (8643/21070)   \r",
      "Resolving deltas:  42% (8860/21070)   \r",
      "Resolving deltas:  43% (9065/21070)   \r",
      "Resolving deltas:  44% (9275/21070)   \r",
      "Resolving deltas:  45% (9499/21070)   \r",
      "Resolving deltas:  46% (9693/21070)   \r",
      "Resolving deltas:  47% (10007/21070)   \r"
     ]
    },
    {
     "name": "stdout",
     "output_type": "stream",
     "text": [
      "Resolving deltas:  48% (10170/21070)   \r",
      "Resolving deltas:  49% (10453/21070)   \r",
      "Resolving deltas:  50% (10583/21070)   \r",
      "Resolving deltas:  51% (10759/21070)   \r",
      "Resolving deltas:  52% (10966/21070)   \r",
      "Resolving deltas:  53% (11185/21070)   \r",
      "Resolving deltas:  54% (11433/21070)   \r",
      "Resolving deltas:  55% (11633/21070)   \r",
      "Resolving deltas:  56% (11812/21070)   \r",
      "Resolving deltas:  57% (12018/21070)   \r",
      "Resolving deltas:  58% (12319/21070)   \r",
      "Resolving deltas:  59% (12450/21070)   \r",
      "Resolving deltas:  60% (12643/21070)   \r",
      "Resolving deltas:  61% (12876/21070)   \r",
      "Resolving deltas:  62% (13076/21070)   \r"
     ]
    },
    {
     "name": "stdout",
     "output_type": "stream",
     "text": [
      "Resolving deltas:  63% (13299/21070)   \r",
      "Resolving deltas:  64% (13524/21070)   \r",
      "Resolving deltas:  65% (13764/21070)   \r",
      "Resolving deltas:  66% (13927/21070)   \r",
      "Resolving deltas:  67% (14149/21070)   \r",
      "Resolving deltas:  68% (14330/21070)   \r",
      "Resolving deltas:  69% (14544/21070)   \r",
      "Resolving deltas:  70% (14759/21070)   \r",
      "Resolving deltas:  71% (14970/21070)   \r",
      "Resolving deltas:  72% (15177/21070)   \r",
      "Resolving deltas:  73% (15495/21070)   \r",
      "Resolving deltas:  74% (15616/21070)   \r",
      "Resolving deltas:  75% (15806/21070)   \r",
      "Resolving deltas:  76% (16093/21070)   \r",
      "Resolving deltas:  77% (16225/21070)   \r",
      "Resolving deltas:  78% (16463/21070)   \r",
      "Resolving deltas:  79% (16677/21070)   \r"
     ]
    },
    {
     "name": "stdout",
     "output_type": "stream",
     "text": [
      "Resolving deltas:  80% (16878/21070)   \r",
      "Resolving deltas:  81% (17085/21070)   \r",
      "Resolving deltas:  82% (17293/21070)   \r",
      "Resolving deltas:  83% (17494/21070)   \r",
      "Resolving deltas:  84% (17713/21070)   \r",
      "Resolving deltas:  85% (17910/21070)   \r",
      "Resolving deltas:  86% (18152/21070)   \r",
      "Resolving deltas:  87% (18341/21070)   \r",
      "Resolving deltas:  88% (18563/21070)   \r",
      "Resolving deltas:  89% (18768/21070)   \r",
      "Resolving deltas:  90% (18967/21070)   \r",
      "Resolving deltas:  91% (19187/21070)   \r",
      "Resolving deltas:  92% (19390/21070)   \r",
      "Resolving deltas:  93% (19600/21070)   \r",
      "Resolving deltas:  94% (19840/21070)   \r",
      "Resolving deltas:  95% (20049/21070)   \r",
      "Resolving deltas:  96% (20354/21070)   \r",
      "Resolving deltas:  97% (20438/21070)   \r",
      "Resolving deltas:  98% (20664/21070)   \r"
     ]
    },
    {
     "name": "stdout",
     "output_type": "stream",
     "text": [
      "Resolving deltas:  99% (20876/21070)   \r",
      "Resolving deltas: 100% (21070/21070)   \r",
      "Resolving deltas: 100% (21070/21070), done.\r\n"
     ]
    }
   ],
   "source": [
    "!git clone https://github.com/pytorch/fairseq/"
   ]
  },
  {
   "cell_type": "code",
   "execution_count": 4,
   "id": "political-label",
   "metadata": {
    "execution": {
     "iopub.execute_input": "2021-05-25T21:53:23.109451Z",
     "iopub.status.busy": "2021-05-25T21:53:23.108670Z",
     "iopub.status.idle": "2021-05-25T21:53:23.114495Z",
     "shell.execute_reply": "2021-05-25T21:53:23.114011Z",
     "shell.execute_reply.started": "2021-05-25T21:21:22.396476Z"
    },
    "papermill": {
     "duration": 0.027504,
     "end_time": "2021-05-25T21:53:23.114654",
     "exception": false,
     "start_time": "2021-05-25T21:53:23.087150",
     "status": "completed"
    },
    "tags": []
   },
   "outputs": [
    {
     "name": "stdout",
     "output_type": "stream",
     "text": [
      "/tmp/fairseq/examples/wav2vec/unsupervised\n"
     ]
    }
   ],
   "source": [
    "%cd fairseq/examples/wav2vec/unsupervised"
   ]
  },
  {
   "cell_type": "code",
   "execution_count": 5,
   "id": "initial-latest",
   "metadata": {
    "execution": {
     "iopub.execute_input": "2021-05-25T21:53:23.155560Z",
     "iopub.status.busy": "2021-05-25T21:53:23.154942Z",
     "iopub.status.idle": "2021-05-25T21:53:24.458696Z",
     "shell.execute_reply": "2021-05-25T21:53:24.457968Z",
     "shell.execute_reply.started": "2021-05-25T21:21:25.181394Z"
    },
    "papermill": {
     "duration": 1.329146,
     "end_time": "2021-05-25T21:53:24.458869",
     "exception": false,
     "start_time": "2021-05-25T21:53:23.129723",
     "status": "completed"
    },
    "tags": []
   },
   "outputs": [
    {
     "name": "stdout",
     "output_type": "stream",
     "text": [
      "Cloning into 'rVADfast'...\r\n"
     ]
    },
    {
     "name": "stdout",
     "output_type": "stream",
     "text": [
      "remote: Enumerating objects: 22, done.\u001b[K\r\n",
      "remote: Counting objects:   4% (1/22)\u001b[K\r",
      "remote: Counting objects:   9% (2/22)\u001b[K\r",
      "remote: Counting objects:  13% (3/22)\u001b[K\r",
      "remote: Counting objects:  18% (4/22)\u001b[K\r",
      "remote: Counting objects:  22% (5/22)\u001b[K\r",
      "remote: Counting objects:  27% (6/22)\u001b[K\r",
      "remote: Counting objects:  31% (7/22)\u001b[K\r",
      "remote: Counting objects:  36% (8/22)\u001b[K\r",
      "remote: Counting objects:  40% (9/22)\u001b[K\r",
      "remote: Counting objects:  45% (10/22)\u001b[K\r",
      "remote: Counting objects:  50% (11/22)\u001b[K\r",
      "remote: Counting objects:  54% (12/22)\u001b[K\r"
     ]
    },
    {
     "name": "stdout",
     "output_type": "stream",
     "text": [
      "remote: Counting objects:  59% (13/22)\u001b[K\r",
      "remote: Counting objects:  63% (14/22)\u001b[K\r",
      "remote: Counting objects:  68% (15/22)\u001b[K\r",
      "remote: Counting objects:  72% (16/22)\u001b[K\r",
      "remote: Counting objects:  77% (17/22)\u001b[K\r",
      "remote: Counting objects:  81% (18/22)\u001b[K\r",
      "remote: Counting objects:  86% (19/22)\u001b[K\r",
      "remote: Counting objects:  90% (20/22)\u001b[K\r",
      "remote: Counting objects:  95% (21/22)\u001b[K\r",
      "remote: Counting objects: 100% (22/22)\u001b[K\r",
      "remote: Counting objects: 100% (22/22), done.\u001b[K\r\n",
      "remote: Compressing objects:   4% (1/22)\u001b[K\r",
      "remote: Compressing objects:   9% (2/22)\u001b[K\r",
      "remote: Compressing objects:  13% (3/22)\u001b[K\r",
      "remote: Compressing objects:  18% (4/22)\u001b[K\r",
      "remote: Compressing objects:  22% (5/22)\u001b[K\r",
      "remote: Compressing objects:  27% (6/22)\u001b[K\r",
      "remote: Compressing objects:  31% (7/22)\u001b[K\r",
      "remote: Compressing objects:  36% (8/22)\u001b[K\r",
      "remote: Compressing objects:  40% (9/22)\u001b[K\r",
      "remote: Compressing objects:  45% (10/22)\u001b[K\r",
      "remote: Compressing objects:  50% (11/22)\u001b[K\r",
      "remote: Compressing objects:  54% (12/22)\u001b[K\r",
      "remote: Compressing objects:  59% (13/22)\u001b[K\r",
      "remote: Compressing objects:  63% (14/22)\u001b[K\r",
      "remote: Compressing objects:  68% (15/22)\u001b[K\r",
      "remote: Compressing objects:  72% (16/22)\u001b[K\r",
      "remote: Compressing objects:  77% (17/22)\u001b[K\r",
      "remote: Compressing objects:  81% (18/22)\u001b[K\r",
      "remote: Compressing objects:  86% (19/22)\u001b[K\r",
      "remote: Compressing objects:  90% (20/22)\u001b[K\r",
      "remote: Compressing objects:  95% (21/22)\u001b[K\r",
      "remote: Compressing objects: 100% (22/22)\u001b[K\r",
      "remote: Compressing objects: 100% (22/22), done.\u001b[K\r\n",
      "remote: Total 22 (delta 5), reused 2 (delta 0), pack-reused 0\u001b[K\r\n",
      "Unpacking objects:   4% (1/22)   \r",
      "Unpacking objects:   9% (2/22)   \r",
      "Unpacking objects:  13% (3/22)   \r",
      "Unpacking objects:  18% (4/22)   \r",
      "Unpacking objects:  22% (5/22)   \r",
      "Unpacking objects:  27% (6/22)   \r",
      "Unpacking objects:  31% (7/22)   \r",
      "Unpacking objects:  36% (8/22)   \r",
      "Unpacking objects:  40% (9/22)   \r",
      "Unpacking objects:  45% (10/22)   \r",
      "Unpacking objects:  50% (11/22)   \r",
      "Unpacking objects:  54% (12/22)   \r",
      "Unpacking objects:  59% (13/22)   \r",
      "Unpacking objects:  63% (14/22)   \r",
      "Unpacking objects:  68% (15/22)   \r",
      "Unpacking objects:  72% (16/22)   \r",
      "Unpacking objects:  77% (17/22)   \r",
      "Unpacking objects:  81% (18/22)   \r",
      "Unpacking objects:  86% (19/22)   \r",
      "Unpacking objects:  90% (20/22)   \r",
      "Unpacking objects:  95% (21/22)   \r",
      "Unpacking objects: 100% (22/22)   \r",
      "Unpacking objects: 100% (22/22), done.\r\n"
     ]
    }
   ],
   "source": [
    "!git clone https://github.com/zhenghuatan/rVADfast"
   ]
  },
  {
   "cell_type": "code",
   "execution_count": 6,
   "id": "controversial-virginia",
   "metadata": {
    "execution": {
     "iopub.execute_input": "2021-05-25T21:53:24.500622Z",
     "iopub.status.busy": "2021-05-25T21:53:24.499933Z",
     "iopub.status.idle": "2021-05-25T21:53:25.955443Z",
     "shell.execute_reply": "2021-05-25T21:53:25.956002Z",
     "shell.execute_reply.started": "2021-05-25T21:21:33.463337Z"
    },
    "papermill": {
     "duration": 1.480595,
     "end_time": "2021-05-25T21:53:25.956242",
     "exception": false,
     "start_time": "2021-05-25T21:53:24.475647",
     "status": "completed"
    },
    "tags": []
   },
   "outputs": [],
   "source": [
    "!cat scripts/vads.py|sed -e 's!/path/to/rVADfast_py_2.0!/tmp/fairseq/examples/wav2vec/unsupervised/rVADfast!' > tmp\n",
    "!mv tmp scripts/vads.py"
   ]
  },
  {
   "cell_type": "code",
   "execution_count": 7,
   "id": "enclosed-tuition",
   "metadata": {
    "execution": {
     "iopub.execute_input": "2021-05-25T21:53:25.997396Z",
     "iopub.status.busy": "2021-05-25T21:53:25.996522Z"
    },
    "papermill": {
     "duration": null,
     "end_time": null,
     "exception": false,
     "start_time": "2021-05-25T21:53:25.972963",
     "status": "running"
    },
    "tags": []
   },
   "outputs": [
    {
     "name": "stdout",
     "output_type": "stream",
     "text": [
      "\r",
      "  0%|                                                  | 0/2331 [00:00<?, ?it/s]"
     ]
    },
    {
     "name": "stdout",
     "output_type": "stream",
     "text": [
      "\r",
      "  0%|                                          | 1/2331 [00:01<56:48,  1.46s/it]"
     ]
    },
    {
     "name": "stdout",
     "output_type": "stream",
     "text": [
      "\r",
      "  0%|                                          | 2/2331 [00:02<53:51,  1.39s/it]"
     ]
    },
    {
     "name": "stdout",
     "output_type": "stream",
     "text": [
      "\r",
      "  0%|                                          | 3/2331 [00:03<49:59,  1.29s/it]"
     ]
    },
    {
     "name": "stdout",
     "output_type": "stream",
     "text": [
      "\r",
      "  0%|                                          | 4/2331 [00:05<59:21,  1.53s/it]"
     ]
    },
    {
     "name": "stdout",
     "output_type": "stream",
     "text": [
      "\r",
      "  0%|                                          | 5/2331 [00:06<51:38,  1.33s/it]"
     ]
    },
    {
     "name": "stdout",
     "output_type": "stream",
     "text": [
      "\r",
      "  0%|                                          | 6/2331 [00:08<51:53,  1.34s/it]"
     ]
    },
    {
     "name": "stdout",
     "output_type": "stream",
     "text": [
      "\r",
      "  0%|▏                                         | 7/2331 [00:09<54:16,  1.40s/it]"
     ]
    },
    {
     "name": "stdout",
     "output_type": "stream",
     "text": [
      "\r",
      "  0%|▏                                         | 8/2331 [00:10<52:06,  1.35s/it]"
     ]
    },
    {
     "name": "stdout",
     "output_type": "stream",
     "text": [
      "\r",
      "  0%|▏                                         | 9/2331 [00:12<51:04,  1.32s/it]"
     ]
    },
    {
     "name": "stdout",
     "output_type": "stream",
     "text": [
      "\r",
      "  0%|▏                                        | 10/2331 [00:13<53:24,  1.38s/it]"
     ]
    },
    {
     "name": "stdout",
     "output_type": "stream",
     "text": [
      "\r",
      "  0%|▏                                        | 11/2331 [00:14<50:35,  1.31s/it]"
     ]
    },
    {
     "name": "stdout",
     "output_type": "stream",
     "text": [
      "\r",
      "  1%|▏                                        | 12/2331 [00:16<51:39,  1.34s/it]"
     ]
    },
    {
     "name": "stdout",
     "output_type": "stream",
     "text": [
      "\r",
      "  1%|▏                                        | 13/2331 [00:17<48:31,  1.26s/it]"
     ]
    },
    {
     "name": "stdout",
     "output_type": "stream",
     "text": [
      "\r",
      "  1%|▏                                        | 14/2331 [00:18<48:27,  1.25s/it]"
     ]
    },
    {
     "name": "stdout",
     "output_type": "stream",
     "text": [
      "\r",
      "  1%|▎                                        | 15/2331 [00:19<49:09,  1.27s/it]"
     ]
    },
    {
     "name": "stdout",
     "output_type": "stream",
     "text": [
      "\r",
      "  1%|▎                                        | 16/2331 [00:21<53:54,  1.40s/it]"
     ]
    },
    {
     "name": "stdout",
     "output_type": "stream",
     "text": [
      "\r",
      "  1%|▎                                        | 17/2331 [00:23<54:37,  1.42s/it]"
     ]
    },
    {
     "name": "stdout",
     "output_type": "stream",
     "text": [
      "\r",
      "  1%|▎                                        | 18/2331 [00:24<53:44,  1.39s/it]"
     ]
    },
    {
     "name": "stdout",
     "output_type": "stream",
     "text": [
      "\r",
      "  1%|▎                                        | 19/2331 [00:25<51:53,  1.35s/it]"
     ]
    },
    {
     "name": "stdout",
     "output_type": "stream",
     "text": [
      "\r",
      "  1%|▎                                        | 20/2331 [00:26<48:53,  1.27s/it]"
     ]
    },
    {
     "name": "stdout",
     "output_type": "stream",
     "text": [
      "\r",
      "  1%|▎                                        | 21/2331 [00:28<49:40,  1.29s/it]"
     ]
    },
    {
     "name": "stdout",
     "output_type": "stream",
     "text": [
      "\r",
      "  1%|▍                                        | 22/2331 [00:29<46:17,  1.20s/it]"
     ]
    },
    {
     "name": "stdout",
     "output_type": "stream",
     "text": [
      "\r",
      "  1%|▍                                        | 23/2331 [00:30<44:11,  1.15s/it]"
     ]
    },
    {
     "name": "stdout",
     "output_type": "stream",
     "text": [
      "\r",
      "  1%|▍                                        | 24/2331 [00:31<44:12,  1.15s/it]"
     ]
    },
    {
     "name": "stdout",
     "output_type": "stream",
     "text": [
      "\r",
      "  1%|▍                                        | 25/2331 [00:32<42:16,  1.10s/it]"
     ]
    },
    {
     "name": "stdout",
     "output_type": "stream",
     "text": [
      "\r",
      "  1%|▍                                        | 26/2331 [00:33<43:13,  1.13s/it]"
     ]
    },
    {
     "name": "stdout",
     "output_type": "stream",
     "text": [
      "\r",
      "  1%|▍                                        | 27/2331 [00:34<46:25,  1.21s/it]"
     ]
    },
    {
     "name": "stdout",
     "output_type": "stream",
     "text": [
      "\r",
      "  1%|▍                                        | 28/2331 [00:35<43:58,  1.15s/it]"
     ]
    },
    {
     "name": "stdout",
     "output_type": "stream",
     "text": [
      "\r",
      "  1%|▌                                        | 29/2331 [00:37<44:40,  1.16s/it]"
     ]
    },
    {
     "name": "stdout",
     "output_type": "stream",
     "text": [
      "\r",
      "  1%|▌                                        | 30/2331 [00:38<48:10,  1.26s/it]"
     ]
    },
    {
     "name": "stdout",
     "output_type": "stream",
     "text": [
      "\r",
      "  1%|▌                                        | 31/2331 [00:39<50:43,  1.32s/it]"
     ]
    },
    {
     "name": "stdout",
     "output_type": "stream",
     "text": [
      "\r",
      "  1%|▌                                        | 32/2331 [00:41<56:42,  1.48s/it]"
     ]
    },
    {
     "name": "stdout",
     "output_type": "stream",
     "text": [
      "\r",
      "  1%|▌                                        | 33/2331 [00:43<55:42,  1.45s/it]"
     ]
    },
    {
     "name": "stdout",
     "output_type": "stream",
     "text": [
      "\r",
      "  1%|▌                                        | 34/2331 [00:44<53:42,  1.40s/it]"
     ]
    },
    {
     "name": "stdout",
     "output_type": "stream",
     "text": [
      "\r",
      "  2%|▌                                        | 35/2331 [00:45<50:52,  1.33s/it]"
     ]
    },
    {
     "name": "stdout",
     "output_type": "stream",
     "text": [
      "\r",
      "  2%|▋                                        | 36/2331 [00:47<54:31,  1.43s/it]"
     ]
    },
    {
     "name": "stdout",
     "output_type": "stream",
     "text": [
      "\r",
      "  2%|▌                                      | 37/2331 [00:49<1:05:57,  1.73s/it]"
     ]
    },
    {
     "name": "stdout",
     "output_type": "stream",
     "text": [
      "\r",
      "  2%|▋                                        | 38/2331 [00:50<59:10,  1.55s/it]"
     ]
    },
    {
     "name": "stdout",
     "output_type": "stream",
     "text": [
      "\r",
      "  2%|▋                                        | 39/2331 [00:52<59:46,  1.56s/it]"
     ]
    },
    {
     "name": "stdout",
     "output_type": "stream",
     "text": [
      "\r",
      "  2%|▋                                      | 40/2331 [00:54<1:03:30,  1.66s/it]"
     ]
    },
    {
     "name": "stdout",
     "output_type": "stream",
     "text": [
      "\r",
      "  2%|▋                                      | 41/2331 [00:55<1:00:02,  1.57s/it]"
     ]
    },
    {
     "name": "stdout",
     "output_type": "stream",
     "text": [
      "\r",
      "  2%|▋                                      | 42/2331 [00:57<1:01:27,  1.61s/it]"
     ]
    },
    {
     "name": "stdout",
     "output_type": "stream",
     "text": [
      "\r",
      "  2%|▊                                        | 43/2331 [00:58<58:57,  1.55s/it]"
     ]
    },
    {
     "name": "stdout",
     "output_type": "stream",
     "text": [
      "\r",
      "  2%|▊                                        | 44/2331 [00:59<53:18,  1.40s/it]"
     ]
    },
    {
     "name": "stdout",
     "output_type": "stream",
     "text": [
      "\r",
      "  2%|▊                                        | 45/2331 [01:00<48:56,  1.28s/it]"
     ]
    },
    {
     "name": "stdout",
     "output_type": "stream",
     "text": [
      "\r",
      "  2%|▊                                        | 46/2331 [01:02<48:05,  1.26s/it]"
     ]
    },
    {
     "name": "stdout",
     "output_type": "stream",
     "text": [
      "\r",
      "  2%|▊                                        | 47/2331 [01:03<47:08,  1.24s/it]"
     ]
    },
    {
     "name": "stdout",
     "output_type": "stream",
     "text": [
      "\r",
      "  2%|▊                                        | 48/2331 [01:04<51:11,  1.35s/it]"
     ]
    },
    {
     "name": "stdout",
     "output_type": "stream",
     "text": [
      "\r",
      "  2%|▊                                        | 49/2331 [01:06<53:32,  1.41s/it]"
     ]
    },
    {
     "name": "stdout",
     "output_type": "stream",
     "text": [
      "\r",
      "  2%|▉                                        | 50/2331 [01:07<49:40,  1.31s/it]"
     ]
    },
    {
     "name": "stdout",
     "output_type": "stream",
     "text": [
      "\r",
      "  2%|▊                                      | 51/2331 [01:09<1:01:20,  1.61s/it]"
     ]
    },
    {
     "name": "stdout",
     "output_type": "stream",
     "text": [
      "\r",
      "  2%|▉                                        | 52/2331 [01:11<58:47,  1.55s/it]"
     ]
    },
    {
     "name": "stdout",
     "output_type": "stream",
     "text": [
      "\r",
      "  2%|▉                                        | 53/2331 [01:12<49:59,  1.32s/it]"
     ]
    },
    {
     "name": "stdout",
     "output_type": "stream",
     "text": [
      "\r",
      "  2%|▉                                        | 54/2331 [01:13<54:29,  1.44s/it]"
     ]
    },
    {
     "name": "stdout",
     "output_type": "stream",
     "text": [
      "\r",
      "  2%|▉                                        | 55/2331 [01:14<49:20,  1.30s/it]"
     ]
    },
    {
     "name": "stdout",
     "output_type": "stream",
     "text": [
      "\r",
      "  2%|▉                                        | 56/2331 [01:15<48:19,  1.27s/it]"
     ]
    },
    {
     "name": "stdout",
     "output_type": "stream",
     "text": [
      "\r",
      "  2%|█                                        | 57/2331 [01:17<56:31,  1.49s/it]"
     ]
    },
    {
     "name": "stdout",
     "output_type": "stream",
     "text": [
      "\r",
      "  2%|▉                                      | 58/2331 [01:19<1:00:09,  1.59s/it]"
     ]
    },
    {
     "name": "stdout",
     "output_type": "stream",
     "text": [
      "\r",
      "  3%|█                                        | 59/2331 [01:21<58:47,  1.55s/it]"
     ]
    },
    {
     "name": "stdout",
     "output_type": "stream",
     "text": [
      "\r",
      "  3%|█                                        | 60/2331 [01:22<53:09,  1.40s/it]"
     ]
    },
    {
     "name": "stdout",
     "output_type": "stream",
     "text": [
      "\r",
      "  3%|█                                        | 61/2331 [01:23<50:50,  1.34s/it]"
     ]
    },
    {
     "name": "stdout",
     "output_type": "stream",
     "text": [
      "\r",
      "  3%|█                                        | 62/2331 [01:24<47:13,  1.25s/it]"
     ]
    },
    {
     "name": "stdout",
     "output_type": "stream",
     "text": [
      "\r",
      "  3%|█                                        | 63/2331 [01:25<42:57,  1.14s/it]"
     ]
    },
    {
     "name": "stdout",
     "output_type": "stream",
     "text": [
      "\r",
      "  3%|█▏                                       | 64/2331 [01:26<46:36,  1.23s/it]"
     ]
    },
    {
     "name": "stdout",
     "output_type": "stream",
     "text": [
      "\r",
      "  3%|█▏                                       | 65/2331 [01:27<42:15,  1.12s/it]"
     ]
    },
    {
     "name": "stdout",
     "output_type": "stream",
     "text": [
      "\r",
      "  3%|█▏                                       | 66/2331 [01:29<45:27,  1.20s/it]"
     ]
    },
    {
     "name": "stdout",
     "output_type": "stream",
     "text": [
      "\r",
      "  3%|█▏                                       | 67/2331 [01:30<45:21,  1.20s/it]"
     ]
    },
    {
     "name": "stdout",
     "output_type": "stream",
     "text": [
      "\r",
      "  3%|█▏                                       | 68/2331 [01:31<46:17,  1.23s/it]"
     ]
    },
    {
     "name": "stdout",
     "output_type": "stream",
     "text": [
      "\r",
      "  3%|█▏                                       | 69/2331 [01:32<42:35,  1.13s/it]"
     ]
    },
    {
     "name": "stdout",
     "output_type": "stream",
     "text": [
      "\r",
      "  3%|█▏                                       | 70/2331 [01:33<45:18,  1.20s/it]"
     ]
    },
    {
     "name": "stdout",
     "output_type": "stream",
     "text": [
      "\r",
      "  3%|█▏                                       | 71/2331 [01:34<43:31,  1.16s/it]"
     ]
    },
    {
     "name": "stdout",
     "output_type": "stream",
     "text": [
      "\r",
      "  3%|█▎                                       | 72/2331 [01:36<50:00,  1.33s/it]"
     ]
    },
    {
     "name": "stdout",
     "output_type": "stream",
     "text": [
      "\r",
      "  3%|█▎                                       | 73/2331 [01:37<50:19,  1.34s/it]"
     ]
    },
    {
     "name": "stdout",
     "output_type": "stream",
     "text": [
      "\r",
      "  3%|█▎                                       | 74/2331 [01:39<53:34,  1.42s/it]"
     ]
    },
    {
     "name": "stdout",
     "output_type": "stream",
     "text": [
      "\r",
      "  3%|█▎                                       | 75/2331 [01:40<49:04,  1.31s/it]"
     ]
    },
    {
     "name": "stdout",
     "output_type": "stream",
     "text": [
      "\r",
      "  3%|█▎                                       | 76/2331 [01:41<46:55,  1.25s/it]"
     ]
    },
    {
     "name": "stdout",
     "output_type": "stream",
     "text": [
      "\r",
      "  3%|█▎                                       | 77/2331 [01:43<48:18,  1.29s/it]"
     ]
    },
    {
     "name": "stdout",
     "output_type": "stream",
     "text": [
      "\r",
      "  3%|█▎                                       | 78/2331 [01:44<54:33,  1.45s/it]"
     ]
    },
    {
     "name": "stdout",
     "output_type": "stream",
     "text": [
      "\r",
      "  3%|█▍                                       | 79/2331 [01:46<55:16,  1.47s/it]"
     ]
    },
    {
     "name": "stdout",
     "output_type": "stream",
     "text": [
      "\r",
      "  3%|█▍                                       | 80/2331 [01:47<48:49,  1.30s/it]"
     ]
    },
    {
     "name": "stdout",
     "output_type": "stream",
     "text": [
      "\r",
      "  3%|█▍                                       | 81/2331 [01:48<46:23,  1.24s/it]"
     ]
    },
    {
     "name": "stdout",
     "output_type": "stream",
     "text": [
      "\r",
      "  4%|█▍                                       | 82/2331 [01:50<59:02,  1.58s/it]"
     ]
    },
    {
     "name": "stdout",
     "output_type": "stream",
     "text": [
      "\r",
      "  4%|█▍                                     | 83/2331 [01:52<1:01:22,  1.64s/it]"
     ]
    },
    {
     "name": "stdout",
     "output_type": "stream",
     "text": [
      "\r",
      "  4%|█▍                                       | 84/2331 [01:53<54:16,  1.45s/it]"
     ]
    },
    {
     "name": "stdout",
     "output_type": "stream",
     "text": [
      "\r",
      "  4%|█▍                                       | 85/2331 [01:54<49:25,  1.32s/it]"
     ]
    },
    {
     "name": "stdout",
     "output_type": "stream",
     "text": [
      "\r",
      "  4%|█▌                                       | 86/2331 [01:55<46:29,  1.24s/it]"
     ]
    },
    {
     "name": "stdout",
     "output_type": "stream",
     "text": [
      "\r",
      "  4%|█▌                                       | 87/2331 [01:57<56:04,  1.50s/it]"
     ]
    },
    {
     "name": "stdout",
     "output_type": "stream",
     "text": [
      "\r",
      "  4%|█▌                                       | 88/2331 [01:58<52:10,  1.40s/it]"
     ]
    },
    {
     "name": "stdout",
     "output_type": "stream",
     "text": [
      "\r",
      "  4%|█▌                                       | 89/2331 [02:00<50:00,  1.34s/it]"
     ]
    },
    {
     "name": "stdout",
     "output_type": "stream",
     "text": [
      "\r",
      "  4%|█▌                                       | 90/2331 [02:01<47:28,  1.27s/it]"
     ]
    },
    {
     "name": "stdout",
     "output_type": "stream",
     "text": [
      "\r",
      "  4%|█▌                                       | 91/2331 [02:02<43:20,  1.16s/it]"
     ]
    },
    {
     "name": "stdout",
     "output_type": "stream",
     "text": [
      "\r",
      "  4%|█▌                                       | 92/2331 [02:03<42:55,  1.15s/it]"
     ]
    },
    {
     "name": "stdout",
     "output_type": "stream",
     "text": [
      "\r",
      "  4%|█▋                                       | 93/2331 [02:04<47:07,  1.26s/it]"
     ]
    },
    {
     "name": "stdout",
     "output_type": "stream",
     "text": [
      "\r",
      "  4%|█▋                                       | 94/2331 [02:06<46:26,  1.25s/it]"
     ]
    },
    {
     "name": "stdout",
     "output_type": "stream",
     "text": [
      "\r",
      "  4%|█▋                                       | 95/2331 [02:07<45:37,  1.22s/it]"
     ]
    },
    {
     "name": "stdout",
     "output_type": "stream",
     "text": [
      "\r",
      "  4%|█▋                                       | 96/2331 [02:08<42:20,  1.14s/it]"
     ]
    },
    {
     "name": "stdout",
     "output_type": "stream",
     "text": [
      "\r",
      "  4%|█▋                                       | 97/2331 [02:09<39:41,  1.07s/it]"
     ]
    },
    {
     "name": "stdout",
     "output_type": "stream",
     "text": [
      "\r",
      "  4%|█▋                                       | 98/2331 [02:10<43:18,  1.16s/it]"
     ]
    },
    {
     "name": "stdout",
     "output_type": "stream",
     "text": [
      "\r",
      "  4%|█▋                                       | 99/2331 [02:11<41:35,  1.12s/it]"
     ]
    },
    {
     "name": "stdout",
     "output_type": "stream",
     "text": [
      "\r",
      "  4%|█▋                                      | 100/2331 [02:12<43:29,  1.17s/it]"
     ]
    },
    {
     "name": "stdout",
     "output_type": "stream",
     "text": [
      "\r",
      "  4%|█▋                                      | 101/2331 [02:14<52:49,  1.42s/it]"
     ]
    },
    {
     "name": "stdout",
     "output_type": "stream",
     "text": [
      "\r",
      "  4%|█▊                                      | 102/2331 [02:15<50:28,  1.36s/it]"
     ]
    },
    {
     "name": "stdout",
     "output_type": "stream",
     "text": [
      "\r",
      "  4%|█▊                                      | 103/2331 [02:17<50:42,  1.37s/it]"
     ]
    },
    {
     "name": "stdout",
     "output_type": "stream",
     "text": [
      "\r",
      "  4%|█▊                                      | 104/2331 [02:18<53:01,  1.43s/it]"
     ]
    },
    {
     "name": "stdout",
     "output_type": "stream",
     "text": [
      "\r",
      "  5%|█▊                                      | 105/2331 [02:20<54:15,  1.46s/it]"
     ]
    },
    {
     "name": "stdout",
     "output_type": "stream",
     "text": [
      "\r",
      "  5%|█▊                                      | 106/2331 [02:22<59:51,  1.61s/it]"
     ]
    },
    {
     "name": "stdout",
     "output_type": "stream",
     "text": [
      "\r",
      "  5%|█▊                                      | 107/2331 [02:23<56:22,  1.52s/it]"
     ]
    },
    {
     "name": "stdout",
     "output_type": "stream",
     "text": [
      "\r",
      "  5%|█▊                                      | 108/2331 [02:24<50:24,  1.36s/it]"
     ]
    },
    {
     "name": "stdout",
     "output_type": "stream",
     "text": [
      "\r",
      "  5%|█▊                                      | 109/2331 [02:25<46:30,  1.26s/it]"
     ]
    },
    {
     "name": "stdout",
     "output_type": "stream",
     "text": [
      "\r",
      "  5%|█▉                                      | 110/2331 [02:26<42:16,  1.14s/it]"
     ]
    },
    {
     "name": "stdout",
     "output_type": "stream",
     "text": [
      "\r",
      "  5%|█▉                                      | 111/2331 [02:28<45:50,  1.24s/it]"
     ]
    },
    {
     "name": "stdout",
     "output_type": "stream",
     "text": [
      "\r",
      "  5%|█▉                                      | 112/2331 [02:29<45:56,  1.24s/it]"
     ]
    },
    {
     "name": "stdout",
     "output_type": "stream",
     "text": [
      "\r",
      "  5%|█▉                                      | 113/2331 [02:30<46:02,  1.25s/it]"
     ]
    },
    {
     "name": "stdout",
     "output_type": "stream",
     "text": [
      "\r",
      "  5%|█▉                                      | 114/2331 [02:31<43:20,  1.17s/it]"
     ]
    },
    {
     "name": "stdout",
     "output_type": "stream",
     "text": [
      "\r",
      "  5%|█▉                                      | 115/2331 [02:33<47:04,  1.27s/it]"
     ]
    },
    {
     "name": "stdout",
     "output_type": "stream",
     "text": [
      "\r",
      "  5%|█▉                                      | 116/2331 [02:34<43:49,  1.19s/it]"
     ]
    },
    {
     "name": "stdout",
     "output_type": "stream",
     "text": [
      "\r",
      "  5%|██                                      | 117/2331 [02:35<43:08,  1.17s/it]"
     ]
    },
    {
     "name": "stdout",
     "output_type": "stream",
     "text": [
      "\r",
      "  5%|██                                      | 118/2331 [02:36<42:52,  1.16s/it]"
     ]
    },
    {
     "name": "stdout",
     "output_type": "stream",
     "text": [
      "\r",
      "  5%|██                                      | 119/2331 [02:37<42:02,  1.14s/it]"
     ]
    },
    {
     "name": "stdout",
     "output_type": "stream",
     "text": [
      "\r",
      "  5%|██                                      | 120/2331 [02:38<45:00,  1.22s/it]"
     ]
    },
    {
     "name": "stdout",
     "output_type": "stream",
     "text": [
      "\r",
      "  5%|██                                      | 121/2331 [02:39<42:26,  1.15s/it]"
     ]
    },
    {
     "name": "stdout",
     "output_type": "stream",
     "text": [
      "\r",
      "  5%|██                                      | 122/2331 [02:41<42:45,  1.16s/it]"
     ]
    },
    {
     "name": "stdout",
     "output_type": "stream",
     "text": [
      "\r",
      "  5%|██                                      | 123/2331 [02:42<43:14,  1.18s/it]"
     ]
    },
    {
     "name": "stdout",
     "output_type": "stream",
     "text": [
      "\r",
      "  5%|██▏                                     | 124/2331 [02:43<40:27,  1.10s/it]"
     ]
    },
    {
     "name": "stdout",
     "output_type": "stream",
     "text": [
      "\r",
      "  5%|██▏                                     | 125/2331 [02:44<38:58,  1.06s/it]"
     ]
    },
    {
     "name": "stdout",
     "output_type": "stream",
     "text": [
      "\r",
      "  5%|██▏                                     | 126/2331 [02:45<45:20,  1.23s/it]"
     ]
    },
    {
     "name": "stdout",
     "output_type": "stream",
     "text": [
      "\r",
      "  5%|██▏                                     | 127/2331 [02:46<44:07,  1.20s/it]"
     ]
    },
    {
     "name": "stdout",
     "output_type": "stream",
     "text": [
      "\r",
      "  5%|██▏                                     | 128/2331 [02:48<43:33,  1.19s/it]"
     ]
    },
    {
     "name": "stdout",
     "output_type": "stream",
     "text": [
      "\r",
      "  6%|██▏                                     | 129/2331 [02:49<43:33,  1.19s/it]"
     ]
    },
    {
     "name": "stdout",
     "output_type": "stream",
     "text": [
      "\r",
      "  6%|██▏                                     | 130/2331 [02:50<43:33,  1.19s/it]"
     ]
    },
    {
     "name": "stdout",
     "output_type": "stream",
     "text": [
      "\r",
      "  6%|██▏                                     | 131/2331 [02:52<48:39,  1.33s/it]"
     ]
    },
    {
     "name": "stdout",
     "output_type": "stream",
     "text": [
      "\r",
      "  6%|██▎                                     | 132/2331 [02:53<46:23,  1.27s/it]"
     ]
    },
    {
     "name": "stdout",
     "output_type": "stream",
     "text": [
      "\r",
      "  6%|██▎                                     | 133/2331 [02:54<47:45,  1.30s/it]"
     ]
    },
    {
     "name": "stdout",
     "output_type": "stream",
     "text": [
      "\r",
      "  6%|██▎                                     | 134/2331 [02:55<46:01,  1.26s/it]"
     ]
    },
    {
     "name": "stdout",
     "output_type": "stream",
     "text": [
      "\r",
      "  6%|██▎                                     | 135/2331 [02:57<46:31,  1.27s/it]"
     ]
    },
    {
     "name": "stdout",
     "output_type": "stream",
     "text": [
      "\r",
      "  6%|██▎                                     | 136/2331 [02:58<52:31,  1.44s/it]"
     ]
    },
    {
     "name": "stdout",
     "output_type": "stream",
     "text": [
      "\r",
      "  6%|██▎                                     | 137/2331 [02:59<47:40,  1.30s/it]"
     ]
    },
    {
     "name": "stdout",
     "output_type": "stream",
     "text": [
      "\r",
      "  6%|██▎                                     | 138/2331 [03:00<44:52,  1.23s/it]"
     ]
    },
    {
     "name": "stdout",
     "output_type": "stream",
     "text": [
      "\r",
      "  6%|██▍                                     | 139/2331 [03:02<44:13,  1.21s/it]"
     ]
    },
    {
     "name": "stdout",
     "output_type": "stream",
     "text": [
      "\r",
      "  6%|██▍                                     | 140/2331 [03:03<48:54,  1.34s/it]"
     ]
    },
    {
     "name": "stdout",
     "output_type": "stream",
     "text": [
      "\r",
      "  6%|██▍                                     | 141/2331 [03:05<48:33,  1.33s/it]"
     ]
    },
    {
     "name": "stdout",
     "output_type": "stream",
     "text": [
      "\r",
      "  6%|██▍                                     | 142/2331 [03:06<51:38,  1.42s/it]"
     ]
    },
    {
     "name": "stdout",
     "output_type": "stream",
     "text": [
      "\r",
      "  6%|██▍                                     | 143/2331 [03:07<48:39,  1.33s/it]"
     ]
    },
    {
     "name": "stdout",
     "output_type": "stream",
     "text": [
      "\r",
      "  6%|██▍                                     | 144/2331 [03:08<45:29,  1.25s/it]"
     ]
    },
    {
     "name": "stdout",
     "output_type": "stream",
     "text": [
      "\r",
      "  6%|██▍                                     | 145/2331 [03:09<44:36,  1.22s/it]"
     ]
    },
    {
     "name": "stdout",
     "output_type": "stream",
     "text": [
      "\r",
      "  6%|██▌                                     | 146/2331 [03:11<50:39,  1.39s/it]"
     ]
    },
    {
     "name": "stdout",
     "output_type": "stream",
     "text": [
      "\r",
      "  6%|██▌                                     | 147/2331 [03:12<48:08,  1.32s/it]"
     ]
    },
    {
     "name": "stdout",
     "output_type": "stream",
     "text": [
      "\r",
      "  6%|██▌                                     | 148/2331 [03:14<46:04,  1.27s/it]"
     ]
    },
    {
     "name": "stdout",
     "output_type": "stream",
     "text": [
      "\r",
      "  6%|██▌                                     | 149/2331 [03:15<46:40,  1.28s/it]"
     ]
    },
    {
     "name": "stdout",
     "output_type": "stream",
     "text": [
      "\r",
      "  6%|██▌                                     | 150/2331 [03:16<49:26,  1.36s/it]"
     ]
    },
    {
     "name": "stdout",
     "output_type": "stream",
     "text": [
      "\r",
      "  6%|██▌                                     | 151/2331 [03:18<48:11,  1.33s/it]"
     ]
    },
    {
     "name": "stdout",
     "output_type": "stream",
     "text": [
      "\r",
      "  7%|██▌                                     | 152/2331 [03:19<45:24,  1.25s/it]"
     ]
    },
    {
     "name": "stdout",
     "output_type": "stream",
     "text": [
      "\r",
      "  7%|██▋                                     | 153/2331 [03:20<46:29,  1.28s/it]"
     ]
    },
    {
     "name": "stdout",
     "output_type": "stream",
     "text": [
      "\r",
      "  7%|██▋                                     | 154/2331 [03:21<43:31,  1.20s/it]"
     ]
    },
    {
     "name": "stdout",
     "output_type": "stream",
     "text": [
      "\r",
      "  7%|██▋                                     | 155/2331 [03:22<41:34,  1.15s/it]"
     ]
    },
    {
     "name": "stdout",
     "output_type": "stream",
     "text": [
      "\r",
      "  7%|██▋                                     | 156/2331 [03:23<39:52,  1.10s/it]"
     ]
    },
    {
     "name": "stdout",
     "output_type": "stream",
     "text": [
      "\r",
      "  7%|██▋                                     | 157/2331 [03:24<41:30,  1.15s/it]"
     ]
    },
    {
     "name": "stdout",
     "output_type": "stream",
     "text": [
      "\r",
      "  7%|██▋                                     | 158/2331 [03:26<48:19,  1.33s/it]"
     ]
    },
    {
     "name": "stdout",
     "output_type": "stream",
     "text": [
      "\r",
      "  7%|██▋                                     | 159/2331 [03:27<45:53,  1.27s/it]"
     ]
    },
    {
     "name": "stdout",
     "output_type": "stream",
     "text": [
      "\r",
      "  7%|██▌                                   | 160/2331 [03:30<1:00:07,  1.66s/it]"
     ]
    },
    {
     "name": "stdout",
     "output_type": "stream",
     "text": [
      "\r",
      "  7%|██▊                                     | 161/2331 [03:31<57:48,  1.60s/it]"
     ]
    },
    {
     "name": "stdout",
     "output_type": "stream",
     "text": [
      "\r",
      "  7%|██▊                                     | 162/2331 [03:32<50:58,  1.41s/it]"
     ]
    },
    {
     "name": "stdout",
     "output_type": "stream",
     "text": [
      "\r",
      "  7%|██▊                                     | 163/2331 [03:34<52:59,  1.47s/it]"
     ]
    },
    {
     "name": "stdout",
     "output_type": "stream",
     "text": [
      "\r",
      "  7%|██▊                                     | 164/2331 [03:35<50:11,  1.39s/it]"
     ]
    },
    {
     "name": "stdout",
     "output_type": "stream",
     "text": [
      "\r",
      "  7%|██▊                                     | 165/2331 [03:36<44:30,  1.23s/it]"
     ]
    },
    {
     "name": "stdout",
     "output_type": "stream",
     "text": [
      "\r",
      "  7%|██▊                                     | 166/2331 [03:37<47:40,  1.32s/it]"
     ]
    },
    {
     "name": "stdout",
     "output_type": "stream",
     "text": [
      "\r",
      "  7%|██▊                                     | 167/2331 [03:40<57:09,  1.58s/it]"
     ]
    },
    {
     "name": "stdout",
     "output_type": "stream",
     "text": [
      "\r",
      "  7%|██▉                                     | 168/2331 [03:41<48:59,  1.36s/it]"
     ]
    },
    {
     "name": "stdout",
     "output_type": "stream",
     "text": [
      "\r",
      "  7%|██▉                                     | 169/2331 [03:42<48:46,  1.35s/it]"
     ]
    },
    {
     "name": "stdout",
     "output_type": "stream",
     "text": [
      "\r",
      "  7%|██▉                                     | 170/2331 [03:43<45:06,  1.25s/it]"
     ]
    },
    {
     "name": "stdout",
     "output_type": "stream",
     "text": [
      "\r",
      "  7%|██▉                                     | 171/2331 [03:44<43:37,  1.21s/it]"
     ]
    },
    {
     "name": "stdout",
     "output_type": "stream",
     "text": [
      "\r",
      "  7%|██▉                                     | 172/2331 [03:45<43:35,  1.21s/it]"
     ]
    },
    {
     "name": "stdout",
     "output_type": "stream",
     "text": [
      "\r",
      "  7%|██▉                                     | 173/2331 [03:47<46:12,  1.28s/it]"
     ]
    },
    {
     "name": "stdout",
     "output_type": "stream",
     "text": [
      "\r",
      "  7%|██▉                                     | 174/2331 [03:48<45:56,  1.28s/it]"
     ]
    },
    {
     "name": "stdout",
     "output_type": "stream",
     "text": [
      "\r",
      "  8%|███                                     | 175/2331 [03:49<44:58,  1.25s/it]"
     ]
    },
    {
     "name": "stdout",
     "output_type": "stream",
     "text": [
      "\r",
      "  8%|███                                     | 176/2331 [03:50<40:47,  1.14s/it]"
     ]
    },
    {
     "name": "stdout",
     "output_type": "stream",
     "text": [
      "\r",
      "  8%|███                                     | 177/2331 [03:51<37:59,  1.06s/it]"
     ]
    },
    {
     "name": "stdout",
     "output_type": "stream",
     "text": [
      "\r",
      "  8%|███                                     | 178/2331 [03:52<40:20,  1.12s/it]"
     ]
    },
    {
     "name": "stdout",
     "output_type": "stream",
     "text": [
      "\r",
      "  8%|███                                     | 179/2331 [03:53<40:21,  1.13s/it]"
     ]
    },
    {
     "name": "stdout",
     "output_type": "stream",
     "text": [
      "\r",
      "  8%|███                                     | 180/2331 [03:54<41:00,  1.14s/it]"
     ]
    },
    {
     "name": "stdout",
     "output_type": "stream",
     "text": [
      "\r",
      "  8%|███                                     | 181/2331 [03:56<47:45,  1.33s/it]"
     ]
    },
    {
     "name": "stdout",
     "output_type": "stream",
     "text": [
      "\r",
      "  8%|███                                     | 182/2331 [03:58<51:02,  1.43s/it]"
     ]
    },
    {
     "name": "stdout",
     "output_type": "stream",
     "text": [
      "\r",
      "  8%|███▏                                    | 183/2331 [04:00<53:52,  1.50s/it]"
     ]
    },
    {
     "name": "stdout",
     "output_type": "stream",
     "text": [
      "\r",
      "  8%|███▏                                    | 184/2331 [04:01<48:26,  1.35s/it]"
     ]
    },
    {
     "name": "stdout",
     "output_type": "stream",
     "text": [
      "\r",
      "  8%|███▏                                    | 185/2331 [04:02<48:21,  1.35s/it]"
     ]
    },
    {
     "name": "stdout",
     "output_type": "stream",
     "text": [
      "\r",
      "  8%|███▏                                    | 186/2331 [04:03<42:59,  1.20s/it]"
     ]
    },
    {
     "name": "stdout",
     "output_type": "stream",
     "text": [
      "\r",
      "  8%|███▏                                    | 187/2331 [04:04<40:40,  1.14s/it]"
     ]
    },
    {
     "name": "stdout",
     "output_type": "stream",
     "text": [
      "\r",
      "  8%|███▏                                    | 188/2331 [04:05<46:53,  1.31s/it]"
     ]
    },
    {
     "name": "stdout",
     "output_type": "stream",
     "text": [
      "\r",
      "  8%|███▏                                    | 189/2331 [04:07<48:31,  1.36s/it]"
     ]
    },
    {
     "name": "stdout",
     "output_type": "stream",
     "text": [
      "\r",
      "  8%|███▎                                    | 190/2331 [04:08<43:04,  1.21s/it]"
     ]
    },
    {
     "name": "stdout",
     "output_type": "stream",
     "text": [
      "\r",
      "  8%|███▎                                    | 191/2331 [04:09<41:30,  1.16s/it]"
     ]
    },
    {
     "name": "stdout",
     "output_type": "stream",
     "text": [
      "\r",
      "  8%|███▎                                    | 192/2331 [04:10<41:51,  1.17s/it]"
     ]
    },
    {
     "name": "stdout",
     "output_type": "stream",
     "text": [
      "\r",
      "  8%|███▎                                    | 193/2331 [04:12<50:37,  1.42s/it]"
     ]
    },
    {
     "name": "stdout",
     "output_type": "stream",
     "text": [
      "\r",
      "  8%|███▎                                    | 194/2331 [04:13<49:30,  1.39s/it]"
     ]
    },
    {
     "name": "stdout",
     "output_type": "stream",
     "text": [
      "\r",
      "  8%|███▎                                    | 195/2331 [04:14<46:55,  1.32s/it]"
     ]
    },
    {
     "name": "stdout",
     "output_type": "stream",
     "text": [
      "\r",
      "  8%|███▎                                    | 196/2331 [04:16<45:36,  1.28s/it]"
     ]
    },
    {
     "name": "stdout",
     "output_type": "stream",
     "text": [
      "\r",
      "  8%|███▍                                    | 197/2331 [04:17<43:38,  1.23s/it]"
     ]
    },
    {
     "name": "stdout",
     "output_type": "stream",
     "text": [
      "\r",
      "  8%|███▍                                    | 198/2331 [04:18<42:08,  1.19s/it]"
     ]
    },
    {
     "name": "stdout",
     "output_type": "stream",
     "text": [
      "\r",
      "  9%|███▍                                    | 199/2331 [04:20<52:53,  1.49s/it]"
     ]
    },
    {
     "name": "stdout",
     "output_type": "stream",
     "text": [
      "\r",
      "  9%|███▍                                    | 200/2331 [04:21<49:44,  1.40s/it]"
     ]
    },
    {
     "name": "stdout",
     "output_type": "stream",
     "text": [
      "\r",
      "  9%|███▍                                    | 201/2331 [04:22<46:39,  1.31s/it]"
     ]
    },
    {
     "name": "stdout",
     "output_type": "stream",
     "text": [
      "\r",
      "  9%|███▍                                    | 202/2331 [04:24<51:07,  1.44s/it]"
     ]
    },
    {
     "name": "stdout",
     "output_type": "stream",
     "text": [
      "\r",
      "  9%|███▍                                    | 203/2331 [04:25<46:12,  1.30s/it]"
     ]
    },
    {
     "name": "stdout",
     "output_type": "stream",
     "text": [
      "\r",
      "  9%|███▌                                    | 204/2331 [04:26<42:27,  1.20s/it]"
     ]
    },
    {
     "name": "stdout",
     "output_type": "stream",
     "text": [
      "\r",
      "  9%|███▌                                    | 205/2331 [04:28<54:07,  1.53s/it]"
     ]
    },
    {
     "name": "stdout",
     "output_type": "stream",
     "text": [
      "\r",
      "  9%|███▌                                    | 206/2331 [04:30<53:45,  1.52s/it]"
     ]
    },
    {
     "name": "stdout",
     "output_type": "stream",
     "text": [
      "\r",
      "  9%|███▌                                    | 207/2331 [04:31<49:03,  1.39s/it]"
     ]
    },
    {
     "name": "stdout",
     "output_type": "stream",
     "text": [
      "\r",
      "  9%|███▌                                    | 208/2331 [04:32<45:10,  1.28s/it]"
     ]
    },
    {
     "name": "stdout",
     "output_type": "stream",
     "text": [
      "\r",
      "  9%|███▌                                    | 209/2331 [04:34<57:19,  1.62s/it]"
     ]
    },
    {
     "name": "stdout",
     "output_type": "stream",
     "text": [
      "\r",
      "  9%|███▌                                    | 210/2331 [04:36<54:57,  1.55s/it]"
     ]
    },
    {
     "name": "stdout",
     "output_type": "stream",
     "text": [
      "\r",
      "  9%|███▌                                    | 211/2331 [04:37<49:55,  1.41s/it]"
     ]
    },
    {
     "name": "stdout",
     "output_type": "stream",
     "text": [
      "\r",
      "  9%|███▋                                    | 212/2331 [04:38<49:47,  1.41s/it]"
     ]
    },
    {
     "name": "stdout",
     "output_type": "stream",
     "text": [
      "\r",
      "  9%|███▋                                    | 213/2331 [04:39<46:44,  1.32s/it]"
     ]
    },
    {
     "name": "stdout",
     "output_type": "stream",
     "text": [
      "\r",
      "  9%|███▋                                    | 214/2331 [04:41<50:27,  1.43s/it]"
     ]
    },
    {
     "name": "stdout",
     "output_type": "stream",
     "text": [
      "\r",
      "  9%|███▋                                    | 215/2331 [04:42<46:51,  1.33s/it]"
     ]
    },
    {
     "name": "stdout",
     "output_type": "stream",
     "text": [
      "\r",
      "  9%|███▋                                    | 216/2331 [04:43<44:07,  1.25s/it]"
     ]
    },
    {
     "name": "stdout",
     "output_type": "stream",
     "text": [
      "\r",
      "  9%|███▋                                    | 217/2331 [04:45<47:28,  1.35s/it]"
     ]
    },
    {
     "name": "stdout",
     "output_type": "stream",
     "text": [
      "\r",
      "  9%|███▋                                    | 218/2331 [04:47<57:33,  1.63s/it]"
     ]
    },
    {
     "name": "stdout",
     "output_type": "stream",
     "text": [
      "\r",
      "  9%|███▊                                    | 219/2331 [04:49<55:40,  1.58s/it]"
     ]
    },
    {
     "name": "stdout",
     "output_type": "stream",
     "text": [
      "\r",
      "  9%|███▊                                    | 220/2331 [04:50<52:44,  1.50s/it]"
     ]
    },
    {
     "name": "stdout",
     "output_type": "stream",
     "text": [
      "\r",
      "  9%|███▊                                    | 221/2331 [04:51<52:54,  1.50s/it]"
     ]
    },
    {
     "name": "stdout",
     "output_type": "stream",
     "text": [
      "\r",
      " 10%|███▊                                    | 222/2331 [04:53<50:29,  1.44s/it]"
     ]
    },
    {
     "name": "stdout",
     "output_type": "stream",
     "text": [
      "\r",
      " 10%|███▊                                    | 223/2331 [04:54<44:39,  1.27s/it]"
     ]
    },
    {
     "name": "stdout",
     "output_type": "stream",
     "text": [
      "\r",
      " 10%|███▊                                    | 224/2331 [04:55<49:49,  1.42s/it]"
     ]
    },
    {
     "name": "stdout",
     "output_type": "stream",
     "text": [
      "\r",
      " 10%|███▊                                    | 225/2331 [04:56<44:47,  1.28s/it]"
     ]
    },
    {
     "name": "stdout",
     "output_type": "stream",
     "text": [
      "\r",
      " 10%|███▉                                    | 226/2331 [04:57<41:53,  1.19s/it]"
     ]
    },
    {
     "name": "stdout",
     "output_type": "stream",
     "text": [
      "\r",
      " 10%|███▉                                    | 227/2331 [04:58<38:32,  1.10s/it]"
     ]
    },
    {
     "name": "stdout",
     "output_type": "stream",
     "text": [
      "\r",
      " 10%|███▉                                    | 228/2331 [05:00<50:29,  1.44s/it]"
     ]
    },
    {
     "name": "stdout",
     "output_type": "stream",
     "text": [
      "\r",
      " 10%|███▉                                    | 229/2331 [05:02<48:25,  1.38s/it]"
     ]
    },
    {
     "name": "stdout",
     "output_type": "stream",
     "text": [
      "\r",
      " 10%|███▉                                    | 230/2331 [05:03<44:47,  1.28s/it]"
     ]
    },
    {
     "name": "stdout",
     "output_type": "stream",
     "text": [
      "\r",
      " 10%|███▉                                    | 231/2331 [05:04<48:25,  1.38s/it]"
     ]
    },
    {
     "name": "stdout",
     "output_type": "stream",
     "text": [
      "\r",
      " 10%|███▉                                    | 232/2331 [05:05<43:09,  1.23s/it]"
     ]
    },
    {
     "name": "stdout",
     "output_type": "stream",
     "text": [
      "\r",
      " 10%|███▉                                    | 233/2331 [05:06<41:36,  1.19s/it]"
     ]
    },
    {
     "name": "stdout",
     "output_type": "stream",
     "text": [
      "\r",
      " 10%|████                                    | 234/2331 [05:08<50:01,  1.43s/it]"
     ]
    },
    {
     "name": "stdout",
     "output_type": "stream",
     "text": [
      "\r",
      " 10%|████                                    | 235/2331 [05:10<49:04,  1.40s/it]"
     ]
    },
    {
     "name": "stdout",
     "output_type": "stream",
     "text": [
      "\r",
      " 10%|████                                    | 236/2331 [05:11<47:27,  1.36s/it]"
     ]
    },
    {
     "name": "stdout",
     "output_type": "stream",
     "text": [
      "\r",
      " 10%|████                                    | 237/2331 [05:13<56:22,  1.62s/it]"
     ]
    },
    {
     "name": "stdout",
     "output_type": "stream",
     "text": [
      "\r",
      " 10%|████                                    | 238/2331 [05:14<52:26,  1.50s/it]"
     ]
    },
    {
     "name": "stdout",
     "output_type": "stream",
     "text": [
      "\r",
      " 10%|████                                    | 239/2331 [05:15<45:56,  1.32s/it]"
     ]
    },
    {
     "name": "stdout",
     "output_type": "stream",
     "text": [
      "\r",
      " 10%|████                                    | 240/2331 [05:17<54:18,  1.56s/it]"
     ]
    },
    {
     "name": "stdout",
     "output_type": "stream",
     "text": [
      "\r",
      " 10%|████▏                                   | 241/2331 [05:19<50:50,  1.46s/it]"
     ]
    },
    {
     "name": "stdout",
     "output_type": "stream",
     "text": [
      "\r",
      " 10%|████▏                                   | 242/2331 [05:20<48:21,  1.39s/it]"
     ]
    },
    {
     "name": "stdout",
     "output_type": "stream",
     "text": [
      "\r",
      " 10%|████▏                                   | 243/2331 [05:22<57:09,  1.64s/it]"
     ]
    },
    {
     "name": "stdout",
     "output_type": "stream",
     "text": [
      "\r",
      " 10%|████▏                                   | 244/2331 [05:24<57:30,  1.65s/it]"
     ]
    },
    {
     "name": "stdout",
     "output_type": "stream",
     "text": [
      "\r",
      " 11%|████▏                                   | 245/2331 [05:25<50:48,  1.46s/it]"
     ]
    },
    {
     "name": "stdout",
     "output_type": "stream",
     "text": [
      "\r",
      " 11%|████▏                                   | 246/2331 [05:26<46:14,  1.33s/it]"
     ]
    },
    {
     "name": "stdout",
     "output_type": "stream",
     "text": [
      "\r",
      " 11%|████▏                                   | 247/2331 [05:27<43:01,  1.24s/it]"
     ]
    },
    {
     "name": "stdout",
     "output_type": "stream",
     "text": [
      "\r",
      " 11%|████▎                                   | 248/2331 [05:28<44:06,  1.27s/it]"
     ]
    },
    {
     "name": "stdout",
     "output_type": "stream",
     "text": [
      "\r",
      " 11%|████▎                                   | 249/2331 [05:29<41:14,  1.19s/it]"
     ]
    },
    {
     "name": "stdout",
     "output_type": "stream",
     "text": [
      "\r",
      " 11%|████▎                                   | 250/2331 [05:30<43:10,  1.25s/it]"
     ]
    },
    {
     "name": "stdout",
     "output_type": "stream",
     "text": [
      "\r",
      " 11%|████▎                                   | 251/2331 [05:32<41:42,  1.20s/it]"
     ]
    },
    {
     "name": "stdout",
     "output_type": "stream",
     "text": [
      "\r",
      " 11%|████▎                                   | 252/2331 [05:33<42:14,  1.22s/it]"
     ]
    },
    {
     "name": "stdout",
     "output_type": "stream",
     "text": [
      "\r",
      " 11%|████▎                                   | 253/2331 [05:34<43:26,  1.25s/it]"
     ]
    },
    {
     "name": "stdout",
     "output_type": "stream",
     "text": [
      "\r",
      " 11%|████▎                                   | 254/2331 [05:36<45:57,  1.33s/it]"
     ]
    },
    {
     "name": "stdout",
     "output_type": "stream",
     "text": [
      "\r",
      " 11%|████▍                                   | 255/2331 [05:37<48:28,  1.40s/it]"
     ]
    },
    {
     "name": "stdout",
     "output_type": "stream",
     "text": [
      "\r",
      " 11%|████▍                                   | 256/2331 [05:39<51:08,  1.48s/it]"
     ]
    },
    {
     "name": "stdout",
     "output_type": "stream",
     "text": [
      "\r",
      " 11%|████▍                                   | 257/2331 [05:40<44:57,  1.30s/it]"
     ]
    },
    {
     "name": "stdout",
     "output_type": "stream",
     "text": [
      "\r",
      " 11%|████▍                                   | 258/2331 [05:41<46:51,  1.36s/it]"
     ]
    },
    {
     "name": "stdout",
     "output_type": "stream",
     "text": [
      "\r",
      " 11%|████▍                                   | 259/2331 [05:42<45:47,  1.33s/it]"
     ]
    },
    {
     "name": "stdout",
     "output_type": "stream",
     "text": [
      "\r",
      " 11%|████▍                                   | 260/2331 [05:43<41:55,  1.21s/it]"
     ]
    },
    {
     "name": "stdout",
     "output_type": "stream",
     "text": [
      "\r",
      " 11%|████▍                                   | 261/2331 [05:44<39:02,  1.13s/it]"
     ]
    },
    {
     "name": "stdout",
     "output_type": "stream",
     "text": [
      "\r",
      " 11%|████▍                                   | 262/2331 [05:46<41:54,  1.22s/it]"
     ]
    },
    {
     "name": "stdout",
     "output_type": "stream",
     "text": [
      "\r",
      " 11%|████▌                                   | 263/2331 [05:48<49:54,  1.45s/it]"
     ]
    },
    {
     "name": "stdout",
     "output_type": "stream",
     "text": [
      "\r",
      " 11%|████▌                                   | 264/2331 [05:49<44:53,  1.30s/it]"
     ]
    },
    {
     "name": "stdout",
     "output_type": "stream",
     "text": [
      "\r",
      " 11%|████▌                                   | 265/2331 [05:51<49:57,  1.45s/it]"
     ]
    },
    {
     "name": "stdout",
     "output_type": "stream",
     "text": [
      "\r",
      " 11%|████▌                                   | 266/2331 [05:52<52:05,  1.51s/it]"
     ]
    },
    {
     "name": "stdout",
     "output_type": "stream",
     "text": [
      "\r",
      " 11%|████▌                                   | 267/2331 [05:53<46:57,  1.37s/it]"
     ]
    },
    {
     "name": "stdout",
     "output_type": "stream",
     "text": [
      "\r",
      " 11%|████▌                                   | 268/2331 [05:55<51:38,  1.50s/it]"
     ]
    },
    {
     "name": "stdout",
     "output_type": "stream",
     "text": [
      "\r",
      " 12%|████▌                                   | 269/2331 [05:57<52:18,  1.52s/it]"
     ]
    },
    {
     "name": "stdout",
     "output_type": "stream",
     "text": [
      "\r",
      " 12%|████▋                                   | 270/2331 [05:58<47:31,  1.38s/it]"
     ]
    },
    {
     "name": "stdout",
     "output_type": "stream",
     "text": [
      "\r",
      " 12%|████▋                                   | 271/2331 [05:58<41:33,  1.21s/it]"
     ]
    },
    {
     "name": "stdout",
     "output_type": "stream",
     "text": [
      "\r",
      " 12%|████▋                                   | 272/2331 [06:00<42:43,  1.25s/it]"
     ]
    },
    {
     "name": "stdout",
     "output_type": "stream",
     "text": [
      "\r",
      " 12%|████▋                                   | 273/2331 [06:03<59:54,  1.75s/it]"
     ]
    },
    {
     "name": "stdout",
     "output_type": "stream",
     "text": [
      "\r",
      " 12%|████▋                                   | 274/2331 [06:04<53:56,  1.57s/it]"
     ]
    },
    {
     "name": "stdout",
     "output_type": "stream",
     "text": [
      "\r",
      " 12%|████▋                                   | 275/2331 [06:05<47:51,  1.40s/it]"
     ]
    },
    {
     "name": "stdout",
     "output_type": "stream",
     "text": [
      "\r",
      " 12%|████▋                                   | 276/2331 [06:06<47:20,  1.38s/it]"
     ]
    },
    {
     "name": "stdout",
     "output_type": "stream",
     "text": [
      "\r",
      " 12%|████▊                                   | 277/2331 [06:07<44:57,  1.31s/it]"
     ]
    },
    {
     "name": "stdout",
     "output_type": "stream",
     "text": [
      "\r",
      " 12%|████▊                                   | 278/2331 [06:10<53:32,  1.56s/it]"
     ]
    },
    {
     "name": "stdout",
     "output_type": "stream",
     "text": [
      "\r",
      " 12%|████▊                                   | 279/2331 [06:11<51:39,  1.51s/it]"
     ]
    },
    {
     "name": "stdout",
     "output_type": "stream",
     "text": [
      "\r",
      " 12%|████▊                                   | 280/2331 [06:12<44:18,  1.30s/it]"
     ]
    },
    {
     "name": "stdout",
     "output_type": "stream",
     "text": [
      "\r",
      " 12%|████▊                                   | 281/2331 [06:13<44:42,  1.31s/it]"
     ]
    },
    {
     "name": "stdout",
     "output_type": "stream",
     "text": [
      "\r",
      " 12%|████▊                                   | 282/2331 [06:15<46:19,  1.36s/it]"
     ]
    },
    {
     "name": "stdout",
     "output_type": "stream",
     "text": [
      "\r",
      " 12%|████▊                                   | 283/2331 [06:16<42:37,  1.25s/it]"
     ]
    },
    {
     "name": "stdout",
     "output_type": "stream",
     "text": [
      "\r",
      " 12%|████▊                                   | 284/2331 [06:17<46:17,  1.36s/it]"
     ]
    },
    {
     "name": "stdout",
     "output_type": "stream",
     "text": [
      "\r",
      " 12%|████▉                                   | 285/2331 [06:19<47:48,  1.40s/it]"
     ]
    },
    {
     "name": "stdout",
     "output_type": "stream",
     "text": [
      "\r",
      " 12%|████▉                                   | 286/2331 [06:20<47:47,  1.40s/it]"
     ]
    },
    {
     "name": "stdout",
     "output_type": "stream",
     "text": [
      "\r",
      " 12%|████▉                                   | 287/2331 [06:21<46:35,  1.37s/it]"
     ]
    },
    {
     "name": "stdout",
     "output_type": "stream",
     "text": [
      "\r",
      " 12%|████▉                                   | 288/2331 [06:23<47:30,  1.40s/it]"
     ]
    },
    {
     "name": "stdout",
     "output_type": "stream",
     "text": [
      "\r",
      " 12%|████▉                                   | 289/2331 [06:24<43:22,  1.27s/it]"
     ]
    },
    {
     "name": "stdout",
     "output_type": "stream",
     "text": [
      "\r",
      " 12%|████▉                                   | 290/2331 [06:25<47:17,  1.39s/it]"
     ]
    },
    {
     "name": "stdout",
     "output_type": "stream",
     "text": [
      "\r",
      " 12%|████▉                                   | 291/2331 [06:27<50:22,  1.48s/it]"
     ]
    },
    {
     "name": "stdout",
     "output_type": "stream",
     "text": [
      "\r",
      " 13%|█████                                   | 292/2331 [06:28<48:30,  1.43s/it]"
     ]
    },
    {
     "name": "stdout",
     "output_type": "stream",
     "text": [
      "\r",
      " 13%|████▊                                 | 293/2331 [06:32<1:07:58,  2.00s/it]"
     ]
    },
    {
     "name": "stdout",
     "output_type": "stream",
     "text": [
      "\r",
      " 13%|████▊                                 | 294/2331 [06:34<1:13:33,  2.17s/it]"
     ]
    },
    {
     "name": "stdout",
     "output_type": "stream",
     "text": [
      "\r",
      " 13%|████▊                                 | 295/2331 [06:37<1:21:02,  2.39s/it]"
     ]
    },
    {
     "name": "stdout",
     "output_type": "stream",
     "text": [
      "\r",
      " 13%|████▊                                 | 296/2331 [06:40<1:28:26,  2.61s/it]"
     ]
    },
    {
     "name": "stdout",
     "output_type": "stream",
     "text": [
      "\r",
      " 13%|████▊                                 | 297/2331 [06:42<1:20:58,  2.39s/it]"
     ]
    },
    {
     "name": "stdout",
     "output_type": "stream",
     "text": [
      "\r",
      " 13%|████▊                                 | 298/2331 [06:44<1:16:36,  2.26s/it]"
     ]
    },
    {
     "name": "stdout",
     "output_type": "stream",
     "text": [
      "\r",
      " 13%|████▊                                 | 299/2331 [06:48<1:31:42,  2.71s/it]"
     ]
    },
    {
     "name": "stdout",
     "output_type": "stream",
     "text": [
      "\r",
      " 13%|████▉                                 | 300/2331 [06:51<1:36:00,  2.84s/it]"
     ]
    },
    {
     "name": "stdout",
     "output_type": "stream",
     "text": [
      "\r",
      " 13%|████▉                                 | 301/2331 [06:54<1:32:45,  2.74s/it]"
     ]
    },
    {
     "name": "stdout",
     "output_type": "stream",
     "text": [
      "\r",
      " 13%|████▉                                 | 302/2331 [06:56<1:34:14,  2.79s/it]"
     ]
    },
    {
     "name": "stdout",
     "output_type": "stream",
     "text": [
      "\r",
      " 13%|████▉                                 | 303/2331 [06:58<1:24:57,  2.51s/it]"
     ]
    },
    {
     "name": "stdout",
     "output_type": "stream",
     "text": [
      "\r",
      " 13%|████▉                                 | 304/2331 [07:03<1:48:04,  3.20s/it]"
     ]
    },
    {
     "name": "stdout",
     "output_type": "stream",
     "text": [
      "\r",
      " 13%|████▉                                 | 305/2331 [07:06<1:46:10,  3.14s/it]"
     ]
    },
    {
     "name": "stdout",
     "output_type": "stream",
     "text": [
      "\r",
      " 13%|████▉                                 | 306/2331 [07:08<1:36:35,  2.86s/it]"
     ]
    },
    {
     "name": "stdout",
     "output_type": "stream",
     "text": [
      "\r",
      " 13%|█████                                 | 307/2331 [07:11<1:32:32,  2.74s/it]"
     ]
    },
    {
     "name": "stdout",
     "output_type": "stream",
     "text": [
      "\r",
      " 13%|█████                                 | 308/2331 [07:13<1:30:58,  2.70s/it]"
     ]
    },
    {
     "name": "stdout",
     "output_type": "stream",
     "text": [
      "\r",
      " 13%|█████                                 | 309/2331 [07:16<1:30:15,  2.68s/it]"
     ]
    },
    {
     "name": "stdout",
     "output_type": "stream",
     "text": [
      "\r",
      " 13%|█████                                 | 310/2331 [07:18<1:26:07,  2.56s/it]"
     ]
    },
    {
     "name": "stdout",
     "output_type": "stream",
     "text": [
      "\r",
      " 13%|█████                                 | 311/2331 [07:21<1:27:43,  2.61s/it]"
     ]
    },
    {
     "name": "stdout",
     "output_type": "stream",
     "text": [
      "\r",
      " 13%|█████                                 | 312/2331 [07:23<1:19:03,  2.35s/it]"
     ]
    },
    {
     "name": "stdout",
     "output_type": "stream",
     "text": [
      "\r",
      " 13%|█████                                 | 313/2331 [07:26<1:29:13,  2.65s/it]"
     ]
    },
    {
     "name": "stdout",
     "output_type": "stream",
     "text": [
      "\r",
      " 13%|█████                                 | 314/2331 [07:30<1:38:37,  2.93s/it]"
     ]
    },
    {
     "name": "stdout",
     "output_type": "stream",
     "text": [
      "\r",
      " 14%|█████▏                                | 315/2331 [07:34<1:48:20,  3.22s/it]"
     ]
    },
    {
     "name": "stdout",
     "output_type": "stream",
     "text": [
      "\r",
      " 14%|█████▏                                | 316/2331 [07:35<1:33:31,  2.79s/it]"
     ]
    },
    {
     "name": "stdout",
     "output_type": "stream",
     "text": [
      "\r",
      " 14%|█████▏                                | 317/2331 [07:40<1:47:46,  3.21s/it]"
     ]
    },
    {
     "name": "stdout",
     "output_type": "stream",
     "text": [
      "\r",
      " 14%|█████▏                                | 318/2331 [07:43<1:46:06,  3.16s/it]"
     ]
    },
    {
     "name": "stdout",
     "output_type": "stream",
     "text": [
      "\r",
      " 14%|█████▏                                | 319/2331 [07:45<1:35:50,  2.86s/it]"
     ]
    },
    {
     "name": "stdout",
     "output_type": "stream",
     "text": [
      "\r",
      " 14%|█████▏                                | 320/2331 [07:48<1:33:50,  2.80s/it]"
     ]
    },
    {
     "name": "stdout",
     "output_type": "stream",
     "text": [
      "\r",
      " 14%|█████▏                                | 321/2331 [07:50<1:28:24,  2.64s/it]"
     ]
    },
    {
     "name": "stdout",
     "output_type": "stream",
     "text": [
      "\r",
      " 14%|█████▏                                | 322/2331 [07:52<1:19:24,  2.37s/it]"
     ]
    },
    {
     "name": "stdout",
     "output_type": "stream",
     "text": [
      "\r",
      " 14%|█████▎                                | 323/2331 [07:54<1:21:23,  2.43s/it]"
     ]
    },
    {
     "name": "stdout",
     "output_type": "stream",
     "text": [
      "\r",
      " 14%|█████▎                                | 324/2331 [07:57<1:30:11,  2.70s/it]"
     ]
    },
    {
     "name": "stdout",
     "output_type": "stream",
     "text": [
      "\r",
      " 14%|█████▎                                | 325/2331 [08:00<1:29:16,  2.67s/it]"
     ]
    },
    {
     "name": "stdout",
     "output_type": "stream",
     "text": [
      "\r",
      " 14%|█████▎                                | 326/2331 [08:03<1:28:09,  2.64s/it]"
     ]
    },
    {
     "name": "stdout",
     "output_type": "stream",
     "text": [
      "\r",
      " 14%|█████▎                                | 327/2331 [08:06<1:37:17,  2.91s/it]"
     ]
    },
    {
     "name": "stdout",
     "output_type": "stream",
     "text": [
      "\r",
      " 14%|█████▎                                | 328/2331 [08:09<1:37:26,  2.92s/it]"
     ]
    },
    {
     "name": "stdout",
     "output_type": "stream",
     "text": [
      "\r",
      " 14%|█████▎                                | 329/2331 [08:12<1:36:59,  2.91s/it]"
     ]
    },
    {
     "name": "stdout",
     "output_type": "stream",
     "text": [
      "\r",
      " 14%|█████▍                                | 330/2331 [08:15<1:36:09,  2.88s/it]"
     ]
    },
    {
     "name": "stdout",
     "output_type": "stream",
     "text": [
      "\r",
      " 14%|█████▍                                | 331/2331 [08:17<1:33:39,  2.81s/it]"
     ]
    },
    {
     "name": "stdout",
     "output_type": "stream",
     "text": [
      "\r",
      " 14%|█████▍                                | 332/2331 [08:19<1:23:44,  2.51s/it]"
     ]
    },
    {
     "name": "stdout",
     "output_type": "stream",
     "text": [
      "\r",
      " 14%|█████▍                                | 333/2331 [08:22<1:28:51,  2.67s/it]"
     ]
    },
    {
     "name": "stdout",
     "output_type": "stream",
     "text": [
      "\r",
      " 14%|█████▍                                | 334/2331 [08:25<1:29:34,  2.69s/it]"
     ]
    },
    {
     "name": "stdout",
     "output_type": "stream",
     "text": [
      "\r",
      " 14%|█████▍                                | 335/2331 [08:28<1:37:06,  2.92s/it]"
     ]
    },
    {
     "name": "stdout",
     "output_type": "stream",
     "text": [
      "\r",
      " 14%|█████▍                                | 336/2331 [08:32<1:44:36,  3.15s/it]"
     ]
    },
    {
     "name": "stdout",
     "output_type": "stream",
     "text": [
      "\r",
      " 14%|█████▍                                | 337/2331 [08:34<1:34:53,  2.86s/it]"
     ]
    },
    {
     "name": "stdout",
     "output_type": "stream",
     "text": [
      "\r",
      " 15%|█████▌                                | 338/2331 [08:38<1:45:22,  3.17s/it]"
     ]
    },
    {
     "name": "stdout",
     "output_type": "stream",
     "text": [
      "\r",
      " 15%|█████▌                                | 339/2331 [08:40<1:35:49,  2.89s/it]"
     ]
    },
    {
     "name": "stdout",
     "output_type": "stream",
     "text": [
      "\r",
      " 15%|█████▌                                | 340/2331 [08:43<1:29:02,  2.68s/it]"
     ]
    },
    {
     "name": "stdout",
     "output_type": "stream",
     "text": [
      "\r",
      " 15%|█████▌                                | 341/2331 [08:45<1:21:41,  2.46s/it]"
     ]
    },
    {
     "name": "stdout",
     "output_type": "stream",
     "text": [
      "\r",
      " 15%|█████▌                                | 342/2331 [08:47<1:19:21,  2.39s/it]"
     ]
    },
    {
     "name": "stdout",
     "output_type": "stream",
     "text": [
      "\r",
      " 15%|█████▌                                | 343/2331 [08:49<1:21:33,  2.46s/it]"
     ]
    },
    {
     "name": "stdout",
     "output_type": "stream",
     "text": [
      "\r",
      " 15%|█████▌                                | 344/2331 [08:53<1:30:31,  2.73s/it]"
     ]
    },
    {
     "name": "stdout",
     "output_type": "stream",
     "text": [
      "\r",
      " 15%|█████▌                                | 345/2331 [08:55<1:27:23,  2.64s/it]"
     ]
    },
    {
     "name": "stdout",
     "output_type": "stream",
     "text": [
      "\r",
      " 15%|█████▋                                | 346/2331 [08:57<1:20:06,  2.42s/it]"
     ]
    },
    {
     "name": "stdout",
     "output_type": "stream",
     "text": [
      "\r",
      " 15%|█████▋                                | 347/2331 [08:59<1:18:35,  2.38s/it]"
     ]
    },
    {
     "name": "stdout",
     "output_type": "stream",
     "text": [
      "\r",
      " 15%|█████▋                                | 348/2331 [09:02<1:24:15,  2.55s/it]"
     ]
    },
    {
     "name": "stdout",
     "output_type": "stream",
     "text": [
      "\r",
      " 15%|█████▋                                | 349/2331 [09:05<1:25:12,  2.58s/it]"
     ]
    },
    {
     "name": "stdout",
     "output_type": "stream",
     "text": [
      "\r",
      " 15%|█████▋                                | 350/2331 [09:08<1:28:29,  2.68s/it]"
     ]
    },
    {
     "name": "stdout",
     "output_type": "stream",
     "text": [
      "\r",
      " 15%|█████▋                                | 351/2331 [09:10<1:25:56,  2.60s/it]"
     ]
    },
    {
     "name": "stdout",
     "output_type": "stream",
     "text": [
      "\r",
      " 15%|█████▋                                | 352/2331 [09:14<1:32:36,  2.81s/it]"
     ]
    },
    {
     "name": "stdout",
     "output_type": "stream",
     "text": [
      "\r",
      " 15%|█████▊                                | 353/2331 [09:17<1:38:37,  2.99s/it]"
     ]
    },
    {
     "name": "stdout",
     "output_type": "stream",
     "text": [
      "\r",
      " 15%|█████▊                                | 354/2331 [09:19<1:29:04,  2.70s/it]"
     ]
    },
    {
     "name": "stdout",
     "output_type": "stream",
     "text": [
      "\r",
      " 15%|█████▊                                | 355/2331 [09:22<1:28:58,  2.70s/it]"
     ]
    },
    {
     "name": "stdout",
     "output_type": "stream",
     "text": [
      "\r",
      " 15%|█████▊                                | 356/2331 [09:25<1:31:20,  2.77s/it]"
     ]
    },
    {
     "name": "stdout",
     "output_type": "stream",
     "text": [
      "\r",
      " 15%|█████▊                                | 357/2331 [09:28<1:35:10,  2.89s/it]"
     ]
    },
    {
     "name": "stdout",
     "output_type": "stream",
     "text": [
      "\r",
      " 15%|█████▊                                | 358/2331 [09:29<1:21:33,  2.48s/it]"
     ]
    },
    {
     "name": "stdout",
     "output_type": "stream",
     "text": [
      "\r",
      " 15%|█████▊                                | 359/2331 [09:32<1:22:26,  2.51s/it]"
     ]
    },
    {
     "name": "stdout",
     "output_type": "stream",
     "text": [
      "\r",
      " 15%|█████▊                                | 360/2331 [09:34<1:22:15,  2.50s/it]"
     ]
    },
    {
     "name": "stdout",
     "output_type": "stream",
     "text": [
      "\r",
      " 15%|█████▉                                | 361/2331 [09:37<1:20:27,  2.45s/it]"
     ]
    },
    {
     "name": "stdout",
     "output_type": "stream",
     "text": [
      "\r",
      " 16%|█████▉                                | 362/2331 [09:39<1:21:21,  2.48s/it]"
     ]
    },
    {
     "name": "stdout",
     "output_type": "stream",
     "text": [
      "\r",
      " 16%|█████▉                                | 363/2331 [09:42<1:20:35,  2.46s/it]"
     ]
    },
    {
     "name": "stdout",
     "output_type": "stream",
     "text": [
      "\r",
      " 16%|█████▉                                | 364/2331 [09:44<1:19:04,  2.41s/it]"
     ]
    },
    {
     "name": "stdout",
     "output_type": "stream",
     "text": [
      "\r",
      " 16%|█████▉                                | 365/2331 [09:46<1:14:14,  2.27s/it]"
     ]
    },
    {
     "name": "stdout",
     "output_type": "stream",
     "text": [
      "\r",
      " 16%|█████▉                                | 366/2331 [09:48<1:16:19,  2.33s/it]"
     ]
    },
    {
     "name": "stdout",
     "output_type": "stream",
     "text": [
      "\r",
      " 16%|█████▉                                | 367/2331 [09:50<1:12:44,  2.22s/it]"
     ]
    },
    {
     "name": "stdout",
     "output_type": "stream",
     "text": [
      "\r",
      " 16%|█████▉                                | 368/2331 [09:54<1:23:22,  2.55s/it]"
     ]
    },
    {
     "name": "stdout",
     "output_type": "stream",
     "text": [
      "\r",
      " 16%|██████                                | 369/2331 [09:56<1:19:19,  2.43s/it]"
     ]
    },
    {
     "name": "stdout",
     "output_type": "stream",
     "text": [
      "\r",
      " 16%|██████                                | 370/2331 [09:58<1:16:19,  2.34s/it]"
     ]
    },
    {
     "name": "stdout",
     "output_type": "stream",
     "text": [
      "\r",
      " 16%|██████                                | 371/2331 [10:00<1:13:41,  2.26s/it]"
     ]
    },
    {
     "name": "stdout",
     "output_type": "stream",
     "text": [
      "\r",
      " 16%|██████                                | 372/2331 [10:02<1:09:31,  2.13s/it]"
     ]
    },
    {
     "name": "stdout",
     "output_type": "stream",
     "text": [
      "\r",
      " 16%|██████                                | 373/2331 [10:04<1:12:56,  2.24s/it]"
     ]
    },
    {
     "name": "stdout",
     "output_type": "stream",
     "text": [
      "\r",
      " 16%|██████                                | 374/2331 [10:07<1:15:33,  2.32s/it]"
     ]
    },
    {
     "name": "stdout",
     "output_type": "stream",
     "text": [
      "\r",
      " 16%|██████                                | 375/2331 [10:09<1:12:37,  2.23s/it]"
     ]
    },
    {
     "name": "stdout",
     "output_type": "stream",
     "text": [
      "\r",
      " 16%|██████▏                               | 376/2331 [10:11<1:06:09,  2.03s/it]"
     ]
    },
    {
     "name": "stdout",
     "output_type": "stream",
     "text": [
      "\r",
      " 16%|██████▏                               | 377/2331 [10:13<1:15:18,  2.31s/it]"
     ]
    },
    {
     "name": "stdout",
     "output_type": "stream",
     "text": [
      "\r",
      " 16%|██████▏                               | 378/2331 [10:17<1:25:14,  2.62s/it]"
     ]
    },
    {
     "name": "stdout",
     "output_type": "stream",
     "text": [
      "\r",
      " 16%|██████▏                               | 379/2331 [10:19<1:21:28,  2.50s/it]"
     ]
    },
    {
     "name": "stdout",
     "output_type": "stream",
     "text": [
      "\r",
      " 16%|██████▏                               | 380/2331 [10:21<1:11:20,  2.19s/it]"
     ]
    },
    {
     "name": "stdout",
     "output_type": "stream",
     "text": [
      "\r",
      " 16%|██████▏                               | 381/2331 [10:23<1:10:31,  2.17s/it]"
     ]
    },
    {
     "name": "stdout",
     "output_type": "stream",
     "text": [
      "\r",
      " 16%|██████▏                               | 382/2331 [10:25<1:16:33,  2.36s/it]"
     ]
    },
    {
     "name": "stdout",
     "output_type": "stream",
     "text": [
      "\r",
      " 16%|██████▏                               | 383/2331 [10:27<1:13:15,  2.26s/it]"
     ]
    },
    {
     "name": "stdout",
     "output_type": "stream",
     "text": [
      "\r",
      " 16%|██████▎                               | 384/2331 [10:29<1:06:42,  2.06s/it]"
     ]
    },
    {
     "name": "stdout",
     "output_type": "stream",
     "text": [
      "\r",
      " 17%|██████▎                               | 385/2331 [10:31<1:10:17,  2.17s/it]"
     ]
    },
    {
     "name": "stdout",
     "output_type": "stream",
     "text": [
      "\r",
      " 17%|██████▎                               | 386/2331 [10:35<1:23:58,  2.59s/it]"
     ]
    },
    {
     "name": "stdout",
     "output_type": "stream",
     "text": [
      "\r",
      " 17%|██████▎                               | 387/2331 [10:38<1:23:55,  2.59s/it]"
     ]
    },
    {
     "name": "stdout",
     "output_type": "stream",
     "text": [
      "\r",
      " 17%|██████▎                               | 388/2331 [10:41<1:29:53,  2.78s/it]"
     ]
    },
    {
     "name": "stdout",
     "output_type": "stream",
     "text": [
      "\r",
      " 17%|██████▎                               | 389/2331 [10:43<1:26:03,  2.66s/it]"
     ]
    },
    {
     "name": "stdout",
     "output_type": "stream",
     "text": [
      "\r",
      " 17%|██████▎                               | 390/2331 [10:47<1:34:07,  2.91s/it]"
     ]
    },
    {
     "name": "stdout",
     "output_type": "stream",
     "text": [
      "\r",
      " 17%|██████▎                               | 391/2331 [10:50<1:36:08,  2.97s/it]"
     ]
    },
    {
     "name": "stdout",
     "output_type": "stream",
     "text": [
      "\r",
      " 17%|██████▍                               | 392/2331 [10:52<1:25:58,  2.66s/it]"
     ]
    },
    {
     "name": "stdout",
     "output_type": "stream",
     "text": [
      "\r",
      " 17%|██████▍                               | 393/2331 [10:54<1:25:00,  2.63s/it]"
     ]
    },
    {
     "name": "stdout",
     "output_type": "stream",
     "text": [
      "\r",
      " 17%|██████▍                               | 394/2331 [10:57<1:22:07,  2.54s/it]"
     ]
    },
    {
     "name": "stdout",
     "output_type": "stream",
     "text": [
      "\r",
      " 17%|██████▍                               | 395/2331 [10:58<1:12:04,  2.23s/it]"
     ]
    },
    {
     "name": "stdout",
     "output_type": "stream",
     "text": [
      "\r",
      " 17%|██████▍                               | 396/2331 [11:00<1:09:27,  2.15s/it]"
     ]
    },
    {
     "name": "stdout",
     "output_type": "stream",
     "text": [
      "\r",
      " 17%|██████▍                               | 397/2331 [11:02<1:07:36,  2.10s/it]"
     ]
    },
    {
     "name": "stdout",
     "output_type": "stream",
     "text": [
      "\r",
      " 17%|██████▍                               | 398/2331 [11:04<1:08:32,  2.13s/it]"
     ]
    },
    {
     "name": "stdout",
     "output_type": "stream",
     "text": [
      "\r",
      " 17%|██████▌                               | 399/2331 [11:06<1:06:25,  2.06s/it]"
     ]
    },
    {
     "name": "stdout",
     "output_type": "stream",
     "text": [
      "\r",
      " 17%|██████▌                               | 400/2331 [11:08<1:06:10,  2.06s/it]"
     ]
    },
    {
     "name": "stdout",
     "output_type": "stream",
     "text": [
      "\r",
      " 17%|██████▌                               | 401/2331 [11:11<1:15:19,  2.34s/it]"
     ]
    },
    {
     "name": "stdout",
     "output_type": "stream",
     "text": [
      "\r",
      " 17%|██████▌                               | 402/2331 [11:13<1:11:11,  2.21s/it]"
     ]
    },
    {
     "name": "stdout",
     "output_type": "stream",
     "text": [
      "\r",
      " 17%|██████▌                               | 403/2331 [11:15<1:10:01,  2.18s/it]"
     ]
    },
    {
     "name": "stdout",
     "output_type": "stream",
     "text": [
      "\r",
      " 17%|██████▌                               | 404/2331 [11:19<1:21:43,  2.54s/it]"
     ]
    },
    {
     "name": "stdout",
     "output_type": "stream",
     "text": [
      "\r",
      " 17%|██████▌                               | 405/2331 [11:21<1:16:43,  2.39s/it]"
     ]
    },
    {
     "name": "stdout",
     "output_type": "stream",
     "text": [
      "\r",
      " 17%|██████▌                               | 406/2331 [11:23<1:12:50,  2.27s/it]"
     ]
    },
    {
     "name": "stdout",
     "output_type": "stream",
     "text": [
      "\r",
      " 17%|██████▋                               | 407/2331 [11:25<1:13:14,  2.28s/it]"
     ]
    },
    {
     "name": "stdout",
     "output_type": "stream",
     "text": [
      "\r",
      " 18%|██████▋                               | 408/2331 [11:27<1:09:29,  2.17s/it]"
     ]
    },
    {
     "name": "stdout",
     "output_type": "stream",
     "text": [
      "\r",
      " 18%|██████▋                               | 409/2331 [11:29<1:08:15,  2.13s/it]"
     ]
    },
    {
     "name": "stdout",
     "output_type": "stream",
     "text": [
      "\r",
      " 18%|██████▋                               | 410/2331 [11:31<1:10:44,  2.21s/it]"
     ]
    },
    {
     "name": "stdout",
     "output_type": "stream",
     "text": [
      "\r",
      " 18%|██████▋                               | 411/2331 [11:33<1:08:07,  2.13s/it]"
     ]
    },
    {
     "name": "stdout",
     "output_type": "stream",
     "text": [
      "\r",
      " 18%|██████▋                               | 412/2331 [11:36<1:10:49,  2.21s/it]"
     ]
    },
    {
     "name": "stdout",
     "output_type": "stream",
     "text": [
      "\r",
      " 18%|██████▋                               | 413/2331 [11:38<1:11:34,  2.24s/it]"
     ]
    },
    {
     "name": "stdout",
     "output_type": "stream",
     "text": [
      "\r",
      " 18%|██████▋                               | 414/2331 [11:40<1:08:25,  2.14s/it]"
     ]
    },
    {
     "name": "stdout",
     "output_type": "stream",
     "text": [
      "\r",
      " 18%|██████▊                               | 415/2331 [11:43<1:13:48,  2.31s/it]"
     ]
    },
    {
     "name": "stdout",
     "output_type": "stream",
     "text": [
      "\r",
      " 18%|██████▊                               | 416/2331 [11:44<1:08:51,  2.16s/it]"
     ]
    },
    {
     "name": "stdout",
     "output_type": "stream",
     "text": [
      "\r",
      " 18%|██████▊                               | 417/2331 [11:48<1:19:21,  2.49s/it]"
     ]
    },
    {
     "name": "stdout",
     "output_type": "stream",
     "text": [
      "\r",
      " 18%|██████▊                               | 418/2331 [11:49<1:12:28,  2.27s/it]"
     ]
    },
    {
     "name": "stdout",
     "output_type": "stream",
     "text": [
      "\r",
      " 18%|██████▊                               | 419/2331 [11:51<1:06:32,  2.09s/it]"
     ]
    }
   ],
   "source": [
    "!cat /kaggle/input/fork-of-wav2vec-u-cv-swedish-tsv/train.tsv|python scripts/vads.py > /kaggle/working/vad-output"
   ]
  }
 ],
 "metadata": {
  "kernelspec": {
   "display_name": "Python 3",
   "language": "python",
   "name": "python3"
  },
  "language_info": {
   "codemirror_mode": {
    "name": "ipython",
    "version": 3
   },
   "file_extension": ".py",
   "mimetype": "text/x-python",
   "name": "python",
   "nbconvert_exporter": "python",
   "pygments_lexer": "ipython3",
   "version": "3.6.4"
  },
  "papermill": {
   "default_parameters": {},
   "duration": null,
   "end_time": null,
   "environment_variables": {},
   "exception": null,
   "input_path": "__notebook__.ipynb",
   "output_path": "__notebook__.ipynb",
   "parameters": {},
   "start_time": "2021-05-25T21:53:11.256313",
   "version": "2.3.3"
  }
 },
 "nbformat": 4,
 "nbformat_minor": 5
}