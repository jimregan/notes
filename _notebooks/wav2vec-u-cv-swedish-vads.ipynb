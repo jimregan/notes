{
 "cells": [
  {
   "cell_type": "code",
   "execution_count": 1,
   "id": "public-thunder",
   "metadata": {
    "execution": {
     "iopub.execute_input": "2021-05-25T11:58:37.242615Z",
     "iopub.status.busy": "2021-05-25T11:58:37.238678Z",
     "iopub.status.idle": "2021-05-25T11:58:37.979422Z",
     "shell.execute_reply": "2021-05-25T11:58:37.978740Z",
     "shell.execute_reply.started": "2021-05-25T11:52:11.977575Z"
    },
    "papermill": {
     "duration": 0.758812,
     "end_time": "2021-05-25T11:58:37.979596",
     "exception": false,
     "start_time": "2021-05-25T11:58:37.220784",
     "status": "completed"
    },
    "tags": []
   },
   "outputs": [],
   "source": [
    "!mkdir /kaggle/working/train.vads"
   ]
  },
  {
   "cell_type": "code",
   "execution_count": 2,
   "id": "floppy-perry",
   "metadata": {
    "execution": {
     "iopub.execute_input": "2021-05-25T11:58:38.003779Z",
     "iopub.status.busy": "2021-05-25T11:58:38.003018Z",
     "iopub.status.idle": "2021-05-25T11:59:25.164109Z",
     "shell.execute_reply": "2021-05-25T11:59:25.163032Z",
     "shell.execute_reply.started": "2021-05-25T11:50:13.947646Z"
    },
    "papermill": {
     "duration": 47.176795,
     "end_time": "2021-05-25T11:59:25.164295",
     "exception": false,
     "start_time": "2021-05-25T11:58:37.987500",
     "status": "completed"
    },
    "tags": []
   },
   "outputs": [],
   "source": [
    "import soundfile\n",
    "input = {\n",
    "    'train': '/kaggle/input/download-common-voice-swedish/cv-corpus-6.1-2020-12-11/sv-SE/train.tsv',\n",
    "    'test': '/kaggle/input/download-common-voice-swedish/cv-corpus-6.1-2020-12-11/sv-SE/test.tsv',\n",
    "    'valid': '/kaggle/input/download-common-voice-swedish/cv-corpus-6.1-2020-12-11/sv-SE/validated.tsv'\n",
    "}\n",
    "for split in input.keys():\n",
    "    with open(input[split], 'r') as tsv:\n",
    "        with open(f'/kaggle/working/{split}.tsv', 'w') as out:\n",
    "            for line in tsv.readlines():\n",
    "                data = line.split('\\t')\n",
    "                if data[1] == 'path':\n",
    "                    continue\n",
    "                file = data[1]\n",
    "                file = file.replace('.mp3', '.wav')\n",
    "                path = f'../input/common-voice-swedish-16bit-wav/{file}'\n",
    "                frames = soundfile.info(path).frames\n",
    "                print(\"{}\\t{}\".format(path, frames), file=out)"
   ]
  },
  {
   "cell_type": "code",
   "execution_count": 3,
   "id": "fossil-pride",
   "metadata": {
    "execution": {
     "iopub.execute_input": "2021-05-25T11:59:25.184189Z",
     "iopub.status.busy": "2021-05-25T11:59:25.183402Z",
     "iopub.status.idle": "2021-05-25T11:59:25.190639Z",
     "shell.execute_reply": "2021-05-25T11:59:25.189833Z",
     "shell.execute_reply.started": "2021-05-25T11:51:54.534093Z"
    },
    "papermill": {
     "duration": 0.018381,
     "end_time": "2021-05-25T11:59:25.190854",
     "exception": false,
     "start_time": "2021-05-25T11:59:25.172473",
     "status": "completed"
    },
    "tags": []
   },
   "outputs": [
    {
     "name": "stdout",
     "output_type": "stream",
     "text": [
      "/tmp\n"
     ]
    }
   ],
   "source": [
    "%cd /tmp"
   ]
  },
  {
   "cell_type": "code",
   "execution_count": 4,
   "id": "diverse-psychology",
   "metadata": {
    "_cell_guid": "b1076dfc-b9ad-4769-8c92-a6c4dae69d19",
    "_uuid": "8f2839f25d086af736a60e9eeb907d3b93b6e0e5",
    "execution": {
     "iopub.execute_input": "2021-05-25T11:59:25.217933Z",
     "iopub.status.busy": "2021-05-25T11:59:25.216317Z",
     "iopub.status.idle": "2021-05-25T11:59:27.684798Z",
     "shell.execute_reply": "2021-05-25T11:59:27.683736Z",
     "shell.execute_reply.started": "2021-05-25T11:51:56.175648Z"
    },
    "papermill": {
     "duration": 2.484092,
     "end_time": "2021-05-25T11:59:27.684961",
     "exception": false,
     "start_time": "2021-05-25T11:59:25.200869",
     "status": "completed"
    },
    "tags": []
   },
   "outputs": [
    {
     "name": "stdout",
     "output_type": "stream",
     "text": [
      "Cloning into 'fairseq'...\r\n"
     ]
    },
    {
     "name": "stdout",
     "output_type": "stream",
     "text": [
      "remote: Enumerating objects: 28088, done.\u001b[K\r\n",
      "remote: Counting objects:   0% (1/509)\u001b[K\r",
      "remote: Counting objects:   1% (6/509)\u001b[K\r",
      "remote: Counting objects:   2% (11/509)\u001b[K\r",
      "remote: Counting objects:   3% (16/509)\u001b[K\r",
      "remote: Counting objects:   4% (21/509)\u001b[K\r",
      "remote: Counting objects:   5% (26/509)\u001b[K\r",
      "remote: Counting objects:   6% (31/509)\u001b[K\r",
      "remote: Counting objects:   7% (36/509)\u001b[K\r",
      "remote: Counting objects:   8% (41/509)\u001b[K\r",
      "remote: Counting objects:   9% (46/509)\u001b[K\r",
      "remote: Counting objects:  10% (51/509)\u001b[K\r",
      "remote: Counting objects:  11% (56/509)\u001b[K\r",
      "remote: Counting objects:  12% (62/509)\u001b[K\r",
      "remote: Counting objects:  13% (67/509)\u001b[K\r",
      "remote: Counting objects:  14% (72/509)\u001b[K\r",
      "remote: Counting objects:  15% (77/509)\u001b[K\r",
      "remote: Counting objects:  16% (82/509)\u001b[K\r",
      "remote: Counting objects:  17% (87/509)\u001b[K\r",
      "remote: Counting objects:  18% (92/509)\u001b[K\r",
      "remote: Counting objects:  19% (97/509)\u001b[K\r",
      "remote: Counting objects:  20% (102/509)\u001b[K\r",
      "remote: Counting objects:  21% (107/509)\u001b[K\r",
      "remote: Counting objects:  22% (112/509)\u001b[K\r",
      "remote: Counting objects:  23% (118/509)\u001b[K\r",
      "remote: Counting objects:  24% (123/509)\u001b[K\r",
      "remote: Counting objects:  25% (128/509)\u001b[K\r",
      "remote: Counting objects:  26% (133/509)\u001b[K\r",
      "remote: Counting objects:  27% (138/509)\u001b[K\r",
      "remote: Counting objects:  28% (143/509)\u001b[K\r",
      "remote: Counting objects:  29% (148/509)\u001b[K\r",
      "remote: Counting objects:  30% (153/509)\u001b[K\r",
      "remote: Counting objects:  31% (158/509)\u001b[K\r",
      "remote: Counting objects:  32% (163/509)\u001b[K\r",
      "remote: Counting objects:  33% (168/509)\u001b[K\r",
      "remote: Counting objects:  34% (174/509)\u001b[K\r",
      "remote: Counting objects:  35% (179/509)\u001b[K\r",
      "remote: Counting objects:  36% (184/509)\u001b[K\r",
      "remote: Counting objects:  37% (189/509)\u001b[K\r",
      "remote: Counting objects:  38% (194/509)\u001b[K\r",
      "remote: Counting objects:  39% (199/509)\u001b[K\r",
      "remote: Counting objects:  40% (204/509)\u001b[K\r",
      "remote: Counting objects:  41% (209/509)\u001b[K\r",
      "remote: Counting objects:  42% (214/509)\u001b[K\r",
      "remote: Counting objects:  43% (219/509)\u001b[K\r",
      "remote: Counting objects:  44% (224/509)\u001b[K\r",
      "remote: Counting objects:  45% (230/509)\u001b[K\r",
      "remote: Counting objects:  46% (235/509)\u001b[K\r",
      "remote: Counting objects:  47% (240/509)\u001b[K\r",
      "remote: Counting objects:  48% (245/509)\u001b[K\r",
      "remote: Counting objects:  49% (250/509)\u001b[K\r",
      "remote: Counting objects:  50% (255/509)\u001b[K\r",
      "remote: Counting objects:  51% (260/509)\u001b[K\r",
      "remote: Counting objects:  52% (265/509)\u001b[K\r",
      "remote: Counting objects:  53% (270/509)\u001b[K\r",
      "remote: Counting objects:  54% (275/509)\u001b[K\r",
      "remote: Counting objects:  55% (280/509)\u001b[K\r",
      "remote: Counting objects:  56% (286/509)\u001b[K\r",
      "remote: Counting objects:  57% (291/509)\u001b[K\r",
      "remote: Counting objects:  58% (296/509)\u001b[K\r",
      "remote: Counting objects:  59% (301/509)\u001b[K\r",
      "remote: Counting objects:  60% (306/509)\u001b[K\r",
      "remote: Counting objects:  61% (311/509)\u001b[K\r",
      "remote: Counting objects:  62% (316/509)\u001b[K\r",
      "remote: Counting objects:  63% (321/509)\u001b[K\r",
      "remote: Counting objects:  64% (326/509)\u001b[K\r",
      "remote: Counting objects:  65% (331/509)\u001b[K\r",
      "remote: Counting objects:  66% (336/509)\u001b[K\r",
      "remote: Counting objects:  67% (342/509)\u001b[K\r",
      "remote: Counting objects:  68% (347/509)\u001b[K\r",
      "remote: Counting objects:  69% (352/509)\u001b[K\r",
      "remote: Counting objects:  70% (357/509)\u001b[K\r",
      "remote: Counting objects:  71% (362/509)\u001b[K\r",
      "remote: Counting objects:  72% (367/509)\u001b[K\r",
      "remote: Counting objects:  73% (372/509)\u001b[K\r",
      "remote: Counting objects:  74% (377/509)\u001b[K\r",
      "remote: Counting objects:  75% (382/509)\u001b[K\r",
      "remote: Counting objects:  76% (387/509)\u001b[K\r",
      "remote: Counting objects:  77% (392/509)\u001b[K\r",
      "remote: Counting objects:  78% (398/509)\u001b[K\r",
      "remote: Counting objects:  79% (403/509)\u001b[K\r",
      "remote: Counting objects:  80% (408/509)\u001b[K\r",
      "remote: Counting objects:  81% (413/509)\u001b[K\r",
      "remote: Counting objects:  82% (418/509)\u001b[K\r",
      "remote: Counting objects:  83% (423/509)\u001b[K\r",
      "remote: Counting objects:  84% (428/509)\u001b[K\r",
      "remote: Counting objects:  85% (433/509)\u001b[K\r",
      "remote: Counting objects:  86% (438/509)\u001b[K\r",
      "remote: Counting objects:  87% (443/509)\u001b[K\r",
      "remote: Counting objects:  88% (448/509)\u001b[K\r",
      "remote: Counting objects:  89% (454/509)\u001b[K\r",
      "remote: Counting objects:  90% (459/509)\u001b[K\r",
      "remote: Counting objects:  91% (464/509)\u001b[K\r",
      "remote: Counting objects:  92% (469/509)\u001b[K\r",
      "remote: Counting objects:  93% (474/509)\u001b[K\r",
      "remote: Counting objects:  94% (479/509)\u001b[K\r",
      "remote: Counting objects:  95% (484/509)\u001b[K\r",
      "remote: Counting objects:  96% (489/509)\u001b[K\r",
      "remote: Counting objects:  97% (494/509)\u001b[K\r",
      "remote: Counting objects:  98% (499/509)\u001b[K\r",
      "remote: Counting objects:  99% (504/509)\u001b[K\r",
      "remote: Counting objects: 100% (509/509)\u001b[K\r",
      "remote: Counting objects: 100% (509/509), done.\u001b[K\r\n",
      "remote: Compressing objects:   0% (1/306)\u001b[K\r",
      "remote: Compressing objects:   1% (4/306)\u001b[K\r",
      "remote: Compressing objects:   2% (7/306)\u001b[K\r",
      "remote: Compressing objects:   3% (10/306)\u001b[K\r",
      "remote: Compressing objects:   4% (13/306)\u001b[K\r",
      "remote: Compressing objects:   5% (16/306)\u001b[K\r",
      "remote: Compressing objects:   6% (19/306)\u001b[K\r",
      "remote: Compressing objects:   7% (22/306)\u001b[K\r",
      "remote: Compressing objects:   8% (25/306)\u001b[K\r",
      "remote: Compressing objects:   9% (28/306)\u001b[K\r",
      "remote: Compressing objects:  10% (31/306)\u001b[K\r",
      "remote: Compressing objects:  11% (34/306)\u001b[K\r",
      "remote: Compressing objects:  12% (37/306)\u001b[K\r",
      "remote: Compressing objects:  13% (40/306)\u001b[K\r",
      "remote: Compressing objects:  14% (43/306)\u001b[K\r",
      "remote: Compressing objects:  15% (46/306)\u001b[K\r",
      "remote: Compressing objects:  16% (49/306)\u001b[K\r",
      "remote: Compressing objects:  17% (53/306)\u001b[K\r",
      "remote: Compressing objects:  18% (56/306)\u001b[K\r",
      "remote: Compressing objects:  19% (59/306)\u001b[K\r",
      "remote: Compressing objects:  20% (62/306)\u001b[K\r",
      "remote: Compressing objects:  21% (65/306)\u001b[K\r",
      "remote: Compressing objects:  22% (68/306)\u001b[K\r",
      "remote: Compressing objects:  23% (71/306)\u001b[K\r",
      "remote: Compressing objects:  24% (74/306)\u001b[K\r",
      "remote: Compressing objects:  25% (77/306)\u001b[K\r",
      "remote: Compressing objects:  26% (80/306)\u001b[K\r",
      "remote: Compressing objects:  27% (83/306)\u001b[K\r",
      "remote: Compressing objects:  28% (86/306)\u001b[K\r",
      "remote: Compressing objects:  29% (89/306)\u001b[K\r",
      "remote: Compressing objects:  30% (92/306)\u001b[K\r",
      "remote: Compressing objects:  31% (95/306)\u001b[K\r",
      "remote: Compressing objects:  32% (98/306)\u001b[K\r",
      "remote: Compressing objects:  33% (101/306)\u001b[K\r",
      "remote: Compressing objects:  34% (105/306)\u001b[K\r",
      "remote: Compressing objects:  35% (108/306)\u001b[K\r",
      "remote: Compressing objects:  36% (111/306)\u001b[K\r",
      "remote: Compressing objects:  37% (114/306)\u001b[K\r"
     ]
    },
    {
     "name": "stdout",
     "output_type": "stream",
     "text": [
      "remote: Compressing objects:  38% (117/306)\u001b[K\r",
      "remote: Compressing objects:  39% (120/306)\u001b[K\r",
      "remote: Compressing objects:  40% (123/306)\u001b[K\r",
      "remote: Compressing objects:  41% (126/306)\u001b[K\r",
      "remote: Compressing objects:  42% (129/306)\u001b[K\r",
      "remote: Compressing objects:  43% (132/306)\u001b[K\r",
      "remote: Compressing objects:  44% (135/306)\u001b[K\r",
      "remote: Compressing objects:  45% (138/306)\u001b[K\r",
      "remote: Compressing objects:  46% (141/306)\u001b[K\r",
      "remote: Compressing objects:  47% (144/306)\u001b[K\r",
      "remote: Compressing objects:  48% (147/306)\u001b[K\r",
      "remote: Compressing objects:  49% (150/306)\u001b[K\r",
      "remote: Compressing objects:  50% (153/306)\u001b[K\r",
      "remote: Compressing objects:  51% (157/306)\u001b[K\r",
      "remote: Compressing objects:  52% (160/306)\u001b[K\r",
      "remote: Compressing objects:  53% (163/306)\u001b[K\r",
      "remote: Compressing objects:  54% (166/306)\u001b[K\r",
      "remote: Compressing objects:  55% (169/306)\u001b[K\r",
      "remote: Compressing objects:  56% (172/306)\u001b[K\r",
      "remote: Compressing objects:  57% (175/306)\u001b[K\r",
      "remote: Compressing objects:  58% (178/306)\u001b[K\r",
      "remote: Compressing objects:  59% (181/306)\u001b[K\r",
      "remote: Compressing objects:  60% (184/306)\u001b[K\r",
      "remote: Compressing objects:  61% (187/306)\u001b[K\r",
      "remote: Compressing objects:  62% (190/306)\u001b[K\r",
      "remote: Compressing objects:  63% (193/306)\u001b[K\r",
      "remote: Compressing objects:  64% (196/306)\u001b[K\r",
      "remote: Compressing objects:  65% (199/306)\u001b[K\r",
      "remote: Compressing objects:  66% (202/306)\u001b[K\r",
      "remote: Compressing objects:  67% (206/306)\u001b[K\r",
      "remote: Compressing objects:  68% (209/306)\u001b[K\r",
      "remote: Compressing objects:  69% (212/306)\u001b[K\r",
      "remote: Compressing objects:  70% (215/306)\u001b[K\r",
      "remote: Compressing objects:  71% (218/306)\u001b[K\r",
      "remote: Compressing objects:  72% (221/306)\u001b[K\r",
      "remote: Compressing objects:  73% (224/306)\u001b[K\r",
      "remote: Compressing objects:  74% (227/306)\u001b[K\r",
      "remote: Compressing objects:  75% (230/306)\u001b[K\r",
      "remote: Compressing objects:  76% (233/306)\u001b[K\r",
      "remote: Compressing objects:  77% (236/306)\u001b[K\r",
      "remote: Compressing objects:  78% (239/306)\u001b[K\r",
      "remote: Compressing objects:  79% (242/306)\u001b[K\r",
      "remote: Compressing objects:  80% (245/306)\u001b[K\r",
      "remote: Compressing objects:  81% (248/306)\u001b[K\r",
      "remote: Compressing objects:  82% (251/306)\u001b[K\r",
      "remote: Compressing objects:  83% (254/306)\u001b[K\r",
      "remote: Compressing objects:  84% (258/306)\u001b[K\r",
      "remote: Compressing objects:  85% (261/306)\u001b[K\r",
      "remote: Compressing objects:  86% (264/306)\u001b[K\r",
      "remote: Compressing objects:  87% (267/306)\u001b[K\r",
      "remote: Compressing objects:  88% (270/306)\u001b[K\r",
      "remote: Compressing objects:  89% (273/306)\u001b[K\r",
      "remote: Compressing objects:  90% (276/306)\u001b[K\r",
      "remote: Compressing objects:  91% (279/306)\u001b[K\r",
      "remote: Compressing objects:  92% (282/306)\u001b[K\r",
      "remote: Compressing objects:  93% (285/306)\u001b[K\r",
      "remote: Compressing objects:  94% (288/306)\u001b[K\r",
      "remote: Compressing objects:  95% (291/306)\u001b[K\r",
      "remote: Compressing objects:  96% (294/306)\u001b[K\r",
      "remote: Compressing objects:  97% (297/306)\u001b[K\r",
      "remote: Compressing objects:  98% (300/306)\u001b[K\r",
      "remote: Compressing objects:  99% (303/306)\u001b[K\r",
      "remote: Compressing objects: 100% (306/306)\u001b[K\r",
      "remote: Compressing objects: 100% (306/306), done.\u001b[K\r\n",
      "Receiving objects:   0% (1/28088)   \r",
      "Receiving objects:   1% (281/28088)   \r",
      "Receiving objects:   2% (562/28088)   \r",
      "Receiving objects:   3% (843/28088)   \r",
      "Receiving objects:   4% (1124/28088)   \r"
     ]
    },
    {
     "name": "stdout",
     "output_type": "stream",
     "text": [
      "Receiving objects:   5% (1405/28088)   \r",
      "Receiving objects:   6% (1686/28088)   \r",
      "Receiving objects:   7% (1967/28088)   \r",
      "Receiving objects:   8% (2248/28088)   \r",
      "Receiving objects:   9% (2528/28088)   \r",
      "Receiving objects:  10% (2809/28088)   \r",
      "Receiving objects:  11% (3090/28088)   \r",
      "Receiving objects:  12% (3371/28088)   \r"
     ]
    },
    {
     "name": "stdout",
     "output_type": "stream",
     "text": [
      "Receiving objects:  13% (3652/28088)   \r",
      "Receiving objects:  14% (3933/28088)   \r",
      "Receiving objects:  15% (4214/28088)   \r",
      "Receiving objects:  16% (4495/28088)   \r"
     ]
    },
    {
     "name": "stdout",
     "output_type": "stream",
     "text": [
      "Receiving objects:  17% (4775/28088)   \r",
      "Receiving objects:  18% (5056/28088)   \r",
      "Receiving objects:  19% (5337/28088)   \r"
     ]
    },
    {
     "name": "stdout",
     "output_type": "stream",
     "text": [
      "Receiving objects:  20% (5618/28088)   \r",
      "Receiving objects:  21% (5899/28088)   \r",
      "Receiving objects:  22% (6180/28088)   \r",
      "Receiving objects:  23% (6461/28088)   \r",
      "Receiving objects:  24% (6742/28088)   \r",
      "Receiving objects:  25% (7022/28088)   \r"
     ]
    },
    {
     "name": "stdout",
     "output_type": "stream",
     "text": [
      "Receiving objects:  26% (7303/28088)   \r",
      "Receiving objects:  27% (7584/28088)   \r",
      "Receiving objects:  28% (7865/28088)   \r",
      "Receiving objects:  29% (8146/28088)   \r",
      "Receiving objects:  30% (8427/28088)   \r",
      "Receiving objects:  31% (8708/28088)   \r",
      "Receiving objects:  32% (8989/28088)   \r",
      "Receiving objects:  33% (9270/28088)   \r",
      "Receiving objects:  34% (9550/28088)   \r"
     ]
    },
    {
     "name": "stdout",
     "output_type": "stream",
     "text": [
      "Receiving objects:  35% (9831/28088)   \r",
      "Receiving objects:  36% (10112/28088)   \r",
      "Receiving objects:  37% (10393/28088)   \r",
      "Receiving objects:  38% (10674/28088)   \r",
      "Receiving objects:  39% (10955/28088)   \r",
      "Receiving objects:  40% (11236/28088)   \r",
      "Receiving objects:  41% (11517/28088)   \r",
      "Receiving objects:  42% (11797/28088)   \r",
      "Receiving objects:  43% (12078/28088)   \r",
      "Receiving objects:  44% (12359/28088)   \r",
      "Receiving objects:  45% (12640/28088)   \r",
      "Receiving objects:  46% (12921/28088)   \r",
      "Receiving objects:  47% (13202/28088)   \r",
      "Receiving objects:  48% (13483/28088)   \r",
      "Receiving objects:  49% (13764/28088)   \r",
      "Receiving objects:  50% (14044/28088)   \r"
     ]
    },
    {
     "name": "stdout",
     "output_type": "stream",
     "text": [
      "Receiving objects:  51% (14325/28088)   \r",
      "Receiving objects:  52% (14606/28088)   \r",
      "Receiving objects:  53% (14887/28088)   \r",
      "Receiving objects:  54% (15168/28088)   \r",
      "Receiving objects:  55% (15449/28088)   \r",
      "Receiving objects:  56% (15730/28088)   \r",
      "Receiving objects:  57% (16011/28088)   \r",
      "Receiving objects:  58% (16292/28088)   \r",
      "Receiving objects:  59% (16572/28088)   \r",
      "Receiving objects:  60% (16853/28088)   \r",
      "Receiving objects:  61% (17134/28088)   \r",
      "Receiving objects:  62% (17415/28088)   \r",
      "Receiving objects:  63% (17696/28088)   \r",
      "Receiving objects:  64% (17977/28088)   \r",
      "Receiving objects:  65% (18258/28088)   \r",
      "Receiving objects:  66% (18539/28088)   \r",
      "Receiving objects:  67% (18819/28088)   \r",
      "Receiving objects:  68% (19100/28088)   \r",
      "Receiving objects:  69% (19381/28088)   \r",
      "Receiving objects:  70% (19662/28088)   \r"
     ]
    },
    {
     "name": "stdout",
     "output_type": "stream",
     "text": [
      "Receiving objects:  71% (19943/28088)   \r",
      "Receiving objects:  72% (20224/28088)   \r",
      "Receiving objects:  73% (20505/28088)   \r",
      "Receiving objects:  74% (20786/28088)   \r",
      "Receiving objects:  75% (21066/28088)   \r",
      "Receiving objects:  76% (21347/28088)   \r",
      "Receiving objects:  77% (21628/28088)   \r",
      "Receiving objects:  78% (21909/28088)   \r",
      "Receiving objects:  79% (22190/28088)   \r",
      "Receiving objects:  80% (22471/28088)   \r",
      "Receiving objects:  81% (22752/28088)   \r",
      "Receiving objects:  82% (23033/28088)   \r",
      "Receiving objects:  83% (23314/28088)   \r",
      "Receiving objects:  84% (23594/28088)   \r",
      "Receiving objects:  85% (23875/28088)   \r",
      "Receiving objects:  86% (24156/28088)   \r",
      "Receiving objects:  87% (24437/28088)   \r",
      "Receiving objects:  88% (24718/28088)   \r",
      "Receiving objects:  89% (24999/28088)   \r",
      "Receiving objects:  90% (25280/28088)   \r",
      "Receiving objects:  91% (25561/28088)   \r",
      "Receiving objects:  92% (25841/28088)   \r",
      "Receiving objects:  93% (26122/28088)   \r",
      "Receiving objects:  94% (26403/28088)   \r",
      "Receiving objects:  95% (26684/28088)   \r",
      "Receiving objects:  96% (26965/28088)   \r",
      "Receiving objects:  97% (27246/28088)   \r"
     ]
    },
    {
     "name": "stdout",
     "output_type": "stream",
     "text": [
      "Receiving objects:  98% (27527/28088)   \r",
      "Receiving objects:  99% (27808/28088)   \r",
      "remote: Total 28088 (delta 245), reused 389 (delta 192), pack-reused 27579\u001b[K\r\n",
      "Receiving objects: 100% (28088/28088)   \r",
      "Receiving objects: 100% (28088/28088), 11.86 MiB | 25.14 MiB/s, done.\r\n",
      "Resolving deltas:   0% (0/21066)   \r",
      "Resolving deltas:   1% (211/21066)   \r",
      "Resolving deltas:   2% (422/21066)   \r",
      "Resolving deltas:   3% (641/21066)   \r",
      "Resolving deltas:   4% (847/21066)   \r",
      "Resolving deltas:   5% (1058/21066)   \r",
      "Resolving deltas:   6% (1267/21066)   \r"
     ]
    },
    {
     "name": "stdout",
     "output_type": "stream",
     "text": [
      "Resolving deltas:   7% (1485/21066)   \r",
      "Resolving deltas:   8% (1686/21066)   \r",
      "Resolving deltas:   9% (1901/21066)   \r",
      "Resolving deltas:  10% (2118/21066)   \r",
      "Resolving deltas:  11% (2319/21066)   \r",
      "Resolving deltas:  12% (2530/21066)   \r",
      "Resolving deltas:  13% (2743/21066)   \r"
     ]
    },
    {
     "name": "stdout",
     "output_type": "stream",
     "text": [
      "Resolving deltas:  14% (2959/21066)   \r",
      "Resolving deltas:  15% (3163/21066)   \r",
      "Resolving deltas:  16% (3374/21066)   \r",
      "Resolving deltas:  17% (3627/21066)   \r",
      "Resolving deltas:  18% (3822/21066)   \r",
      "Resolving deltas:  19% (4009/21066)   \r",
      "Resolving deltas:  20% (4221/21066)   \r",
      "Resolving deltas:  21% (4425/21066)   \r"
     ]
    },
    {
     "name": "stdout",
     "output_type": "stream",
     "text": [
      "Resolving deltas:  22% (4704/21066)   \r",
      "Resolving deltas:  23% (4846/21066)   \r",
      "Resolving deltas:  24% (5068/21066)   \r",
      "Resolving deltas:  25% (5270/21066)   \r",
      "Resolving deltas:  26% (5485/21066)   \r",
      "Resolving deltas:  27% (5750/21066)   \r",
      "Resolving deltas:  28% (5914/21066)   \r",
      "Resolving deltas:  29% (6117/21066)   \r",
      "Resolving deltas:  30% (6343/21066)   \r",
      "Resolving deltas:  31% (6545/21066)   \r",
      "Resolving deltas:  32% (6745/21066)   \r",
      "Resolving deltas:  33% (6969/21066)   \r"
     ]
    },
    {
     "name": "stdout",
     "output_type": "stream",
     "text": [
      "Resolving deltas:  34% (7172/21066)   \r",
      "Resolving deltas:  35% (7397/21066)   \r",
      "Resolving deltas:  36% (7596/21066)   \r",
      "Resolving deltas:  37% (7798/21066)   \r",
      "Resolving deltas:  38% (8037/21066)   \r",
      "Resolving deltas:  39% (8252/21066)   \r",
      "Resolving deltas:  40% (8467/21066)   \r",
      "Resolving deltas:  42% (8852/21066)   \r",
      "Resolving deltas:  43% (9062/21066)   \r",
      "Resolving deltas:  44% (9439/21066)   \r",
      "Resolving deltas:  45% (9518/21066)   \r",
      "Resolving deltas:  46% (9695/21066)   \r",
      "Resolving deltas:  47% (9917/21066)   \r",
      "Resolving deltas:  48% (10200/21066)   \r",
      "Resolving deltas:  49% (10324/21066)   \r"
     ]
    },
    {
     "name": "stdout",
     "output_type": "stream",
     "text": [
      "Resolving deltas:  50% (10561/21066)   \r",
      "Resolving deltas:  51% (10809/21066)   \r",
      "Resolving deltas:  52% (10994/21066)   \r",
      "Resolving deltas:  53% (11186/21066)   \r",
      "Resolving deltas:  54% (11398/21066)   \r",
      "Resolving deltas:  55% (11588/21066)   \r",
      "Resolving deltas:  56% (11799/21066)   \r",
      "Resolving deltas:  57% (12017/21066)   \r",
      "Resolving deltas:  58% (12222/21066)   \r",
      "Resolving deltas:  59% (12431/21066)   \r",
      "Resolving deltas:  60% (12642/21066)   \r",
      "Resolving deltas:  61% (12859/21066)   \r",
      "Resolving deltas:  62% (13094/21066)   \r",
      "Resolving deltas:  63% (13284/21066)   \r",
      "Resolving deltas:  64% (13496/21066)   \r"
     ]
    },
    {
     "name": "stdout",
     "output_type": "stream",
     "text": [
      "Resolving deltas:  65% (13796/21066)   \r",
      "Resolving deltas:  66% (13937/21066)   \r",
      "Resolving deltas:  67% (14154/21066)   \r",
      "Resolving deltas:  68% (14401/21066)   \r",
      "Resolving deltas:  69% (14546/21066)   \r",
      "Resolving deltas:  70% (14791/21066)   \r",
      "Resolving deltas:  71% (14973/21066)   \r",
      "Resolving deltas:  72% (15188/21066)   \r",
      "Resolving deltas:  73% (15544/21066)   \r",
      "Resolving deltas:  74% (15591/21066)   \r",
      "Resolving deltas:  75% (15814/21066)   \r",
      "Resolving deltas:  76% (16017/21066)   \r",
      "Resolving deltas:  77% (16235/21066)   \r",
      "Resolving deltas:  78% (16472/21066)   \r",
      "Resolving deltas:  79% (16681/21066)   \r",
      "Resolving deltas:  80% (16941/21066)   \r",
      "Resolving deltas:  81% (17066/21066)   \r",
      "Resolving deltas:  82% (17277/21066)   \r",
      "Resolving deltas:  83% (17550/21066)   \r",
      "Resolving deltas:  84% (17703/21066)   \r",
      "Resolving deltas:  85% (17910/21066)   \r",
      "Resolving deltas:  86% (18127/21066)   \r"
     ]
    },
    {
     "name": "stdout",
     "output_type": "stream",
     "text": [
      "Resolving deltas:  87% (18356/21066)   \r",
      "Resolving deltas:  88% (18560/21066)   \r",
      "Resolving deltas:  89% (18760/21066)   \r",
      "Resolving deltas:  90% (18963/21066)   \r",
      "Resolving deltas:  91% (19181/21066)   \r",
      "Resolving deltas:  92% (19390/21066)   \r",
      "Resolving deltas:  93% (19657/21066)   \r",
      "Resolving deltas:  94% (19810/21066)   \r",
      "Resolving deltas:  95% (20017/21066)   \r",
      "Resolving deltas:  96% (20259/21066)   \r",
      "Resolving deltas:  97% (20439/21066)   \r",
      "Resolving deltas:  98% (20650/21066)   \r",
      "Resolving deltas:  99% (20873/21066)   \r",
      "Resolving deltas: 100% (21066/21066)   \r",
      "Resolving deltas: 100% (21066/21066), done.\r\n"
     ]
    }
   ],
   "source": [
    "!git clone https://github.com/pytorch/fairseq/"
   ]
  },
  {
   "cell_type": "code",
   "execution_count": 5,
   "id": "destroyed-trail",
   "metadata": {
    "execution": {
     "iopub.execute_input": "2021-05-25T11:59:27.720709Z",
     "iopub.status.busy": "2021-05-25T11:59:27.719742Z",
     "iopub.status.idle": "2021-05-25T11:59:27.724218Z",
     "shell.execute_reply": "2021-05-25T11:59:27.724918Z",
     "shell.execute_reply.started": "2021-05-25T11:52:02.313922Z"
    },
    "papermill": {
     "duration": 0.025561,
     "end_time": "2021-05-25T11:59:27.725152",
     "exception": false,
     "start_time": "2021-05-25T11:59:27.699591",
     "status": "completed"
    },
    "tags": []
   },
   "outputs": [
    {
     "name": "stdout",
     "output_type": "stream",
     "text": [
      "/tmp/fairseq/examples/wav2vec/unsupervised\n"
     ]
    }
   ],
   "source": [
    "%cd fairseq/examples/wav2vec/unsupervised"
   ]
  },
  {
   "cell_type": "code",
   "execution_count": 6,
   "id": "introductory-mistress",
   "metadata": {
    "execution": {
     "iopub.execute_input": "2021-05-25T11:59:27.758379Z",
     "iopub.status.busy": "2021-05-25T11:59:27.757726Z",
     "iopub.status.idle": "2021-05-25T11:59:28.732919Z",
     "shell.execute_reply": "2021-05-25T11:59:28.732268Z",
     "shell.execute_reply.started": "2021-05-25T11:52:05.246911Z"
    },
    "papermill": {
     "duration": 0.9925,
     "end_time": "2021-05-25T11:59:28.733068",
     "exception": false,
     "start_time": "2021-05-25T11:59:27.740568",
     "status": "completed"
    },
    "tags": []
   },
   "outputs": [
    {
     "name": "stdout",
     "output_type": "stream",
     "text": [
      "Cloning into 'rVADfast'...\r\n"
     ]
    },
    {
     "name": "stdout",
     "output_type": "stream",
     "text": [
      "remote: Enumerating objects: 22, done.\u001b[K\r\n",
      "remote: Counting objects:   4% (1/22)\u001b[K\r",
      "remote: Counting objects:   9% (2/22)\u001b[K\r",
      "remote: Counting objects:  13% (3/22)\u001b[K\r",
      "remote: Counting objects:  18% (4/22)\u001b[K\r",
      "remote: Counting objects:  22% (5/22)\u001b[K\r",
      "remote: Counting objects:  27% (6/22)\u001b[K\r",
      "remote: Counting objects:  31% (7/22)\u001b[K\r",
      "remote: Counting objects:  36% (8/22)\u001b[K\r",
      "remote: Counting objects:  40% (9/22)\u001b[K\r",
      "remote: Counting objects:  45% (10/22)\u001b[K\r",
      "remote: Counting objects:  50% (11/22)\u001b[K\r",
      "remote: Counting objects:  54% (12/22)\u001b[K\r",
      "remote: Counting objects:  59% (13/22)\u001b[K\r",
      "remote: Counting objects:  63% (14/22)\u001b[K\r",
      "remote: Counting objects:  68% (15/22)\u001b[K\r",
      "remote: Counting objects:  72% (16/22)\u001b[K\r",
      "remote: Counting objects:  77% (17/22)\u001b[K\r",
      "remote: Counting objects:  81% (18/22)\u001b[K\r",
      "remote: Counting objects:  86% (19/22)\u001b[K\r",
      "remote: Counting objects:  90% (20/22)\u001b[K\r",
      "remote: Counting objects:  95% (21/22)\u001b[K\r",
      "remote: Counting objects: 100% (22/22)\u001b[K\r",
      "remote: Counting objects: 100% (22/22), done.\u001b[K\r\n",
      "remote: Compressing objects:   4% (1/22)\u001b[K\r",
      "remote: Compressing objects:   9% (2/22)\u001b[K\r",
      "remote: Compressing objects:  13% (3/22)\u001b[K\r",
      "remote: Compressing objects:  18% (4/22)\u001b[K\r",
      "remote: Compressing objects:  22% (5/22)\u001b[K\r",
      "remote: Compressing objects:  27% (6/22)\u001b[K\r",
      "remote: Compressing objects:  31% (7/22)\u001b[K\r",
      "remote: Compressing objects:  36% (8/22)\u001b[K\r",
      "remote: Compressing objects:  40% (9/22)\u001b[K\r",
      "remote: Compressing objects:  45% (10/22)\u001b[K\r",
      "remote: Compressing objects:  50% (11/22)\u001b[K\r",
      "remote: Compressing objects:  54% (12/22)\u001b[K\r",
      "remote: Compressing objects:  59% (13/22)\u001b[K\r",
      "remote: Compressing objects:  63% (14/22)\u001b[K\r",
      "remote: Compressing objects:  68% (15/22)\u001b[K\r",
      "remote: Compressing objects:  72% (16/22)\u001b[K\r",
      "remote: Compressing objects:  77% (17/22)\u001b[K\r",
      "remote: Compressing objects:  81% (18/22)\u001b[K\r",
      "remote: Compressing objects:  86% (19/22)\u001b[K\r",
      "remote: Compressing objects:  90% (20/22)\u001b[K\r",
      "remote: Compressing objects:  95% (21/22)\u001b[K\r",
      "remote: Compressing objects: 100% (22/22)\u001b[K\r",
      "remote: Compressing objects: 100% (22/22), done.\u001b[K\r\n",
      "Unpacking objects:   4% (1/22)   \r",
      "Unpacking objects:   9% (2/22)   \r",
      "Unpacking objects:  13% (3/22)   \r",
      "Unpacking objects:  18% (4/22)   \r",
      "Unpacking objects:  22% (5/22)   \r",
      "Unpacking objects:  27% (6/22)   \r",
      "Unpacking objects:  31% (7/22)   \r",
      "Unpacking objects:  36% (8/22)   \r",
      "Unpacking objects:  40% (9/22)   \r",
      "Unpacking objects:  45% (10/22)   \r",
      "Unpacking objects:  50% (11/22)   \r",
      "remote: Total 22 (delta 5), reused 2 (delta 0), pack-reused 0\u001b[K\r\n",
      "Unpacking objects:  54% (12/22)   \r",
      "Unpacking objects:  59% (13/22)   \r",
      "Unpacking objects:  63% (14/22)   \r",
      "Unpacking objects:  68% (15/22)   \r",
      "Unpacking objects:  72% (16/22)   \r",
      "Unpacking objects:  77% (17/22)   \r",
      "Unpacking objects:  81% (18/22)   \r",
      "Unpacking objects:  86% (19/22)   \r",
      "Unpacking objects:  90% (20/22)   \r",
      "Unpacking objects:  95% (21/22)   \r",
      "Unpacking objects: 100% (22/22)   \r",
      "Unpacking objects: 100% (22/22), done.\r\n"
     ]
    }
   ],
   "source": [
    "!git clone https://github.com/zhenghuatan/rVADfast"
   ]
  },
  {
   "cell_type": "code",
   "execution_count": 7,
   "id": "split-bradley",
   "metadata": {
    "execution": {
     "iopub.execute_input": "2021-05-25T11:59:28.770931Z",
     "iopub.status.busy": "2021-05-25T11:59:28.769935Z",
     "iopub.status.idle": "2021-05-25T11:59:30.198265Z",
     "shell.execute_reply": "2021-05-25T11:59:30.197520Z",
     "shell.execute_reply.started": "2021-05-25T11:52:08.786607Z"
    },
    "papermill": {
     "duration": 1.449778,
     "end_time": "2021-05-25T11:59:30.198405",
     "exception": false,
     "start_time": "2021-05-25T11:59:28.748627",
     "status": "completed"
    },
    "tags": []
   },
   "outputs": [],
   "source": [
    "!cat scripts/vads.py|sed -e 's!/path/to/rVADfast_py_2.0!/tmp/fairseq/examples/wav2vec/unsupervised/rVADfast!' > tmp\n",
    "!mv tmp scripts/vads.py"
   ]
  },
  {
   "cell_type": "code",
   "execution_count": null,
   "id": "substantial-payday",
   "metadata": {
    "execution": {
     "iopub.execute_input": "2021-05-25T11:52:37.525452Z",
     "iopub.status.busy": "2021-05-25T11:52:37.525044Z"
    },
    "papermill": {
     "duration": null,
     "end_time": null,
     "exception": false,
     "start_time": "2021-05-25T11:59:30.214302",
     "status": "running"
    },
    "tags": []
   },
   "outputs": [],
   "source": [
    "!python scripts/vads.py /kaggle/working/train.tsv /kaggle/working/train.vads"
   ]
  }
 ],
 "metadata": {
  "kernelspec": {
   "display_name": "Python 3",
   "language": "python",
   "name": "python3"
  },
  "language_info": {
   "codemirror_mode": {
    "name": "ipython",
    "version": 3
   },
   "file_extension": ".py",
   "mimetype": "text/x-python",
   "name": "python",
   "nbconvert_exporter": "python",
   "pygments_lexer": "ipython3",
   "version": "3.6.4"
  },
  "papermill": {
   "default_parameters": {},
   "duration": null,
   "end_time": null,
   "environment_variables": {},
   "exception": null,
   "input_path": "__notebook__.ipynb",
   "output_path": "__notebook__.ipynb",
   "parameters": {},
   "start_time": "2021-05-25T11:58:28.498482",
   "version": "2.3.3"
  }
 },
 "nbformat": 4,
 "nbformat_minor": 5
}