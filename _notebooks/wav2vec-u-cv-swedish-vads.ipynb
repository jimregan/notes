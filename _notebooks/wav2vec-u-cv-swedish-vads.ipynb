{
 "cells": [
  {
   "cell_type": "code",
   "execution_count": 1,
   "id": "angry-large",
   "metadata": {
    "execution": {
     "iopub.execute_input": "2021-05-25T11:55:14.374530Z",
     "iopub.status.busy": "2021-05-25T11:55:14.373450Z",
     "iopub.status.idle": "2021-05-25T11:55:14.379567Z",
     "shell.execute_reply": "2021-05-25T11:55:14.378759Z",
     "shell.execute_reply.started": "2021-05-25T11:51:54.534093Z"
    },
    "papermill": {
     "duration": 0.032942,
     "end_time": "2021-05-25T11:55:14.379775",
     "exception": false,
     "start_time": "2021-05-25T11:55:14.346833",
     "status": "completed"
    },
    "tags": []
   },
   "outputs": [
    {
     "name": "stdout",
     "output_type": "stream",
     "text": [
      "/tmp\n"
     ]
    }
   ],
   "source": [
    "%cd /tmp"
   ]
  },
  {
   "cell_type": "code",
   "execution_count": 2,
   "id": "dressed-favor",
   "metadata": {
    "_cell_guid": "b1076dfc-b9ad-4769-8c92-a6c4dae69d19",
    "_uuid": "8f2839f25d086af736a60e9eeb907d3b93b6e0e5",
    "execution": {
     "iopub.execute_input": "2021-05-25T11:55:14.409628Z",
     "iopub.status.busy": "2021-05-25T11:55:14.408568Z",
     "iopub.status.idle": "2021-05-25T11:55:17.915775Z",
     "shell.execute_reply": "2021-05-25T11:55:17.915121Z",
     "shell.execute_reply.started": "2021-05-25T11:51:56.175648Z"
    },
    "papermill": {
     "duration": 3.52313,
     "end_time": "2021-05-25T11:55:17.915920",
     "exception": false,
     "start_time": "2021-05-25T11:55:14.392790",
     "status": "completed"
    },
    "tags": []
   },
   "outputs": [
    {
     "name": "stdout",
     "output_type": "stream",
     "text": [
      "Cloning into 'fairseq'...\r\n"
     ]
    },
    {
     "name": "stdout",
     "output_type": "stream",
     "text": [
      "remote: Enumerating objects: 28088, done.\u001b[K\r\n",
      "remote: Counting objects:   0% (1/509)\u001b[K\r",
      "remote: Counting objects:   1% (6/509)\u001b[K\r",
      "remote: Counting objects:   2% (11/509)\u001b[K\r",
      "remote: Counting objects:   3% (16/509)\u001b[K\r",
      "remote: Counting objects:   4% (21/509)\u001b[K\r",
      "remote: Counting objects:   5% (26/509)\u001b[K\r",
      "remote: Counting objects:   6% (31/509)\u001b[K\r",
      "remote: Counting objects:   7% (36/509)\u001b[K\r",
      "remote: Counting objects:   8% (41/509)\u001b[K\r",
      "remote: Counting objects:   9% (46/509)\u001b[K\r",
      "remote: Counting objects:  10% (51/509)\u001b[K\r",
      "remote: Counting objects:  11% (56/509)\u001b[K\r",
      "remote: Counting objects:  12% (62/509)\u001b[K\r",
      "remote: Counting objects:  13% (67/509)\u001b[K\r",
      "remote: Counting objects:  14% (72/509)\u001b[K\r",
      "remote: Counting objects:  15% (77/509)\u001b[K\r",
      "remote: Counting objects:  16% (82/509)\u001b[K\r",
      "remote: Counting objects:  17% (87/509)\u001b[K\r",
      "remote: Counting objects:  18% (92/509)\u001b[K\r",
      "remote: Counting objects:  19% (97/509)\u001b[K\r",
      "remote: Counting objects:  20% (102/509)\u001b[K\r",
      "remote: Counting objects:  21% (107/509)\u001b[K\r",
      "remote: Counting objects:  22% (112/509)\u001b[K\r",
      "remote: Counting objects:  23% (118/509)\u001b[K\r",
      "remote: Counting objects:  24% (123/509)\u001b[K\r",
      "remote: Counting objects:  25% (128/509)\u001b[K\r",
      "remote: Counting objects:  26% (133/509)\u001b[K\r",
      "remote: Counting objects:  27% (138/509)\u001b[K\r",
      "remote: Counting objects:  28% (143/509)\u001b[K\r",
      "remote: Counting objects:  29% (148/509)\u001b[K\r",
      "remote: Counting objects:  30% (153/509)\u001b[K\r",
      "remote: Counting objects:  31% (158/509)\u001b[K\r",
      "remote: Counting objects:  32% (163/509)\u001b[K\r",
      "remote: Counting objects:  33% (168/509)\u001b[K\r",
      "remote: Counting objects:  34% (174/509)\u001b[K\r",
      "remote: Counting objects:  35% (179/509)\u001b[K\r",
      "remote: Counting objects:  36% (184/509)\u001b[K\r",
      "remote: Counting objects:  37% (189/509)\u001b[K\r",
      "remote: Counting objects:  38% (194/509)\u001b[K\r",
      "remote: Counting objects:  39% (199/509)\u001b[K\r",
      "remote: Counting objects:  40% (204/509)\u001b[K\r",
      "remote: Counting objects:  41% (209/509)\u001b[K\r",
      "remote: Counting objects:  42% (214/509)\u001b[K\r",
      "remote: Counting objects:  43% (219/509)\u001b[K\r",
      "remote: Counting objects:  44% (224/509)\u001b[K\r",
      "remote: Counting objects:  45% (230/509)\u001b[K\r",
      "remote: Counting objects:  46% (235/509)\u001b[K\r",
      "remote: Counting objects:  47% (240/509)\u001b[K\r",
      "remote: Counting objects:  48% (245/509)\u001b[K\r",
      "remote: Counting objects:  49% (250/509)\u001b[K\r",
      "remote: Counting objects:  50% (255/509)\u001b[K\r",
      "remote: Counting objects:  51% (260/509)\u001b[K\r",
      "remote: Counting objects:  52% (265/509)\u001b[K\r",
      "remote: Counting objects:  53% (270/509)\u001b[K\r",
      "remote: Counting objects:  54% (275/509)\u001b[K\r",
      "remote: Counting objects:  55% (280/509)\u001b[K\r",
      "remote: Counting objects:  56% (286/509)\u001b[K\r",
      "remote: Counting objects:  57% (291/509)\u001b[K\r",
      "remote: Counting objects:  58% (296/509)\u001b[K\r",
      "remote: Counting objects:  59% (301/509)\u001b[K\r",
      "remote: Counting objects:  60% (306/509)\u001b[K\r",
      "remote: Counting objects:  61% (311/509)\u001b[K\r",
      "remote: Counting objects:  62% (316/509)\u001b[K\r",
      "remote: Counting objects:  63% (321/509)\u001b[K\r",
      "remote: Counting objects:  64% (326/509)\u001b[K\r",
      "remote: Counting objects:  65% (331/509)\u001b[K\r",
      "remote: Counting objects:  66% (336/509)\u001b[K\r",
      "remote: Counting objects:  67% (342/509)\u001b[K\r",
      "remote: Counting objects:  68% (347/509)\u001b[K\r",
      "remote: Counting objects:  69% (352/509)\u001b[K\r",
      "remote: Counting objects:  70% (357/509)\u001b[K\r",
      "remote: Counting objects:  71% (362/509)\u001b[K\r",
      "remote: Counting objects:  72% (367/509)\u001b[K\r",
      "remote: Counting objects:  73% (372/509)\u001b[K\r",
      "remote: Counting objects:  74% (377/509)\u001b[K\r",
      "remote: Counting objects:  75% (382/509)\u001b[K\r",
      "remote: Counting objects:  76% (387/509)\u001b[K\r",
      "remote: Counting objects:  77% (392/509)\u001b[K\r",
      "remote: Counting objects:  78% (398/509)\u001b[K\r",
      "remote: Counting objects:  79% (403/509)\u001b[K\r",
      "remote: Counting objects:  80% (408/509)\u001b[K\r",
      "remote: Counting objects:  81% (413/509)\u001b[K\r",
      "remote: Counting objects:  82% (418/509)\u001b[K\r",
      "remote: Counting objects:  83% (423/509)\u001b[K\r",
      "remote: Counting objects:  84% (428/509)\u001b[K\r",
      "remote: Counting objects:  85% (433/509)\u001b[K\r",
      "remote: Counting objects:  86% (438/509)\u001b[K\r",
      "remote: Counting objects:  87% (443/509)\u001b[K\r",
      "remote: Counting objects:  88% (448/509)\u001b[K\r",
      "remote: Counting objects:  89% (454/509)\u001b[K\r",
      "remote: Counting objects:  90% (459/509)\u001b[K\r",
      "remote: Counting objects:  91% (464/509)\u001b[K\r",
      "remote: Counting objects:  92% (469/509)\u001b[K\r",
      "remote: Counting objects:  93% (474/509)\u001b[K\r",
      "remote: Counting objects:  94% (479/509)\u001b[K\r",
      "remote: Counting objects:  95% (484/509)\u001b[K\r",
      "remote: Counting objects:  96% (489/509)\u001b[K\r",
      "remote: Counting objects:  97% (494/509)\u001b[K\r",
      "remote: Counting objects:  98% (499/509)\u001b[K\r",
      "remote: Counting objects:  99% (504/509)\u001b[K\r",
      "remote: Counting objects: 100% (509/509)\u001b[K\r",
      "remote: Counting objects: 100% (509/509), done.\u001b[K\r\n",
      "remote: Compressing objects:   0% (1/306)\u001b[K\r",
      "remote: Compressing objects:   1% (4/306)\u001b[K\r",
      "remote: Compressing objects:   2% (7/306)\u001b[K\r",
      "remote: Compressing objects:   3% (10/306)\u001b[K\r",
      "remote: Compressing objects:   4% (13/306)\u001b[K\r",
      "remote: Compressing objects:   5% (16/306)\u001b[K\r",
      "remote: Compressing objects:   6% (19/306)\u001b[K\r",
      "remote: Compressing objects:   7% (22/306)\u001b[K\r",
      "remote: Compressing objects:   8% (25/306)\u001b[K\r",
      "remote: Compressing objects:   9% (28/306)\u001b[K\r",
      "remote: Compressing objects:  10% (31/306)\u001b[K\r",
      "remote: Compressing objects:  11% (34/306)\u001b[K\r"
     ]
    },
    {
     "name": "stdout",
     "output_type": "stream",
     "text": [
      "remote: Compressing objects:  12% (37/306)\u001b[K\r",
      "remote: Compressing objects:  13% (40/306)\u001b[K\r",
      "remote: Compressing objects:  14% (43/306)\u001b[K\r",
      "remote: Compressing objects:  15% (46/306)\u001b[K\r",
      "remote: Compressing objects:  16% (49/306)\u001b[K\r",
      "remote: Compressing objects:  17% (53/306)\u001b[K\r",
      "remote: Compressing objects:  18% (56/306)\u001b[K\r",
      "remote: Compressing objects:  19% (59/306)\u001b[K\r",
      "remote: Compressing objects:  20% (62/306)\u001b[K\r",
      "remote: Compressing objects:  21% (65/306)\u001b[K\r",
      "remote: Compressing objects:  22% (68/306)\u001b[K\r",
      "remote: Compressing objects:  23% (71/306)\u001b[K\r",
      "remote: Compressing objects:  24% (74/306)\u001b[K\r",
      "remote: Compressing objects:  25% (77/306)\u001b[K\r",
      "remote: Compressing objects:  26% (80/306)\u001b[K\r",
      "remote: Compressing objects:  27% (83/306)\u001b[K\r",
      "remote: Compressing objects:  28% (86/306)\u001b[K\r",
      "remote: Compressing objects:  29% (89/306)\u001b[K\r",
      "remote: Compressing objects:  30% (92/306)\u001b[K\r",
      "remote: Compressing objects:  31% (95/306)\u001b[K\r",
      "remote: Compressing objects:  32% (98/306)\u001b[K\r",
      "remote: Compressing objects:  33% (101/306)\u001b[K\r",
      "remote: Compressing objects:  34% (105/306)\u001b[K\r",
      "remote: Compressing objects:  35% (108/306)\u001b[K\r",
      "remote: Compressing objects:  36% (111/306)\u001b[K\r",
      "remote: Compressing objects:  37% (114/306)\u001b[K\r",
      "remote: Compressing objects:  38% (117/306)\u001b[K\r",
      "remote: Compressing objects:  39% (120/306)\u001b[K\r",
      "remote: Compressing objects:  40% (123/306)\u001b[K\r",
      "remote: Compressing objects:  41% (126/306)\u001b[K\r",
      "remote: Compressing objects:  42% (129/306)\u001b[K\r",
      "remote: Compressing objects:  43% (132/306)\u001b[K\r",
      "remote: Compressing objects:  44% (135/306)\u001b[K\r",
      "remote: Compressing objects:  45% (138/306)\u001b[K\r",
      "remote: Compressing objects:  46% (141/306)\u001b[K\r",
      "remote: Compressing objects:  47% (144/306)\u001b[K\r",
      "remote: Compressing objects:  48% (147/306)\u001b[K\r",
      "remote: Compressing objects:  49% (150/306)\u001b[K\r",
      "remote: Compressing objects:  50% (153/306)\u001b[K\r",
      "remote: Compressing objects:  51% (157/306)\u001b[K\r",
      "remote: Compressing objects:  52% (160/306)\u001b[K\r",
      "remote: Compressing objects:  53% (163/306)\u001b[K\r",
      "remote: Compressing objects:  54% (166/306)\u001b[K\r",
      "remote: Compressing objects:  55% (169/306)\u001b[K\r",
      "remote: Compressing objects:  56% (172/306)\u001b[K\r",
      "remote: Compressing objects:  57% (175/306)\u001b[K\r",
      "remote: Compressing objects:  58% (178/306)\u001b[K\r",
      "remote: Compressing objects:  59% (181/306)\u001b[K\r",
      "remote: Compressing objects:  60% (184/306)\u001b[K\r",
      "remote: Compressing objects:  61% (187/306)\u001b[K\r",
      "remote: Compressing objects:  62% (190/306)\u001b[K\r",
      "remote: Compressing objects:  63% (193/306)\u001b[K\r",
      "remote: Compressing objects:  64% (196/306)\u001b[K\r",
      "remote: Compressing objects:  65% (199/306)\u001b[K\r",
      "remote: Compressing objects:  66% (202/306)\u001b[K\r",
      "remote: Compressing objects:  67% (206/306)\u001b[K\r",
      "remote: Compressing objects:  68% (209/306)\u001b[K\r",
      "remote: Compressing objects:  69% (212/306)\u001b[K\r",
      "remote: Compressing objects:  70% (215/306)\u001b[K\r",
      "remote: Compressing objects:  71% (218/306)\u001b[K\r",
      "remote: Compressing objects:  72% (221/306)\u001b[K\r",
      "remote: Compressing objects:  73% (224/306)\u001b[K\r",
      "remote: Compressing objects:  74% (227/306)\u001b[K\r",
      "remote: Compressing objects:  75% (230/306)\u001b[K\r",
      "remote: Compressing objects:  76% (233/306)\u001b[K\r",
      "remote: Compressing objects:  77% (236/306)\u001b[K\r",
      "remote: Compressing objects:  78% (239/306)\u001b[K\r",
      "remote: Compressing objects:  79% (242/306)\u001b[K\r",
      "remote: Compressing objects:  80% (245/306)\u001b[K\r",
      "remote: Compressing objects:  81% (248/306)\u001b[K\r",
      "remote: Compressing objects:  82% (251/306)\u001b[K\r",
      "remote: Compressing objects:  83% (254/306)\u001b[K\r",
      "remote: Compressing objects:  84% (258/306)\u001b[K\r",
      "remote: Compressing objects:  85% (261/306)\u001b[K\r",
      "remote: Compressing objects:  86% (264/306)\u001b[K\r",
      "remote: Compressing objects:  87% (267/306)\u001b[K\r",
      "remote: Compressing objects:  88% (270/306)\u001b[K\r",
      "remote: Compressing objects:  89% (273/306)\u001b[K\r",
      "remote: Compressing objects:  90% (276/306)\u001b[K\r",
      "remote: Compressing objects:  91% (279/306)\u001b[K\r",
      "remote: Compressing objects:  92% (282/306)\u001b[K\r",
      "remote: Compressing objects:  93% (285/306)\u001b[K\r",
      "remote: Compressing objects:  94% (288/306)\u001b[K\r",
      "remote: Compressing objects:  95% (291/306)\u001b[K\r",
      "remote: Compressing objects:  96% (294/306)\u001b[K\r",
      "remote: Compressing objects:  97% (297/306)\u001b[K\r",
      "remote: Compressing objects:  98% (300/306)\u001b[K\r",
      "remote: Compressing objects:  99% (303/306)\u001b[K\r",
      "remote: Compressing objects: 100% (306/306)\u001b[K\r",
      "remote: Compressing objects: 100% (306/306), done.\u001b[K\r\n",
      "Receiving objects:   0% (1/28088)   \r"
     ]
    },
    {
     "name": "stdout",
     "output_type": "stream",
     "text": [
      "Receiving objects:   1% (281/28088)   \r"
     ]
    },
    {
     "name": "stdout",
     "output_type": "stream",
     "text": [
      "Receiving objects:   2% (562/28088)   \r"
     ]
    },
    {
     "name": "stdout",
     "output_type": "stream",
     "text": [
      "Receiving objects:   3% (843/28088)   \r",
      "Receiving objects:   4% (1124/28088)   \r"
     ]
    },
    {
     "name": "stdout",
     "output_type": "stream",
     "text": [
      "Receiving objects:   5% (1405/28088)   \r",
      "Receiving objects:   6% (1686/28088)   \r",
      "Receiving objects:   7% (1967/28088)   \r",
      "Receiving objects:   8% (2248/28088)   \r"
     ]
    },
    {
     "name": "stdout",
     "output_type": "stream",
     "text": [
      "Receiving objects:   9% (2528/28088)   \r",
      "Receiving objects:  10% (2809/28088)   \r",
      "Receiving objects:  11% (3090/28088)   \r",
      "Receiving objects:  12% (3371/28088)   \r"
     ]
    },
    {
     "name": "stdout",
     "output_type": "stream",
     "text": [
      "Receiving objects:  13% (3652/28088)   \r",
      "Receiving objects:  14% (3933/28088)   \r",
      "Receiving objects:  15% (4214/28088)   \r",
      "Receiving objects:  16% (4495/28088)   \r"
     ]
    },
    {
     "name": "stdout",
     "output_type": "stream",
     "text": [
      "Receiving objects:  17% (4775/28088)   \r",
      "Receiving objects:  18% (5056/28088)   \r",
      "Receiving objects:  19% (5337/28088)   \r"
     ]
    },
    {
     "name": "stdout",
     "output_type": "stream",
     "text": [
      "Receiving objects:  20% (5618/28088)   \r",
      "Receiving objects:  21% (5899/28088)   \r",
      "Receiving objects:  22% (6180/28088)   \r",
      "Receiving objects:  23% (6461/28088), 5.18 MiB | 10.34 MiB/s   \r",
      "Receiving objects:  24% (6742/28088), 5.18 MiB | 10.34 MiB/s   \r",
      "Receiving objects:  25% (7022/28088), 5.18 MiB | 10.34 MiB/s   \r"
     ]
    },
    {
     "name": "stdout",
     "output_type": "stream",
     "text": [
      "Receiving objects:  26% (7303/28088), 5.18 MiB | 10.34 MiB/s   \r",
      "Receiving objects:  27% (7584/28088), 5.18 MiB | 10.34 MiB/s   \r",
      "Receiving objects:  28% (7865/28088), 5.18 MiB | 10.34 MiB/s   \r",
      "Receiving objects:  29% (8146/28088), 5.18 MiB | 10.34 MiB/s   \r",
      "Receiving objects:  30% (8427/28088), 5.18 MiB | 10.34 MiB/s   \r",
      "Receiving objects:  31% (8708/28088), 5.18 MiB | 10.34 MiB/s   \r",
      "Receiving objects:  32% (8989/28088), 5.18 MiB | 10.34 MiB/s   \r"
     ]
    },
    {
     "name": "stdout",
     "output_type": "stream",
     "text": [
      "Receiving objects:  33% (9270/28088), 5.18 MiB | 10.34 MiB/s   \r",
      "Receiving objects:  34% (9550/28088), 5.18 MiB | 10.34 MiB/s   \r",
      "Receiving objects:  35% (9831/28088), 5.18 MiB | 10.34 MiB/s   \r",
      "Receiving objects:  36% (10112/28088), 5.18 MiB | 10.34 MiB/s   \r",
      "Receiving objects:  37% (10393/28088), 5.18 MiB | 10.34 MiB/s   \r",
      "Receiving objects:  38% (10674/28088), 5.18 MiB | 10.34 MiB/s   \r",
      "Receiving objects:  39% (10955/28088), 5.18 MiB | 10.34 MiB/s   \r",
      "Receiving objects:  40% (11236/28088), 5.18 MiB | 10.34 MiB/s   \r",
      "Receiving objects:  41% (11517/28088), 5.18 MiB | 10.34 MiB/s   \r",
      "Receiving objects:  42% (11797/28088), 5.18 MiB | 10.34 MiB/s   \r",
      "Receiving objects:  43% (12078/28088), 5.18 MiB | 10.34 MiB/s   \r",
      "Receiving objects:  44% (12359/28088), 5.18 MiB | 10.34 MiB/s   \r",
      "Receiving objects:  45% (12640/28088), 5.18 MiB | 10.34 MiB/s   \r",
      "Receiving objects:  46% (12921/28088), 5.18 MiB | 10.34 MiB/s   \r",
      "Receiving objects:  47% (13202/28088), 5.18 MiB | 10.34 MiB/s   \r"
     ]
    },
    {
     "name": "stdout",
     "output_type": "stream",
     "text": [
      "Receiving objects:  48% (13483/28088), 5.18 MiB | 10.34 MiB/s   \r",
      "Receiving objects:  49% (13764/28088), 5.18 MiB | 10.34 MiB/s   \r",
      "Receiving objects:  50% (14044/28088), 5.18 MiB | 10.34 MiB/s   \r",
      "Receiving objects:  51% (14325/28088), 5.18 MiB | 10.34 MiB/s   \r",
      "Receiving objects:  52% (14606/28088), 5.18 MiB | 10.34 MiB/s   \r",
      "Receiving objects:  53% (14887/28088), 5.18 MiB | 10.34 MiB/s   \r",
      "Receiving objects:  54% (15168/28088), 5.18 MiB | 10.34 MiB/s   \r",
      "Receiving objects:  55% (15449/28088), 5.18 MiB | 10.34 MiB/s   \r",
      "Receiving objects:  56% (15730/28088), 5.18 MiB | 10.34 MiB/s   \r",
      "Receiving objects:  57% (16011/28088), 5.18 MiB | 10.34 MiB/s   \r",
      "Receiving objects:  58% (16292/28088), 5.18 MiB | 10.34 MiB/s   \r",
      "Receiving objects:  59% (16572/28088), 5.18 MiB | 10.34 MiB/s   \r",
      "Receiving objects:  60% (16853/28088), 5.18 MiB | 10.34 MiB/s   \r",
      "Receiving objects:  61% (17134/28088), 5.18 MiB | 10.34 MiB/s   \r",
      "Receiving objects:  62% (17415/28088), 5.18 MiB | 10.34 MiB/s   \r",
      "Receiving objects:  63% (17696/28088), 5.18 MiB | 10.34 MiB/s   \r",
      "Receiving objects:  64% (17977/28088), 5.18 MiB | 10.34 MiB/s   \r",
      "Receiving objects:  65% (18258/28088), 5.18 MiB | 10.34 MiB/s   \r"
     ]
    },
    {
     "name": "stdout",
     "output_type": "stream",
     "text": [
      "Receiving objects:  66% (18539/28088), 5.18 MiB | 10.34 MiB/s   \r",
      "Receiving objects:  67% (18819/28088), 5.18 MiB | 10.34 MiB/s   \r",
      "Receiving objects:  68% (19100/28088), 5.18 MiB | 10.34 MiB/s   \r",
      "Receiving objects:  69% (19381/28088), 5.18 MiB | 10.34 MiB/s   \r",
      "Receiving objects:  70% (19662/28088), 5.18 MiB | 10.34 MiB/s   \r",
      "Receiving objects:  71% (19943/28088), 5.18 MiB | 10.34 MiB/s   \r",
      "Receiving objects:  72% (20224/28088), 5.18 MiB | 10.34 MiB/s   \r",
      "Receiving objects:  73% (20505/28088), 5.18 MiB | 10.34 MiB/s   \r",
      "Receiving objects:  74% (20786/28088), 5.18 MiB | 10.34 MiB/s   \r",
      "Receiving objects:  75% (21066/28088), 5.18 MiB | 10.34 MiB/s   \r",
      "Receiving objects:  76% (21347/28088), 5.18 MiB | 10.34 MiB/s   \r",
      "Receiving objects:  77% (21628/28088), 5.18 MiB | 10.34 MiB/s   \r",
      "Receiving objects:  78% (21909/28088), 5.18 MiB | 10.34 MiB/s   \r",
      "Receiving objects:  79% (22190/28088), 5.18 MiB | 10.34 MiB/s   \r",
      "Receiving objects:  80% (22471/28088), 5.18 MiB | 10.34 MiB/s   \r",
      "Receiving objects:  81% (22752/28088), 5.18 MiB | 10.34 MiB/s   \r",
      "Receiving objects:  82% (23033/28088), 5.18 MiB | 10.34 MiB/s   \r",
      "Receiving objects:  83% (23314/28088), 5.18 MiB | 10.34 MiB/s   \r",
      "Receiving objects:  84% (23594/28088), 5.18 MiB | 10.34 MiB/s   \r",
      "Receiving objects:  85% (23875/28088), 5.18 MiB | 10.34 MiB/s   \r",
      "Receiving objects:  86% (24156/28088), 5.18 MiB | 10.34 MiB/s   \r"
     ]
    },
    {
     "name": "stdout",
     "output_type": "stream",
     "text": [
      "Receiving objects:  87% (24437/28088), 5.18 MiB | 10.34 MiB/s   \r",
      "Receiving objects:  88% (24718/28088), 5.18 MiB | 10.34 MiB/s   \r",
      "Receiving objects:  89% (24999/28088), 5.18 MiB | 10.34 MiB/s   \r",
      "Receiving objects:  90% (25280/28088), 5.18 MiB | 10.34 MiB/s   \r",
      "Receiving objects:  91% (25561/28088), 5.18 MiB | 10.34 MiB/s   \r",
      "Receiving objects:  92% (25841/28088), 5.18 MiB | 10.34 MiB/s   \r",
      "Receiving objects:  93% (26122/28088), 5.18 MiB | 10.34 MiB/s   \r",
      "Receiving objects:  94% (26403/28088), 5.18 MiB | 10.34 MiB/s   \r",
      "Receiving objects:  95% (26684/28088), 5.18 MiB | 10.34 MiB/s   \r",
      "Receiving objects:  96% (26965/28088), 5.18 MiB | 10.34 MiB/s   \r",
      "Receiving objects:  97% (27246/28088), 5.18 MiB | 10.34 MiB/s   \r",
      "Receiving objects:  98% (27527/28088), 5.18 MiB | 10.34 MiB/s   \r",
      "Receiving objects:  99% (27808/28088), 5.18 MiB | 10.34 MiB/s   \r",
      "remote: Total 28088 (delta 245), reused 389 (delta 192), pack-reused 27579\u001b[K\r\n",
      "Receiving objects: 100% (28088/28088), 5.18 MiB | 10.34 MiB/s   \r",
      "Receiving objects: 100% (28088/28088), 11.86 MiB | 15.55 MiB/s, done.\r\n",
      "Resolving deltas:   0% (0/21066)   \r",
      "Resolving deltas:   1% (211/21066)   \r",
      "Resolving deltas:   2% (422/21066)   \r",
      "Resolving deltas:   3% (637/21066)   \r"
     ]
    },
    {
     "name": "stdout",
     "output_type": "stream",
     "text": [
      "Resolving deltas:   4% (843/21066)   \r",
      "Resolving deltas:   5% (1071/21066)   \r",
      "Resolving deltas:   6% (1266/21066)   \r",
      "Resolving deltas:   7% (1490/21066)   \r",
      "Resolving deltas:   8% (1693/21066)   \r",
      "Resolving deltas:   9% (1903/21066)   \r",
      "Resolving deltas:  10% (2119/21066)   \r",
      "Resolving deltas:  11% (2349/21066)   \r"
     ]
    },
    {
     "name": "stdout",
     "output_type": "stream",
     "text": [
      "Resolving deltas:  12% (2534/21066)   \r",
      "Resolving deltas:  13% (2771/21066)   \r",
      "Resolving deltas:  14% (2950/21066)   \r",
      "Resolving deltas:  15% (3197/21066)   \r",
      "Resolving deltas:  16% (3392/21066)   \r",
      "Resolving deltas:  17% (3624/21066)   \r",
      "Resolving deltas:  18% (3826/21066)   \r",
      "Resolving deltas:  19% (4009/21066)   \r"
     ]
    },
    {
     "name": "stdout",
     "output_type": "stream",
     "text": [
      "Resolving deltas:  20% (4230/21066)   \r",
      "Resolving deltas:  21% (4429/21066)   \r",
      "Resolving deltas:  22% (4714/21066)   \r",
      "Resolving deltas:  23% (4846/21066)   \r",
      "Resolving deltas:  24% (5059/21066)   \r",
      "Resolving deltas:  25% (5278/21066)   \r",
      "Resolving deltas:  26% (5480/21066)   \r",
      "Resolving deltas:  27% (5752/21066)   \r",
      "Resolving deltas:  28% (5902/21066)   \r",
      "Resolving deltas:  29% (6145/21066)   \r",
      "Resolving deltas:  30% (6322/21066)   \r"
     ]
    },
    {
     "name": "stdout",
     "output_type": "stream",
     "text": [
      "Resolving deltas:  31% (6532/21066)   \r",
      "Resolving deltas:  32% (6744/21066)   \r",
      "Resolving deltas:  33% (6955/21066)   \r",
      "Resolving deltas:  34% (7165/21066)   \r",
      "Resolving deltas:  35% (7387/21066)   \r",
      "Resolving deltas:  36% (7587/21066)   \r",
      "Resolving deltas:  37% (7800/21066)   \r",
      "Resolving deltas:  38% (8025/21066)   \r",
      "Resolving deltas:  39% (8222/21066)   \r",
      "Resolving deltas:  40% (8473/21066)   \r",
      "Resolving deltas:  41% (8705/21066)   \r",
      "Resolving deltas:  42% (8871/21066)   \r"
     ]
    },
    {
     "name": "stdout",
     "output_type": "stream",
     "text": [
      "Resolving deltas:  43% (9059/21066)   \r",
      "Resolving deltas:  44% (9273/21066)   \r",
      "Resolving deltas:  45% (9486/21066)   \r",
      "Resolving deltas:  46% (9715/21066)   \r",
      "Resolving deltas:  47% (9908/21066)   \r",
      "Resolving deltas:  48% (10208/21066)   \r",
      "Resolving deltas:  49% (10325/21066)   \r",
      "Resolving deltas:  50% (10535/21066)   \r",
      "Resolving deltas:  51% (10791/21066)   \r",
      "Resolving deltas:  52% (11001/21066)   \r",
      "Resolving deltas:  53% (11202/21066)   \r",
      "Resolving deltas:  54% (11387/21066)   \r",
      "Resolving deltas:  55% (11601/21066)   \r",
      "Resolving deltas:  56% (11811/21066)   \r",
      "Resolving deltas:  57% (12010/21066)   \r"
     ]
    },
    {
     "name": "stdout",
     "output_type": "stream",
     "text": [
      "Resolving deltas:  58% (12225/21066)   \r",
      "Resolving deltas:  59% (12429/21066)   \r",
      "Resolving deltas:  60% (12642/21066)   \r",
      "Resolving deltas:  61% (12879/21066)   \r",
      "Resolving deltas:  62% (13078/21066)   \r",
      "Resolving deltas:  63% (13284/21066)   \r",
      "Resolving deltas:  64% (13487/21066)   \r",
      "Resolving deltas:  65% (13789/21066)   \r",
      "Resolving deltas:  66% (13918/21066)   \r",
      "Resolving deltas:  67% (14119/21066)   \r",
      "Resolving deltas:  68% (14368/21066)   \r",
      "Resolving deltas:  69% (14578/21066)   \r",
      "Resolving deltas:  70% (14834/21066)   \r",
      "Resolving deltas:  71% (14959/21066)   \r",
      "Resolving deltas:  72% (15168/21066)   \r",
      "Resolving deltas:  73% (15400/21066)   \r"
     ]
    },
    {
     "name": "stdout",
     "output_type": "stream",
     "text": [
      "Resolving deltas:  74% (15604/21066)   \r",
      "Resolving deltas:  75% (15805/21066)   \r",
      "Resolving deltas:  76% (16027/21066)   \r",
      "Resolving deltas:  77% (16256/21066)   \r",
      "Resolving deltas:  78% (16442/21066)   \r",
      "Resolving deltas:  79% (16683/21066)   \r",
      "Resolving deltas:  80% (16874/21066)   \r",
      "Resolving deltas:  81% (17217/21066)   \r",
      "Resolving deltas:  82% (17323/21066)   \r",
      "Resolving deltas:  83% (17627/21066)   \r",
      "Resolving deltas:  84% (17697/21066)   \r",
      "Resolving deltas:  85% (17909/21066)   \r",
      "Resolving deltas:  86% (18218/21066)   \r",
      "Resolving deltas:  87% (18333/21066)   \r",
      "Resolving deltas:  88% (18541/21066)   \r",
      "Resolving deltas:  89% (18786/21066)   \r",
      "Resolving deltas:  90% (18962/21066)   \r",
      "Resolving deltas:  91% (19182/21066)   \r",
      "Resolving deltas:  92% (19405/21066)   \r",
      "Resolving deltas:  93% (19633/21066)   \r",
      "Resolving deltas:  94% (19810/21066)   \r"
     ]
    },
    {
     "name": "stdout",
     "output_type": "stream",
     "text": [
      "Resolving deltas:  95% (20030/21066)   \r",
      "Resolving deltas:  96% (20264/21066)   \r",
      "Resolving deltas:  97% (20435/21066)   \r",
      "Resolving deltas:  98% (20656/21066)   \r",
      "Resolving deltas:  99% (20868/21066)   \r",
      "Resolving deltas: 100% (21066/21066)   \r",
      "Resolving deltas: 100% (21066/21066), done.\r\n"
     ]
    }
   ],
   "source": [
    "!git clone https://github.com/pytorch/fairseq/"
   ]
  },
  {
   "cell_type": "code",
   "execution_count": 3,
   "id": "caroline-shakespeare",
   "metadata": {
    "execution": {
     "iopub.execute_input": "2021-05-25T11:55:17.957123Z",
     "iopub.status.busy": "2021-05-25T11:55:17.956444Z",
     "iopub.status.idle": "2021-05-25T11:55:17.960330Z",
     "shell.execute_reply": "2021-05-25T11:55:17.960829Z",
     "shell.execute_reply.started": "2021-05-25T11:52:02.313922Z"
    },
    "papermill": {
     "duration": 0.027645,
     "end_time": "2021-05-25T11:55:17.961009",
     "exception": false,
     "start_time": "2021-05-25T11:55:17.933364",
     "status": "completed"
    },
    "tags": []
   },
   "outputs": [
    {
     "name": "stdout",
     "output_type": "stream",
     "text": [
      "/tmp/fairseq/examples/wav2vec/unsupervised\n"
     ]
    }
   ],
   "source": [
    "%cd fairseq/examples/wav2vec/unsupervised"
   ]
  },
  {
   "cell_type": "code",
   "execution_count": 4,
   "id": "burning-northeast",
   "metadata": {
    "execution": {
     "iopub.execute_input": "2021-05-25T11:55:18.005525Z",
     "iopub.status.busy": "2021-05-25T11:55:18.001114Z",
     "iopub.status.idle": "2021-05-25T11:55:19.517653Z",
     "shell.execute_reply": "2021-05-25T11:55:19.516920Z",
     "shell.execute_reply.started": "2021-05-25T11:52:05.246911Z"
    },
    "papermill": {
     "duration": 1.539038,
     "end_time": "2021-05-25T11:55:19.517802",
     "exception": false,
     "start_time": "2021-05-25T11:55:17.978764",
     "status": "completed"
    },
    "tags": []
   },
   "outputs": [
    {
     "name": "stdout",
     "output_type": "stream",
     "text": [
      "Cloning into 'rVADfast'...\r\n"
     ]
    },
    {
     "name": "stdout",
     "output_type": "stream",
     "text": [
      "remote: Enumerating objects: 22, done.\u001b[K\r\n",
      "remote: Counting objects:   4% (1/22)\u001b[K\r",
      "remote: Counting objects:   9% (2/22)\u001b[K\r",
      "remote: Counting objects:  13% (3/22)\u001b[K\r",
      "remote: Counting objects:  18% (4/22)\u001b[K\r",
      "remote: Counting objects:  22% (5/22)\u001b[K\r",
      "remote: Counting objects:  27% (6/22)\u001b[K\r",
      "remote: Counting objects:  31% (7/22)\u001b[K\r",
      "remote: Counting objects:  36% (8/22)\u001b[K\r",
      "remote: Counting objects:  40% (9/22)\u001b[K\r",
      "remote: Counting objects:  45% (10/22)\u001b[K\r",
      "remote: Counting objects:  50% (11/22)\u001b[K\r",
      "remote: Counting objects:  54% (12/22)\u001b[K\r",
      "remote: Counting objects:  59% (13/22)\u001b[K\r",
      "remote: Counting objects:  63% (14/22)\u001b[K\r",
      "remote: Counting objects:  68% (15/22)\u001b[K\r",
      "remote: Counting objects:  72% (16/22)\u001b[K\r",
      "remote: Counting objects:  77% (17/22)\u001b[K\r",
      "remote: Counting objects:  81% (18/22)\u001b[K\r",
      "remote: Counting objects:  86% (19/22)\u001b[K\r",
      "remote: Counting objects:  90% (20/22)\u001b[K\r",
      "remote: Counting objects:  95% (21/22)\u001b[K\r",
      "remote: Counting objects: 100% (22/22)\u001b[K\r",
      "remote: Counting objects: 100% (22/22), done.\u001b[K\r\n",
      "remote: Compressing objects:   4% (1/22)\u001b[K\r",
      "remote: Compressing objects:   9% (2/22)\u001b[K\r",
      "remote: Compressing objects:  13% (3/22)\u001b[K\r",
      "remote: Compressing objects:  18% (4/22)\u001b[K\r",
      "remote: Compressing objects:  22% (5/22)\u001b[K\r",
      "remote: Compressing objects:  27% (6/22)\u001b[K\r",
      "remote: Compressing objects:  31% (7/22)\u001b[K\r",
      "remote: Compressing objects:  36% (8/22)\u001b[K\r",
      "remote: Compressing objects:  40% (9/22)\u001b[K\r",
      "remote: Compressing objects:  45% (10/22)\u001b[K\r",
      "remote: Compressing objects:  50% (11/22)\u001b[K\r",
      "remote: Compressing objects:  54% (12/22)\u001b[K\r",
      "remote: Compressing objects:  59% (13/22)\u001b[K\r",
      "remote: Compressing objects:  63% (14/22)\u001b[K\r",
      "remote: Compressing objects:  68% (15/22)\u001b[K\r",
      "remote: Compressing objects:  72% (16/22)\u001b[K\r",
      "remote: Compressing objects:  77% (17/22)\u001b[K\r",
      "remote: Compressing objects:  81% (18/22)\u001b[K\r"
     ]
    },
    {
     "name": "stdout",
     "output_type": "stream",
     "text": [
      "remote: Compressing objects:  86% (19/22)\u001b[K\r",
      "remote: Compressing objects:  90% (20/22)\u001b[K\r",
      "remote: Compressing objects:  95% (21/22)\u001b[K\r",
      "remote: Compressing objects: 100% (22/22)\u001b[K\r",
      "remote: Compressing objects: 100% (22/22), done.\u001b[K\r\n",
      "remote: Total 22 (delta 5), reused 2 (delta 0), pack-reused 0\u001b[K\r\n",
      "Unpacking objects:   4% (1/22)   \r",
      "Unpacking objects:   9% (2/22)   \r",
      "Unpacking objects:  13% (3/22)   \r",
      "Unpacking objects:  18% (4/22)   \r",
      "Unpacking objects:  22% (5/22)   \r",
      "Unpacking objects:  27% (6/22)   \r",
      "Unpacking objects:  31% (7/22)   \r",
      "Unpacking objects:  36% (8/22)   \r",
      "Unpacking objects:  40% (9/22)   \r",
      "Unpacking objects:  45% (10/22)   \r",
      "Unpacking objects:  50% (11/22)   \r",
      "Unpacking objects:  54% (12/22)   \r",
      "Unpacking objects:  59% (13/22)   \r",
      "Unpacking objects:  63% (14/22)   \r",
      "Unpacking objects:  68% (15/22)   \r",
      "Unpacking objects:  72% (16/22)   \r",
      "Unpacking objects:  77% (17/22)   \r",
      "Unpacking objects:  81% (18/22)   \r",
      "Unpacking objects:  86% (19/22)   \r",
      "Unpacking objects:  90% (20/22)   \r",
      "Unpacking objects:  95% (21/22)   \r",
      "Unpacking objects: 100% (22/22)   \r",
      "Unpacking objects: 100% (22/22), done.\r\n"
     ]
    }
   ],
   "source": [
    "!git clone https://github.com/zhenghuatan/rVADfast"
   ]
  },
  {
   "cell_type": "code",
   "execution_count": 5,
   "id": "surrounded-feelings",
   "metadata": {
    "execution": {
     "iopub.execute_input": "2021-05-25T11:55:19.566572Z",
     "iopub.status.busy": "2021-05-25T11:55:19.562194Z",
     "iopub.status.idle": "2021-05-25T11:55:21.016816Z",
     "shell.execute_reply": "2021-05-25T11:55:21.017335Z",
     "shell.execute_reply.started": "2021-05-25T11:52:08.786607Z"
    },
    "papermill": {
     "duration": 1.480785,
     "end_time": "2021-05-25T11:55:21.017528",
     "exception": false,
     "start_time": "2021-05-25T11:55:19.536743",
     "status": "completed"
    },
    "tags": []
   },
   "outputs": [],
   "source": [
    "!cat scripts/vads.py|sed -e 's!/path/to/rVADfast_py_2.0!/tmp/fairseq/examples/wav2vec/unsupervised/rVADfast!' > tmp\n",
    "!mv tmp scripts/vads.py"
   ]
  },
  {
   "cell_type": "code",
   "execution_count": 6,
   "id": "bottom-mobile",
   "metadata": {
    "execution": {
     "iopub.execute_input": "2021-05-25T11:55:21.064522Z",
     "iopub.status.busy": "2021-05-25T11:55:21.063595Z",
     "iopub.status.idle": "2021-05-25T11:55:21.791230Z",
     "shell.execute_reply": "2021-05-25T11:55:21.790411Z",
     "shell.execute_reply.started": "2021-05-25T11:52:11.977575Z"
    },
    "papermill": {
     "duration": 0.755456,
     "end_time": "2021-05-25T11:55:21.791417",
     "exception": false,
     "start_time": "2021-05-25T11:55:21.035961",
     "status": "completed"
    },
    "tags": []
   },
   "outputs": [],
   "source": [
    "!mkdir /kaggle/working/train.vads"
   ]
  },
  {
   "cell_type": "code",
   "execution_count": 7,
   "id": "historical-winner",
   "metadata": {
    "execution": {
     "iopub.execute_input": "2021-05-25T11:55:21.840755Z",
     "iopub.status.busy": "2021-05-25T11:55:21.836484Z",
     "iopub.status.idle": "2021-05-25T11:55:22.579825Z",
     "shell.execute_reply": "2021-05-25T11:55:22.579251Z",
     "shell.execute_reply.started": "2021-05-25T11:38:49.147579Z"
    },
    "papermill": {
     "duration": 0.768347,
     "end_time": "2021-05-25T11:55:22.579989",
     "exception": false,
     "start_time": "2021-05-25T11:55:21.811642",
     "status": "completed"
    },
    "tags": []
   },
   "outputs": [
    {
     "name": "stdout",
     "output_type": "stream",
     "text": [
      "client_id\tpath\tsentence\tup_votes\tdown_votes\tage\tgender\taccent\tlocale\tsegment\r\n",
      "a0c8589129ce6206579304902c2fca2815ccf4dae9704d6d0c64ea426405211bbccc6cae69ec1bb5c8df49a37958f32c919a33a833bba00ec36b9fc450b55a82\tcommon_voice_sv-SE_20898817.mp3\tVad är det i euro?\t2\t0\t\t\t\tsv-SE\t\r\n",
      "a0c8589129ce6206579304902c2fca2815ccf4dae9704d6d0c64ea426405211bbccc6cae69ec1bb5c8df49a37958f32c919a33a833bba00ec36b9fc450b55a82\tcommon_voice_sv-SE_20898819.mp3\tDu ska veta att det är du som har fel.\t2\t0\t\t\t\tsv-SE\t\r\n",
      "a0c8589129ce6206579304902c2fca2815ccf4dae9704d6d0c64ea426405211bbccc6cae69ec1bb5c8df49a37958f32c919a33a833bba00ec36b9fc450b55a82\tcommon_voice_sv-SE_20898821.mp3\tGå ner på knä.\t2\t0\t\t\t\tsv-SE\t\r\n",
      "a0c8589129ce6206579304902c2fca2815ccf4dae9704d6d0c64ea426405211bbccc6cae69ec1bb5c8df49a37958f32c919a33a833bba00ec36b9fc450b55a82\tcommon_voice_sv-SE_20898832.mp3\tFörst måste jag slå sönder den där stora skrothögen!\t2\t0\t\t\t\tsv-SE\t\r\n",
      "a0c8589129ce6206579304902c2fca2815ccf4dae9704d6d0c64ea426405211bbccc6cae69ec1bb5c8df49a37958f32c919a33a833bba00ec36b9fc450b55a82\tcommon_voice_sv-SE_20898834.mp3\tDet blir svårt.\t2\t0\t\t\t\tsv-SE\t\r\n",
      "a0c8589129ce6206579304902c2fca2815ccf4dae9704d6d0c64ea426405211bbccc6cae69ec1bb5c8df49a37958f32c919a33a833bba00ec36b9fc450b55a82\tcommon_voice_sv-SE_20898835.mp3\tVad för jävla fråga är det?\t2\t0\t\t\t\tsv-SE\t\r\n",
      "a0c8589129ce6206579304902c2fca2815ccf4dae9704d6d0c64ea426405211bbccc6cae69ec1bb5c8df49a37958f32c919a33a833bba00ec36b9fc450b55a82\tcommon_voice_sv-SE_20898836.mp3\tJag återvänder inte till skithålet!\t2\t0\t\t\t\tsv-SE\t\r\n",
      "a0c8589129ce6206579304902c2fca2815ccf4dae9704d6d0c64ea426405211bbccc6cae69ec1bb5c8df49a37958f32c919a33a833bba00ec36b9fc450b55a82\tcommon_voice_sv-SE_20898853.mp3\tTitta på sömmarna.\t2\t0\t\t\t\tsv-SE\t\r\n",
      "a0c8589129ce6206579304902c2fca2815ccf4dae9704d6d0c64ea426405211bbccc6cae69ec1bb5c8df49a37958f32c919a33a833bba00ec36b9fc450b55a82\tcommon_voice_sv-SE_20898854.mp3\tFes du precis?\t2\t0\t\t\t\tsv-SE\t\r\n"
     ]
    }
   ],
   "source": [
    "!head /kaggle/input/download-common-voice-swedish/cv-corpus-6.1-2020-12-11/sv-SE/train.tsv"
   ]
  },
  {
   "cell_type": "code",
   "execution_count": 8,
   "id": "focused-tuning",
   "metadata": {
    "execution": {
     "iopub.execute_input": "2021-05-25T11:55:22.626448Z",
     "iopub.status.busy": "2021-05-25T11:55:22.625686Z",
     "iopub.status.idle": "2021-05-25T11:55:22.767712Z",
     "shell.execute_reply": "2021-05-25T11:55:22.766990Z",
     "shell.execute_reply.started": "2021-05-25T11:50:13.947646Z"
    },
    "papermill": {
     "duration": 0.168939,
     "end_time": "2021-05-25T11:55:22.767862",
     "exception": false,
     "start_time": "2021-05-25T11:55:22.598923",
     "status": "completed"
    },
    "tags": []
   },
   "outputs": [
    {
     "ename": "RuntimeError",
     "evalue": "Error opening '../input/common-voice-swedish-16bit-wav/common_voice_sv-SE_20898817.wav': System error.",
     "output_type": "error",
     "traceback": [
      "\u001b[0;31m---------------------------------------------------------------------------\u001b[0m",
      "\u001b[0;31mRuntimeError\u001b[0m                              Traceback (most recent call last)",
      "\u001b[0;32m<ipython-input-8-e861428f7124>\u001b[0m in \u001b[0;36m<module>\u001b[0;34m\u001b[0m\n\u001b[1;32m     15\u001b[0m                 \u001b[0mfile\u001b[0m \u001b[0;34m=\u001b[0m \u001b[0mfile\u001b[0m\u001b[0;34m.\u001b[0m\u001b[0mreplace\u001b[0m\u001b[0;34m(\u001b[0m\u001b[0;34m'.mp3'\u001b[0m\u001b[0;34m,\u001b[0m \u001b[0;34m'.wav'\u001b[0m\u001b[0;34m)\u001b[0m\u001b[0;34m\u001b[0m\u001b[0;34m\u001b[0m\u001b[0m\n\u001b[1;32m     16\u001b[0m                 \u001b[0mpath\u001b[0m \u001b[0;34m=\u001b[0m \u001b[0;34mf'../input/common-voice-swedish-16bit-wav/{file}'\u001b[0m\u001b[0;34m\u001b[0m\u001b[0;34m\u001b[0m\u001b[0m\n\u001b[0;32m---> 17\u001b[0;31m                 \u001b[0mframes\u001b[0m \u001b[0;34m=\u001b[0m \u001b[0msoundfile\u001b[0m\u001b[0;34m.\u001b[0m\u001b[0minfo\u001b[0m\u001b[0;34m(\u001b[0m\u001b[0mpath\u001b[0m\u001b[0;34m)\u001b[0m\u001b[0;34m.\u001b[0m\u001b[0mframes\u001b[0m\u001b[0;34m\u001b[0m\u001b[0;34m\u001b[0m\u001b[0m\n\u001b[0m\u001b[1;32m     18\u001b[0m                 \u001b[0mprint\u001b[0m\u001b[0;34m(\u001b[0m\u001b[0;34m\"{}\\t{}\"\u001b[0m\u001b[0;34m.\u001b[0m\u001b[0mformat\u001b[0m\u001b[0;34m(\u001b[0m\u001b[0mpath\u001b[0m\u001b[0;34m,\u001b[0m \u001b[0mframes\u001b[0m\u001b[0;34m)\u001b[0m\u001b[0;34m,\u001b[0m \u001b[0mfile\u001b[0m\u001b[0;34m=\u001b[0m\u001b[0mout\u001b[0m\u001b[0;34m)\u001b[0m\u001b[0;34m\u001b[0m\u001b[0;34m\u001b[0m\u001b[0m\n",
      "\u001b[0;32m/opt/conda/lib/python3.7/site-packages/soundfile.py\u001b[0m in \u001b[0;36minfo\u001b[0;34m(file, verbose)\u001b[0m\n\u001b[1;32m    436\u001b[0m         \u001b[0mWhether\u001b[0m \u001b[0mto\u001b[0m \u001b[0mprint\u001b[0m \u001b[0madditional\u001b[0m \u001b[0minformation\u001b[0m\u001b[0;34m.\u001b[0m\u001b[0;34m\u001b[0m\u001b[0;34m\u001b[0m\u001b[0m\n\u001b[1;32m    437\u001b[0m     \"\"\"\n\u001b[0;32m--> 438\u001b[0;31m     \u001b[0;32mreturn\u001b[0m \u001b[0m_SoundFileInfo\u001b[0m\u001b[0;34m(\u001b[0m\u001b[0mfile\u001b[0m\u001b[0;34m,\u001b[0m \u001b[0mverbose\u001b[0m\u001b[0;34m)\u001b[0m\u001b[0;34m\u001b[0m\u001b[0;34m\u001b[0m\u001b[0m\n\u001b[0m\u001b[1;32m    439\u001b[0m \u001b[0;34m\u001b[0m\u001b[0m\n\u001b[1;32m    440\u001b[0m \u001b[0;34m\u001b[0m\u001b[0m\n",
      "\u001b[0;32m/opt/conda/lib/python3.7/site-packages/soundfile.py\u001b[0m in \u001b[0;36m__init__\u001b[0;34m(self, file, verbose)\u001b[0m\n\u001b[1;32m    381\u001b[0m     \u001b[0;32mdef\u001b[0m \u001b[0m__init__\u001b[0m\u001b[0;34m(\u001b[0m\u001b[0mself\u001b[0m\u001b[0;34m,\u001b[0m \u001b[0mfile\u001b[0m\u001b[0;34m,\u001b[0m \u001b[0mverbose\u001b[0m\u001b[0;34m)\u001b[0m\u001b[0;34m:\u001b[0m\u001b[0;34m\u001b[0m\u001b[0;34m\u001b[0m\u001b[0m\n\u001b[1;32m    382\u001b[0m         \u001b[0mself\u001b[0m\u001b[0;34m.\u001b[0m\u001b[0mverbose\u001b[0m \u001b[0;34m=\u001b[0m \u001b[0mverbose\u001b[0m\u001b[0;34m\u001b[0m\u001b[0;34m\u001b[0m\u001b[0m\n\u001b[0;32m--> 383\u001b[0;31m         \u001b[0;32mwith\u001b[0m \u001b[0mSoundFile\u001b[0m\u001b[0;34m(\u001b[0m\u001b[0mfile\u001b[0m\u001b[0;34m)\u001b[0m \u001b[0;32mas\u001b[0m \u001b[0mf\u001b[0m\u001b[0;34m:\u001b[0m\u001b[0;34m\u001b[0m\u001b[0;34m\u001b[0m\u001b[0m\n\u001b[0m\u001b[1;32m    384\u001b[0m             \u001b[0mself\u001b[0m\u001b[0;34m.\u001b[0m\u001b[0mname\u001b[0m \u001b[0;34m=\u001b[0m \u001b[0mf\u001b[0m\u001b[0;34m.\u001b[0m\u001b[0mname\u001b[0m\u001b[0;34m\u001b[0m\u001b[0;34m\u001b[0m\u001b[0m\n\u001b[1;32m    385\u001b[0m             \u001b[0mself\u001b[0m\u001b[0;34m.\u001b[0m\u001b[0msamplerate\u001b[0m \u001b[0;34m=\u001b[0m \u001b[0mf\u001b[0m\u001b[0;34m.\u001b[0m\u001b[0msamplerate\u001b[0m\u001b[0;34m\u001b[0m\u001b[0;34m\u001b[0m\u001b[0m\n",
      "\u001b[0;32m/opt/conda/lib/python3.7/site-packages/soundfile.py\u001b[0m in \u001b[0;36m__init__\u001b[0;34m(self, file, mode, samplerate, channels, subtype, endian, format, closefd)\u001b[0m\n\u001b[1;32m    627\u001b[0m         self._info = _create_info_struct(file, mode, samplerate, channels,\n\u001b[1;32m    628\u001b[0m                                          format, subtype, endian)\n\u001b[0;32m--> 629\u001b[0;31m         \u001b[0mself\u001b[0m\u001b[0;34m.\u001b[0m\u001b[0m_file\u001b[0m \u001b[0;34m=\u001b[0m \u001b[0mself\u001b[0m\u001b[0;34m.\u001b[0m\u001b[0m_open\u001b[0m\u001b[0;34m(\u001b[0m\u001b[0mfile\u001b[0m\u001b[0;34m,\u001b[0m \u001b[0mmode_int\u001b[0m\u001b[0;34m,\u001b[0m \u001b[0mclosefd\u001b[0m\u001b[0;34m)\u001b[0m\u001b[0;34m\u001b[0m\u001b[0;34m\u001b[0m\u001b[0m\n\u001b[0m\u001b[1;32m    630\u001b[0m         \u001b[0;32mif\u001b[0m \u001b[0mset\u001b[0m\u001b[0;34m(\u001b[0m\u001b[0mmode\u001b[0m\u001b[0;34m)\u001b[0m\u001b[0;34m.\u001b[0m\u001b[0missuperset\u001b[0m\u001b[0;34m(\u001b[0m\u001b[0;34m'r+'\u001b[0m\u001b[0;34m)\u001b[0m \u001b[0;32mand\u001b[0m \u001b[0mself\u001b[0m\u001b[0;34m.\u001b[0m\u001b[0mseekable\u001b[0m\u001b[0;34m(\u001b[0m\u001b[0;34m)\u001b[0m\u001b[0;34m:\u001b[0m\u001b[0;34m\u001b[0m\u001b[0;34m\u001b[0m\u001b[0m\n\u001b[1;32m    631\u001b[0m             \u001b[0;31m# Move write position to 0 (like in Python file objects)\u001b[0m\u001b[0;34m\u001b[0m\u001b[0;34m\u001b[0m\u001b[0;34m\u001b[0m\u001b[0m\n",
      "\u001b[0;32m/opt/conda/lib/python3.7/site-packages/soundfile.py\u001b[0m in \u001b[0;36m_open\u001b[0;34m(self, file, mode_int, closefd)\u001b[0m\n\u001b[1;32m   1182\u001b[0m             \u001b[0;32mraise\u001b[0m \u001b[0mTypeError\u001b[0m\u001b[0;34m(\u001b[0m\u001b[0;34m\"Invalid file: {0!r}\"\u001b[0m\u001b[0;34m.\u001b[0m\u001b[0mformat\u001b[0m\u001b[0;34m(\u001b[0m\u001b[0mself\u001b[0m\u001b[0;34m.\u001b[0m\u001b[0mname\u001b[0m\u001b[0;34m)\u001b[0m\u001b[0;34m)\u001b[0m\u001b[0;34m\u001b[0m\u001b[0;34m\u001b[0m\u001b[0m\n\u001b[1;32m   1183\u001b[0m         _error_check(_snd.sf_error(file_ptr),\n\u001b[0;32m-> 1184\u001b[0;31m                      \"Error opening {0!r}: \".format(self.name))\n\u001b[0m\u001b[1;32m   1185\u001b[0m         \u001b[0;32mif\u001b[0m \u001b[0mmode_int\u001b[0m \u001b[0;34m==\u001b[0m \u001b[0m_snd\u001b[0m\u001b[0;34m.\u001b[0m\u001b[0mSFM_WRITE\u001b[0m\u001b[0;34m:\u001b[0m\u001b[0;34m\u001b[0m\u001b[0;34m\u001b[0m\u001b[0m\n\u001b[1;32m   1186\u001b[0m             \u001b[0;31m# Due to a bug in libsndfile version <= 1.0.25, frames != 0\u001b[0m\u001b[0;34m\u001b[0m\u001b[0;34m\u001b[0m\u001b[0;34m\u001b[0m\u001b[0m\n",
      "\u001b[0;32m/opt/conda/lib/python3.7/site-packages/soundfile.py\u001b[0m in \u001b[0;36m_error_check\u001b[0;34m(err, prefix)\u001b[0m\n\u001b[1;32m   1355\u001b[0m     \u001b[0;32mif\u001b[0m \u001b[0merr\u001b[0m \u001b[0;34m!=\u001b[0m \u001b[0;36m0\u001b[0m\u001b[0;34m:\u001b[0m\u001b[0;34m\u001b[0m\u001b[0;34m\u001b[0m\u001b[0m\n\u001b[1;32m   1356\u001b[0m         \u001b[0merr_str\u001b[0m \u001b[0;34m=\u001b[0m \u001b[0m_snd\u001b[0m\u001b[0;34m.\u001b[0m\u001b[0msf_error_number\u001b[0m\u001b[0;34m(\u001b[0m\u001b[0merr\u001b[0m\u001b[0;34m)\u001b[0m\u001b[0;34m\u001b[0m\u001b[0;34m\u001b[0m\u001b[0m\n\u001b[0;32m-> 1357\u001b[0;31m         \u001b[0;32mraise\u001b[0m \u001b[0mRuntimeError\u001b[0m\u001b[0;34m(\u001b[0m\u001b[0mprefix\u001b[0m \u001b[0;34m+\u001b[0m \u001b[0m_ffi\u001b[0m\u001b[0;34m.\u001b[0m\u001b[0mstring\u001b[0m\u001b[0;34m(\u001b[0m\u001b[0merr_str\u001b[0m\u001b[0;34m)\u001b[0m\u001b[0;34m.\u001b[0m\u001b[0mdecode\u001b[0m\u001b[0;34m(\u001b[0m\u001b[0;34m'utf-8'\u001b[0m\u001b[0;34m,\u001b[0m \u001b[0;34m'replace'\u001b[0m\u001b[0;34m)\u001b[0m\u001b[0;34m)\u001b[0m\u001b[0;34m\u001b[0m\u001b[0;34m\u001b[0m\u001b[0m\n\u001b[0m\u001b[1;32m   1358\u001b[0m \u001b[0;34m\u001b[0m\u001b[0m\n\u001b[1;32m   1359\u001b[0m \u001b[0;34m\u001b[0m\u001b[0m\n",
      "\u001b[0;31mRuntimeError\u001b[0m: Error opening '../input/common-voice-swedish-16bit-wav/common_voice_sv-SE_20898817.wav': System error."
     ]
    }
   ],
   "source": [
    "import soundfile\n",
    "input = {\n",
    "    'train': '/kaggle/input/download-common-voice-swedish/cv-corpus-6.1-2020-12-11/sv-SE/train.tsv',\n",
    "    'test': '/kaggle/input/download-common-voice-swedish/cv-corpus-6.1-2020-12-11/sv-SE/test.tsv',\n",
    "    'valid': '/kaggle/input/download-common-voice-swedish/cv-corpus-6.1-2020-12-11/sv-SE/validated.tsv'\n",
    "}\n",
    "for split in input.keys():\n",
    "    with open(input[split], 'r') as tsv:\n",
    "        with open(f'/kaggle/working/{split}.tsv', 'w') as out:\n",
    "            for line in tsv.readlines():\n",
    "                data = line.split('\\t')\n",
    "                if data[1] == 'path':\n",
    "                    continue\n",
    "                file = data[1]\n",
    "                file = file.replace('.mp3', '.wav')\n",
    "                path = f'../input/common-voice-swedish-16bit-wav/{file}'\n",
    "                frames = soundfile.info(path).frames\n",
    "                print(\"{}\\t{}\".format(path, frames), file=out)"
   ]
  },
  {
   "cell_type": "code",
   "execution_count": 9,
   "id": "federal-recipient",
   "metadata": {
    "execution": {
     "iopub.execute_input": "2021-05-25T11:55:22.818104Z",
     "iopub.status.busy": "2021-05-25T11:55:22.813843Z",
     "iopub.status.idle": "2021-05-25T11:55:23.538814Z",
     "shell.execute_reply": "2021-05-25T11:55:23.538079Z",
     "shell.execute_reply.started": "2021-05-25T11:51:26.528234Z"
    },
    "papermill": {
     "duration": 0.749022,
     "end_time": "2021-05-25T11:55:23.538967",
     "exception": false,
     "start_time": "2021-05-25T11:55:22.789945",
     "status": "completed"
    },
    "tags": []
   },
   "outputs": [
    {
     "name": "stdout",
     "output_type": "stream",
     "text": [
      "head: cannot open 'train.tsv' for reading: No such file or directory\r\n"
     ]
    }
   ],
   "source": [
    "!head train.tsv"
   ]
  },
  {
   "cell_type": "code",
   "execution_count": null,
   "id": "printable-contribution",
   "metadata": {
    "execution": {
     "iopub.execute_input": "2021-05-25T11:52:37.525452Z",
     "iopub.status.busy": "2021-05-25T11:52:37.525044Z"
    },
    "papermill": {
     "duration": null,
     "end_time": null,
     "exception": false,
     "start_time": "2021-05-25T11:55:23.558665",
     "status": "running"
    },
    "tags": []
   },
   "outputs": [],
   "source": [
    "!python scripts/vads.py /kaggle/working/train.tsv /kaggle/working/train.vads"
   ]
  }
 ],
 "metadata": {
  "kernelspec": {
   "display_name": "Python 3",
   "language": "python",
   "name": "python3"
  },
  "language_info": {
   "codemirror_mode": {
    "name": "ipython",
    "version": 3
   },
   "file_extension": ".py",
   "mimetype": "text/x-python",
   "name": "python",
   "nbconvert_exporter": "python",
   "pygments_lexer": "ipython3",
   "version": "3.6.4"
  },
  "papermill": {
   "default_parameters": {},
   "duration": null,
   "end_time": null,
   "environment_variables": {},
   "exception": null,
   "input_path": "__notebook__.ipynb",
   "output_path": "__notebook__.ipynb",
   "parameters": {},
   "start_time": "2021-05-25T11:55:05.366036",
   "version": "2.3.3"
  }
 },
 "nbformat": 4,
 "nbformat_minor": 5
}