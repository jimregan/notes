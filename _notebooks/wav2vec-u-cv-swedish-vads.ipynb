{
 "cells": [
  {
   "cell_type": "code",
   "execution_count": 1,
   "id": "linear-garlic",
   "metadata": {
    "execution": {
     "iopub.execute_input": "2021-05-25T21:27:08.884421Z",
     "iopub.status.busy": "2021-05-25T21:27:08.871349Z",
     "iopub.status.idle": "2021-05-25T21:27:09.593694Z",
     "shell.execute_reply": "2021-05-25T21:27:09.592972Z",
     "shell.execute_reply.started": "2021-05-25T21:21:09.311246Z"
    },
    "papermill": {
     "duration": 0.740719,
     "end_time": "2021-05-25T21:27:09.593863",
     "exception": false,
     "start_time": "2021-05-25T21:27:08.853144",
     "status": "completed"
    },
    "tags": []
   },
   "outputs": [],
   "source": [
    "!mkdir /kaggle/working/train.vads"
   ]
  },
  {
   "cell_type": "code",
   "execution_count": 2,
   "id": "soviet-climb",
   "metadata": {
    "execution": {
     "iopub.execute_input": "2021-05-25T21:27:09.614412Z",
     "iopub.status.busy": "2021-05-25T21:27:09.613614Z",
     "iopub.status.idle": "2021-05-25T21:27:09.619906Z",
     "shell.execute_reply": "2021-05-25T21:27:09.619175Z",
     "shell.execute_reply.started": "2021-05-25T21:21:11.590631Z"
    },
    "papermill": {
     "duration": 0.019087,
     "end_time": "2021-05-25T21:27:09.620120",
     "exception": false,
     "start_time": "2021-05-25T21:27:09.601033",
     "status": "completed"
    },
    "tags": []
   },
   "outputs": [
    {
     "name": "stdout",
     "output_type": "stream",
     "text": [
      "/tmp\n"
     ]
    }
   ],
   "source": [
    "%cd /tmp"
   ]
  },
  {
   "cell_type": "code",
   "execution_count": 3,
   "id": "canadian-board",
   "metadata": {
    "_cell_guid": "b1076dfc-b9ad-4769-8c92-a6c4dae69d19",
    "_uuid": "8f2839f25d086af736a60e9eeb907d3b93b6e0e5",
    "execution": {
     "iopub.execute_input": "2021-05-25T21:27:09.644332Z",
     "iopub.status.busy": "2021-05-25T21:27:09.640009Z",
     "iopub.status.idle": "2021-05-25T21:27:12.630694Z",
     "shell.execute_reply": "2021-05-25T21:27:12.629933Z",
     "shell.execute_reply.started": "2021-05-25T21:21:17.392348Z"
    },
    "papermill": {
     "duration": 3.00256,
     "end_time": "2021-05-25T21:27:12.630840",
     "exception": false,
     "start_time": "2021-05-25T21:27:09.628280",
     "status": "completed"
    },
    "tags": []
   },
   "outputs": [
    {
     "name": "stdout",
     "output_type": "stream",
     "text": [
      "Cloning into 'fairseq'...\r\n"
     ]
    },
    {
     "name": "stdout",
     "output_type": "stream",
     "text": [
      "remote: Enumerating objects: 28093, done.\u001b[K\r\n",
      "remote: Counting objects:   0% (1/514)\u001b[K\r",
      "remote: Counting objects:   1% (6/514)\u001b[K\r",
      "remote: Counting objects:   2% (11/514)\u001b[K\r",
      "remote: Counting objects:   3% (16/514)\u001b[K\r",
      "remote: Counting objects:   4% (21/514)\u001b[K\r",
      "remote: Counting objects:   5% (26/514)\u001b[K\r",
      "remote: Counting objects:   6% (31/514)\u001b[K\r",
      "remote: Counting objects:   7% (36/514)\u001b[K\r",
      "remote: Counting objects:   8% (42/514)\u001b[K\r",
      "remote: Counting objects:   9% (47/514)\u001b[K\r",
      "remote: Counting objects:  10% (52/514)\u001b[K\r",
      "remote: Counting objects:  11% (57/514)\u001b[K\r",
      "remote: Counting objects:  12% (62/514)\u001b[K\r",
      "remote: Counting objects:  13% (67/514)\u001b[K\r",
      "remote: Counting objects:  14% (72/514)\u001b[K\r",
      "remote: Counting objects:  15% (78/514)\u001b[K\r",
      "remote: Counting objects:  16% (83/514)\u001b[K\r",
      "remote: Counting objects:  17% (88/514)\u001b[K\r",
      "remote: Counting objects:  18% (93/514)\u001b[K\r",
      "remote: Counting objects:  19% (98/514)\u001b[K\r",
      "remote: Counting objects:  20% (103/514)\u001b[K\r",
      "remote: Counting objects:  21% (108/514)\u001b[K\r",
      "remote: Counting objects:  22% (114/514)\u001b[K\r",
      "remote: Counting objects:  23% (119/514)\u001b[K\r",
      "remote: Counting objects:  24% (124/514)\u001b[K\r",
      "remote: Counting objects:  25% (129/514)\u001b[K\r",
      "remote: Counting objects:  26% (134/514)\u001b[K\r",
      "remote: Counting objects:  27% (139/514)\u001b[K\r",
      "remote: Counting objects:  28% (144/514)\u001b[K\r",
      "remote: Counting objects:  29% (150/514)\u001b[K\r",
      "remote: Counting objects:  30% (155/514)\u001b[K\r",
      "remote: Counting objects:  31% (160/514)\u001b[K\r",
      "remote: Counting objects:  32% (165/514)\u001b[K\r",
      "remote: Counting objects:  33% (170/514)\u001b[K\r",
      "remote: Counting objects:  34% (175/514)\u001b[K\r",
      "remote: Counting objects:  35% (180/514)\u001b[K\r",
      "remote: Counting objects:  36% (186/514)\u001b[K\r",
      "remote: Counting objects:  37% (191/514)\u001b[K\r",
      "remote: Counting objects:  38% (196/514)\u001b[K\r",
      "remote: Counting objects:  39% (201/514)\u001b[K\r",
      "remote: Counting objects:  40% (206/514)\u001b[K\r",
      "remote: Counting objects:  41% (211/514)\u001b[K\r",
      "remote: Counting objects:  42% (216/514)\u001b[K\r",
      "remote: Counting objects:  43% (222/514)\u001b[K\r",
      "remote: Counting objects:  44% (227/514)\u001b[K\r",
      "remote: Counting objects:  45% (232/514)\u001b[K\r",
      "remote: Counting objects:  46% (237/514)\u001b[K\r",
      "remote: Counting objects:  47% (242/514)\u001b[K\r",
      "remote: Counting objects:  48% (247/514)\u001b[K\r",
      "remote: Counting objects:  49% (252/514)\u001b[K\r",
      "remote: Counting objects:  50% (257/514)\u001b[K\r",
      "remote: Counting objects:  51% (263/514)\u001b[K\r",
      "remote: Counting objects:  52% (268/514)\u001b[K\r",
      "remote: Counting objects:  53% (273/514)\u001b[K\r",
      "remote: Counting objects:  54% (278/514)\u001b[K\r",
      "remote: Counting objects:  55% (283/514)\u001b[K\r",
      "remote: Counting objects:  56% (288/514)\u001b[K\r",
      "remote: Counting objects:  57% (293/514)\u001b[K\r",
      "remote: Counting objects:  58% (299/514)\u001b[K\r",
      "remote: Counting objects:  59% (304/514)\u001b[K\r",
      "remote: Counting objects:  60% (309/514)\u001b[K\r",
      "remote: Counting objects:  61% (314/514)\u001b[K\r",
      "remote: Counting objects:  62% (319/514)\u001b[K\r",
      "remote: Counting objects:  63% (324/514)\u001b[K\r",
      "remote: Counting objects:  64% (329/514)\u001b[K\r",
      "remote: Counting objects:  65% (335/514)\u001b[K\r",
      "remote: Counting objects:  66% (340/514)\u001b[K\r",
      "remote: Counting objects:  67% (345/514)\u001b[K\r",
      "remote: Counting objects:  68% (350/514)\u001b[K\r",
      "remote: Counting objects:  69% (355/514)\u001b[K\r",
      "remote: Counting objects:  70% (360/514)\u001b[K\r",
      "remote: Counting objects:  71% (365/514)\u001b[K\r",
      "remote: Counting objects:  72% (371/514)\u001b[K\r",
      "remote: Counting objects:  73% (376/514)\u001b[K\r",
      "remote: Counting objects:  74% (381/514)\u001b[K\r",
      "remote: Counting objects:  75% (386/514)\u001b[K\r",
      "remote: Counting objects:  76% (391/514)\u001b[K\r",
      "remote: Counting objects:  77% (396/514)\u001b[K\r",
      "remote: Counting objects:  78% (401/514)\u001b[K\r",
      "remote: Counting objects:  79% (407/514)\u001b[K\r",
      "remote: Counting objects:  80% (412/514)\u001b[K\r",
      "remote: Counting objects:  81% (417/514)\u001b[K\r",
      "remote: Counting objects:  82% (422/514)\u001b[K\r",
      "remote: Counting objects:  83% (427/514)\u001b[K\r",
      "remote: Counting objects:  84% (432/514)\u001b[K\r",
      "remote: Counting objects:  85% (437/514)\u001b[K\r",
      "remote: Counting objects:  86% (443/514)\u001b[K\r",
      "remote: Counting objects:  87% (448/514)\u001b[K\r",
      "remote: Counting objects:  88% (453/514)\u001b[K\r",
      "remote: Counting objects:  89% (458/514)\u001b[K\r",
      "remote: Counting objects:  90% (463/514)\u001b[K\r",
      "remote: Counting objects:  91% (468/514)\u001b[K\r",
      "remote: Counting objects:  92% (473/514)\u001b[K\r",
      "remote: Counting objects:  93% (479/514)\u001b[K\r",
      "remote: Counting objects:  94% (484/514)\u001b[K\r",
      "remote: Counting objects:  95% (489/514)\u001b[K\r",
      "remote: Counting objects:  96% (494/514)\u001b[K\r",
      "remote: Counting objects:  97% (499/514)\u001b[K\r",
      "remote: Counting objects:  98% (504/514)\u001b[K\r",
      "remote: Counting objects:  99% (509/514)\u001b[K\r",
      "remote: Counting objects: 100% (514/514)\u001b[K\r",
      "remote: Counting objects: 100% (514/514), done.\u001b[K\r\n",
      "remote: Compressing objects:   0% (1/307)\u001b[K\r",
      "remote: Compressing objects:   1% (4/307)\u001b[K\r",
      "remote: Compressing objects:   2% (7/307)\u001b[K\r",
      "remote: Compressing objects:   3% (10/307)\u001b[K\r",
      "remote: Compressing objects:   4% (13/307)\u001b[K\r",
      "remote: Compressing objects:   5% (16/307)\u001b[K\r",
      "remote: Compressing objects:   6% (19/307)\u001b[K\r",
      "remote: Compressing objects:   7% (22/307)\u001b[K\r",
      "remote: Compressing objects:   8% (25/307)\u001b[K\r",
      "remote: Compressing objects:   9% (28/307)\u001b[K\r",
      "remote: Compressing objects:  10% (31/307)\u001b[K\r",
      "remote: Compressing objects:  11% (34/307)\u001b[K\r",
      "remote: Compressing objects:  12% (37/307)\u001b[K\r",
      "remote: Compressing objects:  13% (40/307)\u001b[K\r",
      "remote: Compressing objects:  14% (43/307)\u001b[K\r",
      "remote: Compressing objects:  15% (47/307)\u001b[K\r",
      "remote: Compressing objects:  16% (50/307)\u001b[K\r",
      "remote: Compressing objects:  17% (53/307)\u001b[K\r",
      "remote: Compressing objects:  18% (56/307)\u001b[K\r",
      "remote: Compressing objects:  19% (59/307)\u001b[K\r",
      "remote: Compressing objects:  20% (62/307)\u001b[K\r",
      "remote: Compressing objects:  21% (65/307)\u001b[K\r",
      "remote: Compressing objects:  22% (68/307)\u001b[K\r",
      "remote: Compressing objects:  23% (71/307)\u001b[K\r",
      "remote: Compressing objects:  24% (74/307)\u001b[K\r",
      "remote: Compressing objects:  25% (77/307)\u001b[K\r",
      "remote: Compressing objects:  26% (80/307)\u001b[K\r",
      "remote: Compressing objects:  27% (83/307)\u001b[K\r",
      "remote: Compressing objects:  28% (86/307)\u001b[K\r",
      "remote: Compressing objects:  29% (90/307)\u001b[K\r"
     ]
    },
    {
     "name": "stdout",
     "output_type": "stream",
     "text": [
      "remote: Compressing objects:  30% (93/307)\u001b[K\r",
      "remote: Compressing objects:  31% (96/307)\u001b[K\r",
      "remote: Compressing objects:  32% (99/307)\u001b[K\r",
      "remote: Compressing objects:  33% (102/307)\u001b[K\r",
      "remote: Compressing objects:  34% (105/307)\u001b[K\r",
      "remote: Compressing objects:  35% (108/307)\u001b[K\r",
      "remote: Compressing objects:  36% (111/307)\u001b[K\r",
      "remote: Compressing objects:  37% (114/307)\u001b[K\r",
      "remote: Compressing objects:  38% (117/307)\u001b[K\r",
      "remote: Compressing objects:  39% (120/307)\u001b[K\r",
      "remote: Compressing objects:  40% (123/307)\u001b[K\r",
      "remote: Compressing objects:  41% (126/307)\u001b[K\r",
      "remote: Compressing objects:  42% (129/307)\u001b[K\r",
      "remote: Compressing objects:  43% (133/307)\u001b[K\r",
      "remote: Compressing objects:  44% (136/307)\u001b[K\r",
      "remote: Compressing objects:  45% (139/307)\u001b[K\r",
      "remote: Compressing objects:  46% (142/307)\u001b[K\r",
      "remote: Compressing objects:  47% (145/307)\u001b[K\r",
      "remote: Compressing objects:  48% (148/307)\u001b[K\r",
      "remote: Compressing objects:  49% (151/307)\u001b[K\r",
      "remote: Compressing objects:  50% (154/307)\u001b[K\r",
      "remote: Compressing objects:  51% (157/307)\u001b[K\r",
      "remote: Compressing objects:  52% (160/307)\u001b[K\r",
      "remote: Compressing objects:  53% (163/307)\u001b[K\r",
      "remote: Compressing objects:  54% (166/307)\u001b[K\r",
      "remote: Compressing objects:  55% (169/307)\u001b[K\r",
      "remote: Compressing objects:  56% (172/307)\u001b[K\r",
      "remote: Compressing objects:  57% (175/307)\u001b[K\r",
      "remote: Compressing objects:  58% (179/307)\u001b[K\r",
      "remote: Compressing objects:  59% (182/307)\u001b[K\r",
      "remote: Compressing objects:  60% (185/307)\u001b[K\r",
      "remote: Compressing objects:  61% (188/307)\u001b[K\r",
      "remote: Compressing objects:  62% (191/307)\u001b[K\r",
      "remote: Compressing objects:  63% (194/307)\u001b[K\r",
      "remote: Compressing objects:  64% (197/307)\u001b[K\r",
      "remote: Compressing objects:  65% (200/307)\u001b[K\r",
      "remote: Compressing objects:  66% (203/307)\u001b[K\r",
      "remote: Compressing objects:  67% (206/307)\u001b[K\r",
      "remote: Compressing objects:  68% (209/307)\u001b[K\r",
      "remote: Compressing objects:  69% (212/307)\u001b[K\r",
      "remote: Compressing objects:  70% (215/307)\u001b[K\r",
      "remote: Compressing objects:  71% (218/307)\u001b[K\r",
      "remote: Compressing objects:  72% (222/307)\u001b[K\r",
      "remote: Compressing objects:  73% (225/307)\u001b[K\r",
      "remote: Compressing objects:  74% (228/307)\u001b[K\r",
      "remote: Compressing objects:  75% (231/307)\u001b[K\r",
      "remote: Compressing objects:  76% (234/307)\u001b[K\r",
      "remote: Compressing objects:  77% (237/307)\u001b[K\r",
      "remote: Compressing objects:  78% (240/307)\u001b[K\r",
      "remote: Compressing objects:  79% (243/307)\u001b[K\r",
      "remote: Compressing objects:  80% (246/307)\u001b[K\r",
      "remote: Compressing objects:  81% (249/307)\u001b[K\r",
      "remote: Compressing objects:  82% (252/307)\u001b[K\r",
      "remote: Compressing objects:  83% (255/307)\u001b[K\r",
      "remote: Compressing objects:  84% (258/307)\u001b[K\r",
      "remote: Compressing objects:  85% (261/307)\u001b[K\r",
      "remote: Compressing objects:  86% (265/307)\u001b[K\r",
      "remote: Compressing objects:  87% (268/307)\u001b[K\r",
      "remote: Compressing objects:  88% (271/307)\u001b[K\r",
      "remote: Compressing objects:  89% (274/307)\u001b[K\r",
      "remote: Compressing objects:  90% (277/307)\u001b[K\r",
      "remote: Compressing objects:  91% (280/307)\u001b[K\r",
      "remote: Compressing objects:  92% (283/307)\u001b[K\r",
      "remote: Compressing objects:  93% (286/307)\u001b[K\r",
      "remote: Compressing objects:  94% (289/307)\u001b[K\r",
      "remote: Compressing objects:  95% (292/307)\u001b[K\r",
      "remote: Compressing objects:  96% (295/307)\u001b[K\r",
      "remote: Compressing objects:  97% (298/307)\u001b[K\r",
      "remote: Compressing objects:  98% (301/307)\u001b[K\r",
      "remote: Compressing objects:  99% (304/307)\u001b[K\r",
      "remote: Compressing objects: 100% (307/307)\u001b[K\r",
      "remote: Compressing objects: 100% (307/307), done.\u001b[K\r\n",
      "Receiving objects:   0% (1/28093)   \r"
     ]
    },
    {
     "name": "stdout",
     "output_type": "stream",
     "text": [
      "Receiving objects:   1% (281/28093)   \r"
     ]
    },
    {
     "name": "stdout",
     "output_type": "stream",
     "text": [
      "Receiving objects:   2% (562/28093)   \r",
      "Receiving objects:   3% (843/28093)   \r"
     ]
    },
    {
     "name": "stdout",
     "output_type": "stream",
     "text": [
      "Receiving objects:   4% (1124/28093)   \r",
      "Receiving objects:   5% (1405/28093)   \r",
      "Receiving objects:   6% (1686/28093)   \r"
     ]
    },
    {
     "name": "stdout",
     "output_type": "stream",
     "text": [
      "Receiving objects:   7% (1967/28093)   \r",
      "Receiving objects:   8% (2248/28093)   \r",
      "Receiving objects:   9% (2529/28093)   \r",
      "Receiving objects:  10% (2810/28093)   \r",
      "Receiving objects:  11% (3091/28093)   \r",
      "Receiving objects:  12% (3372/28093)   \r",
      "Receiving objects:  13% (3653/28093)   \r",
      "Receiving objects:  14% (3934/28093)   \r",
      "Receiving objects:  15% (4214/28093)   \r"
     ]
    },
    {
     "name": "stdout",
     "output_type": "stream",
     "text": [
      "Receiving objects:  16% (4495/28093)   \r"
     ]
    },
    {
     "name": "stdout",
     "output_type": "stream",
     "text": [
      "Receiving objects:  17% (4776/28093)   \r",
      "Receiving objects:  18% (5057/28093)   \r",
      "Receiving objects:  19% (5338/28093)   \r"
     ]
    },
    {
     "name": "stdout",
     "output_type": "stream",
     "text": [
      "Receiving objects:  20% (5619/28093)   \r",
      "Receiving objects:  21% (5900/28093)   \r",
      "Receiving objects:  22% (6181/28093)   \r",
      "Receiving objects:  23% (6462/28093)   \r",
      "Receiving objects:  24% (6743/28093)   \r",
      "Receiving objects:  25% (7024/28093)   \r"
     ]
    },
    {
     "name": "stdout",
     "output_type": "stream",
     "text": [
      "Receiving objects:  26% (7305/28093)   \r",
      "Receiving objects:  27% (7586/28093)   \r",
      "Receiving objects:  28% (7867/28093)   \r",
      "Receiving objects:  29% (8147/28093)   \r",
      "Receiving objects:  30% (8428/28093)   \r",
      "Receiving objects:  31% (8709/28093)   \r",
      "Receiving objects:  32% (8990/28093)   \r",
      "Receiving objects:  33% (9271/28093)   \r",
      "Receiving objects:  34% (9552/28093)   \r",
      "Receiving objects:  35% (9833/28093)   \r",
      "Receiving objects:  36% (10114/28093)   \r",
      "Receiving objects:  37% (10395/28093)   \r",
      "Receiving objects:  38% (10676/28093)   \r",
      "Receiving objects:  39% (10957/28093)   \r",
      "Receiving objects:  40% (11238/28093)   \r",
      "Receiving objects:  41% (11519/28093)   \r"
     ]
    },
    {
     "name": "stdout",
     "output_type": "stream",
     "text": [
      "Receiving objects:  42% (11800/28093)   \r",
      "Receiving objects:  43% (12080/28093)   \r",
      "Receiving objects:  44% (12361/28093)   \r",
      "Receiving objects:  45% (12642/28093)   \r",
      "Receiving objects:  46% (12923/28093)   \r",
      "Receiving objects:  47% (13204/28093)   \r",
      "Receiving objects:  48% (13485/28093)   \r",
      "Receiving objects:  49% (13766/28093)   \r",
      "Receiving objects:  50% (14047/28093)   \r",
      "Receiving objects:  51% (14328/28093)   \r",
      "Receiving objects:  52% (14609/28093)   \r",
      "Receiving objects:  53% (14890/28093)   \r",
      "Receiving objects:  54% (15171/28093)   \r",
      "Receiving objects:  55% (15452/28093)   \r",
      "Receiving objects:  56% (15733/28093)   \r",
      "Receiving objects:  57% (16014/28093)   \r",
      "Receiving objects:  58% (16294/28093)   \r",
      "Receiving objects:  59% (16575/28093)   \r",
      "Receiving objects:  60% (16856/28093)   \r"
     ]
    },
    {
     "name": "stdout",
     "output_type": "stream",
     "text": [
      "Receiving objects:  61% (17137/28093)   \r",
      "Receiving objects:  62% (17418/28093)   \r",
      "Receiving objects:  63% (17699/28093)   \r",
      "Receiving objects:  64% (17980/28093)   \r",
      "Receiving objects:  65% (18261/28093)   \r",
      "Receiving objects:  66% (18542/28093)   \r",
      "Receiving objects:  67% (18823/28093)   \r",
      "Receiving objects:  68% (19104/28093)   \r",
      "Receiving objects:  69% (19385/28093)   \r",
      "Receiving objects:  70% (19666/28093)   \r",
      "Receiving objects:  71% (19947/28093)   \r",
      "Receiving objects:  72% (20227/28093), 9.80 MiB | 19.59 MiB/s   \r",
      "Receiving objects:  73% (20508/28093), 9.80 MiB | 19.59 MiB/s   \r",
      "Receiving objects:  74% (20789/28093), 9.80 MiB | 19.59 MiB/s   \r",
      "Receiving objects:  75% (21070/28093), 9.80 MiB | 19.59 MiB/s   \r",
      "Receiving objects:  76% (21351/28093), 9.80 MiB | 19.59 MiB/s   \r",
      "Receiving objects:  77% (21632/28093), 9.80 MiB | 19.59 MiB/s   \r",
      "Receiving objects:  78% (21913/28093), 9.80 MiB | 19.59 MiB/s   \r",
      "Receiving objects:  79% (22194/28093), 9.80 MiB | 19.59 MiB/s   \r",
      "Receiving objects:  80% (22475/28093), 9.80 MiB | 19.59 MiB/s   \r",
      "Receiving objects:  81% (22756/28093), 9.80 MiB | 19.59 MiB/s   \r",
      "Receiving objects:  82% (23037/28093), 9.80 MiB | 19.59 MiB/s   \r",
      "Receiving objects:  83% (23318/28093), 9.80 MiB | 19.59 MiB/s   \r",
      "Receiving objects:  84% (23599/28093), 9.80 MiB | 19.59 MiB/s   \r",
      "Receiving objects:  85% (23880/28093), 9.80 MiB | 19.59 MiB/s   \r"
     ]
    },
    {
     "name": "stdout",
     "output_type": "stream",
     "text": [
      "Receiving objects:  86% (24160/28093), 9.80 MiB | 19.59 MiB/s   \r",
      "Receiving objects:  87% (24441/28093), 9.80 MiB | 19.59 MiB/s   \r",
      "Receiving objects:  88% (24722/28093), 9.80 MiB | 19.59 MiB/s   \r",
      "Receiving objects:  89% (25003/28093), 9.80 MiB | 19.59 MiB/s   \r",
      "Receiving objects:  90% (25284/28093), 9.80 MiB | 19.59 MiB/s   \r",
      "Receiving objects:  91% (25565/28093), 9.80 MiB | 19.59 MiB/s   \r",
      "Receiving objects:  92% (25846/28093), 9.80 MiB | 19.59 MiB/s   \r",
      "Receiving objects:  93% (26127/28093), 9.80 MiB | 19.59 MiB/s   \r",
      "Receiving objects:  94% (26408/28093), 9.80 MiB | 19.59 MiB/s   \r",
      "Receiving objects:  95% (26689/28093), 9.80 MiB | 19.59 MiB/s   \r",
      "Receiving objects:  96% (26970/28093), 9.80 MiB | 19.59 MiB/s   \r",
      "Receiving objects:  97% (27251/28093), 9.80 MiB | 19.59 MiB/s   \r",
      "Receiving objects:  98% (27532/28093), 9.80 MiB | 19.59 MiB/s   \r",
      "Receiving objects:  99% (27813/28093), 9.80 MiB | 19.59 MiB/s   \r",
      "remote: Total 28093 (delta 251), reused 392 (delta 196), pack-reused 27579\u001b[K\r\n",
      "Receiving objects: 100% (28093/28093), 9.80 MiB | 19.59 MiB/s   \r",
      "Receiving objects: 100% (28093/28093), 11.83 MiB | 20.70 MiB/s, done.\r\n",
      "Resolving deltas:   0% (0/21066)   \r",
      "Resolving deltas:   1% (213/21066)   \r",
      "Resolving deltas:   2% (422/21066)   \r"
     ]
    },
    {
     "name": "stdout",
     "output_type": "stream",
     "text": [
      "Resolving deltas:   3% (643/21066)   \r",
      "Resolving deltas:   4% (844/21066)   \r",
      "Resolving deltas:   5% (1054/21066)   \r",
      "Resolving deltas:   6% (1266/21066)   \r",
      "Resolving deltas:   7% (1485/21066)   \r",
      "Resolving deltas:   8% (1693/21066)   \r",
      "Resolving deltas:   9% (1908/21066)   \r",
      "Resolving deltas:  10% (2107/21066)   \r",
      "Resolving deltas:  11% (2349/21066)   \r"
     ]
    },
    {
     "name": "stdout",
     "output_type": "stream",
     "text": [
      "Resolving deltas:  12% (2529/21066)   \r",
      "Resolving deltas:  13% (2739/21066)   \r",
      "Resolving deltas:  14% (2950/21066)   \r",
      "Resolving deltas:  15% (3165/21066)   \r",
      "Resolving deltas:  16% (3379/21066)   \r",
      "Resolving deltas:  17% (3623/21066)   \r",
      "Resolving deltas:  18% (3824/21066)   \r"
     ]
    },
    {
     "name": "stdout",
     "output_type": "stream",
     "text": [
      "Resolving deltas:  19% (4015/21066)   \r",
      "Resolving deltas:  20% (4232/21066)   \r",
      "Resolving deltas:  21% (4428/21066)   \r",
      "Resolving deltas:  22% (4661/21066)   \r",
      "Resolving deltas:  23% (4846/21066)   \r",
      "Resolving deltas:  24% (5077/21066)   \r",
      "Resolving deltas:  25% (5284/21066)   \r",
      "Resolving deltas:  26% (5483/21066)   \r",
      "Resolving deltas:  27% (5689/21066)   \r",
      "Resolving deltas:  28% (5908/21066)   \r"
     ]
    },
    {
     "name": "stdout",
     "output_type": "stream",
     "text": [
      "Resolving deltas:  29% (6121/21066)   \r",
      "Resolving deltas:  30% (6338/21066)   \r",
      "Resolving deltas:  31% (6537/21066)   \r",
      "Resolving deltas:  32% (6823/21066)   \r",
      "Resolving deltas:  33% (6959/21066)   \r",
      "Resolving deltas:  34% (7193/21066)   \r",
      "Resolving deltas:  35% (7447/21066)   \r",
      "Resolving deltas:  36% (7624/21066)   \r",
      "Resolving deltas:  37% (7813/21066)   \r",
      "Resolving deltas:  38% (8016/21066)   \r",
      "Resolving deltas:  39% (8222/21066)   \r",
      "Resolving deltas:  40% (8427/21066)   \r"
     ]
    },
    {
     "name": "stdout",
     "output_type": "stream",
     "text": [
      "Resolving deltas:  41% (8691/21066)   \r",
      "Resolving deltas:  42% (8850/21066)   \r",
      "Resolving deltas:  43% (9173/21066)   \r",
      "Resolving deltas:  44% (9302/21066)   \r",
      "Resolving deltas:  45% (9487/21066)   \r",
      "Resolving deltas:  46% (9699/21066)   \r",
      "Resolving deltas:  47% (9973/21066)   \r",
      "Resolving deltas:  48% (10269/21066)   \r",
      "Resolving deltas:  49% (10441/21066)   \r",
      "Resolving deltas:  50% (10537/21066)   \r",
      "Resolving deltas:  51% (10748/21066)   \r",
      "Resolving deltas:  52% (10962/21066)   \r",
      "Resolving deltas:  53% (11183/21066)   \r",
      "Resolving deltas:  54% (11381/21066)   \r",
      "Resolving deltas:  55% (11635/21066)   \r",
      "Resolving deltas:  56% (11811/21066)   \r",
      "Resolving deltas:  57% (12016/21066)   \r"
     ]
    },
    {
     "name": "stdout",
     "output_type": "stream",
     "text": [
      "Resolving deltas:  58% (12223/21066)   \r",
      "Resolving deltas:  59% (12445/21066)   \r",
      "Resolving deltas:  60% (12657/21066)   \r",
      "Resolving deltas:  61% (12877/21066)   \r",
      "Resolving deltas:  62% (13066/21066)   \r",
      "Resolving deltas:  63% (13294/21066)   \r",
      "Resolving deltas:  64% (13612/21066)   \r",
      "Resolving deltas:  65% (13717/21066)   \r",
      "Resolving deltas:  66% (13911/21066)   \r",
      "Resolving deltas:  67% (14116/21066)   \r",
      "Resolving deltas:  68% (14332/21066)   \r",
      "Resolving deltas:  69% (14561/21066)   \r",
      "Resolving deltas:  70% (14769/21066)   \r",
      "Resolving deltas:  71% (14965/21066)   \r",
      "Resolving deltas:  72% (15206/21066)   \r",
      "Resolving deltas:  73% (15385/21066)   \r",
      "Resolving deltas:  75% (15810/21066)   \r",
      "Resolving deltas:  76% (16097/21066)   \r"
     ]
    },
    {
     "name": "stdout",
     "output_type": "stream",
     "text": [
      "Resolving deltas:  77% (16313/21066)   \r",
      "Resolving deltas:  78% (16437/21066)   \r",
      "Resolving deltas:  79% (16643/21066)   \r",
      "Resolving deltas:  80% (16866/21066)   \r",
      "Resolving deltas:  81% (17180/21066)   \r",
      "Resolving deltas:  82% (17279/21066)   \r",
      "Resolving deltas:  83% (17496/21066)   \r",
      "Resolving deltas:  84% (17697/21066)   \r",
      "Resolving deltas:  85% (17907/21066)   \r",
      "Resolving deltas:  86% (18145/21066)   \r",
      "Resolving deltas:  87% (18332/21066)   \r",
      "Resolving deltas:  88% (18539/21066)   \r",
      "Resolving deltas:  89% (18754/21066)   \r",
      "Resolving deltas:  90% (18965/21066)   \r",
      "Resolving deltas:  91% (19182/21066)   \r",
      "Resolving deltas:  92% (19383/21066)   \r",
      "Resolving deltas:  93% (19633/21066)   \r",
      "Resolving deltas:  94% (19808/21066)   \r",
      "Resolving deltas:  95% (20015/21066)   \r",
      "Resolving deltas:  96% (20226/21066)   \r",
      "Resolving deltas:  97% (20435/21066)   \r"
     ]
    },
    {
     "name": "stdout",
     "output_type": "stream",
     "text": [
      "Resolving deltas:  98% (20646/21066)   \r",
      "Resolving deltas:  99% (20857/21066)   \r",
      "Resolving deltas: 100% (21066/21066)   \r",
      "Resolving deltas: 100% (21066/21066), done.\r\n"
     ]
    }
   ],
   "source": [
    "!git clone https://github.com/pytorch/fairseq/"
   ]
  },
  {
   "cell_type": "code",
   "execution_count": 4,
   "id": "hundred-cherry",
   "metadata": {
    "execution": {
     "iopub.execute_input": "2021-05-25T21:27:12.665931Z",
     "iopub.status.busy": "2021-05-25T21:27:12.665016Z",
     "iopub.status.idle": "2021-05-25T21:27:12.669601Z",
     "shell.execute_reply": "2021-05-25T21:27:12.670327Z",
     "shell.execute_reply.started": "2021-05-25T21:21:22.396476Z"
    },
    "papermill": {
     "duration": 0.025186,
     "end_time": "2021-05-25T21:27:12.670566",
     "exception": false,
     "start_time": "2021-05-25T21:27:12.645380",
     "status": "completed"
    },
    "tags": []
   },
   "outputs": [
    {
     "name": "stdout",
     "output_type": "stream",
     "text": [
      "/tmp/fairseq/examples/wav2vec/unsupervised\n"
     ]
    }
   ],
   "source": [
    "%cd fairseq/examples/wav2vec/unsupervised"
   ]
  },
  {
   "cell_type": "code",
   "execution_count": 5,
   "id": "broke-magazine",
   "metadata": {
    "execution": {
     "iopub.execute_input": "2021-05-25T21:27:12.710636Z",
     "iopub.status.busy": "2021-05-25T21:27:12.709860Z",
     "iopub.status.idle": "2021-05-25T21:27:14.009418Z",
     "shell.execute_reply": "2021-05-25T21:27:14.008822Z",
     "shell.execute_reply.started": "2021-05-25T21:21:25.181394Z"
    },
    "papermill": {
     "duration": 1.323604,
     "end_time": "2021-05-25T21:27:14.009577",
     "exception": false,
     "start_time": "2021-05-25T21:27:12.685973",
     "status": "completed"
    },
    "tags": []
   },
   "outputs": [
    {
     "name": "stdout",
     "output_type": "stream",
     "text": [
      "Cloning into 'rVADfast'...\r\n"
     ]
    },
    {
     "name": "stdout",
     "output_type": "stream",
     "text": [
      "remote: Enumerating objects: 22, done.\u001b[K\r\n",
      "remote: Counting objects:   4% (1/22)\u001b[K\r",
      "remote: Counting objects:   9% (2/22)\u001b[K\r",
      "remote: Counting objects:  13% (3/22)\u001b[K\r",
      "remote: Counting objects:  18% (4/22)\u001b[K\r",
      "remote: Counting objects:  22% (5/22)\u001b[K\r",
      "remote: Counting objects:  27% (6/22)\u001b[K\r",
      "remote: Counting objects:  31% (7/22)\u001b[K\r",
      "remote: Counting objects:  36% (8/22)\u001b[K\r",
      "remote: Counting objects:  40% (9/22)\u001b[K\r",
      "remote: Counting objects:  45% (10/22)\u001b[K\r",
      "remote: Counting objects:  50% (11/22)\u001b[K\r"
     ]
    },
    {
     "name": "stdout",
     "output_type": "stream",
     "text": [
      "remote: Counting objects:  54% (12/22)\u001b[K\r",
      "remote: Counting objects:  59% (13/22)\u001b[K\r",
      "remote: Counting objects:  63% (14/22)\u001b[K\r",
      "remote: Counting objects:  68% (15/22)\u001b[K\r",
      "remote: Counting objects:  72% (16/22)\u001b[K\r",
      "remote: Counting objects:  77% (17/22)\u001b[K\r",
      "remote: Counting objects:  81% (18/22)\u001b[K\r",
      "remote: Counting objects:  86% (19/22)\u001b[K\r",
      "remote: Counting objects:  90% (20/22)\u001b[K\r",
      "remote: Counting objects:  95% (21/22)\u001b[K\r",
      "remote: Counting objects: 100% (22/22)\u001b[K\r",
      "remote: Counting objects: 100% (22/22), done.\u001b[K\r\n",
      "remote: Compressing objects:   4% (1/22)\u001b[K\r",
      "remote: Compressing objects:   9% (2/22)\u001b[K\r",
      "remote: Compressing objects:  13% (3/22)\u001b[K\r",
      "remote: Compressing objects:  18% (4/22)\u001b[K\r",
      "remote: Compressing objects:  22% (5/22)\u001b[K\r",
      "remote: Compressing objects:  27% (6/22)\u001b[K\r",
      "remote: Compressing objects:  31% (7/22)\u001b[K\r",
      "remote: Compressing objects:  36% (8/22)\u001b[K\r",
      "remote: Compressing objects:  40% (9/22)\u001b[K\r",
      "remote: Compressing objects:  45% (10/22)\u001b[K\r",
      "remote: Compressing objects:  50% (11/22)\u001b[K\r",
      "remote: Compressing objects:  54% (12/22)\u001b[K\r",
      "remote: Compressing objects:  59% (13/22)\u001b[K\r",
      "remote: Compressing objects:  63% (14/22)\u001b[K\r",
      "remote: Compressing objects:  68% (15/22)\u001b[K\r",
      "remote: Compressing objects:  72% (16/22)\u001b[K\r",
      "remote: Compressing objects:  77% (17/22)\u001b[K\r",
      "remote: Compressing objects:  81% (18/22)\u001b[K\r",
      "remote: Compressing objects:  86% (19/22)\u001b[K\r",
      "remote: Compressing objects:  90% (20/22)\u001b[K\r",
      "remote: Compressing objects:  95% (21/22)\u001b[K\r",
      "remote: Compressing objects: 100% (22/22)\u001b[K\r",
      "remote: Compressing objects: 100% (22/22), done.\u001b[K\r\n",
      "remote: Total 22 (delta 5), reused 2 (delta 0), pack-reused 0\u001b[K\r\n",
      "Unpacking objects:   4% (1/22)   \r",
      "Unpacking objects:   9% (2/22)   \r",
      "Unpacking objects:  13% (3/22)   \r",
      "Unpacking objects:  18% (4/22)   \r",
      "Unpacking objects:  22% (5/22)   \r",
      "Unpacking objects:  27% (6/22)   \r",
      "Unpacking objects:  31% (7/22)   \r",
      "Unpacking objects:  36% (8/22)   \r",
      "Unpacking objects:  40% (9/22)   \r",
      "Unpacking objects:  45% (10/22)   \r",
      "Unpacking objects:  50% (11/22)   \r",
      "Unpacking objects:  54% (12/22)   \r",
      "Unpacking objects:  59% (13/22)   \r",
      "Unpacking objects:  63% (14/22)   \r",
      "Unpacking objects:  68% (15/22)   \r",
      "Unpacking objects:  72% (16/22)   \r",
      "Unpacking objects:  77% (17/22)   \r",
      "Unpacking objects:  81% (18/22)   \r",
      "Unpacking objects:  86% (19/22)   \r",
      "Unpacking objects:  90% (20/22)   \r",
      "Unpacking objects:  95% (21/22)   \r",
      "Unpacking objects: 100% (22/22)   \r",
      "Unpacking objects: 100% (22/22), done.\r\n"
     ]
    }
   ],
   "source": [
    "!git clone https://github.com/zhenghuatan/rVADfast"
   ]
  },
  {
   "cell_type": "code",
   "execution_count": 6,
   "id": "collaborative-suspect",
   "metadata": {
    "execution": {
     "iopub.execute_input": "2021-05-25T21:27:14.052470Z",
     "iopub.status.busy": "2021-05-25T21:27:14.048174Z",
     "iopub.status.idle": "2021-05-25T21:27:15.494247Z",
     "shell.execute_reply": "2021-05-25T21:27:15.493491Z",
     "shell.execute_reply.started": "2021-05-25T21:21:33.463337Z"
    },
    "papermill": {
     "duration": 1.468415,
     "end_time": "2021-05-25T21:27:15.494405",
     "exception": false,
     "start_time": "2021-05-25T21:27:14.025990",
     "status": "completed"
    },
    "tags": []
   },
   "outputs": [],
   "source": [
    "!cat scripts/vads.py|sed -e 's!/path/to/rVADfast_py_2.0!/tmp/fairseq/examples/wav2vec/unsupervised/rVADfast!' > tmp\n",
    "!mv tmp scripts/vads.py"
   ]
  },
  {
   "cell_type": "code",
   "execution_count": null,
   "id": "pending-gospel",
   "metadata": {
    "execution": {
     "iopub.execute_input": "2021-05-25T11:52:37.525452Z",
     "iopub.status.busy": "2021-05-25T11:52:37.525044Z"
    },
    "papermill": {
     "duration": null,
     "end_time": null,
     "exception": false,
     "start_time": "2021-05-25T21:27:15.510484",
     "status": "running"
    },
    "tags": []
   },
   "outputs": [],
   "source": [
    "!python scripts/vads.py /kaggle/input/fork-of-wav2vec-u-cv-swedish-tsv/train.tsv /kaggle/working/train.vads"
   ]
  }
 ],
 "metadata": {
  "kernelspec": {
   "display_name": "Python 3",
   "language": "python",
   "name": "python3"
  },
  "language_info": {
   "codemirror_mode": {
    "name": "ipython",
    "version": 3
   },
   "file_extension": ".py",
   "mimetype": "text/x-python",
   "name": "python",
   "nbconvert_exporter": "python",
   "pygments_lexer": "ipython3",
   "version": "3.6.4"
  },
  "papermill": {
   "default_parameters": {},
   "duration": null,
   "end_time": null,
   "environment_variables": {},
   "exception": null,
   "input_path": "__notebook__.ipynb",
   "output_path": "__notebook__.ipynb",
   "parameters": {},
   "start_time": "2021-05-25T21:27:00.655085",
   "version": "2.3.3"
  }
 },
 "nbformat": 4,
 "nbformat_minor": 5
}