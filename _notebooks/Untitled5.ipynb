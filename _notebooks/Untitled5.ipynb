{
 "cells": [
  {
   "cell_type": "code",
   "execution_count": 1,
   "id": "c8053eae",
   "metadata": {},
   "outputs": [],
   "source": [
    "import requests\n",
    "from bs4 import BeautifulSoup"
   ]
  },
  {
   "cell_type": "code",
   "execution_count": 40,
   "id": "2ab3474d",
   "metadata": {},
   "outputs": [],
   "source": [
    "_BASE = 'https://doegen.ie/counties'\n",
    "def do_get(url):\n",
    "    r = requests.get(url, headers = {'User-agent': 'Mozilla/5.0'})\n",
    "    if r.status_code != 200:\n",
    "        raise Exception(\"Failed to open landing page\")\n",
    "    return r.content"
   ]
  },
  {
   "cell_type": "code",
   "execution_count": 10,
   "id": "4afc24ec",
   "metadata": {},
   "outputs": [],
   "source": [
    "soup = BeautifulSoup(do_get(_BASE), 'html.parser')"
   ]
  },
  {
   "cell_type": "code",
   "execution_count": 26,
   "id": "2c02530b",
   "metadata": {},
   "outputs": [],
   "source": [
    "counties = soup.find('ul', {'class': 'vocabindex'}).find_all('li')"
   ]
  },
  {
   "cell_type": "code",
   "execution_count": 37,
   "id": "7d36bb0c",
   "metadata": {},
   "outputs": [],
   "source": [
    "pages = []\n",
    "for county in counties:\n",
    "    item = {}\n",
    "    anchor = county.find('a')\n",
    "    href = anchor['href']\n",
    "    item['link'] = f'https://doegen.ie{href}'\n",
    "    if anchor.find('span').text.strip() != '(0)':\n",
    "        item['county'] = anchor.text.split()[1]\n",
    "        pages.append(item)"
   ]
  },
  {
   "cell_type": "code",
   "execution_count": 38,
   "id": "06a31289",
   "metadata": {},
   "outputs": [
    {
     "data": {
      "text/plain": [
       "[{'link': 'https://doegen.ie/taxonomy/term/22012', 'county': 'Antrim'},\n",
       " {'link': 'https://doegen.ie/taxonomy/term/22101', 'county': 'Armagh'},\n",
       " {'link': 'https://doegen.ie/taxonomy/term/22050', 'county': 'Cavan'},\n",
       " {'link': 'https://doegen.ie/taxonomy/term/21566', 'county': 'Clare'},\n",
       " {'link': 'https://doegen.ie/taxonomy/term/21510', 'county': 'Cork'},\n",
       " {'link': 'https://doegen.ie/taxonomy/term/22027', 'county': 'Derry'},\n",
       " {'link': 'https://doegen.ie/taxonomy/term/21979', 'county': 'Donegal'},\n",
       " {'link': 'https://doegen.ie/taxonomy/term/21995', 'county': 'Dublin'},\n",
       " {'link': 'https://doegen.ie/taxonomy/term/21520', 'county': 'Galway'},\n",
       " {'link': 'https://doegen.ie/taxonomy/term/21515', 'county': 'Kerry'},\n",
       " {'link': 'https://doegen.ie/taxonomy/term/21601', 'county': 'Leitrim'},\n",
       " {'link': 'https://doegen.ie/taxonomy/term/21984', 'county': 'Louth'},\n",
       " {'link': 'https://doegen.ie/taxonomy/term/21505', 'county': 'Mayo'},\n",
       " {'link': 'https://doegen.ie/taxonomy/term/21756', 'county': 'Roscommon'},\n",
       " {'link': 'https://doegen.ie/taxonomy/term/21596', 'county': 'Sligo'},\n",
       " {'link': 'https://doegen.ie/taxonomy/term/22074', 'county': 'Tipperary'},\n",
       " {'link': 'https://doegen.ie/taxonomy/term/22079', 'county': 'Tyrone'},\n",
       " {'link': 'https://doegen.ie/taxonomy/term/21528', 'county': 'Waterford'}]"
      ]
     },
     "execution_count": 38,
     "metadata": {},
     "output_type": "execute_result"
    }
   ],
   "source": [
    "pages"
   ]
  },
  {
   "cell_type": "code",
   "execution_count": 58,
   "id": "df7860de",
   "metadata": {},
   "outputs": [],
   "source": [
    "def proc_page(url):\n",
    "    result = {}\n",
    "    html = do_get(url)\n",
    "    soup = BeautifulSoup(html, 'html.parser')\n",
    "    content = soup.find('div', {'id': 'main'}).find('div', {'class': 'content'})\n",
    "    result['transcript'] = content.find('div', id='tei_text')"
   ]
  },
  {
   "cell_type": "code",
   "execution_count": 51,
   "id": "f4bd26e6",
   "metadata": {},
   "outputs": [],
   "source": [
    "def proc_county(item):\n",
    "    content = do_get(item['link'])\n",
    "    soup = BeautifulSoup(content, 'html.parser')\n",
    "    main = soup.find('div', id='main')\n",
    "    nodes = main.find_all('div', {'class': 'node'})\n",
    "    stories = []\n",
    "    for node in nodes:\n",
    "        story = {}\n",
    "        anchor = node.find('a')\n",
    "        story['link'] = f\"https://doegen.ie{anchor['href']}\"\n",
    "        text = anchor.text\n",
    "        if ' - ' in text:\n",
    "            tmp = text.split(' - ')\n",
    "            if len(tmp) == 2:\n",
    "                story['title'] = tmp[0]\n",
    "                story['speaker'] = tmp[1]\n",
    "            else:\n",
    "                story['raw'] = text\n",
    "        else:\n",
    "            story['raw'] = text\n",
    "        stories.append(story)\n",
    "    item['stories'] = stories"
   ]
  },
  {
   "cell_type": "code",
   "execution_count": 52,
   "id": "792db862",
   "metadata": {},
   "outputs": [
    {
     "data": {
      "text/plain": [
       "{'link': 'https://doegen.ie/taxonomy/term/21528',\n",
       " 'county': 'Waterford',\n",
       " 'stories': [{'link': 'https://doegen.ie/LA_1051d3',\n",
       "   'title': 'An bhean phósta',\n",
       "   'speaker': 'Mícheál Turraoin'},\n",
       "  {'link': 'https://doegen.ie/LA_1051d1',\n",
       "   'title': 'An garsún bán',\n",
       "   'speaker': 'Mícheál Turraoin'},\n",
       "  {'link': 'https://doegen.ie/LA_1052d1',\n",
       "   'title': 'An mac scaiptheach (cuid 1)',\n",
       "   'speaker': 'Tomás Ó Corcráin'},\n",
       "  {'link': 'https://doegen.ie/LA_1052d2',\n",
       "   'title': 'An mac scaiptheach (cuid 2)',\n",
       "   'speaker': 'Tomás Ó Corcráin'},\n",
       "  {'link': 'https://doegen.ie/LA_1053d1',\n",
       "   'title': 'An mac scaiptheach (cuid 3)',\n",
       "   'speaker': 'Tomás Ó Corcráin'},\n",
       "  {'link': 'https://doegen.ie/LA_1045d1',\n",
       "   'title': 'An mac scaiptheach',\n",
       "   'speaker': 'Mícheál Ó Cionnfhaolaidh'},\n",
       "  {'link': 'https://doegen.ie/LA_1050d1',\n",
       "   'title': 'An mac scaiptheach',\n",
       "   'speaker': 'Mícheál Turraoin'},\n",
       "  {'link': 'https://doegen.ie/LA_1051d2',\n",
       "   'title': 'Bean an Chárthaigh',\n",
       "   'speaker': 'Mícheál Turraoin'},\n",
       "  {'link': 'https://doegen.ie/LA_1051d4',\n",
       "   'title': 'Bean an doichill',\n",
       "   'speaker': 'Mícheál Turraoin'},\n",
       "  {'link': 'https://doegen.ie/LA_1048',\n",
       "   'title': 'Bríd Gheal Bhán',\n",
       "   'speaker': 'Seán Ó Droma'}]}"
      ]
     },
     "execution_count": 52,
     "metadata": {},
     "output_type": "execute_result"
    }
   ],
   "source": [
    "tmp = {'link': 'https://doegen.ie/taxonomy/term/21528', 'county': 'Waterford'}\n",
    "proc_county(tmp)\n",
    "tmp"
   ]
  },
  {
   "cell_type": "code",
   "execution_count": 59,
   "id": "7b288e1f",
   "metadata": {},
   "outputs": [
    {
     "name": "stdout",
     "output_type": "stream",
     "text": [
      "<div class=\"content\">\n",
      "<audio controls=\"\" height=\"27\" width=\"320\"><source src=\"http://assets.doegen.ie/sound/MP3_versions/aud_Mu3-LA_1051d3u1.mp3\" type=\"audio/mp3\"/><source src=\"http://assets.doegen.ie/sound/ogg_versions/aud_Mu3-LA_1051d3u1.ogg\" type=\"audio/ogg\"/><embed height=\"27\" src=\"http://assets.doegen.ie/sound/MP3_versions/aud_Mu3-LA_1051d3u1.mp3\" width=\"320\"/><br/><a href=\"http://assets.doegen.ie/sound/MP3_versions/aud_Mu3-LA_1051d3u1.mp3\">Play in separate window.</a></audio><br/>\n",
      "<p><b>Recording:</b> <span id=\"mp3download\">[<a href=\"http://www.doegen.ie/fodl.php?id=doegen0:aud_Mu3-LA_1051d3u1&amp;nm=aud_Mu3-LA_1051d3u1&amp;ds=LoDef\">Download audio file</a>]</span>\n",
      "<span id=\"aiffdownload\">[<a href=\"http://www.doegen.ie/fodl.php?id=doegen0:aud_Mu3-LA_1051d3u1&amp;nm=aud_Mu3-LA_1051d3u1&amp;ds=HiDef\">Download AIFF audio file (of processed ‘user’ version)</a>]</span>\n",
      "<span id=\"aiffarchivedownload\">[<a href=\"http://www.doegen.ie/fodl.php?id=doegen0:aud_Mu3-LA_1051d3a1&amp;nm=aud_Mu3-LA_1051d3a1&amp;ds=HiDef\">Download AIFF audio file (of archive version)</a>]</span><br/>\n",
      "<div id=\"tei_text\" xmlns=\"http://www.w3.org/1999/xhtml\" xmlns:tei=\"http://www.tei-c.org/ns/1.0\"><div id=\"transcript\"><h3>Transcript</h3>\n",
      "<p>\n",
      "Ar maidin sa dónaing nuair a dh'osclaíos-sa mo shúile<br/>\n",
      "Agus dh'fhéach mé go dubhachmhar amach ar an spéir<br/>\n",
      "Chuimhnigh mé go brónach ar an saol a bhí romhamsa,<br/>\n",
      "Ná beadh éinne in mo chúram nach<a class=\"ftnt1\" href=\"#note-1\" name=\"anchor-1\">[1]</a> ainnise an tsaoil.<br/>\n",
      "</p>\n",
      "<p>\n",
      "Giobal ná fáithim<a class=\"ftnt1\" href=\"#note-2\" name=\"anchor-2\">[2]</a> ní raibh ar sileadh lem chnámhanna<br/>\n",
      "Ó chuir mé ort an fáinne istigh sa séipéal;<br/>\n",
      "Bhí mo bhróga go galánta agus mo cheirte<a class=\"ftnt1\" href=\"#note-3\" name=\"anchor-3\">[3]</a> go sásta,<br/>\n",
      "Ní náir dom é a rá<a class=\"ftnt1\" href=\"#note-4\" name=\"anchor-4\">[4]</a> leat i\n",
      "láthair an tsaoil.<br/>\n",
      "</p>\n",
      "<p>\n",
      "Mo chreach is mo chráiteacht! Is mór an tsannseáil<a class=\"ftnt1\" href=\"#note-5\" name=\"anchor-5\">[5]</a> dom<br/>\n",
      "Tú bheith 'om dh'fhágaint amáireach ag dul ' dtí ard an tséipéil;<br/>\n",
      "Nuair a chasfadsa, a ghrá ghil, abhaile ar mo gharlaigh<br/>\n",
      "Is dubhach is is cráite é mo scéal,<br/>\n",
      "Féachaint ar mo gharlaigh ag tabhairt a n-aghaidh ar gach áit uaim<br/>\n",
      "Ar nós éanlach<a class=\"ftnt1\" href=\"#note-6\" name=\"anchor-6\">[6]</a> an aeir.<br/>\n",
      "</p>\n",
      "</div><div id=\"translation\"><h3>Translation</h3>\n",
      "<p>\n",
      "When I opened my eyes this morning at daybreak<br/>\n",
      "And I sorrowfully looked out at the sky<br/>\n",
      "I thought with sadness about the life ahead of me,<br/>\n",
      "With nothing to concern me but the misery of life.<br/>\n",
      "</p>\n",
      "<p>\n",
      "I have worn no raggy or shabby clothes<br/>\n",
      "Since I placed the ring on you in the church;<br/>\n",
      "My shoes were stylish and my clothes refined,<br/>\n",
      "I am proud to say it to you in the presence of all.<br/>\n",
      "</p>\n",
      "<p>\n",
      "My ruin and sorrow! What a change it is for me<br/>\n",
      "Having you leave me tomorrow and going to the church hill (?);<br/>\n",
      "When I return, my darling, home to my children<br/>\n",
      "Dark and sorrowful is my plight,<br/>\n",
      "Looking at my children scattering to all directions from me,<br/>\n",
      "Like the birds of the sky.<br/>\n",
      "</p>\n",
      "</div><div id=\"footnote\"><h3>Footnotes</h3><span class=\"fnText ftntbottom\">= <em>ach</em>; cf.\n",
      "Risteard B. Breatnach, <em>Seana-chaint na nDéise II</em>\n",
      "(Dublin, 1961), 306.</span><span class=\"noteNav\"> (<a href=\"#anchor-1\" name=\"note-1\">Back</a>)</span><br/><span class=\"fnText ftntbottom\">'Crease'? Cf. Risteard B. Breatnach, op. cit.,\n",
      "177.</span><span class=\"noteNav\"> (<a href=\"#anchor-2\" name=\"note-2\">Back</a>)</span><br/><span class=\"fnText ftntbottom\">'Éadach'. Cf. Risteard B.\n",
      "Breatnach, op. cit., 87.</span><span class=\"noteNav\"> (<a href=\"#anchor-3\" name=\"note-3\">Back</a>)</span><br/><span class=\"fnText ftntbottom\">Leg. <em>reá</em>? Cf. Seán Ua\n",
      "Súilleabháin, 'Gaeilge na Mumhan', in Kim McCone et al. (eag.), <em>Stair na Gaeilge</em> (Maigh Nuad, 1994), 529.</span><span class=\"noteNav\"> (<a href=\"#anchor-4\" name=\"note-4\">Back</a>)</span><br/><span class=\"fnText ftntbottom\">= <em>an tsóinseáil</em>. Cf. Risteard B. Breatnach, op. cit.,\n",
      "340.</span><span class=\"noteNav\"> (<a href=\"#anchor-5\" name=\"note-5\">Back</a>)</span><br/><span class=\"fnText ftntbottom\">= <em>éanlaith</em>. Cf. Máirtín\n",
      "Verling, <em>Leabhar Mhaidhc Dháith</em> (An Daingean, 2007),\n",
      "655.</span><span class=\"noteNav\"> (<a href=\"#anchor-6\" name=\"note-6\">Back</a>)</span><br/></div><div id=\"note\"><h3>Commentary</h3>\n",
      "<p>Although this poem appears without an introduction, two other tellings, under the\n",
      "title <em>Ar maidin sa dúnaing</em> appear in Máirtín Verling, <em>Leabhar Mhaidhc Dháith</em> (An Daingean, 2007), 378 and 492-3, and\n",
      "provide a context. They explain how this is a poem recited by a man over the dead\n",
      "body of his wife on the morning after her wake. As such, it is part of the tradition\n",
      "of the <em>caoineadh</em>, or a ritualized poetic lament uttered over\n",
      "the corpse of someone who has died. While many of these types of poems were extempore\n",
      "and formulaic in character, this text may be a more considered composition. Indeed,\n",
      "it may be one of the present informant's own compositions. See Risteard B. Breatnach,\n",
      "<em>Seana-chaint na nDéise II</em> (Dublin, 1962), 177n. For more\n",
      "information generally, see Patricia Lysaght, 'Caoineadh os cionn coirp: the lament\n",
      "for the dead in Ireland', <em>Folklore</em> 108 (1997), 65-82.</p>\n",
      "<p></p>\n",
      "</div></div><div id=\"recording_metadata\" xmlns=\"http://www.w3.org/1999/xhtml\"><p><strong>Title in English: </strong>The married woman<br/><strong>Digital version published by: </strong>Doegen Records Web Project, Royal Irish Academy<br/></p><p xmlns:tei=\"http://www.tei-c.org/ns/1.0\"><strong>Description of the Recording:</strong></p><p xmlns:tei=\"http://www.tei-c.org/ns/1.0\">Speaker:\n",
      "Mícheál\n",
      "Turraoin from Co.\n",
      "Waterford\n",
      "<br/>Person who made the recording:\n",
      "Wilhelm Doegen\n",
      "<br/>Organizer and administrator of the recording scheme: The Royal Irish Academy<br/>In collaboration with: Lautabteilung, Preußische Staatsbibliothek (now Lautarchiv,\n",
      "Humboldt-Universität zu Berlin)<br/> Recorded on 05-09-1928 at 13:10:00 in German\n",
      "Room, University College Cork. <span id=\"broadcastsentence1\"> Recorded on 05-09-1928 at 13:10:00 in German\n",
      "Room, University College Cork. </span><br/> Archive recording (ID LA_1051d3, from a shellac disk stored at the\n",
      "Royal Irish Academy) is 00:57 minutes\n",
      "long.<span id=\"broadcastsentence2\"> Archive recording (ID LA_1051d3, from a shellac disk stored at the\n",
      "Royal Irish Academy) is 00:57 minutes\n",
      "long.</span><br/> User recording (ID LA_1051d3, from a shellac disk stored at the Royal\n",
      "Irish Academy) is 00:53 minutes long.<span id=\"broadcastsentence4\"> User recording (ID LA_1051d3, from a shellac disk stored at the Royal\n",
      "Irish Academy) is 00:53 minutes long.</span><br/></p></div>\n",
      "</p></div>\n"
     ]
    }
   ],
   "source": [
    "proc_page('https://doegen.ie/LA_1051d3')"
   ]
  },
  {
   "cell_type": "code",
   "execution_count": 45,
   "id": "6ef96e72",
   "metadata": {},
   "outputs": [
    {
     "name": "stdout",
     "output_type": "stream",
     "text": [
      "<a href=\"/LA_1051d3\" title=\"An bhean phósta - Mícheál Turraoin\">An bhean phósta - Mícheál Turraoin</a>\n",
      "<a href=\"/LA_1051d1\" title=\"An garsún bán - Mícheál Turraoin\">An garsún bán - Mícheál Turraoin</a>\n",
      "<a href=\"/LA_1052d1\" title=\"An mac scaiptheach (cuid 1) - Tomás Ó Corcráin\">An mac scaiptheach (cuid 1) - Tomás Ó Corcráin</a>\n",
      "<a href=\"/LA_1052d2\" title=\"An mac scaiptheach (cuid 2) - Tomás Ó Corcráin\">An mac scaiptheach (cuid 2) - Tomás Ó Corcráin</a>\n",
      "<a href=\"/LA_1053d1\" title=\"An mac scaiptheach (cuid 3) - Tomás Ó Corcráin\">An mac scaiptheach (cuid 3) - Tomás Ó Corcráin</a>\n",
      "<a href=\"/LA_1045d1\" title=\"An mac scaiptheach - Mícheál Ó Cionnfhaolaidh\">An mac scaiptheach - Mícheál Ó Cionnfhaolaidh</a>\n",
      "<a href=\"/LA_1050d1\" title=\"An mac scaiptheach - Mícheál Turraoin\">An mac scaiptheach - Mícheál Turraoin</a>\n",
      "<a href=\"/LA_1051d2\" title=\"Bean an Chárthaigh - Mícheál Turraoin\">Bean an Chárthaigh - Mícheál Turraoin</a>\n",
      "<a href=\"/LA_1051d4\" title=\"Bean an doichill - Mícheál Turraoin\">Bean an doichill - Mícheál Turraoin</a>\n",
      "<a href=\"/LA_1048\" title=\"Bríd Gheal Bhán - Seán Ó Droma\">Bríd Gheal Bhán - Seán Ó Droma</a>\n"
     ]
    }
   ],
   "source": [
    "for node in main.find_all('div', {'class': 'node'}):\n",
    "    print(node.find('a'))"
   ]
  }
 ],
 "metadata": {
  "kernelspec": {
   "display_name": "Python 3",
   "language": "python",
   "name": "python3"
  },
  "language_info": {
   "codemirror_mode": {
    "name": "ipython",
    "version": 3
   },
   "file_extension": ".py",
   "mimetype": "text/x-python",
   "name": "python",
   "nbconvert_exporter": "python",
   "pygments_lexer": "ipython3",
   "version": "3.8.2"
  }
 },
 "nbformat": 4,
 "nbformat_minor": 5
}
