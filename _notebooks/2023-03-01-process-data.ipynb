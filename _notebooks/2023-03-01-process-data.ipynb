{
 "cells": [
  {
   "attachments": {},
   "cell_type": "markdown",
   "metadata": {},
   "source": [
    "# Process test/validation data\n",
    "\n",
    "> \"For SBTal Riksdag dataset\"\n",
    "\n",
    "- toc: false\n",
    "- hidden: true\n",
    "- branch: master\n",
    "- categories: [riksdag, sbtal]"
   ]
  },
  {
   "cell_type": "code",
   "execution_count": 9,
   "metadata": {},
   "outputs": [],
   "source": [
    "from pathlib import Path\n",
    "from pydub import AudioSegment"
   ]
  },
  {
   "cell_type": "code",
   "execution_count": 10,
   "metadata": {},
   "outputs": [],
   "source": [
    "BASE = Path(\"/home/joregan\")\n",
    "TSV_PATH = BASE / \"train-valid-deliverable/round1/C1A1\"\n",
    "AUDIO_PATH = BASE / \"train-valid-deliverable\" / \"C1_audio\"\n",
    "OUT_PATH = BASE / \"train-valid-deliverable\" / \"split\""
   ]
  },
  {
   "cell_type": "code",
   "execution_count": 11,
   "metadata": {},
   "outputs": [],
   "source": [
    "parameters=[\"-ac\", \"1\", \"-acodec\", \"pcm_s16le\", \"-ar\", \"16000\"]"
   ]
  },
  {
   "cell_type": "code",
   "execution_count": 12,
   "metadata": {},
   "outputs": [],
   "source": [
    "MARKERS = [\n",
    "    \"#BREATH\",\n",
    "    \"#COUGH\",\n",
    "    \"#EH\",\n",
    "    \"#INAUDIBLE\",\n",
    "    \"#LIPSMACK\",\n",
    "    \"#NOISE\",\n",
    "    \"#OTHER\",\n",
    "    \"#PAUSE\",\n",
    "    \"#TRUNC\",\n",
    "    \"#UNKNOWN\"\n",
    "]"
   ]
  },
  {
   "cell_type": "code",
   "execution_count": 13,
   "metadata": {},
   "outputs": [],
   "source": [
    "TEST_VALID_SPEAKERS = \"\"\"\n",
    "01\tJörgen Hellman\tTEST_M\n",
    "02\tAgneta Gille\tVAL_F\n",
    "03\tAmir Adan\tTEST_M\n",
    "04\tTeresa Carvalho\tTEST_F\n",
    "05\tKerstin Nilsson\tVAL_F\n",
    "06\tNiclas Malmberg\tVAL_M\n",
    "07\tCarina Ståhl Herrstedt\tTEST_F\n",
    "08\tVasiliki Tsouplaki\tVAL_F\n",
    "09\tCecilie Tenfjord Toftby\tVAL_F\n",
    "10\tAnn-Britt Åsebol\tTEST_F\n",
    "11\tKarin Nilsson\tTEST_F\n",
    "12\tIngemar Nilsson\tTEST_M\n",
    "13\tMats Nordberg\tTEST_M\n",
    "14\tUlrika Jörgensen\tTEST_F\n",
    "15\tAylin Fazelian\tVAL_F\n",
    "16\tBjörn Wiechel\tVAL_M\n",
    "17\tSedat Dogru\tVAL_M\n",
    "18\tOskar Öholm\tTEST_M\n",
    "19\tEva Lohman\tVAL_F\n",
    "20\tKarin Granbom Ellison\tTEST_F\n",
    "21\tÅsa Karlsson\tVAL_F\n",
    "22\tYilmaz Kerimo\tVAL_M\n",
    "23\tAphram Melki\tTEST_M\n",
    "24\tYasmine Bladelius\tTEST_F\n",
    "25\tDésirée Liljevall\tVAL_F\n",
    "26\tErik Slottner\tVAL_M\n",
    "27\tGustav Nilsson\tVAL_M\n",
    "28\tLinda Wemmert\tTEST_F\n",
    "29\tMats Sander\tVAL_M\n",
    "30\tArin Karapet\tVAL_M\n",
    "31\tDaniel Andersson\tTEST_M\n",
    "32\tDavid Josefsson\tTEST_M\n",
    "\"\"\"\n",
    "TEST = []\n",
    "VALID = []\n",
    "\n",
    "for line in TEST_VALID_SPEAKERS.split(\"\\n\"):\n",
    "    if not \"\\t\" in line:\n",
    "        continue\n",
    "    parts = line.split(\"\\t\")\n",
    "    if parts[2].startswith(\"TEST\"):\n",
    "        TEST.append(parts[0])\n",
    "    else:\n",
    "        VALID.append(parts[0])"
   ]
  },
  {
   "cell_type": "code",
   "execution_count": 15,
   "metadata": {},
   "outputs": [],
   "source": [
    "OUT_DIR = BASE / \"train-valid-deliverable\" / \"split\"\n",
    "valid_tsv = open(str(BASE / \"valid.tsv\"), \"w\")\n",
    "test_tsv = open(str(BASE / \"test.tsv\"), \"w\")\n",
    "valid_tsv.write(\"path\\tduration\\ttext\\n\")\n",
    "test_tsv.write(\"path\\tduration\\ttext\\n\")\n",
    "for tsvfile in TSV_PATH.glob(\"*.tsv\"):\n",
    "    stem = tsvfile.stem\n",
    "    in_wav = AUDIO_PATH / f\"{stem}.wav\"\n",
    "    wav_as = AudioSegment.from_wav(str(in_wav))\n",
    "    counter = 1\n",
    "    stem_pieces = stem.split(\"-\")\n",
    "    speaker_id = stem_pieces[1]\n",
    "    test_set = False\n",
    "    if speaker_id in VALID:\n",
    "        test_set = False\n",
    "    else:\n",
    "        test_set = True\n",
    "    with open(str(tsvfile)) as tsv:\n",
    "            for line in tsv.readlines():\n",
    "                parts = line.strip().split(\"\\t\")\n",
    "                if line.startswith(\"Start\"):\n",
    "                    continue\n",
    "                if parts[2].strip() in MARKERS:\n",
    "                    continue\n",
    "                start = int(parts[0])\n",
    "                end = int(parts[1])\n",
    "                dur = end - start\n",
    "                text = parts[2].strip()\n",
    "                current_wav = wav_as[start:end]\n",
    "                outname = OUT_PATH / f\"{stem}_{start}_{end}.wav\"\n",
    "                text_raw = text\n",
    "                word_buf = []\n",
    "                for word in text.split(\" \"):\n",
    "                    if word.startswith(\"#\") or word.endswith(\"*\"):\n",
    "                        continue\n",
    "                    word_buf.append(word)\n",
    "                text = \" \".join(word_buf)\n",
    "                if text == \"\":\n",
    "                    continue\n",
    "                if test_set:\n",
    "                    test_tsv.write(f\"{str(outname)}\\t{dur}\\t{text}\\n\")\n",
    "                else:\n",
    "                     valid_tsv.write(f\"{str(outname)}\\t{dur}\\t{text}\\n\")\n",
    "                current_wav.export(str(outname), format=\"wav\", parameters=parameters)"
   ]
  }
 ],
 "metadata": {
  "kernelspec": {
   "display_name": "hf",
   "language": "python",
   "name": "python3"
  },
  "language_info": {
   "codemirror_mode": {
    "name": "ipython",
    "version": 3
   },
   "file_extension": ".py",
   "mimetype": "text/x-python",
   "name": "python",
   "nbconvert_exporter": "python",
   "pygments_lexer": "ipython3",
   "version": "3.9.16"
  },
  "orig_nbformat": 4,
  "vscode": {
   "interpreter": {
    "hash": "323572f3d7d63e949a9798ea1062be3bd23d8f1ad1664ecc50859e690c42d8f5"
   }
  }
 },
 "nbformat": 4,
 "nbformat_minor": 2
}
