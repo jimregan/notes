{
  "nbformat": 4,
  "nbformat_minor": 0,
  "metadata": {
    "kernelspec": {
      "language": "python",
      "display_name": "Python 3",
      "name": "python3"
    },
    "language_info": {
      "name": "python",
      "version": "3.7.10",
      "mimetype": "text/x-python",
      "codemirror_mode": {
        "name": "ipython",
        "version": 3
      },
      "pygments_lexer": "ipython3",
      "nbconvert_exporter": "python",
      "file_extension": ".py"
    },
    "colab": {
      "name": "2021-05-09-cmu-wilderness-does-not-work.ipynb",
      "provenance": []
    }
  },
  "cells": [
    {
      "cell_type": "markdown",
      "metadata": {
        "id": "vPHRqUY27-oz"
      },
      "source": [
        "# CMU Wilderness no longer works\n",
        "\n",
        "> \"CMU Wilderness uses bible.is text and audio for TTS/ASR\"\n",
        "\n",
        "- toc: false\n",
        "- branch: master\n",
        "- badges: false\n",
        "- comments: true\n",
        "- categories: [kaggle, cmuwilderness, bibleis]"
      ]
    },
    {
      "cell_type": "markdown",
      "metadata": {
        "id": "7XV8Avzf76__"
      },
      "source": [
        "tl;dr - grabbing the audio doesn't work"
      ]
    },
    {
      "cell_type": "code",
      "metadata": {
        "_uuid": "8f2839f25d086af736a60e9eeb907d3b93b6e0e5",
        "_cell_guid": "b1076dfc-b9ad-4769-8c92-a6c4dae69d19",
        "trusted": true,
        "id": "vCwelKoL77AB"
      },
      "source": [
        "!git clone https://github.com/festvox/datasets-CMU_Wilderness"
      ],
      "execution_count": null,
      "outputs": []
    },
    {
      "cell_type": "code",
      "metadata": {
        "trusted": true,
        "id": "z9FFgZGr77AD",
        "outputId": "79aae2a5-77b6-4988-c423-a04e360c4638"
      },
      "source": [
        "%cd datasets-CMU_Wilderness"
      ],
      "execution_count": null,
      "outputs": [
        {
          "output_type": "stream",
          "text": [
            "/kaggle/working/datasets-CMU_Wilderness\n"
          ],
          "name": "stdout"
        }
      ]
    },
    {
      "cell_type": "code",
      "metadata": {
        "trusted": true,
        "id": "kU1GfZ_877AE"
      },
      "source": [
        "%%capture\n",
        "!yes|apt install sptk html2text sox libncurses-dev"
      ],
      "execution_count": null,
      "outputs": []
    },
    {
      "cell_type": "code",
      "metadata": {
        "trusted": true,
        "id": "KcNOpbof77AG"
      },
      "source": [
        "%%capture\n",
        "!bin/do_found make_dependencies\n"
      ],
      "execution_count": null,
      "outputs": []
    },
    {
      "cell_type": "code",
      "metadata": {
        "trusted": true,
        "id": "To7Q5uvG77AH",
        "outputId": "18f4bd1f-c247-4b6c-e223-7174eee7faa4"
      },
      "source": [
        "!bin/do_found fast_make_align indices/ABIWBT.tar.gz"
      ],
      "execution_count": null,
      "outputs": [
        {
          "output_type": "stream",
          "text": [
            "/bin/bash: bin/do_found: No such file or directory\n"
          ],
          "name": "stdout"
        }
      ]
    }
  ]
}