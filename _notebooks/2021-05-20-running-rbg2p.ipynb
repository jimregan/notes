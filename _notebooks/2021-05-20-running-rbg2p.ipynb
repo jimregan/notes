{
  "nbformat": 4,
  "nbformat_minor": 5,
  "metadata": {
    "kernelspec": {
      "display_name": "Python 3",
      "language": "python",
      "name": "python3"
    },
    "language_info": {
      "codemirror_mode": {
        "name": "ipython",
        "version": 3
      },
      "file_extension": ".py",
      "mimetype": "text/x-python",
      "name": "python",
      "nbconvert_exporter": "python",
      "pygments_lexer": "ipython3",
      "version": "3.8.2"
    },
    "colab": {
      "name": "2021-05-20-running-rbg2p.ipynb",
      "provenance": [],
      "toc_visible": true
    }
  },
  "cells": [
    {
      "cell_type": "markdown",
      "metadata": {
        "id": "0ea3b0cf"
      },
      "source": [
        "# Running rbg2p\n",
        "> \"Running rbg2p on colab\"\n",
        "\n",
        "- toc: false\n",
        "- branch: master\n",
        "- badges: true\n",
        "- comments: true\n",
        "- categories: [go, python, rbg2p]"
      ],
      "id": "0ea3b0cf"
    },
    {
      "cell_type": "code",
      "metadata": {
        "id": "peQidx_haXpq",
        "colab": {
          "base_uri": "https://localhost:8080/"
        },
        "outputId": "3829958b-383c-4daa-e267-f19f168e7e85"
      },
      "source": [
        "!pip install -q condacolab\n",
        "import condacolab\n",
        "condacolab.install()"
      ],
      "id": "peQidx_haXpq",
      "execution_count": 3,
      "outputs": [
        {
          "output_type": "stream",
          "text": [
            "⏬ Downloading https://github.com/jaimergp/miniforge/releases/latest/download/Mambaforge-colab-Linux-x86_64.sh...\n",
            "📦 Installing...\n",
            "📌 Adjusting configuration...\n",
            "🩹 Patching environment...\n",
            "⏲ Done in 0:00:30\n",
            "🔁 Restarting kernel...\n"
          ],
          "name": "stdout"
        }
      ]
    },
    {
      "cell_type": "code",
      "metadata": {
        "id": "0FVyQR1uZtBk"
      },
      "source": [
        "%%capture\n",
        "!conda install -c conda-forge go go-cgo -y"
      ],
      "id": "0FVyQR1uZtBk",
      "execution_count": 1,
      "outputs": []
    },
    {
      "cell_type": "code",
      "metadata": {
        "id": "iSrLz9wDYVEI"
      },
      "source": [
        "%%capture\n",
        "!pip install pybindgen\n",
        "!go get golang.org/x/tools/cmd/goimports\n",
        "!go get github.com/go-python/gopy"
      ],
      "id": "iSrLz9wDYVEI",
      "execution_count": 2,
      "outputs": []
    },
    {
      "cell_type": "code",
      "metadata": {
        "id": "m0Yl6TIVZMsU"
      },
      "source": [
        "%%capture\n",
        "!pip install --upgrade setuptools wheel"
      ],
      "id": "m0Yl6TIVZMsU",
      "execution_count": 3,
      "outputs": []
    },
    {
      "cell_type": "code",
      "metadata": {
        "id": "7XQCEn5-d8IR",
        "colab": {
          "base_uri": "https://localhost:8080/"
        },
        "outputId": "3b3b8213-9695-49ff-b15c-61207e36c453"
      },
      "source": [
        "!go get -v -u github.com/stts-se/rbg2p"
      ],
      "id": "7XQCEn5-d8IR",
      "execution_count": 5,
      "outputs": [
        {
          "output_type": "stream",
          "text": [
            "go: downloading github.com/stts-se/rbg2p v1.0.1\n",
            "go: downloading github.com/dlclark/regexp2 v1.2.0\n",
            "go: downloading github.com/dlclark/regexp2 v1.4.0\n",
            "runtime/cgo\n",
            "github.com/dlclark/regexp2/syntax\n",
            "github.com/dlclark/regexp2\n",
            "net\n",
            "net/textproto\n",
            "crypto/x509\n",
            "vendor/golang.org/x/net/http/httpguts\n",
            "vendor/golang.org/x/net/http/httpproxy\n",
            "crypto/tls\n",
            "net/http/httptrace\n",
            "net/http\n",
            "github.com/stts-se/rbg2p\n"
          ],
          "name": "stdout"
        }
      ]
    },
    {
      "cell_type": "code",
      "metadata": {
        "colab": {
          "base_uri": "https://localhost:8080/"
        },
        "id": "uTLscZzKnzkV",
        "outputId": "ae045e14-c9c9-4906-a939-343b27b4ca55"
      },
      "source": [
        "!rbg2p"
      ],
      "id": "uTLscZzKnzkV",
      "execution_count": 1,
      "outputs": [
        {
          "output_type": "stream",
          "text": [
            "/bin/bash: rbg2p: command not found\n"
          ],
          "name": "stdout"
        }
      ]
    },
    {
      "cell_type": "code",
      "metadata": {
        "id": "QLPKjzXVewJq",
        "colab": {
          "base_uri": "https://localhost:8080/"
        },
        "outputId": "de753cbe-1710-4eef-a084-0569233d5e6c"
      },
      "source": [
        "!git clone https://github.com/stts-se/rbg2p"
      ],
      "id": "QLPKjzXVewJq",
      "execution_count": null,
      "outputs": [
        {
          "output_type": "stream",
          "text": [
            "Cloning into 'rbg2p'...\n",
            "remote: Enumerating objects: 3918, done.\u001b[K\n",
            "remote: Counting objects: 100% (123/123), done.\u001b[K\n",
            "remote: Compressing objects: 100% (85/85), done.\u001b[K\n",
            "remote: Total 3918 (delta 59), reused 77 (delta 29), pack-reused 3795\u001b[K\n",
            "Receiving objects: 100% (3918/3918), 678.17 KiB | 10.60 MiB/s, done.\n",
            "Resolving deltas: 100% (1233/1233), done.\n"
          ],
          "name": "stdout"
        }
      ]
    },
    {
      "cell_type": "code",
      "metadata": {
        "id": "thlGDBimiLHI"
      },
      "source": [
        "import os\n",
        "os.environ[\"PATH\"]=f'{os.environ[\"PATH\"]}:/root/go/bin'"
      ],
      "id": "thlGDBimiLHI",
      "execution_count": null,
      "outputs": []
    },
    {
      "cell_type": "code",
      "metadata": {
        "id": "df12XWnUiQrZ",
        "colab": {
          "base_uri": "https://localhost:8080/"
        },
        "outputId": "b6d97e22-cd1d-4554-cb2c-87d4b3d90780"
      },
      "source": [
        "!gopy pkg github.com/stts-se/rbg2p\n",
        "#!gopy pkg rbg2p@v1.0.1"
      ],
      "id": "df12XWnUiQrZ",
      "execution_count": null,
      "outputs": [
        {
          "output_type": "stream",
          "text": [
            "no required module provides package github.com/stts-se/rbg2p: go.mod file not found in current directory or any parent directory; see 'go help modules'\n",
            "2021/05/20 21:04:20 Note: there was an error building [github.com/stts-se/rbg2p] -- will continue but it may fail later: exit status 1\n",
            "\n",
            "--- skipping dir with no go files or only doc.go: github.com/stts-se/rbg2p -- []\n",
            "\n",
            "--- building package ---\n",
            "gopy pkg github.com/stts-se/rbg2p\n",
            "goimports -w rbg2p.go\n",
            "go build -buildmode=c-shared -o rbg2p_go.so .\n",
            "cmd had error: exit status 1  output:\n",
            "found packages rbg2p (doc.go) and main (rbg2p.go) in /content/rbg2p\n",
            "rbg2p.go:53:2: cannot find package \".\" in:\n",
            "\t/content/rbg2p/vendor/github.com/go-python/gopy/gopyh\n",
            "\n",
            "2021/05/20 21:04:21 error dispatching command: exit status 1\n"
          ],
          "name": "stdout"
        }
      ]
    },
    {
      "cell_type": "code",
      "metadata": {
        "id": "m1RnkGtfh8YZ",
        "colab": {
          "base_uri": "https://localhost:8080/"
        },
        "outputId": "5fd19f38-2504-40c0-aef1-37871f9810c1"
      },
      "source": [
        "!ls /root/go/pkg/mod/github.com/stts-se/rbg2p@v1.0.1"
      ],
      "id": "m1RnkGtfh8YZ",
      "execution_count": null,
      "outputs": [
        {
          "output_type": "stream",
          "text": [
            "cmd\tLICENSE\t\t     rbg2p.go\t     stress.go\t    test_data\n",
            "doc.go\tMakefile\t     rbg2p_inits.go  syll.go\t    trans.go\n",
            "go.mod\tphoneme_set.go\t     rbg2p_test.go   syll_inits.go  util.go\n",
            "go.sum\tphoneme_splitter.go  README.md\t     syll_test.go   vendor\n"
          ],
          "name": "stdout"
        }
      ]
    },
    {
      "cell_type": "code",
      "metadata": {
        "id": "tzK1Pj1rZYrG",
        "colab": {
          "base_uri": "https://localhost:8080/"
        },
        "outputId": "dda5b77b-cf50-4a46-afd7-6a0e8b24bada"
      },
      "source": [
        "!$HOME/go/bin/gopy build github.com/stts-se/rbg2p"
      ],
      "id": "tzK1Pj1rZYrG",
      "execution_count": null,
      "outputs": [
        {
          "output_type": "stream",
          "text": [
            "no required module provides package github.com/stts-se/rbg2p: go.mod file not found in current directory or any parent directory; see 'go help modules'\n",
            "2021/05/20 20:44:58 Note: there was an error building [github.com/stts-se/rbg2p] -- will continue but it may fail later: exit status 1\n",
            "panic: runtime error: index out of range [0] with length 0\n",
            "\n",
            "goroutine 1 [running]:\n",
            "main.parsePackage(0xc0000bac60, 0x18, 0x8e1901, 0xc0000bac60)\n",
            "\t/root/go/pkg/mod/github.com/go-python/gopy@v0.3.4/gen.go:125 +0x3b3\n",
            "main.gopyRunCmdBuild(0xc0000dea50, 0xc00008e170, 0x1, 0x1, 0x0, 0x0)\n",
            "\t/root/go/pkg/mod/github.com/go-python/gopy@v0.3.4/cmd_build.go:73 +0x53f\n",
            "github.com/gonuts/commander.(*Command).Dispatch(0xc0000dea50, 0xc00008e170, 0x1, 0x1, 0xc0000d2200, 0x0)\n",
            "\t/root/go/pkg/mod/github.com/gonuts/commander@v0.1.0/commands.go:209 +0x246\n",
            "github.com/gonuts/commander.(*Command).Dispatch(0xc0000ded20, 0xc00008e160, 0x2, 0x2, 0x0, 0x0)\n",
            "\t/root/go/pkg/mod/github.com/gonuts/commander@v0.1.0/commands.go:175 +0x139\n",
            "main.run(0xc00008e160, 0x2, 0x2, 0x0, 0x0)\n",
            "\t/root/go/pkg/mod/github.com/go-python/gopy@v0.3.4/main.go:37 +0x27f\n",
            "main.main()\n",
            "\t/root/go/pkg/mod/github.com/go-python/gopy@v0.3.4/main.go:45 +0x76\n"
          ],
          "name": "stdout"
        }
      ]
    },
    {
      "cell_type": "code",
      "metadata": {
        "colab": {
          "base_uri": "https://localhost:8080/"
        },
        "id": "OZbI3FIltSlN",
        "outputId": "3a250905-43fd-4c4b-e77d-31b3124b9818"
      },
      "source": [
        "%%writefile maori.g2p\n",
        "CHARACTER_SET \"aeghikmnoprtuwāēīōū\"\n",
        "DEFAULT_PHONEME \"_\"\n",
        "PHONEME_DELIMITER \" \"\n",
        "\n",
        "wh -> f\n",
        "h -> h\n",
        "k -> k\n",
        "m -> m\n",
        "ng -> ŋ\n",
        "n -> n\n",
        "p -> p\n",
        "r -> ɾ\n",
        "t -> t\n",
        "w -> w\n",
        "au -> au\n",
        "ā -> aː\n",
        "a -> a\n",
        "ē -> ɛː\n",
        "e -> ɛ\n",
        "ī -> iː\n",
        "i -> i\n",
        "ō -> ɔː\n",
        "o -> ɔ\n",
        "ū -> ʉː\n",
        "u -> ʉ\n",
        "g -> ∅"
      ],
      "id": "OZbI3FIltSlN",
      "execution_count": 4,
      "outputs": [
        {
          "output_type": "stream",
          "text": [
            "Writing maori.g2p\n"
          ],
          "name": "stdout"
        }
      ]
    }
  ]
}