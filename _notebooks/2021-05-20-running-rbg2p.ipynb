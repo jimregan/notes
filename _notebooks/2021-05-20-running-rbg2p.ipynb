{
  "nbformat": 4,
  "nbformat_minor": 5,
  "metadata": {
    "kernelspec": {
      "display_name": "Python 3",
      "language": "python",
      "name": "python3"
    },
    "language_info": {
      "codemirror_mode": {
        "name": "ipython",
        "version": 3
      },
      "file_extension": ".py",
      "mimetype": "text/x-python",
      "name": "python",
      "nbconvert_exporter": "python",
      "pygments_lexer": "ipython3",
      "version": "3.8.2"
    },
    "colab": {
      "name": "2021-05-20-running-rbg2p.ipynb",
      "provenance": [],
      "collapsed_sections": [],
      "toc_visible": true
    }
  },
  "cells": [
    {
      "cell_type": "markdown",
      "metadata": {
        "id": "0ea3b0cf"
      },
      "source": [
        "# Running rbg2p on Colab\n",
        "> \"So I can at least consider having runnable versions of the Irish phonetisers\"\n",
        "\n",
        "- toc: false\n",
        "- branch: master\n",
        "- badges: true\n",
        "- comments: true\n",
        "- categories: [rbg2p, colab]"
      ],
      "id": "0ea3b0cf"
    },
    {
      "cell_type": "code",
      "metadata": {
        "id": "peQidx_haXpq",
        "colab": {
          "base_uri": "https://localhost:8080/"
        },
        "outputId": "3829958b-383c-4daa-e267-f19f168e7e85"
      },
      "source": [
        "!pip install -q condacolab\n",
        "import condacolab\n",
        "condacolab.install()"
      ],
      "id": "peQidx_haXpq",
      "execution_count": 3,
      "outputs": [
        {
          "output_type": "stream",
          "text": [
            "⏬ Downloading https://github.com/jaimergp/miniforge/releases/latest/download/Mambaforge-colab-Linux-x86_64.sh...\n",
            "📦 Installing...\n",
            "📌 Adjusting configuration...\n",
            "🩹 Patching environment...\n",
            "⏲ Done in 0:00:30\n",
            "🔁 Restarting kernel...\n"
          ],
          "name": "stdout"
        }
      ]
    },
    {
      "cell_type": "code",
      "metadata": {
        "id": "0FVyQR1uZtBk"
      },
      "source": [
        "%%capture\n",
        "!conda install -c conda-forge go go-cgo -y"
      ],
      "id": "0FVyQR1uZtBk",
      "execution_count": 1,
      "outputs": []
    },
    {
      "cell_type": "code",
      "metadata": {
        "id": "m0Yl6TIVZMsU"
      },
      "source": [
        "%%capture\n",
        "!pip install --upgrade setuptools wheel"
      ],
      "id": "m0Yl6TIVZMsU",
      "execution_count": 3,
      "outputs": []
    },
    {
      "cell_type": "code",
      "metadata": {
        "id": "7XQCEn5-d8IR",
        "colab": {
          "base_uri": "https://localhost:8080/"
        },
        "outputId": "342e0968-965b-4634-dc74-baf41d580700"
      },
      "source": [
        "!go get github.com/sergi/go-diff\n",
        "!go get github.com/stts-se/rbg2p"
      ],
      "id": "7XQCEn5-d8IR",
      "execution_count": 18,
      "outputs": [
        {
          "output_type": "stream",
          "text": [
            "go: downloading github.com/sergi/go-diff v1.2.0\n"
          ],
          "name": "stdout"
        }
      ]
    },
    {
      "cell_type": "code",
      "metadata": {
        "id": "QLPKjzXVewJq",
        "colab": {
          "base_uri": "https://localhost:8080/"
        },
        "outputId": "2cf0a009-8840-458f-fffb-bcf828cc0d4a"
      },
      "source": [
        "!git clone https://github.com/stts-se/rbg2p"
      ],
      "id": "QLPKjzXVewJq",
      "execution_count": 22,
      "outputs": [
        {
          "output_type": "stream",
          "text": [
            "Cloning into 'rbg2p'...\n",
            "remote: Enumerating objects: 3918, done.\u001b[K\n",
            "remote: Counting objects: 100% (123/123), done.\u001b[K\n",
            "remote: Compressing objects: 100% (85/85), done.\u001b[K\n",
            "remote: Total 3918 (delta 59), reused 77 (delta 29), pack-reused 3795\u001b[K\n",
            "Receiving objects: 100% (3918/3918), 678.17 KiB | 2.32 MiB/s, done.\n",
            "Resolving deltas: 100% (1233/1233), done.\n"
          ],
          "name": "stdout"
        }
      ]
    },
    {
      "cell_type": "code",
      "metadata": {
        "id": "thlGDBimiLHI"
      },
      "source": [
        "import os\n",
        "os.environ[\"PATH\"]=f'{os.environ[\"PATH\"]}:/root/go/bin'"
      ],
      "id": "thlGDBimiLHI",
      "execution_count": 7,
      "outputs": []
    },
    {
      "cell_type": "code",
      "metadata": {
        "colab": {
          "base_uri": "https://localhost:8080/"
        },
        "id": "7w7gJ8EYvD0R",
        "outputId": "4df047ca-21a8-4c8f-d1ee-747098fe7c18"
      },
      "source": [
        "%cd rbg2p"
      ],
      "id": "7w7gJ8EYvD0R",
      "execution_count": 25,
      "outputs": [
        {
          "output_type": "stream",
          "text": [
            "/content/rbg2p\n"
          ],
          "name": "stdout"
        }
      ]
    },
    {
      "cell_type": "code",
      "metadata": {
        "colab": {
          "base_uri": "https://localhost:8080/"
        },
        "id": "OZbI3FIltSlN",
        "outputId": "3a250905-43fd-4c4b-e77d-31b3124b9818"
      },
      "source": [
        "%%writefile maori.g2p\n",
        "CHARACTER_SET \"aeghikmnoprtuwāēīōū\"\n",
        "DEFAULT_PHONEME \"_\"\n",
        "PHONEME_DELIMITER \" \"\n",
        "\n",
        "wh -> f\n",
        "h -> h\n",
        "k -> k\n",
        "m -> m\n",
        "ng -> ŋ\n",
        "n -> n\n",
        "p -> p\n",
        "r -> ɾ\n",
        "t -> t\n",
        "w -> w\n",
        "au -> au\n",
        "ā -> aː\n",
        "a -> a\n",
        "ē -> ɛː\n",
        "e -> ɛ\n",
        "ī -> iː\n",
        "i -> i\n",
        "ō -> ɔː\n",
        "o -> ɔ\n",
        "ū -> ʉː\n",
        "u -> ʉ\n",
        "g -> ∅"
      ],
      "id": "OZbI3FIltSlN",
      "execution_count": 4,
      "outputs": [
        {
          "output_type": "stream",
          "text": [
            "Writing maori.g2p\n"
          ],
          "name": "stdout"
        }
      ]
    },
    {
      "cell_type": "code",
      "metadata": {
        "colab": {
          "base_uri": "https://localhost:8080/"
        },
        "id": "uTLscZzKnzkV",
        "outputId": "3506d075-21e8-47da-8797-4586944fa7f2"
      },
      "source": [
        "!echo kaumātua | go run cmd/g2p/g2p.go ../maori.g2p"
      ],
      "id": "uTLscZzKnzkV",
      "execution_count": 28,
      "outputs": [
        {
          "output_type": "stream",
          "text": [
            "0 ERROR(S) FOR ../maori.g2p\n",
            "0 WARNING(S) FOR ../maori.g2p\n",
            "ALL 0 TESTS PASSED FOR ../maori.g2p\n",
            "Reading input from stdin...\n",
            "kaumātua\tk au m aː t ʉ a\n",
            "TOTAL INPUT          :       1\n",
            "ERRORS               :       0\n",
            "TRANSCRIBED          :       1\n"
          ],
          "name": "stdout"
        }
      ]
    }
  ]
}
