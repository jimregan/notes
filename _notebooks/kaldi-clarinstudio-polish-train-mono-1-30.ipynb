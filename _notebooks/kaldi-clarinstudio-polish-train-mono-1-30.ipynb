{
 "cells": [
  {
   "cell_type": "code",
   "execution_count": 1,
   "id": "genetic-history",
   "metadata": {
    "execution": {
     "iopub.execute_input": "2021-05-16T19:07:46.664871Z",
     "iopub.status.busy": "2021-05-16T19:07:46.664103Z",
     "iopub.status.idle": "2021-05-16T19:07:46.671027Z",
     "shell.execute_reply": "2021-05-16T19:07:46.669602Z"
    },
    "papermill": {
     "duration": 0.030099,
     "end_time": "2021-05-16T19:07:46.671267",
     "exception": false,
     "start_time": "2021-05-16T19:07:46.641168",
     "status": "completed"
    },
    "tags": []
   },
   "outputs": [
    {
     "name": "stdout",
     "output_type": "stream",
     "text": [
      "/opt\n"
     ]
    }
   ],
   "source": [
    "%cd /opt"
   ]
  },
  {
   "cell_type": "code",
   "execution_count": 2,
   "id": "amber-resource",
   "metadata": {
    "_cell_guid": "b1076dfc-b9ad-4769-8c92-a6c4dae69d19",
    "_uuid": "8f2839f25d086af736a60e9eeb907d3b93b6e0e5",
    "execution": {
     "iopub.execute_input": "2021-05-16T19:07:46.701336Z",
     "iopub.status.busy": "2021-05-16T19:07:46.700660Z",
     "iopub.status.idle": "2021-05-16T19:08:38.473212Z",
     "shell.execute_reply": "2021-05-16T19:08:38.472527Z"
    },
    "papermill": {
     "duration": 51.789677,
     "end_time": "2021-05-16T19:08:38.473397",
     "exception": false,
     "start_time": "2021-05-16T19:07:46.683720",
     "status": "completed"
    },
    "tags": []
   },
   "outputs": [],
   "source": [
    "%%capture\n",
    "!tar xvf /kaggle/input/extract-prebuilt-kaldi-from-docker/kaldi.tar"
   ]
  },
  {
   "cell_type": "code",
   "execution_count": 3,
   "id": "three-webcam",
   "metadata": {
    "execution": {
     "iopub.execute_input": "2021-05-16T19:08:38.502757Z",
     "iopub.status.busy": "2021-05-16T19:08:38.501682Z",
     "iopub.status.idle": "2021-05-16T19:08:38.506487Z",
     "shell.execute_reply": "2021-05-16T19:08:38.505786Z"
    },
    "papermill": {
     "duration": 0.022426,
     "end_time": "2021-05-16T19:08:38.506667",
     "exception": false,
     "start_time": "2021-05-16T19:08:38.484241",
     "status": "completed"
    },
    "tags": []
   },
   "outputs": [
    {
     "name": "stdout",
     "output_type": "stream",
     "text": [
      "/opt/kaldi/egs\n"
     ]
    }
   ],
   "source": [
    "%cd kaldi/egs"
   ]
  },
  {
   "cell_type": "code",
   "execution_count": 4,
   "id": "departmental-certification",
   "metadata": {
    "execution": {
     "iopub.execute_input": "2021-05-16T19:08:38.535773Z",
     "iopub.status.busy": "2021-05-16T19:08:38.535074Z",
     "iopub.status.idle": "2021-05-16T19:08:44.701683Z",
     "shell.execute_reply": "2021-05-16T19:08:44.700329Z"
    },
    "papermill": {
     "duration": 6.183908,
     "end_time": "2021-05-16T19:08:44.701884",
     "exception": false,
     "start_time": "2021-05-16T19:08:38.517976",
     "status": "completed"
    },
    "tags": []
   },
   "outputs": [
    {
     "name": "stdout",
     "output_type": "stream",
     "text": [
      "Cloning into 'ClarinStudioKaldi'...\r\n",
      "remote: Enumerating objects: 778, done.\u001b[K\r\n",
      "remote: Counting objects: 100% (3/3), done.\u001b[K\r\n",
      "remote: Compressing objects: 100% (3/3), done.\u001b[K\r\n",
      "remote: Total 778 (delta 0), reused 0 (delta 0), pack-reused 775\u001b[K\r\n",
      "Receiving objects: 100% (778/778), 35.26 MiB | 23.31 MiB/s, done.\r\n",
      "Resolving deltas: 100% (262/262), done.\r\n"
     ]
    }
   ],
   "source": [
    "!git clone https://github.com/danijel3/ClarinStudioKaldi"
   ]
  },
  {
   "cell_type": "code",
   "execution_count": 5,
   "id": "searching-biotechnology",
   "metadata": {
    "execution": {
     "iopub.execute_input": "2021-05-16T19:08:44.740015Z",
     "iopub.status.busy": "2021-05-16T19:08:44.738877Z",
     "iopub.status.idle": "2021-05-16T19:08:44.743480Z",
     "shell.execute_reply": "2021-05-16T19:08:44.744059Z"
    },
    "papermill": {
     "duration": 0.026941,
     "end_time": "2021-05-16T19:08:44.744268",
     "exception": false,
     "start_time": "2021-05-16T19:08:44.717327",
     "status": "completed"
    },
    "tags": []
   },
   "outputs": [
    {
     "name": "stdout",
     "output_type": "stream",
     "text": [
      "/opt/kaldi/egs/ClarinStudioKaldi\n"
     ]
    }
   ],
   "source": [
    "%cd ClarinStudioKaldi"
   ]
  },
  {
   "cell_type": "code",
   "execution_count": 6,
   "id": "vanilla-monthly",
   "metadata": {
    "execution": {
     "iopub.execute_input": "2021-05-16T19:08:44.782086Z",
     "iopub.status.busy": "2021-05-16T19:08:44.781081Z",
     "iopub.status.idle": "2021-05-16T19:11:35.006576Z",
     "shell.execute_reply": "2021-05-16T19:11:35.007144Z"
    },
    "papermill": {
     "duration": 170.247295,
     "end_time": "2021-05-16T19:11:35.007369",
     "exception": false,
     "start_time": "2021-05-16T19:08:44.760074",
     "status": "completed"
    },
    "tags": []
   },
   "outputs": [
    {
     "name": "stdout",
     "output_type": "stream",
     "text": [
      "Collecting package metadata (current_repodata.json): - \b\b\\ \b\b| \b\b/ \b\b- \b\b\\ \b\b| \b\b/ \b\b- \b\b\\ \b\b| \b\b/ \b\b- \b\b\\ \b\b| \b\b/ \b\b- \b\b\\ \b\b| \b\b/ \b\b- \b\b\\ \b\b| \b\b/ \b\b- \b\b\\ \b\b| \b\b/ \b\b- \b\b\\ \b\b| \b\b/ \b\b- \b\b\\ \b\b| \b\b/ \b\b- \b\b\\ \b\b| \b\b/ \b\b- \b\b\\ \b\b| \b\b/ \b\b- \b\b\\ \b\b| \b\b/ \b\b- \b\b\\ \b\b| \b\b/ \b\b- \b\b\\ \b\b| \b\b/ \b\b- \b\b\\ \b\b| \b\b/ \b\b- \b\b\\ \b\b| \b\b/ \b\b- \b\b\\ \b\b| \b\b/ \b\b- \b\b\\ \b\b| \b\b/ \b\b- \b\b\\ \b\b| \b\b/ \b\b- \b\b\\ \b\b| \b\b/ \b\b- \b\b\\ \b\b| \b\b/ \b\b- \b\b\\ \b\b| \b\b/ \b\b- \b\b\\ \b\b| \b\b/ \b\b- \b\b\\ \b\b| \b\b/ \b\b- \b\b\\ \b\b| \b\b/ \b\b- \b\b\\ \b\b| \b\b/ \b\b- \b\b\\ \b\b| \b\b/ \b\b- \b\b\\ \b\b| \b\b/ \b\b- \b\b\\ \b\b| \b\b/ \b\b- \b\b\\ \b\b| \b\b/ \b\b- \b\b\\ \b\b| \b\b/ \b\b- \b\b\\ \b\b| \b\b/ \b\b- \b\b\\ \b\b| \b\b/ \b\b- \b\b\\ \b\b| \b\b/ \b\b- \b\b\\ \b\b| \b\b/ \b\b- \b\b\\ \b\b| \b\b/ \b\b- \b\b\\ \b\b| \b\b/ \b\b- \b\b\\ \b\b| \b\b/ \b\b- \b\b\\ \b\b| \b\b/ \b\b- \b\b\\ \b\b| \b\b/ \b\b- \b\b\\ \b\b| \b\b/ \b\b- \b\b\\ \b\b| \b\b/ \b\b- \b\b\\ \b\b| \b\b/ \b\b- \b\b\\ \b\b| \b\b/ \b\b- \b\b\\ \b\b| \b\b/ \b\b- \b\b\\ \b\b| \b\bdone\r\n",
      "Solving environment: - \b\b\\ \b\b| \b\b/ \b\b- \b\b\\ \b\b| \b\b/ \b\b- \b\b\\ \b\b| \b\b/ \b\b- \b\b\\ \b\b| \b\b/ \b\b- \b\b\\ \b\b| \b\b/ \b\b- \b\b\\ \b\b| \b\b/ \b\b- \b\b\\ \b\b| \b\b/ \b\b- \b\b\\ \b\b| \b\b/ \b\b- \b\b\\ \b\b| \b\b/ \b\b- \b\b\\ \b\b| \b\b/ \b\b- \b\b\\ \b\b| \b\b/ \b\b- \b\b\\ \b\b| \b\b/ \b\b- \b\b\\ \b\b| \b\b/ \b\b- \b\b\\ \b\b| \b\b/ \b\b- \b\b\\ \b\b| \b\b/ \b\b- \b\b\\ \b\b| \b\b/ \b\b- \b\b\\ \b\b| \b\b/ \b\b- \b\b\\ \b\b| \b\b/ \b\b- \b\b\\ \b\b| \b\b/ \b\b- \b\b\\ \b\b| \b\b/ \b\b- \b\b\\ \b\b| \b\b/ \b\b- \b\b\\ \b\b| \b\b/ \b\b- \b\b\\ \b\b| \b\b/ \b\b- \b\b\\ \b\b| \b\b/ \b\b- \b\b\\ \b\b| \b\b/ \b\b- \b\b\\ \b\b| \b\b/ \b\b- \b\b\\ \b\b| \b\b/ \b\b- \b\b\\ \b\b| \b\b/ \b\b- \b\b\\ \b\b| \b\b/ \b\b- \b\b\\ \b\b| \b\b/ \b\b- \b\b\\ \b\b| \b\b/ \b\b- \b\b\\ \b\b| \b\b/ \b\b- \b\b\\ \b\b| \b\b/ \b\b- \b\b\\ \b\b| \b\b/ \b\b- \b\b\\ \b\b| \b\b/ \b\b- \b\b\\ \b\b| \b\b/ \b\b- \b\b\\ \b\b| \b\b/ \b\b- \b\b\\ \b\b| \b\b/ \b\b- \b\b\\ \b\b| \b\b/ \b\b- \b\b\\ \b\b| \b\b/ \b\b- \b\b\\ \b\b| \b\b/ \b\b- \b\b\\ \b\b| \b\b/ \b\b- \b\b\\ \b\b| \b\b/ \b\b- \b\b\\ \b\b| \b\b/ \b\b- \b\b\\ \b\b| \b\b/ \b\b- \b\b\\ \b\b| \b\b/ \b\b- \b\b\\ \b\b| \b\b/ \b\b- \b\b\\ \b\b| \b\b/ \b\b- \b\b\\ \b\b| \b\b/ \b\b- \b\b\\ \b\b| \b\b/ \b\b- \b\b\\ \b\b| \b\b/ \b\b- \b\b\\ \b\b| \b\b/ \b\b- \b\b\\ \b\b| \b\b/ \b\b- \b\b\\ \b\b| \b\b/ \b\b- \b\b\\ \b\b| \b\b/ \b\b- \b\b\\ \b\b| \b\b/ \b\b- \b\b\\ \b\b| \b\b/ \b\b- \b\b\\ \b\b| \b\b/ \b\b- \b\b\\ \b\b| \b\b/ \b\b- \b\b\\ \b\b| \b\b/ \b\b- \b\b\\ \b\b| \b\b/ \b\b- \b\b\\ \b\b| \b\b/ \b\b- \b\b\\ \b\b| \b\b/ \b\b- \b\b\\ \b\b| \b\b/ \b\b- \b\b\\ \b\b| \b\b/ \b\b- \b\b\\ \b\b| \b\b/ \b\b- \b\b\\ \b\b| \b\b/ \b\b- \b\b\\ \b\b| \b\b/ \b\b- \b\b\\ \b\b| \b\b/ \b\b- \b\b\\ \b\b| \b\b/ \b\b- \b\b\\ \b\b| \b\b/ \b\b- \b\b\\ \b\b| \b\b/ \b\b- \b\b\\ \b\b| \b\b/ \b\b- \b\b\\ \b\b| \b\b/ \b\b- \b\b\\ \b\b| \b\b/ \b\b- \b\b\\ \b\b| \b\b/ \b\b- \b\b\\ \b\b| \b\b/ \b\b- \b\b\\ \b\b| \b\b/ \b\b- \b\b\\ \b\b| \b\b/ \b\b- \b\b\\ \b\b| \b\b/ \b\b- \b\b\\ \b\b| \b\b/ \b\b- \b\b\\ \b\b| \b\b/ \b\b- \b\b\\ \b\b| \b\b/ \b\b- \b\b\\ \b\b| \b\b/ \b\b- \b\b\\ \b\b| \b\b/ \b\b- \b\b\\ \b\b| \b\b/ \b\b- \b\b\\ \b\b| \b\b/ \b\b- \b\b\\ \b\b| \b\b/ \b\b- \b\b\\ \b\b| \b\b/ \b\b- \b\b\\ \b\b| \b\b/ \b\b- \b\b\\ \b\b| \b\b/ \b\b- \b\b\\ \b\b| \b\b/ \b\b- \b\b\\ \b\b| \b\b/ \b\b- \b\b\\ \b\b| \b\b/ \b\b- \b\b\\ \b\b| \b\b/ \b\b- \b\b\\ \b\b| \b\b/ \b\b- \b\b\\ \b\b| \b\b/ \b\b- \b\b\\ \b\b| \b\b/ \b\b- \b\b\\ \b\b| \b\b/ \b\b- \b\b\\ \b\b| \b\b/ \b\b- \b\b\\ \b\b| \b\b/ \b\b- \b\b\\ \b\b| \b\b/ \b\b- \b\b\\ \b\b| \b\b/ \b\b- \b\b\\ \b\b| \b\b/ \b\b- \b\b\\ \b\b| \b\b/ \b\b- \b\b\\ \b\b| \b\b/ \b\b- \b\b\\ \b\b| \b\b/ \b\b- \b\b\\ \b\b| \b\b/ \b\b- \b\b\\ \b\b| \b\b/ \b\b- \b\b\\ \b\b| \b\b/ \b\b- \b\b\\ \b\b| \b\b/ \b\b- \b\b\\ \b\b| \b\b/ \b\b- \b\b\\ \b\b| \b\b/ \b\b- \b\b\\ \b\b| \b\b/ \b\b- \b\b\\ \b\b| \b\b/ \b\b- \b\b\\ \b\b| \b\b/ \b\b- \b\b\\ \b\b| \b\b/ \b\b- \b\b\\ \b\b| \b\b/ \b\b- \b\b\\ \b\b| \b\b/ \b\b- \b\b\\ \b\b| \b\b/ \b\b- \b\b\\ \b\b| \b\b/ \b\b- \b\b\\ \b\b| \b\b/ \b\b- \b\b\\ \b\b| \b\b/ \b\b- \b\b\\ \b\b| \b\b/ \b\b- \b\b\\ \b\b| \b\b/ \b\b- \b\b\\ \b\b| \b\b/ \b\b- \b\b\\ \b\b| \b\b/ \b\b- \b\b\\ \b\b| \b\b/ \b\b- \b\b\\ \b\b| \b\b/ \b\b- \b\b\\ \b\b| \b\b/ \b\b- \b\b\\ \b\b| \b\b/ \b\b- \b\b\\ \b\b| \b\b/ \b\b- \b\b\\ \b\b| \b\b/ \b\b- \b\b\\ \b\b| \b\b/ \b\b- \b\b\\ \b\b| \b\b/ \b\b- \b\b\\ \b\b| \b\b/ \b\b- \b\b\\ \b\b| \b\b/ \b\b- \b\b\\ \b\b| \b\b/ \b\b- \b\b\\ \b\b| \b\b/ \b\b- \b\b\\ \b\b| \b\b/ \b\b- \b\b\\ \b\b| \b\b/ \b\b- \b\b\\ \b\b| \b\b/ \b\b- \b\b\\ \b\b| \b\b/ \b\b- \b\b\\ \b\b| \b\b/ \b\b- \b\b\\ \b\b| \b\b/ \b\b- \b\b\\ \b\b| \b\b/ \b\b- \b\b\\ \b\b| \b\b/ \b\bdone\r\n",
      "\r\n",
      "## Package Plan ##\r\n",
      "\r\n",
      "  environment location: /opt/conda\r\n",
      "\r\n",
      "  added / updated specs:\r\n",
      "    - perl-perlio-gzip\r\n",
      "\r\n",
      "\r\n",
      "The following packages will be downloaded:\r\n",
      "\r\n",
      "    package                    |            build\r\n",
      "    ---------------------------|-----------------\r\n",
      "    perl-5.26.2                |    h36c2ea0_1008        15.4 MB  conda-forge\r\n",
      "    perl-perlio-gzip-0.20      |  pl526h84994c4_1          17 KB  bioconda\r\n",
      "    ------------------------------------------------------------\r\n",
      "                                           Total:        15.4 MB\r\n",
      "\r\n",
      "The following NEW packages will be INSTALLED:\r\n",
      "\r\n",
      "  perl-perlio-gzip   bioconda/linux-64::perl-perlio-gzip-0.20-pl526h84994c4_1\r\n",
      "\r\n",
      "The following packages will be DOWNGRADED:\r\n",
      "\r\n",
      "  perl                                    5.32.0-h36c2ea0_0 --> 5.26.2-h36c2ea0_1008\r\n",
      "\r\n",
      "\r\n",
      "\r\n",
      "Downloading and Extracting Packages\r\n",
      "perl-perlio-gzip-0.2 | 17 KB     | ##################################### | 100% \r\n",
      "perl-5.26.2          | 15.4 MB   | ##################################### | 100% \r\n",
      "Preparing transaction: \\ \b\b| \b\bdone\r\n",
      "Verifying transaction: - \b\b\\ \b\b| \b\b/ \b\b- \b\b\\ \b\bdone\r\n",
      "Executing transaction: / \b\b- \b\b\\ \b\b| \b\b/ \b\b- \b\b\\ \b\b| \b\b/ \b\b- \b\b\\ \b\b| \b\b/ \b\b- \b\b\\ \b\b| \b\b/ \b\b- \b\b\\ \b\b| \b\b/ \b\b- \b\b\\ \b\b| \b\b/ \b\b- \b\b\\ \b\b| \b\b/ \b\b- \b\b\\ \b\b| \b\b/ \b\b- \b\b\\ \b\b| \b\b/ \b\b- \b\b\\ \b\b| \b\b/ \b\b- \b\b\\ \b\b| \b\b/ \b\b- \b\b\\ \b\b| \b\b/ \b\b- \b\b\\ \b\b| \b\b/ \b\b- \b\b\\ \b\b| \b\b/ \b\b- \b\b\\ \b\b| \b\b/ \b\b- \b\b\\ \b\b| \b\b/ \b\b- \b\b\\ \b\b| \b\b/ \b\b- \b\b\\ \b\b| \b\b/ \b\b- \b\b\\ \b\b| \b\b/ \b\b- \b\b\\ \b\b| \b\b/ \b\b- \b\b\\ \b\b| \b\b/ \b\b- \b\b\\ \b\b| \b\b/ \b\b- \b\b\\ \b\b| \b\b/ \b\b- \b\b\\ \b\b| \b\b/ \b\b- \b\b\\ \b\b| \b\b/ \b\b- \b\b\\ \b\b| \b\b/ \b\b- \b\b\\ \b\b| \b\b/ \b\b- \b\b\\ \b\b| \b\b/ \b\b- \b\b\\ \b\b| \b\b/ \b\b- \b\b\\ \b\b| \b\b/ \b\b- \b\b\\ \b\b| \b\b/ \b\b- \b\b\\ \b\b| \b\b/ \b\b- \b\b\\ \b\b| \b\b/ \b\b- \b\b\\ \b\b| \b\b/ \b\b- \b\b\\ \b\b| \b\b/ \b\b- \b\b\\ \b\b| \b\b/ \b\b- \b\b\\ \b\b| \b\b/ \b\b- \b\b\\ \b\b| \b\b/ \b\b- \b\b\\ \b\b| \b\b/ \b\b- \b\b\\ \b\b| \b\b/ \b\b- \b\b\\ \b\b| \b\b/ \b\b- \b\b\\ \b\b| \b\b/ \b\b- \b\b\\ \b\b| \b\b/ \b\b- \b\b\\ \b\b| \b\b/ \b\b- \b\b\\ \b\b| \b\bdone\r\n"
     ]
    }
   ],
   "source": [
    "#apt-get -y install libperlio-gzip-perl\n",
    "!conda install -c bioconda perl-perlio-gzip -y"
   ]
  },
  {
   "cell_type": "code",
   "execution_count": 7,
   "id": "divine-series",
   "metadata": {
    "execution": {
     "iopub.execute_input": "2021-05-16T19:11:35.605741Z",
     "iopub.status.busy": "2021-05-16T19:11:35.605025Z",
     "iopub.status.idle": "2021-05-16T19:11:35.607826Z",
     "shell.execute_reply": "2021-05-16T19:11:35.608277Z"
    },
    "papermill": {
     "duration": 0.304172,
     "end_time": "2021-05-16T19:11:35.608478",
     "exception": false,
     "start_time": "2021-05-16T19:11:35.304306",
     "status": "completed"
    },
    "tags": []
   },
   "outputs": [],
   "source": [
    "import os\n",
    "#os.environ['LD_LIBRARY_PATH'] = f'{os.environ[\"LD_LIBRARY_PATH\"]}:/opt/kaldi/tools/openfst-1.6.7/lib:/opt/kaldi/src/lib'\n",
    "os.environ['LD_LIBRARY_PATH'] = '/opt/conda/lib:/opt/kaldi/tools/openfst-1.6.7/lib:/opt/kaldi/src/lib'"
   ]
  },
  {
   "cell_type": "code",
   "execution_count": 8,
   "id": "norwegian-detroit",
   "metadata": {
    "execution": {
     "iopub.execute_input": "2021-05-16T19:11:36.217246Z",
     "iopub.status.busy": "2021-05-16T19:11:36.216462Z",
     "iopub.status.idle": "2021-05-16T19:11:37.689664Z",
     "shell.execute_reply": "2021-05-16T19:11:37.690175Z"
    },
    "papermill": {
     "duration": 1.782467,
     "end_time": "2021-05-16T19:11:37.690404",
     "exception": false,
     "start_time": "2021-05-16T19:11:35.907937",
     "status": "completed"
    },
    "tags": []
   },
   "outputs": [],
   "source": [
    "!cat path.sh|sed -e 's/~\\/apps/\\/opt/' > tmp\n",
    "!mv tmp path.sh"
   ]
  },
  {
   "cell_type": "code",
   "execution_count": 9,
   "id": "necessary-blast",
   "metadata": {
    "execution": {
     "iopub.execute_input": "2021-05-16T19:11:38.302324Z",
     "iopub.status.busy": "2021-05-16T19:11:38.297938Z",
     "iopub.status.idle": "2021-05-16T19:11:39.010709Z",
     "shell.execute_reply": "2021-05-16T19:11:39.010052Z"
    },
    "papermill": {
     "duration": 1.019822,
     "end_time": "2021-05-16T19:11:39.010892",
     "exception": false,
     "start_time": "2021-05-16T19:11:37.991070",
     "status": "completed"
    },
    "tags": []
   },
   "outputs": [],
   "source": [
    "!echo > local_clarin/clarin_pl_clean.sh"
   ]
  },
  {
   "cell_type": "code",
   "execution_count": 10,
   "id": "distributed-olive",
   "metadata": {
    "execution": {
     "iopub.execute_input": "2021-05-16T19:11:39.623763Z",
     "iopub.status.busy": "2021-05-16T19:11:39.619175Z",
     "iopub.status.idle": "2021-05-16T19:11:42.508511Z",
     "shell.execute_reply": "2021-05-16T19:11:42.509261Z"
    },
    "papermill": {
     "duration": 3.197583,
     "end_time": "2021-05-16T19:11:42.509497",
     "exception": false,
     "start_time": "2021-05-16T19:11:39.311914",
     "status": "completed"
    },
    "tags": []
   },
   "outputs": [],
   "source": [
    "!ln -s ../wsj/s5/steps\n",
    "!ln -s ../wsj/s5/conf\n",
    "!ln -s ../wsj/s5/local\n",
    "!ln -s ../wsj/s5/utils"
   ]
  },
  {
   "cell_type": "code",
   "execution_count": 11,
   "id": "responsible-hampshire",
   "metadata": {
    "execution": {
     "iopub.execute_input": "2021-05-16T19:11:43.113494Z",
     "iopub.status.busy": "2021-05-16T19:11:43.112440Z",
     "iopub.status.idle": "2021-05-16T19:11:50.730315Z",
     "shell.execute_reply": "2021-05-16T19:11:50.730855Z"
    },
    "papermill": {
     "duration": 7.919853,
     "end_time": "2021-05-16T19:11:50.731088",
     "exception": false,
     "start_time": "2021-05-16T19:11:42.811235",
     "status": "completed"
    },
    "tags": []
   },
   "outputs": [],
   "source": [
    "!cp -r /kaggle/input/kaldi-clarinstudio-polish-data-prep/data /kaggle/working/"
   ]
  },
  {
   "cell_type": "code",
   "execution_count": 12,
   "id": "historic-bacteria",
   "metadata": {
    "execution": {
     "iopub.execute_input": "2021-05-16T19:11:51.359084Z",
     "iopub.status.busy": "2021-05-16T19:11:51.357920Z",
     "iopub.status.idle": "2021-05-16T19:11:53.508792Z",
     "shell.execute_reply": "2021-05-16T19:11:53.507394Z"
    },
    "papermill": {
     "duration": 2.470116,
     "end_time": "2021-05-16T19:11:53.509013",
     "exception": false,
     "start_time": "2021-05-16T19:11:51.038897",
     "status": "completed"
    },
    "tags": []
   },
   "outputs": [],
   "source": [
    "!mkdir /kaggle/working/exp\n",
    "!ln -s /kaggle/working/exp\n",
    "!ln -s /kaggle/working/data"
   ]
  },
  {
   "cell_type": "code",
   "execution_count": 13,
   "id": "illegal-cattle",
   "metadata": {
    "execution": {
     "iopub.execute_input": "2021-05-16T19:11:54.489777Z",
     "iopub.status.busy": "2021-05-16T19:11:54.485506Z",
     "iopub.status.idle": "2021-05-17T02:42:35.508648Z",
     "shell.execute_reply": "2021-05-17T02:42:35.508038Z"
    },
    "papermill": {
     "duration": 27041.700411,
     "end_time": "2021-05-17T02:42:35.508842",
     "exception": false,
     "start_time": "2021-05-16T19:11:53.808431",
     "status": "completed"
    },
    "tags": []
   },
   "outputs": [
    {
     "name": "stdout",
     "output_type": "stream",
     "text": [
      "steps/train_mono.sh --nj 40 --num_iters 30 data/train data/lang_nosp exp/mono0\r\n",
      "steps/train_mono.sh: Initializing monophone system.\r\n",
      "steps/train_mono.sh: Compiling training graphs\r\n",
      "steps/train_mono.sh: Aligning data equally (pass 0)\r\n",
      "steps/train_mono.sh: Pass 1\r\n",
      "steps/train_mono.sh: Aligning data\r\n",
      "steps/train_mono.sh: Pass 2\r\n",
      "steps/train_mono.sh: Aligning data\r\n",
      "steps/train_mono.sh: Pass 3\r\n",
      "steps/train_mono.sh: Aligning data\r\n",
      "steps/train_mono.sh: Pass 4\r\n",
      "steps/train_mono.sh: Aligning data\r\n",
      "steps/train_mono.sh: Pass 5\r\n",
      "steps/train_mono.sh: Aligning data\r\n",
      "steps/train_mono.sh: Pass 6\r\n",
      "steps/train_mono.sh: Aligning data\r\n",
      "steps/train_mono.sh: Pass 7\r\n",
      "steps/train_mono.sh: Aligning data\r\n",
      "steps/train_mono.sh: Pass 8\r\n",
      "steps/train_mono.sh: Aligning data\r\n",
      "steps/train_mono.sh: Pass 9\r\n",
      "steps/train_mono.sh: Aligning data\r\n",
      "steps/train_mono.sh: Pass 10\r\n",
      "steps/train_mono.sh: Aligning data\r\n",
      "steps/train_mono.sh: Pass 11\r\n",
      "steps/train_mono.sh: Pass 12\r\n",
      "steps/train_mono.sh: Aligning data\r\n",
      "steps/train_mono.sh: Pass 13\r\n",
      "steps/train_mono.sh: Pass 14\r\n",
      "steps/train_mono.sh: Aligning data\r\n",
      "steps/train_mono.sh: Pass 15\r\n",
      "steps/train_mono.sh: Pass 16\r\n",
      "steps/train_mono.sh: Aligning data\r\n",
      "steps/train_mono.sh: Pass 17\r\n",
      "steps/train_mono.sh: Pass 18\r\n",
      "steps/train_mono.sh: Aligning data\r\n",
      "steps/train_mono.sh: Pass 19\r\n",
      "steps/train_mono.sh: Pass 20\r\n",
      "steps/train_mono.sh: Aligning data\r\n",
      "steps/train_mono.sh: Pass 21\r\n",
      "steps/train_mono.sh: Pass 22\r\n",
      "steps/train_mono.sh: Pass 23\r\n",
      "steps/train_mono.sh: Aligning data\r\n",
      "steps/train_mono.sh: Pass 24\r\n",
      "steps/train_mono.sh: Pass 25\r\n",
      "steps/train_mono.sh: Pass 26\r\n",
      "steps/train_mono.sh: Aligning data\r\n",
      "steps/train_mono.sh: Pass 27\r\n",
      "steps/train_mono.sh: Pass 28\r\n",
      "steps/train_mono.sh: Pass 29\r\n",
      "steps/train_mono.sh: Aligning data\r\n",
      "steps/diagnostic/analyze_alignments.sh --cmd run.pl data/lang_nosp exp/mono0\r\n",
      "analyze_phone_length_stats.py: WARNING: optional-silence sil is seen only 0.6297229219143576% of the time at utterance begin.  This may not be optimal.\r\n",
      "analyze_phone_length_stats.py: WARNING: optional-silence sil is seen only 0.7826556315221302% of the time at utterance end.  This may not be optimal.\r\n",
      "steps/diagnostic/analyze_alignments.sh: see stats in exp/mono0/log/analyze_alignments.log\r\n",
      "60468 warnings in exp/mono0/log/acc.*.*.log\r\n",
      "2 warnings in exp/mono0/log/analyze_alignments.log\r\n",
      "224645 warnings in exp/mono0/log/align.*.*.log\r\n",
      "3240 warnings in exp/mono0/log/update.*.log\r\n",
      "6 warnings in exp/mono0/log/init.log\r\n",
      "exp/mono0: nj=40 align prob=-96.05 over 43.30h [retry=64.3%, fail=0.9%] states=113 gauss=925\r\n",
      "steps/train_mono.sh: Done training monophone system in exp/mono0\r\n"
     ]
    }
   ],
   "source": [
    "!bash steps/train_mono.sh --nj 40 --num_iters 30 data/train data/lang_nosp exp/mono0"
   ]
  }
 ],
 "metadata": {
  "kernelspec": {
   "display_name": "Python 3",
   "language": "python",
   "name": "python3"
  },
  "language_info": {
   "codemirror_mode": {
    "name": "ipython",
    "version": 3
   },
   "file_extension": ".py",
   "mimetype": "text/x-python",
   "name": "python",
   "nbconvert_exporter": "python",
   "pygments_lexer": "ipython3",
   "version": "3.7.10"
  },
  "papermill": {
   "default_parameters": {},
   "duration": 27299.803243,
   "end_time": "2021-05-17T02:42:37.376942",
   "environment_variables": {},
   "exception": null,
   "input_path": "__notebook__.ipynb",
   "output_path": "__notebook__.ipynb",
   "parameters": {},
   "start_time": "2021-05-16T19:07:37.573699",
   "version": "2.3.3"
  }
 },
 "nbformat": 4,
 "nbformat_minor": 5
}
