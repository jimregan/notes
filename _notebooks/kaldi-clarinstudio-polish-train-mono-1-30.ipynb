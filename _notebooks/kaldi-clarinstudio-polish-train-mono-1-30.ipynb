{
 "cells": [
  {
   "cell_type": "code",
   "execution_count": 1,
   "id": "flexible-twelve",
   "metadata": {
    "execution": {
     "iopub.execute_input": "2021-05-16T08:22:54.360871Z",
     "iopub.status.busy": "2021-05-16T08:22:54.359719Z",
     "iopub.status.idle": "2021-05-16T08:22:54.369360Z",
     "shell.execute_reply": "2021-05-16T08:22:54.369893Z"
    },
    "papermill": {
     "duration": 0.024717,
     "end_time": "2021-05-16T08:22:54.370228",
     "exception": false,
     "start_time": "2021-05-16T08:22:54.345511",
     "status": "completed"
    },
    "tags": []
   },
   "outputs": [
    {
     "name": "stdout",
     "output_type": "stream",
     "text": [
      "/opt\n"
     ]
    }
   ],
   "source": [
    "%cd /opt"
   ]
  },
  {
   "cell_type": "code",
   "execution_count": 2,
   "id": "proper-routine",
   "metadata": {
    "_cell_guid": "b1076dfc-b9ad-4769-8c92-a6c4dae69d19",
    "_uuid": "8f2839f25d086af736a60e9eeb907d3b93b6e0e5",
    "execution": {
     "iopub.execute_input": "2021-05-16T08:22:54.409760Z",
     "iopub.status.busy": "2021-05-16T08:22:54.396793Z",
     "iopub.status.idle": "2021-05-16T08:23:33.178088Z",
     "shell.execute_reply": "2021-05-16T08:23:33.176782Z"
    },
    "papermill": {
     "duration": 38.797452,
     "end_time": "2021-05-16T08:23:33.178302",
     "exception": false,
     "start_time": "2021-05-16T08:22:54.380850",
     "status": "completed"
    },
    "tags": []
   },
   "outputs": [],
   "source": [
    "%%capture\n",
    "!tar xvf /kaggle/input/extract-prebuilt-kaldi-from-docker/kaldi.tar"
   ]
  },
  {
   "cell_type": "code",
   "execution_count": 3,
   "id": "chronic-forward",
   "metadata": {
    "execution": {
     "iopub.execute_input": "2021-05-16T08:23:33.206119Z",
     "iopub.status.busy": "2021-05-16T08:23:33.204941Z",
     "iopub.status.idle": "2021-05-16T08:23:33.209999Z",
     "shell.execute_reply": "2021-05-16T08:23:33.210723Z"
    },
    "papermill": {
     "duration": 0.022312,
     "end_time": "2021-05-16T08:23:33.210986",
     "exception": false,
     "start_time": "2021-05-16T08:23:33.188674",
     "status": "completed"
    },
    "tags": []
   },
   "outputs": [
    {
     "name": "stdout",
     "output_type": "stream",
     "text": [
      "/opt/kaldi/egs\n"
     ]
    }
   ],
   "source": [
    "%cd kaldi/egs"
   ]
  },
  {
   "cell_type": "code",
   "execution_count": 4,
   "id": "purple-consortium",
   "metadata": {
    "execution": {
     "iopub.execute_input": "2021-05-16T08:23:33.241101Z",
     "iopub.status.busy": "2021-05-16T08:23:33.237126Z",
     "iopub.status.idle": "2021-05-16T08:23:37.395863Z",
     "shell.execute_reply": "2021-05-16T08:23:37.395232Z"
    },
    "papermill": {
     "duration": 4.174077,
     "end_time": "2021-05-16T08:23:37.396014",
     "exception": false,
     "start_time": "2021-05-16T08:23:33.221937",
     "status": "completed"
    },
    "tags": []
   },
   "outputs": [
    {
     "name": "stdout",
     "output_type": "stream",
     "text": [
      "Cloning into 'ClarinStudioKaldi'...\r\n",
      "remote: Enumerating objects: 778, done.\u001b[K\r\n",
      "remote: Counting objects: 100% (3/3), done.\u001b[K\r\n",
      "remote: Compressing objects: 100% (3/3), done.\u001b[K\r\n",
      "remote: Total 778 (delta 0), reused 0 (delta 0), pack-reused 775\u001b[K\r\n",
      "Receiving objects: 100% (778/778), 35.26 MiB | 27.75 MiB/s, done.\r\n",
      "Resolving deltas: 100% (262/262), done.\r\n"
     ]
    }
   ],
   "source": [
    "!git clone https://github.com/danijel3/ClarinStudioKaldi"
   ]
  },
  {
   "cell_type": "code",
   "execution_count": 5,
   "id": "tutorial-honey",
   "metadata": {
    "execution": {
     "iopub.execute_input": "2021-05-16T08:23:37.431094Z",
     "iopub.status.busy": "2021-05-16T08:23:37.430231Z",
     "iopub.status.idle": "2021-05-16T08:23:37.434681Z",
     "shell.execute_reply": "2021-05-16T08:23:37.435169Z"
    },
    "papermill": {
     "duration": 0.025374,
     "end_time": "2021-05-16T08:23:37.435367",
     "exception": false,
     "start_time": "2021-05-16T08:23:37.409993",
     "status": "completed"
    },
    "tags": []
   },
   "outputs": [
    {
     "name": "stdout",
     "output_type": "stream",
     "text": [
      "/opt/kaldi/egs/ClarinStudioKaldi\n"
     ]
    }
   ],
   "source": [
    "%cd ClarinStudioKaldi"
   ]
  },
  {
   "cell_type": "code",
   "execution_count": 6,
   "id": "organized-spare",
   "metadata": {
    "execution": {
     "iopub.execute_input": "2021-05-16T08:23:37.466967Z",
     "iopub.status.busy": "2021-05-16T08:23:37.466354Z",
     "iopub.status.idle": "2021-05-16T08:26:12.440357Z",
     "shell.execute_reply": "2021-05-16T08:26:12.439769Z"
    },
    "papermill": {
     "duration": 154.990879,
     "end_time": "2021-05-16T08:26:12.440544",
     "exception": false,
     "start_time": "2021-05-16T08:23:37.449665",
     "status": "completed"
    },
    "tags": []
   },
   "outputs": [
    {
     "name": "stdout",
     "output_type": "stream",
     "text": [
      "Collecting package metadata (current_repodata.json): - \b\b\\ \b\b| \b\b/ \b\b- \b\b\\ \b\b| \b\b/ \b\b- \b\b\\ \b\b| \b\b/ \b\b- \b\b\\ \b\b| \b\b/ \b\b- \b\b\\ \b\b| \b\b/ \b\b- \b\b\\ \b\b| \b\b/ \b\b- \b\b\\ \b\b| \b\b/ \b\b- \b\b\\ \b\b| \b\b/ \b\b- \b\b\\ \b\b| \b\b/ \b\b- \b\b\\ \b\b| \b\b/ \b\b- \b\b\\ \b\b| \b\b/ \b\b- \b\b\\ \b\b| \b\b/ \b\b- \b\b\\ \b\b| \b\b/ \b\b- \b\b\\ \b\b| \b\b/ \b\b- \b\b\\ \b\b| \b\b/ \b\b- \b\b\\ \b\b| \b\b/ \b\b- \b\b\\ \b\b| \b\b/ \b\b- \b\b\\ \b\b| \b\b/ \b\b- \b\b\\ \b\b| \b\b/ \b\b- \b\b\\ \b\b| \b\b/ \b\b- \b\b\\ \b\b| \b\b/ \b\b- \b\b\\ \b\b| \b\b/ \b\b- \b\b\\ \b\b| \b\b/ \b\b- \b\b\\ \b\b| \b\b/ \b\b- \b\b\\ \b\b| \b\b/ \b\b- \b\b\\ \b\b| \b\b/ \b\b- \b\b\\ \b\b| \b\b/ \b\b- \b\b\\ \b\b| \b\b/ \b\b- \b\b\\ \b\b| \b\b/ \b\b- \b\b\\ \b\b| \b\b/ \b\b- \b\b\\ \b\b| \b\b/ \b\b- \b\b\\ \b\b| \b\b/ \b\b- \b\b\\ \b\b| \b\b/ \b\b- \b\b\\ \b\b| \b\b/ \b\b- \b\b\\ \b\b| \b\b/ \b\b- \b\b\\ \b\b| \b\b/ \b\b- \b\b\\ \b\b| \b\b/ \b\b- \b\b\\ \b\b| \b\b/ \b\b- \b\b\\ \b\b| \b\b/ \b\b- \b\b\\ \b\b| \b\b/ \b\b- \b\b\\ \b\b| \b\b/ \b\b- \b\b\\ \b\b| \b\b/ \b\b- \b\b\\ \b\b| \b\b/ \b\b- \b\bdone\r\n",
      "Solving environment: | \b\b/ \b\b- \b\b\\ \b\b| \b\b/ \b\b- \b\b\\ \b\b| \b\b/ \b\b- \b\b\\ \b\b| \b\b/ \b\b- \b\b\\ \b\b| \b\b/ \b\b- \b\b\\ \b\b| \b\b/ \b\b- \b\b\\ \b\b| \b\b/ \b\b- \b\b\\ \b\b| \b\b/ \b\b- \b\b\\ \b\b| \b\b/ \b\b- \b\b\\ \b\b| \b\b/ \b\b- \b\b\\ \b\b| \b\b/ \b\b- \b\b\\ \b\b| \b\b/ \b\b- \b\b\\ \b\b| \b\b/ \b\b- \b\b\\ \b\b| \b\b/ \b\b- \b\b\\ \b\b| \b\b/ \b\b- \b\b\\ \b\b| \b\b/ \b\b- \b\b\\ \b\b| \b\b/ \b\b- \b\b\\ \b\b| \b\b/ \b\b- \b\b\\ \b\b| \b\b/ \b\b- \b\b\\ \b\b| \b\b/ \b\b- \b\b\\ \b\b| \b\b/ \b\b- \b\b\\ \b\b| \b\b/ \b\b- \b\b\\ \b\b| \b\b/ \b\b- \b\b\\ \b\b| \b\b/ \b\b- \b\b\\ \b\b| \b\b/ \b\b- \b\b\\ \b\b| \b\b/ \b\b- \b\b\\ \b\b| \b\b/ \b\b- \b\b\\ \b\b| \b\b/ \b\b- \b\b\\ \b\b| \b\b/ \b\b- \b\b\\ \b\b| \b\b/ \b\b- \b\b\\ \b\b| \b\b/ \b\b- \b\b\\ \b\b| \b\b/ \b\b- \b\b\\ \b\b| \b\b/ \b\b- \b\b\\ \b\b| \b\b/ \b\b- \b\b\\ \b\b| \b\b/ \b\b- \b\b\\ \b\b| \b\b/ \b\b- \b\b\\ \b\b| \b\b/ \b\b- \b\b\\ \b\b| \b\b/ \b\b- \b\b\\ \b\b| \b\b/ \b\b- \b\b\\ \b\b| \b\b/ \b\b- \b\b\\ \b\b| \b\b/ \b\b- \b\b\\ \b\b| \b\b/ \b\b- \b\b\\ \b\b| \b\b/ \b\b- \b\b\\ \b\b| \b\b/ \b\b- \b\b\\ \b\b| \b\b/ \b\b- \b\b\\ \b\b| \b\b/ \b\b- \b\b\\ \b\b| \b\b/ \b\b- \b\b\\ \b\b| \b\b/ \b\b- \b\b\\ \b\b| \b\b/ \b\b- \b\b\\ \b\b| \b\b/ \b\b- \b\b\\ \b\b| \b\b/ \b\b- \b\b\\ \b\b| \b\b/ \b\b- \b\b\\ \b\b| \b\b/ \b\b- \b\b\\ \b\b| \b\b/ \b\b- \b\b\\ \b\b| \b\b/ \b\b- \b\b\\ \b\b| \b\b/ \b\b- \b\b\\ \b\b| \b\b/ \b\b- \b\b\\ \b\b| \b\b/ \b\b- \b\b\\ \b\b| \b\b/ \b\b- \b\b\\ \b\b| \b\b/ \b\b- \b\b\\ \b\b| \b\b/ \b\b- \b\b\\ \b\b| \b\b/ \b\b- \b\b\\ \b\b| \b\b/ \b\b- \b\b\\ \b\b| \b\b/ \b\b- \b\b\\ \b\b| \b\b/ \b\b- \b\b\\ \b\b| \b\b/ \b\b- \b\b\\ \b\b| \b\b/ \b\b- \b\b\\ \b\b| \b\b/ \b\b- \b\b\\ \b\b| \b\b/ \b\b- \b\b\\ \b\b| \b\b/ \b\b- \b\b\\ \b\b| \b\b/ \b\b- \b\b\\ \b\b| \b\b/ \b\b- \b\b\\ \b\b| \b\b/ \b\b- \b\b\\ \b\b| \b\b/ \b\b- \b\b\\ \b\b| \b\b/ \b\b- \b\b\\ \b\b| \b\b/ \b\b- \b\b\\ \b\b| \b\b/ \b\b- \b\b\\ \b\b| \b\b/ \b\b- \b\b\\ \b\b| \b\b/ \b\b- \b\b\\ \b\b| \b\b/ \b\b- \b\b\\ \b\b| \b\b/ \b\b- \b\b\\ \b\b| \b\b/ \b\b- \b\b\\ \b\b| \b\b/ \b\b- \b\b\\ \b\b| \b\b/ \b\b- \b\b\\ \b\b| \b\b/ \b\b- \b\b\\ \b\b| \b\b/ \b\b- \b\b\\ \b\b| \b\b/ \b\b- \b\b\\ \b\b| \b\b/ \b\b- \b\b\\ \b\b| \b\b/ \b\b- \b\b\\ \b\b| \b\b/ \b\b- \b\b\\ \b\b| \b\b/ \b\b- \b\b\\ \b\b| \b\b/ \b\b- \b\b\\ \b\b| \b\b/ \b\b- \b\b\\ \b\b| \b\b/ \b\b- \b\b\\ \b\b| \b\b/ \b\b- \b\b\\ \b\b| \b\b/ \b\b- \b\b\\ \b\b| \b\b/ \b\b- \b\b\\ \b\b| \b\b/ \b\b- \b\b\\ \b\b| \b\b/ \b\b- \b\b\\ \b\b| \b\b/ \b\b- \b\b\\ \b\b| \b\b/ \b\b- \b\b\\ \b\b| \b\b/ \b\b- \b\b\\ \b\b| \b\b/ \b\b- \b\b\\ \b\b| \b\b/ \b\b- \b\b\\ \b\b| \b\b/ \b\b- \b\b\\ \b\b| \b\b/ \b\b- \b\b\\ \b\b| \b\b/ \b\b- \b\b\\ \b\b| \b\b/ \b\b- \b\b\\ \b\b| \b\b/ \b\b- \b\b\\ \b\b| \b\b/ \b\b- \b\b\\ \b\b| \b\b/ \b\b- \b\b\\ \b\b| \b\b/ \b\b- \b\b\\ \b\b| \b\b/ \b\b- \b\b\\ \b\b| \b\b/ \b\b- \b\b\\ \b\b| \b\b/ \b\b- \b\b\\ \b\b| \b\b/ \b\b- \b\b\\ \b\b| \b\b/ \b\b- \b\b\\ \b\b| \b\b/ \b\b- \b\b\\ \b\b| \b\b/ \b\b- \b\b\\ \b\b| \b\b/ \b\b- \b\b\\ \b\b| \b\b/ \b\b- \b\b\\ \b\b| \b\b/ \b\b- \b\b\\ \b\b| \b\b/ \b\b- \b\b\\ \b\b| \b\b/ \b\b- \b\b\\ \b\b| \b\b/ \b\b- \b\b\\ \b\b| \b\b/ \b\b- \b\b\\ \b\b| \b\b/ \b\b- \b\b\\ \b\b| \b\b/ \b\b- \b\b\\ \b\b| \b\b/ \b\b- \b\b\\ \b\b| \b\b/ \b\b- \b\b\\ \b\b| \b\b/ \b\b- \b\b\\ \b\b| \b\b/ \b\b- \b\b\\ \b\b| \b\b/ \b\b- \b\b\\ \b\b| \b\b/ \b\b- \b\b\\ \b\b| \b\b/ \b\b- \b\b\\ \b\b| \b\b/ \b\b- \b\b\\ \b\b| \b\b/ \b\b- \b\b\\ \b\b| \b\b/ \b\b- \b\b\\ \b\b| \b\b/ \b\b- \b\b\\ \b\b| \b\b/ \b\b- \b\b\\ \b\b| \b\b/ \b\b- \b\b\\ \b\b| \b\b/ \b\b- \b\b\\ \b\b| \b\bdone\r\n",
      "\r\n",
      "## Package Plan ##\r\n",
      "\r\n",
      "  environment location: /opt/conda\r\n",
      "\r\n",
      "  added / updated specs:\r\n",
      "    - perl-perlio-gzip\r\n",
      "\r\n",
      "\r\n",
      "The following packages will be downloaded:\r\n",
      "\r\n",
      "    package                    |            build\r\n",
      "    ---------------------------|-----------------\r\n",
      "    perl-5.26.2                |    h36c2ea0_1008        15.4 MB  conda-forge\r\n",
      "    perl-perlio-gzip-0.20      |  pl526h84994c4_1          17 KB  bioconda\r\n",
      "    ------------------------------------------------------------\r\n",
      "                                           Total:        15.4 MB\r\n",
      "\r\n",
      "The following NEW packages will be INSTALLED:\r\n",
      "\r\n",
      "  perl-perlio-gzip   bioconda/linux-64::perl-perlio-gzip-0.20-pl526h84994c4_1\r\n",
      "\r\n",
      "The following packages will be DOWNGRADED:\r\n",
      "\r\n",
      "  perl                                    5.32.0-h36c2ea0_0 --> 5.26.2-h36c2ea0_1008\r\n",
      "\r\n",
      "\r\n",
      "\r\n",
      "Downloading and Extracting Packages\r\n",
      "perl-perlio-gzip-0.2 | 17 KB     | ##################################### | 100% \r\n",
      "perl-5.26.2          | 15.4 MB   | ##################################### | 100% \r\n",
      "Preparing transaction: - \b\b\\ \b\bdone\r\n",
      "Verifying transaction: / \b\b- \b\b\\ \b\b| \b\b/ \b\b- \b\b\\ \b\bdone\r\n",
      "Executing transaction: / \b\b- \b\b\\ \b\b| \b\b/ \b\b- \b\b\\ \b\b| \b\b/ \b\b- \b\b\\ \b\b| \b\b/ \b\b- \b\b\\ \b\b| \b\b/ \b\b- \b\b\\ \b\b| \b\b/ \b\b- \b\b\\ \b\b| \b\b/ \b\b- \b\b\\ \b\b| \b\b/ \b\b- \b\b\\ \b\b| \b\b/ \b\b- \b\b\\ \b\b| \b\b/ \b\b- \b\b\\ \b\b| \b\b/ \b\b- \b\b\\ \b\b| \b\b/ \b\b- \b\b\\ \b\b| \b\b/ \b\b- \b\b\\ \b\b| \b\b/ \b\b- \b\b\\ \b\b| \b\b/ \b\b- \b\b\\ \b\b| \b\b/ \b\b- \b\b\\ \b\b| \b\b/ \b\b- \b\b\\ \b\b| \b\b/ \b\b- \b\b\\ \b\b| \b\b/ \b\b- \b\b\\ \b\b| \b\b/ \b\b- \b\b\\ \b\b| \b\b/ \b\b- \b\b\\ \b\b| \b\b/ \b\b- \b\b\\ \b\b| \b\b/ \b\b- \b\b\\ \b\b| \b\b/ \b\b- \b\b\\ \b\b| \b\b/ \b\b- \b\b\\ \b\b| \b\b/ \b\b- \b\b\\ \b\b| \b\b/ \b\b- \b\b\\ \b\b| \b\b/ \b\b- \b\b\\ \b\b| \b\b/ \b\b- \b\b\\ \b\b| \b\b/ \b\b- \b\b\\ \b\b| \b\b/ \b\b- \b\b\\ \b\b| \b\b/ \b\b- \b\b\\ \b\b| \b\b/ \b\b- \b\b\\ \b\b| \b\b/ \b\b- \b\b\\ \b\b| \b\b/ \b\b- \b\b\\ \b\b| \b\b/ \b\b- \b\b\\ \b\b| \b\b/ \b\b- \b\b\\ \b\b| \b\b/ \b\b- \b\b\\ \b\b| \b\b/ \b\b- \b\b\\ \b\b| \b\b/ \b\b- \b\b\\ \b\b| \b\b/ \b\b- \b\b\\ \b\b| \b\b/ \b\b- \b\b\\ \b\b| \b\b/ \b\b- \b\b\\ \b\bdone\r\n"
     ]
    }
   ],
   "source": [
    "#apt-get -y install libperlio-gzip-perl\n",
    "!conda install -c bioconda perl-perlio-gzip -y"
   ]
  },
  {
   "cell_type": "code",
   "execution_count": 7,
   "id": "bearing-dragon",
   "metadata": {
    "execution": {
     "iopub.execute_input": "2021-05-16T08:26:13.042384Z",
     "iopub.status.busy": "2021-05-16T08:26:13.041230Z",
     "iopub.status.idle": "2021-05-16T08:26:13.044290Z",
     "shell.execute_reply": "2021-05-16T08:26:13.044927Z"
    },
    "papermill": {
     "duration": 0.309007,
     "end_time": "2021-05-16T08:26:13.045144",
     "exception": false,
     "start_time": "2021-05-16T08:26:12.736137",
     "status": "completed"
    },
    "tags": []
   },
   "outputs": [],
   "source": [
    "import os\n",
    "#os.environ['LD_LIBRARY_PATH'] = f'{os.environ[\"LD_LIBRARY_PATH\"]}:/opt/kaldi/tools/openfst-1.6.7/lib:/opt/kaldi/src/lib'\n",
    "os.environ['LD_LIBRARY_PATH'] = '/opt/conda/lib:/opt/kaldi/tools/openfst-1.6.7/lib:/opt/kaldi/src/lib'"
   ]
  },
  {
   "cell_type": "code",
   "execution_count": 8,
   "id": "ranging-seattle",
   "metadata": {
    "execution": {
     "iopub.execute_input": "2021-05-16T08:26:13.675186Z",
     "iopub.status.busy": "2021-05-16T08:26:13.674210Z",
     "iopub.status.idle": "2021-05-16T08:26:15.144456Z",
     "shell.execute_reply": "2021-05-16T08:26:15.144957Z"
    },
    "papermill": {
     "duration": 1.806424,
     "end_time": "2021-05-16T08:26:15.145164",
     "exception": false,
     "start_time": "2021-05-16T08:26:13.338740",
     "status": "completed"
    },
    "tags": []
   },
   "outputs": [],
   "source": [
    "!cat path.sh|sed -e 's/~\\/apps/\\/opt/' > tmp\n",
    "!mv tmp path.sh"
   ]
  },
  {
   "cell_type": "code",
   "execution_count": 9,
   "id": "appropriate-baker",
   "metadata": {
    "execution": {
     "iopub.execute_input": "2021-05-16T08:26:15.726482Z",
     "iopub.status.busy": "2021-05-16T08:26:15.722120Z",
     "iopub.status.idle": "2021-05-16T08:26:16.483042Z",
     "shell.execute_reply": "2021-05-16T08:26:16.482315Z"
    },
    "papermill": {
     "duration": 1.052003,
     "end_time": "2021-05-16T08:26:16.483186",
     "exception": false,
     "start_time": "2021-05-16T08:26:15.431183",
     "status": "completed"
    },
    "tags": []
   },
   "outputs": [],
   "source": [
    "!echo > local_clarin/clarin_pl_clean.sh"
   ]
  },
  {
   "cell_type": "code",
   "execution_count": 10,
   "id": "political-thesaurus",
   "metadata": {
    "execution": {
     "iopub.execute_input": "2021-05-16T08:26:17.065966Z",
     "iopub.status.busy": "2021-05-16T08:26:17.065231Z",
     "iopub.status.idle": "2021-05-16T08:26:19.943426Z",
     "shell.execute_reply": "2021-05-16T08:26:19.942891Z"
    },
    "papermill": {
     "duration": 3.171303,
     "end_time": "2021-05-16T08:26:19.943585",
     "exception": false,
     "start_time": "2021-05-16T08:26:16.772282",
     "status": "completed"
    },
    "tags": []
   },
   "outputs": [],
   "source": [
    "!ln -s ../wsj/s5/steps\n",
    "!ln -s ../wsj/s5/conf\n",
    "!ln -s ../wsj/s5/local\n",
    "!ln -s ../wsj/s5/utils"
   ]
  },
  {
   "cell_type": "code",
   "execution_count": 11,
   "id": "naked-hughes",
   "metadata": {
    "execution": {
     "iopub.execute_input": "2021-05-16T08:26:20.520365Z",
     "iopub.status.busy": "2021-05-16T08:26:20.519608Z",
     "iopub.status.idle": "2021-05-16T08:26:21.960126Z",
     "shell.execute_reply": "2021-05-16T08:26:21.960622Z"
    },
    "papermill": {
     "duration": 1.732993,
     "end_time": "2021-05-16T08:26:21.960861",
     "exception": false,
     "start_time": "2021-05-16T08:26:20.227868",
     "status": "completed"
    },
    "tags": []
   },
   "outputs": [],
   "source": [
    "!mkdir /kaggle/working/exp\n",
    "!ln -s /kaggle/working/exp"
   ]
  },
  {
   "cell_type": "code",
   "execution_count": 12,
   "id": "female-brunswick",
   "metadata": {
    "execution": {
     "iopub.execute_input": "2021-05-16T08:26:22.564485Z",
     "iopub.status.busy": "2021-05-16T08:26:22.563881Z",
     "iopub.status.idle": "2021-05-16T08:26:23.598484Z",
     "shell.execute_reply": "2021-05-16T08:26:23.598993Z"
    },
    "papermill": {
     "duration": 1.334533,
     "end_time": "2021-05-16T08:26:23.599190",
     "exception": false,
     "start_time": "2021-05-16T08:26:22.264657",
     "status": "completed"
    },
    "tags": []
   },
   "outputs": [
    {
     "name": "stdout",
     "output_type": "stream",
     "text": [
      "steps/train_mono.sh --nj 40 /kaggle/input/kaldi-clarinstudio-polish-data-prep/data/train /kaggle/input/kaldi-clarinstudio-polish-data-prep/data/lang_nosp exp/mono0\r\n",
      "mkdir: cannot create directory '/kaggle/input/kaldi-clarinstudio-polish-data-prep/data/train/split40': Read-only file system\r\n",
      "mkdir: cannot create directory '/kaggle/input/kaldi-clarinstudio-polish-data-prep/data/train/split40': Read-only file system\r\n",
      "mkdir: cannot create directory '/kaggle/input/kaldi-clarinstudio-polish-data-prep/data/train/split40': Read-only file system\r\n",
      "mkdir: cannot create directory '/kaggle/input/kaldi-clarinstudio-polish-data-prep/data/train/split40': Read-only file system\r\n",
      "mkdir: cannot create directory '/kaggle/input/kaldi-clarinstudio-polish-data-prep/data/train/split40': Read-only file system\r\n",
      "mkdir: cannot create directory '/kaggle/input/kaldi-clarinstudio-polish-data-prep/data/train/split40': Read-only file system\r\n",
      "mkdir: cannot create directory '/kaggle/input/kaldi-clarinstudio-polish-data-prep/data/train/split40': Read-only file system\r\n",
      "mkdir: cannot create directory '/kaggle/input/kaldi-clarinstudio-polish-data-prep/data/train/split40': Read-only file system\r\n",
      "mkdir: cannot create directory '/kaggle/input/kaldi-clarinstudio-polish-data-prep/data/train/split40': Read-only file system\r\n",
      "mkdir: cannot create directory '/kaggle/input/kaldi-clarinstudio-polish-data-prep/data/train/split40': Read-only file system\r\n",
      "mkdir: cannot create directory '/kaggle/input/kaldi-clarinstudio-polish-data-prep/data/train/split40': Read-only file system\r\n",
      "mkdir: cannot create directory '/kaggle/input/kaldi-clarinstudio-polish-data-prep/data/train/split40': Read-only file system\r\n",
      "mkdir: cannot create directory '/kaggle/input/kaldi-clarinstudio-polish-data-prep/data/train/split40': Read-only file system\r\n",
      "mkdir: cannot create directory '/kaggle/input/kaldi-clarinstudio-polish-data-prep/data/train/split40': Read-only file system\r\n",
      "mkdir: cannot create directory '/kaggle/input/kaldi-clarinstudio-polish-data-prep/data/train/split40': Read-only file system\r\n",
      "mkdir: cannot create directory '/kaggle/input/kaldi-clarinstudio-polish-data-prep/data/train/split40': Read-only file system\r\n",
      "mkdir: cannot create directory '/kaggle/input/kaldi-clarinstudio-polish-data-prep/data/train/split40': Read-only file system\r\n",
      "mkdir: cannot create directory '/kaggle/input/kaldi-clarinstudio-polish-data-prep/data/train/split40': Read-only file system\r\n",
      "mkdir: cannot create directory '/kaggle/input/kaldi-clarinstudio-polish-data-prep/data/train/split40': Read-only file system\r\n",
      "mkdir: cannot create directory '/kaggle/input/kaldi-clarinstudio-polish-data-prep/data/train/split40': Read-only file system\r\n",
      "mkdir: cannot create directory '/kaggle/input/kaldi-clarinstudio-polish-data-prep/data/train/split40': Read-only file system\r\n",
      "mkdir: cannot create directory '/kaggle/input/kaldi-clarinstudio-polish-data-prep/data/train/split40': Read-only file system\r\n",
      "mkdir: cannot create directory '/kaggle/input/kaldi-clarinstudio-polish-data-prep/data/train/split40': Read-only file system\r\n",
      "mkdir: cannot create directory '/kaggle/input/kaldi-clarinstudio-polish-data-prep/data/train/split40': Read-only file system\r\n",
      "mkdir: cannot create directory '/kaggle/input/kaldi-clarinstudio-polish-data-prep/data/train/split40': Read-only file system\r\n",
      "mkdir: cannot create directory '/kaggle/input/kaldi-clarinstudio-polish-data-prep/data/train/split40': Read-only file system\r\n",
      "mkdir: cannot create directory '/kaggle/input/kaldi-clarinstudio-polish-data-prep/data/train/split40': Read-only file system\r\n",
      "mkdir: cannot create directory '/kaggle/input/kaldi-clarinstudio-polish-data-prep/data/train/split40': Read-only file system\r\n",
      "mkdir: cannot create directory '/kaggle/input/kaldi-clarinstudio-polish-data-prep/data/train/split40': Read-only file system\r\n",
      "mkdir: cannot create directory '/kaggle/input/kaldi-clarinstudio-polish-data-prep/data/train/split40': Read-only file system\r\n",
      "mkdir: cannot create directory '/kaggle/input/kaldi-clarinstudio-polish-data-prep/data/train/split40': Read-only file system\r\n",
      "mkdir: cannot create directory '/kaggle/input/kaldi-clarinstudio-polish-data-prep/data/train/split40': Read-only file system\r\n",
      "mkdir: cannot create directory '/kaggle/input/kaldi-clarinstudio-polish-data-prep/data/train/split40': Read-only file system\r\n",
      "mkdir: cannot create directory '/kaggle/input/kaldi-clarinstudio-polish-data-prep/data/train/split40': Read-only file system\r\n",
      "mkdir: cannot create directory '/kaggle/input/kaldi-clarinstudio-polish-data-prep/data/train/split40': Read-only file system\r\n",
      "mkdir: cannot create directory '/kaggle/input/kaldi-clarinstudio-polish-data-prep/data/train/split40': Read-only file system\r\n",
      "mkdir: cannot create directory '/kaggle/input/kaldi-clarinstudio-polish-data-prep/data/train/split40': Read-only file system\r\n",
      "mkdir: cannot create directory '/kaggle/input/kaldi-clarinstudio-polish-data-prep/data/train/split40': Read-only file system\r\n",
      "mkdir: cannot create directory '/kaggle/input/kaldi-clarinstudio-polish-data-prep/data/train/split40': Read-only file system\r\n",
      "mkdir: cannot create directory '/kaggle/input/kaldi-clarinstudio-polish-data-prep/data/train/split40': Read-only file system\r\n",
      "utils/split_scp.pl: Could not open scp file /kaggle/input/kaldi-clarinstudio-polish-data-prep/data/train/split40/1/utt2spk for writing: No such file or directory\r\n"
     ]
    }
   ],
   "source": [
    "!bash steps/train_mono.sh --nj 40 /kaggle/input/kaldi-clarinstudio-polish-data-prep/data/train /kaggle/input/kaldi-clarinstudio-polish-data-prep/data/lang_nosp exp/mono0"
   ]
  }
 ],
 "metadata": {
  "kernelspec": {
   "display_name": "Python 3",
   "language": "python",
   "name": "python3"
  },
  "language_info": {
   "codemirror_mode": {
    "name": "ipython",
    "version": 3
   },
   "file_extension": ".py",
   "mimetype": "text/x-python",
   "name": "python",
   "nbconvert_exporter": "python",
   "pygments_lexer": "ipython3",
   "version": "3.7.10"
  },
  "papermill": {
   "default_parameters": {},
   "duration": 218.908802,
   "end_time": "2021-05-16T08:26:25.357463",
   "environment_variables": {},
   "exception": null,
   "input_path": "__notebook__.ipynb",
   "output_path": "__notebook__.ipynb",
   "parameters": {},
   "start_time": "2021-05-16T08:22:46.448661",
   "version": "2.3.3"
  }
 },
 "nbformat": 4,
 "nbformat_minor": 5
}
