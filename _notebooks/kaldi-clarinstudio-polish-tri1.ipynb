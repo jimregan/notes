{
 "cells": [
  {
   "cell_type": "code",
   "execution_count": 1,
   "id": "figured-grain",
   "metadata": {
    "execution": {
     "iopub.execute_input": "2021-05-24T13:07:21.801068Z",
     "iopub.status.busy": "2021-05-24T13:07:21.799803Z",
     "iopub.status.idle": "2021-05-24T13:07:21.812964Z",
     "shell.execute_reply": "2021-05-24T13:07:21.812262Z",
     "shell.execute_reply.started": "2021-05-23T22:42:59.94366Z"
    },
    "papermill": {
     "duration": 0.030709,
     "end_time": "2021-05-24T13:07:21.813160",
     "exception": false,
     "start_time": "2021-05-24T13:07:21.782451",
     "status": "completed"
    },
    "tags": []
   },
   "outputs": [
    {
     "name": "stdout",
     "output_type": "stream",
     "text": [
      "/opt\n"
     ]
    }
   ],
   "source": [
    "%cd /opt"
   ]
  },
  {
   "cell_type": "code",
   "execution_count": 2,
   "id": "allied-edward",
   "metadata": {
    "_cell_guid": "b1076dfc-b9ad-4769-8c92-a6c4dae69d19",
    "_uuid": "8f2839f25d086af736a60e9eeb907d3b93b6e0e5",
    "execution": {
     "iopub.execute_input": "2021-05-24T13:07:21.846222Z",
     "iopub.status.busy": "2021-05-24T13:07:21.845495Z",
     "iopub.status.idle": "2021-05-24T13:07:56.477851Z",
     "shell.execute_reply": "2021-05-24T13:07:56.476942Z",
     "shell.execute_reply.started": "2021-05-23T22:43:43.503379Z"
    },
    "papermill": {
     "duration": 34.651465,
     "end_time": "2021-05-24T13:07:56.478027",
     "exception": false,
     "start_time": "2021-05-24T13:07:21.826562",
     "status": "completed"
    },
    "tags": []
   },
   "outputs": [],
   "source": [
    "%%capture\n",
    "!tar xvf /kaggle/input/extract-prebuilt-kaldi-from-docker/kaldi.tar"
   ]
  },
  {
   "cell_type": "code",
   "execution_count": 3,
   "id": "alpine-framing",
   "metadata": {
    "execution": {
     "iopub.execute_input": "2021-05-24T13:07:56.509141Z",
     "iopub.status.busy": "2021-05-24T13:07:56.508019Z",
     "iopub.status.idle": "2021-05-24T13:07:56.516000Z",
     "shell.execute_reply": "2021-05-24T13:07:56.515010Z",
     "shell.execute_reply.started": "2021-05-23T22:44:51.747433Z"
    },
    "papermill": {
     "duration": 0.024892,
     "end_time": "2021-05-24T13:07:56.516204",
     "exception": false,
     "start_time": "2021-05-24T13:07:56.491312",
     "status": "completed"
    },
    "tags": []
   },
   "outputs": [
    {
     "name": "stdout",
     "output_type": "stream",
     "text": [
      "/opt/kaldi/egs\n"
     ]
    }
   ],
   "source": [
    "%cd kaldi/egs"
   ]
  },
  {
   "cell_type": "code",
   "execution_count": 4,
   "id": "durable-mercy",
   "metadata": {
    "execution": {
     "iopub.execute_input": "2021-05-24T13:07:56.551004Z",
     "iopub.status.busy": "2021-05-24T13:07:56.549778Z",
     "iopub.status.idle": "2021-05-24T13:08:01.685360Z",
     "shell.execute_reply": "2021-05-24T13:08:01.684690Z",
     "shell.execute_reply.started": "2021-05-23T22:44:55.283104Z"
    },
    "papermill": {
     "duration": 5.154692,
     "end_time": "2021-05-24T13:08:01.685497",
     "exception": false,
     "start_time": "2021-05-24T13:07:56.530805",
     "status": "completed"
    },
    "tags": []
   },
   "outputs": [
    {
     "name": "stdout",
     "output_type": "stream",
     "text": [
      "Cloning into 'ClarinStudioKaldi'...\r\n",
      "remote: Enumerating objects: 778, done.\u001b[K\r\n",
      "remote: Counting objects: 100% (3/3), done.\u001b[K\r\n",
      "remote: Compressing objects: 100% (3/3), done.\u001b[K\r\n",
      "remote: Total 778 (delta 0), reused 0 (delta 0), pack-reused 775\u001b[K\r\n",
      "Receiving objects: 100% (778/778), 35.26 MiB | 38.91 MiB/s, done.\r\n",
      "Resolving deltas: 100% (262/262), done.\r\n"
     ]
    }
   ],
   "source": [
    "!git clone https://github.com/danijel3/ClarinStudioKaldi"
   ]
  },
  {
   "cell_type": "code",
   "execution_count": 5,
   "id": "fiscal-shield",
   "metadata": {
    "execution": {
     "iopub.execute_input": "2021-05-24T13:08:01.723956Z",
     "iopub.status.busy": "2021-05-24T13:08:01.723024Z",
     "iopub.status.idle": "2021-05-24T13:08:01.727144Z",
     "shell.execute_reply": "2021-05-24T13:08:01.727689Z",
     "shell.execute_reply.started": "2021-05-23T22:45:02.333219Z"
    },
    "papermill": {
     "duration": 0.026118,
     "end_time": "2021-05-24T13:08:01.727865",
     "exception": false,
     "start_time": "2021-05-24T13:08:01.701747",
     "status": "completed"
    },
    "tags": []
   },
   "outputs": [
    {
     "name": "stdout",
     "output_type": "stream",
     "text": [
      "/opt/kaldi/egs/ClarinStudioKaldi\n"
     ]
    }
   ],
   "source": [
    "%cd ClarinStudioKaldi"
   ]
  },
  {
   "cell_type": "code",
   "execution_count": 6,
   "id": "executed-surfing",
   "metadata": {
    "execution": {
     "iopub.execute_input": "2021-05-24T13:08:01.771227Z",
     "iopub.status.busy": "2021-05-24T13:08:01.767399Z",
     "iopub.status.idle": "2021-05-24T13:10:51.850371Z",
     "shell.execute_reply": "2021-05-24T13:10:51.851194Z",
     "shell.execute_reply.started": "2021-05-23T22:45:13.828183Z"
    },
    "papermill": {
     "duration": 170.106893,
     "end_time": "2021-05-24T13:10:51.851707",
     "exception": false,
     "start_time": "2021-05-24T13:08:01.744814",
     "status": "completed"
    },
    "tags": []
   },
   "outputs": [],
   "source": [
    "%%capture\n",
    "!conda install -c bioconda perl-perlio-gzip -y"
   ]
  },
  {
   "cell_type": "code",
   "execution_count": 7,
   "id": "greek-bunch",
   "metadata": {
    "execution": {
     "iopub.execute_input": "2021-05-24T13:10:51.893303Z",
     "iopub.status.busy": "2021-05-24T13:10:51.892567Z",
     "iopub.status.idle": "2021-05-24T13:10:51.897980Z",
     "shell.execute_reply": "2021-05-24T13:10:51.898515Z",
     "shell.execute_reply.started": "2021-05-23T22:48:01.867999Z"
    },
    "papermill": {
     "duration": 0.027592,
     "end_time": "2021-05-24T13:10:51.898719",
     "exception": false,
     "start_time": "2021-05-24T13:10:51.871127",
     "status": "completed"
    },
    "tags": []
   },
   "outputs": [],
   "source": [
    "import os\n",
    "os.environ['LD_LIBRARY_PATH'] = '/opt/conda/lib:/opt/kaldi/tools/openfst-1.6.7/lib:/opt/kaldi/src/lib'"
   ]
  },
  {
   "cell_type": "code",
   "execution_count": 8,
   "id": "ambient-alias",
   "metadata": {
    "execution": {
     "iopub.execute_input": "2021-05-24T13:10:51.935773Z",
     "iopub.status.busy": "2021-05-24T13:10:51.935058Z",
     "iopub.status.idle": "2021-05-24T13:10:53.395681Z",
     "shell.execute_reply": "2021-05-24T13:10:53.396170Z",
     "shell.execute_reply.started": "2021-05-23T22:48:01.876848Z"
    },
    "papermill": {
     "duration": 1.480915,
     "end_time": "2021-05-24T13:10:53.396398",
     "exception": false,
     "start_time": "2021-05-24T13:10:51.915483",
     "status": "completed"
    },
    "tags": []
   },
   "outputs": [],
   "source": [
    "!cat path.sh|sed -e 's/~\\/apps/\\/opt/' > tmp\n",
    "!mv tmp path.sh"
   ]
  },
  {
   "cell_type": "code",
   "execution_count": 9,
   "id": "superb-cleaning",
   "metadata": {
    "execution": {
     "iopub.execute_input": "2021-05-24T13:10:53.440176Z",
     "iopub.status.busy": "2021-05-24T13:10:53.436380Z",
     "iopub.status.idle": "2021-05-24T13:10:54.159411Z",
     "shell.execute_reply": "2021-05-24T13:10:54.158803Z",
     "shell.execute_reply.started": "2021-05-23T22:48:03.38233Z"
    },
    "papermill": {
     "duration": 0.745729,
     "end_time": "2021-05-24T13:10:54.159561",
     "exception": false,
     "start_time": "2021-05-24T13:10:53.413832",
     "status": "completed"
    },
    "tags": []
   },
   "outputs": [],
   "source": [
    "!echo > local_clarin/clarin_pl_clean.sh"
   ]
  },
  {
   "cell_type": "code",
   "execution_count": 10,
   "id": "executed-hunter",
   "metadata": {
    "execution": {
     "iopub.execute_input": "2021-05-24T13:10:54.210120Z",
     "iopub.status.busy": "2021-05-24T13:10:54.204797Z",
     "iopub.status.idle": "2021-05-24T13:10:57.135804Z",
     "shell.execute_reply": "2021-05-24T13:10:57.136410Z",
     "shell.execute_reply.started": "2021-05-23T22:48:04.106786Z"
    },
    "papermill": {
     "duration": 2.959633,
     "end_time": "2021-05-24T13:10:57.136633",
     "exception": false,
     "start_time": "2021-05-24T13:10:54.177000",
     "status": "completed"
    },
    "tags": []
   },
   "outputs": [],
   "source": [
    "!ln -s ../wsj/s5/steps\n",
    "!ln -s ../wsj/s5/conf\n",
    "!ln -s ../wsj/s5/local\n",
    "!ln -s ../wsj/s5/utils"
   ]
  },
  {
   "cell_type": "code",
   "execution_count": 11,
   "id": "ancient-console",
   "metadata": {
    "execution": {
     "iopub.execute_input": "2021-05-24T13:10:57.176987Z",
     "iopub.status.busy": "2021-05-24T13:10:57.176300Z",
     "iopub.status.idle": "2021-05-24T13:11:08.135800Z",
     "shell.execute_reply": "2021-05-24T13:11:08.134803Z",
     "shell.execute_reply.started": "2021-05-23T22:48:06.993185Z"
    },
    "papermill": {
     "duration": 10.982139,
     "end_time": "2021-05-24T13:11:08.135965",
     "exception": false,
     "start_time": "2021-05-24T13:10:57.153826",
     "status": "completed"
    },
    "tags": []
   },
   "outputs": [],
   "source": [
    "!cp -r /kaggle/input/kaldi-clarinstudio-polish-train-mono-30-40/data /kaggle/working/\n",
    "!cp -r /kaggle/input/kaldi-clarinstudio-polish-train-mono-30-40/exp /kaggle/working/"
   ]
  },
  {
   "cell_type": "code",
   "execution_count": 12,
   "id": "closed-straight",
   "metadata": {
    "execution": {
     "iopub.execute_input": "2021-05-24T13:11:08.182347Z",
     "iopub.status.busy": "2021-05-24T13:11:08.181623Z",
     "iopub.status.idle": "2021-05-24T13:11:09.635775Z",
     "shell.execute_reply": "2021-05-24T13:11:09.635173Z",
     "shell.execute_reply.started": "2021-05-23T22:48:21.907982Z"
    },
    "papermill": {
     "duration": 1.482264,
     "end_time": "2021-05-24T13:11:09.635922",
     "exception": false,
     "start_time": "2021-05-24T13:11:08.153658",
     "status": "completed"
    },
    "tags": []
   },
   "outputs": [],
   "source": [
    "!ln -s /kaggle/working/exp\n",
    "!ln -s /kaggle/working/data"
   ]
  },
  {
   "cell_type": "code",
   "execution_count": 13,
   "id": "fitting-control",
   "metadata": {
    "execution": {
     "iopub.execute_input": "2021-05-24T13:11:09.680129Z",
     "iopub.status.busy": "2021-05-24T13:11:09.676243Z",
     "iopub.status.idle": "2021-05-24T13:11:10.424938Z",
     "shell.execute_reply": "2021-05-24T13:11:10.424229Z"
    },
    "papermill": {
     "duration": 0.772149,
     "end_time": "2021-05-24T13:11:10.425090",
     "exception": false,
     "start_time": "2021-05-24T13:11:09.652941",
     "status": "completed"
    },
    "tags": []
   },
   "outputs": [],
   "source": [
    "!find /kaggle/working/exp -name '*.log' -delete"
   ]
  },
  {
   "cell_type": "code",
   "execution_count": 14,
   "id": "numerical-vitamin",
   "metadata": {
    "execution": {
     "iopub.execute_input": "2021-05-24T13:11:10.468939Z",
     "iopub.status.busy": "2021-05-24T13:11:10.465335Z",
     "iopub.status.idle": "2021-05-24T13:11:11.925301Z",
     "shell.execute_reply": "2021-05-24T13:11:11.924731Z"
    },
    "papermill": {
     "duration": 1.483642,
     "end_time": "2021-05-24T13:11:11.925468",
     "exception": false,
     "start_time": "2021-05-24T13:11:10.441826",
     "status": "completed"
    },
    "tags": []
   },
   "outputs": [],
   "source": [
    "# links don't propagate, just copy\n",
    "!cp /kaggle/working/exp/mono0/40.mdl /kaggle/working/exp/mono0/final.mdl\n",
    "!cp /kaggle/working/exp/mono0/40.occs /kaggle/working/exp/mono0/final.occ"
   ]
  },
  {
   "cell_type": "code",
   "execution_count": 15,
   "id": "involved-religion",
   "metadata": {
    "execution": {
     "iopub.execute_input": "2021-05-24T13:11:11.971543Z",
     "iopub.status.busy": "2021-05-24T13:11:11.970757Z",
     "iopub.status.idle": "2021-05-24T13:33:41.158118Z",
     "shell.execute_reply": "2021-05-24T13:33:41.157459Z"
    },
    "papermill": {
     "duration": 1349.215227,
     "end_time": "2021-05-24T13:33:41.158370",
     "exception": false,
     "start_time": "2021-05-24T13:11:11.943143",
     "status": "completed"
    },
    "tags": []
   },
   "outputs": [
    {
     "name": "stdout",
     "output_type": "stream",
     "text": [
      "steps/align_si.sh --nj 40 data/train data/lang_nosp exp/mono0 exp/mono0_ali\r\n",
      "cp: cannot stat 'exp/mono0/final.occs': No such file or directory\r\n",
      "steps/align_si.sh: feature type is delta\r\n",
      "steps/align_si.sh: aligning data in data/train using model from exp/mono0, putting alignments in exp/mono0_ali\r\n",
      "steps/diagnostic/analyze_alignments.sh --cmd run.pl data/lang_nosp exp/mono0_ali\r\n",
      "analyze_phone_length_stats.py: WARNING: optional-silence sil is seen only 0.9274121633672195% of the time at utterance begin.  This may not be optimal.\r\n",
      "analyze_phone_length_stats.py: WARNING: optional-silence sil is seen only 1.337613697164259% of the time at utterance end.  This may not be optimal.\r\n",
      "steps/diagnostic/analyze_alignments.sh: see stats in exp/mono0_ali/log/analyze_alignments.log\r\n",
      "steps/align_si.sh: done aligning data.\r\n"
     ]
    }
   ],
   "source": [
    "!steps/align_si.sh --nj 40 data/train data/lang_nosp exp/mono0 exp/mono0_ali"
   ]
  }
 ],
 "metadata": {
  "kernelspec": {
   "display_name": "Python 3",
   "language": "python",
   "name": "python3"
  },
  "language_info": {
   "codemirror_mode": {
    "name": "ipython",
    "version": 3
   },
   "file_extension": ".py",
   "mimetype": "text/x-python",
   "name": "python",
   "nbconvert_exporter": "python",
   "pygments_lexer": "ipython3",
   "version": "3.7.10"
  },
  "papermill": {
   "default_parameters": {},
   "duration": 1588.884915,
   "end_time": "2021-05-24T13:33:41.988968",
   "environment_variables": {},
   "exception": null,
   "input_path": "__notebook__.ipynb",
   "output_path": "__notebook__.ipynb",
   "parameters": {},
   "start_time": "2021-05-24T13:07:13.104053",
   "version": "2.3.3"
  }
 },
 "nbformat": 4,
 "nbformat_minor": 5
}
