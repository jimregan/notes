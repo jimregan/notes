{
 "cells": [
  {
   "cell_type": "code",
   "execution_count": 1,
   "id": "cosmetic-transparency",
   "metadata": {
    "execution": {
     "iopub.execute_input": "2021-05-24T13:50:11.009580Z",
     "iopub.status.busy": "2021-05-24T13:50:11.008380Z",
     "iopub.status.idle": "2021-05-24T13:50:11.019139Z",
     "shell.execute_reply": "2021-05-24T13:50:11.019634Z",
     "shell.execute_reply.started": "2021-05-23T22:42:59.94366Z"
    },
    "papermill": {
     "duration": 0.029375,
     "end_time": "2021-05-24T13:50:11.019988",
     "exception": false,
     "start_time": "2021-05-24T13:50:10.990613",
     "status": "completed"
    },
    "tags": []
   },
   "outputs": [
    {
     "name": "stdout",
     "output_type": "stream",
     "text": [
      "/opt\n"
     ]
    }
   ],
   "source": [
    "%cd /opt"
   ]
  },
  {
   "cell_type": "code",
   "execution_count": 2,
   "id": "medical-qatar",
   "metadata": {
    "_cell_guid": "b1076dfc-b9ad-4769-8c92-a6c4dae69d19",
    "_uuid": "8f2839f25d086af736a60e9eeb907d3b93b6e0e5",
    "execution": {
     "iopub.execute_input": "2021-05-24T13:50:11.053938Z",
     "iopub.status.busy": "2021-05-24T13:50:11.052986Z",
     "iopub.status.idle": "2021-05-24T13:51:06.589511Z",
     "shell.execute_reply": "2021-05-24T13:51:06.590076Z",
     "shell.execute_reply.started": "2021-05-23T22:43:43.503379Z"
    },
    "papermill": {
     "duration": 55.556606,
     "end_time": "2021-05-24T13:51:06.590321",
     "exception": false,
     "start_time": "2021-05-24T13:50:11.033715",
     "status": "completed"
    },
    "tags": []
   },
   "outputs": [],
   "source": [
    "%%capture\n",
    "!tar xvf /kaggle/input/extract-prebuilt-kaldi-from-docker/kaldi.tar"
   ]
  },
  {
   "cell_type": "code",
   "execution_count": 3,
   "id": "tamil-electric",
   "metadata": {
    "execution": {
     "iopub.execute_input": "2021-05-24T13:51:06.620305Z",
     "iopub.status.busy": "2021-05-24T13:51:06.619514Z",
     "iopub.status.idle": "2021-05-24T13:51:06.627220Z",
     "shell.execute_reply": "2021-05-24T13:51:06.626647Z",
     "shell.execute_reply.started": "2021-05-23T22:44:51.747433Z"
    },
    "papermill": {
     "duration": 0.023964,
     "end_time": "2021-05-24T13:51:06.627379",
     "exception": false,
     "start_time": "2021-05-24T13:51:06.603415",
     "status": "completed"
    },
    "tags": []
   },
   "outputs": [
    {
     "name": "stdout",
     "output_type": "stream",
     "text": [
      "/opt/kaldi/egs\n"
     ]
    }
   ],
   "source": [
    "%cd kaldi/egs"
   ]
  },
  {
   "cell_type": "code",
   "execution_count": 4,
   "id": "collect-gasoline",
   "metadata": {
    "execution": {
     "iopub.execute_input": "2021-05-24T13:51:06.664215Z",
     "iopub.status.busy": "2021-05-24T13:51:06.659039Z",
     "iopub.status.idle": "2021-05-24T13:51:10.930708Z",
     "shell.execute_reply": "2021-05-24T13:51:10.930067Z",
     "shell.execute_reply.started": "2021-05-23T22:44:55.283104Z"
    },
    "papermill": {
     "duration": 4.290392,
     "end_time": "2021-05-24T13:51:10.930883",
     "exception": false,
     "start_time": "2021-05-24T13:51:06.640491",
     "status": "completed"
    },
    "tags": []
   },
   "outputs": [
    {
     "name": "stdout",
     "output_type": "stream",
     "text": [
      "Cloning into 'ClarinStudioKaldi'...\r\n",
      "remote: Enumerating objects: 778, done.\u001b[K\r\n",
      "remote: Counting objects: 100% (3/3), done.\u001b[K\r\n",
      "remote: Compressing objects: 100% (3/3), done.\u001b[K\r\n",
      "remote: Total 778 (delta 0), reused 0 (delta 0), pack-reused 775\u001b[K\r\n",
      "Receiving objects: 100% (778/778), 35.26 MiB | 27.03 MiB/s, done.\r\n",
      "Resolving deltas: 100% (262/262), done.\r\n"
     ]
    }
   ],
   "source": [
    "!git clone https://github.com/danijel3/ClarinStudioKaldi"
   ]
  },
  {
   "cell_type": "code",
   "execution_count": 5,
   "id": "dedicated-interim",
   "metadata": {
    "execution": {
     "iopub.execute_input": "2021-05-24T13:51:10.972005Z",
     "iopub.status.busy": "2021-05-24T13:51:10.970950Z",
     "iopub.status.idle": "2021-05-24T13:51:10.975865Z",
     "shell.execute_reply": "2021-05-24T13:51:10.976409Z",
     "shell.execute_reply.started": "2021-05-23T22:45:02.333219Z"
    },
    "papermill": {
     "duration": 0.029011,
     "end_time": "2021-05-24T13:51:10.976647",
     "exception": false,
     "start_time": "2021-05-24T13:51:10.947636",
     "status": "completed"
    },
    "tags": []
   },
   "outputs": [
    {
     "name": "stdout",
     "output_type": "stream",
     "text": [
      "/opt/kaldi/egs/ClarinStudioKaldi\n"
     ]
    }
   ],
   "source": [
    "%cd ClarinStudioKaldi"
   ]
  },
  {
   "cell_type": "code",
   "execution_count": 6,
   "id": "functional-glossary",
   "metadata": {
    "execution": {
     "iopub.execute_input": "2021-05-24T13:51:11.022891Z",
     "iopub.status.busy": "2021-05-24T13:51:11.018058Z",
     "iopub.status.idle": "2021-05-24T13:53:59.415815Z",
     "shell.execute_reply": "2021-05-24T13:53:59.415017Z",
     "shell.execute_reply.started": "2021-05-23T22:45:13.828183Z"
    },
    "papermill": {
     "duration": 168.422394,
     "end_time": "2021-05-24T13:53:59.416001",
     "exception": false,
     "start_time": "2021-05-24T13:51:10.993607",
     "status": "completed"
    },
    "tags": []
   },
   "outputs": [],
   "source": [
    "%%capture\n",
    "!conda install -c bioconda perl-perlio-gzip -y"
   ]
  },
  {
   "cell_type": "code",
   "execution_count": 7,
   "id": "engaged-american",
   "metadata": {
    "execution": {
     "iopub.execute_input": "2021-05-24T13:53:59.456756Z",
     "iopub.status.busy": "2021-05-24T13:53:59.455967Z",
     "iopub.status.idle": "2021-05-24T13:53:59.458988Z",
     "shell.execute_reply": "2021-05-24T13:53:59.459496Z",
     "shell.execute_reply.started": "2021-05-23T22:48:01.867999Z"
    },
    "papermill": {
     "duration": 0.026452,
     "end_time": "2021-05-24T13:53:59.459739",
     "exception": false,
     "start_time": "2021-05-24T13:53:59.433287",
     "status": "completed"
    },
    "tags": []
   },
   "outputs": [],
   "source": [
    "import os\n",
    "os.environ['LD_LIBRARY_PATH'] = '/opt/conda/lib:/opt/kaldi/tools/openfst-1.6.7/lib:/opt/kaldi/src/lib'"
   ]
  },
  {
   "cell_type": "code",
   "execution_count": 8,
   "id": "whole-newman",
   "metadata": {
    "execution": {
     "iopub.execute_input": "2021-05-24T13:53:59.503694Z",
     "iopub.status.busy": "2021-05-24T13:53:59.499640Z",
     "iopub.status.idle": "2021-05-24T13:54:00.954931Z",
     "shell.execute_reply": "2021-05-24T13:54:00.955478Z",
     "shell.execute_reply.started": "2021-05-23T22:48:01.876848Z"
    },
    "papermill": {
     "duration": 1.478989,
     "end_time": "2021-05-24T13:54:00.955743",
     "exception": false,
     "start_time": "2021-05-24T13:53:59.476754",
     "status": "completed"
    },
    "tags": []
   },
   "outputs": [],
   "source": [
    "!cat path.sh|sed -e 's/~\\/apps/\\/opt/' > tmp\n",
    "!mv tmp path.sh"
   ]
  },
  {
   "cell_type": "code",
   "execution_count": 9,
   "id": "executed-techno",
   "metadata": {
    "execution": {
     "iopub.execute_input": "2021-05-24T13:54:01.010819Z",
     "iopub.status.busy": "2021-05-24T13:54:01.006695Z",
     "iopub.status.idle": "2021-05-24T13:54:01.731425Z",
     "shell.execute_reply": "2021-05-24T13:54:01.730816Z",
     "shell.execute_reply.started": "2021-05-23T22:48:03.38233Z"
    },
    "papermill": {
     "duration": 0.750969,
     "end_time": "2021-05-24T13:54:01.731618",
     "exception": false,
     "start_time": "2021-05-24T13:54:00.980649",
     "status": "completed"
    },
    "tags": []
   },
   "outputs": [],
   "source": [
    "!echo > local_clarin/clarin_pl_clean.sh"
   ]
  },
  {
   "cell_type": "code",
   "execution_count": 10,
   "id": "accurate-tender",
   "metadata": {
    "execution": {
     "iopub.execute_input": "2021-05-24T13:54:01.775586Z",
     "iopub.status.busy": "2021-05-24T13:54:01.774787Z",
     "iopub.status.idle": "2021-05-24T13:54:04.660566Z",
     "shell.execute_reply": "2021-05-24T13:54:04.659882Z",
     "shell.execute_reply.started": "2021-05-23T22:48:04.106786Z"
    },
    "papermill": {
     "duration": 2.912107,
     "end_time": "2021-05-24T13:54:04.660751",
     "exception": false,
     "start_time": "2021-05-24T13:54:01.748644",
     "status": "completed"
    },
    "tags": []
   },
   "outputs": [],
   "source": [
    "!ln -s ../wsj/s5/steps\n",
    "!ln -s ../wsj/s5/conf\n",
    "!ln -s ../wsj/s5/local\n",
    "!ln -s ../wsj/s5/utils"
   ]
  },
  {
   "cell_type": "code",
   "execution_count": 11,
   "id": "opposite-barbados",
   "metadata": {
    "execution": {
     "iopub.execute_input": "2021-05-24T13:54:04.708387Z",
     "iopub.status.busy": "2021-05-24T13:54:04.702867Z",
     "iopub.status.idle": "2021-05-24T13:54:12.677420Z",
     "shell.execute_reply": "2021-05-24T13:54:12.676803Z",
     "shell.execute_reply.started": "2021-05-23T22:48:06.993185Z"
    },
    "papermill": {
     "duration": 7.99969,
     "end_time": "2021-05-24T13:54:12.677613",
     "exception": false,
     "start_time": "2021-05-24T13:54:04.677923",
     "status": "completed"
    },
    "tags": []
   },
   "outputs": [],
   "source": [
    "!cp -r /kaggle/input/kaldi-clarinstudio-polish-align-si-mono/data /kaggle/working/\n",
    "!cp -r /kaggle/input/kaldi-clarinstudio-polish-align-si-mono/exp /kaggle/working/"
   ]
  },
  {
   "cell_type": "code",
   "execution_count": 12,
   "id": "found-rainbow",
   "metadata": {
    "execution": {
     "iopub.execute_input": "2021-05-24T13:54:12.715662Z",
     "iopub.status.busy": "2021-05-24T13:54:12.714904Z",
     "iopub.status.idle": "2021-05-24T13:54:14.168064Z",
     "shell.execute_reply": "2021-05-24T13:54:14.167452Z",
     "shell.execute_reply.started": "2021-05-23T22:48:21.907982Z"
    },
    "papermill": {
     "duration": 1.473758,
     "end_time": "2021-05-24T13:54:14.168244",
     "exception": false,
     "start_time": "2021-05-24T13:54:12.694486",
     "status": "completed"
    },
    "tags": []
   },
   "outputs": [],
   "source": [
    "!ln -s /kaggle/working/exp\n",
    "!ln -s /kaggle/working/data"
   ]
  },
  {
   "cell_type": "code",
   "execution_count": 13,
   "id": "original-bulgarian",
   "metadata": {
    "execution": {
     "iopub.execute_input": "2021-05-24T13:54:14.208611Z",
     "iopub.status.busy": "2021-05-24T13:54:14.207905Z",
     "iopub.status.idle": "2021-05-24T13:54:14.930400Z",
     "shell.execute_reply": "2021-05-24T13:54:14.929740Z"
    },
    "papermill": {
     "duration": 0.745272,
     "end_time": "2021-05-24T13:54:14.930618",
     "exception": false,
     "start_time": "2021-05-24T13:54:14.185346",
     "status": "completed"
    },
    "tags": []
   },
   "outputs": [],
   "source": [
    "!find /kaggle/working/exp -name '*.log' -delete"
   ]
  },
  {
   "cell_type": "code",
   "execution_count": 14,
   "id": "finnish-deviation",
   "metadata": {
    "execution": {
     "iopub.execute_input": "2021-05-24T13:54:15.357423Z",
     "iopub.status.busy": "2021-05-24T13:54:15.356686Z",
     "iopub.status.idle": "2021-05-24T13:54:28.540151Z",
     "shell.execute_reply": "2021-05-24T13:54:28.539353Z"
    },
    "papermill": {
     "duration": 13.591156,
     "end_time": "2021-05-24T13:54:28.540342",
     "exception": false,
     "start_time": "2021-05-24T13:54:14.949186",
     "status": "completed"
    },
    "tags": []
   },
   "outputs": [
    {
     "name": "stdout",
     "output_type": "stream",
     "text": [
      "steps/train_deltas.sh 2000 10000 data/train data/lang_nosp exp/mono0_ali exp/tri1\r\n",
      "steps/train_deltas.sh: accumulating tree stats\r\n",
      "steps/train_deltas.sh: getting questions for tree-building, via clustering\r\n",
      "steps/train_deltas.sh: line 116: 10072 Aborted                 (core dumped) cluster-phones $context_opts $dir/treeacc $lang/phones/sets.int $dir/questions.int 2> $dir/log/questions.log\r\n"
     ]
    }
   ],
   "source": [
    "!steps/train_deltas.sh 2000 10000 data/train data/lang_nosp exp/mono0_ali exp/tri1"
   ]
  }
 ],
 "metadata": {
  "kernelspec": {
   "display_name": "Python 3",
   "language": "python",
   "name": "python3"
  },
  "language_info": {
   "codemirror_mode": {
    "name": "ipython",
    "version": 3
   },
   "file_extension": ".py",
   "mimetype": "text/x-python",
   "name": "python",
   "nbconvert_exporter": "python",
   "pygments_lexer": "ipython3",
   "version": "3.7.10"
  },
  "papermill": {
   "default_parameters": {},
   "duration": 266.938482,
   "end_time": "2021-05-24T13:54:29.472854",
   "environment_variables": {},
   "exception": null,
   "input_path": "__notebook__.ipynb",
   "output_path": "__notebook__.ipynb",
   "parameters": {},
   "start_time": "2021-05-24T13:50:02.534372",
   "version": "2.3.3"
  }
 },
 "nbformat": 4,
 "nbformat_minor": 5
}
