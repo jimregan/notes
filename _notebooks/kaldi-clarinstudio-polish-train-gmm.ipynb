{
 "cells": [
  {
   "cell_type": "code",
   "execution_count": 1,
   "id": "exact-national",
   "metadata": {
    "execution": {
     "iopub.execute_input": "2021-05-24T21:29:22.862030Z",
     "iopub.status.busy": "2021-05-24T21:29:22.860920Z",
     "iopub.status.idle": "2021-05-24T21:29:22.871734Z",
     "shell.execute_reply": "2021-05-24T21:29:22.872516Z"
    },
    "papermill": {
     "duration": 0.026565,
     "end_time": "2021-05-24T21:29:22.872900",
     "exception": false,
     "start_time": "2021-05-24T21:29:22.846335",
     "status": "completed"
    },
    "tags": []
   },
   "outputs": [
    {
     "name": "stdout",
     "output_type": "stream",
     "text": [
      "/opt\n"
     ]
    }
   ],
   "source": [
    "%cd /opt"
   ]
  },
  {
   "cell_type": "code",
   "execution_count": 2,
   "id": "waiting-photography",
   "metadata": {
    "_cell_guid": "b1076dfc-b9ad-4769-8c92-a6c4dae69d19",
    "_uuid": "8f2839f25d086af736a60e9eeb907d3b93b6e0e5",
    "execution": {
     "iopub.execute_input": "2021-05-24T21:29:22.901412Z",
     "iopub.status.busy": "2021-05-24T21:29:22.900664Z",
     "iopub.status.idle": "2021-05-24T21:30:07.773298Z",
     "shell.execute_reply": "2021-05-24T21:30:07.774281Z"
    },
    "papermill": {
     "duration": 44.890253,
     "end_time": "2021-05-24T21:30:07.775158",
     "exception": false,
     "start_time": "2021-05-24T21:29:22.884905",
     "status": "completed"
    },
    "tags": []
   },
   "outputs": [],
   "source": [
    "%%capture\n",
    "!tar xvf /kaggle/input/extract-prebuilt-kaldi-from-docker/kaldi.tar"
   ]
  },
  {
   "cell_type": "code",
   "execution_count": 3,
   "id": "funny-bearing",
   "metadata": {
    "execution": {
     "iopub.execute_input": "2021-05-24T21:30:07.811778Z",
     "iopub.status.busy": "2021-05-24T21:30:07.810667Z",
     "iopub.status.idle": "2021-05-24T21:30:07.816063Z",
     "shell.execute_reply": "2021-05-24T21:30:07.815423Z"
    },
    "papermill": {
     "duration": 0.025865,
     "end_time": "2021-05-24T21:30:07.816203",
     "exception": false,
     "start_time": "2021-05-24T21:30:07.790338",
     "status": "completed"
    },
    "tags": []
   },
   "outputs": [
    {
     "name": "stdout",
     "output_type": "stream",
     "text": [
      "/opt/kaldi/egs\n"
     ]
    }
   ],
   "source": [
    "%cd kaldi/egs"
   ]
  },
  {
   "cell_type": "code",
   "execution_count": 4,
   "id": "greenhouse-association",
   "metadata": {
    "execution": {
     "iopub.execute_input": "2021-05-24T21:30:07.864185Z",
     "iopub.status.busy": "2021-05-24T21:30:07.862948Z",
     "iopub.status.idle": "2021-05-24T21:30:12.536145Z",
     "shell.execute_reply": "2021-05-24T21:30:12.535485Z"
    },
    "papermill": {
     "duration": 4.709154,
     "end_time": "2021-05-24T21:30:12.536285",
     "exception": false,
     "start_time": "2021-05-24T21:30:07.827131",
     "status": "completed"
    },
    "tags": []
   },
   "outputs": [
    {
     "name": "stdout",
     "output_type": "stream",
     "text": [
      "Cloning into 'ClarinStudioKaldi'...\r\n",
      "remote: Enumerating objects: 778, done.\u001b[K\r\n",
      "remote: Counting objects: 100% (3/3), done.\u001b[K\r\n",
      "remote: Compressing objects: 100% (3/3), done.\u001b[K\r\n",
      "remote: Total 778 (delta 0), reused 0 (delta 0), pack-reused 775\u001b[K\r\n",
      "Receiving objects: 100% (778/778), 35.26 MiB | 20.69 MiB/s, done.\r\n",
      "Resolving deltas: 100% (262/262), done.\r\n"
     ]
    }
   ],
   "source": [
    "!git clone https://github.com/danijel3/ClarinStudioKaldi"
   ]
  },
  {
   "cell_type": "code",
   "execution_count": 5,
   "id": "diverse-proxy",
   "metadata": {
    "execution": {
     "iopub.execute_input": "2021-05-24T21:30:12.578603Z",
     "iopub.status.busy": "2021-05-24T21:30:12.577856Z",
     "iopub.status.idle": "2021-05-24T21:30:12.584306Z",
     "shell.execute_reply": "2021-05-24T21:30:12.584884Z"
    },
    "papermill": {
     "duration": 0.031042,
     "end_time": "2021-05-24T21:30:12.585074",
     "exception": false,
     "start_time": "2021-05-24T21:30:12.554032",
     "status": "completed"
    },
    "tags": []
   },
   "outputs": [
    {
     "name": "stdout",
     "output_type": "stream",
     "text": [
      "/opt/kaldi/egs/ClarinStudioKaldi\n"
     ]
    }
   ],
   "source": [
    "%cd ClarinStudioKaldi"
   ]
  },
  {
   "cell_type": "code",
   "execution_count": 6,
   "id": "surprised-papua",
   "metadata": {
    "execution": {
     "iopub.execute_input": "2021-05-24T21:30:12.623118Z",
     "iopub.status.busy": "2021-05-24T21:30:12.622415Z",
     "iopub.status.idle": "2021-05-24T21:33:01.390811Z",
     "shell.execute_reply": "2021-05-24T21:33:01.389997Z"
    },
    "papermill": {
     "duration": 168.788786,
     "end_time": "2021-05-24T21:33:01.390973",
     "exception": false,
     "start_time": "2021-05-24T21:30:12.602187",
     "status": "completed"
    },
    "tags": []
   },
   "outputs": [
    {
     "name": "stdout",
     "output_type": "stream",
     "text": [
      "Collecting package metadata (current_repodata.json): - \b\b\\ \b\b| \b\b/ \b\b- \b\b\\ \b\b| \b\b/ \b\b- \b\b\\ \b\b| \b\b/ \b\b- \b\b\\ \b\b| \b\b/ \b\b- \b\b\\ \b\b| \b\b/ \b\b- \b\b\\ \b\b| \b\b/ \b\b- \b\b\\ \b\b| \b\b/ \b\b- \b\b\\ \b\b| \b\b/ \b\b- \b\b\\ \b\b| \b\b/ \b\b- \b\b\\ \b\b| \b\b/ \b\b- \b\b\\ \b\b| \b\b/ \b\b- \b\b\\ \b\b| \b\b/ \b\b- \b\b\\ \b\b| \b\b/ \b\b- \b\b\\ \b\b| \b\b/ \b\b- \b\b\\ \b\b| \b\b/ \b\b- \b\b\\ \b\b| \b\b/ \b\b- \b\b\\ \b\b| \b\b/ \b\b- \b\b\\ \b\b| \b\b/ \b\b- \b\b\\ \b\b| \b\b/ \b\b- \b\b\\ \b\b| \b\b/ \b\b- \b\b\\ \b\b| \b\b/ \b\b- \b\b\\ \b\b| \b\b/ \b\b- \b\b\\ \b\b| \b\b/ \b\b- \b\b\\ \b\b| \b\b/ \b\b- \b\b\\ \b\b| \b\b/ \b\b- \b\b\\ \b\b| \b\b/ \b\b- \b\b\\ \b\b| \b\b/ \b\b- \b\b\\ \b\b| \b\b/ \b\b- \b\b\\ \b\b| \b\b/ \b\b- \b\b\\ \b\b| \b\b/ \b\b- \b\b\\ \b\b| \b\b/ \b\b- \b\b\\ \b\b| \b\b/ \b\b- \b\b\\ \b\b| \b\b/ \b\b- \b\b\\ \b\b| \b\b/ \b\b- \b\b\\ \b\b| \b\b/ \b\b- \b\b\\ \b\b| \b\b/ \b\b- \b\b\\ \b\b| \b\b/ \b\b- \b\b\\ \b\b| \b\b/ \b\b- \b\b\\ \b\b| \b\b/ \b\b- \b\b\\ \b\b| \b\b/ \b\b- \b\b\\ \b\b| \b\b/ \b\b- \b\b\\ \b\b| \b\b/ \b\b- \b\b\\ \b\b| \b\b/ \b\b- \b\b\\ \b\b| \b\b/ \b\b- \b\b\\ \b\b| \b\b/ \b\bdone\r\n",
      "Solving environment: \\ \b\b| \b\b/ \b\b- \b\b\\ \b\b| \b\b/ \b\b- \b\b\\ \b\b| \b\b/ \b\b- \b\b\\ \b\b| \b\b/ \b\b- \b\b\\ \b\b| \b\b/ \b\b- \b\b\\ \b\b| \b\b/ \b\b- \b\b\\ \b\b| \b\b/ \b\b- \b\b\\ \b\b| \b\b/ \b\b- \b\b\\ \b\b| \b\b/ \b\b- \b\b\\ \b\b| \b\b/ \b\b- \b\b\\ \b\b| \b\b/ \b\b- \b\b\\ \b\b| \b\b/ \b\b- \b\b\\ \b\b| \b\b/ \b\b- \b\b\\ \b\b| \b\b/ \b\b- \b\b\\ \b\b| \b\b/ \b\b- \b\b\\ \b\b| \b\b/ \b\b- \b\b\\ \b\b| \b\b/ \b\b- \b\b\\ \b\b| \b\b/ \b\b- \b\b\\ \b\b| \b\b/ \b\b- \b\b\\ \b\b| \b\b/ \b\b- \b\b\\ \b\b| \b\b/ \b\b- \b\b\\ \b\b| \b\b/ \b\b- \b\b\\ \b\b| \b\b/ \b\b- \b\b\\ \b\b| \b\b/ \b\b- \b\b\\ \b\b| \b\b/ \b\b- \b\b\\ \b\b| \b\b/ \b\b- \b\b\\ \b\b| \b\b/ \b\b- \b\b\\ \b\b| \b\b/ \b\b- \b\b\\ \b\b| \b\b/ \b\b- \b\b\\ \b\b| \b\b/ \b\b- \b\b\\ \b\b| \b\b/ \b\b- \b\b\\ \b\b| \b\b/ \b\b- \b\b\\ \b\b| \b\b/ \b\b- \b\b\\ \b\b| \b\b/ \b\b- \b\b\\ \b\b| \b\b/ \b\b- \b\b\\ \b\b| \b\b/ \b\b- \b\b\\ \b\b| \b\b/ \b\b- \b\b\\ \b\b| \b\b/ \b\b- \b\b\\ \b\b| \b\b/ \b\b- \b\b\\ \b\b| \b\b/ \b\b- \b\b\\ \b\b| \b\b/ \b\b- \b\b\\ \b\b| \b\b/ \b\b- \b\b\\ \b\b| \b\b/ \b\b- \b\b\\ \b\b| \b\b/ \b\b- \b\b\\ \b\b| \b\b/ \b\b- \b\b\\ \b\b| \b\b/ \b\b- \b\b\\ \b\b| \b\b/ \b\b- \b\b\\ \b\b| \b\b/ \b\b- \b\b\\ \b\b| \b\b/ \b\b- \b\b\\ \b\b| \b\b/ \b\b- \b\b\\ \b\b| \b\b/ \b\b- \b\b\\ \b\b| \b\b/ \b\b- \b\b\\ \b\b| \b\b/ \b\b- \b\b\\ \b\b| \b\b/ \b\b- \b\b\\ \b\b| \b\b/ \b\b- \b\b\\ \b\b| \b\b/ \b\b- \b\b\\ \b\b| \b\b/ \b\b- \b\b\\ \b\b| \b\b/ \b\b- \b\b\\ \b\b| \b\b/ \b\b- \b\b\\ \b\b| \b\b/ \b\b- \b\b\\ \b\b| \b\b/ \b\b- \b\b\\ \b\b| \b\b/ \b\b- \b\b\\ \b\b| \b\b/ \b\b- \b\b\\ \b\b| \b\b/ \b\b- \b\b\\ \b\b| \b\b/ \b\b- \b\b\\ \b\b| \b\b/ \b\b- \b\b\\ \b\b| \b\b/ \b\b- \b\b\\ \b\b| \b\b/ \b\b- \b\b\\ \b\b| \b\b/ \b\b- \b\b\\ \b\b| \b\b/ \b\b- \b\b\\ \b\b| \b\b/ \b\b- \b\b\\ \b\b| \b\b/ \b\b- \b\b\\ \b\b| \b\b/ \b\b- \b\b\\ \b\b| \b\b/ \b\b- \b\b\\ \b\b| \b\b/ \b\b- \b\b\\ \b\b| \b\b/ \b\b- \b\b\\ \b\b| \b\b/ \b\b- \b\b\\ \b\b| \b\b/ \b\b- \b\b\\ \b\b| \b\b/ \b\b- \b\b\\ \b\b| \b\b/ \b\b- \b\b\\ \b\b| \b\b/ \b\b- \b\b\\ \b\b| \b\b/ \b\b- \b\b\\ \b\b| \b\b/ \b\b- \b\b\\ \b\b| \b\b/ \b\b- \b\b\\ \b\b| \b\b/ \b\b- \b\b\\ \b\b| \b\b/ \b\b- \b\b\\ \b\b| \b\b/ \b\b- \b\b\\ \b\b| \b\b/ \b\b- \b\b\\ \b\b| \b\b/ \b\b- \b\b\\ \b\b| \b\b/ \b\b- \b\b\\ \b\b| \b\b/ \b\b- \b\b\\ \b\b| \b\b/ \b\b- \b\b\\ \b\b| \b\b/ \b\b- \b\b\\ \b\b| \b\b/ \b\b- \b\b\\ \b\b| \b\b/ \b\b- \b\b\\ \b\b| \b\b/ \b\b- \b\b\\ \b\b| \b\b/ \b\b- \b\b\\ \b\b| \b\b/ \b\b- \b\b\\ \b\b| \b\b/ \b\b- \b\b\\ \b\b| \b\b/ \b\b- \b\b\\ \b\b| \b\b/ \b\b- \b\b\\ \b\b| \b\b/ \b\b- \b\b\\ \b\b| \b\b/ \b\b- \b\b\\ \b\b| \b\b/ \b\b- \b\b\\ \b\b| \b\b/ \b\b- \b\b\\ \b\b| \b\b/ \b\b- \b\b\\ \b\b| \b\b/ \b\b- \b\b\\ \b\b| \b\b/ \b\b- \b\b\\ \b\b| \b\b/ \b\b- \b\b\\ \b\b| \b\b/ \b\b- \b\b\\ \b\b| \b\b/ \b\b- \b\b\\ \b\b| \b\b/ \b\b- \b\b\\ \b\b| \b\b/ \b\b- \b\b\\ \b\b| \b\b/ \b\b- \b\b\\ \b\b| \b\b/ \b\b- \b\b\\ \b\b| \b\b/ \b\b- \b\b\\ \b\b| \b\b/ \b\b- \b\b\\ \b\b| \b\b/ \b\b- \b\b\\ \b\b| \b\b/ \b\b- \b\b\\ \b\b| \b\b/ \b\b- \b\b\\ \b\b| \b\b/ \b\b- \b\b\\ \b\b| \b\b/ \b\b- \b\b\\ \b\b| \b\b/ \b\b- \b\b\\ \b\b| \b\b/ \b\b- \b\b\\ \b\b| \b\b/ \b\b- \b\b\\ \b\b| \b\b/ \b\b- \b\b\\ \b\b| \b\b/ \b\b- \b\b\\ \b\b| \b\b/ \b\b- \b\b\\ \b\b| \b\b/ \b\b- \b\b\\ \b\b| \b\b/ \b\b- \b\b\\ \b\b| \b\b/ \b\b- \b\b\\ \b\b| \b\b/ \b\b- \b\b\\ \b\b| \b\b/ \b\b- \b\b\\ \b\b| \b\b/ \b\b- \b\b\\ \b\b| \b\b/ \b\b- \b\b\\ \b\b| \b\b/ \b\b- \b\b\\ \b\b| \b\b/ \b\b- \b\b\\ \b\b| \b\b/ \b\b- \b\b\\ \b\b| \b\b/ \b\b- \b\b\\ \b\b| \b\b/ \b\b- \b\b\\ \b\b| \b\b/ \b\b- \b\b\\ \b\b| \b\b/ \b\b- \b\b\\ \b\b| \b\b/ \b\b- \b\b\\ \b\b| \b\b/ \b\b- \b\b\\ \b\b| \b\b/ \b\b- \b\b\\ \b\b| \b\b/ \b\b- \b\b\\ \b\b| \b\b/ \b\b- \b\b\\ \b\b| \b\b/ \b\b- \b\bdone\r\n",
      "\r\n",
      "## Package Plan ##\r\n",
      "\r\n",
      "  environment location: /opt/conda\r\n",
      "\r\n",
      "  added / updated specs:\r\n",
      "    - perl-perlio-gzip\r\n",
      "\r\n",
      "\r\n",
      "The following packages will be downloaded:\r\n",
      "\r\n",
      "    package                    |            build\r\n",
      "    ---------------------------|-----------------\r\n",
      "    perl-5.26.2                |    h36c2ea0_1008        15.4 MB  conda-forge\r\n",
      "    perl-perlio-gzip-0.20      |  pl526h84994c4_1          17 KB  bioconda\r\n",
      "    ------------------------------------------------------------\r\n",
      "                                           Total:        15.4 MB\r\n",
      "\r\n",
      "The following NEW packages will be INSTALLED:\r\n",
      "\r\n",
      "  perl-perlio-gzip   bioconda/linux-64::perl-perlio-gzip-0.20-pl526h84994c4_1\r\n",
      "\r\n",
      "The following packages will be DOWNGRADED:\r\n",
      "\r\n",
      "  perl                                    5.32.0-h36c2ea0_0 --> 5.26.2-h36c2ea0_1008\r\n",
      "\r\n",
      "\r\n",
      "\r\n",
      "Downloading and Extracting Packages\r\n",
      "perl-5.26.2          | 15.4 MB   | ##################################### | 100% \r\n",
      "perl-perlio-gzip-0.2 | 17 KB     | ##################################### | 100% \r\n",
      "Preparing transaction: | \b\b/ \b\bdone\r\n",
      "Verifying transaction: \\ \b\b| \b\b/ \b\b- \b\b\\ \b\b| \b\bdone\r\n",
      "Executing transaction: - \b\b\\ \b\b| \b\b/ \b\b- \b\b\\ \b\b| \b\b/ \b\b- \b\b\\ \b\b| \b\b/ \b\b- \b\b\\ \b\b| \b\b/ \b\b- \b\b\\ \b\b| \b\b/ \b\b- \b\b\\ \b\b| \b\b/ \b\b- \b\b\\ \b\b| \b\b/ \b\b- \b\b\\ \b\b| \b\b/ \b\b- \b\b\\ \b\b| \b\b/ \b\b- \b\b\\ \b\b| \b\b/ \b\b- \b\b\\ \b\b| \b\b/ \b\b- \b\b\\ \b\b| \b\b/ \b\b- \b\b\\ \b\b| \b\b/ \b\b- \b\b\\ \b\b| \b\b/ \b\b- \b\b\\ \b\b| \b\b/ \b\b- \b\b\\ \b\b| \b\b/ \b\b- \b\b\\ \b\b| \b\b/ \b\b- \b\b\\ \b\b| \b\b/ \b\b- \b\b\\ \b\b| \b\b/ \b\b- \b\b\\ \b\b| \b\b/ \b\b- \b\b\\ \b\b| \b\b/ \b\b- \b\b\\ \b\b| \b\b/ \b\b- \b\b\\ \b\b| \b\b/ \b\b- \b\b\\ \b\b| \b\b/ \b\b- \b\b\\ \b\b| \b\b/ \b\b- \b\b\\ \b\b| \b\b/ \b\b- \b\b\\ \b\b| \b\b/ \b\b- \b\b\\ \b\b| \b\b/ \b\b- \b\b\\ \b\b| \b\b/ \b\b- \b\b\\ \b\b| \b\b/ \b\b- \b\b\\ \b\b| \b\b/ \b\b- \b\b\\ \b\b| \b\b/ \b\b- \b\b\\ \b\b| \b\b/ \b\b- \b\b\\ \b\b| \b\b/ \b\b- \b\b\\ \b\b| \b\b/ \b\b- \b\b\\ \b\b| \b\b/ \b\b- \b\b\\ \b\b| \b\b/ \b\b- \b\b\\ \b\b| \b\b/ \b\b- \b\b\\ \b\b| \b\b/ \b\b- \b\b\\ \b\b| \b\b/ \b\b- \b\b\\ \b\b| \b\b/ \b\b- \b\b\\ \b\b| \b\b/ \b\b- \b\b\\ \b\b| \b\b/ \b\b- \b\b\\ \b\b| \b\b/ \b\b- \b\b\\ \b\b| \b\b/ \b\b- \b\b\\ \b\b| \b\b/ \b\b- \b\b\\ \b\b| \b\b/ \b\b- \b\b\\ \b\b| \b\b/ \b\b- \b\b\\ \b\b| \b\b/ \b\b- \b\b\\ \b\b| \b\b/ \b\b- \b\b\\ \b\b| \b\b/ \b\bdone\r\n"
     ]
    }
   ],
   "source": [
    "#apt-get -y install libperlio-gzip-perl\n",
    "!conda install -c bioconda perl-perlio-gzip -y"
   ]
  },
  {
   "cell_type": "code",
   "execution_count": 7,
   "id": "steady-testing",
   "metadata": {
    "execution": {
     "iopub.execute_input": "2021-05-24T21:33:02.019632Z",
     "iopub.status.busy": "2021-05-24T21:33:02.018579Z",
     "iopub.status.idle": "2021-05-24T21:33:02.022480Z",
     "shell.execute_reply": "2021-05-24T21:33:02.021720Z"
    },
    "papermill": {
     "duration": 0.318611,
     "end_time": "2021-05-24T21:33:02.022681",
     "exception": false,
     "start_time": "2021-05-24T21:33:01.704070",
     "status": "completed"
    },
    "tags": []
   },
   "outputs": [],
   "source": [
    "import os\n",
    "#os.environ['LD_LIBRARY_PATH'] = f'{os.environ[\"LD_LIBRARY_PATH\"]}:/opt/kaldi/tools/openfst-1.6.7/lib:/opt/kaldi/src/lib'\n",
    "os.environ['LD_LIBRARY_PATH'] = '/opt/conda/lib:/opt/kaldi/tools/openfst-1.6.7/lib:/opt/kaldi/src/lib'"
   ]
  },
  {
   "cell_type": "code",
   "execution_count": 8,
   "id": "alpine-nicholas",
   "metadata": {
    "execution": {
     "iopub.execute_input": "2021-05-24T21:33:02.676170Z",
     "iopub.status.busy": "2021-05-24T21:33:02.675467Z",
     "iopub.status.idle": "2021-05-24T21:33:04.153678Z",
     "shell.execute_reply": "2021-05-24T21:33:04.153017Z"
    },
    "papermill": {
     "duration": 1.805762,
     "end_time": "2021-05-24T21:33:04.153855",
     "exception": false,
     "start_time": "2021-05-24T21:33:02.348093",
     "status": "completed"
    },
    "tags": []
   },
   "outputs": [],
   "source": [
    "!cat path.sh|sed -e 's/~\\/apps/\\/opt/' > tmp\n",
    "!mv tmp path.sh"
   ]
  },
  {
   "cell_type": "code",
   "execution_count": 9,
   "id": "jewish-ocean",
   "metadata": {
    "execution": {
     "iopub.execute_input": "2021-05-24T21:33:04.791014Z",
     "iopub.status.busy": "2021-05-24T21:33:04.790063Z",
     "iopub.status.idle": "2021-05-24T21:33:05.511252Z",
     "shell.execute_reply": "2021-05-24T21:33:05.510613Z"
    },
    "papermill": {
     "duration": 1.03675,
     "end_time": "2021-05-24T21:33:05.511438",
     "exception": false,
     "start_time": "2021-05-24T21:33:04.474688",
     "status": "completed"
    },
    "tags": []
   },
   "outputs": [],
   "source": [
    "!echo > local_clarin/clarin_pl_clean.sh"
   ]
  },
  {
   "cell_type": "code",
   "execution_count": 10,
   "id": "marine-diversity",
   "metadata": {
    "execution": {
     "iopub.execute_input": "2021-05-24T21:33:06.151519Z",
     "iopub.status.busy": "2021-05-24T21:33:06.150823Z",
     "iopub.status.idle": "2021-05-24T21:33:09.055309Z",
     "shell.execute_reply": "2021-05-24T21:33:09.054562Z"
    },
    "papermill": {
     "duration": 3.228006,
     "end_time": "2021-05-24T21:33:09.055501",
     "exception": false,
     "start_time": "2021-05-24T21:33:05.827495",
     "status": "completed"
    },
    "tags": []
   },
   "outputs": [],
   "source": [
    "!ln -s ../wsj/s5/steps\n",
    "!ln -s ../wsj/s5/conf\n",
    "!ln -s ../wsj/s5/local\n",
    "!ln -s ../wsj/s5/utils"
   ]
  },
  {
   "cell_type": "code",
   "execution_count": 11,
   "id": "editorial-omega",
   "metadata": {
    "execution": {
     "iopub.execute_input": "2021-05-24T21:33:09.684407Z",
     "iopub.status.busy": "2021-05-24T21:33:09.683660Z",
     "iopub.status.idle": "2021-05-24T21:33:16.360317Z",
     "shell.execute_reply": "2021-05-24T21:33:16.359504Z"
    },
    "papermill": {
     "duration": 6.992288,
     "end_time": "2021-05-24T21:33:16.360519",
     "exception": false,
     "start_time": "2021-05-24T21:33:09.368231",
     "status": "completed"
    },
    "tags": []
   },
   "outputs": [],
   "source": [
    "!cp -r /kaggle/input/kaldi-clarinstudio-polish-data-prep/data /kaggle/working/"
   ]
  },
  {
   "cell_type": "code",
   "execution_count": 12,
   "id": "working-solution",
   "metadata": {
    "execution": {
     "iopub.execute_input": "2021-05-24T21:33:16.997767Z",
     "iopub.status.busy": "2021-05-24T21:33:16.991806Z",
     "iopub.status.idle": "2021-05-24T21:33:19.154265Z",
     "shell.execute_reply": "2021-05-24T21:33:19.153576Z"
    },
    "papermill": {
     "duration": 2.48194,
     "end_time": "2021-05-24T21:33:19.154439",
     "exception": false,
     "start_time": "2021-05-24T21:33:16.672499",
     "status": "completed"
    },
    "tags": []
   },
   "outputs": [],
   "source": [
    "!mkdir /kaggle/working/exp\n",
    "!ln -s /kaggle/working/exp\n",
    "!ln -s /kaggle/working/data"
   ]
  },
  {
   "cell_type": "code",
   "execution_count": 13,
   "id": "yellow-color",
   "metadata": {
    "execution": {
     "iopub.execute_input": "2021-05-24T21:33:19.879916Z",
     "iopub.status.busy": "2021-05-24T21:33:19.878905Z",
     "iopub.status.idle": "2021-05-24T22:44:31.077126Z",
     "shell.execute_reply": "2021-05-24T22:44:31.077679Z"
    },
    "papermill": {
     "duration": 4271.615126,
     "end_time": "2021-05-24T22:44:31.077921",
     "exception": false,
     "start_time": "2021-05-24T21:33:19.462795",
     "status": "completed"
    },
    "tags": []
   },
   "outputs": [
    {
     "name": "stdout",
     "output_type": "stream",
     "text": [
      "steps/train_mono.sh --nj 40 --num_iters 30 data/train data/lang_nosp exp/mono0\r\n",
      "steps/train_mono.sh: Initializing monophone system.\r\n",
      "steps/train_mono.sh: Compiling training graphs\r\n",
      "steps/train_mono.sh: Aligning data equally (pass 0)\r\n",
      "steps/train_mono.sh: Pass 1\r\n",
      "steps/train_mono.sh: Aligning data\r\n",
      "steps/train_mono.sh: Pass 2\r\n",
      "steps/train_mono.sh: Aligning data\r\n",
      "steps/train_mono.sh: Pass 3\r\n",
      "steps/train_mono.sh: Aligning data\r\n",
      "steps/train_mono.sh: Pass 4\r\n",
      "steps/train_mono.sh: Aligning data\r\n",
      "steps/train_mono.sh: Pass 5\r\n",
      "steps/train_mono.sh: Aligning data\r\n",
      "steps/train_mono.sh: Pass 6\r\n",
      "steps/train_mono.sh: Aligning data\r\n",
      "steps/train_mono.sh: Pass 7\r\n",
      "steps/train_mono.sh: Aligning data\r\n",
      "steps/train_mono.sh: Pass 8\r\n",
      "steps/train_mono.sh: Aligning data\r\n",
      "steps/train_mono.sh: Pass 9\r\n",
      "steps/train_mono.sh: Aligning data\r\n",
      "steps/train_mono.sh: Pass 10\r\n",
      "steps/train_mono.sh: Aligning data\r\n",
      "steps/train_mono.sh: Pass 11\r\n",
      "steps/train_mono.sh: Pass 12\r\n",
      "steps/train_mono.sh: Aligning data\r\n",
      "steps/train_mono.sh: Pass 13\r\n",
      "steps/train_mono.sh: Pass 14\r\n",
      "steps/train_mono.sh: Aligning data\r\n",
      "steps/train_mono.sh: Pass 15\r\n",
      "steps/train_mono.sh: Pass 16\r\n",
      "steps/train_mono.sh: Aligning data\r\n",
      "steps/train_mono.sh: Pass 17\r\n",
      "steps/train_mono.sh: Pass 18\r\n",
      "steps/train_mono.sh: Aligning data\r\n",
      "steps/train_mono.sh: Pass 19\r\n",
      "steps/train_mono.sh: Pass 20\r\n",
      "steps/train_mono.sh: Aligning data\r\n",
      "steps/train_mono.sh: Pass 21\r\n",
      "steps/train_mono.sh: Pass 22\r\n",
      "steps/train_mono.sh: Pass 23\r\n",
      "steps/train_mono.sh: Aligning data\r\n",
      "steps/train_mono.sh: Pass 24\r\n",
      "steps/train_mono.sh: Pass 25\r\n",
      "steps/train_mono.sh: Pass 26\r\n",
      "steps/train_mono.sh: Aligning data\r\n",
      "steps/train_mono.sh: Pass 27\r\n",
      "steps/train_mono.sh: Pass 28\r\n",
      "steps/train_mono.sh: Pass 29\r\n",
      "steps/train_mono.sh: Aligning data\r\n",
      "steps/diagnostic/analyze_alignments.sh --cmd run.pl data/lang_nosp exp/mono0\r\n",
      "steps/diagnostic/analyze_alignments.sh: see stats in exp/mono0/log/analyze_alignments.log\r\n",
      "530 warnings in exp/mono0/log/acc.*.*.log\r\n",
      "13381 warnings in exp/mono0/log/align.*.*.log\r\n",
      "6 warnings in exp/mono0/log/init.log\r\n",
      "exp/mono0: nj=40 align prob=-95.16 over 43.76h [retry=0.5%, fail=0.0%] states=113 gauss=925\r\n",
      "steps/train_mono.sh: Done training monophone system in exp/mono0\r\n"
     ]
    }
   ],
   "source": [
    "!bash steps/train_mono.sh --nj 40 --num_iters 30 data/train data/lang_nosp exp/mono0"
   ]
  }
 ],
 "metadata": {
  "kernelspec": {
   "display_name": "Python 3",
   "language": "python",
   "name": "python3"
  },
  "language_info": {
   "codemirror_mode": {
    "name": "ipython",
    "version": 3
   },
   "file_extension": ".py",
   "mimetype": "text/x-python",
   "name": "python",
   "nbconvert_exporter": "python",
   "pygments_lexer": "ipython3",
   "version": "3.7.10"
  },
  "papermill": {
   "default_parameters": {},
   "duration": 4517.664636,
   "end_time": "2021-05-24T22:44:32.122148",
   "environment_variables": {},
   "exception": null,
   "input_path": "__notebook__.ipynb",
   "output_path": "__notebook__.ipynb",
   "parameters": {},
   "start_time": "2021-05-24T21:29:14.457512",
   "version": "2.3.3"
  }
 },
 "nbformat": 4,
 "nbformat_minor": 5
}
