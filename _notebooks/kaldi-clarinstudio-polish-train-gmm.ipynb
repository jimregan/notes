{
 "cells": [
  {
   "cell_type": "code",
   "execution_count": 1,
   "id": "adjusted-vertex",
   "metadata": {
    "execution": {
     "iopub.execute_input": "2021-05-24T22:51:12.090160Z",
     "iopub.status.busy": "2021-05-24T22:51:12.088397Z",
     "iopub.status.idle": "2021-05-24T22:51:12.101099Z",
     "shell.execute_reply": "2021-05-24T22:51:12.100375Z"
    },
    "papermill": {
     "duration": 0.028956,
     "end_time": "2021-05-24T22:51:12.101255",
     "exception": false,
     "start_time": "2021-05-24T22:51:12.072299",
     "status": "completed"
    },
    "tags": []
   },
   "outputs": [
    {
     "name": "stdout",
     "output_type": "stream",
     "text": [
      "/opt\n"
     ]
    }
   ],
   "source": [
    "%cd /opt"
   ]
  },
  {
   "cell_type": "code",
   "execution_count": 2,
   "id": "polyphonic-cambodia",
   "metadata": {
    "_cell_guid": "b1076dfc-b9ad-4769-8c92-a6c4dae69d19",
    "_uuid": "8f2839f25d086af736a60e9eeb907d3b93b6e0e5",
    "execution": {
     "iopub.execute_input": "2021-05-24T22:51:12.126002Z",
     "iopub.status.busy": "2021-05-24T22:51:12.125400Z",
     "iopub.status.idle": "2021-05-24T22:51:52.665165Z",
     "shell.execute_reply": "2021-05-24T22:51:52.663943Z"
    },
    "papermill": {
     "duration": 40.553092,
     "end_time": "2021-05-24T22:51:52.665791",
     "exception": false,
     "start_time": "2021-05-24T22:51:12.112699",
     "status": "completed"
    },
    "tags": []
   },
   "outputs": [],
   "source": [
    "%%capture\n",
    "!tar xvf /kaggle/input/extract-prebuilt-kaldi-from-docker/kaldi.tar"
   ]
  },
  {
   "cell_type": "code",
   "execution_count": 3,
   "id": "noted-training",
   "metadata": {
    "execution": {
     "iopub.execute_input": "2021-05-24T22:51:52.706828Z",
     "iopub.status.busy": "2021-05-24T22:51:52.705809Z",
     "iopub.status.idle": "2021-05-24T22:51:52.717602Z",
     "shell.execute_reply": "2021-05-24T22:51:52.718204Z"
    },
    "papermill": {
     "duration": 0.029119,
     "end_time": "2021-05-24T22:51:52.718392",
     "exception": false,
     "start_time": "2021-05-24T22:51:52.689273",
     "status": "completed"
    },
    "tags": []
   },
   "outputs": [
    {
     "name": "stdout",
     "output_type": "stream",
     "text": [
      "/opt/kaldi/egs\n"
     ]
    }
   ],
   "source": [
    "%cd kaldi/egs"
   ]
  },
  {
   "cell_type": "code",
   "execution_count": 4,
   "id": "fleet-plane",
   "metadata": {
    "execution": {
     "iopub.execute_input": "2021-05-24T22:51:52.749286Z",
     "iopub.status.busy": "2021-05-24T22:51:52.748645Z",
     "iopub.status.idle": "2021-05-24T22:51:57.020060Z",
     "shell.execute_reply": "2021-05-24T22:51:57.019178Z"
    },
    "papermill": {
     "duration": 4.28869,
     "end_time": "2021-05-24T22:51:57.020217",
     "exception": false,
     "start_time": "2021-05-24T22:51:52.731527",
     "status": "completed"
    },
    "tags": []
   },
   "outputs": [
    {
     "name": "stdout",
     "output_type": "stream",
     "text": [
      "Cloning into 'ClarinStudioKaldi'...\r\n"
     ]
    },
    {
     "name": "stdout",
     "output_type": "stream",
     "text": [
      "remote: Enumerating objects: 778, done.\u001b[K\r\n",
      "remote: Counting objects:  33% (1/3)\u001b[K\r",
      "remote: Counting objects:  66% (2/3)\u001b[K\r",
      "remote: Counting objects: 100% (3/3)\u001b[K\r",
      "remote: Counting objects: 100% (3/3), done.\u001b[K\r\n",
      "remote: Compressing objects:  33% (1/3)\u001b[K\r",
      "remote: Compressing objects:  66% (2/3)\u001b[K\r",
      "remote: Compressing objects: 100% (3/3)\u001b[K\r",
      "remote: Compressing objects: 100% (3/3), done.\u001b[K\r\n"
     ]
    },
    {
     "name": "stdout",
     "output_type": "stream",
     "text": [
      "Receiving objects:   0% (1/778)   \r",
      "Receiving objects:   1% (8/778)   \r",
      "Receiving objects:   2% (16/778)   \r",
      "Receiving objects:   3% (24/778)   \r",
      "Receiving objects:   4% (32/778)   \r",
      "Receiving objects:   5% (39/778)   \r",
      "Receiving objects:   6% (47/778)   \r",
      "Receiving objects:   7% (55/778)   \r",
      "Receiving objects:   8% (63/778)   \r"
     ]
    },
    {
     "name": "stdout",
     "output_type": "stream",
     "text": [
      "Receiving objects:   9% (71/778), 6.47 MiB | 12.94 MiB/s   \r",
      "Receiving objects:  10% (78/778), 6.47 MiB | 12.94 MiB/s   \r",
      "Receiving objects:  11% (86/778), 6.47 MiB | 12.94 MiB/s   \r"
     ]
    },
    {
     "name": "stdout",
     "output_type": "stream",
     "text": [
      "Receiving objects:  11% (91/778), 22.76 MiB | 22.76 MiB/s   \r"
     ]
    },
    {
     "name": "stdout",
     "output_type": "stream",
     "text": [
      "Receiving objects:  12% (94/778), 22.76 MiB | 22.76 MiB/s   \r",
      "Receiving objects:  13% (102/778), 22.76 MiB | 22.76 MiB/s   \r",
      "Receiving objects:  14% (109/778), 22.76 MiB | 22.76 MiB/s   \r",
      "Receiving objects:  15% (117/778), 22.76 MiB | 22.76 MiB/s   \r",
      "Receiving objects:  16% (125/778), 22.76 MiB | 22.76 MiB/s   \r",
      "Receiving objects:  17% (133/778), 22.76 MiB | 22.76 MiB/s   \r",
      "Receiving objects:  18% (141/778), 22.76 MiB | 22.76 MiB/s   \r",
      "Receiving objects:  19% (148/778), 22.76 MiB | 22.76 MiB/s   \r",
      "Receiving objects:  20% (156/778), 22.76 MiB | 22.76 MiB/s   \r",
      "Receiving objects:  21% (164/778), 22.76 MiB | 22.76 MiB/s   \r",
      "Receiving objects:  22% (172/778), 22.76 MiB | 22.76 MiB/s   \r",
      "Receiving objects:  23% (179/778), 22.76 MiB | 22.76 MiB/s   \r",
      "Receiving objects:  24% (187/778), 22.76 MiB | 22.76 MiB/s   \r",
      "Receiving objects:  25% (195/778), 22.76 MiB | 22.76 MiB/s   \r",
      "Receiving objects:  26% (203/778), 22.76 MiB | 22.76 MiB/s   \r",
      "Receiving objects:  27% (211/778), 22.76 MiB | 22.76 MiB/s   \r",
      "Receiving objects:  28% (218/778), 22.76 MiB | 22.76 MiB/s   \r",
      "Receiving objects:  29% (226/778), 22.76 MiB | 22.76 MiB/s   \r",
      "Receiving objects:  30% (234/778), 22.76 MiB | 22.76 MiB/s   \r",
      "Receiving objects:  31% (242/778), 22.76 MiB | 22.76 MiB/s   \r",
      "Receiving objects:  32% (249/778), 22.76 MiB | 22.76 MiB/s   \r",
      "Receiving objects:  33% (257/778), 22.76 MiB | 22.76 MiB/s   \r",
      "Receiving objects:  34% (265/778), 22.76 MiB | 22.76 MiB/s   \r",
      "Receiving objects:  35% (273/778), 22.76 MiB | 22.76 MiB/s   \r",
      "Receiving objects:  36% (281/778), 22.76 MiB | 22.76 MiB/s   \r",
      "Receiving objects:  37% (288/778), 22.76 MiB | 22.76 MiB/s   \r",
      "Receiving objects:  38% (296/778), 22.76 MiB | 22.76 MiB/s   \r",
      "Receiving objects:  39% (304/778), 22.76 MiB | 22.76 MiB/s   \r",
      "Receiving objects:  40% (312/778), 22.76 MiB | 22.76 MiB/s   \r",
      "Receiving objects:  41% (319/778), 22.76 MiB | 22.76 MiB/s   \r",
      "Receiving objects:  42% (327/778), 22.76 MiB | 22.76 MiB/s   \r",
      "Receiving objects:  43% (335/778), 22.76 MiB | 22.76 MiB/s   \r",
      "Receiving objects:  44% (343/778), 22.76 MiB | 22.76 MiB/s   \r",
      "Receiving objects:  45% (351/778), 22.76 MiB | 22.76 MiB/s   \r",
      "Receiving objects:  46% (358/778), 22.76 MiB | 22.76 MiB/s   \r"
     ]
    },
    {
     "name": "stdout",
     "output_type": "stream",
     "text": [
      "Receiving objects:  47% (366/778), 22.76 MiB | 22.76 MiB/s   \r",
      "Receiving objects:  48% (374/778), 22.76 MiB | 22.76 MiB/s   \r",
      "Receiving objects:  49% (382/778), 22.76 MiB | 22.76 MiB/s   \r",
      "Receiving objects:  50% (389/778), 22.76 MiB | 22.76 MiB/s   \r",
      "Receiving objects:  51% (397/778), 22.76 MiB | 22.76 MiB/s   \r",
      "Receiving objects:  52% (405/778), 22.76 MiB | 22.76 MiB/s   \r",
      "Receiving objects:  53% (413/778), 22.76 MiB | 22.76 MiB/s   \r",
      "Receiving objects:  54% (421/778), 22.76 MiB | 22.76 MiB/s   \r",
      "Receiving objects:  55% (428/778), 22.76 MiB | 22.76 MiB/s   \r",
      "Receiving objects:  56% (436/778), 22.76 MiB | 22.76 MiB/s   \r",
      "Receiving objects:  57% (444/778), 22.76 MiB | 22.76 MiB/s   \r",
      "Receiving objects:  58% (452/778), 22.76 MiB | 22.76 MiB/s   \r",
      "Receiving objects:  59% (460/778), 22.76 MiB | 22.76 MiB/s   \r",
      "Receiving objects:  60% (467/778), 22.76 MiB | 22.76 MiB/s   \r",
      "Receiving objects:  61% (475/778), 22.76 MiB | 22.76 MiB/s   \r",
      "Receiving objects:  62% (483/778), 22.76 MiB | 22.76 MiB/s   \r",
      "Receiving objects:  63% (491/778), 22.76 MiB | 22.76 MiB/s   \r",
      "Receiving objects:  64% (498/778), 22.76 MiB | 22.76 MiB/s   \r",
      "Receiving objects:  65% (506/778), 22.76 MiB | 22.76 MiB/s   \r",
      "Receiving objects:  66% (514/778), 22.76 MiB | 22.76 MiB/s   \r",
      "Receiving objects:  67% (522/778), 22.76 MiB | 22.76 MiB/s   \r",
      "Receiving objects:  68% (530/778), 22.76 MiB | 22.76 MiB/s   \r",
      "Receiving objects:  69% (537/778), 22.76 MiB | 22.76 MiB/s   \r",
      "Receiving objects:  70% (545/778), 22.76 MiB | 22.76 MiB/s   \r",
      "Receiving objects:  71% (553/778), 22.76 MiB | 22.76 MiB/s   \r",
      "Receiving objects:  72% (561/778), 22.76 MiB | 22.76 MiB/s   \r",
      "Receiving objects:  73% (568/778), 22.76 MiB | 22.76 MiB/s   \r",
      "Receiving objects:  74% (576/778), 22.76 MiB | 22.76 MiB/s   \r",
      "Receiving objects:  75% (584/778), 22.76 MiB | 22.76 MiB/s   \r",
      "Receiving objects:  76% (592/778), 22.76 MiB | 22.76 MiB/s   \r",
      "Receiving objects:  77% (600/778), 22.76 MiB | 22.76 MiB/s   \r",
      "Receiving objects:  78% (607/778), 22.76 MiB | 22.76 MiB/s   \r",
      "Receiving objects:  79% (615/778), 22.76 MiB | 22.76 MiB/s   \r",
      "Receiving objects:  80% (623/778), 22.76 MiB | 22.76 MiB/s   \r",
      "Receiving objects:  81% (631/778), 22.76 MiB | 22.76 MiB/s   \r",
      "Receiving objects:  82% (638/778), 22.76 MiB | 22.76 MiB/s   \r",
      "Receiving objects:  83% (646/778), 22.76 MiB | 22.76 MiB/s   \r",
      "Receiving objects:  84% (654/778), 22.76 MiB | 22.76 MiB/s   \r"
     ]
    },
    {
     "name": "stdout",
     "output_type": "stream",
     "text": [
      "Receiving objects:  85% (662/778), 22.76 MiB | 22.76 MiB/s   \r",
      "Receiving objects:  86% (670/778), 22.76 MiB | 22.76 MiB/s   \r",
      "Receiving objects:  87% (677/778), 22.76 MiB | 22.76 MiB/s   \r",
      "Receiving objects:  88% (685/778), 22.76 MiB | 22.76 MiB/s   \r"
     ]
    },
    {
     "name": "stdout",
     "output_type": "stream",
     "text": [
      "remote: Total 778 (delta 0), reused 0 (delta 0), pack-reused 775\u001b[K\r\n",
      "Receiving objects:  89% (693/778), 22.76 MiB | 22.76 MiB/s   \r",
      "Receiving objects:  90% (701/778), 22.76 MiB | 22.76 MiB/s   \r",
      "Receiving objects:  91% (708/778), 22.76 MiB | 22.76 MiB/s   \r",
      "Receiving objects:  92% (716/778), 22.76 MiB | 22.76 MiB/s   \r",
      "Receiving objects:  93% (724/778), 22.76 MiB | 22.76 MiB/s   \r",
      "Receiving objects:  94% (732/778), 22.76 MiB | 22.76 MiB/s   \r",
      "Receiving objects:  95% (740/778), 22.76 MiB | 22.76 MiB/s   \r",
      "Receiving objects:  96% (747/778), 22.76 MiB | 22.76 MiB/s   \r",
      "Receiving objects:  97% (755/778), 22.76 MiB | 22.76 MiB/s   \r",
      "Receiving objects:  98% (763/778), 22.76 MiB | 22.76 MiB/s   \r",
      "Receiving objects:  99% (771/778), 22.76 MiB | 22.76 MiB/s   \r",
      "Receiving objects: 100% (778/778), 22.76 MiB | 22.76 MiB/s   \r",
      "Receiving objects: 100% (778/778), 35.26 MiB | 24.12 MiB/s, done.\r\n",
      "Resolving deltas:   0% (0/262)   \r",
      "Resolving deltas:   1% (4/262)   \r",
      "Resolving deltas:   2% (6/262)   \r",
      "Resolving deltas:   4% (11/262)   \r",
      "Resolving deltas:   6% (16/262)   \r",
      "Resolving deltas:   8% (23/262)   \r",
      "Resolving deltas:   9% (24/262)   \r",
      "Resolving deltas:  11% (31/262)   \r",
      "Resolving deltas:  12% (34/262)   \r",
      "Resolving deltas:  16% (44/262)   \r",
      "Resolving deltas:  23% (62/262)   \r",
      "Resolving deltas:  25% (68/262)   \r",
      "Resolving deltas:  29% (78/262)   \r",
      "Resolving deltas:  33% (88/262)   \r",
      "Resolving deltas:  35% (93/262)   \r",
      "Resolving deltas:  40% (105/262)   \r",
      "Resolving deltas:  42% (111/262)   \r",
      "Resolving deltas:  44% (117/262)   \r",
      "Resolving deltas:  45% (120/262)   \r",
      "Resolving deltas:  46% (122/262)   \r",
      "Resolving deltas:  47% (124/262)   \r",
      "Resolving deltas:  48% (128/262)   \r",
      "Resolving deltas:  49% (130/262)   \r",
      "Resolving deltas:  50% (133/262)   \r",
      "Resolving deltas:  51% (135/262)   \r",
      "Resolving deltas:  52% (137/262)   \r",
      "Resolving deltas:  53% (141/262)   \r",
      "Resolving deltas:  54% (143/262)   \r",
      "Resolving deltas:  55% (145/262)   \r",
      "Resolving deltas:  56% (147/262)   \r",
      "Resolving deltas:  57% (150/262)   \r",
      "Resolving deltas:  58% (154/262)   \r",
      "Resolving deltas:  59% (155/262)   \r",
      "Resolving deltas:  60% (159/262)   \r",
      "Resolving deltas:  61% (160/262)   \r",
      "Resolving deltas:  62% (163/262)   \r",
      "Resolving deltas:  63% (166/262)   \r",
      "Resolving deltas:  64% (168/262)   \r",
      "Resolving deltas:  65% (171/262)   \r",
      "Resolving deltas:  66% (175/262)   \r",
      "Resolving deltas:  67% (176/262)   \r",
      "Resolving deltas:  68% (179/262)   \r",
      "Resolving deltas:  69% (182/262)   \r",
      "Resolving deltas:  70% (185/262)   \r",
      "Resolving deltas:  72% (190/262)   \r",
      "Resolving deltas:  73% (193/262)   \r",
      "Resolving deltas:  74% (194/262)   \r",
      "Resolving deltas:  75% (197/262)   \r",
      "Resolving deltas:  76% (201/262)   \r",
      "Resolving deltas:  77% (202/262)   \r",
      "Resolving deltas:  78% (206/262)   \r"
     ]
    },
    {
     "name": "stdout",
     "output_type": "stream",
     "text": [
      "Resolving deltas:  79% (207/262)   \r",
      "Resolving deltas:  80% (210/262)   \r",
      "Resolving deltas:  81% (213/262)   \r",
      "Resolving deltas:  82% (216/262)   \r",
      "Resolving deltas:  83% (218/262)   \r",
      "Resolving deltas:  84% (221/262)   \r",
      "Resolving deltas:  85% (223/262)   \r",
      "Resolving deltas:  86% (226/262)   \r",
      "Resolving deltas:  87% (228/262)   \r",
      "Resolving deltas:  88% (231/262)   \r",
      "Resolving deltas:  89% (234/262)   \r",
      "Resolving deltas:  91% (240/262)   \r",
      "Resolving deltas:  93% (244/262)   \r",
      "Resolving deltas:  94% (247/262)   \r",
      "Resolving deltas:  95% (250/262)   \r",
      "Resolving deltas:  97% (256/262)   \r",
      "Resolving deltas:  98% (257/262)   \r"
     ]
    },
    {
     "name": "stdout",
     "output_type": "stream",
     "text": [
      "Resolving deltas: 100% (262/262)   \r",
      "Resolving deltas: 100% (262/262), done.\r\n"
     ]
    }
   ],
   "source": [
    "!git clone https://github.com/danijel3/ClarinStudioKaldi"
   ]
  },
  {
   "cell_type": "code",
   "execution_count": 5,
   "id": "divided-fruit",
   "metadata": {
    "execution": {
     "iopub.execute_input": "2021-05-24T22:51:57.057949Z",
     "iopub.status.busy": "2021-05-24T22:51:57.057153Z",
     "iopub.status.idle": "2021-05-24T22:51:57.062084Z",
     "shell.execute_reply": "2021-05-24T22:51:57.062602Z"
    },
    "papermill": {
     "duration": 0.02696,
     "end_time": "2021-05-24T22:51:57.062795",
     "exception": false,
     "start_time": "2021-05-24T22:51:57.035835",
     "status": "completed"
    },
    "tags": []
   },
   "outputs": [
    {
     "name": "stdout",
     "output_type": "stream",
     "text": [
      "/opt/kaldi/egs/ClarinStudioKaldi\n"
     ]
    }
   ],
   "source": [
    "%cd ClarinStudioKaldi"
   ]
  },
  {
   "cell_type": "code",
   "execution_count": 6,
   "id": "sudden-semiconductor",
   "metadata": {
    "execution": {
     "iopub.execute_input": "2021-05-24T22:51:57.099054Z",
     "iopub.status.busy": "2021-05-24T22:51:57.098378Z"
    },
    "papermill": {
     "duration": null,
     "end_time": null,
     "exception": false,
     "start_time": "2021-05-24T22:51:57.079728",
     "status": "running"
    },
    "tags": []
   },
   "outputs": [
    {
     "name": "stdout",
     "output_type": "stream",
     "text": [
      "Collecting package metadata (current_repodata.json): - "
     ]
    },
    {
     "name": "stdout",
     "output_type": "stream",
     "text": [
      "\b\b\\ "
     ]
    },
    {
     "name": "stdout",
     "output_type": "stream",
     "text": [
      "\b\b| "
     ]
    },
    {
     "name": "stdout",
     "output_type": "stream",
     "text": [
      "\b\b/ "
     ]
    },
    {
     "name": "stdout",
     "output_type": "stream",
     "text": [
      "\b\b- "
     ]
    },
    {
     "name": "stdout",
     "output_type": "stream",
     "text": [
      "\b\b\\ "
     ]
    },
    {
     "name": "stdout",
     "output_type": "stream",
     "text": [
      "\b\b| "
     ]
    },
    {
     "name": "stdout",
     "output_type": "stream",
     "text": [
      "\b\b/ "
     ]
    },
    {
     "name": "stdout",
     "output_type": "stream",
     "text": [
      "\b\b- "
     ]
    },
    {
     "name": "stdout",
     "output_type": "stream",
     "text": [
      "\b\b\\ "
     ]
    },
    {
     "name": "stdout",
     "output_type": "stream",
     "text": [
      "\b\b| "
     ]
    },
    {
     "name": "stdout",
     "output_type": "stream",
     "text": [
      "\b\b/ "
     ]
    },
    {
     "name": "stdout",
     "output_type": "stream",
     "text": [
      "\b\b- "
     ]
    },
    {
     "name": "stdout",
     "output_type": "stream",
     "text": [
      "\b\b\\ "
     ]
    },
    {
     "name": "stdout",
     "output_type": "stream",
     "text": [
      "\b\b| "
     ]
    },
    {
     "name": "stdout",
     "output_type": "stream",
     "text": [
      "\b\b/ "
     ]
    },
    {
     "name": "stdout",
     "output_type": "stream",
     "text": [
      "\b\b- "
     ]
    },
    {
     "name": "stdout",
     "output_type": "stream",
     "text": [
      "\b\b\\ "
     ]
    },
    {
     "name": "stdout",
     "output_type": "stream",
     "text": [
      "\b\b| "
     ]
    },
    {
     "name": "stdout",
     "output_type": "stream",
     "text": [
      "\b\b/ "
     ]
    },
    {
     "name": "stdout",
     "output_type": "stream",
     "text": [
      "\b\b- "
     ]
    },
    {
     "name": "stdout",
     "output_type": "stream",
     "text": [
      "\b\b\\ "
     ]
    },
    {
     "name": "stdout",
     "output_type": "stream",
     "text": [
      "\b\b| "
     ]
    },
    {
     "name": "stdout",
     "output_type": "stream",
     "text": [
      "\b\b/ "
     ]
    },
    {
     "name": "stdout",
     "output_type": "stream",
     "text": [
      "\b\b- "
     ]
    },
    {
     "name": "stdout",
     "output_type": "stream",
     "text": [
      "\b\b\\ "
     ]
    },
    {
     "name": "stdout",
     "output_type": "stream",
     "text": [
      "\b\b| "
     ]
    },
    {
     "name": "stdout",
     "output_type": "stream",
     "text": [
      "\b\b/ "
     ]
    },
    {
     "name": "stdout",
     "output_type": "stream",
     "text": [
      "\b\b- "
     ]
    },
    {
     "name": "stdout",
     "output_type": "stream",
     "text": [
      "\b\b\\ "
     ]
    },
    {
     "name": "stdout",
     "output_type": "stream",
     "text": [
      "\b\b| "
     ]
    },
    {
     "name": "stdout",
     "output_type": "stream",
     "text": [
      "\b\b/ "
     ]
    },
    {
     "name": "stdout",
     "output_type": "stream",
     "text": [
      "\b\b- "
     ]
    },
    {
     "name": "stdout",
     "output_type": "stream",
     "text": [
      "\b\b\\ "
     ]
    },
    {
     "name": "stdout",
     "output_type": "stream",
     "text": [
      "\b\b| "
     ]
    },
    {
     "name": "stdout",
     "output_type": "stream",
     "text": [
      "\b\b/ "
     ]
    },
    {
     "name": "stdout",
     "output_type": "stream",
     "text": [
      "\b\b- "
     ]
    },
    {
     "name": "stdout",
     "output_type": "stream",
     "text": [
      "\b\b\\ "
     ]
    },
    {
     "name": "stdout",
     "output_type": "stream",
     "text": [
      "\b\b| "
     ]
    },
    {
     "name": "stdout",
     "output_type": "stream",
     "text": [
      "\b\b/ "
     ]
    },
    {
     "name": "stdout",
     "output_type": "stream",
     "text": [
      "\b\b- "
     ]
    },
    {
     "name": "stdout",
     "output_type": "stream",
     "text": [
      "\b\b\\ "
     ]
    },
    {
     "name": "stdout",
     "output_type": "stream",
     "text": [
      "\b\b| "
     ]
    },
    {
     "name": "stdout",
     "output_type": "stream",
     "text": [
      "\b\b/ "
     ]
    },
    {
     "name": "stdout",
     "output_type": "stream",
     "text": [
      "\b\b- "
     ]
    },
    {
     "name": "stdout",
     "output_type": "stream",
     "text": [
      "\b\b\\ "
     ]
    },
    {
     "name": "stdout",
     "output_type": "stream",
     "text": [
      "\b\b| "
     ]
    },
    {
     "name": "stdout",
     "output_type": "stream",
     "text": [
      "\b\b/ "
     ]
    },
    {
     "name": "stdout",
     "output_type": "stream",
     "text": [
      "\b\b- "
     ]
    },
    {
     "name": "stdout",
     "output_type": "stream",
     "text": [
      "\b\b\\ "
     ]
    },
    {
     "name": "stdout",
     "output_type": "stream",
     "text": [
      "\b\b| "
     ]
    },
    {
     "name": "stdout",
     "output_type": "stream",
     "text": [
      "\b\b/ "
     ]
    },
    {
     "name": "stdout",
     "output_type": "stream",
     "text": [
      "\b\b- "
     ]
    },
    {
     "name": "stdout",
     "output_type": "stream",
     "text": [
      "\b\b\\ "
     ]
    },
    {
     "name": "stdout",
     "output_type": "stream",
     "text": [
      "\b\b| "
     ]
    },
    {
     "name": "stdout",
     "output_type": "stream",
     "text": [
      "\b\b/ "
     ]
    },
    {
     "name": "stdout",
     "output_type": "stream",
     "text": [
      "\b\b- "
     ]
    },
    {
     "name": "stdout",
     "output_type": "stream",
     "text": [
      "\b\b\\ "
     ]
    },
    {
     "name": "stdout",
     "output_type": "stream",
     "text": [
      "\b\b| "
     ]
    },
    {
     "name": "stdout",
     "output_type": "stream",
     "text": [
      "\b\b/ "
     ]
    },
    {
     "name": "stdout",
     "output_type": "stream",
     "text": [
      "\b\b- "
     ]
    },
    {
     "name": "stdout",
     "output_type": "stream",
     "text": [
      "\b\b\\ "
     ]
    },
    {
     "name": "stdout",
     "output_type": "stream",
     "text": [
      "\b\b| "
     ]
    },
    {
     "name": "stdout",
     "output_type": "stream",
     "text": [
      "\b\b/ "
     ]
    },
    {
     "name": "stdout",
     "output_type": "stream",
     "text": [
      "\b\b- "
     ]
    },
    {
     "name": "stdout",
     "output_type": "stream",
     "text": [
      "\b\b\\ "
     ]
    },
    {
     "name": "stdout",
     "output_type": "stream",
     "text": [
      "\b\b| "
     ]
    },
    {
     "name": "stdout",
     "output_type": "stream",
     "text": [
      "\b\b/ "
     ]
    },
    {
     "name": "stdout",
     "output_type": "stream",
     "text": [
      "\b\b- "
     ]
    },
    {
     "name": "stdout",
     "output_type": "stream",
     "text": [
      "\b\b\\ "
     ]
    },
    {
     "name": "stdout",
     "output_type": "stream",
     "text": [
      "\b\b| "
     ]
    },
    {
     "name": "stdout",
     "output_type": "stream",
     "text": [
      "\b\b/ "
     ]
    },
    {
     "name": "stdout",
     "output_type": "stream",
     "text": [
      "\b\b- "
     ]
    },
    {
     "name": "stdout",
     "output_type": "stream",
     "text": [
      "\b\b\\ "
     ]
    },
    {
     "name": "stdout",
     "output_type": "stream",
     "text": [
      "\b\b| "
     ]
    },
    {
     "name": "stdout",
     "output_type": "stream",
     "text": [
      "\b\b/ "
     ]
    },
    {
     "name": "stdout",
     "output_type": "stream",
     "text": [
      "\b\b- "
     ]
    },
    {
     "name": "stdout",
     "output_type": "stream",
     "text": [
      "\b\b\\ "
     ]
    },
    {
     "name": "stdout",
     "output_type": "stream",
     "text": [
      "\b\b| "
     ]
    },
    {
     "name": "stdout",
     "output_type": "stream",
     "text": [
      "\b\b/ "
     ]
    },
    {
     "name": "stdout",
     "output_type": "stream",
     "text": [
      "\b\b- "
     ]
    },
    {
     "name": "stdout",
     "output_type": "stream",
     "text": [
      "\b\b\\ "
     ]
    },
    {
     "name": "stdout",
     "output_type": "stream",
     "text": [
      "\b\b| "
     ]
    },
    {
     "name": "stdout",
     "output_type": "stream",
     "text": [
      "\b\b/ "
     ]
    },
    {
     "name": "stdout",
     "output_type": "stream",
     "text": [
      "\b\b- "
     ]
    },
    {
     "name": "stdout",
     "output_type": "stream",
     "text": [
      "\b\b\\ "
     ]
    },
    {
     "name": "stdout",
     "output_type": "stream",
     "text": [
      "\b\b| "
     ]
    },
    {
     "name": "stdout",
     "output_type": "stream",
     "text": [
      "\b\b/ "
     ]
    },
    {
     "name": "stdout",
     "output_type": "stream",
     "text": [
      "\b\b- "
     ]
    },
    {
     "name": "stdout",
     "output_type": "stream",
     "text": [
      "\b\b\\ "
     ]
    },
    {
     "name": "stdout",
     "output_type": "stream",
     "text": [
      "\b\b| "
     ]
    },
    {
     "name": "stdout",
     "output_type": "stream",
     "text": [
      "\b\b/ "
     ]
    },
    {
     "name": "stdout",
     "output_type": "stream",
     "text": [
      "\b\b- "
     ]
    },
    {
     "name": "stdout",
     "output_type": "stream",
     "text": [
      "\b\b\\ "
     ]
    },
    {
     "name": "stdout",
     "output_type": "stream",
     "text": [
      "\b\b| "
     ]
    },
    {
     "name": "stdout",
     "output_type": "stream",
     "text": [
      "\b\b/ "
     ]
    },
    {
     "name": "stdout",
     "output_type": "stream",
     "text": [
      "\b\b- "
     ]
    },
    {
     "name": "stdout",
     "output_type": "stream",
     "text": [
      "\b\b\\ "
     ]
    },
    {
     "name": "stdout",
     "output_type": "stream",
     "text": [
      "\b\b| "
     ]
    },
    {
     "name": "stdout",
     "output_type": "stream",
     "text": [
      "\b\b/ "
     ]
    },
    {
     "name": "stdout",
     "output_type": "stream",
     "text": [
      "\b\b- "
     ]
    },
    {
     "name": "stdout",
     "output_type": "stream",
     "text": [
      "\b\b\\ "
     ]
    },
    {
     "name": "stdout",
     "output_type": "stream",
     "text": [
      "\b\b| "
     ]
    },
    {
     "name": "stdout",
     "output_type": "stream",
     "text": [
      "\b\b/ "
     ]
    },
    {
     "name": "stdout",
     "output_type": "stream",
     "text": [
      "\b\b- "
     ]
    },
    {
     "name": "stdout",
     "output_type": "stream",
     "text": [
      "\b\b\\ "
     ]
    },
    {
     "name": "stdout",
     "output_type": "stream",
     "text": [
      "\b\b| "
     ]
    },
    {
     "name": "stdout",
     "output_type": "stream",
     "text": [
      "\b\b/ "
     ]
    },
    {
     "name": "stdout",
     "output_type": "stream",
     "text": [
      "\b\b- "
     ]
    },
    {
     "name": "stdout",
     "output_type": "stream",
     "text": [
      "\b\b\\ "
     ]
    },
    {
     "name": "stdout",
     "output_type": "stream",
     "text": [
      "\b\b| "
     ]
    },
    {
     "name": "stdout",
     "output_type": "stream",
     "text": [
      "\b\b/ "
     ]
    },
    {
     "name": "stdout",
     "output_type": "stream",
     "text": [
      "\b\b- "
     ]
    },
    {
     "name": "stdout",
     "output_type": "stream",
     "text": [
      "\b\b\\ "
     ]
    },
    {
     "name": "stdout",
     "output_type": "stream",
     "text": [
      "\b\b| "
     ]
    },
    {
     "name": "stdout",
     "output_type": "stream",
     "text": [
      "\b\b/ "
     ]
    },
    {
     "name": "stdout",
     "output_type": "stream",
     "text": [
      "\b\b- "
     ]
    },
    {
     "name": "stdout",
     "output_type": "stream",
     "text": [
      "\b\b\\ "
     ]
    },
    {
     "name": "stdout",
     "output_type": "stream",
     "text": [
      "\b\b| "
     ]
    },
    {
     "name": "stdout",
     "output_type": "stream",
     "text": [
      "\b\b/ "
     ]
    },
    {
     "name": "stdout",
     "output_type": "stream",
     "text": [
      "\b\b- "
     ]
    },
    {
     "name": "stdout",
     "output_type": "stream",
     "text": [
      "\b\b\\ "
     ]
    },
    {
     "name": "stdout",
     "output_type": "stream",
     "text": [
      "\b\b| "
     ]
    },
    {
     "name": "stdout",
     "output_type": "stream",
     "text": [
      "\b\b/ "
     ]
    },
    {
     "name": "stdout",
     "output_type": "stream",
     "text": [
      "\b\b- "
     ]
    },
    {
     "name": "stdout",
     "output_type": "stream",
     "text": [
      "\b\b\\ "
     ]
    },
    {
     "name": "stdout",
     "output_type": "stream",
     "text": [
      "\b\b| "
     ]
    },
    {
     "name": "stdout",
     "output_type": "stream",
     "text": [
      "\b\b/ "
     ]
    },
    {
     "name": "stdout",
     "output_type": "stream",
     "text": [
      "\b\b- "
     ]
    },
    {
     "name": "stdout",
     "output_type": "stream",
     "text": [
      "\b\b\\ "
     ]
    },
    {
     "name": "stdout",
     "output_type": "stream",
     "text": [
      "\b\b| "
     ]
    },
    {
     "name": "stdout",
     "output_type": "stream",
     "text": [
      "\b\b/ "
     ]
    },
    {
     "name": "stdout",
     "output_type": "stream",
     "text": [
      "\b\b- "
     ]
    },
    {
     "name": "stdout",
     "output_type": "stream",
     "text": [
      "\b\b\\ "
     ]
    },
    {
     "name": "stdout",
     "output_type": "stream",
     "text": [
      "\b\b| "
     ]
    },
    {
     "name": "stdout",
     "output_type": "stream",
     "text": [
      "\b\b/ "
     ]
    },
    {
     "name": "stdout",
     "output_type": "stream",
     "text": [
      "\b\b- "
     ]
    },
    {
     "name": "stdout",
     "output_type": "stream",
     "text": [
      "\b\b\\ "
     ]
    },
    {
     "name": "stdout",
     "output_type": "stream",
     "text": [
      "\b\b| "
     ]
    },
    {
     "name": "stdout",
     "output_type": "stream",
     "text": [
      "\b\b/ "
     ]
    },
    {
     "name": "stdout",
     "output_type": "stream",
     "text": [
      "\b\b- "
     ]
    },
    {
     "name": "stdout",
     "output_type": "stream",
     "text": [
      "\b\b\\ "
     ]
    },
    {
     "name": "stdout",
     "output_type": "stream",
     "text": [
      "\b\b| "
     ]
    },
    {
     "name": "stdout",
     "output_type": "stream",
     "text": [
      "\b\b/ "
     ]
    },
    {
     "name": "stdout",
     "output_type": "stream",
     "text": [
      "\b\b- "
     ]
    },
    {
     "name": "stdout",
     "output_type": "stream",
     "text": [
      "\b\b\\ "
     ]
    },
    {
     "name": "stdout",
     "output_type": "stream",
     "text": [
      "\b\b| "
     ]
    },
    {
     "name": "stdout",
     "output_type": "stream",
     "text": [
      "\b\b/ "
     ]
    },
    {
     "name": "stdout",
     "output_type": "stream",
     "text": [
      "\b\b- "
     ]
    },
    {
     "name": "stdout",
     "output_type": "stream",
     "text": [
      "\b\b\\ "
     ]
    },
    {
     "name": "stdout",
     "output_type": "stream",
     "text": [
      "\b\b| "
     ]
    },
    {
     "name": "stdout",
     "output_type": "stream",
     "text": [
      "\b\b/ "
     ]
    },
    {
     "name": "stdout",
     "output_type": "stream",
     "text": [
      "\b\b- "
     ]
    },
    {
     "name": "stdout",
     "output_type": "stream",
     "text": [
      "\b\b\\ "
     ]
    },
    {
     "name": "stdout",
     "output_type": "stream",
     "text": [
      "\b\b| "
     ]
    },
    {
     "name": "stdout",
     "output_type": "stream",
     "text": [
      "\b\b/ "
     ]
    },
    {
     "name": "stdout",
     "output_type": "stream",
     "text": [
      "\b\b- "
     ]
    },
    {
     "name": "stdout",
     "output_type": "stream",
     "text": [
      "\b\b\\ "
     ]
    },
    {
     "name": "stdout",
     "output_type": "stream",
     "text": [
      "\b\b| "
     ]
    },
    {
     "name": "stdout",
     "output_type": "stream",
     "text": [
      "\b\b/ "
     ]
    },
    {
     "name": "stdout",
     "output_type": "stream",
     "text": [
      "\b\b- "
     ]
    },
    {
     "name": "stdout",
     "output_type": "stream",
     "text": [
      "\b\b\\ "
     ]
    },
    {
     "name": "stdout",
     "output_type": "stream",
     "text": [
      "\b\b| "
     ]
    },
    {
     "name": "stdout",
     "output_type": "stream",
     "text": [
      "\b\b/ "
     ]
    },
    {
     "name": "stdout",
     "output_type": "stream",
     "text": [
      "\b\b- "
     ]
    },
    {
     "name": "stdout",
     "output_type": "stream",
     "text": [
      "\b\b\\ "
     ]
    },
    {
     "name": "stdout",
     "output_type": "stream",
     "text": [
      "\b\b| "
     ]
    },
    {
     "name": "stdout",
     "output_type": "stream",
     "text": [
      "\b\b/ "
     ]
    },
    {
     "name": "stdout",
     "output_type": "stream",
     "text": [
      "\b\b- "
     ]
    },
    {
     "name": "stdout",
     "output_type": "stream",
     "text": [
      "\b\bdone\r\n",
      "Solving environment: | "
     ]
    },
    {
     "name": "stdout",
     "output_type": "stream",
     "text": [
      "\b\b/ "
     ]
    },
    {
     "name": "stdout",
     "output_type": "stream",
     "text": [
      "\b\b- "
     ]
    },
    {
     "name": "stdout",
     "output_type": "stream",
     "text": [
      "\b\b\\ "
     ]
    },
    {
     "name": "stdout",
     "output_type": "stream",
     "text": [
      "\b\b| "
     ]
    },
    {
     "name": "stdout",
     "output_type": "stream",
     "text": [
      "\b\b/ "
     ]
    },
    {
     "name": "stdout",
     "output_type": "stream",
     "text": [
      "\b\b- "
     ]
    },
    {
     "name": "stdout",
     "output_type": "stream",
     "text": [
      "\b\b\\ "
     ]
    },
    {
     "name": "stdout",
     "output_type": "stream",
     "text": [
      "\b\b| "
     ]
    },
    {
     "name": "stdout",
     "output_type": "stream",
     "text": [
      "\b\b/ "
     ]
    },
    {
     "name": "stdout",
     "output_type": "stream",
     "text": [
      "\b\b- "
     ]
    },
    {
     "name": "stdout",
     "output_type": "stream",
     "text": [
      "\b\b\\ "
     ]
    },
    {
     "name": "stdout",
     "output_type": "stream",
     "text": [
      "\b\b| "
     ]
    },
    {
     "name": "stdout",
     "output_type": "stream",
     "text": [
      "\b\b/ "
     ]
    },
    {
     "name": "stdout",
     "output_type": "stream",
     "text": [
      "\b\b- "
     ]
    },
    {
     "name": "stdout",
     "output_type": "stream",
     "text": [
      "\b\b\\ "
     ]
    },
    {
     "name": "stdout",
     "output_type": "stream",
     "text": [
      "\b\b| "
     ]
    },
    {
     "name": "stdout",
     "output_type": "stream",
     "text": [
      "\b\b/ "
     ]
    },
    {
     "name": "stdout",
     "output_type": "stream",
     "text": [
      "\b\b- "
     ]
    },
    {
     "name": "stdout",
     "output_type": "stream",
     "text": [
      "\b\b\\ "
     ]
    },
    {
     "name": "stdout",
     "output_type": "stream",
     "text": [
      "\b\b| "
     ]
    },
    {
     "name": "stdout",
     "output_type": "stream",
     "text": [
      "\b\b/ "
     ]
    },
    {
     "name": "stdout",
     "output_type": "stream",
     "text": [
      "\b\b- "
     ]
    },
    {
     "name": "stdout",
     "output_type": "stream",
     "text": [
      "\b\b\\ "
     ]
    },
    {
     "name": "stdout",
     "output_type": "stream",
     "text": [
      "\b\b| "
     ]
    },
    {
     "name": "stdout",
     "output_type": "stream",
     "text": [
      "\b\b/ "
     ]
    },
    {
     "name": "stdout",
     "output_type": "stream",
     "text": [
      "\b\b- "
     ]
    },
    {
     "name": "stdout",
     "output_type": "stream",
     "text": [
      "\b\b\\ "
     ]
    },
    {
     "name": "stdout",
     "output_type": "stream",
     "text": [
      "\b\b| "
     ]
    },
    {
     "name": "stdout",
     "output_type": "stream",
     "text": [
      "\b\b/ "
     ]
    },
    {
     "name": "stdout",
     "output_type": "stream",
     "text": [
      "\b\b- "
     ]
    },
    {
     "name": "stdout",
     "output_type": "stream",
     "text": [
      "\b\b\\ "
     ]
    },
    {
     "name": "stdout",
     "output_type": "stream",
     "text": [
      "\b\b| "
     ]
    },
    {
     "name": "stdout",
     "output_type": "stream",
     "text": [
      "\b\b/ "
     ]
    },
    {
     "name": "stdout",
     "output_type": "stream",
     "text": [
      "\b\b- "
     ]
    },
    {
     "name": "stdout",
     "output_type": "stream",
     "text": [
      "\b\b\\ "
     ]
    },
    {
     "name": "stdout",
     "output_type": "stream",
     "text": [
      "\b\b| "
     ]
    },
    {
     "name": "stdout",
     "output_type": "stream",
     "text": [
      "\b\b/ "
     ]
    },
    {
     "name": "stdout",
     "output_type": "stream",
     "text": [
      "\b\b- "
     ]
    },
    {
     "name": "stdout",
     "output_type": "stream",
     "text": [
      "\b\b\\ "
     ]
    },
    {
     "name": "stdout",
     "output_type": "stream",
     "text": [
      "\b\b| "
     ]
    },
    {
     "name": "stdout",
     "output_type": "stream",
     "text": [
      "\b\b/ "
     ]
    },
    {
     "name": "stdout",
     "output_type": "stream",
     "text": [
      "\b\b- "
     ]
    },
    {
     "name": "stdout",
     "output_type": "stream",
     "text": [
      "\b\b\\ "
     ]
    },
    {
     "name": "stdout",
     "output_type": "stream",
     "text": [
      "\b\b| "
     ]
    },
    {
     "name": "stdout",
     "output_type": "stream",
     "text": [
      "\b\b/ "
     ]
    },
    {
     "name": "stdout",
     "output_type": "stream",
     "text": [
      "\b\b- "
     ]
    },
    {
     "name": "stdout",
     "output_type": "stream",
     "text": [
      "\b\b\\ "
     ]
    },
    {
     "name": "stdout",
     "output_type": "stream",
     "text": [
      "\b\b| "
     ]
    },
    {
     "name": "stdout",
     "output_type": "stream",
     "text": [
      "\b\b/ "
     ]
    },
    {
     "name": "stdout",
     "output_type": "stream",
     "text": [
      "\b\b- "
     ]
    },
    {
     "name": "stdout",
     "output_type": "stream",
     "text": [
      "\b\b\\ "
     ]
    },
    {
     "name": "stdout",
     "output_type": "stream",
     "text": [
      "\b\b| "
     ]
    },
    {
     "name": "stdout",
     "output_type": "stream",
     "text": [
      "\b\b/ "
     ]
    },
    {
     "name": "stdout",
     "output_type": "stream",
     "text": [
      "\b\b- "
     ]
    },
    {
     "name": "stdout",
     "output_type": "stream",
     "text": [
      "\b\b\\ "
     ]
    },
    {
     "name": "stdout",
     "output_type": "stream",
     "text": [
      "\b\b| "
     ]
    },
    {
     "name": "stdout",
     "output_type": "stream",
     "text": [
      "\b\b/ "
     ]
    },
    {
     "name": "stdout",
     "output_type": "stream",
     "text": [
      "\b\b- "
     ]
    },
    {
     "name": "stdout",
     "output_type": "stream",
     "text": [
      "\b\b\\ "
     ]
    },
    {
     "name": "stdout",
     "output_type": "stream",
     "text": [
      "\b\b| "
     ]
    },
    {
     "name": "stdout",
     "output_type": "stream",
     "text": [
      "\b\b/ "
     ]
    },
    {
     "name": "stdout",
     "output_type": "stream",
     "text": [
      "\b\b- "
     ]
    },
    {
     "name": "stdout",
     "output_type": "stream",
     "text": [
      "\b\b\\ "
     ]
    },
    {
     "name": "stdout",
     "output_type": "stream",
     "text": [
      "\b\b| "
     ]
    },
    {
     "name": "stdout",
     "output_type": "stream",
     "text": [
      "\b\b/ "
     ]
    },
    {
     "name": "stdout",
     "output_type": "stream",
     "text": [
      "\b\b- "
     ]
    },
    {
     "name": "stdout",
     "output_type": "stream",
     "text": [
      "\b\b\\ "
     ]
    },
    {
     "name": "stdout",
     "output_type": "stream",
     "text": [
      "\b\b| "
     ]
    },
    {
     "name": "stdout",
     "output_type": "stream",
     "text": [
      "\b\b/ "
     ]
    },
    {
     "name": "stdout",
     "output_type": "stream",
     "text": [
      "\b\b- "
     ]
    },
    {
     "name": "stdout",
     "output_type": "stream",
     "text": [
      "\b\b\\ "
     ]
    },
    {
     "name": "stdout",
     "output_type": "stream",
     "text": [
      "\b\b| "
     ]
    },
    {
     "name": "stdout",
     "output_type": "stream",
     "text": [
      "\b\b/ "
     ]
    },
    {
     "name": "stdout",
     "output_type": "stream",
     "text": [
      "\b\b- "
     ]
    },
    {
     "name": "stdout",
     "output_type": "stream",
     "text": [
      "\b\b\\ "
     ]
    },
    {
     "name": "stdout",
     "output_type": "stream",
     "text": [
      "\b\b| "
     ]
    },
    {
     "name": "stdout",
     "output_type": "stream",
     "text": [
      "\b\b/ "
     ]
    },
    {
     "name": "stdout",
     "output_type": "stream",
     "text": [
      "\b\b- "
     ]
    },
    {
     "name": "stdout",
     "output_type": "stream",
     "text": [
      "\b\b\\ "
     ]
    },
    {
     "name": "stdout",
     "output_type": "stream",
     "text": [
      "\b\b| "
     ]
    },
    {
     "name": "stdout",
     "output_type": "stream",
     "text": [
      "\b\b/ "
     ]
    },
    {
     "name": "stdout",
     "output_type": "stream",
     "text": [
      "\b\b- "
     ]
    },
    {
     "name": "stdout",
     "output_type": "stream",
     "text": [
      "\b\b\\ "
     ]
    },
    {
     "name": "stdout",
     "output_type": "stream",
     "text": [
      "\b\b| "
     ]
    },
    {
     "name": "stdout",
     "output_type": "stream",
     "text": [
      "\b\b/ "
     ]
    },
    {
     "name": "stdout",
     "output_type": "stream",
     "text": [
      "\b\b- "
     ]
    },
    {
     "name": "stdout",
     "output_type": "stream",
     "text": [
      "\b\b\\ "
     ]
    },
    {
     "name": "stdout",
     "output_type": "stream",
     "text": [
      "\b\b| "
     ]
    },
    {
     "name": "stdout",
     "output_type": "stream",
     "text": [
      "\b\b/ "
     ]
    },
    {
     "name": "stdout",
     "output_type": "stream",
     "text": [
      "\b\b- "
     ]
    },
    {
     "name": "stdout",
     "output_type": "stream",
     "text": [
      "\b\b\\ "
     ]
    },
    {
     "name": "stdout",
     "output_type": "stream",
     "text": [
      "\b\b| "
     ]
    },
    {
     "name": "stdout",
     "output_type": "stream",
     "text": [
      "\b\b/ "
     ]
    },
    {
     "name": "stdout",
     "output_type": "stream",
     "text": [
      "\b\b- "
     ]
    },
    {
     "name": "stdout",
     "output_type": "stream",
     "text": [
      "\b\b\\ "
     ]
    },
    {
     "name": "stdout",
     "output_type": "stream",
     "text": [
      "\b\b| "
     ]
    },
    {
     "name": "stdout",
     "output_type": "stream",
     "text": [
      "\b\b/ "
     ]
    },
    {
     "name": "stdout",
     "output_type": "stream",
     "text": [
      "\b\b- "
     ]
    },
    {
     "name": "stdout",
     "output_type": "stream",
     "text": [
      "\b\b\\ "
     ]
    },
    {
     "name": "stdout",
     "output_type": "stream",
     "text": [
      "\b\b| "
     ]
    },
    {
     "name": "stdout",
     "output_type": "stream",
     "text": [
      "\b\b/ "
     ]
    },
    {
     "name": "stdout",
     "output_type": "stream",
     "text": [
      "\b\b- "
     ]
    },
    {
     "name": "stdout",
     "output_type": "stream",
     "text": [
      "\b\b\\ "
     ]
    },
    {
     "name": "stdout",
     "output_type": "stream",
     "text": [
      "\b\b| "
     ]
    },
    {
     "name": "stdout",
     "output_type": "stream",
     "text": [
      "\b\b/ "
     ]
    },
    {
     "name": "stdout",
     "output_type": "stream",
     "text": [
      "\b\b- "
     ]
    },
    {
     "name": "stdout",
     "output_type": "stream",
     "text": [
      "\b\b\\ "
     ]
    },
    {
     "name": "stdout",
     "output_type": "stream",
     "text": [
      "\b\b| "
     ]
    },
    {
     "name": "stdout",
     "output_type": "stream",
     "text": [
      "\b\b/ "
     ]
    },
    {
     "name": "stdout",
     "output_type": "stream",
     "text": [
      "\b\b- "
     ]
    },
    {
     "name": "stdout",
     "output_type": "stream",
     "text": [
      "\b\b\\ "
     ]
    },
    {
     "name": "stdout",
     "output_type": "stream",
     "text": [
      "\b\b| "
     ]
    },
    {
     "name": "stdout",
     "output_type": "stream",
     "text": [
      "\b\b/ "
     ]
    },
    {
     "name": "stdout",
     "output_type": "stream",
     "text": [
      "\b\b- "
     ]
    },
    {
     "name": "stdout",
     "output_type": "stream",
     "text": [
      "\b\b\\ "
     ]
    },
    {
     "name": "stdout",
     "output_type": "stream",
     "text": [
      "\b\b| "
     ]
    },
    {
     "name": "stdout",
     "output_type": "stream",
     "text": [
      "\b\b/ "
     ]
    },
    {
     "name": "stdout",
     "output_type": "stream",
     "text": [
      "\b\b- "
     ]
    },
    {
     "name": "stdout",
     "output_type": "stream",
     "text": [
      "\b\b\\ "
     ]
    },
    {
     "name": "stdout",
     "output_type": "stream",
     "text": [
      "\b\b| "
     ]
    },
    {
     "name": "stdout",
     "output_type": "stream",
     "text": [
      "\b\b/ "
     ]
    },
    {
     "name": "stdout",
     "output_type": "stream",
     "text": [
      "\b\b- "
     ]
    }
   ],
   "source": [
    "#apt-get -y install libperlio-gzip-perl\n",
    "!conda install -c bioconda perl-perlio-gzip -y"
   ]
  },
  {
   "cell_type": "code",
   "execution_count": null,
   "id": "european-beginning",
   "metadata": {
    "papermill": {
     "duration": null,
     "end_time": null,
     "exception": null,
     "start_time": null,
     "status": "pending"
    },
    "tags": []
   },
   "outputs": [],
   "source": [
    "import os\n",
    "#os.environ['LD_LIBRARY_PATH'] = f'{os.environ[\"LD_LIBRARY_PATH\"]}:/opt/kaldi/tools/openfst-1.6.7/lib:/opt/kaldi/src/lib'\n",
    "os.environ['LD_LIBRARY_PATH'] = '/opt/conda/lib:/opt/kaldi/tools/openfst-1.6.7/lib:/opt/kaldi/src/lib'"
   ]
  },
  {
   "cell_type": "code",
   "execution_count": null,
   "id": "opposite-stupid",
   "metadata": {
    "papermill": {
     "duration": null,
     "end_time": null,
     "exception": null,
     "start_time": null,
     "status": "pending"
    },
    "tags": []
   },
   "outputs": [],
   "source": [
    "!cat path.sh|sed -e 's/~\\/apps/\\/opt/' > tmp\n",
    "!mv tmp path.sh"
   ]
  },
  {
   "cell_type": "code",
   "execution_count": null,
   "id": "fourth-scratch",
   "metadata": {
    "papermill": {
     "duration": null,
     "end_time": null,
     "exception": null,
     "start_time": null,
     "status": "pending"
    },
    "tags": []
   },
   "outputs": [],
   "source": [
    "!echo > local_clarin/clarin_pl_clean.sh"
   ]
  },
  {
   "cell_type": "code",
   "execution_count": null,
   "id": "aging-tracker",
   "metadata": {
    "papermill": {
     "duration": null,
     "end_time": null,
     "exception": null,
     "start_time": null,
     "status": "pending"
    },
    "tags": []
   },
   "outputs": [],
   "source": [
    "!ln -s ../wsj/s5/steps\n",
    "!ln -s ../wsj/s5/conf\n",
    "!ln -s ../wsj/s5/local\n",
    "!ln -s ../wsj/s5/utils"
   ]
  },
  {
   "cell_type": "code",
   "execution_count": null,
   "id": "ongoing-familiar",
   "metadata": {
    "papermill": {
     "duration": null,
     "end_time": null,
     "exception": null,
     "start_time": null,
     "status": "pending"
    },
    "tags": []
   },
   "outputs": [],
   "source": [
    "!cp -r /kaggle/input/kaldi-clarinstudio-polish-data-prep/data /kaggle/working/"
   ]
  },
  {
   "cell_type": "code",
   "execution_count": null,
   "id": "searching-buying",
   "metadata": {
    "papermill": {
     "duration": null,
     "end_time": null,
     "exception": null,
     "start_time": null,
     "status": "pending"
    },
    "tags": []
   },
   "outputs": [],
   "source": [
    "!mkdir /kaggle/working/exp\n",
    "!ln -s /kaggle/working/exp\n",
    "!ln -s /kaggle/working/data"
   ]
  },
  {
   "cell_type": "code",
   "execution_count": null,
   "id": "textile-studio",
   "metadata": {
    "papermill": {
     "duration": null,
     "end_time": null,
     "exception": null,
     "start_time": null,
     "status": "pending"
    },
    "tags": []
   },
   "outputs": [],
   "source": [
    "%%writefile run.sh\n",
    ". path.sh\n",
    "#train Monophone system\n",
    "steps/train_mono.sh --nj $nj data/train data/lang_nosp exp/mono0\n",
    "\n",
    "#align using the Monophone system\n",
    "steps/align_si.sh --nj $nj data/train data/lang_nosp exp/mono0 exp/mono0_ali\n",
    "\n",
    "#train initial Triphone system\n",
    "steps/train_deltas.sh 2000 10000 data/train data/lang_nosp exp/mono0_ali exp/tri1\n",
    "\n",
    "#re-align using the initial Triphone system\n",
    "steps/align_si.sh --nj $nj data/train data/lang_nosp exp/tri1 exp/tri1_ali\n",
    "\n",
    "#train tri2a, which is deltas + delta-deltas\n",
    "steps/train_deltas.sh 2500 15000 data/train data/lang_nosp exp/tri1_ali exp/tri2a\n",
    "\n",
    "#train tri2b, which is tri2a + LDA\n",
    "steps/train_lda_mllt.sh --splice-opts \"--left-context=3 --right-context=3\" \\\n",
    "   2500 15000 data/train data/lang_nosp exp/tri1_ali exp/tri2b\n",
    "\n",
    "#re-align tri2b system\n",
    "steps/align_si.sh --nj $nj --use-graphs true data/train data/lang_nosp exp/tri2b exp/tri2b_ali \n",
    "\n",
    "\n",
    "#from 2b system, train 3b which is LDA + MLLT + SAT.\n",
    "steps/train_sat.sh 2500 15000 data/train data/lang_nosp exp/tri2b_ali exp/tri3b\n",
    "\n",
    "#get pronounciation probabilities and silence information \n",
    "./steps/get_prons.sh data/train data/lang_nosp exp/tri3b\n",
    "\n",
    "#recreate dict with new pronounciation and silence probabilities\n",
    "./utils/dict_dir_add_pronprobs.sh data/local/dict_nosp \\\n",
    "\texp/tri3b/pron_counts_nowb.txt \\\n",
    "\texp/tri3b/sil_counts_nowb.txt \\\n",
    "\texp/tri3b/pron_bigram_counts_nowb.txt data/local/dict\n",
    "\n",
    "#recreate lang directory\n",
    "utils/prepare_lang.sh data/local/dict \"<unk>\" data/local/tmp data/lang\n",
    "\n",
    "#recreate G.fst\n",
    "utils/format_lm.sh data/lang local_clarin/arpa.lm.gz data/local/dict/lexicon.txt data/lang_test\n",
    "\n",
    "#download a large LM (~843MB)\n",
    "if [ ! -f local_clarin/large.arpa.gz ] ; then\n",
    "(\n",
    "\tcd local_clarin\n",
    "\tcurl -O http://mowa.clarin-pl.eu/korpusy/large.arpa.gz\n",
    ")\n",
    "fi\n",
    "\n",
    "#create the const-arpa lang dir\n",
    "./utils/build_const_arpa_lm.sh local_clarin/large.arpa.gz data/lang data/lang_carpa\n",
    "\n",
    "#from 3b system, align all data\n",
    "steps/align_fmllr.sh --nj $nj data/train data/lang exp/tri3b exp/tri3b_ali\n",
    "\n",
    "#train MMI on tri3b (LDA+MLLT+SAT)\n",
    "steps/make_denlats.sh --nj $nj --transform-dir exp/tri3b_ali data/train data/lang \\\n",
    "\texp/tri3b exp/tri3b_denlats\n",
    "steps/train_mmi.sh data/train data/lang exp/tri3b_ali exp/tri3b_denlats exp/tri3b_mmi\n",
    "\n",
    "#Performing tests on all the above systems:\n",
    "\n",
    "#test Monophone system\n",
    "utils/mkgraph.sh data/lang_nosp_test exp/mono0 exp/mono0/graph\n",
    "steps/decode.sh --nj $nj_test exp/mono0/graph data/test exp/mono0/decode\n",
    "\n",
    "#test initial Triphone system\n",
    "utils/mkgraph.sh data/lang_nosp_test exp/tri1 exp/tri1/graph\n",
    "steps/decode.sh --nj $nj_test exp/tri1/graph data/test exp/tri1/decode\n",
    "\n",
    "#test tri2a\n",
    "utils/mkgraph.sh data/lang_nosp_test exp/tri2a exp/tri2a/graph\n",
    "steps/decode.sh --nj $nj_test exp/tri2a/graph data/test exp/tri2a/decode\n",
    "\n",
    "#test tri2b\n",
    "utils/mkgraph.sh data/lang_nosp_test exp/tri2b exp/tri2b/graph\n",
    "steps/decode.sh --nj $nj_test exp/tri2b/graph data/test exp/tri2b/decode\n",
    "\n",
    "#test tri3b\n",
    "utils/mkgraph.sh data/lang_nosp_test exp/tri3b exp/tri3b/graph_nosp\n",
    "steps/decode_fmllr.sh --nj $nj_test exp/tri3b/graph_nosp data/test exp/tri3b/decode_nosp\n",
    "\n",
    "#test tri3b again\n",
    "utils/mkgraph.sh data/lang_test exp/tri3b exp/tri3b/graph\n",
    "steps/decode_fmllr.sh --nj $nj_test exp/tri3b/graph data/test exp/tri3b/decode\n",
    "\n",
    "#test MMI\n",
    "steps/decode_fmllr.sh --nj $nj_test exp/tri3b/graph data/test exp/tri3b_mmi/decode\n",
    "\n",
    "#decode MMI using wider beam\n",
    "steps/decode_fmllr.sh --nj $nj_test --beam 24 --lattice-beam 12 \\\n",
    "  exp/tri3b/graph data/test exp/tri3b_mmi/decode_wb\n",
    "\n",
    "#compute the oracle on the last decoding result - to see how much is possible using these lattices\n",
    "./steps/oracle_wer.sh data/test data/lang exp/tri3b_mmi/decode_wb\n",
    "\n",
    "#perform rescoring using the large LM in carpa format (much faster than regular arpa)\n",
    "./steps/lmrescore_const_arpa.sh data/lang_test data/lang_carpa data/test exp/tri3b_mmi/decode_wb exp/tri3b_mmi/decode_rs\n",
    "\n",
    "find exp -name best_wer | while read f ; do cat $f ; done | sort -k2nr\n",
    "find exp -name oracle_wer | while read f ; do echo -n \"$f: \" ; cat $f ; done | sort -k2nr"
   ]
  },
  {
   "cell_type": "code",
   "execution_count": null,
   "id": "educational-julian",
   "metadata": {
    "papermill": {
     "duration": null,
     "end_time": null,
     "exception": null,
     "start_time": null,
     "status": "pending"
    },
    "tags": []
   },
   "outputs": [],
   "source": [
    "!bash run.sh"
   ]
  }
 ],
 "metadata": {
  "kernelspec": {
   "display_name": "Python 3",
   "language": "python",
   "name": "python3"
  },
  "language_info": {
   "codemirror_mode": {
    "name": "ipython",
    "version": 3
   },
   "file_extension": ".py",
   "mimetype": "text/x-python",
   "name": "python",
   "nbconvert_exporter": "python",
   "pygments_lexer": "ipython3",
   "version": "3.6.4"
  },
  "papermill": {
   "default_parameters": {},
   "duration": null,
   "end_time": null,
   "environment_variables": {},
   "exception": null,
   "input_path": "__notebook__.ipynb",
   "output_path": "__notebook__.ipynb",
   "parameters": {},
   "start_time": "2021-05-24T22:51:04.578732",
   "version": "2.3.3"
  }
 },
 "nbformat": 4,
 "nbformat_minor": 5
}