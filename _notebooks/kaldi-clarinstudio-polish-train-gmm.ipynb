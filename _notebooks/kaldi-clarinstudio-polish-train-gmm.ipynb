{
 "cells": [
  {
   "cell_type": "code",
   "execution_count": 1,
   "id": "million-vacuum",
   "metadata": {
    "execution": {
     "iopub.execute_input": "2021-05-24T22:54:17.669699Z",
     "iopub.status.busy": "2021-05-24T22:54:17.669073Z",
     "iopub.status.idle": "2021-05-24T22:54:17.674523Z",
     "shell.execute_reply": "2021-05-24T22:54:17.673793Z"
    },
    "papermill": {
     "duration": 0.027474,
     "end_time": "2021-05-24T22:54:17.674687",
     "exception": false,
     "start_time": "2021-05-24T22:54:17.647213",
     "status": "completed"
    },
    "tags": []
   },
   "outputs": [
    {
     "name": "stdout",
     "output_type": "stream",
     "text": [
      "/opt\n"
     ]
    }
   ],
   "source": [
    "%cd /opt"
   ]
  },
  {
   "cell_type": "code",
   "execution_count": 2,
   "id": "convertible-valley",
   "metadata": {
    "_cell_guid": "b1076dfc-b9ad-4769-8c92-a6c4dae69d19",
    "_uuid": "8f2839f25d086af736a60e9eeb907d3b93b6e0e5",
    "execution": {
     "iopub.execute_input": "2021-05-24T22:54:17.714812Z",
     "iopub.status.busy": "2021-05-24T22:54:17.702984Z",
     "iopub.status.idle": "2021-05-24T22:54:55.542360Z",
     "shell.execute_reply": "2021-05-24T22:54:55.542862Z"
    },
    "papermill": {
     "duration": 37.856963,
     "end_time": "2021-05-24T22:54:55.543065",
     "exception": false,
     "start_time": "2021-05-24T22:54:17.686102",
     "status": "completed"
    },
    "tags": []
   },
   "outputs": [],
   "source": [
    "%%capture\n",
    "!tar xvf /kaggle/input/extract-prebuilt-kaldi-from-docker/kaldi.tar"
   ]
  },
  {
   "cell_type": "code",
   "execution_count": 3,
   "id": "refined-player",
   "metadata": {
    "execution": {
     "iopub.execute_input": "2021-05-24T22:54:55.568355Z",
     "iopub.status.busy": "2021-05-24T22:54:55.567695Z",
     "iopub.status.idle": "2021-05-24T22:54:55.574301Z",
     "shell.execute_reply": "2021-05-24T22:54:55.573677Z"
    },
    "papermill": {
     "duration": 0.020384,
     "end_time": "2021-05-24T22:54:55.574437",
     "exception": false,
     "start_time": "2021-05-24T22:54:55.554053",
     "status": "completed"
    },
    "tags": []
   },
   "outputs": [
    {
     "name": "stdout",
     "output_type": "stream",
     "text": [
      "/opt/kaldi/egs\n"
     ]
    }
   ],
   "source": [
    "%cd kaldi/egs"
   ]
  },
  {
   "cell_type": "code",
   "execution_count": 4,
   "id": "alpha-dance",
   "metadata": {
    "execution": {
     "iopub.execute_input": "2021-05-24T22:54:55.605386Z",
     "iopub.status.busy": "2021-05-24T22:54:55.604690Z",
     "iopub.status.idle": "2021-05-24T22:54:59.645289Z",
     "shell.execute_reply": "2021-05-24T22:54:59.644750Z"
    },
    "papermill": {
     "duration": 4.059532,
     "end_time": "2021-05-24T22:54:59.645435",
     "exception": false,
     "start_time": "2021-05-24T22:54:55.585903",
     "status": "completed"
    },
    "tags": []
   },
   "outputs": [
    {
     "name": "stdout",
     "output_type": "stream",
     "text": [
      "Cloning into 'ClarinStudioKaldi'...\r\n"
     ]
    },
    {
     "name": "stdout",
     "output_type": "stream",
     "text": [
      "remote: Enumerating objects: 778, done.\u001b[K\r\n",
      "remote: Counting objects:  33% (1/3)\u001b[K\r",
      "remote: Counting objects:  66% (2/3)\u001b[K\r",
      "remote: Counting objects: 100% (3/3)\u001b[K\r",
      "remote: Counting objects: 100% (3/3), done.\u001b[K\r\n",
      "remote: Compressing objects:  33% (1/3)\u001b[K\r",
      "remote: Compressing objects:  66% (2/3)\u001b[K\r",
      "remote: Compressing objects: 100% (3/3)\u001b[K\r",
      "remote: Compressing objects: 100% (3/3), done.\u001b[K\r\n"
     ]
    },
    {
     "name": "stdout",
     "output_type": "stream",
     "text": [
      "Receiving objects:   0% (1/778)   \r",
      "Receiving objects:   1% (8/778)   \r",
      "Receiving objects:   2% (16/778)   \r",
      "Receiving objects:   3% (24/778)   \r",
      "Receiving objects:   4% (32/778)   \r",
      "Receiving objects:   5% (39/778)   \r",
      "Receiving objects:   6% (47/778)   \r",
      "Receiving objects:   7% (55/778)   \r"
     ]
    },
    {
     "name": "stdout",
     "output_type": "stream",
     "text": [
      "Receiving objects:   8% (63/778)   \r"
     ]
    },
    {
     "name": "stdout",
     "output_type": "stream",
     "text": [
      "Receiving objects:   9% (71/778), 7.05 MiB | 14.08 MiB/s   \r",
      "Receiving objects:  10% (78/778), 7.05 MiB | 14.08 MiB/s   \r",
      "Receiving objects:  11% (86/778), 7.05 MiB | 14.08 MiB/s   \r"
     ]
    },
    {
     "name": "stdout",
     "output_type": "stream",
     "text": [
      "Receiving objects:  11% (91/778), 26.33 MiB | 26.32 MiB/s   \r"
     ]
    },
    {
     "name": "stdout",
     "output_type": "stream",
     "text": [
      "Receiving objects:  12% (94/778), 26.33 MiB | 26.32 MiB/s   \r",
      "Receiving objects:  13% (102/778), 26.33 MiB | 26.32 MiB/s   \r",
      "Receiving objects:  14% (109/778), 26.33 MiB | 26.32 MiB/s   \r",
      "Receiving objects:  15% (117/778), 26.33 MiB | 26.32 MiB/s   \r",
      "Receiving objects:  16% (125/778), 26.33 MiB | 26.32 MiB/s   \r",
      "Receiving objects:  17% (133/778), 26.33 MiB | 26.32 MiB/s   \r",
      "Receiving objects:  18% (141/778), 26.33 MiB | 26.32 MiB/s   \r",
      "Receiving objects:  19% (148/778), 26.33 MiB | 26.32 MiB/s   \r",
      "Receiving objects:  20% (156/778), 26.33 MiB | 26.32 MiB/s   \r",
      "Receiving objects:  21% (164/778), 26.33 MiB | 26.32 MiB/s   \r",
      "Receiving objects:  22% (172/778), 26.33 MiB | 26.32 MiB/s   \r",
      "Receiving objects:  23% (179/778), 26.33 MiB | 26.32 MiB/s   \r",
      "Receiving objects:  24% (187/778), 26.33 MiB | 26.32 MiB/s   \r",
      "Receiving objects:  25% (195/778), 26.33 MiB | 26.32 MiB/s   \r",
      "Receiving objects:  26% (203/778), 26.33 MiB | 26.32 MiB/s   \r",
      "Receiving objects:  27% (211/778), 26.33 MiB | 26.32 MiB/s   \r",
      "Receiving objects:  28% (218/778), 26.33 MiB | 26.32 MiB/s   \r",
      "Receiving objects:  29% (226/778), 26.33 MiB | 26.32 MiB/s   \r",
      "Receiving objects:  30% (234/778), 26.33 MiB | 26.32 MiB/s   \r",
      "Receiving objects:  31% (242/778), 26.33 MiB | 26.32 MiB/s   \r",
      "Receiving objects:  32% (249/778), 26.33 MiB | 26.32 MiB/s   \r",
      "Receiving objects:  33% (257/778), 26.33 MiB | 26.32 MiB/s   \r",
      "Receiving objects:  34% (265/778), 26.33 MiB | 26.32 MiB/s   \r",
      "Receiving objects:  35% (273/778), 26.33 MiB | 26.32 MiB/s   \r",
      "Receiving objects:  36% (281/778), 26.33 MiB | 26.32 MiB/s   \r",
      "Receiving objects:  37% (288/778), 26.33 MiB | 26.32 MiB/s   \r",
      "Receiving objects:  38% (296/778), 26.33 MiB | 26.32 MiB/s   \r",
      "Receiving objects:  39% (304/778), 26.33 MiB | 26.32 MiB/s   \r",
      "Receiving objects:  40% (312/778), 26.33 MiB | 26.32 MiB/s   \r",
      "Receiving objects:  41% (319/778), 26.33 MiB | 26.32 MiB/s   \r",
      "Receiving objects:  42% (327/778), 26.33 MiB | 26.32 MiB/s   \r",
      "Receiving objects:  43% (335/778), 26.33 MiB | 26.32 MiB/s   \r",
      "Receiving objects:  44% (343/778), 26.33 MiB | 26.32 MiB/s   \r",
      "Receiving objects:  45% (351/778), 26.33 MiB | 26.32 MiB/s   \r",
      "Receiving objects:  46% (358/778), 26.33 MiB | 26.32 MiB/s   \r",
      "Receiving objects:  47% (366/778), 26.33 MiB | 26.32 MiB/s   \r",
      "Receiving objects:  48% (374/778), 26.33 MiB | 26.32 MiB/s   \r"
     ]
    },
    {
     "name": "stdout",
     "output_type": "stream",
     "text": [
      "Receiving objects:  49% (382/778), 26.33 MiB | 26.32 MiB/s   \r",
      "Receiving objects:  50% (389/778), 26.33 MiB | 26.32 MiB/s   \r",
      "Receiving objects:  51% (397/778), 26.33 MiB | 26.32 MiB/s   \r",
      "Receiving objects:  52% (405/778), 26.33 MiB | 26.32 MiB/s   \r",
      "Receiving objects:  53% (413/778), 26.33 MiB | 26.32 MiB/s   \r",
      "Receiving objects:  54% (421/778), 26.33 MiB | 26.32 MiB/s   \r",
      "Receiving objects:  55% (428/778), 26.33 MiB | 26.32 MiB/s   \r",
      "Receiving objects:  56% (436/778), 26.33 MiB | 26.32 MiB/s   \r",
      "Receiving objects:  57% (444/778), 26.33 MiB | 26.32 MiB/s   \r",
      "Receiving objects:  58% (452/778), 26.33 MiB | 26.32 MiB/s   \r",
      "Receiving objects:  59% (460/778), 26.33 MiB | 26.32 MiB/s   \r",
      "Receiving objects:  60% (467/778), 26.33 MiB | 26.32 MiB/s   \r",
      "Receiving objects:  61% (475/778), 26.33 MiB | 26.32 MiB/s   \r",
      "Receiving objects:  62% (483/778), 26.33 MiB | 26.32 MiB/s   \r",
      "Receiving objects:  63% (491/778), 26.33 MiB | 26.32 MiB/s   \r",
      "Receiving objects:  64% (498/778), 26.33 MiB | 26.32 MiB/s   \r",
      "Receiving objects:  65% (506/778), 26.33 MiB | 26.32 MiB/s   \r",
      "Receiving objects:  66% (514/778), 26.33 MiB | 26.32 MiB/s   \r",
      "Receiving objects:  67% (522/778), 26.33 MiB | 26.32 MiB/s   \r",
      "Receiving objects:  68% (530/778), 26.33 MiB | 26.32 MiB/s   \r",
      "Receiving objects:  69% (537/778), 26.33 MiB | 26.32 MiB/s   \r",
      "Receiving objects:  70% (545/778), 26.33 MiB | 26.32 MiB/s   \r",
      "Receiving objects:  71% (553/778), 26.33 MiB | 26.32 MiB/s   \r",
      "Receiving objects:  72% (561/778), 26.33 MiB | 26.32 MiB/s   \r",
      "Receiving objects:  73% (568/778), 26.33 MiB | 26.32 MiB/s   \r",
      "Receiving objects:  74% (576/778), 26.33 MiB | 26.32 MiB/s   \r",
      "Receiving objects:  75% (584/778), 26.33 MiB | 26.32 MiB/s   \r",
      "Receiving objects:  76% (592/778), 26.33 MiB | 26.32 MiB/s   \r",
      "Receiving objects:  77% (600/778), 26.33 MiB | 26.32 MiB/s   \r",
      "Receiving objects:  78% (607/778), 26.33 MiB | 26.32 MiB/s   \r",
      "Receiving objects:  79% (615/778), 26.33 MiB | 26.32 MiB/s   \r",
      "Receiving objects:  80% (623/778), 26.33 MiB | 26.32 MiB/s   \r",
      "Receiving objects:  81% (631/778), 26.33 MiB | 26.32 MiB/s   \r",
      "Receiving objects:  82% (638/778), 26.33 MiB | 26.32 MiB/s   \r",
      "Receiving objects:  83% (646/778), 26.33 MiB | 26.32 MiB/s   \r",
      "Receiving objects:  84% (654/778), 26.33 MiB | 26.32 MiB/s   \r"
     ]
    },
    {
     "name": "stdout",
     "output_type": "stream",
     "text": [
      "Receiving objects:  85% (662/778), 26.33 MiB | 26.32 MiB/s   \r",
      "Receiving objects:  86% (670/778), 26.33 MiB | 26.32 MiB/s   \r",
      "Receiving objects:  87% (677/778), 26.33 MiB | 26.32 MiB/s   \r",
      "Receiving objects:  88% (685/778), 26.33 MiB | 26.32 MiB/s   \r"
     ]
    },
    {
     "name": "stdout",
     "output_type": "stream",
     "text": [
      "remote: Total 778 (delta 0), reused 0 (delta 0), pack-reused 775\u001b[K\r\n",
      "Receiving objects:  89% (693/778), 26.33 MiB | 26.32 MiB/s   \r",
      "Receiving objects:  90% (701/778), 26.33 MiB | 26.32 MiB/s   \r",
      "Receiving objects:  91% (708/778), 26.33 MiB | 26.32 MiB/s   \r",
      "Receiving objects:  92% (716/778), 26.33 MiB | 26.32 MiB/s   \r",
      "Receiving objects:  93% (724/778), 26.33 MiB | 26.32 MiB/s   \r",
      "Receiving objects:  94% (732/778), 26.33 MiB | 26.32 MiB/s   \r",
      "Receiving objects:  95% (740/778), 26.33 MiB | 26.32 MiB/s   \r",
      "Receiving objects:  96% (747/778), 26.33 MiB | 26.32 MiB/s   \r",
      "Receiving objects:  97% (755/778), 26.33 MiB | 26.32 MiB/s   \r",
      "Receiving objects:  98% (763/778), 26.33 MiB | 26.32 MiB/s   \r",
      "Receiving objects:  99% (771/778), 26.33 MiB | 26.32 MiB/s   \r",
      "Receiving objects: 100% (778/778), 26.33 MiB | 26.32 MiB/s   \r",
      "Receiving objects: 100% (778/778), 35.26 MiB | 27.25 MiB/s, done.\r\n",
      "Resolving deltas:   0% (0/262)   \r",
      "Resolving deltas:   1% (3/262)   \r",
      "Resolving deltas:   2% (6/262)   \r",
      "Resolving deltas:   4% (13/262)   \r",
      "Resolving deltas:   7% (20/262)   \r",
      "Resolving deltas:   8% (22/262)   \r",
      "Resolving deltas:   9% (26/262)   \r",
      "Resolving deltas:  11% (29/262)   \r",
      "Resolving deltas:  12% (32/262)   \r",
      "Resolving deltas:  14% (38/262)   \r",
      "Resolving deltas:  21% (56/262)   \r",
      "Resolving deltas:  23% (62/262)   \r",
      "Resolving deltas:  29% (78/262)   \r",
      "Resolving deltas:  42% (112/262)   \r",
      "Resolving deltas:  44% (116/262)   \r",
      "Resolving deltas:  45% (118/262)   \r",
      "Resolving deltas:  46% (121/262)   \r",
      "Resolving deltas:  47% (124/262)   \r",
      "Resolving deltas:  48% (128/262)   \r",
      "Resolving deltas:  49% (130/262)   \r",
      "Resolving deltas:  50% (133/262)   \r",
      "Resolving deltas:  51% (136/262)   \r",
      "Resolving deltas:  52% (137/262)   \r",
      "Resolving deltas:  53% (140/262)   \r",
      "Resolving deltas:  54% (143/262)   \r",
      "Resolving deltas:  55% (145/262)   \r",
      "Resolving deltas:  56% (147/262)   \r",
      "Resolving deltas:  57% (150/262)   \r",
      "Resolving deltas:  58% (153/262)   \r",
      "Resolving deltas:  59% (155/262)   \r",
      "Resolving deltas:  60% (158/262)   \r",
      "Resolving deltas:  61% (160/262)   \r",
      "Resolving deltas:  62% (163/262)   \r",
      "Resolving deltas:  63% (166/262)   \r",
      "Resolving deltas:  64% (170/262)   \r",
      "Resolving deltas:  65% (171/262)   \r",
      "Resolving deltas:  66% (173/262)   \r",
      "Resolving deltas:  67% (176/262)   \r",
      "Resolving deltas:  68% (179/262)   \r",
      "Resolving deltas:  69% (182/262)   \r",
      "Resolving deltas:  70% (184/262)   \r",
      "Resolving deltas:  72% (190/262)   \r",
      "Resolving deltas:  73% (192/262)   \r",
      "Resolving deltas:  74% (194/262)   \r",
      "Resolving deltas:  75% (198/262)   \r",
      "Resolving deltas:  76% (200/262)   \r",
      "Resolving deltas:  77% (203/262)   \r",
      "Resolving deltas:  78% (206/262)   \r",
      "Resolving deltas:  79% (207/262)   \r",
      "Resolving deltas:  80% (210/262)   \r",
      "Resolving deltas:  81% (213/262)   \r",
      "Resolving deltas:  82% (215/262)   \r",
      "Resolving deltas:  83% (218/262)   \r",
      "Resolving deltas:  84% (221/262)   \r",
      "Resolving deltas:  85% (223/262)   \r",
      "Resolving deltas:  86% (226/262)   \r",
      "Resolving deltas:  87% (228/262)   \r",
      "Resolving deltas:  88% (231/262)   \r",
      "Resolving deltas:  89% (234/262)   \r",
      "Resolving deltas:  91% (240/262)   \r",
      "Resolving deltas:  93% (244/262)   \r",
      "Resolving deltas:  94% (247/262)   \r",
      "Resolving deltas:  95% (250/262)   \r",
      "Resolving deltas:  97% (256/262)   \r"
     ]
    },
    {
     "name": "stdout",
     "output_type": "stream",
     "text": [
      "Resolving deltas:  98% (257/262)   \r"
     ]
    },
    {
     "name": "stdout",
     "output_type": "stream",
     "text": [
      "Resolving deltas: 100% (262/262)   \r",
      "Resolving deltas: 100% (262/262), done.\r\n"
     ]
    }
   ],
   "source": [
    "!git clone https://github.com/danijel3/ClarinStudioKaldi"
   ]
  },
  {
   "cell_type": "code",
   "execution_count": 5,
   "id": "promotional-flesh",
   "metadata": {
    "execution": {
     "iopub.execute_input": "2021-05-24T22:54:59.682664Z",
     "iopub.status.busy": "2021-05-24T22:54:59.681796Z",
     "iopub.status.idle": "2021-05-24T22:54:59.685668Z",
     "shell.execute_reply": "2021-05-24T22:54:59.686121Z"
    },
    "papermill": {
     "duration": 0.02541,
     "end_time": "2021-05-24T22:54:59.686338",
     "exception": false,
     "start_time": "2021-05-24T22:54:59.660928",
     "status": "completed"
    },
    "tags": []
   },
   "outputs": [
    {
     "name": "stdout",
     "output_type": "stream",
     "text": [
      "/opt/kaldi/egs/ClarinStudioKaldi\n"
     ]
    }
   ],
   "source": [
    "%cd ClarinStudioKaldi"
   ]
  },
  {
   "cell_type": "code",
   "execution_count": 6,
   "id": "characteristic-denial",
   "metadata": {
    "execution": {
     "iopub.execute_input": "2021-05-24T22:54:59.726469Z",
     "iopub.status.busy": "2021-05-24T22:54:59.725805Z",
     "iopub.status.idle": "2021-05-24T22:57:38.722737Z",
     "shell.execute_reply": "2021-05-24T22:57:38.722111Z"
    },
    "papermill": {
     "duration": 159.020574,
     "end_time": "2021-05-24T22:57:38.722909",
     "exception": false,
     "start_time": "2021-05-24T22:54:59.702335",
     "status": "completed"
    },
    "tags": []
   },
   "outputs": [
    {
     "name": "stdout",
     "output_type": "stream",
     "text": [
      "Collecting package metadata (current_repodata.json): - "
     ]
    },
    {
     "name": "stdout",
     "output_type": "stream",
     "text": [
      "\b\b\\ "
     ]
    },
    {
     "name": "stdout",
     "output_type": "stream",
     "text": [
      "\b\b| "
     ]
    },
    {
     "name": "stdout",
     "output_type": "stream",
     "text": [
      "\b\b/ "
     ]
    },
    {
     "name": "stdout",
     "output_type": "stream",
     "text": [
      "\b\b- "
     ]
    },
    {
     "name": "stdout",
     "output_type": "stream",
     "text": [
      "\b\b\\ "
     ]
    },
    {
     "name": "stdout",
     "output_type": "stream",
     "text": [
      "\b\b| "
     ]
    },
    {
     "name": "stdout",
     "output_type": "stream",
     "text": [
      "\b\b/ "
     ]
    },
    {
     "name": "stdout",
     "output_type": "stream",
     "text": [
      "\b\b- "
     ]
    },
    {
     "name": "stdout",
     "output_type": "stream",
     "text": [
      "\b\b\\ "
     ]
    },
    {
     "name": "stdout",
     "output_type": "stream",
     "text": [
      "\b\b| "
     ]
    },
    {
     "name": "stdout",
     "output_type": "stream",
     "text": [
      "\b\b/ "
     ]
    },
    {
     "name": "stdout",
     "output_type": "stream",
     "text": [
      "\b\b- "
     ]
    },
    {
     "name": "stdout",
     "output_type": "stream",
     "text": [
      "\b\b\\ "
     ]
    },
    {
     "name": "stdout",
     "output_type": "stream",
     "text": [
      "\b\b| "
     ]
    },
    {
     "name": "stdout",
     "output_type": "stream",
     "text": [
      "\b\b/ "
     ]
    },
    {
     "name": "stdout",
     "output_type": "stream",
     "text": [
      "\b\b- "
     ]
    },
    {
     "name": "stdout",
     "output_type": "stream",
     "text": [
      "\b\b\\ "
     ]
    },
    {
     "name": "stdout",
     "output_type": "stream",
     "text": [
      "\b\b| "
     ]
    },
    {
     "name": "stdout",
     "output_type": "stream",
     "text": [
      "\b\b/ "
     ]
    },
    {
     "name": "stdout",
     "output_type": "stream",
     "text": [
      "\b\b- "
     ]
    },
    {
     "name": "stdout",
     "output_type": "stream",
     "text": [
      "\b\b\\ "
     ]
    },
    {
     "name": "stdout",
     "output_type": "stream",
     "text": [
      "\b\b| "
     ]
    },
    {
     "name": "stdout",
     "output_type": "stream",
     "text": [
      "\b\b/ "
     ]
    },
    {
     "name": "stdout",
     "output_type": "stream",
     "text": [
      "\b\b- "
     ]
    },
    {
     "name": "stdout",
     "output_type": "stream",
     "text": [
      "\b\b\\ "
     ]
    },
    {
     "name": "stdout",
     "output_type": "stream",
     "text": [
      "\b\b| "
     ]
    },
    {
     "name": "stdout",
     "output_type": "stream",
     "text": [
      "\b\b/ "
     ]
    },
    {
     "name": "stdout",
     "output_type": "stream",
     "text": [
      "\b\b- "
     ]
    },
    {
     "name": "stdout",
     "output_type": "stream",
     "text": [
      "\b\b\\ "
     ]
    },
    {
     "name": "stdout",
     "output_type": "stream",
     "text": [
      "\b\b| "
     ]
    },
    {
     "name": "stdout",
     "output_type": "stream",
     "text": [
      "\b\b/ "
     ]
    },
    {
     "name": "stdout",
     "output_type": "stream",
     "text": [
      "\b\b- "
     ]
    },
    {
     "name": "stdout",
     "output_type": "stream",
     "text": [
      "\b\b\\ "
     ]
    },
    {
     "name": "stdout",
     "output_type": "stream",
     "text": [
      "\b\b| "
     ]
    },
    {
     "name": "stdout",
     "output_type": "stream",
     "text": [
      "\b\b/ "
     ]
    },
    {
     "name": "stdout",
     "output_type": "stream",
     "text": [
      "\b\b- "
     ]
    },
    {
     "name": "stdout",
     "output_type": "stream",
     "text": [
      "\b\b\\ "
     ]
    },
    {
     "name": "stdout",
     "output_type": "stream",
     "text": [
      "\b\b| "
     ]
    },
    {
     "name": "stdout",
     "output_type": "stream",
     "text": [
      "\b\b/ "
     ]
    },
    {
     "name": "stdout",
     "output_type": "stream",
     "text": [
      "\b\b- "
     ]
    },
    {
     "name": "stdout",
     "output_type": "stream",
     "text": [
      "\b\b\\ "
     ]
    },
    {
     "name": "stdout",
     "output_type": "stream",
     "text": [
      "\b\b| "
     ]
    },
    {
     "name": "stdout",
     "output_type": "stream",
     "text": [
      "\b\b/ "
     ]
    },
    {
     "name": "stdout",
     "output_type": "stream",
     "text": [
      "\b\b- "
     ]
    },
    {
     "name": "stdout",
     "output_type": "stream",
     "text": [
      "\b\b\\ "
     ]
    },
    {
     "name": "stdout",
     "output_type": "stream",
     "text": [
      "\b\b| "
     ]
    },
    {
     "name": "stdout",
     "output_type": "stream",
     "text": [
      "\b\b/ "
     ]
    },
    {
     "name": "stdout",
     "output_type": "stream",
     "text": [
      "\b\b- "
     ]
    },
    {
     "name": "stdout",
     "output_type": "stream",
     "text": [
      "\b\b\\ "
     ]
    },
    {
     "name": "stdout",
     "output_type": "stream",
     "text": [
      "\b\b| "
     ]
    },
    {
     "name": "stdout",
     "output_type": "stream",
     "text": [
      "\b\b/ "
     ]
    },
    {
     "name": "stdout",
     "output_type": "stream",
     "text": [
      "\b\b- "
     ]
    },
    {
     "name": "stdout",
     "output_type": "stream",
     "text": [
      "\b\b\\ "
     ]
    },
    {
     "name": "stdout",
     "output_type": "stream",
     "text": [
      "\b\b| "
     ]
    },
    {
     "name": "stdout",
     "output_type": "stream",
     "text": [
      "\b\b/ "
     ]
    },
    {
     "name": "stdout",
     "output_type": "stream",
     "text": [
      "\b\b- "
     ]
    },
    {
     "name": "stdout",
     "output_type": "stream",
     "text": [
      "\b\b\\ "
     ]
    },
    {
     "name": "stdout",
     "output_type": "stream",
     "text": [
      "\b\b| "
     ]
    },
    {
     "name": "stdout",
     "output_type": "stream",
     "text": [
      "\b\b/ "
     ]
    },
    {
     "name": "stdout",
     "output_type": "stream",
     "text": [
      "\b\b- "
     ]
    },
    {
     "name": "stdout",
     "output_type": "stream",
     "text": [
      "\b\b\\ "
     ]
    },
    {
     "name": "stdout",
     "output_type": "stream",
     "text": [
      "\b\b| "
     ]
    },
    {
     "name": "stdout",
     "output_type": "stream",
     "text": [
      "\b\b/ "
     ]
    },
    {
     "name": "stdout",
     "output_type": "stream",
     "text": [
      "\b\b- "
     ]
    },
    {
     "name": "stdout",
     "output_type": "stream",
     "text": [
      "\b\b\\ "
     ]
    },
    {
     "name": "stdout",
     "output_type": "stream",
     "text": [
      "\b\b| "
     ]
    },
    {
     "name": "stdout",
     "output_type": "stream",
     "text": [
      "\b\b/ "
     ]
    },
    {
     "name": "stdout",
     "output_type": "stream",
     "text": [
      "\b\b- "
     ]
    },
    {
     "name": "stdout",
     "output_type": "stream",
     "text": [
      "\b\b\\ "
     ]
    },
    {
     "name": "stdout",
     "output_type": "stream",
     "text": [
      "\b\b| "
     ]
    },
    {
     "name": "stdout",
     "output_type": "stream",
     "text": [
      "\b\b/ "
     ]
    },
    {
     "name": "stdout",
     "output_type": "stream",
     "text": [
      "\b\b- "
     ]
    },
    {
     "name": "stdout",
     "output_type": "stream",
     "text": [
      "\b\b\\ "
     ]
    },
    {
     "name": "stdout",
     "output_type": "stream",
     "text": [
      "\b\b| "
     ]
    },
    {
     "name": "stdout",
     "output_type": "stream",
     "text": [
      "\b\b/ "
     ]
    },
    {
     "name": "stdout",
     "output_type": "stream",
     "text": [
      "\b\b- "
     ]
    },
    {
     "name": "stdout",
     "output_type": "stream",
     "text": [
      "\b\b\\ "
     ]
    },
    {
     "name": "stdout",
     "output_type": "stream",
     "text": [
      "\b\b| "
     ]
    },
    {
     "name": "stdout",
     "output_type": "stream",
     "text": [
      "\b\b/ "
     ]
    },
    {
     "name": "stdout",
     "output_type": "stream",
     "text": [
      "\b\b- "
     ]
    },
    {
     "name": "stdout",
     "output_type": "stream",
     "text": [
      "\b\b\\ "
     ]
    },
    {
     "name": "stdout",
     "output_type": "stream",
     "text": [
      "\b\b| "
     ]
    },
    {
     "name": "stdout",
     "output_type": "stream",
     "text": [
      "\b\b/ "
     ]
    },
    {
     "name": "stdout",
     "output_type": "stream",
     "text": [
      "\b\b- "
     ]
    },
    {
     "name": "stdout",
     "output_type": "stream",
     "text": [
      "\b\b\\ "
     ]
    },
    {
     "name": "stdout",
     "output_type": "stream",
     "text": [
      "\b\b| "
     ]
    },
    {
     "name": "stdout",
     "output_type": "stream",
     "text": [
      "\b\b/ "
     ]
    },
    {
     "name": "stdout",
     "output_type": "stream",
     "text": [
      "\b\b- "
     ]
    },
    {
     "name": "stdout",
     "output_type": "stream",
     "text": [
      "\b\b\\ "
     ]
    },
    {
     "name": "stdout",
     "output_type": "stream",
     "text": [
      "\b\b| "
     ]
    },
    {
     "name": "stdout",
     "output_type": "stream",
     "text": [
      "\b\b/ "
     ]
    },
    {
     "name": "stdout",
     "output_type": "stream",
     "text": [
      "\b\b- "
     ]
    },
    {
     "name": "stdout",
     "output_type": "stream",
     "text": [
      "\b\b\\ "
     ]
    },
    {
     "name": "stdout",
     "output_type": "stream",
     "text": [
      "\b\b| "
     ]
    },
    {
     "name": "stdout",
     "output_type": "stream",
     "text": [
      "\b\b/ "
     ]
    },
    {
     "name": "stdout",
     "output_type": "stream",
     "text": [
      "\b\b- "
     ]
    },
    {
     "name": "stdout",
     "output_type": "stream",
     "text": [
      "\b\b\\ "
     ]
    },
    {
     "name": "stdout",
     "output_type": "stream",
     "text": [
      "\b\b| "
     ]
    },
    {
     "name": "stdout",
     "output_type": "stream",
     "text": [
      "\b\b/ "
     ]
    },
    {
     "name": "stdout",
     "output_type": "stream",
     "text": [
      "\b\b- "
     ]
    },
    {
     "name": "stdout",
     "output_type": "stream",
     "text": [
      "\b\b\\ "
     ]
    },
    {
     "name": "stdout",
     "output_type": "stream",
     "text": [
      "\b\b| "
     ]
    },
    {
     "name": "stdout",
     "output_type": "stream",
     "text": [
      "\b\b/ "
     ]
    },
    {
     "name": "stdout",
     "output_type": "stream",
     "text": [
      "\b\b- "
     ]
    },
    {
     "name": "stdout",
     "output_type": "stream",
     "text": [
      "\b\b\\ "
     ]
    },
    {
     "name": "stdout",
     "output_type": "stream",
     "text": [
      "\b\b| "
     ]
    },
    {
     "name": "stdout",
     "output_type": "stream",
     "text": [
      "\b\b/ "
     ]
    },
    {
     "name": "stdout",
     "output_type": "stream",
     "text": [
      "\b\b- "
     ]
    },
    {
     "name": "stdout",
     "output_type": "stream",
     "text": [
      "\b\b\\ "
     ]
    },
    {
     "name": "stdout",
     "output_type": "stream",
     "text": [
      "\b\b| "
     ]
    },
    {
     "name": "stdout",
     "output_type": "stream",
     "text": [
      "\b\b/ "
     ]
    },
    {
     "name": "stdout",
     "output_type": "stream",
     "text": [
      "\b\b- "
     ]
    },
    {
     "name": "stdout",
     "output_type": "stream",
     "text": [
      "\b\b\\ "
     ]
    },
    {
     "name": "stdout",
     "output_type": "stream",
     "text": [
      "\b\b| "
     ]
    },
    {
     "name": "stdout",
     "output_type": "stream",
     "text": [
      "\b\b/ "
     ]
    },
    {
     "name": "stdout",
     "output_type": "stream",
     "text": [
      "\b\b- "
     ]
    },
    {
     "name": "stdout",
     "output_type": "stream",
     "text": [
      "\b\b\\ "
     ]
    },
    {
     "name": "stdout",
     "output_type": "stream",
     "text": [
      "\b\b| "
     ]
    },
    {
     "name": "stdout",
     "output_type": "stream",
     "text": [
      "\b\b/ "
     ]
    },
    {
     "name": "stdout",
     "output_type": "stream",
     "text": [
      "\b\b- "
     ]
    },
    {
     "name": "stdout",
     "output_type": "stream",
     "text": [
      "\b\b\\ "
     ]
    },
    {
     "name": "stdout",
     "output_type": "stream",
     "text": [
      "\b\b| "
     ]
    },
    {
     "name": "stdout",
     "output_type": "stream",
     "text": [
      "\b\b/ "
     ]
    },
    {
     "name": "stdout",
     "output_type": "stream",
     "text": [
      "\b\b- "
     ]
    },
    {
     "name": "stdout",
     "output_type": "stream",
     "text": [
      "\b\b\\ "
     ]
    },
    {
     "name": "stdout",
     "output_type": "stream",
     "text": [
      "\b\b| "
     ]
    },
    {
     "name": "stdout",
     "output_type": "stream",
     "text": [
      "\b\b/ "
     ]
    },
    {
     "name": "stdout",
     "output_type": "stream",
     "text": [
      "\b\b- "
     ]
    },
    {
     "name": "stdout",
     "output_type": "stream",
     "text": [
      "\b\b\\ "
     ]
    },
    {
     "name": "stdout",
     "output_type": "stream",
     "text": [
      "\b\b| "
     ]
    },
    {
     "name": "stdout",
     "output_type": "stream",
     "text": [
      "\b\b/ "
     ]
    },
    {
     "name": "stdout",
     "output_type": "stream",
     "text": [
      "\b\b- "
     ]
    },
    {
     "name": "stdout",
     "output_type": "stream",
     "text": [
      "\b\b\\ "
     ]
    },
    {
     "name": "stdout",
     "output_type": "stream",
     "text": [
      "\b\b| "
     ]
    },
    {
     "name": "stdout",
     "output_type": "stream",
     "text": [
      "\b\b/ "
     ]
    },
    {
     "name": "stdout",
     "output_type": "stream",
     "text": [
      "\b\b- "
     ]
    },
    {
     "name": "stdout",
     "output_type": "stream",
     "text": [
      "\b\b\\ "
     ]
    },
    {
     "name": "stdout",
     "output_type": "stream",
     "text": [
      "\b\b| "
     ]
    },
    {
     "name": "stdout",
     "output_type": "stream",
     "text": [
      "\b\b/ "
     ]
    },
    {
     "name": "stdout",
     "output_type": "stream",
     "text": [
      "\b\b- "
     ]
    },
    {
     "name": "stdout",
     "output_type": "stream",
     "text": [
      "\b\b\\ "
     ]
    },
    {
     "name": "stdout",
     "output_type": "stream",
     "text": [
      "\b\b| "
     ]
    },
    {
     "name": "stdout",
     "output_type": "stream",
     "text": [
      "\b\b/ "
     ]
    },
    {
     "name": "stdout",
     "output_type": "stream",
     "text": [
      "\b\b- "
     ]
    },
    {
     "name": "stdout",
     "output_type": "stream",
     "text": [
      "\b\b\\ "
     ]
    },
    {
     "name": "stdout",
     "output_type": "stream",
     "text": [
      "\b\b| "
     ]
    },
    {
     "name": "stdout",
     "output_type": "stream",
     "text": [
      "\b\b/ "
     ]
    },
    {
     "name": "stdout",
     "output_type": "stream",
     "text": [
      "\b\b- "
     ]
    },
    {
     "name": "stdout",
     "output_type": "stream",
     "text": [
      "\b\b\\ "
     ]
    },
    {
     "name": "stdout",
     "output_type": "stream",
     "text": [
      "\b\b| "
     ]
    },
    {
     "name": "stdout",
     "output_type": "stream",
     "text": [
      "\b\b/ "
     ]
    },
    {
     "name": "stdout",
     "output_type": "stream",
     "text": [
      "\b\b- "
     ]
    },
    {
     "name": "stdout",
     "output_type": "stream",
     "text": [
      "\b\b\\ "
     ]
    },
    {
     "name": "stdout",
     "output_type": "stream",
     "text": [
      "\b\b| "
     ]
    },
    {
     "name": "stdout",
     "output_type": "stream",
     "text": [
      "\b\b/ "
     ]
    },
    {
     "name": "stdout",
     "output_type": "stream",
     "text": [
      "\b\b- "
     ]
    },
    {
     "name": "stdout",
     "output_type": "stream",
     "text": [
      "\b\b\\ "
     ]
    },
    {
     "name": "stdout",
     "output_type": "stream",
     "text": [
      "\b\b| "
     ]
    },
    {
     "name": "stdout",
     "output_type": "stream",
     "text": [
      "\b\b/ "
     ]
    },
    {
     "name": "stdout",
     "output_type": "stream",
     "text": [
      "\b\b- "
     ]
    },
    {
     "name": "stdout",
     "output_type": "stream",
     "text": [
      "\b\b\\ "
     ]
    },
    {
     "name": "stdout",
     "output_type": "stream",
     "text": [
      "\b\b| "
     ]
    },
    {
     "name": "stdout",
     "output_type": "stream",
     "text": [
      "\b\b/ "
     ]
    },
    {
     "name": "stdout",
     "output_type": "stream",
     "text": [
      "\b\b- "
     ]
    },
    {
     "name": "stdout",
     "output_type": "stream",
     "text": [
      "\b\b\\ "
     ]
    },
    {
     "name": "stdout",
     "output_type": "stream",
     "text": [
      "\b\b| "
     ]
    },
    {
     "name": "stdout",
     "output_type": "stream",
     "text": [
      "\b\b/ "
     ]
    },
    {
     "name": "stdout",
     "output_type": "stream",
     "text": [
      "\b\b- "
     ]
    },
    {
     "name": "stdout",
     "output_type": "stream",
     "text": [
      "\b\b\\ "
     ]
    },
    {
     "name": "stdout",
     "output_type": "stream",
     "text": [
      "\b\b| "
     ]
    },
    {
     "name": "stdout",
     "output_type": "stream",
     "text": [
      "\b\b/ "
     ]
    },
    {
     "name": "stdout",
     "output_type": "stream",
     "text": [
      "\b\b- "
     ]
    },
    {
     "name": "stdout",
     "output_type": "stream",
     "text": [
      "\b\b\\ "
     ]
    },
    {
     "name": "stdout",
     "output_type": "stream",
     "text": [
      "\b\b| "
     ]
    },
    {
     "name": "stdout",
     "output_type": "stream",
     "text": [
      "\b\b/ "
     ]
    },
    {
     "name": "stdout",
     "output_type": "stream",
     "text": [
      "\b\b- "
     ]
    },
    {
     "name": "stdout",
     "output_type": "stream",
     "text": [
      "\b\b\\ "
     ]
    },
    {
     "name": "stdout",
     "output_type": "stream",
     "text": [
      "\b\b| "
     ]
    },
    {
     "name": "stdout",
     "output_type": "stream",
     "text": [
      "\b\b/ "
     ]
    },
    {
     "name": "stdout",
     "output_type": "stream",
     "text": [
      "\b\b- "
     ]
    },
    {
     "name": "stdout",
     "output_type": "stream",
     "text": [
      "\b\bdone\r\n",
      "Solving environment: | "
     ]
    },
    {
     "name": "stdout",
     "output_type": "stream",
     "text": [
      "\b\b/ "
     ]
    },
    {
     "name": "stdout",
     "output_type": "stream",
     "text": [
      "\b\b- "
     ]
    },
    {
     "name": "stdout",
     "output_type": "stream",
     "text": [
      "\b\b\\ "
     ]
    },
    {
     "name": "stdout",
     "output_type": "stream",
     "text": [
      "\b\b| "
     ]
    },
    {
     "name": "stdout",
     "output_type": "stream",
     "text": [
      "\b\b/ "
     ]
    },
    {
     "name": "stdout",
     "output_type": "stream",
     "text": [
      "\b\b- "
     ]
    },
    {
     "name": "stdout",
     "output_type": "stream",
     "text": [
      "\b\b\\ "
     ]
    },
    {
     "name": "stdout",
     "output_type": "stream",
     "text": [
      "\b\b| "
     ]
    },
    {
     "name": "stdout",
     "output_type": "stream",
     "text": [
      "\b\b/ "
     ]
    },
    {
     "name": "stdout",
     "output_type": "stream",
     "text": [
      "\b\b- "
     ]
    },
    {
     "name": "stdout",
     "output_type": "stream",
     "text": [
      "\b\b\\ "
     ]
    },
    {
     "name": "stdout",
     "output_type": "stream",
     "text": [
      "\b\b| "
     ]
    },
    {
     "name": "stdout",
     "output_type": "stream",
     "text": [
      "\b\b/ "
     ]
    },
    {
     "name": "stdout",
     "output_type": "stream",
     "text": [
      "\b\b- "
     ]
    },
    {
     "name": "stdout",
     "output_type": "stream",
     "text": [
      "\b\b\\ "
     ]
    },
    {
     "name": "stdout",
     "output_type": "stream",
     "text": [
      "\b\b| "
     ]
    },
    {
     "name": "stdout",
     "output_type": "stream",
     "text": [
      "\b\b/ "
     ]
    },
    {
     "name": "stdout",
     "output_type": "stream",
     "text": [
      "\b\b- "
     ]
    },
    {
     "name": "stdout",
     "output_type": "stream",
     "text": [
      "\b\b\\ "
     ]
    },
    {
     "name": "stdout",
     "output_type": "stream",
     "text": [
      "\b\b| "
     ]
    },
    {
     "name": "stdout",
     "output_type": "stream",
     "text": [
      "\b\b/ "
     ]
    },
    {
     "name": "stdout",
     "output_type": "stream",
     "text": [
      "\b\b- "
     ]
    },
    {
     "name": "stdout",
     "output_type": "stream",
     "text": [
      "\b\b\\ "
     ]
    },
    {
     "name": "stdout",
     "output_type": "stream",
     "text": [
      "\b\b| "
     ]
    },
    {
     "name": "stdout",
     "output_type": "stream",
     "text": [
      "\b\b/ "
     ]
    },
    {
     "name": "stdout",
     "output_type": "stream",
     "text": [
      "\b\b- "
     ]
    },
    {
     "name": "stdout",
     "output_type": "stream",
     "text": [
      "\b\b\\ "
     ]
    },
    {
     "name": "stdout",
     "output_type": "stream",
     "text": [
      "\b\b| "
     ]
    },
    {
     "name": "stdout",
     "output_type": "stream",
     "text": [
      "\b\b/ "
     ]
    },
    {
     "name": "stdout",
     "output_type": "stream",
     "text": [
      "\b\b- "
     ]
    },
    {
     "name": "stdout",
     "output_type": "stream",
     "text": [
      "\b\b\\ "
     ]
    },
    {
     "name": "stdout",
     "output_type": "stream",
     "text": [
      "\b\b| "
     ]
    },
    {
     "name": "stdout",
     "output_type": "stream",
     "text": [
      "\b\b/ "
     ]
    },
    {
     "name": "stdout",
     "output_type": "stream",
     "text": [
      "\b\b- "
     ]
    },
    {
     "name": "stdout",
     "output_type": "stream",
     "text": [
      "\b\b\\ "
     ]
    },
    {
     "name": "stdout",
     "output_type": "stream",
     "text": [
      "\b\b| "
     ]
    },
    {
     "name": "stdout",
     "output_type": "stream",
     "text": [
      "\b\b/ "
     ]
    },
    {
     "name": "stdout",
     "output_type": "stream",
     "text": [
      "\b\b- "
     ]
    },
    {
     "name": "stdout",
     "output_type": "stream",
     "text": [
      "\b\b\\ "
     ]
    },
    {
     "name": "stdout",
     "output_type": "stream",
     "text": [
      "\b\b| "
     ]
    },
    {
     "name": "stdout",
     "output_type": "stream",
     "text": [
      "\b\b/ "
     ]
    },
    {
     "name": "stdout",
     "output_type": "stream",
     "text": [
      "\b\b- "
     ]
    },
    {
     "name": "stdout",
     "output_type": "stream",
     "text": [
      "\b\b\\ "
     ]
    },
    {
     "name": "stdout",
     "output_type": "stream",
     "text": [
      "\b\b| "
     ]
    },
    {
     "name": "stdout",
     "output_type": "stream",
     "text": [
      "\b\b/ "
     ]
    },
    {
     "name": "stdout",
     "output_type": "stream",
     "text": [
      "\b\b- "
     ]
    },
    {
     "name": "stdout",
     "output_type": "stream",
     "text": [
      "\b\b\\ "
     ]
    },
    {
     "name": "stdout",
     "output_type": "stream",
     "text": [
      "\b\b| "
     ]
    },
    {
     "name": "stdout",
     "output_type": "stream",
     "text": [
      "\b\b/ "
     ]
    },
    {
     "name": "stdout",
     "output_type": "stream",
     "text": [
      "\b\b- "
     ]
    },
    {
     "name": "stdout",
     "output_type": "stream",
     "text": [
      "\b\b\\ "
     ]
    },
    {
     "name": "stdout",
     "output_type": "stream",
     "text": [
      "\b\b| "
     ]
    },
    {
     "name": "stdout",
     "output_type": "stream",
     "text": [
      "\b\b/ "
     ]
    },
    {
     "name": "stdout",
     "output_type": "stream",
     "text": [
      "\b\b- "
     ]
    },
    {
     "name": "stdout",
     "output_type": "stream",
     "text": [
      "\b\b\\ "
     ]
    },
    {
     "name": "stdout",
     "output_type": "stream",
     "text": [
      "\b\b| "
     ]
    },
    {
     "name": "stdout",
     "output_type": "stream",
     "text": [
      "\b\b/ "
     ]
    },
    {
     "name": "stdout",
     "output_type": "stream",
     "text": [
      "\b\b- "
     ]
    },
    {
     "name": "stdout",
     "output_type": "stream",
     "text": [
      "\b\b\\ "
     ]
    },
    {
     "name": "stdout",
     "output_type": "stream",
     "text": [
      "\b\b| "
     ]
    },
    {
     "name": "stdout",
     "output_type": "stream",
     "text": [
      "\b\b/ "
     ]
    },
    {
     "name": "stdout",
     "output_type": "stream",
     "text": [
      "\b\b- "
     ]
    },
    {
     "name": "stdout",
     "output_type": "stream",
     "text": [
      "\b\b\\ "
     ]
    },
    {
     "name": "stdout",
     "output_type": "stream",
     "text": [
      "\b\b| "
     ]
    },
    {
     "name": "stdout",
     "output_type": "stream",
     "text": [
      "\b\b/ "
     ]
    },
    {
     "name": "stdout",
     "output_type": "stream",
     "text": [
      "\b\b- "
     ]
    },
    {
     "name": "stdout",
     "output_type": "stream",
     "text": [
      "\b\b\\ "
     ]
    },
    {
     "name": "stdout",
     "output_type": "stream",
     "text": [
      "\b\b| "
     ]
    },
    {
     "name": "stdout",
     "output_type": "stream",
     "text": [
      "\b\b/ "
     ]
    },
    {
     "name": "stdout",
     "output_type": "stream",
     "text": [
      "\b\b- "
     ]
    },
    {
     "name": "stdout",
     "output_type": "stream",
     "text": [
      "\b\b\\ "
     ]
    },
    {
     "name": "stdout",
     "output_type": "stream",
     "text": [
      "\b\b| "
     ]
    },
    {
     "name": "stdout",
     "output_type": "stream",
     "text": [
      "\b\b/ "
     ]
    },
    {
     "name": "stdout",
     "output_type": "stream",
     "text": [
      "\b\b- "
     ]
    },
    {
     "name": "stdout",
     "output_type": "stream",
     "text": [
      "\b\b\\ "
     ]
    },
    {
     "name": "stdout",
     "output_type": "stream",
     "text": [
      "\b\b| "
     ]
    },
    {
     "name": "stdout",
     "output_type": "stream",
     "text": [
      "\b\b/ "
     ]
    },
    {
     "name": "stdout",
     "output_type": "stream",
     "text": [
      "\b\b- "
     ]
    },
    {
     "name": "stdout",
     "output_type": "stream",
     "text": [
      "\b\b\\ "
     ]
    },
    {
     "name": "stdout",
     "output_type": "stream",
     "text": [
      "\b\b| "
     ]
    },
    {
     "name": "stdout",
     "output_type": "stream",
     "text": [
      "\b\b/ "
     ]
    },
    {
     "name": "stdout",
     "output_type": "stream",
     "text": [
      "\b\b- "
     ]
    },
    {
     "name": "stdout",
     "output_type": "stream",
     "text": [
      "\b\b\\ "
     ]
    },
    {
     "name": "stdout",
     "output_type": "stream",
     "text": [
      "\b\b| "
     ]
    },
    {
     "name": "stdout",
     "output_type": "stream",
     "text": [
      "\b\b/ "
     ]
    },
    {
     "name": "stdout",
     "output_type": "stream",
     "text": [
      "\b\b- "
     ]
    },
    {
     "name": "stdout",
     "output_type": "stream",
     "text": [
      "\b\b\\ "
     ]
    },
    {
     "name": "stdout",
     "output_type": "stream",
     "text": [
      "\b\b| "
     ]
    },
    {
     "name": "stdout",
     "output_type": "stream",
     "text": [
      "\b\b/ "
     ]
    },
    {
     "name": "stdout",
     "output_type": "stream",
     "text": [
      "\b\b- "
     ]
    },
    {
     "name": "stdout",
     "output_type": "stream",
     "text": [
      "\b\b\\ "
     ]
    },
    {
     "name": "stdout",
     "output_type": "stream",
     "text": [
      "\b\b| "
     ]
    },
    {
     "name": "stdout",
     "output_type": "stream",
     "text": [
      "\b\b/ "
     ]
    },
    {
     "name": "stdout",
     "output_type": "stream",
     "text": [
      "\b\b- "
     ]
    },
    {
     "name": "stdout",
     "output_type": "stream",
     "text": [
      "\b\b\\ "
     ]
    },
    {
     "name": "stdout",
     "output_type": "stream",
     "text": [
      "\b\b| "
     ]
    },
    {
     "name": "stdout",
     "output_type": "stream",
     "text": [
      "\b\b/ "
     ]
    },
    {
     "name": "stdout",
     "output_type": "stream",
     "text": [
      "\b\b- "
     ]
    },
    {
     "name": "stdout",
     "output_type": "stream",
     "text": [
      "\b\b\\ "
     ]
    },
    {
     "name": "stdout",
     "output_type": "stream",
     "text": [
      "\b\b| "
     ]
    },
    {
     "name": "stdout",
     "output_type": "stream",
     "text": [
      "\b\b/ "
     ]
    },
    {
     "name": "stdout",
     "output_type": "stream",
     "text": [
      "\b\b- "
     ]
    },
    {
     "name": "stdout",
     "output_type": "stream",
     "text": [
      "\b\b\\ "
     ]
    },
    {
     "name": "stdout",
     "output_type": "stream",
     "text": [
      "\b\b| "
     ]
    },
    {
     "name": "stdout",
     "output_type": "stream",
     "text": [
      "\b\b/ "
     ]
    },
    {
     "name": "stdout",
     "output_type": "stream",
     "text": [
      "\b\b- "
     ]
    },
    {
     "name": "stdout",
     "output_type": "stream",
     "text": [
      "\b\b\\ "
     ]
    },
    {
     "name": "stdout",
     "output_type": "stream",
     "text": [
      "\b\b| "
     ]
    },
    {
     "name": "stdout",
     "output_type": "stream",
     "text": [
      "\b\b/ "
     ]
    },
    {
     "name": "stdout",
     "output_type": "stream",
     "text": [
      "\b\b- "
     ]
    },
    {
     "name": "stdout",
     "output_type": "stream",
     "text": [
      "\b\b\\ "
     ]
    },
    {
     "name": "stdout",
     "output_type": "stream",
     "text": [
      "\b\b| "
     ]
    },
    {
     "name": "stdout",
     "output_type": "stream",
     "text": [
      "\b\b/ "
     ]
    },
    {
     "name": "stdout",
     "output_type": "stream",
     "text": [
      "\b\b- "
     ]
    },
    {
     "name": "stdout",
     "output_type": "stream",
     "text": [
      "\b\b\\ "
     ]
    },
    {
     "name": "stdout",
     "output_type": "stream",
     "text": [
      "\b\b| "
     ]
    },
    {
     "name": "stdout",
     "output_type": "stream",
     "text": [
      "\b\b/ "
     ]
    },
    {
     "name": "stdout",
     "output_type": "stream",
     "text": [
      "\b\b- "
     ]
    },
    {
     "name": "stdout",
     "output_type": "stream",
     "text": [
      "\b\b\\ "
     ]
    },
    {
     "name": "stdout",
     "output_type": "stream",
     "text": [
      "\b\b| "
     ]
    },
    {
     "name": "stdout",
     "output_type": "stream",
     "text": [
      "\b\b/ "
     ]
    },
    {
     "name": "stdout",
     "output_type": "stream",
     "text": [
      "\b\b- "
     ]
    },
    {
     "name": "stdout",
     "output_type": "stream",
     "text": [
      "\b\b\\ "
     ]
    },
    {
     "name": "stdout",
     "output_type": "stream",
     "text": [
      "\b\b| "
     ]
    },
    {
     "name": "stdout",
     "output_type": "stream",
     "text": [
      "\b\b/ "
     ]
    },
    {
     "name": "stdout",
     "output_type": "stream",
     "text": [
      "\b\b- "
     ]
    },
    {
     "name": "stdout",
     "output_type": "stream",
     "text": [
      "\b\b\\ "
     ]
    },
    {
     "name": "stdout",
     "output_type": "stream",
     "text": [
      "\b\b| "
     ]
    },
    {
     "name": "stdout",
     "output_type": "stream",
     "text": [
      "\b\b/ "
     ]
    },
    {
     "name": "stdout",
     "output_type": "stream",
     "text": [
      "\b\b- "
     ]
    },
    {
     "name": "stdout",
     "output_type": "stream",
     "text": [
      "\b\b\\ "
     ]
    },
    {
     "name": "stdout",
     "output_type": "stream",
     "text": [
      "\b\b| "
     ]
    },
    {
     "name": "stdout",
     "output_type": "stream",
     "text": [
      "\b\b/ "
     ]
    },
    {
     "name": "stdout",
     "output_type": "stream",
     "text": [
      "\b\b- "
     ]
    },
    {
     "name": "stdout",
     "output_type": "stream",
     "text": [
      "\b\b\\ "
     ]
    },
    {
     "name": "stdout",
     "output_type": "stream",
     "text": [
      "\b\b| "
     ]
    },
    {
     "name": "stdout",
     "output_type": "stream",
     "text": [
      "\b\b/ "
     ]
    },
    {
     "name": "stdout",
     "output_type": "stream",
     "text": [
      "\b\b- "
     ]
    },
    {
     "name": "stdout",
     "output_type": "stream",
     "text": [
      "\b\b\\ "
     ]
    },
    {
     "name": "stdout",
     "output_type": "stream",
     "text": [
      "\b\b| "
     ]
    },
    {
     "name": "stdout",
     "output_type": "stream",
     "text": [
      "\b\b/ "
     ]
    },
    {
     "name": "stdout",
     "output_type": "stream",
     "text": [
      "\b\b- "
     ]
    },
    {
     "name": "stdout",
     "output_type": "stream",
     "text": [
      "\b\b\\ "
     ]
    },
    {
     "name": "stdout",
     "output_type": "stream",
     "text": [
      "\b\b| "
     ]
    },
    {
     "name": "stdout",
     "output_type": "stream",
     "text": [
      "\b\b/ "
     ]
    },
    {
     "name": "stdout",
     "output_type": "stream",
     "text": [
      "\b\b- "
     ]
    },
    {
     "name": "stdout",
     "output_type": "stream",
     "text": [
      "\b\b\\ "
     ]
    },
    {
     "name": "stdout",
     "output_type": "stream",
     "text": [
      "\b\b| "
     ]
    },
    {
     "name": "stdout",
     "output_type": "stream",
     "text": [
      "\b\b/ "
     ]
    },
    {
     "name": "stdout",
     "output_type": "stream",
     "text": [
      "\b\b- "
     ]
    },
    {
     "name": "stdout",
     "output_type": "stream",
     "text": [
      "\b\b\\ "
     ]
    },
    {
     "name": "stdout",
     "output_type": "stream",
     "text": [
      "\b\b| "
     ]
    },
    {
     "name": "stdout",
     "output_type": "stream",
     "text": [
      "\b\b/ "
     ]
    },
    {
     "name": "stdout",
     "output_type": "stream",
     "text": [
      "\b\b- "
     ]
    },
    {
     "name": "stdout",
     "output_type": "stream",
     "text": [
      "\b\b\\ "
     ]
    },
    {
     "name": "stdout",
     "output_type": "stream",
     "text": [
      "\b\b| "
     ]
    },
    {
     "name": "stdout",
     "output_type": "stream",
     "text": [
      "\b\b/ "
     ]
    },
    {
     "name": "stdout",
     "output_type": "stream",
     "text": [
      "\b\b- "
     ]
    },
    {
     "name": "stdout",
     "output_type": "stream",
     "text": [
      "\b\b\\ "
     ]
    },
    {
     "name": "stdout",
     "output_type": "stream",
     "text": [
      "\b\b| "
     ]
    },
    {
     "name": "stdout",
     "output_type": "stream",
     "text": [
      "\b\b/ "
     ]
    },
    {
     "name": "stdout",
     "output_type": "stream",
     "text": [
      "\b\b- "
     ]
    },
    {
     "name": "stdout",
     "output_type": "stream",
     "text": [
      "\b\b\\ "
     ]
    },
    {
     "name": "stdout",
     "output_type": "stream",
     "text": [
      "\b\b| "
     ]
    },
    {
     "name": "stdout",
     "output_type": "stream",
     "text": [
      "\b\b/ "
     ]
    },
    {
     "name": "stdout",
     "output_type": "stream",
     "text": [
      "\b\b- "
     ]
    },
    {
     "name": "stdout",
     "output_type": "stream",
     "text": [
      "\b\b\\ "
     ]
    },
    {
     "name": "stdout",
     "output_type": "stream",
     "text": [
      "\b\b| "
     ]
    },
    {
     "name": "stdout",
     "output_type": "stream",
     "text": [
      "\b\b/ "
     ]
    },
    {
     "name": "stdout",
     "output_type": "stream",
     "text": [
      "\b\b- "
     ]
    },
    {
     "name": "stdout",
     "output_type": "stream",
     "text": [
      "\b\b\\ "
     ]
    },
    {
     "name": "stdout",
     "output_type": "stream",
     "text": [
      "\b\b| "
     ]
    },
    {
     "name": "stdout",
     "output_type": "stream",
     "text": [
      "\b\b/ "
     ]
    },
    {
     "name": "stdout",
     "output_type": "stream",
     "text": [
      "\b\b- "
     ]
    },
    {
     "name": "stdout",
     "output_type": "stream",
     "text": [
      "\b\b\\ "
     ]
    },
    {
     "name": "stdout",
     "output_type": "stream",
     "text": [
      "\b\b| "
     ]
    },
    {
     "name": "stdout",
     "output_type": "stream",
     "text": [
      "\b\b/ "
     ]
    },
    {
     "name": "stdout",
     "output_type": "stream",
     "text": [
      "\b\b- "
     ]
    },
    {
     "name": "stdout",
     "output_type": "stream",
     "text": [
      "\b\b\\ "
     ]
    },
    {
     "name": "stdout",
     "output_type": "stream",
     "text": [
      "\b\b| "
     ]
    },
    {
     "name": "stdout",
     "output_type": "stream",
     "text": [
      "\b\b/ "
     ]
    },
    {
     "name": "stdout",
     "output_type": "stream",
     "text": [
      "\b\b- "
     ]
    },
    {
     "name": "stdout",
     "output_type": "stream",
     "text": [
      "\b\b\\ "
     ]
    },
    {
     "name": "stdout",
     "output_type": "stream",
     "text": [
      "\b\b| "
     ]
    },
    {
     "name": "stdout",
     "output_type": "stream",
     "text": [
      "\b\b/ "
     ]
    },
    {
     "name": "stdout",
     "output_type": "stream",
     "text": [
      "\b\b- "
     ]
    },
    {
     "name": "stdout",
     "output_type": "stream",
     "text": [
      "\b\b\\ "
     ]
    },
    {
     "name": "stdout",
     "output_type": "stream",
     "text": [
      "\b\b| "
     ]
    },
    {
     "name": "stdout",
     "output_type": "stream",
     "text": [
      "\b\b/ "
     ]
    },
    {
     "name": "stdout",
     "output_type": "stream",
     "text": [
      "\b\b- "
     ]
    },
    {
     "name": "stdout",
     "output_type": "stream",
     "text": [
      "\b\b\\ "
     ]
    },
    {
     "name": "stdout",
     "output_type": "stream",
     "text": [
      "\b\b| "
     ]
    },
    {
     "name": "stdout",
     "output_type": "stream",
     "text": [
      "\b\b/ "
     ]
    },
    {
     "name": "stdout",
     "output_type": "stream",
     "text": [
      "\b\b- "
     ]
    },
    {
     "name": "stdout",
     "output_type": "stream",
     "text": [
      "\b\b\\ "
     ]
    },
    {
     "name": "stdout",
     "output_type": "stream",
     "text": [
      "\b\b| "
     ]
    },
    {
     "name": "stdout",
     "output_type": "stream",
     "text": [
      "\b\b/ "
     ]
    },
    {
     "name": "stdout",
     "output_type": "stream",
     "text": [
      "\b\b- "
     ]
    },
    {
     "name": "stdout",
     "output_type": "stream",
     "text": [
      "\b\b\\ "
     ]
    },
    {
     "name": "stdout",
     "output_type": "stream",
     "text": [
      "\b\b| "
     ]
    },
    {
     "name": "stdout",
     "output_type": "stream",
     "text": [
      "\b\b/ "
     ]
    },
    {
     "name": "stdout",
     "output_type": "stream",
     "text": [
      "\b\b- "
     ]
    },
    {
     "name": "stdout",
     "output_type": "stream",
     "text": [
      "\b\b\\ "
     ]
    },
    {
     "name": "stdout",
     "output_type": "stream",
     "text": [
      "\b\b| "
     ]
    },
    {
     "name": "stdout",
     "output_type": "stream",
     "text": [
      "\b\b/ "
     ]
    },
    {
     "name": "stdout",
     "output_type": "stream",
     "text": [
      "\b\b- "
     ]
    },
    {
     "name": "stdout",
     "output_type": "stream",
     "text": [
      "\b\b\\ "
     ]
    },
    {
     "name": "stdout",
     "output_type": "stream",
     "text": [
      "\b\b| "
     ]
    },
    {
     "name": "stdout",
     "output_type": "stream",
     "text": [
      "\b\b/ "
     ]
    },
    {
     "name": "stdout",
     "output_type": "stream",
     "text": [
      "\b\b- "
     ]
    },
    {
     "name": "stdout",
     "output_type": "stream",
     "text": [
      "\b\b\\ "
     ]
    },
    {
     "name": "stdout",
     "output_type": "stream",
     "text": [
      "\b\b| "
     ]
    },
    {
     "name": "stdout",
     "output_type": "stream",
     "text": [
      "\b\b/ "
     ]
    },
    {
     "name": "stdout",
     "output_type": "stream",
     "text": [
      "\b\b- "
     ]
    },
    {
     "name": "stdout",
     "output_type": "stream",
     "text": [
      "\b\b\\ "
     ]
    },
    {
     "name": "stdout",
     "output_type": "stream",
     "text": [
      "\b\b| "
     ]
    },
    {
     "name": "stdout",
     "output_type": "stream",
     "text": [
      "\b\b/ "
     ]
    },
    {
     "name": "stdout",
     "output_type": "stream",
     "text": [
      "\b\b- "
     ]
    },
    {
     "name": "stdout",
     "output_type": "stream",
     "text": [
      "\b\b\\ "
     ]
    },
    {
     "name": "stdout",
     "output_type": "stream",
     "text": [
      "\b\b| "
     ]
    },
    {
     "name": "stdout",
     "output_type": "stream",
     "text": [
      "\b\b/ "
     ]
    },
    {
     "name": "stdout",
     "output_type": "stream",
     "text": [
      "\b\b- "
     ]
    },
    {
     "name": "stdout",
     "output_type": "stream",
     "text": [
      "\b\b\\ "
     ]
    },
    {
     "name": "stdout",
     "output_type": "stream",
     "text": [
      "\b\b| "
     ]
    },
    {
     "name": "stdout",
     "output_type": "stream",
     "text": [
      "\b\b/ "
     ]
    },
    {
     "name": "stdout",
     "output_type": "stream",
     "text": [
      "\b\b- "
     ]
    },
    {
     "name": "stdout",
     "output_type": "stream",
     "text": [
      "\b\b\\ "
     ]
    },
    {
     "name": "stdout",
     "output_type": "stream",
     "text": [
      "\b\b| "
     ]
    },
    {
     "name": "stdout",
     "output_type": "stream",
     "text": [
      "\b\b/ "
     ]
    },
    {
     "name": "stdout",
     "output_type": "stream",
     "text": [
      "\b\b- "
     ]
    },
    {
     "name": "stdout",
     "output_type": "stream",
     "text": [
      "\b\b\\ "
     ]
    },
    {
     "name": "stdout",
     "output_type": "stream",
     "text": [
      "\b\b| "
     ]
    },
    {
     "name": "stdout",
     "output_type": "stream",
     "text": [
      "\b\b/ "
     ]
    },
    {
     "name": "stdout",
     "output_type": "stream",
     "text": [
      "\b\b- "
     ]
    },
    {
     "name": "stdout",
     "output_type": "stream",
     "text": [
      "\b\b\\ "
     ]
    },
    {
     "name": "stdout",
     "output_type": "stream",
     "text": [
      "\b\b| "
     ]
    },
    {
     "name": "stdout",
     "output_type": "stream",
     "text": [
      "\b\b/ "
     ]
    },
    {
     "name": "stdout",
     "output_type": "stream",
     "text": [
      "\b\b- "
     ]
    },
    {
     "name": "stdout",
     "output_type": "stream",
     "text": [
      "\b\b\\ "
     ]
    },
    {
     "name": "stdout",
     "output_type": "stream",
     "text": [
      "\b\b| "
     ]
    },
    {
     "name": "stdout",
     "output_type": "stream",
     "text": [
      "\b\b/ "
     ]
    },
    {
     "name": "stdout",
     "output_type": "stream",
     "text": [
      "\b\b- "
     ]
    },
    {
     "name": "stdout",
     "output_type": "stream",
     "text": [
      "\b\b\\ "
     ]
    },
    {
     "name": "stdout",
     "output_type": "stream",
     "text": [
      "\b\b| "
     ]
    },
    {
     "name": "stdout",
     "output_type": "stream",
     "text": [
      "\b\b/ "
     ]
    },
    {
     "name": "stdout",
     "output_type": "stream",
     "text": [
      "\b\b- "
     ]
    },
    {
     "name": "stdout",
     "output_type": "stream",
     "text": [
      "\b\b\\ "
     ]
    },
    {
     "name": "stdout",
     "output_type": "stream",
     "text": [
      "\b\b| "
     ]
    },
    {
     "name": "stdout",
     "output_type": "stream",
     "text": [
      "\b\b/ "
     ]
    },
    {
     "name": "stdout",
     "output_type": "stream",
     "text": [
      "\b\b- "
     ]
    },
    {
     "name": "stdout",
     "output_type": "stream",
     "text": [
      "\b\b\\ "
     ]
    },
    {
     "name": "stdout",
     "output_type": "stream",
     "text": [
      "\b\b| "
     ]
    },
    {
     "name": "stdout",
     "output_type": "stream",
     "text": [
      "\b\b/ "
     ]
    },
    {
     "name": "stdout",
     "output_type": "stream",
     "text": [
      "\b\b- "
     ]
    },
    {
     "name": "stdout",
     "output_type": "stream",
     "text": [
      "\b\b\\ "
     ]
    },
    {
     "name": "stdout",
     "output_type": "stream",
     "text": [
      "\b\b| "
     ]
    },
    {
     "name": "stdout",
     "output_type": "stream",
     "text": [
      "\b\b/ "
     ]
    },
    {
     "name": "stdout",
     "output_type": "stream",
     "text": [
      "\b\b- "
     ]
    },
    {
     "name": "stdout",
     "output_type": "stream",
     "text": [
      "\b\b\\ "
     ]
    },
    {
     "name": "stdout",
     "output_type": "stream",
     "text": [
      "\b\b| "
     ]
    },
    {
     "name": "stdout",
     "output_type": "stream",
     "text": [
      "\b\b/ "
     ]
    },
    {
     "name": "stdout",
     "output_type": "stream",
     "text": [
      "\b\b- "
     ]
    },
    {
     "name": "stdout",
     "output_type": "stream",
     "text": [
      "\b\b\\ "
     ]
    },
    {
     "name": "stdout",
     "output_type": "stream",
     "text": [
      "\b\b| "
     ]
    },
    {
     "name": "stdout",
     "output_type": "stream",
     "text": [
      "\b\b/ "
     ]
    },
    {
     "name": "stdout",
     "output_type": "stream",
     "text": [
      "\b\b- "
     ]
    },
    {
     "name": "stdout",
     "output_type": "stream",
     "text": [
      "\b\b\\ "
     ]
    },
    {
     "name": "stdout",
     "output_type": "stream",
     "text": [
      "\b\b| "
     ]
    },
    {
     "name": "stdout",
     "output_type": "stream",
     "text": [
      "\b\b/ "
     ]
    },
    {
     "name": "stdout",
     "output_type": "stream",
     "text": [
      "\b\b- "
     ]
    },
    {
     "name": "stdout",
     "output_type": "stream",
     "text": [
      "\b\b\\ "
     ]
    },
    {
     "name": "stdout",
     "output_type": "stream",
     "text": [
      "\b\b| "
     ]
    },
    {
     "name": "stdout",
     "output_type": "stream",
     "text": [
      "\b\b/ "
     ]
    },
    {
     "name": "stdout",
     "output_type": "stream",
     "text": [
      "\b\b- "
     ]
    },
    {
     "name": "stdout",
     "output_type": "stream",
     "text": [
      "\b\b\\ "
     ]
    },
    {
     "name": "stdout",
     "output_type": "stream",
     "text": [
      "\b\b| "
     ]
    },
    {
     "name": "stdout",
     "output_type": "stream",
     "text": [
      "\b\b/ "
     ]
    },
    {
     "name": "stdout",
     "output_type": "stream",
     "text": [
      "\b\b- "
     ]
    },
    {
     "name": "stdout",
     "output_type": "stream",
     "text": [
      "\b\b\\ "
     ]
    },
    {
     "name": "stdout",
     "output_type": "stream",
     "text": [
      "\b\b| "
     ]
    },
    {
     "name": "stdout",
     "output_type": "stream",
     "text": [
      "\b\b/ "
     ]
    },
    {
     "name": "stdout",
     "output_type": "stream",
     "text": [
      "\b\b- "
     ]
    },
    {
     "name": "stdout",
     "output_type": "stream",
     "text": [
      "\b\b\\ "
     ]
    },
    {
     "name": "stdout",
     "output_type": "stream",
     "text": [
      "\b\b| "
     ]
    },
    {
     "name": "stdout",
     "output_type": "stream",
     "text": [
      "\b\b/ "
     ]
    },
    {
     "name": "stdout",
     "output_type": "stream",
     "text": [
      "\b\b- "
     ]
    },
    {
     "name": "stdout",
     "output_type": "stream",
     "text": [
      "\b\b\\ "
     ]
    },
    {
     "name": "stdout",
     "output_type": "stream",
     "text": [
      "\b\b| "
     ]
    },
    {
     "name": "stdout",
     "output_type": "stream",
     "text": [
      "\b\b/ "
     ]
    },
    {
     "name": "stdout",
     "output_type": "stream",
     "text": [
      "\b\b- "
     ]
    },
    {
     "name": "stdout",
     "output_type": "stream",
     "text": [
      "\b\b\\ "
     ]
    },
    {
     "name": "stdout",
     "output_type": "stream",
     "text": [
      "\b\b| "
     ]
    },
    {
     "name": "stdout",
     "output_type": "stream",
     "text": [
      "\b\b/ "
     ]
    },
    {
     "name": "stdout",
     "output_type": "stream",
     "text": [
      "\b\b- "
     ]
    },
    {
     "name": "stdout",
     "output_type": "stream",
     "text": [
      "\b\b\\ "
     ]
    },
    {
     "name": "stdout",
     "output_type": "stream",
     "text": [
      "\b\b| "
     ]
    },
    {
     "name": "stdout",
     "output_type": "stream",
     "text": [
      "\b\b/ "
     ]
    },
    {
     "name": "stdout",
     "output_type": "stream",
     "text": [
      "\b\b- "
     ]
    },
    {
     "name": "stdout",
     "output_type": "stream",
     "text": [
      "\b\b\\ "
     ]
    },
    {
     "name": "stdout",
     "output_type": "stream",
     "text": [
      "\b\b| "
     ]
    },
    {
     "name": "stdout",
     "output_type": "stream",
     "text": [
      "\b\b/ "
     ]
    },
    {
     "name": "stdout",
     "output_type": "stream",
     "text": [
      "\b\b- "
     ]
    },
    {
     "name": "stdout",
     "output_type": "stream",
     "text": [
      "\b\b\\ "
     ]
    },
    {
     "name": "stdout",
     "output_type": "stream",
     "text": [
      "\b\b| "
     ]
    },
    {
     "name": "stdout",
     "output_type": "stream",
     "text": [
      "\b\b/ "
     ]
    },
    {
     "name": "stdout",
     "output_type": "stream",
     "text": [
      "\b\b- "
     ]
    },
    {
     "name": "stdout",
     "output_type": "stream",
     "text": [
      "\b\b\\ "
     ]
    },
    {
     "name": "stdout",
     "output_type": "stream",
     "text": [
      "\b\b| "
     ]
    },
    {
     "name": "stdout",
     "output_type": "stream",
     "text": [
      "\b\b/ "
     ]
    },
    {
     "name": "stdout",
     "output_type": "stream",
     "text": [
      "\b\b- "
     ]
    },
    {
     "name": "stdout",
     "output_type": "stream",
     "text": [
      "\b\b\\ "
     ]
    },
    {
     "name": "stdout",
     "output_type": "stream",
     "text": [
      "\b\b| "
     ]
    },
    {
     "name": "stdout",
     "output_type": "stream",
     "text": [
      "\b\b/ "
     ]
    },
    {
     "name": "stdout",
     "output_type": "stream",
     "text": [
      "\b\b- "
     ]
    },
    {
     "name": "stdout",
     "output_type": "stream",
     "text": [
      "\b\b\\ "
     ]
    },
    {
     "name": "stdout",
     "output_type": "stream",
     "text": [
      "\b\b| "
     ]
    },
    {
     "name": "stdout",
     "output_type": "stream",
     "text": [
      "\b\b/ "
     ]
    },
    {
     "name": "stdout",
     "output_type": "stream",
     "text": [
      "\b\b- "
     ]
    },
    {
     "name": "stdout",
     "output_type": "stream",
     "text": [
      "\b\b\\ "
     ]
    },
    {
     "name": "stdout",
     "output_type": "stream",
     "text": [
      "\b\b| "
     ]
    },
    {
     "name": "stdout",
     "output_type": "stream",
     "text": [
      "\b\b/ "
     ]
    },
    {
     "name": "stdout",
     "output_type": "stream",
     "text": [
      "\b\b- "
     ]
    },
    {
     "name": "stdout",
     "output_type": "stream",
     "text": [
      "\b\b\\ "
     ]
    },
    {
     "name": "stdout",
     "output_type": "stream",
     "text": [
      "\b\b| "
     ]
    },
    {
     "name": "stdout",
     "output_type": "stream",
     "text": [
      "\b\b/ "
     ]
    },
    {
     "name": "stdout",
     "output_type": "stream",
     "text": [
      "\b\b- "
     ]
    },
    {
     "name": "stdout",
     "output_type": "stream",
     "text": [
      "\b\b\\ "
     ]
    },
    {
     "name": "stdout",
     "output_type": "stream",
     "text": [
      "\b\b| "
     ]
    },
    {
     "name": "stdout",
     "output_type": "stream",
     "text": [
      "\b\b/ "
     ]
    },
    {
     "name": "stdout",
     "output_type": "stream",
     "text": [
      "\b\b- "
     ]
    },
    {
     "name": "stdout",
     "output_type": "stream",
     "text": [
      "\b\b\\ "
     ]
    },
    {
     "name": "stdout",
     "output_type": "stream",
     "text": [
      "\b\b| "
     ]
    },
    {
     "name": "stdout",
     "output_type": "stream",
     "text": [
      "\b\b/ "
     ]
    },
    {
     "name": "stdout",
     "output_type": "stream",
     "text": [
      "\b\b- "
     ]
    },
    {
     "name": "stdout",
     "output_type": "stream",
     "text": [
      "\b\b\\ "
     ]
    },
    {
     "name": "stdout",
     "output_type": "stream",
     "text": [
      "\b\b| "
     ]
    },
    {
     "name": "stdout",
     "output_type": "stream",
     "text": [
      "\b\b/ "
     ]
    },
    {
     "name": "stdout",
     "output_type": "stream",
     "text": [
      "\b\b- "
     ]
    },
    {
     "name": "stdout",
     "output_type": "stream",
     "text": [
      "\b\b\\ "
     ]
    },
    {
     "name": "stdout",
     "output_type": "stream",
     "text": [
      "\b\b| "
     ]
    },
    {
     "name": "stdout",
     "output_type": "stream",
     "text": [
      "\b\b/ "
     ]
    },
    {
     "name": "stdout",
     "output_type": "stream",
     "text": [
      "\b\b- "
     ]
    },
    {
     "name": "stdout",
     "output_type": "stream",
     "text": [
      "\b\b\\ "
     ]
    },
    {
     "name": "stdout",
     "output_type": "stream",
     "text": [
      "\b\b| "
     ]
    },
    {
     "name": "stdout",
     "output_type": "stream",
     "text": [
      "\b\b/ "
     ]
    },
    {
     "name": "stdout",
     "output_type": "stream",
     "text": [
      "\b\b- "
     ]
    },
    {
     "name": "stdout",
     "output_type": "stream",
     "text": [
      "\b\b\\ "
     ]
    },
    {
     "name": "stdout",
     "output_type": "stream",
     "text": [
      "\b\b| "
     ]
    },
    {
     "name": "stdout",
     "output_type": "stream",
     "text": [
      "\b\b/ "
     ]
    },
    {
     "name": "stdout",
     "output_type": "stream",
     "text": [
      "\b\b- "
     ]
    },
    {
     "name": "stdout",
     "output_type": "stream",
     "text": [
      "\b\b\\ "
     ]
    },
    {
     "name": "stdout",
     "output_type": "stream",
     "text": [
      "\b\b| "
     ]
    },
    {
     "name": "stdout",
     "output_type": "stream",
     "text": [
      "\b\b/ "
     ]
    },
    {
     "name": "stdout",
     "output_type": "stream",
     "text": [
      "\b\b- "
     ]
    },
    {
     "name": "stdout",
     "output_type": "stream",
     "text": [
      "\b\b\\ "
     ]
    },
    {
     "name": "stdout",
     "output_type": "stream",
     "text": [
      "\b\b| "
     ]
    },
    {
     "name": "stdout",
     "output_type": "stream",
     "text": [
      "\b\b/ "
     ]
    },
    {
     "name": "stdout",
     "output_type": "stream",
     "text": [
      "\b\b- "
     ]
    },
    {
     "name": "stdout",
     "output_type": "stream",
     "text": [
      "\b\b\\ "
     ]
    },
    {
     "name": "stdout",
     "output_type": "stream",
     "text": [
      "\b\b| "
     ]
    },
    {
     "name": "stdout",
     "output_type": "stream",
     "text": [
      "\b\b/ "
     ]
    },
    {
     "name": "stdout",
     "output_type": "stream",
     "text": [
      "\b\b- "
     ]
    },
    {
     "name": "stdout",
     "output_type": "stream",
     "text": [
      "\b\b\\ "
     ]
    },
    {
     "name": "stdout",
     "output_type": "stream",
     "text": [
      "\b\b| "
     ]
    },
    {
     "name": "stdout",
     "output_type": "stream",
     "text": [
      "\b\b/ "
     ]
    },
    {
     "name": "stdout",
     "output_type": "stream",
     "text": [
      "\b\b- "
     ]
    },
    {
     "name": "stdout",
     "output_type": "stream",
     "text": [
      "\b\b\\ "
     ]
    },
    {
     "name": "stdout",
     "output_type": "stream",
     "text": [
      "\b\b| "
     ]
    },
    {
     "name": "stdout",
     "output_type": "stream",
     "text": [
      "\b\b/ "
     ]
    },
    {
     "name": "stdout",
     "output_type": "stream",
     "text": [
      "\b\b- "
     ]
    },
    {
     "name": "stdout",
     "output_type": "stream",
     "text": [
      "\b\b\\ "
     ]
    },
    {
     "name": "stdout",
     "output_type": "stream",
     "text": [
      "\b\b| "
     ]
    },
    {
     "name": "stdout",
     "output_type": "stream",
     "text": [
      "\b\b/ "
     ]
    },
    {
     "name": "stdout",
     "output_type": "stream",
     "text": [
      "\b\b- "
     ]
    },
    {
     "name": "stdout",
     "output_type": "stream",
     "text": [
      "\b\b\\ "
     ]
    },
    {
     "name": "stdout",
     "output_type": "stream",
     "text": [
      "\b\b| "
     ]
    },
    {
     "name": "stdout",
     "output_type": "stream",
     "text": [
      "\b\b/ "
     ]
    },
    {
     "name": "stdout",
     "output_type": "stream",
     "text": [
      "\b\b- "
     ]
    },
    {
     "name": "stdout",
     "output_type": "stream",
     "text": [
      "\b\b\\ "
     ]
    },
    {
     "name": "stdout",
     "output_type": "stream",
     "text": [
      "\b\b| "
     ]
    },
    {
     "name": "stdout",
     "output_type": "stream",
     "text": [
      "\b\b/ "
     ]
    },
    {
     "name": "stdout",
     "output_type": "stream",
     "text": [
      "\b\b- "
     ]
    },
    {
     "name": "stdout",
     "output_type": "stream",
     "text": [
      "\b\b\\ "
     ]
    },
    {
     "name": "stdout",
     "output_type": "stream",
     "text": [
      "\b\b| "
     ]
    },
    {
     "name": "stdout",
     "output_type": "stream",
     "text": [
      "\b\b/ "
     ]
    },
    {
     "name": "stdout",
     "output_type": "stream",
     "text": [
      "\b\b- "
     ]
    },
    {
     "name": "stdout",
     "output_type": "stream",
     "text": [
      "\b\b\\ "
     ]
    },
    {
     "name": "stdout",
     "output_type": "stream",
     "text": [
      "\b\b| "
     ]
    },
    {
     "name": "stdout",
     "output_type": "stream",
     "text": [
      "\b\b/ "
     ]
    },
    {
     "name": "stdout",
     "output_type": "stream",
     "text": [
      "\b\b- "
     ]
    },
    {
     "name": "stdout",
     "output_type": "stream",
     "text": [
      "\b\b\\ "
     ]
    },
    {
     "name": "stdout",
     "output_type": "stream",
     "text": [
      "\b\b| "
     ]
    },
    {
     "name": "stdout",
     "output_type": "stream",
     "text": [
      "\b\b/ "
     ]
    },
    {
     "name": "stdout",
     "output_type": "stream",
     "text": [
      "\b\b- "
     ]
    },
    {
     "name": "stdout",
     "output_type": "stream",
     "text": [
      "\b\b\\ "
     ]
    },
    {
     "name": "stdout",
     "output_type": "stream",
     "text": [
      "\b\b| "
     ]
    },
    {
     "name": "stdout",
     "output_type": "stream",
     "text": [
      "\b\b/ "
     ]
    },
    {
     "name": "stdout",
     "output_type": "stream",
     "text": [
      "\b\b- "
     ]
    },
    {
     "name": "stdout",
     "output_type": "stream",
     "text": [
      "\b\b\\ "
     ]
    },
    {
     "name": "stdout",
     "output_type": "stream",
     "text": [
      "\b\b| "
     ]
    },
    {
     "name": "stdout",
     "output_type": "stream",
     "text": [
      "\b\b/ "
     ]
    },
    {
     "name": "stdout",
     "output_type": "stream",
     "text": [
      "\b\b- "
     ]
    },
    {
     "name": "stdout",
     "output_type": "stream",
     "text": [
      "\b\b\\ "
     ]
    },
    {
     "name": "stdout",
     "output_type": "stream",
     "text": [
      "\b\b| "
     ]
    },
    {
     "name": "stdout",
     "output_type": "stream",
     "text": [
      "\b\b/ "
     ]
    },
    {
     "name": "stdout",
     "output_type": "stream",
     "text": [
      "\b\b- "
     ]
    },
    {
     "name": "stdout",
     "output_type": "stream",
     "text": [
      "\b\b\\ "
     ]
    },
    {
     "name": "stdout",
     "output_type": "stream",
     "text": [
      "\b\b| "
     ]
    },
    {
     "name": "stdout",
     "output_type": "stream",
     "text": [
      "\b\b/ "
     ]
    },
    {
     "name": "stdout",
     "output_type": "stream",
     "text": [
      "\b\b- "
     ]
    },
    {
     "name": "stdout",
     "output_type": "stream",
     "text": [
      "\b\b\\ "
     ]
    },
    {
     "name": "stdout",
     "output_type": "stream",
     "text": [
      "\b\b| "
     ]
    },
    {
     "name": "stdout",
     "output_type": "stream",
     "text": [
      "\b\b/ "
     ]
    },
    {
     "name": "stdout",
     "output_type": "stream",
     "text": [
      "\b\b- "
     ]
    },
    {
     "name": "stdout",
     "output_type": "stream",
     "text": [
      "\b\b\\ "
     ]
    },
    {
     "name": "stdout",
     "output_type": "stream",
     "text": [
      "\b\b| "
     ]
    },
    {
     "name": "stdout",
     "output_type": "stream",
     "text": [
      "\b\b/ "
     ]
    },
    {
     "name": "stdout",
     "output_type": "stream",
     "text": [
      "\b\b- "
     ]
    },
    {
     "name": "stdout",
     "output_type": "stream",
     "text": [
      "\b\b\\ "
     ]
    },
    {
     "name": "stdout",
     "output_type": "stream",
     "text": [
      "\b\b| "
     ]
    },
    {
     "name": "stdout",
     "output_type": "stream",
     "text": [
      "\b\b/ "
     ]
    },
    {
     "name": "stdout",
     "output_type": "stream",
     "text": [
      "\b\b- "
     ]
    },
    {
     "name": "stdout",
     "output_type": "stream",
     "text": [
      "\b\b\\ "
     ]
    },
    {
     "name": "stdout",
     "output_type": "stream",
     "text": [
      "\b\b| "
     ]
    },
    {
     "name": "stdout",
     "output_type": "stream",
     "text": [
      "\b\b/ "
     ]
    },
    {
     "name": "stdout",
     "output_type": "stream",
     "text": [
      "\b\b- "
     ]
    },
    {
     "name": "stdout",
     "output_type": "stream",
     "text": [
      "\b\b\\ "
     ]
    },
    {
     "name": "stdout",
     "output_type": "stream",
     "text": [
      "\b\b| "
     ]
    },
    {
     "name": "stdout",
     "output_type": "stream",
     "text": [
      "\b\b/ "
     ]
    },
    {
     "name": "stdout",
     "output_type": "stream",
     "text": [
      "\b\b- "
     ]
    },
    {
     "name": "stdout",
     "output_type": "stream",
     "text": [
      "\b\b\\ "
     ]
    },
    {
     "name": "stdout",
     "output_type": "stream",
     "text": [
      "\b\b| "
     ]
    },
    {
     "name": "stdout",
     "output_type": "stream",
     "text": [
      "\b\b/ "
     ]
    },
    {
     "name": "stdout",
     "output_type": "stream",
     "text": [
      "\b\b- "
     ]
    },
    {
     "name": "stdout",
     "output_type": "stream",
     "text": [
      "\b\b\\ "
     ]
    },
    {
     "name": "stdout",
     "output_type": "stream",
     "text": [
      "\b\b| "
     ]
    },
    {
     "name": "stdout",
     "output_type": "stream",
     "text": [
      "\b\b/ "
     ]
    },
    {
     "name": "stdout",
     "output_type": "stream",
     "text": [
      "\b\b- "
     ]
    },
    {
     "name": "stdout",
     "output_type": "stream",
     "text": [
      "\b\b\\ "
     ]
    },
    {
     "name": "stdout",
     "output_type": "stream",
     "text": [
      "\b\b| "
     ]
    },
    {
     "name": "stdout",
     "output_type": "stream",
     "text": [
      "\b\b/ "
     ]
    },
    {
     "name": "stdout",
     "output_type": "stream",
     "text": [
      "\b\b- "
     ]
    },
    {
     "name": "stdout",
     "output_type": "stream",
     "text": [
      "\b\b\\ "
     ]
    },
    {
     "name": "stdout",
     "output_type": "stream",
     "text": [
      "\b\b| "
     ]
    },
    {
     "name": "stdout",
     "output_type": "stream",
     "text": [
      "\b\b/ "
     ]
    },
    {
     "name": "stdout",
     "output_type": "stream",
     "text": [
      "\b\b- "
     ]
    },
    {
     "name": "stdout",
     "output_type": "stream",
     "text": [
      "\b\b\\ "
     ]
    },
    {
     "name": "stdout",
     "output_type": "stream",
     "text": [
      "\b\b| "
     ]
    },
    {
     "name": "stdout",
     "output_type": "stream",
     "text": [
      "\b\b/ "
     ]
    },
    {
     "name": "stdout",
     "output_type": "stream",
     "text": [
      "\b\b- "
     ]
    },
    {
     "name": "stdout",
     "output_type": "stream",
     "text": [
      "\b\b\\ "
     ]
    },
    {
     "name": "stdout",
     "output_type": "stream",
     "text": [
      "\b\b| "
     ]
    },
    {
     "name": "stdout",
     "output_type": "stream",
     "text": [
      "\b\b/ "
     ]
    },
    {
     "name": "stdout",
     "output_type": "stream",
     "text": [
      "\b\b- "
     ]
    },
    {
     "name": "stdout",
     "output_type": "stream",
     "text": [
      "\b\b\\ "
     ]
    },
    {
     "name": "stdout",
     "output_type": "stream",
     "text": [
      "\b\b| "
     ]
    },
    {
     "name": "stdout",
     "output_type": "stream",
     "text": [
      "\b\b/ "
     ]
    },
    {
     "name": "stdout",
     "output_type": "stream",
     "text": [
      "\b\b- "
     ]
    },
    {
     "name": "stdout",
     "output_type": "stream",
     "text": [
      "\b\b\\ "
     ]
    },
    {
     "name": "stdout",
     "output_type": "stream",
     "text": [
      "\b\b| "
     ]
    },
    {
     "name": "stdout",
     "output_type": "stream",
     "text": [
      "\b\b/ "
     ]
    },
    {
     "name": "stdout",
     "output_type": "stream",
     "text": [
      "\b\b- "
     ]
    },
    {
     "name": "stdout",
     "output_type": "stream",
     "text": [
      "\b\b\\ "
     ]
    },
    {
     "name": "stdout",
     "output_type": "stream",
     "text": [
      "\b\b| "
     ]
    },
    {
     "name": "stdout",
     "output_type": "stream",
     "text": [
      "\b\b/ "
     ]
    },
    {
     "name": "stdout",
     "output_type": "stream",
     "text": [
      "\b\b- "
     ]
    },
    {
     "name": "stdout",
     "output_type": "stream",
     "text": [
      "\b\b\\ "
     ]
    },
    {
     "name": "stdout",
     "output_type": "stream",
     "text": [
      "\b\b| "
     ]
    },
    {
     "name": "stdout",
     "output_type": "stream",
     "text": [
      "\b\b/ "
     ]
    },
    {
     "name": "stdout",
     "output_type": "stream",
     "text": [
      "\b\b- "
     ]
    },
    {
     "name": "stdout",
     "output_type": "stream",
     "text": [
      "\b\b\\ "
     ]
    },
    {
     "name": "stdout",
     "output_type": "stream",
     "text": [
      "\b\b| "
     ]
    },
    {
     "name": "stdout",
     "output_type": "stream",
     "text": [
      "\b\b/ "
     ]
    },
    {
     "name": "stdout",
     "output_type": "stream",
     "text": [
      "\b\b- "
     ]
    },
    {
     "name": "stdout",
     "output_type": "stream",
     "text": [
      "\b\b\\ "
     ]
    },
    {
     "name": "stdout",
     "output_type": "stream",
     "text": [
      "\b\b| "
     ]
    },
    {
     "name": "stdout",
     "output_type": "stream",
     "text": [
      "\b\b/ "
     ]
    },
    {
     "name": "stdout",
     "output_type": "stream",
     "text": [
      "\b\b- "
     ]
    },
    {
     "name": "stdout",
     "output_type": "stream",
     "text": [
      "\b\b\\ "
     ]
    },
    {
     "name": "stdout",
     "output_type": "stream",
     "text": [
      "\b\b| "
     ]
    },
    {
     "name": "stdout",
     "output_type": "stream",
     "text": [
      "\b\b/ "
     ]
    },
    {
     "name": "stdout",
     "output_type": "stream",
     "text": [
      "\b\b- "
     ]
    },
    {
     "name": "stdout",
     "output_type": "stream",
     "text": [
      "\b\b\\ "
     ]
    },
    {
     "name": "stdout",
     "output_type": "stream",
     "text": [
      "\b\b| "
     ]
    },
    {
     "name": "stdout",
     "output_type": "stream",
     "text": [
      "\b\b/ "
     ]
    },
    {
     "name": "stdout",
     "output_type": "stream",
     "text": [
      "\b\b- "
     ]
    },
    {
     "name": "stdout",
     "output_type": "stream",
     "text": [
      "\b\b\\ "
     ]
    },
    {
     "name": "stdout",
     "output_type": "stream",
     "text": [
      "\b\b| "
     ]
    },
    {
     "name": "stdout",
     "output_type": "stream",
     "text": [
      "\b\b/ "
     ]
    },
    {
     "name": "stdout",
     "output_type": "stream",
     "text": [
      "\b\b- "
     ]
    },
    {
     "name": "stdout",
     "output_type": "stream",
     "text": [
      "\b\b\\ "
     ]
    },
    {
     "name": "stdout",
     "output_type": "stream",
     "text": [
      "\b\b| "
     ]
    },
    {
     "name": "stdout",
     "output_type": "stream",
     "text": [
      "\b\b/ "
     ]
    },
    {
     "name": "stdout",
     "output_type": "stream",
     "text": [
      "\b\b- "
     ]
    },
    {
     "name": "stdout",
     "output_type": "stream",
     "text": [
      "\b\b\\ "
     ]
    },
    {
     "name": "stdout",
     "output_type": "stream",
     "text": [
      "\b\b| "
     ]
    },
    {
     "name": "stdout",
     "output_type": "stream",
     "text": [
      "\b\b/ "
     ]
    },
    {
     "name": "stdout",
     "output_type": "stream",
     "text": [
      "\b\b- "
     ]
    },
    {
     "name": "stdout",
     "output_type": "stream",
     "text": [
      "\b\b\\ "
     ]
    },
    {
     "name": "stdout",
     "output_type": "stream",
     "text": [
      "\b\b| "
     ]
    },
    {
     "name": "stdout",
     "output_type": "stream",
     "text": [
      "\b\b/ "
     ]
    },
    {
     "name": "stdout",
     "output_type": "stream",
     "text": [
      "\b\b- "
     ]
    },
    {
     "name": "stdout",
     "output_type": "stream",
     "text": [
      "\b\b\\ "
     ]
    },
    {
     "name": "stdout",
     "output_type": "stream",
     "text": [
      "\b\b| "
     ]
    },
    {
     "name": "stdout",
     "output_type": "stream",
     "text": [
      "\b\b/ "
     ]
    },
    {
     "name": "stdout",
     "output_type": "stream",
     "text": [
      "\b\b- "
     ]
    },
    {
     "name": "stdout",
     "output_type": "stream",
     "text": [
      "\b\b\\ "
     ]
    },
    {
     "name": "stdout",
     "output_type": "stream",
     "text": [
      "\b\b| "
     ]
    },
    {
     "name": "stdout",
     "output_type": "stream",
     "text": [
      "\b\b/ "
     ]
    },
    {
     "name": "stdout",
     "output_type": "stream",
     "text": [
      "\b\b- "
     ]
    },
    {
     "name": "stdout",
     "output_type": "stream",
     "text": [
      "\b\b\\ "
     ]
    },
    {
     "name": "stdout",
     "output_type": "stream",
     "text": [
      "\b\b| "
     ]
    },
    {
     "name": "stdout",
     "output_type": "stream",
     "text": [
      "\b\b/ "
     ]
    },
    {
     "name": "stdout",
     "output_type": "stream",
     "text": [
      "\b\b- "
     ]
    },
    {
     "name": "stdout",
     "output_type": "stream",
     "text": [
      "\b\b\\ "
     ]
    },
    {
     "name": "stdout",
     "output_type": "stream",
     "text": [
      "\b\b| "
     ]
    },
    {
     "name": "stdout",
     "output_type": "stream",
     "text": [
      "\b\b/ "
     ]
    },
    {
     "name": "stdout",
     "output_type": "stream",
     "text": [
      "\b\b- "
     ]
    },
    {
     "name": "stdout",
     "output_type": "stream",
     "text": [
      "\b\b\\ "
     ]
    },
    {
     "name": "stdout",
     "output_type": "stream",
     "text": [
      "\b\b| "
     ]
    },
    {
     "name": "stdout",
     "output_type": "stream",
     "text": [
      "\b\b/ "
     ]
    },
    {
     "name": "stdout",
     "output_type": "stream",
     "text": [
      "\b\b- "
     ]
    },
    {
     "name": "stdout",
     "output_type": "stream",
     "text": [
      "\b\b\\ "
     ]
    },
    {
     "name": "stdout",
     "output_type": "stream",
     "text": [
      "\b\b| "
     ]
    },
    {
     "name": "stdout",
     "output_type": "stream",
     "text": [
      "\b\b/ "
     ]
    },
    {
     "name": "stdout",
     "output_type": "stream",
     "text": [
      "\b\b- "
     ]
    },
    {
     "name": "stdout",
     "output_type": "stream",
     "text": [
      "\b\b\\ "
     ]
    },
    {
     "name": "stdout",
     "output_type": "stream",
     "text": [
      "\b\b| "
     ]
    },
    {
     "name": "stdout",
     "output_type": "stream",
     "text": [
      "\b\b/ "
     ]
    },
    {
     "name": "stdout",
     "output_type": "stream",
     "text": [
      "\b\b- "
     ]
    },
    {
     "name": "stdout",
     "output_type": "stream",
     "text": [
      "\b\b\\ "
     ]
    },
    {
     "name": "stdout",
     "output_type": "stream",
     "text": [
      "\b\b| "
     ]
    },
    {
     "name": "stdout",
     "output_type": "stream",
     "text": [
      "\b\b/ "
     ]
    },
    {
     "name": "stdout",
     "output_type": "stream",
     "text": [
      "\b\b- "
     ]
    },
    {
     "name": "stdout",
     "output_type": "stream",
     "text": [
      "\b\b\\ "
     ]
    },
    {
     "name": "stdout",
     "output_type": "stream",
     "text": [
      "\b\b| "
     ]
    },
    {
     "name": "stdout",
     "output_type": "stream",
     "text": [
      "\b\b/ "
     ]
    },
    {
     "name": "stdout",
     "output_type": "stream",
     "text": [
      "\b\b- "
     ]
    },
    {
     "name": "stdout",
     "output_type": "stream",
     "text": [
      "\b\b\\ "
     ]
    },
    {
     "name": "stdout",
     "output_type": "stream",
     "text": [
      "\b\b| "
     ]
    },
    {
     "name": "stdout",
     "output_type": "stream",
     "text": [
      "\b\b/ "
     ]
    },
    {
     "name": "stdout",
     "output_type": "stream",
     "text": [
      "\b\b- "
     ]
    },
    {
     "name": "stdout",
     "output_type": "stream",
     "text": [
      "\b\b\\ "
     ]
    },
    {
     "name": "stdout",
     "output_type": "stream",
     "text": [
      "\b\b| "
     ]
    },
    {
     "name": "stdout",
     "output_type": "stream",
     "text": [
      "\b\b/ "
     ]
    },
    {
     "name": "stdout",
     "output_type": "stream",
     "text": [
      "\b\b- "
     ]
    },
    {
     "name": "stdout",
     "output_type": "stream",
     "text": [
      "\b\b\\ "
     ]
    },
    {
     "name": "stdout",
     "output_type": "stream",
     "text": [
      "\b\b| "
     ]
    },
    {
     "name": "stdout",
     "output_type": "stream",
     "text": [
      "\b\b/ "
     ]
    },
    {
     "name": "stdout",
     "output_type": "stream",
     "text": [
      "\b\b- "
     ]
    },
    {
     "name": "stdout",
     "output_type": "stream",
     "text": [
      "\b\b\\ "
     ]
    },
    {
     "name": "stdout",
     "output_type": "stream",
     "text": [
      "\b\b| "
     ]
    },
    {
     "name": "stdout",
     "output_type": "stream",
     "text": [
      "\b\b/ "
     ]
    },
    {
     "name": "stdout",
     "output_type": "stream",
     "text": [
      "\b\b- "
     ]
    },
    {
     "name": "stdout",
     "output_type": "stream",
     "text": [
      "\b\b\\ "
     ]
    },
    {
     "name": "stdout",
     "output_type": "stream",
     "text": [
      "\b\b| "
     ]
    },
    {
     "name": "stdout",
     "output_type": "stream",
     "text": [
      "\b\b/ "
     ]
    },
    {
     "name": "stdout",
     "output_type": "stream",
     "text": [
      "\b\b- "
     ]
    },
    {
     "name": "stdout",
     "output_type": "stream",
     "text": [
      "\b\b\\ "
     ]
    },
    {
     "name": "stdout",
     "output_type": "stream",
     "text": [
      "\b\b| "
     ]
    },
    {
     "name": "stdout",
     "output_type": "stream",
     "text": [
      "\b\b/ "
     ]
    },
    {
     "name": "stdout",
     "output_type": "stream",
     "text": [
      "\b\b- "
     ]
    },
    {
     "name": "stdout",
     "output_type": "stream",
     "text": [
      "\b\b\\ "
     ]
    },
    {
     "name": "stdout",
     "output_type": "stream",
     "text": [
      "\b\b| "
     ]
    },
    {
     "name": "stdout",
     "output_type": "stream",
     "text": [
      "\b\b/ "
     ]
    },
    {
     "name": "stdout",
     "output_type": "stream",
     "text": [
      "\b\b- "
     ]
    },
    {
     "name": "stdout",
     "output_type": "stream",
     "text": [
      "\b\b\\ "
     ]
    },
    {
     "name": "stdout",
     "output_type": "stream",
     "text": [
      "\b\b| "
     ]
    },
    {
     "name": "stdout",
     "output_type": "stream",
     "text": [
      "\b\b/ "
     ]
    },
    {
     "name": "stdout",
     "output_type": "stream",
     "text": [
      "\b\b- "
     ]
    },
    {
     "name": "stdout",
     "output_type": "stream",
     "text": [
      "\b\b\\ "
     ]
    },
    {
     "name": "stdout",
     "output_type": "stream",
     "text": [
      "\b\b| "
     ]
    },
    {
     "name": "stdout",
     "output_type": "stream",
     "text": [
      "\b\b/ "
     ]
    },
    {
     "name": "stdout",
     "output_type": "stream",
     "text": [
      "\b\b- "
     ]
    },
    {
     "name": "stdout",
     "output_type": "stream",
     "text": [
      "\b\b\\ "
     ]
    },
    {
     "name": "stdout",
     "output_type": "stream",
     "text": [
      "\b\b| "
     ]
    },
    {
     "name": "stdout",
     "output_type": "stream",
     "text": [
      "\b\b/ "
     ]
    },
    {
     "name": "stdout",
     "output_type": "stream",
     "text": [
      "\b\b- "
     ]
    },
    {
     "name": "stdout",
     "output_type": "stream",
     "text": [
      "\b\b\\ "
     ]
    },
    {
     "name": "stdout",
     "output_type": "stream",
     "text": [
      "\b\bdone\r\n"
     ]
    },
    {
     "name": "stdout",
     "output_type": "stream",
     "text": [
      "\r\n",
      "## Package Plan ##\r\n",
      "\r\n",
      "  environment location: /opt/conda\r\n",
      "\r\n",
      "  added / updated specs:\r\n",
      "    - perl-perlio-gzip\r\n",
      "\r\n",
      "\r\n",
      "The following packages will be downloaded:\r\n",
      "\r\n",
      "    package                    |            build\r\n",
      "    ---------------------------|-----------------\r\n",
      "    perl-5.26.2                |    h36c2ea0_1008        15.4 MB  conda-forge\r\n",
      "    perl-perlio-gzip-0.20      |  pl526h84994c4_1          17 KB  bioconda\r\n",
      "    ------------------------------------------------------------\r\n",
      "                                           Total:        15.4 MB\r\n",
      "\r\n",
      "The following NEW packages will be INSTALLED:\r\n",
      "\r\n",
      "  perl-perlio-gzip   bioconda/linux-64::perl-perlio-gzip-0.20-pl526h84994c4_1\r\n",
      "\r\n",
      "The following packages will be DOWNGRADED:\r\n",
      "\r\n",
      "  perl                                    5.32.0-h36c2ea0_0 --> 5.26.2-h36c2ea0_1008\r\n",
      "\r\n",
      "\r\n",
      "\r\n",
      "Downloading and Extracting Packages\r\n",
      "\r",
      "perl-5.26.2          | 15.4 MB   |                                       |   0% "
     ]
    },
    {
     "name": "stdout",
     "output_type": "stream",
     "text": [
      "\r",
      "perl-5.26.2          | 15.4 MB   |                                       |   0% "
     ]
    },
    {
     "name": "stdout",
     "output_type": "stream",
     "text": [
      "\r",
      "perl-5.26.2          | 15.4 MB   | ##############1                       |  38% "
     ]
    },
    {
     "name": "stdout",
     "output_type": "stream",
     "text": [
      "\r",
      "perl-5.26.2          | 15.4 MB   | ##################################### | 100% \r",
      "perl-5.26.2          | 15.4 MB   | ##################################### | 100% \r\n",
      "\r",
      "perl-perlio-gzip-0.2 | 17 KB     |                                       |   0% "
     ]
    },
    {
     "name": "stdout",
     "output_type": "stream",
     "text": [
      "\r",
      "perl-perlio-gzip-0.2 | 17 KB     | ##################################### | 100% \r\n",
      "Preparing transaction: / "
     ]
    },
    {
     "name": "stdout",
     "output_type": "stream",
     "text": [
      "\b\b- "
     ]
    },
    {
     "name": "stdout",
     "output_type": "stream",
     "text": [
      "\b\bdone\r\n",
      "Verifying transaction: | "
     ]
    },
    {
     "name": "stdout",
     "output_type": "stream",
     "text": [
      "\b\b/ "
     ]
    },
    {
     "name": "stdout",
     "output_type": "stream",
     "text": [
      "\b\b- "
     ]
    },
    {
     "name": "stdout",
     "output_type": "stream",
     "text": [
      "\b\b\\ "
     ]
    },
    {
     "name": "stdout",
     "output_type": "stream",
     "text": [
      "\b\b| "
     ]
    },
    {
     "name": "stdout",
     "output_type": "stream",
     "text": [
      "\b\b/ "
     ]
    },
    {
     "name": "stdout",
     "output_type": "stream",
     "text": [
      "\b\bdone\r\n",
      "Executing transaction: \\ "
     ]
    },
    {
     "name": "stdout",
     "output_type": "stream",
     "text": [
      "\b\b| "
     ]
    },
    {
     "name": "stdout",
     "output_type": "stream",
     "text": [
      "\b\b/ "
     ]
    },
    {
     "name": "stdout",
     "output_type": "stream",
     "text": [
      "\b\b- "
     ]
    },
    {
     "name": "stdout",
     "output_type": "stream",
     "text": [
      "\b\b\\ "
     ]
    },
    {
     "name": "stdout",
     "output_type": "stream",
     "text": [
      "\b\b| "
     ]
    },
    {
     "name": "stdout",
     "output_type": "stream",
     "text": [
      "\b\b/ "
     ]
    },
    {
     "name": "stdout",
     "output_type": "stream",
     "text": [
      "\b\b- "
     ]
    },
    {
     "name": "stdout",
     "output_type": "stream",
     "text": [
      "\b\b\\ "
     ]
    },
    {
     "name": "stdout",
     "output_type": "stream",
     "text": [
      "\b\b| "
     ]
    },
    {
     "name": "stdout",
     "output_type": "stream",
     "text": [
      "\b\b/ "
     ]
    },
    {
     "name": "stdout",
     "output_type": "stream",
     "text": [
      "\b\b- "
     ]
    },
    {
     "name": "stdout",
     "output_type": "stream",
     "text": [
      "\b\b\\ "
     ]
    },
    {
     "name": "stdout",
     "output_type": "stream",
     "text": [
      "\b\b| "
     ]
    },
    {
     "name": "stdout",
     "output_type": "stream",
     "text": [
      "\b\b/ "
     ]
    },
    {
     "name": "stdout",
     "output_type": "stream",
     "text": [
      "\b\b- "
     ]
    },
    {
     "name": "stdout",
     "output_type": "stream",
     "text": [
      "\b\b\\ "
     ]
    },
    {
     "name": "stdout",
     "output_type": "stream",
     "text": [
      "\b\b| "
     ]
    },
    {
     "name": "stdout",
     "output_type": "stream",
     "text": [
      "\b\b/ "
     ]
    },
    {
     "name": "stdout",
     "output_type": "stream",
     "text": [
      "\b\b- "
     ]
    },
    {
     "name": "stdout",
     "output_type": "stream",
     "text": [
      "\b\b\\ "
     ]
    },
    {
     "name": "stdout",
     "output_type": "stream",
     "text": [
      "\b\b| "
     ]
    },
    {
     "name": "stdout",
     "output_type": "stream",
     "text": [
      "\b\b/ "
     ]
    },
    {
     "name": "stdout",
     "output_type": "stream",
     "text": [
      "\b\b- "
     ]
    },
    {
     "name": "stdout",
     "output_type": "stream",
     "text": [
      "\b\b\\ "
     ]
    },
    {
     "name": "stdout",
     "output_type": "stream",
     "text": [
      "\b\b| "
     ]
    },
    {
     "name": "stdout",
     "output_type": "stream",
     "text": [
      "\b\b/ "
     ]
    },
    {
     "name": "stdout",
     "output_type": "stream",
     "text": [
      "\b\b- "
     ]
    },
    {
     "name": "stdout",
     "output_type": "stream",
     "text": [
      "\b\b\\ "
     ]
    },
    {
     "name": "stdout",
     "output_type": "stream",
     "text": [
      "\b\b| "
     ]
    },
    {
     "name": "stdout",
     "output_type": "stream",
     "text": [
      "\b\b/ "
     ]
    },
    {
     "name": "stdout",
     "output_type": "stream",
     "text": [
      "\b\b- "
     ]
    },
    {
     "name": "stdout",
     "output_type": "stream",
     "text": [
      "\b\b\\ "
     ]
    },
    {
     "name": "stdout",
     "output_type": "stream",
     "text": [
      "\b\b| "
     ]
    },
    {
     "name": "stdout",
     "output_type": "stream",
     "text": [
      "\b\b/ "
     ]
    },
    {
     "name": "stdout",
     "output_type": "stream",
     "text": [
      "\b\b- "
     ]
    },
    {
     "name": "stdout",
     "output_type": "stream",
     "text": [
      "\b\b\\ "
     ]
    },
    {
     "name": "stdout",
     "output_type": "stream",
     "text": [
      "\b\b| "
     ]
    },
    {
     "name": "stdout",
     "output_type": "stream",
     "text": [
      "\b\b/ "
     ]
    },
    {
     "name": "stdout",
     "output_type": "stream",
     "text": [
      "\b\b- "
     ]
    },
    {
     "name": "stdout",
     "output_type": "stream",
     "text": [
      "\b\b\\ "
     ]
    },
    {
     "name": "stdout",
     "output_type": "stream",
     "text": [
      "\b\b| "
     ]
    },
    {
     "name": "stdout",
     "output_type": "stream",
     "text": [
      "\b\b/ "
     ]
    },
    {
     "name": "stdout",
     "output_type": "stream",
     "text": [
      "\b\b- "
     ]
    },
    {
     "name": "stdout",
     "output_type": "stream",
     "text": [
      "\b\b\\ "
     ]
    },
    {
     "name": "stdout",
     "output_type": "stream",
     "text": [
      "\b\b| "
     ]
    },
    {
     "name": "stdout",
     "output_type": "stream",
     "text": [
      "\b\b/ "
     ]
    },
    {
     "name": "stdout",
     "output_type": "stream",
     "text": [
      "\b\b- "
     ]
    },
    {
     "name": "stdout",
     "output_type": "stream",
     "text": [
      "\b\b\\ "
     ]
    },
    {
     "name": "stdout",
     "output_type": "stream",
     "text": [
      "\b\b| "
     ]
    },
    {
     "name": "stdout",
     "output_type": "stream",
     "text": [
      "\b\b/ "
     ]
    },
    {
     "name": "stdout",
     "output_type": "stream",
     "text": [
      "\b\b- "
     ]
    },
    {
     "name": "stdout",
     "output_type": "stream",
     "text": [
      "\b\b\\ "
     ]
    },
    {
     "name": "stdout",
     "output_type": "stream",
     "text": [
      "\b\b| "
     ]
    },
    {
     "name": "stdout",
     "output_type": "stream",
     "text": [
      "\b\b/ "
     ]
    },
    {
     "name": "stdout",
     "output_type": "stream",
     "text": [
      "\b\b- "
     ]
    },
    {
     "name": "stdout",
     "output_type": "stream",
     "text": [
      "\b\b\\ "
     ]
    },
    {
     "name": "stdout",
     "output_type": "stream",
     "text": [
      "\b\b| "
     ]
    },
    {
     "name": "stdout",
     "output_type": "stream",
     "text": [
      "\b\b/ "
     ]
    },
    {
     "name": "stdout",
     "output_type": "stream",
     "text": [
      "\b\b- "
     ]
    },
    {
     "name": "stdout",
     "output_type": "stream",
     "text": [
      "\b\b\\ "
     ]
    },
    {
     "name": "stdout",
     "output_type": "stream",
     "text": [
      "\b\b| "
     ]
    },
    {
     "name": "stdout",
     "output_type": "stream",
     "text": [
      "\b\b/ "
     ]
    },
    {
     "name": "stdout",
     "output_type": "stream",
     "text": [
      "\b\b- "
     ]
    },
    {
     "name": "stdout",
     "output_type": "stream",
     "text": [
      "\b\b\\ "
     ]
    },
    {
     "name": "stdout",
     "output_type": "stream",
     "text": [
      "\b\b| "
     ]
    },
    {
     "name": "stdout",
     "output_type": "stream",
     "text": [
      "\b\b/ "
     ]
    },
    {
     "name": "stdout",
     "output_type": "stream",
     "text": [
      "\b\b- "
     ]
    },
    {
     "name": "stdout",
     "output_type": "stream",
     "text": [
      "\b\b\\ "
     ]
    },
    {
     "name": "stdout",
     "output_type": "stream",
     "text": [
      "\b\b| "
     ]
    },
    {
     "name": "stdout",
     "output_type": "stream",
     "text": [
      "\b\b/ "
     ]
    },
    {
     "name": "stdout",
     "output_type": "stream",
     "text": [
      "\b\b- "
     ]
    },
    {
     "name": "stdout",
     "output_type": "stream",
     "text": [
      "\b\b\\ "
     ]
    },
    {
     "name": "stdout",
     "output_type": "stream",
     "text": [
      "\b\b| "
     ]
    },
    {
     "name": "stdout",
     "output_type": "stream",
     "text": [
      "\b\b/ "
     ]
    },
    {
     "name": "stdout",
     "output_type": "stream",
     "text": [
      "\b\b- "
     ]
    },
    {
     "name": "stdout",
     "output_type": "stream",
     "text": [
      "\b\b\\ "
     ]
    },
    {
     "name": "stdout",
     "output_type": "stream",
     "text": [
      "\b\b| "
     ]
    },
    {
     "name": "stdout",
     "output_type": "stream",
     "text": [
      "\b\b/ "
     ]
    },
    {
     "name": "stdout",
     "output_type": "stream",
     "text": [
      "\b\b- "
     ]
    },
    {
     "name": "stdout",
     "output_type": "stream",
     "text": [
      "\b\b\\ "
     ]
    },
    {
     "name": "stdout",
     "output_type": "stream",
     "text": [
      "\b\b| "
     ]
    },
    {
     "name": "stdout",
     "output_type": "stream",
     "text": [
      "\b\b/ "
     ]
    },
    {
     "name": "stdout",
     "output_type": "stream",
     "text": [
      "\b\b- "
     ]
    },
    {
     "name": "stdout",
     "output_type": "stream",
     "text": [
      "\b\b\\ "
     ]
    },
    {
     "name": "stdout",
     "output_type": "stream",
     "text": [
      "\b\b| "
     ]
    },
    {
     "name": "stdout",
     "output_type": "stream",
     "text": [
      "\b\b/ "
     ]
    },
    {
     "name": "stdout",
     "output_type": "stream",
     "text": [
      "\b\b- "
     ]
    },
    {
     "name": "stdout",
     "output_type": "stream",
     "text": [
      "\b\b\\ "
     ]
    },
    {
     "name": "stdout",
     "output_type": "stream",
     "text": [
      "\b\b| "
     ]
    },
    {
     "name": "stdout",
     "output_type": "stream",
     "text": [
      "\b\b/ "
     ]
    },
    {
     "name": "stdout",
     "output_type": "stream",
     "text": [
      "\b\b- "
     ]
    },
    {
     "name": "stdout",
     "output_type": "stream",
     "text": [
      "\b\b\\ "
     ]
    },
    {
     "name": "stdout",
     "output_type": "stream",
     "text": [
      "\b\b| "
     ]
    },
    {
     "name": "stdout",
     "output_type": "stream",
     "text": [
      "\b\b/ "
     ]
    },
    {
     "name": "stdout",
     "output_type": "stream",
     "text": [
      "\b\b- "
     ]
    },
    {
     "name": "stdout",
     "output_type": "stream",
     "text": [
      "\b\b\\ "
     ]
    },
    {
     "name": "stdout",
     "output_type": "stream",
     "text": [
      "\b\b| "
     ]
    },
    {
     "name": "stdout",
     "output_type": "stream",
     "text": [
      "\b\b/ "
     ]
    },
    {
     "name": "stdout",
     "output_type": "stream",
     "text": [
      "\b\b- "
     ]
    },
    {
     "name": "stdout",
     "output_type": "stream",
     "text": [
      "\b\b\\ "
     ]
    },
    {
     "name": "stdout",
     "output_type": "stream",
     "text": [
      "\b\b| "
     ]
    },
    {
     "name": "stdout",
     "output_type": "stream",
     "text": [
      "\b\b/ "
     ]
    },
    {
     "name": "stdout",
     "output_type": "stream",
     "text": [
      "\b\b- "
     ]
    },
    {
     "name": "stdout",
     "output_type": "stream",
     "text": [
      "\b\b\\ "
     ]
    },
    {
     "name": "stdout",
     "output_type": "stream",
     "text": [
      "\b\b| "
     ]
    },
    {
     "name": "stdout",
     "output_type": "stream",
     "text": [
      "\b\b/ "
     ]
    },
    {
     "name": "stdout",
     "output_type": "stream",
     "text": [
      "\b\b- "
     ]
    },
    {
     "name": "stdout",
     "output_type": "stream",
     "text": [
      "\b\b\\ "
     ]
    },
    {
     "name": "stdout",
     "output_type": "stream",
     "text": [
      "\b\b| "
     ]
    },
    {
     "name": "stdout",
     "output_type": "stream",
     "text": [
      "\b\b/ "
     ]
    },
    {
     "name": "stdout",
     "output_type": "stream",
     "text": [
      "\b\b- "
     ]
    },
    {
     "name": "stdout",
     "output_type": "stream",
     "text": [
      "\b\b\\ "
     ]
    },
    {
     "name": "stdout",
     "output_type": "stream",
     "text": [
      "\b\b| "
     ]
    },
    {
     "name": "stdout",
     "output_type": "stream",
     "text": [
      "\b\b/ "
     ]
    },
    {
     "name": "stdout",
     "output_type": "stream",
     "text": [
      "\b\b- "
     ]
    },
    {
     "name": "stdout",
     "output_type": "stream",
     "text": [
      "\b\b\\ "
     ]
    },
    {
     "name": "stdout",
     "output_type": "stream",
     "text": [
      "\b\b| "
     ]
    },
    {
     "name": "stdout",
     "output_type": "stream",
     "text": [
      "\b\b/ "
     ]
    },
    {
     "name": "stdout",
     "output_type": "stream",
     "text": [
      "\b\b- "
     ]
    },
    {
     "name": "stdout",
     "output_type": "stream",
     "text": [
      "\b\b\\ "
     ]
    },
    {
     "name": "stdout",
     "output_type": "stream",
     "text": [
      "\b\b| "
     ]
    },
    {
     "name": "stdout",
     "output_type": "stream",
     "text": [
      "\b\b/ "
     ]
    },
    {
     "name": "stdout",
     "output_type": "stream",
     "text": [
      "\b\b- "
     ]
    },
    {
     "name": "stdout",
     "output_type": "stream",
     "text": [
      "\b\b\\ "
     ]
    },
    {
     "name": "stdout",
     "output_type": "stream",
     "text": [
      "\b\b| "
     ]
    },
    {
     "name": "stdout",
     "output_type": "stream",
     "text": [
      "\b\b/ "
     ]
    },
    {
     "name": "stdout",
     "output_type": "stream",
     "text": [
      "\b\b- "
     ]
    },
    {
     "name": "stdout",
     "output_type": "stream",
     "text": [
      "\b\b\\ "
     ]
    },
    {
     "name": "stdout",
     "output_type": "stream",
     "text": [
      "\b\b| "
     ]
    },
    {
     "name": "stdout",
     "output_type": "stream",
     "text": [
      "\b\b/ "
     ]
    },
    {
     "name": "stdout",
     "output_type": "stream",
     "text": [
      "\b\b- "
     ]
    },
    {
     "name": "stdout",
     "output_type": "stream",
     "text": [
      "\b\b\\ "
     ]
    },
    {
     "name": "stdout",
     "output_type": "stream",
     "text": [
      "\b\b| "
     ]
    },
    {
     "name": "stdout",
     "output_type": "stream",
     "text": [
      "\b\b/ "
     ]
    },
    {
     "name": "stdout",
     "output_type": "stream",
     "text": [
      "\b\b- "
     ]
    },
    {
     "name": "stdout",
     "output_type": "stream",
     "text": [
      "\b\b\\ "
     ]
    },
    {
     "name": "stdout",
     "output_type": "stream",
     "text": [
      "\b\b| "
     ]
    },
    {
     "name": "stdout",
     "output_type": "stream",
     "text": [
      "\b\b/ "
     ]
    },
    {
     "name": "stdout",
     "output_type": "stream",
     "text": [
      "\b\b- "
     ]
    },
    {
     "name": "stdout",
     "output_type": "stream",
     "text": [
      "\b\b\\ "
     ]
    },
    {
     "name": "stdout",
     "output_type": "stream",
     "text": [
      "\b\b| "
     ]
    },
    {
     "name": "stdout",
     "output_type": "stream",
     "text": [
      "\b\b/ "
     ]
    },
    {
     "name": "stdout",
     "output_type": "stream",
     "text": [
      "\b\b- "
     ]
    },
    {
     "name": "stdout",
     "output_type": "stream",
     "text": [
      "\b\b\\ "
     ]
    },
    {
     "name": "stdout",
     "output_type": "stream",
     "text": [
      "\b\b| "
     ]
    },
    {
     "name": "stdout",
     "output_type": "stream",
     "text": [
      "\b\b/ "
     ]
    },
    {
     "name": "stdout",
     "output_type": "stream",
     "text": [
      "\b\b- "
     ]
    },
    {
     "name": "stdout",
     "output_type": "stream",
     "text": [
      "\b\b\\ "
     ]
    },
    {
     "name": "stdout",
     "output_type": "stream",
     "text": [
      "\b\b| "
     ]
    },
    {
     "name": "stdout",
     "output_type": "stream",
     "text": [
      "\b\b/ "
     ]
    },
    {
     "name": "stdout",
     "output_type": "stream",
     "text": [
      "\b\b- "
     ]
    },
    {
     "name": "stdout",
     "output_type": "stream",
     "text": [
      "\b\b\\ "
     ]
    },
    {
     "name": "stdout",
     "output_type": "stream",
     "text": [
      "\b\b| "
     ]
    },
    {
     "name": "stdout",
     "output_type": "stream",
     "text": [
      "\b\b/ "
     ]
    },
    {
     "name": "stdout",
     "output_type": "stream",
     "text": [
      "\b\b- "
     ]
    },
    {
     "name": "stdout",
     "output_type": "stream",
     "text": [
      "\b\b\\ "
     ]
    },
    {
     "name": "stdout",
     "output_type": "stream",
     "text": [
      "\b\b| "
     ]
    },
    {
     "name": "stdout",
     "output_type": "stream",
     "text": [
      "\b\b/ "
     ]
    },
    {
     "name": "stdout",
     "output_type": "stream",
     "text": [
      "\b\b- "
     ]
    },
    {
     "name": "stdout",
     "output_type": "stream",
     "text": [
      "\b\b\\ "
     ]
    },
    {
     "name": "stdout",
     "output_type": "stream",
     "text": [
      "\b\b| "
     ]
    },
    {
     "name": "stdout",
     "output_type": "stream",
     "text": [
      "\b\b/ "
     ]
    },
    {
     "name": "stdout",
     "output_type": "stream",
     "text": [
      "\b\b- "
     ]
    },
    {
     "name": "stdout",
     "output_type": "stream",
     "text": [
      "\b\b\\ "
     ]
    },
    {
     "name": "stdout",
     "output_type": "stream",
     "text": [
      "\b\b| "
     ]
    },
    {
     "name": "stdout",
     "output_type": "stream",
     "text": [
      "\b\b/ "
     ]
    },
    {
     "name": "stdout",
     "output_type": "stream",
     "text": [
      "\b\b- "
     ]
    },
    {
     "name": "stdout",
     "output_type": "stream",
     "text": [
      "\b\b\\ "
     ]
    },
    {
     "name": "stdout",
     "output_type": "stream",
     "text": [
      "\b\b| "
     ]
    },
    {
     "name": "stdout",
     "output_type": "stream",
     "text": [
      "\b\b/ "
     ]
    },
    {
     "name": "stdout",
     "output_type": "stream",
     "text": [
      "\b\b- "
     ]
    },
    {
     "name": "stdout",
     "output_type": "stream",
     "text": [
      "\b\b\\ "
     ]
    },
    {
     "name": "stdout",
     "output_type": "stream",
     "text": [
      "\b\b| "
     ]
    },
    {
     "name": "stdout",
     "output_type": "stream",
     "text": [
      "\b\b/ "
     ]
    },
    {
     "name": "stdout",
     "output_type": "stream",
     "text": [
      "\b\bdone\r\n"
     ]
    }
   ],
   "source": [
    "#apt-get -y install libperlio-gzip-perl\n",
    "!conda install -c bioconda perl-perlio-gzip -y"
   ]
  },
  {
   "cell_type": "code",
   "execution_count": 7,
   "id": "seasonal-quick",
   "metadata": {
    "execution": {
     "iopub.execute_input": "2021-05-24T22:57:39.325636Z",
     "iopub.status.busy": "2021-05-24T22:57:39.324667Z",
     "iopub.status.idle": "2021-05-24T22:57:39.327740Z",
     "shell.execute_reply": "2021-05-24T22:57:39.327227Z"
    },
    "papermill": {
     "duration": 0.306738,
     "end_time": "2021-05-24T22:57:39.327888",
     "exception": false,
     "start_time": "2021-05-24T22:57:39.021150",
     "status": "completed"
    },
    "tags": []
   },
   "outputs": [],
   "source": [
    "import os\n",
    "#os.environ['LD_LIBRARY_PATH'] = f'{os.environ[\"LD_LIBRARY_PATH\"]}:/opt/kaldi/tools/openfst-1.6.7/lib:/opt/kaldi/src/lib'\n",
    "os.environ['LD_LIBRARY_PATH'] = '/opt/conda/lib:/opt/kaldi/tools/openfst-1.6.7/lib:/opt/kaldi/src/lib'"
   ]
  },
  {
   "cell_type": "code",
   "execution_count": 8,
   "id": "unlikely-catering",
   "metadata": {
    "execution": {
     "iopub.execute_input": "2021-05-24T22:57:39.925134Z",
     "iopub.status.busy": "2021-05-24T22:57:39.924440Z",
     "iopub.status.idle": "2021-05-24T22:57:41.374169Z",
     "shell.execute_reply": "2021-05-24T22:57:41.374663Z"
    },
    "papermill": {
     "duration": 1.750963,
     "end_time": "2021-05-24T22:57:41.374853",
     "exception": false,
     "start_time": "2021-05-24T22:57:39.623890",
     "status": "completed"
    },
    "tags": []
   },
   "outputs": [],
   "source": [
    "!cat path.sh|sed -e 's/~\\/apps/\\/opt/' > tmp\n",
    "!mv tmp path.sh"
   ]
  },
  {
   "cell_type": "code",
   "execution_count": 9,
   "id": "simplified-testing",
   "metadata": {
    "execution": {
     "iopub.execute_input": "2021-05-24T22:57:41.978473Z",
     "iopub.status.busy": "2021-05-24T22:57:41.974539Z",
     "iopub.status.idle": "2021-05-24T22:57:42.693305Z",
     "shell.execute_reply": "2021-05-24T22:57:42.692737Z"
    },
    "papermill": {
     "duration": 1.021903,
     "end_time": "2021-05-24T22:57:42.693444",
     "exception": false,
     "start_time": "2021-05-24T22:57:41.671541",
     "status": "completed"
    },
    "tags": []
   },
   "outputs": [],
   "source": [
    "!echo > local_clarin/clarin_pl_clean.sh"
   ]
  },
  {
   "cell_type": "code",
   "execution_count": 10,
   "id": "irish-million",
   "metadata": {
    "execution": {
     "iopub.execute_input": "2021-05-24T22:57:43.299748Z",
     "iopub.status.busy": "2021-05-24T22:57:43.299065Z",
     "iopub.status.idle": "2021-05-24T22:57:46.174810Z",
     "shell.execute_reply": "2021-05-24T22:57:46.174095Z"
    },
    "papermill": {
     "duration": 3.186847,
     "end_time": "2021-05-24T22:57:46.174952",
     "exception": false,
     "start_time": "2021-05-24T22:57:42.988105",
     "status": "completed"
    },
    "tags": []
   },
   "outputs": [],
   "source": [
    "!ln -s ../wsj/s5/steps\n",
    "!ln -s ../wsj/s5/conf\n",
    "!ln -s ../wsj/s5/local\n",
    "!ln -s ../wsj/s5/utils"
   ]
  },
  {
   "cell_type": "code",
   "execution_count": 11,
   "id": "italic-course",
   "metadata": {
    "execution": {
     "iopub.execute_input": "2021-05-24T22:57:46.781764Z",
     "iopub.status.busy": "2021-05-24T22:57:46.781083Z",
     "iopub.status.idle": "2021-05-24T22:57:54.528949Z",
     "shell.execute_reply": "2021-05-24T22:57:54.530227Z"
    },
    "papermill": {
     "duration": 8.054142,
     "end_time": "2021-05-24T22:57:54.530931",
     "exception": false,
     "start_time": "2021-05-24T22:57:46.476789",
     "status": "completed"
    },
    "tags": []
   },
   "outputs": [],
   "source": [
    "!cp -r /kaggle/input/kaldi-clarinstudio-polish-data-prep/data /kaggle/working/"
   ]
  },
  {
   "cell_type": "code",
   "execution_count": 12,
   "id": "bacterial-guatemala",
   "metadata": {
    "execution": {
     "iopub.execute_input": "2021-05-24T22:57:55.266118Z",
     "iopub.status.busy": "2021-05-24T22:57:55.265086Z",
     "iopub.status.idle": "2021-05-24T22:57:57.701572Z",
     "shell.execute_reply": "2021-05-24T22:57:57.700964Z"
    },
    "papermill": {
     "duration": 2.802756,
     "end_time": "2021-05-24T22:57:57.701731",
     "exception": false,
     "start_time": "2021-05-24T22:57:54.898975",
     "status": "completed"
    },
    "tags": []
   },
   "outputs": [],
   "source": [
    "!mkdir /kaggle/working/exp\n",
    "!ln -s /kaggle/working/exp\n",
    "!ln -s /kaggle/working/data"
   ]
  },
  {
   "cell_type": "code",
   "execution_count": 13,
   "id": "conservative-processing",
   "metadata": {
    "execution": {
     "iopub.execute_input": "2021-05-24T22:57:58.426116Z",
     "iopub.status.busy": "2021-05-24T22:57:58.425148Z",
     "iopub.status.idle": "2021-05-24T22:57:58.429511Z",
     "shell.execute_reply": "2021-05-24T22:57:58.430109Z"
    },
    "papermill": {
     "duration": 0.357853,
     "end_time": "2021-05-24T22:57:58.430337",
     "exception": false,
     "start_time": "2021-05-24T22:57:58.072484",
     "status": "completed"
    },
    "tags": []
   },
   "outputs": [
    {
     "name": "stdout",
     "output_type": "stream",
     "text": [
      "Overwriting run.sh\n"
     ]
    }
   ],
   "source": [
    "%%writefile run.sh\n",
    ". path.sh\n",
    "\n",
    "export nj=40 ##number of concurrent processes\n",
    "export nj_test=30 ## number of concurrent processes for test has to be <=30\n",
    "\n",
    "#train Monophone system\n",
    "steps/train_mono.sh --nj $nj data/train data/lang_nosp exp/mono0\n",
    "\n",
    "#align using the Monophone system\n",
    "steps/align_si.sh --nj $nj data/train data/lang_nosp exp/mono0 exp/mono0_ali\n",
    "\n",
    "#train initial Triphone system\n",
    "steps/train_deltas.sh 2000 10000 data/train data/lang_nosp exp/mono0_ali exp/tri1\n",
    "\n",
    "#re-align using the initial Triphone system\n",
    "steps/align_si.sh --nj $nj data/train data/lang_nosp exp/tri1 exp/tri1_ali\n",
    "\n",
    "#train tri2a, which is deltas + delta-deltas\n",
    "steps/train_deltas.sh 2500 15000 data/train data/lang_nosp exp/tri1_ali exp/tri2a\n",
    "\n",
    "#train tri2b, which is tri2a + LDA\n",
    "steps/train_lda_mllt.sh --splice-opts \"--left-context=3 --right-context=3\" \\\n",
    "   2500 15000 data/train data/lang_nosp exp/tri1_ali exp/tri2b\n",
    "\n",
    "#re-align tri2b system\n",
    "steps/align_si.sh --nj $nj --use-graphs true data/train data/lang_nosp exp/tri2b exp/tri2b_ali \n",
    "\n",
    "\n",
    "#from 2b system, train 3b which is LDA + MLLT + SAT.\n",
    "steps/train_sat.sh 2500 15000 data/train data/lang_nosp exp/tri2b_ali exp/tri3b\n",
    "\n",
    "#get pronounciation probabilities and silence information \n",
    "./steps/get_prons.sh data/train data/lang_nosp exp/tri3b\n",
    "\n",
    "#recreate dict with new pronounciation and silence probabilities\n",
    "./utils/dict_dir_add_pronprobs.sh data/local/dict_nosp \\\n",
    "\texp/tri3b/pron_counts_nowb.txt \\\n",
    "\texp/tri3b/sil_counts_nowb.txt \\\n",
    "\texp/tri3b/pron_bigram_counts_nowb.txt data/local/dict\n",
    "\n",
    "#recreate lang directory\n",
    "utils/prepare_lang.sh data/local/dict \"<unk>\" data/local/tmp data/lang\n",
    "\n",
    "#recreate G.fst\n",
    "utils/format_lm.sh data/lang local_clarin/arpa.lm.gz data/local/dict/lexicon.txt data/lang_test\n",
    "\n",
    "#download a large LM (~843MB)\n",
    "if [ ! -f local_clarin/large.arpa.gz ] ; then\n",
    "(\n",
    "\tcd local_clarin\n",
    "\tcurl -O http://mowa.clarin-pl.eu/korpusy/large.arpa.gz\n",
    ")\n",
    "fi\n",
    "\n",
    "#create the const-arpa lang dir\n",
    "./utils/build_const_arpa_lm.sh local_clarin/large.arpa.gz data/lang data/lang_carpa\n",
    "\n",
    "#from 3b system, align all data\n",
    "steps/align_fmllr.sh --nj $nj data/train data/lang exp/tri3b exp/tri3b_ali\n",
    "\n",
    "#train MMI on tri3b (LDA+MLLT+SAT)\n",
    "steps/make_denlats.sh --nj $nj --transform-dir exp/tri3b_ali data/train data/lang \\\n",
    "\texp/tri3b exp/tri3b_denlats\n",
    "steps/train_mmi.sh data/train data/lang exp/tri3b_ali exp/tri3b_denlats exp/tri3b_mmi\n",
    "\n",
    "#Performing tests on all the above systems:\n",
    "\n",
    "#test Monophone system\n",
    "utils/mkgraph.sh data/lang_nosp_test exp/mono0 exp/mono0/graph\n",
    "steps/decode.sh --nj $nj_test exp/mono0/graph data/test exp/mono0/decode\n",
    "\n",
    "#test initial Triphone system\n",
    "utils/mkgraph.sh data/lang_nosp_test exp/tri1 exp/tri1/graph\n",
    "steps/decode.sh --nj $nj_test exp/tri1/graph data/test exp/tri1/decode\n",
    "\n",
    "#test tri2a\n",
    "utils/mkgraph.sh data/lang_nosp_test exp/tri2a exp/tri2a/graph\n",
    "steps/decode.sh --nj $nj_test exp/tri2a/graph data/test exp/tri2a/decode\n",
    "\n",
    "#test tri2b\n",
    "utils/mkgraph.sh data/lang_nosp_test exp/tri2b exp/tri2b/graph\n",
    "steps/decode.sh --nj $nj_test exp/tri2b/graph data/test exp/tri2b/decode\n",
    "\n",
    "#test tri3b\n",
    "utils/mkgraph.sh data/lang_nosp_test exp/tri3b exp/tri3b/graph_nosp\n",
    "steps/decode_fmllr.sh --nj $nj_test exp/tri3b/graph_nosp data/test exp/tri3b/decode_nosp\n",
    "\n",
    "#test tri3b again\n",
    "utils/mkgraph.sh data/lang_test exp/tri3b exp/tri3b/graph\n",
    "steps/decode_fmllr.sh --nj $nj_test exp/tri3b/graph data/test exp/tri3b/decode\n",
    "\n",
    "#test MMI\n",
    "steps/decode_fmllr.sh --nj $nj_test exp/tri3b/graph data/test exp/tri3b_mmi/decode\n",
    "\n",
    "#decode MMI using wider beam\n",
    "steps/decode_fmllr.sh --nj $nj_test --beam 24 --lattice-beam 12 \\\n",
    "  exp/tri3b/graph data/test exp/tri3b_mmi/decode_wb\n",
    "\n",
    "#compute the oracle on the last decoding result - to see how much is possible using these lattices\n",
    "./steps/oracle_wer.sh data/test data/lang exp/tri3b_mmi/decode_wb\n",
    "\n",
    "#perform rescoring using the large LM in carpa format (much faster than regular arpa)\n",
    "./steps/lmrescore_const_arpa.sh data/lang_test data/lang_carpa data/test exp/tri3b_mmi/decode_wb exp/tri3b_mmi/decode_rs\n",
    "\n",
    "find exp -name best_wer | while read f ; do cat $f ; done | sort -k2nr\n",
    "find exp -name oracle_wer | while read f ; do echo -n \"$f: \" ; cat $f ; done | sort -k2nr"
   ]
  },
  {
   "cell_type": "code",
   "execution_count": 14,
   "id": "antique-lancaster",
   "metadata": {
    "execution": {
     "iopub.execute_input": "2021-05-24T22:57:59.156850Z",
     "iopub.status.busy": "2021-05-24T22:57:59.156096Z"
    },
    "papermill": {
     "duration": null,
     "end_time": null,
     "exception": false,
     "start_time": "2021-05-24T22:57:58.796143",
     "status": "running"
    },
    "tags": []
   },
   "outputs": [
    {
     "name": "stdout",
     "output_type": "stream",
     "text": [
      "steps/train_mono.sh --nj 40 data/train data/lang_nosp exp/mono0\r\n"
     ]
    },
    {
     "name": "stdout",
     "output_type": "stream",
     "text": [
      "steps/train_mono.sh: Initializing monophone system.\r\n"
     ]
    },
    {
     "name": "stdout",
     "output_type": "stream",
     "text": [
      "steps/train_mono.sh: Compiling training graphs\r\n"
     ]
    },
    {
     "name": "stdout",
     "output_type": "stream",
     "text": [
      "steps/train_mono.sh: Aligning data equally (pass 0)\r\n"
     ]
    },
    {
     "name": "stdout",
     "output_type": "stream",
     "text": [
      "steps/train_mono.sh: Pass 1\r\n",
      "steps/train_mono.sh: Aligning data\r\n"
     ]
    },
    {
     "name": "stdout",
     "output_type": "stream",
     "text": [
      "steps/train_mono.sh: Pass 2\r\n",
      "steps/train_mono.sh: Aligning data\r\n"
     ]
    },
    {
     "name": "stdout",
     "output_type": "stream",
     "text": [
      "steps/train_mono.sh: Pass 3\r\n",
      "steps/train_mono.sh: Aligning data\r\n"
     ]
    },
    {
     "name": "stdout",
     "output_type": "stream",
     "text": [
      "steps/train_mono.sh: Pass 4\r\n",
      "steps/train_mono.sh: Aligning data\r\n"
     ]
    },
    {
     "name": "stdout",
     "output_type": "stream",
     "text": [
      "steps/train_mono.sh: Pass 5\r\n",
      "steps/train_mono.sh: Aligning data\r\n"
     ]
    },
    {
     "name": "stdout",
     "output_type": "stream",
     "text": [
      "steps/train_mono.sh: Pass 6\r\n",
      "steps/train_mono.sh: Aligning data\r\n"
     ]
    },
    {
     "name": "stdout",
     "output_type": "stream",
     "text": [
      "steps/train_mono.sh: Pass 7\r\n",
      "steps/train_mono.sh: Aligning data\r\n"
     ]
    },
    {
     "name": "stdout",
     "output_type": "stream",
     "text": [
      "steps/train_mono.sh: Pass 8\r\n",
      "steps/train_mono.sh: Aligning data\r\n"
     ]
    },
    {
     "name": "stdout",
     "output_type": "stream",
     "text": [
      "steps/train_mono.sh: Pass 9\r\n",
      "steps/train_mono.sh: Aligning data\r\n"
     ]
    },
    {
     "name": "stdout",
     "output_type": "stream",
     "text": [
      "steps/train_mono.sh: Pass 10\r\n",
      "steps/train_mono.sh: Aligning data\r\n"
     ]
    },
    {
     "name": "stdout",
     "output_type": "stream",
     "text": [
      "steps/train_mono.sh: Pass 11\r\n"
     ]
    },
    {
     "name": "stdout",
     "output_type": "stream",
     "text": [
      "steps/train_mono.sh: Pass 12\r\n",
      "steps/train_mono.sh: Aligning data\r\n"
     ]
    },
    {
     "name": "stdout",
     "output_type": "stream",
     "text": [
      "steps/train_mono.sh: Pass 13\r\n"
     ]
    },
    {
     "name": "stdout",
     "output_type": "stream",
     "text": [
      "steps/train_mono.sh: Pass 14\r\n",
      "steps/train_mono.sh: Aligning data\r\n"
     ]
    },
    {
     "name": "stdout",
     "output_type": "stream",
     "text": [
      "steps/train_mono.sh: Pass 15\r\n"
     ]
    },
    {
     "name": "stdout",
     "output_type": "stream",
     "text": [
      "steps/train_mono.sh: Pass 16\r\n",
      "steps/train_mono.sh: Aligning data\r\n"
     ]
    },
    {
     "name": "stdout",
     "output_type": "stream",
     "text": [
      "steps/train_mono.sh: Pass 17\r\n"
     ]
    },
    {
     "name": "stdout",
     "output_type": "stream",
     "text": [
      "steps/train_mono.sh: Pass 18\r\n",
      "steps/train_mono.sh: Aligning data\r\n"
     ]
    },
    {
     "name": "stdout",
     "output_type": "stream",
     "text": [
      "steps/train_mono.sh: Pass 19\r\n"
     ]
    },
    {
     "name": "stdout",
     "output_type": "stream",
     "text": [
      "steps/train_mono.sh: Pass 20\r\n",
      "steps/train_mono.sh: Aligning data\r\n"
     ]
    },
    {
     "name": "stdout",
     "output_type": "stream",
     "text": [
      "steps/train_mono.sh: Pass 21\r\n"
     ]
    },
    {
     "name": "stdout",
     "output_type": "stream",
     "text": [
      "steps/train_mono.sh: Pass 22\r\n"
     ]
    },
    {
     "name": "stdout",
     "output_type": "stream",
     "text": [
      "steps/train_mono.sh: Pass 23\r\n",
      "steps/train_mono.sh: Aligning data\r\n"
     ]
    },
    {
     "name": "stdout",
     "output_type": "stream",
     "text": [
      "steps/train_mono.sh: Pass 24\r\n"
     ]
    },
    {
     "name": "stdout",
     "output_type": "stream",
     "text": [
      "steps/train_mono.sh: Pass 25\r\n"
     ]
    },
    {
     "name": "stdout",
     "output_type": "stream",
     "text": [
      "steps/train_mono.sh: Pass 26\r\n",
      "steps/train_mono.sh: Aligning data\r\n"
     ]
    },
    {
     "name": "stdout",
     "output_type": "stream",
     "text": [
      "steps/train_mono.sh: Pass 27\r\n"
     ]
    },
    {
     "name": "stdout",
     "output_type": "stream",
     "text": [
      "steps/train_mono.sh: Pass 28\r\n"
     ]
    },
    {
     "name": "stdout",
     "output_type": "stream",
     "text": [
      "steps/train_mono.sh: Pass 29\r\n",
      "steps/train_mono.sh: Aligning data\r\n"
     ]
    },
    {
     "name": "stdout",
     "output_type": "stream",
     "text": [
      "steps/train_mono.sh: Pass 30\r\n"
     ]
    },
    {
     "name": "stdout",
     "output_type": "stream",
     "text": [
      "steps/train_mono.sh: Pass 31\r\n"
     ]
    },
    {
     "name": "stdout",
     "output_type": "stream",
     "text": [
      "steps/train_mono.sh: Pass 32\r\n",
      "steps/train_mono.sh: Aligning data\r\n"
     ]
    },
    {
     "name": "stdout",
     "output_type": "stream",
     "text": [
      "steps/train_mono.sh: Pass 33\r\n"
     ]
    },
    {
     "name": "stdout",
     "output_type": "stream",
     "text": [
      "steps/train_mono.sh: Pass 34\r\n"
     ]
    },
    {
     "name": "stdout",
     "output_type": "stream",
     "text": [
      "steps/train_mono.sh: Pass 35\r\n",
      "steps/train_mono.sh: Aligning data\r\n"
     ]
    },
    {
     "name": "stdout",
     "output_type": "stream",
     "text": [
      "steps/train_mono.sh: Pass 36\r\n"
     ]
    },
    {
     "name": "stdout",
     "output_type": "stream",
     "text": [
      "steps/train_mono.sh: Pass 37\r\n"
     ]
    },
    {
     "name": "stdout",
     "output_type": "stream",
     "text": [
      "steps/train_mono.sh: Pass 38\r\n",
      "steps/train_mono.sh: Aligning data\r\n"
     ]
    },
    {
     "name": "stdout",
     "output_type": "stream",
     "text": [
      "steps/train_mono.sh: Pass 39\r\n"
     ]
    },
    {
     "name": "stdout",
     "output_type": "stream",
     "text": [
      "steps/diagnostic/analyze_alignments.sh --cmd run.pl data/lang_nosp exp/mono0\r\n"
     ]
    },
    {
     "name": "stdout",
     "output_type": "stream",
     "text": [
      "steps/diagnostic/analyze_alignments.sh: see stats in exp/mono0/log/analyze_alignments.log\r\n"
     ]
    },
    {
     "name": "stdout",
     "output_type": "stream",
     "text": [
      "570 warnings in exp/mono0/log/acc.*.*.log\r\n"
     ]
    },
    {
     "name": "stdout",
     "output_type": "stream",
     "text": [
      "13666 warnings in exp/mono0/log/align.*.*.log\r\n",
      "6 warnings in exp/mono0/log/init.log\r\n"
     ]
    },
    {
     "name": "stdout",
     "output_type": "stream",
     "text": [
      "exp/mono0: nj=40 align prob=-94.80 over 43.76h [retry=0.4%, fail=0.0%] states=113 gauss=987\r\n",
      "steps/train_mono.sh: Done training monophone system in exp/mono0\r\n",
      "steps/align_si.sh --nj 40 data/train data/lang_nosp exp/mono0 exp/mono0_ali\r\n",
      "steps/align_si.sh: feature type is delta\r\n",
      "steps/align_si.sh: aligning data in data/train using model from exp/mono0, putting alignments in exp/mono0_ali\r\n"
     ]
    },
    {
     "name": "stdout",
     "output_type": "stream",
     "text": [
      "steps/diagnostic/analyze_alignments.sh --cmd run.pl data/lang_nosp exp/mono0_ali\r\n"
     ]
    },
    {
     "name": "stdout",
     "output_type": "stream",
     "text": [
      "steps/diagnostic/analyze_alignments.sh: see stats in exp/mono0_ali/log/analyze_alignments.log\r\n",
      "steps/align_si.sh: done aligning data.\r\n",
      "steps/train_deltas.sh 2000 10000 data/train data/lang_nosp exp/mono0_ali exp/tri1\r\n",
      "steps/train_deltas.sh: accumulating tree stats\r\n"
     ]
    },
    {
     "name": "stdout",
     "output_type": "stream",
     "text": [
      "steps/train_deltas.sh: getting questions for tree-building, via clustering\r\n"
     ]
    },
    {
     "name": "stdout",
     "output_type": "stream",
     "text": [
      "steps/train_deltas.sh: building the tree\r\n"
     ]
    },
    {
     "name": "stdout",
     "output_type": "stream",
     "text": [
      "steps/train_deltas.sh: converting alignments from exp/mono0_ali to use current tree\r\n"
     ]
    },
    {
     "name": "stdout",
     "output_type": "stream",
     "text": [
      "steps/train_deltas.sh: compiling graphs of transcripts\r\n"
     ]
    },
    {
     "name": "stdout",
     "output_type": "stream",
     "text": [
      "steps/train_deltas.sh: training pass 1\r\n"
     ]
    },
    {
     "name": "stdout",
     "output_type": "stream",
     "text": [
      "steps/train_deltas.sh: training pass 2\r\n"
     ]
    },
    {
     "name": "stdout",
     "output_type": "stream",
     "text": [
      "steps/train_deltas.sh: training pass 3\r\n"
     ]
    },
    {
     "name": "stdout",
     "output_type": "stream",
     "text": [
      "steps/train_deltas.sh: training pass 4\r\n"
     ]
    },
    {
     "name": "stdout",
     "output_type": "stream",
     "text": [
      "steps/train_deltas.sh: training pass 5\r\n"
     ]
    },
    {
     "name": "stdout",
     "output_type": "stream",
     "text": [
      "steps/train_deltas.sh: training pass 6\r\n"
     ]
    },
    {
     "name": "stdout",
     "output_type": "stream",
     "text": [
      "steps/train_deltas.sh: training pass 7\r\n"
     ]
    },
    {
     "name": "stdout",
     "output_type": "stream",
     "text": [
      "steps/train_deltas.sh: training pass 8\r\n"
     ]
    },
    {
     "name": "stdout",
     "output_type": "stream",
     "text": [
      "steps/train_deltas.sh: training pass 9\r\n"
     ]
    },
    {
     "name": "stdout",
     "output_type": "stream",
     "text": [
      "steps/train_deltas.sh: training pass 10\r\n",
      "steps/train_deltas.sh: aligning data\r\n"
     ]
    },
    {
     "name": "stdout",
     "output_type": "stream",
     "text": [
      "steps/train_deltas.sh: training pass 11\r\n"
     ]
    },
    {
     "name": "stdout",
     "output_type": "stream",
     "text": [
      "steps/train_deltas.sh: training pass 12\r\n"
     ]
    },
    {
     "name": "stdout",
     "output_type": "stream",
     "text": [
      "steps/train_deltas.sh: training pass 13\r\n"
     ]
    },
    {
     "name": "stdout",
     "output_type": "stream",
     "text": [
      "steps/train_deltas.sh: training pass 14\r\n"
     ]
    },
    {
     "name": "stdout",
     "output_type": "stream",
     "text": [
      "steps/train_deltas.sh: training pass 15\r\n"
     ]
    },
    {
     "name": "stdout",
     "output_type": "stream",
     "text": [
      "steps/train_deltas.sh: training pass 16\r\n"
     ]
    },
    {
     "name": "stdout",
     "output_type": "stream",
     "text": [
      "steps/train_deltas.sh: training pass 17\r\n"
     ]
    },
    {
     "name": "stdout",
     "output_type": "stream",
     "text": [
      "steps/train_deltas.sh: training pass 18\r\n"
     ]
    },
    {
     "name": "stdout",
     "output_type": "stream",
     "text": [
      "steps/train_deltas.sh: training pass 19\r\n"
     ]
    },
    {
     "name": "stdout",
     "output_type": "stream",
     "text": [
      "steps/train_deltas.sh: training pass 20\r\n",
      "steps/train_deltas.sh: aligning data\r\n"
     ]
    },
    {
     "name": "stdout",
     "output_type": "stream",
     "text": [
      "steps/train_deltas.sh: training pass 21\r\n"
     ]
    },
    {
     "name": "stdout",
     "output_type": "stream",
     "text": [
      "steps/train_deltas.sh: training pass 22\r\n"
     ]
    },
    {
     "name": "stdout",
     "output_type": "stream",
     "text": [
      "steps/train_deltas.sh: training pass 23\r\n"
     ]
    },
    {
     "name": "stdout",
     "output_type": "stream",
     "text": [
      "steps/train_deltas.sh: training pass 24\r\n"
     ]
    },
    {
     "name": "stdout",
     "output_type": "stream",
     "text": [
      "steps/train_deltas.sh: training pass 25\r\n"
     ]
    },
    {
     "name": "stdout",
     "output_type": "stream",
     "text": [
      "steps/train_deltas.sh: training pass 26\r\n"
     ]
    },
    {
     "name": "stdout",
     "output_type": "stream",
     "text": [
      "steps/train_deltas.sh: training pass 27\r\n"
     ]
    },
    {
     "name": "stdout",
     "output_type": "stream",
     "text": [
      "steps/train_deltas.sh: training pass 28\r\n"
     ]
    },
    {
     "name": "stdout",
     "output_type": "stream",
     "text": [
      "steps/train_deltas.sh: training pass 29\r\n"
     ]
    },
    {
     "name": "stdout",
     "output_type": "stream",
     "text": [
      "steps/train_deltas.sh: training pass 30\r\n",
      "steps/train_deltas.sh: aligning data\r\n"
     ]
    },
    {
     "name": "stdout",
     "output_type": "stream",
     "text": [
      "steps/train_deltas.sh: training pass 31\r\n"
     ]
    },
    {
     "name": "stdout",
     "output_type": "stream",
     "text": [
      "steps/train_deltas.sh: training pass 32\r\n"
     ]
    },
    {
     "name": "stdout",
     "output_type": "stream",
     "text": [
      "steps/train_deltas.sh: training pass 33\r\n"
     ]
    },
    {
     "name": "stdout",
     "output_type": "stream",
     "text": [
      "steps/train_deltas.sh: training pass 34\r\n"
     ]
    },
    {
     "name": "stdout",
     "output_type": "stream",
     "text": [
      "steps/diagnostic/analyze_alignments.sh --cmd run.pl data/lang_nosp exp/tri1\r\n"
     ]
    },
    {
     "name": "stdout",
     "output_type": "stream",
     "text": [
      "steps/diagnostic/analyze_alignments.sh: see stats in exp/tri1/log/analyze_alignments.log\r\n"
     ]
    },
    {
     "name": "stdout",
     "output_type": "stream",
     "text": [
      "430 warnings in exp/tri1/log/align.*.*.log\r\n",
      "1 warnings in exp/tri1/log/compile_questions.log\r\n",
      "1 warnings in exp/tri1/log/build_tree.log\r\n"
     ]
    },
    {
     "name": "stdout",
     "output_type": "stream",
     "text": [
      "206 warnings in exp/tri1/log/acc.*.*.log\r\n"
     ]
    },
    {
     "name": "stdout",
     "output_type": "stream",
     "text": [
      "exp/tri1: nj=40 align prob=-92.83 over 43.75h [retry=0.9%, fail=0.1%] states=1704 gauss=10034 tree-impr=4.66\r\n",
      "steps/train_deltas.sh: Done training system with delta+delta-delta features in exp/tri1\r\n",
      "steps/align_si.sh --nj 40 data/train data/lang_nosp exp/tri1 exp/tri1_ali\r\n",
      "steps/align_si.sh: feature type is delta\r\n",
      "steps/align_si.sh: aligning data in data/train using model from exp/tri1, putting alignments in exp/tri1_ali\r\n"
     ]
    },
    {
     "name": "stdout",
     "output_type": "stream",
     "text": [
      "steps/diagnostic/analyze_alignments.sh --cmd run.pl data/lang_nosp exp/tri1_ali\r\n"
     ]
    },
    {
     "name": "stdout",
     "output_type": "stream",
     "text": [
      "steps/diagnostic/analyze_alignments.sh: see stats in exp/tri1_ali/log/analyze_alignments.log\r\n",
      "steps/align_si.sh: done aligning data.\r\n",
      "steps/train_deltas.sh 2500 15000 data/train data/lang_nosp exp/tri1_ali exp/tri2a\r\n"
     ]
    },
    {
     "name": "stdout",
     "output_type": "stream",
     "text": [
      "steps/train_deltas.sh: accumulating tree stats\r\n"
     ]
    },
    {
     "name": "stdout",
     "output_type": "stream",
     "text": [
      "steps/train_deltas.sh: getting questions for tree-building, via clustering\r\n"
     ]
    },
    {
     "name": "stdout",
     "output_type": "stream",
     "text": [
      "steps/train_deltas.sh: building the tree\r\n"
     ]
    },
    {
     "name": "stdout",
     "output_type": "stream",
     "text": [
      "steps/train_deltas.sh: converting alignments from exp/tri1_ali to use current tree\r\n"
     ]
    },
    {
     "name": "stdout",
     "output_type": "stream",
     "text": [
      "steps/train_deltas.sh: compiling graphs of transcripts\r\n"
     ]
    },
    {
     "name": "stdout",
     "output_type": "stream",
     "text": [
      "steps/train_deltas.sh: training pass 1\r\n"
     ]
    },
    {
     "name": "stdout",
     "output_type": "stream",
     "text": [
      "steps/train_deltas.sh: training pass 2\r\n"
     ]
    },
    {
     "name": "stdout",
     "output_type": "stream",
     "text": [
      "steps/train_deltas.sh: training pass 3\r\n"
     ]
    },
    {
     "name": "stdout",
     "output_type": "stream",
     "text": [
      "steps/train_deltas.sh: training pass 4\r\n"
     ]
    },
    {
     "name": "stdout",
     "output_type": "stream",
     "text": [
      "steps/train_deltas.sh: training pass 5\r\n"
     ]
    },
    {
     "name": "stdout",
     "output_type": "stream",
     "text": [
      "steps/train_deltas.sh: training pass 6\r\n"
     ]
    },
    {
     "name": "stdout",
     "output_type": "stream",
     "text": [
      "steps/train_deltas.sh: training pass 7\r\n"
     ]
    },
    {
     "name": "stdout",
     "output_type": "stream",
     "text": [
      "steps/train_deltas.sh: training pass 8\r\n"
     ]
    },
    {
     "name": "stdout",
     "output_type": "stream",
     "text": [
      "steps/train_deltas.sh: training pass 9\r\n"
     ]
    },
    {
     "name": "stdout",
     "output_type": "stream",
     "text": [
      "steps/train_deltas.sh: training pass 10\r\n",
      "steps/train_deltas.sh: aligning data\r\n"
     ]
    },
    {
     "name": "stdout",
     "output_type": "stream",
     "text": [
      "steps/train_deltas.sh: training pass 11\r\n"
     ]
    },
    {
     "name": "stdout",
     "output_type": "stream",
     "text": [
      "steps/train_deltas.sh: training pass 12\r\n"
     ]
    },
    {
     "name": "stdout",
     "output_type": "stream",
     "text": [
      "steps/train_deltas.sh: training pass 13\r\n"
     ]
    },
    {
     "name": "stdout",
     "output_type": "stream",
     "text": [
      "steps/train_deltas.sh: training pass 14\r\n"
     ]
    },
    {
     "name": "stdout",
     "output_type": "stream",
     "text": [
      "steps/train_deltas.sh: training pass 15\r\n"
     ]
    },
    {
     "name": "stdout",
     "output_type": "stream",
     "text": [
      "steps/train_deltas.sh: training pass 16\r\n"
     ]
    },
    {
     "name": "stdout",
     "output_type": "stream",
     "text": [
      "steps/train_deltas.sh: training pass 17\r\n"
     ]
    },
    {
     "name": "stdout",
     "output_type": "stream",
     "text": [
      "steps/train_deltas.sh: training pass 18\r\n"
     ]
    },
    {
     "name": "stdout",
     "output_type": "stream",
     "text": [
      "steps/train_deltas.sh: training pass 19\r\n"
     ]
    },
    {
     "name": "stdout",
     "output_type": "stream",
     "text": [
      "steps/train_deltas.sh: training pass 20\r\n",
      "steps/train_deltas.sh: aligning data\r\n"
     ]
    },
    {
     "name": "stdout",
     "output_type": "stream",
     "text": [
      "steps/train_deltas.sh: training pass 21\r\n"
     ]
    },
    {
     "name": "stdout",
     "output_type": "stream",
     "text": [
      "steps/train_deltas.sh: training pass 22\r\n"
     ]
    },
    {
     "name": "stdout",
     "output_type": "stream",
     "text": [
      "steps/train_deltas.sh: training pass 23\r\n"
     ]
    },
    {
     "name": "stdout",
     "output_type": "stream",
     "text": [
      "steps/train_deltas.sh: training pass 24\r\n"
     ]
    },
    {
     "name": "stdout",
     "output_type": "stream",
     "text": [
      "steps/train_deltas.sh: training pass 25\r\n"
     ]
    },
    {
     "name": "stdout",
     "output_type": "stream",
     "text": [
      "steps/train_deltas.sh: training pass 26\r\n"
     ]
    },
    {
     "name": "stdout",
     "output_type": "stream",
     "text": [
      "steps/train_deltas.sh: training pass 27\r\n"
     ]
    },
    {
     "name": "stdout",
     "output_type": "stream",
     "text": [
      "steps/train_deltas.sh: training pass 28\r\n"
     ]
    },
    {
     "name": "stdout",
     "output_type": "stream",
     "text": [
      "steps/train_deltas.sh: training pass 29\r\n"
     ]
    },
    {
     "name": "stdout",
     "output_type": "stream",
     "text": [
      "steps/train_deltas.sh: training pass 30\r\n",
      "steps/train_deltas.sh: aligning data\r\n"
     ]
    },
    {
     "name": "stdout",
     "output_type": "stream",
     "text": [
      "steps/train_deltas.sh: training pass 31\r\n"
     ]
    },
    {
     "name": "stdout",
     "output_type": "stream",
     "text": [
      "steps/train_deltas.sh: training pass 32\r\n"
     ]
    },
    {
     "name": "stdout",
     "output_type": "stream",
     "text": [
      "steps/train_deltas.sh: training pass 33\r\n"
     ]
    },
    {
     "name": "stdout",
     "output_type": "stream",
     "text": [
      "steps/train_deltas.sh: training pass 34\r\n"
     ]
    },
    {
     "name": "stdout",
     "output_type": "stream",
     "text": [
      "steps/diagnostic/analyze_alignments.sh --cmd run.pl data/lang_nosp exp/tri2a\r\n"
     ]
    },
    {
     "name": "stdout",
     "output_type": "stream",
     "text": [
      "steps/diagnostic/analyze_alignments.sh: see stats in exp/tri2a/log/analyze_alignments.log\r\n"
     ]
    },
    {
     "name": "stdout",
     "output_type": "stream",
     "text": [
      "1 warnings in exp/tri2a/log/compile_questions.log\r\n",
      "432 warnings in exp/tri2a/log/align.*.*.log\r\n",
      "1 warnings in exp/tri2a/log/build_tree.log\r\n"
     ]
    },
    {
     "name": "stdout",
     "output_type": "stream",
     "text": [
      "269 warnings in exp/tri2a/log/acc.*.*.log\r\n",
      "exp/tri2a: nj=40 align prob=-92.41 over 43.74h [retry=0.8%, fail=0.1%] states=2120 gauss=15026 tree-impr=5.39\r\n",
      "steps/train_deltas.sh: Done training system with delta+delta-delta features in exp/tri2a\r\n",
      "steps/train_lda_mllt.sh --splice-opts --left-context=3 --right-context=3 2500 15000 data/train data/lang_nosp exp/tri1_ali exp/tri2b\r\n"
     ]
    },
    {
     "name": "stdout",
     "output_type": "stream",
     "text": [
      "steps/train_lda_mllt.sh: Accumulating LDA statistics.\r\n"
     ]
    },
    {
     "name": "stdout",
     "output_type": "stream",
     "text": [
      "steps/train_lda_mllt.sh: Accumulating tree stats\r\n"
     ]
    },
    {
     "name": "stdout",
     "output_type": "stream",
     "text": [
      "steps/train_lda_mllt.sh: Getting questions for tree clustering.\r\n"
     ]
    },
    {
     "name": "stdout",
     "output_type": "stream",
     "text": [
      "steps/train_lda_mllt.sh: Building the tree\r\n"
     ]
    },
    {
     "name": "stdout",
     "output_type": "stream",
     "text": [
      "steps/train_lda_mllt.sh: Initializing the model\r\n"
     ]
    },
    {
     "name": "stdout",
     "output_type": "stream",
     "text": [
      "steps/train_lda_mllt.sh: Converting alignments from exp/tri1_ali to use current tree\r\n"
     ]
    },
    {
     "name": "stdout",
     "output_type": "stream",
     "text": [
      "steps/train_lda_mllt.sh: Compiling graphs of transcripts\r\n"
     ]
    },
    {
     "name": "stdout",
     "output_type": "stream",
     "text": [
      "Training pass 1\r\n"
     ]
    },
    {
     "name": "stdout",
     "output_type": "stream",
     "text": [
      "Training pass 2\r\n"
     ]
    },
    {
     "name": "stdout",
     "output_type": "stream",
     "text": [
      "steps/train_lda_mllt.sh: Estimating MLLT\r\n"
     ]
    },
    {
     "name": "stdout",
     "output_type": "stream",
     "text": [
      "Training pass 3\r\n"
     ]
    },
    {
     "name": "stdout",
     "output_type": "stream",
     "text": [
      "Training pass 4\r\n",
      "steps/train_lda_mllt.sh: Estimating MLLT\r\n"
     ]
    },
    {
     "name": "stdout",
     "output_type": "stream",
     "text": [
      "Training pass 5\r\n"
     ]
    },
    {
     "name": "stdout",
     "output_type": "stream",
     "text": [
      "Training pass 6\r\n",
      "steps/train_lda_mllt.sh: Estimating MLLT\r\n"
     ]
    },
    {
     "name": "stdout",
     "output_type": "stream",
     "text": [
      "Training pass 7\r\n"
     ]
    },
    {
     "name": "stdout",
     "output_type": "stream",
     "text": [
      "Training pass 8\r\n"
     ]
    },
    {
     "name": "stdout",
     "output_type": "stream",
     "text": [
      "Training pass 9\r\n"
     ]
    },
    {
     "name": "stdout",
     "output_type": "stream",
     "text": [
      "Training pass 10\r\n",
      "Aligning data\r\n"
     ]
    },
    {
     "name": "stdout",
     "output_type": "stream",
     "text": [
      "Training pass 11\r\n"
     ]
    },
    {
     "name": "stdout",
     "output_type": "stream",
     "text": [
      "Training pass 12\r\n",
      "steps/train_lda_mllt.sh: Estimating MLLT\r\n"
     ]
    },
    {
     "name": "stdout",
     "output_type": "stream",
     "text": [
      "Training pass 13\r\n"
     ]
    },
    {
     "name": "stdout",
     "output_type": "stream",
     "text": [
      "Training pass 14\r\n"
     ]
    },
    {
     "name": "stdout",
     "output_type": "stream",
     "text": [
      "Training pass 15\r\n"
     ]
    },
    {
     "name": "stdout",
     "output_type": "stream",
     "text": [
      "Training pass 16\r\n"
     ]
    },
    {
     "name": "stdout",
     "output_type": "stream",
     "text": [
      "Training pass 17\r\n"
     ]
    },
    {
     "name": "stdout",
     "output_type": "stream",
     "text": [
      "Training pass 18\r\n"
     ]
    },
    {
     "name": "stdout",
     "output_type": "stream",
     "text": [
      "Training pass 19\r\n"
     ]
    },
    {
     "name": "stdout",
     "output_type": "stream",
     "text": [
      "Training pass 20\r\n",
      "Aligning data\r\n"
     ]
    },
    {
     "name": "stdout",
     "output_type": "stream",
     "text": [
      "Training pass 21\r\n"
     ]
    },
    {
     "name": "stdout",
     "output_type": "stream",
     "text": [
      "Training pass 22\r\n"
     ]
    },
    {
     "name": "stdout",
     "output_type": "stream",
     "text": [
      "Training pass 23\r\n"
     ]
    },
    {
     "name": "stdout",
     "output_type": "stream",
     "text": [
      "Training pass 24\r\n"
     ]
    },
    {
     "name": "stdout",
     "output_type": "stream",
     "text": [
      "Training pass 25\r\n"
     ]
    },
    {
     "name": "stdout",
     "output_type": "stream",
     "text": [
      "Training pass 26\r\n"
     ]
    },
    {
     "name": "stdout",
     "output_type": "stream",
     "text": [
      "Training pass 27\r\n"
     ]
    },
    {
     "name": "stdout",
     "output_type": "stream",
     "text": [
      "Training pass 28\r\n"
     ]
    },
    {
     "name": "stdout",
     "output_type": "stream",
     "text": [
      "Training pass 29\r\n"
     ]
    },
    {
     "name": "stdout",
     "output_type": "stream",
     "text": [
      "Training pass 30\r\n",
      "Aligning data\r\n"
     ]
    },
    {
     "name": "stdout",
     "output_type": "stream",
     "text": [
      "Training pass 31\r\n"
     ]
    },
    {
     "name": "stdout",
     "output_type": "stream",
     "text": [
      "Training pass 32\r\n"
     ]
    },
    {
     "name": "stdout",
     "output_type": "stream",
     "text": [
      "Training pass 33\r\n"
     ]
    },
    {
     "name": "stdout",
     "output_type": "stream",
     "text": [
      "Training pass 34\r\n"
     ]
    },
    {
     "name": "stdout",
     "output_type": "stream",
     "text": [
      "steps/diagnostic/analyze_alignments.sh --cmd run.pl data/lang_nosp exp/tri2b\r\n"
     ]
    },
    {
     "name": "stdout",
     "output_type": "stream",
     "text": [
      "steps/diagnostic/analyze_alignments.sh: see stats in exp/tri2b/log/analyze_alignments.log\r\n",
      "1 warnings in exp/tri2b/log/compile_questions.log\r\n",
      "1 warnings in exp/tri2b/log/build_tree.log\r\n"
     ]
    },
    {
     "name": "stdout",
     "output_type": "stream",
     "text": [
      "6 warnings in exp/tri2b/log/lda_acc.*.log\r\n"
     ]
    },
    {
     "name": "stdout",
     "output_type": "stream",
     "text": [
      "469 warnings in exp/tri2b/log/acc.*.*.log\r\n",
      "629 warnings in exp/tri2b/log/align.*.*.log\r\n"
     ]
    },
    {
     "name": "stdout",
     "output_type": "stream",
     "text": [
      "exp/tri2b: nj=40 align prob=-44.56 over 43.71h [retry=1.1%, fail=0.1%] states=2104 gauss=15034 tree-impr=4.89 lda-sum=25.48 mllt:impr,logdet=1.27,1.81\r\n",
      "steps/train_lda_mllt.sh: Done training system with LDA+MLLT features in exp/tri2b\r\n",
      "steps/align_si.sh --nj 40 --use-graphs true data/train data/lang_nosp exp/tri2b exp/tri2b_ali\r\n"
     ]
    },
    {
     "name": "stdout",
     "output_type": "stream",
     "text": [
      "steps/align_si.sh: feature type is lda\r\n",
      "steps/align_si.sh: aligning data in data/train using model from exp/tri2b, putting alignments in exp/tri2b_ali\r\n"
     ]
    },
    {
     "name": "stdout",
     "output_type": "stream",
     "text": [
      "steps/diagnostic/analyze_alignments.sh --cmd run.pl data/lang_nosp exp/tri2b_ali\r\n"
     ]
    },
    {
     "name": "stdout",
     "output_type": "stream",
     "text": [
      "steps/diagnostic/analyze_alignments.sh: see stats in exp/tri2b_ali/log/analyze_alignments.log\r\n",
      "steps/align_si.sh: done aligning data.\r\n"
     ]
    },
    {
     "name": "stdout",
     "output_type": "stream",
     "text": [
      "steps/train_sat.sh 2500 15000 data/train data/lang_nosp exp/tri2b_ali exp/tri3b\r\n",
      "steps/train_sat.sh: feature type is lda\r\n",
      "steps/train_sat.sh: obtaining initial fMLLR transforms since not present in exp/tri2b_ali\r\n"
     ]
    },
    {
     "name": "stdout",
     "output_type": "stream",
     "text": [
      "steps/train_sat.sh: Accumulating tree stats\r\n"
     ]
    },
    {
     "name": "stdout",
     "output_type": "stream",
     "text": [
      "steps/train_sat.sh: Getting questions for tree clustering.\r\n"
     ]
    },
    {
     "name": "stdout",
     "output_type": "stream",
     "text": [
      "steps/train_sat.sh: Building the tree\r\n"
     ]
    },
    {
     "name": "stdout",
     "output_type": "stream",
     "text": [
      "steps/train_sat.sh: Initializing the model\r\n"
     ]
    },
    {
     "name": "stdout",
     "output_type": "stream",
     "text": [
      "steps/train_sat.sh: Converting alignments from exp/tri2b_ali to use current tree\r\n"
     ]
    },
    {
     "name": "stdout",
     "output_type": "stream",
     "text": [
      "steps/train_sat.sh: Compiling graphs of transcripts\r\n"
     ]
    },
    {
     "name": "stdout",
     "output_type": "stream",
     "text": [
      "Pass 1\r\n"
     ]
    },
    {
     "name": "stdout",
     "output_type": "stream",
     "text": [
      "Pass 2\r\n",
      "Estimating fMLLR transforms\r\n"
     ]
    },
    {
     "name": "stdout",
     "output_type": "stream",
     "text": [
      "Pass 3\r\n"
     ]
    },
    {
     "name": "stdout",
     "output_type": "stream",
     "text": [
      "Pass 4\r\n",
      "Estimating fMLLR transforms\r\n"
     ]
    },
    {
     "name": "stdout",
     "output_type": "stream",
     "text": [
      "Pass 5\r\n"
     ]
    },
    {
     "name": "stdout",
     "output_type": "stream",
     "text": [
      "Pass 6\r\n",
      "Estimating fMLLR transforms\r\n"
     ]
    },
    {
     "name": "stdout",
     "output_type": "stream",
     "text": [
      "Pass 7\r\n"
     ]
    },
    {
     "name": "stdout",
     "output_type": "stream",
     "text": [
      "Pass 8\r\n"
     ]
    },
    {
     "name": "stdout",
     "output_type": "stream",
     "text": [
      "Pass 9\r\n"
     ]
    },
    {
     "name": "stdout",
     "output_type": "stream",
     "text": [
      "Pass 10\r\n",
      "Aligning data\r\n"
     ]
    },
    {
     "name": "stdout",
     "output_type": "stream",
     "text": [
      "Pass 11\r\n"
     ]
    },
    {
     "name": "stdout",
     "output_type": "stream",
     "text": [
      "Pass 12\r\n",
      "Estimating fMLLR transforms\r\n"
     ]
    },
    {
     "name": "stdout",
     "output_type": "stream",
     "text": [
      "Pass 13\r\n"
     ]
    },
    {
     "name": "stdout",
     "output_type": "stream",
     "text": [
      "Pass 14\r\n"
     ]
    },
    {
     "name": "stdout",
     "output_type": "stream",
     "text": [
      "Pass 15\r\n"
     ]
    },
    {
     "name": "stdout",
     "output_type": "stream",
     "text": [
      "Pass 16\r\n"
     ]
    },
    {
     "name": "stdout",
     "output_type": "stream",
     "text": [
      "Pass 17\r\n"
     ]
    },
    {
     "name": "stdout",
     "output_type": "stream",
     "text": [
      "Pass 18\r\n"
     ]
    },
    {
     "name": "stdout",
     "output_type": "stream",
     "text": [
      "Pass 19\r\n"
     ]
    },
    {
     "name": "stdout",
     "output_type": "stream",
     "text": [
      "Pass 20\r\n",
      "Aligning data\r\n"
     ]
    },
    {
     "name": "stdout",
     "output_type": "stream",
     "text": [
      "Pass 21\r\n"
     ]
    },
    {
     "name": "stdout",
     "output_type": "stream",
     "text": [
      "Pass 22\r\n"
     ]
    },
    {
     "name": "stdout",
     "output_type": "stream",
     "text": [
      "Pass 23\r\n"
     ]
    },
    {
     "name": "stdout",
     "output_type": "stream",
     "text": [
      "Pass 24\r\n"
     ]
    },
    {
     "name": "stdout",
     "output_type": "stream",
     "text": [
      "Pass 25\r\n"
     ]
    },
    {
     "name": "stdout",
     "output_type": "stream",
     "text": [
      "Pass 26\r\n"
     ]
    },
    {
     "name": "stdout",
     "output_type": "stream",
     "text": [
      "Pass 27\r\n"
     ]
    },
    {
     "name": "stdout",
     "output_type": "stream",
     "text": [
      "Pass 28\r\n"
     ]
    },
    {
     "name": "stdout",
     "output_type": "stream",
     "text": [
      "Pass 29\r\n"
     ]
    },
    {
     "name": "stdout",
     "output_type": "stream",
     "text": [
      "Pass 30\r\n",
      "Aligning data\r\n"
     ]
    },
    {
     "name": "stdout",
     "output_type": "stream",
     "text": [
      "Pass 31\r\n"
     ]
    },
    {
     "name": "stdout",
     "output_type": "stream",
     "text": [
      "Pass 32\r\n"
     ]
    },
    {
     "name": "stdout",
     "output_type": "stream",
     "text": [
      "Pass 33\r\n"
     ]
    },
    {
     "name": "stdout",
     "output_type": "stream",
     "text": [
      "Pass 34\r\n"
     ]
    },
    {
     "name": "stdout",
     "output_type": "stream",
     "text": [
      "steps/diagnostic/analyze_alignments.sh --cmd run.pl data/lang_nosp exp/tri3b\r\n"
     ]
    },
    {
     "name": "stdout",
     "output_type": "stream",
     "text": [
      "steps/diagnostic/analyze_alignments.sh: see stats in exp/tri3b/log/analyze_alignments.log\r\n"
     ]
    },
    {
     "name": "stdout",
     "output_type": "stream",
     "text": [
      "584 warnings in exp/tri3b/log/align.*.*.log\r\n",
      "1 warnings in exp/tri3b/log/build_tree.log\r\n",
      "1 warnings in exp/tri3b/log/compile_questions.log\r\n"
     ]
    },
    {
     "name": "stdout",
     "output_type": "stream",
     "text": [
      "76 warnings in exp/tri3b/log/fmllr.*.*.log\r\n"
     ]
    },
    {
     "name": "stdout",
     "output_type": "stream",
     "text": [
      "525 warnings in exp/tri3b/log/acc.*.*.log\r\n",
      "steps/train_sat.sh: Likelihood evolution:\r\n",
      "-45.9235 "
     ]
    },
    {
     "name": "stdout",
     "output_type": "stream",
     "text": [
      "-45.8307 -45.7084 -45.5106 -44.687 -44.1136 -43.7949 -43.5749 -43.3944 -42.915 -42.7316 -42.5065 -42.3911 -42.2927 "
     ]
    },
    {
     "name": "stdout",
     "output_type": "stream",
     "text": [
      "-42.2019 -42.1185 -42.0422 -41.9722 -41.9031 -41.764 -41.6832 -41.6311 -41.5833 -41.5385 -41.4959 -41.4545 "
     ]
    },
    {
     "name": "stdout",
     "output_type": "stream",
     "text": [
      "-41.415 -41.3781 -41.342 -41.2653 -41.2177 -41.1953 -41.1812 -41.1717 \r\n"
     ]
    },
    {
     "name": "stdout",
     "output_type": "stream",
     "text": [
      "exp/tri3b: nj=40 align prob=-44.25 over 43.71h [retry=1.0%, fail=0.1%] states=2104 gauss=15019 fmllr-impr=3.03 over 30.87h tree-impr=7.60\r\n",
      "steps/train_sat.sh: done training SAT system in exp/tri3b\r\n",
      "./steps/get_prons.sh data/train data/lang_nosp exp/tri3b\r\n",
      "./steps/get_prons.sh: exp/tri3b/ali.1.gz exists, so starting from alignments.\r\n"
     ]
    },
    {
     "name": "stdout",
     "output_type": "stream",
     "text": [
      "./steps/get_prons.sh: done writing prons to exp/tri3b/prons.*.gz, silence counts in \r\n",
      "./steps/get_prons.sh: exp/tri3b/sil_counts_nowb.txt and pronunciation counts in \r\n",
      "./steps/get_prons.sh: exp/tri3b/pron_counts.{int,txt}\r\n",
      "./steps/get_prons.sh: ... and also in exp/tri3b/pron_counts_nowb.txt\r\n",
      "Checking data/local/dict_nosp/silence_phones.txt ...\r\n",
      "--> reading data/local/dict_nosp/silence_phones.txt\r\n"
     ]
    },
    {
     "name": "stdout",
     "output_type": "stream",
     "text": [
      "--> text seems to be UTF-8 or ASCII, checking whitespaces\r\n",
      "--> text contains only allowed whitespaces\r\n",
      "--> data/local/dict_nosp/silence_phones.txt is OK\r\n",
      "\r\n",
      "Checking data/local/dict_nosp/optional_silence.txt ...\r\n",
      "--> reading data/local/dict_nosp/optional_silence.txt\r\n",
      "--> text seems to be UTF-8 or ASCII, checking whitespaces\r\n",
      "--> text contains only allowed whitespaces\r\n",
      "--> data/local/dict_nosp/optional_silence.txt is OK\r\n",
      "\r\n",
      "Checking data/local/dict_nosp/nonsilence_phones.txt ...\r\n",
      "--> reading data/local/dict_nosp/nonsilence_phones.txt\r\n",
      "--> text seems to be UTF-8 or ASCII, checking whitespaces\r\n",
      "--> text contains only allowed whitespaces\r\n",
      "--> data/local/dict_nosp/nonsilence_phones.txt is OK\r\n",
      "\r\n",
      "Checking disjoint: silence_phones.txt, nonsilence_phones.txt\r\n",
      "--> disjoint property is OK.\r\n",
      "\r\n",
      "Checking data/local/dict_nosp/lexicon.txt\r\n",
      "--> reading data/local/dict_nosp/lexicon.txt\r\n"
     ]
    },
    {
     "name": "stdout",
     "output_type": "stream",
     "text": [
      "--> text seems to be UTF-8 or ASCII, checking whitespaces\r\n",
      "--> text contains only allowed whitespaces\r\n"
     ]
    },
    {
     "name": "stdout",
     "output_type": "stream",
     "text": [
      "--> data/local/dict_nosp/lexicon.txt is OK\r\n",
      "\r\n"
     ]
    },
    {
     "name": "stdout",
     "output_type": "stream",
     "text": [
      "Checking data/local/dict_nosp/lexiconp.txt\r\n",
      "--> reading data/local/dict_nosp/lexiconp.txt\r\n"
     ]
    },
    {
     "name": "stdout",
     "output_type": "stream",
     "text": [
      "--> text seems to be UTF-8 or ASCII, checking whitespaces\r\n",
      "--> text contains only allowed whitespaces\r\n"
     ]
    },
    {
     "name": "stdout",
     "output_type": "stream",
     "text": [
      "--> data/local/dict_nosp/lexiconp.txt is OK\r\n",
      "\r\n"
     ]
    },
    {
     "name": "stdout",
     "output_type": "stream",
     "text": [
      "Checking lexicon pair data/local/dict_nosp/lexicon.txt and data/local/dict_nosp/lexiconp.txt\r\n"
     ]
    },
    {
     "name": "stdout",
     "output_type": "stream",
     "text": [
      "--> lexicon pair data/local/dict_nosp/lexicon.txt and data/local/dict_nosp/lexiconp.txt match\r\n",
      "\r\n",
      "Checking data/local/dict_nosp/extra_questions.txt ...\r\n",
      "--> reading data/local/dict_nosp/extra_questions.txt\r\n",
      "--> text seems to be UTF-8 or ASCII, checking whitespaces\r\n",
      "--> text contains only allowed whitespaces\r\n",
      "--> data/local/dict_nosp/extra_questions.txt is OK\r\n",
      "--> SUCCESS [validating dictionary directory data/local/dict_nosp]\r\n",
      "\r\n"
     ]
    },
    {
     "name": "stdout",
     "output_type": "stream",
     "text": [
      "./utils/dict_dir_add_pronprobs.sh: normalizing pronprobs so maximum is 1 for each word.\r\n"
     ]
    },
    {
     "name": "stdout",
     "output_type": "stream",
     "text": [
      "./utils/dict_dir_add_pronprobs.sh: produced dictionary directory with probabilities in data/local/dict/\r\n",
      "./utils/dict_dir_add_pronprobs.sh: validating data/local/dict ..\r\n"
     ]
    },
    {
     "name": "stdout",
     "output_type": "stream",
     "text": [
      "Checking data/local/dict/silence_phones.txt ...\r\n",
      "--> reading data/local/dict/silence_phones.txt\r\n",
      "--> text seems to be UTF-8 or ASCII, checking whitespaces\r\n",
      "--> text contains only allowed whitespaces\r\n",
      "--> data/local/dict/silence_phones.txt is OK\r\n",
      "\r\n",
      "Checking data/local/dict/optional_silence.txt ...\r\n",
      "--> reading data/local/dict/optional_silence.txt\r\n",
      "--> text seems to be UTF-8 or ASCII, checking whitespaces\r\n",
      "--> text contains only allowed whitespaces\r\n",
      "--> data/local/dict/optional_silence.txt is OK\r\n",
      "\r\n",
      "Checking data/local/dict/nonsilence_phones.txt ...\r\n",
      "--> reading data/local/dict/nonsilence_phones.txt\r\n",
      "--> text seems to be UTF-8 or ASCII, checking whitespaces\r\n",
      "--> text contains only allowed whitespaces\r\n",
      "--> data/local/dict/nonsilence_phones.txt is OK\r\n",
      "\r\n",
      "Checking disjoint: silence_phones.txt, nonsilence_phones.txt\r\n",
      "--> disjoint property is OK.\r\n",
      "\r\n",
      "Checking data/local/dict/lexicon.txt\r\n",
      "--> reading data/local/dict/lexicon.txt\r\n"
     ]
    },
    {
     "name": "stdout",
     "output_type": "stream",
     "text": [
      "--> text seems to be UTF-8 or ASCII, checking whitespaces\r\n",
      "--> text contains only allowed whitespaces\r\n"
     ]
    },
    {
     "name": "stdout",
     "output_type": "stream",
     "text": [
      "--> data/local/dict/lexicon.txt is OK\r\n",
      "\r\n"
     ]
    },
    {
     "name": "stdout",
     "output_type": "stream",
     "text": [
      "Checking data/local/dict/lexiconp.txt\r\n",
      "--> reading data/local/dict/lexiconp.txt\r\n"
     ]
    },
    {
     "name": "stdout",
     "output_type": "stream",
     "text": [
      "--> text seems to be UTF-8 or ASCII, checking whitespaces\r\n",
      "--> text contains only allowed whitespaces\r\n"
     ]
    },
    {
     "name": "stdout",
     "output_type": "stream",
     "text": [
      "--> data/local/dict/lexiconp.txt is OK\r\n",
      "\r\n"
     ]
    },
    {
     "name": "stdout",
     "output_type": "stream",
     "text": [
      "Checking data/local/dict/lexiconp_silprob.txt\r\n",
      "--> reading data/local/dict/lexiconp_silprob.txt\r\n"
     ]
    },
    {
     "name": "stdout",
     "output_type": "stream",
     "text": [
      "--> text seems to be UTF-8 or ASCII, checking whitespaces\r\n",
      "--> text contains only allowed whitespaces\r\n"
     ]
    },
    {
     "name": "stdout",
     "output_type": "stream",
     "text": [
      "--> data/local/dict/lexiconp_silprob.txt is OK\r\n",
      "\r\n"
     ]
    },
    {
     "name": "stdout",
     "output_type": "stream",
     "text": [
      "Checking lexicon pair data/local/dict/lexicon.txt and data/local/dict/lexiconp.txt\r\n"
     ]
    },
    {
     "name": "stdout",
     "output_type": "stream",
     "text": [
      "--> lexicon pair data/local/dict/lexicon.txt and data/local/dict/lexiconp.txt match\r\n",
      "\r\n",
      "Checking lexicon pair data/local/dict/lexiconp.txt and data/local/dict/lexiconp_silprob.txt\r\n"
     ]
    },
    {
     "name": "stdout",
     "output_type": "stream",
     "text": [
      "--> lexicon pair data/local/dict/lexiconp.txt and data/local/dict/lexiconp_silprob.txt match\r\n",
      "\r\n",
      "Checking data/local/dict/extra_questions.txt ...\r\n",
      "--> reading data/local/dict/extra_questions.txt\r\n",
      "--> text seems to be UTF-8 or ASCII, checking whitespaces\r\n",
      "--> text contains only allowed whitespaces\r\n",
      "--> data/local/dict/extra_questions.txt is OK\r\n",
      "--> SUCCESS [validating dictionary directory data/local/dict]\r\n",
      "\r\n",
      "Some low-probability prons include: \r\n",
      "# sort -k2,2 -n data/local/dict/lexiconp.txt  | head -n 8\r\n"
     ]
    },
    {
     "name": "stdout",
     "output_type": "stream",
     "text": [
      "co 0.00236127 k o\r\n",
      "i 0.00304829 a j\r\n",
      "zawsze 0.0113637 z a v S e\r\n",
      "szybko 0.012987 S I b k o\r\n",
      "przypadku 0.0136986 p S I p a d k u\r\n",
      "między 0.0157894 m j en dz I\r\n",
      "często 0.016129 tS en s t o\r\n",
      "części 0.0169492 tS en si tsi i\r\n",
      "sort: write failed: 'standard output': Broken pipe\r\n",
      "sort: write error\r\n",
      "utils/prepare_lang.sh data/local/dict <unk> data/local/tmp data/lang\r\n"
     ]
    },
    {
     "name": "stdout",
     "output_type": "stream",
     "text": [
      "Checking data/local/dict/silence_phones.txt ...\r\n",
      "--> reading data/local/dict/silence_phones.txt\r\n",
      "--> text seems to be UTF-8 or ASCII, checking whitespaces\r\n",
      "--> text contains only allowed whitespaces\r\n",
      "--> data/local/dict/silence_phones.txt is OK\r\n",
      "\r\n",
      "Checking data/local/dict/optional_silence.txt ...\r\n",
      "--> reading data/local/dict/optional_silence.txt\r\n",
      "--> text seems to be UTF-8 or ASCII, checking whitespaces\r\n",
      "--> text contains only allowed whitespaces\r\n",
      "--> data/local/dict/optional_silence.txt is OK\r\n",
      "\r\n",
      "Checking data/local/dict/nonsilence_phones.txt ...\r\n",
      "--> reading data/local/dict/nonsilence_phones.txt\r\n",
      "--> text seems to be UTF-8 or ASCII, checking whitespaces\r\n",
      "--> text contains only allowed whitespaces\r\n",
      "--> data/local/dict/nonsilence_phones.txt is OK\r\n",
      "\r\n",
      "Checking disjoint: silence_phones.txt, nonsilence_phones.txt\r\n",
      "--> disjoint property is OK.\r\n",
      "\r\n",
      "Checking data/local/dict/lexicon.txt\r\n",
      "--> reading data/local/dict/lexicon.txt\r\n"
     ]
    },
    {
     "name": "stdout",
     "output_type": "stream",
     "text": [
      "--> text seems to be UTF-8 or ASCII, checking whitespaces\r\n",
      "--> text contains only allowed whitespaces\r\n"
     ]
    },
    {
     "name": "stdout",
     "output_type": "stream",
     "text": [
      "--> data/local/dict/lexicon.txt is OK\r\n",
      "\r\n"
     ]
    },
    {
     "name": "stdout",
     "output_type": "stream",
     "text": [
      "Checking data/local/dict/lexiconp.txt\r\n",
      "--> reading data/local/dict/lexiconp.txt\r\n"
     ]
    },
    {
     "name": "stdout",
     "output_type": "stream",
     "text": [
      "--> text seems to be UTF-8 or ASCII, checking whitespaces\r\n",
      "--> text contains only allowed whitespaces\r\n"
     ]
    },
    {
     "name": "stdout",
     "output_type": "stream",
     "text": [
      "--> data/local/dict/lexiconp.txt is OK\r\n",
      "\r\n"
     ]
    },
    {
     "name": "stdout",
     "output_type": "stream",
     "text": [
      "Checking data/local/dict/lexiconp_silprob.txt\r\n",
      "--> reading data/local/dict/lexiconp_silprob.txt\r\n"
     ]
    },
    {
     "name": "stdout",
     "output_type": "stream",
     "text": [
      "--> text seems to be UTF-8 or ASCII, checking whitespaces\r\n",
      "--> text contains only allowed whitespaces\r\n"
     ]
    },
    {
     "name": "stdout",
     "output_type": "stream",
     "text": [
      "--> data/local/dict/lexiconp_silprob.txt is OK\r\n",
      "\r\n"
     ]
    },
    {
     "name": "stdout",
     "output_type": "stream",
     "text": [
      "Checking lexicon pair data/local/dict/lexicon.txt and data/local/dict/lexiconp.txt\r\n"
     ]
    },
    {
     "name": "stdout",
     "output_type": "stream",
     "text": [
      "--> lexicon pair data/local/dict/lexicon.txt and data/local/dict/lexiconp.txt match\r\n",
      "\r\n",
      "Checking lexicon pair data/local/dict/lexiconp.txt and data/local/dict/lexiconp_silprob.txt\r\n"
     ]
    },
    {
     "name": "stdout",
     "output_type": "stream",
     "text": [
      "--> lexicon pair data/local/dict/lexiconp.txt and data/local/dict/lexiconp_silprob.txt match\r\n",
      "\r\n",
      "Checking data/local/dict/extra_questions.txt ...\r\n",
      "--> reading data/local/dict/extra_questions.txt\r\n"
     ]
    },
    {
     "name": "stdout",
     "output_type": "stream",
     "text": [
      "--> text seems to be UTF-8 or ASCII, checking whitespaces\r\n",
      "--> text contains only allowed whitespaces\r\n",
      "--> data/local/dict/extra_questions.txt is OK\r\n",
      "--> SUCCESS [validating dictionary directory data/local/dict]\r\n",
      "\r\n"
     ]
    },
    {
     "name": "stdout",
     "output_type": "stream",
     "text": [
      "fstaddselfloops data/lang/phones/wdisambig_phones.int data/lang/phones/wdisambig_words.int \r\n"
     ]
    },
    {
     "name": "stdout",
     "output_type": "stream",
     "text": [
      "prepare_lang.sh: validating output directory\r\n"
     ]
    },
    {
     "name": "stdout",
     "output_type": "stream",
     "text": [
      "utils/validate_lang.pl data/lang\r\n",
      "Checking existence of separator file\r\n",
      "separator file data/lang/subword_separator.txt is empty or does not exist, deal in word case.\r\n",
      "Checking data/lang/phones.txt ...\r\n",
      "--> text seems to be UTF-8 or ASCII, checking whitespaces\r\n",
      "--> text contains only allowed whitespaces\r\n",
      "--> data/lang/phones.txt is OK\r\n",
      "\r\n",
      "Checking words.txt: #0 ...\r\n"
     ]
    },
    {
     "name": "stdout",
     "output_type": "stream",
     "text": [
      "--> text seems to be UTF-8 or ASCII, checking whitespaces\r\n",
      "--> text contains only allowed whitespaces\r\n"
     ]
    },
    {
     "name": "stdout",
     "output_type": "stream",
     "text": [
      "--> data/lang/words.txt is OK\r\n",
      "\r\n",
      "Checking disjoint: silence.txt, nonsilence.txt, disambig.txt ...\r\n",
      "--> silence.txt and nonsilence.txt are disjoint\r\n",
      "--> silence.txt and disambig.txt are disjoint\r\n",
      "--> disambig.txt and nonsilence.txt are disjoint\r\n",
      "--> disjoint property is OK\r\n",
      "\r\n",
      "Checking sumation: silence.txt, nonsilence.txt, disambig.txt ...\r\n",
      "--> found no unexplainable phones in phones.txt\r\n",
      "\r\n",
      "Checking data/lang/phones/context_indep.{txt, int, csl} ...\r\n",
      "--> text seems to be UTF-8 or ASCII, checking whitespaces\r\n",
      "--> text contains only allowed whitespaces\r\n",
      "--> 5 entry/entries in data/lang/phones/context_indep.txt\r\n",
      "--> data/lang/phones/context_indep.int corresponds to data/lang/phones/context_indep.txt\r\n",
      "--> data/lang/phones/context_indep.csl corresponds to data/lang/phones/context_indep.txt\r\n",
      "--> data/lang/phones/context_indep.{txt, int, csl} are OK\r\n",
      "\r\n",
      "Checking data/lang/phones/nonsilence.{txt, int, csl} ...\r\n",
      "--> text seems to be UTF-8 or ASCII, checking whitespaces\r\n",
      "--> text contains only allowed whitespaces\r\n",
      "--> 144 entry/entries in data/lang/phones/nonsilence.txt\r\n",
      "--> data/lang/phones/nonsilence.int corresponds to data/lang/phones/nonsilence.txt\r\n",
      "--> data/lang/phones/nonsilence.csl corresponds to data/lang/phones/nonsilence.txt\r\n",
      "--> data/lang/phones/nonsilence.{txt, int, csl} are OK\r\n",
      "\r\n",
      "Checking data/lang/phones/silence.{txt, int, csl} ...\r\n",
      "--> text seems to be UTF-8 or ASCII, checking whitespaces\r\n",
      "--> text contains only allowed whitespaces\r\n",
      "--> 5 entry/entries in data/lang/phones/silence.txt\r\n",
      "--> data/lang/phones/silence.int corresponds to data/lang/phones/silence.txt\r\n",
      "--> data/lang/phones/silence.csl corresponds to data/lang/phones/silence.txt\r\n",
      "--> data/lang/phones/silence.{txt, int, csl} are OK\r\n",
      "\r\n",
      "Checking data/lang/phones/optional_silence.{txt, int, csl} ...\r\n",
      "--> text seems to be UTF-8 or ASCII, checking whitespaces\r\n",
      "--> text contains only allowed whitespaces\r\n",
      "--> 1 entry/entries in data/lang/phones/optional_silence.txt\r\n",
      "--> data/lang/phones/optional_silence.int corresponds to data/lang/phones/optional_silence.txt\r\n",
      "--> data/lang/phones/optional_silence.csl corresponds to data/lang/phones/optional_silence.txt\r\n",
      "--> data/lang/phones/optional_silence.{txt, int, csl} are OK\r\n",
      "\r\n",
      "Checking data/lang/phones/disambig.{txt, int, csl} ...\r\n",
      "--> text seems to be UTF-8 or ASCII, checking whitespaces\r\n",
      "--> text contains only allowed whitespaces\r\n",
      "--> 6 entry/entries in data/lang/phones/disambig.txt\r\n",
      "--> data/lang/phones/disambig.int corresponds to data/lang/phones/disambig.txt\r\n",
      "--> data/lang/phones/disambig.csl corresponds to data/lang/phones/disambig.txt\r\n",
      "--> data/lang/phones/disambig.{txt, int, csl} are OK\r\n",
      "\r\n",
      "Checking data/lang/phones/roots.{txt, int} ...\r\n",
      "--> text seems to be UTF-8 or ASCII, checking whitespaces\r\n",
      "--> text contains only allowed whitespaces\r\n",
      "--> 37 entry/entries in data/lang/phones/roots.txt\r\n",
      "--> data/lang/phones/roots.int corresponds to data/lang/phones/roots.txt\r\n",
      "--> data/lang/phones/roots.{txt, int} are OK\r\n",
      "\r\n",
      "Checking data/lang/phones/sets.{txt, int} ...\r\n",
      "--> text seems to be UTF-8 or ASCII, checking whitespaces\r\n",
      "--> text contains only allowed whitespaces\r\n",
      "--> 37 entry/entries in data/lang/phones/sets.txt\r\n",
      "--> data/lang/phones/sets.int corresponds to data/lang/phones/sets.txt\r\n",
      "--> data/lang/phones/sets.{txt, int} are OK\r\n",
      "\r\n",
      "Checking data/lang/phones/extra_questions.{txt, int} ...\r\n",
      "--> text seems to be UTF-8 or ASCII, checking whitespaces\r\n",
      "--> text contains only allowed whitespaces\r\n",
      "--> 11 entry/entries in data/lang/phones/extra_questions.txt\r\n",
      "--> data/lang/phones/extra_questions.int corresponds to data/lang/phones/extra_questions.txt\r\n",
      "--> data/lang/phones/extra_questions.{txt, int} are OK\r\n",
      "\r\n",
      "Checking data/lang/phones/word_boundary.{txt, int} ...\r\n",
      "--> text seems to be UTF-8 or ASCII, checking whitespaces\r\n",
      "--> text contains only allowed whitespaces\r\n",
      "--> 149 entry/entries in data/lang/phones/word_boundary.txt\r\n",
      "--> data/lang/phones/word_boundary.int corresponds to data/lang/phones/word_boundary.txt\r\n",
      "--> data/lang/phones/word_boundary.{txt, int} are OK\r\n",
      "\r\n",
      "Checking optional_silence.txt ...\r\n",
      "--> reading data/lang/phones/optional_silence.txt\r\n",
      "--> data/lang/phones/optional_silence.txt is OK\r\n",
      "\r\n",
      "Checking disambiguation symbols: #0 and #1\r\n",
      "--> data/lang/phones/disambig.txt has \"#0\" and \"#1\"\r\n",
      "--> data/lang/phones/disambig.txt is OK\r\n",
      "\r\n",
      "Checking topo ...\r\n",
      "\r\n",
      "Checking word_boundary.txt: silence.txt, nonsilence.txt, disambig.txt ...\r\n",
      "--> data/lang/phones/word_boundary.txt doesn't include disambiguation symbols\r\n"
     ]
    },
    {
     "name": "stdout",
     "output_type": "stream",
     "text": [
      "--> data/lang/phones/word_boundary.txt is the union of nonsilence.txt and silence.txt\r\n",
      "--> data/lang/phones/word_boundary.txt is OK\r\n",
      "\r\n",
      "Checking word-level disambiguation symbols...\r\n",
      "--> data/lang/phones/wdisambig.txt exists (newer prepare_lang.sh)\r\n",
      "Checking word_boundary.int and disambig.int\r\n",
      "--> generating a 19 word/subword sequence\r\n"
     ]
    },
    {
     "name": "stdout",
     "output_type": "stream",
     "text": [
      "--> resulting phone sequence from L.fst corresponds to the word sequence\r\n",
      "--> L.fst is OK\r\n",
      "--> generating a 15 word/subword sequence\r\n"
     ]
    },
    {
     "name": "stdout",
     "output_type": "stream",
     "text": [
      "--> resulting phone sequence from L_disambig.fst corresponds to the word sequence\r\n",
      "--> L_disambig.fst is OK\r\n",
      "\r\n",
      "Checking data/lang/oov.{txt, int} ...\r\n",
      "--> text seems to be UTF-8 or ASCII, checking whitespaces\r\n",
      "--> text contains only allowed whitespaces\r\n",
      "--> 1 entry/entries in data/lang/oov.txt\r\n",
      "--> data/lang/oov.int corresponds to data/lang/oov.txt\r\n",
      "--> data/lang/oov.{txt, int} are OK\r\n",
      "\r\n"
     ]
    },
    {
     "name": "stdout",
     "output_type": "stream",
     "text": [
      "--> data/lang/L.fst is olabel sorted\r\n"
     ]
    },
    {
     "name": "stdout",
     "output_type": "stream",
     "text": [
      "--> data/lang/L_disambig.fst is olabel sorted\r\n",
      "--> SUCCESS [validating lang directory data/lang]\r\n",
      "Converting 'local_clarin/arpa.lm.gz' to FST\r\n"
     ]
    },
    {
     "name": "stdout",
     "output_type": "stream",
     "text": [
      "arpa2fst --disambig-symbol=#0 --read-symbol-table=data/lang_test/words.txt - data/lang_test/G.fst \r\n"
     ]
    },
    {
     "name": "stdout",
     "output_type": "stream",
     "text": [
      "LOG (arpa2fst[5.5.0~1-2b62]:Read():arpa-file-parser.cc:94) Reading \\data\\ section.\r\n",
      "LOG (arpa2fst[5.5.0~1-2b62]:Read():arpa-file-parser.cc:149) Reading \\1-grams: section.\r\n"
     ]
    },
    {
     "name": "stdout",
     "output_type": "stream",
     "text": [
      "LOG (arpa2fst[5.5.0~1-2b62]:Read():arpa-file-parser.cc:149) Reading \\2-grams: section.\r\n"
     ]
    },
    {
     "name": "stdout",
     "output_type": "stream",
     "text": [
      "LOG (arpa2fst[5.5.0~1-2b62]:Read():arpa-file-parser.cc:149) Reading \\3-grams: section.\r\n"
     ]
    },
    {
     "name": "stdout",
     "output_type": "stream",
     "text": [
      "LOG (arpa2fst[5.5.0~1-2b62]:RemoveRedundantStates():arpa-lm-compiler.cc:359) Reduced num-states from 615820 to 373636\r\n"
     ]
    },
    {
     "name": "stdout",
     "output_type": "stream",
     "text": [
      "fstisstochastic data/lang_test/G.fst \r\n"
     ]
    },
    {
     "name": "stdout",
     "output_type": "stream",
     "text": [
      "2.3509e-06 -0.441586\r\n"
     ]
    },
    {
     "name": "stdout",
     "output_type": "stream",
     "text": [
      "Succeeded in formatting LM: 'local_clarin/arpa.lm.gz'\r\n"
     ]
    },
    {
     "name": "stdout",
     "output_type": "stream",
     "text": [
      "  % Total    % Received % Xferd  Average Speed   Time    Time     Time  Current\r\n",
      "                                 Dload  Upload   Total   Spent    Left  Speed\r\n",
      "\r",
      "  0     0    0     0    0     0      0      0 --:--:-- --:--:-- --:--:--     0"
     ]
    },
    {
     "name": "stdout",
     "output_type": "stream",
     "text": [
      "\r",
      "  0  842M    0 25743    0     0  36881      0  6:39:02 --:--:--  6:39:02 36828"
     ]
    },
    {
     "name": "stdout",
     "output_type": "stream",
     "text": [
      "\r",
      "  0  842M    0 1723k    0     0  1018k      0  0:14:06  0:00:01  0:14:05 1018k"
     ]
    },
    {
     "name": "stdout",
     "output_type": "stream",
     "text": [
      "\r",
      "  2  842M    2 18.1M    0     0  6888k      0  0:02:05  0:00:02  0:02:03 6886k"
     ]
    },
    {
     "name": "stdout",
     "output_type": "stream",
     "text": [
      "\r",
      "  4  842M    4 35.4M    0     0  9777k      0  0:01:28  0:00:03  0:01:25 9775k"
     ]
    },
    {
     "name": "stdout",
     "output_type": "stream",
     "text": [
      "\r",
      "  6  842M    6 52.6M    0     0  11.1M      0  0:01:15  0:00:04  0:01:11 11.1M"
     ]
    },
    {
     "name": "stdout",
     "output_type": "stream",
     "text": [
      "\r",
      "  8  842M    8 70.0M    0     0  12.2M      0  0:01:08  0:00:05  0:01:03 13.9M"
     ]
    },
    {
     "name": "stdout",
     "output_type": "stream",
     "text": [
      "\r",
      " 10  842M   10 86.7M    0     0  13.1M      0  0:01:04  0:00:06  0:00:58 17.3M"
     ]
    },
    {
     "name": "stdout",
     "output_type": "stream",
     "text": [
      "\r",
      " 12  842M   12  103M    0     0  13.5M      0  0:01:02  0:00:07  0:00:55 17.3M"
     ]
    },
    {
     "name": "stdout",
     "output_type": "stream",
     "text": [
      "\r",
      " 14  842M   14  119M    0     0  13.9M      0  0:01:00  0:00:08  0:00:52 17.2M"
     ]
    },
    {
     "name": "stdout",
     "output_type": "stream",
     "text": [
      "\r",
      " 16  842M   16  136M    0     0  14.1M      0  0:00:59  0:00:09  0:00:50 17.1M"
     ]
    },
    {
     "name": "stdout",
     "output_type": "stream",
     "text": [
      "\r",
      " 18  842M   18  153M    0     0  14.4M      0  0:00:58  0:00:10  0:00:48 17.1M"
     ]
    },
    {
     "name": "stdout",
     "output_type": "stream",
     "text": [
      "\r",
      " 20  842M   20  171M    0     0  14.7M      0  0:00:57  0:00:11  0:00:46 16.7M"
     ]
    },
    {
     "name": "stdout",
     "output_type": "stream",
     "text": [
      "\r",
      " 22  842M   22  188M    0     0  14.9M      0  0:00:56  0:00:12  0:00:44 16.9M"
     ]
    },
    {
     "name": "stdout",
     "output_type": "stream",
     "text": [
      "\r",
      " 24  842M   24  206M    0     0  15.1M      0  0:00:55  0:00:13  0:00:42 17.1M"
     ]
    },
    {
     "name": "stdout",
     "output_type": "stream",
     "text": [
      "\r",
      " 26  842M   26  224M    0     0  15.2M      0  0:00:55  0:00:14  0:00:41 17.4M"
     ]
    },
    {
     "name": "stdout",
     "output_type": "stream",
     "text": [
      "\r",
      " 28  842M   28  241M    0     0  15.4M      0  0:00:54  0:00:15  0:00:39 17.3M"
     ]
    },
    {
     "name": "stdout",
     "output_type": "stream",
     "text": [
      "\r",
      " 30  842M   30  258M    0     0  15.5M      0  0:00:54  0:00:16  0:00:38 17.3M"
     ]
    },
    {
     "name": "stdout",
     "output_type": "stream",
     "text": [
      "\r",
      " 32  842M   32  276M    0     0  15.6M      0  0:00:53  0:00:17  0:00:36 17.3M"
     ]
    },
    {
     "name": "stdout",
     "output_type": "stream",
     "text": [
      "\r",
      " 34  842M   34  293M    0     0  15.7M      0  0:00:53  0:00:18  0:00:35 17.2M"
     ]
    },
    {
     "name": "stdout",
     "output_type": "stream",
     "text": [
      "\r",
      " 36  842M   36  310M    0     0  15.7M      0  0:00:53  0:00:19  0:00:34 17.1M"
     ]
    },
    {
     "name": "stdout",
     "output_type": "stream",
     "text": [
      "\r",
      " 38  842M   38  327M    0     0  15.8M      0  0:00:53  0:00:20  0:00:33 17.1M"
     ]
    },
    {
     "name": "stdout",
     "output_type": "stream",
     "text": [
      "\r",
      " 40  842M   40  344M    0     0  15.8M      0  0:00:53  0:00:21  0:00:32 17.0M"
     ]
    },
    {
     "name": "stdout",
     "output_type": "stream",
     "text": [
      "\r",
      " 42  842M   42  361M    0     0  15.9M      0  0:00:52  0:00:22  0:00:30 17.3M"
     ]
    },
    {
     "name": "stdout",
     "output_type": "stream",
     "text": [
      "\r",
      " 45  842M   45  379M    0     0  16.0M      0  0:00:52  0:00:23  0:00:29 17.4M"
     ]
    },
    {
     "name": "stdout",
     "output_type": "stream",
     "text": [
      "\r",
      " 46  842M   46  395M    0     0  16.0M      0  0:00:52  0:00:24  0:00:28 17.3M"
     ]
    },
    {
     "name": "stdout",
     "output_type": "stream",
     "text": [
      "\r",
      " 48  842M   48  411M    0     0  16.0M      0  0:00:52  0:00:25  0:00:27 17.2M"
     ]
    },
    {
     "name": "stdout",
     "output_type": "stream",
     "text": [
      "\r",
      " 50  842M   50  428M    0     0  16.1M      0  0:00:52  0:00:26  0:00:26 17.1M"
     ]
    },
    {
     "name": "stdout",
     "output_type": "stream",
     "text": [
      "\r",
      " 52  842M   52  444M    0     0  16.1M      0  0:00:52  0:00:27  0:00:25 16.6M"
     ]
    },
    {
     "name": "stdout",
     "output_type": "stream",
     "text": [
      "\r",
      " 54  842M   54  461M    0     0  16.1M      0  0:00:52  0:00:28  0:00:24 16.4M"
     ]
    },
    {
     "name": "stdout",
     "output_type": "stream",
     "text": [
      "\r",
      " 56  842M   56  478M    0     0  16.1M      0  0:00:52  0:00:29  0:00:23 16.5M"
     ]
    },
    {
     "name": "stdout",
     "output_type": "stream",
     "text": [
      "\r",
      " 58  842M   58  495M    0     0  16.1M      0  0:00:51  0:00:30  0:00:21 16.7M"
     ]
    },
    {
     "name": "stdout",
     "output_type": "stream",
     "text": [
      "\r",
      " 60  842M   60  513M    0     0  16.2M      0  0:00:51  0:00:31  0:00:20 16.8M"
     ]
    },
    {
     "name": "stdout",
     "output_type": "stream",
     "text": [
      "\r",
      " 62  842M   62  530M    0     0  16.2M      0  0:00:51  0:00:32  0:00:19 16.9M"
     ]
    },
    {
     "name": "stdout",
     "output_type": "stream",
     "text": [
      "\r",
      " 64  842M   64  547M    0     0  16.2M      0  0:00:51  0:00:33  0:00:18 17.0M"
     ]
    },
    {
     "name": "stdout",
     "output_type": "stream",
     "text": [
      "\r",
      " 67  842M   67  564M    0     0  16.2M      0  0:00:51  0:00:34  0:00:17 17.0M"
     ]
    },
    {
     "name": "stdout",
     "output_type": "stream",
     "text": [
      "\r",
      " 69  842M   69  581M    0     0  16.3M      0  0:00:51  0:00:35  0:00:16 17.0M"
     ]
    },
    {
     "name": "stdout",
     "output_type": "stream",
     "text": [
      "\r",
      " 71  842M   71  598M    0     0  16.3M      0  0:00:51  0:00:36  0:00:15 16.9M"
     ]
    },
    {
     "name": "stdout",
     "output_type": "stream",
     "text": [
      "\r",
      " 73  842M   73  615M    0     0  16.3M      0  0:00:51  0:00:37  0:00:14 16.9M"
     ]
    },
    {
     "name": "stdout",
     "output_type": "stream",
     "text": [
      "\r",
      " 75  842M   75  633M    0     0  16.3M      0  0:00:51  0:00:38  0:00:13 17.0M"
     ]
    },
    {
     "name": "stdout",
     "output_type": "stream",
     "text": [
      "\r",
      " 77  842M   77  650M    0     0  16.3M      0  0:00:51  0:00:39  0:00:12 17.0M"
     ]
    },
    {
     "name": "stdout",
     "output_type": "stream",
     "text": [
      "\r",
      " 79  842M   79  667M    0     0  16.4M      0  0:00:51  0:00:40  0:00:11 17.0M"
     ]
    },
    {
     "name": "stdout",
     "output_type": "stream",
     "text": [
      "\r",
      " 81  842M   81  684M    0     0  16.4M      0  0:00:51  0:00:41  0:00:10 17.1M"
     ]
    },
    {
     "name": "stdout",
     "output_type": "stream",
     "text": [
      "\r",
      " 83  842M   83  701M    0     0  16.4M      0  0:00:51  0:00:42  0:00:09 17.0M"
     ]
    },
    {
     "name": "stdout",
     "output_type": "stream",
     "text": [
      "\r",
      " 85  842M   85  717M    0     0  16.4M      0  0:00:51  0:00:43  0:00:08 17.1M"
     ]
    },
    {
     "name": "stdout",
     "output_type": "stream",
     "text": [
      "\r",
      " 87  842M   87  734M    0     0  16.4M      0  0:00:51  0:00:44  0:00:07 17.1M"
     ]
    },
    {
     "name": "stdout",
     "output_type": "stream",
     "text": [
      "\r",
      " 89  842M   89  751M    0     0  16.4M      0  0:00:51  0:00:45  0:00:06 17.0M"
     ]
    },
    {
     "name": "stdout",
     "output_type": "stream",
     "text": [
      "\r",
      " 91  842M   91  768M    0     0  16.4M      0  0:00:51  0:00:46  0:00:05 17.0M"
     ]
    },
    {
     "name": "stdout",
     "output_type": "stream",
     "text": [
      "\r",
      " 93  842M   93  785M    0     0  16.4M      0  0:00:51  0:00:47  0:00:04 17.0M"
     ]
    },
    {
     "name": "stdout",
     "output_type": "stream",
     "text": [
      "\r",
      " 95  842M   95  802M    0     0  16.5M      0  0:00:51  0:00:48  0:00:03 16.9M"
     ]
    },
    {
     "name": "stdout",
     "output_type": "stream",
     "text": [
      "\r",
      " 97  842M   97  820M    0     0  16.5M      0  0:00:50  0:00:49  0:00:01 17.0M"
     ]
    },
    {
     "name": "stdout",
     "output_type": "stream",
     "text": [
      "\r",
      " 99  842M   99  838M    0     0  16.5M      0  0:00:50  0:00:50 --:--:-- 17.1M"
     ]
    },
    {
     "name": "stdout",
     "output_type": "stream",
     "text": [
      "\r",
      "100  842M  100  842M    0     0  16.5M      0  0:00:50  0:00:50 --:--:-- 17.4M\r\n"
     ]
    },
    {
     "name": "stdout",
     "output_type": "stream",
     "text": [
      "arpa-to-const-arpa --bos-symbol=59176 --eos-symbol=59177 --unk-symbol=1 'gunzip -c local_clarin/large.arpa.gz | utils/map_arpa_lm.pl data/lang_carpa/words.txt|' data/lang_carpa/G.carpa \r\n",
      "LOG (arpa-to-const-arpa[5.5.0~1-2b62]:BuildConstArpaLm():const-arpa-lm.cc:1078) Reading gunzip -c local_clarin/large.arpa.gz | utils/map_arpa_lm.pl data/lang_carpa/words.txt|\r\n"
     ]
    },
    {
     "name": "stdout",
     "output_type": "stream",
     "text": [
      "utils/map_arpa_lm.pl: Processing \"\\data\\\"\r\n",
      "utils/map_arpa_lm.pl: Processing \"\\1-grams:\\\"\r\n",
      "LOG (arpa-to-const-arpa[5.5.0~1-2b62]:Read():arpa-file-parser.cc:94) Reading \\data\\ section.\r\n",
      "LOG (arpa-to-const-arpa[5.5.0~1-2b62]:Read():arpa-file-parser.cc:149) Reading \\1-grams: section.\r\n"
     ]
    },
    {
     "name": "stdout",
     "output_type": "stream",
     "text": [
      "utils/map_arpa_lm.pl: Processing \"\\2-grams:\\\"\r\n",
      "LOG (arpa-to-const-arpa[5.5.0~1-2b62]:Read():arpa-file-parser.cc:149) Reading \\2-grams: section.\r\n"
     ]
    },
    {
     "name": "stdout",
     "output_type": "stream",
     "text": [
      "utils/map_arpa_lm.pl: Processing \"\\3-grams:\\\"\r\n",
      "LOG (arpa-to-const-arpa[5.5.0~1-2b62]:Read():arpa-file-parser.cc:149) Reading \\3-grams: section.\r\n"
     ]
    },
    {
     "name": "stdout",
     "output_type": "stream",
     "text": [
      "steps/align_fmllr.sh --nj 40 data/train data/lang exp/tri3b exp/tri3b_ali\r\n"
     ]
    },
    {
     "name": "stdout",
     "output_type": "stream",
     "text": [
      "steps/align_fmllr.sh: feature type is lda\r\n"
     ]
    },
    {
     "name": "stdout",
     "output_type": "stream",
     "text": [
      "steps/align_fmllr.sh: compiling training graphs\r\n"
     ]
    },
    {
     "name": "stdout",
     "output_type": "stream",
     "text": [
      "steps/align_fmllr.sh: aligning data in data/train using exp/tri3b/final.alimdl and speaker-independent features.\r\n"
     ]
    },
    {
     "name": "stdout",
     "output_type": "stream",
     "text": [
      "steps/align_fmllr.sh: computing fMLLR transforms\r\n"
     ]
    },
    {
     "name": "stdout",
     "output_type": "stream",
     "text": [
      "steps/align_fmllr.sh: doing final alignment.\r\n"
     ]
    },
    {
     "name": "stdout",
     "output_type": "stream",
     "text": [
      "steps/align_fmllr.sh: done aligning data.\r\n",
      "steps/diagnostic/analyze_alignments.sh --cmd run.pl data/lang exp/tri3b_ali\r\n"
     ]
    },
    {
     "name": "stdout",
     "output_type": "stream",
     "text": [
      "steps/diagnostic/analyze_alignments.sh: see stats in exp/tri3b_ali/log/analyze_alignments.log\r\n",
      "10 warnings in exp/tri3b_ali/log/fmllr.*.log\r\n",
      "139 warnings in exp/tri3b_ali/log/align_pass1.*.log\r\n",
      "145 warnings in exp/tri3b_ali/log/align_pass2.*.log\r\n",
      "steps/make_denlats.sh --nj 40 --transform-dir exp/tri3b_ali data/train data/lang exp/tri3b exp/tri3b_denlats\r\n"
     ]
    },
    {
     "name": "stdout",
     "output_type": "stream",
     "text": [
      "Making unigram grammar FST in exp/tri3b_denlats/lang\r\n"
     ]
    },
    {
     "name": "stdout",
     "output_type": "stream",
     "text": [
      "Compiling decoding graph in exp/tri3b_denlats/dengraph\r\n",
      "tree-info exp/tri3b/tree \r\n",
      "tree-info exp/tri3b/tree \r\n"
     ]
    },
    {
     "name": "stdout",
     "output_type": "stream",
     "text": [
      "fstpushspecial \r\n",
      "fstdeterminizestar --use-log=true \r\n",
      "fsttablecompose exp/tri3b_denlats/lang/L_disambig.fst exp/tri3b_denlats/lang/G.fst \r\n",
      "fstminimizeencoded \r\n"
     ]
    },
    {
     "name": "stdout",
     "output_type": "stream",
     "text": [
      "fstisstochastic exp/tri3b_denlats/lang/tmp/LG.fst \r\n"
     ]
    },
    {
     "name": "stdout",
     "output_type": "stream",
     "text": [
      "-0.0200327 -0.020296\r\n",
      "[info]: LG not stochastic.\r\n",
      "fstcomposecontext --context-size=3 --central-position=1 --read-disambig-syms=exp/tri3b_denlats/lang/phones/disambig.int --write-disambig-syms=exp/tri3b_denlats/lang/tmp/disambig_ilabels_3_1.int exp/tri3b_denlats/lang/tmp/ilabels_3_1.199774 exp/tri3b_denlats/lang/tmp/LG.fst \r\n"
     ]
    },
    {
     "name": "stdout",
     "output_type": "stream",
     "text": [
      "fstisstochastic exp/tri3b_denlats/lang/tmp/CLG_3_1.fst \r\n"
     ]
    },
    {
     "name": "stdout",
     "output_type": "stream",
     "text": [
      "0 -0.020296\r\n",
      "[info]: CLG not stochastic.\r\n"
     ]
    },
    {
     "name": "stdout",
     "output_type": "stream",
     "text": [
      "make-h-transducer --disambig-syms-out=exp/tri3b_denlats/dengraph/disambig_tid.int --transition-scale=1.0 exp/tri3b_denlats/lang/tmp/ilabels_3_1 exp/tri3b/tree exp/tri3b/final.mdl \r\n"
     ]
    },
    {
     "name": "stdout",
     "output_type": "stream",
     "text": [
      "fsttablecompose exp/tri3b_denlats/dengraph/Ha.fst exp/tri3b_denlats/lang/tmp/CLG_3_1.fst \r\n",
      "fstdeterminizestar --use-log=true \r\n",
      "fstminimizeencoded \r\n",
      "fstrmsymbols exp/tri3b_denlats/dengraph/disambig_tid.int \r\n",
      "fstrmepslocal \r\n"
     ]
    },
    {
     "name": "stdout",
     "output_type": "stream",
     "text": [
      "fstisstochastic exp/tri3b_denlats/dengraph/HCLGa.fst \r\n"
     ]
    },
    {
     "name": "stdout",
     "output_type": "stream",
     "text": [
      "0.000487534 -0.0406351\r\n",
      "HCLGa is not stochastic\r\n",
      "add-self-loops --self-loop-scale=0.1 --reorder=true exp/tri3b/final.mdl exp/tri3b_denlats/dengraph/HCLGa.fst \r\n"
     ]
    },
    {
     "name": "stdout",
     "output_type": "stream",
     "text": [
      "steps/make_denlats.sh: feature type is lda\r\n",
      "steps/make_denlats.sh: using fMLLR transforms from exp/tri3b_ali\r\n"
     ]
    },
    {
     "name": "stdout",
     "output_type": "stream",
     "text": [
      "steps/make_denlats.sh: done generating denominator lattices.\r\n",
      "steps/train_mmi.sh data/train data/lang exp/tri3b_ali exp/tri3b_denlats exp/tri3b_mmi\r\n"
     ]
    },
    {
     "name": "stdout",
     "output_type": "stream",
     "text": [
      "steps/train_mmi.sh: feature type is lda\r\n",
      "Using transforms from exp/tri3b_ali\r\n",
      "Iteration 0 of MMI training\r\n"
     ]
    },
    {
     "name": "stdout",
     "output_type": "stream",
     "text": [
      "Iteration 0: objf was 0.185741883574927, MMI auxf change was 0.0043686216933343\r\n"
     ]
    },
    {
     "name": "stdout",
     "output_type": "stream",
     "text": [
      "Iteration 1 of MMI training\r\n"
     ]
    },
    {
     "name": "stdout",
     "output_type": "stream",
     "text": [
      "Iteration 1: objf was 0.192031224082877, MMI auxf change was 0.00181849658505378\r\n",
      "Iteration 2 of MMI training\r\n"
     ]
    },
    {
     "name": "stdout",
     "output_type": "stream",
     "text": [
      "Iteration 2: objf was 0.195564522394986, MMI auxf change was 0.00155347096461867\r\n",
      "Iteration 3 of MMI training\r\n"
     ]
    },
    {
     "name": "stdout",
     "output_type": "stream",
     "text": [
      "Iteration 3: objf was 0.198654029364272, MMI auxf change was 0.00142769243279937\r\n",
      "MMI training finished\r\n"
     ]
    },
    {
     "name": "stdout",
     "output_type": "stream",
     "text": [
      "tree-info exp/mono0/tree \r\n",
      "tree-info exp/mono0/tree \r\n"
     ]
    },
    {
     "name": "stdout",
     "output_type": "stream",
     "text": [
      "fstminimizeencoded \r\n",
      "fsttablecompose data/lang_nosp_test/L_disambig.fst data/lang_nosp_test/G.fst \r\n",
      "fstpushspecial \r\n",
      "fstdeterminizestar --use-log=true \r\n"
     ]
    },
    {
     "name": "stdout",
     "output_type": "stream",
     "text": [
      "fstisstochastic data/lang_nosp_test/tmp/LG.fst \r\n"
     ]
    },
    {
     "name": "stdout",
     "output_type": "stream",
     "text": [
      "-0.0558215 -0.0565322\r\n"
     ]
    },
    {
     "name": "stdout",
     "output_type": "stream",
     "text": [
      "[info]: LG not stochastic.\r\n"
     ]
    },
    {
     "name": "stdout",
     "output_type": "stream",
     "text": [
      "fstcomposecontext --context-size=1 --central-position=0 --read-disambig-syms=data/lang_nosp_test/phones/disambig.int --write-disambig-syms=data/lang_nosp_test/tmp/disambig_ilabels_1_0.int data/lang_nosp_test/tmp/ilabels_1_0.205830 data/lang_nosp_test/tmp/LG.fst \r\n"
     ]
    },
    {
     "name": "stdout",
     "output_type": "stream",
     "text": [
      "fstisstochastic data/lang_nosp_test/tmp/CLG_1_0.fst \r\n"
     ]
    },
    {
     "name": "stdout",
     "output_type": "stream",
     "text": [
      "-0.0558215 -0.0565322\r\n"
     ]
    },
    {
     "name": "stdout",
     "output_type": "stream",
     "text": [
      "[info]: CLG not stochastic.\r\n"
     ]
    },
    {
     "name": "stdout",
     "output_type": "stream",
     "text": [
      "make-h-transducer --disambig-syms-out=exp/mono0/graph/disambig_tid.int --transition-scale=1.0 data/lang_nosp_test/tmp/ilabels_1_0 exp/mono0/tree exp/mono0/final.mdl \r\n",
      "fsttablecompose exp/mono0/graph/Ha.fst data/lang_nosp_test/tmp/CLG_1_0.fst \r\n",
      "fstdeterminizestar --use-log=true \r\n",
      "fstminimizeencoded \r\n",
      "fstrmepslocal \r\n",
      "fstrmsymbols exp/mono0/graph/disambig_tid.int \r\n"
     ]
    },
    {
     "name": "stdout",
     "output_type": "stream",
     "text": [
      "fstisstochastic exp/mono0/graph/HCLGa.fst \r\n"
     ]
    },
    {
     "name": "stdout",
     "output_type": "stream",
     "text": [
      "0.000128111 -0.112915\r\n"
     ]
    },
    {
     "name": "stdout",
     "output_type": "stream",
     "text": [
      "HCLGa is not stochastic\r\n",
      "add-self-loops --self-loop-scale=0.1 --reorder=true exp/mono0/final.mdl exp/mono0/graph/HCLGa.fst \r\n"
     ]
    },
    {
     "name": "stdout",
     "output_type": "stream",
     "text": [
      "steps/decode.sh --nj 30 exp/mono0/graph data/test exp/mono0/decode\r\n"
     ]
    },
    {
     "name": "stdout",
     "output_type": "stream",
     "text": [
      "decode.sh: feature type is delta\r\n"
     ]
    },
    {
     "name": "stdout",
     "output_type": "stream",
     "text": [
      "steps/diagnostic/analyze_lats.sh --cmd run.pl exp/mono0/graph exp/mono0/decode\r\n"
     ]
    },
    {
     "name": "stdout",
     "output_type": "stream",
     "text": [
      "steps/diagnostic/analyze_lats.sh: see stats in exp/mono0/decode/log/analyze_alignments.log\r\n"
     ]
    },
    {
     "name": "stdout",
     "output_type": "stream",
     "text": [
      "Overall, lattice depth (10,50,90-percentile)=(1,9,69) and mean=29.1\r\n",
      "steps/diagnostic/analyze_lats.sh: see stats in exp/mono0/decode/log/analyze_lattice_depth_stats.log\r\n",
      "local/score.sh --cmd run.pl data/test exp/mono0/graph exp/mono0/decode\r\n",
      "local/score.sh: scoring with word insertion penalty=0.0,0.5,1.0\r\n"
     ]
    },
    {
     "name": "stdout",
     "output_type": "stream",
     "text": [
      "tree-info exp/tri1/tree \r\n",
      "tree-info exp/tri1/tree \r\n"
     ]
    },
    {
     "name": "stdout",
     "output_type": "stream",
     "text": [
      "fstcomposecontext --context-size=3 --central-position=1 --read-disambig-syms=data/lang_nosp_test/phones/disambig.int --write-disambig-syms=data/lang_nosp_test/tmp/disambig_ilabels_3_1.int data/lang_nosp_test/tmp/ilabels_3_1.209476 data/lang_nosp_test/tmp/LG.fst \r\n"
     ]
    },
    {
     "name": "stdout",
     "output_type": "stream",
     "text": [
      "fstisstochastic data/lang_nosp_test/tmp/CLG_3_1.fst \r\n"
     ]
    },
    {
     "name": "stdout",
     "output_type": "stream",
     "text": [
      "0 -0.0565322\r\n"
     ]
    },
    {
     "name": "stdout",
     "output_type": "stream",
     "text": [
      "[info]: CLG not stochastic.\r\n",
      "make-h-transducer --disambig-syms-out=exp/tri1/graph/disambig_tid.int --transition-scale=1.0 data/lang_nosp_test/tmp/ilabels_3_1 exp/tri1/tree exp/tri1/final.mdl \r\n"
     ]
    },
    {
     "name": "stdout",
     "output_type": "stream",
     "text": [
      "fstdeterminizestar --use-log=true \r\n",
      "fstrmsymbols exp/tri1/graph/disambig_tid.int \r\n",
      "fstrmepslocal \r\n",
      "fsttablecompose exp/tri1/graph/Ha.fst data/lang_nosp_test/tmp/CLG_3_1.fst \r\n",
      "fstminimizeencoded \r\n"
     ]
    },
    {
     "name": "stdout",
     "output_type": "stream",
     "text": [
      "fstisstochastic exp/tri1/graph/HCLGa.fst \r\n"
     ]
    },
    {
     "name": "stdout",
     "output_type": "stream",
     "text": [
      "0.000487832 -0.176732\r\n"
     ]
    },
    {
     "name": "stdout",
     "output_type": "stream",
     "text": [
      "HCLGa is not stochastic\r\n",
      "add-self-loops --self-loop-scale=0.1 --reorder=true exp/tri1/final.mdl exp/tri1/graph/HCLGa.fst \r\n"
     ]
    },
    {
     "name": "stdout",
     "output_type": "stream",
     "text": [
      "steps/decode.sh --nj 30 exp/tri1/graph data/test exp/tri1/decode\r\n",
      "decode.sh: feature type is delta\r\n"
     ]
    },
    {
     "name": "stdout",
     "output_type": "stream",
     "text": [
      "steps/diagnostic/analyze_lats.sh --cmd run.pl exp/tri1/graph exp/tri1/decode\r\n"
     ]
    },
    {
     "name": "stdout",
     "output_type": "stream",
     "text": [
      "steps/diagnostic/analyze_lats.sh: see stats in exp/tri1/decode/log/analyze_alignments.log\r\n"
     ]
    },
    {
     "name": "stdout",
     "output_type": "stream",
     "text": [
      "Overall, lattice depth (10,50,90-percentile)=(1,3,13) and mean=6.4\r\n",
      "steps/diagnostic/analyze_lats.sh: see stats in exp/tri1/decode/log/analyze_lattice_depth_stats.log\r\n",
      "local/score.sh --cmd run.pl data/test exp/tri1/graph exp/tri1/decode\r\n",
      "local/score.sh: scoring with word insertion penalty=0.0,0.5,1.0\r\n"
     ]
    },
    {
     "name": "stdout",
     "output_type": "stream",
     "text": [
      "tree-info exp/tri2a/tree \r\n",
      "tree-info exp/tri2a/tree \r\n"
     ]
    },
    {
     "name": "stdout",
     "output_type": "stream",
     "text": [
      "make-h-transducer --disambig-syms-out=exp/tri2a/graph/disambig_tid.int --transition-scale=1.0 data/lang_nosp_test/tmp/ilabels_3_1 exp/tri2a/tree exp/tri2a/final.mdl \r\n"
     ]
    },
    {
     "name": "stdout",
     "output_type": "stream",
     "text": [
      "fstdeterminizestar --use-log=true \r\n",
      "fstrmsymbols exp/tri2a/graph/disambig_tid.int \r\n",
      "fsttablecompose exp/tri2a/graph/Ha.fst data/lang_nosp_test/tmp/CLG_3_1.fst \r\n",
      "fstminimizeencoded \r\n",
      "fstrmepslocal \r\n"
     ]
    },
    {
     "name": "stdout",
     "output_type": "stream",
     "text": [
      "fstisstochastic exp/tri2a/graph/HCLGa.fst \r\n"
     ]
    },
    {
     "name": "stdout",
     "output_type": "stream",
     "text": [
      "0.000487832 -0.17681\r\n"
     ]
    },
    {
     "name": "stdout",
     "output_type": "stream",
     "text": [
      "HCLGa is not stochastic\r\n"
     ]
    },
    {
     "name": "stdout",
     "output_type": "stream",
     "text": [
      "add-self-loops --self-loop-scale=0.1 --reorder=true exp/tri2a/final.mdl exp/tri2a/graph/HCLGa.fst \r\n"
     ]
    },
    {
     "name": "stdout",
     "output_type": "stream",
     "text": [
      "steps/decode.sh --nj 30 exp/tri2a/graph data/test exp/tri2a/decode\r\n",
      "decode.sh: feature type is delta\r\n"
     ]
    },
    {
     "name": "stdout",
     "output_type": "stream",
     "text": [
      "steps/diagnostic/analyze_lats.sh --cmd run.pl exp/tri2a/graph exp/tri2a/decode\r\n"
     ]
    },
    {
     "name": "stdout",
     "output_type": "stream",
     "text": [
      "steps/diagnostic/analyze_lats.sh: see stats in exp/tri2a/decode/log/analyze_alignments.log\r\n"
     ]
    },
    {
     "name": "stdout",
     "output_type": "stream",
     "text": [
      "Overall, lattice depth (10,50,90-percentile)=(1,3,12) and mean=5.7\r\n",
      "steps/diagnostic/analyze_lats.sh: see stats in exp/tri2a/decode/log/analyze_lattice_depth_stats.log\r\n",
      "local/score.sh --cmd run.pl data/test exp/tri2a/graph exp/tri2a/decode\r\n",
      "local/score.sh: scoring with word insertion penalty=0.0,0.5,1.0\r\n"
     ]
    },
    {
     "name": "stdout",
     "output_type": "stream",
     "text": [
      "tree-info exp/tri2b/tree \r\n",
      "tree-info exp/tri2b/tree \r\n"
     ]
    },
    {
     "name": "stdout",
     "output_type": "stream",
     "text": [
      "make-h-transducer --disambig-syms-out=exp/tri2b/graph/disambig_tid.int --transition-scale=1.0 data/lang_nosp_test/tmp/ilabels_3_1 exp/tri2b/tree exp/tri2b/final.mdl \r\n"
     ]
    },
    {
     "name": "stdout",
     "output_type": "stream",
     "text": [
      "fstrmsymbols exp/tri2b/graph/disambig_tid.int \r\n",
      "fstminimizeencoded \r\n",
      "fstdeterminizestar --use-log=true \r\n",
      "fstrmepslocal \r\n",
      "fsttablecompose exp/tri2b/graph/Ha.fst data/lang_nosp_test/tmp/CLG_3_1.fst \r\n"
     ]
    },
    {
     "name": "stdout",
     "output_type": "stream",
     "text": [
      "fstisstochastic exp/tri2b/graph/HCLGa.fst \r\n"
     ]
    },
    {
     "name": "stdout",
     "output_type": "stream",
     "text": [
      "0.000488016 -0.17667\r\n"
     ]
    },
    {
     "name": "stdout",
     "output_type": "stream",
     "text": [
      "HCLGa is not stochastic\r\n",
      "add-self-loops --self-loop-scale=0.1 --reorder=true exp/tri2b/final.mdl exp/tri2b/graph/HCLGa.fst \r\n"
     ]
    },
    {
     "name": "stdout",
     "output_type": "stream",
     "text": [
      "steps/decode.sh --nj 30 exp/tri2b/graph data/test exp/tri2b/decode\r\n",
      "decode.sh: feature type is lda\r\n"
     ]
    },
    {
     "name": "stdout",
     "output_type": "stream",
     "text": [
      "steps/diagnostic/analyze_lats.sh --cmd run.pl exp/tri2b/graph exp/tri2b/decode\r\n"
     ]
    },
    {
     "name": "stdout",
     "output_type": "stream",
     "text": [
      "steps/diagnostic/analyze_lats.sh: see stats in exp/tri2b/decode/log/analyze_alignments.log\r\n"
     ]
    },
    {
     "name": "stdout",
     "output_type": "stream",
     "text": [
      "Overall, lattice depth (10,50,90-percentile)=(1,2,10) and mean=4.6\r\n",
      "steps/diagnostic/analyze_lats.sh: see stats in exp/tri2b/decode/log/analyze_lattice_depth_stats.log\r\n",
      "local/score.sh --cmd run.pl data/test exp/tri2b/graph exp/tri2b/decode\r\n",
      "local/score.sh: scoring with word insertion penalty=0.0,0.5,1.0\r\n"
     ]
    },
    {
     "name": "stdout",
     "output_type": "stream",
     "text": [
      "tree-info exp/tri3b/tree \r\n"
     ]
    },
    {
     "name": "stdout",
     "output_type": "stream",
     "text": [
      "tree-info exp/tri3b/tree \r\n",
      "make-h-transducer --disambig-syms-out=exp/tri3b/graph_nosp/disambig_tid.int --transition-scale=1.0 data/lang_nosp_test/tmp/ilabels_3_1 exp/tri3b/tree exp/tri3b/final.mdl \r\n"
     ]
    },
    {
     "name": "stdout",
     "output_type": "stream",
     "text": [
      "fstminimizeencoded \r\n",
      "fstrmsymbols exp/tri3b/graph_nosp/disambig_tid.int \r\n",
      "fsttablecompose exp/tri3b/graph_nosp/Ha.fst data/lang_nosp_test/tmp/CLG_3_1.fst \r\n",
      "fstrmepslocal \r\n",
      "fstdeterminizestar --use-log=true \r\n"
     ]
    },
    {
     "name": "stdout",
     "output_type": "stream",
     "text": [
      "fstisstochastic exp/tri3b/graph_nosp/HCLGa.fst \r\n"
     ]
    },
    {
     "name": "stdout",
     "output_type": "stream",
     "text": [
      "0.000487832 -0.176843\r\n"
     ]
    },
    {
     "name": "stdout",
     "output_type": "stream",
     "text": [
      "HCLGa is not stochastic\r\n",
      "add-self-loops --self-loop-scale=0.1 --reorder=true exp/tri3b/final.mdl exp/tri3b/graph_nosp/HCLGa.fst \r\n"
     ]
    },
    {
     "name": "stdout",
     "output_type": "stream",
     "text": [
      "steps/decode_fmllr.sh --nj 30 exp/tri3b/graph_nosp data/test exp/tri3b/decode_nosp\r\n"
     ]
    },
    {
     "name": "stdout",
     "output_type": "stream",
     "text": [
      "steps/decode.sh --scoring-opts  --num-threads 1 --skip-scoring false --acwt 0.083333 --nj 30 --cmd run.pl --beam 10.0 --model exp/tri3b/final.alimdl --max-active 2000 exp/tri3b/graph_nosp data/test exp/tri3b/decode_nosp.si\r\n"
     ]
    },
    {
     "name": "stdout",
     "output_type": "stream",
     "text": [
      "decode.sh: feature type is lda\r\n"
     ]
    },
    {
     "name": "stdout",
     "output_type": "stream",
     "text": [
      "steps/diagnostic/analyze_lats.sh --cmd run.pl exp/tri3b/graph_nosp exp/tri3b/decode_nosp.si\r\n"
     ]
    },
    {
     "name": "stdout",
     "output_type": "stream",
     "text": [
      "steps/diagnostic/analyze_lats.sh: see stats in exp/tri3b/decode_nosp.si/log/analyze_alignments.log\r\n"
     ]
    },
    {
     "name": "stdout",
     "output_type": "stream",
     "text": [
      "Overall, lattice depth (10,50,90-percentile)=(1,2,9) and mean=4.1\r\n",
      "steps/diagnostic/analyze_lats.sh: see stats in exp/tri3b/decode_nosp.si/log/analyze_lattice_depth_stats.log\r\n",
      "local/score.sh --cmd run.pl data/test exp/tri3b/graph_nosp exp/tri3b/decode_nosp.si\r\n",
      "local/score.sh: scoring with word insertion penalty=0.0,0.5,1.0\r\n"
     ]
    },
    {
     "name": "stdout",
     "output_type": "stream",
     "text": [
      "steps/decode_fmllr.sh: feature type is lda\r\n",
      "steps/decode_fmllr.sh: getting first-pass fMLLR transforms.\r\n"
     ]
    },
    {
     "name": "stdout",
     "output_type": "stream",
     "text": [
      "steps/decode_fmllr.sh: doing main lattice generation phase\r\n"
     ]
    },
    {
     "name": "stdout",
     "output_type": "stream",
     "text": [
      "steps/decode_fmllr.sh: estimating fMLLR transforms a second time.\r\n"
     ]
    },
    {
     "name": "stdout",
     "output_type": "stream",
     "text": [
      "steps/decode_fmllr.sh: doing a final pass of acoustic rescoring.\r\n"
     ]
    },
    {
     "name": "stdout",
     "output_type": "stream",
     "text": [
      "steps/diagnostic/analyze_lats.sh --cmd run.pl exp/tri3b/graph_nosp exp/tri3b/decode_nosp\r\n"
     ]
    },
    {
     "name": "stdout",
     "output_type": "stream",
     "text": [
      "steps/diagnostic/analyze_lats.sh: see stats in exp/tri3b/decode_nosp/log/analyze_alignments.log\r\n"
     ]
    },
    {
     "name": "stdout",
     "output_type": "stream",
     "text": [
      "Overall, lattice depth (10,50,90-percentile)=(1,2,7) and mean=3.4\r\n",
      "steps/diagnostic/analyze_lats.sh: see stats in exp/tri3b/decode_nosp/log/analyze_lattice_depth_stats.log\r\n",
      "local/score.sh --cmd run.pl data/test exp/tri3b/graph_nosp exp/tri3b/decode_nosp\r\n"
     ]
    },
    {
     "name": "stdout",
     "output_type": "stream",
     "text": [
      "local/score.sh: scoring with word insertion penalty=0.0,0.5,1.0\r\n"
     ]
    },
    {
     "name": "stdout",
     "output_type": "stream",
     "text": [
      "tree-info exp/tri3b/tree \r\n",
      "tree-info exp/tri3b/tree \r\n"
     ]
    },
    {
     "name": "stdout",
     "output_type": "stream",
     "text": [
      "fsttablecompose data/lang_test/L_disambig.fst data/lang_test/G.fst \r\n",
      "fstdeterminizestar --use-log=true \r\n",
      "fstminimizeencoded \r\n",
      "fstpushspecial \r\n"
     ]
    },
    {
     "name": "stdout",
     "output_type": "stream",
     "text": [
      "fstisstochastic data/lang_test/tmp/LG.fst \r\n"
     ]
    },
    {
     "name": "stdout",
     "output_type": "stream",
     "text": [
      "-0.0302244 -0.0308044\r\n"
     ]
    },
    {
     "name": "stdout",
     "output_type": "stream",
     "text": [
      "[info]: LG not stochastic.\r\n",
      "fstcomposecontext --context-size=3 --central-position=1 --read-disambig-syms=data/lang_test/phones/disambig.int --write-disambig-syms=data/lang_test/tmp/disambig_ilabels_3_1.int data/lang_test/tmp/ilabels_3_1.229701 data/lang_test/tmp/LG.fst \r\n"
     ]
    },
    {
     "name": "stdout",
     "output_type": "stream",
     "text": [
      "fstisstochastic data/lang_test/tmp/CLG_3_1.fst \r\n"
     ]
    },
    {
     "name": "stdout",
     "output_type": "stream",
     "text": [
      "0 -0.0308044\r\n"
     ]
    },
    {
     "name": "stdout",
     "output_type": "stream",
     "text": [
      "[info]: CLG not stochastic.\r\n"
     ]
    },
    {
     "name": "stdout",
     "output_type": "stream",
     "text": [
      "make-h-transducer --disambig-syms-out=exp/tri3b/graph/disambig_tid.int --transition-scale=1.0 data/lang_test/tmp/ilabels_3_1 exp/tri3b/tree exp/tri3b/final.mdl \r\n"
     ]
    },
    {
     "name": "stdout",
     "output_type": "stream",
     "text": [
      "fsttablecompose exp/tri3b/graph/Ha.fst data/lang_test/tmp/CLG_3_1.fst \r\n",
      "fstdeterminizestar --use-log=true \r\n",
      "fstminimizeencoded \r\n",
      "fstrmsymbols exp/tri3b/graph/disambig_tid.int \r\n",
      "fstrmepslocal \r\n"
     ]
    },
    {
     "name": "stdout",
     "output_type": "stream",
     "text": [
      "fstisstochastic exp/tri3b/graph/HCLGa.fst \r\n"
     ]
    },
    {
     "name": "stdout",
     "output_type": "stream",
     "text": [
      "0.00048811 -0.112724\r\n"
     ]
    },
    {
     "name": "stdout",
     "output_type": "stream",
     "text": [
      "HCLGa is not stochastic\r\n"
     ]
    },
    {
     "name": "stdout",
     "output_type": "stream",
     "text": [
      "add-self-loops --self-loop-scale=0.1 --reorder=true exp/tri3b/final.mdl exp/tri3b/graph/HCLGa.fst \r\n"
     ]
    },
    {
     "name": "stdout",
     "output_type": "stream",
     "text": [
      "steps/decode_fmllr.sh --nj 30 exp/tri3b/graph data/test exp/tri3b/decode\r\n"
     ]
    },
    {
     "name": "stdout",
     "output_type": "stream",
     "text": [
      "steps/decode.sh --scoring-opts  --num-threads 1 --skip-scoring false --acwt 0.083333 --nj 30 --cmd run.pl --beam 10.0 --model exp/tri3b/final.alimdl --max-active 2000 exp/tri3b/graph data/test exp/tri3b/decode.si\r\n"
     ]
    },
    {
     "name": "stdout",
     "output_type": "stream",
     "text": [
      "decode.sh: feature type is lda\r\n"
     ]
    },
    {
     "name": "stdout",
     "output_type": "stream",
     "text": [
      "steps/diagnostic/analyze_lats.sh --cmd run.pl exp/tri3b/graph exp/tri3b/decode.si\r\n"
     ]
    },
    {
     "name": "stdout",
     "output_type": "stream",
     "text": [
      "steps/diagnostic/analyze_lats.sh: see stats in exp/tri3b/decode.si/log/analyze_alignments.log\r\n"
     ]
    },
    {
     "name": "stdout",
     "output_type": "stream",
     "text": [
      "Overall, lattice depth (10,50,90-percentile)=(1,2,7) and mean=3.7\r\n",
      "steps/diagnostic/analyze_lats.sh: see stats in exp/tri3b/decode.si/log/analyze_lattice_depth_stats.log\r\n",
      "local/score.sh --cmd run.pl data/test exp/tri3b/graph exp/tri3b/decode.si\r\n",
      "local/score.sh: scoring with word insertion penalty=0.0,0.5,1.0\r\n"
     ]
    },
    {
     "name": "stdout",
     "output_type": "stream",
     "text": [
      "steps/decode_fmllr.sh: feature type is lda\r\n",
      "steps/decode_fmllr.sh: getting first-pass fMLLR transforms.\r\n"
     ]
    },
    {
     "name": "stdout",
     "output_type": "stream",
     "text": [
      "steps/decode_fmllr.sh: doing main lattice generation phase\r\n"
     ]
    },
    {
     "name": "stdout",
     "output_type": "stream",
     "text": [
      "steps/decode_fmllr.sh: estimating fMLLR transforms a second time.\r\n"
     ]
    },
    {
     "name": "stdout",
     "output_type": "stream",
     "text": [
      "steps/decode_fmllr.sh: doing a final pass of acoustic rescoring.\r\n"
     ]
    },
    {
     "name": "stdout",
     "output_type": "stream",
     "text": [
      "steps/diagnostic/analyze_lats.sh --cmd run.pl exp/tri3b/graph exp/tri3b/decode\r\n"
     ]
    },
    {
     "name": "stdout",
     "output_type": "stream",
     "text": [
      "steps/diagnostic/analyze_lats.sh: see stats in exp/tri3b/decode/log/analyze_alignments.log\r\n"
     ]
    },
    {
     "name": "stdout",
     "output_type": "stream",
     "text": [
      "Overall, lattice depth (10,50,90-percentile)=(1,2,6) and mean=3.1\r\n",
      "steps/diagnostic/analyze_lats.sh: see stats in exp/tri3b/decode/log/analyze_lattice_depth_stats.log\r\n"
     ]
    },
    {
     "name": "stdout",
     "output_type": "stream",
     "text": [
      "local/score.sh --cmd run.pl data/test exp/tri3b/graph exp/tri3b/decode\r\n",
      "local/score.sh: scoring with word insertion penalty=0.0,0.5,1.0\r\n"
     ]
    },
    {
     "name": "stdout",
     "output_type": "stream",
     "text": [
      "steps/decode_fmllr.sh --nj 30 exp/tri3b/graph data/test exp/tri3b_mmi/decode\r\n"
     ]
    },
    {
     "name": "stdout",
     "output_type": "stream",
     "text": [
      "steps/decode.sh --scoring-opts  --num-threads 1 --skip-scoring false --acwt 0.083333 --nj 30 --cmd run.pl --beam 10.0 --model exp/tri3b_mmi/final.mdl --max-active 2000 exp/tri3b/graph data/test exp/tri3b_mmi/decode.si\r\n"
     ]
    },
    {
     "name": "stdout",
     "output_type": "stream",
     "text": [
      "decode.sh: feature type is lda\r\n"
     ]
    },
    {
     "name": "stdout",
     "output_type": "stream",
     "text": [
      "steps/diagnostic/analyze_lats.sh --cmd run.pl exp/tri3b/graph exp/tri3b_mmi/decode.si\r\n"
     ]
    },
    {
     "name": "stdout",
     "output_type": "stream",
     "text": [
      "steps/diagnostic/analyze_lats.sh: see stats in exp/tri3b_mmi/decode.si/log/analyze_alignments.log\r\n"
     ]
    },
    {
     "name": "stdout",
     "output_type": "stream",
     "text": [
      "Overall, lattice depth (10,50,90-percentile)=(1,2,8) and mean=4.2\r\n",
      "steps/diagnostic/analyze_lats.sh: see stats in exp/tri3b_mmi/decode.si/log/analyze_lattice_depth_stats.log\r\n",
      "local/score.sh --cmd run.pl data/test exp/tri3b/graph exp/tri3b_mmi/decode.si\r\n",
      "local/score.sh: scoring with word insertion penalty=0.0,0.5,1.0\r\n"
     ]
    },
    {
     "name": "stdout",
     "output_type": "stream",
     "text": [
      "steps/decode_fmllr.sh: feature type is lda\r\n",
      "steps/decode_fmllr.sh: getting first-pass fMLLR transforms.\r\n"
     ]
    },
    {
     "name": "stdout",
     "output_type": "stream",
     "text": [
      "steps/decode_fmllr.sh: doing main lattice generation phase\r\n"
     ]
    },
    {
     "name": "stdout",
     "output_type": "stream",
     "text": [
      "steps/decode_fmllr.sh: estimating fMLLR transforms a second time.\r\n"
     ]
    },
    {
     "name": "stdout",
     "output_type": "stream",
     "text": [
      "steps/decode_fmllr.sh: doing a final pass of acoustic rescoring.\r\n"
     ]
    },
    {
     "name": "stdout",
     "output_type": "stream",
     "text": [
      "steps/diagnostic/analyze_lats.sh --cmd run.pl exp/tri3b/graph exp/tri3b_mmi/decode\r\n"
     ]
    },
    {
     "name": "stdout",
     "output_type": "stream",
     "text": [
      "steps/diagnostic/analyze_lats.sh: see stats in exp/tri3b_mmi/decode/log/analyze_alignments.log\r\n"
     ]
    },
    {
     "name": "stdout",
     "output_type": "stream",
     "text": [
      "Overall, lattice depth (10,50,90-percentile)=(1,2,6) and mean=2.9\r\n",
      "steps/diagnostic/analyze_lats.sh: see stats in exp/tri3b_mmi/decode/log/analyze_lattice_depth_stats.log\r\n",
      "local/score.sh --cmd run.pl data/test exp/tri3b/graph exp/tri3b_mmi/decode\r\n",
      "local/score.sh: scoring with word insertion penalty=0.0,0.5,1.0\r\n"
     ]
    },
    {
     "name": "stdout",
     "output_type": "stream",
     "text": [
      "steps/decode_fmllr.sh --nj 30 --beam 24 --lattice-beam 12 exp/tri3b/graph data/test exp/tri3b_mmi/decode_wb\r\n"
     ]
    },
    {
     "name": "stdout",
     "output_type": "stream",
     "text": [
      "steps/decode.sh --scoring-opts  --num-threads 1 --skip-scoring false --acwt 0.083333 --nj 30 --cmd run.pl --beam 10.0 --model exp/tri3b_mmi/final.mdl --max-active 2000 exp/tri3b/graph data/test exp/tri3b_mmi/decode_wb.si\r\n"
     ]
    },
    {
     "name": "stdout",
     "output_type": "stream",
     "text": [
      "decode.sh: feature type is lda\r\n"
     ]
    },
    {
     "name": "stdout",
     "output_type": "stream",
     "text": [
      "steps/diagnostic/analyze_lats.sh --cmd run.pl exp/tri3b/graph exp/tri3b_mmi/decode_wb.si\r\n"
     ]
    },
    {
     "name": "stdout",
     "output_type": "stream",
     "text": [
      "steps/diagnostic/analyze_lats.sh: see stats in exp/tri3b_mmi/decode_wb.si/log/analyze_alignments.log\r\n"
     ]
    },
    {
     "name": "stdout",
     "output_type": "stream",
     "text": [
      "Overall, lattice depth (10,50,90-percentile)=(1,2,8) and mean=4.2\r\n",
      "steps/diagnostic/analyze_lats.sh: see stats in exp/tri3b_mmi/decode_wb.si/log/analyze_lattice_depth_stats.log\r\n",
      "local/score.sh --cmd run.pl data/test exp/tri3b/graph exp/tri3b_mmi/decode_wb.si\r\n",
      "local/score.sh: scoring with word insertion penalty=0.0,0.5,1.0\r\n"
     ]
    },
    {
     "name": "stdout",
     "output_type": "stream",
     "text": [
      "steps/decode_fmllr.sh: feature type is lda\r\n",
      "steps/decode_fmllr.sh: getting first-pass fMLLR transforms.\r\n"
     ]
    },
    {
     "name": "stdout",
     "output_type": "stream",
     "text": [
      "steps/decode_fmllr.sh: doing main lattice generation phase\r\n"
     ]
    }
   ],
   "source": [
    "!bash run.sh"
   ]
  }
 ],
 "metadata": {
  "kernelspec": {
   "display_name": "Python 3",
   "language": "python",
   "name": "python3"
  },
  "language_info": {
   "codemirror_mode": {
    "name": "ipython",
    "version": 3
   },
   "file_extension": ".py",
   "mimetype": "text/x-python",
   "name": "python",
   "nbconvert_exporter": "python",
   "pygments_lexer": "ipython3",
   "version": "3.6.4"
  },
  "papermill": {
   "default_parameters": {},
   "duration": null,
   "end_time": null,
   "environment_variables": {},
   "exception": null,
   "input_path": "__notebook__.ipynb",
   "output_path": "__notebook__.ipynb",
   "parameters": {},
   "start_time": "2021-05-24T22:54:09.336088",
   "version": "2.3.3"
  }
 },
 "nbformat": 4,
 "nbformat_minor": 5
}