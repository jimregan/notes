{
 "cells": [
  {
   "cell_type": "markdown",
   "id": "cd0b06be",
   "metadata": {
    "papermill": {
     "duration": 0.007361,
     "end_time": "2024-08-12T16:43:38.732862",
     "exception": false,
     "start_time": "2024-08-12T16:43:38.725501",
     "status": "completed"
    },
    "tags": []
   },
   "source": [
    "# Audacity tsv to textgrid\n",
    "\n",
    "> \"For HSI project\"\n",
    "\n",
    "- comments: false\n",
    "- branch: master\n",
    "- hidden: true\n",
    "- categories: [praat, textgrid, audacity]"
   ]
  },
  {
   "cell_type": "code",
   "execution_count": 1,
   "id": "4f6b1ed2",
   "metadata": {
    "execution": {
     "iopub.execute_input": "2024-08-12T16:43:38.743833Z",
     "iopub.status.busy": "2024-08-12T16:43:38.743260Z",
     "iopub.status.idle": "2024-08-12T16:43:39.620838Z",
     "shell.execute_reply": "2024-08-12T16:43:39.619678Z"
    },
    "papermill": {
     "duration": 0.886111,
     "end_time": "2024-08-12T16:43:39.623642",
     "exception": false,
     "start_time": "2024-08-12T16:43:38.737531",
     "status": "completed"
    },
    "tags": []
   },
   "outputs": [],
   "source": [
    "%%capture\n",
    "%pip install praatio"
   ]
  },
  {
   "cell_type": "code",
   "execution_count": 2,
   "id": "878a3190",
   "metadata": {
    "execution": {
     "iopub.execute_input": "2024-08-12T16:43:39.629935Z",
     "iopub.status.busy": "2024-08-12T16:43:39.629635Z",
     "iopub.status.idle": "2024-08-12T16:43:40.382378Z",
     "shell.execute_reply": "2024-08-12T16:43:40.381957Z"
    },
    "papermill": {
     "duration": 0.757413,
     "end_time": "2024-08-12T16:43:40.383855",
     "exception": false,
     "start_time": "2024-08-12T16:43:39.626442",
     "status": "completed"
    },
    "tags": []
   },
   "outputs": [],
   "source": [
    "from praatio import textgrid\n",
    "from praatio.utilities.constants import Interval"
   ]
  },
  {
   "cell_type": "code",
   "execution_count": 4,
   "id": "3e7b15d0",
   "metadata": {
    "tags": [
     "parameters"
    ]
   },
   "outputs": [],
   "source": [
    "input_file = \"/tmp/hsi_5_0718_209_002_inter.tsv\"\n",
    "output_file = '/tmp/out.TextGrid'"
   ]
  },
  {
   "cell_type": "code",
   "execution_count": 4,
   "id": "5ea83009",
   "metadata": {
    "execution": {
     "iopub.execute_input": "2024-08-12T16:43:40.393021Z",
     "iopub.status.busy": "2024-08-12T16:43:40.392820Z",
     "iopub.status.idle": "2024-08-12T16:43:40.395098Z",
     "shell.execute_reply": "2024-08-12T16:43:40.394724Z"
    },
    "papermill": {
     "duration": 0.005147,
     "end_time": "2024-08-12T16:43:40.396214",
     "exception": false,
     "start_time": "2024-08-12T16:43:40.391067",
     "status": "completed"
    },
    "tags": [
     "injected-parameters"
    ]
   },
   "outputs": [],
   "source": [
    "# Parameters\n",
    "input_file = \"/Users/joregan/Playing/irish-asr-data/audacity/MSF_chapter_1.aud\"\n",
    "output_file = \"/tmp/out.textgrid\"\n"
   ]
  },
  {
   "cell_type": "code",
   "execution_count": 5,
   "id": "81e388c8",
   "metadata": {
    "execution": {
     "iopub.execute_input": "2024-08-12T16:43:40.399422Z",
     "iopub.status.busy": "2024-08-12T16:43:40.399255Z",
     "iopub.status.idle": "2024-08-12T16:43:40.404455Z",
     "shell.execute_reply": "2024-08-12T16:43:40.404094Z"
    },
    "papermill": {
     "duration": 0.008307,
     "end_time": "2024-08-12T16:43:40.405752",
     "exception": false,
     "start_time": "2024-08-12T16:43:40.397445",
     "status": "completed"
    },
    "tags": []
   },
   "outputs": [],
   "source": [
    "out = []\n",
    "with open(input_file) as inf:\n",
    "    for line in inf.readlines():\n",
    "        line = line.strip()\n",
    "        if line == \"\":\n",
    "            continue\n",
    "        if line == \"0.0\\t0.1\\t[-]\":\n",
    "            continue\n",
    "        parts = line.split(\"\\t\")\n",
    "        out.append(Interval(float(parts[0]), float(parts[1]), parts[2]))\n",
    "\n",
    "tier_start = out[0][0]\n",
    "tier_end = out[-1][1]\n",
    "\n",
    "tg = textgrid.Textgrid()\n",
    "word_tier = textgrid.IntervalTier('words', out, tier_start, tier_end)\n",
    "tg.addTier(word_tier)\n",
    "tg.save(output_file, format=\"long_textgrid\", includeBlankSpaces=False)"
   ]
  }
 ],
 "metadata": {
  "kernelspec": {
   "display_name": "hf",
   "language": "python",
   "name": "python3"
  },
  "language_info": {
   "codemirror_mode": {
    "name": "ipython",
    "version": 3
   },
   "file_extension": ".py",
   "mimetype": "text/x-python",
   "name": "python",
   "nbconvert_exporter": "python",
   "pygments_lexer": "ipython3",
   "version": "3.10.9"
  },
  "papermill": {
   "default_parameters": {},
   "duration": 3.095506,
   "end_time": "2024-08-12T16:43:40.523397",
   "environment_variables": {},
   "exception": null,
   "input_path": "../_notebooks/2024-07-31-audacity_tsv_to_textgrid.ipynb",
   "output_path": "/tmp/foo",
   "parameters": {
    "input_file": "/Users/joregan/Playing/irish-asr-data/audacity/MSF_chapter_1.aud",
    "output_file": "/tmp/out.textgrid"
   },
   "start_time": "2024-08-12T16:43:37.427891",
   "version": "2.6.0"
  }
 },
 "nbformat": 4,
 "nbformat_minor": 5
}
