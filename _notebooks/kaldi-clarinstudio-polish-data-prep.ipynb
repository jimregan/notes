{
 "cells": [
  {
   "cell_type": "code",
   "execution_count": 1,
   "id": "entire-mason",
   "metadata": {
    "execution": {
     "iopub.execute_input": "2021-05-16T07:44:28.172117Z",
     "iopub.status.busy": "2021-05-16T07:44:28.171417Z",
     "iopub.status.idle": "2021-05-16T07:44:28.176417Z",
     "shell.execute_reply": "2021-05-16T07:44:28.177079Z"
    },
    "papermill": {
     "duration": 0.026758,
     "end_time": "2021-05-16T07:44:28.177438",
     "exception": false,
     "start_time": "2021-05-16T07:44:28.150680",
     "status": "completed"
    },
    "tags": []
   },
   "outputs": [
    {
     "name": "stdout",
     "output_type": "stream",
     "text": [
      "/opt\n"
     ]
    }
   ],
   "source": [
    "%cd /opt"
   ]
  },
  {
   "cell_type": "code",
   "execution_count": 2,
   "id": "diverse-spanish",
   "metadata": {
    "_cell_guid": "b1076dfc-b9ad-4769-8c92-a6c4dae69d19",
    "_uuid": "8f2839f25d086af736a60e9eeb907d3b93b6e0e5",
    "execution": {
     "iopub.execute_input": "2021-05-16T07:44:28.203997Z",
     "iopub.status.busy": "2021-05-16T07:44:28.203354Z",
     "iopub.status.idle": "2021-05-16T07:44:59.160572Z",
     "shell.execute_reply": "2021-05-16T07:44:59.159533Z"
    },
    "papermill": {
     "duration": 30.972527,
     "end_time": "2021-05-16T07:44:59.160724",
     "exception": false,
     "start_time": "2021-05-16T07:44:28.188197",
     "status": "completed"
    },
    "tags": []
   },
   "outputs": [],
   "source": [
    "%%capture\n",
    "!tar xvf /kaggle/input/extract-prebuilt-kaldi-from-docker/kaldi.tar"
   ]
  },
  {
   "cell_type": "code",
   "execution_count": 3,
   "id": "international-herald",
   "metadata": {
    "execution": {
     "iopub.execute_input": "2021-05-16T07:44:59.186031Z",
     "iopub.status.busy": "2021-05-16T07:44:59.185163Z",
     "iopub.status.idle": "2021-05-16T07:44:59.189838Z",
     "shell.execute_reply": "2021-05-16T07:44:59.189232Z"
    },
    "papermill": {
     "duration": 0.019308,
     "end_time": "2021-05-16T07:44:59.189979",
     "exception": false,
     "start_time": "2021-05-16T07:44:59.170671",
     "status": "completed"
    },
    "tags": []
   },
   "outputs": [
    {
     "name": "stdout",
     "output_type": "stream",
     "text": [
      "/opt/kaldi/egs\n"
     ]
    }
   ],
   "source": [
    "%cd kaldi/egs"
   ]
  },
  {
   "cell_type": "code",
   "execution_count": 4,
   "id": "consolidated-corner",
   "metadata": {
    "execution": {
     "iopub.execute_input": "2021-05-16T07:44:59.218712Z",
     "iopub.status.busy": "2021-05-16T07:44:59.214317Z",
     "iopub.status.idle": "2021-05-16T07:45:04.061689Z",
     "shell.execute_reply": "2021-05-16T07:45:04.059938Z"
    },
    "papermill": {
     "duration": 4.86179,
     "end_time": "2021-05-16T07:45:04.061907",
     "exception": false,
     "start_time": "2021-05-16T07:44:59.200117",
     "status": "completed"
    },
    "tags": []
   },
   "outputs": [
    {
     "name": "stdout",
     "output_type": "stream",
     "text": [
      "Cloning into 'ClarinStudioKaldi'...\r\n",
      "remote: Enumerating objects: 778, done.\u001b[K\r\n",
      "remote: Counting objects: 100% (3/3), done.\u001b[K\r\n",
      "remote: Compressing objects: 100% (3/3), done.\u001b[K\r\n",
      "remote: Total 778 (delta 0), reused 0 (delta 0), pack-reused 775\u001b[K\r\n",
      "Receiving objects: 100% (778/778), 35.26 MiB | 37.07 MiB/s, done.\r\n",
      "Resolving deltas: 100% (262/262), done.\r\n"
     ]
    }
   ],
   "source": [
    "!git clone https://github.com/danijel3/ClarinStudioKaldi"
   ]
  },
  {
   "cell_type": "code",
   "execution_count": 5,
   "id": "stainless-anxiety",
   "metadata": {
    "execution": {
     "iopub.execute_input": "2021-05-16T07:45:04.105517Z",
     "iopub.status.busy": "2021-05-16T07:45:04.104708Z",
     "iopub.status.idle": "2021-05-16T07:45:04.107694Z",
     "shell.execute_reply": "2021-05-16T07:45:04.106097Z"
    },
    "papermill": {
     "duration": 0.031093,
     "end_time": "2021-05-16T07:45:04.107868",
     "exception": false,
     "start_time": "2021-05-16T07:45:04.076775",
     "status": "completed"
    },
    "tags": []
   },
   "outputs": [
    {
     "name": "stdout",
     "output_type": "stream",
     "text": [
      "/opt/kaldi/egs/ClarinStudioKaldi\n"
     ]
    }
   ],
   "source": [
    "%cd ClarinStudioKaldi"
   ]
  },
  {
   "cell_type": "code",
   "execution_count": 6,
   "id": "geological-contents",
   "metadata": {
    "execution": {
     "iopub.execute_input": "2021-05-16T07:45:04.143664Z",
     "iopub.status.busy": "2021-05-16T07:45:04.142727Z",
     "iopub.status.idle": "2021-05-16T07:47:40.147851Z",
     "shell.execute_reply": "2021-05-16T07:47:40.147004Z"
    },
    "papermill": {
     "duration": 156.022486,
     "end_time": "2021-05-16T07:47:40.148031",
     "exception": false,
     "start_time": "2021-05-16T07:45:04.125545",
     "status": "completed"
    },
    "tags": []
   },
   "outputs": [
    {
     "name": "stdout",
     "output_type": "stream",
     "text": [
      "Collecting package metadata (current_repodata.json): - \b\b\\ \b\b| \b\b/ \b\b- \b\b\\ \b\b| \b\b/ \b\b- \b\b\\ \b\b| \b\b/ \b\b- \b\b\\ \b\b| \b\b/ \b\b- \b\b\\ \b\b| \b\b/ \b\b- \b\b\\ \b\b| \b\b/ \b\b- \b\b\\ \b\b| \b\b/ \b\b- \b\b\\ \b\b| \b\b/ \b\b- \b\b\\ \b\b| \b\b/ \b\b- \b\b\\ \b\b| \b\b/ \b\b- \b\b\\ \b\b| \b\b/ \b\b- \b\b\\ \b\b| \b\b/ \b\b- \b\b\\ \b\b| \b\b/ \b\b- \b\b\\ \b\b| \b\b/ \b\b- \b\b\\ \b\b| \b\b/ \b\b- \b\b\\ \b\b| \b\b/ \b\b- \b\b\\ \b\b| \b\b/ \b\b- \b\b\\ \b\b| \b\b/ \b\b- \b\b\\ \b\b| \b\b/ \b\b- \b\b\\ \b\b| \b\b/ \b\b- \b\b\\ \b\b| \b\b/ \b\b- \b\b\\ \b\b| \b\b/ \b\b- \b\b\\ \b\b| \b\b/ \b\b- \b\b\\ \b\b| \b\b/ \b\b- \b\b\\ \b\b| \b\b/ \b\b- \b\b\\ \b\b| \b\b/ \b\b- \b\b\\ \b\b| \b\b/ \b\b- \b\b\\ \b\b| \b\b/ \b\b- \b\b\\ \b\b| \b\b/ \b\b- \b\b\\ \b\b| \b\b/ \b\b- \b\b\\ \b\b| \b\b/ \b\b- \b\b\\ \b\b| \b\b/ \b\b- \b\b\\ \b\b| \b\b/ \b\b- \b\b\\ \b\b| \b\b/ \b\b- \b\b\\ \b\b| \b\b/ \b\b- \b\b\\ \b\b| \b\b/ \b\b- \b\b\\ \b\b| \b\b/ \b\b- \b\b\\ \b\b| \b\b/ \b\b- \b\b\\ \b\b| \b\b/ \b\b- \b\b\\ \b\b| \b\b/ \b\b- \b\b\\ \b\b| \b\b/ \b\b- \b\b\\ \b\b| \b\b/ \b\b- \b\b\\ \b\b| \b\b/ \b\b- \b\b\\ \b\b| \b\b/ \b\b- \b\b\\ \b\b| \b\b/ \b\b- \b\bdone\r\n",
      "Solving environment: | \b\b/ \b\b- \b\b\\ \b\b| \b\b/ \b\b- \b\b\\ \b\b| \b\b/ \b\b- \b\b\\ \b\b| \b\b/ \b\b- \b\b\\ \b\b| \b\b/ \b\b- \b\b\\ \b\b| \b\b/ \b\b- \b\b\\ \b\b| \b\b/ \b\b- \b\b\\ \b\b| \b\b/ \b\b- \b\b\\ \b\b| \b\b/ \b\b- \b\b\\ \b\b| \b\b/ \b\b- \b\b\\ \b\b| \b\b/ \b\b- \b\b\\ \b\b| \b\b/ \b\b- \b\b\\ \b\b| \b\b/ \b\b- \b\b\\ \b\b| \b\b/ \b\b- \b\b\\ \b\b| \b\b/ \b\b- \b\b\\ \b\b| \b\b/ \b\b- \b\b\\ \b\b| \b\b/ \b\b- \b\b\\ \b\b| \b\b/ \b\b- \b\b\\ \b\b| \b\b/ \b\b- \b\b\\ \b\b| \b\b/ \b\b- \b\b\\ \b\b| \b\b/ \b\b- \b\b\\ \b\b| \b\b/ \b\b- \b\b\\ \b\b| \b\b/ \b\b- \b\b\\ \b\b| \b\b/ \b\b- \b\b\\ \b\b| \b\b/ \b\b- \b\b\\ \b\b| \b\b/ \b\b- \b\b\\ \b\b| \b\b/ \b\b- \b\b\\ \b\b| \b\b/ \b\b- \b\b\\ \b\b| \b\b/ \b\b- \b\b\\ \b\b| \b\b/ \b\b- \b\b\\ \b\b| \b\b/ \b\b- \b\b\\ \b\b| \b\b/ \b\b- \b\b\\ \b\b| \b\b/ \b\b- \b\b\\ \b\b| \b\b/ \b\b- \b\b\\ \b\b| \b\b/ \b\b- \b\b\\ \b\b| \b\b/ \b\b- \b\b\\ \b\b| \b\b/ \b\b- \b\b\\ \b\b| \b\b/ \b\b- \b\b\\ \b\b| \b\b/ \b\b- \b\b\\ \b\b| \b\b/ \b\b- \b\b\\ \b\b| \b\b/ \b\b- \b\b\\ \b\b| \b\b/ \b\b- \b\b\\ \b\b| \b\b/ \b\b- \b\b\\ \b\b| \b\b/ \b\b- \b\b\\ \b\b| \b\b/ \b\b- \b\b\\ \b\b| \b\b/ \b\b- \b\b\\ \b\b| \b\b/ \b\b- \b\b\\ \b\b| \b\b/ \b\b- \b\b\\ \b\b| \b\b/ \b\b- \b\b\\ \b\b| \b\b/ \b\b- \b\b\\ \b\b| \b\b/ \b\b- \b\b\\ \b\b| \b\b/ \b\b- \b\b\\ \b\b| \b\b/ \b\b- \b\b\\ \b\b| \b\b/ \b\b- \b\b\\ \b\b| \b\b/ \b\b- \b\b\\ \b\b| \b\b/ \b\b- \b\b\\ \b\b| \b\b/ \b\b- \b\b\\ \b\b| \b\b/ \b\b- \b\b\\ \b\b| \b\b/ \b\b- \b\b\\ \b\b| \b\b/ \b\b- \b\b\\ \b\b| \b\b/ \b\b- \b\b\\ \b\b| \b\b/ \b\b- \b\b\\ \b\b| \b\b/ \b\b- \b\b\\ \b\b| \b\b/ \b\b- \b\b\\ \b\b| \b\b/ \b\b- \b\b\\ \b\b| \b\b/ \b\b- \b\b\\ \b\b| \b\b/ \b\b- \b\b\\ \b\b| \b\b/ \b\b- \b\b\\ \b\b| \b\b/ \b\b- \b\b\\ \b\b| \b\b/ \b\b- \b\b\\ \b\b| \b\b/ \b\b- \b\b\\ \b\b| \b\b/ \b\b- \b\b\\ \b\b| \b\b/ \b\b- \b\b\\ \b\b| \b\b/ \b\b- \b\b\\ \b\b| \b\b/ \b\b- \b\b\\ \b\b| \b\b/ \b\b- \b\b\\ \b\b| \b\b/ \b\b- \b\b\\ \b\b| \b\b/ \b\b- \b\b\\ \b\b| \b\b/ \b\b- \b\b\\ \b\b| \b\b/ \b\b- \b\b\\ \b\b| \b\b/ \b\b- \b\b\\ \b\b| \b\b/ \b\b- \b\b\\ \b\b| \b\b/ \b\b- \b\b\\ \b\b| \b\b/ \b\b- \b\b\\ \b\b| \b\b/ \b\b- \b\b\\ \b\b| \b\b/ \b\b- \b\b\\ \b\b| \b\b/ \b\b- \b\b\\ \b\b| \b\b/ \b\b- \b\b\\ \b\b| \b\b/ \b\b- \b\b\\ \b\b| \b\b/ \b\b- \b\b\\ \b\b| \b\b/ \b\b- \b\b\\ \b\b| \b\b/ \b\b- \b\b\\ \b\b| \b\b/ \b\b- \b\b\\ \b\b| \b\b/ \b\b- \b\b\\ \b\b| \b\b/ \b\b- \b\b\\ \b\b| \b\b/ \b\b- \b\b\\ \b\b| \b\b/ \b\b- \b\b\\ \b\b| \b\b/ \b\b- \b\b\\ \b\b| \b\b/ \b\b- \b\b\\ \b\b| \b\b/ \b\b- \b\b\\ \b\b| \b\b/ \b\b- \b\b\\ \b\b| \b\b/ \b\b- \b\b\\ \b\b| \b\b/ \b\b- \b\b\\ \b\b| \b\b/ \b\b- \b\b\\ \b\b| \b\b/ \b\b- \b\b\\ \b\b| \b\b/ \b\b- \b\b\\ \b\b| \b\b/ \b\b- \b\b\\ \b\b| \b\b/ \b\b- \b\b\\ \b\b| \b\b/ \b\b- \b\b\\ \b\b| \b\b/ \b\b- \b\b\\ \b\b| \b\b/ \b\b- \b\b\\ \b\b| \b\b/ \b\b- \b\b\\ \b\b| \b\b/ \b\b- \b\b\\ \b\b| \b\b/ \b\b- \b\b\\ \b\b| \b\b/ \b\b- \b\b\\ \b\b| \b\b/ \b\b- \b\b\\ \b\b| \b\b/ \b\b- \b\b\\ \b\b| \b\b/ \b\b- \b\b\\ \b\b| \b\b/ \b\b- \b\b\\ \b\b| \b\b/ \b\b- \b\b\\ \b\b| \b\b/ \b\b- \b\b\\ \b\b| \b\b/ \b\b- \b\b\\ \b\b| \b\b/ \b\b- \b\b\\ \b\b| \b\b/ \b\b- \b\b\\ \b\b| \b\b/ \b\b- \b\b\\ \b\b| \b\b/ \b\b- \b\b\\ \b\b| \b\b/ \b\b- \b\b\\ \b\b| \b\b/ \b\b- \b\b\\ \b\b| \b\b/ \b\b- \b\b\\ \b\b| \b\b/ \b\b- \b\b\\ \b\b| \b\b/ \b\b- \b\b\\ \b\b| \b\b/ \b\b- \b\b\\ \b\b| \b\b/ \b\b- \b\b\\ \b\b| \b\b/ \b\b- \b\b\\ \b\b| \b\b/ \b\b- \b\b\\ \b\b| \b\b/ \b\b- \b\b\\ \b\b| \b\b/ \b\b- \b\b\\ \b\b| \b\b/ \b\b- \b\b\\ \b\b| \b\b/ \b\b- \b\b\\ \b\b| \b\b/ \b\b- \b\b\\ \b\b| \b\b/ \b\b- \b\b\\ \b\b| \b\b/ \b\b- \b\b\\ \b\bdone\r\n",
      "\r\n",
      "## Package Plan ##\r\n",
      "\r\n",
      "  environment location: /opt/conda\r\n",
      "\r\n",
      "  added / updated specs:\r\n",
      "    - perl-perlio-gzip\r\n",
      "\r\n",
      "\r\n",
      "The following packages will be downloaded:\r\n",
      "\r\n",
      "    package                    |            build\r\n",
      "    ---------------------------|-----------------\r\n",
      "    perl-5.26.2                |    h36c2ea0_1008        15.4 MB  conda-forge\r\n",
      "    perl-perlio-gzip-0.20      |  pl526h84994c4_1          17 KB  bioconda\r\n",
      "    ------------------------------------------------------------\r\n",
      "                                           Total:        15.4 MB\r\n",
      "\r\n",
      "The following NEW packages will be INSTALLED:\r\n",
      "\r\n",
      "  perl-perlio-gzip   bioconda/linux-64::perl-perlio-gzip-0.20-pl526h84994c4_1\r\n",
      "\r\n",
      "The following packages will be DOWNGRADED:\r\n",
      "\r\n",
      "  perl                                    5.32.0-h36c2ea0_0 --> 5.26.2-h36c2ea0_1008\r\n",
      "\r\n",
      "\r\n",
      "\r\n",
      "Downloading and Extracting Packages\r\n",
      "perl-perlio-gzip-0.2 | 17 KB     | ##################################### | 100% \r\n",
      "perl-5.26.2          | 15.4 MB   | ##################################### | 100% \r\n",
      "Preparing transaction: / \b\b- \b\bdone\r\n",
      "Verifying transaction: | \b\b/ \b\b- \b\b\\ \b\b| \b\b/ \b\bdone\r\n",
      "Executing transaction: \\ \b\b| \b\b/ \b\b- \b\b\\ \b\b| \b\b/ \b\b- \b\b\\ \b\b| \b\b/ \b\b- \b\b\\ \b\b| \b\b/ \b\b- \b\b\\ \b\b| \b\b/ \b\b- \b\b\\ \b\b| \b\b/ \b\b- \b\b\\ \b\b| \b\b/ \b\b- \b\b\\ \b\b| \b\b/ \b\b- \b\b\\ \b\b| \b\b/ \b\b- \b\b\\ \b\b| \b\b/ \b\b- \b\b\\ \b\b| \b\b/ \b\b- \b\b\\ \b\b| \b\b/ \b\b- \b\b\\ \b\b| \b\b/ \b\b- \b\b\\ \b\b| \b\b/ \b\b- \b\b\\ \b\b| \b\b/ \b\b- \b\b\\ \b\b| \b\b/ \b\b- \b\b\\ \b\b| \b\b/ \b\b- \b\b\\ \b\b| \b\b/ \b\b- \b\b\\ \b\b| \b\b/ \b\b- \b\b\\ \b\b| \b\b/ \b\b- \b\b\\ \b\b| \b\b/ \b\b- \b\b\\ \b\b| \b\b/ \b\b- \b\b\\ \b\b| \b\b/ \b\b- \b\b\\ \b\b| \b\b/ \b\b- \b\b\\ \b\b| \b\b/ \b\b- \b\b\\ \b\b| \b\b/ \b\b- \b\b\\ \b\b| \b\b/ \b\b- \b\b\\ \b\b| \b\b/ \b\b- \b\b\\ \b\b| \b\b/ \b\b- \b\b\\ \b\b| \b\b/ \b\b- \b\b\\ \b\b| \b\b/ \b\b- \b\b\\ \b\b| \b\b/ \b\b- \b\b\\ \b\b| \b\b/ \b\b- \b\b\\ \b\b| \b\b/ \b\b- \b\b\\ \b\b| \b\b/ \b\b- \b\b\\ \b\b| \b\b/ \b\b- \b\b\\ \b\b| \b\b/ \b\b- \b\b\\ \b\b| \b\b/ \b\b- \b\b\\ \b\b| \b\b/ \b\b- \b\b\\ \b\b| \b\b/ \b\b- \b\b\\ \b\b| \b\b/ \b\b- \b\b\\ \b\b| \b\b/ \b\b- \b\b\\ \b\b| \b\b/ \b\b- \b\b\\ \b\b| \b\b/ \b\b- \b\b\\ \b\b| \b\bdone\r\n"
     ]
    }
   ],
   "source": [
    "#apt-get -y install libperlio-gzip-perl\n",
    "!conda install -c bioconda perl-perlio-gzip -y"
   ]
  },
  {
   "cell_type": "code",
   "execution_count": 7,
   "id": "unavailable-comedy",
   "metadata": {
    "execution": {
     "iopub.execute_input": "2021-05-16T07:47:40.729686Z",
     "iopub.status.busy": "2021-05-16T07:47:40.728904Z",
     "iopub.status.idle": "2021-05-16T07:47:40.732199Z",
     "shell.execute_reply": "2021-05-16T07:47:40.731628Z"
    },
    "papermill": {
     "duration": 0.294656,
     "end_time": "2021-05-16T07:47:40.732349",
     "exception": false,
     "start_time": "2021-05-16T07:47:40.437693",
     "status": "completed"
    },
    "tags": []
   },
   "outputs": [],
   "source": [
    "import os\n",
    "#os.environ['LD_LIBRARY_PATH'] = f'{os.environ[\"LD_LIBRARY_PATH\"]}:/opt/kaldi/tools/openfst-1.6.7/lib:/opt/kaldi/src/lib'\n",
    "os.environ['LD_LIBRARY_PATH'] = '/opt/conda/lib:/opt/kaldi/tools/openfst-1.6.7/lib:/opt/kaldi/src/lib'"
   ]
  },
  {
   "cell_type": "code",
   "execution_count": 8,
   "id": "spare-engineering",
   "metadata": {
    "execution": {
     "iopub.execute_input": "2021-05-16T07:47:41.321885Z",
     "iopub.status.busy": "2021-05-16T07:47:41.317344Z",
     "iopub.status.idle": "2021-05-16T07:47:42.757085Z",
     "shell.execute_reply": "2021-05-16T07:47:42.756457Z"
    },
    "papermill": {
     "duration": 1.734576,
     "end_time": "2021-05-16T07:47:42.757235",
     "exception": false,
     "start_time": "2021-05-16T07:47:41.022659",
     "status": "completed"
    },
    "tags": []
   },
   "outputs": [],
   "source": [
    "!cat path.sh|sed -e 's/~\\/apps/\\/opt/' > tmp\n",
    "!mv tmp path.sh"
   ]
  },
  {
   "cell_type": "code",
   "execution_count": 9,
   "id": "continued-aging",
   "metadata": {
    "execution": {
     "iopub.execute_input": "2021-05-16T07:47:43.352752Z",
     "iopub.status.busy": "2021-05-16T07:47:43.348489Z",
     "iopub.status.idle": "2021-05-16T07:47:44.074362Z",
     "shell.execute_reply": "2021-05-16T07:47:44.073721Z"
    },
    "papermill": {
     "duration": 1.023003,
     "end_time": "2021-05-16T07:47:44.074514",
     "exception": false,
     "start_time": "2021-05-16T07:47:43.051511",
     "status": "completed"
    },
    "tags": []
   },
   "outputs": [],
   "source": [
    "!echo > local_clarin/clarin_pl_clean.sh"
   ]
  },
  {
   "cell_type": "code",
   "execution_count": 10,
   "id": "aware-halloween",
   "metadata": {
    "execution": {
     "iopub.execute_input": "2021-05-16T07:47:44.664912Z",
     "iopub.status.busy": "2021-05-16T07:47:44.664197Z",
     "iopub.status.idle": "2021-05-16T07:47:46.107631Z",
     "shell.execute_reply": "2021-05-16T07:47:46.107041Z"
    },
    "papermill": {
     "duration": 1.742668,
     "end_time": "2021-05-16T07:47:46.107793",
     "exception": false,
     "start_time": "2021-05-16T07:47:44.365125",
     "status": "completed"
    },
    "tags": []
   },
   "outputs": [],
   "source": [
    "!mkdir /kaggle/working/data\n",
    "!ln -s /kaggle/working/data"
   ]
  },
  {
   "cell_type": "code",
   "execution_count": 11,
   "id": "broken-jamaica",
   "metadata": {
    "execution": {
     "iopub.execute_input": "2021-05-16T07:47:46.694099Z",
     "iopub.status.busy": "2021-05-16T07:47:46.693135Z",
     "iopub.status.idle": "2021-05-16T07:47:46.698507Z",
     "shell.execute_reply": "2021-05-16T07:47:46.697718Z"
    },
    "papermill": {
     "duration": 0.301247,
     "end_time": "2021-05-16T07:47:46.698703",
     "exception": false,
     "start_time": "2021-05-16T07:47:46.397456",
     "status": "completed"
    },
    "tags": []
   },
   "outputs": [
    {
     "name": "stdout",
     "output_type": "stream",
     "text": [
      "Writing runmfcc.sh\n"
     ]
    }
   ],
   "source": [
    "%%writefile runmfcc.sh\n",
    "#!/bin/bash\n",
    "\n",
    ". ./path.sh ## set the paths in this file correctly!\n",
    "\n",
    "# link to scripts from the standard Kaldi distribution\n",
    "# we try to use these as much as possible\n",
    "if [ ! -f $KALDI_ROOT/egs/wsj/s5/conf ] ; then ln -s $KALDI_ROOT/egs/wsj/s5/conf ; fi\n",
    "if [ ! -f $KALDI_ROOT/egs/wsj/s5/local ] ; then ln -s $KALDI_ROOT/egs/wsj/s5/local ; fi\n",
    "if [ ! -f $KALDI_ROOT/egs/wsj/s5/utils ] ; then ln -s $KALDI_ROOT/egs/wsj/s5/utils ; fi\n",
    "if [ ! -f $KALDI_ROOT/egs/wsj/s5/steps ] ; then ln -s $KALDI_ROOT/egs/wsj/s5/steps ; fi\n",
    "\n",
    "# exits script if error occurs anywhere\n",
    "# you might not want to do this for interactive shells.\n",
    "set -e\n",
    "\n",
    "# check if the user wants to clean the project\n",
    "local_clarin/clarin_pl_clean.sh\n",
    "\n",
    "export nj=40 ##number of concurrent processes\n",
    "export nj_test=30 ## number of concurrent processes for test has to be <=30\n",
    "\n",
    "# This is a shell script, but it's recommended that you run the commands one by\n",
    "# one by copying and pasting into the shell.\n",
    "\n",
    "#run some initial data preparation (look at the file for more details):\n",
    "local_clarin/clarin_pl_data_prep.sh\n",
    "\n",
    "#prepare the lang directory\n",
    "utils/prepare_lang.sh data/local/dict_nosp \"<unk>\" data/local/tmp_nosp data/lang_nosp\n",
    "\n",
    "#make G.fst\n",
    "utils/format_lm.sh data/lang_nosp local_clarin/arpa.lm.gz data/local/dict_nosp/lexicon.txt data/lang_nosp_test\n",
    "\n",
    "# Make normalized MFCC features.\n",
    "steps/make_mfcc.sh --nj $nj data/train\n",
    "steps/compute_cmvn_stats.sh data/train\n",
    "steps/make_mfcc.sh --nj $nj data/test\n",
    "steps/compute_cmvn_stats.sh data/test"
   ]
  },
  {
   "cell_type": "code",
   "execution_count": 12,
   "id": "coordinated-prince",
   "metadata": {
    "execution": {
     "iopub.execute_input": "2021-05-16T07:47:47.323025Z",
     "iopub.status.busy": "2021-05-16T07:47:47.322311Z",
     "iopub.status.idle": "2021-05-16T07:57:08.741277Z",
     "shell.execute_reply": "2021-05-16T07:57:08.740487Z"
    },
    "papermill": {
     "duration": 561.733457,
     "end_time": "2021-05-16T07:57:08.741456",
     "exception": false,
     "start_time": "2021-05-16T07:47:47.007999",
     "status": "completed"
    },
    "tags": []
   },
   "outputs": [
    {
     "name": "stdout",
     "output_type": "stream",
     "text": [
      "/opt/kaldi/egs/ClarinStudioKaldi/audio /opt/kaldi/egs/ClarinStudioKaldi\r\n",
      "Downloading audio from the Clarin-pl website (~4.6GB)...\r\n",
      "  % Total    % Received % Xferd  Average Speed   Time    Time     Time  Current\r\n",
      "                                 Dload  Upload   Total   Spent    Left  Speed\r\n",
      "100 4704M  100 4704M    0     0  21.3M      0  0:03:40  0:03:40 --:--:-- 21.6M\r\n",
      "Extracting files...\r\n",
      "/opt/kaldi/egs/ClarinStudioKaldi\r\n",
      "Generating file lists using proper paths...\r\n",
      "Generating spk2utt...\r\n",
      "Preparing dictionary...\r\n",
      "local_clarin/clarin_prepare_dict.sh data/local/all.wlist data/local/dict_nosp\r\n",
      "local_clarin/clarin_prepare_dict.sh: line 72: phonetisaurus-apply: command not found\r\n",
      "Dictionary preparation succeeded\r\n",
      "utils/prepare_lang.sh data/local/dict_nosp <unk> data/local/tmp_nosp data/lang_nosp\r\n",
      "Checking data/local/dict_nosp/silence_phones.txt ...\r\n",
      "--> reading data/local/dict_nosp/silence_phones.txt\r\n",
      "--> text seems to be UTF-8 or ASCII, checking whitespaces\r\n",
      "--> text contains only allowed whitespaces\r\n",
      "--> data/local/dict_nosp/silence_phones.txt is OK\r\n",
      "\r\n",
      "Checking data/local/dict_nosp/optional_silence.txt ...\r\n",
      "--> reading data/local/dict_nosp/optional_silence.txt\r\n",
      "--> text seems to be UTF-8 or ASCII, checking whitespaces\r\n",
      "--> text contains only allowed whitespaces\r\n",
      "--> data/local/dict_nosp/optional_silence.txt is OK\r\n",
      "\r\n",
      "Checking data/local/dict_nosp/nonsilence_phones.txt ...\r\n",
      "--> reading data/local/dict_nosp/nonsilence_phones.txt\r\n",
      "--> text seems to be UTF-8 or ASCII, checking whitespaces\r\n",
      "--> text contains only allowed whitespaces\r\n",
      "--> data/local/dict_nosp/nonsilence_phones.txt is OK\r\n",
      "\r\n",
      "Checking disjoint: silence_phones.txt, nonsilence_phones.txt\r\n",
      "--> disjoint property is OK.\r\n",
      "\r\n",
      "Checking data/local/dict_nosp/lexicon.txt\r\n",
      "--> reading data/local/dict_nosp/lexicon.txt\r\n",
      "--> text seems to be UTF-8 or ASCII, checking whitespaces\r\n",
      "--> text contains only allowed whitespaces\r\n",
      "--> data/local/dict_nosp/lexicon.txt is OK\r\n",
      "\r\n",
      "Checking data/local/dict_nosp/extra_questions.txt ...\r\n",
      "--> reading data/local/dict_nosp/extra_questions.txt\r\n",
      "--> text seems to be UTF-8 or ASCII, checking whitespaces\r\n",
      "--> text contains only allowed whitespaces\r\n",
      "--> data/local/dict_nosp/extra_questions.txt is OK\r\n",
      "--> SUCCESS [validating dictionary directory data/local/dict_nosp]\r\n",
      "\r\n",
      "**Creating data/local/dict_nosp/lexiconp.txt from data/local/dict_nosp/lexicon.txt\r\n",
      "fstaddselfloops data/lang_nosp/phones/wdisambig_phones.int data/lang_nosp/phones/wdisambig_words.int \r\n",
      "prepare_lang.sh: validating output directory\r\n",
      "utils/validate_lang.pl data/lang_nosp\r\n",
      "Checking existence of separator file\r\n",
      "separator file data/lang_nosp/subword_separator.txt is empty or does not exist, deal in word case.\r\n",
      "Checking data/lang_nosp/phones.txt ...\r\n",
      "--> text seems to be UTF-8 or ASCII, checking whitespaces\r\n",
      "--> text contains only allowed whitespaces\r\n",
      "--> data/lang_nosp/phones.txt is OK\r\n",
      "\r\n",
      "Checking words.txt: #0 ...\r\n",
      "--> text seems to be UTF-8 or ASCII, checking whitespaces\r\n",
      "--> text contains only allowed whitespaces\r\n",
      "--> data/lang_nosp/words.txt is OK\r\n",
      "\r\n",
      "Checking disjoint: silence.txt, nonsilence.txt, disambig.txt ...\r\n",
      "--> silence.txt and nonsilence.txt are disjoint\r\n",
      "--> silence.txt and disambig.txt are disjoint\r\n",
      "--> disambig.txt and nonsilence.txt are disjoint\r\n",
      "--> disjoint property is OK\r\n",
      "\r\n",
      "Checking sumation: silence.txt, nonsilence.txt, disambig.txt ...\r\n",
      "--> found no unexplainable phones in phones.txt\r\n",
      "\r\n",
      "Checking data/lang_nosp/phones/context_indep.{txt, int, csl} ...\r\n",
      "--> text seems to be UTF-8 or ASCII, checking whitespaces\r\n",
      "--> text contains only allowed whitespaces\r\n",
      "--> 5 entry/entries in data/lang_nosp/phones/context_indep.txt\r\n",
      "--> data/lang_nosp/phones/context_indep.int corresponds to data/lang_nosp/phones/context_indep.txt\r\n",
      "--> data/lang_nosp/phones/context_indep.csl corresponds to data/lang_nosp/phones/context_indep.txt\r\n",
      "--> data/lang_nosp/phones/context_indep.{txt, int, csl} are OK\r\n",
      "\r\n",
      "Checking data/lang_nosp/phones/nonsilence.{txt, int, csl} ...\r\n",
      "--> text seems to be UTF-8 or ASCII, checking whitespaces\r\n",
      "--> text contains only allowed whitespaces\r\n",
      "--> 144 entry/entries in data/lang_nosp/phones/nonsilence.txt\r\n",
      "--> data/lang_nosp/phones/nonsilence.int corresponds to data/lang_nosp/phones/nonsilence.txt\r\n",
      "--> data/lang_nosp/phones/nonsilence.csl corresponds to data/lang_nosp/phones/nonsilence.txt\r\n",
      "--> data/lang_nosp/phones/nonsilence.{txt, int, csl} are OK\r\n",
      "\r\n",
      "Checking data/lang_nosp/phones/silence.{txt, int, csl} ...\r\n",
      "--> text seems to be UTF-8 or ASCII, checking whitespaces\r\n",
      "--> text contains only allowed whitespaces\r\n",
      "--> 5 entry/entries in data/lang_nosp/phones/silence.txt\r\n",
      "--> data/lang_nosp/phones/silence.int corresponds to data/lang_nosp/phones/silence.txt\r\n",
      "--> data/lang_nosp/phones/silence.csl corresponds to data/lang_nosp/phones/silence.txt\r\n",
      "--> data/lang_nosp/phones/silence.{txt, int, csl} are OK\r\n",
      "\r\n",
      "Checking data/lang_nosp/phones/optional_silence.{txt, int, csl} ...\r\n",
      "--> text seems to be UTF-8 or ASCII, checking whitespaces\r\n",
      "--> text contains only allowed whitespaces\r\n",
      "--> 1 entry/entries in data/lang_nosp/phones/optional_silence.txt\r\n",
      "--> data/lang_nosp/phones/optional_silence.int corresponds to data/lang_nosp/phones/optional_silence.txt\r\n",
      "--> data/lang_nosp/phones/optional_silence.csl corresponds to data/lang_nosp/phones/optional_silence.txt\r\n",
      "--> data/lang_nosp/phones/optional_silence.{txt, int, csl} are OK\r\n",
      "\r\n",
      "Checking data/lang_nosp/phones/disambig.{txt, int, csl} ...\r\n",
      "--> text seems to be UTF-8 or ASCII, checking whitespaces\r\n",
      "--> text contains only allowed whitespaces\r\n",
      "--> 2 entry/entries in data/lang_nosp/phones/disambig.txt\r\n",
      "--> data/lang_nosp/phones/disambig.int corresponds to data/lang_nosp/phones/disambig.txt\r\n",
      "--> data/lang_nosp/phones/disambig.csl corresponds to data/lang_nosp/phones/disambig.txt\r\n",
      "--> data/lang_nosp/phones/disambig.{txt, int, csl} are OK\r\n",
      "\r\n",
      "Checking data/lang_nosp/phones/roots.{txt, int} ...\r\n",
      "--> text seems to be UTF-8 or ASCII, checking whitespaces\r\n",
      "--> text contains only allowed whitespaces\r\n",
      "--> 37 entry/entries in data/lang_nosp/phones/roots.txt\r\n",
      "--> data/lang_nosp/phones/roots.int corresponds to data/lang_nosp/phones/roots.txt\r\n",
      "--> data/lang_nosp/phones/roots.{txt, int} are OK\r\n",
      "\r\n",
      "Checking data/lang_nosp/phones/sets.{txt, int} ...\r\n",
      "--> text seems to be UTF-8 or ASCII, checking whitespaces\r\n",
      "--> text contains only allowed whitespaces\r\n",
      "--> 37 entry/entries in data/lang_nosp/phones/sets.txt\r\n",
      "--> data/lang_nosp/phones/sets.int corresponds to data/lang_nosp/phones/sets.txt\r\n",
      "--> data/lang_nosp/phones/sets.{txt, int} are OK\r\n",
      "\r\n",
      "Checking data/lang_nosp/phones/extra_questions.{txt, int} ...\r\n",
      "--> text seems to be UTF-8 or ASCII, checking whitespaces\r\n",
      "--> text contains only allowed whitespaces\r\n",
      "--> 11 entry/entries in data/lang_nosp/phones/extra_questions.txt\r\n",
      "--> data/lang_nosp/phones/extra_questions.int corresponds to data/lang_nosp/phones/extra_questions.txt\r\n",
      "--> data/lang_nosp/phones/extra_questions.{txt, int} are OK\r\n",
      "\r\n",
      "Checking data/lang_nosp/phones/word_boundary.{txt, int} ...\r\n",
      "--> text seems to be UTF-8 or ASCII, checking whitespaces\r\n",
      "--> text contains only allowed whitespaces\r\n",
      "--> 149 entry/entries in data/lang_nosp/phones/word_boundary.txt\r\n",
      "--> data/lang_nosp/phones/word_boundary.int corresponds to data/lang_nosp/phones/word_boundary.txt\r\n",
      "--> data/lang_nosp/phones/word_boundary.{txt, int} are OK\r\n",
      "\r\n",
      "Checking optional_silence.txt ...\r\n",
      "--> reading data/lang_nosp/phones/optional_silence.txt\r\n",
      "--> data/lang_nosp/phones/optional_silence.txt is OK\r\n",
      "\r\n",
      "Checking disambiguation symbols: #0 and #1\r\n",
      "--> data/lang_nosp/phones/disambig.txt has \"#0\" and \"#1\"\r\n",
      "--> data/lang_nosp/phones/disambig.txt is OK\r\n",
      "\r\n",
      "Checking topo ...\r\n",
      "\r\n",
      "Checking word_boundary.txt: silence.txt, nonsilence.txt, disambig.txt ...\r\n",
      "--> data/lang_nosp/phones/word_boundary.txt doesn't include disambiguation symbols\r\n",
      "--> data/lang_nosp/phones/word_boundary.txt is the union of nonsilence.txt and silence.txt\r\n",
      "--> data/lang_nosp/phones/word_boundary.txt is OK\r\n",
      "\r\n",
      "Checking word-level disambiguation symbols...\r\n",
      "--> data/lang_nosp/phones/wdisambig.txt exists (newer prepare_lang.sh)\r\n",
      "Checking word_boundary.int and disambig.int\r\n",
      "--> generating a 23 word/subword sequence\r\n",
      "--> resulting phone sequence from L.fst corresponds to the word sequence\r\n",
      "--> L.fst is OK\r\n",
      "--> generating a 26 word/subword sequence\r\n",
      "--> resulting phone sequence from L_disambig.fst corresponds to the word sequence\r\n",
      "--> L_disambig.fst is OK\r\n",
      "\r\n",
      "Checking data/lang_nosp/oov.{txt, int} ...\r\n",
      "--> text seems to be UTF-8 or ASCII, checking whitespaces\r\n",
      "--> text contains only allowed whitespaces\r\n",
      "--> 1 entry/entries in data/lang_nosp/oov.txt\r\n",
      "--> data/lang_nosp/oov.int corresponds to data/lang_nosp/oov.txt\r\n",
      "--> data/lang_nosp/oov.{txt, int} are OK\r\n",
      "\r\n",
      "--> data/lang_nosp/L.fst is olabel sorted\r\n",
      "--> data/lang_nosp/L_disambig.fst is olabel sorted\r\n",
      "--> SUCCESS [validating lang directory data/lang_nosp]\r\n",
      "Converting 'local_clarin/arpa.lm.gz' to FST\r\n",
      "arpa2fst --disambig-symbol=#0 --read-symbol-table=data/lang_nosp_test/words.txt - data/lang_nosp_test/G.fst \r\n",
      "LOG (arpa2fst[5.5.0~1-2b62]:Read():arpa-file-parser.cc:94) Reading \\data\\ section.\r\n",
      "LOG (arpa2fst[5.5.0~1-2b62]:Read():arpa-file-parser.cc:149) Reading \\1-grams: section.\r\n",
      "WARNING (arpa2fst[5.5.0~1-2b62]:Read():arpa-file-parser.cc:219) line 11 [-2.387844\ta\t-0.2394255] skipped: word 'a' not in symbol table\r\n",
      "WARNING (arpa2fst[5.5.0~1-2b62]:Read():arpa-file-parser.cc:219) line 12 [-5.252399\taare\t-0.05016758] skipped: word 'aare' not in symbol table\r\n",
      "WARNING (arpa2fst[5.5.0~1-2b62]:Read():arpa-file-parser.cc:219) line 13 [-4.800938\tab\t-0.01376556] skipped: word 'ab' not in symbol table\r\n",
      "WARNING (arpa2fst[5.5.0~1-2b62]:Read():arpa-file-parser.cc:219) line 14 [-5.23682\tabażurem\t-0.0302294] skipped: word 'abażurem' not in symbol table\r\n",
      "WARNING (arpa2fst[5.5.0~1-2b62]:Read():arpa-file-parser.cc:219) line 15 [-5.226714\tabchazję\t-0.06154328] skipped: word 'abchazję' not in symbol table\r\n",
      "WARNING (arpa2fst[5.5.0~1-2b62]:Read():arpa-file-parser.cc:219) line 16 [-5.245582\tabchazów\t-0.02685788] skipped: word 'abchazów' not in symbol table\r\n",
      "WARNING (arpa2fst[5.5.0~1-2b62]:Read():arpa-file-parser.cc:219) line 17 [-5.255419\taberon] skipped: word 'aberon' not in symbol table\r\n",
      "WARNING (arpa2fst[5.5.0~1-2b62]:Read():arpa-file-parser.cc:219) line 18 [-5.262231\taberonowi] skipped: word 'aberonowi' not in symbol table\r\n",
      "WARNING (arpa2fst[5.5.0~1-2b62]:Read():arpa-file-parser.cc:219) line 19 [-5.26215\taberracyjna] skipped: word 'aberracyjna' not in symbol table\r\n",
      "WARNING (arpa2fst[5.5.0~1-2b62]:Read():arpa-file-parser.cc:219) line 20 [-5.250469\tabgarowicz] skipped: word 'abgarowicz' not in symbol table\r\n",
      "WARNING (arpa2fst[5.5.0~1-2b62]:Read():arpa-file-parser.cc:219) line 21 [-4.881186\tabonament\t-0.1130914] skipped: word 'abonament' not in symbol table\r\n",
      "WARNING (arpa2fst[5.5.0~1-2b62]:Read():arpa-file-parser.cc:219) line 22 [-4.876382\tabonamentu\t-0.07834942] skipped: word 'abonamentu' not in symbol table\r\n",
      "WARNING (arpa2fst[5.5.0~1-2b62]:Read():arpa-file-parser.cc:219) line 23 [-5.163284\tabonamentów\t-0.06102198] skipped: word 'abonamentów' not in symbol table\r\n",
      "WARNING (arpa2fst[5.5.0~1-2b62]:Read():arpa-file-parser.cc:219) line 24 [-5.184859\tabonentom\t-0.03256992] skipped: word 'abonentom' not in symbol table\r\n",
      "WARNING (arpa2fst[5.5.0~1-2b62]:Read():arpa-file-parser.cc:219) line 25 [-5.010186\taborcja\t-0.1268652] skipped: word 'aborcja' not in symbol table\r\n",
      "WARNING (arpa2fst[5.5.0~1-2b62]:Read():arpa-file-parser.cc:219) line 26 [-4.724734\taborcji\t-0.1546028] skipped: word 'aborcji' not in symbol table\r\n",
      "WARNING (arpa2fst[5.5.0~1-2b62]:Read():arpa-file-parser.cc:219) line 27 [-5.047917\taborcję\t-0.1214982] skipped: word 'aborcję' not in symbol table\r\n",
      "WARNING (arpa2fst[5.5.0~1-2b62]:Read():arpa-file-parser.cc:219) line 28 [-5.229477\tabramsa\t-0.03953429] skipped: word 'abramsa' not in symbol table\r\n",
      "WARNING (arpa2fst[5.5.0~1-2b62]:Read():arpa-file-parser.cc:219) line 29 [-5.259943\tabramsy] skipped: word 'abramsy' not in symbol table\r\n",
      "WARNING (arpa2fst[5.5.0~1-2b62]:Read():arpa-file-parser.cc:219) line 30 [-5.241594\tabruzji\t-0.05095416] skipped: word 'abruzji' not in symbol table\r\n",
      "WARNING (arpa2fst[5.5.0~1-2b62]:Read():arpa-file-parser.cc:219) line 31 [-4.978928\tabsolutna\t-0.03940874] skipped: word 'absolutna' not in symbol table\r\n",
      "WARNING (arpa2fst[5.5.0~1-2b62]:Read():arpa-file-parser.cc:219) line 32 [-5.007071\tabsolutne\t-0.04487412] skipped: word 'absolutne' not in symbol table\r\n",
      "WARNING (arpa2fst[5.5.0~1-2b62]:Read():arpa-file-parser.cc:219) line 33 [-4.915956\tabsolutnej\t-0.08613706] skipped: word 'absolutnej' not in symbol table\r\n",
      "WARNING (arpa2fst[5.5.0~1-2b62]:Read():arpa-file-parser.cc:219) line 34 [-4.264698\tabsolutnie\t-0.1241204] skipped: word 'absolutnie' not in symbol table\r\n",
      "WARNING (arpa2fst[5.5.0~1-2b62]:Read():arpa-file-parser.cc:219) line 35 [-4.894648\tabsolutną\t-0.07766653] skipped: word 'absolutną' not in symbol table\r\n",
      "WARNING (arpa2fst[5.5.0~1-2b62]:Read():arpa-file-parser.cc:219) line 36 [-4.74231\tabsolutorium\t-0.1669805] skipped: word 'absolutorium' not in symbol table\r\n",
      "WARNING (arpa2fst[5.5.0~1-2b62]:Read():arpa-file-parser.cc:219) line 37 [-5.259502\tabsolutów] skipped: word 'absolutów' not in symbol table\r\n",
      "WARNING (arpa2fst[5.5.0~1-2b62]:Read():arpa-file-parser.cc:219) line 38 [-4.900764\tabsolwenci\t-0.06442387] skipped: word 'absolwenci' not in symbol table\r\n",
      "WARNING (arpa2fst[5.5.0~1-2b62]:Read():arpa-file-parser.cc:219) line 39 [-4.807225\tabsolwent\t-0.1084523] skipped: word 'absolwent' not in symbol table\r\n",
      "WARNING (arpa2fst[5.5.0~1-2b62]:Read():arpa-file-parser.cc:219) line 40 [-5.189535\tabsolwentami\t-0.03575665] skipped: word 'absolwentami' not in symbol table\r\n",
      "LOG (arpa2fst[5.5.0~1-2b62]:Read():arpa-file-parser.cc:149) Reading \\2-grams: section.\r\n",
      "LOG (arpa2fst[5.5.0~1-2b62]:Read():arpa-file-parser.cc:149) Reading \\3-grams: section.\r\n",
      "WARNING (arpa2fst[5.5.0~1-2b62]:Read():arpa-file-parser.cc:259) Of 1043998 parse warnings, 30 were reported. Run program with --max_warnings=-1 to see all warnings\r\n",
      "LOG (arpa2fst[5.5.0~1-2b62]:RemoveRedundantStates():arpa-lm-compiler.cc:359) Reduced num-states from 3 to 2\r\n",
      "fstisstochastic data/lang_nosp_test/G.fst \r\n",
      "2.50007 0.201763\r\n",
      "Succeeded in formatting LM: 'local_clarin/arpa.lm.gz'\r\n",
      "steps/make_mfcc.sh --nj 40 data/train\r\n",
      "utils/validate_data_dir.sh: Successfully validated data-directory data/train\r\n",
      "steps/make_mfcc.sh: [info]: no segments file exists: assuming wav.scp indexed by utterance.\r\n",
      "steps/make_mfcc.sh: Succeeded creating MFCC features for train\r\n",
      "steps/compute_cmvn_stats.sh data/train\r\n",
      "Succeeded creating CMVN stats for train\r\n",
      "steps/make_mfcc.sh --nj 40 data/test\r\n",
      "utils/validate_data_dir.sh: Successfully validated data-directory data/test\r\n",
      "steps/make_mfcc.sh: [info]: no segments file exists: assuming wav.scp indexed by utterance.\r\n",
      "steps/make_mfcc.sh: Succeeded creating MFCC features for test\r\n",
      "steps/compute_cmvn_stats.sh data/test\r\n",
      "Succeeded creating CMVN stats for test\r\n"
     ]
    }
   ],
   "source": [
    "!sh runmfcc.sh"
   ]
  }
 ],
 "metadata": {
  "kernelspec": {
   "display_name": "Python 3",
   "language": "python",
   "name": "python3"
  },
  "language_info": {
   "codemirror_mode": {
    "name": "ipython",
    "version": 3
   },
   "file_extension": ".py",
   "mimetype": "text/x-python",
   "name": "python",
   "nbconvert_exporter": "python",
   "pygments_lexer": "ipython3",
   "version": "3.7.10"
  },
  "papermill": {
   "default_parameters": {},
   "duration": 769.742049,
   "end_time": "2021-05-16T07:57:09.827255",
   "environment_variables": {},
   "exception": null,
   "input_path": "__notebook__.ipynb",
   "output_path": "__notebook__.ipynb",
   "parameters": {},
   "start_time": "2021-05-16T07:44:20.085206",
   "version": "2.3.3"
  }
 },
 "nbformat": 4,
 "nbformat_minor": 5
}
