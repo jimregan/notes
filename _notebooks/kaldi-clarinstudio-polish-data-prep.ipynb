{
 "cells": [
  {
   "cell_type": "code",
   "execution_count": 1,
   "id": "sunrise-solution",
   "metadata": {
    "execution": {
     "iopub.execute_input": "2021-05-24T18:27:25.889696Z",
     "iopub.status.busy": "2021-05-24T18:27:25.889014Z",
     "iopub.status.idle": "2021-05-24T18:27:25.894148Z",
     "shell.execute_reply": "2021-05-24T18:27:25.893540Z",
     "shell.execute_reply.started": "2021-05-24T17:50:18.373712Z"
    },
    "papermill": {
     "duration": 0.025081,
     "end_time": "2021-05-24T18:27:25.894300",
     "exception": false,
     "start_time": "2021-05-24T18:27:25.869219",
     "status": "completed"
    },
    "tags": []
   },
   "outputs": [
    {
     "name": "stdout",
     "output_type": "stream",
     "text": [
      "/opt\n"
     ]
    }
   ],
   "source": [
    "%cd /opt"
   ]
  },
  {
   "cell_type": "code",
   "execution_count": 2,
   "id": "improving-collective",
   "metadata": {
    "_cell_guid": "b1076dfc-b9ad-4769-8c92-a6c4dae69d19",
    "_uuid": "8f2839f25d086af736a60e9eeb907d3b93b6e0e5",
    "execution": {
     "iopub.execute_input": "2021-05-24T18:27:25.929301Z",
     "iopub.status.busy": "2021-05-24T18:27:25.916796Z",
     "iopub.status.idle": "2021-05-24T18:27:59.141846Z",
     "shell.execute_reply": "2021-05-24T18:27:59.142529Z",
     "shell.execute_reply.started": "2021-05-24T17:50:18.384815Z"
    },
    "papermill": {
     "duration": 33.23962,
     "end_time": "2021-05-24T18:27:59.142709",
     "exception": false,
     "start_time": "2021-05-24T18:27:25.903089",
     "status": "completed"
    },
    "tags": []
   },
   "outputs": [],
   "source": [
    "%%capture\n",
    "!tar xvf /kaggle/input/extract-prebuilt-kaldi-from-docker/kaldi.tar"
   ]
  },
  {
   "cell_type": "code",
   "execution_count": 3,
   "id": "prerequisite-cooper",
   "metadata": {
    "execution": {
     "iopub.execute_input": "2021-05-24T18:27:59.163221Z",
     "iopub.status.busy": "2021-05-24T18:27:59.162345Z",
     "iopub.status.idle": "2021-05-24T18:27:59.168611Z",
     "shell.execute_reply": "2021-05-24T18:27:59.168984Z",
     "shell.execute_reply.started": "2021-05-24T17:50:50.52665Z"
    },
    "papermill": {
     "duration": 0.017247,
     "end_time": "2021-05-24T18:27:59.169138",
     "exception": false,
     "start_time": "2021-05-24T18:27:59.151891",
     "status": "completed"
    },
    "tags": []
   },
   "outputs": [
    {
     "name": "stdout",
     "output_type": "stream",
     "text": [
      "/opt/kaldi/egs\n"
     ]
    }
   ],
   "source": [
    "%cd kaldi/egs"
   ]
  },
  {
   "cell_type": "code",
   "execution_count": 4,
   "id": "large-custom",
   "metadata": {
    "execution": {
     "iopub.execute_input": "2021-05-24T18:27:59.193990Z",
     "iopub.status.busy": "2021-05-24T18:27:59.193366Z",
     "iopub.status.idle": "2021-05-24T18:28:02.494279Z",
     "shell.execute_reply": "2021-05-24T18:28:02.493370Z",
     "shell.execute_reply.started": "2021-05-24T17:50:50.541924Z"
    },
    "papermill": {
     "duration": 3.317183,
     "end_time": "2021-05-24T18:28:02.494442",
     "exception": false,
     "start_time": "2021-05-24T18:27:59.177259",
     "status": "completed"
    },
    "tags": []
   },
   "outputs": [
    {
     "name": "stdout",
     "output_type": "stream",
     "text": [
      "Cloning into 'ClarinStudioKaldi'...\r\n",
      "remote: Enumerating objects: 778, done.\u001b[K\r\n",
      "remote: Counting objects: 100% (3/3), done.\u001b[K\r\n",
      "remote: Compressing objects: 100% (3/3), done.\u001b[K\r\n",
      "remote: Total 778 (delta 0), reused 0 (delta 0), pack-reused 775\u001b[K\r\n",
      "Receiving objects: 100% (778/778), 35.26 MiB | 41.08 MiB/s, done.\r\n",
      "Resolving deltas: 100% (262/262), done.\r\n"
     ]
    }
   ],
   "source": [
    "!git clone https://github.com/danijel3/ClarinStudioKaldi"
   ]
  },
  {
   "cell_type": "code",
   "execution_count": 5,
   "id": "antique-record",
   "metadata": {
    "execution": {
     "iopub.execute_input": "2021-05-24T18:28:02.519644Z",
     "iopub.status.busy": "2021-05-24T18:28:02.518896Z",
     "iopub.status.idle": "2021-05-24T18:28:02.522449Z",
     "shell.execute_reply": "2021-05-24T18:28:02.522812Z",
     "shell.execute_reply.started": "2021-05-24T17:50:56.308139Z"
    },
    "papermill": {
     "duration": 0.018322,
     "end_time": "2021-05-24T18:28:02.522978",
     "exception": false,
     "start_time": "2021-05-24T18:28:02.504656",
     "status": "completed"
    },
    "tags": []
   },
   "outputs": [
    {
     "name": "stdout",
     "output_type": "stream",
     "text": [
      "/opt/kaldi/egs/ClarinStudioKaldi\n"
     ]
    }
   ],
   "source": [
    "%cd ClarinStudioKaldi"
   ]
  },
  {
   "cell_type": "code",
   "execution_count": 6,
   "id": "hourly-nevada",
   "metadata": {
    "execution": {
     "iopub.execute_input": "2021-05-24T18:28:02.552929Z",
     "iopub.status.busy": "2021-05-24T18:28:02.552333Z",
     "iopub.status.idle": "2021-05-24T18:30:25.729482Z",
     "shell.execute_reply": "2021-05-24T18:30:25.728965Z",
     "shell.execute_reply.started": "2021-05-24T17:50:56.316552Z"
    },
    "papermill": {
     "duration": 143.19577,
     "end_time": "2021-05-24T18:30:25.729637",
     "exception": false,
     "start_time": "2021-05-24T18:28:02.533867",
     "status": "completed"
    },
    "tags": []
   },
   "outputs": [
    {
     "name": "stdout",
     "output_type": "stream",
     "text": [
      "Collecting package metadata (current_repodata.json): - \b\b\\ \b\b| \b\b/ \b\b- \b\b\\ \b\b| \b\b/ \b\b- \b\b\\ \b\b| \b\b/ \b\b- \b\b\\ \b\b| \b\b/ \b\b- \b\b\\ \b\b| \b\b/ \b\b- \b\b\\ \b\b| \b\b/ \b\b- \b\b\\ \b\b| \b\b/ \b\b- \b\b\\ \b\b| \b\b/ \b\b- \b\b\\ \b\b| \b\b/ \b\b- \b\b\\ \b\b| \b\b/ \b\b- \b\b\\ \b\b| \b\b/ \b\b- \b\b\\ \b\b| \b\b/ \b\b- \b\b\\ \b\b| \b\b/ \b\b- \b\b\\ \b\b| \b\b/ \b\b- \b\b\\ \b\b| \b\b/ \b\b- \b\b\\ \b\b| \b\b/ \b\b- \b\b\\ \b\b| \b\b/ \b\b- \b\b\\ \b\b| \b\b/ \b\b- \b\b\\ \b\b| \b\b/ \b\b- \b\b\\ \b\b| \b\b/ \b\b- \b\b\\ \b\b| \b\b/ \b\b- \b\b\\ \b\b| \b\b/ \b\b- \b\b\\ \b\b| \b\b/ \b\b- \b\b\\ \b\b| \b\b/ \b\b- \b\b\\ \b\b| \b\b/ \b\b- \b\b\\ \b\b| \b\b/ \b\b- \b\b\\ \b\b| \b\b/ \b\b- \b\b\\ \b\b| \b\b/ \b\b- \b\b\\ \b\b| \b\b/ \b\b- \b\b\\ \b\b| \b\b/ \b\b- \b\b\\ \b\b| \b\b/ \b\b- \b\b\\ \b\b| \b\b/ \b\b- \b\b\\ \b\b| \b\b/ \b\b- \b\b\\ \b\b| \b\b/ \b\b- \b\b\\ \b\bdone\r\n",
      "Solving environment: / \b\b- \b\b\\ \b\b| \b\b/ \b\b- \b\b\\ \b\b| \b\b/ \b\b- \b\b\\ \b\b| \b\b/ \b\b- \b\b\\ \b\b| \b\b/ \b\b- \b\b\\ \b\b| \b\b/ \b\b- \b\b\\ \b\b| \b\b/ \b\b- \b\b\\ \b\b| \b\b/ \b\b- \b\b\\ \b\b| \b\b/ \b\b- \b\b\\ \b\b| \b\b/ \b\b- \b\b\\ \b\b| \b\b/ \b\b- \b\b\\ \b\b| \b\b/ \b\b- \b\b\\ \b\b| \b\b/ \b\b- \b\b\\ \b\b| \b\b/ \b\b- \b\b\\ \b\b| \b\b/ \b\b- \b\b\\ \b\b| \b\b/ \b\b- \b\b\\ \b\b| \b\b/ \b\b- \b\b\\ \b\b| \b\b/ \b\b- \b\b\\ \b\b| \b\b/ \b\b- \b\b\\ \b\b| \b\b/ \b\b- \b\b\\ \b\b| \b\b/ \b\b- \b\b\\ \b\b| \b\b/ \b\b- \b\b\\ \b\b| \b\b/ \b\b- \b\b\\ \b\b| \b\b/ \b\b- \b\b\\ \b\b| \b\b/ \b\b- \b\b\\ \b\b| \b\b/ \b\b- \b\b\\ \b\b| \b\b/ \b\b- \b\b\\ \b\b| \b\b/ \b\b- \b\b\\ \b\b| \b\b/ \b\b- \b\b\\ \b\b| \b\b/ \b\b- \b\b\\ \b\b| \b\b/ \b\b- \b\b\\ \b\b| \b\b/ \b\b- \b\b\\ \b\b| \b\b/ \b\b- \b\b\\ \b\b| \b\b/ \b\b- \b\b\\ \b\b| \b\b/ \b\b- \b\b\\ \b\b| \b\b/ \b\b- \b\b\\ \b\b| \b\b/ \b\b- \b\b\\ \b\b| \b\b/ \b\b- \b\b\\ \b\b| \b\b/ \b\b- \b\b\\ \b\b| \b\b/ \b\b- \b\b\\ \b\b| \b\b/ \b\b- \b\b\\ \b\b| \b\b/ \b\b- \b\b\\ \b\b| \b\b/ \b\b- \b\b\\ \b\b| \b\b/ \b\b- \b\b\\ \b\b| \b\b/ \b\b- \b\b\\ \b\b| \b\b/ \b\b- \b\b\\ \b\b| \b\b/ \b\b- \b\b\\ \b\b| \b\b/ \b\b- \b\b\\ \b\b| \b\b/ \b\b- \b\b\\ \b\b| \b\b/ \b\b- \b\b\\ \b\b| \b\b/ \b\b- \b\b\\ \b\b| \b\b/ \b\b- \b\b\\ \b\b| \b\b/ \b\b- \b\b\\ \b\b| \b\b/ \b\b- \b\b\\ \b\b| \b\b/ \b\b- \b\b\\ \b\b| \b\b/ \b\b- \b\b\\ \b\b| \b\b/ \b\b- \b\b\\ \b\b| \b\b/ \b\b- \b\b\\ \b\b| \b\b/ \b\b- \b\b\\ \b\b| \b\b/ \b\b- \b\b\\ \b\b| \b\b/ \b\b- \b\b\\ \b\b| \b\b/ \b\b- \b\b\\ \b\b| \b\b/ \b\b- \b\b\\ \b\b| \b\b/ \b\b- \b\b\\ \b\b| \b\b/ \b\b- \b\b\\ \b\b| \b\b/ \b\b- \b\b\\ \b\b| \b\b/ \b\b- \b\b\\ \b\b| \b\b/ \b\b- \b\b\\ \b\b| \b\b/ \b\b- \b\b\\ \b\b| \b\b/ \b\b- \b\b\\ \b\b| \b\b/ \b\b- \b\b\\ \b\b| \b\b/ \b\b- \b\b\\ \b\b| \b\b/ \b\b- \b\b\\ \b\b| \b\b/ \b\b- \b\b\\ \b\b| \b\b/ \b\b- \b\b\\ \b\b| \b\b/ \b\b- \b\b\\ \b\b| \b\b/ \b\b- \b\b\\ \b\b| \b\b/ \b\b- \b\b\\ \b\b| \b\b/ \b\b- \b\b\\ \b\b| \b\b/ \b\b- \b\b\\ \b\b| \b\b/ \b\b- \b\b\\ \b\b| \b\b/ \b\b- \b\b\\ \b\b| \b\b/ \b\b- \b\b\\ \b\b| \b\b/ \b\b- \b\b\\ \b\b| \b\b/ \b\b- \b\b\\ \b\b| \b\b/ \b\b- \b\b\\ \b\b| \b\b/ \b\b- \b\b\\ \b\b| \b\b/ \b\b- \b\b\\ \b\b| \b\b/ \b\b- \b\b\\ \b\b| \b\b/ \b\b- \b\b\\ \b\b| \b\b/ \b\b- \b\b\\ \b\b| \b\b/ \b\b- \b\b\\ \b\b| \b\b/ \b\b- \b\b\\ \b\b| \b\b/ \b\b- \b\b\\ \b\b| \b\b/ \b\b- \b\b\\ \b\b| \b\b/ \b\b- \b\b\\ \b\b| \b\b/ \b\b- \b\b\\ \b\b| \b\b/ \b\b- \b\b\\ \b\b| \b\b/ \b\b- \b\b\\ \b\b| \b\b/ \b\b- \b\b\\ \b\b| \b\b/ \b\b- \b\b\\ \b\b| \b\b/ \b\b- \b\b\\ \b\b| \b\b/ \b\b- \b\b\\ \b\b| \b\b/ \b\b- \b\b\\ \b\b| \b\b/ \b\b- \b\b\\ \b\b| \b\b/ \b\b- \b\b\\ \b\b| \b\b/ \b\b- \b\b\\ \b\b| \b\b/ \b\b- \b\b\\ \b\b| \b\b/ \b\b- \b\b\\ \b\b| \b\b/ \b\b- \b\b\\ \b\b| \b\b/ \b\b- \b\b\\ \b\b| \b\b/ \b\b- \b\b\\ \b\b| \b\b/ \b\b- \b\b\\ \b\b| \b\b/ \b\b- \b\b\\ \b\b| \b\b/ \b\b- \b\b\\ \b\b| \b\b/ \b\b- \b\b\\ \b\b| \b\b/ \b\b- \b\b\\ \b\b| \b\b/ \b\b- \b\b\\ \b\b| \b\b/ \b\b- \b\b\\ \b\b| \b\b/ \b\b- \b\b\\ \b\b| \b\b/ \b\b- \b\b\\ \b\b| \b\b/ \b\b- \b\b\\ \b\b| \b\b/ \b\b- \b\b\\ \b\b| \b\b/ \b\b- \b\b\\ \b\b| \b\b/ \b\b- \b\b\\ \b\b| \b\b/ \b\b- \b\b\\ \b\b| \b\b/ \b\b- \b\b\\ \b\b| \b\b/ \b\b- \b\b\\ \b\b| \b\b/ \b\b- \b\b\\ \b\b| \b\b/ \b\b- \b\b\\ \b\b| \b\b/ \b\b- \b\b\\ \b\b| \b\b/ \b\b- \b\b\\ \b\bdone\r\n",
      "\r\n",
      "## Package Plan ##\r\n",
      "\r\n",
      "  environment location: /opt/conda\r\n",
      "\r\n",
      "  added / updated specs:\r\n",
      "    - perl-perlio-gzip\r\n",
      "\r\n",
      "\r\n",
      "The following packages will be downloaded:\r\n",
      "\r\n",
      "    package                    |            build\r\n",
      "    ---------------------------|-----------------\r\n",
      "    perl-5.26.2                |    h36c2ea0_1008        15.4 MB  conda-forge\r\n",
      "    perl-perlio-gzip-0.20      |  pl526h84994c4_1          17 KB  bioconda\r\n",
      "    ------------------------------------------------------------\r\n",
      "                                           Total:        15.4 MB\r\n",
      "\r\n",
      "The following NEW packages will be INSTALLED:\r\n",
      "\r\n",
      "  perl-perlio-gzip   bioconda/linux-64::perl-perlio-gzip-0.20-pl526h84994c4_1\r\n",
      "\r\n",
      "The following packages will be DOWNGRADED:\r\n",
      "\r\n",
      "  perl                                    5.32.0-h36c2ea0_0 --> 5.26.2-h36c2ea0_1008\r\n",
      "\r\n",
      "\r\n",
      "\r\n",
      "Downloading and Extracting Packages\r\n",
      "perl-perlio-gzip-0.2 | 17 KB     | ##################################### | 100% \r\n",
      "perl-5.26.2          | 15.4 MB   | ##################################### | 100% \r\n",
      "Preparing transaction: / \b\bdone\r\n",
      "Verifying transaction: \\ \b\b| \b\b/ \b\b- \b\b\\ \b\bdone\r\n",
      "Executing transaction: / \b\b- \b\b\\ \b\b| \b\b/ \b\b- \b\b\\ \b\b| \b\b/ \b\b- \b\b\\ \b\b| \b\b/ \b\b- \b\b\\ \b\b| \b\b/ \b\b- \b\b\\ \b\b| \b\b/ \b\b- \b\b\\ \b\b| \b\b/ \b\b- \b\b\\ \b\b| \b\b/ \b\b- \b\b\\ \b\b| \b\b/ \b\b- \b\b\\ \b\b| \b\b/ \b\b- \b\b\\ \b\b| \b\b/ \b\b- \b\b\\ \b\b| \b\b/ \b\b- \b\b\\ \b\b| \b\b/ \b\b- \b\b\\ \b\b| \b\b/ \b\b- \b\b\\ \b\b| \b\b/ \b\b- \b\b\\ \b\b| \b\b/ \b\b- \b\b\\ \b\b| \b\b/ \b\b- \b\b\\ \b\b| \b\b/ \b\b- \b\b\\ \b\b| \b\b/ \b\b- \b\b\\ \b\b| \b\b/ \b\b- \b\b\\ \b\b| \b\b/ \b\b- \b\b\\ \b\b| \b\b/ \b\b- \b\b\\ \b\b| \b\b/ \b\b- \b\b\\ \b\b| \b\b/ \b\b- \b\b\\ \b\b| \b\b/ \b\b- \b\b\\ \b\b| \b\b/ \b\b- \b\b\\ \b\b| \b\b/ \b\b- \b\b\\ \b\b| \b\b/ \b\b- \b\b\\ \b\b| \b\b/ \b\b- \b\b\\ \b\b| \b\b/ \b\b- \b\b\\ \b\b| \b\b/ \b\b- \b\b\\ \b\b| \b\b/ \b\b- \b\b\\ \b\b| \b\b/ \b\b- \b\b\\ \b\b| \b\b/ \b\b- \b\b\\ \b\b| \b\b/ \b\b- \b\b\\ \b\b| \b\b/ \b\b- \b\b\\ \b\b| \b\b/ \b\b- \b\b\\ \b\b| \b\b/ \b\b- \b\b\\ \b\b| \b\b/ \b\b- \b\b\\ \b\b| \b\b/ \b\b- \b\b\\ \b\b| \b\b/ \b\b- \b\b\\ \b\b| \b\b/ \b\b- \b\b\\ \b\b| \b\b/ \b\b- \b\b\\ \b\b| \b\b/ \b\b- \b\b\\ \b\b| \b\b/ \b\b- \b\b\\ \b\b| \b\b/ \b\b- \b\b\\ \b\b| \b\b/ \b\b- \b\bdone\r\n"
     ]
    }
   ],
   "source": [
    "!conda install -c bioconda perl-perlio-gzip -y"
   ]
  },
  {
   "cell_type": "code",
   "execution_count": 7,
   "id": "atlantic-triple",
   "metadata": {
    "execution": {
     "iopub.execute_input": "2021-05-24T18:30:26.113763Z",
     "iopub.status.busy": "2021-05-24T18:30:26.113196Z",
     "iopub.status.idle": "2021-05-24T18:30:26.116105Z",
     "shell.execute_reply": "2021-05-24T18:30:26.115648Z",
     "shell.execute_reply.started": "2021-05-24T17:53:08.081258Z"
    },
    "papermill": {
     "duration": 0.198652,
     "end_time": "2021-05-24T18:30:26.116234",
     "exception": false,
     "start_time": "2021-05-24T18:30:25.917582",
     "status": "completed"
    },
    "tags": []
   },
   "outputs": [],
   "source": [
    "import os\n",
    "os.environ['LD_LIBRARY_PATH'] = '/opt/conda/lib:/opt/kaldi/tools/openfst-1.6.7/lib:/opt/kaldi/src/lib'"
   ]
  },
  {
   "cell_type": "code",
   "execution_count": 8,
   "id": "periodic-scenario",
   "metadata": {
    "execution": {
     "iopub.execute_input": "2021-05-24T18:30:26.502158Z",
     "iopub.status.busy": "2021-05-24T18:30:26.501516Z",
     "iopub.status.idle": "2021-05-24T18:30:27.943458Z",
     "shell.execute_reply": "2021-05-24T18:30:27.942347Z",
     "shell.execute_reply.started": "2021-05-24T17:53:08.087583Z"
    },
    "papermill": {
     "duration": 1.642056,
     "end_time": "2021-05-24T18:30:27.943609",
     "exception": false,
     "start_time": "2021-05-24T18:30:26.301553",
     "status": "completed"
    },
    "tags": []
   },
   "outputs": [],
   "source": [
    "!cat path.sh|sed -e 's/~\\/apps/\\/opt/' > tmp\n",
    "!mv tmp path.sh"
   ]
  },
  {
   "cell_type": "code",
   "execution_count": 9,
   "id": "behind-chancellor",
   "metadata": {
    "execution": {
     "iopub.execute_input": "2021-05-24T18:30:28.327516Z",
     "iopub.status.busy": "2021-05-24T18:30:28.323311Z",
     "iopub.status.idle": "2021-05-24T18:30:29.050811Z",
     "shell.execute_reply": "2021-05-24T18:30:29.050330Z",
     "shell.execute_reply.started": "2021-05-24T17:53:09.568658Z"
    },
    "papermill": {
     "duration": 0.918953,
     "end_time": "2021-05-24T18:30:29.050951",
     "exception": false,
     "start_time": "2021-05-24T18:30:28.131998",
     "status": "completed"
    },
    "tags": []
   },
   "outputs": [],
   "source": [
    "!echo > local_clarin/clarin_pl_clean.sh"
   ]
  },
  {
   "cell_type": "code",
   "execution_count": 10,
   "id": "preceding-guess",
   "metadata": {
    "execution": {
     "iopub.execute_input": "2021-05-24T18:30:29.433645Z",
     "iopub.status.busy": "2021-05-24T18:30:29.429515Z",
     "iopub.status.idle": "2021-05-24T18:30:30.883591Z",
     "shell.execute_reply": "2021-05-24T18:30:30.884472Z",
     "shell.execute_reply.started": "2021-05-24T17:53:10.310329Z"
    },
    "papermill": {
     "duration": 1.647324,
     "end_time": "2021-05-24T18:30:30.884649",
     "exception": false,
     "start_time": "2021-05-24T18:30:29.237325",
     "status": "completed"
    },
    "tags": []
   },
   "outputs": [],
   "source": [
    "!mkdir /kaggle/working/data\n",
    "!ln -s /kaggle/working/data"
   ]
  },
  {
   "cell_type": "code",
   "execution_count": 11,
   "id": "banner-survivor",
   "metadata": {
    "execution": {
     "iopub.execute_input": "2021-05-24T18:30:31.269212Z",
     "iopub.status.busy": "2021-05-24T18:30:31.268397Z",
     "iopub.status.idle": "2021-05-24T18:30:31.273311Z",
     "shell.execute_reply": "2021-05-24T18:30:31.272600Z",
     "shell.execute_reply.started": "2021-05-24T17:53:11.754933Z"
    },
    "papermill": {
     "duration": 0.198802,
     "end_time": "2021-05-24T18:30:31.273557",
     "exception": false,
     "start_time": "2021-05-24T18:30:31.074755",
     "status": "completed"
    },
    "tags": []
   },
   "outputs": [
    {
     "name": "stdout",
     "output_type": "stream",
     "text": [
      "Writing runmfcc.sh\n"
     ]
    }
   ],
   "source": [
    "%%writefile runmfcc.sh\n",
    "#!/bin/bash\n",
    "\n",
    ". ./path.sh ## set the paths in this file correctly!\n",
    "\n",
    "# link to scripts from the standard Kaldi distribution\n",
    "# we try to use these as much as possible\n",
    "if [ ! -f $KALDI_ROOT/egs/wsj/s5/conf ] ; then ln -s $KALDI_ROOT/egs/wsj/s5/conf ; fi\n",
    "if [ ! -f $KALDI_ROOT/egs/wsj/s5/local ] ; then ln -s $KALDI_ROOT/egs/wsj/s5/local ; fi\n",
    "if [ ! -f $KALDI_ROOT/egs/wsj/s5/utils ] ; then ln -s $KALDI_ROOT/egs/wsj/s5/utils ; fi\n",
    "if [ ! -f $KALDI_ROOT/egs/wsj/s5/steps ] ; then ln -s $KALDI_ROOT/egs/wsj/s5/steps ; fi\n",
    "\n",
    "# exits script if error occurs anywhere\n",
    "# you might not want to do this for interactive shells.\n",
    "set -e\n",
    "\n",
    "# check if the user wants to clean the project\n",
    "local_clarin/clarin_pl_clean.sh\n",
    "\n",
    "export nj=40 ##number of concurrent processes\n",
    "export nj_test=30 ## number of concurrent processes for test has to be <=30\n",
    "\n",
    "# This is a shell script, but it's recommended that you run the commands one by\n",
    "# one by copying and pasting into the shell.\n",
    "\n",
    "#run some initial data preparation (look at the file for more details):\n",
    "local_clarin/clarin_pl_data_prep.sh\n",
    "\n",
    "#prepare the lang directory\n",
    "utils/prepare_lang.sh data/local/dict_nosp \"<unk>\" data/local/tmp_nosp data/lang_nosp\n",
    "\n",
    "#make G.fst\n",
    "utils/format_lm.sh data/lang_nosp local_clarin/arpa.lm.gz data/local/dict_nosp/lexicon.txt data/lang_nosp_test\n",
    "\n",
    "# Make normalized MFCC features.\n",
    "steps/make_mfcc.sh --nj $nj data/train\n",
    "steps/compute_cmvn_stats.sh data/train\n",
    "steps/make_mfcc.sh --nj $nj data/test\n",
    "steps/compute_cmvn_stats.sh data/test"
   ]
  },
  {
   "cell_type": "code",
   "execution_count": 12,
   "id": "affiliated-regular",
   "metadata": {
    "execution": {
     "iopub.execute_input": "2021-05-24T18:30:31.650331Z",
     "iopub.status.busy": "2021-05-24T18:30:31.649798Z",
     "iopub.status.idle": "2021-05-24T18:39:00.876723Z",
     "shell.execute_reply": "2021-05-24T18:39:00.876216Z"
    },
    "papermill": {
     "duration": 509.415844,
     "end_time": "2021-05-24T18:39:00.876863",
     "exception": false,
     "start_time": "2021-05-24T18:30:31.461019",
     "status": "completed"
    },
    "tags": []
   },
   "outputs": [
    {
     "name": "stdout",
     "output_type": "stream",
     "text": [
      "/opt/kaldi/egs/ClarinStudioKaldi/audio /opt/kaldi/egs/ClarinStudioKaldi\r\n",
      "Downloading audio from the Clarin-pl website (~4.6GB)...\r\n",
      "  % Total    % Received % Xferd  Average Speed   Time    Time     Time  Current\r\n",
      "                                 Dload  Upload   Total   Spent    Left  Speed\r\n",
      "100 4704M  100 4704M    0     0  22.9M      0  0:03:24  0:03:24 --:--:-- 17.0M\r\n",
      "Extracting files...\r\n",
      "/opt/kaldi/egs/ClarinStudioKaldi\r\n",
      "Generating file lists using proper paths...\r\n",
      "Generating spk2utt...\r\n",
      "Preparing dictionary...\r\n",
      "local_clarin/clarin_prepare_dict.sh data/local/all.wlist data/local/dict_nosp\r\n",
      "local_clarin/clarin_prepare_dict.sh: line 72: phonetisaurus-apply: command not found\r\n",
      "Dictionary preparation succeeded\r\n",
      "utils/prepare_lang.sh data/local/dict_nosp <unk> data/local/tmp_nosp data/lang_nosp\r\n",
      "Checking data/local/dict_nosp/silence_phones.txt ...\r\n",
      "--> reading data/local/dict_nosp/silence_phones.txt\r\n",
      "--> text seems to be UTF-8 or ASCII, checking whitespaces\r\n",
      "--> text contains only allowed whitespaces\r\n",
      "--> data/local/dict_nosp/silence_phones.txt is OK\r\n",
      "\r\n",
      "Checking data/local/dict_nosp/optional_silence.txt ...\r\n",
      "--> reading data/local/dict_nosp/optional_silence.txt\r\n",
      "--> text seems to be UTF-8 or ASCII, checking whitespaces\r\n",
      "--> text contains only allowed whitespaces\r\n",
      "--> data/local/dict_nosp/optional_silence.txt is OK\r\n",
      "\r\n",
      "Checking data/local/dict_nosp/nonsilence_phones.txt ...\r\n",
      "--> reading data/local/dict_nosp/nonsilence_phones.txt\r\n",
      "--> text seems to be UTF-8 or ASCII, checking whitespaces\r\n",
      "--> text contains only allowed whitespaces\r\n",
      "--> data/local/dict_nosp/nonsilence_phones.txt is OK\r\n",
      "\r\n",
      "Checking disjoint: silence_phones.txt, nonsilence_phones.txt\r\n",
      "--> disjoint property is OK.\r\n",
      "\r\n",
      "Checking data/local/dict_nosp/lexicon.txt\r\n",
      "--> reading data/local/dict_nosp/lexicon.txt\r\n",
      "--> text seems to be UTF-8 or ASCII, checking whitespaces\r\n",
      "--> text contains only allowed whitespaces\r\n",
      "--> data/local/dict_nosp/lexicon.txt is OK\r\n",
      "\r\n",
      "Checking data/local/dict_nosp/extra_questions.txt ...\r\n",
      "--> reading data/local/dict_nosp/extra_questions.txt\r\n",
      "--> text seems to be UTF-8 or ASCII, checking whitespaces\r\n",
      "--> text contains only allowed whitespaces\r\n",
      "--> data/local/dict_nosp/extra_questions.txt is OK\r\n",
      "--> SUCCESS [validating dictionary directory data/local/dict_nosp]\r\n",
      "\r\n",
      "**Creating data/local/dict_nosp/lexiconp.txt from data/local/dict_nosp/lexicon.txt\r\n",
      "fstaddselfloops data/lang_nosp/phones/wdisambig_phones.int data/lang_nosp/phones/wdisambig_words.int \r\n",
      "prepare_lang.sh: validating output directory\r\n",
      "utils/validate_lang.pl data/lang_nosp\r\n",
      "Checking existence of separator file\r\n",
      "separator file data/lang_nosp/subword_separator.txt is empty or does not exist, deal in word case.\r\n",
      "Checking data/lang_nosp/phones.txt ...\r\n",
      "--> text seems to be UTF-8 or ASCII, checking whitespaces\r\n",
      "--> text contains only allowed whitespaces\r\n",
      "--> data/lang_nosp/phones.txt is OK\r\n",
      "\r\n",
      "Checking words.txt: #0 ...\r\n",
      "--> text seems to be UTF-8 or ASCII, checking whitespaces\r\n",
      "--> text contains only allowed whitespaces\r\n",
      "--> data/lang_nosp/words.txt is OK\r\n",
      "\r\n",
      "Checking disjoint: silence.txt, nonsilence.txt, disambig.txt ...\r\n",
      "--> silence.txt and nonsilence.txt are disjoint\r\n",
      "--> silence.txt and disambig.txt are disjoint\r\n",
      "--> disambig.txt and nonsilence.txt are disjoint\r\n",
      "--> disjoint property is OK\r\n",
      "\r\n",
      "Checking sumation: silence.txt, nonsilence.txt, disambig.txt ...\r\n",
      "--> found no unexplainable phones in phones.txt\r\n",
      "\r\n",
      "Checking data/lang_nosp/phones/context_indep.{txt, int, csl} ...\r\n",
      "--> text seems to be UTF-8 or ASCII, checking whitespaces\r\n",
      "--> text contains only allowed whitespaces\r\n",
      "--> 5 entry/entries in data/lang_nosp/phones/context_indep.txt\r\n",
      "--> data/lang_nosp/phones/context_indep.int corresponds to data/lang_nosp/phones/context_indep.txt\r\n",
      "--> data/lang_nosp/phones/context_indep.csl corresponds to data/lang_nosp/phones/context_indep.txt\r\n",
      "--> data/lang_nosp/phones/context_indep.{txt, int, csl} are OK\r\n",
      "\r\n",
      "Checking data/lang_nosp/phones/nonsilence.{txt, int, csl} ...\r\n",
      "--> text seems to be UTF-8 or ASCII, checking whitespaces\r\n",
      "--> text contains only allowed whitespaces\r\n",
      "--> 144 entry/entries in data/lang_nosp/phones/nonsilence.txt\r\n",
      "--> data/lang_nosp/phones/nonsilence.int corresponds to data/lang_nosp/phones/nonsilence.txt\r\n",
      "--> data/lang_nosp/phones/nonsilence.csl corresponds to data/lang_nosp/phones/nonsilence.txt\r\n",
      "--> data/lang_nosp/phones/nonsilence.{txt, int, csl} are OK\r\n",
      "\r\n",
      "Checking data/lang_nosp/phones/silence.{txt, int, csl} ...\r\n",
      "--> text seems to be UTF-8 or ASCII, checking whitespaces\r\n",
      "--> text contains only allowed whitespaces\r\n",
      "--> 5 entry/entries in data/lang_nosp/phones/silence.txt\r\n",
      "--> data/lang_nosp/phones/silence.int corresponds to data/lang_nosp/phones/silence.txt\r\n",
      "--> data/lang_nosp/phones/silence.csl corresponds to data/lang_nosp/phones/silence.txt\r\n",
      "--> data/lang_nosp/phones/silence.{txt, int, csl} are OK\r\n",
      "\r\n",
      "Checking data/lang_nosp/phones/optional_silence.{txt, int, csl} ...\r\n",
      "--> text seems to be UTF-8 or ASCII, checking whitespaces\r\n",
      "--> text contains only allowed whitespaces\r\n",
      "--> 1 entry/entries in data/lang_nosp/phones/optional_silence.txt\r\n",
      "--> data/lang_nosp/phones/optional_silence.int corresponds to data/lang_nosp/phones/optional_silence.txt\r\n",
      "--> data/lang_nosp/phones/optional_silence.csl corresponds to data/lang_nosp/phones/optional_silence.txt\r\n",
      "--> data/lang_nosp/phones/optional_silence.{txt, int, csl} are OK\r\n",
      "\r\n",
      "Checking data/lang_nosp/phones/disambig.{txt, int, csl} ...\r\n",
      "--> text seems to be UTF-8 or ASCII, checking whitespaces\r\n",
      "--> text contains only allowed whitespaces\r\n",
      "--> 2 entry/entries in data/lang_nosp/phones/disambig.txt\r\n",
      "--> data/lang_nosp/phones/disambig.int corresponds to data/lang_nosp/phones/disambig.txt\r\n",
      "--> data/lang_nosp/phones/disambig.csl corresponds to data/lang_nosp/phones/disambig.txt\r\n",
      "--> data/lang_nosp/phones/disambig.{txt, int, csl} are OK\r\n",
      "\r\n",
      "Checking data/lang_nosp/phones/roots.{txt, int} ...\r\n",
      "--> text seems to be UTF-8 or ASCII, checking whitespaces\r\n",
      "--> text contains only allowed whitespaces\r\n",
      "--> 37 entry/entries in data/lang_nosp/phones/roots.txt\r\n",
      "--> data/lang_nosp/phones/roots.int corresponds to data/lang_nosp/phones/roots.txt\r\n",
      "--> data/lang_nosp/phones/roots.{txt, int} are OK\r\n",
      "\r\n",
      "Checking data/lang_nosp/phones/sets.{txt, int} ...\r\n",
      "--> text seems to be UTF-8 or ASCII, checking whitespaces\r\n",
      "--> text contains only allowed whitespaces\r\n",
      "--> 37 entry/entries in data/lang_nosp/phones/sets.txt\r\n",
      "--> data/lang_nosp/phones/sets.int corresponds to data/lang_nosp/phones/sets.txt\r\n",
      "--> data/lang_nosp/phones/sets.{txt, int} are OK\r\n",
      "\r\n",
      "Checking data/lang_nosp/phones/extra_questions.{txt, int} ...\r\n",
      "--> text seems to be UTF-8 or ASCII, checking whitespaces\r\n",
      "--> text contains only allowed whitespaces\r\n",
      "--> 11 entry/entries in data/lang_nosp/phones/extra_questions.txt\r\n",
      "--> data/lang_nosp/phones/extra_questions.int corresponds to data/lang_nosp/phones/extra_questions.txt\r\n",
      "--> data/lang_nosp/phones/extra_questions.{txt, int} are OK\r\n",
      "\r\n",
      "Checking data/lang_nosp/phones/word_boundary.{txt, int} ...\r\n",
      "--> text seems to be UTF-8 or ASCII, checking whitespaces\r\n",
      "--> text contains only allowed whitespaces\r\n",
      "--> 149 entry/entries in data/lang_nosp/phones/word_boundary.txt\r\n",
      "--> data/lang_nosp/phones/word_boundary.int corresponds to data/lang_nosp/phones/word_boundary.txt\r\n",
      "--> data/lang_nosp/phones/word_boundary.{txt, int} are OK\r\n",
      "\r\n",
      "Checking optional_silence.txt ...\r\n",
      "--> reading data/lang_nosp/phones/optional_silence.txt\r\n",
      "--> data/lang_nosp/phones/optional_silence.txt is OK\r\n",
      "\r\n",
      "Checking disambiguation symbols: #0 and #1\r\n",
      "--> data/lang_nosp/phones/disambig.txt has \"#0\" and \"#1\"\r\n",
      "--> data/lang_nosp/phones/disambig.txt is OK\r\n",
      "\r\n",
      "Checking topo ...\r\n",
      "\r\n",
      "Checking word_boundary.txt: silence.txt, nonsilence.txt, disambig.txt ...\r\n",
      "--> data/lang_nosp/phones/word_boundary.txt doesn't include disambiguation symbols\r\n",
      "--> data/lang_nosp/phones/word_boundary.txt is the union of nonsilence.txt and silence.txt\r\n",
      "--> data/lang_nosp/phones/word_boundary.txt is OK\r\n",
      "\r\n",
      "Checking word-level disambiguation symbols...\r\n",
      "--> data/lang_nosp/phones/wdisambig.txt exists (newer prepare_lang.sh)\r\n",
      "Checking word_boundary.int and disambig.int\r\n",
      "--> generating a 29 word/subword sequence\r\n",
      "--> resulting phone sequence from L.fst corresponds to the word sequence\r\n",
      "--> L.fst is OK\r\n",
      "--> generating a 67 word/subword sequence\r\n",
      "--> resulting phone sequence from L_disambig.fst corresponds to the word sequence\r\n",
      "--> L_disambig.fst is OK\r\n",
      "\r\n",
      "Checking data/lang_nosp/oov.{txt, int} ...\r\n",
      "--> text seems to be UTF-8 or ASCII, checking whitespaces\r\n",
      "--> text contains only allowed whitespaces\r\n",
      "--> 1 entry/entries in data/lang_nosp/oov.txt\r\n",
      "--> data/lang_nosp/oov.int corresponds to data/lang_nosp/oov.txt\r\n",
      "--> data/lang_nosp/oov.{txt, int} are OK\r\n",
      "\r\n",
      "--> data/lang_nosp/L.fst is olabel sorted\r\n",
      "--> data/lang_nosp/L_disambig.fst is olabel sorted\r\n",
      "--> SUCCESS [validating lang directory data/lang_nosp]\r\n",
      "Converting 'local_clarin/arpa.lm.gz' to FST\r\n",
      "arpa2fst --disambig-symbol=#0 --read-symbol-table=data/lang_nosp_test/words.txt - data/lang_nosp_test/G.fst \r\n",
      "LOG (arpa2fst[5.5.0~1-2b62]:Read():arpa-file-parser.cc:94) Reading \\data\\ section.\r\n",
      "LOG (arpa2fst[5.5.0~1-2b62]:Read():arpa-file-parser.cc:149) Reading \\1-grams: section.\r\n",
      "WARNING (arpa2fst[5.5.0~1-2b62]:Read():arpa-file-parser.cc:219) line 11 [-2.387844\ta\t-0.2394255] skipped: word 'a' not in symbol table\r\n",
      "WARNING (arpa2fst[5.5.0~1-2b62]:Read():arpa-file-parser.cc:219) line 12 [-5.252399\taare\t-0.05016758] skipped: word 'aare' not in symbol table\r\n",
      "WARNING (arpa2fst[5.5.0~1-2b62]:Read():arpa-file-parser.cc:219) line 13 [-4.800938\tab\t-0.01376556] skipped: word 'ab' not in symbol table\r\n",
      "WARNING (arpa2fst[5.5.0~1-2b62]:Read():arpa-file-parser.cc:219) line 14 [-5.23682\tabażurem\t-0.0302294] skipped: word 'abażurem' not in symbol table\r\n",
      "WARNING (arpa2fst[5.5.0~1-2b62]:Read():arpa-file-parser.cc:219) line 15 [-5.226714\tabchazję\t-0.06154328] skipped: word 'abchazję' not in symbol table\r\n",
      "WARNING (arpa2fst[5.5.0~1-2b62]:Read():arpa-file-parser.cc:219) line 16 [-5.245582\tabchazów\t-0.02685788] skipped: word 'abchazów' not in symbol table\r\n",
      "WARNING (arpa2fst[5.5.0~1-2b62]:Read():arpa-file-parser.cc:219) line 17 [-5.255419\taberon] skipped: word 'aberon' not in symbol table\r\n",
      "WARNING (arpa2fst[5.5.0~1-2b62]:Read():arpa-file-parser.cc:219) line 18 [-5.262231\taberonowi] skipped: word 'aberonowi' not in symbol table\r\n",
      "WARNING (arpa2fst[5.5.0~1-2b62]:Read():arpa-file-parser.cc:219) line 19 [-5.26215\taberracyjna] skipped: word 'aberracyjna' not in symbol table\r\n",
      "WARNING (arpa2fst[5.5.0~1-2b62]:Read():arpa-file-parser.cc:219) line 20 [-5.250469\tabgarowicz] skipped: word 'abgarowicz' not in symbol table\r\n",
      "WARNING (arpa2fst[5.5.0~1-2b62]:Read():arpa-file-parser.cc:219) line 21 [-4.881186\tabonament\t-0.1130914] skipped: word 'abonament' not in symbol table\r\n",
      "WARNING (arpa2fst[5.5.0~1-2b62]:Read():arpa-file-parser.cc:219) line 22 [-4.876382\tabonamentu\t-0.07834942] skipped: word 'abonamentu' not in symbol table\r\n",
      "WARNING (arpa2fst[5.5.0~1-2b62]:Read():arpa-file-parser.cc:219) line 23 [-5.163284\tabonamentów\t-0.06102198] skipped: word 'abonamentów' not in symbol table\r\n",
      "WARNING (arpa2fst[5.5.0~1-2b62]:Read():arpa-file-parser.cc:219) line 24 [-5.184859\tabonentom\t-0.03256992] skipped: word 'abonentom' not in symbol table\r\n",
      "WARNING (arpa2fst[5.5.0~1-2b62]:Read():arpa-file-parser.cc:219) line 25 [-5.010186\taborcja\t-0.1268652] skipped: word 'aborcja' not in symbol table\r\n",
      "WARNING (arpa2fst[5.5.0~1-2b62]:Read():arpa-file-parser.cc:219) line 26 [-4.724734\taborcji\t-0.1546028] skipped: word 'aborcji' not in symbol table\r\n",
      "WARNING (arpa2fst[5.5.0~1-2b62]:Read():arpa-file-parser.cc:219) line 27 [-5.047917\taborcję\t-0.1214982] skipped: word 'aborcję' not in symbol table\r\n",
      "WARNING (arpa2fst[5.5.0~1-2b62]:Read():arpa-file-parser.cc:219) line 28 [-5.229477\tabramsa\t-0.03953429] skipped: word 'abramsa' not in symbol table\r\n",
      "WARNING (arpa2fst[5.5.0~1-2b62]:Read():arpa-file-parser.cc:219) line 29 [-5.259943\tabramsy] skipped: word 'abramsy' not in symbol table\r\n",
      "WARNING (arpa2fst[5.5.0~1-2b62]:Read():arpa-file-parser.cc:219) line 30 [-5.241594\tabruzji\t-0.05095416] skipped: word 'abruzji' not in symbol table\r\n",
      "WARNING (arpa2fst[5.5.0~1-2b62]:Read():arpa-file-parser.cc:219) line 31 [-4.978928\tabsolutna\t-0.03940874] skipped: word 'absolutna' not in symbol table\r\n",
      "WARNING (arpa2fst[5.5.0~1-2b62]:Read():arpa-file-parser.cc:219) line 32 [-5.007071\tabsolutne\t-0.04487412] skipped: word 'absolutne' not in symbol table\r\n",
      "WARNING (arpa2fst[5.5.0~1-2b62]:Read():arpa-file-parser.cc:219) line 33 [-4.915956\tabsolutnej\t-0.08613706] skipped: word 'absolutnej' not in symbol table\r\n",
      "WARNING (arpa2fst[5.5.0~1-2b62]:Read():arpa-file-parser.cc:219) line 34 [-4.264698\tabsolutnie\t-0.1241204] skipped: word 'absolutnie' not in symbol table\r\n",
      "WARNING (arpa2fst[5.5.0~1-2b62]:Read():arpa-file-parser.cc:219) line 35 [-4.894648\tabsolutną\t-0.07766653] skipped: word 'absolutną' not in symbol table\r\n",
      "WARNING (arpa2fst[5.5.0~1-2b62]:Read():arpa-file-parser.cc:219) line 36 [-4.74231\tabsolutorium\t-0.1669805] skipped: word 'absolutorium' not in symbol table\r\n",
      "WARNING (arpa2fst[5.5.0~1-2b62]:Read():arpa-file-parser.cc:219) line 37 [-5.259502\tabsolutów] skipped: word 'absolutów' not in symbol table\r\n",
      "WARNING (arpa2fst[5.5.0~1-2b62]:Read():arpa-file-parser.cc:219) line 38 [-4.900764\tabsolwenci\t-0.06442387] skipped: word 'absolwenci' not in symbol table\r\n",
      "WARNING (arpa2fst[5.5.0~1-2b62]:Read():arpa-file-parser.cc:219) line 39 [-4.807225\tabsolwent\t-0.1084523] skipped: word 'absolwent' not in symbol table\r\n",
      "WARNING (arpa2fst[5.5.0~1-2b62]:Read():arpa-file-parser.cc:219) line 40 [-5.189535\tabsolwentami\t-0.03575665] skipped: word 'absolwentami' not in symbol table\r\n",
      "LOG (arpa2fst[5.5.0~1-2b62]:Read():arpa-file-parser.cc:149) Reading \\2-grams: section.\r\n",
      "LOG (arpa2fst[5.5.0~1-2b62]:Read():arpa-file-parser.cc:149) Reading \\3-grams: section.\r\n",
      "WARNING (arpa2fst[5.5.0~1-2b62]:Read():arpa-file-parser.cc:259) Of 1043998 parse warnings, 30 were reported. Run program with --max_warnings=-1 to see all warnings\r\n",
      "LOG (arpa2fst[5.5.0~1-2b62]:RemoveRedundantStates():arpa-lm-compiler.cc:359) Reduced num-states from 3 to 2\r\n",
      "fstisstochastic data/lang_nosp_test/G.fst \r\n",
      "2.50007 0.201763\r\n",
      "Succeeded in formatting LM: 'local_clarin/arpa.lm.gz'\r\n",
      "steps/make_mfcc.sh --nj 40 data/train\r\n",
      "utils/validate_data_dir.sh: Successfully validated data-directory data/train\r\n",
      "steps/make_mfcc.sh: [info]: no segments file exists: assuming wav.scp indexed by utterance.\r\n",
      "steps/make_mfcc.sh: Succeeded creating MFCC features for train\r\n",
      "steps/compute_cmvn_stats.sh data/train\r\n",
      "Succeeded creating CMVN stats for train\r\n",
      "steps/make_mfcc.sh --nj 40 data/test\r\n",
      "utils/validate_data_dir.sh: Successfully validated data-directory data/test\r\n",
      "steps/make_mfcc.sh: [info]: no segments file exists: assuming wav.scp indexed by utterance.\r\n",
      "steps/make_mfcc.sh: Succeeded creating MFCC features for test\r\n",
      "steps/compute_cmvn_stats.sh data/test\r\n",
      "Succeeded creating CMVN stats for test\r\n"
     ]
    }
   ],
   "source": [
    "!sh runmfcc.sh"
   ]
  }
 ],
 "metadata": {
  "kernelspec": {
   "display_name": "Python 3",
   "language": "python",
   "name": "python3"
  },
  "language_info": {
   "codemirror_mode": {
    "name": "ipython",
    "version": 3
   },
   "file_extension": ".py",
   "mimetype": "text/x-python",
   "name": "python",
   "nbconvert_exporter": "python",
   "pygments_lexer": "ipython3",
   "version": "3.7.10"
  },
  "papermill": {
   "default_parameters": {},
   "duration": 703.836473,
   "end_time": "2021-05-24T18:39:01.825811",
   "environment_variables": {},
   "exception": null,
   "input_path": "__notebook__.ipynb",
   "output_path": "__notebook__.ipynb",
   "parameters": {},
   "start_time": "2021-05-24T18:27:17.989338",
   "version": "2.3.3"
  }
 },
 "nbformat": 4,
 "nbformat_minor": 5
}
