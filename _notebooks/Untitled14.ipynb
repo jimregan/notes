{
  "nbformat": 4,
  "nbformat_minor": 0,
  "metadata": {
    "colab": {
      "name": "Untitled14.ipynb",
      "provenance": []
    },
    "kernelspec": {
      "name": "python3",
      "display_name": "Python 3"
    },
    "language_info": {
      "name": "python"
    }
  },
  "cells": [
    {
      "cell_type": "code",
      "metadata": {
        "id": "Ecsb9jm6T-Om"
      },
      "source": [
        "%%capture\n",
        "!pip install azure-cognitiveservices-speech"
      ],
      "execution_count": null,
      "outputs": []
    },
    {
      "cell_type": "code",
      "metadata": {
        "id": "N5yQjK_gV5Io"
      },
      "source": [
        "%%capture\n",
        "!pip install youtube-dl"
      ],
      "execution_count": null,
      "outputs": []
    },
    {
      "cell_type": "code",
      "metadata": {
        "id": "l6qs816gXoQL"
      },
      "source": [
        "%%capture\n",
        "!youtube-dl https://www.youtube.com/watch?v=cfjdfaqWY3Y"
      ],
      "execution_count": null,
      "outputs": []
    },
    {
      "cell_type": "code",
      "metadata": {
        "id": "ABFSgc7PXxqc"
      },
      "source": [
        "%%capture\n",
        "!ffmpeg -i Cúla4\\ Ar\\ Scoil\\ _\\ Ábhar\\ -\\ Mata\\ _\\ Téama\\ -\\ Bia-cfjdfaqWY3Y.mkv -acodec pcm_s16le -ac 1 -ar 16000 cfjdfaqWY3Y.wav"
      ],
      "execution_count": null,
      "outputs": []
    },
    {
      "cell_type": "code",
      "metadata": {
        "id": "vbaIiZ3M7gx0"
      },
      "source": [
        "import IPython\n",
        "IPython.display.Audio('/content/cfjdfaqWY3Y.wav')"
      ],
      "execution_count": null,
      "outputs": []
    },
    {
      "cell_type": "code",
      "metadata": {
        "id": "pcOX1iA5UExx"
      },
      "source": [
        "import azure.cognitiveservices.speech as speechsdk"
      ],
      "execution_count": 6,
      "outputs": []
    },
    {
      "cell_type": "markdown",
      "metadata": {
        "id": "9yOBo1Y4LmeG"
      },
      "source": [
        "Use either Key1 or Key2 (on [Azure Portal](https://portal.azure.com/), in \"Keys and Endpoints\" from the menu on the left hand side of the screen)."
      ]
    },
    {
      "cell_type": "code",
      "metadata": {
        "id": "RXd-dOicVrR9"
      },
      "source": [
        "# put your subscription key here\n",
        "_SUBS=''"
      ],
      "execution_count": 41,
      "outputs": []
    },
    {
      "cell_type": "code",
      "metadata": {
        "id": "EsH0IuSdVu0z"
      },
      "source": [
        "_LOC='westeurope'"
      ],
      "execution_count": 35,
      "outputs": []
    },
    {
      "cell_type": "code",
      "metadata": {
        "id": "v_bIGnMOVxuK"
      },
      "source": [
        "speech_config = speechsdk.SpeechConfig(region=_LOC, subscription=_SUBS)\n"
      ],
      "execution_count": 63,
      "outputs": []
    },
    {
      "cell_type": "code",
      "metadata": {
        "id": "esIhX4AWYEc_"
      },
      "source": [
        "audio_input=speechsdk.audio.AudioConfig(filename='cfjdfaqWY3Y.wav')"
      ],
      "execution_count": 29,
      "outputs": []
    },
    {
      "cell_type": "code",
      "metadata": {
        "id": "fBoYXpfwYTwf"
      },
      "source": [
        "speech_config.speech_recognition_language = 'ga-IE'\n",
        "speech_config.request_word_level_timestamps()\n",
        "speech_config.output_format = speechsdk.OutputFormat(1)\n",
        "speech_config.endpoint_id='https://westeurope.api.cognitive.microsoft.com/sts/v1.0/issuetoken'"
      ],
      "execution_count": 50,
      "outputs": []
    },
    {
      "cell_type": "code",
      "metadata": {
        "id": "kbg05vvxMn1r"
      },
      "source": [
        "speech_config.set_property(speechsdk.PropertyId.Speech_LogFilename, \"azure.log\")"
      ],
      "execution_count": 54,
      "outputs": []
    },
    {
      "cell_type": "code",
      "metadata": {
        "id": "aJSt5cgt75-T"
      },
      "source": [
        "# https://github.com/Azure-Samples/cognitive-services-speech-sdk/blob/master/samples/python/console/speech_sample.py\n",
        "# Copyright (c) Microsoft. All rights reserved.\n",
        "# Licensed under the MIT license. See LICENSE.md file in the project root for full license information.\n",
        "import time\n",
        "def speech_recognize_continuous_from_file(speech_config, audio_config):\n",
        "    \"\"\"performs continuous speech recognition with input from an audio file\"\"\"\n",
        "    speech_config = speech_config\n",
        "    audio_config = audio_config\n",
        "\n",
        "    speech_recognizer = speechsdk.SpeechRecognizer(speech_config=speech_config, language='ga-IE', audio_config=audio_config)\n",
        "    \n",
        "\n",
        "    done = False\n",
        "\n",
        "    def stop_cb(evt):\n",
        "        \"\"\"callback that signals to stop continuous recognition upon receiving an event `evt`\"\"\"\n",
        "        print('CLOSING on {}'.format(evt))\n",
        "        nonlocal done\n",
        "        done = True\n",
        "\n",
        "    def cancelled(evt):\n",
        "      result = evt.result\n",
        "      cancellation_details = result.cancellation_details\n",
        "      print(\"Speech Recognition canceled: {}\".format(cancellation_details.reason))\n",
        "      if cancellation_details.reason == speechsdk.CancellationReason.Error:\n",
        "        print(\"Error details: {}\".format(cancellation_details.error_details))\n",
        "\n",
        "    # Connect callbacks to the events fired by the speech recognizer\n",
        "    speech_recognizer.recognizing.connect(lambda evt: print('RECOGNIZING: {}'.format(evt)))\n",
        "    speech_recognizer.recognized.connect(lambda evt: print('RECOGNIZED: {}'.format(evt)))\n",
        "    speech_recognizer.session_started.connect(lambda evt: print('SESSION STARTED: {}'.format(evt)))\n",
        "    speech_recognizer.session_stopped.connect(lambda evt: print('SESSION STOPPED {}'.format(evt)))\n",
        "    speech_recognizer.canceled.connect(cancelled)\n",
        "    # stop continuous recognition on either session stopped or canceled events\n",
        "    speech_recognizer.session_stopped.connect(stop_cb)\n",
        "    speech_recognizer.canceled.connect(stop_cb)\n",
        "\n",
        "    # Start continuous speech recognition\n",
        "    speech_recognizer.start_continuous_recognition()\n",
        "    while not done:\n",
        "        time.sleep(.5)\n",
        "\n",
        "    speech_recognizer.stop_continuous_recognition()"
      ],
      "execution_count": 64,
      "outputs": []
    },
    {
      "cell_type": "code",
      "metadata": {
        "id": "77i7mJbw7_y-"
      },
      "source": [
        "speech_recognize_continuous_from_file(speech_config, audio_input)"
      ],
      "execution_count": null,
      "outputs": []
    },
    {
      "cell_type": "code",
      "metadata": {
        "id": "kfWM-MCmEZil"
      },
      "source": [
        " !curl -v -X POST \"https://{_LOC}.api.cognitive.microsoft.com/sts/v1.0/issueToken\" -H \"Ocp-Apim-Subscription-Key: {_SUBS}\" -H \"Content-type: application/x-www-form-urlencoded\" -H \"Content-Length: 0\""
      ],
      "execution_count": null,
      "outputs": []
    },
    {
      "cell_type": "code",
      "metadata": {
        "id": "MqQ2ThdvFdCP"
      },
      "source": [
        "_TOK=''"
      ],
      "execution_count": 45,
      "outputs": []
    },
    {
      "cell_type": "code",
      "metadata": {
        "id": "_gtBC6gGF4nf"
      },
      "source": [
        "!curl -v -X POST \"https://{_LOC}.stt.speech.microsoft.com/speech/recognition/interactive/cognitiveservices/v1?language=ga-IE\" -H \"Authorization: Bearer {_TOK}\" -H \"Transfer-Encoding: chunked\" -H \"Content-type: audio/wav; codec=audio/pcm; samplerate=16000\" --data-binary @cfjdfaqWY3Y.wav"
      ],
      "execution_count": null,
      "outputs": []
    },
    {
      "cell_type": "code",
      "metadata": {
        "colab": {
          "base_uri": "https://localhost:8080/",
          "height": 887
        },
        "id": "q0iG0hCjaBlR",
        "outputId": "9943b974-f805-4c25-f0ed-9566cb57b148"
      },
      "source": [
        "import time\n",
        "transcript_display_list = []\n",
        "transcript_ITN_list = []\n",
        "confidence_list = []\n",
        "words = []\n",
        "global done\n",
        "done = False\n",
        "def parse_azure_result(evt):\n",
        "  import json\n",
        "  response = json.loads(evt.result.json)\n",
        "  transcript_display_list.append(response['DisplayText'])\n",
        "  confidence_list_temp = [item.get('Confidence') for item in response['NBest']]\n",
        "  max_confidence_index = confidence_list_temp.index(max(confidence_list_temp))\n",
        "  confidence_list.append(response['NBest'][max_confidence_index]['Confidence'])\n",
        "  transcript_ITN_list.append(response['NBest'][max_confidence_index]['ITN'])\n",
        "  words.extend(response['NBest'][max_confidence_index]['Words'])\n",
        "  logger.debug(evt)\n",
        "    \n",
        "# Service callback that stops continuous recognition upon receiving an event `evt`\n",
        "def stop_cb(evt):\n",
        "  print('CLOSING on {}'.format(evt))\n",
        "  speech_recognizer.stop_continuous_recognition()\n",
        "  done = True\n",
        "    \n",
        "  # Do something with the combined responses\n",
        "  print(transcript_display_list)\n",
        "  print(confidence_list)\n",
        "  print(words)\n",
        "    \n",
        "    \n",
        "# Connect callbacks to the events fired by the speech recognizer\n",
        "speech_recognizer.recognizing.connect(lambda evt: logger.debug('RECOGNIZING: {}'.format(evt)))\n",
        "speech_recognizer.recognized.connect(parse_azure_result)\n",
        "speech_recognizer.session_started.connect(lambda evt: logger.debug('SESSION STARTED: {}'.format(evt)))\n",
        "speech_recognizer.session_stopped.connect(lambda evt: logger.debug('SESSION STOPPED {}'.format(evt)))\n",
        "speech_recognizer.canceled.connect(lambda evt: logger.debug('CANCELED {}'.format(evt)))\n",
        "# stop continuous recognition on either session stopped or canceled events\n",
        "speech_recognizer.session_stopped.connect(stop_cb)\n",
        "speech_recognizer.canceled.connect(stop_cb)\n",
        "    \n",
        "# Start continuous speech recognition\n",
        "print(\"Initiating speech to text\")\n",
        "speech_recognizer.start_continuous_recognition()\n",
        "while not done:\n",
        "  time.sleep(.5)"
      ],
      "execution_count": 40,
      "outputs": [
        {
          "output_type": "stream",
          "text": [
            "Initiating speech to text\n"
          ],
          "name": "stdout"
        },
        {
          "output_type": "error",
          "ename": "RuntimeError",
          "evalue": "ignored",
          "traceback": [
            "\u001b[0;31m---------------------------------------------------------------------------\u001b[0m",
            "\u001b[0;31mRuntimeError\u001b[0m                              Traceback (most recent call last)",
            "\u001b[0;32m<ipython-input-40-425b06d66e6f>\u001b[0m in \u001b[0;36m<module>\u001b[0;34m()\u001b[0m\n\u001b[1;32m     41\u001b[0m \u001b[0;31m# Start continuous speech recognition\u001b[0m\u001b[0;34m\u001b[0m\u001b[0;34m\u001b[0m\u001b[0;34m\u001b[0m\u001b[0m\n\u001b[1;32m     42\u001b[0m \u001b[0mprint\u001b[0m\u001b[0;34m(\u001b[0m\u001b[0;34m\"Initiating speech to text\"\u001b[0m\u001b[0;34m)\u001b[0m\u001b[0;34m\u001b[0m\u001b[0;34m\u001b[0m\u001b[0m\n\u001b[0;32m---> 43\u001b[0;31m \u001b[0mspeech_recognizer\u001b[0m\u001b[0;34m.\u001b[0m\u001b[0mstart_continuous_recognition\u001b[0m\u001b[0;34m(\u001b[0m\u001b[0;34m)\u001b[0m\u001b[0;34m\u001b[0m\u001b[0;34m\u001b[0m\u001b[0m\n\u001b[0m\u001b[1;32m     44\u001b[0m \u001b[0;32mwhile\u001b[0m \u001b[0;32mnot\u001b[0m \u001b[0mdone\u001b[0m\u001b[0;34m:\u001b[0m\u001b[0;34m\u001b[0m\u001b[0;34m\u001b[0m\u001b[0m\n\u001b[1;32m     45\u001b[0m   \u001b[0mtime\u001b[0m\u001b[0;34m.\u001b[0m\u001b[0msleep\u001b[0m\u001b[0;34m(\u001b[0m\u001b[0;36m.5\u001b[0m\u001b[0;34m)\u001b[0m\u001b[0;34m\u001b[0m\u001b[0;34m\u001b[0m\u001b[0m\n",
            "\u001b[0;32m/usr/local/lib/python3.7/dist-packages/azure/cognitiveservices/speech/speech.py\u001b[0m in \u001b[0;36mstart_continuous_recognition\u001b[0;34m(self)\u001b[0m\n\u001b[1;32m    653\u001b[0m         \u001b[0;34m:\u001b[0m\u001b[0mpy\u001b[0m\u001b[0;34m:\u001b[0m\u001b[0mmeth\u001b[0m\u001b[0;34m:\u001b[0m\u001b[0;31m`\u001b[0m\u001b[0;34m.\u001b[0m\u001b[0mstop_continuous_recognition_async\u001b[0m\u001b[0;31m`\u001b[0m \u001b[0mto\u001b[0m \u001b[0mstop\u001b[0m \u001b[0mthe\u001b[0m \u001b[0mrecognition\u001b[0m\u001b[0;34m.\u001b[0m\u001b[0;34m\u001b[0m\u001b[0;34m\u001b[0m\u001b[0m\n\u001b[1;32m    654\u001b[0m         \"\"\"\n\u001b[0;32m--> 655\u001b[0;31m         \u001b[0;32mreturn\u001b[0m \u001b[0mself\u001b[0m\u001b[0;34m.\u001b[0m\u001b[0m_impl\u001b[0m\u001b[0;34m.\u001b[0m\u001b[0mstart_continuous_recognition\u001b[0m\u001b[0;34m(\u001b[0m\u001b[0;34m)\u001b[0m\u001b[0;34m\u001b[0m\u001b[0;34m\u001b[0m\u001b[0m\n\u001b[0m\u001b[1;32m    656\u001b[0m \u001b[0;34m\u001b[0m\u001b[0m\n\u001b[1;32m    657\u001b[0m     \u001b[0;32mdef\u001b[0m \u001b[0mstop_continuous_recognition\u001b[0m\u001b[0;34m(\u001b[0m\u001b[0mself\u001b[0m\u001b[0;34m)\u001b[0m\u001b[0;34m:\u001b[0m\u001b[0;34m\u001b[0m\u001b[0;34m\u001b[0m\u001b[0m\n",
            "\u001b[0;32m/usr/local/lib/python3.7/dist-packages/azure/cognitiveservices/speech/speech_py_impl.py\u001b[0m in \u001b[0;36mstart_continuous_recognition\u001b[0;34m(self)\u001b[0m\n\u001b[1;32m   3706\u001b[0m \u001b[0;34m\u001b[0m\u001b[0m\n\u001b[1;32m   3707\u001b[0m     \u001b[0;32mdef\u001b[0m \u001b[0mstart_continuous_recognition\u001b[0m\u001b[0;34m(\u001b[0m\u001b[0mself\u001b[0m\u001b[0;34m)\u001b[0m  \u001b[0;34m:\u001b[0m\u001b[0;34m\u001b[0m\u001b[0;34m\u001b[0m\u001b[0m\n\u001b[0;32m-> 3708\u001b[0;31m         \u001b[0;32mreturn\u001b[0m \u001b[0m_speech_py_impl\u001b[0m\u001b[0;34m.\u001b[0m\u001b[0mSpeechRecognizer_start_continuous_recognition\u001b[0m\u001b[0;34m(\u001b[0m\u001b[0mself\u001b[0m\u001b[0;34m)\u001b[0m\u001b[0;34m\u001b[0m\u001b[0;34m\u001b[0m\u001b[0m\n\u001b[0m\u001b[1;32m   3709\u001b[0m \u001b[0;34m\u001b[0m\u001b[0m\n\u001b[1;32m   3710\u001b[0m     \u001b[0;32mdef\u001b[0m \u001b[0mstop_continuous_recognition\u001b[0m\u001b[0;34m(\u001b[0m\u001b[0mself\u001b[0m\u001b[0;34m)\u001b[0m  \u001b[0;34m:\u001b[0m\u001b[0;34m\u001b[0m\u001b[0;34m\u001b[0m\u001b[0m\n",
            "\u001b[0;31mRuntimeError\u001b[0m: Exception with an error code: 0x13 (SPXERR_START_RECOGNIZING_INVALID_STATE_TRANSITION)\n[CALL STACK BEGIN]\n\n/usr/local/lib/python3.7/dist-packages/azure/cognitiveservices/speech/libMicrosoft.CognitiveServices.Speech.core.so(+0x201de0) [0x7f7591ce3de0]\n/usr/local/lib/python3.7/dist-packages/azure/cognitiveservices/speech/libMicrosoft.CognitiveServices.Speech.core.so(+0x2020f9) [0x7f7591ce40f9]\n/usr/local/lib/python3.7/dist-packages/azure/cognitiveservices/speech/libMicrosoft.CognitiveServices.Speech.core.so(+0x15dea3) [0x7f7591c3fea3]\n/usr/local/lib/python3.7/dist-packages/azure/cognitiveservices/speech/_speech_py_impl.so(std::__future_base::_State_baseV2::_M_do_set(std::function<std::unique_ptr<std::__future_base::_Result_base, std::__future_base::_Result_base::_Deleter> ()>*, bool*)+0x25) [0x7f75925ab2e7]\n/lib/x86_64-linux-gnu/libpthread.so.0(+0xf907) [0x7f75b9ea8907]\n/usr/local/lib/python3.7/dist-packages/azure/cognitiveservices/speech/libMicrosoft.CognitiveServices.Speech.core.so(+0x15c033) [0x7f7591c3e033]\n/usr/local/lib/python3.7/dist-packages/azure/cognitiveservices/speech/libMicrosoft.CognitiveServices.Speech.core.so(+0x15cdab) [0x7f7591c3edab]\n/usr/local/lib/python3.7/dist-packages/azure/cognitiveservices/speech/libMicrosoft.CognitiveServices.Speech.core.so(+0x12be36) [0x7f7591c0de36]\n/usr/local/lib/python3.7/dist-packages/azure/cognitiveservices/speech/libMicrosoft.CognitiveServices.Speech.core.so(+0x1ae9a3) [0x7f7591c909a3]\n/usr/local/lib/python3.7/dist-packages/azure/cognitiveservices/speech/libMicrosoft.CognitiveServices.Speech.core.so(+0x10de44) [0x7f7591befe44]\n/usr/lib/x86_64-linux-gnu/libstdc++.so.6(+0xbda50) [0x7f75b89cda50]\n/lib/x86_64-linux-gnu/libpthread.so.0(+0x76db) [0x7f75b9ea06db]\n/lib/x86_64-linux-gnu/libc.so.6(clone+0x3f) [0x7f75b8fd571f]\n[CALL STACK END]\n\n"
          ]
        }
      ]
    }
  ]
}