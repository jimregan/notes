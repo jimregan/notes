{
 "cells": [
  {
   "cell_type": "code",
   "execution_count": 1,
   "id": "minus-atlanta",
   "metadata": {
    "_cell_guid": "b1076dfc-b9ad-4769-8c92-a6c4dae69d19",
    "_uuid": "8f2839f25d086af736a60e9eeb907d3b93b6e0e5",
    "execution": {
     "iopub.execute_input": "2021-05-29T10:37:07.209170Z",
     "iopub.status.busy": "2021-05-29T10:37:07.207873Z",
     "iopub.status.idle": "2021-05-29T10:37:07.962105Z",
     "shell.execute_reply": "2021-05-29T10:37:07.961195Z",
     "shell.execute_reply.started": "2021-05-29T10:33:20.315529Z"
    },
    "papermill": {
     "duration": 0.763459,
     "end_time": "2021-05-29T10:37:07.962280",
     "exception": false,
     "start_time": "2021-05-29T10:37:07.198821",
     "status": "completed"
    },
    "tags": []
   },
   "outputs": [],
   "source": [
    "!for i in train test valid; do echo /kaggle/input/wav2vec-u-cv-swedish-vads/wav/$i/common-voice-swedish-16bit-wav/ > $i.tsv;done"
   ]
  },
  {
   "cell_type": "code",
   "execution_count": 2,
   "id": "minute-noise",
   "metadata": {
    "execution": {
     "iopub.execute_input": "2021-05-29T10:37:07.980596Z",
     "iopub.status.busy": "2021-05-29T10:37:07.979765Z",
     "iopub.status.idle": "2021-05-29T10:37:33.212930Z",
     "shell.execute_reply": "2021-05-29T10:37:33.213473Z",
     "shell.execute_reply.started": "2021-05-29T10:34:46.403126Z"
    },
    "papermill": {
     "duration": 25.246214,
     "end_time": "2021-05-29T10:37:33.213663",
     "exception": false,
     "start_time": "2021-05-29T10:37:07.967449",
     "status": "completed"
    },
    "tags": []
   },
   "outputs": [],
   "source": [
    "!for i in train test valid; do cat ../input/fork-of-wav2vec-u-cv-swedish-tsv/$i.tsv|sed '1d'|while read j;do f=$(echo \"$j\"|awk -F'\\t' '{print $1}'); if [ -e \"/kaggle/input/wav2vec-u-cv-swedish-vads/wav/$i/common-voice-swedish-16bit-wav/$f\" ];then echo \"$j\" >> $i.tsv;fi;done;done"
   ]
  },
  {
   "cell_type": "code",
   "execution_count": 3,
   "id": "transparent-providence",
   "metadata": {
    "execution": {
     "iopub.execute_input": "2021-05-29T10:37:33.229870Z",
     "iopub.status.busy": "2021-05-29T10:37:33.229202Z",
     "iopub.status.idle": "2021-05-29T10:37:33.958108Z",
     "shell.execute_reply": "2021-05-29T10:37:33.957485Z",
     "shell.execute_reply.started": "2021-05-29T10:35:58.778328Z"
    },
    "papermill": {
     "duration": 0.739637,
     "end_time": "2021-05-29T10:37:33.958251",
     "exception": false,
     "start_time": "2021-05-29T10:37:33.218614",
     "status": "completed"
    },
    "tags": []
   },
   "outputs": [
    {
     "name": "stdout",
     "output_type": "stream",
     "text": [
      "  2028 test.tsv\r\n",
      "  2332 train.tsv\r\n",
      "  2020 valid.tsv\r\n",
      "  6380 total\r\n"
     ]
    }
   ],
   "source": [
    "!wc -l *.tsv"
   ]
  },
  {
   "cell_type": "code",
   "execution_count": 4,
   "id": "english-kelly",
   "metadata": {
    "execution": {
     "iopub.execute_input": "2021-05-29T10:37:33.973674Z",
     "iopub.status.busy": "2021-05-29T10:37:33.972810Z",
     "iopub.status.idle": "2021-05-29T10:37:34.715686Z",
     "shell.execute_reply": "2021-05-29T10:37:34.715113Z",
     "shell.execute_reply.started": "2021-05-29T10:36:31.876874Z"
    },
    "papermill": {
     "duration": 0.751752,
     "end_time": "2021-05-29T10:37:34.715843",
     "exception": false,
     "start_time": "2021-05-29T10:37:33.964091",
     "status": "completed"
    },
    "tags": []
   },
   "outputs": [
    {
     "name": "stdout",
     "output_type": "stream",
     "text": [
      "  2028 ../input/fork-of-wav2vec-u-cv-swedish-tsv/test.tsv\r\n",
      "  2332 ../input/fork-of-wav2vec-u-cv-swedish-tsv/train.tsv\r\n",
      "  2020 ../input/fork-of-wav2vec-u-cv-swedish-tsv/valid.tsv\r\n",
      "  6380 total\r\n"
     ]
    }
   ],
   "source": [
    "!wc -l ../input/fork-of-wav2vec-u-cv-swedish-tsv/*.tsv"
   ]
  }
 ],
 "metadata": {
  "kernelspec": {
   "display_name": "Python 3",
   "language": "python",
   "name": "python3"
  },
  "language_info": {
   "codemirror_mode": {
    "name": "ipython",
    "version": 3
   },
   "file_extension": ".py",
   "mimetype": "text/x-python",
   "name": "python",
   "nbconvert_exporter": "python",
   "pygments_lexer": "ipython3",
   "version": "3.7.9"
  },
  "papermill": {
   "default_parameters": {},
   "duration": 35.609247,
   "end_time": "2021-05-29T10:37:35.333315",
   "environment_variables": {},
   "exception": null,
   "input_path": "__notebook__.ipynb",
   "output_path": "__notebook__.ipynb",
   "parameters": {},
   "start_time": "2021-05-29T10:36:59.724068",
   "version": "2.3.2"
  }
 },
 "nbformat": 4,
 "nbformat_minor": 5
}
