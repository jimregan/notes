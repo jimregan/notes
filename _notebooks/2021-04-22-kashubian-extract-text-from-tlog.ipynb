{
 "cells": [
  {
   "cell_type": "markdown",
   "source": [
    "# Kashubian - extract text from tlog\r\n",
    "\r\n",
    "> \"tlog output from wav2vec2 Polish\"\r\n",
    "\r\n",
    "- toc: false\r\n",
    "- branch: master\r\n",
    "- hidden: true\r\n",
    "- categories: [asr, kashubian]"
   ],
   "metadata": {}
  },
  {
   "cell_type": "code",
   "execution_count": 6,
   "source": [
    "import json\r\n",
    "with open(\"/tmp/csb/kashubian-data.json\", \"r\") as read_file:\r\n",
    "    data = json.load(read_file)"
   ],
   "outputs": [],
   "metadata": {}
  },
  {
   "cell_type": "code",
   "execution_count": 8,
   "source": [
    "for datum in data:\r\n",
    "    file = datum['audio'].split('/')[-1].replace('.ogg', '.txt')\r\n",
    "    with open(f'/tmp/csb/{file}', 'w') as f:\r\n",
    "        text = '\\n'.join([a.strip() for a in datum['text'].split('\\n') if a.strip() != ''])\r\n",
    "        \r\n",
    "        f.write(text)"
   ],
   "outputs": [],
   "metadata": {}
  },
  {
   "cell_type": "code",
   "execution_count": 4,
   "source": [
    "import glob\r\n",
    "for file in glob.glob('/tmp/csb/*.ogg.wav.tlog'):\r\n",
    "    outfile = file.replace('.ogg.wav.tlog', '.rec.txt')\r\n",
    "    with open(file, \"r\") as tlog:\r\n",
    "        data = json.load(tlog)\r\n",
    "    with open(outfile, \"w\") as rectxt:\r\n",
    "        for datum in data:\r\n",
    "            rectxt.write(f\"{datum['transcript']}\\n\")\r\n",
    "        "
   ],
   "outputs": [],
   "metadata": {}
  }
 ],
 "metadata": {
  "kernelspec": {
   "display_name": "Python 3",
   "language": "python",
   "name": "python3"
  },
  "language_info": {
   "codemirror_mode": {
    "name": "ipython",
    "version": 3
   },
   "file_extension": ".py",
   "mimetype": "text/x-python",
   "name": "python",
   "nbconvert_exporter": "python",
   "pygments_lexer": "ipython3",
   "version": "3.8.2"
  }
 },
 "nbformat": 4,
 "nbformat_minor": 5
}