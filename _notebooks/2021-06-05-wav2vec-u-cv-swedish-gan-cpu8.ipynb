{
  "nbformat": 4,
  "nbformat_minor": 0,
  "metadata": {
    "kernelspec": {
      "language": "python",
      "display_name": "Python 3",
      "name": "python3"
    },
    "language_info": {
      "pygments_lexer": "ipython3",
      "nbconvert_exporter": "python",
      "version": "3.6.4",
      "file_extension": ".py",
      "codemirror_mode": {
        "name": "ipython",
        "version": 3
      },
      "name": "python",
      "mimetype": "text/x-python"
    },
    "colab": {
      "name": "2021-06-05-wav2vec-u-cv-swedish-gan-cpu8.ipynb",
      "provenance": []
    }
  },
  "cells": [
    {
      "cell_type": "markdown",
      "metadata": {
        "id": "7g55wW6NjAi7"
      },
      "source": [
        "# wav2vec-u Common Voice Swedish - GAN training, CPU8\n",
        "\n",
        "> \"Kaggle kernels run for maximum 9 hours, this is the most recent link in the chain\"\n",
        "\n",
        "- toc: false\n",
        "- branch: master\n",
        "- badges: false\n",
        "- hidden: true\n",
        "- categories: [kaggle, wav2vec-u]\n"
      ]
    },
    {
      "cell_type": "markdown",
      "metadata": {
        "id": "_tXXRgqIjPxW"
      },
      "source": [
        "Original [here](https://www.kaggle.com/jimregan/wav2vec-u-cv-swedish-gan-cpu8)"
      ]
    },
    {
      "cell_type": "markdown",
      "metadata": {
        "id": "oQ366mYwi_V5"
      },
      "source": [
        "## Preparation"
      ]
    },
    {
      "cell_type": "code",
      "metadata": {
        "id": "o0Z4HuGCi_V-"
      },
      "source": [
        "!cp ../input/w2vu-cvsv-checkpoints-cpu7/checkpoint_best.pt .\n",
        "!cp ../input/w2vu-cvsv-checkpoints-cpu7/checkpoint_last.pt ."
      ],
      "execution_count": null,
      "outputs": []
    },
    {
      "cell_type": "code",
      "metadata": {
        "_uuid": "8f2839f25d086af736a60e9eeb907d3b93b6e0e5",
        "_cell_guid": "b1076dfc-b9ad-4769-8c92-a6c4dae69d19",
        "execution": {
          "iopub.status.busy": "2021-05-31T11:43:46.769866Z",
          "iopub.execute_input": "2021-05-31T11:43:46.770458Z",
          "iopub.status.idle": "2021-05-31T11:47:48.14979Z",
          "shell.execute_reply.started": "2021-05-31T11:43:46.770364Z",
          "shell.execute_reply": "2021-05-31T11:47:48.146909Z"
        },
        "trusted": true,
        "id": "QUM-KVEVi_V_"
      },
      "source": [
        "%%capture\n",
        "!conda install -c pykaldi pykaldi -y"
      ],
      "execution_count": null,
      "outputs": []
    },
    {
      "cell_type": "code",
      "metadata": {
        "execution": {
          "iopub.status.busy": "2021-05-31T13:58:07.987453Z",
          "iopub.execute_input": "2021-05-31T13:58:07.987897Z",
          "iopub.status.idle": "2021-05-31T13:58:08.000102Z",
          "shell.execute_reply.started": "2021-05-31T13:58:07.987793Z",
          "shell.execute_reply": "2021-05-31T13:58:07.998923Z"
        },
        "trusted": true,
        "id": "U1YVSpIhi_WA"
      },
      "source": [
        "%cd /tmp"
      ],
      "execution_count": null,
      "outputs": []
    },
    {
      "cell_type": "code",
      "metadata": {
        "execution": {
          "iopub.status.busy": "2021-05-31T11:47:48.173826Z",
          "iopub.execute_input": "2021-05-31T11:47:48.174373Z",
          "iopub.status.idle": "2021-05-31T11:47:52.615118Z",
          "shell.execute_reply.started": "2021-05-31T11:47:48.174342Z",
          "shell.execute_reply": "2021-05-31T11:47:52.614079Z"
        },
        "trusted": true,
        "id": "xQAHnqMgi_WB"
      },
      "source": [
        "!git clone https://github.com/jimregan/fairseq/ --branch issue3581"
      ],
      "execution_count": null,
      "outputs": []
    },
    {
      "cell_type": "code",
      "metadata": {
        "execution": {
          "iopub.status.busy": "2021-05-31T13:58:08.002544Z",
          "iopub.execute_input": "2021-05-31T13:58:08.002862Z",
          "iopub.status.idle": "2021-05-31T13:58:11.998803Z",
          "shell.execute_reply.started": "2021-05-31T13:58:08.002832Z",
          "shell.execute_reply": "2021-05-31T13:58:11.997716Z"
        },
        "trusted": true,
        "id": "LAfaN4SAi_WB"
      },
      "source": [
        "!git clone https://github.com/kpu/kenlm"
      ],
      "execution_count": null,
      "outputs": []
    },
    {
      "cell_type": "code",
      "metadata": {
        "execution": {
          "iopub.status.busy": "2021-05-31T13:58:12.000794Z",
          "iopub.execute_input": "2021-05-31T13:58:12.001211Z",
          "iopub.status.idle": "2021-05-31T13:58:18.971548Z",
          "shell.execute_reply.started": "2021-05-31T13:58:12.001162Z",
          "shell.execute_reply": "2021-05-31T13:58:18.970508Z"
        },
        "trusted": true,
        "id": "Le0nxAi6i_WC"
      },
      "source": [
        "%%capture\n",
        "!apt-get -y install libeigen3-dev liblzma-dev zlib1g-dev libbz2-dev"
      ],
      "execution_count": null,
      "outputs": []
    },
    {
      "cell_type": "code",
      "metadata": {
        "execution": {
          "iopub.status.busy": "2021-05-31T14:00:27.915496Z",
          "iopub.execute_input": "2021-05-31T14:00:27.91585Z",
          "iopub.status.idle": "2021-05-31T14:01:06.394568Z",
          "shell.execute_reply.started": "2021-05-31T14:00:27.915818Z",
          "shell.execute_reply": "2021-05-31T14:01:06.393198Z"
        },
        "trusted": true,
        "id": "RYxJs19gi_WD"
      },
      "source": [
        "%%capture\n",
        "%cd /tmp/kenlm\n",
        "!python setup.py install\n",
        "%cd /tmp"
      ],
      "execution_count": null,
      "outputs": []
    },
    {
      "cell_type": "code",
      "metadata": {
        "execution": {
          "iopub.status.busy": "2021-05-25T22:58:58.397461Z",
          "iopub.execute_input": "2021-05-25T22:58:58.397847Z",
          "iopub.status.idle": "2021-05-25T22:58:58.402393Z",
          "shell.execute_reply.started": "2021-05-25T22:58:58.397816Z",
          "shell.execute_reply": "2021-05-25T22:58:58.401536Z"
        },
        "trusted": true,
        "id": "89klWC-Ni_WE"
      },
      "source": [
        "import os\n",
        "os.environ['PATH'] = f\"{os.environ['PATH']}:/tmp/kenlm/build/bin/\"\n",
        "os.environ['FAIRSEQ_ROOT'] = '/tmp/fairseq'"
      ],
      "execution_count": null,
      "outputs": []
    },
    {
      "cell_type": "code",
      "metadata": {
        "execution": {
          "iopub.status.busy": "2021-05-31T11:51:49.832055Z",
          "iopub.execute_input": "2021-05-31T11:51:49.832611Z",
          "iopub.status.idle": "2021-05-31T11:51:49.83965Z",
          "shell.execute_reply.started": "2021-05-31T11:51:49.832574Z",
          "shell.execute_reply": "2021-05-31T11:51:49.838625Z"
        },
        "trusted": true,
        "id": "pQuN9Y3pi_WE"
      },
      "source": [
        "%cd /tmp/fairseq/"
      ],
      "execution_count": null,
      "outputs": []
    },
    {
      "cell_type": "code",
      "metadata": {
        "trusted": true,
        "id": "tm4jZXJWi_WF"
      },
      "source": [
        "%%capture\n",
        "!python setup.py install"
      ],
      "execution_count": null,
      "outputs": []
    },
    {
      "cell_type": "code",
      "metadata": {
        "id": "13A7NXY5i_WF"
      },
      "source": [
        "%cd /tmp/fairseq/"
      ],
      "execution_count": null,
      "outputs": []
    },
    {
      "cell_type": "code",
      "metadata": {
        "id": "Hrw95gqTi_WG"
      },
      "source": [
        "os.environ['HYDRA_FULL_ERROR'] = '1'"
      ],
      "execution_count": null,
      "outputs": []
    },
    {
      "cell_type": "code",
      "metadata": {
        "id": "4NjV8MX8i_WH"
      },
      "source": [
        "%%capture\n",
        "!pip install editdistance"
      ],
      "execution_count": null,
      "outputs": []
    },
    {
      "cell_type": "markdown",
      "metadata": {
        "id": "BwBw2OZNi_WH"
      },
      "source": [
        "## GAN"
      ]
    },
    {
      "cell_type": "code",
      "metadata": {
        "id": "aPQdvlJTi_WH"
      },
      "source": [
        "%%writefile rungan.sh\n",
        "PREFIX=w2v_unsup_gan_xp\n",
        "TASK_DATA=/kaggle/input/wav2vec-u-cv-swedish-audio/precompute_pca512_cls128_mean_pooled/\n",
        "TEXT_DATA=/kaggle/input/wav2vec-u-cv-swedish-text-prep/preppedtext/phones/\n",
        "KENLM_PATH=/kaggle/input/wav2vec-u-cv-swedish-text-prep/preppedtext/phones/lm.phones.filtered.04.bin\n",
        "\n",
        "PREFIX=$PREFIX fairseq-hydra-train \\\n",
        "\t-m --config-dir fairseq/config/model/wav2vecu/gan \\\n",
        "\t--config-name w2vu \\\n",
        "\ttask.data=${TASK_DATA} \\\n",
        "\ttask.text_data=${TEXT_DATA} \\\n",
        "\ttask.kenlm_path=${KENLM_PATH} \\\n",
        "\tcheckpoint.no_epoch_checkpoints=false \\\n",
        "\tcheckpoint.keep_last_epochs=5 \\\n",
        "\tcheckpoint.save_dir=/kaggle/working \\\n",
        "\t'common.seed=range(0,5)'"
      ],
      "execution_count": null,
      "outputs": []
    },
    {
      "cell_type": "code",
      "metadata": {
        "id": "J9xo0f_ii_WJ"
      },
      "source": [
        "!bash rungan.sh"
      ],
      "execution_count": null,
      "outputs": []
    }
  ]
}
