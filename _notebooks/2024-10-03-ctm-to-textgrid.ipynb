{
 "cells": [
  {
   "cell_type": "markdown",
   "metadata": {},
   "source": [
    "# Convert CTM to TextGrid\n",
    "\n",
    "> \"Trying to look at Reverb ASR's output, which uses CTM. BTW, it's not the Whisper-killer they claim.\"\n",
    "\n",
    "- hidden: true\n",
    "- branch: master\n",
    "- categories: [ctm, textgrid, reverb-asr, hsi]"
   ]
  },
  {
   "cell_type": "code",
   "execution_count": 6,
   "metadata": {},
   "outputs": [],
   "source": [
    "from praatio import textgrid\n",
    "from praatio.utilities.constants import Interval"
   ]
  },
  {
   "cell_type": "code",
   "execution_count": 3,
   "metadata": {},
   "outputs": [],
   "source": [
    "ctmfile = \"/tmp/hsi_7_0719_209_001_main.ctm\"\n",
    "praatfile = \"/tmp/hsi_7_0719_209_001_main.TextGrid\""
   ]
  },
  {
   "cell_type": "code",
   "execution_count": 4,
   "metadata": {},
   "outputs": [],
   "source": [
    "ctmlines = []\n",
    "with open(ctmfile) as ctmf:\n",
    "    for line in ctmf.readlines():\n",
    "        line = line.strip()\n",
    "        ctmlines.append(line.split(\" \"))"
   ]
  },
  {
   "cell_type": "code",
   "execution_count": 5,
   "metadata": {},
   "outputs": [
    {
     "data": {
      "text/plain": [
       "['hsi_7_0719_209_001_main.wav', '0', '9.19', '0.10', '<inaudible>', '0.00']"
      ]
     },
     "execution_count": 5,
     "metadata": {},
     "output_type": "execute_result"
    }
   ],
   "source": [
    "ctmlines[0]"
   ]
  },
  {
   "cell_type": "code",
   "execution_count": 16,
   "metadata": {},
   "outputs": [],
   "source": [
    "import math\n",
    "intervals = []\n",
    "for ctmline in ctmlines:\n",
    "    word = ctmline[4]\n",
    "    start = float(ctmline[2])\n",
    "    dur = float(ctmline[3])\n",
    "    end = float(f\"{start + dur:.02f}\")\n",
    "    intervals.append(Interval(start, end, word))"
   ]
  },
  {
   "cell_type": "code",
   "execution_count": 13,
   "metadata": {},
   "outputs": [],
   "source": [
    "tier_start = intervals[0][0]\n",
    "tier_end = intervals[-1][1]"
   ]
  },
  {
   "cell_type": "code",
   "execution_count": 17,
   "metadata": {},
   "outputs": [],
   "source": [
    "tg = textgrid.Textgrid()\n",
    "word_tier = textgrid.IntervalTier('words', intervals, tier_start, tier_end)\n",
    "tg.addTier(word_tier)\n",
    "tg.save(praatfile, format=\"long_textgrid\", includeBlankSpaces=False)"
   ]
  }
 ],
 "metadata": {
  "language_info": {
   "name": "python"
  }
 },
 "nbformat": 4,
 "nbformat_minor": 2
}
