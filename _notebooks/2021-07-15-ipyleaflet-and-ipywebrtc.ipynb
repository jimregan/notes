{
 "cells": [
  {
   "cell_type": "markdown",
   "metadata": {},
   "source": [
    "# \"Render offline map with ipyleaflet and ipywebrtc\"\n",
    "\n",
    "> \"Does not work in Colab\"\n",
    "\n",
    "- toc: false\n",
    "- branch: master\n",
    "- buttons: false\n",
    "- hidden: true\n",
    "- categories: [ipyleaflet, ipywebrtc, map]"
   ]
  },
  {
   "cell_type": "code",
   "execution_count": null,
   "metadata": {
    "colab": {
     "base_uri": "https://localhost:8080/"
    },
    "id": "M1VVyepTvc81",
    "outputId": "0d08d3c4-dc88-4d13-969c-3ec598848b1c"
   },
   "outputs": [],
   "source": [
    "%%capture\n",
    "!pip install ipyleaflet ipywebrtc"
   ]
  },
  {
   "cell_type": "code",
   "execution_count": 1,
   "metadata": {
    "id": "MCd2YHCDd2BZ"
   },
   "outputs": [],
   "source": [
    "from ipyleaflet import *\n",
    "thurles_point = (52.6801064,-7.804442099999999)\n",
    "thurles = Map(center=(52.8001064,-7.804442099999999), zoom=8, basemap=basemaps.Esri.DeLorme)\n",
    "marker = Marker(location=thurles_point, draggable=False)\n",
    "thurles.add_layer(marker)"
   ]
  },
  {
   "cell_type": "markdown",
   "metadata": {
    "id": "OvsY-Sdb0bAh"
   },
   "source": [
    "The map needs to be rendered for ipywebrtc to work"
   ]
  },
  {
   "cell_type": "code",
   "execution_count": 2,
   "metadata": {
    "colab": {
     "base_uri": "https://localhost:8080/",
     "height": 17,
     "referenced_widgets": [
      "973aab0e7e4349ce8992f17c7d034106"
     ]
    },
    "id": "ZCJeloCNu9ef",
    "outputId": "1e59654d-a33f-4daf-b912-2e7faf31568b"
   },
   "outputs": [
    {
     "data": {
      "application/vnd.jupyter.widget-view+json": {
       "model_id": "fafb0a8a2c1e4219b07d4042c746ce7b",
       "version_major": 2,
       "version_minor": 0
      },
      "text/plain": [
       "Map(center=[52.8001064, -7.804442099999999], controls=(ZoomControl(options=['position', 'zoom_in_text', 'zoom_…"
      ]
     },
     "metadata": {},
     "output_type": "display_data"
    }
   ],
   "source": [
    "thurles"
   ]
  },
  {
   "cell_type": "code",
   "execution_count": 3,
   "metadata": {
    "id": "yo6BRMAdu9eo"
   },
   "outputs": [],
   "source": [
    "#https://stackoverflow.com/questions/44800396/python-ipyleaflet-export-map-as-png-or-jpg-or-svg\n",
    "from ipywebrtc import WidgetStream, ImageRecorder\n",
    "thurles_stream = WidgetStream(widget=thurles, max_fps=1)"
   ]
  },
  {
   "cell_type": "code",
   "execution_count": 6,
   "metadata": {
    "id": "jNIIpY24u9eu"
   },
   "outputs": [],
   "source": [
    "thurles_img = ImageRecorder(stream=thurles_stream)\n",
    "thurles_img.recording = True\n",
    "thurles_img.autosave = False\n",
    "thurles_img.download()"
   ]
  },
  {
   "cell_type": "code",
   "execution_count": 7,
   "metadata": {
    "colab": {
     "base_uri": "https://localhost:8080/",
     "height": 316
    },
    "id": "sh5AR2CNu9ey",
    "outputId": "6a0fc548-6b4e-43b9-b1bf-6ec0a4ff978d"
   },
   "outputs": [
    {
     "ename": "UnidentifiedImageError",
     "evalue": "ignored",
     "output_type": "error",
     "traceback": [
      "\u001b[0;31m---------------------------------------------------------------------------\u001b[0m",
      "\u001b[0;31mUnidentifiedImageError\u001b[0m                    Traceback (most recent call last)",
      "\u001b[0;32m<ipython-input-7-a24151f31067>\u001b[0m in \u001b[0;36m<module>\u001b[0;34m()\u001b[0m\n\u001b[1;32m      2\u001b[0m \u001b[0;32mimport\u001b[0m \u001b[0mPIL\u001b[0m\u001b[0;34m.\u001b[0m\u001b[0mImageFilter\u001b[0m\u001b[0;34m\u001b[0m\u001b[0;34m\u001b[0m\u001b[0m\n\u001b[1;32m      3\u001b[0m \u001b[0;32mimport\u001b[0m \u001b[0mio\u001b[0m\u001b[0;34m\u001b[0m\u001b[0;34m\u001b[0m\u001b[0m\n\u001b[0;32m----> 4\u001b[0;31m \u001b[0mthurles_pil\u001b[0m \u001b[0;34m=\u001b[0m \u001b[0mPIL\u001b[0m\u001b[0;34m.\u001b[0m\u001b[0mImage\u001b[0m\u001b[0;34m.\u001b[0m\u001b[0mopen\u001b[0m\u001b[0;34m(\u001b[0m\u001b[0mio\u001b[0m\u001b[0;34m.\u001b[0m\u001b[0mBytesIO\u001b[0m\u001b[0;34m(\u001b[0m\u001b[0mthurles_img\u001b[0m\u001b[0;34m.\u001b[0m\u001b[0mimage\u001b[0m\u001b[0;34m.\u001b[0m\u001b[0mvalue\u001b[0m\u001b[0;34m)\u001b[0m\u001b[0;34m)\u001b[0m\u001b[0;34m\u001b[0m\u001b[0;34m\u001b[0m\u001b[0m\n\u001b[0m",
      "\u001b[0;32m/usr/local/lib/python3.7/dist-packages/PIL/Image.py\u001b[0m in \u001b[0;36mopen\u001b[0;34m(fp, mode)\u001b[0m\n\u001b[1;32m   2894\u001b[0m         \u001b[0mwarnings\u001b[0m\u001b[0;34m.\u001b[0m\u001b[0mwarn\u001b[0m\u001b[0;34m(\u001b[0m\u001b[0mmessage\u001b[0m\u001b[0;34m)\u001b[0m\u001b[0;34m\u001b[0m\u001b[0;34m\u001b[0m\u001b[0m\n\u001b[1;32m   2895\u001b[0m     raise UnidentifiedImageError(\n\u001b[0;32m-> 2896\u001b[0;31m         \u001b[0;34m\"cannot identify image file %r\"\u001b[0m \u001b[0;34m%\u001b[0m \u001b[0;34m(\u001b[0m\u001b[0mfilename\u001b[0m \u001b[0;32mif\u001b[0m \u001b[0mfilename\u001b[0m \u001b[0;32melse\u001b[0m \u001b[0mfp\u001b[0m\u001b[0;34m)\u001b[0m\u001b[0;34m\u001b[0m\u001b[0;34m\u001b[0m\u001b[0m\n\u001b[0m\u001b[1;32m   2897\u001b[0m     )\n\u001b[1;32m   2898\u001b[0m \u001b[0;34m\u001b[0m\u001b[0m\n",
      "\u001b[0;31mUnidentifiedImageError\u001b[0m: cannot identify image file <_io.BytesIO object at 0x7f4a62d60a10>"
     ]
    }
   ],
   "source": [
    "import PIL.Image\n",
    "import PIL.ImageFilter\n",
    "import io\n",
    "thurles_pil = PIL.Image.open(io.BytesIO(thurles_img.image.value))"
   ]
  }
 ],
 "metadata": {
  "celltoolbar": "Slideshow",
  "colab": {
   "name": "syllable-presentation.ipynb",
   "provenance": []
  },
  "kernelspec": {
   "display_name": "Python 3",
   "language": "python",
   "name": "python3"
  },
  "language_info": {
   "codemirror_mode": {
    "name": "ipython",
    "version": 3
   },
   "file_extension": ".py",
   "mimetype": "text/x-python",
   "name": "python",
   "nbconvert_exporter": "python",
   "pygments_lexer": "ipython3",
   "version": "3.8.2"
  },
  "widgets": {
   "application/vnd.jupyter.widget-state+json": {
    "973aab0e7e4349ce8992f17c7d034106": {
     "model_module": "jupyter-leaflet",
     "model_name": "LeafletMapModel",
     "state": {
      "_dom_classes": [],
      "_model_module": "jupyter-leaflet",
      "_model_module_version": "^0.14.0",
      "_model_name": "LeafletMapModel",
      "_view_count": null,
      "_view_module": "jupyter-leaflet",
      "_view_module_version": "^0.14.0",
      "_view_name": "LeafletMapView",
      "bottom": 0,
      "bounce_at_zoom_limits": true,
      "box_zoom": true,
      "center": [
       52.8001064,
       -7.804442099999999
      ],
      "close_popup_on_click": true,
      "controls": [
       "IPY_MODEL_8ee6bcb9ddec4f0080c75866ba7d1ee0",
       "IPY_MODEL_0ce59b743175485aa7bab606da57e316"
      ],
      "crs": {
       "custom": false,
       "name": "EPSG3857"
      },
      "default_style": "IPY_MODEL_89d6721043194281958910d4d45f63c6",
      "double_click_zoom": true,
      "dragging": true,
      "dragging_style": "IPY_MODEL_3218fd89e8714affb7310e0c5fc0dabc",
      "east": 0,
      "fullscreen": false,
      "inertia": true,
      "inertia_deceleration": 3000,
      "inertia_max_speed": 1500,
      "interpolation": "bilinear",
      "keyboard": true,
      "keyboard_pan_offset": 80,
      "keyboard_zoom_offset": 1,
      "layers": [
       "IPY_MODEL_157903c858b641bc800512d953dd8c56",
       "IPY_MODEL_ab5a7dc7342744c3b14c0a3a1e062440"
      ],
      "layout": "IPY_MODEL_2739c4d1fb5e4399bd5a4dc316cd59d9",
      "left": 9007199254740991,
      "max_zoom": 18,
      "min_zoom": 1,
      "modisdate": "yesterday",
      "north": 0,
      "options": [
       "bounce_at_zoom_limits",
       "box_zoom",
       "center",
       "close_popup_on_click",
       "double_click_zoom",
       "dragging",
       "fullscreen",
       "inertia",
       "inertia_deceleration",
       "inertia_max_speed",
       "interpolation",
       "keyboard",
       "keyboard_pan_offset",
       "keyboard_zoom_offset",
       "max_zoom",
       "min_zoom",
       "scroll_wheel_zoom",
       "tap",
       "tap_tolerance",
       "touch_zoom",
       "world_copy_jump",
       "zoom",
       "zoom_animation_threshold",
       "zoom_delta",
       "zoom_snap",
       "zoom_start"
      ],
      "right": 0,
      "scroll_wheel_zoom": false,
      "south": 0,
      "style": "IPY_MODEL_8e91e9125a814efcb3ed107c8ab13e6b",
      "tap": true,
      "tap_tolerance": 15,
      "top": 9007199254740991,
      "touch_zoom": true,
      "west": 0,
      "window_url": "",
      "world_copy_jump": false,
      "zoom": 8,
      "zoom_animation_threshold": 4,
      "zoom_delta": 1,
      "zoom_snap": 1,
      "zoom_start": 12
     }
    }
   }
  }
 },
 "nbformat": 4,
 "nbformat_minor": 1
}
