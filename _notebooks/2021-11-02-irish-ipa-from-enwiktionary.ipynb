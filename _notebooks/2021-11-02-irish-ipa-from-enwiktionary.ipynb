{
 "cells": [
  {
   "cell_type": "markdown",
   "metadata": {},
   "source": [
    "# Irish IPA and alternatives from enwiktionary\n",
    "\n",
    "> \"Slight modification of earlier notebook\"\n",
    "\n",
    "- toc: false\n",
    "- branch: master\n",
    "- hidden: true\n",
    "- categories: [irish, ipa, wiktionary]"
   ]
  },
  {
   "cell_type": "markdown",
   "metadata": {
    "id": "Q-pNEmrXDkH9"
   },
   "source": [
    "https://dumps.wikimedia.org/enwiktionary/\n"
   ]
  },
  {
   "cell_type": "code",
   "execution_count": 1,
   "metadata": {
    "colab": {
     "base_uri": "https://localhost:8080/"
    },
    "id": "3nMO4xyfCo9T",
    "outputId": "93ed06ef-0414-45a1-e84d-fcac83d16ede"
   },
   "outputs": [
    {
     "name": "stdout",
     "output_type": "stream",
     "text": [
      "--2021-11-02 17:31:36--  https://dumps.wikimedia.org/enwiktionary/20211101/enwiktionary-20211101-pages-articles.xml.bz2\n",
      "Resolving dumps.wikimedia.org (dumps.wikimedia.org)... 208.80.154.7, 2620:0:861:1:208:80:154:7\n",
      "Connecting to dumps.wikimedia.org (dumps.wikimedia.org)|208.80.154.7|:443... connected.\n",
      "HTTP request sent, awaiting response... 200 OK\n",
      "Length: 892543646 (851M) [application/octet-stream]\n",
      "Saving to: ‘enwiktionary-20211101-pages-articles.xml.bz2’\n",
      "\n",
      "enwiktionary-202111 100%[===================>] 851.20M  4.25MB/s    in 3m 21s  \n",
      "\n",
      "2021-11-02 17:34:58 (4.23 MB/s) - ‘enwiktionary-20211101-pages-articles.xml.bz2’ saved [892543646/892543646]\n",
      "\n"
     ]
    }
   ],
   "source": [
    "!wget https://dumps.wikimedia.org/enwiktionary/20211101/enwiktionary-20211101-pages-articles.xml.bz2"
   ]
  },
  {
   "cell_type": "code",
   "execution_count": 2,
   "metadata": {
    "colab": {
     "base_uri": "https://localhost:8080/"
    },
    "id": "hGDl2cWgFdaU",
    "outputId": "b840efda-a746-4900-8908-f5df076fc172"
   },
   "outputs": [
    {
     "name": "stdout",
     "output_type": "stream",
     "text": [
      "Writing extract-ipa.pl\n"
     ]
    }
   ],
   "source": [
    "%%writefile extract-ipa.pl\n",
    "#!/usr/bin/perl\n",
    "\n",
    "use warnings;\n",
    "use strict;\n",
    "use utf8;\n",
    "\n",
    "binmode(STDIN, \":utf8\");\n",
    "binmode(STDOUT, \":utf8\");\n",
    "binmode(STDERR, \":utf8\");\n",
    "\n",
    "my $title = '';\n",
    "while(<>) {\n",
    "    chomp;\n",
    "    if(/<title>([^<]*)<\\/title>/) {\n",
    "        $title = $1;\n",
    "    }\n",
    "    if(m!\\{\\{IPA\\|ga\\|!) {\n",
    "        print \"$title\\t$_\\n\";\n",
    "    }\n",
    "}"
   ]
  },
  {
   "cell_type": "code",
   "execution_count": 3,
   "metadata": {
    "id": "ItMpgHtwFhzV"
   },
   "outputs": [],
   "source": [
    "!bzcat enwiktionary-20211101-pages-articles.xml.bz2|perl extract-ipa.pl > wikt-ipa.txt"
   ]
  },
  {
   "cell_type": "markdown",
   "metadata": {
    "id": "9PrGCz7Rt6_a"
   },
   "source": [
    "```bibtex\n",
    "@phdthesis{hughes1986gaelic,\n",
    "  title={The gaelic of Tangaveane and Commeen, County Donegal (texts, phonology, aspects of grammar and a vocabulary).},\n",
    "  author={Hughes, Arthur John},\n",
    "  year={1986},\n",
    "  school={Queen's University of Belfast}\n",
    "}\n",
    "```"
   ]
  },
  {
   "cell_type": "code",
   "execution_count": null,
   "metadata": {
    "id": "8810cNiIt9V5"
   },
   "outputs": [],
   "source": [
    "%%writefile extract-ulster.pl\n",
    "#!/usr/bin/perl\n",
    "\n",
    "while(<>) {\n",
    "\tchomp;\n",
    "\tprint \"# $_\\n\";\n",
    "\tif(/^([^\\t]+)\\t\\* ?\\{\\{a\\|[^}]+\\}\\} \\{\\{IPA\\|ga\\|([^|]+)\\|qual1=before \\{\\{m\\|ga\\|sé\\}\\}, \\{\\{m\\|ga\\|sí\\}\\}, \\{\\{m\\|ga\\|sibh\\}\\}, \\{\\{m\\|ga\\|siad\\}\\}\\|\\/([^\\/]+)\\/\\|qual2=elsewhere\\}\\}/) {\n",
    "\t\tprint \"$1\\t$2\\t\\t\\t\\tbefore sé, sí, sibh, siad\\n\";\n",
    "\t\tprint \"$1\\t$3\\t\\t\\t\\telsewhere\\n\";\n",
    "\t} elsif(/^([^\\t]+)\\t\\* \\{\\{a\\|([^}]+)\\}\\} \\{\\{IPA\\|ga\\|([^}]+)\\}\\}$/) {\n",
    "\t\tmy $word = $1;\n",
    "\t\tmy $dial = $2;\n",
    "\t\tmy $pron = $3;\n",
    "\t\t$pron =~ s/\\///g;\n",
    "\n",
    "\t\tif($dial eq 'Ulster') {\n",
    "\t\t\t$dial = \"\";\n",
    "\t\t} else {\n",
    "\t\t\t$dial = \"\\t\\t\\t\\t\\t\\t\\t\\t\\t\\t$dial\";\n",
    "\t\t}\n",
    "\n",
    "\t\tif($pron =~ /\\|/) {\n",
    "\t\t\tfor my $pp (split(/\\|/, $pron)) {\n",
    "\t\t\t\tprint \"$word\\t$pp\" . $dial . \"\\n\";\n",
    "\t\t\t}\n",
    "\t\t} else {\n",
    "\t\t\t$pron =~ s/\\[//g;\n",
    "\t\t\t$pron =~ s/\\]//g;\n",
    "\t\t\tprint \"$word\\t$pron\" . $dial . \"\\n\";\n",
    "\t\t}\n",
    "\t}\n",
    "}"
   ]
  },
  {
   "cell_type": "code",
   "execution_count": 2,
   "metadata": {
    "colab": {
     "base_uri": "https://localhost:8080/"
    },
    "id": "lsaTqTQptbIG",
    "outputId": "f56c05aa-a163-47b4-aa11-ce9766d70ae0"
   },
   "outputs": [
    {
     "name": "stdout",
     "output_type": "stream",
     "text": [
      "Writing extract-alt-form.pl\n"
     ]
    }
   ],
   "source": [
    "%%writefile extract-alt-form.pl\n",
    "#!/usr/bin/perl\n",
    "\n",
    "use warnings;\n",
    "use strict;\n",
    "use utf8;\n",
    "\n",
    "binmode(STDIN, \":utf8\");\n",
    "binmode(STDOUT, \":utf8\");\n",
    "binmode(STDERR, \":utf8\");\n",
    "\n",
    "my $title = '';\n",
    "my $polish_seen = 0;\n",
    "while(<>) {\n",
    "    chomp;\n",
    "    if(/<title>([^<]*)<\\/title>/) {\n",
    "        $title = $1;\n",
    "    }\n",
    "    if(m!\\{\\{alternative form of\\|ga\\|!) {\n",
    "        print \"$title\\t$_\\n\";\n",
    "    }\n",
    "}"
   ]
  },
  {
   "cell_type": "code",
   "execution_count": null,
   "metadata": {
    "id": "3ahIZps9tntq"
   },
   "outputs": [],
   "source": [
    "!bzcat enwiktionary-20211101-pages-articles.xml.bz2|perl extract-alt-form.pl > wikt-alts.txt"
   ]
  }
 ],
 "metadata": {
  "colab": {
   "name": "Copy of get Polish IPA from enwiktionary.ipynb",
   "provenance": []
  },
  "kernelspec": {
   "display_name": "Python 3",
   "language": "python",
   "name": "python3"
  },
  "language_info": {
   "codemirror_mode": {
    "name": "ipython",
    "version": 3
   },
   "file_extension": ".py",
   "mimetype": "text/x-python",
   "name": "python",
   "nbconvert_exporter": "python",
   "pygments_lexer": "ipython3",
   "version": "3.6.9"
  }
 },
 "nbformat": 4,
 "nbformat_minor": 1
}
