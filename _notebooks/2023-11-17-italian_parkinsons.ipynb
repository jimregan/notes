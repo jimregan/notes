{
 "cells": [
  {
   "cell_type": "markdown",
   "metadata": {},
   "source": [
    "# Italian Parkinsons dataset\n",
    "\n",
    "> \"Initial exploration of the Italian Parkinsons dataset\"\n",
    "\n",
    "- branch: master\n",
    "- hidden: true\n",
    "- tags: [parkinsons, italian]"
   ]
  },
  {
   "cell_type": "code",
   "execution_count": 1,
   "metadata": {},
   "outputs": [],
   "source": [
    "import pandas as pd"
   ]
  },
  {
   "cell_type": "code",
   "execution_count": 24,
   "metadata": {},
   "outputs": [],
   "source": [
    "file1 = '/Users/joregan/Downloads/Tab 3.xlsx'\n",
    "file2 = '/Users/joregan/Downloads/TAB 5.xlsx'\n",
    "file3 = '/Users/joregan/Downloads/15 YHC.xlsx'"
   ]
  },
  {
   "cell_type": "code",
   "execution_count": null,
   "metadata": {},
   "outputs": [],
   "source": [
    "!pip install openpyxl"
   ]
  },
  {
   "cell_type": "code",
   "execution_count": 110,
   "metadata": {},
   "outputs": [],
   "source": [
    "pd1 = pd.read_excel(file1)\n",
    "pd2 = pd.read_excel(file2)\n",
    "pd3 = pd.read_excel(file3)"
   ]
  },
  {
   "cell_type": "code",
   "execution_count": 26,
   "metadata": {},
   "outputs": [],
   "source": [
    "def is_skippable(columns):\n",
    "    return 'TEXT 1^READING' in columns or 'TEXT 1^ READING' in columns"
   ]
  },
  {
   "cell_type": "code",
   "execution_count": 30,
   "metadata": {},
   "outputs": [],
   "source": [
    "# https://stackoverflow.com/questions/31328861/replacing-header-with-top-row\n",
    "def replace_header(df):\n",
    "    new_header = df.iloc[0]\n",
    "    new_df = df[1:]\n",
    "    new_df.columns = new_header\n",
    "    return new_df"
   ]
  },
  {
   "cell_type": "code",
   "execution_count": 74,
   "metadata": {},
   "outputs": [],
   "source": [
    "def clean_names(df):\n",
    "    df1 = df.astype({\"name\": str, \"surname\": str})\n",
    "    df1['name'] = [w.replace(\"*\", \"\") for w in df1['name']]\n",
    "    df1['surname'] = [w.replace(\"*\", \"\") for w in df1['surname']]\n",
    "    return df1"
   ]
  },
  {
   "cell_type": "code",
   "execution_count": 109,
   "metadata": {},
   "outputs": [],
   "source": [
    "def clean_excel(df):\n",
    "    if is_skippable(df.columns):\n",
    "        df = replace_header(df)\n",
    "    df = clean_names(df)\n",
    "    if df.columns[0] != \"name\":\n",
    "        df = df.loc[:, df.columns.notna()]\n",
    "    df = df.dropna()\n",
    "    return df"
   ]
  },
  {
   "cell_type": "code",
   "execution_count": 116,
   "metadata": {},
   "outputs": [],
   "source": [
    "def get_reading_type(filename: str):\n",
    "    if filename.startswith(\"FB1\"):\n",
    "        return \"phomically balanced phrases\"\n",
    "    elif filename.startswith(\"FB2\"):\n",
    "        return \"phomically balanced words\"\n",
    "    elif filename.startswith(\"B\"):\n",
    "        return \"phomically balanced text\"\n",
    "    elif filename.startswith(\"D1\"):\n",
    "        return \"pa\"\n",
    "    elif filename.startswith(\"D2\"):\n",
    "        return \"ta\"\n",
    "    elif filename.startswith(\"V\"):\n",
    "        return \"vowel \" + filename[1:2]"
   ]
  },
  {
   "cell_type": "code",
   "execution_count": 105,
   "metadata": {},
   "outputs": [],
   "source": [
    "pd3 = clean_excel(pd3)"
   ]
  },
  {
   "cell_type": "code",
   "execution_count": null,
   "metadata": {},
   "outputs": [],
   "source": [
    "clean_excel(pd2)\n"
   ]
  },
  {
   "cell_type": "code",
   "execution_count": null,
   "metadata": {},
   "outputs": [],
   "source": [
    "EXCEL_FILES = {\n",
    "    \"15 Young Healthy Control\": \"15 YHC.xlsx\",\n",
    "    \"22 Elderly Healthy Control\": \"Tab 3.xlsx\", # Uppercase names\n",
    "    \"28 People with Parkinson's disease\": \"TAB 5.xlsx\"\n",
    "}"
   ]
  }
 ],
 "metadata": {
  "kernelspec": {
   "display_name": "hf",
   "language": "python",
   "name": "python3"
  },
  "language_info": {
   "codemirror_mode": {
    "name": "ipython",
    "version": 3
   },
   "file_extension": ".py",
   "mimetype": "text/x-python",
   "name": "python",
   "nbconvert_exporter": "python",
   "pygments_lexer": "ipython3",
   "version": "3.9.15"
  }
 },
 "nbformat": 4,
 "nbformat_minor": 2
}
