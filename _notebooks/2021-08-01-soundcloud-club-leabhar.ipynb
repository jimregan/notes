{
 "cells": [
  {
   "cell_type": "markdown",
   "id": "35208b62",
   "metadata": {},
   "source": [
    "# Soundcloud - Club Leabhar\n",
    "\n",
    "> \"Dataset\"\n",
    "\n",
    "- toc: false\n",
    "- branch: master\n",
    "- badges: false\n",
    "- comments: true\n",
    "- hidden: true\n",
    "- categories: [kaggle, irish, clubleabhar, dataset, unlabelled]"
   ]
  },
  {
   "cell_type": "markdown",
   "id": "a91aaafe",
   "metadata": {},
   "source": [
    "Original on [Kaggle](https://www.kaggle.com/jimregan/soundcloud-club-leabhar)"
   ]
  },
  {
   "cell_type": "code",
   "execution_count": null,
   "id": "27439382",
   "metadata": {
    "_cell_guid": "b1076dfc-b9ad-4769-8c92-a6c4dae69d19",
    "_uuid": "8f2839f25d086af736a60e9eeb907d3b93b6e0e5",
    "execution": {
     "iopub.execute_input": "2021-08-01T16:15:24.237391Z",
     "iopub.status.busy": "2021-08-01T16:15:24.236228Z",
     "iopub.status.idle": "2021-08-01T16:27:13.505699Z",
     "shell.execute_reply": "2021-08-01T16:27:13.506258Z"
    },
    "papermill": {
     "duration": 709.276792,
     "end_time": "2021-08-01T16:27:13.506639",
     "exception": false,
     "start_time": "2021-08-01T16:15:24.229847",
     "status": "completed"
    },
    "tags": []
   },
   "outputs": [],
   "source": [
    "!pip install youtube-dl\n",
    "!youtube-dl https://soundcloud.com/clubleabhar"
   ]
  }
 ],
 "metadata": {
  "kernelspec": {
   "display_name": "Python 3",
   "language": "python",
   "name": "python3"
  },
  "language_info": {
   "codemirror_mode": {
    "name": "ipython",
    "version": 3
   },
   "file_extension": ".py",
   "mimetype": "text/x-python",
   "name": "python",
   "nbconvert_exporter": "python",
   "pygments_lexer": "ipython3",
   "version": "3.8.2"
  },
  "papermill": {
   "default_parameters": {},
   "duration": 719.145046,
   "end_time": "2021-08-01T16:27:15.871572",
   "environment_variables": {},
   "exception": null,
   "input_path": "__notebook__.ipynb",
   "output_path": "__notebook__.ipynb",
   "parameters": {},
   "start_time": "2021-08-01T16:15:16.726526",
   "version": "2.3.3"
  }
 },
 "nbformat": 4,
 "nbformat_minor": 5
}
