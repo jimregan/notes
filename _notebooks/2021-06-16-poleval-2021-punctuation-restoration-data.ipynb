{
  "nbformat": 4,
  "nbformat_minor": 0,
  "metadata": {
    "kernelspec": {
      "language": "python",
      "display_name": "Python 3",
      "name": "python3"
    },
    "language_info": {
      "name": "python",
      "version": "3.7.9",
      "mimetype": "text/x-python",
      "codemirror_mode": {
        "name": "ipython",
        "version": 3
      },
      "pygments_lexer": "ipython3",
      "nbconvert_exporter": "python",
      "file_extension": ".py"
    },
    "colab": {
      "name": "poleval-2021-punctuation-restoration-data.ipynb",
      "provenance": []
    }
  },
  "cells": [
    {
      "cell_type": "markdown",
      "metadata": {
        "id": "bf1Vpp-L7Q5i"
      },
      "source": [
        "# Poleval 2021 punctuation restoration data\n",
        "\n",
        "> \"Setting up data for Kaggle\"\n",
        "\n",
        "- toc: false\n",
        "- branch: master\n",
        "- hidden: true\n",
        "- categories: [asr, polish, kaggle]"
      ]
    },
    {
      "cell_type": "markdown",
      "metadata": {
        "id": "Evqgl2Wk7p1I"
      },
      "source": [
        "Original [here](https://www.kaggle.com/jimregan/poleval-2021-punctuation-restoration-data)"
      ]
    },
    {
      "cell_type": "code",
      "metadata": {
        "_uuid": "8f2839f25d086af736a60e9eeb907d3b93b6e0e5",
        "_cell_guid": "b1076dfc-b9ad-4769-8c92-a6c4dae69d19",
        "execution": {
          "iopub.status.busy": "2021-06-16T08:25:43.538736Z",
          "iopub.execute_input": "2021-06-16T08:25:43.539162Z",
          "iopub.status.idle": "2021-06-16T08:26:01.447349Z",
          "shell.execute_reply.started": "2021-06-16T08:25:43.539073Z",
          "shell.execute_reply": "2021-06-16T08:26:01.446343Z"
        },
        "trusted": true,
        "id": "yKRvx4q_7M19"
      },
      "source": [
        "!pip install gdown"
      ],
      "execution_count": null,
      "outputs": []
    },
    {
      "cell_type": "code",
      "metadata": {
        "execution": {
          "iopub.status.busy": "2021-06-16T08:27:05.545588Z",
          "iopub.execute_input": "2021-06-16T08:27:05.546079Z",
          "iopub.status.idle": "2021-06-16T08:27:59.460654Z",
          "shell.execute_reply.started": "2021-06-16T08:27:05.546040Z",
          "shell.execute_reply": "2021-06-16T08:27:59.459256Z"
        },
        "trusted": true,
        "id": "J3V87cvA7M2D",
        "outputId": "0c4a625c-4c71-40cf-add0-aea95eeda4b5"
      },
      "source": [
        "!gdown https://drive.google.com/uc?id=1PYfEhg-zGwnJ07HIaimlD3EgILPOBojq\n",
        "!gdown https://drive.google.com/uc?id=1b6MyyqgA9D1U7DX3Vtgda7f9ppkxjCXJ\n",
        "!gdown https://drive.google.com/uc?id=1gwQRvrUtFqz3xGnmEN8znAzkBwC12Czu\n",
        "!gdown https://drive.google.com/uc?id=16MaKgexMtMhQL6sftMsS3H1pPjJqY_zx"
      ],
      "execution_count": null,
      "outputs": [
        {
          "output_type": "stream",
          "text": [
            "Downloading...\n",
            "From: https://drive.google.com/uc?id=1PYfEhg-zGwnJ07HIaimlD3EgILPOBojq\n",
            "To: /kaggle/working/poleval_fa.train.tar.gz\n",
            "100%|██████████████████████████████████████| 1.45M/1.45M [00:00<00:00, 95.9MB/s]\n",
            "Downloading...\n",
            "From: https://drive.google.com/uc?id=1b6MyyqgA9D1U7DX3Vtgda7f9ppkxjCXJ\n",
            "To: /kaggle/working/poleval_wav.train.tar.gz\n",
            "2.14GB [00:24, 86.7MB/s]\n",
            "Downloading...\n",
            "From: https://drive.google.com/uc?id=1gwQRvrUtFqz3xGnmEN8znAzkBwC12Czu\n",
            "To: /kaggle/working/poleval_wav.validation.tar.gz\n",
            "537MB [00:08, 64.6MB/s] \n",
            "Downloading...\n",
            "From: https://drive.google.com/uc?id=16MaKgexMtMhQL6sftMsS3H1pPjJqY_zx\n",
            "To: /kaggle/working/poleval_text.rest.tar.gz\n",
            "48.8MB [00:01, 29.6MB/s]\n"
          ],
          "name": "stdout"
        }
      ]
    }
  ]
}