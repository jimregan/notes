{
 "cells": [
  {
   "cell_type": "code",
   "execution_count": 1,
   "id": "a734106a",
   "metadata": {},
   "outputs": [],
   "source": [
    "import requests\n",
    "from bs4 import BeautifulSoup"
   ]
  },
  {
   "cell_type": "code",
   "execution_count": 40,
   "id": "f1710cc6",
   "metadata": {},
   "outputs": [],
   "source": [
    "_BASE = 'https://doegen.ie/counties'\n",
    "def do_get(url):\n",
    "    r = requests.get(url, headers = {'User-agent': 'Mozilla/5.0'})\n",
    "    if r.status_code != 200:\n",
    "        raise Exception(\"Failed to open landing page\")\n",
    "    return r.content"
   ]
  },
  {
   "cell_type": "code",
   "execution_count": 10,
   "id": "3277bedb",
   "metadata": {},
   "outputs": [],
   "source": [
    "soup = BeautifulSoup(do_get(_BASE), 'html.parser')"
   ]
  },
  {
   "cell_type": "code",
   "execution_count": 26,
   "id": "22a35517",
   "metadata": {},
   "outputs": [],
   "source": [
    "counties = soup.find('ul', {'class': 'vocabindex'}).find_all('li')"
   ]
  },
  {
   "cell_type": "code",
   "execution_count": 37,
   "id": "faebbc8f",
   "metadata": {},
   "outputs": [],
   "source": [
    "pages = []\n",
    "for county in counties:\n",
    "    item = {}\n",
    "    anchor = county.find('a')\n",
    "    href = anchor['href']\n",
    "    item['link'] = f'https://doegen.ie{href}'\n",
    "    if anchor.find('span').text.strip() != '(0)':\n",
    "        item['county'] = anchor.text.split()[1]\n",
    "        pages.append(item)"
   ]
  },
  {
   "cell_type": "code",
   "execution_count": 64,
   "id": "978915b0",
   "metadata": {},
   "outputs": [],
   "source": [
    "def proc_page(url):\n",
    "    result = {}\n",
    "    html = do_get(url)\n",
    "    soup = BeautifulSoup(html, 'html.parser')\n",
    "    content = soup.find('div', {'id': 'main'}).find('div', {'class': 'content'})\n",
    "    result['mp3'] = content.find('source')['src']\n",
    "    result['transcript'] = content.find('div', id='transcript').text\n",
    "    result['translation'] = content.find('div', id='translation').text\n",
    "    result['footnote'] = content.find('div', id='footnote').text\n",
    "    result['recording_metadata'] = content.find('div', id='recording_metadata').text\n",
    "    return result"
   ]
  },
  {
   "cell_type": "code",
   "execution_count": 65,
   "id": "2abaac56",
   "metadata": {},
   "outputs": [],
   "source": [
    "def proc_county(item):\n",
    "    content = do_get(item['link'])\n",
    "    soup = BeautifulSoup(content, 'html.parser')\n",
    "    main = soup.find('div', id='main')\n",
    "    nodes = main.find_all('div', {'class': 'node'})\n",
    "    stories = []\n",
    "    for node in nodes:\n",
    "        story = {}\n",
    "        anchor = node.find('a')\n",
    "        story['link'] = f\"https://doegen.ie{anchor['href']}\"\n",
    "        story['content'] = proc_page(story['link'])\n",
    "        tags = node.find('div', {'class': 'terms'})\n",
    "        text = anchor.text\n",
    "        if ' - ' in text:\n",
    "            tmp = text.split(' - ')\n",
    "            if len(tmp) == 2:\n",
    "                story['title'] = tmp[0]\n",
    "                story['speaker_name'] = tmp[1]\n",
    "            else:\n",
    "                story['raw'] = text\n",
    "        else:\n",
    "            story['raw'] = text\n",
    "        stories.append(story)\n",
    "    item['stories'] = stories"
   ]
  },
  {
   "cell_type": "code",
   "execution_count": null,
   "id": "f5c56bca",
   "metadata": {
    "scrolled": true
   },
   "outputs": [],
   "source": [
    "proc_page('https://doegen.ie/LA_1051d3')"
   ]
  }
 ],
 "metadata": {
  "kernelspec": {
   "display_name": "Python 3",
   "language": "python",
   "name": "python3"
  },
  "language_info": {
   "codemirror_mode": {
    "name": "ipython",
    "version": 3
   },
   "file_extension": ".py",
   "mimetype": "text/x-python",
   "name": "python",
   "nbconvert_exporter": "python",
   "pygments_lexer": "ipython3",
   "version": "3.8.2"
  }
 },
 "nbformat": 4,
 "nbformat_minor": 5
}
