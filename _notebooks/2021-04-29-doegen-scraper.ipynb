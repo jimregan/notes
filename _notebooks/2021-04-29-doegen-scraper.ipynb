{
 "cells": [
  {
   "cell_type": "code",
   "execution_count": 80,
   "id": "dd8de39a",
   "metadata": {},
   "outputs": [],
   "source": [
    "import requests\n",
    "from bs4 import BeautifulSoup\n",
    "import json"
   ]
  },
  {
   "cell_type": "code",
   "execution_count": 81,
   "id": "5a15d887",
   "metadata": {},
   "outputs": [],
   "source": [
    "_BASE = 'https://doegen.ie/counties'\n",
    "def do_get(url):\n",
    "    r = requests.get(url, headers = {'User-agent': 'Mozilla/5.0'})\n",
    "    if r.status_code != 200:\n",
    "        raise Exception(\"Failed to open landing page\")\n",
    "    return r.content"
   ]
  },
  {
   "cell_type": "code",
   "execution_count": 82,
   "id": "bceaca6e",
   "metadata": {},
   "outputs": [],
   "source": [
    "soup = BeautifulSoup(do_get(_BASE), 'html.parser')"
   ]
  },
  {
   "cell_type": "code",
   "execution_count": 83,
   "id": "bd099301",
   "metadata": {},
   "outputs": [],
   "source": [
    "counties = soup.find('ul', {'class': 'vocabindex'}).find_all('li')"
   ]
  },
  {
   "cell_type": "code",
   "execution_count": 89,
   "id": "c59c4635",
   "metadata": {},
   "outputs": [],
   "source": [
    "pages = []\n",
    "for county in counties:\n",
    "    item = {}\n",
    "    anchor = county.find('a')\n",
    "    href = anchor['href']\n",
    "    item['link'] = f'https://doegen.ie{href}'\n",
    "    if anchor.find('span').text.strip() != '(0)':\n",
    "        item['county'] = anchor.text.split()[1]\n",
    "        pages.append(item)"
   ]
  },
  {
   "cell_type": "code",
   "execution_count": 88,
   "id": "a2a2c5a5",
   "metadata": {},
   "outputs": [],
   "source": [
    "def proc_page(url):\n",
    "    result = {}\n",
    "    html = do_get(url)\n",
    "    soup = BeautifulSoup(html, 'html.parser')\n",
    "    main = soup.find('div', {'id': 'main'})\n",
    "    content = main.find('div', {'class': 'content'})\n",
    "    source = content.find('source')\n",
    "    if source == None:\n",
    "        return {}\n",
    "    result['mp3'] = source['src']\n",
    "    result['transcript'] = content.find('div', id='transcript').text\n",
    "    if content.find('div', id='translation') != None:\n",
    "        result['translation'] = content.find('div', id='translation').text\n",
    "    if content.find('div', id='footnote') != None:\n",
    "        result['footnote'] = content.find('div', id='footnote').text\n",
    "    result['recording_metadata'] = content.find('div', id='recording_metadata').text\n",
    "    return result"
   ]
  },
  {
   "cell_type": "code",
   "execution_count": 86,
   "id": "96b6d2e1",
   "metadata": {},
   "outputs": [],
   "source": [
    "def proc_county(item):\n",
    "    content = do_get(item['link'])\n",
    "    soup = BeautifulSoup(content, 'html.parser')\n",
    "    main = soup.find('div', id='main')\n",
    "    nodes = main.find_all('div', {'class': 'node'})\n",
    "    stories = []\n",
    "    for node in nodes:\n",
    "        story = {}\n",
    "        anchor = node.find('a')\n",
    "        story['link'] = f\"https://doegen.ie{anchor['href']}\"\n",
    "        story['content'] = proc_page(story['link'])\n",
    "        if story['content'] == {}:\n",
    "            continue\n",
    "        tags = node.find('div', {'class': 'terms'}).find_all('a', rel='tag')\n",
    "        text = anchor.text\n",
    "        if ' - ' in text:\n",
    "            tmp = text.split(' - ')\n",
    "            if len(tmp) == 2:\n",
    "                story['title'] = tmp[0]\n",
    "                story['speaker_name'] = tmp[1]\n",
    "                name_parts = tmp[1].split(' ')\n",
    "                first = name_parts[0]\n",
    "                for tag in tags:\n",
    "                    if first in tag.text:\n",
    "                        story['speaker_url'] = f\"https://doegen.ie{tag['href']}\"\n",
    "            else:\n",
    "                story['raw'] = text\n",
    "        else:\n",
    "            story['raw'] = text\n",
    "        stories.append(story)\n",
    "    item['stories'] = stories"
   ]
  },
  {
   "cell_type": "code",
   "execution_count": 90,
   "id": "234d7d9f",
   "metadata": {
    "scrolled": true
   },
   "outputs": [],
   "source": [
    "for page in pages:\n",
    "    proc_county(page)"
   ]
  },
  {
   "cell_type": "code",
   "execution_count": 92,
   "id": "319dfdb3",
   "metadata": {},
   "outputs": [],
   "source": [
    "with open('doegen.json', 'w') as f:\n",
    "    json.dump(pages, f)"
   ]
  }
 ],
 "metadata": {
  "kernelspec": {
   "display_name": "Python 3",
   "language": "python",
   "name": "python3"
  },
  "language_info": {
   "codemirror_mode": {
    "name": "ipython",
    "version": 3
   },
   "file_extension": ".py",
   "mimetype": "text/x-python",
   "name": "python",
   "nbconvert_exporter": "python",
   "pygments_lexer": "ipython3",
   "version": "3.8.2"
  }
 },
 "nbformat": 4,
 "nbformat_minor": 5
}
