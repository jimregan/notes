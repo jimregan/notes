{
 "cells": [
  {
   "attachments": {},
   "cell_type": "markdown",
   "metadata": {},
   "source": [
    "# Stats, week 2\n",
    "\n",
    "> \"Confidence intervals\"\n",
    "\n",
    "- toc: false\n",
    "- hidden: true\n",
    "- branch: master\n",
    "- categories: [stats]"
   ]
  },
  {
   "attachments": {},
   "cell_type": "markdown",
   "metadata": {},
   "source": [
    "$CI = \\hat{X} \\pm Z \\times \\frac{\\sigma}{\\sqrt{n}}$"
   ]
  },
  {
   "attachments": {},
   "cell_type": "markdown",
   "metadata": {},
   "source": [
    "One sample, the population proportion ($\\pi$)\n",
    "\n",
    "$\\hat{X} \\pm Z \\times \\frac{P(1-P)}{\\sqrt{n}}$\n",
    "\n",
    "One sample, the population mean ($\\mu$)\n",
    "\n",
    "$\\hat{X} \\pm Z \\times \\sqrt{\\frac{s^2}{n}}$\n",
    "\n",
    "Two independent samples, difference between the population proportions:\n",
    "\n",
    "$P_1 - P_2 \\pm Z \\times \\sqrt{\\frac{P_1(1-P_1)}{n_1} + \\frac{P_2(1-P_2)}{n_2}}$\n",
    "\n",
    "Two independent samples, difference between the population means:\n",
    "\n",
    "Small samples:\n",
    "\n",
    "$\\hat{X_1} - \\hat{X_2} \\pm Z \\times \\sqrt{\\frac{s^2_1}{n_1} + \\frac{s^2_2}{n_2}}$\n",
    "\n",
    "Large samples:\n",
    "\n",
    "$\\hat{X_1} - \\hat{X_2} \\pm Z \\times \\sqrt{\\frac{s^2_p}{n_1} + \\frac{s^2_p}{n_2}}$\n",
    "\n",
    "Two dependent samples:\n",
    "\n",
    "$s^2_p = \\frac{(n_1 - 1)s^2_1 + (n_2 - 1)s^2_2}{n_1 + n_2 - 2}$"
   ]
  },
  {
   "cell_type": "code",
   "execution_count": 1,
   "metadata": {},
   "outputs": [],
   "source": [
    "Z_VALUES = {\n",
    "    70: 1.036,\n",
    "    75: 1.150,\n",
    "    80: 1.282,\n",
    "    85: 1.440,\n",
    "    90: 1.645,\n",
    "    95: 1.960,\n",
    "    98: 2.326,\n",
    "    99: 2.576,\n",
    "    99.5: 2.807,\n",
    "    99.9: 3.291,\n",
    "    99.99: 3.891,\n",
    "    99.999: 4.417\n",
    "}"
   ]
  },
  {
   "cell_type": "code",
   "execution_count": 68,
   "metadata": {},
   "outputs": [],
   "source": [
    "from IPython.display import display, Math, Latex\n",
    "import math\n",
    "\n",
    "def display_CI(sample_mean, stddev, sample_size, ci):\n",
    "    if sample_size >= 30:\n",
    "        z = Z_VALUES[ci]\n",
    "        filled = 'CI = ' + str(sample_mean) + ' \\\\pm ' + str(z) +  '\\\\times \\\\frac{' + str(stddev) + '}{\\\\sqrt{' + str(sample_size) + '}}'    \n",
    "        display(Math(filled))\n",
    "\n",
    "        res = z * (stddev / math.sqrt(sample_size))\n",
    "        filled = '~~~~~~~ = ' + str(sample_mean) + ' \\\\pm ' + f\"{res:.03f}\"\n",
    "        display(Math(filled))\n",
    "    else:\n",
    "        # 3.25 * (math.sqrt(225/10))\n",
    "        filled = 'CI = ' + str(sample_mean) + ' \\\\pm ' + str(z) +  '\\\\times \\\\frac{' + str(stddev) + '}{\\\\sqrt{' + str(sample_size) + '}}'    \n",
    "        display(Math(filled))\n",
    "        pass"
   ]
  },
  {
   "cell_type": "code",
   "execution_count": 69,
   "metadata": {},
   "outputs": [
    {
     "data": {
      "text/latex": [
       "$\\displaystyle CI = 10.12 \\pm 1.96\\times \\frac{0.64}{\\sqrt{50}}$"
      ],
      "text/plain": [
       "<IPython.core.display.Math object>"
      ]
     },
     "metadata": {},
     "output_type": "display_data"
    },
    {
     "data": {
      "text/latex": [
       "$\\displaystyle ~~~~~~~ = 10.12 \\pm 0.177$"
      ],
      "text/plain": [
       "<IPython.core.display.Math object>"
      ]
     },
     "metadata": {},
     "output_type": "display_data"
    }
   ],
   "source": [
    "display_CI(10.12, 0.64, 50, 95)"
   ]
  },
  {
   "cell_type": "code",
   "execution_count": 67,
   "metadata": {},
   "outputs": [
    {
     "data": {
      "text/latex": [
       "$\\displaystyle CI = 230 \\pm 2.576\\times \\frac{15}{\\sqrt{10}}$"
      ],
      "text/plain": [
       "<IPython.core.display.Math object>"
      ]
     },
     "metadata": {},
     "output_type": "display_data"
    },
    {
     "data": {
      "text/latex": [
       "$\\displaystyle ~~~~~~~ = 230 \\pm 12.219$"
      ],
      "text/plain": [
       "<IPython.core.display.Math object>"
      ]
     },
     "metadata": {},
     "output_type": "display_data"
    }
   ],
   "source": [
    "display_CI(230, 15, 10, 99)"
   ]
  },
  {
   "attachments": {},
   "cell_type": "markdown",
   "metadata": {},
   "source": [
    "$H_0 : {\\mu}_1 - {\\mu}_2 = 0$\n",
    "\n",
    "$H_1 : {\\mu}_1 - {\\mu}_2 \\ne 0$\n",
    "\n",
    "${\\mu}_1 - {\\mu}_2$ is estimated by $\\hat{X_1} - \\hat{X_2}$\n",
    "\n",
    "$1 - \\alpha : 0.95$\n",
    "\n",
    "$\\gt \\frac{\\alpha}{2}$\n",
    "\n",
    "\n"
   ]
  },
  {
   "attachments": {},
   "cell_type": "markdown",
   "metadata": {},
   "source": [
    "$\\mu$ is estimated by $\\hat{X}$\n",
    "\n",
    "$\\mathbb{P}~~(\\pi)$ is estimated by $P$"
   ]
  },
  {
   "attachments": {},
   "cell_type": "markdown",
   "metadata": {},
   "source": [
    "$E(X) = \\mu$, $V(X) = \\sigma_2$\n",
    "\n",
    "$E(\\hat{X}) = \\mu$, $V(\\hat{X}) = \\frac{\\sigma_2}{n}$\n",
    "\n",
    "$D(\\hat{X}) = \\sqrt{\\frac{\\sigma_2}{n}} = \\frac{\\sigma}{\\sqrt{n}}$ : Standard Error of the Mean"
   ]
  },
  {
   "attachments": {},
   "cell_type": "markdown",
   "metadata": {},
   "source": [
    "> One sample CI for $\\mu$\n",
    "\n",
    "$n$ large ($n \\ge 30$)\n",
    "\n",
    "$\\hat{X} \\pm Z \\times \\sqrt{\\frac{s^2}{n}}$\n",
    "\n",
    "$n$ small ($n \\lt 30$)\n",
    "\n",
    "$\\hat{X} \\pm Z^{(n-1)} \\times \\sqrt{\\frac{s^2}{n}}$"
   ]
  },
  {
   "attachments": {},
   "cell_type": "markdown",
   "metadata": {},
   "source": [
    "Degrees of freedom\n",
    "\n",
    "df = f\n",
    "\n",
    "$\\hat{X} = \\frac{\\sum{x}}{n}$"
   ]
  },
  {
   "cell_type": "code",
   "execution_count": 7,
   "metadata": {},
   "outputs": [
    {
     "data": {
      "text/plain": [
       "15.41610359332085"
      ]
     },
     "execution_count": 7,
     "metadata": {},
     "output_type": "execute_result"
    }
   ],
   "source": [
    "# small sample\n",
    "3.25 * (math.sqrt(225/10))"
   ]
  },
  {
   "cell_type": "code",
   "execution_count": 8,
   "metadata": {},
   "outputs": [],
   "source": [
    "n = 500\n",
    "x = 340\n",
    "# 95% CI\n",
    "# Proportion\n",
    "# 230 +/- 15.4\n",
    "\n"
   ]
  }
 ],
 "metadata": {
  "kernelspec": {
   "display_name": "hf",
   "language": "python",
   "name": "python3"
  },
  "language_info": {
   "codemirror_mode": {
    "name": "ipython",
    "version": 3
   },
   "file_extension": ".py",
   "mimetype": "text/x-python",
   "name": "python",
   "nbconvert_exporter": "python",
   "pygments_lexer": "ipython3",
   "version": "3.9.15"
  },
  "orig_nbformat": 4,
  "vscode": {
   "interpreter": {
    "hash": "07bb6a9d2164abcdbb8286fc1e56d7ab9d62a92a750c8fe8e3bd5ac6fe973d15"
   }
  }
 },
 "nbformat": 4,
 "nbformat_minor": 2
}
