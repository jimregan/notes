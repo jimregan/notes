{
 "cells": [
  {
   "cell_type": "markdown",
   "id": "5b60da5d",
   "metadata": {},
   "source": [
    "# Soundcloud - NÓS\n",
    "\n",
    "> \"Dataset\"\n",
    "\n",
    "- toc: false\n",
    "- branch: master\n",
    "- badges: false\n",
    "- comments: true\n",
    "- hidden: true\n",
    "- categories: [kaggle, irish, soundcloud, dataset, unlabelled, nos]"
   ]
  },
  {
   "cell_type": "markdown",
   "id": "86191498",
   "metadata": {},
   "source": [
    "Original on [Kaggle](https://www.kaggle.com/jimregan/soundcloud-nos-pod) (private)"
   ]
  },
  {
   "cell_type": "code",
   "execution_count": null,
   "id": "df3efd77",
   "metadata": {
    "_cell_guid": "b1076dfc-b9ad-4769-8c92-a6c4dae69d19",
    "_uuid": "8f2839f25d086af736a60e9eeb907d3b93b6e0e5",
    "execution": {
     "iopub.execute_input": "2021-08-01T15:46:47.347734Z",
     "iopub.status.busy": "2021-08-01T15:46:47.346535Z",
     "iopub.status.idle": "2021-08-01T15:50:00.786423Z",
     "shell.execute_reply": "2021-08-01T15:50:00.786950Z"
    },
    "papermill": {
     "duration": 193.44704,
     "end_time": "2021-08-01T15:50:00.787297",
     "exception": false,
     "start_time": "2021-08-01T15:46:47.340257",
     "status": "completed"
    },
    "tags": []
   },
   "outputs": [],
   "source": [
    "!pip install youtube-dl\n",
    "!youtube-dl https://soundcloud.com/nosmag"
   ]
  }
 ],
 "metadata": {
  "kernelspec": {
   "display_name": "Python 3",
   "language": "python",
   "name": "python3"
  },
  "language_info": {
   "codemirror_mode": {
    "name": "ipython",
    "version": 3
   },
   "file_extension": ".py",
   "mimetype": "text/x-python",
   "name": "python",
   "nbconvert_exporter": "python",
   "pygments_lexer": "ipython3",
   "version": "3.8.2"
  },
  "papermill": {
   "default_parameters": {},
   "duration": 203.949656,
   "end_time": "2021-08-01T15:50:02.594809",
   "environment_variables": {},
   "exception": null,
   "input_path": "__notebook__.ipynb",
   "output_path": "__notebook__.ipynb",
   "parameters": {},
   "start_time": "2021-08-01T15:46:38.645153",
   "version": "2.3.3"
  }
 },
 "nbformat": 4,
 "nbformat_minor": 5
}
