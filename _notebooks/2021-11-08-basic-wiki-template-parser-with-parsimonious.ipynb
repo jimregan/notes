{
 "cells": [
  {
   "cell_type": "markdown",
   "metadata": {},
   "source": [
    "# Basic wiki template parser using parsimonious\n",
    "\n",
    "> \"First step towards wiktionary extraction\"\n",
    "\n",
    "- toc: false\n",
    "- branch: master\n",
    "- hidden: true\n",
    "- categories: [wiki, parsimonious]"
   ]
  },
  {
   "cell_type": "code",
   "execution_count": 31,
   "metadata": {},
   "outputs": [],
   "source": [
    "from parsimonious.grammar import Grammar\n",
    "grammar = Grammar(\n",
    "\"\"\"\n",
    "tplcall = tplopen tpltext (tplinner)+ tplclose\n",
    "tplinner = named / positional\n",
    "named = bar tpltext eq tpltext\n",
    "positional = bar tpltext\n",
    "tpltext = (\"{{=}}\" / ~r\"[^\\}\\|=]\")*\n",
    "tplchar = ~r\"[^\\}\\|=]\"\n",
    "tplopen = \"{{\"\n",
    "tplclose = \"}}\"\n",
    "eq = \"=\"\n",
    "bar = \"|\"\n",
    "\"\"\"\n",
    ")"
   ]
  },
  {
   "cell_type": "code",
   "execution_count": 34,
   "metadata": {},
   "outputs": [],
   "source": [
    "test1 = \"{{tpl|foo|bar=baz||fooish{{=}}bar}}\""
   ]
  },
  {
   "cell_type": "code",
   "execution_count": 35,
   "metadata": {},
   "outputs": [
    {
     "name": "stdout",
     "output_type": "stream",
     "text": [
      "<Node called \"tplcall\" matching \"{{tpl|foo|bar=baz||fooish{{=}}bar}}\">\n",
      "    <Node called \"tplopen\" matching \"{{\">\n",
      "    <Node called \"tpltext\" matching \"tpl\">\n",
      "        <Node matching \"t\">\n",
      "            <RegexNode matching \"t\">\n",
      "        <Node matching \"p\">\n",
      "            <RegexNode matching \"p\">\n",
      "        <Node matching \"l\">\n",
      "            <RegexNode matching \"l\">\n",
      "    <Node matching \"|foo|bar=baz||fooish{{=}}bar\">\n",
      "        <Node called \"tplinner\" matching \"|foo\">\n",
      "            <Node called \"positional\" matching \"|foo\">\n",
      "                <Node called \"bar\" matching \"|\">\n",
      "                <Node called \"tpltext\" matching \"foo\">\n",
      "                    <Node matching \"f\">\n",
      "                        <RegexNode matching \"f\">\n",
      "                    <Node matching \"o\">\n",
      "                        <RegexNode matching \"o\">\n",
      "                    <Node matching \"o\">\n",
      "                        <RegexNode matching \"o\">\n",
      "        <Node called \"tplinner\" matching \"|bar=baz\">\n",
      "            <Node called \"named\" matching \"|bar=baz\">\n",
      "                <Node called \"bar\" matching \"|\">\n",
      "                <Node called \"tpltext\" matching \"bar\">\n",
      "                    <Node matching \"b\">\n",
      "                        <RegexNode matching \"b\">\n",
      "                    <Node matching \"a\">\n",
      "                        <RegexNode matching \"a\">\n",
      "                    <Node matching \"r\">\n",
      "                        <RegexNode matching \"r\">\n",
      "                <Node called \"eq\" matching \"=\">\n",
      "                <Node called \"tpltext\" matching \"baz\">\n",
      "                    <Node matching \"b\">\n",
      "                        <RegexNode matching \"b\">\n",
      "                    <Node matching \"a\">\n",
      "                        <RegexNode matching \"a\">\n",
      "                    <Node matching \"z\">\n",
      "                        <RegexNode matching \"z\">\n",
      "        <Node called \"tplinner\" matching \"|\">\n",
      "            <Node called \"positional\" matching \"|\">\n",
      "                <Node called \"bar\" matching \"|\">\n",
      "                <Node called \"tpltext\" matching \"\">\n",
      "        <Node called \"tplinner\" matching \"|fooish{{=}}bar\">\n",
      "            <Node called \"positional\" matching \"|fooish{{=}}bar\">\n",
      "                <Node called \"bar\" matching \"|\">\n",
      "                <Node called \"tpltext\" matching \"fooish{{=}}bar\">\n",
      "                    <Node matching \"f\">\n",
      "                        <RegexNode matching \"f\">\n",
      "                    <Node matching \"o\">\n",
      "                        <RegexNode matching \"o\">\n",
      "                    <Node matching \"o\">\n",
      "                        <RegexNode matching \"o\">\n",
      "                    <Node matching \"i\">\n",
      "                        <RegexNode matching \"i\">\n",
      "                    <Node matching \"s\">\n",
      "                        <RegexNode matching \"s\">\n",
      "                    <Node matching \"h\">\n",
      "                        <RegexNode matching \"h\">\n",
      "                    <Node matching \"{{=}}\">\n",
      "                        <Node matching \"{{=}}\">\n",
      "                    <Node matching \"b\">\n",
      "                        <RegexNode matching \"b\">\n",
      "                    <Node matching \"a\">\n",
      "                        <RegexNode matching \"a\">\n",
      "                    <Node matching \"r\">\n",
      "                        <RegexNode matching \"r\">\n",
      "    <Node called \"tplclose\" matching \"}}\">\n"
     ]
    }
   ],
   "source": [
    "print(grammar.parse(test1))"
   ]
  }
 ],
 "metadata": {
  "kernelspec": {
   "display_name": "Python 3",
   "language": "python",
   "name": "python3"
  },
  "language_info": {
   "codemirror_mode": {
    "name": "ipython",
    "version": 3
   },
   "file_extension": ".py",
   "mimetype": "text/x-python",
   "name": "python",
   "nbconvert_exporter": "python",
   "pygments_lexer": "ipython3",
   "version": "3.6.9"
  }
 },
 "nbformat": 4,
 "nbformat_minor": 2
}
