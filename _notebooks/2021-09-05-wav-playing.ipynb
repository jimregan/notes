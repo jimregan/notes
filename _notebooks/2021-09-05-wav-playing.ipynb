{
 "cells": [
  {
   "cell_type": "markdown",
   "metadata": {},
   "source": [
    "# Playing .wav files\n",
    "\n",
    "> \"Test notebook, nbterm over ssh\"\n",
    "\n",
    "- toc: false\n",
    "- branch: master\n",
    "- hidden: true\n",
    "- categories: [test]"
   ]
  },
  {
   "cell_type": "code",
   "execution_count": 1,
   "metadata": {},
   "outputs": [],
   "source": [
    "from pathlib import Path\n",
    "import wave\n",
    "ncb_path = Path(\"/media/storage/phonetics/corpas_ncb/corpas_full_split_210415/\")"
   ]
  },
  {
   "cell_type": "code",
   "execution_count": 2,
   "metadata": {},
   "outputs": [],
   "source": [
    "files = []\n",
    "for wf in ncb_path.glob(\"*.wav\"):\n",
    "    cur = {}\n",
    "    cur[\"id\"] = wf.stem\n",
    "    wav = wave.open(str(wf))\n",
    "    fr = wav.getframerate()\n",
    "    cur[\"framerate\"] = fr\n",
    "    cur[\"duration\"] = wav.getnframes() / fr\n",
    "    files.append(cur)"
   ]
  },
  {
   "cell_type": "code",
   "execution_count": 4,
   "metadata": {},
   "outputs": [],
   "source": [
    "import json\n",
    "with open(\"out.json\", \"w\") as outf:\n",
    "    json.dump(files, outf)"
   ]
  }
 ],
 "metadata": {
  "kernelspec": {
   "display_name": "Python 3",
   "language": "python",
   "name": "python3"
  },
  "language_info": {
   "codemirror_mode": {
    "name": "ipython",
    "version": 3
   },
   "file_extension": ".py",
   "mimetype": "text/x-python",
   "name": "python",
   "nbconvert_exporter": "python",
   "pygments_lexer": "ipython3",
   "version": "3.6.9"
  }
 },
 "nbformat": 4,
 "nbformat_minor": 4
}
