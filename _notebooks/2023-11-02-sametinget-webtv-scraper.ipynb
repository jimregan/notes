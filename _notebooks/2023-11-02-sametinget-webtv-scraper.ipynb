{
 "cells": [
  {
   "cell_type": "markdown",
   "metadata": {},
   "source": [
    "# \"Sametinget API explorations\"\n",
    "\n",
    "> \"Incomplete scraping attempt\"\n",
    "\n",
    "- toc: false\n",
    "- branch: master\n",
    "- hidden: true\n",
    "- categories: [sámi, sametinget, scraper]"
   ]
  },
  {
   "cell_type": "code",
   "execution_count": 1,
   "metadata": {},
   "outputs": [],
   "source": [
    "LANDING = \"https://sametinget.kommunetv.no/archive\""
   ]
  },
  {
   "cell_type": "code",
   "execution_count": 2,
   "metadata": {},
   "outputs": [],
   "source": [
    "import requests\n",
    "from bs4 import BeautifulSoup"
   ]
  },
  {
   "cell_type": "code",
   "execution_count": null,
   "metadata": {},
   "outputs": [],
   "source": [
    "SEARCH_PAGE = \"https://sametinget.kommunetv.no/api/search?noRetry=false&page=3&pageSize=12&type=Archive&hideResultTypes=true\""
   ]
  },
  {
   "cell_type": "code",
   "execution_count": 3,
   "metadata": {},
   "outputs": [],
   "source": [
    "SAMPLE_API = \"https://sametinget.kommunetv.no/api/streams?streamType=1&id=168\""
   ]
  },
  {
   "cell_type": "code",
   "execution_count": 4,
   "metadata": {},
   "outputs": [],
   "source": [
    "sample_req = requests.get(SAMPLE_API)"
   ]
  },
  {
   "cell_type": "code",
   "execution_count": null,
   "metadata": {},
   "outputs": [],
   "source": [
    "sample_req.content"
   ]
  },
  {
   "cell_type": "code",
   "execution_count": 8,
   "metadata": {},
   "outputs": [],
   "source": [
    "import json"
   ]
  },
  {
   "cell_type": "code",
   "execution_count": 9,
   "metadata": {},
   "outputs": [],
   "source": [
    "sample_data = json.loads(sample_req.content)"
   ]
  },
  {
   "cell_type": "code",
   "execution_count": 12,
   "metadata": {},
   "outputs": [
    {
     "data": {
      "text/plain": [
       "['stream',\n",
       " 'bookmarks',\n",
       " 'speakerEntries',\n",
       " 'messages',\n",
       " 'comments',\n",
       " 'playlist',\n",
       " 'proposals',\n",
       " 'references']"
      ]
     },
     "execution_count": 12,
     "metadata": {},
     "output_type": "execute_result"
    }
   ],
   "source": [
    "[x for x in sample_data.keys()]"
   ]
  },
  {
   "cell_type": "code",
   "execution_count": 15,
   "metadata": {},
   "outputs": [
    {
     "data": {
      "text/plain": [
       "['allowNewComments',\n",
       " 'assetId',\n",
       " 'assetCopyrightText',\n",
       " 'attachments',\n",
       " 'availableFrom',\n",
       " 'availableTo',\n",
       " 'categoryId',\n",
       " 'description',\n",
       " 'hideComments',\n",
       " 'id',\n",
       " 'imageUrl',\n",
       " 'publishDate',\n",
       " 'streamType',\n",
       " 'title',\n",
       " 'tupleId',\n",
       " 'views',\n",
       " 'externalCode',\n",
       " 'movieConfiguration',\n",
       " 'hidden',\n",
       " 'likes',\n",
       " 'dislikes']"
      ]
     },
     "execution_count": 15,
     "metadata": {},
     "output_type": "execute_result"
    }
   ],
   "source": [
    "[x for x in sample_data['stream'].keys()]"
   ]
  },
  {
   "cell_type": "code",
   "execution_count": 18,
   "metadata": {},
   "outputs": [
    {
     "data": {
      "text/plain": [
       "[]"
      ]
     },
     "execution_count": 18,
     "metadata": {},
     "output_type": "execute_result"
    }
   ],
   "source": [
    "sample_data['speakerEntries']"
   ]
  }
 ],
 "metadata": {
  "kernelspec": {
   "display_name": "nemo_tts",
   "language": "python",
   "name": "python3"
  },
  "language_info": {
   "codemirror_mode": {
    "name": "ipython",
    "version": 3
   },
   "file_extension": ".py",
   "mimetype": "text/x-python",
   "name": "python",
   "nbconvert_exporter": "python",
   "pygments_lexer": "ipython3",
   "version": "3.10.10"
  },
  "orig_nbformat": 4
 },
 "nbformat": 4,
 "nbformat_minor": 2
}
