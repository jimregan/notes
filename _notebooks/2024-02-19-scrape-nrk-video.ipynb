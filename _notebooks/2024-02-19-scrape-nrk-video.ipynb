{
  "cells": [
    {
      "cell_type": "markdown",
      "metadata": {},
      "source": [
        "# Scrape NRK videos\n",
        "\n",
        "> For a student project. Not needed, `youtube-dl` supports NRK\n",
        "\n",
        "- toc: false\n",
        "- hidden: true\n",
        "- branch: master\n",
        "- categories: [nrk, scraper]"
      ]
    },
    {
      "cell_type": "code",
      "execution_count": 4,
      "metadata": {
        "id": "pd2ylOcogian"
      },
      "outputs": [],
      "source": [
        "PAGE = \"https://tv.nrk.no/serie/samenes-nasjonaldag/2024/SAPP63008024/avspiller\""
      ]
    },
    {
      "cell_type": "code",
      "execution_count": 9,
      "metadata": {
        "id": "Z7zrYhixkW_c"
      },
      "outputs": [],
      "source": [
        "import requests\n",
        "import json\n",
        "def get_programme_data(page):\n",
        "    if page.endswith(\"/avspiller\"):\n",
        "        parts = page.split(\"/\")\n",
        "        programme_id = parts[-2]\n",
        "        res = requests.get(f\"https://psapi.nrk.no/playback/manifest/program/{programme_id}?eea-portability=true\")\n",
        "        if res.status_code == 200:\n",
        "            data = json.loads(res.text)\n",
        "            return data\n",
        "    return None"
      ]
    },
    {
      "cell_type": "code",
      "execution_count": 10,
      "metadata": {
        "id": "C9qfBaXzky1u"
      },
      "outputs": [],
      "source": [
        "res = get_programme_data(PAGE)"
      ]
    },
    {
      "cell_type": "code",
      "execution_count": 14,
      "metadata": {
        "colab": {
          "base_uri": "https://localhost:8080/"
        },
        "id": "Iullsp22k4sB",
        "outputId": "57ce85ca-51ab-4efd-dd27-a0762fff6c14"
      },
      "outputs": [
        {
          "data": {
            "text/plain": [
              "dict_keys(['_links', 'id', 'playability', 'streamingMode', 'availability', 'statistics', 'playable', 'nonPlayable', 'displayAspectRatio', 'sourceMedium'])"
            ]
          },
          "execution_count": 14,
          "metadata": {},
          "output_type": "execute_result"
        }
      ],
      "source": [
        "res.keys()"
      ]
    },
    {
      "cell_type": "code",
      "execution_count": 17,
      "metadata": {
        "id": "gJkw6C4TllUi"
      },
      "outputs": [],
      "source": [
        "def get_urls_from_programme_data(data):\n",
        "    output = {}\n",
        "    if not 'playable' in data:\n",
        "        return []\n",
        "    if not 'assets' in data['playable']:\n",
        "        return []\n",
        "    for asset in data['playable']['assets']:\n",
        "        if 'url' in asset:\n",
        "            output['m3u'] = asset['url']\n",
        "    if 'subtitles' in data['playable']:\n",
        "        subtitles = []\n",
        "        for st in data['playable']['subtitles']:\n",
        "            subtitles.append(st['webVtt'])\n",
        "        output['subtitles'] = subtitles\n",
        "    return output\n"
      ]
    },
    {
      "cell_type": "code",
      "execution_count": 18,
      "metadata": {
        "colab": {
          "base_uri": "https://localhost:8080/"
        },
        "id": "8jQrS19Yptwr",
        "outputId": "d1232ce7-b70b-402c-fc7b-93e5fd0444f0"
      },
      "outputs": [
        {
          "data": {
            "text/plain": [
              "{'m3u': 'https://nrkod46-cdn0-47115-odedge1.dna.contentdelivery.net/47115-odedge1/open/ps/sapp/sapp63008024/32342f4f-5.smil/index.m3u8?adap=small&s=0',\n",
              " 'subtitles': ['https://undertekst.nrk.no/SAPP63/00/SAPP63008024/NOR/SAPP63008024.vtt',\n",
              "  'https://undertekst.nrk.no/SAPP63/00/SAPP63008024/TTV/SAPP63008024.vtt']}"
            ]
          },
          "execution_count": 18,
          "metadata": {},
          "output_type": "execute_result"
        }
      ],
      "source": [
        "get_urls_from_programme_data(res)"
      ]
    }
  ],
  "metadata": {
    "colab": {
      "provenance": []
    },
    "kernelspec": {
      "display_name": "Python 3",
      "name": "python3"
    },
    "language_info": {
      "name": "python"
    }
  },
  "nbformat": 4,
  "nbformat_minor": 0
}
