{
 "cells": [
  {
   "cell_type": "code",
   "execution_count": 1,
   "id": "selective-style",
   "metadata": {
    "execution": {
     "iopub.execute_input": "2021-05-25T17:50:57.448385Z",
     "iopub.status.busy": "2021-05-25T17:50:57.447295Z",
     "iopub.status.idle": "2021-05-25T17:50:57.458259Z",
     "shell.execute_reply": "2021-05-25T17:50:57.458741Z",
     "shell.execute_reply.started": "2021-05-25T17:38:41.257731Z"
    },
    "papermill": {
     "duration": 0.027916,
     "end_time": "2021-05-25T17:50:57.458995",
     "exception": false,
     "start_time": "2021-05-25T17:50:57.431079",
     "status": "completed"
    },
    "tags": []
   },
   "outputs": [
    {
     "name": "stdout",
     "output_type": "stream",
     "text": [
      "/opt\n"
     ]
    }
   ],
   "source": [
    "%cd /opt"
   ]
  },
  {
   "cell_type": "code",
   "execution_count": 2,
   "id": "special-pasta",
   "metadata": {
    "_cell_guid": "b1076dfc-b9ad-4769-8c92-a6c4dae69d19",
    "_uuid": "8f2839f25d086af736a60e9eeb907d3b93b6e0e5",
    "execution": {
     "iopub.execute_input": "2021-05-25T17:50:57.502986Z",
     "iopub.status.busy": "2021-05-25T17:50:57.490619Z",
     "iopub.status.idle": "2021-05-25T17:51:38.254937Z",
     "shell.execute_reply": "2021-05-25T17:51:38.254353Z",
     "shell.execute_reply.started": "2021-05-25T17:38:41.278229Z"
    },
    "papermill": {
     "duration": 40.782781,
     "end_time": "2021-05-25T17:51:38.255092",
     "exception": false,
     "start_time": "2021-05-25T17:50:57.472311",
     "status": "completed"
    },
    "tags": []
   },
   "outputs": [],
   "source": [
    "%%capture\n",
    "!tar xvf /kaggle/input/extract-prebuilt-kaldi-from-docker/kaldi.tar"
   ]
  },
  {
   "cell_type": "code",
   "execution_count": 3,
   "id": "boolean-recording",
   "metadata": {
    "execution": {
     "iopub.execute_input": "2021-05-25T17:51:38.286951Z",
     "iopub.status.busy": "2021-05-25T17:51:38.286261Z",
     "iopub.status.idle": "2021-05-25T17:51:38.291670Z",
     "shell.execute_reply": "2021-05-25T17:51:38.290440Z",
     "shell.execute_reply.started": "2021-05-25T17:39:29.136058Z"
    },
    "papermill": {
     "duration": 0.023271,
     "end_time": "2021-05-25T17:51:38.291839",
     "exception": false,
     "start_time": "2021-05-25T17:51:38.268568",
     "status": "completed"
    },
    "tags": []
   },
   "outputs": [
    {
     "name": "stdout",
     "output_type": "stream",
     "text": [
      "/opt/kaldi/egs\n"
     ]
    }
   ],
   "source": [
    "%cd kaldi/egs"
   ]
  },
  {
   "cell_type": "code",
   "execution_count": 4,
   "id": "racial-ebony",
   "metadata": {
    "execution": {
     "iopub.execute_input": "2021-05-25T17:51:38.329158Z",
     "iopub.status.busy": "2021-05-25T17:51:38.328474Z",
     "iopub.status.idle": "2021-05-25T17:51:44.072658Z",
     "shell.execute_reply": "2021-05-25T17:51:44.073150Z",
     "shell.execute_reply.started": "2021-05-25T17:39:29.147976Z"
    },
    "papermill": {
     "duration": 5.766206,
     "end_time": "2021-05-25T17:51:44.073329",
     "exception": false,
     "start_time": "2021-05-25T17:51:38.307123",
     "status": "completed"
    },
    "tags": []
   },
   "outputs": [
    {
     "name": "stdout",
     "output_type": "stream",
     "text": [
      "Cloning into 'ClarinStudioKaldi'...\r\n",
      "remote: Enumerating objects: 778, done.\u001b[K\r\n",
      "remote: Counting objects: 100% (3/3), done.\u001b[K\r\n",
      "remote: Compressing objects: 100% (3/3), done.\u001b[K\r\n",
      "remote: Total 778 (delta 0), reused 0 (delta 0), pack-reused 775\u001b[K\r\n",
      "Receiving objects: 100% (778/778), 35.26 MiB | 19.10 MiB/s, done.\r\n",
      "Resolving deltas: 100% (262/262), done.\r\n"
     ]
    }
   ],
   "source": [
    "!git clone https://github.com/danijel3/ClarinStudioKaldi"
   ]
  },
  {
   "cell_type": "code",
   "execution_count": 5,
   "id": "extreme-shannon",
   "metadata": {
    "execution": {
     "iopub.execute_input": "2021-05-25T17:51:44.109910Z",
     "iopub.status.busy": "2021-05-25T17:51:44.109315Z",
     "iopub.status.idle": "2021-05-25T17:51:44.116088Z",
     "shell.execute_reply": "2021-05-25T17:51:44.116625Z",
     "shell.execute_reply.started": "2021-05-25T17:39:33.484146Z"
    },
    "papermill": {
     "duration": 0.026534,
     "end_time": "2021-05-25T17:51:44.116785",
     "exception": false,
     "start_time": "2021-05-25T17:51:44.090251",
     "status": "completed"
    },
    "tags": []
   },
   "outputs": [
    {
     "name": "stdout",
     "output_type": "stream",
     "text": [
      "/opt/kaldi/egs/ClarinStudioKaldi\n"
     ]
    }
   ],
   "source": [
    "%cd ClarinStudioKaldi"
   ]
  },
  {
   "cell_type": "code",
   "execution_count": 6,
   "id": "ahead-mouth",
   "metadata": {
    "execution": {
     "iopub.execute_input": "2021-05-25T17:51:44.161497Z",
     "iopub.status.busy": "2021-05-25T17:51:44.157451Z",
     "iopub.status.idle": "2021-05-25T17:54:13.201628Z",
     "shell.execute_reply": "2021-05-25T17:54:13.202334Z",
     "shell.execute_reply.started": "2021-05-25T17:39:33.493317Z"
    },
    "papermill": {
     "duration": 149.068443,
     "end_time": "2021-05-25T17:54:13.202790",
     "exception": false,
     "start_time": "2021-05-25T17:51:44.134347",
     "status": "completed"
    },
    "tags": []
   },
   "outputs": [],
   "source": [
    "%%capture\n",
    "!conda install -c bioconda perl-perlio-gzip -y"
   ]
  },
  {
   "cell_type": "code",
   "execution_count": 7,
   "id": "continent-project",
   "metadata": {
    "execution": {
     "iopub.execute_input": "2021-05-25T17:54:13.243767Z",
     "iopub.status.busy": "2021-05-25T17:54:13.243091Z",
     "iopub.status.idle": "2021-05-25T17:54:13.249114Z",
     "shell.execute_reply": "2021-05-25T17:54:13.248453Z",
     "shell.execute_reply.started": "2021-05-25T17:41:52.076269Z"
    },
    "papermill": {
     "duration": 0.027226,
     "end_time": "2021-05-25T17:54:13.249240",
     "exception": false,
     "start_time": "2021-05-25T17:54:13.222014",
     "status": "completed"
    },
    "tags": []
   },
   "outputs": [],
   "source": [
    "import os\n",
    "os.environ['LD_LIBRARY_PATH'] = '/opt/conda/lib:/opt/kaldi/tools/openfst-1.6.7/lib:/opt/kaldi/src/lib'"
   ]
  },
  {
   "cell_type": "code",
   "execution_count": 8,
   "id": "timely-actor",
   "metadata": {
    "execution": {
     "iopub.execute_input": "2021-05-25T17:54:13.286301Z",
     "iopub.status.busy": "2021-05-25T17:54:13.285723Z",
     "iopub.status.idle": "2021-05-25T17:54:14.732449Z",
     "shell.execute_reply": "2021-05-25T17:54:14.731942Z",
     "shell.execute_reply.started": "2021-05-25T17:41:52.084223Z"
    },
    "papermill": {
     "duration": 1.466275,
     "end_time": "2021-05-25T17:54:14.732602",
     "exception": false,
     "start_time": "2021-05-25T17:54:13.266327",
     "status": "completed"
    },
    "tags": []
   },
   "outputs": [],
   "source": [
    "!cat path.sh|sed -e 's/~\\/apps/\\/opt/' > tmp\n",
    "!mv tmp path.sh"
   ]
  },
  {
   "cell_type": "code",
   "execution_count": 9,
   "id": "cooperative-internship",
   "metadata": {
    "execution": {
     "iopub.execute_input": "2021-05-25T17:54:14.776053Z",
     "iopub.status.busy": "2021-05-25T17:54:14.772022Z",
     "iopub.status.idle": "2021-05-25T17:54:15.475197Z",
     "shell.execute_reply": "2021-05-25T17:54:15.474516Z",
     "shell.execute_reply.started": "2021-05-25T17:41:53.567245Z"
    },
    "papermill": {
     "duration": 0.725441,
     "end_time": "2021-05-25T17:54:15.475336",
     "exception": false,
     "start_time": "2021-05-25T17:54:14.749895",
     "status": "completed"
    },
    "tags": []
   },
   "outputs": [],
   "source": [
    "!echo > local_clarin/clarin_pl_clean.sh"
   ]
  },
  {
   "cell_type": "code",
   "execution_count": 10,
   "id": "consecutive-amber",
   "metadata": {
    "execution": {
     "iopub.execute_input": "2021-05-25T17:54:15.522607Z",
     "iopub.status.busy": "2021-05-25T17:54:15.521913Z",
     "iopub.status.idle": "2021-05-25T17:54:18.368620Z",
     "shell.execute_reply": "2021-05-25T17:54:18.368046Z",
     "shell.execute_reply.started": "2021-05-25T17:41:54.312456Z"
    },
    "papermill": {
     "duration": 2.875625,
     "end_time": "2021-05-25T17:54:18.368769",
     "exception": false,
     "start_time": "2021-05-25T17:54:15.493144",
     "status": "completed"
    },
    "tags": []
   },
   "outputs": [],
   "source": [
    "!ln -s ../wsj/s5/steps\n",
    "!ln -s ../wsj/s5/conf\n",
    "!ln -s ../wsj/s5/local\n",
    "!ln -s ../wsj/s5/utils"
   ]
  },
  {
   "cell_type": "code",
   "execution_count": 11,
   "id": "piano-privilege",
   "metadata": {
    "execution": {
     "iopub.execute_input": "2021-05-25T17:54:18.415684Z",
     "iopub.status.busy": "2021-05-25T17:54:18.411596Z",
     "iopub.status.idle": "2021-05-25T17:56:09.312390Z",
     "shell.execute_reply": "2021-05-25T17:56:09.311477Z",
     "shell.execute_reply.started": "2021-05-25T17:41:57.206175Z"
    },
    "papermill": {
     "duration": 110.926203,
     "end_time": "2021-05-25T17:56:09.312642",
     "exception": false,
     "start_time": "2021-05-25T17:54:18.386439",
     "status": "completed"
    },
    "tags": []
   },
   "outputs": [],
   "source": [
    "!cp -r /kaggle/input/kaldi-clarinstudio-polish-train-gmm/data /kaggle/working/\n",
    "!cp -r /kaggle/input/kaldi-clarinstudio-polish-train-gmm/exp /kaggle/working/"
   ]
  },
  {
   "cell_type": "code",
   "execution_count": 12,
   "id": "transsexual-signature",
   "metadata": {
    "execution": {
     "iopub.execute_input": "2021-05-25T17:56:09.376149Z",
     "iopub.status.busy": "2021-05-25T17:56:09.375444Z",
     "iopub.status.idle": "2021-05-25T17:56:10.818474Z",
     "shell.execute_reply": "2021-05-25T17:56:10.818969Z",
     "shell.execute_reply.started": "2021-05-25T17:43:40.959798Z"
    },
    "papermill": {
     "duration": 1.464416,
     "end_time": "2021-05-25T17:56:10.819145",
     "exception": false,
     "start_time": "2021-05-25T17:56:09.354729",
     "status": "completed"
    },
    "tags": []
   },
   "outputs": [],
   "source": [
    "!ln -s /kaggle/working/exp\n",
    "!ln -s /kaggle/working/data"
   ]
  },
  {
   "cell_type": "code",
   "execution_count": 13,
   "id": "continuous-wrapping",
   "metadata": {
    "execution": {
     "iopub.execute_input": "2021-05-25T17:56:10.862402Z",
     "iopub.status.busy": "2021-05-25T17:56:10.861375Z",
     "iopub.status.idle": "2021-05-25T17:56:10.866299Z",
     "shell.execute_reply": "2021-05-25T17:56:10.865789Z",
     "shell.execute_reply.started": "2021-05-25T17:43:42.408401Z"
    },
    "papermill": {
     "duration": 0.029268,
     "end_time": "2021-05-25T17:56:10.866421",
     "exception": false,
     "start_time": "2021-05-25T17:56:10.837153",
     "status": "completed"
    },
    "tags": []
   },
   "outputs": [
    {
     "name": "stdout",
     "output_type": "stream",
     "text": [
      "Overwriting run.sh\n"
     ]
    }
   ],
   "source": [
    "%%writefile run.sh\n",
    ". path.sh\n",
    "\n",
    "export nj=40 ##number of concurrent processes\n",
    "export nj_test=30 ## number of concurrent processes for test has to be <=30\n",
    "\n",
    "#Performing tests on all the above systems:\n",
    "\n",
    "\n",
    "#test MMI\n",
    "steps/decode_fmllr.sh --nj $nj_test exp/tri3b/graph data/test exp/tri3b_mmi/decode\n",
    "\n",
    "#decode MMI using wider beam\n",
    "steps/decode_fmllr.sh --nj $nj_test --beam 24 --lattice-beam 12 \\\n",
    "  exp/tri3b/graph data/test exp/tri3b_mmi/decode_wb\n",
    "\n",
    "#compute the oracle on the last decoding result - to see how much is possible using these lattices\n",
    "./steps/oracle_wer.sh data/test data/lang exp/tri3b_mmi/decode_wb\n",
    "\n",
    "#perform rescoring using the large LM in carpa format (much faster than regular arpa)\n",
    "./steps/lmrescore_const_arpa.sh data/lang_test data/lang_carpa data/test exp/tri3b_mmi/decode_wb exp/tri3b_mmi/decode_rs\n",
    "\n",
    "find exp -name best_wer | while read f ; do cat $f ; done | sort -k2nr\n",
    "find exp -name oracle_wer | while read f ; do echo -n \"$f: \" ; cat $f ; done | sort -k2nr"
   ]
  },
  {
   "cell_type": "code",
   "execution_count": 14,
   "id": "monetary-closure",
   "metadata": {
    "execution": {
     "iopub.execute_input": "2021-05-25T17:56:10.906322Z",
     "iopub.status.busy": "2021-05-25T17:56:10.905640Z",
     "iopub.status.idle": "2021-05-25T17:56:11.642941Z",
     "shell.execute_reply": "2021-05-25T17:56:11.643497Z",
     "shell.execute_reply.started": "2021-05-25T17:48:00.494427Z"
    },
    "papermill": {
     "duration": 0.758752,
     "end_time": "2021-05-25T17:56:11.643742",
     "exception": false,
     "start_time": "2021-05-25T17:56:10.884990",
     "status": "completed"
    },
    "tags": []
   },
   "outputs": [],
   "source": [
    "# in the last notebook, I tried to zip the symbolic links, forgetting the directory itself was one\n",
    "!cp exp/tri3b_mmi/4.mdl exp/tri3b_mmi/final.mdl"
   ]
  },
  {
   "cell_type": "code",
   "execution_count": 15,
   "id": "adverse-specific",
   "metadata": {
    "execution": {
     "iopub.execute_input": "2021-05-25T17:56:11.683943Z",
     "iopub.status.busy": "2021-05-25T17:56:11.683190Z",
     "iopub.status.idle": "2021-05-25T21:06:55.779710Z",
     "shell.execute_reply": "2021-05-25T21:06:55.780437Z"
    },
    "papermill": {
     "duration": 11444.11896,
     "end_time": "2021-05-25T21:06:55.780938",
     "exception": false,
     "start_time": "2021-05-25T17:56:11.661978",
     "status": "completed"
    },
    "tags": []
   },
   "outputs": [
    {
     "name": "stdout",
     "output_type": "stream",
     "text": [
      "steps/decode_fmllr.sh --nj 30 exp/tri3b/graph data/test exp/tri3b_mmi/decode\r\n",
      "steps/decode.sh --scoring-opts  --num-threads 1 --skip-scoring false --acwt 0.083333 --nj 30 --cmd run.pl --beam 10.0 --model exp/tri3b_mmi/final.mdl --max-active 2000 exp/tri3b/graph data/test exp/tri3b_mmi/decode.si\r\n",
      "decode.sh: feature type is lda\r\n",
      "steps/diagnostic/analyze_lats.sh --cmd run.pl exp/tri3b/graph exp/tri3b_mmi/decode.si\r\n",
      "steps/diagnostic/analyze_lats.sh: see stats in exp/tri3b_mmi/decode.si/log/analyze_alignments.log\r\n",
      "Overall, lattice depth (10,50,90-percentile)=(1,2,8) and mean=4.1\r\n",
      "steps/diagnostic/analyze_lats.sh: see stats in exp/tri3b_mmi/decode.si/log/analyze_lattice_depth_stats.log\r\n",
      "local/score.sh --cmd run.pl data/test exp/tri3b/graph exp/tri3b_mmi/decode.si\r\n",
      "local/score.sh: scoring with word insertion penalty=0.0,0.5,1.0\r\n",
      "steps/decode_fmllr.sh: feature type is lda\r\n",
      "steps/decode_fmllr.sh: getting first-pass fMLLR transforms.\r\n",
      "steps/decode_fmllr.sh: doing main lattice generation phase\r\n",
      "steps/decode_fmllr.sh: estimating fMLLR transforms a second time.\r\n",
      "steps/decode_fmllr.sh: doing a final pass of acoustic rescoring.\r\n",
      "steps/diagnostic/analyze_lats.sh --cmd run.pl exp/tri3b/graph exp/tri3b_mmi/decode\r\n",
      "steps/diagnostic/analyze_lats.sh: see stats in exp/tri3b_mmi/decode/log/analyze_alignments.log\r\n",
      "Overall, lattice depth (10,50,90-percentile)=(1,2,6) and mean=2.9\r\n",
      "steps/diagnostic/analyze_lats.sh: see stats in exp/tri3b_mmi/decode/log/analyze_lattice_depth_stats.log\r\n",
      "local/score.sh --cmd run.pl data/test exp/tri3b/graph exp/tri3b_mmi/decode\r\n",
      "local/score.sh: scoring with word insertion penalty=0.0,0.5,1.0\r\n",
      "steps/decode_fmllr.sh --nj 30 --beam 24 --lattice-beam 12 exp/tri3b/graph data/test exp/tri3b_mmi/decode_wb\r\n",
      "steps/decode.sh --scoring-opts  --num-threads 1 --skip-scoring false --acwt 0.083333 --nj 30 --cmd run.pl --beam 10.0 --model exp/tri3b_mmi/final.mdl --max-active 2000 exp/tri3b/graph data/test exp/tri3b_mmi/decode_wb.si\r\n",
      "decode.sh: feature type is lda\r\n",
      "steps/diagnostic/analyze_lats.sh --cmd run.pl exp/tri3b/graph exp/tri3b_mmi/decode_wb.si\r\n",
      "steps/diagnostic/analyze_lats.sh: see stats in exp/tri3b_mmi/decode_wb.si/log/analyze_alignments.log\r\n",
      "Overall, lattice depth (10,50,90-percentile)=(1,2,8) and mean=4.1\r\n",
      "steps/diagnostic/analyze_lats.sh: see stats in exp/tri3b_mmi/decode_wb.si/log/analyze_lattice_depth_stats.log\r\n",
      "local/score.sh --cmd run.pl data/test exp/tri3b/graph exp/tri3b_mmi/decode_wb.si\r\n",
      "local/score.sh: scoring with word insertion penalty=0.0,0.5,1.0\r\n",
      "steps/decode_fmllr.sh: feature type is lda\r\n",
      "steps/decode_fmllr.sh: getting first-pass fMLLR transforms.\r\n",
      "steps/decode_fmllr.sh: doing main lattice generation phase\r\n",
      "steps/decode_fmllr.sh: estimating fMLLR transforms a second time.\r\n",
      "steps/decode_fmllr.sh: doing a final pass of acoustic rescoring.\r\n",
      "steps/diagnostic/analyze_lats.sh --cmd run.pl exp/tri3b/graph exp/tri3b_mmi/decode_wb\r\n",
      "steps/diagnostic/analyze_lats.sh: see stats in exp/tri3b_mmi/decode_wb/log/analyze_alignments.log\r\n",
      "Overall, lattice depth (10,50,90-percentile)=(2,9,43) and mean=21.3\r\n",
      "steps/diagnostic/analyze_lats.sh: see stats in exp/tri3b_mmi/decode_wb/log/analyze_lattice_depth_stats.log\r\n",
      "local/score.sh --cmd run.pl data/test exp/tri3b/graph exp/tri3b_mmi/decode_wb\r\n",
      "local/score.sh: scoring with word insertion penalty=0.0,0.5,1.0\r\n",
      "./steps/oracle_wer.sh data/test data/lang exp/tri3b_mmi/decode_wb\r\n",
      "./steps/oracle_wer.sh: measuring lattice depth\r\n",
      "Depth is: 21.33 ( 38844570 / 1820982 )\r\n",
      "./steps/oracle_wer.sh: measuring lattice oracle WER\r\n",
      "Oracle WER is: 1.22% [ 353 / 29043, 127 insertions, 21 deletions, 205 substitutions ]\r\n",
      "./steps/lmrescore_const_arpa.sh data/lang_test data/lang_carpa data/test exp/tri3b_mmi/decode_wb exp/tri3b_mmi/decode_rs\r\n",
      "local/score.sh --cmd run.pl data/test data/lang_carpa exp/tri3b_mmi/decode_rs\r\n",
      "local/score.sh: scoring with word insertion penalty=0.0,0.5,1.0\r\n"
     ]
    }
   ],
   "source": [
    "!bash run.sh"
   ]
  }
 ],
 "metadata": {
  "kernelspec": {
   "display_name": "Python 3",
   "language": "python",
   "name": "python3"
  },
  "language_info": {
   "codemirror_mode": {
    "name": "ipython",
    "version": 3
   },
   "file_extension": ".py",
   "mimetype": "text/x-python",
   "name": "python",
   "nbconvert_exporter": "python",
   "pygments_lexer": "ipython3",
   "version": "3.7.10"
  },
  "papermill": {
   "default_parameters": {},
   "duration": 11766.845354,
   "end_time": "2021-05-25T21:06:56.639509",
   "environment_variables": {},
   "exception": null,
   "input_path": "__notebook__.ipynb",
   "output_path": "__notebook__.ipynb",
   "parameters": {},
   "start_time": "2021-05-25T17:50:49.794155",
   "version": "2.3.3"
  }
 },
 "nbformat": 4,
 "nbformat_minor": 5
}
