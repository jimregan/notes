{
 "cells": [
  {
   "cell_type": "markdown",
   "metadata": {},
   "source": [
    "# Clean audio\n",
    "\n",
    "> \"Zeroing out segments from a tsv\"\n",
    "\n",
    "- branch: master\n",
    "- comments: false\n",
    "- categories: [in progress, hsi, torchaudio, cleaning]"
   ]
  },
  {
   "cell_type": "code",
   "execution_count": 11,
   "metadata": {},
   "outputs": [],
   "source": [
    "import torchaudio\n",
    "\n",
    "# this assumes audacity-style tsv: start, end, text\n",
    "def read_tsv(filename):\n",
    "    times = []\n",
    "    with open(filename) as tsvf:\n",
    "        for line in tsvf.readlines():\n",
    "            line = line.strip()\n",
    "            if not \"\\t\" in line:\n",
    "                continue\n",
    "            parts = line.split(\"\\t\")\n",
    "            times.append((parts[0], parts[1]))\n",
    "    return times\n",
    "\n",
    "\n",
    "def clean_audio_from_list(wavfile, outputwav, times):\n",
    "    waveform, sample_rate = torchaudio.load(wavfile)\n",
    "    for time in times:\n",
    "        start = int(time[0] * sample_rate)\n",
    "        end = int(time[1] * sample_rate)\n",
    "        waveform[:, start:end] = 0.0\n",
    "    torchaudio.save(outputwav, waveform, sample_rate)\n"
   ]
  },
  {
   "cell_type": "code",
   "execution_count": 2,
   "metadata": {},
   "outputs": [],
   "source": [
    "input = \"/Users/joregan/Playing/hsi/audio/hsi_5_0718_210_003_main.wav\"\n",
    "output = \"/tmp/clean.wav\""
   ]
  },
  {
   "cell_type": "code",
   "execution_count": 13,
   "metadata": {},
   "outputs": [],
   "source": [
    "dummy = [\n",
    "    (15.360, 15.835),\n",
    "    (41.120, 42.115),\n",
    "    (76.211, 76.840),\n",
    "    (455.737, 455.845)\n",
    "]"
   ]
  },
  {
   "cell_type": "code",
   "execution_count": null,
   "metadata": {},
   "outputs": [],
   "source": [
    "clean_audio_from_list(input, output, dummy)"
   ]
  }
 ],
 "metadata": {
  "language_info": {
   "name": "python"
  }
 },
 "nbformat": 4,
 "nbformat_minor": 2
}
