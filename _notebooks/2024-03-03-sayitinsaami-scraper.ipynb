{
  "cells": [
    {
      "cell_type": "markdown",
      "metadata": {
        "id": "H-MGAb9kwUJ1"
      },
      "source": [
        "# sayitinsaami.yle.fi scraper\n",
        "\n",
        "> \"For a DT2112 project\"\n",
        "\n",
        "- toc: false\n",
        "- branch: master\n",
        "- hidden: true\n",
        "- categories: [sami, scraper, dt2112]"
      ]
    },
    {
      "cell_type": "code",
      "execution_count": 1,
      "metadata": {
        "id": "jGHqN2YcwUJ2"
      },
      "outputs": [],
      "source": [
        "JSON = \"http://sayitinsaami.yle.fi/js/fraasit.js?2019-02-15\""
      ]
    },
    {
      "cell_type": "code",
      "execution_count": 2,
      "metadata": {
        "id": "j5u4G-8RwUJ2"
      },
      "outputs": [],
      "source": [
        "import requests"
      ]
    },
    {
      "cell_type": "code",
      "execution_count": 3,
      "metadata": {
        "id": "FQTeKkwlwUJ2"
      },
      "outputs": [],
      "source": [
        "rawdata = requests.get(JSON)"
      ]
    },
    {
      "cell_type": "code",
      "execution_count": 4,
      "metadata": {
        "id": "dSxLLwQnwUJ2"
      },
      "outputs": [],
      "source": [
        "to_clean = rawdata.text\n",
        "to_clean = to_clean.replace(\" f:\", ' \"f\":').replace(\" fi:\", ' \"fi\":').replace(\" sv:\", ' \"sv\":').replace(\" en:\", ' \"en\":').replace(\" sme:\", ' \"sme\":').replace(\" smn:\", ' \"smn\":').replace(\" sms:\", ' \"sms\":').replace(\" cats:\", ' \"cats\":')"
      ]
    },
    {
      "cell_type": "code",
      "execution_count": 5,
      "metadata": {
        "id": "4IqVyKn-wUJ3"
      },
      "outputs": [],
      "source": [
        "if to_clean.startswith(\"FRAASIT = \"):\n",
        "    to_clean = to_clean[10:]\n",
        "to_clean = to_clean.strip()\n",
        "if to_clean.endswith(\"},\\n]\"):\n",
        "    to_clean = to_clean.replace(\"},\\n]\", \"}]\")\n"
      ]
    },
    {
      "cell_type": "code",
      "execution_count": 6,
      "metadata": {
        "id": "XwYo0iLDwUJ3"
      },
      "outputs": [],
      "source": [
        "import json\n",
        "data = json.loads(to_clean)"
      ]
    },
    {
      "cell_type": "code",
      "execution_count": 8,
      "metadata": {
        "id": "pj_eUtYjwUJ3"
      },
      "outputs": [],
      "source": [
        "with open(\"output.tsv\", \"w\") as outf:\n",
        "    for item in data:\n",
        "        outf.write(f'{item[\"sme\"]}\\thttp://sanosesaameksi.katrikoivula.com/audio/sme/{item[\"f\"]}.m4a\\n')"
      ]
    },
    {
      "cell_type": "code",
      "source": [
        "!cat output.tsv|awk -F'\\t' '{print $2}'|while read i;do f=$(echo $i|awk -F/ '{print $NF}'); if [ ! -e $f ];then wget -c $i;fi;done"
      ],
      "metadata": {
        "id": "H5p36QSZwm08"
      },
      "execution_count": 13,
      "outputs": []
    },
    {
      "cell_type": "code",
      "source": [
        "with open(\"sayitinsaami.json\", \"w\") as cleaned:\n",
        "    json.dump(data, cleaned)"
      ],
      "metadata": {
        "id": "XfFR3k6-yMqV"
      },
      "execution_count": 14,
      "outputs": []
    },
    {
      "cell_type": "code",
      "source": [
        "!ls *.m4a|zip sayitinsaami_audio.zip -@"
      ],
      "metadata": {
        "id": "PFqsx9syyU2z"
      },
      "execution_count": null,
      "outputs": []
    },
    {
      "cell_type": "code",
      "source": [
        "!for f in *.m4a;do ffmpeg -i $f  -acodec pcm_s16le -ac 1 -ar 16000 $(basename $f .m4a).wav;done"
      ],
      "metadata": {
        "id": "8dH0a-Uh0aLk"
      },
      "execution_count": null,
      "outputs": []
    },
    {
      "cell_type": "code",
      "source": [
        "!ls -al *.wav"
      ],
      "metadata": {
        "id": "gL0QYfIe1QmY"
      },
      "execution_count": null,
      "outputs": []
    },
    {
      "cell_type": "code",
      "source": [
        "text = []\n",
        "audio = []\n",
        "for item in data:\n",
        "    text.append(item[\"sme\"])\n",
        "    audio.append(f'{item[\"f\"]}.wav')"
      ],
      "metadata": {
        "id": "t99bSHEqyz0C"
      },
      "execution_count": 32,
      "outputs": []
    },
    {
      "cell_type": "code",
      "source": [
        "%%capture\n",
        "!pip install datasets"
      ],
      "metadata": {
        "id": "Y-Y2yN4ezXKU"
      },
      "execution_count": 20,
      "outputs": []
    },
    {
      "cell_type": "code",
      "source": [
        "%%capture\n",
        "!pip install torchaudio librosa"
      ],
      "metadata": {
        "id": "NA9KMQ7g0Da0"
      },
      "execution_count": 28,
      "outputs": []
    },
    {
      "cell_type": "code",
      "source": [
        "from datasets import Dataset, Audio"
      ],
      "metadata": {
        "id": "_s90j9_5ze-X"
      },
      "execution_count": 23,
      "outputs": []
    },
    {
      "cell_type": "code",
      "source": [
        "audio_ds = Dataset.from_dict({\"text\": text, \"audio\": audio}).cast_column(\"audio\", Audio())"
      ],
      "metadata": {
        "id": "wvKaXgcmzmWJ"
      },
      "execution_count": 33,
      "outputs": []
    },
    {
      "cell_type": "code",
      "source": [
        "audio_ds[1]"
      ],
      "metadata": {
        "id": "K848XFuBz7BC"
      },
      "execution_count": null,
      "outputs": []
    }
  ],
  "metadata": {
    "kernelspec": {
      "display_name": "ctcseg",
      "language": "python",
      "name": "python3"
    },
    "language_info": {
      "codemirror_mode": {
        "name": "ipython",
        "version": 3
      },
      "file_extension": ".py",
      "mimetype": "text/x-python",
      "name": "python",
      "nbconvert_exporter": "python",
      "pygments_lexer": "ipython3",
      "version": "3.10.4"
    },
    "colab": {
      "provenance": []
    }
  },
  "nbformat": 4,
  "nbformat_minor": 0
}