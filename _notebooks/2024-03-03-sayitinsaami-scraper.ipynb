{
  "cells": [
    {
      "cell_type": "markdown",
      "metadata": {
        "id": "H-MGAb9kwUJ1"
      },
      "source": [
        "# sayitinsaami.yle.fi scraper\n",
        "\n",
        "> \"For a DT2112 project\"\n",
        "\n",
        "- toc: false\n",
        "- branch: master\n",
        "- hidden: true\n",
        "- categories: [sami, scraper, dt2112]"
      ]
    },
    {
      "cell_type": "code",
      "execution_count": 1,
      "metadata": {
        "id": "jGHqN2YcwUJ2"
      },
      "outputs": [],
      "source": [
        "JSON = \"http://sayitinsaami.yle.fi/js/fraasit.js?2019-02-15\""
      ]
    },
    {
      "cell_type": "code",
      "execution_count": 2,
      "metadata": {
        "id": "j5u4G-8RwUJ2"
      },
      "outputs": [],
      "source": [
        "import requests"
      ]
    },
    {
      "cell_type": "code",
      "execution_count": 3,
      "metadata": {
        "id": "FQTeKkwlwUJ2"
      },
      "outputs": [],
      "source": [
        "rawdata = requests.get(JSON)"
      ]
    },
    {
      "cell_type": "code",
      "execution_count": 4,
      "metadata": {
        "id": "dSxLLwQnwUJ2"
      },
      "outputs": [],
      "source": [
        "to_clean = rawdata.text\n",
        "to_clean = to_clean.replace(\" f:\", ' \"f\":').replace(\" fi:\", ' \"fi\":').replace(\" sv:\", ' \"sv\":').replace(\" en:\", ' \"en\":').replace(\" sme:\", ' \"sme\":').replace(\" smn:\", ' \"smn\":').replace(\" sms:\", ' \"sms\":').replace(\" cats:\", ' \"cats\":')"
      ]
    },
    {
      "cell_type": "code",
      "execution_count": 5,
      "metadata": {
        "id": "4IqVyKn-wUJ3"
      },
      "outputs": [],
      "source": [
        "if to_clean.startswith(\"FRAASIT = \"):\n",
        "    to_clean = to_clean[10:]\n",
        "to_clean = to_clean.strip()\n",
        "if to_clean.endswith(\"},\\n]\"):\n",
        "    to_clean = to_clean.replace(\"},\\n]\", \"}]\")\n"
      ]
    },
    {
      "cell_type": "code",
      "execution_count": 6,
      "metadata": {
        "id": "XwYo0iLDwUJ3"
      },
      "outputs": [],
      "source": [
        "import json\n",
        "data = json.loads(to_clean)"
      ]
    },
    {
      "cell_type": "code",
      "execution_count": 8,
      "metadata": {
        "id": "pj_eUtYjwUJ3"
      },
      "outputs": [],
      "source": [
        "with open(\"sayitinsaami_output.tsv\", \"w\") as outf:\n",
        "    for item in data:\n",
        "        outf.write(f'{item[\"sme\"]}\\thttp://sanosesaameksi.katrikoivula.com/audio/sme/{item[\"f\"]}.m4a\\n')"
      ]
    },
    {
      "cell_type": "code",
      "execution_count": 13,
      "metadata": {
        "id": "H5p36QSZwm08"
      },
      "outputs": [],
      "source": [
        "!cat output.tsv|awk -F'\\t' '{print $2}'|while read i;do f=$(echo $i|awk -F/ '{print $NF}'); if [ ! -e $f ];then wget -c $i;fi;done"
      ]
    },
    {
      "cell_type": "code",
      "execution_count": 14,
      "metadata": {
        "id": "XfFR3k6-yMqV"
      },
      "outputs": [],
      "source": [
        "with open(\"sayitinsaami.json\", \"w\") as cleaned:\n",
        "    json.dump(data, cleaned)"
      ]
    },
    {
      "cell_type": "code",
      "execution_count": null,
      "metadata": {
        "id": "PFqsx9syyU2z"
      },
      "outputs": [],
      "source": [
        "!ls *.m4a|zip sayitinsaami_audio.zip -@"
      ]
    },
    {
      "cell_type": "code",
      "execution_count": null,
      "metadata": {
        "id": "8dH0a-Uh0aLk"
      },
      "outputs": [],
      "source": [
        "!for f in *.m4a;do ffmpeg -i $f  -acodec pcm_s16le -ac 1 -ar 16000 $(basename $f .m4a).wav;done"
      ]
    },
    {
      "cell_type": "code",
      "execution_count": null,
      "metadata": {
        "id": "gL0QYfIe1QmY"
      },
      "outputs": [],
      "source": [
        "!ls -al *.wav"
      ]
    },
    {
      "cell_type": "code",
      "execution_count": 32,
      "metadata": {
        "id": "t99bSHEqyz0C"
      },
      "outputs": [],
      "source": [
        "text = []\n",
        "audio = []\n",
        "for item in data:\n",
        "    text.append(item[\"sme\"])\n",
        "    audio.append(f'{item[\"f\"]}.wav')"
      ]
    },
    {
      "cell_type": "code",
      "execution_count": 1,
      "metadata": {
        "id": "Y-Y2yN4ezXKU"
      },
      "outputs": [],
      "source": [
        "%%capture\n",
        "!pip install datasets"
      ]
    },
    {
      "cell_type": "code",
      "execution_count": 28,
      "metadata": {
        "id": "NA9KMQ7g0Da0"
      },
      "outputs": [],
      "source": [
        "%%capture\n",
        "!pip install torchaudio librosa"
      ]
    },
    {
      "cell_type": "code",
      "execution_count": 2,
      "metadata": {
        "id": "_s90j9_5ze-X"
      },
      "outputs": [
        {
          "name": "stderr",
          "output_type": "stream",
          "text": [
            "/home/joregan/miniconda3/envs/hf_new/lib/python3.11/site-packages/tqdm/auto.py:21: TqdmWarning: IProgress not found. Please update jupyter and ipywidgets. See https://ipywidgets.readthedocs.io/en/stable/user_install.html\n",
            "  from .autonotebook import tqdm as notebook_tqdm\n"
          ]
        }
      ],
      "source": [
        "from datasets import Dataset, Audio"
      ]
    },
    {
      "cell_type": "code",
      "execution_count": 6,
      "metadata": {},
      "outputs": [],
      "source": [
        "text = []\n",
        "audio = []\n",
        "with open(\"/home/joregan/sayitinsaami/sayitinsaami_output.tsv\") as tsvf:\n",
        "    for line in tsvf.readlines():\n",
        "        parts = line.split(\"\\t\")\n",
        "        text.append(parts[0])\n",
        "        urlparts = parts[1].split(\"/\")\n",
        "        audio_path = \"/home/joregan/sayitinsaami/\" + urlparts[-1].replace(\"m4a\", \"wav\").strip()\n",
        "        audio.append(audio_path)"
      ]
    },
    {
      "cell_type": "code",
      "execution_count": 8,
      "metadata": {
        "id": "wvKaXgcmzmWJ"
      },
      "outputs": [],
      "source": [
        "audio_ds = Dataset.from_dict({\"text\": text, \"audio\": audio}).cast_column(\"audio\", Audio())"
      ]
    },
    {
      "cell_type": "code",
      "execution_count": 9,
      "metadata": {},
      "outputs": [
        {
          "data": {
            "text/plain": [
              "{'text': 'Buorre beaivi!',\n",
              " 'audio': {'path': '/home/joregan/sayitinsaami/102.wav',\n",
              "  'array': array([-3.05175781e-05, -6.10351562e-05, -6.10351562e-05, ...,\n",
              "          0.00000000e+00,  0.00000000e+00,  0.00000000e+00]),\n",
              "  'sampling_rate': 16000}}"
            ]
          },
          "execution_count": 9,
          "metadata": {},
          "output_type": "execute_result"
        }
      ],
      "source": [
        "audio_ds[1]"
      ]
    },
    {
      "cell_type": "code",
      "execution_count": 10,
      "metadata": {
        "id": "K848XFuBz7BC"
      },
      "outputs": [],
      "source": [
        "%%capture\n",
        "!pip install --upgrade evaluate jiwer"
      ]
    },
    {
      "cell_type": "code",
      "execution_count": 11,
      "metadata": {
        "id": "84Uj2eg-2rgD"
      },
      "outputs": [],
      "source": [
        "def clean_text(batch):\n",
        "    if \"(duaali)\" in batch[\"text\"]:\n",
        "        batch[\"text\"] = batch[\"text\"].replace(\"(duaali)\", \"\").strip()\n",
        "    if \"...\" in batch[\"text\"]:\n",
        "        batch[\"text\"] = batch[\"text\"].replace(\"...\", \"\").strip()\n",
        "    if batch[\"text\"][-1] in \"?!.\":\n",
        "        batch[\"text\"] = batch[\"text\"][:-1]\n",
        "    return batch"
      ]
    },
    {
      "cell_type": "markdown",
      "metadata": {
        "id": "163xyjdn6uz5"
      },
      "source": []
    },
    {
      "cell_type": "code",
      "execution_count": 12,
      "metadata": {
        "colab": {
          "base_uri": "https://localhost:8080/",
          "height": 49,
          "referenced_widgets": [
            "dd53cd8562d044edb40a027ac816b3c7",
            "d79304a16b5d415ea8df9a53e2d2959f",
            "0603fecd70874d7e8c54d2634ee7983d",
            "c5b0729f65384d5a8b7f18d2e7cb7efa",
            "fa20aaae2a894433a6839375a811d7c1",
            "a37e87aecb4f41cdb78cf6330f340e15",
            "cb4a79dbc68e45c3ab9b6f4d5a8e9541",
            "65083f7342464580b09a5ccd5ce65670",
            "4ad8fa7eca3f402294b583b13c8b6400",
            "26236e784eb24807b074d2b879864006",
            "90622d5561734b98914b1b43ce62b533"
          ]
        },
        "id": "HLvTwqm-3EDW",
        "outputId": "9b3c10e1-87af-44e6-b723-7b8638fe2895"
      },
      "outputs": [
        {
          "name": "stderr",
          "output_type": "stream",
          "text": [
            "Map:   0%|          | 0/888 [00:00<?, ? examples/s]"
          ]
        },
        {
          "name": "stderr",
          "output_type": "stream",
          "text": [
            "Map: 100%|██████████| 888/888 [00:00<00:00, 11158.84 examples/s]\n"
          ]
        }
      ],
      "source": [
        "audio_ds = audio_ds.map(clean_text)"
      ]
    },
    {
      "cell_type": "code",
      "execution_count": 14,
      "metadata": {
        "id": "o_Dbexjy3JXv"
      },
      "outputs": [],
      "source": [
        "from transformers import pipeline\n",
        "import torch\n",
        "\n",
        "MODEL = \"NbAiLab/whisper-large-sme\"\n",
        "LANG = \"fi\"\n",
        "\n",
        "pipe = pipeline(task=\"automatic-speech-recognition\", model=MODEL, chunk_length_s=30, device=0)\n",
        "pipe.model.config.forced_decoder_ids = pipe.tokenizer.get_decoder_prompt_ids(language=LANG, task=\"transcribe\")\n"
      ]
    },
    {
      "cell_type": "code",
      "execution_count": 15,
      "metadata": {},
      "outputs": [
        {
          "name": "stderr",
          "output_type": "stream",
          "text": [
            "Downloading builder script: 100%|██████████| 4.49k/4.49k [00:00<00:00, 2.94MB/s]\n"
          ]
        }
      ],
      "source": [
        "import evaluate\n",
        "\n",
        "metric = evaluate.load(\"wer\")"
      ]
    },
    {
      "cell_type": "code",
      "execution_count": 24,
      "metadata": {},
      "outputs": [],
      "source": [
        "from transformers.pipelines.pt_utils import KeyDataset"
      ]
    },
    {
      "cell_type": "code",
      "execution_count": 26,
      "metadata": {},
      "outputs": [
        {
          "name": "stderr",
          "output_type": "stream",
          "text": [
            "100%|██████████| 888/888 [11:46<00:00,  1.26it/s]\n"
          ]
        }
      ],
      "source": [
        "from tqdm.auto import tqdm\n",
        "\n",
        "preds = []\n",
        "\n",
        "for out in tqdm(pipe(KeyDataset(audio_ds, \"audio\"))):\n",
        "    preds.append(out[\"text\"])"
      ]
    },
    {
      "cell_type": "code",
      "execution_count": 29,
      "metadata": {},
      "outputs": [
        {
          "data": {
            "text/plain": [
              "69.94623655913979"
            ]
          },
          "execution_count": 29,
          "metadata": {},
          "output_type": "execute_result"
        }
      ],
      "source": [
        "from evaluate import load\n",
        "\n",
        "wer_metric = load(\"wer\")\n",
        "\n",
        "wer_ortho = 100 * wer_metric.compute(\n",
        "    references=audio_ds[\"text\"], predictions=preds\n",
        ")\n",
        "wer_ortho"
      ]
    },
    {
      "cell_type": "code",
      "execution_count": 33,
      "metadata": {},
      "outputs": [],
      "source": [
        "def clean_for_wer(text):\n",
        "    if text[-1] in \"?!.\":\n",
        "        text = text[:-1]\n",
        "    return text.lower().strip()"
      ]
    },
    {
      "cell_type": "code",
      "execution_count": 34,
      "metadata": {},
      "outputs": [],
      "source": [
        "preds = [clean_for_wer(x) for x in preds]\n",
        "refs = [clean_for_wer(x) for x in audio_ds[\"text\"]]"
      ]
    },
    {
      "cell_type": "code",
      "execution_count": 35,
      "metadata": {},
      "outputs": [
        {
          "data": {
            "text/plain": [
              "51.45161290322581"
            ]
          },
          "execution_count": 35,
          "metadata": {},
          "output_type": "execute_result"
        }
      ],
      "source": [
        "wer_ortho = 100 * wer_metric.compute(\n",
        "    references=refs, predictions=preds\n",
        ")\n",
        "wer_ortho"
      ]
    }
  ],
  "metadata": {
    "colab": {
      "provenance": []
    },
    "kernelspec": {
      "display_name": "ctcseg",
      "language": "python",
      "name": "python3"
    },
    "language_info": {
      "codemirror_mode": {
        "name": "ipython",
        "version": 3
      },
      "file_extension": ".py",
      "mimetype": "text/x-python",
      "name": "python",
      "nbconvert_exporter": "python",
      "pygments_lexer": "ipython3",
      "version": "3.11.5"
    },
    "widgets": {
      "application/vnd.jupyter.widget-state+json": {
        "0603fecd70874d7e8c54d2634ee7983d": {
          "model_module": "@jupyter-widgets/controls",
          "model_module_version": "1.5.0",
          "model_name": "FloatProgressModel",
          "state": {
            "_dom_classes": [],
            "_model_module": "@jupyter-widgets/controls",
            "_model_module_version": "1.5.0",
            "_model_name": "FloatProgressModel",
            "_view_count": null,
            "_view_module": "@jupyter-widgets/controls",
            "_view_module_version": "1.5.0",
            "_view_name": "ProgressView",
            "bar_style": "success",
            "description": "",
            "description_tooltip": null,
            "layout": "IPY_MODEL_65083f7342464580b09a5ccd5ce65670",
            "max": 888,
            "min": 0,
            "orientation": "horizontal",
            "style": "IPY_MODEL_4ad8fa7eca3f402294b583b13c8b6400",
            "value": 888
          }
        },
        "26236e784eb24807b074d2b879864006": {
          "model_module": "@jupyter-widgets/base",
          "model_module_version": "1.2.0",
          "model_name": "LayoutModel",
          "state": {
            "_model_module": "@jupyter-widgets/base",
            "_model_module_version": "1.2.0",
            "_model_name": "LayoutModel",
            "_view_count": null,
            "_view_module": "@jupyter-widgets/base",
            "_view_module_version": "1.2.0",
            "_view_name": "LayoutView",
            "align_content": null,
            "align_items": null,
            "align_self": null,
            "border": null,
            "bottom": null,
            "display": null,
            "flex": null,
            "flex_flow": null,
            "grid_area": null,
            "grid_auto_columns": null,
            "grid_auto_flow": null,
            "grid_auto_rows": null,
            "grid_column": null,
            "grid_gap": null,
            "grid_row": null,
            "grid_template_areas": null,
            "grid_template_columns": null,
            "grid_template_rows": null,
            "height": null,
            "justify_content": null,
            "justify_items": null,
            "left": null,
            "margin": null,
            "max_height": null,
            "max_width": null,
            "min_height": null,
            "min_width": null,
            "object_fit": null,
            "object_position": null,
            "order": null,
            "overflow": null,
            "overflow_x": null,
            "overflow_y": null,
            "padding": null,
            "right": null,
            "top": null,
            "visibility": null,
            "width": null
          }
        },
        "4ad8fa7eca3f402294b583b13c8b6400": {
          "model_module": "@jupyter-widgets/controls",
          "model_module_version": "1.5.0",
          "model_name": "ProgressStyleModel",
          "state": {
            "_model_module": "@jupyter-widgets/controls",
            "_model_module_version": "1.5.0",
            "_model_name": "ProgressStyleModel",
            "_view_count": null,
            "_view_module": "@jupyter-widgets/base",
            "_view_module_version": "1.2.0",
            "_view_name": "StyleView",
            "bar_color": null,
            "description_width": ""
          }
        },
        "65083f7342464580b09a5ccd5ce65670": {
          "model_module": "@jupyter-widgets/base",
          "model_module_version": "1.2.0",
          "model_name": "LayoutModel",
          "state": {
            "_model_module": "@jupyter-widgets/base",
            "_model_module_version": "1.2.0",
            "_model_name": "LayoutModel",
            "_view_count": null,
            "_view_module": "@jupyter-widgets/base",
            "_view_module_version": "1.2.0",
            "_view_name": "LayoutView",
            "align_content": null,
            "align_items": null,
            "align_self": null,
            "border": null,
            "bottom": null,
            "display": null,
            "flex": null,
            "flex_flow": null,
            "grid_area": null,
            "grid_auto_columns": null,
            "grid_auto_flow": null,
            "grid_auto_rows": null,
            "grid_column": null,
            "grid_gap": null,
            "grid_row": null,
            "grid_template_areas": null,
            "grid_template_columns": null,
            "grid_template_rows": null,
            "height": null,
            "justify_content": null,
            "justify_items": null,
            "left": null,
            "margin": null,
            "max_height": null,
            "max_width": null,
            "min_height": null,
            "min_width": null,
            "object_fit": null,
            "object_position": null,
            "order": null,
            "overflow": null,
            "overflow_x": null,
            "overflow_y": null,
            "padding": null,
            "right": null,
            "top": null,
            "visibility": null,
            "width": null
          }
        },
        "90622d5561734b98914b1b43ce62b533": {
          "model_module": "@jupyter-widgets/controls",
          "model_module_version": "1.5.0",
          "model_name": "DescriptionStyleModel",
          "state": {
            "_model_module": "@jupyter-widgets/controls",
            "_model_module_version": "1.5.0",
            "_model_name": "DescriptionStyleModel",
            "_view_count": null,
            "_view_module": "@jupyter-widgets/base",
            "_view_module_version": "1.2.0",
            "_view_name": "StyleView",
            "description_width": ""
          }
        },
        "a37e87aecb4f41cdb78cf6330f340e15": {
          "model_module": "@jupyter-widgets/base",
          "model_module_version": "1.2.0",
          "model_name": "LayoutModel",
          "state": {
            "_model_module": "@jupyter-widgets/base",
            "_model_module_version": "1.2.0",
            "_model_name": "LayoutModel",
            "_view_count": null,
            "_view_module": "@jupyter-widgets/base",
            "_view_module_version": "1.2.0",
            "_view_name": "LayoutView",
            "align_content": null,
            "align_items": null,
            "align_self": null,
            "border": null,
            "bottom": null,
            "display": null,
            "flex": null,
            "flex_flow": null,
            "grid_area": null,
            "grid_auto_columns": null,
            "grid_auto_flow": null,
            "grid_auto_rows": null,
            "grid_column": null,
            "grid_gap": null,
            "grid_row": null,
            "grid_template_areas": null,
            "grid_template_columns": null,
            "grid_template_rows": null,
            "height": null,
            "justify_content": null,
            "justify_items": null,
            "left": null,
            "margin": null,
            "max_height": null,
            "max_width": null,
            "min_height": null,
            "min_width": null,
            "object_fit": null,
            "object_position": null,
            "order": null,
            "overflow": null,
            "overflow_x": null,
            "overflow_y": null,
            "padding": null,
            "right": null,
            "top": null,
            "visibility": null,
            "width": null
          }
        },
        "c5b0729f65384d5a8b7f18d2e7cb7efa": {
          "model_module": "@jupyter-widgets/controls",
          "model_module_version": "1.5.0",
          "model_name": "HTMLModel",
          "state": {
            "_dom_classes": [],
            "_model_module": "@jupyter-widgets/controls",
            "_model_module_version": "1.5.0",
            "_model_name": "HTMLModel",
            "_view_count": null,
            "_view_module": "@jupyter-widgets/controls",
            "_view_module_version": "1.5.0",
            "_view_name": "HTMLView",
            "description": "",
            "description_tooltip": null,
            "layout": "IPY_MODEL_26236e784eb24807b074d2b879864006",
            "placeholder": "​",
            "style": "IPY_MODEL_90622d5561734b98914b1b43ce62b533",
            "value": " 888/888 [00:00&lt;00:00, 8768.50 examples/s]"
          }
        },
        "cb4a79dbc68e45c3ab9b6f4d5a8e9541": {
          "model_module": "@jupyter-widgets/controls",
          "model_module_version": "1.5.0",
          "model_name": "DescriptionStyleModel",
          "state": {
            "_model_module": "@jupyter-widgets/controls",
            "_model_module_version": "1.5.0",
            "_model_name": "DescriptionStyleModel",
            "_view_count": null,
            "_view_module": "@jupyter-widgets/base",
            "_view_module_version": "1.2.0",
            "_view_name": "StyleView",
            "description_width": ""
          }
        },
        "d79304a16b5d415ea8df9a53e2d2959f": {
          "model_module": "@jupyter-widgets/controls",
          "model_module_version": "1.5.0",
          "model_name": "HTMLModel",
          "state": {
            "_dom_classes": [],
            "_model_module": "@jupyter-widgets/controls",
            "_model_module_version": "1.5.0",
            "_model_name": "HTMLModel",
            "_view_count": null,
            "_view_module": "@jupyter-widgets/controls",
            "_view_module_version": "1.5.0",
            "_view_name": "HTMLView",
            "description": "",
            "description_tooltip": null,
            "layout": "IPY_MODEL_a37e87aecb4f41cdb78cf6330f340e15",
            "placeholder": "​",
            "style": "IPY_MODEL_cb4a79dbc68e45c3ab9b6f4d5a8e9541",
            "value": "Map: 100%"
          }
        },
        "dd53cd8562d044edb40a027ac816b3c7": {
          "model_module": "@jupyter-widgets/controls",
          "model_module_version": "1.5.0",
          "model_name": "HBoxModel",
          "state": {
            "_dom_classes": [],
            "_model_module": "@jupyter-widgets/controls",
            "_model_module_version": "1.5.0",
            "_model_name": "HBoxModel",
            "_view_count": null,
            "_view_module": "@jupyter-widgets/controls",
            "_view_module_version": "1.5.0",
            "_view_name": "HBoxView",
            "box_style": "",
            "children": [
              "IPY_MODEL_d79304a16b5d415ea8df9a53e2d2959f",
              "IPY_MODEL_0603fecd70874d7e8c54d2634ee7983d",
              "IPY_MODEL_c5b0729f65384d5a8b7f18d2e7cb7efa"
            ],
            "layout": "IPY_MODEL_fa20aaae2a894433a6839375a811d7c1"
          }
        },
        "fa20aaae2a894433a6839375a811d7c1": {
          "model_module": "@jupyter-widgets/base",
          "model_module_version": "1.2.0",
          "model_name": "LayoutModel",
          "state": {
            "_model_module": "@jupyter-widgets/base",
            "_model_module_version": "1.2.0",
            "_model_name": "LayoutModel",
            "_view_count": null,
            "_view_module": "@jupyter-widgets/base",
            "_view_module_version": "1.2.0",
            "_view_name": "LayoutView",
            "align_content": null,
            "align_items": null,
            "align_self": null,
            "border": null,
            "bottom": null,
            "display": null,
            "flex": null,
            "flex_flow": null,
            "grid_area": null,
            "grid_auto_columns": null,
            "grid_auto_flow": null,
            "grid_auto_rows": null,
            "grid_column": null,
            "grid_gap": null,
            "grid_row": null,
            "grid_template_areas": null,
            "grid_template_columns": null,
            "grid_template_rows": null,
            "height": null,
            "justify_content": null,
            "justify_items": null,
            "left": null,
            "margin": null,
            "max_height": null,
            "max_width": null,
            "min_height": null,
            "min_width": null,
            "object_fit": null,
            "object_position": null,
            "order": null,
            "overflow": null,
            "overflow_x": null,
            "overflow_y": null,
            "padding": null,
            "right": null,
            "top": null,
            "visibility": null,
            "width": null
          }
        }
      }
    }
  },
  "nbformat": 4,
  "nbformat_minor": 0
}
