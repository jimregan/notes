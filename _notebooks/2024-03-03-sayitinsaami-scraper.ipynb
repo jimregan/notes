{
  "cells": [
    {
      "cell_type": "markdown",
      "metadata": {
        "id": "H-MGAb9kwUJ1"
      },
      "source": [
        "# sayitinsaami.yle.fi scraper\n",
        "\n",
        "> \"For a DT2112 project\"\n",
        "\n",
        "- toc: false\n",
        "- branch: master\n",
        "- hidden: true\n",
        "- categories: [sami, scraper, dt2112]"
      ]
    },
    {
      "cell_type": "code",
      "execution_count": 1,
      "metadata": {
        "id": "jGHqN2YcwUJ2"
      },
      "outputs": [],
      "source": [
        "JSON = \"http://sayitinsaami.yle.fi/js/fraasit.js?2019-02-15\""
      ]
    },
    {
      "cell_type": "code",
      "execution_count": 2,
      "metadata": {
        "id": "j5u4G-8RwUJ2"
      },
      "outputs": [],
      "source": [
        "import requests"
      ]
    },
    {
      "cell_type": "code",
      "execution_count": 3,
      "metadata": {
        "id": "FQTeKkwlwUJ2"
      },
      "outputs": [],
      "source": [
        "rawdata = requests.get(JSON)"
      ]
    },
    {
      "cell_type": "code",
      "execution_count": 4,
      "metadata": {
        "id": "dSxLLwQnwUJ2"
      },
      "outputs": [],
      "source": [
        "to_clean = rawdata.text\n",
        "to_clean = to_clean.replace(\" f:\", ' \"f\":').replace(\" fi:\", ' \"fi\":').replace(\" sv:\", ' \"sv\":').replace(\" en:\", ' \"en\":').replace(\" sme:\", ' \"sme\":').replace(\" smn:\", ' \"smn\":').replace(\" sms:\", ' \"sms\":').replace(\" cats:\", ' \"cats\":')"
      ]
    },
    {
      "cell_type": "code",
      "execution_count": 5,
      "metadata": {
        "id": "4IqVyKn-wUJ3"
      },
      "outputs": [],
      "source": [
        "if to_clean.startswith(\"FRAASIT = \"):\n",
        "    to_clean = to_clean[10:]\n",
        "to_clean = to_clean.strip()\n",
        "if to_clean.endswith(\"},\\n]\"):\n",
        "    to_clean = to_clean.replace(\"},\\n]\", \"}]\")\n"
      ]
    },
    {
      "cell_type": "code",
      "execution_count": 6,
      "metadata": {
        "id": "XwYo0iLDwUJ3"
      },
      "outputs": [],
      "source": [
        "import json\n",
        "data = json.loads(to_clean)"
      ]
    },
    {
      "cell_type": "code",
      "execution_count": 8,
      "metadata": {
        "id": "pj_eUtYjwUJ3"
      },
      "outputs": [],
      "source": [
        "with open(\"output.tsv\", \"w\") as outf:\n",
        "    for item in data:\n",
        "        outf.write(f'{item[\"sme\"]}\\thttp://sanosesaameksi.katrikoivula.com/audio/sme/{item[\"f\"]}.m4a\\n')"
      ]
    },
    {
      "cell_type": "code",
      "source": [
        "!cat output.tsv|awk -F'\\t' '{print $2}'|while read i;do f=$(echo $i|awk -F/ '{print $NF}'); if [ ! -e $f ];then wget -c $i;fi;done"
      ],
      "metadata": {
        "id": "H5p36QSZwm08"
      },
      "execution_count": 13,
      "outputs": []
    },
    {
      "cell_type": "code",
      "source": [
        "with open(\"sayitinsaami.json\", \"w\") as cleaned:\n",
        "    json.dump(data, cleaned)"
      ],
      "metadata": {
        "id": "XfFR3k6-yMqV"
      },
      "execution_count": 14,
      "outputs": []
    },
    {
      "cell_type": "code",
      "source": [
        "!ls *.m4a|zip sayitinsaami_audio.zip -@"
      ],
      "metadata": {
        "id": "PFqsx9syyU2z"
      },
      "execution_count": null,
      "outputs": []
    },
    {
      "cell_type": "code",
      "source": [
        "!for f in *.m4a;do ffmpeg -i $f  -acodec pcm_s16le -ac 1 -ar 16000 $(basename $f .m4a).wav;done"
      ],
      "metadata": {
        "id": "8dH0a-Uh0aLk"
      },
      "execution_count": null,
      "outputs": []
    },
    {
      "cell_type": "code",
      "source": [
        "!ls -al *.wav"
      ],
      "metadata": {
        "id": "gL0QYfIe1QmY"
      },
      "execution_count": null,
      "outputs": []
    },
    {
      "cell_type": "code",
      "source": [
        "text = []\n",
        "audio = []\n",
        "for item in data:\n",
        "    text.append(item[\"sme\"])\n",
        "    audio.append(f'{item[\"f\"]}.wav')"
      ],
      "metadata": {
        "id": "t99bSHEqyz0C"
      },
      "execution_count": 32,
      "outputs": []
    },
    {
      "cell_type": "code",
      "source": [
        "%%capture\n",
        "!pip install datasets"
      ],
      "metadata": {
        "id": "Y-Y2yN4ezXKU"
      },
      "execution_count": 20,
      "outputs": []
    },
    {
      "cell_type": "code",
      "source": [
        "%%capture\n",
        "!pip install torchaudio librosa"
      ],
      "metadata": {
        "id": "NA9KMQ7g0Da0"
      },
      "execution_count": 28,
      "outputs": []
    },
    {
      "cell_type": "code",
      "source": [
        "from datasets import Dataset, Audio"
      ],
      "metadata": {
        "id": "_s90j9_5ze-X"
      },
      "execution_count": 23,
      "outputs": []
    },
    {
      "cell_type": "code",
      "source": [
        "audio_ds = Dataset.from_dict({\"text\": text, \"audio\": audio}).cast_column(\"audio\", Audio())"
      ],
      "metadata": {
        "id": "wvKaXgcmzmWJ"
      },
      "execution_count": 33,
      "outputs": []
    },
    {
      "cell_type": "code",
      "source": [
        "%%capture\n",
        "!pip install --upgrade evaluate jiwer"
      ],
      "metadata": {
        "id": "K848XFuBz7BC"
      },
      "execution_count": 36,
      "outputs": []
    },
    {
      "cell_type": "code",
      "source": [
        "def clean_text(batch):\n",
        "    if \"(duaali)\" in batch[\"text\"]:\n",
        "        batch[\"text\"] = batch[\"text\"].replace(\"(duaali)\", \"\").strip()\n",
        "    if batch[\"text\"][-1] in \"?!.\":\n",
        "        batch[\"text\"] = batch[\"text\"][:-1]\n",
        "    return batch"
      ],
      "metadata": {
        "id": "84Uj2eg-2rgD"
      },
      "execution_count": 37,
      "outputs": []
    },
    {
      "cell_type": "code",
      "source": [
        "audio_ds = audio_ds.map(clean_text)"
      ],
      "metadata": {
        "id": "HLvTwqm-3EDW",
        "outputId": "9b3c10e1-87af-44e6-b723-7b8638fe2895",
        "colab": {
          "base_uri": "https://localhost:8080/",
          "height": 49,
          "referenced_widgets": [
            "dd53cd8562d044edb40a027ac816b3c7",
            "d79304a16b5d415ea8df9a53e2d2959f",
            "0603fecd70874d7e8c54d2634ee7983d",
            "c5b0729f65384d5a8b7f18d2e7cb7efa",
            "fa20aaae2a894433a6839375a811d7c1",
            "a37e87aecb4f41cdb78cf6330f340e15",
            "cb4a79dbc68e45c3ab9b6f4d5a8e9541",
            "65083f7342464580b09a5ccd5ce65670",
            "4ad8fa7eca3f402294b583b13c8b6400",
            "26236e784eb24807b074d2b879864006",
            "90622d5561734b98914b1b43ce62b533"
          ]
        }
      },
      "execution_count": 38,
      "outputs": [
        {
          "output_type": "display_data",
          "data": {
            "text/plain": [
              "Map:   0%|          | 0/888 [00:00<?, ? examples/s]"
            ],
            "application/vnd.jupyter.widget-view+json": {
              "version_major": 2,
              "version_minor": 0,
              "model_id": "dd53cd8562d044edb40a027ac816b3c7"
            }
          },
          "metadata": {}
        }
      ]
    },
    {
      "cell_type": "code",
      "source": [
        "from transformers import pipeline\n",
        "import torch\n",
        "\n",
        "MODEL = \"NbAiLab/whisper-large-sme\"\n",
        "LANG = \"fi\"\n",
        "\n",
        "pipe = pipeline(task=\"automatic-speech-recognition\", model=MODEL, chunk_length_s=30)\n",
        "pipe.model.config.forced_decoder_ids = pipe.tokenizer.get_decoder_prompt_ids(language=LANG, task=\"transcribe\")\n"
      ],
      "metadata": {
        "id": "o_Dbexjy3JXv"
      },
      "execution_count": null,
      "outputs": []
    },
    {
      "cell_type": "code",
      "source": [
        "!ls *.wav|zip sayitinsaami_wav.zip -@\n"
      ],
      "metadata": {
        "id": "MNJ2zf_j6D9k"
      },
      "execution_count": null,
      "outputs": []
    },
    {
      "cell_type": "code",
      "source": [
        "!rm *.m4a *.wav"
      ],
      "metadata": {
        "id": "LWoDCouC6PyF"
      },
      "execution_count": 2,
      "outputs": []
    }
  ],
  "metadata": {
    "kernelspec": {
      "display_name": "ctcseg",
      "language": "python",
      "name": "python3"
    },
    "language_info": {
      "codemirror_mode": {
        "name": "ipython",
        "version": 3
      },
      "file_extension": ".py",
      "mimetype": "text/x-python",
      "name": "python",
      "nbconvert_exporter": "python",
      "pygments_lexer": "ipython3",
      "version": "3.10.4"
    },
    "colab": {
      "provenance": []
    },
    "widgets": {
      "application/vnd.jupyter.widget-state+json": {
        "dd53cd8562d044edb40a027ac816b3c7": {
          "model_module": "@jupyter-widgets/controls",
          "model_name": "HBoxModel",
          "model_module_version": "1.5.0",
          "state": {
            "_dom_classes": [],
            "_model_module": "@jupyter-widgets/controls",
            "_model_module_version": "1.5.0",
            "_model_name": "HBoxModel",
            "_view_count": null,
            "_view_module": "@jupyter-widgets/controls",
            "_view_module_version": "1.5.0",
            "_view_name": "HBoxView",
            "box_style": "",
            "children": [
              "IPY_MODEL_d79304a16b5d415ea8df9a53e2d2959f",
              "IPY_MODEL_0603fecd70874d7e8c54d2634ee7983d",
              "IPY_MODEL_c5b0729f65384d5a8b7f18d2e7cb7efa"
            ],
            "layout": "IPY_MODEL_fa20aaae2a894433a6839375a811d7c1"
          }
        },
        "d79304a16b5d415ea8df9a53e2d2959f": {
          "model_module": "@jupyter-widgets/controls",
          "model_name": "HTMLModel",
          "model_module_version": "1.5.0",
          "state": {
            "_dom_classes": [],
            "_model_module": "@jupyter-widgets/controls",
            "_model_module_version": "1.5.0",
            "_model_name": "HTMLModel",
            "_view_count": null,
            "_view_module": "@jupyter-widgets/controls",
            "_view_module_version": "1.5.0",
            "_view_name": "HTMLView",
            "description": "",
            "description_tooltip": null,
            "layout": "IPY_MODEL_a37e87aecb4f41cdb78cf6330f340e15",
            "placeholder": "​",
            "style": "IPY_MODEL_cb4a79dbc68e45c3ab9b6f4d5a8e9541",
            "value": "Map: 100%"
          }
        },
        "0603fecd70874d7e8c54d2634ee7983d": {
          "model_module": "@jupyter-widgets/controls",
          "model_name": "FloatProgressModel",
          "model_module_version": "1.5.0",
          "state": {
            "_dom_classes": [],
            "_model_module": "@jupyter-widgets/controls",
            "_model_module_version": "1.5.0",
            "_model_name": "FloatProgressModel",
            "_view_count": null,
            "_view_module": "@jupyter-widgets/controls",
            "_view_module_version": "1.5.0",
            "_view_name": "ProgressView",
            "bar_style": "success",
            "description": "",
            "description_tooltip": null,
            "layout": "IPY_MODEL_65083f7342464580b09a5ccd5ce65670",
            "max": 888,
            "min": 0,
            "orientation": "horizontal",
            "style": "IPY_MODEL_4ad8fa7eca3f402294b583b13c8b6400",
            "value": 888
          }
        },
        "c5b0729f65384d5a8b7f18d2e7cb7efa": {
          "model_module": "@jupyter-widgets/controls",
          "model_name": "HTMLModel",
          "model_module_version": "1.5.0",
          "state": {
            "_dom_classes": [],
            "_model_module": "@jupyter-widgets/controls",
            "_model_module_version": "1.5.0",
            "_model_name": "HTMLModel",
            "_view_count": null,
            "_view_module": "@jupyter-widgets/controls",
            "_view_module_version": "1.5.0",
            "_view_name": "HTMLView",
            "description": "",
            "description_tooltip": null,
            "layout": "IPY_MODEL_26236e784eb24807b074d2b879864006",
            "placeholder": "​",
            "style": "IPY_MODEL_90622d5561734b98914b1b43ce62b533",
            "value": " 888/888 [00:00&lt;00:00, 8768.50 examples/s]"
          }
        },
        "fa20aaae2a894433a6839375a811d7c1": {
          "model_module": "@jupyter-widgets/base",
          "model_name": "LayoutModel",
          "model_module_version": "1.2.0",
          "state": {
            "_model_module": "@jupyter-widgets/base",
            "_model_module_version": "1.2.0",
            "_model_name": "LayoutModel",
            "_view_count": null,
            "_view_module": "@jupyter-widgets/base",
            "_view_module_version": "1.2.0",
            "_view_name": "LayoutView",
            "align_content": null,
            "align_items": null,
            "align_self": null,
            "border": null,
            "bottom": null,
            "display": null,
            "flex": null,
            "flex_flow": null,
            "grid_area": null,
            "grid_auto_columns": null,
            "grid_auto_flow": null,
            "grid_auto_rows": null,
            "grid_column": null,
            "grid_gap": null,
            "grid_row": null,
            "grid_template_areas": null,
            "grid_template_columns": null,
            "grid_template_rows": null,
            "height": null,
            "justify_content": null,
            "justify_items": null,
            "left": null,
            "margin": null,
            "max_height": null,
            "max_width": null,
            "min_height": null,
            "min_width": null,
            "object_fit": null,
            "object_position": null,
            "order": null,
            "overflow": null,
            "overflow_x": null,
            "overflow_y": null,
            "padding": null,
            "right": null,
            "top": null,
            "visibility": null,
            "width": null
          }
        },
        "a37e87aecb4f41cdb78cf6330f340e15": {
          "model_module": "@jupyter-widgets/base",
          "model_name": "LayoutModel",
          "model_module_version": "1.2.0",
          "state": {
            "_model_module": "@jupyter-widgets/base",
            "_model_module_version": "1.2.0",
            "_model_name": "LayoutModel",
            "_view_count": null,
            "_view_module": "@jupyter-widgets/base",
            "_view_module_version": "1.2.0",
            "_view_name": "LayoutView",
            "align_content": null,
            "align_items": null,
            "align_self": null,
            "border": null,
            "bottom": null,
            "display": null,
            "flex": null,
            "flex_flow": null,
            "grid_area": null,
            "grid_auto_columns": null,
            "grid_auto_flow": null,
            "grid_auto_rows": null,
            "grid_column": null,
            "grid_gap": null,
            "grid_row": null,
            "grid_template_areas": null,
            "grid_template_columns": null,
            "grid_template_rows": null,
            "height": null,
            "justify_content": null,
            "justify_items": null,
            "left": null,
            "margin": null,
            "max_height": null,
            "max_width": null,
            "min_height": null,
            "min_width": null,
            "object_fit": null,
            "object_position": null,
            "order": null,
            "overflow": null,
            "overflow_x": null,
            "overflow_y": null,
            "padding": null,
            "right": null,
            "top": null,
            "visibility": null,
            "width": null
          }
        },
        "cb4a79dbc68e45c3ab9b6f4d5a8e9541": {
          "model_module": "@jupyter-widgets/controls",
          "model_name": "DescriptionStyleModel",
          "model_module_version": "1.5.0",
          "state": {
            "_model_module": "@jupyter-widgets/controls",
            "_model_module_version": "1.5.0",
            "_model_name": "DescriptionStyleModel",
            "_view_count": null,
            "_view_module": "@jupyter-widgets/base",
            "_view_module_version": "1.2.0",
            "_view_name": "StyleView",
            "description_width": ""
          }
        },
        "65083f7342464580b09a5ccd5ce65670": {
          "model_module": "@jupyter-widgets/base",
          "model_name": "LayoutModel",
          "model_module_version": "1.2.0",
          "state": {
            "_model_module": "@jupyter-widgets/base",
            "_model_module_version": "1.2.0",
            "_model_name": "LayoutModel",
            "_view_count": null,
            "_view_module": "@jupyter-widgets/base",
            "_view_module_version": "1.2.0",
            "_view_name": "LayoutView",
            "align_content": null,
            "align_items": null,
            "align_self": null,
            "border": null,
            "bottom": null,
            "display": null,
            "flex": null,
            "flex_flow": null,
            "grid_area": null,
            "grid_auto_columns": null,
            "grid_auto_flow": null,
            "grid_auto_rows": null,
            "grid_column": null,
            "grid_gap": null,
            "grid_row": null,
            "grid_template_areas": null,
            "grid_template_columns": null,
            "grid_template_rows": null,
            "height": null,
            "justify_content": null,
            "justify_items": null,
            "left": null,
            "margin": null,
            "max_height": null,
            "max_width": null,
            "min_height": null,
            "min_width": null,
            "object_fit": null,
            "object_position": null,
            "order": null,
            "overflow": null,
            "overflow_x": null,
            "overflow_y": null,
            "padding": null,
            "right": null,
            "top": null,
            "visibility": null,
            "width": null
          }
        },
        "4ad8fa7eca3f402294b583b13c8b6400": {
          "model_module": "@jupyter-widgets/controls",
          "model_name": "ProgressStyleModel",
          "model_module_version": "1.5.0",
          "state": {
            "_model_module": "@jupyter-widgets/controls",
            "_model_module_version": "1.5.0",
            "_model_name": "ProgressStyleModel",
            "_view_count": null,
            "_view_module": "@jupyter-widgets/base",
            "_view_module_version": "1.2.0",
            "_view_name": "StyleView",
            "bar_color": null,
            "description_width": ""
          }
        },
        "26236e784eb24807b074d2b879864006": {
          "model_module": "@jupyter-widgets/base",
          "model_name": "LayoutModel",
          "model_module_version": "1.2.0",
          "state": {
            "_model_module": "@jupyter-widgets/base",
            "_model_module_version": "1.2.0",
            "_model_name": "LayoutModel",
            "_view_count": null,
            "_view_module": "@jupyter-widgets/base",
            "_view_module_version": "1.2.0",
            "_view_name": "LayoutView",
            "align_content": null,
            "align_items": null,
            "align_self": null,
            "border": null,
            "bottom": null,
            "display": null,
            "flex": null,
            "flex_flow": null,
            "grid_area": null,
            "grid_auto_columns": null,
            "grid_auto_flow": null,
            "grid_auto_rows": null,
            "grid_column": null,
            "grid_gap": null,
            "grid_row": null,
            "grid_template_areas": null,
            "grid_template_columns": null,
            "grid_template_rows": null,
            "height": null,
            "justify_content": null,
            "justify_items": null,
            "left": null,
            "margin": null,
            "max_height": null,
            "max_width": null,
            "min_height": null,
            "min_width": null,
            "object_fit": null,
            "object_position": null,
            "order": null,
            "overflow": null,
            "overflow_x": null,
            "overflow_y": null,
            "padding": null,
            "right": null,
            "top": null,
            "visibility": null,
            "width": null
          }
        },
        "90622d5561734b98914b1b43ce62b533": {
          "model_module": "@jupyter-widgets/controls",
          "model_name": "DescriptionStyleModel",
          "model_module_version": "1.5.0",
          "state": {
            "_model_module": "@jupyter-widgets/controls",
            "_model_module_version": "1.5.0",
            "_model_name": "DescriptionStyleModel",
            "_view_count": null,
            "_view_module": "@jupyter-widgets/base",
            "_view_module_version": "1.2.0",
            "_view_name": "StyleView",
            "description_width": ""
          }
        }
      }
    }
  },
  "nbformat": 4,
  "nbformat_minor": 0
}