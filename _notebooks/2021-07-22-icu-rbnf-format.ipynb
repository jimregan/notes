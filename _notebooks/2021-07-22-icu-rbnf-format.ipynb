{
  "nbformat": 4,
  "nbformat_minor": 5,
  "metadata": {
    "kernelspec": {
      "display_name": "Python 3",
      "language": "python",
      "name": "python3"
    },
    "language_info": {
      "codemirror_mode": {
        "name": "ipython",
        "version": 3
      },
      "file_extension": ".py",
      "mimetype": "text/x-python",
      "name": "python",
      "nbconvert_exporter": "python",
      "pygments_lexer": "ipython3",
      "version": "3.8.2"
    },
    "colab": {
      "name": "2021-07-22-icu-rbnf-format.ipynb",
      "provenance": []
    }
  },
  "cells": [
    {
      "cell_type": "markdown",
      "metadata": {
        "id": "79469536"
      },
      "source": [
        "# \"ICU RBNF format in Python\"\n",
        "\n",
        "> \"Quick snippet for using RBNF format\"\n",
        "\n",
        "- toc: false\n",
        "- branch: master\n",
        "- hidden: true\n",
        "- categories: [irish, icu, rbnf]"
      ],
      "id": "79469536"
    },
    {
      "cell_type": "code",
      "metadata": {
        "id": "zGKw2-V_4E6a"
      },
      "source": [
        "%%capture\n",
        "!pip install pyicu"
      ],
      "id": "zGKw2-V_4E6a",
      "execution_count": 1,
      "outputs": []
    },
    {
      "cell_type": "code",
      "metadata": {
        "id": "PqXl_8av33Fn",
        "colab": {
          "base_uri": "https://localhost:8080/",
          "height": 35
        },
        "outputId": "fe6c1a1e-d691-4178-d454-8ed06aaf3f69"
      },
      "source": [
        "import icu\n",
        "formatter = icu.RuleBasedNumberFormat(icu.URBNFRuleSetTag.SPELLOUT, icu.Locale('ga'))\n",
        "formatter.format(23)\n"
      ],
      "id": "PqXl_8av33Fn",
      "execution_count": 2,
      "outputs": [
        {
          "output_type": "execute_result",
          "data": {
            "application/vnd.google.colaboratory.intrinsic+json": {
              "type": "string"
            },
            "text/plain": [
              "'fiche a trí'"
            ]
          },
          "metadata": {
            "tags": []
          },
          "execution_count": 2
        }
      ]
    }
  ]
}