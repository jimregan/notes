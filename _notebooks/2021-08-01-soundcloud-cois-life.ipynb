{
 "cells": [
  {
   "cell_type": "markdown",
   "id": "a2e466c3",
   "metadata": {},
   "source": [
    "# Soundcloud - Cois Life\n",
    "\n",
    "> \"Dataset\"\n",
    "\n",
    "- toc: false\n",
    "- branch: master\n",
    "- badges: false\n",
    "- comments: true\n",
    "- hidden: true\n",
    "- categories: [kaggle, irish, soundcloud, dataset, unlabelled, coislife]\n",
    "\n"
   ]
  },
  {
   "cell_type": "markdown",
   "id": "06709b7c",
   "metadata": {},
   "source": [
    "Original on [Kaggle](https://www.kaggle.com/jimregan/soundcloud-cois-life) (private)"
   ]
  },
  {
   "cell_type": "code",
   "execution_count": null,
   "id": "f4288379",
   "metadata": {
    "_cell_guid": "b1076dfc-b9ad-4769-8c92-a6c4dae69d19",
    "_uuid": "8f2839f25d086af736a60e9eeb907d3b93b6e0e5",
    "execution": {
     "iopub.execute_input": "2021-08-01T19:45:33.479428Z",
     "iopub.status.busy": "2021-08-01T19:45:33.468989Z",
     "iopub.status.idle": "2021-08-01T20:08:39.299888Z",
     "shell.execute_reply": "2021-08-01T20:08:39.300363Z"
    },
    "papermill": {
     "duration": 1385.845891,
     "end_time": "2021-08-01T20:08:39.300714",
     "exception": false,
     "start_time": "2021-08-01T19:45:33.454823",
     "status": "completed"
    },
    "tags": []
   },
   "outputs": [],
   "source": [
    "!pip install youtube-dl\n",
    "!youtube-dl https://soundcloud.com/cois-life-teoranta"
   ]
  }
 ],
 "metadata": {
  "kernelspec": {
   "display_name": "Python 3",
   "language": "python",
   "name": "python3"
  },
  "language_info": {
   "codemirror_mode": {
    "name": "ipython",
    "version": 3
   },
   "file_extension": ".py",
   "mimetype": "text/x-python",
   "name": "python",
   "nbconvert_exporter": "python",
   "pygments_lexer": "ipython3",
   "version": "3.8.2"
  },
  "papermill": {
   "default_parameters": {},
   "duration": 1396.346053,
   "end_time": "2021-08-01T20:08:42.003980",
   "environment_variables": {},
   "exception": null,
   "input_path": "__notebook__.ipynb",
   "output_path": "__notebook__.ipynb",
   "parameters": {},
   "start_time": "2021-08-01T19:45:25.657927",
   "version": "2.3.3"
  }
 },
 "nbformat": 4,
 "nbformat_minor": 5
}
