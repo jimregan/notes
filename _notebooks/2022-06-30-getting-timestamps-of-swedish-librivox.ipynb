{
  "cells": [
    {
      "cell_type": "markdown",
      "metadata": {
        "id": "Wm2nXAnR3HXm"
      },
      "source": [
        "# Getting timestamps of Swedish Librivox\n",
        "\n",
        "> \"With wav2vec2 and HuggingFace transformers\"\n",
        "\n",
        "- tok: false\n",
        "- branch: master\n",
        "- comments: true\n",
        "- categories: [long audio, wav2vec2, huggingface, timestamps, librivox, swedish]\n"
      ]
    },
    {
      "cell_type": "code",
      "source": [
        "DONE = \"\"\"\n",
        "ennyckfullkvinna2_12.wav\n",
        "djaeknarne_10.wav\n",
        "ennyckfullkvinna2_05.wav\n",
        "ennyckfullkvinna2_04.wav\n",
        "ennyckfullkvinna_09.wav\n",
        "jaochnej_04.wav\n",
        "goteborgsflickor_07.wav\n",
        "ennyckfullkvinna_01.wav\n",
        "\"\"\""
      ],
      "metadata": {
        "id": "7W4gle9pLOOQ"
      },
      "execution_count": 13,
      "outputs": []
    },
    {
      "cell_type": "code",
      "execution_count": 2,
      "metadata": {
        "id": "wKSZXGoJiVhj"
      },
      "outputs": [],
      "source": [
        "DATA = \"\"\"\n",
        "#avskedssang\thttps://www.archive.org/download/multilingual_poetry_018_1112_lv/swedish_avskedssang_andersson_e.mp3\thttp://runeberg.org/daefter/12.html\tElin\thttps://librivox.org/reader/6686\tf\n",
        "efter_torgdagen\thttps://www.archive.org/download/mshortworks_001_1202_librivox/msw001_19_eftertorsdagen_benedictsson_at.mp3\thttps://litteraturbanken.se/f%C3%B6rfattare/BenedictssonV/titlar/Ber%C3%A4ttelserOchUtkast/sida/126/etext\towly\thttps://librivox.org/reader/2857\tf\n",
        "en_saga_om_vreden\thttps://ia800801.us.archive.org/0/items/mshortworks_001_1202_librivox/msw001_12_en_saga_om_vreden_runeberg_jb.mp3\thttp://web.archive.org/web/20190814032041/http://freetexthost.com:80/bcp31m60i4\tJohan Borg\thttps://librivox.org/reader/5958\tm\n",
        "elin_i_hagen\thttps://www.archive.org/download/multilingual_poetry_014_1002/swedish_elinihagen_froding_ear.mp3\thttp://runeberg.org/dragharm/elinhage.html\tElina Riuttanen\thttps://librivox.org/reader/4498\tf\n",
        "djaeknarne_01\thttps://www.archive.org/download/vandrande_draeknarne_0907_librivox/djaeknarne_01_rydberg.mp3\thttps://www.gutenberg.org/cache/epub/9827/pg9827.txt\tLars Rolander (1942-2016)\thttps://librivox.org/reader/2234\tm\n",
        "djaeknarne_02\thttps://www.archive.org/download/vandrande_draeknarne_0907_librivox/djaeknarne_02_rydberg.mp3\thttps://www.gutenberg.org/cache/epub/9827/pg9827.txt\tLars Rolander (1942-2016)\thttps://librivox.org/reader/2234\tm\n",
        "djaeknarne_03\thttps://www.archive.org/download/vandrande_draeknarne_0907_librivox/djaeknarne_03_rydberg.mp3\thttps://www.gutenberg.org/cache/epub/9827/pg9827.txt\tLars Rolander (1942-2016)\thttps://librivox.org/reader/2234\tm\n",
        "djaeknarne_04\thttps://www.archive.org/download/vandrande_draeknarne_0907_librivox/djaeknarne_04_rydberg.mp3\thttps://www.gutenberg.org/cache/epub/9827/pg9827.txt\tLars Rolander (1942-2016)\thttps://librivox.org/reader/2234\tm\n",
        "djaeknarne_05\thttps://www.archive.org/download/vandrande_draeknarne_0907_librivox/djaeknarne_05_rydberg.mp3\thttps://www.gutenberg.org/cache/epub/9827/pg9827.txt\tLars Rolander (1942-2016)\thttps://librivox.org/reader/2234\tm\n",
        "djaeknarne_06\thttps://www.archive.org/download/vandrande_draeknarne_0907_librivox/djaeknarne_06_rydberg.mp3\thttps://www.gutenberg.org/cache/epub/9827/pg9827.txt\tLars Rolander (1942-2016)\thttps://librivox.org/reader/2234\tm\n",
        "djaeknarne_07\thttps://www.archive.org/download/vandrande_draeknarne_0907_librivox/djaeknarne_07_rydberg.mp3\thttps://www.gutenberg.org/cache/epub/9827/pg9827.txt\tLars Rolander (1942-2016)\thttps://librivox.org/reader/2234\tm\n",
        "djaeknarne_08\thttps://www.archive.org/download/vandrande_draeknarne_0907_librivox/djaeknarne_08_rydberg.mp3\thttps://www.gutenberg.org/cache/epub/9827/pg9827.txt\tLars Rolander (1942-2016)\thttps://librivox.org/reader/2234\tm\n",
        "djaeknarne_09\thttps://www.archive.org/download/vandrande_draeknarne_0907_librivox/djaeknarne_09_rydberg.mp3\thttps://www.gutenberg.org/cache/epub/9827/pg9827.txt\tLars Rolander (1942-2016)\thttps://librivox.org/reader/2234\tm\n",
        "djaeknarne_10\thttps://www.archive.org/download/vandrande_draeknarne_0907_librivox/djaeknarne_10_rydberg.mp3\thttps://www.gutenberg.org/cache/epub/9827/pg9827.txt\tLars Rolander (1942-2016)\thttps://librivox.org/reader/2234\tm\n",
        "djaeknarne_11\thttps://www.archive.org/download/vandrande_draeknarne_0907_librivox/djaeknarne_11_rydberg.mp3\thttps://www.gutenberg.org/cache/epub/9827/pg9827.txt\tLars Rolander (1942-2016)\thttps://librivox.org/reader/2234\tm\n",
        "djaeknarne_12\thttps://www.archive.org/download/vandrande_draeknarne_0907_librivox/djaeknarne_12_rydberg.mp3\thttps://www.gutenberg.org/cache/epub/9827/pg9827.txt\tLars Rolander (1942-2016)\thttps://librivox.org/reader/2234\tm\n",
        "elddonet\thttps://ia903002.us.archive.org/29/items/skandinaviskaaventyr_1907_librivox/skandinaviskaeventyr_01_various_64kb.mp3\thttp://runeberg.org/hcasob/1/0003.html\tRikard Peterson\thttps://librivox.org/reader/10462\tm\n",
        "for_morgonbris\thttps://www.archive.org/download/multilingual_poetry_collection_007_librivox/swedish_for_morgonbris_tavaststjerna_ck.mp3\thttps://web.archive.org/web/20100413161537/http://www.omnibus.se:80/cgi-bin/ebokinfo.pl?eB=395-1\tCecilia\thttps://librivox.org/reader/919\tf\n",
        "goteborgsflickor_01\thttps://www.archive.org/download/goteborgsflickor_1005_librivox/goteborgsflickor_01_stroemberg.mp3\thttps://www.gutenberg.org/files/18043/18043-0.txt\t  Lars Rolander (1942-2016) https://librivox.org/reader/2234  m\n",
        "goteborgsflickor_02\thttps://www.archive.org/download/goteborgsflickor_1005_librivox/goteborgsflickor_02_stroemberg.mp3\thttps://www.gutenberg.org/files/18043/18043-0.txt\t  Lars Rolander (1942-2016) https://librivox.org/reader/2234  m\n",
        "goteborgsflickor_03\thttps://www.archive.org/download/goteborgsflickor_1005_librivox/goteborgsflickor_03_stroemberg.mp3\thttps://www.gutenberg.org/files/18043/18043-0.txt\t  Lars Rolander (1942-2016) https://librivox.org/reader/2234  m\n",
        "goteborgsflickor_04\thttps://www.archive.org/download/goteborgsflickor_1005_librivox/goteborgsflickor_04_stroemberg.mp3\thttps://www.gutenberg.org/files/18043/18043-0.txt\t  Lars Rolander (1942-2016) https://librivox.org/reader/2234  m\n",
        "goteborgsflickor_05\thttps://www.archive.org/download/goteborgsflickor_1005_librivox/goteborgsflickor_05_stroemberg.mp3\thttps://www.gutenberg.org/files/18043/18043-0.txt\t  Lars Rolander (1942-2016) https://librivox.org/reader/2234  m\n",
        "goteborgsflickor_06\thttps://www.archive.org/download/goteborgsflickor_1005_librivox/goteborgsflickor_06_stroemberg.mp3\thttps://www.gutenberg.org/files/18043/18043-0.txt\t  Lars Rolander (1942-2016) https://librivox.org/reader/2234  m\n",
        "goteborgsflickor_07\thttps://www.archive.org/download/goteborgsflickor_1005_librivox/goteborgsflickor_07_stroemberg.mp3\thttps://www.gutenberg.org/files/18043/18043-0.txt\t  Lars Rolander (1942-2016) https://librivox.org/reader/2234  m\n",
        "goteborgsflickor_08\thttps://www.archive.org/download/goteborgsflickor_1005_librivox/goteborgsflickor_08_stroemberg.mp3\thttps://www.gutenberg.org/files/18043/18043-0.txt\t  Lars Rolander (1942-2016) https://librivox.org/reader/2234  m\n",
        "goteborgsflickor_09\thttps://www.archive.org/download/goteborgsflickor_1005_librivox/goteborgsflickor_09_stroemberg.mp3\thttps://www.gutenberg.org/files/18043/18043-0.txt\t  Lars Rolander (1942-2016) https://librivox.org/reader/2234  m\n",
        "goteborgsflickor_10\thttps://www.archive.org/download/goteborgsflickor_1005_librivox/goteborgsflickor_10_stroemberg.mp3\thttps://www.gutenberg.org/files/18043/18043-0.txt\t  Lars Rolander (1942-2016) https://librivox.org/reader/2234  m\n",
        "goteborgsflickor_11\thttps://www.archive.org/download/goteborgsflickor_1005_librivox/goteborgsflickor_11_stroemberg.mp3\thttps://www.gutenberg.org/files/18043/18043-0.txt\t  Lars Rolander (1942-2016) https://librivox.org/reader/2234  m\n",
        "goteborgsflickor_12\thttps://www.archive.org/download/goteborgsflickor_1005_librivox/goteborgsflickor_12_stroemberg.mp3\thttps://www.gutenberg.org/files/18043/18043-0.txt\t  Lars Rolander (1942-2016) https://librivox.org/reader/2234  m\n",
        "goteborgsflickor_13\thttps://www.archive.org/download/goteborgsflickor_1005_librivox/goteborgsflickor_13_stroemberg.mp3\thttps://www.gutenberg.org/files/18043/18043-0.txt\t  Lars Rolander (1942-2016) https://librivox.org/reader/2234  m\n",
        "goteborgsflickor_14\thttps://www.archive.org/download/goteborgsflickor_1005_librivox/goteborgsflickor_14_stroemberg.mp3\thttps://www.gutenberg.org/files/18043/18043-0.txt\t  Lars Rolander (1942-2016) https://librivox.org/reader/2234  m\n",
        "goteborgsflickor_15\thttps://www.archive.org/download/goteborgsflickor_1005_librivox/goteborgsflickor_15_stroemberg.mp3\thttps://www.gutenberg.org/files/18043/18043-0.txt\t  Lars Rolander (1942-2016) https://librivox.org/reader/2234  m\n",
        "goteborgsflickor_16\thttps://www.archive.org/download/goteborgsflickor_1005_librivox/goteborgsflickor_16_stroemberg.mp3\thttps://www.gutenberg.org/files/18043/18043-0.txt\t  Lars Rolander (1942-2016) https://librivox.org/reader/2234  m\n",
        "goteborgsflickor_17\thttps://www.archive.org/download/goteborgsflickor_1005_librivox/goteborgsflickor_17_stroemberg.mp3\thttps://www.gutenberg.org/files/18043/18043-0.txt\t  Lars Rolander (1942-2016) https://librivox.org/reader/2234  m\n",
        "goteborgsflickor_18\thttps://www.archive.org/download/goteborgsflickor_1005_librivox/goteborgsflickor_18_stroemberg.mp3\thttps://www.gutenberg.org/files/18043/18043-0.txt\t  Lars Rolander (1942-2016) https://librivox.org/reader/2234  m\n",
        "goteborgsflickor_19\thttps://www.archive.org/download/goteborgsflickor_1005_librivox/goteborgsflickor_19_stroemberg.mp3\thttps://www.gutenberg.org/files/18043/18043-0.txt\t  Lars Rolander (1942-2016) https://librivox.org/reader/2234  m\n",
        "jaochnej_01\thttps://www.archive.org/download/ja_och_nej_0903_librivox/jaochnej_01_nyblom.mp3\thttp://runeberg.org/download.pl?mode=txtzip&work=jaochnej\thttps://www.gutenberg.org/files/18043/18043-0.txt    Lars Rolander (1942-2016) https://librivox.org/reader/2234  m\n",
        "jaochnej_02\thttps://www.archive.org/download/ja_och_nej_0903_librivox/jaochnej_02_nyblom.mp3\thttp://runeberg.org/download.pl?mode=txtzip&work=jaochnej\thttps://www.gutenberg.org/files/18043/18043-0.txt    Lars Rolander (1942-2016) https://librivox.org/reader/2234  m\n",
        "jaochnej_03\thttps://www.archive.org/download/ja_och_nej_0903_librivox/jaochnej_03_nyblom.mp3\thttp://runeberg.org/download.pl?mode=txtzip&work=jaochnej\thttps://www.gutenberg.org/files/18043/18043-0.txt    Lars Rolander (1942-2016) https://librivox.org/reader/2234  m\n",
        "jaochnej_04\thttps://www.archive.org/download/ja_och_nej_0903_librivox/jaochnej_04_nyblom.mp3\thttp://runeberg.org/download.pl?mode=txtzip&work=jaochnej\thttps://www.gutenberg.org/files/18043/18043-0.txt    Lars Rolander (1942-2016) https://librivox.org/reader/2234  m\n",
        "jaochnej_05\thttps://www.archive.org/download/ja_och_nej_0903_librivox/jaochnej_05_nyblom.mp3\thttp://runeberg.org/download.pl?mode=txtzip&work=jaochnej\thttps://www.gutenberg.org/files/18043/18043-0.txt    Lars Rolander (1942-2016) https://librivox.org/reader/2234  m\n",
        "jaochnej_06\thttps://www.archive.org/download/ja_och_nej_0903_librivox/jaochnej_06_nyblom.mp3\thttp://runeberg.org/download.pl?mode=txtzip&work=jaochnej\thttps://www.gutenberg.org/files/18043/18043-0.txt    Lars Rolander (1942-2016) https://librivox.org/reader/2234  m\n",
        "jaochnej_07\thttps://www.archive.org/download/ja_och_nej_0903_librivox/jaochnej_07_nyblom.mp3\thttp://runeberg.org/download.pl?mode=txtzip&work=jaochnej\thttps://www.gutenberg.org/files/18043/18043-0.txt    Lars Rolander (1942-2016) https://librivox.org/reader/2234  m\n",
        "jaochnej_08\thttps://www.archive.org/download/ja_och_nej_0903_librivox/jaochnej_08_nyblom.mp3\thttp://runeberg.org/download.pl?mode=txtzip&work=jaochnej\thttps://www.gutenberg.org/files/18043/18043-0.txt    Lars Rolander (1942-2016) https://librivox.org/reader/2234  m\n",
        "ennyckfullkvinna2_01\thttps://www.archive.org/download/nyckfull_kvinna_del2_lr_librivox/ennyckfullkvinna2_01_flygare-carlen.mp3\thttps://books.google.com/books?id=whQNAAAAYAAJ    Lars Rolander (1942-2016) https://librivox.org/reader/2234  m\n",
        "ennyckfullkvinna2_02\thttps://www.archive.org/download/nyckfull_kvinna_del2_lr_librivox/ennyckfullkvinna2_02_flygare-carlen.mp3\thttps://books.google.com/books?id=whQNAAAAYAAJ    Lars Rolander (1942-2016) https://librivox.org/reader/2234  m\n",
        "ennyckfullkvinna2_03\thttps://www.archive.org/download/nyckfull_kvinna_del2_lr_librivox/ennyckfullkvinna2_03_flygare-carlen.mp3\thttps://books.google.com/books?id=whQNAAAAYAAJ    Lars Rolander (1942-2016) https://librivox.org/reader/2234  m\n",
        "ennyckfullkvinna2_04\thttps://www.archive.org/download/nyckfull_kvinna_del2_lr_librivox/ennyckfullkvinna2_04_flygare-carlen.mp3\thttps://books.google.com/books?id=whQNAAAAYAAJ    Lars Rolander (1942-2016) https://librivox.org/reader/2234  m\n",
        "ennyckfullkvinna2_05\thttps://www.archive.org/download/nyckfull_kvinna_del2_lr_librivox/ennyckfullkvinna2_05_flygare-carlen.mp3\thttps://books.google.com/books?id=whQNAAAAYAAJ    Lars Rolander (1942-2016) https://librivox.org/reader/2234  m\n",
        "ennyckfullkvinna2_06\thttps://www.archive.org/download/nyckfull_kvinna_del2_lr_librivox/ennyckfullkvinna2_06_flygare-carlen.mp3\thttps://books.google.com/books?id=whQNAAAAYAAJ    Lars Rolander (1942-2016) https://librivox.org/reader/2234  m\n",
        "ennyckfullkvinna2_07\thttps://www.archive.org/download/nyckfull_kvinna_del2_lr_librivox/ennyckfullkvinna2_07_flygare-carlen.mp3\thttps://books.google.com/books?id=whQNAAAAYAAJ    Lars Rolander (1942-2016) https://librivox.org/reader/2234  m\n",
        "ennyckfullkvinna2_08\thttps://www.archive.org/download/nyckfull_kvinna_del2_lr_librivox/ennyckfullkvinna2_08_flygare-carlen.mp3\thttps://books.google.com/books?id=whQNAAAAYAAJ    Lars Rolander (1942-2016) https://librivox.org/reader/2234  m\n",
        "ennyckfullkvinna2_09\thttps://www.archive.org/download/nyckfull_kvinna_del2_lr_librivox/ennyckfullkvinna2_09_flygare-carlen.mp3\thttps://books.google.com/books?id=whQNAAAAYAAJ    Lars Rolander (1942-2016) https://librivox.org/reader/2234  m\n",
        "ennyckfullkvinna2_10\thttps://www.archive.org/download/nyckfull_kvinna_del2_lr_librivox/ennyckfullkvinna2_10_flygare-carlen.mp3\thttps://books.google.com/books?id=whQNAAAAYAAJ    Lars Rolander (1942-2016) https://librivox.org/reader/2234  m\n",
        "ennyckfullkvinna2_11\thttps://www.archive.org/download/nyckfull_kvinna_del2_lr_librivox/ennyckfullkvinna2_11_flygare-carlen.mp3\thttps://books.google.com/books?id=whQNAAAAYAAJ    Lars Rolander (1942-2016) https://librivox.org/reader/2234  m\n",
        "ennyckfullkvinna2_12\thttps://www.archive.org/download/nyckfull_kvinna_del2_lr_librivox/ennyckfullkvinna2_12_flygare-carlen.mp3\thttps://books.google.com/books?id=whQNAAAAYAAJ    Lars Rolander (1942-2016) https://librivox.org/reader/2234  m\n",
        "ennyckfullkvinna2_13\thttps://www.archive.org/download/nyckfull_kvinna_del2_lr_librivox/ennyckfullkvinna2_13_flygare-carlen.mp3\thttps://books.google.com/books?id=whQNAAAAYAAJ    Lars Rolander (1942-2016) https://librivox.org/reader/2234  m\n",
        "jenny\thttps://www.archive.org/download/multilingual_1204_librivox/swedish_jenny_runeberg_pa.mp3\thttps://www.gutenberg.org/cache/epub/13100/pg13100.txt\tPetra\thttps://librivox.org/reader/2909\tf\n",
        "jordensinre_01\thttps://www.archive.org/download/jordens_inre_p_librivox/jordensinre_01_witt.mp3\thttp://runeberg.org/jordinre/k1.html\t\tPetra\thttps://librivox.org/reader/2909\tf\n",
        "jordensinre_02\thttps://www.archive.org/download/jordens_inre_p_librivox/jordensinre_02_witt.mp3\thttp://runeberg.org/jordinre/k2.html\t\tPetra\thttps://librivox.org/reader/2909\tf\n",
        "jordensinre_03\thttps://www.archive.org/download/jordens_inre_p_librivox/jordensinre_03_witt.mp3\thttp://runeberg.org/jordinre/k3.html\t\tPetra\thttps://librivox.org/reader/2909\tf\n",
        "jordensinre_04\thttps://www.archive.org/download/jordens_inre_p_librivox/jordensinre_04_witt.mp3\thttp://runeberg.org/jordinre/k4.html\t\tPetra\thttps://librivox.org/reader/2909\tf\n",
        "jordensinre_05\thttps://www.archive.org/download/jordens_inre_p_librivox/jordensinre_05_witt.mp3\thttp://runeberg.org/jordinre/k5.html\t\tPetra\thttps://librivox.org/reader/2909\tf\n",
        "jordensinre_06\thttps://www.archive.org/download/jordens_inre_p_librivox/jordensinre_06_witt.mp3\thttp://runeberg.org/jordinre/k6.html\t\tPetra\thttps://librivox.org/reader/2909\tf\n",
        "jordensinre_07\thttps://www.archive.org/download/jordens_inre_p_librivox/jordensinre_07_witt.mp3\thttp://runeberg.org/jordinre/k7.html\t\tPetra\thttps://librivox.org/reader/2909\tf\n",
        "jordensinre_08\thttps://www.archive.org/download/jordens_inre_p_librivox/jordensinre_08_witt.mp3\thttp://runeberg.org/jordinre/k8.html\t\tPetra\thttps://librivox.org/reader/2909\tf\n",
        "jordensinre_09\thttps://www.archive.org/download/jordens_inre_p_librivox/jordensinre_09_witt.mp3\thttp://runeberg.org/jordinre/k9.html\t\tPetra\thttps://librivox.org/reader/2909\tf\n",
        "jordensinre_10\thttps://www.archive.org/download/jordens_inre_p_librivox/jordensinre_10_witt.mp3\thttp://runeberg.org/jordinre/k10.html\t\tPetra\thttps://librivox.org/reader/2909\tf\n",
        "jordensinre_11\thttps://www.archive.org/download/jordens_inre_p_librivox/jordensinre_11_witt.mp3\thttp://runeberg.org/jordinre/k11.html\t\tPetra\thttps://librivox.org/reader/2909\tf\n",
        "jordensinre_12\thttps://www.archive.org/download/jordens_inre_p_librivox/jordensinre_12_witt.mp3\thttp://runeberg.org/jordinre/k12.html\t\tPetra\thttps://librivox.org/reader/2909\tf\n",
        "jordensinre_13\thttps://www.archive.org/download/jordens_inre_p_librivox/jordensinre_13_witt.mp3\thttp://runeberg.org/jordinre/k13.html\t\tPetra\thttps://librivox.org/reader/2909\tf\n",
        "jordensinre_14\thttps://www.archive.org/download/jordens_inre_p_librivox/jordensinre_14_witt.mp3\thttp://runeberg.org/jordinre/k14.html\t\tPetra\thttps://librivox.org/reader/2909\tf\n",
        "landshovdingen\thttps://www.archive.org/download/multilingual_poetry_017_1103/swedish_landshovdingen_runeberg_pirv.mp3\thttp://runeberg.org/fstal/2p.html\tPentti Hirvonen\thttps://librivox.org/reader/5979\tm\n",
        "nocturne\thttps://www.archive.org/download/multilingual_poetry_017_1103/swedish_nocturne_sodergran_jb.mp3\thttp://web.archive.org/web/20180815020322/http://www.svensklyrik.se/poeter/edith-sodergran/nocturne-2\tJohan Borg\thttps://librivox.org/reader/5958\tm\n",
        "sockerpullor_01\thttps://www.archive.org/download/sockerpullor_pepparkorn_petra_librivox/sockerpullor_01_wraner.mp3\thttps://www.gutenberg.org/ebooks/31533.txt.utf-8\tPetra  https://librivox.org/reader/2909  f\n",
        "sockerpullor_02\thttps://www.archive.org/download/sockerpullor_pepparkorn_petra_librivox/sockerpullor_02_wraner.mp3\thttps://www.gutenberg.org/ebooks/31533.txt.utf-8\tPetra  https://librivox.org/reader/2909  f\n",
        "sockerpullor_03\thttps://www.archive.org/download/sockerpullor_pepparkorn_petra_librivox/sockerpullor_03_wraner.mp3\thttps://www.gutenberg.org/ebooks/31533.txt.utf-8\tPetra  https://librivox.org/reader/2909  f\n",
        "sockerpullor_04\thttps://www.archive.org/download/sockerpullor_pepparkorn_petra_librivox/sockerpullor_04_wraner.mp3\thttps://www.gutenberg.org/ebooks/31533.txt.utf-8\tPetra  https://librivox.org/reader/2909  f\n",
        "sockerpullor_05\thttps://www.archive.org/download/sockerpullor_pepparkorn_petra_librivox/sockerpullor_05_wraner.mp3\thttps://www.gutenberg.org/ebooks/31533.txt.utf-8\tPetra  https://librivox.org/reader/2909  f\n",
        "sockerpullor_06\thttps://www.archive.org/download/sockerpullor_pepparkorn_petra_librivox/sockerpullor_06_wraner.mp3\thttps://www.gutenberg.org/ebooks/31533.txt.utf-8\tPetra  https://librivox.org/reader/2909  f\n",
        "sockerpullor_07\thttps://www.archive.org/download/sockerpullor_pepparkorn_petra_librivox/sockerpullor_07_wraner.mp3\thttps://www.gutenberg.org/ebooks/31533.txt.utf-8\tPetra  https://librivox.org/reader/2909  f\n",
        "tomten\thttps://www.archive.org/download/christmasshortworks_2014_1412_librivox/csw14_08_tomten_128kb.mp3\thttps://www.gutenberg.org/cache/epub/15753/pg15753.txt\tJ Korth\thttps://librivox.org/reader/9337\tm\n",
        "ennyckfullkvinna_01\thttps://www.archive.org/download/nyckfull_kvinna_del1_1111_librivox/ennyckfullkvinna_01_flygare-carlen.mp3\thttp://runeberg.org/fcenyck/1/\tCecilia\thttps://librivox.org/reader/919\tf\n",
        "ennyckfullkvinna_02\thttps://www.archive.org/download/nyckfull_kvinna_del1_1111_librivox/ennyckfullkvinna_02_flygare-carlen.mp3\thttp://runeberg.org/fcenyck/1/\tCecilia\thttps://librivox.org/reader/919\tf\n",
        "ennyckfullkvinna_03\thttps://www.archive.org/download/nyckfull_kvinna_del1_1111_librivox/ennyckfullkvinna_03_flygare-carlen.mp3\thttp://runeberg.org/fcenyck/1/\tCecilia\thttps://librivox.org/reader/919\tf\n",
        "ennyckfullkvinna_04\thttps://www.archive.org/download/nyckfull_kvinna_del1_1111_librivox/ennyckfullkvinna_04_flygare-carlen.mp3\thttp://runeberg.org/fcenyck/1/\tCecilia\thttps://librivox.org/reader/919\tf\n",
        "ennyckfullkvinna_05\thttps://www.archive.org/download/nyckfull_kvinna_del1_1111_librivox/ennyckfullkvinna_05_flygare-carlen.mp3\thttp://runeberg.org/fcenyck/1/\tCecilia\thttps://librivox.org/reader/919\tf\n",
        "ennyckfullkvinna_06\thttps://www.archive.org/download/nyckfull_kvinna_del1_1111_librivox/ennyckfullkvinna_06_flygare-carlen.mp3\thttp://runeberg.org/fcenyck/1/\tCecilia\thttps://librivox.org/reader/919\tf\n",
        "ennyckfullkvinna_07\thttps://www.archive.org/download/nyckfull_kvinna_del1_1111_librivox/ennyckfullkvinna_07_flygare-carlen.mp3\thttp://runeberg.org/fcenyck/1/\tLars Rolander (1942-2016) https://librivox.org/reader/2234  m\n",
        "ennyckfullkvinna_07\thttps://www.archive.org/download/nyckfull_kvinna_del1_1111_librivox/ennyckfullkvinna_07_flygare-carlen.mp3\thttp://runeberg.org/fcenyck/1/\tLars Rolander (1942-2016) https://librivox.org/reader/2234  m\n",
        "ennyckfullkvinna_08\thttps://www.archive.org/download/nyckfull_kvinna_del1_1111_librivox/ennyckfullkvinna_08_flygare-carlen.mp3\thttp://runeberg.org/fcenyck/1/\tLars Rolander (1942-2016) https://librivox.org/reader/2234  m\n",
        "ennyckfullkvinna_09\thttps://www.archive.org/download/nyckfull_kvinna_del1_1111_librivox/ennyckfullkvinna_09_flygare-carlen.mp3\thttp://runeberg.org/fcenyck/1/\tLars Rolander (1942-2016) https://librivox.org/reader/2234  m\n",
        "ennyckfullkvinna_10\thttps://www.archive.org/download/nyckfull_kvinna_del1_1111_librivox/ennyckfullkvinna_10_flygare-carlen.mp3\thttp://runeberg.org/fcenyck/1/\tLars Rolander (1942-2016) https://librivox.org/reader/2234  m\n",
        "ennyckfullkvinna_11\thttps://www.archive.org/download/nyckfull_kvinna_del1_1111_librivox/ennyckfullkvinna_11_flygare-carlen.mp3\thttp://runeberg.org/fcenyck/1/\tLars Rolander (1942-2016) https://librivox.org/reader/2234  m\n",
        "ennyckfullkvinna_12\thttps://www.archive.org/download/nyckfull_kvinna_del1_1111_librivox/ennyckfullkvinna_12_flygare-carlen.mp3\thttp://runeberg.org/fcenyck/1/\tLars Rolander (1942-2016) https://librivox.org/reader/2234  m\n",
        "ennyckfullkvinna_13\thttps://www.archive.org/download/nyckfull_kvinna_del1_1111_librivox/ennyckfullkvinna_13_flygare-carlen.mp3\thttp://runeberg.org/fcenyck/1/\tLars Rolander (1942-2016) https://librivox.org/reader/2234  m\n",
        "ennyckfullkvinna_14\thttps://www.archive.org/download/nyckfull_kvinna_del1_1111_librivox/ennyckfullkvinna_14_flygare-carlen.mp3\thttp://runeberg.org/fcenyck/1/\tLars Rolander (1942-2016) https://librivox.org/reader/2234  m\n",
        "ennyckfullkvinna_15\thttps://www.archive.org/download/nyckfull_kvinna_del1_1111_librivox/ennyckfullkvinna_15_flygare-carlen.mp3\thttp://runeberg.org/fcenyck/1/\tLars Rolander (1942-2016) https://librivox.org/reader/2234  m\n",
        "ennyckfullkvinna_16\thttps://www.archive.org/download/nyckfull_kvinna_del1_1111_librivox/ennyckfullkvinna_16_flygare-carlen.mp3\thttp://runeberg.org/fcenyck/1/\tLars Rolander (1942-2016) https://librivox.org/reader/2234  m\n",
        "ennyckfullkvinna_17\thttps://www.archive.org/download/nyckfull_kvinna_del1_1111_librivox/ennyckfullkvinna_17_flygare-carlen.mp3\thttp://runeberg.org/fcenyck/1/\tLars Rolander (1942-2016) https://librivox.org/reader/2234  m\n",
        "ennyckfullkvinna_18\thttps://www.archive.org/download/nyckfull_kvinna_del1_1111_librivox/ennyckfullkvinna_18_flygare-carlen.mp3\thttp://runeberg.org/fcenyck/1/\tLars Rolander (1942-2016) https://librivox.org/reader/2234  m\n",
        "\"\"\""
      ]
    },
    {
      "cell_type": "code",
      "source": [
        "!apt install lynx"
      ],
      "metadata": {
        "id": "eTQ-LsJnqjsH",
        "outputId": "e92bed3b-dd44-4a15-b04a-e2ccf3650e25",
        "colab": {
          "base_uri": "https://localhost:8080/"
        }
      },
      "execution_count": 2,
      "outputs": [
        {
          "output_type": "stream",
          "name": "stdout",
          "text": [
            "Reading package lists... Done\n",
            "Building dependency tree       \n",
            "Reading state information... Done\n",
            "The following package was automatically installed and is no longer required:\n",
            "  libnvidia-common-460\n",
            "Use 'apt autoremove' to remove it.\n",
            "The following additional packages will be installed:\n",
            "  lynx-common\n",
            "The following NEW packages will be installed:\n",
            "  lynx lynx-common\n",
            "0 upgraded, 2 newly installed, 0 to remove and 62 not upgraded.\n",
            "Need to get 1,568 kB of archives.\n",
            "After this operation, 5,485 kB of additional disk space will be used.\n",
            "Get:1 http://archive.ubuntu.com/ubuntu bionic/universe amd64 lynx-common all 2.8.9dev16-3 [940 kB]\n",
            "Get:2 http://archive.ubuntu.com/ubuntu bionic/universe amd64 lynx amd64 2.8.9dev16-3 [628 kB]\n",
            "Fetched 1,568 kB in 2s (755 kB/s)\n",
            "Selecting previously unselected package lynx-common.\n",
            "(Reading database ... 155639 files and directories currently installed.)\n",
            "Preparing to unpack .../lynx-common_2.8.9dev16-3_all.deb ...\n",
            "Unpacking lynx-common (2.8.9dev16-3) ...\n",
            "Selecting previously unselected package lynx.\n",
            "Preparing to unpack .../lynx_2.8.9dev16-3_amd64.deb ...\n",
            "Unpacking lynx (2.8.9dev16-3) ...\n",
            "Setting up lynx-common (2.8.9dev16-3) ...\n",
            "Setting up lynx (2.8.9dev16-3) ...\n",
            "update-alternatives: using /usr/bin/lynx to provide /usr/bin/www-browser (www-browser) in auto mode\n",
            "Processing triggers for man-db (2.8.3-2ubuntu0.1) ...\n",
            "Processing triggers for mime-support (3.60ubuntu1) ...\n"
          ]
        }
      ]
    },
    {
      "cell_type": "code",
      "source": [
        "!lynx -dump 130.229.137.13:8000|grep 'wav$'|awk '{print $NF}'|grep http|while read i;do wget $i;done"
      ],
      "metadata": {
        "id": "4ec-Zy5rqdEt",
        "outputId": "a3aeb8a8-1741-4430-cc27-1d3f34e466af",
        "colab": {
          "base_uri": "https://localhost:8080/"
        }
      },
      "execution_count": 6,
      "outputs": [
        {
          "output_type": "stream",
          "name": "stdout",
          "text": [
            "--2022-07-12 09:09:00--  http://130.229.137.13:8000/djaeknarne_01.wav\n",
            "Connecting to 130.229.137.13:8000... connected.\n",
            "HTTP request sent, awaiting response... 200 OK\n",
            "Length: 24897184 (24M) [audio/x-wav]\n",
            "Saving to: ‘djaeknarne_01.wav’\n",
            "\n",
            "djaeknarne_01.wav   100%[===================>]  23.74M  6.90MB/s    in 3.4s    \n",
            "\n",
            "2022-07-12 09:09:03 (6.90 MB/s) - ‘djaeknarne_01.wav’ saved [24897184/24897184]\n",
            "\n",
            "--2022-07-12 09:09:03--  http://130.229.137.13:8000/djaeknarne_02.wav\n",
            "Connecting to 130.229.137.13:8000... connected.\n",
            "HTTP request sent, awaiting response... 200 OK\n",
            "Length: 26337466 (25M) [audio/x-wav]\n",
            "Saving to: ‘djaeknarne_02.wav’\n",
            "\n",
            "djaeknarne_02.wav   100%[===================>]  25.12M  6.90MB/s    in 3.6s    \n",
            "\n",
            "2022-07-12 09:09:08 (6.90 MB/s) - ‘djaeknarne_02.wav’ saved [26337466/26337466]\n",
            "\n",
            "--2022-07-12 09:09:08--  http://130.229.137.13:8000/djaeknarne_03.wav\n",
            "Connecting to 130.229.137.13:8000... connected.\n",
            "HTTP request sent, awaiting response... 200 OK\n",
            "Length: 49602752 (47M) [audio/x-wav]\n",
            "Saving to: ‘djaeknarne_03.wav’\n",
            "\n",
            "djaeknarne_03.wav   100%[===================>]  47.30M  12.7MB/s    in 5.3s    \n",
            "\n",
            "2022-07-12 09:09:13 (8.85 MB/s) - ‘djaeknarne_03.wav’ saved [49602752/49602752]\n",
            "\n",
            "--2022-07-12 09:09:13--  http://130.229.137.13:8000/djaeknarne_04.wav\n",
            "Connecting to 130.229.137.13:8000... connected.\n",
            "HTTP request sent, awaiting response... 200 OK\n",
            "Length: 44705946 (43M) [audio/x-wav]\n",
            "Saving to: ‘djaeknarne_04.wav’\n",
            "\n",
            "djaeknarne_04.wav   100%[===================>]  42.63M  6.34MB/s    in 7.7s    \n",
            "\n",
            "2022-07-12 09:09:22 (5.51 MB/s) - ‘djaeknarne_04.wav’ saved [44705946/44705946]\n",
            "\n",
            "--2022-07-12 09:09:22--  http://130.229.137.13:8000/djaeknarne_05.wav\n",
            "Connecting to 130.229.137.13:8000... connected.\n",
            "HTTP request sent, awaiting response... 200 OK\n",
            "Length: 40640874 (39M) [audio/x-wav]\n",
            "Saving to: ‘djaeknarne_05.wav’\n",
            "\n",
            "djaeknarne_05.wav   100%[===================>]  38.76M  11.7MB/s    in 4.9s    \n",
            "\n",
            "2022-07-12 09:09:27 (7.92 MB/s) - ‘djaeknarne_05.wav’ saved [40640874/40640874]\n",
            "\n",
            "--2022-07-12 09:09:27--  http://130.229.137.13:8000/djaeknarne_06.wav\n",
            "Connecting to 130.229.137.13:8000... connected.\n",
            "HTTP request sent, awaiting response... 200 OK\n",
            "Length: 16609900 (16M) [audio/x-wav]\n",
            "Saving to: ‘djaeknarne_06.wav’\n",
            "\n",
            "djaeknarne_06.wav   100%[===================>]  15.84M  5.82MB/s    in 2.7s    \n",
            "\n",
            "2022-07-12 09:09:30 (5.82 MB/s) - ‘djaeknarne_06.wav’ saved [16609900/16609900]\n",
            "\n",
            "--2022-07-12 09:09:30--  http://130.229.137.13:8000/djaeknarne_07.wav\n",
            "Connecting to 130.229.137.13:8000... connected.\n",
            "HTTP request sent, awaiting response... 200 OK\n",
            "Length: 64643436 (62M) [audio/x-wav]\n",
            "Saving to: ‘djaeknarne_07.wav’\n",
            "\n",
            "djaeknarne_07.wav   100%[===================>]  61.65M  4.83MB/s    in 8.8s    \n",
            "\n",
            "2022-07-12 09:09:39 (6.98 MB/s) - ‘djaeknarne_07.wav’ saved [64643436/64643436]\n",
            "\n",
            "--2022-07-12 09:09:39--  http://130.229.137.13:8000/djaeknarne_08.wav\n",
            "Connecting to 130.229.137.13:8000... connected.\n",
            "HTTP request sent, awaiting response... 200 OK\n",
            "Length: 30753634 (29M) [audio/x-wav]\n",
            "Saving to: ‘djaeknarne_08.wav’\n",
            "\n",
            "djaeknarne_08.wav   100%[===================>]  29.33M  8.17MB/s    in 3.8s    \n",
            "\n",
            "2022-07-12 09:09:44 (7.71 MB/s) - ‘djaeknarne_08.wav’ saved [30753634/30753634]\n",
            "\n",
            "--2022-07-12 09:09:44--  http://130.229.137.13:8000/djaeknarne_09.wav\n",
            "Connecting to 130.229.137.13:8000... connected.\n",
            "HTTP request sent, awaiting response... 200 OK\n",
            "Length: 29697860 (28M) [audio/x-wav]\n",
            "Saving to: ‘djaeknarne_09.wav’\n",
            "\n",
            "djaeknarne_09.wav   100%[===================>]  28.32M  5.40MB/s    in 6.6s    \n",
            "\n",
            "2022-07-12 09:09:51 (4.28 MB/s) - ‘djaeknarne_09.wav’ saved [29697860/29697860]\n",
            "\n",
            "--2022-07-12 09:09:51--  http://130.229.137.13:8000/djaeknarne_10.wav\n",
            "Connecting to 130.229.137.13:8000... connected.\n",
            "HTTP request sent, awaiting response... 200 OK\n",
            "Length: 36449572 (35M) [audio/x-wav]\n",
            "Saving to: ‘djaeknarne_10.wav’\n",
            "\n",
            "djaeknarne_10.wav   100%[===================>]  34.76M  10.0MB/s    in 4.3s    \n",
            "\n",
            "2022-07-12 09:09:55 (8.00 MB/s) - ‘djaeknarne_10.wav’ saved [36449572/36449572]\n",
            "\n",
            "--2022-07-12 09:09:55--  http://130.229.137.13:8000/djaeknarne_11.wav\n",
            "Connecting to 130.229.137.13:8000... connected.\n",
            "HTTP request sent, awaiting response... 200 OK\n",
            "Length: 108258304 (103M) [audio/x-wav]\n",
            "Saving to: ‘djaeknarne_11.wav’\n",
            "\n",
            "djaeknarne_11.wav   100%[===================>] 103.24M  8.50MB/s    in 15s     \n",
            "\n",
            "2022-07-12 09:10:11 (6.74 MB/s) - ‘djaeknarne_11.wav’ saved [108258304/108258304]\n",
            "\n",
            "--2022-07-12 09:10:11--  http://130.229.137.13:8000/djaeknarne_12.wav\n",
            "Connecting to 130.229.137.13:8000... connected.\n",
            "HTTP request sent, awaiting response... 200 OK\n",
            "Length: 49122092 (47M) [audio/x-wav]\n",
            "Saving to: ‘djaeknarne_12.wav’\n",
            "\n",
            "djaeknarne_12.wav   100%[===================>]  46.85M  13.0MB/s    in 5.1s    \n",
            "\n",
            "2022-07-12 09:10:17 (9.17 MB/s) - ‘djaeknarne_12.wav’ saved [49122092/49122092]\n",
            "\n",
            "--2022-07-12 09:10:17--  http://130.229.137.13:8000/efter_torgdagen.wav\n",
            "Connecting to 130.229.137.13:8000... connected.\n",
            "HTTP request sent, awaiting response... 200 OK\n",
            "Length: 18013334 (17M) [audio/x-wav]\n",
            "Saving to: ‘efter_torgdagen.wav’\n",
            "\n",
            "efter_torgdagen.wav 100%[===================>]  17.18M  6.05MB/s    in 2.8s    \n",
            "\n",
            "2022-07-12 09:10:20 (6.05 MB/s) - ‘efter_torgdagen.wav’ saved [18013334/18013334]\n",
            "\n",
            "--2022-07-12 09:10:20--  http://130.229.137.13:8000/elddonet.wav\n",
            "Connecting to 130.229.137.13:8000... connected.\n",
            "HTTP request sent, awaiting response... 200 OK\n",
            "Length: 31633110 (30M) [audio/x-wav]\n",
            "Saving to: ‘elddonet.wav’\n",
            "\n",
            "elddonet.wav        100%[===================>]  30.17M  5.13MB/s    in 6.7s    \n",
            "\n",
            "2022-07-12 09:10:27 (4.51 MB/s) - ‘elddonet.wav’ saved [31633110/31633110]\n",
            "\n",
            "--2022-07-12 09:10:27--  http://130.229.137.13:8000/elin_i_hagen.wav\n",
            "Connecting to 130.229.137.13:8000... connected.\n",
            "HTTP request sent, awaiting response... 200 OK\n",
            "Length: 3223510 (3.1M) [audio/x-wav]\n",
            "Saving to: ‘elin_i_hagen.wav’\n",
            "\n",
            "elin_i_hagen.wav    100%[===================>]   3.07M  1.77MB/s    in 1.7s    \n",
            "\n",
            "2022-07-12 09:10:29 (1.77 MB/s) - ‘elin_i_hagen.wav’ saved [3223510/3223510]\n",
            "\n",
            "--2022-07-12 09:10:29--  http://130.229.137.13:8000/en_saga_om_vreden.wav\n",
            "Connecting to 130.229.137.13:8000... connected.\n",
            "HTTP request sent, awaiting response... 200 OK\n",
            "Length: 7238934 (6.9M) [audio/x-wav]\n",
            "Saving to: ‘en_saga_om_vreden.wav’\n",
            "\n",
            "en_saga_om_vreden.w 100%[===================>]   6.90M  3.20MB/s    in 2.2s    \n",
            "\n",
            "2022-07-12 09:10:32 (3.20 MB/s) - ‘en_saga_om_vreden.wav’ saved [7238934/7238934]\n",
            "\n",
            "--2022-07-12 09:10:32--  http://130.229.137.13:8000/ennyckfullkvinna2_01.wav\n",
            "Connecting to 130.229.137.13:8000... connected.\n",
            "HTTP request sent, awaiting response... 200 OK\n",
            "Length: 31360932 (30M) [audio/x-wav]\n",
            "Saving to: ‘ennyckfullkvinna2_01.wav’\n",
            "\n",
            "ennyckfullkvinna2_0 100%[===================>]  29.91M  8.55MB/s    in 3.9s    \n",
            "\n",
            "2022-07-12 09:10:36 (7.58 MB/s) - ‘ennyckfullkvinna2_01.wav’ saved [31360932/31360932]\n",
            "\n",
            "--2022-07-12 09:10:36--  http://130.229.137.13:8000/ennyckfullkvinna2_02.wav\n",
            "Connecting to 130.229.137.13:8000... connected.\n",
            "HTTP request sent, awaiting response... 200 OK\n",
            "Length: 31264594 (30M) [audio/x-wav]\n",
            "Saving to: ‘ennyckfullkvinna2_02.wav’\n",
            "\n",
            "ennyckfullkvinna2_0 100%[===================>]  29.82M  8.35MB/s    in 4.0s    \n",
            "\n",
            "2022-07-12 09:10:41 (7.43 MB/s) - ‘ennyckfullkvinna2_02.wav’ saved [31264594/31264594]\n",
            "\n",
            "--2022-07-12 09:10:41--  http://130.229.137.13:8000/ennyckfullkvinna2_03.wav\n",
            "Connecting to 130.229.137.13:8000... connected.\n",
            "HTTP request sent, awaiting response... 200 OK\n",
            "Length: 49504562 (47M) [audio/x-wav]\n",
            "Saving to: ‘ennyckfullkvinna2_03.wav’\n",
            "\n",
            "ennyckfullkvinna2_0 100%[===================>]  47.21M  12.8MB/s    in 5.3s    \n",
            "\n",
            "2022-07-12 09:10:47 (8.93 MB/s) - ‘ennyckfullkvinna2_03.wav’ saved [49504562/49504562]\n",
            "\n",
            "--2022-07-12 09:10:47--  http://130.229.137.13:8000/ennyckfullkvinna2_04.wav\n",
            "Connecting to 130.229.137.13:8000... connected.\n",
            "HTTP request sent, awaiting response... 200 OK\n",
            "Length: 54208294 (52M) [audio/x-wav]\n",
            "Saving to: ‘ennyckfullkvinna2_04.wav’\n",
            "\n",
            "ennyckfullkvinna2_0 100%[===================>]  51.70M  12.2MB/s    in 5.9s    \n",
            "\n",
            "2022-07-12 09:10:53 (8.72 MB/s) - ‘ennyckfullkvinna2_04.wav’ saved [54208294/54208294]\n",
            "\n",
            "--2022-07-12 09:10:53--  http://130.229.137.13:8000/ennyckfullkvinna2_05.wav\n",
            "Connecting to 130.229.137.13:8000... connected.\n",
            "HTTP request sent, awaiting response... 200 OK\n",
            "Length: 54272504 (52M) [audio/x-wav]\n",
            "Saving to: ‘ennyckfullkvinna2_05.wav’\n",
            "\n",
            "ennyckfullkvinna2_0 100%[===================>]  51.76M  12.6MB/s    in 5.9s    \n",
            "\n",
            "2022-07-12 09:10:59 (8.79 MB/s) - ‘ennyckfullkvinna2_05.wav’ saved [54272504/54272504]\n",
            "\n",
            "--2022-07-12 09:10:59--  http://130.229.137.13:8000/ennyckfullkvinna2_06.wav\n",
            "Connecting to 130.229.137.13:8000... connected.\n",
            "HTTP request sent, awaiting response... 200 OK\n",
            "Length: 67584320 (64M) [audio/x-wav]\n",
            "Saving to: ‘ennyckfullkvinna2_06.wav’\n",
            "\n",
            "ennyckfullkvinna2_0 100%[===================>]  64.45M  12.6MB/s    in 6.9s    \n",
            "\n",
            "2022-07-12 09:11:07 (9.40 MB/s) - ‘ennyckfullkvinna2_06.wav’ saved [67584320/67584320]\n",
            "\n",
            "--2022-07-12 09:11:07--  http://130.229.137.13:8000/ennyckfullkvinna2_07.wav\n",
            "Connecting to 130.229.137.13:8000... connected.\n",
            "HTTP request sent, awaiting response... 200 OK\n",
            "Length: 40288632 (38M) [audio/x-wav]\n",
            "Saving to: ‘ennyckfullkvinna2_07.wav’\n",
            "\n",
            "ennyckfullkvinna2_0 100%[===================>]  38.42M  11.4MB/s    in 4.6s    \n",
            "\n",
            "2022-07-12 09:11:12 (8.27 MB/s) - ‘ennyckfullkvinna2_07.wav’ saved [40288632/40288632]\n",
            "\n",
            "--2022-07-12 09:11:12--  http://130.229.137.13:8000/ennyckfullkvinna2_08.wav\n",
            "Connecting to 130.229.137.13:8000... connected.\n",
            "HTTP request sent, awaiting response... 200 OK\n",
            "Length: 67424488 (64M) [audio/x-wav]\n",
            "Saving to: ‘ennyckfullkvinna2_08.wav’\n",
            "\n",
            "ennyckfullkvinna2_0 100%[===================>]  64.30M  12.5MB/s    in 6.7s    \n",
            "\n",
            "2022-07-12 09:11:19 (9.64 MB/s) - ‘ennyckfullkvinna2_08.wav’ saved [67424488/67424488]\n",
            "\n",
            "--2022-07-12 09:11:19--  http://130.229.137.13:8000/ennyckfullkvinna2_09.wav\n",
            "Connecting to 130.229.137.13:8000... connected.\n",
            "HTTP request sent, awaiting response... 200 OK\n",
            "Length: 42464720 (40M) [audio/x-wav]\n",
            "Saving to: ‘ennyckfullkvinna2_09.wav’\n",
            "\n",
            "ennyckfullkvinna2_0 100%[===================>]  40.50M  12.3MB/s    in 4.7s    \n",
            "\n",
            "2022-07-12 09:11:24 (8.57 MB/s) - ‘ennyckfullkvinna2_09.wav’ saved [42464720/42464720]\n",
            "\n",
            "--2022-07-12 09:11:24--  http://130.229.137.13:8000/ennyckfullkvinna2_10.wav\n",
            "Connecting to 130.229.137.13:8000... connected.\n",
            "HTTP request sent, awaiting response... 200 OK\n",
            "Length: 55328730 (53M) [audio/x-wav]\n",
            "Saving to: ‘ennyckfullkvinna2_10.wav’\n",
            "\n",
            "ennyckfullkvinna2_1 100%[===================>]  52.76M  12.5MB/s    in 5.8s    \n",
            "\n",
            "2022-07-12 09:11:30 (9.09 MB/s) - ‘ennyckfullkvinna2_10.wav’ saved [55328730/55328730]\n",
            "\n",
            "--2022-07-12 09:11:30--  http://130.229.137.13:8000/ennyckfullkvinna2_11.wav\n",
            "Connecting to 130.229.137.13:8000... connected.\n",
            "HTTP request sent, awaiting response... 200 OK\n",
            "Length: 73345192 (70M) [audio/x-wav]\n",
            "Saving to: ‘ennyckfullkvinna2_11.wav’\n",
            "\n",
            "ennyckfullkvinna2_1 100%[===================>]  69.95M  12.9MB/s    in 6.9s    \n",
            "\n",
            "2022-07-12 09:11:38 (10.1 MB/s) - ‘ennyckfullkvinna2_11.wav’ saved [73345192/73345192]\n",
            "\n",
            "--2022-07-12 09:11:38--  http://130.229.137.13:8000/ennyckfullkvinna2_12.wav\n",
            "Connecting to 130.229.137.13:8000... connected.\n",
            "HTTP request sent, awaiting response... 200 OK\n",
            "Length: 58496620 (56M) [audio/x-wav]\n",
            "Saving to: ‘ennyckfullkvinna2_12.wav’\n",
            "\n",
            "ennyckfullkvinna2_1 100%[===================>]  55.79M  12.7MB/s    in 6.0s    \n",
            "\n",
            "2022-07-12 09:11:44 (9.27 MB/s) - ‘ennyckfullkvinna2_12.wav’ saved [58496620/58496620]\n",
            "\n",
            "--2022-07-12 09:11:44--  http://130.229.137.13:8000/ennyckfullkvinna2_13.wav\n",
            "Connecting to 130.229.137.13:8000... connected.\n",
            "HTTP request sent, awaiting response... 200 OK\n",
            "Length: 42432630 (40M) [audio/x-wav]\n",
            "Saving to: ‘ennyckfullkvinna2_13.wav’\n",
            "\n",
            "ennyckfullkvinna2_1 100%[===================>]  40.47M  12.2MB/s    in 4.7s    \n",
            "\n",
            "2022-07-12 09:11:49 (8.53 MB/s) - ‘ennyckfullkvinna2_13.wav’ saved [42432630/42432630]\n",
            "\n",
            "--2022-07-12 09:11:49--  http://130.229.137.13:8000/ennyckfullkvinna_01.wav\n",
            "Connecting to 130.229.137.13:8000... connected.\n",
            "HTTP request sent, awaiting response... 200 OK\n",
            "Length: 55136588 (53M) [audio/x-wav]\n",
            "Saving to: ‘ennyckfullkvinna_01.wav’\n",
            "\n",
            "ennyckfullkvinna_01 100%[===================>]  52.58M  5.84MB/s    in 8.1s    \n",
            "\n",
            "2022-07-12 09:11:58 (6.49 MB/s) - ‘ennyckfullkvinna_01.wav’ saved [55136588/55136588]\n",
            "\n",
            "--2022-07-12 09:11:58--  http://130.229.137.13:8000/ennyckfullkvinna_02.wav\n",
            "Connecting to 130.229.137.13:8000... connected.\n",
            "HTTP request sent, awaiting response... 200 OK\n",
            "Length: 24766872 (24M) [audio/x-wav]\n",
            "Saving to: ‘ennyckfullkvinna_02.wav’\n",
            "\n",
            "ennyckfullkvinna_02 100%[===================>]  23.62M  5.26MB/s    in 5.7s    \n",
            "\n",
            "2022-07-12 09:12:04 (4.14 MB/s) - ‘ennyckfullkvinna_02.wav’ saved [24766872/24766872]\n",
            "\n",
            "--2022-07-12 09:12:04--  http://130.229.137.13:8000/for_morgonbris.wav\n",
            "Connecting to 130.229.137.13:8000... connected.\n",
            "HTTP request sent, awaiting response... 200 OK\n",
            "Length: 3478468 (3.3M) [audio/x-wav]\n",
            "Saving to: ‘for_morgonbris.wav’\n",
            "\n",
            "for_morgonbris.wav  100%[===================>]   3.32M  1.80MB/s    in 1.8s    \n",
            "\n",
            "2022-07-12 09:12:07 (1.80 MB/s) - ‘for_morgonbris.wav’ saved [3478468/3478468]\n",
            "\n",
            "--2022-07-12 09:12:07--  http://130.229.137.13:8000/goteborgsflickor_01.wav\n",
            "Connecting to 130.229.137.13:8000... connected.\n",
            "HTTP request sent, awaiting response... 200 OK\n",
            "Length: 18976322 (18M) [audio/x-wav]\n",
            "Saving to: ‘goteborgsflickor_01.wav’\n",
            "\n",
            "goteborgsflickor_01 100%[===================>]  18.10M  5.41MB/s    in 3.3s    \n",
            "\n",
            "2022-07-12 09:12:10 (5.41 MB/s) - ‘goteborgsflickor_01.wav’ saved [18976322/18976322]\n",
            "\n",
            "--2022-07-12 09:12:10--  http://130.229.137.13:8000/goteborgsflickor_02.wav\n",
            "Connecting to 130.229.137.13:8000... connected.\n",
            "HTTP request sent, awaiting response... 200 OK\n",
            "Length: 19712278 (19M) [audio/x-wav]\n",
            "Saving to: ‘goteborgsflickor_02.wav’\n",
            "\n",
            "goteborgsflickor_02 100%[===================>]  18.80M  5.21MB/s    in 4.3s    \n",
            "\n",
            "2022-07-12 09:12:15 (4.40 MB/s) - ‘goteborgsflickor_02.wav’ saved [19712278/19712278]\n",
            "\n",
            "--2022-07-12 09:12:15--  http://130.229.137.13:8000/goteborgsflickor_03.wav\n",
            "Connecting to 130.229.137.13:8000... connected.\n",
            "HTTP request sent, awaiting response... 200 OK\n",
            "Length: 14752120 (14M) [audio/x-wav]\n",
            "Saving to: ‘goteborgsflickor_03.wav’\n",
            "\n",
            "goteborgsflickor_03 100%[===================>]  14.07M  5.27MB/s    in 2.7s    \n",
            "\n",
            "2022-07-12 09:12:18 (5.27 MB/s) - ‘goteborgsflickor_03.wav’ saved [14752120/14752120]\n",
            "\n",
            "--2022-07-12 09:12:18--  http://130.229.137.13:8000/goteborgsflickor_04.wav\n",
            "Connecting to 130.229.137.13:8000... connected.\n",
            "HTTP request sent, awaiting response... 200 OK\n",
            "Length: 15104340 (14M) [audio/x-wav]\n",
            "Saving to: ‘goteborgsflickor_04.wav’\n",
            "\n",
            "goteborgsflickor_04 100%[===================>]  14.40M  5.31MB/s    in 2.7s    \n",
            "\n",
            "2022-07-12 09:12:21 (5.31 MB/s) - ‘goteborgsflickor_04.wav’ saved [15104340/15104340]\n",
            "\n",
            "--2022-07-12 09:12:21--  http://130.229.137.13:8000/goteborgsflickor_05.wav\n",
            "Connecting to 130.229.137.13:8000... connected.\n",
            "HTTP request sent, awaiting response... 200 OK\n",
            "Length: 14784110 (14M) [audio/x-wav]\n",
            "Saving to: ‘goteborgsflickor_05.wav’\n",
            "\n",
            "goteborgsflickor_05 100%[===================>]  14.10M  5.21MB/s    in 2.7s    \n",
            "\n",
            "2022-07-12 09:12:25 (5.21 MB/s) - ‘goteborgsflickor_05.wav’ saved [14784110/14784110]\n",
            "\n",
            "--2022-07-12 09:12:25--  http://130.229.137.13:8000/goteborgsflickor_06.wav\n",
            "Connecting to 130.229.137.13:8000... connected.\n",
            "HTTP request sent, awaiting response... 200 OK\n",
            "Length: 13568360 (13M) [audio/x-wav]\n",
            "Saving to: ‘goteborgsflickor_06.wav’\n",
            "\n",
            "goteborgsflickor_06 100%[===================>]  12.94M  2.67MB/s    in 5.1s    \n",
            "\n",
            "2022-07-12 09:12:30 (2.55 MB/s) - ‘goteborgsflickor_06.wav’ saved [13568360/13568360]\n",
            "\n",
            "--2022-07-12 09:12:30--  http://130.229.137.13:8000/goteborgsflickor_07.wav\n",
            "Connecting to 130.229.137.13:8000... connected.\n",
            "HTTP request sent, awaiting response... 200 OK\n",
            "Length: 14527732 (14M) [audio/x-wav]\n",
            "Saving to: ‘goteborgsflickor_07.wav’\n",
            "\n",
            "goteborgsflickor_07 100%[===================>]  13.85M  3.80MB/s    in 3.6s    \n",
            "\n",
            "2022-07-12 09:12:34 (3.80 MB/s) - ‘goteborgsflickor_07.wav’ saved [14527732/14527732]\n",
            "\n",
            "--2022-07-12 09:12:34--  http://130.229.137.13:8000/goteborgsflickor_08.wav\n",
            "Connecting to 130.229.137.13:8000... connected.\n",
            "HTTP request sent, awaiting response... 200 OK\n",
            "Length: 15872268 (15M) [audio/x-wav]\n",
            "Saving to: ‘goteborgsflickor_08.wav’\n",
            "\n",
            "goteborgsflickor_08 100%[===================>]  15.14M  3.45MB/s    in 5.0s    \n",
            "\n",
            "2022-07-12 09:12:40 (3.01 MB/s) - ‘goteborgsflickor_08.wav’ saved [15872268/15872268]\n",
            "\n",
            "--2022-07-12 09:12:40--  http://130.229.137.13:8000/goteborgsflickor_09.wav\n",
            "Connecting to 130.229.137.13:8000... connected.\n",
            "HTTP request sent, awaiting response... 200 OK\n",
            "Length: 7872336 (7.5M) [audio/x-wav]\n",
            "Saving to: ‘goteborgsflickor_09.wav’\n",
            "\n",
            "goteborgsflickor_09 100%[===================>]   7.51M  3.52MB/s    in 2.1s    \n",
            "\n",
            "2022-07-12 09:12:42 (3.52 MB/s) - ‘goteborgsflickor_09.wav’ saved [7872336/7872336]\n",
            "\n",
            "--2022-07-12 09:12:42--  http://130.229.137.13:8000/goteborgsflickor_10.wav\n",
            "Connecting to 130.229.137.13:8000... connected.\n",
            "HTTP request sent, awaiting response... 200 OK\n",
            "Length: 9856254 (9.4M) [audio/x-wav]\n",
            "Saving to: ‘goteborgsflickor_10.wav’\n",
            "\n",
            "goteborgsflickor_10 100%[===================>]   9.40M   384KB/s    in 11s     \n",
            "\n",
            "2022-07-12 09:12:54 (857 KB/s) - ‘goteborgsflickor_10.wav’ saved [9856254/9856254]\n",
            "\n",
            "--2022-07-12 09:12:54--  http://130.229.137.13:8000/goteborgsflickor_11.wav\n",
            "Connecting to 130.229.137.13:8000... connected.\n",
            "HTTP request sent, awaiting response... 200 OK\n",
            "Length: 11008328 (10M) [audio/x-wav]\n",
            "Saving to: ‘goteborgsflickor_11.wav’\n",
            "\n",
            "goteborgsflickor_11 100%[===================>]  10.50M  1.68MB/s    in 14s     \n",
            "\n",
            "2022-07-12 09:13:08 (779 KB/s) - ‘goteborgsflickor_11.wav’ saved [11008328/11008328]\n",
            "\n",
            "--2022-07-12 09:13:08--  http://130.229.137.13:8000/goteborgsflickor_12.wav\n",
            "Connecting to 130.229.137.13:8000... connected.\n",
            "HTTP request sent, awaiting response... 200 OK\n",
            "Length: 11904066 (11M) [audio/x-wav]\n",
            "Saving to: ‘goteborgsflickor_12.wav’\n",
            "\n",
            "goteborgsflickor_12 100%[===================>]  11.35M  4.45MB/s    in 2.5s    \n",
            "\n",
            "2022-07-12 09:13:11 (4.45 MB/s) - ‘goteborgsflickor_12.wav’ saved [11904066/11904066]\n",
            "\n",
            "--2022-07-12 09:13:11--  http://130.229.137.13:8000/goteborgsflickor_13.wav\n",
            "Connecting to 130.229.137.13:8000... connected.\n",
            "HTTP request sent, awaiting response... 200 OK\n",
            "Length: 13088478 (12M) [audio/x-wav]\n",
            "Saving to: ‘goteborgsflickor_13.wav’\n",
            "\n",
            "goteborgsflickor_13 100%[===================>]  12.48M  4.94MB/s    in 2.5s    \n",
            "\n",
            "2022-07-12 09:13:14 (4.94 MB/s) - ‘goteborgsflickor_13.wav’ saved [13088478/13088478]\n",
            "\n",
            "--2022-07-12 09:13:14--  http://130.229.137.13:8000/goteborgsflickor_14.wav\n",
            "Connecting to 130.229.137.13:8000... connected.\n",
            "HTTP request sent, awaiting response... 200 OK\n",
            "Length: 20480216 (20M) [audio/x-wav]\n",
            "Saving to: ‘goteborgsflickor_14.wav’\n",
            "\n",
            "goteborgsflickor_14 100%[===================>]  19.53M  6.49MB/s    in 3.0s    \n",
            "\n",
            "2022-07-12 09:13:18 (6.49 MB/s) - ‘goteborgsflickor_14.wav’ saved [20480216/20480216]\n",
            "\n",
            "--2022-07-12 09:13:18--  http://130.229.137.13:8000/goteborgsflickor_15.wav\n",
            "Connecting to 130.229.137.13:8000... connected.\n",
            "HTTP request sent, awaiting response... 200 OK\n",
            "Length: 10944364 (10M) [audio/x-wav]\n",
            "Saving to: ‘goteborgsflickor_15.wav’\n",
            "\n",
            "goteborgsflickor_15 100%[===================>]  10.44M  4.40MB/s    in 2.4s    \n",
            "\n",
            "2022-07-12 09:13:21 (4.40 MB/s) - ‘goteborgsflickor_15.wav’ saved [10944364/10944364]\n",
            "\n",
            "--2022-07-12 09:13:21--  http://130.229.137.13:8000/goteborgsflickor_16.wav\n",
            "Connecting to 130.229.137.13:8000... connected.\n",
            "HTTP request sent, awaiting response... 200 OK\n",
            "Length: 21952188 (21M) [audio/x-wav]\n",
            "Saving to: ‘goteborgsflickor_16.wav’\n",
            "\n",
            "goteborgsflickor_16 100%[===================>]  20.93M  6.26MB/s    in 3.3s    \n",
            "\n",
            "2022-07-12 09:13:24 (6.26 MB/s) - ‘goteborgsflickor_16.wav’ saved [21952188/21952188]\n",
            "\n",
            "--2022-07-12 09:13:24--  http://130.229.137.13:8000/goteborgsflickor_17.wav\n",
            "Connecting to 130.229.137.13:8000... connected.\n",
            "HTTP request sent, awaiting response... 200 OK\n",
            "Length: 21856318 (21M) [audio/x-wav]\n",
            "Saving to: ‘goteborgsflickor_17.wav’\n",
            "\n",
            "goteborgsflickor_17 100%[===================>]  20.84M  5.88MB/s    in 3.5s    \n",
            "\n",
            "2022-07-12 09:13:28 (5.88 MB/s) - ‘goteborgsflickor_17.wav’ saved [21856318/21856318]\n",
            "\n",
            "--2022-07-12 09:13:28--  http://130.229.137.13:8000/goteborgsflickor_18.wav\n",
            "Connecting to 130.229.137.13:8000... connected.\n",
            "HTTP request sent, awaiting response... 200 OK\n",
            "Length: 13248232 (13M) [audio/x-wav]\n",
            "Saving to: ‘goteborgsflickor_18.wav’\n",
            "\n",
            "goteborgsflickor_18 100%[===================>]  12.63M  4.80MB/s    in 2.6s    \n",
            "\n",
            "2022-07-12 09:13:31 (4.80 MB/s) - ‘goteborgsflickor_18.wav’ saved [13248232/13248232]\n",
            "\n",
            "--2022-07-12 09:13:31--  http://130.229.137.13:8000/goteborgsflickor_19.wav\n",
            "Connecting to 130.229.137.13:8000... connected.\n",
            "HTTP request sent, awaiting response... 200 OK\n",
            "Length: 31904116 (30M) [audio/x-wav]\n",
            "Saving to: ‘goteborgsflickor_19.wav’\n",
            "\n",
            "goteborgsflickor_19 100%[===================>]  30.43M  3.28MB/s    in 11s     \n",
            "\n",
            "2022-07-12 09:13:43 (2.84 MB/s) - ‘goteborgsflickor_19.wav’ saved [31904116/31904116]\n",
            "\n",
            "--2022-07-12 09:13:43--  http://130.229.137.13:8000/jaochnej_01.wav\n",
            "Connecting to 130.229.137.13:8000... connected.\n",
            "HTTP request sent, awaiting response... 200 OK\n",
            "Length: 42881948 (41M) [audio/x-wav]\n",
            "Saving to: ‘jaochnej_01.wav’\n",
            "\n",
            "jaochnej_01.wav     100%[===================>]  40.89M  12.6MB/s    in 4.8s    \n",
            "\n",
            "2022-07-12 09:13:48 (8.57 MB/s) - ‘jaochnej_01.wav’ saved [42881948/42881948]\n",
            "\n",
            "--2022-07-12 09:13:48--  http://130.229.137.13:8000/jaochnej_02.wav\n",
            "Connecting to 130.229.137.13:8000... connected.\n",
            "HTTP request sent, awaiting response... 200 OK\n",
            "Length: 72737620 (69M) [audio/x-wav]\n",
            "Saving to: ‘jaochnej_02.wav’\n",
            "\n",
            "jaochnej_02.wav     100%[===================>]  69.37M  12.5MB/s    in 7.1s    \n",
            "\n",
            "2022-07-12 09:13:55 (9.81 MB/s) - ‘jaochnej_02.wav’ saved [72737620/72737620]\n",
            "\n",
            "--2022-07-12 09:13:55--  http://130.229.137.13:8000/jaochnej_03.wav\n",
            "Connecting to 130.229.137.13:8000... connected.\n",
            "HTTP request sent, awaiting response... 200 OK\n",
            "Length: 75303064 (72M) [audio/x-wav]\n",
            "Saving to: ‘jaochnej_03.wav’\n",
            "\n",
            "jaochnej_03.wav     100%[===================>]  71.81M  12.7MB/s    in 7.2s    \n",
            "\n",
            "2022-07-12 09:14:03 (10.0 MB/s) - ‘jaochnej_03.wav’ saved [75303064/75303064]\n",
            "\n",
            "--2022-07-12 09:14:03--  http://130.229.137.13:8000/jaochnej_04.wav\n",
            "Connecting to 130.229.137.13:8000... connected.\n",
            "HTTP request sent, awaiting response... 200 OK\n",
            "Length: 78881610 (75M) [audio/x-wav]\n",
            "Saving to: ‘jaochnej_04.wav’\n",
            "\n",
            "jaochnej_04.wav     100%[===================>]  75.23M  12.6MB/s    in 7.8s    \n",
            "\n",
            "2022-07-12 09:14:11 (9.71 MB/s) - ‘jaochnej_04.wav’ saved [78881610/78881610]\n",
            "\n",
            "--2022-07-12 09:14:11--  http://130.229.137.13:8000/jaochnej_05.wav\n",
            "Connecting to 130.229.137.13:8000... connected.\n",
            "HTTP request sent, awaiting response... 200 OK\n",
            "Length: 64737876 (62M) [audio/x-wav]\n",
            "Saving to: ‘jaochnej_05.wav’\n",
            "\n",
            "jaochnej_05.wav     100%[===================>]  61.74M  12.9MB/s    in 6.3s    \n",
            "\n",
            "2022-07-12 09:14:18 (9.73 MB/s) - ‘jaochnej_05.wav’ saved [64737876/64737876]\n",
            "\n",
            "--2022-07-12 09:14:18--  http://130.229.137.13:8000/jaochnej_06.wav\n",
            "Connecting to 130.229.137.13:8000... connected.\n",
            "HTTP request sent, awaiting response... 200 OK\n",
            "Length: 58114890 (55M) [audio/x-wav]\n",
            "Saving to: ‘jaochnej_06.wav’\n",
            "\n",
            "jaochnej_06.wav     100%[===================>]  55.42M  12.6MB/s    in 6.3s    \n",
            "\n",
            "2022-07-12 09:14:25 (8.84 MB/s) - ‘jaochnej_06.wav’ saved [58114890/58114890]\n",
            "\n",
            "--2022-07-12 09:14:25--  http://130.229.137.13:8000/jaochnej_07.wav\n",
            "Connecting to 130.229.137.13:8000... connected.\n",
            "HTTP request sent, awaiting response... 200 OK\n",
            "Length: 46241506 (44M) [audio/x-wav]\n",
            "Saving to: ‘jaochnej_07.wav’\n",
            "\n",
            "jaochnej_07.wav     100%[===================>]  44.10M  12.4MB/s    in 5.0s    \n",
            "\n",
            "2022-07-12 09:14:30 (8.78 MB/s) - ‘jaochnej_07.wav’ saved [46241506/46241506]\n",
            "\n",
            "--2022-07-12 09:14:30--  http://130.229.137.13:8000/jaochnej_08.wav\n",
            "Connecting to 130.229.137.13:8000... connected.\n",
            "HTTP request sent, awaiting response... 200 OK\n",
            "Length: 40193642 (38M) [audio/x-wav]\n",
            "Saving to: ‘jaochnej_08.wav’\n",
            "\n",
            "jaochnej_08.wav     100%[===================>]  38.33M  11.5MB/s    in 4.7s    \n",
            "\n",
            "2022-07-12 09:14:35 (8.20 MB/s) - ‘jaochnej_08.wav’ saved [40193642/40193642]\n",
            "\n",
            "--2022-07-12 09:14:35--  http://130.229.137.13:8000/jenny.wav\n",
            "Connecting to 130.229.137.13:8000... connected.\n",
            "HTTP request sent, awaiting response... 200 OK\n",
            "Length: 15365600 (15M) [audio/x-wav]\n",
            "Saving to: ‘jenny.wav’\n",
            "\n",
            "jenny.wav           100%[===================>]  14.65M  5.48MB/s    in 2.7s    \n",
            "\n",
            "2022-07-12 09:14:38 (5.48 MB/s) - ‘jenny.wav’ saved [15365600/15365600]\n",
            "\n",
            "--2022-07-12 09:14:38--  http://130.229.137.13:8000/jordensinre_01.wav\n",
            "Connecting to 130.229.137.13:8000... connected.\n",
            "HTTP request sent, awaiting response... 200 OK\n",
            "Length: 26179750 (25M) [audio/x-wav]\n",
            "Saving to: ‘jordensinre_01.wav’\n",
            "\n",
            "jordensinre_01.wav  100%[===================>]  24.97M  7.23MB/s    in 3.5s    \n",
            "\n",
            "2022-07-12 09:14:42 (7.23 MB/s) - ‘jordensinre_01.wav’ saved [26179750/26179750]\n",
            "\n",
            "--2022-07-12 09:14:42--  http://130.229.137.13:8000/jordensinre_02.wav\n",
            "Connecting to 130.229.137.13:8000... connected.\n",
            "HTTP request sent, awaiting response... 200 OK\n",
            "Length: 21635098 (21M) [audio/x-wav]\n",
            "Saving to: ‘jordensinre_02.wav’\n",
            "\n",
            "jordensinre_02.wav  100%[===================>]  20.63M  3.19MB/s    in 7.9s    \n",
            "\n",
            "2022-07-12 09:14:51 (2.62 MB/s) - ‘jordensinre_02.wav’ saved [21635098/21635098]\n",
            "\n",
            "--2022-07-12 09:14:51--  http://130.229.137.13:8000/jordensinre_03.wav\n",
            "Connecting to 130.229.137.13:8000... connected.\n",
            "HTTP request sent, awaiting response... 200 OK\n",
            "Length: 25668980 (24M) [audio/x-wav]\n",
            "Saving to: ‘jordensinre_03.wav’\n",
            "\n",
            "jordensinre_03.wav  100%[===================>]  24.48M  7.06MB/s    in 3.5s    \n",
            "\n",
            "2022-07-12 09:14:55 (7.06 MB/s) - ‘jordensinre_03.wav’ saved [25668980/25668980]\n",
            "\n",
            "--2022-07-12 09:14:55--  http://130.229.137.13:8000/jordensinre_04.wav\n",
            "Connecting to 130.229.137.13:8000... connected.\n",
            "HTTP request sent, awaiting response... 200 OK\n",
            "Length: 16003420 (15M) [audio/x-wav]\n",
            "Saving to: ‘jordensinre_04.wav’\n",
            "\n",
            "jordensinre_04.wav  100%[===================>]  15.26M  5.69MB/s    in 2.7s    \n",
            "\n",
            "2022-07-12 09:14:58 (5.69 MB/s) - ‘jordensinre_04.wav’ saved [16003420/16003420]\n",
            "\n",
            "--2022-07-12 09:14:58--  http://130.229.137.13:8000/jordensinre_05.wav\n",
            "Connecting to 130.229.137.13:8000... connected.\n",
            "HTTP request sent, awaiting response... 200 OK\n",
            "Length: 29034528 (28M) [audio/x-wav]\n",
            "Saving to: ‘jordensinre_05.wav’\n",
            "\n",
            "jordensinre_05.wav  100%[===================>]  27.69M  7.83MB/s    in 3.9s    \n",
            "\n",
            "2022-07-12 09:15:02 (7.16 MB/s) - ‘jordensinre_05.wav’ saved [29034528/29034528]\n",
            "\n",
            "--2022-07-12 09:15:02--  http://130.229.137.13:8000/jordensinre_06.wav\n",
            "Connecting to 130.229.137.13:8000... connected.\n",
            "HTTP request sent, awaiting response... 200 OK\n",
            "Length: 9227338 (8.8M) [audio/x-wav]\n",
            "Saving to: ‘jordensinre_06.wav’\n",
            "\n",
            "jordensinre_06.wav  100%[===================>]   8.80M  3.80MB/s    in 2.3s    \n",
            "\n",
            "2022-07-12 09:15:05 (3.80 MB/s) - ‘jordensinre_06.wav’ saved [9227338/9227338]\n",
            "\n",
            "--2022-07-12 09:15:05--  http://130.229.137.13:8000/jordensinre_07.wav\n",
            "Connecting to 130.229.137.13:8000... connected.\n",
            "HTTP request sent, awaiting response... 200 OK\n",
            "Length: 11533986 (11M) [audio/x-wav]\n",
            "Saving to: ‘jordensinre_07.wav’\n",
            "\n",
            "jordensinre_07.wav  100%[===================>]  11.00M  4.55MB/s    in 2.4s    \n",
            "\n",
            "2022-07-12 09:15:08 (4.55 MB/s) - ‘jordensinre_07.wav’ saved [11533986/11533986]\n",
            "\n",
            "--2022-07-12 09:15:08--  http://130.229.137.13:8000/jordensinre_08.wav\n",
            "Connecting to 130.229.137.13:8000... connected.\n",
            "HTTP request sent, awaiting response... 200 OK\n",
            "Length: 10898068 (10M) [audio/x-wav]\n",
            "Saving to: ‘jordensinre_08.wav’\n",
            "\n",
            "jordensinre_08.wav  100%[===================>]  10.39M  4.38MB/s    in 2.4s    \n",
            "\n",
            "2022-07-12 09:15:11 (4.38 MB/s) - ‘jordensinre_08.wav’ saved [10898068/10898068]\n",
            "\n",
            "--2022-07-12 09:15:11--  http://130.229.137.13:8000/jordensinre_09.wav\n",
            "Connecting to 130.229.137.13:8000... connected.\n",
            "HTTP request sent, awaiting response... 200 OK\n",
            "Length: 7858304 (7.5M) [audio/x-wav]\n",
            "Saving to: ‘jordensinre_09.wav’\n",
            "\n",
            "jordensinre_09.wav  100%[===================>]   7.49M  3.39MB/s    in 2.2s    \n",
            "\n",
            "2022-07-12 09:15:13 (3.39 MB/s) - ‘jordensinre_09.wav’ saved [7858304/7858304]\n",
            "\n",
            "--2022-07-12 09:15:13--  http://130.229.137.13:8000/jordensinre_10.wav\n",
            "Connecting to 130.229.137.13:8000... connected.\n",
            "HTTP request sent, awaiting response... 200 OK\n",
            "Length: 16677948 (16M) [audio/x-wav]\n",
            "Saving to: ‘jordensinre_10.wav’\n",
            "\n",
            "jordensinre_10.wav  100%[===================>]  15.91M  5.80MB/s    in 2.7s    \n",
            "\n",
            "2022-07-12 09:15:16 (5.80 MB/s) - ‘jordensinre_10.wav’ saved [16677948/16677948]\n",
            "\n",
            "--2022-07-12 09:15:16--  http://130.229.137.13:8000/jordensinre_11.wav\n",
            "Connecting to 130.229.137.13:8000... connected.\n",
            "HTTP request sent, awaiting response... 200 OK\n",
            "Length: 8359588 (8.0M) [audio/x-wav]\n",
            "Saving to: ‘jordensinre_11.wav’\n",
            "\n",
            "jordensinre_11.wav  100%[===================>]   7.97M  3.72MB/s    in 2.1s    \n",
            "\n",
            "2022-07-12 09:15:19 (3.72 MB/s) - ‘jordensinre_11.wav’ saved [8359588/8359588]\n",
            "\n",
            "--2022-07-12 09:15:19--  http://130.229.137.13:8000/jordensinre_12.wav\n",
            "Connecting to 130.229.137.13:8000... connected.\n",
            "HTTP request sent, awaiting response... 200 OK\n",
            "Length: 12184228 (12M) [audio/x-wav]\n",
            "Saving to: ‘jordensinre_12.wav’\n",
            "\n",
            "jordensinre_12.wav  100%[===================>]  11.62M  4.77MB/s    in 2.4s    \n",
            "\n",
            "2022-07-12 09:15:22 (4.77 MB/s) - ‘jordensinre_12.wav’ saved [12184228/12184228]\n",
            "\n",
            "--2022-07-12 09:15:22--  http://130.229.137.13:8000/jordensinre_13.wav\n",
            "Connecting to 130.229.137.13:8000... connected.\n",
            "HTTP request sent, awaiting response... 200 OK\n",
            "Length: 11918036 (11M) [audio/x-wav]\n",
            "Saving to: ‘jordensinre_13.wav’\n",
            "\n",
            "jordensinre_13.wav  100%[===================>]  11.37M  2.36MB/s    in 4.8s    \n",
            "\n",
            "2022-07-12 09:15:27 (2.36 MB/s) - ‘jordensinre_13.wav’ saved [11918036/11918036]\n",
            "\n",
            "--2022-07-12 09:15:27--  http://130.229.137.13:8000/jordensinre_14.wav\n",
            "Connecting to 130.229.137.13:8000... connected.\n",
            "HTTP request sent, awaiting response... 200 OK\n",
            "Length: 10194862 (9.7M) [audio/x-wav]\n",
            "Saving to: ‘jordensinre_14.wav’\n",
            "\n",
            "jordensinre_14.wav  100%[===================>]   9.72M  4.26MB/s    in 2.3s    \n",
            "\n",
            "2022-07-12 09:15:30 (4.26 MB/s) - ‘jordensinre_14.wav’ saved [10194862/10194862]\n",
            "\n",
            "--2022-07-12 09:15:30--  http://130.229.137.13:8000/landshovdingen.wav\n",
            "Connecting to 130.229.137.13:8000... connected.\n",
            "HTTP request sent, awaiting response... 200 OK\n",
            "Length: 11068946 (11M) [audio/x-wav]\n",
            "Saving to: ‘landshovdingen.wav’\n",
            "\n",
            "landshovdingen.wav  100%[===================>]  10.56M  4.44MB/s    in 2.4s    \n",
            "\n",
            "2022-07-12 09:15:33 (4.44 MB/s) - ‘landshovdingen.wav’ saved [11068946/11068946]\n",
            "\n",
            "--2022-07-12 09:15:33--  http://130.229.137.13:8000/nocturne.wav\n",
            "Connecting to 130.229.137.13:8000... connected.\n",
            "HTTP request sent, awaiting response... 200 OK\n",
            "Length: 1876356 (1.8M) [audio/x-wav]\n",
            "Saving to: ‘nocturne.wav’\n",
            "\n",
            "nocturne.wav        100%[===================>]   1.79M   307KB/s    in 7.3s    \n",
            "\n",
            "2022-07-12 09:15:41 (251 KB/s) - ‘nocturne.wav’ saved [1876356/1876356]\n",
            "\n",
            "--2022-07-12 09:15:41--  http://130.229.137.13:8000/sockerpullor_01.wav\n",
            "Connecting to 130.229.137.13:8000... connected.\n",
            "HTTP request sent, awaiting response... 200 OK\n",
            "Length: 37793468 (36M) [audio/x-wav]\n",
            "Saving to: ‘sockerpullor_01.wav’\n",
            "\n",
            "sockerpullor_01.wav 100%[===================>]  36.04M  5.03MB/s    in 6.9s    \n",
            "\n",
            "2022-07-12 09:15:48 (5.22 MB/s) - ‘sockerpullor_01.wav’ saved [37793468/37793468]\n",
            "\n",
            "--2022-07-12 09:15:48--  http://130.229.137.13:8000/sockerpullor_02.wav\n",
            "Connecting to 130.229.137.13:8000... connected.\n",
            "HTTP request sent, awaiting response... 200 OK\n",
            "Length: 36497908 (35M) [audio/x-wav]\n",
            "Saving to: ‘sockerpullor_02.wav’\n",
            "\n",
            "sockerpullor_02.wav 100%[===================>]  34.81M  9.68MB/s    in 4.2s    \n",
            "\n",
            "2022-07-12 09:15:53 (8.20 MB/s) - ‘sockerpullor_02.wav’ saved [36497908/36497908]\n",
            "\n",
            "--2022-07-12 09:15:53--  http://130.229.137.13:8000/sockerpullor_03.wav\n",
            "Connecting to 130.229.137.13:8000... connected.\n",
            "HTTP request sent, awaiting response... 200 OK\n",
            "Length: 32669972 (31M) [audio/x-wav]\n",
            "Saving to: ‘sockerpullor_03.wav’\n",
            "\n",
            "sockerpullor_03.wav 100%[===================>]  31.16M  8.98MB/s    in 3.9s    \n",
            "\n",
            "2022-07-12 09:15:57 (7.98 MB/s) - ‘sockerpullor_03.wav’ saved [32669972/32669972]\n",
            "\n",
            "--2022-07-12 09:15:57--  http://130.229.137.13:8000/sockerpullor_04.wav\n",
            "Connecting to 130.229.137.13:8000... connected.\n",
            "HTTP request sent, awaiting response... 200 OK\n",
            "Length: 30054234 (29M) [audio/x-wav]\n",
            "Saving to: ‘sockerpullor_04.wav’\n",
            "\n",
            "sockerpullor_04.wav 100%[===================>]  28.66M  7.98MB/s    in 3.8s    \n",
            "\n",
            "2022-07-12 09:16:01 (7.51 MB/s) - ‘sockerpullor_04.wav’ saved [30054234/30054234]\n",
            "\n",
            "--2022-07-12 09:16:01--  http://130.229.137.13:8000/sockerpullor_05.wav\n",
            "Connecting to 130.229.137.13:8000... connected.\n",
            "HTTP request sent, awaiting response... 200 OK\n",
            "Length: 29186150 (28M) [audio/x-wav]\n",
            "Saving to: ‘sockerpullor_05.wav’\n",
            "\n",
            "sockerpullor_05.wav 100%[===================>]  27.83M  7.52MB/s    in 3.9s    \n",
            "\n",
            "2022-07-12 09:16:06 (7.08 MB/s) - ‘sockerpullor_05.wav’ saved [29186150/29186150]\n",
            "\n",
            "--2022-07-12 09:16:06--  http://130.229.137.13:8000/sockerpullor_06.wav\n",
            "Connecting to 130.229.137.13:8000... connected.\n",
            "HTTP request sent, awaiting response... 200 OK\n",
            "Length: 22388708 (21M) [audio/x-wav]\n",
            "Saving to: ‘sockerpullor_06.wav’\n",
            "\n",
            "sockerpullor_06.wav 100%[===================>]  21.35M  6.82MB/s    in 3.1s    \n",
            "\n",
            "2022-07-12 09:16:09 (6.82 MB/s) - ‘sockerpullor_06.wav’ saved [22388708/22388708]\n",
            "\n",
            "--2022-07-12 09:16:09--  http://130.229.137.13:8000/sockerpullor_07.wav\n",
            "Connecting to 130.229.137.13:8000... connected.\n",
            "HTTP request sent, awaiting response... 200 OK\n",
            "Length: 44838396 (43M) [audio/x-wav]\n",
            "Saving to: ‘sockerpullor_07.wav’\n",
            "\n",
            "sockerpullor_07.wav 100%[===================>]  42.76M  12.7MB/s    in 4.8s    \n",
            "\n",
            "2022-07-12 09:16:15 (8.85 MB/s) - ‘sockerpullor_07.wav’ saved [44838396/44838396]\n",
            "\n",
            "--2022-07-12 09:16:15--  http://130.229.137.13:8000/tomten.wav\n",
            "Connecting to 130.229.137.13:8000... connected.\n",
            "HTTP request sent, awaiting response... 200 OK\n",
            "Length: 8368106 (8.0M) [audio/x-wav]\n",
            "Saving to: ‘tomten.wav’\n",
            "\n",
            "tomten.wav          100%[===================>]   7.98M  3.78MB/s    in 2.1s    \n",
            "\n",
            "2022-07-12 09:16:17 (3.78 MB/s) - ‘tomten.wav’ saved [8368106/8368106]\n",
            "\n"
          ]
        }
      ]
    },
    {
      "cell_type": "code",
      "source": [
        "items = {}\n",
        "for line in DATA.split(\"\\n\"):\n",
        "    if line.strip() == \"\":\n",
        "        continue\n",
        "    if line.startswith(\"#\"):\n",
        "        continue\n",
        "    parts = line.split(\"\\t\")\n",
        "    if f\"{parts[0]}.wav\" not in DONE:\n",
        "        items[parts[0]] = parts[1:]"
      ],
      "metadata": {
        "colab": {
          "base_uri": "https://localhost:8080/",
          "height": 240
        },
        "id": "tkZqcM1GB6N-",
        "outputId": "19655223-3f72-494e-d759-5b535512a60a"
      },
      "execution_count": 7,
      "outputs": [
        {
          "output_type": "error",
          "ename": "NameError",
          "evalue": "ignored",
          "traceback": [
            "\u001b[0;31m---------------------------------------------------------------------------\u001b[0m",
            "\u001b[0;31mNameError\u001b[0m                                 Traceback (most recent call last)",
            "\u001b[0;32m<ipython-input-7-8ca903c36a3f>\u001b[0m in \u001b[0;36m<module>\u001b[0;34m()\u001b[0m\n\u001b[1;32m      1\u001b[0m \u001b[0mitems\u001b[0m \u001b[0;34m=\u001b[0m \u001b[0;34m{\u001b[0m\u001b[0;34m}\u001b[0m\u001b[0;34m\u001b[0m\u001b[0;34m\u001b[0m\u001b[0m\n\u001b[0;32m----> 2\u001b[0;31m \u001b[0;32mfor\u001b[0m \u001b[0mline\u001b[0m \u001b[0;32min\u001b[0m \u001b[0mDATA\u001b[0m\u001b[0;34m.\u001b[0m\u001b[0msplit\u001b[0m\u001b[0;34m(\u001b[0m\u001b[0;34m\"\\n\"\u001b[0m\u001b[0;34m)\u001b[0m\u001b[0;34m:\u001b[0m\u001b[0;34m\u001b[0m\u001b[0;34m\u001b[0m\u001b[0m\n\u001b[0m\u001b[1;32m      3\u001b[0m     \u001b[0;32mif\u001b[0m \u001b[0mline\u001b[0m\u001b[0;34m.\u001b[0m\u001b[0mstrip\u001b[0m\u001b[0;34m(\u001b[0m\u001b[0;34m)\u001b[0m \u001b[0;34m==\u001b[0m \u001b[0;34m\"\"\u001b[0m\u001b[0;34m:\u001b[0m\u001b[0;34m\u001b[0m\u001b[0;34m\u001b[0m\u001b[0m\n\u001b[1;32m      4\u001b[0m         \u001b[0;32mcontinue\u001b[0m\u001b[0;34m\u001b[0m\u001b[0;34m\u001b[0m\u001b[0m\n\u001b[1;32m      5\u001b[0m     \u001b[0;32mif\u001b[0m \u001b[0mline\u001b[0m\u001b[0;34m.\u001b[0m\u001b[0mstartswith\u001b[0m\u001b[0;34m(\u001b[0m\u001b[0;34m\"#\"\u001b[0m\u001b[0;34m)\u001b[0m\u001b[0;34m:\u001b[0m\u001b[0;34m\u001b[0m\u001b[0;34m\u001b[0m\u001b[0m\n",
            "\u001b[0;31mNameError\u001b[0m: name 'DATA' is not defined"
          ]
        }
      ]
    },
    {
      "cell_type": "code",
      "source": [
        "for item in items.keys():\n",
        "    !wget {items[item][0]}\n",
        "    mp3name = items[item][0].split(\"/\")[-1]\n",
        "    !ffmpeg -i {mp3name} -acodec pcm_s16le -ac 1 -ar 16000 {item}.wav"
      ],
      "metadata": {
        "id": "fJzlcJNDCWSa"
      },
      "execution_count": null,
      "outputs": []
    },
    {
      "cell_type": "markdown",
      "metadata": {
        "id": "24HKZajJy06C"
      },
      "source": [
        "Here starts the actual ASR stuff."
      ]
    },
    {
      "cell_type": "code",
      "execution_count": 8,
      "metadata": {
        "id": "CSMuf1IzkgE0",
        "colab": {
          "base_uri": "https://localhost:8080/"
        },
        "outputId": "b73e3815-5666-405d-cfd2-3571eef79055"
      },
      "outputs": [
        {
          "output_type": "stream",
          "name": "stdout",
          "text": [
            "Looking in indexes: https://pypi.org/simple, https://us-python.pkg.dev/colab-wheels/public/simple/\n",
            "Collecting transformers\n",
            "  Downloading transformers-4.20.1-py3-none-any.whl (4.4 MB)\n",
            "\u001b[K     |████████████████████████████████| 4.4 MB 36.5 MB/s \n",
            "\u001b[?25hRequirement already satisfied: regex!=2019.12.17 in /usr/local/lib/python3.7/dist-packages (from transformers) (2022.6.2)\n",
            "Collecting huggingface-hub<1.0,>=0.1.0\n",
            "  Downloading huggingface_hub-0.8.1-py3-none-any.whl (101 kB)\n",
            "\u001b[K     |████████████████████████████████| 101 kB 11.1 MB/s \n",
            "\u001b[?25hRequirement already satisfied: packaging>=20.0 in /usr/local/lib/python3.7/dist-packages (from transformers) (21.3)\n",
            "Requirement already satisfied: requests in /usr/local/lib/python3.7/dist-packages (from transformers) (2.23.0)\n",
            "Collecting tokenizers!=0.11.3,<0.13,>=0.11.1\n",
            "  Downloading tokenizers-0.12.1-cp37-cp37m-manylinux_2_12_x86_64.manylinux2010_x86_64.whl (6.6 MB)\n",
            "\u001b[K     |████████████████████████████████| 6.6 MB 53.6 MB/s \n",
            "\u001b[?25hRequirement already satisfied: importlib-metadata in /usr/local/lib/python3.7/dist-packages (from transformers) (4.11.4)\n",
            "Requirement already satisfied: filelock in /usr/local/lib/python3.7/dist-packages (from transformers) (3.7.1)\n",
            "Requirement already satisfied: numpy>=1.17 in /usr/local/lib/python3.7/dist-packages (from transformers) (1.21.6)\n",
            "Requirement already satisfied: tqdm>=4.27 in /usr/local/lib/python3.7/dist-packages (from transformers) (4.64.0)\n",
            "Collecting pyyaml>=5.1\n",
            "  Downloading PyYAML-6.0-cp37-cp37m-manylinux_2_5_x86_64.manylinux1_x86_64.manylinux_2_12_x86_64.manylinux2010_x86_64.whl (596 kB)\n",
            "\u001b[K     |████████████████████████████████| 596 kB 46.9 MB/s \n",
            "\u001b[?25hRequirement already satisfied: typing-extensions>=3.7.4.3 in /usr/local/lib/python3.7/dist-packages (from huggingface-hub<1.0,>=0.1.0->transformers) (4.1.1)\n",
            "Requirement already satisfied: pyparsing!=3.0.5,>=2.0.2 in /usr/local/lib/python3.7/dist-packages (from packaging>=20.0->transformers) (3.0.9)\n",
            "Requirement already satisfied: zipp>=0.5 in /usr/local/lib/python3.7/dist-packages (from importlib-metadata->transformers) (3.8.0)\n",
            "Requirement already satisfied: certifi>=2017.4.17 in /usr/local/lib/python3.7/dist-packages (from requests->transformers) (2022.6.15)\n",
            "Requirement already satisfied: urllib3!=1.25.0,!=1.25.1,<1.26,>=1.21.1 in /usr/local/lib/python3.7/dist-packages (from requests->transformers) (1.24.3)\n",
            "Requirement already satisfied: chardet<4,>=3.0.2 in /usr/local/lib/python3.7/dist-packages (from requests->transformers) (3.0.4)\n",
            "Requirement already satisfied: idna<3,>=2.5 in /usr/local/lib/python3.7/dist-packages (from requests->transformers) (2.10)\n",
            "Installing collected packages: pyyaml, tokenizers, huggingface-hub, transformers\n",
            "  Attempting uninstall: pyyaml\n",
            "    Found existing installation: PyYAML 3.13\n",
            "    Uninstalling PyYAML-3.13:\n",
            "      Successfully uninstalled PyYAML-3.13\n",
            "Successfully installed huggingface-hub-0.8.1 pyyaml-6.0 tokenizers-0.12.1 transformers-4.20.1\n"
          ]
        }
      ],
      "source": [
        "!pip install transformers"
      ]
    },
    {
      "cell_type": "code",
      "execution_count": 9,
      "metadata": {
        "id": "Xz-XdAEUgWhb"
      },
      "outputs": [],
      "source": [
        "_SWE_MODEL = \"KBLab/wav2vec2-large-voxrex-swedish\""
      ]
    },
    {
      "cell_type": "code",
      "execution_count": 10,
      "metadata": {
        "id": "jlDRjS16kaqF"
      },
      "outputs": [],
      "source": [
        "from transformers import pipeline"
      ]
    },
    {
      "cell_type": "code",
      "execution_count": 11,
      "metadata": {
        "id": "p5LFs7rRk8ek",
        "colab": {
          "base_uri": "https://localhost:8080/",
          "height": 297,
          "referenced_widgets": [
            "4daf9edf3319461f8e20709877eba96c",
            "9e88e502b0a94030ac1d71061e0af34e",
            "a69f90362dd04360a36f0794a707e3c8",
            "981ad28e391c40088c0aaac48a1a566a",
            "6fab461aec684408b72ae267c6d1f6f5",
            "a48e29f344964f6e966fce2146fe70b3",
            "32913f892ff2468986ce733ff16b259c",
            "af66ab6917264b3687e04d9d518836c8",
            "4cfc53dce5ba4a64b08d1dcf78de5d19",
            "f1cbbfdf19774ea196a815b1b96a52fb",
            "d7447ccb0e264b64a87c920f478dd24c",
            "5dbc00f399d64bf6ac9727a75756f7fc",
            "ff343d5039074ea4ad663c04563b4136",
            "ecde9fa0758b431fbb35b9f065e15695",
            "a5dc13da3403406a9f6f8c60472958e0",
            "45fe55335e5546f195853d16228c25fe",
            "5995eb0d79524c6aa29d134cb0071a52",
            "845bd48546af44ccaebbf0e49d9322a2",
            "a3307e06819a4b88b701907a898b71e9",
            "8d3f801eacc643fbba3d597b062a5c0a",
            "a5b356a640a642e0bd6cbb98618cc1c5",
            "ac53dfac37cc4fd890cfafe0d41a6a9d",
            "acd56c9dda424975bd2713f0c2f63f59",
            "50e0922975454459b5083d2e833cfd56",
            "837636c51dc447fd913b31082063c656",
            "66edf2aa4b4640988a8e436dac51e6f0",
            "64e18858210f4732ab627a3dccd0f8b7",
            "7da21a9297cd4fc98181bf85a2792ec6",
            "747834930d47433ba8c19d17e3716308",
            "e2c10e90cb6049a89197affa13feb701",
            "be0c81398fa04ce3a368c854bc8177c1",
            "d3b45beee9b845dca19b99289ef0d345",
            "d9b325bf06a6447eb5d2656f13cde96e",
            "4217d7997c7f444485f43bbf931291e0",
            "9327d1b439c04ec691780ef35f438590",
            "8a276790ae2347f09b1bc7ee40d0d5ec",
            "f725033d32e941d1bfd270a185865f52",
            "09b137ea9cd64f26832ffb2fda416c6f",
            "fee231c81012426cabb7aedd7ee55f45",
            "b65030cb92af44a2932b5a76147388c2",
            "09f230df3d154f78830caa019e11621f",
            "068bfff0236b41e1986793c02f677114",
            "f4da508ac435484ebad30b89f910b130",
            "e306b270f51b4cf38a1d5ac382dff5bc",
            "ada0f246025d41c68e427b8ca261b7e8",
            "605f26eb3f92458489c6be14250ddb4c",
            "2c02f8f1352e42d58d8b694de2a43ba3",
            "dad06490576b45d0a3d523fec4bf1428",
            "b055d4f040e24bc7be5999440d0a8f2f",
            "3f6272349b534e7d86c8320fb5b61bd2",
            "e3c4e3caaf8a4e80b9938aa7a1ab3dbb",
            "2de2adfc550f4fe18c5774e4ba9dd928",
            "189d4298b1cd49ad8fe266a47b6d7859",
            "46d76f7145e04512926167c3b5c7392c",
            "269e2759365d459484f1f4c7c8a32d46",
            "598f6404d1be412aa9028c962c1d93a4",
            "50575ffff7c3400db679607d620f4646",
            "116efa0a2b5c4612914ab0b2938de32f",
            "f18d63aaca44480ba3536a70fc01f3ed",
            "84bd64b124334021ad1fd6f60c4f8b91",
            "8a3456641e554fc39d48f7755161cfc7",
            "716bfb0e1d5b4543826e4ef1c7496acd",
            "27a792a724974346a1c04acd0ee96d52",
            "cfbac69df5c1424fa9f467edec217489",
            "a707811baf3d40ffbed91e2037b08502",
            "00efaf7940d746f1aed09c4b696ad984",
            "e46276b569df463eb8027655d63386cd",
            "fddc2697d0fb4797ac9dca78c2e4a74c",
            "744fd41055de462197305f949ab79d88",
            "3c5a316876d948d384e2ea9d51b7d594",
            "997ea2d86edd4033963a96023c9af807",
            "8175606d0444431199f3639896576396",
            "f5face82a783493fab39229ecece21ea",
            "a4c8a63866354aa88681183c4f4ff419",
            "5896450aafed452c8d1697c01954ba2c",
            "a10524af962f4e1bac4496677a3b96ca",
            "4875a85efded4b7190b07ee1ec6a0809"
          ]
        },
        "outputId": "c8401ddb-9eed-45d8-e0e0-c054cff86e8d"
      },
      "outputs": [
        {
          "output_type": "display_data",
          "data": {
            "text/plain": [
              "Downloading:   0%|          | 0.00/1.81k [00:00<?, ?B/s]"
            ],
            "application/vnd.jupyter.widget-view+json": {
              "version_major": 2,
              "version_minor": 0,
              "model_id": "4daf9edf3319461f8e20709877eba96c"
            }
          },
          "metadata": {}
        },
        {
          "output_type": "display_data",
          "data": {
            "text/plain": [
              "Downloading:   0%|          | 0.00/1.72k [00:00<?, ?B/s]"
            ],
            "application/vnd.jupyter.widget-view+json": {
              "version_major": 2,
              "version_minor": 0,
              "model_id": "5dbc00f399d64bf6ac9727a75756f7fc"
            }
          },
          "metadata": {}
        },
        {
          "output_type": "stream",
          "name": "stderr",
          "text": [
            "/usr/local/lib/python3.7/dist-packages/transformers/configuration_utils.py:364: UserWarning: Passing `gradient_checkpointing` to a config initialization is deprecated and will be removed in v5 Transformers. Using `model.gradient_checkpointing_enable()` instead, or if you are using the `Trainer` API, pass `gradient_checkpointing=True` in your `TrainingArguments`.\n",
            "  \"Passing `gradient_checkpointing` to a config initialization is deprecated and will be removed in v5 \"\n"
          ]
        },
        {
          "output_type": "display_data",
          "data": {
            "text/plain": [
              "Downloading:   0%|          | 0.00/1.18G [00:00<?, ?B/s]"
            ],
            "application/vnd.jupyter.widget-view+json": {
              "version_major": 2,
              "version_minor": 0,
              "model_id": "acd56c9dda424975bd2713f0c2f63f59"
            }
          },
          "metadata": {}
        },
        {
          "output_type": "display_data",
          "data": {
            "text/plain": [
              "Downloading:   0%|          | 0.00/211 [00:00<?, ?B/s]"
            ],
            "application/vnd.jupyter.widget-view+json": {
              "version_major": 2,
              "version_minor": 0,
              "model_id": "4217d7997c7f444485f43bbf931291e0"
            }
          },
          "metadata": {}
        },
        {
          "output_type": "display_data",
          "data": {
            "text/plain": [
              "Downloading:   0%|          | 0.00/421 [00:00<?, ?B/s]"
            ],
            "application/vnd.jupyter.widget-view+json": {
              "version_major": 2,
              "version_minor": 0,
              "model_id": "ada0f246025d41c68e427b8ca261b7e8"
            }
          },
          "metadata": {}
        },
        {
          "output_type": "display_data",
          "data": {
            "text/plain": [
              "Downloading:   0%|          | 0.00/85.0 [00:00<?, ?B/s]"
            ],
            "application/vnd.jupyter.widget-view+json": {
              "version_major": 2,
              "version_minor": 0,
              "model_id": "598f6404d1be412aa9028c962c1d93a4"
            }
          },
          "metadata": {}
        },
        {
          "output_type": "display_data",
          "data": {
            "text/plain": [
              "Downloading:   0%|          | 0.00/212 [00:00<?, ?B/s]"
            ],
            "application/vnd.jupyter.widget-view+json": {
              "version_major": 2,
              "version_minor": 0,
              "model_id": "e46276b569df463eb8027655d63386cd"
            }
          },
          "metadata": {}
        }
      ],
      "source": [
        "pipe = pipeline(model=_SWE_MODEL, device=0)"
      ]
    },
    {
      "cell_type": "code",
      "execution_count": null,
      "metadata": {
        "id": "WJ5spXO7kmuF",
        "colab": {
          "base_uri": "https://localhost:8080/"
        },
        "outputId": "60442362-249e-4173-903b-7a247306312f"
      },
      "outputs": [
        {
          "metadata": {
            "tags": null
          },
          "name": "stdout",
          "output_type": "stream",
          "text": [
            "goteborgsflickor_01.wav\n",
            "Wrote goteborgsflickor_01.json\n",
            "ennyckfullkvinna2_06.wav\n",
            "Wrote ennyckfullkvinna2_06.json\n",
            "djaeknarne_04.wav\n",
            "Wrote djaeknarne_04.json\n",
            "goteborgsflickor_11.wav\n",
            "Wrote goteborgsflickor_11.json\n",
            "jordensinre_10.wav\n",
            "Wrote jordensinre_10.json\n",
            "goteborgsflickor_05.wav\n",
            "Wrote goteborgsflickor_05.json\n",
            "ennyckfullkvinna_02.wav\n",
            "Wrote ennyckfullkvinna_02.json\n",
            "jordensinre_13.wav\n",
            "Wrote jordensinre_13.json\n",
            "ennyckfullkvinna2_03.wav\n",
            "Wrote ennyckfullkvinna2_03.json\n",
            "ennyckfullkvinna2_07.wav\n",
            "Wrote ennyckfullkvinna2_07.json\n",
            "landshovdingen.wav\n"
          ]
        },
        {
          "metadata": {
            "tags": null
          },
          "name": "stderr",
          "output_type": "stream",
          "text": [
            "/usr/local/lib/python3.7/dist-packages/transformers/pipelines/base.py:1015: UserWarning: You seem to be using the pipelines sequentially on GPU. In order to maximize efficiency please use a dataset\n",
            "  UserWarning,\n"
          ]
        },
        {
          "metadata": {
            "tags": null
          },
          "name": "stdout",
          "output_type": "stream",
          "text": [
            "Wrote landshovdingen.json\n",
            "nocturne.wav\n"
          ]
        },
        {
          "metadata": {
            "tags": null
          },
          "name": "stderr",
          "output_type": "stream",
          "text": [
            "/usr/local/lib/python3.7/dist-packages/transformers/pipelines/base.py:1015: UserWarning: You seem to be using the pipelines sequentially on GPU. In order to maximize efficiency please use a dataset\n",
            "  UserWarning,\n"
          ]
        },
        {
          "metadata": {
            "tags": null
          },
          "name": "stdout",
          "output_type": "stream",
          "text": [
            "Wrote nocturne.json\n",
            "jordensinre_11.wav\n"
          ]
        },
        {
          "metadata": {
            "tags": null
          },
          "name": "stderr",
          "output_type": "stream",
          "text": [
            "/usr/local/lib/python3.7/dist-packages/transformers/pipelines/base.py:1015: UserWarning: You seem to be using the pipelines sequentially on GPU. In order to maximize efficiency please use a dataset\n",
            "  UserWarning,\n"
          ]
        },
        {
          "metadata": {
            "tags": null
          },
          "name": "stdout",
          "output_type": "stream",
          "text": [
            "Wrote jordensinre_11.json\n",
            "djaeknarne_12.wav\n"
          ]
        },
        {
          "metadata": {
            "tags": null
          },
          "name": "stderr",
          "output_type": "stream",
          "text": [
            "/usr/local/lib/python3.7/dist-packages/transformers/pipelines/base.py:1015: UserWarning: You seem to be using the pipelines sequentially on GPU. In order to maximize efficiency please use a dataset\n",
            "  UserWarning,\n"
          ]
        },
        {
          "metadata": {
            "tags": null
          },
          "name": "stdout",
          "output_type": "stream",
          "text": [
            "Wrote djaeknarne_12.json\n",
            "jordensinre_09.wav\n"
          ]
        },
        {
          "metadata": {
            "tags": null
          },
          "name": "stderr",
          "output_type": "stream",
          "text": [
            "/usr/local/lib/python3.7/dist-packages/transformers/pipelines/base.py:1015: UserWarning: You seem to be using the pipelines sequentially on GPU. In order to maximize efficiency please use a dataset\n",
            "  UserWarning,\n"
          ]
        },
        {
          "metadata": {
            "tags": null
          },
          "name": "stdout",
          "output_type": "stream",
          "text": [
            "Wrote jordensinre_09.json\n",
            "ennyckfullkvinna2_01.wav\n"
          ]
        },
        {
          "metadata": {
            "tags": null
          },
          "name": "stderr",
          "output_type": "stream",
          "text": [
            "/usr/local/lib/python3.7/dist-packages/transformers/pipelines/base.py:1015: UserWarning: You seem to be using the pipelines sequentially on GPU. In order to maximize efficiency please use a dataset\n",
            "  UserWarning,\n"
          ]
        },
        {
          "metadata": {
            "tags": null
          },
          "name": "stdout",
          "output_type": "stream",
          "text": [
            "Wrote ennyckfullkvinna2_01.json\n",
            "sockerpullor_05.wav\n"
          ]
        },
        {
          "metadata": {
            "tags": null
          },
          "name": "stderr",
          "output_type": "stream",
          "text": [
            "/usr/local/lib/python3.7/dist-packages/transformers/pipelines/base.py:1015: UserWarning: You seem to be using the pipelines sequentially on GPU. In order to maximize efficiency please use a dataset\n",
            "  UserWarning,\n"
          ]
        },
        {
          "metadata": {
            "tags": null
          },
          "name": "stdout",
          "output_type": "stream",
          "text": [
            "Wrote sockerpullor_05.json\n",
            "jenny.wav\n"
          ]
        },
        {
          "metadata": {
            "tags": null
          },
          "name": "stderr",
          "output_type": "stream",
          "text": [
            "/usr/local/lib/python3.7/dist-packages/transformers/pipelines/base.py:1015: UserWarning: You seem to be using the pipelines sequentially on GPU. In order to maximize efficiency please use a dataset\n",
            "  UserWarning,\n"
          ]
        },
        {
          "metadata": {
            "tags": null
          },
          "name": "stdout",
          "output_type": "stream",
          "text": [
            "Wrote jenny.json\n",
            "goteborgsflickor_16.wav\n"
          ]
        },
        {
          "metadata": {
            "tags": null
          },
          "name": "stderr",
          "output_type": "stream",
          "text": [
            "/usr/local/lib/python3.7/dist-packages/transformers/pipelines/base.py:1015: UserWarning: You seem to be using the pipelines sequentially on GPU. In order to maximize efficiency please use a dataset\n",
            "  UserWarning,\n"
          ]
        },
        {
          "metadata": {
            "tags": null
          },
          "name": "stdout",
          "output_type": "stream",
          "text": [
            "Wrote goteborgsflickor_16.json\n",
            "jordensinre_05.wav\n"
          ]
        },
        {
          "metadata": {
            "tags": null
          },
          "name": "stderr",
          "output_type": "stream",
          "text": [
            "/usr/local/lib/python3.7/dist-packages/transformers/pipelines/base.py:1015: UserWarning: You seem to be using the pipelines sequentially on GPU. In order to maximize efficiency please use a dataset\n",
            "  UserWarning,\n"
          ]
        },
        {
          "metadata": {
            "tags": null
          },
          "name": "stdout",
          "output_type": "stream",
          "text": [
            "Wrote jordensinre_05.json\n",
            "ennyckfullkvinna2_12.wav\n",
            "goteborgsflickor_10.wav\n"
          ]
        },
        {
          "metadata": {
            "tags": null
          },
          "name": "stderr",
          "output_type": "stream",
          "text": [
            "/usr/local/lib/python3.7/dist-packages/transformers/pipelines/base.py:1015: UserWarning: You seem to be using the pipelines sequentially on GPU. In order to maximize efficiency please use a dataset\n",
            "  UserWarning,\n"
          ]
        },
        {
          "metadata": {
            "tags": null
          },
          "name": "stdout",
          "output_type": "stream",
          "text": [
            "Wrote goteborgsflickor_10.json\n",
            "sockerpullor_02.wav\n"
          ]
        },
        {
          "metadata": {
            "tags": null
          },
          "name": "stderr",
          "output_type": "stream",
          "text": [
            "/usr/local/lib/python3.7/dist-packages/transformers/pipelines/base.py:1015: UserWarning: You seem to be using the pipelines sequentially on GPU. In order to maximize efficiency please use a dataset\n",
            "  UserWarning,\n"
          ]
        },
        {
          "metadata": {
            "tags": null
          },
          "name": "stdout",
          "output_type": "stream",
          "text": [
            "Wrote sockerpullor_02.json\n",
            "sockerpullor_07.wav\n"
          ]
        },
        {
          "metadata": {
            "tags": null
          },
          "name": "stderr",
          "output_type": "stream",
          "text": [
            "/usr/local/lib/python3.7/dist-packages/transformers/pipelines/base.py:1015: UserWarning: You seem to be using the pipelines sequentially on GPU. In order to maximize efficiency please use a dataset\n",
            "  UserWarning,\n"
          ]
        },
        {
          "metadata": {
            "tags": null
          },
          "name": "stdout",
          "output_type": "stream",
          "text": [
            "Wrote sockerpullor_07.json\n",
            "djaeknarne_07.wav\n"
          ]
        },
        {
          "metadata": {
            "tags": null
          },
          "name": "stderr",
          "output_type": "stream",
          "text": [
            "/usr/local/lib/python3.7/dist-packages/transformers/pipelines/base.py:1015: UserWarning: You seem to be using the pipelines sequentially on GPU. In order to maximize efficiency please use a dataset\n",
            "  UserWarning,\n"
          ]
        },
        {
          "metadata": {
            "tags": null
          },
          "name": "stdout",
          "output_type": "stream",
          "text": [
            "Wrote djaeknarne_07.json\n",
            "goteborgsflickor_09.wav\n"
          ]
        },
        {
          "metadata": {
            "tags": null
          },
          "name": "stderr",
          "output_type": "stream",
          "text": [
            "/usr/local/lib/python3.7/dist-packages/transformers/pipelines/base.py:1015: UserWarning: You seem to be using the pipelines sequentially on GPU. In order to maximize efficiency please use a dataset\n",
            "  UserWarning,\n"
          ]
        },
        {
          "metadata": {
            "tags": null
          },
          "name": "stdout",
          "output_type": "stream",
          "text": [
            "Wrote goteborgsflickor_09.json\n",
            "jordensinre_03.wav\n"
          ]
        },
        {
          "metadata": {
            "tags": null
          },
          "name": "stderr",
          "output_type": "stream",
          "text": [
            "/usr/local/lib/python3.7/dist-packages/transformers/pipelines/base.py:1015: UserWarning: You seem to be using the pipelines sequentially on GPU. In order to maximize efficiency please use a dataset\n",
            "  UserWarning,\n"
          ]
        },
        {
          "metadata": {
            "tags": null
          },
          "name": "stdout",
          "output_type": "stream",
          "text": [
            "Wrote jordensinre_03.json\n",
            "goteborgsflickor_18.wav\n"
          ]
        },
        {
          "metadata": {
            "tags": null
          },
          "name": "stderr",
          "output_type": "stream",
          "text": [
            "/usr/local/lib/python3.7/dist-packages/transformers/pipelines/base.py:1015: UserWarning: You seem to be using the pipelines sequentially on GPU. In order to maximize efficiency please use a dataset\n",
            "  UserWarning,\n"
          ]
        },
        {
          "metadata": {
            "tags": null
          },
          "name": "stdout",
          "output_type": "stream",
          "text": [
            "Wrote goteborgsflickor_18.json\n",
            "sockerpullor_01.wav\n"
          ]
        },
        {
          "metadata": {
            "tags": null
          },
          "name": "stderr",
          "output_type": "stream",
          "text": [
            "/usr/local/lib/python3.7/dist-packages/transformers/pipelines/base.py:1015: UserWarning: You seem to be using the pipelines sequentially on GPU. In order to maximize efficiency please use a dataset\n",
            "  UserWarning,\n"
          ]
        },
        {
          "metadata": {
            "tags": null
          },
          "name": "stdout",
          "output_type": "stream",
          "text": [
            "Wrote sockerpullor_01.json\n",
            "ennyckfullkvinna2_08.wav\n"
          ]
        },
        {
          "metadata": {
            "tags": null
          },
          "name": "stderr",
          "output_type": "stream",
          "text": [
            "/usr/local/lib/python3.7/dist-packages/transformers/pipelines/base.py:1015: UserWarning: You seem to be using the pipelines sequentially on GPU. In order to maximize efficiency please use a dataset\n",
            "  UserWarning,\n"
          ]
        },
        {
          "metadata": {
            "tags": null
          },
          "name": "stdout",
          "output_type": "stream",
          "text": [
            "Wrote ennyckfullkvinna2_08.json\n",
            "jordensinre_08.wav\n"
          ]
        },
        {
          "metadata": {
            "tags": null
          },
          "name": "stderr",
          "output_type": "stream",
          "text": [
            "/usr/local/lib/python3.7/dist-packages/transformers/pipelines/base.py:1015: UserWarning: You seem to be using the pipelines sequentially on GPU. In order to maximize efficiency please use a dataset\n",
            "  UserWarning,\n"
          ]
        },
        {
          "metadata": {
            "tags": null
          },
          "name": "stdout",
          "output_type": "stream",
          "text": [
            "Wrote jordensinre_08.json\n",
            "djaeknarne_03.wav\n"
          ]
        },
        {
          "metadata": {
            "tags": null
          },
          "name": "stderr",
          "output_type": "stream",
          "text": [
            "/usr/local/lib/python3.7/dist-packages/transformers/pipelines/base.py:1015: UserWarning: You seem to be using the pipelines sequentially on GPU. In order to maximize efficiency please use a dataset\n",
            "  UserWarning,\n"
          ]
        },
        {
          "metadata": {
            "tags": null
          },
          "name": "stdout",
          "output_type": "stream",
          "text": [
            "Wrote djaeknarne_03.json\n",
            "ennyckfullkvinna2_05.wav\n",
            "sockerpullor_06.wav\n"
          ]
        },
        {
          "metadata": {
            "tags": null
          },
          "name": "stderr",
          "output_type": "stream",
          "text": [
            "/usr/local/lib/python3.7/dist-packages/transformers/pipelines/base.py:1015: UserWarning: You seem to be using the pipelines sequentially on GPU. In order to maximize efficiency please use a dataset\n",
            "  UserWarning,\n"
          ]
        },
        {
          "metadata": {
            "tags": null
          },
          "name": "stdout",
          "output_type": "stream",
          "text": [
            "Wrote sockerpullor_06.json\n",
            "tomten.wav\n"
          ]
        },
        {
          "metadata": {
            "tags": null
          },
          "name": "stderr",
          "output_type": "stream",
          "text": [
            "/usr/local/lib/python3.7/dist-packages/transformers/pipelines/base.py:1015: UserWarning: You seem to be using the pipelines sequentially on GPU. In order to maximize efficiency please use a dataset\n",
            "  UserWarning,\n"
          ]
        },
        {
          "metadata": {
            "tags": null
          },
          "name": "stdout",
          "output_type": "stream",
          "text": [
            "Wrote tomten.json\n",
            "djaeknarne_02.wav\n"
          ]
        },
        {
          "metadata": {
            "tags": null
          },
          "name": "stderr",
          "output_type": "stream",
          "text": [
            "/usr/local/lib/python3.7/dist-packages/transformers/pipelines/base.py:1015: UserWarning: You seem to be using the pipelines sequentially on GPU. In order to maximize efficiency please use a dataset\n",
            "  UserWarning,\n"
          ]
        },
        {
          "metadata": {
            "tags": null
          },
          "name": "stdout",
          "output_type": "stream",
          "text": [
            "Wrote djaeknarne_02.json\n",
            "jordensinre_07.wav\n"
          ]
        },
        {
          "metadata": {
            "tags": null
          },
          "name": "stderr",
          "output_type": "stream",
          "text": [
            "/usr/local/lib/python3.7/dist-packages/transformers/pipelines/base.py:1015: UserWarning: You seem to be using the pipelines sequentially on GPU. In order to maximize efficiency please use a dataset\n",
            "  UserWarning,\n"
          ]
        },
        {
          "metadata": {
            "tags": null
          },
          "name": "stdout",
          "output_type": "stream",
          "text": [
            "Wrote jordensinre_07.json\n",
            "ennyckfullkvinna2_09.wav\n"
          ]
        },
        {
          "metadata": {
            "tags": null
          },
          "name": "stderr",
          "output_type": "stream",
          "text": [
            "/usr/local/lib/python3.7/dist-packages/transformers/pipelines/base.py:1015: UserWarning: You seem to be using the pipelines sequentially on GPU. In order to maximize efficiency please use a dataset\n",
            "  UserWarning,\n"
          ]
        },
        {
          "metadata": {
            "tags": null
          },
          "name": "stdout",
          "output_type": "stream",
          "text": [
            "Wrote ennyckfullkvinna2_09.json\n",
            "jaochnej_01.wav\n"
          ]
        },
        {
          "metadata": {
            "tags": null
          },
          "name": "stderr",
          "output_type": "stream",
          "text": [
            "/usr/local/lib/python3.7/dist-packages/transformers/pipelines/base.py:1015: UserWarning: You seem to be using the pipelines sequentially on GPU. In order to maximize efficiency please use a dataset\n",
            "  UserWarning,\n"
          ]
        },
        {
          "metadata": {
            "tags": null
          },
          "name": "stdout",
          "output_type": "stream",
          "text": [
            "Wrote jaochnej_01.json\n",
            "jaochnej_08.wav\n"
          ]
        },
        {
          "metadata": {
            "tags": null
          },
          "name": "stderr",
          "output_type": "stream",
          "text": [
            "/usr/local/lib/python3.7/dist-packages/transformers/pipelines/base.py:1015: UserWarning: You seem to be using the pipelines sequentially on GPU. In order to maximize efficiency please use a dataset\n",
            "  UserWarning,\n"
          ]
        },
        {
          "metadata": {
            "tags": null
          },
          "name": "stdout",
          "output_type": "stream",
          "text": [
            "Wrote jaochnej_08.json\n",
            "djaeknarne_01.wav\n"
          ]
        },
        {
          "metadata": {
            "tags": null
          },
          "name": "stderr",
          "output_type": "stream",
          "text": [
            "/usr/local/lib/python3.7/dist-packages/transformers/pipelines/base.py:1015: UserWarning: You seem to be using the pipelines sequentially on GPU. In order to maximize efficiency please use a dataset\n",
            "  UserWarning,\n"
          ]
        },
        {
          "metadata": {
            "tags": null
          },
          "name": "stdout",
          "output_type": "stream",
          "text": [
            "Wrote djaeknarne_01.json\n",
            "jordensinre_04.wav\n"
          ]
        },
        {
          "metadata": {
            "tags": null
          },
          "name": "stderr",
          "output_type": "stream",
          "text": [
            "/usr/local/lib/python3.7/dist-packages/transformers/pipelines/base.py:1015: UserWarning: You seem to be using the pipelines sequentially on GPU. In order to maximize efficiency please use a dataset\n",
            "  UserWarning,\n"
          ]
        },
        {
          "metadata": {
            "tags": null
          },
          "name": "stdout",
          "output_type": "stream",
          "text": [
            "Wrote jordensinre_04.json\n",
            "jaochnej_03.wav\n"
          ]
        },
        {
          "metadata": {
            "tags": null
          },
          "name": "stderr",
          "output_type": "stream",
          "text": [
            "/usr/local/lib/python3.7/dist-packages/transformers/pipelines/base.py:1015: UserWarning: You seem to be using the pipelines sequentially on GPU. In order to maximize efficiency please use a dataset\n",
            "  UserWarning,\n"
          ]
        },
        {
          "metadata": {
            "tags": null
          },
          "name": "stdout",
          "output_type": "stream",
          "text": [
            "Wrote jaochnej_03.json\n",
            "jordensinre_01.wav\n"
          ]
        },
        {
          "metadata": {
            "tags": null
          },
          "name": "stderr",
          "output_type": "stream",
          "text": [
            "/usr/local/lib/python3.7/dist-packages/transformers/pipelines/base.py:1015: UserWarning: You seem to be using the pipelines sequentially on GPU. In order to maximize efficiency please use a dataset\n",
            "  UserWarning,\n"
          ]
        },
        {
          "metadata": {
            "tags": null
          },
          "name": "stdout",
          "output_type": "stream",
          "text": [
            "Wrote jordensinre_01.json\n",
            "djaeknarne_10.wav\n",
            "jaochnej_04.wav\n",
            "djaeknarne_11.wav\n"
          ]
        },
        {
          "metadata": {
            "tags": null
          },
          "name": "stderr",
          "output_type": "stream",
          "text": [
            "/usr/local/lib/python3.7/dist-packages/transformers/pipelines/base.py:1015: UserWarning: You seem to be using the pipelines sequentially on GPU. In order to maximize efficiency please use a dataset\n",
            "  UserWarning,\n"
          ]
        },
        {
          "metadata": {
            "tags": null
          },
          "name": "stdout",
          "output_type": "stream",
          "text": [
            "Wrote djaeknarne_11.json\n",
            "goteborgsflickor_19.wav\n"
          ]
        },
        {
          "metadata": {
            "tags": null
          },
          "name": "stderr",
          "output_type": "stream",
          "text": [
            "/usr/local/lib/python3.7/dist-packages/transformers/pipelines/base.py:1015: UserWarning: You seem to be using the pipelines sequentially on GPU. In order to maximize efficiency please use a dataset\n",
            "  UserWarning,\n"
          ]
        },
        {
          "metadata": {
            "tags": null
          },
          "name": "stdout",
          "output_type": "stream",
          "text": [
            "Wrote goteborgsflickor_19.json\n",
            "djaeknarne_06.wav\n"
          ]
        },
        {
          "metadata": {
            "tags": null
          },
          "name": "stderr",
          "output_type": "stream",
          "text": [
            "/usr/local/lib/python3.7/dist-packages/transformers/pipelines/base.py:1015: UserWarning: You seem to be using the pipelines sequentially on GPU. In order to maximize efficiency please use a dataset\n",
            "  UserWarning,\n"
          ]
        },
        {
          "metadata": {
            "tags": null
          },
          "name": "stdout",
          "output_type": "stream",
          "text": [
            "Wrote djaeknarne_06.json\n",
            "goteborgsflickor_03.wav\n"
          ]
        },
        {
          "metadata": {
            "tags": null
          },
          "name": "stderr",
          "output_type": "stream",
          "text": [
            "/usr/local/lib/python3.7/dist-packages/transformers/pipelines/base.py:1015: UserWarning: You seem to be using the pipelines sequentially on GPU. In order to maximize efficiency please use a dataset\n",
            "  UserWarning,\n"
          ]
        },
        {
          "metadata": {
            "tags": null
          },
          "name": "stdout",
          "output_type": "stream",
          "text": [
            "Wrote goteborgsflickor_03.json\n",
            "jordensinre_12.wav\n"
          ]
        },
        {
          "metadata": {
            "tags": null
          },
          "name": "stderr",
          "output_type": "stream",
          "text": [
            "/usr/local/lib/python3.7/dist-packages/transformers/pipelines/base.py:1015: UserWarning: You seem to be using the pipelines sequentially on GPU. In order to maximize efficiency please use a dataset\n",
            "  UserWarning,\n"
          ]
        },
        {
          "metadata": {
            "tags": null
          },
          "name": "stdout",
          "output_type": "stream",
          "text": [
            "Wrote jordensinre_12.json\n",
            "goteborgsflickor_13.wav\n"
          ]
        },
        {
          "metadata": {
            "tags": null
          },
          "name": "stderr",
          "output_type": "stream",
          "text": [
            "/usr/local/lib/python3.7/dist-packages/transformers/pipelines/base.py:1015: UserWarning: You seem to be using the pipelines sequentially on GPU. In order to maximize efficiency please use a dataset\n",
            "  UserWarning,\n"
          ]
        },
        {
          "metadata": {
            "tags": null
          },
          "name": "stdout",
          "output_type": "stream",
          "text": [
            "Wrote goteborgsflickor_13.json\n",
            "for_morgonbris.wav\n"
          ]
        },
        {
          "metadata": {
            "tags": null
          },
          "name": "stderr",
          "output_type": "stream",
          "text": [
            "/usr/local/lib/python3.7/dist-packages/transformers/pipelines/base.py:1015: UserWarning: You seem to be using the pipelines sequentially on GPU. In order to maximize efficiency please use a dataset\n",
            "  UserWarning,\n"
          ]
        },
        {
          "metadata": {
            "tags": null
          },
          "name": "stdout",
          "output_type": "stream",
          "text": [
            "Wrote for_morgonbris.json\n",
            "jordensinre_06.wav\n"
          ]
        },
        {
          "metadata": {
            "tags": null
          },
          "name": "stderr",
          "output_type": "stream",
          "text": [
            "/usr/local/lib/python3.7/dist-packages/transformers/pipelines/base.py:1015: UserWarning: You seem to be using the pipelines sequentially on GPU. In order to maximize efficiency please use a dataset\n",
            "  UserWarning,\n"
          ]
        },
        {
          "metadata": {
            "tags": null
          },
          "name": "stdout",
          "output_type": "stream",
          "text": [
            "Wrote jordensinre_06.json\n",
            "jaochnej_07.wav\n"
          ]
        },
        {
          "metadata": {
            "tags": null
          },
          "name": "stderr",
          "output_type": "stream",
          "text": [
            "/usr/local/lib/python3.7/dist-packages/transformers/pipelines/base.py:1015: UserWarning: You seem to be using the pipelines sequentially on GPU. In order to maximize efficiency please use a dataset\n",
            "  UserWarning,\n"
          ]
        },
        {
          "metadata": {
            "tags": null
          },
          "name": "stdout",
          "output_type": "stream",
          "text": [
            "Wrote jaochnej_07.json\n",
            "ennyckfullkvinna2_11.wav\n"
          ]
        },
        {
          "metadata": {
            "tags": null
          },
          "name": "stderr",
          "output_type": "stream",
          "text": [
            "/usr/local/lib/python3.7/dist-packages/transformers/pipelines/base.py:1015: UserWarning: You seem to be using the pipelines sequentially on GPU. In order to maximize efficiency please use a dataset\n",
            "  UserWarning,\n"
          ]
        },
        {
          "metadata": {
            "tags": null
          },
          "name": "stdout",
          "output_type": "stream",
          "text": [
            "Wrote ennyckfullkvinna2_11.json\n",
            "elin_i_hagen.wav\n"
          ]
        },
        {
          "metadata": {
            "tags": null
          },
          "name": "stderr",
          "output_type": "stream",
          "text": [
            "/usr/local/lib/python3.7/dist-packages/transformers/pipelines/base.py:1015: UserWarning: You seem to be using the pipelines sequentially on GPU. In order to maximize efficiency please use a dataset\n",
            "  UserWarning,\n"
          ]
        },
        {
          "metadata": {
            "tags": null
          },
          "name": "stdout",
          "output_type": "stream",
          "text": [
            "Wrote elin_i_hagen.json\n",
            "ennyckfullkvinna2_04.wav\n",
            "jordensinre_14.wav\n"
          ]
        },
        {
          "metadata": {
            "tags": null
          },
          "name": "stderr",
          "output_type": "stream",
          "text": [
            "/usr/local/lib/python3.7/dist-packages/transformers/pipelines/base.py:1015: UserWarning: You seem to be using the pipelines sequentially on GPU. In order to maximize efficiency please use a dataset\n",
            "  UserWarning,\n"
          ]
        },
        {
          "metadata": {
            "tags": null
          },
          "name": "stdout",
          "output_type": "stream",
          "text": [
            "Wrote jordensinre_14.json\n",
            "goteborgsflickor_04.wav\n"
          ]
        },
        {
          "metadata": {
            "tags": null
          },
          "name": "stderr",
          "output_type": "stream",
          "text": [
            "/usr/local/lib/python3.7/dist-packages/transformers/pipelines/base.py:1015: UserWarning: You seem to be using the pipelines sequentially on GPU. In order to maximize efficiency please use a dataset\n",
            "  UserWarning,\n"
          ]
        },
        {
          "metadata": {
            "tags": null
          },
          "name": "stdout",
          "output_type": "stream",
          "text": [
            "Wrote goteborgsflickor_04.json\n",
            "goteborgsflickor_15.wav\n"
          ]
        },
        {
          "metadata": {
            "tags": null
          },
          "name": "stderr",
          "output_type": "stream",
          "text": [
            "/usr/local/lib/python3.7/dist-packages/transformers/pipelines/base.py:1015: UserWarning: You seem to be using the pipelines sequentially on GPU. In order to maximize efficiency please use a dataset\n",
            "  UserWarning,\n"
          ]
        },
        {
          "metadata": {
            "tags": null
          },
          "name": "stdout",
          "output_type": "stream",
          "text": [
            "Wrote goteborgsflickor_15.json\n",
            "ennyckfullkvinna_01.wav\n",
            "goteborgsflickor_17.wav\n"
          ]
        },
        {
          "metadata": {
            "tags": null
          },
          "name": "stderr",
          "output_type": "stream",
          "text": [
            "/usr/local/lib/python3.7/dist-packages/transformers/pipelines/base.py:1015: UserWarning: You seem to be using the pipelines sequentially on GPU. In order to maximize efficiency please use a dataset\n",
            "  UserWarning,\n"
          ]
        },
        {
          "metadata": {
            "tags": null
          },
          "name": "stdout",
          "output_type": "stream",
          "text": [
            "Wrote goteborgsflickor_17.json\n",
            "sockerpullor_03.wav\n"
          ]
        },
        {
          "metadata": {
            "tags": null
          },
          "name": "stderr",
          "output_type": "stream",
          "text": [
            "/usr/local/lib/python3.7/dist-packages/transformers/pipelines/base.py:1015: UserWarning: You seem to be using the pipelines sequentially on GPU. In order to maximize efficiency please use a dataset\n",
            "  UserWarning,\n"
          ]
        },
        {
          "metadata": {
            "tags": null
          },
          "name": "stdout",
          "output_type": "stream",
          "text": [
            "Wrote sockerpullor_03.json\n",
            "elddonet.wav\n"
          ]
        },
        {
          "metadata": {
            "tags": null
          },
          "name": "stderr",
          "output_type": "stream",
          "text": [
            "/usr/local/lib/python3.7/dist-packages/transformers/pipelines/base.py:1015: UserWarning: You seem to be using the pipelines sequentially on GPU. In order to maximize efficiency please use a dataset\n",
            "  UserWarning,\n"
          ]
        },
        {
          "metadata": {
            "tags": null
          },
          "name": "stdout",
          "output_type": "stream",
          "text": [
            "Wrote elddonet.json\n",
            "en_saga_om_vreden.wav\n"
          ]
        },
        {
          "metadata": {
            "tags": null
          },
          "name": "stderr",
          "output_type": "stream",
          "text": [
            "/usr/local/lib/python3.7/dist-packages/transformers/pipelines/base.py:1015: UserWarning: You seem to be using the pipelines sequentially on GPU. In order to maximize efficiency please use a dataset\n",
            "  UserWarning,\n"
          ]
        },
        {
          "metadata": {
            "tags": null
          },
          "name": "stdout",
          "output_type": "stream",
          "text": [
            "Wrote en_saga_om_vreden.json\n",
            "goteborgsflickor_08.wav\n"
          ]
        },
        {
          "metadata": {
            "tags": null
          },
          "name": "stderr",
          "output_type": "stream",
          "text": [
            "/usr/local/lib/python3.7/dist-packages/transformers/pipelines/base.py:1015: UserWarning: You seem to be using the pipelines sequentially on GPU. In order to maximize efficiency please use a dataset\n",
            "  UserWarning,\n"
          ]
        },
        {
          "metadata": {
            "tags": null
          },
          "name": "stdout",
          "output_type": "stream",
          "text": [
            "Wrote goteborgsflickor_08.json\n",
            "efter_torgdagen.wav\n"
          ]
        },
        {
          "metadata": {
            "tags": null
          },
          "name": "stderr",
          "output_type": "stream",
          "text": [
            "/usr/local/lib/python3.7/dist-packages/transformers/pipelines/base.py:1015: UserWarning: You seem to be using the pipelines sequentially on GPU. In order to maximize efficiency please use a dataset\n",
            "  UserWarning,\n"
          ]
        },
        {
          "metadata": {
            "tags": null
          },
          "name": "stdout",
          "output_type": "stream",
          "text": [
            "Wrote efter_torgdagen.json\n",
            "goteborgsflickor_06.wav\n"
          ]
        },
        {
          "metadata": {
            "tags": null
          },
          "name": "stderr",
          "output_type": "stream",
          "text": [
            "/usr/local/lib/python3.7/dist-packages/transformers/pipelines/base.py:1015: UserWarning: You seem to be using the pipelines sequentially on GPU. In order to maximize efficiency please use a dataset\n",
            "  UserWarning,\n"
          ]
        },
        {
          "metadata": {
            "tags": null
          },
          "name": "stdout",
          "output_type": "stream",
          "text": [
            "Wrote goteborgsflickor_06.json\n",
            "goteborgsflickor_02.wav\n"
          ]
        },
        {
          "metadata": {
            "tags": null
          },
          "name": "stderr",
          "output_type": "stream",
          "text": [
            "/usr/local/lib/python3.7/dist-packages/transformers/pipelines/base.py:1015: UserWarning: You seem to be using the pipelines sequentially on GPU. In order to maximize efficiency please use a dataset\n",
            "  UserWarning,\n"
          ]
        },
        {
          "metadata": {
            "tags": null
          },
          "name": "stdout",
          "output_type": "stream",
          "text": [
            "Wrote goteborgsflickor_02.json\n",
            "jaochnej_05.wav\n"
          ]
        },
        {
          "metadata": {
            "tags": null
          },
          "name": "stderr",
          "output_type": "stream",
          "text": [
            "/usr/local/lib/python3.7/dist-packages/transformers/pipelines/base.py:1015: UserWarning: You seem to be using the pipelines sequentially on GPU. In order to maximize efficiency please use a dataset\n",
            "  UserWarning,\n"
          ]
        },
        {
          "metadata": {
            "tags": null
          },
          "name": "stdout",
          "output_type": "stream",
          "text": [
            "Wrote jaochnej_05.json\n",
            "jordensinre_02.wav\n"
          ]
        },
        {
          "metadata": {
            "tags": null
          },
          "name": "stderr",
          "output_type": "stream",
          "text": [
            "/usr/local/lib/python3.7/dist-packages/transformers/pipelines/base.py:1015: UserWarning: You seem to be using the pipelines sequentially on GPU. In order to maximize efficiency please use a dataset\n",
            "  UserWarning,\n"
          ]
        },
        {
          "output_type": "stream",
          "name": "stdout",
          "text": [
            "Wrote jordensinre_02.json\n",
            "djaeknarne_09.wav\n"
          ]
        },
        {
          "output_type": "stream",
          "name": "stderr",
          "text": [
            "/usr/local/lib/python3.7/dist-packages/transformers/pipelines/base.py:1015: UserWarning: You seem to be using the pipelines sequentially on GPU. In order to maximize efficiency please use a dataset\n",
            "  UserWarning,\n"
          ]
        },
        {
          "output_type": "stream",
          "name": "stdout",
          "text": [
            "Wrote djaeknarne_09.json\n",
            "sockerpullor_04.wav\n"
          ]
        },
        {
          "output_type": "stream",
          "name": "stderr",
          "text": [
            "/usr/local/lib/python3.7/dist-packages/transformers/pipelines/base.py:1015: UserWarning: You seem to be using the pipelines sequentially on GPU. In order to maximize efficiency please use a dataset\n",
            "  UserWarning,\n"
          ]
        },
        {
          "output_type": "stream",
          "name": "stdout",
          "text": [
            "Wrote sockerpullor_04.json\n",
            "ennyckfullkvinna2_13.wav\n"
          ]
        },
        {
          "output_type": "stream",
          "name": "stderr",
          "text": [
            "/usr/local/lib/python3.7/dist-packages/transformers/pipelines/base.py:1015: UserWarning: You seem to be using the pipelines sequentially on GPU. In order to maximize efficiency please use a dataset\n",
            "  UserWarning,\n"
          ]
        }
      ],
      "source": [
        "import glob\n",
        "import json\n",
        "\n",
        "for file in glob.glob(\"*.wav\"):\n",
        "    print(file)\n",
        "    if file in DONE:\n",
        "        continue\n",
        "    jsonf = file.replace(\".wav\", \".json\")\n",
        "    output = pipe(file, chunk_length_s=10, return_timestamps=\"word\")\n",
        "    with open(jsonf, \"w\") as f:\n",
        "        json.dump(output, f)\n",
        "    print(\"Wrote\", jsonf)"
      ]
    },
    {
      "cell_type": "code",
      "source": [
        "!ls *.json | zip json.zip -@"
      ],
      "metadata": {
        "id": "nj75Rnglxp1U",
        "outputId": "459d3156-9e23-42ee-f6c5-b5a8ebb951e7",
        "colab": {
          "base_uri": "https://localhost:8080/"
        }
      },
      "execution_count": 15,
      "outputs": [
        {
          "output_type": "stream",
          "name": "stdout",
          "text": [
            "  adding: djaeknarne_01.json (deflated 76%)\n",
            "  adding: djaeknarne_02.json (deflated 77%)\n",
            "  adding: djaeknarne_03.json (deflated 77%)\n",
            "  adding: djaeknarne_04.json (deflated 76%)\n",
            "  adding: djaeknarne_05.json (deflated 78%)\n",
            "  adding: djaeknarne_06.json (deflated 76%)\n",
            "  adding: djaeknarne_07.json (deflated 78%)\n",
            "  adding: djaeknarne_08.json (deflated 77%)\n",
            "  adding: djaeknarne_09.json (deflated 76%)\n",
            "  adding: djaeknarne_11.json (deflated 78%)\n",
            "  adding: djaeknarne_12.json (deflated 77%)\n",
            "  adding: efter_torgdagen.json (deflated 77%)\n",
            "  adding: elddonet.json (deflated 79%)\n",
            "  adding: elin_i_hagen.json (deflated 74%)\n",
            "  adding: ennyckfullkvinna_02.json (deflated 77%)\n",
            "  adding: ennyckfullkvinna2_01.json (deflated 77%)\n",
            "  adding: ennyckfullkvinna2_02.json (deflated 77%)\n",
            "  adding: ennyckfullkvinna2_03.json (deflated 77%)\n",
            "  adding: ennyckfullkvinna2_06.json (deflated 78%)\n",
            "  adding: ennyckfullkvinna2_07.json (deflated 77%)\n",
            "  adding: ennyckfullkvinna2_08.json (deflated 78%)\n",
            "  adding: ennyckfullkvinna2_09.json (deflated 78%)\n",
            "  adding: ennyckfullkvinna2_10.json (deflated 77%)\n",
            "  adding: ennyckfullkvinna2_11.json (deflated 78%)\n",
            "  adding: ennyckfullkvinna2_13.json (deflated 77%)\n",
            "  adding: en_saga_om_vreden.json (deflated 75%)\n",
            "  adding: for_morgonbris.json (deflated 73%)\n",
            "  adding: goteborgsflickor_01.json (deflated 77%)\n",
            "  adding: goteborgsflickor_02.json (deflated 76%)\n",
            "  adding: goteborgsflickor_03.json (deflated 76%)\n",
            "  adding: goteborgsflickor_04.json (deflated 77%)\n",
            "  adding: goteborgsflickor_05.json (deflated 76%)\n",
            "  adding: goteborgsflickor_06.json (deflated 76%)\n",
            "  adding: goteborgsflickor_08.json (deflated 76%)\n",
            "  adding: goteborgsflickor_09.json (deflated 75%)\n",
            "  adding: goteborgsflickor_10.json (deflated 75%)\n",
            "  adding: goteborgsflickor_11.json (deflated 76%)\n",
            "  adding: goteborgsflickor_12.json (deflated 75%)\n",
            "  adding: goteborgsflickor_13.json (deflated 76%)\n",
            "  adding: goteborgsflickor_14.json (deflated 77%)\n",
            "  adding: goteborgsflickor_15.json (deflated 76%)\n",
            "  adding: goteborgsflickor_16.json (deflated 77%)\n",
            "  adding: goteborgsflickor_17.json (deflated 77%)\n",
            "  adding: goteborgsflickor_18.json (deflated 76%)\n",
            "  adding: goteborgsflickor_19.json (deflated 77%)\n",
            "  adding: jaochnej_01.json (deflated 79%)\n",
            "  adding: jaochnej_02.json (deflated 79%)\n",
            "  adding: jaochnej_03.json (deflated 79%)\n",
            "  adding: jaochnej_05.json (deflated 79%)\n",
            "  adding: jaochnej_06.json (deflated 79%)\n",
            "  adding: jaochnej_07.json (deflated 79%)\n",
            "  adding: jaochnej_08.json (deflated 78%)\n",
            "  adding: jenny.json (deflated 77%)\n",
            "  adding: jordensinre_01.json (deflated 77%)\n",
            "  adding: jordensinre_02.json (deflated 77%)\n",
            "  adding: jordensinre_03.json (deflated 77%)\n",
            "  adding: jordensinre_04.json (deflated 76%)\n",
            "  adding: jordensinre_05.json (deflated 77%)\n",
            "  adding: jordensinre_06.json (deflated 75%)\n",
            "  adding: jordensinre_07.json (deflated 76%)\n",
            "  adding: jordensinre_08.json (deflated 76%)\n",
            "  adding: jordensinre_09.json (deflated 75%)\n",
            "  adding: jordensinre_10.json (deflated 76%)\n",
            "  adding: jordensinre_11.json (deflated 75%)\n",
            "  adding: jordensinre_12.json (deflated 76%)\n",
            "  adding: jordensinre_13.json (deflated 76%)\n",
            "  adding: jordensinre_14.json (deflated 76%)\n",
            "  adding: landshovdingen.json (deflated 75%)\n",
            "  adding: nocturne.json (deflated 68%)\n",
            "  adding: sockerpullor_01.json (deflated 78%)\n",
            "  adding: sockerpullor_02.json (deflated 78%)\n",
            "  adding: sockerpullor_03.json (deflated 77%)\n",
            "  adding: sockerpullor_04.json (deflated 78%)\n",
            "  adding: sockerpullor_05.json (deflated 78%)\n",
            "  adding: sockerpullor_06.json (deflated 77%)\n",
            "  adding: sockerpullor_07.json (deflated 78%)\n",
            "  adding: tomten.json (deflated 75%)\n"
          ]
        }
      ]
    }
  ],
  "metadata": {
    "colab": {
      "collapsed_sections": [],
      "name": "2022-06-30-getting-timestamps-of-swedish-librivox.ipynb",
      "provenance": []
    },
    "kernelspec": {
      "display_name": "Python 3",
      "name": "python3"
    },
    "language_info": {
      "name": "python"
    },
    "accelerator": "GPU",
    "gpuClass": "standard",
    "widgets": {
      "application/vnd.jupyter.widget-state+json": {
        "4daf9edf3319461f8e20709877eba96c": {
          "model_module": "@jupyter-widgets/controls",
          "model_name": "HBoxModel",
          "model_module_version": "1.5.0",
          "state": {
            "_dom_classes": [],
            "_model_module": "@jupyter-widgets/controls",
            "_model_module_version": "1.5.0",
            "_model_name": "HBoxModel",
            "_view_count": null,
            "_view_module": "@jupyter-widgets/controls",
            "_view_module_version": "1.5.0",
            "_view_name": "HBoxView",
            "box_style": "",
            "children": [
              "IPY_MODEL_9e88e502b0a94030ac1d71061e0af34e",
              "IPY_MODEL_a69f90362dd04360a36f0794a707e3c8",
              "IPY_MODEL_981ad28e391c40088c0aaac48a1a566a"
            ],
            "layout": "IPY_MODEL_6fab461aec684408b72ae267c6d1f6f5"
          }
        },
        "9e88e502b0a94030ac1d71061e0af34e": {
          "model_module": "@jupyter-widgets/controls",
          "model_name": "HTMLModel",
          "model_module_version": "1.5.0",
          "state": {
            "_dom_classes": [],
            "_model_module": "@jupyter-widgets/controls",
            "_model_module_version": "1.5.0",
            "_model_name": "HTMLModel",
            "_view_count": null,
            "_view_module": "@jupyter-widgets/controls",
            "_view_module_version": "1.5.0",
            "_view_name": "HTMLView",
            "description": "",
            "description_tooltip": null,
            "layout": "IPY_MODEL_a48e29f344964f6e966fce2146fe70b3",
            "placeholder": "​",
            "style": "IPY_MODEL_32913f892ff2468986ce733ff16b259c",
            "value": "Downloading: 100%"
          }
        },
        "a69f90362dd04360a36f0794a707e3c8": {
          "model_module": "@jupyter-widgets/controls",
          "model_name": "FloatProgressModel",
          "model_module_version": "1.5.0",
          "state": {
            "_dom_classes": [],
            "_model_module": "@jupyter-widgets/controls",
            "_model_module_version": "1.5.0",
            "_model_name": "FloatProgressModel",
            "_view_count": null,
            "_view_module": "@jupyter-widgets/controls",
            "_view_module_version": "1.5.0",
            "_view_name": "ProgressView",
            "bar_style": "success",
            "description": "",
            "description_tooltip": null,
            "layout": "IPY_MODEL_af66ab6917264b3687e04d9d518836c8",
            "max": 1853,
            "min": 0,
            "orientation": "horizontal",
            "style": "IPY_MODEL_4cfc53dce5ba4a64b08d1dcf78de5d19",
            "value": 1853
          }
        },
        "981ad28e391c40088c0aaac48a1a566a": {
          "model_module": "@jupyter-widgets/controls",
          "model_name": "HTMLModel",
          "model_module_version": "1.5.0",
          "state": {
            "_dom_classes": [],
            "_model_module": "@jupyter-widgets/controls",
            "_model_module_version": "1.5.0",
            "_model_name": "HTMLModel",
            "_view_count": null,
            "_view_module": "@jupyter-widgets/controls",
            "_view_module_version": "1.5.0",
            "_view_name": "HTMLView",
            "description": "",
            "description_tooltip": null,
            "layout": "IPY_MODEL_f1cbbfdf19774ea196a815b1b96a52fb",
            "placeholder": "​",
            "style": "IPY_MODEL_d7447ccb0e264b64a87c920f478dd24c",
            "value": " 1.81k/1.81k [00:00&lt;00:00, 54.9kB/s]"
          }
        },
        "6fab461aec684408b72ae267c6d1f6f5": {
          "model_module": "@jupyter-widgets/base",
          "model_name": "LayoutModel",
          "model_module_version": "1.2.0",
          "state": {
            "_model_module": "@jupyter-widgets/base",
            "_model_module_version": "1.2.0",
            "_model_name": "LayoutModel",
            "_view_count": null,
            "_view_module": "@jupyter-widgets/base",
            "_view_module_version": "1.2.0",
            "_view_name": "LayoutView",
            "align_content": null,
            "align_items": null,
            "align_self": null,
            "border": null,
            "bottom": null,
            "display": null,
            "flex": null,
            "flex_flow": null,
            "grid_area": null,
            "grid_auto_columns": null,
            "grid_auto_flow": null,
            "grid_auto_rows": null,
            "grid_column": null,
            "grid_gap": null,
            "grid_row": null,
            "grid_template_areas": null,
            "grid_template_columns": null,
            "grid_template_rows": null,
            "height": null,
            "justify_content": null,
            "justify_items": null,
            "left": null,
            "margin": null,
            "max_height": null,
            "max_width": null,
            "min_height": null,
            "min_width": null,
            "object_fit": null,
            "object_position": null,
            "order": null,
            "overflow": null,
            "overflow_x": null,
            "overflow_y": null,
            "padding": null,
            "right": null,
            "top": null,
            "visibility": null,
            "width": null
          }
        },
        "a48e29f344964f6e966fce2146fe70b3": {
          "model_module": "@jupyter-widgets/base",
          "model_name": "LayoutModel",
          "model_module_version": "1.2.0",
          "state": {
            "_model_module": "@jupyter-widgets/base",
            "_model_module_version": "1.2.0",
            "_model_name": "LayoutModel",
            "_view_count": null,
            "_view_module": "@jupyter-widgets/base",
            "_view_module_version": "1.2.0",
            "_view_name": "LayoutView",
            "align_content": null,
            "align_items": null,
            "align_self": null,
            "border": null,
            "bottom": null,
            "display": null,
            "flex": null,
            "flex_flow": null,
            "grid_area": null,
            "grid_auto_columns": null,
            "grid_auto_flow": null,
            "grid_auto_rows": null,
            "grid_column": null,
            "grid_gap": null,
            "grid_row": null,
            "grid_template_areas": null,
            "grid_template_columns": null,
            "grid_template_rows": null,
            "height": null,
            "justify_content": null,
            "justify_items": null,
            "left": null,
            "margin": null,
            "max_height": null,
            "max_width": null,
            "min_height": null,
            "min_width": null,
            "object_fit": null,
            "object_position": null,
            "order": null,
            "overflow": null,
            "overflow_x": null,
            "overflow_y": null,
            "padding": null,
            "right": null,
            "top": null,
            "visibility": null,
            "width": null
          }
        },
        "32913f892ff2468986ce733ff16b259c": {
          "model_module": "@jupyter-widgets/controls",
          "model_name": "DescriptionStyleModel",
          "model_module_version": "1.5.0",
          "state": {
            "_model_module": "@jupyter-widgets/controls",
            "_model_module_version": "1.5.0",
            "_model_name": "DescriptionStyleModel",
            "_view_count": null,
            "_view_module": "@jupyter-widgets/base",
            "_view_module_version": "1.2.0",
            "_view_name": "StyleView",
            "description_width": ""
          }
        },
        "af66ab6917264b3687e04d9d518836c8": {
          "model_module": "@jupyter-widgets/base",
          "model_name": "LayoutModel",
          "model_module_version": "1.2.0",
          "state": {
            "_model_module": "@jupyter-widgets/base",
            "_model_module_version": "1.2.0",
            "_model_name": "LayoutModel",
            "_view_count": null,
            "_view_module": "@jupyter-widgets/base",
            "_view_module_version": "1.2.0",
            "_view_name": "LayoutView",
            "align_content": null,
            "align_items": null,
            "align_self": null,
            "border": null,
            "bottom": null,
            "display": null,
            "flex": null,
            "flex_flow": null,
            "grid_area": null,
            "grid_auto_columns": null,
            "grid_auto_flow": null,
            "grid_auto_rows": null,
            "grid_column": null,
            "grid_gap": null,
            "grid_row": null,
            "grid_template_areas": null,
            "grid_template_columns": null,
            "grid_template_rows": null,
            "height": null,
            "justify_content": null,
            "justify_items": null,
            "left": null,
            "margin": null,
            "max_height": null,
            "max_width": null,
            "min_height": null,
            "min_width": null,
            "object_fit": null,
            "object_position": null,
            "order": null,
            "overflow": null,
            "overflow_x": null,
            "overflow_y": null,
            "padding": null,
            "right": null,
            "top": null,
            "visibility": null,
            "width": null
          }
        },
        "4cfc53dce5ba4a64b08d1dcf78de5d19": {
          "model_module": "@jupyter-widgets/controls",
          "model_name": "ProgressStyleModel",
          "model_module_version": "1.5.0",
          "state": {
            "_model_module": "@jupyter-widgets/controls",
            "_model_module_version": "1.5.0",
            "_model_name": "ProgressStyleModel",
            "_view_count": null,
            "_view_module": "@jupyter-widgets/base",
            "_view_module_version": "1.2.0",
            "_view_name": "StyleView",
            "bar_color": null,
            "description_width": ""
          }
        },
        "f1cbbfdf19774ea196a815b1b96a52fb": {
          "model_module": "@jupyter-widgets/base",
          "model_name": "LayoutModel",
          "model_module_version": "1.2.0",
          "state": {
            "_model_module": "@jupyter-widgets/base",
            "_model_module_version": "1.2.0",
            "_model_name": "LayoutModel",
            "_view_count": null,
            "_view_module": "@jupyter-widgets/base",
            "_view_module_version": "1.2.0",
            "_view_name": "LayoutView",
            "align_content": null,
            "align_items": null,
            "align_self": null,
            "border": null,
            "bottom": null,
            "display": null,
            "flex": null,
            "flex_flow": null,
            "grid_area": null,
            "grid_auto_columns": null,
            "grid_auto_flow": null,
            "grid_auto_rows": null,
            "grid_column": null,
            "grid_gap": null,
            "grid_row": null,
            "grid_template_areas": null,
            "grid_template_columns": null,
            "grid_template_rows": null,
            "height": null,
            "justify_content": null,
            "justify_items": null,
            "left": null,
            "margin": null,
            "max_height": null,
            "max_width": null,
            "min_height": null,
            "min_width": null,
            "object_fit": null,
            "object_position": null,
            "order": null,
            "overflow": null,
            "overflow_x": null,
            "overflow_y": null,
            "padding": null,
            "right": null,
            "top": null,
            "visibility": null,
            "width": null
          }
        },
        "d7447ccb0e264b64a87c920f478dd24c": {
          "model_module": "@jupyter-widgets/controls",
          "model_name": "DescriptionStyleModel",
          "model_module_version": "1.5.0",
          "state": {
            "_model_module": "@jupyter-widgets/controls",
            "_model_module_version": "1.5.0",
            "_model_name": "DescriptionStyleModel",
            "_view_count": null,
            "_view_module": "@jupyter-widgets/base",
            "_view_module_version": "1.2.0",
            "_view_name": "StyleView",
            "description_width": ""
          }
        },
        "5dbc00f399d64bf6ac9727a75756f7fc": {
          "model_module": "@jupyter-widgets/controls",
          "model_name": "HBoxModel",
          "model_module_version": "1.5.0",
          "state": {
            "_dom_classes": [],
            "_model_module": "@jupyter-widgets/controls",
            "_model_module_version": "1.5.0",
            "_model_name": "HBoxModel",
            "_view_count": null,
            "_view_module": "@jupyter-widgets/controls",
            "_view_module_version": "1.5.0",
            "_view_name": "HBoxView",
            "box_style": "",
            "children": [
              "IPY_MODEL_ff343d5039074ea4ad663c04563b4136",
              "IPY_MODEL_ecde9fa0758b431fbb35b9f065e15695",
              "IPY_MODEL_a5dc13da3403406a9f6f8c60472958e0"
            ],
            "layout": "IPY_MODEL_45fe55335e5546f195853d16228c25fe"
          }
        },
        "ff343d5039074ea4ad663c04563b4136": {
          "model_module": "@jupyter-widgets/controls",
          "model_name": "HTMLModel",
          "model_module_version": "1.5.0",
          "state": {
            "_dom_classes": [],
            "_model_module": "@jupyter-widgets/controls",
            "_model_module_version": "1.5.0",
            "_model_name": "HTMLModel",
            "_view_count": null,
            "_view_module": "@jupyter-widgets/controls",
            "_view_module_version": "1.5.0",
            "_view_name": "HTMLView",
            "description": "",
            "description_tooltip": null,
            "layout": "IPY_MODEL_5995eb0d79524c6aa29d134cb0071a52",
            "placeholder": "​",
            "style": "IPY_MODEL_845bd48546af44ccaebbf0e49d9322a2",
            "value": "Downloading: 100%"
          }
        },
        "ecde9fa0758b431fbb35b9f065e15695": {
          "model_module": "@jupyter-widgets/controls",
          "model_name": "FloatProgressModel",
          "model_module_version": "1.5.0",
          "state": {
            "_dom_classes": [],
            "_model_module": "@jupyter-widgets/controls",
            "_model_module_version": "1.5.0",
            "_model_name": "FloatProgressModel",
            "_view_count": null,
            "_view_module": "@jupyter-widgets/controls",
            "_view_module_version": "1.5.0",
            "_view_name": "ProgressView",
            "bar_style": "success",
            "description": "",
            "description_tooltip": null,
            "layout": "IPY_MODEL_a3307e06819a4b88b701907a898b71e9",
            "max": 1757,
            "min": 0,
            "orientation": "horizontal",
            "style": "IPY_MODEL_8d3f801eacc643fbba3d597b062a5c0a",
            "value": 1757
          }
        },
        "a5dc13da3403406a9f6f8c60472958e0": {
          "model_module": "@jupyter-widgets/controls",
          "model_name": "HTMLModel",
          "model_module_version": "1.5.0",
          "state": {
            "_dom_classes": [],
            "_model_module": "@jupyter-widgets/controls",
            "_model_module_version": "1.5.0",
            "_model_name": "HTMLModel",
            "_view_count": null,
            "_view_module": "@jupyter-widgets/controls",
            "_view_module_version": "1.5.0",
            "_view_name": "HTMLView",
            "description": "",
            "description_tooltip": null,
            "layout": "IPY_MODEL_a5b356a640a642e0bd6cbb98618cc1c5",
            "placeholder": "​",
            "style": "IPY_MODEL_ac53dfac37cc4fd890cfafe0d41a6a9d",
            "value": " 1.72k/1.72k [00:00&lt;00:00, 49.2kB/s]"
          }
        },
        "45fe55335e5546f195853d16228c25fe": {
          "model_module": "@jupyter-widgets/base",
          "model_name": "LayoutModel",
          "model_module_version": "1.2.0",
          "state": {
            "_model_module": "@jupyter-widgets/base",
            "_model_module_version": "1.2.0",
            "_model_name": "LayoutModel",
            "_view_count": null,
            "_view_module": "@jupyter-widgets/base",
            "_view_module_version": "1.2.0",
            "_view_name": "LayoutView",
            "align_content": null,
            "align_items": null,
            "align_self": null,
            "border": null,
            "bottom": null,
            "display": null,
            "flex": null,
            "flex_flow": null,
            "grid_area": null,
            "grid_auto_columns": null,
            "grid_auto_flow": null,
            "grid_auto_rows": null,
            "grid_column": null,
            "grid_gap": null,
            "grid_row": null,
            "grid_template_areas": null,
            "grid_template_columns": null,
            "grid_template_rows": null,
            "height": null,
            "justify_content": null,
            "justify_items": null,
            "left": null,
            "margin": null,
            "max_height": null,
            "max_width": null,
            "min_height": null,
            "min_width": null,
            "object_fit": null,
            "object_position": null,
            "order": null,
            "overflow": null,
            "overflow_x": null,
            "overflow_y": null,
            "padding": null,
            "right": null,
            "top": null,
            "visibility": null,
            "width": null
          }
        },
        "5995eb0d79524c6aa29d134cb0071a52": {
          "model_module": "@jupyter-widgets/base",
          "model_name": "LayoutModel",
          "model_module_version": "1.2.0",
          "state": {
            "_model_module": "@jupyter-widgets/base",
            "_model_module_version": "1.2.0",
            "_model_name": "LayoutModel",
            "_view_count": null,
            "_view_module": "@jupyter-widgets/base",
            "_view_module_version": "1.2.0",
            "_view_name": "LayoutView",
            "align_content": null,
            "align_items": null,
            "align_self": null,
            "border": null,
            "bottom": null,
            "display": null,
            "flex": null,
            "flex_flow": null,
            "grid_area": null,
            "grid_auto_columns": null,
            "grid_auto_flow": null,
            "grid_auto_rows": null,
            "grid_column": null,
            "grid_gap": null,
            "grid_row": null,
            "grid_template_areas": null,
            "grid_template_columns": null,
            "grid_template_rows": null,
            "height": null,
            "justify_content": null,
            "justify_items": null,
            "left": null,
            "margin": null,
            "max_height": null,
            "max_width": null,
            "min_height": null,
            "min_width": null,
            "object_fit": null,
            "object_position": null,
            "order": null,
            "overflow": null,
            "overflow_x": null,
            "overflow_y": null,
            "padding": null,
            "right": null,
            "top": null,
            "visibility": null,
            "width": null
          }
        },
        "845bd48546af44ccaebbf0e49d9322a2": {
          "model_module": "@jupyter-widgets/controls",
          "model_name": "DescriptionStyleModel",
          "model_module_version": "1.5.0",
          "state": {
            "_model_module": "@jupyter-widgets/controls",
            "_model_module_version": "1.5.0",
            "_model_name": "DescriptionStyleModel",
            "_view_count": null,
            "_view_module": "@jupyter-widgets/base",
            "_view_module_version": "1.2.0",
            "_view_name": "StyleView",
            "description_width": ""
          }
        },
        "a3307e06819a4b88b701907a898b71e9": {
          "model_module": "@jupyter-widgets/base",
          "model_name": "LayoutModel",
          "model_module_version": "1.2.0",
          "state": {
            "_model_module": "@jupyter-widgets/base",
            "_model_module_version": "1.2.0",
            "_model_name": "LayoutModel",
            "_view_count": null,
            "_view_module": "@jupyter-widgets/base",
            "_view_module_version": "1.2.0",
            "_view_name": "LayoutView",
            "align_content": null,
            "align_items": null,
            "align_self": null,
            "border": null,
            "bottom": null,
            "display": null,
            "flex": null,
            "flex_flow": null,
            "grid_area": null,
            "grid_auto_columns": null,
            "grid_auto_flow": null,
            "grid_auto_rows": null,
            "grid_column": null,
            "grid_gap": null,
            "grid_row": null,
            "grid_template_areas": null,
            "grid_template_columns": null,
            "grid_template_rows": null,
            "height": null,
            "justify_content": null,
            "justify_items": null,
            "left": null,
            "margin": null,
            "max_height": null,
            "max_width": null,
            "min_height": null,
            "min_width": null,
            "object_fit": null,
            "object_position": null,
            "order": null,
            "overflow": null,
            "overflow_x": null,
            "overflow_y": null,
            "padding": null,
            "right": null,
            "top": null,
            "visibility": null,
            "width": null
          }
        },
        "8d3f801eacc643fbba3d597b062a5c0a": {
          "model_module": "@jupyter-widgets/controls",
          "model_name": "ProgressStyleModel",
          "model_module_version": "1.5.0",
          "state": {
            "_model_module": "@jupyter-widgets/controls",
            "_model_module_version": "1.5.0",
            "_model_name": "ProgressStyleModel",
            "_view_count": null,
            "_view_module": "@jupyter-widgets/base",
            "_view_module_version": "1.2.0",
            "_view_name": "StyleView",
            "bar_color": null,
            "description_width": ""
          }
        },
        "a5b356a640a642e0bd6cbb98618cc1c5": {
          "model_module": "@jupyter-widgets/base",
          "model_name": "LayoutModel",
          "model_module_version": "1.2.0",
          "state": {
            "_model_module": "@jupyter-widgets/base",
            "_model_module_version": "1.2.0",
            "_model_name": "LayoutModel",
            "_view_count": null,
            "_view_module": "@jupyter-widgets/base",
            "_view_module_version": "1.2.0",
            "_view_name": "LayoutView",
            "align_content": null,
            "align_items": null,
            "align_self": null,
            "border": null,
            "bottom": null,
            "display": null,
            "flex": null,
            "flex_flow": null,
            "grid_area": null,
            "grid_auto_columns": null,
            "grid_auto_flow": null,
            "grid_auto_rows": null,
            "grid_column": null,
            "grid_gap": null,
            "grid_row": null,
            "grid_template_areas": null,
            "grid_template_columns": null,
            "grid_template_rows": null,
            "height": null,
            "justify_content": null,
            "justify_items": null,
            "left": null,
            "margin": null,
            "max_height": null,
            "max_width": null,
            "min_height": null,
            "min_width": null,
            "object_fit": null,
            "object_position": null,
            "order": null,
            "overflow": null,
            "overflow_x": null,
            "overflow_y": null,
            "padding": null,
            "right": null,
            "top": null,
            "visibility": null,
            "width": null
          }
        },
        "ac53dfac37cc4fd890cfafe0d41a6a9d": {
          "model_module": "@jupyter-widgets/controls",
          "model_name": "DescriptionStyleModel",
          "model_module_version": "1.5.0",
          "state": {
            "_model_module": "@jupyter-widgets/controls",
            "_model_module_version": "1.5.0",
            "_model_name": "DescriptionStyleModel",
            "_view_count": null,
            "_view_module": "@jupyter-widgets/base",
            "_view_module_version": "1.2.0",
            "_view_name": "StyleView",
            "description_width": ""
          }
        },
        "acd56c9dda424975bd2713f0c2f63f59": {
          "model_module": "@jupyter-widgets/controls",
          "model_name": "HBoxModel",
          "model_module_version": "1.5.0",
          "state": {
            "_dom_classes": [],
            "_model_module": "@jupyter-widgets/controls",
            "_model_module_version": "1.5.0",
            "_model_name": "HBoxModel",
            "_view_count": null,
            "_view_module": "@jupyter-widgets/controls",
            "_view_module_version": "1.5.0",
            "_view_name": "HBoxView",
            "box_style": "",
            "children": [
              "IPY_MODEL_50e0922975454459b5083d2e833cfd56",
              "IPY_MODEL_837636c51dc447fd913b31082063c656",
              "IPY_MODEL_66edf2aa4b4640988a8e436dac51e6f0"
            ],
            "layout": "IPY_MODEL_64e18858210f4732ab627a3dccd0f8b7"
          }
        },
        "50e0922975454459b5083d2e833cfd56": {
          "model_module": "@jupyter-widgets/controls",
          "model_name": "HTMLModel",
          "model_module_version": "1.5.0",
          "state": {
            "_dom_classes": [],
            "_model_module": "@jupyter-widgets/controls",
            "_model_module_version": "1.5.0",
            "_model_name": "HTMLModel",
            "_view_count": null,
            "_view_module": "@jupyter-widgets/controls",
            "_view_module_version": "1.5.0",
            "_view_name": "HTMLView",
            "description": "",
            "description_tooltip": null,
            "layout": "IPY_MODEL_7da21a9297cd4fc98181bf85a2792ec6",
            "placeholder": "​",
            "style": "IPY_MODEL_747834930d47433ba8c19d17e3716308",
            "value": "Downloading: 100%"
          }
        },
        "837636c51dc447fd913b31082063c656": {
          "model_module": "@jupyter-widgets/controls",
          "model_name": "FloatProgressModel",
          "model_module_version": "1.5.0",
          "state": {
            "_dom_classes": [],
            "_model_module": "@jupyter-widgets/controls",
            "_model_module_version": "1.5.0",
            "_model_name": "FloatProgressModel",
            "_view_count": null,
            "_view_module": "@jupyter-widgets/controls",
            "_view_module_version": "1.5.0",
            "_view_name": "ProgressView",
            "bar_style": "success",
            "description": "",
            "description_tooltip": null,
            "layout": "IPY_MODEL_e2c10e90cb6049a89197affa13feb701",
            "max": 1262106353,
            "min": 0,
            "orientation": "horizontal",
            "style": "IPY_MODEL_be0c81398fa04ce3a368c854bc8177c1",
            "value": 1262106353
          }
        },
        "66edf2aa4b4640988a8e436dac51e6f0": {
          "model_module": "@jupyter-widgets/controls",
          "model_name": "HTMLModel",
          "model_module_version": "1.5.0",
          "state": {
            "_dom_classes": [],
            "_model_module": "@jupyter-widgets/controls",
            "_model_module_version": "1.5.0",
            "_model_name": "HTMLModel",
            "_view_count": null,
            "_view_module": "@jupyter-widgets/controls",
            "_view_module_version": "1.5.0",
            "_view_name": "HTMLView",
            "description": "",
            "description_tooltip": null,
            "layout": "IPY_MODEL_d3b45beee9b845dca19b99289ef0d345",
            "placeholder": "​",
            "style": "IPY_MODEL_d9b325bf06a6447eb5d2656f13cde96e",
            "value": " 1.18G/1.18G [01:38&lt;00:00, 18.4MB/s]"
          }
        },
        "64e18858210f4732ab627a3dccd0f8b7": {
          "model_module": "@jupyter-widgets/base",
          "model_name": "LayoutModel",
          "model_module_version": "1.2.0",
          "state": {
            "_model_module": "@jupyter-widgets/base",
            "_model_module_version": "1.2.0",
            "_model_name": "LayoutModel",
            "_view_count": null,
            "_view_module": "@jupyter-widgets/base",
            "_view_module_version": "1.2.0",
            "_view_name": "LayoutView",
            "align_content": null,
            "align_items": null,
            "align_self": null,
            "border": null,
            "bottom": null,
            "display": null,
            "flex": null,
            "flex_flow": null,
            "grid_area": null,
            "grid_auto_columns": null,
            "grid_auto_flow": null,
            "grid_auto_rows": null,
            "grid_column": null,
            "grid_gap": null,
            "grid_row": null,
            "grid_template_areas": null,
            "grid_template_columns": null,
            "grid_template_rows": null,
            "height": null,
            "justify_content": null,
            "justify_items": null,
            "left": null,
            "margin": null,
            "max_height": null,
            "max_width": null,
            "min_height": null,
            "min_width": null,
            "object_fit": null,
            "object_position": null,
            "order": null,
            "overflow": null,
            "overflow_x": null,
            "overflow_y": null,
            "padding": null,
            "right": null,
            "top": null,
            "visibility": null,
            "width": null
          }
        },
        "7da21a9297cd4fc98181bf85a2792ec6": {
          "model_module": "@jupyter-widgets/base",
          "model_name": "LayoutModel",
          "model_module_version": "1.2.0",
          "state": {
            "_model_module": "@jupyter-widgets/base",
            "_model_module_version": "1.2.0",
            "_model_name": "LayoutModel",
            "_view_count": null,
            "_view_module": "@jupyter-widgets/base",
            "_view_module_version": "1.2.0",
            "_view_name": "LayoutView",
            "align_content": null,
            "align_items": null,
            "align_self": null,
            "border": null,
            "bottom": null,
            "display": null,
            "flex": null,
            "flex_flow": null,
            "grid_area": null,
            "grid_auto_columns": null,
            "grid_auto_flow": null,
            "grid_auto_rows": null,
            "grid_column": null,
            "grid_gap": null,
            "grid_row": null,
            "grid_template_areas": null,
            "grid_template_columns": null,
            "grid_template_rows": null,
            "height": null,
            "justify_content": null,
            "justify_items": null,
            "left": null,
            "margin": null,
            "max_height": null,
            "max_width": null,
            "min_height": null,
            "min_width": null,
            "object_fit": null,
            "object_position": null,
            "order": null,
            "overflow": null,
            "overflow_x": null,
            "overflow_y": null,
            "padding": null,
            "right": null,
            "top": null,
            "visibility": null,
            "width": null
          }
        },
        "747834930d47433ba8c19d17e3716308": {
          "model_module": "@jupyter-widgets/controls",
          "model_name": "DescriptionStyleModel",
          "model_module_version": "1.5.0",
          "state": {
            "_model_module": "@jupyter-widgets/controls",
            "_model_module_version": "1.5.0",
            "_model_name": "DescriptionStyleModel",
            "_view_count": null,
            "_view_module": "@jupyter-widgets/base",
            "_view_module_version": "1.2.0",
            "_view_name": "StyleView",
            "description_width": ""
          }
        },
        "e2c10e90cb6049a89197affa13feb701": {
          "model_module": "@jupyter-widgets/base",
          "model_name": "LayoutModel",
          "model_module_version": "1.2.0",
          "state": {
            "_model_module": "@jupyter-widgets/base",
            "_model_module_version": "1.2.0",
            "_model_name": "LayoutModel",
            "_view_count": null,
            "_view_module": "@jupyter-widgets/base",
            "_view_module_version": "1.2.0",
            "_view_name": "LayoutView",
            "align_content": null,
            "align_items": null,
            "align_self": null,
            "border": null,
            "bottom": null,
            "display": null,
            "flex": null,
            "flex_flow": null,
            "grid_area": null,
            "grid_auto_columns": null,
            "grid_auto_flow": null,
            "grid_auto_rows": null,
            "grid_column": null,
            "grid_gap": null,
            "grid_row": null,
            "grid_template_areas": null,
            "grid_template_columns": null,
            "grid_template_rows": null,
            "height": null,
            "justify_content": null,
            "justify_items": null,
            "left": null,
            "margin": null,
            "max_height": null,
            "max_width": null,
            "min_height": null,
            "min_width": null,
            "object_fit": null,
            "object_position": null,
            "order": null,
            "overflow": null,
            "overflow_x": null,
            "overflow_y": null,
            "padding": null,
            "right": null,
            "top": null,
            "visibility": null,
            "width": null
          }
        },
        "be0c81398fa04ce3a368c854bc8177c1": {
          "model_module": "@jupyter-widgets/controls",
          "model_name": "ProgressStyleModel",
          "model_module_version": "1.5.0",
          "state": {
            "_model_module": "@jupyter-widgets/controls",
            "_model_module_version": "1.5.0",
            "_model_name": "ProgressStyleModel",
            "_view_count": null,
            "_view_module": "@jupyter-widgets/base",
            "_view_module_version": "1.2.0",
            "_view_name": "StyleView",
            "bar_color": null,
            "description_width": ""
          }
        },
        "d3b45beee9b845dca19b99289ef0d345": {
          "model_module": "@jupyter-widgets/base",
          "model_name": "LayoutModel",
          "model_module_version": "1.2.0",
          "state": {
            "_model_module": "@jupyter-widgets/base",
            "_model_module_version": "1.2.0",
            "_model_name": "LayoutModel",
            "_view_count": null,
            "_view_module": "@jupyter-widgets/base",
            "_view_module_version": "1.2.0",
            "_view_name": "LayoutView",
            "align_content": null,
            "align_items": null,
            "align_self": null,
            "border": null,
            "bottom": null,
            "display": null,
            "flex": null,
            "flex_flow": null,
            "grid_area": null,
            "grid_auto_columns": null,
            "grid_auto_flow": null,
            "grid_auto_rows": null,
            "grid_column": null,
            "grid_gap": null,
            "grid_row": null,
            "grid_template_areas": null,
            "grid_template_columns": null,
            "grid_template_rows": null,
            "height": null,
            "justify_content": null,
            "justify_items": null,
            "left": null,
            "margin": null,
            "max_height": null,
            "max_width": null,
            "min_height": null,
            "min_width": null,
            "object_fit": null,
            "object_position": null,
            "order": null,
            "overflow": null,
            "overflow_x": null,
            "overflow_y": null,
            "padding": null,
            "right": null,
            "top": null,
            "visibility": null,
            "width": null
          }
        },
        "d9b325bf06a6447eb5d2656f13cde96e": {
          "model_module": "@jupyter-widgets/controls",
          "model_name": "DescriptionStyleModel",
          "model_module_version": "1.5.0",
          "state": {
            "_model_module": "@jupyter-widgets/controls",
            "_model_module_version": "1.5.0",
            "_model_name": "DescriptionStyleModel",
            "_view_count": null,
            "_view_module": "@jupyter-widgets/base",
            "_view_module_version": "1.2.0",
            "_view_name": "StyleView",
            "description_width": ""
          }
        },
        "4217d7997c7f444485f43bbf931291e0": {
          "model_module": "@jupyter-widgets/controls",
          "model_name": "HBoxModel",
          "model_module_version": "1.5.0",
          "state": {
            "_dom_classes": [],
            "_model_module": "@jupyter-widgets/controls",
            "_model_module_version": "1.5.0",
            "_model_name": "HBoxModel",
            "_view_count": null,
            "_view_module": "@jupyter-widgets/controls",
            "_view_module_version": "1.5.0",
            "_view_name": "HBoxView",
            "box_style": "",
            "children": [
              "IPY_MODEL_9327d1b439c04ec691780ef35f438590",
              "IPY_MODEL_8a276790ae2347f09b1bc7ee40d0d5ec",
              "IPY_MODEL_f725033d32e941d1bfd270a185865f52"
            ],
            "layout": "IPY_MODEL_09b137ea9cd64f26832ffb2fda416c6f"
          }
        },
        "9327d1b439c04ec691780ef35f438590": {
          "model_module": "@jupyter-widgets/controls",
          "model_name": "HTMLModel",
          "model_module_version": "1.5.0",
          "state": {
            "_dom_classes": [],
            "_model_module": "@jupyter-widgets/controls",
            "_model_module_version": "1.5.0",
            "_model_name": "HTMLModel",
            "_view_count": null,
            "_view_module": "@jupyter-widgets/controls",
            "_view_module_version": "1.5.0",
            "_view_name": "HTMLView",
            "description": "",
            "description_tooltip": null,
            "layout": "IPY_MODEL_fee231c81012426cabb7aedd7ee55f45",
            "placeholder": "​",
            "style": "IPY_MODEL_b65030cb92af44a2932b5a76147388c2",
            "value": "Downloading: 100%"
          }
        },
        "8a276790ae2347f09b1bc7ee40d0d5ec": {
          "model_module": "@jupyter-widgets/controls",
          "model_name": "FloatProgressModel",
          "model_module_version": "1.5.0",
          "state": {
            "_dom_classes": [],
            "_model_module": "@jupyter-widgets/controls",
            "_model_module_version": "1.5.0",
            "_model_name": "FloatProgressModel",
            "_view_count": null,
            "_view_module": "@jupyter-widgets/controls",
            "_view_module_version": "1.5.0",
            "_view_name": "ProgressView",
            "bar_style": "success",
            "description": "",
            "description_tooltip": null,
            "layout": "IPY_MODEL_09f230df3d154f78830caa019e11621f",
            "max": 211,
            "min": 0,
            "orientation": "horizontal",
            "style": "IPY_MODEL_068bfff0236b41e1986793c02f677114",
            "value": 211
          }
        },
        "f725033d32e941d1bfd270a185865f52": {
          "model_module": "@jupyter-widgets/controls",
          "model_name": "HTMLModel",
          "model_module_version": "1.5.0",
          "state": {
            "_dom_classes": [],
            "_model_module": "@jupyter-widgets/controls",
            "_model_module_version": "1.5.0",
            "_model_name": "HTMLModel",
            "_view_count": null,
            "_view_module": "@jupyter-widgets/controls",
            "_view_module_version": "1.5.0",
            "_view_name": "HTMLView",
            "description": "",
            "description_tooltip": null,
            "layout": "IPY_MODEL_f4da508ac435484ebad30b89f910b130",
            "placeholder": "​",
            "style": "IPY_MODEL_e306b270f51b4cf38a1d5ac382dff5bc",
            "value": " 211/211 [00:00&lt;00:00, 4.50kB/s]"
          }
        },
        "09b137ea9cd64f26832ffb2fda416c6f": {
          "model_module": "@jupyter-widgets/base",
          "model_name": "LayoutModel",
          "model_module_version": "1.2.0",
          "state": {
            "_model_module": "@jupyter-widgets/base",
            "_model_module_version": "1.2.0",
            "_model_name": "LayoutModel",
            "_view_count": null,
            "_view_module": "@jupyter-widgets/base",
            "_view_module_version": "1.2.0",
            "_view_name": "LayoutView",
            "align_content": null,
            "align_items": null,
            "align_self": null,
            "border": null,
            "bottom": null,
            "display": null,
            "flex": null,
            "flex_flow": null,
            "grid_area": null,
            "grid_auto_columns": null,
            "grid_auto_flow": null,
            "grid_auto_rows": null,
            "grid_column": null,
            "grid_gap": null,
            "grid_row": null,
            "grid_template_areas": null,
            "grid_template_columns": null,
            "grid_template_rows": null,
            "height": null,
            "justify_content": null,
            "justify_items": null,
            "left": null,
            "margin": null,
            "max_height": null,
            "max_width": null,
            "min_height": null,
            "min_width": null,
            "object_fit": null,
            "object_position": null,
            "order": null,
            "overflow": null,
            "overflow_x": null,
            "overflow_y": null,
            "padding": null,
            "right": null,
            "top": null,
            "visibility": null,
            "width": null
          }
        },
        "fee231c81012426cabb7aedd7ee55f45": {
          "model_module": "@jupyter-widgets/base",
          "model_name": "LayoutModel",
          "model_module_version": "1.2.0",
          "state": {
            "_model_module": "@jupyter-widgets/base",
            "_model_module_version": "1.2.0",
            "_model_name": "LayoutModel",
            "_view_count": null,
            "_view_module": "@jupyter-widgets/base",
            "_view_module_version": "1.2.0",
            "_view_name": "LayoutView",
            "align_content": null,
            "align_items": null,
            "align_self": null,
            "border": null,
            "bottom": null,
            "display": null,
            "flex": null,
            "flex_flow": null,
            "grid_area": null,
            "grid_auto_columns": null,
            "grid_auto_flow": null,
            "grid_auto_rows": null,
            "grid_column": null,
            "grid_gap": null,
            "grid_row": null,
            "grid_template_areas": null,
            "grid_template_columns": null,
            "grid_template_rows": null,
            "height": null,
            "justify_content": null,
            "justify_items": null,
            "left": null,
            "margin": null,
            "max_height": null,
            "max_width": null,
            "min_height": null,
            "min_width": null,
            "object_fit": null,
            "object_position": null,
            "order": null,
            "overflow": null,
            "overflow_x": null,
            "overflow_y": null,
            "padding": null,
            "right": null,
            "top": null,
            "visibility": null,
            "width": null
          }
        },
        "b65030cb92af44a2932b5a76147388c2": {
          "model_module": "@jupyter-widgets/controls",
          "model_name": "DescriptionStyleModel",
          "model_module_version": "1.5.0",
          "state": {
            "_model_module": "@jupyter-widgets/controls",
            "_model_module_version": "1.5.0",
            "_model_name": "DescriptionStyleModel",
            "_view_count": null,
            "_view_module": "@jupyter-widgets/base",
            "_view_module_version": "1.2.0",
            "_view_name": "StyleView",
            "description_width": ""
          }
        },
        "09f230df3d154f78830caa019e11621f": {
          "model_module": "@jupyter-widgets/base",
          "model_name": "LayoutModel",
          "model_module_version": "1.2.0",
          "state": {
            "_model_module": "@jupyter-widgets/base",
            "_model_module_version": "1.2.0",
            "_model_name": "LayoutModel",
            "_view_count": null,
            "_view_module": "@jupyter-widgets/base",
            "_view_module_version": "1.2.0",
            "_view_name": "LayoutView",
            "align_content": null,
            "align_items": null,
            "align_self": null,
            "border": null,
            "bottom": null,
            "display": null,
            "flex": null,
            "flex_flow": null,
            "grid_area": null,
            "grid_auto_columns": null,
            "grid_auto_flow": null,
            "grid_auto_rows": null,
            "grid_column": null,
            "grid_gap": null,
            "grid_row": null,
            "grid_template_areas": null,
            "grid_template_columns": null,
            "grid_template_rows": null,
            "height": null,
            "justify_content": null,
            "justify_items": null,
            "left": null,
            "margin": null,
            "max_height": null,
            "max_width": null,
            "min_height": null,
            "min_width": null,
            "object_fit": null,
            "object_position": null,
            "order": null,
            "overflow": null,
            "overflow_x": null,
            "overflow_y": null,
            "padding": null,
            "right": null,
            "top": null,
            "visibility": null,
            "width": null
          }
        },
        "068bfff0236b41e1986793c02f677114": {
          "model_module": "@jupyter-widgets/controls",
          "model_name": "ProgressStyleModel",
          "model_module_version": "1.5.0",
          "state": {
            "_model_module": "@jupyter-widgets/controls",
            "_model_module_version": "1.5.0",
            "_model_name": "ProgressStyleModel",
            "_view_count": null,
            "_view_module": "@jupyter-widgets/base",
            "_view_module_version": "1.2.0",
            "_view_name": "StyleView",
            "bar_color": null,
            "description_width": ""
          }
        },
        "f4da508ac435484ebad30b89f910b130": {
          "model_module": "@jupyter-widgets/base",
          "model_name": "LayoutModel",
          "model_module_version": "1.2.0",
          "state": {
            "_model_module": "@jupyter-widgets/base",
            "_model_module_version": "1.2.0",
            "_model_name": "LayoutModel",
            "_view_count": null,
            "_view_module": "@jupyter-widgets/base",
            "_view_module_version": "1.2.0",
            "_view_name": "LayoutView",
            "align_content": null,
            "align_items": null,
            "align_self": null,
            "border": null,
            "bottom": null,
            "display": null,
            "flex": null,
            "flex_flow": null,
            "grid_area": null,
            "grid_auto_columns": null,
            "grid_auto_flow": null,
            "grid_auto_rows": null,
            "grid_column": null,
            "grid_gap": null,
            "grid_row": null,
            "grid_template_areas": null,
            "grid_template_columns": null,
            "grid_template_rows": null,
            "height": null,
            "justify_content": null,
            "justify_items": null,
            "left": null,
            "margin": null,
            "max_height": null,
            "max_width": null,
            "min_height": null,
            "min_width": null,
            "object_fit": null,
            "object_position": null,
            "order": null,
            "overflow": null,
            "overflow_x": null,
            "overflow_y": null,
            "padding": null,
            "right": null,
            "top": null,
            "visibility": null,
            "width": null
          }
        },
        "e306b270f51b4cf38a1d5ac382dff5bc": {
          "model_module": "@jupyter-widgets/controls",
          "model_name": "DescriptionStyleModel",
          "model_module_version": "1.5.0",
          "state": {
            "_model_module": "@jupyter-widgets/controls",
            "_model_module_version": "1.5.0",
            "_model_name": "DescriptionStyleModel",
            "_view_count": null,
            "_view_module": "@jupyter-widgets/base",
            "_view_module_version": "1.2.0",
            "_view_name": "StyleView",
            "description_width": ""
          }
        },
        "ada0f246025d41c68e427b8ca261b7e8": {
          "model_module": "@jupyter-widgets/controls",
          "model_name": "HBoxModel",
          "model_module_version": "1.5.0",
          "state": {
            "_dom_classes": [],
            "_model_module": "@jupyter-widgets/controls",
            "_model_module_version": "1.5.0",
            "_model_name": "HBoxModel",
            "_view_count": null,
            "_view_module": "@jupyter-widgets/controls",
            "_view_module_version": "1.5.0",
            "_view_name": "HBoxView",
            "box_style": "",
            "children": [
              "IPY_MODEL_605f26eb3f92458489c6be14250ddb4c",
              "IPY_MODEL_2c02f8f1352e42d58d8b694de2a43ba3",
              "IPY_MODEL_dad06490576b45d0a3d523fec4bf1428"
            ],
            "layout": "IPY_MODEL_b055d4f040e24bc7be5999440d0a8f2f"
          }
        },
        "605f26eb3f92458489c6be14250ddb4c": {
          "model_module": "@jupyter-widgets/controls",
          "model_name": "HTMLModel",
          "model_module_version": "1.5.0",
          "state": {
            "_dom_classes": [],
            "_model_module": "@jupyter-widgets/controls",
            "_model_module_version": "1.5.0",
            "_model_name": "HTMLModel",
            "_view_count": null,
            "_view_module": "@jupyter-widgets/controls",
            "_view_module_version": "1.5.0",
            "_view_name": "HTMLView",
            "description": "",
            "description_tooltip": null,
            "layout": "IPY_MODEL_3f6272349b534e7d86c8320fb5b61bd2",
            "placeholder": "​",
            "style": "IPY_MODEL_e3c4e3caaf8a4e80b9938aa7a1ab3dbb",
            "value": "Downloading: 100%"
          }
        },
        "2c02f8f1352e42d58d8b694de2a43ba3": {
          "model_module": "@jupyter-widgets/controls",
          "model_name": "FloatProgressModel",
          "model_module_version": "1.5.0",
          "state": {
            "_dom_classes": [],
            "_model_module": "@jupyter-widgets/controls",
            "_model_module_version": "1.5.0",
            "_model_name": "FloatProgressModel",
            "_view_count": null,
            "_view_module": "@jupyter-widgets/controls",
            "_view_module_version": "1.5.0",
            "_view_name": "ProgressView",
            "bar_style": "success",
            "description": "",
            "description_tooltip": null,
            "layout": "IPY_MODEL_2de2adfc550f4fe18c5774e4ba9dd928",
            "max": 421,
            "min": 0,
            "orientation": "horizontal",
            "style": "IPY_MODEL_189d4298b1cd49ad8fe266a47b6d7859",
            "value": 421
          }
        },
        "dad06490576b45d0a3d523fec4bf1428": {
          "model_module": "@jupyter-widgets/controls",
          "model_name": "HTMLModel",
          "model_module_version": "1.5.0",
          "state": {
            "_dom_classes": [],
            "_model_module": "@jupyter-widgets/controls",
            "_model_module_version": "1.5.0",
            "_model_name": "HTMLModel",
            "_view_count": null,
            "_view_module": "@jupyter-widgets/controls",
            "_view_module_version": "1.5.0",
            "_view_name": "HTMLView",
            "description": "",
            "description_tooltip": null,
            "layout": "IPY_MODEL_46d76f7145e04512926167c3b5c7392c",
            "placeholder": "​",
            "style": "IPY_MODEL_269e2759365d459484f1f4c7c8a32d46",
            "value": " 421/421 [00:00&lt;00:00, 13.2kB/s]"
          }
        },
        "b055d4f040e24bc7be5999440d0a8f2f": {
          "model_module": "@jupyter-widgets/base",
          "model_name": "LayoutModel",
          "model_module_version": "1.2.0",
          "state": {
            "_model_module": "@jupyter-widgets/base",
            "_model_module_version": "1.2.0",
            "_model_name": "LayoutModel",
            "_view_count": null,
            "_view_module": "@jupyter-widgets/base",
            "_view_module_version": "1.2.0",
            "_view_name": "LayoutView",
            "align_content": null,
            "align_items": null,
            "align_self": null,
            "border": null,
            "bottom": null,
            "display": null,
            "flex": null,
            "flex_flow": null,
            "grid_area": null,
            "grid_auto_columns": null,
            "grid_auto_flow": null,
            "grid_auto_rows": null,
            "grid_column": null,
            "grid_gap": null,
            "grid_row": null,
            "grid_template_areas": null,
            "grid_template_columns": null,
            "grid_template_rows": null,
            "height": null,
            "justify_content": null,
            "justify_items": null,
            "left": null,
            "margin": null,
            "max_height": null,
            "max_width": null,
            "min_height": null,
            "min_width": null,
            "object_fit": null,
            "object_position": null,
            "order": null,
            "overflow": null,
            "overflow_x": null,
            "overflow_y": null,
            "padding": null,
            "right": null,
            "top": null,
            "visibility": null,
            "width": null
          }
        },
        "3f6272349b534e7d86c8320fb5b61bd2": {
          "model_module": "@jupyter-widgets/base",
          "model_name": "LayoutModel",
          "model_module_version": "1.2.0",
          "state": {
            "_model_module": "@jupyter-widgets/base",
            "_model_module_version": "1.2.0",
            "_model_name": "LayoutModel",
            "_view_count": null,
            "_view_module": "@jupyter-widgets/base",
            "_view_module_version": "1.2.0",
            "_view_name": "LayoutView",
            "align_content": null,
            "align_items": null,
            "align_self": null,
            "border": null,
            "bottom": null,
            "display": null,
            "flex": null,
            "flex_flow": null,
            "grid_area": null,
            "grid_auto_columns": null,
            "grid_auto_flow": null,
            "grid_auto_rows": null,
            "grid_column": null,
            "grid_gap": null,
            "grid_row": null,
            "grid_template_areas": null,
            "grid_template_columns": null,
            "grid_template_rows": null,
            "height": null,
            "justify_content": null,
            "justify_items": null,
            "left": null,
            "margin": null,
            "max_height": null,
            "max_width": null,
            "min_height": null,
            "min_width": null,
            "object_fit": null,
            "object_position": null,
            "order": null,
            "overflow": null,
            "overflow_x": null,
            "overflow_y": null,
            "padding": null,
            "right": null,
            "top": null,
            "visibility": null,
            "width": null
          }
        },
        "e3c4e3caaf8a4e80b9938aa7a1ab3dbb": {
          "model_module": "@jupyter-widgets/controls",
          "model_name": "DescriptionStyleModel",
          "model_module_version": "1.5.0",
          "state": {
            "_model_module": "@jupyter-widgets/controls",
            "_model_module_version": "1.5.0",
            "_model_name": "DescriptionStyleModel",
            "_view_count": null,
            "_view_module": "@jupyter-widgets/base",
            "_view_module_version": "1.2.0",
            "_view_name": "StyleView",
            "description_width": ""
          }
        },
        "2de2adfc550f4fe18c5774e4ba9dd928": {
          "model_module": "@jupyter-widgets/base",
          "model_name": "LayoutModel",
          "model_module_version": "1.2.0",
          "state": {
            "_model_module": "@jupyter-widgets/base",
            "_model_module_version": "1.2.0",
            "_model_name": "LayoutModel",
            "_view_count": null,
            "_view_module": "@jupyter-widgets/base",
            "_view_module_version": "1.2.0",
            "_view_name": "LayoutView",
            "align_content": null,
            "align_items": null,
            "align_self": null,
            "border": null,
            "bottom": null,
            "display": null,
            "flex": null,
            "flex_flow": null,
            "grid_area": null,
            "grid_auto_columns": null,
            "grid_auto_flow": null,
            "grid_auto_rows": null,
            "grid_column": null,
            "grid_gap": null,
            "grid_row": null,
            "grid_template_areas": null,
            "grid_template_columns": null,
            "grid_template_rows": null,
            "height": null,
            "justify_content": null,
            "justify_items": null,
            "left": null,
            "margin": null,
            "max_height": null,
            "max_width": null,
            "min_height": null,
            "min_width": null,
            "object_fit": null,
            "object_position": null,
            "order": null,
            "overflow": null,
            "overflow_x": null,
            "overflow_y": null,
            "padding": null,
            "right": null,
            "top": null,
            "visibility": null,
            "width": null
          }
        },
        "189d4298b1cd49ad8fe266a47b6d7859": {
          "model_module": "@jupyter-widgets/controls",
          "model_name": "ProgressStyleModel",
          "model_module_version": "1.5.0",
          "state": {
            "_model_module": "@jupyter-widgets/controls",
            "_model_module_version": "1.5.0",
            "_model_name": "ProgressStyleModel",
            "_view_count": null,
            "_view_module": "@jupyter-widgets/base",
            "_view_module_version": "1.2.0",
            "_view_name": "StyleView",
            "bar_color": null,
            "description_width": ""
          }
        },
        "46d76f7145e04512926167c3b5c7392c": {
          "model_module": "@jupyter-widgets/base",
          "model_name": "LayoutModel",
          "model_module_version": "1.2.0",
          "state": {
            "_model_module": "@jupyter-widgets/base",
            "_model_module_version": "1.2.0",
            "_model_name": "LayoutModel",
            "_view_count": null,
            "_view_module": "@jupyter-widgets/base",
            "_view_module_version": "1.2.0",
            "_view_name": "LayoutView",
            "align_content": null,
            "align_items": null,
            "align_self": null,
            "border": null,
            "bottom": null,
            "display": null,
            "flex": null,
            "flex_flow": null,
            "grid_area": null,
            "grid_auto_columns": null,
            "grid_auto_flow": null,
            "grid_auto_rows": null,
            "grid_column": null,
            "grid_gap": null,
            "grid_row": null,
            "grid_template_areas": null,
            "grid_template_columns": null,
            "grid_template_rows": null,
            "height": null,
            "justify_content": null,
            "justify_items": null,
            "left": null,
            "margin": null,
            "max_height": null,
            "max_width": null,
            "min_height": null,
            "min_width": null,
            "object_fit": null,
            "object_position": null,
            "order": null,
            "overflow": null,
            "overflow_x": null,
            "overflow_y": null,
            "padding": null,
            "right": null,
            "top": null,
            "visibility": null,
            "width": null
          }
        },
        "269e2759365d459484f1f4c7c8a32d46": {
          "model_module": "@jupyter-widgets/controls",
          "model_name": "DescriptionStyleModel",
          "model_module_version": "1.5.0",
          "state": {
            "_model_module": "@jupyter-widgets/controls",
            "_model_module_version": "1.5.0",
            "_model_name": "DescriptionStyleModel",
            "_view_count": null,
            "_view_module": "@jupyter-widgets/base",
            "_view_module_version": "1.2.0",
            "_view_name": "StyleView",
            "description_width": ""
          }
        },
        "598f6404d1be412aa9028c962c1d93a4": {
          "model_module": "@jupyter-widgets/controls",
          "model_name": "HBoxModel",
          "model_module_version": "1.5.0",
          "state": {
            "_dom_classes": [],
            "_model_module": "@jupyter-widgets/controls",
            "_model_module_version": "1.5.0",
            "_model_name": "HBoxModel",
            "_view_count": null,
            "_view_module": "@jupyter-widgets/controls",
            "_view_module_version": "1.5.0",
            "_view_name": "HBoxView",
            "box_style": "",
            "children": [
              "IPY_MODEL_50575ffff7c3400db679607d620f4646",
              "IPY_MODEL_116efa0a2b5c4612914ab0b2938de32f",
              "IPY_MODEL_f18d63aaca44480ba3536a70fc01f3ed"
            ],
            "layout": "IPY_MODEL_84bd64b124334021ad1fd6f60c4f8b91"
          }
        },
        "50575ffff7c3400db679607d620f4646": {
          "model_module": "@jupyter-widgets/controls",
          "model_name": "HTMLModel",
          "model_module_version": "1.5.0",
          "state": {
            "_dom_classes": [],
            "_model_module": "@jupyter-widgets/controls",
            "_model_module_version": "1.5.0",
            "_model_name": "HTMLModel",
            "_view_count": null,
            "_view_module": "@jupyter-widgets/controls",
            "_view_module_version": "1.5.0",
            "_view_name": "HTMLView",
            "description": "",
            "description_tooltip": null,
            "layout": "IPY_MODEL_8a3456641e554fc39d48f7755161cfc7",
            "placeholder": "​",
            "style": "IPY_MODEL_716bfb0e1d5b4543826e4ef1c7496acd",
            "value": "Downloading: 100%"
          }
        },
        "116efa0a2b5c4612914ab0b2938de32f": {
          "model_module": "@jupyter-widgets/controls",
          "model_name": "FloatProgressModel",
          "model_module_version": "1.5.0",
          "state": {
            "_dom_classes": [],
            "_model_module": "@jupyter-widgets/controls",
            "_model_module_version": "1.5.0",
            "_model_name": "FloatProgressModel",
            "_view_count": null,
            "_view_module": "@jupyter-widgets/controls",
            "_view_module_version": "1.5.0",
            "_view_name": "ProgressView",
            "bar_style": "success",
            "description": "",
            "description_tooltip": null,
            "layout": "IPY_MODEL_27a792a724974346a1c04acd0ee96d52",
            "max": 85,
            "min": 0,
            "orientation": "horizontal",
            "style": "IPY_MODEL_cfbac69df5c1424fa9f467edec217489",
            "value": 85
          }
        },
        "f18d63aaca44480ba3536a70fc01f3ed": {
          "model_module": "@jupyter-widgets/controls",
          "model_name": "HTMLModel",
          "model_module_version": "1.5.0",
          "state": {
            "_dom_classes": [],
            "_model_module": "@jupyter-widgets/controls",
            "_model_module_version": "1.5.0",
            "_model_name": "HTMLModel",
            "_view_count": null,
            "_view_module": "@jupyter-widgets/controls",
            "_view_module_version": "1.5.0",
            "_view_name": "HTMLView",
            "description": "",
            "description_tooltip": null,
            "layout": "IPY_MODEL_a707811baf3d40ffbed91e2037b08502",
            "placeholder": "​",
            "style": "IPY_MODEL_00efaf7940d746f1aed09c4b696ad984",
            "value": " 85.0/85.0 [00:00&lt;00:00, 2.60kB/s]"
          }
        },
        "84bd64b124334021ad1fd6f60c4f8b91": {
          "model_module": "@jupyter-widgets/base",
          "model_name": "LayoutModel",
          "model_module_version": "1.2.0",
          "state": {
            "_model_module": "@jupyter-widgets/base",
            "_model_module_version": "1.2.0",
            "_model_name": "LayoutModel",
            "_view_count": null,
            "_view_module": "@jupyter-widgets/base",
            "_view_module_version": "1.2.0",
            "_view_name": "LayoutView",
            "align_content": null,
            "align_items": null,
            "align_self": null,
            "border": null,
            "bottom": null,
            "display": null,
            "flex": null,
            "flex_flow": null,
            "grid_area": null,
            "grid_auto_columns": null,
            "grid_auto_flow": null,
            "grid_auto_rows": null,
            "grid_column": null,
            "grid_gap": null,
            "grid_row": null,
            "grid_template_areas": null,
            "grid_template_columns": null,
            "grid_template_rows": null,
            "height": null,
            "justify_content": null,
            "justify_items": null,
            "left": null,
            "margin": null,
            "max_height": null,
            "max_width": null,
            "min_height": null,
            "min_width": null,
            "object_fit": null,
            "object_position": null,
            "order": null,
            "overflow": null,
            "overflow_x": null,
            "overflow_y": null,
            "padding": null,
            "right": null,
            "top": null,
            "visibility": null,
            "width": null
          }
        },
        "8a3456641e554fc39d48f7755161cfc7": {
          "model_module": "@jupyter-widgets/base",
          "model_name": "LayoutModel",
          "model_module_version": "1.2.0",
          "state": {
            "_model_module": "@jupyter-widgets/base",
            "_model_module_version": "1.2.0",
            "_model_name": "LayoutModel",
            "_view_count": null,
            "_view_module": "@jupyter-widgets/base",
            "_view_module_version": "1.2.0",
            "_view_name": "LayoutView",
            "align_content": null,
            "align_items": null,
            "align_self": null,
            "border": null,
            "bottom": null,
            "display": null,
            "flex": null,
            "flex_flow": null,
            "grid_area": null,
            "grid_auto_columns": null,
            "grid_auto_flow": null,
            "grid_auto_rows": null,
            "grid_column": null,
            "grid_gap": null,
            "grid_row": null,
            "grid_template_areas": null,
            "grid_template_columns": null,
            "grid_template_rows": null,
            "height": null,
            "justify_content": null,
            "justify_items": null,
            "left": null,
            "margin": null,
            "max_height": null,
            "max_width": null,
            "min_height": null,
            "min_width": null,
            "object_fit": null,
            "object_position": null,
            "order": null,
            "overflow": null,
            "overflow_x": null,
            "overflow_y": null,
            "padding": null,
            "right": null,
            "top": null,
            "visibility": null,
            "width": null
          }
        },
        "716bfb0e1d5b4543826e4ef1c7496acd": {
          "model_module": "@jupyter-widgets/controls",
          "model_name": "DescriptionStyleModel",
          "model_module_version": "1.5.0",
          "state": {
            "_model_module": "@jupyter-widgets/controls",
            "_model_module_version": "1.5.0",
            "_model_name": "DescriptionStyleModel",
            "_view_count": null,
            "_view_module": "@jupyter-widgets/base",
            "_view_module_version": "1.2.0",
            "_view_name": "StyleView",
            "description_width": ""
          }
        },
        "27a792a724974346a1c04acd0ee96d52": {
          "model_module": "@jupyter-widgets/base",
          "model_name": "LayoutModel",
          "model_module_version": "1.2.0",
          "state": {
            "_model_module": "@jupyter-widgets/base",
            "_model_module_version": "1.2.0",
            "_model_name": "LayoutModel",
            "_view_count": null,
            "_view_module": "@jupyter-widgets/base",
            "_view_module_version": "1.2.0",
            "_view_name": "LayoutView",
            "align_content": null,
            "align_items": null,
            "align_self": null,
            "border": null,
            "bottom": null,
            "display": null,
            "flex": null,
            "flex_flow": null,
            "grid_area": null,
            "grid_auto_columns": null,
            "grid_auto_flow": null,
            "grid_auto_rows": null,
            "grid_column": null,
            "grid_gap": null,
            "grid_row": null,
            "grid_template_areas": null,
            "grid_template_columns": null,
            "grid_template_rows": null,
            "height": null,
            "justify_content": null,
            "justify_items": null,
            "left": null,
            "margin": null,
            "max_height": null,
            "max_width": null,
            "min_height": null,
            "min_width": null,
            "object_fit": null,
            "object_position": null,
            "order": null,
            "overflow": null,
            "overflow_x": null,
            "overflow_y": null,
            "padding": null,
            "right": null,
            "top": null,
            "visibility": null,
            "width": null
          }
        },
        "cfbac69df5c1424fa9f467edec217489": {
          "model_module": "@jupyter-widgets/controls",
          "model_name": "ProgressStyleModel",
          "model_module_version": "1.5.0",
          "state": {
            "_model_module": "@jupyter-widgets/controls",
            "_model_module_version": "1.5.0",
            "_model_name": "ProgressStyleModel",
            "_view_count": null,
            "_view_module": "@jupyter-widgets/base",
            "_view_module_version": "1.2.0",
            "_view_name": "StyleView",
            "bar_color": null,
            "description_width": ""
          }
        },
        "a707811baf3d40ffbed91e2037b08502": {
          "model_module": "@jupyter-widgets/base",
          "model_name": "LayoutModel",
          "model_module_version": "1.2.0",
          "state": {
            "_model_module": "@jupyter-widgets/base",
            "_model_module_version": "1.2.0",
            "_model_name": "LayoutModel",
            "_view_count": null,
            "_view_module": "@jupyter-widgets/base",
            "_view_module_version": "1.2.0",
            "_view_name": "LayoutView",
            "align_content": null,
            "align_items": null,
            "align_self": null,
            "border": null,
            "bottom": null,
            "display": null,
            "flex": null,
            "flex_flow": null,
            "grid_area": null,
            "grid_auto_columns": null,
            "grid_auto_flow": null,
            "grid_auto_rows": null,
            "grid_column": null,
            "grid_gap": null,
            "grid_row": null,
            "grid_template_areas": null,
            "grid_template_columns": null,
            "grid_template_rows": null,
            "height": null,
            "justify_content": null,
            "justify_items": null,
            "left": null,
            "margin": null,
            "max_height": null,
            "max_width": null,
            "min_height": null,
            "min_width": null,
            "object_fit": null,
            "object_position": null,
            "order": null,
            "overflow": null,
            "overflow_x": null,
            "overflow_y": null,
            "padding": null,
            "right": null,
            "top": null,
            "visibility": null,
            "width": null
          }
        },
        "00efaf7940d746f1aed09c4b696ad984": {
          "model_module": "@jupyter-widgets/controls",
          "model_name": "DescriptionStyleModel",
          "model_module_version": "1.5.0",
          "state": {
            "_model_module": "@jupyter-widgets/controls",
            "_model_module_version": "1.5.0",
            "_model_name": "DescriptionStyleModel",
            "_view_count": null,
            "_view_module": "@jupyter-widgets/base",
            "_view_module_version": "1.2.0",
            "_view_name": "StyleView",
            "description_width": ""
          }
        },
        "e46276b569df463eb8027655d63386cd": {
          "model_module": "@jupyter-widgets/controls",
          "model_name": "HBoxModel",
          "model_module_version": "1.5.0",
          "state": {
            "_dom_classes": [],
            "_model_module": "@jupyter-widgets/controls",
            "_model_module_version": "1.5.0",
            "_model_name": "HBoxModel",
            "_view_count": null,
            "_view_module": "@jupyter-widgets/controls",
            "_view_module_version": "1.5.0",
            "_view_name": "HBoxView",
            "box_style": "",
            "children": [
              "IPY_MODEL_fddc2697d0fb4797ac9dca78c2e4a74c",
              "IPY_MODEL_744fd41055de462197305f949ab79d88",
              "IPY_MODEL_3c5a316876d948d384e2ea9d51b7d594"
            ],
            "layout": "IPY_MODEL_997ea2d86edd4033963a96023c9af807"
          }
        },
        "fddc2697d0fb4797ac9dca78c2e4a74c": {
          "model_module": "@jupyter-widgets/controls",
          "model_name": "HTMLModel",
          "model_module_version": "1.5.0",
          "state": {
            "_dom_classes": [],
            "_model_module": "@jupyter-widgets/controls",
            "_model_module_version": "1.5.0",
            "_model_name": "HTMLModel",
            "_view_count": null,
            "_view_module": "@jupyter-widgets/controls",
            "_view_module_version": "1.5.0",
            "_view_name": "HTMLView",
            "description": "",
            "description_tooltip": null,
            "layout": "IPY_MODEL_8175606d0444431199f3639896576396",
            "placeholder": "​",
            "style": "IPY_MODEL_f5face82a783493fab39229ecece21ea",
            "value": "Downloading: 100%"
          }
        },
        "744fd41055de462197305f949ab79d88": {
          "model_module": "@jupyter-widgets/controls",
          "model_name": "FloatProgressModel",
          "model_module_version": "1.5.0",
          "state": {
            "_dom_classes": [],
            "_model_module": "@jupyter-widgets/controls",
            "_model_module_version": "1.5.0",
            "_model_name": "FloatProgressModel",
            "_view_count": null,
            "_view_module": "@jupyter-widgets/controls",
            "_view_module_version": "1.5.0",
            "_view_name": "ProgressView",
            "bar_style": "success",
            "description": "",
            "description_tooltip": null,
            "layout": "IPY_MODEL_a4c8a63866354aa88681183c4f4ff419",
            "max": 212,
            "min": 0,
            "orientation": "horizontal",
            "style": "IPY_MODEL_5896450aafed452c8d1697c01954ba2c",
            "value": 212
          }
        },
        "3c5a316876d948d384e2ea9d51b7d594": {
          "model_module": "@jupyter-widgets/controls",
          "model_name": "HTMLModel",
          "model_module_version": "1.5.0",
          "state": {
            "_dom_classes": [],
            "_model_module": "@jupyter-widgets/controls",
            "_model_module_version": "1.5.0",
            "_model_name": "HTMLModel",
            "_view_count": null,
            "_view_module": "@jupyter-widgets/controls",
            "_view_module_version": "1.5.0",
            "_view_name": "HTMLView",
            "description": "",
            "description_tooltip": null,
            "layout": "IPY_MODEL_a10524af962f4e1bac4496677a3b96ca",
            "placeholder": "​",
            "style": "IPY_MODEL_4875a85efded4b7190b07ee1ec6a0809",
            "value": " 212/212 [00:00&lt;00:00, 7.04kB/s]"
          }
        },
        "997ea2d86edd4033963a96023c9af807": {
          "model_module": "@jupyter-widgets/base",
          "model_name": "LayoutModel",
          "model_module_version": "1.2.0",
          "state": {
            "_model_module": "@jupyter-widgets/base",
            "_model_module_version": "1.2.0",
            "_model_name": "LayoutModel",
            "_view_count": null,
            "_view_module": "@jupyter-widgets/base",
            "_view_module_version": "1.2.0",
            "_view_name": "LayoutView",
            "align_content": null,
            "align_items": null,
            "align_self": null,
            "border": null,
            "bottom": null,
            "display": null,
            "flex": null,
            "flex_flow": null,
            "grid_area": null,
            "grid_auto_columns": null,
            "grid_auto_flow": null,
            "grid_auto_rows": null,
            "grid_column": null,
            "grid_gap": null,
            "grid_row": null,
            "grid_template_areas": null,
            "grid_template_columns": null,
            "grid_template_rows": null,
            "height": null,
            "justify_content": null,
            "justify_items": null,
            "left": null,
            "margin": null,
            "max_height": null,
            "max_width": null,
            "min_height": null,
            "min_width": null,
            "object_fit": null,
            "object_position": null,
            "order": null,
            "overflow": null,
            "overflow_x": null,
            "overflow_y": null,
            "padding": null,
            "right": null,
            "top": null,
            "visibility": null,
            "width": null
          }
        },
        "8175606d0444431199f3639896576396": {
          "model_module": "@jupyter-widgets/base",
          "model_name": "LayoutModel",
          "model_module_version": "1.2.0",
          "state": {
            "_model_module": "@jupyter-widgets/base",
            "_model_module_version": "1.2.0",
            "_model_name": "LayoutModel",
            "_view_count": null,
            "_view_module": "@jupyter-widgets/base",
            "_view_module_version": "1.2.0",
            "_view_name": "LayoutView",
            "align_content": null,
            "align_items": null,
            "align_self": null,
            "border": null,
            "bottom": null,
            "display": null,
            "flex": null,
            "flex_flow": null,
            "grid_area": null,
            "grid_auto_columns": null,
            "grid_auto_flow": null,
            "grid_auto_rows": null,
            "grid_column": null,
            "grid_gap": null,
            "grid_row": null,
            "grid_template_areas": null,
            "grid_template_columns": null,
            "grid_template_rows": null,
            "height": null,
            "justify_content": null,
            "justify_items": null,
            "left": null,
            "margin": null,
            "max_height": null,
            "max_width": null,
            "min_height": null,
            "min_width": null,
            "object_fit": null,
            "object_position": null,
            "order": null,
            "overflow": null,
            "overflow_x": null,
            "overflow_y": null,
            "padding": null,
            "right": null,
            "top": null,
            "visibility": null,
            "width": null
          }
        },
        "f5face82a783493fab39229ecece21ea": {
          "model_module": "@jupyter-widgets/controls",
          "model_name": "DescriptionStyleModel",
          "model_module_version": "1.5.0",
          "state": {
            "_model_module": "@jupyter-widgets/controls",
            "_model_module_version": "1.5.0",
            "_model_name": "DescriptionStyleModel",
            "_view_count": null,
            "_view_module": "@jupyter-widgets/base",
            "_view_module_version": "1.2.0",
            "_view_name": "StyleView",
            "description_width": ""
          }
        },
        "a4c8a63866354aa88681183c4f4ff419": {
          "model_module": "@jupyter-widgets/base",
          "model_name": "LayoutModel",
          "model_module_version": "1.2.0",
          "state": {
            "_model_module": "@jupyter-widgets/base",
            "_model_module_version": "1.2.0",
            "_model_name": "LayoutModel",
            "_view_count": null,
            "_view_module": "@jupyter-widgets/base",
            "_view_module_version": "1.2.0",
            "_view_name": "LayoutView",
            "align_content": null,
            "align_items": null,
            "align_self": null,
            "border": null,
            "bottom": null,
            "display": null,
            "flex": null,
            "flex_flow": null,
            "grid_area": null,
            "grid_auto_columns": null,
            "grid_auto_flow": null,
            "grid_auto_rows": null,
            "grid_column": null,
            "grid_gap": null,
            "grid_row": null,
            "grid_template_areas": null,
            "grid_template_columns": null,
            "grid_template_rows": null,
            "height": null,
            "justify_content": null,
            "justify_items": null,
            "left": null,
            "margin": null,
            "max_height": null,
            "max_width": null,
            "min_height": null,
            "min_width": null,
            "object_fit": null,
            "object_position": null,
            "order": null,
            "overflow": null,
            "overflow_x": null,
            "overflow_y": null,
            "padding": null,
            "right": null,
            "top": null,
            "visibility": null,
            "width": null
          }
        },
        "5896450aafed452c8d1697c01954ba2c": {
          "model_module": "@jupyter-widgets/controls",
          "model_name": "ProgressStyleModel",
          "model_module_version": "1.5.0",
          "state": {
            "_model_module": "@jupyter-widgets/controls",
            "_model_module_version": "1.5.0",
            "_model_name": "ProgressStyleModel",
            "_view_count": null,
            "_view_module": "@jupyter-widgets/base",
            "_view_module_version": "1.2.0",
            "_view_name": "StyleView",
            "bar_color": null,
            "description_width": ""
          }
        },
        "a10524af962f4e1bac4496677a3b96ca": {
          "model_module": "@jupyter-widgets/base",
          "model_name": "LayoutModel",
          "model_module_version": "1.2.0",
          "state": {
            "_model_module": "@jupyter-widgets/base",
            "_model_module_version": "1.2.0",
            "_model_name": "LayoutModel",
            "_view_count": null,
            "_view_module": "@jupyter-widgets/base",
            "_view_module_version": "1.2.0",
            "_view_name": "LayoutView",
            "align_content": null,
            "align_items": null,
            "align_self": null,
            "border": null,
            "bottom": null,
            "display": null,
            "flex": null,
            "flex_flow": null,
            "grid_area": null,
            "grid_auto_columns": null,
            "grid_auto_flow": null,
            "grid_auto_rows": null,
            "grid_column": null,
            "grid_gap": null,
            "grid_row": null,
            "grid_template_areas": null,
            "grid_template_columns": null,
            "grid_template_rows": null,
            "height": null,
            "justify_content": null,
            "justify_items": null,
            "left": null,
            "margin": null,
            "max_height": null,
            "max_width": null,
            "min_height": null,
            "min_width": null,
            "object_fit": null,
            "object_position": null,
            "order": null,
            "overflow": null,
            "overflow_x": null,
            "overflow_y": null,
            "padding": null,
            "right": null,
            "top": null,
            "visibility": null,
            "width": null
          }
        },
        "4875a85efded4b7190b07ee1ec6a0809": {
          "model_module": "@jupyter-widgets/controls",
          "model_name": "DescriptionStyleModel",
          "model_module_version": "1.5.0",
          "state": {
            "_model_module": "@jupyter-widgets/controls",
            "_model_module_version": "1.5.0",
            "_model_name": "DescriptionStyleModel",
            "_view_count": null,
            "_view_module": "@jupyter-widgets/base",
            "_view_module_version": "1.2.0",
            "_view_name": "StyleView",
            "description_width": ""
          }
        }
      }
    }
  },
  "nbformat": 4,
  "nbformat_minor": 0
}