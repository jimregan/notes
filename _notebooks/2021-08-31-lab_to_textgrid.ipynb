{
  "nbformat": 4,
  "nbformat_minor": 0,
  "metadata": {
    "colab": {
      "name": "2021-08-31-lab_to_textgrid.ipynb",
      "provenance": []
    },
    "kernelspec": {
      "name": "python3",
      "display_name": "Python 3"
    },
    "language_info": {
      "name": "python"
    }
  },
  "cells": [
    {
      "cell_type": "markdown",
      "metadata": {
        "id": "NyW1y4JciXfW"
      },
      "source": [
        "# Convert .lab to textgrid\n",
        "\n",
        "> \"Because the lab is Praatland\"\n",
        "\n",
        "- toc: false\n",
        "- branch: master\n",
        "- badges: false\n",
        "- comments: true\n",
        "- categories: [lab, speech, textgrib]"
      ]
    },
    {
      "cell_type": "code",
      "metadata": {
        "colab": {
          "base_uri": "https://localhost:8080/"
        },
        "id": "InQ7546wd3_7",
        "outputId": "8c36ebf3-5d48-4139-fdee-c61d6d3f7a79"
      },
      "source": [
        "!pip install praatio"
      ],
      "execution_count": null,
      "outputs": [
        {
          "output_type": "stream",
          "name": "stdout",
          "text": [
            "Collecting praatio\n",
            "  Downloading praatio-5.0.0-py3-none-any.whl (76 kB)\n",
            "\u001b[?25l\r\u001b[K     |████▎                           | 10 kB 31.0 MB/s eta 0:00:01\r\u001b[K     |████████▌                       | 20 kB 30.0 MB/s eta 0:00:01\r\u001b[K     |████████████▊                   | 30 kB 35.0 MB/s eta 0:00:01\r\u001b[K     |█████████████████               | 40 kB 24.7 MB/s eta 0:00:01\r\u001b[K     |█████████████████████▎          | 51 kB 18.2 MB/s eta 0:00:01\r\u001b[K     |█████████████████████████▌      | 61 kB 20.5 MB/s eta 0:00:01\r\u001b[K     |█████████████████████████████▉  | 71 kB 18.4 MB/s eta 0:00:01\r\u001b[K     |████████████████████████████████| 76 kB 2.9 MB/s \n",
            "\u001b[?25hRequirement already satisfied: typing-extensions in /usr/local/lib/python3.7/dist-packages (from praatio) (3.7.4.3)\n",
            "Installing collected packages: praatio\n",
            "Successfully installed praatio-5.0.0\n"
          ]
        }
      ]
    },
    {
      "cell_type": "code",
      "metadata": {
        "id": "3PiKqYXGgKtI"
      },
      "source": [
        "def _read_lab(filename: str, skip_empty_labels: bool = True):\n",
        "    ret = []\n",
        "    with open(filename) as file:\n",
        "        for line in file.readlines():\n",
        "            if line.strip() == '':\n",
        "                continue\n",
        "            if line.startswith('#'):\n",
        "                continue\n",
        "            l = line.rstrip().split(' ')\n",
        "            if skip_empty_labels and len(l) != 3:\n",
        "                continue\n",
        "            tmp = {}\n",
        "            tmp['start'] = l[0]\n",
        "            tmp['end'] = l[1]\n",
        "            if len(l) == 3:\n",
        "                tmp['phone'] = l[2]\n",
        "            else:\n",
        "                tmp['phone'] = ''\n",
        "            ret.append(tmp)\n",
        "    return ret"
      ],
      "execution_count": null,
      "outputs": []
    },
    {
      "cell_type": "code",
      "metadata": {
        "colab": {
          "base_uri": "https://localhost:8080/"
        },
        "id": "e-Xn-kGfeQvs",
        "outputId": "e05080ef-3cd1-4560-f3ba-c7d0157c5c9b"
      },
      "source": [
        "%%writefile sample.lab\n",
        "0 9700000 sil\n",
        "9700000 10900000 i\n",
        "10900000 12400000 mj\n",
        "12400000 13100000 lj\n",
        "13100000 15200000 au\n",
        "15200000 16300000 r\n",
        "16300000 18100000 sil\n",
        "18100000 19100000 sil\n",
        "19100000 23700000"
      ],
      "execution_count": null,
      "outputs": [
        {
          "output_type": "stream",
          "name": "stdout",
          "text": [
            "Writing sample.lab\n"
          ]
        }
      ]
    },
    {
      "cell_type": "code",
      "metadata": {
        "id": "VGHs77kFeX14"
      },
      "source": [
        "ll = _read_lab('sample.lab', False)"
      ],
      "execution_count": null,
      "outputs": []
    },
    {
      "cell_type": "code",
      "metadata": {
        "id": "Va0LA4o5e1Xl"
      },
      "source": [
        "from praatio import textgrid"
      ],
      "execution_count": null,
      "outputs": []
    },
    {
      "cell_type": "code",
      "metadata": {
        "id": "LVq8qZsgfDGs"
      },
      "source": [
        "from praatio.utilities.constants import Interval\n"
      ],
      "execution_count": null,
      "outputs": []
    },
    {
      "cell_type": "code",
      "metadata": {
        "id": "IUVgQQiniBDq"
      },
      "source": [
        "out = []\n",
        "for l in ll:\n",
        "    out.append(Interval(int(l['start'])/10000000.0, int(l['end'])/10000000.0, l['phone']))"
      ],
      "execution_count": null,
      "outputs": []
    },
    {
      "cell_type": "code",
      "metadata": {
        "id": "zHrgTTbkiW91"
      },
      "source": [
        "tier_start = out[0][0]\n",
        "tier_end = out[-1][1]"
      ],
      "execution_count": null,
      "outputs": []
    },
    {
      "cell_type": "code",
      "metadata": {
        "colab": {
          "base_uri": "https://localhost:8080/"
        },
        "id": "FpTEVXXEjZ2p",
        "outputId": "4ff88b68-8b4a-4633-8318-67a627369ef0"
      },
      "source": [
        "out"
      ],
      "execution_count": null,
      "outputs": [
        {
          "output_type": "execute_result",
          "data": {
            "text/plain": [
              "[Interval(start=0.0, end=0.97, label='sil'),\n",
              " Interval(start=0.97, end=1.09, label='i'),\n",
              " Interval(start=1.09, end=1.24, label='mj'),\n",
              " Interval(start=1.24, end=1.31, label='lj'),\n",
              " Interval(start=1.31, end=1.52, label='au'),\n",
              " Interval(start=1.52, end=1.63, label='r'),\n",
              " Interval(start=1.63, end=1.81, label='sil'),\n",
              " Interval(start=1.81, end=1.91, label='sil'),\n",
              " Interval(start=1.91, end=2.37, label='')]"
            ]
          },
          "metadata": {},
          "execution_count": 25
        }
      ]
    },
    {
      "cell_type": "code",
      "metadata": {
        "id": "oBQ6kXCbmHRD"
      },
      "source": [
        "tg = textgrid.Textgrid()\n",
        "phone_tier = textgrid.IntervalTier('phones', out, tier_start, tier_end)\n",
        "tg.addTier(phone_tier)\n",
        "tg.save('out.TextGrid', format=\"long_textgrid\", includeBlankSpaces=False)"
      ],
      "execution_count": null,
      "outputs": []
    },
    {
      "cell_type": "code",
      "metadata": {
        "colab": {
          "base_uri": "https://localhost:8080/"
        },
        "id": "u41jZ2ZLmdaz",
        "outputId": "4b6d7e4b-ee69-4df9-cf0d-f397199b4400"
      },
      "source": [
        "!cat out.TextGrid"
      ],
      "execution_count": null,
      "outputs": [
        {
          "output_type": "stream",
          "name": "stdout",
          "text": [
            "File type = \"ooTextFile\"\n",
            "Object class = \"TextGrid\"\n",
            "\n",
            "xmin = 0 \n",
            "xmax = 2.37 \n",
            "tiers? <exists> \n",
            "size = 1 \n",
            "item []: \n",
            "    item [1]:\n",
            "        class = \"IntervalTier\" \n",
            "        name = \"phones\" \n",
            "        xmin = 0 \n",
            "        xmax = 2.37 \n",
            "        intervals: size = 9 \n",
            "        intervals [1]:\n",
            "            xmin = 0 \n",
            "            xmax = 0.97 \n",
            "            text = \"sil\" \n",
            "        intervals [2]:\n",
            "            xmin = 0.97 \n",
            "            xmax = 1.09 \n",
            "            text = \"i\" \n",
            "        intervals [3]:\n",
            "            xmin = 1.09 \n",
            "            xmax = 1.24 \n",
            "            text = \"mj\" \n",
            "        intervals [4]:\n",
            "            xmin = 1.24 \n",
            "            xmax = 1.31 \n",
            "            text = \"lj\" \n",
            "        intervals [5]:\n",
            "            xmin = 1.31 \n",
            "            xmax = 1.52 \n",
            "            text = \"au\" \n",
            "        intervals [6]:\n",
            "            xmin = 1.52 \n",
            "            xmax = 1.63 \n",
            "            text = \"r\" \n",
            "        intervals [7]:\n",
            "            xmin = 1.63 \n",
            "            xmax = 1.81 \n",
            "            text = \"sil\" \n",
            "        intervals [8]:\n",
            "            xmin = 1.81 \n",
            "            xmax = 1.91 \n",
            "            text = \"sil\" \n",
            "        intervals [9]:\n",
            "            xmin = 1.91 \n",
            "            xmax = 2.37 \n",
            "            text = \"\" \n"
          ]
        }
      ]
    }
  ]
}