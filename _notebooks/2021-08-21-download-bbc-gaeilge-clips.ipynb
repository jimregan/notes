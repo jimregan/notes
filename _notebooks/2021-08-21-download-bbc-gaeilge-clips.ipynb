{
  "nbformat": 4,
  "nbformat_minor": 0,
  "metadata": {
    "colab": {
      "name": "download-bbc-gaeilge-clips.ipynb",
      "provenance": []
    },
    "kernelspec": {
      "name": "python3",
      "display_name": "Python 3"
    },
    "language_info": {
      "name": "python"
    }
  },
  "cells": [
    {
      "cell_type": "markdown",
      "metadata": {
        "id": "H4HQocc7Roz4"
      },
      "source": [
        "# Download BBC Gaeilge clips\n",
        "\n",
        "> Just runs youtube-dl\n",
        "\n",
        "- toc: false\n",
        "- branch: master\n",
        "- badges: false\n",
        "- comments: true\n",
        "- hidden: true\n",
        "- categories: [irish, dataset, bbc]"
      ]
    },
    {
      "cell_type": "code",
      "metadata": {
        "id": "3QlnkUrlRWNW"
      },
      "source": [
        "for i in range(1, 27):\n",
        "    !youtube-dl -o '%(id)s.%(ext)s' 'https://www.bbc.co.uk/programmes/b007cpvp/clips?page={i}'"
      ],
      "execution_count": null,
      "outputs": []
    }
  ]
}