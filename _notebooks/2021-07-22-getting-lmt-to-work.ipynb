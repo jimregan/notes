{
 "cells": [
  {
   "cell_type": "markdown",
   "metadata": {
    "id": "BUJ0I4Yht96Q"
   },
   "source": [
    " # Getting lmt to work\n",
    "\n",
    "> tl;dr—markdown or two newlines after last file piece\n",
    "\n",
    "- toc: false\n",
    "- branch: master\n",
    "- hidden: true\n",
    "- categories: [lmt]"
   ]
  },
  {
   "cell_type": "markdown",
   "metadata": {
    "id": "B4MB_Oj3sk70"
   },
   "source": [
    "tl;dr -- [`lmt`](https://github.com/driusan/lmt) needs there to be _either_:\n",
    "- markdown after the last file piece\n",
    "- two newline characters"
   ]
  },
  {
   "cell_type": "code",
   "execution_count": null,
   "metadata": {
    "colab": {
     "base_uri": "https://localhost:8080/"
    },
    "id": "l6MVPwvUbumo",
    "outputId": "de00db02-8cee-43fb-f048-55804a09d81f"
   },
   "outputs": [
    {
     "name": "stdout",
     "output_type": "stream",
     "text": [
      "fatal: destination path 'lmt' already exists and is not an empty directory.\n"
     ]
    }
   ],
   "source": [
    "!git clone https://github.com/driusan/lmt"
   ]
  },
  {
   "cell_type": "code",
   "execution_count": null,
   "metadata": {
    "colab": {
     "base_uri": "https://localhost:8080/"
    },
    "id": "IUYiDzoib16g",
    "outputId": "68b6faf3-ca44-4cfd-f9a7-7ddcbc2a324c"
   },
   "outputs": [
    {
     "name": "stdout",
     "output_type": "stream",
     "text": [
      "/content/lmt\n"
     ]
    }
   ],
   "source": [
    "%cd lmt"
   ]
  },
  {
   "cell_type": "code",
   "execution_count": null,
   "metadata": {
    "id": "1QxeLOWLb70a"
   },
   "outputs": [],
   "source": [
    "%%capture\n",
    "!apt install golang"
   ]
  },
  {
   "cell_type": "code",
   "execution_count": null,
   "metadata": {
    "id": "C0uiDGUPb3by"
   },
   "outputs": [],
   "source": [
    "!go build"
   ]
  },
  {
   "cell_type": "code",
   "execution_count": null,
   "metadata": {
    "id": "cTkEr_ZkcSGw"
   },
   "outputs": [],
   "source": [
    "import os\n",
    "os.environ['PATH'] = f'{os.environ[\"PATH\"]}:/content/lmt'"
   ]
  },
  {
   "cell_type": "code",
   "execution_count": null,
   "metadata": {
    "colab": {
     "base_uri": "https://localhost:8080/"
    },
    "id": "BjsB8KAPcm1h",
    "outputId": "256ee681-3840-41a1-f556-99b630ef309e"
   },
   "outputs": [
    {
     "name": "stdout",
     "output_type": "stream",
     "text": [
      "/content\n"
     ]
    }
   ],
   "source": [
    "%cd /content"
   ]
  },
  {
   "cell_type": "code",
   "execution_count": null,
   "metadata": {
    "colab": {
     "base_uri": "https://localhost:8080/"
    },
    "id": "Yf84rXWif_dh",
    "outputId": "0d2de551-907a-4362-f3f3-00e5d55bdd60"
   },
   "outputs": [
    {
     "name": "stdout",
     "output_type": "stream",
     "text": [
      "Overwriting test.go.md\n"
     ]
    }
   ],
   "source": [
    "%%writefile test.go.md\n",
    "# Thing\n",
    "\n",
    "```go test.go\n",
    "package main\n",
    "\n",
    "import (\n",
    "\tfmt\n",
    ")\n",
    "```"
   ]
  },
  {
   "cell_type": "code",
   "execution_count": null,
   "metadata": {
    "id": "-_H-PLFveCll"
   },
   "outputs": [],
   "source": [
    "!lmt test.go.md"
   ]
  },
  {
   "cell_type": "code",
   "execution_count": null,
   "metadata": {
    "colab": {
     "base_uri": "https://localhost:8080/"
    },
    "id": "-rytAtJihdsj",
    "outputId": "b239dba0-f11b-4ea2-f31b-f48db2fea180"
   },
   "outputs": [
    {
     "name": "stdout",
     "output_type": "stream",
     "text": [
      "cat: test.go: No such file or directory\n"
     ]
    }
   ],
   "source": [
    "!cat test.go"
   ]
  },
  {
   "cell_type": "code",
   "execution_count": null,
   "metadata": {
    "colab": {
     "base_uri": "https://localhost:8080/"
    },
    "id": "LyFqqCpgrNF2",
    "outputId": "1babccf8-3ba2-446e-cb00-fd5d2fb969a0"
   },
   "outputs": [
    {
     "name": "stdout",
     "output_type": "stream",
     "text": [
      "Overwriting test2.go.md\n"
     ]
    }
   ],
   "source": [
    "%%writefile test2.go.md\n",
    "# Thing\n",
    "\n",
    "```go test2.go\n",
    "package main\n",
    "\n",
    "import (\n",
    "\tfmt\n",
    ")\n",
    "```\n"
   ]
  },
  {
   "cell_type": "code",
   "execution_count": null,
   "metadata": {
    "id": "y-hUHX2FrQVe"
   },
   "outputs": [],
   "source": [
    "!lmt test2.go.md"
   ]
  },
  {
   "cell_type": "code",
   "execution_count": null,
   "metadata": {
    "colab": {
     "base_uri": "https://localhost:8080/"
    },
    "id": "wK2vQZs9rTms",
    "outputId": "81525a03-106d-4ef4-d6df-d73e005e3d27"
   },
   "outputs": [
    {
     "name": "stdout",
     "output_type": "stream",
     "text": [
      "cat: test2.go: No such file or directory\n"
     ]
    }
   ],
   "source": [
    "!cat test2.go"
   ]
  },
  {
   "cell_type": "code",
   "execution_count": null,
   "metadata": {
    "colab": {
     "base_uri": "https://localhost:8080/"
    },
    "id": "5pFWb_8xsShV",
    "outputId": "2d3a4950-6620-4234-de54-c7712239b5e7"
   },
   "outputs": [
    {
     "name": "stdout",
     "output_type": "stream",
     "text": [
      "Writing test3.go.md\n"
     ]
    }
   ],
   "source": [
    "%%writefile test3.go.md\n",
    "# Thing\n",
    "\n",
    "```go test3.go\n",
    "package main\n",
    "\n",
    "import (\n",
    "\tfmt\n",
    ")\n",
    "```\n",
    "# Blah"
   ]
  },
  {
   "cell_type": "code",
   "execution_count": null,
   "metadata": {
    "colab": {
     "base_uri": "https://localhost:8080/"
    },
    "id": "P_gU_BM-sVuX",
    "outputId": "9ff828cb-d2f5-4b35-8acf-20935869b06d"
   },
   "outputs": [
    {
     "name": "stdout",
     "output_type": "stream",
     "text": [
      "//line test3.go.md:4\n",
      "package main\n",
      "\n",
      "import (\n",
      "\tfmt\n",
      ")\n"
     ]
    }
   ],
   "source": [
    "!lmt test3.go.md\n",
    "!cat test3.go"
   ]
  },
  {
   "cell_type": "code",
   "execution_count": null,
   "metadata": {
    "colab": {
     "base_uri": "https://localhost:8080/"
    },
    "id": "AdZ1HklOscyF",
    "outputId": "3e510671-fcea-4086-aea7-56a18d5cfc27"
   },
   "outputs": [
    {
     "name": "stdout",
     "output_type": "stream",
     "text": [
      "Writing test4.go.md\n"
     ]
    }
   ],
   "source": [
    "%%writefile test4.go.md\n",
    "# Thing\n",
    "\n",
    "```go test4.go\n",
    "package main\n",
    "\n",
    "import (\n",
    "\tfmt\n",
    ")\n",
    "```\n",
    "\n"
   ]
  },
  {
   "cell_type": "code",
   "execution_count": null,
   "metadata": {
    "colab": {
     "base_uri": "https://localhost:8080/"
    },
    "id": "2_udu3rHshNa",
    "outputId": "046634fb-ca69-42f9-c0bb-34b172ab5f63"
   },
   "outputs": [
    {
     "name": "stdout",
     "output_type": "stream",
     "text": [
      "//line test4.go.md:4\n",
      "package main\n",
      "\n",
      "import (\n",
      "\tfmt\n",
      ")\n"
     ]
    }
   ],
   "source": [
    "!lmt test4.go.md\n",
    "!cat test4.go"
   ]
  }
 ],
 "metadata": {
  "colab": {
   "collapsed_sections": [],
   "name": "2021-07-22-getting-lmt-to-work.ipynb",
   "provenance": []
  },
  "kernelspec": {
   "display_name": "Python 3",
   "language": "python",
   "name": "python3"
  },
  "language_info": {
   "codemirror_mode": {
    "name": "ipython",
    "version": 3
   },
   "file_extension": ".py",
   "mimetype": "text/x-python",
   "name": "python",
   "nbconvert_exporter": "python",
   "pygments_lexer": "ipython3",
   "version": "3.8.2"
  }
 },
 "nbformat": 4,
 "nbformat_minor": 1
}
