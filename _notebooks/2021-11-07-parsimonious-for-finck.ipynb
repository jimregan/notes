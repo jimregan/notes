{
 "cells": [
  {
   "cell_type": "markdown",
   "metadata": {},
   "source": [
    "# Basic parser for Finck\n",
    "\n",
    "> \"First step towards extracting entries from the wordbook in Finck\"\n",
    "\n",
    "- toc: false\n",
    "- branch: master\n",
    "- hidden: true\n",
    "- categories: [finck, parsimonious]"
   ]
  },
  {
   "cell_type": "code",
   "execution_count": null,
   "metadata": {},
   "outputs": [],
   "source": [
    "!pip install parsimonious"
   ]
  },
  {
   "cell_type": "code",
   "execution_count": 47,
   "metadata": {},
   "outputs": [],
   "source": [
    "#*ævńəxə*, s. *auən̄*.\n",
    "from parsimonious.grammar import Grammar\n",
    "grammar = Grammar(\n",
    "\"\"\"\n",
    "node = seealso / translation\n",
    "seealso = italictxt comma ws see ws italictxt fullstop\n",
    "translation = italictxt fullstop ws german\n",
    "german = openq qtext closeq\n",
    "italictxt = italics phntext italics\n",
    "italics = \"*\"\n",
    "see = \"s.\"\n",
    "comma = \",\"\n",
    "fullstop = \".\"\n",
    "trscr = ~r\"[-æšaiŕəhxkšŕ̥cĺlāl̄ȧēmvńun̄]+\"\n",
    "phntext = ~r'[^\\*]+'\n",
    "qtext = ~r'[^\"]+'\n",
    "num = ~r'[0-9]+'\n",
    "ref = \"St.-B.\" / \"W.\"\n",
    "gen = \"gen.\"\n",
    "ctext = ~r'[^,]+'\n",
    "openq = \"„\"\n",
    "closeq = '\"'\n",
    "ws = ~\"\\s*\"\n",
    "\"\"\")"
   ]
  },
  {
   "cell_type": "code",
   "execution_count": 48,
   "metadata": {},
   "outputs": [],
   "source": [
    "test = \"*ævńəxə*, s. *auən̄*.\"\n",
    "test2 = '*ḱŕeȷĭm ə n-æš-aiŕə nə gorp*. „Ich glaube an eine auferstehung des fleisches.\"'"
   ]
  },
  {
   "cell_type": "code",
   "execution_count": 49,
   "metadata": {},
   "outputs": [
    {
     "name": "stdout",
     "output_type": "stream",
     "text": [
      "<Node called \"node\" matching \"*ḱŕeȷĭm ə n-æš-aiŕə nə gorp*. „Ich glaube an eine auferstehung des fleisches.\"\">\n",
      "    <Node called \"translation\" matching \"*ḱŕeȷĭm ə n-æš-aiŕə nə gorp*. „Ich glaube an eine auferstehung des fleisches.\"\">\n",
      "        <Node called \"italictxt\" matching \"*ḱŕeȷĭm ə n-æš-aiŕə nə gorp*\">\n",
      "            <Node called \"italics\" matching \"*\">\n",
      "            <RegexNode called \"phntext\" matching \"ḱŕeȷĭm ə n-æš-aiŕə nə gorp\">\n",
      "            <Node called \"italics\" matching \"*\">\n",
      "        <Node called \"fullstop\" matching \".\">\n",
      "        <RegexNode called \"ws\" matching \" \">\n",
      "        <Node called \"german\" matching \"„Ich glaube an eine auferstehung des fleisches.\"\">\n",
      "            <Node called \"openq\" matching \"„\">\n",
      "            <RegexNode called \"qtext\" matching \"Ich glaube an eine auferstehung des fleisches.\">\n",
      "            <Node called \"closeq\" matching \"\"\">\n"
     ]
    }
   ],
   "source": [
    "print(grammar.parse(test2))"
   ]
  }
 ],
 "metadata": {
  "kernelspec": {
   "display_name": "Python 3",
   "language": "python",
   "name": "python3"
  },
  "language_info": {
   "codemirror_mode": {
    "name": "ipython",
    "version": 3
   },
   "file_extension": ".py",
   "mimetype": "text/x-python",
   "name": "python",
   "nbconvert_exporter": "python",
   "pygments_lexer": "ipython3",
   "version": "3.6.9"
  }
 },
 "nbformat": 4,
 "nbformat_minor": 2
}
