{
 "cells": [
  {
   "cell_type": "markdown",
   "id": "quantitative-winning",
   "metadata": {
    "id": "Hb-bcDt8iV3_",
    "papermill": {
     "duration": 0.012913,
     "end_time": "2021-07-05T11:38:20.297136",
     "exception": false,
     "start_time": "2021-07-05T11:38:20.284223",
     "status": "completed"
    },
    "tags": []
   },
   "source": [
    "The first few cells set up phonetisaurus; they are adapted from the instructions in the git README."
   ]
  },
  {
   "cell_type": "code",
   "execution_count": 1,
   "id": "chemical-queensland",
   "metadata": {
    "execution": {
     "iopub.execute_input": "2021-07-05T11:38:20.333430Z",
     "iopub.status.busy": "2021-07-05T11:38:20.332804Z",
     "iopub.status.idle": "2021-07-05T11:38:38.702953Z",
     "shell.execute_reply": "2021-07-05T11:38:38.702127Z"
    },
    "id": "4oKjChPhZKoH",
    "papermill": {
     "duration": 18.393974,
     "end_time": "2021-07-05T11:38:38.703142",
     "exception": false,
     "start_time": "2021-07-05T11:38:20.309168",
     "status": "completed"
    },
    "tags": []
   },
   "outputs": [],
   "source": [
    "%%capture\n",
    "!apt-get -y install git g++ autoconf-archive make libtool\n",
    "# Python bindings\n",
    "!apt-get -y install python-setuptools python-dev\n",
    "!apt-get -y install gfortran"
   ]
  },
  {
   "cell_type": "code",
   "execution_count": 2,
   "id": "continuous-primary",
   "metadata": {
    "execution": {
     "iopub.execute_input": "2021-07-05T11:38:38.739496Z",
     "iopub.status.busy": "2021-07-05T11:38:38.738855Z",
     "iopub.status.idle": "2021-07-05T11:44:38.393893Z",
     "shell.execute_reply": "2021-07-05T11:44:38.394398Z"
    },
    "id": "hJilOunEZc1C",
    "papermill": {
     "duration": 359.679173,
     "end_time": "2021-07-05T11:44:38.394617",
     "exception": false,
     "start_time": "2021-07-05T11:38:38.715444",
     "status": "completed"
    },
    "tags": []
   },
   "outputs": [],
   "source": [
    "%%capture\n",
    "%cd /tmp\n",
    "!wget http://www.openfst.org/twiki/pub/FST/FstDownload/openfst-1.6.2.tar.gz\n",
    "!tar -xvzf openfst-1.6.2.tar.gz\n",
    "%cd openfst-1.6.2\n",
    "!./configure --enable-static --enable-shared --enable-far --enable-ngram-fsts\n",
    "!make -j 4\n",
    "# Now wait a while...\n",
    "!make install"
   ]
  },
  {
   "cell_type": "code",
   "execution_count": 3,
   "id": "therapeutic-mambo",
   "metadata": {
    "execution": {
     "iopub.execute_input": "2021-07-05T11:44:38.429581Z",
     "iopub.status.busy": "2021-07-05T11:44:38.428801Z",
     "iopub.status.idle": "2021-07-05T11:44:38.433021Z",
     "shell.execute_reply": "2021-07-05T11:44:38.432482Z"
    },
    "id": "XcQVoprkc-nz",
    "outputId": "28af04b5-1e1d-423a-80cd-45e552a31c2d",
    "papermill": {
     "duration": 0.026071,
     "end_time": "2021-07-05T11:44:38.433166",
     "exception": false,
     "start_time": "2021-07-05T11:44:38.407095",
     "status": "completed"
    },
    "tags": []
   },
   "outputs": [
    {
     "data": {
      "text/plain": [
       "'/opt/conda/lib:/usr/local/lib:/usr/local/lib/fst'"
      ]
     },
     "execution_count": 3,
     "metadata": {},
     "output_type": "execute_result"
    }
   ],
   "source": [
    "import os\n",
    "ldlibpath = os.environ['LD_LIBRARY_PATH']\n",
    "newld = f'{ldlibpath}:/usr/local/lib:/usr/local/lib/fst'\n",
    "os.environ['LD_LIBRARY_PATH']=newld\n",
    "%env LD_LIBRARY_PATH"
   ]
  },
  {
   "cell_type": "code",
   "execution_count": 4,
   "id": "second-cooking",
   "metadata": {
    "execution": {
     "iopub.execute_input": "2021-07-05T11:44:38.468559Z",
     "iopub.status.busy": "2021-07-05T11:44:38.467871Z",
     "iopub.status.idle": "2021-07-05T11:47:34.520592Z",
     "shell.execute_reply": "2021-07-05T11:47:34.520014Z"
    },
    "id": "ziFGLPG7evck",
    "papermill": {
     "duration": 176.074719,
     "end_time": "2021-07-05T11:47:34.520761",
     "exception": false,
     "start_time": "2021-07-05T11:44:38.446042",
     "status": "completed"
    },
    "tags": []
   },
   "outputs": [],
   "source": [
    "%%capture\n",
    "%cd /tmp\n",
    "!git clone https://github.com/AdolfVonKleist/Phonetisaurus.git\n",
    "%cd Phonetisaurus\n",
    "!./configure\n",
    "!make\n",
    "!make install"
   ]
  },
  {
   "cell_type": "code",
   "execution_count": 5,
   "id": "eight-catholic",
   "metadata": {
    "execution": {
     "iopub.execute_input": "2021-07-05T11:47:34.552479Z",
     "iopub.status.busy": "2021-07-05T11:47:34.551733Z",
     "iopub.status.idle": "2021-07-05T11:47:34.556678Z",
     "shell.execute_reply": "2021-07-05T11:47:34.557467Z"
    },
    "id": "kSJUHZsWgSTC",
    "outputId": "f328b345-2670-42f7-f49d-19ca1c1dc9db",
    "papermill": {
     "duration": 0.023698,
     "end_time": "2021-07-05T11:47:34.557715",
     "exception": false,
     "start_time": "2021-07-05T11:47:34.534017",
     "status": "completed"
    },
    "tags": []
   },
   "outputs": [
    {
     "name": "stdout",
     "output_type": "stream",
     "text": [
      "/tmp\n"
     ]
    }
   ],
   "source": [
    "%cd /tmp/"
   ]
  },
  {
   "cell_type": "markdown",
   "id": "technological-header",
   "metadata": {
    "id": "buTTrQpojaD5",
    "papermill": {
     "duration": 0.013356,
     "end_time": "2021-07-05T11:47:34.585050",
     "exception": false,
     "start_time": "2021-07-05T11:47:34.571694",
     "status": "completed"
    },
    "tags": []
   },
   "source": [
    "We also need MITLM"
   ]
  },
  {
   "cell_type": "code",
   "execution_count": 6,
   "id": "occupied-bangladesh",
   "metadata": {
    "execution": {
     "iopub.execute_input": "2021-07-05T11:47:34.615056Z",
     "iopub.status.busy": "2021-07-05T11:47:34.614392Z",
     "iopub.status.idle": "2021-07-05T11:48:49.291572Z",
     "shell.execute_reply": "2021-07-05T11:48:49.290942Z"
    },
    "id": "1kIjpv36jd_7",
    "papermill": {
     "duration": 74.693343,
     "end_time": "2021-07-05T11:48:49.291740",
     "exception": false,
     "start_time": "2021-07-05T11:47:34.598397",
     "status": "completed"
    },
    "tags": []
   },
   "outputs": [],
   "source": [
    "%%capture\n",
    "!git clone https://github.com/mitlm/mitlm\n",
    "%cd mitlm\n",
    "!autoreconf -i\n",
    "!./configure\n",
    "!make\n",
    "!make install"
   ]
  },
  {
   "cell_type": "code",
   "execution_count": 7,
   "id": "declared-copper",
   "metadata": {
    "execution": {
     "iopub.execute_input": "2021-07-05T11:48:49.325426Z",
     "iopub.status.busy": "2021-07-05T11:48:49.324229Z",
     "iopub.status.idle": "2021-07-05T11:48:49.329584Z",
     "shell.execute_reply": "2021-07-05T11:48:49.330060Z"
    },
    "id": "sWL_apGcmkiZ",
    "outputId": "09d5d21a-d78f-423b-fc7b-59ca188e6ce7",
    "papermill": {
     "duration": 0.024849,
     "end_time": "2021-07-05T11:48:49.330246",
     "exception": false,
     "start_time": "2021-07-05T11:48:49.305397",
     "status": "completed"
    },
    "tags": []
   },
   "outputs": [
    {
     "name": "stdout",
     "output_type": "stream",
     "text": [
      "/kaggle/working\n"
     ]
    }
   ],
   "source": [
    "%cd /kaggle/working"
   ]
  },
  {
   "cell_type": "markdown",
   "id": "editorial-orange",
   "metadata": {
    "id": "gVCcIZzbiMg2",
    "papermill": {
     "duration": 0.013721,
     "end_time": "2021-07-05T11:48:49.358320",
     "exception": false,
     "start_time": "2021-07-05T11:48:49.344599",
     "status": "completed"
    },
    "tags": []
   },
   "source": [
    "The TIMIT dictionary is relatively clean, so there are only a few small changes that are needed for phonetisaurus."
   ]
  },
  {
   "cell_type": "code",
   "execution_count": 8,
   "id": "standing-belarus",
   "metadata": {
    "execution": {
     "iopub.execute_input": "2021-07-05T11:48:49.389675Z",
     "iopub.status.busy": "2021-07-05T11:48:49.388689Z",
     "iopub.status.idle": "2021-07-05T11:48:50.981246Z",
     "shell.execute_reply": "2021-07-05T11:48:50.981837Z"
    },
    "id": "8jvRytTLiKTY",
    "papermill": {
     "duration": 1.609932,
     "end_time": "2021-07-05T11:48:50.982065",
     "exception": false,
     "start_time": "2021-07-05T11:48:49.372133",
     "status": "completed"
    },
    "tags": []
   },
   "outputs": [],
   "source": [
    "!cat ../input/darpa-timit-acousticphonetic-continuous-speech/TIMITDIC.TXT|grep -v '^;'|tr -d '/'|sed -e 's/  */ /g;s/~adj//;s/~v_past//;s/~v_pres//;s/~v//;s/~n//;' > /tmp/TIMIT.cleaned\n",
    "!cat /tmp/TIMIT.cleaned | perl -pe 's/\\s+/ /g; s/^\\s+//; s/\\s+$//; @_ = split (/\\s+/); $w = shift (@_); $_ = $w.\"\\t\".join (\" \", @_).\"\\n\";' > /tmp/TIMIT.clean"
   ]
  },
  {
   "cell_type": "code",
   "execution_count": 9,
   "id": "sixth-listing",
   "metadata": {
    "execution": {
     "iopub.execute_input": "2021-07-05T11:48:51.020147Z",
     "iopub.status.busy": "2021-07-05T11:48:51.016539Z",
     "iopub.status.idle": "2021-07-05T11:49:03.197885Z",
     "shell.execute_reply": "2021-07-05T11:49:03.197305Z"
    },
    "id": "SHoBNKGQiqE7",
    "outputId": "008a21ac-c933-408b-c460-066f4f075312",
    "papermill": {
     "duration": 12.201468,
     "end_time": "2021-07-05T11:49:03.198052",
     "exception": false,
     "start_time": "2021-07-05T11:48:50.996584",
     "status": "completed"
    },
    "tags": []
   },
   "outputs": [
    {
     "name": "stdout",
     "output_type": "stream",
     "text": [
      "GitRevision: 0.9.1\r\n",
      "Loading input file: /tmp/TIMIT.clean\r\n",
      "Alignment failed: x\r\n",
      "Starting EM...\r\n",
      "Finished first iter...\r\n",
      "Iteration: 1 Change: 2.70318\r\n",
      "Iteration: 2 Change: 0.0603504\r\n",
      "Iteration: 3 Change: 0.0425539\r\n",
      "Iteration: 4 Change: 0.0206814\r\n",
      "Iteration: 5 Change: 0.0114756\r\n",
      "Iteration: 6 Change: 0.00711536\r\n",
      "Iteration: 7 Change: 0.0042429\r\n",
      "Iteration: 8 Change: 0.00297546\r\n",
      "Iteration: 9 Change: 0.00223923\r\n",
      "Iteration: 10 Change: 0.00151825\r\n",
      "Iteration: 11 Change: 0.00115204\r\n",
      "Last iteration: \r\n"
     ]
    }
   ],
   "source": [
    "!phonetisaurus-align --input=/tmp/TIMIT.clean --ofile=TIMIT.clean.corpus --seq1_del=false"
   ]
  },
  {
   "cell_type": "markdown",
   "id": "naughty-deposit",
   "metadata": {
    "papermill": {
     "duration": 0.017955,
     "end_time": "2021-07-05T11:49:03.234614",
     "exception": false,
     "start_time": "2021-07-05T11:49:03.216659",
     "status": "completed"
    },
    "tags": []
   },
   "source": [
    "That thing I just said about the TIMIT dictionary being relatively clean? Nah. There are some errors, particularly with 'c' being transcribed as 'ao' (which is a vowel sound). Also, the default output of `phonetisaurus-align` only does 1:1, 1:0, 0:1, 2:1, and 1:2 mappings of graphemes and phonemes, which means some of the alignments look quite strange."
   ]
  },
  {
   "cell_type": "code",
   "execution_count": 10,
   "id": "latin-explanation",
   "metadata": {
    "execution": {
     "iopub.execute_input": "2021-07-05T11:49:03.317939Z",
     "iopub.status.busy": "2021-07-05T11:49:03.296946Z",
     "iopub.status.idle": "2021-07-05T11:49:03.338172Z",
     "shell.execute_reply": "2021-07-05T11:49:03.336639Z"
    },
    "papermill": {
     "duration": 0.085277,
     "end_time": "2021-07-05T11:49:03.338505",
     "exception": true,
     "start_time": "2021-07-05T11:49:03.253228",
     "status": "failed"
    },
    "tags": []
   },
   "outputs": [
    {
     "ename": "SyntaxError",
     "evalue": "invalid syntax (<ipython-input-10-500aab7eda36>, line 6)",
     "output_type": "error",
     "traceback": [
      "\u001b[0;36m  File \u001b[0;32m\"<ipython-input-10-500aab7eda36>\"\u001b[0;36m, line \u001b[0;32m6\u001b[0m\n\u001b[0;31m    use warnings;\u001b[0m\n\u001b[0m               ^\u001b[0m\n\u001b[0;31mSyntaxError\u001b[0m\u001b[0;31m:\u001b[0m invalid syntax\n"
     ]
    }
   ],
   "source": [
    "%writefile clean_ngrams.pl\n",
    "#!/usr/bin/perl\n",
    "# Fix some of the alignments from phonetisaurus-align to be more recognisable to humans\n",
    "# Also fixes some transcription errors in the TIMIT dictionary (mostly c -> ao)\n",
    "\n",
    "use warnings;\n",
    "use strict;\n",
    "use utf8;\n",
    "\n",
    "my $raw_replacements = <<_HERE_;\n",
    "e}_ l}el\te|l}el\n",
    "e}_ d}ed\te|d}ed\n",
    "e}_ d}d\te|d}d\n",
    "e}iy1 e}_\te|e}iy1\n",
    "i}ix o|n}n\ti|o}ix n}n\n",
    "r}_ t|-}r t}t\tr}r t|-|t}t\n",
    "-|k}n n|a}ae1\t-}_ k|n}n a}ae1\n",
    "a|c}ax c}k\ta}ax c|c}k\n",
    "c}k h}_\tc|h}k\n",
    "c}k q|u}w\tc|q}k u}w\n",
    "n}n|t c}s\tn}n c}t|s\n",
    "i|c}ih1 k|-}k\ti}ih1 c|k}k -}_\n",
    "a|k}ey1 e|-}k\ta}ey1 k}k e|-}_\n",
    "-|k}n n|a}ae2\t-}_ k|n}n a}ae2\n",
    "a|t}ax e}_ -|e}t y}ay1\ta}ax t}t e}_ -}_ e|y}ay1\n",
    "t|u}ch r}axr\tt}ch u|r}axr\n",
    "e}_ d}d\te|d}d\n",
    "a}ae1 e}_\ta|e}ae1\n",
    "a}ih e}_\ta|e}ih\n",
    "-|c}ao\t-}_ c}k\n",
    "x}eh1|k -}s\tx}eh1|k|s -}_\n",
    "e}_ l|l}el\te|l|l}el\n",
    "w|h}hh y}w|ay1\tw|h}hh|w y}ay1\n",
    "a|d}ax j|o}jh u|r}er1\ta}ax d|j}jh o|u|r}er1\n",
    "a|d}ae2 u}jh|uw\ta}ae2 d}jh u}uw\n",
    "u}y|uh a|b}b\tu|a}y|uh b}b\n",
    "x}k -}s\tx}k|s -}_\n",
    "u|r}er1 r}_\tu|r|r}er1\n",
    "o|r}axr r}_\to|r|r}axr\n",
    "u|r}axr r}_\tu|r|r}axr\n",
    "e|r}axr r}_\te|r|r}axr\n",
    "a|r}axr r}_ h|o}iy1 e}_\ta|r|r|h}axr o|e}iy1\n",
    "e|r}er r}_\te|r|r}er\n",
    "i|r}er1 r}_\ti|r|r}er1\n",
    "u}_ a}aa1\tu|a}aa1\n",
    "w|h}hh i}w|er1 r}_\tw|h}hh|w i|r}er1\n",
    "b|o}b r}r\tb}b o|r}r\n",
    "e}_ a|r}er1\te|a|r}er1\n",
    "q|u}k a}w|ey2\tq}k u}w a}ey2\n",
    "q|u}k a}w|ao1\tq}k u}w a}ao1\n",
    "w|h}hh a}w|ax\tw|h}hh|w a}ax\n",
    "t|u}ch r}axr\tt}ch u|r}axr\n",
    "d|u}jh a}uw|ax\td}jh u}uw a}ax\n",
    "c|i}sh a}iy|ey2\tc}sh i}iy a}ey2\n",
    "i}ix a|t}t\ti|a}ix t}t\n",
    "w|h}hh e}w|iy1 a|t}t\tw|h}hh|w e|a}iy1 t}t\n",
    "q|u}k a}w|aa1\tq}k u}w a}aa1\n",
    "q|u}k a}w|ao2\tq}k u}w a}ao2\n",
    "q|u}k a}w|ae1\tq}k u}w a}ae1\n",
    "w|h}hh a}w|aa1\tw|h}hh|w a}aa1\n",
    "w|h}hh a}w|aa2\tw|h}hh|w a}aa2\n",
    "w|h}hh e}w|ae1\tw|h}hh|w a}ae1\n",
    "w|h}hh e}w|ae2\tw|h}hh|w a}ae2\n",
    "w|h}hh i}w|ay1\tw|h}hh|w a}ay1\n",
    "w|h}hh o}w|aa1\tw|h}hh|w o}aa1\n",
    "y|a}y c|h}aa1 t}t\ty}y a}aa1 c|h}_ t}t\n",
    "i}iy1 e}_\ti|e}iy1\n",
    "m|a}m '}_ a}ae1\tm}m a|'|a}ae1\n",
    "g|u}g e}_\tg}g u|e}_\n",
    "r}r h}_\tr|h}r\n",
    "s}z s|a}ix\ts|s}z a}ix\n",
    "_HERE_\n",
    "\n",
    "my %replacements = ();\n",
    "for my $rl (split('\\n', $raw_replacements)) {\n",
    "\tnext if($rl !~ /\\t/);\n",
    "\tmy @tmp = split(/\\t/, $rl);\n",
    "\t$replacements{$tmp[0]} = $tmp[1];\n",
    "}\n",
    "my $regex_inner = join('|', map { quotemeta $_ } keys %replacements);\n",
    "\n",
    "while(<>) {\n",
    "\tchomp;\n",
    "\twhile(/(?:^| )($regex_inner)(?:$| )/g) {\n",
    "\t\tmy $m = $1;\n",
    "\t\tmy $qm = quotemeta($m);\n",
    "\t\ts/$qm/$replacements{$m}/;\n",
    "\t}\n",
    "\tmy @phns = split/ /;\n",
    "\tmy @out = ();\n",
    "\tfor my $phn (@phns) {\n",
    "\t\tif($phn =~ /^([-'])\\|/) {\n",
    "\t\t\tmy $ch = $1;\n",
    "\t\t\tpush @out, \"$ch}_\";\n",
    "\t\t\tpush @out, substr($phn,2);\n",
    "\t\t} elsif($phn =~ /^([^\\|])\\|([-'])\\}(.*)$/) {\n",
    "\t\t\tmy $ch1 = $1;\n",
    "\t\t\tmy $ch2 = $2;\n",
    "\t\t\tmy $ch3 = $3;\n",
    "\t\t\tpush @out, \"$ch1}$ch3\";\n",
    "\t\t\tpush @out, \"$ch2}_\";\n",
    "\t\t} elsif($phn eq 'c}ao') {\n",
    "\t\t\tif($phns[0] eq 'n}n') {\n",
    "\t\t\t\tpush @out, 'c}s';\n",
    "\t\t\t} else {\n",
    "\t\t\t\tpush @out, 'c}k';\n",
    "\t\t\t}\n",
    "\t\t} else {\n",
    "\t\t\tpush @out, $phn;\n",
    "\t\t}\n",
    "\t}\n",
    "\tprint join(' ', @out) . \"\\n\";\n",
    "}"
   ]
  },
  {
   "cell_type": "code",
   "execution_count": null,
   "id": "split-startup",
   "metadata": {
    "papermill": {
     "duration": null,
     "end_time": null,
     "exception": null,
     "start_time": null,
     "status": "pending"
    },
    "tags": []
   },
   "outputs": [],
   "source": [
    "!cat TIMIT.clean.corpus | perl clean_ngrams.pl > TIMIT.cleaner.corpus"
   ]
  },
  {
   "cell_type": "code",
   "execution_count": null,
   "id": "confused-beijing",
   "metadata": {
    "papermill": {
     "duration": null,
     "end_time": null,
     "exception": null,
     "start_time": null,
     "status": "pending"
    },
    "tags": []
   },
   "outputs": [],
   "source": [
    "!estimate-ngram -o 8 -t TIMIT.cleaner.corpus -wl timit.arpa\n",
    "# Convert to OpenFst format (10s-20s):\n",
    "!phonetisaurus-arpa2wfst --lm=timit.arpa --ofile=timit.fst"
   ]
  },
  {
   "cell_type": "code",
   "execution_count": null,
   "id": "hindu-infection",
   "metadata": {
    "id": "2moIx62roJRi",
    "outputId": "538851f0-dba4-4c7a-d8b2-42ad341cccd2",
    "papermill": {
     "duration": null,
     "end_time": null,
     "exception": null,
     "start_time": null,
     "status": "pending"
    },
    "tags": []
   },
   "outputs": [],
   "source": [
    "#!phonetisaurus-apply --model timit.fst --word_list <wordlist>"
   ]
  }
 ],
 "metadata": {
  "kernelspec": {
   "display_name": "Python 3",
   "language": "python",
   "name": "python3"
  },
  "language_info": {
   "codemirror_mode": {
    "name": "ipython",
    "version": 3
   },
   "file_extension": ".py",
   "mimetype": "text/x-python",
   "name": "python",
   "nbconvert_exporter": "python",
   "pygments_lexer": "ipython3",
   "version": "3.7.10"
  },
  "papermill": {
   "default_parameters": {},
   "duration": 651.932928,
   "end_time": "2021-07-05T11:49:04.658638",
   "environment_variables": {},
   "exception": true,
   "input_path": "__notebook__.ipynb",
   "output_path": "__notebook__.ipynb",
   "parameters": {},
   "start_time": "2021-07-05T11:38:12.725710",
   "version": "2.3.3"
  }
 },
 "nbformat": 4,
 "nbformat_minor": 5
}
