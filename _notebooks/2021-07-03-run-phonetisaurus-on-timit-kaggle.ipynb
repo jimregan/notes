{
 "cells": [
  {
   "cell_type": "markdown",
   "id": "incorporate-demographic",
   "metadata": {
    "id": "Hb-bcDt8iV3_",
    "papermill": {
     "duration": 0.010611,
     "end_time": "2021-07-05T11:56:15.842438",
     "exception": false,
     "start_time": "2021-07-05T11:56:15.831827",
     "status": "completed"
    },
    "tags": []
   },
   "source": [
    "The first few cells set up phonetisaurus; they are adapted from the instructions in the git README."
   ]
  },
  {
   "cell_type": "code",
   "execution_count": 1,
   "id": "quiet-collectible",
   "metadata": {
    "execution": {
     "iopub.execute_input": "2021-07-05T11:56:15.873121Z",
     "iopub.status.busy": "2021-07-05T11:56:15.872628Z",
     "iopub.status.idle": "2021-07-05T11:56:33.165201Z",
     "shell.execute_reply": "2021-07-05T11:56:33.164370Z"
    },
    "id": "4oKjChPhZKoH",
    "papermill": {
     "duration": 17.312962,
     "end_time": "2021-07-05T11:56:33.165347",
     "exception": false,
     "start_time": "2021-07-05T11:56:15.852385",
     "status": "completed"
    },
    "tags": []
   },
   "outputs": [],
   "source": [
    "%%capture\n",
    "!apt-get -y install git g++ autoconf-archive make libtool\n",
    "# Python bindings\n",
    "!apt-get -y install python-setuptools python-dev\n",
    "!apt-get -y install gfortran"
   ]
  },
  {
   "cell_type": "code",
   "execution_count": 2,
   "id": "simplified-effectiveness",
   "metadata": {
    "execution": {
     "iopub.execute_input": "2021-07-05T11:56:33.187721Z",
     "iopub.status.busy": "2021-07-05T11:56:33.187227Z",
     "iopub.status.idle": "2021-07-05T12:01:26.227834Z",
     "shell.execute_reply": "2021-07-05T12:01:26.227156Z"
    },
    "id": "hJilOunEZc1C",
    "papermill": {
     "duration": 293.052358,
     "end_time": "2021-07-05T12:01:26.227967",
     "exception": false,
     "start_time": "2021-07-05T11:56:33.175609",
     "status": "completed"
    },
    "tags": []
   },
   "outputs": [],
   "source": [
    "%%capture\n",
    "%cd /tmp\n",
    "!wget http://www.openfst.org/twiki/pub/FST/FstDownload/openfst-1.6.2.tar.gz\n",
    "!tar -xvzf openfst-1.6.2.tar.gz\n",
    "%cd openfst-1.6.2\n",
    "!./configure --enable-static --enable-shared --enable-far --enable-ngram-fsts\n",
    "!make -j 4\n",
    "# Now wait a while...\n",
    "!make install"
   ]
  },
  {
   "cell_type": "code",
   "execution_count": 3,
   "id": "decent-activity",
   "metadata": {
    "execution": {
     "iopub.execute_input": "2021-07-05T12:01:26.255574Z",
     "iopub.status.busy": "2021-07-05T12:01:26.254814Z",
     "iopub.status.idle": "2021-07-05T12:01:26.258185Z",
     "shell.execute_reply": "2021-07-05T12:01:26.257692Z"
    },
    "id": "XcQVoprkc-nz",
    "outputId": "28af04b5-1e1d-423a-80cd-45e552a31c2d",
    "papermill": {
     "duration": 0.020224,
     "end_time": "2021-07-05T12:01:26.258285",
     "exception": false,
     "start_time": "2021-07-05T12:01:26.238061",
     "status": "completed"
    },
    "tags": []
   },
   "outputs": [
    {
     "data": {
      "text/plain": [
       "'/opt/conda/lib:/usr/local/lib:/usr/local/lib/fst'"
      ]
     },
     "execution_count": 3,
     "metadata": {},
     "output_type": "execute_result"
    }
   ],
   "source": [
    "import os\n",
    "ldlibpath = os.environ['LD_LIBRARY_PATH']\n",
    "newld = f'{ldlibpath}:/usr/local/lib:/usr/local/lib/fst'\n",
    "os.environ['LD_LIBRARY_PATH']=newld\n",
    "%env LD_LIBRARY_PATH"
   ]
  },
  {
   "cell_type": "code",
   "execution_count": 4,
   "id": "afraid-salon",
   "metadata": {
    "execution": {
     "iopub.execute_input": "2021-07-05T12:01:26.285202Z",
     "iopub.status.busy": "2021-07-05T12:01:26.284708Z",
     "iopub.status.idle": "2021-07-05T12:03:51.915312Z",
     "shell.execute_reply": "2021-07-05T12:03:51.916011Z"
    },
    "id": "ziFGLPG7evck",
    "papermill": {
     "duration": 145.64796,
     "end_time": "2021-07-05T12:03:51.916421",
     "exception": false,
     "start_time": "2021-07-05T12:01:26.268461",
     "status": "completed"
    },
    "tags": []
   },
   "outputs": [],
   "source": [
    "%%capture\n",
    "%cd /tmp\n",
    "!git clone https://github.com/AdolfVonKleist/Phonetisaurus.git\n",
    "%cd Phonetisaurus\n",
    "!./configure\n",
    "!make\n",
    "!make install"
   ]
  },
  {
   "cell_type": "code",
   "execution_count": 5,
   "id": "norman-twelve",
   "metadata": {
    "execution": {
     "iopub.execute_input": "2021-07-05T12:03:51.947463Z",
     "iopub.status.busy": "2021-07-05T12:03:51.946580Z",
     "iopub.status.idle": "2021-07-05T12:03:51.953335Z",
     "shell.execute_reply": "2021-07-05T12:03:51.954055Z"
    },
    "id": "kSJUHZsWgSTC",
    "outputId": "f328b345-2670-42f7-f49d-19ca1c1dc9db",
    "papermill": {
     "duration": 0.024956,
     "end_time": "2021-07-05T12:03:51.954257",
     "exception": false,
     "start_time": "2021-07-05T12:03:51.929301",
     "status": "completed"
    },
    "tags": []
   },
   "outputs": [
    {
     "name": "stdout",
     "output_type": "stream",
     "text": [
      "/tmp\n"
     ]
    }
   ],
   "source": [
    "%cd /tmp/"
   ]
  },
  {
   "cell_type": "markdown",
   "id": "sunrise-catering",
   "metadata": {
    "id": "buTTrQpojaD5",
    "papermill": {
     "duration": 0.011333,
     "end_time": "2021-07-05T12:03:51.980387",
     "exception": false,
     "start_time": "2021-07-05T12:03:51.969054",
     "status": "completed"
    },
    "tags": []
   },
   "source": [
    "We also need MITLM"
   ]
  },
  {
   "cell_type": "code",
   "execution_count": 6,
   "id": "confused-sessions",
   "metadata": {
    "execution": {
     "iopub.execute_input": "2021-07-05T12:03:52.020735Z",
     "iopub.status.busy": "2021-07-05T12:03:52.020096Z",
     "iopub.status.idle": "2021-07-05T12:04:53.778122Z",
     "shell.execute_reply": "2021-07-05T12:04:53.777503Z"
    },
    "id": "1kIjpv36jd_7",
    "papermill": {
     "duration": 61.780637,
     "end_time": "2021-07-05T12:04:53.778258",
     "exception": false,
     "start_time": "2021-07-05T12:03:51.997621",
     "status": "completed"
    },
    "tags": []
   },
   "outputs": [],
   "source": [
    "%%capture\n",
    "!git clone https://github.com/mitlm/mitlm\n",
    "%cd mitlm\n",
    "!autoreconf -i\n",
    "!./configure\n",
    "!make\n",
    "!make install"
   ]
  },
  {
   "cell_type": "code",
   "execution_count": 7,
   "id": "interracial-puzzle",
   "metadata": {
    "execution": {
     "iopub.execute_input": "2021-07-05T12:04:53.805229Z",
     "iopub.status.busy": "2021-07-05T12:04:53.804429Z",
     "iopub.status.idle": "2021-07-05T12:04:53.808258Z",
     "shell.execute_reply": "2021-07-05T12:04:53.807762Z"
    },
    "id": "sWL_apGcmkiZ",
    "outputId": "09d5d21a-d78f-423b-fc7b-59ca188e6ce7",
    "papermill": {
     "duration": 0.018615,
     "end_time": "2021-07-05T12:04:53.808355",
     "exception": false,
     "start_time": "2021-07-05T12:04:53.789740",
     "status": "completed"
    },
    "tags": []
   },
   "outputs": [
    {
     "name": "stdout",
     "output_type": "stream",
     "text": [
      "/kaggle/working\n"
     ]
    }
   ],
   "source": [
    "%cd /kaggle/working"
   ]
  },
  {
   "cell_type": "markdown",
   "id": "unique-employer",
   "metadata": {
    "id": "gVCcIZzbiMg2",
    "papermill": {
     "duration": 0.01103,
     "end_time": "2021-07-05T12:04:53.830705",
     "exception": false,
     "start_time": "2021-07-05T12:04:53.819675",
     "status": "completed"
    },
    "tags": []
   },
   "source": [
    "The TIMIT dictionary is relatively clean, so there are only a few small changes that are needed for phonetisaurus."
   ]
  },
  {
   "cell_type": "code",
   "execution_count": 8,
   "id": "aggregate-sessions",
   "metadata": {
    "execution": {
     "iopub.execute_input": "2021-07-05T12:04:53.860962Z",
     "iopub.status.busy": "2021-07-05T12:04:53.857963Z",
     "iopub.status.idle": "2021-07-05T12:04:55.219585Z",
     "shell.execute_reply": "2021-07-05T12:04:55.219120Z"
    },
    "id": "8jvRytTLiKTY",
    "papermill": {
     "duration": 1.377941,
     "end_time": "2021-07-05T12:04:55.219711",
     "exception": false,
     "start_time": "2021-07-05T12:04:53.841770",
     "status": "completed"
    },
    "tags": []
   },
   "outputs": [],
   "source": [
    "!cat ../input/darpa-timit-acousticphonetic-continuous-speech/TIMITDIC.TXT|grep -v '^;'|tr -d '/'|sed -e 's/  */ /g;s/~adj//;s/~v_past//;s/~v_pres//;s/~v//;s/~n//;' > /tmp/TIMIT.cleaned\n",
    "!cat /tmp/TIMIT.cleaned | perl -pe 's/\\s+/ /g; s/^\\s+//; s/\\s+$//; @_ = split (/\\s+/); $w = shift (@_); $_ = $w.\"\\t\".join (\" \", @_).\"\\n\";' > /tmp/TIMIT.clean"
   ]
  },
  {
   "cell_type": "code",
   "execution_count": 9,
   "id": "fantastic-georgia",
   "metadata": {
    "execution": {
     "iopub.execute_input": "2021-07-05T12:04:55.250777Z",
     "iopub.status.busy": "2021-07-05T12:04:55.246860Z",
     "iopub.status.idle": "2021-07-05T12:05:05.046960Z",
     "shell.execute_reply": "2021-07-05T12:05:05.046064Z"
    },
    "id": "SHoBNKGQiqE7",
    "outputId": "008a21ac-c933-408b-c460-066f4f075312",
    "papermill": {
     "duration": 9.81594,
     "end_time": "2021-07-05T12:05:05.047097",
     "exception": false,
     "start_time": "2021-07-05T12:04:55.231157",
     "status": "completed"
    },
    "tags": []
   },
   "outputs": [
    {
     "name": "stdout",
     "output_type": "stream",
     "text": [
      "GitRevision: 0.9.1\r\n",
      "Loading input file: /tmp/TIMIT.clean\r\n",
      "Alignment failed: x\r\n",
      "Starting EM...\r\n",
      "Finished first iter...\r\n",
      "Iteration: 1 Change: 2.70318\r\n",
      "Iteration: 2 Change: 0.0603504\r\n",
      "Iteration: 3 Change: 0.0425539\r\n",
      "Iteration: 4 Change: 0.0206814\r\n",
      "Iteration: 5 Change: 0.0114756\r\n",
      "Iteration: 6 Change: 0.00711536\r\n",
      "Iteration: 7 Change: 0.0042429\r\n",
      "Iteration: 8 Change: 0.00297546\r\n",
      "Iteration: 9 Change: 0.00223923\r\n",
      "Iteration: 10 Change: 0.00151825\r\n",
      "Iteration: 11 Change: 0.00115204\r\n",
      "Last iteration: \r\n"
     ]
    }
   ],
   "source": [
    "!phonetisaurus-align --input=/tmp/TIMIT.clean --ofile=TIMIT.clean.corpus --seq1_del=false"
   ]
  },
  {
   "cell_type": "markdown",
   "id": "southwest-salad",
   "metadata": {
    "papermill": {
     "duration": 0.014468,
     "end_time": "2021-07-05T12:05:05.077080",
     "exception": false,
     "start_time": "2021-07-05T12:05:05.062612",
     "status": "completed"
    },
    "tags": []
   },
   "source": [
    "That thing I just said about the TIMIT dictionary being relatively clean? Nah. There are some errors, particularly with 'c' being transcribed as 'ao' (which is a vowel sound). Also, the default output of `phonetisaurus-align` only does 1:1, 1:0, 0:1, 2:1, and 1:2 mappings of graphemes and phonemes, which means some of the alignments look quite strange."
   ]
  },
  {
   "cell_type": "code",
   "execution_count": 10,
   "id": "future-matrix",
   "metadata": {
    "execution": {
     "iopub.execute_input": "2021-07-05T12:05:05.113004Z",
     "iopub.status.busy": "2021-07-05T12:05:05.112393Z",
     "iopub.status.idle": "2021-07-05T12:05:05.115620Z",
     "shell.execute_reply": "2021-07-05T12:05:05.116041Z"
    },
    "papermill": {
     "duration": 0.024423,
     "end_time": "2021-07-05T12:05:05.116162",
     "exception": false,
     "start_time": "2021-07-05T12:05:05.091739",
     "status": "completed"
    },
    "tags": []
   },
   "outputs": [
    {
     "name": "stdout",
     "output_type": "stream",
     "text": [
      "Writing clean_ngrams.pl\n"
     ]
    }
   ],
   "source": [
    "%%writefile clean_ngrams.pl\n",
    "#!/usr/bin/perl\n",
    "# Fix some of the alignments from phonetisaurus-align to be more recognisable to humans\n",
    "# Also fixes some transcription errors in the TIMIT dictionary (mostly c -> ao)\n",
    "\n",
    "use warnings;\n",
    "use strict;\n",
    "use utf8;\n",
    "\n",
    "my $raw_replacements = <<_HERE_;\n",
    "e}_ l}el\te|l}el\n",
    "e}_ d}ed\te|d}ed\n",
    "e}_ d}d\te|d}d\n",
    "e}iy1 e}_\te|e}iy1\n",
    "i}ix o|n}n\ti|o}ix n}n\n",
    "r}_ t|-}r t}t\tr}r t|-|t}t\n",
    "-|k}n n|a}ae1\t-}_ k|n}n a}ae1\n",
    "a|c}ax c}k\ta}ax c|c}k\n",
    "c}k h}_\tc|h}k\n",
    "c}k q|u}w\tc|q}k u}w\n",
    "n}n|t c}s\tn}n c}t|s\n",
    "i|c}ih1 k|-}k\ti}ih1 c|k}k -}_\n",
    "a|k}ey1 e|-}k\ta}ey1 k}k e|-}_\n",
    "-|k}n n|a}ae2\t-}_ k|n}n a}ae2\n",
    "a|t}ax e}_ -|e}t y}ay1\ta}ax t}t e}_ -}_ e|y}ay1\n",
    "t|u}ch r}axr\tt}ch u|r}axr\n",
    "e}_ d}d\te|d}d\n",
    "a}ae1 e}_\ta|e}ae1\n",
    "a}ih e}_\ta|e}ih\n",
    "-|c}ao\t-}_ c}k\n",
    "x}eh1|k -}s\tx}eh1|k|s -}_\n",
    "e}_ l|l}el\te|l|l}el\n",
    "w|h}hh y}w|ay1\tw|h}hh|w y}ay1\n",
    "a|d}ax j|o}jh u|r}er1\ta}ax d|j}jh o|u|r}er1\n",
    "a|d}ae2 u}jh|uw\ta}ae2 d}jh u}uw\n",
    "u}y|uh a|b}b\tu|a}y|uh b}b\n",
    "x}k -}s\tx}k|s -}_\n",
    "u|r}er1 r}_\tu|r|r}er1\n",
    "o|r}axr r}_\to|r|r}axr\n",
    "u|r}axr r}_\tu|r|r}axr\n",
    "e|r}axr r}_\te|r|r}axr\n",
    "a|r}axr r}_ h|o}iy1 e}_\ta|r|r|h}axr o|e}iy1\n",
    "e|r}er r}_\te|r|r}er\n",
    "i|r}er1 r}_\ti|r|r}er1\n",
    "u}_ a}aa1\tu|a}aa1\n",
    "w|h}hh i}w|er1 r}_\tw|h}hh|w i|r}er1\n",
    "b|o}b r}r\tb}b o|r}r\n",
    "e}_ a|r}er1\te|a|r}er1\n",
    "q|u}k a}w|ey2\tq}k u}w a}ey2\n",
    "q|u}k a}w|ao1\tq}k u}w a}ao1\n",
    "w|h}hh a}w|ax\tw|h}hh|w a}ax\n",
    "t|u}ch r}axr\tt}ch u|r}axr\n",
    "d|u}jh a}uw|ax\td}jh u}uw a}ax\n",
    "c|i}sh a}iy|ey2\tc}sh i}iy a}ey2\n",
    "i}ix a|t}t\ti|a}ix t}t\n",
    "w|h}hh e}w|iy1 a|t}t\tw|h}hh|w e|a}iy1 t}t\n",
    "q|u}k a}w|aa1\tq}k u}w a}aa1\n",
    "q|u}k a}w|ao2\tq}k u}w a}ao2\n",
    "q|u}k a}w|ae1\tq}k u}w a}ae1\n",
    "w|h}hh a}w|aa1\tw|h}hh|w a}aa1\n",
    "w|h}hh a}w|aa2\tw|h}hh|w a}aa2\n",
    "w|h}hh e}w|ae1\tw|h}hh|w a}ae1\n",
    "w|h}hh e}w|ae2\tw|h}hh|w a}ae2\n",
    "w|h}hh i}w|ay1\tw|h}hh|w a}ay1\n",
    "w|h}hh o}w|aa1\tw|h}hh|w o}aa1\n",
    "y|a}y c|h}aa1 t}t\ty}y a}aa1 c|h}_ t}t\n",
    "i}iy1 e}_\ti|e}iy1\n",
    "m|a}m '}_ a}ae1\tm}m a|'|a}ae1\n",
    "g|u}g e}_\tg}g u|e}_\n",
    "r}r h}_\tr|h}r\n",
    "s}z s|a}ix\ts|s}z a}ix\n",
    "_HERE_\n",
    "\n",
    "my %replacements = ();\n",
    "for my $rl (split('\\n', $raw_replacements)) {\n",
    "\tnext if($rl !~ /\\t/);\n",
    "\tmy @tmp = split(/\\t/, $rl);\n",
    "\t$replacements{$tmp[0]} = $tmp[1];\n",
    "}\n",
    "my $regex_inner = join('|', map { quotemeta $_ } keys %replacements);\n",
    "\n",
    "while(<>) {\n",
    "\tchomp;\n",
    "\twhile(/(?:^| )($regex_inner)(?:$| )/g) {\n",
    "\t\tmy $m = $1;\n",
    "\t\tmy $qm = quotemeta($m);\n",
    "\t\ts/$qm/$replacements{$m}/;\n",
    "\t}\n",
    "\tmy @phns = split/ /;\n",
    "\tmy @out = ();\n",
    "\tfor my $phn (@phns) {\n",
    "\t\tif($phn =~ /^([-'])\\|/) {\n",
    "\t\t\tmy $ch = $1;\n",
    "\t\t\tpush @out, \"$ch}_\";\n",
    "\t\t\tpush @out, substr($phn,2);\n",
    "\t\t} elsif($phn =~ /^([^\\|])\\|([-'])\\}(.*)$/) {\n",
    "\t\t\tmy $ch1 = $1;\n",
    "\t\t\tmy $ch2 = $2;\n",
    "\t\t\tmy $ch3 = $3;\n",
    "\t\t\tpush @out, \"$ch1}$ch3\";\n",
    "\t\t\tpush @out, \"$ch2}_\";\n",
    "\t\t} elsif($phn eq 'c}ao') {\n",
    "\t\t\tif($phns[0] eq 'n}n') {\n",
    "\t\t\t\tpush @out, 'c}s';\n",
    "\t\t\t} else {\n",
    "\t\t\t\tpush @out, 'c}k';\n",
    "\t\t\t}\n",
    "\t\t} else {\n",
    "\t\t\tpush @out, $phn;\n",
    "\t\t}\n",
    "\t}\n",
    "\tprint join(' ', @out) . \"\\n\";\n",
    "}"
   ]
  },
  {
   "cell_type": "code",
   "execution_count": 11,
   "id": "exceptional-ribbon",
   "metadata": {
    "execution": {
     "iopub.execute_input": "2021-07-05T12:05:05.153399Z",
     "iopub.status.busy": "2021-07-05T12:05:05.149673Z",
     "iopub.status.idle": "2021-07-05T12:05:05.885761Z",
     "shell.execute_reply": "2021-07-05T12:05:05.885255Z"
    },
    "papermill": {
     "duration": 0.754481,
     "end_time": "2021-07-05T12:05:05.885917",
     "exception": false,
     "start_time": "2021-07-05T12:05:05.131436",
     "status": "completed"
    },
    "tags": []
   },
   "outputs": [],
   "source": [
    "!cat TIMIT.clean.corpus | perl clean_ngrams.pl > TIMIT.cleaner.corpus"
   ]
  },
  {
   "cell_type": "code",
   "execution_count": 12,
   "id": "incorporated-corporation",
   "metadata": {
    "execution": {
     "iopub.execute_input": "2021-07-05T12:05:05.921359Z",
     "iopub.status.busy": "2021-07-05T12:05:05.920883Z",
     "iopub.status.idle": "2021-07-05T12:05:08.118239Z",
     "shell.execute_reply": "2021-07-05T12:05:08.117779Z"
    },
    "papermill": {
     "duration": 2.217035,
     "end_time": "2021-07-05T12:05:08.118375",
     "exception": false,
     "start_time": "2021-07-05T12:05:05.901340",
     "status": "completed"
    },
    "tags": []
   },
   "outputs": [
    {
     "name": "stdout",
     "output_type": "stream",
     "text": [
      "0.001\tLoading corpus TIMIT.cleaner.corpus...\r\n",
      "0.026\tSmoothing[1] = ModKN\r\n",
      "0.026\tSmoothing[2] = ModKN\r\n",
      "0.026\tSmoothing[3] = ModKN\r\n",
      "0.026\tSmoothing[4] = ModKN\r\n",
      "0.026\tSmoothing[5] = ModKN\r\n",
      "0.026\tSmoothing[6] = ModKN\r\n",
      "0.026\tSmoothing[7] = ModKN\r\n",
      "0.026\tSmoothing[8] = ModKN\r\n",
      "0.026\tSet smoothing algorithms...\r\n",
      "0.026\tY 6.390977e-01\r\n",
      "0.026\tY 6.202592e-01\r\n",
      "0.026\tY 7.251729e-01\r\n",
      "0.026\tY 7.967686e-01\r\n",
      "0.027\tY 8.548704e-01\r\n",
      "0.027\tY 9.046288e-01\r\n",
      "0.027\tY 9.354281e-01\r\n",
      "0.027\tY 9.105453e-01\r\n",
      "0.027\tEstimating full n-gram model...\r\n",
      "0.029\tSaving LM to timit.arpa...\r\n",
      "GitRevision: 0.9.1\r\n",
      "Initializing...\r\n",
      "Converting...\r\n"
     ]
    }
   ],
   "source": [
    "!estimate-ngram -o 8 -t TIMIT.cleaner.corpus -wl timit.arpa\n",
    "# Convert to OpenFst format (10s-20s):\n",
    "!phonetisaurus-arpa2wfst --lm=timit.arpa --ofile=timit.fst"
   ]
  },
  {
   "cell_type": "code",
   "execution_count": 13,
   "id": "abroad-agriculture",
   "metadata": {
    "execution": {
     "iopub.execute_input": "2021-07-05T12:05:08.155984Z",
     "iopub.status.busy": "2021-07-05T12:05:08.155466Z",
     "iopub.status.idle": "2021-07-05T12:05:08.157982Z",
     "shell.execute_reply": "2021-07-05T12:05:08.157540Z"
    },
    "id": "2moIx62roJRi",
    "outputId": "538851f0-dba4-4c7a-d8b2-42ad341cccd2",
    "papermill": {
     "duration": 0.021802,
     "end_time": "2021-07-05T12:05:08.158087",
     "exception": false,
     "start_time": "2021-07-05T12:05:08.136285",
     "status": "completed"
    },
    "tags": []
   },
   "outputs": [],
   "source": [
    "#!phonetisaurus-apply --model timit.fst --word_list <wordlist>"
   ]
  }
 ],
 "metadata": {
  "kernelspec": {
   "display_name": "Python 3",
   "language": "python",
   "name": "python3"
  },
  "language_info": {
   "codemirror_mode": {
    "name": "ipython",
    "version": 3
   },
   "file_extension": ".py",
   "mimetype": "text/x-python",
   "name": "python",
   "nbconvert_exporter": "python",
   "pygments_lexer": "ipython3",
   "version": "3.7.10"
  },
  "papermill": {
   "default_parameters": {},
   "duration": 539.5194,
   "end_time": "2021-07-05T12:05:08.782688",
   "environment_variables": {},
   "exception": null,
   "input_path": "__notebook__.ipynb",
   "output_path": "__notebook__.ipynb",
   "parameters": {},
   "start_time": "2021-07-05T11:56:09.263288",
   "version": "2.3.3"
  }
 },
 "nbformat": 4,
 "nbformat_minor": 5
}
