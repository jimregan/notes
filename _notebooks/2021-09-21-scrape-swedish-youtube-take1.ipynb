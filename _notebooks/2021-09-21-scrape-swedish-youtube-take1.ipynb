{
 "cells": [
  {
   "cell_type": "markdown",
   "metadata": {},
   "source": [
    "# Swedish youtube scrape 1\n",
    "\n",
    "> \"Partial scraping of one youtube channel\"\n",
    "\n",
    "- toc: false\n",
    "- branch: master\n",
    "- hidden: true\n",
    "- categories: [kaggle, swedish]"
   ]
  },
  {
   "cell_type": "markdown",
   "metadata": {},
   "source": [
    "Original on [Kaggle](https://www.kaggle.com/jimregan/notebook0a4b3ece2c)"
   ]
  },
  {
   "cell_type": "code",
   "execution_count": 1,
   "metadata": {
    "_cell_guid": "b1076dfc-b9ad-4769-8c92-a6c4dae69d19",
    "_uuid": "8f2839f25d086af736a60e9eeb907d3b93b6e0e5",
    "execution": {
     "iopub.execute_input": "2021-09-20T21:36:35.203871Z",
     "iopub.status.busy": "2021-09-20T21:36:35.203289Z",
     "iopub.status.idle": "2021-09-20T21:36:44.982634Z",
     "shell.execute_reply": "2021-09-20T21:36:44.983099Z",
     "shell.execute_reply.started": "2021-09-20T21:34:26.324453Z"
    },
    "papermill": {
     "duration": 9.7923,
     "end_time": "2021-09-20T21:36:44.983399",
     "exception": false,
     "start_time": "2021-09-20T21:36:35.191099",
     "status": "completed"
    },
    "tags": []
   },
   "outputs": [],
   "source": [
    "!pip install youtube-dl"
   ]
  },
  {
   "cell_type": "code",
   "execution_count": 2,
   "metadata": {
    "execution": {
     "iopub.execute_input": "2021-09-20T21:36:44.996417Z",
     "iopub.status.busy": "2021-09-20T21:36:44.995546Z",
     "iopub.status.idle": "2021-09-21T03:34:49.748146Z",
     "shell.execute_reply": "2021-09-21T03:34:49.748642Z"
    },
    "papermill": {
     "duration": 21484.760342,
     "end_time": "2021-09-21T03:34:49.748912",
     "exception": false,
     "start_time": "2021-09-20T21:36:44.988570",
     "status": "completed"
    },
    "tags": []
   },
   "outputs": [],
   "source": [
    "!youtube-dl -o '%(id)s.%(ext)s' https://www.youtube.com/channel/UCagnPy0JPimGTqTzv1YQBpQ"
   ]
  }
 ],
 "metadata": {
  "kernelspec": {
   "display_name": "Python 3",
   "language": "python",
   "name": "python3"
  },
  "language_info": {
   "codemirror_mode": {
    "name": "ipython",
    "version": 3
   },
   "file_extension": ".py",
   "mimetype": "text/x-python",
   "name": "python",
   "nbconvert_exporter": "python",
   "pygments_lexer": "ipython3",
   "version": "3.6.9"
  },
  "papermill": {
   "default_parameters": {},
   "duration": 21518.847401,
   "end_time": "2021-09-21T03:35:07.333918",
   "environment_variables": {},
   "exception": null,
   "input_path": "__notebook__.ipynb",
   "output_path": "__notebook__.ipynb",
   "parameters": {},
   "start_time": "2021-09-20T21:36:28.486517",
   "version": "2.3.3"
  }
 },
 "nbformat": 4,
 "nbformat_minor": 5
}
