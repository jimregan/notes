{
  "nbformat": 4,
  "nbformat_minor": 0,
  "metadata": {
    "colab": {
      "name": "Train spacy IDT.ipynb",
      "provenance": []
    },
    "kernelspec": {
      "name": "python3",
      "display_name": "Python 3"
    },
    "accelerator": "GPU"
  },
  "cells": [
    {
      "cell_type": "code",
      "metadata": {
        "id": "_WCiGYDTNmW6",
        "colab": {
          "base_uri": "https://localhost:8080/",
          "height": 136
        },
        "outputId": "6f714699-91fb-481b-8cfd-0906a1e2bfb1"
      },
      "source": [
        "!git clone https://github.com/UniversalDependencies/UD_Irish-IDT"
      ],
      "execution_count": null,
      "outputs": [
        {
          "output_type": "stream",
          "text": [
            "Cloning into 'UD_Irish-IDT'...\n",
            "remote: Enumerating objects: 32, done.\u001b[K\n",
            "remote: Counting objects: 100% (32/32), done.\u001b[K\n",
            "remote: Compressing objects: 100% (23/23), done.\u001b[K\n",
            "remote: Total 328 (delta 14), reused 25 (delta 9), pack-reused 296\u001b[K\n",
            "Receiving objects: 100% (328/328), 3.63 MiB | 12.73 MiB/s, done.\n",
            "Resolving deltas: 100% (182/182), done.\n"
          ],
          "name": "stdout"
        }
      ]
    },
    {
      "cell_type": "code",
      "metadata": {
        "id": "bV60vIz8Notb"
      },
      "source": [
        "!mkdir idt-json"
      ],
      "execution_count": null,
      "outputs": []
    },
    {
      "cell_type": "code",
      "metadata": {
        "id": "l_IFOkAtNx8o",
        "colab": {
          "base_uri": "https://localhost:8080/",
          "height": 51
        },
        "outputId": "e3d12c82-b52b-47cb-8b65-bbe6d2da8fbe"
      },
      "source": [
        "!python -m spacy convert /content/UD_Irish-IDT/ga_idt-ud-train.conllu /content/idt-json"
      ],
      "execution_count": null,
      "outputs": [
        {
          "output_type": "stream",
          "text": [
            "\u001b[38;5;2m✔ Generated output file (2019 documents):\n",
            "/content/idt-json/ga_idt-ud-train.json\u001b[0m\n"
          ],
          "name": "stdout"
        }
      ]
    },
    {
      "cell_type": "code",
      "metadata": {
        "id": "r6_83-lqOLMo",
        "colab": {
          "base_uri": "https://localhost:8080/",
          "height": 51
        },
        "outputId": "8054677f-b933-4c22-eb7c-2dbf75144e75"
      },
      "source": [
        "!python -m spacy convert /content/UD_Irish-IDT/ga_idt-ud-dev.conllu /content/idt-json"
      ],
      "execution_count": null,
      "outputs": [
        {
          "output_type": "stream",
          "text": [
            "\u001b[38;5;2m✔ Generated output file (451 documents):\n",
            "/content/idt-json/ga_idt-ud-dev.json\u001b[0m\n"
          ],
          "name": "stdout"
        }
      ]
    },
    {
      "cell_type": "code",
      "metadata": {
        "id": "tX31G20TljWw",
        "colab": {
          "base_uri": "https://localhost:8080/",
          "height": 289
        },
        "outputId": "c1eb7627-7e70-43f0-caa2-14cae08d7925"
      },
      "source": [
        "!wget https://dl.fbaipublicfiles.com/fasttext/vectors-crawl/cc.ga.300.vec.gz\n",
        "!python -m spacy init-model ga /content/ga_vectors_cc --vectors-loc cc.ga.300.vec.gz\n"
      ],
      "execution_count": null,
      "outputs": [
        {
          "output_type": "stream",
          "text": [
            "--2020-09-14 17:16:11--  https://dl.fbaipublicfiles.com/fasttext/vectors-crawl/cc.ga.300.vec.gz\n",
            "Resolving dl.fbaipublicfiles.com (dl.fbaipublicfiles.com)... 172.67.9.4, 104.22.75.142, 104.22.74.142, ...\n",
            "Connecting to dl.fbaipublicfiles.com (dl.fbaipublicfiles.com)|172.67.9.4|:443... connected.\n",
            "HTTP request sent, awaiting response... 200 OK\n",
            "Length: 184422000 (176M) [binary/octet-stream]\n",
            "Saving to: ‘cc.ga.300.vec.gz’\n",
            "\n",
            "cc.ga.300.vec.gz    100%[===================>] 175.88M  44.2MB/s    in 4.0s    \n",
            "\n",
            "2020-09-14 17:16:16 (43.8 MB/s) - ‘cc.ga.300.vec.gz’ saved [184422000/184422000]\n",
            "\n",
            "\u001b[2K\u001b[38;5;2m✔ Successfully created model\u001b[0m\n",
            "316836it [00:27, 11398.56it/s]\n",
            "\u001b[2K\u001b[38;5;2m✔ Loaded vectors from cc.ga.300.vec.gz\u001b[0m\n",
            "\u001b[38;5;2m✔ Sucessfully compiled vocab\u001b[0m\n",
            "317041 entries, 316836 vectors\n"
          ],
          "name": "stdout"
        }
      ]
    },
    {
      "cell_type": "markdown",
      "metadata": {
        "id": "XLqWH7dQABvX"
      },
      "source": [
        "WikiANN is currently only available through [Google Drive](https://drive.google.com/drive/folders/1Q-xdT99SeaCghihGa7nRkcXGwRGUIsKN?usp=sharing)"
      ]
    },
    {
      "cell_type": "code",
      "metadata": {
        "id": "6Rk0df9fAAaA",
        "colab": {
          "base_uri": "https://localhost:8080/",
          "height": 34
        },
        "outputId": "d324d4e9-35d0-4eb5-8d28-4a8853a35b1d"
      },
      "source": [
        "from google.colab import drive\n",
        "drive.mount('/gdrive')"
      ],
      "execution_count": null,
      "outputs": [
        {
          "output_type": "stream",
          "text": [
            "Mounted at /gdrive\n"
          ],
          "name": "stdout"
        }
      ]
    },
    {
      "cell_type": "code",
      "metadata": {
        "id": "ySKmawQAAcwM"
      },
      "source": [
        "!cp /gdrive/My\\ Drive/ga.tar.gz ."
      ],
      "execution_count": null,
      "outputs": []
    },
    {
      "cell_type": "code",
      "metadata": {
        "id": "t12aUAqEBNHU",
        "colab": {
          "base_uri": "https://localhost:8080/",
          "height": 51
        },
        "outputId": "5c68cd06-e318-45f1-cc11-cb2dc70bc70e"
      },
      "source": [
        "!tar zxvf ga.tar.gz"
      ],
      "execution_count": null,
      "outputs": [
        {
          "output_type": "stream",
          "text": [
            "README.txt\n",
            "wikiann-ga.bio\n"
          ],
          "name": "stdout"
        }
      ]
    },
    {
      "cell_type": "code",
      "metadata": {
        "id": "96Lp-vdmnOyQ",
        "colab": {
          "base_uri": "https://localhost:8080/",
          "height": 224
        },
        "outputId": "cad53b52-2a24-4154-d93e-6983b228952d"
      },
      "source": [
        "!wget http://downloads.dbpedia.org/links/resources/wikidatadump/2017-07-07/enwiki/20170701/enwiki-20170701-interlanguage-links_wikidataorg.ttl"
      ],
      "execution_count": null,
      "outputs": [
        {
          "output_type": "stream",
          "text": [
            "--2020-09-14 17:15:11--  http://downloads.dbpedia.org/links/resources/wikidatadump/2017-07-07/enwiki/20170701/enwiki-20170701-interlanguage-links_wikidataorg.ttl\n",
            "Resolving downloads.dbpedia.org (downloads.dbpedia.org)... 139.18.16.66\n",
            "Connecting to downloads.dbpedia.org (downloads.dbpedia.org)|139.18.16.66|:80... connected.\n",
            "HTTP request sent, awaiting response... 200 OK\n",
            "Length: 1020894244 (974M) [text/turtle]\n",
            "Saving to: ‘enwiki-20170701-interlanguage-links_wikidataorg.ttl’\n",
            "\n",
            "enwiki-20170701-int 100%[===================>] 973.60M  18.7MB/s    in 54s     \n",
            "\n",
            "2020-09-14 17:16:05 (18.1 MB/s) - ‘enwiki-20170701-interlanguage-links_wikidataorg.ttl’ saved [1020894244/1020894244]\n",
            "\n"
          ],
          "name": "stdout"
        }
      ]
    },
    {
      "cell_type": "code",
      "metadata": {
        "id": "PDc_AzjFn4Yr",
        "colab": {
          "base_uri": "https://localhost:8080/",
          "height": 207
        },
        "outputId": "706a6e48-19b3-4862-d3c4-a1458086425b"
      },
      "source": [
        "!head enwiki-20170701-interlanguage-links_wikidataorg.ttl"
      ],
      "execution_count": null,
      "outputs": [
        {
          "output_type": "stream",
          "text": [
            "<http://dbpedia.org/resource/South_America> <http://www.w3.org/2002/07/owl#sameAs> <http://www.wikidata.org/entity/Q18> .\n",
            "<http://dbpedia.org/resource/Japan> <http://www.w3.org/2002/07/owl#sameAs> <http://www.wikidata.org/entity/Q17> .\n",
            "<http://dbpedia.org/resource/Africa> <http://www.w3.org/2002/07/owl#sameAs> <http://www.wikidata.org/entity/Q15> .\n",
            "<http://dbpedia.org/resource/Norway> <http://www.w3.org/2002/07/owl#sameAs> <http://www.wikidata.org/entity/Q20> .\n",
            "<http://dbpedia.org/resource/Northern_Ireland> <http://www.w3.org/2002/07/owl#sameAs> <http://www.wikidata.org/entity/Q26> .\n",
            "<http://dbpedia.org/resource/Wales> <http://www.w3.org/2002/07/owl#sameAs> <http://www.wikidata.org/entity/Q25> .\n",
            "<http://dbpedia.org/resource/Scotland> <http://www.w3.org/2002/07/owl#sameAs> <http://www.wikidata.org/entity/Q22> .\n",
            "<http://dbpedia.org/resource/England> <http://www.w3.org/2002/07/owl#sameAs> <http://www.wikidata.org/entity/Q21> .\n",
            "<http://dbpedia.org/resource/Republic_of_Ireland> <http://www.w3.org/2002/07/owl#sameAs> <http://www.wikidata.org/entity/Q27> .\n",
            "<http://dbpedia.org/resource/Hungary> <http://www.w3.org/2002/07/owl#sameAs> <http://www.wikidata.org/entity/Q28> .\n"
          ],
          "name": "stdout"
        }
      ]
    },
    {
      "cell_type": "code",
      "metadata": {
        "id": "3PiBNxyvoSs8"
      },
      "source": [
        "!cat wikiann-ga.bio | awk '(NF == 7){print $6}'|sort|uniq|while read i;do grep \"/$i>\" enwiki-20170701-interlanguage-links_wikidataorg.ttl >> filtered;done"
      ],
      "execution_count": null,
      "outputs": []
    },
    {
      "cell_type": "code",
      "metadata": {
        "id": "0HtAKMuNBjty",
        "colab": {
          "base_uri": "https://localhost:8080/",
          "height": 326
        },
        "outputId": "c256da23-fc90-4cc0-b4be-313bf4c61cdd"
      },
      "source": [
        "!pip install danlp "
      ],
      "execution_count": null,
      "outputs": [
        {
          "output_type": "stream",
          "text": [
            "Collecting danlp\n",
            "  Downloading https://files.pythonhosted.org/packages/3c/79/96d0d3f3634ce75787d408383fa81cdd854552e27e4e279a985b511a6d88/danlp-0.0.9-py3-none-any.whl\n",
            "Collecting pyconll\n",
            "  Downloading https://files.pythonhosted.org/packages/2c/6e/c325d0db05ac1b8d45645de903e4ba691d419e861c915c3d4ebfcaf8ac25/pyconll-2.2.1-py3-none-any.whl\n",
            "Requirement already satisfied: tqdm in /usr/local/lib/python3.6/dist-packages (from danlp) (4.41.1)\n",
            "Requirement already satisfied: tweepy in /usr/local/lib/python3.6/dist-packages (from danlp) (3.6.0)\n",
            "Requirement already satisfied: requests>=2.21 in /usr/local/lib/python3.6/dist-packages (from pyconll->danlp) (2.23.0)\n",
            "Requirement already satisfied: six>=1.10.0 in /usr/local/lib/python3.6/dist-packages (from tweepy->danlp) (1.15.0)\n",
            "Requirement already satisfied: PySocks>=1.5.7 in /usr/local/lib/python3.6/dist-packages (from tweepy->danlp) (1.7.1)\n",
            "Requirement already satisfied: requests-oauthlib>=0.7.0 in /usr/local/lib/python3.6/dist-packages (from tweepy->danlp) (1.3.0)\n",
            "Requirement already satisfied: certifi>=2017.4.17 in /usr/local/lib/python3.6/dist-packages (from requests>=2.21->pyconll->danlp) (2020.6.20)\n",
            "Requirement already satisfied: idna<3,>=2.5 in /usr/local/lib/python3.6/dist-packages (from requests>=2.21->pyconll->danlp) (2.10)\n",
            "Requirement already satisfied: urllib3!=1.25.0,!=1.25.1,<1.26,>=1.21.1 in /usr/local/lib/python3.6/dist-packages (from requests>=2.21->pyconll->danlp) (1.24.3)\n",
            "Requirement already satisfied: chardet<4,>=3.0.2 in /usr/local/lib/python3.6/dist-packages (from requests>=2.21->pyconll->danlp) (3.0.4)\n",
            "Requirement already satisfied: oauthlib>=3.0.0 in /usr/local/lib/python3.6/dist-packages (from requests-oauthlib>=0.7.0->tweepy->danlp) (3.1.0)\n",
            "Installing collected packages: pyconll, danlp\n",
            "Successfully installed danlp-0.0.9 pyconll-2.2.1\n"
          ],
          "name": "stdout"
        }
      ]
    },
    {
      "cell_type": "code",
      "metadata": {
        "id": "PsfdZGXuBjsr"
      },
      "source": [
        "import danlp.datasets.wiki_ann\n",
        "wa = danlp.datasets.wiki_ann._convert_wikiann_to_iob('wikiann-ga.bio', 'wikiann-ga.ner')"
      ],
      "execution_count": null,
      "outputs": []
    },
    {
      "cell_type": "code",
      "metadata": {
        "id": "wvn4FMNoGZQc",
        "colab": {
          "base_uri": "https://localhost:8080/",
          "height": 187
        },
        "outputId": "0e5ab144-16be-4dfa-8203-c08144b589fc"
      },
      "source": [
        "!head out"
      ],
      "execution_count": null,
      "outputs": [
        {
          "output_type": "stream",
          "text": [
            "Colm _ _ B-PER\n",
            "Ó _ _ I-PER\n",
            "Ruairc _ _ I-PER\n",
            "\n",
            "Seosamh _ _ B-PER\n",
            "Ó _ _ I-PER\n",
            "Cainín _ _ I-PER\n",
            "\n",
            "Dónal _ _ B-PER\n",
            "Ó _ _ I-PER\n"
          ],
          "name": "stdout"
        }
      ]
    },
    {
      "cell_type": "code",
      "metadata": {
        "id": "K6OlX_y3BYZE",
        "colab": {
          "base_uri": "https://localhost:8080/",
          "height": 85
        },
        "outputId": "51cab776-5f92-4ac3-ee4e-74337376acb2"
      },
      "source": [
        "!python -m spacy convert -n 10 wikiann-ga.ner /content/idt-json/"
      ],
      "execution_count": null,
      "outputs": [
        {
          "output_type": "stream",
          "text": [
            "\u001b[38;5;4mℹ Auto-detected token-per-line NER format\u001b[0m\n",
            "\u001b[38;5;4mℹ Grouping every 10 sentences into a document.\u001b[0m\n",
            "\u001b[38;5;2m✔ Generated output file (757 documents):\n",
            "/content/idt-json/wikiann-ga.json\u001b[0m\n"
          ],
          "name": "stdout"
        }
      ]
    },
    {
      "cell_type": "code",
      "metadata": {
        "id": "3jO9xy6IOT3k",
        "colab": {
          "base_uri": "https://localhost:8080/",
          "height": 768
        },
        "outputId": "bbc19607-ec95-45de-e0b4-4a04014023d4"
      },
      "source": [
        "!rm -rf models\n",
        "!mkdir models\n",
        "!python -m spacy train -v /content/ga_vectors_cc -p 'tagger,parser,ner' ga models idt-json/ga_idt-ud-train.json idt-json/ga_idt-ud-dev.json"
      ],
      "execution_count": null,
      "outputs": [
        {
          "output_type": "stream",
          "text": [
            "Training pipeline: ['tagger', 'parser']\n",
            "Starting with blank model 'ga'\n",
            "Loading vector from model '/content/ga_vectors_cc'\n",
            "Counting training words (limit=0)\n",
            "/usr/lib/python3.6/runpy.py:193: UserWarning: [W022] Training a new part-of-speech tagger using a model with no lemmatization rules or data. This means that the trained model may not be able to lemmatize correctly. If this is intentional or the language you're using doesn't have lemmatization data, you can ignore this warning by setting SPACY_WARNING_IGNORE=W022. If this is surprising, make sure you have the spacy-lookups-data package installed.\n",
            "  \"__main__\", mod_spec)\n",
            "\n",
            "Itn  Tag Loss    Tag %    Dep Loss    UAS     LAS    Token %  CPU WPS\n",
            "---  ---------  --------  ---------  ------  ------  -------  -------\n",
            "  1  14058.829    90.650  43482.222  74.804  56.787  100.000    11293\n",
            "  2   6188.294    92.810  34097.493  79.836  66.009  100.000    11461\n",
            "  3   4475.949    93.400  30061.441  81.314  69.572  100.000    11930\n",
            "  4   3549.242    93.530  27752.841  82.784  71.759  100.000    11719\n",
            "  5   2916.639    93.570  25861.771  83.066  72.401  100.000    11616\n",
            "  6   2438.355    93.550  24533.545  83.133  72.726  100.000    12227\n",
            "  7   2084.913    93.500  22901.218  83.281  73.043  100.000    11842\n",
            "  8   1845.607    93.610  21836.129  83.516  73.346  100.000    12094\n",
            "  9   1698.212    93.630  20626.109  83.555  73.507  100.000    11907\n",
            " 10   1406.626    93.570  19251.761  83.712  73.978  100.000    11926\n",
            " 11   1366.677    93.620  18882.570  83.896  74.128  100.000    12023\n",
            " 12   1209.500    93.610  17836.598  83.968  74.177  100.000    11924\n",
            " 13   1140.886    93.640  17341.624  84.098  74.375  100.000    11522\n",
            " 14   1043.542    93.670  16748.375  83.992  74.292  100.000    11766\n",
            " 15    926.876    93.700  15727.938  84.183  74.572  100.000    11931\n",
            " 16    848.805    93.680  15002.112  84.059  74.427  100.000    11750\n",
            " 17    857.415    93.760  14686.168  84.075  74.465  100.000    11724\n",
            " 18    775.277    93.750  14028.872  84.091  74.603  100.000    11890\n",
            " 19    651.078    93.680  13698.526  84.215  74.794  100.000    11932\n",
            " 20    672.552    93.670  13036.999  84.356  74.879  100.000    11724\n",
            " 21    590.244    93.670  12162.862  84.468  75.048  100.000    11851\n",
            " 22    593.722    93.680  12494.905  84.441  75.122  100.000    11910\n",
            " 23    582.541    93.660  12110.757  84.351  75.032  100.000    11544\n",
            " 24    514.448    93.690  11635.750  84.232  74.879  100.000    11984\n",
            " 25    491.457    93.640  10942.966  84.226  74.816  100.000    12106\n",
            " 26    521.324    93.660  10958.952  84.232  74.779  100.000    12112\n",
            " 27    507.717    93.650  10907.860  84.255  74.790  100.000    11754\n",
            " 28    485.186    93.660  10149.477  84.143  74.666  100.000    11411\n",
            " 29    507.038    93.720  10331.116  84.165  74.644  100.000    11740\n",
            " 30    477.966    93.700   9649.121  84.300  74.891  100.000    11300\n",
            "\u001b[38;5;2m✔ Saved model to output directory\u001b[0m\n",
            "models/model-final\n",
            "\u001b[2K\u001b[38;5;2m✔ Created best model\u001b[0m\n",
            "models/model-best\n"
          ],
          "name": "stdout"
        }
      ]
    },
    {
      "cell_type": "code",
      "metadata": {
        "id": "v-mru_VeiXsG",
        "colab": {
          "base_uri": "https://localhost:8080/",
          "height": 102
        },
        "outputId": "9ae0f1bf-e5d8-4e95-fd5c-bd9e2d981397"
      },
      "source": [
        "!mkdir modelout\n",
        "!python -m spacy package --meta meta.json /content/models/model-best modelout"
      ],
      "execution_count": null,
      "outputs": [
        {
          "output_type": "stream",
          "text": [
            "\u001b[38;5;2m✔ Loaded meta.json from file\u001b[0m\n",
            "meta.json\n",
            "\u001b[38;5;2m✔ Successfully created package 'ga_idt_lg-1.0.0'\u001b[0m\n",
            "modelout/ga_idt_lg-1.0.0\n",
            "To build the package, run `python setup.py sdist` in this directory.\n"
          ],
          "name": "stdout"
        }
      ]
    },
    {
      "cell_type": "code",
      "metadata": {
        "id": "TA059DygwqG8",
        "colab": {
          "base_uri": "https://localhost:8080/",
          "height": 850
        },
        "outputId": "88e8232b-31ba-4462-89aa-7b4728297754"
      },
      "source": [
        "import os\n",
        "os.chdir('/content/modelout/ga_idt_lg-1.0.0')\n",
        "!python setup.py sdist"
      ],
      "execution_count": null,
      "outputs": [
        {
          "output_type": "stream",
          "text": [
            "running sdist\n",
            "running egg_info\n",
            "creating ga_idt_lg.egg-info\n",
            "writing ga_idt_lg.egg-info/PKG-INFO\n",
            "writing dependency_links to ga_idt_lg.egg-info/dependency_links.txt\n",
            "writing requirements to ga_idt_lg.egg-info/requires.txt\n",
            "writing top-level names to ga_idt_lg.egg-info/top_level.txt\n",
            "writing manifest file 'ga_idt_lg.egg-info/SOURCES.txt'\n",
            "reading manifest file 'ga_idt_lg.egg-info/SOURCES.txt'\n",
            "reading manifest template 'MANIFEST.in'\n",
            "writing manifest file 'ga_idt_lg.egg-info/SOURCES.txt'\n",
            "warning: sdist: standard file not found: should have one of README, README.rst, README.txt, README.md\n",
            "\n",
            "running check\n",
            "creating ga_idt_lg-1.0.0\n",
            "creating ga_idt_lg-1.0.0/ga_idt_lg\n",
            "creating ga_idt_lg-1.0.0/ga_idt_lg.egg-info\n",
            "creating ga_idt_lg-1.0.0/ga_idt_lg/ga_idt_lg-1.0.0\n",
            "creating ga_idt_lg-1.0.0/ga_idt_lg/ga_idt_lg-1.0.0/parser\n",
            "creating ga_idt_lg-1.0.0/ga_idt_lg/ga_idt_lg-1.0.0/tagger\n",
            "creating ga_idt_lg-1.0.0/ga_idt_lg/ga_idt_lg-1.0.0/vocab\n",
            "copying files to ga_idt_lg-1.0.0...\n",
            "copying MANIFEST.in -> ga_idt_lg-1.0.0\n",
            "copying meta.json -> ga_idt_lg-1.0.0\n",
            "copying setup.py -> ga_idt_lg-1.0.0\n",
            "copying ga_idt_lg/__init__.py -> ga_idt_lg-1.0.0/ga_idt_lg\n",
            "copying ga_idt_lg/meta.json -> ga_idt_lg-1.0.0/ga_idt_lg\n",
            "copying ga_idt_lg.egg-info/PKG-INFO -> ga_idt_lg-1.0.0/ga_idt_lg.egg-info\n",
            "copying ga_idt_lg.egg-info/SOURCES.txt -> ga_idt_lg-1.0.0/ga_idt_lg.egg-info\n",
            "copying ga_idt_lg.egg-info/dependency_links.txt -> ga_idt_lg-1.0.0/ga_idt_lg.egg-info\n",
            "copying ga_idt_lg.egg-info/not-zip-safe -> ga_idt_lg-1.0.0/ga_idt_lg.egg-info\n",
            "copying ga_idt_lg.egg-info/requires.txt -> ga_idt_lg-1.0.0/ga_idt_lg.egg-info\n",
            "copying ga_idt_lg.egg-info/top_level.txt -> ga_idt_lg-1.0.0/ga_idt_lg.egg-info\n",
            "copying ga_idt_lg/ga_idt_lg-1.0.0/meta.json -> ga_idt_lg-1.0.0/ga_idt_lg/ga_idt_lg-1.0.0\n",
            "copying ga_idt_lg/ga_idt_lg-1.0.0/tokenizer -> ga_idt_lg-1.0.0/ga_idt_lg/ga_idt_lg-1.0.0\n",
            "copying ga_idt_lg/ga_idt_lg-1.0.0/parser/cfg -> ga_idt_lg-1.0.0/ga_idt_lg/ga_idt_lg-1.0.0/parser\n",
            "copying ga_idt_lg/ga_idt_lg-1.0.0/parser/model -> ga_idt_lg-1.0.0/ga_idt_lg/ga_idt_lg-1.0.0/parser\n",
            "copying ga_idt_lg/ga_idt_lg-1.0.0/parser/moves -> ga_idt_lg-1.0.0/ga_idt_lg/ga_idt_lg-1.0.0/parser\n",
            "copying ga_idt_lg/ga_idt_lg-1.0.0/tagger/cfg -> ga_idt_lg-1.0.0/ga_idt_lg/ga_idt_lg-1.0.0/tagger\n",
            "copying ga_idt_lg/ga_idt_lg-1.0.0/tagger/model -> ga_idt_lg-1.0.0/ga_idt_lg/ga_idt_lg-1.0.0/tagger\n",
            "copying ga_idt_lg/ga_idt_lg-1.0.0/tagger/tag_map -> ga_idt_lg-1.0.0/ga_idt_lg/ga_idt_lg-1.0.0/tagger\n",
            "copying ga_idt_lg/ga_idt_lg-1.0.0/vocab/key2row -> ga_idt_lg-1.0.0/ga_idt_lg/ga_idt_lg-1.0.0/vocab\n",
            "copying ga_idt_lg/ga_idt_lg-1.0.0/vocab/lexemes.bin -> ga_idt_lg-1.0.0/ga_idt_lg/ga_idt_lg-1.0.0/vocab\n",
            "copying ga_idt_lg/ga_idt_lg-1.0.0/vocab/strings.json -> ga_idt_lg-1.0.0/ga_idt_lg/ga_idt_lg-1.0.0/vocab\n",
            "copying ga_idt_lg/ga_idt_lg-1.0.0/vocab/vectors -> ga_idt_lg-1.0.0/ga_idt_lg/ga_idt_lg-1.0.0/vocab\n",
            "Writing ga_idt_lg-1.0.0/setup.cfg\n",
            "creating dist\n",
            "Creating tar archive\n",
            "removing 'ga_idt_lg-1.0.0' (and everything under it)\n"
          ],
          "name": "stdout"
        }
      ]
    },
    {
      "cell_type": "code",
      "metadata": {
        "id": "CoEbpnA-61DJ",
        "colab": {
          "base_uri": "https://localhost:8080/",
          "height": 1000
        },
        "outputId": "60b28d3e-a9c0-4dbd-b258-f1f56612a7de"
      },
      "source": [
        "!cat /content/models/model-best/meta.json"
      ],
      "execution_count": null,
      "outputs": [
        {
          "output_type": "stream",
          "text": [
            "{\n",
            "  \"lang\":\"ga\",\n",
            "  \"name\":\"model\",\n",
            "  \"version\":\"0.0.0\",\n",
            "  \"spacy_version\":\">=2.2.4\",\n",
            "  \"description\":\"\",\n",
            "  \"author\":\"\",\n",
            "  \"email\":\"\",\n",
            "  \"url\":\"\",\n",
            "  \"license\":\"\",\n",
            "  \"vectors\":{\n",
            "    \"width\":300,\n",
            "    \"vectors\":316836,\n",
            "    \"keys\":316836,\n",
            "    \"name\":\"ga_model.vectors\"\n",
            "  },\n",
            "  \"pipeline\":[\n",
            "    \"tagger\",\n",
            "    \"parser\"\n",
            "  ],\n",
            "  \"factories\":{\n",
            "    \"tagger\":\"tagger\",\n",
            "    \"parser\":\"parser\"\n",
            "  },\n",
            "  \"labels\":{\n",
            "    \"tagger\":[\n",
            "      \"!\",\n",
            "      \".\",\n",
            "      \"...\",\n",
            "      \"?\",\n",
            "      \"Abr\",\n",
            "      \"Ad\",\n",
            "      \"Adj\",\n",
            "      \"Art\",\n",
            "      \"CM\",\n",
            "      \"CU\",\n",
            "      \"Cmp\",\n",
            "      \"Cmpd\",\n",
            "      \"CmpdNoGen\",\n",
            "      \"Comp\",\n",
            "      \"Cond\",\n",
            "      \"Coord\",\n",
            "      \"Cop\",\n",
            "      \"Cp\",\n",
            "      \"Deg\",\n",
            "      \"Dem\",\n",
            "      \"Det\",\n",
            "      \"Dir\",\n",
            "      \"Foreign\",\n",
            "      \"FutInd\",\n",
            "      \"Gn\",\n",
            "      \"Idf\",\n",
            "      \"Imper\",\n",
            "      \"Inf\",\n",
            "      \"Item\",\n",
            "      \"Itj\",\n",
            "      \"Its\",\n",
            "      \"Loc\",\n",
            "      \"Nm\",\n",
            "      \"Noun\",\n",
            "      \"Num\",\n",
            "      \"PastImp\",\n",
            "      \"PastInd\",\n",
            "      \"Pat\",\n",
            "      \"Pers\",\n",
            "      \"Poss\",\n",
            "      \"Prep\",\n",
            "      \"PresImp\",\n",
            "      \"PresInd\",\n",
            "      \"PresSubj\",\n",
            "      \"Pron\",\n",
            "      \"Punct\",\n",
            "      \"Q\",\n",
            "      \"Ref\",\n",
            "      \"Rel\",\n",
            "      \"Simp\",\n",
            "      \"Subord\",\n",
            "      \"Subst\",\n",
            "      \"Sup\",\n",
            "      \"Temp\",\n",
            "      \"Unknown\",\n",
            "      \"VD\",\n",
            "      \"VI\",\n",
            "      \"VT\",\n",
            "      \"VTI\",\n",
            "      \"Vb\",\n",
            "      \"Voc\",\n",
            "      \"Web\",\n",
            "      \"_SP\",\n",
            "      \"cionn\"\n",
            "    ],\n",
            "    \"parser\":[\n",
            "      \"ROOT\",\n",
            "      \"acl:relcl\",\n",
            "      \"advcl\",\n",
            "      \"advmod\",\n",
            "      \"amod\",\n",
            "      \"appos\",\n",
            "      \"case\",\n",
            "      \"cc\",\n",
            "      \"ccomp\",\n",
            "      \"compound\",\n",
            "      \"conj\",\n",
            "      \"cop\",\n",
            "      \"csubj:cleft\",\n",
            "      \"csubj:cop\",\n",
            "      \"dep\",\n",
            "      \"det\",\n",
            "      \"fixed\",\n",
            "      \"flat\",\n",
            "      \"flat:name\",\n",
            "      \"mark\",\n",
            "      \"mark:prt\",\n",
            "      \"nmod\",\n",
            "      \"nmod:poss\",\n",
            "      \"nsubj\",\n",
            "      \"nummod\",\n",
            "      \"obj\",\n",
            "      \"obl\",\n",
            "      \"obl:prep\",\n",
            "      \"obl:tmod\",\n",
            "      \"parataxis\",\n",
            "      \"punct\",\n",
            "      \"xcomp\",\n",
            "      \"xcomp:pred\"\n",
            "    ]\n",
            "  },\n",
            "  \"accuracy\":{\n",
            "    \"tags_acc\":92.23,\n",
            "    \"token_acc\":100.0,\n",
            "    \"las\":68.3640850205,\n",
            "    \"uas\":80.5899837362,\n",
            "    \"las_per_type\":{\n",
            "      \"nummod\":{\n",
            "        \"p\":70.0,\n",
            "        \"r\":61.5384615385,\n",
            "        \"f\":65.4970760234\n",
            "      },\n",
            "      \"root\":{\n",
            "        \"p\":88.0266075388,\n",
            "        \"r\":88.0266075388,\n",
            "        \"f\":88.0266075388\n",
            "      },\n",
            "      \"case\":{\n",
            "        \"p\":88.8535031847,\n",
            "        \"r\":91.7763157895,\n",
            "        \"f\":90.2912621359\n",
            "      },\n",
            "      \"obl\":{\n",
            "        \"p\":47.0031545741,\n",
            "        \"r\":54.9815498155,\n",
            "        \"f\":50.6802721088\n",
            "      },\n",
            "      \"mark:prt\":{\n",
            "        \"p\":71.1538461538,\n",
            "        \"r\":81.9620253165,\n",
            "        \"f\":76.1764705882\n",
            "      },\n",
            "      \"ccomp\":{\n",
            "        \"p\":40.2777777778,\n",
            "        \"r\":47.5409836066,\n",
            "        \"f\":43.6090225564\n",
            "      },\n",
            "      \"nsubj\":{\n",
            "        \"p\":75.1824817518,\n",
            "        \"r\":79.7213622291,\n",
            "        \"f\":77.3854244929\n",
            "      },\n",
            "      \"obj\":{\n",
            "        \"p\":55.5555555556,\n",
            "        \"r\":49.2957746479,\n",
            "        \"f\":52.2388059701\n",
            "      },\n",
            "      \"nmod\":{\n",
            "        \"p\":52.912142152,\n",
            "        \"r\":54.8618219038,\n",
            "        \"f\":53.8693467337\n",
            "      },\n",
            "      \"mark\":{\n",
            "        \"p\":82.7715355805,\n",
            "        \"r\":72.6973684211,\n",
            "        \"f\":77.408056042\n",
            "      },\n",
            "      \"xcomp\":{\n",
            "        \"p\":60.4743083004,\n",
            "        \"r\":65.3846153846,\n",
            "        \"f\":62.8336755647\n",
            "      },\n",
            "      \"acl:relcl\":{\n",
            "        \"p\":47.2602739726,\n",
            "        \"r\":53.488372093,\n",
            "        \"f\":50.1818181818\n",
            "      },\n",
            "      \"xcomp:pred\":{\n",
            "        \"p\":44.0476190476,\n",
            "        \"r\":59.6774193548,\n",
            "        \"f\":50.6849315068\n",
            "      },\n",
            "      \"amod\":{\n",
            "        \"p\":57.5438596491,\n",
            "        \"r\":54.3046357616,\n",
            "        \"f\":55.8773424191\n",
            "      },\n",
            "      \"det\":{\n",
            "        \"p\":92.8480204342,\n",
            "        \"r\":94.0491591203,\n",
            "        \"f\":93.4447300771\n",
            "      },\n",
            "      \"csubj:cleft\":{\n",
            "        \"p\":47.2222222222,\n",
            "        \"r\":27.4193548387,\n",
            "        \"f\":34.693877551\n",
            "      },\n",
            "      \"obl:prep\":{\n",
            "        \"p\":77.6041666667,\n",
            "        \"r\":65.6387665198,\n",
            "        \"f\":71.1217183771\n",
            "      },\n",
            "      \"advcl\":{\n",
            "        \"p\":54.4,\n",
            "        \"r\":49.2753623188,\n",
            "        \"f\":51.711026616\n",
            "      },\n",
            "      \"parataxis\":{\n",
            "        \"p\":42.4242424242,\n",
            "        \"r\":27.4509803922,\n",
            "        \"f\":33.3333333333\n",
            "      },\n",
            "      \"nmod:poss\":{\n",
            "        \"p\":73.4939759036,\n",
            "        \"r\":75.3086419753,\n",
            "        \"f\":74.3902439024\n",
            "      },\n",
            "      \"cc\":{\n",
            "        \"p\":78.9473684211,\n",
            "        \"r\":79.5454545455,\n",
            "        \"f\":79.2452830189\n",
            "      },\n",
            "      \"conj\":{\n",
            "        \"p\":42.7609427609,\n",
            "        \"r\":42.0529801325,\n",
            "        \"f\":42.4040066778\n",
            "      },\n",
            "      \"dep\":{\n",
            "        \"p\":0.0,\n",
            "        \"r\":0.0,\n",
            "        \"f\":0.0\n",
            "      },\n",
            "      \"compound\":{\n",
            "        \"p\":75.0,\n",
            "        \"r\":26.0869565217,\n",
            "        \"f\":38.7096774194\n",
            "      },\n",
            "      \"flat\":{\n",
            "        \"p\":64.1025641026,\n",
            "        \"r\":64.9350649351,\n",
            "        \"f\":64.5161290323\n",
            "      },\n",
            "      \"cop\":{\n",
            "        \"p\":69.3251533742,\n",
            "        \"r\":70.625,\n",
            "        \"f\":69.9690402477\n",
            "      },\n",
            "      \"flat:name\":{\n",
            "        \"p\":63.4782608696,\n",
            "        \"r\":51.4084507042,\n",
            "        \"f\":56.8093385214\n",
            "      },\n",
            "      \"obl:tmod\":{\n",
            "        \"p\":66.6666666667,\n",
            "        \"r\":2.7397260274,\n",
            "        \"f\":5.2631578947\n",
            "      },\n",
            "      \"advmod\":{\n",
            "        \"p\":66.2745098039,\n",
            "        \"r\":65.0,\n",
            "        \"f\":65.6310679612\n",
            "      },\n",
            "      \"appos\":{\n",
            "        \"p\":21.9512195122,\n",
            "        \"r\":20.9302325581,\n",
            "        \"f\":21.4285714286\n",
            "      },\n",
            "      \"flat:foreign\":{\n",
            "        \"p\":0.0,\n",
            "        \"r\":0.0,\n",
            "        \"f\":0.0\n",
            "      },\n",
            "      \"fixed\":{\n",
            "        \"p\":74.7663551402,\n",
            "        \"r\":61.0687022901,\n",
            "        \"f\":67.2268907563\n",
            "      },\n",
            "      \"csubj:cop\":{\n",
            "        \"p\":62.5,\n",
            "        \"r\":55.5555555556,\n",
            "        \"f\":58.8235294118\n",
            "      },\n",
            "      \"discourse\":{\n",
            "        \"p\":0.0,\n",
            "        \"r\":0.0,\n",
            "        \"f\":0.0\n",
            "      },\n",
            "      \"case:voc\":{\n",
            "        \"p\":0.0,\n",
            "        \"r\":0.0,\n",
            "        \"f\":0.0\n",
            "      },\n",
            "      \"vocative\":{\n",
            "        \"p\":0.0,\n",
            "        \"r\":0.0,\n",
            "        \"f\":0.0\n",
            "      }\n",
            "    }\n",
            "  },\n",
            "  \"speed\":{\n",
            "    \"cpu\":13038.7132631094,\n",
            "    \"gpu\":null,\n",
            "    \"nwords\":10000\n",
            "  }\n",
            "}"
          ],
          "name": "stdout"
        }
      ]
    },
    {
      "cell_type": "code",
      "metadata": {
        "id": "9T11o3GpuhSx"
      },
      "source": [
        "import os\n",
        "os.chdir('/content')\n",
        "!rm -rf modelout\n",
        "!mkdir modelout\n",
        "!rm meta.json"
      ],
      "execution_count": null,
      "outputs": []
    },
    {
      "cell_type": "code",
      "metadata": {
        "id": "z2Vkd8m1vqG9",
        "colab": {
          "base_uri": "https://localhost:8080/",
          "height": 204
        },
        "outputId": "a7d33d1d-29f6-4ace-eea0-7a969b4360fd"
      },
      "source": [
        "!cat meta.json"
      ],
      "execution_count": null,
      "outputs": [
        {
          "output_type": "stream",
          "text": [
            "{\n",
            "  \"name\": \"ga_idt_sm\",\n",
            "  \"lang\": \"ga\",\n",
            "  \"version\": \"1.0.0\",\n",
            "  \"spacy_version\": \">=2.0.0,<3.0.0\",\n",
            "  \"description\": \"Irish model for spaCy trained on IDT\",\n",
            "  \"author\": \"Jim O'Regan\",\n",
            "  \"email\": \"jaoregan@tcd.ie\",\n",
            "  \"license\": \"CC BY-SA 3.0\",\n",
            "  \"pipeline\": [\"tagger\", \"parser\", \"ner\"]\n",
            "}\n"
          ],
          "name": "stdout"
        }
      ]
    }
  ]
}