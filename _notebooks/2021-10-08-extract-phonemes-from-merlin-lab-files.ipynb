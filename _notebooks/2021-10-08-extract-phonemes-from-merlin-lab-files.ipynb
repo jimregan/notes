{
 "cells": [
  {
   "cell_type": "markdown",
   "metadata": {},
   "source": [
    "# Extract phonemes from merlin lab files\n",
    "\n",
    "> \"🤷 It came up\"\n",
    "\n",
    "- toc: false\n",
    "- branch: master\n",
    "- hidden: false\n",
    "- categories: [lab, merlin]"
   ]
  },
  {
   "cell_type": "code",
   "execution_count": null,
   "metadata": {},
   "outputs": [],
   "source": [
    "def break_phones(string):\n",
    "    i = 0\n",
    "    mark = 0\n",
    "    toks = []\n",
    "    pieces = {\n",
    "        0: '^',\n",
    "        1: '-',\n",
    "        2: '+',\n",
    "        3: '=',\n",
    "        4: '@'\n",
    "    }\n",
    "    piece = 0\n",
    "    while i <= len(string):\n",
    "        if string[i:i+1] == pieces[piece]:\n",
    "            if piece < 4:\n",
    "                toks.append(string[mark:i])\n",
    "            else:\n",
    "                if string[i+1:i+2].isdigit():\n",
    "                    toks.append(string[mark:i])\n",
    "                else:\n",
    "                    toks.append(\"@\")\n",
    "                break\n",
    "            piece += 1\n",
    "            mark = i + 1\n",
    "        i += 1\n",
    "    return toks"
   ]
  },
  {
   "cell_type": "code",
   "execution_count": null,
   "metadata": {},
   "outputs": [],
   "source": [
    "assert break_phones('nnj^ii-lj+sil=@@3_2/') == ['nnj', 'ii', 'lj', 'sil', '@']\n",
    "assert break_phones(\"x^sil-nnj+ii=lj@1_4\") == ['x', 'sil', 'nnj', 'ii', 'lj']\n",
    "assert break_phones(\"oo^r-sil+x=x@1_1\") == ['oo', 'r', 'sil', 'x', 'x']"
   ]
  },
  {
   "cell_type": "code",
   "execution_count": null,
   "metadata": {},
   "outputs": [],
   "source": [
    "def read_phonemes_lab(filename):\n",
    "    phn_bits = []\n",
    "    with open(filename, \"r\") as f:\n",
    "        for line in f.readlines():\n",
    "            _, _, phones = line.split(' ')\n",
    "            phones = break_phones(phones)\n",
    "            phn_bits.append(phones)\n",
    "    return phn_bits        "
   ]
  },
  {
   "cell_type": "code",
   "execution_count": null,
   "metadata": {},
   "outputs": [],
   "source": [
    "# Dumb way of doing this, but it works\n",
    "def check_len(phone_list):\n",
    "    length = str(len(phone_list))\n",
    "    return (length[-1] == \"0\" or length[-1] == \"5\")"
   ]
  },
  {
   "cell_type": "code",
   "execution_count": null,
   "metadata": {},
   "outputs": [],
   "source": [
    "def prune_phones(phone_list):\n",
    "    if not check_len(phone_list):\n",
    "        return []\n",
    "    return [a[2] for a in phone_list[::5]]"
   ]
  },
  {
   "cell_type": "code",
   "execution_count": null,
   "metadata": {},
   "outputs": [],
   "source": [
    "lab_phonemes_raw = {a: read_phonemes_lab(b) for (a, b) in label_files.items()}"
   ]
  },
  {
   "cell_type": "code",
   "execution_count": null,
   "metadata": {},
   "outputs": [],
   "source": [
    "lab_phonemes = {a: prune_phones(b) for (a, b) in lab_phonemes_raw.items()}"
   ]
  }
 ],
 "metadata": {
  "kernelspec": {
   "display_name": "Python 3",
   "language": "python",
   "name": "python3"
  },
  "language_info": {
   "codemirror_mode": {
    "name": "ipython",
    "version": 3
   },
   "file_extension": ".py",
   "mimetype": "text/x-python",
   "name": "python",
   "nbconvert_exporter": "python",
   "pygments_lexer": "ipython3",
   "version": "3.6.9"
  }
 },
 "nbformat": 4,
 "nbformat_minor": 2
}
