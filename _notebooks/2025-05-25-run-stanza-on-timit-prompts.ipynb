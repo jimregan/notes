{
 "cells": [
  {
   "cell_type": "markdown",
   "id": "12c93a5c",
   "metadata": {},
   "source": [
    "# Run Stanza on TIMIT prompts\n",
    "\n",
    "> \"In Kaggle\"\n",
    "\n",
    "- categories: [stanza, timit, kaggle]\n",
    "- branch: master\n",
    "- hidden: true\n",
    "- badges: true"
   ]
  },
  {
   "cell_type": "markdown",
   "id": "2921a9ed",
   "metadata": {},
   "source": [
    "[original](https://www.kaggle.com/code/jimregan/notebook13b782bca3)"
   ]
  },
  {
   "cell_type": "code",
   "execution_count": 1,
   "id": "72b2fda9",
   "metadata": {
    "_cell_guid": "b1076dfc-b9ad-4769-8c92-a6c4dae69d19",
    "_uuid": "8f2839f25d086af736a60e9eeb907d3b93b6e0e5",
    "execution": {
     "iopub.execute_input": "2025-06-16T15:33:07.503213Z",
     "iopub.status.busy": "2025-06-16T15:33:07.502904Z",
     "iopub.status.idle": "2025-06-16T15:33:07.510365Z",
     "shell.execute_reply": "2025-06-16T15:33:07.509629Z"
    },
    "papermill": {
     "duration": 0.012716,
     "end_time": "2025-06-16T15:33:07.511888",
     "exception": false,
     "start_time": "2025-06-16T15:33:07.499172",
     "status": "completed"
    },
    "tags": []
   },
   "outputs": [],
   "source": [
    "PROMPTS = \"/kaggle/input/darpa-timit-acousticphonetic-continuous-speech/PROMPTS.TXT\""
   ]
  },
  {
   "cell_type": "code",
   "execution_count": 2,
   "id": "da0f9cc7",
   "metadata": {
    "execution": {
     "iopub.execute_input": "2025-06-16T15:33:07.517467Z",
     "iopub.status.busy": "2025-06-16T15:33:07.517177Z",
     "iopub.status.idle": "2025-06-16T15:34:36.281437Z",
     "shell.execute_reply": "2025-06-16T15:34:36.280317Z"
    },
    "papermill": {
     "duration": 88.769141,
     "end_time": "2025-06-16T15:34:36.283306",
     "exception": false,
     "start_time": "2025-06-16T15:33:07.514165",
     "status": "completed"
    },
    "tags": []
   },
   "outputs": [],
   "source": [
    "%%capture\n",
    "!pip install stanza"
   ]
  },
  {
   "cell_type": "code",
   "execution_count": 3,
   "id": "c15251a7",
   "metadata": {
    "execution": {
     "iopub.execute_input": "2025-06-16T15:34:36.289361Z",
     "iopub.status.busy": "2025-06-16T15:34:36.289035Z",
     "iopub.status.idle": "2025-06-16T15:34:36.307956Z",
     "shell.execute_reply": "2025-06-16T15:34:36.307047Z"
    },
    "papermill": {
     "duration": 0.024121,
     "end_time": "2025-06-16T15:34:36.309661",
     "exception": false,
     "start_time": "2025-06-16T15:34:36.285540",
     "status": "completed"
    },
    "tags": []
   },
   "outputs": [],
   "source": [
    "lines = {}\n",
    "\n",
    "with open(PROMPTS) as inf:\n",
    "    for line in inf.readlines():\n",
    "        line = line.strip()\n",
    "        if line.startswith(\";\"):\n",
    "            continue\n",
    "        end = line.rfind(\")\")\n",
    "        start = line.rfind(\"(\")\n",
    "        sent_id = line[start+1:end]\n",
    "        text = line[:start].strip()\n",
    "        lines[sent_id] = text"
   ]
  },
  {
   "cell_type": "code",
   "execution_count": 4,
   "id": "e1fe11c5",
   "metadata": {
    "execution": {
     "iopub.execute_input": "2025-06-16T15:34:36.314854Z",
     "iopub.status.busy": "2025-06-16T15:34:36.314460Z",
     "iopub.status.idle": "2025-06-16T15:34:56.189285Z",
     "shell.execute_reply": "2025-06-16T15:34:56.188154Z"
    },
    "papermill": {
     "duration": 19.879655,
     "end_time": "2025-06-16T15:34:56.191317",
     "exception": false,
     "start_time": "2025-06-16T15:34:36.311662",
     "status": "completed"
    },
    "tags": []
   },
   "outputs": [],
   "source": [
    "import stanza\n",
    "stanza.download(\"en\", processors=\"tokenize,pos,lemma,depparse\", verbose=False)\n",
    "\n",
    "nlp = stanza.Pipeline(\n",
    "    lang=\"en\",\n",
    "    processors=\"tokenize,pos,lemma,depparse\",\n",
    "    # Let Stanza decide sentences & tokens\n",
    "    tokenize_pretokenized=False,\n",
    "    no_ssplit=True,\n",
    "    verbose=False\n",
    ")"
   ]
  },
  {
   "cell_type": "code",
   "execution_count": 5,
   "id": "adc8a7e0",
   "metadata": {
    "execution": {
     "iopub.execute_input": "2025-06-16T15:34:56.196929Z",
     "iopub.status.busy": "2025-06-16T15:34:56.196347Z",
     "iopub.status.idle": "2025-06-16T15:42:56.568811Z",
     "shell.execute_reply": "2025-06-16T15:42:56.566602Z"
    },
    "papermill": {
     "duration": 480.38348,
     "end_time": "2025-06-16T15:42:56.577018",
     "exception": false,
     "start_time": "2025-06-16T15:34:56.193538",
     "status": "completed"
    },
    "tags": []
   },
   "outputs": [],
   "source": [
    "trees = {}\n",
    "\n",
    "for item in lines:\n",
    "    trees[item] = nlp(lines[item])"
   ]
  },
  {
   "cell_type": "code",
   "execution_count": 6,
   "id": "bf0e562f",
   "metadata": {
    "execution": {
     "iopub.execute_input": "2025-06-16T15:42:56.593583Z",
     "iopub.status.busy": "2025-06-16T15:42:56.592976Z",
     "iopub.status.idle": "2025-06-16T15:42:56.884701Z",
     "shell.execute_reply": "2025-06-16T15:42:56.883601Z"
    },
    "papermill": {
     "duration": 0.299116,
     "end_time": "2025-06-16T15:42:56.886478",
     "exception": false,
     "start_time": "2025-06-16T15:42:56.587362",
     "status": "completed"
    },
    "tags": []
   },
   "outputs": [],
   "source": [
    "with open(\"timit.conll\", \"w\") as outf:\n",
    "    for item in trees:\n",
    "        outf.write(f\"# timit_id = {item}\\n\")\n",
    "        outf.write(\"{:C}\".format(trees[item]))\n",
    "        outf.write(\"\\n\\n\")"
   ]
  }
 ],
 "metadata": {
  "kaggle": {
   "accelerator": "none",
   "dataSources": [
    {
     "datasetId": 212391,
     "sourceId": 471627,
     "sourceType": "datasetVersion"
    }
   ],
   "dockerImageVersionId": 31040,
   "isGpuEnabled": false,
   "isInternetEnabled": true,
   "language": "python",
   "sourceType": "notebook"
  },
  "kernelspec": {
   "display_name": "Python 3",
   "language": "python",
   "name": "python3"
  },
  "language_info": {
   "codemirror_mode": {
    "name": "ipython",
    "version": 3
   },
   "file_extension": ".py",
   "mimetype": "text/x-python",
   "name": "python",
   "nbconvert_exporter": "python",
   "pygments_lexer": "ipython3",
   "version": "3.11.11"
  },
  "papermill": {
   "default_parameters": {},
   "duration": 597.491795,
   "end_time": "2025-06-16T15:43:00.139257",
   "environment_variables": {},
   "exception": null,
   "input_path": "__notebook__.ipynb",
   "output_path": "__notebook__.ipynb",
   "parameters": {},
   "start_time": "2025-06-16T15:33:02.647462",
   "version": "2.6.0"
  }
 },
 "nbformat": 4,
 "nbformat_minor": 5
}
