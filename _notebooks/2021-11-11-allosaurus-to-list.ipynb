{
 "cells": [
  {
   "cell_type": "markdown",
   "metadata": {},
   "source": [
    "# Allosaurus to list\n",
    "\n",
    "> \"Started doing something, forgot what\"\n",
    "\n",
    "- toc: false\n",
    "- branch: master\n",
    "- hidden: true\n",
    "- categories: [allosaurus]"
   ]
  },
  {
   "cell_type": "code",
   "execution_count": 8,
   "metadata": {},
   "outputs": [],
   "source": [
    "def allosaurus_to_list(filename):\n",
    "    output = []\n",
    "    with open(filename) as f:\n",
    "        for l in f.readlines():\n",
    "            line = l.strip().split(\" \")\n",
    "            output.append([line[0], line[2]])\n",
    "    return output"
   ]
  },
  {
   "cell_type": "code",
   "execution_count": 2,
   "metadata": {},
   "outputs": [
    {
     "name": "stdout",
     "output_type": "stream",
     "text": [
      "Writing test.txt\n"
     ]
    }
   ],
   "source": [
    "%%writefile test.txt\n",
    "0.510 0.045 n\n",
    "0.600 0.045 i\n",
    "0.900 0.045 a\n",
    "0.990 0.045 l\n",
    "1.050 0.045 d\n",
    "1.110 0.045 pʲ\n",
    "1.170 0.045 a\n",
    "1.290 0.045 j\n",
    "1.410 0.045 d"
   ]
  },
  {
   "cell_type": "code",
   "execution_count": 9,
   "metadata": {},
   "outputs": [],
   "source": [
    "l = allosaurus_to_list(\"test.txt\")"
   ]
  },
  {
   "cell_type": "code",
   "execution_count": 11,
   "metadata": {},
   "outputs": [],
   "source": [
    "starts = ['0.00'] + [f[0] for f in l[0:-1]]"
   ]
  },
  {
   "cell_type": "code",
   "execution_count": 12,
   "metadata": {},
   "outputs": [
    {
     "data": {
      "text/plain": [
       "['0.00',\n",
       " '0.510',\n",
       " '0.600',\n",
       " '0.900',\n",
       " '0.990',\n",
       " '1.050',\n",
       " '1.110',\n",
       " '1.170',\n",
       " '1.290']"
      ]
     },
     "execution_count": 12,
     "metadata": {},
     "output_type": "execute_result"
    }
   ],
   "source": [
    "massaged = "
   ]
  }
 ],
 "metadata": {
  "kernelspec": {
   "display_name": "Python 3",
   "language": "python",
   "name": "python3"
  },
  "language_info": {
   "codemirror_mode": {
    "name": "ipython",
    "version": 3
   },
   "file_extension": ".py",
   "mimetype": "text/x-python",
   "name": "python",
   "nbconvert_exporter": "python",
   "pygments_lexer": "ipython3",
   "version": "3.6.9"
  }
 },
 "nbformat": 4,
 "nbformat_minor": 2
}
