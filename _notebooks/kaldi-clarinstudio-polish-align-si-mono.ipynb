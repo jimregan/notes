{
 "cells": [
  {
   "cell_type": "code",
   "execution_count": 1,
   "id": "vulnerable-reflection",
   "metadata": {
    "execution": {
     "iopub.execute_input": "2021-05-24T10:51:52.249836Z",
     "iopub.status.busy": "2021-05-24T10:51:52.247997Z",
     "iopub.status.idle": "2021-05-24T10:51:52.262770Z",
     "shell.execute_reply": "2021-05-24T10:51:52.261977Z",
     "shell.execute_reply.started": "2021-05-23T22:42:59.94366Z"
    },
    "papermill": {
     "duration": 0.033854,
     "end_time": "2021-05-24T10:51:52.262981",
     "exception": false,
     "start_time": "2021-05-24T10:51:52.229127",
     "status": "completed"
    },
    "tags": []
   },
   "outputs": [
    {
     "name": "stdout",
     "output_type": "stream",
     "text": [
      "/opt\n"
     ]
    }
   ],
   "source": [
    "%cd /opt"
   ]
  },
  {
   "cell_type": "code",
   "execution_count": 2,
   "id": "relative-establishment",
   "metadata": {
    "_cell_guid": "b1076dfc-b9ad-4769-8c92-a6c4dae69d19",
    "_uuid": "8f2839f25d086af736a60e9eeb907d3b93b6e0e5",
    "execution": {
     "iopub.execute_input": "2021-05-24T10:51:52.294985Z",
     "iopub.status.busy": "2021-05-24T10:51:52.294303Z",
     "iopub.status.idle": "2021-05-24T10:52:32.457740Z",
     "shell.execute_reply": "2021-05-24T10:52:32.458292Z",
     "shell.execute_reply.started": "2021-05-23T22:43:43.503379Z"
    },
    "papermill": {
     "duration": 40.182479,
     "end_time": "2021-05-24T10:52:32.458500",
     "exception": false,
     "start_time": "2021-05-24T10:51:52.276021",
     "status": "completed"
    },
    "tags": []
   },
   "outputs": [],
   "source": [
    "%%capture\n",
    "!tar xvf /kaggle/input/extract-prebuilt-kaldi-from-docker/kaldi.tar"
   ]
  },
  {
   "cell_type": "code",
   "execution_count": 3,
   "id": "constitutional-indonesia",
   "metadata": {
    "execution": {
     "iopub.execute_input": "2021-05-24T10:52:32.486362Z",
     "iopub.status.busy": "2021-05-24T10:52:32.485732Z",
     "iopub.status.idle": "2021-05-24T10:52:32.492633Z",
     "shell.execute_reply": "2021-05-24T10:52:32.491988Z",
     "shell.execute_reply.started": "2021-05-23T22:44:51.747433Z"
    },
    "papermill": {
     "duration": 0.021798,
     "end_time": "2021-05-24T10:52:32.492773",
     "exception": false,
     "start_time": "2021-05-24T10:52:32.470975",
     "status": "completed"
    },
    "tags": []
   },
   "outputs": [
    {
     "name": "stdout",
     "output_type": "stream",
     "text": [
      "/opt/kaldi/egs\n"
     ]
    }
   ],
   "source": [
    "%cd kaldi/egs"
   ]
  },
  {
   "cell_type": "code",
   "execution_count": 4,
   "id": "independent-plaintiff",
   "metadata": {
    "execution": {
     "iopub.execute_input": "2021-05-24T10:52:32.526659Z",
     "iopub.status.busy": "2021-05-24T10:52:32.522290Z",
     "iopub.status.idle": "2021-05-24T10:52:38.294604Z",
     "shell.execute_reply": "2021-05-24T10:52:38.293454Z",
     "shell.execute_reply.started": "2021-05-23T22:44:55.283104Z"
    },
    "papermill": {
     "duration": 5.789283,
     "end_time": "2021-05-24T10:52:38.294769",
     "exception": false,
     "start_time": "2021-05-24T10:52:32.505486",
     "status": "completed"
    },
    "tags": []
   },
   "outputs": [
    {
     "name": "stdout",
     "output_type": "stream",
     "text": [
      "Cloning into 'ClarinStudioKaldi'...\r\n",
      "remote: Enumerating objects: 778, done.\u001b[K\r\n",
      "remote: Counting objects: 100% (3/3), done.\u001b[K\r\n",
      "remote: Compressing objects: 100% (3/3), done.\u001b[K\r\n",
      "remote: Total 778 (delta 0), reused 0 (delta 0), pack-reused 775\u001b[K\r\n",
      "Receiving objects: 100% (778/778), 35.26 MiB | 33.97 MiB/s, done.\r\n",
      "Resolving deltas: 100% (262/262), done.\r\n"
     ]
    }
   ],
   "source": [
    "!git clone https://github.com/danijel3/ClarinStudioKaldi"
   ]
  },
  {
   "cell_type": "code",
   "execution_count": 5,
   "id": "seventh-pleasure",
   "metadata": {
    "execution": {
     "iopub.execute_input": "2021-05-24T10:52:38.333586Z",
     "iopub.status.busy": "2021-05-24T10:52:38.332691Z",
     "iopub.status.idle": "2021-05-24T10:52:38.336407Z",
     "shell.execute_reply": "2021-05-24T10:52:38.336975Z",
     "shell.execute_reply.started": "2021-05-23T22:45:02.333219Z"
    },
    "papermill": {
     "duration": 0.026169,
     "end_time": "2021-05-24T10:52:38.337162",
     "exception": false,
     "start_time": "2021-05-24T10:52:38.310993",
     "status": "completed"
    },
    "tags": []
   },
   "outputs": [
    {
     "name": "stdout",
     "output_type": "stream",
     "text": [
      "/opt/kaldi/egs/ClarinStudioKaldi\n"
     ]
    }
   ],
   "source": [
    "%cd ClarinStudioKaldi"
   ]
  },
  {
   "cell_type": "code",
   "execution_count": 6,
   "id": "endangered-yahoo",
   "metadata": {
    "execution": {
     "iopub.execute_input": "2021-05-24T10:52:38.372686Z",
     "iopub.status.busy": "2021-05-24T10:52:38.372045Z",
     "iopub.status.idle": "2021-05-24T10:55:19.660868Z",
     "shell.execute_reply": "2021-05-24T10:55:19.661570Z",
     "shell.execute_reply.started": "2021-05-23T22:45:13.828183Z"
    },
    "papermill": {
     "duration": 161.308479,
     "end_time": "2021-05-24T10:55:19.661780",
     "exception": false,
     "start_time": "2021-05-24T10:52:38.353301",
     "status": "completed"
    },
    "tags": []
   },
   "outputs": [],
   "source": [
    "%%capture\n",
    "!conda install -c bioconda perl-perlio-gzip -y"
   ]
  },
  {
   "cell_type": "code",
   "execution_count": 7,
   "id": "interior-kinase",
   "metadata": {
    "execution": {
     "iopub.execute_input": "2021-05-24T10:55:19.698605Z",
     "iopub.status.busy": "2021-05-24T10:55:19.697626Z",
     "iopub.status.idle": "2021-05-24T10:55:19.701972Z",
     "shell.execute_reply": "2021-05-24T10:55:19.702501Z",
     "shell.execute_reply.started": "2021-05-23T22:48:01.867999Z"
    },
    "papermill": {
     "duration": 0.024307,
     "end_time": "2021-05-24T10:55:19.702680",
     "exception": false,
     "start_time": "2021-05-24T10:55:19.678373",
     "status": "completed"
    },
    "tags": []
   },
   "outputs": [],
   "source": [
    "import os\n",
    "os.environ['LD_LIBRARY_PATH'] = '/opt/conda/lib:/opt/kaldi/tools/openfst-1.6.7/lib:/opt/kaldi/src/lib'"
   ]
  },
  {
   "cell_type": "code",
   "execution_count": 8,
   "id": "collected-twelve",
   "metadata": {
    "execution": {
     "iopub.execute_input": "2021-05-24T10:55:19.738919Z",
     "iopub.status.busy": "2021-05-24T10:55:19.737850Z",
     "iopub.status.idle": "2021-05-24T10:55:21.203020Z",
     "shell.execute_reply": "2021-05-24T10:55:21.202434Z",
     "shell.execute_reply.started": "2021-05-23T22:48:01.876848Z"
    },
    "papermill": {
     "duration": 1.484261,
     "end_time": "2021-05-24T10:55:21.203186",
     "exception": false,
     "start_time": "2021-05-24T10:55:19.718925",
     "status": "completed"
    },
    "tags": []
   },
   "outputs": [],
   "source": [
    "!cat path.sh|sed -e 's/~\\/apps/\\/opt/' > tmp\n",
    "!mv tmp path.sh"
   ]
  },
  {
   "cell_type": "code",
   "execution_count": 9,
   "id": "neutral-single",
   "metadata": {
    "execution": {
     "iopub.execute_input": "2021-05-24T10:55:21.245277Z",
     "iopub.status.busy": "2021-05-24T10:55:21.241005Z",
     "iopub.status.idle": "2021-05-24T10:55:21.955094Z",
     "shell.execute_reply": "2021-05-24T10:55:21.955596Z",
     "shell.execute_reply.started": "2021-05-23T22:48:03.38233Z"
    },
    "papermill": {
     "duration": 0.736268,
     "end_time": "2021-05-24T10:55:21.955790",
     "exception": false,
     "start_time": "2021-05-24T10:55:21.219522",
     "status": "completed"
    },
    "tags": []
   },
   "outputs": [],
   "source": [
    "!echo > local_clarin/clarin_pl_clean.sh"
   ]
  },
  {
   "cell_type": "code",
   "execution_count": 10,
   "id": "combined-murder",
   "metadata": {
    "execution": {
     "iopub.execute_input": "2021-05-24T10:55:21.998161Z",
     "iopub.status.busy": "2021-05-24T10:55:21.997472Z",
     "iopub.status.idle": "2021-05-24T10:55:24.875644Z",
     "shell.execute_reply": "2021-05-24T10:55:24.875056Z",
     "shell.execute_reply.started": "2021-05-23T22:48:04.106786Z"
    },
    "papermill": {
     "duration": 2.903629,
     "end_time": "2021-05-24T10:55:24.875832",
     "exception": false,
     "start_time": "2021-05-24T10:55:21.972203",
     "status": "completed"
    },
    "tags": []
   },
   "outputs": [],
   "source": [
    "!ln -s ../wsj/s5/steps\n",
    "!ln -s ../wsj/s5/conf\n",
    "!ln -s ../wsj/s5/local\n",
    "!ln -s ../wsj/s5/utils"
   ]
  },
  {
   "cell_type": "code",
   "execution_count": 11,
   "id": "obvious-cannon",
   "metadata": {
    "execution": {
     "iopub.execute_input": "2021-05-24T10:55:24.916133Z",
     "iopub.status.busy": "2021-05-24T10:55:24.915425Z",
     "iopub.status.idle": "2021-05-24T10:55:33.630431Z",
     "shell.execute_reply": "2021-05-24T10:55:33.629729Z",
     "shell.execute_reply.started": "2021-05-23T22:48:06.993185Z"
    },
    "papermill": {
     "duration": 8.738468,
     "end_time": "2021-05-24T10:55:33.630572",
     "exception": false,
     "start_time": "2021-05-24T10:55:24.892104",
     "status": "completed"
    },
    "tags": []
   },
   "outputs": [],
   "source": [
    "!cp -r /kaggle/input/kaldi-clarinstudio-polish-train-mono-30-40/data /kaggle/working/\n",
    "!cp -r /kaggle/input/kaldi-clarinstudio-polish-train-mono-30-40/exp /kaggle/working/"
   ]
  },
  {
   "cell_type": "code",
   "execution_count": 12,
   "id": "finnish-blood",
   "metadata": {
    "execution": {
     "iopub.execute_input": "2021-05-24T10:55:33.672909Z",
     "iopub.status.busy": "2021-05-24T10:55:33.672237Z",
     "iopub.status.idle": "2021-05-24T10:55:35.117949Z",
     "shell.execute_reply": "2021-05-24T10:55:35.117205Z",
     "shell.execute_reply.started": "2021-05-23T22:48:21.907982Z"
    },
    "papermill": {
     "duration": 1.471254,
     "end_time": "2021-05-24T10:55:35.118094",
     "exception": false,
     "start_time": "2021-05-24T10:55:33.646840",
     "status": "completed"
    },
    "tags": []
   },
   "outputs": [],
   "source": [
    "!ln -s /kaggle/working/exp\n",
    "!ln -s /kaggle/working/data"
   ]
  },
  {
   "cell_type": "code",
   "execution_count": 13,
   "id": "stuffed-bachelor",
   "metadata": {
    "execution": {
     "iopub.execute_input": "2021-05-24T10:55:35.158579Z",
     "iopub.status.busy": "2021-05-24T10:55:35.157533Z",
     "iopub.status.idle": "2021-05-24T10:55:35.904532Z",
     "shell.execute_reply": "2021-05-24T10:55:35.903825Z"
    },
    "papermill": {
     "duration": 0.769627,
     "end_time": "2021-05-24T10:55:35.904678",
     "exception": false,
     "start_time": "2021-05-24T10:55:35.135051",
     "status": "completed"
    },
    "tags": []
   },
   "outputs": [],
   "source": [
    "!find /kaggle/working/exp -name '*.log' -delete"
   ]
  },
  {
   "cell_type": "code",
   "execution_count": 14,
   "id": "imported-lewis",
   "metadata": {
    "execution": {
     "iopub.execute_input": "2021-05-24T10:55:35.943615Z",
     "iopub.status.busy": "2021-05-24T10:55:35.942601Z",
     "iopub.status.idle": "2021-05-24T10:55:36.686513Z",
     "shell.execute_reply": "2021-05-24T10:55:36.687040Z"
    },
    "papermill": {
     "duration": 0.766195,
     "end_time": "2021-05-24T10:55:36.687233",
     "exception": false,
     "start_time": "2021-05-24T10:55:35.921038",
     "status": "completed"
    },
    "tags": []
   },
   "outputs": [
    {
     "name": "stdout",
     "output_type": "stream",
     "text": [
      "steps/align_si.sh --nj 40 data/train data/lang_nosp exp/mono0 exp/mono0_ali\r\n",
      "steps/align_si.sh: expected file exp/mono0/final.mdl to exist\r\n"
     ]
    }
   ],
   "source": [
    "!steps/align_si.sh --nj 40 data/train data/lang_nosp exp/mono0 exp/mono0_ali"
   ]
  }
 ],
 "metadata": {
  "kernelspec": {
   "display_name": "Python 3",
   "language": "python",
   "name": "python3"
  },
  "language_info": {
   "codemirror_mode": {
    "name": "ipython",
    "version": 3
   },
   "file_extension": ".py",
   "mimetype": "text/x-python",
   "name": "python",
   "nbconvert_exporter": "python",
   "pygments_lexer": "ipython3",
   "version": "3.7.10"
  },
  "papermill": {
   "default_parameters": {},
   "duration": 233.973558,
   "end_time": "2021-05-24T10:55:37.415372",
   "environment_variables": {},
   "exception": null,
   "input_path": "__notebook__.ipynb",
   "output_path": "__notebook__.ipynb",
   "parameters": {},
   "start_time": "2021-05-24T10:51:43.441814",
   "version": "2.3.3"
  }
 },
 "nbformat": 4,
 "nbformat_minor": 5
}
