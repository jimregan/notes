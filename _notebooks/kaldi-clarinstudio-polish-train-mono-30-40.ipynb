{
 "cells": [
  {
   "cell_type": "code",
   "execution_count": 1,
   "id": "three-morning",
   "metadata": {
    "execution": {
     "iopub.execute_input": "2021-05-23T21:56:43.704099Z",
     "iopub.status.busy": "2021-05-23T21:56:43.703221Z",
     "iopub.status.idle": "2021-05-23T21:56:43.712428Z",
     "shell.execute_reply": "2021-05-23T21:56:43.711556Z"
    },
    "papermill": {
     "duration": 0.020859,
     "end_time": "2021-05-23T21:56:43.712619",
     "exception": false,
     "start_time": "2021-05-23T21:56:43.691760",
     "status": "completed"
    },
    "tags": []
   },
   "outputs": [
    {
     "name": "stdout",
     "output_type": "stream",
     "text": [
      "/opt\n"
     ]
    }
   ],
   "source": [
    "%cd /opt"
   ]
  },
  {
   "cell_type": "code",
   "execution_count": 2,
   "id": "competitive-palace",
   "metadata": {
    "_cell_guid": "b1076dfc-b9ad-4769-8c92-a6c4dae69d19",
    "_uuid": "8f2839f25d086af736a60e9eeb907d3b93b6e0e5",
    "execution": {
     "iopub.execute_input": "2021-05-23T21:56:43.734790Z",
     "iopub.status.busy": "2021-05-23T21:56:43.734288Z",
     "iopub.status.idle": "2021-05-23T21:57:31.511245Z",
     "shell.execute_reply": "2021-05-23T21:57:31.512741Z"
    },
    "papermill": {
     "duration": 47.791581,
     "end_time": "2021-05-23T21:57:31.513418",
     "exception": false,
     "start_time": "2021-05-23T21:56:43.721837",
     "status": "completed"
    },
    "tags": []
   },
   "outputs": [],
   "source": [
    "%%capture\n",
    "!tar xvf /kaggle/input/extract-prebuilt-kaldi-from-docker/kaldi.tar"
   ]
  },
  {
   "cell_type": "code",
   "execution_count": 3,
   "id": "aggregate-wellington",
   "metadata": {
    "execution": {
     "iopub.execute_input": "2021-05-23T21:57:31.554064Z",
     "iopub.status.busy": "2021-05-23T21:57:31.553211Z",
     "iopub.status.idle": "2021-05-23T21:57:31.564564Z",
     "shell.execute_reply": "2021-05-23T21:57:31.566174Z"
    },
    "papermill": {
     "duration": 0.036792,
     "end_time": "2021-05-23T21:57:31.566354",
     "exception": false,
     "start_time": "2021-05-23T21:57:31.529562",
     "status": "completed"
    },
    "tags": []
   },
   "outputs": [
    {
     "name": "stdout",
     "output_type": "stream",
     "text": [
      "/opt/kaldi/egs\n"
     ]
    }
   ],
   "source": [
    "%cd kaldi/egs"
   ]
  },
  {
   "cell_type": "code",
   "execution_count": 4,
   "id": "violent-aircraft",
   "metadata": {
    "execution": {
     "iopub.execute_input": "2021-05-23T21:57:31.591072Z",
     "iopub.status.busy": "2021-05-23T21:57:31.590265Z",
     "iopub.status.idle": "2021-05-23T21:57:39.335829Z",
     "shell.execute_reply": "2021-05-23T21:57:39.335253Z"
    },
    "papermill": {
     "duration": 7.758128,
     "end_time": "2021-05-23T21:57:39.335954",
     "exception": false,
     "start_time": "2021-05-23T21:57:31.577826",
     "status": "completed"
    },
    "tags": []
   },
   "outputs": [
    {
     "name": "stdout",
     "output_type": "stream",
     "text": [
      "Cloning into 'ClarinStudioKaldi'...\r\n",
      "remote: Enumerating objects: 778, done.\u001b[K\r\n",
      "remote: Counting objects: 100% (3/3), done.\u001b[K\r\n",
      "remote: Compressing objects: 100% (3/3), done.\u001b[K\r\n",
      "remote: Total 778 (delta 0), reused 0 (delta 0), pack-reused 775\u001b[K\r\n",
      "Receiving objects: 100% (778/778), 35.26 MiB | 9.60 MiB/s, done.\r\n",
      "Resolving deltas: 100% (262/262), done.\r\n"
     ]
    }
   ],
   "source": [
    "!git clone https://github.com/danijel3/ClarinStudioKaldi"
   ]
  },
  {
   "cell_type": "code",
   "execution_count": 5,
   "id": "illegal-letter",
   "metadata": {
    "execution": {
     "iopub.execute_input": "2021-05-23T21:57:39.363936Z",
     "iopub.status.busy": "2021-05-23T21:57:39.363332Z",
     "iopub.status.idle": "2021-05-23T21:57:39.366481Z",
     "shell.execute_reply": "2021-05-23T21:57:39.366945Z"
    },
    "papermill": {
     "duration": 0.019159,
     "end_time": "2021-05-23T21:57:39.367089",
     "exception": false,
     "start_time": "2021-05-23T21:57:39.347930",
     "status": "completed"
    },
    "tags": []
   },
   "outputs": [
    {
     "name": "stdout",
     "output_type": "stream",
     "text": [
      "/opt/kaldi/egs/ClarinStudioKaldi\n"
     ]
    }
   ],
   "source": [
    "%cd ClarinStudioKaldi"
   ]
  },
  {
   "cell_type": "code",
   "execution_count": 6,
   "id": "fabulous-oxide",
   "metadata": {
    "execution": {
     "iopub.execute_input": "2021-05-23T21:57:39.393189Z",
     "iopub.status.busy": "2021-05-23T21:57:39.392709Z",
     "iopub.status.idle": "2021-05-23T21:59:45.338126Z",
     "shell.execute_reply": "2021-05-23T21:59:45.336722Z"
    },
    "papermill": {
     "duration": 125.959369,
     "end_time": "2021-05-23T21:59:45.338296",
     "exception": false,
     "start_time": "2021-05-23T21:57:39.378927",
     "status": "completed"
    },
    "tags": []
   },
   "outputs": [
    {
     "name": "stdout",
     "output_type": "stream",
     "text": [
      "Collecting package metadata (current_repodata.json): - \b\b\\ \b\b| \b\b/ \b\b- \b\b\\ \b\b| \b\b/ \b\b- \b\b\\ \b\b| \b\b/ \b\b- \b\b\\ \b\b| \b\b/ \b\b- \b\b\\ \b\b| \b\b/ \b\b- \b\b\\ \b\b| \b\b/ \b\b- \b\b\\ \b\b| \b\b/ \b\b- \b\b\\ \b\b| \b\b/ \b\b- \b\b\\ \b\b| \b\b/ \b\b- \b\b\\ \b\b| \b\b/ \b\b- \b\b\\ \b\b| \b\b/ \b\b- \b\b\\ \b\b| \b\b/ \b\b- \b\b\\ \b\b| \b\b/ \b\b- \b\b\\ \b\b| \b\b/ \b\b- \b\b\\ \b\b| \b\b/ \b\b- \b\b\\ \b\b| \b\b/ \b\b- \b\b\\ \b\b| \b\b/ \b\b- \b\b\\ \b\b| \b\b/ \b\b- \b\b\\ \b\b| \b\b/ \b\b- \b\b\\ \b\b| \b\b/ \b\b- \b\b\\ \b\b| \b\b/ \b\b- \b\b\\ \b\b| \b\b/ \b\b- \b\b\\ \b\b| \b\b/ \b\b- \b\b\\ \b\b| \b\b/ \b\b- \b\b\\ \b\b| \b\b/ \b\b- \b\b\\ \b\b| \b\b/ \b\b- \b\b\\ \b\b| \b\b/ \b\b- \b\b\\ \b\b| \b\b/ \b\b- \b\b\\ \b\b| \b\b/ \b\b- \b\b\\ \b\b| \b\b/ \b\b- \b\b\\ \b\b| \b\b/ \b\b- \b\b\\ \b\b| \b\b/ \b\b- \b\b\\ \b\b| \b\b/ \b\b- \b\b\\ \b\b| \b\b/ \b\b- \b\b\\ \b\b| \b\b/ \b\b- \b\b\\ \b\b| \b\b/ \b\bdone\r\n",
      "Solving environment: \\ \b\b| \b\b/ \b\b- \b\b\\ \b\b| \b\b/ \b\b- \b\b\\ \b\b| \b\b/ \b\b- \b\b\\ \b\b| \b\b/ \b\b- \b\b\\ \b\b| \b\b/ \b\b- \b\b\\ \b\b| \b\b/ \b\b- \b\b\\ \b\b| \b\b/ \b\b- \b\b\\ \b\b| \b\b/ \b\b- \b\b\\ \b\b| \b\b/ \b\b- \b\b\\ \b\b| \b\b/ \b\b- \b\b\\ \b\b| \b\b/ \b\b- \b\b\\ \b\b| \b\b/ \b\b- \b\b\\ \b\b| \b\b/ \b\b- \b\b\\ \b\b| \b\b/ \b\b- \b\b\\ \b\b| \b\b/ \b\b- \b\b\\ \b\b| \b\b/ \b\b- \b\b\\ \b\b| \b\b/ \b\b- \b\b\\ \b\b| \b\b/ \b\b- \b\b\\ \b\b| \b\b/ \b\b- \b\b\\ \b\b| \b\b/ \b\b- \b\b\\ \b\b| \b\b/ \b\b- \b\b\\ \b\b| \b\b/ \b\b- \b\b\\ \b\b| \b\b/ \b\b- \b\b\\ \b\b| \b\b/ \b\b- \b\b\\ \b\b| \b\b/ \b\b- \b\b\\ \b\b| \b\b/ \b\b- \b\b\\ \b\b| \b\b/ \b\b- \b\b\\ \b\b| \b\b/ \b\b- \b\b\\ \b\b| \b\b/ \b\b- \b\b\\ \b\b| \b\b/ \b\b- \b\b\\ \b\b| \b\b/ \b\b- \b\b\\ \b\b| \b\b/ \b\b- \b\b\\ \b\b| \b\b/ \b\b- \b\b\\ \b\b| \b\b/ \b\b- \b\b\\ \b\b| \b\b/ \b\b- \b\b\\ \b\b| \b\b/ \b\b- \b\b\\ \b\b| \b\b/ \b\b- \b\b\\ \b\b| \b\b/ \b\b- \b\b\\ \b\b| \b\b/ \b\b- \b\b\\ \b\b| \b\b/ \b\b- \b\b\\ \b\b| \b\b/ \b\b- \b\b\\ \b\b| \b\b/ \b\b- \b\b\\ \b\b| \b\b/ \b\b- \b\b\\ \b\b| \b\b/ \b\b- \b\b\\ \b\b| \b\b/ \b\b- \b\b\\ \b\b| \b\b/ \b\b- \b\b\\ \b\b| \b\b/ \b\b- \b\b\\ \b\b| \b\b/ \b\b- \b\b\\ \b\b| \b\b/ \b\b- \b\b\\ \b\b| \b\b/ \b\b- \b\b\\ \b\b| \b\b/ \b\b- \b\b\\ \b\b| \b\b/ \b\b- \b\b\\ \b\b| \b\b/ \b\b- \b\b\\ \b\b| \b\b/ \b\b- \b\b\\ \b\b| \b\b/ \b\b- \b\b\\ \b\b| \b\b/ \b\b- \b\b\\ \b\b| \b\b/ \b\b- \b\b\\ \b\b| \b\b/ \b\b- \b\b\\ \b\b| \b\b/ \b\b- \b\b\\ \b\b| \b\b/ \b\b- \b\b\\ \b\b| \b\b/ \b\b- \b\b\\ \b\b| \b\b/ \b\b- \b\b\\ \b\b| \b\b/ \b\b- \b\b\\ \b\b| \b\b/ \b\b- \b\b\\ \b\b| \b\b/ \b\b- \b\b\\ \b\b| \b\b/ \b\b- \b\b\\ \b\b| \b\b/ \b\b- \b\b\\ \b\b| \b\b/ \b\b- \b\b\\ \b\b| \b\b/ \b\b- \b\b\\ \b\b| \b\b/ \b\b- \b\b\\ \b\b| \b\b/ \b\b- \b\b\\ \b\b| \b\b/ \b\b- \b\b\\ \b\b| \b\b/ \b\b- \b\b\\ \b\b| \b\b/ \b\b- \b\b\\ \b\b| \b\b/ \b\b- \b\b\\ \b\b| \b\b/ \b\b- \b\b\\ \b\b| \b\b/ \b\b- \b\b\\ \b\b| \b\b/ \b\b- \b\b\\ \b\b| \b\b/ \b\b- \b\b\\ \b\b| \b\b/ \b\b- \b\b\\ \b\b| \b\b/ \b\b- \b\b\\ \b\b| \b\b/ \b\b- \b\b\\ \b\b| \b\b/ \b\b- \b\b\\ \b\b| \b\b/ \b\b- \b\b\\ \b\b| \b\b/ \b\b- \b\b\\ \b\b| \b\b/ \b\b- \b\b\\ \b\b| \b\b/ \b\b- \b\b\\ \b\b| \b\b/ \b\b- \b\b\\ \b\b| \b\b/ \b\b- \b\b\\ \b\b| \b\b/ \b\b- \b\b\\ \b\b| \b\b/ \b\b- \b\b\\ \b\b| \b\b/ \b\b- \b\b\\ \b\b| \b\b/ \b\b- \b\b\\ \b\b| \b\b/ \b\b- \b\b\\ \b\b| \b\b/ \b\b- \b\b\\ \b\b| \b\b/ \b\b- \b\b\\ \b\b| \b\b/ \b\b- \b\b\\ \b\b| \b\b/ \b\b- \b\b\\ \b\b| \b\b/ \b\b- \b\b\\ \b\b| \b\b/ \b\b- \b\b\\ \b\b| \b\b/ \b\b- \b\b\\ \b\b| \b\b/ \b\b- \b\b\\ \b\b| \b\b/ \b\b- \b\b\\ \b\b| \b\b/ \b\b- \b\b\\ \b\b| \b\b/ \b\b- \b\b\\ \b\b| \b\b/ \b\b- \b\b\\ \b\b| \b\b/ \b\b- \b\b\\ \b\b| \b\b/ \b\b- \b\b\\ \b\b| \b\b/ \b\b- \b\b\\ \b\b| \b\b/ \b\b- \b\b\\ \b\b| \b\b/ \b\b- \b\b\\ \b\b| \b\b/ \b\b- \b\b\\ \b\b| \b\b/ \b\b- \b\b\\ \b\b| \b\b/ \b\b- \b\b\\ \b\b| \b\b/ \b\b- \b\b\\ \b\b| \b\b/ \b\b- \b\b\\ \b\b| \b\b/ \b\b- \b\b\\ \b\b| \b\b/ \b\b- \b\b\\ \b\b| \b\b/ \b\b- \b\b\\ \b\b| \b\b/ \b\b- \b\b\\ \b\b| \b\b/ \b\b- \b\b\\ \b\b| \b\b/ \b\b- \b\b\\ \b\b| \b\b/ \b\b- \b\b\\ \b\b| \b\b/ \b\b- \b\b\\ \b\b| \b\b/ \b\b- \b\b\\ \b\b| \b\b/ \b\b- \b\b\\ \b\b| \b\b/ \b\b- \b\b\\ \b\b| \b\b/ \b\b- \b\b\\ \b\b| \b\b/ \b\b- \b\b\\ \b\b| \b\b/ \b\b- \b\bdone\r\n",
      "\r\n",
      "## Package Plan ##\r\n",
      "\r\n",
      "  environment location: /opt/conda\r\n",
      "\r\n",
      "  added / updated specs:\r\n",
      "    - perl-perlio-gzip\r\n",
      "\r\n",
      "\r\n",
      "The following packages will be downloaded:\r\n",
      "\r\n",
      "    package                    |            build\r\n",
      "    ---------------------------|-----------------\r\n",
      "    perl-5.26.2                |    h36c2ea0_1008        15.4 MB  conda-forge\r\n",
      "    perl-perlio-gzip-0.20      |  pl526h84994c4_1          17 KB  bioconda\r\n",
      "    ------------------------------------------------------------\r\n",
      "                                           Total:        15.4 MB\r\n",
      "\r\n",
      "The following NEW packages will be INSTALLED:\r\n",
      "\r\n",
      "  perl-perlio-gzip   bioconda/linux-64::perl-perlio-gzip-0.20-pl526h84994c4_1\r\n",
      "\r\n",
      "The following packages will be DOWNGRADED:\r\n",
      "\r\n",
      "  perl                                    5.32.0-h36c2ea0_0 --> 5.26.2-h36c2ea0_1008\r\n",
      "\r\n",
      "\r\n",
      "\r\n",
      "Downloading and Extracting Packages\r\n",
      "perl-perlio-gzip-0.2 | 17 KB     | ##################################### | 100% \r\n",
      "perl-5.26.2          | 15.4 MB   | ##################################### | 100% \r\n",
      "Preparing transaction: | \b\bdone\r\n",
      "Verifying transaction: - \b\b\\ \b\b| \b\b/ \b\b- \b\bdone\r\n",
      "Executing transaction: | \b\b/ \b\b- \b\b\\ \b\b| \b\b/ \b\b- \b\b\\ \b\b| \b\b/ \b\b- \b\b\\ \b\b| \b\b/ \b\b- \b\b\\ \b\b| \b\b/ \b\b- \b\b\\ \b\b| \b\b/ \b\b- \b\b\\ \b\b| \b\b/ \b\b- \b\b\\ \b\b| \b\b/ \b\b- \b\b\\ \b\b| \b\b/ \b\b- \b\b\\ \b\b| \b\b/ \b\b- \b\b\\ \b\b| \b\b/ \b\b- \b\b\\ \b\b| \b\b/ \b\b- \b\b\\ \b\b| \b\b/ \b\b- \b\b\\ \b\b| \b\b/ \b\b- \b\b\\ \b\b| \b\b/ \b\b- \b\b\\ \b\b| \b\b/ \b\b- \b\b\\ \b\b| \b\b/ \b\b- \b\b\\ \b\b| \b\b/ \b\b- \b\b\\ \b\b| \b\b/ \b\b- \b\b\\ \b\b| \b\b/ \b\b- \b\b\\ \b\b| \b\b/ \b\b- \b\b\\ \b\b| \b\b/ \b\b- \b\b\\ \b\b| \b\b/ \b\b- \b\b\\ \b\b| \b\b/ \b\b- \b\b\\ \b\b| \b\b/ \b\b- \b\b\\ \b\b| \b\b/ \b\b- \b\b\\ \b\b| \b\b/ \b\b- \b\b\\ \b\b| \b\b/ \b\b- \b\b\\ \b\b| \b\b/ \b\b- \b\b\\ \b\b| \b\b/ \b\b- \b\b\\ \b\b| \b\b/ \b\b- \b\b\\ \b\b| \b\b/ \b\b- \b\b\\ \b\b| \b\b/ \b\b- \b\b\\ \b\b| \b\b/ \b\b- \b\b\\ \b\b| \b\b/ \b\b- \b\b\\ \b\bdone\r\n"
     ]
    }
   ],
   "source": [
    "#apt-get -y install libperlio-gzip-perl\n",
    "!conda install -c bioconda perl-perlio-gzip -y"
   ]
  },
  {
   "cell_type": "code",
   "execution_count": 7,
   "id": "blank-brick",
   "metadata": {
    "execution": {
     "iopub.execute_input": "2021-05-23T21:59:45.699620Z",
     "iopub.status.busy": "2021-05-23T21:59:45.699007Z",
     "iopub.status.idle": "2021-05-23T21:59:45.701008Z",
     "shell.execute_reply": "2021-05-23T21:59:45.700521Z"
    },
    "papermill": {
     "duration": 0.184564,
     "end_time": "2021-05-23T21:59:45.701122",
     "exception": false,
     "start_time": "2021-05-23T21:59:45.516558",
     "status": "completed"
    },
    "tags": []
   },
   "outputs": [],
   "source": [
    "import os\n",
    "#os.environ['LD_LIBRARY_PATH'] = f'{os.environ[\"LD_LIBRARY_PATH\"]}:/opt/kaldi/tools/openfst-1.6.7/lib:/opt/kaldi/src/lib'\n",
    "os.environ['LD_LIBRARY_PATH'] = '/opt/conda/lib:/opt/kaldi/tools/openfst-1.6.7/lib:/opt/kaldi/src/lib'"
   ]
  },
  {
   "cell_type": "code",
   "execution_count": 8,
   "id": "facial-biotechnology",
   "metadata": {
    "execution": {
     "iopub.execute_input": "2021-05-23T21:59:46.067180Z",
     "iopub.status.busy": "2021-05-23T21:59:46.066174Z",
     "iopub.status.idle": "2021-05-23T21:59:47.498865Z",
     "shell.execute_reply": "2021-05-23T21:59:47.498434Z"
    },
    "papermill": {
     "duration": 1.619487,
     "end_time": "2021-05-23T21:59:47.499022",
     "exception": false,
     "start_time": "2021-05-23T21:59:45.879535",
     "status": "completed"
    },
    "tags": []
   },
   "outputs": [],
   "source": [
    "!cat path.sh|sed -e 's/~\\/apps/\\/opt/' > tmp\n",
    "!mv tmp path.sh"
   ]
  },
  {
   "cell_type": "code",
   "execution_count": 9,
   "id": "built-ranch",
   "metadata": {
    "execution": {
     "iopub.execute_input": "2021-05-23T21:59:47.864137Z",
     "iopub.status.busy": "2021-05-23T21:59:47.863454Z",
     "iopub.status.idle": "2021-05-23T21:59:48.575915Z",
     "shell.execute_reply": "2021-05-23T21:59:48.575428Z"
    },
    "papermill": {
     "duration": 0.897936,
     "end_time": "2021-05-23T21:59:48.576044",
     "exception": false,
     "start_time": "2021-05-23T21:59:47.678108",
     "status": "completed"
    },
    "tags": []
   },
   "outputs": [],
   "source": [
    "!echo > local_clarin/clarin_pl_clean.sh"
   ]
  },
  {
   "cell_type": "code",
   "execution_count": 10,
   "id": "listed-african",
   "metadata": {
    "execution": {
     "iopub.execute_input": "2021-05-23T21:59:48.946920Z",
     "iopub.status.busy": "2021-05-23T21:59:48.943575Z",
     "iopub.status.idle": "2021-05-23T21:59:51.820521Z",
     "shell.execute_reply": "2021-05-23T21:59:51.819975Z"
    },
    "papermill": {
     "duration": 3.065653,
     "end_time": "2021-05-23T21:59:51.820648",
     "exception": false,
     "start_time": "2021-05-23T21:59:48.754995",
     "status": "completed"
    },
    "tags": []
   },
   "outputs": [],
   "source": [
    "!ln -s ../wsj/s5/steps\n",
    "!ln -s ../wsj/s5/conf\n",
    "!ln -s ../wsj/s5/local\n",
    "!ln -s ../wsj/s5/utils"
   ]
  },
  {
   "cell_type": "code",
   "execution_count": 11,
   "id": "national-plane",
   "metadata": {
    "execution": {
     "iopub.execute_input": "2021-05-23T21:59:52.186983Z",
     "iopub.status.busy": "2021-05-23T21:59:52.183632Z",
     "iopub.status.idle": "2021-05-23T22:00:25.586932Z",
     "shell.execute_reply": "2021-05-23T22:00:25.586478Z"
    },
    "papermill": {
     "duration": 33.588011,
     "end_time": "2021-05-23T22:00:25.587064",
     "exception": false,
     "start_time": "2021-05-23T21:59:51.999053",
     "status": "completed"
    },
    "tags": []
   },
   "outputs": [],
   "source": [
    "!cp -r /kaggle/input/kaldi-clarinstudio-polish-train-mono-1-30/data /kaggle/working/\n",
    "!cp -r /kaggle/input/kaldi-clarinstudio-polish-train-mono-1-30/exp /kaggle/working/"
   ]
  },
  {
   "cell_type": "code",
   "execution_count": 12,
   "id": "distributed-mailing",
   "metadata": {
    "execution": {
     "iopub.execute_input": "2021-05-23T22:00:25.949803Z",
     "iopub.status.busy": "2021-05-23T22:00:25.946618Z",
     "iopub.status.idle": "2021-05-23T22:00:27.373062Z",
     "shell.execute_reply": "2021-05-23T22:00:27.373569Z"
    },
    "papermill": {
     "duration": 1.609135,
     "end_time": "2021-05-23T22:00:27.373733",
     "exception": false,
     "start_time": "2021-05-23T22:00:25.764598",
     "status": "completed"
    },
    "tags": []
   },
   "outputs": [],
   "source": [
    "!ln -s /kaggle/working/exp\n",
    "!ln -s /kaggle/working/data"
   ]
  },
  {
   "cell_type": "code",
   "execution_count": 13,
   "id": "reserved-effects",
   "metadata": {
    "execution": {
     "iopub.execute_input": "2021-05-23T22:00:27.750690Z",
     "iopub.status.busy": "2021-05-23T22:00:27.750092Z",
     "iopub.status.idle": "2021-05-23T22:00:27.756623Z",
     "shell.execute_reply": "2021-05-23T22:00:27.757103Z"
    },
    "papermill": {
     "duration": 0.187534,
     "end_time": "2021-05-23T22:00:27.757291",
     "exception": false,
     "start_time": "2021-05-23T22:00:27.569757",
     "status": "completed"
    },
    "tags": []
   },
   "outputs": [
    {
     "name": "stdout",
     "output_type": "stream",
     "text": [
      "Writing train_mono.sh\n"
     ]
    }
   ],
   "source": [
    "%%writefile train_mono.sh\n",
    "#!/usr/bin/env bash\n",
    "# Copyright 2012  Johns Hopkins University (Author: Daniel Povey)\n",
    "#           2019  Xiaohui Zhang\n",
    "# Apache 2.0\n",
    "\n",
    "# Trimmed down from WSJ train_mono.sh, to continue from 30\n",
    "# Begin configuration section.\n",
    "nj=4\n",
    "cmd=run.pl\n",
    "scale_opts=\"--transition-scale=1.0 --acoustic-scale=0.1 --self-loop-scale=0.1\"\n",
    "num_iters=40    # Number of iterations of training\n",
    "max_iter_inc=30 # Last iter to increase #Gauss on.\n",
    "regular_beam=10 # beam used after the first iteration\n",
    "retry_beam=40\n",
    "totgauss=1000 # Target #Gaussians.\n",
    "boost_silence=1.0 # Factor by which to boost silence likelihoods in alignment\n",
    "realign_iters=\"1 2 3 4 5 6 7 8 9 10 12 14 16 18 20 23 26 29 32 35 38\";\n",
    "config= # name of config file.\n",
    "stage=-4\n",
    "# End configuration section.\n",
    "\n",
    "echo \"$0 $@\"  # Print the command line for logging\n",
    "\n",
    "if [ -f path.sh ]; then . ./path.sh; fi\n",
    ". parse_options.sh || exit 1;\n",
    "\n",
    "if [ $# != 3 ]; then\n",
    "  echo \"Usage: steps/train_mono.sh [options] <data-dir> <lang-dir> <exp-dir>\"\n",
    "  echo \" e.g.: steps/train_mono.sh data/train.1k data/lang exp/mono\"\n",
    "  echo \"main options (for others, see top of script file)\"\n",
    "  echo \"  --config <config-file>                           # config containing options\"\n",
    "  echo \"  --nj <nj>                                        # number of parallel jobs\"\n",
    "  echo \"  --cmd (utils/run.pl|utils/queue.pl <queue opts>) # how to run jobs.\"\n",
    "  exit 1;\n",
    "fi\n",
    "\n",
    "data=$1\n",
    "lang=$2\n",
    "dir=$3\n",
    "\n",
    "oov_sym=`cat $lang/oov.int` || exit 1;\n",
    "\n",
    "mkdir -p $dir/log\n",
    "echo $nj > $dir/num_jobs\n",
    "sdata=$data/split$nj;\n",
    "[[ -d $sdata && $data/feats.scp -ot $sdata ]] || split_data.sh $data $nj || exit 1;\n",
    "\n",
    "feats=\"ark,s,cs:apply-cmvn $cmvn_opts --utt2spk=ark:$sdata/JOB/utt2spk scp:$sdata/JOB/cmvn.scp scp:$sdata/JOB/feats.scp ark:- | add-deltas $delta_opts ark:- ark:- |\"\n",
    "\n",
    "cp $lang/phones.txt $dir || exit 1;\n",
    "\n",
    "numgauss=`gmm-info --print-args=false $dir/0.mdl | grep gaussians | awk '{print $NF}'`\n",
    "incgauss=$[($totgauss-$numgauss)/$max_iter_inc] # per-iter increment for #Gauss\n",
    "# update from last run\n",
    "numgauss=`gmm-info --print-args=false $dir/30.mdl | grep gaussians | awk '{print $NF}'`\n",
    "\n",
    "# beam is only set to $initial_beam for first run\n",
    "beam=$regular_beam\n",
    "x=30\n",
    "while [ $x -lt $num_iters ]; do\n",
    "  echo \"$0: Pass $x\"\n",
    "  if [ $stage -le $x ]; then\n",
    "    if echo $realign_iters | grep -w $x >/dev/null; then\n",
    "      echo \"$0: Aligning data\"\n",
    "      mdl=\"gmm-boost-silence --boost=$boost_silence `cat $lang/phones/optional_silence.csl` $dir/$x.mdl - |\"\n",
    "      $cmd JOB=1:$nj $dir/log/align.$x.JOB.log \\\n",
    "        gmm-align-compiled $scale_opts --beam=$beam --retry-beam=$retry_beam --careful=$careful \"$mdl\" \\\n",
    "        \"ark:gunzip -c $dir/fsts.JOB.gz|\" \"$feats\" \"ark,t:|gzip -c >$dir/ali.JOB.gz\" \\\n",
    "        || exit 1;\n",
    "    fi\n",
    "    $cmd JOB=1:$nj $dir/log/acc.$x.JOB.log \\\n",
    "      gmm-acc-stats-ali  $dir/$x.mdl \"$feats\" \"ark:gunzip -c $dir/ali.JOB.gz|\" \\\n",
    "      $dir/$x.JOB.acc || exit 1;\n",
    "\n",
    "    $cmd $dir/log/update.$x.log \\\n",
    "      gmm-est --write-occs=$dir/$[$x+1].occs --mix-up=$numgauss --power=$power $dir/$x.mdl \\\n",
    "      \"gmm-sum-accs - $dir/$x.*.acc|\" $dir/$[$x+1].mdl || exit 1;\n",
    "    rm $dir/$x.mdl $dir/$x.*.acc $dir/$x.occs 2>/dev/null\n",
    "  fi\n",
    "  if [ $x -le $max_iter_inc ]; then\n",
    "     numgauss=$[$numgauss+$incgauss];\n",
    "  fi\n",
    "  beam=$regular_beam\n",
    "  x=$[$x+1]\n",
    "done\n",
    "\n",
    "( cd $dir; rm final.{mdl,occs} 2>/dev/null; ln -s $x.mdl final.mdl; ln -s $x.occs final.occs )\n",
    "\n",
    "\n",
    "steps/diagnostic/analyze_alignments.sh --cmd \"$cmd\" $lang $dir\n",
    "utils/summarize_warnings.pl $dir/log\n",
    "\n",
    "steps/info/gmm_dir_info.pl $dir\n",
    "\n",
    "echo \"$0: Done training monophone system in $dir\"\n",
    "\n",
    "exit 0"
   ]
  },
  {
   "cell_type": "code",
   "execution_count": 14,
   "id": "flying-inspiration",
   "metadata": {
    "execution": {
     "iopub.execute_input": "2021-05-23T22:00:28.120429Z",
     "iopub.status.busy": "2021-05-23T22:00:28.119889Z",
     "iopub.status.idle": "2021-05-23T22:01:42.824423Z",
     "shell.execute_reply": "2021-05-23T22:01:42.824871Z"
    },
    "papermill": {
     "duration": 74.889928,
     "end_time": "2021-05-23T22:01:42.825108",
     "exception": false,
     "start_time": "2021-05-23T22:00:27.935180",
     "status": "completed"
    },
    "tags": []
   },
   "outputs": [
    {
     "name": "stdout",
     "output_type": "stream",
     "text": [
      "train_mono.sh --nj 40 data/train data/lang_nosp exp/mono0\r\n",
      "train_mono.sh: Pass 30\r\n",
      "run.pl: job failed, log is in exp/mono0/log/update.30.log\r\n"
     ]
    }
   ],
   "source": [
    "!bash train_mono.sh --nj 40 data/train data/lang_nosp exp/mono0"
   ]
  }
 ],
 "metadata": {
  "kernelspec": {
   "display_name": "Python 3",
   "language": "python",
   "name": "python3"
  },
  "language_info": {
   "codemirror_mode": {
    "name": "ipython",
    "version": 3
   },
   "file_extension": ".py",
   "mimetype": "text/x-python",
   "name": "python",
   "nbconvert_exporter": "python",
   "pygments_lexer": "ipython3",
   "version": "3.7.10"
  },
  "papermill": {
   "default_parameters": {},
   "duration": 306.535422,
   "end_time": "2021-05-23T22:01:43.715667",
   "environment_variables": {},
   "exception": null,
   "input_path": "__notebook__.ipynb",
   "output_path": "__notebook__.ipynb",
   "parameters": {},
   "start_time": "2021-05-23T21:56:37.180245",
   "version": "2.3.3"
  }
 },
 "nbformat": 4,
 "nbformat_minor": 5
}
