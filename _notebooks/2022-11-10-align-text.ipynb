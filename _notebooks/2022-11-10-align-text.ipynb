{
  "cells": [
    {
      "cell_type": "markdown",
      "metadata": {},
      "source": [
        "# Simple replacement for Kaldi's align-text\n",
        "\n",
        "> \"Because life's too short to install Kaldi again\"\n",
        "\n",
        "- toc: false\n",
        "- badges: true\n",
        "- categories: [align, difflib]"
      ]
    },
    {
      "cell_type": "code",
      "execution_count": 1,
      "metadata": {
        "id": "2QKrlw3eTffE"
      },
      "outputs": [],
      "source": [
        "from difflib import SequenceMatcher\n",
        "import copy"
      ]
    },
    {
      "cell_type": "code",
      "execution_count": 2,
      "metadata": {
        "id": "V4hjj9l5Tgkv"
      },
      "outputs": [],
      "source": [
        "a = ['a', 'bad', 'time', 'today', 'etc']\n",
        "b = ['not', 'really', 'bad', 'time', 'now']"
      ]
    },
    {
      "cell_type": "code",
      "execution_count": 3,
      "metadata": {
        "id": "Pat3dlJvTkx-"
      },
      "outputs": [],
      "source": [
        "s = SequenceMatcher(None, a, b)"
      ]
    },
    {
      "cell_type": "code",
      "execution_count": 4,
      "metadata": {
        "id": "nX6ZLEv8Zlt3"
      },
      "outputs": [],
      "source": [
        "def pad_replacements(a_in, b_in):\n",
        "    a = copy.deepcopy(a_in)\n",
        "    b = copy.deepcopy(b_in)\n",
        "    if len(a) > len(b):\n",
        "        diff = len(a) - len(b)\n",
        "        for i in range(0, diff+1):\n",
        "            b.append(\"<eps>\")\n",
        "    elif len(b) > len(a):\n",
        "        diff = len(b) - len(a)\n",
        "        for i in range(0, diff+1):\n",
        "            a.append(\"<eps>\")\n",
        "    return [x for x in zip(a, b)]    "
      ]
    },
    {
      "cell_type": "code",
      "execution_count": 7,
      "metadata": {
        "colab": {
          "base_uri": "https://localhost:8080/"
        },
        "id": "c1vy7YvgaGNR",
        "outputId": "93769e90-b8a3-4671-87be-80dc55fa975a"
      },
      "outputs": [],
      "source": [
        "assert pad_replacements([\"a\", \"b\"], [\"a\"]) == [('a', 'a'), ('b', '<eps>')]\n",
        "assert pad_replacements([\"a\", \"b\", \"c\"], [\"a\"]) == [('a', 'a'), ('b', '<eps>'), ('c', '<eps>')]\n",
        "assert pad_replacements([\"a\"], [\"a\", \"b\", \"c\"]) == [('a', 'a'), ('<eps>', 'b'), ('<eps>', 'c')]\n"
      ]
    },
    {
      "cell_type": "code",
      "execution_count": 8,
      "metadata": {
        "id": "2FQMt1qsTmpQ"
      },
      "outputs": [],
      "source": [
        "outputs = []\n",
        "for tag, i1, i2, j1, j2 in s.get_opcodes():\n",
        "    if tag == \"equal\":\n",
        "        for x in a[i1:i2]:\n",
        "            outputs.append(f\"{x} {x}\")\n",
        "    elif tag == \"insert\":\n",
        "        for x in b[j1:j2]:\n",
        "            outputs.append(f\"<eps> {x}\")\n",
        "    elif tag == \"delete\":\n",
        "        for x in a[i1:i2]:\n",
        "            outputs.append(f\"{x} <eps>\")\n",
        "    elif tag == \"replace\":\n",
        "        for x, y in pad_replacements(a[i1:i2], b[j1:j2]):\n",
        "            outputs.append(f\"{x} {y}\")"
      ]
    },
    {
      "cell_type": "code",
      "execution_count": 9,
      "metadata": {
        "colab": {
          "base_uri": "https://localhost:8080/",
          "height": 35
        },
        "id": "iFbqjyGDW5aN",
        "outputId": "83505659-5989-4ec9-db67-a86b42da7050"
      },
      "outputs": [
        {
          "data": {
            "text/plain": [
              "'a not ; <eps> really ; bad bad ; time time ; today now ; etc <eps>'"
            ]
          },
          "execution_count": 9,
          "metadata": {},
          "output_type": "execute_result"
        }
      ],
      "source": [
        "\" ; \".join(outputs)"
      ]
    }
  ],
  "metadata": {
    "colab": {
      "collapsed_sections": [],
      "provenance": []
    },
    "kernelspec": {
      "display_name": "Python 3.10.4 ('ctcseg')",
      "language": "python",
      "name": "python3"
    },
    "language_info": {
      "codemirror_mode": {
        "name": "ipython",
        "version": 3
      },
      "file_extension": ".py",
      "mimetype": "text/x-python",
      "name": "python",
      "nbconvert_exporter": "python",
      "pygments_lexer": "ipython3",
      "version": "3.10.4"
    },
    "vscode": {
      "interpreter": {
        "hash": "04f1aebeda7ca92f6170d2806fa3f3c0cbb14da723fd908a9af630117dfe1004"
      }
    }
  },
  "nbformat": 4,
  "nbformat_minor": 0
}
