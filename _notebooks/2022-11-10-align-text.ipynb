{
  "cells": [
    {
      "cell_type": "code",
      "execution_count": 15,
      "metadata": {
        "id": "2QKrlw3eTffE"
      },
      "outputs": [],
      "source": [
        "from difflib import SequenceMatcher\n",
        "import copy\n",
        "from typing import List, Tuple"
      ]
    },
    {
      "cell_type": "code",
      "execution_count": 29,
      "metadata": {
        "id": "V4hjj9l5Tgkv"
      },
      "outputs": [],
      "source": [
        "a = ['a', 'bad', 'time', 'today', 'etc']\n",
        "b = ['not', 'really', 'bad', 'time', 'now']"
      ]
    },
    {
      "cell_type": "code",
      "execution_count": 16,
      "metadata": {
        "id": "nX6ZLEv8Zlt3"
      },
      "outputs": [],
      "source": [
        "def pad_replacements(a_in: List[str], b_in: List[str], padding: str = \"<eps>\") -> List[Tuple[str, str]]:\n",
        "    \"\"\"\n",
        "    zip() for lists of strings, padded with `padding` if\n",
        "    there is a mismatch in the number of elements of\n",
        "    the lists.\n",
        "\n",
        "        Parameters:\n",
        "            a_in (list): first list of strings\n",
        "            b_in (list): second list of strings\n",
        "            padding (str): string to pad the lists with (\"<eps>\" by default)\n",
        "        \n",
        "        Returns:\n",
        "            A list of tuples, created from zip() on the padded lists\n",
        "    \"\"\"\n",
        "    a = copy.deepcopy(a_in)\n",
        "    b = copy.deepcopy(b_in)\n",
        "    if len(a) > len(b):\n",
        "        diff = len(a) - len(b)\n",
        "        for i in range(0, diff+1):\n",
        "            b.append(padding)\n",
        "    elif len(b) > len(a):\n",
        "        diff = len(b) - len(a)\n",
        "        for i in range(0, diff+1):\n",
        "            a.append(padding)\n",
        "    return [x for x in zip(a, b)]    "
      ]
    },
    {
      "cell_type": "code",
      "execution_count": 17,
      "metadata": {
        "colab": {
          "base_uri": "https://localhost:8080/"
        },
        "id": "c1vy7YvgaGNR",
        "outputId": "93769e90-b8a3-4671-87be-80dc55fa975a"
      },
      "outputs": [
        {
          "data": {
            "text/plain": [
              "[('a', 'a'), ('<eps>', 'b'), ('<eps>', 'c')]"
            ]
          },
          "execution_count": 17,
          "metadata": {},
          "output_type": "execute_result"
        }
      ],
      "source": [
        "pad_replacements([\"a\", \"b\"], [\"a\"])\n",
        "pad_replacements([\"a\", \"b\", \"c\"], [\"a\"])\n",
        "pad_replacements([\"a\"], [\"a\", \"b\", \"c\"])\n"
      ]
    },
    {
      "cell_type": "code",
      "execution_count": 18,
      "metadata": {
        "id": "2FQMt1qsTmpQ"
      },
      "outputs": [],
      "source": [
        "def get_aligned_pairs(a: List[str], b: List[str]) -> List[str]:\n",
        "    \"\"\"\n",
        "    Aligns the elements of lists a and b, returning a list of\n",
        "    strings containing the aligned pairs in the format\n",
        "    used by Kaldi's `align-text`\n",
        "\n",
        "        Parameters:\n",
        "            a (list): first list of strings\n",
        "            b (list): second list of strings\n",
        "        \n",
        "        Returns:\n",
        "            A list of strings, combining the elements from both lists\n",
        "            with \"<eps>\" to mark where an insertion or deletion\n",
        "            took place\n",
        "    \"\"\"\n",
        "    s = SequenceMatcher(None, a, b)\n",
        "    outputs = []\n",
        "    for tag, i1, i2, j1, j2 in s.get_opcodes():\n",
        "        if tag == \"equal\":\n",
        "            for x in a[i1:i2]:\n",
        "                outputs.append(f\"{x} {x}\")\n",
        "        elif tag == \"insert\":\n",
        "            for x in b[j1:j2]:\n",
        "                outputs.append(f\"<eps> {x}\")\n",
        "        elif tag == \"delete\":\n",
        "            for x in a[i1:i2]:\n",
        "                outputs.append(f\"{x} <eps>\")\n",
        "        elif tag == \"replace\":\n",
        "            for x, y in pad_replacements(a[i1:i2], b[j1:j2]):\n",
        "                outputs.append(f\"{x} {y}\")\n",
        "    return outputs"
      ]
    },
    {
      "cell_type": "code",
      "execution_count": 38,
      "metadata": {
        "colab": {
          "base_uri": "https://localhost:8080/",
          "height": 35
        },
        "id": "iFbqjyGDW5aN",
        "outputId": "83505659-5989-4ec9-db67-a86b42da7050"
      },
      "outputs": [
        {
          "data": {
            "application/vnd.google.colaboratory.intrinsic+json": {
              "type": "string"
            },
            "text/plain": [
              "'a not ; <eps> really ; bad bad ; time time ; today now ; etc <eps>'"
            ]
          },
          "execution_count": 38,
          "metadata": {},
          "output_type": "execute_result"
        }
      ],
      "source": [
        "\" ; \".join(outputs)"
      ]
    }
  ],
  "metadata": {
    "colab": {
      "collapsed_sections": [],
      "provenance": []
    },
    "kernelspec": {
      "display_name": "Python 3",
      "name": "python3"
    },
    "language_info": {
      "name": "python"
    }
  },
  "nbformat": 4,
  "nbformat_minor": 0
}
