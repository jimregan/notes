{
 "cells": [
  {
   "cell_type": "code",
   "execution_count": 1,
   "id": "original-initial",
   "metadata": {
    "execution": {
     "iopub.execute_input": "2021-05-27T15:12:54.101773Z",
     "iopub.status.busy": "2021-05-27T15:12:54.100333Z",
     "iopub.status.idle": "2021-05-27T15:12:54.110431Z",
     "shell.execute_reply": "2021-05-27T15:12:54.110999Z",
     "shell.execute_reply.started": "2021-05-25T21:59:52.937901Z"
    },
    "papermill": {
     "duration": 0.02161,
     "end_time": "2021-05-27T15:12:54.111307",
     "exception": false,
     "start_time": "2021-05-27T15:12:54.089697",
     "status": "completed"
    },
    "tags": []
   },
   "outputs": [
    {
     "name": "stdout",
     "output_type": "stream",
     "text": [
      "/tmp\n"
     ]
    }
   ],
   "source": [
    "%cd /tmp"
   ]
  },
  {
   "cell_type": "code",
   "execution_count": 2,
   "id": "returning-negotiation",
   "metadata": {
    "execution": {
     "iopub.execute_input": "2021-05-27T15:12:54.127397Z",
     "iopub.status.busy": "2021-05-27T15:12:54.126795Z",
     "iopub.status.idle": "2021-05-27T15:13:43.618254Z",
     "shell.execute_reply": "2021-05-27T15:13:43.617790Z"
    },
    "papermill": {
     "duration": 49.500777,
     "end_time": "2021-05-27T15:13:43.618414",
     "exception": false,
     "start_time": "2021-05-27T15:12:54.117637",
     "status": "completed"
    },
    "tags": []
   },
   "outputs": [
    {
     "name": "stdout",
     "output_type": "stream",
     "text": [
      "Collecting git+https://github.com/pytorch/fairseq/\r\n",
      "  Cloning https://github.com/pytorch/fairseq/ to ./pip-req-build-a5vorvvj\r\n",
      "  Running command git clone -q https://github.com/pytorch/fairseq/ /tmp/pip-req-build-a5vorvvj\r\n",
      "  Running command git submodule update --init --recursive -q\r\n",
      "  Installing build dependencies ... \u001b[?25l-\b \b\\\b \b|\b \b/\b \b-\b \b\\\b \bdone\r\n",
      "\u001b[?25h  Getting requirements to build wheel ... \u001b[?25ldone\r\n",
      "\u001b[?25h  Installing backend dependencies ... \u001b[?25l-\b \b\\\b \b|\b \b/\b \b-\b \bdone\r\n",
      "\u001b[?25h    Preparing wheel metadata ... \u001b[?25l-\b \b\\\b \bdone\r\n",
      "\u001b[?25hCollecting hydra-core<1.1\r\n",
      "  Downloading hydra_core-1.0.6-py3-none-any.whl (123 kB)\r\n",
      "\u001b[K     |████████████████████████████████| 123 kB 1.3 MB/s \r\n",
      "\u001b[?25hRequirement already satisfied: tqdm in /opt/conda/lib/python3.7/site-packages (from fairseq==1.0.0a0+c8223e3) (4.59.0)\r\n",
      "Requirement already satisfied: cython in /opt/conda/lib/python3.7/site-packages (from fairseq==1.0.0a0+c8223e3) (0.29.23)\r\n",
      "Collecting omegaconf<2.1\r\n",
      "  Downloading omegaconf-2.0.6-py3-none-any.whl (36 kB)\r\n",
      "Collecting sacrebleu>=1.4.12\r\n",
      "  Downloading sacrebleu-1.5.1-py3-none-any.whl (54 kB)\r\n",
      "\u001b[K     |████████████████████████████████| 54 kB 1.6 MB/s \r\n",
      "\u001b[?25hRequirement already satisfied: regex in /opt/conda/lib/python3.7/site-packages (from fairseq==1.0.0a0+c8223e3) (2021.3.17)\r\n",
      "Requirement already satisfied: cffi in /opt/conda/lib/python3.7/site-packages (from fairseq==1.0.0a0+c8223e3) (1.14.5)\r\n",
      "Requirement already satisfied: numpy in /opt/conda/lib/python3.7/site-packages (from fairseq==1.0.0a0+c8223e3) (1.19.5)\r\n",
      "Requirement already satisfied: torch in /opt/conda/lib/python3.7/site-packages (from fairseq==1.0.0a0+c8223e3) (1.7.0)\r\n",
      "Collecting importlib-resources\r\n",
      "  Downloading importlib_resources-5.1.4-py3-none-any.whl (26 kB)\r\n",
      "Collecting antlr4-python3-runtime==4.8\r\n",
      "  Downloading antlr4-python3-runtime-4.8.tar.gz (112 kB)\r\n",
      "\u001b[K     |████████████████████████████████| 112 kB 4.1 MB/s \r\n",
      "\u001b[?25hRequirement already satisfied: PyYAML>=5.1.* in /opt/conda/lib/python3.7/site-packages (from omegaconf<2.1->fairseq==1.0.0a0+c8223e3) (5.3.1)\r\n",
      "Requirement already satisfied: typing-extensions in /opt/conda/lib/python3.7/site-packages (from omegaconf<2.1->fairseq==1.0.0a0+c8223e3) (3.7.4.3)\r\n",
      "Collecting portalocker==2.0.0\r\n",
      "  Downloading portalocker-2.0.0-py2.py3-none-any.whl (11 kB)\r\n",
      "Requirement already satisfied: pycparser in /opt/conda/lib/python3.7/site-packages (from cffi->fairseq==1.0.0a0+c8223e3) (2.20)\r\n",
      "Requirement already satisfied: zipp>=3.1.0 in /opt/conda/lib/python3.7/site-packages (from importlib-resources->hydra-core<1.1->fairseq==1.0.0a0+c8223e3) (3.4.1)\r\n",
      "Requirement already satisfied: future in /opt/conda/lib/python3.7/site-packages (from torch->fairseq==1.0.0a0+c8223e3) (0.18.2)\r\n",
      "Requirement already satisfied: dataclasses in /opt/conda/lib/python3.7/site-packages (from torch->fairseq==1.0.0a0+c8223e3) (0.6)\r\n",
      "Building wheels for collected packages: fairseq, antlr4-python3-runtime\r\n",
      "  Building wheel for fairseq (PEP 517) ... \u001b[?25l-\b \b\\\b \b|\b \b/\b \b-\b \b\\\b \b|\b \b/\b \b-\b \b\\\b \b|\b \b/\b \b-\b \b\\\b \b|\b \b/\b \b-\b \b\\\b \b|\b \bdone\r\n",
      "\u001b[?25h  Created wheel for fairseq: filename=fairseq-1.0.0a0+c8223e3-cp37-cp37m-linux_x86_64.whl size=2063163 sha256=d6becee3679f8af02e1270bcdf631cabfd2b56708590af14c19191730168654f\r\n",
      "  Stored in directory: /tmp/pip-ephem-wheel-cache-jiro3c0h/wheels/bf/8b/86/69a0f965bcf2c21f14c327d7a0131024ff24e19e3ab6726a07\r\n",
      "  Building wheel for antlr4-python3-runtime (setup.py) ... \u001b[?25l-\b \b\\\b \bdone\r\n",
      "\u001b[?25h  Created wheel for antlr4-python3-runtime: filename=antlr4_python3_runtime-4.8-py3-none-any.whl size=141230 sha256=707b8e49388a68132061eb287769930a9e98569f3c0a311abbfabca8d84892fb\r\n",
      "  Stored in directory: /root/.cache/pip/wheels/ca/33/b7/336836125fc9bb4ceaa4376d8abca10ca8bc84ddc824baea6c\r\n",
      "Successfully built fairseq antlr4-python3-runtime\r\n",
      "Installing collected packages: portalocker, omegaconf, importlib-resources, antlr4-python3-runtime, sacrebleu, hydra-core, fairseq\r\n",
      "  Attempting uninstall: portalocker\r\n",
      "    Found existing installation: portalocker 2.3.0\r\n",
      "    Uninstalling portalocker-2.3.0:\r\n",
      "      Successfully uninstalled portalocker-2.3.0\r\n",
      "Successfully installed antlr4-python3-runtime-4.8 fairseq-1.0.0a0+c8223e3 hydra-core-1.0.6 importlib-resources-5.1.4 omegaconf-2.0.6 portalocker-2.0.0 sacrebleu-1.5.1\r\n"
     ]
    }
   ],
   "source": [
    "!pip install git+https://github.com/pytorch/fairseq/"
   ]
  },
  {
   "cell_type": "code",
   "execution_count": 3,
   "id": "impaired-error",
   "metadata": {
    "_cell_guid": "b1076dfc-b9ad-4769-8c92-a6c4dae69d19",
    "_uuid": "8f2839f25d086af736a60e9eeb907d3b93b6e0e5",
    "execution": {
     "iopub.execute_input": "2021-05-27T15:13:43.670711Z",
     "iopub.status.busy": "2021-05-27T15:13:43.667315Z",
     "iopub.status.idle": "2021-05-27T15:13:46.312250Z",
     "shell.execute_reply": "2021-05-27T15:13:46.311747Z",
     "shell.execute_reply.started": "2021-05-25T21:59:52.944817Z"
    },
    "papermill": {
     "duration": 2.671228,
     "end_time": "2021-05-27T15:13:46.312414",
     "exception": false,
     "start_time": "2021-05-27T15:13:43.641186",
     "status": "completed"
    },
    "tags": []
   },
   "outputs": [
    {
     "name": "stdout",
     "output_type": "stream",
     "text": [
      "Cloning into 'fairseq'...\r\n",
      "remote: Enumerating objects: 28166, done.\u001b[K\r\n",
      "remote: Counting objects: 100% (580/580), done.\u001b[K\r\n",
      "remote: Compressing objects: 100% (352/352), done.\u001b[K\r\n",
      "remote: Total 28166 (delta 285), reused 441 (delta 215), pack-reused 27586\u001b[K\r\n",
      "Receiving objects: 100% (28166/28166), 11.92 MiB | 20.87 MiB/s, done.\r\n",
      "Resolving deltas: 100% (21110/21110), done.\r\n"
     ]
    }
   ],
   "source": [
    "!git clone https://github.com/pytorch/fairseq/"
   ]
  },
  {
   "cell_type": "code",
   "execution_count": 4,
   "id": "according-moscow",
   "metadata": {
    "execution": {
     "iopub.execute_input": "2021-05-27T15:13:46.385799Z",
     "iopub.status.busy": "2021-05-27T15:13:46.385019Z",
     "iopub.status.idle": "2021-05-27T15:13:50.267498Z",
     "shell.execute_reply": "2021-05-27T15:13:50.266966Z"
    },
    "papermill": {
     "duration": 3.925836,
     "end_time": "2021-05-27T15:13:50.267628",
     "exception": false,
     "start_time": "2021-05-27T15:13:46.341792",
     "status": "completed"
    },
    "tags": []
   },
   "outputs": [],
   "source": [
    "!mkdir tsv\n",
    "!for i in train test valid; do echo /kaggle/input/wav2vec-u-cv-swedish-vads/wav/train/common-voice-swedish-16bit-wav/ > tsv/$i.tsv; cat /kaggle/input/fork-of-wav2vec-u-cv-swedish-tsv/test.tsv|sed '1d' >> tsv/$i.tsv;done\n",
    "!cp /kaggle/input/wav2vec-u-cv-swedish-prep-ltr-phn-wrd/dic* tsv/\n",
    "!cp /kaggle/input/wav2vec-u-cv-swedish-prep-ltr-phn-wrd/*.wrd tsv/\n",
    "!cp /kaggle/input/wav2vec-u-cv-swedish-prep-ltr-phn-wrd/*.ltr tsv/\n",
    "!cp /kaggle/input/wav2vec-u-cv-swedish-prep-ltr-phn-wrd/*.phn tsv/"
   ]
  },
  {
   "cell_type": "code",
   "execution_count": 5,
   "id": "danish-accused",
   "metadata": {
    "execution": {
     "iopub.execute_input": "2021-05-27T15:13:50.330202Z",
     "iopub.status.busy": "2021-05-27T15:13:50.329357Z",
     "iopub.status.idle": "2021-05-27T15:13:50.333242Z",
     "shell.execute_reply": "2021-05-27T15:13:50.332740Z",
     "shell.execute_reply.started": "2021-05-25T21:59:53.235485Z"
    },
    "papermill": {
     "duration": 0.037288,
     "end_time": "2021-05-27T15:13:50.333393",
     "exception": false,
     "start_time": "2021-05-27T15:13:50.296105",
     "status": "completed"
    },
    "tags": []
   },
   "outputs": [
    {
     "name": "stdout",
     "output_type": "stream",
     "text": [
      "/tmp/fairseq/examples/wav2vec/unsupervised/scripts\n"
     ]
    }
   ],
   "source": [
    "%cd fairseq/examples/wav2vec/unsupervised/scripts"
   ]
  },
  {
   "cell_type": "code",
   "execution_count": 6,
   "id": "proof-complaint",
   "metadata": {
    "execution": {
     "iopub.execute_input": "2021-05-27T15:13:50.399685Z",
     "iopub.status.busy": "2021-05-27T15:13:50.398762Z",
     "iopub.status.idle": "2021-05-27T15:13:57.474734Z",
     "shell.execute_reply": "2021-05-27T15:13:57.473997Z"
    },
    "papermill": {
     "duration": 7.113694,
     "end_time": "2021-05-27T15:13:57.474870",
     "exception": false,
     "start_time": "2021-05-27T15:13:50.361176",
     "status": "completed"
    },
    "tags": []
   },
   "outputs": [],
   "source": [
    "%%capture\n",
    "!apt-get -y install zsh"
   ]
  },
  {
   "cell_type": "code",
   "execution_count": 7,
   "id": "careful-material",
   "metadata": {
    "execution": {
     "iopub.execute_input": "2021-05-27T15:13:57.541108Z",
     "iopub.status.busy": "2021-05-27T15:13:57.540154Z",
     "iopub.status.idle": "2021-05-27T15:13:58.166941Z",
     "shell.execute_reply": "2021-05-27T15:13:58.166491Z"
    },
    "papermill": {
     "duration": 0.66406,
     "end_time": "2021-05-27T15:13:58.167068",
     "exception": false,
     "start_time": "2021-05-27T15:13:57.503008",
     "status": "completed"
    },
    "tags": []
   },
   "outputs": [
    {
     "name": "stdout",
     "output_type": "stream",
     "text": [
      "zsh: can't open input file: scripts/prepare_audio.sh\r\n"
     ]
    }
   ],
   "source": [
    "!zsh scripts/prepare_audio.sh tsv/ /kaggle/working ../input/download-xlsr-53-wav2vec2-model/xlsr_53_56k.pt"
   ]
  }
 ],
 "metadata": {
  "kernelspec": {
   "display_name": "Python 3",
   "language": "python",
   "name": "python3"
  },
  "language_info": {
   "codemirror_mode": {
    "name": "ipython",
    "version": 3
   },
   "file_extension": ".py",
   "mimetype": "text/x-python",
   "name": "python",
   "nbconvert_exporter": "python",
   "pygments_lexer": "ipython3",
   "version": "3.7.10"
  },
  "papermill": {
   "default_parameters": {},
   "duration": 71.363873,
   "end_time": "2021-05-27T15:13:58.803937",
   "environment_variables": {},
   "exception": null,
   "input_path": "__notebook__.ipynb",
   "output_path": "__notebook__.ipynb",
   "parameters": {},
   "start_time": "2021-05-27T15:12:47.440064",
   "version": "2.3.3"
  }
 },
 "nbformat": 4,
 "nbformat_minor": 5
}
