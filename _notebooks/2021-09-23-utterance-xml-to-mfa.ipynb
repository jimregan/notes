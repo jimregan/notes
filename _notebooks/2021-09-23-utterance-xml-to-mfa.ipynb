{
 "cells": [
  {
   "cell_type": "markdown",
   "metadata": {},
   "source": [
    "# \"Utterance XML to json\"\n",
    "\n",
    "> Dataset\n",
    "\n",
    "- toc: false\n",
    "- branch: master\n",
    "- badges: false\n",
    "- comments: true\n",
    "- hidden: true\n",
    "- categories: [irish, abair, mfa]"
   ]
  },
  {
   "cell_type": "code",
   "execution_count": null,
   "metadata": {
    "id": "9dlZZHaDuCIw"
   },
   "outputs": [],
   "source": [
    "import xml.etree.ElementTree as ET"
   ]
  },
  {
   "cell_type": "code",
   "execution_count": null,
   "metadata": {
    "id": "wcB6QUIEuaYM"
   },
   "outputs": [],
   "source": [
    "class Utterance:\n",
    "    def __init__(self, input, sentences):\n",
    "        self.input = input\n",
    "        self.sentences = sentences"
   ]
  },
  {
   "cell_type": "code",
   "execution_count": null,
   "metadata": {
    "id": "KP-hde8puoqV"
   },
   "outputs": [],
   "source": [
    "class Sentence:\n",
    "    def __init__(self, input, tokens):\n",
    "        self.input = input\n",
    "        self.tokens = tokens"
   ]
  },
  {
   "cell_type": "code",
   "execution_count": null,
   "metadata": {
    "id": "nGLSIO4MuxDV"
   },
   "outputs": [],
   "source": [
    "class Token:\n",
    "    def __init__(self, input, words):\n",
    "        self.input = input\n",
    "        self.words = words"
   ]
  },
  {
   "cell_type": "code",
   "execution_count": null,
   "metadata": {
    "id": "LfZdwq3eu2US"
   },
   "outputs": [],
   "source": [
    "class Word:\n",
    "    def __init__(self, input, source, syllables, pos=\"\"):\n",
    "        self.input = input\n",
    "        self.source = source\n",
    "        self.pos = pos\n",
    "        self.syllables = syllables\n",
    "        if self.syllables is None:\n",
    "            self.syllables = []\n",
    "\n",
    "    def get_phonemes(self):\n",
    "        return \" \".join([a.get_phonemes() for a in self.syllables])\n",
    "\n",
    "    def get_clean_word(self):\n",
    "        word = self.input\n",
    "        if word[0:1] in \"nt\" and word[1:2] in \"AÁEÉIÍOÓUÚ\":\n",
    "            return word[0:1] + \"-\" + word[1:].lower()\n",
    "        else:\n",
    "            return word.lower()"
   ]
  },
  {
   "cell_type": "code",
   "execution_count": null,
   "metadata": {
    "id": "s9cELSRmu_Nf"
   },
   "outputs": [],
   "source": [
    "class Syllable:\n",
    "    def __init__(self, stress: int = 0, phonemes = None):\n",
    "        self.stress = stress\n",
    "        self.phonemes = phonemes\n",
    "        if self.phonemes is None:\n",
    "            self.phonemes = []\n",
    "\n",
    "    def get_phonemes(self):\n",
    "        return \" \".join([a.symbol for a in self.phonemes])"
   ]
  },
  {
   "cell_type": "code",
   "execution_count": null,
   "metadata": {
    "id": "zc3dFZmGvFHW"
   },
   "outputs": [],
   "source": [
    "class Phoneme:\n",
    "    def __init__(self, symbol: str = \"\", end: float = 0.0):\n",
    "        self.symbol = symbol\n",
    "        self.end = end"
   ]
  },
  {
   "cell_type": "code",
   "execution_count": null,
   "metadata": {
    "id": "O_F_IbXuvYEA"
   },
   "outputs": [],
   "source": [
    "def from_xml(source):\n",
    "    tree = ET.parse(source)\n",
    "    root = tree.getroot()\n",
    "    if 'input_string' in root.attrib:\n",
    "        input = root.attrib['input_string']\n",
    "    else:\n",
    "        input = ''\n",
    "    sentences = []\n",
    "    for sentence in root.findall('./sentence'):\n",
    "        if 'input_string' in sentence.attrib:\n",
    "            input = sentence.attrib['input_string']\n",
    "        else:\n",
    "            input = ''\n",
    "        tokens = []\n",
    "        for token in sentence.findall('./token'):\n",
    "            if 'input_string' in token.attrib:\n",
    "                input = token.attrib['input_string']\n",
    "            else:\n",
    "                input = ''\n",
    "            words = []\n",
    "            for word in token.findall('./word'):\n",
    "                if 'input_string' in word.attrib:\n",
    "                    input = word.attrib['input_string']\n",
    "                else:\n",
    "                    input = \"\"\n",
    "                if 'trans_source' in word.attrib:\n",
    "                    source = word.attrib['trans_source']\n",
    "                else:\n",
    "                    source = \"\"\n",
    "                if 'pos' in word.attrib:\n",
    "                    pos = word.attrib['pos']\n",
    "                else:\n",
    "                    pos = \"\"\n",
    "                syllables = []\n",
    "                for syllable in word.findall('./syllable'):\n",
    "                    phonemes = []\n",
    "                    if 'stress' in syllable.attrib:\n",
    "                        if syllable.attrib['stress'] == 'None':\n",
    "                            stress = 0\n",
    "                        else:\n",
    "                            stress = int(syllable.attrib['stress'])\n",
    "                    else:\n",
    "                        stress = 0\n",
    "                    for phoneme in syllable.findall('./phoneme'):\n",
    "                        if 'symbol' in phoneme.attrib:\n",
    "                            symbol = phoneme.attrib['symbol']\n",
    "                        else:\n",
    "                            symbol = ''\n",
    "                        if 'end' in phoneme.attrib:\n",
    "                            end = float(phoneme.attrib['end'])\n",
    "                        else:\n",
    "                            symbol = 0.0\n",
    "                        phonemes.append(Phoneme(symbol, end))\n",
    "                    syllables.append(Syllable(stress, phonemes))\n",
    "                words.append(Word(input, source, syllables, pos))\n",
    "            tokens.append(Token(input, words))\n",
    "        sentences.append(Sentence(input, tokens))\n",
    "    return Utterance(input, sentences)"
   ]
  },
  {
   "cell_type": "code",
   "execution_count": null,
   "metadata": {},
   "outputs": [],
   "source": [
    "def get_dictionary(utt):\n",
    "    prons = {}\n",
    "    for sent in utt.sentences:\n",
    "        for tok in sent.tokens:\n",
    "            for word in tok.words:\n",
    "                if not word.get_clean_word() in prons.keys():\n",
    "                    prons[word.get_clean_word()] = set()\n",
    "                prons[word.get_clean_word()].add(word.get_phonemes())\n",
    "    return prons"
   ]
  },
  {
   "cell_type": "code",
   "execution_count": null,
   "metadata": {
    "id": "efC60Efq7eDY"
   },
   "outputs": [],
   "source": [
    "utt = from_xml(\"/home/jim/tmp/pmg_ga_co/RCPiarsachALL/xml/MI0001RCPiarsachBairbre_0021.xml\")"
   ]
  },
  {
   "cell_type": "code",
   "execution_count": null,
   "metadata": {
    "colab": {
     "base_uri": "https://localhost:8080/",
     "height": 52
    },
    "id": "tLH-kimU9P7y",
    "outputId": "128cf053-4942-4661-c9c6-b47ba9f252e7"
   },
   "outputs": [],
   "source": [
    "import json\n",
    "json.dumps(utt, default=lambda o: o.__dict__)"
   ]
  },
  {
   "cell_type": "code",
   "execution_count": null,
   "metadata": {},
   "outputs": [],
   "source": [
    "get_dictionary(utt)"
   ]
  },
  {
   "cell_type": "code",
   "execution_count": null,
   "metadata": {},
   "outputs": [],
   "source": [
    "co_pron_replacements = {\n",
    "    \"thosaigh\": \"h o s @\",\n",
    "    \"féin\": \"h ee nj\",\n",
    "    \"haghaidh\": \"h ai\"\n",
    "}"
   ]
  },
  {
   "cell_type": "code",
   "execution_count": null,
   "metadata": {},
   "outputs": [],
   "source": [
    "co_text_word_fixes = {\n",
    "    \"RCPiarsachBairbre_0021.xml\": [(\"ar\", \"ar ar\"), (\"súl\", \"súile\"), (\"máthair\", \"mothair\")],\n",
    "}"
   ]
  },
  {
   "cell_type": "code",
   "execution_count": null,
   "metadata": {},
   "outputs": [],
   "source": [
    "import IPython.display as ipd\n",
    "ipd.Audio('/home/jim/tmp/pmg_ga_co/RCPiarsachALL/wav44_trimmed/MI0001RCPiarsachBairbre_0021.wav')"
   ]
  }
 ],
 "metadata": {
  "colab": {
   "name": "utterance-xml-to-json.ipynb",
   "provenance": []
  },
  "kernelspec": {
   "display_name": "Python 3",
   "language": "python",
   "name": "python3"
  },
  "language_info": {
   "codemirror_mode": {
    "name": "ipython",
    "version": 3
   },
   "file_extension": ".py",
   "mimetype": "text/x-python",
   "name": "python",
   "nbconvert_exporter": "python",
   "pygments_lexer": "ipython3",
   "version": "3.6.9"
  }
 },
 "nbformat": 4,
 "nbformat_minor": 1
}
