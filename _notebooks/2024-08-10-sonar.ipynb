{
 "cells": [
  {
   "cell_type": "markdown",
   "id": "b6c67340",
   "metadata": {
    "jupyter": {
     "source_hidden": false
    }
   },
   "source": [
    "# SONAR\n",
    "\n",
    "> \"Facebook's thing\"\n",
    "\n",
    "- branch: master\n",
    "- hidden: true\n",
    "- categories: [sonar]"
   ]
  },
  {
   "cell_type": "markdown",
   "id": "9c00dde7",
   "metadata": {
    "jupyter": {
     "source_hidden": false
    }
   },
   "source": [
    "```bibtex\n",
    "@misc{Duquenne:2023:sonar_arxiv,\n",
    "  author = {Paul-Ambroise Duquenne and Holger Schwenk and Benoit Sagot},\n",
    "  title = {SONAR: Sentence-Level Multimodal and Language-Agnostic Representations},\n",
    "  publisher = {arXiv},\n",
    "  year = {2023},\n",
    "  url = {https://arxiv.org/abs/2308.11466},\n",
    "}\n",
    "```\n",
    "\n",
    "[code](https://github.com/facebookresearch/SONAR)"
   ]
  },
  {
   "cell_type": "markdown",
   "id": "febdaeaa",
   "metadata": {
    "jupyter": {
     "source_hidden": false
    }
   },
   "source": [
    "In general, this is quite useless, because only a handful of speech encoders are open source, while the the rest are CC-BY-NC, including the text encoder and decoder, so... in a pure open source environment, it's unusable. The [licence](https://github.com/facebookresearch/SONAR/blob/main/LICENSE.md) refers to the models, not the code.\n",
    "\n",
    "Fortunately, the Swedish model is one of the open ones, and I'm only interested in encoding speech."
   ]
  },
  {
   "cell_type": "code",
   "execution_count": null,
   "id": "51623fda",
   "metadata": {
    "jupyter": {
     "source_hidden": false
    }
   },
   "outputs": [],
   "source": [
    "SWE_MODEL = \"https://dl.fbaipublicfiles.com/SONAR/spenc.v3ap.swe.pt\""
   ]
  },
  {
   "cell_type": "code",
   "execution_count": null,
   "id": "5aca706a",
   "metadata": {
    "jupyter": {
     "source_hidden": false
    }
   },
   "outputs": [],
   "source": [
    "from sonar.models.sonar_speech.loader import load_sonar_speech_model\n",
    "\n",
    "speech_encoder_model = load_sonar_speech_model(\"sonar_speech_encoder_swe\", device=device).eval()"
   ]
  },
  {
   "cell_type": "code",
   "execution_count": null,
   "id": "8500cfee",
   "metadata": {},
   "outputs": [],
   "source": []
  }
 ],
 "metadata": {
  "kernelspec": {
   "display_name": "Python 3 (ipykernel)",
   "language": "python",
   "name": "python3"
  },
  "language_info": {
   "codemirror_mode": {
    "name": "ipython",
    "version": 3
   },
   "file_extension": ".py",
   "mimetype": "text/x-python",
   "name": "python",
   "nbconvert_exporter": "python",
   "pygments_lexer": "ipython3",
   "version": "3.11.9"
  },
  "widgets": {
   "application/vnd.jupyter.widget-state+json": {
    "state": {},
    "version_major": 2,
    "version_minor": 0
   }
  }
 },
 "nbformat": 4,
 "nbformat_minor": 5
}
