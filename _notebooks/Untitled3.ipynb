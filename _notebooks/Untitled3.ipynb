{
 "cells": [
  {
   "cell_type": "code",
   "execution_count": 50,
   "id": "5ea8078c",
   "metadata": {},
   "outputs": [],
   "source": [
    "import numpy as np\n",
    "import matplotlib.pyplot as plt\n",
    "import seaborn as sns\n",
    "import requests\n",
    "from miniaudio import decode, SampleFormat\n",
    "#import torchaudio\n",
    "import parselmouth"
   ]
  },
  {
   "cell_type": "code",
   "execution_count": 54,
   "id": "0e6cf085",
   "metadata": {},
   "outputs": [],
   "source": [
    "def load_from_teanglann(word, dialect):\n",
    "    valid_dialects = ['C', 'M', 'U']\n",
    "    if dialect not in valid_dialects and dialect.upper()[0] not in valid_dialects:\n",
    "        raise Exception(f'Dialect must be one of \"C\", \"M\" or \"U\"; got \"{dialect}\"')\n",
    "    url = f'https://www.teanglann.ie/Can{dialect}/{word}.mp3'\n",
    "    r = requests.get(url)\n",
    "    if r.status_code != 200:\n",
    "        raise Exception(f'Failed to fetch {url}')\n",
    "    # https://github.com/pytorch/audio/issues/800\n",
    "    decoded = decode(r.content, nchannels=1, sample_rate=16000, output_format=SampleFormat.SIGNED32)\n",
    "    #decoded = decode(r.content)\n",
    "    # waveform2, sample_rate2 = torchaudio.load(response.raw)\n",
    "    return np.array(decoded.samples, dtype=np.int32).astype(np.float64).reshape((-1, decoded.nchannels))\n",
    "    #return decoded\n",
    "    "
   ]
  },
  {
   "cell_type": "code",
   "execution_count": 55,
   "id": "2edbf693",
   "metadata": {},
   "outputs": [
    {
     "name": "stdout",
     "output_type": "stream",
     "text": [
      "<class 'miniaudio.DecodedSoundFile'>\n"
     ]
    },
    {
     "data": {
      "image/png": "[encoded data removed]",
      "text/plain": [
       "<Figure size 432x288 with 1 Axes>"
      ]
     },
     "metadata": {
      "needs_background": "light"
     },
     "output_type": "display_data"
    }
   ],
   "source": [
    "foo=load_from_teanglann('madra', 'M')\n",
    "snd = parselmouth.Sound(values=foo)\n",
    "#!wget 'https://www.teanglann.ie/CanM/madra.mp3'\n",
    "#snd = parselmouth.Sound(file_path='madra.mp3')\n",
    "plt.figure()\n",
    "plt.plot(snd.xs(), snd.values.T)\n",
    "plt.xlim([snd.xmin, snd.xmax])\n",
    "plt.xlabel(\"time [s]\")\n",
    "plt.ylabel(\"amplitude\")\n",
    "plt.show()"
   ]
  }
 ],
 "metadata": {
  "kernelspec": {
   "display_name": "Python 3",
   "language": "python",
   "name": "python3"
  },
  "language_info": {
   "codemirror_mode": {
    "name": "ipython",
    "version": 3
   },
   "file_extension": ".py",
   "mimetype": "text/x-python",
   "name": "python",
   "nbconvert_exporter": "python",
   "pygments_lexer": "ipython3",
   "version": "3.8.2"
  }
 },
 "nbformat": 4,
 "nbformat_minor": 5
}
