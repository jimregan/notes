{
 "cells": [
  {
   "cell_type": "code",
   "execution_count": 1,
   "id": "perfect-musician",
   "metadata": {
    "execution": {
     "iopub.execute_input": "2021-05-27T16:52:39.006563Z",
     "iopub.status.busy": "2021-05-27T16:52:39.006015Z",
     "iopub.status.idle": "2021-05-27T16:52:39.012626Z",
     "shell.execute_reply": "2021-05-27T16:52:39.012124Z",
     "shell.execute_reply.started": "2021-05-25T21:59:52.937901Z"
    },
    "papermill": {
     "duration": 0.023984,
     "end_time": "2021-05-27T16:52:39.012792",
     "exception": false,
     "start_time": "2021-05-27T16:52:38.988808",
     "status": "completed"
    },
    "tags": []
   },
   "outputs": [
    {
     "name": "stdout",
     "output_type": "stream",
     "text": [
      "/tmp\n"
     ]
    }
   ],
   "source": [
    "%cd /tmp"
   ]
  },
  {
   "cell_type": "code",
   "execution_count": 2,
   "id": "fresh-place",
   "metadata": {
    "execution": {
     "iopub.execute_input": "2021-05-27T16:52:39.031036Z",
     "iopub.status.busy": "2021-05-27T16:52:39.030408Z",
     "iopub.status.idle": "2021-05-27T16:53:26.014330Z",
     "shell.execute_reply": "2021-05-27T16:53:26.014821Z"
    },
    "papermill": {
     "duration": 46.995194,
     "end_time": "2021-05-27T16:53:26.014985",
     "exception": false,
     "start_time": "2021-05-27T16:52:39.019791",
     "status": "completed"
    },
    "tags": []
   },
   "outputs": [
    {
     "name": "stdout",
     "output_type": "stream",
     "text": [
      "Collecting git+https://github.com/pytorch/fairseq/\r\n",
      "  Cloning https://github.com/pytorch/fairseq/ to ./pip-req-build-gvmrln0_\r\n",
      "  Running command git clone -q https://github.com/pytorch/fairseq/ /tmp/pip-req-build-gvmrln0_\r\n",
      "  Running command git submodule update --init --recursive -q\r\n",
      "  Installing build dependencies ... \u001b[?25l-\b \b\\\b \b|\b \b/\b \b-\b \b\\\b \bdone\r\n",
      "\u001b[?25h  Getting requirements to build wheel ... \u001b[?25ldone\r\n",
      "\u001b[?25h  Installing backend dependencies ... \u001b[?25l-\b \b\\\b \b|\b \b/\b \b-\b \bdone\r\n",
      "\u001b[?25h    Preparing wheel metadata ... \u001b[?25l-\b \b\\\b \bdone\r\n",
      "\u001b[?25hCollecting omegaconf<2.1\r\n",
      "  Downloading omegaconf-2.0.6-py3-none-any.whl (36 kB)\r\n",
      "Requirement already satisfied: numpy in /opt/conda/lib/python3.7/site-packages (from fairseq==1.0.0a0+c8223e3) (1.19.5)\r\n",
      "Requirement already satisfied: cython in /opt/conda/lib/python3.7/site-packages (from fairseq==1.0.0a0+c8223e3) (0.29.23)\r\n",
      "Collecting sacrebleu>=1.4.12\r\n",
      "  Downloading sacrebleu-1.5.1-py3-none-any.whl (54 kB)\r\n",
      "\u001b[K     |████████████████████████████████| 54 kB 1.3 MB/s \r\n",
      "\u001b[?25hCollecting hydra-core<1.1\r\n",
      "  Downloading hydra_core-1.0.6-py3-none-any.whl (123 kB)\r\n",
      "\u001b[K     |████████████████████████████████| 123 kB 3.9 MB/s \r\n",
      "\u001b[?25hRequirement already satisfied: regex in /opt/conda/lib/python3.7/site-packages (from fairseq==1.0.0a0+c8223e3) (2021.3.17)\r\n",
      "Requirement already satisfied: tqdm in /opt/conda/lib/python3.7/site-packages (from fairseq==1.0.0a0+c8223e3) (4.59.0)\r\n",
      "Requirement already satisfied: cffi in /opt/conda/lib/python3.7/site-packages (from fairseq==1.0.0a0+c8223e3) (1.14.5)\r\n",
      "Requirement already satisfied: torch in /opt/conda/lib/python3.7/site-packages (from fairseq==1.0.0a0+c8223e3) (1.7.0)\r\n",
      "Collecting importlib-resources\r\n",
      "  Downloading importlib_resources-5.1.4-py3-none-any.whl (26 kB)\r\n",
      "Collecting antlr4-python3-runtime==4.8\r\n",
      "  Downloading antlr4-python3-runtime-4.8.tar.gz (112 kB)\r\n",
      "\u001b[K     |████████████████████████████████| 112 kB 4.3 MB/s \r\n",
      "\u001b[?25hRequirement already satisfied: typing-extensions in /opt/conda/lib/python3.7/site-packages (from omegaconf<2.1->fairseq==1.0.0a0+c8223e3) (3.7.4.3)\r\n",
      "Requirement already satisfied: PyYAML>=5.1.* in /opt/conda/lib/python3.7/site-packages (from omegaconf<2.1->fairseq==1.0.0a0+c8223e3) (5.3.1)\r\n",
      "Collecting portalocker==2.0.0\r\n",
      "  Downloading portalocker-2.0.0-py2.py3-none-any.whl (11 kB)\r\n",
      "Requirement already satisfied: pycparser in /opt/conda/lib/python3.7/site-packages (from cffi->fairseq==1.0.0a0+c8223e3) (2.20)\r\n",
      "Requirement already satisfied: zipp>=3.1.0 in /opt/conda/lib/python3.7/site-packages (from importlib-resources->hydra-core<1.1->fairseq==1.0.0a0+c8223e3) (3.4.1)\r\n",
      "Requirement already satisfied: future in /opt/conda/lib/python3.7/site-packages (from torch->fairseq==1.0.0a0+c8223e3) (0.18.2)\r\n",
      "Requirement already satisfied: dataclasses in /opt/conda/lib/python3.7/site-packages (from torch->fairseq==1.0.0a0+c8223e3) (0.6)\r\n",
      "Building wheels for collected packages: fairseq, antlr4-python3-runtime\r\n",
      "  Building wheel for fairseq (PEP 517) ... \u001b[?25l-\b \b\\\b \b|\b \b/\b \b-\b \b\\\b \b|\b \b/\b \b-\b \b\\\b \b|\b \b/\b \b-\b \b\\\b \b|\b \b/\b \b-\b \bdone\r\n",
      "\u001b[?25h  Created wheel for fairseq: filename=fairseq-1.0.0a0+c8223e3-cp37-cp37m-linux_x86_64.whl size=2063157 sha256=82e6f4b47d72892dc5a6a74e5517cca321fd2578440d0c06940ff80ae7276a02\r\n",
      "  Stored in directory: /tmp/pip-ephem-wheel-cache-gn7amfuf/wheels/bf/8b/86/69a0f965bcf2c21f14c327d7a0131024ff24e19e3ab6726a07\r\n",
      "  Building wheel for antlr4-python3-runtime (setup.py) ... \u001b[?25l-\b \b\\\b \bdone\r\n",
      "\u001b[?25h  Created wheel for antlr4-python3-runtime: filename=antlr4_python3_runtime-4.8-py3-none-any.whl size=141230 sha256=23a73995ded061a1beda970fa61fd54214e81487213ef3dadbbaa312bd325e2b\r\n",
      "  Stored in directory: /root/.cache/pip/wheels/ca/33/b7/336836125fc9bb4ceaa4376d8abca10ca8bc84ddc824baea6c\r\n",
      "Successfully built fairseq antlr4-python3-runtime\r\n",
      "Installing collected packages: portalocker, omegaconf, importlib-resources, antlr4-python3-runtime, sacrebleu, hydra-core, fairseq\r\n",
      "  Attempting uninstall: portalocker\r\n",
      "    Found existing installation: portalocker 2.3.0\r\n",
      "    Uninstalling portalocker-2.3.0:\r\n",
      "      Successfully uninstalled portalocker-2.3.0\r\n",
      "Successfully installed antlr4-python3-runtime-4.8 fairseq-1.0.0a0+c8223e3 hydra-core-1.0.6 importlib-resources-5.1.4 omegaconf-2.0.6 portalocker-2.0.0 sacrebleu-1.5.1\r\n"
     ]
    }
   ],
   "source": [
    "!pip install git+https://github.com/pytorch/fairseq/"
   ]
  },
  {
   "cell_type": "code",
   "execution_count": 3,
   "id": "civilian-instrument",
   "metadata": {
    "_cell_guid": "b1076dfc-b9ad-4769-8c92-a6c4dae69d19",
    "_uuid": "8f2839f25d086af736a60e9eeb907d3b93b6e0e5",
    "execution": {
     "iopub.execute_input": "2021-05-27T16:53:26.061938Z",
     "iopub.status.busy": "2021-05-27T16:53:26.061229Z",
     "iopub.status.idle": "2021-05-27T16:53:28.749157Z",
     "shell.execute_reply": "2021-05-27T16:53:28.748444Z",
     "shell.execute_reply.started": "2021-05-25T21:59:52.944817Z"
    },
    "papermill": {
     "duration": 2.712963,
     "end_time": "2021-05-27T16:53:28.749284",
     "exception": false,
     "start_time": "2021-05-27T16:53:26.036321",
     "status": "completed"
    },
    "tags": []
   },
   "outputs": [
    {
     "name": "stdout",
     "output_type": "stream",
     "text": [
      "Cloning into 'fairseq'...\r\n",
      "remote: Enumerating objects: 28166, done.\u001b[K\r\n",
      "remote: Counting objects: 100% (580/580), done.\u001b[K\r\n",
      "remote: Compressing objects: 100% (350/350), done.\u001b[K\r\n",
      "remote: Total 28166 (delta 285), reused 443 (delta 217), pack-reused 27586\u001b[K\r\n",
      "Receiving objects: 100% (28166/28166), 11.90 MiB | 20.17 MiB/s, done.\r\n",
      "Resolving deltas: 100% (21108/21108), done.\r\n"
     ]
    }
   ],
   "source": [
    "!git clone https://github.com/pytorch/fairseq/"
   ]
  },
  {
   "cell_type": "code",
   "execution_count": 4,
   "id": "material-indicator",
   "metadata": {
    "execution": {
     "iopub.execute_input": "2021-05-27T16:53:28.810105Z",
     "iopub.status.busy": "2021-05-27T16:53:28.809303Z",
     "iopub.status.idle": "2021-05-27T16:53:28.813045Z",
     "shell.execute_reply": "2021-05-27T16:53:28.813715Z",
     "shell.execute_reply.started": "2021-05-25T21:59:53.235485Z"
    },
    "papermill": {
     "duration": 0.036421,
     "end_time": "2021-05-27T16:53:28.813882",
     "exception": false,
     "start_time": "2021-05-27T16:53:28.777461",
     "status": "completed"
    },
    "tags": []
   },
   "outputs": [
    {
     "name": "stdout",
     "output_type": "stream",
     "text": [
      "/tmp/fairseq/examples/wav2vec/unsupervised/scripts\n"
     ]
    }
   ],
   "source": [
    "%cd fairseq/examples/wav2vec/unsupervised/scripts"
   ]
  },
  {
   "cell_type": "code",
   "execution_count": 5,
   "id": "centered-substance",
   "metadata": {
    "execution": {
     "iopub.execute_input": "2021-05-27T16:53:28.888838Z",
     "iopub.status.busy": "2021-05-27T16:53:28.885639Z",
     "iopub.status.idle": "2021-05-27T16:53:32.725819Z",
     "shell.execute_reply": "2021-05-27T16:53:32.726291Z"
    },
    "papermill": {
     "duration": 3.884166,
     "end_time": "2021-05-27T16:53:32.726442",
     "exception": false,
     "start_time": "2021-05-27T16:53:28.842276",
     "status": "completed"
    },
    "tags": []
   },
   "outputs": [],
   "source": [
    "!mkdir tsv\n",
    "!for i in train test valid; do echo /kaggle/input/wav2vec-u-cv-swedish-vads/wav/train/common-voice-swedish-16bit-wav/ > tsv/$i.tsv; cat /kaggle/input/fork-of-wav2vec-u-cv-swedish-tsv/test.tsv|sed '1d' >> tsv/$i.tsv;done\n",
    "!cp /kaggle/input/wav2vec-u-cv-swedish-prep-ltr-phn-wrd/dic* tsv/\n",
    "!cp /kaggle/input/wav2vec-u-cv-swedish-prep-ltr-phn-wrd/*.wrd tsv/\n",
    "!cp /kaggle/input/wav2vec-u-cv-swedish-prep-ltr-phn-wrd/*.ltr tsv/\n",
    "!cp /kaggle/input/wav2vec-u-cv-swedish-prep-ltr-phn-wrd/*.phn tsv/"
   ]
  },
  {
   "cell_type": "code",
   "execution_count": 6,
   "id": "weird-portable",
   "metadata": {
    "execution": {
     "iopub.execute_input": "2021-05-27T16:53:32.789450Z",
     "iopub.status.busy": "2021-05-27T16:53:32.788573Z",
     "iopub.status.idle": "2021-05-27T16:53:40.170959Z",
     "shell.execute_reply": "2021-05-27T16:53:40.170418Z"
    },
    "papermill": {
     "duration": 7.417066,
     "end_time": "2021-05-27T16:53:40.171095",
     "exception": false,
     "start_time": "2021-05-27T16:53:32.754029",
     "status": "completed"
    },
    "tags": []
   },
   "outputs": [
    {
     "name": "stdout",
     "output_type": "stream",
     "text": [
      "Collecting npy-append-array\r\n",
      "  Downloading npy_append_array-0.9.6-py3-none-any.whl (4.4 kB)\r\n",
      "Collecting faiss\r\n",
      "  Downloading faiss-1.5.3-cp37-cp37m-manylinux1_x86_64.whl (4.7 MB)\r\n",
      "\u001b[K     |████████████████████████████████| 4.7 MB 1.2 MB/s \r\n",
      "\u001b[?25hRequirement already satisfied: numpy in /opt/conda/lib/python3.7/site-packages (from faiss) (1.19.5)\r\n",
      "Installing collected packages: npy-append-array, faiss\r\n",
      "Successfully installed faiss-1.5.3 npy-append-array-0.9.6\r\n"
     ]
    }
   ],
   "source": [
    "!pip install npy-append-array faiss "
   ]
  },
  {
   "cell_type": "code",
   "execution_count": 7,
   "id": "romantic-cologne",
   "metadata": {
    "execution": {
     "iopub.execute_input": "2021-05-27T16:53:40.249976Z",
     "iopub.status.busy": "2021-05-27T16:53:40.249431Z",
     "iopub.status.idle": "2021-05-27T16:53:46.607918Z",
     "shell.execute_reply": "2021-05-27T16:53:46.607028Z"
    },
    "papermill": {
     "duration": 6.401012,
     "end_time": "2021-05-27T16:53:46.608059",
     "exception": false,
     "start_time": "2021-05-27T16:53:40.207047",
     "status": "completed"
    },
    "tags": []
   },
   "outputs": [],
   "source": [
    "%%capture\n",
    "!apt-get -y install zsh"
   ]
  },
  {
   "cell_type": "code",
   "execution_count": 8,
   "id": "devoted-tyler",
   "metadata": {
    "execution": {
     "iopub.execute_input": "2021-05-27T16:53:46.684645Z",
     "iopub.status.busy": "2021-05-27T16:53:46.680411Z",
     "iopub.status.idle": "2021-05-27T16:54:03.771359Z",
     "shell.execute_reply": "2021-05-27T16:54:03.770071Z"
    },
    "papermill": {
     "duration": 17.129253,
     "end_time": "2021-05-27T16:54:03.771489",
     "exception": false,
     "start_time": "2021-05-27T16:53:46.642236",
     "status": "completed"
    },
    "tags": []
   },
   "outputs": [
    {
     "name": "stdout",
     "output_type": "stream",
     "text": [
      "using 512 dim for PCA\r\n",
      "Traceback (most recent call last):\r\n",
      "  File \"wav2vec_extract_features.py\", line 117, in <module>\r\n",
      "    main()\r\n",
      "  File \"wav2vec_extract_features.py\", line 105, in main\r\n",
      "    generator, num = get_iterator(args)\r\n",
      "  File \"wav2vec_extract_features.py\", line 74, in get_iterator\r\n",
      "    reader = Wav2VecFeatureReader(args.checkpoint)\r\n",
      "  File \"wav2vec_extract_features.py\", line 38, in __init__\r\n",
      "    [cp_file]\r\n",
      "  File \"/opt/conda/lib/python3.7/site-packages/fairseq/checkpoint_utils.py\", line 408, in load_model_ensemble_and_task\r\n",
      "    raise IOError(\"Model file not found: {}\".format(filename))\r\n",
      "OSError: Model file not found: ../input/download-xlsr-53-wav2vec2-model/xlsr_53_56k.pt\r\n",
      "Traceback (most recent call last):\r\n",
      "  File \"wav2vec_extract_features.py\", line 117, in <module>\r\n",
      "    main()\r\n",
      "  File \"wav2vec_extract_features.py\", line 105, in main\r\n",
      "    generator, num = get_iterator(args)\r\n",
      "  File \"wav2vec_extract_features.py\", line 74, in get_iterator\r\n",
      "    reader = Wav2VecFeatureReader(args.checkpoint)\r\n",
      "  File \"wav2vec_extract_features.py\", line 38, in __init__\r\n",
      "    [cp_file]\r\n",
      "  File \"/opt/conda/lib/python3.7/site-packages/fairseq/checkpoint_utils.py\", line 408, in load_model_ensemble_and_task\r\n",
      "    raise IOError(\"Model file not found: {}\".format(filename))\r\n",
      "OSError: Model file not found: ../input/download-xlsr-53-wav2vec2-model/xlsr_53_56k.pt\r\n",
      "Traceback (most recent call last):\r\n",
      "  File \"wav2vec_extract_features.py\", line 117, in <module>\r\n",
      "    main()\r\n",
      "  File \"wav2vec_extract_features.py\", line 105, in main\r\n",
      "    generator, num = get_iterator(args)\r\n",
      "  File \"wav2vec_extract_features.py\", line 74, in get_iterator\r\n",
      "    reader = Wav2VecFeatureReader(args.checkpoint)\r\n",
      "  File \"wav2vec_extract_features.py\", line 38, in __init__\r\n",
      "    [cp_file]\r\n",
      "  File \"/opt/conda/lib/python3.7/site-packages/fairseq/checkpoint_utils.py\", line 408, in load_model_ensemble_and_task\r\n",
      "    raise IOError(\"Model file not found: {}\".format(filename))\r\n",
      "OSError: Model file not found: ../input/download-xlsr-53-wav2vec2-model/xlsr_53_56k.pt\r\n",
      "Traceback (most recent call last):\r\n",
      "  File \"/opt/conda/lib/python3.7/site-packages/faiss/swigfaiss.py\", line 14, in swig_import_helper\r\n",
      "    return importlib.import_module(mname)\r\n",
      "  File \"/opt/conda/lib/python3.7/importlib/__init__.py\", line 127, in import_module\r\n",
      "    return _bootstrap._gcd_import(name[level:], package, level)\r\n",
      "  File \"<frozen importlib._bootstrap>\", line 1006, in _gcd_import\r\n",
      "  File \"<frozen importlib._bootstrap>\", line 983, in _find_and_load\r\n",
      "  File \"<frozen importlib._bootstrap>\", line 967, in _find_and_load_unlocked\r\n",
      "  File \"<frozen importlib._bootstrap>\", line 670, in _load_unlocked\r\n",
      "  File \"<frozen importlib._bootstrap>\", line 583, in module_from_spec\r\n",
      "  File \"<frozen importlib._bootstrap_external>\", line 1043, in create_module\r\n",
      "  File \"<frozen importlib._bootstrap>\", line 219, in _call_with_frames_removed\r\n",
      "ImportError: libomp.so: cannot open shared object file: No such file or directory\r\n",
      "\r\n",
      "During handling of the above exception, another exception occurred:\r\n",
      "\r\n",
      "Traceback (most recent call last):\r\n",
      "  File \"wav2vec_cluster_faiss.py\", line 18, in <module>\r\n",
      "    import faiss\r\n",
      "  File \"/opt/conda/lib/python3.7/site-packages/faiss/__init__.py\", line 19, in <module>\r\n",
      "    from .swigfaiss import *\r\n",
      "  File \"/opt/conda/lib/python3.7/site-packages/faiss/swigfaiss.py\", line 17, in <module>\r\n",
      "    _swigfaiss = swig_import_helper()\r\n",
      "  File \"/opt/conda/lib/python3.7/site-packages/faiss/swigfaiss.py\", line 16, in swig_import_helper\r\n",
      "    return importlib.import_module('_swigfaiss')\r\n",
      "  File \"/opt/conda/lib/python3.7/importlib/__init__.py\", line 127, in import_module\r\n",
      "    return _bootstrap._gcd_import(name[level:], package, level)\r\n",
      "ModuleNotFoundError: No module named '_swigfaiss'\r\n",
      "Traceback (most recent call last):\r\n",
      "  File \"/opt/conda/lib/python3.7/site-packages/faiss/swigfaiss.py\", line 14, in swig_import_helper\r\n",
      "    return importlib.import_module(mname)\r\n",
      "  File \"/opt/conda/lib/python3.7/importlib/__init__.py\", line 127, in import_module\r\n",
      "    return _bootstrap._gcd_import(name[level:], package, level)\r\n",
      "  File \"<frozen importlib._bootstrap>\", line 1006, in _gcd_import\r\n",
      "  File \"<frozen importlib._bootstrap>\", line 983, in _find_and_load\r\n",
      "  File \"<frozen importlib._bootstrap>\", line 967, in _find_and_load_unlocked\r\n",
      "  File \"<frozen importlib._bootstrap>\", line 670, in _load_unlocked\r\n",
      "  File \"<frozen importlib._bootstrap>\", line 583, in module_from_spec\r\n",
      "  File \"<frozen importlib._bootstrap_external>\", line 1043, in create_module\r\n",
      "  File \"<frozen importlib._bootstrap>\", line 219, in _call_with_frames_removed\r\n",
      "ImportError: libomp.so: cannot open shared object file: No such file or directory\r\n",
      "\r\n",
      "During handling of the above exception, another exception occurred:\r\n",
      "\r\n",
      "Traceback (most recent call last):\r\n",
      "  File \"wav2vec_apply_cluster_faiss.py\", line 14, in <module>\r\n",
      "    import faiss\r\n",
      "  File \"/opt/conda/lib/python3.7/site-packages/faiss/__init__.py\", line 19, in <module>\r\n",
      "    from .swigfaiss import *\r\n",
      "  File \"/opt/conda/lib/python3.7/site-packages/faiss/swigfaiss.py\", line 17, in <module>\r\n",
      "    _swigfaiss = swig_import_helper()\r\n",
      "  File \"/opt/conda/lib/python3.7/site-packages/faiss/swigfaiss.py\", line 16, in swig_import_helper\r\n",
      "    return importlib.import_module('_swigfaiss')\r\n",
      "  File \"/opt/conda/lib/python3.7/importlib/__init__.py\", line 127, in import_module\r\n",
      "    return _bootstrap._gcd_import(name[level:], package, level)\r\n",
      "ModuleNotFoundError: No module named '_swigfaiss'\r\n",
      "Traceback (most recent call last):\r\n",
      "  File \"/opt/conda/lib/python3.7/site-packages/faiss/swigfaiss.py\", line 14, in swig_import_helper\r\n",
      "    return importlib.import_module(mname)\r\n",
      "  File \"/opt/conda/lib/python3.7/importlib/__init__.py\", line 127, in import_module\r\n",
      "    return _bootstrap._gcd_import(name[level:], package, level)\r\n",
      "  File \"<frozen importlib._bootstrap>\", line 1006, in _gcd_import\r\n",
      "  File \"<frozen importlib._bootstrap>\", line 983, in _find_and_load\r\n",
      "  File \"<frozen importlib._bootstrap>\", line 967, in _find_and_load_unlocked\r\n",
      "  File \"<frozen importlib._bootstrap>\", line 670, in _load_unlocked\r\n",
      "  File \"<frozen importlib._bootstrap>\", line 583, in module_from_spec\r\n",
      "  File \"<frozen importlib._bootstrap_external>\", line 1043, in create_module\r\n",
      "  File \"<frozen importlib._bootstrap>\", line 219, in _call_with_frames_removed\r\n",
      "ImportError: libomp.so: cannot open shared object file: No such file or directory\r\n",
      "\r\n",
      "During handling of the above exception, another exception occurred:\r\n",
      "\r\n",
      "Traceback (most recent call last):\r\n",
      "  File \"wav2vec_apply_cluster_faiss.py\", line 14, in <module>\r\n",
      "    import faiss\r\n",
      "  File \"/opt/conda/lib/python3.7/site-packages/faiss/__init__.py\", line 19, in <module>\r\n",
      "    from .swigfaiss import *\r\n",
      "  File \"/opt/conda/lib/python3.7/site-packages/faiss/swigfaiss.py\", line 17, in <module>\r\n",
      "    _swigfaiss = swig_import_helper()\r\n",
      "  File \"/opt/conda/lib/python3.7/site-packages/faiss/swigfaiss.py\", line 16, in swig_import_helper\r\n",
      "    return importlib.import_module('_swigfaiss')\r\n",
      "  File \"/opt/conda/lib/python3.7/importlib/__init__.py\", line 127, in import_module\r\n",
      "    return _bootstrap._gcd_import(name[level:], package, level)\r\n",
      "ModuleNotFoundError: No module named '_swigfaiss'\r\n",
      "Traceback (most recent call last):\r\n",
      "  File \"/opt/conda/lib/python3.7/site-packages/faiss/swigfaiss.py\", line 14, in swig_import_helper\r\n",
      "    return importlib.import_module(mname)\r\n",
      "  File \"/opt/conda/lib/python3.7/importlib/__init__.py\", line 127, in import_module\r\n",
      "    return _bootstrap._gcd_import(name[level:], package, level)\r\n",
      "  File \"<frozen importlib._bootstrap>\", line 1006, in _gcd_import\r\n",
      "  File \"<frozen importlib._bootstrap>\", line 983, in _find_and_load\r\n",
      "  File \"<frozen importlib._bootstrap>\", line 967, in _find_and_load_unlocked\r\n",
      "  File \"<frozen importlib._bootstrap>\", line 670, in _load_unlocked\r\n",
      "  File \"<frozen importlib._bootstrap>\", line 583, in module_from_spec\r\n",
      "  File \"<frozen importlib._bootstrap_external>\", line 1043, in create_module\r\n",
      "  File \"<frozen importlib._bootstrap>\", line 219, in _call_with_frames_removed\r\n",
      "ImportError: libomp.so: cannot open shared object file: No such file or directory\r\n",
      "\r\n",
      "During handling of the above exception, another exception occurred:\r\n",
      "\r\n",
      "Traceback (most recent call last):\r\n",
      "  File \"wav2vec_apply_cluster_faiss.py\", line 14, in <module>\r\n",
      "    import faiss\r\n",
      "  File \"/opt/conda/lib/python3.7/site-packages/faiss/__init__.py\", line 19, in <module>\r\n",
      "    from .swigfaiss import *\r\n",
      "  File \"/opt/conda/lib/python3.7/site-packages/faiss/swigfaiss.py\", line 17, in <module>\r\n",
      "    _swigfaiss = swig_import_helper()\r\n",
      "  File \"/opt/conda/lib/python3.7/site-packages/faiss/swigfaiss.py\", line 16, in swig_import_helper\r\n",
      "    return importlib.import_module('_swigfaiss')\r\n",
      "  File \"/opt/conda/lib/python3.7/importlib/__init__.py\", line 127, in import_module\r\n",
      "    return _bootstrap._gcd_import(name[level:], package, level)\r\n",
      "ModuleNotFoundError: No module named '_swigfaiss'\r\n",
      "Traceback (most recent call last):\r\n",
      "  File \"/opt/conda/lib/python3.7/site-packages/faiss/swigfaiss.py\", line 14, in swig_import_helper\r\n",
      "    return importlib.import_module(mname)\r\n",
      "  File \"/opt/conda/lib/python3.7/importlib/__init__.py\", line 127, in import_module\r\n",
      "    return _bootstrap._gcd_import(name[level:], package, level)\r\n",
      "  File \"<frozen importlib._bootstrap>\", line 1006, in _gcd_import\r\n",
      "  File \"<frozen importlib._bootstrap>\", line 983, in _find_and_load\r\n",
      "  File \"<frozen importlib._bootstrap>\", line 967, in _find_and_load_unlocked\r\n",
      "  File \"<frozen importlib._bootstrap>\", line 670, in _load_unlocked\r\n",
      "  File \"<frozen importlib._bootstrap>\", line 583, in module_from_spec\r\n",
      "  File \"<frozen importlib._bootstrap_external>\", line 1043, in create_module\r\n",
      "  File \"<frozen importlib._bootstrap>\", line 219, in _call_with_frames_removed\r\n",
      "ImportError: libomp.so: cannot open shared object file: No such file or directory\r\n",
      "\r\n",
      "During handling of the above exception, another exception occurred:\r\n",
      "\r\n",
      "Traceback (most recent call last):\r\n",
      "  File \"pca.py\", line 12, in <module>\r\n",
      "    import faiss\r\n",
      "  File \"/opt/conda/lib/python3.7/site-packages/faiss/__init__.py\", line 19, in <module>\r\n",
      "    from .swigfaiss import *\r\n",
      "  File \"/opt/conda/lib/python3.7/site-packages/faiss/swigfaiss.py\", line 17, in <module>\r\n",
      "    _swigfaiss = swig_import_helper()\r\n",
      "  File \"/opt/conda/lib/python3.7/site-packages/faiss/swigfaiss.py\", line 16, in swig_import_helper\r\n",
      "    return importlib.import_module('_swigfaiss')\r\n",
      "  File \"/opt/conda/lib/python3.7/importlib/__init__.py\", line 127, in import_module\r\n",
      "    return _bootstrap._gcd_import(name[level:], package, level)\r\n",
      "ModuleNotFoundError: No module named '_swigfaiss'\r\n",
      "data path: /kaggle/working/train\r\n",
      "Traceback (most recent call last):\r\n",
      "  File \"apply_pca.py\", line 72, in <module>\r\n",
      "    main()\r\n",
      "  File \"apply_pca.py\", line 44, in main\r\n",
      "    features = np.load(data_poth + \".npy\", mmap_mode=\"r\")\r\n",
      "  File \"/opt/conda/lib/python3.7/site-packages/numpy/lib/npyio.py\", line 416, in load\r\n",
      "    fid = stack.enter_context(open(os_fspath(file), \"rb\"))\r\n",
      "FileNotFoundError: [Errno 2] No such file or directory: '/kaggle/working/train.npy'\r\n",
      "data path: /kaggle/working/precompute_pca512/train\r\n",
      "Traceback (most recent call last):\r\n",
      "  File \"merge_clusters.py\", line 112, in <module>\r\n",
      "    main()\r\n",
      "  File \"merge_clusters.py\", line 42, in main\r\n",
      "    features = np.load(source_path + \".npy\", mmap_mode=\"r\")\r\n",
      "  File \"/opt/conda/lib/python3.7/site-packages/numpy/lib/npyio.py\", line 416, in load\r\n",
      "    fid = stack.enter_context(open(os_fspath(file), \"rb\"))\r\n",
      "FileNotFoundError: [Errno 2] No such file or directory: '/kaggle/working/precompute_pca512/train.npy'\r\n",
      "data path: /kaggle/working/precompute_pca512_cls128_mean/train\r\n",
      "Traceback (most recent call last):\r\n",
      "  File \"mean_pool.py\", line 90, in <module>\r\n",
      "    main()\r\n",
      "  File \"mean_pool.py\", line 44, in main\r\n",
      "    features = np.load(source_path + \".npy\", mmap_mode=\"r\")\r\n",
      "  File \"/opt/conda/lib/python3.7/site-packages/numpy/lib/npyio.py\", line 416, in load\r\n",
      "    fid = stack.enter_context(open(os_fspath(file), \"rb\"))\r\n",
      "FileNotFoundError: [Errno 2] No such file or directory: '/kaggle/working/precompute_pca512_cls128_mean/train.npy'\r\n",
      "data path: /kaggle/working/valid\r\n",
      "Traceback (most recent call last):\r\n",
      "  File \"apply_pca.py\", line 72, in <module>\r\n",
      "    main()\r\n",
      "  File \"apply_pca.py\", line 44, in main\r\n",
      "    features = np.load(data_poth + \".npy\", mmap_mode=\"r\")\r\n",
      "  File \"/opt/conda/lib/python3.7/site-packages/numpy/lib/npyio.py\", line 416, in load\r\n",
      "    fid = stack.enter_context(open(os_fspath(file), \"rb\"))\r\n",
      "FileNotFoundError: [Errno 2] No such file or directory: '/kaggle/working/valid.npy'\r\n",
      "data path: /kaggle/working/precompute_pca512/valid\r\n",
      "Traceback (most recent call last):\r\n",
      "  File \"merge_clusters.py\", line 112, in <module>\r\n",
      "    main()\r\n",
      "  File \"merge_clusters.py\", line 42, in main\r\n",
      "    features = np.load(source_path + \".npy\", mmap_mode=\"r\")\r\n",
      "  File \"/opt/conda/lib/python3.7/site-packages/numpy/lib/npyio.py\", line 416, in load\r\n",
      "    fid = stack.enter_context(open(os_fspath(file), \"rb\"))\r\n",
      "FileNotFoundError: [Errno 2] No such file or directory: '/kaggle/working/precompute_pca512/valid.npy'\r\n",
      "data path: /kaggle/working/precompute_pca512_cls128_mean/valid\r\n",
      "Traceback (most recent call last):\r\n",
      "  File \"mean_pool.py\", line 90, in <module>\r\n",
      "    main()\r\n",
      "  File \"mean_pool.py\", line 44, in main\r\n",
      "    features = np.load(source_path + \".npy\", mmap_mode=\"r\")\r\n",
      "  File \"/opt/conda/lib/python3.7/site-packages/numpy/lib/npyio.py\", line 416, in load\r\n",
      "    fid = stack.enter_context(open(os_fspath(file), \"rb\"))\r\n",
      "FileNotFoundError: [Errno 2] No such file or directory: '/kaggle/working/precompute_pca512_cls128_mean/valid.npy'\r\n",
      "data path: /kaggle/working/test\r\n",
      "Traceback (most recent call last):\r\n",
      "  File \"apply_pca.py\", line 72, in <module>\r\n",
      "    main()\r\n",
      "  File \"apply_pca.py\", line 44, in main\r\n",
      "    features = np.load(data_poth + \".npy\", mmap_mode=\"r\")\r\n",
      "  File \"/opt/conda/lib/python3.7/site-packages/numpy/lib/npyio.py\", line 416, in load\r\n",
      "    fid = stack.enter_context(open(os_fspath(file), \"rb\"))\r\n",
      "FileNotFoundError: [Errno 2] No such file or directory: '/kaggle/working/test.npy'\r\n",
      "data path: /kaggle/working/precompute_pca512/test\r\n",
      "Traceback (most recent call last):\r\n",
      "  File \"merge_clusters.py\", line 112, in <module>\r\n",
      "    main()\r\n",
      "  File \"merge_clusters.py\", line 42, in main\r\n",
      "    features = np.load(source_path + \".npy\", mmap_mode=\"r\")\r\n",
      "  File \"/opt/conda/lib/python3.7/site-packages/numpy/lib/npyio.py\", line 416, in load\r\n",
      "    fid = stack.enter_context(open(os_fspath(file), \"rb\"))\r\n",
      "FileNotFoundError: [Errno 2] No such file or directory: '/kaggle/working/precompute_pca512/test.npy'\r\n",
      "data path: /kaggle/working/precompute_pca512_cls128_mean/test\r\n",
      "Traceback (most recent call last):\r\n",
      "  File \"mean_pool.py\", line 90, in <module>\r\n",
      "    main()\r\n",
      "  File \"mean_pool.py\", line 44, in main\r\n",
      "    features = np.load(source_path + \".npy\", mmap_mode=\"r\")\r\n",
      "  File \"/opt/conda/lib/python3.7/site-packages/numpy/lib/npyio.py\", line 416, in load\r\n",
      "    fid = stack.enter_context(open(os_fspath(file), \"rb\"))\r\n",
      "FileNotFoundError: [Errno 2] No such file or directory: '/kaggle/working/precompute_pca512_cls128_mean/test.npy'\r\n"
     ]
    }
   ],
   "source": [
    "!zsh prepare_audio.sh tsv /kaggle/working ../input/download-xlsr-53-wav2vec2-model/xlsr_53_56k.pt"
   ]
  }
 ],
 "metadata": {
  "kernelspec": {
   "display_name": "Python 3",
   "language": "python",
   "name": "python3"
  },
  "language_info": {
   "codemirror_mode": {
    "name": "ipython",
    "version": 3
   },
   "file_extension": ".py",
   "mimetype": "text/x-python",
   "name": "python",
   "nbconvert_exporter": "python",
   "pygments_lexer": "ipython3",
   "version": "3.7.10"
  },
  "papermill": {
   "default_parameters": {},
   "duration": 91.428224,
   "end_time": "2021-05-27T16:54:04.318888",
   "environment_variables": {},
   "exception": null,
   "input_path": "__notebook__.ipynb",
   "output_path": "__notebook__.ipynb",
   "parameters": {},
   "start_time": "2021-05-27T16:52:32.890664",
   "version": "2.3.3"
  }
 },
 "nbformat": 4,
 "nbformat_minor": 5
}
