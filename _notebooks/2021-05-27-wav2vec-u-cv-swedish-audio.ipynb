{
  "nbformat": 4,
  "nbformat_minor": 5,
  "metadata": {
    "kernelspec": {
      "display_name": "Python 3",
      "language": "python",
      "name": "python3"
    },
    "language_info": {
      "codemirror_mode": {
        "name": "ipython",
        "version": 3
      },
      "file_extension": ".py",
      "mimetype": "text/x-python",
      "name": "python",
      "nbconvert_exporter": "python",
      "pygments_lexer": "ipython3",
      "version": "3.7.10"
    },
    "papermill": {
      "default_parameters": {},
      "duration": 783.893517,
      "end_time": "2021-05-29T16:34:46.973999",
      "environment_variables": {},
      "exception": null,
      "input_path": "__notebook__.ipynb",
      "output_path": "__notebook__.ipynb",
      "parameters": {},
      "start_time": "2021-05-29T16:21:43.080482",
      "version": "2.3.3"
    },
    "colab": {
      "name": "2021-05-27-wav2vec-u-cv-swedish-audio.ipynb",
      "provenance": []
    }
  },
  "cells": [
    {
      "cell_type": "markdown",
      "metadata": {
        "id": "J2P-BW-06MTC"
      },
      "source": [
        "# Common Voice Swedish - prepare audio\n",
        "\n",
        "> \"prepare_audio.sh on Common Voice Swedish\"\n",
        "\n",
        "- toc: false\n",
        "- branch: master\n",
        "- badges: false\n",
        "- comments: true\n",
        "- categories: [kaggle, wav2vec-u]\n"
      ],
      "id": "J2P-BW-06MTC"
    },
    {
      "cell_type": "markdown",
      "metadata": {
        "id": "Jbxn7_0X6LWk"
      },
      "source": [
        "Original [here](https://www.kaggle.com/jimregan/wav2vec-u-cv-swedish-audio)"
      ],
      "id": "Jbxn7_0X6LWk"
    },
    {
      "cell_type": "code",
      "metadata": {
        "execution": {
          "iopub.execute_input": "2021-05-29T16:21:50.174312Z",
          "iopub.status.busy": "2021-05-29T16:21:50.173586Z",
          "iopub.status.idle": "2021-05-29T16:21:50.177524Z",
          "shell.execute_reply": "2021-05-29T16:21:50.177982Z",
          "shell.execute_reply.started": "2021-05-25T21:59:52.937901Z"
        },
        "papermill": {
          "duration": 0.025433,
          "end_time": "2021-05-29T16:21:50.178223",
          "exception": false,
          "start_time": "2021-05-29T16:21:50.152790",
          "status": "completed"
        },
        "tags": [],
        "id": "about-december",
        "outputId": "f695371b-5842-4017-c9f3-6c9104fc57ec"
      },
      "source": [
        "%cd /tmp"
      ],
      "id": "about-december",
      "execution_count": null,
      "outputs": [
        {
          "output_type": "stream",
          "text": [
            "/tmp\n"
          ],
          "name": "stdout"
        }
      ]
    },
    {
      "cell_type": "code",
      "metadata": {
        "execution": {
          "iopub.execute_input": "2021-05-29T16:21:50.198080Z",
          "iopub.status.busy": "2021-05-29T16:21:50.197509Z",
          "iopub.status.idle": "2021-05-29T16:22:37.605192Z",
          "shell.execute_reply": "2021-05-29T16:22:37.604671Z"
        },
        "papermill": {
          "duration": 47.41977,
          "end_time": "2021-05-29T16:22:37.605341",
          "exception": false,
          "start_time": "2021-05-29T16:21:50.185571",
          "status": "completed"
        },
        "tags": [],
        "id": "physical-carnival"
      },
      "source": [
        "%%capture\n",
        "!pip install git+https://github.com/pytorch/fairseq/"
      ],
      "id": "physical-carnival",
      "execution_count": null,
      "outputs": []
    },
    {
      "cell_type": "code",
      "metadata": {
        "_cell_guid": "b1076dfc-b9ad-4769-8c92-a6c4dae69d19",
        "_uuid": "8f2839f25d086af736a60e9eeb907d3b93b6e0e5",
        "execution": {
          "iopub.execute_input": "2021-05-29T16:22:37.629645Z",
          "iopub.status.busy": "2021-05-29T16:22:37.626412Z",
          "iopub.status.idle": "2021-05-29T16:22:39.965052Z",
          "shell.execute_reply": "2021-05-29T16:22:39.964582Z",
          "shell.execute_reply.started": "2021-05-25T21:59:52.944817Z"
        },
        "papermill": {
          "duration": 2.351845,
          "end_time": "2021-05-29T16:22:39.965183",
          "exception": false,
          "start_time": "2021-05-29T16:22:37.613338",
          "status": "completed"
        },
        "tags": [],
        "id": "different-juvenile"
      },
      "source": [
        "%%capture\n",
        "!git clone https://github.com/pytorch/fairseq/"
      ],
      "id": "different-juvenile",
      "execution_count": null,
      "outputs": []
    },
    {
      "cell_type": "code",
      "metadata": {
        "execution": {
          "iopub.execute_input": "2021-05-29T16:22:39.987075Z",
          "iopub.status.busy": "2021-05-29T16:22:39.986154Z",
          "iopub.status.idle": "2021-05-29T16:22:39.990472Z",
          "shell.execute_reply": "2021-05-29T16:22:39.990893Z",
          "shell.execute_reply.started": "2021-05-25T21:59:53.235485Z"
        },
        "papermill": {
          "duration": 0.018127,
          "end_time": "2021-05-29T16:22:39.991045",
          "exception": false,
          "start_time": "2021-05-29T16:22:39.972918",
          "status": "completed"
        },
        "tags": [],
        "id": "trained-chinese",
        "outputId": "e71e8326-34c5-4c6d-9c14-72310fe9e314"
      },
      "source": [
        "%cd fairseq/examples/wav2vec/unsupervised/scripts"
      ],
      "id": "trained-chinese",
      "execution_count": null,
      "outputs": [
        {
          "output_type": "stream",
          "text": [
            "/tmp/fairseq/examples/wav2vec/unsupervised/scripts\n"
          ],
          "name": "stdout"
        }
      ]
    },
    {
      "cell_type": "code",
      "metadata": {
        "execution": {
          "iopub.execute_input": "2021-05-29T16:22:40.025904Z",
          "iopub.status.busy": "2021-05-29T16:22:40.024931Z",
          "iopub.status.idle": "2021-05-29T16:22:44.063145Z",
          "shell.execute_reply": "2021-05-29T16:22:44.062143Z"
        },
        "papermill": {
          "duration": 4.064223,
          "end_time": "2021-05-29T16:22:44.063324",
          "exception": false,
          "start_time": "2021-05-29T16:22:39.999101",
          "status": "completed"
        },
        "tags": [],
        "id": "organic-aviation"
      },
      "source": [
        "!mkdir tsv\n",
        "!for i in train test valid; do echo /kaggle/input/wav2vec-u-cv-swedish-vads/wav/$i/common-voice-swedish-16bit-wav/ > tsv/$i.tsv; cat /kaggle/input/fork-of-wav2vec-u-cv-swedish-tsv/$i.tsv|sed '1d' >> tsv/$i.tsv;done\n",
        "!cp /kaggle/input/wav2vec-u-cv-swedish-prep-ltr-phn-wrd/dic* tsv/\n",
        "!cp /kaggle/input/wav2vec-u-cv-swedish-prep-ltr-phn-wrd/*.wrd tsv/\n",
        "!cp /kaggle/input/wav2vec-u-cv-swedish-prep-ltr-phn-wrd/*.ltr tsv/\n",
        "!cp /kaggle/input/wav2vec-u-cv-swedish-prep-ltr-phn-wrd/*.phn tsv/"
      ],
      "id": "organic-aviation",
      "execution_count": null,
      "outputs": []
    },
    {
      "cell_type": "code",
      "metadata": {
        "execution": {
          "iopub.execute_input": "2021-05-29T16:22:44.089264Z",
          "iopub.status.busy": "2021-05-29T16:22:44.085006Z",
          "iopub.status.idle": "2021-05-29T16:22:50.401582Z",
          "shell.execute_reply": "2021-05-29T16:22:50.402059Z"
        },
        "papermill": {
          "duration": 6.330979,
          "end_time": "2021-05-29T16:22:50.402212",
          "exception": false,
          "start_time": "2021-05-29T16:22:44.071233",
          "status": "completed"
        },
        "tags": [],
        "id": "selected-brooks"
      },
      "source": [
        "%%capture\n",
        "!pip install npy-append-array"
      ],
      "id": "selected-brooks",
      "execution_count": null,
      "outputs": []
    },
    {
      "cell_type": "code",
      "metadata": {
        "execution": {
          "iopub.execute_input": "2021-05-29T16:22:50.423522Z",
          "iopub.status.busy": "2021-05-29T16:22:50.422700Z",
          "iopub.status.idle": "2021-05-29T16:23:01.262835Z",
          "shell.execute_reply": "2021-05-29T16:23:01.262249Z"
        },
        "papermill": {
          "duration": 10.85199,
          "end_time": "2021-05-29T16:23:01.262969",
          "exception": false,
          "start_time": "2021-05-29T16:22:50.410979",
          "status": "completed"
        },
        "tags": [],
        "id": "christian-berry"
      },
      "source": [
        "!pip install faiss-gpu"
      ],
      "id": "christian-berry",
      "execution_count": null,
      "outputs": []
    },
    {
      "cell_type": "code",
      "metadata": {
        "execution": {
          "iopub.execute_input": "2021-05-29T16:23:01.352022Z",
          "iopub.status.busy": "2021-05-29T16:23:01.347520Z",
          "iopub.status.idle": "2021-05-29T16:23:07.798009Z",
          "shell.execute_reply": "2021-05-29T16:23:07.797095Z"
        },
        "papermill": {
          "duration": 6.493266,
          "end_time": "2021-05-29T16:23:07.798147",
          "exception": false,
          "start_time": "2021-05-29T16:23:01.304881",
          "status": "completed"
        },
        "tags": [],
        "id": "upper-payday"
      },
      "source": [
        "%%capture\n",
        "!apt-get -y install zsh"
      ],
      "id": "upper-payday",
      "execution_count": null,
      "outputs": []
    },
    {
      "cell_type": "code",
      "metadata": {
        "execution": {
          "iopub.execute_input": "2021-05-29T16:23:07.878293Z",
          "iopub.status.busy": "2021-05-29T16:23:07.877535Z",
          "iopub.status.idle": "2021-05-29T16:34:44.976840Z",
          "shell.execute_reply": "2021-05-29T16:34:44.975681Z"
        },
        "papermill": {
          "duration": 697.141202,
          "end_time": "2021-05-29T16:34:44.977015",
          "exception": false,
          "start_time": "2021-05-29T16:23:07.835813",
          "status": "completed"
        },
        "tags": [],
        "id": "ideal-fifty",
        "outputId": "0f67acf3-ad6d-49c0-ce4c-e8fa6eebcd47"
      },
      "source": [
        "!zsh prepare_audio.sh tsv /kaggle/working /kaggle/input/download-xlsr-53-wav2vec2-model/xlsr_53_56k.pt"
      ],
      "id": "ideal-fifty",
      "execution_count": null,
      "outputs": [
        {
          "output_type": "stream",
          "text": [
            "using 512 dim for PCA\r\n",
            "100%|███████████████████████████████████████| 2331/2331 [01:21<00:00, 28.76it/s]\r\n",
            "100%|███████████████████████████████████████| 2019/2019 [01:07<00:00, 29.98it/s]\r\n",
            "100%|███████████████████████████████████████| 2027/2027 [01:08<00:00, 29.41it/s]\r\n",
            "Faiss Specs: [faiss_spec(pca=0, norm=False, n_clus=128, sphere=False, spec_str='CLUS128')]\r\n",
            "100%|███████████████████████████████████████| 2331/2331 [01:10<00:00, 33.09it/s]\r\n",
            "(223140, 1024)\r\n",
            "Processing spec faiss_spec(pca=0, norm=False, n_clus=128, sphere=False, spec_str='CLUS128')\r\n",
            "Computing kmeans\r\n",
            "Clustering 223140 points in 1024D to 128 clusters, redo 3 times, 50 iterations\r\n",
            "  Preprocessing in 0.17 s\r\n",
            "Outer iteration 0 / 3\r\n",
            "\r\n",
            "Objective improved: keep new clusters\r\n",
            "Outer iteration 1 / 3\r\n",
            "\r\n",
            "Objective improved: keep new clusters\r\n",
            "Outer iteration 2 / 3\r\n",
            "\r\n",
            "Objective improved: keep new clusters\r\n",
            "Faiss Spec: faiss_spec(pca=0, norm=False, n_clus=128, sphere=False, spec_str='CLUS128')\r\n",
            "Loaded centroids (128, 1024)\r\n",
            "100%|███████████████████████████████████████| 2331/2331 [00:58<00:00, 40.05it/s]\r\n",
            "Faiss Spec: faiss_spec(pca=0, norm=False, n_clus=128, sphere=False, spec_str='CLUS128')\r\n",
            "Loaded centroids (128, 1024)\r\n",
            "100%|███████████████████████████████████████| 2019/2019 [00:57<00:00, 35.24it/s]\r\n",
            "Faiss Spec: faiss_spec(pca=0, norm=False, n_clus=128, sphere=False, spec_str='CLUS128')\r\n",
            "Loaded centroids (128, 1024)\r\n",
            "100%|███████████████████████████████████████| 2027/2027 [00:51<00:00, 39.40it/s]\r\n",
            "Reading features\r\n",
            "Computing PCA\r\n",
            "data path: /kaggle/working/train\r\n",
            "  0%|                                                     | 0/1 [00:00<?, ?it/s]apply_pca.py:66: UserWarning: The given NumPy array is not writeable, and PyTorch does not support non-writeable tensors. This means you can write to the underlying (supposedly non-writeable) NumPy array using the tensor. You may want to copy the array to protect its data or make it writeable before converting it to a tensor. This type of warning will be suppressed for the rest of this program. (Triggered internally at  /opt/conda/conda-bld/pytorch_1603729047590/work/torch/csrc/utils/tensor_numpy.cpp:141.)\r\n",
            "  x = torch.from_numpy(features[start:end]).cuda()\r\n",
            "100%|█████████████████████████████████████████████| 1/1 [00:01<00:00,  1.53s/it]\r\n",
            "data path: /kaggle/working/precompute_pca512/train\r\n",
            "100%|██████████████████████████████████████| 2331/2331 [00:05<00:00, 402.56it/s]\r\n",
            "data path: /kaggle/working/precompute_pca512_cls128_mean/train\r\n",
            "  0%|                                                  | 0/2331 [00:00<?, ?it/s]mean_pool.py:69: UserWarning: The given NumPy array is not writeable, and PyTorch does not support non-writeable tensors. This means you can write to the underlying (supposedly non-writeable) NumPy array using the tensor. You may want to copy the array to protect its data or make it writeable before converting it to a tensor. This type of warning will be suppressed for the rest of this program. (Triggered internally at  /opt/conda/conda-bld/pytorch_1603729047590/work/torch/csrc/utils/tensor_numpy.cpp:141.)\r\n",
            "  x = torch.from_numpy(feats).cuda()\r\n",
            "100%|██████████████████████████████████████| 2331/2331 [00:03<00:00, 692.56it/s]\r\n",
            "data path: /kaggle/working/valid\r\n",
            "  0%|                                                     | 0/1 [00:00<?, ?it/s]apply_pca.py:66: UserWarning: The given NumPy array is not writeable, and PyTorch does not support non-writeable tensors. This means you can write to the underlying (supposedly non-writeable) NumPy array using the tensor. You may want to copy the array to protect its data or make it writeable before converting it to a tensor. This type of warning will be suppressed for the rest of this program. (Triggered internally at  /opt/conda/conda-bld/pytorch_1603729047590/work/torch/csrc/utils/tensor_numpy.cpp:141.)\r\n",
            "  x = torch.from_numpy(features[start:end]).cuda()\r\n",
            "100%|█████████████████████████████████████████████| 1/1 [00:01<00:00,  1.60s/it]\r\n",
            "data path: /kaggle/working/precompute_pca512/valid\r\n",
            "100%|██████████████████████████████████████| 2019/2019 [00:04<00:00, 447.45it/s]\r\n",
            "data path: /kaggle/working/precompute_pca512_cls128_mean/valid\r\n",
            "  0%|                                                  | 0/2019 [00:00<?, ?it/s]mean_pool.py:69: UserWarning: The given NumPy array is not writeable, and PyTorch does not support non-writeable tensors. This means you can write to the underlying (supposedly non-writeable) NumPy array using the tensor. You may want to copy the array to protect its data or make it writeable before converting it to a tensor. This type of warning will be suppressed for the rest of this program. (Triggered internally at  /opt/conda/conda-bld/pytorch_1603729047590/work/torch/csrc/utils/tensor_numpy.cpp:141.)\r\n",
            "  x = torch.from_numpy(feats).cuda()\r\n",
            "100%|██████████████████████████████████████| 2019/2019 [00:03<00:00, 592.35it/s]\r\n",
            "data path: /kaggle/working/test\r\n",
            "  0%|                                                     | 0/1 [00:00<?, ?it/s]apply_pca.py:66: UserWarning: The given NumPy array is not writeable, and PyTorch does not support non-writeable tensors. This means you can write to the underlying (supposedly non-writeable) NumPy array using the tensor. You may want to copy the array to protect its data or make it writeable before converting it to a tensor. This type of warning will be suppressed for the rest of this program. (Triggered internally at  /opt/conda/conda-bld/pytorch_1603729047590/work/torch/csrc/utils/tensor_numpy.cpp:141.)\r\n",
            "  x = torch.from_numpy(features[start:end]).cuda()\r\n",
            "100%|█████████████████████████████████████████████| 1/1 [00:01<00:00,  1.22s/it]\r\n",
            "data path: /kaggle/working/precompute_pca512/test\r\n",
            "100%|██████████████████████████████████████| 2027/2027 [00:05<00:00, 379.47it/s]\r\n",
            "data path: /kaggle/working/precompute_pca512_cls128_mean/test\r\n",
            "  0%|                                                  | 0/2027 [00:00<?, ?it/s]mean_pool.py:69: UserWarning: The given NumPy array is not writeable, and PyTorch does not support non-writeable tensors. This means you can write to the underlying (supposedly non-writeable) NumPy array using the tensor. You may want to copy the array to protect its data or make it writeable before converting it to a tensor. This type of warning will be suppressed for the rest of this program. (Triggered internally at  /opt/conda/conda-bld/pytorch_1603729047590/work/torch/csrc/utils/tensor_numpy.cpp:141.)\r\n",
            "  x = torch.from_numpy(feats).cuda()\r\n",
            "100%|██████████████████████████████████████| 2027/2027 [00:03<00:00, 569.65it/s]\r\n"
          ],
          "name": "stdout"
        }
      ]
    }
  ]
}