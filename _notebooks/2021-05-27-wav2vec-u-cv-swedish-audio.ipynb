{
 "cells": [
  {
   "cell_type": "code",
   "execution_count": 1,
   "id": "changing-navigation",
   "metadata": {
    "execution": {
     "iopub.execute_input": "2021-05-29T08:47:02.085032Z",
     "iopub.status.busy": "2021-05-29T08:47:02.084499Z",
     "iopub.status.idle": "2021-05-29T08:47:02.090534Z",
     "shell.execute_reply": "2021-05-29T08:47:02.091088Z",
     "shell.execute_reply.started": "2021-05-25T21:59:52.937901Z"
    },
    "papermill": {
     "duration": 0.02361,
     "end_time": "2021-05-29T08:47:02.091355",
     "exception": false,
     "start_time": "2021-05-29T08:47:02.067745",
     "status": "completed"
    },
    "tags": []
   },
   "outputs": [
    {
     "name": "stdout",
     "output_type": "stream",
     "text": [
      "/tmp\n"
     ]
    }
   ],
   "source": [
    "%cd /tmp"
   ]
  },
  {
   "cell_type": "code",
   "execution_count": 2,
   "id": "medical-investing",
   "metadata": {
    "execution": {
     "iopub.execute_input": "2021-05-29T08:47:02.109784Z",
     "iopub.status.busy": "2021-05-29T08:47:02.109303Z",
     "iopub.status.idle": "2021-05-29T08:47:44.735560Z",
     "shell.execute_reply": "2021-05-29T08:47:44.734221Z"
    },
    "papermill": {
     "duration": 42.636688,
     "end_time": "2021-05-29T08:47:44.735858",
     "exception": false,
     "start_time": "2021-05-29T08:47:02.099170",
     "status": "completed"
    },
    "tags": []
   },
   "outputs": [
    {
     "name": "stdout",
     "output_type": "stream",
     "text": [
      "Collecting git+https://github.com/pytorch/fairseq/\r\n",
      "  Cloning https://github.com/pytorch/fairseq/ to ./pip-req-build-db1z2_o5\r\n",
      "  Running command git clone -q https://github.com/pytorch/fairseq/ /tmp/pip-req-build-db1z2_o5\r\n",
      "  Running command git submodule update --init --recursive -q\r\n",
      "  Installing build dependencies ... \u001b[?25l-\b \b\\\b \b|\b \b/\b \b-\b \bdone\r\n",
      "\u001b[?25h  Getting requirements to build wheel ... \u001b[?25ldone\r\n",
      "\u001b[?25h  Installing backend dependencies ... \u001b[?25l-\b \b\\\b \b|\b \b/\b \bdone\r\n",
      "\u001b[?25h    Preparing wheel metadata ... \u001b[?25l-\b \b\\\b \bdone\r\n",
      "\u001b[?25hCollecting hydra-core<1.1\r\n",
      "  Downloading hydra_core-1.0.6-py3-none-any.whl (123 kB)\r\n",
      "\u001b[K     |████████████████████████████████| 123 kB 4.4 MB/s \r\n",
      "\u001b[?25hRequirement already satisfied: cython in /opt/conda/lib/python3.7/site-packages (from fairseq==1.0.0a0+19793a7) (0.29.23)\r\n",
      "Collecting omegaconf<2.1\r\n",
      "  Downloading omegaconf-2.0.6-py3-none-any.whl (36 kB)\r\n",
      "Requirement already satisfied: cffi in /opt/conda/lib/python3.7/site-packages (from fairseq==1.0.0a0+19793a7) (1.14.5)\r\n",
      "Requirement already satisfied: torch in /opt/conda/lib/python3.7/site-packages (from fairseq==1.0.0a0+19793a7) (1.7.0)\r\n",
      "Collecting sacrebleu>=1.4.12\r\n",
      "  Downloading sacrebleu-1.5.1-py3-none-any.whl (54 kB)\r\n",
      "\u001b[K     |████████████████████████████████| 54 kB 2.5 MB/s \r\n",
      "\u001b[?25hRequirement already satisfied: regex in /opt/conda/lib/python3.7/site-packages (from fairseq==1.0.0a0+19793a7) (2021.3.17)\r\n",
      "Requirement already satisfied: numpy in /opt/conda/lib/python3.7/site-packages (from fairseq==1.0.0a0+19793a7) (1.19.5)\r\n",
      "Requirement already satisfied: tqdm in /opt/conda/lib/python3.7/site-packages (from fairseq==1.0.0a0+19793a7) (4.59.0)\r\n",
      "Collecting importlib-resources\r\n",
      "  Downloading importlib_resources-5.1.4-py3-none-any.whl (26 kB)\r\n",
      "Collecting antlr4-python3-runtime==4.8\r\n",
      "  Downloading antlr4-python3-runtime-4.8.tar.gz (112 kB)\r\n",
      "\u001b[K     |████████████████████████████████| 112 kB 12.1 MB/s \r\n",
      "\u001b[?25hRequirement already satisfied: typing-extensions in /opt/conda/lib/python3.7/site-packages (from omegaconf<2.1->fairseq==1.0.0a0+19793a7) (3.7.4.3)\r\n",
      "Requirement already satisfied: PyYAML>=5.1.* in /opt/conda/lib/python3.7/site-packages (from omegaconf<2.1->fairseq==1.0.0a0+19793a7) (5.3.1)\r\n",
      "Collecting portalocker==2.0.0\r\n",
      "  Downloading portalocker-2.0.0-py2.py3-none-any.whl (11 kB)\r\n",
      "Requirement already satisfied: pycparser in /opt/conda/lib/python3.7/site-packages (from cffi->fairseq==1.0.0a0+19793a7) (2.20)\r\n",
      "Requirement already satisfied: zipp>=3.1.0 in /opt/conda/lib/python3.7/site-packages (from importlib-resources->hydra-core<1.1->fairseq==1.0.0a0+19793a7) (3.4.1)\r\n",
      "Requirement already satisfied: future in /opt/conda/lib/python3.7/site-packages (from torch->fairseq==1.0.0a0+19793a7) (0.18.2)\r\n",
      "Requirement already satisfied: dataclasses in /opt/conda/lib/python3.7/site-packages (from torch->fairseq==1.0.0a0+19793a7) (0.6)\r\n",
      "Building wheels for collected packages: fairseq, antlr4-python3-runtime\r\n",
      "  Building wheel for fairseq (PEP 517) ... \u001b[?25l-\b \b\\\b \b|\b \b/\b \b-\b \b\\\b \b|\b \b/\b \b-\b \b\\\b \b|\b \b/\b \b-\b \b\\\b \b|\b \b/\b \b-\b \b\\\b \bdone\r\n",
      "\u001b[?25h  Created wheel for fairseq: filename=fairseq-1.0.0a0+19793a7-cp37-cp37m-linux_x86_64.whl size=2063118 sha256=04dab2957cf12544dc73f5cb4610847561ace12edb6f15d59cb379d5a698f59d\r\n",
      "  Stored in directory: /tmp/pip-ephem-wheel-cache-x2xh8pug/wheels/bf/8b/86/69a0f965bcf2c21f14c327d7a0131024ff24e19e3ab6726a07\r\n",
      "  Building wheel for antlr4-python3-runtime (setup.py) ... \u001b[?25l-\b \b\\\b \bdone\r\n",
      "\u001b[?25h  Created wheel for antlr4-python3-runtime: filename=antlr4_python3_runtime-4.8-py3-none-any.whl size=141230 sha256=28ff6abda3c6664b313c7deb62f3502fb30da47433c7bd3712713731d35661b8\r\n",
      "  Stored in directory: /root/.cache/pip/wheels/ca/33/b7/336836125fc9bb4ceaa4376d8abca10ca8bc84ddc824baea6c\r\n",
      "Successfully built fairseq antlr4-python3-runtime\r\n",
      "Installing collected packages: portalocker, omegaconf, importlib-resources, antlr4-python3-runtime, sacrebleu, hydra-core, fairseq\r\n",
      "  Attempting uninstall: portalocker\r\n",
      "    Found existing installation: portalocker 2.3.0\r\n",
      "    Uninstalling portalocker-2.3.0:\r\n",
      "      Successfully uninstalled portalocker-2.3.0\r\n",
      "Successfully installed antlr4-python3-runtime-4.8 fairseq-1.0.0a0+19793a7 hydra-core-1.0.6 importlib-resources-5.1.4 omegaconf-2.0.6 portalocker-2.0.0 sacrebleu-1.5.1\r\n"
     ]
    }
   ],
   "source": [
    "!pip install git+https://github.com/pytorch/fairseq/"
   ]
  },
  {
   "cell_type": "code",
   "execution_count": 3,
   "id": "blond-permission",
   "metadata": {
    "_cell_guid": "b1076dfc-b9ad-4769-8c92-a6c4dae69d19",
    "_uuid": "8f2839f25d086af736a60e9eeb907d3b93b6e0e5",
    "execution": {
     "iopub.execute_input": "2021-05-29T08:47:44.829767Z",
     "iopub.status.busy": "2021-05-29T08:47:44.818572Z",
     "iopub.status.idle": "2021-05-29T08:47:47.112459Z",
     "shell.execute_reply": "2021-05-29T08:47:47.112008Z",
     "shell.execute_reply.started": "2021-05-25T21:59:52.944817Z"
    },
    "papermill": {
     "duration": 2.337267,
     "end_time": "2021-05-29T08:47:47.112587",
     "exception": false,
     "start_time": "2021-05-29T08:47:44.775320",
     "status": "completed"
    },
    "tags": []
   },
   "outputs": [
    {
     "name": "stdout",
     "output_type": "stream",
     "text": [
      "Cloning into 'fairseq'...\r\n",
      "remote: Enumerating objects: 28172, done.\u001b[K\r\n",
      "remote: Counting objects: 100% (586/586), done.\u001b[K\r\n",
      "remote: Compressing objects: 100% (359/359), done.\u001b[K\r\n",
      "remote: Total 28172 (delta 288), reused 443 (delta 214), pack-reused 27586\u001b[K\r\n",
      "Receiving objects: 100% (28172/28172), 11.91 MiB | 26.39 MiB/s, done.\r\n",
      "Resolving deltas: 100% (21111/21111), done.\r\n"
     ]
    }
   ],
   "source": [
    "!git clone https://github.com/pytorch/fairseq/"
   ]
  },
  {
   "cell_type": "code",
   "execution_count": 4,
   "id": "occupational-miniature",
   "metadata": {
    "execution": {
     "iopub.execute_input": "2021-05-29T08:47:47.170002Z",
     "iopub.status.busy": "2021-05-29T08:47:47.169458Z",
     "iopub.status.idle": "2021-05-29T08:47:47.175688Z",
     "shell.execute_reply": "2021-05-29T08:47:47.175142Z",
     "shell.execute_reply.started": "2021-05-25T21:59:53.235485Z"
    },
    "papermill": {
     "duration": 0.036716,
     "end_time": "2021-05-29T08:47:47.175839",
     "exception": false,
     "start_time": "2021-05-29T08:47:47.139123",
     "status": "completed"
    },
    "tags": []
   },
   "outputs": [
    {
     "name": "stdout",
     "output_type": "stream",
     "text": [
      "/tmp/fairseq/examples/wav2vec/unsupervised/scripts\n"
     ]
    }
   ],
   "source": [
    "%cd fairseq/examples/wav2vec/unsupervised/scripts"
   ]
  },
  {
   "cell_type": "code",
   "execution_count": 5,
   "id": "based-metro",
   "metadata": {
    "execution": {
     "iopub.execute_input": "2021-05-29T08:47:47.236229Z",
     "iopub.status.busy": "2021-05-29T08:47:47.232122Z",
     "iopub.status.idle": "2021-05-29T08:48:30.253821Z",
     "shell.execute_reply": "2021-05-29T08:48:30.253336Z"
    },
    "papermill": {
     "duration": 43.051377,
     "end_time": "2021-05-29T08:48:30.253963",
     "exception": false,
     "start_time": "2021-05-29T08:47:47.202586",
     "status": "completed"
    },
    "tags": []
   },
   "outputs": [],
   "source": [
    "!cp -r /kaggle/input/wav2vec-u-cv-swedish-vads/ /tmp"
   ]
  },
  {
   "cell_type": "code",
   "execution_count": 6,
   "id": "editorial-narrative",
   "metadata": {
    "execution": {
     "iopub.execute_input": "2021-05-29T08:48:30.323039Z",
     "iopub.status.busy": "2021-05-29T08:48:30.322335Z",
     "iopub.status.idle": "2021-05-29T08:48:34.137771Z",
     "shell.execute_reply": "2021-05-29T08:48:34.136573Z"
    },
    "papermill": {
     "duration": 3.857591,
     "end_time": "2021-05-29T08:48:34.137974",
     "exception": false,
     "start_time": "2021-05-29T08:48:30.280383",
     "status": "completed"
    },
    "tags": []
   },
   "outputs": [],
   "source": [
    "!mkdir tsv\n",
    "!for i in train test valid; do echo /kaggle/input/wav2vec-u-cv-swedish-vads/wav/$i/common-voice-swedish-16bit-wav/ > tsv/$i.tsv; cat /kaggle/input/fork-of-wav2vec-u-cv-swedish-tsv/test.tsv|sed '1d' >> tsv/$i.tsv;done\n",
    "!cp /kaggle/input/wav2vec-u-cv-swedish-prep-ltr-phn-wrd/dic* tsv/\n",
    "!cp /kaggle/input/wav2vec-u-cv-swedish-prep-ltr-phn-wrd/*.wrd tsv/\n",
    "!cp /kaggle/input/wav2vec-u-cv-swedish-prep-ltr-phn-wrd/*.ltr tsv/\n",
    "!cp /kaggle/input/wav2vec-u-cv-swedish-prep-ltr-phn-wrd/*.phn tsv/"
   ]
  },
  {
   "cell_type": "code",
   "execution_count": 7,
   "id": "touched-vision",
   "metadata": {
    "execution": {
     "iopub.execute_input": "2021-05-29T08:48:34.245395Z",
     "iopub.status.busy": "2021-05-29T08:48:34.244653Z",
     "iopub.status.idle": "2021-05-29T08:48:40.142988Z",
     "shell.execute_reply": "2021-05-29T08:48:40.142194Z"
    },
    "papermill": {
     "duration": 5.955397,
     "end_time": "2021-05-29T08:48:40.143134",
     "exception": false,
     "start_time": "2021-05-29T08:48:34.187737",
     "status": "completed"
    },
    "tags": []
   },
   "outputs": [],
   "source": [
    "%%capture\n",
    "!pip install npy-append-array"
   ]
  },
  {
   "cell_type": "code",
   "execution_count": 8,
   "id": "killing-certification",
   "metadata": {
    "execution": {
     "iopub.execute_input": "2021-05-29T08:48:40.204727Z",
     "iopub.status.busy": "2021-05-29T08:48:40.200595Z",
     "iopub.status.idle": "2021-05-29T08:49:49.636386Z",
     "shell.execute_reply": "2021-05-29T08:49:49.635860Z"
    },
    "papermill": {
     "duration": 69.466526,
     "end_time": "2021-05-29T08:49:49.636507",
     "exception": false,
     "start_time": "2021-05-29T08:48:40.169981",
     "status": "completed"
    },
    "tags": []
   },
   "outputs": [
    {
     "name": "stdout",
     "output_type": "stream",
     "text": [
      "Collecting package metadata (current_repodata.json): - \b\b\\ \b\b| \b\b/ \b\b- \b\b\\ \b\b| \b\b/ \b\b- \b\b\\ \b\b| \b\b/ \b\b- \b\b\\ \b\b| \b\b/ \b\b- \b\b\\ \b\b| \b\b/ \b\b- \b\b\\ \b\b| \b\b/ \b\b- \b\b\\ \b\b| \b\b/ \b\b- \b\b\\ \b\b| \b\b/ \b\b- \b\b\\ \b\b| \b\b/ \b\b- \b\b\\ \b\b| \b\b/ \b\b- \b\b\\ \b\b| \b\b/ \b\b- \b\b\\ \b\b| \b\b/ \b\b- \b\b\\ \b\b| \b\b/ \b\b- \b\b\\ \b\b| \b\b/ \b\b- \b\b\\ \b\b| \b\b/ \b\b- \b\b\\ \b\b| \b\b/ \b\b- \b\b\\ \b\b| \b\b/ \b\b- \b\b\\ \b\b| \b\b/ \b\b- \b\b\\ \b\b| \b\b/ \b\b- \b\b\\ \b\b| \b\b/ \b\b- \b\b\\ \b\b| \b\b/ \b\b- \b\b\\ \b\b| \b\b/ \b\b- \b\b\\ \b\b| \b\b/ \b\b- \b\b\\ \b\b| \b\b/ \b\b- \b\b\\ \b\b| \b\b/ \b\b- \b\b\\ \b\b| \b\b/ \b\b- \b\b\\ \b\b| \b\b/ \b\b- \b\b\\ \b\b| \b\b/ \b\b- \b\b\\ \b\b| \b\b/ \b\b- \b\b\\ \b\b| \b\b/ \b\b- \b\b\\ \b\b| \b\b/ \b\b- \b\bdone\r\n",
      "Solving environment: | \b\b/ \b\b- \b\b\\ \b\b| \b\b/ \b\b- \b\b\\ \b\b| \b\b/ \b\b- \b\b\\ \b\b| \b\b/ \b\b- \b\b\\ \b\b| \b\b/ \b\b- \b\b\\ \b\b| \b\b/ \b\b- \b\b\\ \b\b| \b\b/ \b\b- \b\b\\ \b\b| \b\b/ \b\b- \b\b\\ \b\b| \b\b/ \b\b- \b\b\\ \b\b| \b\b/ \b\b- \b\b\\ \b\b| \b\b/ \b\b- \b\b\\ \b\b| \b\b/ \b\b- \b\b\\ \b\b| \b\b/ \b\b- \b\b\\ \b\b| \b\b/ \b\b- \b\b\\ \b\b| \b\b/ \b\b- \b\b\\ \b\b| \b\b/ \b\b- \b\b\\ \b\b| \b\b/ \b\b- \b\b\\ \b\b| \b\b/ \b\b- \b\b\\ \b\b| \b\b/ \b\b- \b\b\\ \b\b| \b\b/ \b\b- \b\b\\ \b\b| \b\b/ \b\b- \b\b\\ \b\b| \b\b/ \b\b- \b\b\\ \b\b| \b\b/ \b\b- \b\b\\ \b\b| \b\b/ \b\b- \b\b\\ \b\b| \b\b/ \b\b- \b\b\\ \b\b| \b\b/ \b\b- \b\b\\ \b\b| \b\b/ \b\b- \b\b\\ \b\b| \b\b/ \b\b- \b\b\\ \b\b| \b\b/ \b\b- \b\b\\ \b\b| \b\b/ \b\b- \b\b\\ \b\b| \b\b/ \b\b- \b\b\\ \b\b| \b\b/ \b\b- \b\b\\ \b\b| \b\b/ \b\b- \b\b\\ \b\b| \b\b/ \b\b- \b\b\\ \b\b| \b\b/ \b\b- \b\b\\ \b\b| \b\b/ \b\b- \b\b\\ \b\b| \b\b/ \b\b- \b\b\\ \b\b| \b\b/ \b\b- \b\b\\ \b\b| \b\b/ \b\b- \b\b\\ \b\b| \b\b/ \b\b- \b\b\\ \b\b| \b\b/ \b\b- \b\b\\ \b\b| \b\b/ \b\b- \b\b\\ \b\b| \b\b/ \b\b- \b\b\\ \b\b| \b\b/ \b\bdone\r\n",
      "\r\n",
      "## Package Plan ##\r\n",
      "\r\n",
      "  environment location: /opt/conda\r\n",
      "\r\n",
      "  added / updated specs:\r\n",
      "    - cudatoolkit=11.0\r\n",
      "    - faiss-gpu\r\n",
      "\r\n",
      "\r\n",
      "The following packages will be downloaded:\r\n",
      "\r\n",
      "    package                    |            build\r\n",
      "    ---------------------------|-----------------\r\n",
      "    cuda92-1.0                 |                0           4 KB  pytorch\r\n",
      "    faiss-gpu-1.5.0            |   py37_cuda9.2_1        18.5 MB  pytorch\r\n",
      "    ------------------------------------------------------------\r\n",
      "                                           Total:        18.5 MB\r\n",
      "\r\n",
      "The following NEW packages will be INSTALLED:\r\n",
      "\r\n",
      "  cuda92             pytorch/linux-64::cuda92-1.0-0\r\n",
      "  faiss-gpu          pytorch/linux-64::faiss-gpu-1.5.0-py37_cuda9.2_1\r\n",
      "\r\n",
      "\r\n",
      "\r\n",
      "Downloading and Extracting Packages\r\n",
      "faiss-gpu-1.5.0      | 18.5 MB   | ##################################### | 100% \r\n",
      "cuda92-1.0           | 4 KB      | ##################################### | 100% \r\n",
      "Preparing transaction: \\ \b\bdone\r\n",
      "Verifying transaction: / \b\bdone\r\n",
      "Executing transaction: \\ \b\bdone\r\n"
     ]
    }
   ],
   "source": [
    "!conda install faiss-gpu cudatoolkit=11.0 -c pytorch -y"
   ]
  },
  {
   "cell_type": "code",
   "execution_count": 9,
   "id": "corrected-hungary",
   "metadata": {
    "execution": {
     "iopub.execute_input": "2021-05-29T08:49:49.852310Z",
     "iopub.status.busy": "2021-05-29T08:49:49.851408Z",
     "iopub.status.idle": "2021-05-29T08:49:55.751445Z",
     "shell.execute_reply": "2021-05-29T08:49:55.750270Z"
    },
    "papermill": {
     "duration": 6.011481,
     "end_time": "2021-05-29T08:49:55.751581",
     "exception": false,
     "start_time": "2021-05-29T08:49:49.740100",
     "status": "completed"
    },
    "tags": []
   },
   "outputs": [],
   "source": [
    "%%capture\n",
    "!apt-get -y install zsh"
   ]
  },
  {
   "cell_type": "code",
   "execution_count": 10,
   "id": "split-weight",
   "metadata": {
    "execution": {
     "iopub.execute_input": "2021-05-29T08:49:55.963361Z",
     "iopub.status.busy": "2021-05-29T08:49:55.959102Z",
     "iopub.status.idle": "2021-05-29T08:52:28.468888Z",
     "shell.execute_reply": "2021-05-29T08:52:28.468350Z"
    },
    "papermill": {
     "duration": 152.615812,
     "end_time": "2021-05-29T08:52:28.469039",
     "exception": false,
     "start_time": "2021-05-29T08:49:55.853227",
     "status": "completed"
    },
    "tags": []
   },
   "outputs": [
    {
     "name": "stdout",
     "output_type": "stream",
     "text": [
      "using 512 dim for PCA\r\n",
      "  0%|                                                  | 0/2027 [00:00<?, ?it/s]\r\n",
      "Traceback (most recent call last):\r\n",
      "  File \"wav2vec_extract_features.py\", line 117, in <module>\r\n",
      "    main()\r\n",
      "  File \"wav2vec_extract_features.py\", line 109, in main\r\n",
      "    for w2v_feats in tqdm.tqdm(iterator, total=num):\r\n",
      "  File \"/opt/conda/lib/python3.7/site-packages/tqdm/std.py\", line 1178, in __iter__\r\n",
      "    for obj in iterable:\r\n",
      "  File \"wav2vec_extract_features.py\", line 78, in iterate\r\n",
      "    w2v_feats = reader.get_feats(fname)\r\n",
      "  File \"wav2vec_extract_features.py\", line 54, in get_feats\r\n",
      "    x = self.read_audio(loc)\r\n",
      "  File \"wav2vec_extract_features.py\", line 48, in read_audio\r\n",
      "    wav, sr = sf.read(fname)\r\n",
      "  File \"/opt/conda/lib/python3.7/site-packages/soundfile.py\", line 257, in read\r\n",
      "    subtype, endian, format, closefd) as f:\r\n",
      "  File \"/opt/conda/lib/python3.7/site-packages/soundfile.py\", line 629, in __init__\r\n",
      "    self._file = self._open(file, mode_int, closefd)\r\n",
      "  File \"/opt/conda/lib/python3.7/site-packages/soundfile.py\", line 1184, in _open\r\n",
      "    \"Error opening {0!r}: \".format(self.name))\r\n",
      "  File \"/opt/conda/lib/python3.7/site-packages/soundfile.py\", line 1357, in _error_check\r\n",
      "    raise RuntimeError(prefix + _ffi.string(err_str).decode('utf-8', 'replace'))\r\n",
      "RuntimeError: Error opening '/kaggle/input/wav2vec-u-cv-swedish-vads/wav/train/common-voice-swedish-16bit-wav/common_voice_sv-SE_23828220.wav': System error.\r\n",
      "  0%|                                                  | 0/2027 [00:00<?, ?it/s]\r\n",
      "Traceback (most recent call last):\r\n",
      "  File \"wav2vec_extract_features.py\", line 117, in <module>\r\n",
      "    main()\r\n",
      "  File \"wav2vec_extract_features.py\", line 109, in main\r\n",
      "    for w2v_feats in tqdm.tqdm(iterator, total=num):\r\n",
      "  File \"/opt/conda/lib/python3.7/site-packages/tqdm/std.py\", line 1178, in __iter__\r\n",
      "    for obj in iterable:\r\n",
      "  File \"wav2vec_extract_features.py\", line 78, in iterate\r\n",
      "    w2v_feats = reader.get_feats(fname)\r\n",
      "  File \"wav2vec_extract_features.py\", line 54, in get_feats\r\n",
      "    x = self.read_audio(loc)\r\n",
      "  File \"wav2vec_extract_features.py\", line 48, in read_audio\r\n",
      "    wav, sr = sf.read(fname)\r\n",
      "  File \"/opt/conda/lib/python3.7/site-packages/soundfile.py\", line 257, in read\r\n",
      "    subtype, endian, format, closefd) as f:\r\n",
      "  File \"/opt/conda/lib/python3.7/site-packages/soundfile.py\", line 629, in __init__\r\n",
      "    self._file = self._open(file, mode_int, closefd)\r\n",
      "  File \"/opt/conda/lib/python3.7/site-packages/soundfile.py\", line 1184, in _open\r\n",
      "    \"Error opening {0!r}: \".format(self.name))\r\n",
      "  File \"/opt/conda/lib/python3.7/site-packages/soundfile.py\", line 1357, in _error_check\r\n",
      "    raise RuntimeError(prefix + _ffi.string(err_str).decode('utf-8', 'replace'))\r\n",
      "RuntimeError: Error opening '/kaggle/input/wav2vec-u-cv-swedish-vads/wav/valid/common-voice-swedish-16bit-wav/common_voice_sv-SE_23828220.wav': System error.\r\n",
      "100%|███████████████████████████████████████| 2027/2027 [00:50<00:00, 40.51it/s]\r\n",
      "Faiss Specs: [faiss_spec(pca=0, norm=False, n_clus=128, sphere=False, spec_str='CLUS128')]\r\n",
      "  0%|                                                  | 0/2027 [00:00<?, ?it/s]\r\n",
      "Traceback (most recent call last):\r\n",
      "  File \"wav2vec_cluster_faiss.py\", line 210, in <module>\r\n",
      "    main()\r\n",
      "  File \"wav2vec_cluster_faiss.py\", line 144, in main\r\n",
      "    for f in tqdm.tqdm(iterator, total=num):\r\n",
      "  File \"/opt/conda/lib/python3.7/site-packages/tqdm/std.py\", line 1178, in __iter__\r\n",
      "    for obj in iterable:\r\n",
      "  File \"wav2vec_cluster_faiss.py\", line 123, in iterate\r\n",
      "    feats = reader.get_feats(fname)\r\n",
      "  File \"wav2vec_cluster_faiss.py\", line 101, in get_feats\r\n",
      "    x = self.read_audio(loc)\r\n",
      "  File \"wav2vec_cluster_faiss.py\", line 95, in read_audio\r\n",
      "    wav, sr = sf.read(fname)\r\n",
      "  File \"/opt/conda/lib/python3.7/site-packages/soundfile.py\", line 257, in read\r\n",
      "    subtype, endian, format, closefd) as f:\r\n",
      "  File \"/opt/conda/lib/python3.7/site-packages/soundfile.py\", line 629, in __init__\r\n",
      "    self._file = self._open(file, mode_int, closefd)\r\n",
      "  File \"/opt/conda/lib/python3.7/site-packages/soundfile.py\", line 1184, in _open\r\n",
      "    \"Error opening {0!r}: \".format(self.name))\r\n",
      "  File \"/opt/conda/lib/python3.7/site-packages/soundfile.py\", line 1357, in _error_check\r\n",
      "    raise RuntimeError(prefix + _ffi.string(err_str).decode('utf-8', 'replace'))\r\n",
      "RuntimeError: Error opening '/kaggle/input/wav2vec-u-cv-swedish-vads/wav/train/common-voice-swedish-16bit-wav/common_voice_sv-SE_19354297.wav': System error.\r\n",
      "Faiss Spec: faiss_spec(pca=0, norm=False, n_clus=128, sphere=False, spec_str='CLUS128')\r\n",
      "Traceback (most recent call last):\r\n",
      "  File \"wav2vec_apply_cluster_faiss.py\", line 111, in <module>\r\n",
      "    main()\r\n",
      "  File \"wav2vec_apply_cluster_faiss.py\", line 75, in main\r\n",
      "    centroids = np.load(osp.join(args.path, \"centroids.npy\"))\r\n",
      "  File \"/opt/conda/lib/python3.7/site-packages/numpy/lib/npyio.py\", line 416, in load\r\n",
      "    fid = stack.enter_context(open(os_fspath(file), \"rb\"))\r\n",
      "FileNotFoundError: [Errno 2] No such file or directory: '/kaggle/working/CLUS128/centroids.npy'\r\n",
      "Faiss Spec: faiss_spec(pca=0, norm=False, n_clus=128, sphere=False, spec_str='CLUS128')\r\n",
      "Traceback (most recent call last):\r\n",
      "  File \"wav2vec_apply_cluster_faiss.py\", line 111, in <module>\r\n",
      "    main()\r\n",
      "  File \"wav2vec_apply_cluster_faiss.py\", line 75, in main\r\n",
      "    centroids = np.load(osp.join(args.path, \"centroids.npy\"))\r\n",
      "  File \"/opt/conda/lib/python3.7/site-packages/numpy/lib/npyio.py\", line 416, in load\r\n",
      "    fid = stack.enter_context(open(os_fspath(file), \"rb\"))\r\n",
      "FileNotFoundError: [Errno 2] No such file or directory: '/kaggle/working/CLUS128/centroids.npy'\r\n",
      "Faiss Spec: faiss_spec(pca=0, norm=False, n_clus=128, sphere=False, spec_str='CLUS128')\r\n",
      "Traceback (most recent call last):\r\n",
      "  File \"wav2vec_apply_cluster_faiss.py\", line 111, in <module>\r\n",
      "    main()\r\n",
      "  File \"wav2vec_apply_cluster_faiss.py\", line 75, in main\r\n",
      "    centroids = np.load(osp.join(args.path, \"centroids.npy\"))\r\n",
      "  File \"/opt/conda/lib/python3.7/site-packages/numpy/lib/npyio.py\", line 416, in load\r\n",
      "    fid = stack.enter_context(open(os_fspath(file), \"rb\"))\r\n",
      "FileNotFoundError: [Errno 2] No such file or directory: '/kaggle/working/CLUS128/centroids.npy'\r\n",
      "Reading features\r\n",
      "Traceback (most recent call last):\r\n",
      "  File \"pca.py\", line 53, in <module>\r\n",
      "    main()\r\n",
      "  File \"pca.py\", line 34, in main\r\n",
      "    x = np.load(args.data, mmap_mode=\"r\")\r\n",
      "  File \"/opt/conda/lib/python3.7/site-packages/numpy/lib/npyio.py\", line 416, in load\r\n",
      "    fid = stack.enter_context(open(os_fspath(file), \"rb\"))\r\n",
      "FileNotFoundError: [Errno 2] No such file or directory: '/kaggle/working/train.npy'\r\n",
      "data path: /kaggle/working/train\r\n",
      "Traceback (most recent call last):\r\n",
      "  File \"apply_pca.py\", line 72, in <module>\r\n",
      "    main()\r\n",
      "  File \"apply_pca.py\", line 44, in main\r\n",
      "    features = np.load(data_poth + \".npy\", mmap_mode=\"r\")\r\n",
      "  File \"/opt/conda/lib/python3.7/site-packages/numpy/lib/npyio.py\", line 416, in load\r\n",
      "    fid = stack.enter_context(open(os_fspath(file), \"rb\"))\r\n",
      "FileNotFoundError: [Errno 2] No such file or directory: '/kaggle/working/train.npy'\r\n",
      "data path: /kaggle/working/precompute_pca512/train\r\n",
      "Traceback (most recent call last):\r\n",
      "  File \"merge_clusters.py\", line 112, in <module>\r\n",
      "    main()\r\n",
      "  File \"merge_clusters.py\", line 42, in main\r\n",
      "    features = np.load(source_path + \".npy\", mmap_mode=\"r\")\r\n",
      "  File \"/opt/conda/lib/python3.7/site-packages/numpy/lib/npyio.py\", line 416, in load\r\n",
      "    fid = stack.enter_context(open(os_fspath(file), \"rb\"))\r\n",
      "FileNotFoundError: [Errno 2] No such file or directory: '/kaggle/working/precompute_pca512/train.npy'\r\n",
      "data path: /kaggle/working/precompute_pca512_cls128_mean/train\r\n",
      "Traceback (most recent call last):\r\n",
      "  File \"mean_pool.py\", line 90, in <module>\r\n",
      "    main()\r\n",
      "  File \"mean_pool.py\", line 44, in main\r\n",
      "    features = np.load(source_path + \".npy\", mmap_mode=\"r\")\r\n",
      "  File \"/opt/conda/lib/python3.7/site-packages/numpy/lib/npyio.py\", line 416, in load\r\n",
      "    fid = stack.enter_context(open(os_fspath(file), \"rb\"))\r\n",
      "FileNotFoundError: [Errno 2] No such file or directory: '/kaggle/working/precompute_pca512_cls128_mean/train.npy'\r\n",
      "data path: /kaggle/working/valid\r\n",
      "Traceback (most recent call last):\r\n",
      "  File \"apply_pca.py\", line 72, in <module>\r\n",
      "    main()\r\n",
      "  File \"apply_pca.py\", line 44, in main\r\n",
      "    features = np.load(data_poth + \".npy\", mmap_mode=\"r\")\r\n",
      "  File \"/opt/conda/lib/python3.7/site-packages/numpy/lib/npyio.py\", line 416, in load\r\n",
      "    fid = stack.enter_context(open(os_fspath(file), \"rb\"))\r\n",
      "FileNotFoundError: [Errno 2] No such file or directory: '/kaggle/working/valid.npy'\r\n",
      "data path: /kaggle/working/precompute_pca512/valid\r\n",
      "Traceback (most recent call last):\r\n",
      "  File \"merge_clusters.py\", line 112, in <module>\r\n",
      "    main()\r\n",
      "  File \"merge_clusters.py\", line 42, in main\r\n",
      "    features = np.load(source_path + \".npy\", mmap_mode=\"r\")\r\n",
      "  File \"/opt/conda/lib/python3.7/site-packages/numpy/lib/npyio.py\", line 416, in load\r\n",
      "    fid = stack.enter_context(open(os_fspath(file), \"rb\"))\r\n",
      "FileNotFoundError: [Errno 2] No such file or directory: '/kaggle/working/precompute_pca512/valid.npy'\r\n",
      "data path: /kaggle/working/precompute_pca512_cls128_mean/valid\r\n",
      "Traceback (most recent call last):\r\n",
      "  File \"mean_pool.py\", line 90, in <module>\r\n",
      "    main()\r\n",
      "  File \"mean_pool.py\", line 44, in main\r\n",
      "    features = np.load(source_path + \".npy\", mmap_mode=\"r\")\r\n",
      "  File \"/opt/conda/lib/python3.7/site-packages/numpy/lib/npyio.py\", line 416, in load\r\n",
      "    fid = stack.enter_context(open(os_fspath(file), \"rb\"))\r\n",
      "FileNotFoundError: [Errno 2] No such file or directory: '/kaggle/working/precompute_pca512_cls128_mean/valid.npy'\r\n",
      "data path: /kaggle/working/test\r\n",
      "Traceback (most recent call last):\r\n",
      "  File \"apply_pca.py\", line 72, in <module>\r\n",
      "    main()\r\n",
      "  File \"apply_pca.py\", line 45, in main\r\n",
      "    pca_A = torch.from_numpy(np.load(args.pca_path + \"_A.npy\")).cuda()\r\n",
      "  File \"/opt/conda/lib/python3.7/site-packages/numpy/lib/npyio.py\", line 416, in load\r\n",
      "    fid = stack.enter_context(open(os_fspath(file), \"rb\"))\r\n",
      "FileNotFoundError: [Errno 2] No such file or directory: '/kaggle/working/pca/512_pca_A.npy'\r\n",
      "data path: /kaggle/working/precompute_pca512/test\r\n",
      "Traceback (most recent call last):\r\n",
      "  File \"merge_clusters.py\", line 112, in <module>\r\n",
      "    main()\r\n",
      "  File \"merge_clusters.py\", line 42, in main\r\n",
      "    features = np.load(source_path + \".npy\", mmap_mode=\"r\")\r\n",
      "  File \"/opt/conda/lib/python3.7/site-packages/numpy/lib/npyio.py\", line 416, in load\r\n",
      "    fid = stack.enter_context(open(os_fspath(file), \"rb\"))\r\n",
      "FileNotFoundError: [Errno 2] No such file or directory: '/kaggle/working/precompute_pca512/test.npy'\r\n",
      "data path: /kaggle/working/precompute_pca512_cls128_mean/test\r\n",
      "Traceback (most recent call last):\r\n",
      "  File \"mean_pool.py\", line 90, in <module>\r\n",
      "    main()\r\n",
      "  File \"mean_pool.py\", line 44, in main\r\n",
      "    features = np.load(source_path + \".npy\", mmap_mode=\"r\")\r\n",
      "  File \"/opt/conda/lib/python3.7/site-packages/numpy/lib/npyio.py\", line 416, in load\r\n",
      "    fid = stack.enter_context(open(os_fspath(file), \"rb\"))\r\n",
      "FileNotFoundError: [Errno 2] No such file or directory: '/kaggle/working/precompute_pca512_cls128_mean/test.npy'\r\n"
     ]
    }
   ],
   "source": [
    "!zsh prepare_audio.sh tsv /kaggle/working /kaggle/input/download-xlsr-53-wav2vec2-model/xlsr_53_56k.pt"
   ]
  }
 ],
 "metadata": {
  "kernelspec": {
   "display_name": "Python 3",
   "language": "python",
   "name": "python3"
  },
  "language_info": {
   "codemirror_mode": {
    "name": "ipython",
    "version": 3
   },
   "file_extension": ".py",
   "mimetype": "text/x-python",
   "name": "python",
   "nbconvert_exporter": "python",
   "pygments_lexer": "ipython3",
   "version": "3.7.10"
  },
  "papermill": {
   "default_parameters": {},
   "duration": 333.136979,
   "end_time": "2021-05-29T08:52:29.199975",
   "environment_variables": {},
   "exception": null,
   "input_path": "__notebook__.ipynb",
   "output_path": "__notebook__.ipynb",
   "parameters": {},
   "start_time": "2021-05-29T08:46:56.062996",
   "version": "2.3.3"
  }
 },
 "nbformat": 4,
 "nbformat_minor": 5
}
