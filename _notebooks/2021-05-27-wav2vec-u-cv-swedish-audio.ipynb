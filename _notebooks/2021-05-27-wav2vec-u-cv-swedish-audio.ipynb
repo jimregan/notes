{
 "cells": [
  {
   "cell_type": "code",
   "execution_count": 1,
   "id": "instructional-advocacy",
   "metadata": {
    "execution": {
     "iopub.execute_input": "2021-05-29T15:10:46.481076Z",
     "iopub.status.busy": "2021-05-29T15:10:46.480402Z",
     "iopub.status.idle": "2021-05-29T15:10:46.486035Z",
     "shell.execute_reply": "2021-05-29T15:10:46.485521Z",
     "shell.execute_reply.started": "2021-05-25T21:59:52.937901Z"
    },
    "papermill": {
     "duration": 0.021901,
     "end_time": "2021-05-29T15:10:46.486171",
     "exception": false,
     "start_time": "2021-05-29T15:10:46.464270",
     "status": "completed"
    },
    "tags": []
   },
   "outputs": [
    {
     "name": "stdout",
     "output_type": "stream",
     "text": [
      "/tmp\n"
     ]
    }
   ],
   "source": [
    "%cd /tmp"
   ]
  },
  {
   "cell_type": "code",
   "execution_count": 2,
   "id": "prepared-glucose",
   "metadata": {
    "execution": {
     "iopub.execute_input": "2021-05-29T15:10:46.503762Z",
     "iopub.status.busy": "2021-05-29T15:10:46.503249Z",
     "iopub.status.idle": "2021-05-29T15:11:43.354449Z",
     "shell.execute_reply": "2021-05-29T15:11:43.354892Z"
    },
    "papermill": {
     "duration": 56.862158,
     "end_time": "2021-05-29T15:11:43.355062",
     "exception": false,
     "start_time": "2021-05-29T15:10:46.492904",
     "status": "completed"
    },
    "tags": []
   },
   "outputs": [],
   "source": [
    "%%capture\n",
    "!pip install git+https://github.com/pytorch/fairseq/"
   ]
  },
  {
   "cell_type": "code",
   "execution_count": 3,
   "id": "lined-korean",
   "metadata": {
    "_cell_guid": "b1076dfc-b9ad-4769-8c92-a6c4dae69d19",
    "_uuid": "8f2839f25d086af736a60e9eeb907d3b93b6e0e5",
    "execution": {
     "iopub.execute_input": "2021-05-29T15:11:43.374301Z",
     "iopub.status.busy": "2021-05-29T15:11:43.373540Z",
     "iopub.status.idle": "2021-05-29T15:11:47.843031Z",
     "shell.execute_reply": "2021-05-29T15:11:47.843446Z",
     "shell.execute_reply.started": "2021-05-25T21:59:52.944817Z"
    },
    "papermill": {
     "duration": 4.481509,
     "end_time": "2021-05-29T15:11:47.843606",
     "exception": false,
     "start_time": "2021-05-29T15:11:43.362097",
     "status": "completed"
    },
    "tags": []
   },
   "outputs": [],
   "source": [
    "%%capture\n",
    "!git clone https://github.com/pytorch/fairseq/"
   ]
  },
  {
   "cell_type": "code",
   "execution_count": 4,
   "id": "stylish-mouse",
   "metadata": {
    "execution": {
     "iopub.execute_input": "2021-05-29T15:11:47.862338Z",
     "iopub.status.busy": "2021-05-29T15:11:47.861523Z",
     "iopub.status.idle": "2021-05-29T15:11:47.865276Z",
     "shell.execute_reply": "2021-05-29T15:11:47.865826Z",
     "shell.execute_reply.started": "2021-05-25T21:59:53.235485Z"
    },
    "papermill": {
     "duration": 0.015271,
     "end_time": "2021-05-29T15:11:47.865988",
     "exception": false,
     "start_time": "2021-05-29T15:11:47.850717",
     "status": "completed"
    },
    "tags": []
   },
   "outputs": [
    {
     "name": "stdout",
     "output_type": "stream",
     "text": [
      "/tmp/fairseq/examples/wav2vec/unsupervised/scripts\n"
     ]
    }
   ],
   "source": [
    "%cd fairseq/examples/wav2vec/unsupervised/scripts"
   ]
  },
  {
   "cell_type": "code",
   "execution_count": 5,
   "id": "integral-gentleman",
   "metadata": {
    "execution": {
     "iopub.execute_input": "2021-05-29T15:11:47.897963Z",
     "iopub.status.busy": "2021-05-29T15:11:47.894886Z",
     "iopub.status.idle": "2021-05-29T15:11:51.757206Z",
     "shell.execute_reply": "2021-05-29T15:11:51.756759Z"
    },
    "papermill": {
     "duration": 3.884112,
     "end_time": "2021-05-29T15:11:51.757331",
     "exception": false,
     "start_time": "2021-05-29T15:11:47.873219",
     "status": "completed"
    },
    "tags": []
   },
   "outputs": [],
   "source": [
    "!mkdir tsv\n",
    "!for i in train test valid; do echo /kaggle/input/wav2vec-u-cv-swedish-vads/wav/$i/common-voice-swedish-16bit-wav/ > tsv/$i.tsv; cat /kaggle/input/fork-of-wav2vec-u-cv-swedish-tsv/$i.tsv|sed '1d' >> tsv/$i.tsv;done\n",
    "!cp /kaggle/input/wav2vec-u-cv-swedish-prep-ltr-phn-wrd/dic* tsv/\n",
    "!cp /kaggle/input/wav2vec-u-cv-swedish-prep-ltr-phn-wrd/*.wrd tsv/\n",
    "!cp /kaggle/input/wav2vec-u-cv-swedish-prep-ltr-phn-wrd/*.ltr tsv/\n",
    "!cp /kaggle/input/wav2vec-u-cv-swedish-prep-ltr-phn-wrd/*.phn tsv/"
   ]
  },
  {
   "cell_type": "code",
   "execution_count": 6,
   "id": "liquid-mortality",
   "metadata": {
    "execution": {
     "iopub.execute_input": "2021-05-29T15:11:51.776556Z",
     "iopub.status.busy": "2021-05-29T15:11:51.775818Z",
     "iopub.status.idle": "2021-05-29T15:11:59.159583Z",
     "shell.execute_reply": "2021-05-29T15:11:59.159093Z"
    },
    "papermill": {
     "duration": 7.3954,
     "end_time": "2021-05-29T15:11:59.159701",
     "exception": false,
     "start_time": "2021-05-29T15:11:51.764301",
     "status": "completed"
    },
    "tags": []
   },
   "outputs": [],
   "source": [
    "%%capture\n",
    "!pip install npy-append-array"
   ]
  },
  {
   "cell_type": "code",
   "execution_count": 7,
   "id": "rolled-pioneer",
   "metadata": {
    "execution": {
     "iopub.execute_input": "2021-05-29T15:11:59.179124Z",
     "iopub.status.busy": "2021-05-29T15:11:59.178416Z",
     "iopub.status.idle": "2021-05-29T15:13:14.796894Z",
     "shell.execute_reply": "2021-05-29T15:13:14.796351Z"
    },
    "papermill": {
     "duration": 75.62965,
     "end_time": "2021-05-29T15:13:14.797038",
     "exception": false,
     "start_time": "2021-05-29T15:11:59.167388",
     "status": "completed"
    },
    "tags": []
   },
   "outputs": [
    {
     "name": "stdout",
     "output_type": "stream",
     "text": [
      "Collecting package metadata (current_repodata.json): - \b\b\\ \b\b| \b\b/ \b\b- \b\b\\ \b\b| \b\b/ \b\b- \b\b\\ \b\b| \b\b/ \b\b- \b\b\\ \b\b| \b\b/ \b\b- \b\b\\ \b\b| \b\b/ \b\b- \b\b\\ \b\b| \b\b/ \b\b- \b\b\\ \b\b| \b\b/ \b\b- \b\b\\ \b\b| \b\b/ \b\b- \b\b\\ \b\b| \b\b/ \b\b- \b\b\\ \b\b| \b\b/ \b\b- \b\b\\ \b\b| \b\b/ \b\b- \b\b\\ \b\b| \b\b/ \b\b- \b\b\\ \b\b| \b\b/ \b\b- \b\b\\ \b\b| \b\b/ \b\b- \b\b\\ \b\b| \b\b/ \b\b- \b\b\\ \b\b| \b\b/ \b\b- \b\b\\ \b\b| \b\b/ \b\b- \b\b\\ \b\b| \b\b/ \b\b- \b\b\\ \b\b| \b\b/ \b\b- \b\b\\ \b\b| \b\b/ \b\b- \b\b\\ \b\b| \b\b/ \b\b- \b\b\\ \b\b| \b\b/ \b\b- \b\b\\ \b\b| \b\b/ \b\b- \b\b\\ \b\b| \b\b/ \b\b- \b\b\\ \b\b| \b\b/ \b\b- \b\b\\ \b\b| \b\b/ \b\b- \b\b\\ \b\b| \b\b/ \b\b- \b\b\\ \b\b| \b\b/ \b\b- \b\b\\ \b\b| \b\b/ \b\b- \b\b\\ \b\b| \b\b/ \b\b- \b\b\\ \b\b| \b\b/ \b\bdone\r\n",
      "Solving environment: \\ \b\b| \b\b/ \b\b- \b\b\\ \b\b| \b\b/ \b\b- \b\b\\ \b\b| \b\b/ \b\b- \b\b\\ \b\b| \b\b/ \b\b- \b\b\\ \b\b| \b\b/ \b\b- \b\b\\ \b\b| \b\b/ \b\b- \b\b\\ \b\b| \b\b/ \b\b- \b\b\\ \b\b| \b\b/ \b\b- \b\b\\ \b\b| \b\b/ \b\b- \b\b\\ \b\b| \b\b/ \b\b- \b\b\\ \b\b| \b\b/ \b\b- \b\b\\ \b\b| \b\b/ \b\b- \b\b\\ \b\b| \b\b/ \b\b- \b\b\\ \b\b| \b\b/ \b\b- \b\b\\ \b\b| \b\b/ \b\b- \b\b\\ \b\b| \b\b/ \b\b- \b\b\\ \b\b| \b\b/ \b\b- \b\b\\ \b\b| \b\b/ \b\b- \b\b\\ \b\b| \b\b/ \b\b- \b\b\\ \b\b| \b\b/ \b\b- \b\b\\ \b\b| \b\b/ \b\b- \b\b\\ \b\b| \b\b/ \b\b- \b\b\\ \b\b| \b\b/ \b\b- \b\b\\ \b\b| \b\b/ \b\b- \b\b\\ \b\b| \b\b/ \b\b- \b\b\\ \b\b| \b\b/ \b\b- \b\b\\ \b\b| \b\b/ \b\b- \b\b\\ \b\b| \b\b/ \b\b- \b\b\\ \b\b| \b\b/ \b\b- \b\b\\ \b\b| \b\b/ \b\b- \b\b\\ \b\b| \b\b/ \b\b- \b\b\\ \b\b| \b\b/ \b\b- \b\b\\ \b\b| \b\b/ \b\b- \b\b\\ \b\b| \b\b/ \b\b- \b\b\\ \b\b| \b\b/ \b\b- \b\b\\ \b\b| \b\b/ \b\b- \b\b\\ \b\b| \b\b/ \b\b- \b\b\\ \b\b| \b\b/ \b\b- \b\b\\ \b\b| \b\b/ \b\b- \b\b\\ \b\b| \b\b/ \b\b- \b\b\\ \b\b| \b\b/ \b\b- \b\b\\ \b\b| \b\b/ \b\b- \b\b\\ \b\bdone\r\n",
      "\r\n",
      "## Package Plan ##\r\n",
      "\r\n",
      "  environment location: /opt/conda\r\n",
      "\r\n",
      "  added / updated specs:\r\n",
      "    - cudatoolkit=11.0\r\n",
      "    - faiss-gpu\r\n",
      "    - mkl\r\n",
      "\r\n",
      "\r\n",
      "The following packages will be downloaded:\r\n",
      "\r\n",
      "    package                    |            build\r\n",
      "    ---------------------------|-----------------\r\n",
      "    cuda92-1.0                 |                0           4 KB  pytorch\r\n",
      "    faiss-gpu-1.5.0            |   py37_cuda9.2_1        18.5 MB  pytorch\r\n",
      "    ------------------------------------------------------------\r\n",
      "                                           Total:        18.5 MB\r\n",
      "\r\n",
      "The following NEW packages will be INSTALLED:\r\n",
      "\r\n",
      "  cuda92             pytorch/linux-64::cuda92-1.0-0\r\n",
      "  faiss-gpu          pytorch/linux-64::faiss-gpu-1.5.0-py37_cuda9.2_1\r\n",
      "\r\n",
      "\r\n",
      "\r\n",
      "Downloading and Extracting Packages\r\n",
      "cuda92-1.0           | 4 KB      | ##################################### | 100% \r\n",
      "faiss-gpu-1.5.0      | 18.5 MB   | ##################################### | 100% \r\n",
      "Preparing transaction: / \b\bdone\r\n",
      "Verifying transaction: \\ \b\bdone\r\n",
      "Executing transaction: / \b\bdone\r\n"
     ]
    }
   ],
   "source": [
    "!conda install -c pytorch -y faiss-gpu cudatoolkit=11.0 mkl"
   ]
  },
  {
   "cell_type": "code",
   "execution_count": 8,
   "id": "classified-microphone",
   "metadata": {
    "execution": {
     "iopub.execute_input": "2021-05-29T15:13:14.976234Z",
     "iopub.status.busy": "2021-05-29T15:13:14.971960Z",
     "iopub.status.idle": "2021-05-29T15:13:22.691458Z",
     "shell.execute_reply": "2021-05-29T15:13:22.690553Z"
    },
    "papermill": {
     "duration": 7.808862,
     "end_time": "2021-05-29T15:13:22.691597",
     "exception": false,
     "start_time": "2021-05-29T15:13:14.882735",
     "status": "completed"
    },
    "tags": []
   },
   "outputs": [],
   "source": [
    "%%capture\n",
    "!apt-get -y install zsh"
   ]
  },
  {
   "cell_type": "code",
   "execution_count": 9,
   "id": "coated-equipment",
   "metadata": {
    "execution": {
     "iopub.execute_input": "2021-05-29T15:13:22.870149Z",
     "iopub.status.busy": "2021-05-29T15:13:22.869228Z",
     "iopub.status.idle": "2021-05-29T15:19:53.533790Z",
     "shell.execute_reply": "2021-05-29T15:19:53.532572Z"
    },
    "papermill": {
     "duration": 390.757363,
     "end_time": "2021-05-29T15:19:53.533943",
     "exception": false,
     "start_time": "2021-05-29T15:13:22.776580",
     "status": "completed"
    },
    "tags": []
   },
   "outputs": [
    {
     "name": "stdout",
     "output_type": "stream",
     "text": [
      "using 512 dim for PCA\r\n",
      "100%|███████████████████████████████████████| 2331/2331 [01:18<00:00, 29.62it/s]\r\n",
      "100%|███████████████████████████████████████| 2019/2019 [01:06<00:00, 30.34it/s]\r\n",
      "100%|███████████████████████████████████████| 2027/2027 [01:07<00:00, 29.88it/s]\r\n",
      "Faiss Specs: [faiss_spec(pca=0, norm=False, n_clus=128, sphere=False, spec_str='CLUS128')]\r\n",
      "100%|███████████████████████████████████████| 2331/2331 [01:10<00:00, 33.17it/s]\r\n",
      "(223140, 1024)\r\n",
      "Processing spec faiss_spec(pca=0, norm=False, n_clus=128, sphere=False, spec_str='CLUS128')\r\n",
      "Computing kmeans\r\n",
      "Traceback (most recent call last):\r\n",
      "  File \"wav2vec_cluster_faiss.py\", line 210, in <module>\r\n",
      "    main()\r\n",
      "  File \"wav2vec_cluster_faiss.py\", line 200, in main\r\n",
      "    nredo=3,\r\n",
      "TypeError: __init__() got an unexpected keyword argument 'max_points_per_centroid'\r\n",
      "Faiss Spec: faiss_spec(pca=0, norm=False, n_clus=128, sphere=False, spec_str='CLUS128')\r\n",
      "Traceback (most recent call last):\r\n",
      "  File \"wav2vec_apply_cluster_faiss.py\", line 111, in <module>\r\n",
      "    main()\r\n",
      "  File \"wav2vec_apply_cluster_faiss.py\", line 75, in main\r\n",
      "    centroids = np.load(osp.join(args.path, \"centroids.npy\"))\r\n",
      "  File \"/opt/conda/lib/python3.7/site-packages/numpy/lib/npyio.py\", line 416, in load\r\n",
      "    fid = stack.enter_context(open(os_fspath(file), \"rb\"))\r\n",
      "FileNotFoundError: [Errno 2] No such file or directory: '/kaggle/working/CLUS128/centroids.npy'\r\n",
      "Faiss Spec: faiss_spec(pca=0, norm=False, n_clus=128, sphere=False, spec_str='CLUS128')\r\n",
      "Traceback (most recent call last):\r\n",
      "  File \"wav2vec_apply_cluster_faiss.py\", line 111, in <module>\r\n",
      "    main()\r\n",
      "  File \"wav2vec_apply_cluster_faiss.py\", line 75, in main\r\n",
      "    centroids = np.load(osp.join(args.path, \"centroids.npy\"))\r\n",
      "  File \"/opt/conda/lib/python3.7/site-packages/numpy/lib/npyio.py\", line 416, in load\r\n",
      "    fid = stack.enter_context(open(os_fspath(file), \"rb\"))\r\n",
      "FileNotFoundError: [Errno 2] No such file or directory: '/kaggle/working/CLUS128/centroids.npy'\r\n",
      "Faiss Spec: faiss_spec(pca=0, norm=False, n_clus=128, sphere=False, spec_str='CLUS128')\r\n",
      "Traceback (most recent call last):\r\n",
      "  File \"wav2vec_apply_cluster_faiss.py\", line 111, in <module>\r\n",
      "    main()\r\n",
      "  File \"wav2vec_apply_cluster_faiss.py\", line 75, in main\r\n",
      "    centroids = np.load(osp.join(args.path, \"centroids.npy\"))\r\n",
      "  File \"/opt/conda/lib/python3.7/site-packages/numpy/lib/npyio.py\", line 416, in load\r\n",
      "    fid = stack.enter_context(open(os_fspath(file), \"rb\"))\r\n",
      "FileNotFoundError: [Errno 2] No such file or directory: '/kaggle/working/CLUS128/centroids.npy'\r\n",
      "Reading features\r\n",
      "Computing PCA\r\n",
      "INTEL MKL ERROR: /opt/conda/lib/python3.7/site-packages/faiss/../../../libmkl_avx512.so: undefined symbol: mkl_sparse_optimize_bsr_trsm_i8.\r\n",
      "Intel MKL FATAL ERROR: Cannot load libmkl_avx512.so or libmkl_def.so.\r\n",
      "data path: /kaggle/working/train\r\n",
      "Traceback (most recent call last):\r\n",
      "  File \"apply_pca.py\", line 72, in <module>\r\n",
      "    main()\r\n",
      "  File \"apply_pca.py\", line 45, in main\r\n",
      "    pca_A = torch.from_numpy(np.load(args.pca_path + \"_A.npy\")).cuda()\r\n",
      "  File \"/opt/conda/lib/python3.7/site-packages/numpy/lib/npyio.py\", line 416, in load\r\n",
      "    fid = stack.enter_context(open(os_fspath(file), \"rb\"))\r\n",
      "FileNotFoundError: [Errno 2] No such file or directory: '/kaggle/working/pca/512_pca_A.npy'\r\n",
      "data path: /kaggle/working/precompute_pca512/train\r\n",
      "Traceback (most recent call last):\r\n",
      "  File \"merge_clusters.py\", line 112, in <module>\r\n",
      "    main()\r\n",
      "  File \"merge_clusters.py\", line 42, in main\r\n",
      "    features = np.load(source_path + \".npy\", mmap_mode=\"r\")\r\n",
      "  File \"/opt/conda/lib/python3.7/site-packages/numpy/lib/npyio.py\", line 416, in load\r\n",
      "    fid = stack.enter_context(open(os_fspath(file), \"rb\"))\r\n",
      "FileNotFoundError: [Errno 2] No such file or directory: '/kaggle/working/precompute_pca512/train.npy'\r\n",
      "data path: /kaggle/working/precompute_pca512_cls128_mean/train\r\n",
      "Traceback (most recent call last):\r\n",
      "  File \"mean_pool.py\", line 90, in <module>\r\n",
      "    main()\r\n",
      "  File \"mean_pool.py\", line 44, in main\r\n",
      "    features = np.load(source_path + \".npy\", mmap_mode=\"r\")\r\n",
      "  File \"/opt/conda/lib/python3.7/site-packages/numpy/lib/npyio.py\", line 416, in load\r\n",
      "    fid = stack.enter_context(open(os_fspath(file), \"rb\"))\r\n",
      "FileNotFoundError: [Errno 2] No such file or directory: '/kaggle/working/precompute_pca512_cls128_mean/train.npy'\r\n",
      "data path: /kaggle/working/valid\r\n",
      "Traceback (most recent call last):\r\n",
      "  File \"apply_pca.py\", line 72, in <module>\r\n",
      "    main()\r\n",
      "  File \"apply_pca.py\", line 45, in main\r\n",
      "    pca_A = torch.from_numpy(np.load(args.pca_path + \"_A.npy\")).cuda()\r\n",
      "  File \"/opt/conda/lib/python3.7/site-packages/numpy/lib/npyio.py\", line 416, in load\r\n",
      "    fid = stack.enter_context(open(os_fspath(file), \"rb\"))\r\n",
      "FileNotFoundError: [Errno 2] No such file or directory: '/kaggle/working/pca/512_pca_A.npy'\r\n",
      "data path: /kaggle/working/precompute_pca512/valid\r\n",
      "Traceback (most recent call last):\r\n",
      "  File \"merge_clusters.py\", line 112, in <module>\r\n",
      "    main()\r\n",
      "  File \"merge_clusters.py\", line 42, in main\r\n",
      "    features = np.load(source_path + \".npy\", mmap_mode=\"r\")\r\n",
      "  File \"/opt/conda/lib/python3.7/site-packages/numpy/lib/npyio.py\", line 416, in load\r\n",
      "    fid = stack.enter_context(open(os_fspath(file), \"rb\"))\r\n",
      "FileNotFoundError: [Errno 2] No such file or directory: '/kaggle/working/precompute_pca512/valid.npy'\r\n",
      "data path: /kaggle/working/precompute_pca512_cls128_mean/valid\r\n",
      "Traceback (most recent call last):\r\n",
      "  File \"mean_pool.py\", line 90, in <module>\r\n",
      "    main()\r\n",
      "  File \"mean_pool.py\", line 44, in main\r\n",
      "    features = np.load(source_path + \".npy\", mmap_mode=\"r\")\r\n",
      "  File \"/opt/conda/lib/python3.7/site-packages/numpy/lib/npyio.py\", line 416, in load\r\n",
      "    fid = stack.enter_context(open(os_fspath(file), \"rb\"))\r\n",
      "FileNotFoundError: [Errno 2] No such file or directory: '/kaggle/working/precompute_pca512_cls128_mean/valid.npy'\r\n",
      "data path: /kaggle/working/test\r\n",
      "Traceback (most recent call last):\r\n",
      "  File \"apply_pca.py\", line 72, in <module>\r\n",
      "    main()\r\n",
      "  File \"apply_pca.py\", line 45, in main\r\n",
      "    pca_A = torch.from_numpy(np.load(args.pca_path + \"_A.npy\")).cuda()\r\n",
      "  File \"/opt/conda/lib/python3.7/site-packages/numpy/lib/npyio.py\", line 416, in load\r\n",
      "    fid = stack.enter_context(open(os_fspath(file), \"rb\"))\r\n",
      "FileNotFoundError: [Errno 2] No such file or directory: '/kaggle/working/pca/512_pca_A.npy'\r\n",
      "data path: /kaggle/working/precompute_pca512/test\r\n",
      "Traceback (most recent call last):\r\n",
      "  File \"merge_clusters.py\", line 112, in <module>\r\n",
      "    main()\r\n",
      "  File \"merge_clusters.py\", line 42, in main\r\n",
      "    features = np.load(source_path + \".npy\", mmap_mode=\"r\")\r\n",
      "  File \"/opt/conda/lib/python3.7/site-packages/numpy/lib/npyio.py\", line 416, in load\r\n",
      "    fid = stack.enter_context(open(os_fspath(file), \"rb\"))\r\n",
      "FileNotFoundError: [Errno 2] No such file or directory: '/kaggle/working/precompute_pca512/test.npy'\r\n",
      "data path: /kaggle/working/precompute_pca512_cls128_mean/test\r\n",
      "Traceback (most recent call last):\r\n",
      "  File \"mean_pool.py\", line 90, in <module>\r\n",
      "    main()\r\n",
      "  File \"mean_pool.py\", line 44, in main\r\n",
      "    features = np.load(source_path + \".npy\", mmap_mode=\"r\")\r\n",
      "  File \"/opt/conda/lib/python3.7/site-packages/numpy/lib/npyio.py\", line 416, in load\r\n",
      "    fid = stack.enter_context(open(os_fspath(file), \"rb\"))\r\n",
      "FileNotFoundError: [Errno 2] No such file or directory: '/kaggle/working/precompute_pca512_cls128_mean/test.npy'\r\n"
     ]
    }
   ],
   "source": [
    "!zsh prepare_audio.sh tsv /kaggle/working /kaggle/input/download-xlsr-53-wav2vec2-model/xlsr_53_56k.pt"
   ]
  }
 ],
 "metadata": {
  "kernelspec": {
   "display_name": "Python 3",
   "language": "python",
   "name": "python3"
  },
  "language_info": {
   "codemirror_mode": {
    "name": "ipython",
    "version": 3
   },
   "file_extension": ".py",
   "mimetype": "text/x-python",
   "name": "python",
   "nbconvert_exporter": "python",
   "pygments_lexer": "ipython3",
   "version": "3.7.10"
  },
  "papermill": {
   "default_parameters": {},
   "duration": 554.643797,
   "end_time": "2021-05-29T15:19:54.698778",
   "environment_variables": {},
   "exception": null,
   "input_path": "__notebook__.ipynb",
   "output_path": "__notebook__.ipynb",
   "parameters": {},
   "start_time": "2021-05-29T15:10:40.054981",
   "version": "2.3.3"
  }
 },
 "nbformat": 4,
 "nbformat_minor": 5
}
