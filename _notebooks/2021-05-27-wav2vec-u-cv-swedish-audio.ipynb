{
 "cells": [
  {
   "cell_type": "code",
   "execution_count": 1,
   "id": "conditional-knock",
   "metadata": {
    "execution": {
     "iopub.execute_input": "2021-05-27T18:16:18.418697Z",
     "iopub.status.busy": "2021-05-27T18:16:18.417086Z",
     "iopub.status.idle": "2021-05-27T18:16:18.427612Z",
     "shell.execute_reply": "2021-05-27T18:16:18.427111Z",
     "shell.execute_reply.started": "2021-05-25T21:59:52.937901Z"
    },
    "papermill": {
     "duration": 0.022009,
     "end_time": "2021-05-27T18:16:18.427741",
     "exception": false,
     "start_time": "2021-05-27T18:16:18.405732",
     "status": "completed"
    },
    "tags": []
   },
   "outputs": [
    {
     "name": "stdout",
     "output_type": "stream",
     "text": [
      "/tmp\n"
     ]
    }
   ],
   "source": [
    "%cd /tmp"
   ]
  },
  {
   "cell_type": "code",
   "execution_count": 2,
   "id": "periodic-large",
   "metadata": {
    "execution": {
     "iopub.execute_input": "2021-05-27T18:16:18.445342Z",
     "iopub.status.busy": "2021-05-27T18:16:18.444866Z",
     "iopub.status.idle": "2021-05-27T18:17:05.808946Z",
     "shell.execute_reply": "2021-05-27T18:17:05.808273Z"
    },
    "papermill": {
     "duration": 47.37422,
     "end_time": "2021-05-27T18:17:05.809126",
     "exception": false,
     "start_time": "2021-05-27T18:16:18.434906",
     "status": "completed"
    },
    "tags": []
   },
   "outputs": [
    {
     "name": "stdout",
     "output_type": "stream",
     "text": [
      "Collecting git+https://github.com/pytorch/fairseq/\r\n",
      "  Cloning https://github.com/pytorch/fairseq/ to ./pip-req-build-lh68gopm\r\n",
      "  Running command git clone -q https://github.com/pytorch/fairseq/ /tmp/pip-req-build-lh68gopm\r\n"
     ]
    },
    {
     "name": "stdout",
     "output_type": "stream",
     "text": [
      "  Running command git submodule update --init --recursive -q\r\n"
     ]
    },
    {
     "name": "stdout",
     "output_type": "stream",
     "text": [
      "  Installing build dependencies ... \u001b[?25l-"
     ]
    },
    {
     "name": "stdout",
     "output_type": "stream",
     "text": [
      "\b \b\\"
     ]
    },
    {
     "name": "stdout",
     "output_type": "stream",
     "text": [
      "\b \b|"
     ]
    },
    {
     "name": "stdout",
     "output_type": "stream",
     "text": [
      "\b \b/"
     ]
    },
    {
     "name": "stdout",
     "output_type": "stream",
     "text": [
      "\b \b-"
     ]
    },
    {
     "name": "stdout",
     "output_type": "stream",
     "text": [
      "\b \b\\"
     ]
    },
    {
     "name": "stdout",
     "output_type": "stream",
     "text": [
      "\b \bdone\r\n"
     ]
    },
    {
     "name": "stdout",
     "output_type": "stream",
     "text": [
      "\u001b[?25h  Getting requirements to build wheel ... \u001b[?25ldone\r\n"
     ]
    },
    {
     "name": "stdout",
     "output_type": "stream",
     "text": [
      "\u001b[?25h  Installing backend dependencies ... \u001b[?25l-"
     ]
    },
    {
     "name": "stdout",
     "output_type": "stream",
     "text": [
      "\b \b\\"
     ]
    },
    {
     "name": "stdout",
     "output_type": "stream",
     "text": [
      "\b \b|"
     ]
    },
    {
     "name": "stdout",
     "output_type": "stream",
     "text": [
      "\b \b/"
     ]
    },
    {
     "name": "stdout",
     "output_type": "stream",
     "text": [
      "\b \b-"
     ]
    },
    {
     "name": "stdout",
     "output_type": "stream",
     "text": [
      "\b \bdone\r\n"
     ]
    },
    {
     "name": "stdout",
     "output_type": "stream",
     "text": [
      "\u001b[?25h    Preparing wheel metadata ... \u001b[?25l-"
     ]
    },
    {
     "name": "stdout",
     "output_type": "stream",
     "text": [
      "\b \b\\"
     ]
    },
    {
     "name": "stdout",
     "output_type": "stream",
     "text": [
      "\b \bdone\r\n"
     ]
    },
    {
     "name": "stdout",
     "output_type": "stream",
     "text": [
      "\u001b[?25hRequirement already satisfied: numpy in /opt/conda/lib/python3.7/site-packages (from fairseq==1.0.0a0+c8223e3) (1.19.5)\r\n",
      "Requirement already satisfied: regex in /opt/conda/lib/python3.7/site-packages (from fairseq==1.0.0a0+c8223e3) (2021.3.17)\r\n"
     ]
    },
    {
     "name": "stdout",
     "output_type": "stream",
     "text": [
      "Collecting hydra-core<1.1\r\n"
     ]
    },
    {
     "name": "stdout",
     "output_type": "stream",
     "text": [
      "  Downloading hydra_core-1.0.6-py3-none-any.whl (123 kB)\r\n",
      "\u001b[?25l\r",
      "\u001b[K     |██▋                             | 10 kB 7.8 MB/s eta 0:00:01\r",
      "\u001b[K     |█████▎                          | 20 kB 2.6 MB/s eta 0:00:01\r",
      "\u001b[K     |████████                        | 30 kB 1.9 MB/s eta 0:00:01"
     ]
    },
    {
     "name": "stdout",
     "output_type": "stream",
     "text": [
      "\r",
      "\u001b[K     |██████████▋                     | 40 kB 1.8 MB/s eta 0:00:01\r",
      "\u001b[K     |█████████████▎                  | 51 kB 919 kB/s eta 0:00:01\r",
      "\u001b[K     |████████████████                | 61 kB 1.0 MB/s eta 0:00:01\r",
      "\u001b[K     |██████████████████▋             | 71 kB 1.1 MB/s eta 0:00:01"
     ]
    },
    {
     "name": "stdout",
     "output_type": "stream",
     "text": [
      "\r",
      "\u001b[K     |█████████████████████▏          | 81 kB 1.2 MB/s eta 0:00:01\r",
      "\u001b[K     |███████████████████████▉        | 92 kB 1.2 MB/s eta 0:00:01\r",
      "\u001b[K     |██████████████████████████▌     | 102 kB 1.3 MB/s eta 0:00:01\r",
      "\u001b[K     |█████████████████████████████▏  | 112 kB 1.3 MB/s eta 0:00:01\r",
      "\u001b[K     |███████████████████████████████▉| 122 kB 1.3 MB/s eta 0:00:01"
     ]
    },
    {
     "name": "stdout",
     "output_type": "stream",
     "text": [
      "\r",
      "\u001b[K     |████████████████████████████████| 123 kB 1.3 MB/s \r\n",
      "\u001b[?25hRequirement already satisfied: cffi in /opt/conda/lib/python3.7/site-packages (from fairseq==1.0.0a0+c8223e3) (1.14.5)\r\n"
     ]
    },
    {
     "name": "stdout",
     "output_type": "stream",
     "text": [
      "Collecting omegaconf<2.1\r\n"
     ]
    },
    {
     "name": "stdout",
     "output_type": "stream",
     "text": [
      "  Downloading omegaconf-2.0.6-py3-none-any.whl (36 kB)\r\n",
      "Requirement already satisfied: torch in /opt/conda/lib/python3.7/site-packages (from fairseq==1.0.0a0+c8223e3) (1.7.0)\r\n"
     ]
    },
    {
     "name": "stdout",
     "output_type": "stream",
     "text": [
      "Collecting sacrebleu>=1.4.12\r\n"
     ]
    },
    {
     "name": "stdout",
     "output_type": "stream",
     "text": [
      "  Downloading sacrebleu-1.5.1-py3-none-any.whl (54 kB)\r\n",
      "\u001b[?25l\r",
      "\u001b[K     |██████                          | 10 kB 14.5 MB/s eta 0:00:01"
     ]
    },
    {
     "name": "stdout",
     "output_type": "stream",
     "text": [
      "\r",
      "\u001b[K     |████████████                    | 20 kB 5.2 MB/s eta 0:00:01\r",
      "\u001b[K     |██████████████████              | 30 kB 5.3 MB/s eta 0:00:01\r",
      "\u001b[K     |████████████████████████        | 40 kB 5.2 MB/s eta 0:00:01\r",
      "\u001b[K     |██████████████████████████████  | 51 kB 4.7 MB/s eta 0:00:01\r",
      "\u001b[K     |████████████████████████████████| 54 kB 1.7 MB/s \r\n",
      "\u001b[?25hRequirement already satisfied: tqdm in /opt/conda/lib/python3.7/site-packages (from fairseq==1.0.0a0+c8223e3) (4.59.0)\r\n",
      "Requirement already satisfied: cython in /opt/conda/lib/python3.7/site-packages (from fairseq==1.0.0a0+c8223e3) (0.29.23)\r\n"
     ]
    },
    {
     "name": "stdout",
     "output_type": "stream",
     "text": [
      "Collecting importlib-resources\r\n"
     ]
    },
    {
     "name": "stdout",
     "output_type": "stream",
     "text": [
      "  Downloading importlib_resources-5.1.4-py3-none-any.whl (26 kB)\r\n"
     ]
    },
    {
     "name": "stdout",
     "output_type": "stream",
     "text": [
      "Collecting antlr4-python3-runtime==4.8\r\n"
     ]
    },
    {
     "name": "stdout",
     "output_type": "stream",
     "text": [
      "  Downloading antlr4-python3-runtime-4.8.tar.gz (112 kB)\r\n",
      "\u001b[?25l\r",
      "\u001b[K     |███                             | 10 kB 6.4 MB/s eta 0:00:01\r",
      "\u001b[K     |█████▉                          | 20 kB 3.6 MB/s eta 0:00:01\r",
      "\u001b[K     |████████▊                       | 30 kB 5.3 MB/s eta 0:00:01\r",
      "\u001b[K     |███████████▋                    | 40 kB 4.2 MB/s eta 0:00:01\r",
      "\u001b[K     |██████████████▋                 | 51 kB 3.7 MB/s eta 0:00:01\r",
      "\u001b[K     |█████████████████▌              | 61 kB 4.4 MB/s eta 0:00:01\r",
      "\u001b[K     |████████████████████▍           | 71 kB 4.0 MB/s eta 0:00:01\r",
      "\u001b[K     |███████████████████████▎        | 81 kB 4.6 MB/s eta 0:00:01\r",
      "\u001b[K     |██████████████████████████▎     | 92 kB 4.4 MB/s eta 0:00:01\r",
      "\u001b[K     |█████████████████████████████▏  | 102 kB 4.1 MB/s eta 0:00:01\r",
      "\u001b[K     |████████████████████████████████| 112 kB 4.1 MB/s \r\n"
     ]
    },
    {
     "name": "stdout",
     "output_type": "stream",
     "text": [
      "\u001b[?25hRequirement already satisfied: PyYAML>=5.1.* in /opt/conda/lib/python3.7/site-packages (from omegaconf<2.1->fairseq==1.0.0a0+c8223e3) (5.3.1)\r\n",
      "Requirement already satisfied: typing-extensions in /opt/conda/lib/python3.7/site-packages (from omegaconf<2.1->fairseq==1.0.0a0+c8223e3) (3.7.4.3)\r\n"
     ]
    },
    {
     "name": "stdout",
     "output_type": "stream",
     "text": [
      "Collecting portalocker==2.0.0\r\n"
     ]
    },
    {
     "name": "stdout",
     "output_type": "stream",
     "text": [
      "  Downloading portalocker-2.0.0-py2.py3-none-any.whl (11 kB)\r\n"
     ]
    },
    {
     "name": "stdout",
     "output_type": "stream",
     "text": [
      "Requirement already satisfied: pycparser in /opt/conda/lib/python3.7/site-packages (from cffi->fairseq==1.0.0a0+c8223e3) (2.20)\r\n",
      "Requirement already satisfied: zipp>=3.1.0 in /opt/conda/lib/python3.7/site-packages (from importlib-resources->hydra-core<1.1->fairseq==1.0.0a0+c8223e3) (3.4.1)\r\n",
      "Requirement already satisfied: future in /opt/conda/lib/python3.7/site-packages (from torch->fairseq==1.0.0a0+c8223e3) (0.18.2)\r\n"
     ]
    },
    {
     "name": "stdout",
     "output_type": "stream",
     "text": [
      "Requirement already satisfied: dataclasses in /opt/conda/lib/python3.7/site-packages (from torch->fairseq==1.0.0a0+c8223e3) (0.6)\r\n",
      "Building wheels for collected packages: fairseq, antlr4-python3-runtime\r\n"
     ]
    },
    {
     "name": "stdout",
     "output_type": "stream",
     "text": [
      "  Building wheel for fairseq (PEP 517) ... \u001b[?25l-"
     ]
    },
    {
     "name": "stdout",
     "output_type": "stream",
     "text": [
      "\b \b\\"
     ]
    },
    {
     "name": "stdout",
     "output_type": "stream",
     "text": [
      "\b \b|"
     ]
    },
    {
     "name": "stdout",
     "output_type": "stream",
     "text": [
      "\b \b/"
     ]
    },
    {
     "name": "stdout",
     "output_type": "stream",
     "text": [
      "\b \b-"
     ]
    },
    {
     "name": "stdout",
     "output_type": "stream",
     "text": [
      "\b \b\\"
     ]
    },
    {
     "name": "stdout",
     "output_type": "stream",
     "text": [
      "\b \b|"
     ]
    },
    {
     "name": "stdout",
     "output_type": "stream",
     "text": [
      "\b \b/"
     ]
    },
    {
     "name": "stdout",
     "output_type": "stream",
     "text": [
      "\b \b-"
     ]
    },
    {
     "name": "stdout",
     "output_type": "stream",
     "text": [
      "\b \b\\"
     ]
    },
    {
     "name": "stdout",
     "output_type": "stream",
     "text": [
      "\b \b|"
     ]
    },
    {
     "name": "stdout",
     "output_type": "stream",
     "text": [
      "\b \b/"
     ]
    },
    {
     "name": "stdout",
     "output_type": "stream",
     "text": [
      "\b \b-"
     ]
    },
    {
     "name": "stdout",
     "output_type": "stream",
     "text": [
      "\b \b\\"
     ]
    },
    {
     "name": "stdout",
     "output_type": "stream",
     "text": [
      "\b \b|"
     ]
    },
    {
     "name": "stdout",
     "output_type": "stream",
     "text": [
      "\b \b/"
     ]
    },
    {
     "name": "stdout",
     "output_type": "stream",
     "text": [
      "\b \b-"
     ]
    },
    {
     "name": "stdout",
     "output_type": "stream",
     "text": [
      "\b \bdone\r\n",
      "\u001b[?25h  Created wheel for fairseq: filename=fairseq-1.0.0a0+c8223e3-cp37-cp37m-linux_x86_64.whl size=2063164 sha256=233918f1e08fdc053d5e913bafeb8f4bd2de9e928b17d645ddaf7ac4a4c5b231\r\n",
      "  Stored in directory: /tmp/pip-ephem-wheel-cache-lp3si9cw/wheels/bf/8b/86/69a0f965bcf2c21f14c327d7a0131024ff24e19e3ab6726a07\r\n"
     ]
    },
    {
     "name": "stdout",
     "output_type": "stream",
     "text": [
      "  Building wheel for antlr4-python3-runtime (setup.py) ... \u001b[?25l-"
     ]
    },
    {
     "name": "stdout",
     "output_type": "stream",
     "text": [
      "\b \b\\"
     ]
    },
    {
     "name": "stdout",
     "output_type": "stream",
     "text": [
      "\b \bdone\r\n",
      "\u001b[?25h  Created wheel for antlr4-python3-runtime: filename=antlr4_python3_runtime-4.8-py3-none-any.whl size=141230 sha256=73427253240b885fccc1d9635c0c96fc32c810bf9be7a8cbc221e512e4bfd37a\r\n",
      "  Stored in directory: /root/.cache/pip/wheels/ca/33/b7/336836125fc9bb4ceaa4376d8abca10ca8bc84ddc824baea6c\r\n",
      "Successfully built fairseq antlr4-python3-runtime\r\n"
     ]
    },
    {
     "name": "stdout",
     "output_type": "stream",
     "text": [
      "Installing collected packages: portalocker, omegaconf, importlib-resources, antlr4-python3-runtime, sacrebleu, hydra-core, fairseq\r\n",
      "  Attempting uninstall: portalocker\r\n"
     ]
    },
    {
     "name": "stdout",
     "output_type": "stream",
     "text": [
      "    Found existing installation: portalocker 2.3.0\r\n",
      "    Uninstalling portalocker-2.3.0:\r\n",
      "      Successfully uninstalled portalocker-2.3.0\r\n"
     ]
    },
    {
     "name": "stdout",
     "output_type": "stream",
     "text": [
      "Successfully installed antlr4-python3-runtime-4.8 fairseq-1.0.0a0+c8223e3 hydra-core-1.0.6 importlib-resources-5.1.4 omegaconf-2.0.6 portalocker-2.0.0 sacrebleu-1.5.1\r\n"
     ]
    }
   ],
   "source": [
    "!pip install git+https://github.com/pytorch/fairseq/"
   ]
  },
  {
   "cell_type": "code",
   "execution_count": 3,
   "id": "oriented-aquatic",
   "metadata": {
    "_cell_guid": "b1076dfc-b9ad-4769-8c92-a6c4dae69d19",
    "_uuid": "8f2839f25d086af736a60e9eeb907d3b93b6e0e5",
    "execution": {
     "iopub.execute_input": "2021-05-27T18:17:05.901415Z",
     "iopub.status.busy": "2021-05-27T18:17:05.900910Z",
     "iopub.status.idle": "2021-05-27T18:17:08.641416Z",
     "shell.execute_reply": "2021-05-27T18:17:08.641851Z",
     "shell.execute_reply.started": "2021-05-25T21:59:52.944817Z"
    },
    "papermill": {
     "duration": 2.793457,
     "end_time": "2021-05-27T18:17:08.642024",
     "exception": false,
     "start_time": "2021-05-27T18:17:05.848567",
     "status": "completed"
    },
    "tags": []
   },
   "outputs": [
    {
     "name": "stdout",
     "output_type": "stream",
     "text": [
      "Cloning into 'fairseq'...\r\n"
     ]
    },
    {
     "name": "stdout",
     "output_type": "stream",
     "text": [
      "remote: Enumerating objects: 28166, done.\u001b[K\r\n",
      "remote: Counting objects:   0% (1/580)\u001b[K\r",
      "remote: Counting objects:   1% (6/580)\u001b[K\r",
      "remote: Counting objects:   2% (12/580)\u001b[K\r",
      "remote: Counting objects:   3% (18/580)\u001b[K\r",
      "remote: Counting objects:   4% (24/580)\u001b[K\r",
      "remote: Counting objects:   5% (29/580)\u001b[K\r",
      "remote: Counting objects:   6% (35/580)\u001b[K\r",
      "remote: Counting objects:   7% (41/580)\u001b[K\r",
      "remote: Counting objects:   8% (47/580)\u001b[K\r",
      "remote: Counting objects:   9% (53/580)\u001b[K\r",
      "remote: Counting objects:  10% (58/580)\u001b[K\r",
      "remote: Counting objects:  11% (64/580)\u001b[K\r",
      "remote: Counting objects:  12% (70/580)\u001b[K\r",
      "remote: Counting objects:  13% (76/580)\u001b[K\r",
      "remote: Counting objects:  14% (82/580)\u001b[K\r",
      "remote: Counting objects:  15% (87/580)\u001b[K\r",
      "remote: Counting objects:  16% (93/580)\u001b[K\r",
      "remote: Counting objects:  17% (99/580)\u001b[K\r",
      "remote: Counting objects:  18% (105/580)\u001b[K\r",
      "remote: Counting objects:  19% (111/580)\u001b[K\r",
      "remote: Counting objects:  20% (116/580)\u001b[K\r",
      "remote: Counting objects:  21% (122/580)\u001b[K\r",
      "remote: Counting objects:  22% (128/580)\u001b[K\r",
      "remote: Counting objects:  23% (134/580)\u001b[K\r",
      "remote: Counting objects:  24% (140/580)\u001b[K\r",
      "remote: Counting objects:  25% (145/580)\u001b[K\r",
      "remote: Counting objects:  26% (151/580)\u001b[K\r",
      "remote: Counting objects:  27% (157/580)\u001b[K\r",
      "remote: Counting objects:  28% (163/580)\u001b[K\r",
      "remote: Counting objects:  29% (169/580)\u001b[K\r",
      "remote: Counting objects:  30% (174/580)\u001b[K\r",
      "remote: Counting objects:  31% (180/580)\u001b[K\r",
      "remote: Counting objects:  32% (186/580)\u001b[K\r",
      "remote: Counting objects:  33% (192/580)\u001b[K\r",
      "remote: Counting objects:  34% (198/580)\u001b[K\r",
      "remote: Counting objects:  35% (203/580)\u001b[K\r",
      "remote: Counting objects:  36% (209/580)\u001b[K\r",
      "remote: Counting objects:  37% (215/580)\u001b[K\r",
      "remote: Counting objects:  38% (221/580)\u001b[K\r",
      "remote: Counting objects:  39% (227/580)\u001b[K\r",
      "remote: Counting objects:  40% (232/580)\u001b[K\r",
      "remote: Counting objects:  41% (238/580)\u001b[K\r",
      "remote: Counting objects:  42% (244/580)\u001b[K\r",
      "remote: Counting objects:  43% (250/580)\u001b[K\r",
      "remote: Counting objects:  44% (256/580)\u001b[K\r",
      "remote: Counting objects:  45% (261/580)\u001b[K\r",
      "remote: Counting objects:  46% (267/580)\u001b[K\r",
      "remote: Counting objects:  47% (273/580)\u001b[K\r",
      "remote: Counting objects:  48% (279/580)\u001b[K\r",
      "remote: Counting objects:  49% (285/580)\u001b[K\r",
      "remote: Counting objects:  50% (290/580)\u001b[K\r",
      "remote: Counting objects:  51% (296/580)\u001b[K\r",
      "remote: Counting objects:  52% (302/580)\u001b[K\r",
      "remote: Counting objects:  53% (308/580)\u001b[K\r",
      "remote: Counting objects:  54% (314/580)\u001b[K\r",
      "remote: Counting objects:  55% (319/580)\u001b[K\r",
      "remote: Counting objects:  56% (325/580)\u001b[K\r",
      "remote: Counting objects:  57% (331/580)\u001b[K\r",
      "remote: Counting objects:  58% (337/580)\u001b[K\r",
      "remote: Counting objects:  59% (343/580)\u001b[K\r",
      "remote: Counting objects:  60% (348/580)\u001b[K\r",
      "remote: Counting objects:  61% (354/580)\u001b[K\r",
      "remote: Counting objects:  62% (360/580)\u001b[K\r",
      "remote: Counting objects:  63% (366/580)\u001b[K\r",
      "remote: Counting objects:  64% (372/580)\u001b[K\r",
      "remote: Counting objects:  65% (377/580)\u001b[K\r",
      "remote: Counting objects:  66% (383/580)\u001b[K\r",
      "remote: Counting objects:  67% (389/580)\u001b[K\r",
      "remote: Counting objects:  68% (395/580)\u001b[K\r",
      "remote: Counting objects:  69% (401/580)\u001b[K\r",
      "remote: Counting objects:  70% (406/580)\u001b[K\r",
      "remote: Counting objects:  71% (412/580)\u001b[K\r",
      "remote: Counting objects:  72% (418/580)\u001b[K\r",
      "remote: Counting objects:  73% (424/580)\u001b[K\r",
      "remote: Counting objects:  74% (430/580)\u001b[K\r",
      "remote: Counting objects:  75% (435/580)\u001b[K\r",
      "remote: Counting objects:  76% (441/580)\u001b[K\r",
      "remote: Counting objects:  77% (447/580)\u001b[K\r",
      "remote: Counting objects:  78% (453/580)\u001b[K\r",
      "remote: Counting objects:  79% (459/580)\u001b[K\r",
      "remote: Counting objects:  80% (464/580)\u001b[K\r",
      "remote: Counting objects:  81% (470/580)\u001b[K\r",
      "remote: Counting objects:  82% (476/580)\u001b[K\r",
      "remote: Counting objects:  83% (482/580)\u001b[K\r",
      "remote: Counting objects:  84% (488/580)\u001b[K\r",
      "remote: Counting objects:  85% (493/580)\u001b[K\r",
      "remote: Counting objects:  86% (499/580)\u001b[K\r",
      "remote: Counting objects:  87% (505/580)\u001b[K\r",
      "remote: Counting objects:  88% (511/580)\u001b[K\r",
      "remote: Counting objects:  89% (517/580)\u001b[K\r",
      "remote: Counting objects:  90% (522/580)\u001b[K\r",
      "remote: Counting objects:  91% (528/580)\u001b[K\r",
      "remote: Counting objects:  92% (534/580)\u001b[K\r",
      "remote: Counting objects:  93% (540/580)\u001b[K\r",
      "remote: Counting objects:  94% (546/580)\u001b[K\r",
      "remote: Counting objects:  95% (551/580)\u001b[K\r",
      "remote: Counting objects:  96% (557/580)\u001b[K\r",
      "remote: Counting objects:  97% (563/580)\u001b[K\r",
      "remote: Counting objects:  98% (569/580)\u001b[K\r",
      "remote: Counting objects:  99% (575/580)\u001b[K\r",
      "remote: Counting objects: 100% (580/580)\u001b[K\r",
      "remote: Counting objects: 100% (580/580), done.\u001b[K\r\n",
      "remote: Compressing objects:   0% (1/351)\u001b[K\r",
      "remote: Compressing objects:   1% (4/351)\u001b[K\r",
      "remote: Compressing objects:   2% (8/351)\u001b[K\r",
      "remote: Compressing objects:   3% (11/351)\u001b[K\r",
      "remote: Compressing objects:   4% (15/351)\u001b[K\r",
      "remote: Compressing objects:   5% (18/351)\u001b[K\r",
      "remote: Compressing objects:   6% (22/351)\u001b[K\r",
      "remote: Compressing objects:   7% (25/351)\u001b[K\r",
      "remote: Compressing objects:   8% (29/351)\u001b[K\r",
      "remote: Compressing objects:   9% (32/351)\u001b[K\r",
      "remote: Compressing objects:  10% (36/351)\u001b[K\r",
      "remote: Compressing objects:  11% (39/351)\u001b[K\r",
      "remote: Compressing objects:  12% (43/351)\u001b[K\r",
      "remote: Compressing objects:  13% (46/351)\u001b[K\r",
      "remote: Compressing objects:  14% (50/351)\u001b[K\r",
      "remote: Compressing objects:  15% (53/351)\u001b[K\r",
      "remote: Compressing objects:  16% (57/351)\u001b[K\r"
     ]
    },
    {
     "name": "stdout",
     "output_type": "stream",
     "text": [
      "remote: Compressing objects:  17% (60/351)\u001b[K\r",
      "remote: Compressing objects:  18% (64/351)\u001b[K\r",
      "remote: Compressing objects:  19% (67/351)\u001b[K\r",
      "remote: Compressing objects:  20% (71/351)\u001b[K\r",
      "remote: Compressing objects:  21% (74/351)\u001b[K\r",
      "remote: Compressing objects:  22% (78/351)\u001b[K\r",
      "remote: Compressing objects:  23% (81/351)\u001b[K\r",
      "remote: Compressing objects:  24% (85/351)\u001b[K\r",
      "remote: Compressing objects:  25% (88/351)\u001b[K\r",
      "remote: Compressing objects:  26% (92/351)\u001b[K\r",
      "remote: Compressing objects:  27% (95/351)\u001b[K\r",
      "remote: Compressing objects:  28% (99/351)\u001b[K\r",
      "remote: Compressing objects:  29% (102/351)\u001b[K\r",
      "remote: Compressing objects:  30% (106/351)\u001b[K\r",
      "remote: Compressing objects:  31% (109/351)\u001b[K\r",
      "remote: Compressing objects:  32% (113/351)\u001b[K\r",
      "remote: Compressing objects:  33% (116/351)\u001b[K\r",
      "remote: Compressing objects:  34% (120/351)\u001b[K\r",
      "remote: Compressing objects:  35% (123/351)\u001b[K\r",
      "remote: Compressing objects:  36% (127/351)\u001b[K\r",
      "remote: Compressing objects:  37% (130/351)\u001b[K\r",
      "remote: Compressing objects:  38% (134/351)\u001b[K\r",
      "remote: Compressing objects:  39% (137/351)\u001b[K\r",
      "remote: Compressing objects:  40% (141/351)\u001b[K\r",
      "remote: Compressing objects:  41% (144/351)\u001b[K\r",
      "remote: Compressing objects:  42% (148/351)\u001b[K\r",
      "remote: Compressing objects:  43% (151/351)\u001b[K\r",
      "remote: Compressing objects:  44% (155/351)\u001b[K\r",
      "remote: Compressing objects:  45% (158/351)\u001b[K\r",
      "remote: Compressing objects:  46% (162/351)\u001b[K\r",
      "remote: Compressing objects:  47% (165/351)\u001b[K\r",
      "remote: Compressing objects:  48% (169/351)\u001b[K\r",
      "remote: Compressing objects:  49% (172/351)\u001b[K\r",
      "remote: Compressing objects:  50% (176/351)\u001b[K\r",
      "remote: Compressing objects:  51% (180/351)\u001b[K\r",
      "remote: Compressing objects:  52% (183/351)\u001b[K\r",
      "remote: Compressing objects:  53% (187/351)\u001b[K\r",
      "remote: Compressing objects:  54% (190/351)\u001b[K\r",
      "remote: Compressing objects:  55% (194/351)\u001b[K\r",
      "remote: Compressing objects:  56% (197/351)\u001b[K\r",
      "remote: Compressing objects:  57% (201/351)\u001b[K\r",
      "remote: Compressing objects:  58% (204/351)\u001b[K\r",
      "remote: Compressing objects:  59% (208/351)\u001b[K\r",
      "remote: Compressing objects:  60% (211/351)\u001b[K\r",
      "remote: Compressing objects:  61% (215/351)\u001b[K\r",
      "remote: Compressing objects:  62% (218/351)\u001b[K\r",
      "remote: Compressing objects:  63% (222/351)\u001b[K\r",
      "remote: Compressing objects:  64% (225/351)\u001b[K\r",
      "remote: Compressing objects:  65% (229/351)\u001b[K\r",
      "remote: Compressing objects:  66% (232/351)\u001b[K\r",
      "remote: Compressing objects:  67% (236/351)\u001b[K\r",
      "remote: Compressing objects:  68% (239/351)\u001b[K\r",
      "remote: Compressing objects:  69% (243/351)\u001b[K\r",
      "remote: Compressing objects:  70% (246/351)\u001b[K\r",
      "remote: Compressing objects:  71% (250/351)\u001b[K\r",
      "remote: Compressing objects:  72% (253/351)\u001b[K\r",
      "remote: Compressing objects:  73% (257/351)\u001b[K\r",
      "remote: Compressing objects:  74% (260/351)\u001b[K\r",
      "remote: Compressing objects:  75% (264/351)\u001b[K\r",
      "remote: Compressing objects:  76% (267/351)\u001b[K\r",
      "remote: Compressing objects:  77% (271/351)\u001b[K\r",
      "remote: Compressing objects:  78% (274/351)\u001b[K\r",
      "remote: Compressing objects:  79% (278/351)\u001b[K\r",
      "remote: Compressing objects:  80% (281/351)\u001b[K\r",
      "remote: Compressing objects:  81% (285/351)\u001b[K\r",
      "remote: Compressing objects:  82% (288/351)\u001b[K\r",
      "remote: Compressing objects:  83% (292/351)\u001b[K\r",
      "remote: Compressing objects:  84% (295/351)\u001b[K\r",
      "remote: Compressing objects:  85% (299/351)\u001b[K\r",
      "remote: Compressing objects:  86% (302/351)\u001b[K\r",
      "remote: Compressing objects:  87% (306/351)\u001b[K\r",
      "remote: Compressing objects:  88% (309/351)\u001b[K\r",
      "remote: Compressing objects:  89% (313/351)\u001b[K\r",
      "remote: Compressing objects:  90% (316/351)\u001b[K\r",
      "remote: Compressing objects:  91% (320/351)\u001b[K\r",
      "remote: Compressing objects:  92% (323/351)\u001b[K\r",
      "remote: Compressing objects:  93% (327/351)\u001b[K\r",
      "remote: Compressing objects:  94% (330/351)\u001b[K\r",
      "remote: Compressing objects:  95% (334/351)\u001b[K\r",
      "remote: Compressing objects:  96% (337/351)\u001b[K\r",
      "remote: Compressing objects:  97% (341/351)\u001b[K\r",
      "remote: Compressing objects:  98% (344/351)\u001b[K\r",
      "remote: Compressing objects:  99% (348/351)\u001b[K\r",
      "remote: Compressing objects: 100% (351/351)\u001b[K\r",
      "remote: Compressing objects: 100% (351/351), done.\u001b[K\r\n",
      "Receiving objects:   0% (1/28166)   \r"
     ]
    },
    {
     "name": "stdout",
     "output_type": "stream",
     "text": [
      "Receiving objects:   1% (282/28166)   \r"
     ]
    },
    {
     "name": "stdout",
     "output_type": "stream",
     "text": [
      "Receiving objects:   2% (564/28166)   \r",
      "Receiving objects:   3% (845/28166)   \r"
     ]
    },
    {
     "name": "stdout",
     "output_type": "stream",
     "text": [
      "Receiving objects:   4% (1127/28166)   \r",
      "Receiving objects:   5% (1409/28166)   \r",
      "Receiving objects:   6% (1690/28166)   \r",
      "Receiving objects:   7% (1972/28166)   \r"
     ]
    },
    {
     "name": "stdout",
     "output_type": "stream",
     "text": [
      "Receiving objects:   8% (2254/28166)   \r",
      "Receiving objects:   9% (2535/28166)   \r",
      "Receiving objects:  10% (2817/28166)   \r",
      "Receiving objects:  11% (3099/28166)   \r",
      "Receiving objects:  12% (3380/28166)   \r",
      "Receiving objects:  13% (3662/28166)   \r",
      "Receiving objects:  14% (3944/28166)   \r",
      "Receiving objects:  15% (4225/28166)   \r",
      "Receiving objects:  16% (4507/28166)   \r"
     ]
    },
    {
     "name": "stdout",
     "output_type": "stream",
     "text": [
      "Receiving objects:  17% (4789/28166)   \r",
      "Receiving objects:  18% (5070/28166)   \r",
      "Receiving objects:  19% (5352/28166)   \r",
      "Receiving objects:  20% (5634/28166)   \r",
      "Receiving objects:  21% (5915/28166)   \r"
     ]
    },
    {
     "name": "stdout",
     "output_type": "stream",
     "text": [
      "Receiving objects:  22% (6197/28166)   \r",
      "Receiving objects:  23% (6479/28166)   \r",
      "Receiving objects:  24% (6760/28166)   \r",
      "Receiving objects:  25% (7042/28166)   \r",
      "Receiving objects:  26% (7324/28166)   \r",
      "Receiving objects:  27% (7605/28166)   \r"
     ]
    },
    {
     "name": "stdout",
     "output_type": "stream",
     "text": [
      "Receiving objects:  28% (7887/28166)   \r",
      "Receiving objects:  29% (8169/28166)   \r",
      "Receiving objects:  30% (8450/28166)   \r",
      "Receiving objects:  31% (8732/28166)   \r",
      "Receiving objects:  32% (9014/28166)   \r",
      "Receiving objects:  33% (9295/28166)   \r",
      "Receiving objects:  34% (9577/28166)   \r",
      "Receiving objects:  35% (9859/28166)   \r",
      "Receiving objects:  36% (10140/28166)   \r",
      "Receiving objects:  37% (10422/28166)   \r",
      "Receiving objects:  38% (10704/28166)   \r",
      "Receiving objects:  39% (10985/28166)   \r",
      "Receiving objects:  40% (11267/28166)   \r",
      "Receiving objects:  41% (11549/28166)   \r",
      "Receiving objects:  42% (11830/28166)   \r",
      "Receiving objects:  43% (12112/28166)   \r"
     ]
    },
    {
     "name": "stdout",
     "output_type": "stream",
     "text": [
      "Receiving objects:  44% (12394/28166)   \r",
      "Receiving objects:  45% (12675/28166)   \r",
      "Receiving objects:  46% (12957/28166)   \r",
      "Receiving objects:  47% (13239/28166)   \r",
      "Receiving objects:  48% (13520/28166)   \r",
      "Receiving objects:  49% (13802/28166)   \r",
      "Receiving objects:  50% (14083/28166)   \r",
      "Receiving objects:  51% (14365/28166)   \r",
      "Receiving objects:  52% (14647/28166)   \r",
      "Receiving objects:  53% (14928/28166)   \r",
      "Receiving objects:  54% (15210/28166)   \r",
      "Receiving objects:  55% (15492/28166)   \r",
      "Receiving objects:  56% (15773/28166)   \r",
      "Receiving objects:  57% (16055/28166)   \r",
      "Receiving objects:  58% (16337/28166)   \r"
     ]
    },
    {
     "name": "stdout",
     "output_type": "stream",
     "text": [
      "Receiving objects:  59% (16618/28166)   \r",
      "Receiving objects:  60% (16900/28166)   \r",
      "Receiving objects:  61% (17182/28166)   \r",
      "Receiving objects:  62% (17463/28166)   \r",
      "Receiving objects:  63% (17745/28166)   \r",
      "Receiving objects:  64% (18027/28166)   \r",
      "Receiving objects:  65% (18308/28166)   \r",
      "Receiving objects:  66% (18590/28166)   \r",
      "Receiving objects:  67% (18872/28166)   \r",
      "Receiving objects:  68% (19153/28166)   \r",
      "Receiving objects:  69% (19435/28166)   \r",
      "Receiving objects:  70% (19717/28166)   \r",
      "Receiving objects:  71% (19998/28166)   \r",
      "Receiving objects:  72% (20280/28166)   \r",
      "Receiving objects:  73% (20562/28166)   \r",
      "Receiving objects:  74% (20843/28166), 9.90 MiB | 19.79 MiB/s   \r",
      "Receiving objects:  75% (21125/28166), 9.90 MiB | 19.79 MiB/s   \r",
      "Receiving objects:  76% (21407/28166), 9.90 MiB | 19.79 MiB/s   \r",
      "Receiving objects:  77% (21688/28166), 9.90 MiB | 19.79 MiB/s   \r",
      "Receiving objects:  78% (21970/28166), 9.90 MiB | 19.79 MiB/s   \r"
     ]
    },
    {
     "name": "stdout",
     "output_type": "stream",
     "text": [
      "Receiving objects:  79% (22252/28166), 9.90 MiB | 19.79 MiB/s   \r",
      "Receiving objects:  80% (22533/28166), 9.90 MiB | 19.79 MiB/s   \r",
      "Receiving objects:  81% (22815/28166), 9.90 MiB | 19.79 MiB/s   \r",
      "Receiving objects:  82% (23097/28166), 9.90 MiB | 19.79 MiB/s   \r",
      "Receiving objects:  83% (23378/28166), 9.90 MiB | 19.79 MiB/s   \r",
      "Receiving objects:  84% (23660/28166), 9.90 MiB | 19.79 MiB/s   \r",
      "Receiving objects:  85% (23942/28166), 9.90 MiB | 19.79 MiB/s   \r",
      "Receiving objects:  86% (24223/28166), 9.90 MiB | 19.79 MiB/s   \r",
      "Receiving objects:  87% (24505/28166), 9.90 MiB | 19.79 MiB/s   \r",
      "Receiving objects:  88% (24787/28166), 9.90 MiB | 19.79 MiB/s   \r",
      "Receiving objects:  89% (25068/28166), 9.90 MiB | 19.79 MiB/s   \r",
      "Receiving objects:  90% (25350/28166), 9.90 MiB | 19.79 MiB/s   \r",
      "Receiving objects:  91% (25632/28166), 9.90 MiB | 19.79 MiB/s   \r",
      "Receiving objects:  92% (25913/28166), 9.90 MiB | 19.79 MiB/s   \r",
      "Receiving objects:  93% (26195/28166), 9.90 MiB | 19.79 MiB/s   \r",
      "Receiving objects:  94% (26477/28166), 9.90 MiB | 19.79 MiB/s   \r",
      "Receiving objects:  95% (26758/28166), 9.90 MiB | 19.79 MiB/s   \r",
      "Receiving objects:  96% (27040/28166), 9.90 MiB | 19.79 MiB/s   \r",
      "Receiving objects:  97% (27322/28166), 9.90 MiB | 19.79 MiB/s   \r",
      "Receiving objects:  98% (27603/28166), 9.90 MiB | 19.79 MiB/s   \r",
      "Receiving objects:  99% (27885/28166), 9.90 MiB | 19.79 MiB/s   \r",
      "remote: Total 28166 (delta 285), reused 442 (delta 216), pack-reused 27586\u001b[K\r\n",
      "Receiving objects: 100% (28166/28166), 9.90 MiB | 19.79 MiB/s   \r",
      "Receiving objects: 100% (28166/28166), 11.90 MiB | 20.79 MiB/s, done.\r\n"
     ]
    },
    {
     "name": "stdout",
     "output_type": "stream",
     "text": [
      "Resolving deltas:   0% (0/21104)   \r",
      "Resolving deltas:   1% (214/21104)   \r",
      "Resolving deltas:   2% (423/21104)   \r",
      "Resolving deltas:   3% (636/21104)   \r",
      "Resolving deltas:   4% (845/21104)   \r",
      "Resolving deltas:   5% (1056/21104)   \r",
      "Resolving deltas:   6% (1270/21104)   \r",
      "Resolving deltas:   7% (1485/21104)   \r"
     ]
    },
    {
     "name": "stdout",
     "output_type": "stream",
     "text": [
      "Resolving deltas:   8% (1716/21104)   \r",
      "Resolving deltas:   9% (1901/21104)   \r",
      "Resolving deltas:  10% (2116/21104)   \r",
      "Resolving deltas:  11% (2339/21104)   \r",
      "Resolving deltas:  12% (2538/21104)   \r"
     ]
    },
    {
     "name": "stdout",
     "output_type": "stream",
     "text": [
      "Resolving deltas:  13% (2753/21104)   \r",
      "Resolving deltas:  14% (2957/21104)   \r",
      "Resolving deltas:  15% (3166/21104)   \r",
      "Resolving deltas:  16% (3387/21104)   \r",
      "Resolving deltas:  17% (3639/21104)   \r"
     ]
    },
    {
     "name": "stdout",
     "output_type": "stream",
     "text": [
      "Resolving deltas:  18% (3806/21104)   \r",
      "Resolving deltas:  19% (4010/21104)   \r",
      "Resolving deltas:  20% (4223/21104)   \r",
      "Resolving deltas:  21% (4432/21104)   \r",
      "Resolving deltas:  22% (4670/21104)   \r",
      "Resolving deltas:  23% (4856/21104)   \r"
     ]
    },
    {
     "name": "stdout",
     "output_type": "stream",
     "text": [
      "Resolving deltas:  24% (5095/21104)   \r",
      "Resolving deltas:  25% (5289/21104)   \r",
      "Resolving deltas:  26% (5488/21104)   \r",
      "Resolving deltas:  27% (5710/21104)   \r",
      "Resolving deltas:  28% (5920/21104)   \r",
      "Resolving deltas:  29% (6136/21104)   \r",
      "Resolving deltas:  30% (6378/21104)   \r",
      "Resolving deltas:  31% (6549/21104)   \r"
     ]
    },
    {
     "name": "stdout",
     "output_type": "stream",
     "text": [
      "Resolving deltas:  32% (6823/21104)   \r",
      "Resolving deltas:  33% (7035/21104)   \r",
      "Resolving deltas:  34% (7200/21104)   \r",
      "Resolving deltas:  35% (7387/21104)   \r",
      "Resolving deltas:  36% (7660/21104)   \r",
      "Resolving deltas:  37% (7817/21104)   \r",
      "Resolving deltas:  38% (8020/21104)   \r",
      "Resolving deltas:  39% (8233/21104)   \r"
     ]
    },
    {
     "name": "stdout",
     "output_type": "stream",
     "text": [
      "Resolving deltas:  40% (8461/21104)   \r",
      "Resolving deltas:  41% (8859/21104)   \r",
      "Resolving deltas:  42% (8878/21104)   \r",
      "Resolving deltas:  43% (9076/21104)   \r",
      "Resolving deltas:  44% (9292/21104)   \r",
      "Resolving deltas:  45% (9531/21104)   \r",
      "Resolving deltas:  46% (9711/21104)   \r",
      "Resolving deltas:  47% (9948/21104)   \r",
      "Resolving deltas:  49% (10505/21104)   \r",
      "Resolving deltas:  50% (10567/21104)   \r",
      "Resolving deltas:  51% (10827/21104)   \r",
      "Resolving deltas:  52% (10987/21104)   \r",
      "Resolving deltas:  53% (11196/21104)   \r"
     ]
    },
    {
     "name": "stdout",
     "output_type": "stream",
     "text": [
      "Resolving deltas:  54% (11465/21104)   \r",
      "Resolving deltas:  55% (11651/21104)   \r",
      "Resolving deltas:  56% (11829/21104)   \r",
      "Resolving deltas:  57% (12031/21104)   \r",
      "Resolving deltas:  58% (12314/21104)   \r",
      "Resolving deltas:  59% (12454/21104)   \r",
      "Resolving deltas:  60% (12715/21104)   \r",
      "Resolving deltas:  61% (12977/21104)   \r",
      "Resolving deltas:  62% (13123/21104)   \r",
      "Resolving deltas:  63% (13299/21104)   \r",
      "Resolving deltas:  64% (13516/21104)   \r",
      "Resolving deltas:  65% (13740/21104)   \r",
      "Resolving deltas:  66% (13937/21104)   \r"
     ]
    },
    {
     "name": "stdout",
     "output_type": "stream",
     "text": [
      "Resolving deltas:  67% (14175/21104)   \r",
      "Resolving deltas:  68% (14358/21104)   \r",
      "Resolving deltas:  69% (14571/21104)   \r",
      "Resolving deltas:  70% (14814/21104)   \r",
      "Resolving deltas:  71% (14993/21104)   \r",
      "Resolving deltas:  72% (15212/21104)   \r",
      "Resolving deltas:  74% (15673/21104)   \r",
      "Resolving deltas:  75% (15837/21104)   \r",
      "Resolving deltas:  76% (16151/21104)   \r",
      "Resolving deltas:  77% (16254/21104)   \r",
      "Resolving deltas:  78% (16489/21104)   \r",
      "Resolving deltas:  79% (16733/21104)   \r",
      "Resolving deltas:  80% (17066/21104)   \r",
      "Resolving deltas:  81% (17103/21104)   \r",
      "Resolving deltas:  82% (17326/21104)   \r",
      "Resolving deltas:  83% (17549/21104)   \r",
      "Resolving deltas:  85% (18091/21104)   \r",
      "Resolving deltas:  86% (18154/21104)   \r",
      "Resolving deltas:  87% (18401/21104)   \r",
      "Resolving deltas:  88% (18596/21104)   \r"
     ]
    },
    {
     "name": "stdout",
     "output_type": "stream",
     "text": [
      "Resolving deltas:  89% (18784/21104)   \r",
      "Resolving deltas:  90% (18996/21104)   \r",
      "Resolving deltas:  91% (19207/21104)   \r",
      "Resolving deltas:  92% (19420/21104)   \r",
      "Resolving deltas:  93% (19644/21104)   \r",
      "Resolving deltas:  94% (19852/21104)   \r",
      "Resolving deltas:  95% (20050/21104)   \r",
      "Resolving deltas:  96% (20287/21104)   \r",
      "Resolving deltas:  97% (20477/21104)   \r",
      "Resolving deltas:  98% (20687/21104)   \r",
      "Resolving deltas:  99% (20903/21104)   \r",
      "Resolving deltas: 100% (21104/21104)   \r",
      "Resolving deltas: 100% (21104/21104), done.\r\n"
     ]
    }
   ],
   "source": [
    "!git clone https://github.com/pytorch/fairseq/"
   ]
  },
  {
   "cell_type": "code",
   "execution_count": 4,
   "id": "broad-czech",
   "metadata": {
    "execution": {
     "iopub.execute_input": "2021-05-27T18:17:08.706607Z",
     "iopub.status.busy": "2021-05-27T18:17:08.705909Z",
     "iopub.status.idle": "2021-05-27T18:17:08.709166Z",
     "shell.execute_reply": "2021-05-27T18:17:08.709735Z",
     "shell.execute_reply.started": "2021-05-25T21:59:53.235485Z"
    },
    "papermill": {
     "duration": 0.038585,
     "end_time": "2021-05-27T18:17:08.709899",
     "exception": false,
     "start_time": "2021-05-27T18:17:08.671314",
     "status": "completed"
    },
    "tags": []
   },
   "outputs": [
    {
     "name": "stdout",
     "output_type": "stream",
     "text": [
      "/tmp/fairseq/examples/wav2vec/unsupervised/scripts\n"
     ]
    }
   ],
   "source": [
    "%cd fairseq/examples/wav2vec/unsupervised/scripts"
   ]
  },
  {
   "cell_type": "code",
   "execution_count": 5,
   "id": "studied-aurora",
   "metadata": {
    "execution": {
     "iopub.execute_input": "2021-05-27T18:17:08.772823Z",
     "iopub.status.busy": "2021-05-27T18:17:08.772166Z",
     "iopub.status.idle": "2021-05-27T18:17:35.018662Z",
     "shell.execute_reply": "2021-05-27T18:17:35.017768Z"
    },
    "papermill": {
     "duration": 26.278762,
     "end_time": "2021-05-27T18:17:35.018808",
     "exception": false,
     "start_time": "2021-05-27T18:17:08.740046",
     "status": "completed"
    },
    "tags": []
   },
   "outputs": [],
   "source": [
    "!cp -r /kaggle/input/wav2vec-u-cv-swedish-vads/ /tmp"
   ]
  },
  {
   "cell_type": "code",
   "execution_count": 6,
   "id": "steady-commons",
   "metadata": {
    "execution": {
     "iopub.execute_input": "2021-05-27T18:17:35.096912Z",
     "iopub.status.busy": "2021-05-27T18:17:35.093189Z",
     "iopub.status.idle": "2021-05-27T18:17:39.180936Z",
     "shell.execute_reply": "2021-05-27T18:17:39.180158Z"
    },
    "papermill": {
     "duration": 4.132464,
     "end_time": "2021-05-27T18:17:39.181119",
     "exception": false,
     "start_time": "2021-05-27T18:17:35.048655",
     "status": "completed"
    },
    "tags": []
   },
   "outputs": [],
   "source": [
    "!mkdir tsv\n",
    "!for i in train test valid; do echo /kaggle/input/wav2vec-u-cv-swedish-vads/wav/$i/common-voice-swedish-16bit-wav/ > tsv/$i.tsv; cat /kaggle/input/fork-of-wav2vec-u-cv-swedish-tsv/test.tsv|sed '1d' >> tsv/$i.tsv;done\n",
    "!cp /kaggle/input/wav2vec-u-cv-swedish-prep-ltr-phn-wrd/dic* tsv/\n",
    "!cp /kaggle/input/wav2vec-u-cv-swedish-prep-ltr-phn-wrd/*.wrd tsv/\n",
    "!cp /kaggle/input/wav2vec-u-cv-swedish-prep-ltr-phn-wrd/*.ltr tsv/\n",
    "!cp /kaggle/input/wav2vec-u-cv-swedish-prep-ltr-phn-wrd/*.phn tsv/"
   ]
  },
  {
   "cell_type": "code",
   "execution_count": 7,
   "id": "saving-channels",
   "metadata": {
    "execution": {
     "iopub.execute_input": "2021-05-27T18:17:39.297213Z",
     "iopub.status.busy": "2021-05-27T18:17:39.296374Z",
     "iopub.status.idle": "2021-05-27T18:17:45.632485Z",
     "shell.execute_reply": "2021-05-27T18:17:45.632045Z"
    },
    "papermill": {
     "duration": 6.397358,
     "end_time": "2021-05-27T18:17:45.632650",
     "exception": false,
     "start_time": "2021-05-27T18:17:39.235292",
     "status": "completed"
    },
    "tags": []
   },
   "outputs": [],
   "source": [
    "%%capture\n",
    "!pip install npy-append-array"
   ]
  },
  {
   "cell_type": "code",
   "execution_count": 8,
   "id": "solid-hardwood",
   "metadata": {
    "execution": {
     "iopub.execute_input": "2021-05-27T18:17:45.700675Z",
     "iopub.status.busy": "2021-05-27T18:17:45.699790Z"
    },
    "papermill": {
     "duration": null,
     "end_time": null,
     "exception": false,
     "start_time": "2021-05-27T18:17:45.662811",
     "status": "running"
    },
    "tags": []
   },
   "outputs": [
    {
     "name": "stdout",
     "output_type": "stream",
     "text": [
      "Collecting package metadata (current_repodata.json): - "
     ]
    },
    {
     "name": "stdout",
     "output_type": "stream",
     "text": [
      "\b\b\\ "
     ]
    },
    {
     "name": "stdout",
     "output_type": "stream",
     "text": [
      "\b\b| "
     ]
    },
    {
     "name": "stdout",
     "output_type": "stream",
     "text": [
      "\b\b/ "
     ]
    },
    {
     "name": "stdout",
     "output_type": "stream",
     "text": [
      "\b\b- "
     ]
    },
    {
     "name": "stdout",
     "output_type": "stream",
     "text": [
      "\b\b\\ "
     ]
    },
    {
     "name": "stdout",
     "output_type": "stream",
     "text": [
      "\b\b| "
     ]
    },
    {
     "name": "stdout",
     "output_type": "stream",
     "text": [
      "\b\b/ "
     ]
    },
    {
     "name": "stdout",
     "output_type": "stream",
     "text": [
      "\b\b- "
     ]
    },
    {
     "name": "stdout",
     "output_type": "stream",
     "text": [
      "\b\b\\ "
     ]
    },
    {
     "name": "stdout",
     "output_type": "stream",
     "text": [
      "\b\b| "
     ]
    },
    {
     "name": "stdout",
     "output_type": "stream",
     "text": [
      "\b\b/ "
     ]
    },
    {
     "name": "stdout",
     "output_type": "stream",
     "text": [
      "\b\b- "
     ]
    },
    {
     "name": "stdout",
     "output_type": "stream",
     "text": [
      "\b\b\\ "
     ]
    },
    {
     "name": "stdout",
     "output_type": "stream",
     "text": [
      "\b\b| "
     ]
    },
    {
     "name": "stdout",
     "output_type": "stream",
     "text": [
      "\b\b/ "
     ]
    },
    {
     "name": "stdout",
     "output_type": "stream",
     "text": [
      "\b\b- "
     ]
    },
    {
     "name": "stdout",
     "output_type": "stream",
     "text": [
      "\b\b\\ "
     ]
    },
    {
     "name": "stdout",
     "output_type": "stream",
     "text": [
      "\b\b| "
     ]
    },
    {
     "name": "stdout",
     "output_type": "stream",
     "text": [
      "\b\b/ "
     ]
    },
    {
     "name": "stdout",
     "output_type": "stream",
     "text": [
      "\b\b- "
     ]
    },
    {
     "name": "stdout",
     "output_type": "stream",
     "text": [
      "\b\b\\ "
     ]
    },
    {
     "name": "stdout",
     "output_type": "stream",
     "text": [
      "\b\b| "
     ]
    },
    {
     "name": "stdout",
     "output_type": "stream",
     "text": [
      "\b\b/ "
     ]
    },
    {
     "name": "stdout",
     "output_type": "stream",
     "text": [
      "\b\b- "
     ]
    },
    {
     "name": "stdout",
     "output_type": "stream",
     "text": [
      "\b\b\\ "
     ]
    },
    {
     "name": "stdout",
     "output_type": "stream",
     "text": [
      "\b\b| "
     ]
    },
    {
     "name": "stdout",
     "output_type": "stream",
     "text": [
      "\b\b/ "
     ]
    },
    {
     "name": "stdout",
     "output_type": "stream",
     "text": [
      "\b\b- "
     ]
    },
    {
     "name": "stdout",
     "output_type": "stream",
     "text": [
      "\b\b\\ "
     ]
    },
    {
     "name": "stdout",
     "output_type": "stream",
     "text": [
      "\b\b| "
     ]
    },
    {
     "name": "stdout",
     "output_type": "stream",
     "text": [
      "\b\b/ "
     ]
    },
    {
     "name": "stdout",
     "output_type": "stream",
     "text": [
      "\b\b- "
     ]
    },
    {
     "name": "stdout",
     "output_type": "stream",
     "text": [
      "\b\b\\ "
     ]
    },
    {
     "name": "stdout",
     "output_type": "stream",
     "text": [
      "\b\b| "
     ]
    },
    {
     "name": "stdout",
     "output_type": "stream",
     "text": [
      "\b\b/ "
     ]
    },
    {
     "name": "stdout",
     "output_type": "stream",
     "text": [
      "\b\b- "
     ]
    },
    {
     "name": "stdout",
     "output_type": "stream",
     "text": [
      "\b\b\\ "
     ]
    },
    {
     "name": "stdout",
     "output_type": "stream",
     "text": [
      "\b\b| "
     ]
    },
    {
     "name": "stdout",
     "output_type": "stream",
     "text": [
      "\b\b/ "
     ]
    },
    {
     "name": "stdout",
     "output_type": "stream",
     "text": [
      "\b\b- "
     ]
    },
    {
     "name": "stdout",
     "output_type": "stream",
     "text": [
      "\b\b\\ "
     ]
    },
    {
     "name": "stdout",
     "output_type": "stream",
     "text": [
      "\b\b| "
     ]
    },
    {
     "name": "stdout",
     "output_type": "stream",
     "text": [
      "\b\b/ "
     ]
    },
    {
     "name": "stdout",
     "output_type": "stream",
     "text": [
      "\b\b- "
     ]
    },
    {
     "name": "stdout",
     "output_type": "stream",
     "text": [
      "\b\b\\ "
     ]
    },
    {
     "name": "stdout",
     "output_type": "stream",
     "text": [
      "\b\b| "
     ]
    },
    {
     "name": "stdout",
     "output_type": "stream",
     "text": [
      "\b\b/ "
     ]
    },
    {
     "name": "stdout",
     "output_type": "stream",
     "text": [
      "\b\b- "
     ]
    },
    {
     "name": "stdout",
     "output_type": "stream",
     "text": [
      "\b\b\\ "
     ]
    },
    {
     "name": "stdout",
     "output_type": "stream",
     "text": [
      "\b\b| "
     ]
    },
    {
     "name": "stdout",
     "output_type": "stream",
     "text": [
      "\b\b/ "
     ]
    },
    {
     "name": "stdout",
     "output_type": "stream",
     "text": [
      "\b\b- "
     ]
    },
    {
     "name": "stdout",
     "output_type": "stream",
     "text": [
      "\b\b\\ "
     ]
    },
    {
     "name": "stdout",
     "output_type": "stream",
     "text": [
      "\b\b| "
     ]
    },
    {
     "name": "stdout",
     "output_type": "stream",
     "text": [
      "\b\b/ "
     ]
    },
    {
     "name": "stdout",
     "output_type": "stream",
     "text": [
      "\b\b- "
     ]
    },
    {
     "name": "stdout",
     "output_type": "stream",
     "text": [
      "\b\b\\ "
     ]
    },
    {
     "name": "stdout",
     "output_type": "stream",
     "text": [
      "\b\b| "
     ]
    },
    {
     "name": "stdout",
     "output_type": "stream",
     "text": [
      "\b\b/ "
     ]
    },
    {
     "name": "stdout",
     "output_type": "stream",
     "text": [
      "\b\b- "
     ]
    },
    {
     "name": "stdout",
     "output_type": "stream",
     "text": [
      "\b\b\\ "
     ]
    },
    {
     "name": "stdout",
     "output_type": "stream",
     "text": [
      "\b\b| "
     ]
    },
    {
     "name": "stdout",
     "output_type": "stream",
     "text": [
      "\b\b/ "
     ]
    },
    {
     "name": "stdout",
     "output_type": "stream",
     "text": [
      "\b\b- "
     ]
    },
    {
     "name": "stdout",
     "output_type": "stream",
     "text": [
      "\b\b\\ "
     ]
    },
    {
     "name": "stdout",
     "output_type": "stream",
     "text": [
      "\b\b| "
     ]
    },
    {
     "name": "stdout",
     "output_type": "stream",
     "text": [
      "\b\b/ "
     ]
    },
    {
     "name": "stdout",
     "output_type": "stream",
     "text": [
      "\b\b- "
     ]
    },
    {
     "name": "stdout",
     "output_type": "stream",
     "text": [
      "\b\b\\ "
     ]
    },
    {
     "name": "stdout",
     "output_type": "stream",
     "text": [
      "\b\b| "
     ]
    },
    {
     "name": "stdout",
     "output_type": "stream",
     "text": [
      "\b\b/ "
     ]
    },
    {
     "name": "stdout",
     "output_type": "stream",
     "text": [
      "\b\b- "
     ]
    },
    {
     "name": "stdout",
     "output_type": "stream",
     "text": [
      "\b\b\\ "
     ]
    },
    {
     "name": "stdout",
     "output_type": "stream",
     "text": [
      "\b\b| "
     ]
    },
    {
     "name": "stdout",
     "output_type": "stream",
     "text": [
      "\b\b/ "
     ]
    },
    {
     "name": "stdout",
     "output_type": "stream",
     "text": [
      "\b\b- "
     ]
    },
    {
     "name": "stdout",
     "output_type": "stream",
     "text": [
      "\b\b\\ "
     ]
    },
    {
     "name": "stdout",
     "output_type": "stream",
     "text": [
      "\b\b| "
     ]
    },
    {
     "name": "stdout",
     "output_type": "stream",
     "text": [
      "\b\b/ "
     ]
    },
    {
     "name": "stdout",
     "output_type": "stream",
     "text": [
      "\b\b- "
     ]
    },
    {
     "name": "stdout",
     "output_type": "stream",
     "text": [
      "\b\b\\ "
     ]
    },
    {
     "name": "stdout",
     "output_type": "stream",
     "text": [
      "\b\b| "
     ]
    },
    {
     "name": "stdout",
     "output_type": "stream",
     "text": [
      "\b\b/ "
     ]
    },
    {
     "name": "stdout",
     "output_type": "stream",
     "text": [
      "\b\b- "
     ]
    },
    {
     "name": "stdout",
     "output_type": "stream",
     "text": [
      "\b\b\\ "
     ]
    },
    {
     "name": "stdout",
     "output_type": "stream",
     "text": [
      "\b\b| "
     ]
    },
    {
     "name": "stdout",
     "output_type": "stream",
     "text": [
      "\b\b/ "
     ]
    },
    {
     "name": "stdout",
     "output_type": "stream",
     "text": [
      "\b\b- "
     ]
    },
    {
     "name": "stdout",
     "output_type": "stream",
     "text": [
      "\b\b\\ "
     ]
    },
    {
     "name": "stdout",
     "output_type": "stream",
     "text": [
      "\b\b| "
     ]
    },
    {
     "name": "stdout",
     "output_type": "stream",
     "text": [
      "\b\b/ "
     ]
    },
    {
     "name": "stdout",
     "output_type": "stream",
     "text": [
      "\b\b- "
     ]
    },
    {
     "name": "stdout",
     "output_type": "stream",
     "text": [
      "\b\b\\ "
     ]
    },
    {
     "name": "stdout",
     "output_type": "stream",
     "text": [
      "\b\b| "
     ]
    },
    {
     "name": "stdout",
     "output_type": "stream",
     "text": [
      "\b\b/ "
     ]
    },
    {
     "name": "stdout",
     "output_type": "stream",
     "text": [
      "\b\b- "
     ]
    },
    {
     "name": "stdout",
     "output_type": "stream",
     "text": [
      "\b\b\\ "
     ]
    },
    {
     "name": "stdout",
     "output_type": "stream",
     "text": [
      "\b\b| "
     ]
    },
    {
     "name": "stdout",
     "output_type": "stream",
     "text": [
      "\b\b/ "
     ]
    },
    {
     "name": "stdout",
     "output_type": "stream",
     "text": [
      "\b\b- "
     ]
    },
    {
     "name": "stdout",
     "output_type": "stream",
     "text": [
      "\b\b\\ "
     ]
    },
    {
     "name": "stdout",
     "output_type": "stream",
     "text": [
      "\b\b| "
     ]
    },
    {
     "name": "stdout",
     "output_type": "stream",
     "text": [
      "\b\b/ "
     ]
    },
    {
     "name": "stdout",
     "output_type": "stream",
     "text": [
      "\b\b- "
     ]
    },
    {
     "name": "stdout",
     "output_type": "stream",
     "text": [
      "\b\b\\ "
     ]
    },
    {
     "name": "stdout",
     "output_type": "stream",
     "text": [
      "\b\b| "
     ]
    },
    {
     "name": "stdout",
     "output_type": "stream",
     "text": [
      "\b\b/ "
     ]
    },
    {
     "name": "stdout",
     "output_type": "stream",
     "text": [
      "\b\b- "
     ]
    },
    {
     "name": "stdout",
     "output_type": "stream",
     "text": [
      "\b\b\\ "
     ]
    },
    {
     "name": "stdout",
     "output_type": "stream",
     "text": [
      "\b\b| "
     ]
    },
    {
     "name": "stdout",
     "output_type": "stream",
     "text": [
      "\b\b/ "
     ]
    },
    {
     "name": "stdout",
     "output_type": "stream",
     "text": [
      "\b\b- "
     ]
    },
    {
     "name": "stdout",
     "output_type": "stream",
     "text": [
      "\b\b\\ "
     ]
    },
    {
     "name": "stdout",
     "output_type": "stream",
     "text": [
      "\b\b| "
     ]
    },
    {
     "name": "stdout",
     "output_type": "stream",
     "text": [
      "\b\b/ "
     ]
    },
    {
     "name": "stdout",
     "output_type": "stream",
     "text": [
      "\b\b- "
     ]
    },
    {
     "name": "stdout",
     "output_type": "stream",
     "text": [
      "\b\b\\ "
     ]
    },
    {
     "name": "stdout",
     "output_type": "stream",
     "text": [
      "\b\b| "
     ]
    },
    {
     "name": "stdout",
     "output_type": "stream",
     "text": [
      "\b\b/ "
     ]
    },
    {
     "name": "stdout",
     "output_type": "stream",
     "text": [
      "\b\b- "
     ]
    },
    {
     "name": "stdout",
     "output_type": "stream",
     "text": [
      "\b\b\\ "
     ]
    },
    {
     "name": "stdout",
     "output_type": "stream",
     "text": [
      "\b\b| "
     ]
    },
    {
     "name": "stdout",
     "output_type": "stream",
     "text": [
      "\b\b/ "
     ]
    },
    {
     "name": "stdout",
     "output_type": "stream",
     "text": [
      "\b\b- "
     ]
    },
    {
     "name": "stdout",
     "output_type": "stream",
     "text": [
      "\b\b\\ "
     ]
    },
    {
     "name": "stdout",
     "output_type": "stream",
     "text": [
      "\b\b| "
     ]
    },
    {
     "name": "stdout",
     "output_type": "stream",
     "text": [
      "\b\bdone\r\n",
      "Solving environment: - "
     ]
    },
    {
     "name": "stdout",
     "output_type": "stream",
     "text": [
      "\b\b\\ "
     ]
    },
    {
     "name": "stdout",
     "output_type": "stream",
     "text": [
      "\b\b| "
     ]
    },
    {
     "name": "stdout",
     "output_type": "stream",
     "text": [
      "\b\b/ "
     ]
    },
    {
     "name": "stdout",
     "output_type": "stream",
     "text": [
      "\b\b- "
     ]
    },
    {
     "name": "stdout",
     "output_type": "stream",
     "text": [
      "\b\b\\ "
     ]
    },
    {
     "name": "stdout",
     "output_type": "stream",
     "text": [
      "\b\b| "
     ]
    },
    {
     "name": "stdout",
     "output_type": "stream",
     "text": [
      "\b\b/ "
     ]
    },
    {
     "name": "stdout",
     "output_type": "stream",
     "text": [
      "\b\b- "
     ]
    },
    {
     "name": "stdout",
     "output_type": "stream",
     "text": [
      "\b\b\\ "
     ]
    },
    {
     "name": "stdout",
     "output_type": "stream",
     "text": [
      "\b\b| "
     ]
    },
    {
     "name": "stdout",
     "output_type": "stream",
     "text": [
      "\b\b/ "
     ]
    },
    {
     "name": "stdout",
     "output_type": "stream",
     "text": [
      "\b\b- "
     ]
    },
    {
     "name": "stdout",
     "output_type": "stream",
     "text": [
      "\b\b\\ "
     ]
    },
    {
     "name": "stdout",
     "output_type": "stream",
     "text": [
      "\b\b| "
     ]
    },
    {
     "name": "stdout",
     "output_type": "stream",
     "text": [
      "\b\b/ "
     ]
    },
    {
     "name": "stdout",
     "output_type": "stream",
     "text": [
      "\b\b- "
     ]
    },
    {
     "name": "stdout",
     "output_type": "stream",
     "text": [
      "\b\b\\ "
     ]
    },
    {
     "name": "stdout",
     "output_type": "stream",
     "text": [
      "\b\b| "
     ]
    },
    {
     "name": "stdout",
     "output_type": "stream",
     "text": [
      "\b\b/ "
     ]
    },
    {
     "name": "stdout",
     "output_type": "stream",
     "text": [
      "\b\b- "
     ]
    },
    {
     "name": "stdout",
     "output_type": "stream",
     "text": [
      "\b\b\\ "
     ]
    },
    {
     "name": "stdout",
     "output_type": "stream",
     "text": [
      "\b\b| "
     ]
    },
    {
     "name": "stdout",
     "output_type": "stream",
     "text": [
      "\b\b/ "
     ]
    },
    {
     "name": "stdout",
     "output_type": "stream",
     "text": [
      "\b\b- "
     ]
    },
    {
     "name": "stdout",
     "output_type": "stream",
     "text": [
      "\b\b\\ "
     ]
    },
    {
     "name": "stdout",
     "output_type": "stream",
     "text": [
      "\b\b| "
     ]
    },
    {
     "name": "stdout",
     "output_type": "stream",
     "text": [
      "\b\b/ "
     ]
    },
    {
     "name": "stdout",
     "output_type": "stream",
     "text": [
      "\b\b- "
     ]
    },
    {
     "name": "stdout",
     "output_type": "stream",
     "text": [
      "\b\b\\ "
     ]
    },
    {
     "name": "stdout",
     "output_type": "stream",
     "text": [
      "\b\b| "
     ]
    },
    {
     "name": "stdout",
     "output_type": "stream",
     "text": [
      "\b\b/ "
     ]
    },
    {
     "name": "stdout",
     "output_type": "stream",
     "text": [
      "\b\b- "
     ]
    },
    {
     "name": "stdout",
     "output_type": "stream",
     "text": [
      "\b\b\\ "
     ]
    },
    {
     "name": "stdout",
     "output_type": "stream",
     "text": [
      "\b\b| "
     ]
    },
    {
     "name": "stdout",
     "output_type": "stream",
     "text": [
      "\b\b/ "
     ]
    },
    {
     "name": "stdout",
     "output_type": "stream",
     "text": [
      "\b\b- "
     ]
    },
    {
     "name": "stdout",
     "output_type": "stream",
     "text": [
      "\b\b\\ "
     ]
    },
    {
     "name": "stdout",
     "output_type": "stream",
     "text": [
      "\b\b| "
     ]
    },
    {
     "name": "stdout",
     "output_type": "stream",
     "text": [
      "\b\b/ "
     ]
    },
    {
     "name": "stdout",
     "output_type": "stream",
     "text": [
      "\b\b- "
     ]
    },
    {
     "name": "stdout",
     "output_type": "stream",
     "text": [
      "\b\b\\ "
     ]
    },
    {
     "name": "stdout",
     "output_type": "stream",
     "text": [
      "\b\b| "
     ]
    },
    {
     "name": "stdout",
     "output_type": "stream",
     "text": [
      "\b\b/ "
     ]
    },
    {
     "name": "stdout",
     "output_type": "stream",
     "text": [
      "\b\b- "
     ]
    },
    {
     "name": "stdout",
     "output_type": "stream",
     "text": [
      "\b\b\\ "
     ]
    },
    {
     "name": "stdout",
     "output_type": "stream",
     "text": [
      "\b\b| "
     ]
    },
    {
     "name": "stdout",
     "output_type": "stream",
     "text": [
      "\b\b/ "
     ]
    },
    {
     "name": "stdout",
     "output_type": "stream",
     "text": [
      "\b\b- "
     ]
    },
    {
     "name": "stdout",
     "output_type": "stream",
     "text": [
      "\b\b\\ "
     ]
    },
    {
     "name": "stdout",
     "output_type": "stream",
     "text": [
      "\b\b| "
     ]
    },
    {
     "name": "stdout",
     "output_type": "stream",
     "text": [
      "\b\b/ "
     ]
    },
    {
     "name": "stdout",
     "output_type": "stream",
     "text": [
      "\b\b- "
     ]
    },
    {
     "name": "stdout",
     "output_type": "stream",
     "text": [
      "\b\b\\ "
     ]
    },
    {
     "name": "stdout",
     "output_type": "stream",
     "text": [
      "\b\b| "
     ]
    },
    {
     "name": "stdout",
     "output_type": "stream",
     "text": [
      "\b\b/ "
     ]
    },
    {
     "name": "stdout",
     "output_type": "stream",
     "text": [
      "\b\b- "
     ]
    },
    {
     "name": "stdout",
     "output_type": "stream",
     "text": [
      "\b\b\\ "
     ]
    },
    {
     "name": "stdout",
     "output_type": "stream",
     "text": [
      "\b\b| "
     ]
    },
    {
     "name": "stdout",
     "output_type": "stream",
     "text": [
      "\b\b/ "
     ]
    },
    {
     "name": "stdout",
     "output_type": "stream",
     "text": [
      "\b\b- "
     ]
    },
    {
     "name": "stdout",
     "output_type": "stream",
     "text": [
      "\b\b\\ "
     ]
    },
    {
     "name": "stdout",
     "output_type": "stream",
     "text": [
      "\b\b| "
     ]
    },
    {
     "name": "stdout",
     "output_type": "stream",
     "text": [
      "\b\b/ "
     ]
    },
    {
     "name": "stdout",
     "output_type": "stream",
     "text": [
      "\b\b- "
     ]
    },
    {
     "name": "stdout",
     "output_type": "stream",
     "text": [
      "\b\b\\ "
     ]
    },
    {
     "name": "stdout",
     "output_type": "stream",
     "text": [
      "\b\b| "
     ]
    },
    {
     "name": "stdout",
     "output_type": "stream",
     "text": [
      "\b\b/ "
     ]
    },
    {
     "name": "stdout",
     "output_type": "stream",
     "text": [
      "\b\b- "
     ]
    },
    {
     "name": "stdout",
     "output_type": "stream",
     "text": [
      "\b\b\\ "
     ]
    },
    {
     "name": "stdout",
     "output_type": "stream",
     "text": [
      "\b\b| "
     ]
    },
    {
     "name": "stdout",
     "output_type": "stream",
     "text": [
      "\b\b/ "
     ]
    },
    {
     "name": "stdout",
     "output_type": "stream",
     "text": [
      "\b\b- "
     ]
    },
    {
     "name": "stdout",
     "output_type": "stream",
     "text": [
      "\b\b\\ "
     ]
    },
    {
     "name": "stdout",
     "output_type": "stream",
     "text": [
      "\b\b| "
     ]
    },
    {
     "name": "stdout",
     "output_type": "stream",
     "text": [
      "\b\b/ "
     ]
    },
    {
     "name": "stdout",
     "output_type": "stream",
     "text": [
      "\b\b- "
     ]
    },
    {
     "name": "stdout",
     "output_type": "stream",
     "text": [
      "\b\b\\ "
     ]
    },
    {
     "name": "stdout",
     "output_type": "stream",
     "text": [
      "\b\b| "
     ]
    },
    {
     "name": "stdout",
     "output_type": "stream",
     "text": [
      "\b\b/ "
     ]
    },
    {
     "name": "stdout",
     "output_type": "stream",
     "text": [
      "\b\b- "
     ]
    },
    {
     "name": "stdout",
     "output_type": "stream",
     "text": [
      "\b\b\\ "
     ]
    },
    {
     "name": "stdout",
     "output_type": "stream",
     "text": [
      "\b\b| "
     ]
    },
    {
     "name": "stdout",
     "output_type": "stream",
     "text": [
      "\b\b/ "
     ]
    },
    {
     "name": "stdout",
     "output_type": "stream",
     "text": [
      "\b\b- "
     ]
    },
    {
     "name": "stdout",
     "output_type": "stream",
     "text": [
      "\b\b\\ "
     ]
    },
    {
     "name": "stdout",
     "output_type": "stream",
     "text": [
      "\b\b| "
     ]
    },
    {
     "name": "stdout",
     "output_type": "stream",
     "text": [
      "\b\b/ "
     ]
    },
    {
     "name": "stdout",
     "output_type": "stream",
     "text": [
      "\b\b- "
     ]
    },
    {
     "name": "stdout",
     "output_type": "stream",
     "text": [
      "\b\b\\ "
     ]
    },
    {
     "name": "stdout",
     "output_type": "stream",
     "text": [
      "\b\b| "
     ]
    },
    {
     "name": "stdout",
     "output_type": "stream",
     "text": [
      "\b\b/ "
     ]
    },
    {
     "name": "stdout",
     "output_type": "stream",
     "text": [
      "\b\b- "
     ]
    },
    {
     "name": "stdout",
     "output_type": "stream",
     "text": [
      "\b\b\\ "
     ]
    },
    {
     "name": "stdout",
     "output_type": "stream",
     "text": [
      "\b\b| "
     ]
    },
    {
     "name": "stdout",
     "output_type": "stream",
     "text": [
      "\b\b/ "
     ]
    },
    {
     "name": "stdout",
     "output_type": "stream",
     "text": [
      "\b\b- "
     ]
    },
    {
     "name": "stdout",
     "output_type": "stream",
     "text": [
      "\b\b\\ "
     ]
    },
    {
     "name": "stdout",
     "output_type": "stream",
     "text": [
      "\b\b| "
     ]
    },
    {
     "name": "stdout",
     "output_type": "stream",
     "text": [
      "\b\b/ "
     ]
    },
    {
     "name": "stdout",
     "output_type": "stream",
     "text": [
      "\b\b- "
     ]
    },
    {
     "name": "stdout",
     "output_type": "stream",
     "text": [
      "\b\b\\ "
     ]
    },
    {
     "name": "stdout",
     "output_type": "stream",
     "text": [
      "\b\b| "
     ]
    },
    {
     "name": "stdout",
     "output_type": "stream",
     "text": [
      "\b\b/ "
     ]
    },
    {
     "name": "stdout",
     "output_type": "stream",
     "text": [
      "\b\b- "
     ]
    },
    {
     "name": "stdout",
     "output_type": "stream",
     "text": [
      "\b\b\\ "
     ]
    },
    {
     "name": "stdout",
     "output_type": "stream",
     "text": [
      "\b\b| "
     ]
    },
    {
     "name": "stdout",
     "output_type": "stream",
     "text": [
      "\b\b/ "
     ]
    },
    {
     "name": "stdout",
     "output_type": "stream",
     "text": [
      "\b\b- "
     ]
    },
    {
     "name": "stdout",
     "output_type": "stream",
     "text": [
      "\b\b\\ "
     ]
    },
    {
     "name": "stdout",
     "output_type": "stream",
     "text": [
      "\b\b| "
     ]
    },
    {
     "name": "stdout",
     "output_type": "stream",
     "text": [
      "\b\b/ "
     ]
    },
    {
     "name": "stdout",
     "output_type": "stream",
     "text": [
      "\b\b- "
     ]
    },
    {
     "name": "stdout",
     "output_type": "stream",
     "text": [
      "\b\b\\ "
     ]
    },
    {
     "name": "stdout",
     "output_type": "stream",
     "text": [
      "\b\b| "
     ]
    },
    {
     "name": "stdout",
     "output_type": "stream",
     "text": [
      "\b\b/ "
     ]
    },
    {
     "name": "stdout",
     "output_type": "stream",
     "text": [
      "\b\b- "
     ]
    },
    {
     "name": "stdout",
     "output_type": "stream",
     "text": [
      "\b\b\\ "
     ]
    },
    {
     "name": "stdout",
     "output_type": "stream",
     "text": [
      "\b\b| "
     ]
    },
    {
     "name": "stdout",
     "output_type": "stream",
     "text": [
      "\b\b/ "
     ]
    },
    {
     "name": "stdout",
     "output_type": "stream",
     "text": [
      "\b\b- "
     ]
    },
    {
     "name": "stdout",
     "output_type": "stream",
     "text": [
      "\b\b\\ "
     ]
    },
    {
     "name": "stdout",
     "output_type": "stream",
     "text": [
      "\b\b| "
     ]
    },
    {
     "name": "stdout",
     "output_type": "stream",
     "text": [
      "\b\b/ "
     ]
    },
    {
     "name": "stdout",
     "output_type": "stream",
     "text": [
      "\b\b- "
     ]
    },
    {
     "name": "stdout",
     "output_type": "stream",
     "text": [
      "\b\b\\ "
     ]
    },
    {
     "name": "stdout",
     "output_type": "stream",
     "text": [
      "\b\b| "
     ]
    },
    {
     "name": "stdout",
     "output_type": "stream",
     "text": [
      "\b\b/ "
     ]
    },
    {
     "name": "stdout",
     "output_type": "stream",
     "text": [
      "\b\b- "
     ]
    },
    {
     "name": "stdout",
     "output_type": "stream",
     "text": [
      "\b\b\\ "
     ]
    },
    {
     "name": "stdout",
     "output_type": "stream",
     "text": [
      "\b\b| "
     ]
    },
    {
     "name": "stdout",
     "output_type": "stream",
     "text": [
      "\b\b/ "
     ]
    },
    {
     "name": "stdout",
     "output_type": "stream",
     "text": [
      "\b\b- "
     ]
    },
    {
     "name": "stdout",
     "output_type": "stream",
     "text": [
      "\b\b\\ "
     ]
    },
    {
     "name": "stdout",
     "output_type": "stream",
     "text": [
      "\b\b| "
     ]
    },
    {
     "name": "stdout",
     "output_type": "stream",
     "text": [
      "\b\b/ "
     ]
    },
    {
     "name": "stdout",
     "output_type": "stream",
     "text": [
      "\b\b- "
     ]
    },
    {
     "name": "stdout",
     "output_type": "stream",
     "text": [
      "\b\b\\ "
     ]
    },
    {
     "name": "stdout",
     "output_type": "stream",
     "text": [
      "\b\b| "
     ]
    },
    {
     "name": "stdout",
     "output_type": "stream",
     "text": [
      "\b\b/ "
     ]
    },
    {
     "name": "stdout",
     "output_type": "stream",
     "text": [
      "\b\b- "
     ]
    },
    {
     "name": "stdout",
     "output_type": "stream",
     "text": [
      "\b\b\\ "
     ]
    },
    {
     "name": "stdout",
     "output_type": "stream",
     "text": [
      "\b\b| "
     ]
    },
    {
     "name": "stdout",
     "output_type": "stream",
     "text": [
      "\b\b/ "
     ]
    },
    {
     "name": "stdout",
     "output_type": "stream",
     "text": [
      "\b\b- "
     ]
    },
    {
     "name": "stdout",
     "output_type": "stream",
     "text": [
      "\b\b\\ "
     ]
    },
    {
     "name": "stdout",
     "output_type": "stream",
     "text": [
      "\b\b| "
     ]
    },
    {
     "name": "stdout",
     "output_type": "stream",
     "text": [
      "\b\b/ "
     ]
    },
    {
     "name": "stdout",
     "output_type": "stream",
     "text": [
      "\b\b- "
     ]
    },
    {
     "name": "stdout",
     "output_type": "stream",
     "text": [
      "\b\b\\ "
     ]
    },
    {
     "name": "stdout",
     "output_type": "stream",
     "text": [
      "\b\b| "
     ]
    },
    {
     "name": "stdout",
     "output_type": "stream",
     "text": [
      "\b\b/ "
     ]
    },
    {
     "name": "stdout",
     "output_type": "stream",
     "text": [
      "\b\b- "
     ]
    },
    {
     "name": "stdout",
     "output_type": "stream",
     "text": [
      "\b\b\\ "
     ]
    },
    {
     "name": "stdout",
     "output_type": "stream",
     "text": [
      "\b\b| "
     ]
    },
    {
     "name": "stdout",
     "output_type": "stream",
     "text": [
      "\b\b/ "
     ]
    },
    {
     "name": "stdout",
     "output_type": "stream",
     "text": [
      "\b\b- "
     ]
    },
    {
     "name": "stdout",
     "output_type": "stream",
     "text": [
      "\b\b\\ "
     ]
    },
    {
     "name": "stdout",
     "output_type": "stream",
     "text": [
      "\b\b| "
     ]
    },
    {
     "name": "stdout",
     "output_type": "stream",
     "text": [
      "\b\b/ "
     ]
    },
    {
     "name": "stdout",
     "output_type": "stream",
     "text": [
      "\b\b- "
     ]
    },
    {
     "name": "stdout",
     "output_type": "stream",
     "text": [
      "\b\b\\ "
     ]
    },
    {
     "name": "stdout",
     "output_type": "stream",
     "text": [
      "\b\b| "
     ]
    },
    {
     "name": "stdout",
     "output_type": "stream",
     "text": [
      "\b\b/ "
     ]
    },
    {
     "name": "stdout",
     "output_type": "stream",
     "text": [
      "\b\b- "
     ]
    },
    {
     "name": "stdout",
     "output_type": "stream",
     "text": [
      "\b\b\\ "
     ]
    },
    {
     "name": "stdout",
     "output_type": "stream",
     "text": [
      "\b\b| "
     ]
    },
    {
     "name": "stdout",
     "output_type": "stream",
     "text": [
      "\b\b/ "
     ]
    },
    {
     "name": "stdout",
     "output_type": "stream",
     "text": [
      "\b\b- "
     ]
    },
    {
     "name": "stdout",
     "output_type": "stream",
     "text": [
      "\b\b\\ "
     ]
    },
    {
     "name": "stdout",
     "output_type": "stream",
     "text": [
      "\b\b| "
     ]
    },
    {
     "name": "stdout",
     "output_type": "stream",
     "text": [
      "\b\b/ "
     ]
    },
    {
     "name": "stdout",
     "output_type": "stream",
     "text": [
      "\b\b- "
     ]
    },
    {
     "name": "stdout",
     "output_type": "stream",
     "text": [
      "\b\b\\ "
     ]
    },
    {
     "name": "stdout",
     "output_type": "stream",
     "text": [
      "\b\b| "
     ]
    },
    {
     "name": "stdout",
     "output_type": "stream",
     "text": [
      "\b\b/ "
     ]
    },
    {
     "name": "stdout",
     "output_type": "stream",
     "text": [
      "\b\b- "
     ]
    },
    {
     "name": "stdout",
     "output_type": "stream",
     "text": [
      "\b\b\\ "
     ]
    },
    {
     "name": "stdout",
     "output_type": "stream",
     "text": [
      "\b\b| "
     ]
    },
    {
     "name": "stdout",
     "output_type": "stream",
     "text": [
      "\b\b/ "
     ]
    },
    {
     "name": "stdout",
     "output_type": "stream",
     "text": [
      "\b\bdone\r\n"
     ]
    },
    {
     "name": "stdout",
     "output_type": "stream",
     "text": [
      "\r\n",
      "## Package Plan ##\r\n",
      "\r\n",
      "  environment location: /opt/conda\r\n",
      "\r\n",
      "  added / updated specs:\r\n",
      "    - faiss-gpu\r\n",
      "\r\n",
      "\r\n",
      "The following packages will be downloaded:\r\n",
      "\r\n",
      "    package                    |            build\r\n",
      "    ---------------------------|-----------------\r\n",
      "    cuda92-1.0                 |                0           4 KB  pytorch\r\n",
      "    faiss-gpu-1.5.0            |   py37_cuda9.2_1        18.5 MB  pytorch\r\n",
      "    ------------------------------------------------------------\r\n",
      "                                           Total:        18.5 MB\r\n",
      "\r\n",
      "The following NEW packages will be INSTALLED:\r\n",
      "\r\n",
      "  cuda92             pytorch/linux-64::cuda92-1.0-0\r\n",
      "  faiss-gpu          pytorch/linux-64::faiss-gpu-1.5.0-py37_cuda9.2_1\r\n",
      "\r\n",
      "\r\n",
      "Proceed ([y]/n)? "
     ]
    }
   ],
   "source": [
    "!conda install faiss-gpu -c pytorch"
   ]
  },
  {
   "cell_type": "code",
   "execution_count": null,
   "id": "boxed-leader",
   "metadata": {
    "papermill": {
     "duration": null,
     "end_time": null,
     "exception": null,
     "start_time": null,
     "status": "pending"
    },
    "tags": []
   },
   "outputs": [],
   "source": [
    "%%capture\n",
    "!apt-get -y install zsh"
   ]
  },
  {
   "cell_type": "code",
   "execution_count": null,
   "id": "weekly-louisville",
   "metadata": {
    "papermill": {
     "duration": null,
     "end_time": null,
     "exception": null,
     "start_time": null,
     "status": "pending"
    },
    "tags": []
   },
   "outputs": [],
   "source": [
    "!zsh prepare_audio.sh tsv /kaggle/working /kaggle/input/download-xlsr-53-wav2vec2-model/xlsr_53_56k.pt"
   ]
  }
 ],
 "metadata": {
  "kernelspec": {
   "display_name": "Python 3",
   "language": "python",
   "name": "python3"
  },
  "language_info": {
   "codemirror_mode": {
    "name": "ipython",
    "version": 3
   },
   "file_extension": ".py",
   "mimetype": "text/x-python",
   "name": "python",
   "nbconvert_exporter": "python",
   "pygments_lexer": "ipython3",
   "version": "3.6.4"
  },
  "papermill": {
   "default_parameters": {},
   "duration": null,
   "end_time": null,
   "environment_variables": {},
   "exception": null,
   "input_path": "__notebook__.ipynb",
   "output_path": "__notebook__.ipynb",
   "parameters": {},
   "start_time": "2021-05-27T18:16:12.124837",
   "version": "2.3.3"
  }
 },
 "nbformat": 4,
 "nbformat_minor": 5
}