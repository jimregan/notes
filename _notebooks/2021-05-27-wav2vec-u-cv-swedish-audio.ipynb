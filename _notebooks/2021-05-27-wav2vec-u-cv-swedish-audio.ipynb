{
 "cells": [
  {
   "cell_type": "code",
   "execution_count": 1,
   "id": "wireless-discount",
   "metadata": {
    "execution": {
     "iopub.execute_input": "2021-05-27T17:48:16.716998Z",
     "iopub.status.busy": "2021-05-27T17:48:16.716453Z",
     "iopub.status.idle": "2021-05-27T17:48:16.722672Z",
     "shell.execute_reply": "2021-05-27T17:48:16.722158Z",
     "shell.execute_reply.started": "2021-05-25T21:59:52.937901Z"
    },
    "papermill": {
     "duration": 0.022386,
     "end_time": "2021-05-27T17:48:16.722792",
     "exception": false,
     "start_time": "2021-05-27T17:48:16.700406",
     "status": "completed"
    },
    "tags": []
   },
   "outputs": [
    {
     "name": "stdout",
     "output_type": "stream",
     "text": [
      "/tmp\n"
     ]
    }
   ],
   "source": [
    "%cd /tmp"
   ]
  },
  {
   "cell_type": "code",
   "execution_count": 2,
   "id": "general-universal",
   "metadata": {
    "execution": {
     "iopub.execute_input": "2021-05-27T17:48:16.738932Z",
     "iopub.status.busy": "2021-05-27T17:48:16.738365Z",
     "iopub.status.idle": "2021-05-27T17:49:05.343582Z",
     "shell.execute_reply": "2021-05-27T17:49:05.343099Z"
    },
    "papermill": {
     "duration": 48.614519,
     "end_time": "2021-05-27T17:49:05.343740",
     "exception": false,
     "start_time": "2021-05-27T17:48:16.729221",
     "status": "completed"
    },
    "tags": []
   },
   "outputs": [
    {
     "name": "stdout",
     "output_type": "stream",
     "text": [
      "Collecting git+https://github.com/pytorch/fairseq/\r\n",
      "  Cloning https://github.com/pytorch/fairseq/ to ./pip-req-build-3vr57pr5\r\n",
      "  Running command git clone -q https://github.com/pytorch/fairseq/ /tmp/pip-req-build-3vr57pr5\r\n"
     ]
    },
    {
     "name": "stdout",
     "output_type": "stream",
     "text": [
      "  Running command git submodule update --init --recursive -q\r\n"
     ]
    },
    {
     "name": "stdout",
     "output_type": "stream",
     "text": [
      "  Installing build dependencies ... \u001b[?25l-"
     ]
    },
    {
     "name": "stdout",
     "output_type": "stream",
     "text": [
      "\b \b\\"
     ]
    },
    {
     "name": "stdout",
     "output_type": "stream",
     "text": [
      "\b \b|"
     ]
    },
    {
     "name": "stdout",
     "output_type": "stream",
     "text": [
      "\b \b/"
     ]
    },
    {
     "name": "stdout",
     "output_type": "stream",
     "text": [
      "\b \b-"
     ]
    },
    {
     "name": "stdout",
     "output_type": "stream",
     "text": [
      "\b \b\\"
     ]
    },
    {
     "name": "stdout",
     "output_type": "stream",
     "text": [
      "\b \bdone\r\n"
     ]
    },
    {
     "name": "stdout",
     "output_type": "stream",
     "text": [
      "\u001b[?25h  Getting requirements to build wheel ... \u001b[?25ldone\r\n"
     ]
    },
    {
     "name": "stdout",
     "output_type": "stream",
     "text": [
      "\u001b[?25h  Installing backend dependencies ... \u001b[?25l-"
     ]
    },
    {
     "name": "stdout",
     "output_type": "stream",
     "text": [
      "\b \b\\"
     ]
    },
    {
     "name": "stdout",
     "output_type": "stream",
     "text": [
      "\b \b|"
     ]
    },
    {
     "name": "stdout",
     "output_type": "stream",
     "text": [
      "\b \b/"
     ]
    },
    {
     "name": "stdout",
     "output_type": "stream",
     "text": [
      "\b \b-"
     ]
    },
    {
     "name": "stdout",
     "output_type": "stream",
     "text": [
      "\b \bdone\r\n"
     ]
    },
    {
     "name": "stdout",
     "output_type": "stream",
     "text": [
      "\u001b[?25h    Preparing wheel metadata ... \u001b[?25l-"
     ]
    },
    {
     "name": "stdout",
     "output_type": "stream",
     "text": [
      "\b \b\\\b \bdone\r\n"
     ]
    },
    {
     "name": "stdout",
     "output_type": "stream",
     "text": [
      "\u001b[?25hCollecting omegaconf<2.1\r\n"
     ]
    },
    {
     "name": "stdout",
     "output_type": "stream",
     "text": [
      "  Downloading omegaconf-2.0.6-py3-none-any.whl (36 kB)\r\n"
     ]
    },
    {
     "name": "stdout",
     "output_type": "stream",
     "text": [
      "Requirement already satisfied: cython in /opt/conda/lib/python3.7/site-packages (from fairseq==1.0.0a0+c8223e3) (0.29.23)\r\n",
      "Requirement already satisfied: torch in /opt/conda/lib/python3.7/site-packages (from fairseq==1.0.0a0+c8223e3) (1.7.0)\r\n",
      "Requirement already satisfied: tqdm in /opt/conda/lib/python3.7/site-packages (from fairseq==1.0.0a0+c8223e3) (4.59.0)\r\n"
     ]
    },
    {
     "name": "stdout",
     "output_type": "stream",
     "text": [
      "Collecting sacrebleu>=1.4.12\r\n"
     ]
    },
    {
     "name": "stdout",
     "output_type": "stream",
     "text": [
      "  Downloading sacrebleu-1.5.1-py3-none-any.whl (54 kB)\r\n",
      "\u001b[?25l\r",
      "\u001b[K     |██████                          | 10 kB 2.9 MB/s eta 0:00:01\r",
      "\u001b[K     |████████████                    | 20 kB 2.9 MB/s eta 0:00:01\r",
      "\u001b[K     |██████████████████              | 30 kB 2.5 MB/s eta 0:00:01"
     ]
    },
    {
     "name": "stdout",
     "output_type": "stream",
     "text": [
      "\r",
      "\u001b[K     |████████████████████████        | 40 kB 2.6 MB/s eta 0:00:01\r",
      "\u001b[K     |██████████████████████████████  | 51 kB 2.5 MB/s eta 0:00:01\r",
      "\u001b[K     |████████████████████████████████| 54 kB 1.3 MB/s \r\n",
      "\u001b[?25hRequirement already satisfied: regex in /opt/conda/lib/python3.7/site-packages (from fairseq==1.0.0a0+c8223e3) (2021.3.17)\r\n",
      "Requirement already satisfied: cffi in /opt/conda/lib/python3.7/site-packages (from fairseq==1.0.0a0+c8223e3) (1.14.5)\r\n",
      "Requirement already satisfied: numpy in /opt/conda/lib/python3.7/site-packages (from fairseq==1.0.0a0+c8223e3) (1.19.5)\r\n"
     ]
    },
    {
     "name": "stdout",
     "output_type": "stream",
     "text": [
      "Collecting hydra-core<1.1\r\n"
     ]
    },
    {
     "name": "stdout",
     "output_type": "stream",
     "text": [
      "  Downloading hydra_core-1.0.6-py3-none-any.whl (123 kB)\r\n",
      "\u001b[?25l\r",
      "\u001b[K     |██▋                             | 10 kB 4.8 MB/s eta 0:00:01\r",
      "\u001b[K     |█████▎                          | 20 kB 4.4 MB/s eta 0:00:01\r",
      "\u001b[K     |████████                        | 30 kB 3.9 MB/s eta 0:00:01\r",
      "\u001b[K     |██████████▋                     | 40 kB 4.0 MB/s eta 0:00:01"
     ]
    },
    {
     "name": "stdout",
     "output_type": "stream",
     "text": [
      "\r",
      "\u001b[K     |█████████████▎                  | 51 kB 3.8 MB/s eta 0:00:01\r",
      "\u001b[K     |████████████████                | 61 kB 3.6 MB/s eta 0:00:01\r",
      "\u001b[K     |██████████████████▋             | 71 kB 3.7 MB/s eta 0:00:01\r",
      "\u001b[K     |█████████████████████▏          | 81 kB 3.8 MB/s eta 0:00:01\r",
      "\u001b[K     |███████████████████████▉        | 92 kB 3.7 MB/s eta 0:00:01\r",
      "\u001b[K     |██████████████████████████▌     | 102 kB 3.6 MB/s eta 0:00:01\r",
      "\u001b[K     |█████████████████████████████▏  | 112 kB 3.6 MB/s eta 0:00:01\r",
      "\u001b[K     |███████████████████████████████▉| 122 kB 3.6 MB/s eta 0:00:01"
     ]
    },
    {
     "name": "stdout",
     "output_type": "stream",
     "text": [
      "\r",
      "\u001b[K     |████████████████████████████████| 123 kB 3.6 MB/s \r\n"
     ]
    },
    {
     "name": "stdout",
     "output_type": "stream",
     "text": [
      "\u001b[?25hCollecting antlr4-python3-runtime==4.8\r\n"
     ]
    },
    {
     "name": "stdout",
     "output_type": "stream",
     "text": [
      "  Downloading antlr4-python3-runtime-4.8.tar.gz (112 kB)\r\n",
      "\u001b[?25l\r",
      "\u001b[K     |███                             | 10 kB 6.3 MB/s eta 0:00:01\r",
      "\u001b[K     |█████▉                          | 20 kB 3.6 MB/s eta 0:00:01\r",
      "\u001b[K     |████████▊                       | 30 kB 5.3 MB/s eta 0:00:01\r",
      "\u001b[K     |███████████▋                    | 40 kB 4.2 MB/s eta 0:00:01\r",
      "\u001b[K     |██████████████▋                 | 51 kB 3.7 MB/s eta 0:00:01\r",
      "\u001b[K     |█████████████████▌              | 61 kB 4.4 MB/s eta 0:00:01\r",
      "\u001b[K     |████████████████████▍           | 71 kB 4.0 MB/s eta 0:00:01\r",
      "\u001b[K     |███████████████████████▎        | 81 kB 4.6 MB/s eta 0:00:01\r",
      "\u001b[K     |██████████████████████████▎     | 92 kB 4.4 MB/s eta 0:00:01\r",
      "\u001b[K     |█████████████████████████████▏  | 102 kB 4.1 MB/s eta 0:00:01\r",
      "\u001b[K     |████████████████████████████████| 112 kB 4.1 MB/s \r\n"
     ]
    },
    {
     "name": "stdout",
     "output_type": "stream",
     "text": [
      "\u001b[?25hCollecting importlib-resources\r\n"
     ]
    },
    {
     "name": "stdout",
     "output_type": "stream",
     "text": [
      "  Downloading importlib_resources-5.1.4-py3-none-any.whl (26 kB)\r\n",
      "Requirement already satisfied: typing-extensions in /opt/conda/lib/python3.7/site-packages (from omegaconf<2.1->fairseq==1.0.0a0+c8223e3) (3.7.4.3)\r\n",
      "Requirement already satisfied: PyYAML>=5.1.* in /opt/conda/lib/python3.7/site-packages (from omegaconf<2.1->fairseq==1.0.0a0+c8223e3) (5.3.1)\r\n"
     ]
    },
    {
     "name": "stdout",
     "output_type": "stream",
     "text": [
      "Collecting portalocker==2.0.0\r\n"
     ]
    },
    {
     "name": "stdout",
     "output_type": "stream",
     "text": [
      "  Downloading portalocker-2.0.0-py2.py3-none-any.whl (11 kB)\r\n",
      "Requirement already satisfied: pycparser in /opt/conda/lib/python3.7/site-packages (from cffi->fairseq==1.0.0a0+c8223e3) (2.20)\r\n",
      "Requirement already satisfied: zipp>=3.1.0 in /opt/conda/lib/python3.7/site-packages (from importlib-resources->hydra-core<1.1->fairseq==1.0.0a0+c8223e3) (3.4.1)\r\n"
     ]
    },
    {
     "name": "stdout",
     "output_type": "stream",
     "text": [
      "Requirement already satisfied: future in /opt/conda/lib/python3.7/site-packages (from torch->fairseq==1.0.0a0+c8223e3) (0.18.2)\r\n",
      "Requirement already satisfied: dataclasses in /opt/conda/lib/python3.7/site-packages (from torch->fairseq==1.0.0a0+c8223e3) (0.6)\r\n",
      "Building wheels for collected packages: fairseq, antlr4-python3-runtime\r\n"
     ]
    },
    {
     "name": "stdout",
     "output_type": "stream",
     "text": [
      "  Building wheel for fairseq (PEP 517) ... \u001b[?25l-"
     ]
    },
    {
     "name": "stdout",
     "output_type": "stream",
     "text": [
      "\b \b\\"
     ]
    },
    {
     "name": "stdout",
     "output_type": "stream",
     "text": [
      "\b \b|"
     ]
    },
    {
     "name": "stdout",
     "output_type": "stream",
     "text": [
      "\b \b/"
     ]
    },
    {
     "name": "stdout",
     "output_type": "stream",
     "text": [
      "\b \b-"
     ]
    },
    {
     "name": "stdout",
     "output_type": "stream",
     "text": [
      "\b \b\\"
     ]
    },
    {
     "name": "stdout",
     "output_type": "stream",
     "text": [
      "\b \b|"
     ]
    },
    {
     "name": "stdout",
     "output_type": "stream",
     "text": [
      "\b \b/"
     ]
    },
    {
     "name": "stdout",
     "output_type": "stream",
     "text": [
      "\b \b-"
     ]
    },
    {
     "name": "stdout",
     "output_type": "stream",
     "text": [
      "\b \b\\"
     ]
    },
    {
     "name": "stdout",
     "output_type": "stream",
     "text": [
      "\b \b|"
     ]
    },
    {
     "name": "stdout",
     "output_type": "stream",
     "text": [
      "\b \b/"
     ]
    },
    {
     "name": "stdout",
     "output_type": "stream",
     "text": [
      "\b \b-"
     ]
    },
    {
     "name": "stdout",
     "output_type": "stream",
     "text": [
      "\b \b\\"
     ]
    },
    {
     "name": "stdout",
     "output_type": "stream",
     "text": [
      "\b \b|"
     ]
    },
    {
     "name": "stdout",
     "output_type": "stream",
     "text": [
      "\b \b/"
     ]
    },
    {
     "name": "stdout",
     "output_type": "stream",
     "text": [
      "\b \b-"
     ]
    },
    {
     "name": "stdout",
     "output_type": "stream",
     "text": [
      "\b \bdone\r\n",
      "\u001b[?25h  Created wheel for fairseq: filename=fairseq-1.0.0a0+c8223e3-cp37-cp37m-linux_x86_64.whl size=2063176 sha256=be9a95e99de16b1346c79ffe0d0d060f3dab304a51f78c800426449f03f39836\r\n",
      "  Stored in directory: /tmp/pip-ephem-wheel-cache-qfck5jfm/wheels/bf/8b/86/69a0f965bcf2c21f14c327d7a0131024ff24e19e3ab6726a07\r\n"
     ]
    },
    {
     "name": "stdout",
     "output_type": "stream",
     "text": [
      "  Building wheel for antlr4-python3-runtime (setup.py) ... \u001b[?25l-"
     ]
    },
    {
     "name": "stdout",
     "output_type": "stream",
     "text": [
      "\b \b\\"
     ]
    },
    {
     "name": "stdout",
     "output_type": "stream",
     "text": [
      "\b \bdone\r\n",
      "\u001b[?25h  Created wheel for antlr4-python3-runtime: filename=antlr4_python3_runtime-4.8-py3-none-any.whl size=141230 sha256=06bd67be252714d074a795e8dd7d3812b0e0c6ffc189da8743b4202fb7f0a069\r\n",
      "  Stored in directory: /root/.cache/pip/wheels/ca/33/b7/336836125fc9bb4ceaa4376d8abca10ca8bc84ddc824baea6c\r\n",
      "Successfully built fairseq antlr4-python3-runtime\r\n"
     ]
    },
    {
     "name": "stdout",
     "output_type": "stream",
     "text": [
      "Installing collected packages: portalocker, omegaconf, importlib-resources, antlr4-python3-runtime, sacrebleu, hydra-core, fairseq\r\n",
      "  Attempting uninstall: portalocker\r\n",
      "    Found existing installation: portalocker 2.3.0\r\n",
      "    Uninstalling portalocker-2.3.0:\r\n",
      "      Successfully uninstalled portalocker-2.3.0\r\n"
     ]
    },
    {
     "name": "stdout",
     "output_type": "stream",
     "text": [
      "Successfully installed antlr4-python3-runtime-4.8 fairseq-1.0.0a0+c8223e3 hydra-core-1.0.6 importlib-resources-5.1.4 omegaconf-2.0.6 portalocker-2.0.0 sacrebleu-1.5.1\r\n"
     ]
    }
   ],
   "source": [
    "!pip install git+https://github.com/pytorch/fairseq/"
   ]
  },
  {
   "cell_type": "code",
   "execution_count": 3,
   "id": "according-workplace",
   "metadata": {
    "_cell_guid": "b1076dfc-b9ad-4769-8c92-a6c4dae69d19",
    "_uuid": "8f2839f25d086af736a60e9eeb907d3b93b6e0e5",
    "execution": {
     "iopub.execute_input": "2021-05-27T17:49:05.390867Z",
     "iopub.status.busy": "2021-05-27T17:49:05.390066Z",
     "iopub.status.idle": "2021-05-27T17:49:08.139237Z",
     "shell.execute_reply": "2021-05-27T17:49:08.138231Z",
     "shell.execute_reply.started": "2021-05-25T21:59:52.944817Z"
    },
    "papermill": {
     "duration": 2.774245,
     "end_time": "2021-05-27T17:49:08.139374",
     "exception": false,
     "start_time": "2021-05-27T17:49:05.365129",
     "status": "completed"
    },
    "tags": []
   },
   "outputs": [
    {
     "name": "stdout",
     "output_type": "stream",
     "text": [
      "Cloning into 'fairseq'...\r\n"
     ]
    },
    {
     "name": "stdout",
     "output_type": "stream",
     "text": [
      "remote: Enumerating objects: 28166, done.\u001b[K\r\n",
      "remote: Counting objects:   0% (1/580)\u001b[K\r",
      "remote: Counting objects:   1% (6/580)\u001b[K\r",
      "remote: Counting objects:   2% (12/580)\u001b[K\r",
      "remote: Counting objects:   3% (18/580)\u001b[K\r",
      "remote: Counting objects:   4% (24/580)\u001b[K\r",
      "remote: Counting objects:   5% (29/580)\u001b[K\r",
      "remote: Counting objects:   6% (35/580)\u001b[K\r",
      "remote: Counting objects:   7% (41/580)\u001b[K\r",
      "remote: Counting objects:   8% (47/580)\u001b[K\r",
      "remote: Counting objects:   9% (53/580)\u001b[K\r",
      "remote: Counting objects:  10% (58/580)\u001b[K\r",
      "remote: Counting objects:  11% (64/580)\u001b[K\r",
      "remote: Counting objects:  12% (70/580)\u001b[K\r",
      "remote: Counting objects:  13% (76/580)\u001b[K\r",
      "remote: Counting objects:  14% (82/580)\u001b[K\r",
      "remote: Counting objects:  15% (87/580)\u001b[K\r",
      "remote: Counting objects:  16% (93/580)\u001b[K\r",
      "remote: Counting objects:  17% (99/580)\u001b[K\r",
      "remote: Counting objects:  18% (105/580)\u001b[K\r",
      "remote: Counting objects:  19% (111/580)\u001b[K\r",
      "remote: Counting objects:  20% (116/580)\u001b[K\r",
      "remote: Counting objects:  21% (122/580)\u001b[K\r",
      "remote: Counting objects:  22% (128/580)\u001b[K\r",
      "remote: Counting objects:  23% (134/580)\u001b[K\r",
      "remote: Counting objects:  24% (140/580)\u001b[K\r",
      "remote: Counting objects:  25% (145/580)\u001b[K\r",
      "remote: Counting objects:  26% (151/580)\u001b[K\r",
      "remote: Counting objects:  27% (157/580)\u001b[K\r",
      "remote: Counting objects:  28% (163/580)\u001b[K\r",
      "remote: Counting objects:  29% (169/580)\u001b[K\r",
      "remote: Counting objects:  30% (174/580)\u001b[K\r",
      "remote: Counting objects:  31% (180/580)\u001b[K\r",
      "remote: Counting objects:  32% (186/580)\u001b[K\r",
      "remote: Counting objects:  33% (192/580)\u001b[K\r",
      "remote: Counting objects:  34% (198/580)\u001b[K\r",
      "remote: Counting objects:  35% (203/580)\u001b[K\r",
      "remote: Counting objects:  36% (209/580)\u001b[K\r",
      "remote: Counting objects:  37% (215/580)\u001b[K\r",
      "remote: Counting objects:  38% (221/580)\u001b[K\r",
      "remote: Counting objects:  39% (227/580)\u001b[K\r",
      "remote: Counting objects:  40% (232/580)\u001b[K\r",
      "remote: Counting objects:  41% (238/580)\u001b[K\r",
      "remote: Counting objects:  42% (244/580)\u001b[K\r",
      "remote: Counting objects:  43% (250/580)\u001b[K\r",
      "remote: Counting objects:  44% (256/580)\u001b[K\r",
      "remote: Counting objects:  45% (261/580)\u001b[K\r",
      "remote: Counting objects:  46% (267/580)\u001b[K\r",
      "remote: Counting objects:  47% (273/580)\u001b[K\r",
      "remote: Counting objects:  48% (279/580)\u001b[K\r",
      "remote: Counting objects:  49% (285/580)\u001b[K\r",
      "remote: Counting objects:  50% (290/580)\u001b[K\r",
      "remote: Counting objects:  51% (296/580)\u001b[K\r",
      "remote: Counting objects:  52% (302/580)\u001b[K\r",
      "remote: Counting objects:  53% (308/580)\u001b[K\r",
      "remote: Counting objects:  54% (314/580)\u001b[K\r",
      "remote: Counting objects:  55% (319/580)\u001b[K\r",
      "remote: Counting objects:  56% (325/580)\u001b[K\r",
      "remote: Counting objects:  57% (331/580)\u001b[K\r",
      "remote: Counting objects:  58% (337/580)\u001b[K\r",
      "remote: Counting objects:  59% (343/580)\u001b[K\r",
      "remote: Counting objects:  60% (348/580)\u001b[K\r",
      "remote: Counting objects:  61% (354/580)\u001b[K\r",
      "remote: Counting objects:  62% (360/580)\u001b[K\r",
      "remote: Counting objects:  63% (366/580)\u001b[K\r",
      "remote: Counting objects:  64% (372/580)\u001b[K\r",
      "remote: Counting objects:  65% (377/580)\u001b[K\r",
      "remote: Counting objects:  66% (383/580)\u001b[K\r",
      "remote: Counting objects:  67% (389/580)\u001b[K\r",
      "remote: Counting objects:  68% (395/580)\u001b[K\r",
      "remote: Counting objects:  69% (401/580)\u001b[K\r",
      "remote: Counting objects:  70% (406/580)\u001b[K\r",
      "remote: Counting objects:  71% (412/580)\u001b[K\r",
      "remote: Counting objects:  72% (418/580)\u001b[K\r",
      "remote: Counting objects:  73% (424/580)\u001b[K\r",
      "remote: Counting objects:  74% (430/580)\u001b[K\r",
      "remote: Counting objects:  75% (435/580)\u001b[K\r",
      "remote: Counting objects:  76% (441/580)\u001b[K\r",
      "remote: Counting objects:  77% (447/580)\u001b[K\r",
      "remote: Counting objects:  78% (453/580)\u001b[K\r",
      "remote: Counting objects:  79% (459/580)\u001b[K\r",
      "remote: Counting objects:  80% (464/580)\u001b[K\r",
      "remote: Counting objects:  81% (470/580)\u001b[K\r",
      "remote: Counting objects:  82% (476/580)\u001b[K\r",
      "remote: Counting objects:  83% (482/580)\u001b[K\r",
      "remote: Counting objects:  84% (488/580)\u001b[K\r",
      "remote: Counting objects:  85% (493/580)\u001b[K\r",
      "remote: Counting objects:  86% (499/580)\u001b[K\r",
      "remote: Counting objects:  87% (505/580)\u001b[K\r",
      "remote: Counting objects:  88% (511/580)\u001b[K\r",
      "remote: Counting objects:  89% (517/580)\u001b[K\r",
      "remote: Counting objects:  90% (522/580)\u001b[K\r",
      "remote: Counting objects:  91% (528/580)\u001b[K\r",
      "remote: Counting objects:  92% (534/580)\u001b[K\r",
      "remote: Counting objects:  93% (540/580)\u001b[K\r",
      "remote: Counting objects:  94% (546/580)\u001b[K\r",
      "remote: Counting objects:  95% (551/580)\u001b[K\r",
      "remote: Counting objects:  96% (557/580)\u001b[K\r",
      "remote: Counting objects:  97% (563/580)\u001b[K\r",
      "remote: Counting objects:  98% (569/580)\u001b[K\r",
      "remote: Counting objects:  99% (575/580)\u001b[K\r",
      "remote: Counting objects: 100% (580/580)\u001b[K\r",
      "remote: Counting objects: 100% (580/580), done.\u001b[K\r\n",
      "remote: Compressing objects:   0% (1/350)\u001b[K\r",
      "remote: Compressing objects:   1% (4/350)\u001b[K\r",
      "remote: Compressing objects:   2% (7/350)\u001b[K\r",
      "remote: Compressing objects:   3% (11/350)\u001b[K\r",
      "remote: Compressing objects:   4% (14/350)\u001b[K\r",
      "remote: Compressing objects:   5% (18/350)\u001b[K\r",
      "remote: Compressing objects:   6% (21/350)\u001b[K\r",
      "remote: Compressing objects:   7% (25/350)\u001b[K\r",
      "remote: Compressing objects:   8% (28/350)\u001b[K\r",
      "remote: Compressing objects:   9% (32/350)\u001b[K\r",
      "remote: Compressing objects:  10% (35/350)\u001b[K\r",
      "remote: Compressing objects:  11% (39/350)\u001b[K\r",
      "remote: Compressing objects:  12% (42/350)\u001b[K\r",
      "remote: Compressing objects:  13% (46/350)\u001b[K\r",
      "remote: Compressing objects:  14% (49/350)\u001b[K\r",
      "remote: Compressing objects:  15% (53/350)\u001b[K\r",
      "remote: Compressing objects:  16% (56/350)\u001b[K\r",
      "remote: Compressing objects:  17% (60/350)\u001b[K\r",
      "remote: Compressing objects:  18% (63/350)\u001b[K\r",
      "remote: Compressing objects:  19% (67/350)\u001b[K\r",
      "remote: Compressing objects:  20% (70/350)\u001b[K\r",
      "remote: Compressing objects:  21% (74/350)\u001b[K\r",
      "remote: Compressing objects:  22% (77/350)\u001b[K\r",
      "remote: Compressing objects:  23% (81/350)\u001b[K\r",
      "remote: Compressing objects:  24% (84/350)\u001b[K\r",
      "remote: Compressing objects:  25% (88/350)\u001b[K\r",
      "remote: Compressing objects:  26% (91/350)\u001b[K\r",
      "remote: Compressing objects:  27% (95/350)\u001b[K\r",
      "remote: Compressing objects:  28% (98/350)\u001b[K\r",
      "remote: Compressing objects:  29% (102/350)\u001b[K\r",
      "remote: Compressing objects:  30% (105/350)\u001b[K\r",
      "remote: Compressing objects:  31% (109/350)\u001b[K\r",
      "remote: Compressing objects:  32% (112/350)\u001b[K\r",
      "remote: Compressing objects:  33% (116/350)\u001b[K\r"
     ]
    },
    {
     "name": "stdout",
     "output_type": "stream",
     "text": [
      "remote: Compressing objects:  34% (119/350)\u001b[K\r",
      "remote: Compressing objects:  35% (123/350)\u001b[K\r",
      "remote: Compressing objects:  36% (126/350)\u001b[K\r",
      "remote: Compressing objects:  37% (130/350)\u001b[K\r",
      "remote: Compressing objects:  38% (133/350)\u001b[K\r",
      "remote: Compressing objects:  39% (137/350)\u001b[K\r",
      "remote: Compressing objects:  40% (140/350)\u001b[K\r",
      "remote: Compressing objects:  41% (144/350)\u001b[K\r",
      "remote: Compressing objects:  42% (147/350)\u001b[K\r",
      "remote: Compressing objects:  43% (151/350)\u001b[K\r",
      "remote: Compressing objects:  44% (154/350)\u001b[K\r",
      "remote: Compressing objects:  45% (158/350)\u001b[K\r",
      "remote: Compressing objects:  46% (161/350)\u001b[K\r",
      "remote: Compressing objects:  47% (165/350)\u001b[K\r",
      "remote: Compressing objects:  48% (168/350)\u001b[K\r",
      "remote: Compressing objects:  49% (172/350)\u001b[K\r",
      "remote: Compressing objects:  50% (175/350)\u001b[K\r",
      "remote: Compressing objects:  51% (179/350)\u001b[K\r",
      "remote: Compressing objects:  52% (182/350)\u001b[K\r",
      "remote: Compressing objects:  53% (186/350)\u001b[K\r",
      "remote: Compressing objects:  54% (189/350)\u001b[K\r",
      "remote: Compressing objects:  55% (193/350)\u001b[K\r",
      "remote: Compressing objects:  56% (196/350)\u001b[K\r",
      "remote: Compressing objects:  57% (200/350)\u001b[K\r",
      "remote: Compressing objects:  58% (203/350)\u001b[K\r",
      "remote: Compressing objects:  59% (207/350)\u001b[K\r",
      "remote: Compressing objects:  60% (210/350)\u001b[K\r",
      "remote: Compressing objects:  61% (214/350)\u001b[K\r",
      "remote: Compressing objects:  62% (217/350)\u001b[K\r",
      "remote: Compressing objects:  63% (221/350)\u001b[K\r",
      "remote: Compressing objects:  64% (224/350)\u001b[K\r",
      "remote: Compressing objects:  65% (228/350)\u001b[K\r",
      "remote: Compressing objects:  66% (231/350)\u001b[K\r",
      "remote: Compressing objects:  67% (235/350)\u001b[K\r",
      "remote: Compressing objects:  68% (238/350)\u001b[K\r",
      "remote: Compressing objects:  69% (242/350)\u001b[K\r",
      "remote: Compressing objects:  70% (245/350)\u001b[K\r",
      "remote: Compressing objects:  71% (249/350)\u001b[K\r",
      "remote: Compressing objects:  72% (252/350)\u001b[K\r",
      "remote: Compressing objects:  73% (256/350)\u001b[K\r",
      "remote: Compressing objects:  74% (259/350)\u001b[K\r",
      "remote: Compressing objects:  75% (263/350)\u001b[K\r",
      "remote: Compressing objects:  76% (266/350)\u001b[K\r",
      "remote: Compressing objects:  77% (270/350)\u001b[K\r",
      "remote: Compressing objects:  78% (273/350)\u001b[K\r",
      "remote: Compressing objects:  79% (277/350)\u001b[K\r",
      "remote: Compressing objects:  80% (280/350)\u001b[K\r",
      "remote: Compressing objects:  81% (284/350)\u001b[K\r",
      "remote: Compressing objects:  82% (287/350)\u001b[K\r",
      "remote: Compressing objects:  83% (291/350)\u001b[K\r",
      "remote: Compressing objects:  84% (294/350)\u001b[K\r",
      "remote: Compressing objects:  85% (298/350)\u001b[K\r",
      "remote: Compressing objects:  86% (301/350)\u001b[K\r",
      "remote: Compressing objects:  87% (305/350)\u001b[K\r",
      "remote: Compressing objects:  88% (308/350)\u001b[K\r",
      "remote: Compressing objects:  89% (312/350)\u001b[K\r",
      "remote: Compressing objects:  90% (315/350)\u001b[K\r",
      "remote: Compressing objects:  91% (319/350)\u001b[K\r",
      "remote: Compressing objects:  92% (322/350)\u001b[K\r",
      "remote: Compressing objects:  93% (326/350)\u001b[K\r",
      "remote: Compressing objects:  94% (329/350)\u001b[K\r",
      "remote: Compressing objects:  95% (333/350)\u001b[K\r",
      "remote: Compressing objects:  96% (336/350)\u001b[K\r",
      "remote: Compressing objects:  97% (340/350)\u001b[K\r",
      "remote: Compressing objects:  98% (343/350)\u001b[K\r",
      "remote: Compressing objects:  99% (347/350)\u001b[K\r",
      "remote: Compressing objects: 100% (350/350)\u001b[K\r",
      "remote: Compressing objects: 100% (350/350), done.\u001b[K\r\n",
      "Receiving objects:   0% (1/28166)   \r"
     ]
    },
    {
     "name": "stdout",
     "output_type": "stream",
     "text": [
      "Receiving objects:   1% (282/28166)   \r",
      "Receiving objects:   2% (564/28166)   \r"
     ]
    },
    {
     "name": "stdout",
     "output_type": "stream",
     "text": [
      "Receiving objects:   3% (845/28166)   \r",
      "Receiving objects:   4% (1127/28166)   \r"
     ]
    },
    {
     "name": "stdout",
     "output_type": "stream",
     "text": [
      "Receiving objects:   5% (1409/28166)   \r",
      "Receiving objects:   6% (1690/28166)   \r",
      "Receiving objects:   7% (1972/28166)   \r",
      "Receiving objects:   8% (2254/28166)   \r"
     ]
    },
    {
     "name": "stdout",
     "output_type": "stream",
     "text": [
      "Receiving objects:   9% (2535/28166)   \r",
      "Receiving objects:  10% (2817/28166)   \r",
      "Receiving objects:  11% (3099/28166)   \r",
      "Receiving objects:  12% (3380/28166)   \r",
      "Receiving objects:  13% (3662/28166)   \r",
      "Receiving objects:  14% (3944/28166)   \r",
      "Receiving objects:  15% (4225/28166)   \r",
      "Receiving objects:  16% (4507/28166)   \r"
     ]
    },
    {
     "name": "stdout",
     "output_type": "stream",
     "text": [
      "Receiving objects:  17% (4789/28166)   \r",
      "Receiving objects:  18% (5070/28166)   \r",
      "Receiving objects:  19% (5352/28166)   \r",
      "Receiving objects:  20% (5634/28166)   \r",
      "Receiving objects:  21% (5915/28166)   \r",
      "Receiving objects:  22% (6197/28166)   \r"
     ]
    },
    {
     "name": "stdout",
     "output_type": "stream",
     "text": [
      "Receiving objects:  23% (6479/28166)   \r",
      "Receiving objects:  24% (6760/28166)   \r",
      "Receiving objects:  25% (7042/28166)   \r",
      "Receiving objects:  26% (7324/28166)   \r",
      "Receiving objects:  27% (7605/28166)   \r",
      "Receiving objects:  28% (7887/28166)   \r",
      "Receiving objects:  29% (8169/28166)   \r",
      "Receiving objects:  30% (8450/28166)   \r",
      "Receiving objects:  31% (8732/28166)   \r"
     ]
    },
    {
     "name": "stdout",
     "output_type": "stream",
     "text": [
      "Receiving objects:  32% (9014/28166)   \r",
      "Receiving objects:  33% (9295/28166)   \r",
      "Receiving objects:  34% (9577/28166)   \r",
      "Receiving objects:  35% (9859/28166)   \r",
      "Receiving objects:  36% (10140/28166)   \r",
      "Receiving objects:  37% (10422/28166)   \r",
      "Receiving objects:  38% (10704/28166)   \r",
      "Receiving objects:  39% (10985/28166)   \r",
      "Receiving objects:  40% (11267/28166)   \r",
      "Receiving objects:  41% (11549/28166)   \r",
      "Receiving objects:  42% (11830/28166)   \r",
      "Receiving objects:  43% (12112/28166)   \r",
      "Receiving objects:  44% (12394/28166)   \r",
      "Receiving objects:  45% (12675/28166)   \r",
      "Receiving objects:  46% (12957/28166)   \r"
     ]
    },
    {
     "name": "stdout",
     "output_type": "stream",
     "text": [
      "Receiving objects:  47% (13239/28166)   \r",
      "Receiving objects:  48% (13520/28166)   \r",
      "Receiving objects:  49% (13802/28166)   \r",
      "Receiving objects:  50% (14083/28166)   \r",
      "Receiving objects:  51% (14365/28166)   \r",
      "Receiving objects:  52% (14647/28166)   \r",
      "Receiving objects:  53% (14928/28166)   \r",
      "Receiving objects:  54% (15210/28166)   \r",
      "Receiving objects:  55% (15492/28166)   \r",
      "Receiving objects:  56% (15773/28166)   \r",
      "Receiving objects:  57% (16055/28166)   \r",
      "Receiving objects:  58% (16337/28166)   \r",
      "Receiving objects:  59% (16618/28166)   \r",
      "Receiving objects:  60% (16900/28166)   \r",
      "Receiving objects:  61% (17182/28166)   \r",
      "Receiving objects:  62% (17463/28166)   \r",
      "Receiving objects:  63% (17745/28166)   \r",
      "Receiving objects:  64% (18027/28166)   \r",
      "Receiving objects:  65% (18308/28166)   \r",
      "Receiving objects:  66% (18590/28166)   \r",
      "Receiving objects:  67% (18872/28166)   \r"
     ]
    },
    {
     "name": "stdout",
     "output_type": "stream",
     "text": [
      "Receiving objects:  68% (19153/28166)   \r",
      "Receiving objects:  69% (19435/28166)   \r",
      "Receiving objects:  70% (19717/28166)   \r",
      "Receiving objects:  71% (19998/28166)   \r",
      "Receiving objects:  72% (20280/28166)   \r",
      "Receiving objects:  73% (20562/28166)   \r",
      "Receiving objects:  74% (20843/28166), 9.88 MiB | 19.75 MiB/s   \r",
      "Receiving objects:  75% (21125/28166), 9.88 MiB | 19.75 MiB/s   \r",
      "Receiving objects:  76% (21407/28166), 9.88 MiB | 19.75 MiB/s   \r",
      "Receiving objects:  77% (21688/28166), 9.88 MiB | 19.75 MiB/s   \r",
      "Receiving objects:  78% (21970/28166), 9.88 MiB | 19.75 MiB/s   \r",
      "Receiving objects:  79% (22252/28166), 9.88 MiB | 19.75 MiB/s   \r",
      "Receiving objects:  80% (22533/28166), 9.88 MiB | 19.75 MiB/s   \r",
      "Receiving objects:  81% (22815/28166), 9.88 MiB | 19.75 MiB/s   \r",
      "Receiving objects:  82% (23097/28166), 9.88 MiB | 19.75 MiB/s   \r",
      "Receiving objects:  83% (23378/28166), 9.88 MiB | 19.75 MiB/s   \r",
      "Receiving objects:  84% (23660/28166), 9.88 MiB | 19.75 MiB/s   \r",
      "Receiving objects:  85% (23942/28166), 9.88 MiB | 19.75 MiB/s   \r",
      "Receiving objects:  86% (24223/28166), 9.88 MiB | 19.75 MiB/s   \r",
      "Receiving objects:  87% (24505/28166), 9.88 MiB | 19.75 MiB/s   \r",
      "Receiving objects:  88% (24787/28166), 9.88 MiB | 19.75 MiB/s   \r"
     ]
    },
    {
     "name": "stdout",
     "output_type": "stream",
     "text": [
      "Receiving objects:  89% (25068/28166), 9.88 MiB | 19.75 MiB/s   \r",
      "Receiving objects:  90% (25350/28166), 9.88 MiB | 19.75 MiB/s   \r",
      "Receiving objects:  91% (25632/28166), 9.88 MiB | 19.75 MiB/s   \r",
      "Receiving objects:  92% (25913/28166), 9.88 MiB | 19.75 MiB/s   \r",
      "Receiving objects:  93% (26195/28166), 9.88 MiB | 19.75 MiB/s   \r",
      "Receiving objects:  94% (26477/28166), 9.88 MiB | 19.75 MiB/s   \r",
      "Receiving objects:  95% (26758/28166), 9.88 MiB | 19.75 MiB/s   \r",
      "Receiving objects:  96% (27040/28166), 9.88 MiB | 19.75 MiB/s   \r",
      "Receiving objects:  97% (27322/28166), 9.88 MiB | 19.75 MiB/s   \r",
      "Receiving objects:  98% (27603/28166), 9.88 MiB | 19.75 MiB/s   \r",
      "Receiving objects:  99% (27885/28166), 9.88 MiB | 19.75 MiB/s   \r",
      "remote: Total 28166 (delta 285), reused 443 (delta 217), pack-reused 27586\u001b[K\r\n",
      "Receiving objects: 100% (28166/28166), 9.88 MiB | 19.75 MiB/s   \r",
      "Receiving objects: 100% (28166/28166), 11.90 MiB | 20.72 MiB/s, done.\r\n",
      "Resolving deltas:   0% (0/21108)   \r",
      "Resolving deltas:   1% (213/21108)   \r",
      "Resolving deltas:   2% (423/21108)   \r",
      "Resolving deltas:   3% (639/21108)   \r"
     ]
    },
    {
     "name": "stdout",
     "output_type": "stream",
     "text": [
      "Resolving deltas:   4% (846/21108)   \r",
      "Resolving deltas:   5% (1059/21108)   \r",
      "Resolving deltas:   6% (1269/21108)   \r",
      "Resolving deltas:   7% (1487/21108)   \r",
      "Resolving deltas:   8% (1690/21108)   \r",
      "Resolving deltas:   9% (1900/21108)   \r",
      "Resolving deltas:  10% (2120/21108)   \r"
     ]
    },
    {
     "name": "stdout",
     "output_type": "stream",
     "text": [
      "Resolving deltas:  11% (2324/21108)   \r",
      "Resolving deltas:  12% (2538/21108)   \r",
      "Resolving deltas:  13% (2745/21108)   \r",
      "Resolving deltas:  14% (2958/21108)   \r"
     ]
    },
    {
     "name": "stdout",
     "output_type": "stream",
     "text": [
      "Resolving deltas:  15% (3167/21108)   \r",
      "Resolving deltas:  16% (3389/21108)   \r",
      "Resolving deltas:  17% (3641/21108)   \r",
      "Resolving deltas:  18% (3822/21108)   \r",
      "Resolving deltas:  19% (4012/21108)   \r"
     ]
    },
    {
     "name": "stdout",
     "output_type": "stream",
     "text": [
      "Resolving deltas:  20% (4226/21108)   \r",
      "Resolving deltas:  21% (4433/21108)   \r",
      "Resolving deltas:  22% (4672/21108)   \r",
      "Resolving deltas:  23% (4856/21108)   \r",
      "Resolving deltas:  24% (5069/21108)   \r",
      "Resolving deltas:  25% (5294/21108)   \r",
      "Resolving deltas:  26% (5490/21108)   \r"
     ]
    },
    {
     "name": "stdout",
     "output_type": "stream",
     "text": [
      "Resolving deltas:  27% (5753/21108)   \r",
      "Resolving deltas:  28% (5923/21108)   \r",
      "Resolving deltas:  29% (6130/21108)   \r",
      "Resolving deltas:  30% (6342/21108)   \r",
      "Resolving deltas:  31% (6553/21108)   \r",
      "Resolving deltas:  32% (6771/21108)   \r",
      "Resolving deltas:  33% (7003/21108)   \r"
     ]
    },
    {
     "name": "stdout",
     "output_type": "stream",
     "text": [
      "Resolving deltas:  34% (7183/21108)   \r",
      "Resolving deltas:  35% (7393/21108)   \r",
      "Resolving deltas:  36% (7600/21108)   \r",
      "Resolving deltas:  37% (7822/21108)   \r",
      "Resolving deltas:  38% (8029/21108)   \r",
      "Resolving deltas:  39% (8238/21108)   \r",
      "Resolving deltas:  40% (8462/21108)   \r",
      "Resolving deltas:  41% (8858/21108)   \r",
      "Resolving deltas:  42% (8874/21108)   \r",
      "Resolving deltas:  43% (9080/21108)   \r",
      "Resolving deltas:  44% (9289/21108)   \r",
      "Resolving deltas:  45% (9505/21108)   \r"
     ]
    },
    {
     "name": "stdout",
     "output_type": "stream",
     "text": [
      "Resolving deltas:  46% (9711/21108)   \r",
      "Resolving deltas:  47% (9986/21108)   \r",
      "Resolving deltas:  48% (10179/21108)   \r",
      "Resolving deltas:  50% (10590/21108)   \r",
      "Resolving deltas:  51% (10769/21108)   \r",
      "Resolving deltas:  52% (11017/21108)   \r",
      "Resolving deltas:  53% (11200/21108)   \r",
      "Resolving deltas:  54% (11428/21108)   \r",
      "Resolving deltas:  55% (11611/21108)   \r",
      "Resolving deltas:  56% (11868/21108)   \r",
      "Resolving deltas:  57% (12036/21108)   \r"
     ]
    },
    {
     "name": "stdout",
     "output_type": "stream",
     "text": [
      "Resolving deltas:  58% (12246/21108)   \r",
      "Resolving deltas:  59% (12465/21108)   \r",
      "Resolving deltas:  60% (12749/21108)   \r",
      "Resolving deltas:  61% (12882/21108)   \r",
      "Resolving deltas:  62% (13089/21108)   \r",
      "Resolving deltas:  63% (13315/21108)   \r",
      "Resolving deltas:  64% (13535/21108)   \r",
      "Resolving deltas:  65% (13730/21108)   \r",
      "Resolving deltas:  66% (13932/21108)   \r",
      "Resolving deltas:  67% (14144/21108)   \r",
      "Resolving deltas:  68% (14366/21108)   \r",
      "Resolving deltas:  69% (14571/21108)   \r",
      "Resolving deltas:  70% (14817/21108)   \r",
      "Resolving deltas:  71% (14990/21108)   \r",
      "Resolving deltas:  72% (15200/21108)   \r"
     ]
    },
    {
     "name": "stdout",
     "output_type": "stream",
     "text": [
      "Resolving deltas:  73% (15539/21108)   \r",
      "Resolving deltas:  74% (15629/21108)   \r",
      "Resolving deltas:  75% (15843/21108)   \r",
      "Resolving deltas:  76% (16154/21108)   \r",
      "Resolving deltas:  77% (16278/21108)   \r",
      "Resolving deltas:  78% (16479/21108)   \r",
      "Resolving deltas:  79% (16720/21108)   \r",
      "Resolving deltas:  80% (17044/21108)   \r",
      "Resolving deltas:  81% (17113/21108)   \r",
      "Resolving deltas:  82% (17328/21108)   \r",
      "Resolving deltas:  83% (17522/21108)   \r",
      "Resolving deltas:  85% (17977/21108)   \r",
      "Resolving deltas:  86% (18160/21108)   \r",
      "Resolving deltas:  87% (18399/21108)   \r",
      "Resolving deltas:  88% (18577/21108)   \r",
      "Resolving deltas:  89% (18787/21108)   \r",
      "Resolving deltas:  90% (19001/21108)   \r",
      "Resolving deltas:  91% (19211/21108)   \r",
      "Resolving deltas:  92% (19424/21108)   \r",
      "Resolving deltas:  93% (19648/21108)   \r",
      "Resolving deltas:  94% (19842/21108)   \r"
     ]
    },
    {
     "name": "stdout",
     "output_type": "stream",
     "text": [
      "Resolving deltas:  95% (20054/21108)   \r",
      "Resolving deltas:  96% (20302/21108)   \r",
      "Resolving deltas:  97% (20481/21108)   \r",
      "Resolving deltas:  98% (20693/21108)   \r",
      "Resolving deltas:  99% (20915/21108)   \r",
      "Resolving deltas: 100% (21108/21108)   \r",
      "Resolving deltas: 100% (21108/21108), done.\r\n"
     ]
    }
   ],
   "source": [
    "!git clone https://github.com/pytorch/fairseq/"
   ]
  },
  {
   "cell_type": "code",
   "execution_count": 4,
   "id": "inner-perfume",
   "metadata": {
    "execution": {
     "iopub.execute_input": "2021-05-27T17:49:08.200612Z",
     "iopub.status.busy": "2021-05-27T17:49:08.199433Z",
     "iopub.status.idle": "2021-05-27T17:49:08.203883Z",
     "shell.execute_reply": "2021-05-27T17:49:08.203442Z",
     "shell.execute_reply.started": "2021-05-25T21:59:53.235485Z"
    },
    "papermill": {
     "duration": 0.036417,
     "end_time": "2021-05-27T17:49:08.203994",
     "exception": false,
     "start_time": "2021-05-27T17:49:08.167577",
     "status": "completed"
    },
    "tags": []
   },
   "outputs": [
    {
     "name": "stdout",
     "output_type": "stream",
     "text": [
      "/tmp/fairseq/examples/wav2vec/unsupervised/scripts\n"
     ]
    }
   ],
   "source": [
    "%cd fairseq/examples/wav2vec/unsupervised/scripts"
   ]
  },
  {
   "cell_type": "code",
   "execution_count": 5,
   "id": "viral-philippines",
   "metadata": {
    "execution": {
     "iopub.execute_input": "2021-05-27T17:49:08.274422Z",
     "iopub.status.busy": "2021-05-27T17:49:08.266002Z",
     "iopub.status.idle": "2021-05-27T17:49:12.166891Z",
     "shell.execute_reply": "2021-05-27T17:49:12.167299Z"
    },
    "papermill": {
     "duration": 3.935961,
     "end_time": "2021-05-27T17:49:12.167464",
     "exception": false,
     "start_time": "2021-05-27T17:49:08.231503",
     "status": "completed"
    },
    "tags": []
   },
   "outputs": [],
   "source": [
    "!mkdir tsv\n",
    "!for i in train test valid; do echo /kaggle/input/wav2vec-u-cv-swedish-vads/wav/$i/common-voice-swedish-16bit-wav/ > tsv/$i.tsv; cat /kaggle/input/fork-of-wav2vec-u-cv-swedish-tsv/test.tsv|sed '1d' >> tsv/$i.tsv;done\n",
    "!cp /kaggle/input/wav2vec-u-cv-swedish-prep-ltr-phn-wrd/dic* tsv/\n",
    "!cp /kaggle/input/wav2vec-u-cv-swedish-prep-ltr-phn-wrd/*.wrd tsv/\n",
    "!cp /kaggle/input/wav2vec-u-cv-swedish-prep-ltr-phn-wrd/*.ltr tsv/\n",
    "!cp /kaggle/input/wav2vec-u-cv-swedish-prep-ltr-phn-wrd/*.phn tsv/"
   ]
  },
  {
   "cell_type": "code",
   "execution_count": 6,
   "id": "functional-shell",
   "metadata": {
    "execution": {
     "iopub.execute_input": "2021-05-27T17:49:12.230907Z",
     "iopub.status.busy": "2021-05-27T17:49:12.226821Z",
     "iopub.status.idle": "2021-05-27T17:49:19.718751Z",
     "shell.execute_reply": "2021-05-27T17:49:19.718233Z"
    },
    "papermill": {
     "duration": 7.523356,
     "end_time": "2021-05-27T17:49:19.718886",
     "exception": false,
     "start_time": "2021-05-27T17:49:12.195530",
     "status": "completed"
    },
    "tags": []
   },
   "outputs": [
    {
     "name": "stdout",
     "output_type": "stream",
     "text": [
      "Collecting npy-append-array\r\n"
     ]
    },
    {
     "name": "stdout",
     "output_type": "stream",
     "text": [
      "  Downloading npy_append_array-0.9.6-py3-none-any.whl (4.4 kB)\r\n"
     ]
    },
    {
     "name": "stdout",
     "output_type": "stream",
     "text": [
      "Collecting faiss\r\n"
     ]
    },
    {
     "name": "stdout",
     "output_type": "stream",
     "text": [
      "  Downloading faiss-1.5.3-cp37-cp37m-manylinux1_x86_64.whl (4.7 MB)\r\n",
      "\u001b[?25l\r",
      "\u001b[K     |                                | 10 kB 1.7 MB/s eta 0:00:03\r",
      "\u001b[K     |▏                               | 20 kB 1.7 MB/s eta 0:00:03\r",
      "\u001b[K     |▏                               | 30 kB 1.6 MB/s eta 0:00:03"
     ]
    },
    {
     "name": "stdout",
     "output_type": "stream",
     "text": [
      "\r",
      "\u001b[K     |▎                               | 40 kB 1.6 MB/s eta 0:00:03\r",
      "\u001b[K     |▍                               | 51 kB 852 kB/s eta 0:00:06\r",
      "\u001b[K     |▍                               | 61 kB 924 kB/s eta 0:00:05\r",
      "\u001b[K     |▌                               | 71 kB 1.0 MB/s eta 0:00:05"
     ]
    },
    {
     "name": "stdout",
     "output_type": "stream",
     "text": [
      "\r",
      "\u001b[K     |▋                               | 81 kB 1.1 MB/s eta 0:00:05\r",
      "\u001b[K     |▋                               | 92 kB 1.2 MB/s eta 0:00:04\r",
      "\u001b[K     |▊                               | 102 kB 1.2 MB/s eta 0:00:04\r",
      "\u001b[K     |▊                               | 112 kB 1.2 MB/s eta 0:00:04\r",
      "\u001b[K     |▉                               | 122 kB 1.2 MB/s eta 0:00:04\r",
      "\u001b[K     |█                               | 133 kB 1.2 MB/s eta 0:00:04\r",
      "\u001b[K     |█                               | 143 kB 1.2 MB/s eta 0:00:04"
     ]
    },
    {
     "name": "stdout",
     "output_type": "stream",
     "text": [
      "\r",
      "\u001b[K     |█                               | 153 kB 1.2 MB/s eta 0:00:04\r",
      "\u001b[K     |█▏                              | 163 kB 1.2 MB/s eta 0:00:04\r",
      "\u001b[K     |█▏                              | 174 kB 1.2 MB/s eta 0:00:04\r",
      "\u001b[K     |█▎                              | 184 kB 1.2 MB/s eta 0:00:04\r",
      "\u001b[K     |█▍                              | 194 kB 1.2 MB/s eta 0:00:04\r",
      "\u001b[K     |█▍                              | 204 kB 1.2 MB/s eta 0:00:04\r",
      "\u001b[K     |█▌                              | 215 kB 1.2 MB/s eta 0:00:04\r",
      "\u001b[K     |█▌                              | 225 kB 1.2 MB/s eta 0:00:04\r",
      "\u001b[K     |█▋                              | 235 kB 1.2 MB/s eta 0:00:04\r",
      "\u001b[K     |█▊                              | 245 kB 1.2 MB/s eta 0:00:04\r",
      "\u001b[K     |█▊                              | 256 kB 1.2 MB/s eta 0:00:04\r",
      "\u001b[K     |█▉                              | 266 kB 1.2 MB/s eta 0:00:04\r",
      "\u001b[K     |██                              | 276 kB 1.2 MB/s eta 0:00:04"
     ]
    },
    {
     "name": "stdout",
     "output_type": "stream",
     "text": [
      "\r",
      "\u001b[K     |██                              | 286 kB 1.2 MB/s eta 0:00:04\r",
      "\u001b[K     |██                              | 296 kB 1.2 MB/s eta 0:00:04\r",
      "\u001b[K     |██▏                             | 307 kB 1.2 MB/s eta 0:00:04\r",
      "\u001b[K     |██▏                             | 317 kB 1.2 MB/s eta 0:00:04\r",
      "\u001b[K     |██▎                             | 327 kB 1.2 MB/s eta 0:00:04\r",
      "\u001b[K     |██▎                             | 337 kB 1.2 MB/s eta 0:00:04\r",
      "\u001b[K     |██▍                             | 348 kB 1.2 MB/s eta 0:00:04\r",
      "\u001b[K     |██▌                             | 358 kB 1.2 MB/s eta 0:00:04\r",
      "\u001b[K     |██▌                             | 368 kB 1.2 MB/s eta 0:00:04\r",
      "\u001b[K     |██▋                             | 378 kB 1.2 MB/s eta 0:00:04\r",
      "\u001b[K     |██▊                             | 389 kB 1.2 MB/s eta 0:00:04\r",
      "\u001b[K     |██▊                             | 399 kB 1.2 MB/s eta 0:00:04\r",
      "\u001b[K     |██▉                             | 409 kB 1.2 MB/s eta 0:00:04\r",
      "\u001b[K     |██▉                             | 419 kB 1.2 MB/s eta 0:00:04\r",
      "\u001b[K     |███                             | 430 kB 1.2 MB/s eta 0:00:04\r",
      "\u001b[K     |███                             | 440 kB 1.2 MB/s eta 0:00:04\r",
      "\u001b[K     |███                             | 450 kB 1.2 MB/s eta 0:00:04\r",
      "\u001b[K     |███▏                            | 460 kB 1.2 MB/s eta 0:00:04\r",
      "\u001b[K     |███▎                            | 471 kB 1.2 MB/s eta 0:00:04\r",
      "\u001b[K     |███▎                            | 481 kB 1.2 MB/s eta 0:00:04\r",
      "\u001b[K     |███▍                            | 491 kB 1.2 MB/s eta 0:00:04\r",
      "\u001b[K     |███▌                            | 501 kB 1.2 MB/s eta 0:00:04\r",
      "\u001b[K     |███▌                            | 512 kB 1.2 MB/s eta 0:00:04"
     ]
    },
    {
     "name": "stdout",
     "output_type": "stream",
     "text": [
      "\r",
      "\u001b[K     |███▋                            | 522 kB 1.2 MB/s eta 0:00:04\r",
      "\u001b[K     |███▋                            | 532 kB 1.2 MB/s eta 0:00:04\r",
      "\u001b[K     |███▊                            | 542 kB 1.2 MB/s eta 0:00:04\r",
      "\u001b[K     |███▉                            | 552 kB 1.2 MB/s eta 0:00:04\r",
      "\u001b[K     |███▉                            | 563 kB 1.2 MB/s eta 0:00:04\r",
      "\u001b[K     |████                            | 573 kB 1.2 MB/s eta 0:00:04\r",
      "\u001b[K     |████                            | 583 kB 1.2 MB/s eta 0:00:04\r",
      "\u001b[K     |████                            | 593 kB 1.2 MB/s eta 0:00:04\r",
      "\u001b[K     |████▏                           | 604 kB 1.2 MB/s eta 0:00:04\r",
      "\u001b[K     |████▎                           | 614 kB 1.2 MB/s eta 0:00:04\r",
      "\u001b[K     |████▎                           | 624 kB 1.2 MB/s eta 0:00:04\r",
      "\u001b[K     |████▍                           | 634 kB 1.2 MB/s eta 0:00:04\r",
      "\u001b[K     |████▍                           | 645 kB 1.2 MB/s eta 0:00:04\r",
      "\u001b[K     |████▌                           | 655 kB 1.2 MB/s eta 0:00:04\r",
      "\u001b[K     |████▋                           | 665 kB 1.2 MB/s eta 0:00:04\r",
      "\u001b[K     |████▋                           | 675 kB 1.2 MB/s eta 0:00:04\r",
      "\u001b[K     |████▊                           | 686 kB 1.2 MB/s eta 0:00:04\r",
      "\u001b[K     |████▉                           | 696 kB 1.2 MB/s eta 0:00:04\r",
      "\u001b[K     |████▉                           | 706 kB 1.2 MB/s eta 0:00:04\r",
      "\u001b[K     |█████                           | 716 kB 1.2 MB/s eta 0:00:04\r",
      "\u001b[K     |█████                           | 727 kB 1.2 MB/s eta 0:00:04\r",
      "\u001b[K     |█████                           | 737 kB 1.2 MB/s eta 0:00:04\r",
      "\u001b[K     |█████▏                          | 747 kB 1.2 MB/s eta 0:00:04\r",
      "\u001b[K     |█████▏                          | 757 kB 1.2 MB/s eta 0:00:04\r",
      "\u001b[K     |█████▎                          | 768 kB 1.2 MB/s eta 0:00:04\r",
      "\u001b[K     |█████▍                          | 778 kB 1.2 MB/s eta 0:00:04"
     ]
    },
    {
     "name": "stdout",
     "output_type": "stream",
     "text": [
      "\r",
      "\u001b[K     |█████▍                          | 788 kB 1.2 MB/s eta 0:00:04\r",
      "\u001b[K     |█████▌                          | 798 kB 1.2 MB/s eta 0:00:04\r",
      "\u001b[K     |█████▋                          | 808 kB 1.2 MB/s eta 0:00:04\r",
      "\u001b[K     |█████▋                          | 819 kB 1.2 MB/s eta 0:00:04\r",
      "\u001b[K     |█████▊                          | 829 kB 1.2 MB/s eta 0:00:04\r",
      "\u001b[K     |█████▊                          | 839 kB 1.2 MB/s eta 0:00:04\r",
      "\u001b[K     |█████▉                          | 849 kB 1.2 MB/s eta 0:00:04\r",
      "\u001b[K     |██████                          | 860 kB 1.2 MB/s eta 0:00:04\r",
      "\u001b[K     |██████                          | 870 kB 1.2 MB/s eta 0:00:04\r",
      "\u001b[K     |██████                          | 880 kB 1.2 MB/s eta 0:00:04\r",
      "\u001b[K     |██████▏                         | 890 kB 1.2 MB/s eta 0:00:04\r",
      "\u001b[K     |██████▏                         | 901 kB 1.2 MB/s eta 0:00:04\r",
      "\u001b[K     |██████▎                         | 911 kB 1.2 MB/s eta 0:00:04\r",
      "\u001b[K     |██████▍                         | 921 kB 1.2 MB/s eta 0:00:04\r",
      "\u001b[K     |██████▍                         | 931 kB 1.2 MB/s eta 0:00:04\r",
      "\u001b[K     |██████▌                         | 942 kB 1.2 MB/s eta 0:00:03\r",
      "\u001b[K     |██████▌                         | 952 kB 1.2 MB/s eta 0:00:03\r",
      "\u001b[K     |██████▋                         | 962 kB 1.2 MB/s eta 0:00:03\r",
      "\u001b[K     |██████▊                         | 972 kB 1.2 MB/s eta 0:00:03\r",
      "\u001b[K     |██████▊                         | 983 kB 1.2 MB/s eta 0:00:03\r",
      "\u001b[K     |██████▉                         | 993 kB 1.2 MB/s eta 0:00:03\r",
      "\u001b[K     |███████                         | 1.0 MB 1.2 MB/s eta 0:00:03\r",
      "\u001b[K     |███████                         | 1.0 MB 1.2 MB/s eta 0:00:03\r",
      "\u001b[K     |███████                         | 1.0 MB 1.2 MB/s eta 0:00:03\r",
      "\u001b[K     |███████▏                        | 1.0 MB 1.2 MB/s eta 0:00:03\r",
      "\u001b[K     |███████▏                        | 1.0 MB 1.2 MB/s eta 0:00:03\r",
      "\u001b[K     |███████▎                        | 1.1 MB 1.2 MB/s eta 0:00:03\r",
      "\u001b[K     |███████▎                        | 1.1 MB 1.2 MB/s eta 0:00:03\r",
      "\u001b[K     |███████▍                        | 1.1 MB 1.2 MB/s eta 0:00:03\r",
      "\u001b[K     |███████▌                        | 1.1 MB 1.2 MB/s eta 0:00:03"
     ]
    },
    {
     "name": "stdout",
     "output_type": "stream",
     "text": [
      "\r",
      "\u001b[K     |███████▌                        | 1.1 MB 1.2 MB/s eta 0:00:03\r",
      "\u001b[K     |███████▋                        | 1.1 MB 1.2 MB/s eta 0:00:03\r",
      "\u001b[K     |███████▊                        | 1.1 MB 1.2 MB/s eta 0:00:03\r",
      "\u001b[K     |███████▊                        | 1.1 MB 1.2 MB/s eta 0:00:03\r",
      "\u001b[K     |███████▉                        | 1.1 MB 1.2 MB/s eta 0:00:03\r",
      "\u001b[K     |████████                        | 1.1 MB 1.2 MB/s eta 0:00:03\r",
      "\u001b[K     |████████                        | 1.2 MB 1.2 MB/s eta 0:00:03\r",
      "\u001b[K     |████████                        | 1.2 MB 1.2 MB/s eta 0:00:03\r",
      "\u001b[K     |████████                        | 1.2 MB 1.2 MB/s eta 0:00:03\r",
      "\u001b[K     |████████▏                       | 1.2 MB 1.2 MB/s eta 0:00:03\r",
      "\u001b[K     |████████▎                       | 1.2 MB 1.2 MB/s eta 0:00:03\r",
      "\u001b[K     |████████▎                       | 1.2 MB 1.2 MB/s eta 0:00:03\r",
      "\u001b[K     |████████▍                       | 1.2 MB 1.2 MB/s eta 0:00:03\r",
      "\u001b[K     |████████▌                       | 1.2 MB 1.2 MB/s eta 0:00:03\r",
      "\u001b[K     |████████▌                       | 1.2 MB 1.2 MB/s eta 0:00:03\r",
      "\u001b[K     |████████▋                       | 1.2 MB 1.2 MB/s eta 0:00:03\r",
      "\u001b[K     |████████▋                       | 1.3 MB 1.2 MB/s eta 0:00:03\r",
      "\u001b[K     |████████▊                       | 1.3 MB 1.2 MB/s eta 0:00:03\r",
      "\u001b[K     |████████▉                       | 1.3 MB 1.2 MB/s eta 0:00:03\r",
      "\u001b[K     |████████▉                       | 1.3 MB 1.2 MB/s eta 0:00:03\r",
      "\u001b[K     |█████████                       | 1.3 MB 1.2 MB/s eta 0:00:03\r",
      "\u001b[K     |█████████                       | 1.3 MB 1.2 MB/s eta 0:00:03\r",
      "\u001b[K     |█████████                       | 1.3 MB 1.2 MB/s eta 0:00:03\r",
      "\u001b[K     |█████████▏                      | 1.3 MB 1.2 MB/s eta 0:00:03\r",
      "\u001b[K     |█████████▎                      | 1.3 MB 1.2 MB/s eta 0:00:03"
     ]
    },
    {
     "name": "stdout",
     "output_type": "stream",
     "text": [
      "\r",
      "\u001b[K     |█████████▎                      | 1.4 MB 1.2 MB/s eta 0:00:03\r",
      "\u001b[K     |█████████▍                      | 1.4 MB 1.2 MB/s eta 0:00:03\r",
      "\u001b[K     |█████████▍                      | 1.4 MB 1.2 MB/s eta 0:00:03\r",
      "\u001b[K     |█████████▌                      | 1.4 MB 1.2 MB/s eta 0:00:03\r",
      "\u001b[K     |█████████▋                      | 1.4 MB 1.2 MB/s eta 0:00:03\r",
      "\u001b[K     |█████████▋                      | 1.4 MB 1.2 MB/s eta 0:00:03\r",
      "\u001b[K     |█████████▊                      | 1.4 MB 1.2 MB/s eta 0:00:03\r",
      "\u001b[K     |█████████▉                      | 1.4 MB 1.2 MB/s eta 0:00:03\r",
      "\u001b[K     |█████████▉                      | 1.4 MB 1.2 MB/s eta 0:00:03\r",
      "\u001b[K     |██████████                      | 1.4 MB 1.2 MB/s eta 0:00:03\r",
      "\u001b[K     |██████████                      | 1.5 MB 1.2 MB/s eta 0:00:03\r",
      "\u001b[K     |██████████                      | 1.5 MB 1.2 MB/s eta 0:00:03\r",
      "\u001b[K     |██████████▏                     | 1.5 MB 1.2 MB/s eta 0:00:03\r",
      "\u001b[K     |██████████▏                     | 1.5 MB 1.2 MB/s eta 0:00:03\r",
      "\u001b[K     |██████████▎                     | 1.5 MB 1.2 MB/s eta 0:00:03\r",
      "\u001b[K     |██████████▍                     | 1.5 MB 1.2 MB/s eta 0:00:03\r",
      "\u001b[K     |██████████▍                     | 1.5 MB 1.2 MB/s eta 0:00:03\r",
      "\u001b[K     |██████████▌                     | 1.5 MB 1.2 MB/s eta 0:00:03\r",
      "\u001b[K     |██████████▋                     | 1.5 MB 1.2 MB/s eta 0:00:03\r",
      "\u001b[K     |██████████▋                     | 1.5 MB 1.2 MB/s eta 0:00:03\r",
      "\u001b[K     |██████████▊                     | 1.6 MB 1.2 MB/s eta 0:00:03\r",
      "\u001b[K     |██████████▉                     | 1.6 MB 1.2 MB/s eta 0:00:03\r",
      "\u001b[K     |██████████▉                     | 1.6 MB 1.2 MB/s eta 0:00:03\r",
      "\u001b[K     |███████████                     | 1.6 MB 1.2 MB/s eta 0:00:03\r",
      "\u001b[K     |███████████                     | 1.6 MB 1.2 MB/s eta 0:00:03\r",
      "\u001b[K     |███████████                     | 1.6 MB 1.2 MB/s eta 0:00:03\r",
      "\u001b[K     |███████████▏                    | 1.6 MB 1.2 MB/s eta 0:00:03\r",
      "\u001b[K     |███████████▏                    | 1.6 MB 1.2 MB/s eta 0:00:03\r",
      "\u001b[K     |███████████▎                    | 1.6 MB 1.2 MB/s eta 0:00:03\r",
      "\u001b[K     |███████████▍                    | 1.6 MB 1.2 MB/s eta 0:00:03"
     ]
    },
    {
     "name": "stdout",
     "output_type": "stream",
     "text": [
      "\r",
      "\u001b[K     |███████████▍                    | 1.7 MB 1.2 MB/s eta 0:00:03\r",
      "\u001b[K     |███████████▌                    | 1.7 MB 1.2 MB/s eta 0:00:03\r",
      "\u001b[K     |███████████▌                    | 1.7 MB 1.2 MB/s eta 0:00:03\r",
      "\u001b[K     |███████████▋                    | 1.7 MB 1.2 MB/s eta 0:00:03\r",
      "\u001b[K     |███████████▊                    | 1.7 MB 1.2 MB/s eta 0:00:03\r",
      "\u001b[K     |███████████▊                    | 1.7 MB 1.2 MB/s eta 0:00:03\r",
      "\u001b[K     |███████████▉                    | 1.7 MB 1.2 MB/s eta 0:00:03\r",
      "\u001b[K     |████████████                    | 1.7 MB 1.2 MB/s eta 0:00:03\r",
      "\u001b[K     |████████████                    | 1.7 MB 1.2 MB/s eta 0:00:03\r",
      "\u001b[K     |████████████                    | 1.8 MB 1.2 MB/s eta 0:00:03\r",
      "\u001b[K     |████████████▏                   | 1.8 MB 1.2 MB/s eta 0:00:03\r",
      "\u001b[K     |████████████▏                   | 1.8 MB 1.2 MB/s eta 0:00:03\r",
      "\u001b[K     |████████████▎                   | 1.8 MB 1.2 MB/s eta 0:00:03\r",
      "\u001b[K     |████████████▎                   | 1.8 MB 1.2 MB/s eta 0:00:03\r",
      "\u001b[K     |████████████▍                   | 1.8 MB 1.2 MB/s eta 0:00:03\r",
      "\u001b[K     |████████████▌                   | 1.8 MB 1.2 MB/s eta 0:00:03\r",
      "\u001b[K     |████████████▌                   | 1.8 MB 1.2 MB/s eta 0:00:03\r",
      "\u001b[K     |████████████▋                   | 1.8 MB 1.2 MB/s eta 0:00:03\r",
      "\u001b[K     |████████████▊                   | 1.8 MB 1.2 MB/s eta 0:00:03\r",
      "\u001b[K     |████████████▊                   | 1.9 MB 1.2 MB/s eta 0:00:03\r",
      "\u001b[K     |████████████▉                   | 1.9 MB 1.2 MB/s eta 0:00:03\r",
      "\u001b[K     |█████████████                   | 1.9 MB 1.2 MB/s eta 0:00:03\r",
      "\u001b[K     |█████████████                   | 1.9 MB 1.2 MB/s eta 0:00:03\r",
      "\u001b[K     |█████████████                   | 1.9 MB 1.2 MB/s eta 0:00:03\r",
      "\u001b[K     |█████████████                   | 1.9 MB 1.2 MB/s eta 0:00:03\r",
      "\u001b[K     |█████████████▏                  | 1.9 MB 1.2 MB/s eta 0:00:03\r",
      "\u001b[K     |█████████████▎                  | 1.9 MB 1.2 MB/s eta 0:00:03\r",
      "\u001b[K     |█████████████▎                  | 1.9 MB 1.2 MB/s eta 0:00:03\r",
      "\u001b[K     |█████████████▍                  | 1.9 MB 1.2 MB/s eta 0:00:03\r",
      "\u001b[K     |█████████████▌                  | 2.0 MB 1.2 MB/s eta 0:00:03"
     ]
    },
    {
     "name": "stdout",
     "output_type": "stream",
     "text": [
      "\r",
      "\u001b[K     |█████████████▌                  | 2.0 MB 1.2 MB/s eta 0:00:03\r",
      "\u001b[K     |█████████████▋                  | 2.0 MB 1.2 MB/s eta 0:00:03\r",
      "\u001b[K     |█████████████▊                  | 2.0 MB 1.2 MB/s eta 0:00:03\r",
      "\u001b[K     |█████████████▊                  | 2.0 MB 1.2 MB/s eta 0:00:03\r",
      "\u001b[K     |█████████████▉                  | 2.0 MB 1.2 MB/s eta 0:00:03\r",
      "\u001b[K     |█████████████▉                  | 2.0 MB 1.2 MB/s eta 0:00:03\r",
      "\u001b[K     |██████████████                  | 2.0 MB 1.2 MB/s eta 0:00:03\r",
      "\u001b[K     |██████████████                  | 2.0 MB 1.2 MB/s eta 0:00:03\r",
      "\u001b[K     |██████████████                  | 2.0 MB 1.2 MB/s eta 0:00:03\r",
      "\u001b[K     |██████████████▏                 | 2.1 MB 1.2 MB/s eta 0:00:03\r",
      "\u001b[K     |██████████████▎                 | 2.1 MB 1.2 MB/s eta 0:00:03\r",
      "\u001b[K     |██████████████▎                 | 2.1 MB 1.2 MB/s eta 0:00:03\r",
      "\u001b[K     |██████████████▍                 | 2.1 MB 1.2 MB/s eta 0:00:03\r",
      "\u001b[K     |██████████████▍                 | 2.1 MB 1.2 MB/s eta 0:00:03\r",
      "\u001b[K     |██████████████▌                 | 2.1 MB 1.2 MB/s eta 0:00:03\r",
      "\u001b[K     |██████████████▋                 | 2.1 MB 1.2 MB/s eta 0:00:03\r",
      "\u001b[K     |██████████████▋                 | 2.1 MB 1.2 MB/s eta 0:00:03\r",
      "\u001b[K     |██████████████▊                 | 2.1 MB 1.2 MB/s eta 0:00:03\r",
      "\u001b[K     |██████████████▉                 | 2.2 MB 1.2 MB/s eta 0:00:03\r",
      "\u001b[K     |██████████████▉                 | 2.2 MB 1.2 MB/s eta 0:00:03\r",
      "\u001b[K     |███████████████                 | 2.2 MB 1.2 MB/s eta 0:00:03\r",
      "\u001b[K     |███████████████                 | 2.2 MB 1.2 MB/s eta 0:00:02\r",
      "\u001b[K     |███████████████                 | 2.2 MB 1.2 MB/s eta 0:00:02\r",
      "\u001b[K     |███████████████▏                | 2.2 MB 1.2 MB/s eta 0:00:02\r",
      "\u001b[K     |███████████████▏                | 2.2 MB 1.2 MB/s eta 0:00:02\r",
      "\u001b[K     |███████████████▎                | 2.2 MB 1.2 MB/s eta 0:00:02\r",
      "\u001b[K     |███████████████▍                | 2.2 MB 1.2 MB/s eta 0:00:02\r",
      "\u001b[K     |███████████████▍                | 2.2 MB 1.2 MB/s eta 0:00:02\r",
      "\u001b[K     |███████████████▌                | 2.3 MB 1.2 MB/s eta 0:00:02\r",
      "\u001b[K     |███████████████▋                | 2.3 MB 1.2 MB/s eta 0:00:02\r",
      "\u001b[K     |███████████████▋                | 2.3 MB 1.2 MB/s eta 0:00:02"
     ]
    },
    {
     "name": "stdout",
     "output_type": "stream",
     "text": [
      "\r",
      "\u001b[K     |███████████████▊                | 2.3 MB 1.2 MB/s eta 0:00:02\r",
      "\u001b[K     |███████████████▉                | 2.3 MB 1.2 MB/s eta 0:00:02\r",
      "\u001b[K     |███████████████▉                | 2.3 MB 1.2 MB/s eta 0:00:02\r",
      "\u001b[K     |████████████████                | 2.3 MB 1.2 MB/s eta 0:00:02\r",
      "\u001b[K     |████████████████                | 2.3 MB 1.2 MB/s eta 0:00:02\r",
      "\u001b[K     |████████████████                | 2.3 MB 1.2 MB/s eta 0:00:02\r",
      "\u001b[K     |████████████████▏               | 2.3 MB 1.2 MB/s eta 0:00:02\r",
      "\u001b[K     |████████████████▏               | 2.4 MB 1.2 MB/s eta 0:00:02\r",
      "\u001b[K     |████████████████▎               | 2.4 MB 1.2 MB/s eta 0:00:02\r",
      "\u001b[K     |████████████████▍               | 2.4 MB 1.2 MB/s eta 0:00:02\r",
      "\u001b[K     |████████████████▍               | 2.4 MB 1.2 MB/s eta 0:00:02\r",
      "\u001b[K     |████████████████▌               | 2.4 MB 1.2 MB/s eta 0:00:02\r",
      "\u001b[K     |████████████████▋               | 2.4 MB 1.2 MB/s eta 0:00:02\r",
      "\u001b[K     |████████████████▋               | 2.4 MB 1.2 MB/s eta 0:00:02\r",
      "\u001b[K     |████████████████▊               | 2.4 MB 1.2 MB/s eta 0:00:02\r",
      "\u001b[K     |████████████████▊               | 2.4 MB 1.2 MB/s eta 0:00:02\r",
      "\u001b[K     |████████████████▉               | 2.4 MB 1.2 MB/s eta 0:00:02\r",
      "\u001b[K     |█████████████████               | 2.5 MB 1.2 MB/s eta 0:00:02\r",
      "\u001b[K     |█████████████████               | 2.5 MB 1.2 MB/s eta 0:00:02\r",
      "\u001b[K     |█████████████████               | 2.5 MB 1.2 MB/s eta 0:00:02\r",
      "\u001b[K     |█████████████████▏              | 2.5 MB 1.2 MB/s eta 0:00:02\r",
      "\u001b[K     |█████████████████▏              | 2.5 MB 1.2 MB/s eta 0:00:02\r",
      "\u001b[K     |█████████████████▎              | 2.5 MB 1.2 MB/s eta 0:00:02\r",
      "\u001b[K     |█████████████████▎              | 2.5 MB 1.2 MB/s eta 0:00:02\r",
      "\u001b[K     |█████████████████▍              | 2.5 MB 1.2 MB/s eta 0:00:02\r",
      "\u001b[K     |█████████████████▌              | 2.5 MB 1.2 MB/s eta 0:00:02\r",
      "\u001b[K     |█████████████████▌              | 2.5 MB 1.2 MB/s eta 0:00:02\r",
      "\u001b[K     |█████████████████▋              | 2.6 MB 1.2 MB/s eta 0:00:02\r",
      "\u001b[K     |█████████████████▊              | 2.6 MB 1.2 MB/s eta 0:00:02\r",
      "\u001b[K     |█████████████████▊              | 2.6 MB 1.2 MB/s eta 0:00:02\r",
      "\u001b[K     |█████████████████▉              | 2.6 MB 1.2 MB/s eta 0:00:02"
     ]
    },
    {
     "name": "stdout",
     "output_type": "stream",
     "text": [
      "\r",
      "\u001b[K     |██████████████████              | 2.6 MB 1.2 MB/s eta 0:00:02\r",
      "\u001b[K     |██████████████████              | 2.6 MB 1.2 MB/s eta 0:00:02\r",
      "\u001b[K     |██████████████████              | 2.6 MB 1.2 MB/s eta 0:00:02\r",
      "\u001b[K     |██████████████████              | 2.6 MB 1.2 MB/s eta 0:00:02\r",
      "\u001b[K     |██████████████████▏             | 2.6 MB 1.2 MB/s eta 0:00:02\r",
      "\u001b[K     |██████████████████▎             | 2.7 MB 1.2 MB/s eta 0:00:02\r",
      "\u001b[K     |██████████████████▎             | 2.7 MB 1.2 MB/s eta 0:00:02\r",
      "\u001b[K     |██████████████████▍             | 2.7 MB 1.2 MB/s eta 0:00:02\r",
      "\u001b[K     |██████████████████▌             | 2.7 MB 1.2 MB/s eta 0:00:02\r",
      "\u001b[K     |██████████████████▌             | 2.7 MB 1.2 MB/s eta 0:00:02\r",
      "\u001b[K     |██████████████████▋             | 2.7 MB 1.2 MB/s eta 0:00:02\r",
      "\u001b[K     |██████████████████▊             | 2.7 MB 1.2 MB/s eta 0:00:02\r",
      "\u001b[K     |██████████████████▊             | 2.7 MB 1.2 MB/s eta 0:00:02\r",
      "\u001b[K     |██████████████████▉             | 2.7 MB 1.2 MB/s eta 0:00:02\r",
      "\u001b[K     |██████████████████▉             | 2.7 MB 1.2 MB/s eta 0:00:02\r",
      "\u001b[K     |███████████████████             | 2.8 MB 1.2 MB/s eta 0:00:02\r",
      "\u001b[K     |███████████████████             | 2.8 MB 1.2 MB/s eta 0:00:02\r",
      "\u001b[K     |███████████████████             | 2.8 MB 1.2 MB/s eta 0:00:02\r",
      "\u001b[K     |███████████████████▏            | 2.8 MB 1.2 MB/s eta 0:00:02\r",
      "\u001b[K     |███████████████████▎            | 2.8 MB 1.2 MB/s eta 0:00:02\r",
      "\u001b[K     |███████████████████▎            | 2.8 MB 1.2 MB/s eta 0:00:02\r",
      "\u001b[K     |███████████████████▍            | 2.8 MB 1.2 MB/s eta 0:00:02\r",
      "\u001b[K     |███████████████████▌            | 2.8 MB 1.2 MB/s eta 0:00:02\r",
      "\u001b[K     |███████████████████▌            | 2.8 MB 1.2 MB/s eta 0:00:02\r",
      "\u001b[K     |███████████████████▋            | 2.8 MB 1.2 MB/s eta 0:00:02\r",
      "\u001b[K     |███████████████████▋            | 2.9 MB 1.2 MB/s eta 0:00:02\r",
      "\u001b[K     |███████████████████▊            | 2.9 MB 1.2 MB/s eta 0:00:02\r",
      "\u001b[K     |███████████████████▉            | 2.9 MB 1.2 MB/s eta 0:00:02\r",
      "\u001b[K     |███████████████████▉            | 2.9 MB 1.2 MB/s eta 0:00:02\r",
      "\u001b[K     |████████████████████            | 2.9 MB 1.2 MB/s eta 0:00:02\r",
      "\u001b[K     |████████████████████            | 2.9 MB 1.2 MB/s eta 0:00:02\r",
      "\u001b[K     |████████████████████            | 2.9 MB 1.2 MB/s eta 0:00:02\r",
      "\u001b[K     |████████████████████▏           | 2.9 MB 1.2 MB/s eta 0:00:02"
     ]
    },
    {
     "name": "stdout",
     "output_type": "stream",
     "text": [
      "\r",
      "\u001b[K     |████████████████████▏           | 2.9 MB 1.2 MB/s eta 0:00:02\r",
      "\u001b[K     |████████████████████▎           | 2.9 MB 1.2 MB/s eta 0:00:02\r",
      "\u001b[K     |████████████████████▍           | 3.0 MB 1.2 MB/s eta 0:00:02\r",
      "\u001b[K     |████████████████████▍           | 3.0 MB 1.2 MB/s eta 0:00:02\r",
      "\u001b[K     |████████████████████▌           | 3.0 MB 1.2 MB/s eta 0:00:02\r",
      "\u001b[K     |████████████████████▋           | 3.0 MB 1.2 MB/s eta 0:00:02\r",
      "\u001b[K     |████████████████████▋           | 3.0 MB 1.2 MB/s eta 0:00:02\r",
      "\u001b[K     |████████████████████▊           | 3.0 MB 1.2 MB/s eta 0:00:02\r",
      "\u001b[K     |████████████████████▉           | 3.0 MB 1.2 MB/s eta 0:00:02\r",
      "\u001b[K     |████████████████████▉           | 3.0 MB 1.2 MB/s eta 0:00:02\r",
      "\u001b[K     |█████████████████████           | 3.0 MB 1.2 MB/s eta 0:00:02\r",
      "\u001b[K     |█████████████████████           | 3.1 MB 1.2 MB/s eta 0:00:02\r",
      "\u001b[K     |█████████████████████           | 3.1 MB 1.2 MB/s eta 0:00:02\r",
      "\u001b[K     |█████████████████████▏          | 3.1 MB 1.2 MB/s eta 0:00:02\r",
      "\u001b[K     |█████████████████████▏          | 3.1 MB 1.2 MB/s eta 0:00:02\r",
      "\u001b[K     |█████████████████████▎          | 3.1 MB 1.2 MB/s eta 0:00:02\r",
      "\u001b[K     |█████████████████████▍          | 3.1 MB 1.2 MB/s eta 0:00:02\r",
      "\u001b[K     |█████████████████████▍          | 3.1 MB 1.2 MB/s eta 0:00:02\r",
      "\u001b[K     |█████████████████████▌          | 3.1 MB 1.2 MB/s eta 0:00:02\r",
      "\u001b[K     |█████████████████████▋          | 3.1 MB 1.2 MB/s eta 0:00:02\r",
      "\u001b[K     |█████████████████████▋          | 3.1 MB 1.2 MB/s eta 0:00:02\r",
      "\u001b[K     |█████████████████████▊          | 3.2 MB 1.2 MB/s eta 0:00:02\r",
      "\u001b[K     |█████████████████████▊          | 3.2 MB 1.2 MB/s eta 0:00:02\r",
      "\u001b[K     |█████████████████████▉          | 3.2 MB 1.2 MB/s eta 0:00:02\r",
      "\u001b[K     |██████████████████████          | 3.2 MB 1.2 MB/s eta 0:00:02\r",
      "\u001b[K     |██████████████████████          | 3.2 MB 1.2 MB/s eta 0:00:02\r",
      "\u001b[K     |██████████████████████          | 3.2 MB 1.2 MB/s eta 0:00:02\r",
      "\u001b[K     |██████████████████████▏         | 3.2 MB 1.2 MB/s eta 0:00:02\r",
      "\u001b[K     |██████████████████████▏         | 3.2 MB 1.2 MB/s eta 0:00:02\r",
      "\u001b[K     |██████████████████████▎         | 3.2 MB 1.2 MB/s eta 0:00:02\r",
      "\u001b[K     |██████████████████████▍         | 3.2 MB 1.2 MB/s eta 0:00:02\r",
      "\u001b[K     |██████████████████████▍         | 3.3 MB 1.2 MB/s eta 0:00:02\r",
      "\u001b[K     |██████████████████████▌         | 3.3 MB 1.2 MB/s eta 0:00:02\r",
      "\u001b[K     |██████████████████████▌         | 3.3 MB 1.2 MB/s eta 0:00:02\r",
      "\u001b[K     |██████████████████████▋         | 3.3 MB 1.2 MB/s eta 0:00:02"
     ]
    },
    {
     "name": "stdout",
     "output_type": "stream",
     "text": [
      "\r",
      "\u001b[K     |██████████████████████▊         | 3.3 MB 1.2 MB/s eta 0:00:02\r",
      "\u001b[K     |██████████████████████▊         | 3.3 MB 1.2 MB/s eta 0:00:02\r",
      "\u001b[K     |██████████████████████▉         | 3.3 MB 1.2 MB/s eta 0:00:02\r",
      "\u001b[K     |███████████████████████         | 3.3 MB 1.2 MB/s eta 0:00:02\r",
      "\u001b[K     |███████████████████████         | 3.3 MB 1.2 MB/s eta 0:00:02\r",
      "\u001b[K     |███████████████████████         | 3.3 MB 1.2 MB/s eta 0:00:02\r",
      "\u001b[K     |███████████████████████         | 3.4 MB 1.2 MB/s eta 0:00:02\r",
      "\u001b[K     |███████████████████████▏        | 3.4 MB 1.2 MB/s eta 0:00:02\r",
      "\u001b[K     |███████████████████████▎        | 3.4 MB 1.2 MB/s eta 0:00:02\r",
      "\u001b[K     |███████████████████████▎        | 3.4 MB 1.2 MB/s eta 0:00:02\r",
      "\u001b[K     |███████████████████████▍        | 3.4 MB 1.2 MB/s eta 0:00:02\r",
      "\u001b[K     |███████████████████████▌        | 3.4 MB 1.2 MB/s eta 0:00:02\r",
      "\u001b[K     |███████████████████████▌        | 3.4 MB 1.2 MB/s eta 0:00:01\r",
      "\u001b[K     |███████████████████████▋        | 3.4 MB 1.2 MB/s eta 0:00:01\r",
      "\u001b[K     |███████████████████████▊        | 3.4 MB 1.2 MB/s eta 0:00:01\r",
      "\u001b[K     |███████████████████████▊        | 3.5 MB 1.2 MB/s eta 0:00:01\r",
      "\u001b[K     |███████████████████████▉        | 3.5 MB 1.2 MB/s eta 0:00:01\r",
      "\u001b[K     |███████████████████████▉        | 3.5 MB 1.2 MB/s eta 0:00:01\r",
      "\u001b[K     |████████████████████████        | 3.5 MB 1.2 MB/s eta 0:00:01\r",
      "\u001b[K     |████████████████████████        | 3.5 MB 1.2 MB/s eta 0:00:01\r",
      "\u001b[K     |████████████████████████        | 3.5 MB 1.2 MB/s eta 0:00:01\r",
      "\u001b[K     |████████████████████████▏       | 3.5 MB 1.2 MB/s eta 0:00:01\r",
      "\u001b[K     |████████████████████████▎       | 3.5 MB 1.2 MB/s eta 0:00:01\r",
      "\u001b[K     |████████████████████████▎       | 3.5 MB 1.2 MB/s eta 0:00:01\r",
      "\u001b[K     |████████████████████████▍       | 3.5 MB 1.2 MB/s eta 0:00:01\r",
      "\u001b[K     |████████████████████████▌       | 3.6 MB 1.2 MB/s eta 0:00:01\r",
      "\u001b[K     |████████████████████████▌       | 3.6 MB 1.2 MB/s eta 0:00:01\r",
      "\u001b[K     |████████████████████████▋       | 3.6 MB 1.2 MB/s eta 0:00:01\r",
      "\u001b[K     |████████████████████████▋       | 3.6 MB 1.2 MB/s eta 0:00:01\r",
      "\u001b[K     |████████████████████████▊       | 3.6 MB 1.2 MB/s eta 0:00:01\r",
      "\u001b[K     |████████████████████████▉       | 3.6 MB 1.2 MB/s eta 0:00:01\r",
      "\u001b[K     |████████████████████████▉       | 3.6 MB 1.2 MB/s eta 0:00:01\r",
      "\u001b[K     |█████████████████████████       | 3.6 MB 1.2 MB/s eta 0:00:01\r",
      "\u001b[K     |█████████████████████████       | 3.6 MB 1.2 MB/s eta 0:00:01\r",
      "\u001b[K     |█████████████████████████       | 3.6 MB 1.2 MB/s eta 0:00:01\r",
      "\u001b[K     |█████████████████████████▏      | 3.7 MB 1.2 MB/s eta 0:00:01"
     ]
    },
    {
     "name": "stdout",
     "output_type": "stream",
     "text": [
      "\r",
      "\u001b[K     |█████████████████████████▎      | 3.7 MB 1.2 MB/s eta 0:00:01\r",
      "\u001b[K     |█████████████████████████▎      | 3.7 MB 1.2 MB/s eta 0:00:01\r",
      "\u001b[K     |█████████████████████████▍      | 3.7 MB 1.2 MB/s eta 0:00:01\r",
      "\u001b[K     |█████████████████████████▍      | 3.7 MB 1.2 MB/s eta 0:00:01\r",
      "\u001b[K     |█████████████████████████▌      | 3.7 MB 1.2 MB/s eta 0:00:01\r",
      "\u001b[K     |█████████████████████████▋      | 3.7 MB 1.2 MB/s eta 0:00:01\r",
      "\u001b[K     |█████████████████████████▋      | 3.7 MB 1.2 MB/s eta 0:00:01\r",
      "\u001b[K     |█████████████████████████▊      | 3.7 MB 1.2 MB/s eta 0:00:01\r",
      "\u001b[K     |█████████████████████████▉      | 3.7 MB 1.2 MB/s eta 0:00:01\r",
      "\u001b[K     |█████████████████████████▉      | 3.8 MB 1.2 MB/s eta 0:00:01\r",
      "\u001b[K     |██████████████████████████      | 3.8 MB 1.2 MB/s eta 0:00:01\r",
      "\u001b[K     |██████████████████████████      | 3.8 MB 1.2 MB/s eta 0:00:01\r",
      "\u001b[K     |██████████████████████████      | 3.8 MB 1.2 MB/s eta 0:00:01\r",
      "\u001b[K     |██████████████████████████▏     | 3.8 MB 1.2 MB/s eta 0:00:01\r",
      "\u001b[K     |██████████████████████████▏     | 3.8 MB 1.2 MB/s eta 0:00:01\r",
      "\u001b[K     |██████████████████████████▎     | 3.8 MB 1.2 MB/s eta 0:00:01\r",
      "\u001b[K     |██████████████████████████▍     | 3.8 MB 1.2 MB/s eta 0:00:01\r",
      "\u001b[K     |██████████████████████████▍     | 3.8 MB 1.2 MB/s eta 0:00:01\r",
      "\u001b[K     |██████████████████████████▌     | 3.9 MB 1.2 MB/s eta 0:00:01\r",
      "\u001b[K     |██████████████████████████▋     | 3.9 MB 1.2 MB/s eta 0:00:01\r",
      "\u001b[K     |██████████████████████████▋     | 3.9 MB 1.2 MB/s eta 0:00:01\r",
      "\u001b[K     |██████████████████████████▊     | 3.9 MB 1.2 MB/s eta 0:00:01\r",
      "\u001b[K     |██████████████████████████▊     | 3.9 MB 1.2 MB/s eta 0:00:01\r",
      "\u001b[K     |██████████████████████████▉     | 3.9 MB 1.2 MB/s eta 0:00:01\r",
      "\u001b[K     |███████████████████████████     | 3.9 MB 1.2 MB/s eta 0:00:01\r",
      "\u001b[K     |███████████████████████████     | 3.9 MB 1.2 MB/s eta 0:00:01\r",
      "\u001b[K     |███████████████████████████     | 3.9 MB 1.2 MB/s eta 0:00:01\r",
      "\u001b[K     |███████████████████████████▏    | 3.9 MB 1.2 MB/s eta 0:00:01\r",
      "\u001b[K     |███████████████████████████▏    | 4.0 MB 1.2 MB/s eta 0:00:01\r",
      "\u001b[K     |███████████████████████████▎    | 4.0 MB 1.2 MB/s eta 0:00:01\r",
      "\u001b[K     |███████████████████████████▍    | 4.0 MB 1.2 MB/s eta 0:00:01\r",
      "\u001b[K     |███████████████████████████▍    | 4.0 MB 1.2 MB/s eta 0:00:01\r",
      "\u001b[K     |███████████████████████████▌    | 4.0 MB 1.2 MB/s eta 0:00:01\r",
      "\u001b[K     |███████████████████████████▌    | 4.0 MB 1.2 MB/s eta 0:00:01\r",
      "\u001b[K     |███████████████████████████▋    | 4.0 MB 1.2 MB/s eta 0:00:01\r",
      "\u001b[K     |███████████████████████████▊    | 4.0 MB 1.2 MB/s eta 0:00:01\r",
      "\u001b[K     |███████████████████████████▊    | 4.0 MB 1.2 MB/s eta 0:00:01\r",
      "\u001b[K     |███████████████████████████▉    | 4.0 MB 1.2 MB/s eta 0:00:01"
     ]
    },
    {
     "name": "stdout",
     "output_type": "stream",
     "text": [
      "\r",
      "\u001b[K     |████████████████████████████    | 4.1 MB 1.2 MB/s eta 0:00:01\r",
      "\u001b[K     |████████████████████████████    | 4.1 MB 1.2 MB/s eta 0:00:01\r",
      "\u001b[K     |████████████████████████████    | 4.1 MB 1.2 MB/s eta 0:00:01\r",
      "\u001b[K     |████████████████████████████    | 4.1 MB 1.2 MB/s eta 0:00:01\r",
      "\u001b[K     |████████████████████████████▏   | 4.1 MB 1.2 MB/s eta 0:00:01\r",
      "\u001b[K     |████████████████████████████▎   | 4.1 MB 1.2 MB/s eta 0:00:01\r",
      "\u001b[K     |████████████████████████████▎   | 4.1 MB 1.2 MB/s eta 0:00:01\r",
      "\u001b[K     |████████████████████████████▍   | 4.1 MB 1.2 MB/s eta 0:00:01\r",
      "\u001b[K     |████████████████████████████▌   | 4.1 MB 1.2 MB/s eta 0:00:01\r",
      "\u001b[K     |████████████████████████████▌   | 4.1 MB 1.2 MB/s eta 0:00:01\r",
      "\u001b[K     |████████████████████████████▋   | 4.2 MB 1.2 MB/s eta 0:00:01\r",
      "\u001b[K     |████████████████████████████▊   | 4.2 MB 1.2 MB/s eta 0:00:01\r",
      "\u001b[K     |████████████████████████████▊   | 4.2 MB 1.2 MB/s eta 0:00:01\r",
      "\u001b[K     |████████████████████████████▉   | 4.2 MB 1.2 MB/s eta 0:00:01\r",
      "\u001b[K     |████████████████████████████▉   | 4.2 MB 1.2 MB/s eta 0:00:01\r",
      "\u001b[K     |█████████████████████████████   | 4.2 MB 1.2 MB/s eta 0:00:01\r",
      "\u001b[K     |█████████████████████████████   | 4.2 MB 1.2 MB/s eta 0:00:01\r",
      "\u001b[K     |█████████████████████████████   | 4.2 MB 1.2 MB/s eta 0:00:01\r",
      "\u001b[K     |█████████████████████████████▏  | 4.2 MB 1.2 MB/s eta 0:00:01\r",
      "\u001b[K     |█████████████████████████████▎  | 4.2 MB 1.2 MB/s eta 0:00:01\r",
      "\u001b[K     |█████████████████████████████▎  | 4.3 MB 1.2 MB/s eta 0:00:01\r",
      "\u001b[K     |█████████████████████████████▍  | 4.3 MB 1.2 MB/s eta 0:00:01\r",
      "\u001b[K     |█████████████████████████████▌  | 4.3 MB 1.2 MB/s eta 0:00:01\r",
      "\u001b[K     |█████████████████████████████▌  | 4.3 MB 1.2 MB/s eta 0:00:01\r",
      "\u001b[K     |█████████████████████████████▋  | 4.3 MB 1.2 MB/s eta 0:00:01\r",
      "\u001b[K     |█████████████████████████████▋  | 4.3 MB 1.2 MB/s eta 0:00:01\r",
      "\u001b[K     |█████████████████████████████▊  | 4.3 MB 1.2 MB/s eta 0:00:01\r",
      "\u001b[K     |█████████████████████████████▉  | 4.3 MB 1.2 MB/s eta 0:00:01\r",
      "\u001b[K     |█████████████████████████████▉  | 4.3 MB 1.2 MB/s eta 0:00:01\r",
      "\u001b[K     |██████████████████████████████  | 4.4 MB 1.2 MB/s eta 0:00:01\r",
      "\u001b[K     |██████████████████████████████  | 4.4 MB 1.2 MB/s eta 0:00:01\r",
      "\u001b[K     |██████████████████████████████  | 4.4 MB 1.2 MB/s eta 0:00:01\r",
      "\u001b[K     |██████████████████████████████▏ | 4.4 MB 1.2 MB/s eta 0:00:01\r",
      "\u001b[K     |██████████████████████████████▎ | 4.4 MB 1.2 MB/s eta 0:00:01\r",
      "\u001b[K     |██████████████████████████████▎ | 4.4 MB 1.2 MB/s eta 0:00:01\r",
      "\u001b[K     |██████████████████████████████▍ | 4.4 MB 1.2 MB/s eta 0:00:01\r",
      "\u001b[K     |██████████████████████████████▍ | 4.4 MB 1.2 MB/s eta 0:00:01\r",
      "\u001b[K     |██████████████████████████████▌ | 4.4 MB 1.2 MB/s eta 0:00:01\r",
      "\u001b[K     |██████████████████████████████▋ | 4.4 MB 1.2 MB/s eta 0:00:01\r",
      "\u001b[K     |██████████████████████████████▋ | 4.5 MB 1.2 MB/s eta 0:00:01\r",
      "\u001b[K     |██████████████████████████████▊ | 4.5 MB 1.2 MB/s eta 0:00:01\r",
      "\u001b[K     |██████████████████████████████▉ | 4.5 MB 1.2 MB/s eta 0:00:01\r",
      "\u001b[K     |██████████████████████████████▉ | 4.5 MB 1.2 MB/s eta 0:00:01\r",
      "\u001b[K     |███████████████████████████████ | 4.5 MB 1.2 MB/s eta 0:00:01"
     ]
    },
    {
     "name": "stdout",
     "output_type": "stream",
     "text": [
      "\r",
      "\u001b[K     |███████████████████████████████ | 4.5 MB 1.2 MB/s eta 0:00:01\r",
      "\u001b[K     |███████████████████████████████ | 4.5 MB 1.2 MB/s eta 0:00:01\r",
      "\u001b[K     |███████████████████████████████▏| 4.5 MB 1.2 MB/s eta 0:00:01\r",
      "\u001b[K     |███████████████████████████████▏| 4.5 MB 1.2 MB/s eta 0:00:01\r",
      "\u001b[K     |███████████████████████████████▎| 4.5 MB 1.2 MB/s eta 0:00:01\r",
      "\u001b[K     |███████████████████████████████▍| 4.6 MB 1.2 MB/s eta 0:00:01\r",
      "\u001b[K     |███████████████████████████████▍| 4.6 MB 1.2 MB/s eta 0:00:01\r",
      "\u001b[K     |███████████████████████████████▌| 4.6 MB 1.2 MB/s eta 0:00:01\r",
      "\u001b[K     |███████████████████████████████▋| 4.6 MB 1.2 MB/s eta 0:00:01\r",
      "\u001b[K     |███████████████████████████████▋| 4.6 MB 1.2 MB/s eta 0:00:01\r",
      "\u001b[K     |███████████████████████████████▊| 4.6 MB 1.2 MB/s eta 0:00:01\r",
      "\u001b[K     |███████████████████████████████▊| 4.6 MB 1.2 MB/s eta 0:00:01\r",
      "\u001b[K     |███████████████████████████████▉| 4.6 MB 1.2 MB/s eta 0:00:01\r",
      "\u001b[K     |████████████████████████████████| 4.6 MB 1.2 MB/s eta 0:00:01\r",
      "\u001b[K     |████████████████████████████████| 4.6 MB 1.2 MB/s eta 0:00:01\r",
      "\u001b[K     |████████████████████████████████| 4.7 MB 1.2 MB/s \r\n"
     ]
    },
    {
     "name": "stdout",
     "output_type": "stream",
     "text": [
      "\u001b[?25hRequirement already satisfied: numpy in /opt/conda/lib/python3.7/site-packages (from faiss) (1.19.5)\r\n"
     ]
    },
    {
     "name": "stdout",
     "output_type": "stream",
     "text": [
      "Installing collected packages: npy-append-array, faiss\r\n"
     ]
    },
    {
     "name": "stdout",
     "output_type": "stream",
     "text": [
      "Successfully installed faiss-1.5.3 npy-append-array-0.9.6\r\n"
     ]
    }
   ],
   "source": [
    "!pip install npy-append-array faiss "
   ]
  },
  {
   "cell_type": "code",
   "execution_count": 7,
   "id": "dying-figure",
   "metadata": {
    "execution": {
     "iopub.execute_input": "2021-05-27T17:49:19.797610Z",
     "iopub.status.busy": "2021-05-27T17:49:19.794372Z",
     "iopub.status.idle": "2021-05-27T17:49:26.267338Z",
     "shell.execute_reply": "2021-05-27T17:49:26.267965Z"
    },
    "papermill": {
     "duration": 6.513501,
     "end_time": "2021-05-27T17:49:26.268187",
     "exception": false,
     "start_time": "2021-05-27T17:49:19.754686",
     "status": "completed"
    },
    "tags": []
   },
   "outputs": [],
   "source": [
    "%%capture\n",
    "!apt-get -y install zsh"
   ]
  },
  {
   "cell_type": "code",
   "execution_count": 8,
   "id": "stone-wildlife",
   "metadata": {
    "execution": {
     "iopub.execute_input": "2021-05-27T17:49:26.360315Z",
     "iopub.status.busy": "2021-05-27T17:49:26.356393Z"
    },
    "papermill": {
     "duration": null,
     "end_time": null,
     "exception": false,
     "start_time": "2021-05-27T17:49:26.317424",
     "status": "running"
    },
    "tags": []
   },
   "outputs": [
    {
     "name": "stdout",
     "output_type": "stream",
     "text": [
      "using 512 dim for PCA\r\n"
     ]
    },
    {
     "name": "stdout",
     "output_type": "stream",
     "text": [
      "\r",
      "  0%|                                                  | 0/2027 [00:00<?, ?it/s]\r",
      "  0%|                                                  | 0/2027 [00:00<?, ?it/s]\r\n",
      "Traceback (most recent call last):\r\n",
      "  File \"wav2vec_extract_features.py\", line 117, in <module>\r\n",
      "    main()\r\n",
      "  File \"wav2vec_extract_features.py\", line 109, in main\r\n",
      "    for w2v_feats in tqdm.tqdm(iterator, total=num):\r\n",
      "  File \"/opt/conda/lib/python3.7/site-packages/tqdm/std.py\", line 1178, in __iter__\r\n",
      "    for obj in iterable:\r\n",
      "  File \"wav2vec_extract_features.py\", line 78, in iterate\r\n",
      "    w2v_feats = reader.get_feats(fname)\r\n",
      "  File \"wav2vec_extract_features.py\", line 54, in get_feats\r\n",
      "    x = self.read_audio(loc)\r\n",
      "  File \"wav2vec_extract_features.py\", line 48, in read_audio\r\n",
      "    wav, sr = sf.read(fname)\r\n",
      "  File \"/opt/conda/lib/python3.7/site-packages/soundfile.py\", line 257, in read\r\n",
      "    subtype, endian, format, closefd) as f:\r\n",
      "  File \"/opt/conda/lib/python3.7/site-packages/soundfile.py\", line 629, in __init__\r\n",
      "    self._file = self._open(file, mode_int, closefd)\r\n",
      "  File \"/opt/conda/lib/python3.7/site-packages/soundfile.py\", line 1184, in _open\r\n",
      "    \"Error opening {0!r}: \".format(self.name))\r\n",
      "  File \"/opt/conda/lib/python3.7/site-packages/soundfile.py\", line 1357, in _error_check\r\n",
      "    raise RuntimeError(prefix + _ffi.string(err_str).decode('utf-8', 'replace'))\r\n",
      "RuntimeError: Error opening '/kaggle/input/wav2vec-u-cv-swedish-vads/wav/train/common-voice-swedish-16bit-wav/common_voice_sv-SE_23828220.wav': System error.\r\n"
     ]
    },
    {
     "name": "stdout",
     "output_type": "stream",
     "text": [
      "\r",
      "  0%|                                                  | 0/2027 [00:00<?, ?it/s]\r",
      "  0%|                                                  | 0/2027 [00:00<?, ?it/s]\r\n",
      "Traceback (most recent call last):\r\n",
      "  File \"wav2vec_extract_features.py\", line 117, in <module>\r\n",
      "    main()\r\n",
      "  File \"wav2vec_extract_features.py\", line 109, in main\r\n",
      "    for w2v_feats in tqdm.tqdm(iterator, total=num):\r\n",
      "  File \"/opt/conda/lib/python3.7/site-packages/tqdm/std.py\", line 1178, in __iter__\r\n",
      "    for obj in iterable:\r\n",
      "  File \"wav2vec_extract_features.py\", line 78, in iterate\r\n",
      "    w2v_feats = reader.get_feats(fname)\r\n",
      "  File \"wav2vec_extract_features.py\", line 54, in get_feats\r\n",
      "    x = self.read_audio(loc)\r\n",
      "  File \"wav2vec_extract_features.py\", line 48, in read_audio\r\n",
      "    wav, sr = sf.read(fname)\r\n",
      "  File \"/opt/conda/lib/python3.7/site-packages/soundfile.py\", line 257, in read\r\n",
      "    subtype, endian, format, closefd) as f:\r\n",
      "  File \"/opt/conda/lib/python3.7/site-packages/soundfile.py\", line 629, in __init__\r\n",
      "    self._file = self._open(file, mode_int, closefd)\r\n",
      "  File \"/opt/conda/lib/python3.7/site-packages/soundfile.py\", line 1184, in _open\r\n",
      "    \"Error opening {0!r}: \".format(self.name))\r\n",
      "  File \"/opt/conda/lib/python3.7/site-packages/soundfile.py\", line 1357, in _error_check\r\n",
      "    raise RuntimeError(prefix + _ffi.string(err_str).decode('utf-8', 'replace'))\r\n",
      "RuntimeError: Error opening '/kaggle/input/wav2vec-u-cv-swedish-vads/wav/valid/common-voice-swedish-16bit-wav/common_voice_sv-SE_23828220.wav': System error.\r\n"
     ]
    },
    {
     "name": "stdout",
     "output_type": "stream",
     "text": [
      "\r",
      "  0%|                                                  | 0/2027 [00:00<?, ?it/s]"
     ]
    },
    {
     "name": "stdout",
     "output_type": "stream",
     "text": [
      "\r",
      "  0%|                                          | 1/2027 [00:00<31:13,  1.08it/s]"
     ]
    },
    {
     "name": "stdout",
     "output_type": "stream",
     "text": [
      "\r",
      "  0%|                                          | 3/2027 [00:01<09:29,  3.55it/s]"
     ]
    },
    {
     "name": "stdout",
     "output_type": "stream",
     "text": [
      "\r",
      "  0%|                                          | 5/2027 [00:01<05:34,  6.05it/s]"
     ]
    },
    {
     "name": "stdout",
     "output_type": "stream",
     "text": [
      "\r",
      "  0%|▏                                         | 8/2027 [00:01<03:21, 10.02it/s]"
     ]
    },
    {
     "name": "stdout",
     "output_type": "stream",
     "text": [
      "\r",
      "  1%|▏                                        | 11/2027 [00:01<02:42, 12.44it/s]"
     ]
    },
    {
     "name": "stdout",
     "output_type": "stream",
     "text": [
      "\r",
      "  1%|▎                                        | 13/2027 [00:01<02:31, 13.31it/s]"
     ]
    },
    {
     "name": "stdout",
     "output_type": "stream",
     "text": [
      "\r",
      "  1%|▎                                        | 15/2027 [00:01<02:16, 14.72it/s]"
     ]
    },
    {
     "name": "stdout",
     "output_type": "stream",
     "text": [
      "\r",
      "  1%|▎                                        | 18/2027 [00:01<01:57, 17.09it/s]"
     ]
    },
    {
     "name": "stdout",
     "output_type": "stream",
     "text": [
      "\r",
      "  1%|▍                                        | 21/2027 [00:01<01:46, 18.82it/s]"
     ]
    },
    {
     "name": "stdout",
     "output_type": "stream",
     "text": [
      "\r",
      "  1%|▍                                        | 24/2027 [00:02<01:40, 19.93it/s]"
     ]
    },
    {
     "name": "stdout",
     "output_type": "stream",
     "text": [
      "\r",
      "  1%|▌                                        | 27/2027 [00:02<01:41, 19.68it/s]"
     ]
    },
    {
     "name": "stdout",
     "output_type": "stream",
     "text": [
      "\r",
      "  1%|▌                                        | 30/2027 [00:02<01:32, 21.68it/s]"
     ]
    },
    {
     "name": "stdout",
     "output_type": "stream",
     "text": [
      "\r",
      "  2%|▋                                        | 33/2027 [00:02<01:29, 22.37it/s]"
     ]
    },
    {
     "name": "stdout",
     "output_type": "stream",
     "text": [
      "\r",
      "  2%|▋                                        | 36/2027 [00:02<01:24, 23.45it/s]"
     ]
    },
    {
     "name": "stdout",
     "output_type": "stream",
     "text": [
      "\r",
      "  2%|▊                                        | 39/2027 [00:02<01:24, 23.54it/s]"
     ]
    },
    {
     "name": "stdout",
     "output_type": "stream",
     "text": [
      "\r",
      "  2%|▊                                        | 42/2027 [00:02<01:26, 22.88it/s]"
     ]
    },
    {
     "name": "stdout",
     "output_type": "stream",
     "text": [
      "\r",
      "  2%|▉                                        | 45/2027 [00:02<01:30, 21.86it/s]"
     ]
    },
    {
     "name": "stdout",
     "output_type": "stream",
     "text": [
      "\r",
      "  2%|▉                                        | 48/2027 [00:03<01:36, 20.49it/s]"
     ]
    },
    {
     "name": "stdout",
     "output_type": "stream",
     "text": [
      "\r",
      "  3%|█                                        | 51/2027 [00:03<01:27, 22.55it/s]"
     ]
    },
    {
     "name": "stdout",
     "output_type": "stream",
     "text": [
      "\r",
      "  3%|█                                        | 54/2027 [00:03<01:21, 24.11it/s]"
     ]
    },
    {
     "name": "stdout",
     "output_type": "stream",
     "text": [
      "\r",
      "  3%|█▏                                       | 57/2027 [00:03<01:26, 22.78it/s]"
     ]
    },
    {
     "name": "stdout",
     "output_type": "stream",
     "text": [
      "\r",
      "  3%|█▏                                       | 60/2027 [00:03<01:20, 24.44it/s]"
     ]
    },
    {
     "name": "stdout",
     "output_type": "stream",
     "text": [
      "\r",
      "  3%|█▎                                       | 63/2027 [00:03<01:21, 24.16it/s]"
     ]
    },
    {
     "name": "stdout",
     "output_type": "stream",
     "text": [
      "\r",
      "  3%|█▎                                       | 67/2027 [00:03<01:13, 26.58it/s]"
     ]
    },
    {
     "name": "stdout",
     "output_type": "stream",
     "text": [
      "\r",
      "  3%|█▍                                       | 70/2027 [00:03<01:13, 26.65it/s]"
     ]
    },
    {
     "name": "stdout",
     "output_type": "stream",
     "text": [
      "\r",
      "  4%|█▍                                       | 73/2027 [00:04<01:16, 25.59it/s]"
     ]
    },
    {
     "name": "stdout",
     "output_type": "stream",
     "text": [
      "\r",
      "  4%|█▌                                       | 76/2027 [00:04<01:17, 25.05it/s]"
     ]
    },
    {
     "name": "stdout",
     "output_type": "stream",
     "text": [
      "\r",
      "  4%|█▌                                       | 79/2027 [00:04<01:19, 24.42it/s]"
     ]
    },
    {
     "name": "stdout",
     "output_type": "stream",
     "text": [
      "\r",
      "  4%|█▋                                       | 82/2027 [00:04<01:25, 22.68it/s]"
     ]
    },
    {
     "name": "stdout",
     "output_type": "stream",
     "text": [
      "\r",
      "  4%|█▋                                       | 85/2027 [00:04<01:25, 22.66it/s]"
     ]
    },
    {
     "name": "stdout",
     "output_type": "stream",
     "text": [
      "\r",
      "  4%|█▊                                       | 88/2027 [00:04<01:20, 24.15it/s]"
     ]
    },
    {
     "name": "stdout",
     "output_type": "stream",
     "text": [
      "\r",
      "  4%|█▊                                       | 91/2027 [00:04<01:16, 25.22it/s]"
     ]
    },
    {
     "name": "stdout",
     "output_type": "stream",
     "text": [
      "\r",
      "  5%|█▉                                       | 94/2027 [00:04<01:16, 25.24it/s]"
     ]
    },
    {
     "name": "stdout",
     "output_type": "stream",
     "text": [
      "\r",
      "  5%|█▉                                       | 97/2027 [00:05<01:14, 26.05it/s]"
     ]
    },
    {
     "name": "stdout",
     "output_type": "stream",
     "text": [
      "\r",
      "  5%|█▉                                      | 100/2027 [00:05<01:12, 26.74it/s]"
     ]
    },
    {
     "name": "stdout",
     "output_type": "stream",
     "text": [
      "\r",
      "  5%|██                                      | 103/2027 [00:05<01:11, 26.73it/s]"
     ]
    },
    {
     "name": "stdout",
     "output_type": "stream",
     "text": [
      "\r",
      "  5%|██                                      | 106/2027 [00:05<01:15, 25.34it/s]"
     ]
    },
    {
     "name": "stdout",
     "output_type": "stream",
     "text": [
      "\r",
      "  5%|██▏                                     | 109/2027 [00:05<01:13, 25.97it/s]"
     ]
    },
    {
     "name": "stdout",
     "output_type": "stream",
     "text": [
      "\r",
      "  6%|██▏                                     | 113/2027 [00:05<01:11, 26.78it/s]"
     ]
    },
    {
     "name": "stdout",
     "output_type": "stream",
     "text": [
      "\r",
      "  6%|██▎                                     | 116/2027 [00:05<01:11, 26.81it/s]"
     ]
    },
    {
     "name": "stdout",
     "output_type": "stream",
     "text": [
      "\r",
      "  6%|██▎                                     | 119/2027 [00:05<01:14, 25.66it/s]"
     ]
    },
    {
     "name": "stdout",
     "output_type": "stream",
     "text": [
      "\r",
      "  6%|██▍                                     | 122/2027 [00:06<01:12, 26.15it/s]"
     ]
    },
    {
     "name": "stdout",
     "output_type": "stream",
     "text": [
      "\r",
      "  6%|██▍                                     | 125/2027 [00:06<01:12, 26.11it/s]"
     ]
    },
    {
     "name": "stdout",
     "output_type": "stream",
     "text": [
      "\r",
      "  6%|██▌                                     | 128/2027 [00:06<01:12, 26.37it/s]"
     ]
    },
    {
     "name": "stdout",
     "output_type": "stream",
     "text": [
      "\r",
      "  7%|██▌                                     | 132/2027 [00:06<01:06, 28.46it/s]"
     ]
    },
    {
     "name": "stdout",
     "output_type": "stream",
     "text": [
      "\r",
      "  7%|██▋                                     | 135/2027 [00:06<01:10, 26.68it/s]"
     ]
    },
    {
     "name": "stdout",
     "output_type": "stream",
     "text": [
      "\r",
      "  7%|██▋                                     | 138/2027 [00:06<01:14, 25.45it/s]"
     ]
    },
    {
     "name": "stdout",
     "output_type": "stream",
     "text": [
      "\r",
      "  7%|██▊                                     | 141/2027 [00:06<01:13, 25.82it/s]"
     ]
    },
    {
     "name": "stdout",
     "output_type": "stream",
     "text": [
      "\r",
      "  7%|██▊                                     | 144/2027 [00:06<01:13, 25.76it/s]"
     ]
    },
    {
     "name": "stdout",
     "output_type": "stream",
     "text": [
      "\r",
      "  7%|██▉                                     | 148/2027 [00:06<01:07, 27.84it/s]"
     ]
    },
    {
     "name": "stdout",
     "output_type": "stream",
     "text": [
      "\r",
      "  7%|██▉                                     | 151/2027 [00:07<01:06, 28.18it/s]"
     ]
    },
    {
     "name": "stdout",
     "output_type": "stream",
     "text": [
      "\r",
      "  8%|███                                     | 154/2027 [00:07<01:10, 26.58it/s]"
     ]
    },
    {
     "name": "stdout",
     "output_type": "stream",
     "text": [
      "\r",
      "  8%|███                                     | 157/2027 [00:07<01:09, 26.84it/s]"
     ]
    },
    {
     "name": "stdout",
     "output_type": "stream",
     "text": [
      "\r",
      "  8%|███▏                                    | 160/2027 [00:07<01:12, 25.60it/s]"
     ]
    },
    {
     "name": "stdout",
     "output_type": "stream",
     "text": [
      "\r",
      "  8%|███▏                                    | 164/2027 [00:07<01:06, 27.91it/s]"
     ]
    },
    {
     "name": "stdout",
     "output_type": "stream",
     "text": [
      "\r",
      "  8%|███▎                                    | 167/2027 [00:07<01:08, 27.21it/s]"
     ]
    },
    {
     "name": "stdout",
     "output_type": "stream",
     "text": [
      "\r",
      "  8%|███▎                                    | 170/2027 [00:07<01:06, 27.79it/s]"
     ]
    },
    {
     "name": "stdout",
     "output_type": "stream",
     "text": [
      "\r",
      "  9%|███▍                                    | 173/2027 [00:07<01:08, 27.07it/s]"
     ]
    },
    {
     "name": "stdout",
     "output_type": "stream",
     "text": [
      "\r",
      "  9%|███▍                                    | 176/2027 [00:08<01:09, 26.59it/s]"
     ]
    },
    {
     "name": "stdout",
     "output_type": "stream",
     "text": [
      "\r",
      "  9%|███▌                                    | 179/2027 [00:08<01:10, 26.21it/s]"
     ]
    },
    {
     "name": "stdout",
     "output_type": "stream",
     "text": [
      "\r",
      "  9%|███▌                                    | 182/2027 [00:08<01:10, 26.08it/s]"
     ]
    },
    {
     "name": "stdout",
     "output_type": "stream",
     "text": [
      "\r",
      "  9%|███▋                                    | 185/2027 [00:08<01:11, 25.90it/s]"
     ]
    },
    {
     "name": "stdout",
     "output_type": "stream",
     "text": [
      "\r",
      "  9%|███▋                                    | 188/2027 [00:08<01:09, 26.36it/s]"
     ]
    },
    {
     "name": "stdout",
     "output_type": "stream",
     "text": [
      "\r",
      "  9%|███▊                                    | 192/2027 [00:08<01:06, 27.71it/s]"
     ]
    },
    {
     "name": "stdout",
     "output_type": "stream",
     "text": [
      "\r",
      " 10%|███▊                                    | 195/2027 [00:08<01:04, 28.22it/s]"
     ]
    },
    {
     "name": "stdout",
     "output_type": "stream",
     "text": [
      "\r",
      " 10%|███▉                                    | 198/2027 [00:08<01:07, 27.18it/s]"
     ]
    },
    {
     "name": "stdout",
     "output_type": "stream",
     "text": [
      "\r",
      " 10%|███▉                                    | 201/2027 [00:08<01:05, 27.90it/s]"
     ]
    },
    {
     "name": "stdout",
     "output_type": "stream",
     "text": [
      "\r",
      " 10%|████                                    | 205/2027 [00:09<01:01, 29.40it/s]"
     ]
    },
    {
     "name": "stdout",
     "output_type": "stream",
     "text": [
      "\r",
      " 10%|████                                    | 208/2027 [00:09<01:04, 28.18it/s]"
     ]
    },
    {
     "name": "stdout",
     "output_type": "stream",
     "text": [
      "\r",
      " 10%|████▏                                   | 211/2027 [00:09<01:05, 27.93it/s]"
     ]
    },
    {
     "name": "stdout",
     "output_type": "stream",
     "text": [
      "\r",
      " 11%|████▏                                   | 214/2027 [00:09<01:04, 28.11it/s]"
     ]
    },
    {
     "name": "stdout",
     "output_type": "stream",
     "text": [
      "\r",
      " 11%|████▎                                   | 217/2027 [00:09<01:06, 27.33it/s]"
     ]
    },
    {
     "name": "stdout",
     "output_type": "stream",
     "text": [
      "\r",
      " 11%|████▎                                   | 220/2027 [00:09<01:14, 24.14it/s]"
     ]
    },
    {
     "name": "stdout",
     "output_type": "stream",
     "text": [
      "\r",
      " 11%|████▍                                   | 223/2027 [00:09<01:14, 24.08it/s]"
     ]
    },
    {
     "name": "stdout",
     "output_type": "stream",
     "text": [
      "\r",
      " 11%|████▍                                   | 226/2027 [00:09<01:11, 25.23it/s]"
     ]
    },
    {
     "name": "stdout",
     "output_type": "stream",
     "text": [
      "\r",
      " 11%|████▌                                   | 229/2027 [00:10<01:09, 26.03it/s]"
     ]
    },
    {
     "name": "stdout",
     "output_type": "stream",
     "text": [
      "\r",
      " 11%|████▌                                   | 232/2027 [00:10<01:10, 25.36it/s]"
     ]
    },
    {
     "name": "stdout",
     "output_type": "stream",
     "text": [
      "\r",
      " 12%|████▋                                   | 236/2027 [00:10<01:06, 26.86it/s]"
     ]
    },
    {
     "name": "stdout",
     "output_type": "stream",
     "text": [
      "\r",
      " 12%|████▋                                   | 240/2027 [00:10<01:01, 29.14it/s]"
     ]
    },
    {
     "name": "stdout",
     "output_type": "stream",
     "text": [
      "\r",
      " 12%|████▊                                   | 244/2027 [00:10<00:57, 30.75it/s]"
     ]
    },
    {
     "name": "stdout",
     "output_type": "stream",
     "text": [
      "\r",
      " 12%|████▉                                   | 248/2027 [00:10<01:01, 28.99it/s]"
     ]
    },
    {
     "name": "stdout",
     "output_type": "stream",
     "text": [
      "\r",
      " 12%|████▉                                   | 252/2027 [00:10<00:58, 30.40it/s]"
     ]
    },
    {
     "name": "stdout",
     "output_type": "stream",
     "text": [
      "\r",
      " 13%|█████                                   | 256/2027 [00:10<00:56, 31.25it/s]"
     ]
    },
    {
     "name": "stdout",
     "output_type": "stream",
     "text": [
      "\r",
      " 13%|█████▏                                  | 260/2027 [00:11<00:58, 30.34it/s]"
     ]
    },
    {
     "name": "stdout",
     "output_type": "stream",
     "text": [
      "\r",
      " 13%|█████▏                                  | 264/2027 [00:11<01:01, 28.64it/s]"
     ]
    },
    {
     "name": "stdout",
     "output_type": "stream",
     "text": [
      "\r",
      " 13%|█████▎                                  | 268/2027 [00:11<01:00, 29.25it/s]"
     ]
    },
    {
     "name": "stdout",
     "output_type": "stream",
     "text": [
      "\r",
      " 13%|█████▎                                  | 272/2027 [00:11<01:02, 28.27it/s]"
     ]
    },
    {
     "name": "stdout",
     "output_type": "stream",
     "text": [
      "\r",
      " 14%|█████▍                                  | 276/2027 [00:11<01:01, 28.49it/s]"
     ]
    },
    {
     "name": "stdout",
     "output_type": "stream",
     "text": [
      "\r",
      " 14%|█████▌                                  | 279/2027 [00:11<01:04, 26.97it/s]"
     ]
    },
    {
     "name": "stdout",
     "output_type": "stream",
     "text": [
      "\r",
      " 14%|█████▌                                  | 283/2027 [00:11<01:02, 28.00it/s]"
     ]
    },
    {
     "name": "stdout",
     "output_type": "stream",
     "text": [
      "\r",
      " 14%|█████▋                                  | 287/2027 [00:12<01:00, 28.97it/s]"
     ]
    },
    {
     "name": "stdout",
     "output_type": "stream",
     "text": [
      "\r",
      " 14%|█████▋                                  | 290/2027 [00:12<00:59, 28.99it/s]"
     ]
    },
    {
     "name": "stdout",
     "output_type": "stream",
     "text": [
      "\r",
      " 14%|█████▊                                  | 293/2027 [00:12<01:01, 28.37it/s]"
     ]
    },
    {
     "name": "stdout",
     "output_type": "stream",
     "text": [
      "\r",
      " 15%|█████▊                                  | 296/2027 [00:12<01:06, 26.00it/s]"
     ]
    },
    {
     "name": "stdout",
     "output_type": "stream",
     "text": [
      "\r",
      " 15%|█████▉                                  | 299/2027 [00:12<01:07, 25.61it/s]"
     ]
    },
    {
     "name": "stdout",
     "output_type": "stream",
     "text": [
      "\r",
      " 15%|█████▉                                  | 302/2027 [00:12<01:08, 25.14it/s]"
     ]
    },
    {
     "name": "stdout",
     "output_type": "stream",
     "text": [
      "\r",
      " 15%|██████                                  | 305/2027 [00:12<01:09, 24.76it/s]"
     ]
    },
    {
     "name": "stdout",
     "output_type": "stream",
     "text": [
      "\r",
      " 15%|██████                                  | 308/2027 [00:12<01:06, 25.78it/s]"
     ]
    },
    {
     "name": "stdout",
     "output_type": "stream",
     "text": [
      "\r",
      " 15%|██████▏                                 | 311/2027 [00:12<01:05, 26.00it/s]"
     ]
    },
    {
     "name": "stdout",
     "output_type": "stream",
     "text": [
      "\r",
      " 16%|██████▏                                 | 315/2027 [00:13<01:02, 27.61it/s]"
     ]
    },
    {
     "name": "stdout",
     "output_type": "stream",
     "text": [
      "\r",
      " 16%|██████▎                                 | 319/2027 [00:13<00:58, 29.44it/s]"
     ]
    },
    {
     "name": "stdout",
     "output_type": "stream",
     "text": [
      "\r",
      " 16%|██████▎                                 | 323/2027 [00:13<00:55, 30.67it/s]"
     ]
    },
    {
     "name": "stdout",
     "output_type": "stream",
     "text": [
      "\r",
      " 16%|██████▍                                 | 327/2027 [00:13<00:54, 31.28it/s]"
     ]
    },
    {
     "name": "stdout",
     "output_type": "stream",
     "text": [
      "\r",
      " 16%|██████▌                                 | 331/2027 [00:13<00:56, 29.85it/s]"
     ]
    },
    {
     "name": "stdout",
     "output_type": "stream",
     "text": [
      "\r",
      " 17%|██████▌                                 | 335/2027 [00:13<00:59, 28.32it/s]"
     ]
    },
    {
     "name": "stdout",
     "output_type": "stream",
     "text": [
      "\r",
      " 17%|██████▋                                 | 339/2027 [00:13<00:55, 30.18it/s]"
     ]
    },
    {
     "name": "stdout",
     "output_type": "stream",
     "text": [
      "\r",
      " 17%|██████▊                                 | 343/2027 [00:14<00:58, 28.75it/s]"
     ]
    },
    {
     "name": "stdout",
     "output_type": "stream",
     "text": [
      "\r",
      " 17%|██████▊                                 | 346/2027 [00:14<01:00, 27.75it/s]"
     ]
    },
    {
     "name": "stdout",
     "output_type": "stream",
     "text": [
      "\r",
      " 17%|██████▉                                 | 349/2027 [00:14<01:05, 25.68it/s]"
     ]
    },
    {
     "name": "stdout",
     "output_type": "stream",
     "text": [
      "\r",
      " 17%|██████▉                                 | 352/2027 [00:14<01:08, 24.39it/s]"
     ]
    },
    {
     "name": "stdout",
     "output_type": "stream",
     "text": [
      "\r",
      " 18%|███████                                 | 356/2027 [00:14<01:01, 27.11it/s]"
     ]
    },
    {
     "name": "stdout",
     "output_type": "stream",
     "text": [
      "\r",
      " 18%|███████                                 | 360/2027 [00:14<00:58, 28.30it/s]"
     ]
    },
    {
     "name": "stdout",
     "output_type": "stream",
     "text": [
      "\r",
      " 18%|███████▏                                | 363/2027 [00:14<01:01, 26.93it/s]"
     ]
    },
    {
     "name": "stdout",
     "output_type": "stream",
     "text": [
      "\r",
      " 18%|███████▏                                | 366/2027 [00:14<01:00, 27.61it/s]"
     ]
    },
    {
     "name": "stdout",
     "output_type": "stream",
     "text": [
      "\r",
      " 18%|███████▎                                | 369/2027 [00:14<01:00, 27.24it/s]"
     ]
    },
    {
     "name": "stdout",
     "output_type": "stream",
     "text": [
      "\r",
      " 18%|███████▎                                | 372/2027 [00:15<01:02, 26.54it/s]"
     ]
    },
    {
     "name": "stdout",
     "output_type": "stream",
     "text": [
      "\r",
      " 19%|███████▍                                | 375/2027 [00:15<01:01, 26.95it/s]"
     ]
    },
    {
     "name": "stdout",
     "output_type": "stream",
     "text": [
      "\r",
      " 19%|███████▍                                | 378/2027 [00:15<01:01, 26.80it/s]"
     ]
    },
    {
     "name": "stdout",
     "output_type": "stream",
     "text": [
      "\r",
      " 19%|███████▌                                | 381/2027 [00:15<01:00, 27.23it/s]"
     ]
    },
    {
     "name": "stdout",
     "output_type": "stream",
     "text": [
      "\r",
      " 19%|███████▌                                | 385/2027 [00:15<00:57, 28.34it/s]"
     ]
    },
    {
     "name": "stdout",
     "output_type": "stream",
     "text": [
      "\r",
      " 19%|███████▋                                | 388/2027 [00:15<00:58, 27.95it/s]"
     ]
    },
    {
     "name": "stdout",
     "output_type": "stream",
     "text": [
      "\r",
      " 19%|███████▋                                | 392/2027 [00:15<00:56, 29.09it/s]"
     ]
    },
    {
     "name": "stdout",
     "output_type": "stream",
     "text": [
      "\r",
      " 19%|███████▊                                | 395/2027 [00:15<00:58, 27.96it/s]"
     ]
    },
    {
     "name": "stdout",
     "output_type": "stream",
     "text": [
      "\r",
      " 20%|███████▊                                | 399/2027 [00:16<00:58, 28.05it/s]"
     ]
    },
    {
     "name": "stdout",
     "output_type": "stream",
     "text": [
      "\r",
      " 20%|███████▉                                | 403/2027 [00:16<00:55, 29.06it/s]"
     ]
    },
    {
     "name": "stdout",
     "output_type": "stream",
     "text": [
      "\r",
      " 20%|████████                                | 407/2027 [00:16<00:53, 30.44it/s]"
     ]
    },
    {
     "name": "stdout",
     "output_type": "stream",
     "text": [
      "\r",
      " 20%|████████                                | 411/2027 [00:16<00:54, 29.42it/s]"
     ]
    },
    {
     "name": "stdout",
     "output_type": "stream",
     "text": [
      "\r",
      " 20%|████████▏                               | 414/2027 [00:16<00:57, 28.23it/s]"
     ]
    },
    {
     "name": "stdout",
     "output_type": "stream",
     "text": [
      "\r",
      " 21%|████████▏                               | 418/2027 [00:16<00:55, 29.15it/s]"
     ]
    },
    {
     "name": "stdout",
     "output_type": "stream",
     "text": [
      "\r",
      " 21%|████████▎                               | 422/2027 [00:16<00:54, 29.35it/s]"
     ]
    },
    {
     "name": "stdout",
     "output_type": "stream",
     "text": [
      "\r",
      " 21%|████████▍                               | 426/2027 [00:16<00:52, 30.65it/s]"
     ]
    },
    {
     "name": "stdout",
     "output_type": "stream",
     "text": [
      "\r",
      " 21%|████████▍                               | 430/2027 [00:17<00:53, 29.96it/s]"
     ]
    },
    {
     "name": "stdout",
     "output_type": "stream",
     "text": [
      "\r",
      " 21%|████████▌                               | 434/2027 [00:17<00:53, 29.91it/s]"
     ]
    },
    {
     "name": "stdout",
     "output_type": "stream",
     "text": [
      "\r",
      " 22%|████████▋                               | 438/2027 [00:17<00:51, 30.57it/s]"
     ]
    },
    {
     "name": "stdout",
     "output_type": "stream",
     "text": [
      "\r",
      " 22%|████████▋                               | 442/2027 [00:17<00:53, 29.80it/s]"
     ]
    },
    {
     "name": "stdout",
     "output_type": "stream",
     "text": [
      "\r",
      " 22%|████████▊                               | 446/2027 [00:17<00:56, 28.13it/s]"
     ]
    },
    {
     "name": "stdout",
     "output_type": "stream",
     "text": [
      "\r",
      " 22%|████████▊                               | 449/2027 [00:17<00:56, 28.04it/s]"
     ]
    },
    {
     "name": "stdout",
     "output_type": "stream",
     "text": [
      "\r",
      " 22%|████████▉                               | 452/2027 [00:17<00:55, 28.20it/s]"
     ]
    },
    {
     "name": "stdout",
     "output_type": "stream",
     "text": [
      "\r",
      " 22%|████████▉                               | 455/2027 [00:17<00:56, 27.81it/s]"
     ]
    },
    {
     "name": "stdout",
     "output_type": "stream",
     "text": [
      "\r",
      " 23%|█████████                               | 458/2027 [00:18<00:56, 27.55it/s]"
     ]
    },
    {
     "name": "stdout",
     "output_type": "stream",
     "text": [
      "\r",
      " 23%|█████████                               | 461/2027 [00:18<00:56, 27.48it/s]"
     ]
    },
    {
     "name": "stdout",
     "output_type": "stream",
     "text": [
      "\r",
      " 23%|█████████▏                              | 464/2027 [00:18<00:57, 27.13it/s]"
     ]
    },
    {
     "name": "stdout",
     "output_type": "stream",
     "text": [
      "\r",
      " 23%|█████████▏                              | 468/2027 [00:18<00:54, 28.48it/s]"
     ]
    },
    {
     "name": "stdout",
     "output_type": "stream",
     "text": [
      "\r",
      " 23%|█████████▎                              | 471/2027 [00:18<00:54, 28.41it/s]"
     ]
    },
    {
     "name": "stdout",
     "output_type": "stream",
     "text": [
      "\r",
      " 23%|█████████▎                              | 475/2027 [00:18<00:51, 30.14it/s]"
     ]
    },
    {
     "name": "stdout",
     "output_type": "stream",
     "text": [
      "\r",
      " 24%|█████████▍                              | 479/2027 [00:18<00:54, 28.41it/s]"
     ]
    },
    {
     "name": "stdout",
     "output_type": "stream",
     "text": [
      "\r",
      " 24%|█████████▌                              | 482/2027 [00:18<00:54, 28.09it/s]"
     ]
    },
    {
     "name": "stdout",
     "output_type": "stream",
     "text": [
      "\r",
      " 24%|█████████▌                              | 485/2027 [00:19<00:54, 28.47it/s]"
     ]
    },
    {
     "name": "stdout",
     "output_type": "stream",
     "text": [
      "\r",
      " 24%|█████████▋                              | 488/2027 [00:19<00:54, 28.34it/s]"
     ]
    },
    {
     "name": "stdout",
     "output_type": "stream",
     "text": [
      "\r",
      " 24%|█████████▋                              | 491/2027 [00:19<00:53, 28.75it/s]"
     ]
    },
    {
     "name": "stdout",
     "output_type": "stream",
     "text": [
      "\r",
      " 24%|█████████▊                              | 495/2027 [00:19<00:54, 27.93it/s]"
     ]
    },
    {
     "name": "stdout",
     "output_type": "stream",
     "text": [
      "\r",
      " 25%|█████████▊                              | 499/2027 [00:19<00:52, 29.26it/s]"
     ]
    },
    {
     "name": "stdout",
     "output_type": "stream",
     "text": [
      "\r",
      " 25%|█████████▉                              | 502/2027 [00:19<00:53, 28.36it/s]"
     ]
    },
    {
     "name": "stdout",
     "output_type": "stream",
     "text": [
      "\r",
      " 25%|█████████▉                              | 505/2027 [00:19<00:57, 26.66it/s]"
     ]
    },
    {
     "name": "stdout",
     "output_type": "stream",
     "text": [
      "\r",
      " 25%|██████████                              | 508/2027 [00:19<01:03, 24.01it/s]"
     ]
    },
    {
     "name": "stdout",
     "output_type": "stream",
     "text": [
      "\r",
      " 25%|██████████                              | 511/2027 [00:20<01:02, 24.11it/s]"
     ]
    },
    {
     "name": "stdout",
     "output_type": "stream",
     "text": [
      "\r",
      " 25%|██████████▏                             | 515/2027 [00:20<00:57, 26.20it/s]"
     ]
    },
    {
     "name": "stdout",
     "output_type": "stream",
     "text": [
      "\r",
      " 26%|██████████▏                             | 519/2027 [00:20<00:53, 28.45it/s]"
     ]
    },
    {
     "name": "stdout",
     "output_type": "stream",
     "text": [
      "\r",
      " 26%|██████████▎                             | 522/2027 [00:20<00:53, 27.92it/s]"
     ]
    },
    {
     "name": "stdout",
     "output_type": "stream",
     "text": [
      "\r",
      " 26%|██████████▎                             | 525/2027 [00:20<00:54, 27.35it/s]"
     ]
    },
    {
     "name": "stdout",
     "output_type": "stream",
     "text": [
      "\r",
      " 26%|██████████▍                             | 529/2027 [00:20<00:52, 28.78it/s]"
     ]
    },
    {
     "name": "stdout",
     "output_type": "stream",
     "text": [
      "\r",
      " 26%|██████████▍                             | 532/2027 [00:20<00:52, 28.48it/s]"
     ]
    },
    {
     "name": "stdout",
     "output_type": "stream",
     "text": [
      "\r",
      " 26%|██████████▌                             | 536/2027 [00:20<00:50, 29.80it/s]"
     ]
    },
    {
     "name": "stdout",
     "output_type": "stream",
     "text": [
      "\r",
      " 27%|██████████▋                             | 540/2027 [00:21<00:49, 30.22it/s]"
     ]
    },
    {
     "name": "stdout",
     "output_type": "stream",
     "text": [
      "\r",
      " 27%|██████████▋                             | 544/2027 [00:21<00:47, 31.38it/s]"
     ]
    },
    {
     "name": "stdout",
     "output_type": "stream",
     "text": [
      "\r",
      " 27%|██████████▊                             | 548/2027 [00:21<00:47, 31.19it/s]"
     ]
    },
    {
     "name": "stdout",
     "output_type": "stream",
     "text": [
      "\r",
      " 27%|██████████▉                             | 552/2027 [00:21<00:47, 30.86it/s]"
     ]
    },
    {
     "name": "stdout",
     "output_type": "stream",
     "text": [
      "\r",
      " 27%|██████████▉                             | 556/2027 [00:21<00:51, 28.73it/s]"
     ]
    },
    {
     "name": "stdout",
     "output_type": "stream",
     "text": [
      "\r",
      " 28%|███████████                             | 559/2027 [00:21<00:54, 27.18it/s]"
     ]
    },
    {
     "name": "stdout",
     "output_type": "stream",
     "text": [
      "\r",
      " 28%|███████████                             | 562/2027 [00:21<00:53, 27.51it/s]"
     ]
    },
    {
     "name": "stdout",
     "output_type": "stream",
     "text": [
      "\r",
      " 28%|███████████▏                            | 566/2027 [00:21<00:50, 28.89it/s]"
     ]
    },
    {
     "name": "stdout",
     "output_type": "stream",
     "text": [
      "\r",
      " 28%|███████████▏                            | 569/2027 [00:22<00:50, 29.02it/s]"
     ]
    },
    {
     "name": "stdout",
     "output_type": "stream",
     "text": [
      "\r",
      " 28%|███████████▎                            | 573/2027 [00:22<00:48, 29.84it/s]"
     ]
    },
    {
     "name": "stdout",
     "output_type": "stream",
     "text": [
      "\r",
      " 28%|███████████▍                            | 577/2027 [00:22<00:47, 30.60it/s]"
     ]
    },
    {
     "name": "stdout",
     "output_type": "stream",
     "text": [
      "\r",
      " 29%|███████████▍                            | 581/2027 [00:22<00:47, 30.73it/s]"
     ]
    },
    {
     "name": "stdout",
     "output_type": "stream",
     "text": [
      "\r",
      " 29%|███████████▌                            | 585/2027 [00:22<00:46, 30.87it/s]"
     ]
    },
    {
     "name": "stdout",
     "output_type": "stream",
     "text": [
      "\r",
      " 29%|███████████▌                            | 589/2027 [00:22<00:48, 29.90it/s]"
     ]
    },
    {
     "name": "stdout",
     "output_type": "stream",
     "text": [
      "\r",
      " 29%|███████████▋                            | 592/2027 [00:22<00:51, 28.12it/s]"
     ]
    },
    {
     "name": "stdout",
     "output_type": "stream",
     "text": [
      "\r",
      " 29%|███████████▋                            | 595/2027 [00:22<00:55, 25.83it/s]"
     ]
    },
    {
     "name": "stdout",
     "output_type": "stream",
     "text": [
      "\r",
      " 30%|███████████▊                            | 599/2027 [00:23<00:51, 27.80it/s]"
     ]
    },
    {
     "name": "stdout",
     "output_type": "stream",
     "text": [
      "\r",
      " 30%|███████████▉                            | 602/2027 [00:23<00:50, 28.06it/s]"
     ]
    },
    {
     "name": "stdout",
     "output_type": "stream",
     "text": [
      "\r",
      " 30%|███████████▉                            | 605/2027 [00:23<00:50, 27.94it/s]"
     ]
    },
    {
     "name": "stdout",
     "output_type": "stream",
     "text": [
      "\r",
      " 30%|███████████▉                            | 608/2027 [00:23<00:49, 28.45it/s]"
     ]
    },
    {
     "name": "stdout",
     "output_type": "stream",
     "text": [
      "\r",
      " 30%|████████████                            | 611/2027 [00:23<00:52, 26.76it/s]"
     ]
    },
    {
     "name": "stdout",
     "output_type": "stream",
     "text": [
      "\r",
      " 30%|████████████                            | 614/2027 [00:23<00:54, 25.83it/s]"
     ]
    },
    {
     "name": "stdout",
     "output_type": "stream",
     "text": [
      "\r",
      " 30%|████████████▏                           | 617/2027 [00:23<00:53, 26.43it/s]"
     ]
    },
    {
     "name": "stdout",
     "output_type": "stream",
     "text": [
      "\r",
      " 31%|████████████▏                           | 620/2027 [00:23<00:53, 26.26it/s]"
     ]
    },
    {
     "name": "stdout",
     "output_type": "stream",
     "text": [
      "\r",
      " 31%|████████████▎                           | 623/2027 [00:23<00:52, 26.53it/s]"
     ]
    },
    {
     "name": "stdout",
     "output_type": "stream",
     "text": [
      "\r",
      " 31%|████████████▎                           | 626/2027 [00:24<00:51, 27.29it/s]"
     ]
    },
    {
     "name": "stdout",
     "output_type": "stream",
     "text": [
      "\r",
      " 31%|████████████▍                           | 629/2027 [00:24<00:52, 26.65it/s]"
     ]
    },
    {
     "name": "stdout",
     "output_type": "stream",
     "text": [
      "\r",
      " 31%|████████████▍                           | 633/2027 [00:24<00:48, 28.88it/s]"
     ]
    },
    {
     "name": "stdout",
     "output_type": "stream",
     "text": [
      "\r",
      " 31%|████████████▌                           | 637/2027 [00:24<00:44, 30.93it/s]"
     ]
    },
    {
     "name": "stdout",
     "output_type": "stream",
     "text": [
      "\r",
      " 32%|████████████▋                           | 641/2027 [00:24<00:46, 29.56it/s]"
     ]
    },
    {
     "name": "stdout",
     "output_type": "stream",
     "text": [
      "\r",
      " 32%|████████████▋                           | 644/2027 [00:24<00:47, 28.96it/s]"
     ]
    },
    {
     "name": "stdout",
     "output_type": "stream",
     "text": [
      "\r",
      " 32%|████████████▊                           | 647/2027 [00:24<00:47, 28.91it/s]"
     ]
    },
    {
     "name": "stdout",
     "output_type": "stream",
     "text": [
      "\r",
      " 32%|████████████▊                           | 650/2027 [00:24<00:48, 28.16it/s]"
     ]
    },
    {
     "name": "stdout",
     "output_type": "stream",
     "text": [
      "\r",
      " 32%|████████████▉                           | 653/2027 [00:24<00:49, 27.94it/s]"
     ]
    },
    {
     "name": "stdout",
     "output_type": "stream",
     "text": [
      "\r",
      " 32%|████████████▉                           | 657/2027 [00:25<00:46, 29.18it/s]"
     ]
    },
    {
     "name": "stdout",
     "output_type": "stream",
     "text": [
      "\r",
      " 33%|█████████████                           | 661/2027 [00:25<00:45, 30.26it/s]"
     ]
    },
    {
     "name": "stdout",
     "output_type": "stream",
     "text": [
      "\r",
      " 33%|█████████████                           | 665/2027 [00:25<00:45, 29.78it/s]"
     ]
    },
    {
     "name": "stdout",
     "output_type": "stream",
     "text": [
      "\r",
      " 33%|█████████████▏                          | 669/2027 [00:25<00:44, 30.74it/s]"
     ]
    },
    {
     "name": "stdout",
     "output_type": "stream",
     "text": [
      "\r",
      " 33%|█████████████▎                          | 673/2027 [00:25<00:44, 30.22it/s]"
     ]
    },
    {
     "name": "stdout",
     "output_type": "stream",
     "text": [
      "\r",
      " 33%|█████████████▎                          | 677/2027 [00:25<00:46, 29.05it/s]"
     ]
    },
    {
     "name": "stdout",
     "output_type": "stream",
     "text": [
      "\r",
      " 34%|█████████████▍                          | 680/2027 [00:25<00:47, 28.55it/s]"
     ]
    },
    {
     "name": "stdout",
     "output_type": "stream",
     "text": [
      "\r",
      " 34%|█████████████▍                          | 683/2027 [00:26<00:48, 27.76it/s]"
     ]
    },
    {
     "name": "stdout",
     "output_type": "stream",
     "text": [
      "\r",
      " 34%|█████████████▌                          | 686/2027 [00:26<00:48, 27.70it/s]"
     ]
    },
    {
     "name": "stdout",
     "output_type": "stream",
     "text": [
      "\r",
      " 34%|█████████████▌                          | 689/2027 [00:26<00:50, 26.55it/s]"
     ]
    },
    {
     "name": "stdout",
     "output_type": "stream",
     "text": [
      "\r",
      " 34%|█████████████▋                          | 692/2027 [00:26<00:48, 27.41it/s]"
     ]
    },
    {
     "name": "stdout",
     "output_type": "stream",
     "text": [
      "\r",
      " 34%|█████████████▋                          | 695/2027 [00:26<00:50, 26.45it/s]"
     ]
    },
    {
     "name": "stdout",
     "output_type": "stream",
     "text": [
      "\r",
      " 34%|█████████████▊                          | 698/2027 [00:26<00:50, 26.34it/s]"
     ]
    },
    {
     "name": "stdout",
     "output_type": "stream",
     "text": [
      "\r",
      " 35%|█████████████▊                          | 701/2027 [00:26<00:49, 26.65it/s]"
     ]
    },
    {
     "name": "stdout",
     "output_type": "stream",
     "text": [
      "\r",
      " 35%|█████████████▉                          | 704/2027 [00:26<00:48, 27.16it/s]"
     ]
    },
    {
     "name": "stdout",
     "output_type": "stream",
     "text": [
      "\r",
      " 35%|█████████████▉                          | 707/2027 [00:26<00:47, 27.57it/s]"
     ]
    },
    {
     "name": "stdout",
     "output_type": "stream",
     "text": [
      "\r",
      " 35%|██████████████                          | 711/2027 [00:27<00:45, 29.13it/s]"
     ]
    },
    {
     "name": "stdout",
     "output_type": "stream",
     "text": [
      "\r",
      " 35%|██████████████                          | 715/2027 [00:27<00:45, 28.92it/s]"
     ]
    },
    {
     "name": "stdout",
     "output_type": "stream",
     "text": [
      "\r",
      " 35%|██████████████▏                         | 718/2027 [00:27<00:47, 27.64it/s]"
     ]
    },
    {
     "name": "stdout",
     "output_type": "stream",
     "text": [
      "\r",
      " 36%|██████████████▏                         | 721/2027 [00:27<00:46, 28.21it/s]"
     ]
    },
    {
     "name": "stdout",
     "output_type": "stream",
     "text": [
      "\r",
      " 36%|██████████████▎                         | 725/2027 [00:27<00:43, 29.72it/s]"
     ]
    },
    {
     "name": "stdout",
     "output_type": "stream",
     "text": [
      "\r",
      " 36%|██████████████▎                         | 728/2027 [00:27<00:47, 27.50it/s]"
     ]
    },
    {
     "name": "stdout",
     "output_type": "stream",
     "text": [
      "\r",
      " 36%|██████████████▍                         | 731/2027 [00:27<00:47, 27.22it/s]"
     ]
    },
    {
     "name": "stdout",
     "output_type": "stream",
     "text": [
      "\r",
      " 36%|██████████████▍                         | 734/2027 [00:27<00:46, 27.86it/s]"
     ]
    },
    {
     "name": "stdout",
     "output_type": "stream",
     "text": [
      "\r",
      " 36%|██████████████▌                         | 738/2027 [00:27<00:45, 28.43it/s]"
     ]
    },
    {
     "name": "stdout",
     "output_type": "stream",
     "text": [
      "\r",
      " 37%|██████████████▋                         | 742/2027 [00:28<00:42, 30.35it/s]"
     ]
    },
    {
     "name": "stdout",
     "output_type": "stream",
     "text": [
      "\r",
      " 37%|██████████████▋                         | 746/2027 [00:28<00:41, 30.69it/s]"
     ]
    },
    {
     "name": "stdout",
     "output_type": "stream",
     "text": [
      "\r",
      " 37%|██████████████▊                         | 750/2027 [00:28<00:40, 31.22it/s]"
     ]
    },
    {
     "name": "stdout",
     "output_type": "stream",
     "text": [
      "\r",
      " 37%|██████████████▉                         | 754/2027 [00:28<00:42, 29.62it/s]"
     ]
    },
    {
     "name": "stdout",
     "output_type": "stream",
     "text": [
      "\r",
      " 37%|██████████████▉                         | 758/2027 [00:28<00:42, 29.98it/s]"
     ]
    },
    {
     "name": "stdout",
     "output_type": "stream",
     "text": [
      "\r",
      " 38%|███████████████                         | 762/2027 [00:28<00:41, 30.61it/s]"
     ]
    },
    {
     "name": "stdout",
     "output_type": "stream",
     "text": [
      "\r",
      " 38%|███████████████                         | 766/2027 [00:28<00:43, 28.91it/s]"
     ]
    },
    {
     "name": "stdout",
     "output_type": "stream",
     "text": [
      "\r",
      " 38%|███████████████▏                        | 770/2027 [00:29<00:41, 30.00it/s]"
     ]
    },
    {
     "name": "stdout",
     "output_type": "stream",
     "text": [
      "\r",
      " 38%|███████████████▎                        | 774/2027 [00:29<00:43, 29.08it/s]"
     ]
    },
    {
     "name": "stdout",
     "output_type": "stream",
     "text": [
      "\r",
      " 38%|███████████████▎                        | 777/2027 [00:29<00:45, 27.57it/s]"
     ]
    },
    {
     "name": "stdout",
     "output_type": "stream",
     "text": [
      "\r",
      " 38%|███████████████▍                        | 780/2027 [00:29<00:46, 26.68it/s]"
     ]
    },
    {
     "name": "stdout",
     "output_type": "stream",
     "text": [
      "\r",
      " 39%|███████████████▍                        | 783/2027 [00:29<00:48, 25.78it/s]"
     ]
    },
    {
     "name": "stdout",
     "output_type": "stream",
     "text": [
      "\r",
      " 39%|███████████████▌                        | 786/2027 [00:29<00:47, 26.33it/s]"
     ]
    },
    {
     "name": "stdout",
     "output_type": "stream",
     "text": [
      "\r",
      " 39%|███████████████▌                        | 789/2027 [00:29<00:46, 26.80it/s]"
     ]
    },
    {
     "name": "stdout",
     "output_type": "stream",
     "text": [
      "\r",
      " 39%|███████████████▋                        | 792/2027 [00:29<00:46, 26.74it/s]"
     ]
    },
    {
     "name": "stdout",
     "output_type": "stream",
     "text": [
      "\r",
      " 39%|███████████████▋                        | 795/2027 [00:30<00:47, 26.00it/s]"
     ]
    },
    {
     "name": "stdout",
     "output_type": "stream",
     "text": [
      "\r",
      " 39%|███████████████▋                        | 798/2027 [00:30<00:48, 25.39it/s]"
     ]
    },
    {
     "name": "stdout",
     "output_type": "stream",
     "text": [
      "\r",
      " 40%|███████████████▊                        | 801/2027 [00:30<00:49, 24.88it/s]"
     ]
    },
    {
     "name": "stdout",
     "output_type": "stream",
     "text": [
      "\r",
      " 40%|███████████████▉                        | 805/2027 [00:30<00:46, 26.35it/s]"
     ]
    },
    {
     "name": "stdout",
     "output_type": "stream",
     "text": [
      "\r",
      " 40%|███████████████▉                        | 808/2027 [00:30<00:45, 27.08it/s]"
     ]
    },
    {
     "name": "stdout",
     "output_type": "stream",
     "text": [
      "\r",
      " 40%|████████████████                        | 811/2027 [00:30<00:44, 27.37it/s]"
     ]
    },
    {
     "name": "stdout",
     "output_type": "stream",
     "text": [
      "\r",
      " 40%|████████████████                        | 815/2027 [00:30<00:41, 29.31it/s]"
     ]
    },
    {
     "name": "stdout",
     "output_type": "stream",
     "text": [
      "\r",
      " 40%|████████████████▏                       | 819/2027 [00:30<00:40, 29.87it/s]"
     ]
    },
    {
     "name": "stdout",
     "output_type": "stream",
     "text": [
      "\r",
      " 41%|████████████████▏                       | 822/2027 [00:30<00:42, 28.56it/s]"
     ]
    },
    {
     "name": "stdout",
     "output_type": "stream",
     "text": [
      "\r",
      " 41%|████████████████▎                       | 826/2027 [00:31<00:39, 30.07it/s]"
     ]
    },
    {
     "name": "stdout",
     "output_type": "stream",
     "text": [
      "\r",
      " 41%|████████████████▍                       | 830/2027 [00:31<00:42, 28.47it/s]"
     ]
    },
    {
     "name": "stdout",
     "output_type": "stream",
     "text": [
      "\r",
      " 41%|████████████████▍                       | 834/2027 [00:31<00:40, 29.78it/s]"
     ]
    },
    {
     "name": "stdout",
     "output_type": "stream",
     "text": [
      "\r",
      " 41%|████████████████▌                       | 838/2027 [00:31<00:40, 29.04it/s]"
     ]
    },
    {
     "name": "stdout",
     "output_type": "stream",
     "text": [
      "\r",
      " 42%|████████████████▌                       | 842/2027 [00:31<00:40, 29.57it/s]"
     ]
    },
    {
     "name": "stdout",
     "output_type": "stream",
     "text": [
      "\r",
      " 42%|████████████████▋                       | 845/2027 [00:31<00:42, 27.73it/s]"
     ]
    },
    {
     "name": "stdout",
     "output_type": "stream",
     "text": [
      "\r",
      " 42%|████████████████▋                       | 848/2027 [00:31<00:43, 27.01it/s]"
     ]
    },
    {
     "name": "stdout",
     "output_type": "stream",
     "text": [
      "\r",
      " 42%|████████████████▊                       | 851/2027 [00:32<00:43, 27.25it/s]"
     ]
    },
    {
     "name": "stdout",
     "output_type": "stream",
     "text": [
      "\r",
      " 42%|████████████████▊                       | 854/2027 [00:32<00:44, 26.65it/s]"
     ]
    },
    {
     "name": "stdout",
     "output_type": "stream",
     "text": [
      "\r",
      " 42%|████████████████▉                       | 857/2027 [00:32<00:46, 25.20it/s]"
     ]
    },
    {
     "name": "stdout",
     "output_type": "stream",
     "text": [
      "\r",
      " 42%|████████████████▉                       | 860/2027 [00:32<00:49, 23.37it/s]"
     ]
    },
    {
     "name": "stdout",
     "output_type": "stream",
     "text": [
      "\r",
      " 43%|█████████████████                       | 863/2027 [00:32<00:47, 24.68it/s]"
     ]
    },
    {
     "name": "stdout",
     "output_type": "stream",
     "text": [
      "\r",
      " 43%|█████████████████                       | 866/2027 [00:32<00:46, 24.97it/s]"
     ]
    },
    {
     "name": "stdout",
     "output_type": "stream",
     "text": [
      "\r",
      " 43%|█████████████████▏                      | 869/2027 [00:32<00:44, 25.80it/s]"
     ]
    },
    {
     "name": "stdout",
     "output_type": "stream",
     "text": [
      "\r",
      " 43%|█████████████████▏                      | 872/2027 [00:32<00:45, 25.38it/s]"
     ]
    },
    {
     "name": "stdout",
     "output_type": "stream",
     "text": [
      "\r",
      " 43%|█████████████████▎                      | 875/2027 [00:32<00:45, 25.54it/s]"
     ]
    },
    {
     "name": "stdout",
     "output_type": "stream",
     "text": [
      "\r",
      " 43%|█████████████████▎                      | 878/2027 [00:33<00:45, 25.07it/s]"
     ]
    },
    {
     "name": "stdout",
     "output_type": "stream",
     "text": [
      "\r",
      " 44%|█████████████████▍                      | 882/2027 [00:33<00:42, 27.00it/s]"
     ]
    },
    {
     "name": "stdout",
     "output_type": "stream",
     "text": [
      "\r",
      " 44%|█████████████████▍                      | 886/2027 [00:33<00:40, 28.23it/s]"
     ]
    },
    {
     "name": "stdout",
     "output_type": "stream",
     "text": [
      "\r",
      " 44%|█████████████████▌                      | 889/2027 [00:33<00:42, 27.03it/s]"
     ]
    },
    {
     "name": "stdout",
     "output_type": "stream",
     "text": [
      "\r",
      " 44%|█████████████████▌                      | 892/2027 [00:33<00:43, 25.95it/s]"
     ]
    },
    {
     "name": "stdout",
     "output_type": "stream",
     "text": [
      "\r",
      " 44%|█████████████████▋                      | 895/2027 [00:33<00:42, 26.36it/s]"
     ]
    },
    {
     "name": "stdout",
     "output_type": "stream",
     "text": [
      "\r",
      " 44%|█████████████████▋                      | 899/2027 [00:33<00:40, 28.16it/s]"
     ]
    },
    {
     "name": "stdout",
     "output_type": "stream",
     "text": [
      "\r",
      " 45%|█████████████████▊                      | 903/2027 [00:33<00:39, 28.51it/s]"
     ]
    },
    {
     "name": "stdout",
     "output_type": "stream",
     "text": [
      "\r",
      " 45%|█████████████████▉                      | 907/2027 [00:34<00:37, 29.99it/s]"
     ]
    },
    {
     "name": "stdout",
     "output_type": "stream",
     "text": [
      "\r",
      " 45%|█████████████████▉                      | 911/2027 [00:34<00:36, 30.73it/s]"
     ]
    },
    {
     "name": "stdout",
     "output_type": "stream",
     "text": [
      "\r",
      " 45%|██████████████████                      | 915/2027 [00:34<00:34, 32.04it/s]"
     ]
    },
    {
     "name": "stdout",
     "output_type": "stream",
     "text": [
      "\r",
      " 45%|██████████████████▏                     | 919/2027 [00:34<00:37, 29.78it/s]"
     ]
    },
    {
     "name": "stdout",
     "output_type": "stream",
     "text": [
      "\r",
      " 46%|██████████████████▏                     | 923/2027 [00:34<00:39, 28.20it/s]"
     ]
    },
    {
     "name": "stdout",
     "output_type": "stream",
     "text": [
      "\r",
      " 46%|██████████████████▎                     | 926/2027 [00:34<00:39, 28.17it/s]"
     ]
    },
    {
     "name": "stdout",
     "output_type": "stream",
     "text": [
      "\r",
      " 46%|██████████████████▎                     | 929/2027 [00:34<00:38, 28.31it/s]"
     ]
    },
    {
     "name": "stdout",
     "output_type": "stream",
     "text": [
      "\r",
      " 46%|██████████████████▍                     | 933/2027 [00:34<00:37, 29.25it/s]"
     ]
    },
    {
     "name": "stdout",
     "output_type": "stream",
     "text": [
      "\r",
      " 46%|██████████████████▍                     | 937/2027 [00:35<00:36, 29.93it/s]"
     ]
    },
    {
     "name": "stdout",
     "output_type": "stream",
     "text": [
      "\r",
      " 46%|██████████████████▌                     | 941/2027 [00:35<00:36, 29.58it/s]"
     ]
    },
    {
     "name": "stdout",
     "output_type": "stream",
     "text": [
      "\r",
      " 47%|██████████████████▋                     | 944/2027 [00:35<00:36, 29.68it/s]"
     ]
    },
    {
     "name": "stdout",
     "output_type": "stream",
     "text": [
      "\r",
      " 47%|██████████████████▋                     | 947/2027 [00:35<00:37, 29.00it/s]"
     ]
    },
    {
     "name": "stdout",
     "output_type": "stream",
     "text": [
      "\r",
      " 47%|██████████████████▋                     | 950/2027 [00:35<00:38, 28.15it/s]"
     ]
    },
    {
     "name": "stdout",
     "output_type": "stream",
     "text": [
      "\r",
      " 47%|██████████████████▊                     | 954/2027 [00:35<00:36, 29.75it/s]"
     ]
    },
    {
     "name": "stdout",
     "output_type": "stream",
     "text": [
      "\r",
      " 47%|██████████████████▉                     | 958/2027 [00:35<00:35, 30.08it/s]"
     ]
    },
    {
     "name": "stdout",
     "output_type": "stream",
     "text": [
      "\r",
      " 47%|██████████████████▉                     | 962/2027 [00:35<00:36, 29.13it/s]"
     ]
    },
    {
     "name": "stdout",
     "output_type": "stream",
     "text": [
      "\r",
      " 48%|███████████████████                     | 965/2027 [00:36<00:36, 29.26it/s]"
     ]
    },
    {
     "name": "stdout",
     "output_type": "stream",
     "text": [
      "\r",
      " 48%|███████████████████                     | 968/2027 [00:36<00:36, 29.21it/s]"
     ]
    },
    {
     "name": "stdout",
     "output_type": "stream",
     "text": [
      "\r",
      " 48%|███████████████████▏                    | 971/2027 [00:36<00:36, 29.07it/s]"
     ]
    },
    {
     "name": "stdout",
     "output_type": "stream",
     "text": [
      "\r",
      " 48%|███████████████████▏                    | 975/2027 [00:36<00:35, 29.82it/s]"
     ]
    },
    {
     "name": "stdout",
     "output_type": "stream",
     "text": [
      "\r",
      " 48%|███████████████████▎                    | 979/2027 [00:36<00:34, 30.35it/s]"
     ]
    },
    {
     "name": "stdout",
     "output_type": "stream",
     "text": [
      "\r",
      " 48%|███████████████████▍                    | 983/2027 [00:36<00:33, 31.45it/s]"
     ]
    },
    {
     "name": "stdout",
     "output_type": "stream",
     "text": [
      "\r",
      " 49%|███████████████████▍                    | 987/2027 [00:36<00:32, 31.81it/s]"
     ]
    },
    {
     "name": "stdout",
     "output_type": "stream",
     "text": [
      "\r",
      " 49%|███████████████████▌                    | 991/2027 [00:36<00:31, 32.61it/s]"
     ]
    },
    {
     "name": "stdout",
     "output_type": "stream",
     "text": [
      "\r",
      " 49%|███████████████████▋                    | 995/2027 [00:37<00:31, 32.61it/s]"
     ]
    },
    {
     "name": "stdout",
     "output_type": "stream",
     "text": [
      "\r",
      " 49%|███████████████████▋                    | 999/2027 [00:37<00:35, 28.56it/s]"
     ]
    },
    {
     "name": "stdout",
     "output_type": "stream",
     "text": [
      "\r",
      " 49%|███████████████████▎                   | 1002/2027 [00:37<00:37, 27.51it/s]"
     ]
    },
    {
     "name": "stdout",
     "output_type": "stream",
     "text": [
      "\r",
      " 50%|███████████████████▎                   | 1005/2027 [00:37<00:38, 26.44it/s]"
     ]
    },
    {
     "name": "stdout",
     "output_type": "stream",
     "text": [
      "\r",
      " 50%|███████████████████▍                   | 1008/2027 [00:37<00:40, 24.88it/s]"
     ]
    },
    {
     "name": "stdout",
     "output_type": "stream",
     "text": [
      "\r",
      " 50%|███████████████████▍                   | 1011/2027 [00:37<00:41, 24.53it/s]"
     ]
    },
    {
     "name": "stdout",
     "output_type": "stream",
     "text": [
      "\r",
      " 50%|███████████████████▌                   | 1014/2027 [00:37<00:40, 24.96it/s]"
     ]
    },
    {
     "name": "stdout",
     "output_type": "stream",
     "text": [
      "\r",
      " 50%|███████████████████▌                   | 1017/2027 [00:37<00:40, 25.25it/s]"
     ]
    },
    {
     "name": "stdout",
     "output_type": "stream",
     "text": [
      "\r",
      " 50%|███████████████████▋                   | 1020/2027 [00:38<00:38, 26.08it/s]"
     ]
    },
    {
     "name": "stdout",
     "output_type": "stream",
     "text": [
      "\r",
      " 50%|███████████████████▋                   | 1023/2027 [00:38<00:39, 25.25it/s]"
     ]
    },
    {
     "name": "stdout",
     "output_type": "stream",
     "text": [
      "\r",
      " 51%|███████████████████▋                   | 1026/2027 [00:38<00:40, 24.70it/s]"
     ]
    },
    {
     "name": "stdout",
     "output_type": "stream",
     "text": [
      "\r",
      " 51%|███████████████████▊                   | 1029/2027 [00:38<00:41, 24.12it/s]"
     ]
    },
    {
     "name": "stdout",
     "output_type": "stream",
     "text": [
      "\r",
      " 51%|███████████████████▊                   | 1032/2027 [00:38<00:41, 24.13it/s]"
     ]
    },
    {
     "name": "stdout",
     "output_type": "stream",
     "text": [
      "\r",
      " 51%|███████████████████▉                   | 1035/2027 [00:38<00:40, 24.78it/s]"
     ]
    },
    {
     "name": "stdout",
     "output_type": "stream",
     "text": [
      "\r",
      " 51%|███████████████████▉                   | 1039/2027 [00:38<00:36, 26.82it/s]"
     ]
    },
    {
     "name": "stdout",
     "output_type": "stream",
     "text": [
      "\r",
      " 51%|████████████████████                   | 1042/2027 [00:38<00:37, 26.38it/s]"
     ]
    },
    {
     "name": "stdout",
     "output_type": "stream",
     "text": [
      "\r",
      " 52%|████████████████████                   | 1045/2027 [00:39<00:37, 26.29it/s]"
     ]
    },
    {
     "name": "stdout",
     "output_type": "stream",
     "text": [
      "\r",
      " 52%|████████████████████▏                  | 1049/2027 [00:39<00:34, 28.49it/s]"
     ]
    },
    {
     "name": "stdout",
     "output_type": "stream",
     "text": [
      "\r",
      " 52%|████████████████████▏                  | 1052/2027 [00:39<00:33, 28.72it/s]"
     ]
    },
    {
     "name": "stdout",
     "output_type": "stream",
     "text": [
      "\r",
      " 52%|████████████████████▎                  | 1056/2027 [00:39<00:32, 30.27it/s]"
     ]
    },
    {
     "name": "stdout",
     "output_type": "stream",
     "text": [
      "\r",
      " 52%|████████████████████▍                  | 1060/2027 [00:39<00:33, 29.29it/s]"
     ]
    },
    {
     "name": "stdout",
     "output_type": "stream",
     "text": [
      "\r",
      " 52%|████████████████████▍                  | 1064/2027 [00:39<00:33, 28.69it/s]"
     ]
    },
    {
     "name": "stdout",
     "output_type": "stream",
     "text": [
      "\r",
      " 53%|████████████████████▌                  | 1067/2027 [00:39<00:33, 29.01it/s]"
     ]
    },
    {
     "name": "stdout",
     "output_type": "stream",
     "text": [
      "\r",
      " 53%|████████████████████▌                  | 1071/2027 [00:39<00:31, 30.54it/s]"
     ]
    },
    {
     "name": "stdout",
     "output_type": "stream",
     "text": [
      "\r",
      " 53%|████████████████████▋                  | 1075/2027 [00:39<00:30, 31.56it/s]"
     ]
    },
    {
     "name": "stdout",
     "output_type": "stream",
     "text": [
      "\r",
      " 53%|████████████████████▊                  | 1079/2027 [00:40<00:29, 32.50it/s]"
     ]
    },
    {
     "name": "stdout",
     "output_type": "stream",
     "text": [
      "\r",
      " 53%|████████████████████▊                  | 1083/2027 [00:40<00:30, 31.24it/s]"
     ]
    },
    {
     "name": "stdout",
     "output_type": "stream",
     "text": [
      "\r",
      " 54%|████████████████████▉                  | 1087/2027 [00:40<00:31, 29.97it/s]"
     ]
    },
    {
     "name": "stdout",
     "output_type": "stream",
     "text": [
      "\r",
      " 54%|████████████████████▉                  | 1091/2027 [00:40<00:31, 29.60it/s]"
     ]
    },
    {
     "name": "stdout",
     "output_type": "stream",
     "text": [
      "\r",
      " 54%|█████████████████████                  | 1095/2027 [00:40<00:31, 29.49it/s]"
     ]
    },
    {
     "name": "stdout",
     "output_type": "stream",
     "text": [
      "\r",
      " 54%|█████████████████████▏                 | 1098/2027 [00:40<00:32, 28.39it/s]"
     ]
    },
    {
     "name": "stdout",
     "output_type": "stream",
     "text": [
      "\r",
      " 54%|█████████████████████▏                 | 1102/2027 [00:40<00:31, 29.77it/s]"
     ]
    },
    {
     "name": "stdout",
     "output_type": "stream",
     "text": [
      "\r",
      " 55%|█████████████████████▎                 | 1106/2027 [00:41<00:29, 30.85it/s]"
     ]
    },
    {
     "name": "stdout",
     "output_type": "stream",
     "text": [
      "\r",
      " 55%|█████████████████████▎                 | 1110/2027 [00:41<00:30, 30.24it/s]"
     ]
    },
    {
     "name": "stdout",
     "output_type": "stream",
     "text": [
      "\r",
      " 55%|█████████████████████▍                 | 1114/2027 [00:41<00:31, 29.18it/s]"
     ]
    },
    {
     "name": "stdout",
     "output_type": "stream",
     "text": [
      "\r",
      " 55%|█████████████████████▍                 | 1117/2027 [00:41<00:31, 28.85it/s]"
     ]
    },
    {
     "name": "stdout",
     "output_type": "stream",
     "text": [
      "\r",
      " 55%|█████████████████████▌                 | 1120/2027 [00:41<00:31, 29.02it/s]"
     ]
    },
    {
     "name": "stdout",
     "output_type": "stream",
     "text": [
      "\r",
      " 55%|█████████████████████▋                 | 1124/2027 [00:41<00:30, 29.64it/s]"
     ]
    },
    {
     "name": "stdout",
     "output_type": "stream",
     "text": [
      "\r",
      " 56%|█████████████████████▋                 | 1128/2027 [00:41<00:29, 30.32it/s]"
     ]
    },
    {
     "name": "stdout",
     "output_type": "stream",
     "text": [
      "\r",
      " 56%|█████████████████████▊                 | 1132/2027 [00:41<00:28, 30.94it/s]"
     ]
    },
    {
     "name": "stdout",
     "output_type": "stream",
     "text": [
      "\r",
      " 56%|█████████████████████▊                 | 1136/2027 [00:42<00:31, 28.46it/s]"
     ]
    },
    {
     "name": "stdout",
     "output_type": "stream",
     "text": [
      "\r",
      " 56%|█████████████████████▉                 | 1139/2027 [00:42<00:31, 28.45it/s]"
     ]
    },
    {
     "name": "stdout",
     "output_type": "stream",
     "text": [
      "\r",
      " 56%|█████████████████████▉                 | 1142/2027 [00:42<00:31, 28.34it/s]"
     ]
    },
    {
     "name": "stdout",
     "output_type": "stream",
     "text": [
      "\r",
      " 57%|██████████████████████                 | 1146/2027 [00:42<00:29, 29.49it/s]"
     ]
    },
    {
     "name": "stdout",
     "output_type": "stream",
     "text": [
      "\r",
      " 57%|██████████████████████▏                | 1150/2027 [00:42<00:29, 29.90it/s]"
     ]
    },
    {
     "name": "stdout",
     "output_type": "stream",
     "text": [
      "\r",
      " 57%|██████████████████████▏                | 1154/2027 [00:42<00:29, 30.04it/s]"
     ]
    },
    {
     "name": "stdout",
     "output_type": "stream",
     "text": [
      "\r",
      " 57%|██████████████████████▎                | 1158/2027 [00:42<00:28, 30.89it/s]"
     ]
    },
    {
     "name": "stdout",
     "output_type": "stream",
     "text": [
      "\r",
      " 57%|██████████████████████▎                | 1162/2027 [00:42<00:27, 31.72it/s]"
     ]
    },
    {
     "name": "stdout",
     "output_type": "stream",
     "text": [
      "\r",
      " 58%|██████████████████████▍                | 1166/2027 [00:43<00:27, 31.49it/s]"
     ]
    },
    {
     "name": "stdout",
     "output_type": "stream",
     "text": [
      "\r",
      " 58%|██████████████████████▌                | 1170/2027 [00:43<00:27, 30.70it/s]"
     ]
    },
    {
     "name": "stdout",
     "output_type": "stream",
     "text": [
      "\r",
      " 58%|██████████████████████▌                | 1174/2027 [00:43<00:27, 31.57it/s]"
     ]
    },
    {
     "name": "stdout",
     "output_type": "stream",
     "text": [
      "\r",
      " 58%|██████████████████████▋                | 1178/2027 [00:43<00:26, 31.76it/s]"
     ]
    },
    {
     "name": "stdout",
     "output_type": "stream",
     "text": [
      "\r",
      " 58%|██████████████████████▋                | 1182/2027 [00:43<00:26, 32.49it/s]"
     ]
    },
    {
     "name": "stdout",
     "output_type": "stream",
     "text": [
      "\r",
      " 59%|██████████████████████▊                | 1186/2027 [00:43<00:26, 32.26it/s]"
     ]
    },
    {
     "name": "stdout",
     "output_type": "stream",
     "text": [
      "\r",
      " 59%|██████████████████████▉                | 1190/2027 [00:43<00:27, 30.45it/s]"
     ]
    },
    {
     "name": "stdout",
     "output_type": "stream",
     "text": [
      "\r",
      " 59%|██████████████████████▉                | 1194/2027 [00:43<00:26, 30.96it/s]"
     ]
    },
    {
     "name": "stdout",
     "output_type": "stream",
     "text": [
      "\r",
      " 59%|███████████████████████                | 1198/2027 [00:44<00:27, 29.85it/s]"
     ]
    },
    {
     "name": "stdout",
     "output_type": "stream",
     "text": [
      "\r",
      " 59%|███████████████████████▏               | 1202/2027 [00:44<00:27, 30.29it/s]"
     ]
    },
    {
     "name": "stdout",
     "output_type": "stream",
     "text": [
      "\r",
      " 59%|███████████████████████▏               | 1206/2027 [00:44<00:26, 31.26it/s]"
     ]
    },
    {
     "name": "stdout",
     "output_type": "stream",
     "text": [
      "\r",
      " 60%|███████████████████████▎               | 1210/2027 [00:44<00:25, 31.86it/s]"
     ]
    },
    {
     "name": "stdout",
     "output_type": "stream",
     "text": [
      "\r",
      " 60%|███████████████████████▎               | 1214/2027 [00:44<00:25, 31.97it/s]"
     ]
    },
    {
     "name": "stdout",
     "output_type": "stream",
     "text": [
      "\r",
      " 60%|███████████████████████▍               | 1218/2027 [00:44<00:25, 31.36it/s]"
     ]
    },
    {
     "name": "stdout",
     "output_type": "stream",
     "text": [
      "\r",
      " 60%|███████████████████████▌               | 1222/2027 [00:44<00:25, 31.18it/s]"
     ]
    },
    {
     "name": "stdout",
     "output_type": "stream",
     "text": [
      "\r",
      " 60%|███████████████████████▌               | 1226/2027 [00:44<00:25, 30.92it/s]"
     ]
    },
    {
     "name": "stdout",
     "output_type": "stream",
     "text": [
      "\r",
      " 61%|███████████████████████▋               | 1230/2027 [00:45<00:24, 31.91it/s]"
     ]
    },
    {
     "name": "stdout",
     "output_type": "stream",
     "text": [
      "\r",
      " 61%|███████████████████████▋               | 1234/2027 [00:45<00:25, 30.58it/s]"
     ]
    },
    {
     "name": "stdout",
     "output_type": "stream",
     "text": [
      "\r",
      " 61%|███████████████████████▊               | 1238/2027 [00:45<00:27, 29.12it/s]"
     ]
    },
    {
     "name": "stdout",
     "output_type": "stream",
     "text": [
      "\r",
      " 61%|███████████████████████▉               | 1241/2027 [00:45<00:29, 27.04it/s]"
     ]
    },
    {
     "name": "stdout",
     "output_type": "stream",
     "text": [
      "\r",
      " 61%|███████████████████████▉               | 1244/2027 [00:45<00:29, 26.95it/s]"
     ]
    },
    {
     "name": "stdout",
     "output_type": "stream",
     "text": [
      "\r",
      " 62%|███████████████████████▉               | 1247/2027 [00:45<00:28, 26.94it/s]"
     ]
    },
    {
     "name": "stdout",
     "output_type": "stream",
     "text": [
      "\r",
      " 62%|████████████████████████               | 1250/2027 [00:45<00:28, 27.00it/s]"
     ]
    },
    {
     "name": "stdout",
     "output_type": "stream",
     "text": [
      "\r",
      " 62%|████████████████████████▏              | 1254/2027 [00:45<00:27, 28.25it/s]"
     ]
    },
    {
     "name": "stdout",
     "output_type": "stream",
     "text": [
      "\r",
      " 62%|████████████████████████▏              | 1258/2027 [00:46<00:25, 29.60it/s]"
     ]
    },
    {
     "name": "stdout",
     "output_type": "stream",
     "text": [
      "\r",
      " 62%|████████████████████████▎              | 1261/2027 [00:46<00:26, 28.68it/s]"
     ]
    },
    {
     "name": "stdout",
     "output_type": "stream",
     "text": [
      "\r",
      " 62%|████████████████████████▎              | 1264/2027 [00:46<00:26, 28.61it/s]"
     ]
    },
    {
     "name": "stdout",
     "output_type": "stream",
     "text": [
      "\r",
      " 63%|████████████████████████▍              | 1268/2027 [00:46<00:25, 29.75it/s]"
     ]
    },
    {
     "name": "stdout",
     "output_type": "stream",
     "text": [
      "\r",
      " 63%|████████████████████████▍              | 1272/2027 [00:46<00:24, 30.86it/s]"
     ]
    },
    {
     "name": "stdout",
     "output_type": "stream",
     "text": [
      "\r",
      " 63%|████████████████████████▌              | 1276/2027 [00:46<00:23, 31.33it/s]"
     ]
    },
    {
     "name": "stdout",
     "output_type": "stream",
     "text": [
      "\r",
      " 63%|████████████████████████▋              | 1280/2027 [00:46<00:24, 30.42it/s]"
     ]
    },
    {
     "name": "stdout",
     "output_type": "stream",
     "text": [
      "\r",
      " 63%|████████████████████████▋              | 1284/2027 [00:46<00:25, 29.32it/s]"
     ]
    },
    {
     "name": "stdout",
     "output_type": "stream",
     "text": [
      "\r",
      " 64%|████████████████████████▊              | 1288/2027 [00:47<00:24, 30.14it/s]"
     ]
    },
    {
     "name": "stdout",
     "output_type": "stream",
     "text": [
      "\r",
      " 64%|████████████████████████▊              | 1292/2027 [00:47<00:24, 30.12it/s]"
     ]
    },
    {
     "name": "stdout",
     "output_type": "stream",
     "text": [
      "\r",
      " 64%|████████████████████████▉              | 1296/2027 [00:47<00:23, 31.03it/s]"
     ]
    },
    {
     "name": "stdout",
     "output_type": "stream",
     "text": [
      "\r",
      " 64%|█████████████████████████              | 1300/2027 [00:47<00:23, 30.93it/s]"
     ]
    },
    {
     "name": "stdout",
     "output_type": "stream",
     "text": [
      "\r",
      " 64%|█████████████████████████              | 1304/2027 [00:47<00:23, 30.28it/s]"
     ]
    },
    {
     "name": "stdout",
     "output_type": "stream",
     "text": [
      "\r",
      " 65%|█████████████████████████▏             | 1308/2027 [00:47<00:23, 30.13it/s]"
     ]
    },
    {
     "name": "stdout",
     "output_type": "stream",
     "text": [
      "\r",
      " 65%|█████████████████████████▏             | 1312/2027 [00:47<00:24, 29.45it/s]"
     ]
    },
    {
     "name": "stdout",
     "output_type": "stream",
     "text": [
      "\r",
      " 65%|█████████████████████████▎             | 1315/2027 [00:48<00:25, 27.77it/s]"
     ]
    },
    {
     "name": "stdout",
     "output_type": "stream",
     "text": [
      "\r",
      " 65%|█████████████████████████▍             | 1319/2027 [00:48<00:24, 28.90it/s]"
     ]
    },
    {
     "name": "stdout",
     "output_type": "stream",
     "text": [
      "\r",
      " 65%|█████████████████████████▍             | 1322/2027 [00:48<00:24, 28.49it/s]"
     ]
    },
    {
     "name": "stdout",
     "output_type": "stream",
     "text": [
      "\r",
      " 65%|█████████████████████████▌             | 1326/2027 [00:48<00:24, 29.15it/s]"
     ]
    },
    {
     "name": "stdout",
     "output_type": "stream",
     "text": [
      "\r",
      " 66%|█████████████████████████▌             | 1329/2027 [00:48<00:23, 29.20it/s]"
     ]
    },
    {
     "name": "stdout",
     "output_type": "stream",
     "text": [
      "\r",
      " 66%|█████████████████████████▋             | 1333/2027 [00:48<00:22, 31.03it/s]"
     ]
    },
    {
     "name": "stdout",
     "output_type": "stream",
     "text": [
      "\r",
      " 66%|█████████████████████████▋             | 1337/2027 [00:48<00:24, 28.55it/s]"
     ]
    },
    {
     "name": "stdout",
     "output_type": "stream",
     "text": [
      "\r",
      " 66%|█████████████████████████▊             | 1341/2027 [00:48<00:23, 29.80it/s]"
     ]
    },
    {
     "name": "stdout",
     "output_type": "stream",
     "text": [
      "\r",
      " 66%|█████████████████████████▉             | 1345/2027 [00:49<00:22, 30.10it/s]"
     ]
    },
    {
     "name": "stdout",
     "output_type": "stream",
     "text": [
      "\r",
      " 67%|█████████████████████████▉             | 1349/2027 [00:49<00:21, 31.16it/s]"
     ]
    },
    {
     "name": "stdout",
     "output_type": "stream",
     "text": [
      "\r",
      " 67%|██████████████████████████             | 1353/2027 [00:49<00:22, 30.58it/s]"
     ]
    },
    {
     "name": "stdout",
     "output_type": "stream",
     "text": [
      "\r",
      " 67%|██████████████████████████             | 1357/2027 [00:49<00:21, 31.54it/s]"
     ]
    },
    {
     "name": "stdout",
     "output_type": "stream",
     "text": [
      "\r",
      " 67%|██████████████████████████▏            | 1361/2027 [00:49<00:21, 31.21it/s]"
     ]
    },
    {
     "name": "stdout",
     "output_type": "stream",
     "text": [
      "\r",
      " 67%|██████████████████████████▎            | 1365/2027 [00:49<00:21, 30.34it/s]"
     ]
    },
    {
     "name": "stdout",
     "output_type": "stream",
     "text": [
      "\r",
      " 68%|██████████████████████████▎            | 1369/2027 [00:49<00:22, 28.93it/s]"
     ]
    },
    {
     "name": "stdout",
     "output_type": "stream",
     "text": [
      "\r",
      " 68%|██████████████████████████▍            | 1372/2027 [00:49<00:24, 27.28it/s]"
     ]
    },
    {
     "name": "stdout",
     "output_type": "stream",
     "text": [
      "\r",
      " 68%|██████████████████████████▍            | 1376/2027 [00:50<00:22, 28.73it/s]"
     ]
    },
    {
     "name": "stdout",
     "output_type": "stream",
     "text": [
      "\r",
      " 68%|██████████████████████████▌            | 1380/2027 [00:50<00:22, 28.96it/s]"
     ]
    },
    {
     "name": "stdout",
     "output_type": "stream",
     "text": [
      "\r",
      " 68%|██████████████████████████▌            | 1383/2027 [00:50<00:22, 28.35it/s]"
     ]
    },
    {
     "name": "stdout",
     "output_type": "stream",
     "text": [
      "\r",
      " 68%|██████████████████████████▋            | 1386/2027 [00:50<00:22, 28.73it/s]"
     ]
    },
    {
     "name": "stdout",
     "output_type": "stream",
     "text": [
      "\r",
      " 69%|██████████████████████████▋            | 1389/2027 [00:50<00:23, 27.09it/s]"
     ]
    },
    {
     "name": "stdout",
     "output_type": "stream",
     "text": [
      "\r",
      " 69%|██████████████████████████▊            | 1392/2027 [00:50<00:24, 26.25it/s]"
     ]
    },
    {
     "name": "stdout",
     "output_type": "stream",
     "text": [
      "\r",
      " 69%|██████████████████████████▊            | 1395/2027 [00:50<00:24, 25.84it/s]"
     ]
    },
    {
     "name": "stdout",
     "output_type": "stream",
     "text": [
      "\r",
      " 69%|██████████████████████████▉            | 1398/2027 [00:50<00:23, 26.87it/s]"
     ]
    },
    {
     "name": "stdout",
     "output_type": "stream",
     "text": [
      "\r",
      " 69%|██████████████████████████▉            | 1402/2027 [00:51<00:22, 28.21it/s]"
     ]
    },
    {
     "name": "stdout",
     "output_type": "stream",
     "text": [
      "\r",
      " 69%|███████████████████████████            | 1406/2027 [00:51<00:21, 29.25it/s]"
     ]
    },
    {
     "name": "stdout",
     "output_type": "stream",
     "text": [
      "\r",
      " 70%|███████████████████████████▏           | 1410/2027 [00:51<00:20, 30.35it/s]"
     ]
    },
    {
     "name": "stdout",
     "output_type": "stream",
     "text": [
      "\r",
      " 70%|███████████████████████████▏           | 1414/2027 [00:51<00:21, 28.00it/s]"
     ]
    },
    {
     "name": "stdout",
     "output_type": "stream",
     "text": [
      "\r",
      " 70%|███████████████████████████▎           | 1417/2027 [00:51<00:22, 27.66it/s]"
     ]
    },
    {
     "name": "stdout",
     "output_type": "stream",
     "text": [
      "\r",
      " 70%|███████████████████████████▎           | 1420/2027 [00:51<00:21, 27.85it/s]"
     ]
    },
    {
     "name": "stdout",
     "output_type": "stream",
     "text": [
      "\r",
      " 70%|███████████████████████████▍           | 1424/2027 [00:51<00:21, 28.28it/s]"
     ]
    },
    {
     "name": "stdout",
     "output_type": "stream",
     "text": [
      "\r",
      " 70%|███████████████████████████▍           | 1427/2027 [00:51<00:20, 28.69it/s]"
     ]
    },
    {
     "name": "stdout",
     "output_type": "stream",
     "text": [
      "\r",
      " 71%|███████████████████████████▌           | 1430/2027 [00:51<00:21, 28.28it/s]"
     ]
    },
    {
     "name": "stdout",
     "output_type": "stream",
     "text": [
      "\r",
      " 71%|███████████████████████████▌           | 1433/2027 [00:52<00:21, 28.28it/s]"
     ]
    },
    {
     "name": "stdout",
     "output_type": "stream",
     "text": [
      "\r",
      " 71%|███████████████████████████▋           | 1437/2027 [00:52<00:20, 29.28it/s]"
     ]
    },
    {
     "name": "stdout",
     "output_type": "stream",
     "text": [
      "\r",
      " 71%|███████████████████████████▋           | 1441/2027 [00:52<00:19, 30.18it/s]"
     ]
    },
    {
     "name": "stdout",
     "output_type": "stream",
     "text": [
      "\r",
      " 71%|███████████████████████████▊           | 1445/2027 [00:52<00:18, 31.02it/s]"
     ]
    },
    {
     "name": "stdout",
     "output_type": "stream",
     "text": [
      "\r",
      " 71%|███████████████████████████▉           | 1449/2027 [00:52<00:18, 31.41it/s]"
     ]
    },
    {
     "name": "stdout",
     "output_type": "stream",
     "text": [
      "\r",
      " 72%|███████████████████████████▉           | 1453/2027 [00:52<00:18, 30.58it/s]"
     ]
    },
    {
     "name": "stdout",
     "output_type": "stream",
     "text": [
      "\r",
      " 72%|████████████████████████████           | 1457/2027 [00:52<00:18, 30.81it/s]"
     ]
    },
    {
     "name": "stdout",
     "output_type": "stream",
     "text": [
      "\r",
      " 72%|████████████████████████████           | 1461/2027 [00:52<00:18, 30.87it/s]"
     ]
    },
    {
     "name": "stdout",
     "output_type": "stream",
     "text": [
      "\r",
      " 72%|████████████████████████████▏          | 1465/2027 [00:53<00:18, 29.86it/s]"
     ]
    },
    {
     "name": "stdout",
     "output_type": "stream",
     "text": [
      "\r",
      " 72%|████████████████████████████▎          | 1469/2027 [00:53<00:18, 30.57it/s]"
     ]
    },
    {
     "name": "stdout",
     "output_type": "stream",
     "text": [
      "\r",
      " 73%|████████████████████████████▎          | 1473/2027 [00:53<00:18, 30.29it/s]"
     ]
    },
    {
     "name": "stdout",
     "output_type": "stream",
     "text": [
      "\r",
      " 73%|████████████████████████████▍          | 1477/2027 [00:53<00:18, 29.18it/s]"
     ]
    },
    {
     "name": "stdout",
     "output_type": "stream",
     "text": [
      "\r",
      " 73%|████████████████████████████▍          | 1481/2027 [00:53<00:18, 30.01it/s]"
     ]
    },
    {
     "name": "stdout",
     "output_type": "stream",
     "text": [
      "\r",
      " 73%|████████████████████████████▌          | 1485/2027 [00:53<00:18, 30.11it/s]"
     ]
    },
    {
     "name": "stdout",
     "output_type": "stream",
     "text": [
      "\r",
      " 73%|████████████████████████████▋          | 1489/2027 [00:53<00:19, 27.92it/s]"
     ]
    },
    {
     "name": "stdout",
     "output_type": "stream",
     "text": [
      "\r",
      " 74%|████████████████████████████▋          | 1492/2027 [00:54<00:19, 27.21it/s]"
     ]
    },
    {
     "name": "stdout",
     "output_type": "stream",
     "text": [
      "\r",
      " 74%|████████████████████████████▊          | 1495/2027 [00:54<00:19, 27.34it/s]"
     ]
    },
    {
     "name": "stdout",
     "output_type": "stream",
     "text": [
      "\r",
      " 74%|████████████████████████████▊          | 1498/2027 [00:54<00:19, 27.02it/s]"
     ]
    },
    {
     "name": "stdout",
     "output_type": "stream",
     "text": [
      "\r",
      " 74%|████████████████████████████▉          | 1501/2027 [00:54<00:19, 27.09it/s]"
     ]
    },
    {
     "name": "stdout",
     "output_type": "stream",
     "text": [
      "\r",
      " 74%|████████████████████████████▉          | 1505/2027 [00:54<00:18, 28.84it/s]"
     ]
    },
    {
     "name": "stdout",
     "output_type": "stream",
     "text": [
      "\r",
      " 74%|█████████████████████████████          | 1509/2027 [00:54<00:17, 29.53it/s]"
     ]
    },
    {
     "name": "stdout",
     "output_type": "stream",
     "text": [
      "\r",
      " 75%|█████████████████████████████          | 1513/2027 [00:54<00:17, 30.15it/s]"
     ]
    },
    {
     "name": "stdout",
     "output_type": "stream",
     "text": [
      "\r",
      " 75%|█████████████████████████████▏         | 1517/2027 [00:54<00:16, 30.45it/s]"
     ]
    },
    {
     "name": "stdout",
     "output_type": "stream",
     "text": [
      "\r",
      " 75%|█████████████████████████████▎         | 1521/2027 [00:55<00:16, 31.41it/s]"
     ]
    },
    {
     "name": "stdout",
     "output_type": "stream",
     "text": [
      "\r",
      " 75%|█████████████████████████████▎         | 1525/2027 [00:55<00:15, 31.96it/s]"
     ]
    },
    {
     "name": "stdout",
     "output_type": "stream",
     "text": [
      "\r",
      " 75%|█████████████████████████████▍         | 1529/2027 [00:55<00:15, 32.72it/s]"
     ]
    },
    {
     "name": "stdout",
     "output_type": "stream",
     "text": [
      "\r",
      " 76%|█████████████████████████████▍         | 1533/2027 [00:55<00:15, 32.40it/s]"
     ]
    },
    {
     "name": "stdout",
     "output_type": "stream",
     "text": [
      "\r",
      " 76%|█████████████████████████████▌         | 1537/2027 [00:55<00:15, 31.72it/s]"
     ]
    },
    {
     "name": "stdout",
     "output_type": "stream",
     "text": [
      "\r",
      " 76%|█████████████████████████████▋         | 1541/2027 [00:55<00:16, 29.75it/s]"
     ]
    },
    {
     "name": "stdout",
     "output_type": "stream",
     "text": [
      "\r",
      " 76%|█████████████████████████████▋         | 1545/2027 [00:55<00:15, 30.41it/s]"
     ]
    },
    {
     "name": "stdout",
     "output_type": "stream",
     "text": [
      "\r",
      " 76%|█████████████████████████████▊         | 1549/2027 [00:55<00:15, 30.79it/s]"
     ]
    },
    {
     "name": "stdout",
     "output_type": "stream",
     "text": [
      "\r",
      " 77%|█████████████████████████████▉         | 1553/2027 [00:56<00:15, 30.94it/s]"
     ]
    },
    {
     "name": "stdout",
     "output_type": "stream",
     "text": [
      "\r",
      " 77%|█████████████████████████████▉         | 1557/2027 [00:56<00:15, 31.21it/s]"
     ]
    },
    {
     "name": "stdout",
     "output_type": "stream",
     "text": [
      "\r",
      " 77%|██████████████████████████████         | 1561/2027 [00:56<00:15, 30.89it/s]"
     ]
    },
    {
     "name": "stdout",
     "output_type": "stream",
     "text": [
      "\r",
      " 77%|██████████████████████████████         | 1565/2027 [00:56<00:15, 28.94it/s]"
     ]
    },
    {
     "name": "stdout",
     "output_type": "stream",
     "text": [
      "\r",
      " 77%|██████████████████████████████▏        | 1568/2027 [00:56<00:16, 28.17it/s]"
     ]
    },
    {
     "name": "stdout",
     "output_type": "stream",
     "text": [
      "\r",
      " 78%|██████████████████████████████▏        | 1571/2027 [00:56<00:16, 26.99it/s]"
     ]
    },
    {
     "name": "stdout",
     "output_type": "stream",
     "text": [
      "\r",
      " 78%|██████████████████████████████▎        | 1574/2027 [00:56<00:17, 26.48it/s]"
     ]
    },
    {
     "name": "stdout",
     "output_type": "stream",
     "text": [
      "\r",
      " 78%|██████████████████████████████▎        | 1578/2027 [00:56<00:16, 27.19it/s]"
     ]
    },
    {
     "name": "stdout",
     "output_type": "stream",
     "text": [
      "\r",
      " 78%|██████████████████████████████▍        | 1582/2027 [00:57<00:15, 28.57it/s]"
     ]
    },
    {
     "name": "stdout",
     "output_type": "stream",
     "text": [
      "\r",
      " 78%|██████████████████████████████▌        | 1586/2027 [00:57<00:15, 28.63it/s]"
     ]
    },
    {
     "name": "stdout",
     "output_type": "stream",
     "text": [
      "\r",
      " 78%|██████████████████████████████▌        | 1590/2027 [00:57<00:14, 29.35it/s]"
     ]
    },
    {
     "name": "stdout",
     "output_type": "stream",
     "text": [
      "\r",
      " 79%|██████████████████████████████▋        | 1593/2027 [00:57<00:14, 29.09it/s]"
     ]
    },
    {
     "name": "stdout",
     "output_type": "stream",
     "text": [
      "\r",
      " 79%|██████████████████████████████▋        | 1597/2027 [00:57<00:14, 30.55it/s]"
     ]
    },
    {
     "name": "stdout",
     "output_type": "stream",
     "text": [
      "\r",
      " 79%|██████████████████████████████▊        | 1601/2027 [00:57<00:14, 30.38it/s]"
     ]
    },
    {
     "name": "stdout",
     "output_type": "stream",
     "text": [
      "\r",
      " 79%|██████████████████████████████▉        | 1605/2027 [00:57<00:14, 29.31it/s]"
     ]
    },
    {
     "name": "stdout",
     "output_type": "stream",
     "text": [
      "\r",
      " 79%|██████████████████████████████▉        | 1608/2027 [00:57<00:14, 29.31it/s]"
     ]
    },
    {
     "name": "stdout",
     "output_type": "stream",
     "text": [
      "\r",
      " 79%|██████████████████████████████▉        | 1611/2027 [00:58<00:14, 28.07it/s]"
     ]
    },
    {
     "name": "stdout",
     "output_type": "stream",
     "text": [
      "\r",
      " 80%|███████████████████████████████        | 1615/2027 [00:58<00:14, 28.19it/s]"
     ]
    },
    {
     "name": "stdout",
     "output_type": "stream",
     "text": [
      "\r",
      " 80%|███████████████████████████████▏       | 1618/2027 [00:58<00:15, 27.08it/s]"
     ]
    },
    {
     "name": "stdout",
     "output_type": "stream",
     "text": [
      "\r",
      " 80%|███████████████████████████████▏       | 1621/2027 [00:58<00:14, 27.56it/s]"
     ]
    },
    {
     "name": "stdout",
     "output_type": "stream",
     "text": [
      "\r",
      " 80%|███████████████████████████████▎       | 1625/2027 [00:58<00:13, 29.00it/s]"
     ]
    },
    {
     "name": "stdout",
     "output_type": "stream",
     "text": [
      "\r",
      " 80%|███████████████████████████████▎       | 1629/2027 [00:58<00:13, 30.22it/s]"
     ]
    },
    {
     "name": "stdout",
     "output_type": "stream",
     "text": [
      "\r",
      " 81%|███████████████████████████████▍       | 1633/2027 [00:58<00:13, 30.26it/s]"
     ]
    },
    {
     "name": "stdout",
     "output_type": "stream",
     "text": [
      "\r",
      " 81%|███████████████████████████████▍       | 1637/2027 [00:58<00:12, 31.19it/s]"
     ]
    },
    {
     "name": "stdout",
     "output_type": "stream",
     "text": [
      "\r",
      " 81%|███████████████████████████████▌       | 1641/2027 [00:59<00:12, 31.92it/s]"
     ]
    },
    {
     "name": "stdout",
     "output_type": "stream",
     "text": [
      "\r",
      " 81%|███████████████████████████████▋       | 1645/2027 [00:59<00:12, 30.56it/s]"
     ]
    },
    {
     "name": "stdout",
     "output_type": "stream",
     "text": [
      "\r",
      " 81%|███████████████████████████████▋       | 1649/2027 [00:59<00:13, 28.27it/s]"
     ]
    },
    {
     "name": "stdout",
     "output_type": "stream",
     "text": [
      "\r",
      " 81%|███████████████████████████████▊       | 1652/2027 [00:59<00:13, 27.85it/s]"
     ]
    },
    {
     "name": "stdout",
     "output_type": "stream",
     "text": [
      "\r",
      " 82%|███████████████████████████████▊       | 1655/2027 [00:59<00:13, 27.89it/s]"
     ]
    },
    {
     "name": "stdout",
     "output_type": "stream",
     "text": [
      "\r",
      " 82%|███████████████████████████████▉       | 1659/2027 [00:59<00:12, 29.82it/s]"
     ]
    },
    {
     "name": "stdout",
     "output_type": "stream",
     "text": [
      "\r",
      " 82%|███████████████████████████████▉       | 1663/2027 [00:59<00:11, 30.74it/s]"
     ]
    },
    {
     "name": "stdout",
     "output_type": "stream",
     "text": [
      "\r",
      " 82%|████████████████████████████████       | 1667/2027 [00:59<00:11, 31.35it/s]"
     ]
    },
    {
     "name": "stdout",
     "output_type": "stream",
     "text": [
      "\r",
      " 82%|████████████████████████████████▏      | 1671/2027 [01:00<00:11, 31.44it/s]"
     ]
    },
    {
     "name": "stdout",
     "output_type": "stream",
     "text": [
      "\r",
      " 83%|████████████████████████████████▏      | 1675/2027 [01:00<00:11, 29.83it/s]"
     ]
    },
    {
     "name": "stdout",
     "output_type": "stream",
     "text": [
      "\r",
      " 83%|████████████████████████████████▎      | 1679/2027 [01:00<00:12, 28.82it/s]"
     ]
    },
    {
     "name": "stdout",
     "output_type": "stream",
     "text": [
      "\r",
      " 83%|████████████████████████████████▎      | 1682/2027 [01:00<00:12, 27.33it/s]"
     ]
    },
    {
     "name": "stdout",
     "output_type": "stream",
     "text": [
      "\r",
      " 83%|████████████████████████████████▍      | 1686/2027 [01:00<00:11, 28.63it/s]"
     ]
    },
    {
     "name": "stdout",
     "output_type": "stream",
     "text": [
      "\r",
      " 83%|████████████████████████████████▍      | 1689/2027 [01:00<00:12, 28.10it/s]"
     ]
    },
    {
     "name": "stdout",
     "output_type": "stream",
     "text": [
      "\r",
      " 84%|████████████████████████████████▌      | 1693/2027 [01:00<00:11, 29.36it/s]"
     ]
    },
    {
     "name": "stdout",
     "output_type": "stream",
     "text": [
      "\r",
      " 84%|████████████████████████████████▋      | 1696/2027 [01:01<00:11, 27.62it/s]"
     ]
    },
    {
     "name": "stdout",
     "output_type": "stream",
     "text": [
      "\r",
      " 84%|████████████████████████████████▋      | 1699/2027 [01:01<00:11, 27.37it/s]"
     ]
    },
    {
     "name": "stdout",
     "output_type": "stream",
     "text": [
      "\r",
      " 84%|████████████████████████████████▊      | 1703/2027 [01:01<00:11, 28.21it/s]"
     ]
    },
    {
     "name": "stdout",
     "output_type": "stream",
     "text": [
      "\r",
      " 84%|████████████████████████████████▊      | 1707/2027 [01:01<00:11, 28.47it/s]"
     ]
    }
   ],
   "source": [
    "!zsh prepare_audio.sh tsv /kaggle/working /kaggle/input/download-xlsr-53-wav2vec2-model/xlsr_53_56k.pt"
   ]
  }
 ],
 "metadata": {
  "kernelspec": {
   "display_name": "Python 3",
   "language": "python",
   "name": "python3"
  },
  "language_info": {
   "codemirror_mode": {
    "name": "ipython",
    "version": 3
   },
   "file_extension": ".py",
   "mimetype": "text/x-python",
   "name": "python",
   "nbconvert_exporter": "python",
   "pygments_lexer": "ipython3",
   "version": "3.6.4"
  },
  "papermill": {
   "default_parameters": {},
   "duration": null,
   "end_time": null,
   "environment_variables": {},
   "exception": null,
   "input_path": "__notebook__.ipynb",
   "output_path": "__notebook__.ipynb",
   "parameters": {},
   "start_time": "2021-05-27T17:48:10.321755",
   "version": "2.3.3"
  }
 },
 "nbformat": 4,
 "nbformat_minor": 5
}