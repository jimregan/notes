{
 "cells": [
  {
   "cell_type": "code",
   "execution_count": 1,
   "id": "fundamental-convergence",
   "metadata": {
    "execution": {
     "iopub.execute_input": "2021-05-27T17:30:34.542902Z",
     "iopub.status.busy": "2021-05-27T17:30:34.541151Z",
     "iopub.status.idle": "2021-05-27T17:30:34.552908Z",
     "shell.execute_reply": "2021-05-27T17:30:34.552346Z",
     "shell.execute_reply.started": "2021-05-25T21:59:52.937901Z"
    },
    "papermill": {
     "duration": 0.023875,
     "end_time": "2021-05-27T17:30:34.553056",
     "exception": false,
     "start_time": "2021-05-27T17:30:34.529181",
     "status": "completed"
    },
    "tags": []
   },
   "outputs": [
    {
     "name": "stdout",
     "output_type": "stream",
     "text": [
      "/tmp\n"
     ]
    }
   ],
   "source": [
    "%cd /tmp"
   ]
  },
  {
   "cell_type": "code",
   "execution_count": 2,
   "id": "rough-letters",
   "metadata": {
    "execution": {
     "iopub.execute_input": "2021-05-27T17:30:34.571128Z",
     "iopub.status.busy": "2021-05-27T17:30:34.570460Z",
     "iopub.status.idle": "2021-05-27T17:31:22.101100Z",
     "shell.execute_reply": "2021-05-27T17:31:22.100577Z"
    },
    "papermill": {
     "duration": 47.541,
     "end_time": "2021-05-27T17:31:22.101237",
     "exception": false,
     "start_time": "2021-05-27T17:30:34.560237",
     "status": "completed"
    },
    "tags": []
   },
   "outputs": [
    {
     "name": "stdout",
     "output_type": "stream",
     "text": [
      "Collecting git+https://github.com/pytorch/fairseq/\r\n",
      "  Cloning https://github.com/pytorch/fairseq/ to ./pip-req-build-zebvh7pn\r\n",
      "  Running command git clone -q https://github.com/pytorch/fairseq/ /tmp/pip-req-build-zebvh7pn\r\n",
      "  Running command git submodule update --init --recursive -q\r\n",
      "  Installing build dependencies ... \u001b[?25l-\b \b\\\b \b|\b \b/\b \b-\b \b\\\b \bdone\r\n",
      "\u001b[?25h  Getting requirements to build wheel ... \u001b[?25ldone\r\n",
      "\u001b[?25h  Installing backend dependencies ... \u001b[?25l-\b \b\\\b \b|\b \b/\b \b-\b \bdone\r\n",
      "\u001b[?25h    Preparing wheel metadata ... \u001b[?25l-\b \b\\\b \bdone\r\n",
      "\u001b[?25hCollecting hydra-core<1.1\r\n",
      "  Downloading hydra_core-1.0.6-py3-none-any.whl (123 kB)\r\n",
      "\u001b[K     |████████████████████████████████| 123 kB 1.3 MB/s \r\n",
      "\u001b[?25hRequirement already satisfied: numpy in /opt/conda/lib/python3.7/site-packages (from fairseq==1.0.0a0+c8223e3) (1.19.5)\r\n",
      "Requirement already satisfied: regex in /opt/conda/lib/python3.7/site-packages (from fairseq==1.0.0a0+c8223e3) (2021.3.17)\r\n",
      "Requirement already satisfied: torch in /opt/conda/lib/python3.7/site-packages (from fairseq==1.0.0a0+c8223e3) (1.7.0)\r\n",
      "Collecting sacrebleu>=1.4.12\r\n",
      "  Downloading sacrebleu-1.5.1-py3-none-any.whl (54 kB)\r\n",
      "\u001b[K     |████████████████████████████████| 54 kB 1.7 MB/s \r\n",
      "\u001b[?25hRequirement already satisfied: cython in /opt/conda/lib/python3.7/site-packages (from fairseq==1.0.0a0+c8223e3) (0.29.23)\r\n",
      "Requirement already satisfied: cffi in /opt/conda/lib/python3.7/site-packages (from fairseq==1.0.0a0+c8223e3) (1.14.5)\r\n",
      "Collecting omegaconf<2.1\r\n",
      "  Downloading omegaconf-2.0.6-py3-none-any.whl (36 kB)\r\n",
      "Requirement already satisfied: tqdm in /opt/conda/lib/python3.7/site-packages (from fairseq==1.0.0a0+c8223e3) (4.59.0)\r\n",
      "Collecting importlib-resources\r\n",
      "  Downloading importlib_resources-5.1.4-py3-none-any.whl (26 kB)\r\n",
      "Collecting antlr4-python3-runtime==4.8\r\n",
      "  Downloading antlr4-python3-runtime-4.8.tar.gz (112 kB)\r\n",
      "\u001b[K     |████████████████████████████████| 112 kB 4.1 MB/s \r\n",
      "\u001b[?25hRequirement already satisfied: PyYAML>=5.1.* in /opt/conda/lib/python3.7/site-packages (from omegaconf<2.1->fairseq==1.0.0a0+c8223e3) (5.3.1)\r\n",
      "Requirement already satisfied: typing-extensions in /opt/conda/lib/python3.7/site-packages (from omegaconf<2.1->fairseq==1.0.0a0+c8223e3) (3.7.4.3)\r\n",
      "Collecting portalocker==2.0.0\r\n",
      "  Downloading portalocker-2.0.0-py2.py3-none-any.whl (11 kB)\r\n",
      "Requirement already satisfied: pycparser in /opt/conda/lib/python3.7/site-packages (from cffi->fairseq==1.0.0a0+c8223e3) (2.20)\r\n",
      "Requirement already satisfied: zipp>=3.1.0 in /opt/conda/lib/python3.7/site-packages (from importlib-resources->hydra-core<1.1->fairseq==1.0.0a0+c8223e3) (3.4.1)\r\n",
      "Requirement already satisfied: future in /opt/conda/lib/python3.7/site-packages (from torch->fairseq==1.0.0a0+c8223e3) (0.18.2)\r\n",
      "Requirement already satisfied: dataclasses in /opt/conda/lib/python3.7/site-packages (from torch->fairseq==1.0.0a0+c8223e3) (0.6)\r\n",
      "Building wheels for collected packages: fairseq, antlr4-python3-runtime\r\n",
      "  Building wheel for fairseq (PEP 517) ... \u001b[?25l-\b \b\\\b \b|\b \b/\b \b-\b \b\\\b \b|\b \b/\b \b-\b \b\\\b \b|\b \b/\b \b-\b \b\\\b \b|\b \b/\b \b-\b \b\\\b \bdone\r\n",
      "\u001b[?25h  Created wheel for fairseq: filename=fairseq-1.0.0a0+c8223e3-cp37-cp37m-linux_x86_64.whl size=2063173 sha256=eb5f60ad60161ed941334a1a379fa498e6f02c97ca5416f13725a2cbcf183780\r\n",
      "  Stored in directory: /tmp/pip-ephem-wheel-cache-2yr3hj1s/wheels/bf/8b/86/69a0f965bcf2c21f14c327d7a0131024ff24e19e3ab6726a07\r\n",
      "  Building wheel for antlr4-python3-runtime (setup.py) ... \u001b[?25l-\b \b\\\b \bdone\r\n",
      "\u001b[?25h  Created wheel for antlr4-python3-runtime: filename=antlr4_python3_runtime-4.8-py3-none-any.whl size=141230 sha256=0e805cc0ea0915b51ff46540c3bcfe9444010d6805cd5b4750443ee41da9bf57\r\n",
      "  Stored in directory: /root/.cache/pip/wheels/ca/33/b7/336836125fc9bb4ceaa4376d8abca10ca8bc84ddc824baea6c\r\n",
      "Successfully built fairseq antlr4-python3-runtime\r\n",
      "Installing collected packages: portalocker, omegaconf, importlib-resources, antlr4-python3-runtime, sacrebleu, hydra-core, fairseq\r\n",
      "  Attempting uninstall: portalocker\r\n",
      "    Found existing installation: portalocker 2.3.0\r\n",
      "    Uninstalling portalocker-2.3.0:\r\n",
      "      Successfully uninstalled portalocker-2.3.0\r\n",
      "Successfully installed antlr4-python3-runtime-4.8 fairseq-1.0.0a0+c8223e3 hydra-core-1.0.6 importlib-resources-5.1.4 omegaconf-2.0.6 portalocker-2.0.0 sacrebleu-1.5.1\r\n"
     ]
    }
   ],
   "source": [
    "!pip install git+https://github.com/pytorch/fairseq/"
   ]
  },
  {
   "cell_type": "code",
   "execution_count": 3,
   "id": "possible-operations",
   "metadata": {
    "_cell_guid": "b1076dfc-b9ad-4769-8c92-a6c4dae69d19",
    "_uuid": "8f2839f25d086af736a60e9eeb907d3b93b6e0e5",
    "execution": {
     "iopub.execute_input": "2021-05-27T17:31:22.152260Z",
     "iopub.status.busy": "2021-05-27T17:31:22.148193Z",
     "iopub.status.idle": "2021-05-27T17:31:24.732770Z",
     "shell.execute_reply": "2021-05-27T17:31:24.733226Z",
     "shell.execute_reply.started": "2021-05-25T21:59:52.944817Z"
    },
    "papermill": {
     "duration": 2.610275,
     "end_time": "2021-05-27T17:31:24.733421",
     "exception": false,
     "start_time": "2021-05-27T17:31:22.123146",
     "status": "completed"
    },
    "tags": []
   },
   "outputs": [
    {
     "name": "stdout",
     "output_type": "stream",
     "text": [
      "Cloning into 'fairseq'...\r\n",
      "remote: Enumerating objects: 28166, done.\u001b[K\r\n",
      "remote: Counting objects: 100% (580/580), done.\u001b[K\r\n",
      "remote: Compressing objects: 100% (351/351), done.\u001b[K\r\n",
      "remote: Total 28166 (delta 285), reused 442 (delta 216), pack-reused 27586\u001b[K\r\n",
      "Receiving objects: 100% (28166/28166), 11.90 MiB | 20.94 MiB/s, done.\r\n",
      "Resolving deltas: 100% (21104/21104), done.\r\n"
     ]
    }
   ],
   "source": [
    "!git clone https://github.com/pytorch/fairseq/"
   ]
  },
  {
   "cell_type": "code",
   "execution_count": 4,
   "id": "hired-seeker",
   "metadata": {
    "execution": {
     "iopub.execute_input": "2021-05-27T17:31:24.800062Z",
     "iopub.status.busy": "2021-05-27T17:31:24.799045Z",
     "iopub.status.idle": "2021-05-27T17:31:24.802488Z",
     "shell.execute_reply": "2021-05-27T17:31:24.802902Z",
     "shell.execute_reply.started": "2021-05-25T21:59:53.235485Z"
    },
    "papermill": {
     "duration": 0.03781,
     "end_time": "2021-05-27T17:31:24.803036",
     "exception": false,
     "start_time": "2021-05-27T17:31:24.765226",
     "status": "completed"
    },
    "tags": []
   },
   "outputs": [
    {
     "name": "stdout",
     "output_type": "stream",
     "text": [
      "/tmp/fairseq/examples/wav2vec/unsupervised/scripts\n"
     ]
    }
   ],
   "source": [
    "%cd fairseq/examples/wav2vec/unsupervised/scripts"
   ]
  },
  {
   "cell_type": "code",
   "execution_count": 5,
   "id": "allied-flour",
   "metadata": {
    "execution": {
     "iopub.execute_input": "2021-05-27T17:31:24.877200Z",
     "iopub.status.busy": "2021-05-27T17:31:24.874190Z",
     "iopub.status.idle": "2021-05-27T17:31:28.731125Z",
     "shell.execute_reply": "2021-05-27T17:31:28.730186Z"
    },
    "papermill": {
     "duration": 3.900607,
     "end_time": "2021-05-27T17:31:28.731270",
     "exception": false,
     "start_time": "2021-05-27T17:31:24.830663",
     "status": "completed"
    },
    "tags": []
   },
   "outputs": [],
   "source": [
    "!mkdir tsv\n",
    "!for i in train test valid; do echo /kaggle/input/wav2vec-u-cv-swedish-vads/wav/train/common-voice-swedish-16bit-wav/ > tsv/$i.tsv; cat /kaggle/input/fork-of-wav2vec-u-cv-swedish-tsv/test.tsv|sed '1d' >> tsv/$i.tsv;done\n",
    "!cp /kaggle/input/wav2vec-u-cv-swedish-prep-ltr-phn-wrd/dic* tsv/\n",
    "!cp /kaggle/input/wav2vec-u-cv-swedish-prep-ltr-phn-wrd/*.wrd tsv/\n",
    "!cp /kaggle/input/wav2vec-u-cv-swedish-prep-ltr-phn-wrd/*.ltr tsv/\n",
    "!cp /kaggle/input/wav2vec-u-cv-swedish-prep-ltr-phn-wrd/*.phn tsv/"
   ]
  },
  {
   "cell_type": "code",
   "execution_count": 6,
   "id": "square-liberty",
   "metadata": {
    "execution": {
     "iopub.execute_input": "2021-05-27T17:31:28.791633Z",
     "iopub.status.busy": "2021-05-27T17:31:28.790877Z",
     "iopub.status.idle": "2021-05-27T17:31:36.182486Z",
     "shell.execute_reply": "2021-05-27T17:31:36.181951Z"
    },
    "papermill": {
     "duration": 7.423516,
     "end_time": "2021-05-27T17:31:36.182612",
     "exception": false,
     "start_time": "2021-05-27T17:31:28.759096",
     "status": "completed"
    },
    "tags": []
   },
   "outputs": [
    {
     "name": "stdout",
     "output_type": "stream",
     "text": [
      "Collecting npy-append-array\r\n",
      "  Downloading npy_append_array-0.9.6-py3-none-any.whl (4.4 kB)\r\n",
      "Collecting faiss\r\n",
      "  Downloading faiss-1.5.3-cp37-cp37m-manylinux1_x86_64.whl (4.7 MB)\r\n",
      "\u001b[K     |████████████████████████████████| 4.7 MB 1.2 MB/s \r\n",
      "\u001b[?25hRequirement already satisfied: numpy in /opt/conda/lib/python3.7/site-packages (from faiss) (1.19.5)\r\n",
      "Installing collected packages: npy-append-array, faiss\r\n",
      "Successfully installed faiss-1.5.3 npy-append-array-0.9.6\r\n"
     ]
    }
   ],
   "source": [
    "!pip install npy-append-array faiss "
   ]
  },
  {
   "cell_type": "code",
   "execution_count": 7,
   "id": "recognized-dividend",
   "metadata": {
    "execution": {
     "iopub.execute_input": "2021-05-27T17:31:36.295054Z",
     "iopub.status.busy": "2021-05-27T17:31:36.291106Z",
     "iopub.status.idle": "2021-05-27T17:31:43.032983Z",
     "shell.execute_reply": "2021-05-27T17:31:43.032495Z"
    },
    "papermill": {
     "duration": 6.801671,
     "end_time": "2021-05-27T17:31:43.033121",
     "exception": false,
     "start_time": "2021-05-27T17:31:36.231450",
     "status": "completed"
    },
    "tags": []
   },
   "outputs": [],
   "source": [
    "%%capture\n",
    "!apt-get -y install zsh"
   ]
  },
  {
   "cell_type": "code",
   "execution_count": 8,
   "id": "dominant-patent",
   "metadata": {
    "execution": {
     "iopub.execute_input": "2021-05-27T17:31:43.111980Z",
     "iopub.status.busy": "2021-05-27T17:31:43.107757Z",
     "iopub.status.idle": "2021-05-27T17:33:09.357312Z",
     "shell.execute_reply": "2021-05-27T17:33:09.356759Z"
    },
    "papermill": {
     "duration": 86.288876,
     "end_time": "2021-05-27T17:33:09.357478",
     "exception": false,
     "start_time": "2021-05-27T17:31:43.068602",
     "status": "completed"
    },
    "tags": []
   },
   "outputs": [
    {
     "name": "stdout",
     "output_type": "stream",
     "text": [
      "using 512 dim for PCA\r\n",
      "  0%|                                                  | 0/2027 [00:00<?, ?it/s]\r\n",
      "Traceback (most recent call last):\r\n",
      "  File \"wav2vec_extract_features.py\", line 117, in <module>\r\n",
      "    main()\r\n",
      "  File \"wav2vec_extract_features.py\", line 109, in main\r\n",
      "    for w2v_feats in tqdm.tqdm(iterator, total=num):\r\n",
      "  File \"/opt/conda/lib/python3.7/site-packages/tqdm/std.py\", line 1178, in __iter__\r\n",
      "    for obj in iterable:\r\n",
      "  File \"wav2vec_extract_features.py\", line 78, in iterate\r\n",
      "    w2v_feats = reader.get_feats(fname)\r\n",
      "  File \"wav2vec_extract_features.py\", line 54, in get_feats\r\n",
      "    x = self.read_audio(loc)\r\n",
      "  File \"wav2vec_extract_features.py\", line 48, in read_audio\r\n",
      "    wav, sr = sf.read(fname)\r\n",
      "  File \"/opt/conda/lib/python3.7/site-packages/soundfile.py\", line 257, in read\r\n",
      "    subtype, endian, format, closefd) as f:\r\n",
      "  File \"/opt/conda/lib/python3.7/site-packages/soundfile.py\", line 629, in __init__\r\n",
      "    self._file = self._open(file, mode_int, closefd)\r\n",
      "  File \"/opt/conda/lib/python3.7/site-packages/soundfile.py\", line 1184, in _open\r\n",
      "    \"Error opening {0!r}: \".format(self.name))\r\n",
      "  File \"/opt/conda/lib/python3.7/site-packages/soundfile.py\", line 1357, in _error_check\r\n",
      "    raise RuntimeError(prefix + _ffi.string(err_str).decode('utf-8', 'replace'))\r\n",
      "RuntimeError: Error opening '/kaggle/input/wav2vec-u-cv-swedish-vads/wav/train/common-voice-swedish-16bit-wav/common_voice_sv-SE_23828220.wav': System error.\r\n",
      "  0%|                                                  | 0/2027 [00:00<?, ?it/s]\r\n",
      "Traceback (most recent call last):\r\n",
      "  File \"wav2vec_extract_features.py\", line 117, in <module>\r\n",
      "    main()\r\n",
      "  File \"wav2vec_extract_features.py\", line 109, in main\r\n",
      "    for w2v_feats in tqdm.tqdm(iterator, total=num):\r\n",
      "  File \"/opt/conda/lib/python3.7/site-packages/tqdm/std.py\", line 1178, in __iter__\r\n",
      "    for obj in iterable:\r\n",
      "  File \"wav2vec_extract_features.py\", line 78, in iterate\r\n",
      "    w2v_feats = reader.get_feats(fname)\r\n",
      "  File \"wav2vec_extract_features.py\", line 54, in get_feats\r\n",
      "    x = self.read_audio(loc)\r\n",
      "  File \"wav2vec_extract_features.py\", line 48, in read_audio\r\n",
      "    wav, sr = sf.read(fname)\r\n",
      "  File \"/opt/conda/lib/python3.7/site-packages/soundfile.py\", line 257, in read\r\n",
      "    subtype, endian, format, closefd) as f:\r\n",
      "  File \"/opt/conda/lib/python3.7/site-packages/soundfile.py\", line 629, in __init__\r\n",
      "    self._file = self._open(file, mode_int, closefd)\r\n",
      "  File \"/opt/conda/lib/python3.7/site-packages/soundfile.py\", line 1184, in _open\r\n",
      "    \"Error opening {0!r}: \".format(self.name))\r\n",
      "  File \"/opt/conda/lib/python3.7/site-packages/soundfile.py\", line 1357, in _error_check\r\n",
      "    raise RuntimeError(prefix + _ffi.string(err_str).decode('utf-8', 'replace'))\r\n",
      "RuntimeError: Error opening '/kaggle/input/wav2vec-u-cv-swedish-vads/wav/train/common-voice-swedish-16bit-wav/common_voice_sv-SE_23828220.wav': System error.\r\n",
      "  0%|                                                  | 0/2027 [00:00<?, ?it/s]\r\n",
      "Traceback (most recent call last):\r\n",
      "  File \"wav2vec_extract_features.py\", line 117, in <module>\r\n",
      "    main()\r\n",
      "  File \"wav2vec_extract_features.py\", line 109, in main\r\n",
      "    for w2v_feats in tqdm.tqdm(iterator, total=num):\r\n",
      "  File \"/opt/conda/lib/python3.7/site-packages/tqdm/std.py\", line 1178, in __iter__\r\n",
      "    for obj in iterable:\r\n",
      "  File \"wav2vec_extract_features.py\", line 78, in iterate\r\n",
      "    w2v_feats = reader.get_feats(fname)\r\n",
      "  File \"wav2vec_extract_features.py\", line 54, in get_feats\r\n",
      "    x = self.read_audio(loc)\r\n",
      "  File \"wav2vec_extract_features.py\", line 48, in read_audio\r\n",
      "    wav, sr = sf.read(fname)\r\n",
      "  File \"/opt/conda/lib/python3.7/site-packages/soundfile.py\", line 257, in read\r\n",
      "    subtype, endian, format, closefd) as f:\r\n",
      "  File \"/opt/conda/lib/python3.7/site-packages/soundfile.py\", line 629, in __init__\r\n",
      "    self._file = self._open(file, mode_int, closefd)\r\n",
      "  File \"/opt/conda/lib/python3.7/site-packages/soundfile.py\", line 1184, in _open\r\n",
      "    \"Error opening {0!r}: \".format(self.name))\r\n",
      "  File \"/opt/conda/lib/python3.7/site-packages/soundfile.py\", line 1357, in _error_check\r\n",
      "    raise RuntimeError(prefix + _ffi.string(err_str).decode('utf-8', 'replace'))\r\n",
      "RuntimeError: Error opening '/kaggle/input/wav2vec-u-cv-swedish-vads/wav/train/common-voice-swedish-16bit-wav/common_voice_sv-SE_23828220.wav': System error.\r\n",
      "Traceback (most recent call last):\r\n",
      "  File \"/opt/conda/lib/python3.7/site-packages/faiss/swigfaiss.py\", line 14, in swig_import_helper\r\n",
      "    return importlib.import_module(mname)\r\n",
      "  File \"/opt/conda/lib/python3.7/importlib/__init__.py\", line 127, in import_module\r\n",
      "    return _bootstrap._gcd_import(name[level:], package, level)\r\n",
      "  File \"<frozen importlib._bootstrap>\", line 1006, in _gcd_import\r\n",
      "  File \"<frozen importlib._bootstrap>\", line 983, in _find_and_load\r\n",
      "  File \"<frozen importlib._bootstrap>\", line 967, in _find_and_load_unlocked\r\n",
      "  File \"<frozen importlib._bootstrap>\", line 670, in _load_unlocked\r\n",
      "  File \"<frozen importlib._bootstrap>\", line 583, in module_from_spec\r\n",
      "  File \"<frozen importlib._bootstrap_external>\", line 1043, in create_module\r\n",
      "  File \"<frozen importlib._bootstrap>\", line 219, in _call_with_frames_removed\r\n",
      "ImportError: libomp.so: cannot open shared object file: No such file or directory\r\n",
      "\r\n",
      "During handling of the above exception, another exception occurred:\r\n",
      "\r\n",
      "Traceback (most recent call last):\r\n",
      "  File \"wav2vec_cluster_faiss.py\", line 18, in <module>\r\n",
      "    import faiss\r\n",
      "  File \"/opt/conda/lib/python3.7/site-packages/faiss/__init__.py\", line 19, in <module>\r\n",
      "    from .swigfaiss import *\r\n",
      "  File \"/opt/conda/lib/python3.7/site-packages/faiss/swigfaiss.py\", line 17, in <module>\r\n",
      "    _swigfaiss = swig_import_helper()\r\n",
      "  File \"/opt/conda/lib/python3.7/site-packages/faiss/swigfaiss.py\", line 16, in swig_import_helper\r\n",
      "    return importlib.import_module('_swigfaiss')\r\n",
      "  File \"/opt/conda/lib/python3.7/importlib/__init__.py\", line 127, in import_module\r\n",
      "    return _bootstrap._gcd_import(name[level:], package, level)\r\n",
      "ModuleNotFoundError: No module named '_swigfaiss'\r\n",
      "Traceback (most recent call last):\r\n",
      "  File \"/opt/conda/lib/python3.7/site-packages/faiss/swigfaiss.py\", line 14, in swig_import_helper\r\n",
      "    return importlib.import_module(mname)\r\n",
      "  File \"/opt/conda/lib/python3.7/importlib/__init__.py\", line 127, in import_module\r\n",
      "    return _bootstrap._gcd_import(name[level:], package, level)\r\n",
      "  File \"<frozen importlib._bootstrap>\", line 1006, in _gcd_import\r\n",
      "  File \"<frozen importlib._bootstrap>\", line 983, in _find_and_load\r\n",
      "  File \"<frozen importlib._bootstrap>\", line 967, in _find_and_load_unlocked\r\n",
      "  File \"<frozen importlib._bootstrap>\", line 670, in _load_unlocked\r\n",
      "  File \"<frozen importlib._bootstrap>\", line 583, in module_from_spec\r\n",
      "  File \"<frozen importlib._bootstrap_external>\", line 1043, in create_module\r\n",
      "  File \"<frozen importlib._bootstrap>\", line 219, in _call_with_frames_removed\r\n",
      "ImportError: libomp.so: cannot open shared object file: No such file or directory\r\n",
      "\r\n",
      "During handling of the above exception, another exception occurred:\r\n",
      "\r\n",
      "Traceback (most recent call last):\r\n",
      "  File \"wav2vec_apply_cluster_faiss.py\", line 14, in <module>\r\n",
      "    import faiss\r\n",
      "  File \"/opt/conda/lib/python3.7/site-packages/faiss/__init__.py\", line 19, in <module>\r\n",
      "    from .swigfaiss import *\r\n",
      "  File \"/opt/conda/lib/python3.7/site-packages/faiss/swigfaiss.py\", line 17, in <module>\r\n",
      "    _swigfaiss = swig_import_helper()\r\n",
      "  File \"/opt/conda/lib/python3.7/site-packages/faiss/swigfaiss.py\", line 16, in swig_import_helper\r\n",
      "    return importlib.import_module('_swigfaiss')\r\n",
      "  File \"/opt/conda/lib/python3.7/importlib/__init__.py\", line 127, in import_module\r\n",
      "    return _bootstrap._gcd_import(name[level:], package, level)\r\n",
      "ModuleNotFoundError: No module named '_swigfaiss'\r\n",
      "Traceback (most recent call last):\r\n",
      "  File \"/opt/conda/lib/python3.7/site-packages/faiss/swigfaiss.py\", line 14, in swig_import_helper\r\n",
      "    return importlib.import_module(mname)\r\n",
      "  File \"/opt/conda/lib/python3.7/importlib/__init__.py\", line 127, in import_module\r\n",
      "    return _bootstrap._gcd_import(name[level:], package, level)\r\n",
      "  File \"<frozen importlib._bootstrap>\", line 1006, in _gcd_import\r\n",
      "  File \"<frozen importlib._bootstrap>\", line 983, in _find_and_load\r\n",
      "  File \"<frozen importlib._bootstrap>\", line 967, in _find_and_load_unlocked\r\n",
      "  File \"<frozen importlib._bootstrap>\", line 670, in _load_unlocked\r\n",
      "  File \"<frozen importlib._bootstrap>\", line 583, in module_from_spec\r\n",
      "  File \"<frozen importlib._bootstrap_external>\", line 1043, in create_module\r\n",
      "  File \"<frozen importlib._bootstrap>\", line 219, in _call_with_frames_removed\r\n",
      "ImportError: libomp.so: cannot open shared object file: No such file or directory\r\n",
      "\r\n",
      "During handling of the above exception, another exception occurred:\r\n",
      "\r\n",
      "Traceback (most recent call last):\r\n",
      "  File \"wav2vec_apply_cluster_faiss.py\", line 14, in <module>\r\n",
      "    import faiss\r\n",
      "  File \"/opt/conda/lib/python3.7/site-packages/faiss/__init__.py\", line 19, in <module>\r\n",
      "    from .swigfaiss import *\r\n",
      "  File \"/opt/conda/lib/python3.7/site-packages/faiss/swigfaiss.py\", line 17, in <module>\r\n",
      "    _swigfaiss = swig_import_helper()\r\n",
      "  File \"/opt/conda/lib/python3.7/site-packages/faiss/swigfaiss.py\", line 16, in swig_import_helper\r\n",
      "    return importlib.import_module('_swigfaiss')\r\n",
      "  File \"/opt/conda/lib/python3.7/importlib/__init__.py\", line 127, in import_module\r\n",
      "    return _bootstrap._gcd_import(name[level:], package, level)\r\n",
      "ModuleNotFoundError: No module named '_swigfaiss'\r\n",
      "Traceback (most recent call last):\r\n",
      "  File \"/opt/conda/lib/python3.7/site-packages/faiss/swigfaiss.py\", line 14, in swig_import_helper\r\n",
      "    return importlib.import_module(mname)\r\n",
      "  File \"/opt/conda/lib/python3.7/importlib/__init__.py\", line 127, in import_module\r\n",
      "    return _bootstrap._gcd_import(name[level:], package, level)\r\n",
      "  File \"<frozen importlib._bootstrap>\", line 1006, in _gcd_import\r\n",
      "  File \"<frozen importlib._bootstrap>\", line 983, in _find_and_load\r\n",
      "  File \"<frozen importlib._bootstrap>\", line 967, in _find_and_load_unlocked\r\n",
      "  File \"<frozen importlib._bootstrap>\", line 670, in _load_unlocked\r\n",
      "  File \"<frozen importlib._bootstrap>\", line 583, in module_from_spec\r\n",
      "  File \"<frozen importlib._bootstrap_external>\", line 1043, in create_module\r\n",
      "  File \"<frozen importlib._bootstrap>\", line 219, in _call_with_frames_removed\r\n",
      "ImportError: libomp.so: cannot open shared object file: No such file or directory\r\n",
      "\r\n",
      "During handling of the above exception, another exception occurred:\r\n",
      "\r\n",
      "Traceback (most recent call last):\r\n",
      "  File \"wav2vec_apply_cluster_faiss.py\", line 14, in <module>\r\n",
      "    import faiss\r\n",
      "  File \"/opt/conda/lib/python3.7/site-packages/faiss/__init__.py\", line 19, in <module>\r\n",
      "    from .swigfaiss import *\r\n",
      "  File \"/opt/conda/lib/python3.7/site-packages/faiss/swigfaiss.py\", line 17, in <module>\r\n",
      "    _swigfaiss = swig_import_helper()\r\n",
      "  File \"/opt/conda/lib/python3.7/site-packages/faiss/swigfaiss.py\", line 16, in swig_import_helper\r\n",
      "    return importlib.import_module('_swigfaiss')\r\n",
      "  File \"/opt/conda/lib/python3.7/importlib/__init__.py\", line 127, in import_module\r\n",
      "    return _bootstrap._gcd_import(name[level:], package, level)\r\n",
      "ModuleNotFoundError: No module named '_swigfaiss'\r\n",
      "Traceback (most recent call last):\r\n",
      "  File \"/opt/conda/lib/python3.7/site-packages/faiss/swigfaiss.py\", line 14, in swig_import_helper\r\n",
      "    return importlib.import_module(mname)\r\n",
      "  File \"/opt/conda/lib/python3.7/importlib/__init__.py\", line 127, in import_module\r\n",
      "    return _bootstrap._gcd_import(name[level:], package, level)\r\n",
      "  File \"<frozen importlib._bootstrap>\", line 1006, in _gcd_import\r\n",
      "  File \"<frozen importlib._bootstrap>\", line 983, in _find_and_load\r\n",
      "  File \"<frozen importlib._bootstrap>\", line 967, in _find_and_load_unlocked\r\n",
      "  File \"<frozen importlib._bootstrap>\", line 670, in _load_unlocked\r\n",
      "  File \"<frozen importlib._bootstrap>\", line 583, in module_from_spec\r\n",
      "  File \"<frozen importlib._bootstrap_external>\", line 1043, in create_module\r\n",
      "  File \"<frozen importlib._bootstrap>\", line 219, in _call_with_frames_removed\r\n",
      "ImportError: libomp.so: cannot open shared object file: No such file or directory\r\n",
      "\r\n",
      "During handling of the above exception, another exception occurred:\r\n",
      "\r\n",
      "Traceback (most recent call last):\r\n",
      "  File \"pca.py\", line 12, in <module>\r\n",
      "    import faiss\r\n",
      "  File \"/opt/conda/lib/python3.7/site-packages/faiss/__init__.py\", line 19, in <module>\r\n",
      "    from .swigfaiss import *\r\n",
      "  File \"/opt/conda/lib/python3.7/site-packages/faiss/swigfaiss.py\", line 17, in <module>\r\n",
      "    _swigfaiss = swig_import_helper()\r\n",
      "  File \"/opt/conda/lib/python3.7/site-packages/faiss/swigfaiss.py\", line 16, in swig_import_helper\r\n",
      "    return importlib.import_module('_swigfaiss')\r\n",
      "  File \"/opt/conda/lib/python3.7/importlib/__init__.py\", line 127, in import_module\r\n",
      "    return _bootstrap._gcd_import(name[level:], package, level)\r\n",
      "ModuleNotFoundError: No module named '_swigfaiss'\r\n",
      "data path: /kaggle/working/train\r\n",
      "Traceback (most recent call last):\r\n",
      "  File \"apply_pca.py\", line 72, in <module>\r\n",
      "    main()\r\n",
      "  File \"apply_pca.py\", line 44, in main\r\n",
      "    features = np.load(data_poth + \".npy\", mmap_mode=\"r\")\r\n",
      "  File \"/opt/conda/lib/python3.7/site-packages/numpy/lib/npyio.py\", line 416, in load\r\n",
      "    fid = stack.enter_context(open(os_fspath(file), \"rb\"))\r\n",
      "FileNotFoundError: [Errno 2] No such file or directory: '/kaggle/working/train.npy'\r\n",
      "data path: /kaggle/working/precompute_pca512/train\r\n",
      "Traceback (most recent call last):\r\n",
      "  File \"merge_clusters.py\", line 112, in <module>\r\n",
      "    main()\r\n",
      "  File \"merge_clusters.py\", line 42, in main\r\n",
      "    features = np.load(source_path + \".npy\", mmap_mode=\"r\")\r\n",
      "  File \"/opt/conda/lib/python3.7/site-packages/numpy/lib/npyio.py\", line 416, in load\r\n",
      "    fid = stack.enter_context(open(os_fspath(file), \"rb\"))\r\n",
      "FileNotFoundError: [Errno 2] No such file or directory: '/kaggle/working/precompute_pca512/train.npy'\r\n",
      "data path: /kaggle/working/precompute_pca512_cls128_mean/train\r\n",
      "Traceback (most recent call last):\r\n",
      "  File \"mean_pool.py\", line 90, in <module>\r\n",
      "    main()\r\n",
      "  File \"mean_pool.py\", line 44, in main\r\n",
      "    features = np.load(source_path + \".npy\", mmap_mode=\"r\")\r\n",
      "  File \"/opt/conda/lib/python3.7/site-packages/numpy/lib/npyio.py\", line 416, in load\r\n",
      "    fid = stack.enter_context(open(os_fspath(file), \"rb\"))\r\n",
      "FileNotFoundError: [Errno 2] No such file or directory: '/kaggle/working/precompute_pca512_cls128_mean/train.npy'\r\n",
      "data path: /kaggle/working/valid\r\n",
      "Traceback (most recent call last):\r\n",
      "  File \"apply_pca.py\", line 72, in <module>\r\n",
      "    main()\r\n",
      "  File \"apply_pca.py\", line 44, in main\r\n",
      "    features = np.load(data_poth + \".npy\", mmap_mode=\"r\")\r\n",
      "  File \"/opt/conda/lib/python3.7/site-packages/numpy/lib/npyio.py\", line 416, in load\r\n",
      "    fid = stack.enter_context(open(os_fspath(file), \"rb\"))\r\n",
      "FileNotFoundError: [Errno 2] No such file or directory: '/kaggle/working/valid.npy'\r\n",
      "data path: /kaggle/working/precompute_pca512/valid\r\n",
      "Traceback (most recent call last):\r\n",
      "  File \"merge_clusters.py\", line 112, in <module>\r\n",
      "    main()\r\n",
      "  File \"merge_clusters.py\", line 42, in main\r\n",
      "    features = np.load(source_path + \".npy\", mmap_mode=\"r\")\r\n",
      "  File \"/opt/conda/lib/python3.7/site-packages/numpy/lib/npyio.py\", line 416, in load\r\n",
      "    fid = stack.enter_context(open(os_fspath(file), \"rb\"))\r\n",
      "FileNotFoundError: [Errno 2] No such file or directory: '/kaggle/working/precompute_pca512/valid.npy'\r\n",
      "data path: /kaggle/working/precompute_pca512_cls128_mean/valid\r\n",
      "Traceback (most recent call last):\r\n",
      "  File \"mean_pool.py\", line 90, in <module>\r\n",
      "    main()\r\n",
      "  File \"mean_pool.py\", line 44, in main\r\n",
      "    features = np.load(source_path + \".npy\", mmap_mode=\"r\")\r\n",
      "  File \"/opt/conda/lib/python3.7/site-packages/numpy/lib/npyio.py\", line 416, in load\r\n",
      "    fid = stack.enter_context(open(os_fspath(file), \"rb\"))\r\n",
      "FileNotFoundError: [Errno 2] No such file or directory: '/kaggle/working/precompute_pca512_cls128_mean/valid.npy'\r\n",
      "data path: /kaggle/working/test\r\n",
      "Traceback (most recent call last):\r\n",
      "  File \"apply_pca.py\", line 72, in <module>\r\n",
      "    main()\r\n",
      "  File \"apply_pca.py\", line 44, in main\r\n",
      "    features = np.load(data_poth + \".npy\", mmap_mode=\"r\")\r\n",
      "  File \"/opt/conda/lib/python3.7/site-packages/numpy/lib/npyio.py\", line 416, in load\r\n",
      "    fid = stack.enter_context(open(os_fspath(file), \"rb\"))\r\n",
      "FileNotFoundError: [Errno 2] No such file or directory: '/kaggle/working/test.npy'\r\n",
      "data path: /kaggle/working/precompute_pca512/test\r\n",
      "Traceback (most recent call last):\r\n",
      "  File \"merge_clusters.py\", line 112, in <module>\r\n",
      "    main()\r\n",
      "  File \"merge_clusters.py\", line 42, in main\r\n",
      "    features = np.load(source_path + \".npy\", mmap_mode=\"r\")\r\n",
      "  File \"/opt/conda/lib/python3.7/site-packages/numpy/lib/npyio.py\", line 416, in load\r\n",
      "    fid = stack.enter_context(open(os_fspath(file), \"rb\"))\r\n",
      "FileNotFoundError: [Errno 2] No such file or directory: '/kaggle/working/precompute_pca512/test.npy'\r\n",
      "data path: /kaggle/working/precompute_pca512_cls128_mean/test\r\n",
      "Traceback (most recent call last):\r\n",
      "  File \"mean_pool.py\", line 90, in <module>\r\n",
      "    main()\r\n",
      "  File \"mean_pool.py\", line 44, in main\r\n",
      "    features = np.load(source_path + \".npy\", mmap_mode=\"r\")\r\n",
      "  File \"/opt/conda/lib/python3.7/site-packages/numpy/lib/npyio.py\", line 416, in load\r\n",
      "    fid = stack.enter_context(open(os_fspath(file), \"rb\"))\r\n",
      "FileNotFoundError: [Errno 2] No such file or directory: '/kaggle/working/precompute_pca512_cls128_mean/test.npy'\r\n"
     ]
    }
   ],
   "source": [
    "!zsh prepare_audio.sh tsv /kaggle/working /kaggle/input/download-xlsr-53-wav2vec2-model/xlsr_53_56k.pt"
   ]
  }
 ],
 "metadata": {
  "kernelspec": {
   "display_name": "Python 3",
   "language": "python",
   "name": "python3"
  },
  "language_info": {
   "codemirror_mode": {
    "name": "ipython",
    "version": 3
   },
   "file_extension": ".py",
   "mimetype": "text/x-python",
   "name": "python",
   "nbconvert_exporter": "python",
   "pygments_lexer": "ipython3",
   "version": "3.7.10"
  },
  "papermill": {
   "default_parameters": {},
   "duration": 162.158755,
   "end_time": "2021-05-27T17:33:09.907565",
   "environment_variables": {},
   "exception": null,
   "input_path": "__notebook__.ipynb",
   "output_path": "__notebook__.ipynb",
   "parameters": {},
   "start_time": "2021-05-27T17:30:27.748810",
   "version": "2.3.3"
  }
 },
 "nbformat": 4,
 "nbformat_minor": 5
}
