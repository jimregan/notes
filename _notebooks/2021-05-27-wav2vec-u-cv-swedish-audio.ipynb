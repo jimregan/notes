{
 "cells": [
  {
   "cell_type": "code",
   "execution_count": 1,
   "id": "organized-subdivision",
   "metadata": {
    "execution": {
     "iopub.execute_input": "2021-05-29T12:14:43.595922Z",
     "iopub.status.busy": "2021-05-29T12:14:43.594166Z",
     "iopub.status.idle": "2021-05-29T12:14:43.607245Z",
     "shell.execute_reply": "2021-05-29T12:14:43.606428Z",
     "shell.execute_reply.started": "2021-05-25T21:59:52.937901Z"
    },
    "papermill": {
     "duration": 0.025783,
     "end_time": "2021-05-29T12:14:43.607455",
     "exception": false,
     "start_time": "2021-05-29T12:14:43.581672",
     "status": "completed"
    },
    "tags": []
   },
   "outputs": [
    {
     "name": "stdout",
     "output_type": "stream",
     "text": [
      "/tmp\n"
     ]
    }
   ],
   "source": [
    "%cd /tmp"
   ]
  },
  {
   "cell_type": "code",
   "execution_count": 2,
   "id": "remarkable-quilt",
   "metadata": {
    "execution": {
     "iopub.execute_input": "2021-05-29T12:14:43.627664Z",
     "iopub.status.busy": "2021-05-29T12:14:43.627057Z",
     "iopub.status.idle": "2021-05-29T12:15:41.759170Z",
     "shell.execute_reply": "2021-05-29T12:15:41.757779Z"
    },
    "papermill": {
     "duration": 58.143504,
     "end_time": "2021-05-29T12:15:41.759356",
     "exception": false,
     "start_time": "2021-05-29T12:14:43.615852",
     "status": "completed"
    },
    "tags": []
   },
   "outputs": [],
   "source": [
    "%%capture\n",
    "!pip install git+https://github.com/pytorch/fairseq/"
   ]
  },
  {
   "cell_type": "code",
   "execution_count": 3,
   "id": "relevant-debate",
   "metadata": {
    "_cell_guid": "b1076dfc-b9ad-4769-8c92-a6c4dae69d19",
    "_uuid": "8f2839f25d086af736a60e9eeb907d3b93b6e0e5",
    "execution": {
     "iopub.execute_input": "2021-05-29T12:15:41.793608Z",
     "iopub.status.busy": "2021-05-29T12:15:41.792845Z",
     "iopub.status.idle": "2021-05-29T12:15:46.368178Z",
     "shell.execute_reply": "2021-05-29T12:15:46.368632Z",
     "shell.execute_reply.started": "2021-05-25T21:59:52.944817Z"
    },
    "papermill": {
     "duration": 4.598391,
     "end_time": "2021-05-29T12:15:46.368781",
     "exception": false,
     "start_time": "2021-05-29T12:15:41.770390",
     "status": "completed"
    },
    "tags": []
   },
   "outputs": [],
   "source": [
    "%%capture\n",
    "!git clone https://github.com/pytorch/fairseq/"
   ]
  },
  {
   "cell_type": "code",
   "execution_count": 4,
   "id": "front-cigarette",
   "metadata": {
    "execution": {
     "iopub.execute_input": "2021-05-29T12:15:46.388115Z",
     "iopub.status.busy": "2021-05-29T12:15:46.387444Z",
     "iopub.status.idle": "2021-05-29T12:15:46.390923Z",
     "shell.execute_reply": "2021-05-29T12:15:46.391497Z",
     "shell.execute_reply.started": "2021-05-25T21:59:53.235485Z"
    },
    "papermill": {
     "duration": 0.01612,
     "end_time": "2021-05-29T12:15:46.391656",
     "exception": false,
     "start_time": "2021-05-29T12:15:46.375536",
     "status": "completed"
    },
    "tags": []
   },
   "outputs": [
    {
     "name": "stdout",
     "output_type": "stream",
     "text": [
      "/tmp/fairseq/examples/wav2vec/unsupervised/scripts\n"
     ]
    }
   ],
   "source": [
    "%cd fairseq/examples/wav2vec/unsupervised/scripts"
   ]
  },
  {
   "cell_type": "code",
   "execution_count": 5,
   "id": "equivalent-bowling",
   "metadata": {
    "execution": {
     "iopub.execute_input": "2021-05-29T12:15:46.422073Z",
     "iopub.status.busy": "2021-05-29T12:15:46.421398Z",
     "iopub.status.idle": "2021-05-29T12:15:50.298563Z",
     "shell.execute_reply": "2021-05-29T12:15:50.297393Z"
    },
    "papermill": {
     "duration": 3.89942,
     "end_time": "2021-05-29T12:15:50.298694",
     "exception": false,
     "start_time": "2021-05-29T12:15:46.399274",
     "status": "completed"
    },
    "tags": []
   },
   "outputs": [],
   "source": [
    "!mkdir tsv\n",
    "!for i in train test valid; do echo /kaggle/input/wav2vec-u-cv-swedish-vads/wav/$i/common-voice-swedish-16bit-wav/ > tsv/$i.tsv; cat /kaggle/input/fork-of-wav2vec-u-cv-swedish-tsv/$i.tsv|sed '1d' >> tsv/$i.tsv;done\n",
    "!cp /kaggle/input/wav2vec-u-cv-swedish-prep-ltr-phn-wrd/dic* tsv/\n",
    "!cp /kaggle/input/wav2vec-u-cv-swedish-prep-ltr-phn-wrd/*.wrd tsv/\n",
    "!cp /kaggle/input/wav2vec-u-cv-swedish-prep-ltr-phn-wrd/*.ltr tsv/\n",
    "!cp /kaggle/input/wav2vec-u-cv-swedish-prep-ltr-phn-wrd/*.phn tsv/"
   ]
  },
  {
   "cell_type": "code",
   "execution_count": 6,
   "id": "compliant-decimal",
   "metadata": {
    "execution": {
     "iopub.execute_input": "2021-05-29T12:15:50.320590Z",
     "iopub.status.busy": "2021-05-29T12:15:50.319775Z",
     "iopub.status.idle": "2021-05-29T12:15:57.164801Z",
     "shell.execute_reply": "2021-05-29T12:15:57.165249Z"
    },
    "papermill": {
     "duration": 6.859722,
     "end_time": "2021-05-29T12:15:57.165431",
     "exception": false,
     "start_time": "2021-05-29T12:15:50.305709",
     "status": "completed"
    },
    "tags": []
   },
   "outputs": [],
   "source": [
    "%%capture\n",
    "!pip install npy-append-array"
   ]
  },
  {
   "cell_type": "code",
   "execution_count": 7,
   "id": "innocent-fitting",
   "metadata": {
    "execution": {
     "iopub.execute_input": "2021-05-29T12:15:57.187625Z",
     "iopub.status.busy": "2021-05-29T12:15:57.184075Z",
     "iopub.status.idle": "2021-05-29T12:17:14.025228Z",
     "shell.execute_reply": "2021-05-29T12:17:14.024747Z"
    },
    "papermill": {
     "duration": 76.852436,
     "end_time": "2021-05-29T12:17:14.025361",
     "exception": false,
     "start_time": "2021-05-29T12:15:57.172925",
     "status": "completed"
    },
    "tags": []
   },
   "outputs": [
    {
     "name": "stdout",
     "output_type": "stream",
     "text": [
      "Collecting package metadata (current_repodata.json): - "
     ]
    },
    {
     "name": "stdout",
     "output_type": "stream",
     "text": [
      "\b\b\\ "
     ]
    },
    {
     "name": "stdout",
     "output_type": "stream",
     "text": [
      "\b\b| "
     ]
    },
    {
     "name": "stdout",
     "output_type": "stream",
     "text": [
      "\b\b/ "
     ]
    },
    {
     "name": "stdout",
     "output_type": "stream",
     "text": [
      "\b\b- "
     ]
    },
    {
     "name": "stdout",
     "output_type": "stream",
     "text": [
      "\b\b\\ "
     ]
    },
    {
     "name": "stdout",
     "output_type": "stream",
     "text": [
      "\b\b| "
     ]
    },
    {
     "name": "stdout",
     "output_type": "stream",
     "text": [
      "\b\b/ "
     ]
    },
    {
     "name": "stdout",
     "output_type": "stream",
     "text": [
      "\b\b- "
     ]
    },
    {
     "name": "stdout",
     "output_type": "stream",
     "text": [
      "\b\b\\ "
     ]
    },
    {
     "name": "stdout",
     "output_type": "stream",
     "text": [
      "\b\b| "
     ]
    },
    {
     "name": "stdout",
     "output_type": "stream",
     "text": [
      "\b\b/ "
     ]
    },
    {
     "name": "stdout",
     "output_type": "stream",
     "text": [
      "\b\b- "
     ]
    },
    {
     "name": "stdout",
     "output_type": "stream",
     "text": [
      "\b\b\\ "
     ]
    },
    {
     "name": "stdout",
     "output_type": "stream",
     "text": [
      "\b\b| "
     ]
    },
    {
     "name": "stdout",
     "output_type": "stream",
     "text": [
      "\b\b/ "
     ]
    },
    {
     "name": "stdout",
     "output_type": "stream",
     "text": [
      "\b\b- "
     ]
    },
    {
     "name": "stdout",
     "output_type": "stream",
     "text": [
      "\b\b\\ "
     ]
    },
    {
     "name": "stdout",
     "output_type": "stream",
     "text": [
      "\b\b| "
     ]
    },
    {
     "name": "stdout",
     "output_type": "stream",
     "text": [
      "\b\b/ "
     ]
    },
    {
     "name": "stdout",
     "output_type": "stream",
     "text": [
      "\b\b- "
     ]
    },
    {
     "name": "stdout",
     "output_type": "stream",
     "text": [
      "\b\b\\ "
     ]
    },
    {
     "name": "stdout",
     "output_type": "stream",
     "text": [
      "\b\b| "
     ]
    },
    {
     "name": "stdout",
     "output_type": "stream",
     "text": [
      "\b\b/ "
     ]
    },
    {
     "name": "stdout",
     "output_type": "stream",
     "text": [
      "\b\b- "
     ]
    },
    {
     "name": "stdout",
     "output_type": "stream",
     "text": [
      "\b\b\\ "
     ]
    },
    {
     "name": "stdout",
     "output_type": "stream",
     "text": [
      "\b\b| "
     ]
    },
    {
     "name": "stdout",
     "output_type": "stream",
     "text": [
      "\b\b/ "
     ]
    },
    {
     "name": "stdout",
     "output_type": "stream",
     "text": [
      "\b\b- "
     ]
    },
    {
     "name": "stdout",
     "output_type": "stream",
     "text": [
      "\b\b\\ "
     ]
    },
    {
     "name": "stdout",
     "output_type": "stream",
     "text": [
      "\b\b| "
     ]
    },
    {
     "name": "stdout",
     "output_type": "stream",
     "text": [
      "\b\b/ "
     ]
    },
    {
     "name": "stdout",
     "output_type": "stream",
     "text": [
      "\b\b- "
     ]
    },
    {
     "name": "stdout",
     "output_type": "stream",
     "text": [
      "\b\b\\ "
     ]
    },
    {
     "name": "stdout",
     "output_type": "stream",
     "text": [
      "\b\b| "
     ]
    },
    {
     "name": "stdout",
     "output_type": "stream",
     "text": [
      "\b\b/ "
     ]
    },
    {
     "name": "stdout",
     "output_type": "stream",
     "text": [
      "\b\b- "
     ]
    },
    {
     "name": "stdout",
     "output_type": "stream",
     "text": [
      "\b\b\\ "
     ]
    },
    {
     "name": "stdout",
     "output_type": "stream",
     "text": [
      "\b\b| "
     ]
    },
    {
     "name": "stdout",
     "output_type": "stream",
     "text": [
      "\b\b/ "
     ]
    },
    {
     "name": "stdout",
     "output_type": "stream",
     "text": [
      "\b\b- "
     ]
    },
    {
     "name": "stdout",
     "output_type": "stream",
     "text": [
      "\b\b\\ "
     ]
    },
    {
     "name": "stdout",
     "output_type": "stream",
     "text": [
      "\b\b| "
     ]
    },
    {
     "name": "stdout",
     "output_type": "stream",
     "text": [
      "\b\b/ "
     ]
    },
    {
     "name": "stdout",
     "output_type": "stream",
     "text": [
      "\b\b- "
     ]
    },
    {
     "name": "stdout",
     "output_type": "stream",
     "text": [
      "\b\b\\ "
     ]
    },
    {
     "name": "stdout",
     "output_type": "stream",
     "text": [
      "\b\b| "
     ]
    },
    {
     "name": "stdout",
     "output_type": "stream",
     "text": [
      "\b\b/ "
     ]
    },
    {
     "name": "stdout",
     "output_type": "stream",
     "text": [
      "\b\b- "
     ]
    },
    {
     "name": "stdout",
     "output_type": "stream",
     "text": [
      "\b\b\\ "
     ]
    },
    {
     "name": "stdout",
     "output_type": "stream",
     "text": [
      "\b\b| "
     ]
    },
    {
     "name": "stdout",
     "output_type": "stream",
     "text": [
      "\b\b/ "
     ]
    },
    {
     "name": "stdout",
     "output_type": "stream",
     "text": [
      "\b\b- "
     ]
    },
    {
     "name": "stdout",
     "output_type": "stream",
     "text": [
      "\b\b\\ "
     ]
    },
    {
     "name": "stdout",
     "output_type": "stream",
     "text": [
      "\b\b| "
     ]
    },
    {
     "name": "stdout",
     "output_type": "stream",
     "text": [
      "\b\b/ "
     ]
    },
    {
     "name": "stdout",
     "output_type": "stream",
     "text": [
      "\b\b- "
     ]
    },
    {
     "name": "stdout",
     "output_type": "stream",
     "text": [
      "\b\b\\ "
     ]
    },
    {
     "name": "stdout",
     "output_type": "stream",
     "text": [
      "\b\b| "
     ]
    },
    {
     "name": "stdout",
     "output_type": "stream",
     "text": [
      "\b\b/ "
     ]
    },
    {
     "name": "stdout",
     "output_type": "stream",
     "text": [
      "\b\b- "
     ]
    },
    {
     "name": "stdout",
     "output_type": "stream",
     "text": [
      "\b\b\\ "
     ]
    },
    {
     "name": "stdout",
     "output_type": "stream",
     "text": [
      "\b\b| "
     ]
    },
    {
     "name": "stdout",
     "output_type": "stream",
     "text": [
      "\b\b/ "
     ]
    },
    {
     "name": "stdout",
     "output_type": "stream",
     "text": [
      "\b\b- "
     ]
    },
    {
     "name": "stdout",
     "output_type": "stream",
     "text": [
      "\b\b\\ "
     ]
    },
    {
     "name": "stdout",
     "output_type": "stream",
     "text": [
      "\b\b| "
     ]
    },
    {
     "name": "stdout",
     "output_type": "stream",
     "text": [
      "\b\b/ "
     ]
    },
    {
     "name": "stdout",
     "output_type": "stream",
     "text": [
      "\b\b- "
     ]
    },
    {
     "name": "stdout",
     "output_type": "stream",
     "text": [
      "\b\b\\ "
     ]
    },
    {
     "name": "stdout",
     "output_type": "stream",
     "text": [
      "\b\b| "
     ]
    },
    {
     "name": "stdout",
     "output_type": "stream",
     "text": [
      "\b\b/ "
     ]
    },
    {
     "name": "stdout",
     "output_type": "stream",
     "text": [
      "\b\b- "
     ]
    },
    {
     "name": "stdout",
     "output_type": "stream",
     "text": [
      "\b\b\\ "
     ]
    },
    {
     "name": "stdout",
     "output_type": "stream",
     "text": [
      "\b\b| "
     ]
    },
    {
     "name": "stdout",
     "output_type": "stream",
     "text": [
      "\b\b/ "
     ]
    },
    {
     "name": "stdout",
     "output_type": "stream",
     "text": [
      "\b\b- "
     ]
    },
    {
     "name": "stdout",
     "output_type": "stream",
     "text": [
      "\b\b\\ "
     ]
    },
    {
     "name": "stdout",
     "output_type": "stream",
     "text": [
      "\b\b| "
     ]
    },
    {
     "name": "stdout",
     "output_type": "stream",
     "text": [
      "\b\b/ "
     ]
    },
    {
     "name": "stdout",
     "output_type": "stream",
     "text": [
      "\b\b- "
     ]
    },
    {
     "name": "stdout",
     "output_type": "stream",
     "text": [
      "\b\b\\ "
     ]
    },
    {
     "name": "stdout",
     "output_type": "stream",
     "text": [
      "\b\b| "
     ]
    },
    {
     "name": "stdout",
     "output_type": "stream",
     "text": [
      "\b\b/ "
     ]
    },
    {
     "name": "stdout",
     "output_type": "stream",
     "text": [
      "\b\b- "
     ]
    },
    {
     "name": "stdout",
     "output_type": "stream",
     "text": [
      "\b\b\\ "
     ]
    },
    {
     "name": "stdout",
     "output_type": "stream",
     "text": [
      "\b\b| "
     ]
    },
    {
     "name": "stdout",
     "output_type": "stream",
     "text": [
      "\b\b/ "
     ]
    },
    {
     "name": "stdout",
     "output_type": "stream",
     "text": [
      "\b\b- "
     ]
    },
    {
     "name": "stdout",
     "output_type": "stream",
     "text": [
      "\b\b\\ "
     ]
    },
    {
     "name": "stdout",
     "output_type": "stream",
     "text": [
      "\b\b| "
     ]
    },
    {
     "name": "stdout",
     "output_type": "stream",
     "text": [
      "\b\b/ "
     ]
    },
    {
     "name": "stdout",
     "output_type": "stream",
     "text": [
      "\b\b- "
     ]
    },
    {
     "name": "stdout",
     "output_type": "stream",
     "text": [
      "\b\b\\ "
     ]
    },
    {
     "name": "stdout",
     "output_type": "stream",
     "text": [
      "\b\b| "
     ]
    },
    {
     "name": "stdout",
     "output_type": "stream",
     "text": [
      "\b\b/ "
     ]
    },
    {
     "name": "stdout",
     "output_type": "stream",
     "text": [
      "\b\b- "
     ]
    },
    {
     "name": "stdout",
     "output_type": "stream",
     "text": [
      "\b\b\\ "
     ]
    },
    {
     "name": "stdout",
     "output_type": "stream",
     "text": [
      "\b\b| "
     ]
    },
    {
     "name": "stdout",
     "output_type": "stream",
     "text": [
      "\b\b/ "
     ]
    },
    {
     "name": "stdout",
     "output_type": "stream",
     "text": [
      "\b\b- "
     ]
    },
    {
     "name": "stdout",
     "output_type": "stream",
     "text": [
      "\b\b\\ "
     ]
    },
    {
     "name": "stdout",
     "output_type": "stream",
     "text": [
      "\b\b| "
     ]
    },
    {
     "name": "stdout",
     "output_type": "stream",
     "text": [
      "\b\b/ "
     ]
    },
    {
     "name": "stdout",
     "output_type": "stream",
     "text": [
      "\b\b- "
     ]
    },
    {
     "name": "stdout",
     "output_type": "stream",
     "text": [
      "\b\b\\ "
     ]
    },
    {
     "name": "stdout",
     "output_type": "stream",
     "text": [
      "\b\b| "
     ]
    },
    {
     "name": "stdout",
     "output_type": "stream",
     "text": [
      "\b\b/ "
     ]
    },
    {
     "name": "stdout",
     "output_type": "stream",
     "text": [
      "\b\b- "
     ]
    },
    {
     "name": "stdout",
     "output_type": "stream",
     "text": [
      "\b\b\\ "
     ]
    },
    {
     "name": "stdout",
     "output_type": "stream",
     "text": [
      "\b\b| "
     ]
    },
    {
     "name": "stdout",
     "output_type": "stream",
     "text": [
      "\b\b/ "
     ]
    },
    {
     "name": "stdout",
     "output_type": "stream",
     "text": [
      "\b\b- "
     ]
    },
    {
     "name": "stdout",
     "output_type": "stream",
     "text": [
      "\b\b\\ "
     ]
    },
    {
     "name": "stdout",
     "output_type": "stream",
     "text": [
      "\b\b| "
     ]
    },
    {
     "name": "stdout",
     "output_type": "stream",
     "text": [
      "\b\b/ "
     ]
    },
    {
     "name": "stdout",
     "output_type": "stream",
     "text": [
      "\b\b- "
     ]
    },
    {
     "name": "stdout",
     "output_type": "stream",
     "text": [
      "\b\b\\ "
     ]
    },
    {
     "name": "stdout",
     "output_type": "stream",
     "text": [
      "\b\b| "
     ]
    },
    {
     "name": "stdout",
     "output_type": "stream",
     "text": [
      "\b\b/ "
     ]
    },
    {
     "name": "stdout",
     "output_type": "stream",
     "text": [
      "\b\b- "
     ]
    },
    {
     "name": "stdout",
     "output_type": "stream",
     "text": [
      "\b\b\\ "
     ]
    },
    {
     "name": "stdout",
     "output_type": "stream",
     "text": [
      "\b\b| "
     ]
    },
    {
     "name": "stdout",
     "output_type": "stream",
     "text": [
      "\b\b/ "
     ]
    },
    {
     "name": "stdout",
     "output_type": "stream",
     "text": [
      "\b\b- "
     ]
    },
    {
     "name": "stdout",
     "output_type": "stream",
     "text": [
      "\b\b\\ "
     ]
    },
    {
     "name": "stdout",
     "output_type": "stream",
     "text": [
      "\b\bdone\r\n",
      "Solving environment: / "
     ]
    },
    {
     "name": "stdout",
     "output_type": "stream",
     "text": [
      "\b\b- "
     ]
    },
    {
     "name": "stdout",
     "output_type": "stream",
     "text": [
      "\b\b\\ "
     ]
    },
    {
     "name": "stdout",
     "output_type": "stream",
     "text": [
      "\b\b| "
     ]
    },
    {
     "name": "stdout",
     "output_type": "stream",
     "text": [
      "\b\b/ "
     ]
    },
    {
     "name": "stdout",
     "output_type": "stream",
     "text": [
      "\b\b- "
     ]
    },
    {
     "name": "stdout",
     "output_type": "stream",
     "text": [
      "\b\b\\ "
     ]
    },
    {
     "name": "stdout",
     "output_type": "stream",
     "text": [
      "\b\b| "
     ]
    },
    {
     "name": "stdout",
     "output_type": "stream",
     "text": [
      "\b\b/ "
     ]
    },
    {
     "name": "stdout",
     "output_type": "stream",
     "text": [
      "\b\b- "
     ]
    },
    {
     "name": "stdout",
     "output_type": "stream",
     "text": [
      "\b\b\\ "
     ]
    },
    {
     "name": "stdout",
     "output_type": "stream",
     "text": [
      "\b\b| "
     ]
    },
    {
     "name": "stdout",
     "output_type": "stream",
     "text": [
      "\b\b/ "
     ]
    },
    {
     "name": "stdout",
     "output_type": "stream",
     "text": [
      "\b\b- "
     ]
    },
    {
     "name": "stdout",
     "output_type": "stream",
     "text": [
      "\b\b\\ "
     ]
    },
    {
     "name": "stdout",
     "output_type": "stream",
     "text": [
      "\b\b| "
     ]
    },
    {
     "name": "stdout",
     "output_type": "stream",
     "text": [
      "\b\b/ "
     ]
    },
    {
     "name": "stdout",
     "output_type": "stream",
     "text": [
      "\b\b- "
     ]
    },
    {
     "name": "stdout",
     "output_type": "stream",
     "text": [
      "\b\b\\ "
     ]
    },
    {
     "name": "stdout",
     "output_type": "stream",
     "text": [
      "\b\b| "
     ]
    },
    {
     "name": "stdout",
     "output_type": "stream",
     "text": [
      "\b\b/ "
     ]
    },
    {
     "name": "stdout",
     "output_type": "stream",
     "text": [
      "\b\b- "
     ]
    },
    {
     "name": "stdout",
     "output_type": "stream",
     "text": [
      "\b\b\\ "
     ]
    },
    {
     "name": "stdout",
     "output_type": "stream",
     "text": [
      "\b\b| "
     ]
    },
    {
     "name": "stdout",
     "output_type": "stream",
     "text": [
      "\b\b/ "
     ]
    },
    {
     "name": "stdout",
     "output_type": "stream",
     "text": [
      "\b\b- "
     ]
    },
    {
     "name": "stdout",
     "output_type": "stream",
     "text": [
      "\b\b\\ "
     ]
    },
    {
     "name": "stdout",
     "output_type": "stream",
     "text": [
      "\b\b| "
     ]
    },
    {
     "name": "stdout",
     "output_type": "stream",
     "text": [
      "\b\b/ "
     ]
    },
    {
     "name": "stdout",
     "output_type": "stream",
     "text": [
      "\b\b- "
     ]
    },
    {
     "name": "stdout",
     "output_type": "stream",
     "text": [
      "\b\b\\ "
     ]
    },
    {
     "name": "stdout",
     "output_type": "stream",
     "text": [
      "\b\b| "
     ]
    },
    {
     "name": "stdout",
     "output_type": "stream",
     "text": [
      "\b\b/ "
     ]
    },
    {
     "name": "stdout",
     "output_type": "stream",
     "text": [
      "\b\b- "
     ]
    },
    {
     "name": "stdout",
     "output_type": "stream",
     "text": [
      "\b\b\\ "
     ]
    },
    {
     "name": "stdout",
     "output_type": "stream",
     "text": [
      "\b\b| "
     ]
    },
    {
     "name": "stdout",
     "output_type": "stream",
     "text": [
      "\b\b/ "
     ]
    },
    {
     "name": "stdout",
     "output_type": "stream",
     "text": [
      "\b\b- "
     ]
    },
    {
     "name": "stdout",
     "output_type": "stream",
     "text": [
      "\b\b\\ "
     ]
    },
    {
     "name": "stdout",
     "output_type": "stream",
     "text": [
      "\b\b| "
     ]
    },
    {
     "name": "stdout",
     "output_type": "stream",
     "text": [
      "\b\b/ "
     ]
    },
    {
     "name": "stdout",
     "output_type": "stream",
     "text": [
      "\b\b- "
     ]
    },
    {
     "name": "stdout",
     "output_type": "stream",
     "text": [
      "\b\b\\ "
     ]
    },
    {
     "name": "stdout",
     "output_type": "stream",
     "text": [
      "\b\b| "
     ]
    },
    {
     "name": "stdout",
     "output_type": "stream",
     "text": [
      "\b\b/ "
     ]
    },
    {
     "name": "stdout",
     "output_type": "stream",
     "text": [
      "\b\b- "
     ]
    },
    {
     "name": "stdout",
     "output_type": "stream",
     "text": [
      "\b\b\\ "
     ]
    },
    {
     "name": "stdout",
     "output_type": "stream",
     "text": [
      "\b\b| "
     ]
    },
    {
     "name": "stdout",
     "output_type": "stream",
     "text": [
      "\b\b/ "
     ]
    },
    {
     "name": "stdout",
     "output_type": "stream",
     "text": [
      "\b\b- "
     ]
    },
    {
     "name": "stdout",
     "output_type": "stream",
     "text": [
      "\b\b\\ "
     ]
    },
    {
     "name": "stdout",
     "output_type": "stream",
     "text": [
      "\b\b| "
     ]
    },
    {
     "name": "stdout",
     "output_type": "stream",
     "text": [
      "\b\b/ "
     ]
    },
    {
     "name": "stdout",
     "output_type": "stream",
     "text": [
      "\b\b- "
     ]
    },
    {
     "name": "stdout",
     "output_type": "stream",
     "text": [
      "\b\b\\ "
     ]
    },
    {
     "name": "stdout",
     "output_type": "stream",
     "text": [
      "\b\b| "
     ]
    },
    {
     "name": "stdout",
     "output_type": "stream",
     "text": [
      "\b\b/ "
     ]
    },
    {
     "name": "stdout",
     "output_type": "stream",
     "text": [
      "\b\b- "
     ]
    },
    {
     "name": "stdout",
     "output_type": "stream",
     "text": [
      "\b\b\\ "
     ]
    },
    {
     "name": "stdout",
     "output_type": "stream",
     "text": [
      "\b\b| "
     ]
    },
    {
     "name": "stdout",
     "output_type": "stream",
     "text": [
      "\b\b/ "
     ]
    },
    {
     "name": "stdout",
     "output_type": "stream",
     "text": [
      "\b\b- "
     ]
    },
    {
     "name": "stdout",
     "output_type": "stream",
     "text": [
      "\b\b\\ "
     ]
    },
    {
     "name": "stdout",
     "output_type": "stream",
     "text": [
      "\b\b| "
     ]
    },
    {
     "name": "stdout",
     "output_type": "stream",
     "text": [
      "\b\b/ "
     ]
    },
    {
     "name": "stdout",
     "output_type": "stream",
     "text": [
      "\b\b- "
     ]
    },
    {
     "name": "stdout",
     "output_type": "stream",
     "text": [
      "\b\b\\ "
     ]
    },
    {
     "name": "stdout",
     "output_type": "stream",
     "text": [
      "\b\b| "
     ]
    },
    {
     "name": "stdout",
     "output_type": "stream",
     "text": [
      "\b\b/ "
     ]
    },
    {
     "name": "stdout",
     "output_type": "stream",
     "text": [
      "\b\b- "
     ]
    },
    {
     "name": "stdout",
     "output_type": "stream",
     "text": [
      "\b\b\\ "
     ]
    },
    {
     "name": "stdout",
     "output_type": "stream",
     "text": [
      "\b\b| "
     ]
    },
    {
     "name": "stdout",
     "output_type": "stream",
     "text": [
      "\b\b/ "
     ]
    },
    {
     "name": "stdout",
     "output_type": "stream",
     "text": [
      "\b\b- "
     ]
    },
    {
     "name": "stdout",
     "output_type": "stream",
     "text": [
      "\b\b\\ "
     ]
    },
    {
     "name": "stdout",
     "output_type": "stream",
     "text": [
      "\b\b| "
     ]
    },
    {
     "name": "stdout",
     "output_type": "stream",
     "text": [
      "\b\b/ "
     ]
    },
    {
     "name": "stdout",
     "output_type": "stream",
     "text": [
      "\b\b- "
     ]
    },
    {
     "name": "stdout",
     "output_type": "stream",
     "text": [
      "\b\b\\ "
     ]
    },
    {
     "name": "stdout",
     "output_type": "stream",
     "text": [
      "\b\b| "
     ]
    },
    {
     "name": "stdout",
     "output_type": "stream",
     "text": [
      "\b\b/ "
     ]
    },
    {
     "name": "stdout",
     "output_type": "stream",
     "text": [
      "\b\b- "
     ]
    },
    {
     "name": "stdout",
     "output_type": "stream",
     "text": [
      "\b\b\\ "
     ]
    },
    {
     "name": "stdout",
     "output_type": "stream",
     "text": [
      "\b\b| "
     ]
    },
    {
     "name": "stdout",
     "output_type": "stream",
     "text": [
      "\b\b/ "
     ]
    },
    {
     "name": "stdout",
     "output_type": "stream",
     "text": [
      "\b\b- "
     ]
    },
    {
     "name": "stdout",
     "output_type": "stream",
     "text": [
      "\b\b\\ "
     ]
    },
    {
     "name": "stdout",
     "output_type": "stream",
     "text": [
      "\b\b| "
     ]
    },
    {
     "name": "stdout",
     "output_type": "stream",
     "text": [
      "\b\b/ "
     ]
    },
    {
     "name": "stdout",
     "output_type": "stream",
     "text": [
      "\b\b- "
     ]
    },
    {
     "name": "stdout",
     "output_type": "stream",
     "text": [
      "\b\b\\ "
     ]
    },
    {
     "name": "stdout",
     "output_type": "stream",
     "text": [
      "\b\b| "
     ]
    },
    {
     "name": "stdout",
     "output_type": "stream",
     "text": [
      "\b\b/ "
     ]
    },
    {
     "name": "stdout",
     "output_type": "stream",
     "text": [
      "\b\b- "
     ]
    },
    {
     "name": "stdout",
     "output_type": "stream",
     "text": [
      "\b\b\\ "
     ]
    },
    {
     "name": "stdout",
     "output_type": "stream",
     "text": [
      "\b\b| "
     ]
    },
    {
     "name": "stdout",
     "output_type": "stream",
     "text": [
      "\b\b/ "
     ]
    },
    {
     "name": "stdout",
     "output_type": "stream",
     "text": [
      "\b\b- "
     ]
    },
    {
     "name": "stdout",
     "output_type": "stream",
     "text": [
      "\b\b\\ "
     ]
    },
    {
     "name": "stdout",
     "output_type": "stream",
     "text": [
      "\b\b| "
     ]
    },
    {
     "name": "stdout",
     "output_type": "stream",
     "text": [
      "\b\b/ "
     ]
    },
    {
     "name": "stdout",
     "output_type": "stream",
     "text": [
      "\b\b- "
     ]
    },
    {
     "name": "stdout",
     "output_type": "stream",
     "text": [
      "\b\b\\ "
     ]
    },
    {
     "name": "stdout",
     "output_type": "stream",
     "text": [
      "\b\b| "
     ]
    },
    {
     "name": "stdout",
     "output_type": "stream",
     "text": [
      "\b\b/ "
     ]
    },
    {
     "name": "stdout",
     "output_type": "stream",
     "text": [
      "\b\b- "
     ]
    },
    {
     "name": "stdout",
     "output_type": "stream",
     "text": [
      "\b\b\\ "
     ]
    },
    {
     "name": "stdout",
     "output_type": "stream",
     "text": [
      "\b\b| "
     ]
    },
    {
     "name": "stdout",
     "output_type": "stream",
     "text": [
      "\b\b/ "
     ]
    },
    {
     "name": "stdout",
     "output_type": "stream",
     "text": [
      "\b\b- "
     ]
    },
    {
     "name": "stdout",
     "output_type": "stream",
     "text": [
      "\b\b\\ "
     ]
    },
    {
     "name": "stdout",
     "output_type": "stream",
     "text": [
      "\b\b| "
     ]
    },
    {
     "name": "stdout",
     "output_type": "stream",
     "text": [
      "\b\b/ "
     ]
    },
    {
     "name": "stdout",
     "output_type": "stream",
     "text": [
      "\b\b- "
     ]
    },
    {
     "name": "stdout",
     "output_type": "stream",
     "text": [
      "\b\b\\ "
     ]
    },
    {
     "name": "stdout",
     "output_type": "stream",
     "text": [
      "\b\b| "
     ]
    },
    {
     "name": "stdout",
     "output_type": "stream",
     "text": [
      "\b\b/ "
     ]
    },
    {
     "name": "stdout",
     "output_type": "stream",
     "text": [
      "\b\b- "
     ]
    },
    {
     "name": "stdout",
     "output_type": "stream",
     "text": [
      "\b\b\\ "
     ]
    },
    {
     "name": "stdout",
     "output_type": "stream",
     "text": [
      "\b\b| "
     ]
    },
    {
     "name": "stdout",
     "output_type": "stream",
     "text": [
      "\b\b/ "
     ]
    },
    {
     "name": "stdout",
     "output_type": "stream",
     "text": [
      "\b\b- "
     ]
    },
    {
     "name": "stdout",
     "output_type": "stream",
     "text": [
      "\b\b\\ "
     ]
    },
    {
     "name": "stdout",
     "output_type": "stream",
     "text": [
      "\b\b| "
     ]
    },
    {
     "name": "stdout",
     "output_type": "stream",
     "text": [
      "\b\b/ "
     ]
    },
    {
     "name": "stdout",
     "output_type": "stream",
     "text": [
      "\b\b- "
     ]
    },
    {
     "name": "stdout",
     "output_type": "stream",
     "text": [
      "\b\b\\ "
     ]
    },
    {
     "name": "stdout",
     "output_type": "stream",
     "text": [
      "\b\b| "
     ]
    },
    {
     "name": "stdout",
     "output_type": "stream",
     "text": [
      "\b\b/ "
     ]
    },
    {
     "name": "stdout",
     "output_type": "stream",
     "text": [
      "\b\b- "
     ]
    },
    {
     "name": "stdout",
     "output_type": "stream",
     "text": [
      "\b\b\\ "
     ]
    },
    {
     "name": "stdout",
     "output_type": "stream",
     "text": [
      "\b\b| "
     ]
    },
    {
     "name": "stdout",
     "output_type": "stream",
     "text": [
      "\b\b/ "
     ]
    },
    {
     "name": "stdout",
     "output_type": "stream",
     "text": [
      "\b\b- "
     ]
    },
    {
     "name": "stdout",
     "output_type": "stream",
     "text": [
      "\b\b\\ "
     ]
    },
    {
     "name": "stdout",
     "output_type": "stream",
     "text": [
      "\b\b| "
     ]
    },
    {
     "name": "stdout",
     "output_type": "stream",
     "text": [
      "\b\b/ "
     ]
    },
    {
     "name": "stdout",
     "output_type": "stream",
     "text": [
      "\b\b- "
     ]
    },
    {
     "name": "stdout",
     "output_type": "stream",
     "text": [
      "\b\b\\ "
     ]
    },
    {
     "name": "stdout",
     "output_type": "stream",
     "text": [
      "\b\b| "
     ]
    },
    {
     "name": "stdout",
     "output_type": "stream",
     "text": [
      "\b\b/ "
     ]
    },
    {
     "name": "stdout",
     "output_type": "stream",
     "text": [
      "\b\b- "
     ]
    },
    {
     "name": "stdout",
     "output_type": "stream",
     "text": [
      "\b\b\\ "
     ]
    },
    {
     "name": "stdout",
     "output_type": "stream",
     "text": [
      "\b\b| "
     ]
    },
    {
     "name": "stdout",
     "output_type": "stream",
     "text": [
      "\b\b/ "
     ]
    },
    {
     "name": "stdout",
     "output_type": "stream",
     "text": [
      "\b\b- "
     ]
    },
    {
     "name": "stdout",
     "output_type": "stream",
     "text": [
      "\b\b\\ "
     ]
    },
    {
     "name": "stdout",
     "output_type": "stream",
     "text": [
      "\b\b| "
     ]
    },
    {
     "name": "stdout",
     "output_type": "stream",
     "text": [
      "\b\b/ "
     ]
    },
    {
     "name": "stdout",
     "output_type": "stream",
     "text": [
      "\b\b- "
     ]
    },
    {
     "name": "stdout",
     "output_type": "stream",
     "text": [
      "\b\b\\ "
     ]
    },
    {
     "name": "stdout",
     "output_type": "stream",
     "text": [
      "\b\b| "
     ]
    },
    {
     "name": "stdout",
     "output_type": "stream",
     "text": [
      "\b\b/ "
     ]
    },
    {
     "name": "stdout",
     "output_type": "stream",
     "text": [
      "\b\b- "
     ]
    },
    {
     "name": "stdout",
     "output_type": "stream",
     "text": [
      "\b\b\\ "
     ]
    },
    {
     "name": "stdout",
     "output_type": "stream",
     "text": [
      "\b\b| "
     ]
    },
    {
     "name": "stdout",
     "output_type": "stream",
     "text": [
      "\b\b/ "
     ]
    },
    {
     "name": "stdout",
     "output_type": "stream",
     "text": [
      "\b\b- "
     ]
    },
    {
     "name": "stdout",
     "output_type": "stream",
     "text": [
      "\b\b\\ "
     ]
    },
    {
     "name": "stdout",
     "output_type": "stream",
     "text": [
      "\b\b| "
     ]
    },
    {
     "name": "stdout",
     "output_type": "stream",
     "text": [
      "\b\b/ "
     ]
    },
    {
     "name": "stdout",
     "output_type": "stream",
     "text": [
      "\b\b- "
     ]
    },
    {
     "name": "stdout",
     "output_type": "stream",
     "text": [
      "\b\b\\ "
     ]
    },
    {
     "name": "stdout",
     "output_type": "stream",
     "text": [
      "\b\b| "
     ]
    },
    {
     "name": "stdout",
     "output_type": "stream",
     "text": [
      "\b\b/ "
     ]
    },
    {
     "name": "stdout",
     "output_type": "stream",
     "text": [
      "\b\b- "
     ]
    },
    {
     "name": "stdout",
     "output_type": "stream",
     "text": [
      "\b\b\\ "
     ]
    },
    {
     "name": "stdout",
     "output_type": "stream",
     "text": [
      "\b\b| "
     ]
    },
    {
     "name": "stdout",
     "output_type": "stream",
     "text": [
      "\b\b/ "
     ]
    },
    {
     "name": "stdout",
     "output_type": "stream",
     "text": [
      "\b\b- "
     ]
    },
    {
     "name": "stdout",
     "output_type": "stream",
     "text": [
      "\b\b\\ "
     ]
    },
    {
     "name": "stdout",
     "output_type": "stream",
     "text": [
      "\b\b| "
     ]
    },
    {
     "name": "stdout",
     "output_type": "stream",
     "text": [
      "\b\b/ "
     ]
    },
    {
     "name": "stdout",
     "output_type": "stream",
     "text": [
      "\b\b- "
     ]
    },
    {
     "name": "stdout",
     "output_type": "stream",
     "text": [
      "\b\b\\ "
     ]
    },
    {
     "name": "stdout",
     "output_type": "stream",
     "text": [
      "\b\b| "
     ]
    },
    {
     "name": "stdout",
     "output_type": "stream",
     "text": [
      "\b\b/ "
     ]
    },
    {
     "name": "stdout",
     "output_type": "stream",
     "text": [
      "\b\bdone\r\n"
     ]
    },
    {
     "name": "stdout",
     "output_type": "stream",
     "text": [
      "\r\n",
      "## Package Plan ##\r\n",
      "\r\n",
      "  environment location: /opt/conda\r\n",
      "\r\n",
      "  added / updated specs:\r\n",
      "    - cudatoolkit=11.0\r\n",
      "    - faiss-gpu\r\n",
      "    - mkl\r\n",
      "\r\n",
      "\r\n",
      "The following packages will be downloaded:\r\n",
      "\r\n",
      "    package                    |            build\r\n",
      "    ---------------------------|-----------------\r\n",
      "    cuda92-1.0                 |                0           4 KB  pytorch\r\n",
      "    faiss-gpu-1.5.0            |   py37_cuda9.2_1        18.5 MB  pytorch\r\n",
      "    ------------------------------------------------------------\r\n",
      "                                           Total:        18.5 MB\r\n",
      "\r\n",
      "The following NEW packages will be INSTALLED:\r\n",
      "\r\n",
      "  cuda92             pytorch/linux-64::cuda92-1.0-0\r\n",
      "  faiss-gpu          pytorch/linux-64::faiss-gpu-1.5.0-py37_cuda9.2_1\r\n",
      "\r\n",
      "\r\n",
      "\r\n",
      "Downloading and Extracting Packages\r\n",
      "\r",
      "cuda92-1.0           | 4 KB      |                                       |   0% "
     ]
    },
    {
     "name": "stdout",
     "output_type": "stream",
     "text": [
      "\r",
      "cuda92-1.0           | 4 KB      | ##################################### | 100% \r",
      "cuda92-1.0           | 4 KB      | ##################################### | 100% \r\n",
      "\r",
      "faiss-gpu-1.5.0      | 18.5 MB   |                                       |   0% "
     ]
    },
    {
     "name": "stdout",
     "output_type": "stream",
     "text": [
      "\r",
      "faiss-gpu-1.5.0      | 18.5 MB   |                                       |   0% "
     ]
    },
    {
     "name": "stdout",
     "output_type": "stream",
     "text": [
      "\r",
      "faiss-gpu-1.5.0      | 18.5 MB   |                                       |   0% "
     ]
    },
    {
     "name": "stdout",
     "output_type": "stream",
     "text": [
      "\r",
      "faiss-gpu-1.5.0      | 18.5 MB   | 1                                     |   1% "
     ]
    },
    {
     "name": "stdout",
     "output_type": "stream",
     "text": [
      "\r",
      "faiss-gpu-1.5.0      | 18.5 MB   | 2                                     |   1% "
     ]
    },
    {
     "name": "stdout",
     "output_type": "stream",
     "text": [
      "\r",
      "faiss-gpu-1.5.0      | 18.5 MB   | 6                                     |   2% "
     ]
    },
    {
     "name": "stdout",
     "output_type": "stream",
     "text": [
      "\r",
      "faiss-gpu-1.5.0      | 18.5 MB   | #2                                    |   3% "
     ]
    },
    {
     "name": "stdout",
     "output_type": "stream",
     "text": [
      "\r",
      "faiss-gpu-1.5.0      | 18.5 MB   | ##5                                   |   7% "
     ]
    },
    {
     "name": "stdout",
     "output_type": "stream",
     "text": [
      "\r",
      "faiss-gpu-1.5.0      | 18.5 MB   | #####                                 |  14% "
     ]
    },
    {
     "name": "stdout",
     "output_type": "stream",
     "text": [
      "\r",
      "faiss-gpu-1.5.0      | 18.5 MB   | ##########                            |  27% "
     ]
    },
    {
     "name": "stdout",
     "output_type": "stream",
     "text": [
      "\r",
      "faiss-gpu-1.5.0      | 18.5 MB   | #############5                        |  37% "
     ]
    },
    {
     "name": "stdout",
     "output_type": "stream",
     "text": [
      "\r",
      "faiss-gpu-1.5.0      | 18.5 MB   | ##################5                   |  50% "
     ]
    },
    {
     "name": "stdout",
     "output_type": "stream",
     "text": [
      "\r",
      "faiss-gpu-1.5.0      | 18.5 MB   | ######################4               |  61% "
     ]
    },
    {
     "name": "stdout",
     "output_type": "stream",
     "text": [
      "\r",
      "faiss-gpu-1.5.0      | 18.5 MB   | ###########################           |  73% "
     ]
    },
    {
     "name": "stdout",
     "output_type": "stream",
     "text": [
      "\r",
      "faiss-gpu-1.5.0      | 18.5 MB   | ##############################5       |  83% "
     ]
    },
    {
     "name": "stdout",
     "output_type": "stream",
     "text": [
      "\r",
      "faiss-gpu-1.5.0      | 18.5 MB   | ###################################3  |  96% "
     ]
    },
    {
     "name": "stdout",
     "output_type": "stream",
     "text": [
      "\r",
      "faiss-gpu-1.5.0      | 18.5 MB   | ##################################### | 100% \r\n",
      "Preparing transaction: \\ "
     ]
    },
    {
     "name": "stdout",
     "output_type": "stream",
     "text": [
      "\b\bdone\r\n",
      "Verifying transaction: / "
     ]
    },
    {
     "name": "stdout",
     "output_type": "stream",
     "text": [
      "\b\b- "
     ]
    },
    {
     "name": "stdout",
     "output_type": "stream",
     "text": [
      "\b\bdone\r\n",
      "Executing transaction: | "
     ]
    },
    {
     "name": "stdout",
     "output_type": "stream",
     "text": [
      "\b\bdone\r\n"
     ]
    }
   ],
   "source": [
    "!conda install -c conda-forge faiss-gpu cudatoolkit=11.0 mkl -y"
   ]
  },
  {
   "cell_type": "code",
   "execution_count": 8,
   "id": "dominant-bonus",
   "metadata": {
    "execution": {
     "iopub.execute_input": "2021-05-29T12:17:14.210023Z",
     "iopub.status.busy": "2021-05-29T12:17:14.209199Z",
     "iopub.status.idle": "2021-05-29T12:17:21.856340Z",
     "shell.execute_reply": "2021-05-29T12:17:21.855445Z"
    },
    "papermill": {
     "duration": 7.742948,
     "end_time": "2021-05-29T12:17:21.856479",
     "exception": false,
     "start_time": "2021-05-29T12:17:14.113531",
     "status": "completed"
    },
    "tags": []
   },
   "outputs": [],
   "source": [
    "%%capture\n",
    "!apt-get -y install zsh"
   ]
  },
  {
   "cell_type": "code",
   "execution_count": 9,
   "id": "composite-classics",
   "metadata": {
    "execution": {
     "iopub.execute_input": "2021-05-29T12:17:22.044441Z",
     "iopub.status.busy": "2021-05-29T12:17:22.043518Z",
     "iopub.status.idle": "2021-05-29T12:24:03.647323Z",
     "shell.execute_reply": "2021-05-29T12:24:03.646776Z"
    },
    "papermill": {
     "duration": 401.7024,
     "end_time": "2021-05-29T12:24:03.647454",
     "exception": false,
     "start_time": "2021-05-29T12:17:21.945054",
     "status": "completed"
    },
    "tags": []
   },
   "outputs": [
    {
     "name": "stdout",
     "output_type": "stream",
     "text": [
      "using 512 dim for PCA\r\n"
     ]
    },
    {
     "name": "stdout",
     "output_type": "stream",
     "text": [
      "\r",
      "  0%|                                                  | 0/2331 [00:00<?, ?it/s]"
     ]
    },
    {
     "name": "stdout",
     "output_type": "stream",
     "text": [
      "\r",
      "  0%|                                          | 1/2331 [00:01<38:59,  1.00s/it]"
     ]
    },
    {
     "name": "stdout",
     "output_type": "stream",
     "text": [
      "\r",
      "  0%|                                          | 4/2331 [00:01<08:41,  4.46it/s]"
     ]
    },
    {
     "name": "stdout",
     "output_type": "stream",
     "text": [
      "\r",
      "  0%|▏                                         | 7/2331 [00:01<04:44,  8.17it/s]"
     ]
    },
    {
     "name": "stdout",
     "output_type": "stream",
     "text": [
      "\r",
      "  0%|▏                                        | 11/2331 [00:01<02:56, 13.13it/s]"
     ]
    },
    {
     "name": "stdout",
     "output_type": "stream",
     "text": [
      "\r",
      "  1%|▎                                        | 15/2331 [00:01<02:12, 17.47it/s]"
     ]
    },
    {
     "name": "stdout",
     "output_type": "stream",
     "text": [
      "\r",
      "  1%|▎                                        | 18/2331 [00:01<01:56, 19.80it/s]"
     ]
    },
    {
     "name": "stdout",
     "output_type": "stream",
     "text": [
      "\r",
      "  1%|▍                                        | 22/2331 [00:01<01:39, 23.11it/s]"
     ]
    },
    {
     "name": "stdout",
     "output_type": "stream",
     "text": [
      "\r",
      "  1%|▍                                        | 26/2331 [00:01<01:28, 25.92it/s]"
     ]
    },
    {
     "name": "stdout",
     "output_type": "stream",
     "text": [
      "\r",
      "  1%|▌                                        | 30/2331 [00:01<01:24, 27.33it/s]"
     ]
    },
    {
     "name": "stdout",
     "output_type": "stream",
     "text": [
      "\r",
      "  1%|▌                                        | 34/2331 [00:02<01:22, 27.89it/s]"
     ]
    },
    {
     "name": "stdout",
     "output_type": "stream",
     "text": [
      "\r",
      "  2%|▋                                        | 38/2331 [00:02<01:20, 28.33it/s]"
     ]
    },
    {
     "name": "stdout",
     "output_type": "stream",
     "text": [
      "\r",
      "  2%|▋                                        | 41/2331 [00:02<01:21, 28.19it/s]"
     ]
    },
    {
     "name": "stdout",
     "output_type": "stream",
     "text": [
      "\r",
      "  2%|▊                                        | 45/2331 [00:02<01:18, 29.11it/s]"
     ]
    },
    {
     "name": "stdout",
     "output_type": "stream",
     "text": [
      "\r",
      "  2%|▊                                        | 48/2331 [00:02<01:18, 29.14it/s]"
     ]
    },
    {
     "name": "stdout",
     "output_type": "stream",
     "text": [
      "\r",
      "  2%|▉                                        | 51/2331 [00:02<01:20, 28.33it/s]"
     ]
    },
    {
     "name": "stdout",
     "output_type": "stream",
     "text": [
      "\r",
      "  2%|▉                                        | 55/2331 [00:02<01:16, 29.57it/s]"
     ]
    },
    {
     "name": "stdout",
     "output_type": "stream",
     "text": [
      "\r",
      "  2%|█                                        | 58/2331 [00:02<01:17, 29.33it/s]"
     ]
    },
    {
     "name": "stdout",
     "output_type": "stream",
     "text": [
      "\r",
      "  3%|█                                        | 62/2331 [00:03<01:13, 30.80it/s]"
     ]
    },
    {
     "name": "stdout",
     "output_type": "stream",
     "text": [
      "\r",
      "  3%|█▏                                       | 66/2331 [00:03<01:10, 31.91it/s]"
     ]
    },
    {
     "name": "stdout",
     "output_type": "stream",
     "text": [
      "\r",
      "  3%|█▏                                       | 70/2331 [00:03<01:10, 31.97it/s]"
     ]
    },
    {
     "name": "stdout",
     "output_type": "stream",
     "text": [
      "\r",
      "  3%|█▎                                       | 74/2331 [00:03<01:10, 31.90it/s]"
     ]
    },
    {
     "name": "stdout",
     "output_type": "stream",
     "text": [
      "\r",
      "  3%|█▎                                       | 78/2331 [00:03<01:12, 31.06it/s]"
     ]
    },
    {
     "name": "stdout",
     "output_type": "stream",
     "text": [
      "\r",
      "  4%|█▍                                       | 82/2331 [00:03<01:12, 31.20it/s]"
     ]
    },
    {
     "name": "stdout",
     "output_type": "stream",
     "text": [
      "\r",
      "  4%|█▌                                       | 86/2331 [00:03<01:12, 30.91it/s]"
     ]
    },
    {
     "name": "stdout",
     "output_type": "stream",
     "text": [
      "\r",
      "  4%|█▌                                       | 90/2331 [00:03<01:12, 30.87it/s]"
     ]
    },
    {
     "name": "stdout",
     "output_type": "stream",
     "text": [
      "\r",
      "  4%|█▋                                       | 94/2331 [00:04<01:12, 30.99it/s]"
     ]
    },
    {
     "name": "stdout",
     "output_type": "stream",
     "text": [
      "\r",
      "  4%|█▋                                       | 98/2331 [00:04<01:09, 31.94it/s]"
     ]
    },
    {
     "name": "stdout",
     "output_type": "stream",
     "text": [
      "\r",
      "  4%|█▊                                      | 102/2331 [00:04<01:10, 31.48it/s]"
     ]
    },
    {
     "name": "stdout",
     "output_type": "stream",
     "text": [
      "\r",
      "  5%|█▊                                      | 106/2331 [00:04<01:12, 30.51it/s]"
     ]
    },
    {
     "name": "stdout",
     "output_type": "stream",
     "text": [
      "\r",
      "  5%|█▉                                      | 110/2331 [00:04<01:09, 31.84it/s]"
     ]
    },
    {
     "name": "stdout",
     "output_type": "stream",
     "text": [
      "\r",
      "  5%|█▉                                      | 114/2331 [00:04<01:07, 32.69it/s]"
     ]
    },
    {
     "name": "stdout",
     "output_type": "stream",
     "text": [
      "\r",
      "  5%|██                                      | 118/2331 [00:04<01:06, 33.03it/s]"
     ]
    },
    {
     "name": "stdout",
     "output_type": "stream",
     "text": [
      "\r",
      "  5%|██                                      | 122/2331 [00:04<01:06, 33.45it/s]"
     ]
    },
    {
     "name": "stdout",
     "output_type": "stream",
     "text": [
      "\r",
      "  5%|██▏                                     | 126/2331 [00:05<01:06, 33.31it/s]"
     ]
    },
    {
     "name": "stdout",
     "output_type": "stream",
     "text": [
      "\r",
      "  6%|██▏                                     | 130/2331 [00:05<01:05, 33.42it/s]"
     ]
    },
    {
     "name": "stdout",
     "output_type": "stream",
     "text": [
      "\r",
      "  6%|██▎                                     | 134/2331 [00:05<01:06, 33.11it/s]"
     ]
    },
    {
     "name": "stdout",
     "output_type": "stream",
     "text": [
      "\r",
      "  6%|██▎                                     | 138/2331 [00:05<01:04, 34.17it/s]"
     ]
    },
    {
     "name": "stdout",
     "output_type": "stream",
     "text": [
      "\r",
      "  6%|██▍                                     | 142/2331 [00:05<01:04, 33.95it/s]"
     ]
    },
    {
     "name": "stdout",
     "output_type": "stream",
     "text": [
      "\r",
      "  6%|██▌                                     | 146/2331 [00:05<01:05, 33.35it/s]"
     ]
    },
    {
     "name": "stdout",
     "output_type": "stream",
     "text": [
      "\r",
      "  6%|██▌                                     | 150/2331 [00:05<01:04, 33.97it/s]"
     ]
    },
    {
     "name": "stdout",
     "output_type": "stream",
     "text": [
      "\r",
      "  7%|██▋                                     | 154/2331 [00:05<01:02, 34.58it/s]"
     ]
    },
    {
     "name": "stdout",
     "output_type": "stream",
     "text": [
      "\r",
      "  7%|██▋                                     | 158/2331 [00:05<01:04, 33.87it/s]"
     ]
    },
    {
     "name": "stdout",
     "output_type": "stream",
     "text": [
      "\r",
      "  7%|██▊                                     | 162/2331 [00:06<01:05, 32.88it/s]"
     ]
    },
    {
     "name": "stdout",
     "output_type": "stream",
     "text": [
      "\r",
      "  7%|██▊                                     | 166/2331 [00:06<01:04, 33.32it/s]"
     ]
    },
    {
     "name": "stdout",
     "output_type": "stream",
     "text": [
      "\r",
      "  7%|██▉                                     | 170/2331 [00:06<01:05, 32.86it/s]"
     ]
    },
    {
     "name": "stdout",
     "output_type": "stream",
     "text": [
      "\r",
      "  7%|██▉                                     | 174/2331 [00:06<01:04, 33.28it/s]"
     ]
    },
    {
     "name": "stdout",
     "output_type": "stream",
     "text": [
      "\r",
      "  8%|███                                     | 178/2331 [00:06<01:06, 32.44it/s]"
     ]
    },
    {
     "name": "stdout",
     "output_type": "stream",
     "text": [
      "\r",
      "  8%|███                                     | 182/2331 [00:06<01:13, 29.25it/s]"
     ]
    },
    {
     "name": "stdout",
     "output_type": "stream",
     "text": [
      "\r",
      "  8%|███▏                                    | 185/2331 [00:06<01:14, 28.69it/s]"
     ]
    },
    {
     "name": "stdout",
     "output_type": "stream",
     "text": [
      "\r",
      "  8%|███▏                                    | 188/2331 [00:06<01:14, 28.66it/s]"
     ]
    },
    {
     "name": "stdout",
     "output_type": "stream",
     "text": [
      "\r",
      "  8%|███▎                                    | 192/2331 [00:07<01:11, 30.12it/s]"
     ]
    },
    {
     "name": "stdout",
     "output_type": "stream",
     "text": [
      "\r",
      "  8%|███▎                                    | 196/2331 [00:07<01:10, 30.20it/s]"
     ]
    },
    {
     "name": "stdout",
     "output_type": "stream",
     "text": [
      "\r",
      "  9%|███▍                                    | 200/2331 [00:07<01:08, 31.05it/s]"
     ]
    },
    {
     "name": "stdout",
     "output_type": "stream",
     "text": [
      "\r",
      "  9%|███▌                                    | 204/2331 [00:07<01:08, 31.19it/s]"
     ]
    },
    {
     "name": "stdout",
     "output_type": "stream",
     "text": [
      "\r",
      "  9%|███▌                                    | 208/2331 [00:07<01:09, 30.63it/s]"
     ]
    },
    {
     "name": "stdout",
     "output_type": "stream",
     "text": [
      "\r",
      "  9%|███▋                                    | 212/2331 [00:07<01:09, 30.33it/s]"
     ]
    },
    {
     "name": "stdout",
     "output_type": "stream",
     "text": [
      "\r",
      "  9%|███▋                                    | 216/2331 [00:07<01:07, 31.34it/s]"
     ]
    },
    {
     "name": "stdout",
     "output_type": "stream",
     "text": [
      "\r",
      "  9%|███▊                                    | 220/2331 [00:08<01:11, 29.72it/s]"
     ]
    },
    {
     "name": "stdout",
     "output_type": "stream",
     "text": [
      "\r",
      " 10%|███▊                                    | 224/2331 [00:08<01:09, 30.30it/s]"
     ]
    },
    {
     "name": "stdout",
     "output_type": "stream",
     "text": [
      "\r",
      " 10%|███▉                                    | 228/2331 [00:08<01:07, 31.16it/s]"
     ]
    },
    {
     "name": "stdout",
     "output_type": "stream",
     "text": [
      "\r",
      " 10%|███▉                                    | 232/2331 [00:08<01:07, 31.09it/s]"
     ]
    },
    {
     "name": "stdout",
     "output_type": "stream",
     "text": [
      "\r",
      " 10%|████                                    | 236/2331 [00:08<01:07, 31.23it/s]"
     ]
    },
    {
     "name": "stdout",
     "output_type": "stream",
     "text": [
      "\r",
      " 10%|████                                    | 240/2331 [00:08<01:09, 30.12it/s]"
     ]
    },
    {
     "name": "stdout",
     "output_type": "stream",
     "text": [
      "\r",
      " 10%|████▏                                   | 244/2331 [00:08<01:09, 30.24it/s]"
     ]
    },
    {
     "name": "stdout",
     "output_type": "stream",
     "text": [
      "\r",
      " 11%|████▎                                   | 248/2331 [00:08<01:05, 31.63it/s]"
     ]
    },
    {
     "name": "stdout",
     "output_type": "stream",
     "text": [
      "\r",
      " 11%|████▎                                   | 252/2331 [00:09<01:05, 31.92it/s]"
     ]
    },
    {
     "name": "stdout",
     "output_type": "stream",
     "text": [
      "\r",
      " 11%|████▍                                   | 256/2331 [00:09<01:05, 31.75it/s]"
     ]
    },
    {
     "name": "stdout",
     "output_type": "stream",
     "text": [
      "\r",
      " 11%|████▍                                   | 260/2331 [00:09<01:03, 32.59it/s]"
     ]
    },
    {
     "name": "stdout",
     "output_type": "stream",
     "text": [
      "\r",
      " 11%|████▌                                   | 264/2331 [00:09<01:04, 31.81it/s]"
     ]
    },
    {
     "name": "stdout",
     "output_type": "stream",
     "text": [
      "\r",
      " 11%|████▌                                   | 268/2331 [00:09<01:08, 30.06it/s]"
     ]
    },
    {
     "name": "stdout",
     "output_type": "stream",
     "text": [
      "\r",
      " 12%|████▋                                   | 272/2331 [00:09<01:06, 31.18it/s]"
     ]
    },
    {
     "name": "stdout",
     "output_type": "stream",
     "text": [
      "\r",
      " 12%|████▋                                   | 276/2331 [00:09<01:06, 30.74it/s]"
     ]
    },
    {
     "name": "stdout",
     "output_type": "stream",
     "text": [
      "\r",
      " 12%|████▊                                   | 280/2331 [00:09<01:07, 30.54it/s]"
     ]
    },
    {
     "name": "stdout",
     "output_type": "stream",
     "text": [
      "\r",
      " 12%|████▊                                   | 284/2331 [00:10<01:08, 30.03it/s]"
     ]
    },
    {
     "name": "stdout",
     "output_type": "stream",
     "text": [
      "\r",
      " 12%|████▉                                   | 288/2331 [00:10<01:06, 30.72it/s]"
     ]
    },
    {
     "name": "stdout",
     "output_type": "stream",
     "text": [
      "\r",
      " 13%|█████                                   | 292/2331 [00:10<01:04, 31.53it/s]"
     ]
    },
    {
     "name": "stdout",
     "output_type": "stream",
     "text": [
      "\r",
      " 13%|█████                                   | 296/2331 [00:10<01:12, 28.24it/s]"
     ]
    },
    {
     "name": "stdout",
     "output_type": "stream",
     "text": [
      "\r",
      " 13%|█████▏                                  | 299/2331 [00:10<01:14, 27.20it/s]"
     ]
    },
    {
     "name": "stdout",
     "output_type": "stream",
     "text": [
      "\r",
      " 13%|█████▏                                  | 302/2331 [00:10<01:18, 25.97it/s]"
     ]
    },
    {
     "name": "stdout",
     "output_type": "stream",
     "text": [
      "\r",
      " 13%|█████▏                                  | 305/2331 [00:10<01:23, 24.17it/s]"
     ]
    },
    {
     "name": "stdout",
     "output_type": "stream",
     "text": [
      "\r",
      " 13%|█████▎                                  | 308/2331 [00:11<01:24, 23.84it/s]"
     ]
    },
    {
     "name": "stdout",
     "output_type": "stream",
     "text": [
      "\r",
      " 13%|█████▎                                  | 311/2331 [00:11<01:26, 23.43it/s]"
     ]
    },
    {
     "name": "stdout",
     "output_type": "stream",
     "text": [
      "\r",
      " 13%|█████▍                                  | 314/2331 [00:11<01:27, 23.16it/s]"
     ]
    },
    {
     "name": "stdout",
     "output_type": "stream",
     "text": [
      "\r",
      " 14%|█████▍                                  | 317/2331 [00:11<01:29, 22.52it/s]"
     ]
    },
    {
     "name": "stdout",
     "output_type": "stream",
     "text": [
      "\r",
      " 14%|█████▍                                  | 320/2331 [00:11<01:28, 22.71it/s]"
     ]
    },
    {
     "name": "stdout",
     "output_type": "stream",
     "text": [
      "\r",
      " 14%|█████▌                                  | 323/2331 [00:11<01:23, 24.04it/s]"
     ]
    },
    {
     "name": "stdout",
     "output_type": "stream",
     "text": [
      "\r",
      " 14%|█████▌                                  | 326/2331 [00:11<01:27, 22.97it/s]"
     ]
    },
    {
     "name": "stdout",
     "output_type": "stream",
     "text": [
      "\r",
      " 14%|█████▋                                  | 329/2331 [00:11<01:29, 22.26it/s]"
     ]
    },
    {
     "name": "stdout",
     "output_type": "stream",
     "text": [
      "\r",
      " 14%|█████▋                                  | 332/2331 [00:12<01:27, 22.80it/s]"
     ]
    },
    {
     "name": "stdout",
     "output_type": "stream",
     "text": [
      "\r",
      " 14%|█████▋                                  | 335/2331 [00:12<01:28, 22.52it/s]"
     ]
    },
    {
     "name": "stdout",
     "output_type": "stream",
     "text": [
      "\r",
      " 15%|█████▊                                  | 338/2331 [00:12<01:31, 21.89it/s]"
     ]
    },
    {
     "name": "stdout",
     "output_type": "stream",
     "text": [
      "\r",
      " 15%|█████▊                                  | 341/2331 [00:12<01:24, 23.67it/s]"
     ]
    },
    {
     "name": "stdout",
     "output_type": "stream",
     "text": [
      "\r",
      " 15%|█████▉                                  | 344/2331 [00:12<01:24, 23.41it/s]"
     ]
    },
    {
     "name": "stdout",
     "output_type": "stream",
     "text": [
      "\r",
      " 15%|█████▉                                  | 347/2331 [00:12<01:22, 24.18it/s]"
     ]
    },
    {
     "name": "stdout",
     "output_type": "stream",
     "text": [
      "\r",
      " 15%|██████                                  | 350/2331 [00:12<01:24, 23.36it/s]"
     ]
    },
    {
     "name": "stdout",
     "output_type": "stream",
     "text": [
      "\r",
      " 15%|██████                                  | 353/2331 [00:12<01:25, 23.13it/s]"
     ]
    },
    {
     "name": "stdout",
     "output_type": "stream",
     "text": [
      "\r",
      " 15%|██████                                  | 356/2331 [00:13<01:24, 23.47it/s]"
     ]
    },
    {
     "name": "stdout",
     "output_type": "stream",
     "text": [
      "\r",
      " 15%|██████▏                                 | 359/2331 [00:13<01:24, 23.45it/s]"
     ]
    },
    {
     "name": "stdout",
     "output_type": "stream",
     "text": [
      "\r",
      " 16%|██████▏                                 | 362/2331 [00:13<01:25, 23.16it/s]"
     ]
    },
    {
     "name": "stdout",
     "output_type": "stream",
     "text": [
      "\r",
      " 16%|██████▎                                 | 366/2331 [00:13<01:18, 24.92it/s]"
     ]
    },
    {
     "name": "stdout",
     "output_type": "stream",
     "text": [
      "\r",
      " 16%|██████▎                                 | 369/2331 [00:13<01:16, 25.60it/s]"
     ]
    },
    {
     "name": "stdout",
     "output_type": "stream",
     "text": [
      "\r",
      " 16%|██████▍                                 | 373/2331 [00:13<01:13, 26.62it/s]"
     ]
    },
    {
     "name": "stdout",
     "output_type": "stream",
     "text": [
      "\r",
      " 16%|██████▍                                 | 377/2331 [00:13<01:12, 26.89it/s]"
     ]
    },
    {
     "name": "stdout",
     "output_type": "stream",
     "text": [
      "\r",
      " 16%|██████▌                                 | 380/2331 [00:14<01:14, 26.28it/s]"
     ]
    },
    {
     "name": "stdout",
     "output_type": "stream",
     "text": [
      "\r",
      " 16%|██████▌                                 | 383/2331 [00:14<01:16, 25.59it/s]"
     ]
    },
    {
     "name": "stdout",
     "output_type": "stream",
     "text": [
      "\r",
      " 17%|██████▌                                 | 386/2331 [00:14<01:16, 25.33it/s]"
     ]
    },
    {
     "name": "stdout",
     "output_type": "stream",
     "text": [
      "\r",
      " 17%|██████▋                                 | 389/2331 [00:14<01:19, 24.52it/s]"
     ]
    },
    {
     "name": "stdout",
     "output_type": "stream",
     "text": [
      "\r",
      " 17%|██████▋                                 | 392/2331 [00:14<01:19, 24.33it/s]"
     ]
    },
    {
     "name": "stdout",
     "output_type": "stream",
     "text": [
      "\r",
      " 17%|██████▊                                 | 395/2331 [00:14<01:17, 24.96it/s]"
     ]
    },
    {
     "name": "stdout",
     "output_type": "stream",
     "text": [
      "\r",
      " 17%|██████▊                                 | 398/2331 [00:14<01:15, 25.57it/s]"
     ]
    },
    {
     "name": "stdout",
     "output_type": "stream",
     "text": [
      "\r",
      " 17%|██████▉                                 | 401/2331 [00:14<01:14, 25.83it/s]"
     ]
    },
    {
     "name": "stdout",
     "output_type": "stream",
     "text": [
      "\r",
      " 17%|██████▉                                 | 404/2331 [00:14<01:14, 26.00it/s]"
     ]
    },
    {
     "name": "stdout",
     "output_type": "stream",
     "text": [
      "\r",
      " 17%|██████▉                                 | 407/2331 [00:15<01:12, 26.49it/s]"
     ]
    },
    {
     "name": "stdout",
     "output_type": "stream",
     "text": [
      "\r",
      " 18%|███████                                 | 410/2331 [00:15<01:11, 26.79it/s]"
     ]
    },
    {
     "name": "stdout",
     "output_type": "stream",
     "text": [
      "\r",
      " 18%|███████                                 | 413/2331 [00:15<01:12, 26.56it/s]"
     ]
    },
    {
     "name": "stdout",
     "output_type": "stream",
     "text": [
      "\r",
      " 18%|███████▏                                | 416/2331 [00:15<01:11, 26.84it/s]"
     ]
    },
    {
     "name": "stdout",
     "output_type": "stream",
     "text": [
      "\r",
      " 18%|███████▏                                | 419/2331 [00:15<01:09, 27.58it/s]"
     ]
    },
    {
     "name": "stdout",
     "output_type": "stream",
     "text": [
      "\r",
      " 18%|███████▏                                | 422/2331 [00:15<01:10, 27.07it/s]"
     ]
    },
    {
     "name": "stdout",
     "output_type": "stream",
     "text": [
      "\r",
      " 18%|███████▎                                | 425/2331 [00:15<01:14, 25.75it/s]"
     ]
    },
    {
     "name": "stdout",
     "output_type": "stream",
     "text": [
      "\r",
      " 18%|███████▎                                | 428/2331 [00:15<01:14, 25.45it/s]"
     ]
    },
    {
     "name": "stdout",
     "output_type": "stream",
     "text": [
      "\r",
      " 18%|███████▍                                | 431/2331 [00:15<01:13, 25.90it/s]"
     ]
    },
    {
     "name": "stdout",
     "output_type": "stream",
     "text": [
      "\r",
      " 19%|███████▍                                | 434/2331 [00:16<01:11, 26.50it/s]"
     ]
    },
    {
     "name": "stdout",
     "output_type": "stream",
     "text": [
      "\r",
      " 19%|███████▍                                | 437/2331 [00:16<01:11, 26.41it/s]"
     ]
    },
    {
     "name": "stdout",
     "output_type": "stream",
     "text": [
      "\r",
      " 19%|███████▌                                | 440/2331 [00:16<01:10, 26.66it/s]"
     ]
    },
    {
     "name": "stdout",
     "output_type": "stream",
     "text": [
      "\r",
      " 19%|███████▌                                | 443/2331 [00:16<01:10, 26.86it/s]"
     ]
    },
    {
     "name": "stdout",
     "output_type": "stream",
     "text": [
      "\r",
      " 19%|███████▋                                | 446/2331 [00:16<01:08, 27.37it/s]"
     ]
    },
    {
     "name": "stdout",
     "output_type": "stream",
     "text": [
      "\r",
      " 19%|███████▋                                | 450/2331 [00:16<01:04, 29.09it/s]"
     ]
    },
    {
     "name": "stdout",
     "output_type": "stream",
     "text": [
      "\r",
      " 19%|███████▊                                | 453/2331 [00:16<01:06, 28.07it/s]"
     ]
    },
    {
     "name": "stdout",
     "output_type": "stream",
     "text": [
      "\r",
      " 20%|███████▊                                | 456/2331 [00:16<01:16, 24.67it/s]"
     ]
    },
    {
     "name": "stdout",
     "output_type": "stream",
     "text": [
      "\r",
      " 20%|███████▉                                | 459/2331 [00:17<01:16, 24.43it/s]"
     ]
    },
    {
     "name": "stdout",
     "output_type": "stream",
     "text": [
      "\r",
      " 20%|███████▉                                | 462/2331 [00:17<01:16, 24.29it/s]"
     ]
    },
    {
     "name": "stdout",
     "output_type": "stream",
     "text": [
      "\r",
      " 20%|███████▉                                | 466/2331 [00:17<01:13, 25.53it/s]"
     ]
    },
    {
     "name": "stdout",
     "output_type": "stream",
     "text": [
      "\r",
      " 20%|████████                                | 469/2331 [00:17<01:13, 25.51it/s]"
     ]
    },
    {
     "name": "stdout",
     "output_type": "stream",
     "text": [
      "\r",
      " 20%|████████                                | 472/2331 [00:17<01:14, 24.91it/s]"
     ]
    },
    {
     "name": "stdout",
     "output_type": "stream",
     "text": [
      "\r",
      " 20%|████████▏                               | 475/2331 [00:17<01:15, 24.50it/s]"
     ]
    },
    {
     "name": "stdout",
     "output_type": "stream",
     "text": [
      "\r",
      " 21%|████████▏                               | 478/2331 [00:17<01:23, 22.30it/s]"
     ]
    },
    {
     "name": "stdout",
     "output_type": "stream",
     "text": [
      "\r",
      " 21%|████████▎                               | 481/2331 [00:18<01:29, 20.67it/s]"
     ]
    },
    {
     "name": "stdout",
     "output_type": "stream",
     "text": [
      "\r",
      " 21%|████████▎                               | 484/2331 [00:18<01:31, 20.08it/s]"
     ]
    },
    {
     "name": "stdout",
     "output_type": "stream",
     "text": [
      "\r",
      " 21%|████████▎                               | 487/2331 [00:18<01:33, 19.81it/s]"
     ]
    },
    {
     "name": "stdout",
     "output_type": "stream",
     "text": [
      "\r",
      " 21%|████████▍                               | 490/2331 [00:18<01:28, 20.86it/s]"
     ]
    },
    {
     "name": "stdout",
     "output_type": "stream",
     "text": [
      "\r",
      " 21%|████████▍                               | 493/2331 [00:18<01:23, 22.02it/s]"
     ]
    },
    {
     "name": "stdout",
     "output_type": "stream",
     "text": [
      "\r",
      " 21%|████████▌                               | 496/2331 [00:18<01:17, 23.59it/s]"
     ]
    },
    {
     "name": "stdout",
     "output_type": "stream",
     "text": [
      "\r",
      " 21%|████████▌                               | 499/2331 [00:18<01:16, 23.85it/s]"
     ]
    },
    {
     "name": "stdout",
     "output_type": "stream",
     "text": [
      "\r",
      " 22%|████████▌                               | 502/2331 [00:18<01:12, 25.34it/s]"
     ]
    },
    {
     "name": "stdout",
     "output_type": "stream",
     "text": [
      "\r",
      " 22%|████████▋                               | 505/2331 [00:19<01:11, 25.43it/s]"
     ]
    },
    {
     "name": "stdout",
     "output_type": "stream",
     "text": [
      "\r",
      " 22%|████████▋                               | 508/2331 [00:19<01:09, 26.34it/s]"
     ]
    },
    {
     "name": "stdout",
     "output_type": "stream",
     "text": [
      "\r",
      " 22%|████████▊                               | 511/2331 [00:19<01:10, 25.96it/s]"
     ]
    },
    {
     "name": "stdout",
     "output_type": "stream",
     "text": [
      "\r",
      " 22%|████████▊                               | 514/2331 [00:19<01:09, 26.30it/s]"
     ]
    },
    {
     "name": "stdout",
     "output_type": "stream",
     "text": [
      "\r",
      " 22%|████████▉                               | 518/2331 [00:19<01:07, 26.67it/s]"
     ]
    },
    {
     "name": "stdout",
     "output_type": "stream",
     "text": [
      "\r",
      " 22%|████████▉                               | 521/2331 [00:19<01:08, 26.59it/s]"
     ]
    },
    {
     "name": "stdout",
     "output_type": "stream",
     "text": [
      "\r",
      " 22%|████████▉                               | 524/2331 [00:19<01:08, 26.30it/s]"
     ]
    },
    {
     "name": "stdout",
     "output_type": "stream",
     "text": [
      "\r",
      " 23%|█████████                               | 528/2331 [00:19<01:04, 28.08it/s]"
     ]
    },
    {
     "name": "stdout",
     "output_type": "stream",
     "text": [
      "\r",
      " 23%|█████████                               | 531/2331 [00:19<01:03, 28.18it/s]"
     ]
    },
    {
     "name": "stdout",
     "output_type": "stream",
     "text": [
      "\r",
      " 23%|█████████▏                              | 534/2331 [00:20<01:03, 28.49it/s]"
     ]
    },
    {
     "name": "stdout",
     "output_type": "stream",
     "text": [
      "\r",
      " 23%|█████████▏                              | 537/2331 [00:20<01:07, 26.66it/s]"
     ]
    },
    {
     "name": "stdout",
     "output_type": "stream",
     "text": [
      "\r",
      " 23%|█████████▎                              | 540/2331 [00:20<01:05, 27.28it/s]"
     ]
    },
    {
     "name": "stdout",
     "output_type": "stream",
     "text": [
      "\r",
      " 23%|█████████▎                              | 544/2331 [00:20<01:01, 28.89it/s]"
     ]
    },
    {
     "name": "stdout",
     "output_type": "stream",
     "text": [
      "\r",
      " 24%|█████████▍                              | 548/2331 [00:20<00:59, 30.12it/s]"
     ]
    },
    {
     "name": "stdout",
     "output_type": "stream",
     "text": [
      "\r",
      " 24%|█████████▍                              | 552/2331 [00:20<01:01, 28.73it/s]"
     ]
    },
    {
     "name": "stdout",
     "output_type": "stream",
     "text": [
      "\r",
      " 24%|█████████▌                              | 555/2331 [00:20<01:03, 27.98it/s]"
     ]
    },
    {
     "name": "stdout",
     "output_type": "stream",
     "text": [
      "\r",
      " 24%|█████████▌                              | 558/2331 [00:20<01:02, 28.20it/s]"
     ]
    },
    {
     "name": "stdout",
     "output_type": "stream",
     "text": [
      "\r",
      " 24%|█████████▋                              | 562/2331 [00:21<01:00, 29.16it/s]"
     ]
    },
    {
     "name": "stdout",
     "output_type": "stream",
     "text": [
      "\r",
      " 24%|█████████▋                              | 565/2331 [00:21<01:01, 28.80it/s]"
     ]
    },
    {
     "name": "stdout",
     "output_type": "stream",
     "text": [
      "\r",
      " 24%|█████████▋                              | 568/2331 [00:21<01:02, 28.14it/s]"
     ]
    },
    {
     "name": "stdout",
     "output_type": "stream",
     "text": [
      "\r",
      " 25%|█████████▊                              | 572/2331 [00:21<00:58, 30.26it/s]"
     ]
    },
    {
     "name": "stdout",
     "output_type": "stream",
     "text": [
      "\r",
      " 25%|█████████▉                              | 576/2331 [00:21<00:55, 31.69it/s]"
     ]
    },
    {
     "name": "stdout",
     "output_type": "stream",
     "text": [
      "\r",
      " 25%|█████████▉                              | 580/2331 [00:21<00:52, 33.17it/s]"
     ]
    },
    {
     "name": "stdout",
     "output_type": "stream",
     "text": [
      "\r",
      " 25%|██████████                              | 584/2331 [00:21<00:50, 34.42it/s]"
     ]
    },
    {
     "name": "stdout",
     "output_type": "stream",
     "text": [
      "\r",
      " 25%|██████████                              | 588/2331 [00:21<00:51, 33.71it/s]"
     ]
    },
    {
     "name": "stdout",
     "output_type": "stream",
     "text": [
      "\r",
      " 25%|██████████▏                             | 592/2331 [00:21<00:51, 33.74it/s]"
     ]
    },
    {
     "name": "stdout",
     "output_type": "stream",
     "text": [
      "\r",
      " 26%|██████████▏                             | 596/2331 [00:22<00:50, 34.59it/s]"
     ]
    },
    {
     "name": "stdout",
     "output_type": "stream",
     "text": [
      "\r",
      " 26%|██████████▎                             | 600/2331 [00:22<00:52, 33.15it/s]"
     ]
    },
    {
     "name": "stdout",
     "output_type": "stream",
     "text": [
      "\r",
      " 26%|██████████▎                             | 604/2331 [00:22<00:50, 33.89it/s]"
     ]
    },
    {
     "name": "stdout",
     "output_type": "stream",
     "text": [
      "\r",
      " 26%|██████████▍                             | 608/2331 [00:22<00:50, 34.13it/s]"
     ]
    },
    {
     "name": "stdout",
     "output_type": "stream",
     "text": [
      "\r",
      " 26%|██████████▌                             | 612/2331 [00:22<00:50, 34.23it/s]"
     ]
    },
    {
     "name": "stdout",
     "output_type": "stream",
     "text": [
      "\r",
      " 26%|██████████▌                             | 616/2331 [00:22<00:55, 30.64it/s]"
     ]
    },
    {
     "name": "stdout",
     "output_type": "stream",
     "text": [
      "\r",
      " 27%|██████████▋                             | 620/2331 [00:22<00:55, 30.97it/s]"
     ]
    },
    {
     "name": "stdout",
     "output_type": "stream",
     "text": [
      "\r",
      " 27%|██████████▋                             | 624/2331 [00:22<00:56, 30.36it/s]"
     ]
    },
    {
     "name": "stdout",
     "output_type": "stream",
     "text": [
      "\r",
      " 27%|██████████▊                             | 628/2331 [00:23<00:54, 31.40it/s]"
     ]
    },
    {
     "name": "stdout",
     "output_type": "stream",
     "text": [
      "\r",
      " 27%|██████████▊                             | 632/2331 [00:23<00:51, 33.06it/s]"
     ]
    },
    {
     "name": "stdout",
     "output_type": "stream",
     "text": [
      "\r",
      " 27%|██████████▉                             | 636/2331 [00:23<00:51, 32.66it/s]"
     ]
    },
    {
     "name": "stdout",
     "output_type": "stream",
     "text": [
      "\r",
      " 27%|██████████▉                             | 640/2331 [00:23<00:51, 32.81it/s]"
     ]
    },
    {
     "name": "stdout",
     "output_type": "stream",
     "text": [
      "\r",
      " 28%|███████████                             | 644/2331 [00:23<00:49, 34.02it/s]"
     ]
    },
    {
     "name": "stdout",
     "output_type": "stream",
     "text": [
      "\r",
      " 28%|███████████                             | 648/2331 [00:23<00:47, 35.35it/s]"
     ]
    },
    {
     "name": "stdout",
     "output_type": "stream",
     "text": [
      "\r",
      " 28%|███████████▏                            | 652/2331 [00:23<00:47, 35.09it/s]"
     ]
    },
    {
     "name": "stdout",
     "output_type": "stream",
     "text": [
      "\r",
      " 28%|███████████▎                            | 656/2331 [00:23<00:49, 34.00it/s]"
     ]
    },
    {
     "name": "stdout",
     "output_type": "stream",
     "text": [
      "\r",
      " 28%|███████████▎                            | 660/2331 [00:24<00:49, 33.80it/s]"
     ]
    },
    {
     "name": "stdout",
     "output_type": "stream",
     "text": [
      "\r",
      " 28%|███████████▍                            | 664/2331 [00:24<00:51, 32.47it/s]"
     ]
    },
    {
     "name": "stdout",
     "output_type": "stream",
     "text": [
      "\r",
      " 29%|███████████▍                            | 668/2331 [00:24<00:53, 31.25it/s]"
     ]
    },
    {
     "name": "stdout",
     "output_type": "stream",
     "text": [
      "\r",
      " 29%|███████████▌                            | 672/2331 [00:24<00:57, 28.71it/s]"
     ]
    },
    {
     "name": "stdout",
     "output_type": "stream",
     "text": [
      "\r",
      " 29%|███████████▌                            | 675/2331 [00:24<01:00, 27.51it/s]"
     ]
    },
    {
     "name": "stdout",
     "output_type": "stream",
     "text": [
      "\r",
      " 29%|███████████▋                            | 678/2331 [00:24<01:01, 26.83it/s]"
     ]
    },
    {
     "name": "stdout",
     "output_type": "stream",
     "text": [
      "\r",
      " 29%|███████████▋                            | 681/2331 [00:24<01:00, 27.32it/s]"
     ]
    },
    {
     "name": "stdout",
     "output_type": "stream",
     "text": [
      "\r",
      " 29%|███████████▋                            | 684/2331 [00:24<01:02, 26.39it/s]"
     ]
    },
    {
     "name": "stdout",
     "output_type": "stream",
     "text": [
      "\r",
      " 29%|███████████▊                            | 687/2331 [00:25<01:04, 25.58it/s]"
     ]
    },
    {
     "name": "stdout",
     "output_type": "stream",
     "text": [
      "\r",
      " 30%|███████████▊                            | 690/2331 [00:25<01:03, 26.04it/s]"
     ]
    },
    {
     "name": "stdout",
     "output_type": "stream",
     "text": [
      "\r",
      " 30%|███████████▉                            | 693/2331 [00:25<01:03, 25.78it/s]"
     ]
    },
    {
     "name": "stdout",
     "output_type": "stream",
     "text": [
      "\r",
      " 30%|███████████▉                            | 696/2331 [00:25<01:01, 26.39it/s]"
     ]
    },
    {
     "name": "stdout",
     "output_type": "stream",
     "text": [
      "\r",
      " 30%|███████████▉                            | 699/2331 [00:25<01:02, 26.17it/s]"
     ]
    },
    {
     "name": "stdout",
     "output_type": "stream",
     "text": [
      "\r",
      " 30%|████████████                            | 702/2331 [00:25<01:02, 25.89it/s]"
     ]
    },
    {
     "name": "stdout",
     "output_type": "stream",
     "text": [
      "\r",
      " 30%|████████████                            | 706/2331 [00:25<00:58, 27.90it/s]"
     ]
    },
    {
     "name": "stdout",
     "output_type": "stream",
     "text": [
      "\r",
      " 30%|████████████▏                           | 710/2331 [00:25<00:53, 30.23it/s]"
     ]
    },
    {
     "name": "stdout",
     "output_type": "stream",
     "text": [
      "\r",
      " 31%|████████████▎                           | 714/2331 [00:25<00:52, 30.85it/s]"
     ]
    },
    {
     "name": "stdout",
     "output_type": "stream",
     "text": [
      "\r",
      " 31%|████████████▎                           | 718/2331 [00:26<00:54, 29.35it/s]"
     ]
    },
    {
     "name": "stdout",
     "output_type": "stream",
     "text": [
      "\r",
      " 31%|████████████▎                           | 721/2331 [00:26<00:55, 29.06it/s]"
     ]
    },
    {
     "name": "stdout",
     "output_type": "stream",
     "text": [
      "\r",
      " 31%|████████████▍                           | 724/2331 [00:26<01:00, 26.71it/s]"
     ]
    },
    {
     "name": "stdout",
     "output_type": "stream",
     "text": [
      "\r",
      " 31%|████████████▍                           | 727/2331 [00:26<00:59, 26.79it/s]"
     ]
    },
    {
     "name": "stdout",
     "output_type": "stream",
     "text": [
      "\r",
      " 31%|████████████▌                           | 730/2331 [00:26<00:59, 27.12it/s]"
     ]
    },
    {
     "name": "stdout",
     "output_type": "stream",
     "text": [
      "\r",
      " 31%|████████████▌                           | 733/2331 [00:26<01:02, 25.77it/s]"
     ]
    },
    {
     "name": "stdout",
     "output_type": "stream",
     "text": [
      "\r",
      " 32%|████████████▋                           | 736/2331 [00:26<01:03, 25.18it/s]"
     ]
    },
    {
     "name": "stdout",
     "output_type": "stream",
     "text": [
      "\r",
      " 32%|████████████▋                           | 739/2331 [00:26<01:01, 25.98it/s]"
     ]
    },
    {
     "name": "stdout",
     "output_type": "stream",
     "text": [
      "\r",
      " 32%|████████████▋                           | 743/2331 [00:27<00:56, 28.01it/s]"
     ]
    },
    {
     "name": "stdout",
     "output_type": "stream",
     "text": [
      "\r",
      " 32%|████████████▊                           | 747/2331 [00:27<00:52, 30.32it/s]"
     ]
    },
    {
     "name": "stdout",
     "output_type": "stream",
     "text": [
      "\r",
      " 32%|████████████▉                           | 751/2331 [00:27<00:53, 29.61it/s]"
     ]
    },
    {
     "name": "stdout",
     "output_type": "stream",
     "text": [
      "\r",
      " 32%|████████████▉                           | 754/2331 [00:27<00:55, 28.32it/s]"
     ]
    },
    {
     "name": "stdout",
     "output_type": "stream",
     "text": [
      "\r",
      " 32%|████████████▉                           | 757/2331 [00:27<00:56, 27.91it/s]"
     ]
    },
    {
     "name": "stdout",
     "output_type": "stream",
     "text": [
      "\r",
      " 33%|█████████████                           | 761/2331 [00:27<00:53, 29.22it/s]"
     ]
    },
    {
     "name": "stdout",
     "output_type": "stream",
     "text": [
      "\r",
      " 33%|█████████████▏                          | 765/2331 [00:27<00:50, 30.80it/s]"
     ]
    },
    {
     "name": "stdout",
     "output_type": "stream",
     "text": [
      "\r",
      " 33%|█████████████▏                          | 769/2331 [00:27<00:51, 30.36it/s]"
     ]
    },
    {
     "name": "stdout",
     "output_type": "stream",
     "text": [
      "\r",
      " 33%|█████████████▎                          | 773/2331 [00:28<00:51, 30.29it/s]"
     ]
    },
    {
     "name": "stdout",
     "output_type": "stream",
     "text": [
      "\r",
      " 33%|█████████████▎                          | 777/2331 [00:28<00:50, 30.96it/s]"
     ]
    },
    {
     "name": "stdout",
     "output_type": "stream",
     "text": [
      "\r",
      " 34%|█████████████▍                          | 781/2331 [00:28<00:49, 31.63it/s]"
     ]
    },
    {
     "name": "stdout",
     "output_type": "stream",
     "text": [
      "\r",
      " 34%|█████████████▍                          | 785/2331 [00:28<00:47, 32.45it/s]"
     ]
    },
    {
     "name": "stdout",
     "output_type": "stream",
     "text": [
      "\r",
      " 34%|█████████████▌                          | 789/2331 [00:28<00:53, 28.92it/s]"
     ]
    },
    {
     "name": "stdout",
     "output_type": "stream",
     "text": [
      "\r",
      " 34%|█████████████▌                          | 792/2331 [00:28<00:55, 27.92it/s]"
     ]
    },
    {
     "name": "stdout",
     "output_type": "stream",
     "text": [
      "\r",
      " 34%|█████████████▋                          | 795/2331 [00:28<00:55, 27.78it/s]"
     ]
    },
    {
     "name": "stdout",
     "output_type": "stream",
     "text": [
      "\r",
      " 34%|█████████████▋                          | 798/2331 [00:28<00:54, 28.17it/s]"
     ]
    },
    {
     "name": "stdout",
     "output_type": "stream",
     "text": [
      "\r",
      " 34%|█████████████▊                          | 802/2331 [00:29<00:53, 28.84it/s]"
     ]
    },
    {
     "name": "stdout",
     "output_type": "stream",
     "text": [
      "\r",
      " 35%|█████████████▊                          | 806/2331 [00:29<00:50, 29.90it/s]"
     ]
    },
    {
     "name": "stdout",
     "output_type": "stream",
     "text": [
      "\r",
      " 35%|█████████████▉                          | 809/2331 [00:29<00:51, 29.67it/s]"
     ]
    },
    {
     "name": "stdout",
     "output_type": "stream",
     "text": [
      "\r",
      " 35%|█████████████▉                          | 813/2331 [00:29<00:48, 31.10it/s]"
     ]
    },
    {
     "name": "stdout",
     "output_type": "stream",
     "text": [
      "\r",
      " 35%|██████████████                          | 817/2331 [00:29<00:52, 28.75it/s]"
     ]
    },
    {
     "name": "stdout",
     "output_type": "stream",
     "text": [
      "\r",
      " 35%|██████████████                          | 820/2331 [00:29<00:52, 28.84it/s]"
     ]
    },
    {
     "name": "stdout",
     "output_type": "stream",
     "text": [
      "\r",
      " 35%|██████████████                          | 823/2331 [00:29<00:53, 28.38it/s]"
     ]
    },
    {
     "name": "stdout",
     "output_type": "stream",
     "text": [
      "\r",
      " 35%|██████████████▏                         | 826/2331 [00:29<00:52, 28.50it/s]"
     ]
    },
    {
     "name": "stdout",
     "output_type": "stream",
     "text": [
      "\r",
      " 36%|██████████████▏                         | 830/2331 [00:30<00:48, 30.87it/s]"
     ]
    },
    {
     "name": "stdout",
     "output_type": "stream",
     "text": [
      "\r",
      " 36%|██████████████▎                         | 834/2331 [00:30<00:48, 30.99it/s]"
     ]
    },
    {
     "name": "stdout",
     "output_type": "stream",
     "text": [
      "\r",
      " 36%|██████████████▍                         | 838/2331 [00:30<00:51, 29.07it/s]"
     ]
    },
    {
     "name": "stdout",
     "output_type": "stream",
     "text": [
      "\r",
      " 36%|██████████████▍                         | 842/2331 [00:30<00:50, 29.48it/s]"
     ]
    },
    {
     "name": "stdout",
     "output_type": "stream",
     "text": [
      "\r",
      " 36%|██████████████▌                         | 846/2331 [00:30<00:47, 30.99it/s]"
     ]
    },
    {
     "name": "stdout",
     "output_type": "stream",
     "text": [
      "\r",
      " 36%|██████████████▌                         | 850/2331 [00:30<00:49, 29.94it/s]"
     ]
    },
    {
     "name": "stdout",
     "output_type": "stream",
     "text": [
      "\r",
      " 37%|██████████████▋                         | 854/2331 [00:30<00:47, 31.26it/s]"
     ]
    },
    {
     "name": "stdout",
     "output_type": "stream",
     "text": [
      "\r",
      " 37%|██████████████▋                         | 858/2331 [00:30<00:44, 32.92it/s]"
     ]
    },
    {
     "name": "stdout",
     "output_type": "stream",
     "text": [
      "\r",
      " 37%|██████████████▊                         | 862/2331 [00:31<00:48, 30.40it/s]"
     ]
    },
    {
     "name": "stdout",
     "output_type": "stream",
     "text": [
      "\r",
      " 37%|██████████████▊                         | 866/2331 [00:31<00:48, 30.08it/s]"
     ]
    },
    {
     "name": "stdout",
     "output_type": "stream",
     "text": [
      "\r",
      " 37%|██████████████▉                         | 870/2331 [00:31<00:45, 31.84it/s]"
     ]
    },
    {
     "name": "stdout",
     "output_type": "stream",
     "text": [
      "\r",
      " 37%|██████████████▉                         | 874/2331 [00:31<00:46, 31.27it/s]"
     ]
    },
    {
     "name": "stdout",
     "output_type": "stream",
     "text": [
      "\r",
      " 38%|███████████████                         | 878/2331 [00:31<00:47, 30.68it/s]"
     ]
    },
    {
     "name": "stdout",
     "output_type": "stream",
     "text": [
      "\r",
      " 38%|███████████████▏                        | 882/2331 [00:31<00:48, 29.83it/s]"
     ]
    },
    {
     "name": "stdout",
     "output_type": "stream",
     "text": [
      "\r",
      " 38%|███████████████▏                        | 886/2331 [00:31<00:47, 30.33it/s]"
     ]
    },
    {
     "name": "stdout",
     "output_type": "stream",
     "text": [
      "\r",
      " 38%|███████████████▎                        | 890/2331 [00:31<00:49, 29.35it/s]"
     ]
    },
    {
     "name": "stdout",
     "output_type": "stream",
     "text": [
      "\r",
      " 38%|███████████████▎                        | 894/2331 [00:32<00:46, 30.86it/s]"
     ]
    },
    {
     "name": "stdout",
     "output_type": "stream",
     "text": [
      "\r",
      " 39%|███████████████▍                        | 898/2331 [00:32<00:45, 31.35it/s]"
     ]
    },
    {
     "name": "stdout",
     "output_type": "stream",
     "text": [
      "\r",
      " 39%|███████████████▍                        | 902/2331 [00:32<00:44, 32.09it/s]"
     ]
    },
    {
     "name": "stdout",
     "output_type": "stream",
     "text": [
      "\r",
      " 39%|███████████████▌                        | 906/2331 [00:32<00:42, 33.40it/s]"
     ]
    },
    {
     "name": "stdout",
     "output_type": "stream",
     "text": [
      "\r",
      " 39%|███████████████▌                        | 910/2331 [00:32<00:42, 33.13it/s]"
     ]
    },
    {
     "name": "stdout",
     "output_type": "stream",
     "text": [
      "\r",
      " 39%|███████████████▋                        | 914/2331 [00:32<00:44, 32.05it/s]"
     ]
    },
    {
     "name": "stdout",
     "output_type": "stream",
     "text": [
      "\r",
      " 39%|███████████████▊                        | 918/2331 [00:32<00:45, 31.13it/s]"
     ]
    },
    {
     "name": "stdout",
     "output_type": "stream",
     "text": [
      "\r",
      " 40%|███████████████▊                        | 922/2331 [00:32<00:44, 31.86it/s]"
     ]
    },
    {
     "name": "stdout",
     "output_type": "stream",
     "text": [
      "\r",
      " 40%|███████████████▉                        | 926/2331 [00:33<00:43, 32.44it/s]"
     ]
    },
    {
     "name": "stdout",
     "output_type": "stream",
     "text": [
      "\r",
      " 40%|███████████████▉                        | 930/2331 [00:33<00:43, 32.42it/s]"
     ]
    },
    {
     "name": "stdout",
     "output_type": "stream",
     "text": [
      "\r",
      " 40%|████████████████                        | 934/2331 [00:33<00:42, 33.05it/s]"
     ]
    },
    {
     "name": "stdout",
     "output_type": "stream",
     "text": [
      "\r",
      " 40%|████████████████                        | 938/2331 [00:33<00:42, 32.92it/s]"
     ]
    },
    {
     "name": "stdout",
     "output_type": "stream",
     "text": [
      "\r",
      " 40%|████████████████▏                       | 942/2331 [00:33<00:41, 33.54it/s]"
     ]
    },
    {
     "name": "stdout",
     "output_type": "stream",
     "text": [
      "\r",
      " 41%|████████████████▏                       | 946/2331 [00:33<00:41, 33.25it/s]"
     ]
    },
    {
     "name": "stdout",
     "output_type": "stream",
     "text": [
      "\r",
      " 41%|████████████████▎                       | 950/2331 [00:33<00:41, 33.28it/s]"
     ]
    },
    {
     "name": "stdout",
     "output_type": "stream",
     "text": [
      "\r",
      " 41%|████████████████▎                       | 954/2331 [00:33<00:40, 33.66it/s]"
     ]
    },
    {
     "name": "stdout",
     "output_type": "stream",
     "text": [
      "\r",
      " 41%|████████████████▍                       | 958/2331 [00:34<00:40, 33.72it/s]"
     ]
    },
    {
     "name": "stdout",
     "output_type": "stream",
     "text": [
      "\r",
      " 41%|████████████████▌                       | 962/2331 [00:34<00:40, 33.48it/s]"
     ]
    },
    {
     "name": "stdout",
     "output_type": "stream",
     "text": [
      "\r",
      " 41%|████████████████▌                       | 966/2331 [00:34<00:42, 31.81it/s]"
     ]
    },
    {
     "name": "stdout",
     "output_type": "stream",
     "text": [
      "\r",
      " 42%|████████████████▋                       | 970/2331 [00:34<00:44, 30.93it/s]"
     ]
    },
    {
     "name": "stdout",
     "output_type": "stream",
     "text": [
      "\r",
      " 42%|████████████████▋                       | 974/2331 [00:34<00:42, 31.61it/s]"
     ]
    },
    {
     "name": "stdout",
     "output_type": "stream",
     "text": [
      "\r",
      " 42%|████████████████▊                       | 978/2331 [00:34<00:42, 31.69it/s]"
     ]
    },
    {
     "name": "stdout",
     "output_type": "stream",
     "text": [
      "\r",
      " 42%|████████████████▊                       | 982/2331 [00:34<00:42, 31.99it/s]"
     ]
    },
    {
     "name": "stdout",
     "output_type": "stream",
     "text": [
      "\r",
      " 42%|████████████████▉                       | 986/2331 [00:34<00:44, 30.52it/s]"
     ]
    },
    {
     "name": "stdout",
     "output_type": "stream",
     "text": [
      "\r",
      " 42%|████████████████▉                       | 990/2331 [00:35<00:47, 28.38it/s]"
     ]
    },
    {
     "name": "stdout",
     "output_type": "stream",
     "text": [
      "\r",
      " 43%|█████████████████                       | 993/2331 [00:35<00:48, 27.76it/s]"
     ]
    },
    {
     "name": "stdout",
     "output_type": "stream",
     "text": [
      "\r",
      " 43%|█████████████████                       | 996/2331 [00:35<00:47, 27.95it/s]"
     ]
    },
    {
     "name": "stdout",
     "output_type": "stream",
     "text": [
      "\r",
      " 43%|████████████████▋                      | 1000/2331 [00:35<00:44, 29.83it/s]"
     ]
    },
    {
     "name": "stdout",
     "output_type": "stream",
     "text": [
      "\r",
      " 43%|████████████████▊                      | 1004/2331 [00:35<00:43, 30.77it/s]"
     ]
    },
    {
     "name": "stdout",
     "output_type": "stream",
     "text": [
      "\r",
      " 43%|████████████████▊                      | 1008/2331 [00:35<00:42, 30.91it/s]"
     ]
    },
    {
     "name": "stdout",
     "output_type": "stream",
     "text": [
      "\r",
      " 43%|████████████████▉                      | 1012/2331 [00:35<00:41, 31.87it/s]"
     ]
    },
    {
     "name": "stdout",
     "output_type": "stream",
     "text": [
      "\r",
      " 44%|████████████████▉                      | 1016/2331 [00:35<00:42, 31.27it/s]"
     ]
    },
    {
     "name": "stdout",
     "output_type": "stream",
     "text": [
      "\r",
      " 44%|█████████████████                      | 1020/2331 [00:36<00:42, 31.04it/s]"
     ]
    },
    {
     "name": "stdout",
     "output_type": "stream",
     "text": [
      "\r",
      " 44%|█████████████████▏                     | 1024/2331 [00:36<00:41, 31.76it/s]"
     ]
    },
    {
     "name": "stdout",
     "output_type": "stream",
     "text": [
      "\r",
      " 44%|█████████████████▏                     | 1028/2331 [00:36<00:42, 30.93it/s]"
     ]
    },
    {
     "name": "stdout",
     "output_type": "stream",
     "text": [
      "\r",
      " 44%|█████████████████▎                     | 1032/2331 [00:36<00:40, 31.80it/s]"
     ]
    },
    {
     "name": "stdout",
     "output_type": "stream",
     "text": [
      "\r",
      " 44%|█████████████████▎                     | 1036/2331 [00:36<00:41, 30.95it/s]"
     ]
    },
    {
     "name": "stdout",
     "output_type": "stream",
     "text": [
      "\r",
      " 45%|█████████████████▍                     | 1040/2331 [00:36<00:39, 32.45it/s]"
     ]
    },
    {
     "name": "stdout",
     "output_type": "stream",
     "text": [
      "\r",
      " 45%|█████████████████▍                     | 1044/2331 [00:36<00:39, 32.65it/s]"
     ]
    },
    {
     "name": "stdout",
     "output_type": "stream",
     "text": [
      "\r",
      " 45%|█████████████████▌                     | 1048/2331 [00:36<00:39, 32.31it/s]"
     ]
    },
    {
     "name": "stdout",
     "output_type": "stream",
     "text": [
      "\r",
      " 45%|█████████████████▌                     | 1052/2331 [00:37<00:39, 32.37it/s]"
     ]
    },
    {
     "name": "stdout",
     "output_type": "stream",
     "text": [
      "\r",
      " 45%|█████████████████▋                     | 1056/2331 [00:37<00:41, 30.59it/s]"
     ]
    },
    {
     "name": "stdout",
     "output_type": "stream",
     "text": [
      "\r",
      " 45%|█████████████████▋                     | 1060/2331 [00:37<00:42, 29.62it/s]"
     ]
    },
    {
     "name": "stdout",
     "output_type": "stream",
     "text": [
      "\r",
      " 46%|█████████████████▊                     | 1063/2331 [00:37<00:43, 29.45it/s]"
     ]
    },
    {
     "name": "stdout",
     "output_type": "stream",
     "text": [
      "\r",
      " 46%|█████████████████▊                     | 1067/2331 [00:37<00:41, 30.16it/s]"
     ]
    },
    {
     "name": "stdout",
     "output_type": "stream",
     "text": [
      "\r",
      " 46%|█████████████████▉                     | 1071/2331 [00:37<00:40, 31.42it/s]"
     ]
    },
    {
     "name": "stdout",
     "output_type": "stream",
     "text": [
      "\r",
      " 46%|█████████████████▉                     | 1075/2331 [00:37<00:38, 32.82it/s]"
     ]
    },
    {
     "name": "stdout",
     "output_type": "stream",
     "text": [
      "\r",
      " 46%|██████████████████                     | 1079/2331 [00:37<00:38, 32.92it/s]"
     ]
    },
    {
     "name": "stdout",
     "output_type": "stream",
     "text": [
      "\r",
      " 46%|██████████████████                     | 1083/2331 [00:38<00:38, 32.72it/s]"
     ]
    },
    {
     "name": "stdout",
     "output_type": "stream",
     "text": [
      "\r",
      " 47%|██████████████████▏                    | 1087/2331 [00:38<00:37, 33.06it/s]"
     ]
    },
    {
     "name": "stdout",
     "output_type": "stream",
     "text": [
      "\r",
      " 47%|██████████████████▎                    | 1091/2331 [00:38<00:36, 33.84it/s]"
     ]
    },
    {
     "name": "stdout",
     "output_type": "stream",
     "text": [
      "\r",
      " 47%|██████████████████▎                    | 1095/2331 [00:38<00:36, 34.16it/s]"
     ]
    },
    {
     "name": "stdout",
     "output_type": "stream",
     "text": [
      "\r",
      " 47%|██████████████████▍                    | 1099/2331 [00:38<00:37, 33.02it/s]"
     ]
    },
    {
     "name": "stdout",
     "output_type": "stream",
     "text": [
      "\r",
      " 47%|██████████████████▍                    | 1103/2331 [00:38<00:37, 32.77it/s]"
     ]
    },
    {
     "name": "stdout",
     "output_type": "stream",
     "text": [
      "\r",
      " 47%|██████████████████▌                    | 1107/2331 [00:38<00:37, 32.97it/s]"
     ]
    },
    {
     "name": "stdout",
     "output_type": "stream",
     "text": [
      "\r",
      " 48%|██████████████████▌                    | 1111/2331 [00:38<00:37, 32.40it/s]"
     ]
    },
    {
     "name": "stdout",
     "output_type": "stream",
     "text": [
      "\r",
      " 48%|██████████████████▋                    | 1115/2331 [00:39<00:38, 31.53it/s]"
     ]
    },
    {
     "name": "stdout",
     "output_type": "stream",
     "text": [
      "\r",
      " 48%|██████████████████▋                    | 1119/2331 [00:39<00:37, 32.56it/s]"
     ]
    },
    {
     "name": "stdout",
     "output_type": "stream",
     "text": [
      "\r",
      " 48%|██████████████████▊                    | 1123/2331 [00:39<00:36, 32.79it/s]"
     ]
    },
    {
     "name": "stdout",
     "output_type": "stream",
     "text": [
      "\r",
      " 48%|██████████████████▊                    | 1127/2331 [00:39<00:36, 32.65it/s]"
     ]
    },
    {
     "name": "stdout",
     "output_type": "stream",
     "text": [
      "\r",
      " 49%|██████████████████▉                    | 1131/2331 [00:39<00:39, 30.30it/s]"
     ]
    },
    {
     "name": "stdout",
     "output_type": "stream",
     "text": [
      "\r",
      " 49%|██████████████████▉                    | 1135/2331 [00:39<00:41, 28.91it/s]"
     ]
    },
    {
     "name": "stdout",
     "output_type": "stream",
     "text": [
      "\r",
      " 49%|███████████████████                    | 1138/2331 [00:39<00:41, 28.88it/s]"
     ]
    },
    {
     "name": "stdout",
     "output_type": "stream",
     "text": [
      "\r",
      " 49%|███████████████████                    | 1142/2331 [00:39<00:40, 29.62it/s]"
     ]
    },
    {
     "name": "stdout",
     "output_type": "stream",
     "text": [
      "\r",
      " 49%|███████████████████▏                   | 1146/2331 [00:40<00:39, 30.36it/s]"
     ]
    },
    {
     "name": "stdout",
     "output_type": "stream",
     "text": [
      "\r",
      " 49%|███████████████████▏                   | 1150/2331 [00:40<00:37, 31.29it/s]"
     ]
    },
    {
     "name": "stdout",
     "output_type": "stream",
     "text": [
      "\r",
      " 50%|███████████████████▎                   | 1154/2331 [00:40<00:39, 30.00it/s]"
     ]
    },
    {
     "name": "stdout",
     "output_type": "stream",
     "text": [
      "\r",
      " 50%|███████████████████▎                   | 1158/2331 [00:40<00:36, 31.95it/s]"
     ]
    },
    {
     "name": "stdout",
     "output_type": "stream",
     "text": [
      "\r",
      " 50%|███████████████████▍                   | 1162/2331 [00:40<00:40, 29.02it/s]"
     ]
    },
    {
     "name": "stdout",
     "output_type": "stream",
     "text": [
      "\r",
      " 50%|███████████████████▍                   | 1165/2331 [00:40<00:40, 28.76it/s]"
     ]
    },
    {
     "name": "stdout",
     "output_type": "stream",
     "text": [
      "\r",
      " 50%|███████████████████▌                   | 1168/2331 [00:40<00:40, 28.89it/s]"
     ]
    },
    {
     "name": "stdout",
     "output_type": "stream",
     "text": [
      "\r",
      " 50%|███████████████████▌                   | 1172/2331 [00:40<00:36, 31.46it/s]"
     ]
    },
    {
     "name": "stdout",
     "output_type": "stream",
     "text": [
      "\r",
      " 50%|███████████████████▋                   | 1176/2331 [00:41<00:39, 29.55it/s]"
     ]
    },
    {
     "name": "stdout",
     "output_type": "stream",
     "text": [
      "\r",
      " 51%|███████████████████▋                   | 1180/2331 [00:41<00:37, 30.52it/s]"
     ]
    },
    {
     "name": "stdout",
     "output_type": "stream",
     "text": [
      "\r",
      " 51%|███████████████████▊                   | 1184/2331 [00:41<00:38, 29.65it/s]"
     ]
    },
    {
     "name": "stdout",
     "output_type": "stream",
     "text": [
      "\r",
      " 51%|███████████████████▉                   | 1188/2331 [00:41<00:37, 30.86it/s]"
     ]
    },
    {
     "name": "stdout",
     "output_type": "stream",
     "text": [
      "\r",
      " 51%|███████████████████▉                   | 1192/2331 [00:41<00:35, 31.86it/s]"
     ]
    },
    {
     "name": "stdout",
     "output_type": "stream",
     "text": [
      "\r",
      " 51%|████████████████████                   | 1196/2331 [00:41<00:35, 32.07it/s]"
     ]
    },
    {
     "name": "stdout",
     "output_type": "stream",
     "text": [
      "\r",
      " 51%|████████████████████                   | 1200/2331 [00:41<00:34, 32.36it/s]"
     ]
    },
    {
     "name": "stdout",
     "output_type": "stream",
     "text": [
      "\r",
      " 52%|████████████████████▏                  | 1204/2331 [00:41<00:33, 33.18it/s]"
     ]
    },
    {
     "name": "stdout",
     "output_type": "stream",
     "text": [
      "\r",
      " 52%|████████████████████▏                  | 1208/2331 [00:42<00:36, 31.15it/s]"
     ]
    },
    {
     "name": "stdout",
     "output_type": "stream",
     "text": [
      "\r",
      " 52%|████████████████████▎                  | 1212/2331 [00:42<00:37, 30.05it/s]"
     ]
    },
    {
     "name": "stdout",
     "output_type": "stream",
     "text": [
      "\r",
      " 52%|████████████████████▎                  | 1216/2331 [00:42<00:37, 29.99it/s]"
     ]
    },
    {
     "name": "stdout",
     "output_type": "stream",
     "text": [
      "\r",
      " 52%|████████████████████▍                  | 1220/2331 [00:42<00:37, 29.64it/s]"
     ]
    },
    {
     "name": "stdout",
     "output_type": "stream",
     "text": [
      "\r",
      " 53%|████████████████████▍                  | 1224/2331 [00:42<00:36, 30.26it/s]"
     ]
    },
    {
     "name": "stdout",
     "output_type": "stream",
     "text": [
      "\r",
      " 53%|████████████████████▌                  | 1228/2331 [00:42<00:36, 30.16it/s]"
     ]
    },
    {
     "name": "stdout",
     "output_type": "stream",
     "text": [
      "\r",
      " 53%|████████████████████▌                  | 1232/2331 [00:42<00:36, 30.40it/s]"
     ]
    },
    {
     "name": "stdout",
     "output_type": "stream",
     "text": [
      "\r",
      " 53%|████████████████████▋                  | 1236/2331 [00:43<00:36, 29.78it/s]"
     ]
    },
    {
     "name": "stdout",
     "output_type": "stream",
     "text": [
      "\r",
      " 53%|████████████████████▋                  | 1240/2331 [00:43<00:35, 30.60it/s]"
     ]
    },
    {
     "name": "stdout",
     "output_type": "stream",
     "text": [
      "\r",
      " 53%|████████████████████▊                  | 1244/2331 [00:43<00:36, 30.03it/s]"
     ]
    },
    {
     "name": "stdout",
     "output_type": "stream",
     "text": [
      "\r",
      " 54%|████████████████████▉                  | 1248/2331 [00:43<00:34, 31.46it/s]"
     ]
    },
    {
     "name": "stdout",
     "output_type": "stream",
     "text": [
      "\r",
      " 54%|████████████████████▉                  | 1252/2331 [00:43<00:33, 31.83it/s]"
     ]
    },
    {
     "name": "stdout",
     "output_type": "stream",
     "text": [
      "\r",
      " 54%|█████████████████████                  | 1256/2331 [00:43<00:33, 31.72it/s]"
     ]
    },
    {
     "name": "stdout",
     "output_type": "stream",
     "text": [
      "\r",
      " 54%|█████████████████████                  | 1260/2331 [00:43<00:34, 30.93it/s]"
     ]
    },
    {
     "name": "stdout",
     "output_type": "stream",
     "text": [
      "\r",
      " 54%|█████████████████████▏                 | 1264/2331 [00:43<00:34, 30.99it/s]"
     ]
    },
    {
     "name": "stdout",
     "output_type": "stream",
     "text": [
      "\r",
      " 54%|█████████████████████▏                 | 1268/2331 [00:44<00:33, 31.67it/s]"
     ]
    },
    {
     "name": "stdout",
     "output_type": "stream",
     "text": [
      "\r",
      " 55%|█████████████████████▎                 | 1272/2331 [00:44<00:32, 32.42it/s]"
     ]
    },
    {
     "name": "stdout",
     "output_type": "stream",
     "text": [
      "\r",
      " 55%|█████████████████████▎                 | 1276/2331 [00:44<00:31, 33.30it/s]"
     ]
    },
    {
     "name": "stdout",
     "output_type": "stream",
     "text": [
      "\r",
      " 55%|█████████████████████▍                 | 1280/2331 [00:44<00:32, 32.44it/s]"
     ]
    },
    {
     "name": "stdout",
     "output_type": "stream",
     "text": [
      "\r",
      " 55%|█████████████████████▍                 | 1284/2331 [00:44<00:31, 33.17it/s]"
     ]
    },
    {
     "name": "stdout",
     "output_type": "stream",
     "text": [
      "\r",
      " 55%|█████████████████████▌                 | 1288/2331 [00:44<00:32, 32.54it/s]"
     ]
    },
    {
     "name": "stdout",
     "output_type": "stream",
     "text": [
      "\r",
      " 55%|█████████████████████▌                 | 1292/2331 [00:44<00:32, 31.69it/s]"
     ]
    },
    {
     "name": "stdout",
     "output_type": "stream",
     "text": [
      "\r",
      " 56%|█████████████████████▋                 | 1296/2331 [00:44<00:33, 31.36it/s]"
     ]
    },
    {
     "name": "stdout",
     "output_type": "stream",
     "text": [
      "\r",
      " 56%|█████████████████████▊                 | 1300/2331 [00:45<00:33, 30.35it/s]"
     ]
    },
    {
     "name": "stdout",
     "output_type": "stream",
     "text": [
      "\r",
      " 56%|█████████████████████▊                 | 1304/2331 [00:45<00:33, 30.46it/s]"
     ]
    },
    {
     "name": "stdout",
     "output_type": "stream",
     "text": [
      "\r",
      " 56%|█████████████████████▉                 | 1308/2331 [00:45<00:33, 30.99it/s]"
     ]
    },
    {
     "name": "stdout",
     "output_type": "stream",
     "text": [
      "\r",
      " 56%|█████████████████████▉                 | 1312/2331 [00:45<00:32, 31.19it/s]"
     ]
    },
    {
     "name": "stdout",
     "output_type": "stream",
     "text": [
      "\r",
      " 56%|██████████████████████                 | 1316/2331 [00:45<00:32, 31.13it/s]"
     ]
    },
    {
     "name": "stdout",
     "output_type": "stream",
     "text": [
      "\r",
      " 57%|██████████████████████                 | 1320/2331 [00:45<00:33, 30.46it/s]"
     ]
    },
    {
     "name": "stdout",
     "output_type": "stream",
     "text": [
      "\r",
      " 57%|██████████████████████▏                | 1324/2331 [00:45<00:31, 31.56it/s]"
     ]
    },
    {
     "name": "stdout",
     "output_type": "stream",
     "text": [
      "\r",
      " 57%|██████████████████████▏                | 1328/2331 [00:45<00:31, 31.66it/s]"
     ]
    },
    {
     "name": "stdout",
     "output_type": "stream",
     "text": [
      "\r",
      " 57%|██████████████████████▎                | 1332/2331 [00:46<00:31, 32.22it/s]"
     ]
    },
    {
     "name": "stdout",
     "output_type": "stream",
     "text": [
      "\r",
      " 57%|██████████████████████▎                | 1336/2331 [00:46<00:31, 31.29it/s]"
     ]
    },
    {
     "name": "stdout",
     "output_type": "stream",
     "text": [
      "\r",
      " 57%|██████████████████████▍                | 1340/2331 [00:46<00:31, 31.66it/s]"
     ]
    },
    {
     "name": "stdout",
     "output_type": "stream",
     "text": [
      "\r",
      " 58%|██████████████████████▍                | 1344/2331 [00:46<00:30, 31.90it/s]"
     ]
    },
    {
     "name": "stdout",
     "output_type": "stream",
     "text": [
      "\r",
      " 58%|██████████████████████▌                | 1348/2331 [00:46<00:29, 32.93it/s]"
     ]
    },
    {
     "name": "stdout",
     "output_type": "stream",
     "text": [
      "\r",
      " 58%|██████████████████████▌                | 1352/2331 [00:46<00:30, 32.53it/s]"
     ]
    },
    {
     "name": "stdout",
     "output_type": "stream",
     "text": [
      "\r",
      " 58%|██████████████████████▋                | 1356/2331 [00:46<00:30, 32.46it/s]"
     ]
    },
    {
     "name": "stdout",
     "output_type": "stream",
     "text": [
      "\r",
      " 58%|██████████████████████▊                | 1360/2331 [00:46<00:30, 31.55it/s]"
     ]
    },
    {
     "name": "stdout",
     "output_type": "stream",
     "text": [
      "\r",
      " 59%|██████████████████████▊                | 1364/2331 [00:47<00:30, 31.56it/s]"
     ]
    },
    {
     "name": "stdout",
     "output_type": "stream",
     "text": [
      "\r",
      " 59%|██████████████████████▉                | 1368/2331 [00:47<00:30, 31.27it/s]"
     ]
    },
    {
     "name": "stdout",
     "output_type": "stream",
     "text": [
      "\r",
      " 59%|██████████████████████▉                | 1372/2331 [00:47<00:29, 32.90it/s]"
     ]
    },
    {
     "name": "stdout",
     "output_type": "stream",
     "text": [
      "\r",
      " 59%|███████████████████████                | 1376/2331 [00:47<00:28, 33.19it/s]"
     ]
    },
    {
     "name": "stdout",
     "output_type": "stream",
     "text": [
      "\r",
      " 59%|███████████████████████                | 1380/2331 [00:47<00:28, 33.08it/s]"
     ]
    },
    {
     "name": "stdout",
     "output_type": "stream",
     "text": [
      "\r",
      " 59%|███████████████████████▏               | 1384/2331 [00:47<00:35, 26.55it/s]"
     ]
    },
    {
     "name": "stdout",
     "output_type": "stream",
     "text": [
      "\r",
      " 60%|███████████████████████▏               | 1387/2331 [00:47<00:35, 26.30it/s]"
     ]
    },
    {
     "name": "stdout",
     "output_type": "stream",
     "text": [
      "\r",
      " 60%|███████████████████████▎               | 1391/2331 [00:48<00:34, 27.37it/s]"
     ]
    },
    {
     "name": "stdout",
     "output_type": "stream",
     "text": [
      "\r",
      " 60%|███████████████████████▎               | 1394/2331 [00:48<00:34, 27.08it/s]"
     ]
    },
    {
     "name": "stdout",
     "output_type": "stream",
     "text": [
      "\r",
      " 60%|███████████████████████▍               | 1398/2331 [00:48<00:31, 29.55it/s]"
     ]
    },
    {
     "name": "stdout",
     "output_type": "stream",
     "text": [
      "\r",
      " 60%|███████████████████████▍               | 1402/2331 [00:48<00:31, 29.44it/s]"
     ]
    },
    {
     "name": "stdout",
     "output_type": "stream",
     "text": [
      "\r",
      " 60%|███████████████████████▌               | 1406/2331 [00:48<00:29, 30.90it/s]"
     ]
    },
    {
     "name": "stdout",
     "output_type": "stream",
     "text": [
      "\r",
      " 60%|███████████████████████▌               | 1410/2331 [00:48<00:28, 32.13it/s]"
     ]
    },
    {
     "name": "stdout",
     "output_type": "stream",
     "text": [
      "\r",
      " 61%|███████████████████████▋               | 1414/2331 [00:48<00:28, 31.89it/s]"
     ]
    },
    {
     "name": "stdout",
     "output_type": "stream",
     "text": [
      "\r",
      " 61%|███████████████████████▋               | 1418/2331 [00:48<00:28, 32.44it/s]"
     ]
    },
    {
     "name": "stdout",
     "output_type": "stream",
     "text": [
      "\r",
      " 61%|███████████████████████▊               | 1422/2331 [00:48<00:27, 32.69it/s]"
     ]
    },
    {
     "name": "stdout",
     "output_type": "stream",
     "text": [
      "\r",
      " 61%|███████████████████████▊               | 1426/2331 [00:49<00:28, 31.65it/s]"
     ]
    },
    {
     "name": "stdout",
     "output_type": "stream",
     "text": [
      "\r",
      " 61%|███████████████████████▉               | 1430/2331 [00:49<00:27, 33.26it/s]"
     ]
    },
    {
     "name": "stdout",
     "output_type": "stream",
     "text": [
      "\r",
      " 62%|███████████████████████▉               | 1434/2331 [00:49<00:26, 34.21it/s]"
     ]
    },
    {
     "name": "stdout",
     "output_type": "stream",
     "text": [
      "\r",
      " 62%|████████████████████████               | 1438/2331 [00:49<00:26, 33.21it/s]"
     ]
    },
    {
     "name": "stdout",
     "output_type": "stream",
     "text": [
      "\r",
      " 62%|████████████████████████▏              | 1442/2331 [00:49<00:27, 32.26it/s]"
     ]
    },
    {
     "name": "stdout",
     "output_type": "stream",
     "text": [
      "\r",
      " 62%|████████████████████████▏              | 1446/2331 [00:49<00:27, 31.90it/s]"
     ]
    },
    {
     "name": "stdout",
     "output_type": "stream",
     "text": [
      "\r",
      " 62%|████████████████████████▎              | 1450/2331 [00:49<00:27, 32.58it/s]"
     ]
    },
    {
     "name": "stdout",
     "output_type": "stream",
     "text": [
      "\r",
      " 62%|████████████████████████▎              | 1454/2331 [00:49<00:26, 32.83it/s]"
     ]
    },
    {
     "name": "stdout",
     "output_type": "stream",
     "text": [
      "\r",
      " 63%|████████████████████████▍              | 1458/2331 [00:50<00:27, 32.29it/s]"
     ]
    },
    {
     "name": "stdout",
     "output_type": "stream",
     "text": [
      "\r",
      " 63%|████████████████████████▍              | 1462/2331 [00:50<00:29, 29.93it/s]"
     ]
    },
    {
     "name": "stdout",
     "output_type": "stream",
     "text": [
      "\r",
      " 63%|████████████████████████▌              | 1466/2331 [00:50<00:28, 30.44it/s]"
     ]
    },
    {
     "name": "stdout",
     "output_type": "stream",
     "text": [
      "\r",
      " 63%|████████████████████████▌              | 1470/2331 [00:50<00:27, 31.23it/s]"
     ]
    },
    {
     "name": "stdout",
     "output_type": "stream",
     "text": [
      "\r",
      " 63%|████████████████████████▋              | 1474/2331 [00:50<00:29, 28.98it/s]"
     ]
    },
    {
     "name": "stdout",
     "output_type": "stream",
     "text": [
      "\r",
      " 63%|████████████████████████▋              | 1477/2331 [00:50<00:31, 27.48it/s]"
     ]
    },
    {
     "name": "stdout",
     "output_type": "stream",
     "text": [
      "\r",
      " 63%|████████████████████████▊              | 1480/2331 [00:50<00:36, 23.43it/s]"
     ]
    },
    {
     "name": "stdout",
     "output_type": "stream",
     "text": [
      "\r",
      " 64%|████████████████████████▊              | 1483/2331 [00:51<00:42, 20.08it/s]"
     ]
    },
    {
     "name": "stdout",
     "output_type": "stream",
     "text": [
      "\r",
      " 64%|████████████████████████▊              | 1486/2331 [00:51<00:45, 18.56it/s]"
     ]
    },
    {
     "name": "stdout",
     "output_type": "stream",
     "text": [
      "\r",
      " 64%|████████████████████████▉              | 1488/2331 [00:51<00:44, 18.76it/s]"
     ]
    },
    {
     "name": "stdout",
     "output_type": "stream",
     "text": [
      "\r",
      " 64%|████████████████████████▉              | 1491/2331 [00:51<00:40, 20.85it/s]"
     ]
    },
    {
     "name": "stdout",
     "output_type": "stream",
     "text": [
      "\r",
      " 64%|█████████████████████████              | 1495/2331 [00:51<00:35, 23.54it/s]"
     ]
    },
    {
     "name": "stdout",
     "output_type": "stream",
     "text": [
      "\r",
      " 64%|█████████████████████████              | 1499/2331 [00:51<00:32, 25.59it/s]"
     ]
    },
    {
     "name": "stdout",
     "output_type": "stream",
     "text": [
      "\r",
      " 64%|█████████████████████████▏             | 1502/2331 [00:51<00:31, 26.05it/s]"
     ]
    },
    {
     "name": "stdout",
     "output_type": "stream",
     "text": [
      "\r",
      " 65%|█████████████████████████▏             | 1505/2331 [00:52<00:30, 26.72it/s]"
     ]
    },
    {
     "name": "stdout",
     "output_type": "stream",
     "text": [
      "\r",
      " 65%|█████████████████████████▏             | 1509/2331 [00:52<00:28, 28.75it/s]"
     ]
    },
    {
     "name": "stdout",
     "output_type": "stream",
     "text": [
      "\r",
      " 65%|█████████████████████████▎             | 1512/2331 [00:52<00:28, 28.82it/s]"
     ]
    },
    {
     "name": "stdout",
     "output_type": "stream",
     "text": [
      "\r",
      " 65%|█████████████████████████▎             | 1516/2331 [00:52<00:28, 28.69it/s]"
     ]
    },
    {
     "name": "stdout",
     "output_type": "stream",
     "text": [
      "\r",
      " 65%|█████████████████████████▍             | 1520/2331 [00:52<00:28, 28.67it/s]"
     ]
    },
    {
     "name": "stdout",
     "output_type": "stream",
     "text": [
      "\r",
      " 65%|█████████████████████████▍             | 1523/2331 [00:52<00:28, 28.13it/s]"
     ]
    },
    {
     "name": "stdout",
     "output_type": "stream",
     "text": [
      "\r",
      " 65%|█████████████████████████▌             | 1526/2331 [00:52<00:28, 28.30it/s]"
     ]
    },
    {
     "name": "stdout",
     "output_type": "stream",
     "text": [
      "\r",
      " 66%|█████████████████████████▌             | 1529/2331 [00:52<00:28, 28.12it/s]"
     ]
    },
    {
     "name": "stdout",
     "output_type": "stream",
     "text": [
      "\r",
      " 66%|█████████████████████████▋             | 1533/2331 [00:52<00:25, 30.73it/s]"
     ]
    },
    {
     "name": "stdout",
     "output_type": "stream",
     "text": [
      "\r",
      " 66%|█████████████████████████▋             | 1537/2331 [00:53<00:26, 30.21it/s]"
     ]
    },
    {
     "name": "stdout",
     "output_type": "stream",
     "text": [
      "\r",
      " 66%|█████████████████████████▊             | 1541/2331 [00:53<00:26, 29.79it/s]"
     ]
    },
    {
     "name": "stdout",
     "output_type": "stream",
     "text": [
      "\r",
      " 66%|█████████████████████████▊             | 1545/2331 [00:53<00:26, 29.44it/s]"
     ]
    },
    {
     "name": "stdout",
     "output_type": "stream",
     "text": [
      "\r",
      " 66%|█████████████████████████▉             | 1548/2331 [00:53<00:27, 28.77it/s]"
     ]
    },
    {
     "name": "stdout",
     "output_type": "stream",
     "text": [
      "\r",
      " 67%|█████████████████████████▉             | 1552/2331 [00:53<00:25, 30.13it/s]"
     ]
    },
    {
     "name": "stdout",
     "output_type": "stream",
     "text": [
      "\r",
      " 67%|██████████████████████████             | 1556/2331 [00:53<00:26, 29.68it/s]"
     ]
    },
    {
     "name": "stdout",
     "output_type": "stream",
     "text": [
      "\r",
      " 67%|██████████████████████████             | 1559/2331 [00:53<00:26, 28.92it/s]"
     ]
    },
    {
     "name": "stdout",
     "output_type": "stream",
     "text": [
      "\r",
      " 67%|██████████████████████████▏            | 1562/2331 [00:53<00:28, 27.31it/s]"
     ]
    },
    {
     "name": "stdout",
     "output_type": "stream",
     "text": [
      "\r",
      " 67%|██████████████████████████▏            | 1565/2331 [00:54<00:28, 26.81it/s]"
     ]
    },
    {
     "name": "stdout",
     "output_type": "stream",
     "text": [
      "\r",
      " 67%|██████████████████████████▎            | 1569/2331 [00:54<00:27, 27.49it/s]"
     ]
    },
    {
     "name": "stdout",
     "output_type": "stream",
     "text": [
      "\r",
      " 67%|██████████████████████████▎            | 1572/2331 [00:54<00:27, 27.12it/s]"
     ]
    },
    {
     "name": "stdout",
     "output_type": "stream",
     "text": [
      "\r",
      " 68%|██████████████████████████▎            | 1576/2331 [00:54<00:26, 28.28it/s]"
     ]
    },
    {
     "name": "stdout",
     "output_type": "stream",
     "text": [
      "\r",
      " 68%|██████████████████████████▍            | 1580/2331 [00:54<00:26, 28.82it/s]"
     ]
    },
    {
     "name": "stdout",
     "output_type": "stream",
     "text": [
      "\r",
      " 68%|██████████████████████████▌            | 1584/2331 [00:54<00:26, 28.33it/s]"
     ]
    },
    {
     "name": "stdout",
     "output_type": "stream",
     "text": [
      "\r",
      " 68%|██████████████████████████▌            | 1587/2331 [00:54<00:26, 28.37it/s]"
     ]
    },
    {
     "name": "stdout",
     "output_type": "stream",
     "text": [
      "\r",
      " 68%|██████████████████████████▌            | 1591/2331 [00:54<00:24, 29.85it/s]"
     ]
    },
    {
     "name": "stdout",
     "output_type": "stream",
     "text": [
      "\r",
      " 68%|██████████████████████████▋            | 1595/2331 [00:55<00:23, 31.04it/s]"
     ]
    },
    {
     "name": "stdout",
     "output_type": "stream",
     "text": [
      "\r",
      " 69%|██████████████████████████▊            | 1599/2331 [00:55<00:22, 32.33it/s]"
     ]
    },
    {
     "name": "stdout",
     "output_type": "stream",
     "text": [
      "\r",
      " 69%|██████████████████████████▊            | 1603/2331 [00:55<00:25, 28.96it/s]"
     ]
    },
    {
     "name": "stdout",
     "output_type": "stream",
     "text": [
      "\r",
      " 69%|██████████████████████████▉            | 1607/2331 [00:55<00:24, 29.80it/s]"
     ]
    },
    {
     "name": "stdout",
     "output_type": "stream",
     "text": [
      "\r",
      " 69%|██████████████████████████▉            | 1611/2331 [00:55<00:24, 29.32it/s]"
     ]
    },
    {
     "name": "stdout",
     "output_type": "stream",
     "text": [
      "\r",
      " 69%|███████████████████████████            | 1614/2331 [00:55<00:26, 27.43it/s]"
     ]
    },
    {
     "name": "stdout",
     "output_type": "stream",
     "text": [
      "\r",
      " 69%|███████████████████████████            | 1617/2331 [00:55<00:27, 25.76it/s]"
     ]
    },
    {
     "name": "stdout",
     "output_type": "stream",
     "text": [
      "\r",
      " 70%|███████████████████████████            | 1621/2331 [00:56<00:25, 27.98it/s]"
     ]
    },
    {
     "name": "stdout",
     "output_type": "stream",
     "text": [
      "\r",
      " 70%|███████████████████████████▏           | 1625/2331 [00:56<00:23, 29.42it/s]"
     ]
    },
    {
     "name": "stdout",
     "output_type": "stream",
     "text": [
      "\r",
      " 70%|███████████████████████████▏           | 1628/2331 [00:56<00:24, 29.27it/s]"
     ]
    },
    {
     "name": "stdout",
     "output_type": "stream",
     "text": [
      "\r",
      " 70%|███████████████████████████▎           | 1631/2331 [00:56<00:23, 29.43it/s]"
     ]
    },
    {
     "name": "stdout",
     "output_type": "stream",
     "text": [
      "\r",
      " 70%|███████████████████████████▎           | 1635/2331 [00:56<00:22, 31.42it/s]"
     ]
    },
    {
     "name": "stdout",
     "output_type": "stream",
     "text": [
      "\r",
      " 70%|███████████████████████████▍           | 1639/2331 [00:56<00:21, 31.86it/s]"
     ]
    },
    {
     "name": "stdout",
     "output_type": "stream",
     "text": [
      "\r",
      " 70%|███████████████████████████▍           | 1643/2331 [00:56<00:21, 32.73it/s]"
     ]
    },
    {
     "name": "stdout",
     "output_type": "stream",
     "text": [
      "\r",
      " 71%|███████████████████████████▌           | 1647/2331 [00:56<00:22, 31.03it/s]"
     ]
    },
    {
     "name": "stdout",
     "output_type": "stream",
     "text": [
      "\r",
      " 71%|███████████████████████████▌           | 1651/2331 [00:56<00:22, 30.34it/s]"
     ]
    },
    {
     "name": "stdout",
     "output_type": "stream",
     "text": [
      "\r",
      " 71%|███████████████████████████▋           | 1655/2331 [00:57<00:21, 31.43it/s]"
     ]
    },
    {
     "name": "stdout",
     "output_type": "stream",
     "text": [
      "\r",
      " 71%|███████████████████████████▊           | 1659/2331 [00:57<00:20, 32.50it/s]"
     ]
    },
    {
     "name": "stdout",
     "output_type": "stream",
     "text": [
      "\r",
      " 71%|███████████████████████████▊           | 1663/2331 [00:57<00:20, 33.34it/s]"
     ]
    },
    {
     "name": "stdout",
     "output_type": "stream",
     "text": [
      "\r",
      " 72%|███████████████████████████▉           | 1667/2331 [00:57<00:20, 32.61it/s]"
     ]
    },
    {
     "name": "stdout",
     "output_type": "stream",
     "text": [
      "\r",
      " 72%|███████████████████████████▉           | 1671/2331 [00:57<00:19, 33.97it/s]"
     ]
    },
    {
     "name": "stdout",
     "output_type": "stream",
     "text": [
      "\r",
      " 72%|████████████████████████████           | 1675/2331 [00:57<00:18, 34.71it/s]"
     ]
    },
    {
     "name": "stdout",
     "output_type": "stream",
     "text": [
      "\r",
      " 72%|████████████████████████████           | 1679/2331 [00:57<00:19, 32.71it/s]"
     ]
    },
    {
     "name": "stdout",
     "output_type": "stream",
     "text": [
      "\r",
      " 72%|████████████████████████████▏          | 1683/2331 [00:57<00:19, 33.09it/s]"
     ]
    },
    {
     "name": "stdout",
     "output_type": "stream",
     "text": [
      "\r",
      " 72%|████████████████████████████▏          | 1687/2331 [00:58<00:19, 33.64it/s]"
     ]
    },
    {
     "name": "stdout",
     "output_type": "stream",
     "text": [
      "\r",
      " 73%|████████████████████████████▎          | 1691/2331 [00:58<00:18, 34.59it/s]"
     ]
    },
    {
     "name": "stdout",
     "output_type": "stream",
     "text": [
      "\r",
      " 73%|████████████████████████████▎          | 1695/2331 [00:58<00:18, 35.10it/s]"
     ]
    },
    {
     "name": "stdout",
     "output_type": "stream",
     "text": [
      "\r",
      " 73%|████████████████████████████▍          | 1699/2331 [00:58<00:18, 34.46it/s]"
     ]
    },
    {
     "name": "stdout",
     "output_type": "stream",
     "text": [
      "\r",
      " 73%|████████████████████████████▍          | 1703/2331 [00:58<00:17, 35.01it/s]"
     ]
    },
    {
     "name": "stdout",
     "output_type": "stream",
     "text": [
      "\r",
      " 73%|████████████████████████████▌          | 1707/2331 [00:58<00:17, 34.77it/s]"
     ]
    },
    {
     "name": "stdout",
     "output_type": "stream",
     "text": [
      "\r",
      " 73%|████████████████████████████▋          | 1711/2331 [00:58<00:18, 33.86it/s]"
     ]
    },
    {
     "name": "stdout",
     "output_type": "stream",
     "text": [
      "\r",
      " 74%|████████████████████████████▋          | 1715/2331 [00:58<00:18, 32.79it/s]"
     ]
    },
    {
     "name": "stdout",
     "output_type": "stream",
     "text": [
      "\r",
      " 74%|████████████████████████████▊          | 1719/2331 [00:58<00:18, 33.27it/s]"
     ]
    },
    {
     "name": "stdout",
     "output_type": "stream",
     "text": [
      "\r",
      " 74%|████████████████████████████▊          | 1723/2331 [00:59<00:18, 33.39it/s]"
     ]
    },
    {
     "name": "stdout",
     "output_type": "stream",
     "text": [
      "\r",
      " 74%|████████████████████████████▉          | 1727/2331 [00:59<00:18, 32.91it/s]"
     ]
    },
    {
     "name": "stdout",
     "output_type": "stream",
     "text": [
      "\r",
      " 74%|████████████████████████████▉          | 1731/2331 [00:59<00:18, 33.18it/s]"
     ]
    },
    {
     "name": "stdout",
     "output_type": "stream",
     "text": [
      "\r",
      " 74%|█████████████████████████████          | 1735/2331 [00:59<00:18, 32.58it/s]"
     ]
    },
    {
     "name": "stdout",
     "output_type": "stream",
     "text": [
      "\r",
      " 75%|█████████████████████████████          | 1739/2331 [00:59<00:17, 32.95it/s]"
     ]
    },
    {
     "name": "stdout",
     "output_type": "stream",
     "text": [
      "\r",
      " 75%|█████████████████████████████▏         | 1743/2331 [00:59<00:18, 32.44it/s]"
     ]
    },
    {
     "name": "stdout",
     "output_type": "stream",
     "text": [
      "\r",
      " 75%|█████████████████████████████▏         | 1747/2331 [00:59<00:17, 33.31it/s]"
     ]
    },
    {
     "name": "stdout",
     "output_type": "stream",
     "text": [
      "\r",
      " 75%|█████████████████████████████▎         | 1751/2331 [00:59<00:17, 33.30it/s]"
     ]
    },
    {
     "name": "stdout",
     "output_type": "stream",
     "text": [
      "\r",
      " 75%|█████████████████████████████▎         | 1755/2331 [01:00<00:17, 32.71it/s]"
     ]
    },
    {
     "name": "stdout",
     "output_type": "stream",
     "text": [
      "\r",
      " 75%|█████████████████████████████▍         | 1759/2331 [01:00<00:17, 33.41it/s]"
     ]
    },
    {
     "name": "stdout",
     "output_type": "stream",
     "text": [
      "\r",
      " 76%|█████████████████████████████▍         | 1763/2331 [01:00<00:17, 33.39it/s]"
     ]
    },
    {
     "name": "stdout",
     "output_type": "stream",
     "text": [
      "\r",
      " 76%|█████████████████████████████▌         | 1767/2331 [01:00<00:17, 32.65it/s]"
     ]
    },
    {
     "name": "stdout",
     "output_type": "stream",
     "text": [
      "\r",
      " 76%|█████████████████████████████▋         | 1771/2331 [01:00<00:17, 32.39it/s]"
     ]
    },
    {
     "name": "stdout",
     "output_type": "stream",
     "text": [
      "\r",
      " 76%|█████████████████████████████▋         | 1775/2331 [01:00<00:17, 31.07it/s]"
     ]
    },
    {
     "name": "stdout",
     "output_type": "stream",
     "text": [
      "\r",
      " 76%|█████████████████████████████▊         | 1779/2331 [01:00<00:17, 31.10it/s]"
     ]
    },
    {
     "name": "stdout",
     "output_type": "stream",
     "text": [
      "\r",
      " 76%|█████████████████████████████▊         | 1783/2331 [01:00<00:17, 32.03it/s]"
     ]
    },
    {
     "name": "stdout",
     "output_type": "stream",
     "text": [
      "\r",
      " 77%|█████████████████████████████▉         | 1787/2331 [01:01<00:17, 31.90it/s]"
     ]
    },
    {
     "name": "stdout",
     "output_type": "stream",
     "text": [
      "\r",
      " 77%|█████████████████████████████▉         | 1791/2331 [01:01<00:16, 32.38it/s]"
     ]
    },
    {
     "name": "stdout",
     "output_type": "stream",
     "text": [
      "\r",
      " 77%|██████████████████████████████         | 1795/2331 [01:01<00:16, 33.39it/s]"
     ]
    },
    {
     "name": "stdout",
     "output_type": "stream",
     "text": [
      "\r",
      " 77%|██████████████████████████████         | 1799/2331 [01:01<00:15, 33.38it/s]"
     ]
    },
    {
     "name": "stdout",
     "output_type": "stream",
     "text": [
      "\r",
      " 77%|██████████████████████████████▏        | 1803/2331 [01:01<00:16, 31.49it/s]"
     ]
    },
    {
     "name": "stdout",
     "output_type": "stream",
     "text": [
      "\r",
      " 78%|██████████████████████████████▏        | 1807/2331 [01:01<00:17, 29.92it/s]"
     ]
    },
    {
     "name": "stdout",
     "output_type": "stream",
     "text": [
      "\r",
      " 78%|██████████████████████████████▎        | 1811/2331 [01:01<00:17, 29.14it/s]"
     ]
    },
    {
     "name": "stdout",
     "output_type": "stream",
     "text": [
      "\r",
      " 78%|██████████████████████████████▎        | 1815/2331 [01:02<00:17, 29.77it/s]"
     ]
    },
    {
     "name": "stdout",
     "output_type": "stream",
     "text": [
      "\r",
      " 78%|██████████████████████████████▍        | 1819/2331 [01:02<00:17, 29.60it/s]"
     ]
    },
    {
     "name": "stdout",
     "output_type": "stream",
     "text": [
      "\r",
      " 78%|██████████████████████████████▌        | 1823/2331 [01:02<00:16, 30.27it/s]"
     ]
    },
    {
     "name": "stdout",
     "output_type": "stream",
     "text": [
      "\r",
      " 78%|██████████████████████████████▌        | 1827/2331 [01:02<00:16, 31.24it/s]"
     ]
    },
    {
     "name": "stdout",
     "output_type": "stream",
     "text": [
      "\r",
      " 79%|██████████████████████████████▋        | 1831/2331 [01:02<00:15, 31.44it/s]"
     ]
    },
    {
     "name": "stdout",
     "output_type": "stream",
     "text": [
      "\r",
      " 79%|██████████████████████████████▋        | 1835/2331 [01:02<00:15, 32.34it/s]"
     ]
    },
    {
     "name": "stdout",
     "output_type": "stream",
     "text": [
      "\r",
      " 79%|██████████████████████████████▊        | 1839/2331 [01:02<00:15, 32.13it/s]"
     ]
    },
    {
     "name": "stdout",
     "output_type": "stream",
     "text": [
      "\r",
      " 79%|██████████████████████████████▊        | 1843/2331 [01:02<00:14, 32.80it/s]"
     ]
    },
    {
     "name": "stdout",
     "output_type": "stream",
     "text": [
      "\r",
      " 79%|██████████████████████████████▉        | 1847/2331 [01:03<00:16, 29.56it/s]"
     ]
    },
    {
     "name": "stdout",
     "output_type": "stream",
     "text": [
      "\r",
      " 79%|██████████████████████████████▉        | 1851/2331 [01:03<00:15, 30.19it/s]"
     ]
    },
    {
     "name": "stdout",
     "output_type": "stream",
     "text": [
      "\r",
      " 80%|███████████████████████████████        | 1855/2331 [01:03<00:15, 31.59it/s]"
     ]
    },
    {
     "name": "stdout",
     "output_type": "stream",
     "text": [
      "\r",
      " 80%|███████████████████████████████        | 1859/2331 [01:03<00:14, 32.95it/s]"
     ]
    },
    {
     "name": "stdout",
     "output_type": "stream",
     "text": [
      "\r",
      " 80%|███████████████████████████████▏       | 1863/2331 [01:03<00:14, 32.77it/s]"
     ]
    },
    {
     "name": "stdout",
     "output_type": "stream",
     "text": [
      "\r",
      " 80%|███████████████████████████████▏       | 1867/2331 [01:03<00:14, 32.74it/s]"
     ]
    },
    {
     "name": "stdout",
     "output_type": "stream",
     "text": [
      "\r",
      " 80%|███████████████████████████████▎       | 1871/2331 [01:03<00:14, 31.34it/s]"
     ]
    },
    {
     "name": "stdout",
     "output_type": "stream",
     "text": [
      "\r",
      " 80%|███████████████████████████████▎       | 1875/2331 [01:03<00:14, 32.09it/s]"
     ]
    },
    {
     "name": "stdout",
     "output_type": "stream",
     "text": [
      "\r",
      " 81%|███████████████████████████████▍       | 1879/2331 [01:04<00:13, 33.02it/s]"
     ]
    },
    {
     "name": "stdout",
     "output_type": "stream",
     "text": [
      "\r",
      " 81%|███████████████████████████████▌       | 1883/2331 [01:04<00:13, 32.69it/s]"
     ]
    },
    {
     "name": "stdout",
     "output_type": "stream",
     "text": [
      "\r",
      " 81%|███████████████████████████████▌       | 1887/2331 [01:04<00:14, 31.32it/s]"
     ]
    },
    {
     "name": "stdout",
     "output_type": "stream",
     "text": [
      "\r",
      " 81%|███████████████████████████████▋       | 1891/2331 [01:04<00:14, 30.10it/s]"
     ]
    },
    {
     "name": "stdout",
     "output_type": "stream",
     "text": [
      "\r",
      " 81%|███████████████████████████████▋       | 1895/2331 [01:04<00:14, 31.08it/s]"
     ]
    },
    {
     "name": "stdout",
     "output_type": "stream",
     "text": [
      "\r",
      " 81%|███████████████████████████████▊       | 1899/2331 [01:04<00:13, 32.64it/s]"
     ]
    },
    {
     "name": "stdout",
     "output_type": "stream",
     "text": [
      "\r",
      " 82%|███████████████████████████████▊       | 1903/2331 [01:04<00:13, 32.47it/s]"
     ]
    },
    {
     "name": "stdout",
     "output_type": "stream",
     "text": [
      "\r",
      " 82%|███████████████████████████████▉       | 1907/2331 [01:04<00:13, 30.79it/s]"
     ]
    },
    {
     "name": "stdout",
     "output_type": "stream",
     "text": [
      "\r",
      " 82%|███████████████████████████████▉       | 1911/2331 [01:05<00:13, 31.99it/s]"
     ]
    },
    {
     "name": "stdout",
     "output_type": "stream",
     "text": [
      "\r",
      " 82%|████████████████████████████████       | 1915/2331 [01:05<00:12, 32.97it/s]"
     ]
    },
    {
     "name": "stdout",
     "output_type": "stream",
     "text": [
      "\r",
      " 82%|████████████████████████████████       | 1919/2331 [01:05<00:12, 33.47it/s]"
     ]
    },
    {
     "name": "stdout",
     "output_type": "stream",
     "text": [
      "\r",
      " 82%|████████████████████████████████▏      | 1923/2331 [01:05<00:12, 33.98it/s]"
     ]
    },
    {
     "name": "stdout",
     "output_type": "stream",
     "text": [
      "\r",
      " 83%|████████████████████████████████▏      | 1927/2331 [01:05<00:11, 33.85it/s]"
     ]
    },
    {
     "name": "stdout",
     "output_type": "stream",
     "text": [
      "\r",
      " 83%|████████████████████████████████▎      | 1931/2331 [01:05<00:12, 32.48it/s]"
     ]
    },
    {
     "name": "stdout",
     "output_type": "stream",
     "text": [
      "\r",
      " 83%|████████████████████████████████▎      | 1935/2331 [01:05<00:11, 33.90it/s]"
     ]
    },
    {
     "name": "stdout",
     "output_type": "stream",
     "text": [
      "\r",
      " 83%|████████████████████████████████▍      | 1939/2331 [01:05<00:11, 34.44it/s]"
     ]
    },
    {
     "name": "stdout",
     "output_type": "stream",
     "text": [
      "\r",
      " 83%|████████████████████████████████▌      | 1943/2331 [01:05<00:11, 34.54it/s]"
     ]
    },
    {
     "name": "stdout",
     "output_type": "stream",
     "text": [
      "\r",
      " 84%|████████████████████████████████▌      | 1947/2331 [01:06<00:10, 34.95it/s]"
     ]
    },
    {
     "name": "stdout",
     "output_type": "stream",
     "text": [
      "\r",
      " 84%|████████████████████████████████▋      | 1951/2331 [01:06<00:11, 33.20it/s]"
     ]
    },
    {
     "name": "stdout",
     "output_type": "stream",
     "text": [
      "\r",
      " 84%|████████████████████████████████▋      | 1955/2331 [01:06<00:11, 33.95it/s]"
     ]
    },
    {
     "name": "stdout",
     "output_type": "stream",
     "text": [
      "\r",
      " 84%|████████████████████████████████▊      | 1959/2331 [01:06<00:10, 34.53it/s]"
     ]
    },
    {
     "name": "stdout",
     "output_type": "stream",
     "text": [
      "\r",
      " 84%|████████████████████████████████▊      | 1963/2331 [01:06<00:10, 34.00it/s]"
     ]
    },
    {
     "name": "stdout",
     "output_type": "stream",
     "text": [
      "\r",
      " 84%|████████████████████████████████▉      | 1967/2331 [01:06<00:11, 30.99it/s]"
     ]
    },
    {
     "name": "stdout",
     "output_type": "stream",
     "text": [
      "\r",
      " 85%|████████████████████████████████▉      | 1971/2331 [01:06<00:11, 30.97it/s]"
     ]
    },
    {
     "name": "stdout",
     "output_type": "stream",
     "text": [
      "\r",
      " 85%|█████████████████████████████████      | 1975/2331 [01:06<00:11, 31.47it/s]"
     ]
    },
    {
     "name": "stdout",
     "output_type": "stream",
     "text": [
      "\r",
      " 85%|█████████████████████████████████      | 1979/2331 [01:07<00:10, 32.93it/s]"
     ]
    },
    {
     "name": "stdout",
     "output_type": "stream",
     "text": [
      "\r",
      " 85%|█████████████████████████████████▏     | 1983/2331 [01:07<00:10, 33.33it/s]"
     ]
    },
    {
     "name": "stdout",
     "output_type": "stream",
     "text": [
      "\r",
      " 85%|█████████████████████████████████▏     | 1987/2331 [01:07<00:09, 34.85it/s]"
     ]
    },
    {
     "name": "stdout",
     "output_type": "stream",
     "text": [
      "\r",
      " 85%|█████████████████████████████████▎     | 1991/2331 [01:07<00:10, 32.95it/s]"
     ]
    },
    {
     "name": "stdout",
     "output_type": "stream",
     "text": [
      "\r",
      " 86%|█████████████████████████████████▍     | 1995/2331 [01:07<00:10, 32.45it/s]"
     ]
    },
    {
     "name": "stdout",
     "output_type": "stream",
     "text": [
      "\r",
      " 86%|█████████████████████████████████▍     | 1999/2331 [01:07<00:10, 31.19it/s]"
     ]
    },
    {
     "name": "stdout",
     "output_type": "stream",
     "text": [
      "\r",
      " 86%|█████████████████████████████████▌     | 2003/2331 [01:07<00:09, 32.96it/s]"
     ]
    },
    {
     "name": "stdout",
     "output_type": "stream",
     "text": [
      "\r",
      " 86%|█████████████████████████████████▌     | 2007/2331 [01:07<00:09, 33.58it/s]"
     ]
    },
    {
     "name": "stdout",
     "output_type": "stream",
     "text": [
      "\r",
      " 86%|█████████████████████████████████▋     | 2011/2331 [01:08<00:09, 34.19it/s]"
     ]
    },
    {
     "name": "stdout",
     "output_type": "stream",
     "text": [
      "\r",
      " 86%|█████████████████████████████████▋     | 2016/2331 [01:08<00:08, 35.87it/s]"
     ]
    },
    {
     "name": "stdout",
     "output_type": "stream",
     "text": [
      "\r",
      " 87%|█████████████████████████████████▊     | 2020/2331 [01:08<00:08, 35.01it/s]"
     ]
    },
    {
     "name": "stdout",
     "output_type": "stream",
     "text": [
      "\r",
      " 87%|█████████████████████████████████▊     | 2024/2331 [01:08<00:08, 34.76it/s]"
     ]
    },
    {
     "name": "stdout",
     "output_type": "stream",
     "text": [
      "\r",
      " 87%|█████████████████████████████████▉     | 2028/2331 [01:08<00:08, 34.27it/s]"
     ]
    },
    {
     "name": "stdout",
     "output_type": "stream",
     "text": [
      "\r",
      " 87%|█████████████████████████████████▉     | 2032/2331 [01:08<00:08, 35.30it/s]"
     ]
    },
    {
     "name": "stdout",
     "output_type": "stream",
     "text": [
      "\r",
      " 87%|██████████████████████████████████     | 2036/2331 [01:08<00:08, 35.47it/s]"
     ]
    },
    {
     "name": "stdout",
     "output_type": "stream",
     "text": [
      "\r",
      " 88%|██████████████████████████████████▏    | 2040/2331 [01:08<00:08, 35.36it/s]"
     ]
    },
    {
     "name": "stdout",
     "output_type": "stream",
     "text": [
      "\r",
      " 88%|██████████████████████████████████▏    | 2044/2331 [01:08<00:08, 34.61it/s]"
     ]
    },
    {
     "name": "stdout",
     "output_type": "stream",
     "text": [
      "\r",
      " 88%|██████████████████████████████████▎    | 2048/2331 [01:09<00:08, 33.82it/s]"
     ]
    },
    {
     "name": "stdout",
     "output_type": "stream",
     "text": [
      "\r",
      " 88%|██████████████████████████████████▎    | 2052/2331 [01:09<00:08, 34.59it/s]"
     ]
    },
    {
     "name": "stdout",
     "output_type": "stream",
     "text": [
      "\r",
      " 88%|██████████████████████████████████▍    | 2056/2331 [01:09<00:08, 33.29it/s]"
     ]
    },
    {
     "name": "stdout",
     "output_type": "stream",
     "text": [
      "\r",
      " 88%|██████████████████████████████████▍    | 2060/2331 [01:09<00:08, 33.64it/s]"
     ]
    },
    {
     "name": "stdout",
     "output_type": "stream",
     "text": [
      "\r",
      " 89%|██████████████████████████████████▌    | 2064/2331 [01:09<00:07, 34.70it/s]"
     ]
    },
    {
     "name": "stdout",
     "output_type": "stream",
     "text": [
      "\r",
      " 89%|██████████████████████████████████▌    | 2068/2331 [01:09<00:07, 34.66it/s]"
     ]
    },
    {
     "name": "stdout",
     "output_type": "stream",
     "text": [
      "\r",
      " 89%|██████████████████████████████████▋    | 2072/2331 [01:09<00:07, 34.10it/s]"
     ]
    },
    {
     "name": "stdout",
     "output_type": "stream",
     "text": [
      "\r",
      " 89%|██████████████████████████████████▋    | 2076/2331 [01:09<00:07, 34.80it/s]"
     ]
    },
    {
     "name": "stdout",
     "output_type": "stream",
     "text": [
      "\r",
      " 89%|██████████████████████████████████▊    | 2080/2331 [01:10<00:07, 34.62it/s]"
     ]
    },
    {
     "name": "stdout",
     "output_type": "stream",
     "text": [
      "\r",
      " 89%|██████████████████████████████████▊    | 2084/2331 [01:10<00:07, 32.98it/s]"
     ]
    },
    {
     "name": "stdout",
     "output_type": "stream",
     "text": [
      "\r",
      " 90%|██████████████████████████████████▉    | 2088/2331 [01:10<00:07, 34.03it/s]"
     ]
    },
    {
     "name": "stdout",
     "output_type": "stream",
     "text": [
      "\r",
      " 90%|███████████████████████████████████    | 2092/2331 [01:10<00:07, 32.03it/s]"
     ]
    },
    {
     "name": "stdout",
     "output_type": "stream",
     "text": [
      "\r",
      " 90%|███████████████████████████████████    | 2096/2331 [01:10<00:07, 32.37it/s]"
     ]
    },
    {
     "name": "stdout",
     "output_type": "stream",
     "text": [
      "\r",
      " 90%|███████████████████████████████████▏   | 2100/2331 [01:10<00:07, 31.56it/s]"
     ]
    },
    {
     "name": "stdout",
     "output_type": "stream",
     "text": [
      "\r",
      " 90%|███████████████████████████████████▏   | 2104/2331 [01:10<00:07, 30.68it/s]"
     ]
    },
    {
     "name": "stdout",
     "output_type": "stream",
     "text": [
      "\r",
      " 90%|███████████████████████████████████▎   | 2108/2331 [01:10<00:07, 31.21it/s]"
     ]
    },
    {
     "name": "stdout",
     "output_type": "stream",
     "text": [
      "\r",
      " 91%|███████████████████████████████████▎   | 2112/2331 [01:11<00:07, 30.33it/s]"
     ]
    },
    {
     "name": "stdout",
     "output_type": "stream",
     "text": [
      "\r",
      " 91%|███████████████████████████████████▍   | 2116/2331 [01:11<00:07, 29.15it/s]"
     ]
    },
    {
     "name": "stdout",
     "output_type": "stream",
     "text": [
      "\r",
      " 91%|███████████████████████████████████▍   | 2120/2331 [01:11<00:07, 29.77it/s]"
     ]
    },
    {
     "name": "stdout",
     "output_type": "stream",
     "text": [
      "\r",
      " 91%|███████████████████████████████████▌   | 2124/2331 [01:11<00:06, 31.19it/s]"
     ]
    },
    {
     "name": "stdout",
     "output_type": "stream",
     "text": [
      "\r",
      " 91%|███████████████████████████████████▌   | 2128/2331 [01:11<00:06, 31.61it/s]"
     ]
    },
    {
     "name": "stdout",
     "output_type": "stream",
     "text": [
      "\r",
      " 91%|███████████████████████████████████▋   | 2132/2331 [01:11<00:06, 31.47it/s]"
     ]
    },
    {
     "name": "stdout",
     "output_type": "stream",
     "text": [
      "\r",
      " 92%|███████████████████████████████████▋   | 2136/2331 [01:11<00:06, 32.15it/s]"
     ]
    },
    {
     "name": "stdout",
     "output_type": "stream",
     "text": [
      "\r",
      " 92%|███████████████████████████████████▊   | 2140/2331 [01:11<00:06, 30.88it/s]"
     ]
    },
    {
     "name": "stdout",
     "output_type": "stream",
     "text": [
      "\r",
      " 92%|███████████████████████████████████▊   | 2144/2331 [01:12<00:05, 31.62it/s]"
     ]
    },
    {
     "name": "stdout",
     "output_type": "stream",
     "text": [
      "\r",
      " 92%|███████████████████████████████████▉   | 2148/2331 [01:12<00:05, 31.73it/s]"
     ]
    },
    {
     "name": "stdout",
     "output_type": "stream",
     "text": [
      "\r",
      " 92%|████████████████████████████████████   | 2152/2331 [01:12<00:05, 29.85it/s]"
     ]
    },
    {
     "name": "stdout",
     "output_type": "stream",
     "text": [
      "\r",
      " 92%|████████████████████████████████████   | 2156/2331 [01:12<00:06, 29.13it/s]"
     ]
    },
    {
     "name": "stdout",
     "output_type": "stream",
     "text": [
      "\r",
      " 93%|████████████████████████████████████   | 2159/2331 [01:12<00:05, 28.94it/s]"
     ]
    },
    {
     "name": "stdout",
     "output_type": "stream",
     "text": [
      "\r",
      " 93%|████████████████████████████████████▏  | 2162/2331 [01:12<00:06, 27.61it/s]"
     ]
    },
    {
     "name": "stdout",
     "output_type": "stream",
     "text": [
      "\r",
      " 93%|████████████████████████████████████▏  | 2165/2331 [01:12<00:05, 27.72it/s]"
     ]
    },
    {
     "name": "stdout",
     "output_type": "stream",
     "text": [
      "\r",
      " 93%|████████████████████████████████████▎  | 2168/2331 [01:12<00:05, 27.39it/s]"
     ]
    },
    {
     "name": "stdout",
     "output_type": "stream",
     "text": [
      "\r",
      " 93%|████████████████████████████████████▎  | 2172/2331 [01:13<00:05, 28.25it/s]"
     ]
    },
    {
     "name": "stdout",
     "output_type": "stream",
     "text": [
      "\r",
      " 93%|████████████████████████████████████▍  | 2176/2331 [01:13<00:05, 30.03it/s]"
     ]
    },
    {
     "name": "stdout",
     "output_type": "stream",
     "text": [
      "\r",
      " 94%|████████████████████████████████████▍  | 2180/2331 [01:13<00:05, 29.87it/s]"
     ]
    },
    {
     "name": "stdout",
     "output_type": "stream",
     "text": [
      "\r",
      " 94%|████████████████████████████████████▌  | 2184/2331 [01:13<00:04, 32.04it/s]"
     ]
    },
    {
     "name": "stdout",
     "output_type": "stream",
     "text": [
      "\r",
      " 94%|████████████████████████████████████▌  | 2188/2331 [01:13<00:04, 33.02it/s]"
     ]
    },
    {
     "name": "stdout",
     "output_type": "stream",
     "text": [
      "\r",
      " 94%|████████████████████████████████████▋  | 2192/2331 [01:13<00:04, 32.53it/s]"
     ]
    },
    {
     "name": "stdout",
     "output_type": "stream",
     "text": [
      "\r",
      " 94%|████████████████████████████████████▋  | 2196/2331 [01:13<00:04, 31.94it/s]"
     ]
    },
    {
     "name": "stdout",
     "output_type": "stream",
     "text": [
      "\r",
      " 94%|████████████████████████████████████▊  | 2200/2331 [01:13<00:04, 32.70it/s]"
     ]
    },
    {
     "name": "stdout",
     "output_type": "stream",
     "text": [
      "\r",
      " 95%|████████████████████████████████████▉  | 2204/2331 [01:14<00:03, 33.96it/s]"
     ]
    },
    {
     "name": "stdout",
     "output_type": "stream",
     "text": [
      "\r",
      " 95%|████████████████████████████████████▉  | 2208/2331 [01:14<00:03, 33.36it/s]"
     ]
    },
    {
     "name": "stdout",
     "output_type": "stream",
     "text": [
      "\r",
      " 95%|█████████████████████████████████████  | 2212/2331 [01:14<00:03, 33.35it/s]"
     ]
    },
    {
     "name": "stdout",
     "output_type": "stream",
     "text": [
      "\r",
      " 95%|█████████████████████████████████████  | 2216/2331 [01:14<00:03, 32.19it/s]"
     ]
    },
    {
     "name": "stdout",
     "output_type": "stream",
     "text": [
      "\r",
      " 95%|█████████████████████████████████████▏ | 2220/2331 [01:14<00:03, 32.18it/s]"
     ]
    },
    {
     "name": "stdout",
     "output_type": "stream",
     "text": [
      "\r",
      " 95%|█████████████████████████████████████▏ | 2224/2331 [01:14<00:03, 32.50it/s]"
     ]
    },
    {
     "name": "stdout",
     "output_type": "stream",
     "text": [
      "\r",
      " 96%|█████████████████████████████████████▎ | 2228/2331 [01:14<00:03, 30.50it/s]"
     ]
    },
    {
     "name": "stdout",
     "output_type": "stream",
     "text": [
      "\r",
      " 96%|█████████████████████████████████████▎ | 2232/2331 [01:14<00:03, 27.36it/s]"
     ]
    },
    {
     "name": "stdout",
     "output_type": "stream",
     "text": [
      "\r",
      " 96%|█████████████████████████████████████▍ | 2235/2331 [01:15<00:03, 26.20it/s]"
     ]
    },
    {
     "name": "stdout",
     "output_type": "stream",
     "text": [
      "\r",
      " 96%|█████████████████████████████████████▍ | 2238/2331 [01:15<00:03, 24.26it/s]"
     ]
    },
    {
     "name": "stdout",
     "output_type": "stream",
     "text": [
      "\r",
      " 96%|█████████████████████████████████████▍ | 2241/2331 [01:15<00:03, 25.11it/s]"
     ]
    },
    {
     "name": "stdout",
     "output_type": "stream",
     "text": [
      "\r",
      " 96%|█████████████████████████████████████▌ | 2244/2331 [01:15<00:03, 24.31it/s]"
     ]
    },
    {
     "name": "stdout",
     "output_type": "stream",
     "text": [
      "\r",
      " 96%|█████████████████████████████████████▌ | 2247/2331 [01:15<00:03, 24.71it/s]"
     ]
    },
    {
     "name": "stdout",
     "output_type": "stream",
     "text": [
      "\r",
      " 97%|█████████████████████████████████████▋ | 2250/2331 [01:15<00:03, 24.56it/s]"
     ]
    },
    {
     "name": "stdout",
     "output_type": "stream",
     "text": [
      "\r",
      " 97%|█████████████████████████████████████▋ | 2253/2331 [01:15<00:03, 24.28it/s]"
     ]
    },
    {
     "name": "stdout",
     "output_type": "stream",
     "text": [
      "\r",
      " 97%|█████████████████████████████████████▋ | 2256/2331 [01:16<00:03, 23.07it/s]"
     ]
    },
    {
     "name": "stdout",
     "output_type": "stream",
     "text": [
      "\r",
      " 97%|█████████████████████████████████████▊ | 2259/2331 [01:16<00:03, 22.36it/s]"
     ]
    },
    {
     "name": "stdout",
     "output_type": "stream",
     "text": [
      "\r",
      " 97%|█████████████████████████████████████▊ | 2262/2331 [01:16<00:03, 21.99it/s]"
     ]
    },
    {
     "name": "stdout",
     "output_type": "stream",
     "text": [
      "\r",
      " 97%|█████████████████████████████████████▉ | 2265/2331 [01:16<00:03, 21.60it/s]"
     ]
    },
    {
     "name": "stdout",
     "output_type": "stream",
     "text": [
      "\r",
      " 97%|█████████████████████████████████████▉ | 2268/2331 [01:16<00:02, 21.98it/s]"
     ]
    },
    {
     "name": "stdout",
     "output_type": "stream",
     "text": [
      "\r",
      " 97%|█████████████████████████████████████▉ | 2271/2331 [01:16<00:02, 21.92it/s]"
     ]
    },
    {
     "name": "stdout",
     "output_type": "stream",
     "text": [
      "\r",
      " 98%|██████████████████████████████████████ | 2274/2331 [01:16<00:02, 22.52it/s]"
     ]
    },
    {
     "name": "stdout",
     "output_type": "stream",
     "text": [
      "\r",
      " 98%|██████████████████████████████████████ | 2277/2331 [01:16<00:02, 21.96it/s]"
     ]
    },
    {
     "name": "stdout",
     "output_type": "stream",
     "text": [
      "\r",
      " 98%|██████████████████████████████████████▏| 2280/2331 [01:17<00:02, 21.96it/s]"
     ]
    },
    {
     "name": "stdout",
     "output_type": "stream",
     "text": [
      "\r",
      " 98%|██████████████████████████████████████▏| 2283/2331 [01:17<00:02, 23.48it/s]"
     ]
    },
    {
     "name": "stdout",
     "output_type": "stream",
     "text": [
      "\r",
      " 98%|██████████████████████████████████████▏| 2286/2331 [01:17<00:01, 23.81it/s]"
     ]
    },
    {
     "name": "stdout",
     "output_type": "stream",
     "text": [
      "\r",
      " 98%|██████████████████████████████████████▎| 2289/2331 [01:17<00:01, 23.76it/s]"
     ]
    },
    {
     "name": "stdout",
     "output_type": "stream",
     "text": [
      "\r",
      " 98%|██████████████████████████████████████▎| 2292/2331 [01:17<00:01, 23.06it/s]"
     ]
    },
    {
     "name": "stdout",
     "output_type": "stream",
     "text": [
      "\r",
      " 98%|██████████████████████████████████████▍| 2295/2331 [01:17<00:01, 23.11it/s]"
     ]
    },
    {
     "name": "stdout",
     "output_type": "stream",
     "text": [
      "\r",
      " 99%|██████████████████████████████████████▍| 2298/2331 [01:17<00:01, 24.45it/s]"
     ]
    },
    {
     "name": "stdout",
     "output_type": "stream",
     "text": [
      "\r",
      " 99%|██████████████████████████████████████▍| 2301/2331 [01:17<00:01, 24.90it/s]"
     ]
    },
    {
     "name": "stdout",
     "output_type": "stream",
     "text": [
      "\r",
      " 99%|██████████████████████████████████████▌| 2304/2331 [01:18<00:01, 24.72it/s]"
     ]
    },
    {
     "name": "stdout",
     "output_type": "stream",
     "text": [
      "\r",
      " 99%|██████████████████████████████████████▌| 2307/2331 [01:18<00:00, 24.54it/s]"
     ]
    },
    {
     "name": "stdout",
     "output_type": "stream",
     "text": [
      "\r",
      " 99%|██████████████████████████████████████▋| 2310/2331 [01:18<00:00, 24.93it/s]"
     ]
    },
    {
     "name": "stdout",
     "output_type": "stream",
     "text": [
      "\r",
      " 99%|██████████████████████████████████████▋| 2313/2331 [01:18<00:00, 24.63it/s]"
     ]
    },
    {
     "name": "stdout",
     "output_type": "stream",
     "text": [
      "\r",
      " 99%|██████████████████████████████████████▋| 2316/2331 [01:18<00:00, 24.80it/s]"
     ]
    },
    {
     "name": "stdout",
     "output_type": "stream",
     "text": [
      "\r",
      " 99%|██████████████████████████████████████▊| 2319/2331 [01:18<00:00, 23.98it/s]"
     ]
    },
    {
     "name": "stdout",
     "output_type": "stream",
     "text": [
      "\r",
      "100%|██████████████████████████████████████▊| 2322/2331 [01:18<00:00, 21.60it/s]"
     ]
    },
    {
     "name": "stdout",
     "output_type": "stream",
     "text": [
      "\r",
      "100%|██████████████████████████████████████▉| 2325/2331 [01:19<00:00, 19.65it/s]"
     ]
    },
    {
     "name": "stdout",
     "output_type": "stream",
     "text": [
      "\r",
      "100%|██████████████████████████████████████▉| 2328/2331 [01:19<00:00, 20.37it/s]"
     ]
    },
    {
     "name": "stdout",
     "output_type": "stream",
     "text": [
      "\r",
      "100%|███████████████████████████████████████| 2331/2331 [01:19<00:00, 21.66it/s]\r",
      "100%|███████████████████████████████████████| 2331/2331 [01:19<00:00, 29.39it/s]\r\n"
     ]
    },
    {
     "name": "stdout",
     "output_type": "stream",
     "text": [
      "\r",
      "  0%|                                                  | 0/2019 [00:00<?, ?it/s]"
     ]
    },
    {
     "name": "stdout",
     "output_type": "stream",
     "text": [
      "\r",
      "  0%|                                          | 1/2019 [00:00<23:16,  1.45it/s]"
     ]
    },
    {
     "name": "stdout",
     "output_type": "stream",
     "text": [
      "\r",
      "  0%|                                          | 4/2019 [00:00<05:32,  6.06it/s]"
     ]
    },
    {
     "name": "stdout",
     "output_type": "stream",
     "text": [
      "\r",
      "  0%|▏                                         | 7/2019 [00:00<03:20, 10.02it/s]"
     ]
    },
    {
     "name": "stdout",
     "output_type": "stream",
     "text": [
      "\r",
      "  0%|▏                                        | 10/2019 [00:01<02:23, 13.95it/s]"
     ]
    },
    {
     "name": "stdout",
     "output_type": "stream",
     "text": [
      "\r",
      "  1%|▎                                        | 13/2019 [00:01<01:55, 17.38it/s]"
     ]
    },
    {
     "name": "stdout",
     "output_type": "stream",
     "text": [
      "\r",
      "  1%|▎                                        | 17/2019 [00:01<01:37, 20.54it/s]"
     ]
    },
    {
     "name": "stdout",
     "output_type": "stream",
     "text": [
      "\r",
      "  1%|▍                                        | 20/2019 [00:01<01:28, 22.64it/s]"
     ]
    },
    {
     "name": "stdout",
     "output_type": "stream",
     "text": [
      "\r",
      "  1%|▍                                        | 23/2019 [00:01<01:25, 23.46it/s]"
     ]
    },
    {
     "name": "stdout",
     "output_type": "stream",
     "text": [
      "\r",
      "  1%|▌                                        | 26/2019 [00:01<01:27, 22.80it/s]"
     ]
    },
    {
     "name": "stdout",
     "output_type": "stream",
     "text": [
      "\r",
      "  1%|▌                                        | 29/2019 [00:01<01:24, 23.54it/s]"
     ]
    },
    {
     "name": "stdout",
     "output_type": "stream",
     "text": [
      "\r",
      "  2%|▋                                        | 32/2019 [00:01<01:24, 23.44it/s]"
     ]
    },
    {
     "name": "stdout",
     "output_type": "stream",
     "text": [
      "\r",
      "  2%|▋                                        | 35/2019 [00:02<01:21, 24.44it/s]"
     ]
    },
    {
     "name": "stdout",
     "output_type": "stream",
     "text": [
      "\r",
      "  2%|▊                                        | 39/2019 [00:02<01:15, 26.32it/s]"
     ]
    },
    {
     "name": "stdout",
     "output_type": "stream",
     "text": [
      "\r",
      "  2%|▊                                        | 42/2019 [00:02<01:14, 26.39it/s]"
     ]
    },
    {
     "name": "stdout",
     "output_type": "stream",
     "text": [
      "\r",
      "  2%|▉                                        | 46/2019 [00:02<01:10, 27.93it/s]"
     ]
    },
    {
     "name": "stdout",
     "output_type": "stream",
     "text": [
      "\r",
      "  2%|▉                                        | 49/2019 [00:02<01:12, 27.21it/s]"
     ]
    },
    {
     "name": "stdout",
     "output_type": "stream",
     "text": [
      "\r",
      "  3%|█                                        | 52/2019 [00:02<01:11, 27.65it/s]"
     ]
    },
    {
     "name": "stdout",
     "output_type": "stream",
     "text": [
      "\r",
      "  3%|█                                        | 55/2019 [00:02<01:14, 26.23it/s]"
     ]
    },
    {
     "name": "stdout",
     "output_type": "stream",
     "text": [
      "\r",
      "  3%|█▏                                       | 58/2019 [00:02<01:13, 26.55it/s]"
     ]
    },
    {
     "name": "stdout",
     "output_type": "stream",
     "text": [
      "\r",
      "  3%|█▏                                       | 61/2019 [00:02<01:17, 25.37it/s]"
     ]
    },
    {
     "name": "stdout",
     "output_type": "stream",
     "text": [
      "\r",
      "  3%|█▎                                       | 64/2019 [00:03<01:15, 25.94it/s]"
     ]
    },
    {
     "name": "stdout",
     "output_type": "stream",
     "text": [
      "\r",
      "  3%|█▎                                       | 67/2019 [00:03<01:14, 26.14it/s]"
     ]
    },
    {
     "name": "stdout",
     "output_type": "stream",
     "text": [
      "\r",
      "  4%|█▍                                       | 71/2019 [00:03<01:10, 27.49it/s]"
     ]
    },
    {
     "name": "stdout",
     "output_type": "stream",
     "text": [
      "\r",
      "  4%|█▌                                       | 74/2019 [00:03<01:09, 27.96it/s]"
     ]
    },
    {
     "name": "stdout",
     "output_type": "stream",
     "text": [
      "\r",
      "  4%|█▌                                       | 77/2019 [00:03<01:11, 27.08it/s]"
     ]
    },
    {
     "name": "stdout",
     "output_type": "stream",
     "text": [
      "\r",
      "  4%|█▌                                       | 80/2019 [00:03<01:11, 27.07it/s]"
     ]
    },
    {
     "name": "stdout",
     "output_type": "stream",
     "text": [
      "\r",
      "  4%|█▋                                       | 83/2019 [00:03<01:14, 26.15it/s]"
     ]
    },
    {
     "name": "stdout",
     "output_type": "stream",
     "text": [
      "\r",
      "  4%|█▋                                       | 86/2019 [00:03<01:14, 25.89it/s]"
     ]
    },
    {
     "name": "stdout",
     "output_type": "stream",
     "text": [
      "\r",
      "  4%|█▊                                       | 89/2019 [00:04<01:17, 24.78it/s]"
     ]
    },
    {
     "name": "stdout",
     "output_type": "stream",
     "text": [
      "\r",
      "  5%|█▊                                       | 92/2019 [00:04<01:16, 25.07it/s]"
     ]
    },
    {
     "name": "stdout",
     "output_type": "stream",
     "text": [
      "\r",
      "  5%|█▉                                       | 95/2019 [00:04<01:13, 26.02it/s]"
     ]
    },
    {
     "name": "stdout",
     "output_type": "stream",
     "text": [
      "\r",
      "  5%|█▉                                       | 98/2019 [00:04<01:14, 25.84it/s]"
     ]
    },
    {
     "name": "stdout",
     "output_type": "stream",
     "text": [
      "\r",
      "  5%|██                                      | 101/2019 [00:04<01:11, 26.65it/s]"
     ]
    },
    {
     "name": "stdout",
     "output_type": "stream",
     "text": [
      "\r",
      "  5%|██                                      | 104/2019 [00:04<01:12, 26.28it/s]"
     ]
    },
    {
     "name": "stdout",
     "output_type": "stream",
     "text": [
      "\r",
      "  5%|██                                      | 107/2019 [00:04<01:13, 26.06it/s]"
     ]
    },
    {
     "name": "stdout",
     "output_type": "stream",
     "text": [
      "\r",
      "  5%|██▏                                     | 110/2019 [00:04<01:15, 25.40it/s]"
     ]
    },
    {
     "name": "stdout",
     "output_type": "stream",
     "text": [
      "\r",
      "  6%|██▏                                     | 113/2019 [00:04<01:14, 25.50it/s]"
     ]
    },
    {
     "name": "stdout",
     "output_type": "stream",
     "text": [
      "\r",
      "  6%|██▎                                     | 117/2019 [00:05<01:12, 26.19it/s]"
     ]
    },
    {
     "name": "stdout",
     "output_type": "stream",
     "text": [
      "\r",
      "  6%|██▍                                     | 120/2019 [00:05<01:13, 26.00it/s]"
     ]
    },
    {
     "name": "stdout",
     "output_type": "stream",
     "text": [
      "\r",
      "  6%|██▍                                     | 124/2019 [00:05<01:10, 26.72it/s]"
     ]
    },
    {
     "name": "stdout",
     "output_type": "stream",
     "text": [
      "\r",
      "  6%|██▌                                     | 127/2019 [00:05<01:09, 27.26it/s]"
     ]
    },
    {
     "name": "stdout",
     "output_type": "stream",
     "text": [
      "\r",
      "  6%|██▌                                     | 130/2019 [00:05<01:09, 27.30it/s]"
     ]
    },
    {
     "name": "stdout",
     "output_type": "stream",
     "text": [
      "\r",
      "  7%|██▋                                     | 134/2019 [00:05<01:05, 28.73it/s]"
     ]
    },
    {
     "name": "stdout",
     "output_type": "stream",
     "text": [
      "\r",
      "  7%|██▋                                     | 138/2019 [00:05<01:05, 28.80it/s]"
     ]
    },
    {
     "name": "stdout",
     "output_type": "stream",
     "text": [
      "\r",
      "  7%|██▊                                     | 142/2019 [00:05<01:04, 28.96it/s]"
     ]
    },
    {
     "name": "stdout",
     "output_type": "stream",
     "text": [
      "\r",
      "  7%|██▊                                     | 145/2019 [00:06<01:04, 28.92it/s]"
     ]
    },
    {
     "name": "stdout",
     "output_type": "stream",
     "text": [
      "\r",
      "  7%|██▉                                     | 149/2019 [00:06<01:02, 29.96it/s]"
     ]
    },
    {
     "name": "stdout",
     "output_type": "stream",
     "text": [
      "\r",
      "  8%|███                                     | 153/2019 [00:06<01:01, 30.38it/s]"
     ]
    },
    {
     "name": "stdout",
     "output_type": "stream",
     "text": [
      "\r",
      "  8%|███                                     | 157/2019 [00:06<01:01, 30.52it/s]"
     ]
    },
    {
     "name": "stdout",
     "output_type": "stream",
     "text": [
      "\r",
      "  8%|███▏                                    | 161/2019 [00:06<01:01, 30.36it/s]"
     ]
    },
    {
     "name": "stdout",
     "output_type": "stream",
     "text": [
      "\r",
      "  8%|███▎                                    | 165/2019 [00:06<01:04, 28.89it/s]"
     ]
    },
    {
     "name": "stdout",
     "output_type": "stream",
     "text": [
      "\r",
      "  8%|███▎                                    | 169/2019 [00:06<01:02, 29.66it/s]"
     ]
    },
    {
     "name": "stdout",
     "output_type": "stream",
     "text": [
      "\r",
      "  9%|███▍                                    | 172/2019 [00:06<01:03, 28.95it/s]"
     ]
    },
    {
     "name": "stdout",
     "output_type": "stream",
     "text": [
      "\r",
      "  9%|███▍                                    | 175/2019 [00:07<01:04, 28.67it/s]"
     ]
    },
    {
     "name": "stdout",
     "output_type": "stream",
     "text": [
      "\r",
      "  9%|███▌                                    | 179/2019 [00:07<01:01, 29.86it/s]"
     ]
    },
    {
     "name": "stdout",
     "output_type": "stream",
     "text": [
      "\r",
      "  9%|███▌                                    | 182/2019 [00:07<01:03, 28.89it/s]"
     ]
    },
    {
     "name": "stdout",
     "output_type": "stream",
     "text": [
      "\r",
      "  9%|███▋                                    | 186/2019 [00:07<01:01, 29.70it/s]"
     ]
    },
    {
     "name": "stdout",
     "output_type": "stream",
     "text": [
      "\r",
      "  9%|███▊                                    | 190/2019 [00:07<01:02, 29.08it/s]"
     ]
    },
    {
     "name": "stdout",
     "output_type": "stream",
     "text": [
      "\r",
      " 10%|███▊                                    | 194/2019 [00:07<01:03, 28.97it/s]"
     ]
    },
    {
     "name": "stdout",
     "output_type": "stream",
     "text": [
      "\r",
      " 10%|███▉                                    | 197/2019 [00:07<01:06, 27.39it/s]"
     ]
    },
    {
     "name": "stdout",
     "output_type": "stream",
     "text": [
      "\r",
      " 10%|███▉                                    | 201/2019 [00:08<01:02, 28.89it/s]"
     ]
    },
    {
     "name": "stdout",
     "output_type": "stream",
     "text": [
      "\r",
      " 10%|████                                    | 205/2019 [00:08<01:02, 29.05it/s]"
     ]
    },
    {
     "name": "stdout",
     "output_type": "stream",
     "text": [
      "\r",
      " 10%|████                                    | 208/2019 [00:08<01:03, 28.49it/s]"
     ]
    },
    {
     "name": "stdout",
     "output_type": "stream",
     "text": [
      "\r",
      " 11%|████▏                                   | 212/2019 [00:08<01:00, 29.71it/s]"
     ]
    },
    {
     "name": "stdout",
     "output_type": "stream",
     "text": [
      "\r",
      " 11%|████▎                                   | 215/2019 [00:08<01:03, 28.43it/s]"
     ]
    },
    {
     "name": "stdout",
     "output_type": "stream",
     "text": [
      "\r",
      " 11%|████▎                                   | 219/2019 [00:08<01:00, 29.93it/s]"
     ]
    },
    {
     "name": "stdout",
     "output_type": "stream",
     "text": [
      "\r",
      " 11%|████▍                                   | 222/2019 [00:08<01:00, 29.80it/s]"
     ]
    },
    {
     "name": "stdout",
     "output_type": "stream",
     "text": [
      "\r",
      " 11%|████▍                                   | 225/2019 [00:08<01:00, 29.67it/s]"
     ]
    },
    {
     "name": "stdout",
     "output_type": "stream",
     "text": [
      "\r",
      " 11%|████▌                                   | 228/2019 [00:08<01:02, 28.79it/s]"
     ]
    },
    {
     "name": "stdout",
     "output_type": "stream",
     "text": [
      "\r",
      " 11%|████▌                                   | 231/2019 [00:09<01:02, 28.63it/s]"
     ]
    },
    {
     "name": "stdout",
     "output_type": "stream",
     "text": [
      "\r",
      " 12%|████▋                                   | 234/2019 [00:09<01:05, 27.20it/s]"
     ]
    },
    {
     "name": "stdout",
     "output_type": "stream",
     "text": [
      "\r",
      " 12%|████▋                                   | 237/2019 [00:09<01:03, 27.90it/s]"
     ]
    },
    {
     "name": "stdout",
     "output_type": "stream",
     "text": [
      "\r",
      " 12%|████▊                                   | 240/2019 [00:09<01:07, 26.39it/s]"
     ]
    },
    {
     "name": "stdout",
     "output_type": "stream",
     "text": [
      "\r",
      " 12%|████▊                                   | 244/2019 [00:09<01:02, 28.34it/s]"
     ]
    },
    {
     "name": "stdout",
     "output_type": "stream",
     "text": [
      "\r",
      " 12%|████▉                                   | 247/2019 [00:09<01:02, 28.42it/s]"
     ]
    },
    {
     "name": "stdout",
     "output_type": "stream",
     "text": [
      "\r",
      " 12%|████▉                                   | 250/2019 [00:09<01:01, 28.72it/s]"
     ]
    },
    {
     "name": "stdout",
     "output_type": "stream",
     "text": [
      "\r",
      " 13%|█████                                   | 254/2019 [00:09<01:00, 29.32it/s]"
     ]
    },
    {
     "name": "stdout",
     "output_type": "stream",
     "text": [
      "\r",
      " 13%|█████                                   | 258/2019 [00:09<01:00, 29.31it/s]"
     ]
    },
    {
     "name": "stdout",
     "output_type": "stream",
     "text": [
      "\r",
      " 13%|█████▏                                  | 261/2019 [00:10<01:01, 28.45it/s]"
     ]
    },
    {
     "name": "stdout",
     "output_type": "stream",
     "text": [
      "\r",
      " 13%|█████▏                                  | 264/2019 [00:10<01:00, 28.83it/s]"
     ]
    },
    {
     "name": "stdout",
     "output_type": "stream",
     "text": [
      "\r",
      " 13%|█████▎                                  | 267/2019 [00:10<01:04, 27.06it/s]"
     ]
    },
    {
     "name": "stdout",
     "output_type": "stream",
     "text": [
      "\r",
      " 13%|█████▎                                  | 271/2019 [00:10<00:59, 29.52it/s]"
     ]
    },
    {
     "name": "stdout",
     "output_type": "stream",
     "text": [
      "\r",
      " 14%|█████▍                                  | 275/2019 [00:10<00:56, 31.01it/s]"
     ]
    },
    {
     "name": "stdout",
     "output_type": "stream",
     "text": [
      "\r",
      " 14%|█████▌                                  | 279/2019 [00:10<00:57, 30.02it/s]"
     ]
    },
    {
     "name": "stdout",
     "output_type": "stream",
     "text": [
      "\r",
      " 14%|█████▌                                  | 283/2019 [00:10<01:03, 27.16it/s]"
     ]
    },
    {
     "name": "stdout",
     "output_type": "stream",
     "text": [
      "\r",
      " 14%|█████▋                                  | 287/2019 [00:11<01:02, 27.80it/s]"
     ]
    },
    {
     "name": "stdout",
     "output_type": "stream",
     "text": [
      "\r",
      " 14%|█████▋                                  | 290/2019 [00:11<01:05, 26.46it/s]"
     ]
    },
    {
     "name": "stdout",
     "output_type": "stream",
     "text": [
      "\r",
      " 15%|█████▊                                  | 293/2019 [00:11<01:08, 25.09it/s]"
     ]
    },
    {
     "name": "stdout",
     "output_type": "stream",
     "text": [
      "\r",
      " 15%|█████▊                                  | 296/2019 [00:11<01:07, 25.36it/s]"
     ]
    },
    {
     "name": "stdout",
     "output_type": "stream",
     "text": [
      "\r",
      " 15%|█████▉                                  | 299/2019 [00:11<01:07, 25.55it/s]"
     ]
    },
    {
     "name": "stdout",
     "output_type": "stream",
     "text": [
      "\r",
      " 15%|█████▉                                  | 302/2019 [00:11<01:04, 26.44it/s]"
     ]
    },
    {
     "name": "stdout",
     "output_type": "stream",
     "text": [
      "\r",
      " 15%|██████                                  | 306/2019 [00:11<01:03, 26.86it/s]"
     ]
    },
    {
     "name": "stdout",
     "output_type": "stream",
     "text": [
      "\r",
      " 15%|██████                                  | 309/2019 [00:11<01:06, 25.56it/s]"
     ]
    },
    {
     "name": "stdout",
     "output_type": "stream",
     "text": [
      "\r",
      " 16%|██████▏                                 | 313/2019 [00:12<01:00, 28.21it/s]"
     ]
    },
    {
     "name": "stdout",
     "output_type": "stream",
     "text": [
      "\r",
      " 16%|██████▎                                 | 317/2019 [00:12<00:58, 29.21it/s]"
     ]
    },
    {
     "name": "stdout",
     "output_type": "stream",
     "text": [
      "\r",
      " 16%|██████▎                                 | 321/2019 [00:12<00:56, 30.05it/s]"
     ]
    },
    {
     "name": "stdout",
     "output_type": "stream",
     "text": [
      "\r",
      " 16%|██████▍                                 | 325/2019 [00:12<00:54, 31.35it/s]"
     ]
    },
    {
     "name": "stdout",
     "output_type": "stream",
     "text": [
      "\r",
      " 16%|██████▌                                 | 329/2019 [00:12<00:52, 32.10it/s]"
     ]
    },
    {
     "name": "stdout",
     "output_type": "stream",
     "text": [
      "\r",
      " 16%|██████▌                                 | 333/2019 [00:12<00:51, 32.58it/s]"
     ]
    },
    {
     "name": "stdout",
     "output_type": "stream",
     "text": [
      "\r",
      " 17%|██████▋                                 | 337/2019 [00:12<00:52, 32.24it/s]"
     ]
    },
    {
     "name": "stdout",
     "output_type": "stream",
     "text": [
      "\r",
      " 17%|██████▊                                 | 341/2019 [00:12<00:50, 32.93it/s]"
     ]
    },
    {
     "name": "stdout",
     "output_type": "stream",
     "text": [
      "\r",
      " 17%|██████▊                                 | 345/2019 [00:12<00:51, 32.79it/s]"
     ]
    },
    {
     "name": "stdout",
     "output_type": "stream",
     "text": [
      "\r",
      " 17%|██████▉                                 | 349/2019 [00:13<00:51, 32.36it/s]"
     ]
    },
    {
     "name": "stdout",
     "output_type": "stream",
     "text": [
      "\r",
      " 17%|██████▉                                 | 353/2019 [00:13<00:51, 32.35it/s]"
     ]
    },
    {
     "name": "stdout",
     "output_type": "stream",
     "text": [
      "\r",
      " 18%|███████                                 | 357/2019 [00:13<00:51, 32.27it/s]"
     ]
    },
    {
     "name": "stdout",
     "output_type": "stream",
     "text": [
      "\r",
      " 18%|███████▏                                | 361/2019 [00:13<00:52, 31.79it/s]"
     ]
    },
    {
     "name": "stdout",
     "output_type": "stream",
     "text": [
      "\r",
      " 18%|███████▏                                | 365/2019 [00:13<00:52, 31.77it/s]"
     ]
    },
    {
     "name": "stdout",
     "output_type": "stream",
     "text": [
      "\r",
      " 18%|███████▎                                | 369/2019 [00:13<00:50, 32.38it/s]"
     ]
    },
    {
     "name": "stdout",
     "output_type": "stream",
     "text": [
      "\r",
      " 18%|███████▍                                | 373/2019 [00:13<00:49, 33.48it/s]"
     ]
    },
    {
     "name": "stdout",
     "output_type": "stream",
     "text": [
      "\r",
      " 19%|███████▍                                | 377/2019 [00:13<00:50, 32.74it/s]"
     ]
    },
    {
     "name": "stdout",
     "output_type": "stream",
     "text": [
      "\r",
      " 19%|███████▌                                | 381/2019 [00:14<00:49, 33.42it/s]"
     ]
    },
    {
     "name": "stdout",
     "output_type": "stream",
     "text": [
      "\r",
      " 19%|███████▋                                | 385/2019 [00:14<00:50, 32.13it/s]"
     ]
    },
    {
     "name": "stdout",
     "output_type": "stream",
     "text": [
      "\r",
      " 19%|███████▋                                | 389/2019 [00:14<00:52, 31.22it/s]"
     ]
    },
    {
     "name": "stdout",
     "output_type": "stream",
     "text": [
      "\r",
      " 19%|███████▊                                | 393/2019 [00:14<00:50, 32.31it/s]"
     ]
    },
    {
     "name": "stdout",
     "output_type": "stream",
     "text": [
      "\r",
      " 20%|███████▊                                | 397/2019 [00:14<00:51, 31.35it/s]"
     ]
    },
    {
     "name": "stdout",
     "output_type": "stream",
     "text": [
      "\r",
      " 20%|███████▉                                | 401/2019 [00:14<00:51, 31.58it/s]"
     ]
    },
    {
     "name": "stdout",
     "output_type": "stream",
     "text": [
      "\r",
      " 20%|████████                                | 405/2019 [00:14<00:50, 31.97it/s]"
     ]
    },
    {
     "name": "stdout",
     "output_type": "stream",
     "text": [
      "\r",
      " 20%|████████                                | 409/2019 [00:14<00:50, 31.74it/s]"
     ]
    },
    {
     "name": "stdout",
     "output_type": "stream",
     "text": [
      "\r",
      " 20%|████████▏                               | 413/2019 [00:15<00:51, 31.26it/s]"
     ]
    },
    {
     "name": "stdout",
     "output_type": "stream",
     "text": [
      "\r",
      " 21%|████████▎                               | 417/2019 [00:15<00:50, 31.90it/s]"
     ]
    },
    {
     "name": "stdout",
     "output_type": "stream",
     "text": [
      "\r",
      " 21%|████████▎                               | 421/2019 [00:15<00:48, 32.94it/s]"
     ]
    },
    {
     "name": "stdout",
     "output_type": "stream",
     "text": [
      "\r",
      " 21%|████████▍                               | 425/2019 [00:15<00:47, 33.22it/s]"
     ]
    },
    {
     "name": "stdout",
     "output_type": "stream",
     "text": [
      "\r",
      " 21%|████████▍                               | 429/2019 [00:15<00:47, 33.34it/s]"
     ]
    },
    {
     "name": "stdout",
     "output_type": "stream",
     "text": [
      "\r",
      " 21%|████████▌                               | 433/2019 [00:15<00:47, 33.46it/s]"
     ]
    },
    {
     "name": "stdout",
     "output_type": "stream",
     "text": [
      "\r",
      " 22%|████████▋                               | 437/2019 [00:15<00:47, 33.28it/s]"
     ]
    },
    {
     "name": "stdout",
     "output_type": "stream",
     "text": [
      "\r",
      " 22%|████████▋                               | 441/2019 [00:15<00:50, 31.44it/s]"
     ]
    },
    {
     "name": "stdout",
     "output_type": "stream",
     "text": [
      "\r",
      " 22%|████████▊                               | 445/2019 [00:16<00:50, 30.98it/s]"
     ]
    },
    {
     "name": "stdout",
     "output_type": "stream",
     "text": [
      "\r",
      " 22%|████████▉                               | 449/2019 [00:16<00:54, 28.83it/s]"
     ]
    },
    {
     "name": "stdout",
     "output_type": "stream",
     "text": [
      "\r",
      " 22%|████████▉                               | 453/2019 [00:16<00:52, 29.60it/s]"
     ]
    },
    {
     "name": "stdout",
     "output_type": "stream",
     "text": [
      "\r",
      " 23%|█████████                               | 457/2019 [00:16<00:51, 30.20it/s]"
     ]
    },
    {
     "name": "stdout",
     "output_type": "stream",
     "text": [
      "\r",
      " 23%|█████████▏                              | 461/2019 [00:16<00:51, 30.30it/s]"
     ]
    },
    {
     "name": "stdout",
     "output_type": "stream",
     "text": [
      "\r",
      " 23%|█████████▏                              | 465/2019 [00:16<00:49, 31.34it/s]"
     ]
    },
    {
     "name": "stdout",
     "output_type": "stream",
     "text": [
      "\r",
      " 23%|█████████▎                              | 469/2019 [00:16<00:49, 31.08it/s]"
     ]
    },
    {
     "name": "stdout",
     "output_type": "stream",
     "text": [
      "\r",
      " 23%|█████████▎                              | 473/2019 [00:17<00:52, 29.69it/s]"
     ]
    },
    {
     "name": "stdout",
     "output_type": "stream",
     "text": [
      "\r",
      " 24%|█████████▍                              | 477/2019 [00:17<00:49, 30.89it/s]"
     ]
    },
    {
     "name": "stdout",
     "output_type": "stream",
     "text": [
      "\r",
      " 24%|█████████▌                              | 481/2019 [00:17<00:48, 31.98it/s]"
     ]
    },
    {
     "name": "stdout",
     "output_type": "stream",
     "text": [
      "\r",
      " 24%|█████████▌                              | 485/2019 [00:17<00:47, 32.21it/s]"
     ]
    },
    {
     "name": "stdout",
     "output_type": "stream",
     "text": [
      "\r",
      " 24%|█████████▋                              | 489/2019 [00:17<00:50, 30.58it/s]"
     ]
    },
    {
     "name": "stdout",
     "output_type": "stream",
     "text": [
      "\r",
      " 24%|█████████▊                              | 493/2019 [00:17<00:49, 30.74it/s]"
     ]
    },
    {
     "name": "stdout",
     "output_type": "stream",
     "text": [
      "\r",
      " 25%|█████████▊                              | 497/2019 [00:17<00:48, 31.29it/s]"
     ]
    },
    {
     "name": "stdout",
     "output_type": "stream",
     "text": [
      "\r",
      " 25%|█████████▉                              | 501/2019 [00:17<00:49, 30.52it/s]"
     ]
    },
    {
     "name": "stdout",
     "output_type": "stream",
     "text": [
      "\r",
      " 25%|██████████                              | 505/2019 [00:18<00:50, 30.07it/s]"
     ]
    },
    {
     "name": "stdout",
     "output_type": "stream",
     "text": [
      "\r",
      " 25%|██████████                              | 509/2019 [00:18<00:51, 29.54it/s]"
     ]
    },
    {
     "name": "stdout",
     "output_type": "stream",
     "text": [
      "\r",
      " 25%|██████████▏                             | 513/2019 [00:18<00:52, 28.73it/s]"
     ]
    },
    {
     "name": "stdout",
     "output_type": "stream",
     "text": [
      "\r",
      " 26%|██████████▏                             | 516/2019 [00:18<00:53, 27.89it/s]"
     ]
    },
    {
     "name": "stdout",
     "output_type": "stream",
     "text": [
      "\r",
      " 26%|██████████▎                             | 520/2019 [00:18<00:51, 28.88it/s]"
     ]
    },
    {
     "name": "stdout",
     "output_type": "stream",
     "text": [
      "\r",
      " 26%|██████████▎                             | 523/2019 [00:18<00:52, 28.73it/s]"
     ]
    },
    {
     "name": "stdout",
     "output_type": "stream",
     "text": [
      "\r",
      " 26%|██████████▍                             | 526/2019 [00:18<00:56, 26.35it/s]"
     ]
    },
    {
     "name": "stdout",
     "output_type": "stream",
     "text": [
      "\r",
      " 26%|██████████▌                             | 530/2019 [00:18<00:51, 28.82it/s]"
     ]
    },
    {
     "name": "stdout",
     "output_type": "stream",
     "text": [
      "\r",
      " 26%|██████████▌                             | 534/2019 [00:19<00:48, 30.33it/s]"
     ]
    },
    {
     "name": "stdout",
     "output_type": "stream",
     "text": [
      "\r",
      " 27%|██████████▋                             | 538/2019 [00:19<00:48, 30.81it/s]"
     ]
    },
    {
     "name": "stdout",
     "output_type": "stream",
     "text": [
      "\r",
      " 27%|██████████▋                             | 542/2019 [00:19<00:49, 29.75it/s]"
     ]
    },
    {
     "name": "stdout",
     "output_type": "stream",
     "text": [
      "\r",
      " 27%|██████████▊                             | 546/2019 [00:19<00:47, 31.15it/s]"
     ]
    },
    {
     "name": "stdout",
     "output_type": "stream",
     "text": [
      "\r",
      " 27%|██████████▉                             | 550/2019 [00:19<00:46, 31.43it/s]"
     ]
    },
    {
     "name": "stdout",
     "output_type": "stream",
     "text": [
      "\r",
      " 27%|██████████▉                             | 554/2019 [00:19<00:52, 28.00it/s]"
     ]
    },
    {
     "name": "stdout",
     "output_type": "stream",
     "text": [
      "\r",
      " 28%|███████████                             | 558/2019 [00:19<00:50, 28.96it/s]"
     ]
    },
    {
     "name": "stdout",
     "output_type": "stream",
     "text": [
      "\r",
      " 28%|███████████                             | 561/2019 [00:19<00:50, 29.08it/s]"
     ]
    },
    {
     "name": "stdout",
     "output_type": "stream",
     "text": [
      "\r",
      " 28%|███████████▏                            | 565/2019 [00:20<00:47, 30.46it/s]"
     ]
    },
    {
     "name": "stdout",
     "output_type": "stream",
     "text": [
      "\r",
      " 28%|███████████▎                            | 569/2019 [00:20<00:45, 31.56it/s]"
     ]
    },
    {
     "name": "stdout",
     "output_type": "stream",
     "text": [
      "\r",
      " 28%|███████████▎                            | 573/2019 [00:20<00:46, 31.17it/s]"
     ]
    },
    {
     "name": "stdout",
     "output_type": "stream",
     "text": [
      "\r",
      " 29%|███████████▍                            | 577/2019 [00:20<00:45, 31.98it/s]"
     ]
    },
    {
     "name": "stdout",
     "output_type": "stream",
     "text": [
      "\r",
      " 29%|███████████▌                            | 581/2019 [00:20<00:44, 32.06it/s]"
     ]
    },
    {
     "name": "stdout",
     "output_type": "stream",
     "text": [
      "\r",
      " 29%|███████████▌                            | 585/2019 [00:20<00:44, 31.91it/s]"
     ]
    },
    {
     "name": "stdout",
     "output_type": "stream",
     "text": [
      "\r",
      " 29%|███████████▋                            | 589/2019 [00:20<00:44, 31.80it/s]"
     ]
    },
    {
     "name": "stdout",
     "output_type": "stream",
     "text": [
      "\r",
      " 29%|███████████▋                            | 593/2019 [00:20<00:46, 30.44it/s]"
     ]
    },
    {
     "name": "stdout",
     "output_type": "stream",
     "text": [
      "\r",
      " 30%|███████████▊                            | 597/2019 [00:21<00:46, 30.57it/s]"
     ]
    },
    {
     "name": "stdout",
     "output_type": "stream",
     "text": [
      "\r",
      " 30%|███████████▉                            | 601/2019 [00:21<00:47, 30.05it/s]"
     ]
    },
    {
     "name": "stdout",
     "output_type": "stream",
     "text": [
      "\r",
      " 30%|███████████▉                            | 605/2019 [00:21<00:47, 29.92it/s]"
     ]
    },
    {
     "name": "stdout",
     "output_type": "stream",
     "text": [
      "\r",
      " 30%|████████████                            | 609/2019 [00:21<00:48, 29.33it/s]"
     ]
    },
    {
     "name": "stdout",
     "output_type": "stream",
     "text": [
      "\r",
      " 30%|████████████▏                           | 613/2019 [00:21<00:45, 30.89it/s]"
     ]
    },
    {
     "name": "stdout",
     "output_type": "stream",
     "text": [
      "\r",
      " 31%|████████████▏                           | 617/2019 [00:21<00:45, 30.87it/s]"
     ]
    },
    {
     "name": "stdout",
     "output_type": "stream",
     "text": [
      "\r",
      " 31%|████████████▎                           | 621/2019 [00:21<00:45, 30.64it/s]"
     ]
    },
    {
     "name": "stdout",
     "output_type": "stream",
     "text": [
      "\r",
      " 31%|████████████▍                           | 625/2019 [00:22<00:44, 31.53it/s]"
     ]
    },
    {
     "name": "stdout",
     "output_type": "stream",
     "text": [
      "\r",
      " 31%|████████████▍                           | 629/2019 [00:22<00:48, 28.41it/s]"
     ]
    },
    {
     "name": "stdout",
     "output_type": "stream",
     "text": [
      "\r",
      " 31%|████████████▌                           | 632/2019 [00:22<01:00, 22.92it/s]"
     ]
    },
    {
     "name": "stdout",
     "output_type": "stream",
     "text": [
      "\r",
      " 31%|████████████▌                           | 635/2019 [00:22<01:05, 21.29it/s]"
     ]
    },
    {
     "name": "stdout",
     "output_type": "stream",
     "text": [
      "\r",
      " 32%|████████████▋                           | 638/2019 [00:22<01:06, 20.74it/s]"
     ]
    },
    {
     "name": "stdout",
     "output_type": "stream",
     "text": [
      "\r",
      " 32%|████████████▋                           | 641/2019 [00:22<01:08, 20.24it/s]"
     ]
    },
    {
     "name": "stdout",
     "output_type": "stream",
     "text": [
      "\r",
      " 32%|████████████▊                           | 644/2019 [00:23<01:03, 21.63it/s]"
     ]
    },
    {
     "name": "stdout",
     "output_type": "stream",
     "text": [
      "\r",
      " 32%|████████████▊                           | 648/2019 [00:23<00:56, 24.44it/s]"
     ]
    },
    {
     "name": "stdout",
     "output_type": "stream",
     "text": [
      "\r",
      " 32%|████████████▉                           | 652/2019 [00:23<00:52, 25.97it/s]"
     ]
    },
    {
     "name": "stdout",
     "output_type": "stream",
     "text": [
      "\r",
      " 32%|████████████▉                           | 655/2019 [00:23<00:51, 26.61it/s]"
     ]
    },
    {
     "name": "stdout",
     "output_type": "stream",
     "text": [
      "\r",
      " 33%|█████████████                           | 659/2019 [00:23<00:47, 28.56it/s]"
     ]
    },
    {
     "name": "stdout",
     "output_type": "stream",
     "text": [
      "\r",
      " 33%|█████████████▏                          | 663/2019 [00:23<00:47, 28.81it/s]"
     ]
    },
    {
     "name": "stdout",
     "output_type": "stream",
     "text": [
      "\r",
      " 33%|█████████████▏                          | 667/2019 [00:23<00:45, 30.01it/s]"
     ]
    },
    {
     "name": "stdout",
     "output_type": "stream",
     "text": [
      "\r",
      " 33%|█████████████▎                          | 671/2019 [00:23<00:44, 30.53it/s]"
     ]
    },
    {
     "name": "stdout",
     "output_type": "stream",
     "text": [
      "\r",
      " 33%|█████████████▎                          | 675/2019 [00:23<00:42, 31.97it/s]"
     ]
    },
    {
     "name": "stdout",
     "output_type": "stream",
     "text": [
      "\r",
      " 34%|█████████████▍                          | 679/2019 [00:24<00:42, 31.82it/s]"
     ]
    },
    {
     "name": "stdout",
     "output_type": "stream",
     "text": [
      "\r",
      " 34%|█████████████▌                          | 683/2019 [00:24<00:43, 31.04it/s]"
     ]
    },
    {
     "name": "stdout",
     "output_type": "stream",
     "text": [
      "\r",
      " 34%|█████████████▌                          | 687/2019 [00:24<00:45, 28.98it/s]"
     ]
    },
    {
     "name": "stdout",
     "output_type": "stream",
     "text": [
      "\r",
      " 34%|█████████████▋                          | 690/2019 [00:24<00:47, 27.77it/s]"
     ]
    },
    {
     "name": "stdout",
     "output_type": "stream",
     "text": [
      "\r",
      " 34%|█████████████▋                          | 693/2019 [00:24<00:49, 26.67it/s]"
     ]
    },
    {
     "name": "stdout",
     "output_type": "stream",
     "text": [
      "\r",
      " 34%|█████████████▊                          | 696/2019 [00:24<00:50, 26.04it/s]"
     ]
    },
    {
     "name": "stdout",
     "output_type": "stream",
     "text": [
      "\r",
      " 35%|█████████████▊                          | 699/2019 [00:24<00:51, 25.65it/s]"
     ]
    },
    {
     "name": "stdout",
     "output_type": "stream",
     "text": [
      "\r",
      " 35%|█████████████▉                          | 702/2019 [00:25<00:51, 25.61it/s]"
     ]
    },
    {
     "name": "stdout",
     "output_type": "stream",
     "text": [
      "\r",
      " 35%|█████████████▉                          | 705/2019 [00:25<00:49, 26.66it/s]"
     ]
    },
    {
     "name": "stdout",
     "output_type": "stream",
     "text": [
      "\r",
      " 35%|██████████████                          | 708/2019 [00:25<00:51, 25.36it/s]"
     ]
    },
    {
     "name": "stdout",
     "output_type": "stream",
     "text": [
      "\r",
      " 35%|██████████████                          | 711/2019 [00:25<00:51, 25.31it/s]"
     ]
    },
    {
     "name": "stdout",
     "output_type": "stream",
     "text": [
      "\r",
      " 35%|██████████████▏                         | 714/2019 [00:25<00:49, 26.26it/s]"
     ]
    },
    {
     "name": "stdout",
     "output_type": "stream",
     "text": [
      "\r",
      " 36%|██████████████▏                         | 717/2019 [00:25<00:48, 26.64it/s]"
     ]
    },
    {
     "name": "stdout",
     "output_type": "stream",
     "text": [
      "\r",
      " 36%|██████████████▎                         | 720/2019 [00:25<00:48, 26.97it/s]"
     ]
    },
    {
     "name": "stdout",
     "output_type": "stream",
     "text": [
      "\r",
      " 36%|██████████████▎                         | 723/2019 [00:25<00:47, 27.57it/s]"
     ]
    },
    {
     "name": "stdout",
     "output_type": "stream",
     "text": [
      "\r",
      " 36%|██████████████▍                         | 726/2019 [00:25<00:46, 27.98it/s]"
     ]
    },
    {
     "name": "stdout",
     "output_type": "stream",
     "text": [
      "\r",
      " 36%|██████████████▍                         | 729/2019 [00:26<00:45, 28.27it/s]"
     ]
    },
    {
     "name": "stdout",
     "output_type": "stream",
     "text": [
      "\r",
      " 36%|██████████████▌                         | 733/2019 [00:26<00:43, 29.76it/s]"
     ]
    },
    {
     "name": "stdout",
     "output_type": "stream",
     "text": [
      "\r",
      " 36%|██████████████▌                         | 736/2019 [00:26<00:43, 29.22it/s]"
     ]
    },
    {
     "name": "stdout",
     "output_type": "stream",
     "text": [
      "\r",
      " 37%|██████████████▋                         | 739/2019 [00:26<00:44, 28.92it/s]"
     ]
    },
    {
     "name": "stdout",
     "output_type": "stream",
     "text": [
      "\r",
      " 37%|██████████████▋                         | 742/2019 [00:26<00:47, 27.03it/s]"
     ]
    },
    {
     "name": "stdout",
     "output_type": "stream",
     "text": [
      "\r",
      " 37%|██████████████▊                         | 746/2019 [00:26<00:45, 27.89it/s]"
     ]
    },
    {
     "name": "stdout",
     "output_type": "stream",
     "text": [
      "\r",
      " 37%|██████████████▊                         | 749/2019 [00:26<00:47, 26.78it/s]"
     ]
    },
    {
     "name": "stdout",
     "output_type": "stream",
     "text": [
      "\r",
      " 37%|██████████████▉                         | 752/2019 [00:26<00:49, 25.43it/s]"
     ]
    },
    {
     "name": "stdout",
     "output_type": "stream",
     "text": [
      "\r",
      " 37%|██████████████▉                         | 755/2019 [00:26<00:51, 24.75it/s]"
     ]
    },
    {
     "name": "stdout",
     "output_type": "stream",
     "text": [
      "\r",
      " 38%|███████████████                         | 758/2019 [00:27<00:49, 25.56it/s]"
     ]
    },
    {
     "name": "stdout",
     "output_type": "stream",
     "text": [
      "\r",
      " 38%|███████████████                         | 761/2019 [00:27<00:48, 26.20it/s]"
     ]
    },
    {
     "name": "stdout",
     "output_type": "stream",
     "text": [
      "\r",
      " 38%|███████████████▏                        | 765/2019 [00:27<00:45, 27.74it/s]"
     ]
    },
    {
     "name": "stdout",
     "output_type": "stream",
     "text": [
      "\r",
      " 38%|███████████████▏                        | 768/2019 [00:27<00:50, 24.96it/s]"
     ]
    },
    {
     "name": "stdout",
     "output_type": "stream",
     "text": [
      "\r",
      " 38%|███████████████▎                        | 771/2019 [00:27<00:50, 24.62it/s]"
     ]
    },
    {
     "name": "stdout",
     "output_type": "stream",
     "text": [
      "\r",
      " 38%|███████████████▎                        | 774/2019 [00:27<00:48, 25.48it/s]"
     ]
    },
    {
     "name": "stdout",
     "output_type": "stream",
     "text": [
      "\r",
      " 39%|███████████████▍                        | 778/2019 [00:27<00:46, 26.82it/s]"
     ]
    },
    {
     "name": "stdout",
     "output_type": "stream",
     "text": [
      "\r",
      " 39%|███████████████▍                        | 781/2019 [00:27<00:45, 27.27it/s]"
     ]
    },
    {
     "name": "stdout",
     "output_type": "stream",
     "text": [
      "\r",
      " 39%|███████████████▌                        | 784/2019 [00:28<00:46, 26.32it/s]"
     ]
    },
    {
     "name": "stdout",
     "output_type": "stream",
     "text": [
      "\r",
      " 39%|███████████████▌                        | 787/2019 [00:28<00:48, 25.29it/s]"
     ]
    },
    {
     "name": "stdout",
     "output_type": "stream",
     "text": [
      "\r",
      " 39%|███████████████▋                        | 790/2019 [00:28<00:47, 26.13it/s]"
     ]
    },
    {
     "name": "stdout",
     "output_type": "stream",
     "text": [
      "\r",
      " 39%|███████████████▋                        | 793/2019 [00:28<00:46, 26.64it/s]"
     ]
    },
    {
     "name": "stdout",
     "output_type": "stream",
     "text": [
      "\r",
      " 39%|███████████████▊                        | 796/2019 [00:28<00:46, 26.33it/s]"
     ]
    },
    {
     "name": "stdout",
     "output_type": "stream",
     "text": [
      "\r",
      " 40%|███████████████▊                        | 799/2019 [00:28<00:46, 26.27it/s]"
     ]
    },
    {
     "name": "stdout",
     "output_type": "stream",
     "text": [
      "\r",
      " 40%|███████████████▉                        | 802/2019 [00:28<00:46, 26.25it/s]"
     ]
    },
    {
     "name": "stdout",
     "output_type": "stream",
     "text": [
      "\r",
      " 40%|███████████████▉                        | 805/2019 [00:28<00:46, 26.29it/s]"
     ]
    },
    {
     "name": "stdout",
     "output_type": "stream",
     "text": [
      "\r",
      " 40%|████████████████                        | 808/2019 [00:28<00:44, 26.99it/s]"
     ]
    },
    {
     "name": "stdout",
     "output_type": "stream",
     "text": [
      "\r",
      " 40%|████████████████                        | 811/2019 [00:29<00:45, 26.75it/s]"
     ]
    },
    {
     "name": "stdout",
     "output_type": "stream",
     "text": [
      "\r",
      " 40%|████████████████▏                       | 814/2019 [00:29<00:44, 27.04it/s]"
     ]
    },
    {
     "name": "stdout",
     "output_type": "stream",
     "text": [
      "\r",
      " 41%|████████████████▏                       | 818/2019 [00:29<00:41, 28.62it/s]"
     ]
    },
    {
     "name": "stdout",
     "output_type": "stream",
     "text": [
      "\r",
      " 41%|████████████████▎                       | 822/2019 [00:29<00:39, 30.33it/s]"
     ]
    },
    {
     "name": "stdout",
     "output_type": "stream",
     "text": [
      "\r",
      " 41%|████████████████▎                       | 826/2019 [00:29<00:41, 28.86it/s]"
     ]
    },
    {
     "name": "stdout",
     "output_type": "stream",
     "text": [
      "\r",
      " 41%|████████████████▍                       | 830/2019 [00:29<00:39, 29.97it/s]"
     ]
    },
    {
     "name": "stdout",
     "output_type": "stream",
     "text": [
      "\r",
      " 41%|████████████████▌                       | 834/2019 [00:29<00:40, 29.06it/s]"
     ]
    },
    {
     "name": "stdout",
     "output_type": "stream",
     "text": [
      "\r",
      " 41%|████████████████▌                       | 837/2019 [00:29<00:40, 29.13it/s]"
     ]
    },
    {
     "name": "stdout",
     "output_type": "stream",
     "text": [
      "\r",
      " 42%|████████████████▋                       | 840/2019 [00:30<00:41, 28.32it/s]"
     ]
    },
    {
     "name": "stdout",
     "output_type": "stream",
     "text": [
      "\r",
      " 42%|████████████████▋                       | 843/2019 [00:30<00:42, 27.85it/s]"
     ]
    },
    {
     "name": "stdout",
     "output_type": "stream",
     "text": [
      "\r",
      " 42%|████████████████▊                       | 846/2019 [00:30<00:43, 26.87it/s]"
     ]
    },
    {
     "name": "stdout",
     "output_type": "stream",
     "text": [
      "\r",
      " 42%|████████████████▊                       | 849/2019 [00:30<00:42, 27.36it/s]"
     ]
    },
    {
     "name": "stdout",
     "output_type": "stream",
     "text": [
      "\r",
      " 42%|████████████████▉                       | 853/2019 [00:30<00:41, 27.86it/s]"
     ]
    },
    {
     "name": "stdout",
     "output_type": "stream",
     "text": [
      "\r",
      " 42%|████████████████▉                       | 857/2019 [00:30<00:40, 28.84it/s]"
     ]
    },
    {
     "name": "stdout",
     "output_type": "stream",
     "text": [
      "\r",
      " 43%|█████████████████                       | 860/2019 [00:30<00:40, 28.84it/s]"
     ]
    },
    {
     "name": "stdout",
     "output_type": "stream",
     "text": [
      "\r",
      " 43%|█████████████████                       | 863/2019 [00:30<00:41, 27.72it/s]"
     ]
    },
    {
     "name": "stdout",
     "output_type": "stream",
     "text": [
      "\r",
      " 43%|█████████████████▏                      | 866/2019 [00:31<01:01, 18.70it/s]"
     ]
    },
    {
     "name": "stdout",
     "output_type": "stream",
     "text": [
      "\r",
      " 43%|█████████████████▏                      | 869/2019 [00:31<00:55, 20.91it/s]"
     ]
    },
    {
     "name": "stdout",
     "output_type": "stream",
     "text": [
      "\r",
      " 43%|█████████████████▎                      | 873/2019 [00:31<00:47, 24.02it/s]"
     ]
    },
    {
     "name": "stdout",
     "output_type": "stream",
     "text": [
      "\r",
      " 43%|█████████████████▎                      | 877/2019 [00:31<00:44, 25.39it/s]"
     ]
    },
    {
     "name": "stdout",
     "output_type": "stream",
     "text": [
      "\r",
      " 44%|█████████████████▍                      | 881/2019 [00:31<00:40, 28.12it/s]"
     ]
    },
    {
     "name": "stdout",
     "output_type": "stream",
     "text": [
      "\r",
      " 44%|█████████████████▌                      | 885/2019 [00:31<00:38, 29.59it/s]"
     ]
    },
    {
     "name": "stdout",
     "output_type": "stream",
     "text": [
      "\r",
      " 44%|█████████████████▌                      | 889/2019 [00:31<00:36, 31.02it/s]"
     ]
    },
    {
     "name": "stdout",
     "output_type": "stream",
     "text": [
      "\r",
      " 44%|█████████████████▋                      | 893/2019 [00:32<00:37, 30.07it/s]"
     ]
    },
    {
     "name": "stdout",
     "output_type": "stream",
     "text": [
      "\r",
      " 44%|█████████████████▊                      | 897/2019 [00:32<00:36, 31.01it/s]"
     ]
    },
    {
     "name": "stdout",
     "output_type": "stream",
     "text": [
      "\r",
      " 45%|█████████████████▊                      | 901/2019 [00:32<00:34, 32.16it/s]"
     ]
    },
    {
     "name": "stdout",
     "output_type": "stream",
     "text": [
      "\r",
      " 45%|█████████████████▉                      | 905/2019 [00:32<00:34, 31.85it/s]"
     ]
    },
    {
     "name": "stdout",
     "output_type": "stream",
     "text": [
      "\r",
      " 45%|██████████████████                      | 909/2019 [00:32<00:36, 30.22it/s]"
     ]
    },
    {
     "name": "stdout",
     "output_type": "stream",
     "text": [
      "\r",
      " 45%|██████████████████                      | 913/2019 [00:32<00:35, 31.43it/s]"
     ]
    },
    {
     "name": "stdout",
     "output_type": "stream",
     "text": [
      "\r",
      " 45%|██████████████████▏                     | 917/2019 [00:32<00:36, 30.06it/s]"
     ]
    },
    {
     "name": "stdout",
     "output_type": "stream",
     "text": [
      "\r",
      " 46%|██████████████████▏                     | 921/2019 [00:32<00:35, 30.69it/s]"
     ]
    },
    {
     "name": "stdout",
     "output_type": "stream",
     "text": [
      "\r",
      " 46%|██████████████████▎                     | 925/2019 [00:33<00:35, 31.01it/s]"
     ]
    },
    {
     "name": "stdout",
     "output_type": "stream",
     "text": [
      "\r",
      " 46%|██████████████████▍                     | 929/2019 [00:33<00:37, 29.06it/s]"
     ]
    },
    {
     "name": "stdout",
     "output_type": "stream",
     "text": [
      "\r",
      " 46%|██████████████████▍                     | 932/2019 [00:33<00:38, 28.15it/s]"
     ]
    },
    {
     "name": "stdout",
     "output_type": "stream",
     "text": [
      "\r",
      " 46%|██████████████████▌                     | 935/2019 [00:33<00:39, 27.13it/s]"
     ]
    },
    {
     "name": "stdout",
     "output_type": "stream",
     "text": [
      "\r",
      " 46%|██████████████████▌                     | 938/2019 [00:33<00:39, 27.63it/s]"
     ]
    },
    {
     "name": "stdout",
     "output_type": "stream",
     "text": [
      "\r",
      " 47%|██████████████████▋                     | 942/2019 [00:33<00:36, 29.22it/s]"
     ]
    },
    {
     "name": "stdout",
     "output_type": "stream",
     "text": [
      "\r",
      " 47%|██████████████████▋                     | 946/2019 [00:33<00:35, 30.59it/s]"
     ]
    },
    {
     "name": "stdout",
     "output_type": "stream",
     "text": [
      "\r",
      " 47%|██████████████████▊                     | 950/2019 [00:33<00:35, 29.70it/s]"
     ]
    },
    {
     "name": "stdout",
     "output_type": "stream",
     "text": [
      "\r",
      " 47%|██████████████████▉                     | 954/2019 [00:34<00:34, 31.30it/s]"
     ]
    },
    {
     "name": "stdout",
     "output_type": "stream",
     "text": [
      "\r",
      " 47%|██████████████████▉                     | 958/2019 [00:34<00:36, 29.04it/s]"
     ]
    },
    {
     "name": "stdout",
     "output_type": "stream",
     "text": [
      "\r",
      " 48%|███████████████████                     | 961/2019 [00:34<00:36, 28.83it/s]"
     ]
    },
    {
     "name": "stdout",
     "output_type": "stream",
     "text": [
      "\r",
      " 48%|███████████████████                     | 964/2019 [00:34<00:38, 27.70it/s]"
     ]
    },
    {
     "name": "stdout",
     "output_type": "stream",
     "text": [
      "\r",
      " 48%|███████████████████▏                    | 968/2019 [00:34<00:36, 28.90it/s]"
     ]
    },
    {
     "name": "stdout",
     "output_type": "stream",
     "text": [
      "\r",
      " 48%|███████████████████▏                    | 971/2019 [00:34<00:39, 26.80it/s]"
     ]
    },
    {
     "name": "stdout",
     "output_type": "stream",
     "text": [
      "\r",
      " 48%|███████████████████▎                    | 974/2019 [00:34<00:38, 27.47it/s]"
     ]
    },
    {
     "name": "stdout",
     "output_type": "stream",
     "text": [
      "\r",
      " 48%|███████████████████▍                    | 978/2019 [00:34<00:35, 28.98it/s]"
     ]
    },
    {
     "name": "stdout",
     "output_type": "stream",
     "text": [
      "\r",
      " 49%|███████████████████▍                    | 982/2019 [00:35<00:35, 29.40it/s]"
     ]
    },
    {
     "name": "stdout",
     "output_type": "stream",
     "text": [
      "\r",
      " 49%|███████████████████▌                    | 985/2019 [00:35<00:37, 27.90it/s]"
     ]
    },
    {
     "name": "stdout",
     "output_type": "stream",
     "text": [
      "\r",
      " 49%|███████████████████▌                    | 988/2019 [00:35<00:37, 27.67it/s]"
     ]
    },
    {
     "name": "stdout",
     "output_type": "stream",
     "text": [
      "\r",
      " 49%|███████████████████▋                    | 992/2019 [00:35<00:36, 28.37it/s]"
     ]
    },
    {
     "name": "stdout",
     "output_type": "stream",
     "text": [
      "\r",
      " 49%|███████████████████▋                    | 995/2019 [00:35<00:36, 28.28it/s]"
     ]
    },
    {
     "name": "stdout",
     "output_type": "stream",
     "text": [
      "\r",
      " 49%|███████████████████▊                    | 998/2019 [00:35<00:36, 28.05it/s]"
     ]
    },
    {
     "name": "stdout",
     "output_type": "stream",
     "text": [
      "\r",
      " 50%|███████████████████▎                   | 1001/2019 [00:35<00:36, 28.26it/s]"
     ]
    },
    {
     "name": "stdout",
     "output_type": "stream",
     "text": [
      "\r",
      " 50%|███████████████████▍                   | 1004/2019 [00:35<00:36, 27.55it/s]"
     ]
    },
    {
     "name": "stdout",
     "output_type": "stream",
     "text": [
      "\r",
      " 50%|███████████████████▍                   | 1008/2019 [00:36<00:34, 28.94it/s]"
     ]
    },
    {
     "name": "stdout",
     "output_type": "stream",
     "text": [
      "\r",
      " 50%|███████████████████▌                   | 1011/2019 [00:36<00:36, 27.95it/s]"
     ]
    },
    {
     "name": "stdout",
     "output_type": "stream",
     "text": [
      "\r",
      " 50%|███████████████████▌                   | 1014/2019 [00:36<00:36, 27.80it/s]"
     ]
    },
    {
     "name": "stdout",
     "output_type": "stream",
     "text": [
      "\r",
      " 50%|███████████████████▋                   | 1018/2019 [00:36<00:35, 28.08it/s]"
     ]
    },
    {
     "name": "stdout",
     "output_type": "stream",
     "text": [
      "\r",
      " 51%|███████████████████▋                   | 1022/2019 [00:36<00:34, 28.97it/s]"
     ]
    },
    {
     "name": "stdout",
     "output_type": "stream",
     "text": [
      "\r",
      " 51%|███████████████████▊                   | 1026/2019 [00:36<00:32, 30.12it/s]"
     ]
    },
    {
     "name": "stdout",
     "output_type": "stream",
     "text": [
      "\r",
      " 51%|███████████████████▉                   | 1030/2019 [00:36<00:34, 28.44it/s]"
     ]
    },
    {
     "name": "stdout",
     "output_type": "stream",
     "text": [
      "\r",
      " 51%|███████████████████▉                   | 1033/2019 [00:36<00:36, 27.15it/s]"
     ]
    },
    {
     "name": "stdout",
     "output_type": "stream",
     "text": [
      "\r",
      " 51%|████████████████████                   | 1036/2019 [00:37<00:37, 26.35it/s]"
     ]
    },
    {
     "name": "stdout",
     "output_type": "stream",
     "text": [
      "\r",
      " 52%|████████████████████                   | 1040/2019 [00:37<00:34, 28.30it/s]"
     ]
    },
    {
     "name": "stdout",
     "output_type": "stream",
     "text": [
      "\r",
      " 52%|████████████████████▏                  | 1043/2019 [00:37<00:34, 28.09it/s]"
     ]
    },
    {
     "name": "stdout",
     "output_type": "stream",
     "text": [
      "\r",
      " 52%|████████████████████▏                  | 1047/2019 [00:37<00:33, 28.93it/s]"
     ]
    },
    {
     "name": "stdout",
     "output_type": "stream",
     "text": [
      "\r",
      " 52%|████████████████████▎                  | 1051/2019 [00:37<00:31, 30.59it/s]"
     ]
    },
    {
     "name": "stdout",
     "output_type": "stream",
     "text": [
      "\r",
      " 52%|████████████████████▍                  | 1055/2019 [00:37<00:32, 29.90it/s]"
     ]
    },
    {
     "name": "stdout",
     "output_type": "stream",
     "text": [
      "\r",
      " 52%|████████████████████▍                  | 1059/2019 [00:37<00:30, 31.54it/s]"
     ]
    },
    {
     "name": "stdout",
     "output_type": "stream",
     "text": [
      "\r",
      " 53%|████████████████████▌                  | 1063/2019 [00:37<00:29, 31.98it/s]"
     ]
    },
    {
     "name": "stdout",
     "output_type": "stream",
     "text": [
      "\r",
      " 53%|████████████████████▌                  | 1067/2019 [00:38<00:30, 31.52it/s]"
     ]
    },
    {
     "name": "stdout",
     "output_type": "stream",
     "text": [
      "\r",
      " 53%|████████████████████▋                  | 1071/2019 [00:38<00:29, 32.45it/s]"
     ]
    },
    {
     "name": "stdout",
     "output_type": "stream",
     "text": [
      "\r",
      " 53%|████████████████████▊                  | 1075/2019 [00:38<00:28, 33.21it/s]"
     ]
    },
    {
     "name": "stdout",
     "output_type": "stream",
     "text": [
      "\r",
      " 53%|████████████████████▊                  | 1079/2019 [00:38<00:29, 31.62it/s]"
     ]
    },
    {
     "name": "stdout",
     "output_type": "stream",
     "text": [
      "\r",
      " 54%|████████████████████▉                  | 1083/2019 [00:38<00:29, 31.77it/s]"
     ]
    },
    {
     "name": "stdout",
     "output_type": "stream",
     "text": [
      "\r",
      " 54%|████████████████████▉                  | 1087/2019 [00:38<00:28, 32.34it/s]"
     ]
    },
    {
     "name": "stdout",
     "output_type": "stream",
     "text": [
      "\r",
      " 54%|█████████████████████                  | 1091/2019 [00:38<00:29, 31.18it/s]"
     ]
    },
    {
     "name": "stdout",
     "output_type": "stream",
     "text": [
      "\r",
      " 54%|█████████████████████▏                 | 1095/2019 [00:38<00:28, 32.07it/s]"
     ]
    },
    {
     "name": "stdout",
     "output_type": "stream",
     "text": [
      "\r",
      " 54%|█████████████████████▏                 | 1099/2019 [00:39<00:29, 31.50it/s]"
     ]
    },
    {
     "name": "stdout",
     "output_type": "stream",
     "text": [
      "\r",
      " 55%|█████████████████████▎                 | 1103/2019 [00:39<00:27, 32.75it/s]"
     ]
    },
    {
     "name": "stdout",
     "output_type": "stream",
     "text": [
      "\r",
      " 55%|█████████████████████▍                 | 1107/2019 [00:39<00:27, 32.90it/s]"
     ]
    },
    {
     "name": "stdout",
     "output_type": "stream",
     "text": [
      "\r",
      " 55%|█████████████████████▍                 | 1111/2019 [00:39<00:27, 33.01it/s]"
     ]
    },
    {
     "name": "stdout",
     "output_type": "stream",
     "text": [
      "\r",
      " 55%|█████████████████████▌                 | 1115/2019 [00:39<00:28, 31.64it/s]"
     ]
    },
    {
     "name": "stdout",
     "output_type": "stream",
     "text": [
      "\r",
      " 55%|█████████████████████▌                 | 1119/2019 [00:39<00:30, 29.85it/s]"
     ]
    },
    {
     "name": "stdout",
     "output_type": "stream",
     "text": [
      "\r",
      " 56%|█████████████████████▋                 | 1123/2019 [00:39<00:30, 29.85it/s]"
     ]
    },
    {
     "name": "stdout",
     "output_type": "stream",
     "text": [
      "\r",
      " 56%|█████████████████████▊                 | 1127/2019 [00:39<00:29, 30.75it/s]"
     ]
    },
    {
     "name": "stdout",
     "output_type": "stream",
     "text": [
      "\r",
      " 56%|█████████████████████▊                 | 1131/2019 [00:40<00:28, 31.43it/s]"
     ]
    },
    {
     "name": "stdout",
     "output_type": "stream",
     "text": [
      "\r",
      " 56%|█████████████████████▉                 | 1135/2019 [00:40<00:27, 31.87it/s]"
     ]
    },
    {
     "name": "stdout",
     "output_type": "stream",
     "text": [
      "\r",
      " 56%|██████████████████████                 | 1139/2019 [00:40<00:27, 31.92it/s]"
     ]
    },
    {
     "name": "stdout",
     "output_type": "stream",
     "text": [
      "\r",
      " 57%|██████████████████████                 | 1143/2019 [00:40<00:27, 32.15it/s]"
     ]
    },
    {
     "name": "stdout",
     "output_type": "stream",
     "text": [
      "\r",
      " 57%|██████████████████████▏                | 1147/2019 [00:40<00:28, 31.02it/s]"
     ]
    },
    {
     "name": "stdout",
     "output_type": "stream",
     "text": [
      "\r",
      " 57%|██████████████████████▏                | 1151/2019 [00:40<00:27, 31.77it/s]"
     ]
    },
    {
     "name": "stdout",
     "output_type": "stream",
     "text": [
      "\r",
      " 57%|██████████████████████▎                | 1155/2019 [00:40<00:27, 31.07it/s]"
     ]
    },
    {
     "name": "stdout",
     "output_type": "stream",
     "text": [
      "\r",
      " 57%|██████████████████████▍                | 1159/2019 [00:40<00:27, 31.71it/s]"
     ]
    },
    {
     "name": "stdout",
     "output_type": "stream",
     "text": [
      "\r",
      " 58%|██████████████████████▍                | 1163/2019 [00:41<00:26, 32.86it/s]"
     ]
    },
    {
     "name": "stdout",
     "output_type": "stream",
     "text": [
      "\r",
      " 58%|██████████████████████▌                | 1167/2019 [00:41<00:25, 33.11it/s]"
     ]
    },
    {
     "name": "stdout",
     "output_type": "stream",
     "text": [
      "\r",
      " 58%|██████████████████████▌                | 1171/2019 [00:41<00:25, 33.35it/s]"
     ]
    },
    {
     "name": "stdout",
     "output_type": "stream",
     "text": [
      "\r",
      " 58%|██████████████████████▋                | 1175/2019 [00:41<00:26, 32.22it/s]"
     ]
    },
    {
     "name": "stdout",
     "output_type": "stream",
     "text": [
      "\r",
      " 58%|██████████████████████▊                | 1179/2019 [00:41<00:26, 31.18it/s]"
     ]
    },
    {
     "name": "stdout",
     "output_type": "stream",
     "text": [
      "\r",
      " 59%|██████████████████████▊                | 1183/2019 [00:41<00:27, 30.50it/s]"
     ]
    },
    {
     "name": "stdout",
     "output_type": "stream",
     "text": [
      "\r",
      " 59%|██████████████████████▉                | 1187/2019 [00:41<00:26, 30.82it/s]"
     ]
    },
    {
     "name": "stdout",
     "output_type": "stream",
     "text": [
      "\r",
      " 59%|███████████████████████                | 1191/2019 [00:41<00:26, 31.79it/s]"
     ]
    },
    {
     "name": "stdout",
     "output_type": "stream",
     "text": [
      "\r",
      " 59%|███████████████████████                | 1195/2019 [00:42<00:26, 31.56it/s]"
     ]
    },
    {
     "name": "stdout",
     "output_type": "stream",
     "text": [
      "\r",
      " 59%|███████████████████████▏               | 1199/2019 [00:42<00:27, 30.21it/s]"
     ]
    },
    {
     "name": "stdout",
     "output_type": "stream",
     "text": [
      "\r",
      " 60%|███████████████████████▏               | 1203/2019 [00:42<00:26, 30.45it/s]"
     ]
    },
    {
     "name": "stdout",
     "output_type": "stream",
     "text": [
      "\r",
      " 60%|███████████████████████▎               | 1207/2019 [00:42<00:26, 30.54it/s]"
     ]
    },
    {
     "name": "stdout",
     "output_type": "stream",
     "text": [
      "\r",
      " 60%|███████████████████████▍               | 1211/2019 [00:42<00:26, 30.04it/s]"
     ]
    },
    {
     "name": "stdout",
     "output_type": "stream",
     "text": [
      "\r",
      " 60%|███████████████████████▍               | 1215/2019 [00:42<00:25, 31.02it/s]"
     ]
    },
    {
     "name": "stdout",
     "output_type": "stream",
     "text": [
      "\r",
      " 60%|███████████████████████▌               | 1219/2019 [00:42<00:24, 32.18it/s]"
     ]
    },
    {
     "name": "stdout",
     "output_type": "stream",
     "text": [
      "\r",
      " 61%|███████████████████████▌               | 1223/2019 [00:42<00:26, 30.35it/s]"
     ]
    },
    {
     "name": "stdout",
     "output_type": "stream",
     "text": [
      "\r",
      " 61%|███████████████████████▋               | 1227/2019 [00:43<00:26, 30.16it/s]"
     ]
    },
    {
     "name": "stdout",
     "output_type": "stream",
     "text": [
      "\r",
      " 61%|███████████████████████▊               | 1231/2019 [00:43<00:25, 30.60it/s]"
     ]
    },
    {
     "name": "stdout",
     "output_type": "stream",
     "text": [
      "\r",
      " 61%|███████████████████████▊               | 1235/2019 [00:43<00:25, 30.75it/s]"
     ]
    },
    {
     "name": "stdout",
     "output_type": "stream",
     "text": [
      "\r",
      " 61%|███████████████████████▉               | 1239/2019 [00:43<00:24, 31.63it/s]"
     ]
    },
    {
     "name": "stdout",
     "output_type": "stream",
     "text": [
      "\r",
      " 62%|████████████████████████               | 1243/2019 [00:43<00:24, 31.16it/s]"
     ]
    },
    {
     "name": "stdout",
     "output_type": "stream",
     "text": [
      "\r",
      " 62%|████████████████████████               | 1247/2019 [00:43<00:25, 29.72it/s]"
     ]
    },
    {
     "name": "stdout",
     "output_type": "stream",
     "text": [
      "\r",
      " 62%|████████████████████████▏              | 1250/2019 [00:43<00:26, 29.36it/s]"
     ]
    },
    {
     "name": "stdout",
     "output_type": "stream",
     "text": [
      "\r",
      " 62%|████████████████████████▏              | 1254/2019 [00:44<00:25, 30.04it/s]"
     ]
    },
    {
     "name": "stdout",
     "output_type": "stream",
     "text": [
      "\r",
      " 62%|████████████████████████▎              | 1258/2019 [00:44<00:25, 30.30it/s]"
     ]
    },
    {
     "name": "stdout",
     "output_type": "stream",
     "text": [
      "\r",
      " 63%|████████████████████████▍              | 1262/2019 [00:44<00:26, 28.06it/s]"
     ]
    },
    {
     "name": "stdout",
     "output_type": "stream",
     "text": [
      "\r",
      " 63%|████████████████████████▍              | 1265/2019 [00:44<00:27, 27.06it/s]"
     ]
    },
    {
     "name": "stdout",
     "output_type": "stream",
     "text": [
      "\r",
      " 63%|████████████████████████▍              | 1268/2019 [00:44<00:28, 26.17it/s]"
     ]
    },
    {
     "name": "stdout",
     "output_type": "stream",
     "text": [
      "\r",
      " 63%|████████████████████████▌              | 1272/2019 [00:44<00:26, 28.32it/s]"
     ]
    },
    {
     "name": "stdout",
     "output_type": "stream",
     "text": [
      "\r",
      " 63%|████████████████████████▋              | 1276/2019 [00:44<00:25, 28.85it/s]"
     ]
    },
    {
     "name": "stdout",
     "output_type": "stream",
     "text": [
      "\r",
      " 63%|████████████████████████▋              | 1279/2019 [00:44<00:25, 28.52it/s]"
     ]
    },
    {
     "name": "stdout",
     "output_type": "stream",
     "text": [
      "\r",
      " 63%|████████████████████████▊              | 1282/2019 [00:45<00:25, 28.37it/s]"
     ]
    },
    {
     "name": "stdout",
     "output_type": "stream",
     "text": [
      "\r",
      " 64%|████████████████████████▊              | 1285/2019 [00:45<00:26, 28.14it/s]"
     ]
    },
    {
     "name": "stdout",
     "output_type": "stream",
     "text": [
      "\r",
      " 64%|████████████████████████▉              | 1288/2019 [00:45<00:26, 27.31it/s]"
     ]
    },
    {
     "name": "stdout",
     "output_type": "stream",
     "text": [
      "\r",
      " 64%|████████████████████████▉              | 1292/2019 [00:45<00:25, 28.75it/s]"
     ]
    },
    {
     "name": "stdout",
     "output_type": "stream",
     "text": [
      "\r",
      " 64%|█████████████████████████              | 1295/2019 [00:45<00:25, 28.72it/s]"
     ]
    },
    {
     "name": "stdout",
     "output_type": "stream",
     "text": [
      "\r",
      " 64%|█████████████████████████              | 1298/2019 [00:45<00:25, 28.29it/s]"
     ]
    },
    {
     "name": "stdout",
     "output_type": "stream",
     "text": [
      "\r",
      " 64%|█████████████████████████▏             | 1302/2019 [00:45<00:24, 28.69it/s]"
     ]
    },
    {
     "name": "stdout",
     "output_type": "stream",
     "text": [
      "\r",
      " 65%|█████████████████████████▏             | 1305/2019 [00:45<00:25, 28.27it/s]"
     ]
    },
    {
     "name": "stdout",
     "output_type": "stream",
     "text": [
      "\r",
      " 65%|█████████████████████████▎             | 1308/2019 [00:45<00:26, 27.00it/s]"
     ]
    },
    {
     "name": "stdout",
     "output_type": "stream",
     "text": [
      "\r",
      " 65%|█████████████████████████▎             | 1311/2019 [00:46<00:27, 26.03it/s]"
     ]
    },
    {
     "name": "stdout",
     "output_type": "stream",
     "text": [
      "\r",
      " 65%|█████████████████████████▍             | 1314/2019 [00:46<00:26, 26.81it/s]"
     ]
    },
    {
     "name": "stdout",
     "output_type": "stream",
     "text": [
      "\r",
      " 65%|█████████████████████████▍             | 1318/2019 [00:46<00:24, 28.29it/s]"
     ]
    },
    {
     "name": "stdout",
     "output_type": "stream",
     "text": [
      "\r",
      " 65%|█████████████████████████▌             | 1322/2019 [00:46<00:23, 29.88it/s]"
     ]
    },
    {
     "name": "stdout",
     "output_type": "stream",
     "text": [
      "\r",
      " 66%|█████████████████████████▌             | 1325/2019 [00:46<00:23, 28.94it/s]"
     ]
    },
    {
     "name": "stdout",
     "output_type": "stream",
     "text": [
      "\r",
      " 66%|█████████████████████████▋             | 1328/2019 [00:46<00:23, 28.91it/s]"
     ]
    },
    {
     "name": "stdout",
     "output_type": "stream",
     "text": [
      "\r",
      " 66%|█████████████████████████▋             | 1332/2019 [00:46<00:23, 28.99it/s]"
     ]
    },
    {
     "name": "stdout",
     "output_type": "stream",
     "text": [
      "\r",
      " 66%|█████████████████████████▊             | 1336/2019 [00:46<00:22, 30.61it/s]"
     ]
    },
    {
     "name": "stdout",
     "output_type": "stream",
     "text": [
      "\r",
      " 66%|█████████████████████████▉             | 1340/2019 [00:47<00:21, 30.98it/s]"
     ]
    },
    {
     "name": "stdout",
     "output_type": "stream",
     "text": [
      "\r",
      " 67%|█████████████████████████▉             | 1344/2019 [00:47<00:21, 31.02it/s]"
     ]
    },
    {
     "name": "stdout",
     "output_type": "stream",
     "text": [
      "\r",
      " 67%|██████████████████████████             | 1348/2019 [00:47<00:21, 30.55it/s]"
     ]
    },
    {
     "name": "stdout",
     "output_type": "stream",
     "text": [
      "\r",
      " 67%|██████████████████████████             | 1352/2019 [00:47<00:22, 29.08it/s]"
     ]
    },
    {
     "name": "stdout",
     "output_type": "stream",
     "text": [
      "\r",
      " 67%|██████████████████████████▏            | 1356/2019 [00:47<00:22, 29.89it/s]"
     ]
    },
    {
     "name": "stdout",
     "output_type": "stream",
     "text": [
      "\r",
      " 67%|██████████████████████████▎            | 1360/2019 [00:47<00:22, 29.52it/s]"
     ]
    },
    {
     "name": "stdout",
     "output_type": "stream",
     "text": [
      "\r",
      " 68%|██████████████████████████▎            | 1364/2019 [00:47<00:21, 30.24it/s]"
     ]
    },
    {
     "name": "stdout",
     "output_type": "stream",
     "text": [
      "\r",
      " 68%|██████████████████████████▍            | 1368/2019 [00:47<00:21, 30.37it/s]"
     ]
    },
    {
     "name": "stdout",
     "output_type": "stream",
     "text": [
      "\r",
      " 68%|██████████████████████████▌            | 1372/2019 [00:48<00:21, 29.45it/s]"
     ]
    },
    {
     "name": "stdout",
     "output_type": "stream",
     "text": [
      "\r",
      " 68%|██████████████████████████▌            | 1376/2019 [00:48<00:21, 30.10it/s]"
     ]
    },
    {
     "name": "stdout",
     "output_type": "stream",
     "text": [
      "\r",
      " 68%|██████████████████████████▋            | 1380/2019 [00:48<00:20, 30.70it/s]"
     ]
    },
    {
     "name": "stdout",
     "output_type": "stream",
     "text": [
      "\r",
      " 69%|██████████████████████████▋            | 1384/2019 [00:48<00:21, 29.98it/s]"
     ]
    },
    {
     "name": "stdout",
     "output_type": "stream",
     "text": [
      "\r",
      " 69%|██████████████████████████▊            | 1388/2019 [00:48<00:20, 30.68it/s]"
     ]
    },
    {
     "name": "stdout",
     "output_type": "stream",
     "text": [
      "\r",
      " 69%|██████████████████████████▉            | 1392/2019 [00:48<00:19, 31.37it/s]"
     ]
    },
    {
     "name": "stdout",
     "output_type": "stream",
     "text": [
      "\r",
      " 69%|██████████████████████████▉            | 1396/2019 [00:48<00:19, 31.99it/s]"
     ]
    },
    {
     "name": "stdout",
     "output_type": "stream",
     "text": [
      "\r",
      " 69%|███████████████████████████            | 1400/2019 [00:48<00:19, 31.75it/s]"
     ]
    },
    {
     "name": "stdout",
     "output_type": "stream",
     "text": [
      "\r",
      " 70%|███████████████████████████            | 1404/2019 [00:49<00:19, 31.18it/s]"
     ]
    },
    {
     "name": "stdout",
     "output_type": "stream",
     "text": [
      "\r",
      " 70%|███████████████████████████▏           | 1408/2019 [00:49<00:19, 31.80it/s]"
     ]
    },
    {
     "name": "stdout",
     "output_type": "stream",
     "text": [
      "\r",
      " 70%|███████████████████████████▎           | 1412/2019 [00:49<00:18, 32.09it/s]"
     ]
    },
    {
     "name": "stdout",
     "output_type": "stream",
     "text": [
      "\r",
      " 70%|███████████████████████████▎           | 1416/2019 [00:49<00:18, 32.71it/s]"
     ]
    },
    {
     "name": "stdout",
     "output_type": "stream",
     "text": [
      "\r",
      " 70%|███████████████████████████▍           | 1420/2019 [00:49<00:18, 32.72it/s]"
     ]
    },
    {
     "name": "stdout",
     "output_type": "stream",
     "text": [
      "\r",
      " 71%|███████████████████████████▌           | 1424/2019 [00:49<00:17, 33.16it/s]"
     ]
    },
    {
     "name": "stdout",
     "output_type": "stream",
     "text": [
      "\r",
      " 71%|███████████████████████████▌           | 1428/2019 [00:49<00:17, 34.02it/s]"
     ]
    },
    {
     "name": "stdout",
     "output_type": "stream",
     "text": [
      "\r",
      " 71%|███████████████████████████▋           | 1432/2019 [00:49<00:17, 33.13it/s]"
     ]
    },
    {
     "name": "stdout",
     "output_type": "stream",
     "text": [
      "\r",
      " 71%|███████████████████████████▋           | 1436/2019 [00:50<00:17, 33.55it/s]"
     ]
    },
    {
     "name": "stdout",
     "output_type": "stream",
     "text": [
      "\r",
      " 71%|███████████████████████████▊           | 1440/2019 [00:50<00:18, 30.49it/s]"
     ]
    },
    {
     "name": "stdout",
     "output_type": "stream",
     "text": [
      "\r",
      " 72%|███████████████████████████▉           | 1444/2019 [00:50<00:19, 30.04it/s]"
     ]
    },
    {
     "name": "stdout",
     "output_type": "stream",
     "text": [
      "\r",
      " 72%|███████████████████████████▉           | 1448/2019 [00:50<00:18, 30.24it/s]"
     ]
    },
    {
     "name": "stdout",
     "output_type": "stream",
     "text": [
      "\r",
      " 72%|████████████████████████████           | 1452/2019 [00:50<00:19, 28.75it/s]"
     ]
    },
    {
     "name": "stdout",
     "output_type": "stream",
     "text": [
      "\r",
      " 72%|████████████████████████████           | 1456/2019 [00:50<00:19, 29.51it/s]"
     ]
    },
    {
     "name": "stdout",
     "output_type": "stream",
     "text": [
      "\r",
      " 72%|████████████████████████████▏          | 1459/2019 [00:50<00:18, 29.49it/s]"
     ]
    },
    {
     "name": "stdout",
     "output_type": "stream",
     "text": [
      "\r",
      " 72%|████████████████████████████▎          | 1463/2019 [00:50<00:18, 30.70it/s]"
     ]
    },
    {
     "name": "stdout",
     "output_type": "stream",
     "text": [
      "\r",
      " 73%|████████████████████████████▎          | 1467/2019 [00:51<00:18, 30.34it/s]"
     ]
    },
    {
     "name": "stdout",
     "output_type": "stream",
     "text": [
      "\r",
      " 73%|████████████████████████████▍          | 1471/2019 [00:51<00:18, 29.46it/s]"
     ]
    },
    {
     "name": "stdout",
     "output_type": "stream",
     "text": [
      "\r",
      " 73%|████████████████████████████▍          | 1474/2019 [00:51<00:19, 28.39it/s]"
     ]
    },
    {
     "name": "stdout",
     "output_type": "stream",
     "text": [
      "\r",
      " 73%|████████████████████████████▌          | 1477/2019 [00:51<00:19, 27.40it/s]"
     ]
    },
    {
     "name": "stdout",
     "output_type": "stream",
     "text": [
      "\r",
      " 73%|████████████████████████████▌          | 1481/2019 [00:51<00:18, 28.39it/s]"
     ]
    },
    {
     "name": "stdout",
     "output_type": "stream",
     "text": [
      "\r",
      " 74%|████████████████████████████▋          | 1484/2019 [00:51<00:19, 26.79it/s]"
     ]
    },
    {
     "name": "stdout",
     "output_type": "stream",
     "text": [
      "\r",
      " 74%|████████████████████████████▋          | 1487/2019 [00:51<00:19, 27.35it/s]"
     ]
    },
    {
     "name": "stdout",
     "output_type": "stream",
     "text": [
      "\r",
      " 74%|████████████████████████████▊          | 1491/2019 [00:52<00:18, 29.21it/s]"
     ]
    },
    {
     "name": "stdout",
     "output_type": "stream",
     "text": [
      "\r",
      " 74%|████████████████████████████▊          | 1494/2019 [00:52<00:18, 28.01it/s]"
     ]
    },
    {
     "name": "stdout",
     "output_type": "stream",
     "text": [
      "\r",
      " 74%|████████████████████████████▉          | 1497/2019 [00:52<00:18, 28.32it/s]"
     ]
    },
    {
     "name": "stdout",
     "output_type": "stream",
     "text": [
      "\r",
      " 74%|████████████████████████████▉          | 1500/2019 [00:52<00:18, 27.80it/s]"
     ]
    },
    {
     "name": "stdout",
     "output_type": "stream",
     "text": [
      "\r",
      " 74%|█████████████████████████████          | 1503/2019 [00:52<00:20, 25.78it/s]"
     ]
    },
    {
     "name": "stdout",
     "output_type": "stream",
     "text": [
      "\r",
      " 75%|█████████████████████████████          | 1506/2019 [00:52<00:20, 25.55it/s]"
     ]
    },
    {
     "name": "stdout",
     "output_type": "stream",
     "text": [
      "\r",
      " 75%|█████████████████████████████▏         | 1510/2019 [00:52<00:18, 27.29it/s]"
     ]
    },
    {
     "name": "stdout",
     "output_type": "stream",
     "text": [
      "\r",
      " 75%|█████████████████████████████▏         | 1513/2019 [00:52<00:18, 27.82it/s]"
     ]
    },
    {
     "name": "stdout",
     "output_type": "stream",
     "text": [
      "\r",
      " 75%|█████████████████████████████▎         | 1516/2019 [00:52<00:17, 28.26it/s]"
     ]
    },
    {
     "name": "stdout",
     "output_type": "stream",
     "text": [
      "\r",
      " 75%|█████████████████████████████▎         | 1519/2019 [00:53<00:17, 28.29it/s]"
     ]
    },
    {
     "name": "stdout",
     "output_type": "stream",
     "text": [
      "\r",
      " 75%|█████████████████████████████▍         | 1523/2019 [00:53<00:16, 29.52it/s]"
     ]
    },
    {
     "name": "stdout",
     "output_type": "stream",
     "text": [
      "\r",
      " 76%|█████████████████████████████▍         | 1526/2019 [00:53<00:16, 29.58it/s]"
     ]
    },
    {
     "name": "stdout",
     "output_type": "stream",
     "text": [
      "\r",
      " 76%|█████████████████████████████▌         | 1529/2019 [00:53<00:16, 29.65it/s]"
     ]
    },
    {
     "name": "stdout",
     "output_type": "stream",
     "text": [
      "\r",
      " 76%|█████████████████████████████▌         | 1533/2019 [00:53<00:16, 30.11it/s]"
     ]
    },
    {
     "name": "stdout",
     "output_type": "stream",
     "text": [
      "\r",
      " 76%|█████████████████████████████▋         | 1537/2019 [00:53<00:16, 29.57it/s]"
     ]
    },
    {
     "name": "stdout",
     "output_type": "stream",
     "text": [
      "\r",
      " 76%|█████████████████████████████▋         | 1540/2019 [00:53<00:16, 29.51it/s]"
     ]
    },
    {
     "name": "stdout",
     "output_type": "stream",
     "text": [
      "\r",
      " 76%|█████████████████████████████▊         | 1544/2019 [00:53<00:16, 29.65it/s]"
     ]
    },
    {
     "name": "stdout",
     "output_type": "stream",
     "text": [
      "\r",
      " 77%|█████████████████████████████▉         | 1548/2019 [00:53<00:15, 29.88it/s]"
     ]
    },
    {
     "name": "stdout",
     "output_type": "stream",
     "text": [
      "\r",
      " 77%|█████████████████████████████▉         | 1551/2019 [00:54<00:16, 28.51it/s]"
     ]
    },
    {
     "name": "stdout",
     "output_type": "stream",
     "text": [
      "\r",
      " 77%|██████████████████████████████         | 1554/2019 [00:54<00:16, 27.69it/s]"
     ]
    },
    {
     "name": "stdout",
     "output_type": "stream",
     "text": [
      "\r",
      " 77%|██████████████████████████████         | 1558/2019 [00:54<00:16, 28.53it/s]"
     ]
    },
    {
     "name": "stdout",
     "output_type": "stream",
     "text": [
      "\r",
      " 77%|██████████████████████████████▏        | 1562/2019 [00:54<00:15, 29.06it/s]"
     ]
    },
    {
     "name": "stdout",
     "output_type": "stream",
     "text": [
      "\r",
      " 78%|██████████████████████████████▏        | 1566/2019 [00:54<00:15, 29.62it/s]"
     ]
    },
    {
     "name": "stdout",
     "output_type": "stream",
     "text": [
      "\r",
      " 78%|██████████████████████████████▎        | 1570/2019 [00:54<00:14, 29.95it/s]"
     ]
    },
    {
     "name": "stdout",
     "output_type": "stream",
     "text": [
      "\r",
      " 78%|██████████████████████████████▍        | 1574/2019 [00:54<00:14, 31.05it/s]"
     ]
    },
    {
     "name": "stdout",
     "output_type": "stream",
     "text": [
      "\r",
      " 78%|██████████████████████████████▍        | 1578/2019 [00:55<00:14, 30.49it/s]"
     ]
    },
    {
     "name": "stdout",
     "output_type": "stream",
     "text": [
      "\r",
      " 78%|██████████████████████████████▌        | 1582/2019 [00:55<00:15, 28.37it/s]"
     ]
    },
    {
     "name": "stdout",
     "output_type": "stream",
     "text": [
      "\r",
      " 79%|██████████████████████████████▌        | 1585/2019 [00:55<00:16, 26.04it/s]"
     ]
    },
    {
     "name": "stdout",
     "output_type": "stream",
     "text": [
      "\r",
      " 79%|██████████████████████████████▋        | 1588/2019 [00:55<00:17, 24.07it/s]"
     ]
    },
    {
     "name": "stdout",
     "output_type": "stream",
     "text": [
      "\r",
      " 79%|██████████████████████████████▋        | 1591/2019 [00:55<00:18, 23.14it/s]"
     ]
    },
    {
     "name": "stdout",
     "output_type": "stream",
     "text": [
      "\r",
      " 79%|██████████████████████████████▊        | 1594/2019 [00:55<00:19, 22.12it/s]"
     ]
    },
    {
     "name": "stdout",
     "output_type": "stream",
     "text": [
      "\r",
      " 79%|██████████████████████████████▊        | 1597/2019 [00:55<00:19, 21.46it/s]"
     ]
    },
    {
     "name": "stdout",
     "output_type": "stream",
     "text": [
      "\r",
      " 79%|██████████████████████████████▉        | 1600/2019 [00:56<00:18, 23.18it/s]"
     ]
    },
    {
     "name": "stdout",
     "output_type": "stream",
     "text": [
      "\r",
      " 79%|██████████████████████████████▉        | 1603/2019 [00:56<00:17, 24.36it/s]"
     ]
    },
    {
     "name": "stdout",
     "output_type": "stream",
     "text": [
      "\r",
      " 80%|███████████████████████████████        | 1607/2019 [00:56<00:15, 26.49it/s]"
     ]
    },
    {
     "name": "stdout",
     "output_type": "stream",
     "text": [
      "\r",
      " 80%|███████████████████████████████        | 1610/2019 [00:56<00:15, 27.11it/s]"
     ]
    },
    {
     "name": "stdout",
     "output_type": "stream",
     "text": [
      "\r",
      " 80%|███████████████████████████████▏       | 1614/2019 [00:56<00:14, 28.21it/s]"
     ]
    },
    {
     "name": "stdout",
     "output_type": "stream",
     "text": [
      "\r",
      " 80%|███████████████████████████████▎       | 1618/2019 [00:56<00:13, 28.66it/s]"
     ]
    },
    {
     "name": "stdout",
     "output_type": "stream",
     "text": [
      "\r",
      " 80%|███████████████████████████████▎       | 1622/2019 [00:56<00:13, 30.01it/s]"
     ]
    },
    {
     "name": "stdout",
     "output_type": "stream",
     "text": [
      "\r",
      " 81%|███████████████████████████████▍       | 1626/2019 [00:56<00:12, 31.01it/s]"
     ]
    },
    {
     "name": "stdout",
     "output_type": "stream",
     "text": [
      "\r",
      " 81%|███████████████████████████████▍       | 1630/2019 [00:56<00:12, 31.65it/s]"
     ]
    },
    {
     "name": "stdout",
     "output_type": "stream",
     "text": [
      "\r",
      " 81%|███████████████████████████████▌       | 1634/2019 [00:57<00:11, 32.13it/s]"
     ]
    },
    {
     "name": "stdout",
     "output_type": "stream",
     "text": [
      "\r",
      " 81%|███████████████████████████████▋       | 1638/2019 [00:57<00:11, 32.10it/s]"
     ]
    },
    {
     "name": "stdout",
     "output_type": "stream",
     "text": [
      "\r",
      " 81%|███████████████████████████████▋       | 1642/2019 [00:57<00:12, 31.34it/s]"
     ]
    },
    {
     "name": "stdout",
     "output_type": "stream",
     "text": [
      "\r",
      " 82%|███████████████████████████████▊       | 1646/2019 [00:57<00:11, 31.48it/s]"
     ]
    },
    {
     "name": "stdout",
     "output_type": "stream",
     "text": [
      "\r",
      " 82%|███████████████████████████████▊       | 1650/2019 [00:57<00:11, 31.53it/s]"
     ]
    },
    {
     "name": "stdout",
     "output_type": "stream",
     "text": [
      "\r",
      " 82%|███████████████████████████████▉       | 1654/2019 [00:57<00:11, 31.78it/s]"
     ]
    },
    {
     "name": "stdout",
     "output_type": "stream",
     "text": [
      "\r",
      " 82%|████████████████████████████████       | 1658/2019 [00:57<00:11, 32.02it/s]"
     ]
    },
    {
     "name": "stdout",
     "output_type": "stream",
     "text": [
      "\r",
      " 82%|████████████████████████████████       | 1662/2019 [00:58<00:11, 30.37it/s]"
     ]
    },
    {
     "name": "stdout",
     "output_type": "stream",
     "text": [
      "\r",
      " 83%|████████████████████████████████▏      | 1666/2019 [00:58<00:12, 29.22it/s]"
     ]
    },
    {
     "name": "stdout",
     "output_type": "stream",
     "text": [
      "\r",
      " 83%|████████████████████████████████▎      | 1670/2019 [00:58<00:11, 30.88it/s]"
     ]
    },
    {
     "name": "stdout",
     "output_type": "stream",
     "text": [
      "\r",
      " 83%|████████████████████████████████▎      | 1674/2019 [00:58<00:11, 29.85it/s]"
     ]
    },
    {
     "name": "stdout",
     "output_type": "stream",
     "text": [
      "\r",
      " 83%|████████████████████████████████▍      | 1678/2019 [00:58<00:11, 30.08it/s]"
     ]
    },
    {
     "name": "stdout",
     "output_type": "stream",
     "text": [
      "\r",
      " 83%|████████████████████████████████▍      | 1682/2019 [00:58<00:10, 30.90it/s]"
     ]
    },
    {
     "name": "stdout",
     "output_type": "stream",
     "text": [
      "\r",
      " 84%|████████████████████████████████▌      | 1686/2019 [00:58<00:10, 31.63it/s]"
     ]
    },
    {
     "name": "stdout",
     "output_type": "stream",
     "text": [
      "\r",
      " 84%|████████████████████████████████▋      | 1690/2019 [00:58<00:10, 32.68it/s]"
     ]
    },
    {
     "name": "stdout",
     "output_type": "stream",
     "text": [
      "\r",
      " 84%|████████████████████████████████▋      | 1694/2019 [00:59<00:10, 32.28it/s]"
     ]
    },
    {
     "name": "stdout",
     "output_type": "stream",
     "text": [
      "\r",
      " 84%|████████████████████████████████▊      | 1698/2019 [00:59<00:09, 32.53it/s]"
     ]
    },
    {
     "name": "stdout",
     "output_type": "stream",
     "text": [
      "\r",
      " 84%|████████████████████████████████▉      | 1702/2019 [00:59<00:09, 32.43it/s]"
     ]
    },
    {
     "name": "stdout",
     "output_type": "stream",
     "text": [
      "\r",
      " 84%|████████████████████████████████▉      | 1706/2019 [00:59<00:09, 32.75it/s]"
     ]
    },
    {
     "name": "stdout",
     "output_type": "stream",
     "text": [
      "\r",
      " 85%|█████████████████████████████████      | 1710/2019 [00:59<00:09, 32.50it/s]"
     ]
    },
    {
     "name": "stdout",
     "output_type": "stream",
     "text": [
      "\r",
      " 85%|█████████████████████████████████      | 1714/2019 [00:59<00:09, 32.61it/s]"
     ]
    },
    {
     "name": "stdout",
     "output_type": "stream",
     "text": [
      "\r",
      " 85%|█████████████████████████████████▏     | 1718/2019 [00:59<00:09, 31.85it/s]"
     ]
    },
    {
     "name": "stdout",
     "output_type": "stream",
     "text": [
      "\r",
      " 85%|█████████████████████████████████▎     | 1722/2019 [00:59<00:09, 31.43it/s]"
     ]
    },
    {
     "name": "stdout",
     "output_type": "stream",
     "text": [
      "\r",
      " 85%|█████████████████████████████████▎     | 1726/2019 [01:00<00:09, 32.14it/s]"
     ]
    },
    {
     "name": "stdout",
     "output_type": "stream",
     "text": [
      "\r",
      " 86%|█████████████████████████████████▍     | 1730/2019 [01:00<00:09, 31.63it/s]"
     ]
    },
    {
     "name": "stdout",
     "output_type": "stream",
     "text": [
      "\r",
      " 86%|█████████████████████████████████▍     | 1734/2019 [01:00<00:08, 31.92it/s]"
     ]
    },
    {
     "name": "stdout",
     "output_type": "stream",
     "text": [
      "\r",
      " 86%|█████████████████████████████████▌     | 1738/2019 [01:00<00:08, 32.54it/s]"
     ]
    },
    {
     "name": "stdout",
     "output_type": "stream",
     "text": [
      "\r",
      " 86%|█████████████████████████████████▋     | 1742/2019 [01:00<00:08, 32.88it/s]"
     ]
    },
    {
     "name": "stdout",
     "output_type": "stream",
     "text": [
      "\r",
      " 86%|█████████████████████████████████▋     | 1746/2019 [01:00<00:08, 31.80it/s]"
     ]
    },
    {
     "name": "stdout",
     "output_type": "stream",
     "text": [
      "\r",
      " 87%|█████████████████████████████████▊     | 1750/2019 [01:00<00:08, 32.04it/s]"
     ]
    },
    {
     "name": "stdout",
     "output_type": "stream",
     "text": [
      "\r",
      " 87%|█████████████████████████████████▉     | 1754/2019 [01:00<00:08, 31.09it/s]"
     ]
    },
    {
     "name": "stdout",
     "output_type": "stream",
     "text": [
      "\r",
      " 87%|█████████████████████████████████▉     | 1758/2019 [01:01<00:08, 31.66it/s]"
     ]
    },
    {
     "name": "stdout",
     "output_type": "stream",
     "text": [
      "\r",
      " 87%|██████████████████████████████████     | 1762/2019 [01:01<00:08, 32.07it/s]"
     ]
    },
    {
     "name": "stdout",
     "output_type": "stream",
     "text": [
      "\r",
      " 87%|██████████████████████████████████     | 1766/2019 [01:01<00:07, 33.34it/s]"
     ]
    },
    {
     "name": "stdout",
     "output_type": "stream",
     "text": [
      "\r",
      " 88%|██████████████████████████████████▏    | 1770/2019 [01:01<00:07, 33.42it/s]"
     ]
    },
    {
     "name": "stdout",
     "output_type": "stream",
     "text": [
      "\r",
      " 88%|██████████████████████████████████▎    | 1774/2019 [01:01<00:07, 31.05it/s]"
     ]
    },
    {
     "name": "stdout",
     "output_type": "stream",
     "text": [
      "\r",
      " 88%|██████████████████████████████████▎    | 1778/2019 [01:01<00:08, 28.81it/s]"
     ]
    },
    {
     "name": "stdout",
     "output_type": "stream",
     "text": [
      "\r",
      " 88%|██████████████████████████████████▍    | 1781/2019 [01:01<00:08, 28.00it/s]"
     ]
    },
    {
     "name": "stdout",
     "output_type": "stream",
     "text": [
      "\r",
      " 88%|██████████████████████████████████▍    | 1784/2019 [01:01<00:08, 28.47it/s]"
     ]
    },
    {
     "name": "stdout",
     "output_type": "stream",
     "text": [
      "\r",
      " 89%|██████████████████████████████████▌    | 1787/2019 [01:02<00:08, 26.73it/s]"
     ]
    },
    {
     "name": "stdout",
     "output_type": "stream",
     "text": [
      "\r",
      " 89%|██████████████████████████████████▌    | 1791/2019 [01:02<00:08, 28.32it/s]"
     ]
    },
    {
     "name": "stdout",
     "output_type": "stream",
     "text": [
      "\r",
      " 89%|██████████████████████████████████▋    | 1794/2019 [01:02<00:09, 24.11it/s]"
     ]
    },
    {
     "name": "stdout",
     "output_type": "stream",
     "text": [
      "\r",
      " 89%|██████████████████████████████████▋    | 1797/2019 [01:02<00:09, 24.10it/s]"
     ]
    },
    {
     "name": "stdout",
     "output_type": "stream",
     "text": [
      "\r",
      " 89%|██████████████████████████████████▊    | 1800/2019 [01:02<00:08, 25.45it/s]"
     ]
    },
    {
     "name": "stdout",
     "output_type": "stream",
     "text": [
      "\r",
      " 89%|██████████████████████████████████▊    | 1803/2019 [01:02<00:08, 26.22it/s]"
     ]
    },
    {
     "name": "stdout",
     "output_type": "stream",
     "text": [
      "\r",
      " 89%|██████████████████████████████████▉    | 1806/2019 [01:02<00:07, 26.76it/s]"
     ]
    },
    {
     "name": "stdout",
     "output_type": "stream",
     "text": [
      "\r",
      " 90%|██████████████████████████████████▉    | 1809/2019 [01:02<00:07, 27.16it/s]"
     ]
    },
    {
     "name": "stdout",
     "output_type": "stream",
     "text": [
      "\r",
      " 90%|███████████████████████████████████    | 1813/2019 [01:03<00:07, 28.64it/s]"
     ]
    },
    {
     "name": "stdout",
     "output_type": "stream",
     "text": [
      "\r",
      " 90%|███████████████████████████████████    | 1816/2019 [01:03<00:07, 27.36it/s]"
     ]
    },
    {
     "name": "stdout",
     "output_type": "stream",
     "text": [
      "\r",
      " 90%|███████████████████████████████████▏   | 1820/2019 [01:03<00:06, 29.50it/s]"
     ]
    },
    {
     "name": "stdout",
     "output_type": "stream",
     "text": [
      "\r",
      " 90%|███████████████████████████████████▏   | 1823/2019 [01:03<00:06, 28.89it/s]"
     ]
    },
    {
     "name": "stdout",
     "output_type": "stream",
     "text": [
      "\r",
      " 90%|███████████████████████████████████▎   | 1826/2019 [01:03<00:06, 27.75it/s]"
     ]
    },
    {
     "name": "stdout",
     "output_type": "stream",
     "text": [
      "\r",
      " 91%|███████████████████████████████████▎   | 1830/2019 [01:03<00:06, 29.49it/s]"
     ]
    },
    {
     "name": "stdout",
     "output_type": "stream",
     "text": [
      "\r",
      " 91%|███████████████████████████████████▍   | 1833/2019 [01:03<00:06, 28.27it/s]"
     ]
    },
    {
     "name": "stdout",
     "output_type": "stream",
     "text": [
      "\r",
      " 91%|███████████████████████████████████▍   | 1836/2019 [01:03<00:06, 27.87it/s]"
     ]
    },
    {
     "name": "stdout",
     "output_type": "stream",
     "text": [
      "\r",
      " 91%|███████████████████████████████████▌   | 1839/2019 [01:03<00:06, 27.80it/s]"
     ]
    },
    {
     "name": "stdout",
     "output_type": "stream",
     "text": [
      "\r",
      " 91%|███████████████████████████████████▌   | 1843/2019 [01:04<00:06, 28.88it/s]"
     ]
    },
    {
     "name": "stdout",
     "output_type": "stream",
     "text": [
      "\r",
      " 91%|███████████████████████████████████▋   | 1846/2019 [01:04<00:06, 28.38it/s]"
     ]
    },
    {
     "name": "stdout",
     "output_type": "stream",
     "text": [
      "\r",
      " 92%|███████████████████████████████████▋   | 1849/2019 [01:04<00:06, 27.83it/s]"
     ]
    },
    {
     "name": "stdout",
     "output_type": "stream",
     "text": [
      "\r",
      " 92%|███████████████████████████████████▊   | 1853/2019 [01:04<00:05, 29.03it/s]"
     ]
    },
    {
     "name": "stdout",
     "output_type": "stream",
     "text": [
      "\r",
      " 92%|███████████████████████████████████▊   | 1856/2019 [01:04<00:05, 28.49it/s]"
     ]
    },
    {
     "name": "stdout",
     "output_type": "stream",
     "text": [
      "\r",
      " 92%|███████████████████████████████████▉   | 1860/2019 [01:04<00:05, 29.80it/s]"
     ]
    },
    {
     "name": "stdout",
     "output_type": "stream",
     "text": [
      "\r",
      " 92%|███████████████████████████████████▉   | 1863/2019 [01:04<00:05, 29.28it/s]"
     ]
    },
    {
     "name": "stdout",
     "output_type": "stream",
     "text": [
      "\r",
      " 92%|████████████████████████████████████   | 1866/2019 [01:04<00:05, 28.27it/s]"
     ]
    },
    {
     "name": "stdout",
     "output_type": "stream",
     "text": [
      "\r",
      " 93%|████████████████████████████████████   | 1869/2019 [01:04<00:05, 28.56it/s]"
     ]
    },
    {
     "name": "stdout",
     "output_type": "stream",
     "text": [
      "\r",
      " 93%|████████████████████████████████████▏  | 1873/2019 [01:05<00:04, 30.35it/s]"
     ]
    },
    {
     "name": "stdout",
     "output_type": "stream",
     "text": [
      "\r",
      " 93%|████████████████████████████████████▎  | 1877/2019 [01:05<00:04, 31.22it/s]"
     ]
    },
    {
     "name": "stdout",
     "output_type": "stream",
     "text": [
      "\r",
      " 93%|████████████████████████████████████▎  | 1881/2019 [01:05<00:04, 29.89it/s]"
     ]
    },
    {
     "name": "stdout",
     "output_type": "stream",
     "text": [
      "\r",
      " 93%|████████████████████████████████████▍  | 1885/2019 [01:05<00:04, 30.01it/s]"
     ]
    },
    {
     "name": "stdout",
     "output_type": "stream",
     "text": [
      "\r",
      " 94%|████████████████████████████████████▍  | 1889/2019 [01:05<00:04, 30.07it/s]"
     ]
    },
    {
     "name": "stdout",
     "output_type": "stream",
     "text": [
      "\r",
      " 94%|████████████████████████████████████▌  | 1893/2019 [01:05<00:04, 29.64it/s]"
     ]
    },
    {
     "name": "stdout",
     "output_type": "stream",
     "text": [
      "\r",
      " 94%|████████████████████████████████████▌  | 1896/2019 [01:05<00:04, 29.58it/s]"
     ]
    },
    {
     "name": "stdout",
     "output_type": "stream",
     "text": [
      "\r",
      " 94%|████████████████████████████████████▋  | 1900/2019 [01:05<00:03, 30.16it/s]"
     ]
    },
    {
     "name": "stdout",
     "output_type": "stream",
     "text": [
      "\r",
      " 94%|████████████████████████████████████▊  | 1904/2019 [01:06<00:03, 30.88it/s]"
     ]
    },
    {
     "name": "stdout",
     "output_type": "stream",
     "text": [
      "\r",
      " 95%|████████████████████████████████████▊  | 1908/2019 [01:06<00:03, 28.86it/s]"
     ]
    },
    {
     "name": "stdout",
     "output_type": "stream",
     "text": [
      "\r",
      " 95%|████████████████████████████████████▉  | 1911/2019 [01:06<00:03, 28.76it/s]"
     ]
    },
    {
     "name": "stdout",
     "output_type": "stream",
     "text": [
      "\r",
      " 95%|████████████████████████████████████▉  | 1914/2019 [01:06<00:03, 27.96it/s]"
     ]
    },
    {
     "name": "stdout",
     "output_type": "stream",
     "text": [
      "\r",
      " 95%|█████████████████████████████████████  | 1917/2019 [01:06<00:03, 28.28it/s]"
     ]
    },
    {
     "name": "stdout",
     "output_type": "stream",
     "text": [
      "\r",
      " 95%|█████████████████████████████████████  | 1921/2019 [01:06<00:03, 29.45it/s]"
     ]
    },
    {
     "name": "stdout",
     "output_type": "stream",
     "text": [
      "\r",
      " 95%|█████████████████████████████████████▏ | 1925/2019 [01:06<00:03, 30.33it/s]"
     ]
    },
    {
     "name": "stdout",
     "output_type": "stream",
     "text": [
      "\r",
      " 96%|█████████████████████████████████████▎ | 1929/2019 [01:06<00:02, 31.15it/s]"
     ]
    },
    {
     "name": "stdout",
     "output_type": "stream",
     "text": [
      "\r",
      " 96%|█████████████████████████████████████▎ | 1933/2019 [01:07<00:02, 30.74it/s]"
     ]
    },
    {
     "name": "stdout",
     "output_type": "stream",
     "text": [
      "\r",
      " 96%|█████████████████████████████████████▍ | 1937/2019 [01:07<00:02, 29.38it/s]"
     ]
    },
    {
     "name": "stdout",
     "output_type": "stream",
     "text": [
      "\r",
      " 96%|█████████████████████████████████████▍ | 1941/2019 [01:07<00:02, 29.95it/s]"
     ]
    },
    {
     "name": "stdout",
     "output_type": "stream",
     "text": [
      "\r",
      " 96%|█████████████████████████████████████▌ | 1945/2019 [01:07<00:02, 29.59it/s]"
     ]
    },
    {
     "name": "stdout",
     "output_type": "stream",
     "text": [
      "\r",
      " 96%|█████████████████████████████████████▋ | 1948/2019 [01:07<00:02, 28.93it/s]"
     ]
    },
    {
     "name": "stdout",
     "output_type": "stream",
     "text": [
      "\r",
      " 97%|█████████████████████████████████████▋ | 1951/2019 [01:07<00:02, 28.27it/s]"
     ]
    },
    {
     "name": "stdout",
     "output_type": "stream",
     "text": [
      "\r",
      " 97%|█████████████████████████████████████▊ | 1955/2019 [01:07<00:02, 29.83it/s]"
     ]
    },
    {
     "name": "stdout",
     "output_type": "stream",
     "text": [
      "\r",
      " 97%|█████████████████████████████████████▊ | 1958/2019 [01:07<00:02, 29.37it/s]"
     ]
    },
    {
     "name": "stdout",
     "output_type": "stream",
     "text": [
      "\r",
      " 97%|█████████████████████████████████████▉ | 1962/2019 [01:08<00:01, 30.51it/s]"
     ]
    },
    {
     "name": "stdout",
     "output_type": "stream",
     "text": [
      "\r",
      " 97%|█████████████████████████████████████▉ | 1966/2019 [01:08<00:01, 29.91it/s]"
     ]
    },
    {
     "name": "stdout",
     "output_type": "stream",
     "text": [
      "\r",
      " 98%|██████████████████████████████████████ | 1969/2019 [01:08<00:01, 29.61it/s]"
     ]
    },
    {
     "name": "stdout",
     "output_type": "stream",
     "text": [
      "\r",
      " 98%|██████████████████████████████████████ | 1973/2019 [01:08<00:01, 31.04it/s]"
     ]
    },
    {
     "name": "stdout",
     "output_type": "stream",
     "text": [
      "\r",
      " 98%|██████████████████████████████████████▏| 1977/2019 [01:08<00:01, 31.07it/s]"
     ]
    },
    {
     "name": "stdout",
     "output_type": "stream",
     "text": [
      "\r",
      " 98%|██████████████████████████████████████▎| 1981/2019 [01:08<00:01, 31.34it/s]"
     ]
    },
    {
     "name": "stdout",
     "output_type": "stream",
     "text": [
      "\r",
      " 98%|██████████████████████████████████████▎| 1985/2019 [01:08<00:01, 32.39it/s]"
     ]
    },
    {
     "name": "stdout",
     "output_type": "stream",
     "text": [
      "\r",
      " 99%|██████████████████████████████████████▍| 1989/2019 [01:08<00:00, 31.91it/s]"
     ]
    },
    {
     "name": "stdout",
     "output_type": "stream",
     "text": [
      "\r",
      " 99%|██████████████████████████████████████▍| 1993/2019 [01:09<00:00, 30.66it/s]"
     ]
    },
    {
     "name": "stdout",
     "output_type": "stream",
     "text": [
      "\r",
      " 99%|██████████████████████████████████████▌| 1997/2019 [01:09<00:00, 28.41it/s]"
     ]
    },
    {
     "name": "stdout",
     "output_type": "stream",
     "text": [
      "\r",
      " 99%|██████████████████████████████████████▋| 2000/2019 [01:09<00:00, 28.74it/s]"
     ]
    },
    {
     "name": "stdout",
     "output_type": "stream",
     "text": [
      "\r",
      " 99%|██████████████████████████████████████▋| 2004/2019 [01:09<00:00, 28.99it/s]"
     ]
    },
    {
     "name": "stdout",
     "output_type": "stream",
     "text": [
      "\r",
      " 99%|██████████████████████████████████████▊| 2007/2019 [01:09<00:00, 28.00it/s]"
     ]
    },
    {
     "name": "stdout",
     "output_type": "stream",
     "text": [
      "\r",
      "100%|██████████████████████████████████████▊| 2011/2019 [01:09<00:00, 27.87it/s]"
     ]
    },
    {
     "name": "stdout",
     "output_type": "stream",
     "text": [
      "\r",
      "100%|██████████████████████████████████████▉| 2014/2019 [01:09<00:00, 27.77it/s]"
     ]
    },
    {
     "name": "stdout",
     "output_type": "stream",
     "text": [
      "\r",
      "100%|██████████████████████████████████████▉| 2018/2019 [01:09<00:00, 27.92it/s]"
     ]
    },
    {
     "name": "stdout",
     "output_type": "stream",
     "text": [
      "\r",
      "100%|███████████████████████████████████████| 2019/2019 [01:10<00:00, 28.83it/s]\r\n"
     ]
    },
    {
     "name": "stdout",
     "output_type": "stream",
     "text": [
      "\r",
      "  0%|                                                  | 0/2027 [00:00<?, ?it/s]"
     ]
    },
    {
     "name": "stdout",
     "output_type": "stream",
     "text": [
      "\r",
      "  0%|                                          | 1/2027 [00:00<11:57,  2.82it/s]"
     ]
    },
    {
     "name": "stdout",
     "output_type": "stream",
     "text": [
      "\r",
      "  0%|                                          | 3/2027 [00:00<04:27,  7.57it/s]"
     ]
    },
    {
     "name": "stdout",
     "output_type": "stream",
     "text": [
      "\r",
      "  0%|                                          | 6/2027 [00:00<02:39, 12.70it/s]"
     ]
    },
    {
     "name": "stdout",
     "output_type": "stream",
     "text": [
      "\r",
      "  0%|▏                                         | 9/2027 [00:00<02:04, 16.23it/s]"
     ]
    },
    {
     "name": "stdout",
     "output_type": "stream",
     "text": [
      "\r",
      "  1%|▏                                        | 12/2027 [00:00<01:44, 19.26it/s]"
     ]
    },
    {
     "name": "stdout",
     "output_type": "stream",
     "text": [
      "\r",
      "  1%|▎                                        | 15/2027 [00:00<01:37, 20.68it/s]"
     ]
    },
    {
     "name": "stdout",
     "output_type": "stream",
     "text": [
      "\r",
      "  1%|▎                                        | 18/2027 [00:01<01:32, 21.72it/s]"
     ]
    },
    {
     "name": "stdout",
     "output_type": "stream",
     "text": [
      "\r",
      "  1%|▍                                        | 21/2027 [00:01<01:24, 23.60it/s]"
     ]
    },
    {
     "name": "stdout",
     "output_type": "stream",
     "text": [
      "\r",
      "  1%|▍                                        | 24/2027 [00:01<01:22, 24.33it/s]"
     ]
    },
    {
     "name": "stdout",
     "output_type": "stream",
     "text": [
      "\r",
      "  1%|▌                                        | 27/2027 [00:01<01:28, 22.58it/s]"
     ]
    },
    {
     "name": "stdout",
     "output_type": "stream",
     "text": [
      "\r",
      "  1%|▌                                        | 30/2027 [00:01<01:24, 23.55it/s]"
     ]
    },
    {
     "name": "stdout",
     "output_type": "stream",
     "text": [
      "\r",
      "  2%|▋                                        | 33/2027 [00:01<01:22, 24.31it/s]"
     ]
    },
    {
     "name": "stdout",
     "output_type": "stream",
     "text": [
      "\r",
      "  2%|▋                                        | 36/2027 [00:01<01:21, 24.36it/s]"
     ]
    },
    {
     "name": "stdout",
     "output_type": "stream",
     "text": [
      "\r",
      "  2%|▊                                        | 39/2027 [00:01<01:19, 24.99it/s]"
     ]
    },
    {
     "name": "stdout",
     "output_type": "stream",
     "text": [
      "\r",
      "  2%|▊                                        | 42/2027 [00:02<01:20, 24.67it/s]"
     ]
    },
    {
     "name": "stdout",
     "output_type": "stream",
     "text": [
      "\r",
      "  2%|▉                                        | 45/2027 [00:02<01:26, 22.98it/s]"
     ]
    },
    {
     "name": "stdout",
     "output_type": "stream",
     "text": [
      "\r",
      "  2%|▉                                        | 48/2027 [00:02<01:30, 21.89it/s]"
     ]
    },
    {
     "name": "stdout",
     "output_type": "stream",
     "text": [
      "\r",
      "  3%|█                                        | 51/2027 [00:02<01:24, 23.47it/s]"
     ]
    },
    {
     "name": "stdout",
     "output_type": "stream",
     "text": [
      "\r",
      "  3%|█                                        | 54/2027 [00:02<01:20, 24.49it/s]"
     ]
    },
    {
     "name": "stdout",
     "output_type": "stream",
     "text": [
      "\r",
      "  3%|█▏                                       | 57/2027 [00:02<01:21, 24.12it/s]"
     ]
    },
    {
     "name": "stdout",
     "output_type": "stream",
     "text": [
      "\r",
      "  3%|█▏                                       | 60/2027 [00:02<01:18, 25.19it/s]"
     ]
    },
    {
     "name": "stdout",
     "output_type": "stream",
     "text": [
      "\r",
      "  3%|█▎                                       | 63/2027 [00:02<01:22, 23.77it/s]"
     ]
    },
    {
     "name": "stdout",
     "output_type": "stream",
     "text": [
      "\r",
      "  3%|█▎                                       | 67/2027 [00:03<01:15, 26.03it/s]"
     ]
    },
    {
     "name": "stdout",
     "output_type": "stream",
     "text": [
      "\r",
      "  3%|█▍                                       | 70/2027 [00:03<01:15, 25.89it/s]"
     ]
    },
    {
     "name": "stdout",
     "output_type": "stream",
     "text": [
      "\r",
      "  4%|█▍                                       | 73/2027 [00:03<01:20, 24.29it/s]"
     ]
    },
    {
     "name": "stdout",
     "output_type": "stream",
     "text": [
      "\r",
      "  4%|█▌                                       | 76/2027 [00:03<01:25, 22.87it/s]"
     ]
    },
    {
     "name": "stdout",
     "output_type": "stream",
     "text": [
      "\r",
      "  4%|█▌                                       | 79/2027 [00:03<01:36, 20.16it/s]"
     ]
    },
    {
     "name": "stdout",
     "output_type": "stream",
     "text": [
      "\r",
      "  4%|█▋                                       | 82/2027 [00:03<01:43, 18.75it/s]"
     ]
    },
    {
     "name": "stdout",
     "output_type": "stream",
     "text": [
      "\r",
      "  4%|█▋                                       | 84/2027 [00:03<01:45, 18.34it/s]"
     ]
    },
    {
     "name": "stdout",
     "output_type": "stream",
     "text": [
      "\r",
      "  4%|█▋                                       | 86/2027 [00:04<01:47, 18.11it/s]"
     ]
    },
    {
     "name": "stdout",
     "output_type": "stream",
     "text": [
      "\r",
      "  4%|█▊                                       | 88/2027 [00:04<01:44, 18.49it/s]"
     ]
    },
    {
     "name": "stdout",
     "output_type": "stream",
     "text": [
      "\r",
      "  4%|█▊                                       | 91/2027 [00:04<01:34, 20.40it/s]"
     ]
    },
    {
     "name": "stdout",
     "output_type": "stream",
     "text": [
      "\r",
      "  5%|█▉                                       | 94/2027 [00:04<01:30, 21.28it/s]"
     ]
    },
    {
     "name": "stdout",
     "output_type": "stream",
     "text": [
      "\r",
      "  5%|█▉                                       | 97/2027 [00:04<01:23, 22.99it/s]"
     ]
    },
    {
     "name": "stdout",
     "output_type": "stream",
     "text": [
      "\r",
      "  5%|█▉                                      | 100/2027 [00:04<01:19, 24.28it/s]"
     ]
    },
    {
     "name": "stdout",
     "output_type": "stream",
     "text": [
      "\r",
      "  5%|██                                      | 103/2027 [00:04<01:17, 24.91it/s]"
     ]
    },
    {
     "name": "stdout",
     "output_type": "stream",
     "text": [
      "\r",
      "  5%|██                                      | 106/2027 [00:04<01:15, 25.47it/s]"
     ]
    },
    {
     "name": "stdout",
     "output_type": "stream",
     "text": [
      "\r",
      "  5%|██▏                                     | 109/2027 [00:05<01:13, 25.99it/s]"
     ]
    },
    {
     "name": "stdout",
     "output_type": "stream",
     "text": [
      "\r",
      "  6%|██▏                                     | 112/2027 [00:05<01:11, 26.85it/s]"
     ]
    },
    {
     "name": "stdout",
     "output_type": "stream",
     "text": [
      "\r",
      "  6%|██▎                                     | 115/2027 [00:05<01:08, 27.72it/s]"
     ]
    },
    {
     "name": "stdout",
     "output_type": "stream",
     "text": [
      "\r",
      "  6%|██▎                                     | 118/2027 [00:05<01:09, 27.31it/s]"
     ]
    },
    {
     "name": "stdout",
     "output_type": "stream",
     "text": [
      "\r",
      "  6%|██▍                                     | 121/2027 [00:05<01:10, 26.91it/s]"
     ]
    },
    {
     "name": "stdout",
     "output_type": "stream",
     "text": [
      "\r",
      "  6%|██▍                                     | 124/2027 [00:05<01:11, 26.75it/s]"
     ]
    },
    {
     "name": "stdout",
     "output_type": "stream",
     "text": [
      "\r",
      "  6%|██▌                                     | 127/2027 [00:05<01:11, 26.74it/s]"
     ]
    },
    {
     "name": "stdout",
     "output_type": "stream",
     "text": [
      "\r",
      "  6%|██▌                                     | 131/2027 [00:05<01:05, 28.87it/s]"
     ]
    },
    {
     "name": "stdout",
     "output_type": "stream",
     "text": [
      "\r",
      "  7%|██▋                                     | 134/2027 [00:05<01:06, 28.44it/s]"
     ]
    },
    {
     "name": "stdout",
     "output_type": "stream",
     "text": [
      "\r",
      "  7%|██▋                                     | 137/2027 [00:06<01:08, 27.67it/s]"
     ]
    },
    {
     "name": "stdout",
     "output_type": "stream",
     "text": [
      "\r",
      "  7%|██▊                                     | 140/2027 [00:06<01:07, 27.86it/s]"
     ]
    },
    {
     "name": "stdout",
     "output_type": "stream",
     "text": [
      "\r",
      "  7%|██▊                                     | 143/2027 [00:06<01:12, 25.92it/s]"
     ]
    },
    {
     "name": "stdout",
     "output_type": "stream",
     "text": [
      "\r",
      "  7%|██▉                                     | 147/2027 [00:06<01:08, 27.34it/s]"
     ]
    },
    {
     "name": "stdout",
     "output_type": "stream",
     "text": [
      "\r",
      "  7%|██▉                                     | 150/2027 [00:06<01:08, 27.59it/s]"
     ]
    },
    {
     "name": "stdout",
     "output_type": "stream",
     "text": [
      "\r",
      "  8%|███                                     | 153/2027 [00:06<01:06, 28.04it/s]"
     ]
    },
    {
     "name": "stdout",
     "output_type": "stream",
     "text": [
      "\r",
      "  8%|███                                     | 156/2027 [00:06<01:08, 27.30it/s]"
     ]
    },
    {
     "name": "stdout",
     "output_type": "stream",
     "text": [
      "\r",
      "  8%|███▏                                    | 159/2027 [00:06<01:10, 26.63it/s]"
     ]
    },
    {
     "name": "stdout",
     "output_type": "stream",
     "text": [
      "\r",
      "  8%|███▏                                    | 163/2027 [00:06<01:05, 28.66it/s]"
     ]
    },
    {
     "name": "stdout",
     "output_type": "stream",
     "text": [
      "\r",
      "  8%|███▎                                    | 167/2027 [00:07<01:03, 29.27it/s]"
     ]
    },
    {
     "name": "stdout",
     "output_type": "stream",
     "text": [
      "\r",
      "  8%|███▎                                    | 170/2027 [00:07<01:04, 28.82it/s]"
     ]
    },
    {
     "name": "stdout",
     "output_type": "stream",
     "text": [
      "\r",
      "  9%|███▍                                    | 173/2027 [00:07<01:06, 27.77it/s]"
     ]
    },
    {
     "name": "stdout",
     "output_type": "stream",
     "text": [
      "\r",
      "  9%|███▍                                    | 176/2027 [00:07<01:07, 27.27it/s]"
     ]
    },
    {
     "name": "stdout",
     "output_type": "stream",
     "text": [
      "\r",
      "  9%|███▌                                    | 179/2027 [00:07<01:11, 25.90it/s]"
     ]
    },
    {
     "name": "stdout",
     "output_type": "stream",
     "text": [
      "\r",
      "  9%|███▌                                    | 182/2027 [00:07<01:13, 25.08it/s]"
     ]
    },
    {
     "name": "stdout",
     "output_type": "stream",
     "text": [
      "\r",
      "  9%|███▋                                    | 185/2027 [00:07<01:16, 24.20it/s]"
     ]
    },
    {
     "name": "stdout",
     "output_type": "stream",
     "text": [
      "\r",
      "  9%|███▋                                    | 188/2027 [00:07<01:16, 24.08it/s]"
     ]
    },
    {
     "name": "stdout",
     "output_type": "stream",
     "text": [
      "\r",
      "  9%|███▊                                    | 191/2027 [00:08<01:12, 25.45it/s]"
     ]
    },
    {
     "name": "stdout",
     "output_type": "stream",
     "text": [
      "\r",
      " 10%|███▊                                    | 194/2027 [00:08<01:09, 26.45it/s]"
     ]
    },
    {
     "name": "stdout",
     "output_type": "stream",
     "text": [
      "\r",
      " 10%|███▉                                    | 197/2027 [00:08<01:07, 26.95it/s]"
     ]
    },
    {
     "name": "stdout",
     "output_type": "stream",
     "text": [
      "\r",
      " 10%|███▉                                    | 200/2027 [00:08<01:08, 26.71it/s]"
     ]
    },
    {
     "name": "stdout",
     "output_type": "stream",
     "text": [
      "\r",
      " 10%|████                                    | 203/2027 [00:08<01:06, 27.47it/s]"
     ]
    },
    {
     "name": "stdout",
     "output_type": "stream",
     "text": [
      "\r",
      " 10%|████                                    | 206/2027 [00:08<01:07, 27.07it/s]"
     ]
    },
    {
     "name": "stdout",
     "output_type": "stream",
     "text": [
      "\r",
      " 10%|████                                    | 209/2027 [00:08<01:07, 27.13it/s]"
     ]
    },
    {
     "name": "stdout",
     "output_type": "stream",
     "text": [
      "\r",
      " 11%|████▏                                   | 213/2027 [00:08<01:03, 28.63it/s]"
     ]
    },
    {
     "name": "stdout",
     "output_type": "stream",
     "text": [
      "\r",
      " 11%|████▎                                   | 216/2027 [00:08<01:04, 27.91it/s]"
     ]
    },
    {
     "name": "stdout",
     "output_type": "stream",
     "text": [
      "\r",
      " 11%|████▎                                   | 219/2027 [00:09<01:07, 26.86it/s]"
     ]
    },
    {
     "name": "stdout",
     "output_type": "stream",
     "text": [
      "\r",
      " 11%|████▍                                   | 222/2027 [00:09<01:10, 25.47it/s]"
     ]
    },
    {
     "name": "stdout",
     "output_type": "stream",
     "text": [
      "\r",
      " 11%|████▍                                   | 225/2027 [00:09<01:12, 24.88it/s]"
     ]
    },
    {
     "name": "stdout",
     "output_type": "stream",
     "text": [
      "\r",
      " 11%|████▍                                   | 228/2027 [00:09<01:10, 25.70it/s]"
     ]
    },
    {
     "name": "stdout",
     "output_type": "stream",
     "text": [
      "\r",
      " 11%|████▌                                   | 231/2027 [00:09<01:07, 26.78it/s]"
     ]
    },
    {
     "name": "stdout",
     "output_type": "stream",
     "text": [
      "\r",
      " 12%|████▌                                   | 234/2027 [00:09<01:06, 27.15it/s]"
     ]
    },
    {
     "name": "stdout",
     "output_type": "stream",
     "text": [
      "\r",
      " 12%|████▋                                   | 238/2027 [00:09<01:03, 28.36it/s]"
     ]
    },
    {
     "name": "stdout",
     "output_type": "stream",
     "text": [
      "\r",
      " 12%|████▊                                   | 242/2027 [00:09<00:59, 30.01it/s]"
     ]
    },
    {
     "name": "stdout",
     "output_type": "stream",
     "text": [
      "\r",
      " 12%|████▊                                   | 246/2027 [00:10<00:59, 30.01it/s]"
     ]
    },
    {
     "name": "stdout",
     "output_type": "stream",
     "text": [
      "\r",
      " 12%|████▉                                   | 250/2027 [00:10<01:02, 28.44it/s]"
     ]
    },
    {
     "name": "stdout",
     "output_type": "stream",
     "text": [
      "\r",
      " 13%|█████                                   | 254/2027 [00:10<00:59, 29.70it/s]"
     ]
    },
    {
     "name": "stdout",
     "output_type": "stream",
     "text": [
      "\r",
      " 13%|█████                                   | 258/2027 [00:10<00:57, 30.62it/s]"
     ]
    },
    {
     "name": "stdout",
     "output_type": "stream",
     "text": [
      "\r",
      " 13%|█████▏                                  | 262/2027 [00:10<01:02, 28.28it/s]"
     ]
    },
    {
     "name": "stdout",
     "output_type": "stream",
     "text": [
      "\r",
      " 13%|█████▏                                  | 265/2027 [00:10<01:03, 27.95it/s]"
     ]
    },
    {
     "name": "stdout",
     "output_type": "stream",
     "text": [
      "\r",
      " 13%|█████▎                                  | 268/2027 [00:10<01:02, 28.00it/s]"
     ]
    },
    {
     "name": "stdout",
     "output_type": "stream",
     "text": [
      "\r",
      " 13%|█████▎                                  | 272/2027 [00:10<01:01, 28.46it/s]"
     ]
    },
    {
     "name": "stdout",
     "output_type": "stream",
     "text": [
      "\r",
      " 14%|█████▍                                  | 276/2027 [00:11<01:01, 28.42it/s]"
     ]
    },
    {
     "name": "stdout",
     "output_type": "stream",
     "text": [
      "\r",
      " 14%|█████▌                                  | 279/2027 [00:11<01:02, 27.96it/s]"
     ]
    },
    {
     "name": "stdout",
     "output_type": "stream",
     "text": [
      "\r",
      " 14%|█████▌                                  | 283/2027 [00:11<01:01, 28.39it/s]"
     ]
    },
    {
     "name": "stdout",
     "output_type": "stream",
     "text": [
      "\r",
      " 14%|█████▋                                  | 287/2027 [00:11<01:00, 28.80it/s]"
     ]
    },
    {
     "name": "stdout",
     "output_type": "stream",
     "text": [
      "\r",
      " 14%|█████▋                                  | 290/2027 [00:11<01:01, 28.47it/s]"
     ]
    },
    {
     "name": "stdout",
     "output_type": "stream",
     "text": [
      "\r",
      " 15%|█████▊                                  | 294/2027 [00:11<01:00, 28.50it/s]"
     ]
    },
    {
     "name": "stdout",
     "output_type": "stream",
     "text": [
      "\r",
      " 15%|█████▊                                  | 297/2027 [00:11<01:01, 28.20it/s]"
     ]
    },
    {
     "name": "stdout",
     "output_type": "stream",
     "text": [
      "\r",
      " 15%|█████▉                                  | 300/2027 [00:11<01:00, 28.55it/s]"
     ]
    },
    {
     "name": "stdout",
     "output_type": "stream",
     "text": [
      "\r",
      " 15%|█████▉                                  | 303/2027 [00:12<01:00, 28.28it/s]"
     ]
    },
    {
     "name": "stdout",
     "output_type": "stream",
     "text": [
      "\r",
      " 15%|██████                                  | 306/2027 [00:12<01:00, 28.43it/s]"
     ]
    },
    {
     "name": "stdout",
     "output_type": "stream",
     "text": [
      "\r",
      " 15%|██████                                  | 310/2027 [00:12<00:59, 28.87it/s]"
     ]
    },
    {
     "name": "stdout",
     "output_type": "stream",
     "text": [
      "\r",
      " 15%|██████▏                                 | 313/2027 [00:12<00:59, 29.04it/s]"
     ]
    },
    {
     "name": "stdout",
     "output_type": "stream",
     "text": [
      "\r",
      " 16%|██████▎                                 | 317/2027 [00:12<00:57, 29.94it/s]"
     ]
    },
    {
     "name": "stdout",
     "output_type": "stream",
     "text": [
      "\r",
      " 16%|██████▎                                 | 321/2027 [00:12<00:55, 30.63it/s]"
     ]
    },
    {
     "name": "stdout",
     "output_type": "stream",
     "text": [
      "\r",
      " 16%|██████▍                                 | 325/2027 [00:12<00:55, 30.49it/s]"
     ]
    },
    {
     "name": "stdout",
     "output_type": "stream",
     "text": [
      "\r",
      " 16%|██████▍                                 | 329/2027 [00:12<00:55, 30.41it/s]"
     ]
    },
    {
     "name": "stdout",
     "output_type": "stream",
     "text": [
      "\r",
      " 16%|██████▌                                 | 333/2027 [00:13<01:00, 28.14it/s]"
     ]
    },
    {
     "name": "stdout",
     "output_type": "stream",
     "text": [
      "\r",
      " 17%|██████▋                                 | 337/2027 [00:13<00:58, 28.89it/s]"
     ]
    },
    {
     "name": "stdout",
     "output_type": "stream",
     "text": [
      "\r",
      " 17%|██████▋                                 | 341/2027 [00:13<00:56, 29.82it/s]"
     ]
    },
    {
     "name": "stdout",
     "output_type": "stream",
     "text": [
      "\r",
      " 17%|██████▊                                 | 345/2027 [00:13<00:57, 29.38it/s]"
     ]
    },
    {
     "name": "stdout",
     "output_type": "stream",
     "text": [
      "\r",
      " 17%|██████▊                                 | 348/2027 [00:13<01:02, 26.66it/s]"
     ]
    },
    {
     "name": "stdout",
     "output_type": "stream",
     "text": [
      "\r",
      " 17%|██████▉                                 | 351/2027 [00:13<01:03, 26.45it/s]"
     ]
    },
    {
     "name": "stdout",
     "output_type": "stream",
     "text": [
      "\r",
      " 17%|██████▉                                 | 354/2027 [00:13<01:02, 26.70it/s]"
     ]
    },
    {
     "name": "stdout",
     "output_type": "stream",
     "text": [
      "\r",
      " 18%|███████                                 | 358/2027 [00:13<00:57, 29.24it/s]"
     ]
    },
    {
     "name": "stdout",
     "output_type": "stream",
     "text": [
      "\r",
      " 18%|███████                                 | 361/2027 [00:14<00:57, 28.96it/s]"
     ]
    },
    {
     "name": "stdout",
     "output_type": "stream",
     "text": [
      "\r",
      " 18%|███████▏                                | 364/2027 [00:14<00:57, 28.88it/s]"
     ]
    },
    {
     "name": "stdout",
     "output_type": "stream",
     "text": [
      "\r",
      " 18%|███████▏                                | 367/2027 [00:14<00:58, 28.25it/s]"
     ]
    },
    {
     "name": "stdout",
     "output_type": "stream",
     "text": [
      "\r",
      " 18%|███████▎                                | 370/2027 [00:14<00:59, 27.83it/s]"
     ]
    },
    {
     "name": "stdout",
     "output_type": "stream",
     "text": [
      "\r",
      " 18%|███████▎                                | 373/2027 [00:14<01:02, 26.68it/s]"
     ]
    },
    {
     "name": "stdout",
     "output_type": "stream",
     "text": [
      "\r",
      " 19%|███████▍                                | 376/2027 [00:14<01:05, 25.32it/s]"
     ]
    },
    {
     "name": "stdout",
     "output_type": "stream",
     "text": [
      "\r",
      " 19%|███████▍                                | 379/2027 [00:14<01:05, 25.34it/s]"
     ]
    },
    {
     "name": "stdout",
     "output_type": "stream",
     "text": [
      "\r",
      " 19%|███████▌                                | 382/2027 [00:14<01:02, 26.12it/s]"
     ]
    },
    {
     "name": "stdout",
     "output_type": "stream",
     "text": [
      "\r",
      " 19%|███████▌                                | 386/2027 [00:14<00:58, 27.94it/s]"
     ]
    },
    {
     "name": "stdout",
     "output_type": "stream",
     "text": [
      "\r",
      " 19%|███████▋                                | 389/2027 [00:15<00:59, 27.63it/s]"
     ]
    },
    {
     "name": "stdout",
     "output_type": "stream",
     "text": [
      "\r",
      " 19%|███████▊                                | 393/2027 [00:15<00:57, 28.37it/s]"
     ]
    },
    {
     "name": "stdout",
     "output_type": "stream",
     "text": [
      "\r",
      " 20%|███████▊                                | 396/2027 [00:15<00:58, 28.08it/s]"
     ]
    },
    {
     "name": "stdout",
     "output_type": "stream",
     "text": [
      "\r",
      " 20%|███████▊                                | 399/2027 [00:15<00:58, 27.68it/s]"
     ]
    },
    {
     "name": "stdout",
     "output_type": "stream",
     "text": [
      "\r",
      " 20%|███████▉                                | 403/2027 [00:15<00:57, 28.46it/s]"
     ]
    },
    {
     "name": "stdout",
     "output_type": "stream",
     "text": [
      "\r",
      " 20%|████████                                | 407/2027 [00:15<00:54, 29.73it/s]"
     ]
    },
    {
     "name": "stdout",
     "output_type": "stream",
     "text": [
      "\r",
      " 20%|████████                                | 410/2027 [00:15<00:55, 29.01it/s]"
     ]
    },
    {
     "name": "stdout",
     "output_type": "stream",
     "text": [
      "\r",
      " 20%|████████▏                               | 413/2027 [00:15<00:57, 27.97it/s]"
     ]
    },
    {
     "name": "stdout",
     "output_type": "stream",
     "text": [
      "\r",
      " 21%|████████▏                               | 416/2027 [00:16<00:58, 27.59it/s]"
     ]
    },
    {
     "name": "stdout",
     "output_type": "stream",
     "text": [
      "\r",
      " 21%|████████▎                               | 419/2027 [00:16<00:57, 27.90it/s]"
     ]
    },
    {
     "name": "stdout",
     "output_type": "stream",
     "text": [
      "\r",
      " 21%|████████▎                               | 422/2027 [00:16<00:56, 28.31it/s]"
     ]
    },
    {
     "name": "stdout",
     "output_type": "stream",
     "text": [
      "\r",
      " 21%|████████▍                               | 426/2027 [00:16<00:55, 29.00it/s]"
     ]
    },
    {
     "name": "stdout",
     "output_type": "stream",
     "text": [
      "\r",
      " 21%|████████▍                               | 429/2027 [00:16<00:56, 28.16it/s]"
     ]
    },
    {
     "name": "stdout",
     "output_type": "stream",
     "text": [
      "\r",
      " 21%|████████▌                               | 432/2027 [00:16<00:58, 27.26it/s]"
     ]
    },
    {
     "name": "stdout",
     "output_type": "stream",
     "text": [
      "\r",
      " 22%|████████▌                               | 436/2027 [00:16<00:55, 28.51it/s]"
     ]
    },
    {
     "name": "stdout",
     "output_type": "stream",
     "text": [
      "\r",
      " 22%|████████▋                               | 440/2027 [00:16<00:54, 28.92it/s]"
     ]
    },
    {
     "name": "stdout",
     "output_type": "stream",
     "text": [
      "\r",
      " 22%|████████▋                               | 443/2027 [00:16<00:55, 28.46it/s]"
     ]
    },
    {
     "name": "stdout",
     "output_type": "stream",
     "text": [
      "\r",
      " 22%|████████▊                               | 446/2027 [00:17<00:57, 27.51it/s]"
     ]
    },
    {
     "name": "stdout",
     "output_type": "stream",
     "text": [
      "\r",
      " 22%|████████▊                               | 449/2027 [00:17<00:58, 27.02it/s]"
     ]
    },
    {
     "name": "stdout",
     "output_type": "stream",
     "text": [
      "\r",
      " 22%|████████▉                               | 452/2027 [00:17<00:58, 26.89it/s]"
     ]
    },
    {
     "name": "stdout",
     "output_type": "stream",
     "text": [
      "\r",
      " 22%|████████▉                               | 455/2027 [00:17<00:59, 26.52it/s]"
     ]
    },
    {
     "name": "stdout",
     "output_type": "stream",
     "text": [
      "\r",
      " 23%|█████████                               | 458/2027 [00:17<00:58, 26.76it/s]"
     ]
    },
    {
     "name": "stdout",
     "output_type": "stream",
     "text": [
      "\r",
      " 23%|█████████                               | 461/2027 [00:17<00:58, 26.92it/s]"
     ]
    },
    {
     "name": "stdout",
     "output_type": "stream",
     "text": [
      "\r",
      " 23%|█████████▏                              | 464/2027 [00:17<01:00, 26.03it/s]"
     ]
    },
    {
     "name": "stdout",
     "output_type": "stream",
     "text": [
      "\r",
      " 23%|█████████▏                              | 467/2027 [00:17<00:58, 26.73it/s]"
     ]
    },
    {
     "name": "stdout",
     "output_type": "stream",
     "text": [
      "\r",
      " 23%|█████████▎                              | 471/2027 [00:18<00:56, 27.74it/s]"
     ]
    },
    {
     "name": "stdout",
     "output_type": "stream",
     "text": [
      "\r",
      " 23%|█████████▎                              | 475/2027 [00:18<00:53, 29.26it/s]"
     ]
    },
    {
     "name": "stdout",
     "output_type": "stream",
     "text": [
      "\r",
      " 24%|█████████▍                              | 478/2027 [00:18<00:54, 28.16it/s]"
     ]
    },
    {
     "name": "stdout",
     "output_type": "stream",
     "text": [
      "\r",
      " 24%|█████████▍                              | 481/2027 [00:18<00:57, 27.02it/s]"
     ]
    },
    {
     "name": "stdout",
     "output_type": "stream",
     "text": [
      "\r",
      " 24%|█████████▌                              | 484/2027 [00:18<00:57, 26.64it/s]"
     ]
    },
    {
     "name": "stdout",
     "output_type": "stream",
     "text": [
      "\r",
      " 24%|█████████▌                              | 487/2027 [00:18<00:56, 27.34it/s]"
     ]
    },
    {
     "name": "stdout",
     "output_type": "stream",
     "text": [
      "\r",
      " 24%|█████████▋                              | 490/2027 [00:18<00:55, 27.60it/s]"
     ]
    },
    {
     "name": "stdout",
     "output_type": "stream",
     "text": [
      "\r",
      " 24%|█████████▋                              | 494/2027 [00:18<00:54, 28.27it/s]"
     ]
    },
    {
     "name": "stdout",
     "output_type": "stream",
     "text": [
      "\r",
      " 25%|█████████▊                              | 497/2027 [00:18<00:55, 27.40it/s]"
     ]
    },
    {
     "name": "stdout",
     "output_type": "stream",
     "text": [
      "\r",
      " 25%|█████████▊                              | 500/2027 [00:19<00:57, 26.52it/s]"
     ]
    },
    {
     "name": "stdout",
     "output_type": "stream",
     "text": [
      "\r",
      " 25%|█████████▉                              | 503/2027 [00:19<00:56, 26.82it/s]"
     ]
    },
    {
     "name": "stdout",
     "output_type": "stream",
     "text": [
      "\r",
      " 25%|█████████▉                              | 506/2027 [00:19<00:59, 25.35it/s]"
     ]
    },
    {
     "name": "stdout",
     "output_type": "stream",
     "text": [
      "\r",
      " 25%|██████████                              | 509/2027 [00:19<01:02, 24.41it/s]"
     ]
    },
    {
     "name": "stdout",
     "output_type": "stream",
     "text": [
      "\r",
      " 25%|██████████                              | 512/2027 [00:19<00:59, 25.45it/s]"
     ]
    },
    {
     "name": "stdout",
     "output_type": "stream",
     "text": [
      "\r",
      " 25%|██████████▏                             | 516/2027 [00:19<00:54, 27.80it/s]"
     ]
    },
    {
     "name": "stdout",
     "output_type": "stream",
     "text": [
      "\r",
      " 26%|██████████▎                             | 520/2027 [00:19<00:52, 28.68it/s]"
     ]
    },
    {
     "name": "stdout",
     "output_type": "stream",
     "text": [
      "\r",
      " 26%|██████████▎                             | 524/2027 [00:19<00:51, 29.40it/s]"
     ]
    },
    {
     "name": "stdout",
     "output_type": "stream",
     "text": [
      "\r",
      " 26%|██████████▍                             | 527/2027 [00:20<00:50, 29.45it/s]"
     ]
    },
    {
     "name": "stdout",
     "output_type": "stream",
     "text": [
      "\r",
      " 26%|██████████▍                             | 531/2027 [00:20<00:49, 30.27it/s]"
     ]
    },
    {
     "name": "stdout",
     "output_type": "stream",
     "text": [
      "\r",
      " 26%|██████████▌                             | 535/2027 [00:20<00:48, 30.53it/s]"
     ]
    },
    {
     "name": "stdout",
     "output_type": "stream",
     "text": [
      "\r",
      " 27%|██████████▋                             | 539/2027 [00:20<00:48, 30.66it/s]"
     ]
    },
    {
     "name": "stdout",
     "output_type": "stream",
     "text": [
      "\r",
      " 27%|██████████▋                             | 543/2027 [00:20<00:46, 31.71it/s]"
     ]
    },
    {
     "name": "stdout",
     "output_type": "stream",
     "text": [
      "\r",
      " 27%|██████████▊                             | 547/2027 [00:20<00:46, 31.56it/s]"
     ]
    },
    {
     "name": "stdout",
     "output_type": "stream",
     "text": [
      "\r",
      " 27%|██████████▊                             | 551/2027 [00:20<00:46, 31.72it/s]"
     ]
    },
    {
     "name": "stdout",
     "output_type": "stream",
     "text": [
      "\r",
      " 27%|██████████▉                             | 555/2027 [00:20<00:48, 30.53it/s]"
     ]
    },
    {
     "name": "stdout",
     "output_type": "stream",
     "text": [
      "\r",
      " 28%|███████████                             | 559/2027 [00:21<00:54, 27.04it/s]"
     ]
    },
    {
     "name": "stdout",
     "output_type": "stream",
     "text": [
      "\r",
      " 28%|███████████                             | 562/2027 [00:21<00:53, 27.49it/s]"
     ]
    },
    {
     "name": "stdout",
     "output_type": "stream",
     "text": [
      "\r",
      " 28%|███████████▏                            | 566/2027 [00:21<00:50, 28.96it/s]"
     ]
    },
    {
     "name": "stdout",
     "output_type": "stream",
     "text": [
      "\r",
      " 28%|███████████▏                            | 570/2027 [00:21<00:49, 29.38it/s]"
     ]
    },
    {
     "name": "stdout",
     "output_type": "stream",
     "text": [
      "\r",
      " 28%|███████████▎                            | 574/2027 [00:21<00:47, 30.56it/s]"
     ]
    },
    {
     "name": "stdout",
     "output_type": "stream",
     "text": [
      "\r",
      " 29%|███████████▍                            | 578/2027 [00:21<00:47, 30.47it/s]"
     ]
    },
    {
     "name": "stdout",
     "output_type": "stream",
     "text": [
      "\r",
      " 29%|███████████▍                            | 582/2027 [00:21<00:45, 31.52it/s]"
     ]
    },
    {
     "name": "stdout",
     "output_type": "stream",
     "text": [
      "\r",
      " 29%|███████████▌                            | 586/2027 [00:21<00:45, 31.95it/s]"
     ]
    },
    {
     "name": "stdout",
     "output_type": "stream",
     "text": [
      "\r",
      " 29%|███████████▋                            | 590/2027 [00:22<00:47, 30.16it/s]"
     ]
    },
    {
     "name": "stdout",
     "output_type": "stream",
     "text": [
      "\r",
      " 29%|███████████▋                            | 594/2027 [00:22<00:52, 27.34it/s]"
     ]
    },
    {
     "name": "stdout",
     "output_type": "stream",
     "text": [
      "\r",
      " 29%|███████████▊                            | 597/2027 [00:22<00:53, 26.80it/s]"
     ]
    },
    {
     "name": "stdout",
     "output_type": "stream",
     "text": [
      "\r",
      " 30%|███████████▊                            | 600/2027 [00:22<00:52, 26.96it/s]"
     ]
    },
    {
     "name": "stdout",
     "output_type": "stream",
     "text": [
      "\r",
      " 30%|███████████▉                            | 604/2027 [00:22<00:50, 27.96it/s]"
     ]
    },
    {
     "name": "stdout",
     "output_type": "stream",
     "text": [
      "\r",
      " 30%|███████████▉                            | 607/2027 [00:22<00:51, 27.34it/s]"
     ]
    },
    {
     "name": "stdout",
     "output_type": "stream",
     "text": [
      "\r",
      " 30%|████████████                            | 611/2027 [00:22<00:49, 28.66it/s]"
     ]
    },
    {
     "name": "stdout",
     "output_type": "stream",
     "text": [
      "\r",
      " 30%|████████████                            | 614/2027 [00:23<00:48, 28.96it/s]"
     ]
    },
    {
     "name": "stdout",
     "output_type": "stream",
     "text": [
      "\r",
      " 30%|████████████▏                           | 618/2027 [00:23<00:46, 30.39it/s]"
     ]
    },
    {
     "name": "stdout",
     "output_type": "stream",
     "text": [
      "\r",
      " 31%|████████████▎                           | 622/2027 [00:23<00:47, 29.46it/s]"
     ]
    },
    {
     "name": "stdout",
     "output_type": "stream",
     "text": [
      "\r",
      " 31%|████████████▎                           | 625/2027 [00:23<00:51, 27.23it/s]"
     ]
    },
    {
     "name": "stdout",
     "output_type": "stream",
     "text": [
      "\r",
      " 31%|████████████▍                           | 628/2027 [00:23<00:52, 26.45it/s]"
     ]
    },
    {
     "name": "stdout",
     "output_type": "stream",
     "text": [
      "\r",
      " 31%|████████████▍                           | 632/2027 [00:23<00:49, 28.14it/s]"
     ]
    },
    {
     "name": "stdout",
     "output_type": "stream",
     "text": [
      "\r",
      " 31%|████████████▌                           | 636/2027 [00:23<00:47, 29.45it/s]"
     ]
    },
    {
     "name": "stdout",
     "output_type": "stream",
     "text": [
      "\r",
      " 32%|████████████▌                           | 639/2027 [00:23<00:48, 28.65it/s]"
     ]
    },
    {
     "name": "stdout",
     "output_type": "stream",
     "text": [
      "\r",
      " 32%|████████████▋                           | 643/2027 [00:24<00:47, 29.01it/s]"
     ]
    },
    {
     "name": "stdout",
     "output_type": "stream",
     "text": [
      "\r",
      " 32%|████████████▋                           | 646/2027 [00:24<00:47, 29.15it/s]"
     ]
    },
    {
     "name": "stdout",
     "output_type": "stream",
     "text": [
      "\r",
      " 32%|████████████▊                           | 649/2027 [00:24<00:48, 28.71it/s]"
     ]
    },
    {
     "name": "stdout",
     "output_type": "stream",
     "text": [
      "\r",
      " 32%|████████████▊                           | 652/2027 [00:24<00:49, 27.90it/s]"
     ]
    },
    {
     "name": "stdout",
     "output_type": "stream",
     "text": [
      "\r",
      " 32%|████████████▉                           | 655/2027 [00:24<00:49, 27.90it/s]"
     ]
    },
    {
     "name": "stdout",
     "output_type": "stream",
     "text": [
      "\r",
      " 33%|█████████████                           | 659/2027 [00:24<00:46, 29.43it/s]"
     ]
    },
    {
     "name": "stdout",
     "output_type": "stream",
     "text": [
      "\r",
      " 33%|█████████████                           | 663/2027 [00:24<00:45, 30.04it/s]"
     ]
    },
    {
     "name": "stdout",
     "output_type": "stream",
     "text": [
      "\r",
      " 33%|█████████████▏                          | 667/2027 [00:24<00:44, 30.26it/s]"
     ]
    },
    {
     "name": "stdout",
     "output_type": "stream",
     "text": [
      "\r",
      " 33%|█████████████▏                          | 671/2027 [00:24<00:43, 31.37it/s]"
     ]
    },
    {
     "name": "stdout",
     "output_type": "stream",
     "text": [
      "\r",
      " 33%|█████████████▎                          | 675/2027 [00:25<00:46, 29.05it/s]"
     ]
    },
    {
     "name": "stdout",
     "output_type": "stream",
     "text": [
      "\r",
      " 33%|█████████████▍                          | 678/2027 [00:25<00:46, 29.12it/s]"
     ]
    },
    {
     "name": "stdout",
     "output_type": "stream",
     "text": [
      "\r",
      " 34%|█████████████▍                          | 681/2027 [00:25<00:47, 28.27it/s]"
     ]
    },
    {
     "name": "stdout",
     "output_type": "stream",
     "text": [
      "\r",
      " 34%|█████████████▍                          | 684/2027 [00:25<00:49, 27.10it/s]"
     ]
    },
    {
     "name": "stdout",
     "output_type": "stream",
     "text": [
      "\r",
      " 34%|█████████████▌                          | 687/2027 [00:25<00:52, 25.48it/s]"
     ]
    },
    {
     "name": "stdout",
     "output_type": "stream",
     "text": [
      "\r",
      " 34%|█████████████▌                          | 690/2027 [00:25<00:52, 25.25it/s]"
     ]
    },
    {
     "name": "stdout",
     "output_type": "stream",
     "text": [
      "\r",
      " 34%|█████████████▋                          | 693/2027 [00:25<00:51, 26.03it/s]"
     ]
    },
    {
     "name": "stdout",
     "output_type": "stream",
     "text": [
      "\r",
      " 34%|█████████████▋                          | 696/2027 [00:25<00:51, 25.72it/s]"
     ]
    },
    {
     "name": "stdout",
     "output_type": "stream",
     "text": [
      "\r",
      " 34%|█████████████▊                          | 699/2027 [00:26<00:53, 24.66it/s]"
     ]
    },
    {
     "name": "stdout",
     "output_type": "stream",
     "text": [
      "\r",
      " 35%|█████████████▊                          | 703/2027 [00:26<00:50, 26.45it/s]"
     ]
    },
    {
     "name": "stdout",
     "output_type": "stream",
     "text": [
      "\r",
      " 35%|█████████████▉                          | 706/2027 [00:26<00:49, 26.92it/s]"
     ]
    },
    {
     "name": "stdout",
     "output_type": "stream",
     "text": [
      "\r",
      " 35%|█████████████▉                          | 709/2027 [00:26<00:49, 26.82it/s]"
     ]
    },
    {
     "name": "stdout",
     "output_type": "stream",
     "text": [
      "\r",
      " 35%|██████████████                          | 713/2027 [00:26<00:46, 28.35it/s]"
     ]
    },
    {
     "name": "stdout",
     "output_type": "stream",
     "text": [
      "\r",
      " 35%|██████████████▏                         | 716/2027 [00:26<00:47, 27.52it/s]"
     ]
    },
    {
     "name": "stdout",
     "output_type": "stream",
     "text": [
      "\r",
      " 35%|██████████████▏                         | 719/2027 [00:26<00:46, 28.06it/s]"
     ]
    },
    {
     "name": "stdout",
     "output_type": "stream",
     "text": [
      "\r",
      " 36%|██████████████▏                         | 722/2027 [00:26<00:46, 28.18it/s]"
     ]
    },
    {
     "name": "stdout",
     "output_type": "stream",
     "text": [
      "\r",
      " 36%|██████████████▎                         | 726/2027 [00:27<00:46, 28.08it/s]"
     ]
    },
    {
     "name": "stdout",
     "output_type": "stream",
     "text": [
      "\r",
      " 36%|██████████████▍                         | 729/2027 [00:27<00:48, 26.93it/s]"
     ]
    },
    {
     "name": "stdout",
     "output_type": "stream",
     "text": [
      "\r",
      " 36%|██████████████▍                         | 732/2027 [00:27<00:48, 26.75it/s]"
     ]
    },
    {
     "name": "stdout",
     "output_type": "stream",
     "text": [
      "\r",
      " 36%|██████████████▌                         | 736/2027 [00:27<00:45, 28.43it/s]"
     ]
    },
    {
     "name": "stdout",
     "output_type": "stream",
     "text": [
      "\r",
      " 37%|██████████████▌                         | 740/2027 [00:27<00:44, 29.16it/s]"
     ]
    },
    {
     "name": "stdout",
     "output_type": "stream",
     "text": [
      "\r",
      " 37%|██████████████▋                         | 744/2027 [00:27<00:42, 30.37it/s]"
     ]
    },
    {
     "name": "stdout",
     "output_type": "stream",
     "text": [
      "\r",
      " 37%|██████████████▊                         | 748/2027 [00:27<00:42, 30.03it/s]"
     ]
    },
    {
     "name": "stdout",
     "output_type": "stream",
     "text": [
      "\r",
      " 37%|██████████████▊                         | 752/2027 [00:27<00:43, 28.98it/s]"
     ]
    },
    {
     "name": "stdout",
     "output_type": "stream",
     "text": [
      "\r",
      " 37%|██████████████▉                         | 755/2027 [00:28<00:44, 28.51it/s]"
     ]
    },
    {
     "name": "stdout",
     "output_type": "stream",
     "text": [
      "\r",
      " 37%|██████████████▉                         | 759/2027 [00:28<00:43, 29.39it/s]"
     ]
    },
    {
     "name": "stdout",
     "output_type": "stream",
     "text": [
      "\r",
      " 38%|███████████████                         | 763/2027 [00:28<00:42, 29.54it/s]"
     ]
    },
    {
     "name": "stdout",
     "output_type": "stream",
     "text": [
      "\r",
      " 38%|███████████████                         | 766/2027 [00:28<00:44, 28.29it/s]"
     ]
    },
    {
     "name": "stdout",
     "output_type": "stream",
     "text": [
      "\r",
      " 38%|███████████████▏                        | 770/2027 [00:28<00:42, 29.56it/s]"
     ]
    },
    {
     "name": "stdout",
     "output_type": "stream",
     "text": [
      "\r",
      " 38%|███████████████▎                        | 773/2027 [00:28<00:43, 28.53it/s]"
     ]
    },
    {
     "name": "stdout",
     "output_type": "stream",
     "text": [
      "\r",
      " 38%|███████████████▎                        | 776/2027 [00:28<00:46, 26.67it/s]"
     ]
    },
    {
     "name": "stdout",
     "output_type": "stream",
     "text": [
      "\r",
      " 38%|███████████████▎                        | 779/2027 [00:28<00:46, 27.13it/s]"
     ]
    },
    {
     "name": "stdout",
     "output_type": "stream",
     "text": [
      "\r",
      " 39%|███████████████▍                        | 782/2027 [00:29<00:50, 24.85it/s]"
     ]
    },
    {
     "name": "stdout",
     "output_type": "stream",
     "text": [
      "\r",
      " 39%|███████████████▍                        | 785/2027 [00:29<00:49, 25.12it/s]"
     ]
    },
    {
     "name": "stdout",
     "output_type": "stream",
     "text": [
      "\r",
      " 39%|███████████████▌                        | 788/2027 [00:29<00:47, 26.32it/s]"
     ]
    },
    {
     "name": "stdout",
     "output_type": "stream",
     "text": [
      "\r",
      " 39%|███████████████▋                        | 792/2027 [00:29<00:45, 27.14it/s]"
     ]
    },
    {
     "name": "stdout",
     "output_type": "stream",
     "text": [
      "\r",
      " 39%|███████████████▋                        | 796/2027 [00:29<00:44, 27.68it/s]"
     ]
    },
    {
     "name": "stdout",
     "output_type": "stream",
     "text": [
      "\r",
      " 39%|███████████████▊                        | 799/2027 [00:29<00:46, 26.51it/s]"
     ]
    },
    {
     "name": "stdout",
     "output_type": "stream",
     "text": [
      "\r",
      " 40%|███████████████▊                        | 802/2027 [00:29<00:45, 26.86it/s]"
     ]
    },
    {
     "name": "stdout",
     "output_type": "stream",
     "text": [
      "\r",
      " 40%|███████████████▉                        | 805/2027 [00:29<00:44, 27.60it/s]"
     ]
    },
    {
     "name": "stdout",
     "output_type": "stream",
     "text": [
      "\r",
      " 40%|███████████████▉                        | 809/2027 [00:29<00:42, 28.77it/s]"
     ]
    },
    {
     "name": "stdout",
     "output_type": "stream",
     "text": [
      "\r",
      " 40%|████████████████                        | 812/2027 [00:30<00:42, 28.80it/s]"
     ]
    },
    {
     "name": "stdout",
     "output_type": "stream",
     "text": [
      "\r",
      " 40%|████████████████                        | 816/2027 [00:30<00:40, 30.09it/s]"
     ]
    },
    {
     "name": "stdout",
     "output_type": "stream",
     "text": [
      "\r",
      " 40%|████████████████▏                       | 820/2027 [00:30<00:40, 30.11it/s]"
     ]
    },
    {
     "name": "stdout",
     "output_type": "stream",
     "text": [
      "\r",
      " 41%|████████████████▎                       | 824/2027 [00:30<00:41, 29.08it/s]"
     ]
    },
    {
     "name": "stdout",
     "output_type": "stream",
     "text": [
      "\r",
      " 41%|████████████████▎                       | 827/2027 [00:30<00:42, 28.42it/s]"
     ]
    },
    {
     "name": "stdout",
     "output_type": "stream",
     "text": [
      "\r",
      " 41%|████████████████▍                       | 831/2027 [00:30<00:40, 29.19it/s]"
     ]
    },
    {
     "name": "stdout",
     "output_type": "stream",
     "text": [
      "\r",
      " 41%|████████████████▍                       | 835/2027 [00:30<00:38, 30.62it/s]"
     ]
    },
    {
     "name": "stdout",
     "output_type": "stream",
     "text": [
      "\r",
      " 41%|████████████████▌                       | 839/2027 [00:31<00:41, 28.76it/s]"
     ]
    },
    {
     "name": "stdout",
     "output_type": "stream",
     "text": [
      "\r",
      " 42%|████████████████▋                       | 843/2027 [00:31<00:42, 27.59it/s]"
     ]
    },
    {
     "name": "stdout",
     "output_type": "stream",
     "text": [
      "\r",
      " 42%|████████████████▋                       | 846/2027 [00:31<00:44, 26.41it/s]"
     ]
    },
    {
     "name": "stdout",
     "output_type": "stream",
     "text": [
      "\r",
      " 42%|████████████████▊                       | 849/2027 [00:31<00:52, 22.55it/s]"
     ]
    },
    {
     "name": "stdout",
     "output_type": "stream",
     "text": [
      "\r",
      " 42%|████████████████▊                       | 852/2027 [00:31<00:49, 23.72it/s]"
     ]
    },
    {
     "name": "stdout",
     "output_type": "stream",
     "text": [
      "\r",
      " 42%|████████████████▊                       | 855/2027 [00:31<00:48, 24.00it/s]"
     ]
    },
    {
     "name": "stdout",
     "output_type": "stream",
     "text": [
      "\r",
      " 42%|████████████████▉                       | 858/2027 [00:31<00:45, 25.45it/s]"
     ]
    },
    {
     "name": "stdout",
     "output_type": "stream",
     "text": [
      "\r",
      " 42%|████████████████▉                       | 861/2027 [00:31<00:46, 24.95it/s]"
     ]
    },
    {
     "name": "stdout",
     "output_type": "stream",
     "text": [
      "\r",
      " 43%|█████████████████                       | 864/2027 [00:32<00:47, 24.73it/s]"
     ]
    },
    {
     "name": "stdout",
     "output_type": "stream",
     "text": [
      "\r",
      " 43%|█████████████████                       | 867/2027 [00:32<00:46, 25.15it/s]"
     ]
    },
    {
     "name": "stdout",
     "output_type": "stream",
     "text": [
      "\r",
      " 43%|█████████████████▏                      | 870/2027 [00:32<00:48, 24.04it/s]"
     ]
    },
    {
     "name": "stdout",
     "output_type": "stream",
     "text": [
      "\r",
      " 43%|█████████████████▏                      | 873/2027 [00:32<00:50, 22.78it/s]"
     ]
    },
    {
     "name": "stdout",
     "output_type": "stream",
     "text": [
      "\r",
      " 43%|█████████████████▎                      | 876/2027 [00:32<00:51, 22.31it/s]"
     ]
    },
    {
     "name": "stdout",
     "output_type": "stream",
     "text": [
      "\r",
      " 43%|█████████████████▎                      | 879/2027 [00:32<00:49, 23.09it/s]"
     ]
    },
    {
     "name": "stdout",
     "output_type": "stream",
     "text": [
      "\r",
      " 44%|█████████████████▍                      | 883/2027 [00:32<00:44, 25.96it/s]"
     ]
    },
    {
     "name": "stdout",
     "output_type": "stream",
     "text": [
      "\r",
      " 44%|█████████████████▍                      | 886/2027 [00:32<00:43, 26.49it/s]"
     ]
    },
    {
     "name": "stdout",
     "output_type": "stream",
     "text": [
      "\r",
      " 44%|█████████████████▌                      | 889/2027 [00:33<00:44, 25.71it/s]"
     ]
    },
    {
     "name": "stdout",
     "output_type": "stream",
     "text": [
      "\r",
      " 44%|█████████████████▌                      | 892/2027 [00:33<00:45, 24.85it/s]"
     ]
    },
    {
     "name": "stdout",
     "output_type": "stream",
     "text": [
      "\r",
      " 44%|█████████████████▋                      | 895/2027 [00:33<00:44, 25.69it/s]"
     ]
    },
    {
     "name": "stdout",
     "output_type": "stream",
     "text": [
      "\r",
      " 44%|█████████████████▋                      | 899/2027 [00:33<00:40, 27.67it/s]"
     ]
    },
    {
     "name": "stdout",
     "output_type": "stream",
     "text": [
      "\r",
      " 44%|█████████████████▊                      | 902/2027 [00:33<00:40, 28.10it/s]"
     ]
    },
    {
     "name": "stdout",
     "output_type": "stream",
     "text": [
      "\r",
      " 45%|█████████████████▉                      | 906/2027 [00:33<00:38, 29.22it/s]"
     ]
    },
    {
     "name": "stdout",
     "output_type": "stream",
     "text": [
      "\r",
      " 45%|█████████████████▉                      | 910/2027 [00:33<00:37, 30.04it/s]"
     ]
    },
    {
     "name": "stdout",
     "output_type": "stream",
     "text": [
      "\r",
      " 45%|██████████████████                      | 914/2027 [00:33<00:35, 31.19it/s]"
     ]
    },
    {
     "name": "stdout",
     "output_type": "stream",
     "text": [
      "\r",
      " 45%|██████████████████                      | 918/2027 [00:34<00:34, 31.88it/s]"
     ]
    },
    {
     "name": "stdout",
     "output_type": "stream",
     "text": [
      "\r",
      " 45%|██████████████████▏                     | 922/2027 [00:34<00:35, 31.15it/s]"
     ]
    },
    {
     "name": "stdout",
     "output_type": "stream",
     "text": [
      "\r",
      " 46%|██████████████████▎                     | 926/2027 [00:34<00:36, 30.55it/s]"
     ]
    },
    {
     "name": "stdout",
     "output_type": "stream",
     "text": [
      "\r",
      " 46%|██████████████████▎                     | 930/2027 [00:34<00:36, 30.37it/s]"
     ]
    },
    {
     "name": "stdout",
     "output_type": "stream",
     "text": [
      "\r",
      " 46%|██████████████████▍                     | 934/2027 [00:34<00:35, 30.51it/s]"
     ]
    },
    {
     "name": "stdout",
     "output_type": "stream",
     "text": [
      "\r",
      " 46%|██████████████████▌                     | 938/2027 [00:34<00:35, 30.38it/s]"
     ]
    },
    {
     "name": "stdout",
     "output_type": "stream",
     "text": [
      "\r",
      " 46%|██████████████████▌                     | 942/2027 [00:34<00:35, 30.34it/s]"
     ]
    },
    {
     "name": "stdout",
     "output_type": "stream",
     "text": [
      "\r",
      " 47%|██████████████████▋                     | 946/2027 [00:34<00:37, 28.98it/s]"
     ]
    },
    {
     "name": "stdout",
     "output_type": "stream",
     "text": [
      "\r",
      " 47%|██████████████████▋                     | 949/2027 [00:35<00:38, 28.23it/s]"
     ]
    },
    {
     "name": "stdout",
     "output_type": "stream",
     "text": [
      "\r",
      " 47%|██████████████████▊                     | 953/2027 [00:35<00:36, 29.78it/s]"
     ]
    },
    {
     "name": "stdout",
     "output_type": "stream",
     "text": [
      "\r",
      " 47%|██████████████████▉                     | 957/2027 [00:35<00:35, 29.78it/s]"
     ]
    },
    {
     "name": "stdout",
     "output_type": "stream",
     "text": [
      "\r",
      " 47%|██████████████████▉                     | 960/2027 [00:35<00:37, 28.84it/s]"
     ]
    },
    {
     "name": "stdout",
     "output_type": "stream",
     "text": [
      "\r",
      " 48%|███████████████████                     | 963/2027 [00:35<00:38, 27.70it/s]"
     ]
    },
    {
     "name": "stdout",
     "output_type": "stream",
     "text": [
      "\r",
      " 48%|███████████████████                     | 966/2027 [00:35<00:38, 27.73it/s]"
     ]
    },
    {
     "name": "stdout",
     "output_type": "stream",
     "text": [
      "\r",
      " 48%|███████████████████                     | 969/2027 [00:35<00:37, 28.25it/s]"
     ]
    },
    {
     "name": "stdout",
     "output_type": "stream",
     "text": [
      "\r",
      " 48%|███████████████████▏                    | 972/2027 [00:35<00:37, 28.37it/s]"
     ]
    },
    {
     "name": "stdout",
     "output_type": "stream",
     "text": [
      "\r",
      " 48%|███████████████████▎                    | 976/2027 [00:36<00:35, 29.34it/s]"
     ]
    },
    {
     "name": "stdout",
     "output_type": "stream",
     "text": [
      "\r",
      " 48%|███████████████████▎                    | 979/2027 [00:36<00:35, 29.26it/s]"
     ]
    },
    {
     "name": "stdout",
     "output_type": "stream",
     "text": [
      "\r",
      " 48%|███████████████████▍                    | 983/2027 [00:36<00:34, 30.06it/s]"
     ]
    },
    {
     "name": "stdout",
     "output_type": "stream",
     "text": [
      "\r",
      " 49%|███████████████████▍                    | 986/2027 [00:36<00:37, 27.83it/s]"
     ]
    },
    {
     "name": "stdout",
     "output_type": "stream",
     "text": [
      "\r",
      " 49%|███████████████████▌                    | 989/2027 [00:36<00:39, 26.23it/s]"
     ]
    },
    {
     "name": "stdout",
     "output_type": "stream",
     "text": [
      "\r",
      " 49%|███████████████████▌                    | 992/2027 [00:36<00:40, 25.77it/s]"
     ]
    },
    {
     "name": "stdout",
     "output_type": "stream",
     "text": [
      "\r",
      " 49%|███████████████████▋                    | 995/2027 [00:36<00:44, 23.27it/s]"
     ]
    },
    {
     "name": "stdout",
     "output_type": "stream",
     "text": [
      "\r",
      " 49%|███████████████████▋                    | 998/2027 [00:36<00:48, 21.31it/s]"
     ]
    },
    {
     "name": "stdout",
     "output_type": "stream",
     "text": [
      "\r",
      " 49%|███████████████████▎                   | 1001/2027 [00:37<00:50, 20.13it/s]"
     ]
    },
    {
     "name": "stdout",
     "output_type": "stream",
     "text": [
      "\r",
      " 50%|███████████████████▎                   | 1004/2027 [00:37<00:53, 19.24it/s]"
     ]
    },
    {
     "name": "stdout",
     "output_type": "stream",
     "text": [
      "\r",
      " 50%|███████████████████▎                   | 1007/2027 [00:37<00:51, 19.67it/s]"
     ]
    },
    {
     "name": "stdout",
     "output_type": "stream",
     "text": [
      "\r",
      " 50%|███████████████████▍                   | 1010/2027 [00:37<00:49, 20.44it/s]"
     ]
    },
    {
     "name": "stdout",
     "output_type": "stream",
     "text": [
      "\r",
      " 50%|███████████████████▍                   | 1013/2027 [00:37<00:48, 20.98it/s]"
     ]
    },
    {
     "name": "stdout",
     "output_type": "stream",
     "text": [
      "\r",
      " 50%|███████████████████▌                   | 1016/2027 [00:37<00:45, 22.07it/s]"
     ]
    },
    {
     "name": "stdout",
     "output_type": "stream",
     "text": [
      "\r",
      " 50%|███████████████████▌                   | 1019/2027 [00:37<00:43, 23.18it/s]"
     ]
    },
    {
     "name": "stdout",
     "output_type": "stream",
     "text": [
      "\r",
      " 50%|███████████████████▋                   | 1022/2027 [00:38<00:42, 23.44it/s]"
     ]
    },
    {
     "name": "stdout",
     "output_type": "stream",
     "text": [
      "\r",
      " 51%|███████████████████▋                   | 1025/2027 [00:38<00:43, 22.91it/s]"
     ]
    },
    {
     "name": "stdout",
     "output_type": "stream",
     "text": [
      "\r",
      " 51%|███████████████████▊                   | 1028/2027 [00:38<00:42, 23.50it/s]"
     ]
    },
    {
     "name": "stdout",
     "output_type": "stream",
     "text": [
      "\r",
      " 51%|███████████████████▊                   | 1031/2027 [00:38<00:43, 22.75it/s]"
     ]
    },
    {
     "name": "stdout",
     "output_type": "stream",
     "text": [
      "\r",
      " 51%|███████████████████▉                   | 1034/2027 [00:38<00:42, 23.32it/s]"
     ]
    },
    {
     "name": "stdout",
     "output_type": "stream",
     "text": [
      "\r",
      " 51%|███████████████████▉                   | 1037/2027 [00:38<00:42, 23.27it/s]"
     ]
    },
    {
     "name": "stdout",
     "output_type": "stream",
     "text": [
      "\r",
      " 51%|████████████████████                   | 1040/2027 [00:38<00:39, 24.72it/s]"
     ]
    },
    {
     "name": "stdout",
     "output_type": "stream",
     "text": [
      "\r",
      " 51%|████████████████████                   | 1043/2027 [00:38<00:38, 25.56it/s]"
     ]
    },
    {
     "name": "stdout",
     "output_type": "stream",
     "text": [
      "\r",
      " 52%|████████████████████▏                  | 1046/2027 [00:39<00:38, 25.53it/s]"
     ]
    },
    {
     "name": "stdout",
     "output_type": "stream",
     "text": [
      "\r",
      " 52%|████████████████████▏                  | 1050/2027 [00:39<00:35, 27.51it/s]"
     ]
    },
    {
     "name": "stdout",
     "output_type": "stream",
     "text": [
      "\r",
      " 52%|████████████████████▎                  | 1053/2027 [00:39<00:35, 27.71it/s]"
     ]
    },
    {
     "name": "stdout",
     "output_type": "stream",
     "text": [
      "\r",
      " 52%|████████████████████▎                  | 1057/2027 [00:39<00:33, 29.06it/s]"
     ]
    },
    {
     "name": "stdout",
     "output_type": "stream",
     "text": [
      "\r",
      " 52%|████████████████████▍                  | 1060/2027 [00:39<00:34, 28.00it/s]"
     ]
    },
    {
     "name": "stdout",
     "output_type": "stream",
     "text": [
      "\r",
      " 52%|████████████████████▍                  | 1063/2027 [00:39<00:34, 28.06it/s]"
     ]
    },
    {
     "name": "stdout",
     "output_type": "stream",
     "text": [
      "\r",
      " 53%|████████████████████▌                  | 1066/2027 [00:39<00:34, 27.57it/s]"
     ]
    },
    {
     "name": "stdout",
     "output_type": "stream",
     "text": [
      "\r",
      " 53%|████████████████████▌                  | 1070/2027 [00:39<00:32, 29.22it/s]"
     ]
    },
    {
     "name": "stdout",
     "output_type": "stream",
     "text": [
      "\r",
      " 53%|████████████████████▋                  | 1074/2027 [00:39<00:32, 29.69it/s]"
     ]
    },
    {
     "name": "stdout",
     "output_type": "stream",
     "text": [
      "\r",
      " 53%|████████████████████▋                  | 1078/2027 [00:40<00:31, 30.49it/s]"
     ]
    },
    {
     "name": "stdout",
     "output_type": "stream",
     "text": [
      "\r",
      " 53%|████████████████████▊                  | 1082/2027 [00:40<00:32, 29.52it/s]"
     ]
    },
    {
     "name": "stdout",
     "output_type": "stream",
     "text": [
      "\r",
      " 54%|████████████████████▉                  | 1085/2027 [00:40<00:33, 28.11it/s]"
     ]
    },
    {
     "name": "stdout",
     "output_type": "stream",
     "text": [
      "\r",
      " 54%|████████████████████▉                  | 1088/2027 [00:40<00:32, 28.52it/s]"
     ]
    },
    {
     "name": "stdout",
     "output_type": "stream",
     "text": [
      "\r",
      " 54%|█████████████████████                  | 1092/2027 [00:40<00:30, 30.26it/s]"
     ]
    },
    {
     "name": "stdout",
     "output_type": "stream",
     "text": [
      "\r",
      " 54%|█████████████████████                  | 1096/2027 [00:40<00:33, 28.16it/s]"
     ]
    },
    {
     "name": "stdout",
     "output_type": "stream",
     "text": [
      "\r",
      " 54%|█████████████████████▏                 | 1099/2027 [00:40<00:33, 27.86it/s]"
     ]
    },
    {
     "name": "stdout",
     "output_type": "stream",
     "text": [
      "\r",
      " 54%|█████████████████████▏                 | 1103/2027 [00:41<00:31, 29.28it/s]"
     ]
    },
    {
     "name": "stdout",
     "output_type": "stream",
     "text": [
      "\r",
      " 55%|█████████████████████▎                 | 1107/2027 [00:41<00:30, 30.00it/s]"
     ]
    },
    {
     "name": "stdout",
     "output_type": "stream",
     "text": [
      "\r",
      " 55%|█████████████████████▍                 | 1111/2027 [00:41<00:31, 29.04it/s]"
     ]
    },
    {
     "name": "stdout",
     "output_type": "stream",
     "text": [
      "\r",
      " 55%|█████████████████████▍                 | 1114/2027 [00:41<00:32, 28.19it/s]"
     ]
    },
    {
     "name": "stdout",
     "output_type": "stream",
     "text": [
      "\r",
      " 55%|█████████████████████▍                 | 1117/2027 [00:41<00:32, 27.68it/s]"
     ]
    },
    {
     "name": "stdout",
     "output_type": "stream",
     "text": [
      "\r",
      " 55%|█████████████████████▌                 | 1120/2027 [00:41<00:32, 27.79it/s]"
     ]
    },
    {
     "name": "stdout",
     "output_type": "stream",
     "text": [
      "\r",
      " 55%|█████████████████████▌                 | 1123/2027 [00:41<00:32, 28.18it/s]"
     ]
    },
    {
     "name": "stdout",
     "output_type": "stream",
     "text": [
      "\r",
      " 56%|█████████████████████▋                 | 1126/2027 [00:41<00:31, 28.65it/s]"
     ]
    },
    {
     "name": "stdout",
     "output_type": "stream",
     "text": [
      "\r",
      " 56%|█████████████████████▋                 | 1130/2027 [00:41<00:30, 29.47it/s]"
     ]
    },
    {
     "name": "stdout",
     "output_type": "stream",
     "text": [
      "\r",
      " 56%|█████████████████████▊                 | 1133/2027 [00:42<00:31, 28.31it/s]"
     ]
    },
    {
     "name": "stdout",
     "output_type": "stream",
     "text": [
      "\r",
      " 56%|█████████████████████▊                 | 1136/2027 [00:42<00:31, 28.07it/s]"
     ]
    },
    {
     "name": "stdout",
     "output_type": "stream",
     "text": [
      "\r",
      " 56%|█████████████████████▉                 | 1139/2027 [00:42<00:32, 27.25it/s]"
     ]
    },
    {
     "name": "stdout",
     "output_type": "stream",
     "text": [
      "\r",
      " 56%|█████████████████████▉                 | 1142/2027 [00:42<00:33, 26.40it/s]"
     ]
    },
    {
     "name": "stdout",
     "output_type": "stream",
     "text": [
      "\r",
      " 57%|██████████████████████                 | 1146/2027 [00:42<00:31, 28.09it/s]"
     ]
    },
    {
     "name": "stdout",
     "output_type": "stream",
     "text": [
      "\r",
      " 57%|██████████████████████▏                | 1150/2027 [00:42<00:30, 28.80it/s]"
     ]
    },
    {
     "name": "stdout",
     "output_type": "stream",
     "text": [
      "\r",
      " 57%|██████████████████████▏                | 1154/2027 [00:42<00:29, 29.67it/s]"
     ]
    },
    {
     "name": "stdout",
     "output_type": "stream",
     "text": [
      "\r",
      " 57%|██████████████████████▎                | 1158/2027 [00:42<00:28, 30.10it/s]"
     ]
    },
    {
     "name": "stdout",
     "output_type": "stream",
     "text": [
      "\r",
      " 57%|██████████████████████▎                | 1162/2027 [00:43<00:28, 30.39it/s]"
     ]
    },
    {
     "name": "stdout",
     "output_type": "stream",
     "text": [
      "\r",
      " 58%|██████████████████████▍                | 1166/2027 [00:43<00:28, 30.32it/s]"
     ]
    },
    {
     "name": "stdout",
     "output_type": "stream",
     "text": [
      "\r",
      " 58%|██████████████████████▌                | 1170/2027 [00:43<00:29, 29.53it/s]"
     ]
    },
    {
     "name": "stdout",
     "output_type": "stream",
     "text": [
      "\r",
      " 58%|██████████████████████▌                | 1174/2027 [00:43<00:27, 30.53it/s]"
     ]
    },
    {
     "name": "stdout",
     "output_type": "stream",
     "text": [
      "\r",
      " 58%|██████████████████████▋                | 1178/2027 [00:43<00:27, 30.71it/s]"
     ]
    },
    {
     "name": "stdout",
     "output_type": "stream",
     "text": [
      "\r",
      " 58%|██████████████████████▋                | 1182/2027 [00:43<00:27, 30.76it/s]"
     ]
    },
    {
     "name": "stdout",
     "output_type": "stream",
     "text": [
      "\r",
      " 59%|██████████████████████▊                | 1186/2027 [00:43<00:27, 30.76it/s]"
     ]
    },
    {
     "name": "stdout",
     "output_type": "stream",
     "text": [
      "\r",
      " 59%|██████████████████████▉                | 1190/2027 [00:43<00:28, 29.52it/s]"
     ]
    },
    {
     "name": "stdout",
     "output_type": "stream",
     "text": [
      "\r",
      " 59%|██████████████████████▉                | 1193/2027 [00:44<00:28, 29.38it/s]"
     ]
    },
    {
     "name": "stdout",
     "output_type": "stream",
     "text": [
      "\r",
      " 59%|███████████████████████                | 1196/2027 [00:44<00:29, 28.12it/s]"
     ]
    },
    {
     "name": "stdout",
     "output_type": "stream",
     "text": [
      "\r",
      " 59%|███████████████████████                | 1200/2027 [00:44<00:28, 28.94it/s]"
     ]
    },
    {
     "name": "stdout",
     "output_type": "stream",
     "text": [
      "\r",
      " 59%|███████████████████████▏               | 1204/2027 [00:44<00:27, 30.43it/s]"
     ]
    },
    {
     "name": "stdout",
     "output_type": "stream",
     "text": [
      "\r",
      " 60%|███████████████████████▏               | 1208/2027 [00:44<00:26, 31.04it/s]"
     ]
    },
    {
     "name": "stdout",
     "output_type": "stream",
     "text": [
      "\r",
      " 60%|███████████████████████▎               | 1212/2027 [00:44<00:26, 31.03it/s]"
     ]
    },
    {
     "name": "stdout",
     "output_type": "stream",
     "text": [
      "\r",
      " 60%|███████████████████████▍               | 1216/2027 [00:44<00:26, 31.00it/s]"
     ]
    },
    {
     "name": "stdout",
     "output_type": "stream",
     "text": [
      "\r",
      " 60%|███████████████████████▍               | 1220/2027 [00:44<00:26, 30.90it/s]"
     ]
    },
    {
     "name": "stdout",
     "output_type": "stream",
     "text": [
      "\r",
      " 60%|███████████████████████▌               | 1224/2027 [00:45<00:25, 31.90it/s]"
     ]
    },
    {
     "name": "stdout",
     "output_type": "stream",
     "text": [
      "\r",
      " 61%|███████████████████████▋               | 1228/2027 [00:45<00:26, 30.61it/s]"
     ]
    },
    {
     "name": "stdout",
     "output_type": "stream",
     "text": [
      "\r",
      " 61%|███████████████████████▋               | 1232/2027 [00:45<00:25, 31.48it/s]"
     ]
    },
    {
     "name": "stdout",
     "output_type": "stream",
     "text": [
      "\r",
      " 61%|███████████████████████▊               | 1236/2027 [00:45<00:26, 29.68it/s]"
     ]
    },
    {
     "name": "stdout",
     "output_type": "stream",
     "text": [
      "\r",
      " 61%|███████████████████████▊               | 1240/2027 [00:45<00:27, 28.41it/s]"
     ]
    },
    {
     "name": "stdout",
     "output_type": "stream",
     "text": [
      "\r",
      " 61%|███████████████████████▉               | 1243/2027 [00:45<00:27, 28.28it/s]"
     ]
    },
    {
     "name": "stdout",
     "output_type": "stream",
     "text": [
      "\r",
      " 62%|███████████████████████▉               | 1247/2027 [00:45<00:26, 29.05it/s]"
     ]
    },
    {
     "name": "stdout",
     "output_type": "stream",
     "text": [
      "\r",
      " 62%|████████████████████████               | 1250/2027 [00:45<00:26, 28.80it/s]"
     ]
    },
    {
     "name": "stdout",
     "output_type": "stream",
     "text": [
      "\r",
      " 62%|████████████████████████               | 1253/2027 [00:46<00:27, 28.38it/s]"
     ]
    },
    {
     "name": "stdout",
     "output_type": "stream",
     "text": [
      "\r",
      " 62%|████████████████████████▏              | 1257/2027 [00:46<00:25, 30.10it/s]"
     ]
    },
    {
     "name": "stdout",
     "output_type": "stream",
     "text": [
      "\r",
      " 62%|████████████████████████▎              | 1261/2027 [00:46<00:26, 28.47it/s]"
     ]
    },
    {
     "name": "stdout",
     "output_type": "stream",
     "text": [
      "\r",
      " 62%|████████████████████████▎              | 1264/2027 [00:46<00:27, 27.91it/s]"
     ]
    },
    {
     "name": "stdout",
     "output_type": "stream",
     "text": [
      "\r",
      " 63%|████████████████████████▍              | 1268/2027 [00:46<00:26, 29.05it/s]"
     ]
    },
    {
     "name": "stdout",
     "output_type": "stream",
     "text": [
      "\r",
      " 63%|████████████████████████▍              | 1272/2027 [00:46<00:25, 29.90it/s]"
     ]
    },
    {
     "name": "stdout",
     "output_type": "stream",
     "text": [
      "\r",
      " 63%|████████████████████████▌              | 1276/2027 [00:46<00:24, 30.33it/s]"
     ]
    },
    {
     "name": "stdout",
     "output_type": "stream",
     "text": [
      "\r",
      " 63%|████████████████████████▋              | 1280/2027 [00:47<00:26, 28.65it/s]"
     ]
    },
    {
     "name": "stdout",
     "output_type": "stream",
     "text": [
      "\r",
      " 63%|████████████████████████▋              | 1283/2027 [00:47<00:27, 27.17it/s]"
     ]
    },
    {
     "name": "stdout",
     "output_type": "stream",
     "text": [
      "\r",
      " 63%|████████████████████████▊              | 1287/2027 [00:47<00:26, 28.20it/s]"
     ]
    },
    {
     "name": "stdout",
     "output_type": "stream",
     "text": [
      "\r",
      " 64%|████████████████████████▊              | 1290/2027 [00:47<00:26, 27.72it/s]"
     ]
    },
    {
     "name": "stdout",
     "output_type": "stream",
     "text": [
      "\r",
      " 64%|████████████████████████▉              | 1293/2027 [00:47<00:28, 26.10it/s]"
     ]
    },
    {
     "name": "stdout",
     "output_type": "stream",
     "text": [
      "\r",
      " 64%|████████████████████████▉              | 1296/2027 [00:47<00:30, 23.82it/s]"
     ]
    },
    {
     "name": "stdout",
     "output_type": "stream",
     "text": [
      "\r",
      " 64%|████████████████████████▉              | 1299/2027 [00:47<00:30, 24.17it/s]"
     ]
    },
    {
     "name": "stdout",
     "output_type": "stream",
     "text": [
      "\r",
      " 64%|█████████████████████████              | 1302/2027 [00:47<00:28, 25.26it/s]"
     ]
    },
    {
     "name": "stdout",
     "output_type": "stream",
     "text": [
      "\r",
      " 64%|█████████████████████████              | 1305/2027 [00:48<00:27, 26.29it/s]"
     ]
    },
    {
     "name": "stdout",
     "output_type": "stream",
     "text": [
      "\r",
      " 65%|█████████████████████████▏             | 1308/2027 [00:48<00:26, 26.93it/s]"
     ]
    },
    {
     "name": "stdout",
     "output_type": "stream",
     "text": [
      "\r",
      " 65%|█████████████████████████▏             | 1311/2027 [00:48<00:28, 25.35it/s]"
     ]
    },
    {
     "name": "stdout",
     "output_type": "stream",
     "text": [
      "\r",
      " 65%|█████████████████████████▎             | 1314/2027 [00:48<00:28, 25.00it/s]"
     ]
    },
    {
     "name": "stdout",
     "output_type": "stream",
     "text": [
      "\r",
      " 65%|█████████████████████████▎             | 1317/2027 [00:48<00:27, 25.43it/s]"
     ]
    },
    {
     "name": "stdout",
     "output_type": "stream",
     "text": [
      "\r",
      " 65%|█████████████████████████▍             | 1320/2027 [00:48<00:27, 25.73it/s]"
     ]
    },
    {
     "name": "stdout",
     "output_type": "stream",
     "text": [
      "\r",
      " 65%|█████████████████████████▍             | 1323/2027 [00:48<00:26, 26.74it/s]"
     ]
    },
    {
     "name": "stdout",
     "output_type": "stream",
     "text": [
      "\r",
      " 65%|█████████████████████████▌             | 1326/2027 [00:48<00:25, 26.96it/s]"
     ]
    },
    {
     "name": "stdout",
     "output_type": "stream",
     "text": [
      "\r",
      " 66%|█████████████████████████▌             | 1329/2027 [00:48<00:25, 27.03it/s]"
     ]
    },
    {
     "name": "stdout",
     "output_type": "stream",
     "text": [
      "\r",
      " 66%|█████████████████████████▋             | 1333/2027 [00:49<00:23, 29.69it/s]"
     ]
    },
    {
     "name": "stdout",
     "output_type": "stream",
     "text": [
      "\r",
      " 66%|█████████████████████████▋             | 1336/2027 [00:49<00:24, 28.26it/s]"
     ]
    },
    {
     "name": "stdout",
     "output_type": "stream",
     "text": [
      "\r",
      " 66%|█████████████████████████▊             | 1339/2027 [00:49<00:24, 28.43it/s]"
     ]
    },
    {
     "name": "stdout",
     "output_type": "stream",
     "text": [
      "\r",
      " 66%|█████████████████████████▊             | 1343/2027 [00:49<00:23, 28.80it/s]"
     ]
    },
    {
     "name": "stdout",
     "output_type": "stream",
     "text": [
      "\r",
      " 66%|█████████████████████████▉             | 1347/2027 [00:49<00:22, 29.82it/s]"
     ]
    },
    {
     "name": "stdout",
     "output_type": "stream",
     "text": [
      "\r",
      " 67%|█████████████████████████▉             | 1351/2027 [00:49<00:21, 30.94it/s]"
     ]
    },
    {
     "name": "stdout",
     "output_type": "stream",
     "text": [
      "\r",
      " 67%|██████████████████████████             | 1355/2027 [00:49<00:21, 31.12it/s]"
     ]
    },
    {
     "name": "stdout",
     "output_type": "stream",
     "text": [
      "\r",
      " 67%|██████████████████████████▏            | 1359/2027 [00:49<00:21, 30.56it/s]"
     ]
    },
    {
     "name": "stdout",
     "output_type": "stream",
     "text": [
      "\r",
      " 67%|██████████████████████████▏            | 1363/2027 [00:50<00:21, 31.04it/s]"
     ]
    },
    {
     "name": "stdout",
     "output_type": "stream",
     "text": [
      "\r",
      " 67%|██████████████████████████▎            | 1367/2027 [00:50<00:22, 29.42it/s]"
     ]
    },
    {
     "name": "stdout",
     "output_type": "stream",
     "text": [
      "\r",
      " 68%|██████████████████████████▍            | 1371/2027 [00:50<00:22, 29.70it/s]"
     ]
    },
    {
     "name": "stdout",
     "output_type": "stream",
     "text": [
      "\r",
      " 68%|██████████████████████████▍            | 1374/2027 [00:50<00:23, 27.62it/s]"
     ]
    },
    {
     "name": "stdout",
     "output_type": "stream",
     "text": [
      "\r",
      " 68%|██████████████████████████▌            | 1378/2027 [00:50<00:22, 28.85it/s]"
     ]
    },
    {
     "name": "stdout",
     "output_type": "stream",
     "text": [
      "\r",
      " 68%|██████████████████████████▌            | 1381/2027 [00:50<00:22, 28.66it/s]"
     ]
    },
    {
     "name": "stdout",
     "output_type": "stream",
     "text": [
      "\r",
      " 68%|██████████████████████████▋            | 1384/2027 [00:50<00:23, 27.28it/s]"
     ]
    },
    {
     "name": "stdout",
     "output_type": "stream",
     "text": [
      "\r",
      " 68%|██████████████████████████▋            | 1387/2027 [00:50<00:23, 26.91it/s]"
     ]
    },
    {
     "name": "stdout",
     "output_type": "stream",
     "text": [
      "\r",
      " 69%|██████████████████████████▋            | 1390/2027 [00:51<00:25, 25.34it/s]"
     ]
    },
    {
     "name": "stdout",
     "output_type": "stream",
     "text": [
      "\r",
      " 69%|██████████████████████████▊            | 1393/2027 [00:51<00:25, 24.76it/s]"
     ]
    },
    {
     "name": "stdout",
     "output_type": "stream",
     "text": [
      "\r",
      " 69%|██████████████████████████▊            | 1396/2027 [00:51<00:26, 23.61it/s]"
     ]
    },
    {
     "name": "stdout",
     "output_type": "stream",
     "text": [
      "\r",
      " 69%|██████████████████████████▉            | 1399/2027 [00:51<00:25, 24.75it/s]"
     ]
    },
    {
     "name": "stdout",
     "output_type": "stream",
     "text": [
      "\r",
      " 69%|██████████████████████████▉            | 1403/2027 [00:51<00:22, 27.23it/s]"
     ]
    },
    {
     "name": "stdout",
     "output_type": "stream",
     "text": [
      "\r",
      " 69%|███████████████████████████            | 1407/2027 [00:51<00:21, 28.81it/s]"
     ]
    },
    {
     "name": "stdout",
     "output_type": "stream",
     "text": [
      "\r",
      " 70%|███████████████████████████▏           | 1411/2027 [00:51<00:21, 28.24it/s]"
     ]
    },
    {
     "name": "stdout",
     "output_type": "stream",
     "text": [
      "\r",
      " 70%|███████████████████████████▏           | 1414/2027 [00:51<00:22, 27.50it/s]"
     ]
    },
    {
     "name": "stdout",
     "output_type": "stream",
     "text": [
      "\r",
      " 70%|███████████████████████████▎           | 1417/2027 [00:52<00:22, 26.55it/s]"
     ]
    },
    {
     "name": "stdout",
     "output_type": "stream",
     "text": [
      "\r",
      " 70%|███████████████████████████▎           | 1420/2027 [00:52<00:22, 26.97it/s]"
     ]
    },
    {
     "name": "stdout",
     "output_type": "stream",
     "text": [
      "\r",
      " 70%|███████████████████████████▍           | 1424/2027 [00:52<00:21, 27.63it/s]"
     ]
    },
    {
     "name": "stdout",
     "output_type": "stream",
     "text": [
      "\r",
      " 70%|███████████████████████████▍           | 1427/2027 [00:52<00:21, 28.15it/s]"
     ]
    },
    {
     "name": "stdout",
     "output_type": "stream",
     "text": [
      "\r",
      " 71%|███████████████████████████▌           | 1430/2027 [00:52<00:21, 27.45it/s]"
     ]
    },
    {
     "name": "stdout",
     "output_type": "stream",
     "text": [
      "\r",
      " 71%|███████████████████████████▌           | 1433/2027 [00:52<00:21, 27.66it/s]"
     ]
    },
    {
     "name": "stdout",
     "output_type": "stream",
     "text": [
      "\r",
      " 71%|███████████████████████████▋           | 1436/2027 [00:52<00:21, 27.71it/s]"
     ]
    },
    {
     "name": "stdout",
     "output_type": "stream",
     "text": [
      "\r",
      " 71%|███████████████████████████▋           | 1440/2027 [00:52<00:20, 28.95it/s]"
     ]
    },
    {
     "name": "stdout",
     "output_type": "stream",
     "text": [
      "\r",
      " 71%|███████████████████████████▊           | 1443/2027 [00:52<00:20, 29.17it/s]"
     ]
    },
    {
     "name": "stdout",
     "output_type": "stream",
     "text": [
      "\r",
      " 71%|███████████████████████████▊           | 1446/2027 [00:53<00:20, 28.75it/s]"
     ]
    },
    {
     "name": "stdout",
     "output_type": "stream",
     "text": [
      "\r",
      " 71%|███████████████████████████▉           | 1449/2027 [00:53<00:20, 28.34it/s]"
     ]
    },
    {
     "name": "stdout",
     "output_type": "stream",
     "text": [
      "\r",
      " 72%|███████████████████████████▉           | 1452/2027 [00:53<00:21, 27.18it/s]"
     ]
    },
    {
     "name": "stdout",
     "output_type": "stream",
     "text": [
      "\r",
      " 72%|████████████████████████████           | 1456/2027 [00:53<00:20, 28.16it/s]"
     ]
    },
    {
     "name": "stdout",
     "output_type": "stream",
     "text": [
      "\r",
      " 72%|████████████████████████████           | 1460/2027 [00:53<00:19, 29.06it/s]"
     ]
    },
    {
     "name": "stdout",
     "output_type": "stream",
     "text": [
      "\r",
      " 72%|████████████████████████████▏          | 1464/2027 [00:53<00:18, 29.73it/s]"
     ]
    },
    {
     "name": "stdout",
     "output_type": "stream",
     "text": [
      "\r",
      " 72%|████████████████████████████▏          | 1467/2027 [00:53<00:19, 28.17it/s]"
     ]
    },
    {
     "name": "stdout",
     "output_type": "stream",
     "text": [
      "\r",
      " 73%|████████████████████████████▎          | 1470/2027 [00:53<00:19, 28.25it/s]"
     ]
    },
    {
     "name": "stdout",
     "output_type": "stream",
     "text": [
      "\r",
      " 73%|████████████████████████████▎          | 1473/2027 [00:54<00:19, 28.42it/s]"
     ]
    },
    {
     "name": "stdout",
     "output_type": "stream",
     "text": [
      "\r",
      " 73%|████████████████████████████▍          | 1476/2027 [00:54<00:19, 27.87it/s]"
     ]
    },
    {
     "name": "stdout",
     "output_type": "stream",
     "text": [
      "\r",
      " 73%|████████████████████████████▍          | 1480/2027 [00:54<00:18, 29.14it/s]"
     ]
    },
    {
     "name": "stdout",
     "output_type": "stream",
     "text": [
      "\r",
      " 73%|████████████████████████████▌          | 1483/2027 [00:54<00:18, 28.88it/s]"
     ]
    },
    {
     "name": "stdout",
     "output_type": "stream",
     "text": [
      "\r",
      " 73%|████████████████████████████▌          | 1486/2027 [00:54<00:19, 27.53it/s]"
     ]
    },
    {
     "name": "stdout",
     "output_type": "stream",
     "text": [
      "\r",
      " 73%|████████████████████████████▋          | 1489/2027 [00:54<00:19, 27.36it/s]"
     ]
    },
    {
     "name": "stdout",
     "output_type": "stream",
     "text": [
      "\r",
      " 74%|████████████████████████████▋          | 1492/2027 [00:54<00:19, 26.76it/s]"
     ]
    },
    {
     "name": "stdout",
     "output_type": "stream",
     "text": [
      "\r",
      " 74%|████████████████████████████▊          | 1495/2027 [00:54<00:19, 27.39it/s]"
     ]
    },
    {
     "name": "stdout",
     "output_type": "stream",
     "text": [
      "\r",
      " 74%|████████████████████████████▊          | 1498/2027 [00:54<00:19, 27.50it/s]"
     ]
    },
    {
     "name": "stdout",
     "output_type": "stream",
     "text": [
      "\r",
      " 74%|████████████████████████████▉          | 1501/2027 [00:55<00:19, 27.25it/s]"
     ]
    },
    {
     "name": "stdout",
     "output_type": "stream",
     "text": [
      "\r",
      " 74%|████████████████████████████▉          | 1505/2027 [00:55<00:18, 28.77it/s]"
     ]
    },
    {
     "name": "stdout",
     "output_type": "stream",
     "text": [
      "\r",
      " 74%|█████████████████████████████          | 1509/2027 [00:55<00:17, 29.65it/s]"
     ]
    },
    {
     "name": "stdout",
     "output_type": "stream",
     "text": [
      "\r",
      " 75%|█████████████████████████████          | 1512/2027 [00:55<00:17, 29.60it/s]"
     ]
    },
    {
     "name": "stdout",
     "output_type": "stream",
     "text": [
      "\r",
      " 75%|█████████████████████████████▏         | 1516/2027 [00:55<00:16, 30.22it/s]"
     ]
    },
    {
     "name": "stdout",
     "output_type": "stream",
     "text": [
      "\r",
      " 75%|█████████████████████████████▏         | 1520/2027 [00:55<00:16, 31.10it/s]"
     ]
    },
    {
     "name": "stdout",
     "output_type": "stream",
     "text": [
      "\r",
      " 75%|█████████████████████████████▎         | 1524/2027 [00:55<00:15, 31.93it/s]"
     ]
    },
    {
     "name": "stdout",
     "output_type": "stream",
     "text": [
      "\r",
      " 75%|█████████████████████████████▍         | 1528/2027 [00:55<00:15, 32.61it/s]"
     ]
    },
    {
     "name": "stdout",
     "output_type": "stream",
     "text": [
      "\r",
      " 76%|█████████████████████████████▍         | 1532/2027 [00:56<00:14, 33.27it/s]"
     ]
    },
    {
     "name": "stdout",
     "output_type": "stream",
     "text": [
      "\r",
      " 76%|█████████████████████████████▌         | 1536/2027 [00:56<00:15, 31.67it/s]"
     ]
    },
    {
     "name": "stdout",
     "output_type": "stream",
     "text": [
      "\r",
      " 76%|█████████████████████████████▋         | 1540/2027 [00:56<00:15, 31.25it/s]"
     ]
    },
    {
     "name": "stdout",
     "output_type": "stream",
     "text": [
      "\r",
      " 76%|█████████████████████████████▋         | 1544/2027 [00:56<00:15, 30.59it/s]"
     ]
    },
    {
     "name": "stdout",
     "output_type": "stream",
     "text": [
      "\r",
      " 76%|█████████████████████████████▊         | 1548/2027 [00:56<00:15, 30.85it/s]"
     ]
    },
    {
     "name": "stdout",
     "output_type": "stream",
     "text": [
      "\r",
      " 77%|█████████████████████████████▊         | 1552/2027 [00:56<00:15, 31.39it/s]"
     ]
    },
    {
     "name": "stdout",
     "output_type": "stream",
     "text": [
      "\r",
      " 77%|█████████████████████████████▉         | 1556/2027 [00:56<00:14, 32.50it/s]"
     ]
    },
    {
     "name": "stdout",
     "output_type": "stream",
     "text": [
      "\r",
      " 77%|██████████████████████████████         | 1560/2027 [00:56<00:14, 31.71it/s]"
     ]
    },
    {
     "name": "stdout",
     "output_type": "stream",
     "text": [
      "\r",
      " 77%|██████████████████████████████         | 1564/2027 [00:57<00:14, 31.77it/s]"
     ]
    },
    {
     "name": "stdout",
     "output_type": "stream",
     "text": [
      "\r",
      " 77%|██████████████████████████████▏        | 1568/2027 [00:57<00:14, 30.96it/s]"
     ]
    },
    {
     "name": "stdout",
     "output_type": "stream",
     "text": [
      "\r",
      " 78%|██████████████████████████████▏        | 1572/2027 [00:57<00:15, 28.76it/s]"
     ]
    },
    {
     "name": "stdout",
     "output_type": "stream",
     "text": [
      "\r",
      " 78%|██████████████████████████████▎        | 1575/2027 [00:57<00:15, 28.43it/s]"
     ]
    },
    {
     "name": "stdout",
     "output_type": "stream",
     "text": [
      "\r",
      " 78%|██████████████████████████████▎        | 1578/2027 [00:57<00:15, 28.71it/s]"
     ]
    },
    {
     "name": "stdout",
     "output_type": "stream",
     "text": [
      "\r",
      " 78%|██████████████████████████████▍        | 1582/2027 [00:57<00:14, 29.79it/s]"
     ]
    },
    {
     "name": "stdout",
     "output_type": "stream",
     "text": [
      "\r",
      " 78%|██████████████████████████████▌        | 1586/2027 [00:57<00:14, 29.45it/s]"
     ]
    },
    {
     "name": "stdout",
     "output_type": "stream",
     "text": [
      "\r",
      " 78%|██████████████████████████████▌        | 1590/2027 [00:57<00:14, 29.88it/s]"
     ]
    },
    {
     "name": "stdout",
     "output_type": "stream",
     "text": [
      "\r",
      " 79%|██████████████████████████████▋        | 1593/2027 [00:58<00:14, 29.34it/s]"
     ]
    },
    {
     "name": "stdout",
     "output_type": "stream",
     "text": [
      "\r",
      " 79%|██████████████████████████████▋        | 1597/2027 [00:58<00:13, 30.87it/s]"
     ]
    },
    {
     "name": "stdout",
     "output_type": "stream",
     "text": [
      "\r",
      " 79%|██████████████████████████████▊        | 1601/2027 [00:58<00:14, 30.38it/s]"
     ]
    },
    {
     "name": "stdout",
     "output_type": "stream",
     "text": [
      "\r",
      " 79%|██████████████████████████████▉        | 1605/2027 [00:58<00:15, 27.96it/s]"
     ]
    },
    {
     "name": "stdout",
     "output_type": "stream",
     "text": [
      "\r",
      " 79%|██████████████████████████████▉        | 1608/2027 [00:58<00:15, 27.12it/s]"
     ]
    },
    {
     "name": "stdout",
     "output_type": "stream",
     "text": [
      "\r",
      " 79%|██████████████████████████████▉        | 1611/2027 [00:58<00:16, 25.74it/s]"
     ]
    },
    {
     "name": "stdout",
     "output_type": "stream",
     "text": [
      "\r",
      " 80%|███████████████████████████████        | 1614/2027 [00:58<00:15, 26.34it/s]"
     ]
    },
    {
     "name": "stdout",
     "output_type": "stream",
     "text": [
      "\r",
      " 80%|███████████████████████████████        | 1617/2027 [00:58<00:16, 24.35it/s]"
     ]
    },
    {
     "name": "stdout",
     "output_type": "stream",
     "text": [
      "\r",
      " 80%|███████████████████████████████▏       | 1621/2027 [00:59<00:15, 26.18it/s]"
     ]
    },
    {
     "name": "stdout",
     "output_type": "stream",
     "text": [
      "\r",
      " 80%|███████████████████████████████▎       | 1625/2027 [00:59<00:14, 27.98it/s]"
     ]
    },
    {
     "name": "stdout",
     "output_type": "stream",
     "text": [
      "\r",
      " 80%|███████████████████████████████▎       | 1629/2027 [00:59<00:13, 29.43it/s]"
     ]
    },
    {
     "name": "stdout",
     "output_type": "stream",
     "text": [
      "\r",
      " 81%|███████████████████████████████▍       | 1632/2027 [00:59<00:13, 28.87it/s]"
     ]
    },
    {
     "name": "stdout",
     "output_type": "stream",
     "text": [
      "\r",
      " 81%|███████████████████████████████▍       | 1636/2027 [00:59<00:12, 30.36it/s]"
     ]
    },
    {
     "name": "stdout",
     "output_type": "stream",
     "text": [
      "\r",
      " 81%|███████████████████████████████▌       | 1640/2027 [00:59<00:12, 31.28it/s]"
     ]
    },
    {
     "name": "stdout",
     "output_type": "stream",
     "text": [
      "\r",
      " 81%|███████████████████████████████▋       | 1644/2027 [00:59<00:12, 30.57it/s]"
     ]
    },
    {
     "name": "stdout",
     "output_type": "stream",
     "text": [
      "\r",
      " 81%|███████████████████████████████▋       | 1648/2027 [00:59<00:13, 28.14it/s]"
     ]
    },
    {
     "name": "stdout",
     "output_type": "stream",
     "text": [
      "\r",
      " 81%|███████████████████████████████▊       | 1652/2027 [01:00<00:12, 28.87it/s]"
     ]
    },
    {
     "name": "stdout",
     "output_type": "stream",
     "text": [
      "\r",
      " 82%|███████████████████████████████▊       | 1655/2027 [01:00<00:12, 29.06it/s]"
     ]
    },
    {
     "name": "stdout",
     "output_type": "stream",
     "text": [
      "\r",
      " 82%|███████████████████████████████▉       | 1659/2027 [01:00<00:12, 30.35it/s]"
     ]
    },
    {
     "name": "stdout",
     "output_type": "stream",
     "text": [
      "\r",
      " 82%|███████████████████████████████▉       | 1663/2027 [01:00<00:11, 31.20it/s]"
     ]
    },
    {
     "name": "stdout",
     "output_type": "stream",
     "text": [
      "\r",
      " 82%|████████████████████████████████       | 1667/2027 [01:00<00:11, 31.77it/s]"
     ]
    },
    {
     "name": "stdout",
     "output_type": "stream",
     "text": [
      "\r",
      " 82%|████████████████████████████████▏      | 1671/2027 [01:00<00:11, 31.87it/s]"
     ]
    },
    {
     "name": "stdout",
     "output_type": "stream",
     "text": [
      "\r",
      " 83%|████████████████████████████████▏      | 1675/2027 [01:00<00:11, 30.12it/s]"
     ]
    },
    {
     "name": "stdout",
     "output_type": "stream",
     "text": [
      "\r",
      " 83%|████████████████████████████████▎      | 1679/2027 [01:01<00:12, 28.59it/s]"
     ]
    },
    {
     "name": "stdout",
     "output_type": "stream",
     "text": [
      "\r",
      " 83%|████████████████████████████████▎      | 1682/2027 [01:01<00:12, 27.01it/s]"
     ]
    },
    {
     "name": "stdout",
     "output_type": "stream",
     "text": [
      "\r",
      " 83%|████████████████████████████████▍      | 1686/2027 [01:01<00:11, 28.77it/s]"
     ]
    },
    {
     "name": "stdout",
     "output_type": "stream",
     "text": [
      "\r",
      " 83%|████████████████████████████████▍      | 1689/2027 [01:01<00:11, 28.21it/s]"
     ]
    },
    {
     "name": "stdout",
     "output_type": "stream",
     "text": [
      "\r",
      " 84%|████████████████████████████████▌      | 1693/2027 [01:01<00:11, 28.92it/s]"
     ]
    },
    {
     "name": "stdout",
     "output_type": "stream",
     "text": [
      "\r",
      " 84%|████████████████████████████████▋      | 1696/2027 [01:01<00:11, 27.63it/s]"
     ]
    },
    {
     "name": "stdout",
     "output_type": "stream",
     "text": [
      "\r",
      " 84%|████████████████████████████████▋      | 1699/2027 [01:01<00:11, 27.33it/s]"
     ]
    },
    {
     "name": "stdout",
     "output_type": "stream",
     "text": [
      "\r",
      " 84%|████████████████████████████████▋      | 1702/2027 [01:01<00:11, 27.66it/s]"
     ]
    },
    {
     "name": "stdout",
     "output_type": "stream",
     "text": [
      "\r",
      " 84%|████████████████████████████████▊      | 1705/2027 [01:01<00:11, 27.33it/s]"
     ]
    },
    {
     "name": "stdout",
     "output_type": "stream",
     "text": [
      "\r",
      " 84%|████████████████████████████████▉      | 1709/2027 [01:02<00:11, 28.46it/s]"
     ]
    },
    {
     "name": "stdout",
     "output_type": "stream",
     "text": [
      "\r",
      " 85%|████████████████████████████████▉      | 1713/2027 [01:02<00:10, 29.77it/s]"
     ]
    },
    {
     "name": "stdout",
     "output_type": "stream",
     "text": [
      "\r",
      " 85%|█████████████████████████████████      | 1716/2027 [01:02<00:11, 27.42it/s]"
     ]
    },
    {
     "name": "stdout",
     "output_type": "stream",
     "text": [
      "\r",
      " 85%|█████████████████████████████████      | 1719/2027 [01:02<00:11, 27.67it/s]"
     ]
    },
    {
     "name": "stdout",
     "output_type": "stream",
     "text": [
      "\r",
      " 85%|█████████████████████████████████▏     | 1722/2027 [01:02<00:12, 24.62it/s]"
     ]
    },
    {
     "name": "stdout",
     "output_type": "stream",
     "text": [
      "\r",
      " 85%|█████████████████████████████████▏     | 1725/2027 [01:02<00:12, 24.26it/s]"
     ]
    },
    {
     "name": "stdout",
     "output_type": "stream",
     "text": [
      "\r",
      " 85%|█████████████████████████████████▎     | 1729/2027 [01:02<00:11, 26.59it/s]"
     ]
    },
    {
     "name": "stdout",
     "output_type": "stream",
     "text": [
      "\r",
      " 85%|█████████████████████████████████▎     | 1733/2027 [01:02<00:10, 28.13it/s]"
     ]
    },
    {
     "name": "stdout",
     "output_type": "stream",
     "text": [
      "\r",
      " 86%|█████████████████████████████████▍     | 1736/2027 [01:03<00:10, 27.69it/s]"
     ]
    },
    {
     "name": "stdout",
     "output_type": "stream",
     "text": [
      "\r",
      " 86%|█████████████████████████████████▍     | 1739/2027 [01:03<00:10, 27.89it/s]"
     ]
    },
    {
     "name": "stdout",
     "output_type": "stream",
     "text": [
      "\r",
      " 86%|█████████████████████████████████▌     | 1743/2027 [01:03<00:09, 29.22it/s]"
     ]
    },
    {
     "name": "stdout",
     "output_type": "stream",
     "text": [
      "\r",
      " 86%|█████████████████████████████████▌     | 1747/2027 [01:03<00:09, 30.29it/s]"
     ]
    },
    {
     "name": "stdout",
     "output_type": "stream",
     "text": [
      "\r",
      " 86%|█████████████████████████████████▋     | 1751/2027 [01:03<00:09, 29.59it/s]"
     ]
    },
    {
     "name": "stdout",
     "output_type": "stream",
     "text": [
      "\r",
      " 87%|█████████████████████████████████▊     | 1755/2027 [01:03<00:09, 29.55it/s]"
     ]
    },
    {
     "name": "stdout",
     "output_type": "stream",
     "text": [
      "\r",
      " 87%|█████████████████████████████████▊     | 1759/2027 [01:03<00:08, 31.13it/s]"
     ]
    },
    {
     "name": "stdout",
     "output_type": "stream",
     "text": [
      "\r",
      " 87%|█████████████████████████████████▉     | 1763/2027 [01:03<00:08, 31.97it/s]"
     ]
    },
    {
     "name": "stdout",
     "output_type": "stream",
     "text": [
      "\r",
      " 87%|█████████████████████████████████▉     | 1767/2027 [01:04<00:07, 32.75it/s]"
     ]
    },
    {
     "name": "stdout",
     "output_type": "stream",
     "text": [
      "\r",
      " 87%|██████████████████████████████████     | 1771/2027 [01:04<00:08, 30.85it/s]"
     ]
    },
    {
     "name": "stdout",
     "output_type": "stream",
     "text": [
      "\r",
      " 88%|██████████████████████████████████▏    | 1775/2027 [01:04<00:08, 29.04it/s]"
     ]
    },
    {
     "name": "stdout",
     "output_type": "stream",
     "text": [
      "\r",
      " 88%|██████████████████████████████████▏    | 1779/2027 [01:04<00:08, 29.43it/s]"
     ]
    },
    {
     "name": "stdout",
     "output_type": "stream",
     "text": [
      "\r",
      " 88%|██████████████████████████████████▎    | 1782/2027 [01:04<00:08, 28.52it/s]"
     ]
    },
    {
     "name": "stdout",
     "output_type": "stream",
     "text": [
      "\r",
      " 88%|██████████████████████████████████▎    | 1785/2027 [01:04<00:08, 28.57it/s]"
     ]
    },
    {
     "name": "stdout",
     "output_type": "stream",
     "text": [
      "\r",
      " 88%|██████████████████████████████████▍    | 1789/2027 [01:04<00:07, 29.80it/s]"
     ]
    },
    {
     "name": "stdout",
     "output_type": "stream",
     "text": [
      "\r",
      " 88%|██████████████████████████████████▍    | 1793/2027 [01:04<00:07, 30.62it/s]"
     ]
    },
    {
     "name": "stdout",
     "output_type": "stream",
     "text": [
      "\r",
      " 89%|██████████████████████████████████▌    | 1797/2027 [01:05<00:07, 29.51it/s]"
     ]
    },
    {
     "name": "stdout",
     "output_type": "stream",
     "text": [
      "\r",
      " 89%|██████████████████████████████████▋    | 1801/2027 [01:05<00:07, 30.08it/s]"
     ]
    },
    {
     "name": "stdout",
     "output_type": "stream",
     "text": [
      "\r",
      " 89%|██████████████████████████████████▋    | 1805/2027 [01:05<00:07, 30.65it/s]"
     ]
    },
    {
     "name": "stdout",
     "output_type": "stream",
     "text": [
      "\r",
      " 89%|██████████████████████████████████▊    | 1809/2027 [01:05<00:07, 30.65it/s]"
     ]
    },
    {
     "name": "stdout",
     "output_type": "stream",
     "text": [
      "\r",
      " 89%|██████████████████████████████████▉    | 1813/2027 [01:05<00:07, 29.45it/s]"
     ]
    },
    {
     "name": "stdout",
     "output_type": "stream",
     "text": [
      "\r",
      " 90%|██████████████████████████████████▉    | 1817/2027 [01:05<00:07, 29.93it/s]"
     ]
    },
    {
     "name": "stdout",
     "output_type": "stream",
     "text": [
      "\r",
      " 90%|███████████████████████████████████    | 1821/2027 [01:05<00:07, 27.68it/s]"
     ]
    },
    {
     "name": "stdout",
     "output_type": "stream",
     "text": [
      "\r",
      " 90%|███████████████████████████████████    | 1824/2027 [01:06<00:07, 27.28it/s]"
     ]
    },
    {
     "name": "stdout",
     "output_type": "stream",
     "text": [
      "\r",
      " 90%|███████████████████████████████████▏   | 1828/2027 [01:06<00:07, 28.40it/s]"
     ]
    },
    {
     "name": "stdout",
     "output_type": "stream",
     "text": [
      "\r",
      " 90%|███████████████████████████████████▏   | 1832/2027 [01:06<00:06, 29.58it/s]"
     ]
    },
    {
     "name": "stdout",
     "output_type": "stream",
     "text": [
      "\r",
      " 91%|███████████████████████████████████▎   | 1836/2027 [01:06<00:06, 30.64it/s]"
     ]
    },
    {
     "name": "stdout",
     "output_type": "stream",
     "text": [
      "\r",
      " 91%|███████████████████████████████████▍   | 1840/2027 [01:06<00:05, 31.65it/s]"
     ]
    },
    {
     "name": "stdout",
     "output_type": "stream",
     "text": [
      "\r",
      " 91%|███████████████████████████████████▍   | 1844/2027 [01:06<00:05, 32.08it/s]"
     ]
    },
    {
     "name": "stdout",
     "output_type": "stream",
     "text": [
      "\r",
      " 91%|███████████████████████████████████▌   | 1848/2027 [01:06<00:05, 31.49it/s]"
     ]
    },
    {
     "name": "stdout",
     "output_type": "stream",
     "text": [
      "\r",
      " 91%|███████████████████████████████████▋   | 1852/2027 [01:06<00:05, 31.64it/s]"
     ]
    },
    {
     "name": "stdout",
     "output_type": "stream",
     "text": [
      "\r",
      " 92%|███████████████████████████████████▋   | 1856/2027 [01:07<00:05, 32.11it/s]"
     ]
    },
    {
     "name": "stdout",
     "output_type": "stream",
     "text": [
      "\r",
      " 92%|███████████████████████████████████▊   | 1860/2027 [01:07<00:05, 32.00it/s]"
     ]
    },
    {
     "name": "stdout",
     "output_type": "stream",
     "text": [
      "\r",
      " 92%|███████████████████████████████████▊   | 1864/2027 [01:07<00:05, 31.18it/s]"
     ]
    },
    {
     "name": "stdout",
     "output_type": "stream",
     "text": [
      "\r",
      " 92%|███████████████████████████████████▉   | 1868/2027 [01:07<00:05, 30.07it/s]"
     ]
    },
    {
     "name": "stdout",
     "output_type": "stream",
     "text": [
      "\r",
      " 92%|████████████████████████████████████   | 1872/2027 [01:07<00:05, 29.96it/s]"
     ]
    },
    {
     "name": "stdout",
     "output_type": "stream",
     "text": [
      "\r",
      " 93%|████████████████████████████████████   | 1876/2027 [01:07<00:04, 31.29it/s]"
     ]
    },
    {
     "name": "stdout",
     "output_type": "stream",
     "text": [
      "\r",
      " 93%|████████████████████████████████████▏  | 1880/2027 [01:07<00:04, 32.48it/s]"
     ]
    },
    {
     "name": "stdout",
     "output_type": "stream",
     "text": [
      "\r",
      " 93%|████████████████████████████████████▏  | 1884/2027 [01:07<00:04, 32.89it/s]"
     ]
    },
    {
     "name": "stdout",
     "output_type": "stream",
     "text": [
      "\r",
      " 93%|████████████████████████████████████▎  | 1888/2027 [01:08<00:04, 32.00it/s]"
     ]
    },
    {
     "name": "stdout",
     "output_type": "stream",
     "text": [
      "\r",
      " 93%|████████████████████████████████████▍  | 1892/2027 [01:08<00:04, 32.57it/s]"
     ]
    },
    {
     "name": "stdout",
     "output_type": "stream",
     "text": [
      "\r",
      " 94%|████████████████████████████████████▍  | 1896/2027 [01:08<00:03, 33.15it/s]"
     ]
    },
    {
     "name": "stdout",
     "output_type": "stream",
     "text": [
      "\r",
      " 94%|████████████████████████████████████▌  | 1900/2027 [01:08<00:03, 33.34it/s]"
     ]
    },
    {
     "name": "stdout",
     "output_type": "stream",
     "text": [
      "\r",
      " 94%|████████████████████████████████████▋  | 1904/2027 [01:08<00:03, 33.06it/s]"
     ]
    },
    {
     "name": "stdout",
     "output_type": "stream",
     "text": [
      "\r",
      " 94%|████████████████████████████████████▋  | 1908/2027 [01:08<00:03, 31.90it/s]"
     ]
    },
    {
     "name": "stdout",
     "output_type": "stream",
     "text": [
      "\r",
      " 94%|████████████████████████████████████▊  | 1912/2027 [01:08<00:03, 29.85it/s]"
     ]
    },
    {
     "name": "stdout",
     "output_type": "stream",
     "text": [
      "\r",
      " 95%|████████████████████████████████████▊  | 1916/2027 [01:09<00:03, 28.13it/s]"
     ]
    },
    {
     "name": "stdout",
     "output_type": "stream",
     "text": [
      "\r",
      " 95%|████████████████████████████████████▉  | 1919/2027 [01:09<00:03, 27.87it/s]"
     ]
    },
    {
     "name": "stdout",
     "output_type": "stream",
     "text": [
      "\r",
      " 95%|████████████████████████████████████▉  | 1922/2027 [01:09<00:03, 26.77it/s]"
     ]
    },
    {
     "name": "stdout",
     "output_type": "stream",
     "text": [
      "\r",
      " 95%|█████████████████████████████████████  | 1925/2027 [01:09<00:04, 24.27it/s]"
     ]
    },
    {
     "name": "stdout",
     "output_type": "stream",
     "text": [
      "\r",
      " 95%|█████████████████████████████████████  | 1928/2027 [01:09<00:05, 19.59it/s]"
     ]
    },
    {
     "name": "stdout",
     "output_type": "stream",
     "text": [
      "\r",
      " 95%|█████████████████████████████████████▏ | 1931/2027 [01:09<00:05, 19.00it/s]"
     ]
    },
    {
     "name": "stdout",
     "output_type": "stream",
     "text": [
      "\r",
      " 95%|█████████████████████████████████████▏ | 1934/2027 [01:09<00:04, 18.77it/s]"
     ]
    },
    {
     "name": "stdout",
     "output_type": "stream",
     "text": [
      "\r",
      " 96%|█████████████████████████████████████▏ | 1936/2027 [01:10<00:04, 18.61it/s]"
     ]
    },
    {
     "name": "stdout",
     "output_type": "stream",
     "text": [
      "\r",
      " 96%|█████████████████████████████████████▎ | 1938/2027 [01:10<00:04, 18.63it/s]"
     ]
    },
    {
     "name": "stdout",
     "output_type": "stream",
     "text": [
      "\r",
      " 96%|█████████████████████████████████████▎ | 1940/2027 [01:10<00:04, 18.22it/s]"
     ]
    },
    {
     "name": "stdout",
     "output_type": "stream",
     "text": [
      "\r",
      " 96%|█████████████████████████████████████▎ | 1942/2027 [01:10<00:04, 18.07it/s]"
     ]
    },
    {
     "name": "stdout",
     "output_type": "stream",
     "text": [
      "\r",
      " 96%|█████████████████████████████████████▍ | 1945/2027 [01:10<00:03, 20.84it/s]"
     ]
    },
    {
     "name": "stdout",
     "output_type": "stream",
     "text": [
      "\r",
      " 96%|█████████████████████████████████████▍ | 1949/2027 [01:10<00:03, 24.52it/s]"
     ]
    },
    {
     "name": "stdout",
     "output_type": "stream",
     "text": [
      "\r",
      " 96%|█████████████████████████████████████▌ | 1953/2027 [01:10<00:02, 26.64it/s]"
     ]
    },
    {
     "name": "stdout",
     "output_type": "stream",
     "text": [
      "\r",
      " 97%|█████████████████████████████████████▋ | 1957/2027 [01:10<00:02, 28.11it/s]"
     ]
    },
    {
     "name": "stdout",
     "output_type": "stream",
     "text": [
      "\r",
      " 97%|█████████████████████████████████████▋ | 1961/2027 [01:11<00:02, 29.69it/s]"
     ]
    },
    {
     "name": "stdout",
     "output_type": "stream",
     "text": [
      "\r",
      " 97%|█████████████████████████████████████▊ | 1965/2027 [01:11<00:02, 30.52it/s]"
     ]
    },
    {
     "name": "stdout",
     "output_type": "stream",
     "text": [
      "\r",
      " 97%|█████████████████████████████████████▉ | 1969/2027 [01:11<00:01, 29.56it/s]"
     ]
    },
    {
     "name": "stdout",
     "output_type": "stream",
     "text": [
      "\r",
      " 97%|█████████████████████████████████████▉ | 1973/2027 [01:11<00:01, 30.60it/s]"
     ]
    },
    {
     "name": "stdout",
     "output_type": "stream",
     "text": [
      "\r",
      " 98%|██████████████████████████████████████ | 1977/2027 [01:11<00:01, 30.50it/s]"
     ]
    },
    {
     "name": "stdout",
     "output_type": "stream",
     "text": [
      "\r",
      " 98%|██████████████████████████████████████ | 1981/2027 [01:11<00:01, 31.74it/s]"
     ]
    },
    {
     "name": "stdout",
     "output_type": "stream",
     "text": [
      "\r",
      " 98%|██████████████████████████████████████▏| 1985/2027 [01:11<00:01, 32.24it/s]"
     ]
    },
    {
     "name": "stdout",
     "output_type": "stream",
     "text": [
      "\r",
      " 98%|██████████████████████████████████████▎| 1989/2027 [01:11<00:01, 32.57it/s]"
     ]
    },
    {
     "name": "stdout",
     "output_type": "stream",
     "text": [
      "\r",
      " 98%|██████████████████████████████████████▎| 1993/2027 [01:12<00:01, 32.13it/s]"
     ]
    },
    {
     "name": "stdout",
     "output_type": "stream",
     "text": [
      "\r",
      " 99%|██████████████████████████████████████▍| 1997/2027 [01:12<00:00, 32.31it/s]"
     ]
    },
    {
     "name": "stdout",
     "output_type": "stream",
     "text": [
      "\r",
      " 99%|██████████████████████████████████████▍| 2001/2027 [01:12<00:00, 32.58it/s]"
     ]
    },
    {
     "name": "stdout",
     "output_type": "stream",
     "text": [
      "\r",
      " 99%|██████████████████████████████████████▌| 2005/2027 [01:12<00:00, 31.97it/s]"
     ]
    },
    {
     "name": "stdout",
     "output_type": "stream",
     "text": [
      "\r",
      " 99%|██████████████████████████████████████▋| 2009/2027 [01:12<00:00, 31.10it/s]"
     ]
    },
    {
     "name": "stdout",
     "output_type": "stream",
     "text": [
      "\r",
      " 99%|██████████████████████████████████████▋| 2013/2027 [01:12<00:00, 30.79it/s]"
     ]
    },
    {
     "name": "stdout",
     "output_type": "stream",
     "text": [
      "\r",
      "100%|██████████████████████████████████████▊| 2017/2027 [01:12<00:00, 31.51it/s]"
     ]
    },
    {
     "name": "stdout",
     "output_type": "stream",
     "text": [
      "\r",
      "100%|██████████████████████████████████████▉| 2021/2027 [01:12<00:00, 30.60it/s]"
     ]
    },
    {
     "name": "stdout",
     "output_type": "stream",
     "text": [
      "\r",
      "100%|██████████████████████████████████████▉| 2025/2027 [01:13<00:00, 30.63it/s]"
     ]
    },
    {
     "name": "stdout",
     "output_type": "stream",
     "text": [
      "\r",
      "100%|███████████████████████████████████████| 2027/2027 [01:13<00:00, 27.72it/s]\r\n"
     ]
    },
    {
     "name": "stdout",
     "output_type": "stream",
     "text": [
      "Faiss Specs: [faiss_spec(pca=0, norm=False, n_clus=128, sphere=False, spec_str='CLUS128')]\r\n"
     ]
    },
    {
     "name": "stdout",
     "output_type": "stream",
     "text": [
      "\r",
      "  0%|                                                  | 0/2331 [00:00<?, ?it/s]"
     ]
    },
    {
     "name": "stdout",
     "output_type": "stream",
     "text": [
      "\r",
      "  0%|                                          | 1/2331 [00:00<12:16,  3.16it/s]"
     ]
    },
    {
     "name": "stdout",
     "output_type": "stream",
     "text": [
      "\r",
      "  0%|                                          | 4/2331 [00:00<03:30, 11.08it/s]"
     ]
    },
    {
     "name": "stdout",
     "output_type": "stream",
     "text": [
      "\r",
      "  0%|▏                                         | 7/2331 [00:00<02:21, 16.43it/s]"
     ]
    },
    {
     "name": "stdout",
     "output_type": "stream",
     "text": [
      "\r",
      "  0%|▏                                        | 10/2331 [00:00<02:44, 14.07it/s]"
     ]
    },
    {
     "name": "stdout",
     "output_type": "stream",
     "text": [
      "\r",
      "  1%|▏                                        | 14/2331 [00:00<02:03, 18.71it/s]"
     ]
    },
    {
     "name": "stdout",
     "output_type": "stream",
     "text": [
      "\r",
      "  1%|▎                                        | 18/2331 [00:01<01:42, 22.67it/s]"
     ]
    },
    {
     "name": "stdout",
     "output_type": "stream",
     "text": [
      "\r",
      "  1%|▍                                        | 22/2331 [00:01<01:30, 25.40it/s]"
     ]
    },
    {
     "name": "stdout",
     "output_type": "stream",
     "text": [
      "\r",
      "  1%|▍                                        | 26/2331 [00:01<01:25, 26.82it/s]"
     ]
    },
    {
     "name": "stdout",
     "output_type": "stream",
     "text": [
      "\r",
      "  1%|▌                                        | 29/2331 [00:01<01:24, 27.30it/s]"
     ]
    },
    {
     "name": "stdout",
     "output_type": "stream",
     "text": [
      "\r",
      "  1%|▌                                        | 33/2331 [00:01<01:20, 28.61it/s]"
     ]
    },
    {
     "name": "stdout",
     "output_type": "stream",
     "text": [
      "\r",
      "  2%|▋                                        | 37/2331 [00:01<01:18, 29.31it/s]"
     ]
    },
    {
     "name": "stdout",
     "output_type": "stream",
     "text": [
      "\r",
      "  2%|▋                                        | 41/2331 [00:01<01:14, 30.67it/s]"
     ]
    },
    {
     "name": "stdout",
     "output_type": "stream",
     "text": [
      "\r",
      "  2%|▊                                        | 45/2331 [00:01<01:13, 31.30it/s]"
     ]
    },
    {
     "name": "stdout",
     "output_type": "stream",
     "text": [
      "\r",
      "  2%|▊                                        | 49/2331 [00:02<01:11, 31.97it/s]"
     ]
    },
    {
     "name": "stdout",
     "output_type": "stream",
     "text": [
      "\r",
      "  2%|▉                                        | 53/2331 [00:02<01:13, 30.85it/s]"
     ]
    },
    {
     "name": "stdout",
     "output_type": "stream",
     "text": [
      "\r",
      "  2%|█                                        | 57/2331 [00:02<01:10, 32.25it/s]"
     ]
    },
    {
     "name": "stdout",
     "output_type": "stream",
     "text": [
      "\r",
      "  3%|█                                        | 61/2331 [00:02<01:11, 31.91it/s]"
     ]
    },
    {
     "name": "stdout",
     "output_type": "stream",
     "text": [
      "\r",
      "  3%|█▏                                       | 65/2331 [00:02<01:10, 31.93it/s]"
     ]
    },
    {
     "name": "stdout",
     "output_type": "stream",
     "text": [
      "\r",
      "  3%|█▏                                       | 69/2331 [00:02<01:11, 31.57it/s]"
     ]
    },
    {
     "name": "stdout",
     "output_type": "stream",
     "text": [
      "\r",
      "  3%|█▎                                       | 73/2331 [00:02<01:08, 33.19it/s]"
     ]
    },
    {
     "name": "stdout",
     "output_type": "stream",
     "text": [
      "\r",
      "  3%|█▎                                       | 77/2331 [00:02<01:09, 32.38it/s]"
     ]
    },
    {
     "name": "stdout",
     "output_type": "stream",
     "text": [
      "\r",
      "  3%|█▍                                       | 81/2331 [00:02<01:08, 32.98it/s]"
     ]
    },
    {
     "name": "stdout",
     "output_type": "stream",
     "text": [
      "\r",
      "  4%|█▍                                       | 85/2331 [00:03<01:13, 30.59it/s]"
     ]
    },
    {
     "name": "stdout",
     "output_type": "stream",
     "text": [
      "\r",
      "  4%|█▌                                       | 89/2331 [00:03<01:16, 29.40it/s]"
     ]
    },
    {
     "name": "stdout",
     "output_type": "stream",
     "text": [
      "\r",
      "  4%|█▌                                       | 92/2331 [00:03<01:15, 29.50it/s]"
     ]
    },
    {
     "name": "stdout",
     "output_type": "stream",
     "text": [
      "\r",
      "  4%|█▋                                       | 96/2331 [00:03<01:11, 31.25it/s]"
     ]
    },
    {
     "name": "stdout",
     "output_type": "stream",
     "text": [
      "\r",
      "  4%|█▋                                      | 100/2331 [00:03<01:09, 32.12it/s]"
     ]
    },
    {
     "name": "stdout",
     "output_type": "stream",
     "text": [
      "\r",
      "  4%|█▊                                      | 104/2331 [00:03<01:14, 29.89it/s]"
     ]
    },
    {
     "name": "stdout",
     "output_type": "stream",
     "text": [
      "\r",
      "  5%|█▊                                      | 108/2331 [00:03<01:17, 28.66it/s]"
     ]
    },
    {
     "name": "stdout",
     "output_type": "stream",
     "text": [
      "\r",
      "  5%|█▉                                      | 111/2331 [00:04<01:16, 28.94it/s]"
     ]
    },
    {
     "name": "stdout",
     "output_type": "stream",
     "text": [
      "\r",
      "  5%|█▉                                      | 115/2331 [00:04<01:12, 30.49it/s]"
     ]
    },
    {
     "name": "stdout",
     "output_type": "stream",
     "text": [
      "\r",
      "  5%|██                                      | 119/2331 [00:04<01:12, 30.44it/s]"
     ]
    },
    {
     "name": "stdout",
     "output_type": "stream",
     "text": [
      "\r",
      "  5%|██                                      | 123/2331 [00:04<01:12, 30.36it/s]"
     ]
    },
    {
     "name": "stdout",
     "output_type": "stream",
     "text": [
      "\r",
      "  5%|██▏                                     | 127/2331 [00:04<01:12, 30.33it/s]"
     ]
    },
    {
     "name": "stdout",
     "output_type": "stream",
     "text": [
      "\r",
      "  6%|██▏                                     | 131/2331 [00:04<01:13, 30.06it/s]"
     ]
    },
    {
     "name": "stdout",
     "output_type": "stream",
     "text": [
      "\r",
      "  6%|██▎                                     | 135/2331 [00:04<01:13, 29.72it/s]"
     ]
    },
    {
     "name": "stdout",
     "output_type": "stream",
     "text": [
      "\r",
      "  6%|██▍                                     | 139/2331 [00:04<01:10, 31.00it/s]"
     ]
    },
    {
     "name": "stdout",
     "output_type": "stream",
     "text": [
      "\r",
      "  6%|██▍                                     | 143/2331 [00:05<01:10, 30.98it/s]"
     ]
    },
    {
     "name": "stdout",
     "output_type": "stream",
     "text": [
      "\r",
      "  6%|██▌                                     | 147/2331 [00:05<01:05, 33.18it/s]"
     ]
    },
    {
     "name": "stdout",
     "output_type": "stream",
     "text": [
      "\r",
      "  6%|██▌                                     | 151/2331 [00:05<01:04, 33.59it/s]"
     ]
    },
    {
     "name": "stdout",
     "output_type": "stream",
     "text": [
      "\r",
      "  7%|██▋                                     | 155/2331 [00:05<01:07, 32.40it/s]"
     ]
    },
    {
     "name": "stdout",
     "output_type": "stream",
     "text": [
      "\r",
      "  7%|██▋                                     | 159/2331 [00:05<01:05, 33.07it/s]"
     ]
    },
    {
     "name": "stdout",
     "output_type": "stream",
     "text": [
      "\r",
      "  7%|██▊                                     | 163/2331 [00:05<01:04, 33.66it/s]"
     ]
    },
    {
     "name": "stdout",
     "output_type": "stream",
     "text": [
      "\r",
      "  7%|██▊                                     | 167/2331 [00:05<01:07, 32.06it/s]"
     ]
    },
    {
     "name": "stdout",
     "output_type": "stream",
     "text": [
      "\r",
      "  7%|██▉                                     | 171/2331 [00:05<01:04, 33.65it/s]"
     ]
    },
    {
     "name": "stdout",
     "output_type": "stream",
     "text": [
      "\r",
      "  8%|███                                     | 175/2331 [00:06<01:10, 30.37it/s]"
     ]
    },
    {
     "name": "stdout",
     "output_type": "stream",
     "text": [
      "\r",
      "  8%|███                                     | 179/2331 [00:06<01:05, 32.65it/s]"
     ]
    },
    {
     "name": "stdout",
     "output_type": "stream",
     "text": [
      "\r",
      "  8%|███▏                                    | 183/2331 [00:06<01:06, 32.10it/s]"
     ]
    },
    {
     "name": "stdout",
     "output_type": "stream",
     "text": [
      "\r",
      "  8%|███▏                                    | 187/2331 [00:06<01:03, 33.84it/s]"
     ]
    },
    {
     "name": "stdout",
     "output_type": "stream",
     "text": [
      "\r",
      "  8%|███▎                                    | 191/2331 [00:06<01:04, 33.25it/s]"
     ]
    },
    {
     "name": "stdout",
     "output_type": "stream",
     "text": [
      "\r",
      "  8%|███▎                                    | 195/2331 [00:06<01:06, 32.35it/s]"
     ]
    },
    {
     "name": "stdout",
     "output_type": "stream",
     "text": [
      "\r",
      "  9%|███▍                                    | 199/2331 [00:06<01:04, 33.29it/s]"
     ]
    },
    {
     "name": "stdout",
     "output_type": "stream",
     "text": [
      "\r",
      "  9%|███▍                                    | 203/2331 [00:06<01:03, 33.63it/s]"
     ]
    },
    {
     "name": "stdout",
     "output_type": "stream",
     "text": [
      "\r",
      "  9%|███▌                                    | 207/2331 [00:07<01:04, 32.84it/s]"
     ]
    },
    {
     "name": "stdout",
     "output_type": "stream",
     "text": [
      "\r",
      "  9%|███▌                                    | 211/2331 [00:07<01:03, 33.23it/s]"
     ]
    },
    {
     "name": "stdout",
     "output_type": "stream",
     "text": [
      "\r",
      "  9%|███▋                                    | 215/2331 [00:07<01:05, 32.35it/s]"
     ]
    },
    {
     "name": "stdout",
     "output_type": "stream",
     "text": [
      "\r",
      "  9%|███▊                                    | 219/2331 [00:07<01:03, 33.12it/s]"
     ]
    },
    {
     "name": "stdout",
     "output_type": "stream",
     "text": [
      "\r",
      " 10%|███▊                                    | 223/2331 [00:07<01:01, 34.10it/s]"
     ]
    },
    {
     "name": "stdout",
     "output_type": "stream",
     "text": [
      "\r",
      " 10%|███▉                                    | 227/2331 [00:07<01:03, 33.33it/s]"
     ]
    },
    {
     "name": "stdout",
     "output_type": "stream",
     "text": [
      "\r",
      " 10%|███▉                                    | 231/2331 [00:07<01:03, 33.02it/s]"
     ]
    },
    {
     "name": "stdout",
     "output_type": "stream",
     "text": [
      "\r",
      " 10%|████                                    | 235/2331 [00:07<01:02, 33.67it/s]"
     ]
    },
    {
     "name": "stdout",
     "output_type": "stream",
     "text": [
      "\r",
      " 10%|████                                    | 239/2331 [00:07<01:00, 34.75it/s]"
     ]
    },
    {
     "name": "stdout",
     "output_type": "stream",
     "text": [
      "\r",
      " 10%|████▏                                   | 243/2331 [00:08<01:02, 33.61it/s]"
     ]
    },
    {
     "name": "stdout",
     "output_type": "stream",
     "text": [
      "\r",
      " 11%|████▏                                   | 247/2331 [00:08<01:02, 33.60it/s]"
     ]
    },
    {
     "name": "stdout",
     "output_type": "stream",
     "text": [
      "\r",
      " 11%|████▎                                   | 251/2331 [00:08<01:02, 33.26it/s]"
     ]
    },
    {
     "name": "stdout",
     "output_type": "stream",
     "text": [
      "\r",
      " 11%|████▍                                   | 255/2331 [00:08<01:00, 34.26it/s]"
     ]
    },
    {
     "name": "stdout",
     "output_type": "stream",
     "text": [
      "\r",
      " 11%|████▍                                   | 259/2331 [00:08<00:59, 34.55it/s]"
     ]
    },
    {
     "name": "stdout",
     "output_type": "stream",
     "text": [
      "\r",
      " 11%|████▌                                   | 263/2331 [00:08<00:59, 34.90it/s]"
     ]
    },
    {
     "name": "stdout",
     "output_type": "stream",
     "text": [
      "\r",
      " 11%|████▌                                   | 267/2331 [00:08<01:00, 33.90it/s]"
     ]
    },
    {
     "name": "stdout",
     "output_type": "stream",
     "text": [
      "\r",
      " 12%|████▋                                   | 271/2331 [00:08<01:06, 31.05it/s]"
     ]
    },
    {
     "name": "stdout",
     "output_type": "stream",
     "text": [
      "\r",
      " 12%|████▋                                   | 275/2331 [00:09<01:02, 33.14it/s]"
     ]
    },
    {
     "name": "stdout",
     "output_type": "stream",
     "text": [
      "\r",
      " 12%|████▊                                   | 279/2331 [00:09<01:01, 33.41it/s]"
     ]
    },
    {
     "name": "stdout",
     "output_type": "stream",
     "text": [
      "\r",
      " 12%|████▊                                   | 283/2331 [00:09<01:03, 32.12it/s]"
     ]
    },
    {
     "name": "stdout",
     "output_type": "stream",
     "text": [
      "\r",
      " 12%|████▉                                   | 287/2331 [00:09<01:02, 32.61it/s]"
     ]
    },
    {
     "name": "stdout",
     "output_type": "stream",
     "text": [
      "\r",
      " 12%|████▉                                   | 291/2331 [00:09<01:02, 32.48it/s]"
     ]
    },
    {
     "name": "stdout",
     "output_type": "stream",
     "text": [
      "\r",
      " 13%|█████                                   | 295/2331 [00:09<01:04, 31.62it/s]"
     ]
    },
    {
     "name": "stdout",
     "output_type": "stream",
     "text": [
      "\r",
      " 13%|█████▏                                  | 299/2331 [00:09<01:10, 28.70it/s]"
     ]
    },
    {
     "name": "stdout",
     "output_type": "stream",
     "text": [
      "\r",
      " 13%|█████▏                                  | 303/2331 [00:09<01:04, 31.21it/s]"
     ]
    },
    {
     "name": "stdout",
     "output_type": "stream",
     "text": [
      "\r",
      " 13%|█████▎                                  | 307/2331 [00:10<01:04, 31.44it/s]"
     ]
    },
    {
     "name": "stdout",
     "output_type": "stream",
     "text": [
      "\r",
      " 13%|█████▎                                  | 311/2331 [00:10<01:03, 31.82it/s]"
     ]
    },
    {
     "name": "stdout",
     "output_type": "stream",
     "text": [
      "\r",
      " 14%|█████▍                                  | 315/2331 [00:10<01:01, 32.83it/s]"
     ]
    },
    {
     "name": "stdout",
     "output_type": "stream",
     "text": [
      "\r",
      " 14%|█████▍                                  | 319/2331 [00:10<01:05, 30.94it/s]"
     ]
    },
    {
     "name": "stdout",
     "output_type": "stream",
     "text": [
      "\r",
      " 14%|█████▌                                  | 323/2331 [00:10<01:05, 30.74it/s]"
     ]
    },
    {
     "name": "stdout",
     "output_type": "stream",
     "text": [
      "\r",
      " 14%|█████▌                                  | 327/2331 [00:10<01:02, 32.15it/s]"
     ]
    },
    {
     "name": "stdout",
     "output_type": "stream",
     "text": [
      "\r",
      " 14%|█████▋                                  | 331/2331 [00:10<00:59, 33.79it/s]"
     ]
    },
    {
     "name": "stdout",
     "output_type": "stream",
     "text": [
      "\r",
      " 14%|█████▋                                  | 335/2331 [00:10<00:59, 33.58it/s]"
     ]
    },
    {
     "name": "stdout",
     "output_type": "stream",
     "text": [
      "\r",
      " 15%|█████▊                                  | 339/2331 [00:11<00:57, 34.64it/s]"
     ]
    },
    {
     "name": "stdout",
     "output_type": "stream",
     "text": [
      "\r",
      " 15%|█████▉                                  | 343/2331 [00:11<00:56, 35.35it/s]"
     ]
    },
    {
     "name": "stdout",
     "output_type": "stream",
     "text": [
      "\r",
      " 15%|█████▉                                  | 347/2331 [00:11<01:00, 32.97it/s]"
     ]
    },
    {
     "name": "stdout",
     "output_type": "stream",
     "text": [
      "\r",
      " 15%|██████                                  | 351/2331 [00:11<00:59, 33.01it/s]"
     ]
    },
    {
     "name": "stdout",
     "output_type": "stream",
     "text": [
      "\r",
      " 15%|██████                                  | 355/2331 [00:11<00:59, 33.40it/s]"
     ]
    },
    {
     "name": "stdout",
     "output_type": "stream",
     "text": [
      "\r",
      " 15%|██████▏                                 | 359/2331 [00:11<01:00, 32.71it/s]"
     ]
    },
    {
     "name": "stdout",
     "output_type": "stream",
     "text": [
      "\r",
      " 16%|██████▏                                 | 363/2331 [00:11<01:01, 32.24it/s]"
     ]
    },
    {
     "name": "stdout",
     "output_type": "stream",
     "text": [
      "\r",
      " 16%|██████▎                                 | 367/2331 [00:11<00:59, 33.18it/s]"
     ]
    },
    {
     "name": "stdout",
     "output_type": "stream",
     "text": [
      "\r",
      " 16%|██████▎                                 | 371/2331 [00:12<01:05, 29.97it/s]"
     ]
    },
    {
     "name": "stdout",
     "output_type": "stream",
     "text": [
      "\r",
      " 16%|██████▍                                 | 375/2331 [00:12<01:06, 29.54it/s]"
     ]
    },
    {
     "name": "stdout",
     "output_type": "stream",
     "text": [
      "\r",
      " 16%|██████▌                                 | 379/2331 [00:12<01:03, 30.53it/s]"
     ]
    },
    {
     "name": "stdout",
     "output_type": "stream",
     "text": [
      "\r",
      " 16%|██████▌                                 | 383/2331 [00:12<01:02, 31.27it/s]"
     ]
    },
    {
     "name": "stdout",
     "output_type": "stream",
     "text": [
      "\r",
      " 17%|██████▋                                 | 387/2331 [00:12<01:01, 31.48it/s]"
     ]
    },
    {
     "name": "stdout",
     "output_type": "stream",
     "text": [
      "\r",
      " 17%|██████▋                                 | 391/2331 [00:12<01:01, 31.66it/s]"
     ]
    },
    {
     "name": "stdout",
     "output_type": "stream",
     "text": [
      "\r",
      " 17%|██████▊                                 | 395/2331 [00:12<01:01, 31.27it/s]"
     ]
    },
    {
     "name": "stdout",
     "output_type": "stream",
     "text": [
      "\r",
      " 17%|██████▊                                 | 399/2331 [00:12<01:03, 30.51it/s]"
     ]
    },
    {
     "name": "stdout",
     "output_type": "stream",
     "text": [
      "\r",
      " 17%|██████▉                                 | 403/2331 [00:13<01:01, 31.28it/s]"
     ]
    },
    {
     "name": "stdout",
     "output_type": "stream",
     "text": [
      "\r",
      " 17%|██████▉                                 | 407/2331 [00:13<00:58, 32.89it/s]"
     ]
    },
    {
     "name": "stdout",
     "output_type": "stream",
     "text": [
      "\r",
      " 18%|███████                                 | 411/2331 [00:13<00:57, 33.58it/s]"
     ]
    },
    {
     "name": "stdout",
     "output_type": "stream",
     "text": [
      "\r",
      " 18%|███████                                 | 415/2331 [00:13<00:57, 33.48it/s]"
     ]
    },
    {
     "name": "stdout",
     "output_type": "stream",
     "text": [
      "\r",
      " 18%|███████▏                                | 419/2331 [00:13<00:58, 32.70it/s]"
     ]
    },
    {
     "name": "stdout",
     "output_type": "stream",
     "text": [
      "\r",
      " 18%|███████▎                                | 423/2331 [00:13<00:55, 34.26it/s]"
     ]
    },
    {
     "name": "stdout",
     "output_type": "stream",
     "text": [
      "\r",
      " 18%|███████▎                                | 427/2331 [00:13<00:58, 32.46it/s]"
     ]
    },
    {
     "name": "stdout",
     "output_type": "stream",
     "text": [
      "\r",
      " 19%|███████▍                                | 432/2331 [00:13<00:54, 34.96it/s]"
     ]
    },
    {
     "name": "stdout",
     "output_type": "stream",
     "text": [
      "\r",
      " 19%|███████▍                                | 436/2331 [00:13<00:52, 35.96it/s]"
     ]
    },
    {
     "name": "stdout",
     "output_type": "stream",
     "text": [
      "\r",
      " 19%|███████▌                                | 440/2331 [00:14<00:53, 35.59it/s]"
     ]
    },
    {
     "name": "stdout",
     "output_type": "stream",
     "text": [
      "\r",
      " 19%|███████▌                                | 444/2331 [00:14<00:53, 35.01it/s]"
     ]
    },
    {
     "name": "stdout",
     "output_type": "stream",
     "text": [
      "\r",
      " 19%|███████▋                                | 449/2331 [00:14<00:51, 36.41it/s]"
     ]
    },
    {
     "name": "stdout",
     "output_type": "stream",
     "text": [
      "\r",
      " 19%|███████▊                                | 453/2331 [00:14<00:51, 36.17it/s]"
     ]
    },
    {
     "name": "stdout",
     "output_type": "stream",
     "text": [
      "\r",
      " 20%|███████▊                                | 457/2331 [00:14<00:56, 33.13it/s]"
     ]
    },
    {
     "name": "stdout",
     "output_type": "stream",
     "text": [
      "\r",
      " 20%|███████▉                                | 461/2331 [00:14<01:02, 29.95it/s]"
     ]
    },
    {
     "name": "stdout",
     "output_type": "stream",
     "text": [
      "\r",
      " 20%|███████▉                                | 465/2331 [00:14<01:08, 27.23it/s]"
     ]
    },
    {
     "name": "stdout",
     "output_type": "stream",
     "text": [
      "\r",
      " 20%|████████                                | 468/2331 [00:15<01:18, 23.74it/s]"
     ]
    },
    {
     "name": "stdout",
     "output_type": "stream",
     "text": [
      "\r",
      " 20%|████████                                | 471/2331 [00:15<01:24, 21.93it/s]"
     ]
    },
    {
     "name": "stdout",
     "output_type": "stream",
     "text": [
      "\r",
      " 20%|████████▏                               | 474/2331 [00:15<01:24, 22.10it/s]"
     ]
    },
    {
     "name": "stdout",
     "output_type": "stream",
     "text": [
      "\r",
      " 21%|████████▏                               | 478/2331 [00:15<01:15, 24.53it/s]"
     ]
    },
    {
     "name": "stdout",
     "output_type": "stream",
     "text": [
      "\r",
      " 21%|████████▎                               | 481/2331 [00:15<01:11, 25.75it/s]"
     ]
    },
    {
     "name": "stdout",
     "output_type": "stream",
     "text": [
      "\r",
      " 21%|████████▎                               | 485/2331 [00:15<01:03, 29.15it/s]"
     ]
    },
    {
     "name": "stdout",
     "output_type": "stream",
     "text": [
      "\r",
      " 21%|████████▍                               | 489/2331 [00:15<00:59, 31.03it/s]"
     ]
    },
    {
     "name": "stdout",
     "output_type": "stream",
     "text": [
      "\r",
      " 21%|████████▍                               | 493/2331 [00:15<00:55, 33.24it/s]"
     ]
    },
    {
     "name": "stdout",
     "output_type": "stream",
     "text": [
      "\r",
      " 21%|████████▌                               | 497/2331 [00:16<00:54, 33.78it/s]"
     ]
    },
    {
     "name": "stdout",
     "output_type": "stream",
     "text": [
      "\r",
      " 21%|████████▌                               | 501/2331 [00:16<00:53, 34.02it/s]"
     ]
    },
    {
     "name": "stdout",
     "output_type": "stream",
     "text": [
      "\r",
      " 22%|████████▋                               | 505/2331 [00:16<00:54, 33.60it/s]"
     ]
    },
    {
     "name": "stdout",
     "output_type": "stream",
     "text": [
      "\r",
      " 22%|████████▋                               | 509/2331 [00:16<00:52, 34.99it/s]"
     ]
    },
    {
     "name": "stdout",
     "output_type": "stream",
     "text": [
      "\r",
      " 22%|████████▊                               | 513/2331 [00:16<00:53, 34.05it/s]"
     ]
    },
    {
     "name": "stdout",
     "output_type": "stream",
     "text": [
      "\r",
      " 22%|████████▊                               | 517/2331 [00:16<00:53, 34.04it/s]"
     ]
    },
    {
     "name": "stdout",
     "output_type": "stream",
     "text": [
      "\r",
      " 22%|████████▉                               | 521/2331 [00:16<00:52, 34.19it/s]"
     ]
    },
    {
     "name": "stdout",
     "output_type": "stream",
     "text": [
      "\r",
      " 23%|█████████                               | 525/2331 [00:16<00:50, 35.52it/s]"
     ]
    },
    {
     "name": "stdout",
     "output_type": "stream",
     "text": [
      "\r",
      " 23%|█████████                               | 529/2331 [00:16<00:50, 35.90it/s]"
     ]
    },
    {
     "name": "stdout",
     "output_type": "stream",
     "text": [
      "\r",
      " 23%|█████████▏                              | 533/2331 [00:17<00:50, 35.59it/s]"
     ]
    },
    {
     "name": "stdout",
     "output_type": "stream",
     "text": [
      "\r",
      " 23%|█████████▏                              | 537/2331 [00:17<00:49, 36.57it/s]"
     ]
    },
    {
     "name": "stdout",
     "output_type": "stream",
     "text": [
      "\r",
      " 23%|█████████▎                              | 542/2331 [00:17<00:47, 37.67it/s]"
     ]
    },
    {
     "name": "stdout",
     "output_type": "stream",
     "text": [
      "\r",
      " 23%|█████████▎                              | 546/2331 [00:17<00:49, 36.25it/s]"
     ]
    },
    {
     "name": "stdout",
     "output_type": "stream",
     "text": [
      "\r",
      " 24%|█████████▍                              | 550/2331 [00:17<00:52, 33.96it/s]"
     ]
    },
    {
     "name": "stdout",
     "output_type": "stream",
     "text": [
      "\r",
      " 24%|█████████▌                              | 554/2331 [00:17<00:52, 34.09it/s]"
     ]
    },
    {
     "name": "stdout",
     "output_type": "stream",
     "text": [
      "\r",
      " 24%|█████████▌                              | 559/2331 [00:17<00:48, 36.25it/s]"
     ]
    },
    {
     "name": "stdout",
     "output_type": "stream",
     "text": [
      "\r",
      " 24%|█████████▋                              | 563/2331 [00:17<00:50, 35.14it/s]"
     ]
    },
    {
     "name": "stdout",
     "output_type": "stream",
     "text": [
      "\r",
      " 24%|█████████▋                              | 567/2331 [00:18<00:50, 34.70it/s]"
     ]
    },
    {
     "name": "stdout",
     "output_type": "stream",
     "text": [
      "\r",
      " 24%|█████████▊                              | 571/2331 [00:18<00:54, 32.06it/s]"
     ]
    },
    {
     "name": "stdout",
     "output_type": "stream",
     "text": [
      "\r",
      " 25%|█████████▊                              | 575/2331 [00:18<00:54, 32.34it/s]"
     ]
    },
    {
     "name": "stdout",
     "output_type": "stream",
     "text": [
      "\r",
      " 25%|█████████▉                              | 579/2331 [00:18<00:53, 33.01it/s]"
     ]
    },
    {
     "name": "stdout",
     "output_type": "stream",
     "text": [
      "\r",
      " 25%|██████████                              | 583/2331 [00:18<00:50, 34.35it/s]"
     ]
    },
    {
     "name": "stdout",
     "output_type": "stream",
     "text": [
      "\r",
      " 25%|██████████                              | 587/2331 [00:18<00:50, 34.49it/s]"
     ]
    },
    {
     "name": "stdout",
     "output_type": "stream",
     "text": [
      "\r",
      " 25%|██████████▏                             | 591/2331 [00:18<00:52, 33.13it/s]"
     ]
    },
    {
     "name": "stdout",
     "output_type": "stream",
     "text": [
      "\r",
      " 26%|██████████▏                             | 595/2331 [00:18<00:54, 32.15it/s]"
     ]
    },
    {
     "name": "stdout",
     "output_type": "stream",
     "text": [
      "\r",
      " 26%|██████████▎                             | 599/2331 [00:19<00:53, 32.10it/s]"
     ]
    },
    {
     "name": "stdout",
     "output_type": "stream",
     "text": [
      "\r",
      " 26%|██████████▎                             | 603/2331 [00:19<00:56, 30.83it/s]"
     ]
    },
    {
     "name": "stdout",
     "output_type": "stream",
     "text": [
      "\r",
      " 26%|██████████▍                             | 607/2331 [00:19<00:55, 31.21it/s]"
     ]
    },
    {
     "name": "stdout",
     "output_type": "stream",
     "text": [
      "\r",
      " 26%|██████████▍                             | 611/2331 [00:19<00:53, 32.31it/s]"
     ]
    },
    {
     "name": "stdout",
     "output_type": "stream",
     "text": [
      "\r",
      " 26%|██████████▌                             | 615/2331 [00:19<00:50, 33.94it/s]"
     ]
    },
    {
     "name": "stdout",
     "output_type": "stream",
     "text": [
      "\r",
      " 27%|██████████▌                             | 619/2331 [00:19<00:49, 34.27it/s]"
     ]
    },
    {
     "name": "stdout",
     "output_type": "stream",
     "text": [
      "\r",
      " 27%|██████████▋                             | 623/2331 [00:19<00:52, 32.74it/s]"
     ]
    },
    {
     "name": "stdout",
     "output_type": "stream",
     "text": [
      "\r",
      " 27%|██████████▊                             | 627/2331 [00:19<00:51, 33.05it/s]"
     ]
    },
    {
     "name": "stdout",
     "output_type": "stream",
     "text": [
      "\r",
      " 27%|██████████▊                             | 631/2331 [00:20<00:49, 34.28it/s]"
     ]
    },
    {
     "name": "stdout",
     "output_type": "stream",
     "text": [
      "\r",
      " 27%|██████████▉                             | 635/2331 [00:20<00:52, 32.36it/s]"
     ]
    },
    {
     "name": "stdout",
     "output_type": "stream",
     "text": [
      "\r",
      " 27%|██████████▉                             | 639/2331 [00:20<00:56, 29.98it/s]"
     ]
    },
    {
     "name": "stdout",
     "output_type": "stream",
     "text": [
      "\r",
      " 28%|███████████                             | 643/2331 [00:20<00:56, 30.03it/s]"
     ]
    },
    {
     "name": "stdout",
     "output_type": "stream",
     "text": [
      "\r",
      " 28%|███████████                             | 647/2331 [00:20<00:53, 31.35it/s]"
     ]
    },
    {
     "name": "stdout",
     "output_type": "stream",
     "text": [
      "\r",
      " 28%|███████████▏                            | 651/2331 [00:20<00:53, 31.48it/s]"
     ]
    },
    {
     "name": "stdout",
     "output_type": "stream",
     "text": [
      "\r",
      " 28%|███████████▏                            | 655/2331 [00:20<00:50, 33.16it/s]"
     ]
    },
    {
     "name": "stdout",
     "output_type": "stream",
     "text": [
      "\r",
      " 28%|███████████▎                            | 659/2331 [00:20<00:50, 33.35it/s]"
     ]
    },
    {
     "name": "stdout",
     "output_type": "stream",
     "text": [
      "\r",
      " 28%|███████████▍                            | 663/2331 [00:21<00:50, 32.78it/s]"
     ]
    },
    {
     "name": "stdout",
     "output_type": "stream",
     "text": [
      "\r",
      " 29%|███████████▍                            | 667/2331 [00:21<00:50, 32.87it/s]"
     ]
    },
    {
     "name": "stdout",
     "output_type": "stream",
     "text": [
      "\r",
      " 29%|███████████▌                            | 671/2331 [00:21<00:48, 34.53it/s]"
     ]
    },
    {
     "name": "stdout",
     "output_type": "stream",
     "text": [
      "\r",
      " 29%|███████████▌                            | 675/2331 [00:21<00:47, 34.76it/s]"
     ]
    },
    {
     "name": "stdout",
     "output_type": "stream",
     "text": [
      "\r",
      " 29%|███████████▋                            | 680/2331 [00:21<00:44, 36.87it/s]"
     ]
    },
    {
     "name": "stdout",
     "output_type": "stream",
     "text": [
      "\r",
      " 29%|███████████▋                            | 684/2331 [00:21<00:45, 35.95it/s]"
     ]
    },
    {
     "name": "stdout",
     "output_type": "stream",
     "text": [
      "\r",
      " 30%|███████████▊                            | 688/2331 [00:21<00:45, 36.20it/s]"
     ]
    },
    {
     "name": "stdout",
     "output_type": "stream",
     "text": [
      "\r",
      " 30%|███████████▊                            | 692/2331 [00:21<00:44, 37.10it/s]"
     ]
    },
    {
     "name": "stdout",
     "output_type": "stream",
     "text": [
      "\r",
      " 30%|███████████▉                            | 696/2331 [00:21<00:47, 34.75it/s]"
     ]
    },
    {
     "name": "stdout",
     "output_type": "stream",
     "text": [
      "\r",
      " 30%|████████████                            | 700/2331 [00:22<00:46, 35.09it/s]"
     ]
    },
    {
     "name": "stdout",
     "output_type": "stream",
     "text": [
      "\r",
      " 30%|████████████                            | 704/2331 [00:22<00:48, 33.46it/s]"
     ]
    },
    {
     "name": "stdout",
     "output_type": "stream",
     "text": [
      "\r",
      " 30%|████████████▏                           | 709/2331 [00:22<00:45, 35.66it/s]"
     ]
    },
    {
     "name": "stdout",
     "output_type": "stream",
     "text": [
      "\r",
      " 31%|████████████▏                           | 713/2331 [00:22<00:45, 35.52it/s]"
     ]
    },
    {
     "name": "stdout",
     "output_type": "stream",
     "text": [
      "\r",
      " 31%|████████████▎                           | 717/2331 [00:22<00:45, 35.40it/s]"
     ]
    },
    {
     "name": "stdout",
     "output_type": "stream",
     "text": [
      "\r",
      " 31%|████████████▎                           | 721/2331 [00:22<00:49, 32.73it/s]"
     ]
    },
    {
     "name": "stdout",
     "output_type": "stream",
     "text": [
      "\r",
      " 31%|████████████▍                           | 725/2331 [00:22<00:47, 34.15it/s]"
     ]
    },
    {
     "name": "stdout",
     "output_type": "stream",
     "text": [
      "\r",
      " 31%|████████████▌                           | 729/2331 [00:22<00:47, 34.06it/s]"
     ]
    },
    {
     "name": "stdout",
     "output_type": "stream",
     "text": [
      "\r",
      " 31%|████████████▌                           | 733/2331 [00:23<00:46, 34.25it/s]"
     ]
    },
    {
     "name": "stdout",
     "output_type": "stream",
     "text": [
      "\r",
      " 32%|████████████▋                           | 737/2331 [00:23<00:47, 33.37it/s]"
     ]
    },
    {
     "name": "stdout",
     "output_type": "stream",
     "text": [
      "\r",
      " 32%|████████████▋                           | 741/2331 [00:23<00:47, 33.17it/s]"
     ]
    },
    {
     "name": "stdout",
     "output_type": "stream",
     "text": [
      "\r",
      " 32%|████████████▊                           | 745/2331 [00:23<00:45, 34.86it/s]"
     ]
    },
    {
     "name": "stdout",
     "output_type": "stream",
     "text": [
      "\r",
      " 32%|████████████▊                           | 749/2331 [00:23<00:44, 35.34it/s]"
     ]
    },
    {
     "name": "stdout",
     "output_type": "stream",
     "text": [
      "\r",
      " 32%|████████████▉                           | 753/2331 [00:23<00:44, 35.60it/s]"
     ]
    },
    {
     "name": "stdout",
     "output_type": "stream",
     "text": [
      "\r",
      " 32%|████████████▉                           | 757/2331 [00:23<00:43, 36.23it/s]"
     ]
    },
    {
     "name": "stdout",
     "output_type": "stream",
     "text": [
      "\r",
      " 33%|█████████████                           | 761/2331 [00:23<00:42, 37.25it/s]"
     ]
    },
    {
     "name": "stdout",
     "output_type": "stream",
     "text": [
      "\r",
      " 33%|█████████████▏                          | 765/2331 [00:23<00:42, 37.24it/s]"
     ]
    },
    {
     "name": "stdout",
     "output_type": "stream",
     "text": [
      "\r",
      " 33%|█████████████▏                          | 769/2331 [00:24<00:42, 37.15it/s]"
     ]
    },
    {
     "name": "stdout",
     "output_type": "stream",
     "text": [
      "\r",
      " 33%|█████████████▎                          | 773/2331 [00:24<00:42, 36.43it/s]"
     ]
    },
    {
     "name": "stdout",
     "output_type": "stream",
     "text": [
      "\r",
      " 33%|█████████████▎                          | 777/2331 [00:24<00:43, 35.47it/s]"
     ]
    },
    {
     "name": "stdout",
     "output_type": "stream",
     "text": [
      "\r",
      " 34%|█████████████▍                          | 781/2331 [00:24<00:46, 33.61it/s]"
     ]
    },
    {
     "name": "stdout",
     "output_type": "stream",
     "text": [
      "\r",
      " 34%|█████████████▍                          | 785/2331 [00:24<00:45, 33.83it/s]"
     ]
    },
    {
     "name": "stdout",
     "output_type": "stream",
     "text": [
      "\r",
      " 34%|█████████████▌                          | 789/2331 [00:24<00:46, 33.30it/s]"
     ]
    },
    {
     "name": "stdout",
     "output_type": "stream",
     "text": [
      "\r",
      " 34%|█████████████▌                          | 793/2331 [00:24<00:46, 33.20it/s]"
     ]
    },
    {
     "name": "stdout",
     "output_type": "stream",
     "text": [
      "\r",
      " 34%|█████████████▋                          | 797/2331 [00:24<00:45, 33.79it/s]"
     ]
    },
    {
     "name": "stdout",
     "output_type": "stream",
     "text": [
      "\r",
      " 34%|█████████████▋                          | 801/2331 [00:25<00:48, 31.56it/s]"
     ]
    },
    {
     "name": "stdout",
     "output_type": "stream",
     "text": [
      "\r",
      " 35%|█████████████▊                          | 805/2331 [00:25<00:45, 33.59it/s]"
     ]
    },
    {
     "name": "stdout",
     "output_type": "stream",
     "text": [
      "\r",
      " 35%|█████████████▉                          | 809/2331 [00:25<00:44, 33.88it/s]"
     ]
    },
    {
     "name": "stdout",
     "output_type": "stream",
     "text": [
      "\r",
      " 35%|█████████████▉                          | 814/2331 [00:25<00:42, 35.99it/s]"
     ]
    },
    {
     "name": "stdout",
     "output_type": "stream",
     "text": [
      "\r",
      " 35%|██████████████                          | 818/2331 [00:25<00:43, 34.76it/s]"
     ]
    },
    {
     "name": "stdout",
     "output_type": "stream",
     "text": [
      "\r",
      " 35%|██████████████                          | 822/2331 [00:25<00:43, 34.67it/s]"
     ]
    },
    {
     "name": "stdout",
     "output_type": "stream",
     "text": [
      "\r",
      " 35%|██████████████▏                         | 826/2331 [00:25<00:47, 31.64it/s]"
     ]
    },
    {
     "name": "stdout",
     "output_type": "stream",
     "text": [
      "\r",
      " 36%|██████████████▏                         | 830/2331 [00:25<00:49, 30.59it/s]"
     ]
    },
    {
     "name": "stdout",
     "output_type": "stream",
     "text": [
      "\r",
      " 36%|██████████████▎                         | 834/2331 [00:26<00:52, 28.48it/s]"
     ]
    },
    {
     "name": "stdout",
     "output_type": "stream",
     "text": [
      "\r",
      " 36%|██████████████▍                         | 838/2331 [00:26<00:48, 30.48it/s]"
     ]
    },
    {
     "name": "stdout",
     "output_type": "stream",
     "text": [
      "\r",
      " 36%|██████████████▍                         | 842/2331 [00:26<00:45, 32.55it/s]"
     ]
    },
    {
     "name": "stdout",
     "output_type": "stream",
     "text": [
      "\r",
      " 36%|██████████████▌                         | 846/2331 [00:26<00:47, 31.40it/s]"
     ]
    },
    {
     "name": "stdout",
     "output_type": "stream",
     "text": [
      "\r",
      " 36%|██████████████▌                         | 850/2331 [00:26<00:47, 31.39it/s]"
     ]
    },
    {
     "name": "stdout",
     "output_type": "stream",
     "text": [
      "\r",
      " 37%|██████████████▋                         | 854/2331 [00:26<00:49, 29.80it/s]"
     ]
    },
    {
     "name": "stdout",
     "output_type": "stream",
     "text": [
      "\r",
      " 37%|██████████████▋                         | 858/2331 [00:26<00:50, 29.19it/s]"
     ]
    },
    {
     "name": "stdout",
     "output_type": "stream",
     "text": [
      "\r",
      " 37%|██████████████▊                         | 862/2331 [00:26<00:48, 30.58it/s]"
     ]
    },
    {
     "name": "stdout",
     "output_type": "stream",
     "text": [
      "\r",
      " 37%|██████████████▊                         | 866/2331 [00:27<00:47, 30.94it/s]"
     ]
    },
    {
     "name": "stdout",
     "output_type": "stream",
     "text": [
      "\r",
      " 37%|██████████████▉                         | 870/2331 [00:27<00:45, 32.31it/s]"
     ]
    },
    {
     "name": "stdout",
     "output_type": "stream",
     "text": [
      "\r",
      " 37%|██████████████▉                         | 874/2331 [00:27<00:42, 33.89it/s]"
     ]
    },
    {
     "name": "stdout",
     "output_type": "stream",
     "text": [
      "\r",
      " 38%|███████████████                         | 878/2331 [00:27<00:43, 33.37it/s]"
     ]
    },
    {
     "name": "stdout",
     "output_type": "stream",
     "text": [
      "\r",
      " 38%|███████████████▏                        | 882/2331 [00:27<00:44, 32.65it/s]"
     ]
    },
    {
     "name": "stdout",
     "output_type": "stream",
     "text": [
      "\r",
      " 38%|███████████████▏                        | 886/2331 [00:27<00:43, 33.18it/s]"
     ]
    },
    {
     "name": "stdout",
     "output_type": "stream",
     "text": [
      "\r",
      " 38%|███████████████▎                        | 890/2331 [00:27<00:41, 34.66it/s]"
     ]
    },
    {
     "name": "stdout",
     "output_type": "stream",
     "text": [
      "\r",
      " 38%|███████████████▎                        | 894/2331 [00:27<00:41, 34.61it/s]"
     ]
    },
    {
     "name": "stdout",
     "output_type": "stream",
     "text": [
      "\r",
      " 39%|███████████████▍                        | 898/2331 [00:28<00:43, 33.10it/s]"
     ]
    },
    {
     "name": "stdout",
     "output_type": "stream",
     "text": [
      "\r",
      " 39%|███████████████▍                        | 902/2331 [00:28<00:41, 34.76it/s]"
     ]
    },
    {
     "name": "stdout",
     "output_type": "stream",
     "text": [
      "\r",
      " 39%|███████████████▌                        | 906/2331 [00:28<00:39, 35.68it/s]"
     ]
    },
    {
     "name": "stdout",
     "output_type": "stream",
     "text": [
      "\r",
      " 39%|███████████████▋                        | 911/2331 [00:28<00:39, 36.10it/s]"
     ]
    },
    {
     "name": "stdout",
     "output_type": "stream",
     "text": [
      "\r",
      " 39%|███████████████▋                        | 915/2331 [00:28<00:39, 35.90it/s]"
     ]
    },
    {
     "name": "stdout",
     "output_type": "stream",
     "text": [
      "\r",
      " 39%|███████████████▊                        | 919/2331 [00:28<00:40, 35.03it/s]"
     ]
    },
    {
     "name": "stdout",
     "output_type": "stream",
     "text": [
      "\r",
      " 40%|███████████████▊                        | 924/2331 [00:28<00:38, 36.52it/s]"
     ]
    },
    {
     "name": "stdout",
     "output_type": "stream",
     "text": [
      "\r",
      " 40%|███████████████▉                        | 928/2331 [00:28<00:40, 34.85it/s]"
     ]
    },
    {
     "name": "stdout",
     "output_type": "stream",
     "text": [
      "\r",
      " 40%|███████████████▉                        | 932/2331 [00:28<00:41, 33.38it/s]"
     ]
    },
    {
     "name": "stdout",
     "output_type": "stream",
     "text": [
      "\r",
      " 40%|████████████████                        | 936/2331 [00:29<00:39, 35.01it/s]"
     ]
    },
    {
     "name": "stdout",
     "output_type": "stream",
     "text": [
      "\r",
      " 40%|████████████████▏                       | 940/2331 [00:29<00:40, 34.27it/s]"
     ]
    },
    {
     "name": "stdout",
     "output_type": "stream",
     "text": [
      "\r",
      " 40%|████████████████▏                       | 944/2331 [00:29<00:40, 34.01it/s]"
     ]
    },
    {
     "name": "stdout",
     "output_type": "stream",
     "text": [
      "\r",
      " 41%|████████████████▎                       | 948/2331 [00:29<00:41, 33.05it/s]"
     ]
    },
    {
     "name": "stdout",
     "output_type": "stream",
     "text": [
      "\r",
      " 41%|████████████████▎                       | 952/2331 [00:29<00:39, 34.56it/s]"
     ]
    },
    {
     "name": "stdout",
     "output_type": "stream",
     "text": [
      "\r",
      " 41%|████████████████▍                       | 956/2331 [00:29<00:38, 35.30it/s]"
     ]
    },
    {
     "name": "stdout",
     "output_type": "stream",
     "text": [
      "\r",
      " 41%|████████████████▍                       | 960/2331 [00:29<00:39, 34.63it/s]"
     ]
    },
    {
     "name": "stdout",
     "output_type": "stream",
     "text": [
      "\r",
      " 41%|████████████████▌                       | 964/2331 [00:29<00:38, 35.62it/s]"
     ]
    },
    {
     "name": "stdout",
     "output_type": "stream",
     "text": [
      "\r",
      " 42%|████████████████▌                       | 968/2331 [00:29<00:37, 35.93it/s]"
     ]
    },
    {
     "name": "stdout",
     "output_type": "stream",
     "text": [
      "\r",
      " 42%|████████████████▋                       | 972/2331 [00:30<00:39, 34.24it/s]"
     ]
    },
    {
     "name": "stdout",
     "output_type": "stream",
     "text": [
      "\r",
      " 42%|████████████████▋                       | 976/2331 [00:30<00:42, 32.15it/s]"
     ]
    },
    {
     "name": "stdout",
     "output_type": "stream",
     "text": [
      "\r",
      " 42%|████████████████▊                       | 980/2331 [00:30<00:41, 32.86it/s]"
     ]
    },
    {
     "name": "stdout",
     "output_type": "stream",
     "text": [
      "\r",
      " 42%|████████████████▉                       | 984/2331 [00:30<00:39, 34.00it/s]"
     ]
    },
    {
     "name": "stdout",
     "output_type": "stream",
     "text": [
      "\r",
      " 42%|████████████████▉                       | 988/2331 [00:30<00:41, 32.55it/s]"
     ]
    },
    {
     "name": "stdout",
     "output_type": "stream",
     "text": [
      "\r",
      " 43%|█████████████████                       | 992/2331 [00:30<00:39, 33.51it/s]"
     ]
    },
    {
     "name": "stdout",
     "output_type": "stream",
     "text": [
      "\r",
      " 43%|█████████████████                       | 996/2331 [00:30<00:38, 34.49it/s]"
     ]
    },
    {
     "name": "stdout",
     "output_type": "stream",
     "text": [
      "\r",
      " 43%|████████████████▋                      | 1000/2331 [00:31<00:43, 30.61it/s]"
     ]
    },
    {
     "name": "stdout",
     "output_type": "stream",
     "text": [
      "\r",
      " 43%|████████████████▊                      | 1004/2331 [00:31<00:42, 31.45it/s]"
     ]
    },
    {
     "name": "stdout",
     "output_type": "stream",
     "text": [
      "\r",
      " 43%|████████████████▊                      | 1008/2331 [00:31<00:43, 30.63it/s]"
     ]
    },
    {
     "name": "stdout",
     "output_type": "stream",
     "text": [
      "\r",
      " 43%|████████████████▉                      | 1012/2331 [00:31<00:40, 32.87it/s]"
     ]
    },
    {
     "name": "stdout",
     "output_type": "stream",
     "text": [
      "\r",
      " 44%|████████████████▉                      | 1016/2331 [00:31<00:38, 34.35it/s]"
     ]
    },
    {
     "name": "stdout",
     "output_type": "stream",
     "text": [
      "\r",
      " 44%|█████████████████                      | 1020/2331 [00:31<00:38, 33.91it/s]"
     ]
    },
    {
     "name": "stdout",
     "output_type": "stream",
     "text": [
      "\r",
      " 44%|█████████████████▏                     | 1024/2331 [00:31<00:39, 32.75it/s]"
     ]
    },
    {
     "name": "stdout",
     "output_type": "stream",
     "text": [
      "\r",
      " 44%|█████████████████▏                     | 1028/2331 [00:31<00:39, 33.34it/s]"
     ]
    },
    {
     "name": "stdout",
     "output_type": "stream",
     "text": [
      "\r",
      " 44%|█████████████████▎                     | 1033/2331 [00:31<00:36, 35.52it/s]"
     ]
    },
    {
     "name": "stdout",
     "output_type": "stream",
     "text": [
      "\r",
      " 44%|█████████████████▎                     | 1037/2331 [00:32<00:37, 34.80it/s]"
     ]
    },
    {
     "name": "stdout",
     "output_type": "stream",
     "text": [
      "\r",
      " 45%|█████████████████▍                     | 1041/2331 [00:32<00:36, 35.34it/s]"
     ]
    },
    {
     "name": "stdout",
     "output_type": "stream",
     "text": [
      "\r",
      " 45%|█████████████████▍                     | 1045/2331 [00:32<00:36, 35.22it/s]"
     ]
    },
    {
     "name": "stdout",
     "output_type": "stream",
     "text": [
      "\r",
      " 45%|█████████████████▌                     | 1049/2331 [00:32<00:38, 33.21it/s]"
     ]
    },
    {
     "name": "stdout",
     "output_type": "stream",
     "text": [
      "\r",
      " 45%|█████████████████▌                     | 1053/2331 [00:32<00:36, 34.65it/s]"
     ]
    },
    {
     "name": "stdout",
     "output_type": "stream",
     "text": [
      "\r",
      " 45%|█████████████████▋                     | 1057/2331 [00:32<00:35, 35.48it/s]"
     ]
    },
    {
     "name": "stdout",
     "output_type": "stream",
     "text": [
      "\r",
      " 46%|█████████████████▊                     | 1061/2331 [00:32<00:38, 32.92it/s]"
     ]
    },
    {
     "name": "stdout",
     "output_type": "stream",
     "text": [
      "\r",
      " 46%|█████████████████▊                     | 1065/2331 [00:32<00:36, 34.40it/s]"
     ]
    },
    {
     "name": "stdout",
     "output_type": "stream",
     "text": [
      "\r",
      " 46%|█████████████████▉                     | 1069/2331 [00:33<00:36, 34.71it/s]"
     ]
    },
    {
     "name": "stdout",
     "output_type": "stream",
     "text": [
      "\r",
      " 46%|█████████████████▉                     | 1073/2331 [00:33<00:35, 35.44it/s]"
     ]
    },
    {
     "name": "stdout",
     "output_type": "stream",
     "text": [
      "\r",
      " 46%|██████████████████                     | 1077/2331 [00:33<00:38, 32.86it/s]"
     ]
    },
    {
     "name": "stdout",
     "output_type": "stream",
     "text": [
      "\r",
      " 46%|██████████████████                     | 1081/2331 [00:33<00:38, 32.48it/s]"
     ]
    },
    {
     "name": "stdout",
     "output_type": "stream",
     "text": [
      "\r",
      " 47%|██████████████████▏                    | 1085/2331 [00:33<00:39, 31.93it/s]"
     ]
    },
    {
     "name": "stdout",
     "output_type": "stream",
     "text": [
      "\r",
      " 47%|██████████████████▏                    | 1089/2331 [00:33<00:38, 32.66it/s]"
     ]
    },
    {
     "name": "stdout",
     "output_type": "stream",
     "text": [
      "\r",
      " 47%|██████████████████▎                    | 1093/2331 [00:33<00:36, 34.37it/s]"
     ]
    },
    {
     "name": "stdout",
     "output_type": "stream",
     "text": [
      "\r",
      " 47%|██████████████████▎                    | 1097/2331 [00:33<00:35, 35.14it/s]"
     ]
    },
    {
     "name": "stdout",
     "output_type": "stream",
     "text": [
      "\r",
      " 47%|██████████████████▍                    | 1101/2331 [00:33<00:34, 35.67it/s]"
     ]
    },
    {
     "name": "stdout",
     "output_type": "stream",
     "text": [
      "\r",
      " 47%|██████████████████▍                    | 1105/2331 [00:34<00:34, 35.84it/s]"
     ]
    },
    {
     "name": "stdout",
     "output_type": "stream",
     "text": [
      "\r",
      " 48%|██████████████████▌                    | 1109/2331 [00:34<00:37, 32.80it/s]"
     ]
    },
    {
     "name": "stdout",
     "output_type": "stream",
     "text": [
      "\r",
      " 48%|██████████████████▌                    | 1113/2331 [00:34<00:35, 34.07it/s]"
     ]
    },
    {
     "name": "stdout",
     "output_type": "stream",
     "text": [
      "\r",
      " 48%|██████████████████▋                    | 1117/2331 [00:34<00:34, 35.16it/s]"
     ]
    },
    {
     "name": "stdout",
     "output_type": "stream",
     "text": [
      "\r",
      " 48%|██████████████████▊                    | 1121/2331 [00:34<00:33, 35.67it/s]"
     ]
    },
    {
     "name": "stdout",
     "output_type": "stream",
     "text": [
      "\r",
      " 48%|██████████████████▊                    | 1125/2331 [00:34<00:34, 35.21it/s]"
     ]
    },
    {
     "name": "stdout",
     "output_type": "stream",
     "text": [
      "\r",
      " 48%|██████████████████▉                    | 1130/2331 [00:34<00:32, 36.94it/s]"
     ]
    },
    {
     "name": "stdout",
     "output_type": "stream",
     "text": [
      "\r",
      " 49%|██████████████████▉                    | 1134/2331 [00:34<00:32, 36.34it/s]"
     ]
    },
    {
     "name": "stdout",
     "output_type": "stream",
     "text": [
      "\r",
      " 49%|███████████████████                    | 1138/2331 [00:34<00:32, 36.21it/s]"
     ]
    },
    {
     "name": "stdout",
     "output_type": "stream",
     "text": [
      "\r",
      " 49%|███████████████████                    | 1142/2331 [00:35<00:34, 34.97it/s]"
     ]
    },
    {
     "name": "stdout",
     "output_type": "stream",
     "text": [
      "\r",
      " 49%|███████████████████▏                   | 1146/2331 [00:35<00:33, 35.24it/s]"
     ]
    },
    {
     "name": "stdout",
     "output_type": "stream",
     "text": [
      "\r",
      " 49%|███████████████████▏                   | 1150/2331 [00:35<00:35, 33.49it/s]"
     ]
    },
    {
     "name": "stdout",
     "output_type": "stream",
     "text": [
      "\r",
      " 50%|███████████████████▎                   | 1154/2331 [00:35<00:33, 34.65it/s]"
     ]
    },
    {
     "name": "stdout",
     "output_type": "stream",
     "text": [
      "\r",
      " 50%|███████████████████▎                   | 1158/2331 [00:35<00:36, 32.34it/s]"
     ]
    },
    {
     "name": "stdout",
     "output_type": "stream",
     "text": [
      "\r",
      " 50%|███████████████████▍                   | 1162/2331 [00:35<00:37, 31.04it/s]"
     ]
    },
    {
     "name": "stdout",
     "output_type": "stream",
     "text": [
      "\r",
      " 50%|███████████████████▌                   | 1166/2331 [00:35<00:36, 32.32it/s]"
     ]
    },
    {
     "name": "stdout",
     "output_type": "stream",
     "text": [
      "\r",
      " 50%|███████████████████▌                   | 1170/2331 [00:35<00:35, 33.01it/s]"
     ]
    },
    {
     "name": "stdout",
     "output_type": "stream",
     "text": [
      "\r",
      " 50%|███████████████████▋                   | 1174/2331 [00:36<00:35, 32.83it/s]"
     ]
    },
    {
     "name": "stdout",
     "output_type": "stream",
     "text": [
      "\r",
      " 51%|███████████████████▋                   | 1178/2331 [00:36<00:34, 33.82it/s]"
     ]
    },
    {
     "name": "stdout",
     "output_type": "stream",
     "text": [
      "\r",
      " 51%|███████████████████▊                   | 1182/2331 [00:36<00:36, 31.75it/s]"
     ]
    },
    {
     "name": "stdout",
     "output_type": "stream",
     "text": [
      "\r",
      " 51%|███████████████████▊                   | 1186/2331 [00:36<00:34, 32.87it/s]"
     ]
    },
    {
     "name": "stdout",
     "output_type": "stream",
     "text": [
      "\r",
      " 51%|███████████████████▉                   | 1190/2331 [00:36<00:34, 33.38it/s]"
     ]
    },
    {
     "name": "stdout",
     "output_type": "stream",
     "text": [
      "\r",
      " 51%|███████████████████▉                   | 1194/2331 [00:36<00:35, 32.40it/s]"
     ]
    },
    {
     "name": "stdout",
     "output_type": "stream",
     "text": [
      "\r",
      " 51%|████████████████████                   | 1198/2331 [00:36<00:36, 30.84it/s]"
     ]
    },
    {
     "name": "stdout",
     "output_type": "stream",
     "text": [
      "\r",
      " 52%|████████████████████                   | 1202/2331 [00:36<00:36, 30.79it/s]"
     ]
    },
    {
     "name": "stdout",
     "output_type": "stream",
     "text": [
      "\r",
      " 52%|████████████████████▏                  | 1206/2331 [00:37<00:37, 30.27it/s]"
     ]
    },
    {
     "name": "stdout",
     "output_type": "stream",
     "text": [
      "\r",
      " 52%|████████████████████▏                  | 1210/2331 [00:37<00:35, 31.50it/s]"
     ]
    },
    {
     "name": "stdout",
     "output_type": "stream",
     "text": [
      "\r",
      " 52%|████████████████████▎                  | 1214/2331 [00:37<00:35, 31.07it/s]"
     ]
    },
    {
     "name": "stdout",
     "output_type": "stream",
     "text": [
      "\r",
      " 52%|████████████████████▍                  | 1218/2331 [00:37<00:33, 32.81it/s]"
     ]
    },
    {
     "name": "stdout",
     "output_type": "stream",
     "text": [
      "\r",
      " 52%|████████████████████▍                  | 1222/2331 [00:37<00:33, 32.62it/s]"
     ]
    },
    {
     "name": "stdout",
     "output_type": "stream",
     "text": [
      "\r",
      " 53%|████████████████████▌                  | 1226/2331 [00:37<00:32, 34.23it/s]"
     ]
    },
    {
     "name": "stdout",
     "output_type": "stream",
     "text": [
      "\r",
      " 53%|████████████████████▌                  | 1230/2331 [00:37<00:32, 33.44it/s]"
     ]
    },
    {
     "name": "stdout",
     "output_type": "stream",
     "text": [
      "\r",
      " 53%|████████████████████▋                  | 1234/2331 [00:37<00:32, 33.82it/s]"
     ]
    },
    {
     "name": "stdout",
     "output_type": "stream",
     "text": [
      "\r",
      " 53%|████████████████████▋                  | 1239/2331 [00:38<00:29, 36.42it/s]"
     ]
    },
    {
     "name": "stdout",
     "output_type": "stream",
     "text": [
      "\r",
      " 53%|████████████████████▊                  | 1244/2331 [00:38<00:29, 36.41it/s]"
     ]
    },
    {
     "name": "stdout",
     "output_type": "stream",
     "text": [
      "\r",
      " 54%|████████████████████▉                  | 1248/2331 [00:38<00:30, 35.61it/s]"
     ]
    },
    {
     "name": "stdout",
     "output_type": "stream",
     "text": [
      "\r",
      " 54%|████████████████████▉                  | 1252/2331 [00:38<00:31, 34.61it/s]"
     ]
    },
    {
     "name": "stdout",
     "output_type": "stream",
     "text": [
      "\r",
      " 54%|█████████████████████                  | 1256/2331 [00:38<00:31, 33.60it/s]"
     ]
    },
    {
     "name": "stdout",
     "output_type": "stream",
     "text": [
      "\r",
      " 54%|█████████████████████                  | 1260/2331 [00:38<00:31, 34.32it/s]"
     ]
    },
    {
     "name": "stdout",
     "output_type": "stream",
     "text": [
      "\r",
      " 54%|█████████████████████▏                 | 1264/2331 [00:38<00:30, 34.78it/s]"
     ]
    },
    {
     "name": "stdout",
     "output_type": "stream",
     "text": [
      "\r",
      " 54%|█████████████████████▏                 | 1268/2331 [00:38<00:32, 33.08it/s]"
     ]
    },
    {
     "name": "stdout",
     "output_type": "stream",
     "text": [
      "\r",
      " 55%|█████████████████████▎                 | 1272/2331 [00:39<00:31, 34.01it/s]"
     ]
    },
    {
     "name": "stdout",
     "output_type": "stream",
     "text": [
      "\r",
      " 55%|█████████████████████▎                 | 1276/2331 [00:39<00:30, 34.92it/s]"
     ]
    },
    {
     "name": "stdout",
     "output_type": "stream",
     "text": [
      "\r",
      " 55%|█████████████████████▍                 | 1280/2331 [00:39<00:29, 35.21it/s]"
     ]
    },
    {
     "name": "stdout",
     "output_type": "stream",
     "text": [
      "\r",
      " 55%|█████████████████████▍                 | 1284/2331 [00:39<00:29, 35.96it/s]"
     ]
    },
    {
     "name": "stdout",
     "output_type": "stream",
     "text": [
      "\r",
      " 55%|█████████████████████▌                 | 1288/2331 [00:39<00:28, 36.55it/s]"
     ]
    },
    {
     "name": "stdout",
     "output_type": "stream",
     "text": [
      "\r",
      " 55%|█████████████████████▌                 | 1292/2331 [00:39<00:29, 35.77it/s]"
     ]
    },
    {
     "name": "stdout",
     "output_type": "stream",
     "text": [
      "\r",
      " 56%|█████████████████████▋                 | 1296/2331 [00:39<00:29, 34.54it/s]"
     ]
    },
    {
     "name": "stdout",
     "output_type": "stream",
     "text": [
      "\r",
      " 56%|█████████████████████▊                 | 1300/2331 [00:39<00:30, 33.71it/s]"
     ]
    },
    {
     "name": "stdout",
     "output_type": "stream",
     "text": [
      "\r",
      " 56%|█████████████████████▊                 | 1304/2331 [00:39<00:29, 34.90it/s]"
     ]
    },
    {
     "name": "stdout",
     "output_type": "stream",
     "text": [
      "\r",
      " 56%|█████████████████████▉                 | 1308/2331 [00:40<00:28, 35.66it/s]"
     ]
    },
    {
     "name": "stdout",
     "output_type": "stream",
     "text": [
      "\r",
      " 56%|█████████████████████▉                 | 1312/2331 [00:40<00:30, 33.72it/s]"
     ]
    },
    {
     "name": "stdout",
     "output_type": "stream",
     "text": [
      "\r",
      " 56%|██████████████████████                 | 1316/2331 [00:40<00:29, 33.93it/s]"
     ]
    },
    {
     "name": "stdout",
     "output_type": "stream",
     "text": [
      "\r",
      " 57%|██████████████████████                 | 1320/2331 [00:40<00:29, 34.55it/s]"
     ]
    },
    {
     "name": "stdout",
     "output_type": "stream",
     "text": [
      "\r",
      " 57%|██████████████████████▏                | 1324/2331 [00:40<00:29, 33.64it/s]"
     ]
    },
    {
     "name": "stdout",
     "output_type": "stream",
     "text": [
      "\r",
      " 57%|██████████████████████▏                | 1328/2331 [00:40<00:29, 33.88it/s]"
     ]
    },
    {
     "name": "stdout",
     "output_type": "stream",
     "text": [
      "\r",
      " 57%|██████████████████████▎                | 1332/2331 [00:40<00:30, 32.79it/s]"
     ]
    },
    {
     "name": "stdout",
     "output_type": "stream",
     "text": [
      "\r",
      " 57%|██████████████████████▎                | 1336/2331 [00:40<00:30, 32.27it/s]"
     ]
    },
    {
     "name": "stdout",
     "output_type": "stream",
     "text": [
      "\r",
      " 57%|██████████████████████▍                | 1340/2331 [00:41<00:31, 31.69it/s]"
     ]
    },
    {
     "name": "stdout",
     "output_type": "stream",
     "text": [
      "\r",
      " 58%|██████████████████████▍                | 1344/2331 [00:41<00:30, 32.89it/s]"
     ]
    },
    {
     "name": "stdout",
     "output_type": "stream",
     "text": [
      "\r",
      " 58%|██████████████████████▌                | 1348/2331 [00:41<00:30, 32.68it/s]"
     ]
    },
    {
     "name": "stdout",
     "output_type": "stream",
     "text": [
      "\r",
      " 58%|██████████████████████▌                | 1352/2331 [00:41<00:28, 34.44it/s]"
     ]
    },
    {
     "name": "stdout",
     "output_type": "stream",
     "text": [
      "\r",
      " 58%|██████████████████████▋                | 1356/2331 [00:41<00:29, 32.60it/s]"
     ]
    },
    {
     "name": "stdout",
     "output_type": "stream",
     "text": [
      "\r",
      " 58%|██████████████████████▊                | 1360/2331 [00:41<00:29, 32.96it/s]"
     ]
    },
    {
     "name": "stdout",
     "output_type": "stream",
     "text": [
      "\r",
      " 59%|██████████████████████▊                | 1364/2331 [00:41<00:30, 31.92it/s]"
     ]
    },
    {
     "name": "stdout",
     "output_type": "stream",
     "text": [
      "\r",
      " 59%|██████████████████████▉                | 1368/2331 [00:41<00:30, 31.58it/s]"
     ]
    },
    {
     "name": "stdout",
     "output_type": "stream",
     "text": [
      "\r",
      " 59%|██████████████████████▉                | 1373/2331 [00:42<00:27, 34.49it/s]"
     ]
    },
    {
     "name": "stdout",
     "output_type": "stream",
     "text": [
      "\r",
      " 59%|███████████████████████                | 1377/2331 [00:42<00:26, 35.44it/s]"
     ]
    },
    {
     "name": "stdout",
     "output_type": "stream",
     "text": [
      "\r",
      " 59%|███████████████████████                | 1381/2331 [00:42<00:26, 35.60it/s]"
     ]
    },
    {
     "name": "stdout",
     "output_type": "stream",
     "text": [
      "\r",
      " 59%|███████████████████████▏               | 1385/2331 [00:42<00:27, 34.52it/s]"
     ]
    },
    {
     "name": "stdout",
     "output_type": "stream",
     "text": [
      "\r",
      " 60%|███████████████████████▏               | 1389/2331 [00:42<00:26, 35.25it/s]"
     ]
    },
    {
     "name": "stdout",
     "output_type": "stream",
     "text": [
      "\r",
      " 60%|███████████████████████▎               | 1393/2331 [00:42<00:27, 34.54it/s]"
     ]
    },
    {
     "name": "stdout",
     "output_type": "stream",
     "text": [
      "\r",
      " 60%|███████████████████████▎               | 1397/2331 [00:42<00:26, 34.63it/s]"
     ]
    },
    {
     "name": "stdout",
     "output_type": "stream",
     "text": [
      "\r",
      " 60%|███████████████████████▍               | 1401/2331 [00:42<00:28, 32.45it/s]"
     ]
    },
    {
     "name": "stdout",
     "output_type": "stream",
     "text": [
      "\r",
      " 60%|███████████████████████▌               | 1405/2331 [00:42<00:27, 34.12it/s]"
     ]
    },
    {
     "name": "stdout",
     "output_type": "stream",
     "text": [
      "\r",
      " 60%|███████████████████████▌               | 1409/2331 [00:43<00:27, 33.19it/s]"
     ]
    },
    {
     "name": "stdout",
     "output_type": "stream",
     "text": [
      "\r",
      " 61%|███████████████████████▋               | 1413/2331 [00:43<00:28, 32.29it/s]"
     ]
    },
    {
     "name": "stdout",
     "output_type": "stream",
     "text": [
      "\r",
      " 61%|███████████████████████▋               | 1417/2331 [00:43<00:28, 32.46it/s]"
     ]
    },
    {
     "name": "stdout",
     "output_type": "stream",
     "text": [
      "\r",
      " 61%|███████████████████████▊               | 1421/2331 [00:43<00:27, 32.61it/s]"
     ]
    },
    {
     "name": "stdout",
     "output_type": "stream",
     "text": [
      "\r",
      " 61%|███████████████████████▊               | 1425/2331 [00:43<00:28, 31.65it/s]"
     ]
    },
    {
     "name": "stdout",
     "output_type": "stream",
     "text": [
      "\r",
      " 61%|███████████████████████▉               | 1429/2331 [00:43<00:28, 31.91it/s]"
     ]
    },
    {
     "name": "stdout",
     "output_type": "stream",
     "text": [
      "\r",
      " 61%|███████████████████████▉               | 1433/2331 [00:43<00:27, 32.66it/s]"
     ]
    },
    {
     "name": "stdout",
     "output_type": "stream",
     "text": [
      "\r",
      " 62%|████████████████████████               | 1437/2331 [00:43<00:27, 32.73it/s]"
     ]
    },
    {
     "name": "stdout",
     "output_type": "stream",
     "text": [
      "\r",
      " 62%|████████████████████████               | 1441/2331 [00:44<00:27, 32.69it/s]"
     ]
    },
    {
     "name": "stdout",
     "output_type": "stream",
     "text": [
      "\r",
      " 62%|████████████████████████▏              | 1445/2331 [00:44<00:27, 32.52it/s]"
     ]
    },
    {
     "name": "stdout",
     "output_type": "stream",
     "text": [
      "\r",
      " 62%|████████████████████████▏              | 1449/2331 [00:44<00:27, 32.36it/s]"
     ]
    },
    {
     "name": "stdout",
     "output_type": "stream",
     "text": [
      "\r",
      " 62%|████████████████████████▎              | 1453/2331 [00:44<00:26, 33.45it/s]"
     ]
    },
    {
     "name": "stdout",
     "output_type": "stream",
     "text": [
      "\r",
      " 63%|████████████████████████▍              | 1457/2331 [00:44<00:25, 34.00it/s]"
     ]
    },
    {
     "name": "stdout",
     "output_type": "stream",
     "text": [
      "\r",
      " 63%|████████████████████████▍              | 1461/2331 [00:44<00:26, 33.25it/s]"
     ]
    },
    {
     "name": "stdout",
     "output_type": "stream",
     "text": [
      "\r",
      " 63%|████████████████████████▌              | 1465/2331 [00:44<00:27, 31.69it/s]"
     ]
    },
    {
     "name": "stdout",
     "output_type": "stream",
     "text": [
      "\r",
      " 63%|████████████████████████▌              | 1469/2331 [00:44<00:27, 31.15it/s]"
     ]
    },
    {
     "name": "stdout",
     "output_type": "stream",
     "text": [
      "\r",
      " 63%|████████████████████████▋              | 1473/2331 [00:45<00:26, 32.49it/s]"
     ]
    },
    {
     "name": "stdout",
     "output_type": "stream",
     "text": [
      "\r",
      " 63%|████████████████████████▋              | 1477/2331 [00:45<00:26, 32.56it/s]"
     ]
    },
    {
     "name": "stdout",
     "output_type": "stream",
     "text": [
      "\r",
      " 64%|████████████████████████▊              | 1481/2331 [00:45<00:26, 31.89it/s]"
     ]
    },
    {
     "name": "stdout",
     "output_type": "stream",
     "text": [
      "\r",
      " 64%|████████████████████████▊              | 1485/2331 [00:45<00:25, 33.23it/s]"
     ]
    },
    {
     "name": "stdout",
     "output_type": "stream",
     "text": [
      "\r",
      " 64%|████████████████████████▉              | 1489/2331 [00:45<00:25, 33.36it/s]"
     ]
    },
    {
     "name": "stdout",
     "output_type": "stream",
     "text": [
      "\r",
      " 64%|████████████████████████▉              | 1493/2331 [00:45<00:24, 34.85it/s]"
     ]
    },
    {
     "name": "stdout",
     "output_type": "stream",
     "text": [
      "\r",
      " 64%|█████████████████████████              | 1497/2331 [00:45<00:24, 34.26it/s]"
     ]
    },
    {
     "name": "stdout",
     "output_type": "stream",
     "text": [
      "\r",
      " 64%|█████████████████████████              | 1501/2331 [00:45<00:25, 33.01it/s]"
     ]
    },
    {
     "name": "stdout",
     "output_type": "stream",
     "text": [
      "\r",
      " 65%|█████████████████████████▏             | 1505/2331 [00:46<00:26, 31.67it/s]"
     ]
    },
    {
     "name": "stdout",
     "output_type": "stream",
     "text": [
      "\r",
      " 65%|█████████████████████████▏             | 1509/2331 [00:46<00:25, 32.58it/s]"
     ]
    },
    {
     "name": "stdout",
     "output_type": "stream",
     "text": [
      "\r",
      " 65%|█████████████████████████▎             | 1513/2331 [00:46<00:23, 34.29it/s]"
     ]
    },
    {
     "name": "stdout",
     "output_type": "stream",
     "text": [
      "\r",
      " 65%|█████████████████████████▍             | 1518/2331 [00:46<00:22, 36.46it/s]"
     ]
    },
    {
     "name": "stdout",
     "output_type": "stream",
     "text": [
      "\r",
      " 65%|█████████████████████████▍             | 1522/2331 [00:46<00:23, 34.05it/s]"
     ]
    },
    {
     "name": "stdout",
     "output_type": "stream",
     "text": [
      "\r",
      " 65%|█████████████████████████▌             | 1526/2331 [00:46<00:23, 33.74it/s]"
     ]
    },
    {
     "name": "stdout",
     "output_type": "stream",
     "text": [
      "\r",
      " 66%|█████████████████████████▌             | 1530/2331 [00:46<00:23, 33.61it/s]"
     ]
    },
    {
     "name": "stdout",
     "output_type": "stream",
     "text": [
      "\r",
      " 66%|█████████████████████████▋             | 1534/2331 [00:46<00:24, 32.40it/s]"
     ]
    },
    {
     "name": "stdout",
     "output_type": "stream",
     "text": [
      "\r",
      " 66%|█████████████████████████▋             | 1538/2331 [00:47<00:25, 30.63it/s]"
     ]
    },
    {
     "name": "stdout",
     "output_type": "stream",
     "text": [
      "\r",
      " 66%|█████████████████████████▊             | 1542/2331 [00:47<00:24, 31.65it/s]"
     ]
    },
    {
     "name": "stdout",
     "output_type": "stream",
     "text": [
      "\r",
      " 66%|█████████████████████████▊             | 1546/2331 [00:47<00:26, 29.75it/s]"
     ]
    },
    {
     "name": "stdout",
     "output_type": "stream",
     "text": [
      "\r",
      " 66%|█████████████████████████▉             | 1550/2331 [00:47<00:26, 29.52it/s]"
     ]
    },
    {
     "name": "stdout",
     "output_type": "stream",
     "text": [
      "\r",
      " 67%|█████████████████████████▉             | 1553/2331 [00:47<00:26, 29.20it/s]"
     ]
    },
    {
     "name": "stdout",
     "output_type": "stream",
     "text": [
      "\r",
      " 67%|██████████████████████████             | 1556/2331 [00:47<00:28, 27.47it/s]"
     ]
    },
    {
     "name": "stdout",
     "output_type": "stream",
     "text": [
      "\r",
      " 67%|██████████████████████████             | 1559/2331 [00:47<00:31, 24.41it/s]"
     ]
    },
    {
     "name": "stdout",
     "output_type": "stream",
     "text": [
      "\r",
      " 67%|██████████████████████████▏            | 1562/2331 [00:47<00:30, 24.90it/s]"
     ]
    },
    {
     "name": "stdout",
     "output_type": "stream",
     "text": [
      "\r",
      " 67%|██████████████████████████▏            | 1566/2331 [00:48<00:28, 27.24it/s]"
     ]
    },
    {
     "name": "stdout",
     "output_type": "stream",
     "text": [
      "\r",
      " 67%|██████████████████████████▎            | 1570/2331 [00:48<00:26, 28.73it/s]"
     ]
    },
    {
     "name": "stdout",
     "output_type": "stream",
     "text": [
      "\r",
      " 68%|██████████████████████████▎            | 1574/2331 [00:48<00:24, 30.40it/s]"
     ]
    },
    {
     "name": "stdout",
     "output_type": "stream",
     "text": [
      "\r",
      " 68%|██████████████████████████▍            | 1578/2331 [00:48<00:26, 28.04it/s]"
     ]
    },
    {
     "name": "stdout",
     "output_type": "stream",
     "text": [
      "\r",
      " 68%|██████████████████████████▍            | 1582/2331 [00:48<00:25, 29.58it/s]"
     ]
    },
    {
     "name": "stdout",
     "output_type": "stream",
     "text": [
      "\r",
      " 68%|██████████████████████████▌            | 1586/2331 [00:48<00:24, 30.54it/s]"
     ]
    },
    {
     "name": "stdout",
     "output_type": "stream",
     "text": [
      "\r",
      " 68%|██████████████████████████▌            | 1590/2331 [00:48<00:22, 32.24it/s]"
     ]
    },
    {
     "name": "stdout",
     "output_type": "stream",
     "text": [
      "\r",
      " 68%|██████████████████████████▋            | 1594/2331 [00:48<00:22, 32.30it/s]"
     ]
    },
    {
     "name": "stdout",
     "output_type": "stream",
     "text": [
      "\r",
      " 69%|██████████████████████████▋            | 1598/2331 [00:49<00:23, 31.54it/s]"
     ]
    },
    {
     "name": "stdout",
     "output_type": "stream",
     "text": [
      "\r",
      " 69%|██████████████████████████▊            | 1602/2331 [00:49<00:22, 33.05it/s]"
     ]
    },
    {
     "name": "stdout",
     "output_type": "stream",
     "text": [
      "\r",
      " 69%|██████████████████████████▊            | 1606/2331 [00:49<00:22, 32.55it/s]"
     ]
    },
    {
     "name": "stdout",
     "output_type": "stream",
     "text": [
      "\r",
      " 69%|██████████████████████████▉            | 1610/2331 [00:49<00:21, 33.42it/s]"
     ]
    },
    {
     "name": "stdout",
     "output_type": "stream",
     "text": [
      "\r",
      " 69%|███████████████████████████            | 1614/2331 [00:49<00:21, 33.50it/s]"
     ]
    },
    {
     "name": "stdout",
     "output_type": "stream",
     "text": [
      "\r",
      " 69%|███████████████████████████            | 1618/2331 [00:49<00:21, 33.43it/s]"
     ]
    },
    {
     "name": "stdout",
     "output_type": "stream",
     "text": [
      "\r",
      " 70%|███████████████████████████▏           | 1622/2331 [00:49<00:20, 34.24it/s]"
     ]
    },
    {
     "name": "stdout",
     "output_type": "stream",
     "text": [
      "\r",
      " 70%|███████████████████████████▏           | 1626/2331 [00:49<00:20, 33.84it/s]"
     ]
    },
    {
     "name": "stdout",
     "output_type": "stream",
     "text": [
      "\r",
      " 70%|███████████████████████████▎           | 1630/2331 [00:50<00:21, 32.94it/s]"
     ]
    },
    {
     "name": "stdout",
     "output_type": "stream",
     "text": [
      "\r",
      " 70%|███████████████████████████▎           | 1634/2331 [00:50<00:20, 33.55it/s]"
     ]
    },
    {
     "name": "stdout",
     "output_type": "stream",
     "text": [
      "\r",
      " 70%|███████████████████████████▍           | 1638/2331 [00:50<00:21, 32.47it/s]"
     ]
    },
    {
     "name": "stdout",
     "output_type": "stream",
     "text": [
      "\r",
      " 70%|███████████████████████████▍           | 1642/2331 [00:50<00:21, 32.20it/s]"
     ]
    },
    {
     "name": "stdout",
     "output_type": "stream",
     "text": [
      "\r",
      " 71%|███████████████████████████▌           | 1646/2331 [00:50<00:22, 31.09it/s]"
     ]
    },
    {
     "name": "stdout",
     "output_type": "stream",
     "text": [
      "\r",
      " 71%|███████████████████████████▌           | 1650/2331 [00:50<00:21, 31.69it/s]"
     ]
    },
    {
     "name": "stdout",
     "output_type": "stream",
     "text": [
      "\r",
      " 71%|███████████████████████████▋           | 1654/2331 [00:50<00:21, 31.00it/s]"
     ]
    },
    {
     "name": "stdout",
     "output_type": "stream",
     "text": [
      "\r",
      " 71%|███████████████████████████▋           | 1658/2331 [00:50<00:21, 30.66it/s]"
     ]
    },
    {
     "name": "stdout",
     "output_type": "stream",
     "text": [
      "\r",
      " 71%|███████████████████████████▊           | 1662/2331 [00:51<00:21, 31.80it/s]"
     ]
    },
    {
     "name": "stdout",
     "output_type": "stream",
     "text": [
      "\r",
      " 71%|███████████████████████████▊           | 1666/2331 [00:51<00:21, 30.26it/s]"
     ]
    },
    {
     "name": "stdout",
     "output_type": "stream",
     "text": [
      "\r",
      " 72%|███████████████████████████▉           | 1670/2331 [00:51<00:20, 32.29it/s]"
     ]
    },
    {
     "name": "stdout",
     "output_type": "stream",
     "text": [
      "\r",
      " 72%|████████████████████████████           | 1674/2331 [00:51<00:20, 32.82it/s]"
     ]
    },
    {
     "name": "stdout",
     "output_type": "stream",
     "text": [
      "\r",
      " 72%|████████████████████████████           | 1678/2331 [00:51<00:19, 33.81it/s]"
     ]
    },
    {
     "name": "stdout",
     "output_type": "stream",
     "text": [
      "\r",
      " 72%|████████████████████████████▏          | 1682/2331 [00:51<00:18, 34.20it/s]"
     ]
    },
    {
     "name": "stdout",
     "output_type": "stream",
     "text": [
      "\r",
      " 72%|████████████████████████████▏          | 1686/2331 [00:51<00:19, 32.76it/s]"
     ]
    },
    {
     "name": "stdout",
     "output_type": "stream",
     "text": [
      "\r",
      " 73%|████████████████████████████▎          | 1690/2331 [00:51<00:19, 32.83it/s]"
     ]
    },
    {
     "name": "stdout",
     "output_type": "stream",
     "text": [
      "\r",
      " 73%|████████████████████████████▎          | 1694/2331 [00:52<00:19, 32.21it/s]"
     ]
    },
    {
     "name": "stdout",
     "output_type": "stream",
     "text": [
      "\r",
      " 73%|████████████████████████████▍          | 1699/2331 [00:52<00:18, 34.45it/s]"
     ]
    },
    {
     "name": "stdout",
     "output_type": "stream",
     "text": [
      "\r",
      " 73%|████████████████████████████▍          | 1703/2331 [00:52<00:18, 33.13it/s]"
     ]
    },
    {
     "name": "stdout",
     "output_type": "stream",
     "text": [
      "\r",
      " 73%|████████████████████████████▌          | 1707/2331 [00:52<00:19, 31.31it/s]"
     ]
    },
    {
     "name": "stdout",
     "output_type": "stream",
     "text": [
      "\r",
      " 73%|████████████████████████████▋          | 1711/2331 [00:52<00:19, 32.02it/s]"
     ]
    },
    {
     "name": "stdout",
     "output_type": "stream",
     "text": [
      "\r",
      " 74%|████████████████████████████▋          | 1715/2331 [00:52<00:20, 30.59it/s]"
     ]
    },
    {
     "name": "stdout",
     "output_type": "stream",
     "text": [
      "\r",
      " 74%|████████████████████████████▊          | 1719/2331 [00:52<00:18, 32.59it/s]"
     ]
    },
    {
     "name": "stdout",
     "output_type": "stream",
     "text": [
      "\r",
      " 74%|████████████████████████████▊          | 1723/2331 [00:52<00:17, 34.48it/s]"
     ]
    },
    {
     "name": "stdout",
     "output_type": "stream",
     "text": [
      "\r",
      " 74%|████████████████████████████▉          | 1727/2331 [00:53<00:17, 33.87it/s]"
     ]
    },
    {
     "name": "stdout",
     "output_type": "stream",
     "text": [
      "\r",
      " 74%|████████████████████████████▉          | 1731/2331 [00:53<00:17, 34.26it/s]"
     ]
    },
    {
     "name": "stdout",
     "output_type": "stream",
     "text": [
      "\r",
      " 74%|█████████████████████████████          | 1735/2331 [00:53<00:18, 32.53it/s]"
     ]
    },
    {
     "name": "stdout",
     "output_type": "stream",
     "text": [
      "\r",
      " 75%|█████████████████████████████          | 1739/2331 [00:53<00:17, 33.59it/s]"
     ]
    },
    {
     "name": "stdout",
     "output_type": "stream",
     "text": [
      "\r",
      " 75%|█████████████████████████████▏         | 1743/2331 [00:53<00:17, 34.35it/s]"
     ]
    },
    {
     "name": "stdout",
     "output_type": "stream",
     "text": [
      "\r",
      " 75%|█████████████████████████████▏         | 1747/2331 [00:53<00:16, 35.23it/s]"
     ]
    },
    {
     "name": "stdout",
     "output_type": "stream",
     "text": [
      "\r",
      " 75%|█████████████████████████████▎         | 1751/2331 [00:53<00:16, 35.95it/s]"
     ]
    },
    {
     "name": "stdout",
     "output_type": "stream",
     "text": [
      "\r",
      " 75%|█████████████████████████████▎         | 1755/2331 [00:53<00:16, 35.72it/s]"
     ]
    },
    {
     "name": "stdout",
     "output_type": "stream",
     "text": [
      "\r",
      " 75%|█████████████████████████████▍         | 1759/2331 [00:53<00:15, 35.91it/s]"
     ]
    },
    {
     "name": "stdout",
     "output_type": "stream",
     "text": [
      "\r",
      " 76%|█████████████████████████████▍         | 1763/2331 [00:54<00:16, 33.94it/s]"
     ]
    },
    {
     "name": "stdout",
     "output_type": "stream",
     "text": [
      "\r",
      " 76%|█████████████████████████████▌         | 1767/2331 [00:54<00:16, 33.71it/s]"
     ]
    },
    {
     "name": "stdout",
     "output_type": "stream",
     "text": [
      "\r",
      " 76%|█████████████████████████████▋         | 1771/2331 [00:54<00:16, 33.88it/s]"
     ]
    },
    {
     "name": "stdout",
     "output_type": "stream",
     "text": [
      "\r",
      " 76%|█████████████████████████████▋         | 1775/2331 [00:54<00:16, 34.27it/s]"
     ]
    },
    {
     "name": "stdout",
     "output_type": "stream",
     "text": [
      "\r",
      " 76%|█████████████████████████████▊         | 1779/2331 [00:54<00:16, 32.48it/s]"
     ]
    },
    {
     "name": "stdout",
     "output_type": "stream",
     "text": [
      "\r",
      " 76%|█████████████████████████████▊         | 1783/2331 [00:54<00:16, 33.09it/s]"
     ]
    },
    {
     "name": "stdout",
     "output_type": "stream",
     "text": [
      "\r",
      " 77%|█████████████████████████████▉         | 1787/2331 [00:54<00:17, 31.49it/s]"
     ]
    },
    {
     "name": "stdout",
     "output_type": "stream",
     "text": [
      "\r",
      " 77%|█████████████████████████████▉         | 1791/2331 [00:54<00:16, 33.02it/s]"
     ]
    },
    {
     "name": "stdout",
     "output_type": "stream",
     "text": [
      "\r",
      " 77%|██████████████████████████████         | 1795/2331 [00:55<00:16, 33.20it/s]"
     ]
    },
    {
     "name": "stdout",
     "output_type": "stream",
     "text": [
      "\r",
      " 77%|██████████████████████████████         | 1799/2331 [00:55<00:16, 31.99it/s]"
     ]
    },
    {
     "name": "stdout",
     "output_type": "stream",
     "text": [
      "\r",
      " 77%|██████████████████████████████▏        | 1803/2331 [00:55<00:16, 32.60it/s]"
     ]
    },
    {
     "name": "stdout",
     "output_type": "stream",
     "text": [
      "\r",
      " 78%|██████████████████████████████▏        | 1807/2331 [00:55<00:15, 34.26it/s]"
     ]
    },
    {
     "name": "stdout",
     "output_type": "stream",
     "text": [
      "\r",
      " 78%|██████████████████████████████▎        | 1811/2331 [00:55<00:16, 32.26it/s]"
     ]
    },
    {
     "name": "stdout",
     "output_type": "stream",
     "text": [
      "\r",
      " 78%|██████████████████████████████▎        | 1815/2331 [00:55<00:15, 33.64it/s]"
     ]
    },
    {
     "name": "stdout",
     "output_type": "stream",
     "text": [
      "\r",
      " 78%|██████████████████████████████▍        | 1819/2331 [00:55<00:15, 33.78it/s]"
     ]
    },
    {
     "name": "stdout",
     "output_type": "stream",
     "text": [
      "\r",
      " 78%|██████████████████████████████▌        | 1823/2331 [00:55<00:15, 33.70it/s]"
     ]
    },
    {
     "name": "stdout",
     "output_type": "stream",
     "text": [
      "\r",
      " 78%|██████████████████████████████▌        | 1827/2331 [00:55<00:14, 34.49it/s]"
     ]
    },
    {
     "name": "stdout",
     "output_type": "stream",
     "text": [
      "\r",
      " 79%|██████████████████████████████▋        | 1831/2331 [00:56<00:14, 33.59it/s]"
     ]
    },
    {
     "name": "stdout",
     "output_type": "stream",
     "text": [
      "\r",
      " 79%|██████████████████████████████▋        | 1835/2331 [00:56<00:14, 33.92it/s]"
     ]
    },
    {
     "name": "stdout",
     "output_type": "stream",
     "text": [
      "\r",
      " 79%|██████████████████████████████▊        | 1840/2331 [00:56<00:14, 34.58it/s]"
     ]
    },
    {
     "name": "stdout",
     "output_type": "stream",
     "text": [
      "\r",
      " 79%|██████████████████████████████▊        | 1844/2331 [00:56<00:14, 34.63it/s]"
     ]
    },
    {
     "name": "stdout",
     "output_type": "stream",
     "text": [
      "\r",
      " 79%|██████████████████████████████▉        | 1849/2331 [00:56<00:13, 35.94it/s]"
     ]
    },
    {
     "name": "stdout",
     "output_type": "stream",
     "text": [
      "\r",
      " 79%|███████████████████████████████        | 1853/2331 [00:56<00:13, 34.69it/s]"
     ]
    },
    {
     "name": "stdout",
     "output_type": "stream",
     "text": [
      "\r",
      " 80%|███████████████████████████████        | 1857/2331 [00:56<00:13, 35.98it/s]"
     ]
    },
    {
     "name": "stdout",
     "output_type": "stream",
     "text": [
      "\r",
      " 80%|███████████████████████████████▏       | 1861/2331 [00:56<00:12, 36.84it/s]"
     ]
    },
    {
     "name": "stdout",
     "output_type": "stream",
     "text": [
      "\r",
      " 80%|███████████████████████████████▏       | 1865/2331 [00:57<00:13, 34.35it/s]"
     ]
    },
    {
     "name": "stdout",
     "output_type": "stream",
     "text": [
      "\r",
      " 80%|███████████████████████████████▎       | 1869/2331 [00:57<00:13, 33.37it/s]"
     ]
    },
    {
     "name": "stdout",
     "output_type": "stream",
     "text": [
      "\r",
      " 80%|███████████████████████████████▎       | 1874/2331 [00:57<00:13, 34.23it/s]"
     ]
    },
    {
     "name": "stdout",
     "output_type": "stream",
     "text": [
      "\r",
      " 81%|███████████████████████████████▍       | 1878/2331 [00:57<00:13, 33.00it/s]"
     ]
    },
    {
     "name": "stdout",
     "output_type": "stream",
     "text": [
      "\r",
      " 81%|███████████████████████████████▍       | 1882/2331 [00:57<00:13, 33.46it/s]"
     ]
    },
    {
     "name": "stdout",
     "output_type": "stream",
     "text": [
      "\r",
      " 81%|███████████████████████████████▌       | 1886/2331 [00:57<00:13, 31.85it/s]"
     ]
    },
    {
     "name": "stdout",
     "output_type": "stream",
     "text": [
      "\r",
      " 81%|███████████████████████████████▋       | 1891/2331 [00:57<00:12, 34.53it/s]"
     ]
    },
    {
     "name": "stdout",
     "output_type": "stream",
     "text": [
      "\r",
      " 81%|███████████████████████████████▋       | 1895/2331 [00:57<00:12, 35.48it/s]"
     ]
    },
    {
     "name": "stdout",
     "output_type": "stream",
     "text": [
      "\r",
      " 81%|███████████████████████████████▊       | 1899/2331 [00:58<00:12, 34.63it/s]"
     ]
    },
    {
     "name": "stdout",
     "output_type": "stream",
     "text": [
      "\r",
      " 82%|███████████████████████████████▊       | 1903/2331 [00:58<00:11, 35.98it/s]"
     ]
    },
    {
     "name": "stdout",
     "output_type": "stream",
     "text": [
      "\r",
      " 82%|███████████████████████████████▉       | 1907/2331 [00:58<00:12, 34.58it/s]"
     ]
    },
    {
     "name": "stdout",
     "output_type": "stream",
     "text": [
      "\r",
      " 82%|███████████████████████████████▉       | 1911/2331 [00:58<00:12, 33.54it/s]"
     ]
    },
    {
     "name": "stdout",
     "output_type": "stream",
     "text": [
      "\r",
      " 82%|████████████████████████████████       | 1915/2331 [00:58<00:11, 34.84it/s]"
     ]
    },
    {
     "name": "stdout",
     "output_type": "stream",
     "text": [
      "\r",
      " 82%|████████████████████████████████       | 1919/2331 [00:58<00:11, 34.85it/s]"
     ]
    },
    {
     "name": "stdout",
     "output_type": "stream",
     "text": [
      "\r",
      " 82%|████████████████████████████████▏      | 1923/2331 [00:58<00:12, 32.66it/s]"
     ]
    },
    {
     "name": "stdout",
     "output_type": "stream",
     "text": [
      "\r",
      " 83%|████████████████████████████████▏      | 1927/2331 [00:58<00:12, 31.62it/s]"
     ]
    },
    {
     "name": "stdout",
     "output_type": "stream",
     "text": [
      "\r",
      " 83%|████████████████████████████████▎      | 1931/2331 [00:59<00:12, 31.67it/s]"
     ]
    },
    {
     "name": "stdout",
     "output_type": "stream",
     "text": [
      "\r",
      " 83%|████████████████████████████████▎      | 1935/2331 [00:59<00:12, 32.04it/s]"
     ]
    },
    {
     "name": "stdout",
     "output_type": "stream",
     "text": [
      "\r",
      " 83%|████████████████████████████████▍      | 1939/2331 [00:59<00:12, 31.37it/s]"
     ]
    },
    {
     "name": "stdout",
     "output_type": "stream",
     "text": [
      "\r",
      " 83%|████████████████████████████████▌      | 1943/2331 [00:59<00:12, 31.26it/s]"
     ]
    },
    {
     "name": "stdout",
     "output_type": "stream",
     "text": [
      "\r",
      " 84%|████████████████████████████████▌      | 1947/2331 [00:59<00:12, 31.44it/s]"
     ]
    },
    {
     "name": "stdout",
     "output_type": "stream",
     "text": [
      "\r",
      " 84%|████████████████████████████████▋      | 1951/2331 [00:59<00:11, 31.80it/s]"
     ]
    },
    {
     "name": "stdout",
     "output_type": "stream",
     "text": [
      "\r",
      " 84%|████████████████████████████████▋      | 1955/2331 [00:59<00:12, 29.68it/s]"
     ]
    },
    {
     "name": "stdout",
     "output_type": "stream",
     "text": [
      "\r",
      " 84%|████████████████████████████████▊      | 1959/2331 [00:59<00:12, 30.34it/s]"
     ]
    },
    {
     "name": "stdout",
     "output_type": "stream",
     "text": [
      "\r",
      " 84%|████████████████████████████████▊      | 1963/2331 [01:00<00:11, 32.64it/s]"
     ]
    },
    {
     "name": "stdout",
     "output_type": "stream",
     "text": [
      "\r",
      " 84%|████████████████████████████████▉      | 1967/2331 [01:00<00:11, 31.84it/s]"
     ]
    },
    {
     "name": "stdout",
     "output_type": "stream",
     "text": [
      "\r",
      " 85%|████████████████████████████████▉      | 1971/2331 [01:00<00:10, 33.71it/s]"
     ]
    },
    {
     "name": "stdout",
     "output_type": "stream",
     "text": [
      "\r",
      " 85%|█████████████████████████████████      | 1975/2331 [01:00<00:10, 34.24it/s]"
     ]
    },
    {
     "name": "stdout",
     "output_type": "stream",
     "text": [
      "\r",
      " 85%|█████████████████████████████████      | 1979/2331 [01:00<00:10, 32.56it/s]"
     ]
    },
    {
     "name": "stdout",
     "output_type": "stream",
     "text": [
      "\r",
      " 85%|█████████████████████████████████▏     | 1983/2331 [01:00<00:10, 31.73it/s]"
     ]
    },
    {
     "name": "stdout",
     "output_type": "stream",
     "text": [
      "\r",
      " 85%|█████████████████████████████████▎     | 1988/2331 [01:00<00:10, 33.35it/s]"
     ]
    },
    {
     "name": "stdout",
     "output_type": "stream",
     "text": [
      "\r",
      " 85%|█████████████████████████████████▎     | 1992/2331 [01:00<00:10, 32.48it/s]"
     ]
    },
    {
     "name": "stdout",
     "output_type": "stream",
     "text": [
      "\r",
      " 86%|█████████████████████████████████▍     | 1996/2331 [01:01<00:10, 32.64it/s]"
     ]
    },
    {
     "name": "stdout",
     "output_type": "stream",
     "text": [
      "\r",
      " 86%|█████████████████████████████████▍     | 2000/2331 [01:01<00:10, 32.82it/s]"
     ]
    },
    {
     "name": "stdout",
     "output_type": "stream",
     "text": [
      "\r",
      " 86%|█████████████████████████████████▌     | 2004/2331 [01:01<00:09, 33.27it/s]"
     ]
    },
    {
     "name": "stdout",
     "output_type": "stream",
     "text": [
      "\r",
      " 86%|█████████████████████████████████▌     | 2008/2331 [01:01<00:09, 33.76it/s]"
     ]
    },
    {
     "name": "stdout",
     "output_type": "stream",
     "text": [
      "\r",
      " 86%|█████████████████████████████████▋     | 2012/2331 [01:01<00:09, 35.36it/s]"
     ]
    },
    {
     "name": "stdout",
     "output_type": "stream",
     "text": [
      "\r",
      " 86%|█████████████████████████████████▋     | 2016/2331 [01:01<00:09, 34.73it/s]"
     ]
    },
    {
     "name": "stdout",
     "output_type": "stream",
     "text": [
      "\r",
      " 87%|█████████████████████████████████▊     | 2020/2331 [01:01<00:09, 33.93it/s]"
     ]
    },
    {
     "name": "stdout",
     "output_type": "stream",
     "text": [
      "\r",
      " 87%|█████████████████████████████████▊     | 2024/2331 [01:01<00:09, 32.80it/s]"
     ]
    },
    {
     "name": "stdout",
     "output_type": "stream",
     "text": [
      "\r",
      " 87%|█████████████████████████████████▉     | 2028/2331 [01:02<00:09, 33.57it/s]"
     ]
    },
    {
     "name": "stdout",
     "output_type": "stream",
     "text": [
      "\r",
      " 87%|█████████████████████████████████▉     | 2032/2331 [01:02<00:08, 34.42it/s]"
     ]
    },
    {
     "name": "stdout",
     "output_type": "stream",
     "text": [
      "\r",
      " 87%|██████████████████████████████████     | 2036/2331 [01:02<00:08, 35.70it/s]"
     ]
    },
    {
     "name": "stdout",
     "output_type": "stream",
     "text": [
      "\r",
      " 88%|██████████████████████████████████▏    | 2040/2331 [01:02<00:07, 36.45it/s]"
     ]
    },
    {
     "name": "stdout",
     "output_type": "stream",
     "text": [
      "\r",
      " 88%|██████████████████████████████████▏    | 2044/2331 [01:02<00:08, 34.61it/s]"
     ]
    },
    {
     "name": "stdout",
     "output_type": "stream",
     "text": [
      "\r",
      " 88%|██████████████████████████████████▎    | 2048/2331 [01:02<00:08, 34.53it/s]"
     ]
    },
    {
     "name": "stdout",
     "output_type": "stream",
     "text": [
      "\r",
      " 88%|██████████████████████████████████▎    | 2052/2331 [01:02<00:08, 32.14it/s]"
     ]
    },
    {
     "name": "stdout",
     "output_type": "stream",
     "text": [
      "\r",
      " 88%|██████████████████████████████████▍    | 2056/2331 [01:02<00:09, 30.31it/s]"
     ]
    },
    {
     "name": "stdout",
     "output_type": "stream",
     "text": [
      "\r",
      " 88%|██████████████████████████████████▍    | 2060/2331 [01:02<00:08, 30.39it/s]"
     ]
    },
    {
     "name": "stdout",
     "output_type": "stream",
     "text": [
      "\r",
      " 89%|██████████████████████████████████▌    | 2064/2331 [01:03<00:08, 30.41it/s]"
     ]
    },
    {
     "name": "stdout",
     "output_type": "stream",
     "text": [
      "\r",
      " 89%|██████████████████████████████████▌    | 2068/2331 [01:03<00:08, 31.82it/s]"
     ]
    },
    {
     "name": "stdout",
     "output_type": "stream",
     "text": [
      "\r",
      " 89%|██████████████████████████████████▋    | 2072/2331 [01:03<00:08, 31.99it/s]"
     ]
    },
    {
     "name": "stdout",
     "output_type": "stream",
     "text": [
      "\r",
      " 89%|██████████████████████████████████▋    | 2076/2331 [01:03<00:07, 33.55it/s]"
     ]
    },
    {
     "name": "stdout",
     "output_type": "stream",
     "text": [
      "\r",
      " 89%|██████████████████████████████████▊    | 2080/2331 [01:03<00:07, 31.76it/s]"
     ]
    },
    {
     "name": "stdout",
     "output_type": "stream",
     "text": [
      "\r",
      " 89%|██████████████████████████████████▊    | 2084/2331 [01:03<00:07, 33.12it/s]"
     ]
    },
    {
     "name": "stdout",
     "output_type": "stream",
     "text": [
      "\r",
      " 90%|██████████████████████████████████▉    | 2088/2331 [01:03<00:07, 31.82it/s]"
     ]
    },
    {
     "name": "stdout",
     "output_type": "stream",
     "text": [
      "\r",
      " 90%|███████████████████████████████████    | 2092/2331 [01:03<00:07, 33.17it/s]"
     ]
    },
    {
     "name": "stdout",
     "output_type": "stream",
     "text": [
      "\r",
      " 90%|███████████████████████████████████    | 2096/2331 [01:04<00:06, 34.02it/s]"
     ]
    },
    {
     "name": "stdout",
     "output_type": "stream",
     "text": [
      "\r",
      " 90%|███████████████████████████████████▏   | 2100/2331 [01:04<00:06, 34.98it/s]"
     ]
    },
    {
     "name": "stdout",
     "output_type": "stream",
     "text": [
      "\r",
      " 90%|███████████████████████████████████▏   | 2105/2331 [01:04<00:06, 36.94it/s]"
     ]
    },
    {
     "name": "stdout",
     "output_type": "stream",
     "text": [
      "\r",
      " 90%|███████████████████████████████████▎   | 2109/2331 [01:04<00:06, 33.42it/s]"
     ]
    },
    {
     "name": "stdout",
     "output_type": "stream",
     "text": [
      "\r",
      " 91%|███████████████████████████████████▎   | 2113/2331 [01:04<00:06, 31.72it/s]"
     ]
    },
    {
     "name": "stdout",
     "output_type": "stream",
     "text": [
      "\r",
      " 91%|███████████████████████████████████▍   | 2117/2331 [01:04<00:06, 32.70it/s]"
     ]
    },
    {
     "name": "stdout",
     "output_type": "stream",
     "text": [
      "\r",
      " 91%|███████████████████████████████████▍   | 2121/2331 [01:04<00:06, 34.30it/s]"
     ]
    },
    {
     "name": "stdout",
     "output_type": "stream",
     "text": [
      "\r",
      " 91%|███████████████████████████████████▌   | 2125/2331 [01:04<00:06, 33.65it/s]"
     ]
    },
    {
     "name": "stdout",
     "output_type": "stream",
     "text": [
      "\r",
      " 91%|███████████████████████████████████▌   | 2129/2331 [01:05<00:06, 33.33it/s]"
     ]
    },
    {
     "name": "stdout",
     "output_type": "stream",
     "text": [
      "\r",
      " 92%|███████████████████████████████████▋   | 2133/2331 [01:05<00:05, 33.20it/s]"
     ]
    },
    {
     "name": "stdout",
     "output_type": "stream",
     "text": [
      "\r",
      " 92%|███████████████████████████████████▊   | 2137/2331 [01:05<00:05, 34.64it/s]"
     ]
    },
    {
     "name": "stdout",
     "output_type": "stream",
     "text": [
      "\r",
      " 92%|███████████████████████████████████▊   | 2141/2331 [01:05<00:05, 32.95it/s]"
     ]
    },
    {
     "name": "stdout",
     "output_type": "stream",
     "text": [
      "\r",
      " 92%|███████████████████████████████████▉   | 2145/2331 [01:05<00:05, 33.50it/s]"
     ]
    },
    {
     "name": "stdout",
     "output_type": "stream",
     "text": [
      "\r",
      " 92%|███████████████████████████████████▉   | 2149/2331 [01:05<00:05, 34.56it/s]"
     ]
    },
    {
     "name": "stdout",
     "output_type": "stream",
     "text": [
      "\r",
      " 92%|████████████████████████████████████   | 2153/2331 [01:05<00:05, 34.18it/s]"
     ]
    },
    {
     "name": "stdout",
     "output_type": "stream",
     "text": [
      "\r",
      " 93%|████████████████████████████████████   | 2157/2331 [01:05<00:05, 34.16it/s]"
     ]
    },
    {
     "name": "stdout",
     "output_type": "stream",
     "text": [
      "\r",
      " 93%|████████████████████████████████████▏  | 2161/2331 [01:05<00:04, 34.72it/s]"
     ]
    },
    {
     "name": "stdout",
     "output_type": "stream",
     "text": [
      "\r",
      " 93%|████████████████████████████████████▏  | 2165/2331 [01:06<00:04, 33.37it/s]"
     ]
    },
    {
     "name": "stdout",
     "output_type": "stream",
     "text": [
      "\r",
      " 93%|████████████████████████████████████▎  | 2169/2331 [01:06<00:04, 34.87it/s]"
     ]
    },
    {
     "name": "stdout",
     "output_type": "stream",
     "text": [
      "\r",
      " 93%|████████████████████████████████████▎  | 2173/2331 [01:06<00:04, 33.79it/s]"
     ]
    },
    {
     "name": "stdout",
     "output_type": "stream",
     "text": [
      "\r",
      " 93%|████████████████████████████████████▍  | 2177/2331 [01:06<00:04, 34.99it/s]"
     ]
    },
    {
     "name": "stdout",
     "output_type": "stream",
     "text": [
      "\r",
      " 94%|████████████████████████████████████▍  | 2181/2331 [01:06<00:04, 34.89it/s]"
     ]
    },
    {
     "name": "stdout",
     "output_type": "stream",
     "text": [
      "\r",
      " 94%|████████████████████████████████████▌  | 2185/2331 [01:06<00:04, 35.40it/s]"
     ]
    },
    {
     "name": "stdout",
     "output_type": "stream",
     "text": [
      "\r",
      " 94%|████████████████████████████████████▌  | 2189/2331 [01:06<00:03, 36.61it/s]"
     ]
    },
    {
     "name": "stdout",
     "output_type": "stream",
     "text": [
      "\r",
      " 94%|████████████████████████████████████▋  | 2193/2331 [01:06<00:03, 37.47it/s]"
     ]
    },
    {
     "name": "stdout",
     "output_type": "stream",
     "text": [
      "\r",
      " 94%|████████████████████████████████████▊  | 2197/2331 [01:06<00:03, 36.62it/s]"
     ]
    },
    {
     "name": "stdout",
     "output_type": "stream",
     "text": [
      "\r",
      " 94%|████████████████████████████████████▊  | 2201/2331 [01:07<00:03, 36.10it/s]"
     ]
    },
    {
     "name": "stdout",
     "output_type": "stream",
     "text": [
      "\r",
      " 95%|████████████████████████████████████▉  | 2205/2331 [01:07<00:03, 33.82it/s]"
     ]
    },
    {
     "name": "stdout",
     "output_type": "stream",
     "text": [
      "\r",
      " 95%|████████████████████████████████████▉  | 2209/2331 [01:07<00:03, 33.77it/s]"
     ]
    },
    {
     "name": "stdout",
     "output_type": "stream",
     "text": [
      "\r",
      " 95%|█████████████████████████████████████  | 2213/2331 [01:07<00:03, 33.09it/s]"
     ]
    },
    {
     "name": "stdout",
     "output_type": "stream",
     "text": [
      "\r",
      " 95%|█████████████████████████████████████  | 2217/2331 [01:07<00:03, 34.41it/s]"
     ]
    },
    {
     "name": "stdout",
     "output_type": "stream",
     "text": [
      "\r",
      " 95%|█████████████████████████████████████▏ | 2221/2331 [01:07<00:03, 34.76it/s]"
     ]
    },
    {
     "name": "stdout",
     "output_type": "stream",
     "text": [
      "\r",
      " 95%|█████████████████████████████████████▏ | 2225/2331 [01:07<00:03, 34.15it/s]"
     ]
    },
    {
     "name": "stdout",
     "output_type": "stream",
     "text": [
      "\r",
      " 96%|█████████████████████████████████████▎ | 2230/2331 [01:07<00:02, 35.38it/s]"
     ]
    },
    {
     "name": "stdout",
     "output_type": "stream",
     "text": [
      "\r",
      " 96%|█████████████████████████████████████▍ | 2234/2331 [01:08<00:02, 34.30it/s]"
     ]
    },
    {
     "name": "stdout",
     "output_type": "stream",
     "text": [
      "\r",
      " 96%|█████████████████████████████████████▍ | 2238/2331 [01:08<00:02, 34.95it/s]"
     ]
    },
    {
     "name": "stdout",
     "output_type": "stream",
     "text": [
      "\r",
      " 96%|█████████████████████████████████████▌ | 2242/2331 [01:08<00:02, 35.92it/s]"
     ]
    },
    {
     "name": "stdout",
     "output_type": "stream",
     "text": [
      "\r",
      " 96%|█████████████████████████████████████▌ | 2246/2331 [01:08<00:02, 33.54it/s]"
     ]
    },
    {
     "name": "stdout",
     "output_type": "stream",
     "text": [
      "\r",
      " 97%|█████████████████████████████████████▋ | 2250/2331 [01:08<00:02, 30.84it/s]"
     ]
    },
    {
     "name": "stdout",
     "output_type": "stream",
     "text": [
      "\r",
      " 97%|█████████████████████████████████████▋ | 2254/2331 [01:08<00:02, 32.52it/s]"
     ]
    },
    {
     "name": "stdout",
     "output_type": "stream",
     "text": [
      "\r",
      " 97%|█████████████████████████████████████▊ | 2258/2331 [01:08<00:02, 32.53it/s]"
     ]
    },
    {
     "name": "stdout",
     "output_type": "stream",
     "text": [
      "\r",
      " 97%|█████████████████████████████████████▊ | 2262/2331 [01:08<00:02, 33.65it/s]"
     ]
    },
    {
     "name": "stdout",
     "output_type": "stream",
     "text": [
      "\r",
      " 97%|█████████████████████████████████████▉ | 2266/2331 [01:09<00:01, 32.50it/s]"
     ]
    },
    {
     "name": "stdout",
     "output_type": "stream",
     "text": [
      "\r",
      " 97%|█████████████████████████████████████▉ | 2270/2331 [01:09<00:01, 33.48it/s]"
     ]
    },
    {
     "name": "stdout",
     "output_type": "stream",
     "text": [
      "\r",
      " 98%|██████████████████████████████████████ | 2274/2331 [01:09<00:01, 33.51it/s]"
     ]
    },
    {
     "name": "stdout",
     "output_type": "stream",
     "text": [
      "\r",
      " 98%|██████████████████████████████████████ | 2278/2331 [01:09<00:01, 34.35it/s]"
     ]
    },
    {
     "name": "stdout",
     "output_type": "stream",
     "text": [
      "\r",
      " 98%|██████████████████████████████████████▏| 2282/2331 [01:09<00:01, 32.26it/s]"
     ]
    },
    {
     "name": "stdout",
     "output_type": "stream",
     "text": [
      "\r",
      " 98%|██████████████████████████████████████▏| 2286/2331 [01:09<00:01, 31.30it/s]"
     ]
    },
    {
     "name": "stdout",
     "output_type": "stream",
     "text": [
      "\r",
      " 98%|██████████████████████████████████████▎| 2290/2331 [01:09<00:01, 29.22it/s]"
     ]
    },
    {
     "name": "stdout",
     "output_type": "stream",
     "text": [
      "\r",
      " 98%|██████████████████████████████████████▎| 2293/2331 [01:09<00:01, 29.24it/s]"
     ]
    },
    {
     "name": "stdout",
     "output_type": "stream",
     "text": [
      "\r",
      " 99%|██████████████████████████████████████▍| 2297/2331 [01:10<00:01, 30.23it/s]"
     ]
    },
    {
     "name": "stdout",
     "output_type": "stream",
     "text": [
      "\r",
      " 99%|██████████████████████████████████████▍| 2301/2331 [01:10<00:01, 28.95it/s]"
     ]
    },
    {
     "name": "stdout",
     "output_type": "stream",
     "text": [
      "\r",
      " 99%|██████████████████████████████████████▌| 2304/2331 [01:10<00:00, 28.59it/s]"
     ]
    },
    {
     "name": "stdout",
     "output_type": "stream",
     "text": [
      "\r",
      " 99%|██████████████████████████████████████▌| 2308/2331 [01:10<00:00, 29.46it/s]"
     ]
    },
    {
     "name": "stdout",
     "output_type": "stream",
     "text": [
      "\r",
      " 99%|██████████████████████████████████████▋| 2312/2331 [01:10<00:00, 31.49it/s]"
     ]
    },
    {
     "name": "stdout",
     "output_type": "stream",
     "text": [
      "\r",
      " 99%|██████████████████████████████████████▋| 2316/2331 [01:10<00:00, 32.39it/s]"
     ]
    },
    {
     "name": "stdout",
     "output_type": "stream",
     "text": [
      "\r",
      "100%|██████████████████████████████████████▊| 2320/2331 [01:10<00:00, 32.32it/s]"
     ]
    },
    {
     "name": "stdout",
     "output_type": "stream",
     "text": [
      "\r",
      "100%|██████████████████████████████████████▉| 2324/2331 [01:10<00:00, 30.20it/s]"
     ]
    },
    {
     "name": "stdout",
     "output_type": "stream",
     "text": [
      "\r",
      "100%|██████████████████████████████████████▉| 2328/2331 [01:11<00:00, 30.20it/s]"
     ]
    },
    {
     "name": "stdout",
     "output_type": "stream",
     "text": [
      "\r",
      "100%|███████████████████████████████████████| 2331/2331 [01:11<00:00, 32.75it/s]\r\n"
     ]
    },
    {
     "name": "stdout",
     "output_type": "stream",
     "text": [
      "(223140, 1024)\r\n"
     ]
    },
    {
     "name": "stdout",
     "output_type": "stream",
     "text": [
      "Processing spec faiss_spec(pca=0, norm=False, n_clus=128, sphere=False, spec_str='CLUS128')\r\n",
      "Computing kmeans\r\n",
      "Traceback (most recent call last):\r\n",
      "  File \"wav2vec_cluster_faiss.py\", line 210, in <module>\r\n",
      "    main()\r\n",
      "  File \"wav2vec_cluster_faiss.py\", line 200, in main\r\n",
      "    nredo=3,\r\n",
      "TypeError: __init__() got an unexpected keyword argument 'max_points_per_centroid'\r\n"
     ]
    },
    {
     "name": "stdout",
     "output_type": "stream",
     "text": [
      "Faiss Spec: faiss_spec(pca=0, norm=False, n_clus=128, sphere=False, spec_str='CLUS128')\r\n",
      "Traceback (most recent call last):\r\n",
      "  File \"wav2vec_apply_cluster_faiss.py\", line 111, in <module>\r\n",
      "    main()\r\n",
      "  File \"wav2vec_apply_cluster_faiss.py\", line 75, in main\r\n",
      "    centroids = np.load(osp.join(args.path, \"centroids.npy\"))\r\n",
      "  File \"/opt/conda/lib/python3.7/site-packages/numpy/lib/npyio.py\", line 416, in load\r\n",
      "    fid = stack.enter_context(open(os_fspath(file), \"rb\"))\r\n",
      "FileNotFoundError: [Errno 2] No such file or directory: '/kaggle/working/CLUS128/centroids.npy'\r\n"
     ]
    },
    {
     "name": "stdout",
     "output_type": "stream",
     "text": [
      "Faiss Spec: faiss_spec(pca=0, norm=False, n_clus=128, sphere=False, spec_str='CLUS128')\r\n",
      "Traceback (most recent call last):\r\n",
      "  File \"wav2vec_apply_cluster_faiss.py\", line 111, in <module>\r\n",
      "    main()\r\n",
      "  File \"wav2vec_apply_cluster_faiss.py\", line 75, in main\r\n",
      "    centroids = np.load(osp.join(args.path, \"centroids.npy\"))\r\n",
      "  File \"/opt/conda/lib/python3.7/site-packages/numpy/lib/npyio.py\", line 416, in load\r\n",
      "    fid = stack.enter_context(open(os_fspath(file), \"rb\"))\r\n",
      "FileNotFoundError: [Errno 2] No such file or directory: '/kaggle/working/CLUS128/centroids.npy'\r\n"
     ]
    },
    {
     "name": "stdout",
     "output_type": "stream",
     "text": [
      "Faiss Spec: faiss_spec(pca=0, norm=False, n_clus=128, sphere=False, spec_str='CLUS128')\r\n",
      "Traceback (most recent call last):\r\n",
      "  File \"wav2vec_apply_cluster_faiss.py\", line 111, in <module>\r\n",
      "    main()\r\n",
      "  File \"wav2vec_apply_cluster_faiss.py\", line 75, in main\r\n",
      "    centroids = np.load(osp.join(args.path, \"centroids.npy\"))\r\n",
      "  File \"/opt/conda/lib/python3.7/site-packages/numpy/lib/npyio.py\", line 416, in load\r\n",
      "    fid = stack.enter_context(open(os_fspath(file), \"rb\"))\r\n",
      "FileNotFoundError: [Errno 2] No such file or directory: '/kaggle/working/CLUS128/centroids.npy'\r\n"
     ]
    },
    {
     "name": "stdout",
     "output_type": "stream",
     "text": [
      "Reading features\r\n",
      "Computing PCA\r\n"
     ]
    },
    {
     "name": "stdout",
     "output_type": "stream",
     "text": [
      "INTEL MKL ERROR: /opt/conda/lib/python3.7/site-packages/faiss/../../../libmkl_avx512.so: undefined symbol: mkl_sparse_optimize_bsr_trsm_i8.\r\n",
      "Intel MKL FATAL ERROR: Cannot load libmkl_avx512.so or libmkl_def.so.\r\n"
     ]
    },
    {
     "name": "stdout",
     "output_type": "stream",
     "text": [
      "data path: /kaggle/working/train\r\n",
      "Traceback (most recent call last):\r\n",
      "  File \"apply_pca.py\", line 72, in <module>\r\n",
      "    main()\r\n",
      "  File \"apply_pca.py\", line 45, in main\r\n",
      "    pca_A = torch.from_numpy(np.load(args.pca_path + \"_A.npy\")).cuda()\r\n",
      "  File \"/opt/conda/lib/python3.7/site-packages/numpy/lib/npyio.py\", line 416, in load\r\n",
      "    fid = stack.enter_context(open(os_fspath(file), \"rb\"))\r\n",
      "FileNotFoundError: [Errno 2] No such file or directory: '/kaggle/working/pca/512_pca_A.npy'\r\n"
     ]
    },
    {
     "name": "stdout",
     "output_type": "stream",
     "text": [
      "data path: /kaggle/working/precompute_pca512/train\r\n",
      "Traceback (most recent call last):\r\n",
      "  File \"merge_clusters.py\", line 112, in <module>\r\n",
      "    main()\r\n",
      "  File \"merge_clusters.py\", line 42, in main\r\n",
      "    features = np.load(source_path + \".npy\", mmap_mode=\"r\")\r\n",
      "  File \"/opt/conda/lib/python3.7/site-packages/numpy/lib/npyio.py\", line 416, in load\r\n",
      "    fid = stack.enter_context(open(os_fspath(file), \"rb\"))\r\n",
      "FileNotFoundError: [Errno 2] No such file or directory: '/kaggle/working/precompute_pca512/train.npy'\r\n"
     ]
    },
    {
     "name": "stdout",
     "output_type": "stream",
     "text": [
      "data path: /kaggle/working/precompute_pca512_cls128_mean/train\r\n",
      "Traceback (most recent call last):\r\n",
      "  File \"mean_pool.py\", line 90, in <module>\r\n",
      "    main()\r\n",
      "  File \"mean_pool.py\", line 44, in main\r\n",
      "    features = np.load(source_path + \".npy\", mmap_mode=\"r\")\r\n",
      "  File \"/opt/conda/lib/python3.7/site-packages/numpy/lib/npyio.py\", line 416, in load\r\n",
      "    fid = stack.enter_context(open(os_fspath(file), \"rb\"))\r\n",
      "FileNotFoundError: [Errno 2] No such file or directory: '/kaggle/working/precompute_pca512_cls128_mean/train.npy'\r\n"
     ]
    },
    {
     "name": "stdout",
     "output_type": "stream",
     "text": [
      "data path: /kaggle/working/valid\r\n"
     ]
    },
    {
     "name": "stdout",
     "output_type": "stream",
     "text": [
      "Traceback (most recent call last):\r\n",
      "  File \"apply_pca.py\", line 72, in <module>\r\n",
      "    main()\r\n",
      "  File \"apply_pca.py\", line 45, in main\r\n",
      "    pca_A = torch.from_numpy(np.load(args.pca_path + \"_A.npy\")).cuda()\r\n",
      "  File \"/opt/conda/lib/python3.7/site-packages/numpy/lib/npyio.py\", line 416, in load\r\n",
      "    fid = stack.enter_context(open(os_fspath(file), \"rb\"))\r\n",
      "FileNotFoundError: [Errno 2] No such file or directory: '/kaggle/working/pca/512_pca_A.npy'\r\n"
     ]
    },
    {
     "name": "stdout",
     "output_type": "stream",
     "text": [
      "data path: /kaggle/working/precompute_pca512/valid\r\n",
      "Traceback (most recent call last):\r\n",
      "  File \"merge_clusters.py\", line 112, in <module>\r\n",
      "    main()\r\n",
      "  File \"merge_clusters.py\", line 42, in main\r\n",
      "    features = np.load(source_path + \".npy\", mmap_mode=\"r\")\r\n",
      "  File \"/opt/conda/lib/python3.7/site-packages/numpy/lib/npyio.py\", line 416, in load\r\n",
      "    fid = stack.enter_context(open(os_fspath(file), \"rb\"))\r\n",
      "FileNotFoundError: [Errno 2] No such file or directory: '/kaggle/working/precompute_pca512/valid.npy'\r\n"
     ]
    },
    {
     "name": "stdout",
     "output_type": "stream",
     "text": [
      "data path: /kaggle/working/precompute_pca512_cls128_mean/valid\r\n",
      "Traceback (most recent call last):\r\n",
      "  File \"mean_pool.py\", line 90, in <module>\r\n",
      "    main()\r\n",
      "  File \"mean_pool.py\", line 44, in main\r\n",
      "    features = np.load(source_path + \".npy\", mmap_mode=\"r\")\r\n",
      "  File \"/opt/conda/lib/python3.7/site-packages/numpy/lib/npyio.py\", line 416, in load\r\n",
      "    fid = stack.enter_context(open(os_fspath(file), \"rb\"))\r\n",
      "FileNotFoundError: [Errno 2] No such file or directory: '/kaggle/working/precompute_pca512_cls128_mean/valid.npy'\r\n"
     ]
    },
    {
     "name": "stdout",
     "output_type": "stream",
     "text": [
      "data path: /kaggle/working/test\r\n",
      "Traceback (most recent call last):\r\n",
      "  File \"apply_pca.py\", line 72, in <module>\r\n",
      "    main()\r\n",
      "  File \"apply_pca.py\", line 45, in main\r\n",
      "    pca_A = torch.from_numpy(np.load(args.pca_path + \"_A.npy\")).cuda()\r\n",
      "  File \"/opt/conda/lib/python3.7/site-packages/numpy/lib/npyio.py\", line 416, in load\r\n",
      "    fid = stack.enter_context(open(os_fspath(file), \"rb\"))\r\n",
      "FileNotFoundError: [Errno 2] No such file or directory: '/kaggle/working/pca/512_pca_A.npy'\r\n"
     ]
    },
    {
     "name": "stdout",
     "output_type": "stream",
     "text": [
      "data path: /kaggle/working/precompute_pca512/test\r\n",
      "Traceback (most recent call last):\r\n",
      "  File \"merge_clusters.py\", line 112, in <module>\r\n",
      "    main()\r\n",
      "  File \"merge_clusters.py\", line 42, in main\r\n",
      "    features = np.load(source_path + \".npy\", mmap_mode=\"r\")\r\n",
      "  File \"/opt/conda/lib/python3.7/site-packages/numpy/lib/npyio.py\", line 416, in load\r\n",
      "    fid = stack.enter_context(open(os_fspath(file), \"rb\"))\r\n",
      "FileNotFoundError: [Errno 2] No such file or directory: '/kaggle/working/precompute_pca512/test.npy'\r\n"
     ]
    },
    {
     "name": "stdout",
     "output_type": "stream",
     "text": [
      "data path: /kaggle/working/precompute_pca512_cls128_mean/test\r\n",
      "Traceback (most recent call last):\r\n",
      "  File \"mean_pool.py\", line 90, in <module>\r\n",
      "    main()\r\n",
      "  File \"mean_pool.py\", line 44, in main\r\n",
      "    features = np.load(source_path + \".npy\", mmap_mode=\"r\")\r\n",
      "  File \"/opt/conda/lib/python3.7/site-packages/numpy/lib/npyio.py\", line 416, in load\r\n",
      "    fid = stack.enter_context(open(os_fspath(file), \"rb\"))\r\n",
      "FileNotFoundError: [Errno 2] No such file or directory: '/kaggle/working/precompute_pca512_cls128_mean/test.npy'\r\n"
     ]
    }
   ],
   "source": [
    "!zsh prepare_audio.sh tsv /kaggle/working /kaggle/input/download-xlsr-53-wav2vec2-model/xlsr_53_56k.pt"
   ]
  }
 ],
 "metadata": {
  "kernelspec": {
   "display_name": "Python 3",
   "language": "python",
   "name": "python3"
  },
  "language_info": {
   "codemirror_mode": {
    "name": "ipython",
    "version": 3
   },
   "file_extension": ".py",
   "mimetype": "text/x-python",
   "name": "python",
   "nbconvert_exporter": "python",
   "pygments_lexer": "ipython3",
   "version": "3.7.10"
  },
  "papermill": {
   "default_parameters": {},
   "duration": 568.578142,
   "end_time": "2021-05-29T12:24:04.836718",
   "environment_variables": {},
   "exception": null,
   "input_path": "__notebook__.ipynb",
   "output_path": "__notebook__.ipynb",
   "parameters": {},
   "start_time": "2021-05-29T12:14:36.258576",
   "version": "2.3.3"
  }
 },
 "nbformat": 4,
 "nbformat_minor": 5
}