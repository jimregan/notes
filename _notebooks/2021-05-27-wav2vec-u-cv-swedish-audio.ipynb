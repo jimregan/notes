{
 "cells": [
  {
   "cell_type": "code",
   "execution_count": 1,
   "id": "supposed-satin",
   "metadata": {
    "execution": {
     "iopub.execute_input": "2021-05-27T15:45:03.968893Z",
     "iopub.status.busy": "2021-05-27T15:45:03.967449Z",
     "iopub.status.idle": "2021-05-27T15:45:03.977382Z",
     "shell.execute_reply": "2021-05-27T15:45:03.977778Z",
     "shell.execute_reply.started": "2021-05-25T21:59:52.937901Z"
    },
    "papermill": {
     "duration": 0.020317,
     "end_time": "2021-05-27T15:45:03.977980",
     "exception": false,
     "start_time": "2021-05-27T15:45:03.957663",
     "status": "completed"
    },
    "tags": []
   },
   "outputs": [
    {
     "name": "stdout",
     "output_type": "stream",
     "text": [
      "/tmp\n"
     ]
    }
   ],
   "source": [
    "%cd /tmp"
   ]
  },
  {
   "cell_type": "code",
   "execution_count": 2,
   "id": "liked-storage",
   "metadata": {
    "execution": {
     "iopub.execute_input": "2021-05-27T15:45:03.992569Z",
     "iopub.status.busy": "2021-05-27T15:45:03.992026Z",
     "iopub.status.idle": "2021-05-27T15:45:51.237966Z",
     "shell.execute_reply": "2021-05-27T15:45:51.237020Z"
    },
    "papermill": {
     "duration": 47.254537,
     "end_time": "2021-05-27T15:45:51.238121",
     "exception": false,
     "start_time": "2021-05-27T15:45:03.983584",
     "status": "completed"
    },
    "tags": []
   },
   "outputs": [
    {
     "name": "stdout",
     "output_type": "stream",
     "text": [
      "Collecting git+https://github.com/pytorch/fairseq/\r\n",
      "  Cloning https://github.com/pytorch/fairseq/ to ./pip-req-build-bk9l1ofg\r\n",
      "  Running command git clone -q https://github.com/pytorch/fairseq/ /tmp/pip-req-build-bk9l1ofg\r\n",
      "  Running command git submodule update --init --recursive -q\r\n",
      "  Installing build dependencies ... \u001b[?25l-\b \b\\\b \b|\b \b/\b \b-\b \b\\\b \bdone\r\n",
      "\u001b[?25h  Getting requirements to build wheel ... \u001b[?25ldone\r\n",
      "\u001b[?25h  Installing backend dependencies ... \u001b[?25l-\b \b\\\b \b|\b \b/\b \b-\b \bdone\r\n",
      "\u001b[?25h    Preparing wheel metadata ... \u001b[?25l-\b \b\\\b \bdone\r\n",
      "\u001b[?25hRequirement already satisfied: tqdm in /opt/conda/lib/python3.7/site-packages (from fairseq==1.0.0a0+c8223e3) (4.59.0)\r\n",
      "Requirement already satisfied: cython in /opt/conda/lib/python3.7/site-packages (from fairseq==1.0.0a0+c8223e3) (0.29.23)\r\n",
      "Collecting sacrebleu>=1.4.12\r\n",
      "  Downloading sacrebleu-1.5.1-py3-none-any.whl (54 kB)\r\n",
      "\u001b[K     |████████████████████████████████| 54 kB 721 kB/s \r\n",
      "\u001b[?25hCollecting hydra-core<1.1\r\n",
      "  Downloading hydra_core-1.0.6-py3-none-any.whl (123 kB)\r\n",
      "\u001b[K     |████████████████████████████████| 123 kB 1.5 MB/s \r\n",
      "\u001b[?25hCollecting omegaconf<2.1\r\n",
      "  Downloading omegaconf-2.0.6-py3-none-any.whl (36 kB)\r\n",
      "Requirement already satisfied: cffi in /opt/conda/lib/python3.7/site-packages (from fairseq==1.0.0a0+c8223e3) (1.14.5)\r\n",
      "Requirement already satisfied: numpy in /opt/conda/lib/python3.7/site-packages (from fairseq==1.0.0a0+c8223e3) (1.19.5)\r\n",
      "Requirement already satisfied: regex in /opt/conda/lib/python3.7/site-packages (from fairseq==1.0.0a0+c8223e3) (2021.3.17)\r\n",
      "Requirement already satisfied: torch in /opt/conda/lib/python3.7/site-packages (from fairseq==1.0.0a0+c8223e3) (1.7.0)\r\n",
      "Collecting antlr4-python3-runtime==4.8\r\n",
      "  Downloading antlr4-python3-runtime-4.8.tar.gz (112 kB)\r\n",
      "\u001b[K     |████████████████████████████████| 112 kB 5.2 MB/s \r\n",
      "\u001b[?25hCollecting importlib-resources\r\n",
      "  Downloading importlib_resources-5.1.4-py3-none-any.whl (26 kB)\r\n",
      "Requirement already satisfied: PyYAML>=5.1.* in /opt/conda/lib/python3.7/site-packages (from omegaconf<2.1->fairseq==1.0.0a0+c8223e3) (5.3.1)\r\n",
      "Requirement already satisfied: typing-extensions in /opt/conda/lib/python3.7/site-packages (from omegaconf<2.1->fairseq==1.0.0a0+c8223e3) (3.7.4.3)\r\n",
      "Collecting portalocker==2.0.0\r\n",
      "  Downloading portalocker-2.0.0-py2.py3-none-any.whl (11 kB)\r\n",
      "Requirement already satisfied: pycparser in /opt/conda/lib/python3.7/site-packages (from cffi->fairseq==1.0.0a0+c8223e3) (2.20)\r\n",
      "Requirement already satisfied: zipp>=3.1.0 in /opt/conda/lib/python3.7/site-packages (from importlib-resources->hydra-core<1.1->fairseq==1.0.0a0+c8223e3) (3.4.1)\r\n",
      "Requirement already satisfied: future in /opt/conda/lib/python3.7/site-packages (from torch->fairseq==1.0.0a0+c8223e3) (0.18.2)\r\n",
      "Requirement already satisfied: dataclasses in /opt/conda/lib/python3.7/site-packages (from torch->fairseq==1.0.0a0+c8223e3) (0.6)\r\n",
      "Building wheels for collected packages: fairseq, antlr4-python3-runtime\r\n",
      "  Building wheel for fairseq (PEP 517) ... \u001b[?25l-\b \b\\\b \b|\b \b/\b \b-\b \b\\\b \b|\b \b/\b \b-\b \b\\\b \b|\b \b/\b \b-\b \b\\\b \b|\b \b/\b \b-\b \b\\\b \bdone\r\n",
      "\u001b[?25h  Created wheel for fairseq: filename=fairseq-1.0.0a0+c8223e3-cp37-cp37m-linux_x86_64.whl size=2063161 sha256=423a4e0f633bf2c98094ce3698fb94e45b9e91fb6ae24f2b9db27ec3e41c5392\r\n",
      "  Stored in directory: /tmp/pip-ephem-wheel-cache-git7xj36/wheels/bf/8b/86/69a0f965bcf2c21f14c327d7a0131024ff24e19e3ab6726a07\r\n",
      "  Building wheel for antlr4-python3-runtime (setup.py) ... \u001b[?25l-\b \b\\\b \bdone\r\n",
      "\u001b[?25h  Created wheel for antlr4-python3-runtime: filename=antlr4_python3_runtime-4.8-py3-none-any.whl size=141230 sha256=c608e7a1ae7176b02d3d9a4848c8358321b82bed41a0d6ef87606dd6ee92eec3\r\n",
      "  Stored in directory: /root/.cache/pip/wheels/ca/33/b7/336836125fc9bb4ceaa4376d8abca10ca8bc84ddc824baea6c\r\n",
      "Successfully built fairseq antlr4-python3-runtime\r\n",
      "Installing collected packages: portalocker, omegaconf, importlib-resources, antlr4-python3-runtime, sacrebleu, hydra-core, fairseq\r\n",
      "  Attempting uninstall: portalocker\r\n",
      "    Found existing installation: portalocker 2.3.0\r\n",
      "    Uninstalling portalocker-2.3.0:\r\n",
      "      Successfully uninstalled portalocker-2.3.0\r\n",
      "Successfully installed antlr4-python3-runtime-4.8 fairseq-1.0.0a0+c8223e3 hydra-core-1.0.6 importlib-resources-5.1.4 omegaconf-2.0.6 portalocker-2.0.0 sacrebleu-1.5.1\r\n"
     ]
    }
   ],
   "source": [
    "!pip install git+https://github.com/pytorch/fairseq/"
   ]
  },
  {
   "cell_type": "code",
   "execution_count": 3,
   "id": "handmade-agency",
   "metadata": {
    "_cell_guid": "b1076dfc-b9ad-4769-8c92-a6c4dae69d19",
    "_uuid": "8f2839f25d086af736a60e9eeb907d3b93b6e0e5",
    "execution": {
     "iopub.execute_input": "2021-05-27T15:45:51.286903Z",
     "iopub.status.busy": "2021-05-27T15:45:51.286122Z",
     "iopub.status.idle": "2021-05-27T15:45:53.922540Z",
     "shell.execute_reply": "2021-05-27T15:45:53.921987Z",
     "shell.execute_reply.started": "2021-05-25T21:59:52.944817Z"
    },
    "papermill": {
     "duration": 2.662212,
     "end_time": "2021-05-27T15:45:53.922662",
     "exception": false,
     "start_time": "2021-05-27T15:45:51.260450",
     "status": "completed"
    },
    "tags": []
   },
   "outputs": [
    {
     "name": "stdout",
     "output_type": "stream",
     "text": [
      "Cloning into 'fairseq'...\r\n",
      "remote: Enumerating objects: 28166, done.\u001b[K\r\n",
      "remote: Counting objects: 100% (580/580), done.\u001b[K\r\n",
      "remote: Compressing objects: 100% (352/352), done.\u001b[K\r\n",
      "remote: Total 28166 (delta 285), reused 441 (delta 215), pack-reused 27586\u001b[K\r\n",
      "Receiving objects: 100% (28166/28166), 11.92 MiB | 20.45 MiB/s, done.\r\n",
      "Resolving deltas: 100% (21110/21110), done.\r\n"
     ]
    }
   ],
   "source": [
    "!git clone https://github.com/pytorch/fairseq/"
   ]
  },
  {
   "cell_type": "code",
   "execution_count": 4,
   "id": "authorized-comfort",
   "metadata": {
    "execution": {
     "iopub.execute_input": "2021-05-27T15:45:53.996374Z",
     "iopub.status.busy": "2021-05-27T15:45:53.993315Z",
     "iopub.status.idle": "2021-05-27T15:45:57.825755Z",
     "shell.execute_reply": "2021-05-27T15:45:57.825313Z"
    },
    "papermill": {
     "duration": 3.875418,
     "end_time": "2021-05-27T15:45:57.825900",
     "exception": false,
     "start_time": "2021-05-27T15:45:53.950482",
     "status": "completed"
    },
    "tags": []
   },
   "outputs": [],
   "source": [
    "!mkdir tsv\n",
    "!for i in train test valid; do echo /kaggle/input/wav2vec-u-cv-swedish-vads/wav/train/common-voice-swedish-16bit-wav/ > tsv/$i.tsv; cat /kaggle/input/fork-of-wav2vec-u-cv-swedish-tsv/test.tsv|sed '1d' >> tsv/$i.tsv;done\n",
    "!cp /kaggle/input/wav2vec-u-cv-swedish-prep-ltr-phn-wrd/dic* tsv/\n",
    "!cp /kaggle/input/wav2vec-u-cv-swedish-prep-ltr-phn-wrd/*.wrd tsv/\n",
    "!cp /kaggle/input/wav2vec-u-cv-swedish-prep-ltr-phn-wrd/*.ltr tsv/\n",
    "!cp /kaggle/input/wav2vec-u-cv-swedish-prep-ltr-phn-wrd/*.phn tsv/"
   ]
  },
  {
   "cell_type": "code",
   "execution_count": 5,
   "id": "fifth-juvenile",
   "metadata": {
    "execution": {
     "iopub.execute_input": "2021-05-27T15:45:57.885873Z",
     "iopub.status.busy": "2021-05-27T15:45:57.885056Z",
     "iopub.status.idle": "2021-05-27T15:45:57.889762Z",
     "shell.execute_reply": "2021-05-27T15:45:57.889163Z",
     "shell.execute_reply.started": "2021-05-25T21:59:53.235485Z"
    },
    "papermill": {
     "duration": 0.03667,
     "end_time": "2021-05-27T15:45:57.889911",
     "exception": false,
     "start_time": "2021-05-27T15:45:57.853241",
     "status": "completed"
    },
    "tags": []
   },
   "outputs": [
    {
     "name": "stdout",
     "output_type": "stream",
     "text": [
      "/tmp/fairseq/examples/wav2vec/unsupervised/scripts\n"
     ]
    }
   ],
   "source": [
    "%cd fairseq/examples/wav2vec/unsupervised/scripts"
   ]
  },
  {
   "cell_type": "code",
   "execution_count": 6,
   "id": "rural-champion",
   "metadata": {
    "execution": {
     "iopub.execute_input": "2021-05-27T15:45:57.954318Z",
     "iopub.status.busy": "2021-05-27T15:45:57.950162Z",
     "iopub.status.idle": "2021-05-27T15:46:04.593797Z",
     "shell.execute_reply": "2021-05-27T15:46:04.593336Z"
    },
    "papermill": {
     "duration": 6.675941,
     "end_time": "2021-05-27T15:46:04.593925",
     "exception": false,
     "start_time": "2021-05-27T15:45:57.917984",
     "status": "completed"
    },
    "tags": []
   },
   "outputs": [],
   "source": [
    "%%capture\n",
    "!apt-get -y install zsh"
   ]
  },
  {
   "cell_type": "code",
   "execution_count": 7,
   "id": "invalid-stevens",
   "metadata": {
    "execution": {
     "iopub.execute_input": "2021-05-27T15:46:04.654216Z",
     "iopub.status.busy": "2021-05-27T15:46:04.653507Z",
     "iopub.status.idle": "2021-05-27T15:46:17.056973Z",
     "shell.execute_reply": "2021-05-27T15:46:17.056501Z"
    },
    "papermill": {
     "duration": 12.435474,
     "end_time": "2021-05-27T15:46:17.057133",
     "exception": false,
     "start_time": "2021-05-27T15:46:04.621659",
     "status": "completed"
    },
    "tags": []
   },
   "outputs": [
    {
     "name": "stdout",
     "output_type": "stream",
     "text": [
      "using 512 dim for PCA\r\n",
      "prepare_audio.sh:26: no matches found: tsv//*.tsv\r\n",
      "prepare_audio.sh:27: no matches found: tsv//*.wrd\r\n",
      "prepare_audio.sh:28: no matches found: tsv//*.ltr\r\n",
      "prepare_audio.sh:29: no matches found: tsv//*.phn\r\n",
      "prepare_audio.sh:30: no matches found: tsv//dict*\r\n",
      "Traceback (most recent call last):\r\n",
      "  File \"wav2vec_extract_features.py\", line 15, in <module>\r\n",
      "    from npy_append_array import NpyAppendArray\r\n",
      "ModuleNotFoundError: No module named 'npy_append_array'\r\n",
      "Traceback (most recent call last):\r\n",
      "  File \"wav2vec_extract_features.py\", line 15, in <module>\r\n",
      "    from npy_append_array import NpyAppendArray\r\n",
      "ModuleNotFoundError: No module named 'npy_append_array'\r\n",
      "Traceback (most recent call last):\r\n",
      "  File \"wav2vec_extract_features.py\", line 15, in <module>\r\n",
      "    from npy_append_array import NpyAppendArray\r\n",
      "ModuleNotFoundError: No module named 'npy_append_array'\r\n",
      "Traceback (most recent call last):\r\n",
      "  File \"wav2vec_cluster_faiss.py\", line 18, in <module>\r\n",
      "    import faiss\r\n",
      "ModuleNotFoundError: No module named 'faiss'\r\n",
      "Traceback (most recent call last):\r\n",
      "  File \"wav2vec_apply_cluster_faiss.py\", line 14, in <module>\r\n",
      "    import faiss\r\n",
      "ModuleNotFoundError: No module named 'faiss'\r\n",
      "Traceback (most recent call last):\r\n",
      "  File \"wav2vec_apply_cluster_faiss.py\", line 14, in <module>\r\n",
      "    import faiss\r\n",
      "ModuleNotFoundError: No module named 'faiss'\r\n",
      "Traceback (most recent call last):\r\n",
      "  File \"wav2vec_apply_cluster_faiss.py\", line 14, in <module>\r\n",
      "    import faiss\r\n",
      "ModuleNotFoundError: No module named 'faiss'\r\n",
      "Traceback (most recent call last):\r\n",
      "  File \"pca.py\", line 12, in <module>\r\n",
      "    import faiss\r\n",
      "ModuleNotFoundError: No module named 'faiss'\r\n",
      "Traceback (most recent call last):\r\n",
      "  File \"apply_pca.py\", line 16, in <module>\r\n",
      "    from npy_append_array import NpyAppendArray\r\n",
      "ModuleNotFoundError: No module named 'npy_append_array'\r\n",
      "Traceback (most recent call last):\r\n",
      "  File \"merge_clusters.py\", line 16, in <module>\r\n",
      "    from npy_append_array import NpyAppendArray\r\n",
      "ModuleNotFoundError: No module named 'npy_append_array'\r\n",
      "Traceback (most recent call last):\r\n",
      "  File \"mean_pool.py\", line 17, in <module>\r\n",
      "    from npy_append_array import NpyAppendArray\r\n",
      "ModuleNotFoundError: No module named 'npy_append_array'\r\n",
      "Traceback (most recent call last):\r\n",
      "  File \"apply_pca.py\", line 16, in <module>\r\n",
      "    from npy_append_array import NpyAppendArray\r\n",
      "ModuleNotFoundError: No module named 'npy_append_array'\r\n",
      "Traceback (most recent call last):\r\n",
      "  File \"merge_clusters.py\", line 16, in <module>\r\n",
      "    from npy_append_array import NpyAppendArray\r\n",
      "ModuleNotFoundError: No module named 'npy_append_array'\r\n",
      "Traceback (most recent call last):\r\n",
      "  File \"mean_pool.py\", line 17, in <module>\r\n",
      "    from npy_append_array import NpyAppendArray\r\n",
      "ModuleNotFoundError: No module named 'npy_append_array'\r\n",
      "Traceback (most recent call last):\r\n",
      "  File \"apply_pca.py\", line 16, in <module>\r\n",
      "    from npy_append_array import NpyAppendArray\r\n",
      "ModuleNotFoundError: No module named 'npy_append_array'\r\n",
      "Traceback (most recent call last):\r\n",
      "  File \"merge_clusters.py\", line 16, in <module>\r\n",
      "    from npy_append_array import NpyAppendArray\r\n",
      "ModuleNotFoundError: No module named 'npy_append_array'\r\n",
      "Traceback (most recent call last):\r\n",
      "  File \"mean_pool.py\", line 17, in <module>\r\n",
      "    from npy_append_array import NpyAppendArray\r\n",
      "ModuleNotFoundError: No module named 'npy_append_array'\r\n"
     ]
    }
   ],
   "source": [
    "!zsh prepare_audio.sh tsv/ /kaggle/working ../input/download-xlsr-53-wav2vec2-model/xlsr_53_56k.pt"
   ]
  }
 ],
 "metadata": {
  "kernelspec": {
   "display_name": "Python 3",
   "language": "python",
   "name": "python3"
  },
  "language_info": {
   "codemirror_mode": {
    "name": "ipython",
    "version": 3
   },
   "file_extension": ".py",
   "mimetype": "text/x-python",
   "name": "python",
   "nbconvert_exporter": "python",
   "pygments_lexer": "ipython3",
   "version": "3.7.10"
  },
  "papermill": {
   "default_parameters": {},
   "duration": 80.200118,
   "end_time": "2021-05-27T15:46:17.597996",
   "environment_variables": {},
   "exception": null,
   "input_path": "__notebook__.ipynb",
   "output_path": "__notebook__.ipynb",
   "parameters": {},
   "start_time": "2021-05-27T15:44:57.397878",
   "version": "2.3.3"
  }
 },
 "nbformat": 4,
 "nbformat_minor": 5
}
