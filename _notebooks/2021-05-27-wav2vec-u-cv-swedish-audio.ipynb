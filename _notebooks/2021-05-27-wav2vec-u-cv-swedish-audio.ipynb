{
 "cells": [
  {
   "cell_type": "code",
   "execution_count": 1,
   "id": "turkish-floor",
   "metadata": {
    "execution": {
     "iopub.execute_input": "2021-05-29T11:44:52.887924Z",
     "iopub.status.busy": "2021-05-29T11:44:52.887094Z",
     "iopub.status.idle": "2021-05-29T11:44:52.892176Z",
     "shell.execute_reply": "2021-05-29T11:44:52.892734Z",
     "shell.execute_reply.started": "2021-05-25T21:59:52.937901Z"
    },
    "papermill": {
     "duration": 0.02306,
     "end_time": "2021-05-29T11:44:52.893001",
     "exception": false,
     "start_time": "2021-05-29T11:44:52.869941",
     "status": "completed"
    },
    "tags": []
   },
   "outputs": [
    {
     "name": "stdout",
     "output_type": "stream",
     "text": [
      "/tmp\n"
     ]
    }
   ],
   "source": [
    "%cd /tmp"
   ]
  },
  {
   "cell_type": "code",
   "execution_count": 2,
   "id": "indirect-jenny",
   "metadata": {
    "execution": {
     "iopub.execute_input": "2021-05-29T11:44:52.911842Z",
     "iopub.status.busy": "2021-05-29T11:44:52.911336Z",
     "iopub.status.idle": "2021-05-29T11:45:36.756522Z",
     "shell.execute_reply": "2021-05-29T11:45:36.755985Z"
    },
    "papermill": {
     "duration": 43.85559,
     "end_time": "2021-05-29T11:45:36.756653",
     "exception": false,
     "start_time": "2021-05-29T11:44:52.901063",
     "status": "completed"
    },
    "tags": []
   },
   "outputs": [
    {
     "name": "stdout",
     "output_type": "stream",
     "text": [
      "Collecting git+https://github.com/pytorch/fairseq/\r\n",
      "  Cloning https://github.com/pytorch/fairseq/ to ./pip-req-build-2quy9yv3\r\n",
      "  Running command git clone -q https://github.com/pytorch/fairseq/ /tmp/pip-req-build-2quy9yv3\r\n"
     ]
    },
    {
     "name": "stdout",
     "output_type": "stream",
     "text": [
      "  Running command git submodule update --init --recursive -q\r\n"
     ]
    },
    {
     "name": "stdout",
     "output_type": "stream",
     "text": [
      "  Installing build dependencies ... \u001b[?25l-"
     ]
    },
    {
     "name": "stdout",
     "output_type": "stream",
     "text": [
      "\b \b\\"
     ]
    },
    {
     "name": "stdout",
     "output_type": "stream",
     "text": [
      "\b \b|"
     ]
    },
    {
     "name": "stdout",
     "output_type": "stream",
     "text": [
      "\b \b/"
     ]
    },
    {
     "name": "stdout",
     "output_type": "stream",
     "text": [
      "\b \b-"
     ]
    },
    {
     "name": "stdout",
     "output_type": "stream",
     "text": [
      "\b \bdone\r\n"
     ]
    },
    {
     "name": "stdout",
     "output_type": "stream",
     "text": [
      "\u001b[?25h  Getting requirements to build wheel ... \u001b[?25ldone\r\n"
     ]
    },
    {
     "name": "stdout",
     "output_type": "stream",
     "text": [
      "\u001b[?25h  Installing backend dependencies ... \u001b[?25l-"
     ]
    },
    {
     "name": "stdout",
     "output_type": "stream",
     "text": [
      "\b \b\\"
     ]
    },
    {
     "name": "stdout",
     "output_type": "stream",
     "text": [
      "\b \b|"
     ]
    },
    {
     "name": "stdout",
     "output_type": "stream",
     "text": [
      "\b \b/"
     ]
    },
    {
     "name": "stdout",
     "output_type": "stream",
     "text": [
      "\b \bdone\r\n"
     ]
    },
    {
     "name": "stdout",
     "output_type": "stream",
     "text": [
      "\u001b[?25h    Preparing wheel metadata ... \u001b[?25l-"
     ]
    },
    {
     "name": "stdout",
     "output_type": "stream",
     "text": [
      "\b \b\\"
     ]
    },
    {
     "name": "stdout",
     "output_type": "stream",
     "text": [
      "\b \bdone\r\n",
      "\u001b[?25hRequirement already satisfied: regex in /opt/conda/lib/python3.7/site-packages (from fairseq==1.0.0a0+19793a7) (2021.3.17)\r\n",
      "Requirement already satisfied: torch in /opt/conda/lib/python3.7/site-packages (from fairseq==1.0.0a0+19793a7) (1.7.0)\r\n"
     ]
    },
    {
     "name": "stdout",
     "output_type": "stream",
     "text": [
      "Collecting hydra-core<1.1\r\n"
     ]
    },
    {
     "name": "stdout",
     "output_type": "stream",
     "text": [
      "  Downloading hydra_core-1.0.6-py3-none-any.whl (123 kB)\r\n",
      "\u001b[?25l\r",
      "\u001b[K     |██▋                             | 10 kB 25.2 MB/s eta 0:00:01\r",
      "\u001b[K     |█████▎                          | 20 kB 13.3 MB/s eta 0:00:01\r",
      "\u001b[K     |████████                        | 30 kB 9.4 MB/s eta 0:00:01\r",
      "\u001b[K     |██████████▋                     | 40 kB 8.6 MB/s eta 0:00:01\r",
      "\u001b[K     |█████████████▎                  | 51 kB 4.4 MB/s eta 0:00:01\r",
      "\u001b[K     |████████████████                | 61 kB 4.7 MB/s eta 0:00:01\r",
      "\u001b[K     |██████████████████▋             | 71 kB 5.4 MB/s eta 0:00:01\r",
      "\u001b[K     |█████████████████████▏          | 81 kB 5.7 MB/s eta 0:00:01\r",
      "\u001b[K     |███████████████████████▉        | 92 kB 5.7 MB/s eta 0:00:01"
     ]
    },
    {
     "name": "stdout",
     "output_type": "stream",
     "text": [
      "\r",
      "\u001b[K     |██████████████████████████▌     | 102 kB 4.3 MB/s eta 0:00:01\r",
      "\u001b[K     |█████████████████████████████▏  | 112 kB 4.3 MB/s eta 0:00:01\r",
      "\u001b[K     |███████████████████████████████▉| 122 kB 4.3 MB/s eta 0:00:01\r",
      "\u001b[K     |████████████████████████████████| 123 kB 4.3 MB/s \r\n",
      "\u001b[?25hRequirement already satisfied: cython in /opt/conda/lib/python3.7/site-packages (from fairseq==1.0.0a0+19793a7) (0.29.23)\r\n",
      "Requirement already satisfied: numpy in /opt/conda/lib/python3.7/site-packages (from fairseq==1.0.0a0+19793a7) (1.19.5)\r\n",
      "Requirement already satisfied: cffi in /opt/conda/lib/python3.7/site-packages (from fairseq==1.0.0a0+19793a7) (1.14.5)\r\n",
      "Requirement already satisfied: tqdm in /opt/conda/lib/python3.7/site-packages (from fairseq==1.0.0a0+19793a7) (4.59.0)\r\n"
     ]
    },
    {
     "name": "stdout",
     "output_type": "stream",
     "text": [
      "Collecting sacrebleu>=1.4.12\r\n",
      "  Downloading sacrebleu-1.5.1-py3-none-any.whl (54 kB)\r\n",
      "\u001b[?25l\r",
      "\u001b[K     |██████                          | 10 kB 35.2 MB/s eta 0:00:01\r",
      "\u001b[K     |████████████                    | 20 kB 33.2 MB/s eta 0:00:01\r",
      "\u001b[K     |██████████████████              | 30 kB 36.3 MB/s eta 0:00:01\r",
      "\u001b[K     |████████████████████████        | 40 kB 39.4 MB/s eta 0:00:01\r",
      "\u001b[K     |██████████████████████████████  | 51 kB 40.9 MB/s eta 0:00:01"
     ]
    },
    {
     "name": "stdout",
     "output_type": "stream",
     "text": [
      "\r",
      "\u001b[K     |████████████████████████████████| 54 kB 2.4 MB/s \r\n"
     ]
    },
    {
     "name": "stdout",
     "output_type": "stream",
     "text": [
      "\u001b[?25hCollecting omegaconf<2.1\r\n",
      "  Downloading omegaconf-2.0.6-py3-none-any.whl (36 kB)\r\n"
     ]
    },
    {
     "name": "stdout",
     "output_type": "stream",
     "text": [
      "Collecting antlr4-python3-runtime==4.8\r\n"
     ]
    },
    {
     "name": "stdout",
     "output_type": "stream",
     "text": [
      "  Downloading antlr4-python3-runtime-4.8.tar.gz (112 kB)\r\n",
      "\u001b[?25l\r",
      "\u001b[K     |███                             | 10 kB 40.5 MB/s eta 0:00:01\r",
      "\u001b[K     |█████▉                          | 20 kB 45.6 MB/s eta 0:00:01\r",
      "\u001b[K     |████████▊                       | 30 kB 50.2 MB/s eta 0:00:01\r",
      "\u001b[K     |███████████▋                    | 40 kB 52.9 MB/s eta 0:00:01\r",
      "\u001b[K     |██████████████▋                 | 51 kB 28.5 MB/s eta 0:00:01\r",
      "\u001b[K     |█████████████████▌              | 61 kB 31.6 MB/s eta 0:00:01\r",
      "\u001b[K     |████████████████████▍           | 71 kB 25.5 MB/s eta 0:00:01\r",
      "\u001b[K     |███████████████████████▎        | 81 kB 27.7 MB/s eta 0:00:01\r",
      "\u001b[K     |██████████████████████████▎     | 92 kB 29.8 MB/s eta 0:00:01\r",
      "\u001b[K     |█████████████████████████████▏  | 102 kB 27.2 MB/s eta 0:00:01\r",
      "\u001b[K     |████████████████████████████████| 112 kB 27.2 MB/s \r\n"
     ]
    },
    {
     "name": "stdout",
     "output_type": "stream",
     "text": [
      "\u001b[?25hCollecting importlib-resources\r\n",
      "  Downloading importlib_resources-5.1.4-py3-none-any.whl (26 kB)\r\n"
     ]
    },
    {
     "name": "stdout",
     "output_type": "stream",
     "text": [
      "Requirement already satisfied: PyYAML>=5.1.* in /opt/conda/lib/python3.7/site-packages (from omegaconf<2.1->fairseq==1.0.0a0+19793a7) (5.3.1)\r\n",
      "Requirement already satisfied: typing-extensions in /opt/conda/lib/python3.7/site-packages (from omegaconf<2.1->fairseq==1.0.0a0+19793a7) (3.7.4.3)\r\n"
     ]
    },
    {
     "name": "stdout",
     "output_type": "stream",
     "text": [
      "Collecting portalocker==2.0.0\r\n",
      "  Downloading portalocker-2.0.0-py2.py3-none-any.whl (11 kB)\r\n",
      "Requirement already satisfied: pycparser in /opt/conda/lib/python3.7/site-packages (from cffi->fairseq==1.0.0a0+19793a7) (2.20)\r\n"
     ]
    },
    {
     "name": "stdout",
     "output_type": "stream",
     "text": [
      "Requirement already satisfied: zipp>=3.1.0 in /opt/conda/lib/python3.7/site-packages (from importlib-resources->hydra-core<1.1->fairseq==1.0.0a0+19793a7) (3.4.1)\r\n",
      "Requirement already satisfied: future in /opt/conda/lib/python3.7/site-packages (from torch->fairseq==1.0.0a0+19793a7) (0.18.2)\r\n",
      "Requirement already satisfied: dataclasses in /opt/conda/lib/python3.7/site-packages (from torch->fairseq==1.0.0a0+19793a7) (0.6)\r\n",
      "Building wheels for collected packages: fairseq, antlr4-python3-runtime\r\n"
     ]
    },
    {
     "name": "stdout",
     "output_type": "stream",
     "text": [
      "  Building wheel for fairseq (PEP 517) ... \u001b[?25l-"
     ]
    },
    {
     "name": "stdout",
     "output_type": "stream",
     "text": [
      "\b \b\\"
     ]
    },
    {
     "name": "stdout",
     "output_type": "stream",
     "text": [
      "\b \b|"
     ]
    },
    {
     "name": "stdout",
     "output_type": "stream",
     "text": [
      "\b \b/"
     ]
    },
    {
     "name": "stdout",
     "output_type": "stream",
     "text": [
      "\b \b-"
     ]
    },
    {
     "name": "stdout",
     "output_type": "stream",
     "text": [
      "\b \b\\"
     ]
    },
    {
     "name": "stdout",
     "output_type": "stream",
     "text": [
      "\b \b|"
     ]
    },
    {
     "name": "stdout",
     "output_type": "stream",
     "text": [
      "\b \b/"
     ]
    },
    {
     "name": "stdout",
     "output_type": "stream",
     "text": [
      "\b \b-"
     ]
    },
    {
     "name": "stdout",
     "output_type": "stream",
     "text": [
      "\b \b\\"
     ]
    },
    {
     "name": "stdout",
     "output_type": "stream",
     "text": [
      "\b \b|"
     ]
    },
    {
     "name": "stdout",
     "output_type": "stream",
     "text": [
      "\b \b/"
     ]
    },
    {
     "name": "stdout",
     "output_type": "stream",
     "text": [
      "\b \b-"
     ]
    },
    {
     "name": "stdout",
     "output_type": "stream",
     "text": [
      "\b \b\\"
     ]
    },
    {
     "name": "stdout",
     "output_type": "stream",
     "text": [
      "\b \b|"
     ]
    },
    {
     "name": "stdout",
     "output_type": "stream",
     "text": [
      "\b \b/"
     ]
    },
    {
     "name": "stdout",
     "output_type": "stream",
     "text": [
      "\b \b-"
     ]
    },
    {
     "name": "stdout",
     "output_type": "stream",
     "text": [
      "\b \b\\"
     ]
    },
    {
     "name": "stdout",
     "output_type": "stream",
     "text": [
      "\b \bdone\r\n",
      "\u001b[?25h  Created wheel for fairseq: filename=fairseq-1.0.0a0+19793a7-cp37-cp37m-linux_x86_64.whl size=2063128 sha256=0cafce40605231f6bdce9337423196802292fa5429fb29183fd8d4ed4d08d7a5\r\n",
      "  Stored in directory: /tmp/pip-ephem-wheel-cache-3i0txqil/wheels/bf/8b/86/69a0f965bcf2c21f14c327d7a0131024ff24e19e3ab6726a07\r\n"
     ]
    },
    {
     "name": "stdout",
     "output_type": "stream",
     "text": [
      "  Building wheel for antlr4-python3-runtime (setup.py) ... \u001b[?25l-"
     ]
    },
    {
     "name": "stdout",
     "output_type": "stream",
     "text": [
      "\b \b\\"
     ]
    },
    {
     "name": "stdout",
     "output_type": "stream",
     "text": [
      "\b \bdone\r\n",
      "\u001b[?25h  Created wheel for antlr4-python3-runtime: filename=antlr4_python3_runtime-4.8-py3-none-any.whl size=141230 sha256=2a34c28396b6d822df0fad5aa04a00c6a00d667923faf96ea0d48fa6e161b81e\r\n",
      "  Stored in directory: /root/.cache/pip/wheels/ca/33/b7/336836125fc9bb4ceaa4376d8abca10ca8bc84ddc824baea6c\r\n",
      "Successfully built fairseq antlr4-python3-runtime\r\n"
     ]
    },
    {
     "name": "stdout",
     "output_type": "stream",
     "text": [
      "Installing collected packages: portalocker, omegaconf, importlib-resources, antlr4-python3-runtime, sacrebleu, hydra-core, fairseq\r\n",
      "  Attempting uninstall: portalocker\r\n",
      "    Found existing installation: portalocker 2.3.0\r\n",
      "    Uninstalling portalocker-2.3.0:\r\n"
     ]
    },
    {
     "name": "stdout",
     "output_type": "stream",
     "text": [
      "      Successfully uninstalled portalocker-2.3.0\r\n"
     ]
    },
    {
     "name": "stdout",
     "output_type": "stream",
     "text": [
      "Successfully installed antlr4-python3-runtime-4.8 fairseq-1.0.0a0+19793a7 hydra-core-1.0.6 importlib-resources-5.1.4 omegaconf-2.0.6 portalocker-2.0.0 sacrebleu-1.5.1\r\n"
     ]
    }
   ],
   "source": [
    "!pip install git+https://github.com/pytorch/fairseq/"
   ]
  },
  {
   "cell_type": "code",
   "execution_count": 3,
   "id": "sweet-eight",
   "metadata": {
    "_cell_guid": "b1076dfc-b9ad-4769-8c92-a6c4dae69d19",
    "_uuid": "8f2839f25d086af736a60e9eeb907d3b93b6e0e5",
    "execution": {
     "iopub.execute_input": "2021-05-29T11:45:36.806838Z",
     "iopub.status.busy": "2021-05-29T11:45:36.805074Z",
     "iopub.status.idle": "2021-05-29T11:45:38.942457Z",
     "shell.execute_reply": "2021-05-29T11:45:38.941100Z",
     "shell.execute_reply.started": "2021-05-25T21:59:52.944817Z"
    },
    "papermill": {
     "duration": 2.164069,
     "end_time": "2021-05-29T11:45:38.942590",
     "exception": false,
     "start_time": "2021-05-29T11:45:36.778521",
     "status": "completed"
    },
    "tags": []
   },
   "outputs": [
    {
     "name": "stdout",
     "output_type": "stream",
     "text": [
      "Cloning into 'fairseq'...\r\n"
     ]
    },
    {
     "name": "stdout",
     "output_type": "stream",
     "text": [
      "remote: Enumerating objects: 28172, done.\u001b[K\r\n",
      "remote: Counting objects:   0% (1/586)\u001b[K\r",
      "remote: Counting objects:   1% (6/586)\u001b[K\r",
      "remote: Counting objects:   2% (12/586)\u001b[K\r",
      "remote: Counting objects:   3% (18/586)\u001b[K\r",
      "remote: Counting objects:   4% (24/586)\u001b[K\r",
      "remote: Counting objects:   5% (30/586)\u001b[K\r",
      "remote: Counting objects:   6% (36/586)\u001b[K\r",
      "remote: Counting objects:   7% (42/586)\u001b[K\r",
      "remote: Counting objects:   8% (47/586)\u001b[K\r",
      "remote: Counting objects:   9% (53/586)\u001b[K\r",
      "remote: Counting objects:  10% (59/586)\u001b[K\r",
      "remote: Counting objects:  11% (65/586)\u001b[K\r",
      "remote: Counting objects:  12% (71/586)\u001b[K\r",
      "remote: Counting objects:  13% (77/586)\u001b[K\r",
      "remote: Counting objects:  14% (83/586)\u001b[K\r",
      "remote: Counting objects:  15% (88/586)\u001b[K\r",
      "remote: Counting objects:  16% (94/586)\u001b[K\r",
      "remote: Counting objects:  17% (100/586)\u001b[K\r",
      "remote: Counting objects:  18% (106/586)\u001b[K\r",
      "remote: Counting objects:  19% (112/586)\u001b[K\r",
      "remote: Counting objects:  20% (118/586)\u001b[K\r",
      "remote: Counting objects:  21% (124/586)\u001b[K\r",
      "remote: Counting objects:  22% (129/586)\u001b[K\r",
      "remote: Counting objects:  23% (135/586)\u001b[K\r",
      "remote: Counting objects:  24% (141/586)\u001b[K\r",
      "remote: Counting objects:  25% (147/586)\u001b[K\r",
      "remote: Counting objects:  26% (153/586)\u001b[K\r",
      "remote: Counting objects:  27% (159/586)\u001b[K\r",
      "remote: Counting objects:  28% (165/586)\u001b[K\r",
      "remote: Counting objects:  29% (170/586)\u001b[K\r",
      "remote: Counting objects:  30% (176/586)\u001b[K\r",
      "remote: Counting objects:  31% (182/586)\u001b[K\r",
      "remote: Counting objects:  32% (188/586)\u001b[K\r",
      "remote: Counting objects:  33% (194/586)\u001b[K\r",
      "remote: Counting objects:  34% (200/586)\u001b[K\r",
      "remote: Counting objects:  35% (206/586)\u001b[K\r",
      "remote: Counting objects:  36% (211/586)\u001b[K\r",
      "remote: Counting objects:  37% (217/586)\u001b[K\r",
      "remote: Counting objects:  38% (223/586)\u001b[K\r",
      "remote: Counting objects:  39% (229/586)\u001b[K\r",
      "remote: Counting objects:  40% (235/586)\u001b[K\r",
      "remote: Counting objects:  41% (241/586)\u001b[K\r",
      "remote: Counting objects:  42% (247/586)\u001b[K\r",
      "remote: Counting objects:  43% (252/586)\u001b[K\r",
      "remote: Counting objects:  44% (258/586)\u001b[K\r",
      "remote: Counting objects:  45% (264/586)\u001b[K\r",
      "remote: Counting objects:  46% (270/586)\u001b[K\r",
      "remote: Counting objects:  47% (276/586)\u001b[K\r",
      "remote: Counting objects:  48% (282/586)\u001b[K\r",
      "remote: Counting objects:  49% (288/586)\u001b[K\r",
      "remote: Counting objects:  50% (293/586)\u001b[K\r",
      "remote: Counting objects:  51% (299/586)\u001b[K\r",
      "remote: Counting objects:  52% (305/586)\u001b[K\r",
      "remote: Counting objects:  53% (311/586)\u001b[K\r",
      "remote: Counting objects:  54% (317/586)\u001b[K\r",
      "remote: Counting objects:  55% (323/586)\u001b[K\r",
      "remote: Counting objects:  56% (329/586)\u001b[K\r",
      "remote: Counting objects:  57% (335/586)\u001b[K\r",
      "remote: Counting objects:  58% (340/586)\u001b[K\r",
      "remote: Counting objects:  59% (346/586)\u001b[K\r",
      "remote: Counting objects:  60% (352/586)\u001b[K\r",
      "remote: Counting objects:  61% (358/586)\u001b[K\r",
      "remote: Counting objects:  62% (364/586)\u001b[K\r",
      "remote: Counting objects:  63% (370/586)\u001b[K\r",
      "remote: Counting objects:  64% (376/586)\u001b[K\r",
      "remote: Counting objects:  65% (381/586)\u001b[K\r",
      "remote: Counting objects:  66% (387/586)\u001b[K\r",
      "remote: Counting objects:  67% (393/586)\u001b[K\r",
      "remote: Counting objects:  68% (399/586)\u001b[K\r",
      "remote: Counting objects:  69% (405/586)\u001b[K\r",
      "remote: Counting objects:  70% (411/586)\u001b[K\r",
      "remote: Counting objects:  71% (417/586)\u001b[K\r",
      "remote: Counting objects:  72% (422/586)\u001b[K\r",
      "remote: Counting objects:  73% (428/586)\u001b[K\r",
      "remote: Counting objects:  74% (434/586)\u001b[K\r",
      "remote: Counting objects:  75% (440/586)\u001b[K\r",
      "remote: Counting objects:  76% (446/586)\u001b[K\r",
      "remote: Counting objects:  77% (452/586)\u001b[K\r",
      "remote: Counting objects:  78% (458/586)\u001b[K\r",
      "remote: Counting objects:  79% (463/586)\u001b[K\r",
      "remote: Counting objects:  80% (469/586)\u001b[K\r",
      "remote: Counting objects:  81% (475/586)\u001b[K\r",
      "remote: Counting objects:  82% (481/586)\u001b[K\r",
      "remote: Counting objects:  83% (487/586)\u001b[K\r",
      "remote: Counting objects:  84% (493/586)\u001b[K\r",
      "remote: Counting objects:  85% (499/586)\u001b[K\r",
      "remote: Counting objects:  86% (504/586)\u001b[K\r",
      "remote: Counting objects:  87% (510/586)\u001b[K\r",
      "remote: Counting objects:  88% (516/586)\u001b[K\r",
      "remote: Counting objects:  89% (522/586)\u001b[K\r",
      "remote: Counting objects:  90% (528/586)\u001b[K\r",
      "remote: Counting objects:  91% (534/586)\u001b[K\r",
      "remote: Counting objects:  92% (540/586)\u001b[K\r",
      "remote: Counting objects:  93% (545/586)\u001b[K\r",
      "remote: Counting objects:  94% (551/586)\u001b[K\r",
      "remote: Counting objects:  95% (557/586)\u001b[K\r",
      "remote: Counting objects:  96% (563/586)\u001b[K\r",
      "remote: Counting objects:  97% (569/586)\u001b[K\r",
      "remote: Counting objects:  98% (575/586)\u001b[K\r",
      "remote: Counting objects:  99% (581/586)\u001b[K\r",
      "remote: Counting objects: 100% (586/586)\u001b[K\r",
      "remote: Counting objects: 100% (586/586), done.\u001b[K\r\n",
      "remote: Compressing objects:   0% (1/360)\u001b[K\r",
      "remote: Compressing objects:   1% (4/360)\u001b[K\r",
      "remote: Compressing objects:   2% (8/360)\u001b[K\r",
      "remote: Compressing objects:   3% (11/360)\u001b[K\r",
      "remote: Compressing objects:   4% (15/360)\u001b[K\r",
      "remote: Compressing objects:   5% (18/360)\u001b[K\r",
      "remote: Compressing objects:   6% (22/360)\u001b[K\r",
      "remote: Compressing objects:   7% (26/360)\u001b[K\r",
      "remote: Compressing objects:   8% (29/360)\u001b[K\r",
      "remote: Compressing objects:   9% (33/360)\u001b[K\r",
      "remote: Compressing objects:  10% (36/360)\u001b[K\r",
      "remote: Compressing objects:  11% (40/360)\u001b[K\r",
      "remote: Compressing objects:  12% (44/360)\u001b[K\r",
      "remote: Compressing objects:  13% (47/360)\u001b[K\r"
     ]
    },
    {
     "name": "stdout",
     "output_type": "stream",
     "text": [
      "remote: Compressing objects:  14% (51/360)\u001b[K\r",
      "remote: Compressing objects:  15% (54/360)\u001b[K\r",
      "remote: Compressing objects:  16% (58/360)\u001b[K\r",
      "remote: Compressing objects:  17% (62/360)\u001b[K\r",
      "remote: Compressing objects:  18% (65/360)\u001b[K\r",
      "remote: Compressing objects:  19% (69/360)\u001b[K\r",
      "remote: Compressing objects:  20% (72/360)\u001b[K\r",
      "remote: Compressing objects:  21% (76/360)\u001b[K\r",
      "remote: Compressing objects:  22% (80/360)\u001b[K\r",
      "remote: Compressing objects:  23% (83/360)\u001b[K\r",
      "remote: Compressing objects:  24% (87/360)\u001b[K\r",
      "remote: Compressing objects:  25% (90/360)\u001b[K\r",
      "remote: Compressing objects:  26% (94/360)\u001b[K\r",
      "remote: Compressing objects:  27% (98/360)\u001b[K\r",
      "remote: Compressing objects:  28% (101/360)\u001b[K\r",
      "remote: Compressing objects:  29% (105/360)\u001b[K\r",
      "remote: Compressing objects:  30% (108/360)\u001b[K\r",
      "remote: Compressing objects:  31% (112/360)\u001b[K\r",
      "remote: Compressing objects:  32% (116/360)\u001b[K\r",
      "remote: Compressing objects:  33% (119/360)\u001b[K\r",
      "remote: Compressing objects:  34% (123/360)\u001b[K\r",
      "remote: Compressing objects:  35% (126/360)\u001b[K\r",
      "remote: Compressing objects:  36% (130/360)\u001b[K\r",
      "remote: Compressing objects:  37% (134/360)\u001b[K\r",
      "remote: Compressing objects:  38% (137/360)\u001b[K\r",
      "remote: Compressing objects:  39% (141/360)\u001b[K\r",
      "remote: Compressing objects:  40% (144/360)\u001b[K\r",
      "remote: Compressing objects:  41% (148/360)\u001b[K\r",
      "remote: Compressing objects:  42% (152/360)\u001b[K\r",
      "remote: Compressing objects:  43% (155/360)\u001b[K\r",
      "remote: Compressing objects:  44% (159/360)\u001b[K\r",
      "remote: Compressing objects:  45% (162/360)\u001b[K\r",
      "remote: Compressing objects:  46% (166/360)\u001b[K\r",
      "remote: Compressing objects:  47% (170/360)\u001b[K\r",
      "remote: Compressing objects:  48% (173/360)\u001b[K\r",
      "remote: Compressing objects:  49% (177/360)\u001b[K\r",
      "remote: Compressing objects:  50% (180/360)\u001b[K\r",
      "remote: Compressing objects:  51% (184/360)\u001b[K\r",
      "remote: Compressing objects:  52% (188/360)\u001b[K\r",
      "remote: Compressing objects:  53% (191/360)\u001b[K\r",
      "remote: Compressing objects:  54% (195/360)\u001b[K\r",
      "remote: Compressing objects:  55% (198/360)\u001b[K\r",
      "remote: Compressing objects:  56% (202/360)\u001b[K\r",
      "remote: Compressing objects:  57% (206/360)\u001b[K\r",
      "remote: Compressing objects:  58% (209/360)\u001b[K\r",
      "remote: Compressing objects:  59% (213/360)\u001b[K\r",
      "remote: Compressing objects:  60% (216/360)\u001b[K\r",
      "remote: Compressing objects:  61% (220/360)\u001b[K\r",
      "remote: Compressing objects:  62% (224/360)\u001b[K\r",
      "remote: Compressing objects:  63% (227/360)\u001b[K\r",
      "remote: Compressing objects:  64% (231/360)\u001b[K\r",
      "remote: Compressing objects:  65% (234/360)\u001b[K\r",
      "remote: Compressing objects:  66% (238/360)\u001b[K\r",
      "remote: Compressing objects:  67% (242/360)\u001b[K\r",
      "remote: Compressing objects:  68% (245/360)\u001b[K\r",
      "remote: Compressing objects:  69% (249/360)\u001b[K\r",
      "remote: Compressing objects:  70% (252/360)\u001b[K\r",
      "remote: Compressing objects:  71% (256/360)\u001b[K\r",
      "remote: Compressing objects:  72% (260/360)\u001b[K\r",
      "remote: Compressing objects:  73% (263/360)\u001b[K\r",
      "remote: Compressing objects:  74% (267/360)\u001b[K\r",
      "remote: Compressing objects:  75% (270/360)\u001b[K\r",
      "remote: Compressing objects:  76% (274/360)\u001b[K\r",
      "remote: Compressing objects:  77% (278/360)\u001b[K\r",
      "remote: Compressing objects:  78% (281/360)\u001b[K\r",
      "remote: Compressing objects:  79% (285/360)\u001b[K\r",
      "remote: Compressing objects:  80% (288/360)\u001b[K\r",
      "remote: Compressing objects:  81% (292/360)\u001b[K\r",
      "remote: Compressing objects:  82% (296/360)\u001b[K\r",
      "remote: Compressing objects:  83% (299/360)\u001b[K\r",
      "remote: Compressing objects:  84% (303/360)\u001b[K\r",
      "remote: Compressing objects:  85% (306/360)\u001b[K\r",
      "remote: Compressing objects:  86% (310/360)\u001b[K\r",
      "remote: Compressing objects:  87% (314/360)\u001b[K\r",
      "remote: Compressing objects:  88% (317/360)\u001b[K\r",
      "remote: Compressing objects:  89% (321/360)\u001b[K\r",
      "remote: Compressing objects:  90% (324/360)\u001b[K\r",
      "remote: Compressing objects:  91% (328/360)\u001b[K\r",
      "remote: Compressing objects:  92% (332/360)\u001b[K\r",
      "remote: Compressing objects:  93% (335/360)\u001b[K\r",
      "remote: Compressing objects:  94% (339/360)\u001b[K\r",
      "remote: Compressing objects:  95% (342/360)\u001b[K\r",
      "remote: Compressing objects:  96% (346/360)\u001b[K\r",
      "remote: Compressing objects:  97% (350/360)\u001b[K\r",
      "remote: Compressing objects:  98% (353/360)\u001b[K\r",
      "remote: Compressing objects:  99% (357/360)\u001b[K\r",
      "remote: Compressing objects: 100% (360/360)\u001b[K\r",
      "remote: Compressing objects: 100% (360/360), done.\u001b[K\r\n",
      "Receiving objects:   0% (1/28172)   \r"
     ]
    },
    {
     "name": "stdout",
     "output_type": "stream",
     "text": [
      "Receiving objects:   1% (282/28172)   \r",
      "Receiving objects:   2% (564/28172)   \r",
      "Receiving objects:   3% (846/28172)   \r",
      "Receiving objects:   4% (1127/28172)   \r",
      "Receiving objects:   5% (1409/28172)   \r",
      "Receiving objects:   6% (1691/28172)   \r",
      "Receiving objects:   7% (1973/28172)   \r",
      "Receiving objects:   8% (2254/28172)   \r"
     ]
    },
    {
     "name": "stdout",
     "output_type": "stream",
     "text": [
      "Receiving objects:   9% (2536/28172)   \r",
      "Receiving objects:  10% (2818/28172)   \r",
      "Receiving objects:  11% (3099/28172)   \r",
      "Receiving objects:  12% (3381/28172)   \r",
      "Receiving objects:  13% (3663/28172)   \r",
      "Receiving objects:  14% (3945/28172)   \r",
      "Receiving objects:  15% (4226/28172)   \r",
      "Receiving objects:  16% (4508/28172)   \r"
     ]
    },
    {
     "name": "stdout",
     "output_type": "stream",
     "text": [
      "Receiving objects:  17% (4790/28172)   \r"
     ]
    },
    {
     "name": "stdout",
     "output_type": "stream",
     "text": [
      "Receiving objects:  18% (5071/28172)   \r",
      "Receiving objects:  19% (5353/28172)   \r",
      "Receiving objects:  20% (5635/28172)   \r",
      "Receiving objects:  21% (5917/28172)   \r",
      "Receiving objects:  22% (6198/28172)   \r",
      "Receiving objects:  23% (6480/28172)   \r"
     ]
    },
    {
     "name": "stdout",
     "output_type": "stream",
     "text": [
      "Receiving objects:  24% (6762/28172)   \r",
      "Receiving objects:  25% (7043/28172)   \r",
      "Receiving objects:  26% (7325/28172)   \r",
      "Receiving objects:  27% (7607/28172)   \r",
      "Receiving objects:  28% (7889/28172)   \r",
      "Receiving objects:  29% (8170/28172)   \r",
      "Receiving objects:  30% (8452/28172)   \r",
      "Receiving objects:  31% (8734/28172)   \r"
     ]
    },
    {
     "name": "stdout",
     "output_type": "stream",
     "text": [
      "Receiving objects:  32% (9016/28172)   \r",
      "Receiving objects:  33% (9297/28172)   \r",
      "Receiving objects:  34% (9579/28172)   \r",
      "Receiving objects:  35% (9861/28172)   \r",
      "Receiving objects:  36% (10142/28172)   \r",
      "Receiving objects:  37% (10424/28172)   \r",
      "Receiving objects:  38% (10706/28172)   \r",
      "Receiving objects:  39% (10988/28172)   \r",
      "Receiving objects:  40% (11269/28172)   \r",
      "Receiving objects:  41% (11551/28172)   \r",
      "Receiving objects:  42% (11833/28172)   \r",
      "Receiving objects:  43% (12114/28172)   \r",
      "Receiving objects:  44% (12396/28172)   \r",
      "Receiving objects:  45% (12678/28172)   \r",
      "Receiving objects:  46% (12960/28172)   \r"
     ]
    },
    {
     "name": "stdout",
     "output_type": "stream",
     "text": [
      "Receiving objects:  47% (13241/28172)   \r",
      "Receiving objects:  48% (13523/28172)   \r",
      "Receiving objects:  49% (13805/28172)   \r",
      "Receiving objects:  50% (14086/28172)   \r",
      "Receiving objects:  51% (14368/28172)   \r",
      "Receiving objects:  52% (14650/28172)   \r",
      "Receiving objects:  53% (14932/28172)   \r",
      "Receiving objects:  54% (15213/28172)   \r",
      "Receiving objects:  55% (15495/28172)   \r",
      "Receiving objects:  56% (15777/28172)   \r",
      "Receiving objects:  57% (16059/28172)   \r",
      "Receiving objects:  58% (16340/28172)   \r",
      "Receiving objects:  59% (16622/28172)   \r",
      "Receiving objects:  60% (16904/28172)   \r",
      "Receiving objects:  61% (17185/28172)   \r",
      "Receiving objects:  62% (17467/28172)   \r",
      "Receiving objects:  63% (17749/28172)   \r",
      "Receiving objects:  64% (18031/28172)   \r",
      "Receiving objects:  65% (18312/28172)   \r",
      "Receiving objects:  66% (18594/28172)   \r"
     ]
    },
    {
     "name": "stdout",
     "output_type": "stream",
     "text": [
      "Receiving objects:  67% (18876/28172)   \r",
      "Receiving objects:  68% (19157/28172)   \r",
      "Receiving objects:  69% (19439/28172)   \r",
      "Receiving objects:  70% (19721/28172)   \r",
      "Receiving objects:  71% (20003/28172)   \r",
      "Receiving objects:  72% (20284/28172)   \r",
      "Receiving objects:  73% (20566/28172)   \r",
      "Receiving objects:  74% (20848/28172)   \r",
      "Receiving objects:  75% (21129/28172)   \r",
      "Receiving objects:  76% (21411/28172)   \r",
      "Receiving objects:  77% (21693/28172)   \r",
      "Receiving objects:  78% (21975/28172)   \r",
      "Receiving objects:  79% (22256/28172)   \r",
      "Receiving objects:  80% (22538/28172)   \r",
      "Receiving objects:  81% (22820/28172)   \r",
      "Receiving objects:  82% (23102/28172)   \r",
      "Receiving objects:  83% (23383/28172)   \r",
      "Receiving objects:  84% (23665/28172)   \r",
      "Receiving objects:  85% (23947/28172)   \r",
      "Receiving objects:  86% (24228/28172)   \r",
      "Receiving objects:  87% (24510/28172)   \r",
      "Receiving objects:  88% (24792/28172)   \r"
     ]
    },
    {
     "name": "stdout",
     "output_type": "stream",
     "text": [
      "Receiving objects:  89% (25074/28172)   \r",
      "Receiving objects:  90% (25355/28172)   \r",
      "Receiving objects:  91% (25637/28172)   \r",
      "Receiving objects:  92% (25919/28172)   \r",
      "Receiving objects:  93% (26200/28172)   \r",
      "Receiving objects:  94% (26482/28172)   \r",
      "Receiving objects:  95% (26764/28172)   \r",
      "Receiving objects:  96% (27046/28172)   \r",
      "Receiving objects:  97% (27327/28172)   \r",
      "Receiving objects:  98% (27609/28172)   \r",
      "Receiving objects:  99% (27891/28172)   \r",
      "remote: Total 28172 (delta 288), reused 442 (delta 213), pack-reused 27586\u001b[K\r\n",
      "Receiving objects: 100% (28172/28172)   \r",
      "Receiving objects: 100% (28172/28172), 11.91 MiB | 25.67 MiB/s, done.\r\n",
      "Resolving deltas:   0% (0/21107)   \r",
      "Resolving deltas:   1% (213/21107)   \r",
      "Resolving deltas:   2% (423/21107)   \r"
     ]
    },
    {
     "name": "stdout",
     "output_type": "stream",
     "text": [
      "Resolving deltas:   3% (634/21107)   \r",
      "Resolving deltas:   4% (845/21107)   \r",
      "Resolving deltas:   5% (1059/21107)   \r",
      "Resolving deltas:   6% (1270/21107)   \r",
      "Resolving deltas:   7% (1486/21107)   \r",
      "Resolving deltas:   8% (1690/21107)   \r",
      "Resolving deltas:   9% (1900/21107)   \r"
     ]
    },
    {
     "name": "stdout",
     "output_type": "stream",
     "text": [
      "Resolving deltas:  10% (2122/21107)   \r",
      "Resolving deltas:  11% (2339/21107)   \r",
      "Resolving deltas:  12% (2537/21107)   \r",
      "Resolving deltas:  13% (2744/21107)   \r"
     ]
    },
    {
     "name": "stdout",
     "output_type": "stream",
     "text": [
      "Resolving deltas:  14% (2958/21107)   \r",
      "Resolving deltas:  15% (3204/21107)   \r",
      "Resolving deltas:  16% (3387/21107)   \r",
      "Resolving deltas:  17% (3639/21107)   \r",
      "Resolving deltas:  18% (3821/21107)   \r"
     ]
    },
    {
     "name": "stdout",
     "output_type": "stream",
     "text": [
      "Resolving deltas:  19% (4017/21107)   \r",
      "Resolving deltas:  20% (4222/21107)   \r",
      "Resolving deltas:  21% (4433/21107)   \r",
      "Resolving deltas:  22% (4676/21107)   \r",
      "Resolving deltas:  23% (4858/21107)   \r",
      "Resolving deltas:  24% (5103/21107)   \r",
      "Resolving deltas:  25% (5294/21107)   \r"
     ]
    },
    {
     "name": "stdout",
     "output_type": "stream",
     "text": [
      "Resolving deltas:  26% (5488/21107)   \r",
      "Resolving deltas:  27% (5710/21107)   \r",
      "Resolving deltas:  28% (5919/21107)   \r",
      "Resolving deltas:  29% (6139/21107)   \r",
      "Resolving deltas:  30% (6378/21107)   \r",
      "Resolving deltas:  31% (6550/21107)   \r",
      "Resolving deltas:  32% (6824/21107)   \r"
     ]
    },
    {
     "name": "stdout",
     "output_type": "stream",
     "text": [
      "Resolving deltas:  33% (6973/21107)   \r",
      "Resolving deltas:  34% (7189/21107)   \r",
      "Resolving deltas:  35% (7412/21107)   \r",
      "Resolving deltas:  36% (7620/21107)   \r",
      "Resolving deltas:  37% (7810/21107)   \r",
      "Resolving deltas:  38% (8026/21107)   \r",
      "Resolving deltas:  39% (8233/21107)   \r",
      "Resolving deltas:  40% (8462/21107)   \r",
      "Resolving deltas:  41% (8858/21107)   \r",
      "Resolving deltas:  42% (8884/21107)   \r",
      "Resolving deltas:  43% (9078/21107)   \r",
      "Resolving deltas:  44% (9291/21107)   \r"
     ]
    },
    {
     "name": "stdout",
     "output_type": "stream",
     "text": [
      "Resolving deltas:  45% (9513/21107)   \r",
      "Resolving deltas:  46% (9716/21107)   \r",
      "Resolving deltas:  47% (9949/21107)   \r",
      "Resolving deltas:  48% (10132/21107)   \r",
      "Resolving deltas:  49% (10521/21107)   \r",
      "Resolving deltas:  50% (10557/21107)   \r",
      "Resolving deltas:  51% (10769/21107)   \r",
      "Resolving deltas:  52% (10986/21107)   \r",
      "Resolving deltas:  53% (11195/21107)   \r",
      "Resolving deltas:  54% (11464/21107)   \r",
      "Resolving deltas:  55% (11648/21107)   \r",
      "Resolving deltas:  56% (11823/21107)   \r",
      "Resolving deltas:  57% (12032/21107)   \r"
     ]
    },
    {
     "name": "stdout",
     "output_type": "stream",
     "text": [
      "Resolving deltas:  58% (12275/21107)   \r",
      "Resolving deltas:  59% (12458/21107)   \r",
      "Resolving deltas:  60% (12713/21107)   \r",
      "Resolving deltas:  61% (12977/21107)   \r",
      "Resolving deltas:  62% (13122/21107)   \r",
      "Resolving deltas:  63% (13315/21107)   \r",
      "Resolving deltas:  64% (13514/21107)   \r",
      "Resolving deltas:  65% (13742/21107)   \r",
      "Resolving deltas:  66% (13940/21107)   \r",
      "Resolving deltas:  67% (14178/21107)   \r",
      "Resolving deltas:  68% (14359/21107)   \r",
      "Resolving deltas:  69% (14570/21107)   \r",
      "Resolving deltas:  70% (14826/21107)   \r",
      "Resolving deltas:  71% (14987/21107)   \r",
      "Resolving deltas:  72% (15199/21107)   \r",
      "Resolving deltas:  74% (15662/21107)   \r",
      "Resolving deltas:  75% (15837/21107)   \r"
     ]
    },
    {
     "name": "stdout",
     "output_type": "stream",
     "text": [
      "Resolving deltas:  76% (16136/21107)   \r",
      "Resolving deltas:  77% (16286/21107)   \r",
      "Resolving deltas:  78% (16469/21107)   \r",
      "Resolving deltas:  79% (16732/21107)   \r",
      "Resolving deltas:  80% (17082/21107)   \r",
      "Resolving deltas:  81% (17122/21107)   \r",
      "Resolving deltas:  82% (17317/21107)   \r",
      "Resolving deltas:  83% (17529/21107)   \r",
      "Resolving deltas:  85% (18097/21107)   \r",
      "Resolving deltas:  86% (18154/21107)   \r",
      "Resolving deltas:  87% (18405/21107)   \r",
      "Resolving deltas:  88% (18598/21107)   \r",
      "Resolving deltas:  89% (18792/21107)   \r",
      "Resolving deltas:  90% (18999/21107)   \r",
      "Resolving deltas:  91% (19208/21107)   \r",
      "Resolving deltas:  92% (19421/21107)   \r",
      "Resolving deltas:  93% (19646/21107)   \r",
      "Resolving deltas:  94% (19853/21107)   \r"
     ]
    },
    {
     "name": "stdout",
     "output_type": "stream",
     "text": [
      "Resolving deltas:  95% (20059/21107)   \r",
      "Resolving deltas:  96% (20284/21107)   \r",
      "Resolving deltas:  97% (20477/21107)   \r",
      "Resolving deltas:  98% (20692/21107)   \r",
      "Resolving deltas:  99% (20905/21107)   \r",
      "Resolving deltas: 100% (21107/21107)   \r",
      "Resolving deltas: 100% (21107/21107), done.\r\n"
     ]
    }
   ],
   "source": [
    "!git clone https://github.com/pytorch/fairseq/"
   ]
  },
  {
   "cell_type": "code",
   "execution_count": 4,
   "id": "gross-finish",
   "metadata": {
    "execution": {
     "iopub.execute_input": "2021-05-29T11:45:39.002266Z",
     "iopub.status.busy": "2021-05-29T11:45:39.001479Z",
     "iopub.status.idle": "2021-05-29T11:45:39.005569Z",
     "shell.execute_reply": "2021-05-29T11:45:39.005059Z",
     "shell.execute_reply.started": "2021-05-25T21:59:53.235485Z"
    },
    "papermill": {
     "duration": 0.035666,
     "end_time": "2021-05-29T11:45:39.005673",
     "exception": false,
     "start_time": "2021-05-29T11:45:38.970007",
     "status": "completed"
    },
    "tags": []
   },
   "outputs": [
    {
     "name": "stdout",
     "output_type": "stream",
     "text": [
      "/tmp/fairseq/examples/wav2vec/unsupervised/scripts\n"
     ]
    }
   ],
   "source": [
    "%cd fairseq/examples/wav2vec/unsupervised/scripts"
   ]
  },
  {
   "cell_type": "code",
   "execution_count": 5,
   "id": "subtle-favorite",
   "metadata": {
    "execution": {
     "iopub.execute_input": "2021-05-29T11:45:39.066979Z",
     "iopub.status.busy": "2021-05-29T11:45:39.066252Z",
     "iopub.status.idle": "2021-05-29T11:46:16.343393Z",
     "shell.execute_reply": "2021-05-29T11:46:16.343815Z"
    },
    "papermill": {
     "duration": 37.311146,
     "end_time": "2021-05-29T11:46:16.343990",
     "exception": false,
     "start_time": "2021-05-29T11:45:39.032844",
     "status": "completed"
    },
    "tags": []
   },
   "outputs": [],
   "source": [
    "!cp -r /kaggle/input/wav2vec-u-cv-swedish-vads/ /tmp"
   ]
  },
  {
   "cell_type": "code",
   "execution_count": 6,
   "id": "alive-question",
   "metadata": {
    "execution": {
     "iopub.execute_input": "2021-05-29T11:46:16.417892Z",
     "iopub.status.busy": "2021-05-29T11:46:16.417386Z",
     "iopub.status.idle": "2021-05-29T11:46:20.447733Z",
     "shell.execute_reply": "2021-05-29T11:46:20.446617Z"
    },
    "papermill": {
     "duration": 4.076755,
     "end_time": "2021-05-29T11:46:20.447861",
     "exception": false,
     "start_time": "2021-05-29T11:46:16.371106",
     "status": "completed"
    },
    "tags": []
   },
   "outputs": [],
   "source": [
    "!mkdir tsv\n",
    "!for i in train test valid; do echo /kaggle/input/wav2vec-u-cv-swedish-vads/wav/$i/common-voice-swedish-16bit-wav/ > tsv/$i.tsv; cat /kaggle/input/fork-of-wav2vec-u-cv-swedish-tsv/$i.tsv|sed '1d' >> tsv/$i.tsv;done\n",
    "!cp /kaggle/input/wav2vec-u-cv-swedish-prep-ltr-phn-wrd/dic* tsv/\n",
    "!cp /kaggle/input/wav2vec-u-cv-swedish-prep-ltr-phn-wrd/*.wrd tsv/\n",
    "!cp /kaggle/input/wav2vec-u-cv-swedish-prep-ltr-phn-wrd/*.ltr tsv/\n",
    "!cp /kaggle/input/wav2vec-u-cv-swedish-prep-ltr-phn-wrd/*.phn tsv/"
   ]
  },
  {
   "cell_type": "code",
   "execution_count": 7,
   "id": "outside-reading",
   "metadata": {
    "execution": {
     "iopub.execute_input": "2021-05-29T11:46:20.512003Z",
     "iopub.status.busy": "2021-05-29T11:46:20.511099Z",
     "iopub.status.idle": "2021-05-29T11:46:26.297902Z",
     "shell.execute_reply": "2021-05-29T11:46:26.297439Z"
    },
    "papermill": {
     "duration": 5.822847,
     "end_time": "2021-05-29T11:46:26.298028",
     "exception": false,
     "start_time": "2021-05-29T11:46:20.475181",
     "status": "completed"
    },
    "tags": []
   },
   "outputs": [],
   "source": [
    "%%capture\n",
    "!pip install npy-append-array"
   ]
  },
  {
   "cell_type": "code",
   "execution_count": 8,
   "id": "speaking-microphone",
   "metadata": {
    "execution": {
     "iopub.execute_input": "2021-05-29T11:46:26.360487Z",
     "iopub.status.busy": "2021-05-29T11:46:26.356400Z",
     "iopub.status.idle": "2021-05-29T11:46:27.252400Z",
     "shell.execute_reply": "2021-05-29T11:46:27.251290Z"
    },
    "papermill": {
     "duration": 0.927276,
     "end_time": "2021-05-29T11:46:27.252533",
     "exception": false,
     "start_time": "2021-05-29T11:46:26.325257",
     "status": "completed"
    },
    "tags": []
   },
   "outputs": [
    {
     "name": "stdout",
     "output_type": "stream",
     "text": [
      "usage: conda [-h] [-V] command ...\r\n",
      "conda: error: unrecognized arguments: libblas==mkl\r\n"
     ]
    }
   ],
   "source": [
    "!conda install faiss-gpu cudatoolkit=11.0 -c conda-forge libblas==mkl -y"
   ]
  },
  {
   "cell_type": "code",
   "execution_count": 9,
   "id": "hollywood-ready",
   "metadata": {
    "execution": {
     "iopub.execute_input": "2021-05-29T11:46:27.316205Z",
     "iopub.status.busy": "2021-05-29T11:46:27.315424Z",
     "iopub.status.idle": "2021-05-29T11:46:33.251397Z",
     "shell.execute_reply": "2021-05-29T11:46:33.250867Z"
    },
    "papermill": {
     "duration": 5.971139,
     "end_time": "2021-05-29T11:46:33.251537",
     "exception": false,
     "start_time": "2021-05-29T11:46:27.280398",
     "status": "completed"
    },
    "tags": []
   },
   "outputs": [],
   "source": [
    "%%capture\n",
    "!apt-get -y install zsh"
   ]
  },
  {
   "cell_type": "code",
   "execution_count": null,
   "id": "arctic-details",
   "metadata": {
    "papermill": {
     "duration": null,
     "end_time": null,
     "exception": false,
     "start_time": "2021-05-29T11:46:33.279972",
     "status": "running"
    },
    "tags": []
   },
   "outputs": [],
   "source": [
    "!zsh prepare_audio.sh tsv /kaggle/working /kaggle/input/download-xlsr-53-wav2vec2-model/xlsr_53_56k.pt"
   ]
  }
 ],
 "metadata": {
  "kernelspec": {
   "display_name": "Python 3",
   "language": "python",
   "name": "python3"
  },
  "language_info": {
   "codemirror_mode": {
    "name": "ipython",
    "version": 3
   },
   "file_extension": ".py",
   "mimetype": "text/x-python",
   "name": "python",
   "nbconvert_exporter": "python",
   "pygments_lexer": "ipython3",
   "version": "3.6.4"
  },
  "papermill": {
   "default_parameters": {},
   "duration": null,
   "end_time": null,
   "environment_variables": {},
   "exception": null,
   "input_path": "__notebook__.ipynb",
   "output_path": "__notebook__.ipynb",
   "parameters": {},
   "start_time": "2021-05-29T11:44:46.284814",
   "version": "2.3.3"
  }
 },
 "nbformat": 4,
 "nbformat_minor": 5
}