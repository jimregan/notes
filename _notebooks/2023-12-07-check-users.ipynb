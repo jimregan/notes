{
 "cells": [
  {
   "cell_type": "markdown",
   "metadata": {},
   "source": [
    "# Check users\n",
    "\n",
    "> \"Check which users have expired\"\n",
    "\n",
    "- toc: false\n",
    "- hidden: true\n",
    "- badges: false\n",
    "- categories: [tmh, gpu-admin]"
   ]
  },
  {
   "cell_type": "code",
   "execution_count": 1,
   "metadata": {},
   "outputs": [],
   "source": [
    "REPO = \"/Users/joregan/Playing/gpu-admin\""
   ]
  },
  {
   "cell_type": "code",
   "execution_count": 2,
   "metadata": {},
   "outputs": [],
   "source": [
    "from pathlib import Path\n",
    "from datetime import datetime"
   ]
  },
  {
   "cell_type": "code",
   "execution_count": 13,
   "metadata": {},
   "outputs": [],
   "source": [
    "import json\n",
    "with open(Path(REPO) / \"users.json\") as userfile:\n",
    "    users = json.load(userfile)"
   ]
  },
  {
   "cell_type": "code",
   "execution_count": 7,
   "metadata": {},
   "outputs": [],
   "source": [
    "today = datetime(2023, 12, 7)"
   ]
  },
  {
   "cell_type": "code",
   "execution_count": 14,
   "metadata": {},
   "outputs": [],
   "source": [
    "exusers = []\n",
    "for user in users:\n",
    "    if \"expires\" in users[user]:\n",
    "        expiration = datetime.strptime(users[user][\"expires\"], \"%Y-%m-%d\")\n",
    "        if expiration < today:\n",
    "            exusers.append(user)\n",
    "for user in exusers:\n",
    "    del users[user]"
   ]
  }
 ],
 "metadata": {
  "kernelspec": {
   "display_name": "hf",
   "language": "python",
   "name": "python3"
  },
  "language_info": {
   "codemirror_mode": {
    "name": "ipython",
    "version": 3
   },
   "file_extension": ".py",
   "mimetype": "text/x-python",
   "name": "python",
   "nbconvert_exporter": "python",
   "pygments_lexer": "ipython3",
   "version": "3.9.15"
  }
 },
 "nbformat": 4,
 "nbformat_minor": 2
}
