{
  "nbformat": 4,
  "nbformat_minor": 0,
  "metadata": {
    "colab": {
      "name": "parse-swedish-gigaword.ipynb",
      "provenance": []
    },
    "kernelspec": {
      "name": "python3",
      "display_name": "Python 3"
    },
    "language_info": {
      "name": "python"
    }
  },
  "cells": [
    {
      "cell_type": "markdown",
      "metadata": {
        "id": "EwwzHnm5LHVq"
      },
      "source": [
        "# Parse Swedish gigaword XML\n",
        "\n",
        "> \"Dataset\"\n",
        "\n",
        "- toc: false\n",
        "- branch: master\n",
        "- badges: false\n",
        "- comments: true\n",
        "- categories: [swedish, gigaword, xml]\n",
        "\n"
      ]
    },
    {
      "cell_type": "code",
      "metadata": {
        "id": "5KRJgzG6EXeq"
      },
      "source": [
        "example = \"\"\"\\\n",
        "<corpus id=\"1960-0000\">\n",
        "<text date=\"1965-02-14\" datefrom=\"19650214\" dateto=\"19650214\" genre=\"news\" publisher=\"Stockholms Tidningen \" timefrom=\"000000\" timeto=\"235959\" topic=\"Politik och samhällsfrågor\" year=\"1965\">\n",
        "<sentence id=\"aa9c2ac8-ae5dd1a1\">\n",
        "<w dephead=\"4\" deprel=\"RA\" lemma=\"|i|\" lex=\"|i..pp.1|\" msd=\"PP\" pos=\"PP\" prefix=\"|\" ref=\"1\" saldo=\"|i..2|\" suffix=\"|\">I</w>\n",
        "<w dephead=\"3\" deprel=\"DT\" lemma=\"|\" lex=\"|\" msd=\"HD.UTR.SIN.IND\" pos=\"HD\" prefix=\"|\" ref=\"2\" saldo=\"|\" suffix=\"|\">vilken</w>\n",
        "</sentence>\n",
        "</text>\n",
        "</corpus>\n",
        "\"\"\""
      ],
      "execution_count": 17,
      "outputs": []
    },
    {
      "cell_type": "code",
      "metadata": {
        "id": "b-dqCZjr0Nd0"
      },
      "source": [
        "import xml.etree.ElementTree as ET\n",
        "\n",
        "\n",
        "def _attrib(node, attrib: str) -> str:\n",
        "    if attrib in node.attrib:\n",
        "        return node.attrib[attrib].strip()\n",
        "    else:\n",
        "        return \"\"\n",
        "\n",
        "\n",
        "def _iattrib(node, attrib: str) -> str:\n",
        "    if attrib in node.attrib:\n",
        "        try:\n",
        "            return int(node.attrib[attrib].strip())\n",
        "        except ValueError:\n",
        "            return 0\n",
        "    else:\n",
        "        return 0\n",
        "\n",
        "\n",
        "class Corpus:\n",
        "    def __init__(self, source):\n",
        "        tree = ET.parse(source)\n",
        "        root = tree.getroot()\n",
        "        self.id = _attrib(root, 'id')\n",
        "        self.texts = []\n",
        "\n",
        "\n",
        "        for text_node in root.findall('./text'):\n",
        "            self.texts.append(Text(text_node))\n",
        "\n",
        "\n",
        "class Text:\n",
        "    def __init__(self, node):\n",
        "        self.date = _attrib(node, 'date')\n",
        "        self.datefrom = _iattrib(node, 'datefrom')\n",
        "        self.dateto = _iattrib(node, 'dateto')\n",
        "        self.genre = _attrib(node, 'genre')\n",
        "        self.publisher = _attrib(node, 'publisher')\n",
        "        self.timefrom = _iattrib(node, 'timefrom')\n",
        "        self.timeto = _iattrib(node, 'timeto')\n",
        "        self.topic = _attrib(node, 'topic')\n",
        "        self.year = _iattrib(node, 'year')\n",
        "        self.sentences = []\n",
        "\n",
        "        for sent_node in node.findall('./sentence'):\n",
        "            self.sentences.append(Sentence(sent_node))\n",
        "\n",
        "\n",
        "class Sentence:\n",
        "    def __init__(self, node):\n",
        "        self.id = _attrib(node, 'id')\n",
        "        self.words = []\n",
        "\n",
        "        for w_node in node.findall('./w'):\n",
        "            self.words.append(Word(w_node))\n",
        "\n",
        "\n",
        "class Word:\n",
        "    def __init__(self, node):\n",
        "        self.dephead = _attrib(node, 'dephead')\n",
        "        self.deprel = _attrib(node, 'deprel')\n",
        "        self.lemma = _attrib(node, 'lemma')\n",
        "        self.lex = _attrib(node, 'lex')\n",
        "        self.msd = _attrib(node, 'msd')\n",
        "        self.pos = _attrib(node, 'pos')\n",
        "        self.prefix = _attrib(node, 'prefix')\n",
        "        self.ref = _attrib(node, 'ref')\n",
        "        self.saldo = _attrib(node, 'saldo')\n",
        "        self.suffix = _attrib(node, 'suffix')\n",
        "        self.word = node.text.strip()"
      ],
      "execution_count": 16,
      "outputs": []
    },
    {
      "cell_type": "code",
      "metadata": {
        "id": "2kNOKt8xFoZU"
      },
      "source": [
        "import io\n",
        "\n",
        "sio = io.StringIO(example)\n",
        "corp = Corpus(sio)"
      ],
      "execution_count": 18,
      "outputs": []
    },
    {
      "cell_type": "code",
      "metadata": {
        "colab": {
          "base_uri": "https://localhost:8080/",
          "height": 104
        },
        "id": "07yMWtzPGE8M",
        "outputId": "8509a107-f926-4fd4-cd06-432213af3707"
      },
      "source": [
        "import json\n",
        "json.dumps(corp, default=lambda o: o.__dict__)"
      ],
      "execution_count": 19,
      "outputs": [
        {
          "output_type": "execute_result",
          "data": {
            "application/vnd.google.colaboratory.intrinsic+json": {
              "type": "string"
            },
            "text/plain": [
              "'{\"id\": \"1960-0000\", \"texts\": [{\"date\": \"1965-02-14\", \"datefrom\": 19650214, \"dateto\": 19650214, \"genre\": \"news\", \"publisher\": \"Stockholms Tidningen\", \"timefrom\": 0, \"timeto\": 235959, \"topic\": \"Politik och samh\\\\u00e4llsfr\\\\u00e5gor\", \"year\": 1965, \"sentences\": [{\"id\": \"aa9c2ac8-ae5dd1a1\", \"words\": [{\"dephead\": \"4\", \"deprel\": \"RA\", \"lemma\": \"|i|\", \"lex\": \"|i..pp.1|\", \"msd\": \"PP\", \"pos\": \"PP\", \"prefix\": \"|\", \"ref\": \"1\", \"saldo\": \"|i..2|\", \"suffix\": \"|\", \"word\": \"I\"}, {\"dephead\": \"3\", \"deprel\": \"DT\", \"lemma\": \"|\", \"lex\": \"|\", \"msd\": \"HD.UTR.SIN.IND\", \"pos\": \"HD\", \"prefix\": \"|\", \"ref\": \"2\", \"saldo\": \"|\", \"suffix\": \"|\", \"word\": \"vilken\"}]}]}]}'"
            ]
          },
          "metadata": {},
          "execution_count": 19
        }
      ]
    }
  ]
}