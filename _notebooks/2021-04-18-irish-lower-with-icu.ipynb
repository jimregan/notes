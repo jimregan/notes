{
 "cells": [
  {
   "cell_type": "markdown",
   "id": "9ec5cd56",
   "metadata": {},
   "source": [
    "# \"Irish lowercase with ICU\"\n",
    "> \"Case folding in Irish is odd; ICU can be used from most languages\"\n",
    "\n",
    "- toc: false\n",
    "- branch: master\n",
    "- badges: true\n",
    "- comments: true\n",
    "- categories: [icu]"
   ]
  },
  {
   "cell_type": "code",
   "execution_count": 1,
   "id": "193aefba",
   "metadata": {},
   "outputs": [],
   "source": [
    "import icu"
   ]
  },
  {
   "cell_type": "code",
   "execution_count": 2,
   "id": "3b5f4e85",
   "metadata": {},
   "outputs": [],
   "source": [
    "def transliterator_from_rules(name, rules):\n",
    "    fromrules = icu.Transliterator.createFromRules(name, rules)\n",
    "    icu.Transliterator.registerInstance(fromrules)\n",
    "    return icu.Transliterator.createInstance(name)"
   ]
  },
  {
   "cell_type": "code",
   "execution_count": 3,
   "id": "488b14d1",
   "metadata": {},
   "outputs": [],
   "source": [
    "irishlc_rules = \"\"\"\n",
    ":: NFD;\n",
    "$uvowel=[AEIOU];\n",
    "$wb=[^[:L:][:M:]];\n",
    "$wb { ([nt]) } $uvowel → $1 '-';\n",
    ":: lower;\n",
    ":: NFC;\n",
    "\"\"\""
   ]
  },
  {
   "cell_type": "code",
   "execution_count": 4,
   "id": "b2eaaf0e",
   "metadata": {},
   "outputs": [],
   "source": [
    "irishlc = transliterator_from_rules('irishlc', irishlc_rules)"
   ]
  },
  {
   "cell_type": "code",
   "execution_count": 5,
   "id": "a66d916f",
   "metadata": {},
   "outputs": [
    {
     "data": {
      "text/plain": [
       "'tá an t-uachtarán tar éis a lámh a chur leis'"
      ]
     },
     "execution_count": 5,
     "metadata": {},
     "output_type": "execute_result"
    }
   ],
   "source": [
    "irishlc.transliterate(\"tá an tUachtarán tar éis a lámh a chur leis\")"
   ]
  }
 ],
 "metadata": {
  "kernelspec": {
   "display_name": "Python 3",
   "language": "python",
   "name": "python3"
  },
  "language_info": {
   "codemirror_mode": {
    "name": "ipython",
    "version": 3
   },
   "file_extension": ".py",
   "mimetype": "text/x-python",
   "name": "python",
   "nbconvert_exporter": "python",
   "pygments_lexer": "ipython3",
   "version": "3.8.2"
  }
 },
 "nbformat": 4,
 "nbformat_minor": 5
}
