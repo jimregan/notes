{
 "cells": [
  {
   "cell_type": "markdown",
   "metadata": {},
   "source": [
    "# Check Riksantikvarieämbetet youtube for licence\n",
    "\n",
    "> \"Partial scraping of one youtube channel\"\n",
    "\n",
    "- toc: false\n",
    "- branch: master\n",
    "- hidden: true\n",
    "- categories: [kaggle, swedish]"
   ]
  },
  {
   "cell_type": "markdown",
   "metadata": {},
   "source": [
    "Original on [Kaggle](https://www.kaggle.com/jimregan/check-riksantikvarie-mbetet-youtube-for-licence)"
   ]
  },
  {
   "cell_type": "code",
   "execution_count": 1,
   "metadata": {
    "_cell_guid": "b1076dfc-b9ad-4769-8c92-a6c4dae69d19",
    "_uuid": "8f2839f25d086af736a60e9eeb907d3b93b6e0e5",
    "execution": {
     "iopub.execute_input": "2021-09-27T09:05:06.392754Z",
     "iopub.status.busy": "2021-09-27T09:05:06.392167Z",
     "iopub.status.idle": "2021-09-27T09:05:16.014601Z",
     "shell.execute_reply": "2021-09-27T09:05:16.013821Z",
     "shell.execute_reply.started": "2021-09-21T10:06:08.19289Z"
    },
    "papermill": {
     "duration": 9.63957,
     "end_time": "2021-09-27T09:05:16.014759",
     "exception": false,
     "start_time": "2021-09-27T09:05:06.375189",
     "status": "completed"
    },
    "tags": []
   },
   "outputs": [],
   "source": [
    "%%capture\n",
    "!pip install youtube-dl"
   ]
  },
  {
   "cell_type": "code",
   "execution_count": 2,
   "metadata": {
    "execution": {
     "iopub.execute_input": "2021-09-27T09:05:16.037849Z",
     "iopub.status.busy": "2021-09-27T09:05:16.034059Z",
     "iopub.status.idle": "2021-09-27T09:05:18.339994Z",
     "shell.execute_reply": "2021-09-27T09:05:18.340428Z",
     "shell.execute_reply.started": "2021-09-21T10:11:13.347854Z"
    },
    "papermill": {
     "duration": 2.3174,
     "end_time": "2021-09-27T09:05:18.340620",
     "exception": false,
     "start_time": "2021-09-27T09:05:16.023220",
     "status": "completed"
    },
    "tags": []
   },
   "outputs": [],
   "source": [
    "!youtube-dl -j --flat-playlist \"https://www.youtube.com/c/heritageboard/playlists?view=1&sort=dd&shelf_id=0\" > rplist.json"
   ]
  },
  {
   "cell_type": "code",
   "execution_count": 3,
   "metadata": {
    "execution": {
     "iopub.execute_input": "2021-09-27T09:05:18.355598Z",
     "iopub.status.busy": "2021-09-27T09:05:18.355040Z",
     "iopub.status.idle": "2021-09-27T09:06:04.835914Z",
     "shell.execute_reply": "2021-09-27T09:06:04.835418Z",
     "shell.execute_reply.started": "2021-09-21T10:14:02.137158Z"
    },
    "papermill": {
     "duration": 46.489537,
     "end_time": "2021-09-27T09:06:04.836092",
     "exception": false,
     "start_time": "2021-09-27T09:05:18.346555",
     "status": "completed"
    },
    "tags": []
   },
   "outputs": [],
   "source": [
    "!cat rplist.json | awk -F'\"url\": \"' '{print $2}'|awk -F'\"' '{print $1}' | while read i;do youtube-dl -j --flat-playlist $i >> pl_videos.json || echo $i >> retry;done"
   ]
  },
  {
   "cell_type": "code",
   "execution_count": 4,
   "metadata": {
    "execution": {
     "iopub.execute_input": "2021-09-27T09:06:04.857815Z",
     "iopub.status.busy": "2021-09-27T09:06:04.853092Z",
     "iopub.status.idle": "2021-09-27T09:06:09.785238Z",
     "shell.execute_reply": "2021-09-27T09:06:09.784717Z",
     "shell.execute_reply.started": "2021-09-21T10:15:13.122956Z"
    },
    "papermill": {
     "duration": 4.943203,
     "end_time": "2021-09-27T09:06:09.785394",
     "exception": false,
     "start_time": "2021-09-27T09:06:04.842191",
     "status": "completed"
    },
    "tags": []
   },
   "outputs": [],
   "source": [
    "!youtube-dl -j --flat-playlist \"https://www.youtube.com/c/heritageboard/videos?view=0&sort=dd&shelf_id=0\" > uploads.json"
   ]
  },
  {
   "cell_type": "markdown",
   "id": "acbc89ff",
   "metadata": {},
   "source": [
    "None of the following works"
   ]
  },
  {
   "cell_type": "code",
   "execution_count": 5,
   "metadata": {
    "execution": {
     "iopub.execute_input": "2021-09-27T09:06:09.802751Z",
     "iopub.status.busy": "2021-09-27T09:06:09.802155Z",
     "iopub.status.idle": "2021-09-27T09:06:09.804894Z",
     "shell.execute_reply": "2021-09-27T09:06:09.804460Z"
    },
    "papermill": {
     "duration": 0.013752,
     "end_time": "2021-09-27T09:06:09.805070",
     "exception": false,
     "start_time": "2021-09-27T09:06:09.791318",
     "status": "completed"
    },
    "tags": []
   },
   "outputs": [],
   "source": [
    "import json\n",
    "import requests\n",
    "cc_by = []\n",
    "other = []\n",
    "retry = []\n",
    "seen = []"
   ]
  },
  {
   "cell_type": "code",
   "execution_count": 6,
   "metadata": {
    "execution": {
     "iopub.execute_input": "2021-09-27T09:06:09.822758Z",
     "iopub.status.busy": "2021-09-27T09:06:09.822104Z",
     "iopub.status.idle": "2021-09-27T09:06:09.824812Z",
     "shell.execute_reply": "2021-09-27T09:06:09.824362Z"
    },
    "papermill": {
     "duration": 0.0139,
     "end_time": "2021-09-27T09:06:09.824959",
     "exception": false,
     "start_time": "2021-09-27T09:06:09.811059",
     "status": "completed"
    },
    "tags": []
   },
   "outputs": [],
   "source": [
    "lic = '\"Creative Commons Attribution licence (reuse allowed)\"'\n",
    "def inner(cur_id):\n",
    "    if cur_id in seen:\n",
    "        return\n",
    "    req = requests.get(f\"https://www.youtube.com/watch?v={cur_id}\")\n",
    "    if req.status_code != 200:\n",
    "        retry.append(cur_id)\n",
    "    if lic in req.text:\n",
    "        cc_by.append(cur_id)\n",
    "    else:\n",
    "        other.append(cur_id)\n",
    "    seen.append(cur_id)"
   ]
  },
  {
   "cell_type": "code",
   "execution_count": 7,
   "metadata": {
    "execution": {
     "iopub.execute_input": "2021-09-27T09:06:09.842276Z",
     "iopub.status.busy": "2021-09-27T09:06:09.841653Z",
     "iopub.status.idle": "2021-09-27T09:09:38.747420Z",
     "shell.execute_reply": "2021-09-27T09:09:38.746704Z",
     "shell.execute_reply.started": "2021-09-21T10:30:31.954847Z"
    },
    "papermill": {
     "duration": 208.916444,
     "end_time": "2021-09-27T09:09:38.747568",
     "exception": false,
     "start_time": "2021-09-27T09:06:09.831124",
     "status": "completed"
    },
    "tags": []
   },
   "outputs": [],
   "source": [
    "with open(\"pl_videos.json\") as pl_videos:\n",
    "    for line in pl_videos.readlines():\n",
    "        line_data = json.loads(line.strip())\n",
    "        inner(line_data['id'])\n",
    "with open(\"uploads.json\") as pl_videos:\n",
    "    for line in pl_videos.readlines():\n",
    "        line_data = json.loads(line.strip())\n",
    "        inner(line_data['id'])\n"
   ]
  },
  {
   "cell_type": "code",
   "execution_count": 8,
   "metadata": {
    "execution": {
     "iopub.execute_input": "2021-09-27T09:09:38.762546Z",
     "iopub.status.busy": "2021-09-27T09:09:38.762015Z",
     "iopub.status.idle": "2021-09-27T09:09:38.766688Z",
     "shell.execute_reply": "2021-09-27T09:09:38.766260Z",
     "shell.execute_reply.started": "2021-09-21T10:47:48.607989Z"
    },
    "papermill": {
     "duration": 0.013095,
     "end_time": "2021-09-27T09:09:38.766820",
     "exception": false,
     "start_time": "2021-09-27T09:09:38.753725",
     "status": "completed"
    },
    "tags": []
   },
   "outputs": [],
   "source": [
    "with open('proc.json', 'w') as outfile:\n",
    "    json.dump({'cc-by': cc_by, 'other': other, 'retry': retry}, outfile)"
   ]
  },
  {
   "cell_type": "markdown",
   "id": "f35ea9c2",
   "metadata": {},
   "source": [
    "Instead, this works:"
   ]
  },
  {
   "cell_type": "code",
   "execution_count": null,
   "id": "4bc55bc2",
   "metadata": {},
   "outputs": [],
   "source": [
    "!cat pl_videos.json uploads.json|awk -F'\"id\": \"' '{print $2}'|awk -F'\"' '{print $1}' | while read i;do youtube-dl --write-info-json --skip-download -o '%(id)s.%(ext)s' -- \"$i\" ;done"
   ]
  },
  {
   "cell_type": "code",
   "execution_count": null,
   "id": "1a2fa813",
   "metadata": {},
   "outputs": [],
   "source": []
  }
 ],
 "metadata": {
  "kernelspec": {
   "display_name": "Python 3",
   "language": "python",
   "name": "python3"
  },
  "language_info": {
   "codemirror_mode": {
    "name": "ipython",
    "version": 3
   },
   "file_extension": ".py",
   "mimetype": "text/x-python",
   "name": "python",
   "nbconvert_exporter": "python",
   "pygments_lexer": "ipython3",
   "version": "3.6.9"
  },
  "papermill": {
   "default_parameters": {},
   "duration": 280.72051,
   "end_time": "2021-09-27T09:09:40.276199",
   "environment_variables": {},
   "exception": null,
   "input_path": "__notebook__.ipynb",
   "output_path": "__notebook__.ipynb",
   "parameters": {},
   "start_time": "2021-09-27T09:04:59.555689",
   "version": "2.3.3"
  }
 },
 "nbformat": 4,
 "nbformat_minor": 5
}
