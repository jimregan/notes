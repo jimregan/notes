{
  "nbformat": 4,
  "nbformat_minor": 0,
  "metadata": {
    "accelerator": "GPU",
    "colab": {
      "name": "Fine-Tune XLS-R on Common Voice.ipynb",
      "provenance": [],
      "collapsed_sections": [],
      "toc_visible": true,
      "machine_shape": "hm"
    },
    "kernelspec": {
      "display_name": "Python 3",
      "name": "python3"
    },
    "widgets": {
      "application/vnd.jupyter.widget-state+json": {
        "68fc153b28dd46bc99d23be49042c211": {
          "model_module": "@jupyter-widgets/controls",
          "model_name": "VBoxModel",
          "model_module_version": "1.5.0",
          "state": {
            "_view_name": "VBoxView",
            "_dom_classes": [],
            "_model_name": "VBoxModel",
            "_view_module": "@jupyter-widgets/controls",
            "_model_module_version": "1.5.0",
            "_view_count": null,
            "_view_module_version": "1.5.0",
            "box_style": "",
            "layout": "IPY_MODEL_ea10e06bd7604dc7b96995b620288c5e",
            "_model_module": "@jupyter-widgets/controls",
            "children": [
              "IPY_MODEL_ddf014e7b61841c59a0a4f324cd8d24e",
              "IPY_MODEL_532dc75e333648b387f042f50b3d9599",
              "IPY_MODEL_09eaad5935b1405ca3637bf905e95d47"
            ]
          }
        },
        "ea10e06bd7604dc7b96995b620288c5e": {
          "model_module": "@jupyter-widgets/base",
          "model_name": "LayoutModel",
          "model_module_version": "1.2.0",
          "state": {
            "_view_name": "LayoutView",
            "grid_template_rows": null,
            "right": null,
            "justify_content": null,
            "_view_module": "@jupyter-widgets/base",
            "overflow": null,
            "_model_module_version": "1.2.0",
            "_view_count": null,
            "flex_flow": "column",
            "width": "50%",
            "min_width": null,
            "border": null,
            "align_items": "center",
            "bottom": null,
            "_model_module": "@jupyter-widgets/base",
            "top": null,
            "grid_column": null,
            "overflow_y": null,
            "overflow_x": null,
            "grid_auto_flow": null,
            "grid_area": null,
            "grid_template_columns": null,
            "flex": null,
            "_model_name": "LayoutModel",
            "justify_items": null,
            "grid_row": null,
            "max_height": null,
            "align_content": null,
            "visibility": null,
            "align_self": null,
            "height": null,
            "min_height": null,
            "padding": null,
            "grid_auto_rows": null,
            "grid_gap": null,
            "max_width": null,
            "order": null,
            "_view_module_version": "1.2.0",
            "grid_template_areas": null,
            "object_position": null,
            "object_fit": null,
            "grid_auto_columns": null,
            "margin": null,
            "display": "flex",
            "left": null
          }
        },
        "ddf014e7b61841c59a0a4f324cd8d24e": {
          "model_module": "@jupyter-widgets/controls",
          "model_name": "HTMLModel",
          "model_module_version": "1.5.0",
          "state": {
            "_view_name": "HTMLView",
            "style": "IPY_MODEL_b934047ffe4c47eeb1266f90124eb951",
            "_dom_classes": [],
            "description": "",
            "_model_name": "HTMLModel",
            "placeholder": "​",
            "_view_module": "@jupyter-widgets/controls",
            "_model_module_version": "1.5.0",
            "value": "<center>\n<img src=https://huggingface.co/front/assets/huggingface_logo-noborder.svg alt='Hugging Face'>\n<br>\n<b>The AI community building the future</b>\n<br>\nImmediately click login after typing your password or it might be stored in plain text in this notebook file.\n</center>",
            "_view_count": null,
            "_view_module_version": "1.5.0",
            "description_tooltip": null,
            "_model_module": "@jupyter-widgets/controls",
            "layout": "IPY_MODEL_7a14d287deb44c5285e1e7375d199de1"
          }
        },
        "532dc75e333648b387f042f50b3d9599": {
          "model_module": "@jupyter-widgets/controls",
          "model_name": "HBoxModel",
          "model_module_version": "1.5.0",
          "state": {
            "_view_name": "HBoxView",
            "_dom_classes": [],
            "_model_name": "HBoxModel",
            "_view_module": "@jupyter-widgets/controls",
            "_model_module_version": "1.5.0",
            "_view_count": null,
            "_view_module_version": "1.5.0",
            "box_style": "",
            "layout": "IPY_MODEL_21931f4c21114401804563999bb1119a",
            "_model_module": "@jupyter-widgets/controls",
            "children": [
              "IPY_MODEL_8f5f035a02a94d83be11f1d9f3871755",
              "IPY_MODEL_bc4e7cd0061f4576bdc37226e53ac3f4"
            ]
          }
        },
        "09eaad5935b1405ca3637bf905e95d47": {
          "model_module": "@jupyter-widgets/controls",
          "model_name": "ButtonModel",
          "model_module_version": "1.5.0",
          "state": {
            "_view_name": "ButtonView",
            "style": "IPY_MODEL_09b2a5819c40408481120982d5790fe9",
            "_dom_classes": [],
            "description": "Login",
            "_model_name": "ButtonModel",
            "button_style": "",
            "_view_module": "@jupyter-widgets/controls",
            "_model_module_version": "1.5.0",
            "tooltip": "",
            "_view_count": null,
            "disabled": false,
            "_view_module_version": "1.5.0",
            "layout": "IPY_MODEL_a058f70192494c76b7f23200a0f281cb",
            "_model_module": "@jupyter-widgets/controls",
            "icon": ""
          }
        },
        "b934047ffe4c47eeb1266f90124eb951": {
          "model_module": "@jupyter-widgets/controls",
          "model_name": "DescriptionStyleModel",
          "model_module_version": "1.5.0",
          "state": {
            "_view_name": "StyleView",
            "_model_name": "DescriptionStyleModel",
            "description_width": "",
            "_view_module": "@jupyter-widgets/base",
            "_model_module_version": "1.5.0",
            "_view_count": null,
            "_view_module_version": "1.2.0",
            "_model_module": "@jupyter-widgets/controls"
          }
        },
        "7a14d287deb44c5285e1e7375d199de1": {
          "model_module": "@jupyter-widgets/base",
          "model_name": "LayoutModel",
          "model_module_version": "1.2.0",
          "state": {
            "_view_name": "LayoutView",
            "grid_template_rows": null,
            "right": null,
            "justify_content": null,
            "_view_module": "@jupyter-widgets/base",
            "overflow": null,
            "_model_module_version": "1.2.0",
            "_view_count": null,
            "flex_flow": null,
            "width": null,
            "min_width": null,
            "border": null,
            "align_items": null,
            "bottom": null,
            "_model_module": "@jupyter-widgets/base",
            "top": null,
            "grid_column": null,
            "overflow_y": null,
            "overflow_x": null,
            "grid_auto_flow": null,
            "grid_area": null,
            "grid_template_columns": null,
            "flex": null,
            "_model_name": "LayoutModel",
            "justify_items": null,
            "grid_row": null,
            "max_height": null,
            "align_content": null,
            "visibility": null,
            "align_self": null,
            "height": null,
            "min_height": null,
            "padding": null,
            "grid_auto_rows": null,
            "grid_gap": null,
            "max_width": null,
            "order": null,
            "_view_module_version": "1.2.0",
            "grid_template_areas": null,
            "object_position": null,
            "object_fit": null,
            "grid_auto_columns": null,
            "margin": null,
            "display": null,
            "left": null
          }
        },
        "21931f4c21114401804563999bb1119a": {
          "model_module": "@jupyter-widgets/base",
          "model_name": "LayoutModel",
          "model_module_version": "1.2.0",
          "state": {
            "_view_name": "LayoutView",
            "grid_template_rows": null,
            "right": null,
            "justify_content": null,
            "_view_module": "@jupyter-widgets/base",
            "overflow": null,
            "_model_module_version": "1.2.0",
            "_view_count": null,
            "flex_flow": null,
            "width": null,
            "min_width": null,
            "border": null,
            "align_items": null,
            "bottom": null,
            "_model_module": "@jupyter-widgets/base",
            "top": null,
            "grid_column": null,
            "overflow_y": null,
            "overflow_x": null,
            "grid_auto_flow": null,
            "grid_area": null,
            "grid_template_columns": null,
            "flex": null,
            "_model_name": "LayoutModel",
            "justify_items": null,
            "grid_row": null,
            "max_height": null,
            "align_content": null,
            "visibility": null,
            "align_self": null,
            "height": null,
            "min_height": null,
            "padding": null,
            "grid_auto_rows": null,
            "grid_gap": null,
            "max_width": null,
            "order": null,
            "_view_module_version": "1.2.0",
            "grid_template_areas": null,
            "object_position": null,
            "object_fit": null,
            "grid_auto_columns": null,
            "margin": null,
            "display": null,
            "left": null
          }
        },
        "8f5f035a02a94d83be11f1d9f3871755": {
          "model_module": "@jupyter-widgets/controls",
          "model_name": "TextModel",
          "model_module_version": "1.5.0",
          "state": {
            "_view_name": "TextView",
            "style": "IPY_MODEL_fe776ef4c7a849ef80b0c45e4e10132d",
            "_dom_classes": [],
            "description": "Username:",
            "_model_name": "TextModel",
            "placeholder": "​",
            "_view_module": "@jupyter-widgets/controls",
            "_model_module_version": "1.5.0",
            "value": "jimregan",
            "_view_count": null,
            "disabled": false,
            "_view_module_version": "1.5.0",
            "continuous_update": true,
            "description_tooltip": null,
            "_model_module": "@jupyter-widgets/controls",
            "layout": "IPY_MODEL_cd3e4e2c8f304e7682771843e0af096b"
          }
        },
        "bc4e7cd0061f4576bdc37226e53ac3f4": {
          "model_module": "@jupyter-widgets/controls",
          "model_name": "PasswordModel",
          "model_module_version": "1.5.0",
          "state": {
            "_view_name": "PasswordView",
            "style": "IPY_MODEL_d4907befbfeb4ad39a6ee97622c062bf",
            "_dom_classes": [],
            "description": "Password:",
            "_model_name": "PasswordModel",
            "placeholder": "​",
            "_view_module": "@jupyter-widgets/controls",
            "_model_module_version": "1.5.0",
            "value": "",
            "_view_count": null,
            "disabled": false,
            "_view_module_version": "1.5.0",
            "continuous_update": true,
            "description_tooltip": null,
            "_model_module": "@jupyter-widgets/controls",
            "layout": "IPY_MODEL_6b10ed13c5b04fe5b68cf2e2ed410c06"
          }
        },
        "09b2a5819c40408481120982d5790fe9": {
          "model_module": "@jupyter-widgets/controls",
          "model_name": "ButtonStyleModel",
          "model_module_version": "1.5.0",
          "state": {
            "_view_name": "StyleView",
            "_model_name": "ButtonStyleModel",
            "_view_module": "@jupyter-widgets/base",
            "_model_module_version": "1.5.0",
            "_view_count": null,
            "button_color": null,
            "font_weight": "",
            "_view_module_version": "1.2.0",
            "_model_module": "@jupyter-widgets/controls"
          }
        },
        "a058f70192494c76b7f23200a0f281cb": {
          "model_module": "@jupyter-widgets/base",
          "model_name": "LayoutModel",
          "model_module_version": "1.2.0",
          "state": {
            "_view_name": "LayoutView",
            "grid_template_rows": null,
            "right": null,
            "justify_content": null,
            "_view_module": "@jupyter-widgets/base",
            "overflow": null,
            "_model_module_version": "1.2.0",
            "_view_count": null,
            "flex_flow": null,
            "width": null,
            "min_width": null,
            "border": null,
            "align_items": null,
            "bottom": null,
            "_model_module": "@jupyter-widgets/base",
            "top": null,
            "grid_column": null,
            "overflow_y": null,
            "overflow_x": null,
            "grid_auto_flow": null,
            "grid_area": null,
            "grid_template_columns": null,
            "flex": null,
            "_model_name": "LayoutModel",
            "justify_items": null,
            "grid_row": null,
            "max_height": null,
            "align_content": null,
            "visibility": null,
            "align_self": null,
            "height": null,
            "min_height": null,
            "padding": null,
            "grid_auto_rows": null,
            "grid_gap": null,
            "max_width": null,
            "order": null,
            "_view_module_version": "1.2.0",
            "grid_template_areas": null,
            "object_position": null,
            "object_fit": null,
            "grid_auto_columns": null,
            "margin": null,
            "display": null,
            "left": null
          }
        },
        "fe776ef4c7a849ef80b0c45e4e10132d": {
          "model_module": "@jupyter-widgets/controls",
          "model_name": "DescriptionStyleModel",
          "model_module_version": "1.5.0",
          "state": {
            "_view_name": "StyleView",
            "_model_name": "DescriptionStyleModel",
            "description_width": "",
            "_view_module": "@jupyter-widgets/base",
            "_model_module_version": "1.5.0",
            "_view_count": null,
            "_view_module_version": "1.2.0",
            "_model_module": "@jupyter-widgets/controls"
          }
        },
        "cd3e4e2c8f304e7682771843e0af096b": {
          "model_module": "@jupyter-widgets/base",
          "model_name": "LayoutModel",
          "model_module_version": "1.2.0",
          "state": {
            "_view_name": "LayoutView",
            "grid_template_rows": null,
            "right": null,
            "justify_content": null,
            "_view_module": "@jupyter-widgets/base",
            "overflow": null,
            "_model_module_version": "1.2.0",
            "_view_count": null,
            "flex_flow": null,
            "width": null,
            "min_width": null,
            "border": null,
            "align_items": null,
            "bottom": null,
            "_model_module": "@jupyter-widgets/base",
            "top": null,
            "grid_column": null,
            "overflow_y": null,
            "overflow_x": null,
            "grid_auto_flow": null,
            "grid_area": null,
            "grid_template_columns": null,
            "flex": null,
            "_model_name": "LayoutModel",
            "justify_items": null,
            "grid_row": null,
            "max_height": null,
            "align_content": null,
            "visibility": null,
            "align_self": null,
            "height": null,
            "min_height": null,
            "padding": null,
            "grid_auto_rows": null,
            "grid_gap": null,
            "max_width": null,
            "order": null,
            "_view_module_version": "1.2.0",
            "grid_template_areas": null,
            "object_position": null,
            "object_fit": null,
            "grid_auto_columns": null,
            "margin": null,
            "display": null,
            "left": null
          }
        },
        "d4907befbfeb4ad39a6ee97622c062bf": {
          "model_module": "@jupyter-widgets/controls",
          "model_name": "DescriptionStyleModel",
          "model_module_version": "1.5.0",
          "state": {
            "_view_name": "StyleView",
            "_model_name": "DescriptionStyleModel",
            "description_width": "",
            "_view_module": "@jupyter-widgets/base",
            "_model_module_version": "1.5.0",
            "_view_count": null,
            "_view_module_version": "1.2.0",
            "_model_module": "@jupyter-widgets/controls"
          }
        },
        "6b10ed13c5b04fe5b68cf2e2ed410c06": {
          "model_module": "@jupyter-widgets/base",
          "model_name": "LayoutModel",
          "model_module_version": "1.2.0",
          "state": {
            "_view_name": "LayoutView",
            "grid_template_rows": null,
            "right": null,
            "justify_content": null,
            "_view_module": "@jupyter-widgets/base",
            "overflow": null,
            "_model_module_version": "1.2.0",
            "_view_count": null,
            "flex_flow": null,
            "width": null,
            "min_width": null,
            "border": null,
            "align_items": null,
            "bottom": null,
            "_model_module": "@jupyter-widgets/base",
            "top": null,
            "grid_column": null,
            "overflow_y": null,
            "overflow_x": null,
            "grid_auto_flow": null,
            "grid_area": null,
            "grid_template_columns": null,
            "flex": null,
            "_model_name": "LayoutModel",
            "justify_items": null,
            "grid_row": null,
            "max_height": null,
            "align_content": null,
            "visibility": null,
            "align_self": null,
            "height": null,
            "min_height": null,
            "padding": null,
            "grid_auto_rows": null,
            "grid_gap": null,
            "max_width": null,
            "order": null,
            "_view_module_version": "1.2.0",
            "grid_template_areas": null,
            "object_position": null,
            "object_fit": null,
            "grid_auto_columns": null,
            "margin": null,
            "display": null,
            "left": null
          }
        },
        "b64932bf7b234058bb67dbd9591309af": {
          "model_module": "@jupyter-widgets/controls",
          "model_name": "HBoxModel",
          "model_module_version": "1.5.0",
          "state": {
            "_view_name": "HBoxView",
            "_dom_classes": [],
            "_model_name": "HBoxModel",
            "_view_module": "@jupyter-widgets/controls",
            "_model_module_version": "1.5.0",
            "_view_count": null,
            "_view_module_version": "1.5.0",
            "box_style": "",
            "layout": "IPY_MODEL_31df503f203e49cf88541a37e0fa2008",
            "_model_module": "@jupyter-widgets/controls",
            "children": [
              "IPY_MODEL_02297b75b5e6476b8d0ab4406af780c1",
              "IPY_MODEL_00af33e46622456085b4234449a40948",
              "IPY_MODEL_3b9a6b3c167542b193a7cff10e0b1843"
            ]
          }
        },
        "31df503f203e49cf88541a37e0fa2008": {
          "model_module": "@jupyter-widgets/base",
          "model_name": "LayoutModel",
          "model_module_version": "1.2.0",
          "state": {
            "_view_name": "LayoutView",
            "grid_template_rows": null,
            "right": null,
            "justify_content": null,
            "_view_module": "@jupyter-widgets/base",
            "overflow": null,
            "_model_module_version": "1.2.0",
            "_view_count": null,
            "flex_flow": null,
            "width": null,
            "min_width": null,
            "border": null,
            "align_items": null,
            "bottom": null,
            "_model_module": "@jupyter-widgets/base",
            "top": null,
            "grid_column": null,
            "overflow_y": null,
            "overflow_x": null,
            "grid_auto_flow": null,
            "grid_area": null,
            "grid_template_columns": null,
            "flex": null,
            "_model_name": "LayoutModel",
            "justify_items": null,
            "grid_row": null,
            "max_height": null,
            "align_content": null,
            "visibility": null,
            "align_self": null,
            "height": null,
            "min_height": null,
            "padding": null,
            "grid_auto_rows": null,
            "grid_gap": null,
            "max_width": null,
            "order": null,
            "_view_module_version": "1.2.0",
            "grid_template_areas": null,
            "object_position": null,
            "object_fit": null,
            "grid_auto_columns": null,
            "margin": null,
            "display": null,
            "left": null
          }
        },
        "02297b75b5e6476b8d0ab4406af780c1": {
          "model_module": "@jupyter-widgets/controls",
          "model_name": "HTMLModel",
          "model_module_version": "1.5.0",
          "state": {
            "_view_name": "HTMLView",
            "style": "IPY_MODEL_0459d874a786494b88db5102387588a2",
            "_dom_classes": [],
            "description": "",
            "_model_name": "HTMLModel",
            "placeholder": "​",
            "_view_module": "@jupyter-widgets/controls",
            "_model_module_version": "1.5.0",
            "value": "Downloading: ",
            "_view_count": null,
            "_view_module_version": "1.5.0",
            "description_tooltip": null,
            "_model_module": "@jupyter-widgets/controls",
            "layout": "IPY_MODEL_f957ff00fc6b4372a738d05f161c7375"
          }
        },
        "00af33e46622456085b4234449a40948": {
          "model_module": "@jupyter-widgets/controls",
          "model_name": "FloatProgressModel",
          "model_module_version": "1.5.0",
          "state": {
            "_view_name": "ProgressView",
            "style": "IPY_MODEL_925724f2c2b24b29b4ae8a7998dd7bde",
            "_dom_classes": [],
            "description": "",
            "_model_name": "FloatProgressModel",
            "bar_style": "success",
            "max": 4444,
            "_view_module": "@jupyter-widgets/controls",
            "_model_module_version": "1.5.0",
            "value": 4444,
            "_view_count": null,
            "_view_module_version": "1.5.0",
            "orientation": "horizontal",
            "min": 0,
            "description_tooltip": null,
            "_model_module": "@jupyter-widgets/controls",
            "layout": "IPY_MODEL_038bd4415577404eb1b0b8b373aec3ff"
          }
        },
        "3b9a6b3c167542b193a7cff10e0b1843": {
          "model_module": "@jupyter-widgets/controls",
          "model_name": "HTMLModel",
          "model_module_version": "1.5.0",
          "state": {
            "_view_name": "HTMLView",
            "style": "IPY_MODEL_a0be52f0fd4b422a8bf1a4bf7b9c5999",
            "_dom_classes": [],
            "description": "",
            "_model_name": "HTMLModel",
            "placeholder": "​",
            "_view_module": "@jupyter-widgets/controls",
            "_model_module_version": "1.5.0",
            "value": " 22.5k/? [00:00&lt;00:00, 438kB/s]",
            "_view_count": null,
            "_view_module_version": "1.5.0",
            "description_tooltip": null,
            "_model_module": "@jupyter-widgets/controls",
            "layout": "IPY_MODEL_2cb4c3e7914745359cb46aad4ddb314b"
          }
        },
        "0459d874a786494b88db5102387588a2": {
          "model_module": "@jupyter-widgets/controls",
          "model_name": "DescriptionStyleModel",
          "model_module_version": "1.5.0",
          "state": {
            "_view_name": "StyleView",
            "_model_name": "DescriptionStyleModel",
            "description_width": "",
            "_view_module": "@jupyter-widgets/base",
            "_model_module_version": "1.5.0",
            "_view_count": null,
            "_view_module_version": "1.2.0",
            "_model_module": "@jupyter-widgets/controls"
          }
        },
        "f957ff00fc6b4372a738d05f161c7375": {
          "model_module": "@jupyter-widgets/base",
          "model_name": "LayoutModel",
          "model_module_version": "1.2.0",
          "state": {
            "_view_name": "LayoutView",
            "grid_template_rows": null,
            "right": null,
            "justify_content": null,
            "_view_module": "@jupyter-widgets/base",
            "overflow": null,
            "_model_module_version": "1.2.0",
            "_view_count": null,
            "flex_flow": null,
            "width": null,
            "min_width": null,
            "border": null,
            "align_items": null,
            "bottom": null,
            "_model_module": "@jupyter-widgets/base",
            "top": null,
            "grid_column": null,
            "overflow_y": null,
            "overflow_x": null,
            "grid_auto_flow": null,
            "grid_area": null,
            "grid_template_columns": null,
            "flex": null,
            "_model_name": "LayoutModel",
            "justify_items": null,
            "grid_row": null,
            "max_height": null,
            "align_content": null,
            "visibility": null,
            "align_self": null,
            "height": null,
            "min_height": null,
            "padding": null,
            "grid_auto_rows": null,
            "grid_gap": null,
            "max_width": null,
            "order": null,
            "_view_module_version": "1.2.0",
            "grid_template_areas": null,
            "object_position": null,
            "object_fit": null,
            "grid_auto_columns": null,
            "margin": null,
            "display": null,
            "left": null
          }
        },
        "925724f2c2b24b29b4ae8a7998dd7bde": {
          "model_module": "@jupyter-widgets/controls",
          "model_name": "ProgressStyleModel",
          "model_module_version": "1.5.0",
          "state": {
            "_view_name": "StyleView",
            "_model_name": "ProgressStyleModel",
            "description_width": "",
            "_view_module": "@jupyter-widgets/base",
            "_model_module_version": "1.5.0",
            "_view_count": null,
            "_view_module_version": "1.2.0",
            "bar_color": null,
            "_model_module": "@jupyter-widgets/controls"
          }
        },
        "038bd4415577404eb1b0b8b373aec3ff": {
          "model_module": "@jupyter-widgets/base",
          "model_name": "LayoutModel",
          "model_module_version": "1.2.0",
          "state": {
            "_view_name": "LayoutView",
            "grid_template_rows": null,
            "right": null,
            "justify_content": null,
            "_view_module": "@jupyter-widgets/base",
            "overflow": null,
            "_model_module_version": "1.2.0",
            "_view_count": null,
            "flex_flow": null,
            "width": null,
            "min_width": null,
            "border": null,
            "align_items": null,
            "bottom": null,
            "_model_module": "@jupyter-widgets/base",
            "top": null,
            "grid_column": null,
            "overflow_y": null,
            "overflow_x": null,
            "grid_auto_flow": null,
            "grid_area": null,
            "grid_template_columns": null,
            "flex": null,
            "_model_name": "LayoutModel",
            "justify_items": null,
            "grid_row": null,
            "max_height": null,
            "align_content": null,
            "visibility": null,
            "align_self": null,
            "height": null,
            "min_height": null,
            "padding": null,
            "grid_auto_rows": null,
            "grid_gap": null,
            "max_width": null,
            "order": null,
            "_view_module_version": "1.2.0",
            "grid_template_areas": null,
            "object_position": null,
            "object_fit": null,
            "grid_auto_columns": null,
            "margin": null,
            "display": null,
            "left": null
          }
        },
        "a0be52f0fd4b422a8bf1a4bf7b9c5999": {
          "model_module": "@jupyter-widgets/controls",
          "model_name": "DescriptionStyleModel",
          "model_module_version": "1.5.0",
          "state": {
            "_view_name": "StyleView",
            "_model_name": "DescriptionStyleModel",
            "description_width": "",
            "_view_module": "@jupyter-widgets/base",
            "_model_module_version": "1.5.0",
            "_view_count": null,
            "_view_module_version": "1.2.0",
            "_model_module": "@jupyter-widgets/controls"
          }
        },
        "2cb4c3e7914745359cb46aad4ddb314b": {
          "model_module": "@jupyter-widgets/base",
          "model_name": "LayoutModel",
          "model_module_version": "1.2.0",
          "state": {
            "_view_name": "LayoutView",
            "grid_template_rows": null,
            "right": null,
            "justify_content": null,
            "_view_module": "@jupyter-widgets/base",
            "overflow": null,
            "_model_module_version": "1.2.0",
            "_view_count": null,
            "flex_flow": null,
            "width": null,
            "min_width": null,
            "border": null,
            "align_items": null,
            "bottom": null,
            "_model_module": "@jupyter-widgets/base",
            "top": null,
            "grid_column": null,
            "overflow_y": null,
            "overflow_x": null,
            "grid_auto_flow": null,
            "grid_area": null,
            "grid_template_columns": null,
            "flex": null,
            "_model_name": "LayoutModel",
            "justify_items": null,
            "grid_row": null,
            "max_height": null,
            "align_content": null,
            "visibility": null,
            "align_self": null,
            "height": null,
            "min_height": null,
            "padding": null,
            "grid_auto_rows": null,
            "grid_gap": null,
            "max_width": null,
            "order": null,
            "_view_module_version": "1.2.0",
            "grid_template_areas": null,
            "object_position": null,
            "object_fit": null,
            "grid_auto_columns": null,
            "margin": null,
            "display": null,
            "left": null
          }
        },
        "002114aa3b664365a166299b45c97cdf": {
          "model_module": "@jupyter-widgets/controls",
          "model_name": "HBoxModel",
          "model_module_version": "1.5.0",
          "state": {
            "_view_name": "HBoxView",
            "_dom_classes": [],
            "_model_name": "HBoxModel",
            "_view_module": "@jupyter-widgets/controls",
            "_model_module_version": "1.5.0",
            "_view_count": null,
            "_view_module_version": "1.5.0",
            "box_style": "",
            "layout": "IPY_MODEL_802f0e49f5714eb5946a0c8827aa3f0d",
            "_model_module": "@jupyter-widgets/controls",
            "children": [
              "IPY_MODEL_d5eb90bef8be47f4a3952c9f94244d60",
              "IPY_MODEL_39e086d885a04002b84852d332923105",
              "IPY_MODEL_1bc18b7314214e9a856c88c4e20097bf"
            ]
          }
        },
        "802f0e49f5714eb5946a0c8827aa3f0d": {
          "model_module": "@jupyter-widgets/base",
          "model_name": "LayoutModel",
          "model_module_version": "1.2.0",
          "state": {
            "_view_name": "LayoutView",
            "grid_template_rows": null,
            "right": null,
            "justify_content": null,
            "_view_module": "@jupyter-widgets/base",
            "overflow": null,
            "_model_module_version": "1.2.0",
            "_view_count": null,
            "flex_flow": null,
            "width": null,
            "min_width": null,
            "border": null,
            "align_items": null,
            "bottom": null,
            "_model_module": "@jupyter-widgets/base",
            "top": null,
            "grid_column": null,
            "overflow_y": null,
            "overflow_x": null,
            "grid_auto_flow": null,
            "grid_area": null,
            "grid_template_columns": null,
            "flex": null,
            "_model_name": "LayoutModel",
            "justify_items": null,
            "grid_row": null,
            "max_height": null,
            "align_content": null,
            "visibility": null,
            "align_self": null,
            "height": null,
            "min_height": null,
            "padding": null,
            "grid_auto_rows": null,
            "grid_gap": null,
            "max_width": null,
            "order": null,
            "_view_module_version": "1.2.0",
            "grid_template_areas": null,
            "object_position": null,
            "object_fit": null,
            "grid_auto_columns": null,
            "margin": null,
            "display": null,
            "left": null
          }
        },
        "d5eb90bef8be47f4a3952c9f94244d60": {
          "model_module": "@jupyter-widgets/controls",
          "model_name": "HTMLModel",
          "model_module_version": "1.5.0",
          "state": {
            "_view_name": "HTMLView",
            "style": "IPY_MODEL_65b16050edb44836a3f094894ca21919",
            "_dom_classes": [],
            "description": "",
            "_model_name": "HTMLModel",
            "placeholder": "​",
            "_view_module": "@jupyter-widgets/controls",
            "_model_module_version": "1.5.0",
            "value": "Downloading: ",
            "_view_count": null,
            "_view_module_version": "1.5.0",
            "description_tooltip": null,
            "_model_module": "@jupyter-widgets/controls",
            "layout": "IPY_MODEL_b8c13ee9e5684cb9bfcc20d8cdf84620"
          }
        },
        "39e086d885a04002b84852d332923105": {
          "model_module": "@jupyter-widgets/controls",
          "model_name": "FloatProgressModel",
          "model_module_version": "1.5.0",
          "state": {
            "_view_name": "ProgressView",
            "style": "IPY_MODEL_cf8e507d6f874234b186f6ab14ff7a04",
            "_dom_classes": [],
            "description": "",
            "_model_name": "FloatProgressModel",
            "bar_style": "success",
            "max": 10151,
            "_view_module": "@jupyter-widgets/controls",
            "_model_module_version": "1.5.0",
            "value": 10151,
            "_view_count": null,
            "_view_module_version": "1.5.0",
            "orientation": "horizontal",
            "min": 0,
            "description_tooltip": null,
            "_model_module": "@jupyter-widgets/controls",
            "layout": "IPY_MODEL_0eca856a47b448c5b57f51171582c8d6"
          }
        },
        "1bc18b7314214e9a856c88c4e20097bf": {
          "model_module": "@jupyter-widgets/controls",
          "model_name": "HTMLModel",
          "model_module_version": "1.5.0",
          "state": {
            "_view_name": "HTMLView",
            "style": "IPY_MODEL_67c2440c505e45f0905a6d88ac1d9aa2",
            "_dom_classes": [],
            "description": "",
            "_model_name": "HTMLModel",
            "placeholder": "​",
            "_view_module": "@jupyter-widgets/controls",
            "_model_module_version": "1.5.0",
            "value": " 161k/? [00:00&lt;00:00, 3.67MB/s]",
            "_view_count": null,
            "_view_module_version": "1.5.0",
            "description_tooltip": null,
            "_model_module": "@jupyter-widgets/controls",
            "layout": "IPY_MODEL_d4db0d4b26c24de0a7bff6c503f2b748"
          }
        },
        "65b16050edb44836a3f094894ca21919": {
          "model_module": "@jupyter-widgets/controls",
          "model_name": "DescriptionStyleModel",
          "model_module_version": "1.5.0",
          "state": {
            "_view_name": "StyleView",
            "_model_name": "DescriptionStyleModel",
            "description_width": "",
            "_view_module": "@jupyter-widgets/base",
            "_model_module_version": "1.5.0",
            "_view_count": null,
            "_view_module_version": "1.2.0",
            "_model_module": "@jupyter-widgets/controls"
          }
        },
        "b8c13ee9e5684cb9bfcc20d8cdf84620": {
          "model_module": "@jupyter-widgets/base",
          "model_name": "LayoutModel",
          "model_module_version": "1.2.0",
          "state": {
            "_view_name": "LayoutView",
            "grid_template_rows": null,
            "right": null,
            "justify_content": null,
            "_view_module": "@jupyter-widgets/base",
            "overflow": null,
            "_model_module_version": "1.2.0",
            "_view_count": null,
            "flex_flow": null,
            "width": null,
            "min_width": null,
            "border": null,
            "align_items": null,
            "bottom": null,
            "_model_module": "@jupyter-widgets/base",
            "top": null,
            "grid_column": null,
            "overflow_y": null,
            "overflow_x": null,
            "grid_auto_flow": null,
            "grid_area": null,
            "grid_template_columns": null,
            "flex": null,
            "_model_name": "LayoutModel",
            "justify_items": null,
            "grid_row": null,
            "max_height": null,
            "align_content": null,
            "visibility": null,
            "align_self": null,
            "height": null,
            "min_height": null,
            "padding": null,
            "grid_auto_rows": null,
            "grid_gap": null,
            "max_width": null,
            "order": null,
            "_view_module_version": "1.2.0",
            "grid_template_areas": null,
            "object_position": null,
            "object_fit": null,
            "grid_auto_columns": null,
            "margin": null,
            "display": null,
            "left": null
          }
        },
        "cf8e507d6f874234b186f6ab14ff7a04": {
          "model_module": "@jupyter-widgets/controls",
          "model_name": "ProgressStyleModel",
          "model_module_version": "1.5.0",
          "state": {
            "_view_name": "StyleView",
            "_model_name": "ProgressStyleModel",
            "description_width": "",
            "_view_module": "@jupyter-widgets/base",
            "_model_module_version": "1.5.0",
            "_view_count": null,
            "_view_module_version": "1.2.0",
            "bar_color": null,
            "_model_module": "@jupyter-widgets/controls"
          }
        },
        "0eca856a47b448c5b57f51171582c8d6": {
          "model_module": "@jupyter-widgets/base",
          "model_name": "LayoutModel",
          "model_module_version": "1.2.0",
          "state": {
            "_view_name": "LayoutView",
            "grid_template_rows": null,
            "right": null,
            "justify_content": null,
            "_view_module": "@jupyter-widgets/base",
            "overflow": null,
            "_model_module_version": "1.2.0",
            "_view_count": null,
            "flex_flow": null,
            "width": null,
            "min_width": null,
            "border": null,
            "align_items": null,
            "bottom": null,
            "_model_module": "@jupyter-widgets/base",
            "top": null,
            "grid_column": null,
            "overflow_y": null,
            "overflow_x": null,
            "grid_auto_flow": null,
            "grid_area": null,
            "grid_template_columns": null,
            "flex": null,
            "_model_name": "LayoutModel",
            "justify_items": null,
            "grid_row": null,
            "max_height": null,
            "align_content": null,
            "visibility": null,
            "align_self": null,
            "height": null,
            "min_height": null,
            "padding": null,
            "grid_auto_rows": null,
            "grid_gap": null,
            "max_width": null,
            "order": null,
            "_view_module_version": "1.2.0",
            "grid_template_areas": null,
            "object_position": null,
            "object_fit": null,
            "grid_auto_columns": null,
            "margin": null,
            "display": null,
            "left": null
          }
        },
        "67c2440c505e45f0905a6d88ac1d9aa2": {
          "model_module": "@jupyter-widgets/controls",
          "model_name": "DescriptionStyleModel",
          "model_module_version": "1.5.0",
          "state": {
            "_view_name": "StyleView",
            "_model_name": "DescriptionStyleModel",
            "description_width": "",
            "_view_module": "@jupyter-widgets/base",
            "_model_module_version": "1.5.0",
            "_view_count": null,
            "_view_module_version": "1.2.0",
            "_model_module": "@jupyter-widgets/controls"
          }
        },
        "d4db0d4b26c24de0a7bff6c503f2b748": {
          "model_module": "@jupyter-widgets/base",
          "model_name": "LayoutModel",
          "model_module_version": "1.2.0",
          "state": {
            "_view_name": "LayoutView",
            "grid_template_rows": null,
            "right": null,
            "justify_content": null,
            "_view_module": "@jupyter-widgets/base",
            "overflow": null,
            "_model_module_version": "1.2.0",
            "_view_count": null,
            "flex_flow": null,
            "width": null,
            "min_width": null,
            "border": null,
            "align_items": null,
            "bottom": null,
            "_model_module": "@jupyter-widgets/base",
            "top": null,
            "grid_column": null,
            "overflow_y": null,
            "overflow_x": null,
            "grid_auto_flow": null,
            "grid_area": null,
            "grid_template_columns": null,
            "flex": null,
            "_model_name": "LayoutModel",
            "justify_items": null,
            "grid_row": null,
            "max_height": null,
            "align_content": null,
            "visibility": null,
            "align_self": null,
            "height": null,
            "min_height": null,
            "padding": null,
            "grid_auto_rows": null,
            "grid_gap": null,
            "max_width": null,
            "order": null,
            "_view_module_version": "1.2.0",
            "grid_template_areas": null,
            "object_position": null,
            "object_fit": null,
            "grid_auto_columns": null,
            "margin": null,
            "display": null,
            "left": null
          }
        },
        "de40437918814125abd5d2434c0dd8af": {
          "model_module": "@jupyter-widgets/controls",
          "model_name": "HBoxModel",
          "model_module_version": "1.5.0",
          "state": {
            "_view_name": "HBoxView",
            "_dom_classes": [],
            "_model_name": "HBoxModel",
            "_view_module": "@jupyter-widgets/controls",
            "_model_module_version": "1.5.0",
            "_view_count": null,
            "_view_module_version": "1.5.0",
            "box_style": "",
            "layout": "IPY_MODEL_5327be10729b4d9b913e92f4634f1c93",
            "_model_module": "@jupyter-widgets/controls",
            "children": [
              "IPY_MODEL_d2ca4d3a7f6846d5b8a5c934595d6d71",
              "IPY_MODEL_7c222ad3d0a348d69993a800e76775a0",
              "IPY_MODEL_7151a0afc7b54b6189c1387441c32e99"
            ]
          }
        },
        "5327be10729b4d9b913e92f4634f1c93": {
          "model_module": "@jupyter-widgets/base",
          "model_name": "LayoutModel",
          "model_module_version": "1.2.0",
          "state": {
            "_view_name": "LayoutView",
            "grid_template_rows": null,
            "right": null,
            "justify_content": null,
            "_view_module": "@jupyter-widgets/base",
            "overflow": null,
            "_model_module_version": "1.2.0",
            "_view_count": null,
            "flex_flow": null,
            "width": null,
            "min_width": null,
            "border": null,
            "align_items": null,
            "bottom": null,
            "_model_module": "@jupyter-widgets/base",
            "top": null,
            "grid_column": null,
            "overflow_y": null,
            "overflow_x": null,
            "grid_auto_flow": null,
            "grid_area": null,
            "grid_template_columns": null,
            "flex": null,
            "_model_name": "LayoutModel",
            "justify_items": null,
            "grid_row": null,
            "max_height": null,
            "align_content": null,
            "visibility": null,
            "align_self": null,
            "height": null,
            "min_height": null,
            "padding": null,
            "grid_auto_rows": null,
            "grid_gap": null,
            "max_width": null,
            "order": null,
            "_view_module_version": "1.2.0",
            "grid_template_areas": null,
            "object_position": null,
            "object_fit": null,
            "grid_auto_columns": null,
            "margin": null,
            "display": null,
            "left": null
          }
        },
        "d2ca4d3a7f6846d5b8a5c934595d6d71": {
          "model_module": "@jupyter-widgets/controls",
          "model_name": "HTMLModel",
          "model_module_version": "1.5.0",
          "state": {
            "_view_name": "HTMLView",
            "style": "IPY_MODEL_0dc51898681043adbd63b7163aa1c214",
            "_dom_classes": [],
            "description": "",
            "_model_name": "HTMLModel",
            "placeholder": "​",
            "_view_module": "@jupyter-widgets/controls",
            "_model_module_version": "1.5.0",
            "value": "Downloading: 100%",
            "_view_count": null,
            "_view_module_version": "1.5.0",
            "description_tooltip": null,
            "_model_module": "@jupyter-widgets/controls",
            "layout": "IPY_MODEL_058e4bce6cd745b1883fc7f475a3ca00"
          }
        },
        "7c222ad3d0a348d69993a800e76775a0": {
          "model_module": "@jupyter-widgets/controls",
          "model_name": "FloatProgressModel",
          "model_module_version": "1.5.0",
          "state": {
            "_view_name": "ProgressView",
            "style": "IPY_MODEL_44eeceb7eb374102986a4d0ff292031a",
            "_dom_classes": [],
            "description": "",
            "_model_name": "FloatProgressModel",
            "bar_style": "success",
            "max": 156553447,
            "_view_module": "@jupyter-widgets/controls",
            "_model_module_version": "1.5.0",
            "value": 156553447,
            "_view_count": null,
            "_view_module_version": "1.5.0",
            "orientation": "horizontal",
            "min": 0,
            "description_tooltip": null,
            "_model_module": "@jupyter-widgets/controls",
            "layout": "IPY_MODEL_ac64e4018c1849f7bd719ce073cdfdd9"
          }
        },
        "7151a0afc7b54b6189c1387441c32e99": {
          "model_module": "@jupyter-widgets/controls",
          "model_name": "HTMLModel",
          "model_module_version": "1.5.0",
          "state": {
            "_view_name": "HTMLView",
            "style": "IPY_MODEL_a09a26ca311f436f9f89f0a37fd9eed1",
            "_dom_classes": [],
            "description": "",
            "_model_name": "HTMLModel",
            "placeholder": "​",
            "_view_module": "@jupyter-widgets/controls",
            "_model_module_version": "1.5.0",
            "value": " 157M/157M [00:05&lt;00:00, 32.9MB/s]",
            "_view_count": null,
            "_view_module_version": "1.5.0",
            "description_tooltip": null,
            "_model_module": "@jupyter-widgets/controls",
            "layout": "IPY_MODEL_8c865d4ef03c4222b4acc5000f20b645"
          }
        },
        "0dc51898681043adbd63b7163aa1c214": {
          "model_module": "@jupyter-widgets/controls",
          "model_name": "DescriptionStyleModel",
          "model_module_version": "1.5.0",
          "state": {
            "_view_name": "StyleView",
            "_model_name": "DescriptionStyleModel",
            "description_width": "",
            "_view_module": "@jupyter-widgets/base",
            "_model_module_version": "1.5.0",
            "_view_count": null,
            "_view_module_version": "1.2.0",
            "_model_module": "@jupyter-widgets/controls"
          }
        },
        "058e4bce6cd745b1883fc7f475a3ca00": {
          "model_module": "@jupyter-widgets/base",
          "model_name": "LayoutModel",
          "model_module_version": "1.2.0",
          "state": {
            "_view_name": "LayoutView",
            "grid_template_rows": null,
            "right": null,
            "justify_content": null,
            "_view_module": "@jupyter-widgets/base",
            "overflow": null,
            "_model_module_version": "1.2.0",
            "_view_count": null,
            "flex_flow": null,
            "width": null,
            "min_width": null,
            "border": null,
            "align_items": null,
            "bottom": null,
            "_model_module": "@jupyter-widgets/base",
            "top": null,
            "grid_column": null,
            "overflow_y": null,
            "overflow_x": null,
            "grid_auto_flow": null,
            "grid_area": null,
            "grid_template_columns": null,
            "flex": null,
            "_model_name": "LayoutModel",
            "justify_items": null,
            "grid_row": null,
            "max_height": null,
            "align_content": null,
            "visibility": null,
            "align_self": null,
            "height": null,
            "min_height": null,
            "padding": null,
            "grid_auto_rows": null,
            "grid_gap": null,
            "max_width": null,
            "order": null,
            "_view_module_version": "1.2.0",
            "grid_template_areas": null,
            "object_position": null,
            "object_fit": null,
            "grid_auto_columns": null,
            "margin": null,
            "display": null,
            "left": null
          }
        },
        "44eeceb7eb374102986a4d0ff292031a": {
          "model_module": "@jupyter-widgets/controls",
          "model_name": "ProgressStyleModel",
          "model_module_version": "1.5.0",
          "state": {
            "_view_name": "StyleView",
            "_model_name": "ProgressStyleModel",
            "description_width": "",
            "_view_module": "@jupyter-widgets/base",
            "_model_module_version": "1.5.0",
            "_view_count": null,
            "_view_module_version": "1.2.0",
            "bar_color": null,
            "_model_module": "@jupyter-widgets/controls"
          }
        },
        "ac64e4018c1849f7bd719ce073cdfdd9": {
          "model_module": "@jupyter-widgets/base",
          "model_name": "LayoutModel",
          "model_module_version": "1.2.0",
          "state": {
            "_view_name": "LayoutView",
            "grid_template_rows": null,
            "right": null,
            "justify_content": null,
            "_view_module": "@jupyter-widgets/base",
            "overflow": null,
            "_model_module_version": "1.2.0",
            "_view_count": null,
            "flex_flow": null,
            "width": null,
            "min_width": null,
            "border": null,
            "align_items": null,
            "bottom": null,
            "_model_module": "@jupyter-widgets/base",
            "top": null,
            "grid_column": null,
            "overflow_y": null,
            "overflow_x": null,
            "grid_auto_flow": null,
            "grid_area": null,
            "grid_template_columns": null,
            "flex": null,
            "_model_name": "LayoutModel",
            "justify_items": null,
            "grid_row": null,
            "max_height": null,
            "align_content": null,
            "visibility": null,
            "align_self": null,
            "height": null,
            "min_height": null,
            "padding": null,
            "grid_auto_rows": null,
            "grid_gap": null,
            "max_width": null,
            "order": null,
            "_view_module_version": "1.2.0",
            "grid_template_areas": null,
            "object_position": null,
            "object_fit": null,
            "grid_auto_columns": null,
            "margin": null,
            "display": null,
            "left": null
          }
        },
        "a09a26ca311f436f9f89f0a37fd9eed1": {
          "model_module": "@jupyter-widgets/controls",
          "model_name": "DescriptionStyleModel",
          "model_module_version": "1.5.0",
          "state": {
            "_view_name": "StyleView",
            "_model_name": "DescriptionStyleModel",
            "description_width": "",
            "_view_module": "@jupyter-widgets/base",
            "_model_module_version": "1.5.0",
            "_view_count": null,
            "_view_module_version": "1.2.0",
            "_model_module": "@jupyter-widgets/controls"
          }
        },
        "8c865d4ef03c4222b4acc5000f20b645": {
          "model_module": "@jupyter-widgets/base",
          "model_name": "LayoutModel",
          "model_module_version": "1.2.0",
          "state": {
            "_view_name": "LayoutView",
            "grid_template_rows": null,
            "right": null,
            "justify_content": null,
            "_view_module": "@jupyter-widgets/base",
            "overflow": null,
            "_model_module_version": "1.2.0",
            "_view_count": null,
            "flex_flow": null,
            "width": null,
            "min_width": null,
            "border": null,
            "align_items": null,
            "bottom": null,
            "_model_module": "@jupyter-widgets/base",
            "top": null,
            "grid_column": null,
            "overflow_y": null,
            "overflow_x": null,
            "grid_auto_flow": null,
            "grid_area": null,
            "grid_template_columns": null,
            "flex": null,
            "_model_name": "LayoutModel",
            "justify_items": null,
            "grid_row": null,
            "max_height": null,
            "align_content": null,
            "visibility": null,
            "align_self": null,
            "height": null,
            "min_height": null,
            "padding": null,
            "grid_auto_rows": null,
            "grid_gap": null,
            "max_width": null,
            "order": null,
            "_view_module_version": "1.2.0",
            "grid_template_areas": null,
            "object_position": null,
            "object_fit": null,
            "grid_auto_columns": null,
            "margin": null,
            "display": null,
            "left": null
          }
        },
        "92aa31ccdcb8463db277a0c2443a386c": {
          "model_module": "@jupyter-widgets/controls",
          "model_name": "HBoxModel",
          "model_module_version": "1.5.0",
          "state": {
            "_view_name": "HBoxView",
            "_dom_classes": [],
            "_model_name": "HBoxModel",
            "_view_module": "@jupyter-widgets/controls",
            "_model_module_version": "1.5.0",
            "_view_count": null,
            "_view_module_version": "1.5.0",
            "box_style": "",
            "layout": "IPY_MODEL_4867da8250b74509b9b85d13835d1e66",
            "_model_module": "@jupyter-widgets/controls",
            "children": [
              "IPY_MODEL_c2ebb48786bd4a15a77666bc9c7d5e68",
              "IPY_MODEL_a8a205a3487a4de086eac36daee4d019",
              "IPY_MODEL_dca79aa7402c4051aa9f34ee2ff5f32d"
            ]
          }
        },
        "4867da8250b74509b9b85d13835d1e66": {
          "model_module": "@jupyter-widgets/base",
          "model_name": "LayoutModel",
          "model_module_version": "1.2.0",
          "state": {
            "_view_name": "LayoutView",
            "grid_template_rows": null,
            "right": null,
            "justify_content": null,
            "_view_module": "@jupyter-widgets/base",
            "overflow": null,
            "_model_module_version": "1.2.0",
            "_view_count": null,
            "flex_flow": null,
            "width": null,
            "min_width": null,
            "border": null,
            "align_items": null,
            "bottom": null,
            "_model_module": "@jupyter-widgets/base",
            "top": null,
            "grid_column": null,
            "overflow_y": null,
            "overflow_x": null,
            "grid_auto_flow": null,
            "grid_area": null,
            "grid_template_columns": null,
            "flex": null,
            "_model_name": "LayoutModel",
            "justify_items": null,
            "grid_row": null,
            "max_height": null,
            "align_content": null,
            "visibility": null,
            "align_self": null,
            "height": null,
            "min_height": null,
            "padding": null,
            "grid_auto_rows": null,
            "grid_gap": null,
            "max_width": null,
            "order": null,
            "_view_module_version": "1.2.0",
            "grid_template_areas": null,
            "object_position": null,
            "object_fit": null,
            "grid_auto_columns": null,
            "margin": null,
            "display": null,
            "left": null
          }
        },
        "c2ebb48786bd4a15a77666bc9c7d5e68": {
          "model_module": "@jupyter-widgets/controls",
          "model_name": "HTMLModel",
          "model_module_version": "1.5.0",
          "state": {
            "_view_name": "HTMLView",
            "style": "IPY_MODEL_dc5bfab0312d4a378d8c51488ad376c5",
            "_dom_classes": [],
            "description": "",
            "_model_name": "HTMLModel",
            "placeholder": "​",
            "_view_module": "@jupyter-widgets/controls",
            "_model_module_version": "1.5.0",
            "value": "",
            "_view_count": null,
            "_view_module_version": "1.5.0",
            "description_tooltip": null,
            "_model_module": "@jupyter-widgets/controls",
            "layout": "IPY_MODEL_a8a1ed1822bf40328e16fb1599f18d77"
          }
        },
        "a8a205a3487a4de086eac36daee4d019": {
          "model_module": "@jupyter-widgets/controls",
          "model_name": "FloatProgressModel",
          "model_module_version": "1.5.0",
          "state": {
            "_view_name": "ProgressView",
            "style": "IPY_MODEL_0e708d5a3c9947a1bf09f25655c5ce25",
            "_dom_classes": [],
            "description": "",
            "_model_name": "FloatProgressModel",
            "bar_style": "info",
            "max": 1,
            "_view_module": "@jupyter-widgets/controls",
            "_model_module_version": "1.5.0",
            "value": 1,
            "_view_count": null,
            "_view_module_version": "1.5.0",
            "orientation": "horizontal",
            "min": 0,
            "description_tooltip": null,
            "_model_module": "@jupyter-widgets/controls",
            "layout": "IPY_MODEL_a43e47b0417e4b069d6382086e3eff1e"
          }
        },
        "dca79aa7402c4051aa9f34ee2ff5f32d": {
          "model_module": "@jupyter-widgets/controls",
          "model_name": "HTMLModel",
          "model_module_version": "1.5.0",
          "state": {
            "_view_name": "HTMLView",
            "style": "IPY_MODEL_36112de9855c4542a7cd259e9c35dd01",
            "_dom_classes": [],
            "description": "",
            "_model_name": "HTMLModel",
            "placeholder": "​",
            "_view_module": "@jupyter-widgets/controls",
            "_model_module_version": "1.5.0",
            "value": " 264/0 [00:00&lt;00:00, 2631.21 examples/s]",
            "_view_count": null,
            "_view_module_version": "1.5.0",
            "description_tooltip": null,
            "_model_module": "@jupyter-widgets/controls",
            "layout": "IPY_MODEL_80a2d0d3272b439e8a5c2d7ff75a23d1"
          }
        },
        "dc5bfab0312d4a378d8c51488ad376c5": {
          "model_module": "@jupyter-widgets/controls",
          "model_name": "DescriptionStyleModel",
          "model_module_version": "1.5.0",
          "state": {
            "_view_name": "StyleView",
            "_model_name": "DescriptionStyleModel",
            "description_width": "",
            "_view_module": "@jupyter-widgets/base",
            "_model_module_version": "1.5.0",
            "_view_count": null,
            "_view_module_version": "1.2.0",
            "_model_module": "@jupyter-widgets/controls"
          }
        },
        "a8a1ed1822bf40328e16fb1599f18d77": {
          "model_module": "@jupyter-widgets/base",
          "model_name": "LayoutModel",
          "model_module_version": "1.2.0",
          "state": {
            "_view_name": "LayoutView",
            "grid_template_rows": null,
            "right": null,
            "justify_content": null,
            "_view_module": "@jupyter-widgets/base",
            "overflow": null,
            "_model_module_version": "1.2.0",
            "_view_count": null,
            "flex_flow": null,
            "width": null,
            "min_width": null,
            "border": null,
            "align_items": null,
            "bottom": null,
            "_model_module": "@jupyter-widgets/base",
            "top": null,
            "grid_column": null,
            "overflow_y": null,
            "overflow_x": null,
            "grid_auto_flow": null,
            "grid_area": null,
            "grid_template_columns": null,
            "flex": null,
            "_model_name": "LayoutModel",
            "justify_items": null,
            "grid_row": null,
            "max_height": null,
            "align_content": null,
            "visibility": null,
            "align_self": null,
            "height": null,
            "min_height": null,
            "padding": null,
            "grid_auto_rows": null,
            "grid_gap": null,
            "max_width": null,
            "order": null,
            "_view_module_version": "1.2.0",
            "grid_template_areas": null,
            "object_position": null,
            "object_fit": null,
            "grid_auto_columns": null,
            "margin": null,
            "display": null,
            "left": null
          }
        },
        "0e708d5a3c9947a1bf09f25655c5ce25": {
          "model_module": "@jupyter-widgets/controls",
          "model_name": "ProgressStyleModel",
          "model_module_version": "1.5.0",
          "state": {
            "_view_name": "StyleView",
            "_model_name": "ProgressStyleModel",
            "description_width": "",
            "_view_module": "@jupyter-widgets/base",
            "_model_module_version": "1.5.0",
            "_view_count": null,
            "_view_module_version": "1.2.0",
            "bar_color": null,
            "_model_module": "@jupyter-widgets/controls"
          }
        },
        "a43e47b0417e4b069d6382086e3eff1e": {
          "model_module": "@jupyter-widgets/base",
          "model_name": "LayoutModel",
          "model_module_version": "1.2.0",
          "state": {
            "_view_name": "LayoutView",
            "grid_template_rows": null,
            "right": null,
            "justify_content": null,
            "_view_module": "@jupyter-widgets/base",
            "overflow": null,
            "_model_module_version": "1.2.0",
            "_view_count": null,
            "flex_flow": null,
            "width": "20px",
            "min_width": null,
            "border": null,
            "align_items": null,
            "bottom": null,
            "_model_module": "@jupyter-widgets/base",
            "top": null,
            "grid_column": null,
            "overflow_y": null,
            "overflow_x": null,
            "grid_auto_flow": null,
            "grid_area": null,
            "grid_template_columns": null,
            "flex": null,
            "_model_name": "LayoutModel",
            "justify_items": null,
            "grid_row": null,
            "max_height": null,
            "align_content": null,
            "visibility": null,
            "align_self": null,
            "height": null,
            "min_height": null,
            "padding": null,
            "grid_auto_rows": null,
            "grid_gap": null,
            "max_width": null,
            "order": null,
            "_view_module_version": "1.2.0",
            "grid_template_areas": null,
            "object_position": null,
            "object_fit": null,
            "grid_auto_columns": null,
            "margin": null,
            "display": null,
            "left": null
          }
        },
        "36112de9855c4542a7cd259e9c35dd01": {
          "model_module": "@jupyter-widgets/controls",
          "model_name": "DescriptionStyleModel",
          "model_module_version": "1.5.0",
          "state": {
            "_view_name": "StyleView",
            "_model_name": "DescriptionStyleModel",
            "description_width": "",
            "_view_module": "@jupyter-widgets/base",
            "_model_module_version": "1.5.0",
            "_view_count": null,
            "_view_module_version": "1.2.0",
            "_model_module": "@jupyter-widgets/controls"
          }
        },
        "80a2d0d3272b439e8a5c2d7ff75a23d1": {
          "model_module": "@jupyter-widgets/base",
          "model_name": "LayoutModel",
          "model_module_version": "1.2.0",
          "state": {
            "_view_name": "LayoutView",
            "grid_template_rows": null,
            "right": null,
            "justify_content": null,
            "_view_module": "@jupyter-widgets/base",
            "overflow": null,
            "_model_module_version": "1.2.0",
            "_view_count": null,
            "flex_flow": null,
            "width": null,
            "min_width": null,
            "border": null,
            "align_items": null,
            "bottom": null,
            "_model_module": "@jupyter-widgets/base",
            "top": null,
            "grid_column": null,
            "overflow_y": null,
            "overflow_x": null,
            "grid_auto_flow": null,
            "grid_area": null,
            "grid_template_columns": null,
            "flex": null,
            "_model_name": "LayoutModel",
            "justify_items": null,
            "grid_row": null,
            "max_height": null,
            "align_content": null,
            "visibility": null,
            "align_self": null,
            "height": null,
            "min_height": null,
            "padding": null,
            "grid_auto_rows": null,
            "grid_gap": null,
            "max_width": null,
            "order": null,
            "_view_module_version": "1.2.0",
            "grid_template_areas": null,
            "object_position": null,
            "object_fit": null,
            "grid_auto_columns": null,
            "margin": null,
            "display": null,
            "left": null
          }
        },
        "e75d7574cc14422b992517b322ee81b5": {
          "model_module": "@jupyter-widgets/controls",
          "model_name": "HBoxModel",
          "model_module_version": "1.5.0",
          "state": {
            "_view_name": "HBoxView",
            "_dom_classes": [],
            "_model_name": "HBoxModel",
            "_view_module": "@jupyter-widgets/controls",
            "_model_module_version": "1.5.0",
            "_view_count": null,
            "_view_module_version": "1.5.0",
            "box_style": "",
            "layout": "IPY_MODEL_6aad6506b6db4b4886330bbf606399e8",
            "_model_module": "@jupyter-widgets/controls",
            "children": [
              "IPY_MODEL_63ba8797812241f4965a9a64bb91d2c3",
              "IPY_MODEL_201c90d26f8f4b8fb3a9f718c0bdef7a",
              "IPY_MODEL_b0814c348c7b4550ad762ea6ecd03ed1"
            ]
          }
        },
        "6aad6506b6db4b4886330bbf606399e8": {
          "model_module": "@jupyter-widgets/base",
          "model_name": "LayoutModel",
          "model_module_version": "1.2.0",
          "state": {
            "_view_name": "LayoutView",
            "grid_template_rows": null,
            "right": null,
            "justify_content": null,
            "_view_module": "@jupyter-widgets/base",
            "overflow": null,
            "_model_module_version": "1.2.0",
            "_view_count": null,
            "flex_flow": null,
            "width": null,
            "min_width": null,
            "border": null,
            "align_items": null,
            "bottom": null,
            "_model_module": "@jupyter-widgets/base",
            "top": null,
            "grid_column": null,
            "overflow_y": null,
            "overflow_x": null,
            "grid_auto_flow": null,
            "grid_area": null,
            "grid_template_columns": null,
            "flex": null,
            "_model_name": "LayoutModel",
            "justify_items": null,
            "grid_row": null,
            "max_height": null,
            "align_content": null,
            "visibility": null,
            "align_self": null,
            "height": null,
            "min_height": null,
            "padding": null,
            "grid_auto_rows": null,
            "grid_gap": null,
            "max_width": null,
            "order": null,
            "_view_module_version": "1.2.0",
            "grid_template_areas": null,
            "object_position": null,
            "object_fit": null,
            "grid_auto_columns": null,
            "margin": null,
            "display": null,
            "left": null
          }
        },
        "63ba8797812241f4965a9a64bb91d2c3": {
          "model_module": "@jupyter-widgets/controls",
          "model_name": "HTMLModel",
          "model_module_version": "1.5.0",
          "state": {
            "_view_name": "HTMLView",
            "style": "IPY_MODEL_c1eac8e7173843139f8498519b88fb32",
            "_dom_classes": [],
            "description": "",
            "_model_name": "HTMLModel",
            "placeholder": "​",
            "_view_module": "@jupyter-widgets/controls",
            "_model_module_version": "1.5.0",
            "value": "",
            "_view_count": null,
            "_view_module_version": "1.5.0",
            "description_tooltip": null,
            "_model_module": "@jupyter-widgets/controls",
            "layout": "IPY_MODEL_3512e9c0d0de416885448e05bdfd8e5f"
          }
        },
        "201c90d26f8f4b8fb3a9f718c0bdef7a": {
          "model_module": "@jupyter-widgets/controls",
          "model_name": "FloatProgressModel",
          "model_module_version": "1.5.0",
          "state": {
            "_view_name": "ProgressView",
            "style": "IPY_MODEL_2d0bf995bd5b45e99af0a1c983a775f8",
            "_dom_classes": [],
            "description": "",
            "_model_name": "FloatProgressModel",
            "bar_style": "info",
            "max": 1,
            "_view_module": "@jupyter-widgets/controls",
            "_model_module_version": "1.5.0",
            "value": 1,
            "_view_count": null,
            "_view_module_version": "1.5.0",
            "orientation": "horizontal",
            "min": 0,
            "description_tooltip": null,
            "_model_module": "@jupyter-widgets/controls",
            "layout": "IPY_MODEL_1e20f5d6c2764969a4c6bdedc5ce4423"
          }
        },
        "b0814c348c7b4550ad762ea6ecd03ed1": {
          "model_module": "@jupyter-widgets/controls",
          "model_name": "HTMLModel",
          "model_module_version": "1.5.0",
          "state": {
            "_view_name": "HTMLView",
            "style": "IPY_MODEL_63cec747e98c4caaa6612a307a70ef11",
            "_dom_classes": [],
            "description": "",
            "_model_name": "HTMLModel",
            "placeholder": "​",
            "_view_module": "@jupyter-widgets/controls",
            "_model_module_version": "1.5.0",
            "value": " 182/0 [00:00&lt;00:00, 1817.25 examples/s]",
            "_view_count": null,
            "_view_module_version": "1.5.0",
            "description_tooltip": null,
            "_model_module": "@jupyter-widgets/controls",
            "layout": "IPY_MODEL_ed8f169e0cce41f685d84a53fac1fc84"
          }
        },
        "c1eac8e7173843139f8498519b88fb32": {
          "model_module": "@jupyter-widgets/controls",
          "model_name": "DescriptionStyleModel",
          "model_module_version": "1.5.0",
          "state": {
            "_view_name": "StyleView",
            "_model_name": "DescriptionStyleModel",
            "description_width": "",
            "_view_module": "@jupyter-widgets/base",
            "_model_module_version": "1.5.0",
            "_view_count": null,
            "_view_module_version": "1.2.0",
            "_model_module": "@jupyter-widgets/controls"
          }
        },
        "3512e9c0d0de416885448e05bdfd8e5f": {
          "model_module": "@jupyter-widgets/base",
          "model_name": "LayoutModel",
          "model_module_version": "1.2.0",
          "state": {
            "_view_name": "LayoutView",
            "grid_template_rows": null,
            "right": null,
            "justify_content": null,
            "_view_module": "@jupyter-widgets/base",
            "overflow": null,
            "_model_module_version": "1.2.0",
            "_view_count": null,
            "flex_flow": null,
            "width": null,
            "min_width": null,
            "border": null,
            "align_items": null,
            "bottom": null,
            "_model_module": "@jupyter-widgets/base",
            "top": null,
            "grid_column": null,
            "overflow_y": null,
            "overflow_x": null,
            "grid_auto_flow": null,
            "grid_area": null,
            "grid_template_columns": null,
            "flex": null,
            "_model_name": "LayoutModel",
            "justify_items": null,
            "grid_row": null,
            "max_height": null,
            "align_content": null,
            "visibility": null,
            "align_self": null,
            "height": null,
            "min_height": null,
            "padding": null,
            "grid_auto_rows": null,
            "grid_gap": null,
            "max_width": null,
            "order": null,
            "_view_module_version": "1.2.0",
            "grid_template_areas": null,
            "object_position": null,
            "object_fit": null,
            "grid_auto_columns": null,
            "margin": null,
            "display": null,
            "left": null
          }
        },
        "2d0bf995bd5b45e99af0a1c983a775f8": {
          "model_module": "@jupyter-widgets/controls",
          "model_name": "ProgressStyleModel",
          "model_module_version": "1.5.0",
          "state": {
            "_view_name": "StyleView",
            "_model_name": "ProgressStyleModel",
            "description_width": "",
            "_view_module": "@jupyter-widgets/base",
            "_model_module_version": "1.5.0",
            "_view_count": null,
            "_view_module_version": "1.2.0",
            "bar_color": null,
            "_model_module": "@jupyter-widgets/controls"
          }
        },
        "1e20f5d6c2764969a4c6bdedc5ce4423": {
          "model_module": "@jupyter-widgets/base",
          "model_name": "LayoutModel",
          "model_module_version": "1.2.0",
          "state": {
            "_view_name": "LayoutView",
            "grid_template_rows": null,
            "right": null,
            "justify_content": null,
            "_view_module": "@jupyter-widgets/base",
            "overflow": null,
            "_model_module_version": "1.2.0",
            "_view_count": null,
            "flex_flow": null,
            "width": "20px",
            "min_width": null,
            "border": null,
            "align_items": null,
            "bottom": null,
            "_model_module": "@jupyter-widgets/base",
            "top": null,
            "grid_column": null,
            "overflow_y": null,
            "overflow_x": null,
            "grid_auto_flow": null,
            "grid_area": null,
            "grid_template_columns": null,
            "flex": null,
            "_model_name": "LayoutModel",
            "justify_items": null,
            "grid_row": null,
            "max_height": null,
            "align_content": null,
            "visibility": null,
            "align_self": null,
            "height": null,
            "min_height": null,
            "padding": null,
            "grid_auto_rows": null,
            "grid_gap": null,
            "max_width": null,
            "order": null,
            "_view_module_version": "1.2.0",
            "grid_template_areas": null,
            "object_position": null,
            "object_fit": null,
            "grid_auto_columns": null,
            "margin": null,
            "display": null,
            "left": null
          }
        },
        "63cec747e98c4caaa6612a307a70ef11": {
          "model_module": "@jupyter-widgets/controls",
          "model_name": "DescriptionStyleModel",
          "model_module_version": "1.5.0",
          "state": {
            "_view_name": "StyleView",
            "_model_name": "DescriptionStyleModel",
            "description_width": "",
            "_view_module": "@jupyter-widgets/base",
            "_model_module_version": "1.5.0",
            "_view_count": null,
            "_view_module_version": "1.2.0",
            "_model_module": "@jupyter-widgets/controls"
          }
        },
        "ed8f169e0cce41f685d84a53fac1fc84": {
          "model_module": "@jupyter-widgets/base",
          "model_name": "LayoutModel",
          "model_module_version": "1.2.0",
          "state": {
            "_view_name": "LayoutView",
            "grid_template_rows": null,
            "right": null,
            "justify_content": null,
            "_view_module": "@jupyter-widgets/base",
            "overflow": null,
            "_model_module_version": "1.2.0",
            "_view_count": null,
            "flex_flow": null,
            "width": null,
            "min_width": null,
            "border": null,
            "align_items": null,
            "bottom": null,
            "_model_module": "@jupyter-widgets/base",
            "top": null,
            "grid_column": null,
            "overflow_y": null,
            "overflow_x": null,
            "grid_auto_flow": null,
            "grid_area": null,
            "grid_template_columns": null,
            "flex": null,
            "_model_name": "LayoutModel",
            "justify_items": null,
            "grid_row": null,
            "max_height": null,
            "align_content": null,
            "visibility": null,
            "align_self": null,
            "height": null,
            "min_height": null,
            "padding": null,
            "grid_auto_rows": null,
            "grid_gap": null,
            "max_width": null,
            "order": null,
            "_view_module_version": "1.2.0",
            "grid_template_areas": null,
            "object_position": null,
            "object_fit": null,
            "grid_auto_columns": null,
            "margin": null,
            "display": null,
            "left": null
          }
        },
        "5c9e59359e8846f7a81fc27feb337caa": {
          "model_module": "@jupyter-widgets/controls",
          "model_name": "HBoxModel",
          "model_module_version": "1.5.0",
          "state": {
            "_view_name": "HBoxView",
            "_dom_classes": [],
            "_model_name": "HBoxModel",
            "_view_module": "@jupyter-widgets/controls",
            "_model_module_version": "1.5.0",
            "_view_count": null,
            "_view_module_version": "1.5.0",
            "box_style": "",
            "layout": "IPY_MODEL_bb58ec34459543b3acbac9b9862eef9d",
            "_model_module": "@jupyter-widgets/controls",
            "children": [
              "IPY_MODEL_be373be69608404485616d149ab87328",
              "IPY_MODEL_227353377f21405c830b85397d66f58f",
              "IPY_MODEL_171b19a938e8447bb4bc7a5f2a098ed7"
            ]
          }
        },
        "bb58ec34459543b3acbac9b9862eef9d": {
          "model_module": "@jupyter-widgets/base",
          "model_name": "LayoutModel",
          "model_module_version": "1.2.0",
          "state": {
            "_view_name": "LayoutView",
            "grid_template_rows": null,
            "right": null,
            "justify_content": null,
            "_view_module": "@jupyter-widgets/base",
            "overflow": null,
            "_model_module_version": "1.2.0",
            "_view_count": null,
            "flex_flow": null,
            "width": null,
            "min_width": null,
            "border": null,
            "align_items": null,
            "bottom": null,
            "_model_module": "@jupyter-widgets/base",
            "top": null,
            "grid_column": null,
            "overflow_y": null,
            "overflow_x": null,
            "grid_auto_flow": null,
            "grid_area": null,
            "grid_template_columns": null,
            "flex": null,
            "_model_name": "LayoutModel",
            "justify_items": null,
            "grid_row": null,
            "max_height": null,
            "align_content": null,
            "visibility": null,
            "align_self": null,
            "height": null,
            "min_height": null,
            "padding": null,
            "grid_auto_rows": null,
            "grid_gap": null,
            "max_width": null,
            "order": null,
            "_view_module_version": "1.2.0",
            "grid_template_areas": null,
            "object_position": null,
            "object_fit": null,
            "grid_auto_columns": null,
            "margin": null,
            "display": null,
            "left": null
          }
        },
        "be373be69608404485616d149ab87328": {
          "model_module": "@jupyter-widgets/controls",
          "model_name": "HTMLModel",
          "model_module_version": "1.5.0",
          "state": {
            "_view_name": "HTMLView",
            "style": "IPY_MODEL_63443bcf6b9649eeb1057b0eede69241",
            "_dom_classes": [],
            "description": "",
            "_model_name": "HTMLModel",
            "placeholder": "​",
            "_view_module": "@jupyter-widgets/controls",
            "_model_module_version": "1.5.0",
            "value": "",
            "_view_count": null,
            "_view_module_version": "1.5.0",
            "description_tooltip": null,
            "_model_module": "@jupyter-widgets/controls",
            "layout": "IPY_MODEL_0ad8463e65b94a9da0ab712bde1981f5"
          }
        },
        "227353377f21405c830b85397d66f58f": {
          "model_module": "@jupyter-widgets/controls",
          "model_name": "FloatProgressModel",
          "model_module_version": "1.5.0",
          "state": {
            "_view_name": "ProgressView",
            "style": "IPY_MODEL_4da77540fe074d96a01c5cb6907ff8f8",
            "_dom_classes": [],
            "description": "",
            "_model_name": "FloatProgressModel",
            "bar_style": "info",
            "max": 1,
            "_view_module": "@jupyter-widgets/controls",
            "_model_module_version": "1.5.0",
            "value": 1,
            "_view_count": null,
            "_view_module_version": "1.5.0",
            "orientation": "horizontal",
            "min": 0,
            "description_tooltip": null,
            "_model_module": "@jupyter-widgets/controls",
            "layout": "IPY_MODEL_6fd7657b37564ddd8b9419d5a84cba9b"
          }
        },
        "171b19a938e8447bb4bc7a5f2a098ed7": {
          "model_module": "@jupyter-widgets/controls",
          "model_name": "HTMLModel",
          "model_module_version": "1.5.0",
          "state": {
            "_view_name": "HTMLView",
            "style": "IPY_MODEL_e0916e9b634047789065ca9d0bfe828a",
            "_dom_classes": [],
            "description": "",
            "_model_name": "HTMLModel",
            "placeholder": "​",
            "_view_module": "@jupyter-widgets/controls",
            "_model_module_version": "1.5.0",
            "value": " 244/0 [00:00&lt;00:00, 2439.07 examples/s]",
            "_view_count": null,
            "_view_module_version": "1.5.0",
            "description_tooltip": null,
            "_model_module": "@jupyter-widgets/controls",
            "layout": "IPY_MODEL_edc0a3c9c52e439589060ec9d94837a3"
          }
        },
        "63443bcf6b9649eeb1057b0eede69241": {
          "model_module": "@jupyter-widgets/controls",
          "model_name": "DescriptionStyleModel",
          "model_module_version": "1.5.0",
          "state": {
            "_view_name": "StyleView",
            "_model_name": "DescriptionStyleModel",
            "description_width": "",
            "_view_module": "@jupyter-widgets/base",
            "_model_module_version": "1.5.0",
            "_view_count": null,
            "_view_module_version": "1.2.0",
            "_model_module": "@jupyter-widgets/controls"
          }
        },
        "0ad8463e65b94a9da0ab712bde1981f5": {
          "model_module": "@jupyter-widgets/base",
          "model_name": "LayoutModel",
          "model_module_version": "1.2.0",
          "state": {
            "_view_name": "LayoutView",
            "grid_template_rows": null,
            "right": null,
            "justify_content": null,
            "_view_module": "@jupyter-widgets/base",
            "overflow": null,
            "_model_module_version": "1.2.0",
            "_view_count": null,
            "flex_flow": null,
            "width": null,
            "min_width": null,
            "border": null,
            "align_items": null,
            "bottom": null,
            "_model_module": "@jupyter-widgets/base",
            "top": null,
            "grid_column": null,
            "overflow_y": null,
            "overflow_x": null,
            "grid_auto_flow": null,
            "grid_area": null,
            "grid_template_columns": null,
            "flex": null,
            "_model_name": "LayoutModel",
            "justify_items": null,
            "grid_row": null,
            "max_height": null,
            "align_content": null,
            "visibility": null,
            "align_self": null,
            "height": null,
            "min_height": null,
            "padding": null,
            "grid_auto_rows": null,
            "grid_gap": null,
            "max_width": null,
            "order": null,
            "_view_module_version": "1.2.0",
            "grid_template_areas": null,
            "object_position": null,
            "object_fit": null,
            "grid_auto_columns": null,
            "margin": null,
            "display": null,
            "left": null
          }
        },
        "4da77540fe074d96a01c5cb6907ff8f8": {
          "model_module": "@jupyter-widgets/controls",
          "model_name": "ProgressStyleModel",
          "model_module_version": "1.5.0",
          "state": {
            "_view_name": "StyleView",
            "_model_name": "ProgressStyleModel",
            "description_width": "",
            "_view_module": "@jupyter-widgets/base",
            "_model_module_version": "1.5.0",
            "_view_count": null,
            "_view_module_version": "1.2.0",
            "bar_color": null,
            "_model_module": "@jupyter-widgets/controls"
          }
        },
        "6fd7657b37564ddd8b9419d5a84cba9b": {
          "model_module": "@jupyter-widgets/base",
          "model_name": "LayoutModel",
          "model_module_version": "1.2.0",
          "state": {
            "_view_name": "LayoutView",
            "grid_template_rows": null,
            "right": null,
            "justify_content": null,
            "_view_module": "@jupyter-widgets/base",
            "overflow": null,
            "_model_module_version": "1.2.0",
            "_view_count": null,
            "flex_flow": null,
            "width": "20px",
            "min_width": null,
            "border": null,
            "align_items": null,
            "bottom": null,
            "_model_module": "@jupyter-widgets/base",
            "top": null,
            "grid_column": null,
            "overflow_y": null,
            "overflow_x": null,
            "grid_auto_flow": null,
            "grid_area": null,
            "grid_template_columns": null,
            "flex": null,
            "_model_name": "LayoutModel",
            "justify_items": null,
            "grid_row": null,
            "max_height": null,
            "align_content": null,
            "visibility": null,
            "align_self": null,
            "height": null,
            "min_height": null,
            "padding": null,
            "grid_auto_rows": null,
            "grid_gap": null,
            "max_width": null,
            "order": null,
            "_view_module_version": "1.2.0",
            "grid_template_areas": null,
            "object_position": null,
            "object_fit": null,
            "grid_auto_columns": null,
            "margin": null,
            "display": null,
            "left": null
          }
        },
        "e0916e9b634047789065ca9d0bfe828a": {
          "model_module": "@jupyter-widgets/controls",
          "model_name": "DescriptionStyleModel",
          "model_module_version": "1.5.0",
          "state": {
            "_view_name": "StyleView",
            "_model_name": "DescriptionStyleModel",
            "description_width": "",
            "_view_module": "@jupyter-widgets/base",
            "_model_module_version": "1.5.0",
            "_view_count": null,
            "_view_module_version": "1.2.0",
            "_model_module": "@jupyter-widgets/controls"
          }
        },
        "edc0a3c9c52e439589060ec9d94837a3": {
          "model_module": "@jupyter-widgets/base",
          "model_name": "LayoutModel",
          "model_module_version": "1.2.0",
          "state": {
            "_view_name": "LayoutView",
            "grid_template_rows": null,
            "right": null,
            "justify_content": null,
            "_view_module": "@jupyter-widgets/base",
            "overflow": null,
            "_model_module_version": "1.2.0",
            "_view_count": null,
            "flex_flow": null,
            "width": null,
            "min_width": null,
            "border": null,
            "align_items": null,
            "bottom": null,
            "_model_module": "@jupyter-widgets/base",
            "top": null,
            "grid_column": null,
            "overflow_y": null,
            "overflow_x": null,
            "grid_auto_flow": null,
            "grid_area": null,
            "grid_template_columns": null,
            "flex": null,
            "_model_name": "LayoutModel",
            "justify_items": null,
            "grid_row": null,
            "max_height": null,
            "align_content": null,
            "visibility": null,
            "align_self": null,
            "height": null,
            "min_height": null,
            "padding": null,
            "grid_auto_rows": null,
            "grid_gap": null,
            "max_width": null,
            "order": null,
            "_view_module_version": "1.2.0",
            "grid_template_areas": null,
            "object_position": null,
            "object_fit": null,
            "grid_auto_columns": null,
            "margin": null,
            "display": null,
            "left": null
          }
        },
        "675855ee95a34bf7ad62812fa903d655": {
          "model_module": "@jupyter-widgets/controls",
          "model_name": "HBoxModel",
          "model_module_version": "1.5.0",
          "state": {
            "_view_name": "HBoxView",
            "_dom_classes": [],
            "_model_name": "HBoxModel",
            "_view_module": "@jupyter-widgets/controls",
            "_model_module_version": "1.5.0",
            "_view_count": null,
            "_view_module_version": "1.5.0",
            "box_style": "",
            "layout": "IPY_MODEL_8fac98fc8c5b494fa170e3e3effe3c13",
            "_model_module": "@jupyter-widgets/controls",
            "children": [
              "IPY_MODEL_836fad4705404a93b62508b441f979bc",
              "IPY_MODEL_e6bec0d4bcdd471fa7bcc09e19ff2d5d",
              "IPY_MODEL_d23769f678b943e3b77b1b1bb3e3d43e"
            ]
          }
        },
        "8fac98fc8c5b494fa170e3e3effe3c13": {
          "model_module": "@jupyter-widgets/base",
          "model_name": "LayoutModel",
          "model_module_version": "1.2.0",
          "state": {
            "_view_name": "LayoutView",
            "grid_template_rows": null,
            "right": null,
            "justify_content": null,
            "_view_module": "@jupyter-widgets/base",
            "overflow": null,
            "_model_module_version": "1.2.0",
            "_view_count": null,
            "flex_flow": null,
            "width": null,
            "min_width": null,
            "border": null,
            "align_items": null,
            "bottom": null,
            "_model_module": "@jupyter-widgets/base",
            "top": null,
            "grid_column": null,
            "overflow_y": null,
            "overflow_x": null,
            "grid_auto_flow": null,
            "grid_area": null,
            "grid_template_columns": null,
            "flex": null,
            "_model_name": "LayoutModel",
            "justify_items": null,
            "grid_row": null,
            "max_height": null,
            "align_content": null,
            "visibility": null,
            "align_self": null,
            "height": null,
            "min_height": null,
            "padding": null,
            "grid_auto_rows": null,
            "grid_gap": null,
            "max_width": null,
            "order": null,
            "_view_module_version": "1.2.0",
            "grid_template_areas": null,
            "object_position": null,
            "object_fit": null,
            "grid_auto_columns": null,
            "margin": null,
            "display": null,
            "left": null
          }
        },
        "836fad4705404a93b62508b441f979bc": {
          "model_module": "@jupyter-widgets/controls",
          "model_name": "HTMLModel",
          "model_module_version": "1.5.0",
          "state": {
            "_view_name": "HTMLView",
            "style": "IPY_MODEL_26c9f5e1d2cb409290711e9057e3cc26",
            "_dom_classes": [],
            "description": "",
            "_model_name": "HTMLModel",
            "placeholder": "​",
            "_view_module": "@jupyter-widgets/controls",
            "_model_module_version": "1.5.0",
            "value": "",
            "_view_count": null,
            "_view_module_version": "1.5.0",
            "description_tooltip": null,
            "_model_module": "@jupyter-widgets/controls",
            "layout": "IPY_MODEL_1e7b9559f21142f8aec1596f7cf56b0f"
          }
        },
        "e6bec0d4bcdd471fa7bcc09e19ff2d5d": {
          "model_module": "@jupyter-widgets/controls",
          "model_name": "FloatProgressModel",
          "model_module_version": "1.5.0",
          "state": {
            "_view_name": "ProgressView",
            "style": "IPY_MODEL_6c131081dd524dadb58860002518dee1",
            "_dom_classes": [],
            "description": "",
            "_model_name": "FloatProgressModel",
            "bar_style": "info",
            "max": 1,
            "_view_module": "@jupyter-widgets/controls",
            "_model_module_version": "1.5.0",
            "value": 1,
            "_view_count": null,
            "_view_module_version": "1.5.0",
            "orientation": "horizontal",
            "min": 0,
            "description_tooltip": null,
            "_model_module": "@jupyter-widgets/controls",
            "layout": "IPY_MODEL_9a70a5391a424026a7de365dc33c9eb9"
          }
        },
        "d23769f678b943e3b77b1b1bb3e3d43e": {
          "model_module": "@jupyter-widgets/controls",
          "model_name": "HTMLModel",
          "model_module_version": "1.5.0",
          "state": {
            "_view_name": "HTMLView",
            "style": "IPY_MODEL_d12b0b97e26e4278bc1c35fa8d68bcd6",
            "_dom_classes": [],
            "description": "",
            "_model_name": "HTMLModel",
            "placeholder": "​",
            "_view_module": "@jupyter-widgets/controls",
            "_model_module_version": "1.5.0",
            "value": " 1258/0 [00:00&lt;00:00, 7050.43 examples/s]",
            "_view_count": null,
            "_view_module_version": "1.5.0",
            "description_tooltip": null,
            "_model_module": "@jupyter-widgets/controls",
            "layout": "IPY_MODEL_c03f6b5d9e3343e7b7f099bdb77f2d85"
          }
        },
        "26c9f5e1d2cb409290711e9057e3cc26": {
          "model_module": "@jupyter-widgets/controls",
          "model_name": "DescriptionStyleModel",
          "model_module_version": "1.5.0",
          "state": {
            "_view_name": "StyleView",
            "_model_name": "DescriptionStyleModel",
            "description_width": "",
            "_view_module": "@jupyter-widgets/base",
            "_model_module_version": "1.5.0",
            "_view_count": null,
            "_view_module_version": "1.2.0",
            "_model_module": "@jupyter-widgets/controls"
          }
        },
        "1e7b9559f21142f8aec1596f7cf56b0f": {
          "model_module": "@jupyter-widgets/base",
          "model_name": "LayoutModel",
          "model_module_version": "1.2.0",
          "state": {
            "_view_name": "LayoutView",
            "grid_template_rows": null,
            "right": null,
            "justify_content": null,
            "_view_module": "@jupyter-widgets/base",
            "overflow": null,
            "_model_module_version": "1.2.0",
            "_view_count": null,
            "flex_flow": null,
            "width": null,
            "min_width": null,
            "border": null,
            "align_items": null,
            "bottom": null,
            "_model_module": "@jupyter-widgets/base",
            "top": null,
            "grid_column": null,
            "overflow_y": null,
            "overflow_x": null,
            "grid_auto_flow": null,
            "grid_area": null,
            "grid_template_columns": null,
            "flex": null,
            "_model_name": "LayoutModel",
            "justify_items": null,
            "grid_row": null,
            "max_height": null,
            "align_content": null,
            "visibility": null,
            "align_self": null,
            "height": null,
            "min_height": null,
            "padding": null,
            "grid_auto_rows": null,
            "grid_gap": null,
            "max_width": null,
            "order": null,
            "_view_module_version": "1.2.0",
            "grid_template_areas": null,
            "object_position": null,
            "object_fit": null,
            "grid_auto_columns": null,
            "margin": null,
            "display": null,
            "left": null
          }
        },
        "6c131081dd524dadb58860002518dee1": {
          "model_module": "@jupyter-widgets/controls",
          "model_name": "ProgressStyleModel",
          "model_module_version": "1.5.0",
          "state": {
            "_view_name": "StyleView",
            "_model_name": "ProgressStyleModel",
            "description_width": "",
            "_view_module": "@jupyter-widgets/base",
            "_model_module_version": "1.5.0",
            "_view_count": null,
            "_view_module_version": "1.2.0",
            "bar_color": null,
            "_model_module": "@jupyter-widgets/controls"
          }
        },
        "9a70a5391a424026a7de365dc33c9eb9": {
          "model_module": "@jupyter-widgets/base",
          "model_name": "LayoutModel",
          "model_module_version": "1.2.0",
          "state": {
            "_view_name": "LayoutView",
            "grid_template_rows": null,
            "right": null,
            "justify_content": null,
            "_view_module": "@jupyter-widgets/base",
            "overflow": null,
            "_model_module_version": "1.2.0",
            "_view_count": null,
            "flex_flow": null,
            "width": "20px",
            "min_width": null,
            "border": null,
            "align_items": null,
            "bottom": null,
            "_model_module": "@jupyter-widgets/base",
            "top": null,
            "grid_column": null,
            "overflow_y": null,
            "overflow_x": null,
            "grid_auto_flow": null,
            "grid_area": null,
            "grid_template_columns": null,
            "flex": null,
            "_model_name": "LayoutModel",
            "justify_items": null,
            "grid_row": null,
            "max_height": null,
            "align_content": null,
            "visibility": null,
            "align_self": null,
            "height": null,
            "min_height": null,
            "padding": null,
            "grid_auto_rows": null,
            "grid_gap": null,
            "max_width": null,
            "order": null,
            "_view_module_version": "1.2.0",
            "grid_template_areas": null,
            "object_position": null,
            "object_fit": null,
            "grid_auto_columns": null,
            "margin": null,
            "display": null,
            "left": null
          }
        },
        "d12b0b97e26e4278bc1c35fa8d68bcd6": {
          "model_module": "@jupyter-widgets/controls",
          "model_name": "DescriptionStyleModel",
          "model_module_version": "1.5.0",
          "state": {
            "_view_name": "StyleView",
            "_model_name": "DescriptionStyleModel",
            "description_width": "",
            "_view_module": "@jupyter-widgets/base",
            "_model_module_version": "1.5.0",
            "_view_count": null,
            "_view_module_version": "1.2.0",
            "_model_module": "@jupyter-widgets/controls"
          }
        },
        "c03f6b5d9e3343e7b7f099bdb77f2d85": {
          "model_module": "@jupyter-widgets/base",
          "model_name": "LayoutModel",
          "model_module_version": "1.2.0",
          "state": {
            "_view_name": "LayoutView",
            "grid_template_rows": null,
            "right": null,
            "justify_content": null,
            "_view_module": "@jupyter-widgets/base",
            "overflow": null,
            "_model_module_version": "1.2.0",
            "_view_count": null,
            "flex_flow": null,
            "width": null,
            "min_width": null,
            "border": null,
            "align_items": null,
            "bottom": null,
            "_model_module": "@jupyter-widgets/base",
            "top": null,
            "grid_column": null,
            "overflow_y": null,
            "overflow_x": null,
            "grid_auto_flow": null,
            "grid_area": null,
            "grid_template_columns": null,
            "flex": null,
            "_model_name": "LayoutModel",
            "justify_items": null,
            "grid_row": null,
            "max_height": null,
            "align_content": null,
            "visibility": null,
            "align_self": null,
            "height": null,
            "min_height": null,
            "padding": null,
            "grid_auto_rows": null,
            "grid_gap": null,
            "max_width": null,
            "order": null,
            "_view_module_version": "1.2.0",
            "grid_template_areas": null,
            "object_position": null,
            "object_fit": null,
            "grid_auto_columns": null,
            "margin": null,
            "display": null,
            "left": null
          }
        },
        "b9a88c77cbcb4d0181dffb9cad3d3216": {
          "model_module": "@jupyter-widgets/controls",
          "model_name": "HBoxModel",
          "model_module_version": "1.5.0",
          "state": {
            "_view_name": "HBoxView",
            "_dom_classes": [],
            "_model_name": "HBoxModel",
            "_view_module": "@jupyter-widgets/controls",
            "_model_module_version": "1.5.0",
            "_view_count": null,
            "_view_module_version": "1.5.0",
            "box_style": "",
            "layout": "IPY_MODEL_ae70fa964eeb4108b6fc1013420df266",
            "_model_module": "@jupyter-widgets/controls",
            "children": [
              "IPY_MODEL_e7fe0fac25504b68a27e37b4c83775ba",
              "IPY_MODEL_8dbb4a72fd3d49a982c93b9b37511d6f",
              "IPY_MODEL_a5f6c12fd4e14363afbb95379f626d89"
            ]
          }
        },
        "ae70fa964eeb4108b6fc1013420df266": {
          "model_module": "@jupyter-widgets/base",
          "model_name": "LayoutModel",
          "model_module_version": "1.2.0",
          "state": {
            "_view_name": "LayoutView",
            "grid_template_rows": null,
            "right": null,
            "justify_content": null,
            "_view_module": "@jupyter-widgets/base",
            "overflow": null,
            "_model_module_version": "1.2.0",
            "_view_count": null,
            "flex_flow": null,
            "width": null,
            "min_width": null,
            "border": null,
            "align_items": null,
            "bottom": null,
            "_model_module": "@jupyter-widgets/base",
            "top": null,
            "grid_column": null,
            "overflow_y": null,
            "overflow_x": null,
            "grid_auto_flow": null,
            "grid_area": null,
            "grid_template_columns": null,
            "flex": null,
            "_model_name": "LayoutModel",
            "justify_items": null,
            "grid_row": null,
            "max_height": null,
            "align_content": null,
            "visibility": null,
            "align_self": null,
            "height": null,
            "min_height": null,
            "padding": null,
            "grid_auto_rows": null,
            "grid_gap": null,
            "max_width": null,
            "order": null,
            "_view_module_version": "1.2.0",
            "grid_template_areas": null,
            "object_position": null,
            "object_fit": null,
            "grid_auto_columns": null,
            "margin": null,
            "display": null,
            "left": null
          }
        },
        "e7fe0fac25504b68a27e37b4c83775ba": {
          "model_module": "@jupyter-widgets/controls",
          "model_name": "HTMLModel",
          "model_module_version": "1.5.0",
          "state": {
            "_view_name": "HTMLView",
            "style": "IPY_MODEL_9448aae190654d1fbb06a564e1872720",
            "_dom_classes": [],
            "description": "",
            "_model_name": "HTMLModel",
            "placeholder": "​",
            "_view_module": "@jupyter-widgets/controls",
            "_model_module_version": "1.5.0",
            "value": "",
            "_view_count": null,
            "_view_module_version": "1.5.0",
            "description_tooltip": null,
            "_model_module": "@jupyter-widgets/controls",
            "layout": "IPY_MODEL_3853601236c74b6ab83a281068d5699c"
          }
        },
        "8dbb4a72fd3d49a982c93b9b37511d6f": {
          "model_module": "@jupyter-widgets/controls",
          "model_name": "FloatProgressModel",
          "model_module_version": "1.5.0",
          "state": {
            "_view_name": "ProgressView",
            "style": "IPY_MODEL_eeeebfe3f5ad42fb8c0f23a693cd75a0",
            "_dom_classes": [],
            "description": "",
            "_model_name": "FloatProgressModel",
            "bar_style": "info",
            "max": 1,
            "_view_module": "@jupyter-widgets/controls",
            "_model_module_version": "1.5.0",
            "value": 1,
            "_view_count": null,
            "_view_module_version": "1.5.0",
            "orientation": "horizontal",
            "min": 0,
            "description_tooltip": null,
            "_model_module": "@jupyter-widgets/controls",
            "layout": "IPY_MODEL_88140de632c143d8b119656265d16f69"
          }
        },
        "a5f6c12fd4e14363afbb95379f626d89": {
          "model_module": "@jupyter-widgets/controls",
          "model_name": "HTMLModel",
          "model_module_version": "1.5.0",
          "state": {
            "_view_name": "HTMLView",
            "style": "IPY_MODEL_cdbf1a0c73214f2f966b414d138064c0",
            "_dom_classes": [],
            "description": "",
            "_model_name": "HTMLModel",
            "placeholder": "​",
            "_view_module": "@jupyter-widgets/controls",
            "_model_module_version": "1.5.0",
            "value": " 243/0 [00:00&lt;00:00, 2426.39 examples/s]",
            "_view_count": null,
            "_view_module_version": "1.5.0",
            "description_tooltip": null,
            "_model_module": "@jupyter-widgets/controls",
            "layout": "IPY_MODEL_2059fd92c6584ee78c5d7910631ba720"
          }
        },
        "9448aae190654d1fbb06a564e1872720": {
          "model_module": "@jupyter-widgets/controls",
          "model_name": "DescriptionStyleModel",
          "model_module_version": "1.5.0",
          "state": {
            "_view_name": "StyleView",
            "_model_name": "DescriptionStyleModel",
            "description_width": "",
            "_view_module": "@jupyter-widgets/base",
            "_model_module_version": "1.5.0",
            "_view_count": null,
            "_view_module_version": "1.2.0",
            "_model_module": "@jupyter-widgets/controls"
          }
        },
        "3853601236c74b6ab83a281068d5699c": {
          "model_module": "@jupyter-widgets/base",
          "model_name": "LayoutModel",
          "model_module_version": "1.2.0",
          "state": {
            "_view_name": "LayoutView",
            "grid_template_rows": null,
            "right": null,
            "justify_content": null,
            "_view_module": "@jupyter-widgets/base",
            "overflow": null,
            "_model_module_version": "1.2.0",
            "_view_count": null,
            "flex_flow": null,
            "width": null,
            "min_width": null,
            "border": null,
            "align_items": null,
            "bottom": null,
            "_model_module": "@jupyter-widgets/base",
            "top": null,
            "grid_column": null,
            "overflow_y": null,
            "overflow_x": null,
            "grid_auto_flow": null,
            "grid_area": null,
            "grid_template_columns": null,
            "flex": null,
            "_model_name": "LayoutModel",
            "justify_items": null,
            "grid_row": null,
            "max_height": null,
            "align_content": null,
            "visibility": null,
            "align_self": null,
            "height": null,
            "min_height": null,
            "padding": null,
            "grid_auto_rows": null,
            "grid_gap": null,
            "max_width": null,
            "order": null,
            "_view_module_version": "1.2.0",
            "grid_template_areas": null,
            "object_position": null,
            "object_fit": null,
            "grid_auto_columns": null,
            "margin": null,
            "display": null,
            "left": null
          }
        },
        "eeeebfe3f5ad42fb8c0f23a693cd75a0": {
          "model_module": "@jupyter-widgets/controls",
          "model_name": "ProgressStyleModel",
          "model_module_version": "1.5.0",
          "state": {
            "_view_name": "StyleView",
            "_model_name": "ProgressStyleModel",
            "description_width": "",
            "_view_module": "@jupyter-widgets/base",
            "_model_module_version": "1.5.0",
            "_view_count": null,
            "_view_module_version": "1.2.0",
            "bar_color": null,
            "_model_module": "@jupyter-widgets/controls"
          }
        },
        "88140de632c143d8b119656265d16f69": {
          "model_module": "@jupyter-widgets/base",
          "model_name": "LayoutModel",
          "model_module_version": "1.2.0",
          "state": {
            "_view_name": "LayoutView",
            "grid_template_rows": null,
            "right": null,
            "justify_content": null,
            "_view_module": "@jupyter-widgets/base",
            "overflow": null,
            "_model_module_version": "1.2.0",
            "_view_count": null,
            "flex_flow": null,
            "width": "20px",
            "min_width": null,
            "border": null,
            "align_items": null,
            "bottom": null,
            "_model_module": "@jupyter-widgets/base",
            "top": null,
            "grid_column": null,
            "overflow_y": null,
            "overflow_x": null,
            "grid_auto_flow": null,
            "grid_area": null,
            "grid_template_columns": null,
            "flex": null,
            "_model_name": "LayoutModel",
            "justify_items": null,
            "grid_row": null,
            "max_height": null,
            "align_content": null,
            "visibility": null,
            "align_self": null,
            "height": null,
            "min_height": null,
            "padding": null,
            "grid_auto_rows": null,
            "grid_gap": null,
            "max_width": null,
            "order": null,
            "_view_module_version": "1.2.0",
            "grid_template_areas": null,
            "object_position": null,
            "object_fit": null,
            "grid_auto_columns": null,
            "margin": null,
            "display": null,
            "left": null
          }
        },
        "cdbf1a0c73214f2f966b414d138064c0": {
          "model_module": "@jupyter-widgets/controls",
          "model_name": "DescriptionStyleModel",
          "model_module_version": "1.5.0",
          "state": {
            "_view_name": "StyleView",
            "_model_name": "DescriptionStyleModel",
            "description_width": "",
            "_view_module": "@jupyter-widgets/base",
            "_model_module_version": "1.5.0",
            "_view_count": null,
            "_view_module_version": "1.2.0",
            "_model_module": "@jupyter-widgets/controls"
          }
        },
        "2059fd92c6584ee78c5d7910631ba720": {
          "model_module": "@jupyter-widgets/base",
          "model_name": "LayoutModel",
          "model_module_version": "1.2.0",
          "state": {
            "_view_name": "LayoutView",
            "grid_template_rows": null,
            "right": null,
            "justify_content": null,
            "_view_module": "@jupyter-widgets/base",
            "overflow": null,
            "_model_module_version": "1.2.0",
            "_view_count": null,
            "flex_flow": null,
            "width": null,
            "min_width": null,
            "border": null,
            "align_items": null,
            "bottom": null,
            "_model_module": "@jupyter-widgets/base",
            "top": null,
            "grid_column": null,
            "overflow_y": null,
            "overflow_x": null,
            "grid_auto_flow": null,
            "grid_area": null,
            "grid_template_columns": null,
            "flex": null,
            "_model_name": "LayoutModel",
            "justify_items": null,
            "grid_row": null,
            "max_height": null,
            "align_content": null,
            "visibility": null,
            "align_self": null,
            "height": null,
            "min_height": null,
            "padding": null,
            "grid_auto_rows": null,
            "grid_gap": null,
            "max_width": null,
            "order": null,
            "_view_module_version": "1.2.0",
            "grid_template_areas": null,
            "object_position": null,
            "object_fit": null,
            "grid_auto_columns": null,
            "margin": null,
            "display": null,
            "left": null
          }
        },
        "6938ebc40eb0466b94ef2953dc3eeda0": {
          "model_module": "@jupyter-widgets/controls",
          "model_name": "HBoxModel",
          "model_module_version": "1.5.0",
          "state": {
            "_view_name": "HBoxView",
            "_dom_classes": [],
            "_model_name": "HBoxModel",
            "_view_module": "@jupyter-widgets/controls",
            "_model_module_version": "1.5.0",
            "_view_count": null,
            "_view_module_version": "1.5.0",
            "box_style": "",
            "layout": "IPY_MODEL_e9f522aa72cf42c5893128b457ce5ea5",
            "_model_module": "@jupyter-widgets/controls",
            "children": [
              "IPY_MODEL_a056dbd834cc4faea70c71c208b3eef7",
              "IPY_MODEL_bfff00224c844ea7a338d6154db67595",
              "IPY_MODEL_addea06b99b548a1a879b167ed7c55d7"
            ]
          }
        },
        "e9f522aa72cf42c5893128b457ce5ea5": {
          "model_module": "@jupyter-widgets/base",
          "model_name": "LayoutModel",
          "model_module_version": "1.2.0",
          "state": {
            "_view_name": "LayoutView",
            "grid_template_rows": null,
            "right": null,
            "justify_content": null,
            "_view_module": "@jupyter-widgets/base",
            "overflow": null,
            "_model_module_version": "1.2.0",
            "_view_count": null,
            "flex_flow": null,
            "width": null,
            "min_width": null,
            "border": null,
            "align_items": null,
            "bottom": null,
            "_model_module": "@jupyter-widgets/base",
            "top": null,
            "grid_column": null,
            "overflow_y": null,
            "overflow_x": null,
            "grid_auto_flow": null,
            "grid_area": null,
            "grid_template_columns": null,
            "flex": null,
            "_model_name": "LayoutModel",
            "justify_items": null,
            "grid_row": null,
            "max_height": null,
            "align_content": null,
            "visibility": null,
            "align_self": null,
            "height": null,
            "min_height": null,
            "padding": null,
            "grid_auto_rows": null,
            "grid_gap": null,
            "max_width": null,
            "order": null,
            "_view_module_version": "1.2.0",
            "grid_template_areas": null,
            "object_position": null,
            "object_fit": null,
            "grid_auto_columns": null,
            "margin": null,
            "display": null,
            "left": null
          }
        },
        "a056dbd834cc4faea70c71c208b3eef7": {
          "model_module": "@jupyter-widgets/controls",
          "model_name": "HTMLModel",
          "model_module_version": "1.5.0",
          "state": {
            "_view_name": "HTMLView",
            "style": "IPY_MODEL_c507a8b2d3df46c6b93197596939160b",
            "_dom_classes": [],
            "description": "",
            "_model_name": "HTMLModel",
            "placeholder": "​",
            "_view_module": "@jupyter-widgets/controls",
            "_model_module_version": "1.5.0",
            "value": "100%",
            "_view_count": null,
            "_view_module_version": "1.5.0",
            "description_tooltip": null,
            "_model_module": "@jupyter-widgets/controls",
            "layout": "IPY_MODEL_3f1ba981201a4baa914fd532c577c8c2"
          }
        },
        "bfff00224c844ea7a338d6154db67595": {
          "model_module": "@jupyter-widgets/controls",
          "model_name": "FloatProgressModel",
          "model_module_version": "1.5.0",
          "state": {
            "_view_name": "ProgressView",
            "style": "IPY_MODEL_6c4ca05cff5b47cdb4a899d949d61f72",
            "_dom_classes": [],
            "description": "",
            "_model_name": "FloatProgressModel",
            "bar_style": "success",
            "max": 1038,
            "_view_module": "@jupyter-widgets/controls",
            "_model_module_version": "1.5.0",
            "value": 1038,
            "_view_count": null,
            "_view_module_version": "1.5.0",
            "orientation": "horizontal",
            "min": 0,
            "description_tooltip": null,
            "_model_module": "@jupyter-widgets/controls",
            "layout": "IPY_MODEL_3095a7bbfcbd48979d69080e0a7c4c06"
          }
        },
        "addea06b99b548a1a879b167ed7c55d7": {
          "model_module": "@jupyter-widgets/controls",
          "model_name": "HTMLModel",
          "model_module_version": "1.5.0",
          "state": {
            "_view_name": "HTMLView",
            "style": "IPY_MODEL_63d4f96dcd4c4691ad3f3a211a9389fe",
            "_dom_classes": [],
            "description": "",
            "_model_name": "HTMLModel",
            "placeholder": "​",
            "_view_module": "@jupyter-widgets/controls",
            "_model_module_version": "1.5.0",
            "value": " 1038/1038 [00:00&lt;00:00, 4095.68ex/s]",
            "_view_count": null,
            "_view_module_version": "1.5.0",
            "description_tooltip": null,
            "_model_module": "@jupyter-widgets/controls",
            "layout": "IPY_MODEL_9cef1ac6dbc94c8890643220ca8af425"
          }
        },
        "c507a8b2d3df46c6b93197596939160b": {
          "model_module": "@jupyter-widgets/controls",
          "model_name": "DescriptionStyleModel",
          "model_module_version": "1.5.0",
          "state": {
            "_view_name": "StyleView",
            "_model_name": "DescriptionStyleModel",
            "description_width": "",
            "_view_module": "@jupyter-widgets/base",
            "_model_module_version": "1.5.0",
            "_view_count": null,
            "_view_module_version": "1.2.0",
            "_model_module": "@jupyter-widgets/controls"
          }
        },
        "3f1ba981201a4baa914fd532c577c8c2": {
          "model_module": "@jupyter-widgets/base",
          "model_name": "LayoutModel",
          "model_module_version": "1.2.0",
          "state": {
            "_view_name": "LayoutView",
            "grid_template_rows": null,
            "right": null,
            "justify_content": null,
            "_view_module": "@jupyter-widgets/base",
            "overflow": null,
            "_model_module_version": "1.2.0",
            "_view_count": null,
            "flex_flow": null,
            "width": null,
            "min_width": null,
            "border": null,
            "align_items": null,
            "bottom": null,
            "_model_module": "@jupyter-widgets/base",
            "top": null,
            "grid_column": null,
            "overflow_y": null,
            "overflow_x": null,
            "grid_auto_flow": null,
            "grid_area": null,
            "grid_template_columns": null,
            "flex": null,
            "_model_name": "LayoutModel",
            "justify_items": null,
            "grid_row": null,
            "max_height": null,
            "align_content": null,
            "visibility": null,
            "align_self": null,
            "height": null,
            "min_height": null,
            "padding": null,
            "grid_auto_rows": null,
            "grid_gap": null,
            "max_width": null,
            "order": null,
            "_view_module_version": "1.2.0",
            "grid_template_areas": null,
            "object_position": null,
            "object_fit": null,
            "grid_auto_columns": null,
            "margin": null,
            "display": null,
            "left": null
          }
        },
        "6c4ca05cff5b47cdb4a899d949d61f72": {
          "model_module": "@jupyter-widgets/controls",
          "model_name": "ProgressStyleModel",
          "model_module_version": "1.5.0",
          "state": {
            "_view_name": "StyleView",
            "_model_name": "ProgressStyleModel",
            "description_width": "",
            "_view_module": "@jupyter-widgets/base",
            "_model_module_version": "1.5.0",
            "_view_count": null,
            "_view_module_version": "1.2.0",
            "bar_color": null,
            "_model_module": "@jupyter-widgets/controls"
          }
        },
        "3095a7bbfcbd48979d69080e0a7c4c06": {
          "model_module": "@jupyter-widgets/base",
          "model_name": "LayoutModel",
          "model_module_version": "1.2.0",
          "state": {
            "_view_name": "LayoutView",
            "grid_template_rows": null,
            "right": null,
            "justify_content": null,
            "_view_module": "@jupyter-widgets/base",
            "overflow": null,
            "_model_module_version": "1.2.0",
            "_view_count": null,
            "flex_flow": null,
            "width": null,
            "min_width": null,
            "border": null,
            "align_items": null,
            "bottom": null,
            "_model_module": "@jupyter-widgets/base",
            "top": null,
            "grid_column": null,
            "overflow_y": null,
            "overflow_x": null,
            "grid_auto_flow": null,
            "grid_area": null,
            "grid_template_columns": null,
            "flex": null,
            "_model_name": "LayoutModel",
            "justify_items": null,
            "grid_row": null,
            "max_height": null,
            "align_content": null,
            "visibility": null,
            "align_self": null,
            "height": null,
            "min_height": null,
            "padding": null,
            "grid_auto_rows": null,
            "grid_gap": null,
            "max_width": null,
            "order": null,
            "_view_module_version": "1.2.0",
            "grid_template_areas": null,
            "object_position": null,
            "object_fit": null,
            "grid_auto_columns": null,
            "margin": null,
            "display": null,
            "left": null
          }
        },
        "63d4f96dcd4c4691ad3f3a211a9389fe": {
          "model_module": "@jupyter-widgets/controls",
          "model_name": "DescriptionStyleModel",
          "model_module_version": "1.5.0",
          "state": {
            "_view_name": "StyleView",
            "_model_name": "DescriptionStyleModel",
            "description_width": "",
            "_view_module": "@jupyter-widgets/base",
            "_model_module_version": "1.5.0",
            "_view_count": null,
            "_view_module_version": "1.2.0",
            "_model_module": "@jupyter-widgets/controls"
          }
        },
        "9cef1ac6dbc94c8890643220ca8af425": {
          "model_module": "@jupyter-widgets/base",
          "model_name": "LayoutModel",
          "model_module_version": "1.2.0",
          "state": {
            "_view_name": "LayoutView",
            "grid_template_rows": null,
            "right": null,
            "justify_content": null,
            "_view_module": "@jupyter-widgets/base",
            "overflow": null,
            "_model_module_version": "1.2.0",
            "_view_count": null,
            "flex_flow": null,
            "width": null,
            "min_width": null,
            "border": null,
            "align_items": null,
            "bottom": null,
            "_model_module": "@jupyter-widgets/base",
            "top": null,
            "grid_column": null,
            "overflow_y": null,
            "overflow_x": null,
            "grid_auto_flow": null,
            "grid_area": null,
            "grid_template_columns": null,
            "flex": null,
            "_model_name": "LayoutModel",
            "justify_items": null,
            "grid_row": null,
            "max_height": null,
            "align_content": null,
            "visibility": null,
            "align_self": null,
            "height": null,
            "min_height": null,
            "padding": null,
            "grid_auto_rows": null,
            "grid_gap": null,
            "max_width": null,
            "order": null,
            "_view_module_version": "1.2.0",
            "grid_template_areas": null,
            "object_position": null,
            "object_fit": null,
            "grid_auto_columns": null,
            "margin": null,
            "display": null,
            "left": null
          }
        },
        "693ce460b6b6423fa8ee8aae7df35258": {
          "model_module": "@jupyter-widgets/controls",
          "model_name": "HBoxModel",
          "model_module_version": "1.5.0",
          "state": {
            "_view_name": "HBoxView",
            "_dom_classes": [],
            "_model_name": "HBoxModel",
            "_view_module": "@jupyter-widgets/controls",
            "_model_module_version": "1.5.0",
            "_view_count": null,
            "_view_module_version": "1.5.0",
            "box_style": "",
            "layout": "IPY_MODEL_c85dc1ea99d249419518f594c00f7958",
            "_model_module": "@jupyter-widgets/controls",
            "children": [
              "IPY_MODEL_e6c06d1e29ad45ec9bfa710eb0f294fb",
              "IPY_MODEL_c528eb34c34e479fadf646ae253d4a15",
              "IPY_MODEL_5ac6113b15b34219897f21e703ec3d7c"
            ]
          }
        },
        "c85dc1ea99d249419518f594c00f7958": {
          "model_module": "@jupyter-widgets/base",
          "model_name": "LayoutModel",
          "model_module_version": "1.2.0",
          "state": {
            "_view_name": "LayoutView",
            "grid_template_rows": null,
            "right": null,
            "justify_content": null,
            "_view_module": "@jupyter-widgets/base",
            "overflow": null,
            "_model_module_version": "1.2.0",
            "_view_count": null,
            "flex_flow": null,
            "width": null,
            "min_width": null,
            "border": null,
            "align_items": null,
            "bottom": null,
            "_model_module": "@jupyter-widgets/base",
            "top": null,
            "grid_column": null,
            "overflow_y": null,
            "overflow_x": null,
            "grid_auto_flow": null,
            "grid_area": null,
            "grid_template_columns": null,
            "flex": null,
            "_model_name": "LayoutModel",
            "justify_items": null,
            "grid_row": null,
            "max_height": null,
            "align_content": null,
            "visibility": null,
            "align_self": null,
            "height": null,
            "min_height": null,
            "padding": null,
            "grid_auto_rows": null,
            "grid_gap": null,
            "max_width": null,
            "order": null,
            "_view_module_version": "1.2.0",
            "grid_template_areas": null,
            "object_position": null,
            "object_fit": null,
            "grid_auto_columns": null,
            "margin": null,
            "display": null,
            "left": null
          }
        },
        "e6c06d1e29ad45ec9bfa710eb0f294fb": {
          "model_module": "@jupyter-widgets/controls",
          "model_name": "HTMLModel",
          "model_module_version": "1.5.0",
          "state": {
            "_view_name": "HTMLView",
            "style": "IPY_MODEL_12e8a2299e5a4962ba5cecf14cd9c1a2",
            "_dom_classes": [],
            "description": "",
            "_model_name": "HTMLModel",
            "placeholder": "​",
            "_view_module": "@jupyter-widgets/controls",
            "_model_module_version": "1.5.0",
            "value": "100%",
            "_view_count": null,
            "_view_module_version": "1.5.0",
            "description_tooltip": null,
            "_model_module": "@jupyter-widgets/controls",
            "layout": "IPY_MODEL_af0a231f90614733bd6bcf52637a3727"
          }
        },
        "c528eb34c34e479fadf646ae253d4a15": {
          "model_module": "@jupyter-widgets/controls",
          "model_name": "FloatProgressModel",
          "model_module_version": "1.5.0",
          "state": {
            "_view_name": "ProgressView",
            "style": "IPY_MODEL_2e52365ebf9f474e9735b087f335b789",
            "_dom_classes": [],
            "description": "",
            "_model_name": "FloatProgressModel",
            "bar_style": "success",
            "max": 506,
            "_view_module": "@jupyter-widgets/controls",
            "_model_module_version": "1.5.0",
            "value": 506,
            "_view_count": null,
            "_view_module_version": "1.5.0",
            "orientation": "horizontal",
            "min": 0,
            "description_tooltip": null,
            "_model_module": "@jupyter-widgets/controls",
            "layout": "IPY_MODEL_07a52025aed4434987d1c72b713e074e"
          }
        },
        "5ac6113b15b34219897f21e703ec3d7c": {
          "model_module": "@jupyter-widgets/controls",
          "model_name": "HTMLModel",
          "model_module_version": "1.5.0",
          "state": {
            "_view_name": "HTMLView",
            "style": "IPY_MODEL_564d59ee28484541a763b124bb173fff",
            "_dom_classes": [],
            "description": "",
            "_model_name": "HTMLModel",
            "placeholder": "​",
            "_view_module": "@jupyter-widgets/controls",
            "_model_module_version": "1.5.0",
            "value": " 506/506 [00:00&lt;00:00, 2567.08ex/s]",
            "_view_count": null,
            "_view_module_version": "1.5.0",
            "description_tooltip": null,
            "_model_module": "@jupyter-widgets/controls",
            "layout": "IPY_MODEL_abf22b500b8c454c8e11f03f8a8346be"
          }
        },
        "12e8a2299e5a4962ba5cecf14cd9c1a2": {
          "model_module": "@jupyter-widgets/controls",
          "model_name": "DescriptionStyleModel",
          "model_module_version": "1.5.0",
          "state": {
            "_view_name": "StyleView",
            "_model_name": "DescriptionStyleModel",
            "description_width": "",
            "_view_module": "@jupyter-widgets/base",
            "_model_module_version": "1.5.0",
            "_view_count": null,
            "_view_module_version": "1.2.0",
            "_model_module": "@jupyter-widgets/controls"
          }
        },
        "af0a231f90614733bd6bcf52637a3727": {
          "model_module": "@jupyter-widgets/base",
          "model_name": "LayoutModel",
          "model_module_version": "1.2.0",
          "state": {
            "_view_name": "LayoutView",
            "grid_template_rows": null,
            "right": null,
            "justify_content": null,
            "_view_module": "@jupyter-widgets/base",
            "overflow": null,
            "_model_module_version": "1.2.0",
            "_view_count": null,
            "flex_flow": null,
            "width": null,
            "min_width": null,
            "border": null,
            "align_items": null,
            "bottom": null,
            "_model_module": "@jupyter-widgets/base",
            "top": null,
            "grid_column": null,
            "overflow_y": null,
            "overflow_x": null,
            "grid_auto_flow": null,
            "grid_area": null,
            "grid_template_columns": null,
            "flex": null,
            "_model_name": "LayoutModel",
            "justify_items": null,
            "grid_row": null,
            "max_height": null,
            "align_content": null,
            "visibility": null,
            "align_self": null,
            "height": null,
            "min_height": null,
            "padding": null,
            "grid_auto_rows": null,
            "grid_gap": null,
            "max_width": null,
            "order": null,
            "_view_module_version": "1.2.0",
            "grid_template_areas": null,
            "object_position": null,
            "object_fit": null,
            "grid_auto_columns": null,
            "margin": null,
            "display": null,
            "left": null
          }
        },
        "2e52365ebf9f474e9735b087f335b789": {
          "model_module": "@jupyter-widgets/controls",
          "model_name": "ProgressStyleModel",
          "model_module_version": "1.5.0",
          "state": {
            "_view_name": "StyleView",
            "_model_name": "ProgressStyleModel",
            "description_width": "",
            "_view_module": "@jupyter-widgets/base",
            "_model_module_version": "1.5.0",
            "_view_count": null,
            "_view_module_version": "1.2.0",
            "bar_color": null,
            "_model_module": "@jupyter-widgets/controls"
          }
        },
        "07a52025aed4434987d1c72b713e074e": {
          "model_module": "@jupyter-widgets/base",
          "model_name": "LayoutModel",
          "model_module_version": "1.2.0",
          "state": {
            "_view_name": "LayoutView",
            "grid_template_rows": null,
            "right": null,
            "justify_content": null,
            "_view_module": "@jupyter-widgets/base",
            "overflow": null,
            "_model_module_version": "1.2.0",
            "_view_count": null,
            "flex_flow": null,
            "width": null,
            "min_width": null,
            "border": null,
            "align_items": null,
            "bottom": null,
            "_model_module": "@jupyter-widgets/base",
            "top": null,
            "grid_column": null,
            "overflow_y": null,
            "overflow_x": null,
            "grid_auto_flow": null,
            "grid_area": null,
            "grid_template_columns": null,
            "flex": null,
            "_model_name": "LayoutModel",
            "justify_items": null,
            "grid_row": null,
            "max_height": null,
            "align_content": null,
            "visibility": null,
            "align_self": null,
            "height": null,
            "min_height": null,
            "padding": null,
            "grid_auto_rows": null,
            "grid_gap": null,
            "max_width": null,
            "order": null,
            "_view_module_version": "1.2.0",
            "grid_template_areas": null,
            "object_position": null,
            "object_fit": null,
            "grid_auto_columns": null,
            "margin": null,
            "display": null,
            "left": null
          }
        },
        "564d59ee28484541a763b124bb173fff": {
          "model_module": "@jupyter-widgets/controls",
          "model_name": "DescriptionStyleModel",
          "model_module_version": "1.5.0",
          "state": {
            "_view_name": "StyleView",
            "_model_name": "DescriptionStyleModel",
            "description_width": "",
            "_view_module": "@jupyter-widgets/base",
            "_model_module_version": "1.5.0",
            "_view_count": null,
            "_view_module_version": "1.2.0",
            "_model_module": "@jupyter-widgets/controls"
          }
        },
        "abf22b500b8c454c8e11f03f8a8346be": {
          "model_module": "@jupyter-widgets/base",
          "model_name": "LayoutModel",
          "model_module_version": "1.2.0",
          "state": {
            "_view_name": "LayoutView",
            "grid_template_rows": null,
            "right": null,
            "justify_content": null,
            "_view_module": "@jupyter-widgets/base",
            "overflow": null,
            "_model_module_version": "1.2.0",
            "_view_count": null,
            "flex_flow": null,
            "width": null,
            "min_width": null,
            "border": null,
            "align_items": null,
            "bottom": null,
            "_model_module": "@jupyter-widgets/base",
            "top": null,
            "grid_column": null,
            "overflow_y": null,
            "overflow_x": null,
            "grid_auto_flow": null,
            "grid_area": null,
            "grid_template_columns": null,
            "flex": null,
            "_model_name": "LayoutModel",
            "justify_items": null,
            "grid_row": null,
            "max_height": null,
            "align_content": null,
            "visibility": null,
            "align_self": null,
            "height": null,
            "min_height": null,
            "padding": null,
            "grid_auto_rows": null,
            "grid_gap": null,
            "max_width": null,
            "order": null,
            "_view_module_version": "1.2.0",
            "grid_template_areas": null,
            "object_position": null,
            "object_fit": null,
            "grid_auto_columns": null,
            "margin": null,
            "display": null,
            "left": null
          }
        },
        "87fb9aaf0b1f48e9995070373bfb507a": {
          "model_module": "@jupyter-widgets/controls",
          "model_name": "HBoxModel",
          "model_module_version": "1.5.0",
          "state": {
            "_view_name": "HBoxView",
            "_dom_classes": [],
            "_model_name": "HBoxModel",
            "_view_module": "@jupyter-widgets/controls",
            "_model_module_version": "1.5.0",
            "_view_count": null,
            "_view_module_version": "1.5.0",
            "box_style": "",
            "layout": "IPY_MODEL_9d876f66a314422ebde62cdcb7bbd03f",
            "_model_module": "@jupyter-widgets/controls",
            "children": [
              "IPY_MODEL_84653451b5964f7f9845e1ad143280bf",
              "IPY_MODEL_a919c646cab24e48b2305ee2590d6da1",
              "IPY_MODEL_392f01eeb8ad4330b061363dba3e4f5f"
            ]
          }
        },
        "9d876f66a314422ebde62cdcb7bbd03f": {
          "model_module": "@jupyter-widgets/base",
          "model_name": "LayoutModel",
          "model_module_version": "1.2.0",
          "state": {
            "_view_name": "LayoutView",
            "grid_template_rows": null,
            "right": null,
            "justify_content": null,
            "_view_module": "@jupyter-widgets/base",
            "overflow": null,
            "_model_module_version": "1.2.0",
            "_view_count": null,
            "flex_flow": null,
            "width": null,
            "min_width": null,
            "border": null,
            "align_items": null,
            "bottom": null,
            "_model_module": "@jupyter-widgets/base",
            "top": null,
            "grid_column": null,
            "overflow_y": null,
            "overflow_x": null,
            "grid_auto_flow": null,
            "grid_area": null,
            "grid_template_columns": null,
            "flex": null,
            "_model_name": "LayoutModel",
            "justify_items": null,
            "grid_row": null,
            "max_height": null,
            "align_content": null,
            "visibility": null,
            "align_self": null,
            "height": null,
            "min_height": null,
            "padding": null,
            "grid_auto_rows": null,
            "grid_gap": null,
            "max_width": null,
            "order": null,
            "_view_module_version": "1.2.0",
            "grid_template_areas": null,
            "object_position": null,
            "object_fit": null,
            "grid_auto_columns": null,
            "margin": null,
            "display": null,
            "left": null
          }
        },
        "84653451b5964f7f9845e1ad143280bf": {
          "model_module": "@jupyter-widgets/controls",
          "model_name": "HTMLModel",
          "model_module_version": "1.5.0",
          "state": {
            "_view_name": "HTMLView",
            "style": "IPY_MODEL_5e5c660bb1e547c69b45e2a90d49c6ef",
            "_dom_classes": [],
            "description": "",
            "_model_name": "HTMLModel",
            "placeholder": "​",
            "_view_module": "@jupyter-widgets/controls",
            "_model_module_version": "1.5.0",
            "value": "100%",
            "_view_count": null,
            "_view_module_version": "1.5.0",
            "description_tooltip": null,
            "_model_module": "@jupyter-widgets/controls",
            "layout": "IPY_MODEL_0312ecff52564bc784dfe0d3c1d40e23"
          }
        },
        "a919c646cab24e48b2305ee2590d6da1": {
          "model_module": "@jupyter-widgets/controls",
          "model_name": "FloatProgressModel",
          "model_module_version": "1.5.0",
          "state": {
            "_view_name": "ProgressView",
            "style": "IPY_MODEL_73700f3cbf1648e1ab3ab74359a14c17",
            "_dom_classes": [],
            "description": "",
            "_model_name": "FloatProgressModel",
            "bar_style": "success",
            "max": 1,
            "_view_module": "@jupyter-widgets/controls",
            "_model_module_version": "1.5.0",
            "value": 1,
            "_view_count": null,
            "_view_module_version": "1.5.0",
            "orientation": "horizontal",
            "min": 0,
            "description_tooltip": null,
            "_model_module": "@jupyter-widgets/controls",
            "layout": "IPY_MODEL_135822fd1cc24357a4ab13b116d6944a"
          }
        },
        "392f01eeb8ad4330b061363dba3e4f5f": {
          "model_module": "@jupyter-widgets/controls",
          "model_name": "HTMLModel",
          "model_module_version": "1.5.0",
          "state": {
            "_view_name": "HTMLView",
            "style": "IPY_MODEL_012de4f614534bf2ab2ba9fb77fe3700",
            "_dom_classes": [],
            "description": "",
            "_model_name": "HTMLModel",
            "placeholder": "​",
            "_view_module": "@jupyter-widgets/controls",
            "_model_module_version": "1.5.0",
            "value": " 1/1 [00:00&lt;00:00, 12.95ba/s]",
            "_view_count": null,
            "_view_module_version": "1.5.0",
            "description_tooltip": null,
            "_model_module": "@jupyter-widgets/controls",
            "layout": "IPY_MODEL_1a1a85c41fef49c9b71a4a082e41dca8"
          }
        },
        "5e5c660bb1e547c69b45e2a90d49c6ef": {
          "model_module": "@jupyter-widgets/controls",
          "model_name": "DescriptionStyleModel",
          "model_module_version": "1.5.0",
          "state": {
            "_view_name": "StyleView",
            "_model_name": "DescriptionStyleModel",
            "description_width": "",
            "_view_module": "@jupyter-widgets/base",
            "_model_module_version": "1.5.0",
            "_view_count": null,
            "_view_module_version": "1.2.0",
            "_model_module": "@jupyter-widgets/controls"
          }
        },
        "0312ecff52564bc784dfe0d3c1d40e23": {
          "model_module": "@jupyter-widgets/base",
          "model_name": "LayoutModel",
          "model_module_version": "1.2.0",
          "state": {
            "_view_name": "LayoutView",
            "grid_template_rows": null,
            "right": null,
            "justify_content": null,
            "_view_module": "@jupyter-widgets/base",
            "overflow": null,
            "_model_module_version": "1.2.0",
            "_view_count": null,
            "flex_flow": null,
            "width": null,
            "min_width": null,
            "border": null,
            "align_items": null,
            "bottom": null,
            "_model_module": "@jupyter-widgets/base",
            "top": null,
            "grid_column": null,
            "overflow_y": null,
            "overflow_x": null,
            "grid_auto_flow": null,
            "grid_area": null,
            "grid_template_columns": null,
            "flex": null,
            "_model_name": "LayoutModel",
            "justify_items": null,
            "grid_row": null,
            "max_height": null,
            "align_content": null,
            "visibility": null,
            "align_self": null,
            "height": null,
            "min_height": null,
            "padding": null,
            "grid_auto_rows": null,
            "grid_gap": null,
            "max_width": null,
            "order": null,
            "_view_module_version": "1.2.0",
            "grid_template_areas": null,
            "object_position": null,
            "object_fit": null,
            "grid_auto_columns": null,
            "margin": null,
            "display": null,
            "left": null
          }
        },
        "73700f3cbf1648e1ab3ab74359a14c17": {
          "model_module": "@jupyter-widgets/controls",
          "model_name": "ProgressStyleModel",
          "model_module_version": "1.5.0",
          "state": {
            "_view_name": "StyleView",
            "_model_name": "ProgressStyleModel",
            "description_width": "",
            "_view_module": "@jupyter-widgets/base",
            "_model_module_version": "1.5.0",
            "_view_count": null,
            "_view_module_version": "1.2.0",
            "bar_color": null,
            "_model_module": "@jupyter-widgets/controls"
          }
        },
        "135822fd1cc24357a4ab13b116d6944a": {
          "model_module": "@jupyter-widgets/base",
          "model_name": "LayoutModel",
          "model_module_version": "1.2.0",
          "state": {
            "_view_name": "LayoutView",
            "grid_template_rows": null,
            "right": null,
            "justify_content": null,
            "_view_module": "@jupyter-widgets/base",
            "overflow": null,
            "_model_module_version": "1.2.0",
            "_view_count": null,
            "flex_flow": null,
            "width": null,
            "min_width": null,
            "border": null,
            "align_items": null,
            "bottom": null,
            "_model_module": "@jupyter-widgets/base",
            "top": null,
            "grid_column": null,
            "overflow_y": null,
            "overflow_x": null,
            "grid_auto_flow": null,
            "grid_area": null,
            "grid_template_columns": null,
            "flex": null,
            "_model_name": "LayoutModel",
            "justify_items": null,
            "grid_row": null,
            "max_height": null,
            "align_content": null,
            "visibility": null,
            "align_self": null,
            "height": null,
            "min_height": null,
            "padding": null,
            "grid_auto_rows": null,
            "grid_gap": null,
            "max_width": null,
            "order": null,
            "_view_module_version": "1.2.0",
            "grid_template_areas": null,
            "object_position": null,
            "object_fit": null,
            "grid_auto_columns": null,
            "margin": null,
            "display": null,
            "left": null
          }
        },
        "012de4f614534bf2ab2ba9fb77fe3700": {
          "model_module": "@jupyter-widgets/controls",
          "model_name": "DescriptionStyleModel",
          "model_module_version": "1.5.0",
          "state": {
            "_view_name": "StyleView",
            "_model_name": "DescriptionStyleModel",
            "description_width": "",
            "_view_module": "@jupyter-widgets/base",
            "_model_module_version": "1.5.0",
            "_view_count": null,
            "_view_module_version": "1.2.0",
            "_model_module": "@jupyter-widgets/controls"
          }
        },
        "1a1a85c41fef49c9b71a4a082e41dca8": {
          "model_module": "@jupyter-widgets/base",
          "model_name": "LayoutModel",
          "model_module_version": "1.2.0",
          "state": {
            "_view_name": "LayoutView",
            "grid_template_rows": null,
            "right": null,
            "justify_content": null,
            "_view_module": "@jupyter-widgets/base",
            "overflow": null,
            "_model_module_version": "1.2.0",
            "_view_count": null,
            "flex_flow": null,
            "width": null,
            "min_width": null,
            "border": null,
            "align_items": null,
            "bottom": null,
            "_model_module": "@jupyter-widgets/base",
            "top": null,
            "grid_column": null,
            "overflow_y": null,
            "overflow_x": null,
            "grid_auto_flow": null,
            "grid_area": null,
            "grid_template_columns": null,
            "flex": null,
            "_model_name": "LayoutModel",
            "justify_items": null,
            "grid_row": null,
            "max_height": null,
            "align_content": null,
            "visibility": null,
            "align_self": null,
            "height": null,
            "min_height": null,
            "padding": null,
            "grid_auto_rows": null,
            "grid_gap": null,
            "max_width": null,
            "order": null,
            "_view_module_version": "1.2.0",
            "grid_template_areas": null,
            "object_position": null,
            "object_fit": null,
            "grid_auto_columns": null,
            "margin": null,
            "display": null,
            "left": null
          }
        },
        "360d2c0c6d4b4c58b4846ea6bffec111": {
          "model_module": "@jupyter-widgets/controls",
          "model_name": "HBoxModel",
          "model_module_version": "1.5.0",
          "state": {
            "_view_name": "HBoxView",
            "_dom_classes": [],
            "_model_name": "HBoxModel",
            "_view_module": "@jupyter-widgets/controls",
            "_model_module_version": "1.5.0",
            "_view_count": null,
            "_view_module_version": "1.5.0",
            "box_style": "",
            "layout": "IPY_MODEL_d0c0eebc430a402382672703d33609e7",
            "_model_module": "@jupyter-widgets/controls",
            "children": [
              "IPY_MODEL_ad1480453e0f406fb7f050e72cebe36d",
              "IPY_MODEL_763a92ca955c468ca61d37e9e33055b3",
              "IPY_MODEL_2ca15e4d5f464140a6d416d1e6db047a"
            ]
          }
        },
        "d0c0eebc430a402382672703d33609e7": {
          "model_module": "@jupyter-widgets/base",
          "model_name": "LayoutModel",
          "model_module_version": "1.2.0",
          "state": {
            "_view_name": "LayoutView",
            "grid_template_rows": null,
            "right": null,
            "justify_content": null,
            "_view_module": "@jupyter-widgets/base",
            "overflow": null,
            "_model_module_version": "1.2.0",
            "_view_count": null,
            "flex_flow": null,
            "width": null,
            "min_width": null,
            "border": null,
            "align_items": null,
            "bottom": null,
            "_model_module": "@jupyter-widgets/base",
            "top": null,
            "grid_column": null,
            "overflow_y": null,
            "overflow_x": null,
            "grid_auto_flow": null,
            "grid_area": null,
            "grid_template_columns": null,
            "flex": null,
            "_model_name": "LayoutModel",
            "justify_items": null,
            "grid_row": null,
            "max_height": null,
            "align_content": null,
            "visibility": null,
            "align_self": null,
            "height": null,
            "min_height": null,
            "padding": null,
            "grid_auto_rows": null,
            "grid_gap": null,
            "max_width": null,
            "order": null,
            "_view_module_version": "1.2.0",
            "grid_template_areas": null,
            "object_position": null,
            "object_fit": null,
            "grid_auto_columns": null,
            "margin": null,
            "display": null,
            "left": null
          }
        },
        "ad1480453e0f406fb7f050e72cebe36d": {
          "model_module": "@jupyter-widgets/controls",
          "model_name": "HTMLModel",
          "model_module_version": "1.5.0",
          "state": {
            "_view_name": "HTMLView",
            "style": "IPY_MODEL_133a51b206244c04be13f2f17028ef47",
            "_dom_classes": [],
            "description": "",
            "_model_name": "HTMLModel",
            "placeholder": "​",
            "_view_module": "@jupyter-widgets/controls",
            "_model_module_version": "1.5.0",
            "value": "100%",
            "_view_count": null,
            "_view_module_version": "1.5.0",
            "description_tooltip": null,
            "_model_module": "@jupyter-widgets/controls",
            "layout": "IPY_MODEL_83fd9e10bd3748748eada1f7b8999d86"
          }
        },
        "763a92ca955c468ca61d37e9e33055b3": {
          "model_module": "@jupyter-widgets/controls",
          "model_name": "FloatProgressModel",
          "model_module_version": "1.5.0",
          "state": {
            "_view_name": "ProgressView",
            "style": "IPY_MODEL_cf9c0e2124c64c90aad09ef818d3ec3e",
            "_dom_classes": [],
            "description": "",
            "_model_name": "FloatProgressModel",
            "bar_style": "success",
            "max": 1,
            "_view_module": "@jupyter-widgets/controls",
            "_model_module_version": "1.5.0",
            "value": 1,
            "_view_count": null,
            "_view_module_version": "1.5.0",
            "orientation": "horizontal",
            "min": 0,
            "description_tooltip": null,
            "_model_module": "@jupyter-widgets/controls",
            "layout": "IPY_MODEL_1621770d681341c183387391f6634a3a"
          }
        },
        "2ca15e4d5f464140a6d416d1e6db047a": {
          "model_module": "@jupyter-widgets/controls",
          "model_name": "HTMLModel",
          "model_module_version": "1.5.0",
          "state": {
            "_view_name": "HTMLView",
            "style": "IPY_MODEL_0f70957b0f67422b8993ff43e35c61cd",
            "_dom_classes": [],
            "description": "",
            "_model_name": "HTMLModel",
            "placeholder": "​",
            "_view_module": "@jupyter-widgets/controls",
            "_model_module_version": "1.5.0",
            "value": " 1/1 [00:00&lt;00:00, 18.11ba/s]",
            "_view_count": null,
            "_view_module_version": "1.5.0",
            "description_tooltip": null,
            "_model_module": "@jupyter-widgets/controls",
            "layout": "IPY_MODEL_af93920c3fbe4afdb4e6735e4b274fb8"
          }
        },
        "133a51b206244c04be13f2f17028ef47": {
          "model_module": "@jupyter-widgets/controls",
          "model_name": "DescriptionStyleModel",
          "model_module_version": "1.5.0",
          "state": {
            "_view_name": "StyleView",
            "_model_name": "DescriptionStyleModel",
            "description_width": "",
            "_view_module": "@jupyter-widgets/base",
            "_model_module_version": "1.5.0",
            "_view_count": null,
            "_view_module_version": "1.2.0",
            "_model_module": "@jupyter-widgets/controls"
          }
        },
        "83fd9e10bd3748748eada1f7b8999d86": {
          "model_module": "@jupyter-widgets/base",
          "model_name": "LayoutModel",
          "model_module_version": "1.2.0",
          "state": {
            "_view_name": "LayoutView",
            "grid_template_rows": null,
            "right": null,
            "justify_content": null,
            "_view_module": "@jupyter-widgets/base",
            "overflow": null,
            "_model_module_version": "1.2.0",
            "_view_count": null,
            "flex_flow": null,
            "width": null,
            "min_width": null,
            "border": null,
            "align_items": null,
            "bottom": null,
            "_model_module": "@jupyter-widgets/base",
            "top": null,
            "grid_column": null,
            "overflow_y": null,
            "overflow_x": null,
            "grid_auto_flow": null,
            "grid_area": null,
            "grid_template_columns": null,
            "flex": null,
            "_model_name": "LayoutModel",
            "justify_items": null,
            "grid_row": null,
            "max_height": null,
            "align_content": null,
            "visibility": null,
            "align_self": null,
            "height": null,
            "min_height": null,
            "padding": null,
            "grid_auto_rows": null,
            "grid_gap": null,
            "max_width": null,
            "order": null,
            "_view_module_version": "1.2.0",
            "grid_template_areas": null,
            "object_position": null,
            "object_fit": null,
            "grid_auto_columns": null,
            "margin": null,
            "display": null,
            "left": null
          }
        },
        "cf9c0e2124c64c90aad09ef818d3ec3e": {
          "model_module": "@jupyter-widgets/controls",
          "model_name": "ProgressStyleModel",
          "model_module_version": "1.5.0",
          "state": {
            "_view_name": "StyleView",
            "_model_name": "ProgressStyleModel",
            "description_width": "",
            "_view_module": "@jupyter-widgets/base",
            "_model_module_version": "1.5.0",
            "_view_count": null,
            "_view_module_version": "1.2.0",
            "bar_color": null,
            "_model_module": "@jupyter-widgets/controls"
          }
        },
        "1621770d681341c183387391f6634a3a": {
          "model_module": "@jupyter-widgets/base",
          "model_name": "LayoutModel",
          "model_module_version": "1.2.0",
          "state": {
            "_view_name": "LayoutView",
            "grid_template_rows": null,
            "right": null,
            "justify_content": null,
            "_view_module": "@jupyter-widgets/base",
            "overflow": null,
            "_model_module_version": "1.2.0",
            "_view_count": null,
            "flex_flow": null,
            "width": null,
            "min_width": null,
            "border": null,
            "align_items": null,
            "bottom": null,
            "_model_module": "@jupyter-widgets/base",
            "top": null,
            "grid_column": null,
            "overflow_y": null,
            "overflow_x": null,
            "grid_auto_flow": null,
            "grid_area": null,
            "grid_template_columns": null,
            "flex": null,
            "_model_name": "LayoutModel",
            "justify_items": null,
            "grid_row": null,
            "max_height": null,
            "align_content": null,
            "visibility": null,
            "align_self": null,
            "height": null,
            "min_height": null,
            "padding": null,
            "grid_auto_rows": null,
            "grid_gap": null,
            "max_width": null,
            "order": null,
            "_view_module_version": "1.2.0",
            "grid_template_areas": null,
            "object_position": null,
            "object_fit": null,
            "grid_auto_columns": null,
            "margin": null,
            "display": null,
            "left": null
          }
        },
        "0f70957b0f67422b8993ff43e35c61cd": {
          "model_module": "@jupyter-widgets/controls",
          "model_name": "DescriptionStyleModel",
          "model_module_version": "1.5.0",
          "state": {
            "_view_name": "StyleView",
            "_model_name": "DescriptionStyleModel",
            "description_width": "",
            "_view_module": "@jupyter-widgets/base",
            "_model_module_version": "1.5.0",
            "_view_count": null,
            "_view_module_version": "1.2.0",
            "_model_module": "@jupyter-widgets/controls"
          }
        },
        "af93920c3fbe4afdb4e6735e4b274fb8": {
          "model_module": "@jupyter-widgets/base",
          "model_name": "LayoutModel",
          "model_module_version": "1.2.0",
          "state": {
            "_view_name": "LayoutView",
            "grid_template_rows": null,
            "right": null,
            "justify_content": null,
            "_view_module": "@jupyter-widgets/base",
            "overflow": null,
            "_model_module_version": "1.2.0",
            "_view_count": null,
            "flex_flow": null,
            "width": null,
            "min_width": null,
            "border": null,
            "align_items": null,
            "bottom": null,
            "_model_module": "@jupyter-widgets/base",
            "top": null,
            "grid_column": null,
            "overflow_y": null,
            "overflow_x": null,
            "grid_auto_flow": null,
            "grid_area": null,
            "grid_template_columns": null,
            "flex": null,
            "_model_name": "LayoutModel",
            "justify_items": null,
            "grid_row": null,
            "max_height": null,
            "align_content": null,
            "visibility": null,
            "align_self": null,
            "height": null,
            "min_height": null,
            "padding": null,
            "grid_auto_rows": null,
            "grid_gap": null,
            "max_width": null,
            "order": null,
            "_view_module_version": "1.2.0",
            "grid_template_areas": null,
            "object_position": null,
            "object_fit": null,
            "grid_auto_columns": null,
            "margin": null,
            "display": null,
            "left": null
          }
        },
        "0c364f11dffb4faeb7bd7a22a73570b9": {
          "model_module": "@jupyter-widgets/controls",
          "model_name": "HBoxModel",
          "model_module_version": "1.5.0",
          "state": {
            "_view_name": "HBoxView",
            "_dom_classes": [],
            "_model_name": "HBoxModel",
            "_view_module": "@jupyter-widgets/controls",
            "_model_module_version": "1.5.0",
            "_view_count": null,
            "_view_module_version": "1.5.0",
            "box_style": "",
            "layout": "IPY_MODEL_e27b842479d1405f894a87521e015805",
            "_model_module": "@jupyter-widgets/controls",
            "children": [
              "IPY_MODEL_64ea4fc2b2174decae5c2950f884bb55",
              "IPY_MODEL_71b1485fda95470eae0d31d4b3caed52",
              "IPY_MODEL_4761eedb2c804d3fbfdbaea13762c767"
            ]
          }
        },
        "e27b842479d1405f894a87521e015805": {
          "model_module": "@jupyter-widgets/base",
          "model_name": "LayoutModel",
          "model_module_version": "1.2.0",
          "state": {
            "_view_name": "LayoutView",
            "grid_template_rows": null,
            "right": null,
            "justify_content": null,
            "_view_module": "@jupyter-widgets/base",
            "overflow": null,
            "_model_module_version": "1.2.0",
            "_view_count": null,
            "flex_flow": null,
            "width": null,
            "min_width": null,
            "border": null,
            "align_items": null,
            "bottom": null,
            "_model_module": "@jupyter-widgets/base",
            "top": null,
            "grid_column": null,
            "overflow_y": null,
            "overflow_x": null,
            "grid_auto_flow": null,
            "grid_area": null,
            "grid_template_columns": null,
            "flex": null,
            "_model_name": "LayoutModel",
            "justify_items": null,
            "grid_row": null,
            "max_height": null,
            "align_content": null,
            "visibility": null,
            "align_self": null,
            "height": null,
            "min_height": null,
            "padding": null,
            "grid_auto_rows": null,
            "grid_gap": null,
            "max_width": null,
            "order": null,
            "_view_module_version": "1.2.0",
            "grid_template_areas": null,
            "object_position": null,
            "object_fit": null,
            "grid_auto_columns": null,
            "margin": null,
            "display": null,
            "left": null
          }
        },
        "64ea4fc2b2174decae5c2950f884bb55": {
          "model_module": "@jupyter-widgets/controls",
          "model_name": "HTMLModel",
          "model_module_version": "1.5.0",
          "state": {
            "_view_name": "HTMLView",
            "style": "IPY_MODEL_d3d22e988c1c4a198a392164b90a0971",
            "_dom_classes": [],
            "description": "",
            "_model_name": "HTMLModel",
            "placeholder": "​",
            "_view_module": "@jupyter-widgets/controls",
            "_model_module_version": "1.5.0",
            "value": "100%",
            "_view_count": null,
            "_view_module_version": "1.5.0",
            "description_tooltip": null,
            "_model_module": "@jupyter-widgets/controls",
            "layout": "IPY_MODEL_387b9fd4c33f419996c720c215659bd3"
          }
        },
        "71b1485fda95470eae0d31d4b3caed52": {
          "model_module": "@jupyter-widgets/controls",
          "model_name": "FloatProgressModel",
          "model_module_version": "1.5.0",
          "state": {
            "_view_name": "ProgressView",
            "style": "IPY_MODEL_aac9d6ed04d248aa83260f9bfd46981e",
            "_dom_classes": [],
            "description": "",
            "_model_name": "FloatProgressModel",
            "bar_style": "success",
            "max": 1038,
            "_view_module": "@jupyter-widgets/controls",
            "_model_module_version": "1.5.0",
            "value": 1038,
            "_view_count": null,
            "_view_module_version": "1.5.0",
            "orientation": "horizontal",
            "min": 0,
            "description_tooltip": null,
            "_model_module": "@jupyter-widgets/controls",
            "layout": "IPY_MODEL_70317aa3f81143c0ba271ea43d4255d8"
          }
        },
        "4761eedb2c804d3fbfdbaea13762c767": {
          "model_module": "@jupyter-widgets/controls",
          "model_name": "HTMLModel",
          "model_module_version": "1.5.0",
          "state": {
            "_view_name": "HTMLView",
            "style": "IPY_MODEL_0a02ffdbec3b4f4a9a3ee3f651e82a56",
            "_dom_classes": [],
            "description": "",
            "_model_name": "HTMLModel",
            "placeholder": "​",
            "_view_module": "@jupyter-widgets/controls",
            "_model_module_version": "1.5.0",
            "value": " 1038/1038 [00:11&lt;00:00, 57.50ex/s]",
            "_view_count": null,
            "_view_module_version": "1.5.0",
            "description_tooltip": null,
            "_model_module": "@jupyter-widgets/controls",
            "layout": "IPY_MODEL_8e837b60c6154e7d8dc4b45df819b80f"
          }
        },
        "d3d22e988c1c4a198a392164b90a0971": {
          "model_module": "@jupyter-widgets/controls",
          "model_name": "DescriptionStyleModel",
          "model_module_version": "1.5.0",
          "state": {
            "_view_name": "StyleView",
            "_model_name": "DescriptionStyleModel",
            "description_width": "",
            "_view_module": "@jupyter-widgets/base",
            "_model_module_version": "1.5.0",
            "_view_count": null,
            "_view_module_version": "1.2.0",
            "_model_module": "@jupyter-widgets/controls"
          }
        },
        "387b9fd4c33f419996c720c215659bd3": {
          "model_module": "@jupyter-widgets/base",
          "model_name": "LayoutModel",
          "model_module_version": "1.2.0",
          "state": {
            "_view_name": "LayoutView",
            "grid_template_rows": null,
            "right": null,
            "justify_content": null,
            "_view_module": "@jupyter-widgets/base",
            "overflow": null,
            "_model_module_version": "1.2.0",
            "_view_count": null,
            "flex_flow": null,
            "width": null,
            "min_width": null,
            "border": null,
            "align_items": null,
            "bottom": null,
            "_model_module": "@jupyter-widgets/base",
            "top": null,
            "grid_column": null,
            "overflow_y": null,
            "overflow_x": null,
            "grid_auto_flow": null,
            "grid_area": null,
            "grid_template_columns": null,
            "flex": null,
            "_model_name": "LayoutModel",
            "justify_items": null,
            "grid_row": null,
            "max_height": null,
            "align_content": null,
            "visibility": null,
            "align_self": null,
            "height": null,
            "min_height": null,
            "padding": null,
            "grid_auto_rows": null,
            "grid_gap": null,
            "max_width": null,
            "order": null,
            "_view_module_version": "1.2.0",
            "grid_template_areas": null,
            "object_position": null,
            "object_fit": null,
            "grid_auto_columns": null,
            "margin": null,
            "display": null,
            "left": null
          }
        },
        "aac9d6ed04d248aa83260f9bfd46981e": {
          "model_module": "@jupyter-widgets/controls",
          "model_name": "ProgressStyleModel",
          "model_module_version": "1.5.0",
          "state": {
            "_view_name": "StyleView",
            "_model_name": "ProgressStyleModel",
            "description_width": "",
            "_view_module": "@jupyter-widgets/base",
            "_model_module_version": "1.5.0",
            "_view_count": null,
            "_view_module_version": "1.2.0",
            "bar_color": null,
            "_model_module": "@jupyter-widgets/controls"
          }
        },
        "70317aa3f81143c0ba271ea43d4255d8": {
          "model_module": "@jupyter-widgets/base",
          "model_name": "LayoutModel",
          "model_module_version": "1.2.0",
          "state": {
            "_view_name": "LayoutView",
            "grid_template_rows": null,
            "right": null,
            "justify_content": null,
            "_view_module": "@jupyter-widgets/base",
            "overflow": null,
            "_model_module_version": "1.2.0",
            "_view_count": null,
            "flex_flow": null,
            "width": null,
            "min_width": null,
            "border": null,
            "align_items": null,
            "bottom": null,
            "_model_module": "@jupyter-widgets/base",
            "top": null,
            "grid_column": null,
            "overflow_y": null,
            "overflow_x": null,
            "grid_auto_flow": null,
            "grid_area": null,
            "grid_template_columns": null,
            "flex": null,
            "_model_name": "LayoutModel",
            "justify_items": null,
            "grid_row": null,
            "max_height": null,
            "align_content": null,
            "visibility": null,
            "align_self": null,
            "height": null,
            "min_height": null,
            "padding": null,
            "grid_auto_rows": null,
            "grid_gap": null,
            "max_width": null,
            "order": null,
            "_view_module_version": "1.2.0",
            "grid_template_areas": null,
            "object_position": null,
            "object_fit": null,
            "grid_auto_columns": null,
            "margin": null,
            "display": null,
            "left": null
          }
        },
        "0a02ffdbec3b4f4a9a3ee3f651e82a56": {
          "model_module": "@jupyter-widgets/controls",
          "model_name": "DescriptionStyleModel",
          "model_module_version": "1.5.0",
          "state": {
            "_view_name": "StyleView",
            "_model_name": "DescriptionStyleModel",
            "description_width": "",
            "_view_module": "@jupyter-widgets/base",
            "_model_module_version": "1.5.0",
            "_view_count": null,
            "_view_module_version": "1.2.0",
            "_model_module": "@jupyter-widgets/controls"
          }
        },
        "8e837b60c6154e7d8dc4b45df819b80f": {
          "model_module": "@jupyter-widgets/base",
          "model_name": "LayoutModel",
          "model_module_version": "1.2.0",
          "state": {
            "_view_name": "LayoutView",
            "grid_template_rows": null,
            "right": null,
            "justify_content": null,
            "_view_module": "@jupyter-widgets/base",
            "overflow": null,
            "_model_module_version": "1.2.0",
            "_view_count": null,
            "flex_flow": null,
            "width": null,
            "min_width": null,
            "border": null,
            "align_items": null,
            "bottom": null,
            "_model_module": "@jupyter-widgets/base",
            "top": null,
            "grid_column": null,
            "overflow_y": null,
            "overflow_x": null,
            "grid_auto_flow": null,
            "grid_area": null,
            "grid_template_columns": null,
            "flex": null,
            "_model_name": "LayoutModel",
            "justify_items": null,
            "grid_row": null,
            "max_height": null,
            "align_content": null,
            "visibility": null,
            "align_self": null,
            "height": null,
            "min_height": null,
            "padding": null,
            "grid_auto_rows": null,
            "grid_gap": null,
            "max_width": null,
            "order": null,
            "_view_module_version": "1.2.0",
            "grid_template_areas": null,
            "object_position": null,
            "object_fit": null,
            "grid_auto_columns": null,
            "margin": null,
            "display": null,
            "left": null
          }
        },
        "a1c3001ebefb4a99ab379e885d6aaf60": {
          "model_module": "@jupyter-widgets/controls",
          "model_name": "HBoxModel",
          "model_module_version": "1.5.0",
          "state": {
            "_view_name": "HBoxView",
            "_dom_classes": [],
            "_model_name": "HBoxModel",
            "_view_module": "@jupyter-widgets/controls",
            "_model_module_version": "1.5.0",
            "_view_count": null,
            "_view_module_version": "1.5.0",
            "box_style": "",
            "layout": "IPY_MODEL_00cb6cba5bb840b0a6f467d236170267",
            "_model_module": "@jupyter-widgets/controls",
            "children": [
              "IPY_MODEL_8daa76c103c2498a89fce556b147e066",
              "IPY_MODEL_693cf4132b6f4c51a467e34b7d6ea072",
              "IPY_MODEL_fdd12439dc004955a9948d9b2ac6809e"
            ]
          }
        },
        "00cb6cba5bb840b0a6f467d236170267": {
          "model_module": "@jupyter-widgets/base",
          "model_name": "LayoutModel",
          "model_module_version": "1.2.0",
          "state": {
            "_view_name": "LayoutView",
            "grid_template_rows": null,
            "right": null,
            "justify_content": null,
            "_view_module": "@jupyter-widgets/base",
            "overflow": null,
            "_model_module_version": "1.2.0",
            "_view_count": null,
            "flex_flow": null,
            "width": null,
            "min_width": null,
            "border": null,
            "align_items": null,
            "bottom": null,
            "_model_module": "@jupyter-widgets/base",
            "top": null,
            "grid_column": null,
            "overflow_y": null,
            "overflow_x": null,
            "grid_auto_flow": null,
            "grid_area": null,
            "grid_template_columns": null,
            "flex": null,
            "_model_name": "LayoutModel",
            "justify_items": null,
            "grid_row": null,
            "max_height": null,
            "align_content": null,
            "visibility": null,
            "align_self": null,
            "height": null,
            "min_height": null,
            "padding": null,
            "grid_auto_rows": null,
            "grid_gap": null,
            "max_width": null,
            "order": null,
            "_view_module_version": "1.2.0",
            "grid_template_areas": null,
            "object_position": null,
            "object_fit": null,
            "grid_auto_columns": null,
            "margin": null,
            "display": null,
            "left": null
          }
        },
        "8daa76c103c2498a89fce556b147e066": {
          "model_module": "@jupyter-widgets/controls",
          "model_name": "HTMLModel",
          "model_module_version": "1.5.0",
          "state": {
            "_view_name": "HTMLView",
            "style": "IPY_MODEL_113ea44db27940f8b2ee7375bff8a671",
            "_dom_classes": [],
            "description": "",
            "_model_name": "HTMLModel",
            "placeholder": "​",
            "_view_module": "@jupyter-widgets/controls",
            "_model_module_version": "1.5.0",
            "value": "100%",
            "_view_count": null,
            "_view_module_version": "1.5.0",
            "description_tooltip": null,
            "_model_module": "@jupyter-widgets/controls",
            "layout": "IPY_MODEL_f723022574284a8e85012881ff88100d"
          }
        },
        "693cf4132b6f4c51a467e34b7d6ea072": {
          "model_module": "@jupyter-widgets/controls",
          "model_name": "FloatProgressModel",
          "model_module_version": "1.5.0",
          "state": {
            "_view_name": "ProgressView",
            "style": "IPY_MODEL_e7a0eb874fbb4058a1515b655950c9f2",
            "_dom_classes": [],
            "description": "",
            "_model_name": "FloatProgressModel",
            "bar_style": "success",
            "max": 506,
            "_view_module": "@jupyter-widgets/controls",
            "_model_module_version": "1.5.0",
            "value": 506,
            "_view_count": null,
            "_view_module_version": "1.5.0",
            "orientation": "horizontal",
            "min": 0,
            "description_tooltip": null,
            "_model_module": "@jupyter-widgets/controls",
            "layout": "IPY_MODEL_4d0de06129fb49819eb2096cbdc9a786"
          }
        },
        "fdd12439dc004955a9948d9b2ac6809e": {
          "model_module": "@jupyter-widgets/controls",
          "model_name": "HTMLModel",
          "model_module_version": "1.5.0",
          "state": {
            "_view_name": "HTMLView",
            "style": "IPY_MODEL_c20bf87c4036491e90e02b61b6b7f02c",
            "_dom_classes": [],
            "description": "",
            "_model_name": "HTMLModel",
            "placeholder": "​",
            "_view_module": "@jupyter-widgets/controls",
            "_model_module_version": "1.5.0",
            "value": " 506/506 [00:05&lt;00:00, 101.49ex/s]",
            "_view_count": null,
            "_view_module_version": "1.5.0",
            "description_tooltip": null,
            "_model_module": "@jupyter-widgets/controls",
            "layout": "IPY_MODEL_032c3d109f2843508d07e917666e2c16"
          }
        },
        "113ea44db27940f8b2ee7375bff8a671": {
          "model_module": "@jupyter-widgets/controls",
          "model_name": "DescriptionStyleModel",
          "model_module_version": "1.5.0",
          "state": {
            "_view_name": "StyleView",
            "_model_name": "DescriptionStyleModel",
            "description_width": "",
            "_view_module": "@jupyter-widgets/base",
            "_model_module_version": "1.5.0",
            "_view_count": null,
            "_view_module_version": "1.2.0",
            "_model_module": "@jupyter-widgets/controls"
          }
        },
        "f723022574284a8e85012881ff88100d": {
          "model_module": "@jupyter-widgets/base",
          "model_name": "LayoutModel",
          "model_module_version": "1.2.0",
          "state": {
            "_view_name": "LayoutView",
            "grid_template_rows": null,
            "right": null,
            "justify_content": null,
            "_view_module": "@jupyter-widgets/base",
            "overflow": null,
            "_model_module_version": "1.2.0",
            "_view_count": null,
            "flex_flow": null,
            "width": null,
            "min_width": null,
            "border": null,
            "align_items": null,
            "bottom": null,
            "_model_module": "@jupyter-widgets/base",
            "top": null,
            "grid_column": null,
            "overflow_y": null,
            "overflow_x": null,
            "grid_auto_flow": null,
            "grid_area": null,
            "grid_template_columns": null,
            "flex": null,
            "_model_name": "LayoutModel",
            "justify_items": null,
            "grid_row": null,
            "max_height": null,
            "align_content": null,
            "visibility": null,
            "align_self": null,
            "height": null,
            "min_height": null,
            "padding": null,
            "grid_auto_rows": null,
            "grid_gap": null,
            "max_width": null,
            "order": null,
            "_view_module_version": "1.2.0",
            "grid_template_areas": null,
            "object_position": null,
            "object_fit": null,
            "grid_auto_columns": null,
            "margin": null,
            "display": null,
            "left": null
          }
        },
        "e7a0eb874fbb4058a1515b655950c9f2": {
          "model_module": "@jupyter-widgets/controls",
          "model_name": "ProgressStyleModel",
          "model_module_version": "1.5.0",
          "state": {
            "_view_name": "StyleView",
            "_model_name": "ProgressStyleModel",
            "description_width": "",
            "_view_module": "@jupyter-widgets/base",
            "_model_module_version": "1.5.0",
            "_view_count": null,
            "_view_module_version": "1.2.0",
            "bar_color": null,
            "_model_module": "@jupyter-widgets/controls"
          }
        },
        "4d0de06129fb49819eb2096cbdc9a786": {
          "model_module": "@jupyter-widgets/base",
          "model_name": "LayoutModel",
          "model_module_version": "1.2.0",
          "state": {
            "_view_name": "LayoutView",
            "grid_template_rows": null,
            "right": null,
            "justify_content": null,
            "_view_module": "@jupyter-widgets/base",
            "overflow": null,
            "_model_module_version": "1.2.0",
            "_view_count": null,
            "flex_flow": null,
            "width": null,
            "min_width": null,
            "border": null,
            "align_items": null,
            "bottom": null,
            "_model_module": "@jupyter-widgets/base",
            "top": null,
            "grid_column": null,
            "overflow_y": null,
            "overflow_x": null,
            "grid_auto_flow": null,
            "grid_area": null,
            "grid_template_columns": null,
            "flex": null,
            "_model_name": "LayoutModel",
            "justify_items": null,
            "grid_row": null,
            "max_height": null,
            "align_content": null,
            "visibility": null,
            "align_self": null,
            "height": null,
            "min_height": null,
            "padding": null,
            "grid_auto_rows": null,
            "grid_gap": null,
            "max_width": null,
            "order": null,
            "_view_module_version": "1.2.0",
            "grid_template_areas": null,
            "object_position": null,
            "object_fit": null,
            "grid_auto_columns": null,
            "margin": null,
            "display": null,
            "left": null
          }
        },
        "c20bf87c4036491e90e02b61b6b7f02c": {
          "model_module": "@jupyter-widgets/controls",
          "model_name": "DescriptionStyleModel",
          "model_module_version": "1.5.0",
          "state": {
            "_view_name": "StyleView",
            "_model_name": "DescriptionStyleModel",
            "description_width": "",
            "_view_module": "@jupyter-widgets/base",
            "_model_module_version": "1.5.0",
            "_view_count": null,
            "_view_module_version": "1.2.0",
            "_model_module": "@jupyter-widgets/controls"
          }
        },
        "032c3d109f2843508d07e917666e2c16": {
          "model_module": "@jupyter-widgets/base",
          "model_name": "LayoutModel",
          "model_module_version": "1.2.0",
          "state": {
            "_view_name": "LayoutView",
            "grid_template_rows": null,
            "right": null,
            "justify_content": null,
            "_view_module": "@jupyter-widgets/base",
            "overflow": null,
            "_model_module_version": "1.2.0",
            "_view_count": null,
            "flex_flow": null,
            "width": null,
            "min_width": null,
            "border": null,
            "align_items": null,
            "bottom": null,
            "_model_module": "@jupyter-widgets/base",
            "top": null,
            "grid_column": null,
            "overflow_y": null,
            "overflow_x": null,
            "grid_auto_flow": null,
            "grid_area": null,
            "grid_template_columns": null,
            "flex": null,
            "_model_name": "LayoutModel",
            "justify_items": null,
            "grid_row": null,
            "max_height": null,
            "align_content": null,
            "visibility": null,
            "align_self": null,
            "height": null,
            "min_height": null,
            "padding": null,
            "grid_auto_rows": null,
            "grid_gap": null,
            "max_width": null,
            "order": null,
            "_view_module_version": "1.2.0",
            "grid_template_areas": null,
            "object_position": null,
            "object_fit": null,
            "grid_auto_columns": null,
            "margin": null,
            "display": null,
            "left": null
          }
        },
        "e5a4add65ba44584a06295369efcb459": {
          "model_module": "@jupyter-widgets/controls",
          "model_name": "HBoxModel",
          "model_module_version": "1.5.0",
          "state": {
            "_view_name": "HBoxView",
            "_dom_classes": [],
            "_model_name": "HBoxModel",
            "_view_module": "@jupyter-widgets/controls",
            "_model_module_version": "1.5.0",
            "_view_count": null,
            "_view_module_version": "1.5.0",
            "box_style": "",
            "layout": "IPY_MODEL_eb21d86842254b849a4ca3a4bc166296",
            "_model_module": "@jupyter-widgets/controls",
            "children": [
              "IPY_MODEL_8eb4ddb1b5d14f658c53ab87ac0aed34",
              "IPY_MODEL_040d6911de604f1bacc834acc2bf7736",
              "IPY_MODEL_a0346338bb2c44a99c7d87b84a7cb0de"
            ]
          }
        },
        "eb21d86842254b849a4ca3a4bc166296": {
          "model_module": "@jupyter-widgets/base",
          "model_name": "LayoutModel",
          "model_module_version": "1.2.0",
          "state": {
            "_view_name": "LayoutView",
            "grid_template_rows": null,
            "right": null,
            "justify_content": null,
            "_view_module": "@jupyter-widgets/base",
            "overflow": null,
            "_model_module_version": "1.2.0",
            "_view_count": null,
            "flex_flow": null,
            "width": null,
            "min_width": null,
            "border": null,
            "align_items": null,
            "bottom": null,
            "_model_module": "@jupyter-widgets/base",
            "top": null,
            "grid_column": null,
            "overflow_y": null,
            "overflow_x": null,
            "grid_auto_flow": null,
            "grid_area": null,
            "grid_template_columns": null,
            "flex": null,
            "_model_name": "LayoutModel",
            "justify_items": null,
            "grid_row": null,
            "max_height": null,
            "align_content": null,
            "visibility": null,
            "align_self": null,
            "height": null,
            "min_height": null,
            "padding": null,
            "grid_auto_rows": null,
            "grid_gap": null,
            "max_width": null,
            "order": null,
            "_view_module_version": "1.2.0",
            "grid_template_areas": null,
            "object_position": null,
            "object_fit": null,
            "grid_auto_columns": null,
            "margin": null,
            "display": null,
            "left": null
          }
        },
        "8eb4ddb1b5d14f658c53ab87ac0aed34": {
          "model_module": "@jupyter-widgets/controls",
          "model_name": "HTMLModel",
          "model_module_version": "1.5.0",
          "state": {
            "_view_name": "HTMLView",
            "style": "IPY_MODEL_3fb17b564bcb4ed8a31fe518d7aa93dc",
            "_dom_classes": [],
            "description": "",
            "_model_name": "HTMLModel",
            "placeholder": "​",
            "_view_module": "@jupyter-widgets/controls",
            "_model_module_version": "1.5.0",
            "value": "Downloading: ",
            "_view_count": null,
            "_view_module_version": "1.5.0",
            "description_tooltip": null,
            "_model_module": "@jupyter-widgets/controls",
            "layout": "IPY_MODEL_89f80e963d264b9e890b1ecd5051e9b3"
          }
        },
        "040d6911de604f1bacc834acc2bf7736": {
          "model_module": "@jupyter-widgets/controls",
          "model_name": "FloatProgressModel",
          "model_module_version": "1.5.0",
          "state": {
            "_view_name": "ProgressView",
            "style": "IPY_MODEL_bc9f64bed33b4b5c9892299f42fc2dea",
            "_dom_classes": [],
            "description": "",
            "_model_name": "FloatProgressModel",
            "bar_style": "success",
            "max": 1947,
            "_view_module": "@jupyter-widgets/controls",
            "_model_module_version": "1.5.0",
            "value": 1947,
            "_view_count": null,
            "_view_module_version": "1.5.0",
            "orientation": "horizontal",
            "min": 0,
            "description_tooltip": null,
            "_model_module": "@jupyter-widgets/controls",
            "layout": "IPY_MODEL_8e4d54b14de9421697d761e4f0a5a5f8"
          }
        },
        "a0346338bb2c44a99c7d87b84a7cb0de": {
          "model_module": "@jupyter-widgets/controls",
          "model_name": "HTMLModel",
          "model_module_version": "1.5.0",
          "state": {
            "_view_name": "HTMLView",
            "style": "IPY_MODEL_47ee705788374968b2a231a661fcec12",
            "_dom_classes": [],
            "description": "",
            "_model_name": "HTMLModel",
            "placeholder": "​",
            "_view_module": "@jupyter-widgets/controls",
            "_model_module_version": "1.5.0",
            "value": " 4.55k/? [00:00&lt;00:00, 105kB/s]",
            "_view_count": null,
            "_view_module_version": "1.5.0",
            "description_tooltip": null,
            "_model_module": "@jupyter-widgets/controls",
            "layout": "IPY_MODEL_533490cb9d5649a6af5a439b19479787"
          }
        },
        "3fb17b564bcb4ed8a31fe518d7aa93dc": {
          "model_module": "@jupyter-widgets/controls",
          "model_name": "DescriptionStyleModel",
          "model_module_version": "1.5.0",
          "state": {
            "_view_name": "StyleView",
            "_model_name": "DescriptionStyleModel",
            "description_width": "",
            "_view_module": "@jupyter-widgets/base",
            "_model_module_version": "1.5.0",
            "_view_count": null,
            "_view_module_version": "1.2.0",
            "_model_module": "@jupyter-widgets/controls"
          }
        },
        "89f80e963d264b9e890b1ecd5051e9b3": {
          "model_module": "@jupyter-widgets/base",
          "model_name": "LayoutModel",
          "model_module_version": "1.2.0",
          "state": {
            "_view_name": "LayoutView",
            "grid_template_rows": null,
            "right": null,
            "justify_content": null,
            "_view_module": "@jupyter-widgets/base",
            "overflow": null,
            "_model_module_version": "1.2.0",
            "_view_count": null,
            "flex_flow": null,
            "width": null,
            "min_width": null,
            "border": null,
            "align_items": null,
            "bottom": null,
            "_model_module": "@jupyter-widgets/base",
            "top": null,
            "grid_column": null,
            "overflow_y": null,
            "overflow_x": null,
            "grid_auto_flow": null,
            "grid_area": null,
            "grid_template_columns": null,
            "flex": null,
            "_model_name": "LayoutModel",
            "justify_items": null,
            "grid_row": null,
            "max_height": null,
            "align_content": null,
            "visibility": null,
            "align_self": null,
            "height": null,
            "min_height": null,
            "padding": null,
            "grid_auto_rows": null,
            "grid_gap": null,
            "max_width": null,
            "order": null,
            "_view_module_version": "1.2.0",
            "grid_template_areas": null,
            "object_position": null,
            "object_fit": null,
            "grid_auto_columns": null,
            "margin": null,
            "display": null,
            "left": null
          }
        },
        "bc9f64bed33b4b5c9892299f42fc2dea": {
          "model_module": "@jupyter-widgets/controls",
          "model_name": "ProgressStyleModel",
          "model_module_version": "1.5.0",
          "state": {
            "_view_name": "StyleView",
            "_model_name": "ProgressStyleModel",
            "description_width": "",
            "_view_module": "@jupyter-widgets/base",
            "_model_module_version": "1.5.0",
            "_view_count": null,
            "_view_module_version": "1.2.0",
            "bar_color": null,
            "_model_module": "@jupyter-widgets/controls"
          }
        },
        "8e4d54b14de9421697d761e4f0a5a5f8": {
          "model_module": "@jupyter-widgets/base",
          "model_name": "LayoutModel",
          "model_module_version": "1.2.0",
          "state": {
            "_view_name": "LayoutView",
            "grid_template_rows": null,
            "right": null,
            "justify_content": null,
            "_view_module": "@jupyter-widgets/base",
            "overflow": null,
            "_model_module_version": "1.2.0",
            "_view_count": null,
            "flex_flow": null,
            "width": null,
            "min_width": null,
            "border": null,
            "align_items": null,
            "bottom": null,
            "_model_module": "@jupyter-widgets/base",
            "top": null,
            "grid_column": null,
            "overflow_y": null,
            "overflow_x": null,
            "grid_auto_flow": null,
            "grid_area": null,
            "grid_template_columns": null,
            "flex": null,
            "_model_name": "LayoutModel",
            "justify_items": null,
            "grid_row": null,
            "max_height": null,
            "align_content": null,
            "visibility": null,
            "align_self": null,
            "height": null,
            "min_height": null,
            "padding": null,
            "grid_auto_rows": null,
            "grid_gap": null,
            "max_width": null,
            "order": null,
            "_view_module_version": "1.2.0",
            "grid_template_areas": null,
            "object_position": null,
            "object_fit": null,
            "grid_auto_columns": null,
            "margin": null,
            "display": null,
            "left": null
          }
        },
        "47ee705788374968b2a231a661fcec12": {
          "model_module": "@jupyter-widgets/controls",
          "model_name": "DescriptionStyleModel",
          "model_module_version": "1.5.0",
          "state": {
            "_view_name": "StyleView",
            "_model_name": "DescriptionStyleModel",
            "description_width": "",
            "_view_module": "@jupyter-widgets/base",
            "_model_module_version": "1.5.0",
            "_view_count": null,
            "_view_module_version": "1.2.0",
            "_model_module": "@jupyter-widgets/controls"
          }
        },
        "533490cb9d5649a6af5a439b19479787": {
          "model_module": "@jupyter-widgets/base",
          "model_name": "LayoutModel",
          "model_module_version": "1.2.0",
          "state": {
            "_view_name": "LayoutView",
            "grid_template_rows": null,
            "right": null,
            "justify_content": null,
            "_view_module": "@jupyter-widgets/base",
            "overflow": null,
            "_model_module_version": "1.2.0",
            "_view_count": null,
            "flex_flow": null,
            "width": null,
            "min_width": null,
            "border": null,
            "align_items": null,
            "bottom": null,
            "_model_module": "@jupyter-widgets/base",
            "top": null,
            "grid_column": null,
            "overflow_y": null,
            "overflow_x": null,
            "grid_auto_flow": null,
            "grid_area": null,
            "grid_template_columns": null,
            "flex": null,
            "_model_name": "LayoutModel",
            "justify_items": null,
            "grid_row": null,
            "max_height": null,
            "align_content": null,
            "visibility": null,
            "align_self": null,
            "height": null,
            "min_height": null,
            "padding": null,
            "grid_auto_rows": null,
            "grid_gap": null,
            "max_width": null,
            "order": null,
            "_view_module_version": "1.2.0",
            "grid_template_areas": null,
            "object_position": null,
            "object_fit": null,
            "grid_auto_columns": null,
            "margin": null,
            "display": null,
            "left": null
          }
        },
        "d8d3a59b84f141608a902dcc6eb38516": {
          "model_module": "@jupyter-widgets/controls",
          "model_name": "HBoxModel",
          "model_module_version": "1.5.0",
          "state": {
            "_view_name": "HBoxView",
            "_dom_classes": [],
            "_model_name": "HBoxModel",
            "_view_module": "@jupyter-widgets/controls",
            "_model_module_version": "1.5.0",
            "_view_count": null,
            "_view_module_version": "1.5.0",
            "box_style": "",
            "layout": "IPY_MODEL_309a6dcd75ac42c9a5ef625649ba1d27",
            "_model_module": "@jupyter-widgets/controls",
            "children": [
              "IPY_MODEL_2481f1d8a0044817a8c5854dd92d3fd0",
              "IPY_MODEL_21ac4f5f3b6a41288f87a4c3a27aa212",
              "IPY_MODEL_f6b9725f242c45d8852bae9f9fa64a81"
            ]
          }
        },
        "309a6dcd75ac42c9a5ef625649ba1d27": {
          "model_module": "@jupyter-widgets/base",
          "model_name": "LayoutModel",
          "model_module_version": "1.2.0",
          "state": {
            "_view_name": "LayoutView",
            "grid_template_rows": null,
            "right": null,
            "justify_content": null,
            "_view_module": "@jupyter-widgets/base",
            "overflow": null,
            "_model_module_version": "1.2.0",
            "_view_count": null,
            "flex_flow": null,
            "width": null,
            "min_width": null,
            "border": null,
            "align_items": null,
            "bottom": null,
            "_model_module": "@jupyter-widgets/base",
            "top": null,
            "grid_column": null,
            "overflow_y": null,
            "overflow_x": null,
            "grid_auto_flow": null,
            "grid_area": null,
            "grid_template_columns": null,
            "flex": null,
            "_model_name": "LayoutModel",
            "justify_items": null,
            "grid_row": null,
            "max_height": null,
            "align_content": null,
            "visibility": null,
            "align_self": null,
            "height": null,
            "min_height": null,
            "padding": null,
            "grid_auto_rows": null,
            "grid_gap": null,
            "max_width": null,
            "order": null,
            "_view_module_version": "1.2.0",
            "grid_template_areas": null,
            "object_position": null,
            "object_fit": null,
            "grid_auto_columns": null,
            "margin": null,
            "display": null,
            "left": null
          }
        },
        "2481f1d8a0044817a8c5854dd92d3fd0": {
          "model_module": "@jupyter-widgets/controls",
          "model_name": "HTMLModel",
          "model_module_version": "1.5.0",
          "state": {
            "_view_name": "HTMLView",
            "style": "IPY_MODEL_6c40c0aaae2b469ea0e74b0005ff3f75",
            "_dom_classes": [],
            "description": "",
            "_model_name": "HTMLModel",
            "placeholder": "​",
            "_view_module": "@jupyter-widgets/controls",
            "_model_module_version": "1.5.0",
            "value": "Downloading: 100%",
            "_view_count": null,
            "_view_module_version": "1.5.0",
            "description_tooltip": null,
            "_model_module": "@jupyter-widgets/controls",
            "layout": "IPY_MODEL_98adc382b7844ccaab254e4be277d5da"
          }
        },
        "21ac4f5f3b6a41288f87a4c3a27aa212": {
          "model_module": "@jupyter-widgets/controls",
          "model_name": "FloatProgressModel",
          "model_module_version": "1.5.0",
          "state": {
            "_view_name": "ProgressView",
            "style": "IPY_MODEL_46b22eaf7ea344b6ab5046b5aa3d0f0e",
            "_dom_classes": [],
            "description": "",
            "_model_name": "FloatProgressModel",
            "bar_style": "success",
            "max": 1568,
            "_view_module": "@jupyter-widgets/controls",
            "_model_module_version": "1.5.0",
            "value": 1568,
            "_view_count": null,
            "_view_module_version": "1.5.0",
            "orientation": "horizontal",
            "min": 0,
            "description_tooltip": null,
            "_model_module": "@jupyter-widgets/controls",
            "layout": "IPY_MODEL_83af4ffd93cd4083a9aca2f14b346863"
          }
        },
        "f6b9725f242c45d8852bae9f9fa64a81": {
          "model_module": "@jupyter-widgets/controls",
          "model_name": "HTMLModel",
          "model_module_version": "1.5.0",
          "state": {
            "_view_name": "HTMLView",
            "style": "IPY_MODEL_8cb5bfb9a809498eb52b4c6b9cdb2815",
            "_dom_classes": [],
            "description": "",
            "_model_name": "HTMLModel",
            "placeholder": "​",
            "_view_module": "@jupyter-widgets/controls",
            "_model_module_version": "1.5.0",
            "value": " 1.53k/1.53k [00:00&lt;00:00, 41.0kB/s]",
            "_view_count": null,
            "_view_module_version": "1.5.0",
            "description_tooltip": null,
            "_model_module": "@jupyter-widgets/controls",
            "layout": "IPY_MODEL_b22f0b8e3063485b8626d0216da0b801"
          }
        },
        "6c40c0aaae2b469ea0e74b0005ff3f75": {
          "model_module": "@jupyter-widgets/controls",
          "model_name": "DescriptionStyleModel",
          "model_module_version": "1.5.0",
          "state": {
            "_view_name": "StyleView",
            "_model_name": "DescriptionStyleModel",
            "description_width": "",
            "_view_module": "@jupyter-widgets/base",
            "_model_module_version": "1.5.0",
            "_view_count": null,
            "_view_module_version": "1.2.0",
            "_model_module": "@jupyter-widgets/controls"
          }
        },
        "98adc382b7844ccaab254e4be277d5da": {
          "model_module": "@jupyter-widgets/base",
          "model_name": "LayoutModel",
          "model_module_version": "1.2.0",
          "state": {
            "_view_name": "LayoutView",
            "grid_template_rows": null,
            "right": null,
            "justify_content": null,
            "_view_module": "@jupyter-widgets/base",
            "overflow": null,
            "_model_module_version": "1.2.0",
            "_view_count": null,
            "flex_flow": null,
            "width": null,
            "min_width": null,
            "border": null,
            "align_items": null,
            "bottom": null,
            "_model_module": "@jupyter-widgets/base",
            "top": null,
            "grid_column": null,
            "overflow_y": null,
            "overflow_x": null,
            "grid_auto_flow": null,
            "grid_area": null,
            "grid_template_columns": null,
            "flex": null,
            "_model_name": "LayoutModel",
            "justify_items": null,
            "grid_row": null,
            "max_height": null,
            "align_content": null,
            "visibility": null,
            "align_self": null,
            "height": null,
            "min_height": null,
            "padding": null,
            "grid_auto_rows": null,
            "grid_gap": null,
            "max_width": null,
            "order": null,
            "_view_module_version": "1.2.0",
            "grid_template_areas": null,
            "object_position": null,
            "object_fit": null,
            "grid_auto_columns": null,
            "margin": null,
            "display": null,
            "left": null
          }
        },
        "46b22eaf7ea344b6ab5046b5aa3d0f0e": {
          "model_module": "@jupyter-widgets/controls",
          "model_name": "ProgressStyleModel",
          "model_module_version": "1.5.0",
          "state": {
            "_view_name": "StyleView",
            "_model_name": "ProgressStyleModel",
            "description_width": "",
            "_view_module": "@jupyter-widgets/base",
            "_model_module_version": "1.5.0",
            "_view_count": null,
            "_view_module_version": "1.2.0",
            "bar_color": null,
            "_model_module": "@jupyter-widgets/controls"
          }
        },
        "83af4ffd93cd4083a9aca2f14b346863": {
          "model_module": "@jupyter-widgets/base",
          "model_name": "LayoutModel",
          "model_module_version": "1.2.0",
          "state": {
            "_view_name": "LayoutView",
            "grid_template_rows": null,
            "right": null,
            "justify_content": null,
            "_view_module": "@jupyter-widgets/base",
            "overflow": null,
            "_model_module_version": "1.2.0",
            "_view_count": null,
            "flex_flow": null,
            "width": null,
            "min_width": null,
            "border": null,
            "align_items": null,
            "bottom": null,
            "_model_module": "@jupyter-widgets/base",
            "top": null,
            "grid_column": null,
            "overflow_y": null,
            "overflow_x": null,
            "grid_auto_flow": null,
            "grid_area": null,
            "grid_template_columns": null,
            "flex": null,
            "_model_name": "LayoutModel",
            "justify_items": null,
            "grid_row": null,
            "max_height": null,
            "align_content": null,
            "visibility": null,
            "align_self": null,
            "height": null,
            "min_height": null,
            "padding": null,
            "grid_auto_rows": null,
            "grid_gap": null,
            "max_width": null,
            "order": null,
            "_view_module_version": "1.2.0",
            "grid_template_areas": null,
            "object_position": null,
            "object_fit": null,
            "grid_auto_columns": null,
            "margin": null,
            "display": null,
            "left": null
          }
        },
        "8cb5bfb9a809498eb52b4c6b9cdb2815": {
          "model_module": "@jupyter-widgets/controls",
          "model_name": "DescriptionStyleModel",
          "model_module_version": "1.5.0",
          "state": {
            "_view_name": "StyleView",
            "_model_name": "DescriptionStyleModel",
            "description_width": "",
            "_view_module": "@jupyter-widgets/base",
            "_model_module_version": "1.5.0",
            "_view_count": null,
            "_view_module_version": "1.2.0",
            "_model_module": "@jupyter-widgets/controls"
          }
        },
        "b22f0b8e3063485b8626d0216da0b801": {
          "model_module": "@jupyter-widgets/base",
          "model_name": "LayoutModel",
          "model_module_version": "1.2.0",
          "state": {
            "_view_name": "LayoutView",
            "grid_template_rows": null,
            "right": null,
            "justify_content": null,
            "_view_module": "@jupyter-widgets/base",
            "overflow": null,
            "_model_module_version": "1.2.0",
            "_view_count": null,
            "flex_flow": null,
            "width": null,
            "min_width": null,
            "border": null,
            "align_items": null,
            "bottom": null,
            "_model_module": "@jupyter-widgets/base",
            "top": null,
            "grid_column": null,
            "overflow_y": null,
            "overflow_x": null,
            "grid_auto_flow": null,
            "grid_area": null,
            "grid_template_columns": null,
            "flex": null,
            "_model_name": "LayoutModel",
            "justify_items": null,
            "grid_row": null,
            "max_height": null,
            "align_content": null,
            "visibility": null,
            "align_self": null,
            "height": null,
            "min_height": null,
            "padding": null,
            "grid_auto_rows": null,
            "grid_gap": null,
            "max_width": null,
            "order": null,
            "_view_module_version": "1.2.0",
            "grid_template_areas": null,
            "object_position": null,
            "object_fit": null,
            "grid_auto_columns": null,
            "margin": null,
            "display": null,
            "left": null
          }
        },
        "ce6034bace2e40c484dc9b1af9161c1f": {
          "model_module": "@jupyter-widgets/controls",
          "model_name": "HBoxModel",
          "model_module_version": "1.5.0",
          "state": {
            "_view_name": "HBoxView",
            "_dom_classes": [],
            "_model_name": "HBoxModel",
            "_view_module": "@jupyter-widgets/controls",
            "_model_module_version": "1.5.0",
            "_view_count": null,
            "_view_module_version": "1.5.0",
            "box_style": "",
            "layout": "IPY_MODEL_707fdf9557e6419dac3fff361238f7a9",
            "_model_module": "@jupyter-widgets/controls",
            "children": [
              "IPY_MODEL_0cca244924714a57b98fcdb94d49b0f2",
              "IPY_MODEL_04d8e50cc5c648eba09c960f6ea7f9e3",
              "IPY_MODEL_782d440148f64dab85551e10a6cce5c5"
            ]
          }
        },
        "707fdf9557e6419dac3fff361238f7a9": {
          "model_module": "@jupyter-widgets/base",
          "model_name": "LayoutModel",
          "model_module_version": "1.2.0",
          "state": {
            "_view_name": "LayoutView",
            "grid_template_rows": null,
            "right": null,
            "justify_content": null,
            "_view_module": "@jupyter-widgets/base",
            "overflow": null,
            "_model_module_version": "1.2.0",
            "_view_count": null,
            "flex_flow": null,
            "width": null,
            "min_width": null,
            "border": null,
            "align_items": null,
            "bottom": null,
            "_model_module": "@jupyter-widgets/base",
            "top": null,
            "grid_column": null,
            "overflow_y": null,
            "overflow_x": null,
            "grid_auto_flow": null,
            "grid_area": null,
            "grid_template_columns": null,
            "flex": null,
            "_model_name": "LayoutModel",
            "justify_items": null,
            "grid_row": null,
            "max_height": null,
            "align_content": null,
            "visibility": null,
            "align_self": null,
            "height": null,
            "min_height": null,
            "padding": null,
            "grid_auto_rows": null,
            "grid_gap": null,
            "max_width": null,
            "order": null,
            "_view_module_version": "1.2.0",
            "grid_template_areas": null,
            "object_position": null,
            "object_fit": null,
            "grid_auto_columns": null,
            "margin": null,
            "display": null,
            "left": null
          }
        },
        "0cca244924714a57b98fcdb94d49b0f2": {
          "model_module": "@jupyter-widgets/controls",
          "model_name": "HTMLModel",
          "model_module_version": "1.5.0",
          "state": {
            "_view_name": "HTMLView",
            "style": "IPY_MODEL_063b12246677449ba4666030b1b2bd53",
            "_dom_classes": [],
            "description": "",
            "_model_name": "HTMLModel",
            "placeholder": "​",
            "_view_module": "@jupyter-widgets/controls",
            "_model_module_version": "1.5.0",
            "value": "Downloading: 100%",
            "_view_count": null,
            "_view_module_version": "1.5.0",
            "description_tooltip": null,
            "_model_module": "@jupyter-widgets/controls",
            "layout": "IPY_MODEL_e8b0b25d10dc442580d03c27723641ae"
          }
        },
        "04d8e50cc5c648eba09c960f6ea7f9e3": {
          "model_module": "@jupyter-widgets/controls",
          "model_name": "FloatProgressModel",
          "model_module_version": "1.5.0",
          "state": {
            "_view_name": "ProgressView",
            "style": "IPY_MODEL_f8ec5075ea9a49a5b8b0734715945e8d",
            "_dom_classes": [],
            "description": "",
            "_model_name": "FloatProgressModel",
            "bar_style": "success",
            "max": 1269737156,
            "_view_module": "@jupyter-widgets/controls",
            "_model_module_version": "1.5.0",
            "value": 1269737156,
            "_view_count": null,
            "_view_module_version": "1.5.0",
            "orientation": "horizontal",
            "min": 0,
            "description_tooltip": null,
            "_model_module": "@jupyter-widgets/controls",
            "layout": "IPY_MODEL_5adb1b5d47e14e60a8b05dbf42f0e886"
          }
        },
        "782d440148f64dab85551e10a6cce5c5": {
          "model_module": "@jupyter-widgets/controls",
          "model_name": "HTMLModel",
          "model_module_version": "1.5.0",
          "state": {
            "_view_name": "HTMLView",
            "style": "IPY_MODEL_f6d88c78ea39471fbb2128d4ac9af70b",
            "_dom_classes": [],
            "description": "",
            "_model_name": "HTMLModel",
            "placeholder": "​",
            "_view_module": "@jupyter-widgets/controls",
            "_model_module_version": "1.5.0",
            "value": " 1.18G/1.18G [00:41&lt;00:00, 32.5MB/s]",
            "_view_count": null,
            "_view_module_version": "1.5.0",
            "description_tooltip": null,
            "_model_module": "@jupyter-widgets/controls",
            "layout": "IPY_MODEL_e9176852b92849b78428ea4ee82cbabd"
          }
        },
        "063b12246677449ba4666030b1b2bd53": {
          "model_module": "@jupyter-widgets/controls",
          "model_name": "DescriptionStyleModel",
          "model_module_version": "1.5.0",
          "state": {
            "_view_name": "StyleView",
            "_model_name": "DescriptionStyleModel",
            "description_width": "",
            "_view_module": "@jupyter-widgets/base",
            "_model_module_version": "1.5.0",
            "_view_count": null,
            "_view_module_version": "1.2.0",
            "_model_module": "@jupyter-widgets/controls"
          }
        },
        "e8b0b25d10dc442580d03c27723641ae": {
          "model_module": "@jupyter-widgets/base",
          "model_name": "LayoutModel",
          "model_module_version": "1.2.0",
          "state": {
            "_view_name": "LayoutView",
            "grid_template_rows": null,
            "right": null,
            "justify_content": null,
            "_view_module": "@jupyter-widgets/base",
            "overflow": null,
            "_model_module_version": "1.2.0",
            "_view_count": null,
            "flex_flow": null,
            "width": null,
            "min_width": null,
            "border": null,
            "align_items": null,
            "bottom": null,
            "_model_module": "@jupyter-widgets/base",
            "top": null,
            "grid_column": null,
            "overflow_y": null,
            "overflow_x": null,
            "grid_auto_flow": null,
            "grid_area": null,
            "grid_template_columns": null,
            "flex": null,
            "_model_name": "LayoutModel",
            "justify_items": null,
            "grid_row": null,
            "max_height": null,
            "align_content": null,
            "visibility": null,
            "align_self": null,
            "height": null,
            "min_height": null,
            "padding": null,
            "grid_auto_rows": null,
            "grid_gap": null,
            "max_width": null,
            "order": null,
            "_view_module_version": "1.2.0",
            "grid_template_areas": null,
            "object_position": null,
            "object_fit": null,
            "grid_auto_columns": null,
            "margin": null,
            "display": null,
            "left": null
          }
        },
        "f8ec5075ea9a49a5b8b0734715945e8d": {
          "model_module": "@jupyter-widgets/controls",
          "model_name": "ProgressStyleModel",
          "model_module_version": "1.5.0",
          "state": {
            "_view_name": "StyleView",
            "_model_name": "ProgressStyleModel",
            "description_width": "",
            "_view_module": "@jupyter-widgets/base",
            "_model_module_version": "1.5.0",
            "_view_count": null,
            "_view_module_version": "1.2.0",
            "bar_color": null,
            "_model_module": "@jupyter-widgets/controls"
          }
        },
        "5adb1b5d47e14e60a8b05dbf42f0e886": {
          "model_module": "@jupyter-widgets/base",
          "model_name": "LayoutModel",
          "model_module_version": "1.2.0",
          "state": {
            "_view_name": "LayoutView",
            "grid_template_rows": null,
            "right": null,
            "justify_content": null,
            "_view_module": "@jupyter-widgets/base",
            "overflow": null,
            "_model_module_version": "1.2.0",
            "_view_count": null,
            "flex_flow": null,
            "width": null,
            "min_width": null,
            "border": null,
            "align_items": null,
            "bottom": null,
            "_model_module": "@jupyter-widgets/base",
            "top": null,
            "grid_column": null,
            "overflow_y": null,
            "overflow_x": null,
            "grid_auto_flow": null,
            "grid_area": null,
            "grid_template_columns": null,
            "flex": null,
            "_model_name": "LayoutModel",
            "justify_items": null,
            "grid_row": null,
            "max_height": null,
            "align_content": null,
            "visibility": null,
            "align_self": null,
            "height": null,
            "min_height": null,
            "padding": null,
            "grid_auto_rows": null,
            "grid_gap": null,
            "max_width": null,
            "order": null,
            "_view_module_version": "1.2.0",
            "grid_template_areas": null,
            "object_position": null,
            "object_fit": null,
            "grid_auto_columns": null,
            "margin": null,
            "display": null,
            "left": null
          }
        },
        "f6d88c78ea39471fbb2128d4ac9af70b": {
          "model_module": "@jupyter-widgets/controls",
          "model_name": "DescriptionStyleModel",
          "model_module_version": "1.5.0",
          "state": {
            "_view_name": "StyleView",
            "_model_name": "DescriptionStyleModel",
            "description_width": "",
            "_view_module": "@jupyter-widgets/base",
            "_model_module_version": "1.5.0",
            "_view_count": null,
            "_view_module_version": "1.2.0",
            "_model_module": "@jupyter-widgets/controls"
          }
        },
        "e9176852b92849b78428ea4ee82cbabd": {
          "model_module": "@jupyter-widgets/base",
          "model_name": "LayoutModel",
          "model_module_version": "1.2.0",
          "state": {
            "_view_name": "LayoutView",
            "grid_template_rows": null,
            "right": null,
            "justify_content": null,
            "_view_module": "@jupyter-widgets/base",
            "overflow": null,
            "_model_module_version": "1.2.0",
            "_view_count": null,
            "flex_flow": null,
            "width": null,
            "min_width": null,
            "border": null,
            "align_items": null,
            "bottom": null,
            "_model_module": "@jupyter-widgets/base",
            "top": null,
            "grid_column": null,
            "overflow_y": null,
            "overflow_x": null,
            "grid_auto_flow": null,
            "grid_area": null,
            "grid_template_columns": null,
            "flex": null,
            "_model_name": "LayoutModel",
            "justify_items": null,
            "grid_row": null,
            "max_height": null,
            "align_content": null,
            "visibility": null,
            "align_self": null,
            "height": null,
            "min_height": null,
            "padding": null,
            "grid_auto_rows": null,
            "grid_gap": null,
            "max_width": null,
            "order": null,
            "_view_module_version": "1.2.0",
            "grid_template_areas": null,
            "object_position": null,
            "object_fit": null,
            "grid_auto_columns": null,
            "margin": null,
            "display": null,
            "left": null
          }
        }
      }
    }
  },
  "cells": [
    {
      "cell_type": "markdown",
      "metadata": {
        "id": "LBSYoWbi-45k"
      },
      "source": [
        "# **Fine-tuning XLS-R for Multi-Lingual ASR with 🤗 Transformers**\n",
        "\n",
        "***New (11/2021)***: *This blog post has been updated to feature XLSR's successor, called [XLS-R](https://huggingface.co/models?other=xls_r)*."
      ]
    },
    {
      "cell_type": "markdown",
      "metadata": {
        "id": "V7YOT2mnUiea"
      },
      "source": [
        "**Wav2Vec2** is a pretrained model for Automatic Speech Recognition (ASR) and was released in [September 2020](https://ai.facebook.com/blog/wav2vec-20-learning-the-structure-of-speech-from-raw-audio/) by *Alexei Baevski, Michael Auli, and Alex Conneau*.  Soon after the superior performance of Wav2Vec2 was demonstrated on one of the most popular English datasets for ASR, called [LibriSpeech](https://huggingface.co/datasets/librispeech_asr), *Facebook AI* presented a multi-lingual version of Wav2Vec2, called [XLSR](https://arxiv.org/abs/2006.13979). XLSR stands for *cross-lingual speech representations* and refers to model's ability to learn speech representations that are useful across multiple languages.\n",
        "\n",
        "XLSR's successor, simply called **XLS-R** (refering to the [*''XLM-R*](https://ai.facebook.com/blog/-xlm-r-state-of-the-art-cross-lingual-understanding-through-self-supervision/) *for Speech''*), was released in [November 2021](https://ai.facebook.com/blog/xls-r-self-supervised-speech-processing-for-128-languages) by *Arun Babu, Changhan Wang, Andros Tjandra, et al.* XLS-R used almost **half a million** hours of audio data in 128 languages for self-supervised pre-training and comes in sizes ranging from 300 milion up to **two billion** parameters. You can find the pretrained checkpoints on the 🤗 Hub:\n",
        "\n",
        "- [**Wav2Vec2-XLS-R-300M**](https://huggingface.co/facebook/wav2vec2-xls-r-300m)\n",
        "- [**Wav2Vec2-XLS-R-1B**](https://huggingface.co/facebook/wav2vec2-xls-r-1b)\n",
        "- [**Wav2Vec2-XLS-R-2B**](https://huggingface.co/facebook/wav2vec2-xls-r-2b)\n",
        "\n",
        "Similar to [BERT's masked language modeling objective](http://jalammar.github.io/illustrated-bert/), XLS-R learns contextualized speech representations by randomly masking feature vectors before passing them to a transformer network during self-supervised pre-training (*i.e.* diagram on the left below). \n",
        "\n",
        "For fine-tuning, a single linear layer is added on top of the pre-trained network to train the model on labeled data of audio downstream tasks such as speech recognition, speech translation and audio classification (*i.e.* diagram on the right below).\n",
        "\n",
        "![wav2vec2_structure](https://raw.githubusercontent.com/patrickvonplaten/scientific_images/master/xls_r.png)\n",
        "\n",
        "XLS-R shows impressive improvements over previous state-of-the-art results on both speech recognition, speech translation and speaker/language identification, *cf.* with Table 3-6, Table 7-10, and Table 11-12 respectively of the official [paper](https://ai.facebook.com/blog/xls-r-self-supervised-speech-processing-for-128-languages)."
      ]
    },
    {
      "cell_type": "markdown",
      "metadata": {
        "id": "nT_QrfWtsxIz"
      },
      "source": [
        "## Notebook Setup"
      ]
    },
    {
      "cell_type": "markdown",
      "metadata": {
        "id": "kruqixOYHaIo"
      },
      "source": [
        "\n",
        "In this notebook, we will give an in-detail explanation of how XLS-R - more specifically the pre-trained checkpoint [**Wav2Vec2-XLS-R-300M**](https://huggingface.co/facebook/wav2vec2-xls-r-300m) - can be fine-tuned for ASR.  \n",
        "\n",
        "For demonstration purposes, we fine-tune the model on the low resource ASR dataset of [Common Voice](https://huggingface.co/datasets/common_voice) that contains only *ca.* 4h of validated training data."
      ]
    },
    {
      "cell_type": "markdown",
      "metadata": {
        "id": "Gx9OdDYrCtQ1"
      },
      "source": [
        "XLS-R is fine-tuned using Connectionist Temporal Classification (CTC), which is an algorithm that is used to train neural networks for sequence-to-sequence problems, such as ASR and handwriting recognition. \n",
        "\n",
        "I highly recommend reading the well-written blog post [*Sequence Modeling with CTC (2017)*](https://distill.pub/2017/ctc/) by Awni Hannun."
      ]
    },
    {
      "cell_type": "markdown",
      "metadata": {
        "id": "wcHuXIaWyHZU"
      },
      "source": [
        "First, let's try to get a good GPU in our colab! With Google Colab's free version it's sadly becoming much harder to get access to a good GPU. With Google Colab Pro, however, one should easily get either a V100 or P100 GPU."
      ]
    },
    {
      "cell_type": "code",
      "metadata": {
        "colab": {
          "base_uri": "https://localhost:8080/"
        },
        "id": "YELVqGxMxnbG",
        "outputId": "5b9a57db-e7f4-4bc0-9b77-2eeb234801b3"
      },
      "source": [
        "gpu_info = !nvidia-smi\n",
        "gpu_info = '\\n'.join(gpu_info)\n",
        "if gpu_info.find('failed') >= 0:\n",
        "  print('Not connected to a GPU')\n",
        "else:\n",
        "  print(gpu_info)"
      ],
      "execution_count": 2,
      "outputs": [
        {
          "output_type": "stream",
          "name": "stdout",
          "text": [
            "Wed Nov 24 11:19:35 2021       \n",
            "+-----------------------------------------------------------------------------+\n",
            "| NVIDIA-SMI 495.44       Driver Version: 460.32.03    CUDA Version: 11.2     |\n",
            "|-------------------------------+----------------------+----------------------+\n",
            "| GPU  Name        Persistence-M| Bus-Id        Disp.A | Volatile Uncorr. ECC |\n",
            "| Fan  Temp  Perf  Pwr:Usage/Cap|         Memory-Usage | GPU-Util  Compute M. |\n",
            "|                               |                      |               MIG M. |\n",
            "|===============================+======================+======================|\n",
            "|   0  Tesla K80           Off  | 00000000:00:04.0 Off |                    0 |\n",
            "| N/A   53C    P8    32W / 149W |      0MiB / 11441MiB |      0%      Default |\n",
            "|                               |                      |                  N/A |\n",
            "+-------------------------------+----------------------+----------------------+\n",
            "                                                                               \n",
            "+-----------------------------------------------------------------------------+\n",
            "| Processes:                                                                  |\n",
            "|  GPU   GI   CI        PID   Type   Process name                  GPU Memory |\n",
            "|        ID   ID                                                   Usage      |\n",
            "|=============================================================================|\n",
            "|  No running processes found                                                 |\n",
            "+-----------------------------------------------------------------------------+\n"
          ]
        }
      ]
    },
    {
      "cell_type": "markdown",
      "metadata": {
        "id": "e335hPmdtASZ"
      },
      "source": [
        "Before we start, let's install `datasets` and `transformers`. Also, we need the `torchaudio` to load audio files and `jiwer` to evaluate our fine-tuned model using the [word error rate (WER)](https://huggingface.co/metrics/wer) metric ${}^1$."
      ]
    },
    {
      "cell_type": "code",
      "metadata": {
        "id": "c8eh87Hoee5d"
      },
      "source": [
        "%%capture\n",
        "!pip install datasets==1.13.3\n",
        "!pip install transformers==4.11.3\n",
        "!pip install huggingface_hub==0.1\n",
        "!pip install torchaudio==0.10.0+cu113 -f https://download.pytorch.org/whl/cu113/torch_stable.html\n",
        "!pip install jiwer"
      ],
      "execution_count": 3,
      "outputs": []
    },
    {
      "cell_type": "markdown",
      "metadata": {
        "id": "0xxt_LwxDQlO"
      },
      "source": [
        "We strongly suggest to upload your training checkpoints directly to the [🤗 Hub](https://huggingface.co/) while training. The [🤗 Hub](https://huggingface.co/) has integrated version control so you can be sure that no model checkpoint is getting lost during training. \n",
        "\n",
        "To do so you have to store your authentication token from the Hugging Face website (sign up [here](https://huggingface.co/join) if you haven't already!)"
      ]
    },
    {
      "cell_type": "code",
      "metadata": {
        "id": "ljQ0E2LSqsbQ"
      },
      "source": [
        "!git config --global credential.helper store"
      ],
      "execution_count": 3,
      "outputs": []
    },
    {
      "cell_type": "code",
      "metadata": {
        "colab": {
          "base_uri": "https://localhost:8080/",
          "height": 283,
          "referenced_widgets": [
            "68fc153b28dd46bc99d23be49042c211",
            "ea10e06bd7604dc7b96995b620288c5e",
            "ddf014e7b61841c59a0a4f324cd8d24e",
            "532dc75e333648b387f042f50b3d9599",
            "09eaad5935b1405ca3637bf905e95d47",
            "b934047ffe4c47eeb1266f90124eb951",
            "7a14d287deb44c5285e1e7375d199de1",
            "21931f4c21114401804563999bb1119a",
            "8f5f035a02a94d83be11f1d9f3871755",
            "bc4e7cd0061f4576bdc37226e53ac3f4",
            "09b2a5819c40408481120982d5790fe9",
            "a058f70192494c76b7f23200a0f281cb",
            "fe776ef4c7a849ef80b0c45e4e10132d",
            "cd3e4e2c8f304e7682771843e0af096b",
            "d4907befbfeb4ad39a6ee97622c062bf",
            "6b10ed13c5b04fe5b68cf2e2ed410c06"
          ]
        },
        "id": "mlMSH3T3EazV",
        "outputId": "2d805479-2079-499c-edcc-596f6e4c2b87"
      },
      "source": [
        "from huggingface_hub import notebook_login\n",
        "\n",
        "notebook_login()"
      ],
      "execution_count": 4,
      "outputs": [
        {
          "output_type": "stream",
          "name": "stdout",
          "text": [
            "401 Client Error: Unauthorized for url: https://huggingface.co/api/login\n",
            "\u001b[1m\u001b[31mUnauthorized\u001b[0m\n"
          ]
        }
      ]
    },
    {
      "cell_type": "markdown",
      "metadata": {
        "id": "ujdZ2TxhElk6"
      },
      "source": [
        "\n",
        "Then you need to install Git-LFS to upload your model checkpoints:"
      ]
    },
    {
      "cell_type": "code",
      "metadata": {
        "id": "WcR-d83OEkqb"
      },
      "source": [
        "%%capture\n",
        "!apt install git-lfs"
      ],
      "execution_count": 1,
      "outputs": []
    },
    {
      "cell_type": "markdown",
      "metadata": {
        "id": "Mn9swf6EQ9Vd"
      },
      "source": [
        "\n",
        "\n",
        "\n",
        "---\n",
        "\n",
        "${}^1$ In the [paper](https://arxiv.org/pdf/2006.13979.pdf), the model was evaluated using the phoneme error rate (PER), but by far the most common metric in ASR is the word error rate (WER). To keep this notebook as general as possible we decided to evaluate the model using WER."
      ]
    },
    {
      "cell_type": "markdown",
      "metadata": {
        "id": "0mW-C1Nt-j7k"
      },
      "source": [
        "## Prepare Data, Tokenizer, Feature Extractor"
      ]
    },
    {
      "cell_type": "markdown",
      "metadata": {
        "id": "BeBosnY9BH3e"
      },
      "source": [
        "ASR models transcribe speech to text, which means that we both need a feature extractor that processes the speech signal to the model's input format, *e.g.* a feature vector, and a tokenizer that processes the model's output format to text. \n",
        "\n",
        "In 🤗 Transformers, the XLS-R model is thus accompanied by both a tokenizer, called [Wav2Vec2CTCTokenizer](https://huggingface.co/transformers/master/model_doc/wav2vec2.html#wav2vec2ctctokenizer), and a feature extractor, called [Wav2Vec2FeatureExtractor](https://huggingface.co/transformers/master/model_doc/wav2vec2.html#wav2vec2featureextractor).\n",
        "\n",
        "Let's start by creating the tokenizer to decode the predicted output classes to the output transcription."
      ]
    },
    {
      "cell_type": "markdown",
      "metadata": {
        "id": "sEXEWEJGQPqD"
      },
      "source": [
        "### Create `Wav2Vec2CTCTokenizer`"
      ]
    },
    {
      "cell_type": "markdown",
      "metadata": {
        "id": "tWmMikuNEKl_"
      },
      "source": [
        "A pre-trained XLS-R model maps the speech signal to a sequence of context representations as illustrated in the figure above. However, for speech recognition the model has to to map this sequence of context representations to its corresponding transcription which means that a linear layer has to be added on top of the transformer block (shown in yellow in the diagram above). This linear layer is used to classifies each context representation to a token class analogous how, *e.g.*, after pretraining a linear layer is added on top of BERT's embeddings for further classification - *cf.* with *'BERT'* section of this [blog post](https://huggingface.co/blog/warm-starting-encoder-decoder)."
      ]
    },
    {
      "cell_type": "markdown",
      "metadata": {
        "id": "v5oRE8XjIUH3"
      },
      "source": [
        "The output size of this layer corresponds to the number of tokens in the vocabulary, which does **not** depend onXLS-R's pretraining task, but only on the labeled dataset used for fine-tuning. So in the first step, we will take a look at the chosen dataset of Common Voice and define a vocabulary based on the transcriptions."
      ]
    },
    {
      "cell_type": "markdown",
      "metadata": {
        "id": "idBczw8mWzgt"
      },
      "source": [
        "First, let's go to Common Voice [official website](https://commonvoice.mozilla.org/en/datasets) and pick a language to fine-tune XLS-R on. For this notebook, we will use Turkish. \n",
        "\n",
        "For each language-specific dataset, you can find a language code corresponding to your chosen language. On [Common Voice](https://commonvoice.mozilla.org/en/datasets), look for the field \"Version\". The language code then corresponds to the prefix before the underscore. For Turkish, *e.g.* the language code is `\"tr\"`.\n",
        "\n",
        "Great, now we can use 🤗 Datasets' simple API to download the data. The dataset name is `\"common_voice\"`, the configuration name corresponds to the language code, which is `\"tr\"` in our case."
      ]
    },
    {
      "cell_type": "markdown",
      "metadata": {
        "id": "bee4g9rpLxll"
      },
      "source": [
        "Common Voice has many different splits including `invalidated`, which refers to data that was not rated as \"clean enough\" to be considered useful. In this notebook, we will only make use of the splits `\"train\"`, `\"validation\"` and `\"test\"`. \n",
        "\n",
        "Because the Turkish dataset is so small, we will merge both the validation and training data into a training dataset and only use the test data for validation."
      ]
    },
    {
      "cell_type": "code",
      "metadata": {
        "colab": {
          "base_uri": "https://localhost:8080/",
          "height": 373,
          "referenced_widgets": [
            "b64932bf7b234058bb67dbd9591309af",
            "31df503f203e49cf88541a37e0fa2008",
            "02297b75b5e6476b8d0ab4406af780c1",
            "00af33e46622456085b4234449a40948",
            "3b9a6b3c167542b193a7cff10e0b1843",
            "0459d874a786494b88db5102387588a2",
            "f957ff00fc6b4372a738d05f161c7375",
            "925724f2c2b24b29b4ae8a7998dd7bde",
            "038bd4415577404eb1b0b8b373aec3ff",
            "a0be52f0fd4b422a8bf1a4bf7b9c5999",
            "2cb4c3e7914745359cb46aad4ddb314b",
            "002114aa3b664365a166299b45c97cdf",
            "802f0e49f5714eb5946a0c8827aa3f0d",
            "d5eb90bef8be47f4a3952c9f94244d60",
            "39e086d885a04002b84852d332923105",
            "1bc18b7314214e9a856c88c4e20097bf",
            "65b16050edb44836a3f094894ca21919",
            "b8c13ee9e5684cb9bfcc20d8cdf84620",
            "cf8e507d6f874234b186f6ab14ff7a04",
            "0eca856a47b448c5b57f51171582c8d6",
            "67c2440c505e45f0905a6d88ac1d9aa2",
            "d4db0d4b26c24de0a7bff6c503f2b748",
            "de40437918814125abd5d2434c0dd8af",
            "5327be10729b4d9b913e92f4634f1c93",
            "d2ca4d3a7f6846d5b8a5c934595d6d71",
            "7c222ad3d0a348d69993a800e76775a0",
            "7151a0afc7b54b6189c1387441c32e99",
            "0dc51898681043adbd63b7163aa1c214",
            "058e4bce6cd745b1883fc7f475a3ca00",
            "44eeceb7eb374102986a4d0ff292031a",
            "ac64e4018c1849f7bd719ce073cdfdd9",
            "a09a26ca311f436f9f89f0a37fd9eed1",
            "8c865d4ef03c4222b4acc5000f20b645",
            "92aa31ccdcb8463db277a0c2443a386c",
            "4867da8250b74509b9b85d13835d1e66",
            "c2ebb48786bd4a15a77666bc9c7d5e68",
            "a8a205a3487a4de086eac36daee4d019",
            "dca79aa7402c4051aa9f34ee2ff5f32d",
            "dc5bfab0312d4a378d8c51488ad376c5",
            "a8a1ed1822bf40328e16fb1599f18d77",
            "0e708d5a3c9947a1bf09f25655c5ce25",
            "a43e47b0417e4b069d6382086e3eff1e",
            "36112de9855c4542a7cd259e9c35dd01",
            "80a2d0d3272b439e8a5c2d7ff75a23d1",
            "e75d7574cc14422b992517b322ee81b5",
            "6aad6506b6db4b4886330bbf606399e8",
            "63ba8797812241f4965a9a64bb91d2c3",
            "201c90d26f8f4b8fb3a9f718c0bdef7a",
            "b0814c348c7b4550ad762ea6ecd03ed1",
            "c1eac8e7173843139f8498519b88fb32",
            "3512e9c0d0de416885448e05bdfd8e5f",
            "2d0bf995bd5b45e99af0a1c983a775f8",
            "1e20f5d6c2764969a4c6bdedc5ce4423",
            "63cec747e98c4caaa6612a307a70ef11",
            "ed8f169e0cce41f685d84a53fac1fc84",
            "5c9e59359e8846f7a81fc27feb337caa",
            "bb58ec34459543b3acbac9b9862eef9d",
            "be373be69608404485616d149ab87328",
            "227353377f21405c830b85397d66f58f",
            "171b19a938e8447bb4bc7a5f2a098ed7",
            "63443bcf6b9649eeb1057b0eede69241",
            "0ad8463e65b94a9da0ab712bde1981f5",
            "4da77540fe074d96a01c5cb6907ff8f8",
            "6fd7657b37564ddd8b9419d5a84cba9b",
            "e0916e9b634047789065ca9d0bfe828a",
            "edc0a3c9c52e439589060ec9d94837a3",
            "675855ee95a34bf7ad62812fa903d655",
            "8fac98fc8c5b494fa170e3e3effe3c13",
            "836fad4705404a93b62508b441f979bc",
            "e6bec0d4bcdd471fa7bcc09e19ff2d5d",
            "d23769f678b943e3b77b1b1bb3e3d43e",
            "26c9f5e1d2cb409290711e9057e3cc26",
            "1e7b9559f21142f8aec1596f7cf56b0f",
            "6c131081dd524dadb58860002518dee1",
            "9a70a5391a424026a7de365dc33c9eb9",
            "d12b0b97e26e4278bc1c35fa8d68bcd6",
            "c03f6b5d9e3343e7b7f099bdb77f2d85",
            "b9a88c77cbcb4d0181dffb9cad3d3216",
            "ae70fa964eeb4108b6fc1013420df266",
            "e7fe0fac25504b68a27e37b4c83775ba",
            "8dbb4a72fd3d49a982c93b9b37511d6f",
            "a5f6c12fd4e14363afbb95379f626d89",
            "9448aae190654d1fbb06a564e1872720",
            "3853601236c74b6ab83a281068d5699c",
            "eeeebfe3f5ad42fb8c0f23a693cd75a0",
            "88140de632c143d8b119656265d16f69",
            "cdbf1a0c73214f2f966b414d138064c0",
            "2059fd92c6584ee78c5d7910631ba720"
          ]
        },
        "id": "2MMXcWFFgCXU",
        "outputId": "038c314b-a4ba-4194-cc6a-49dce8b12094"
      },
      "source": [
        "from datasets import load_dataset, load_metric, Audio\n",
        "\n",
        "common_voice_train = load_dataset(\"common_voice\", \"ga-IE\", split=\"train+validation\")\n",
        "common_voice_test = load_dataset(\"common_voice\", \"ga-IE\", split=\"test\")"
      ],
      "execution_count": 4,
      "outputs": [
        {
          "output_type": "display_data",
          "data": {
            "application/vnd.jupyter.widget-view+json": {
              "model_id": "b64932bf7b234058bb67dbd9591309af",
              "version_minor": 0,
              "version_major": 2
            },
            "text/plain": [
              "Downloading:   0%|          | 0.00/4.44k [00:00<?, ?B/s]"
            ]
          },
          "metadata": {}
        },
        {
          "output_type": "display_data",
          "data": {
            "application/vnd.jupyter.widget-view+json": {
              "model_id": "002114aa3b664365a166299b45c97cdf",
              "version_minor": 0,
              "version_major": 2
            },
            "text/plain": [
              "Downloading:   0%|          | 0.00/10.2k [00:00<?, ?B/s]"
            ]
          },
          "metadata": {}
        },
        {
          "output_type": "stream",
          "name": "stdout",
          "text": [
            "Downloading and preparing dataset common_voice/ga-IE (download: 149.30 MiB, generated: 1.68 MiB, post-processed: Unknown size, total: 150.98 MiB) to /root/.cache/huggingface/datasets/common_voice/ga-IE/6.1.0/f7a9d973839b7706e9e281c19b7e512f31badf3c0fdbd21c671f3c4bf9acf3b9...\n"
          ]
        },
        {
          "output_type": "display_data",
          "data": {
            "application/vnd.jupyter.widget-view+json": {
              "model_id": "de40437918814125abd5d2434c0dd8af",
              "version_minor": 0,
              "version_major": 2
            },
            "text/plain": [
              "Downloading:   0%|          | 0.00/157M [00:00<?, ?B/s]"
            ]
          },
          "metadata": {}
        },
        {
          "output_type": "display_data",
          "data": {
            "application/vnd.jupyter.widget-view+json": {
              "model_id": "92aa31ccdcb8463db277a0c2443a386c",
              "version_minor": 0,
              "version_major": 2
            },
            "text/plain": [
              "0 examples [00:00, ? examples/s]"
            ]
          },
          "metadata": {}
        },
        {
          "output_type": "display_data",
          "data": {
            "application/vnd.jupyter.widget-view+json": {
              "model_id": "e75d7574cc14422b992517b322ee81b5",
              "version_minor": 0,
              "version_major": 2
            },
            "text/plain": [
              "0 examples [00:00, ? examples/s]"
            ]
          },
          "metadata": {}
        },
        {
          "output_type": "display_data",
          "data": {
            "application/vnd.jupyter.widget-view+json": {
              "model_id": "5c9e59359e8846f7a81fc27feb337caa",
              "version_minor": 0,
              "version_major": 2
            },
            "text/plain": [
              "0 examples [00:00, ? examples/s]"
            ]
          },
          "metadata": {}
        },
        {
          "output_type": "display_data",
          "data": {
            "application/vnd.jupyter.widget-view+json": {
              "model_id": "675855ee95a34bf7ad62812fa903d655",
              "version_minor": 0,
              "version_major": 2
            },
            "text/plain": [
              "0 examples [00:00, ? examples/s]"
            ]
          },
          "metadata": {}
        },
        {
          "output_type": "display_data",
          "data": {
            "application/vnd.jupyter.widget-view+json": {
              "model_id": "b9a88c77cbcb4d0181dffb9cad3d3216",
              "version_minor": 0,
              "version_major": 2
            },
            "text/plain": [
              "0 examples [00:00, ? examples/s]"
            ]
          },
          "metadata": {}
        },
        {
          "output_type": "stream",
          "name": "stdout",
          "text": [
            "Dataset common_voice downloaded and prepared to /root/.cache/huggingface/datasets/common_voice/ga-IE/6.1.0/f7a9d973839b7706e9e281c19b7e512f31badf3c0fdbd21c671f3c4bf9acf3b9. Subsequent calls will reuse this data.\n"
          ]
        },
        {
          "output_type": "stream",
          "name": "stderr",
          "text": [
            "Reusing dataset common_voice (/root/.cache/huggingface/datasets/common_voice/ga-IE/6.1.0/f7a9d973839b7706e9e281c19b7e512f31badf3c0fdbd21c671f3c4bf9acf3b9)\n"
          ]
        }
      ]
    },
    {
      "cell_type": "markdown",
      "metadata": {
        "id": "ri5y5N_HMANq"
      },
      "source": [
        "Many ASR datasets only provide the target text, `'sentence'` for each audio array `'audio'` and file `'path'`. Common Voice actually provides much more information about each audio file, such as the `'accent'`, etc. Keeping the notebook as general as possible, we only consider the transcribed text for fine-tuning.\n",
        "\n"
      ]
    },
    {
      "cell_type": "code",
      "metadata": {
        "id": "kbyq6lDgQc2a"
      },
      "source": [
        "common_voice_train = common_voice_train.remove_columns([\"accent\", \"age\", \"client_id\", \"down_votes\", \"gender\", \"locale\", \"segment\", \"up_votes\"])\n",
        "common_voice_test = common_voice_test.remove_columns([\"accent\", \"age\", \"client_id\", \"down_votes\", \"gender\", \"locale\", \"segment\", \"up_votes\"])"
      ],
      "execution_count": 5,
      "outputs": []
    },
    {
      "cell_type": "markdown",
      "metadata": {
        "id": "Go9Hq4e4NDT9"
      },
      "source": [
        "Let's write a short function to display some random samples of the dataset and run it a couple of times to get a feeling for the transcriptions."
      ]
    },
    {
      "cell_type": "code",
      "metadata": {
        "id": "72737oog2F6U"
      },
      "source": [
        "from datasets import ClassLabel\n",
        "import random\n",
        "import pandas as pd\n",
        "from IPython.display import display, HTML\n",
        "\n",
        "def show_random_elements(dataset, num_examples=10):\n",
        "    assert num_examples <= len(dataset), \"Can't pick more elements than there are in the dataset.\"\n",
        "    picks = []\n",
        "    for _ in range(num_examples):\n",
        "        pick = random.randint(0, len(dataset)-1)\n",
        "        while pick in picks:\n",
        "            pick = random.randint(0, len(dataset)-1)\n",
        "        picks.append(pick)\n",
        "    \n",
        "    df = pd.DataFrame(dataset[picks])\n",
        "    display(HTML(df.to_html()))"
      ],
      "execution_count": 6,
      "outputs": []
    },
    {
      "cell_type": "code",
      "metadata": {
        "colab": {
          "base_uri": "https://localhost:8080/",
          "height": 363
        },
        "id": "K_JUmf3G3b9S",
        "outputId": "5f858121-a08d-457f-8d5f-0d24ca07dc30"
      },
      "source": [
        "show_random_elements(common_voice_train.remove_columns([\"path\", \"audio\"]), num_examples=10)"
      ],
      "execution_count": 7,
      "outputs": [
        {
          "output_type": "display_data",
          "data": {
            "text/html": [
              "<table border=\"1\" class=\"dataframe\">\n",
              "  <thead>\n",
              "    <tr style=\"text-align: right;\">\n",
              "      <th></th>\n",
              "      <th>sentence</th>\n",
              "    </tr>\n",
              "  </thead>\n",
              "  <tbody>\n",
              "    <tr>\n",
              "      <th>0</th>\n",
              "      <td>Bhí sé anseo inné, agus bhí mála aige</td>\n",
              "    </tr>\n",
              "    <tr>\n",
              "      <th>1</th>\n",
              "      <td>Ní dhearna an coileach ach imeacht láithreach agus an scéal a insint d’fhear an tí</td>\n",
              "    </tr>\n",
              "    <tr>\n",
              "      <th>2</th>\n",
              "      <td>Cé hiad seo?</td>\n",
              "    </tr>\n",
              "    <tr>\n",
              "      <th>3</th>\n",
              "      <td>Níl, a bhean uasal, tá sí ag an doras</td>\n",
              "    </tr>\n",
              "    <tr>\n",
              "      <th>4</th>\n",
              "      <td>i bPort Laoise, i mBaile an Chollaigh, Corcaigh</td>\n",
              "    </tr>\n",
              "    <tr>\n",
              "      <th>5</th>\n",
              "      <td>Is fearr an tsláinte ná na táinte</td>\n",
              "    </tr>\n",
              "    <tr>\n",
              "      <th>6</th>\n",
              "      <td>\"Tréaslaím le Seachtain na Gaeilge as a mana tarraingteach \"\"Croí na Teanga: It's you\"\".\"</td>\n",
              "    </tr>\n",
              "    <tr>\n",
              "      <th>7</th>\n",
              "      <td>an cnoc is airde in Éirinn</td>\n",
              "    </tr>\n",
              "    <tr>\n",
              "      <th>8</th>\n",
              "      <td>Níl ann ach nach n-oireann sé di.</td>\n",
              "    </tr>\n",
              "    <tr>\n",
              "      <th>9</th>\n",
              "      <td>Tá leabhar eile anseo i mo láimh agam</td>\n",
              "    </tr>\n",
              "  </tbody>\n",
              "</table>"
            ],
            "text/plain": [
              "<IPython.core.display.HTML object>"
            ]
          },
          "metadata": {}
        }
      ]
    },
    {
      "cell_type": "markdown",
      "metadata": {
        "id": "fowcOllGNNju"
      },
      "source": [
        "Alright! The transcriptions look fairly clean. Having translated the transcribed sentences, it seems that the language corresponds more to written-out text than noisy dialogue. This makes sense considering that [Common Voice](https://huggingface.co/datasets/common_voice) is a crowd-sourced read speech corpus."
      ]
    },
    {
      "cell_type": "markdown",
      "metadata": {
        "id": "vq7OR50LN49m"
      },
      "source": [
        "We can see that the transcriptions contain some special characters, such as `,.?!;:`. Without a language model, it is much harder to classify speech chunks to such special characters because they don't really correspond to a characteristic sound unit. *E.g.*, the letter `\"s\"` has a more or less clear sound, whereas the special character `\".\"` does not.\n",
        "Also in order to understand the meaning of a speech signal, it is usually not necessary to include special characters in the transcription.\n",
        "\n",
        "Let's simply remove all characters that don't contribute to the meaning of a word and cannot really be represented by an acoustic sound and normalize the text."
      ]
    },
    {
      "cell_type": "code",
      "metadata": {
        "id": "svKzVJ_hQGK6"
      },
      "source": [
        "import re\n",
        "chars_to_remove_regex = '[\\,\\?\\.\\!\\-\\;\\:\\\"\\“\\%\\‘\\”\\�\\(\\)–\\*]'\n",
        "\n",
        "def _ga_lc(text):\n",
        "    if text[0:1] in \"nt\" and text[1:2] in \"AÁEÉIÍOÓUÚ\":\n",
        "        return text[0:1] + \"-\" + text[1:].lower()\n",
        "    else:\n",
        "        return text.lower()\n",
        "\n",
        "def ga_lc(text):\n",
        "    words = []\n",
        "    for word in text.split(\" \"):\n",
        "        words.append(_ga_lc(word))\n",
        "    return \" \".join(words)\n",
        "\n",
        "def remove_special_characters(batch):\n",
        "    batch[\"sentence\"] = re.sub(chars_to_remove_regex, '', batch[\"sentence\"])\n",
        "    batch[\"sentence\"] = batch[\"sentence\"].replace(\"’\", \"'\")\n",
        "    batch[\"sentence\"] = ga_lc(batch[\"sentence\"])\n",
        "    return batch"
      ],
      "execution_count": 24,
      "outputs": []
    },
    {
      "cell_type": "code",
      "metadata": {
        "colab": {
          "base_uri": "https://localhost:8080/",
          "height": 81,
          "referenced_widgets": [
            "6938ebc40eb0466b94ef2953dc3eeda0",
            "e9f522aa72cf42c5893128b457ce5ea5",
            "a056dbd834cc4faea70c71c208b3eef7",
            "bfff00224c844ea7a338d6154db67595",
            "addea06b99b548a1a879b167ed7c55d7",
            "c507a8b2d3df46c6b93197596939160b",
            "3f1ba981201a4baa914fd532c577c8c2",
            "6c4ca05cff5b47cdb4a899d949d61f72",
            "3095a7bbfcbd48979d69080e0a7c4c06",
            "63d4f96dcd4c4691ad3f3a211a9389fe",
            "9cef1ac6dbc94c8890643220ca8af425",
            "693ce460b6b6423fa8ee8aae7df35258",
            "c85dc1ea99d249419518f594c00f7958",
            "e6c06d1e29ad45ec9bfa710eb0f294fb",
            "c528eb34c34e479fadf646ae253d4a15",
            "5ac6113b15b34219897f21e703ec3d7c",
            "12e8a2299e5a4962ba5cecf14cd9c1a2",
            "af0a231f90614733bd6bcf52637a3727",
            "2e52365ebf9f474e9735b087f335b789",
            "07a52025aed4434987d1c72b713e074e",
            "564d59ee28484541a763b124bb173fff",
            "abf22b500b8c454c8e11f03f8a8346be"
          ]
        },
        "id": "XIHocAuTQbBR",
        "outputId": "6363d192-4bb6-4a6d-8264-c5ff7af8e766"
      },
      "source": [
        "common_voice_train = common_voice_train.map(remove_special_characters)\n",
        "common_voice_test = common_voice_test.map(remove_special_characters)"
      ],
      "execution_count": 25,
      "outputs": [
        {
          "output_type": "display_data",
          "data": {
            "application/vnd.jupyter.widget-view+json": {
              "model_id": "6938ebc40eb0466b94ef2953dc3eeda0",
              "version_minor": 0,
              "version_major": 2
            },
            "text/plain": [
              "  0%|          | 0/1038 [00:00<?, ?ex/s]"
            ]
          },
          "metadata": {}
        },
        {
          "output_type": "display_data",
          "data": {
            "application/vnd.jupyter.widget-view+json": {
              "model_id": "693ce460b6b6423fa8ee8aae7df35258",
              "version_minor": 0,
              "version_major": 2
            },
            "text/plain": [
              "  0%|          | 0/506 [00:00<?, ?ex/s]"
            ]
          },
          "metadata": {}
        }
      ]
    },
    {
      "cell_type": "markdown",
      "metadata": {
        "id": "TxnVS9gIhIma"
      },
      "source": [
        "Let's look at the processed text labels again."
      ]
    },
    {
      "cell_type": "code",
      "metadata": {
        "colab": {
          "base_uri": "https://localhost:8080/",
          "height": 380
        },
        "id": "RBDRAAYxRE6n",
        "outputId": "550565cb-9cf7-408f-c6af-10bd451421bd"
      },
      "source": [
        "show_random_elements(common_voice_train.remove_columns([\"path\",\"audio\"]))"
      ],
      "execution_count": 26,
      "outputs": [
        {
          "output_type": "display_data",
          "data": {
            "text/html": [
              "<table border=\"1\" class=\"dataframe\">\n",
              "  <thead>\n",
              "    <tr style=\"text-align: right;\">\n",
              "      <th></th>\n",
              "      <th>sentence</th>\n",
              "    </tr>\n",
              "  </thead>\n",
              "  <tbody>\n",
              "    <tr>\n",
              "      <th>0</th>\n",
              "      <td>gúim rath agus sonas oraibh go léir</td>\n",
              "    </tr>\n",
              "    <tr>\n",
              "      <th>1</th>\n",
              "      <td>is maith an tanlann an tocras</td>\n",
              "    </tr>\n",
              "    <tr>\n",
              "      <th>2</th>\n",
              "      <td>tháinig seisean agus cleith aige agus mharaigh sé an madra rua</td>\n",
              "    </tr>\n",
              "    <tr>\n",
              "      <th>3</th>\n",
              "      <td>imigh go bun na cé</td>\n",
              "    </tr>\n",
              "    <tr>\n",
              "      <th>4</th>\n",
              "      <td>tá an dream sin ag dul chun na spáinne</td>\n",
              "    </tr>\n",
              "    <tr>\n",
              "      <th>5</th>\n",
              "      <td>cá bhfuil an chathaoir</td>\n",
              "    </tr>\n",
              "    <tr>\n",
              "      <th>6</th>\n",
              "      <td>tá anáthas orm bheith anseo libh inniu</td>\n",
              "    </tr>\n",
              "    <tr>\n",
              "      <th>7</th>\n",
              "      <td>tá áthas orm bheith anseo i bhur measc tráthnóna chun an tionad seo a sheoladh</td>\n",
              "    </tr>\n",
              "    <tr>\n",
              "      <th>8</th>\n",
              "      <td>thar ceann saidhbhín an taire doherty agus ár dtoscaireacht ar fad táimid anbhuíoch díot</td>\n",
              "    </tr>\n",
              "    <tr>\n",
              "      <th>9</th>\n",
              "      <td>oscailt mór an taonú seó bláthanna domhanda déag ag cumann cóiritheoirí bláthanna na cruinne</td>\n",
              "    </tr>\n",
              "  </tbody>\n",
              "</table>"
            ],
            "text/plain": [
              "<IPython.core.display.HTML object>"
            ]
          },
          "metadata": {}
        }
      ]
    },
    {
      "cell_type": "markdown",
      "metadata": {
        "id": "3ORHDb2Th2TW"
      },
      "source": [
        "In CTC, it is common to classify speech chunks into letters, so we will do the same here. \n",
        "Let's extract all distinct letters of the training and test data and build our vocabulary from this set of letters.\n",
        "\n",
        "We write a mapping function that concatenates all transcriptions into one long transcription and then transforms the string into a set of chars. \n",
        "It is important to pass the argument `batched=True` to the `map(...)` function so that the mapping function has access to all transcriptions at once."
      ]
    },
    {
      "cell_type": "code",
      "metadata": {
        "id": "LwCshNbbeRZR"
      },
      "source": [
        "def extract_all_chars(batch):\n",
        "  all_text = \" \".join(batch[\"sentence\"])\n",
        "  vocab = list(set(all_text))\n",
        "  return {\"vocab\": [vocab], \"all_text\": [all_text]}"
      ],
      "execution_count": 27,
      "outputs": []
    },
    {
      "cell_type": "code",
      "metadata": {
        "colab": {
          "base_uri": "https://localhost:8080/",
          "height": 81,
          "referenced_widgets": [
            "87fb9aaf0b1f48e9995070373bfb507a",
            "9d876f66a314422ebde62cdcb7bbd03f",
            "84653451b5964f7f9845e1ad143280bf",
            "a919c646cab24e48b2305ee2590d6da1",
            "392f01eeb8ad4330b061363dba3e4f5f",
            "5e5c660bb1e547c69b45e2a90d49c6ef",
            "0312ecff52564bc784dfe0d3c1d40e23",
            "73700f3cbf1648e1ab3ab74359a14c17",
            "135822fd1cc24357a4ab13b116d6944a",
            "012de4f614534bf2ab2ba9fb77fe3700",
            "1a1a85c41fef49c9b71a4a082e41dca8",
            "360d2c0c6d4b4c58b4846ea6bffec111",
            "d0c0eebc430a402382672703d33609e7",
            "ad1480453e0f406fb7f050e72cebe36d",
            "763a92ca955c468ca61d37e9e33055b3",
            "2ca15e4d5f464140a6d416d1e6db047a",
            "133a51b206244c04be13f2f17028ef47",
            "83fd9e10bd3748748eada1f7b8999d86",
            "cf9c0e2124c64c90aad09ef818d3ec3e",
            "1621770d681341c183387391f6634a3a",
            "0f70957b0f67422b8993ff43e35c61cd",
            "af93920c3fbe4afdb4e6735e4b274fb8"
          ]
        },
        "id": "_m6uUjjcfbjH",
        "outputId": "d9fac379-f224-4bbc-932f-56bcf1c84a46"
      },
      "source": [
        "vocab_train = common_voice_train.map(extract_all_chars, batched=True, batch_size=-1, keep_in_memory=True, remove_columns=common_voice_train.column_names)\n",
        "vocab_test = common_voice_test.map(extract_all_chars, batched=True, batch_size=-1, keep_in_memory=True, remove_columns=common_voice_test.column_names)"
      ],
      "execution_count": 28,
      "outputs": [
        {
          "output_type": "display_data",
          "data": {
            "application/vnd.jupyter.widget-view+json": {
              "model_id": "87fb9aaf0b1f48e9995070373bfb507a",
              "version_minor": 0,
              "version_major": 2
            },
            "text/plain": [
              "  0%|          | 0/1 [00:00<?, ?ba/s]"
            ]
          },
          "metadata": {}
        },
        {
          "output_type": "display_data",
          "data": {
            "application/vnd.jupyter.widget-view+json": {
              "model_id": "360d2c0c6d4b4c58b4846ea6bffec111",
              "version_minor": 0,
              "version_major": 2
            },
            "text/plain": [
              "  0%|          | 0/1 [00:00<?, ?ba/s]"
            ]
          },
          "metadata": {}
        }
      ]
    },
    {
      "cell_type": "markdown",
      "metadata": {
        "id": "7oVgE8RZSJNP"
      },
      "source": [
        "Now, we create the union of all distinct letters in the training dataset and test dataset and convert the resulting list into an enumerated dictionary."
      ]
    },
    {
      "cell_type": "code",
      "metadata": {
        "id": "aQfneNsmlJI0"
      },
      "source": [
        "vocab_list = list(set(vocab_train[\"vocab\"][0]) | set(vocab_test[\"vocab\"][0]))"
      ],
      "execution_count": 29,
      "outputs": []
    },
    {
      "cell_type": "code",
      "metadata": {
        "colab": {
          "base_uri": "https://localhost:8080/"
        },
        "id": "_0kRndSvqaKk",
        "outputId": "869bd7b5-013e-499c-95a2-18cd03f25f9f"
      },
      "source": [
        "vocab_dict = {v: k for k, v in enumerate(sorted(vocab_list))}\n",
        "vocab_dict"
      ],
      "execution_count": 30,
      "outputs": [
        {
          "output_type": "execute_result",
          "data": {
            "text/plain": [
              "{' ': 0,\n",
              " \"'\": 1,\n",
              " '-': 2,\n",
              " 'a': 3,\n",
              " 'b': 4,\n",
              " 'c': 5,\n",
              " 'd': 6,\n",
              " 'e': 7,\n",
              " 'f': 8,\n",
              " 'g': 9,\n",
              " 'h': 10,\n",
              " 'i': 11,\n",
              " 'j': 12,\n",
              " 'k': 13,\n",
              " 'l': 14,\n",
              " 'm': 15,\n",
              " 'n': 16,\n",
              " 'o': 17,\n",
              " 'p': 18,\n",
              " 'r': 19,\n",
              " 's': 20,\n",
              " 't': 21,\n",
              " 'u': 22,\n",
              " 'v': 23,\n",
              " 'w': 24,\n",
              " 'x': 25,\n",
              " 'y': 26,\n",
              " 'á': 27,\n",
              " 'é': 28,\n",
              " 'í': 29,\n",
              " 'ó': 30,\n",
              " 'ú': 31}"
            ]
          },
          "metadata": {},
          "execution_count": 30
        }
      ]
    },
    {
      "cell_type": "markdown",
      "metadata": {
        "id": "JOSzbvs9SXT1"
      },
      "source": [
        "Cool, we see that all letters of the alphabet occur in the dataset (which is not really surprising) and we also extracted the special characters `\"\"` and `'`. Note that we did not exclude those special characters because: \n",
        "\n",
        "The model has to learn to predict when a word is finished or else the model prediction would always be a sequence of chars which would make it impossible to separate words from each other.\n",
        "\n",
        "One should always keep in mind that pre-processing is a very important step before training your model. E.g., we don't want our model to differentiate between `a` and `A` just because we forgot to normalize the data. The difference between `a` and `A` does not depend on the \"sound\" of the letter at all, but more on grammatical rules - *e.g.* use a capitalized letter at the beginning of the sentence. So it is sensible to remove the difference between capitalized and non-capitalized letters so that the model has an easier time learning to transcribe speech. "
      ]
    },
    {
      "cell_type": "markdown",
      "metadata": {
        "id": "b1fBRCn-TRaO"
      },
      "source": [
        "To make it clearer that `\" \"` has its own token class, we give it a more visible character `|`. In addition, we also add an \"unknown\" token so that the model can later deal with characters not encountered in Common Voice's training set. "
      ]
    },
    {
      "cell_type": "code",
      "metadata": {
        "id": "npbIbBoLgaFX"
      },
      "source": [
        "vocab_dict[\"|\"] = vocab_dict[\" \"]\n",
        "del vocab_dict[\" \"]"
      ],
      "execution_count": 31,
      "outputs": []
    },
    {
      "cell_type": "markdown",
      "metadata": {
        "id": "_9yCWg4Sd0cb"
      },
      "source": [
        "Finally, we also add a padding token that corresponds to CTC's \"*blank token*\". The \"blank token\" is a core component of the CTC algorithm. For more information, please take a look at the \"Alignment\" section [here](https://distill.pub/2017/ctc/)."
      ]
    },
    {
      "cell_type": "code",
      "metadata": {
        "colab": {
          "base_uri": "https://localhost:8080/"
        },
        "id": "znF0bNunsjbl",
        "outputId": "ac8e8e57-f6de-4eb3-b890-c5a82c88e0d9"
      },
      "source": [
        "vocab_dict[\"[UNK]\"] = len(vocab_dict)\n",
        "vocab_dict[\"[PAD]\"] = len(vocab_dict)\n",
        "len(vocab_dict)"
      ],
      "execution_count": 32,
      "outputs": [
        {
          "output_type": "execute_result",
          "data": {
            "text/plain": [
              "34"
            ]
          },
          "metadata": {},
          "execution_count": 32
        }
      ]
    },
    {
      "cell_type": "markdown",
      "metadata": {
        "id": "SFPGfet8U5sL"
      },
      "source": [
        "Cool, now our vocabulary is complete and consists of 39 tokens, which means that the linear layer that we will add on top of the pretrained XLS-R checkpoint will have an output dimension of 39."
      ]
    },
    {
      "cell_type": "markdown",
      "metadata": {
        "id": "1CujRgBNVRaD"
      },
      "source": [
        "Let's now save the vocabulary as a json file."
      ]
    },
    {
      "cell_type": "code",
      "metadata": {
        "id": "ehyUoh9vk191"
      },
      "source": [
        "import json\n",
        "with open('vocab.json', 'w') as vocab_file:\n",
        "    json.dump(vocab_dict, vocab_file)"
      ],
      "execution_count": 33,
      "outputs": []
    },
    {
      "cell_type": "markdown",
      "metadata": {
        "id": "SHJDaKlIVVim"
      },
      "source": [
        "In a final step, we use the json file to load the vocabulary into an instance of the `Wav2Vec2CTCTokenizer` class."
      ]
    },
    {
      "cell_type": "code",
      "metadata": {
        "colab": {
          "base_uri": "https://localhost:8080/"
        },
        "id": "xriFGEWQkO4M",
        "outputId": "092b1a14-5eff-48a3-a6bb-7099496919b6"
      },
      "source": [
        "from transformers import Wav2Vec2CTCTokenizer\n",
        "\n",
        "tokenizer = Wav2Vec2CTCTokenizer.from_pretrained(\"./\", unk_token=\"[UNK]\", pad_token=\"[PAD]\", word_delimiter_token=\"|\")"
      ],
      "execution_count": 34,
      "outputs": [
        {
          "output_type": "stream",
          "name": "stderr",
          "text": [
            "file ./config.json not found\n",
            "Special tokens have been added in the vocabulary, make sure the associated word embeddings are fine-tuned or trained.\n"
          ]
        }
      ]
    },
    {
      "cell_type": "markdown",
      "metadata": {
        "id": "KvL12DrNV4cx"
      },
      "source": [
        "If one wants to re-use the just created tokenizer with the fine-tuned model of this notebook, it is strongly advised to upload the `tokenizer` to the [🤗 Hub](https://huggingface.co/). Let's call the repo to which we will upload the files\n",
        "`\"wav2vec2-large-xlsr-turkish-demo-colab\"`:"
      ]
    },
    {
      "cell_type": "code",
      "metadata": {
        "id": "A1XApZBAF2zr"
      },
      "source": [
        "repo_name = \"wav2vec2-large-xls-r-300m-irish-colab\""
      ],
      "execution_count": 35,
      "outputs": []
    },
    {
      "cell_type": "code",
      "metadata": {
        "colab": {
          "base_uri": "https://localhost:8080/"
        },
        "id": "b1ghSBGKtLrF",
        "outputId": "83358cf8-08e2-48ed-9eb4-619948505744"
      },
      "source": [
        "!transformers-cli login"
      ],
      "execution_count": 36,
      "outputs": [
        {
          "output_type": "stream",
          "name": "stdout",
          "text": [
            "\u001b[1m\u001b[31mWARNING! `transformers-cli login` is deprecated and will be removed in v5. Please use `huggingface-cli login` instead.\u001b[0m\n",
            "\n",
            "        _|    _|  _|    _|    _|_|_|    _|_|_|  _|_|_|  _|      _|    _|_|_|      _|_|_|_|    _|_|      _|_|_|  _|_|_|_|\n",
            "        _|    _|  _|    _|  _|        _|          _|    _|_|    _|  _|            _|        _|    _|  _|        _|\n",
            "        _|_|_|_|  _|    _|  _|  _|_|  _|  _|_|    _|    _|  _|  _|  _|  _|_|      _|_|_|    _|_|_|_|  _|        _|_|_|\n",
            "        _|    _|  _|    _|  _|    _|  _|    _|    _|    _|    _|_|  _|    _|      _|        _|    _|  _|        _|\n",
            "        _|    _|    _|_|      _|_|_|    _|_|_|  _|_|_|  _|      _|    _|_|_|      _|        _|    _|    _|_|_|  _|_|_|_|\n",
            "\n",
            "        \n",
            "Username: jimregan\n",
            "Password: \n",
            "Login successful\n",
            "Your token: QesBBGLTWurOVdTKllaNeKyzDraDHjNlgXgiCybgXPjIwxEOJwxFtecuxzHFNpHKaLqBYjYcurRZFQxDjGsJbjDUsyYDEzUddrFbVblmFXVzoDGfueJqGXmtPELecnRr \n",
            "\n",
            "Your token has been saved to /root/.huggingface/token\n"
          ]
        }
      ]
    },
    {
      "cell_type": "markdown",
      "metadata": {
        "id": "B1BiezWZF16d"
      },
      "source": [
        "and upload the tokenizer to the [🤗 Hub](https://huggingface.co/)."
      ]
    },
    {
      "cell_type": "code",
      "metadata": {
        "colab": {
          "base_uri": "https://localhost:8080/",
          "height": 211
        },
        "id": "zytE1175GAKM",
        "outputId": "71ca6ea5-5767-435f-824d-ff875daded10"
      },
      "source": [
        "tokenizer.push_to_hub(repo_name)"
      ],
      "execution_count": 37,
      "outputs": [
        {
          "output_type": "stream",
          "name": "stderr",
          "text": [
            "/usr/local/lib/python3.7/dist-packages/huggingface_hub/hf_api.py:718: FutureWarning: `create_repo` now takes `token` as an optional positional argument. Be sure to adapt your code!\n",
            "  FutureWarning,\n",
            "/usr/local/lib/python3.7/dist-packages/huggingface_hub/hf_api.py:718: FutureWarning: `create_repo` now takes `token` as an optional positional argument. Be sure to adapt your code!\n",
            "  FutureWarning,\n",
            "Cloning https://huggingface.co/jimregan/wav2vec2-large-xls-r-300m-irish-colab into local empty directory.\n",
            "To https://huggingface.co/jimregan/wav2vec2-large-xls-r-300m-irish-colab\n",
            "   4bc7479..fd7d4ac  main -> main\n",
            "\n"
          ]
        },
        {
          "output_type": "execute_result",
          "data": {
            "application/vnd.google.colaboratory.intrinsic+json": {
              "type": "string"
            },
            "text/plain": [
              "'https://huggingface.co/jimregan/wav2vec2-large-xls-r-300m-irish-colab/commit/fd7d4ac6f6488569f587fa676ddc177d7458c649'"
            ]
          },
          "metadata": {},
          "execution_count": 37
        }
      ]
    },
    {
      "cell_type": "markdown",
      "metadata": {
        "id": "SwQM8lH_GGuP"
      },
      "source": [
        "Great, you can see the just created repository under `https://huggingface.co/<your-username>/wav2vec2-large-xls-r-300m-tr-colab`"
      ]
    },
    {
      "cell_type": "markdown",
      "metadata": {
        "id": "mYcIiR2FQ96i"
      },
      "source": [
        "### Create `Wav2Vec2FeatureExtractor`"
      ]
    },
    {
      "cell_type": "markdown",
      "metadata": {
        "id": "Y6mDEyW719rx"
      },
      "source": [
        "Speech is a continuous signal and to be treated by computers, it first has to be discretized, which is usually called **sampling**. The sampling rate hereby plays an important role in that it defines how many data points of the speech signal are measured per second. Therefore, sampling with a higher sampling rate results in a better approximation of the *real* speech signal but also necessitates more values per second.\n",
        "\n",
        "A pretrained checkpoint expects its input data to have been sampled more or less from the same distribution as the data it was trained on. The same speech signals sampled at two different rates have a very different distribution, *e.g.*, doubling the sampling rate results in data points being twice as long. Thus, \n",
        "before fine-tuning a pretrained checkpoint of an ASR model, it is crucial to verify that the sampling rate of the data that was used to pretrain the model matches the sampling rate of the dataset used to fine-tune the model.\n",
        "\n",
        "XLS-R was pretrained on audio data of [Babel](http://www.reading.ac.uk/AcaDepts/ll/speechlab/babel/r), \n",
        "[Multilingual LibriSpeech (MLS)](https://huggingface.co/datasets/multilingual_librispeech), [Common Voice](https://huggingface.co/datasets/common_voice), [VoxPopuli](https://arxiv.org/abs/2101.00390), and [VoxLingua107](https://arxiv.org/abs/2011.12998) at a sampling rate of 16kHz. Common Voice, in its original form, has a sampling rate of 48kHz, thus we will have to downsample the fine-tuning data to 16kHz in the following.\n",
        "\n"
      ]
    },
    {
      "cell_type": "markdown",
      "metadata": {
        "id": "KuUbPW7oV-B5"
      },
      "source": [
        "A `Wav2Vec2FeatureExtractor` object requires the following parameters to be instantiated:\n",
        "\n",
        "- `feature_size`: Speech models take a sequence of feature vectors as an input. While the length of this sequence obviously varies, the feature size should not. In the case of Wav2Vec2, the feature size is 1 because the model was trained on the raw speech signal ${}^2$.\n",
        "- `sampling_rate`: The sampling rate at which the model is trained on.\n",
        "- `padding_value`: For batched inference, shorter inputs need to be padded with a specific value\n",
        "- `do_normalize`: Whether the input should be *zero-mean-unit-variance* normalized or not. Usually, speech models perform better when normalizing the input\n",
        "- `return_attention_mask`: Whether the model should make use of an `attention_mask` for batched inference. In general, XLS-R models checkpoints should **always** use the `attention_mask`."
      ]
    },
    {
      "cell_type": "code",
      "metadata": {
        "id": "kAR0-2KLkopp"
      },
      "source": [
        "from transformers import Wav2Vec2FeatureExtractor\n",
        "\n",
        "feature_extractor = Wav2Vec2FeatureExtractor(feature_size=1, sampling_rate=16000, padding_value=0.0, do_normalize=True, return_attention_mask=True)"
      ],
      "execution_count": 38,
      "outputs": []
    },
    {
      "cell_type": "markdown",
      "metadata": {
        "id": "qUETetgqYC3W"
      },
      "source": [
        "Great, XLS-R's feature extraction pipeline is thereby fully defined!\n",
        "\n",
        "For improved user-friendliness, the feature extractor and tokenizer are *wrapped* into a single `Wav2Vec2Processor` class so that one only needs a `model` and `processor` object."
      ]
    },
    {
      "cell_type": "code",
      "metadata": {
        "id": "KYZtoW-tlZgl"
      },
      "source": [
        "from transformers import Wav2Vec2Processor\n",
        "\n",
        "processor = Wav2Vec2Processor(feature_extractor=feature_extractor, tokenizer=tokenizer)"
      ],
      "execution_count": 39,
      "outputs": []
    },
    {
      "cell_type": "markdown",
      "metadata": {
        "id": "DrKnYuvDIoOO"
      },
      "source": [
        "Next, we can prepare the dataset."
      ]
    },
    {
      "cell_type": "markdown",
      "metadata": {
        "id": "YFmShnl7RE35"
      },
      "source": [
        "### Preprocess Data\n",
        "\n",
        "So far, we have not looked at the actual values of the speech signal but just the transcription. In addition to `sentence`, our datasets include two more column names `path` and `audio`. `path` states the absolute path of the audio file. Let's take a look.\n"
      ]
    },
    {
      "cell_type": "code",
      "metadata": {
        "colab": {
          "base_uri": "https://localhost:8080/",
          "height": 70
        },
        "id": "TTCS7W6XJ9BG",
        "outputId": "a46f006f-f828-4dfb-f483-d6d67273046f"
      },
      "source": [
        "common_voice_train[0][\"path\"]"
      ],
      "execution_count": 40,
      "outputs": [
        {
          "output_type": "execute_result",
          "data": {
            "application/vnd.google.colaboratory.intrinsic+json": {
              "type": "string"
            },
            "text/plain": [
              "'/root/.cache/huggingface/datasets/downloads/extracted/edda55c40621dcd8e9b62b52891917a6aecd54132c2e92b0d9c60020ee13fbb6/cv-corpus-6.1-2020-12-11/ga-IE/clips/common_voice_ga-IE_18183217.mp3'"
            ]
          },
          "metadata": {},
          "execution_count": 40
        }
      ]
    },
    {
      "cell_type": "markdown",
      "metadata": {
        "id": "T6ndIjHGFp0W"
      },
      "source": [
        "XLS-R expects the input in the format of a 1-dimensional array of 16 kHz. This means that the audio file has to be loaded and resampled.\n",
        "\n",
        " Thankfully, `datasets` does this automatically by calling the other column `audio`. Let try it out. "
      ]
    },
    {
      "cell_type": "code",
      "metadata": {
        "colab": {
          "base_uri": "https://localhost:8080/"
        },
        "id": "qj_z5Zc3GAs9",
        "outputId": "f377446f-39fc-4dc5-d53d-295309af7251"
      },
      "source": [
        "common_voice_train[0][\"audio\"]"
      ],
      "execution_count": 41,
      "outputs": [
        {
          "output_type": "execute_result",
          "data": {
            "text/plain": [
              "{'array': array([0.0000000e+00, 0.0000000e+00, 0.0000000e+00, ..., 2.4795532e-05,\n",
              "        2.4318695e-05, 2.4378300e-05], dtype=float32),\n",
              " 'path': '/root/.cache/huggingface/datasets/downloads/extracted/edda55c40621dcd8e9b62b52891917a6aecd54132c2e92b0d9c60020ee13fbb6/cv-corpus-6.1-2020-12-11/ga-IE/clips/common_voice_ga-IE_18183217.mp3',\n",
              " 'sampling_rate': 48000}"
            ]
          },
          "metadata": {},
          "execution_count": 41
        }
      ]
    },
    {
      "cell_type": "markdown",
      "metadata": {
        "id": "WUUTgI1bGHW-"
      },
      "source": [
        "Great, we can see that the audio file has automatically been loaded. This is thanks to the new [`\"Audio\"` feature](https://huggingface.co/docs/datasets/package_reference/main_classes.html?highlight=audio#datasets.Audio) introduced in `datasets == 4.13.3`, which loads and resamples audio files on-the-fly upon calling.\n",
        "\n",
        "In the example above we can see that the audio data is loaded with a sampling rate of 48kHz whereas 16kHz are expected by the model. We can set the audio feature to the correct sampling rate by making use of [`cast_column`](https://huggingface.co/docs/datasets/package_reference/main_classes.html?highlight=cast_column#datasets.DatasetDict.cast_column):"
      ]
    },
    {
      "cell_type": "code",
      "metadata": {
        "id": "rrv65aj7G95i"
      },
      "source": [
        "common_voice_train = common_voice_train.cast_column(\"audio\", Audio(sampling_rate=16_000))\n",
        "common_voice_test = common_voice_test.cast_column(\"audio\", Audio(sampling_rate=16_000))"
      ],
      "execution_count": 42,
      "outputs": []
    },
    {
      "cell_type": "markdown",
      "metadata": {
        "id": "PcnO4x-NGBEi"
      },
      "source": [
        "Let's take a look at `\"audio\"` again."
      ]
    },
    {
      "cell_type": "code",
      "metadata": {
        "colab": {
          "base_uri": "https://localhost:8080/"
        },
        "id": "aKtkc1o_HWHC",
        "outputId": "5e48271d-71dc-4db8-f2e2-db7d6e1842c6"
      },
      "source": [
        "common_voice_train[0][\"audio\"]"
      ],
      "execution_count": 43,
      "outputs": [
        {
          "output_type": "execute_result",
          "data": {
            "text/plain": [
              "{'array': array([0.0000000e+00, 0.0000000e+00, 0.0000000e+00, ..., 2.4527420e-05,\n",
              "        2.4251953e-05, 2.6632930e-05], dtype=float32),\n",
              " 'path': '/root/.cache/huggingface/datasets/downloads/extracted/edda55c40621dcd8e9b62b52891917a6aecd54132c2e92b0d9c60020ee13fbb6/cv-corpus-6.1-2020-12-11/ga-IE/clips/common_voice_ga-IE_18183217.mp3',\n",
              " 'sampling_rate': 16000}"
            ]
          },
          "metadata": {},
          "execution_count": 43
        }
      ]
    },
    {
      "cell_type": "markdown",
      "metadata": {
        "id": "SOckzFd4Mbzq"
      },
      "source": [
        "This seemed to have worked! Let's listen to a couple of audio files to better understand the dataset and verify that the audio was correctly loaded. \n",
        "\n",
        "**Note**: *You can click the following cell a couple of times to listen to different speech samples.*"
      ]
    },
    {
      "cell_type": "code",
      "metadata": {
        "colab": {
          "base_uri": "https://localhost:8080/",
          "height": 92
        },
        "id": "dueM6U7Ev0OA",
        "outputId": "c006666b-44e3-4a64-b3a7-62fbb50c294b"
      },
      "source": [
        "import IPython.display as ipd\n",
        "import numpy as np\n",
        "import random\n",
        "\n",
        "rand_int = random.randint(0, len(common_voice_train)-1)\n",
        "\n",
        "print(common_voice_train[rand_int][\"sentence\"])\n",
        "ipd.Audio(data=common_voice_train[rand_int][\"audio\"][\"array\"], autoplay=True, rate=16000)"
      ],
      "execution_count": 44,
      "outputs": [
        {
          "output_type": "stream",
          "name": "stdout",
          "text": [
            "an bord mór\n"
          ]
        },
        {
          "output_type": "execute_result",
          "data": {
            "text/html": [
              "\n",
              "                <audio controls=\"controls\" autoplay=\"autoplay\">\n",
              "                    <source src=\"data:audio/wav;base64,UklGRiRDAgBXQVZFZm10IBAAAAABAAEAgD4AAAB9AAACABAAZGF0YQBDAgAAAAAAAAAAAAAAAAAAAAAAAAAAAAAAAAAAAAAAAAAAAAAAAAAAAAAAAAAAAAAAAAAAAAAAAAAAAAAAAAAAAAAAAAAAAAAAAAAAAAAAAAAAAAAAAAAAAAAAAAAAAAAAAAAAAAAAAAAAAAAAAAAAAAAAAAAAAAAAAAAAAAAAAAAAAAAAAAAAAAAAAAAAAAAAAAAAAAAAAAAAAAAAAAAAAAAAAAAAAAAAAAAAAAAAAAAAAAAAAAAAAAAAAAAAAAAAAAAAAAAAAAAAAAAAAAAAAAAAAAAAAAAAAAAAAAAAAAAAAAAAAAAAAAAAAAAAAAAAAAAAAAAAAAAAAAAAAAAAAAAAAAAAAAAAAAAAAAAAAAAAAAAAAAAAAAAAAAAAAAAAAAAAAAAAAAAAAAAAAAAAAAAAAAAAAAAAAAAAAAAAAAAAAAAAAAAAAAAAAAAAAAAAAAAAAAAAAAAAAAAAAAAAAAAAAAAAAAAAAAAAAAAAAAAAAAAAAAAAAAAAAAAAAAAAAAAAAAAAAAAAAAAAAAAAAAAAAAAAAAAAAAAAAAAAAAAAAAAAAAAAAAAAAAAAAAAAAAAAAAAAAAAAAAAAAAAAAAAAAAAAAAAAAAAAAAAAAAAAAAAAAAAAAAAAAAAAAAAAAAAAAAAAAAAAAAAAAAAAAAAAAAAAAAAAAAAAAAAAAAAAAAAAAAAAAAAAAAAAAAAAAAAAAAAAAAAAAAAAAAAAAAAAAAAAAAAAAAAAAAAAAAAAAAAAAAAAAAAAAAAAAAAAAAAAAAAAAAAAAAAAAAAAAAAAAAAAAAAAAAAAAAAAAAAAAAAAAAAAAAAAAAAAAAAAAAAAAAAAAAAAAAAAAAAAAAAAAAAAAAAAAAAAAAAAAAAAAAAAAAAAAAAAAAAAAAAAAAAAAAAAAAAAAAAAAAAAAAAAAAAAAAAAAAAAAAAAAAAAAAAAAAAAAAAAAAAAAAAAAAAAAAAAAAAAAAAAAAAAAAAAAAAAAAAAAAAAAAAAAAAAAAAAAAAAAAAAAAAAAAAAAAAAAAAAAAAAAAAAAAAAAAAAAAAAAAAAAAAAAAAAAAAAAAAAAAAAAAAAAAAAAAAAAAAAAAAAAAAAAAAAAAAAAAAAAAAAAAAAAAAAAAAAAAAAAAAAAAAAAAAAAAAAAAAAAAAAAAAAAAAAAAAAAAAAAAAAAAAAAAAAAAAAAAAAAAAAAAAAAAAAAAAAAAAAAAAAAAAAAAAAAAAAAAAAAAAAAAAAAAAAAAAAAAAAAAAAAAAAAAAAAAAAAAAAAAAAAAAAAAAAAAAAAAAAAAAAAAAAAAAAAAAAAAAAAAAAAAAAAAAAAAAAAAAAAAAAAAAAAAAAAAAAAAAAAAAAAAAAAAAAAAAAAAAAAAAAAAAAAAAAAAAAAAAAAAAAAAAAAAAAAAAAAAAAAAAAAAAAAAAAAAAAAAAAAAAAAAAAAAAAAAAAAAAAAAAAAAAAAAAAAAAAAAAAAAAAAAAAAAAAAAAAAAAAAAAAAAAAAAAAAAAAAAAAAAAAAAAAAAAAAAAAAAAAAAAAAAABAAAAAAAAAAAAAAAAAAAAAQAAAP//AAAAAAAAAAAAAAAAAAAAAAAAAAAAAAAAAAAAAP//AAAAAAAAAAD//wAAAAAAAAAAAAAAAAAAAAD//wAAAAD//wAAAAAAAAAAAAAAAAAAAAAAAP//AAAAAAAAAAAAAAAAAAD9//v//P/8//v/+/8AAP3/+v/8//n////+//n//v8AAAAAAAD9////AAD///7//P/8////AAAAAP3///8BAAAAAAAAAAAAAAAAAP3//v8BAAAAAAD9//n///8BAPv//v8AAPz/+//7////AQD8//r/+//6//z/+/8AAP3/+f/8//v//v8AAAAA/f/7//v//v8AAAAA/f/7//v//v8CAP3/+//7//v//v8AAAAAAAAAAPz/+f8AAP3/+//7//n//v/9//v/+//+/wAAAAAAAAAAAAAAAP3/+v///wAAAAD8//7/AAD//wAAAAAAAAAA/P/+/wEA/f/7//v///8BAPz/+//7//7/AAAAAP//AAD9//v/+//+/wAAAAD9//v/+////wAA/f/5//7/AAAAAAAAAAAAAPz//v8AAAAAAAAAAAAAAAAAAP//AAAAAAAAAAAAAAAAAAAAAAAAAAAAAAAAAAAAAAAAAAAAAAAAAAAAAAAAAAAAAAAAAAAAAAAAAAAAAAAAAAAAAAAAAAAAAAAAAAAAAAAAAAAAAAAAAAAAAAAAAAAAAAAAAAAAAAAAAAAAAAAAAAAAAAAAAAAAAAAAAAAAAAAAAAAAAAAAAAAAAAAAAAAAAAAAAAAAAAAAAAAAAAAAAAAAAAAAAAAAAAAAAAAAAAAAAAAAAAAAAAAAAAAAAAAAAAAAAAAAAAAAAAAAAAAAAAAAAAAAAAAAAAAAAAAAAAAAAAAAAAAAAAAAAAAAAAAAAAAAAAAAAAAAAAAAAAAAAAAAAAAAAAAAAAAAAAAAAAAAAAAAAAAAAAAAAAAAAAAAAAAAAAAAAAAAAAAAAAAAAAAAAAAAAAAAAAAAAAAAAAAAAAAAAAAAAAAAAAAAAAAAAAAAAAAAAAAAAAAAAAAAAAAAAAAAAAAAAAAAAAAAAAAAAAAAAAAAAAAAAAAAAAAAAAAAAAAAAAAAAAAAAAAAAAAAAAAAAAAAAAAAAAAAAAAAAAAAAAAAAAAAAAAAAAAAAAAAAAAAAAAAAAAAAAAAAAAAAAAAAAAAAAAAAAAAAAAAAAAAAAAAAAAAAAAAAAAAAAAAAAAAAAAAAAAAAAAAAAAAAAAAAAAAAAAAAAAAAAAAAAAAAAAAAAAAAAAAAAAAAAAAAAAAAAAAAAABAAAAAAAAAAAAAAAAAAAAAAAAAAAAAAAAAP3//v/+//7//f/+//7//v/9//3//f/+//7//f8BAAAA/f/+//7//v/+/////v/+//3////+//7//f/9//7//f/9//3//v/+//7//v/+//7//v////7////9//7//v////7////+//7//v/+//7////+/////v/+//7//v/+/////v////7//v/+//7///////7///////////////3//v/+/////f/+//3//v/+//7//v/+/wAAAAD9//7//f/+//3//v/+//3//f/+//7//v/9//3//v/9/wAAAAD9/////f/9//3//v/9//7//v/+//3//f/9///////9//7////+//7//f////3//f/9//3//f/+//3//v/+/////v////7//v8CAAAA/v////3////9//7//f/+//3//v/+//7/AQD8//j//f/+//v/+f/9/////v/+//v//v8AAP//AAD//wAA/f/+/wAA//8AAAAA/f8AAP7//f8AAPv/+f8AAAAAAAAAAPv//P8AAP///v8AAP7//P8AAAIAAAD+//z/AAACAP///P8BAAMA/v8AAAAA/v8DAAEA/v8AAP////8CAP7/AAADAP7//P8AAAEAAgAAAPv/AAACAP///f/8//7//v8AAAMAAAD//wAAAQABAAAA//8AAP7//P8AAAEAAgACAAAAAAADAP7/AAADAP///P/+/wAAAAD9//3//v/9/wAAAAD7/wAAAwD+////AQACAP//AAACAP3/AAD///z//v/8//z/AAD+////AwD+//z//P8AAAEAAQACAAAAAQD+//z/AAD//wAA/v8AAAMA/f8AAAAA/P8AAAEAAgABAP///P/9/wAA/////wIAAQABAAEAAQAAAAAAAgD+/wAA/////wAA/P8AAAIAAQABAP///P8AAAIA/v8AAAEAAQACAAEAAAACAAEAAAABAAEAAQABAAAAAQABAAEAAQAAAAEAAQACAAEAAQAAAAEAAQABAAAAAQACAAIAAQABAAEAAQABAAAAAQABAAEAAQACAAEAAAABAAEAAQABAAEAAQABAAEAAgABAAEAAQABAAIAAgACAAIAAgABAAEAAQABAAIAAQABAAEAAQABAAEAAgADAAEAAQACAAAAAQABAAAAAgABAAEAAQACAAEAAQABAAEAAgABAAEAAAABAAEAAQAAAAEAAQAAAAEAAQABAAAAAAABAAAAAAABAAEAAgAAAAEAAQABAAAAAAACAAIAAAABAAIAAQACAAMAAgABAAIAAQD///7//f///wAAAAAAAP7//v8AAAMAAAD9////AAACAAQAAAD+//7/AQADAP/////9//v/AQADAAIAAQAAAAAA/v///////f8CAAEA/v8AAAIAAQD+/wAAAQAAAAEAAgD+//v/AAD+////AwACAAAAAAABAP//AAACAAIAAwAAAAIAAQAAAP//AAAEAP3/AAAAAPr/AAD+/wAAAQABAP///P8AAP7///8AAPv/AAAAAP7/AAD+/wAA/v/+/wIA///9//z/AAD///7////8//7//P/+//z//P8AAAAAAgACAAEA/f8AAAEA+/8AAAAA/f/////////9//v//v8BAP7//v8BAP7/AAAAAAEAAgAAAP7/+v/+//z///8EAAAA/v8BAAAA/v/9//3///8AAAEAAAACAAAAAAABAAAAAQD6//v//P/9/wEA+//4///////4//3//f/4////AwD6//f/+//9/wAA/P/5//7/+f/5//7///8AAPv/+v8AAP7//P/9////AAABAAIA/v/7////AQACAP//+/////7////8/wEABAD7/wAAAwAAAAIAAgABAP//+/8BAP7//f8CAAAAAQD+//z/AgD///z/AAACAAIAAQABAAAA/v8BAAEA/f8BAAAA+/8BAAIAAAAEAAEA/v8AAAAA/P/9/wAA/f8AAAAAAAAAAP//AgAAAAAAAAAAAAEAAAD//wEAAQD9/wAA/v///wMA/f8AAAIAAQAFAAAAAAD+////AgD9/wIAAAD7/wAAAAAAAAEAAAD///7/AAADAAMAAgAAAAAAAQAAAP3/AAABAAAAAAAAAAIAAQD+/wAAAwD+//v/AQD+//z/AQAAAP///P/7//7///8BAP///f/9//3/AAD///3//f/6////BAD9//r/AgD+//j//f/7/////v/9//7/+/8AAAUA/f8AAAEA+/8AAAAAAAACAP3//f/+/wAAAgAAAP3/+v8BAAQAAAD///z/AAAAAAAA/////wQA///7////AQABAAEAAAD///3/AAACAPz/AAADAP3////9//7/BAD//////v///wAAAAAAAP///f/8////AgAAAP///f/7//3/AAACAAAA/P/+/wAAAAACAAEA+//+//z///8CAAAAAgD9//z/AAABAAEA/v/7/wAAAgACAAEAAAD+//3//f8AAAEAAQD+//z//P8AAAMA/P8AAP7//v8DAP3///8CAP3//f/8/wAAAgAAAAMA/v8AAAAA/P8AAAIAAQD+//z/AAACAAIAAAD8//3//P8AAAMA/v8AAP//AAD/////AwD///3////9/wAAAgABAAIA/v8AAAMAAQADAP//AAACAAIAAQACAAEAAQABAAEAAQACAAEAAQABAAEAAQABAAIAAQACAAEAAgACAAEAAgABAAIAAgACAAEAAQABAAEAAQABAAIAAQACAAIAAQACAAIAAQACAAEAAgACAAIAAQACAAEAAgACAAEAAQABAAIAAgABAAIAAgABAAEAAgABAAIAAgABAAIAAQABAAEAAgACAAEAAQACAAEAAgABAAEAAgACAAIAAgABAAIAAQABAAEAAQABAAEAAQACAAEAAQABAAEAAgACAAEAAQABAAIAAgACAAIAAQABAAEAAQACAAEAAQABAAEAAQABAAEAAQABAAIAAQABAAIAAQACAAIAAgABAAEAAgABAAEAAgABAAEAAgACAAEAAgACAAIAAgACAAIAAgABAAIAAgABAAIAAgABAAEAAQACAAIAAQABAAEAAQABAAEAAQABAAEAAQABAAEAAQABAAEAAQABAAAAAQAAAAAAAAAAAAAAAAAAAAEAAAAAAAAAAAAAAAAAAQAAAAAAAAAAAAAAAQAAAAAAAQABAAAAAAABAAAAAAABAAEAAQABAAEAAQABAAEAAAAAAAEAAQABAAEAAQABAAEAAAABAAAAAAAAAAAAAAAAAAAAAAAAAAAAAAABAAEAAAABAAEAAQABAAEAAQABAAEAAQABAAIAAQABAAEAAQACAAEAAgACAAIAAgACAAIAAgACAAEAAgABAAEAAgABAAIAAgACAAIAAQABAAIAAgACAAIAAQACAAEAAgACAAIAAgACAAEAAQACAAIAAgACAAEAAgABAAIAAgACAAIAAgACAAIAAgACAAIAAgACAAIAAgACAAIAAgACAAIAAgABAAEAAQABAAEAAQABAAEAAQABAAEAAQABAAEAAQABAAEAAQABAAEAAQABAAAAAQABAAEAAQABAAAAAQABAAAAAAABAAAAAQAAAAAAAAABAAAAAAAAAAAAAAAAAAAAAAAAAAAAAAAAAAAAAQABAAAAAAAAAAEAAAABAAEAAQABAAAAAQABAAEAAQAAAAEAAQAAAAEAAAABAAAAAAABAAEAAAABAAEAAQABAAEAAQAAAAAAAQABAAAAAQABAAAAAQABAAEAAQABAAEAAQAAAAEAAQAAAAAAAAABAAEAAAABAAAAAQAAAAAAAAABAAEAAAAAAAEAAAABAAAAAQABAAEAAQABAAEA/v/8/wAA/v/9//z/AAAAAPv/AQD+////AgD9////AgD9////AgD+/wAAAQAAAP//+//8/wAA/v/+/wIAAQD+/wAA/v///wIAAAACAP7/AAADAP3/AAABAAEA/v8AAAAA+v8BAP//+/8AAAAAAAADAP7///8BAAEA/v/8/wAA/v8AAP//+/8AAP7///8DAP3//P8BAP//AAAAAPz//v/9//3//f8AAP///P/9/wAAAQACAP////8EAP7/AAADAP7/AAD//wAAAAD8//3/AAD///z//f8AAP//AAACAAEAAQABAAEAAQACAAIA/v8AAAAA+//+//3//f8AAP//AAAAAAAA//8AAAAA/P/9//z///8CAAIAAgACAP///P8BAP7///8DAP3//P8AAAEAAAD///3//f8AAAEAAQD+////AgD///3//f8BAAMAAgADAP7//P8AAP///P/9/wAA/////wUAAgD+/wAA//8AAAAA/P8AAAMAAgAAAP//AQAAAAIAAgACAAIAAgABAAAAAAABAAEAAAACAAEAAgABAAAAAQAAAAAAAQABAAIAAgADAAMAAgACAAIAAgABAAAAAAAAAAAAAAABAAEAAgABAAEAAQAAAAAAAQABAAEAAgACAAIAAgABAAEAAgADAAIAAgABAAEAAgACAAEAAQAAAAAAAQABAAEAAgAAAAEAAQAAAAEAAQABAAEAAAABAAEAAAACAAIAAQABAAEAAgABAAEAAQABAAEAAQABAAIAAgACAAIAAgACAAIAAgACAAIAAgACAAMAAwACAAIAAwADAAIAAQABAAAAAQABAAEAAQABAAEAAQABAAEAAQABAAEAAQABAAIAAgACAAEAAQABAAEAAQABAAEAAgABAAAAAQACAAEAAgACAAIAAgACAAIAAgACAAEAAQABAAEAAQABAAEAAAABAAIAAQABAAEAAQABAAEAAQABAAEAAQAAAAAAAAAAAAEAAQAAAAEAAQABAAEAAQAAAAAAAQABAAEAAQABAAEAAAAAAAAAAAAAAAAAAAAAAAAAAQAAAAAAAAAAAAAAAAAAAAAAAAAAAAAAAQABAAEAAAAAAAAAAQABAAAAAAABAAAAAAAAAAAAAAAAAAAAAAAAAAAAAAAAAAAAAAAAAAEAAQABAAEAAQABAAEAAQABAAEAAQABAAEAAQABAAEAAQABAAEAAQABAAEAAQABAAEAAQABAAEAAQABAAEAAQABAAEAAQABAAEAAQABAAEAAQABAAEAAQABAAEAAQABAAEAAQABAAEAAQABAAEAAQABAAEAAQABAAEAAQABAAEAAQABAAEAAQABAAEAAQABAAEAAQABAAEAAQABAAEAAQABAAEAAQABAAEAAQABAAEAAQABAAEAAQABAAEAAQABAAEAAQABAAEAAQABAAEAAQABAAEAAQABAAEAAQABAAEAAQABAAEAAQABAAEAAQABAAEAAQABAAEAAQABAAEAAQABAAEAAQABAAEAAQABAAEAAQABAAEAAQABAAEAAQABAAEAAQABAAEAAQABAAEAAQABAAEAAQABAAEAAQABAAEAAQABAAEAAQABAAEAAQABAAEAAQABAAEAAQABAAEAAQABAAEAAQABAAEAAQABAAEAAQABAAEAAQABAAEAAQABAAEAAQABAAEAAQABAAEAAQABAAEAAQABAAEAAQABAAEAAQABAAEAAAAAAAAAAAAAAAAAAAAAAAAAAAAAAAAAAAAAAAAAAAAAAAAAAAAAAAAAAAAAAAAAAAAAAAAAAAAAAAAAAAAAAAAAAAAAAAAAAAAAAAAAAAAAAAAAAAAAAAAAAAAAAAAAAAAAAAAAAAAAAAAAAAAAAAAAAAAAAAAAAAAAAAAAAAAAAAAAAAAAAAAAAAAAAAAAAAAAAAAAAAAAAAAAAAAAAAAAAAAAAAAAAAAAAAAAAAAAAAAAAAAAAAAAAAAAAAAAAAAAAAAAAAAAAAAAAAAAAAAAAAAAAAAAAAAAAAAAAAAAAAAAAAAAAAAAAAAAAAAAAAAAAAAAAAAAAAAAAAAAAAAAAAAAAAAAAAAAAAAAAAAAAAAAAAAAAAAAAAAAAAAAAAAAAAAAAAAAAAAAAAAAAAAAAAAAAAAAAAAAAAAAAAAAAAAAAAAAAAAAAAAAAAAAAAAAAAAAAAAAAAAAAAAAAAAAAAAAAAAAAAAAAAAAAAAAAAAAAAAAAAAAAAAAAAAAAAAAAAAAAAAAAAAAAAAAAAAAAAAAAAAAAAAAAAAAAAAAAAAAAAAAAAAAAAAAAAAAAAAAAAAAAAAAAAAAAAAAAAAAAAAAAAAAAAAAAAAAAAAAAAAAAAAAAAAAAAAAAAAAAAAAAAAAAAAAAAAAAAAAAAAAAAAAAAAAAAAAAAAAAAAAAAAAAAAAAAAAAAAAAAAAAAAAAAAAAAAAAAAAAAAAAAAAAAAAAAAAAAAAAAAAAAAAAAAAAAAAAAAAAAAAAAAAAAAAAAAAAAAAAAAAAAAAAAAAAAAAAAAAAAAAAAAAAAAAAAAAAAAAAAAAAAAAAAAAAAAAAAAAAAAAAPz///8AAAAAAAD8//r///8AAP3/+//7/////f/7/////f/7//v////8/////v/6/wAA/f/+//3//f8BAP3/+v/7/////f////3//f8AAAAA/f/9/wEAAAD+//r//P////3//v/9//7/AQD///7/+//6/////f/+//7//f8BAAAA/v///wEA/f/6/////f/6/wAAAAD9////AQAAAP3//v/+//7//v/+//3//v/9//3//v///////f8AAP3/+v8AAPz////+//n/AAD9//r////8//7/AQD///3////8/wAA///5/wAA/v/+/wAA/v///////P/6//j/+v////n///8DAPz/AAACAPv//v8AAPv/AAAAAP3///8AAAAAAQACAP7////9////AAD9/wAA///9/wAAAAD///3///8CAAAA/P/7/////P/7////+f///wAA+v8AAP//+v/4//r////7/////v/+/wAA//8AAPz//P/8//r/+f/7//7//v///wAA/v////7//v/8////AAD+//////8AAP///v8AAAAA/v////7//f8AAP//+////wAA/P8AAP7/AQABAP7/AAD+//7/AAAAAP7//v8DAP///P8AAP7/AQD+////AAD//wAAAAD+/wAAAAD/////AgD+////AAD//wAA//8DAP////8BAP7/AgD9//7/AAD8/wAAAAD+/wAAAAABAAAAAQD+/wAAAAD//wQA/f/9/wIA//8AAAAA/v8AAAMA/v/8/wEA/P///wQA/f8AAAAA/P/9/wAA/f/+/wIAAgD//////v/9//7/AAD//wAA///7/wEA/f/8//3//P8AAAEAAQD5//z////6//r//P/8//n/+v/6//j///////3/AgD+//r/AAD8//r//f/8//j/AAAAAPf/AAD9//f////7//v/AQAAAP3/AQD/////AgD9//z/AAD+/wAAAgD///z///////v//v8AAAIA/v///wEA+/8AAP//+f8AAAIAAAACAAIA/f8AAAAA/P8AAP7//f/9//v/+v8AAAAA/f8AAAAA/P///wAA/v8AAAEA/f8BAAUA/f/+/wAA/f/+//z//f8CAAAA/f/+//z///8BAP//+//9//z////+//r/AQD/////AgD+/wIAAAD6////AAD//////v/8//7//v/5//7/AAAAAP//AAABAAAAAAAAAP///P/8/wIAAwD//wEAAAD+//3//P8CAP//+/8BAAUAAAD8//7//f8AAP3//v8GAP7/+/8AAAAA+f8AAP7/+P8AAPv//P////r/+v/+//v/9/8AAPr/9/8BAP3/+v/+//v/+P////3/+P8AAP///P8AAP3//P8BAP7/+/8AAP///P8AAP//+/8DAP7/+f8AAP7//P/+/////f/9////+f/9/wIAAAD8//3/AQD9//3//f///wIA+//+/wAA+v8AAAMA/P/7/wEAAAD8//3//P8AAPz/+/8AAP//AQD+//3/AAD///7/+v///wAA/P/8//r//P////7//P/8/wAA///8//3//P8BAP3/+f8DAAAA//8AAP3//P8AAP//+/8DAAAA//8BAP//AQD+//7//////wAA/P///wAA+/8AAAAA/P8AAAAA/f8AAAEA/f/9/wAA/P8AAAAA//8BAAAA///9/wEA///9/wEA+/8BAAIA//////7/AQD7//r//v/6/wAA+//7/wEA///8/wAA/P/4/wAA/f/+/wAA+f/9//7/+P/8//n/+P8CAPr//P////z//P/8/////f//////AQACAAAAAgD///z/+f/9//3/9//+/wEA/f/+/wAA/P8BAAQA/f8BAAMA//8CAAAA9/8AAAEA+v/6//j/BAD///v/AgD7/wIAAgD+/wcADAAAAAQA+v/v/w4A+//x/wUAAQAEAAMA//8HAAcA8v/8/wAA+v8BAAAAAAD7/wEAAgD0//T/BAADAPb//f/9/wMAAAD4/wEA///8//z//f/7//7//f/8//3//f8CAP7/+/8AAAMAAgAAAP//AQAFAAAAAgAAAP7/AAD6//v/AgAAAP7/AwAAAAAABQD+/wEAAAD9/wEAAAAAAAAA//8BAPr/+v8DAP7/AAADAAEAAQD9/wIAAwD9/wAABAAAAP7/AQD//////P/7/wAAAQD//wAAAAD8/wIAAwD8//3/AAD8//7////8/wMA///5/wMAAAD//wEA//8AAAEA/v/7//////8AAAMA///+////+//4/wMAAAD5/wUABQABAAgACwAFAAAA/v8DAAEA/v8AAP3//v/+/wEABAD8////AQD///v/AgAHAAcAAAD6/wQAAQD7///////+/wAAAgADAAQABgAIAP//+/8BAAcABgAAAAQABAAAAP//AwAAAAAABgAAAAAAAgAIAAQA/P8AAP7/AQACAP3/////////AAD8/wAAAQD+/wAA///+/wAAAAD+//7/AAAAAAAAAwD///7/AAD///////8CAAMAAAADAAQABAAFAAMA///+/wAAAwADAP7//v/9//v/AAADAAMAAAAAAPr/+/8DAAMAAAD7//3////8//v//P///wAAAAD+//n/+//8//v//P/8////AAABAAAA/v8AAAAA+/8AAAIAAAACAAIAAQACAP7///8DAAIAAgADAAIABQAEAAUABgD+/wAABQAAAP////8CAAUAAQD+/wIABAAAAAEAAQD8/wAABAAAAP//AAAAAP3/+f/8/wEAAAD9/wQAAwAAAAMA//8AAAAA/P/8//z/AAAFAAIAAAD+/wIABQAAAAEABwACAAAAAAADAAIAAAACAP///f8AAAAA//8CAAAA//8CAAIAAwAAAAAAAwAAAP///f/+/////f/+/wAAAgAAAAIABQAAAAAAAwACAAMABAD///3/AQAEAAMAAAD//wEA/v8AAAEA/v/9//3/AAD///7//v////3///8AAPz//P////r/+//7//3//v/9//v/+////wAA+//7//7///8AAPz/+//8//7//f/+/wAA/f8AAAQAAgAAAAAAAgACAP7/AAAEAP///f8CAAEAAgAAAPz/AgAAAP//AQAAAPz/AAADAAAA/v/9/wAA///8/wEAAAD8/wIAAgABAAAA/////wEAAAD+//3/AgADAAAAAgABAP//AAD//wEAAgADAAUAAAACAAMAAgABAAAA/v8AAAQAAQAEAAQAAAAAAAIAAAAAAAEAAAAEAAAA/v8DAAAAAAAAAP7///8AAAQAAwADAAUAAQAAAAAA/f8BAAEA/v//////AAAAAAEAAAD9/wMABgD///3/AAADAAUABAAFAAUA/v8BAAIA/f8CAAAAAwABAP7/AwAAAP7/AQAEAAIAAAD8/wIA///5/wAAAAD8/wEA/f/+/wEA+////wEA/v/+/wAA/v///wAAAAADAP7/AAADAPv/+P8AAAUA/v/9/wEAAwADAAMAAAD//wQAAAABAAUAAAD//wMAAwACAAAAAQAGAAEA/v///wIAAAD8/wIAAAD9/wEAAQAAAAAAAAACAAIAAAAAAAIA/v///wIAAAD9/wAAAwD//wEAAAD//wIAAQAAAP3//v8CAAMA///9/wIAAAD+/wAA//8CAP7/AAADAAIAAgAAAAIAAAD8/wEAAAD//wIA/P8AAAQA///8/wAAAAD+/wEAAwAAAAEAAAD+//7/AAABAAAAAwAAAPz/AQACAAQAAwD//wAAAAD9/wAAAgAEAAMAAQD+/wEABAAAAP7/AAD+/wEABQD+/wAAAAD9/wMABQAAAAAAAgD+//v////+//7//v8AAP7/+/8AAAAAAAD7//v/AgAAAPv//f/9//z//f8CAAAA+/8BAAMAAQD7/wEAAQD6/wIABAD/////AQAAAAAABAADAP7/AwABAPz/AQABAAEA//8BAAEA/f8CAAEAAAADAAIABAAAAPz/AQAAAAAABAAAAP7/AQADAP//AQAEAP//AgD//wAABgD/////AQD+//3/AQAEAAAA//8AAP///f8AAAAAAgABAP3/AAADAAQAAAD+////AgADAP7/AAABAAAAAQD//wAAAAACAAEAAAAEAAQAAwAEAAAA/P8CAAEA//8CAAAAAQAEAAYAAAD+////AQABAPz/AgADAAMAAgAAAP////8CAAAAAgAAAAAABAAAAP7/AQAFAAEA/f8CAAAA/P8EAAAAAQADAP7///8AAAAA///+//7/AgAAAPr//f/+//7/AAD9//n///8EAP7//P/+/wAA/v/+////+/8BAAAAAAACAPv//v8FAAAA+v8AAAYABAD+//3/AgAEAAAAAQAAAP3//v8AAAUAAwD+/wMAAgAAAP///f8GAAIA/P8CAAYAAAAAAP7/AAABAP//AwAAAAEAAwADAAEAAgABAP/////9/wQAAgD//wUAAwAAAAIAAAABAAEA/f8CAAEA/P8DAAMAAAABAAAAAAADAAAA/f///wMAAgAAAP7/AAAAAAAAAwD//wAAAwADAAMAAAAAAAIA//8AAAIA/v8BAAAA/f8AAAQAAgD9/wAAAQAAAAAAAgAAAP7/AQAAAAIAAAD9///////9/wMABAD9/wEAAgABAAIAAAADAAAA/f8CAAAA//8BAAAAAgAAAP//AAACAPz/+P8BAPz//f8DAP3//v8AAP//AgD///z//P//////+/8EAP///P8CAAAAAAD+/wQAAQD8//v/AQACAP//AAD//wEAAQD+////AAAAAAIA//8BAAMA/v///////v/+/wIAAgD7/wEAAwAAAAEA+//+/wAA/P/+/wMAAgAAAAAA/P8DAAIAAQAAAP3/AQADAAMA///9/wMABAD9//z//P8AAAAA/v8CAAAA///+/wAA/v8AAAQAAAD9//3/AwACAP/////+/wEAAAD/////AAADAP3/AgADAP3/AAAAAAAA/P8CAAYAAAD+//7/AAAGAAEA/f///wQABQD//wAAAwD//wAAAgD9/wAAAAD9//////8BAAUAAQD9//3/AQAAAP3/AgADAAMAAAABAAMA+P8AAAIA+P/2/wYACwD9/wAAAgAAAP//+P/2/wQAAAD3/wIA/f8AAAQA/P/7//n//f8CAP3/+f8BAAAA/v////n///8AAPv/+v8EAAAAAQAOAPr//v8KAP//AgAAAPn/AQACAP//AQAFAAIA/P8DAAIAAQAGAAAAAAADAAIAAAD//wAAAwAAAP//AAD//wcABAD//wMAAAAAAAAA///8//v/AAD+/wIA///6/wcAAQD6/wAAAQABAAEAAwD/////AQD+//r/AAAAAPX//v8FAAIA//8AAAMA//8DAP3/+v8HAPz/8v8GAP//+/8HAPv///8CAAEAAQD+/wcAAgD5/wYA///+/w4AAAD8/wUABAD2//T/CgAEAPz/AwALABAA/f/3/wQA//8BAP//+/8NAAIA/P/+//j/AQABAAAAAAD8/wkABgAAAAYA+f/+/wUA/f8DAP7//f/+//n/+f/1//r/CgACAPf/CAAHAPr//f8GAPz/7//0/wMA/f/2/wgAAAD//wkACAD9//n/BQAFAPv//P/+////CQD1//P/BgAJABYA/P/3/xAACAD8//z/AgD//wUA+P/p/wkA+v/i/wwABwD4/wUABAAEAAEABQAHAPz/DQAXAPr/AADz/+P/DAD5/9j/EAAYAPD/BwALAP7/CgD7//z/CQD7//7/AwADAAIA+/8HAAUA/f8SAAAA6v8EAAkAAAAPAAEA+v8IAPz/5f8RABoA1/8gABQA2/8sAPX/7f8XAPH//v8DAAQAAQD5///////z/+z/BQABAPr/AAD+/wEABAAGAPT/AQAAAP//CQD6/wYA+f8EAB0A3//w/yAA8v8BAAMA7P8NAO//3/8OAAIA9//8//H/DQAEAPz/CQAPAA4A/P8AAPL/AAATAPf/AAAAAPf/AQD7//j/BgAGAAQADAACAAAABQALAAIA//8MAPr/9P8KAAYA/v8DAAoA+P/4/xQAAAD3////7v8AAAYA9v/1//v/+v/4/wQAEwAPAPb/AQAWAPz/9P8XAAUA4f/9//7/BAALAOr//v//////BADn//H/CwAOAAYADAABAPr/AAAEAAQA9//7/w4AEQD9//z/BAAGAAgAAwABAAQA/f/v/w4ABgDm/w4ACgD4/xUABADk/wsADgDb/wkAIQDW/+n/KgD7/9//DgACAPv/8/8BAB4Axv8bAEYAk/8qAFMAef/1/1wAxv+x/1AAIgCt/w8AMQD4/+H/HwAkAPb/MgD1//j/MgC8/9b/LADj/8P/HQAVAN//EwAGAPj/EAD9/wMADQAIAAIADQARAPz/+//2/+n/6P/r/+//9f8CAAcABQALAAYA//8AAPz/AQAFAAQAEQATAAwACAAAAPv/AAD9//3/BAACAAQACQAJAAQACAAIAP3//P/7//f/9//4//7/AgD7//3/+P/2//j/8f/+/wsACAAOAAAA9f/+/wYADgATAPr/8v/8/wEADQD0//P/+f8VADoADQAAAOr/0v8RABMACQAPAOr/EwA9AD8ATQAeAAAAAwDp/+7/7//X/+f/9P/i/+//8//n/wcABADp//L/5v/5/xQA+/8NAP7/6v8NAP//9f/y/+H/9//+/woAGwD9/wMAHgDk//v/KgDn/wcALgDi/+v/IAD6//X/EwANAAEA3f/v//L/0/8CABUAAAAUAAYA8/8LAAIAEAAeAAAA+v/Q/wcAAgB5/zYAFwAq/5wAvwFJ/+kAPAMs+5EAGQWA+LEAPQSR+xkBTgS8/fn9kgO5/BT//QF7/1YABf+aAJb/6QGk/l3+7AHT/7j/b/4TARsBoP6o/6sAggBW/3b/bAA1AJP/mv8hAHUABwDr/2UAQgB7/6H/CgD0/9T/hgBpAMH//P/6/yEAQwBQANz/x/8AAO7/AQDb/yAA9f/c/wYAlv8hAIMA5f8JAOn/jf/D/x8AVgDr/wkAy//A/30ACwDR/xgAGAAXAAwAOAAeAOz/SgAiANP/FwABAPT/OwBLAPz/1//g/9n/+P/3/xIA7/8IAJwA7f+i//7/sf8VACoA0f/w//v/EAAdAAAA3/+i/6f/GwBPAEkAAAAeAOj/HP84AIUAkf8+ACYAuv8vADUACQDA/+n/NAD8/9f/TwC5ANP/XP8qAFsABwDT/+P/JgDO/2T/8P8lAKz/x//1/0cAigDJ/7P/SgAJAOX/FAD1/+z/CAD5//f/EAAXACAARAAWAMv/RwAMAH//HAASAJT/lv/6/xUA4v8LANr/GgBPAOH/BQAYAAIA9f/z/x0ABwC1/93/GwANACIA8f/y/0IAOQACAPj/GwAtAPj/1f8TAA4A7P/x/wwAHwD4/+L/LQBhAPz/rv/D/xsAAwABAFEA6v/W/+f/CgBeACYA8P8MAN3/hv8pACEAT/+a/zoAHwDg/ygAAAD//ywA4/8AACAA7/+n/6T/CABmAMz/h/9ZAC4A7f8uAAgA/v/l/wcABQAMAHEA+v8CAAkAzf8VALz/9f9FACcA///M/xIAHAAMAB8AIgDU/+3/UwDz/8b/MgAoANL/8v/x/yQASgC2/8H/KwAJANX/GwAVAOj//f/W//f/7v///yoALgAyAAAAGAAVACAAIAAGAN7/nP8kABwAyP/9/73/2P/p//z/QwDn//D/IwD5/+P/0v/W/xgA4/+5/x0A/f/D/9P/PwAYAMf/CgAKAAkA8P/X/+T/OAAMAN//KwAvAPz/4v9KAAEA6/8mAPz/GwD+//7/+f8BAAkA+f////r/EQDv/wcAEgDo/wAA9//x/9H/4/8DAA0AKwDt/xAAOwDo/93/9v8AAPP/9v8DAPf/CwADAAoAFwD4/wUAEQAEAAUAGgAIAOz/DgAaAPb/8/8AAAAACwDw/+P/FAAXAPL/BAALAP7/BwAKAAgA8P/7/w0AAQD9/wQAAQAHABMA9//1/w0AAwDw//7/FQAlAPf/2/8CAPT/+P8PAP7/6//k/+z/EAALAA0AEADw/wAAAAD9//T//P8JAO//9P/3//r/AAAHAAkA7P/r//v/AgD+//L/BAD7/97/BAAQAPD//v8AAPL/+P8PABsA4/8AACkA+//z/wYADAACAAIAAwASAPv/8P8PAAAA3//V/woA5//G/wcABwALAAsABwAEAPT/+//z/w4AHAAAAP//6P8AABsA//8IAAQA9f/z/wAABgACAPz/5v8AAAsA/v8MAAUA3//s/xAACAD9/wAA7v/e/woAAAD3/xkA6v/z/xEA9P8AAAwAAAAFAAUA+v/+/wsAAgD3/wAAAgAFABQABAD6/wwABgDz/wUAEwAAAA0AEAD3//3/+//1/wQA9P/z/xoAAADy/wMA//8DAAAABgAGAP3/CAANAPv/+/8CAPv//P///wkA+P/y/wEA9//u/wIABwDs/wAACgAFAP3/9//+//L/FgAEAPP/CwAFABoA+//+/xEABgAIAOj/9//7/+P/7//z/9f/AwAwAPb/8v8RABcA5P/t/xoA+P/7/wwABADz/wIAAAD0/wUAAAAFAAUA9f/7/xwAAAABABcA9P/4/wkA/f/H/wEALQDs//b/BAAEAPT//P8KAPf//P/6/wcA8P/a/xoAFQDh/wcAIAD6//X/BgADAAUAAAAAAAkAAAAEAAQA+v/y/wQAEADy////EQABAPj//P8CAAIACAABAP7/CwAIAAEABAAGAAkA8//v/w4A///4/wYAAgAGAPX/9/8KAAQA/v/8/wYAAwD8/wIAAAAFAAAA/v8FAAQAAQD+//D/7f8FAAAA/f8EAAAACwAMAAAA/v8EAPr/+P8FAP3//////wEABAAAAAUADQAWAP//8P8CAP///P/7//3/BAD8//7/AQAAAP3/9f/2/+//9f/+//f//P/4//j/+v8AAPr/9f8EAP7/AAADAPf/BgADAPX/AAD6//r/+v/3//3/+f8GAP//9v8AAAIAAgAAAAIA///+/wQACgAEAP3/AwAOAPv/9f/+/wEA///v/xoADQDx/wIA/f8AAPz//v8BAAIAAQD6/wIAAgAAAAMABQD///v/AQAAAP7/+/8AAAIAAAD+//3/AAAGAAAA+/8CAAYAAAD//wIA/v////n/AAALAAUA/v8CAAMA8P8AABAA5//Z//j/9f/1//X/AAAKAPr/EQAFAA8ACgDu/xEABAAAAAAACAD9//j/CgD+/wQAAAD//wcAAAACAAQACAAFAAAADQAVAAQABAAAAPL/CQABAP7/BQD//wIAAAAGAAAA//8DAAAAAAAEAAEA+/8DAP//+P/6/wQADgACAAQACgAKAAMA+//3//f////4//P//v/4//f/+P/v/wQABAD2/wAACgD9//v//f/i////EQDz//z/9f/+/wgA+v/8//n/AAD9//7/CgD3//z/CADu/+P/6P/+////7v/y/w8AFgD//w0ADAAMAAQAAgARAP3//f///wAAAwABAAIABAALAAAA//8JAAUA/P8AAAYABwABAPv//P8HABAA8P/1/w8A+/8DAAYA/v8EAAAAAAD9////9/8FAAUA6f8EABAA/f8CAP//+P8AAAAA+f/x/wEAAgD+/xoACQD4/wAA/v/+/wMABQD+//r//P8HAAUA+v8CAAEA9v/x//P//v/3/+j/+/8LAAUAAgD9//z/BgAHAAAAAAABAPT/6P8DAAgA/f8GAAEAAQAFAAEAAAAAAAQAAwADAAcACQAEAAQABAAIAAMA+f8AAAEA+/8AAAAA/v8CAAgABAD5/wgACgD///7/+/8JAAYA9P8AAAMA+f/u//j/BgD1//P/CAAAAAAACAAEAAMABAAAAP7/AAABAAMABwAIAAAA//8AAPz///8EAP///P8EAAAAAQAIAPX/9f///wMAAgAAAAIA/P8AAAMA/f8EAAkA+P/+/woAAAAGAAIA///9//3/CAACAPz/AQD//+//3f/p//X/4//4//v/+/8MAAQAEAAGAP7/CQAHAAoABQAEAAwACwD+/wMABAAEAAQA/P8AAP7//f/x//D/CQAFAPv/CAAEAP//CQAAAPv/DgAJAAAABwAHAAIAAAADAAEA//8CAAAA//8AAAAAAQAAAP3/AAD///3/BAAGAAAAAwAHAP//6//o/wUAAAD5/wAA/v8KAAIA//8BAAAAAADx//D/9P/1//f/AAAAAAYAAQD7/wYAAwD6/wAAAQAAAAYABwAIAPz/+/8AAPr/9//z////CgABAPv/AQAEAAMA/v/6/wEABgD6//f/BAALAPz/9f8BAAMAAwAAAP3/AAAEAAEA//8AAAIA///6/wMABQABAAMABwADAPz/AgABAAAA+f/2/wYAAQD6/wAAAAD9//7///8BAAYABAD/////AQABAAIAAQABAAAAAQAHAAMA+f/5/wMAAQD6/wAA//8BAAUA+/8AAAAA+v/+//z/AAAGAAIAAQABAAAAAQAIAAQAAgACAP7/AAABAAEAAgADAAEA+v8AAAYABwAEAAAAAwD+//3/AAACAAEAAQAFAAEAAAAAAAEABAADAAEA/v8AAAEAAwAFAAAA//8AAP7/AQAEAAYA/f/2//f/9v/0/wAABQD8/wAA/f/7/wEAAQD8//T/AwAGAPf/BQABAPf/+//z/wAA/f/4//P/7f8IAAcA+v/6/wAA+v/r/wAAAQD6/wIAAwAFAAMAAQACAAMABAABAAUABAABAAQAAwALAAcA/v////7//f/9////AwD///z//P///wMAAwAEAAAA/f///wEAAwACAAAAAgADAAIABgAAAAEA///0/wIABwABAAAA//8CAAEAAQAAAPz//P8BAAgAAwD+//7//f/+////AAAAAP3/BAAJAAAAAAAFAAAAAQAEAAAA/v/+/wIABAAFAAYA/P///wMABgAAAPv/BgAAAAAABAD9/wAAAwAFAAEA/v8DAP3/+v8BAAMA//8AAP3//P8CAAUAAwD8/wAAAgAAAAEA/f///wAAAAAGAP//+////////f/6/wUA///0//f/+v8GAAMA/f/5//z/AwD8//n/AAADAPr/8f8AAAAA+P8AAPz/+///////AAACAAAA//8AAAEAAgAEAAQAAAACAP//BAADAPr/BAAFAAAAAgAAAP///v/8/wMAAgACAAUAAAABAP3///8CAAIA/v/7/wQAAQADAAQA/v///wAABAAAAAIAAQD8/wUABAADAAEAAgD9//b/AgAAAP7/BQACAAQAAgABAAAA//////n//f////v/9v/6/wMA+v/2/wAA+v/z//7/BQACAAEAAwABAAQAAgACAAMAAgAEAAAAAAADAAMA/v///wUAAAABAP7//P/+//3/AAACAAMAAAD+/////f/9/wEAAAD8/wEAAwACAAMA///+/wIAAAABAAUAAAD+//7/AwAFAAEA/v/+/wEA/f/7//3/AAD7//T//v/8//v/AQD///z//f/6//3/AQD7//3//f/7///////7//j/AAD9//v//v////v/+/8AAP7//f////7//P/9////AQD+/wAABAAAAAIAAQACAAIA/v///wAABAAAAP7/AgACAAAAAgAAAPz/AQAGAAAA/f8EAAAA/f8AAP//+/8AAAAA/v8CAAQAAQACAAQABQAAAAEAAQD7/wIAAwD//wIAAwADAAEAAgAAAAAABAD//wAAAwABAP7/AgABAPn/+v8CAP3/+P8BAAAA/P/9/wEAAQD9/wAABAAAAAEABgAAAAIABAD///7/AQAAAP7/AAABAAMAAgACAAQAAwAAAP///v/+/wAA/v/8//7///8BAAAAAAAEAAEA/v/8/wAABAACAAEA/v8BAAAAAAD/////AwAAAPr//f8BAP//+//5//f/9////wAA+/8DAP3/+v/6////BQD+//z/+//6/wIA///4/////P/4/wEABwACAAIAAQD//wIABQAAAAIABAAAAAAA/f8BAAIA/v8DAAMA/v8CAAAAAAAAAP//AwAAAAAAAQAAAAMAAwD//wAABQADAAMAAwD///r/AgAFAAIAAwAAAP7/AQAEAAMAAwD///3/AwAEAAEAAgADAAEA/v8AAAIAAAD//wIAAAD+/wIAAAD+/wAA//8AAAIAAgADAAIAAAAAAP///f/+//7/////////AAADAAEAAAACAAAA/v8BAAUAAQD+//3//f/+/wIAAAAAAAIAAAAAAAEAAgAAAAIA///8/wIAAwAAAP////8AAAIAAAD//wQABQABAP7/AAAEAAIA/////wAAAwD8//f//P/6/wAA/v/8/wQAAgD9//r/+v/4//v/BAABAPv////8//n/AQD+//n/+//8/wAAAQAAAPv//f///wEAAgACAAQAAAD//wQAAAD///7//P/8//7/AgAAAPz//v8EAAQA/v/+/wAA/v///wAA/v///wAAAAACAAIAAwACAAQAAAABAAIA//////7//f/7//7/AAAAAP7//v8CAAAA/P8AAAMAAAD+//7//v/9//3//v8AAAMAAAABAAMAAwAGAAUAAAD+/wIABQAAAP3/AAABAAMABAAEAAQAAgACAAIAAQAAAAAAAgD///3//v8BAAEA+v/7/wIAAAD+/wQABgAAAP3/BAAGAAEAAwAFAAMABAADAP7/AwABAAIABAD///7//v8AAAQAAgAEAAMAAwAFAAIAAAD//////v///wAA///8//v///8AAAEAAgD9//3/AwD9//f/AAD//////f/+/wMA//8CAAAA/f8AAP7/+v/+/wAA+//5//z/AAD+/wEABQAAAAAAAwADAAAA/v///wIABQAAAP3///////7//v/+/wAA/f8BAAEA/f8CAAQAAAAAAAAA/v8DAAAAAAAAAAIABAABAAIABAADAAMAAAD7/wEAAQD//wMAAwADAAIAAgACAAIABAAAAP3/AAAAAAEABQAAAP3//v////7/+//7/wAAAAD9/wAABAD+/wEAAQD7/wAAAwAAAP3//v8AAAQA//8BAP//AQABAPr/AQABAPv/AAADAAQABAABAAAA/v8BAAUAAAD9/wEABQACAAIAAAD+/wEAAAD+//3//v8AAP//AAD+/wAABAAAAPz/AQACAAMAAgD9/wIAAgD5//r/+v/8//7/+v8BAAAA9v8AAAUA//8AAAMAAwD+//n/AgACAAMAAAD9/wQAAgAAAPz/+/////7/AAADAAIAAwAFAAAAAQAEAAAA/f8AAAAA/v8AAAEA/v8AAAQAAAD9////AwAAAAAAAQD9/wEAAgABAP//AQADAAMAAAD8/wAAAAD//////v/+//3////+//////8AAAEA/v8BAAMAAQAAAP//AAAGAAEA//8AAAIAAQD+/wIAAAD9/wMA//8AAAUAAgAAAP3///8BAP///f///wIAAwABAP//AQAAAP3//v8AAP3//P8DAAEA/v/+/wAAAQAAAP3/AAAEAAAAAgADAAMAAwAEAAAA/f8BAAMAAQD6//v/AwAAAAEABAACAAMAAwACAAQAAwADAAQAAQABAAIAAwACAP7/AgADAPr/+v/4//z/AAD//wAA/v8AAAQAAAD+//7/AAADAAAAAAADAAAA/P/8//7/AAAAAPr/+P/+/wIAAAD8/wAABgADAAIAAgACAAQAAwACAAIAAwADAAIAAAAAAP//AAAFAAAA//8BAP7/AAAAAPz/AAD///7/AAD//wMABQADAP////8DAAAA/f///wMABQABAAAAAAAAAAIAAAD9/wIABQAAAP///v8CAAQAAAD///3/AwABAPz/BAAGAAAAAQAEAAQAAAD//wAA/v8CAAAAAAD+//3//v8AAAMAAAD8/wEAAQAAAAAA//8AAAAA/v///wAA//////z/AAAGAP7/AAABAP3/AwACAAMA/v8AAAMAAgABAAAABAADAAAA/f8CAAEA/v/+//z/AAACAAIAAQD9/wIAAwACAAAAAAAFAAAAAQAEAP//AwAFAAAABAD9//z/AAD7//r/+f/+/wMA/f8AAAEAAAAEAAEA/P/7/wAA+//3//j/+//9//j//f8AAAAAAQD+/wAAAwAAAAAAAAD+////AAABAAEA/v8BAAAA/f8DAAQAAgD///z/AAADAAMA//8AAAEAAAAFAAMAAAAEAAMAAwABAAMAAwADAAUAAwD+/wMAAAD+//7//v8FAAAABAADAP7/AgD/////AAD///7/AAAEAAMAAwAEAAMA//8CAAEA//8EAAEAAAABAAMABAAAAAUABAAAAAQAAAACAAQAAQD//wAABgAEAAQABQAAAAEABQAAAP//AgADAAAAAQAEAAMA///+/wQAAQADAAEA/f8DAAAAAQACAAMAAAABAAQA/v/+/wEABAD5//T//v/9/wEA///8/wEA/f/9//v//v/8////AAD9//z///////j/+v8AAP7////+//n//P8AAAIA//8AAPz/AAACAAQAAQD7/wEA/v///wIAAAABAAMAAwD///7/BAADAAMABAD///7/AgACAAMABAACAAAAAgAHAAAA/P///wAAAwAFAAMAAAABAAEA+////wEAAgAAAAAAAAACAAMA/v/9//z/AAAEAAMAAgD//wEAAAD//////v8CAP//AQADAAAAAAD9//7//v8CAP//+/8AAP//AAAAAAEAAgAAAP7/+//8/wAAAAACAAMAAQABAAMAAAD8/wEAAQD7/wAAAQD+/wAAAwADAAAA/////////f8DAAAAAgAAAPv/AwD9//v/AAAAAAIA/f8AAAEA/P8DAAAA+/8AAAYAAAAAAAUA//8AAAIAAAD//wIABQABAP7/9/8BAAcA/f8AAAEA//8AAP//AAAEAAIAAwAGAPn/+v8DAPj/AAAHAAEABgACAPn/+//5//X/AgAAAAEABgABAAMAAgAAAPv/8P/4/wYAAQAAAAUAAQABAAUAAwD9//z/BAD///v////8/wAAAwD///////8AAP///f8AAAUAAQD8/wEAAAD//wUA/f///wYAAAACAAQA//8AAAIAAgAFAAIAAgADAAAA///8////AAD9/wEAAwAAAAIAAAD///3//v////7/AAD+/wIAAgAAAAQAAwAFAP//AAABAP7/BQAAAP3//v8BAAAA+/8AAAIAAgABAAIAAgADAAQABQACAP//AgD///v/AQAEAAQABAAHAAEAAAAAAPz////8/wMABQAFAAMABgALAPP/8v8AAP3//v8AAP////8AAPv//v8GAP3/+f/5//D/9P/2//3/BgAFAP3//P/8//b/9//4//3//P8AAAAABQAKAAUA+//8//7/9f/7////BAAFAAQABAADAAMAAgABAAAA+v///wYABAADAAQABAD///7//P/w/+n/9v8AAAEACAAJABEACwD+/wAA///z//f///8EAAgAAAAAAAQAAQD//wAAAQD7/wAAAQACAAUABAACAAMAAAD6//P/6v/k//v/BwADAAYAAgACAP3/+P8AAAUABAAHAAoABgD0//b/AQD8//3/BQADAP////8AAAIABQAAAAQACAADAAYAAwADAAQAAQAAAP//AQD9//j/BAD9////CQADAAMAAwABAAAAAAD//wAABQAFAP3/+P/7//b/+v/r/+f/AQAAAPn/AAAAAP3/AAAHAAMAAAAAAP3//v/9//v/AAD9//n/+//5//v/BQANAAgAHwA0AAEA9f8KAAAA/v/7/wQABQAKABMA+f/v//n/7//5//b/7f/+/wAA/f8BAAAA///+//L/0P/D//H/7//l/w0ACwAFABEA+v/a//P/+P/c/wcAFwAOACIAHAAPAAMAAAAAAAAAAAD9/wUADwAGAAoAFgAEAAYABADv/wIACwD+/wYAFAAJAAIABAD///n/+f8BAAIAAAD9////AgD9//r///8CAP//+f8BAAMA/f/8//3///8AAAAA8v/r//r/AAD0////EAD///n/+//3//D/+P8PAA4AFgAKAP//BwABAPj/9f8JAAcAAAAIAAAAAAAHAP7///8EAAAAAQD8//r/AAAAAAAAAAD+////AgD7//j/AQACAAEAAAD+/wEA///9/wMAAwAEAAIA///9//n/+//6//r//P8CAAYAAQAEAP//+P/4//r/AAD+//3//v/+//n/8f/5//3/9v/2/wAAAgD9//r//f8CAAMA//8CAP//+/8AAAQABAAGAAsAAAAAAAYA+//4/wEA+//0/wIABQAAAAgABAAAAAEAAAD///z//v///wIAAQABAAUA+P/4/wgACQAAAAIABAACAAIA+/8PABUA+/8AAAUAAgAAAPr/AgAAAP//BwADAAQAAQD+/wMA+f/1/wAAAAD+/wUAAQD//wIA///+//7/+v/2//7/8v/s/wEAAAAAAAQAAAACAAEA///5/+3/+v8IAAUAAQAFAAQA//8AAAIA///9//7/AAACAAIAAwAFAAUABwAAAAAACgADAP///////wQAAQAAAP7/AAAFAPz///8GAP7/AAAAAP7/AwD+//b/9v8CAAQA//////z//v8DAP3//P////z/+f/9//7//f8IAPr//f8MAPf/+f8JAAIA//8CAA8AFQD4/+7////8/+f/5v8LAA4A+P/8/wMAAAD9//r/9v/+//3//v8FAPr/AgABAPr/AAAAAAEA/f/2/wUACwD7/wEACwAJAAQA9P/p//D/AwADAAgAFwAAAP7/+//s/wEA9v/h//z/BQAAAAgAAAD+/wEA7f/l/wEAEQD1//X/BwADAP7/AAAEAAAA//8AAAMABAADAAYABQACAAMABQAAAP//AAAAAPv//v8CAAQAAQAAAAQA/f/+//7/+v///wEA/v/+/wgABAAAAAMA///+/wUAAwD9/wUABwD9//3/BAADAAEAAgAOABQA+P/7/wwA8f/4/wIA+/8BAPz//f8CAPv/+/////r/+f/2//r////4//r/+f/3//3//f/+//3//v8AAAUAAQDy//L///////n//P8AAPn/+f8CAP7/+v/8/////P/+/wIAAAD9//7/AwADAAEAAAAAAPj/8/8CAAUA//8HAAMA+f/+/////v/w/+7/DwAEAPr/CQABAAIA/P/4/wIABwAAAAEACgD///f/9v/7/wgABAD+/wQA/f/6/wYABgACAAgACwABAP//BQADAAcABQAGAAsAAAD9/wQA///5////AgACAAIABwAAAP//AAD4/wEAAAD+/wIA/P/7/wEABAABAP7////+/////f/6////AAABAAAA/v8AAPz/9f8BAAEA/f8GAAEA/f/+//v//f/+//////8AAPb/7P///wAA/P8DAAAAAwABAP7/AgAAAPv/AAAEAAQAAQD+/wEAAgD2//L//v/9//v////+//z//v/9/wAAAAABAP//9v/7//j/9v/0//L/CQAQAPn/+/8BAPz/+f/6/wMABgABAAAAAQAAAP7///8CAAQAAgD+//7/AwD+//z/AQAEAAgA+//5/wUAAAD+/wgAAgD9/wIAAAD//wAAAAACAAUAAAAAAAMA+//6/wAAAAAAAAEAAwAKAAEA/v8BAP//AgAAAPv/+v8CAAAABQAGAP7/BAAAAAEAAAD9/wMAAQD9//r/AAACAAAAAAAJABQA+f/w/wcA/f/0//3/BQAGAAAAAAAFAP//8v/5/wUAAQADAAUAAAD///3/AAABAAAABAAEAAEAAQD+//3/AAD+/wAAAwAFAAAAAQABAAAAAgACAAMAAAAAAAEA9//r//7/BQD+/wIAAAADAAMA+/8AAAUA/////wkAEQAPAAYA/P/7////+//9//j/AAABAP7//P8AAAQA/f8AAPv//v8BAP3////+//7/AAD+/wAABQAAAAAABgAAAAAABQACAAEAAQD9//3/AwADAAUAAAD6/wAA+v/w//j/BQAAAP3/AQAFAP///P8DAAAA+//+/wUACwD//wIADAD8////CAAMAAMA9f/9/wEAAAD8/wAAAAD+/wMABAD9//v/+//t/+z/AQAEAAAAAgADAAQA/f/+/wQAAgAEAAcAAwACAAIABAADAAEA//8BAAIAAQAAAPz//////wAABAABAAAAAAD+//7///8AAAAA//////7/+//+/wEA/v8BAAQAAAACAAIABQAEAAAAAAD//wAABAADAAAAAQAFAAAA+f/2////AwD///////8DAAMAAAD+//7/AAAAAP///P/7//v//f8AAAIABAADAAAAAAAAAPr/+P/+/wEA/P/4//n/+//4//X//v8AAP//BQD9//3////9/wUAAwADAAEA/f8AAAMAAgD8//b/AAAFAAAAAQAEAAIAAAACAAAAAAAAAPv/+P8AAAQAAAADAAEAAgABAAEABQAEAAEABAAAAAAABAAAAP3/9/8AAAMA/f8AAP7//f8AAP//AQACAPz/AQABAP3/BAACAP///f8CAAcAAAABAAIAAwAFAAAAAgABAP////8CAAYAAAD+/wAAAAAAAAAA/////wMABgAAAAAAAAACAAcAAAAAAAMAAwAFAAQAAAD+////AgAAAP3/AAADAAUAAAAAAAEA/P/5/wEABAAAAAMAAAD8//r/AAAGAAQABAADAAIABAACAAAAAAD9/wMABQABAAUAAgD8//f//P8AAP///v8AAP7/+f/3//3/AAD8//7/AAAAAAAA+//4//n//v/9//v/AAD6//z//f/3/wEAAQD9/wAA/v//////AAABAP///f8BAAUAAAD+////AwADAPz/AQAAAP3/AAABAAEAAQADAAAA//8DAAYAAAD+/wAAAwAAAAAABAABAAEAAAD//wAAAgADAAMAAAAAAP7/AAACAAQABAAFAAAAAQAGAAAA/////wAAAwAAAAAAAQD//wAAAQABAAIAAAAAAAIAAQABAAIA/v/8/wAAAAD9/wAAAgACAP///v8EAAAA/f////z/AgAAAP3//f/7/wAAAAAAAAAAAAAAAPz/AQD//wAABAD//wEAAgD9/wAAAwAAAP////8AAAAAAAD///7/AAD+/////v8AAAEA/v8CAAAA/f8AAAMA//8BAAAA/f8BAAQAAgD9//r/AwADAAAAAAD9//f/+P///wAAAAAAAPv/+v/5/wAA/v/6/wMAAwAAAP//AAD+////AAD//wAAAgAEAAQAAgACAAMABAAEAAAA/v///wEAAwACAAIA///9/wAAAAD///7/AQD///3/AAD+////AAD+////AAD///7////+//3//v8AAP////////3//f8AAP/////+//7/AAD+//3//v8AAAAAAAAEAAAAAQAEAAMAAAACAAQAAQADAAAAAQAEAAMABAAAAP/////+//7/AAABAAAAAAAEAAAA/v////z//v/+/wIABAACAAMAAAD+//////8CAAAA/f/9/wEAAgACAAIA/v8AAAMAAgACAP///v////7/AAACAAMAAAD////////+/////v/7/wEABAACAAIA///9/wAA/f/6/wAABAAAAPz//f/8//r/AgAAAP7//f/6//r//P/9//3//f/9//v/+////wAA/v8AAAIAAwACAAQABAABAAIABAAGAAIA//8CAAMAAAADAAQAAwADAAAA/v///////f/9/wAA//8CAAQAAQD///3//v8AAP//AAADAAQAAwAAAAIABAADAAQAAAD8/wAAAwABAAAA//8AAP///f/9//7////9/wAAAgACAAAAAAADAAAAAAAEAAQAAwD///v/AAABAAAAAAD+/wAAAAABAAMABAABAAIABQADAAQAAAD8//v/+/8BAP7/AAADAAIAAAABAAQAAgD//wAAAAAAAAMAAgAAAP7/AAAAAAIAAgAAAAEAAAD+////AQAFAAEA/////wAA/v/+//3///////z//v/8//r//f/+//3/AAACAAIAAAD6//v/AAADAAEAAAD8//r/+v/7//7////8//7/AwAEAPz//P/+////AQACAAIAAgAAAP7//////wAAAQACAAIAAAACAAUAAwACAAEAAQABAAAA//8AAP3//f8CAAAAAQAFAAIAAAABAAAAAQAAAAAAAAD+////AQABAP///v8AAAYABAABAAEAAwAEAAAAAAACAAEAAgAEAAAA/v////7//v/+/wAABQAFAAAA/f8BAAAA/v/+/wEABAAAAP7//v8BAAAA/v8AAAEAAAABAAMABAAAAP7///8AAP////////7/AAAFAAUABQAAAAIABQAAAP7//v8DAAQAAgACAAAA//8BAAMAAwD/////////////AQAEAAIAAAD/////AQACAAEAAwAAAP///P/7//v/+//+/wAA/v/7//v/+/8AAAMAAgAEAAIAAwD///r//P/5////BAAAAP7//f/8//3//P/7/wAABAACAAYABQADAAAA/v////////8AAP//AAD/////AAD/////AAD///////////7//v///wAA/v8AAAIA///+////AAABAAMAAgADAAMABAAAAP//AAD//wEABAAAAAIAAwACAAQAAwAAAAAAAAD///7///8CAAQAAAD+/////v////////8CAAMAAgABAAIABAAAAP3//P/7//3/AAABAAIAAwACAAAA/v///////f/9/wEAAAABAAAA+//+//z/AQACAAIABAADAAIAAgD///3/AAABAAIABQACAAAA///+/wEAAwADAAIAAwAAAP/////+/wAA/v8AAAMABAAAAP7////+//3//v/+//7/AQADAAAA+//6//r//P8BAAMAAAD9/wAABAADAAAA//8CAAMAAwD+//r//P/9/wIAAAD/////AQADAAMAAAD+//7/AQADAAIAAwD///3//////wAAAgADAAIAAgADAAAA/v////7/AAAEAAAA//////7/AgAAAP///v8AAAQAAwACAAQAAAD////////+/wAAAgADAAEA/f/+/wAAAgAEAAMA///+/wAA//8BAAMA//8AAAMAAgACAAAAAAD//wEAAAD+/wMABAAEAAAA//////////8BAAQAAwADAAEA//////////8AAAAA/v/9//////8AAAEAAwAAAP7//v8BAAIAAwAAAP3/AQAEAAEAAAD//wEABAAAAP7///8AAP/////+//3/AQD///7/AAD//wAA/f/7/wAAAAABAP7/+v/+//3/+v/6//v//P8BAP///f/8//r//f/6//n/AAACAAIAAwD8//r//P/5//v/+/8BAAYABAADAAQAAwACAAAA/v//////AAD///3/AAAAAP3/////////AAAAAP//AgACAP///v/9/wAAAgAFAAAA/f/+//7//f/9//7//////////f/9/wIAAAD9/////v8AAAQABAADAAMAAgAAAAAA//8CAAMAAAAAAP///v/+//7///////7//P/+/wIAAgACAAIAAAD9//3//P8AAAIAAgADAAAA/v8AAP//AQAEAP///P8CAAAA/v/9/wAAAwD///7//v/+/wAABAAAAP7//v8AAAIAAgADAAMAAAD///3//f8BAAMAAwADAAIAAAAAAP///f8CAAAA/f////7/AQAEAAAA/P/8//3//v/////////9//z/+//8//z//f///wAAAQACAP//+//+/////v/9//v/+/8BAAAA/v/7//r/AQADAP//AQAAAP7/AAD8/wAABAAAAP////8AAAQAAwAAAP///f/+/wIA///+////AQAAAPz//v/+/wEAAAD9/wMABAADAAAA///+//7////+/wEAAwACAAAA//8AAAAAAAAAAP///v8AAP////////3///8AAP///v8BAAEA///+/wAAAwABAP/////+/wAAAgAAAP//AAD9//7//////////v/+//7/AAAEAAIA///+//7/AQAFAAAA/////////v/+/wAA//8AAAAA/v/+//7//v////7///////3//////wAABAAAAP////8AAAMAAQAAAP3/AAAFAAAA//////3//f/9/wIAAAD6//v//P////7/+//7//n/+/8BAAMA/v/6//z/+//5//r/+v/7//3//P/9//z/+//6//r//f8DAAQA/////wAAAgAFAAAA/f8AAAMABAAEAAQAAAD/////AwAEAAMABQAAAAEAAgABAAEAAAD/////AgAEAAIAAAD+///////9//7/AAAAAP7/AAADAAMAAAD/////AQD///z//////wMABAAAAP///v/+/wAAAwAAAAAA/////wIABAD+//3//v/+/wMABAABAP///v/9/wAAAgD///7///8BAAIAAgAAAP7/AAAAAAEAAwABAAQAAAD+//7/AAADAP7//v8BAAMAAgD///7///////7//////wIABAADAAAA//8AAP3/AAACAAEAAgAAAP3/AQAEAAMAAAD+//z//P8AAAAAAwD+//n/+f/+/////P/9//3//f/6/wAAAwD8///////8//7/AAAAAP7////7//z//v8CAAAA+//7/wAABQADAAEAAwAAAP7/AwAAAP//AAD+//3/AQADAAAA/v///wAA/f8BAAAA/f/9//////8AAAMA/v/9/wAAAAD///7//v///wQAAAD8/wAAAAABAAUAAAD///7//v/9/wAAAAD9//7///8CAAEAAwABAPz/AQAFAAAAAAAFAAEA/v8CAP//+////wAA//8AAAIA///+///////+/wMABQD9/wEABQAEAAMAAAD+////AAADAAQAAAD+////AQAFAAAAAgAAAP3///8BAAEA/f8BAAAAAAADAAQAAgD9/wEAAQD9/wQABgAAAAAABQAAAP7//v///////f8BAP//AQABAPz////+/wAABQD///v//P/+//z//f8AAP3/+//8/wAA/f/6//3//v/+//z/AAAEAP3/+/8CAP7/+v8AAP7///8DAAEAAwAFAAIAAQABAAQAAAD//wAAAAAAAAAA/v/+/wEAAwD/////AQAAAAEAAAD8/wAAAwABAP3/AQAAAPz//v8BAAAA/f8BAP///f8BAAIAAAD//wEAAAD9/wMAAAD8/wMAAwD//wAAAQD//wAA/v/9/wAAAAD9/wIABQAAAPv//v8AAPv///8FAAAAAAADAP///P/+/wEAAAAAAAIAAAD//wQABQD//wEABAAAAAEAAgD///3/AAAAAAAAAwACAAAA///9/wAABAAAAAAABQAAAP3/AAD+//7/BAD//wAAAwD+/wAABQAAAPv/AAAEAAMA//8BAAEA/P8AAAMABQACAPv/AAAHAP7/9/8AAP7/+v///wIA/f///wUA/v/6/wAAAwD8/wAABAD8/wAABQABAP7/AQD///T/AQAIAP////8GAP//+f8AAAAA/v8CAAAAAgADAAIA/v/9/wIAAAD9/wAAAwAAAAEABQD///7/AgAAAP7/AQAEAP3/+v/+/wEAAwABAAIAAwAAAP3/AgAEAP7//v8DAAAA/v8BAAUAAAABAAYA/v8AAAUA//8BAAUAAAAAAAYABQD+//3/BAD9//n/BwAEAP7/AgABAP3//v8AAAAA/v///wQAAQD//wMAAwD///7/AgAEAAYAAQD8/wAAAgABAAAAAwAAAPz///8CAAAA//8BAPz//P///wIAAQD9////AQABAAAAAQACAAEA//8CAAUABAAEAAAA/v/+/wAAAgACAAQAAAD7//r//P/8/wAAAgD+//v/AAAAAPr/9///////+v8AAAIAAwD+//z/AAD7/wAABAD+/wAABAD+/wAABAADAAAAAAAAAPr/AwAHAAAAAQAFAAAA/P8BAAIA/v/+/wIAAwADAAEA///9/wEAAQD+/wAAAQADAAAAAAAEAP//AAADAAAAAgAEAAAAAAACAAIAAQAAAP3/AAAEAAAAAgAEAAEA//8BAAAA/f8CAAMAAAACAAYAAAD//wQAAAD7/wIABgD+//z/AwAAAP//BQADAAIAAgAAAP///P8AAAMA/v/+//3/AAADAP3/AAAAAP7/AAACAAEA/f//////AAAAAAIAAAABAAQA/v/8/wMAAAD+/wMAAgADAAQABQD9//r/BQAAAPn/BgALAP//AAAEAP///f8FAAAA/v8FAAAAAQABAAEA/v/5//z//P/9/////P/8/wMAAAD8//v//f/8//n//f8BAP7/+P8AAAQABAAAAAAAAQD9//z/AAD///v/AAAGAAUAAgAEAAMA/P/8/wQA///8/wQAAAD7/wIABQAAAP//AAD+////AwAAAP//AwABAAAAAQD8//v///8AAAEAAgACAAIAAAD9/wAA/f8AAAIA/v/9////AAD+//z/AQAFAAMABQAAAP3/AQAAAP//+//8/wAAAgADAAIAAwD+//v/AQAAAPv/+v8CAAAA+/8BAAAA/f8DAAUA/v8BAAIA/f/+/wEABQAGAAMAAwACAAIAAAD+/////P8AAAMAAgADAAEABQAFAAIAAAD///7/+//8/wMABwD//wAABgABAPv/+/8BAP///f8CAAMA//8AAAQAAAAAAAQABAD//wIAAAD6/wIAAgD8//3/AwD///j//P8AAPz/9/8CAAEA+/8CAAUA/v/8/////f/8/wAABAACAAUABAD+//3/AAD+//////8AAAMAAwACAAMABAACAP////8AAP7/AQAAAP3/AAAEAAEA/f8BAAQAAQD//wAAAQADAP///v8EAAMAAgAAAAAABwAAAP3/AAABAAAAAgAEAAIAAAAEAAEA/P8BAAEAAAD8/wAABwD+/wAABgAAAP7/AAAAAP7/AAD9//7/BAADAAAAAQADAAAA/P8BAAEA+P/9/wQA/v/9/wUABAD8//3/AgAAAP3/AQAEAAIAAgACAAMAAAABAAIA/f8AAAAA/P8AAAIAAAAAAAAAAAD/////AAABAAEAAwACAAUAAgD+/wIAAAD///////8AAAMAAAAAAAUAAAD+////AQABAPr///8DAAMAAAD8/wAA///6/wAAAQD+/wAA/v/5////BAACAAAAAgAAAPv/+/8AAAAA/P8DAAEAAAD+/wAAAgD7/wAAAQD9/wMAAAAAAAUA/////wIAAwD///7/BAAEAP//AQAFAAAAAAD///z//v8CAAQAAAACAAIA/v8AAAMAAAD//wAA///+/wMAAwABAAQABQAAAP3/AQAAAAAAAAACAAIAAgAEAAAA///+/wAA///+/wAA//8BAAYAAAABAAQAAgD+/wEAAAD8/wEAAAAAAAAA//8DAP7//P8AAP//AAAEAAAAAgAEAAMABgD/////AQD9/wMAAAABAAUA//8BAAAAAgABAPv/AQADAP//AAACAAMABAAAAP3//v/+/wEAAAD8/wIAAgABAP7/AwAAAP7/AAD//wIAAQAEAAAA+f8AAP///v////r/AQABAP7/AAD+/wAA/f/4/wEA/v/7/wMA/v8AAP////8AAPj/AAAFAP7//v8AAP7//v8BAAMA////////AAACAAQABAADAAEABAAGAAQAAAD+////AwD+/wAABwACAAIAAgAFAAIA//8AAP///P8AAAMABAD/////AgAAAP3/AAD///7/AwADAAEABQAAAAAAAQD8//3/AgABAAAA//8AAAQAAwAAAP3//P8AAP//AgAAAAAABAD9/wAAAgD///3//f/+/wAA/v/9/wIABQAAAP3/AgAFAP///v8FAP//AAAEAP///f8AAAAA/f8AAAIAAwAAAP3/AQAAAAAAAAAAAAIA+/8BAAAA/P8BAAAA/P8CAAAAAAAGAP7/AAADAAIAAAD+/wAAAAD9/wAAAAD9/wAAAAD8//n///8CAP3/AgAAAP7//P/7////AgADAP7/AQAAAPn/AAAEAAAA/f8AAAEAAgAEAP7/+P////7/+/8AAAEA/f///wEABAACAAMAAAD8//7//v8AAAEAAAAAAAMAAwABAAIAAAD8/wEAAwADAAAAAAAAAP7/AgABAP3///8BAAIAAwACAAAA/v///wEAAwADAAAAAAABAAEAAgACAAEAAAD+//7/AQABAAAABAACAAAAAQADAAAA//8BAAMABAADAAAAAwAAAAAAAAD//////v8CAAQAAgAAAAAAAwABAAIABQAAAAAA//8BAAIA//8EAAEAAQAGAAAAAQAEAAMAAAD///7/AAAEAAAA/////wEAAwADAAQAAAABAAAA/f8BAAIAAwAFAAAAAgAAAAEABQAAAP///v8AAAEAAgAAAPz/AQAFAP//AQAEAP3/+f8DAP///f8GAPz///8AAP7/AAD8//z//f8AAAMABAAAAPr/+v8AAAMA/v////3///8BAAAAAAACAAQAAAABAAAAAQAEAP//AQAAAP3/AwAAAPz/AwACAP3/AgAEAAAA////////AQAFAAAAAQABAP//AgAAAAIABAABAAAA/v8CAAUAAAAAAAAAAgAEAAEAAAAAAAAAAAAAAAMAAQD9/wEABAACAAIAAgABAP//AgD/////AwD+/wEAAAAAAAAA/f/9/wAAAgAAAAEAAAD+/wAA//8AAAUABQAAAAAAAwABAAAAAQAAAP//AgAAAP//AgAAAAAAAAAAAAQAAAD+/wAAAwAFAP//AgADAPz/AwACAAAABAABAP3/AAAGAAMA/v///wMAAAAAAAEA/f//////+v/+/wAAAAADAPv//f/9//n/AQADAPz/AAADAP/////8/wAAAAD6/wEA///8/wIA/f/8////+P/+//7//v8BAP7//f8CAAAAAAABAP7//v8CAAQAAAD9//3/AgAFAP//AAABAP3/AgABAPv/BAAAAP7/AAAAAAAA/v8AAP7/AgAAAAEAAQD9/wIAAAAAAAIA/v8BAAAAAAAGAP////8FAP///f8DAAAAAQAAAPz/AwACAP//BQAAAPz/AwAAAPz/BAAAAP7/AwAAAAMAAQD9/wAA/P8BAAYA//8BAAMA//8DAAEA/v8EAAAAAgADAPv/AgAGAAAAAQD///7/AgADAAEAAAD+//7/AQABAP3//v/9/wMABAAAAAIAAgABAAAAAgAAAP3/AAD8/wIAAAAAAAUA/v8BAAAA+/8BAAAA+v/7//v/+//9//v/AQAAAPf/AgAAAPr/AgD+//v/AAD9/wAA///5/wIAAAD6/wIA+//7/wEA/f8AAAAA+//+////AAAAAAAA/v8DAAEA/f8EAAAAAQAAAP//AAD9/wAAAgAAAAAAAAD///7//v/9//////8AAAQAAQD8///////+/wAA/v/9/////f8CAAYA//8CAAAA/v8DAP///f8CAP////////z/AQAAAP3/AAD9/wAAAwAAAP////8AAAAAAAD9/wEAAAD//wIAAAABAAEA/P8AAP7//f8CAAAA/v/+//7/AgAAAAAA///+//7/AAABAP3//f/+//z/AgABAAAAAQD9/wAABAAAAP7/AAD9/wAAAAD9/wMAAAD+////AgAFAAAA///+/wIAAAACAAEA/P8CAAIA//8BAAAAAAD9//n/AQD+//r/AQD+////AAD5//v////9//z//f8AAAQA/v/+/////P8CAP7/+v/8//z//f8CAAUA/f/+////AQAAAP3/BAD/////BQAAAAIABAD///7/AQAEAP///f8CAAMAAAD+//7/AQACAP///P8CAAIAAAAAAAEAAwADAAEA/f8BAAQAAAD9/wEABQAAAP3//v8CAAAA/v/+//3/AgAAAPz/AAAEAP////////3/AgAAAP3/AAAAAAAA/f8AAAMAAAACAAAAAQAFAAAA/v8CAAUAAAACAAAAAAAFAAAAAQAGAP///////wAAAwAAAAIABQADAAMAAgAAAAAA///+//////8AAAAA/f8CAAQAAAAAAP//AAD///3/AAABAAIA/v/9/wAA/v/+//7//f8AAAEABAAAAAEAAQD9//z//f/9/wAA/P/5/wEAAgABAPz//P/+//r/+/8AAAUA/v/5/wEAAwADAAAA+v/+/wMABgD///z/AwD+//v//f8AAAMA///9/wQABAACAAIA//8EAAAA//8AAP//AAD///3/AQAGAAIAAAD9/wAABAABAP//AAACAAQAAAADAAcAAAAAAP///v8DAAQAAQABAAQAAwAFAAEAAAAAAP//AAD+/wEABgD//wEABAABAAAA//8BAAMABAADAAEA///+//7//v8BAAAA/f8CAAAAAAAAAP//AgAAAP///f/8/wEAAQD9/wIAAAD//wIAAQABAAAAAQD//wAAAAAAAAAAAAAEAAAA/v8BAAAAAQABAP3/AAACAAAA//8BAAMAAAD+/wEA///9/wAAAAACAAMA/v8AAAQAAQADAAAA/v////7//f/6//3/AAD8//r/AAAAAAAA/v/9//z/AAAAAPf/+v8BAAAA/P/7//v///8CAAAA+P8BAAQA/P8AAP//AAAAAAAAAAD9/wAAAAAAAAAAAgAAAP7/AQAAAAIAAwADAAAA/P8DAAAAAQAFAAAA/f/+/wMAAAAAAAAAAQAGAAEAAAAEAAAA/////wEABAD///7////+/wMAAwABAAAA//8CAAAAAAAEAAAA/f/9////AgAAAPv/AQADAAMAAwAAAAIABAD/////AgAEAAAA/v/9/wIAAAAAAAAA/f8DAAIAAQAEAAAAAQAAAAAABAAAAP//AAD//wIABAAAAAAAAQABAAAAAgACAP7///8AAAAA//8AAAMAAAAAAP////8CAAAA//8BAAMAAwAAAP7/BAAAAAEAAwD9//7/AAAEAAQAAAABAP7/+f8AAAMAAwAAAP//+////wIAAAD7//3////+//v///8DAAAAAAD//wIAAwD9////+//9/wAA///+/wAA/v/+/wMAAAAAAAQAAgAEAAEAAQAFAAUABQACAP7///8CAAQA//8AAAMAAgADAAAA/v8AAAAA//8DAAIAAAAAAAIABAD///3/AgAFAAMAAAD+/wAAAwD///7//v/+//3/AAAAAAAAAwADAAAA/v8CAAAA/v8DAP7//v8CAAIAAQAAAP//AAD//wAA///+/wIAAgAEAAIAAgAEAP//+//+/wMAAgACAAMABAAEAAAA/f///wIAAgABAAMAAQACAP7//P////3/AAAAAP///v8AAAIA/f/9/wIAAAAAAAMAAAD//wAAAwAAAPz/AAABAP/////+/wAAAwABAP7//P8BAAIA///8//z/AAACAP///P/8///////+//7//v/7/wAAAAD+////+/8AAAMA/v/+//3//f8BAAMAAQD9//z//v/+////AAABAAIAAAABAAAAAAADAP3/AQAEAP//AAABAAAAAAD+////AgAAAAEAAAD9/wIAAgACAAUAAwACAAAAAAD//wAAAwADAAAA+/8CAAAA/v8AAP//AgAEAAAA//8CAAMAAAD//wAAAQAAAAAABQADAAAAAAAAAAIAAAAAAAQABQABAAEAAAD+/wAA/f8AAAUAAQABAAYAAAD+/wMAAQAAAAIA/f///wMAAwACAAAAAAD+/wEABQACAAQAAwACAAEA//8AAAMAAAD//wIAAQAEAAAA/P8DAAUA/v8AAAQA/v8CAAUA/v///wQAAwAAAAEAAwAAAAIABAD+/wEAAAD8/wEAAwD//wEAAAAAAAUA/f/8/wMAAAABAP7//f8GAAEA//8DAAAA/P/9/wAA/v8BAAQA/f/+/wMA/v/6/wMAAAABAAUAAAADAAUAAwAAAAEAAQD//wAAAgAAAAAABQAAAAAA/v/9/////v/9/wEABgAAAAEAAAABAAEAAAAFAAAA/f8BAAEA/v/+/wMABAACAAAAAQAFAAAA/f8BAAQAAAAAAAAAAQAFAAMAAwABAAAAAgAAAAAAAgAAAP7/AgD//wEABQD+/wEAAwACAAAAAAACAAAAAwD//wAABAD//wAAAwADAP//AwAEAAIAAAAAAAMAAQACAAAA/////wAAAgAEAAMAAwADAAAABAAAAAAAAwD//wAAAQAAAAIAAAD9////AgAAAAAAAQAAAAUAAwABAP///v8BAAQABAAAAP3//v/9/wAA///8/wAA/f/9////AQACAPz//v////v////+//z/AAAAAP3//P8BAP////8EAP///v8AAP7/AQAAAP7//v/+/wIAAQAAAAQAAwD//wEAAQD7////AQACAAEA//8AAAMAAwAAAP3/AAADAAEAAwAAAP7/AAABAAMAAAD9/wAABAAEAAMAAAD9/wIAAAD///3////+//3////9/wEAAAD8/wIAAQD///7//P/+/wEAAAAAAP7//v//////AQABAAAA/P///wAA/v8BAAAA///+/wAABAADAAAA//8BAAIAAwADAAAA/v8AAAUAAAAAAAUABQAAAP7/BAAAAAAAAQD9//7/AAACAAAAAQABAP////8BAAUAAQD+/wMABQD//wEAAQD+/wEAAwD///7/AAAAAAMAAQD+//7/+v8AAAAA///8////AQD9/////f/8/wEA/f/8//7///8BAAAA/v/+//z/AAABAPv//f/+//7/AAABAPz//f8BAAAAAAAAAAAAAgABAAEAAAAAAAMAAwAAAAAA/f8AAAEAAAACAAAA/f8AAAAAAAAAAAAAAQABAAMAAQAAAAEAAQAAAAUAAQAAAAAAAAABAAAAAAACAAAAAAAAAAIAAQAAAAAAAQACAAAAAAAAAAEAAAACAAAAAAADAAAAAAAAAAEA/////wAAAAAAAAAA/v8AAAAA+/8AAAIA/f8AAAAAAAABAP3/AQADAAAAAQAAAAAAAAAAAAAAAAABAAAAAAAAAAAAAQAAAAAAAAAAAP//AQAAAAAA//8BAAEAAQAAAAAAAQABAAAAAQABAAIAAQACAAEAAQABAAAA//8BAAIA/f/7/////v/7//3//P/8//3//f8AAP7///////r//f8AAP7/AAD///v//P/7//7/AQAAAAAA//8AAP///v8AAP//AAABAAAAAQAAAAEAAAAAAAIAAQAAAAEAAAAAAAEA/v/+/wEAAQAAAP//AAAAAPz//v8CAAAAAAAAAAAAAQD+////AQAAAP3/AwADAAAAAQAAAAAAAgD+/wAAAgD+/wAAAAAAAAEAAAAAAAEAAAAAAAAAAAAAAAEAAAAAAAAAAAAAAAAAAAACAAAAAQAAAAAAAQD9//7//////wAA//////7/AAD///7//v8AAP///////wAAAAD//wAA///9/wMAAAD9/////v///////P8AAAAA/f8CAAAA/P////3/AAAAAPz/AQAEAP//AQADAAIAAAACAAMAAgADAAQAAwAAAP//AAD9//3////+//z/+//9/wAA/f/9//z/+f8BAAAA+f/8//v/+v/9//7/AQAFAPz//f8AAP///v8AAP7/AgADAAIAAwABAAIABAADAAMAAwACAAIABAAAAAEAAwAEAAMAAgACAAEA/////wEAAAACAAAAAAAAAP7//f8AAAAA/f////z/AAAAAPz///8AAP7//f///wAA/f/+/wAA/v/+//7///8AAAAAAAD//wIAAAD9/wEAAwAAAAAA/f/+/wAA//8BAAIAAAD9/wEAAgD///v/AAD///v/AAAAAAAA/v/+///////+/////v/+//7/AAD///v/AQADAP3//v///////v/+/wIAAAD9///////+//7/AAD///3/AAAAAP////8AAAAA///+/wAA//8BAAIA/v8DAAAA/v8DAP7//f/9/wAAAQD+//3/+//+/wAA+//9/wIAAAD9/wEA///6//z//f///////P/9//7//P/8//7//f/9//v/AAABAP3//f/+/////v///////f/+//////8AAP////8AAAAA///9/wEAAQD9//7/AAAAAPz//f8BAAAAAAABAP3//f8BAP7/AAAAAP//AAAAAAAAAAABAAAAAQD+/wAAAAD//wIAAAAAAAAAAAABAP3///8CAAEA/v///wIAAAD////////+//7///8AAP/////+/wAAAQD////////+/wAA///9/////////wIAAAAAAAEA/f/+/wAAAAAAAAAAAAAAAAEAAAAAAAAAAAAAAAEAAAAAAAAAAAABAP3///8CAAAAAQAAAAEAAQAAAAAAAAD///7//v/////////+/wIA/v/6//3//P/+//z/+//7//v/+//7//7////7//3////+//z//v////7//v////7///8BAAAAAQAAAAEAAQD+/wMAAAABAAAAAQABAAEABgADAAMAAwAEAAUAAAD/////AQAAAP3///8CAAAA/f/////////9//7/AgAAAAAAAAABAAEA/v///////v////7///8AAP7///8AAP/////9/wEAAAD+/wAAAQABAP//AAD+/wAA//8AAAEA//8AAAMAAgAAAAEAAAAAAAAA/v////3////9//z/AAD+/wAAAQD9////AQAAAAAABAAEAAAA////////////////AgAAAP3/AgADAP//AQABAAEAAQABAAAAAQAAAAAAAQD+/////v8AAP///v8CAAEAAQAAAAAABQACAAAAAQABAP3////////////+/wEAAAD+////AgAAAP7////+/wAAAAD//////v///////////////v8CAAAAAQAEAAMAAAD9/wIAAwADAAQAAwADAAMAAwADAAMAAwADAAIAAgADAAMAAwADAAQAAwADAAMAAwADAAIAAwADAAMAAwADAAMAAwADAAIAAwADAAMAAwADAAMAAwADAAMAAwADAAMAAwADAAMAAwADAAMAAwADAAMAAwAEAAMAAwADAAMABAADAAMAAwADAAMAAwAEAAMABAADAAIAAgADAAMAAwADAAMAAwADAAMAAwADAAMAAwAEAAQABAAEAAMAAwADAAMAAgACAAMAAwADAAMAAwAEAAMAAwADAAMABAADAAMAAwADAAMAAwADAAMAAwADAAMAAwADAAQAAwADAAQAAgACAAIAAgADAAAAAAAAAP3//f8AAAAA/f8BAAMAAgACAAIAAgADAAAA/f8CAAQA///9/wEAAgADAAAAAAAEAAAA/f8AAAMAAwAAAAAABQAAAP7/AgAAAAEABAACAAAAAQAFAAAA/v8CAAAAAAAFAAMAAAACAAEA///+////////////AgAAAP3/AQADAAQAAAAAAAUAAAD/////AgABAP7/AgADAAAA/v/+////AAABAAMABAAEAAIAAwAAAP///////////v8BAAQA//8CAAAAAQAAAAAABQAAAP7/AgAFAAAAAgAFAAAA///+//3//v///wIAAwD///7/AwADAAEABAAEAAAA/v/+//3//f/+////AQACAP///v8CAAQAAAD//wAA/v/9/////v/9/////v8BAAAA+/8CAAMAAwACAAAAAQD///3//v/+//3/+//7/wAABgD///n/AAAGAAAA/P8AAAIA/P/7/wAAAAD7//z/AQAAAPr////+//3/AQADAAUA/f///wYA///+////AwAAAPz/AgAAAP7//f8BAAUA//8AAAUAAAD9/wMAAQD/////AQAFAP//AAADAAMAAQADAAMABAAEAAAAAgAAAP3/AAD+//3/AgAEAAMAAAACAAQAAQADAAYAAgACAAAA/v8AAP7///8AAAIAAAD+/wIAAgADAAQAAwACAAAA//8DAAEAAAD//wEABAAAAAEABQAEAAMA/v8CAAQAAQAAAAEABQAAAP3////+/wEAAAD9/wMAAwABAP//AQADAP//AgAFAAAA/v8CAAAA///+/wIAAAD9/wIAAwAEAAAAAAADAAAA/v8CAAEA/////wIAAQD9/wIABQD//wEAAwACAAAAAAAFAAAA+/8BAAAA/f/+///////+/wEABAD//wEAAgADAAAAAAAFAAAA/v8CAAAA/v///wAAAwACAAIABAACAAIABAADAAMAAgAEAAQAAgACAAMABAADAAIAAwACAAMAAwADAAMAAwACAAMAAwAEAAMAAwAEAAMAAwADAAIAAwADAAMAAwADAAMAAwADAAMAAgADAAMAAwACAAIAAwADAAMAAwADAAMABAAEAAMABAAFAAQAAwADAAMAAwADAAMAAwADAAMAAwACAAMAAgADAAMABAAEAAMAAwADAAQABAADAAMAAwADAAIAAgABAAAAAQABAAEAAQABAAAAAQABAAEAAQABAAIAAQABAAEAAQACAAIAAQABAAEAAQABAAEAAQABAAEAAgABAAEAAQAAAAEAAAABAAEAAAAAAAAAAAAAAAAAAAAAAAAAAAAAAAAAAAAAAAAAAAAAAAAAAAAAAAAAAAAAAAAAAAAAAAAAAQAAAAAAAAAAAAEAAAAAAAAAAQABAAEAAAABAAAAAQABAAEAAQAAAAAAAQABAAEAAQABAAAAAQAAAAAAAAAAAAAAAAAAAAAAAAAAAAAAAAAAAAAAAAABAAEAAQAAAAEAAQABAAEAAQABAAEAAQABAAEAAQABAAIAAQACAAIAAgACAAIAAgACAAIAAgACAAIAAgACAAIAAgACAAIAAgADAAIAAwADAAIAAwADAAIAAwADAAMAAgADAAMAAwADAAMAAwADAAMAAwADAAMAAwADAAMAAwADAAMAAwADAAMAAwADAAMAAwADAAMAAwADAAMAAwADAAMAAwADAAMAAwADAAMAAgACAAIAAgACAAIAAgACAAIAAgACAAIAAgACAAIAAgABAAEAAQABAAEAAQABAAEAAgACAAEAAgACAAIAAgACAAIAAgACAAIAAgACAAMAAwADAAMAAwADAAMAAwADAAMAAwADAAMAAwADAAMAAwADAAMAAwADAAIAAgADAAMAAgADAAIAAgACAAMAAgACAAIAAgACAAIAAgACAAIAAgACAAIAAgABAAEAAQABAAEAAQABAAEAAQABAAEAAQABAAEAAQABAAEAAQABAAEAAQABAAEAAQABAAEAAQAAAAAAAAAAAAAAAAAAAAAAAAAAAAAAAAABAAAAAQABAAEAAQAAAAEAAQABAAEAAQABAAEAAQABAAEAAQAAAAEAAQABAAEAAQABAAAAAAABAAEAAQAAAAAAAAABAAEAAQABAAEAAgABAAAAAQAAAAEA///7/wAAAgD+////AQACAP//AAACAAEAAQD+//z/AAD+//v/AAAAAAEA/////wIAAAD+//z/AAACAP3/AAACAP7//P/8/wAA///9//3///////z/AAABAAEAAgABAAEAAQD+//v/AAAAAPz//f/9//3/AAABAAAAAgABAAEAAQAAAAEAAQABAP7//P8BAP7//P/+/wAAAAD7/wAAAwD+//z/AQAAAP3//f8AAP///f/9/wAA///8/wAAAwD+/wAAAgACAP7/AAAEAAAA/P8AAAAA/v/8/wAAAgABAAEAAQABAAEAAgACAAAAAQD///3//P/8/wAA/v/7/wAAAQAAAP//AAABAAAA///8/wAAAgD///z//P///////P/9/wAA///8/wAAAgD+/wAAAQABAP//+/8AAAMA/v/9//3/AAAAAPv/AAADAP7/AAADAAIAAgD///v/AAAAAPz/AAACAP///P8AAAIAAQACAAMAAgD+/wAAAAD9//7/AAABAAIAAgACAAEAAAACAAIAAQABAAEAAQABAAEAAQACAAIAAQABAAEAAQABAAIAAQABAAEAAQABAAEAAQABAAEAAQABAAIAAgABAAEAAQACAAIAAQABAAEAAQABAAEAAQABAAEAAQABAAEAAQABAAEAAQABAAEAAQABAAAAAAABAAEAAQABAAEAAQABAAEAAQABAAEAAQAAAAEAAAABAAEAAQABAAEAAQABAAEAAQABAAEAAQABAAEAAQACAAEAAQABAAEAAQABAAEAAQABAAEAAQABAAEAAQABAAEAAQABAAEAAQABAAEAAQABAAEAAQABAAEAAQABAAEAAQABAAEAAQABAAEAAQABAAEAAQABAAEAAQABAAEAAQABAAEAAQABAAEAAQABAAEAAQABAAEAAQABAAEAAQABAAEAAQABAAEAAQABAAEAAQABAAEAAQABAAEAAQABAAEAAQABAAEAAQACAAEAAQABAAEAAQABAAEAAgABAAIAAQABAAIAAgABAAEAAQABAAIAAgABAAEAAQABAAEAAQABAAEAAQABAAEAAQABAAEAAQABAAEAAQABAAEAAQABAAEAAQABAAEAAQABAAEAAQABAAEAAQABAAEAAQABAAEAAQABAAEAAQABAAEAAQABAAEAAQABAAEAAQABAAEAAQABAAEAAQABAAEAAQABAAEAAQABAAEAAQABAAEAAQABAAEAAQABAAEAAQABAAEAAQABAAEAAQABAAEAAQABAAEAAQABAAEAAQABAAEAAQABAAEAAQABAAEAAQABAAEAAQABAAAAAAAAAAAAAAAAAAAAAAAAAAAAAAAAAAAAAAAAAAAAAAAAAAAAAAAAAAAAAAAAAAAAAAAAAAAAAAAAAAAAAAAAAAAAAAAAAAAAAAAAAAAAAAAAAAAAAAAAAAAAAAAAAAAAAAAAAAAAAAAAAAAAAAAAAAAAAAAAAAAAAAAAAAAAAAAAAAAAAAAAAAAAAAAAAAAAAAAAAAAAAAAAAAAAAAAAAAAAAAAAAAAAAAAAAAAAAAAAAAAAAAAAAAAAAAAAAAAAAAAAAAAAAAAAAAAAAAAAAAAAAAAAAAAAAAAAAAAAAAAAAAAAAAAAAAAAAAAAAAAAAAAAAAAAAAAAAAAAAAAAAAAAAAAAAAAAAAAAAAAAAAAAAAAAAAAAAAAAAAAAAAAAAAAAAAAAAAAAAAAAAAAAAAAAAAAAAAAAAAAAAAAAAAAAAAAAAAAAAAAAAAAAAAAAAAAAAAAAAAAAAAAAAAAAAAAAAAAAAAAAAAAAAAAAAAAAAAAAAAAAAAAAAAAAAAAAAAAAAAAAAAAAAAAAAAAAAAAAAAAAAAAAAAAAAAAAAAAAAAAAAAAAAAAAAAAAAAAAAAAAAAAAAAAAAAAAAAAAAAAAAAAAAAAAAAAAAAAAAAAAAAAAAAAAAAAAAAAAAAAAAAAAAAAAAAAAAAAAAAAAAAAAAAAAAAAAAAAAAAAAAAAAAAAAAAAAAAAAAAAAAAAAAAAAAAAAAAAAAAAAAAAAAAAAAAAAAAAAAAAAAAAAAAAAAAAAAAAAAAAAAAAAAAAAAAAAAAAAAAAAAAAAAAAAAAAAAAAAAAAAAAAAAAAAAAAAAAAAAAAAAAAAAAAAAAAA/f///wIA/f/7////AAAAAAAAAAD9//v/+////wEA/f/6////AQD8//v///8AAP3/+v///wAAAAD9////AAAAAPz//v8BAPv////+/////v/6/wAAAAD9//v///8AAAAA/P/+/wAAAAD9//v//P/7//v/+//7//7/AAAAAAAAAAAAAAAAAAAAAAAAAAD9//z/+/////3/+v///wAA/f/6////AgD9////AgD9//r/AAD+//z//P////7/+v/7//n/AAD9//z/AQD8//r////+//z//f8AAP7//f/9////AQABAP///v8AAAAA//8AAP///v/7//v//P/5//v//f/8//3///8CAP7/+f///wAA+//7/wAAAAD+//3/+v/+////+v/6//7////9/wAA///9////AAD///r//v8AAP3/+f/2//3/AAD6//j//P8CAAEA+f/+////+v/5//7/AQD///r/+v/9//j//P8AAAAAAAD9/wAAAAD+//r//P/9//v////8//z//////wAAAAAAAAAA/v/9/////f/7//z/AAD///r/+/8AAAAA//8BAAAA/P///wEAAAD+////AAD///3/+/8AAP///P8AAAEA//8AAAAAAQD8//r/AAACAAEAAgACAP3/+/8AAAIA///5/wAAAgD9//z/AAAAAAAAAgAAAAEAAAD6//3//f/7/wAAAAD///z//v8DAAEAAAAAAAEA///+/wEA/v/+//3/AAABAP//AQABAAAAAAAAAAMAAwAAAAEAAgABAAAAAAD+//7//v8AAAIAAQAAAAIAAgABAAAAAwACAP3/AAAAAPv//f/9//z////9//z//f/7//7///8BAAAA+v///wAA+P/6//7//P/4//v/AAABAP3/+/8AAP7//f/+//3//P/8//7/AQACAP7//f8BAAIA/v8AAAMA/P8AAAMA//8BAAAAAAABAAAAAAD7//z////8/wAAAgABAAAAAQAAAP//AgD+//z////+/wEAAAAAAAAA+v8AAAAA/f8AAP//AAABAAIA///6/wAAAAAAAAAAAAAAAAAAAgD+//3/AAAAAAAA/v///////P/9//v/AAADAP3///8BAAAAAAABAP7///8CAAAAAgD+////AgD+/wAA/////wAAAAAAAPv/AAACAP//AAACAAEA//8AAAEAAQD+//v/AAD+/wAAAAD7/wIA/f/9/wMA/f8AAP///f8CAP7/AAACAAAA/v8AAAAA//8CAP7//f8AAAEAAQAAAP3/+/8AAAMA///7//f///8DAPv////+//7/AgAAAAAA+v/4/wAA/f/6/wAA/f/6//////8AAAAA//8AAP////8AAAAAAAAAAP//BAABAP3/AAD///7/AgABAP7//v8EAAEA/v//////+//8/wAA/f//////AAAAAAAAAwAAAP//AAD//wAA//8AAP7///8AAP///v//////AAAAAAAA//8AAAAAAAD/////AgABAP///P/9/wAAAwACAP//AAAAAP//AwD///3/AAD+//v/AAACAP///f8AAAEAAgABAP7/AAD//wAA/////wAAAAAAAP//AgACAP//AAD//////////wAA+/////7/AQACAP3/AAD//////////////////wAA/v//////AAD//wAA//8AAAAAAAAAAP//AQABAAAAAAD/////AgAAAAAA/P///wEA//8AAP//AAD//wAA//8AAP///////////////wAAAAAAAAAAAAABAAEAAQACAAEAAAABAAEAAQABAAEAAAAAAAEAAQABAAIAAAACAAEAAQABAAEAAQAAAAEAAQABAAAAAQABAAEAAAABAAEAAQAAAAAAAAABAAEAAQABAAAAAAAAAAEAAQABAAEAAQAAAAEAAQABAAEAAQABAAEAAQABAAIAAQABAAEAAQACAAIAAQABAAEAAQABAAEAAQAAAAEAAAABAAEAAQAAAAEAAAABAAAAAQABAAEAAAABAAEAAQABAAEAAgACAAEAAQAAAAEAAQACAAEAAQACAAEAAQACAAEAAQABAAEAAQABAAEAAQABAAEAAQACAAIAAgABAAEAAQACAAIAAQABAAEAAQABAAEAAQAAAAAAAQABAAIAAQABAAEAAQABAAEAAQABAAEAAQABAAIAAQABAAEAAQABAAEAAQAAAAEAAAABAAEAAQABAAEAAQABAAEAAQABAAEAAQABAAEAAQABAAEAAQABAAEAAQABAAEAAQABAAEAAQABAAEAAQABAAEAAQABAAEAAQABAAEAAQABAAEAAQABAAEAAQABAAEAAQABAAEAAQABAAEAAQABAAEAAQABAAEAAQABAAEAAQABAAEAAQABAAEAAQABAAEAAQABAAEAAQABAAEAAQABAAEAAQABAAEAAQABAAEAAQABAAEAAQABAAEAAQABAAEAAQABAAEAAQABAAEAAQABAAEAAQABAAEAAQABAAEAAQABAAEAAQABAAEAAQABAAEAAQABAAEAAQABAAEAAQABAAEAAQABAAEAAQABAAEAAQABAAEAAQABAAIAAgACAAIAAQACAAIAAgACAAIAAgACAAIAAgACAAIAAQABAAIAAQAAAAAAAAAAAAAAAAAAAAAAAAAAAAAAAAAAAAAAAAAAAAAAAAAAAAAAAAAAAAAAAAAAAAAAAAAAAAAAAAAAAAAAAAAAAAAAAAAAAAAAAAAAAAAAAAAAAAAAAAAAAAAAAAAAAAAAAAAAAAAAAAAAAAAAAAAAAAAAAAAAAAAAAAAAAAAAAAAAAAAAAAAAAAAAAAAAAAAAAAAAAAAAAAAAAAAAAAAAAAAAAAAAAAAAAAAAAAAAAAAAAAAAAAAAAAAAAAAAAAAAAAAAAAAAAAAAAAAAAAAAAAAAAAAAAAAAAAAAAAAAAAAAAAAAAAAAAAAAAAAAAAAAAAAAAAAAAAAAAAAAAAAAAAAAAAAAAAAAAAAAAAAAAAAAAAAAAAAAAAAAAAAAAAAAAAAAAAAAAAAAAAAAAAAAAAAAAAAAAAAAAAAAAAAAAAAAAAAAAAAAAAAAAAAAAAAAAAAAAAAAAAAAAAAAAAAAAAAAAAAAAAAAAAAAAAAAAAAAAAAAAAAAAAAAAAAAAAAAAAAAAAAAAAAAAAAAAAAAAAAAAAAAAAAAAAAAAAAAAAAAAAAAAAAAAAAAAAAAAAAAAAAAAAAAAAAAAAAAAAAAAAAAAAAAAAAAAAAAAAAAAAAAAAAAAAAAAAAAAAAAAAAAAAAAAAAAAAAAAAAAAAAAAAAAAAAAAAAAAAAAAAAAAAAAAAAAAAAAAAAAAAAAAAAAAAAAAAAAAAAAAAAAAAAAAAAAAAAAAAAAAAAAAAAAAAAAAAAAAAAAAAAA/v////7////9//7////6//z//v8AAAAA/f////7//v/+//7////6//z////9/////v/+/////f8BAAAA/f////3//v/+//7//v/+//7////+//7//v/+//7//v/+/////v////7//v/+//7//v/+/wEAAAD9/////v/+//7////+//3////6//v////+//v/+/////z//f8CAPz//v8BAPv//v8AAAAA/f/5/wAA/v/5/////P/5////AAD9//7//v/6//z//v/9//r/+/////z//v8CAPz//f8AAPv/+v/+//3/+v///wAA/f/4//7//f/6//7/AAAAAAAAAAAAAP3/+P////3/+//8//r/+//7//n///8AAPv//v8AAP///P///wAAAAAAAAAA/f/+/wIA//8AAP3/+//8//7/AQD+//j/+v/7//3/AAAAAPv/+//9//3/AQD+//z/AQABAAEAAAD6//n/AAADAAAA/f/9//z/+v8CAP7/+v8BAP7/AAACAAAAAAD9/wAAAwD//wAA/////wAA+//9/////P8AAAEAAAADAAEA//8AAAAAAAD///z/AgD///r/AAD///v/AgABAP3/AAD//////////wQA/f/8/wEA/v8AAAMA/v/8/wAA///8/wEABAD+/wAAAgD+//z/AAAAAPv/AAAAAPz/AAD//wAA//8AAAMA/f/8/wAA///8/wAA/f/9/wEA/v8AAP///////wAA/////wAA//8AAP3/+/8AAAAA//8AAAAAAAD//wIA/f/8/wEA/v///wMA///8/wAAAAD+/wMA/v8AAAIA/v8AAP//////////AAD9//z/AAD//wAAAAAAAP///v8CAAEA/v/9//z///8DAP//+/8BAP7//v8CAP3//v/9//z/AAD//wAA///+//////8AAP//AgABAAEAAQAAAAIAAgABAAIAAQAAAAEAAQABAAEAAQABAAEAAQABAAEAAQABAAEAAgACAAIAAgABAAIAAQABAAEAAQABAAEAAgACAAEAAQABAAEAAQABAAEAAQAAAAEAAQAAAAAAAAABAAAAAQAAAAAAAQAAAAEAAQAAAAAAAQABAAEAAQAAAAAAAAABAAAAAAAAAAAAAQABAAEAAAABAAEAAQABAAEAAAABAAEAAQABAAEAAQABAAEAAgABAAEAAQABAAEAAQABAAEAAQABAAEAAQABAAEAAQABAAEAAQABAAEAAQABAAEAAQABAAEAAQABAAEAAQABAAEAAQABAAEAAQABAAEAAQABAAEAAQABAAEAAQABAAEAAQABAAEAAQABAAEAAQABAAEAAQAAAAEAAQAAAAEAAQABAAEAAAABAAEAAQABAAEAAQABAAEAAQABAAEAAQABAAEAAQABAAEAAQABAAEAAQABAAEAAQABAAEAAQABAAEAAQABAAEAAQABAAEAAQABAAEAAQABAAEAAQABAAEAAQABAAEAAQABAAEAAQABAAEAAQABAAEAAQABAAEAAQABAAEAAQABAAEAAQABAAEAAQABAAEAAQABAAEAAQABAAEAAQABAAEAAQABAAEAAQABAAEAAQABAAEAAAAAAAAAAAAAAAAAAAAAAAAAAAAAAAAAAAAAAAAAAAAAAAAAAAAAAAAAAAAAAAAAAAAAAAAAAAAAAAAAAAAAAAAAAAAAAAAAAAAAAAAAAAAAAAAAAAAAAAAAAAAAAAAAAAAAAAAAAAAAAAAAAAAAAAAAAAAAAAAAAAAAAAAAAAAAAAAAAAAAAAAAAAAAAAAAAAAAAAAAAAAAAAAAAAAAAAAAAAAAAAAAAAAAAAAAAAAAAAAAAAAAAAAAAAAAAAAAAAAAAAAAAAAAAAAAAAAAAAAAAAAAAAAAAAAAAAAAAAAAAAAAAAAAAAAAAAAAAAAAAAAAAAAAAAAAAAAAAAAAAAAAAAAAAAAAAAAAAAAAAAAAAAAAAAAAAAAAAAAAAAAAAAAAAAAAAAAAAAAAAAAAAAAAAAAAAAAAAAAAAAAAAAAAAAAAAAAAAAAAAAAAAAAAAAAAAAAAAAAAAAAAAAAAAAAAAAAAAAAAAAAAAAAAAAAAAAAAAAAAAAAAAAAAAAAAAAAAAAAAAAAAAAAAAAAAAAAAAAAAAAAAAAAAAAAAAAAAAAAAAAAAAAAAAAAAAAAAAAAAAAAAAAAAAAAAAAAAAAAAAAAAAAAAAAAAAAAAAAAAAAAAAAAAAAAAAAAAAAAAAAAAAAAAAAAAAAAAAAAAAAAAAAAAAAAAAAAAAAAAAAAAAAAAAAAAAAAAAAAAAAAAAAAAAAAAAAAAAAAAAAAAAAAAAAAAAAAAAAAAAAAAAAAAAAAAAAAAAAAAAAAAAAAAAAAAAAAAAAAAAAAAAAAAAAAAAAAAAAAAAAAAAAAAAAAAAAAAAAAAAAAAAAAAAAAAAAAAAAAAAAAAAAAAAAAAAAAAAAAAAAAAAAAAAAAAAAAAAAAAAAAAAAAAAAAAAAAAAAAAAAAAAAAAAAAAAAAAAAAAAAAAAAAAAAAAAAAAAAAAAAAAAAAAAAAAAAAAAAAAAAAAAAAAAAAAAAAAAAAAAAAAAAAAAAAAAAAAAAAAAAAAAAAAAAAAAAAAAAAAAAAAAAAAAAAAAAAAAAAAAAAAAAAAAAAAAAAAAAAAAAAAAAAAAAAAAAAAAAAAAAAAAAAAAAAAAAAAAAAAAAAAAAAAAAAAAAAAAAAAAAAAAAAAAAAAAAAAAAAAAAAAAAAAAAAAAAAAAAAAAAAAAAAAAAAAAAAAAAAAAAAAAAAAAAAAAAAAAAAAAAAAAAAAAAAAAAAAAAAAAAAAAAAAAAAAAAAAAAAAAAAAAAAAAAAAAAAAAAAAAAAAAAAAAAAAAAAAAAAAAAAAAAAAAAAAAAAAAAAAAAAAAAAAAAAAAAAAAAEAAAAAAAAAAAAAAAAAAAAAAAAAAAAAAAAA//8AAAEAAAAAAAAAAAAAAAAAAAAAAAEA+//+//3//P8CAPv//v8BAPv/AAD8//3/AQD6/////f/5//v/+//7/////f/4/////v/8//3//f8AAPz/+v////3//v/9//7/AQD8//v/AAD8///////4/wAA/P/+/wMA+v/+/wIA+/8AAP//+v8AAP3//f8BAPv//v8CAPv////+//z/AQD8//7/AgD8//r//////wAAAAD9/////v/+//3/+f8AAP//+f/+//7/+v////z//P8BAPv//v/+//n/AAD+//n/AAD9//z/AQD6//3/AAD6/wAA/f/4/wAA/P/5/wAA/f/6/////v/+/wEA+/8AAP7/AAD///n/AQD+//3/AgD8//v/AAD9//v/AAD9////AQD8/wAA/v/7/wAA/f///////v////3//v8AAP///v8CAP//+/////3//v/8//3//f/9//z//P////n/+v/9//v//v/9//n//P////z//v/8//j//P/7//r//f/8//3//P/+//3/9v/4//7/AAAAAAEA/v/+/wAA//8AAAAAAAAAAAAA//////7/AAD/////AAD//wAAAAD+/wAA///+/wAA//////////8AAP//+/8AAAEA/v8AAP///P/+/wAAAAD///////8DAAEA/f8AAAAA/////wAA/v8AAP//AAAAAAAA////////AAAAAP//AAAAAP7/AAAAAP//AAAAAAAAAAD+/wAAAAD7/wAA/v/7/wAAAAABAAAA+/8AAAEA/v8AAAAA/P8BAAAA/P8CAP7///8EAP3/AAABAPz/AQD///7/BAD///z/AgD+/wAA/////wMA/v8AAAMAAQABAP///P8CAP////8DAP7//f/7//r//P////7//P/6/wAAAAD8/wAAAAD5//v////5//z//v8AAP///P/+//3//f8AAAIA+/8AAP3//v8AAP//AAD//wAA/P8AAAMA/f8AAAAA/P8BAP7/AAADAP7/AAADAP///P/+//7///8AAAAAAgADAAAAAwD///3///8BAAMA///7//7//f8AAAQA///9//7/+/8BAP//AAAAAPr/AQAAAPz/AAD+//3//P/8/wAAAQABAAIA//8AAAIA///8//3/AAABAAMA/v/7//7//v8BAP7///8AAP3/AAD//wAA//8AAP///P8AAAEAAgD+/wAA///7////AQACAP///v/+/wAAAAD6/wAAAQADAAIAAAD9//z/AQD///7/AwD+//3//P8AAAAAAAAAAPv/AAAAAP3//v8BAAIA/f8AAAAAAAAAAAAA//8AAP7/AAD///z/AAABAAIA/v/8/wEA/f8AAAIA/v////7/AAD///7/AwD//wAA//8AAAEAAAAEAAEAAAACAAEAAgACAAIAAgABAAIAAQAAAAIAAgACAAIAAgACAAAAAQABAAAAAgADAAAAAwACAAEAAAABAAMAAQABAAIAAQABAAEAAAAAAAEAAQAAAAEAAAABAAEAAAAAAAAAAQABAAIAAgABAAEAAgABAAAAAAABAAAAAAABAAAAAAABAAEAAAAAAAEAAAABAAAAAAABAAAAAQACAAIAAQABAAIAAQACAAMAAQAAAAEAAgACAAEAAQABAAEAAQABAAEAAAABAAEAAAAAAAEAAQAAAAAAAQABAAAAAAAAAAMAAAABAAEAAQACAAAAAQADAAEAAAAAAAAAAQABAAEAAAAAAAAAAAABAAAAAwD+/wAAAAD7/wAAAAD//wMAAQD+/wAAAAD9//7/AAD//wAAAQD9//7/AgAAAAAABQACAP//AQD//wAAAwD///7//f8AAP3///8AAAAAAwADAAAAAQACAAEA/v/7/wAAAgACAAIAAAAAAP7//P/+//3//v/8//3//v8AAAAA/P8CAAAA+/8AAAMAAAD9//z/AAADAP7//f/9//7/AAADAAIAAAD9/wAABAD9/wAAAwABAAIA/////wEAAQD9////AgD9////AAD9/wAAAAD+//v/AAABAP//AQACAAEA/v///wAA/P8BAP//AAACAPz/+//8//3/AQAAAAAAAwABAAIA/v/+//7//P/9/wAAAQD+/wAAAgABAAAAAQD+////AQABAAEAAwACAP//+////wEA+//+/wAAAAD///n//f8AAP7//P/+/wAAAAD8//n/AAAAAP7/AAD8//7/AAD+/wAA///+//7//v/9//r//v////3//v/+/wAA/v8AAP////8AAP///////wAAAAD/////AQD9//3//P/7/wAA/f8AAP//AAAAAAAAAAAAAAAAAAAAAP////////7///8AAAAAAAAAAP//AAAAAAAA///+//7////+//////8AAP/////+//7//v////////////////8AAP///////wAAAAAAAP7//////wAAAAAAAP7/AAD///7//v////7/AAAAAAAAAAAAAP//AAD//wAAAAD/////AAAAAAAA//8AAAAAAAD//wAAAAAAAP//////////////////AAAAAAAA//8AAAAA/////wAA////////AAAAAAAAAAAAAAAAAAD//wAA//8AAAAA/////wAA/////wAAAAD+//////8AAP///v/+/wAA/v////////8CAAEAAQABAAAAAQABAAEAAQABAAEAAQABAAEAAQABAAAAAQABAAAAAQABAAEAAQABAAEAAQABAAEAAQABAAEAAQABAAEAAQABAAEAAQABAAEAAQABAAEAAQABAAEAAQABAAEAAQABAAEAAQABAAEAAQABAAEAAQABAAEAAQABAAEAAQABAAEAAQABAAEAAQABAAEAAQABAAEAAQABAAEAAgABAAEAAQABAAEAAQABAAEAAQABAAEAAQABAAIAAQABAAEAAgABAAEAAQABAAEAAQACAAEAAQABAAEAAQABAAEAAQABAAEAAgABAAEAAAABAAEAAQABAAEAAQACAAEAAQABAAEA/v8AAAMA/v/8/wAAAgACAAEAAQABAAEA///9//z//P/9//3///8BAAAAAgD///v/AAD+//z//f/8/wAA//8AAAAA+//8//3//v8AAAMA///7/wAAAgD///z/AQD//wAAAAD8/wAA//8AAAMAAQD///r/AAAAAPz/AQD///z/AAACAAAAAgACAAEAAgADAAEAAAD8//3//f/9/wAAAgACAAIAAAD+//3/AAACAAIAAQD///z/AAACAAEAAQABAAIAAwACAAIAAAD8/wAAAgD///////8AAAIAAgD///3///8AAP7/AQADAAIAAwADAAAA//8AAAEAAAABAAIAAQABAP///v/9////AQD///7//f/8/wAAAQACAAIAAQACAP7//v/+//3/AAACAP7//f/9//3//f8AAAMAAAABAP7/+v/6//v//f8BAAAA/v/+////AAD+//z//P/+//7//v////7//f/9/wAA/f/5//7/AAD//wAA/P/9/wAAAAAAAAAA//8AAP7/AAD/////AAD///7//////wAAAAD////////+//7/AAD9//z/AQD+////AAD7//7/AAD//wAA//////////8AAP////8AAP////8AAP//AAD+////AAD//////////wAAAAD+////AAAAAP7//////wAA//////7/AAD//wAAAAD/////AAD+/////v8AAP////8AAAAAAAAAAP/////+/wAAAAAAAAAAAAAAAP7/AAABAP//AQD//wAAAAD//////////wAAAAD//wAA/////wEAAAAAAAAA//8AAAAAAAAAAAAAAAAAAAAA//8AAP///////wAA//8AAAAA/f/9/////f/7//3//v///wAA/v/+/wAA///+/wAA/v/9/wAA/f////3/+/////z/+v/6/wAA///+/wAA/P/+/wAAAAADAP//AAAEAP//AAACAAAAAgAAAAAAAQD//wAAAgAAAP3//P8AAAAA/v/+//z/AAACAP//AAD//wAAAAD8//3//v8AAP7/AAACAPz///8AAP3/AQAAAAAAAQD7//3/AAAAAAEAAQABAP7//P8DAP//AAAEAAAABAD+/wAAAwD///z//P8AAAEAAAD+////AQD9//z//P/9/wAAAwD///z/AQD+////AAD7/////v////7/+/8AAP7////+//3/AgAAAP3//P/8//3///8DAP7//v8AAAEAAgD9///////+/wQA/f8AAP///v8BAPv/AQABAAAAAQD9/wAA/P/+/////P/6////AAD6//r//v///wAA/P/6////AAD+//7//f/+/////P/8/wAA/v8AAAMA+v/4/wAA/v8AAAAA/////wAA/v///wAA/////wAA///8//7//////wAA//////////////////8AAAAAAAD////////+/////////wAA//////3/AAD+/wAA//8AAP//AAD/////AAD+////AAD//wAA/v8AAP////////7///8AAP7///////z//P8AAP3/AAD///////////7//v8AAAAA//8AAP////8BAAAAAQABAP7/AAD/////AAAAAAAAAAAAAAAAAQAAAAAA//8AAP////8AAAAAAAAAAAAA//8BAP//AAAAAP//AAAAAP//AAD/////AAAAAAAAAAAAAP///v////7////7/////v/9//3//v/9//3//f/+//z//v/+//z///8AAP7//f/8//3/AAD9//3//v/9////AAAAAP3///8CAP//AAAAAAAAAAD/////AQD9//7/AAD//wAA//8AAAAAAAAAAAAA//8AAP//AAD/////AwACAP//AAD//wAA//8AAP///////wAAAAAAAAAAAAD//wAAAAD//wAA/////wAAAAD7//z/AQD//wAAAAD//wAAAAD//wAAAAAAAP3/AAAAAP7///////7///////7///////z//v8AAP7///8AAP//AAD//wAAAAAAAP///v/9////AAD+//7/AAD///7//v8AAP7//v///wAA/v/+//7///8AAAAAAAD//wAAAAD//wAAAAAAAAAAAAD//wAAAAD//////v8BAP///P////7////+//7//v/+//7//v/+//7//v/+/wIAAAD8//j/+v8AAPz/9//6/wAA/v/6////AAD//////f8AAAEA//8AAAEAAgAAAAEAAQAAAAAAAAAAAAAAAAABAAEAAAAAAAAAAQD//wAAAwABAAAA/v/+/wEA//8AAAMAAQADAAIAAAD9//7//v/+//7//f8BAAEAAQAEAAMAAgADAAMAAAAAAP////8CAAIAAwD///3/AAD+//7///8AAAAAAAAAAAQAAgD///////8BAAMAAgADAAMAAwAAAP//AQAFAAEA/f8CAAEA/v////////8AAP7/AAADAAIAAwADAAMABQACAAAA///+/wEAAQD+/////f//////AQAEAAIAAAABAAAAAAAAAP7/AAABAAAAAgAEAAEAAAAAAAAAAQD+////AQD9//3//f8AAPv/+f8AAP3//P/9//3//f8AAAEA/////wAAAAD+//z/AAD///n/+/8AAAAAAAD///3/AgADAAAAAAD//wAAAAADAAEA/f8CAAAA///+//7/AQAAAP///////wAAAwAAAP7////+/wEAAAD9/wEAAwADAAAA/P8AAAEA/v/+////AAADAAIAAAD///7/AgAAAAAAAAABAAQAAwAAAP7/AgAAAP7/AgACAAUAAAD+/wIAAQADAAAA/P8DAAAA/P8CAAAAAAD+////AgD9/wEAAAD//wMA//8AAAIAAwAAAP7/AAAAAP7///////7/AQABAAAA/v/8////AQAEAAAA//8EAAAA/v8AAAIAAgAAAPz/AQAEAAEAAgAAAAMAAQABAAEA/f8DAP//AAAHAP7/AQAFAAAA/v////3///8DAPz//f/9//z/BgAAAPr/AAADAAEA/f/5//z/AgABAAAA/P/+/wAA//8AAPz//f////////////7/AQADAAEAAQD//wAAAwACAAAA/v8BAAIAAwAAAP7/AQABAAIA///9/wMABAD+//7/AAABAAUA/v8AAAEAAAACAP7/AwABAP3/AAAFAAEAAAAAAAAAAAD9/wEAAAABAAAA/v8AAAIAAwAAAP//AgAAAAMAAQD9/wEAAgADAAAA+/8BAAUAAAD+//7/AgAEAP///////wEABgD//wEAAQD9/wMAAAAAAAAAAgAFAP7///8AAAAAAgAAAP///v8DAAMAAAD//wEAAwADAAAA/v8BAAIAAwAAAPz/AwAEAAIAAgD9/wAAAQD8/////f8AAAMA/v8AAAAAAAABAP7/AQD8/wAAAQD7/wAAAAD////////9//7/AQAAAPv/AAD//wAAAAD6//3/AgD//////P/5/wQAAAABAAAA+/8EAAAAAAAEAP//AQABAAAAAgD+/wMAAQABAAMA/f8DAAAA/f8CAAMAAgAAAP3/AQD//wEAAQD//wQA/f8AAAIA/v8DAAMAAAAAAAAAAAAEAAAA/f///wEABgD//wEAAQAAAAUAAAAAAAAAAAAGAP//AQADAPz/AAACAP///v8BAAMAAAD9/wAAAQAEAAEA+/8BAAIAAAAAAPz///8CAAMAAAD8/wAABAAAAP////8AAAQAAQD/////AgAAAP///v///wIAAwADAAUAAAD//wAAAQAEAAAAAQAEAP//AQAEAAQAAwD///3/AgADAAAA//8AAAIABQAAAP7/AAABAAMAAQD8//7//v8BAAIA+v/9////+v8CAAAA/P8AAPv/AQABAPz/AAD8//7/AgD7//7/+/8AAAAA+f8BAP///P/9//v/AwAAAAAABAD//wEAAQD+/wIAAAACAAAA/v8CAAAAAAAEAP//AQABAP7/AgD//wIAAgD9/wMAAAAAAAYA/v8CAAAAAQABAP3/AgABAP7///8BAAQAAAD+/wQA//8BAAIA/f8DAAAAAAAEAP7/AAABAP7/BAAAAAEAAgD8/wIAAAD9/wIAAAABAAQAAAACAAAAAQABAP3/AgABAAIAAAAAAAQA/v8AAAEAAQABAP7/AgAGAP//AAAEAP//AgAAAAAAAQAAAAUAAwADAAQAAAAAAP///f8BAAAA/////wEABAACAAUAAAD9/wIAAAD///7//v////7/AgAEAAIABQAAAAEABQD+/wEAAAD//wUAAAD9/wIAAgACAAMAAgAAAAEABAD9/wEAAQD8/wEAAwACAAAAAQAEAAMAAwAAAP3/AQACAAMAAwABAAIABAAFAAIAAQAEAAMAAwACAAMAAwADAAMAAwADAAMAAwADAAIAAgADAAIAAwADAAMAAgADAAMAAgAEAAIAAwACAAMABAADAAMAAgAEAAMAAwAEAAMAAgADAAMAAwADAAIAAwAEAAMAAwADAAMABAADAAIAAgACAAMAAwADAAMAAwADAAMAAwADAAIAAwACAAIAAwADAAIAAwAEAAQAAwADAAMAAwADAAMABAAEAAMAAwADAAIAAgADAAMAAwADAAMAAwADAAMAAgACAAQAAwADAAMAAwADAAIAAgAEAAIAAgADAAIAAwACAAEAAgAAAAAAAQABAAMAAgAAAP//AAAAAP////8AAAAA/f/+//7//f8AAP///P8AAAIAAQACAAAAAAD//wAA/////wAA/P8AAAQA/f8AAAIAAQACAP//AAACAP7/AAADAP7//f/9/wAAAwD+/wAA/v/+/wIA/P///wMA/f/+//z//v//////AwD///v//f8AAAIA//////////8CAAAA/f/+//z/AQD+/wAAAwAAAAMA/f8AAAQA/f8AAAMA/v8AAP3//P/+//3/AAACAAEAAAD8/wAAAAAAAP////8CAAEA///+//3/AAAAAPr/AQD/////BAD8//z/AgD//wAAAQAAAP3/+/8AAP7//f8BAAAAAAD9/wIAAgD9/wIAAAABAAAAAAADAAAA/v///wIAAwAAAP7/AQAAAP3/AQADAAMAAAD+/wMAAAD+/////v8AAP7/AAADAPz//v/8//z/BAABAAAAAgD+//3/AAAAAAAAAQAAAP//AAD//wAAAQD9//////////3/AAD+/wAABQD//wEAAAACAAAAAAAAAAAAAQD+/wIABAAAAAIAAAABAAEAAgAAAAAAAQABAAAAAQAAAAEAAgAAAAAAAAACAP3/AQADAAIAAwABAAEAAAABAP//AQABAP3/AgAAAAAABQAAAAEAAQACAAAAAQADAAEAAAABAAEAAAABAAIAAAABAAAAAAACAP7/AwAFAAAAAgAAAAEAAQAAAAEAAQABAP7/AgADAAAAAgABAAAAAAACAAEAAQAAAAAAAwACAAEAAQAAAAEAAAACAAAAAAABAAAAAAABAAAAAAAAAAAAAAAAAAAAAAAAAAAAAAD//wEA/v8BAAUAAAABAAAAAAACAAAAAQD+///////8/wAAAQAAAP///P///wEAAAD8////AgD9/wAA///6/wAA///+///////8//r///8BAAIABQADAAAAAgADAAIABAAAAAEABAAAAAEABAADAP//AQAAAAAABAD//wIAAAACAAQA//8CAP//AQAAAAAABQD//wEAAgABAAUA/v8AAAAAAQAFAP//AQABAPr/AwAFAP//AgABAP3/AgAGAAAA//8AAAEABAADAAEA//8AAAAAAQAFAAAA/v8AAAAAAAACAAAA/v8DAAEAAwAAAP3/AAD9/wMA//8AAAEA/P8DAAAA//8HAAAAAQAAAAEABAAAAAAA/P8AAAEA/f8BAAAAAAACAAMAAAD9/wEAAAAAAAUA//8BAAAAAAADAAEAAAD8/wEA//8AAAQA///+/wIAAAABAAQA//8DAAAA/v8DAAAAAAD//wAABQD//wEAAAAAAAQAAQAEAAAAAQAAAAAAAwD9/wEAAgAAAAAAAgAAAAEAAAABAAQAAwADAAUABAABAAMAAwADAAMAAwADAAQABQADAAMABQACAAMABgABAAQABAACAAUABAADAAMAAgADAAMAAwADAAEABAACAAMAAwADAAQABAAFAAMAAgADAAEAAQABAAAAAAABAAAAAQABAAEAAQAAAAAAAAAAAAEAAQACAAIAAQACAAEAAQACAAAAAQAAAAAAAQAAAAEAAQABAAIAAQACAAIAAgADAAMAAgACAAEAAgABAAEAAQAAAAEAAQABAAEAAQABAAEAAQABAAEAAAABAAEAAgABAAEAAQABAAEAAQABAAIAAQACAAEAAgACAAIAAgACAAIAAQABAAEAAQABAAEAAQABAAEAAQABAAEAAQAAAAAAAAAAAAAAAAAAAAAAAAAAAAAAAQABAAEAAQABAAEAAQABAAEAAQABAAEAAQABAAEAAQABAAEAAQABAAEAAQABAAEAAQABAAEAAAABAAEAAAAAAAAAAAAAAAAAAAAAAAAAAAAAAAAAAAAAAAEAAQABAAEAAQABAAEAAQABAAEAAQABAAEAAQABAAEAAQABAAIAAgACAAIAAgACAAIAAgACAAIAAwACAAIAAwADAAMAAwADAAMAAwADAAIAAwADAAMAAwADAAIAAwACAAIAAgACAAIAAgACAAIAAgACAAIAAgACAAIAAgACAAEAAgACAAIAAgACAAIAAgACAAIAAgACAAIAAgACAAIAAgACAAIAAgACAAIAAgACAAIAAgACAAIAAgACAAIAAgACAAIAAgACAAIAAgACAAIAAgACAAIAAgACAAIAAgACAAIAAgACAAIAAgACAAIAAgACAAIAAgACAAIAAgACAAIAAgACAAIAAgADAAMAAgADAAMAAwADAAMAAwADAAMAAwADAAMAAwADAAMAAwADAAIAAwADAAMAAwADAAMAAwADAAMAAwADAAMAAwACAAMAAwACAAMAAgACAAIAAgACAAIAAQACAAIAAQACAAEAAQABAAEAAQABAAEAAQABAAEAAQABAAEAAAABAAEAAQABAAAAAQAAAAAAAAAAAAAAAAAAAAAAAAAAAAAAAAAAAAAAAAAAAAAAAAAAAAAAAQAAAAAAAAAAAAAAAAAAAAAAAQAAAAEAAQAAAAAAAQABAAEAAAAAAAAAAQABAAEAAQAAAAEAAQABAAAAAQABAAAAAQACAAEA/v8AAAAAAgD//wAAAgABAAEA/v8AAAEAAQD+/wAAAAD7/wEA/f///wMA/v//////AAD+/wAA///8/wEA//8AAP//AAACAPz/AAD/////AgD+/wAA/v///wQA/f8AAP///f8DAPz//v8DAP3/AAADAP3/AQD+//v/AQD//wAA/v8AAAAA+/8BAP7/AAAAAPv/AAD///v//f/+//z//f8BAP7/AAD+//v/AAD//wAAAAABAP3/+v8AAP//+v8AAP7///8EAP7/+/8AAP///P8AAP7/AAD+/wAA/f///wQA/P8BAP3///8EAPz//////wAAAAD7/wAA/v8AAP////8DAP3/AAAAAPv/AAD////////8/wAA/v8AAP//+//9////AwD9/wAA/v///wIAAAADAP7/AAAAAAAAAAD7/wAAAAD//wAAAAAAAP3////8//3/AAD8//7//f8AAP7//f8AAPj/AAAAAPz/AgD8/////v/+/wAA/P////z//f/+//z/AQD+/wAAAAAAAAAA/////wAAAAAAAP//AAD//wAAAAD//wAAAAD//wAA//8AAAAA/////wAAAAAAAAAAAAAAAP//AAAAAP7/AAAAAAAAAAAAAAAAAAD//wAA//8AAAAA//8AAP7/AAD8/wAAAQD//wAA/v8AAP//AAD/////AAD/////AAD//////////////////wAA/v///wAAAAD9/wAAAAD+/wAA/P8AAAIA/f8AAP//AAD//wAA/////wAAAAAAAP//AAD7/wAAAgD+/wAAAAAAAP//AAD/////AAAAAP//AAAAAP////8AAP//AAAAAP////8AAP7/AAD///z/+//7/////f/8/wAA/f8AAP7/+//9////////////AAD9//v//v///wAA/P/6/wAA+//9/wAAAQD8//7/AAD+/wEA+/8AAAAA//8CAP3/AAD+//z//////wEAAQABAP///P/9/wEAAgABAAMA/f///wAA/v8EAAEAAQAEAP//AQAAAPz/AQD/////AQD//wAA/v8AAAQA/P8AAAIA/P8BAAAA/P8BAP7/+/8AAAEAAAAAAAMAAgD+/wAAAgD///3/AAABAAEAAQD///3/AAD+//3/AgD///3/AQD+//z//v///wAAAAD8//3/AAABAAIA///9/wEA/v8AAAQA///+/wAAAAABAAMA/f/9/wMA//8BAAAA+v8AAAAA/P/+//7/AAAAAAAAAQD///v/AQAAAPz/AAD+/wAAAAAAAP7//v8DAP7/AAD//wAAAQAAAAIA/v/+//7/AAD///z/AAD//wAA///8//7/AAD9//3/AgD/////AAAAAP3//f8AAAIAAwAAAAEAAQABAAIAAQAAAAEAAgAAAAEAAgABAAIAAAAAAAAAAgACAAIAAQABAAEAAQACAAEAAAACAAIAAQABAAEAAAABAAEAAAABAAEAAAABAAEAAAABAAIAAQACAAEAAQAAAAEAAQAAAAEAAgAAAAEAAgABAAEAAQABAAEAAQABAAAAAQABAAEAAQABAAEAAQABAAEAAQABAAEAAQAAAAEAAgACAAEAAAABAAEAAQABAAIAAQABAAEAAQACAAIAAgABAAEAAgABAAEAAQACAAEAAQABAAEAAgABAAIAAQABAAEAAQABAAEAAQABAAEAAQABAAIAAQABAAEAAgABAP7/AAD//wAA//8AAAAAAAD//wAAAAAAAAAA+//9/wAAAAD//wMAAAD//wAA//8AAP//AAAAAPv//f8AAP////8AAAAAAAD//wIAAQD+/wAA//8AAP///////wAA//8AAP//AAD//wAAAAAAAP////8AAAAA//8AAP//AAAAAAAAAAAAAP////////v/AAACAP7/AAD//wAAAAD//wMAAgD+/wAAAAD//wMA/v/8/wEA//8AAAAA//8CAAEA/v8AAP//////////AAD8//7/AAD+/wAA//8AAP//AAAAAP////8AAAAAAAD//wAA//8AAP//AAD//wAAAAD///////8AAP//AgABAP///P/+/wAAAAAAAP//AAAAAAAA//8AAP//AAAAAAAA//8AAAAAAAD//wAA//8AAP//AAD///////8AAP//AAD/////////////////////////////AAD+/////v///wAA/v8BAAEA/v8AAP////8AAP//AAABAAEAAAABAAEAAQABAAEAAQABAAEAAgABAAEAAQAAAAEAAQABAAEAAQABAAEAAQABAAEAAQABAAEAAQABAAEAAQACAAEAAQABAAEAAQABAAEAAQABAAEAAAABAAEAAQABAAEAAQACAAIAAQABAAEAAQABAAEAAQABAAEAAQABAAEAAQABAAEAAQACAAEAAQABAAIAAQABAAEAAgABAAEAAQABAAEAAQABAAAAAQABAAAAAAABAAEAAQABAAEAAAAAAAEAAAAAAAAAAQAAAAEAAAAAAAEAAQABAAEAAQABAAAAAAACAAEAAQAAAAEAAwADAAMAAwABAAIAAwABAAEAAgACAP//AAAAAPz/AQAAAPz/AAADAP///f8AAAMA/f8AAAAA+/8AAAMAAAD+/wAAAgD///z/AAD+//7//P/7//3/AAAAAPz///8AAAAA/v/7/wAABAABAP//+/8AAP7//P/8//v/AAD///z//P8AAAQAAQACAAIA//8BAAMAAAAAAAIAAAD8/wAAAQAAAAAAAQACAP7/AAAAAPz//f8AAAIA/v8BAAMAAgD+//7/AAAAAAIAAQD///3/AAADAP7///8BAAAAAQAAAP7//P/+//3//P/8////AQD///3//P/9/wAAAgD+//v/AAABAP7/AAADAAAAAAAAAP///P8BAAEAAAD+/wAAAgAAAAQA///+/wIAAQABAAEAAQABAP///P/9/wAAAgACAAMAAgD//wAAAgAAAAMA/v/9//7//P8BAP3/+v/+//z/+//9//v////9/wAA/v/5/////v/8//r//P/9//v/+//8//v//v8AAP7//v8DAP3/+v/8/////////wAA////////AAD/////AAD8//z/AQAAAAAABAAAAP7/AAD+/wAA//8BAAAAAAD//wAAAAAAAP7/AAD//////v8AAAAAAAAAAPz//P8AAP///f/+/wAA/v8AAAAAAAD///7///8AAP///f8DAP7/+/8AAP7///8AAAAA////////AAD+////AAD//wMAAQABAAEA//8AAP//AAD+////AAAAAAAAAAADAAIAAQABAP7/AAD+//7////9//3///8AAAEA//8AAP7/AAD//////v8AAAAA/////wAA///+/wQAAgD8/wAA//////7///8BAAAAAQACAP//AAD//////f/6//z//f/8//3///8AAP3///8AAPz//f8AAP///P/9//3/+/////z/+//+////AAD9//3/+//6//3/AAABAAIA///9//3//P/8//z///8AAAAAAgD+/wAAAgD///z/+//+//z//f8BAP//+/8AAAAA/P8AAAAA/v/7/wAA///9/wEA/v8AAAAAAAAAAPz/AAAAAAEABAABAAEAAQAAAAAA/f8AAAEA///7////AwD+//3////+////AQAAAAEAAwACAAAA/v8AAAMAAAD8/wAAAAD+/wAAAgD//wAAAgD9//z/AgACAP7//v8BAAEAAAABAAAA/v8AAAAA/P/8/wAAAAD9//7/AAD+//v/AAADAP//AAACAP///P8AAAAA+//9//7//v/9//3/AQD+////AgD9//z/AAACAP7//P8AAAAAAQD+//v/+f/9/wAA+f/5////AAD5//n/+v/4//n//f/8//z///8EAP3/+/8DAPv/9v/6//v/+f/+/wMA//8AAAIAAAD9/wAAAAD9//3/AAACAAIAAgABAAEAAgACAAAA/v/8/wAAAQD//wEAAQACAAMAAgAAAAAAAwD///z/AAAAAP3/+//7//3//f8AAAEAAQAAAAAAAAD7//3//P///////f/9//7/AQADAP//+v/9//7//f/8//z//P8AAAAAAAAAAAAAAAD//wAAAAAAAAAAAAD8//v/AAD9//z///8AAP7///8CAAEAAAABAP7//f/+//3/AAACAP//AAADAAEAAQD+//7//f/8//7//v8AAAEAAwACAAIAAAD6//3////8///////9/wAA/f/8//7///8CAAAA/f/7//v/+//8//7//P////z/+f/8//7/+//4//v//P/8//n/+v8AAP3/+P/9//v/+P///wEA/P////3/9//7//7//f/+/wAAAAAAAP7///8CAAAA/f8BAAIA/f///wEAAAAAAP///v/7///////9//7/+v8AAAAA//8BAP3/AQAAAPr//f/+//7///8AAAMAAAD8//7/AAD+//v/AQAAAP3/AAABAAIAAAD+//3/+P/8//7//f///wIA/v/7//3/+v/8/wAAAAD9/wEACAADAAIAAgAAAP///P///wEAAQAGAAgAAAABAAMA///6/wEAAQAAAAAAAwAIAAAA//8CAP7//f/9////AAD//wEAAAAAAAEAAQD///r//v8AAP7//v8BAAMAAQADAAQA/P/+//z/9v///wMAAAABAAIAAQD///n/+v/7//v//v/9//r/AgAEAAAA/v/6//v/+//7//3/AQADAAUAAAD6/wEA///2/wAA/f/3/wAABwAJAAYABgAFAP7/9/8AAAUA/v8AAAsADAAHAAMABAAEAP///v8CAAQABwAKAAsAAQABAAQA/P/6/wIABQAAAAQABQADAAQA/v/9////+///////+/8BAAIA//8CAAAA/f8CAP7//P8AAP//AAACAAQABAACAAIACQD+//b/AgACAP//AgADAAIAAgD8//7/AQD9//z/+f/7/wEAAgAAAAEA///8//7/AAABAAAAAQADAAEA/v8AAAIAAAD+//7/AAD+/wAAAgADAAEAAAACAP//+v8AAAIA/v8BAAUA///+/wYABQACAAAA//8AAAMAAQAIABEAEQAFAPz/AAACAP3//f8AAAAAAAAHAAIA/P/6//r/+v/3//n//v/9//n/+//7//n//f/5/+3/7//y//3/AAD6/wIA/v/0/wAACwD8//b//P8BAAEA+v8GAAcA/f8GAAoA+v/3/wQAAgACAAcAAgAAAP//AgABAP7/BwAHAAEABAABAAIAAQAEAAQAAAAFAAYAAgAFAAMAAAADAAAA///7/wEABAD9/wQABAD8//r/AgAAAPz/AQD7//j/BgAHAAAABQAJAAEA+/////7/9//+/wYAAQABAAYAAwD//wAAAQD4//7//v/2////BgABAAAABAABAPz/AgACAPr/+P/9//7/+v8HAAcA/P8BAAIA/v/9/wAAAAAAAAgACQAAAAAABwADAPz/AQAGAAAAAQABAAMAAgACAAQAAwABAAMABQAFAAMAAQABAAAA/f8DAAAAAQAFAP//AAACAPv//P/9/wAA///6/////v///////v//////AAACAP//+f/9/wMA/v/9/////f////j/9/8BAAAAAAACAAAAAAD///7/AgD/////BAAAAPv/9v/6/wQAAAABAP7//f8DAP///v8EAAYA9v/v/wMAAwD+/wIABAD+//n/BAAAAPb//v8CAP7//f8IAAIA+f8GAAYAAAAEAAYABQADAAUABgAFAAMABgAFAAEAAgADAAUAAwD//wIAAgD8////AQACAAAA/v/+//z/9/8AAAEA+f/8//z/9v/7/wEAAAAAAP//+//5//7/BQAAAP7/AgAFAP7/9v/7//r/AAAKAAYAAAACAAMABQAGAAQABAABAAMAAgAAAAQAAwACAPn/9v8FAAcAAAACAAAAAQADAAAA/v//////AgAGAP7//P/8//z/AAD+/wAABQAAAPv/+P8AAAIA/v8AAP7/AAAAAPr/AgAAAPj/AQAAAP///v/5/wMAAwD//wAAAAD9//7////7/wAAAAD///r/+f8BAP//AQAGAP7/+v8AAAEA+//9/wIAAAD7/wIA+//3/wEAAQAAAAMAAQADAAEAAQAFAAUAAQAAAAAA/f8AAAQABQAEAAAAAQADAAIAAQADAAEAAwAGAAMABAAAAAAABQABAP//AAD9//z/AwALAAMA/v8BAAAA+v8AAAcA/v8AAAMA+P/3/wEAAAD8/wYACAD9//f/AgACAP3/AAADAAEA//8CAAAA//8CAAIAAAD//wUAAAAAAAcAAQD+/wIAAAD9/wAA/v8DAP//+v8DAAIA/f8CAAEABAACAPr//v8AAP7/AwAEAP///v8BAAAA///+//z//v/9/wIA/f/8/wMA///8/wIA/v/8/wAAAAABAAMAAQAAAP7//f/5//n/9////wUA/P/7//z//f8BAAMAAQD9//z/AAAAAPb/+f8EAPv//P8KAP///v8HAAMAAgAGAAUAAgAEAAMAAAAEAAEABQACAPz/AQAGAAEAAAAFAAMA//8CAAQA/v/7/wAAAAD4/wAACAD///z/BAAAAPz//v/+//z/AQAFAAAA//8AAP////////3///8CAAAA/P///wIA//8BAAUAAQACAAAA///9//7/AAABAAIAAgAFAAAAAAAHAAMA/f8AAAQABAACAAQAAQD9//3//v/8/wAABAD///3///////7/AQAAAP7//v/+////+//5//z/AwAAAPz/AQAAAPv/+/8DAAEAAAAEAAAAAAD//wEABAD+/wIA///5//7//f/9//7//f/+//7/AAAAAAAA/f8AAAEA/P/9//z//P/+/wAA+//+//7/+//9////AAAAAAAAAgACAAQAAAABAAUA///+////AAAEAAEA/v8AAAIA///7/wAAAAD9/wEAAAD+/wMABAD8//v/AwADAP7/AgAAAP7/AgADAAAAAAAAAAMABAACAAAAAQAFAP//+////wAA/f/+/wMAAQABAAQABAAAAP//BQD+//3/AAD+/wAAAwAFAAEA/f///wQAAAD+/wYAAgD//wEA///5//z/AwAAAPr/BQAIAAAAAQAEAAEA/v8CAAAAAAAFAAMAAAD+/wEABQAAAP3//v8BAAQAAgAAAAAA/f8AAAMAAAD+/wAAAAAAAAIAAAD//wEAAAD//wMAAAD8/wAA///8/wEAAAD+//r/+f/+/////f/8//3/+//8/wAA+v/8//7//v8DAAAA/P/9//n/+f/6//3//v//////+v8AAAAA/f/8//7/AQD9/wAABQAAAP///v8AAAAAAgACAAEAAgD///3///8DAAQAAQAAAAEA//8AAAAAAQAEAAIA/v8DAAkA/P/5/wUABAD+/wIABgAAAPv/AgABAPz/AwAGAPv/9/8PAAsA+P8AAAYA8//m/wAACAD9/wMABQADAAAABQAAAPf/AgAHAAAA/f8EAAsA/f/4/wYABwD9//3/BwACAPj///8IAAMA/P/+/wEAAwAAAPn///8HAAUA/f/7/wAABAAEAP///f8EAAgAAAD8/wEAAgAAAAQAAQD6/wAABwABAAAABAD8//7/DwD0/+T/AQAWAA0A8f8AAAkA8f/5/xEA7//K/ycARwDD/5T/SgBgAKL/uv9WACMAnP8kAEUAt//I/1YARQCA/8r/fQBSAIb/uv+NADYAlv/S/1IA/v+7/wwANAD7/+D/KAAxAN//1P8iAAkA0v/w/xkAEgD2/wwADwAHAAIA/v8FAA4AAADt//7/IgAXAOv///8PAP7/9f8CAAwA+v/1/wAABAD///v/AAAAAPn/8v/8/wQAAQD7/wIABgD+/wAAAAD8//7//v8BAAQAAAAAAPz/AQAHAAAAAgAHAAAAAAAAAAEABAD7/wAABwD9//n/AgAIAP//9/8CAAMA/v8GAP3/9f8AAAwA+f/m/wwABQDp/wYADgDs/+z/HAADAM3/AgA6APb/xv8YADoA9//T/xQAMgD1/+v/DAARAP3/9f8AAAkACgAAAAEACQACAP//BAAFAP3/AgALAAAA+/8EAAIAAAD9//r/BAAHAAEA/v8AAAEAAwAAAP//AgABAP3/+//9//7/AwD///z/BAADAAAAAAABAPz/+v/6//3//f/6//7/AwADAAIAAwD///3/BQAAAPb/AQADAPT/AQABAP3/AAACAAAAAQABAP//BgAAAAAABAACAAQAAwACAAUABQACAAMABwAAAAAABwAAAAAAAAACAAYAAgAEAAYAAgAAAAAABQADAP//BAAHAP///v8CAAQA//8AAAIAAgABAAIAAwAAAAIACAAAAP//AAABAAMA/f8BAAMAAAABAAAA/v8GAAEA+/8CAAIA/f/+/wIABQD+//v//P/+/wMA//8AAAAA/P8CAAYA/v/+/wAA/f8AAAIABAACAAIAAQAAAAUAAQD//////v8CAAAA/v8AAP///f8DAAQAAQAAAPz/AAAAAP7/AAD+/wIA/v/9/wAA+//+/wEA/P/8/wEAAAABAP7/+v8AAAMA///2/wAA///4/wIA/////wQAAgAFAAAAAAD9/wAAAAD5/wEAAQD9/wMABAABAAAAAAABAAEA///5/wAABQAAAP//AAABAAAA/f8BAAIA/v/5/wAAAQD8/wAA//8AAAMAAwADAAAA/P8CAAQAAAD7/wAABQD//wAAAgABAAAA/f8AAAQAAgD+/wAAAwAAAAIAAwAAAAAAAQADAAMAAAABAAIAAwD+/wEABAD+/////v8AAAQA//8BAAMAAwAAAAAAAgD+/wIAAQAAAP//AQAEAAQAAwD+/wAABQAAAAEAAwAAAAQAAgABAAIAAAABAAEAAAAAAPz/AAACAP7/AQADAAQABQABAP////8EAAAA+v8DAAEA/P/9//v/AAABAPv///8AAPz//v8BAP7/+f/6//z//f8AAP//AAAAAPz//P/+//v/+//////////9//n/AAAEAP//AgABAP7/AgAAAAQAAgD//wAAAAABAP7/AgACAP7/AgD+/wAAAwD+/wIABQACAAAAAgAAAAAABQACAAEAAgD9////AQACAAAAAAD9//7/AQADAP//AQABAP//AAAAAAAA//8AAAIAAAD//wQA/v/8/wAA/P/9/wAAAAD//////f/8/wMA///8/wMA///9/wAAAAD//////v8AAAMAAQD//wEABAAAAP//AQAAAP3/AAAEAAMAAAD9/wEA///9/wQAAAD+//7/AgACAAAAAAD//wEAAAAAAAQA////////AAAFAAAAAAAAAAAAAQD+/wIABQD///7/AQADAP7/AAAAAP3/AwAAAAEAAAD9/wIAAgAAAPv/+//7//7/AAD7/wAAAgD8//z/AQABAP7/BAAAAPj/+//8/wAAAwD8////AAD+//3/AwD///3/AQD+/wAA/////wEAAQABAP7/AAD///3//v///wMAAAD7////AQAAAAAAAAD8/wEAAAD//wAA/v8AAAQABAAAAAMAAAD8/////f8AAAMAAAD+/wAA/v/+/wAAAQAAAP//AAD///v///8BAP7///////7//v/8/wAA/////wMAAAACAAMAAAAAAAAAAQAAAP///v/+/wAAAAACAAMAAQAAAAIAAQD+/wEAAgAAAP///P8CAAQAAQAAAAIAAgD9/wEAAAD8/wAAAgAFAAEA+/8BAAQA///+/wQABwAAAAEABQAAAP////8CAAAA/f8BAAAA/P8BAAAA+v/7//3//f8AAAUAAAD+//3/+//8/wEAAQABAP///P/6//r/AwD///7/BgAAAPr/+v/9/wMAAQD7//3//v/+////AwAAAPz/AQAEAAEAAAD//wIAAQD8/wAAAAABAP7/AAAFAAIAAgACAAIAAAD8////AQD//wAABAABAPv//v8DAAMA/v8AAAIAAAD9/wIABwD+/wEABAADAAAA//8AAAEA///+/wIABAAAAP//AAACAAMAAwACAAAA/v/+/wAABAAFAAIA/f/+//7//f8BAAEAAAD7//r//v/+/wAAAQADAAMAAgD/////AAAAAP7/AQABAAEAAgACAAAA/v/+/wAAAwAAAAAAAQD//wMABAAAAP3/AwADAAIAAAD//wEA/v/7/wIABQAAAAAAAQD+//7/AAAGAAYAAAAAAAEAAAD8/wAAAwD///7//P/7/wAAAAAAAAIA+//7//3/+//9/wAAAAD+/wAAAAD+/wAA/v/8/wAA/P/8/wAA/P/+//7//f8CAAIAAQD///7/AgABAAIAAwADAAAA/v8DAAIAAgACAAIAAAD+//7//v////7//v/+//7/AQAAAP3//f/+//7/AgADAAEAAgABAAIAAQABAAMAAgACAAIAAQACAAMAAQAAAAMAAwAAAP7//v/+////AQAAAAIABAAAAAAAAAD8//r/9f/z//D/9f/6//X/+v8DAAQAAAD9/wMACAABAAQACAAFAAcACAAGAAoACgAFAAkACwAIAAcABQAFAAQABAADAAEABAAHAAIA/v///wIABAAAAP////8AAPr/9v/8/wMA///2//r////+//v/AQAGAAMAAwADAAIAAgACAAMAAwADAAIAAgACAAIABAAHAAYAAwAEAAUA/v/8/wEABQAAAAAAAAD9/wAA/v///wEAAwABAP3//v/+/wAA///+////AQAEAAQAAAD//////v////////8AAP///f////7////+//7//v//////AAD///7//f/9//7///8AAPz//v8AAPr/+P/6/////v/+//3/+v8BAAEA+v/7//7/AwABAP//AQAEAAQAAgADAAIAAgAFAAIAAAAAAAAAAwACAAIAAQACAAEAAAAEAP//+/8AAAAAAQAAAAAAAgADAAAA/v/+/wIABQD//wEAAwACAP//AAADAP7/AgACAAEAAgAAAAAAAwADAAEAAgADAAMAAwACAAEAAAD+//7/AAD//wEAAwADAAAA/f8EAAIAAAAEAAMABAADAAIAAAD+/wIAAwAEAP7///8DAAAA///9////AAD8//z/AQD///7//v////z/AAAFAP7/+//7//v//P/5/wEAAAD5//v//P8CAAAA/v/+/wEAAwACAAQAAQABAAQA//8BAAMAAwADAP////8AAP3//f8BAAQAAAD8/wMABwAAAP////8AAAAAAgADAAMAAwAEAAAA/v/9//7/AAAEAAMAAAACAAIA/v/+//3//v8CAAMAAwAEAAQAAAAAAP///v/+/wEABAABAP7//f////3//v8AAP///f/+//3/+f/5//3/AgAAAP7/AgAFAAEA///+/wEAAgAAAAMAAwD///7/AgAAAAAAAQABAAIABAAFAAAA/f8CAAMAAAD+/wIABQAAAP7////+/wMAAQABAAYABQAFAAAAAgAAAP7/AwADAAUAAQD7/wAAAAD///3/+////wIAAgADAP7//P/+/wMABQD+/wIAAwACAP//+f/+//v//f/7//r/+v/+//7/+f8AAP//AAAAAP3/AgAFAAAA//8CAAMAAQAAAAEAAAD+/wEABQAEAAIAAwADAAAAAQAEAAAA//8DAAQAAwD//wAABAAAAP7/AAD9//3//f8DAAAA/P////7/BAAAAP3/AAD9/wAAAAD8/////f8CAAAA/P////z/AwAGAAIABAAAAAAAAwACAAAA/f8AAAMAAAAAAAQAAwAAAAAAAAAAAP///v/+//3/AwAEAAAA/f8AAAMAAAD+/wEABAADAP7//P8BAAAA/v/+//z////+/wAAAAAAAAQABAAAAAIABQAEAAAAAAADAAMAAAD//wAAAAD+/wQAAwAAAP//AwAEAAMAAgAAAAAAAQAEAAIAAAAAAAAAAQD9//3/AAAAAAIAAAD7//7/AwAAAP//AAAAAP//AQAAAAAA//8AAAAA+//+/wEAAAABAAEAAAD//wEAAQABAAEAAgAAAAAAAAD+/wAAAgADAAIAAQAAAP7/AAAAAAQAAQD+/wIAAwABAAAAAAAAAAEAAQD//wAA//8AAAAA/f8BAAAAAAADAAAAAgAAAAAAAAD9/wAA///+/wQAAQD/////AAAAAAAAAgAAAAMABAAAAPz/AAAHAAIAAAD+////AwAFAAAA/v/+/wIABQACAAIAAgAAAAIAAgD+/wAAAQACAAQAAAAAAAAAAAABAP7//v8EAAYAAwAAAP3/AAABAAAAAwACAAAAAgADAAAAAAD//wAAAwACAAMABQAAAAAAAAAAAAAAAAACAAIAAQAAAAAA/v/9/wEAAAD+//3/AgADAPr/+v/7/wIAAAD7/wIAAwADAAAA/P////7//f8BAAYAAAD6//3//v///////P8CAAAA+////wQABQD///3/AQADAAAAAAD+/wEABQD/////AAABAAAA+v8CAAQAAgAAAP///v8BAAQAAwAAAP7/AQAAAAMABwACAP3/AAAGAAIA+////wcAAgAAAP3//v8IAAcA9//u/wAADAAGAAEA9v/1/woAFwAAAAEAAADj/wwACAD2/xIA+P/1//v/BgAYAPv/7v8LABIA4v/V/xoASwAiAAgAg/9O/8AA2gBY/1D/MQChACMAh/+d/0AA6AD5/73+tv9AAboABv/w/o0ACQGw/w7/HwDrAB4ADf+r/90AfwBu/2j/UQCkANn/cP/s/3IARgCN/6j/XABbAMX/of8cAFEAAADT//z/EQAQAO7/4f8WAAsA9P/4////CgAAAAgA/P/z/wMA///0//P/CQAOAP//8v/5/wsAAwD2//r/AwABAP//+f8AAAoAAQAAAPz///8FAAEAAAD9/wAABgADAAEABAACAAEAAgAEAAAAAAAGAAQA+//8//7/AgAAAPr/AQACAAQAAAD+/wAAAQAEAAQAAwADAAAA/v/9//3/AAAAAAUABgACAAcABAACAAAA9/8CAAkABAABAPv/AAAAAAEABwD//wQACwD///r/9//+/woABwADAPr/9v///wAABAAEAPv/AAAFAAEABQAGAP//+/8AAAgA/v/+/wcA/P/8/wkACQD6//j/AwD///r/CAAMAP3//f8DAP////8NAAcA8f/8/wcAAAABAAgABAD9/////v/6/+//AAAPAAEAAwD+//r/AwD///7/AQD6/wAAAwD3//7///8AAAUA//8AAAAA/P8DAAMA/v8AAP3/+v8DAAYAAgAAAP7//P/6//z/AAAGAAIAAAACAAEAAgD//wAAAAD+/wAABAAFAAQAAgADAP3/AQAHAP3/+v/4//r////8/wIACAABAAYACAAAAAMAAwAAAPf/AwAGAPr/AQAAAPv/AQAJAPz/9/8FAAIA/f8AAAUAAgD6/wkABwDz/wIACAAEAAkAAwD9////AAD6/xIAGQDY/9v/JQC9/+X/yQCa/3P/5gDz/3H/LQBVAOT/xP9EAN7/w/9EADEAuv/J/1UAKQCs/9L/WAAFAKX/GwBPAAkAvv/2/1IAFwC0/9n/NQAYANr/2/8UABkA6P/6/xYAEwDx/+7/FwAaAPL/8P8aABwA5v/Z/xYAEADi/+f/DgAVAPn//P8KAA0A/v8AAAQA+/8AAPv//v////3//v8CAAgA+//6/wQA/v8GAAcA+f8CAAQA+//6//b/CAAOAP7/9P/4/wQABwAFAPz/AAALAAUAAAAAAAMACQADAP7/AAAEAAQAAwD9//r/BAAEAAQABAD9/wMAAgABAAQAAQD//wAAAAAAAAAA//8AAAMAAAD+//7///8CAAQAAwADAAAAAQADAAMABAACAAAA/P//////AAABAAAAAAAAAAAA/P8AAP///v8IAAAABAAFAP//AgAEAAIA/v8FAPj/9/8GAPb/AwAJAP7/BwACAP7//v8DAP7/AgAIAPz/BwADAAEACwADAAEAAgD+//r/AQD+//7/BgD//wEAAgD8/wAAAAD8/wAAAAD8////AQABAAIAAQD9//7//v8AAAIAAQACAP//AQD///3//f/8/wAAAQAGAAMAAgABAAAABAACAAEA/P/4//j/+/8AAAIABwABAAEAAQD//////P/+/wAA/////////v8AAAMAAgABAAAAAAAAAP7/AAAAAAIAAgACAAAAAAAAAP//AAAAAAAAAQABAAEAAwADAAQABgAEAAEA///9//7/AAACAAIAAAAAAAAAAAABAAEA/v/+////AAADAAQAAwABAAAAAAD+/////v8AAAEAAQACAAIAAgACAAUABQABAPz/+f/7//z/AQADAAAAAAAAAAEABAADAAUAAwAAAP3/+f8AAAUA/v///wcABwAAAAAAAQAAAP7/AQAGAAAAAAAAAP/////9/wAAAAAAAP7/AAABAAEABQADAAEAAwD//wIAAwAAAAQAAwAAAP3//v/+/wAA///6//7/AgAAAP7/AQAAAP7////7//v////+//7//f/7//v/+//8//z/AAADAAMABAAAAPv//f/8////AQD8//7//v/9/wAAAAACAAMA///+/wAAAAAEAAEA/f8DAAAA/f/+//3/AAAAAAMAAgD9/wMAAQD9/wUABAABAAEA/f8BAAEAAgAFAAAAAQABAAEAAQD+//3//f/+/wEAAQD9/wAAAwACAP7/AAAAAP7////8/wAAAAAAAP///v8DAAYAAwAAAAEAAwD+//3/AwD/////BQACAAMAAwADAAYAAQABAAQABAACAP//AgADAAIAAAD+/wQAAAABAAIAAQAFAP7/AwABAPz////9/wAAAAD+//7//////wAAAQACAAUAAAD+//z/AAAEAP///v8AAAMAAAAAAAMAAgADAAMABQAGAP7/AgAFAP7/AQAAAP7/AQD///3/AAAAAP7//v8CAAEA/f8CAP3/+//8//n/9//7/wIAAAADAAAA+f//////AAAAAAIAAQD9/wIABQAAAP7/AAACAAQAAQD8/wAA/v8AAAMAAAAAAAMAAwAAAAIAAQADAAYAAAAAAP7///8AAPv/BQADAAIABQD//wAAAQAAAAIAAAAAAAUA//8AAAQAAAAEAAAAAQAGAAAAAAABAAQABgACAAAA/v8AAAMAAwACAAQAAQD+//3//v/+//v/AgACAP///f///wIA/v/8/wAAAAABAAAAAAADAAAA/f///wEAAAAAAAAA/f/7/wAABgD///3/AgADAP7/AAAFAP//AQD//wAAAgAAAAYAAAD+/wMAAwADAAMABAAAAP3//v8AAAAAAAAEAAIAAQAAAAAAAwAAAPr/+//7//3/AAD5/wIABgD8/wAA/v8AAP3///8BAPz/BAD9//n/+/8AAAAA9v8DAP7/+P/5//z/BgD9//7/AQD+//7//v8BAAAAAAADAAAA+/8AAAAAAAAEAAEAAAD9//r/AAAFAAYAAwACAAUAAAAAAP7/AAAFAAEAAQAEAAEA//8BAP//AAADAAIABQAAAP///v/9/wMAAwAAAAEAAAAAAPz/AAD///v/AwAAAAAAAgAEAAMA+/8GAAAA/P8CAAAAAgAAAAAA/v///wUABAABAAEAAwD//wEAAAAAAAMA/v/+/wAAAAAGAAQABQABAPz///8AAAMAAQABAAUAAAABAAUAAAAAAAQABAABAPb/+/8BAPf/AAADAAUACQD//wEAAAD8////AQAAAAIA/////wAA/f8HAAAA/v8HAPz/AAD+//b/AwABAPf/AAADAP//+//5/wIA/f///wMA+P///wEAAAADAAEA/////wAAAgAEAAAAAwACAP/////8/wUABQD//wIABAAFAAAA/v8AAP7/AAAAAAEABAD+/wYAAAD7/wUA//8CAAQAAAADAAAA///+/wEACAAFAAAABAD+/+////////z/BwADAAUA/f/+/wEA//8CAAIABAACAAQABAAGAAEAAAAGAP//AAABAAAAAgD///v/AQADAP//AQACAAEAAwAAAPz/AQAAAP3////9/wUAAQD9/wAA/P8GAAAA/v8IAP//AQD3//H/AwD8/wAABwABAAEA+f8AAP3/+v8HAAUAAQADAAQAAgADAAQAAwADAAQABAAHAAcAAgAAAAEAAQD//wAAAwAGAAIAAgAAAP7/AAABAAQA///5/////P/4/wEAAgD+//7////+//7//f/8/////f/5//3/AgD///n/AQAAAPz//v/7//3//v8DAP///P8BAP//AwABAAAAAQD//wEAAAD8/wEAAwABAAIAAwAEAAIABAD///z/AQACAAUAAgD+/wIA//8CAAEA/v/+/wAAAwD//wEAAQAAAP//AgADAAIABQACAAAA/v8CAAAA//8FAAAAAAAAAAEAAwADAAMAAQD//wAAAAD8/wEAAQABAAQAAAAAAAAA/v8BAAMABAAEAAAA//8AAP7/AQADAAIABAAAAP3/AgADAAQAAgD7/wEAAQD9/wUAAAAAAAUA//8CAAAAAAACAAAAAwADAAAAAAD/////AQAFAAMABAAAAPz///8AAAQAAQAAAAQAAAD7/wAAAwACAAEA/v8AAAIAAgD///v/AAAAAAEAAAD9/wMAAAD///7/+//9//7//f/+/wQAAAD//wMA/f/8//7/AAAAAAIAAAD//wAAAAAEAAAAAAAFAAIA/f///wIAAAABAAQAAQAAAAEAAwD+////BgD//wAAAgD6/wQAAgD+/wUA/v8BAAEA/f8EAAEAAAAFAAAAAAD//wEAAwD//wAAAAAAAAAA/P8CAP////8FAP//AQAAAP//AgABAAAA/P/+/wAA9v8AAA4A+f/5/xEA/P/8/w0A9P8CAAcA9P8DAAQA/P8EAAIA/v8PAPT/AgAQAM7/GgAFAN7/IwDx/wEAAwD9/w8A9f8CAP3//v8DAAAAAQANAPr/+P8VAO7/AgAIAPf/EAD7/wcACADy/wAABwD5//7/EwAGAOv/DQANAOv/CgALAOr/CQAbAMX/KwAxAJr/YQD6/67/ZwDH/wgAGADn/z4AzP8FADYA1v8BAAYA9/8OAOH/FgD8/9P/RwDy/+H/HAD4/wMA3/8KABIA7/8RAPT/AAAKAN//AwANAOv/BwAHAPP//P8LAP//8f8HAAUA7v/7/wsAAQD5//3/8P8FAPf/3/8sAPL/3v8wAO///v8JAPf/EwDf/wsADgDc/xkACADz/woAAQAFAPf/+/8JAPz/CQAJAPf/BAAHAPj/AQADAP//AAAIAAQA+v8OAAQA7/8NAA8A9P///wYAAgD+/wIABwABAAUAAQAAAAcABwD+////CAD9//7/AgD//wQAAAACAAUAAQADAAMAAwABAP7/AwABAP7/AAABAP7/AAABAAAAAAADAAQA/P8AAAEA//8AAP//AwACAP3/AAAAAAAAAwADAAMAAgD9/wAA///4//7/+/8AAAQA/P8BAP//AAAEAPv//P8BAAIA/v/8//7/AwAAAAAA/v/5/wEA///9//3/BAAMAPn/AAAJAP//AAD8//z/AwACAAMA9////woA/P///wkA/f/5/wkA///3/wkABwD7//j/FQAWAOX/AAAnAOX/6P8tAOP/7P85AOH/9P86ANn/7f8vAN7/5f8tAO//0P8hABgA7P8BAA0A+//6/wQA/v8EAAIA/P8FAAIA/f8CAAQA//8BAAgABQD1/wAAEAD2//n/BwD9//r/BQABAAAABQACAP//AAAEAAEAAAAEAAIA/f8DAAMA//8AAAMAAQD//wIA/v8BAAYA/f8AAAYAAQD9/wIA/v/7//v/+f8BAAAAAgAAAAAAAAD7/wQA///7/wYAAAD7/wMABAD///7/BAAGAAAA/v/8////AwACAP7//v/7//3/+//0/wIAAgD9//z//P8CAPj//v8GAP3/AAACAPr//P8CAPz/+P8AAAUABAACAAIA/v8AAAAA8//4//7/+v8DAAMAAAACAAIAAgAAAPz//v////3//v///wMABgACAAQAAQD9//7/AAABAAMABAD//wAA///8/wAA/v/7/wAAAAD//wYAAQAAAAkAAAD//wUA//8BAAAA/v8BAP3/AgAHAAEABQAIAP////8DAP3/AAABAAMACAACAAAAAwACAAAA///+//z//v////3/AAABAAIAAAD/////AAACAAQABAABAAIABQABAAIACAAAAAEABQAAAP7//v/+//3/AAD+//7/AAAAAAUAAAD//wIA/f/6/wMAAAADAAcA/v8CAAUA/f8CAAIA/v8CAP3/+/8CAAIAAAD//wAAAwABAAAA/v8AAAEA/f/8//3//f////z//f8BAAIAAAD8////AgAFAAAA+//+/wAA/v/8/wAAAAD9/wAAAAD///z/AQACAP//AgAEAAIAAgABAP7///8CAP7/AAAEAAMAAgD+/wAAAAABAAAA/P8CAAMABAACAAEAAwACAAIAAAABAAAA/v8DAAYAAAD//wAA/f/9//7//P8BAAAA/P8AAP//AAACAAMABQAGAAAAAAAGAP7/AAAEAP3/AgAHAAAAAAADAAAAAAD9//3/AAD//wAAAQD+/wMAAgD//wEAAAAAAAAA///+//3/AgD///z/AgD/////AQAAAAMAAwD+///////+/wUAAAD9/wEA///+/////v//////AAAEAP//AAAHAP7/AAAFAP7//v8CAAEA/f8CAAAA/P8AAP3/AAABAP3//////////f////7/AAAAAPz/BgD9/wEAAAD4/wAAAAAAAP7//f8CAAIAAAD7//r///8AAAIAAAAAAAAAAAABAP7//P8DAAMA/v8DAP//AQAAAP//AAD8/wEAAAD9//7/AgABAP7/AgACAAIAAQD9//7//v8AAAAA/f/+/////f8DAAQAAQAAAAIABAD/////AgD///3/BAAAAAEABAD//wYAAQD9/wQA//8AAAIA/P8AAAAA//8BAAEA/f8CAAEA//8FAAEAAQAGAP//AQAHAP//AgABAP3/AwAAAP//AgAAAAIAAQAAAAAAAQAEAAAAAwABAAEAAwAAAAAA//8BAAMAAAAAAP//AgADAAAA/f8AAAIA/v8EAAQAAAACAAAAAgD//wAABQD//wIAAAAAAAEA/f/+/wAAAAAAAAIA/v8AAAQA///+//3//f8EAP3//f8BAPv///////3/AAD//wAA///5/wIAAAD6/wAA+v8BAAYA/////wAAAwADAAAAAAABAAQAAwABAP7/AQABAAAAAgD9/wEABAD///7/AQAAAAAAAwD+/wQAAgD//wMAAAAAAAQAAAD9/wAAAAACAAAA/v8DAP//AAAGAP//AAAGAP7/AAADAP7/BAAAAPz/AQAAAAIAAgAAAAQAAAAAAAIAAQD9/wEA///9/wEA/v/+//7//v///wEA///+/wIA/v8BAAIA/P8CAAIA/f/+//7/AQAEAP3//P8AAP//AQADAAAAAAACAAAA///+/wEABAAAAP///v8CAAUAAAD//wIAAwACAAAA/f8BAAIAAAACAAAA//8DAP7/AAABAP//BQABAPv/AAABAAAA//8AAAAAAAD+/wAAAAD9/wAAAQD+//z//f/+/////P8AAAEA+//8/wAA/v/8/wAA/v/9/wAAAAD//wEAAwACAAAAAAABAP//AQAEAAAAAQAAAPz/AgAAAP3/AwACAAAAAAABAAQA///9/wIAAAAAAAQAAAD//wAAAAABAAEA/f8CAAMAAAABAAAAAQACAP7/AAABAAAAAgAAAP7/BQAAAAEABAD//wIA///9/wMAAQD//wIAAQAAAAMAAwD//wIAAAAAAAQA+/8CAAQA//8DAAAAAQAFAAEA//8AAAIAAgADAAMAAAABAAAAAgABAAAABAD//wAAAgAAAAMAAAD//wAAAwAGAP7//f8EAAAA+/8DAAQA//8CAAAAAQAEAAAAAgD///7/AgAAAAIAAQD9/wIABQAAAPz/AQD8/wAAAAD7/wIA/v/4/wAAAAD//wAAAAAAAPz///8BAPv//P8AAAAA+//8////+v8BAAEA/f////3/AgAGAAAAAAAAAAEAAwAAAAQABQAAAP7/AQAAAP7//v/+/wMAAgD+/wQAAAD7/wEA/v8AAAAA/P8DAAAA/v8CAAMAAAABAAAA/v8EAAAA/v///wAAAwD///v/BAAAAPz/AQAAAP3/AAAEAAAAAQAAAAIAAgD9/wIAAAABAAUAAAAAAAMAAAAAAAQAAwAAAAEA//8AAAAA+/8AAP7//P8AAP3/AAABAP3/AgAFAAAAAAACAAEA///9/wIAAwD+/wEAAAD+/wMA///8/wIAAQD8/wIAAQACAAQAAwAEAP//AAAGAAAAAQAFAAAAAQADAAEABAAEAAIABwAAAAAABQAAAAEABAD+////AAD8/wMAAAD7////AAAAAP3//v/9//n/AQAFAP//+v8AAAAA/f8AAPz////9//v/AgAEAP3//v////7/AQAAAP7/AQD///3///8DAAUAAgAAAAEAAAD//////f8BAAAAAAADAAAAAAAAAAAABQAEAP//AAACAAIABAACAP3/AQACAAMAAAD+////AQAEAAAAAgAGAP//AAAFAAQAAAAAAAIAAgAEAAMAAgAAAAIAAQABAP//AQAGAAAABAAEAP//AAADAAMAAAAAAAAA/v8BAAQAAAD//wIAAAACAAEAAQAFAAQAAAD9/wAAAgADAAAAAAADAAMA//8AAAUAAAD//wAA/v8DAAAAAQAFAAMABAACAAQAAAABAAMAAgAEAAMAAwABAAAABQABAAIAAwAAAAEAAAAAAAAAAQABAPz/AAAAAP7//v8BAAAA/f8AAAAAAAABAAAAAgD///v//v8AAAAAAgACAAAA/v8AAAAA/f///wEAAAABAAIAAwABAAEAAAABAAEAAAAAAAIAAAAAAAMAAwAAAAIAAgACAAEAAQAAAAEAAQAAAAAAAQABAAEAAQAAAAIAAgD//wEAAAAAAAAAAAAAAAQAAgABAAAAAAAAAAEAAQAAAP//AAAAAAAAAgACAAAAAQD//wEAAAAAAAIAAQAAAAAAAAD+////AQAAAAAAAAACAAIAAgADAP7//f8AAAAAAQACAAEAAAACAAIAAgAAAAAAAAABAP//AAABAAAAAAABAAAAAAAAAAIAAAAAAAAA/////wEAAAAAAAAAAAABAAAAAAAAAAAAAQAAAAEAAAABAAEAAgACAAAAAQACAP//AgD+/wEA/v/7/wAA/v///wAA///+//7/AQD+/wAA///8/wAA/v////7//v8AAP7///8AAP7/AAD+/wAAAwAAAAAAAwAEAAQAAAAAAAAAAAAAAAEAAQD9/wEAAwADAAAAAAAAAAAAAAAAAAAAAAAAAP//AAAAAAAAAAD//wIAAAAAAAEA//8BAAAAAAAAAAEAAQACAAEAAQAAAAAAAAABAAEAAQABAAMAAAAAAAAAAQAFAAMABQAFAAAAAgABAAMAAAAAAAAAAAAAAAEABAABAAQAAAACAAIA/v////3/AgAAAAEAAAAAAAQAAgAFAAAAAQAFAAAAAQABAAAAAQAAAAIAAgAAAAAAAQABAAAAAQACAAAAAQACAAIAAgABAAAAAAABAAEAAAABAAIAAQACAAAAAAAAAAAAAAAAAAEAAAAAAAAA///8/wAA/v/9/////P8BAP7/+//9//3/AAD8/wMAAAD9/wAA+v8BAP7//f/+//v/AAD+/wEAAgAEAP3//f8AAP7/AgAAAAAAAAACAAQAAwAEAAIABAABAAAAAQD//wAA//8BAAAAAQAFAAAAAQD//wIAAAAAAAYA//8CAAAA/////wEAAAAAAAQA/v8AAAAAAQABAP3///8AAAAA//8CAAAAAQADAAIAAgD//wEAAAD+/wEAAAACAP//AAAAAPz/AwD//wAABQACAAMAAgD///3/AQABAAEA////////AQAAAPz/AwAAAAEAAAAAAAUAAAAAAAAAAgACAP3/AQAAAAEAAAAAAAUAAAD+//////8BAAQAAAABAAMAAwAAAP3/AwAAAAEAAAABAAIA/v8EAAAAAgAAAAEABAD//wMAAAAAAAUA//8BAAAAAAAGAAAAAAADAAMAAwABAAEABAAAAP////8CAAMA//8DAAAAAgABAAAABQD//wEAAQABAAUAAwADAAMAAwACAAIAAgAEAAIAAwADAAMAAwACAAQAAgADAAIAAwAEAAMAAgADAAQAAgAEAAIAAwAEAAQAAwADAAQAAwADAAMAAwADAAMAAwACAAIAAwAEAAMAAwAEAAMAAwACAAMAAwADAAQAAgAEAAMAAwAFAAMABAADAAQABAADAAQABAADAAMAAwADAAQABAADAAMAAwAEAAMAAwADAAQABAADAAMAAwAEAAIAAgACAAIAAgABAAIAAgACAAIAAQACAAIAAQACAAIAAgABAAEAAQACAAIAAwACAAEAAgABAAMAAQACAAIAAgACAAEAAgABAAEAAgAAAAIAAQACAAQA/f8AAAAA+/8BAP//AAD///7/AwD+//z/AQD+/wEAAAD7/wEA/v8AAAAA+/8BAP//AAD+/wAAAAD8/wAA//8AAP7/AAAAAPz/AQD/////AwABAP7/AAD//wEAAAD8/wEA//8AAP//AAAAAPz/AQD+////AwD+/wAA//8AAAAA/f8BAP//AAAAAAAA/////wMAAgACAAAAAAD//wEA//8AAAMAAQACAP3/AAD//wAAAAD8/wIA/f8AAAAA+/8BAP3/AAABAPv/AAD//wAAAAD+/wIAAQD+/wAA//8AAAMAAwACAP//AAABAAMA/v///wEA/P////3/AQD+//v/AgD8/wAA///6/wAA///8/wAAAAAAAAEA/f8AAAIAAAAAAPz/AAADAP///P8AAAQA/v///wAAAAAAAPz////9/////v/7//z////7//z/+//8//3//P8AAPv////6//v/AAD+/wAAAAD9//3/+//7//7///8AAPz//P8AAPz//P/8//v/AQD9////AAD9/////P8AAAAA///+//3//f///wEA/v8BAAIAAAABAP3/+/8AAAAA//8BAPz/AAD/////AAD8/wAAAAD//wMA/v8AAP7/AAABAP//AAD//wIA/////wAAAAD+////AwD///7/////////AQD//wAAAgD+/wAA//8BAP7/+/8CAP3/AAAAAP3/AQD9/wAA///+/wQA/f///wEAAgAAAAEAAwD+//3/AAD+/wAAAQD//wAA/v8AAP///P8CAP7////+/wAABQD8/wEAAAD//wMA+/8AAP////8EAAAAAQAAAP7/AgABAAEA///7/wEA/v8AAP//+/////v//f/6/wAAAwD7/////v/5/////f/9//3/+/////v/+//6//n/AQD8//z//v/7/wAA+//+//7//f/+//r/AAD//wAAAgD+/wAAAAABAAIAAAD//wAAAAADAP//AAAFAP///v/+/wAAAwABAP7/+/8AAP///f8AAAAAAAD//wAA/v/+/wIA/v8AAAAA/P8AAAAA//8EAAEAAQADAAEAAwADAAAAAgD///3//f8AAAMAAQABAAIA/v/9/wEA/v/9//7/+/8AAAIA/f/8/////f/+/wAAAAAAAP7/AAAAAAEA/////wEA/v/7//3//v/8/wAA///7/wAAAAADAAIAAQD///z/AAD+/wAAAAD6/wAA/v/+/wQAAQD//wAAAwAAAP7/AAD9///////+/wIA/f8AAAEAAAD//wAAAgD9//z/AAACAP7/AAD//wAAAAD7/wEA/v8AAAEAAQD+//v////9//3//v8AAAMA/v/8//3//f/9/wAAAgABAAAAAQAAAAAAAwABAAAAAQAAAAEAAQACAAEAAAABAAEAAQAAAAIAAAAAAAAAAAABAAEAAQABAAAAAQACAAEAAQABAAEAAQACAAIAAQABAAAAAQABAAEAAwACAAIAAQAAAAEAAQACAAIAAQAAAAIAAQABAAEAAQABAAIAAQABAAIAAQACAAEAAQABAAEAAgABAAAAAQABAAEAAgACAAEAAQACAAEAAgABAAEAAQACAAIAAQABAAEAAQABAAIAAgABAAEAAgABAAEAAgACAAEAAQACAAEAAQACAAIAAQABAAEAAgABAAEAAQABAAIAAQABAAEAAQABAAEAAAABAAEAAQACAAAA/v8AAP////8DAAEAAAAAAP7/AAAAAPv/AAADAAEAAgD///v/AAACAAIAAgAAAP///f/9//3//f/9/wAA///8//z/AAAAAAAAAgABAP7/AAADAP//+/8AAAIA/f8AAAAAAAABAPz/AAD///z//f8AAAMA/v8AAP3///8DAP3//P/9/wAAAwD9/wAAAAD6/wAAAAD8/wAAAgD//wAAAgACAAEA///9//7///8BAAEAAAACAAIA/v/7//3/AAD+/wAAAAD8//7/AAABAAIAAAD8////AQAAAAAAAgD9//3/AQD///v/AAADAP7//P/9//3//f/9//z///8CAP///P/8///////6//z/AQD+/wAAAAD+/wIAAAD+/wAAAAD//wEAAQD+/wAA/v////7/AAAAAPv/AAD//wAA///7/wAAAQABAP///v////7//f/9//z/AAAAAP//AwADAP//+/8CAAAA+/8CAAAAAAADAP///f8AAAIAAAD+//r///8CAAEAAwABAAIAAgABAAIAAQACAAEAAgABAAAAAgADAAIAAgACAAMAAQAAAAAAAQACAAEAAAACAAAAAAAAAAAAAQABAAEAAgAAAAAAAQAAAAAAAgAAAAEAAgABAAAAAQACAAEAAgACAAIAAgACAAEAAQABAAAAAQABAAIAAgABAAIAAgABAAIAAQABAAEAAQACAAEAAQABAAEAAAAAAAAAAAABAAAAAQACAAAAAgACAAIAAwAAAAEAAAAAAAEAAAACAAIAAAACAAIAAgACAAEAAgADAAEAAQABAAIAAQABAAEAAgACAAEAAQABAAEAAQABAAIAAgAAAAEAAgACAAIAAQAAAAIA///7/wAAAgD9/wAAAgD9//3//P/9/wAAAgD///z//f8AAP//+/8AAP//AAD//wAAAAD7/wAAAwD///z/AAACAAEAAQACAAIAAQD+//////8AAAAA+//9//3//f8AAAIAAgD//wAAAQABAAIA///7/wAAAQD///3/+/8AAAMA/f8AAAMAAQACAP7//P/8//3/AAD//wAAAAD//wMAAgACAAIA/v8AAAEAAQAAAP3//f/8/wEAAAAAAP//AAADAP3/AAADAP7//v/9//3/AAD+/wAAAAD//wMA/v/9/wAAAQABAP//AAACAP3//f/9/wAAAQABAAAAAQD+//z/AAD//wAA/v///wMAAAADAP7//P/+//z/AQD+//3//P/9//7//P8AAP7///8CAP3/AQAAAPz/AAABAP7/AAAAAP3/+//8//z///8AAP///f/5//3/AAD9//r//P8AAP3//v8BAP//AAD//wAA/f/7//7/AAD/////AAD/////AAD/////AAD//wAA//8AAP//AAAAAAAAAAD//wAA/P/+/wEA/v//////AAD//wAAAAAAAAAAAAD//wAA//8AAAAAAAAAAP//AwD+//3/AAD+/wAAAAD//wAAAAD//wAA//8AAP/////+/////////wAA//8AAP////8AAP///v/+/wAA///+//////8AAPv//f////7/AAAAAPv/AAABAP7/AAD//wAAAAAAAP//AAD///////8AAAAA/////wAA//8AAAAA//8DAAEA/v8AAAAA/////////v//////AAD+///////+////AAD//wAA/////wIAAQD+/wAAAAAAAP//AAAAAP////8AAAAAAAAAAP////8AAP7/AAAAAP//////////AAAAAAAA/v8AAP//AAD/////AAAAAAAAAAAAAAAAAQABAAIAAQABAAEAAgABAAEAAgACAAEAAQACAAIAAQABAAEAAQABAAEAAgACAAEAAAABAAEAAgABAAEAAQABAAEAAgACAAEAAQACAAEAAQABAAEAAQACAAIAAQABAAEAAQABAAEAAQABAAEAAQABAAEAAQABAAEAAQABAAEAAQABAAAAAQABAAAAAAAAAAEAAQAAAAAAAQAAAAEAAQAAAAEAAQABAAEAAQABAAEAAQABAAEAAgABAAEAAQABAAIAAQABAAEAAgACAAIAAQACAAEAAQABAAIAAgABAAEAAQACAAIAAAABAAEAAgACAAAAAgACAAMAAQAAAAIAAQABAAEAAAD//wAAAgD///7//v/+/wAA/////wAA/P/9//3//P8AAP///P/9//3//P8AAP7//P/9//3/AQADAPz/AQAAAPz/AQD//wEAAAD7/wEAAAAAAAIA/////wMA//8AAAQA/f8AAAEA+/8BAAMA/f8AAAIAAQD///z/AQACAP///v8AAAEAAwD+////BAD9///////7//7/AQACAP7/+v8AAAMA/f/9/wAAAQD+//3//v/9//3//P8AAAIAAAAAAP///f/9////AQD//wAAAwAAAP7/AAD9////AgD9/wAAAgD+//z//v8BAAEA/v/9//3//v///wEAAwD+/wAA/////wMA/f////7//f/+/wAAAQD+/wAAAQD+/wEAAwD+//7//f8AAP//AAAAAPv/AQAAAP/////+/wMAAAD8/wAA/f////3/+v8BAP///v/9//n//P8BAP///P/9//r/AQD+//j/AAD+//3//P/4//7/+//3//3/+v/+/wAA+//8/wAAAAD+/wAA/f8BAAAA+/8BAP///P8AAAAA//8CAP7/AAD///z/AAACAP///P/8//z/AAAAAPv/AAD+/wAAAAD7/wAA///6/wEA/v8AAAEA/f////////8DAP///P8AAAAA+/8AAP7/AAACAP3/AAD///z/AQD+//v/AgD//wAAAAD7/wEA///8/////f/+/wEAAQD//wAA/f8AAAEA/f8BAAAA/P8BAP7///8DAP3/AAD///v/AAACAP7//P8BAP7///8DAP3/AAAAAPz/AQD+/wAAAAD7/wAA/v///wIA///8//z/AAD//wAA/////wMA/f8AAAAA+/8CAP////8CAP3/AAAAAPz/AQD//wAAAgABAAEAAQAAAPv/AAD/////AwD+/wAAAwD+/wAA/////wMA/v8AAAAA/P8AAAEAAQACAAEAAgABAAEAAgABAAEAAQABAAIAAQABAAIAAgABAAIAAgABAAEAAQACAAEAAQACAAIAAQACAAEAAQABAAEAAQABAAIAAgACAAEAAQACAAEAAQACAAEAAQABAAEAAQABAAIAAQABAAEAAQABAAEAAgABAAEAAQACAAIAAgACAAIAAQACAAEAAQABAAEAAgACAAEAAQABAAEAAQABAAEAAgABAAEAAgABAAIAAgABAAEAAQABAAIAAQABAAEAAQABAAIAAQACAAIAAQACAAIAAgACAAIAAgACAAIAAgACAAEAAQABAAIAAgABAAEAAQABAAEAAQABAAEAAQABAAEAAQABAAEAAQABAAEAAAABAAAAAAAAAAAAAQAAAAAAAQABAAAAAAAAAAAAAAAAAAAAAAAAAAEAAQAAAAEAAQABAAEAAQABAAEAAQABAAEAAQABAAEAAQABAAEAAQABAAEAAAABAAAAAAABAAAAAAAAAAAAAAAAAAAAAAAAAAAAAAAAAAAAAAAAAAEAAQABAAEAAQABAAEAAQABAAEAAQABAAEAAQABAAEAAQABAAEAAQABAAEAAQAAAAAAAAAAAAAAAAAAAAAAAAAAAAAAAAAAAAAAAAAAAAAAAQABAAEAAQABAAEAAQABAAEAAQABAAEAAQABAAEAAQABAAEAAQABAAEAAQABAAEAAQABAAEAAQABAAEAAQABAAEAAQABAAEAAQABAAEAAQABAAEAAQABAAEAAQABAAEAAQABAAEAAQABAAEAAQABAAEAAQABAAEAAQABAAEAAQABAAEAAQABAAEAAQABAAEAAQABAAEAAQABAAEAAQABAAEAAQABAAEAAQABAAEAAQABAAEAAQABAAEAAQABAAEAAQABAAEAAQABAAEAAQABAAEAAQABAAEAAQABAAEAAQABAAEAAQABAAEAAQABAAEAAQABAAEAAQABAAEAAQABAAEAAQABAAEAAQABAAEAAQABAAEAAQABAAEAAQABAAEAAQABAAEAAQABAAEAAQABAAEAAQABAAEAAQABAAEAAQABAAEAAQABAAEAAQABAAEAAQABAAEAAQABAAEAAQABAAEAAQABAAEAAQABAAEAAQABAAEAAQABAAEAAQABAAEAAQABAAEAAQABAAEAAQABAAEAAQABAAEAAQABAAEAAQABAAEAAQABAAEAAQABAAEAAQABAAEAAQABAAEAAQABAAEAAQABAAEAAQABAAEAAQABAAEAAQABAAEAAQABAAEAAQABAAEAAQABAAEAAQABAAEAAQABAAEAAQABAAEAAQABAAEAAAAAAAAAAAAAAAAAAAAAAAAAAAAAAAAAAAAAAAAAAAAAAAAAAAAAAAAAAAAAAAAAAAAAAAAAAAAAAAAAAAAAAAAAAAAAAAAAAAAAAAAAAAAAAAAAAAAAAAAAAAAAAAAAAAAAAAAAAAAAAAAAAAAAAAAAAAAAAAAAAAAAAAAAAAAAAAAAAAAAAAAAAAAAAAAAAAAAAAAAAAAAAAAAAAAAAAAAAAAAAAAAAAAAAAAAAAAAAAAAAAAAAAAAAAAAAAAAAAAAAAAAAAAAAAAAAAAAAAAAAAAAAAAAAAAAAAAAAAAAAAAAAAAAAAAAAAAAAAAAAAAAAAAAAAAAAAAAAAAAAAAAAAAAAAAAAAAAAAAAAAAAAAAAAAAAAAAAAAAAAAAAAAAAAAAAAAAAAAAAAAAAAAAAAAAAAAAAAAAAAAAAAAAAAAAAAAAAAAAAAAAAAAAAAAAAAAAAAAAAAAAAAAAAAAAAAAAAAAAAAAAAAAAAAAAAAAAAAAAAAAAAAAAAAAAAAAAAAAAAAAAAAAAAAAAAAAAAAAAAAAAAAAAAAAAAAAAAAAAAAAAAAAAAAAAAAAAAAAAAAAAAAAAAAAAAAAAAAAAAAAAAAAAAAAAAAAAAAAAAAAAAAAAAAAAAAAAAAAAAAAAAAAAAAAAAAAAAAAAAAAAAAAAAAAAAAAAAAAAAAAAAAAAAAAAAAAAAAAAAAAAAAAAAAAAAAAAAAAAAAAAAAAAAAQD8//7/AQD7//7//v/+////+f///wAA/P////7//v/+//7//f/+//7//f////r/+/////3//v/9//3/AgD8//v////9/////v////3//v/9//7//v/+//3//v/9//7//v/9////+f///wAA/f8AAP3//v/+//7//f/+//7//v/9//7//v/+//3//v////n/AAD9//r/AAD+//7//v/+/wEAAAD9/wAA/f/+//7//v/+//7//v/+////+/8AAAEA/f8AAP7///8AAPn/AAAAAP3//v/9/wAA/P///wAA//////////////7/AAD9//3//v/8/wAA+//5/wAA+//+//3//P/9//3//f/9//3//f/9//3//P/+//3//P////j//v/+//r////8//7//v/8/wAAAAD8//7//v/9//3//f/8//v//P/7////+v/9//v/9v8BAPz/+f8BAP3/+f/+//3//f/9//3//v/8//7//v/9//7/AAD+//r///////7/AAAAAAAAAAAAAAAAAQD/////AAD//wAAAAD//wEA//8AAAAAAAAAAP7/AAAAAAAAAAD//wAAAAAAAP7//////wAAAAAAAP7/AAAAAP//AAAAAAAA//8AAAAA//8AAAAA/////wAA/v8AAAAA//8AAP3/AAADAP//AAD///v/AAADAP//AAD/////AAAAAAAAAAD//wAAAAAAAAAAAAD//wAAAAAAAAAAAAD//wIAAAD//wAAAAAAAAEA/////wAAAQAAAAAAAAAAAP//AAAAAAAAAAAAAP7/AAAAAP//AAAAAP//AAAAAAAAAAAAAAAAAAAAAAAAAAAAAAAAAAAAAPz/+/8AAP3//v8AAPr//P8AAPr////9//z/AwD8//z/AAD8///////5//7/AQD4/wAA///3/wAA/P/7/wEA/v///wUA//8AAAMA/v8AAAQA/P8BAAAA+/8AAP7/AAADAP7/AAACAP3/AAABAAAA/v/9//7///8DAP3/AAD//wAAAQD9/wAA///7//3//f8AAAEAAQD///3//v8AAAAAAAD///3/AAABAP//AAAAAPz/AAABAP3/AAD//wAAAAD7/wIA/f/+/wMA/v/9//z//f///wAA/f/+//7/+/8AAP///f8CAP//+/////3/AAACAPz//v8AAP7/AAAAAPv/AAD9//3/AQD+//7/AgD///v/AAD9/wAAAgD8/wAA/v/9/wUA///8/wAA///+/wEA/P/+/wIA/v8AAAAA/v8DAP7/9/8CAP3//f8GAPz/+//8//r/AAD+//z/AAD6//z//v/9//3//f/9//3/+//6/wAAAAD8//3//f///wAA/P8AAAAA/P8AAP7/AAADAP3////8////AgD9//3/AQD//wAAAgD+//z/AQD+//7/AgD9/wEA///8////+/8AAAIAAAD9//z//f8AAP7///8CAP3/AAAAAPr/AAADAP7/AAAAAPv/AgD/////AwD9////BAAAAAEAAgAAAAEAAAD8/wAAAAD//wIA/v8AAAEA/v8AAAIA/f8AAAAA/P8AAP//AAAEAP7//v8DAP7/AAAAAPr/AAD+//7/AgD+//z/AQD+/wAABAD9/wAA///5/wAAAgAAAAEA///7/wEA/v///wIA/f8AAAAAAAAAAAAA/v/+/wAA/P/+//7///8BAP//+v/6//j//v8BAP3//v/6//7//v/7/wIA/P/5//z//f8AAP3//f/8//r//P/9//3//P/8//7/+v/7//3//P/9/wAAAAD6/wAAAAD6/wEAAgAAAAAA+v///wIA/v8AAP//+/8AAAMA/v8AAP//+v8AAP////8DAPz/AAAFAP7/AAD+////AwD9/wAAAwD9//7/AwD9/wAAAAD8/wAA///8/wAA//8AAAMA/f///wAA/f8AAP7/AAACAP3//P///wAAAgD+//v//v/9//z/AAD///r/AAD+//z/AAAAAAAAAgD9////AAD7/wAAAQD9/wAA/////wIA/P/+/wEA/f/9//3/AAABAPz/AAD///r///8CAP///P/8//z/AAD/////AgD9/wAA/f///wIAAAD9/wAA///+/wMA/////wAA+/8AAAEA/f/7//v/+v/+//3/+v////z/+P////3//P////v/AAD+//j//f/8//7//v/6/wAA///4//z////8////AAD5/wAAAQD+/wEA/f8AAAAA/v8AAPz//f/9/wAAAQD+/wAAAAD8//3//////wAA//8AAP///////wAAAAD///7//////wAAAAD//wAA//8AAAAAAAAAAP//AAD+/wAA/////wAA/v8AAP7///8BAP7/AAD8//7/AAD//wAA///9////AAD9////AQAAAAAAAAD+////AAD+/wAAAAD//wAAAAD+/wAAAAAAAAAAAAD+////AAAAAAAAAAAAAAAAAAAAAAAAAAD//wAAAAAAAP//AAAAAAAAAAD//wAAAAAAAAAAAAAAAP7/AAD///7/AAAAAP7/AAAAAAAAAAD+////+//9/wAA+/////z/+f/7//v//v////z/+//6///////+//z/+f/9/////f/6//z//v/9//7/+//9/wAA/P/+//3/AAADAP3/AAAAAAAAAwD+//7//v8AAAMAAQD+//7/AAACAAIAAQD+/wIAAQABAAMAAQD//wAA//8AAAMAAQAAAAIAAwAAAAIAAgADAAMA//8CAAAA//8DAP///f///wAAAgD+//3/AgACAP///f8AAP//AAACAAEAAAD+/wQAAAD//wEAAAABAP7//f/9//7/AAAAAAIA/f8AAAAAAAAAAAAAAgABAAIAAgABAAAAAQABAAAA/v/7/wAAAAABAAEAAAABAAAAAQD+//z/AAAAAAEAAAD7/wEAAwD+//3/AAABAAIA/v/8//3///8CAAMAAgAAAAAAAQACAP///v/6////AAD6//z////+//v//f/+//z//////wAA/v/9////AAD9//v/+////wAA//8AAPr/+//+/wAA+v/6//7////////////9////AAD///z///8AAAAAAAD//wAAAAD+/////v////3/AAD/////AAD//////v/+/wAA//8AAP//AAD//////v/6/wIABAAAAP//AAD8/wAAAgD//wAA//8AAP////8AAP////8AAP//AAD///7/AAAAAAAAAAD9////AAAAAP3///////////8AAP/////+//////8AAP///f/9/wAA///8/////v/9/wAAAAAAAAAAAAD///7/AAABAP7/AAD///////8AAP///v/+//7/AAAAAAAAAAD+////AAAAAP//AAAAAP3/AAD///7/AAD//wAA//8AAAAA///8//v/+/////3/+v/+//3//f/6//3/AAD9/////v/9/////v/+//v//P///wAA/P/+//z/+f/+/////P/8//3//v/8/wAABAAAAP3//v/8//3/AAACAAAA//8AAAEA/v/8/wAA/v/9/wIAAwAAAAEAAwAAAP3/AQACAAAAAQD9//3////+/wAAAAAAAP7/AQADAP7/AgAAAPz/AAAFAAEAAAABAAAA/v8DAAIA/f8DAAMAAAABAAEAAAABAAQAAQD9////AAADAAMAAAD6/wEAAAD+/wMAAwD///7/BgABAP//AwAAAP7/AwAEAAAABAADAAAAAAAEAAAA//8IAAAA/v8EAAMAAAAAAAEAAgD///7/AwABAAAA/v8CAAQA/f8BAAMABAADAP//AwADAP7/AAAAAAAAAwAAAAAABQAAAAAA///+////AAADAAAA/P/8/wAA//8AAPz/+f8BAAAAAAAAAP7/+/8AAAAA///6/wAAAAAAAAAA+v/8////AgD+/wEABQD+/wAAAAACAAIAAQD9////BAAAAP7/AAABAP7/AAAFAP7/+/8AAAMAAAD//wUAAwABAAAAAQADAP//AgAEAP///f8CAAIAAwADAAAAAAAAAAAAAAAAAAMABAAAAP3//v8AAAMAAQAAAAEAAAD//wUAAAABAAcAAAD//wAAAQABAAEAAwADAAAA/f8BAAAA//8AAAIAAwAAAAAAAAD8//r///8AAAEABAD+//3/AQAAAP////8AAAAAAAABAAMA/v/7////AgD+//3/BAACAAAA/v8BAAEA+/8BAAIA/f/+/wQABAD9////AQD+/wAAAAAAAAQABAAAAP7/AAAAAAAAAAABAP//AAABAAAA/f/5//7///8AAAAAAQAAAPv/+P/+/wIAAQADAAAA+v/7/wAAAQD+/wUABgACAAUAAAD0//T/AAABAP3/AgADAAAAAAABAAAA/v8AAAMA//8AAAMABAAGAAAA/f/5//j/AAACAPv/9f/9/wYAAgAAAPr/+f/8//3/AAAAAAgACAAFAAwADAANABEACQD5//T/9f/7/wAABQAJAAMAAADr/9X/y//A/9X///8jAGcA3QBuAcYBqwE3AXkAkf/L/hz+Qf2h/LD8JP3K/cD+9v/9AL4BoAI1AyED1wJ6ArIBggDe/6z/BP+V/sb+2v6P/on+C/9E/wr/MP/L/1UAvQBsAWcCGwNBA+sCNwIPAfz/Dv+4/YD84PvC++H7X/yQ/av+iP/IAMgBNwKbAiMDEgMYAukBBQLJALr//P8iAAj/Qf75/j//hP5z/hT/Qf8I/1r/5P/u/ycArQAnAbYBPgJZAjECbwIqAu8APgD8/wr/4f1p/Uv92Pys/D79I/7//sH/jQALAWIB8wE6AhICpgH7AEYAzf+d/3D/bf+K/3T/kv/W/+X/xv+o/6n/kf9r/3D/kf+3//b/QgCGAOUAMAEZAQoB8ACEABkA0f+T/xH/mv6O/qX+/P5//9v/IABEAGsAggBvAGkALAAJADwAMwAgADgAlwA8AWoBTgFJASkBwAAAAJD/av///or+R/5t/rb+e//CAGQBhgGEASMBJQD8/2cBtwH8AOMAQgBj/i788ftY/Fr6jPkW+1/8j/3n/twAQQK/A+EFZQWxBF8GfAY1A3UAjwGSAcj9q/zY/g7/2Px1/Pz+AAAC/xz/YQCMAWoBZQCUAIYBPAH8/yEASQGwAHD/5f/eAGkAdv+3//j/Gf9b/lP+RP7P/fP9rv7m/j//3v91ACsBfQGgAQQCLAJ8AZ8ATADU/yr/DP88/wr/2f47/7b/0f/t/wkA6//q/wUAAAC9/8z/JgDn/7r/NABdADIASACgAKgAEwDe////4P+K/wn/+f4v/wb/Kv/f/zgAJQAYAF8A3wAwAY0BzwG6AUQBlQB4ABcAGv+z/nb+F/7+/Qf+hf4n/7P/BgAJAN0AeAEeAQEBLQEbAU4A5f8RAOz/0f+X/4D/6P/0/6v/uf8OADEAAQDb/wAAWQAzAPH/QwB1AGYAPgBsAMUAgABpAEoAAwA5AAAAyv8NAC8AqwDFAIQAKgAH/8X+a/6P/Yb90vxr/Vj+VP7m/18A1gDOAbgBswKGAlIChwJXAd8A7P82/+X+Hv7V/gr/l/5C/wUArwC2ALgAcAFtAUgBHQG5AKwAXgAWAKz/nf/L/5//vP/q/0kAIADj/18ASACm/yz/Lf8X/3n+g/7Z/sz+KP9U/6r/UgB1ALAAugDxANEAJgAOALL/vv/+/7T/h/9+/9//3P/A/yIA1/+a/+3/AgAKAOr/4v/6/wsAhwCXAFsAmwDfAOAApABwADcA5f+6/73/6f/H/1j/Sf9V/33/vP+S/8n/SAA+AAkALQCAAG4APwA1AE0AVwAMAAsA7/+k/7P/eP9u/9b/EQADAOz/QABqAD8AngDWAJYAoACDAG4ASwAWAOb/av+A/37/Ef84/57/1/+q/9D/SQAeABMAQwBgAGgANQBUAEsA+v8aAAwA5P8VAPf/yv/R//b/CQDd/+b/BgD6//z/8f/j/9X/pf/G/7f/tP8MANP/3v89AC8AQwA3ACMAOwAiACAAAwD6/wAA7P8AAPb/8//y/+X/AwARAAIACgADAPH/CgAZAB4AGQD1/wAADAD4/wEAFQALAB0AKwAWABYA3v/M/+z/0v/S/9//8v8TADcAUQBhAE0AAAACAO//xf/X/5X/g/9+/yD/Jv9g/4P/yf8IAE8AXgA6AE0AUwBSAE0AIgAIABIADADk/9//FQAQAPz/GwAjABUACAAWACQAFAAJABMAKgBFACwADQAzADkAIwAoACMAJwAbAAAABwAHAOv/8v8JAAoAGwASAA4AJAAGAAAA9//I/8v/zf/j/xQAGgAYAP7/4f/Z/87/0P/A/9D/6//r/y4AMQDy/7r/bP+N/7P/x//1/9n///8ZAPn/CgD8/wgARABDAPT/4v8wAAUApv+g/73/sf+n/zAAFAFWAqgD1gRZBZUEKwNYAKv9TvzI+aX3rvcK+AX5oPoY/M7+zwHAA8EEnwWHBj4GJQVBA/8BzACT/rL9d/2E/Wn9FP02/rD/ZADmANMB8QJYAyQD8wJyAvoB5QDc//j/Tf/C/pf+i/42/0b/X//R/yYAHQDO/+7/pf8g/57+9v1P/qL+6v4sAPYA0wGbAioC0wFGAUcA2P8H/7H90vzv+5b78fss/B39o/7o/7oArgGQAsACowLzAdABFgI9AZcAngCiAJMA/P+Z/ygARgDX/7f/4/8bAAQA0f/H/00AbgARAHoAygDFALAA6wCEAawBigFGARQBCwGiAOX/Sv/i/nr+Fv7x/eb9Of7q/ob/9v+JADMBGwHmALEAcQAtAIz/B/9z/gD+hP1j/dT9RP6h/v7+vv9PAIsAmgC0APYA8ADGANQA+gDqANkA5AAdAfgAnAB8AFcAVAD4/8D/6//p/wUAyf93/5T/jf+y/+D/xP/4/ysAPwBbAGAAhAB5AFEAZQBRABAAIAAkAM3/p/+g/3X/ff+V/5j/zP/v/+f/AwAxACkAAADu/+z/w//D/yYAXwByAHEATgBnAF4A8P+a/2T/Vf8y/z7/4P8uAJkAhAFWAuYCtwLmAQgBnQCp/8b9Af2j/OD73/vG+238VP67/2MA2wDdAVcCXAJPAvMBXgJWAUT/r/7Y/u/+JP7q/ZD/mQB9AMgAggF/ApAC/wHsAQACywGwAE8AJQCM/3P/Xv/S/7b/tf+CAI8AdQBXACIAPgAxAKf/O//v/kn+F/6B/iz+1v2j/hP//f45/67/JwBRACwAEAAGAAgA3v9l/3b/wf95/0X/0v9GAEAAgACaAKcApwCTAOEAFgEyASgBGQErAfwAbQCZ/37/7f/U/+r/GwANAB8A4/+u/5D/PP8N/xr/K//2/iX/iv/B/30A7gCHAIUAHAEDAdAAPAGiALL/PAB1AG3/Fv8V//L+8/6i/rL+Yv8QAOb/7//oAOYAdwCUAHMAYQBsABEA+f+XAI8A8v8pAG0AkQCtAGwAsQC+ACUA+v/A/5T/BwDh/6H/PAB2ANn/tf+7///+uP6T/o/+5/5D//n/2gAzAkwDdgPqAmwCcAEfAOj+8fwN/P/78vvU+/D7Qf2h/uv/3wA3AbYBXAJoAskBnAF9AdYArgA2AIT/CADF/y//df9V/23/i/8YAOkAPAFmASMBcwELAuwBVgFkAfABvgHAAa8BMgHjAGoAvf8u/+T+lP4C/nj9YP0v/Tn93P1//in/vP/+/w8AUgA4AKH/mv/O/7H/+f+7/2P/zf91/3L/r/+w/54ASAFrAdkBSgI+ApkBpQBz/9f+Wf7x/N380f3m/ZX+5/8nAKkAHQIfAh4B3ADbAPn/Pf+4/iz+rP4P/y7/Pv9pACcBdAAZAfcBRwJjAtcCXAN4A+ICpwH3ACsAdP+h/vf9y/2y/cz9Cv4f//v/VQBJAa4BcQGDAQsBIwCZ/27/E/+v/nX+Sv6j/uv+Cf/w/j7/nf/C/yAANgCVAKAAsgBFAP3/kwDM/+b+6v4N/+n+JP98/9z/TwBeAJsAaQCdAI4ABgBnAGoA5v/B/9//0v87AJEAHwBYACgB1ABYAHQAVgB/AHAAQwAZAF0A2wB+AFwAxABIAREBsgCyAJkAmQD3/03/df+t/0j/sf6t/iL/8/7X/lT/pP/t/7X/cv/A/1cA/v+K/33/3f4G//H+Sf6W/nD/Z/9z/0gAegB2AM0A+QAHAeEB2gGTAfMBtQE8AaoAuADm/2b/6/9j//D+8P79/s7+u/43/+T//P/t/xkAswDJABMAZgDGAB0B+gDeAF0BBQF9AK7/wP8hAJf/bv9A/2n/5/+z/5D/yP8cACcADQCUANgAmgCFADUAt/+D/0D/0/7C/rn+BP4F/gP/R//R/68AIAFbATMB+QDcAHYADgD9/5b/h/9P/xb/Ov8d/yL/X//R/5b/y/8DABcAYQBAAJAAwgD7APMAKwELAYAAOwDN/9n/i/8p//z+Pf9D/0X/oP/F/x8A+/+cACYB8ABxAegBzwGpAYsB6QBxAOn/Ef/O/k//NP+q/jv/0f8FAPH/CQCEANYAMwG5AFUAzgBtAL3/z/+3/2L/jf+l/2b/dv+W/3D/Uf9g/23/nv/z/+z/u//G/+f/rP9f/8v/2P+F/wYA7v9H/z//TP80/8v/VQCc/5H/ZAB9AEQAhgDdAB0BiwFgAd0AAQESAfv/sv8UAIv/Tv9e/1j/Ef/h/vn+iP/j/9P/SwCiACIB8QA1AIkA9ACbAGkAtgB6AIcACwHCAKcAKgE+AG3/BwC+/6H+Rf4L/3n+3/2i/sD+Yf/B/+H/XgCuAOAAqADKAM8ALQBI/8H+Jf5o/Xf9r/3v/Uv+rP4J/5v/WgCyAOIA9gHuAs0CnwK2Aq0CGQE3AGEA/v8TAEv/Ev+V//X/t/8G/ycAxQA0AEIArgAFAQgBvgC5AM8AzgC/AP0AXAG8AIUAvABxANv/Ov8A/wb/r/4l/kT+Zf6Q/rz+W/+V/3P/1f+g/0IAjgAwAD4AdwDqAHMAEgDt/9v/BQBL/8L+N/8w//X+F//9/hL/Hv/N/gj+pP4iAJ//mv8qAKsAfQBa/+v/JwD/AKIATv/C/9X+/v1e/HL8ufyo+9P8Jf0k/u/+fQAPAvcBAgONAu0B7QEXAez/7/9RAPv/gQDHAZgC7gIABCIEEASbAw4DSwMQA2wDLwIrAo0DSgN6A+cDrAQTBfMEsgOvAswCYQEOAK7/XP+A/87/sf/n/4n/Wf6D/Rr8MPva+Rz4aPeX9p31svQa9R71AfUX9pT2FPgE+TH5uvp9/LH9ov1e/h//z/0B/FX65/nb+Y/5dPp7/IT/ZgGlAroF+wfQCDgKSQuJC/YKPAklCOwH+wZ2BfgF5Ai2CksNnRIaGRkfSiMjJykpoChcJeAdOxeTEOQFGf2+9fLuUOq+5QTjgeBp4Crgyd7F3w/fluDI4JDgyOFu4W/jReKh4RfjzuN55aLmgunE7Afw4fIA9oX5K/xO/9IBjwRtB9MJ0QySEMASXRS+F6MZKxvcHGEddh6iHj8flSI4Jl8qGy+RMxQ4ozqGOU42CjM3LL4hbRfqDI4C6vcc7mDmbOGL3unbgNvw3NHeI9+R353fjd1l3Xfbtdj31pjVL9U70hXRD9KY0zbVc9cY3U/iBOjW7Onx/fi8/KP/yAO4BykJTQriDccPghADEkcUlhZSF8IXVxhhGVYauRosHjIjMyjNLWwySDctOxs96TxjO504CzPCK4MiVhnED24GBv0488Pts+hC5A7h4t8+4WDgWeHr4aLi3uLN33/e/tts2kjXHdMj047Ry9BR0SDTPtb12HvdC+K353fsA/D482r3Yvsv/SoAVwR+BhMJcAsFDqEPJhGiErsSyxP7E04UwxWlGK0dWiJnKBcvrTOsN2E79Tx4PEs7XDhQNPktVibJH40WKA46BTf8d/aI70frducC563nQuVY5pvlL+Zs4yTfyd4M2ojWQNIM0CLRdNBW0RHTcNe92Zzam94k40LnsuhF7HnxrvPB9TL3XPpj/Vr+nQCOA6YGtQfeCVMMlA2IDzwQZhLgFPQYhR6xI6wp5y54M002ozmTO1g70jqXN+oy3is+JV8fhRdXEEQJ8wJu/BP3pvMy8OLv1u6n7SbtOewc7DjoL+Vp4oTeW9qU1djUw9Nf01LTRNQR2NfY1Npi3snh0+QK5svoQOtl7JXtK+/o8Qb1Tfil+g/+mAKFBA8GyghpC9IMkg2PEBoV6hjZHfUjximYL7czDzd7Ov07ajvfOb033DPqLSkonSIkHD8VWA7iCCYCSP2E+Zz0o/Ow8MHuhuyh6qHrYOaE4pLgOt7a2drUu9Wy1cLTstJy1a7YOtj12OHcKeCy4CXiOOYT6n3qGe3M8Xz0dPfH+sX+JAG5At0E+wWDBtgHugmgC+sOPhOBGIUe+iM1KR4u5jCBM6s1azXFNGwzRDEeLlAqpSa9IlYe0xhzEwgOYAn8BGv/MvyG+cz2Y/Sk8QDxTe4j6q3mdeSQ4abcGdtX2tbZ59jJ2PLaL9vD29TcE99q4ZjicuSo5tfoB+pw7PDuyfCW88n1xfct+eP6Z/y+/J7+0wA8AzgGVgrLD/gTHhkHH7wjcCfqKtcutjBUMZoy6jIyMcwuzSwCK9MnFSPQHl8aUhbWEQUNYQnGBvYEXwDc/Dv6YfZ+8gTsNeju5Ibhw97q2/Tb3Np+2gnaq9ol3JDbPt0V3oXeGN+S37bhPuKS4wHmZ+h/63ntQfDx8Z7zI/aq9476yfwcAFkDcwe2DG0Q1xa3HKIhVyZDKnoumjEzNGU11DV3NfUzPTKzL4ItpSpdJhQiGB3lGJMUCBBiDI4JbAZsAVH9ZPlX9VTvA+qn5tPi+N9O3DzbC9p42UfZQNg/2dbXZdjx2GfZCtq22aXcmt1d3yLiLOUg6YLrMu9z8IXxfPND9cn4CPse/4YDZgjnDB8QxBa3HA0iNSakKeYtpTCRM9g0DzWBNZU0ITP0L8Qs+iqIJ+gj8x5gGikXFxOzD9QKYgiGBK3+EfuX9RLxgOul5z/l7+Bk3lTcp9si2mTYDNiV18vX/tYJ1zTYati12TXcJd4t34jh6OUk6XLrZ+6f8cLzH/V/92z6rf2dAEgEsgioDH8RdhaBGysgpCPCJ8wrDC9OMgc0XzTqMxAzBTG4LcIqoiefJNQf9htoGFEVJBNjDpULogeoBAYAJPrg9iXw0esQ5oLic+DK3LTbZtic2JLWN9Xg1ZfUsdZE1uTXCdkA2o/d4N7Q4brjeOgL7YjugvFM84T21ffH+Xr90P+lA+sGggt7D+ATfxklHgsjGCbAKYItjjAOMhUyJzO0MagvDC4FK5IoFiVgIrseSRkIF50TKBBMDP0HZgRi/n/65PSR7w3rrOV94nnd+tpS2DjWyNWS0zrUsdS61YHWR9dc2sjaPdwB3wnht+Px5SPqh+0r8N3ygPRg95P4rfr2/Pv+MgIEBZQJ2AzUEEQWvxyBIoIlASo6LXwvYTAzMCUwHC8OLy8thCoLKBwlGyKrHTIZoxXkEm0Q7wysCEcFqQAv+5b11u8w6+PlKuJE3q/acddz1LXU+NKW0rDSUdPJ1CPUwNfT2WTbs93e35rkU+Zf6mvvR/OV9s73SvsJ/br+lwFlBFoH8QgoDakQTxNKF44cNiIVJfsnHitILREtqiwKLTssRSvOKX0ozSWKIjsfZRsqFsoQFg4PC+EGWQKq/6/8vPeH8j/t5uj/5MbhTd7U26jZVdiz1zzWWdYR19bYAdkC2ZPaqtxk3/Hg0uMI5xPrSO/v81L4I/o2/Nj9u/9XANsBcgRZBrMIWgrNDdIQPxQIGYEd+yAqIzImAyjBKHYpRipCKvMoHih1JuIj6iBaHcsZsBT7D3gM6QjuBdQBsf5m+iT2t/HC6yHoqeMU4f7dgtvD2QrXG9c81tHWDdeJ2ITaDNvl3AffKuP85SzpJO3+8A71/fjp/Mv+IACMAdkDTwWPBiQJ2AvODfMOABFsEzsWwhlVHdYfFiLTJKMmSydBJ48n+if1Jikl5SKIIGMdABklFeIPqQv6B1gENAE2/HT5gfXo8ebt+ehV5hDiPuCl3cXbcdrS2L/ZRtiF2a/ao9yo3nDfGeM+5KLnt+rs7cPxsvR6+kT9ZAAiApIDqgUDBkgIhwkKDIkNEg9tEcUSpxWwGC0dkh8XIb8ihCOgJBokeySoJA8kOyNTIVsfCxwoGF8UBA//CR0G3gKx/2r7Rvhk9NfvcevR5rnj+N9t3erbJ9qa2KfX0Njy2CDZ79qi3NLdf9/p4nzl7udY7BLxGPVZ+Mf8LAGWA0QF5gb/CO8JWwvbDUQPQhCjEQ0UdBVKF50asx2CHykg5yHIIsoixSINIxEjRSFjIBYfhRy4GdYVbxIdDTcIvQSlAAX+mPnc9lbzrO4w6yzm5eNs39LcnNus2UnZpNeu2YbZw9lm28PcQN8B4Drk6eZp6cfsl/Ds9S/45vy6AdsF6QeWCNMLIgxWDdgOCREHEx8TThbUFzoZSxvvHWQgEiAkISki+iLXIlUiACIXIAgfFh22GtwXxhMoEGAL8Ab/Abb9IPvv9nXzMe/m65DoNuSD4bTd69tA2t3ZbdnH15vYMNk+29Tbht1K4HTiCeYE6Fbree5d8jL3Y/s9/+ACJwgyCykNbQ6iD44R4xKSFToXShl9G+ocex5qH/IgdiFtIkoj7yJpIlIhXiFOILEeNh13GtIX2hMnEJ8LLQYuAq79lPrc9szzB/El7IToWOQX4TzdWNrZ2VDZk9ku2Yrav9qJ2gvcJ9594M/hEOU/6NXqme0X8ez0+/di/DMBvgWmCUUMeg4nEDQR4RLjFC0XOhlEHDUfUCCHIXci3CMEJM4ktCXBJAIk0yK/ItAgIx7kGxEZ2hUTERMNNgfVAcL9b/lR9g3yNe/261PoYuSX36rcutgZ1yPWTtUA1g3WoteJ10bYmdri3H/fDuJ95fnnkOt77x3zbvZy+tv/zwOVBy0LJg5/EMkS3BRFF8IZtxuBHrkgrCKiJNYlUiaXJvomgyfsJrslpyTCInsgnh1mG6UXzBMeEBIL7QWt/9f7fPd7853w7+wm6u3l1+L33pDb5djA1RzVD9Rl1A3Vr9U11yXYfNq13OneDeJr5cjoC+xC8Br0ifej+9f/gATFB94KDA4jEOgS3xRtF0EaehwrH+8hmCTnJWgnwChFKYYpsymyKWUoEyfuJZgjNyDRHBwZpRSGD6gKawXT/zX7hfbk8v3uIetZ6NXk9uAa3OHYedYN1IrSX9Gy0d7RxdNM1a/WYNmh24nfruH95M3oFezI8OzzLfhw/KYB/wWICecMiA6gEXwTPhZZGF4aph2GH34ixCT3JicojSm6Ko4qlCrJKXUpJii+JukjcCDkHfUZcBX2DzIKuQTY/rD5R/UL8MDs0ekf5nLiQd7Y2t/XV9ZW03jS+NGF0VDTW9KG1AnWf9gt3GrexOKH5Yvp0ew48Yv1+fh6/t4C/QcbC2EOjhGqE3IWexg0G24dVyCDI/MleSduKYYrCSzELK0sUyzeKi0pBigtJVIiUB9+GyAXyBH0CyQGOwCO+pL1QvHV7BnpT+YH4yjfcto218LUYdKb0eDQ69CH0cnSidMp1CfWbdgA3CPfU+Li5dnpy+4h86P3dPzPAWwGJwsFD54RBRW5F90aKR3gHygjzyXOKO0qpyxGLWouIS/hLkku/yxFLNUqxihcJZIhWx1rGHET/Qz2Bcz/vvpI9ajv0+rV5tLiq94L2wHX3tJY0NrOis3RzGzM3s33zjzQKtLk0yzXINo/3kDhWuQM6RPujfN/9wX9QgJrBwUMaQ/YEm4VLBkrHDUfzCFsJNMneiqoLLYt9S6qL3Qw9S+oLv8teiy6KykpuCWQIXocfBhoEvwLQgWk/+36yvQC8D7ri+dH4wrfKtsB1vDSUNDNzufMk8uKzA/NQM65zwbSa9Q81xTbgd5w4dvkzumi7vXyt/fe/DYCQAe6C5APURLdFfYZuxzLHk0hPSU1KBEqpSvwLP8tEC6WLnoupi2xLHMruipPKC0lqSHFHHYYqBI0DKwFqP80+6/1wvD56wTofeN+3lTaQNUx0qLPTc7mzKbLTMyXzKTNtM4r0afTDNdJ2+be3uLq5eXqae9n8x/44PyhAkIHAgzwDwATlxZPGtAd/h/mIo0muSkjLJwt1C4vL5wvczAYMPguvC1aLMMqEiiPJI8g1Rs6F+URZAvDBK/+l/k/9ALvQep65R/hnNyf2PDTGNBCzlDMdstiyuvK68uGzLXOo9Dh0yDXZNuZ31Lj1edQ7Hvxi/Xn+vD/EAVACq4O/BKdFZYZlhyHH+gh1SR1KE0qZC3FLr8vji+WL4kwjy/ELhAtoStQKXQmWiMOH2QaIhU9EA8KpgPG/Xv4nPNd7oXpUeTY34XbS9ev02nQGs6jy1vK/ckMyrDKfcu0zTHQENM11unZWt6l4nDn7+vI8M31JPu5AHcFbQrsDvYSlRb3GZkdaSA6I1ImYCk+LFouMDBKMZQxxTH3MXQxbDBGL7EtEiuKJ5UkGyDtGlQVOw9fCWICZ/0B+Pvy3+1x6ErkKd7q2X/VMdIbz7TLkMpJyAfIjcdnyNTJcMvyzpjR39V92ezda+IR55nsSvGE91/9QANgCDYNqBFEFTYZbxwcICMjXCZwKegrQy6cLyYxyjH3MSUy0DHyMIgvAC68K8woZiWIIdIcqxcnEkEMFwYrACz74/Xl8MrrHucY40feE9ox1hvTDdAVzZzLHspJyQHJosnJynfMns+t0o3WnNod39bj6Ocm7WnyOPgE/p4DJwmFDe4R9xXiGdUcBSDfI/om6in5K3Euni/uL7IwDjGQMZswDjDyLt8sdirmJsMj1R5tGoYVmA/SCt0E+/+Y+v71+/AI6znnl+LL3lbaPNd91H7RQ9CzzQHN1svhy6vMb80u0DTSw9WW2L7cVOGh5YPqre659KH5BP8dBB0JCA6cEeUV6hgzHO4eGyIFJf0mkSlVK2EtyC0ALnEu6y0pLf8r5CqZKA4mBCNRHwEbOxYOEjsNeAiZA4f+Afof9Wjwrus753njod+l3ObZKdfo1P/SfdE40CTQZdB40XfTc9Ue2Mbasd324K/kYugm7PHw3vVw+iT/LARiCBAMABD3E4EXvxoaHu0g/CK4JF8mVic7KDgpASq6KsMqRCpgKRMoSyabI1sgTB01GaAUUBD3CysHxwHQ/Rr52fOT7+rrBOjE42Thh96y2x7ZVNfq1brTqNMt0wjT1tO/1R7YnNn53GXg8uOs5+vrdPBB9Dv5AP6bAv0G5wr4DpkSSxaOGSQcIR8rIgMkXyXhJgYoiiimKBwp0CiJJ9smsiUyI3Ug/R3JGuEWRRN7D+QKPQalAmL+l/k59d7wQe2q6XLmG+Mq4NndY9up2UvY99dT1z7XI9jf2ITaHNzX3pvh8+NY58nqMu678Sz2nvof/tsB5AVRCXEM7w86ExcVXRdiGtgbPh3AHp0gNSFAIbQiSCIYIuwhbSGzIM4eiB02G6MYcRVZEpwPawubB/UDMQDZ+xH4AfUo8dTtXOtj6NbkfuK04L3eRt0n3aHcNtse3D7diN0h36/hduPc5H/nZOoK7U3ws/Qg+Ab7AP/WAlQGlwl8DXEQrxJ/FckXvRkqGwcdDR4VHo8ejB5WHocdfx1iHWsbhBrgGe4XERXlEgUR+QwMCnoHEgMG/yb8f/k89Xfy3/Dq7ZzqTOgT51bkYuJB4nfh0t9935ngQeFS4vLjvuby6OnqjO3F7xryLfRZ9wb6pfwTAGADpgYECf8L1g7SEJgSyhSZFnYXexh+Gd8ZFxkQGc0YGRiWF8MWXxbgFGYT3RGiD+ENtQscCWsGwwOdAcf+FvwY+rn2mPTw8ofwtu757CDsf+qA6ULpfugV6OHns+jp6Ezp1+r768HsRe6G8HLyXPTP9oD5U/ub/RoAWALcBEUHEQoTC3AMlQ7XD6ARyxI8FD4UeBNhFKUUmhOxErYSrhEoEI4PvQ7MDNMLUAv4CAYHMwWsA+sAev6D/Uz6TviG93v2HPUu9FX0jPLX8GDwb+8k7tztVe4x7t/tke6D78zvDvG08k701fUL99r4RftQ/fn+ZgFRA1QEdwUPB2II7AiJCWAKwgryCuALBg24DbANMA5vDuYN4A3KDZcNYgy+Cz8LWgmkB30G4wU4BEoChgFcAHj+Av0X/Df72Pkp+f34g/ep9sz1P/Xb9A30fPRC9IH0sPTg9Iv1m/Wk9gb3dPdq+NL4gPlO+kb7UPyS/U7/qADgAdQD9gS4BbEGmwcSCGwH+gdWCLUH8AdVCGoINgioCGwJown+CcIKmgq8CWsJ6AgdB0MFfQRuAkMAWP9y/nv93vty+2L7XfrM+aT5Z/mt+F/4Ovhv98f2pfaL9ob2tfae9574rPjY+aT6mvpg+zT8SP2V/fb+jADhAK8BJgLNAn0C8gLKA0QDVgQlBXIFgwXjBaQGDQZYBrsGjgY6BucF6wXiBAoEnANCAxsDKQJyATgBGwE1AfgAPQF+AakA/v91/2P+I/1N/Kn7xfrL+XH5mPkx+Sf5+PkX+337N/yh/dr9jf78/iT/EP9H/nj+FP7v/b799P2R/i/+1f4Z/2f/HQDIAKEBFgLmAmoDwgP5A/cD+wMXBIMDTwMpBLYDPwNXA20D4wKoAmYDGQM+A84DUgSTBFQEcAQ5A8YBegGiAFT/h/7u/Qb9Z/sb+tL5FPmT+Lj49fhO+dz4N/k2+tj61ftV/Hz9Q/6T/mr/d/8VAFoAvQBDAc4AWQFcAQEBNwF6ARgCEAKFAmIDwwNiBLEETgUaBYUESQSwAg8C0QFlAS0BygD2ADAAsP8QAJYASAAbACkBTAH2AM0AawEdASIASABg/wf+gf2M/Qf9ZPyS/JT8Ovzi+7f82v34/Y7+3P8IAEv/bv/m/5z/Ov8w//z+RP6b/Zr9zP0i/r/+Pf+h/xIAQgDrALkBngGfAc0BHQL5AQMCpgJ8AsMCJQNaA1MD9gJWA3ADUgNeA5IDngMlAxYD0wIWApEBCAFzAI7/n/4J/gP9MPzx+5b7FPuR+pX6t/q0+gr7u/s6/Bv8Ufwi/Z79CP7O/jr/cP8FAKoA+wDsAAIBUgEoAbAAAgHcAUECugJYA3ADNgMxA0QDqgIiAvoBpQEMAYAAygDjANoAGAEHAeIAYQAjADQAKgA4ADsARwDs/3P/cv9l/wj/5f4u/xz/rP7G/hL/v/7J/gz/yv4k/47/kP9m/2z/gP+8/oH+Av8P//H+Hv+Z/47/N/+x/8f/Lv8u/2//IP+3/gb/Fv/l/nn/MgCZAKcACAFEAfYASQG1AcoBAQIoAmICeAKnAuoCiwJTAi4CNgJAAvQBVAKTAZ8ASwBI/73+iP6e/mb+z/3h/bP9Wf0X/Rj9dP11/dD93/2f/VX9SP0L/jL+K/6r/iD/S/9O/7H/uQDYAJoAQgGOAUcBvwFEAmECMQLOAbMB+gBFAKkAjwCDALsAywAtAVwBhAFVAVQBbAFaABAAsAB/AAUAVQDyAEgAQQAXAZ0ALwAzAA8AKADD/4D/if8I/9b+g/66/kn/O/8H/zX/Sf9c/1//UP+y/7v/nf+W/2n/+/7R/kb/Tv+M/53/M/9S/13/kP/O/24A9AB7AL4ANAHuAHkAVwABAQQB+gDeAUwCKAItAo0CjwIEAgsC3QJ8AmcBLwFIAEf/mf6r/oz/kf+K/4H/KP9D/7//Q//x/ib/pf6y/vT+n/5F/tH+kP7Y/moC9wLQAX8E9QKC/sr+T/qL97MBtv/n9Jn8aQFp+ar8DQUE/xn78AIC/av15v4XA9//Sf33/aQAR/9T/4ABgQQLBm8DAQWtCdcJLAduCN8KRQf1A+oFqgSNAOUBXgHd/Nv+gv839TnzAPpS9Kjzgfsd+L71nPok/lsAigGEAUACjAJZAdwC1gZdCcQHDARoA+QBVPyb+un7NvZT8ErzF/cG9lX89QeHDbgYhR+iGmYa9xcADVMI5Q5JAzDusvCW50vWDN4833HXR+CD7tTuzO69/7cNuw5qD70UMRnYF3sXfhsCHqEURQhlC1QQowV7+8IAOP+u8/jwQfIl8bPxl+/b6evwsPPC6vr0oQhJCIwBqQwkEaEIcAvZDOcBMQGhBQb7ovvaAOz2afZY+v/0NfM9/HIAVv1nBcwHYwKfCeoIAACEBZQKgQSTBHcJggSFAbUF9/+X+zr+mfkK+9v+ZvfV9+UCpQHf+5YChgI//CUAtAFT/n//TwIxAjEEuwUsAkj/mPwT/Dr8Ifkq+Uf+SQDF+4790wPDAZP+IgEZBBED6wAcAcQECQUI/4j/dAIm/mT7tv2o/yP+rP2E/zQAlACU/6YAigMWAoD+pP3D/2b/a/8lAOH+rgCaAGMAnAJYAv3/AP7aABUAWf1X/h/+RwA/APb/rAKGBIoEggAbAKIAYP28/PP/kAC0/Vv/zAAdAsQCDQBNAkQDhwEAAZYBwQGS/o7/RwGwAJAA0P7I/5cAcf6d/Hr8Iv6a/7wAjQL6A8sCAAFK/+T7YfmM+EX4Dfjy94P4EPqb+9r6wPr6+3n7I/5VAa0AsAHCAdv/QQFoA/wCiQPdBIUDgAPJBMoExgdUC/YKSgyEDvcMIgy7DSsOrQynDB4NkgxfC7oImAYtBIz/lPkS9/PzGPCD8SXvwOsl60Lpgedq56no/ufB6m/uT++t8qb1qPeB/G7/Nv1Q/0YAK/up+IL3G/hT+rT9CwE+A0YHqgo1DV4PPRAgEE8QARLZFLEb7iXlMBA6Mj4eP9Q7GTe2LLMcYRPzBIT2xe8653vfwtbE0knMRsdsyKLIHtMT3D3m6/J9+10CiASBCe4ETv/t+gfzR/Kn7BPs2u2v7hHzBvUR+lD52Pfx9cjyLfKM7aXunfAs84/4pP2LBJAGogrxDlIR5BNeFOAXzRkhHgkn/DE7PotF20ZCQxM+TDfqMBslChfTDIYCAvse72TnrN+l1ebQWskTywbOd9MV3BviLOs177X5rgAoBikNPwoLCbYCq/2E+NXx4Oxs5sflIOH84BLikt9p47XlyOnY7uH2yP7TA5sHjgQsBJ8CPgAkA7MFKQYHBW0G4AS1A+8FtgfMDRcV9x4hLjY+vUUOSK1KWUStPM80dyimG08OlQIi9wTtS+KP2x7YKdCcy3zLL88u1r/ex+WE7q77ywFuBnALwQ40D78LuQrnBcn+O/UK7p7qxeDY2cvZCNuo2QXcJONL6KLu6vP++Fj+VQFUAjgDlAPjABn/Q/7c/LD7R/t++lv5O/z6/swAkAkYFjoleziwSBdUTltuWyxVz1A4Rtgw7CK7E4oAifHb4gDYrM0qxx/DVcRUyqnOMNya5p7vcvxPBMUL4REUGakWPhLnD5oF6/2Y9TzxPOtL4oDcDNg02Z/V49YG3DDetuLx6O/xc/Za/UMDCwQoA9QB+gS9BesCCv14+uT3JfIU8s/0u/jJ+74DMxEVIvU3/krYW21ng2h2Yt9aN1BNPX4pQBb8AhLypOF51qLNc8QkwKnCTsnl0OnfDPC6+asClAp5DyQRjhN4E7UNtATe+wT3GfD/6ADmYeRY4BrddN5j3cXb8Nul3erfP+Ji58TtRvZP/WMCoAaPB7wGvwY2B0MERQC1+Vbyc+1Q6f/qkvAs9mD++g4sI1c4KU/gX7Js+HC4bVJm6lkrSC0vExm6ARHtS91yzirFlr4gvr++nMaS02biFPUIANML+hSdGbcYWBejGBQPfATg+VXyWuqi4HXdgdsl2pDXO9vz3Hfbtt03327iFeSl6PXtJPVN+xf+3QJOAgsA7v6OAG/+gPo9+LvxK+/A7OrrN+1d8Ef1vP7YFf4rz0NpW2BpS3PmdOhsAV5yUGA92ybCFLj+8+xO4EnUHsprxk7H9cpD1rjjefXPBHMNbhRZGWEY0RC1DQUIx/wh8MflwN+014DU8tNo1MTU/NXL2yXeEOEQ5Vvp7ew77tvzEvhE+Cv6tfvO+2z88P14AcUCSgAP/9b9C/tL+Yf2mPCy63zrfvBu++gPDiZkN0pMxF7QaXVxUXKsa55ayEZQM3Ybhgvx9+rjrtnGzDjHhsd3zKrRJd6d8Dz7oA3VFn0anB0gGZURXwcBAjXzEew25C3YrNZqz/HP6tFj1LjVR9oK4hTiTehC6Grpb+0o8HXzMfTJ+GP5jPy+/i8CkAccBvUDHQHa/rz7hfva+nP2k+2p5eHm4u1p/NMO+yVsO9FPzWXudv9/EXqpbL5WyUEoLQQWnAWs8BXjh9ifzv/JUsfzzT7TC96+7Lj/xROMGy4gCx1hFToJNv6O9Nrmwd100wrRGtGWz93SIdWx1rTYs97c3yviuOey6ULsTe6o8C3xOvUa+d78PwE5AbIETgdHBs4DRwM//yD38/MG7+vp7OZt5wfvffxPD6IlRz9WVepkynDsdnp27nDIZhRVEj9nJ3kQRP126TLZEc5GxkDDLMdp0t7eOexH+t0JvBMsF00YIhDrBA33fuqp4iLcH9e60qvRTs1fzGbQA9Nh1ejXQ9/t5A7s3/O/9833LvPb8k30f/U69Wb0bfPz8dD0Rfjw+1r+2wB4AXX+k/xa/In9Wf6FBYYNuBCrFeQcJChSOMBL8lplaXlw/mqQaBde+kvmPB8pLROU/1rwNOb04DjZW9Kn1CPTkdcV6FjzS/kfAOEGwwIS+173TvA+5nXav9gv3EraENmf2VbZOtX81nrcPd0a3m3gDOSH5TPn6OlK7FvsKemt6oDutPEM9Jf2pfnE/VEEewhSDJMMpgrlBycF2Qi4DeQTghizG8sdih95KcA4FUpvWIJiiGOWXlhcfFEVRcU3niOVEOL9D/G855TjU94X1jjW5tRB2p7kc+sK8o/4/Phz84n3ovap8GHuTesG6LbjfuC024rZRNOXz2LSStM91lbZzdvW2Zvbzd1+3mXkMOl/7VX0Af2TAM4EhAczBkIGqwXoBk8ITgkoBsYFngehCAsP1hPFFpsZTx6sI68vHD+FRx1RxFU0VBxY/VmtVO1PxkG4K7QW2gFA8Tvl09un0gTTI9I004be3OM+56/s3vNc9c/6Gf//+j/3k+1n57nim9+92zXYmdKaySnI78dEzDvQFdbH2dbaN+BU4rfl6umw8GX1g/zSAxMJFBDTDTYMjwzIDNMK6gogDm8KWAnJCQQL8Qy4D0ASFxRdGUgeHSllNOQ7XELcR4lJDktxUetQdUsXP54wGx3MCQn/i+775QDdp9h72VfX/Nyc3xnlCOSF6lP1bfZK/Ub5nvKG6Q/jc+E33mDfM9vk2hzUpcufyyfMxs9d0y7aLd+Z5O/mQOmR7qDw3fSh+ZEB5AYxDNoOlA1EDGcGRAQOAhkDwgbVCdsLaQx0EMQRLhR+Fx0XXhIyEEETshp/K6Q5W0M3S5FOt1CeUUlQAEmLPk8vRR2qEFwD+feg7DLfldJiya/JHM/R2wXjpuiS7x/vm/QS9jv1S+9Y517h9Nix2QzaW9tX14bRoM5sy27QF9Wz2wDg+uM06JzstPRh9sP37fd2+On7EwJ4CjgPURDeCgYGHwT2AuwExAnXDagOuQ4jDYQNjQ7aDiQRGBaUHMUjpS2yNTQ8aEJZRyRLRlDnU4xQX0kqPVcvah9HChH3/OmG3bnR78yGy8/MlNOU3Yfliu599av2C/ZC8/DwW+qL46Te0Nqo17rWO9rE2L/WYdHMzB3NhNCj1ona0uFI5WbqLfB+80L6zf4fBG4GTgrUDpEPjA6DCRwHHwZaBYUGGArTDGIM6wwNDZoN+g2ZDP0LIw+jFpAizzA8PU5JKVCAUvpTVFHuS3VDiDgtLG4hZRUoCS3+du1G3w/Uusp5ya/OZdeY4NzpJvJD+AL6uvmq+FvzTuqt4Yrc+NiV1xTYTdhX1QrPYsv9y/zPitaq3Erigefd6y/zifqj/mcC/QPrA2kFsggxDOMNegy7CEAHvAb3BmsJEQgQBo4FoQTIBcQKfBC5EaAVKhv3H54oVTBTN1c++UTuSaxMtE7HTIpFJjnTKrYbYw7DAj/1sOuy45zdnNp/2PrZW92o45LmUeut8jD1X/Z880HwC+nE4TrbXdXv1A3TYNY41/rT7tEN0knUEtd04NTmw+sF783xdPai+a7+LAC0ASoBSwFiA9IEGgfeBFED4wH0AacELgjrCy0OvRAhEnUVSRqUHT4f4iDbI0MoPSp/K8swajQrOfw+7kHmQfc+PTlGMKUoDyLZGGANgP8v74LmXt+j2S3bcNkT3D3fTOT66xXxFPTB8MbvmuhE4W3dXNY60a3PsdUQ2cPc+t493ivgQuDE4tnkKOZG6MDrH+5G8G32mfqA/Fj/aQKaBEoInwsUDCgL9AnYCOYIkQsKDikPKA5wDDYNXA/6D+cQHxK3EUkWjh0FJV0uXTb5PXBCk0YWSklJJUX+O3Q0OClzHOETRwfF+ZHsr+KI2xjXPtZw2ebcm92Y4rTmHu1P8QTzA/Bt57njGtzZ2EjX9tfS2fLZvtuc10bahdtF3mfjKuRv52fpN+0L7kbzGfnr+pj/WwPQBhIJCQ0aDbkKrgmkCLsI5QdRCMYJmguKC5gN5xAqEIIOTg4rEhgaWyMMKSEq9yrnLYs1ykLpTRlUOlQQTBZCMTZ1KTselA1j+tTrpuBb2Z3WEdf71HTSVNSa2R/jH+tF80/24fLI7dTn6+Xt3yXb09f10z3T+tK00+nTe9fE2rbef+Pn5VznqOgX6uvs0fRq+ZX+/AQEB00KCA8mEqUQzg7tCwoIPAYmBgoIYgrACl4IJApSDBwNeBLCGDke9CMWKmMtGjEUNxc7tEF3Rz1KpE2tTDNFMzh3KzQbmAi1/BPvLObp333Xl9ML0yjU59Lk2Mrc/N9s6FTsOfGR8J3tluZS39nZ9dTv1QnTXdJ00LfOTND01PjcBuG+5BHmU+ky7VfxN/kC/wUCAQXqB5AJOQ21DpIMeQkHBnsFHAhVC70OQhLMEnQRBxL5E0wUWBWQFhAXyRnRHQciqCa9LGU03jx9RCpLu08DTp5Hij6mM9Em9BTWAzr0huUH3HPUzM24yPzGeMhBz9HXKeCP6W7uWvJJ9ODyVO6G5uDcktQn0FvOBNJn1wza+drn3M/el+Lu5LvkmOiu7A7wifZ9/60CEgVUCDMH7geUC+4N5A1ADvUKYAg5CLMHUwvrD0EQsQ1IDdsLBAzyD9AU0RnBHPAdux/EJbotXjnAQ9NHIkyITJJJ6UXLP/w1QicDFUT/cu/14mvXvtCIyQXIw8gdzsrW/N6g6PDqp+zl7PTtq+3+6tjnjt7J2A/SVdHc1DjX+NrE2eLatttt4HLjwef7747waPXJ+n8BmQfJC08NGgq4C6AJbQmaC1MMiws5CRMIpgbtCpAL/QpcCZgFdQWhB5sQyBrnIvMkQSZBKAIrvjNXPjhIO0qjS9JKiUVHQe85RSvWGOoHaPND6qPkFNq/1GvN+8cOxm7NFtMt2YXhe+A55j3qaeyN7RHsROb1283YzNGL0zbaJN4D4aPgPuM/31LiguZq5tTp6uvz76j1RwAxBckKVhDbCwYLGQxBDQsOew5jC+gHJQf3BPkHowvkDFsK4AjTCPQHeA0PFCcdIyQjKT0tDDDxNnY7GEQHS1BO6U5DScJBpjQKKkoZ/Ab19mPk3Noi0UTMGclsx1DI9sja0r/aMuWW7Pnvv/Pi8Cfvt+q65ubf3tgR10PUw9X212DaMdpb2TLdnt2A4MHmBuqX7rH0Z/o0AcsJpA6kEAIToRLjEdoQtg8nDSULjArnCAQLTQyrDO8MJwwmDMoMvBKTGCcf/CZYKIYoJCtULos02T7iRTZJzEy8S/5Erz1OMxAhchAlAGHvDOa93brVlM2EyQ3GBcbFz9jVg9364zzoW+uk7qTwr+sc61Tkrtwm2dDXZ9Z91PDX9NW12lTgEuXW5qjm6OkJ5qHr+PHm+e4B0wkiEl0RBhXiEzkUUhInDvMNTAtOCkAHOAnHCBEIWAnVCHkJVQpdD7sS1Rr2IhUn/ysvMRQ4fDwfRcZKSkoxSytJrUXGQMY3vilNGAUEEfJ+5KfabtPTygjG1b8nv6XFncxj103e/uar6j/uTPLU8NHxqerm5n7iV96S29PXAdi20TXW3ddq2XXhKOP06H7stfIh+LwBEAvODS8UZBXUFl0VIRO0EIcNxQyBBuUFWgi5Bs8G5giYB/wDXQVbCHUOAhkUIRYlzilyLOQvZjqNQRJJB1HqUZRPuUttReo3NCx6Gx4FFvbI5lPbys8vymTFy76zxMPFoMsz0i/VhdyR32bncOoc74nwfusq7DLl6eAt3MzZy9h81VLc0d+q4wjmXumO6nDn5+yO7vD06fvJAvoLVRCNFssVghd8FQYQTBDKC8AIBwZRB5YHuAfuCvMIqQnSCBsIZArVD2MW3BpMJG4slja8QctLFlREVWNX9VP9TQRGiznBKhwXtgQE7ubfPtQ4xpDCsbvKuXm7dcRGzk/T2uF95lrsQPNT9bz3G/NQ88vs1efB5CTcxNsJ1v7SW9aX2bHaW9xT5F/jKeb07iDy6vfd/gcGwQrsEO8UjhTmF/EV1RKTE1gRdw3ECj0KUwWBAhoFOwNlAigFLQjHDBMWlh/JJikxSTtfQytNt1c+W8pblloQUABDUzh2K1UZjQrE+4voftt60HnG+r9UvsG9t8AkyzHSPduC5EfpY+1171HyofIS9PfzCPB/7armrt7J2MfTI9H+0HfUbNZY2ZLeWuPC6QPuofNG/FwDOAm7D9sVTxaAF2oXmBPOEVkOCwrcB0YG4gPcAiIFIgXLBawHpQhWDL0RIxkTIPUl8ixlM0Y71ELASv9QglTwVflSgUxKQWMwjR7VCtP2F+WV1mzKcL/Iu/y6fr1txI/LWtSp2rPi1+lX8bH1f/cn/Ej7mPjg9XzxIelp32LZLdSM0lXSGtRg2e3c698K5qXrB+8M80f5Dfwg/4IFAQoLDhwRVRLVEdEQJBB/Dk4OwAzvCtsLYQwlDa0OphAVEqQSChYbGt0eoiWaLi04mkFGS9JSvFeYWXpWeE4JQ54xxx2VCg724eNb1mHMvMIrvf+7Qbylv/LEbMti0mbZiOA25/ztZvPn9sv47PeB9YDxWewZ5zPiWd0q2KzUp9PN1HrXP9uU313kPej37Ab0BfstAWgHqQ2BEHMSbBWdFz4XExXGEasNLguZCbYJawrJCWoHYwdQClQM9BHTGSAgxyWDLt05iUTcT4BYUV0aX9Rad1N9SZU71ymzFaECTO+i3UnPQMPEugy0grK8tX+6P8NbzGbVBt7u5hjwt/UB/N/9Ff0K+hT0G+4B5r3hK9vr1nzVONSg1enWTd3T37rjnegK7E7xtfVh/rID0AnIDgQSMxZdF78ZLhiHFkETjA+gDvsLIgs9CmwJMQdEBnIJWgw+EToZUyF6KcAz8T8nSz1UblsNXvpctlc1TQxAbS9BHAYHQPT+4sjQJMTauUGyYK4jr0u1Grv2xaHPj9nf5P3qH/MB+I387Puw+Sv6qfNK72fpM+X43tvYvNcT1CnVJdU02G/cQuDt5ojtdvgC/vAEcw58EywWNhmnHgAdGBthG5YYlBWtEy0TaRDRDlUMCAn7CScLaAyXEFoXbxzVIm0uSjmNQi5NQlWpV4VXk1SyTHNAfTHAH0QL//e75efV78klv/i3f7S/tKq3ML2WxgvOlNQM3FPjXOm77brzJfcz+Nz4mvf59H3wTe7O6lHm3ONl4JjeINxi3KPdjN4p463mfe2p9HP81QVODZsVBxp4H4Yj6yP0I8Igkx1WGBcVNRI6DroNCgxLC1ULZg2EEI0SRxhLHsUkJi0JNl8/ekZ3TIZQFlC3TOJEtTi9KScXoATL8pniO9Qzxy2/NbeCsiqzgbVtuk7AdMrB0XfZCOQK69/yLPcV/JH81Poj+uDzFfLn7MToJuWG4JjgeNzO3pTfruAN5Qbn7O6R8oH67wKlCGQRKhaUHn4h3SM4JxglNyU4IekeERutFecSpg3IDC0K+whYC/AM1RF/Fr0e4yYdLxI6DkFJRw5KkEo9SNFA/ThTLMIddQ0Z/aTvkeAn1VDKlsFNvOC3Drntun/AU8bwyzfUR9lp4Yvn3+zH8QH0/Pe/9p73Mvc89D7zMu8M7s3p0OaE5QTiEuNP4j3k/eaf6m/xpfWZ/QgF8AvzEl0YqB68IBgidCLKIfQgsh26GqMWrRK6Di4M0wtwC6kM9A7GEiAXMB38JHUsFjSlOkRAPUO1RN9DLj+AN1MsvR/9D6UAEfJb40zXoMuMwwG8AbiquHe5Cb4ZwjTJUdA91rbeOuSl60/wC/Qb+J74//kS+P33Zfbw8nXytO+p7WXqSekn6HXmO+lq6gvtR/HN937+hgTZDZ4UihoyH6EizyRfJFYkBiKZH3QcxRgyFm0T2hEeEPsPERC8EOwT8xd8Hdsj2iuDMuk3hT0eQOlAYD8ROw8zSCigHKsN6f5s8azjjdfzzJDEXL1cufC5ULsUvwXET8l8z0rV9dyN46LpEe+d8rH2aPgU+mX7uvtN+0z42vUi8jXurOp45y3mBOWR5RXo/Ozy8nj6xQNJC2kRbBfuHO4ekiAyIr0guR74HEYbdBcjFdgTCREgENAPXhCSEAISmhQUF2kc0iG/JwgulzMJODo6ZjyAO/w2UjF4KIUcdA4EAbDzoOS72GbOP8Vnvoe5XLkduie+o8NIyRXRvdZs3tfk3+pr8GHzk/fm9wz50vmw+bH51fa79evxwO6a7O7p0OlV6fvqduy67zb1CfooAfIHDQ4CFNoYbxyaHnogASF/H9Ueuh2pGhkY0RUdFNcRDRHlEUERMRItFGQXqxtVIcwomi5PNOU4/zqMO/s5kzXWLRskAhi5CVv7tO2d4OLUZMuvw9a9W7u2u7+9esIVyJzNY9Pa2SfgeOW66yDwqPJu9HX2ivil+LL6PPsc+ib5gfZ+9DnxMe9U7Wnrruvp6x7v1PKm9wv+0gN8CrAPSxWZGd4bBx6ZHh4fUx4THeUb1xm0F3cVIhTmEioSTxIoE8MUtBeyHEUixievLJExzDSaNpU38jVoMmYrPyPLGKMLW/9G8lTmBtoM0PXIbcJIwC2/58Diw1vHP81l0XjX0dzz4Z3nKuvP70fy1/Ul+av6nv3k/Vj+Rv1E+735+fWY8+fwYe+17qbuUvGM8/X3NP3DAu0IjQ1rEn0VgxcqGQQahRoTGmIZ0hc8FusUExSjE6ATLBSaFPUVHBhRGy8f3iOmKOcskzGRNC42/zXjM5AvLShHIEUWgwqS/hnyE+bZ2tTRz8kDxC/B5L90wRnEVchbzZTS69go3qXjsugT7dHwuPO+9k/4C/pe+9X7Afw9+8P6OPlS9+71J/TJ8j7yw/K681v1uvhb/CkAOQWJCpMPkxMQF2gZFBrUGpYanRnSF4kVRxOPELMPcA+JD/oQWhPPFjQaIh+UJAopbS0rMZ0zFzTEM5Yx1Cy6JtIehBRHCbz+UfMj6E/entXBzbPHksSIwgXD9MQYyKbMmNFz19DcWeNU6eTtRfK39Rj4pfmN+/z7tPus+wb7L/l990n26/OT8ubxBPKG8kL01Pai+Bv9HwGrBEQJ2w37EQ4UWxdTGUgZ1xkEGZ0X3xTXEhYRjQ7UDhQP8w9UEuQVpBoPH7glGSuVL5I0+TZtN1A2WjRCLlImPx4eEyAH1PtL8eHlYdyd1BXNSsh0xWbEbcQJxzLKDc0Y0vfWddy34S3nZexB8Lv0S/fi+bj7JPy3/M37cPur+Qn4APbq8qHxl+9n7/jvW/Gh8y/2TPuV/z8F4wrYD4AUAxemGTAajhqDGTYXWRXsEdcPIg4XDmUODw8cEtoUaBmCHpsksyo9L0o0zzasN7U2DzTRL4UoSiEVGF0NCQOg+LPvlebq3lLYQtEQzMTHpcXUxCLFFMjUyoHPWtXO2w/j0ehf757zyfa/+ab6g/uM+kL6+fhn99v2YfUp9UD0U/QK9P7zAPUA9W/2Tfgo+679lAFKBssJng7bElsWhRhOGuQacxn2F54VGRPnEEMPDA45DjYQShObF5EdICQtKlEwZzX4OGQ69DmRNzQyriqrIREXLwsEAAj1z+rm4SraMtMPzZDJP8b+xLbFIscTyiLNdNIi1wTdMeSt6QTwP/To9/35Afv3+8X65PoI+Wb3efZ49E7zU/Ei8UjwOPDN8eHyNvXO9yv87f/AA6IIrwzrENQTPRYFGOgYSxm1GBAYoBaMFMES0BD0Dr8NXg6sEKUT1xgsH4Al/Cu/MUg2izhVOQ84wTMoLYYk4hmxDdoB0fbW6xniPtoR01XNNsluxvHExcSMxgLJC83t0UTXz90z5Ibqy+8p9f346foB/SD9yvz7+xP7fPlm9+r2XfWS9MnzEfMA8+Pyu/T89Yj40vti//UDDwj8DNIQyRTOF1UZRBqDGSgYcRXkEnoQPQ4rDRgNJA4uENQTdBhkHi0lWCulMDk1zjdQOJw3pTQOLx4nIh5PE+EHF/0U8mPowt+q2PLR3MzpydrGPsa3xhLIbcrPzdbSVteY3QXkE+r+72/0c/g1+tn7UPzg+xv8Pfut+oL5Lvl++G33Avfb9ZH1IfXA9a/2UPh2+2/+twKzB+YMAxFuFFYXNRgpGGMXORadFLYSBRGPD4gOOQ6lDrgQhxToGMMeQiUsKwYw1TNVNmM2+zRRMW4r+yPqGtUQIAY7/Kjy1Ok24tba/9NHzhHKmsbcxNvEo8VayGzMo9EM2ALfR+bK7NDyuffR+hz9FP5I/ij+zf0m/f77L/uv+Qv4/PYG9mD1+fRF9c/18fb1+A78FAA/BMUIvQxDEPUSZxSiFeEVWRV/FI0TYRKgEJwPgg8KEKQRthTtGCgd+iELJ4kroC/zMvo0OjXHM2QwpCoWIwcaSA+JBCL6QPAI5/jeaNjc0QXNOcnpxp/GKsefyQvM5s9j1HHZN+AX5lrsdPEI9lv5JfuI/b39SP5F/j3+PP6h/RL+k/xu+7X5NfdT9fPzWPTD9Ef31/oi/v8CCwjrDOIQnhRBF48XTRcEFt8T2RGNEJoPWw+2EN4R2RNTFz0bOx/qIz4pUy3aMBE0OTVKNL8xmy3QJt0e8BVIC78AsfZ+7ZXkQ90j1yLRn8xLyWXHWcZIxyvJlssd0DvVeNvq4ePoQe9E9IH4g/rr+yn8G/ws/Bv8dvzk+yH8cPsn+qz4q/Yc9XbzhvMw9Ov1Avme/HkBKwZsCywQNRR1F4oYARkEGDYWwBN3ERwQXw5RDuQONBCKEo4VShqoHq4jpShNLTkxbDMBNTU0pzEqLccm2R4fFUsLnQC39rjt/eSP3ZzWodB3y9nHqsVlxGXFasciy9PPeNUb3CHifOio7SryWfWZ94j5G/ok+wH88fza/d7+af9//o39QftS+L31+/MW8z3zQfUT+MH7QQD3BHMJZQ1CEf0TfBUWFqQVeRTkEnIRGRCJDzIQIBGdElAVjRhTHMogqiVJKloupjFpM1MznTEqLn4oZyFeGSoQbQYM/Sb0metH5MbdoNc80snNz8kNx17G3sbryBXNMtLQ15fds+MO6YrtwvFn9F72afdq+A/58vmP+7/8Sv6b/vb95Ps/+aP25PPu8ivz6vTP92/7zf8gBEAJsg2bEbYUaRYEFzoWlBUhFBgTfBKiEgMTfxPqFBgWKRjHGnYeriI/JxkspC+2Mik00TNPMiMv8CkoIjIZcQ49A6j4Ye/Q5xDhhdvd1b3QHMzhx2PFisSaxUrI3syR0m/Y7N7P5Ebqp+418i30BfUK9or2tfc4+Xj7Fv4KAPkAJwAo/hj7KvcR9G3yv/I89Jf3OvytABEFHglFDZIQBhO7FKUV2xU8FYgUlBTyFJIVCRbqFrUXVhgsGuocVCCCJKcpDy42MVsznjOwMRouDik9IjMaSBH6B9P+BfZI7mrnoOF+3FLXLtLkzXvK7sd7xwrJTMzy0O/WOd3o4urn8esN7y/xrfJB9BH2MfjH+mj9Uv+PAAUAEv4j+5H3sfSd8iXyDvOV9c34h/y9AI4EagiTCzUOZxAPEkMT0BOnFAEVNxV6FVEVfhWYFQAW6BbqGLwbxR6OItwmUSvJLnkxDzMvMs0vqSvyJeYeNxfUDq0FHv3j9FTtQea434vZ69MDzw3L7sg3yArJe8vnzhLTBdhy3XLiZ+cF7KnvVfJr9D72jfdN+VD7Ff2R/hf/U/7I/HT64PfU9bX00/Qs9on4PPts/uMBKgWcCPQL9w6jEcwTVBUlFrQWrhZZFkIWeBbqFl0XAxhIGRobXR1cICUkGSjFK90uezB0MPYu4it4J/4hWBu/E3ALxAI8+kfyc+pK4+Dcq9Yh0b/M0Mnqx83HgMmYzJrQSNWm2qTfh+Tg6FnsJO888XrzXvVl95/5J/xj/qn/HQAS/xX9IPp198r1g/Xs9n75rvx5/wEC+wNjBRQHXAlADHUP6RLiFdAXjBgVGAMXbxVJFOETPRRkFW4XVBrUHfchCib1KU4tmi+HMM8v6C1YKool2x8jGQYSQwpKAif6G/In6nXiPtt51LHOM8rHx/jGnMfAyUDNcNHM1YXaQt8a5ILoWeye70jyxPQZ9/H52fxp/y4BbAEqAHX9OfoW93T1WfWw9qL5rPwQ/4cA6AH/AmAErgbLCaINXRGfFG4WUhd7FwkXbRa5FWEVvBSbFF4V3hZgGdAcICF1JY8psyy5LmYvVC7KKzQo7CNkHgoYBRFLCSsBKPlB8XbpZOK121bV0896y3zIGcfTx2HK4M3x0Q/W7Nma3VHhReXC6UPuZfI+9mn54Pvl/fH/qQGjAogCEwGf/lb7S/hN9tz1OPfy+T/99f/gAdACXwN/BLYGRwqfDuISDRbuF1EYGxcmFb0TbRNQFG0WKhkxHB4fJyJuJZIoPStALbMu5C6aLdkqBCclIjccwhWfDvgGvf5p9h/uROYr34rYFNPJzrbLoMnvyMfJrcukzifSdtbW2mPfS+T96JXtb/Fp9Iv2hPgb+pv71P0AAH4BtgGjABL+/fp/+N/2OvdF+QX8YP4yAFkBkwEeAsAD9gYfC8sP7BNJFk0XwRZbFTAU6RN7FK8VxhcdGjEcPx6uID8j+SUPKb4raC3sLQ0tbSrKJmUisRzTFRAOhwVo/JDzRusY5G3eednd1J/QKM0HyurHC8j+yXHN1NH01g7czeBd5SHpnOwL8HzzjfZO+Sv8Z/44AH0BsgHBANL+Jvws+V/3+vat94v5S/y6/sX/SwCmACwB3gLiBRIK3w42E+kV/RbZFlwVnBPhEoATTxU1GIkbVh7dIAoj6yT6JvMo7Cp+LB8tvSwCK/wnwSMXHuMWbQ49Ben7FPMf6zPkP97x2ArUas80yxzImcb/xqzJEc5s087Yhd2d4TPloug47HPwAvUp+cb8Gv8rAJ4AsgCgAG8A5f9o/nf8jfoG+Zz4/fgW+nj7kPxn/W7+WgBJA40HuAy9EXkVPhd0F2EW5xTaE9cTRRW1F4UaEh1mH6Yh6iNtJkopLyyELoAvui6PLOkoQSTaHsUYERJjCvcBDfmK8KroouHM28nWeNKwztfL5clZyYvKYs2I0QPWs9rJ3n3ia+a06pjvYvSk+MD70/3h/vn+P//s/4oAzgB+ABz/8/zp+p/5S/kW+s/7nf0o/3kAFQJQBCYHuQrYDqkSDhXZFSUVihPwEcgQtRAgErwUpRdBGqIc0B7QIBcjpyUzKMcqzyypLRwtiyuaKGojphy2FGcMOARW/Cj1MO7P5zfhO9r/0/rOocuryYXJg8pRzAvPD9L61X3acd9p5DrpO+7M8oz2Ufnr+wv+M/9eAJsBpAIrA+AClQF7/1n9tvsO+6H7Jv3n/g0AzAA9Ae4B3gM2B6wLCBCcEz0VoBTOEkcQvg4kD8ARlhUzGW8cUB7/Hu4fqyE/JKInkSvsLgwwES8mLFEnqiHiGogTWQyLBbn+5fYt7ybn7t6p17PRFs5qzDrM28wFzrrPc9Gn07XWC9sI4Dzl+OqQ8GL1r/go+q36bfvU/ND+kgFOBEAFxAMsALb7bPhc9zb4z/mU+6z8Jfw7+3f7hf1SAV4GfAtvDxISyBL8EeMQFBAVEMwQ0BKeFQ0YRxo5HP8dByAKI6YmKCqaLY8v/C7GLJIpdCURIX8crBYvD8kG0/219I3s6+UO4Mfartbr0sLP/M2IzSTO9c9E0yjXt9uh4FPlpelu7SXxVPQQ9435m/s7/f39E/7p/df9dv6w/8AAcAC9/j38m/lV+Nj4pPtd//cBaQPPA/kDHAXdCDMOAhNCFpQWQxQSEVoPFhD1EtwWjRlRGswZGhliGlgeCySHKSktYy6xLMIpCyfZJI8iBx84GcAQZAc6/jr2Ke9W6IjhY9qc003OsMtoyjTKmsrlykLMMs8k1LvZtd/f5APpZO188R72WPp0/Tj/qP+s/wUAwQHgA5cFhAXOAsD+1/rg+Pj4D/vn/Wb/YP99/mH+wf9ZAwAJTQ41EiIU3RONElgR0xAnEbkSCBXQFgMY+RgxGgwcrx5OIvEl5ihXK+4rqypeKPIkniDmG74WhQ9FCPcAnPi18IjohOH/2sHVdNKsz1zOLs0tzWnN0s5X0mPWR9yR4fDmU+x18Tj2MPmY+7b8qf6pAWIEIgdNCHgH4gSRAZX+/fy//dv+3P7q/Wr7LfnJ+Av6A/09AK4DIgbdB3YKegzXDngQaRDeD4sPjxBQEh0VuBd3GG0ZIRsHHZUgtiQkJw0oRSeqJUojfSGDHygbxRbVD4kI/AFo+jn0T+w85kzg1doP2JfTRNIP0GHP59C/0ULW/NgU3b3gmuNF6dDtafSI+Mv6CP05/fr/+wG4A+gEWARJBAIDZgOoA/0CLQMnAcv/CP9e/0UBRALpA4cD5QLnA6oEsQdcCuULpwwZDFYMLgsiDDYOSw44EBASsRMFF44bVh7aHyoiLyF3IBYiNyJHIsshfR5eF0AQDgpfA2j+3vlO9EbupujL4vrcUtll1sPT4NLf0jjTR9UU2OTZVtxs3/vh9OWV6w7wBvRo9qD3UvkK/N7+WgC5AkMDzgKeAs8BPgH4ANgBCwLIAbgBwgCWAPUApgEFAwYEMgUkBl0HEAiNCEsKtgsaDK4MPg4sDy0QhBIKFTsX2BkDHk4g7yFxIz0jUCPLIQUiyyBQHWcaLRWAEJ0JGQQq/6T3Z/Nh7iHqLeV54ADestgk17zW6tUA10vYzNo0257dgOAU4lLmwOk77RfwyPJj9SX3oPii+br76/3H/x8BygH5AP4A3wEFAigCugNcBGkDXgToBIUEcwQwBkUHWgjMC14NDw0wDtMOsw1iDjwQzRA+EXsT0xO7EyUX0Rh9Gf0afhq1GUcamBpJGb8YpRcaE0cPgw0zCZoEDwOj/T73M/Ur8RbrXOnw6Jfj/eDG4Wbf0t0j39rfSN4a4ALkSOVY51jrcO7b7iLxYvVr9Sz2h/rk+0j9CwDjArED7gIOBa8FEgVoBlIInweDB3YHOAXkBNoEXQNsBGEGGQTFBiMJ4gXACYAMRgm7C+wOqA2EEAYS+Q7LEiYSxg5NFYoSuQ6wEwETvQu8DfEU7gZOBwgRlQEjBpQKxvm4//ICuvIt9jn9KPDT7kH2Bu6C6F3ty+qG5djpzunx5ZjpYeqs6Bbs1e0I7Srwf/Kq8pL1j/iv+Tn8j/6H/y4B6wEVBM4EngRnB/wF0AXiCeAE5wV6Cy4BBgYLDML9jAYiDHD+Igj9CfUA8AhNBd4DJQqYAoMIPw2XAVgJbAwWAGMHSwxUBHsHHgmaBdIFQwPJAzsDgf+rAuQC5/x+/iIAvvo5+y38ifnP+WX5WPhM+Q/5yves92b3VfeO9iT3r/hH+M/4hPn2+MD4EvmY+dj6s/vd+3b8o/zt/Mn91v0s/mf/EgDU//r/ugATAM7/IAHAAHMAGQJDAtoBSwInAhkCpAIMA0kDoQMNBDgFzgVSBeAFbwanBZ8FsAbpBr4GTAcRB1wFpQS/BPsDowOmA5YCcAHXAAsAhf9m/8L+Ef7X/QP98/uN+w37S/rK+pH75/oJ+y/8ivv6+i38o/wG/f79s/7L/sH+ZP8w/zf/AAApAEQAYAB/AMkAxAB6AJAAoQBeADUAUgCaAFwAHgBAACQA2v/M/7X/e//g//f/IQC2ACcBCALoAekBkwL2Af8BrgJLAsQCfAPJAgUDPwMGAuABMgKhAbYBjAFxAG8AagCZ/5L/qf9f/yL/u/5n/k3+2/2j/e/9uP0U/rT+Lf4l/rv+bf7b/tT/i/8bAAQBkAB4ADMBWQGuAYAChgLXAs0CaAK3AokCNALVAYEBigEBATgAPADn/87+3f78/ib+Dv4T/nf9Uv1O/Tr9mP3w/ZH+3v6R/hv/Ef+z/rT/JwAgAI4ArABqACQAKAAPAM3/8v9AAPP/wf/X/6D/uf/D/7b/zP+7/5P/nP8KADQA8P/8/4YALwD0/8QAjQB4AAcBJAFGAfgACQElAU0AtgBlAdEAdQELAlABbAGGAQ4B9AAVAVEBPAEPAfAAhwApAMD/I/+Q/jH+u/0l/Qz9Hv3w/Pz8Pf0y/fb8GP1p/Wb9wv14/oD+kP4F//3+If/K/9r/z/+9/2P/gP+m/57/2f8HABEATwBWAGoAsgCiAPIANQEPAQEB/wA3AW8BggF7AWoBOAH8ANcAkgCyANYAxgDoAOkAwACLAJ4A7QBVAYYBzQFDAgAC3wHOAX4BrAG6AbEBsAFPAaIAIgDE/1L/9P6+/sX+Wv7K/bn9Rf3w/BD9/vz5/Cz9PP07/Yf9zv3+/T3+gf70/jP/GP8H/y3/T/9N/4r/zv/L//j/PwBWAF4AeACZANAAMgE2AU8BhAFCAWEBegE9AZgBsgFiAVUBLwH9ANUAqgDiAOsAeACiALYAJQBPAMUA/gBPAWcBAAG8ANoAygDvAF0BVAEDAcQAagAfAAwA1/+R/3j/OP/F/pf+k/52/oL+rP6Q/m7+av4t/ib+V/6W/r/+p/7z/tb+mf4t/wL/t/4R/97+tP5L/2X/Hf97/4D/S/9u/5r/AwCBAPIACAESAQ0B7QAkAUgBmQHKAZYBrQG0AYUBdwGDAWoBUQEYAdQAzgCLAJ8A5ACpAKkAwACCAHgAqACnAHwAegB8AFMAWwBCAMv/h/91/yL/3f4G//b+uv6x/pf+cf6Z/qj+lf7//hr/0v78/h//Df8l/2//l/+B/3n/Wf8//2b/V/9D/1//Kv8O/2L/VP9S/6H/T/8s/6H/t//m/3YAwwDzAPoA8wALAfsAIQFyAXABbAGuAY4BdgG8AYcBRQFpAVkBNAF+AWcBIwFBAQwBxwDGAK8AVwA5AHoAVQDm/9X/xv9t/0j/H//c/u/+AP+a/jr+LP4b/iD+UP5o/on+0v6//rj+Av/2/hX/lf/w/xgAJwAmACgAQABWAEkAPwBWAEsALwD8/9T/8v/j/9n//P/a/6D/vv/p/8P/zf81AFcAZQCzAKkAkQDUAP0ABwExATMBDwEmATQBHQErASwBNAFTAT8BKAEJAesA+ADeALoAyACmAD0A5v+k/17/H/8o/zD/+v7v/rX+Pf4Q/vr91v3w/RX+7/3s/Sz+K/5R/s3+EP9b/8T/4f/n/xkARwB+AKcAtgDaAPIA2gCrAJUAgQBfAHoAiAA8ADQARQD4/9j/8f/x/wEAAwDl/w4AOwA/AGYAYwBKAGMAWQBIAGMAZgBfAIIAxAD2AAsBIAExARcB9wDhANMA6QD9AOcAvgCPAEQAHQD6/8z/zv+v/3X/a/8r/73+u/6w/l7+TP5P/hP+Av4d/hr+RP6s/gn/YP/B/wYAGwAdAFAAeACPAMAA8QAdASUB/gDhANoAxwC7AJIASAAnADwAQgAsADYAPQAeAPr/6//X/9v/BgAdACsANAARAAQAEAABAAUAJgBeAIcAiQCHAGAAQQBcAFAARABZAG8AkACCAG4AUgA7ADkA8f/C/6z/eP98/3n/Pv8n/w3/of41/iX+Wv5l/m3+nP7H/vX+Nv+U/+n/LABVAFEAdwC4AMgA8gAfASIBJQEjAfoA6gD6ANEAmQBiADQAGADq/87/yf/P/+X/5P/i/+n/xv+2/9v/6P/m/wcAJQAQAAAAGAAiACYARwBbAD4AIwAtAP//AAB2AK0ArADKANkAvAC6AL0AfAA1ABYAxf+Z/6v/bf8+/yH/yf6J/lX++v30/Rn+I/5d/pn+pv7A/gX/7f7h/k7/jv8OAKYAoADfAEIBKwE3AU4BpQHLAYIBxAGtAVQBcAHmAI8AxQBzAFcASAAQACMAFwDi/6//jf+o/7P/mf+R/7z/6/8LADEAIQDo/6f/sf+n/6T/4P/P/73/5v8pAE0AOQBKAGgAaABxADMABwAAAMD/gf9i/0v/Pf9E/2T/Vv/5/vz+zP6N/s3+ov69/gv/zv4j/5L/lP/T/08AoABEAHkAwgBoAOsAsQCUAMsBGwHgAMgBEAEKAWkBKQG7AD8AfgBYAPn/q/+g/9X/Wf91/9T/jv92/67/mP90/7H/tP/5/wQA7P88ADAAFwAyAFEAngDBAMoA4wBeAPD/7/8BABgA7P/E/6X/hP9i/1n/S/91/wMA7v/F/4r/HP+g/tj9qv3i/YL+if8DAXACxwF9APr/P/4s/R7+6fwH/JX99/yQ/KH9fP5O/xwB1QKQAkADfgQnBZ8EsQOGBe4EHQRKBRwDmAKDAUv/PQDD/+P/ogC6/mz+MP9H/n3+Rv4f/RD9J/30/YX+6f4r/878nvr2+S/6dvw1AbIHMg2IDZ4HqwA5/4H/DAL6BFv8xf4/Ab3yZPm3/Fz0Vv1V/bH22fms/q4BKADZ/8ABSAJyADEEYwgaBQYEBgFM/98B+gDKALEF1gIDAC8EAv7H/acBFvzt/dMAwPwUAFkARv6HAfL/CwFmAKn/MQFz/rH/0f/2/M/+VP+e/f7/jP+z/+8Bqf79AQwDI/9JAvn/gf9VAbgAAgLs/z0BsgEK/7cAtv9R/wwA4v+PAPn+tgBf/y3+dQB7/YMADQBj/a0Aqf2M/3EA/vziAJX+W/7pApL9YP5aAeX+RQDV/rkBcAHF/cgDw/85/QcEkgFD/0IDwgGeALcDwv7TAcMDn/zSBFsCjft5BJf+Yf07BIT6V/49AWr5SgEPAMj7qQCY/y39CAB8ASD95wBCAUH8+wAyAMH/uwPw/iz9YwMoABD9iANVAR3+OgKDBKwD/wDc/SL+qvph9+7+pPrC9Cn8w/sd/icEHQSdBkIG0P8LAzsMtwW+AWsGKAHZAkcCbv9CBDH++gHcBC323PtYAeT8xAF2/IP7LwKP/uH8oQHf/9j6N//E/lv9dAOv/JL9zgTR+x4BgAKk+04Da/6b/ioEEPxG/W4EVgAi/sAELQGx/TwAFf+1AJb99P+IAiH/CwNI/pUBEQJB+18Fkf7Z/Y8EHvoVALYC5ful/1cAUf55/9v+uv9JAt0AZwCQ/8sAIv/w/UAGyP61+pUGzQA2+koF/gBy/pIHhv5O/5MCvfy7/UwBogJnA3sNrw/wBSz+GPud9R74mAPC9Jz2dwHE7fH1Ov458sP2UgfRB5v2SAInC4f9sgHtCD4FbQRFBsoKFglCAIYDxwFo+QcBmQjR/WX9Dgh8+pX4nP9X/AX+q/KTCbUJqOinCkMJPe2QByEN+vl//QkHnwM6++b7kgfh/hv67wND/10B1/1L/o0F3vg7/0AD3v4zBa/5DQG9BWD2mv2mBPwBLf4NAawE4v1a/aoByAL0/t/9QQXz/qX2CgQF/IPx4wTi9jrzBAt9/loEVxR9BdcIgA9E/gYAcAbZ/Hz8bvnz9Gz1+vSj8sLxf/q4/AH3nP4BAXX++QJwAfUFlQWzAocIbwbcAqAHbAiw/AwEbwkN/5wDAAQmBRgABvxRAtj6VPr5/WT/jP+W/RICqQElAMwB+ALRAWQBhgRHApQAFvuo/VwGXvaX/DkJB/lX/DgFDgG199P+zQas+6T/YQCU+m77+/zW+xT7G/8PAAoENf/k/0wBA//0BzEAZgL2Brf/ZgEc/hoAs/4Q/dYACP7m+9kB8gUG+6cBhAQd+lr+B/tcAkIAxvw4B5j43v0zCSj/O/15B9EIafl9AOQCfP6T/3D8oQXj+pH7tgbI/Dj8hwI0Bo/8AADaBjr/nAEQAE4AnwI5AM77O/wwACr77PiJ+/UAPfxy+hgG0wNl+7n/XwuQ/+/73AwdAVn52QMaCzv+lvZDCskAn/Lo/QMHDvyz8tQDDwJj+y8AXgLdARL83QQS/6z6iAdLArcC3wVo/34BfQRD/cEAqQkfAr8AFANIAKP6IPSD+Yb1BvNoAC39EPGz+I8EVvqc+3YKrgTNAVMLOAv9ACoGgQu9BRr/7/4BDRIAHPudCC0Buf+Z+3QBwQgsAd0CzAhZ/+HsFfbK+rvs3u7iAZwCtvFECGcPJfu/AFkJwgq6/XgH7Q/i/JcBsgN9/tr2rvZxACL6z/tcASYDVQAI/yz9Nfch+1P4CwD4AOf7IAZQ/Y/8tvwb+EYDvQBSBfML0gPsDGQNnf9XBHIESvww/nj+Vv+iAHz72/8Z/lL16f3R/k39KwFh/qcCEgFj+6QDGQOf+ngClwIl/+kF4QFNBH0ELfoqANUB0viU/AoBHP+z/joAYwOnABP9j/40/gL96f77/qr+RgC2ALoDuP1H++ECgAAxAHj/5AEyBSj+WwHyAkUBNQczAFX9QAglAhP4of5K/3L6A//9/o39TwB3/9n/TACpAiIGdwUyALX+dQMl/bT5OAAXAEP+evyS/Az9ufoK/X8B3gH2AOkCdAJvAVYEWwNfBPEDhf6JAKn+dv2vAQj+zv01AH/+X/8kAF3+nf6D/3P8B/sH/iUBUwGF/zgDaAfRAiwAAAJNAMT/pQD0APsAEP7M/P78JPvb+nr8Zv3C/WABRARzAb8AQQNCBDUB7/8ZCK0IPQEdAosAvPuB+8n84/23/ez+xv7v/Zz/w/7f/pIBEwBs/mcBowKMAN3/HQKhAfv+xgDYAIH/6wDIAMj/t/6S/50AuP4LAJkAvf6//5P/xv8V/5L+0v8P/Wz8HACrAVcAzQDpASEAPv/NAEEBAgDaAWkCgwDtAOP+xv3p/wr+aP2CAY0AKf7m/w4Aov+f/+b/hwATALYBWwLo/3AAcgHpAKsAIwDq/7v+7/0f/wMAiP4L/7wA4f5y/wEB/gCMAOn/2QBzAGj/mP/eARQBSv5kAGkAuP+sATcCOwHU/1wAIQA9/jz/0wDg/9b+If/g/wL/jP4CAMP/8/4l/4D/a/+f//AACwEvAOP/YADW/1f+vf8F/wX9gP/v/6D/cACtAEoB3ABkATUBawH9AZ8AiACvAb8A2f4gAJ7/sf6Y/6X+2f5l/8H/k/+W/5QAEQDo/4EAQwAzAKcAiABnAIIAXgCNAFwAgv/F/5H/Lv/U/4//9/8oALD/FABGAKr/Yv8XABAAAABXACcAmf9f/3D/eP/X/3sAigD3/3IAPQCW/xwAvv8v/yUAnAC7/zQAfwB//0T/6f9NABQAmgBsAKH/9f8eAOn/NADk/0L/cQCHAAAAtwDfACsBaQAsAL3/Av9//5X+/P/bAJD/jv9A/2f/Nv86AA4BaABPAVkBcgD8/4D/3P+qAFUA7v9nABQAfP91/6b/dv/Y/sD/MgDa/0EAr/+l/2QAdADL/4EAKAFNABABTwDL/nH/MwD6/+b/ZADY/7b/Uf8m/6z/S/9Z/6b/HwDx/5T/wP/k/y4AAgBOAP3/5//VAG4AOgAkACUA1/9h/0kAgwBMAOL/GgBpALL/zv8XAPb/2v+uALUAHwCuAK0AlwCi/8X+DACK/4z+JQAYAAcAPgH8/3D/IADI/9j/kf/X/58A+P/a//7/zP+X/4T/0v/I/xoA3f+v/4X/6v+YANP/8QAaASYAQwC5/3UAQABC/1b/JQDQACQAPQAAAOP/FgC7/y8A7v/p/wAACACFAB4A5P/4/x8A//+a/6//2v/W/3v/b/8hAC8A4v9DACgAFADd/53/OQDk/5H/RwCkALMAZwBSANwAjgAVACcA8f/B/+n/DwDQ/1j/Pv8sAEIAjf/N/6//lv/b//j/sv+i/wYAMwA9ALz/5v9pACwA+v8TAAIAVf9B/8T/6v+d/7z/CAB+//r/eADz/yMAfQB1ABgAVgCPAA4A/v9KAJcAKQDz/zcAAAAIADsA8v+Z/zAAtQDd/3j/PwDz/zn/tf8LAKn/h/8rAFIA4P/+/zYALQDh/+D/mgBEAI//QQBKAL3/1v8HAP7/kv93//T/SgAGAAUAOQAqABIACgBWAFMABAAoADEA+f/+/8z/q/+4/6n/xP+9/+r/JQA1AEsAlgBvAMb/+P/8/9H/QgA+AAAAEAAAAND/2v8RAC0A6P/Y/ycAHgCN/37/RAD0/6n/LAD8/wwAIgBKAHQAKwAVAM7//P/o/8r/LgDT/53/wf/h/7v/yf8IAMH/0f/5/9r/3f8sAB0AAAA7AD8AQwDp/+b/CgAVADkA7/8PABAA9P8LAOX/xv/I/9//4v8nAAQAkf+2/7r/nP/m/+//4P8qAA0AIgA8ABYALgBNAM8AowAUAHIAlwAVAAAAawCWAAcAnf/G/2b/R/9U/1X/hP8W/7//UgCz/wkAjwAsACAACwEKAQAAFABwAOP/jP8BAO4ARwGZAacCiwK0AQIBGwCz/z3/gv72/Qz+Sv5l/Wr9hP4u/j7+Rv+g/0H/o/+TALD/sf+XABkA3P+9/1sASgDA/6gAywCqAKAAmgD8AJkAbgBnACQAJgDY/w4AZAA4ACsAZgC7ADoAlQB6AZABvQEtAS0BxgC5//P/sv+s/9b/MgCWAAgA2wAEAQgAMwBKAB0AtP+j/8j/sv+w/1P/Jf/f/vP+Pf8w/4r/tP///wIA2P/m/3X/XP90/3r/kf/t/ygA9v9OAFcALgA1ABUARgAHAOH/yf88/xX/rv5E/l3+qP7u/iP/2v8kABcAXAB5AMYAiwA7AMMAngBCAIQAcwBnAH8AcQBPANn/7P83AAsAMwA7ACEAcgB0ACQA+P+l/1D/WP9W/0z/3v9qAGcAaACAAJoAVwAmAFsAeACaAFIAXgBmAP7/GwD5/1wAhwDw/zgANQAKABYA6f/C/3z/r/8BAAcA9v/n//7/+P/x/wMAJgBtAG8AbABwAOf/y//e/5f/jv+D/9j/zv+1//n/0f///xMAGAAHAL//yf+3/8X/iv9Y/5n/iv+u/xEAEQD9/xUADQATACgABwAPADIANgAtAAYA/v8fAB8AGAAaAAEA/P8gAB0A1P8DAGkAPgA5ADYAx/+g/8X/o/+M/7b/1//9/yEAgwC8AHAAVgB0ADUA6f/s/77/v//c/8j/BAAPAO//3P/S/9v/zf+//7n/zv/J/8n/xv+t//v/8/+Z/8b/+P8JAAkAEgA0AAIAEgBHAE4ArwDPAJMAYgAqAPr/zf/y/wMA7P/s/9b/qv9r/7//z/+b//b/3f8AABEAxv/b/9X/+/8FABwAPQDv/wAABADY/9f/tf/G/+v/HAAsAAwABwAQACYA4v/f/wwAEAAyADcAQAAMABkACgDi/ysAQQBAAOz/9P8MANr/CwDu//f/BwD7/xkACQATAAoA7f/t/wQAAADf/+z/EAAfABAAOwBCABkANQAtABkADwAbACsACgAYABgA/f/r/93//P///wQAHgAOAAEADQD0/9H/5v++/7H/1f/K//n/5//l/wwA9v8iADMAMAAVAP3/CQD2//z/9v8hABsA+P9GAEQAIABnAJ8AZAARAPT/5//Z/+b/7v+7/6//wP+T/2z/Yv91/3j/Zv+u//H/1P+4/+H/+v/w/wQAEgALAO//FgAfAPD/7f/Z//L/6P8AAAsA5//z/9/////U/8H/FAA7AEYAGQA1ADMACQAYAPb/BwBBADUAHQAsADcALAAkADUATQA5AFsAcgBQAFQASQBdAHYAWQBEAE4AQgBjAIIAiQDMAIAAcACiAHoAqACwAGcAQwAyAJ3/gf+7/4//uP+r/7X/n/9x/1P/+f4q/y3/BP83/xn/9/7k/qn+tv7B/uz+YP+c/7v/y//f//L/DwAUAPH//f/j/9H/4P/W/zsAVAArAGEAYQCpAKQAkQDSAJ8ApwC3AL4AygD4AE4BdQFUAUkBkAGGAdgBCQLlAQMC5AHIAaEBhAGpAeAB8wHWAYoBRgEzAf4AiABfAA0Ae/9i/+L+df4u/g/+Nf6g/aX9sv1c/VP9Df3//PP8Lv1T/R39RP01/T39Sv1N/Yr9Lv0q/cP92f0K/of+qP6a/sz+2P6u/sH+4P5Q/87/BgBqAMEA9wAcAYMB3AH9AVMCbgKnAqkCggINA1MDkAMZBE8ElQS3BMsE6ATzBDUFRQU0BegEwwSsBHEEuARVBAcEpAOlAnYCvwEVAaIA5v/l/1n/vP5l/oD9u/wZ/J/7Lvvu+sn6OvrG+Wj5QvkJ+aX4Dvms+Fn44Pha+H74ePij+Ff5WfmK+qv6C/vy+8T7MPz6+638H/1c/cT+MP9UACoBzgEUA2wDhgQPBWAFPwZXBksHuAegCO0JWQqCC5ILLAyODDgM0gxUDIwMnww4DCEMNQsAC7MJvQiACLYGDQaRBGoDZQI7AK3/Kf2N+7v6uvgD+Mv1hPT48kXxTPFm75Du8O0Q7VXtMuxd7DDsneuS7JDssu1C7gvvtvBS8TbzpvMG9Un3kviX+479/f8IAmEDwgWCBtcHfAnmCgINcQ75D2IRsBITFLIUuhWKFrkWQxcCFxMXjxb8FZcWCBZKFnAWmhXRFBAT1RCADkoMHQriBx4GgATUASEA+v3G++/5J/eU9f3xIPDD7WPqL+n65RblWON64k7iauBK4IXeft6C3qzepeAK4svkqeZ/6NPqF+wq7inwn/F780f14/ci+lf9lgGaBFIILgtDDrwQ1RFtE8QTFxUyFjoXZBl8GsUb5xywHcAdSx1GHdEc3BzmHL0cwxzQG0YbHBowGM8WJxTwEVgPKgwUCjYH7QSGAj4AF/4l+3b4LfWm8gHv6+vI6dTmBOVH4n/gZt533OnbMtub257bvNyZ3cfeoeDK4Rnkp+Xi52/qZOwn71rx6fPv9sf50/x0/70CogUUCAELyAxxD+URJxTjFksY6hnQGnAbTRyrHBYd/B3QHmwfUiCWIPAgCCENIY4hHCKaIpQiKiL9IAcgvx6BHMIaKRhoFQQU+RBlDs8LKAhsBm8C0/+H/Ej3R/Vn8EztC+rK5fbj8t+P3g/b89eS1gTTpdOO0lPTEdUm1fPYQdlA26bdO94l4g/k1OeC6yTu/vLv9eP5E/6NAZUFvwjtCz8OPxBvEosU5hZgGVQctB7SIGoi5iKdI7cjcyPKI5gjFCPdIn4iIyL9If4hDyJXIhUieiFvIFAeJx13GpsXRBVKEewOaQtSCJEFEgLR/3/8UPkn9nnzJPAf7SrqyuYi5JPg8t332o7YIdY/1KHSr9F00jPSbNSL1ZPXGNpx24net99f4qTkUedg6vTsOvFL9BL5xP17AfUFeAn3DNMPQBJMFRIXexmtHH8eYCHAI8slpyfUKHUqHSrqKe8poSjlJ08nzCYVJsUlMCbAJXIlBSXAI/Qhsx84HYYZehZXE64PiAzRCNgFIwIh/1/8Ifh09fzxRO7a6jnngeR24KDdp9on1y/VG9Jb0A3OaMypzBfM/M1cz23RadRB1tnZuttM3pLhbONX5yrq1u0A8tL0rvk+/XEBxAW5CJ0M4g4wEdISLxRmFtYXfhqWHEQegCBBIRUiNSI5IZogpB+cHoodgRwEHA4ctBvuG14cHBwqHAkbqhkaGHgVrhJ1D0cMrQkUB1UE6gFN/478A/r99rLzhvGn7rLroOm/5rHk9+Fx35vd8do72d3Xetau1dfV/NUE19rYndql3a7g5+PI5ifpv+vj7Vrw/vLM9Vz4Gfz1/6EChAbTCd8Mdg/eESAUPhVfFzYZGxuvHJYe/iDZIaMi5CKEIu4hUyGGIEgfeh4XHgkeeh2pHZ8e7R1tHhceKxwrGz4YhRaeE1sQxA0zCV8HTgQ+AqP/hvzA++j2DfZh8z7vPO6U6XPpAeYH46jiAd5e3cbZONdi1bbTRdX304XVh9eN2qrd4t8j5DHm0ujS7HHv8vES9Y34ifyK/2EDPAdUCngNtw8oEr4TOhV4FikYIxkIGhAcjR03HwsggyFGIhIiDyKmISMhJCBaH3wenB37HGQdpB0AHn0eCx4ZHloduBu7GSQXKhTQEC4NWQkGBnECFP8D/NX4a/Ye87jwDe7J6gXpcOUT45fgzt1M2/zXZtZH0wbSBNFP0AXRNtEy1KXVotiV3PPee+Ir5UPo8Opm7fzwKPT89iL7bv9PAzwIZgz2Di8QzhDfEJUQNBLrEjgTlRUhF9YY6Ro3HdYedR9RIOUfgh8rHzkfxx4pHvceMx+QIJkilCQnJm8mFyb5JHcjBCD3GwkX2hCyCqgDHP1g9mbwteqB5XThRt2Q2nLXhtSn0jrREtH10APRH9He0HDRHNL50jnVstdw2tfdpeHC5BjovOtC7jvxCPRy9kP54vvk/rYBmgSsCNQL6w6/EY4TkhVbFisXbhcVF6kXixeeF98X8xebGA8ZYBl6GcEZaBnkGG8YCRfPFpIWGxdYGG8ZuRugHZ4fniH6IhgjhiLcIOoc4hiuE0MNTgdiAOn5l/Jx7D3nF+A/3IrX6NIn0YrO8c2IzSHO488A0G7SL9Qi1QHYJdra3OLe4+JD5ofone3m77vyIfZh+Dj7WvwP//UAvwErBc4GVgmODL8ObxHlEikVyxXUFkEY4hcoGPIXSxcTF68WSRZAFjgWtxZkFs4WyBa7FcAVfhWTFV4WDBhSGSkbiB07H6ggIyJZIoohgyBMHXkZYxSWDUcHWP9p+InxwOnm5D7eYdm11X7Rmc9EztfOnc6z0K7SLdT11rrYg9s83dHfPuIe49HlVuiO6YPtyO8y8iX26/d0+0j9dP8HAk0DFQZpCJ4Keg3BD6YR+xNZFYUWURfPF+oXrhcVFzAWsBXUFPEUVBTaFKMVMhWUFjwW0xUzFqIVyxWoFhMYJRp0G1kelyApIesjWyN9Io0hmB0IGaISJAwXBM/7HfQX7Czkq95Z2bfTMtHWzlLN0s2Yz3rRY9Ss1/jaWN2M34viN+ND5c7mH+dQ6HPpiepp7GruNfAo8+f1mfhP+0X+CAGUA7QGoAmsC6EOlhF9EqMUBxbzFV4WAhYCFZ8ThRKEEZgPAA/2DlgO8A7zD2kQ5hDaEVwSehLvEmQUKBXxFv0ZXhvMHe0ffSFLI4ojxSPEIrUfShxiFsAPWwi6/374S/Cl6Kni0Nyf12jU69G40HjQ/NF+1A3WZto93bbfneLz5NrmTOcx6X7ps+js6CTq1enV6jfube9p8cz17Pc4+rn+iAHkBHYHygtGDtoOVxOvE4wTkBXKFRMUqRNRE+oQPQ+pDo4N4At/DBoN7gx5DusQ4RAQEiIUjxPKFCoWHBe3F/EZrxvdG1Yeth9lH9EgLCEXH5wdJBquFYAPKwlcA1b6rPNy7aflAOCc27jWZ9O80YjRmNGJ0lPWZNhl2hbfseEb4iLlr+bA5XTm6Oau5vDlueeb6QDqK+2l8EjyqvWo+dn7B/9cAooFQwiZCuANKQ/uD4wR6BF1EXYRMBEZEP8ObQ5TDRwM2QuYCyEM7wxtDlwQdBGoE44UcxWXFhkXURipGQ4bsxzqHpAfMiHJIskiSCOWIkYhbh5OGvMVrg/7By0B8vje76/oiuEZ2zHW79JL0EHPvdBq0a7Uldgl28vfJeLw5CHnguey6LTn4OcL5yHmUOfe5jPo4+l262PuDfF59Ur4g/yVAFkD3wc7CiIOhhDfEp4UTBW7FicWCBZSFbwUjxMLE7YS3xHUEf0RihGwESYSZBL6E4cUdhXdFQkWBhZQFnwXABisGWYbCB0BHxkhiSLOI44k0CPhIT8eVhljE0ELWgKn+gbwF+fQ4UPZHtQi0vHOss7vz+HSx9Ue2Sfe9OCB4+Tm4Odu6Croe+fW5vnjk+OB4mXhEuJ94+LlWehb7cvxb/bX+5sApQQ2CcsM0A+kEjQUdBUiFRsWIBUXFDUU4RIrEvwQuBD/D6gO0Q54DjIO0g6kDtUPJRAbETASAxH+EmISTRFvE18U1BTVFh4agRqTGysekR6fHe4dxByrFnsSWQ61A4z71va464vjGd8w2DjT4c6OzxbPe8uz0nrWF9QU3C/go+Bn4/LlyOj65U3na+hD5ZXlCeU35KXl8eVW5+3rz+558g35r/0tAQQGjgpeDQYOVhJVEzkRzxMTE60RLhFvEdoQ2g9YED0Q/Q9tEHMRdhCxEaUScxCXEcISahFdEZIR2RI0Ea8QcBTAE00VVRnQGtYbgB79ILIgTyKFImwf7hxgF2ARaApHAG35bPDE5Xrgn9nF0irQWs49zRfN5ND20xHWCNyz37fi+OWf6IHqRepY6+DqAekQ6AXnDuel5Szmheir6SDtZvCg9Yj6Qv6GBLwI0gubD00SKBPNFEcWBhYsFrsVfxSRE0sS4BBAEH4Peg5WDuMO4Q6LD80Q0xD7EHQRahGbEO4PCxBED8IOXQ+rERATJhUxGpwbVR5wIlQi0CP0I1MheR3MF9wRYAce/n32UOp04cjaV9MzzoHKtMrKypHK7NAS1fvXXt5N4xXmr+eC6xfsr+mA67fqi+fk5h3m4uXH4+zkpOhC6AbsUvJP9vD5IAE7B5MJPw9KFHsVKhf1GUMavhdtGGUYNhMEE20S+Q6WDisOSw41DdMNdA/xDUAOGBD7DrUOWxBPENAOKA+0EBQPgg8+E2AUlhUmGnAdUh7FICoj4SJSIvQgSx0oGJARXQmRAKj3H+1o5XXdetTD0bHNfsmmzATNCs7P1FzXNtxB4Tzk3ejU6R7rJu2y65HqYOtc6XTng+fO50PnEujU7LruJPG0+PD8WQDsB3sMcBB2FMQXXhoxGuIbnhsIGfkXpxZ2EyURPxBNDkQM+wtsDG4KMAudDG8L5wvEDCUMDQthC4UKCQkPCScJ9QjTCXAMkw5hEQwVKhn4HJsfkyPFJfskNyRKIjockhTZDYQDCfgg8N3lyNvF1ePOAMsayYPIg8vVzK3RUNd02prg/eT/54Lqj+wz7nvsJu007cHppeoA6zjp2uo87WjvvvGp9nb7TP7LA4AI3wvUD7ETqhY5F5AZdBqmGBgZYRdSFVQUwhHfD8INaQzNCkkJegl1CCAIDwmUCGAIMwkcCS0IVwihCKkHEggtCBAIWgl7CiANng9EE5QXYxqfHvshJSN/JAYkUCBJG5wVmwzdAQ75Ke5V4wnbddMezefIJ8g4yErJb83D0v7Ws9xr49/niOvI7y/yZvLb8wX0lfJ+8l7yovHp8YnywvPY9J72APob/Fn/XwM3BnIJ3QzrDzUSuhMyFt4WEBYFF7AV1hM7E14R1w69DE4LnAlyByoHpwY5BVgFPwX4BGME8QRmBYgEzAWLBqwG2QcWCIcJ/QpTDDIQcxIVFqca0hw4ILwiwiJaIocgJRsLFfQNOQMv+ervSORZ2yrU5MwwyYnGF8c7yfzLfNIV2CHeBeXJ6u3v1/Ki9tD4s/e1+VL5kfZO97z2pfXB9Sb31/iA+bD8wP+SAM0DkwZgB6oJtws5DSoO1A+aEeERrxIHEz4SYBGZEJIO/QsWCs8HbAXjA+oCIQLEAW0ClgN/BB8G1AexCLAJ+Qr3CgILeQsFC/IKhAtiDI4NQRCsEz8XEhwGIMwi3yRPJO0isB4AF2sQoAVE+Zrvw+It1+jOxsYSwkzAisHUxF7JR9El2Cng2+jw7tD1xvmC/I7/Uv7z/Qr+SPtv+k36fPlx+Zz6T/xV/Uv/WAFxAgIEiAVXBtwGWgc3CPUITQmECv8LYQxdDawO7A6NDg0Odw3MC6oKMgp7CF4HzwcVB6sGcwcNBywHgQdqB6sHbgeHB7kHAQfXBvcGvwb6BnMI0gomDdYQCBW3GEEcuR8ZIvkgmR9FHKkTmww4A8D1E+yu4CvVTM3XxYjCbMF7wk/H8syP1A7dHubl7p/1L/2nATgDEAaxBQ4ESAPfAKn+Mv2c+5b6pfrj+oz7Df3T/TX/wwAfAUsCTgPCA5wEzQW5BgcIAwpoC1ANkA/IEJcRnhIREkMRohCcDhcNYgsiCWAHDwZmBHgDNQPZAr4C+wKYA50DQwScBNgEgQWQBfUF1AbDCFgLRA5eErAWDBopHSwfDR+KHWIaWhSYDAAEpPm17pXk9dqY0bPLV8ghxr7Hxcsl0V7YleC26IrwxPc9/qcCWgXtBtUG3QWYA68Bpf+a/LX77fp0+RP6d/r++iX8U/3K/jb/AgFVAuECjQW6BrYHlAqhCzgNHRBCEdwSrxOGEy4T0xF6EOQNzgt6CVMGEwXoAk4BVAGHAJEA6AB6AScCwALSAyEEtwTHBEUE+ATTBEMGtgmmC4gP4xT3F8sach6HHnocpRvQFWANIQZh+nju/OTR2eHQCMuNxr3E+cZgy+vPv9jo4Rnpf/OQ+6IABwcXCrMKMguuCd0GNgQNAsr+yfxh+1b5Zvml+d354Poi/FX9O/7L/0QBYgKABIQGaQiLCn8MLg7LD+QR0hJQE6oTpxKiESAQ6Q04DLQJMAeLBagDZQJwAVYBIAECAa4BwwFMAsEC7gIhAwED0gLaAm0D9ATTB0sLAA9XFB8YvBrqHmsevRzNG8oUJA29Ba35kO7d5LfZ/tA/yw7HAsVSx6/Ll9BB2ezh4+lA9F38QQLNCCgM+wzzDb0MkAlSB1cEdQB5/m383/nL+Hn4nPen9xH5uvnG+jP9Lv/ZALcDjwaTCGILTA42EGoSBBW/FfQVnhbrFAUTcRF6DsALKQmUBiYELwIYAfH/jf9aAGoADAFYAkUCtwIRA3MCAgJmAVcBIAFkAp8FfQjxDaETkxf1HDEgpyAgISUeqBf5EAcHFvuG8GDkrth00KPI4MJrwqPDI8e4zhbXxN9H6hf11fzKBBUMDg5/ELsRkg5uDKYJ7wRBAaT+OvsK+OT2b/VJ9Pv07vXN9t74n/um/bIAJATxBjoKRg3hDxASCxSnFS8WfRaSFk4V6BNNEsoPow0cC7AIxwbYBIQDhQLAAWIBEAGtAHUAKQA2AMP/Vv+W/8j+6/7N//wAfQRbCFgNexPlF4AcMCC+IPog1h6mGKoSuglJ/TXzWOea2j3SXsoSxH3CHMOwxbDLxtM63Pfl5fCq+ZYBfAl0Dc4PfREQELgNJAstB+ACa/8z/J748/VL9MLyafI782H0Ofb4+On74f6KAnEG5AkeDX8QfhLwEwwWThbaFYAVtxPDEQgQ0w2gC6sJEAhDBt4EWARLA0wDtAM3Az0D6QLsAR0ByQCR/4b+gv7I/Rb+UwC1A8sHEA0mE6EXVhzGILYgeyAqH48XzhCpCOT6GfB95WXYic/9yIDCe8Aow2/GUMxb1rPfPOk99QP/7AVqDfoR2RLKE8AS9A4NC1MHxQG6/L/55PUT8//ypfLV8sD1+Pcx+jT+QAEjBIQHOgoXDNsNXw8iEIYQ3BC+EP0Pog8vDwUOFg2UDOkKSAmBCKIG+AQqBPMCswFPAV8Ai/42/vP9cPx8/A39JPwJ/WL/yv/vAVkHxgorD+wWnxrzHCciHSJSHzIf7xjRDu8Hd/xZ7jDl09kvzivJqsRVwafDZciczSTWEeFB6pD0n//aBkAN9BJCFP4ThxNNELsLuAcSAzn+Svuj+Jb1JfVq9VH1dvfB+ar76f72AVgEFQeiCQsLEAyIDVoOXw4nD10Pqw4CD4kOag12DeUMCwyaC3UKRQkbCHwGoAT4AkEBf/8J/vv7FPr4+KP3m/Ym96/38PjD/CIBbwZXDckUkxs4IYwm/ijFJ9Ym/yHTGHwQAQTk9fbpPd2v0U/IU8LYvnK9ssHfx8DOSNlN5FHvj/oNBZkNtBJRF2EZORcFFtgSpQzcB/kCFv7F+Uf3jvWH83n0ofWL9nD5g/yb/ngB+gQJB+oIEgueDEMNIg6zDkcOxw5aD9sOww4QD7YOWw7jDQkNiQueCboHtQX8A98Btf9T/nT8w/oZ+lD5Efm4+bD6S/vj/PL/PQJ1BngMdBCsFWgbLR4EIQ4iXSCGHYcXpA+jBkn7iu975Uja18+pySnEScH3ww3IIs0V1ibgWOlb9Nr+TwYkDRETWBV2FY0V0xLmDqcLIwecAg//cvyd+er3Ifgl9yr3OPle+vH7+/7YAPMCGgaAB0UJNgsjDAINtw0aDjIOgQ74DWwNGg1YDGgL0QoLCm0IQAcNBoUEdQN3AhABzP9n/kf9P/yU+8r71/r1+uH8Kv45ArkHWgxeEwQZFB3zIX4jJyPNIdMbMhQbC/H+rvL/5ufbgdB/yPjDs78hwRrGdMo70z/euOcO83D+5wbLDa8T+xbfFi4WjhTlD8ML2gd+AqT+C/xn+VD37vb/9tT2a/ju+oH8Zv5AARQDKwSuBr0INQnwCqkMXwy1DBYOuA0iDZwNvAwiC7MKxAkWCFQH8gXaA4gCTQLtAbsAdAC0AJ7/Jv96AM7/LP+SAd0AkADPBBsGpQiNDnwRJxR3GCAbxBolG/EZtxNkDk8HXvyI81rq/9+V163QmcvNyLDJXc2z0SrZG+LQ6sz09f2uBVkLxA+IEsASMxKzD30MVwi5A6cAM/2d+nj5T/jF91b4f/mC+kT8j/7G/0YBVgNJBJkFrwflCMQJmQo1C58L6At+DJAMiQt6Cw8LFAkoCe8IHge6BvMFggSEBK4EAQQkBNcDeQLKAQMBaQAIAOj/zQD1AaUEwQiBDOkQOhWPGEAbORxqHPMZsBSLD1QGv/sV88rn3d0y1m/Ozsmgx3vI28ub0MfY9uBs6fLz2/yTBAQLag9MEo8SYhJJEaENkwowB9QCnv87/XT7Tfl7+AT5r/dR+EH62/lj+8b9UP4QAMsCmQRpBsYIhAo5C6UMCw74DVsO+Q3dDBQMdgqNCWIIAgdrBhoFUgRtBFYErASFBfsF9gWsBtsGxwXsBZsFGQR0BEYFyAXaBzkKrwyxDt4QnxMVE30TqhI1DZ8JyAL1+SfzMepO4hDb9dSg0bfO4c8y03nWpt0v5ZjsiPXw/D8E3QliDf0QLRGQEOkP0wyhCUgG2QJj/7z8/fr1+LL33fdg9073lfka+p/7gf5c/7cB1QOyBdsHCQnqCqYLRwx/DW8NcA3NDNQLOgvWCYAJEgnyB2kI1AeABzoInQcRCE8ISQezBgYGcQR4Az0DfAHSAWIDZAQJCFELTg6cEdYTuhX9FecVDxPKDUwJxQAX+OTwcOcL4GrZ9dPK0OnOZdET1GzYKOB35S3thfUq+0MC2gavCS8Mcwx6DFALzAn+B1EFbQPhAB3/vf2G+/j6KvrR+O34mfnr+S77RP12/nAAEAM+BdAHEAqdC4UMGw10DQgNeAyHC0cKdwmlCDQI1gfWB/kH0Qd4CIgI4giiCfQIEQlmCIMGHgb3BKgDFAO4AqsDwgS5B4AL6A2sEWEUARXrFTYVeRHQDAMHzf099abtXuSx3YLYXNN30bHRR9Mg14fcYeKs6G/vtPV4+/gA4wQgB84ICgl7CBsI7wZEBccDJwItAOr++/2Z/JL7ePoU+W34R/hv+Kr5Hvv//JD/TQLzBU0Jzgv1DW8PJhBYEDcQYw8hDr4M0ArQCMMH8AZzBsQGjQZqBgEHeAcYCKwIYgjJBz8HXAZtBcUEGgR/A+EDJwWMBvoIQQyXDl4Q6hF8Ed8PfQ52ChcF///a97/wCesH5LDf9NsM2bzY9dhl2zjflOP66EDu6/Md+UH9twF/BNYFRgfWBocGlwZhBWMEJANgAYb/EP6o/FX7dPqK+Tf5Lfl0+XL68/sG/ngA1gJaBfEHRgrEDFEObw/7D38PXg88DtAMtAsSChIJBggWB/MGyQZBB1EI4QiVCVgKIQraCVwJeAd9Bb4DJQGS/zL/N/+vAWEFhAm0DukSThavGNAYQBfxEpQMGwU/+ybymek74D7agNWG0bjRDdNW1ivcwOE86GTuQfTX+W79MwGUAycEWAXtBCIEqARoBHYEnATPA00DWwJsAV8ApP4k/fD6b/nF+An4FfmC+qL8dwB7A1oHywu7Dh4SMxSKFEEU0hIeEUEOfQtACS4GxwTDA5EC8QLJAg0DIQT+BBsGBAc0CPoI4wjgCDIICAe2BgEGWwVlBXEFRQb0BtAI1wpmC0sNEA2GC10KMgauAv39fvfE8u/sBejN5KDh7ODT4KrhseQl5wTrEO+O8vX2svmA/OH+uP80AfIBZwJ6A5sD2QPkA54CRQGP//P8pfpO+Nj1YvRd8y7zRfRW9i75Ff0cAcwE7giWC1AN8w5YDxgPmg4DDv8MKQyRDDMMHAxUDRQNUg27DWYMsguxCj0Jugh1CDcJZAodDPUOMRERFPAWSBhZGZkY3hU5EtkLugTW/XD1fO4/6Dji8d5+3Mfbltzo3RjhOuMD5mjp1epk7dfuru8/8p/zM/aK+e77wv9uArgESAcVCLgIwgcxBksEywBu/tb7E/lM+Hz3gfeh+ej7NP8PA10G7AlKDDMO/A+TEOoQqhDDD58ODg2XC04KxAgxB5MFMgTiArYBOQGPAKoAiwExAlwD2ASBBikI5wlyC+8L/AuJC5QKdwkNCOgGqwVuBLgDrgL0AeEBPQHmAOIAVgDV/zf/vv6t/Xz82ftN+i35MPjL9pf1rfOU8k/xi+8Y7wrud+3g7fjtF++88LjyGPVS98X5hfvG/PP9Dv4a/t79rfwW/Ib7DvvS+3f8bf0k/4oAOQISBIoFtwbAB4sIwgjdCMwIcghCCBEIEQhwCPIIyAm3Cl4LzwsVDNkLVgslC48K1wl0CZwI+QeqB7UHhAhxCfkKBA3jDqUQjRG9Ed4QuA5uDK8ITAQbALz6VfYY8hfuyOsz6bnnn+ZO5Wjl/OQj5Sbmo+ZW6M/paus47kXwufMt98v5tv3w/ykCRwTIBPAFPwWMBPMDuAH/AGz/DP7x/S/9VP5Z/3EAvAK1A4AFDgfNB4QJBgrjCswLkwsLDHMLCguhCiEJcgimBuwElwOkAfUA2v8r/3f/X/9LABsB8wEdA48D0gTFBSwGGAc0B0MHBAc1BuEFGAWIBDkEjQM6A9cCsgJ0AicCDAKKASkBaQC+/+P+if2z/Lb77PpA+nP5t/jL98z2dfXK8wHyYfDw7ujtbO3B7dHuNfAq8iz0U/Z++C/6Xvvo+w/8n/v1+mX68fn1+T/6A/tT/LT9L/+5ADUCywMWBfwFowbmBuYGrQaMBn0GYQbCBhQHZwddCDYJDwoaC/QLdwyKDIEMVwwmDPcLmwtZCx0L+grkCqsK6QofCw0LKAu4ChwKSgnTB0oGggSdAnwAIP62+xT5qfZu9HDyzfBX7zjuTe2G7Ansh+tB65frMuwr7YzuBvCx8WrzVfVp93L5kPsq/WP+af8EAHQAdACEAKEAnQDLANAABwFTAZcBEAI7Al8CzwJNA90DbQTyBGUFvgU3BuMGaAfQB0QILQiOB+oGPwa0BS0FzQSXBFoEHQSxA6oDsQPDAzYEhAQLBWkFhAWqBZEFegUcBZMEMASoAzkDpwInAgwCAgJKApQC9QJjAyMDkgIIAjQBRgBl/1/+XP1F/FX7kfqo+Rf5vPgx+Mf3ZfcD97j2k/a89u72RffF9+b33ffV93D3BPfJ9sz2KPeg90X4vvgF+YP59/mE+mD7R/wa/dD9yf4cAKYBdwM2BbUG2wd8CKQIgAgZCDoHDAbrBP4DLgOoAr8CcwOYBN8FMgdxCFYJ1gnmCcMJdgkTCasIAwhVB4IGywXBBTEG2QbZB64IOQl3CdAIGAhEBz0GWgUIBHACZQAF/q77Xfll9671L/Ty8pjxbPCT7xjvH+9r7wXw1fDI8dXyEvRd9aP2CPhR+Y/6Zfu++zL8YfxI/EH8RvyO/OX8Kv2o/YH+wP8UAWgC+gMsBacFzAWQBVgFQAUvBXMFtwUTBmIGWQZpBi4GxgWFBfMEaAT4A5cDTwPoAukCKAM/A8sDJgQJBAEEyQOeA28DTANxA44D4gNZBMcEhAUgBmUGIAZSBcgE9wMzA74CEAK7AS4BLAA9/zf+Rv1n/K37Qfvd+pH6RfoC+s75lvm5+Qr6cfrS+vb6+/rE+n36Xfrx+Zb5b/n5+Hb45/er97P30fd0+CX53vmY+gv7jfsn/PH8pv1k/nT/UADcAAwBLgFPAUoBeAG0AegBPwKKAscCMwNnA5sDvwOVA4UDVgNVA0UDQQPcA34EYwWjBtoH0Qg/CT0JnwjBBw0HhwaJBs0GMQdqB1AHRge+BuUFCgUhBHMDgQKPAfwAPABv/6X+4P1e/cz8FPxq+4H6svkW+VX4EfgO+BX4J/j+99v3YffN9k72u/Vl9YL14fVn9jb31fd6+D/5B/oq+3j8x/2w/ib/oP/1/ykAsQCAAV0CEQOfA+oD8wPlA64DgwNFAykDVgOCA70DuwOHAz4D5QK5AnACOwInAuYBnwFdAWoB2wGAAiIDwQNtBO4ENgUuBQcFCwUxBVoFmgXOBcEFTwViBEED6QGcAJX/w/40/r39b/13/cP9N/64/lr/DABzAK0AuQB+AEoANQA6AEYAPgAeAKH/q/6V/WL8G/vB+Y/49ve/99v3Wfga+dr5X/rl+mP7o/sc/M78U/0i/g//hv/q/0MAUgD//3T/AP9h/u392P3d/RP+dv4e/87/PQB/AL4ALgGqAeQBAgJQArgCCQNVA7UDGwRrBF0ELAQDBL4DfgN+A+QDYQTGBBoFTQUzBacExAPSAgkCbgH5APgAogGdApMDdgQ2BZwFvgWDBe8ELwQxAzsCWwGMAP3/fv/p/mf+nP2Y/MD79/oX+jb5xPik+OT4kPk2+q76zPpz+gX60PnH+Rj6n/pu+538yP3j/rT/HwAdAKj/DP9l/s/9S/3i/LX8zfyW/Zf+RP/F//L/6v/i/zQA7QDOAb8CoQN1BDAFtQX2BecFSQVNBEgDhwIqAgkCQAKkAgcDkAPkA74DdwPEAugBbQE0AX0BTQJsA1YE3AQJBeIEgAQ2BGAESgTmA4UD1gL6ARsBUQCf/+T+R/66/QH9Xfz+++L70/uI+2/7hfuX+/T7Q/xA/Gv8q/y0/Mf82/zR/NX89fwL/ST9PP0J/aD8IPyV+yj7Cfsy+1D7cfu0+wH8ifxP/Sb+J/8OAKYAHAGPAQECNAI2AiYC+QHmAfcB6gHvAQYC9wH6ARwCPQJeAnoCUwIOAtMBoQHPASgChwITA3gDpAO3A8QDAgRXBIcEtATeBLQEcgQpBMADVgPDAi4CcAGTABAAm/9P/2b/h/+6/+7/1P9A/1j+b/2K/M/7efuX++77RPyU/L/8xPya/DL83PvF+/P7cvwq/Qb+qP7o/gT/4v5r/vf9mf0z/f78C/10/fT9m/6U/zkAoQDXALsAYwABANv/2v8lALsAZAH5AVcCiAJvAiwC8AHAAbUBywHKAaABZQEqAQ0B6gCmAAsAVf/b/sP+Mv+6/18A4gA+AaoBIQL4AqUD2wPBA08DzQJvAjQCSwKCAowCZAKtAbgAyP/Y/i7+1/3q/Vz+8P5J/5T/JACRAMsAAQEyASsBrAAjAJf/6/51/jP+Av6a/Qf9avz5+9P7sPvc+yv8b/z9/Lv9mP6D/10AyQCtAGAA8/95/0T/fP8DAKAANAG3Ac4BcAHSACgAov82/z3/i//0/3sA0gAPAQoBvQBhAO7/m//C/0cAEQHdATgCNALQAS4BmgAgAPH/4//w/zAAYwCzAPgA8wD3AB4BJgH/ALUAcgBSAEwAVABCACYA//+w/3n/nv/x/zgAZgBlADAA7P+1/47/sv8VAJYABwEBAWsAjP+L/pX9KP1u/S7+B//I/0YAUwAZAKn/Kv/0/h7/g/8fALgADQFPAWMBEwGKAA4A6P/r/+b/DABYAI0ApwC3AI8AMgCf/w3/4v7x/jv/w/89AJIAvADXANAAnwCUAI8AnAC0AKMAnwCJAEkA7v+f/4X/if+m/9//DgA4ACIA2f/K/9///f8WAA8AAADz/8n/h/9+/6r/3f8WACsACADH/6r/xf/d/+f/5P/p//z/CAAiAD4AdgClAGgAAQCb/xr/1f7k/jb/s/8IADIAMQAQAOT/zf/h/w4AMQBZAKIA+gAjARcB0ABnADgAEgAJAAcA5//l/+3/5f/O/7v/t/+w/6b/hf9i/33/y/9BAMsAJgEQAaAAEwB//yD/Jf9//+r/RwCOAKkAlABGAOn/tv+0/3//M/8P/yD/Yv+g/+n/EQAIAPH/r/9v/6z/OQDWAHwB2wHVAWMBkQC7/zL/4f6A/jv+NP6A/i3/1P9LAJYA5QAZASEBIgH+APIA7wC+AJAAYAAvAPP/mv9p/1D/NP8K//X+9P71/hj/Tf+a/+//WgD0AFMBOQH5AI0A7f9A/6f+m/4N/63/OACOALoAnAAzAIH/p/4P/jH+8v4jAE0B/QExAr0B7gApAJb/WP98/+X/XADbAG0BpwEzAV8Ag//K/nb+n/4Y/8b/ZgCnAKwAfgBNADQAFgAcABcAEgAfACUAHAAWAAgA4f/a/9j/yf++/5H/af95/63/y/+x/27/Df/Q/uP+Iv+X/zwAygBNAZoBhgFKAecAoABvAE0AXQB2AI0AfQBEAPr/xP+U/2T/Ov/1/u3+JP+C/+r/KQAxAP7/ov8j/9n+5v40/8D/UQC4AOUAtABwAEgACADO/7b/5P8WAA0AEgASAPz/2P+x/7L/yf/y/y4AOAApACUAFgAUAAwA9P/t/xEAXgC7ABcBQQH+AJEAIwDF/5j/cf9o/5D/6v8XAB0AJwDL/0n/0P6N/qr+Fv/O/1gAiACZAKkAnABuAC8AGAA7AHYAtQDqACgBNQH8AJwAIADL/73/u/+i/5L/jv+F/3v/ef9e/zT/LP83/zn/Tf+D/7v/+/8mAB4AGAAGAO7/FQA8ADkAWgCNAI4AdgBeACAA9f/7//r/7f/c/9L/vP+t/8//+P8NABoAHwA3AHkAsADHAMMAjwAxAOv/2P/L/8n/yv/O/+b/7//y//H/9P8AAPn/+/8eADgAOQBIADMAEQADANP/xP/P/9b/8f/6//r/CwAqAE8AeQBzADYA9f+4/3f/I//q/uj+8P4Z/3H/tP/X//D/8v/i/+H/5v/5/yUASgBrAGgANAD5/63/ZP9P/3r/0f81AGQAVQBRAEsAOgA1AEcAYgCaAAEBOgE1AfEAcQAGAMH/qf+u/8z/DQA0ACEA5v+f/2j/JP/t/vP+I/+X/x8AaQCsAPUAAAGzAEwACADb/9D/+P8ZACkALgAfAB8AGQDv/+L/AAAKACoAbwCoANoA2QC4AJEASgACAMb/tv+9/67/o/+U/4z/mf+c/5j/j/9s/07/Tv9z/5b/rP/f//X/+f/9//P//f/5//P///8WABwAGQAiAB0ACgABAAsABQDt////LwBKAHgAgwBnAEkAAQDh/+X/1P/K/9//9f/7/wYACQABAAAACwAIAP3/9v/p/+P/AQAkADAARABRAEkAKQD+/9b/yP/W//j/NgB7AJ8AbgAMALb/ff9k/3H/nv/T//7/+v8AAAsAAAAAAAEAAQD9/9//vf+m/4T/mf/s/xcAIQAmACcAJAAKAO7/wP+q/7r/yf/6/xQAGgA4ADEAKAAcAAcAEgAdAB8AOwBdAJEAsACRAHIAQAD+/+r/5P/I/9D//v/6/+v/7f/k//D/+v/7/wAAAAACAPb/+v/7//P//f/7//P/7//x//H/7f/5/wMAAgD///r/7v/l//L/AQAcADEAOgBCABUA3P/Y/+z/9P/p//L/8P+5/5f/fP9h/3P/lP/C/+r/CAAoABkAEAAXABYAGQARABgAIwAfABwAFAANAA4AFQAXABgAIAAfABIAAwAJAAMACAA5AEUAKgAAAMz/o/+N/5n/3v8rAFUAcgBwAE4AEwDi/9b/4P8BACUAPwBHACYACADT/3f/UP9I/2D/uf8TADQALwAyACUAFQALABMAUACkAPYAAwHLAJQARQACAPD/8P/q/wQARgAiAM//nP8u/9v+5P4u/5r/9P8yAEMAJAD6/+b/3f/m/wQAIQAwACEAGQD8/9b//v8fABgAHwArACwAFAAOACYATACQAK0AowCRADQA1/+f/2f/W/+E/8P/7P/5//7/5v/c//D/+v8YADoAbgCqAJkAVgAbAPr/3v+7/6P/x//w/+3/6//j/9v/tv+X/6D/rf/U/wcAHgAVAAMA7//O/7//z//8/ygANQBFADsAGgD3/+D/9/8CAAcAGgAtADAAGQD//9j/vP/g/xIAKwBOAFQAOwApAA4A+v/6//r/AQAIAAIADAAAAPH/+v/3//H/4f/k/wMADQAAAO//4P/G/7v/wP/B/9v/+v8FAAcAAQDv//D/DwAbACQAOABEADoAGwAKAAcA+//w//v/AgAGAAUA+v/+//7//P8EAAMADgAnAEAAVwBlAGIARgAwACkAFgAAAOr/4//k/9n/4//v/+z/7f/v/+T/wv/N/+b/3f/w/wUA9v/s//D/6v/m/+n/8P8AABAABgD9//n/9P/t/+n/+P/5////AgD///3//P8FAAIAGAA3ACsAEwAbABkA7P/D/7D/mf9+/6z/uv+x//b/HgAXABMAeAC2AIEAoADaALQATgBoAEEApP+6/+T/qP9Q/3z/q/8U/9j+T/+e/5r/5/9HAFYAMwAIAAEA8v/v/wAAOwB4AJQAoQBwADAA9P/H/8H/zf/o/xwAJAAOABYAEwAZAA4AEgBJAHUAkACTAIwAbwA9ABgA/P/u//P/9P/t/+T/3f+8/4L/ev+k/7X/ov+0/+H/8P/7/xQAFwAJAAsAEQAmABcA9P8AAAEAAAD9//z/BADt/7T/hP+R/77/9v8ZACEARABkAEoACgAJAAsA6//t/+D/zf+t/6//5//9/wIAFQAfABQAEAAZACYAKQBKAIAAjACQAFAADQAPAAQA/f/7/wUA9v/0/wsA8f/n//P/9f/w/+7/8//u//D/8//t//L//v/3/+L/5P/2/+n/2//m/+f/6//+/wIA//8IABEACgADABEACgDx/83/rP/F/8r/x//q/wsADgATADUALgAtADEAHQAOAPX/4P/H/7n/qf/D/+3/5v/k//H//v8GACEANgBBAEIAHgAAAPz/+//0/wMAFgATAB8AMQAsACwARABVAF8ATAAvACkACwDm/9n/p/9r/2L/aP+F/73/+f8nAE4AbgBzAGsARwAgAAYA7//1//X/5f/g/9D/rP+N/6L/tP+m/7v/2f+p/4z/tv/1/y8ANwBRAI0AogByAB4AEAAbABEAGAAXABQAFgARAAYACwANAAYADQAKABMAGwAaADMAOQA3ADsABADm//X/9v/4//f/8//4//L/8//9/wAAAQD3/9r/1v/c/8T/s//l/wwAAAD9/wkA/v/s/+3//P/o//3/0P+l/zsAj//U/0MA1f9VALf/xwD2/7//+wDh/1gApf+hAK//X/+FAIH/LABf/48ACgBT/yoA7f8eAIf/UQAdAM7/5v8ZACcAvP8dAAkADwC//yoALgDu/w0A4f8YAK//1P/H/8v/2f/r/ykA+P8RAND/9//5/wsAPAAxAGIAUwBNABQACgADAPX/JwA5AEYAGwDz//b/4f/N/+T////0/wUAEQD+/wkAAgAAAAcAAgANAAUA/P/3/wAADQAFAAEA/f/o/8T/wv/m/wAABgAKABIACQACAAYAAwD0/wYADAAPACsARQBVADEAGQD5//P/AgDe/+7/7v+8/8H/xP+v/83/6P///xUAIAA6ACcAEAAXAB8AGAD4//D/+P/e/8T/uP+q/6j/tv/g//X/DAATAO//DgAcABgARwBiAFYAMwA0ABQAAgAtABkABwAIAAYA///j/+H/6//3/xIAEwAHAAUACAAPAPz///8KAP/////4//X/9v/4/wAA5f+5/8L/zP/s/xYAIwA+ACoAJAAmAAsABwD9/wEAEAAOAAcA9P/7/wEA8f/6/wEA/v/6//b/+f/7//v/+P/1/+X/3v/z//z/5//w/wsAAAD3/wIABQDx/9X/0//p//b/5//7/w4A/v/v/+H/6v/n/wkAJgANABkAFQATAAwACwAYAAYACQASABAAEAAKAAEADQAJAAAAIAA5ACgAAwAEAAcA9v/9/wQA+P/6//f/7f/0//r//v8FAAUACAACAPf/+v///wUA///8/wcA7v/P/8D/r//R//b/9/8PAB4AJAAkAAQA+v/4/woAEwAEAAcA/v8EAAYAAgARAAcA+/8AAAgACAASAB0ALwBMAB4A6f/6//H/2f/+/wIA7v/y/+v/2//D//T/EgD5/wQABQAFAP//+//9//b/BAAAAPb/AAAAAAIACAABAPT/3f/l/+j/+/8fADIARgA6AEAAMAATAAQA7v/7//X/8P/y//H/8P/l/wAAEQACAPX/8//5//n//v/4/wEAAQDv//j/8v/k/+r/6P/X/+n/AQDh/9v/9v/v/8v/9f8AANn/EQAdAAkADAATABYACwASABAAFAAoAEAAMQAjACIA8f/m//z/AAD3//b/DQAEAO3//P/9////FQAGAAUAEQAAAOH/2f/6//z/+f/y/9j/3v/o//3/AgAIAAwAAAAJABgAEgARACsANQAzACoAHwANAPj//f/1/+7/8P/t//f/9P8AAAQA9/8BAAAA9f/7/xEAGwD7/+3/7P/y//D/1//x//f/5v/q/+r/3P/W/9j/1f8FAAAA4/8SABYACgAXAB4ACwD8//v/BQAKAB8AMQAtAF4AVQA0ABMA5//t/+z/6//u//P/8//e/+j/+//0//P///8EAAAA/v/7//b////7//P/AgD9//H/8P/z/+j/8v/+/+P/5v8GAA0A+v///xEAFwAjABcA9v8CAPz/7f8LAAYA+v/8//3/+f/q//7/CwABAAIADAAPAAYABAAIAAsACgAJAAkACgD///3/AAD9/wAAAwAFAAAA+//9//j/9/8AAAIA+v/0/xkANgAdAA4A+f/y/wAA+/8AAAAA/v/7//H/6v/k/9j/5f/2//7/CQD+/wQA9f/s/wAABQABAPv/9P/o/9//2v/u//D/AwAVAAsADAAAAAsAEwAMABgAKAARAAEADgD3////CQAAAAoACgAFAAAA/P8DABEAFwAUAA4A+f/1//n/9v/+//3/AAAFAAUA9P/e/9X/3v/x//T/6f/t/wYACQD3/+//9v8CAAkABAAEAAIAAwACAAMABQAHAAMA/v8JAAMA/v/v/+T//f8FAAMAAQAAAAQACAAGAAMABwAEAAAAAgACAAIACgALAAIA+//9//z/9v8BABYAFAAQAAgA/v8FAP/////8/wQACAAAAAMAAAADAAMA+f///wsACQACAPP/9v/1//D/AAD4//H/AQADAAMA+f/9//v/5v/3/wAAAAALAAoABAD8/+n/BAAIAPr/DwABAP//BQD+////BAAMABEADwD7//r/AgD4///////8/wIAAgD9/wQAAAD//xAA/P/4/wAA7//s//D/7//x/wIAAQD1//j/+f/w/+//BgAAAPv/CwD5//z/DAAEAAAADQALAAAABgAGAAYACAAEAAUABAAIAAUAAQAAAAAA/P8DABwAEAD9/wUACQAJAAoACAAJAAkA/f///wcA9v/t/+n/6v/2//3/AgD+/wYA9P/B/6z/yP/p/+X/1v/u/xIADQD9/wAADgAgACsAMAAeAAcACAAEAAcAEgAYABIAAwADAP//9f8BAAUAAQAIAAUADgAVABMAEAALAAYAAQADAP3/+P8AAAAAAAD///r//f/z/+H/5v/5//7///8BAAEABgACAAAABAAEAAUAAgAIABcAFwAJAPz//f/5//T/+//5//3/AQD6//n/AAAAAOr/4f///wIA+/8EAPr/9//8//j/+P/7//z/8//r//P/+v8AAAQAAQADAAcAAwD9//7/AgADAAAAAgAIAAIAAQAJAA4ACwAAAP//CAAIAP7//f/+/wAABgD///n/9f/8/wAA7f/r/+7/9f8GAAAAAQAIAAMAAgD7//X/AAAHAAsACAAIAA8ACgAAAAIACQAGAAYACAADAAgABAADAAkAAQD/////AAD7/+7/5f/h//n/CgD7//X/9v/5//j/8////woAAwAAAAMABQAOAA4AAwABAAYAAwD8/wMABQAAAAIACgAJAAMABQABAAMACAAGAAUACwATABAAAgAIAB8AEQD///3/8/8CAAUA/v8BAPz/BAACAPr//v8AAAEAAAD6/wAAAwD///v//v8AAP//AAD7//j//P/8/wAABgAAAPr/+P/7//z/AAD///n/AAD6/+//9//8/wEA//////7/+//+//v/+v/1//f/AQD6//3////5//T/7f/z//b/9/8AAPv//f8HAAAABAAEAAYACwAAAPz/AwACAAgACgAHAAUA//8DAAkACgAQAA8ABQD///n/8//1//7/AQAFAAUADQALAAAA/f/9/wEABQAFAAEAAAABAAIA+v/x//P/+P8AAAIA/f8AAAEA/v/5//P//P8FAAMABQAEAAUABwACAP///v8AAAEA/f8AAAQABgADAP//AAAAAAMAAwACAAMAAgADAAQAAQD9//v/AAAEAAMAAQAFAAMAAQAAAP3//f/+//3/AAADAAAAAwACAP///v/7/wAABAACAAUABAADAAEA/f/7//f//v8CAAIABgD//wIAAgD8//7//f8BAAEA/f8BAAMA/v8CAAUA+v/4/wIAAQD+////+v/9//v/9//8//z////+////BQAEAP7/AgAEAAQACgADAAUA+P/y/wEA+//9//3/+f8BAAYAAgD9//v/+f/9/+3/9P8FAP7/AQAAAAAAAAAAAAAA+f///wMAAgAHAAoAAAD4//L/7//1//v/CQAIAAQACAAEAAYABgADAAUABwAFAA4ADgAAAP7/9v/z/wIAAAAAAAQAAAADAAIA/f/9//3///8CAAIAAQACAAAA/P/7//D/8P/5//7/BQAEAAAABQAFAAMAAAD7/wEABAAGAAQAAAABAAAAAQADAAQAAwADAAMABQAHAAYABAD//////v/8/wEAAQAGAAEA/v8DAP///f8AAP////8CAAQABAAEAAAA/P/+//z/AAD///7/AAD7//7/+f/3//7/AQAFAP///v/+//r/+P/8//////8FAAEA+//5//j//f/9/wAA/f/2////AgAAAAAA/P/8//n/+v8EAAEAAgAGAAUAAAD8//3//v/5//r/AgACAAQABAAAAPv/7//2/wMABAABAAQAAwABAAMAAQAFAAAAAAAEAAEAAQAEAAIA/f8CAAAA/v8GAAAAAQABAAEAAwACAAIAAgAFAAIAAAAGAAIA/f/8//3/AAAAAP3/AAAGAAEA/P///wEA/////wMABAD///3//P/5/wAABAAAAAMA/////wAA/P/8//z/+v///wUABQAEAP////8BAP7/AQACAP7/AAACAAMAAAD///7/+//x//j/AQAAAAMAAgD+/wAAAAD//wIAAAACAAEA//8CAAQA///+/wAA//8AAAAABQAFAAMAAAD8/wMAAQACAAAA/v8CAPz/AQACAP3///8AAPz//v8EAAAAAAD8//z/AgAAAP//+v/2//7//v/1//3//f/3//3////8//r/+P/5/wAABQADAAMABwAGAAEAAAD//////f/+//r/+P/+/wMA/v/5////AwADAAQABQAEAAIAAgAAAP3//v8AAP7//P8AAAAA/f8CAAAA/////wAAAwADAAMAAAD8/wQAAQD8/wIAAAD//wQAAwABAP///v8BAAEAAAADAAEA//8DAAAA//8AAP3//v/+/wAA/v/9/wEAAQAAAP///v8CAAIA/////wMABQAAAP3/AgADAAIAAQACAAUAAwABAP///v8AAP///v//////AAD/////AAD+//3//f/9/wAAAAD+/wMAAQD+//3//f//////AQAEAAAA///+//z//v8CAAQAAAACAAUA+/8AAAYA//8BAP7/+/8BAAIA+//4//n/+P/6//r//P8CAAMA/P///wMAAAD+/wAAAAD+////+v/1//T/9f/4//7/AAACAAUABAACAAMAAgADAAEA/v8CAAcAAwAEAAIAAgADAAMAAgAAAAQABAADAAAA/f8BAAQABAAFAAIA//////7/+//5//3/AAAAAAAAAAAAAAEAAQD/////AAD///z/9//4//3/AwAEAAIAAQACAAQAAgACAAQABAACAAMAAAD9//3//f8CAAAA/v/+/wMABQD+/wAAAwACAAIAAAAAAAAA/v/+//z/+/8CAAIAAwABAP3/+//8//z//f/8/wEAAwACAAQAAgAAAP////////3//v/+////AgADAAAA/v///wEABgAAAAAAAAD9//7//f8CAP//AAABAP7/AgABAPr/+v/9/wAA+//6//j//P8CAP///v/+//r///////7//P/4//r/+//5/wEAAAD+/wAA+//9//z/+//7//z/AwAAAAAA/v/9/wAA//8CAAIAAgABAP3/AgAFAAAA/////wEAAwACAAMAAQD+//7///8BAAUAAAD+/wAAAAD///7//v///wAAAQAAAP7/AQADAAMABAABAP3/AgACAAQAAwAFAAUAAAABAAMAAwAFAAIAAgAAAP7//v8AAAYAAAABAAMAAwAEAAIAAAD+/wEAAAD+////AgADAAAAAAAAAAAAAgADAAQAAAABAAUAAAD/////AgACAAAAAQAEAAQAAwAEAAQAAAADAAMAAwAFAAEA/v8DAAQA////////AgADAP///v/+/wAA/v8AAAMAAAD9/////////wAA/v8AAPz/+P/6//r/+v/5//z/AAD6//n/+f/9/wEAAAAAAAAA/v/9/wAAAwAAAP3/AAAEAAQAAgAAAAEAAwAEAP3/+/8CAAQAAwAFAAQAAwAEAAQABAAEAAAAAAAAAPv/+P///wAAAAACAAIAAwAEAAMAAAD9/wIAAAD9/wAA/v/9/wAAAQADAAAA/f8BAAMAAwAEAAAAAAAFAAMAAAACAAIAAQD//////////wEABQAAAP7///8AAAQABAADAAIAAAAAAAAA///+/wEA/v/7/////v8AAAAAAAACAAEAAQABAAEA/f8AAAUAAQD+//7/AQAAAP7//v8AAAQAAgACAAMABAADAP////8AAAEAAwAEAAMAAAAAAAAAAAD/////AAAAAP//AAD//////v/9/wMAAAD8//7//v8DAAQAAgAAAP7//v/6/wAABAACAP3//P8DAAMAAAAAAAAA+v/7/wAA+//8/wQAAAD9/wAA/P/5//n///8AAP///v/5//3///8AAP7//f////7////9//3//////////v///wAAAAABAAMAAwABAAIAAQD+/wAAAAD+/wAAAgADAAIAAgAAAP/////+/wIABAD///3//v////7/AQADAAMAAwACAAIA//8AAAEA/v/+/wAAAgABAAIAAgD///7////8//3/AgAAAPz/AQADAAIAAQACAAEAAQAEAP///v8CAAUAAAD+/wAA//8CAAQAAwADAAMABAABAP7//P/9/wQAAAD9/wEAAgAAAP//AAAEAAAA/v/+///////+//7//v////3/+////wEA/v8AAAIA/////wEABAAAAP3/AgAAAP3//f/+/wMAAAD9//3/9//5//3/+v/3//n/AAAAAPz//v/9/wIAAAD8/wAA+v/+/wMA/f/6/wAAAwABAAIAAwD8//z/+f/1//v//P8AAP3/9/8AAAQAAwAFAAUAAQD//wIAAwAAAAIAAwACAAIAAgAEAAUABAAAAAEAAQD8//3//v///wAAAwADAAIABAADAAEAAAD+////AAD+/wEAAgACAAQAAgADAAAA/f////3/AAABAAAA///9////AAAAAAAA/P8BAAQAAgAEAAAA/f8AAAAA///+//7///8AAAIA/v/+/wEA/v/+/wEAAgACAAIAAAD+/wEAAgACAAIAAQABAAEAAgAAAPz/+//8/////v/+/////v/+//v///8AAP3////+/wEAAwACAAUABQAEAAAAAQAEAAMAAAABAAIA/f////7///////r//f/7//v/AgAEAAQA//8AAAEAAAAGAAIA+//8///////+//z/AgAAAPn/+v/5//r/9//4/wEA/v/3//3/AQD+/wEAAAD8/wEAAgADAAQAAgACAAQAAAAAAAAA/P/+/wIA///8/wIAAgADAAIABAADAP//AQADAAQAAAACAAUABQAEAAQACgAEAP3//f///wAA/v/9//7////+//3//f/+//7//v/8//j/+v/7/wIAAQD+/wMAAAABAAYAAwACAAQABAADAAAAAgAEAAQABAACAAIAAwAAAAEABgAAAP7/AgABAP//AwAEAAIAAwAFAAQAAwAEAAUABAAAAAAAAAD////////+/wEABgAAAAEABAD///3/AAD///3//v/+/wAAAAD///7//v8AAP7//v////7/AQACAAMAAwADAAAA+f/+//r/+P/6//b//P////7/AAD8//n/+P/9/////v/7//n/+//6//n/+v/8//7///////7//v/8//r/+v/+/wQAAwABAAQABgALAAYA//8CAAQAAAD//wAAAAD+///////+//3//v////7//f8AAAAA/v///////f/+/wAAAAD+///////9////AgACAAQABAAEAAAA//8AAP3/9f/3////AgAAAAEAAwAEAAQABAADAAAAAAD//wAAAQACAAIAAQACAAIAAgD///7/AwAAAAAABAD+//v//v8AAAAAAAD+////AAD//wAAAAD+/wIAAwD+//7////8//z////+//3//v/+//7////9//3/AAD//wAAAwABAAAAAwAAAP7///8AAAAAAAAAAP//AAAAAPz//v/+/wAAAAD9//7///////v///8HAP3/+f/+//7////7//3/AQD7//n//v8BAAEAAAD8//3//v////v/AAAGAPz//v8AAPr/+f/7//3///8CAAIAAgAAAP3/AwAAAP//AAAAAAMAAAD9/////v/+/wAAAAD///7//f8AAP7//P8CAAQA/v/8/wEAAwADAAQAAwACAAEAAgAAAAAABAAAAP7/AgAAAP7//f8AAAAA/v8AAAQABAABAAIAAgACAAMAAwABAP3/AQAEAAAAAQACAAQAAAD8/wAAAwAFAAIA//8CAAQABQAEAAIAAwAEAAMAAQD//wEAAAD+//7//v////////8CAAQABAAAAP3/AQADAAIAAwAEAAQAAAD//wIAAAD9////AAADAP7//f////7/AQAAAAAAAwD//wIABAABAAQAAgD//wAAAAD9//7//v8AAP7/+v8AAAEA/f///wMA/P/8/wAAAQAAAAEAAAD9/////v/6/wAAAwADAAAAAAD9//z/AAD6//j/AgABAP3/AwAAAP//AwAAAAEAAwAAAP//AAABAAAA//8CAAIA/P/+/wIA//8BAAIAAAAFAAUAAAAAAAMA/v/9/wEAAQD+//7/AQD//wAAAQAAAAIAAwD//wAABAAAAP3/AgAEAAAA/v8DAAIAAQAAAP3/AQAAAP7/AQADAAAA/v8CAAAA//8AAAAAAwADAAAAAAACAAEA///8//z/AAAAAP7///8CAAAA/f8AAAIAAAAAAAEAAQACAP7//v8BAP7/AAADAAEAAAAAAAQA/v/+/wQA/v8BAAAAAAAEAP//AAAEAP7/AAAFAAAA//8AAAQAAQD///7///8DAAAAAAD//wIAAgD9//v/AAAEAPv/+v8CAAAA/v///wAAAAD6//j///8BAAAAAAD7//r/AAACAPr/+f8BAAAA+f/6/wEABAD///7/AAACAP///f8FAAAA//8EAAAA/f8CAAMA///8/wMABAD+//7/AQACAP7//f8BAAMAAAD+/wAA/v8AAAUAAAD9/wEABQABAP3/AQAFAAAA/f8CAAQAAgAAAP3/AgAEAAIAAAD//wAAAwD///7/AQACAAAA/v8BAAQAAAD///7/AAAFAAAA/P8BAAQAAAD+//7/AgAFAAAA/v8CAAUAAAD9/wMAAAABAAUAAAD//wMABQAAAP3/AwAFAAAA/f8EAAUAAAD+/wAAAgD//wAA/v8AAAUAAAD+/wAABQACAP3/AQACAAQAAQD8/wAAAwAFAP///P8CAAQAAAD9////AwD9//f//f8CAAAA+/8AAAIA/v/7//z/AgAAAP3/AQD9//7/AQD7//n///8CAP7/+f8AAAUA/P/6//j/AAABAPz/BAACAAEAAwD9/wEABAABAAEAAAACAAQAAAD+/wIABQAAAP7/AQADAAEA//8BAAEABQADAPz/AAAFAAAA/v/9/wIAAwACAAAA/P8CAAUA//8AAP3/AAAAAP3/AwADAAAA/v8CAAQAAwADAP//AQAEAAIAAAD+/wAAAgAAAPz//v8AAAAA///+/wIABAD9//z/AgACAPz//v/9/wEAAQD9/wEAAQADAAAA/f8AAAMABAD///7/AQACAAAA//8CAAIA/////wIAAQACAAAA/v/9/wEAAAD8//////8CAAAA/v8BAAMAAAD+////BAAEAAAAAgAEAAIAAAD+/wIAAgAAAAAA+f///wYA+//4//3//f8AAAEA+//2/////v/8/wAA/v/7//n//P////7//v8DAAIA+P/7/wQA///4/wAABAAAAP3//f8AAAUAAAD///7/AAADAAEAAAD//wAAAAD+/wIAAgD///3/AwAGAP///v8AAAMABgAAAP7/AQAEAAAA//8AAAAAAwACAP7/AAADAAAAAQACAAAAAQADAAMAAAAAAP7/AQAEAAAA/v8BAAIABAAAAAAABQD9/wIABwAAAP7/AQAFAAAA/v8AAAAAAgADAAMAAAD//////f8EAAEAAgAAAP7/AwADAAIA///+/wMABAAAAAIAAwAEAAAA/f8CAAQAAAD+/wMAAQACAAAA///8/wEABwAAAP7/AAAFAAAAAAD//wAAAAD7/wIABAACAAEA/f8AAAQA/v8BAAAA/P8EAAAA/v/6//7/AAD4//3/AgD9//z//f/8/wAAAAD+/wAA/P/7////AAD+//z///8AAAAAAAD9//v///8BAAEA/v8AAAIAAQADAAEAAAD//wAAAwAAAP7/AQAHAAMA/v8AAAEAAAAAAP3/AAACAAIAAQAAAAAAAwAEAAAA//8DAAUAAAD9/wIABgD//wAAAAACAAAA+v8AAAMABQADAP///P8AAAUA///8/wAAAwACAP7/+/8CAAMAAAD///7/AAADAAIAAAD+/wEAAQAAAP//+f/+/wEA/v/+//3/AQABAAAABAABAAAAAwAFAAAA/v8BAAAAAAAAAAEAAAD7/wAAAgD8//v/AAAAAAAA/v8AAAQA//8DAAMAAQD//wEABAAAAAAA/P8BAAIA///+////AwAAAP7/AAACAAAAAQAFAPn/9f8AAAMA+//8/wAA///6//3/AQD7//f/AAAEAPv///8EAP///P/6/wAA///2/wAABQD7//7/AwD+/wAAAQABAAEA/f8CAAUAAQD+/wAAAAAAAAEA+v///wQABAAAAAAABwD+/wAA///8/wAAAQAAAP7/AAAHAP7/+v8BAP7/+//+/wMABAD//wMAAwD///3/AQAEAP7/AQADAAAAAAABAAQA/v/9/wMA///8/wIAAAAAAP//AAADAP//AAD//wAAAAD+/wMABAADAAAAAAAGAP//+/8BAAcAAgD+/wIAAgD///7/AAABAAAA//8CAAAA/v8DAAUA//8CAAcA/v/8/wIAAgAAAP7/AQAFAP//AQADAAMAAAD9/wIA///+/wMAAQAAAP7/AAAEAAAAAQADAAMAAQAAAAQAAAD+/wAAAwAAAP3/AAD8//3/+f/8/wMAAAD+////AAD+//7/AgAEAAAA//8AAPv/+//+//7//P/9/wMAAAD//wAAAQAAAAAABAAFAAEA/v8BAAQABAAEAAMAAQD+/wIABgAAAAIABAADAAIAAgABAP3/AAAGAAEA/f8BAAUAAgADAAQAAQACAAAAAQAEAP//AQACAP7///8CAAAA//////3///8AAAQABAABAP7//v8AAP///////wEAAAD9/wEABAACAAAA/v8CAAEA+f/7/wEAAAD9/wIAAQD+//7/+/8AAAAA/P////7//v8CAAEAAgADAAAA///7/wAAAAD9/wAA/v/+//7/AQADAAAA/f/7/wAABAACAAIAAwAEAAUAAAD9/wIA///9/wEABQAAAAIABAACAAIABQACAP3/AQAFAAQAAgAEAP//+f/3/wEABgD7////BQAAAPn/AAAFAP///v/8//n/+v/9/wMAAAAAAAUAAQD5/wAAAQD6//r/AAADAAAAAgADAAAA/v8AAAMAAgAAAP7/AAADAAAA/f8CAAIA//8BAAAAAAAAAAAAAwAAAP//AAAAAP//AQAEAAAAAQACAAEAAQABAAMAAAD9/wAAAAAAAP7/AAAFAAIA/f8AAAQA//8BAAMAAAADAAIA/////wEAAwAAAP7/AAD9/wAAAgD+/wAAAAAAAP7/AAABAP//AQAAAAAA//8CAAUAAAD9/wEAAAD+////AwAAAPz/AwAAAP7//v8CAAAA/v8CAAMAAgD//wQAAgD8/wAABQAAAAAABQAAAP7/AgAEAAAAAAAEAAEA////////AAADAAMABAAEAAEA/v///wIAAAADAAIAAAAFAAIA+v/7/wIA+v/5/wQA/v/4//z/+//4/wAAAwD9//n/AgABAPz/AQADAPv/9/8BAAAA9v8AAAQAAAABAAQAAgD//wAABAACAP3/AgAEAPv///8HAAEA//8BAAYAAAAAAAUAAAD+/wAABQAAAAAABQAAAP3//f8DAAUA//8DAAcA///+/wEAAAD8/wIABAAAAP//AAADAAIAAQAEAAIAAgABAP//AQADAAMAAAAAAAEAAAD//wAAAAD//wEA///+/wIAAgD9//3/AwD///r//P8BAAAA/P8CAAUAAAD7/wEAAAD8/wEABAAAAP7/AgAAAP////8BAAEA/f8BAAQAAAD9/wMAAAD7/wIAAwD///3/AgAAAP3/AAACAAAA/f8AAP////8BAAMAAQACAAEA//8AAP7/AQAEAP//AwAAAAEAAQD8/wEAAAD///z/+/8CAAAA+f8AAAMA+P/8////+f///wAAAQD+//f//v/+//7//P/4/wAAAgAEAAEA/v///wIAAAD9/wAAAAD9/wIAAQD9/wMABQABAP/////+/wMAAQAAAAMA/f8BAAUAAAACAAUAAwAEAAIAAQAFAAAAAAAFAP//AAAEAAAAAAAAAAIABAAAAAAAAwD//wAABAABAAQAAQD8/wIAAgABAAMA//8AAAMA//8BAAQAAgACAAAAAAAEAAAA///+//3/AQAAAP3/AgAAAP3/AgAAAAAAAwADAAAA///+/wEAAQD9/wMAAAD8/wMAAQD///7//v///////v8DAAEA/P8CAAAA/v8AAP7/AgAAAP3/AgAFAAAAAQAAAAAABAD+/wIAAQD9/wMAAQD9/wAABAAEAAIAAgD//wAABAAAAAMAAQD+/wIAAwAAAAEAAwAEAAEA/////wMABAACAAMAAAD///7/AQAAAP//AQACAAMAAgAEAAMAAQADAAIAAwADAAMABAADAAIAAgADAAMAAwADAAMAAwAEAAQAAgADAAQAAwACAAIAAwADAAIAAwADAAMAAwADAAMAAwACAAMAAwACAAMABAADAAMABAADAAIAAwADAAQAAwADAAQAAwADAAMAAwADAAMAAwADAAMAAwADAAMAAgADAAMAAwADAAMAAwACAAMAAwADAAMAAwAEAAQABAAEAAQABAADAAMAAwADAAMAAgABAAEAAQAAAAEAAQABAAEAAQABAAEAAQABAAEAAQABAAEAAQABAAEAAgABAAEAAQABAAIAAgACAAEAAQABAAEAAQABAAEAAAAAAAEAAQAAAAAAAQABAAAAAAAAAAAAAAAAAAAAAAAAAAAAAAAAAAAAAAAAAAAAAAABAAEAAAABAAEAAAAAAAAAAAAAAAAAAAAAAAAAAQABAAAAAQAAAAEAAQABAAEAAQAAAAAAAAAAAAAAAQAAAAAAAAAAAAAAAAAAAAAAAQAAAAAAAAAAAAAAAAABAAEAAAABAAEAAAABAAEAAQABAAEAAQABAAEAAQABAAEAAQABAAEAAQACAAEAAQABAAIAAgACAAIAAgACAAIAAgACAAIAAgACAAIAAwACAAIAAwACAAIAAwACAAMAAwADAAIAAgADAAMAAwADAAMAAwADAAMAAwADAAMAAwADAAMAAwADAAMAAwADAAMAAwADAAMAAwADAAMAAwADAAMAAwADAAMAAwADAAMAAwADAAMAAgADAAIAAgACAAIAAgACAAIAAgACAAIAAgABAAEAAQABAAEAAQABAAEAAQABAAEAAQABAAIAAgACAAIAAgACAAIAAgACAAIAAgACAAMAAwADAAMAAwADAAMAAwADAAMAAwADAAMAAwADAAMAAwADAAMAAwADAAMAAwADAAMAAwADAAMAAwACAAIAAgACAAMAAwADAAIAAgACAAIAAgACAAIAAQABAAEAAQABAAEAAQABAAEAAQABAAEAAQABAAEAAQABAAEAAQABAAEAAQABAAEAAQABAAAAAAAAAAAAAAAAAAAAAAAAAAAAAQAAAAEAAAABAAEAAQABAAEAAQAAAAAAAAABAAEAAAAAAAAAAAABAAAAAAABAAEAAAABAAAAAQABAAAAAQABAAAAAQABAAEAAgAAAAEAAgABAAEAAQAAAAAAAgD+////AwD+/wAAAgAAAPz/AAD///v/AAABAAEA///+//3/+//9//7//f/9/wAAAwD///z//f8AAAEAAQABAP//AAABAP///P///wIAAQD+//3/AAD+/wAABAD+/wAAAAD8/wAAAAD8//3//v/9/wAAAwD+/wAA/////wMA/f8AAAAAAAAAAPz/AAACAP3/AAAAAPr/AQAAAPv/AAABAP7//P/+//3/AAACAAEA///7/wAABAD+//z/AAAAAP///P8AAAAA/f8BAP///P///wMA///9//3//P8AAAEAAQD///v/AQD+/wAAAwAAAAAAAgABAAEAAQD9/wAAAwD9/wAAAgD+//3/AAABAAEA/f///wIA/v8AAAIAAQABAP7///8BAAIA/v8AAP////8CAP3/AAACAAAAAgD+/wAAAwD6//r////3////AgD1///////z////+//9/wMA/f/6//v//f8CAPz/9v8AAPr/+v8EAPn//v8DAPv//P/6//r/AQD///z/AQD///v/AQAAAP//AgD9/wAAAwD+/wAAAAD8/wIA//8AAAAA+/8AAP///f8AAAEAAQABAP7//P8AAP7/AAAAAPv/AAAAAPz/AQD//wEAAAD7/wEAAgD+/wAAAgACAAIA/v8AAAEA/////wAAAQAAAAAA//8AAP3//v8DAP7/AAAAAAAA///5/wAA/v///wAA/f8DAP7/+f8CAAIA/v8AAP//AAADAP7/AAD+//3/AAD///v/AAD///z/AQD+//7/AwD9///////9/wAA//8AAAIAAAD//wAA/////wMA/f8AAAMA/v8AAP7//v8DAP3///8FAP3/AQAAAPX/AAD7//z/BAD4//7/AAD2//v//v/6/wAA/P/0/wAA+v/8/wMA9v/+//7/9P8AAPz/+P8DAPz//f8EAPv///8AAP3/AgAAAAAAAAD+/wAAAwD9////BAD9/wAA/////wMA/v/8/////P8AAAAA+/8AAP//AAAAAPv///8CAP//AAAAAP7/AgD///r/AAAAAP7/AwD+////BAD9/////////wMA/v///wIA/P/+/wAA+////wAA/P/8////AAACAP///f8BAP//AAAAAPz/AAD//wAAAAD6/wAAAAD+/wEA//8AAAMAAAD9/wAAAAAAAAAA//8AAP//AAADAP////8EAP3/AAAHAPz/AQD///r/AQD+/wIAAAD8/wIA///9/wEAAgD9/wAAAAD9/wQA/f8AAAAA/P8EAP7//P8CAP7/AAAAAPf//f8AAPz/AAD8//3/AQD7//7/+f/6/wAAAAD+//3//P/9/wAA/P/7//3//P8AAPv/+v8AAPz//v/7//z/AAAAAAAAAQD+/wAABAD//wAAAAAAAAIA//8AAAAA///+/wAAAQACAAIA/f8AAP3/AQADAP3/AAABAAEAAAD+/wEAAgACAAAA/f8AAAEAAAD9//7/AAAAAAAA/v/+/wAAAgAAAAIA/v8AAP///f8DAP//AAAAAP7/AAABAAAA/v8CAAEAAgAAAP7/BAAAAP//AAD5//7/AgD7//z//P8AAAIA///9//v/AAAFAP3/+v///wIAAQD+//z/AAAAAP7////8/wAAAQD+///////6//z/AAD+/wAA///8/wIA/f8AAAEA+f8AAAIAAAAAAP3//P8AAAEA/f/8/wAAAgD///v/+v/2//z/AAD5//r/AgD+//z//P/7/wAA/v/7//z//P/6//3/AAAAAAQA+P/5//7/+/8BAPv/9f/8/wAAAgAAAPv///8BAAAAAQD+//v/AAD+/wAA/v/9/wUAAQAAAAAAAAABAP7/AAABAAQAAwAAAAAAAAD+//z//v8CAP///v8CAP3/AQACAPz/AAD9/wAAAQD7//7//v8BAAAA+/8AAAAAAQACAPv///8CAAEA/v/+/wQAAQAAAAAAAAACAP7/AAABAP3/AAD//wEAAwD+/wAAAAAAAP3///8CAP///v/+/wEAAQD9/wEABQACAAAAAAAEAAMA//8AAAAAAAAEAAEA/P///wAAAAADAAEA/f/7//3//P/+//7/AAACAP3/AAD///v///8AAAEAAwD7//z/AAACAAMA///8//v/+P/2//3/+//6//7/+v/5//z////7//v/+f/3//n/+P/5//j//P8AAPn/+P/4//r////1//3//P/0//3/+//8//r//v8AAPn//v/+/wAABAD+//z//f/7//3//P/+//z/+v/8/wAA///8//3/+/8AAAAA+//7//3//f8BAAQA/f///wAA/f////z//f8BAPz/+//9//3/AAAAAAIA/v/8/wAABAAAAP3////+/wIAAwD+//3////9////AwABAP3//v/+//3//f/7//3//f8AAAAAAAACAAEA///9/wAAAwACAAAA/f/8/wAAAwADAAIAAQABAAAAAQACAAAAAAACAAEA/f8AAAAA/f8BAAIA/f/8//3/AAABAP7/AAD///z/AwABAPv/AAD+//z/AAABAAAA/P8AAAAA/v8CAP7/+/8AAP//+f/6//3//v/9//3//v////3//v/7//X/AAD///3/+f/3/////P/+/wUAAAD6//r/+f/8/wEAAwAEAAAA/P8CAP7/AAAGAP7/AQADAAIABAAAAAEAAAD9/wEABAAEAAEA/v/+/wAA//8BAAQAAwAAAP3/AQAGAAAAAAABAAEABAACAAQAAAD7/wEAAQAAAAQABAAEAAAA/f8CAAUAAAD+//////8CAAEA/f8DAAAA/v8CAP///v8DAAMABAAAAAAABAAAAP//AgAEAAMAAAABAAMAAwAAAAEAAwD//wIAAAAAAAQAAQADAAQAAQD+//7/AgAAAP3/AwD//wAAAQD9/wIAAgACAAMABAAAAAEAAgD9/wAAAAD/////AQABAAAAAgADAAMAAQAAAAEA/v///wIA//8AAAEA/v/8/wAAAAD+//7/AAD/////AwAAAP7/AAACAAEA//8BAP3//P/9//3/AAABAAEA///9//3///8BAAAA/v/9////AQABAAEAAQAAAAAAAAAAAAEAAgABAAEAAAABAAIAAgABAAEAAgACAAEAAQAAAAIAAQAAAAEAAgAAAAEAAQABAAEAAQABAAAAAAAAAAAAAAAAAAAAAQAAAAAAAAAAAAEAAQABAAAAAAAAAAAAAQABAAIAAgABAAAAAgABAAAAAgABAAAAAQAAAAAAAQAAAAAAAQAAAAAAAAAAAAIAAgACAAMAAgACAAQAAgACAAIAAQABAAAAAQABAAEAAAAAAAIAAQABAAEAAQABAAAAAAAAAAAAAQACAAEAAQABAAEAAQACAAEAAQACAAEAAgACAAIAAwACAAEAAQABAAEAAgABAAEAAQABAAEAAQABAAIAAgABAAEAAAAAAAAAAAAAAAAAAAAAAAAAAAAAAAAAAAAAAAAAAAABAAEAAAABAAEAAQABAAEAAQAAAAEAAQABAAAAAQABAAAAAAAAAAAAAAAAAAAAAAAAAAAAAAAAAAAAAAAAAAAAAAAAAAAAAAAAAAAAAAABAAEAAQABAAEAAAABAAEAAQABAAEAAQABAAEAAQABAAEAAQABAAEAAgACAAIAAgACAAIAAgACAAIAAwADAAMAAwADAAMAAwADAAMAAwADAAMAAwADAAMAAgACAAMAAgACAAIAAgACAAIAAgACAAIAAgACAAIAAgACAAIAAgACAAIAAgACAAIAAgACAAIAAgACAAIAAgACAAIAAgACAAIAAgACAAIAAgACAAIAAgACAAIAAgACAAIAAgACAAIAAgACAAIAAgACAAIAAgACAAIAAgACAAIAAgACAAIAAgACAAIAAgACAAIAAgACAAIAAgACAAIAAgACAAIAAwADAAMAAwADAAMAAwADAAMAAwADAAMAAwADAAMAAwADAAMAAwADAAMAAwADAAMAAwADAAMAAwADAAMAAwADAAMAAwADAAMAAwADAAMAAwADAAIAAgACAAIAAgACAAIAAgACAAEAAQACAAEAAQABAAEAAQABAAEAAQABAAEAAQABAAEAAQABAAEAAQABAAEAAQABAAAAAAAAAAAAAAAAAAAAAAAAAAAAAAAAAAAAAAAAAAAAAAAAAAAAAAABAAEAAQAAAAAAAAAAAAEAAAAAAAEAAAAAAAEAAAAAAAAAAQABAAAAAQAAAAAAAAABAAAAAQAAAAEAAQABAAEAAQACAAEAAgABAP7/AAD//wAA//8AAP//AAD//wAA//8AAAAA//8AAAAA//8AAAAAAAAAAAAA//8AAAAAAAAAAAAA//8AAP//AAD/////AAAAAAAAAAD//wAAAAAAAP//AAD//wAA//8AAP//AAAAAAAAAAAAAAAAAAD/////AAD9/wAAAQD//wAA//8AAP7/AAD//wAA//8AAAAAAAAAAAAAAAAAAP//AAAAAAAAAAAAAP//AAAAAAAAAAAAAP//AAD//wAAAAD/////AAD//wAAAAAAAAAAAAAAAAAA//8AAAAAAAAAAAAA//8AAAAAAAAAAAAA/////wAAAAD//wAA//8AAP//AAD//wAA////////AAD//wAA//8AAAAA//8AAP////8AAP//AAD//wAA//8AAAAAAAD//////////wAAAAAAAAAA+//9/wAA/v8AAPz/+v/8//r////8//3//v/8/wEA+//9//3/+f////v//f8AAP//AAD8////+v/2/////v8AAAAA+/8AAP////8CAP3/AAAAAPz/AQD//wAAAAD8/wAA///7/wAAAAAAAP////8DAP3/AAD+//3//v/8/wEA//8AAAAA+/8BAP//+/8BAAIA///8/wAAAwD+//7//f/9/wAA//8AAAAA//8CAAEA//8AAAAAAQD///z/AAADAP7/AAACAAIAAQAAAPz/AAAAAPz//v////3/AAABAAEAAAD9//z/AAAAAP3//v8AAP///P8AAAEAAgD+//7/AwD9/wAA/v/+/wMAAAACAP7///8AAP3/AAD//wAAAwD9/wAABAD9/wAAAAD///3///8CAPv/AAD+////AgD9/wAA/P/1/wAA/f8AAP//+P8AAPr/AAD8//b/AwD6//v//P/1/wAA+//+/wIA+P8AAP///P8BAP7/AAD///b////+/wAAAAD8/wAA/P///wMA/v8AAP///P/+//z///////3/BAD+////AAAAAAEA/f8AAP3///////v/AAAAAPv/AAAAAP//AgD9////AgD+//3//f/+/wAAAQD+//z/+/8AAAMA/v8AAAQAAgADAP//AAAAAAEAAAAAAAQA/v8AAAAAAAABAAMAAQAAAAAA/P8AAAIA///9/wEA//8AAAUA//8AAAIA/f8AAAMA/f8AAAAA/P8CAP//AAAAAP7/AwD/////AgD+/wAAAAD+/wAAAAAAAAAA/v8AAAAA/P8AAAEAAAACAAEAAQACAAEAAAAAAAAAAwD///3/AQD///z/AAD+/wAAAQD9/wAA/f///wQA/f8AAP///P8CAP3///8EAP7/AAD/////BAD///v/AQD///z/AQD///v/AQABAAAAAgABAAEAAgAAAAEAAQABAAAAAAACAAIAAQACAAIAAQACAAIAAgACAAIAAQACAAEAAgABAAAAAQAAAAEAAQABAAEAAgABAAEAAgAAAAIAAQABAAEAAQABAAEAAQABAAIAAQABAAEAAgACAAIAAQABAAEAAQABAAEAAQACAAIAAQABAAEAAQAAAAEAAQABAAEAAQABAAEAAAABAAEAAgACAAEAAgACAAIAAgACAAIAAgABAAEAAQABAAEAAQABAAEAAQABAAEAAQABAAAAAQABAAEAAQABAAIAAgABAAEAAQACAAIAAQABAAEAAgACAAIAAQACAAEAAQABAAEAAQABAAEAAQABAAEAAQABAAEAAQAAAAAAAAAAAAAAAAAAAAAAAQAAAAAAAQABAAEAAAABAAAAAQABAAEAAQABAAEAAQABAAEAAQABAAEAAAABAAIAAQABAAEAAAAAAAEAAQAAAAEAAAABAAEAAAABAAAAAAABAAAAAAABAAAAAAAAAAAAAQAAAAEAAQABAAAAAQABAAAAAQABAAEAAQABAAEAAQABAAEAAQABAAEAAQACAAIAAgACAAIAAgACAAIAAgACAAIAAwACAAIAAwACAAMAAwADAAMAAwADAAMAAgADAAMAAgACAAMAAgACAAIAAgACAAIAAgACAAIAAgACAAIAAgACAAIAAgACAAIAAgACAAIAAgACAAIAAgACAAIAAgACAAIAAgACAAIAAgACAAIAAgACAAIAAgACAAIAAgACAAIAAgACAAIAAgACAAIAAgACAAIAAgACAAIAAgACAAIAAQACAAIAAgACAAIAAgACAAIAAgACAAIAAgACAAIAAwACAAMAAwADAAMAAwADAAMAAwADAAMAAwADAAMAAwADAAMAAwADAAMAAwADAAMAAwACAAMAAwADAAMAAwADAAMAAwACAAMAAwACAAMAAwADAAMAAwACAAIAAgACAAIAAgABAAEAAgACAAIAAQABAAEAAQABAAEAAQABAAEAAQABAAEAAQABAAEAAQABAAEAAAABAAAAAAAAAAAAAAAAAAAAAAAAAAAAAAABAAAAAAAAAAAAAAAAAAEAAQAAAAEAAAAAAAAAAAAAAAAAAQAAAAAAAQAAAAAAAAAAAAAAAAABAAEAAAABAAEAAQABAAEAAAABAAAAAQACAAEAAQADAAMAAQD+/wAAAwD+//z/AAACAAEAAQABAAAA/f/9//7//f8AAP//AAD+/wAAAAD//wAA/P/9/wAA/f/8//3//P8AAAEAAQABAP///f/9//3/AAACAAAA/v/8/wAAAQACAAAA/f/+//z//f/+//3//f8BAP//AAAAAPz/AAD+/wAAAAD7//v/AAADAAAAAgD///3/AQD+/wAAAAD//wMAAAD9/wAAAwD+//3//v8AAAAA/P8AAAMA/v8AAAIAAgACAAEAAQD///z/AgACAAEA//8AAAQA/f/7/wAAAwABAAAAAAD9//3/AAACAP///v///wEAAQD+/wAAAgABAAIA/v/8/wAA/v/6/wAAAwACAAIA/v8AAAMA/v8AAAIAAAACAAEA/v8AAP///P/+//3//f8AAP//+/8BAP//////////AgACAP7//P////v/AAAAAPr/+//6//r//P/8//z//v/9//z//v/6///////2////AwD7/wAA/P/9////+/////n//v8DAAEAAQAAAP7//P8BAP//AAAAAPz/AAD+//r/AAACAP7/AAD///v//f8AAAAAAQAAAPz//f/8//3/AQD+//7/AwAAAP7/AAD///3/AAAAAAIA//////7//P8BAP///f/9//3//P///wQA///8/wAAAAD9//3/AAD/////AgABAP7//P8AAAIAAAD8/wAA///8//3/AAAEAP///P/+//7/AAADAP//AAADAP///f/9/wAAAwD///r/AAD///v/AAD+/wAAAAAAAP//AAD///v/AgD+////BAAAAAIA///7/wAAAQABAAEAAAABAAEAAAABAAIA//8AAAMAAQABAAIA/f8AAAAA//8CAP7/AAAAAP7/AQABAAAAAAAAAPz/AAD///3//v8AAAEAAgABAAIAAgD//wAAAQABAAIAAQABAAEAAQAAAAEAAgABAAAAAgACAAAAAQABAAEAAQABAAIAAgACAAEAAQAAAAEAAgABAAIAAgABAAEAAgABAAEAAQACAAIAAgAAAAEAAQABAAIAAgABAAEAAQABAAEAAgACAAEAAQABAAEAAQAAAAEAAQAAAAAAAQACAAIAAgABAAEAAgACAAEAAgABAAEAAQABAAIAAQABAAIAAQACAAEAAQABAAEAAQACAAEAAgABAAEAAgACAAEAAQABAAEAAQACAAIAAgABAAIAAgABAAIAAgACAAIAAgABAAIAAgACAAIAAQACAAEAAQABAAEAAQABAAEAAQABAAAAAQABAAAAAgD//wAAAwD9/wEA/v8AAAAA+/8BAP7/AAAAAAAAAAD7/wAAAAAAAP//AAD+////AwD9/wAA//8AAAAA+/8CAP//AAD//wAAAAD7/wEA/v/8/wAA//8AAP7/AAAAAPz/AAD//////v///wIA/v/8/wAA/f///wMA/f8AAP//AAD/////AwD9/wAA//8AAP//AAADAP7/AAACAAIA/v8AAAAAAAD+////AwD9/wAAAAAAAAAA/P8BAP//AAAAAAAAAAD8/wAAAAABAP7///8DAP3/AAAAAP3//f8AAAAA+/8BAP////8DAAAAAgD8/wEAAAD6/wIA/////wAAAQABAP3/AAAAAAAA/v8AAAEA/P8BAAAAAAD//wEAAwD8/wEAAAD8/wEABAD+/wAAAQAAAP//AAAEAP7/AAACAAAAAAD7/wEAAQD5//v/AQAAAPn/+v8DAP//9f8EAAIA+P/0/woAEADm/wcAAwDy//f/7/80ANv/9f8qAMv/GQDg/x0ADwDJ/z8A2P8QAOv/AwAfAL7/NQDf/w0AAADr/ycA1P8KAPX/CAD9//X/FADt/wgA+/8AAAEA+f8FAPz//v8BAAIA/v/+/wAAAAAAAAAA/////wIA/f8AAAMA///+//v/AAD///z/AgD//////////wMA/v8BAAQA/v/9/wAAAgABAP//AAD9//z/AwD8/wAAAAD6/wAA/P//////AQAAAP7/AAAAAAAA/f8AAAAA/v8CAAEAAAD//wQA+//8/wIA/P8EAP///f8DAPn/AAAAAPn/AgD9////AAD8/wIA///+/wEAAgD+/wAAAQAAAAEA/v/9/wAAAgD//wAAAAD8//3/+v/+/wAA/f/7//v/+//9/wEA/P/6//7////9//7/AAD7//z//f8AAP///v8AAP3/+//6/wAAAAD8//z/+//8////AwD+//z////9//3//f/9//3/AAAAAAIAAgD8//3///8BAAIAAAAAAAAAAgAAAP/////8//3//v8AAAIAAgAAAP///v/7//3//////wEAAAD///7///8AAP//AAAAAP7//v//////AgADAP7//f8AAAIAAwACAP///f///wAA/f/8/wAA/f8AAAEA/f/8//z//P///wAAAAD7//3/AQABAAIAAgD8/wAAAQD9/wIAAgAAAP///P/9/wEA/f/8/wAA/f/7/wAAAAD8/////f/6/wAABAD/////AAD//wAAAwAAAP//AgAAAAAABQAAAPz////9//3/AAAAAPv//v/9//z/+v/5//z//v8BAAAA/v/7//7/AAD9//n///8CAP3/+//6//j//v/9//r/+v/7//z//f8AAP7//f/5//3/AAADAAAAAAAAAPr/AQAEAPz/AQD///v/AgACAAAAAwD+//7/AAD9/wAA//8AAP///v8CAP3//v8CAP//AAACAP///P8AAP3//f8EAAAA+/8AAAIA/P//////+//9/////P/9/////P/8/wAA////////+//7/wAA/v/6//3//f8BAAAA/f/8////AQD+/wAAAQAAAAQAAAD//////v8BAP7//v8EAP7///////3/AwD+////BQD+//7//f/8/wEAAwD///3/AAACAAAAAQAAAP7/AQAAAAAAAAAAAP7/AQABAP7//P/8//7/AAACAP7///////v/AAABAP//AgD/////AAD4//3//P/6/wIA/P////7/9v8AAPn//v8HAPr/9//9//r//v8AAPv/+v/8/wAAAAD+//n//P/8//z//P/7//7//P/9/wAA+//+/////P///wAA/P//////+/8AAP//AAAEAP7//P////v/AAACAP//AAAAAP7/+//+/wAA/v8AAAAA/f8AAPz/AAABAAEAAwD9/wAA/////wQA/v/+/wMA///9/wEA/v/+/wMA/f/7/wIA///+//3/+/8AAPz//v8AAP7////8//3/AwD+//v/+v/7/wEABQAAAP///P/4/wMAAQAAAAUAAAD///b/9//+//7/BAAEAPv/AAD9//v/AgD+/wAAAgD+//3////4//n//f///wAAAwADAAIABQABAAAAAQABAPn/+/8BAP3//f8AAPr//f8CAAEAAAD9//n/+v/8//r/9v/6/wYACAAHAAUA+//z//z//f/6//7//v/2//H/9f/3//f//v///wMABwALAA4ACQADAPn/+P/1//H/+P8AAP3//P///wQABAAFAAoABwAEAP//+//7//v//P//////AgAFAAoADQAJAAQA///4//f/8//2//z//v8AAAUACwAJAAYAAAD3//n/+v/+/wsABwAHAAUA/f/9/////////wAAAAD6//3//v/9/wAA+P/1//7/BwAIAAsADAAHAAQAAwAAAAAAAAAAAPv//f/7////BgABAAEAAQD8//r///8CAAAA/v8FAAMAAAAEAP//AAACAAEABQACAAAA/v8AAAEA/f8CAAgABAAGAAQA/f/5//b/+P/5//z/AgAHAAUAAAAAAAAAAgAEAAMAAgD9//j/+f8AAAEAAgALAAcAAQACAAAAAQD6//f/+v/2/wEAAwAHAA8ABQAAAPz//P8AAP3/AAABAAIACQACAAIAAwAAAAEA+//6//r//f8JAAcAAAAGAAgABQABAAMAAAAAAAQA8v/c/9v/0v/Z/wIAOwB5AJcAgwA1AOb/vP+V/37/bP9l/4r/8/9LAE8AXABDAAoA+f/Q/7j/3v8OABgACgASABIAFQAbAAsAAgD7//T/4//e/+n/+v8VABIAAQD8////EAAQABcAKAAxAD0AOAAbAA8AFgAKAAAA+f/x//P/+/8FAAAA/P8EAAMAAAAGAAMACQAOAAQA/f/6//v//P/9//3//v/7//r/+v/7//v//v/6//v//v/7//r/+v/8//v/+P/8//7//v/9//z/+//4//r//v/9//3/+//8//3//f8AAPz//P/5//j//f/9//v//P/8//z/+v/6//3/+//4//j/+f8AAAAAAAADAP//AQAAAP7/AgACAAQAAQD//wUA//8AAAQAAwABAAEAAgACAAUABAACAAMAAwABAAEAAgACAAIABQABAAAAAwAAAP3/AQAAAP//AgABAAEABQAJAAIA//8AAPr/+P8AAAEAAAABAAAA/v8BAAMAAQABAAMA/v/+/wIAAQACAAQAAgACAAUA/f/+/wYA//8AAAQAAwADAP////8AAP3/BAAEAP3/BAAAAP7/AwABAP//AQACAP7//P8BAAAAAAACAAAABAD9//7/BAABAP3/+f/9//v/AAADAP//AgAAAPv//f8AAAIABAABAP///v8BAAQAAQAAAAIAAAD7/wAAAAAAAAEA/v8BAAEAAAAEAAQAAQACAAMAAAD//wAABQAAAP3///8AAP//+/8BAAMA/f8CAAUAAAAAAPz/+f8AAAEA/f///wAA///7//3////+/wMABQADAAAA/f8AAAQAAgD9//3/AQADAAQABAD////////3//z/AwD+//7/AgD+//r/AwACAPz/AQAAAP7///8AAAUAAAD//wAA/P8AAAEA/f/+//////8CAAMAAgACAAMAAQADAAIA/P8AAAAAAAABAAAAAAADAAYA/f///wAA/v8AAAIABQD+//7/BQAEAAEAAAD///r/9P/1//v/AQAAAAAABgAAAP//BAAEAAEAAgABAPz/AQABAP3//v/8///////+/////v/8////AAD///z///8CAAAA/v/9/wIABQD///3//v////j/+/8BAP//AgAFAAQAAwD9//7//v///////v/+//v//P/9//3/AAD9/wAAAAD7//v/+//7//z////9//7/AAAEAAAA/f/////////+//v/+v/5//n///8AAP7/AQADAAIA/v8AAAUA/v8AAAUAAAD+/wEAAQAAAP7///8AAAIAAgACAAAAAAABAAIAAAACAAUAAgABAP7//v/+/wAAAgAAAAEAAgAFAAUAAwACAP7/+//9/////v///////f8AAAIAAgAAAP//AAAAAAQABgAAAAAA///+/wAAAAAEAAAA/f8CAAIA//8CAAAA/P/9/wEAAQAAAAEA/f/+/wAAAAAAAAMABAACAAQAAQD+/wAA/v/+//3//f8BAAMA/v8AAAIAAwABAAAABAABAAEA/////wAAAAABAP//AQADAAAAAAABAAAA/P8DAAUAAwD+//z/AgAAAP////8CAAQA//8AAAIAAgADAAIA//8BAAUAAAAAAPz/+//7//v//f8AAAYAAQD8//r/+//9//3//f/+/wAA///8//7/AQACAAUAAQD//wEAAAD5//r/AgAAAP//AQAEAAMAAgAFAAMAAwAAAP3///8AAP//AAD+////AgAAAP7/AAACAAUAAAAAAAQAAAD///v//P8DAAAA/f8BAAQAAwADAAEAAAD////////7/wAAAQD8//3///8CAAYAAQD///7//f8AAPv/AAABAPv//P/9/wAAAQD9//r/AAAFAAMAAAD+/wAA///7//7/BAAAAAAABAADAP///f8AAAAAAQABAP//AAAEAAMAAwD+//3/AgAEAAAA/v/+///////+/wIAAwAEAAUAAAAAAAQAAwADAAQAAwAAAP/////+///////9/wAAAAD9////AQAAAPn/+/8CAAAA/P/7//v//P/7//z/+//9/////v8AAP7/AAD///7//f8BAAAA/f////z/AAAEAAEABAADAAAAAAAAAAAA//8AAAIAAQABAAQABAAAAAEABAACAAIABQAAAAIABAD9/wEAAwABAP//AAAGAAMAAwAEAAMAAwADAP///f8CAAQAAAD//wAAAgADAAIA///+/wAA//8CAAMAAwAFAAAAAQADAAEAAwAAAP7/AQAFAAAA/v8CAAMABAACAAIAAwAAAP//AQADAAMABQAEAAQABQAAAAAAAAAAAAQAAAABAAQAAwD///7/AQADAAMABAAEAAAA/////wAAAgAFAP////8AAAAABQAAAP7///8AAAMABAAFAAUAAAD+/wEAAwACAAIAAwAAAAEAAAABAAUAAQADAAAAAwADAAAAAAD+//7/AAABAAAAAAABAAAAAQAAAP3////7//r//P/+/wEAAAABAAEAAAD+//z/AAD+//3//v////7///8DAAAA/v8AAAAAAAADAAMAAAAAAAAA//8AAAIABAD//wEAAAD8////AQAAAAIABAADAAQAAwAFAAQABAAFAAAAAAADAAIA/////wAA/v/+/wEAAwAAAP3/AQAAAP7//f/+/wEAAgAAAP7/AAD///7/AAAAAAMAAAD9////AAD9//v//f8AAAMA///7/wIABAD+//v/AQAFAAAA/v/9//7//v/9/wAAAwAEAAQABAAEAAMAAwADAAAAAAACAAIAAAD8/wEAAwD///3/AwAEAP7//v/+/wAAAAD+////AQADAAAA/v/+/wAABAAAAP/////+/////v8DAAAA+//8//z/AQD///r//f8AAAQAAwD+//z//v/8//r/+v8AAAUAAAAAAAUAAwABAAEAAAACAAAA+f/7////AAD9/wAAAQACAAMAAAAAAAEAAwAAAPz/AQAAAP7//////wAA//8AAAAAAAD/////AQD8/wAABAAAAP////8BAAEA/P8BAAMAAAD///7/AQAAAP3/AAD//wEABAD//wAAAwABAAAA//8DAAQAAAACAAAAAAAAAP3//f8BAAMAAgADAAQAAwAAAAAA//8AAAMAAgADAAAAAAADAP/////////////////////9/wEAAwAAAAEAAAACAAAAAAAEAAEAAAAAAP////8AAAEA///8////AgABAAAABQAEAAAAAgAAAAAABQAAAP//AgAAAAEAAAD9//7/AQAEAAAAAgAEAAIAAgADAAQAAgACAAMABQAAAAEAAQD8/wIAAAAAAAEA/f8BAAAA/f///wAAAQADAAAA/f/+/wAA///9/wAAAwACAAMAAgADAAMAAgACAAMABAACAAIAAQADAAMAAwACAAMABAACAAQAAwACAAMAAgACAAMAAgADAAMAAgADAAMAAgACAAMAAwADAAEAAgADAAMAAwACAAMABAADAAQAAwADAAMAAgADAAIAAgADAAIAAwADAAMABAADAAMAAwADAAMAAwAEAAUABAADAAUAAwADAAQAAwADAAQAAwACAAMAAwACAAMAAwADAAQAAgAEAAMAAwAFAAMAAwADAAIAAgACAAMAAwADAAUAAgACAAQAAwADAAUAAwADAAQAAwAEAAMAAgADAAIAAgAEAAQAAgAEAAEAAwAEAAIAAgADAAQAAwADAAAA////////AwAAAPz/AAAAAP7////9/wAAAAD9/wEA/v8CAAIA/f8BAAIAAwABAP//AwADAAAA/v/+/wEAAAD+/wIA//8AAAMA//8AAAEAAAABAP////8BAAAA/v8DAAAA/f/9/wMAAAAAAAUA//8BAAAAAAAEAP//AQAAAAAA//8BAAEA/v8DAAAAAgAEAAAAAgADAAAA/v8EAAAAAQABAP7/AgABAAEAAAD///3/AgAGAAEAAwACAAUAAAAAAAEAAAADAAAAAAAAAAEAAQD9/wEAAAD+/wAA/f8AAAYA/v/9/wIAAAAAAP//AQAAAP3/AAD9/wIAAAD9/wMAAAACAAAA/P8AAAQABAAAAPz/AAAFAAAA/f8CAAQA//8CAAAAAAAGAP//AQADAAQAAAD9/wIAAQADAAAA/f8BAAEA/P8AAP3///8FAAAAAgD+/wAAAAD6/wUA/v///wAA+f8AAAQA/f8CAAAA/f/9//n/AwD+//7/BAD9//3///8BAAMABAAEAAMA//8DAAUAAAD+////AgAFAP7///8AAP3//v8BAP//AAAFAAAAAQAEAAAA/v8CAAEAAQABAP3/AAABAP///v8CAAIAAAAAAP7/AgAFAP//AQAAAAAABAABAAIAAAAFAAEA/P8CAAUAAgAAAP3/AgABAP//AgAAAAIAAQAAAP//AQAEAAAAAQACAAIAAAABAAEAAAAAAAIABgADAAAAAQADAAIAAgADAAAAAAAEAAIAAAAAAAAAAgD+/wAABgAAAAEAAAABAAQA/f8BAAIA//8CAP///v/+//7/AwADAAEAAwABAP7/AgAAAAEAAAD+/wEA/v8BAAAA///9//r/AgAAAPv///8AAAQAAAD7/wEA///+//7//P8DAP7/+P8AAAAA/f/+/wMABAD+//3/AgABAP//+f/8/wMA/v/7/wAABAAAAAAAAAD+//3/AAADAAIAAgAAAP7/AAD//wAAAwAAAAEAAAD+/wUAAgABAAMA/////wAAAAD9/wAABAD///z/AQACAAMABgD/////AgAAAAEAAAABAAAAAgACAP3////+/wAAAQD//wIAAAABAAQAAAD/////AQAAAP//AwAEAAAAAAD//wAAAgADAAUAAwAFAAEA/f8CAAEA/v/8//7/AAAAAAIAAwD/////AQAAAP//AQD/////AAD//wAAAAAAAAMAAAABAAMAAAD//wMAAQAAAAQAAQAAAAMAAgAAAAQAAgABAAIAAgAAAPz/AgACAAAAAAD9//z/BAAAAAAAAQD9/wIA/f8AAAAA+v///wAAAAACAAAAAAD6/wAAAQD9//7//P////v/9//8/wIA/v///wMAAwADAP//AQABAAAAAAD7/wEACQACAAUAAQAAAAEAAgAEAAIABQAAAAMABAACAAIAAAABAAQABQABAPv//v8BAP7/AAD//wMAAwD//wAAAgADAAIABQAAAP7/AAD//wAAAgADAAIAAgAGAAEA//8CAAIA/v8AAAQAAAABAP//AAAEAAAAAAAAAAAAAwABAAEAAgAAAAEAAgD9/wAAAAD//wIAAgAEAAUABQAEAAAAAAACAP7/AAAAAAAAAgAAAAAAAAAAAAMAAwD9/wAAAgAFAAMA//8DAP////8AAAAABQADAAIABgABAAAA/f///wEAAAABAAMAAwAAAAEAAAAAAAAA//8BAAIAAAD5//z/AgD+/wAAAAD8/wAA+v8AAAAA+//+//v//P//////AAAAAAIAAQD9/////f/7////AAAEAAEA/f8DAAAAAQADAP3/AgABAP//AAD+/wQAAgAAAAAA/v8AAP3/AAACAAIAAwAEAAAAAAAGAP7//v8BAAMABQAAAP////8AAAIAAwADAAIAAAACAAYAAwACAAAAAAD+/wAAAgAAAAEAAAD9/wAAAAD///7/AAD///3/AwABAAAAAQD+/wIAAgD9/wIAAQAAAAQAAwACAAMAAwAEAAMAAwACAAAAAQACAP7///8CAAIAAwAAAAIABAADAAQAAAACAAAA+/8AAP///f/+/wEAAAD//////v////7/AQAAAAAABQD//wEAAQABAAQAAgADAAMAAgAEAAIAAAD//wMAAAD///7//f/8//z/AAD///3//v8AAAEAAAAAAPv///8BAPz/+//8////AAABAP//9//+//z/+f8BAAAAAQADAAEAAQABAAAAAQAAAAAAAQABAAIAAgABAAIAAAABAAEAAAAAAAAAAQACAAAAAAABAAEAAQAAAAAAAwABAAIAAAAAAAEAAQAAAAAAAAABAAAAAQAAAAAAAAAAAAIAAAD//wEAAAADAAIAAAAAAAIAAAAAAAAAAAAAAAMAAAD//wQAAQD+/wEAAAAAAAAAAAAAAAAAAAD//wAAAAAAAAAAAAAAAAAAAAAAAAAAAQABAAAAAAAAAAEAAAAAAAAAAQABAAEAAAAAAAEA/v/+/wEAAAABAAAAAAABAAAABAADAAAAAQAAAAAAAAABAAAAAAAAAAAAAQD9////AQAAAAEAAAAAAAAAAAABAP7///8CAAAAAQAAAAEAAAABAAAAAQAAAAEAAQABAAAAAgABAAEAAQABAAEAAQABAAEAAAAAAAQABAADAAMAAwACAAMAAgADAAMAAwADAAMAAwADAAIAAwADAAIAAwADAAMAAwADAAMAAgACAAMAAwACAAMAAgADAAMAAwADAAMAAwADAAMAAwADAAMAAwAEAAMAAwADAAMAAwACAAMAAwADAAMAAwADAAMAAgADAAMAAwACAAIAAgABAAEAAQABAAEAAQABAAEAAQABAAAAAQABAAAAAQABAAEAAQABAAEAAQABAAEAAAABAAEAAQABAAAAAQABAAEAAQABAAEAAQABAAEAAAABAAEAAAABAAEAAQAAAAEAAQABAAAAAQAAAAAAAQABAAEAAQABAAIAAQACAAEAAgACAP//AAD//wAAAAAAAAAAAAAEAAMA//8AAAMAAwD//wEA//8AAP//AAAAAAAA//8AAAAA//8DAAIAAAAAAP//AAAAAP//AAAAAP//AAD//wAA//8AAP//AAAAAAAAAAAAAP//AAAAAAAA/v8AAAAAAAAAAAAAAAAAAAAAAAD//wAAAAAAAAAAAAD//wAAAAAAAP////8AAAAAAAAAAP////8AAP////////7/AAAAAP//////////AAAAAAAAAAD//wAA//8AAPz//f8AAP//AAD+//////8AAP7//v///wAA//8AAAAA//8AAAAA/////wAA///+//7//f/+////AAAAAAAA//////3//f/9//3//v8AAP7/AAAAAP///v/+//7/AAD+////AAD//wAAAAD//wAA////////AAABAAAA/v/6//r//v/+/wAAAAD5//v/+//5//3//f/9//7/AAAAAPr//v/9//n/+//7//v//f/8////AAD+/wAAAgAAAAEA/v/8//z//f/9//7/AQABAAIAAgAAAP///f/8//z//f/9/wAAAQAAAAMAAAAAAAAAAAABAAEAAQAAAP7//v/8//z/AAAAAAEAAQABAAAA/v/+//7//v8AAAAAAAAAAAEAAAD8//z/AAABAAIAAQACAAEAAQD+//z//f/9/wAAAgABAAIAAQAAAP//AAAAAP3//v8BAP7/AAAAAAAAAAAAAAAA/P/8//3//f/9//7//f/+/wAAAAD9//3/+////wAA/v///wAA/P/9//3//f/9//3/AAACAAIA/v/+//7//f/9//7/AAACAAIAAQABAAEAAQD+//z/AAACAAEAAAD+//z/+//8/wAAAgACAP3/+//5//n/+P/6//z/AAACAP//AQABAPz/+v/6/////v/6//v/+v8BAAAAAAAAAAAAAgACAAAAAAABAP7/AQADAAIA//8AAAMAAAAAAAEAAAABAP///f/9/wEAAgADAAIAAAD+//v//f/+//z//f/+//7//f8AAAEAAQACAP///v////z/+/8AAAMAAwAFAAUABAD+/wAAAAD7//3//P/9/wAAAgABAAMAAgAAAAAA+f/6//n/+f/7//7/AwABAAEAAQD9//v/+P/2//v//P///wIAAwACAAIAAgADAP3/+f///wAA//8AAAIAAAABAAAAAAAAAP7/AAD+//r//v8AAP//AAACAAAA/f/+//3/+//8//7//f8AAAEAAQAAAAIAAAD+//3//f/+/wAA/v///wEAAQD+//z//P/6//j/+v8BAAMA/v/9/wEAAgD//wAAAwD///3//f/5/wAA/f/9/wUA///8//z//P/8//r/AAAGAAQAAQD///7//f8AAAAA/P///wAAAwACAAQABAABAAIAAAABAAMAAgACAAMAAgAFAAEAAAADAAIAAQABAAEAAAD9//v/+v/7//3//v8CAAIA/////wAAAgD///7/AQAEAAMAAAACAAUAAwAAAAAABQAFAAAA/v8AAP///P8BAAAA//8AAAMABwAAAP////8AAAMAAgAAAAEABQAFAAMABAADAAEAAwACAAIA///7//3//f/9////AQAEAAQAAgABAAAA/P/8/////////wAA//8AAAAAAQABAAQAAwD9//j//P/7//v/AgAEAAMADAAUAAkAAAAAAP//+//7//7/+v/7///////9//v/+//6//r/+//7//v//P/7//z//P/6//v//P/9//v/+//8//v/+v/5//r/+/8AAAUAAwADAAQABAAFAAMAAwADAAIAAwADAAQAAwACAAQABAAEAAMAAgAFAAMAAQABAAAA///+/wAAAgADAAUABAD///7//f/8//n/+/8DAAEAAQAFAAUAAwADAAQA//8AAAMAAgAEAAQABAAFAAIAAgAFAAQABAAEAAAA/v/+//3//f/9/wEABAAAAP7//v/+//7//v/9//7//f/9//z//f8CAAMAAwAEAP///v/+//7//P/9/wAAAwAEAAUACAABAPz/+//5/wEAAAD+/wAAAAACAAIAAAD9////AgAAAAIAAAAAAAEA/v///wEABAAEAAAA//////7//////wAAAgAAAP7///////z/+v/8/////f/6/////v/9//z//v/9//n/+/8CAAMA/v/8//z/AgABAP3///8BAP7/+f8AAAAA/v/9//z/AAD+//3/AwACAAIAAAABAAIAAgAAAP3//v8CAAUAAQABAAAA/f8BAAMAAwACAAIAAAD9//3///8AAAIABAAEAAQACAACAPz/9//9/wUAAQACAAYABwAHAAcABAD///z//f///wAAAAABAP//AQADAAAAAAABAAAA/v8AAAIABQAEAAAAAQACAP7/AAD+/wAAAwACAAMACQAFAAAAAgACAAAAAAADAAEAAAAEAAMAAQD+////AgAAAAAABAAFAAAAAQACAP//AAAEAP///f/9//3/+//4//3/AgAAAP7/AgAEAAAAAgABAPz//v/9//7/AQADAAEAAQAHAAAAAwAEAAIA///6//n/9f8AAAUAAwABAPv/AQD+//r//P/7//v/+v8AAAAA/P/+/wEAAQD6//z//v/4//b///8GAAUABQADAAIAAAD//wEA/////wAAAQABAAEABQAAAP7/AAADAAMAAgAEAAYABwAAAP3//f/5//j/+f/6//3/AgAEAAIABQAEAAIAAwD///7////9//7//v/9//z///8FAAcACQAMAAkABQD+//3/AAD8//3/AgAFAAcABAD///7/AAD+/////v/+///////+//3////9//r//v/9//3////+/////////wAA/f/+/wAA/v/9////AQACAAIAAAD+//7/AAABAP3/AAADAAEA///8//7/AAABAP7//P8AAP///v////7///8AAP7/AAADAAAA/v/+//z//v8BAAEAAAD+/wAABAAAAP///v/8//z//f8BAAQABAAEAAIA///8//3/+f/6//v/AAAHAAAAAgAFAAIAAAD8//r//P/9//z////+//z/AAAAAP////8CAAQABAACAP///////wEAAwADAAQAAQAAAP////8AAAAAAgACAAQABAAAAPz/AgAFAAQAAAACAAAA/P8AAAQABAAAAP//AAACAAIAAwAEAAEAAwAFAP////8AAP///v/+/wIAAAD9//7/AgAAAAAABQACAAAAAAD+//7//f/+/wAAAgADAAAA//8BAP///v///wEAAwADAAQAAwAAAP3/AAADAP7//f8DAAUAAwADAAAAAQAEAP///P8BAAQAAAD//wAAAgADAAMAAwADAAIAAAD+/wAAAQACAAAA/v8CAAAA/v///////v///////f////7//f/8//z//f/+//v/+//8//v//v8BAAMAAAD9//r/AAABAAIAAAD8//z//v////7//v/7//v//v/+//7//v/9//3/AgAEAAMAAgADAAQAAQD//wEABAAHAAcABQADAAMAAgABAAMAAAD8//7///8AAP//AAAAAP//AAAAAAMAAwD///3//v8BAAIAAwAFAAUABAAEAAUAAAD7//z//v8EAAEAAQAEAAIAAwADAAIA///+//3//f8CAAAA/f8AAP3/AAACAAIABQABAAMABQADAAIAAgAAAPz/AgAGAP///P8AAAMAAQD9/wEABAACAAMAAwAEAAIAAgACAAAA/f/9//7//v8AAAAA/v/+//7/AQACAP//BAAFAAMABQADAP//9v/3//7/AQADAAQABQACAAIAAwAFAAMA///9//7//v8AAP7/+//9/wEAAwAEAAEA/v/+//v//P////7/AAABAAIAAAD9//v/+v/8//n/AAADAAMAAwABAAAA/////wEAAQACAAAA/P8CAAUAAwAAAAAAAAD///7/AAADAAYAAQD9/wEAAAD+/wAA//8BAAIAAgADAAAA/v//////AAACAAAA//8CAAIAAAADAAMAAwADAAIAAQD///z/9//4//7/AwAFAAUACQAFAP///P8AAAAA/v/+/wEAAAD9/wAAAgAAAP//BAAFAAMAAgAAAAAA/v8BAAUA//8BAAIABAABAAAABQAAAP7/AQAEAAQAAwACAAQAAgD+/wIAAAD/////AgAGAAEA/v/+/wIAAAD8////AAD+/wAAAwADAAQAAAD+/////v8AAAMAAAABAAQAAAD/////AAAAAP//AgADAP///P/7//v/+//7//z///////3/+//9//3/+P///wMAAAD+///////////////9//j//P8AAPz//v8AAAAA//////////8AAP//AAAAAP7////+//7/AAD//wEAAgD+//7/AQAAAAEABAACAAMAAwABAAAA/f/6//n/+//9/wEAAgABAAMABAAFAAQAAAAAAAIA/f/9/wAAAAD///7//////wEAAAD//wIAAAD+/wIABAADAAMABAACAAMAAQADAAAAAAAEAAEAAgAEAAQAAwADAAIAAgD+//v//f/8//z//v/+/wAA///+/wAAAAD/////AQADAP///P/8//7//v///wAAAgACAAMA/v8AAAAA/f8AAAIAAgACAAAA/v/+/////v///wAAAAD+//7///////7///8AAAIAAwADAAMABAAAAP//AAADAAAAAAAEAAAA///+//3//P/8//v//P/7//v//P/8//3/+//7//z//P/8//v/AAAEAAMAAAD+/wIAAAAAAAQAAQAAAP////8AAP///v////7////9//7////8/wAAAAD9//7/AAAEAAMA//8AAAIAAQABAAIAAgACAAMAAwAEAAMAAwAEAAMAAwADAAMAAwAAAAIABQAAAAAA///9//7//v8AAAMA///+//7//v8AAP3//P/+//z/AQADAAMABQAEAAMABQAAAP///f/7//3//v8CAAQAAwACAAIAAwAAAAAA/v/8//3/AQAEAAUABwAEAAIAAwAAAAAAAAD///7/AAD//wEAAwAEAAQAAwADAAUAAwACAAAA/f8AAAMAAwACAAMABQAAAP3//v/+/////////wAAAAAAAP7//P/7//v//f////3/+//8//v/+/8BAAEA+//6/wAABAACAAAAAAADAAEAAgADAAIAAwADAAMAAgD//wEABAACAAMABAADAAQAAgAAAP//AAAAAP//AAAAAAAAAAABAAMAAgAAAAAA//8BAAUAAQD+/wEAAwD///7/AgAFAAIAAAD//wAABAABAP7///8AAAAA/////wIAAQAAAP//AAACAAMAAAD+/wEAAwACAAAAAAAAAAIABAADAAQABAD//wAABAACAAQAAgABAAIAAAD+//7//v8AAAIA/f/7/wAAAwACAAIAAgACAAMAAwAAAP7//////wIAAwADAAMAAwADAAAA///9//z//P/9/wIAAwADAAMAAwADAAIAAAD+/////v8BAAMAAwADAAMAAwADAAMAAAD+//7/AAAAAP7////+/wAAAgACAAMAAwACAAMAAAD9/wEAAgABAAEAAwD///7//v8AAAQAAAD+/wEABAAAAP/////+//7//f8AAAMAAwADAAIAAwADAAMAAwADAAIAAwADAAMAAgADAAMABAADAAIAAwADAAMAAwADAAMAAgADAAMAAwAEAAMAAwACAAMAAwACAAMABAAEAAMAAwADAAMAAwADAAQAAwADAAMABAADAAMAAwADAAMAAwADAAMAAgACAAMABAADAAIABAAEAAMAAwADAAMAAwACAAIAAwADAAMABAADAAQABAAEAAMAAwADAAMAAwADAAMABAADAAIAAgADAAMAAgACAAIAAgACAAIAAgACAAIAAgACAAIAAgABAAEAAgADAAMAAgACAAIAAgADAAMAAgACAAIAAgACAAMAAgADAAQAAgACAAMABAAAAP////8BAAEA/v8AAAAA////////AQADAAQAAAD/////AQAEAAAA/v8CAAUAAAD+/wIABQAAAP7/AgAEAAQAAQD///7//P8BAAAA//8AAP//AAABAAIAAQACAAIAAwAAAP7///8BAAIAAwADAAIAAgADAAAAAQADAAMABAACAAAA///+/wEAAAD9/////v////7/AAAEAP///f/+//7//v///wIAAAD+//7/AQADAAQAAwADAAMAAwADAAMAAwADAAMAAgAAAP///v/9/wAAAgADAAMAAgAAAP3///8AAP//AgAAAP3//v/+/wAAAwAEAAAA/P8AAAIA/v/9//z/AAABAP3/AQAFAAAA/v/+/wEABAADAAAA//8AAAAA//////3/AQABAP3//v8AAAIAAgAAAAIABAADAAAA/f/9/wAA///+//3//P/7//r//f8BAAIAAwACAAIAAgD///z//P/+//7//P/8////AgAEAAIAAwADAAAAAAD+//7/AAAAAAAAAQACAAIAAgACAAMAAAD+//7//v8CAAAA/f8CAP//AAAEAAAAAAABAAEAAQD///3//v/9/wAAAwADAAMABAAEAAMAAQD+//3//f///wEAAAABAAMABAADAAMAAwD//////v/9/wIAAgADAAMAAAD///////8BAP///f/9/wAA///9/wIAAwACAAQAAwADAAMAAQD//////v/+/wMAAAAAAAQAAwAFAAQAAQAAAAAAAAD///7/AQADAAMABAAEAAAA/v//////AAAAAPz//////wAAAwABAAMAAwACAAMAAAD///7//v/+//3///8AAAIAAwACAAIAAQAAAP///v////z//P/+//7//v/+/wAAAgAEAAAA/P/9/////v/7//z//v///wAA/P/7//3//f8AAP////8DAAIAAwAAAAAABwABAP//AwADAAMAAgD//wAAAAD9//////8CAAIAAwAFAAIABAAEAP3///////3/AgADAAAAAAD//////v/+////AAACAAMAAgAAAP////8AAAAA/v8AAAAAAAAAAAAAAwADAAAA//8AAP////8AAAAAAQADAAMAAAD9///////9/wAAAgACAAIAAAAAAAAA/v/+//7//f/+/wEAAwADAAIA/v/8/wAAAwADAAMAAgAFAAEA//////7/AQAAAP///v///wAA//8BAAAAAQADAAEABAADAAIABAACAP7//v///////////wEAAwAEAAUAAAD//wQAAAD7//z/+v8AAAUABAADAAMABAADAAAA/f/8//v/+v/9//z/AAAHAAIABAAEAP7///8AAP///v8AAP///f8DAAMABAAFAAIAAgAAAP7///8AAP/////+/wAAAwADAAMA//8AAAEA/f8DAAAA/v8AAAAAAgACAAEABAABAP///f8BAAAA//8AAP3//v/+/wAAAwACAAMAAgACAAAA/f8AAAIAAAAAAAQAAgACAAMAAwAFAAAA/////wAAAAD//wAAAgAEAAQAAwADAAIAAAD//wAA///+//7/AQADAAIABAACAAIAAAABAAUAAAD+//3//v///wIAAwADAAMAAgACAAMA///9////AQABAAEABAAEAAIAAwAEAAQAAAAAAAUA//8AAAMA/v8BAAAAAAAFAAIAAwAAAP7/AAD+//7//v8BAAMAAgADAAIABAAAAP3/AQAEAP//AAAEAAMAAwD//wAABAAEAAEA/v///wIAAwADAAMAAgADAAMAAwADAAMABAAEAAMAAwADAAIAAwADAAMAAwADAAMAAgADAAMAAwADAAMAAwADAAMABAADAAMAAwADAAMAAwADAAMAAwADAAIAAgACAAEAAQACAAIAAQABAAAAAQACAAIAAgABAAEAAQABAAEAAQABAAEAAQACAAEAAgABAAEAAQABAAEAAQABAAEAAAABAAIAAQABAAEAAQABAAEAAQAAAAEAAQABAAEAAQACAAEAAQACAAIAAQABAAIAAgACAAEAAQACAAIAAQABAAIAAQABAAEAAQACAAEAAQACAAEAAQABAAEAAgABAAEAAQABAAIAAQABAAEAAgABAAEAAgABAAEAAQABAAIAAQD//wAA//8AAAAAAAD//wAA//8AAP//AAAAAAAA//8AAAAAAAAAAAAAAAAAAAAAAAAAAAAA//8AAAAAAAAAAAAA//8AAAAAAAD//wAAAAAAAAAAAAD//wAA//8AAAAAAAD//wAAAAD//wIA///9/wAA//8AAAAAAAD//wAA//8AAP//AAD//wAA//8AAP//AAAAAAAAAAAAAAAAAAAAAAAAAAAAAAAA/P8AAAEA//8AAP//AAD//wAAAAAAAAAAAAAAAAAAAAAAAP//AAD//wAAAAAAAAAAAAD//wAAAAAAAAAAAAAAAAAAAAAAAP//AAAAAAAA//8AAAAAAAD//wAAAAAAAP//AAD//wAAAAAAAAAAAAAAAAAAAAAAAAAAAAD//wAAAAAAAAAAAAAAAAAA//8AAP//AAAAAP//AAD8//7//f/8/wAA///9//3//f/9//3//f/+//3//f/9//3//f/9//3//v/9//3//f/9//3//P/9//3//P/9/wAA//8AAAAA+//9/wAA////////AAD//wAA//8AAAAAAAAAAAAAAAD//wAAAAD//wAA//8AAAAAAAAAAAAA//8AAAAA//8DAAEA/v8AAAAAAAAAAP//AgAAAP///P/9/wAA//8AAAAAAAAAAP//AAD8//3/AAAAAP3//P8AAP//AAAAAPv/AQAAAPz/AAD///z//f8AAP//AAACAAIA//8AAAMA/v8AAAMA/v/9//3/AAAAAP//AwABAP//AAD/////AwABAAIAAgD+/wAAAAAAAAAAAAAAAAAAAAAAAP//AAAAAAAA/////wMAAgD/////AwACAP//AAD//wAAAAAAAP//AAAAAAAAAAAAAAAAAAAAAAAAAAAAAAAAAAAAAP//AwABAAMA///8/wEA//8AAAAAAAAAAAAA//8AAAAAAAACAAIAAgABAAEAAgABAAEAAQABAAIAAQABAAEAAQABAAEAAQABAAEAAQABAAEAAQABAAEAAQABAAEAAQABAAIAAQABAAEAAQABAAEAAQABAAEAAQABAAEAAQABAAEAAQABAAEAAQABAAEAAQABAAEAAQABAAEAAQABAAEAAQABAAIAAQABAAEAAQABAAEAAQABAAEAAQABAAEAAQABAAEAAQABAAEAAQABAAEAAQABAAEAAQABAAEAAQABAAEAAQABAAEAAQABAAEAAQABAAEAAQABAAEAAQABAAEAAQABAAEAAQABAAEAAQABAAEAAQABAAEAAQABAAEAAQABAAEAAQABAAEAAQABAAEAAQABAAEAAQABAAEAAQABAAEAAgABAAEAAQABAAEAAQABAAEAAQABAAEAAQABAAEAAQABAAEAAQABAAEAAgABAAEAAQABAAEAAQABAAEAAQABAAEAAQABAAEAAQABAAEAAgABAAEAAQABAAEAAQABAAEAAQABAAEAAQABAAEAAQABAAEAAQABAAEAAQABAAEAAQABAAEAAQABAAEAAQABAAEAAQABAAEAAQABAAEAAQABAAEAAQABAAEAAQABAAEAAQABAAEAAQABAAEAAQABAAEAAQABAAEAAQABAAEAAQABAAEAAQABAAEAAQABAAEAAQABAAEAAQABAAEAAQABAAEAAgACAAEAAQABAAEAAgACAAIAAgABAAEAAQABAAEAAQABAAEAAgAAAAEAAQABAAEAAQD///z//P/+/wAAAQACAAIA/v/8//v///8DAP7//f/9/wAA/v///wMA/f8AAAIAAAAAAAEAAgD9/wAA/v/7/wEA/f///wAA/v8CAAEA/v8AAAIAAgD+////AgABAAMA/v8AAAMA/v8AAP///f8CAAEA/v8AAAAA/P/9/wEAAAD9//7//P8AAP///v8DAAIA///9//3//v/9//z//f8AAAMA//8AAAIA/v/8////AgD+/wAAAgAAAP////8BAAEAAQD+//z///8CAAEA/v8AAAIA/v/9//3/+/8AAP7///8CAAAAAgABAAAA///9//z//f/9//z/AAD+//z//f/8/wAAAQAAAAAAAgAAAP//AAD8//3/AAAAAAIA///+/wIA/f///wMA/v///wEAAQD9//7/AgD+/wAAAgABAAIA//8AAAMA///8/wAAAAD+//z/AAACAAIA//8AAAQA///+//7//v/+//3/AAD///r//f/8/wAAAgD+/wAAAAD7//3/AAAAAAIAAgAAAAIAAAAAAAEAAQABAAEAAQABAAIAAwABAAIAAAAAAAAAAAABAAIAAQACAAEAAQABAAEAAQAAAAEAAQACAAEAAQABAAEAAgABAAEAAAABAAEAAAABAAAAAQABAAEAAQABAAEAAgABAAEAAQABAAEAAQABAAEAAgABAAEAAQACAAEAAQABAAIAAgACAAIAAQABAAEAAQABAAEAAQABAAEAAQABAAEAAQABAAEAAQABAAIAAQABAAEAAQACAAEAAgABAAAAAQABAAEAAQABAAEAAQABAAEAAQABAAEAAQABAAEAAQABAAEAAQABAAEAAQABAAEAAQABAAEAAQABAAEAAQABAAEAAQABAAEAAQABAAIAAgABAAEAAQABAAEAAQABAAEAAQABAAEAAQABAAEAAQABAAEAAQABAAEAAQABAAEAAgABAAEAAQABAAEAAQABAAEAAQABAAEAAQABAAEAAQABAAEAAQABAAEAAQABAAEAAQABAAEAAQABAAEAAQABAAEAAQABAAEAAQABAAEAAQABAAEAAQABAAEAAQABAAEAAQABAAEAAQABAAEAAQABAAEAAQABAAEAAQABAAEAAQABAAEAAQABAAEAAQABAAEAAQABAAEAAQABAAEAAQABAAEAAQABAAEAAQABAAEAAQABAAEAAQABAAEAAQABAAEAAQABAAEAAQABAAEAAQABAAEAAQABAAEAAQABAAEAAQABAAEAAQABAAEAAQABAAEAAQABAAEAAQABAAEAAQABAAEAAQABAAEAAQABAAEAAQABAAEAAQABAAEAAQABAAEAAQABAAEAAQABAAEAAQABAAEAAQABAAEAAQABAAEAAQABAAEAAQABAAEAAQABAAEAAQABAAEAAQABAAEAAQABAAEAAQABAAEAAQABAAEAAQABAAAAAAAAAAAAAAAAAAAAAAAAAAAAAAAAAAAAAAAAAAAAAAAAAAAAAAAAAAAAAAAAAAAAAAAAAAAAAAAAAAAAAAAAAAAAAAAAAAAAAAAAAAAAAAAAAAAAAAAAAAAAAAAAAAAAAAAAAAAAAAAAAAAAAAAAAAAAAAAAAAAAAAAAAAAAAAAAAAAAAAAAAAAAAAAAAAAAAAAAAAAAAAAAAAAAAAAAAAAAAAAAAAAAAAAAAAAAAAAAAAAAAAAAAAAAAAAAAAAAAAAAAP3///8AAPv//v8AAAEAAAAAAAAAAAABAAAA/f/6/wAA/v/9/wIAAAABAAAA/f////3//v////r////+//v/AAD+//7/AQD9//v//P8AAAEA/f/7//v//v8AAAAAAAABAP//AAACAPv///8BAPr/AAAAAPz/+v/9//z/+f8AAAAA/f/8//v/+v/7//3//P/9/wAA/f/9/wEA/P/9/wIA+//+//7//f8BAP3/+v/9//////8AAP7//f8AAAAA/f/6//7/AAD7//7//f/+/wEA//8AAP3//v8AAP///P////7//v8BAPr///////n/AAAAAP//AAAAAPz//P/7//v/AAD+//r/AAAAAP3/+//6/wAA/////wUA/v///wIA/f8AAP7///8DAAAA///8/wAAAgACAP//AAAAAPz/AAABAAIA/P/6/////P/6/wAA/////wAAAAD+////AAAAAAAAAAAAAPv/+/////z////+//3//v/8/wAA/P/8/wAA/f/+/wAAAAD+//7//////wAAAAAAAAAAAAD///7/AQAAAP//AAAAAP//AAAAAAAAAAAAAAAAAAAAAAAAAAAAAAAAAAAAAAAA//8AAP///////wAA//8AAAAA/////wAAAAAAAP//AAAAAAAAAAAAAP//AAAAAAAA//8AAAAAAAD//wAA//8AAP7/////////////////AAD///7///8AAP7/AAAAAP//AAAAAAAAAAAAAP////////7///////7//f8AAP////8AAAAA/v///////v/+/wAA/v8AAAAA//8AAAEA/v/+/wEA///+/wAA/////wAAAAD+/wAA///////////+//z//f/9//z//P/8//3//f/8////+//8/////P/8//3//f/8//3//v/8//3//P/9//3//f/9//3//P/5//7/AgD8//7/AAD///7/AAAAAP//AAD8/wAAAgD+/////v8AAAAA/P/9////AAD8/wAAAAD+/wAAAAAAAAAAAAD/////AAD+//7//v8AAAEA/v8AAAAAAAD//wAAAAAAAP///////wAAAAAAAP//AAAAAAAAAAAAAAAAAAD/////AgABAP3////9//3//f8BAAIAAAABAAAAAAAAAAEAAAD//wAA/f8AAAMAAAAAAAQA///8//7//v8AAP////8CAAQA/v8AAAUA/f/+////+//9/wAA/v8AAAMAAAADAAMA/v///wAA+v/9/wIA/v/+/wMAAgAAAAAAAAAAAP7///8AAPz//v/9//n//f8AAPz/+/////7//P/8//7//v/7//z/+v/8/wAA/P/6/wAAAgD7///////7/wEA///8/wIAAAD7/wAAAwD//wAAAgAAAAAAAwAAAPz/AQAFAP7/AAAFAP7//v///wAAAAD+/wAA/v8AAAEA/v8BAAIA/v/9/wAA/v8BAAIA/f8DAP///f8AAAAAAwAAAP3//f8AAAAA+////wMAAAD7/wAAAAD7/wAAAAAAAAIAAQD9//v/AQD//wAAAAD7/wAA/v/6////AAD+//v//v/8/wAAAAD6/wEAAQD9//z/AAAAAPr/AAD///3/AQD+//v/AAD+//3/AAAAAPz//P8AAP7//P8AAAEA/////wAAAQADAP//AAABAP///v/8//7/AQACAAMAAgACAAAA/f///wAAAAD+/wAAAwAAAPv//v8CAAAAAAAAAPv//v8BAP7/+f/9/wEA/P/+/wAA+v8AAAAAAAADAAIA+f/4/wMA+v/2/wAAAAD6/wAAAQD9//7//f/+//r//v8AAP3////+//z/+v/5//z//f///wAAAAAAAAEA/v///wIA/v/+/wEA/v/9//7/AAD///3/AAAAAPz///8AAAIA/v/8/////f/8/wAABAD+/wAA///5/wAAAQD9//v/AQAAAP3//////wIAAAD5//v/AgD9//z/BAACAAAAAgD///n/AAABAPz///8DAPz/+f////3///8EAAAAAAACAAAAAAAEAAAA/f8BAAAA+//8/wEAAwACAAIAAgADAP3/AAACAAMAAAD8/wEAAAD+//7/AAABAP//AAD//wEAAAD/////AAAAAPv/AAAAAPz/AAAAAPz/+v/8//v//f8BAP//+v8AAPv/9v/8//v/+/////v/+P/9//z/+P8AAAQAAAABAAAA/P8BAP7/+f8AAPv/+P/8////AAD//wIAAgAAAAIAAAD9///////+//z///8AAP7/AAAAAPz/AAAAAP3/AAD9//r///8AAP3/+/8AAP7///8DAAEAAQADAAAA//8DAP//+v8BAP//9v/+/wAA/f8EAAgA+//6/wEA/f/6/wAAAgAAAAQA/P/6/wIA///+/wgABAD6/////v/3//j/AAD///j/AAD9//7/BAACAAAAAAAAAPz///8DAP7/AAD+//z//P8AAAEA/P///wIAAgD////////8//z/+//8//v/AAAAAAAABQAAAP3//P/8/wAAAgADAAEA/f/+//7//f///wEAAgACAAAAAAD///7//v/6//j////9//r////+//3/+v/8/wIAAQABAAEA///5//j/+v/4//7/AwABAPv///8CAPr/AAADAP//AwD9//r//P////7/AQADAPz//v/+//7/AQAEAAAA///+//v//v8AAP3//P8BAAEA/P8AAP7///8DAAEAAgABAPz//f////7//P/9//7/AAA=\" type=\"audio/wav\" />\n",
              "                    Your browser does not support the audio element.\n",
              "                </audio>\n",
              "              "
            ],
            "text/plain": [
              "<IPython.lib.display.Audio object>"
            ]
          },
          "metadata": {},
          "execution_count": 44
        }
      ]
    },
    {
      "cell_type": "markdown",
      "metadata": {
        "id": "gY8m3vARHYTa"
      },
      "source": [
        "It seems like the data is now correctly loaded and resampled. "
      ]
    },
    {
      "cell_type": "markdown",
      "metadata": {
        "id": "1MaL9J2dNVtG"
      },
      "source": [
        "It can be heard, that the speakers change along with their speaking rate, accent, and background environment, etc. Overall, the recordings sound acceptably clear though, which is to be expected from a crowd-sourced read speech corpus.\n",
        "\n",
        "Let's do a final check that the data is correctly prepared, by printing the shape of the speech input, its transcription, and the corresponding sampling rate.\n",
        "\n",
        "**Note**: *You can click the following cell a couple of times to verify multiple samples.*"
      ]
    },
    {
      "cell_type": "code",
      "metadata": {
        "colab": {
          "base_uri": "https://localhost:8080/"
        },
        "id": "1Po2g7YPuRTx",
        "outputId": "83e13888-9cc1-4752-e025-3d9e148579a4"
      },
      "source": [
        "rand_int = random.randint(0, len(common_voice_train)-1)\n",
        "\n",
        "print(\"Target text:\", common_voice_train[rand_int][\"sentence\"])\n",
        "print(\"Input array shape:\", common_voice_train[rand_int][\"audio\"][\"array\"].shape)\n",
        "print(\"Sampling rate:\", common_voice_train[rand_int][\"audio\"][\"sampling_rate\"])"
      ],
      "execution_count": 45,
      "outputs": [
        {
          "output_type": "stream",
          "name": "stdout",
          "text": [
            "Target text: ar feadh scaithimh\n",
            "Input array shape: (46080,)\n",
            "Sampling rate: 16000\n"
          ]
        }
      ]
    },
    {
      "cell_type": "markdown",
      "metadata": {
        "id": "M9teZcSwOBJ4"
      },
      "source": [
        "Good! Everything looks fine - the data is a 1-dimensional array, the sampling rate always corresponds to 16kHz, and the target text is normalized."
      ]
    },
    {
      "cell_type": "markdown",
      "metadata": {
        "id": "k3Pbn5WvOYZF"
      },
      "source": [
        "Finally, we can leverage `Wav2Vec2Processor` to process the data to the format expected by `Wav2Vec2ForCTC` for training. To do so let's make use of Dataset's [`map(...)`](https://huggingface.co/docs/datasets/package_reference/main_classes.html?highlight=map#datasets.DatasetDict.map) function.\n",
        "\n",
        "First, we load and resample the audio data, simply by calling `batch[\"audio\"]`.\n",
        "Second, we extract the `input_values` from the loaded audio file. In our case, the `Wav2Vec2Processor` only normalizes the data. For other speech models, however, this step can include more complex feature extraction, such as [Log-Mel feature extraction](https://en.wikipedia.org/wiki/Mel-frequency_cepstrum). \n",
        "Third, we encode the transcriptions to label ids.\n",
        "\n",
        "**Note**: This mapping function is a good example of how the `Wav2Vec2Processor` class should be used. In \"normal\" context, calling `processor(...)` is redirected to `Wav2Vec2FeatureExtractor`'s call method. When wrapping the processor into the `as_target_processor` context, however, the same method is redirected to `Wav2Vec2CTCTokenizer`'s call method.\n",
        "For more information please check the [docs](https://huggingface.co/transformers/master/model_doc/wav2vec2.html#transformers.Wav2Vec2Processor.__call__)."
      ]
    },
    {
      "cell_type": "code",
      "metadata": {
        "id": "eJY7I0XAwe9p"
      },
      "source": [
        "def prepare_dataset(batch):\n",
        "    audio = batch[\"audio\"]\n",
        "\n",
        "    # batched output is \"un-batched\"\n",
        "    batch[\"input_values\"] = processor(audio[\"array\"], sampling_rate=audio[\"sampling_rate\"]).input_values[0]\n",
        "    batch[\"input_length\"] = len(batch[\"input_values\"])\n",
        "    \n",
        "    with processor.as_target_processor():\n",
        "        batch[\"labels\"] = processor(batch[\"sentence\"]).input_ids\n",
        "    return batch"
      ],
      "execution_count": 46,
      "outputs": []
    },
    {
      "cell_type": "markdown",
      "metadata": {
        "id": "q6Pg_WR3OGAP"
      },
      "source": [
        "Let's apply the data preparation function to all examples."
      ]
    },
    {
      "cell_type": "code",
      "metadata": {
        "colab": {
          "base_uri": "https://localhost:8080/",
          "height": 81,
          "referenced_widgets": [
            "0c364f11dffb4faeb7bd7a22a73570b9",
            "e27b842479d1405f894a87521e015805",
            "64ea4fc2b2174decae5c2950f884bb55",
            "71b1485fda95470eae0d31d4b3caed52",
            "4761eedb2c804d3fbfdbaea13762c767",
            "d3d22e988c1c4a198a392164b90a0971",
            "387b9fd4c33f419996c720c215659bd3",
            "aac9d6ed04d248aa83260f9bfd46981e",
            "70317aa3f81143c0ba271ea43d4255d8",
            "0a02ffdbec3b4f4a9a3ee3f651e82a56",
            "8e837b60c6154e7d8dc4b45df819b80f",
            "a1c3001ebefb4a99ab379e885d6aaf60",
            "00cb6cba5bb840b0a6f467d236170267",
            "8daa76c103c2498a89fce556b147e066",
            "693cf4132b6f4c51a467e34b7d6ea072",
            "fdd12439dc004955a9948d9b2ac6809e",
            "113ea44db27940f8b2ee7375bff8a671",
            "f723022574284a8e85012881ff88100d",
            "e7a0eb874fbb4058a1515b655950c9f2",
            "4d0de06129fb49819eb2096cbdc9a786",
            "c20bf87c4036491e90e02b61b6b7f02c",
            "032c3d109f2843508d07e917666e2c16"
          ]
        },
        "id": "-np9xYK-wl8q",
        "outputId": "c562954c-06d7-4c46-965b-90414186bfd5"
      },
      "source": [
        "common_voice_train = common_voice_train.map(prepare_dataset, remove_columns=common_voice_train.column_names)\n",
        "common_voice_test = common_voice_test.map(prepare_dataset, remove_columns=common_voice_test.column_names)"
      ],
      "execution_count": 47,
      "outputs": [
        {
          "output_type": "display_data",
          "data": {
            "application/vnd.jupyter.widget-view+json": {
              "model_id": "0c364f11dffb4faeb7bd7a22a73570b9",
              "version_minor": 0,
              "version_major": 2
            },
            "text/plain": [
              "  0%|          | 0/1038 [00:00<?, ?ex/s]"
            ]
          },
          "metadata": {}
        },
        {
          "output_type": "display_data",
          "data": {
            "application/vnd.jupyter.widget-view+json": {
              "model_id": "a1c3001ebefb4a99ab379e885d6aaf60",
              "version_minor": 0,
              "version_major": 2
            },
            "text/plain": [
              "  0%|          | 0/506 [00:00<?, ?ex/s]"
            ]
          },
          "metadata": {}
        }
      ]
    },
    {
      "cell_type": "markdown",
      "metadata": {
        "id": "nKcEWHvKI1by"
      },
      "source": [
        "**Note**: Currently `datasets` make use of [`torchaudio`](https://pytorch.org/audio/stable/index.html) and [`librosa`](https://librosa.org/doc/latest/index.html) for audio loading and resampling. If you wish to implement your own costumized data loading/sampling, feel free to just make use of the `\"path\"` column instead and disregard the `\"audio\"` column."
      ]
    },
    {
      "cell_type": "markdown",
      "metadata": {
        "id": "24CxHd5ewI4T"
      },
      "source": [
        "Long input sequences require a lot of memory. XLS-R is based on `self-attention` the memory requirement scales quadratically with the input length for long input sequences (*cf.* with [this](https://www.reddit.com/r/MachineLearning/comments/genjvb/d_why_is_the_maximum_input_sequence_length_of/) reddit post). In case this demo crashes with an \"Out-of-memory\" error for you, you might want to uncomment the following lines to filter all sequences that are longer than 5 seconds for training."
      ]
    },
    {
      "cell_type": "code",
      "metadata": {
        "id": "tdHfbUJ_09iA"
      },
      "source": [
        "#max_input_length_in_sec = 5.0\n",
        "#common_voice_train = common_voice_train.filter(lambda x: x < max_input_length_in_sec * processor.feature_extractor.sampling_rate, input_columns=[\"input_length\"])"
      ],
      "execution_count": null,
      "outputs": []
    },
    {
      "cell_type": "markdown",
      "metadata": {
        "id": "1ZWDCCKqwcfS"
      },
      "source": [
        "Awesome, now we are ready to start training!"
      ]
    },
    {
      "cell_type": "markdown",
      "metadata": {
        "id": "gYlQkKVoRUos"
      },
      "source": [
        "## Training\n",
        "\n",
        "The data is processed so that we are ready to start setting up the training pipeline. We will make use of 🤗's [Trainer](https://huggingface.co/transformers/master/main_classes/trainer.html?highlight=trainer) for which we essentially need to do the following:\n",
        "\n",
        "- Define a data collator. In contrast to most NLP models, XLS-R has a much larger input length than output length. *E.g.*, a sample of input length 50000 has an output length of no more than 100. Given the large input sizes, it is much more efficient to pad the training batches dynamically meaning that all training samples should only be padded to the longest sample in their batch and not the overall longest sample. Therefore, fine-tuning XLS-R requires a special padding data collator, which we will define below\n",
        "\n",
        "- Evaluation metric. During training, the model should be evaluated on the word error rate. We should define a `compute_metrics` function accordingly\n",
        "\n",
        "- Load a pretrained checkpoint. We need to load a pretrained checkpoint and configure it correctly for training.\n",
        "\n",
        "- Define the training configuration.\n",
        "\n",
        "After having fine-tuned the model, we will correctly evaluate it on the test data and verify that it has indeed learned to correctly transcribe speech."
      ]
    },
    {
      "cell_type": "markdown",
      "metadata": {
        "id": "Slk403unUS91"
      },
      "source": [
        "### Set-up Trainer\n",
        "\n",
        "Let's start by defining the data collator. The code for the data collator was copied from [this example](https://github.com/huggingface/transformers/blob/9a06b6b11bdfc42eea08fa91d0c737d1863c99e3/examples/research_projects/wav2vec2/run_asr.py#L81).\n",
        "\n",
        "Without going into too many details, in contrast to the common data collators, this data collator treats the `input_values` and `labels` differently and thus applies to separate padding functions on them (again making use of XLS-R processor's context manager). This is necessary because in speech input and output are of different modalities meaning that they should not be treated by the same padding function.\n",
        "Analogous to the common data collators, the padding tokens in the labels with `-100` so that those tokens are **not** taken into account when computing the loss."
      ]
    },
    {
      "cell_type": "code",
      "metadata": {
        "id": "tborvC9hx88e"
      },
      "source": [
        "import torch\n",
        "\n",
        "from dataclasses import dataclass, field\n",
        "from typing import Any, Dict, List, Optional, Union\n",
        "\n",
        "@dataclass\n",
        "class DataCollatorCTCWithPadding:\n",
        "    \"\"\"\n",
        "    Data collator that will dynamically pad the inputs received.\n",
        "    Args:\n",
        "        processor (:class:`~transformers.Wav2Vec2Processor`)\n",
        "            The processor used for proccessing the data.\n",
        "        padding (:obj:`bool`, :obj:`str` or :class:`~transformers.tokenization_utils_base.PaddingStrategy`, `optional`, defaults to :obj:`True`):\n",
        "            Select a strategy to pad the returned sequences (according to the model's padding side and padding index)\n",
        "            among:\n",
        "            * :obj:`True` or :obj:`'longest'`: Pad to the longest sequence in the batch (or no padding if only a single\n",
        "              sequence if provided).\n",
        "            * :obj:`'max_length'`: Pad to a maximum length specified with the argument :obj:`max_length` or to the\n",
        "              maximum acceptable input length for the model if that argument is not provided.\n",
        "            * :obj:`False` or :obj:`'do_not_pad'` (default): No padding (i.e., can output a batch with sequences of\n",
        "              different lengths).\n",
        "    \"\"\"\n",
        "\n",
        "    processor: Wav2Vec2Processor\n",
        "    padding: Union[bool, str] = True\n",
        "\n",
        "    def __call__(self, features: List[Dict[str, Union[List[int], torch.Tensor]]]) -> Dict[str, torch.Tensor]:\n",
        "        # split inputs and labels since they have to be of different lenghts and need\n",
        "        # different padding methods\n",
        "        input_features = [{\"input_values\": feature[\"input_values\"]} for feature in features]\n",
        "        label_features = [{\"input_ids\": feature[\"labels\"]} for feature in features]\n",
        "\n",
        "        batch = self.processor.pad(\n",
        "            input_features,\n",
        "            padding=self.padding,\n",
        "            return_tensors=\"pt\",\n",
        "        )\n",
        "        with self.processor.as_target_processor():\n",
        "            labels_batch = self.processor.pad(\n",
        "                label_features,\n",
        "                padding=self.padding,\n",
        "                return_tensors=\"pt\",\n",
        "            )\n",
        "\n",
        "        # replace padding with -100 to ignore loss correctly\n",
        "        labels = labels_batch[\"input_ids\"].masked_fill(labels_batch.attention_mask.ne(1), -100)\n",
        "\n",
        "        batch[\"labels\"] = labels\n",
        "\n",
        "        return batch"
      ],
      "execution_count": 48,
      "outputs": []
    },
    {
      "cell_type": "code",
      "metadata": {
        "id": "lbQf5GuZyQ4_"
      },
      "source": [
        "data_collator = DataCollatorCTCWithPadding(processor=processor, padding=True)"
      ],
      "execution_count": 49,
      "outputs": []
    },
    {
      "cell_type": "markdown",
      "metadata": {
        "id": "xO-Zdj-5cxXp"
      },
      "source": [
        "Next, the evaluation metric is defined. As mentioned earlier, the \n",
        "predominant metric in ASR is the word error rate (WER), hence we will use it in this notebook as well."
      ]
    },
    {
      "cell_type": "code",
      "metadata": {
        "colab": {
          "base_uri": "https://localhost:8080/",
          "height": 49,
          "referenced_widgets": [
            "e5a4add65ba44584a06295369efcb459",
            "eb21d86842254b849a4ca3a4bc166296",
            "8eb4ddb1b5d14f658c53ab87ac0aed34",
            "040d6911de604f1bacc834acc2bf7736",
            "a0346338bb2c44a99c7d87b84a7cb0de",
            "3fb17b564bcb4ed8a31fe518d7aa93dc",
            "89f80e963d264b9e890b1ecd5051e9b3",
            "bc9f64bed33b4b5c9892299f42fc2dea",
            "8e4d54b14de9421697d761e4f0a5a5f8",
            "47ee705788374968b2a231a661fcec12",
            "533490cb9d5649a6af5a439b19479787"
          ]
        },
        "id": "9Xsux2gmyXso",
        "outputId": "04ef50e0-70f3-4f21-9c0b-2101771aff31"
      },
      "source": [
        "wer_metric = load_metric(\"wer\")"
      ],
      "execution_count": 50,
      "outputs": [
        {
          "output_type": "display_data",
          "data": {
            "application/vnd.jupyter.widget-view+json": {
              "model_id": "e5a4add65ba44584a06295369efcb459",
              "version_minor": 0,
              "version_major": 2
            },
            "text/plain": [
              "Downloading:   0%|          | 0.00/1.95k [00:00<?, ?B/s]"
            ]
          },
          "metadata": {}
        }
      ]
    },
    {
      "cell_type": "markdown",
      "metadata": {
        "id": "E1qZU5p-deqB"
      },
      "source": [
        "The model will return a sequence of logit vectors:\n",
        "$\\mathbf{y}_1, \\ldots, \\mathbf{y}_m$ with $\\mathbf{y}_1 = f_{\\theta}(x_1, \\ldots, x_n)[0]$ and $n >> m$.\n",
        "\n",
        "A logit vector $\\mathbf{y}_1$ contains the log-odds for each word in the vocabulary we defined earlier, thus $\\text{len}(\\mathbf{y}_i) =$ `config.vocab_size`. We are interested in the most likely prediction of the model and thus take the `argmax(...)` of the logits. Also, we transform the encoded labels back to the original string by replacing `-100` with the `pad_token_id` and decoding the ids while making sure that consecutive tokens are **not** grouped to the same token in CTC style ${}^1$."
      ]
    },
    {
      "cell_type": "code",
      "metadata": {
        "id": "1XZ-kjweyTy_"
      },
      "source": [
        "def compute_metrics(pred):\n",
        "    pred_logits = pred.predictions\n",
        "    pred_ids = np.argmax(pred_logits, axis=-1)\n",
        "\n",
        "    pred.label_ids[pred.label_ids == -100] = processor.tokenizer.pad_token_id\n",
        "\n",
        "    pred_str = processor.batch_decode(pred_ids)\n",
        "    # we do not want to group tokens when computing the metrics\n",
        "    label_str = processor.batch_decode(pred.label_ids, group_tokens=False)\n",
        "\n",
        "    wer = wer_metric.compute(predictions=pred_str, references=label_str)\n",
        "\n",
        "    return {\"wer\": wer}"
      ],
      "execution_count": 51,
      "outputs": []
    },
    {
      "cell_type": "markdown",
      "metadata": {
        "id": "Xmgrx4bRwLIH"
      },
      "source": [
        "Now, we can load the pretrained checkpoint of [Wav2Vec2-XLS-R-300M](https://huggingface.co/facebook/wav2vec2-xls-r-300m). The tokenizer's `pad_token_id` must be to define the model's `pad_token_id` or in the case of `Wav2Vec2ForCTC` also CTC's *blank token* ${}^2$. To save GPU memory, we enable PyTorch's [gradient checkpointing](https://pytorch.org/docs/stable/checkpoint.html) and also set the loss reduction to \"*mean*\".\n",
        "\n",
        "Because the dataset is quite small (~6h of training data) and because Common Voice is quite noisy, fine-tuning Facebook's [wav2vec2-xls-r-300m checkpoint](https://huggingface.co/facebook/wav2vec2-xls-r-300m) seems to require some hyper-parameter tuning. Therefore, I had to play around a bit with different values for dropout, [SpecAugment](https://arxiv.org/abs/1904.08779)'s masking dropout rate, layer dropout, and the learning rate until training seemed to be stable enough. \n",
        "\n",
        "**Note**: When using this notebook to train XLS-R on another language of Common Voice those hyper-parameter settings might not work very well. Feel free to adapt those depending on your use case. "
      ]
    },
    {
      "cell_type": "code",
      "metadata": {
        "colab": {
          "base_uri": "https://localhost:8080/",
          "height": 244,
          "referenced_widgets": [
            "d8d3a59b84f141608a902dcc6eb38516",
            "309a6dcd75ac42c9a5ef625649ba1d27",
            "2481f1d8a0044817a8c5854dd92d3fd0",
            "21ac4f5f3b6a41288f87a4c3a27aa212",
            "f6b9725f242c45d8852bae9f9fa64a81",
            "6c40c0aaae2b469ea0e74b0005ff3f75",
            "98adc382b7844ccaab254e4be277d5da",
            "46b22eaf7ea344b6ab5046b5aa3d0f0e",
            "83af4ffd93cd4083a9aca2f14b346863",
            "8cb5bfb9a809498eb52b4c6b9cdb2815",
            "b22f0b8e3063485b8626d0216da0b801",
            "ce6034bace2e40c484dc9b1af9161c1f",
            "707fdf9557e6419dac3fff361238f7a9",
            "0cca244924714a57b98fcdb94d49b0f2",
            "04d8e50cc5c648eba09c960f6ea7f9e3",
            "782d440148f64dab85551e10a6cce5c5",
            "063b12246677449ba4666030b1b2bd53",
            "e8b0b25d10dc442580d03c27723641ae",
            "f8ec5075ea9a49a5b8b0734715945e8d",
            "5adb1b5d47e14e60a8b05dbf42f0e886",
            "f6d88c78ea39471fbb2128d4ac9af70b",
            "e9176852b92849b78428ea4ee82cbabd"
          ]
        },
        "id": "e7cqAWIayn6w",
        "outputId": "482cdf11-bf5c-4ddc-886e-95cdfe5d7aae"
      },
      "source": [
        "from transformers import Wav2Vec2ForCTC\n",
        "\n",
        "model = Wav2Vec2ForCTC.from_pretrained(\n",
        "    \"facebook/wav2vec2-xls-r-300m\", \n",
        "    attention_dropout=0.0,\n",
        "    hidden_dropout=0.0,\n",
        "    feat_proj_dropout=0.0,\n",
        "    mask_time_prob=0.05,\n",
        "    layerdrop=0.0,\n",
        "    ctc_loss_reduction=\"mean\", \n",
        "    pad_token_id=processor.tokenizer.pad_token_id,\n",
        "    vocab_size=len(processor.tokenizer),\n",
        ")"
      ],
      "execution_count": 52,
      "outputs": [
        {
          "output_type": "display_data",
          "data": {
            "application/vnd.jupyter.widget-view+json": {
              "model_id": "d8d3a59b84f141608a902dcc6eb38516",
              "version_minor": 0,
              "version_major": 2
            },
            "text/plain": [
              "Downloading:   0%|          | 0.00/1.53k [00:00<?, ?B/s]"
            ]
          },
          "metadata": {}
        },
        {
          "output_type": "display_data",
          "data": {
            "application/vnd.jupyter.widget-view+json": {
              "model_id": "ce6034bace2e40c484dc9b1af9161c1f",
              "version_minor": 0,
              "version_major": 2
            },
            "text/plain": [
              "Downloading:   0%|          | 0.00/1.18G [00:00<?, ?B/s]"
            ]
          },
          "metadata": {}
        },
        {
          "output_type": "stream",
          "name": "stderr",
          "text": [
            "Some weights of the model checkpoint at facebook/wav2vec2-xls-r-300m were not used when initializing Wav2Vec2ForCTC: ['project_hid.bias', 'project_q.weight', 'quantizer.weight_proj.weight', 'project_q.bias', 'quantizer.weight_proj.bias', 'quantizer.codevectors', 'project_hid.weight']\n",
            "- This IS expected if you are initializing Wav2Vec2ForCTC from the checkpoint of a model trained on another task or with another architecture (e.g. initializing a BertForSequenceClassification model from a BertForPreTraining model).\n",
            "- This IS NOT expected if you are initializing Wav2Vec2ForCTC from the checkpoint of a model that you expect to be exactly identical (initializing a BertForSequenceClassification model from a BertForSequenceClassification model).\n",
            "Some weights of Wav2Vec2ForCTC were not initialized from the model checkpoint at facebook/wav2vec2-xls-r-300m and are newly initialized: ['lm_head.weight', 'lm_head.bias']\n",
            "You should probably TRAIN this model on a down-stream task to be able to use it for predictions and inference.\n"
          ]
        }
      ]
    },
    {
      "cell_type": "markdown",
      "metadata": {
        "id": "1DwR3XLSzGDD"
      },
      "source": [
        "The first component of XLS-R consists of a stack of CNN layers that are used to extract acoustically meaningful - but contextually independent - features from the raw speech signal. This part of the model has already been sufficiently trained during pretraining and as stated in the [paper](https://arxiv.org/pdf/2006.13979.pdf) does not need to be fine-tuned anymore. \n",
        "Thus, we can set the `requires_grad` to `False` for all parameters of the *feature extraction* part."
      ]
    },
    {
      "cell_type": "code",
      "metadata": {
        "id": "oGI8zObtZ3V0"
      },
      "source": [
        "model.freeze_feature_extractor()"
      ],
      "execution_count": 53,
      "outputs": []
    },
    {
      "cell_type": "markdown",
      "metadata": {
        "id": "lD4aGhQM0K-D"
      },
      "source": [
        "In a final step, we define all parameters related to training. \n",
        "To give more explanation on some of the parameters:\n",
        "- `group_by_length` makes training more efficient by grouping training samples of similar input length into one batch. This can significantly speed up training time by heavily reducing the overall number of useless padding tokens that are passed through the model\n",
        "- `learning_rate` and `weight_decay` were heuristically tuned until fine-tuning has become stable. Note that those parameters strongly depend on the Common Voice dataset and might be suboptimal for other speech datasets.\n",
        "\n",
        "For more explanations on other parameters, one can take a look at the [docs](https://huggingface.co/transformers/master/main_classes/trainer.html?highlight=trainer#trainingarguments).\n",
        "\n",
        "During training, a checkpoint will be uploaded asynchronously to the hub every 400 training steps. It allows you to also play around with the demo widget even while your model is still training.\n",
        "\n",
        "**Note**: If one does not want to upload the model checkpoints to the hub, simply set `push_to_hub=False`."
      ]
    },
    {
      "cell_type": "code",
      "metadata": {
        "id": "KbeKSV7uzGPP"
      },
      "source": [
        "from transformers import TrainingArguments\n",
        "\n",
        "training_args = TrainingArguments(\n",
        "  output_dir=repo_name,\n",
        "  group_by_length=True,\n",
        "  per_device_train_batch_size=16,\n",
        "  gradient_accumulation_steps=2,\n",
        "  evaluation_strategy=\"steps\",\n",
        "  num_train_epochs=30,\n",
        "  gradient_checkpointing=True,\n",
        "  fp16=True,\n",
        "  save_steps=400,\n",
        "  eval_steps=400,\n",
        "  logging_steps=400,\n",
        "  learning_rate=3e-4,\n",
        "  warmup_steps=500,\n",
        "  save_total_limit=2,\n",
        "  push_to_hub=True,\n",
        ")"
      ],
      "execution_count": 54,
      "outputs": []
    },
    {
      "cell_type": "markdown",
      "metadata": {
        "id": "OsW-WZcL1ZtN"
      },
      "source": [
        "Now, all instances can be passed to Trainer and we are ready to start training!"
      ]
    },
    {
      "cell_type": "code",
      "metadata": {
        "colab": {
          "base_uri": "https://localhost:8080/"
        },
        "id": "rY7vBmFCPFgC",
        "outputId": "0c3b0ecf-51af-45c7-d76d-d9204e18ffc7"
      },
      "source": [
        "from transformers import Trainer\n",
        "\n",
        "trainer = Trainer(\n",
        "    model=model,\n",
        "    data_collator=data_collator,\n",
        "    args=training_args,\n",
        "    compute_metrics=compute_metrics,\n",
        "    train_dataset=common_voice_train,\n",
        "    eval_dataset=common_voice_test,\n",
        "    tokenizer=processor.feature_extractor,\n",
        ")"
      ],
      "execution_count": 55,
      "outputs": [
        {
          "output_type": "stream",
          "name": "stderr",
          "text": [
            "/usr/local/lib/python3.7/dist-packages/huggingface_hub/hf_api.py:718: FutureWarning: `create_repo` now takes `token` as an optional positional argument. Be sure to adapt your code!\n",
            "  FutureWarning,\n",
            "/content/wav2vec2-large-xls-r-300m-irish-colab is already a clone of https://huggingface.co/jimregan/wav2vec2-large-xls-r-300m-irish-colab. Make sure you pull the latest changes with `repo.git_pull()`.\n",
            "Using amp fp16 backend\n"
          ]
        }
      ]
    },
    {
      "cell_type": "markdown",
      "metadata": {
        "id": "UoXBx1JAA0DX"
      },
      "source": [
        "\n",
        "\n",
        "---\n",
        "\n",
        "${}^1$ To allow models to become independent of the speaker rate, in CTC, consecutive tokens that are identical are simply grouped as a single token. However, the encoded labels should not be grouped when decoding since they don't correspond to the predicted tokens of the model, which is why the `group_tokens=False` parameter has to be passed. If we wouldn't pass this parameter a word like `\"hello\"` would incorrectly be encoded, and decoded as `\"helo\"`.\n",
        "\n",
        "${}^2$ The blank token allows the model to predict a word, such as `\"hello\"` by forcing it to insert the blank token between the two l's. A CTC-conform prediction of `\"hello\"` of our model would be `[PAD] [PAD] \"h\" \"e\" \"e\" \"l\" \"l\" [PAD] \"l\" \"o\" \"o\" [PAD]`."
      ]
    },
    {
      "cell_type": "markdown",
      "metadata": {
        "id": "rpvZHM1xReIW"
      },
      "source": [
        "### Training"
      ]
    },
    {
      "cell_type": "markdown",
      "metadata": {
        "id": "j-3oKSzZ1hGq"
      },
      "source": [
        "Training will take multiple hours depending on the GPU allocated to this notebook. While the trained model yields somewhat satisfying results on *Common Voice*'s test data of Turkish, it is by no means an optimally fine-tuned model. The purpose of this notebook is just to demonstrate how to fine-tune XLS-R on an ASR dataset.\n",
        "\n",
        "In case you want to use this google colab to fine-tune your model, you should make sure that your training doesn't stop due to inactivity. A simple hack to prevent this is to paste the following code into the console of this tab (*right mouse click -> inspect -> Console tab and insert code*)."
      ]
    },
    {
      "cell_type": "markdown",
      "metadata": {
        "id": "VYYAvgkW4P0m"
      },
      "source": [
        "```javascript\n",
        "function ConnectButton(){\n",
        "    console.log(\"Connect pushed\"); \n",
        "    document.querySelector(\"#top-toolbar > colab-connect-button\").shadowRoot.querySelector(\"#connect\").click() \n",
        "}\n",
        "setInterval(ConnectButton,60000);\n",
        "```"
      ]
    },
    {
      "cell_type": "markdown",
      "metadata": {
        "id": "7bGgLV2r0yvZ"
      },
      "source": [
        "Depending on what GPU was allocated to your google colab it might be possible that you are seeing an `\"out-of-memory\"` error here. In this case, it's probably best to reduce `per_device_train_batch_size` to 8 or even less and increase [`gradient_accumulation`](https://huggingface.co/transformers/master/main_classes/trainer.html#trainingarguments)."
      ]
    },
    {
      "cell_type": "code",
      "metadata": {
        "colab": {
          "base_uri": "https://localhost:8080/",
          "height": 396
        },
        "id": "9fRr9TG5pGBl",
        "outputId": "f4dbbeb2-5544-4546-ac29-e782b29995cf"
      },
      "source": [
        "trainer.train()"
      ],
      "execution_count": null,
      "outputs": [
        {
          "metadata": {
            "tags": null
          },
          "name": "stderr",
          "output_type": "stream",
          "text": [
            "The following columns in the training set  don't have a corresponding argument in `Wav2Vec2ForCTC.forward` and have been ignored: input_length.\n",
            "***** Running training *****\n",
            "  Num examples = 1038\n",
            "  Num Epochs = 30\n",
            "  Instantaneous batch size per device = 16\n",
            "  Total train batch size (w. parallel, distributed & accumulation) = 32\n",
            "  Gradient Accumulation steps = 2\n",
            "  Total optimization steps = 960\n",
            "/usr/local/lib/python3.7/dist-packages/transformers/feature_extraction_utils.py:158: UserWarning: Creating a tensor from a list of numpy.ndarrays is extremely slow. Please consider converting the list to a single numpy.ndarray with numpy.array() before converting to a tensor. (Triggered internally at  ../torch/csrc/utils/tensor_new.cpp:201.)\n",
            "  tensor = as_tensor(value)\n",
            "/usr/local/lib/python3.7/dist-packages/transformers/models/wav2vec2/modeling_wav2vec2.py:882: UserWarning: __floordiv__ is deprecated, and its behavior will change in a future version of pytorch. It currently rounds toward 0 (like the 'trunc' function NOT 'floor'). This results in incorrect rounding for negative values. To keep the current behavior, use torch.div(a, b, rounding_mode='trunc'), or for actual floor division, use torch.div(a, b, rounding_mode='floor').\n",
            "  return (input_length - kernel_size) // stride + 1\n"
          ]
        },
        {
          "data": {
            "text/html": [
              "\n",
              "    <div>\n",
              "      \n",
              "      <progress value='246' max='960' style='width:300px; height:20px; vertical-align: middle;'></progress>\n",
              "      [246/960 1:27:37 < 4:16:25, 0.05 it/s, Epoch 7.65/30]\n",
              "    </div>\n",
              "    <table border=\"1\" class=\"dataframe\">\n",
              "  <thead>\n",
              "    <tr style=\"text-align: left;\">\n",
              "      <th>Step</th>\n",
              "      <th>Training Loss</th>\n",
              "      <th>Validation Loss</th>\n",
              "    </tr>\n",
              "  </thead>\n",
              "  <tbody>\n",
              "  </tbody>\n",
              "</table><p>"
            ],
            "text/plain": [
              "<IPython.core.display.HTML object>"
            ]
          },
          "metadata": {},
          "output_type": "display_data"
        },
        {
          "output_type": "display_data",
          "data": {
            "text/html": [
              "\n",
              "    <div>\n",
              "      \n",
              "      <progress value='249' max='960' style='width:300px; height:20px; vertical-align: middle;'></progress>\n",
              "      [249/960 1:28:18 < 4:14:12, 0.05 it/s, Epoch 7.74/30]\n",
              "    </div>\n",
              "    <table border=\"1\" class=\"dataframe\">\n",
              "  <thead>\n",
              "    <tr style=\"text-align: left;\">\n",
              "      <th>Step</th>\n",
              "      <th>Training Loss</th>\n",
              "      <th>Validation Loss</th>\n",
              "    </tr>\n",
              "  </thead>\n",
              "  <tbody>\n",
              "  </tbody>\n",
              "</table><p>"
            ],
            "text/plain": [
              "<IPython.core.display.HTML object>"
            ]
          },
          "metadata": {}
        }
      ]
    },
    {
      "cell_type": "markdown",
      "metadata": {
        "id": "a9q4mgMZplr_"
      },
      "source": [
        "The training loss and validation WER go down nicely."
      ]
    },
    {
      "cell_type": "markdown",
      "metadata": {
        "id": "4Ya7WEy0pd13"
      },
      "source": [
        "You can now upload the result of the training to the 🤗 Hub, just execute this instruction:"
      ]
    },
    {
      "cell_type": "code",
      "metadata": {
        "id": "ArG1Thf6NBWm"
      },
      "source": [
        "trainer.push_to_hub()"
      ],
      "execution_count": null,
      "outputs": []
    },
    {
      "cell_type": "markdown",
      "metadata": {
        "id": "RHIVc44_fY2N"
      },
      "source": [
        "You can now share this model with all your friends, family, favorite pets: they can all load it with the identifier \"your-username/the-name-you-picked\" so for instance:"
      ]
    },
    {
      "cell_type": "markdown",
      "metadata": {
        "id": "5lWWIKyBpx1h"
      },
      "source": [
        "```python\n",
        "from transformers import AutoModelForCTC, Wav2Vec2Processor\n",
        "\n",
        "model = AutoModelForCTC.from_pretrained(\"patrickvonplaten/wav2vec2-large-xls-r-300m-tr-colab\")\n",
        "processor = Wav2Vec2Processor.from_pretrained(\"patrickvonplaten/wav2vec2-large-xls-r-300m-tr-colab\")\n",
        "```"
      ]
    },
    {
      "cell_type": "markdown",
      "metadata": {
        "id": "pmi1cX0fRBit"
      },
      "source": [
        "For more examples of how XLS-R can be fine-tuned, please take a look at the [official speech recognition examples](https://github.com/huggingface/transformers/tree/master/examples/pytorch/speech-recognition#examples)."
      ]
    },
    {
      "cell_type": "markdown",
      "metadata": {
        "id": "L8b8Qkoy3KyS"
      },
      "source": [
        "### Evaluation\n",
        "\n",
        "As a final check, let's load the model and verify that it indeed has learned to transcribe Turkish speech.\n",
        "\n",
        "Let's first load the pretrained checkpoint."
      ]
    },
    {
      "cell_type": "code",
      "metadata": {
        "colab": {
          "background_save": true
        },
        "id": "R351I9IQp_9D",
        "outputId": "f2a2ee99-7db6-4962-e140-0107054102d3"
      },
      "source": [
        "model = Wav2Vec2ForCTC.from_pretrained(repo_name).to(\"cuda\")\n",
        "processor = Wav2Vec2Processor.from_pretrained(repo_name)"
      ],
      "execution_count": null,
      "outputs": [
        {
          "name": "stderr",
          "output_type": "stream",
          "text": [
            "loading configuration file wav2vec2-large-xls-r-300m-turkish-colab/config.json\n",
            "Model config Wav2Vec2Config {\n",
            "  \"_name_or_path\": \"facebook/wav2vec2-xls-r-300m\",\n",
            "  \"activation_dropout\": 0.0,\n",
            "  \"apply_spec_augment\": true,\n",
            "  \"architectures\": [\n",
            "    \"Wav2Vec2ForCTC\"\n",
            "  ],\n",
            "  \"attention_dropout\": 0.0,\n",
            "  \"bos_token_id\": 1,\n",
            "  \"classifier_proj_size\": 256,\n",
            "  \"codevector_dim\": 768,\n",
            "  \"contrastive_logits_temperature\": 0.1,\n",
            "  \"conv_bias\": true,\n",
            "  \"conv_dim\": [\n",
            "    512,\n",
            "    512,\n",
            "    512,\n",
            "    512,\n",
            "    512,\n",
            "    512,\n",
            "    512\n",
            "  ],\n",
            "  \"conv_kernel\": [\n",
            "    10,\n",
            "    3,\n",
            "    3,\n",
            "    3,\n",
            "    3,\n",
            "    2,\n",
            "    2\n",
            "  ],\n",
            "  \"conv_stride\": [\n",
            "    5,\n",
            "    2,\n",
            "    2,\n",
            "    2,\n",
            "    2,\n",
            "    2,\n",
            "    2\n",
            "  ],\n",
            "  \"ctc_loss_reduction\": \"mean\",\n",
            "  \"ctc_zero_infinity\": false,\n",
            "  \"diversity_loss_weight\": 0.1,\n",
            "  \"do_stable_layer_norm\": true,\n",
            "  \"eos_token_id\": 2,\n",
            "  \"feat_extract_activation\": \"gelu\",\n",
            "  \"feat_extract_dropout\": 0.0,\n",
            "  \"feat_extract_norm\": \"layer\",\n",
            "  \"feat_proj_dropout\": 0.0,\n",
            "  \"feat_quantizer_dropout\": 0.0,\n",
            "  \"final_dropout\": 0.0,\n",
            "  \"gradient_checkpointing\": false,\n",
            "  \"hidden_act\": \"gelu\",\n",
            "  \"hidden_dropout\": 0.0,\n",
            "  \"hidden_size\": 1024,\n",
            "  \"initializer_range\": 0.02,\n",
            "  \"intermediate_size\": 4096,\n",
            "  \"layer_norm_eps\": 1e-05,\n",
            "  \"layerdrop\": 0.0,\n",
            "  \"mask_feature_length\": 10,\n",
            "  \"mask_feature_prob\": 0.0,\n",
            "  \"mask_time_length\": 10,\n",
            "  \"mask_time_prob\": 0.05,\n",
            "  \"model_type\": \"wav2vec2\",\n",
            "  \"num_attention_heads\": 16,\n",
            "  \"num_codevector_groups\": 2,\n",
            "  \"num_codevectors_per_group\": 320,\n",
            "  \"num_conv_pos_embedding_groups\": 16,\n",
            "  \"num_conv_pos_embeddings\": 128,\n",
            "  \"num_feat_extract_layers\": 7,\n",
            "  \"num_hidden_layers\": 24,\n",
            "  \"num_negatives\": 100,\n",
            "  \"pad_token_id\": 36,\n",
            "  \"proj_codevector_dim\": 768,\n",
            "  \"torch_dtype\": \"float32\",\n",
            "  \"transformers_version\": \"4.11.3\",\n",
            "  \"use_weighted_layer_sum\": false,\n",
            "  \"vocab_size\": 39\n",
            "}\n",
            "\n",
            "loading weights file wav2vec2-large-xls-r-300m-turkish-colab/pytorch_model.bin\n",
            "All model checkpoint weights were used when initializing Wav2Vec2ForCTC.\n",
            "\n",
            "All the weights of Wav2Vec2ForCTC were initialized from the model checkpoint at wav2vec2-large-xls-r-300m-turkish-colab.\n",
            "If your task is similar to the task the model of the checkpoint was trained on, you can already use Wav2Vec2ForCTC for predictions without further training.\n",
            "loading feature extractor configuration file wav2vec2-large-xls-r-300m-turkish-colab/preprocessor_config.json\n",
            "Feature extractor Wav2Vec2FeatureExtractor {\n",
            "  \"do_normalize\": true,\n",
            "  \"feature_extractor_type\": \"Wav2Vec2FeatureExtractor\",\n",
            "  \"feature_size\": 1,\n",
            "  \"padding_side\": \"right\",\n",
            "  \"padding_value\": 0.0,\n",
            "  \"return_attention_mask\": true,\n",
            "  \"sampling_rate\": 16000\n",
            "}\n",
            "\n",
            "Didn't find file wav2vec2-large-xls-r-300m-turkish-colab/tokenizer.json. We won't load it.\n",
            "loading file wav2vec2-large-xls-r-300m-turkish-colab/vocab.json\n",
            "loading file wav2vec2-large-xls-r-300m-turkish-colab/tokenizer_config.json\n",
            "loading file wav2vec2-large-xls-r-300m-turkish-colab/added_tokens.json\n",
            "loading file wav2vec2-large-xls-r-300m-turkish-colab/special_tokens_map.json\n",
            "loading file None\n",
            "Adding <s> to the vocabulary\n",
            "Adding </s> to the vocabulary\n"
          ]
        }
      ]
    },
    {
      "cell_type": "markdown",
      "metadata": {
        "id": "jD7TZ1YS3S_K"
      },
      "source": [
        "\n",
        "Now, we will just take the first example of the test set, run it through the model and take the `argmax(...)` of the logits to retrieve the predicted token ids."
      ]
    },
    {
      "cell_type": "code",
      "metadata": {
        "colab": {
          "background_save": true
        },
        "id": "pax07TnL3WZn",
        "outputId": "867787ff-0cb7-41e9-f926-96f7b53e7134"
      },
      "source": [
        "input_dict = processor(common_voice_test[0][\"input_values\"], return_tensors=\"pt\", padding=True)\n",
        "\n",
        "logits = model(input_dict.input_values.to(\"cuda\")).logits\n",
        "\n",
        "pred_ids = torch.argmax(logits, dim=-1)[0]"
      ],
      "execution_count": null,
      "outputs": [
        {
          "name": "stderr",
          "output_type": "stream",
          "text": [
            "It is strongly recommended to pass the ``sampling_rate`` argument to this function.Failing to do so can result in silent errors that might be hard to debug.\n"
          ]
        }
      ]
    },
    {
      "cell_type": "markdown",
      "metadata": {
        "id": "7nkzSQu53Zs2"
      },
      "source": [
        "We adapted `common_voice_test` quite a bit so that the dataset instance does not contain the original sentence label anymore. Thus, we re-use the original dataset to get the label of the first example."
      ]
    },
    {
      "cell_type": "code",
      "metadata": {
        "colab": {
          "background_save": true,
          "referenced_widgets": [
            "54097a6c744849128d7cc3da8aad6609",
            "b8827ecbec9e44f09216f62c1ee12840",
            "8728bb32478240b7abe576375b01e640",
            "19b8a530352a423794395979e6415bea",
            "5fc8ec04870e4bb7b63b20844c355ab6"
          ]
        },
        "id": "fe2AE-2xqKHx",
        "outputId": "1d8321b3-4f41-4d71-e74e-f33f32a7b261"
      },
      "source": [
        "common_voice_test_transcription = load_dataset(\"common_voice\", \"tr\", data_dir=\"./cv-corpus-6.1-2020-12-11\", split=\"test\")"
      ],
      "execution_count": null,
      "outputs": [
        {
          "name": "stderr",
          "output_type": "stream",
          "text": [
            "Using custom data configuration tr-ad9f7b76efa9f3a0\n"
          ]
        },
        {
          "name": "stdout",
          "output_type": "stream",
          "text": [
            "Downloading and preparing dataset common_voice/tr (download: 592.09 MiB, generated: 2.89 MiB, post-processed: Unknown size, total: 594.98 MiB) to /root/.cache/huggingface/datasets/common_voice/tr-ad9f7b76efa9f3a0/6.1.0/f7a9d973839b7706e9e281c19b7e512f31badf3c0fdbd21c671f3c4bf9acf3b9...\n"
          ]
        },
        {
          "data": {
            "application/vnd.jupyter.widget-view+json": {
              "model_id": "54097a6c744849128d7cc3da8aad6609",
              "version_major": 2,
              "version_minor": 0
            },
            "text/plain": [
              "0 examples [00:00, ? examples/s]"
            ]
          },
          "metadata": {},
          "output_type": "display_data"
        },
        {
          "data": {
            "application/vnd.jupyter.widget-view+json": {
              "model_id": "b8827ecbec9e44f09216f62c1ee12840",
              "version_major": 2,
              "version_minor": 0
            },
            "text/plain": [
              "0 examples [00:00, ? examples/s]"
            ]
          },
          "metadata": {},
          "output_type": "display_data"
        },
        {
          "data": {
            "application/vnd.jupyter.widget-view+json": {
              "model_id": "8728bb32478240b7abe576375b01e640",
              "version_major": 2,
              "version_minor": 0
            },
            "text/plain": [
              "0 examples [00:00, ? examples/s]"
            ]
          },
          "metadata": {},
          "output_type": "display_data"
        },
        {
          "data": {
            "application/vnd.jupyter.widget-view+json": {
              "model_id": "19b8a530352a423794395979e6415bea",
              "version_major": 2,
              "version_minor": 0
            },
            "text/plain": [
              "0 examples [00:00, ? examples/s]"
            ]
          },
          "metadata": {},
          "output_type": "display_data"
        },
        {
          "data": {
            "application/vnd.jupyter.widget-view+json": {
              "model_id": "5fc8ec04870e4bb7b63b20844c355ab6",
              "version_major": 2,
              "version_minor": 0
            },
            "text/plain": [
              "0 examples [00:00, ? examples/s]"
            ]
          },
          "metadata": {},
          "output_type": "display_data"
        },
        {
          "name": "stdout",
          "output_type": "stream",
          "text": [
            "Dataset common_voice downloaded and prepared to /root/.cache/huggingface/datasets/common_voice/tr-ad9f7b76efa9f3a0/6.1.0/f7a9d973839b7706e9e281c19b7e512f31badf3c0fdbd21c671f3c4bf9acf3b9. Subsequent calls will reuse this data.\n"
          ]
        }
      ]
    },
    {
      "cell_type": "markdown",
      "metadata": {
        "id": "epu8kCQZ3h70"
      },
      "source": [
        "\n",
        "Finally, we can decode the example."
      ]
    },
    {
      "cell_type": "code",
      "metadata": {
        "colab": {
          "background_save": true
        },
        "id": "K4xWqmk_qMn0",
        "outputId": "d9e40b3c-f02a-48a1-d081-6d7e8b37dcaf"
      },
      "source": [
        "print(\"Prediction:\")\n",
        "print(processor.decode(pred_ids))\n",
        "\n",
        "print(\"\\nReference:\")\n",
        "print(common_voice_test_transcription[0][\"sentence\"].lower())"
      ],
      "execution_count": null,
      "outputs": [
        {
          "name": "stdout",
          "output_type": "stream",
          "text": [
            "Prediction:\n",
            "ha ta küçük şeyleri için bir büyük biş şeylir koğoluyor ve yeneküçük şeyler için bir birmizi incilkiyoruz\n",
            "\n",
            "Reference:\n",
            "hayatta küçük şeyleri kovalıyor ve yine küçük şeyler için birbirimizi incitiyoruz.\n"
          ]
        }
      ]
    },
    {
      "cell_type": "markdown",
      "metadata": {
        "id": "HwhyoMml3oOT"
      },
      "source": [
        "Alright! The transcription can definitely be recognized from our prediction, but it is not perfect yet. Training the model a bit longer, spending more time on the data preprocessing, and especially using a language model for decoding would certainly improve the model's overall performance.\n",
        "\n",
        "For a demonstration model on a low-resource language, the results are quite acceptable however 🤗."
      ]
    }
  ]
}