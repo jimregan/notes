{
  "nbformat": 4,
  "nbformat_minor": 5,
  "metadata": {
    "kernelspec": {
      "display_name": "Python 3",
      "language": "python",
      "name": "python3"
    },
    "language_info": {
      "codemirror_mode": {
        "name": "ipython",
        "version": 3
      },
      "file_extension": ".py",
      "mimetype": "text/x-python",
      "name": "python",
      "nbconvert_exporter": "python",
      "pygments_lexer": "ipython3",
      "version": "3.7.10"
    },
    "papermill": {
      "default_parameters": {},
      "duration": 317.059469,
      "end_time": "2021-05-24T18:11:53.929764",
      "environment_variables": {},
      "exception": null,
      "input_path": "__notebook__.ipynb",
      "output_path": "__notebook__.ipynb",
      "parameters": {},
      "start_time": "2021-05-24T18:06:36.870295",
      "version": "2.3.3"
    },
    "colab": {
      "name": "2021-05-15-extract-prebuilt-kaldi-from-docker.ipynb",
      "provenance": []
    }
  },
  "cells": [
    {
      "cell_type": "markdown",
      "metadata": {
        "id": "Ov8cW9Jnei2P"
      },
      "source": [
        "# Extract pre-built Kaldi on Kaggle\n",
        "\n",
        "> \"For use with wav2vec-u\"\n",
        "\n",
        "- toc: false\n",
        "- branch: master\n",
        "- badges: false\n",
        "- comments: true\n",
        "- categories: [kaggle, kaldi, wav2vec-u]\n"
      ],
      "id": "Ov8cW9Jnei2P"
    },
    {
      "cell_type": "markdown",
      "metadata": {
        "id": "SbVUl2kXeuhF"
      },
      "source": [
        "Original [here](https://www.kaggle.com/jimregan/extract-prebuilt-kaldi-from-docker)"
      ],
      "id": "SbVUl2kXeuhF"
    },
    {
      "cell_type": "code",
      "metadata": {
        "_cell_guid": "b1076dfc-b9ad-4769-8c92-a6c4dae69d19",
        "_uuid": "8f2839f25d086af736a60e9eeb907d3b93b6e0e5",
        "execution": {
          "iopub.execute_input": "2021-05-24T18:06:46.000854Z",
          "iopub.status.busy": "2021-05-24T18:06:46.000015Z",
          "iopub.status.idle": "2021-05-24T18:06:46.005869Z",
          "shell.execute_reply": "2021-05-24T18:06:46.006366Z",
          "shell.execute_reply.started": "2021-05-24T17:54:29.104973Z"
        },
        "papermill": {
          "duration": 0.0256,
          "end_time": "2021-05-24T18:06:46.006699",
          "exception": false,
          "start_time": "2021-05-24T18:06:45.981099",
          "status": "completed"
        },
        "tags": [],
        "id": "deadly-novelty",
        "outputId": "cf6ae3cc-ef13-4fda-d1f4-ff43e677a988"
      },
      "source": [
        "%cd /tmp"
      ],
      "id": "deadly-novelty",
      "execution_count": null,
      "outputs": [
        {
          "output_type": "stream",
          "text": [
            "/tmp\n"
          ],
          "name": "stdout"
        }
      ]
    },
    {
      "cell_type": "code",
      "metadata": {
        "execution": {
          "iopub.execute_input": "2021-05-24T18:06:46.043417Z",
          "iopub.status.busy": "2021-05-24T18:06:46.028545Z",
          "iopub.status.idle": "2021-05-24T18:06:48.056250Z",
          "shell.execute_reply": "2021-05-24T18:06:48.056946Z",
          "shell.execute_reply.started": "2021-05-24T17:54:29.122156Z"
        },
        "papermill": {
          "duration": 2.041402,
          "end_time": "2021-05-24T18:06:48.057125",
          "exception": false,
          "start_time": "2021-05-24T18:06:46.015723",
          "status": "completed"
        },
        "tags": [],
        "id": "median-alert"
      },
      "source": [
        "!git clone https://github.com/jjlin/docker-image-extract/"
      ],
      "id": "median-alert",
      "execution_count": null,
      "outputs": []
    },
    {
      "cell_type": "code",
      "metadata": {
        "execution": {
          "iopub.execute_input": "2021-05-24T18:06:48.084624Z",
          "iopub.status.busy": "2021-05-24T18:06:48.083644Z",
          "iopub.status.idle": "2021-05-24T18:08:38.911214Z",
          "shell.execute_reply": "2021-05-24T18:08:38.911841Z",
          "shell.execute_reply.started": "2021-05-24T17:54:30.470335Z"
        },
        "papermill": {
          "duration": 110.845815,
          "end_time": "2021-05-24T18:08:38.912231",
          "exception": false,
          "start_time": "2021-05-24T18:06:48.066416",
          "status": "completed"
        },
        "tags": [],
        "id": "efficient-cotton",
        "outputId": "597fb049-8ae0-4c17-8dc3-31faf6f5d4b6"
      },
      "source": [
        "!docker-image-extract/docker-image-extract kaldiasr/kaldi:gpu-latest\n"
      ],
      "id": "efficient-cotton",
      "execution_count": null,
      "outputs": [
        {
          "output_type": "stream",
          "text": [
            "Getting API token...\r\n",
            "Getting image manifest for kaldiasr/kaldi:gpu-latest...\r\n",
            "Fetching and extracting layer 976a760c94fcdd7d105269ae621e8269e7bb25a58c52ae667b4029a6bc7e33cb...\r\n",
            "Fetching and extracting layer c58992f3c37bb64aeba18910408cda9a7a63e212fe27e95065a8d54130ca5926...\r\n",
            "Fetching and extracting layer 0ca0e5e7f12e6eb512246aea5579fcb771fe7203bc60944384d5cd7962f87ddb...\r\n",
            "Fetching and extracting layer f2a274cc00ca5f671b1740c43672dbc96504760cee585e7604029a3fe56854a8...\r\n",
            "Fetching and extracting layer 708a53113e13a385afdeddfe409f4b7b71e65b1e5cff48ba33906c8803e19808...\r\n",
            "Fetching and extracting layer 465b2edc87fbc8c5fb06541c382eefd1edbfcac71521273855dbe0841a5aaf4a...\r\n",
            "Fetching and extracting layer 4189f57a58ef61e7e283534fb6d0dd4b2b818a037d82c0e1a2994cea35b01883...\r\n",
            "Fetching and extracting layer 35de2d1091bb82248c486931c94f18336d55dfee05d32d549305626c2e54ca82...\r\n",
            "Fetching and extracting layer 719d77537fdce03bba6ed02fcbc2e4b84d58906af53a95102326d7aa290549bf...\r\n",
            "Fetching and extracting layer 3745e7bcc1b3b7ef8b9afe38e20019cdd052d2ed5fa6b32f063e693620179f90...\r\n",
            "Fetching and extracting layer d990bd9da1ddb55d091b2fcc12a80dc7d3b04e1ba14c2e79f6e0ec9f487773fe...\r\n",
            "Fetching and extracting layer 15f2cb6c17ae91014b292d6db2438f202e2fb2f9527cb6730f5a38f639526641...\r\n",
            "Fetching and extracting layer d3305c2a9a9794962ae8183ae36e93f656f290fcec1216407bf4f417e09e512b...\r\n",
            "Image contents extracted into ./output.\r\n"
          ],
          "name": "stdout"
        }
      ]
    },
    {
      "cell_type": "code",
      "metadata": {
        "execution": {
          "iopub.execute_input": "2021-05-24T18:08:38.956282Z",
          "iopub.status.busy": "2021-05-24T18:08:38.955210Z",
          "iopub.status.idle": "2021-05-24T18:08:38.958826Z",
          "shell.execute_reply": "2021-05-24T18:08:38.959310Z",
          "shell.execute_reply.started": "2021-05-24T17:56:34.638494Z"
        },
        "papermill": {
          "duration": 0.03365,
          "end_time": "2021-05-24T18:08:38.959519",
          "exception": false,
          "start_time": "2021-05-24T18:08:38.925869",
          "status": "completed"
        },
        "tags": [],
        "id": "bacterial-chassis",
        "outputId": "098cfc2a-c803-4974-b7cd-60052e41e216"
      },
      "source": [
        "%cd output/opt/"
      ],
      "id": "bacterial-chassis",
      "execution_count": null,
      "outputs": [
        {
          "output_type": "stream",
          "text": [
            "/tmp/output/opt\n"
          ],
          "name": "stdout"
        }
      ]
    },
    {
      "cell_type": "code",
      "metadata": {
        "execution": {
          "iopub.execute_input": "2021-05-24T18:08:38.993720Z",
          "iopub.status.busy": "2021-05-24T18:08:38.993055Z",
          "iopub.status.idle": "2021-05-24T18:08:38.999870Z",
          "shell.execute_reply": "2021-05-24T18:08:39.000483Z",
          "shell.execute_reply.started": "2021-05-24T18:00:01.202611Z"
        },
        "papermill": {
          "duration": 0.027692,
          "end_time": "2021-05-24T18:08:39.000789",
          "exception": false,
          "start_time": "2021-05-24T18:08:38.973097",
          "status": "completed"
        },
        "tags": [],
        "id": "controlled-characteristic"
      },
      "source": [
        "import os\n",
        "os.environ['LD_LIBRARY_PATH'] = '/opt/conda/lib:/opt/kaldi/tools/openfst-1.6.7/lib:/opt/kaldi/src/lib'"
      ],
      "id": "controlled-characteristic",
      "execution_count": null,
      "outputs": []
    },
    {
      "cell_type": "code",
      "metadata": {
        "execution": {
          "iopub.execute_input": "2021-05-24T18:08:39.047394Z",
          "iopub.status.busy": "2021-05-24T18:08:39.046288Z",
          "iopub.status.idle": "2021-05-24T18:11:43.494242Z",
          "shell.execute_reply": "2021-05-24T18:11:43.493435Z",
          "shell.execute_reply.started": "2021-05-24T18:01:34.635591Z"
        },
        "papermill": {
          "duration": 184.476943,
          "end_time": "2021-05-24T18:11:43.494549",
          "exception": false,
          "start_time": "2021-05-24T18:08:39.017606",
          "status": "completed"
        },
        "tags": [],
        "id": "short-skill"
      },
      "source": [
        "%pushd kaldi/tools\n",
        "!bash extras/install_phonetisaurus.sh\n",
        "%popd"
      ],
      "id": "short-skill",
      "execution_count": null,
      "outputs": []
    },
    {
      "cell_type": "code",
      "metadata": {
        "execution": {
          "iopub.execute_input": "2021-05-24T18:11:43.612581Z",
          "iopub.status.busy": "2021-05-24T18:11:43.608005Z",
          "iopub.status.idle": "2021-05-24T18:11:52.382525Z",
          "shell.execute_reply": "2021-05-24T18:11:52.381805Z",
          "shell.execute_reply.started": "2021-05-24T17:59:42.196027Z"
        },
        "papermill": {
          "duration": 8.833263,
          "end_time": "2021-05-24T18:11:52.382685",
          "exception": false,
          "start_time": "2021-05-24T18:11:43.549422",
          "status": "completed"
        },
        "tags": [],
        "id": "systematic-wrist"
      },
      "source": [
        "!tar cvf /kaggle/working/kaldi.tar kaldi/"
      ],
      "id": "systematic-wrist",
      "execution_count": null,
      "outputs": []
    }
  ]
}