{
 "cells": [
  {
   "cell_type": "markdown",
   "id": "b387fd67-d83b-453d-abc9-61dffbe7f827",
   "metadata": {},
   "source": [
    "# Clarin-Studio Polish Train mono 1-30\n",
    "\n",
    "> First 30 steps of training\n",
    "\n",
    "- toc: false\n",
    "- branch: master\n",
    "- badges: false\n",
    "- comments: false\n",
    "- categories: [clarinpl, kaggle]"
   ]
  },
  {
   "cell_type": "markdown",
   "id": "60c3460c-7427-417c-8c65-46202036ade8",
   "metadata": {},
   "source": [
    "Original on [Kaggle](https://www.kaggle.com/jimregan/kaldi-clarinstudio-polish-train-mono-1-30)"
   ]
  },
  {
   "cell_type": "code",
   "execution_count": null,
   "id": "exact-national",
   "metadata": {
    "papermill": {
     "duration": 0.026565,
     "end_time": "2021-05-24T21:29:22.872900",
     "exception": false,
     "start_time": "2021-05-24T21:29:22.846335",
     "status": "completed"
    },
    "tags": []
   },
   "outputs": [],
   "source": [
    "%cd /opt"
   ]
  },
  {
   "cell_type": "code",
   "execution_count": 2,
   "id": "waiting-photography",
   "metadata": {
    "_cell_guid": "b1076dfc-b9ad-4769-8c92-a6c4dae69d19",
    "_uuid": "8f2839f25d086af736a60e9eeb907d3b93b6e0e5",
    "execution": {
     "iopub.execute_input": "2021-05-24T21:29:22.901412Z",
     "iopub.status.busy": "2021-05-24T21:29:22.900664Z",
     "iopub.status.idle": "2021-05-24T21:30:07.773298Z",
     "shell.execute_reply": "2021-05-24T21:30:07.774281Z"
    },
    "papermill": {
     "duration": 44.890253,
     "end_time": "2021-05-24T21:30:07.775158",
     "exception": false,
     "start_time": "2021-05-24T21:29:22.884905",
     "status": "completed"
    },
    "tags": []
   },
   "outputs": [],
   "source": [
    "%%capture\n",
    "!tar xvf /kaggle/input/extract-prebuilt-kaldi-from-docker/kaldi.tar"
   ]
  },
  {
   "cell_type": "code",
   "execution_count": 3,
   "id": "funny-bearing",
   "metadata": {
    "execution": {
     "iopub.execute_input": "2021-05-24T21:30:07.811778Z",
     "iopub.status.busy": "2021-05-24T21:30:07.810667Z",
     "iopub.status.idle": "2021-05-24T21:30:07.816063Z",
     "shell.execute_reply": "2021-05-24T21:30:07.815423Z"
    },
    "papermill": {
     "duration": 0.025865,
     "end_time": "2021-05-24T21:30:07.816203",
     "exception": false,
     "start_time": "2021-05-24T21:30:07.790338",
     "status": "completed"
    },
    "tags": []
   },
   "outputs": [
    {
     "name": "stdout",
     "output_type": "stream",
     "text": [
      "/opt/kaldi/egs\n"
     ]
    }
   ],
   "source": [
    "%cd kaldi/egs"
   ]
  },
  {
   "cell_type": "code",
   "execution_count": null,
   "id": "greenhouse-association",
   "metadata": {
    "papermill": {
     "duration": 4.709154,
     "end_time": "2021-05-24T21:30:12.536285",
     "exception": false,
     "start_time": "2021-05-24T21:30:07.827131",
     "status": "completed"
    },
    "tags": []
   },
   "outputs": [],
   "source": [
    "!git clone https://github.com/danijel3/ClarinStudioKaldi"
   ]
  },
  {
   "cell_type": "code",
   "execution_count": 5,
   "id": "diverse-proxy",
   "metadata": {
    "execution": {
     "iopub.execute_input": "2021-05-24T21:30:12.578603Z",
     "iopub.status.busy": "2021-05-24T21:30:12.577856Z",
     "iopub.status.idle": "2021-05-24T21:30:12.584306Z",
     "shell.execute_reply": "2021-05-24T21:30:12.584884Z"
    },
    "papermill": {
     "duration": 0.031042,
     "end_time": "2021-05-24T21:30:12.585074",
     "exception": false,
     "start_time": "2021-05-24T21:30:12.554032",
     "status": "completed"
    },
    "tags": []
   },
   "outputs": [
    {
     "name": "stdout",
     "output_type": "stream",
     "text": [
      "/opt/kaldi/egs/ClarinStudioKaldi\n"
     ]
    }
   ],
   "source": [
    "%cd ClarinStudioKaldi"
   ]
  },
  {
   "cell_type": "code",
   "execution_count": null,
   "id": "surprised-papua",
   "metadata": {
    "papermill": {
     "duration": 168.788786,
     "end_time": "2021-05-24T21:33:01.390973",
     "exception": false,
     "start_time": "2021-05-24T21:30:12.602187",
     "status": "completed"
    },
    "tags": []
   },
   "outputs": [],
   "source": [
    "#apt-get -y install libperlio-gzip-perl\n",
    "!conda install -c bioconda perl-perlio-gzip -y"
   ]
  },
  {
   "cell_type": "code",
   "execution_count": 7,
   "id": "steady-testing",
   "metadata": {
    "execution": {
     "iopub.execute_input": "2021-05-24T21:33:02.019632Z",
     "iopub.status.busy": "2021-05-24T21:33:02.018579Z",
     "iopub.status.idle": "2021-05-24T21:33:02.022480Z",
     "shell.execute_reply": "2021-05-24T21:33:02.021720Z"
    },
    "papermill": {
     "duration": 0.318611,
     "end_time": "2021-05-24T21:33:02.022681",
     "exception": false,
     "start_time": "2021-05-24T21:33:01.704070",
     "status": "completed"
    },
    "tags": []
   },
   "outputs": [],
   "source": [
    "import os\n",
    "#os.environ['LD_LIBRARY_PATH'] = f'{os.environ[\"LD_LIBRARY_PATH\"]}:/opt/kaldi/tools/openfst-1.6.7/lib:/opt/kaldi/src/lib'\n",
    "os.environ['LD_LIBRARY_PATH'] = '/opt/conda/lib:/opt/kaldi/tools/openfst-1.6.7/lib:/opt/kaldi/src/lib'"
   ]
  },
  {
   "cell_type": "code",
   "execution_count": 8,
   "id": "alpine-nicholas",
   "metadata": {
    "execution": {
     "iopub.execute_input": "2021-05-24T21:33:02.676170Z",
     "iopub.status.busy": "2021-05-24T21:33:02.675467Z",
     "iopub.status.idle": "2021-05-24T21:33:04.153678Z",
     "shell.execute_reply": "2021-05-24T21:33:04.153017Z"
    },
    "papermill": {
     "duration": 1.805762,
     "end_time": "2021-05-24T21:33:04.153855",
     "exception": false,
     "start_time": "2021-05-24T21:33:02.348093",
     "status": "completed"
    },
    "tags": []
   },
   "outputs": [],
   "source": [
    "!cat path.sh|sed -e 's/~\\/apps/\\/opt/' > tmp\n",
    "!mv tmp path.sh"
   ]
  },
  {
   "cell_type": "code",
   "execution_count": 9,
   "id": "jewish-ocean",
   "metadata": {
    "execution": {
     "iopub.execute_input": "2021-05-24T21:33:04.791014Z",
     "iopub.status.busy": "2021-05-24T21:33:04.790063Z",
     "iopub.status.idle": "2021-05-24T21:33:05.511252Z",
     "shell.execute_reply": "2021-05-24T21:33:05.510613Z"
    },
    "papermill": {
     "duration": 1.03675,
     "end_time": "2021-05-24T21:33:05.511438",
     "exception": false,
     "start_time": "2021-05-24T21:33:04.474688",
     "status": "completed"
    },
    "tags": []
   },
   "outputs": [],
   "source": [
    "!echo > local_clarin/clarin_pl_clean.sh"
   ]
  },
  {
   "cell_type": "code",
   "execution_count": 10,
   "id": "marine-diversity",
   "metadata": {
    "execution": {
     "iopub.execute_input": "2021-05-24T21:33:06.151519Z",
     "iopub.status.busy": "2021-05-24T21:33:06.150823Z",
     "iopub.status.idle": "2021-05-24T21:33:09.055309Z",
     "shell.execute_reply": "2021-05-24T21:33:09.054562Z"
    },
    "papermill": {
     "duration": 3.228006,
     "end_time": "2021-05-24T21:33:09.055501",
     "exception": false,
     "start_time": "2021-05-24T21:33:05.827495",
     "status": "completed"
    },
    "tags": []
   },
   "outputs": [],
   "source": [
    "!ln -s ../wsj/s5/steps\n",
    "!ln -s ../wsj/s5/conf\n",
    "!ln -s ../wsj/s5/local\n",
    "!ln -s ../wsj/s5/utils"
   ]
  },
  {
   "cell_type": "code",
   "execution_count": 11,
   "id": "editorial-omega",
   "metadata": {
    "execution": {
     "iopub.execute_input": "2021-05-24T21:33:09.684407Z",
     "iopub.status.busy": "2021-05-24T21:33:09.683660Z",
     "iopub.status.idle": "2021-05-24T21:33:16.360317Z",
     "shell.execute_reply": "2021-05-24T21:33:16.359504Z"
    },
    "papermill": {
     "duration": 6.992288,
     "end_time": "2021-05-24T21:33:16.360519",
     "exception": false,
     "start_time": "2021-05-24T21:33:09.368231",
     "status": "completed"
    },
    "tags": []
   },
   "outputs": [],
   "source": [
    "!cp -r /kaggle/input/kaldi-clarinstudio-polish-data-prep/data /kaggle/working/"
   ]
  },
  {
   "cell_type": "code",
   "execution_count": 12,
   "id": "working-solution",
   "metadata": {
    "execution": {
     "iopub.execute_input": "2021-05-24T21:33:16.997767Z",
     "iopub.status.busy": "2021-05-24T21:33:16.991806Z",
     "iopub.status.idle": "2021-05-24T21:33:19.154265Z",
     "shell.execute_reply": "2021-05-24T21:33:19.153576Z"
    },
    "papermill": {
     "duration": 2.48194,
     "end_time": "2021-05-24T21:33:19.154439",
     "exception": false,
     "start_time": "2021-05-24T21:33:16.672499",
     "status": "completed"
    },
    "tags": []
   },
   "outputs": [],
   "source": [
    "!mkdir /kaggle/working/exp\n",
    "!ln -s /kaggle/working/exp\n",
    "!ln -s /kaggle/working/data"
   ]
  },
  {
   "cell_type": "code",
   "execution_count": null,
   "id": "yellow-color",
   "metadata": {
    "papermill": {
     "duration": 4271.615126,
     "end_time": "2021-05-24T22:44:31.077921",
     "exception": false,
     "start_time": "2021-05-24T21:33:19.462795",
     "status": "completed"
    },
    "tags": []
   },
   "outputs": [],
   "source": [
    "!bash steps/train_mono.sh --nj 40 --num_iters 30 data/train data/lang_nosp exp/mono0"
   ]
  }
 ],
 "metadata": {
  "kernelspec": {
   "display_name": "Python 3 (ipykernel)",
   "language": "python",
   "name": "python3"
  },
  "language_info": {
   "codemirror_mode": {
    "name": "ipython",
    "version": 3
   },
   "file_extension": ".py",
   "mimetype": "text/x-python",
   "name": "python",
   "nbconvert_exporter": "python",
   "pygments_lexer": "ipython3",
   "version": "3.8.12"
  },
  "papermill": {
   "default_parameters": {},
   "duration": 4517.664636,
   "end_time": "2021-05-24T22:44:32.122148",
   "environment_variables": {},
   "exception": null,
   "input_path": "__notebook__.ipynb",
   "output_path": "__notebook__.ipynb",
   "parameters": {},
   "start_time": "2021-05-24T21:29:14.457512",
   "version": "2.3.3"
  }
 },
 "nbformat": 4,
 "nbformat_minor": 5
}
