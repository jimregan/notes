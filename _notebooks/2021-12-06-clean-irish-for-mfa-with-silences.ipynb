{
 "cells": [
  {
   "cell_type": "markdown",
   "metadata": {},
   "source": [
    "# Clean Irish text\n",
    "\n",
    "> \"...preserving some punctuation, for silence alignment\"\n",
    "\n",
    "- toc: false\n",
    "- branch: master\n",
    "- hidden: true\n",
    "- categories: [irish, cleaning, alignment]"
   ]
  },
  {
   "cell_type": "code",
   "execution_count": 8,
   "metadata": {},
   "outputs": [],
   "source": [
    "def _ga_lc_word(text):\n",
    "    if text[0:1] in \"nt\" and text[1:2] in \"AÁEÉIÍOÓUÚ\":\n",
    "        return text[0:1] + \"-\" + text[1:].lower()\n",
    "    else:\n",
    "        return text.lower()\n",
    "    \n",
    "def ga_lower(text):\n",
    "    words = [_ga_lc_word(word) for word in text.split()]\n",
    "    return \" \".join(words)"
   ]
  },
  {
   "cell_type": "code",
   "execution_count": 9,
   "metadata": {},
   "outputs": [],
   "source": [
    "test = \"Cuairt an tAthair\"\n",
    "assert ga_lower(test) == \"cuairt an t-athair\""
   ]
  },
  {
   "cell_type": "code",
   "execution_count": 50,
   "metadata": {},
   "outputs": [],
   "source": [
    "import re\n",
    "def clean_text(text):\n",
    "    # keep only word-internal apostrophes\n",
    "    text = re.sub(\"^'+\", \"\", text)\n",
    "    text = re.sub(\"[']+$\", \"\", text)\n",
    "    text = text.replace(\"' \", \" \").replace(\" '\", \" \")\n",
    "    \n",
    "    text = text.replace(\"’\", \"'\")\n",
    "    text = re.sub(\"[‘“”\\\"\\(\\)\\[\\]\\{\\}]\", \"\", text)\n",
    "\n",
    "    # keep punctuation that can correspond to silence\n",
    "    text = re.sub(\"([,;\\.!?])\", \" \\\\1\", text)\n",
    "    # leave spaced hyphens, which also can be silences, except at EOS\n",
    "    text = re.sub(\" \\-$\", \"\", text)\n",
    "    return ga_lower(text)"
   ]
  },
  {
   "cell_type": "code",
   "execution_count": 33,
   "metadata": {},
   "outputs": [],
   "source": [
    "test = \"'cuairt (an) “tAthair”''\"\n",
    "assert clean_text(test) == \"cuairt an t-athair\""
   ]
  },
  {
   "cell_type": "code",
   "execution_count": 48,
   "metadata": {},
   "outputs": [],
   "source": [
    "test = \"'cuairt, (an) “tAthair”!\"\n",
    "assert clean_text(test) == \"cuairt , an t-athair !\""
   ]
  },
  {
   "cell_type": "code",
   "execution_count": 51,
   "metadata": {},
   "outputs": [],
   "source": [
    "test = \"'cuairt, (an) “tAthair”! -\"\n",
    "assert clean_text(test) == \"cuairt , an t-athair !\""
   ]
  },
  {
   "cell_type": "markdown",
   "metadata": {},
   "source": [
    "Actually using it."
   ]
  },
  {
   "cell_type": "code",
   "execution_count": 52,
   "metadata": {},
   "outputs": [],
   "source": [
    "from pathlib import Path"
   ]
  },
  {
   "cell_type": "code",
   "execution_count": 53,
   "metadata": {},
   "outputs": [],
   "source": [
    "OUT = Path(\"<SNIP>\")\n",
    "SRC = Path(\"<SNIP>\")"
   ]
  },
  {
   "cell_type": "code",
   "execution_count": 58,
   "metadata": {},
   "outputs": [],
   "source": [
    "for filename in SRC.glob(\"*.txt\"):\n",
    "    base = filename.stem\n",
    "    wav = OUT / f\"{base}.wav\"\n",
    "    if wav.is_file():\n",
    "        out = OUT / f\"{base}.txt\"\n",
    "        with open(out, \"w\") as outf, open(filename) as inf:\n",
    "            text = inf.read()\n",
    "            clean = clean_text(text)\n",
    "            outf.write(clean)"
   ]
  }
 ],
 "metadata": {
  "kernelspec": {
   "display_name": "Python 3",
   "language": "python",
   "name": "python3"
  },
  "language_info": {
   "codemirror_mode": {
    "name": "ipython",
    "version": 3
   },
   "file_extension": ".py",
   "mimetype": "text/x-python",
   "name": "python",
   "nbconvert_exporter": "python",
   "pygments_lexer": "ipython3",
   "version": "3.6.9"
  }
 },
 "nbformat": 4,
 "nbformat_minor": 2
}
