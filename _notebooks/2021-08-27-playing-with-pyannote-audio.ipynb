{
  "nbformat": 4,
  "nbformat_minor": 0,
  "metadata": {
    "colab": {
      "name": "2021-08-27-playing-with-pyannote-audio.ipynb",
      "provenance": [],
      "collapsed_sections": []
    },
    "kernelspec": {
      "name": "python3",
      "display_name": "Python 3"
    },
    "accelerator": "GPU"
  },
  "cells": [
    {
      "cell_type": "markdown",
      "metadata": {
        "id": "4DflQo-SRpJc"
      },
      "source": [
        "# Playing with pyannote.audio\n",
        "\n",
        "> \"Doesn't detect music\"\n",
        "\n",
        "- toc: false\n",
        "- branch: master\n",
        "- hidden: true\n",
        "- categories: [diarisation, pyannote]"
      ]
    },
    {
      "cell_type": "markdown",
      "metadata": {
        "id": "lM9aLLz9oTBz"
      },
      "source": [
        "Only the `dia` pipeline seems to work."
      ]
    },
    {
      "cell_type": "code",
      "metadata": {
        "id": "vJGyKTQJqdzq"
      },
      "source": [
        "%%capture\n",
        "!pip install -q pyannote.audio==1.1"
      ],
      "execution_count": null,
      "outputs": []
    },
    {
      "cell_type": "code",
      "metadata": {
        "id": "f5u8wRm3GYFr"
      },
      "source": [
        "%%capture\n",
        "!wget https://podcast.rasset.ie/podcasts/audio/2021/0626/20210626_rteraidion-bailiuchanbhairbre-bailichnbh_c21974765_21975131_232_.mp3"
      ],
      "execution_count": null,
      "outputs": []
    },
    {
      "cell_type": "code",
      "metadata": {
        "id": "_1FfyTTCePSR"
      },
      "source": [
        "%%capture\n",
        "!ffmpeg -i /content/20210626_rteraidion-bailiuchanbhairbre-bailichnbh_c21974765_21975131_232_.mp3 -acodec pcm_s16le -ac 1 -ar 16000 /content/20210626_rteraidion-bailiuchanbhairbre-bailichnbh_c21974765_21975131_232_.wav"
      ],
      "execution_count": null,
      "outputs": []
    },
    {
      "cell_type": "code",
      "metadata": {
        "id": "go1wJBYJnsIx"
      },
      "source": [
        "import torch\n",
        "pipeline = torch.hub.load('pyannote/pyannote-audio', 'dia')\n",
        "diarization = pipeline({'audio': '/content/20210626_rteraidion-bailiuchanbhairbre-bailichnbh_c21974765_21975131_232_.wav'})"
      ],
      "execution_count": null,
      "outputs": []
    },
    {
      "cell_type": "code",
      "metadata": {
        "id": "FKEnEtrOoIAk",
        "colab": {
          "base_uri": "https://localhost:8080/",
          "height": 151
        },
        "outputId": "2aea3b88-bf6c-4027-9577-569dccadf7b8"
      },
      "source": [
        "diarization"
      ],
      "execution_count": null,
      "outputs": [
        {
          "output_type": "execute_result",
          "data": {
            "image/png": "[encoded data removed]",
            "text/plain": [
              "<pyannote.core.annotation.Annotation at 0x7fd13676a050>"
            ]
          },
          "metadata": {},
          "execution_count": 10
        }
      ]
    },
    {
      "cell_type": "code",
      "metadata": {
        "id": "BUaMy5rTfgoI"
      },
      "source": [
        "with open('/content/20210626_rteraidion-bailiuchanbhairbre-bailichnbh_c21974765_21975131_232_.rttm', 'w') as f:\n",
        "    diarization.write_rttm(f)"
      ],
      "execution_count": null,
      "outputs": []
    },
    {
      "cell_type": "code",
      "metadata": {
        "id": "0fRdVs_Ah7a1"
      },
      "source": [
        "%%capture\n",
        "!pip install youtube-dl"
      ],
      "execution_count": null,
      "outputs": []
    },
    {
      "cell_type": "code",
      "metadata": {
        "id": "SJxeGcnYiGBi"
      },
      "source": [
        "%%capture\n",
        "!youtube-dl f3wKxcP7hYE"
      ],
      "execution_count": null,
      "outputs": []
    },
    {
      "cell_type": "code",
      "metadata": {
        "id": "gdDFEKkCicq2"
      },
      "source": [
        "%%capture\n",
        "!ffmpeg -i 'Sraith 2 Eip 1-f3wKxcP7hYE.mp4' -acodec pcm_s16le -ac 1 -ar 16000 f3wKxcP7hYE.wav"
      ],
      "execution_count": null,
      "outputs": []
    },
    {
      "cell_type": "code",
      "metadata": {
        "id": "2GJ4DOQ2ipUA"
      },
      "source": [
        "diarization2 = pipeline({'audio': '/content/f3wKxcP7hYE.wav'})"
      ],
      "execution_count": null,
      "outputs": []
    },
    {
      "cell_type": "code",
      "metadata": {
        "colab": {
          "base_uri": "https://localhost:8080/",
          "height": 163
        },
        "id": "s9HyY25TjJOI",
        "outputId": "01cb0c1f-2113-4122-e447-c5eab89e7e09"
      },
      "source": [
        "diarization2"
      ],
      "execution_count": null,
      "outputs": [
        {
          "output_type": "execute_result",
          "data": {
            "image/png": "[encoded data removed]",
            "text/plain": [
              "<pyannote.core.annotation.Annotation at 0x7fd0cc29a150>"
            ]
          },
          "metadata": {},
          "execution_count": 16
        }
      ]
    },
    {
      "cell_type": "markdown",
      "metadata": {
        "id": "vejUqOqYnTqY"
      },
      "source": [
        "No good; first 8 seconds are silence (ok), next 30 are theme music (not ok)."
      ]
    },
    {
      "cell_type": "code",
      "metadata": {
        "id": "-oVgk33bjZ02"
      },
      "source": [
        "with open('/content/f3wKxcP7hYE.rttm', 'w') as f2:\n",
        "    diarization2.write_rttm(f2)"
      ],
      "execution_count": null,
      "outputs": []
    }
  ]
}