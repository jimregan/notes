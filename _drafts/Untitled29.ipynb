{
  "nbformat": 4,
  "nbformat_minor": 0,
  "metadata": {
    "colab": {
      "provenance": []
    },
    "kernelspec": {
      "name": "python3",
      "display_name": "Python 3"
    },
    "language_info": {
      "name": "python"
    }
  },
  "cells": [
    {
      "cell_type": "code",
      "execution_count": 1,
      "metadata": {
        "id": "V6OzMM8h_1oF"
      },
      "outputs": [],
      "source": [
        "from dataclasses import dataclass"
      ]
    },
    {
      "cell_type": "code",
      "source": [
        "@dataclass\n",
        "class TimedElement():\n",
        "    start_time: int\n",
        "    end_time: int\n",
        "    text: str\n",
        "\n",
        "class CTMLine(TimedElement):\n",
        "    pass\n",
        "\n",
        "class RDAPI(TimedElement):\n",
        "    pass"
      ],
      "metadata": {
        "id": "HWUYXdv7_-Qd"
      },
      "execution_count": 2,
      "outputs": []
    },
    {
      "cell_type": "code",
      "source": [
        "aa = [\n",
        "    CTMLine(0, 5, \"foo\"),\n",
        "    CTMLine(5, 10, \"foo\"),\n",
        "    CTMLine(10, 15, \"foo\"),\n",
        "    CTMLine(21, 25, \"foo\"),\n",
        "    CTMLine(30, 35, \"foo\"),\n",
        "    CTMLine(41, 45, \"foo\"),\n",
        "    CTMLine(50, 55, \"foo\"),\n",
        "    CTMLine(50, 65, \"foo\"),\n",
        "]"
      ],
      "metadata": {
        "id": "2mzA_doBAQ_v"
      },
      "execution_count": 13,
      "outputs": []
    },
    {
      "cell_type": "code",
      "source": [
        "ab = [\n",
        "    RDAPI(20, 35, \"blah\"),\n",
        "    RDAPI(40, 55, \"blah\"),\n",
        "]"
      ],
      "metadata": {
        "id": "jYWgn5D1AiWS"
      },
      "execution_count": 4,
      "outputs": []
    },
    {
      "cell_type": "code",
      "source": [
        "from typing import List\n",
        "\n",
        "@dataclass\n",
        "class FilteredPair():\n",
        "    ctmlines: List[CTMLine]\n",
        "    riksdag_segments: List[RDAPI]\n",
        "    speaker_name: str = \"\""
      ],
      "metadata": {
        "id": "1hYYEASACsdS"
      },
      "execution_count": 16,
      "outputs": []
    },
    {
      "cell_type": "code",
      "source": [
        "from copy import deepcopy"
      ],
      "metadata": {
        "id": "t1sGVnaPBOsS"
      },
      "execution_count": 5,
      "outputs": []
    },
    {
      "cell_type": "code",
      "source": [
        "within = False\n",
        "start = True\n",
        "\n",
        "last_i = i = last_j = j = 0\n",
        "pairs = []\n",
        "\n",
        "\n",
        "while i < len(aa) - 1:\n",
        "    while j < len(ab) - 1:\n",
        "        if start or not within:\n",
        "            sought = ab[j].start_time\n",
        "        else:\n",
        "            sought = ab[j].end_time\n",
        "        if ab[i].end_time < sought:\n",
        "            i += 1\n",
        "        else:\n",
        "            if within:\n",
        "                rd = ab[j]\n",
        "                spkr = ab[j].text\n",
        "            else:\n",
        "                rd = None\n",
        "                spkr = \"\"\n",
        "            pairs.append(FilteredPair(deepcopy(aa[last_i:i]), rd, spkr))\n",
        "            i += 1\n",
        "            last_i = i\n",
        "            \n"
      ],
      "metadata": {
        "colab": {
          "base_uri": "https://localhost:8080/",
          "height": 240
        },
        "id": "tKkY2qTVAqcx",
        "outputId": "c0668449-48f7-4f08-8f96-3656217ede30"
      },
      "execution_count": 20,
      "outputs": [
        {
          "output_type": "error",
          "ename": "IndexError",
          "evalue": "ignored",
          "traceback": [
            "\u001b[0;31m---------------------------------------------------------------------------\u001b[0m",
            "\u001b[0;31mIndexError\u001b[0m                                Traceback (most recent call last)",
            "\u001b[0;32m<ipython-input-20-e8bb0705bcfd>\u001b[0m in \u001b[0;36m<module>\u001b[0;34m\u001b[0m\n\u001b[1;32m     12\u001b[0m         \u001b[0;32melse\u001b[0m\u001b[0;34m:\u001b[0m\u001b[0;34m\u001b[0m\u001b[0;34m\u001b[0m\u001b[0m\n\u001b[1;32m     13\u001b[0m             \u001b[0msought\u001b[0m \u001b[0;34m=\u001b[0m \u001b[0mab\u001b[0m\u001b[0;34m[\u001b[0m\u001b[0mj\u001b[0m\u001b[0;34m]\u001b[0m\u001b[0;34m.\u001b[0m\u001b[0mend_time\u001b[0m\u001b[0;34m\u001b[0m\u001b[0;34m\u001b[0m\u001b[0m\n\u001b[0;32m---> 14\u001b[0;31m         \u001b[0;32mif\u001b[0m \u001b[0mab\u001b[0m\u001b[0;34m[\u001b[0m\u001b[0mi\u001b[0m\u001b[0;34m]\u001b[0m\u001b[0;34m.\u001b[0m\u001b[0mend_time\u001b[0m \u001b[0;34m<\u001b[0m \u001b[0msought\u001b[0m\u001b[0;34m:\u001b[0m\u001b[0;34m\u001b[0m\u001b[0;34m\u001b[0m\u001b[0m\n\u001b[0m\u001b[1;32m     15\u001b[0m             \u001b[0mi\u001b[0m \u001b[0;34m+=\u001b[0m \u001b[0;36m1\u001b[0m\u001b[0;34m\u001b[0m\u001b[0;34m\u001b[0m\u001b[0m\n\u001b[1;32m     16\u001b[0m         \u001b[0;32melse\u001b[0m\u001b[0;34m:\u001b[0m\u001b[0;34m\u001b[0m\u001b[0;34m\u001b[0m\u001b[0m\n",
            "\u001b[0;31mIndexError\u001b[0m: list index out of range"
          ]
        }
      ]
    },
    {
      "cell_type": "code",
      "source": [
        "pairs"
      ],
      "metadata": {
        "colab": {
          "base_uri": "https://localhost:8080/"
        },
        "id": "a3lJF08KGeyd",
        "outputId": "d5b29715-2af9-4aab-a93e-644592232223"
      },
      "execution_count": 21,
      "outputs": [
        {
          "output_type": "execute_result",
          "data": {
            "text/plain": [
              "[FilteredPair(ctmlines=[], riksdag_segments=None, speaker_name=''),\n",
              " FilteredPair(ctmlines=[], riksdag_segments=None, speaker_name='')]"
            ]
          },
          "metadata": {},
          "execution_count": 21
        }
      ]
    }
  ]
}