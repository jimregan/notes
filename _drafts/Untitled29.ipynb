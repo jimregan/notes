{
  "nbformat": 4,
  "nbformat_minor": 0,
  "metadata": {
    "colab": {
      "provenance": []
    },
    "kernelspec": {
      "name": "python3",
      "display_name": "Python 3"
    },
    "language_info": {
      "name": "python"
    }
  },
  "cells": [
    {
      "cell_type": "code",
      "execution_count": 1,
      "metadata": {
        "id": "V6OzMM8h_1oF"
      },
      "outputs": [],
      "source": [
        "from dataclasses import dataclass"
      ]
    },
    {
      "cell_type": "code",
      "source": [
        "@dataclass\n",
        "class TimedElement():\n",
        "    start_time: int\n",
        "    end_time: int\n",
        "    text: str\n",
        "\n",
        "class CTMLine(TimedElement):\n",
        "    pass\n",
        "\n",
        "class RDAPI(TimedElement):\n",
        "    pass"
      ],
      "metadata": {
        "id": "HWUYXdv7_-Qd"
      },
      "execution_count": 2,
      "outputs": []
    },
    {
      "cell_type": "code",
      "source": [
        "ctmlines = [\n",
        "    CTMLine(0, 5, \"foo\"),\n",
        "    CTMLine(5, 10, \"foo\"),\n",
        "    CTMLine(10, 15, \"foo\"),\n",
        "    CTMLine(21, 25, \"foo\"),\n",
        "    CTMLine(30, 35, \"foo\"),\n",
        "    CTMLine(41, 45, \"foo\"),\n",
        "    CTMLine(50, 55, \"foo\"),\n",
        "    CTMLine(60, 65, \"foo\"),\n",
        "    CTMLine(70, 75, \"foo\"),\n",
        "    CTMLine(80, 85, \"foo\"),\n",
        "    CTMLine(90, 95, \"foo\"),\n",
        "]"
      ],
      "metadata": {
        "id": "2mzA_doBAQ_v"
      },
      "execution_count": 13,
      "outputs": []
    },
    {
      "cell_type": "code",
      "source": [
        "riksdag_output = [\n",
        "    RDAPI(20, 35, \"blah\"),\n",
        "    RDAPI(40, 55, \"blah\"),\n",
        "    RDAPI(60, 75, \"blah\"),\n",
        "]"
      ],
      "metadata": {
        "id": "jYWgn5D1AiWS"
      },
      "execution_count": 14,
      "outputs": []
    },
    {
      "cell_type": "code",
      "source": [
        "from typing import List\n",
        "\n",
        "@dataclass\n",
        "class FilteredPair():\n",
        "    ctmlines: List[CTMLine]\n",
        "    riksdag_segments: List[RDAPI]\n",
        "    speaker_name: str = \"\""
      ],
      "metadata": {
        "id": "1hYYEASACsdS"
      },
      "execution_count": 5,
      "outputs": []
    },
    {
      "cell_type": "code",
      "source": [
        "from copy import deepcopy"
      ],
      "metadata": {
        "id": "t1sGVnaPBOsS"
      },
      "execution_count": 6,
      "outputs": []
    },
    {
      "cell_type": "code",
      "source": [
        "within = False\n",
        "start = True\n",
        "\n",
        "last_i = i = j = 0\n",
        "pairs = []\n",
        "\n",
        "\n",
        "while (i < len(ctmlines) - 1) and (j < len(riksdag_output) - 1):\n",
        "    if (start or not within) and ctmlines[i].end_time < riksdag_output[j].start_time:\n",
        "        i += 1\n",
        "    elif within and ctmlines[i].end_time <= riksdag_output[j].end_time:\n",
        "        i += 1\n",
        "    else:\n",
        "        if within:\n",
        "            rd = riksdag_output[j]\n",
        "            spkr = riksdag_output[j].text\n",
        "            within = False\n",
        "            j += 1\n",
        "        else:\n",
        "            if start:\n",
        "                start = False\n",
        "            rd = None\n",
        "            spkr = \"\"\n",
        "            within = True\n",
        "        pairs.append(FilteredPair(deepcopy(ctmlines[last_i:i]), rd, spkr))\n",
        "        last_i = i\n",
        "        i += 1\n",
        "if i < len(ctmlines):\n",
        "    pairs.append(FilteredPair(deepcopy(ctmlines[last_i:-1]), None, \"\"))\n"
      ],
      "metadata": {
        "id": "tKkY2qTVAqcx"
      },
      "execution_count": 17,
      "outputs": []
    },
    {
      "cell_type": "code",
      "source": [
        "for pair in pairs:\n",
        "    print(pair)"
      ],
      "metadata": {
        "colab": {
          "base_uri": "https://localhost:8080/"
        },
        "id": "a3lJF08KGeyd",
        "outputId": "fb4b61cc-61d0-45f1-80a6-c53937df17b1"
      },
      "execution_count": 18,
      "outputs": [
        {
          "output_type": "stream",
          "name": "stdout",
          "text": [
            "FilteredPair(ctmlines=[CTMLine(start_time=0, end_time=5, text='foo'), CTMLine(start_time=5, end_time=10, text='foo'), CTMLine(start_time=10, end_time=15, text='foo')], riksdag_segments=None, speaker_name='')\n",
            "FilteredPair(ctmlines=[CTMLine(start_time=21, end_time=25, text='foo'), CTMLine(start_time=30, end_time=35, text='foo')], riksdag_segments=RDAPI(start_time=20, end_time=35, text='blah'), speaker_name='blah')\n",
            "FilteredPair(ctmlines=[CTMLine(start_time=41, end_time=45, text='foo')], riksdag_segments=None, speaker_name='')\n",
            "FilteredPair(ctmlines=[CTMLine(start_time=50, end_time=55, text='foo')], riksdag_segments=RDAPI(start_time=40, end_time=55, text='blah'), speaker_name='blah')\n",
            "FilteredPair(ctmlines=[CTMLine(start_time=60, end_time=65, text='foo'), CTMLine(start_time=70, end_time=75, text='foo'), CTMLine(start_time=80, end_time=85, text='foo')], riksdag_segments=None, speaker_name='')\n"
          ]
        }
      ]
    }
  ]
}