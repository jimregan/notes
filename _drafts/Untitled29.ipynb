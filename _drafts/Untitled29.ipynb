{
  "nbformat": 4,
  "nbformat_minor": 0,
  "metadata": {
    "colab": {
      "provenance": []
    },
    "kernelspec": {
      "name": "python3",
      "display_name": "Python 3"
    },
    "language_info": {
      "name": "python"
    }
  },
  "cells": [
    {
      "cell_type": "code",
      "execution_count": 1,
      "metadata": {
        "colab": {
          "base_uri": "https://localhost:8080/"
        },
        "id": "SMC4chZiIzmt",
        "outputId": "5ef4c871-0345-4af5-bf94-6bbb740b621d"
      },
      "outputs": [
        {
          "output_type": "stream",
          "name": "stdout",
          "text": [
            "Looking in indexes: https://pypi.org/simple, https://us-python.pkg.dev/colab-wheels/public/simple/\n",
            "Collecting youtube-dl\n",
            "  Downloading youtube_dl-2021.12.17-py2.py3-none-any.whl (1.9 MB)\n",
            "\u001b[K     |████████████████████████████████| 1.9 MB 13.6 MB/s \n",
            "\u001b[?25hInstalling collected packages: youtube-dl\n",
            "Successfully installed youtube-dl-2021.12.17\n"
          ]
        }
      ],
      "source": [
        "!pip install youtube-dl"
      ]
    },
    {
      "cell_type": "code",
      "source": [
        "URL = \"https://www.youtube.com/watch?v=j8AH29Ad-zU\""
      ],
      "metadata": {
        "id": "VakKv8CrI5Jz"
      },
      "execution_count": 2,
      "outputs": []
    },
    {
      "cell_type": "code",
      "source": [
        "import youtube_dl"
      ],
      "metadata": {
        "id": "Cyh_DmX_JmoN"
      },
      "execution_count": 5,
      "outputs": []
    },
    {
      "cell_type": "code",
      "source": [
        "_OUTTMPL = '%(id)s.%(ext)s'\n",
        "_YDL_OPTS = {\n",
        "    \"writesubtitles\": True,\n",
        "    \"subtitlesformat\": \"vtt\",\n",
        "    \"outtmpl\": _OUTTMPL,\n",
        "}"
      ],
      "metadata": {
        "id": "aBUQqNV2JACe"
      },
      "execution_count": 4,
      "outputs": []
    },
    {
      "cell_type": "code",
      "source": [
        "ydl = youtube_dl.YoutubeDL(_YDL_OPTS)\n",
        "ydl.download([URL])"
      ],
      "metadata": {
        "colab": {
          "base_uri": "https://localhost:8080/"
        },
        "id": "Ye-d12MHJkik",
        "outputId": "5966087a-da9b-40c9-c0a8-90ef62e8ec94"
      },
      "execution_count": null,
      "outputs": [
        {
          "output_type": "stream",
          "name": "stdout",
          "text": [
            "[youtube] j8AH29Ad-zU: Downloading webpage\n",
            "[youtube] j8AH29Ad-zU: Downloading MPD manifest\n",
            "[info] Writing video subtitles to: Spela in och redigera i Audacity-j8AH29Ad-zU.sv.vtt\n",
            "[download] Spela in och redigera i Audacity-j8AH29Ad-zU.f137.mp4 has already been downloaded\n",
            "[download] 100% of 74.63MiB\n",
            "[download] Resuming download at byte 9128008\n",
            "[download] Destination: Spela in och redigera i Audacity-j8AH29Ad-zU.f140.m4a\n",
            "[download]  93.6% of 16.48MiB at 63.08KiB/s ETA 00:16"
          ]
        }
      ]
    }
  ]
}