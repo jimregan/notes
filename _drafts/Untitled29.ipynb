{
  "nbformat": 4,
  "nbformat_minor": 0,
  "metadata": {
    "colab": {
      "provenance": []
    },
    "kernelspec": {
      "name": "python3",
      "display_name": "Python 3"
    },
    "language_info": {
      "name": "python"
    }
  },
  "cells": [
    {
      "cell_type": "code",
      "execution_count": 1,
      "metadata": {
        "id": "V6OzMM8h_1oF"
      },
      "outputs": [],
      "source": [
        "from dataclasses import dataclass"
      ]
    },
    {
      "cell_type": "code",
      "source": [
        "@dataclass\n",
        "class TimedElement():\n",
        "    start_time: int\n",
        "    end_time: int\n",
        "    text: str\n",
        "\n",
        "class CTMLine(TimedElement):\n",
        "    pass\n",
        "\n",
        "class RDAPI(TimedElement):\n",
        "    pass"
      ],
      "metadata": {
        "id": "HWUYXdv7_-Qd"
      },
      "execution_count": 2,
      "outputs": []
    },
    {
      "cell_type": "code",
      "source": [
        "aa = [\n",
        "    CTMLine(0, 5, \"foo\"),\n",
        "    CTMLine(5, 10, \"foo\"),\n",
        "    CTMLine(10, 15, \"foo\"),\n",
        "    CTMLine(21, 25, \"foo\"),\n",
        "    CTMLine(30, 35, \"foo\"),\n",
        "    CTMLine(41, 45, \"foo\"),\n",
        "    CTMLine(50, 55, \"foo\"),\n",
        "    CTMLine(60, 65, \"foo\"),\n",
        "]"
      ],
      "metadata": {
        "id": "2mzA_doBAQ_v"
      },
      "execution_count": 39,
      "outputs": []
    },
    {
      "cell_type": "code",
      "source": [
        "ab = [\n",
        "    RDAPI(20, 35, \"blah\"),\n",
        "    RDAPI(40, 55, \"blah\"),\n",
        "]"
      ],
      "metadata": {
        "id": "jYWgn5D1AiWS"
      },
      "execution_count": 4,
      "outputs": []
    },
    {
      "cell_type": "code",
      "source": [
        "from typing import List\n",
        "\n",
        "@dataclass\n",
        "class FilteredPair():\n",
        "    ctmlines: List[CTMLine]\n",
        "    riksdag_segments: List[RDAPI]\n",
        "    speaker_name: str = \"\""
      ],
      "metadata": {
        "id": "1hYYEASACsdS"
      },
      "execution_count": 16,
      "outputs": []
    },
    {
      "cell_type": "code",
      "source": [
        "from copy import deepcopy"
      ],
      "metadata": {
        "id": "t1sGVnaPBOsS"
      },
      "execution_count": 5,
      "outputs": []
    },
    {
      "cell_type": "code",
      "source": [
        "within = False\n",
        "start = True\n",
        "\n",
        "last_i = i = last_j = j = 0\n",
        "pairs = []\n",
        "\n",
        "\n",
        "while j < len(ab) - 1:\n",
        "    if start or not within:\n",
        "        sought = ab[j].start_time\n",
        "    else:\n",
        "        sought = ab[j].end_time\n",
        "    while i < len(aa) - 1:\n",
        "        if aa[i].end_time < sought:\n",
        "            i += 1\n",
        "        else:\n",
        "            if start:\n",
        "                start = False\n",
        "            if within:\n",
        "                rd = ab[j]\n",
        "                spkr = ab[j].text\n",
        "                within = False\n",
        "            else:\n",
        "                rd = None\n",
        "                spkr = \"\"\n",
        "                within = True\n",
        "            pairs.append(FilteredPair(deepcopy(aa[last_i:i]), rd, spkr))\n",
        "            last_i = i\n",
        "            i += 1\n",
        "            j += 1\n",
        "            \n"
      ],
      "metadata": {
        "colab": {
          "base_uri": "https://localhost:8080/",
          "height": 240
        },
        "id": "tKkY2qTVAqcx",
        "outputId": "2c7e402d-024d-4d18-f13b-4760e913f194"
      },
      "execution_count": 49,
      "outputs": [
        {
          "output_type": "error",
          "ename": "IndexError",
          "evalue": "ignored",
          "traceback": [
            "\u001b[0;31m---------------------------------------------------------------------------\u001b[0m",
            "\u001b[0;31mIndexError\u001b[0m                                Traceback (most recent call last)",
            "\u001b[0;32m<ipython-input-49-26967690b3dc>\u001b[0m in \u001b[0;36m<module>\u001b[0;34m\u001b[0m\n\u001b[1;32m     18\u001b[0m                 \u001b[0mstart\u001b[0m \u001b[0;34m=\u001b[0m \u001b[0;32mFalse\u001b[0m\u001b[0;34m\u001b[0m\u001b[0;34m\u001b[0m\u001b[0m\n\u001b[1;32m     19\u001b[0m             \u001b[0;32mif\u001b[0m \u001b[0mwithin\u001b[0m\u001b[0;34m:\u001b[0m\u001b[0;34m\u001b[0m\u001b[0;34m\u001b[0m\u001b[0m\n\u001b[0;32m---> 20\u001b[0;31m                 \u001b[0mrd\u001b[0m \u001b[0;34m=\u001b[0m \u001b[0mab\u001b[0m\u001b[0;34m[\u001b[0m\u001b[0mj\u001b[0m\u001b[0;34m]\u001b[0m\u001b[0;34m\u001b[0m\u001b[0;34m\u001b[0m\u001b[0m\n\u001b[0m\u001b[1;32m     21\u001b[0m                 \u001b[0mspkr\u001b[0m \u001b[0;34m=\u001b[0m \u001b[0mab\u001b[0m\u001b[0;34m[\u001b[0m\u001b[0mj\u001b[0m\u001b[0;34m]\u001b[0m\u001b[0;34m.\u001b[0m\u001b[0mtext\u001b[0m\u001b[0;34m\u001b[0m\u001b[0;34m\u001b[0m\u001b[0m\n\u001b[1;32m     22\u001b[0m                 \u001b[0mwithin\u001b[0m \u001b[0;34m=\u001b[0m \u001b[0;32mFalse\u001b[0m\u001b[0;34m\u001b[0m\u001b[0;34m\u001b[0m\u001b[0m\n",
            "\u001b[0;31mIndexError\u001b[0m: list index out of range"
          ]
        }
      ]
    },
    {
      "cell_type": "code",
      "source": [
        "for pair in pairs:\n",
        "    print(pair)"
      ],
      "metadata": {
        "colab": {
          "base_uri": "https://localhost:8080/"
        },
        "id": "a3lJF08KGeyd",
        "outputId": "87d962d1-efd7-4c19-ef61-cee347518a28"
      },
      "execution_count": 50,
      "outputs": [
        {
          "output_type": "stream",
          "name": "stdout",
          "text": [
            "FilteredPair(ctmlines=[CTMLine(start_time=0, end_time=5, text='foo'), CTMLine(start_time=5, end_time=10, text='foo'), CTMLine(start_time=10, end_time=15, text='foo')], riksdag_segments=None, speaker_name='')\n",
            "FilteredPair(ctmlines=[CTMLine(start_time=21, end_time=25, text='foo')], riksdag_segments=RDAPI(start_time=40, end_time=55, text='blah'), speaker_name='blah')\n",
            "FilteredPair(ctmlines=[CTMLine(start_time=30, end_time=35, text='foo')], riksdag_segments=None, speaker_name='')\n"
          ]
        }
      ]
    }
  ]
}