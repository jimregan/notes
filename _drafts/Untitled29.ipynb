{
  "nbformat": 4,
  "nbformat_minor": 0,
  "metadata": {
    "colab": {
      "provenance": []
    },
    "kernelspec": {
      "name": "python3",
      "display_name": "Python 3"
    },
    "language_info": {
      "name": "python"
    }
  },
  "cells": [
    {
      "cell_type": "code",
      "execution_count": 1,
      "metadata": {
        "id": "V6OzMM8h_1oF"
      },
      "outputs": [],
      "source": [
        "from dataclasses import dataclass"
      ]
    },
    {
      "cell_type": "code",
      "source": [
        "@dataclass\n",
        "class TimedElement():\n",
        "    start_time: int\n",
        "    end_time: int\n",
        "    text: str\n",
        "\n",
        "class CTMLine(TimedElement):\n",
        "    pass\n",
        "\n",
        "class RDAPI(TimedElement):\n",
        "    pass"
      ],
      "metadata": {
        "id": "HWUYXdv7_-Qd"
      },
      "execution_count": 2,
      "outputs": []
    },
    {
      "cell_type": "code",
      "source": [
        "ctmlines = [\n",
        "    CTMLine(0, 5, \"foo\"),\n",
        "    CTMLine(5, 10, \"foo\"),\n",
        "    CTMLine(10, 15, \"foo\"),\n",
        "    CTMLine(21, 25, \"foo\"),\n",
        "    CTMLine(30, 35, \"foo\"),\n",
        "    CTMLine(37, 39, \"foo\"),\n",
        "    CTMLine(41, 45, \"foo\"),\n",
        "    CTMLine(50, 55, \"foo\"),\n",
        "    CTMLine(61, 63, \"foo\"),\n",
        "    CTMLine(60, 65, \"foo\"),\n",
        "    CTMLine(70, 75, \"foo\"),\n",
        "    CTMLine(80, 85, \"foo\"),\n",
        "    CTMLine(90, 95, \"foo\"),\n",
        "]"
      ],
      "metadata": {
        "id": "2mzA_doBAQ_v"
      },
      "execution_count": 30,
      "outputs": []
    },
    {
      "cell_type": "code",
      "source": [
        "riksdag_output = [\n",
        "    RDAPI(20, 35, \"blah\"),\n",
        "    RDAPI(40, 55, \"blah\"),\n",
        "    RDAPI(60, 75, \"blah\"),\n",
        "]"
      ],
      "metadata": {
        "id": "jYWgn5D1AiWS"
      },
      "execution_count": 31,
      "outputs": []
    },
    {
      "cell_type": "code",
      "source": [
        "from typing import List\n",
        "\n",
        "@dataclass\n",
        "class FilteredPair():\n",
        "    ctmlines: List[CTMLine]\n",
        "    riksdag_segments: List[RDAPI]\n",
        "    speaker_name: str = \"\""
      ],
      "metadata": {
        "id": "1hYYEASACsdS"
      },
      "execution_count": 5,
      "outputs": []
    },
    {
      "cell_type": "code",
      "source": [
        "from copy import deepcopy"
      ],
      "metadata": {
        "id": "t1sGVnaPBOsS"
      },
      "execution_count": 6,
      "outputs": []
    },
    {
      "cell_type": "code",
      "source": [
        "within = False\n",
        "start = True\n",
        "\n",
        "last_i = i = j = 0\n",
        "pairs = []\n",
        "\n",
        "\n",
        "while (i < len(ctmlines) - 1) and (j < len(riksdag_output)):\n",
        "    if (start or not within) and ctmlines[i].end_time < riksdag_output[j].start_time:\n",
        "        print(\"a\", i, last_i, j)\n",
        "        i += 1\n",
        "    elif within and ctmlines[i].end_time <= riksdag_output[j].end_time:\n",
        "        print(\"b\", i, last_i, j)\n",
        "        i += 1\n",
        "    else:\n",
        "        if within:\n",
        "            rd = riksdag_output[j]\n",
        "            spkr = riksdag_output[j].text\n",
        "            within = False\n",
        "            j += 1\n",
        "            print(\"c\", i, last_i, j)\n",
        "        else:\n",
        "            if start:\n",
        "                start = False\n",
        "            rd = None\n",
        "            spkr = \"\"\n",
        "            # check if we're not going straight into another within\n",
        "            within = True\n",
        "            print(\"d\", i, last_i, j)\n",
        "        pairs.append(FilteredPair(deepcopy(ctmlines[last_i:i]), rd, spkr))\n",
        "        last_i = i\n",
        "        i += 1\n",
        "if i < len(ctmlines):\n",
        "    pairs.append(FilteredPair(deepcopy(ctmlines[last_i:-1]), None, \"\"))\n"
      ],
      "metadata": {
        "id": "tKkY2qTVAqcx",
        "colab": {
          "base_uri": "https://localhost:8080/"
        },
        "outputId": "bbba414d-c798-4ffd-f898-d184c5fe6778"
      },
      "execution_count": 32,
      "outputs": [
        {
          "output_type": "stream",
          "name": "stdout",
          "text": [
            "a 0 0 0\n",
            "a 1 0 0\n",
            "a 2 0 0\n",
            "d 3 0 0\n",
            "b 4 3 0\n",
            "c 5 3 1\n",
            "d 6 5 1\n",
            "b 7 6 1\n",
            "c 8 6 2\n",
            "d 9 8 2\n",
            "b 10 9 2\n",
            "c 11 9 3\n"
          ]
        }
      ]
    },
    {
      "cell_type": "code",
      "source": [
        "for pair in pairs:\n",
        "    start_a = pair.ctmlines[0].start_time\n",
        "    end_a = pair.ctmlines[-1].end_time\n",
        "    start_b = pair.riksdag_segments.start_time if pair.riksdag_segments is not None else None\n",
        "    end_b = pair.riksdag_segments.end_time if pair.riksdag_segments is not None else None\n",
        "    print(start_a, end_a, start_b, end_b)"
      ],
      "metadata": {
        "colab": {
          "base_uri": "https://localhost:8080/"
        },
        "id": "a3lJF08KGeyd",
        "outputId": "726ec9e0-5893-4a71-82ce-09fd013a0756"
      },
      "execution_count": 33,
      "outputs": [
        {
          "output_type": "stream",
          "name": "stdout",
          "text": [
            "0 15 None None\n",
            "21 35 20 35\n",
            "37 39 None None\n",
            "41 55 40 55\n",
            "61 63 None None\n",
            "60 75 60 75\n",
            "80 85 None None\n"
          ]
        }
      ]
    }
  ]
}