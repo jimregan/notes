{
  "nbformat": 4,
  "nbformat_minor": 0,
  "metadata": {
    "colab": {
      "provenance": []
    },
    "kernelspec": {
      "name": "python3",
      "display_name": "Python 3"
    },
    "language_info": {
      "name": "python"
    }
  },
  "cells": [
    {
      "cell_type": "code",
      "execution_count": 1,
      "metadata": {
        "id": "V6OzMM8h_1oF"
      },
      "outputs": [],
      "source": [
        "from dataclasses import dataclass"
      ]
    },
    {
      "cell_type": "code",
      "source": [
        "@dataclass\n",
        "class TimedElement():\n",
        "    start_time: int\n",
        "    end_time: int\n",
        "    text: str\n",
        "\n",
        "class CTMLine(TimedElement):\n",
        "    pass\n",
        "\n",
        "class RDAPI(TimedElement):\n",
        "    pass"
      ],
      "metadata": {
        "id": "HWUYXdv7_-Qd"
      },
      "execution_count": 2,
      "outputs": []
    },
    {
      "cell_type": "code",
      "source": [
        "aa = [\n",
        "    CTMLine(0, 5, \"foo\"),\n",
        "    CTMLine(5, 10, \"foo\"),\n",
        "    CTMLine(10, 15, \"foo\"),\n",
        "    CTMLine(21, 25, \"foo\"),\n",
        "    CTMLine(30, 35, \"foo\"),\n",
        "    CTMLine(41, 45, \"foo\"),\n",
        "    CTMLine(50, 55, \"foo\"),\n",
        "    CTMLine(50, 65, \"foo\"),\n",
        "]"
      ],
      "metadata": {
        "id": "2mzA_doBAQ_v"
      },
      "execution_count": 13,
      "outputs": []
    },
    {
      "cell_type": "code",
      "source": [
        "ab = [\n",
        "    RDAPI(20, 35, \"blah\"),\n",
        "    RDAPI(40, 55, \"blah\"),\n",
        "]"
      ],
      "metadata": {
        "id": "jYWgn5D1AiWS"
      },
      "execution_count": 4,
      "outputs": []
    },
    {
      "cell_type": "code",
      "source": [
        "from typing import List\n",
        "\n",
        "@dataclass\n",
        "class FilteredPair():\n",
        "    ctmlines: List[CTMLine]\n",
        "    riksdag_segments: List[RDAPI]\n",
        "    speaker_name: str = \"\""
      ],
      "metadata": {
        "id": "1hYYEASACsdS"
      },
      "execution_count": 16,
      "outputs": []
    },
    {
      "cell_type": "code",
      "source": [
        "from copy import deepcopy"
      ],
      "metadata": {
        "id": "t1sGVnaPBOsS"
      },
      "execution_count": 5,
      "outputs": []
    },
    {
      "cell_type": "code",
      "source": [
        "within = False\n",
        "start = True\n",
        "\n",
        "last_i = i = last_j = j = 0\n",
        "pairs = []\n",
        "\n",
        "\n",
        "while i < len(aa) - 1:\n",
        "    while j < len(ab) - 1:\n",
        "        if start or not within:\n",
        "            sought = ab[j].start_time\n",
        "        else:\n",
        "            sought = ab[j].end_time\n",
        "        if aa[i].end_time < sought:\n",
        "            i += 1\n",
        "        else:\n",
        "            if within:\n",
        "                rd = ab[j]\n",
        "                spkr = ab[j].text\n",
        "            else:\n",
        "                rd = None\n",
        "                spkr = \"\"\n",
        "            pairs.append(FilteredPair(deepcopy(aa[last_i:i]), rd, spkr))\n",
        "            i += 1\n",
        "            last_i = i\n",
        "            j += 1\n",
        "            \n"
      ],
      "metadata": {
        "colab": {
          "base_uri": "https://localhost:8080/",
          "height": 240
        },
        "id": "tKkY2qTVAqcx",
        "outputId": "dfc0c065-fd44-4f8b-a280-51f24618d690"
      },
      "execution_count": 24,
      "outputs": [
        {
          "output_type": "error",
          "ename": "KeyboardInterrupt",
          "evalue": "ignored",
          "traceback": [
            "\u001b[0;31m---------------------------------------------------------------------------\u001b[0m",
            "\u001b[0;31mKeyboardInterrupt\u001b[0m                         Traceback (most recent call last)",
            "\u001b[0;32m<ipython-input-24-658e79c02a52>\u001b[0m in \u001b[0;36m<module>\u001b[0;34m\u001b[0m\n\u001b[1;32m      6\u001b[0m \u001b[0;34m\u001b[0m\u001b[0m\n\u001b[1;32m      7\u001b[0m \u001b[0;34m\u001b[0m\u001b[0m\n\u001b[0;32m----> 8\u001b[0;31m \u001b[0;32mwhile\u001b[0m \u001b[0mi\u001b[0m \u001b[0;34m<\u001b[0m \u001b[0mlen\u001b[0m\u001b[0;34m(\u001b[0m\u001b[0maa\u001b[0m\u001b[0;34m)\u001b[0m \u001b[0;34m-\u001b[0m \u001b[0;36m1\u001b[0m\u001b[0;34m:\u001b[0m\u001b[0;34m\u001b[0m\u001b[0;34m\u001b[0m\u001b[0m\n\u001b[0m\u001b[1;32m      9\u001b[0m     \u001b[0;32mwhile\u001b[0m \u001b[0mj\u001b[0m \u001b[0;34m<\u001b[0m \u001b[0mlen\u001b[0m\u001b[0;34m(\u001b[0m\u001b[0mab\u001b[0m\u001b[0;34m)\u001b[0m \u001b[0;34m-\u001b[0m \u001b[0;36m1\u001b[0m\u001b[0;34m:\u001b[0m\u001b[0;34m\u001b[0m\u001b[0;34m\u001b[0m\u001b[0m\n\u001b[1;32m     10\u001b[0m         \u001b[0;32mif\u001b[0m \u001b[0mstart\u001b[0m \u001b[0;32mor\u001b[0m \u001b[0;32mnot\u001b[0m \u001b[0mwithin\u001b[0m\u001b[0;34m:\u001b[0m\u001b[0;34m\u001b[0m\u001b[0;34m\u001b[0m\u001b[0m\n",
            "\u001b[0;31mKeyboardInterrupt\u001b[0m: "
          ]
        }
      ]
    },
    {
      "cell_type": "code",
      "source": [
        "pairs"
      ],
      "metadata": {
        "colab": {
          "base_uri": "https://localhost:8080/"
        },
        "id": "a3lJF08KGeyd",
        "outputId": "e41ae7a2-4c57-4ba3-ba7d-c89268b35c31"
      },
      "execution_count": 23,
      "outputs": [
        {
          "output_type": "execute_result",
          "data": {
            "text/plain": [
              "[FilteredPair(ctmlines=[CTMLine(start_time=0, end_time=5, text='foo'), CTMLine(start_time=5, end_time=10, text='foo'), CTMLine(start_time=10, end_time=15, text='foo')], riksdag_segments=None, speaker_name=''),\n",
              " FilteredPair(ctmlines=[], riksdag_segments=None, speaker_name=''),\n",
              " FilteredPair(ctmlines=[], riksdag_segments=None, speaker_name=''),\n",
              " FilteredPair(ctmlines=[], riksdag_segments=None, speaker_name=''),\n",
              " FilteredPair(ctmlines=[], riksdag_segments=None, speaker_name='')]"
            ]
          },
          "metadata": {},
          "execution_count": 23
        }
      ]
    }
  ]
}