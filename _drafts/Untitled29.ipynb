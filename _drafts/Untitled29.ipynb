{
  "nbformat": 4,
  "nbformat_minor": 0,
  "metadata": {
    "colab": {
      "provenance": []
    },
    "kernelspec": {
      "name": "python3",
      "display_name": "Python 3"
    },
    "language_info": {
      "name": "python"
    }
  },
  "cells": [
    {
      "cell_type": "code",
      "execution_count": 32,
      "metadata": {
        "id": "2QKrlw3eTffE"
      },
      "outputs": [],
      "source": [
        "from difflib import SequenceMatcher\n",
        "import copy"
      ]
    },
    {
      "cell_type": "code",
      "source": [
        "a = ['a', 'bad', 'time', 'today', 'etc']\n",
        "b = ['not', 'really', 'bad', 'time', 'now']"
      ],
      "metadata": {
        "id": "V4hjj9l5Tgkv"
      },
      "execution_count": 29,
      "outputs": []
    },
    {
      "cell_type": "code",
      "source": [
        "s = SequenceMatcher(None, a, b)"
      ],
      "metadata": {
        "id": "Pat3dlJvTkx-"
      },
      "execution_count": 30,
      "outputs": []
    },
    {
      "cell_type": "code",
      "source": [
        "def pad_replacements(a_in, b_in):\n",
        "    a = copy.deepcopy(a_in)\n",
        "    b = copy.deepcopy(b_in)\n",
        "    if len(a) > len(b):\n",
        "        diff = len(a) - len(b)\n",
        "        for i in range(0, diff+1):\n",
        "            b.append(\"<eps>\")\n",
        "    elif len(b) > len(a):\n",
        "        diff = len(b) - len(a)\n",
        "        for i in range(0, diff+1):\n",
        "            a.append(\"<eps>\")\n",
        "    return [x for x in zip(a, b)]    "
      ],
      "metadata": {
        "id": "nX6ZLEv8Zlt3"
      },
      "execution_count": 33,
      "outputs": []
    },
    {
      "cell_type": "code",
      "source": [
        "pad_replacements([\"a\", \"b\"], [\"a\"])\n",
        "pad_replacements([\"a\", \"b\", \"c\"], [\"a\"])\n",
        "pad_replacements([\"a\"], [\"a\", \"b\", \"c\"])\n"
      ],
      "metadata": {
        "colab": {
          "base_uri": "https://localhost:8080/"
        },
        "id": "c1vy7YvgaGNR",
        "outputId": "93769e90-b8a3-4671-87be-80dc55fa975a"
      },
      "execution_count": 27,
      "outputs": [
        {
          "output_type": "execute_result",
          "data": {
            "text/plain": [
              "[('a', 'a'), ('<eps>', 'b'), ('<eps>', 'c')]"
            ]
          },
          "metadata": {},
          "execution_count": 27
        }
      ]
    },
    {
      "cell_type": "code",
      "source": [
        "outputs = []\n",
        "for tag, i1, i2, j1, j2 in s.get_opcodes():\n",
        "    print(f\"{tag} {i1} {i2} {j1} {j2}\")\n",
        "    if tag == \"equal\":\n",
        "        for x in a[i1:i2]:\n",
        "            print(f\"{tag} {i1} {i2} {j1} {j2} {x}\")\n",
        "            print(outputs)\n",
        "            outputs.append(f\"{x} {x}\")\n",
        "    elif tag == \"insert\":\n",
        "        for x in b[j1:j2]:\n",
        "            print(f\"{tag} {i1} {i2} {j1} {j2} {x}\")\n",
        "            print(outputs)\n",
        "            outputs.append(f\"<eps> {x}\")\n",
        "    elif tag == \"delete\":\n",
        "        for x in a[i1:i2]:\n",
        "            print(f\"{tag} {i1} {i2} {j1} {j2} {x}\")\n",
        "            print(outputs)\n",
        "            outputs.append(f\"{x} <eps>\")\n",
        "    elif tag == \"replace\":\n",
        "        for x, y in pad_replacements(a[i1:i2], b[j1:j2]):\n",
        "            print(f\"{tag} {i1} {i2} {j1} {j2} {x}\")\n",
        "            print(outputs)\n",
        "            outputs.append(f\"{x} {y}\")"
      ],
      "metadata": {
        "colab": {
          "base_uri": "https://localhost:8080/"
        },
        "id": "2FQMt1qsTmpQ",
        "outputId": "ad0a5cb2-a9fc-464b-a25b-9ba72318d1a2"
      },
      "execution_count": 34,
      "outputs": [
        {
          "output_type": "stream",
          "name": "stdout",
          "text": [
            "replace 0 1 0 2\n",
            "replace 0 1 0 2 a\n",
            "[]\n",
            "replace 0 1 0 2 <eps>\n",
            "['a not']\n",
            "equal 1 3 2 4\n",
            "equal 1 3 2 4 bad\n",
            "['a not', '<eps> really']\n",
            "equal 1 3 2 4 time\n",
            "['a not', '<eps> really', 'bad bad']\n",
            "replace 3 5 4 5\n",
            "replace 3 5 4 5 today\n",
            "['a not', '<eps> really', 'bad bad', 'time time']\n",
            "replace 3 5 4 5 etc\n",
            "['a not', '<eps> really', 'bad bad', 'time time', 'today now']\n"
          ]
        }
      ]
    },
    {
      "cell_type": "code",
      "source": [
        "outputs"
      ],
      "metadata": {
        "colab": {
          "base_uri": "https://localhost:8080/"
        },
        "id": "iFbqjyGDW5aN",
        "outputId": "31127d97-f2ff-423f-92aa-17d4584529ee"
      },
      "execution_count": 35,
      "outputs": [
        {
          "output_type": "execute_result",
          "data": {
            "text/plain": [
              "['a not', '<eps> really', 'bad bad', 'time time', 'today now', 'etc <eps>']"
            ]
          },
          "metadata": {},
          "execution_count": 35
        }
      ]
    }
  ]
}