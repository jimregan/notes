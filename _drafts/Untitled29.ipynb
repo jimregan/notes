{
  "nbformat": 4,
  "nbformat_minor": 0,
  "metadata": {
    "colab": {
      "provenance": []
    },
    "kernelspec": {
      "name": "python3",
      "display_name": "Python 3"
    },
    "language_info": {
      "name": "python"
    }
  },
  "cells": [
    {
      "cell_type": "code",
      "execution_count": 1,
      "metadata": {
        "colab": {
          "base_uri": "https://localhost:8080/"
        },
        "id": "SMC4chZiIzmt",
        "outputId": "af00ef4f-9c05-4336-8e97-96b00452d187"
      },
      "outputs": [
        {
          "output_type": "stream",
          "name": "stdout",
          "text": [
            "Looking in indexes: https://pypi.org/simple, https://us-python.pkg.dev/colab-wheels/public/simple/\n",
            "Collecting youtube-dl\n",
            "  Downloading youtube_dl-2021.12.17-py2.py3-none-any.whl (1.9 MB)\n",
            "\u001b[K     |████████████████████████████████| 1.9 MB 3.9 MB/s \n",
            "\u001b[?25hInstalling collected packages: youtube-dl\n",
            "Successfully installed youtube-dl-2021.12.17\n"
          ]
        }
      ],
      "source": [
        "!pip install youtube-dl"
      ]
    },
    {
      "cell_type": "code",
      "source": [
        "URL = \"https://www.youtube.com/watch?v=j8AH29Ad-zU\""
      ],
      "metadata": {
        "id": "VakKv8CrI5Jz"
      },
      "execution_count": 2,
      "outputs": []
    },
    {
      "cell_type": "code",
      "source": [
        "import youtube_dl"
      ],
      "metadata": {
        "id": "Cyh_DmX_JmoN"
      },
      "execution_count": 3,
      "outputs": []
    },
    {
      "cell_type": "code",
      "source": [
        "_OUTTMPL = '%(id)s.%(ext)s'\n",
        "_YDL_OPTS = {\n",
        "    \"writesubtitles\": True,\n",
        "    \"subtitlesformat\": \"vtt\",\n",
        "    \"writeinfojson\": True,\n",
        "    \"outtmpl\": _OUTTMPL,\n",
        "}"
      ],
      "metadata": {
        "id": "aBUQqNV2JACe"
      },
      "execution_count": 7,
      "outputs": []
    },
    {
      "cell_type": "code",
      "source": [
        "_LIC=\"Creative Commons Attribution license (reuse allowed)\""
      ],
      "metadata": {
        "id": "qoq0JiAYdDi0"
      },
      "execution_count": 8,
      "outputs": []
    },
    {
      "cell_type": "code",
      "source": [
        "ydl = youtube_dl.YoutubeDL(_YDL_OPTS)\n",
        "ydl.download([URL])"
      ],
      "metadata": {
        "colab": {
          "base_uri": "https://localhost:8080/"
        },
        "id": "Ye-d12MHJkik",
        "outputId": "f1814e06-2c63-4e79-b6c7-9aa2aa90672d"
      },
      "execution_count": 11,
      "outputs": [
        {
          "output_type": "stream",
          "name": "stdout",
          "text": [
            "[youtube] j8AH29Ad-zU: Downloading webpage\n",
            "[youtube] j8AH29Ad-zU: Downloading MPD manifest\n",
            "[info] Writing video subtitles to: j8AH29Ad-zU.sv.vtt\n",
            "[info] Writing video description metadata as JSON to: j8AH29Ad-zU.info.json\n",
            "[download] j8AH29Ad-zU.mp4 has already been downloaded and merged\n"
          ]
        },
        {
          "output_type": "execute_result",
          "data": {
            "text/plain": [
              "0"
            ]
          },
          "metadata": {},
          "execution_count": 11
        }
      ]
    },
    {
      "cell_type": "code",
      "source": [
        "import json\n",
        "\n",
        "with open(\"/content/j8AH29Ad-zU.info.json\") as jsonf:\n",
        "    data = json.load(jsonf)\n",
        "if data[\"license\"] == _LIC:\n",
        "    print(\"Good\")\n",
        "else:\n",
        "    print(\"WTAF\")"
      ],
      "metadata": {
        "colab": {
          "base_uri": "https://localhost:8080/"
        },
        "id": "S0a3zuu_fC9h",
        "outputId": "652bb748-7f58-4b68-cced-b54c6bf648f2"
      },
      "execution_count": 12,
      "outputs": [
        {
          "output_type": "stream",
          "name": "stdout",
          "text": [
            "Good\n"
          ]
        }
      ]
    }
  ]
}