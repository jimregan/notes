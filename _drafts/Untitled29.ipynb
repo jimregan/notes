{
  "nbformat": 4,
  "nbformat_minor": 0,
  "metadata": {
    "colab": {
      "provenance": []
    },
    "kernelspec": {
      "name": "python3",
      "display_name": "Python 3"
    },
    "language_info": {
      "name": "python"
    }
  },
  "cells": [
    {
      "cell_type": "code",
      "execution_count": 1,
      "metadata": {
        "id": "E1NaoH1QBlkN"
      },
      "outputs": [],
      "source": [
        "import soundfile as sf"
      ]
    },
    {
      "cell_type": "code",
      "source": [
        "sample_file = \"/content/sw_all_mf_01_5277.pcm\""
      ],
      "metadata": {
        "id": "f_1xX9ycB6MP"
      },
      "execution_count": 2,
      "outputs": []
    },
    {
      "cell_type": "code",
      "source": [
        "data, sr = sf.read(sample_file, channels=2, samplerate=44100, endian=\"BIG\", dtype=\"int16\", format=\"RAW\", subtype=\"PCM_16\", start=16)"
      ],
      "metadata": {
        "id": "koBEODgYB1ZV"
      },
      "execution_count": 3,
      "outputs": []
    },
    {
      "cell_type": "code",
      "source": [
        "import IPython.display as ipd\n",
        "import numpy"
      ],
      "metadata": {
        "id": "f48aEulvB-YH"
      },
      "execution_count": 4,
      "outputs": []
    },
    {
      "cell_type": "markdown",
      "source": [],
      "metadata": {
        "id": "nKx4r2ezExq1"
      }
    },
    {
      "cell_type": "code",
      "source": [
        "from IPython.display import Audio"
      ],
      "metadata": {
        "id": "e5rvxMcUCBXB"
      },
      "execution_count": 6,
      "outputs": []
    },
    {
      "cell_type": "code",
      "source": [
        "Audio(data[:, 1], rate=sr)"
      ],
      "metadata": {
        "id": "_42KyhJ0CHTC"
      },
      "execution_count": null,
      "outputs": []
    }
  ]
}