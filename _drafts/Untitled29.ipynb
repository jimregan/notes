{
  "nbformat": 4,
  "nbformat_minor": 0,
  "metadata": {
    "colab": {
      "provenance": []
    },
    "kernelspec": {
      "name": "python3",
      "display_name": "Python 3"
    },
    "language_info": {
      "name": "python"
    }
  },
  "cells": [
    {
      "cell_type": "code",
      "execution_count": null,
      "metadata": {
        "id": "YQRCqY5fqHgn"
      },
      "outputs": [],
      "source": [
        "!pip install pympi-ling webvtt-py"
      ]
    },
    {
      "cell_type": "code",
      "source": [
        "from pympi import Eaf\n",
        "import webvtt"
      ],
      "metadata": {
        "id": "NbQLcR61qJsN"
      },
      "execution_count": 5,
      "outputs": []
    },
    {
      "cell_type": "code",
      "source": [
        "from pathlib import Path"
      ],
      "metadata": {
        "id": "1OsE89RUrCJL"
      },
      "execution_count": 6,
      "outputs": []
    },
    {
      "cell_type": "code",
      "source": [
        "def convert_vtt_to_elan(filename, tiername=\"whisper\"):\n",
        "    outfile = filename.replace(\".vtt\", \".eaf\")\n",
        "    eaf = Eaf()\n",
        "    eaf.add_tier(tiername)\n",
        "    count = 1\n",
        "    for caption in webvtt.read(filename):\n",
        "        start = int(caption.start_in_seconds * 1000)\n",
        "        end = int(caption.end_in_seconds * 1000)\n",
        "        annotation = f\"a{count}\"\n",
        "        text = caption.text.replace(\"\\n\", \" \").replace(\"\\r\", \"\")\n",
        "        eaf.add_annotation(tiername, start, end, text)\n",
        "    eaf.to_file(outfile)"
      ],
      "metadata": {
        "id": "BLxHIXIcqQvz"
      },
      "execution_count": 19,
      "outputs": []
    },
    {
      "cell_type": "code",
      "source": [
        "for file in Path(\".\").glob(\"*vtt\"):\n",
        "    convert_vtt_to_elan(str(file))"
      ],
      "metadata": {
        "id": "xTTumxQxrHA9"
      },
      "execution_count": 20,
      "outputs": []
    }
  ]
}