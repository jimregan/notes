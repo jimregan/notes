{
  "nbformat": 4,
  "nbformat_minor": 0,
  "metadata": {
    "colab": {
      "provenance": []
    },
    "kernelspec": {
      "name": "python3",
      "display_name": "Python 3"
    },
    "language_info": {
      "name": "python"
    }
  },
  "cells": [
    {
      "cell_type": "code",
      "execution_count": 1,
      "metadata": {
        "id": "V6OzMM8h_1oF"
      },
      "outputs": [],
      "source": [
        "from dataclasses import dataclass"
      ]
    },
    {
      "cell_type": "code",
      "source": [
        "@dataclass\n",
        "class TimedElement():\n",
        "    start_time: int\n",
        "    end_time: int\n",
        "    text: str\n",
        "\n",
        "class CTMLine(TimedElement):\n",
        "    pass\n",
        "\n",
        "class RDAPI(TimedElement):\n",
        "    pass"
      ],
      "metadata": {
        "id": "HWUYXdv7_-Qd"
      },
      "execution_count": 2,
      "outputs": []
    },
    {
      "cell_type": "code",
      "source": [
        "aa = [\n",
        "    CTMLine(0, 5, \"foo\"),\n",
        "    CTMLine(5, 10, \"foo\"),\n",
        "    CTMLine(10, 15, \"foo\"),\n",
        "    CTMLine(21, 25, \"foo\"),\n",
        "    CTMLine(30, 35, \"foo\"),\n",
        "    CTMLine(41, 45, \"foo\"),\n",
        "    CTMLine(50, 55, \"foo\"),\n",
        "    CTMLine(60, 65, \"foo\"),\n",
        "]"
      ],
      "metadata": {
        "id": "2mzA_doBAQ_v"
      },
      "execution_count": 39,
      "outputs": []
    },
    {
      "cell_type": "code",
      "source": [
        "ab = [\n",
        "    RDAPI(20, 35, \"blah\"),\n",
        "    RDAPI(40, 55, \"blah\"),\n",
        "]"
      ],
      "metadata": {
        "id": "jYWgn5D1AiWS"
      },
      "execution_count": 4,
      "outputs": []
    },
    {
      "cell_type": "code",
      "source": [
        "from typing import List\n",
        "\n",
        "@dataclass\n",
        "class FilteredPair():\n",
        "    ctmlines: List[CTMLine]\n",
        "    riksdag_segments: List[RDAPI]\n",
        "    speaker_name: str = \"\""
      ],
      "metadata": {
        "id": "1hYYEASACsdS"
      },
      "execution_count": 16,
      "outputs": []
    },
    {
      "cell_type": "code",
      "source": [
        "from copy import deepcopy"
      ],
      "metadata": {
        "id": "t1sGVnaPBOsS"
      },
      "execution_count": 5,
      "outputs": []
    },
    {
      "cell_type": "code",
      "source": [
        "within = False\n",
        "start = True\n",
        "\n",
        "last_i = i = last_j = j = 0\n",
        "pairs = []\n",
        "\n",
        "\n",
        "while i < len(aa) - 1 and j < len(ab):\n",
        "    if (start or not within) and aa[i].end_time < ab[j].start_time:\n",
        "        i += 1\n",
        "    elif within and aa[i].end_time <= ab[j].end_time:\n",
        "        i += 1\n",
        "    else:\n",
        "        if start:\n",
        "            start = False\n",
        "        if within:\n",
        "            rd = ab[j]\n",
        "            spkr = ab[j].text\n",
        "            within = False\n",
        "            j += 1\n",
        "        else:\n",
        "            rd = None\n",
        "            spkr = \"\"\n",
        "            within = True\n",
        "        pairs.append(FilteredPair(deepcopy(aa[last_i:i]), rd, spkr))\n",
        "        last_i = i\n",
        "        i += 1\n",
        "if i < len(aa):\n",
        "    pairs.append(FilteredPair(deepcopy(aa[last_i:-1]), None, \"\"))\n",
        "            \n"
      ],
      "metadata": {
        "id": "tKkY2qTVAqcx"
      },
      "execution_count": 65,
      "outputs": []
    },
    {
      "cell_type": "code",
      "source": [
        "for pair in pairs:\n",
        "    print(pair)"
      ],
      "metadata": {
        "colab": {
          "base_uri": "https://localhost:8080/"
        },
        "id": "a3lJF08KGeyd",
        "outputId": "ecc56139-9baf-429e-bbf7-82300f3b8f29"
      },
      "execution_count": 66,
      "outputs": [
        {
          "output_type": "stream",
          "name": "stdout",
          "text": [
            "FilteredPair(ctmlines=[CTMLine(start_time=0, end_time=5, text='foo'), CTMLine(start_time=5, end_time=10, text='foo'), CTMLine(start_time=10, end_time=15, text='foo')], riksdag_segments=None, speaker_name='')\n",
            "FilteredPair(ctmlines=[CTMLine(start_time=21, end_time=25, text='foo'), CTMLine(start_time=30, end_time=35, text='foo')], riksdag_segments=RDAPI(start_time=20, end_time=35, text='blah'), speaker_name='blah')\n",
            "FilteredPair(ctmlines=[CTMLine(start_time=41, end_time=45, text='foo')], riksdag_segments=None, speaker_name='')\n",
            "FilteredPair(ctmlines=[CTMLine(start_time=50, end_time=55, text='foo')], riksdag_segments=None, speaker_name='')\n"
          ]
        }
      ]
    }
  ]
}