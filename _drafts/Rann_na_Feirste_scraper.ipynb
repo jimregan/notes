{
  "nbformat": 4,
  "nbformat_minor": 0,
  "metadata": {
    "colab": {
      "name": "Rann na Feirste scraper.ipynb",
      "provenance": [],
      "collapsed_sections": []
    },
    "kernelspec": {
      "name": "python3",
      "display_name": "Python 3"
    },
    "language_info": {
      "name": "python"
    }
  },
  "cells": [
    {
      "cell_type": "code",
      "metadata": {
        "id": "roq1h3eE4yHJ"
      },
      "source": [
        "import requests\n",
        "from bs4 import BeautifulSoup\n",
        "BASE='http://www.rannnafeirste.com'\n"
      ],
      "execution_count": null,
      "outputs": []
    },
    {
      "cell_type": "code",
      "metadata": {
        "id": "7mXGux1o4kE4"
      },
      "source": [
        "class Page:\n",
        "\tdef __init__(self, id, title):\n",
        "\t\tself.id = id\n",
        "\t\tself.title = title\n",
        "\t\tself.url = '{}/{}'.format(BASE, id)\n",
        "\n",
        "\t# TODO: stop trying to make fetch happen\n",
        "\tdef _fetch_text(self):\n",
        "\t\treq = requests.get(self.url)\n",
        "\t\tif req.status_code != 200:\n",
        "\t\t\traise Exception('Error fetching page ' + self.url)\n",
        "\t\tself.content = req.content\n",
        "\tdef _soupynorman(self):\n",
        "\t\tself.soup = BeautifulSoup(self.content, 'html.parser')\n",
        "\tdef _fetch_audio(self):\n",
        "\t\taudio_div = self.soup.find(\"div\", class_='sqs-audio-embed')\n",
        "\t\tself.audio = audio_div[\"data-url\"]\n",
        "\tdef _fetch_fragments(self):\n",
        "\t\tfor i in self.soup.find_all(\"div\", class_='sqs-block-content'):\n",
        "\t\t\tchildren = list(i.children)\n",
        "\t\t\tif children[0].name == \"h1\":\n",
        "\t\t\t\tself.fragments = children\n",
        "\t## don't actually need this, because the title comes from the landing page\n",
        "\tdef _fetch_title(self):\n",
        "\t\tif self.fragments[0].name == \"h1\":\n",
        "\t\t\tself.title = fragments[0].text\n",
        "\t\telse:\n",
        "\t\t\traise Exception('Error reading title: ' + self.url)\n",
        "\tdef _fetch_author(self):\n",
        "\t\tif len(self.fragments) > 2 and self.fragments[1].name == \"h2\":\n",
        "\t\t\tself.author = self.fragments[1].text\n",
        "\t\telse:\n",
        "\t\t\traise Exception('Error reading author: ' + self.url)\n",
        "\tdef _fetch_paragraphs(self):\n",
        "\t\traw_paras = [n for n in self.fragments if n.name == \"p\"]\n",
        "\t\tfor frag in raw_paras:\n",
        "\t\t\tfor br in frag.find_all(\"br\"):\n",
        "\t\t\t\tbr.insert(0, '\\n')\n",
        "\t\t\t\tbr.unwrap()\n",
        "\t\tfirst = list(raw_paras[0].children)\n",
        "\t\tif len(first) == 1 and first[0].name == 'em':\n",
        "\t\t\t\tself.em_para = raw_paras[0].text.strip()\n",
        "\t\t\t\tdel raw_paras[0]\n",
        "\t\textent = len(raw_paras)\n",
        "\t\tcounter = 0\n",
        "\t\tfor i in raw_paras:\n",
        "\t\t\t\tif i.text.strip().startswith('Nóta') or i.text.strip().startswith('NÓTA') and extent > counter:\n",
        "\t\t\t\t\t\textent = counter\n",
        "\t\t\t\tcounter += 1\n",
        "\t\tfilt = raw_paras[0:extent]\n",
        "\t\tself.paragraphs = [p.text for p in filt]\n",
        "\tdef get_initials(self):\n",
        "\t\tfada = {\n",
        "\t\t\t'Á': 'A',\n",
        "\t\t\t'É': 'E',\n",
        "\t\t\t'Í': 'I',\n",
        "\t\t\t'Ó': 'O',\n",
        "\t\t\t'Ú': 'U'\n",
        "\t\t}\n",
        "\t\tdef initial(s):\n",
        "\t\t\tif s == None or len(s) < 1:\n",
        "\t\t\t\treturn ''\n",
        "\t\t\telse:\n",
        "\t\t\t\treturn fada.get(s.upper()[0]) or s.upper()[0]\n",
        "\t\ttry:\n",
        "\t\t\treturn \"\".join([initial(i) for i in self.author.split(' ')])\n",
        "\t\texcept:\n",
        "\t\t\tprint('Author missing: did you run scrape()?')\n",
        "\n",
        "\tdef _specifics(self):\n",
        "\t\ttitle = ['mo-bhaile-dchais', 'taiscidh-ghleann-domhain', 'banron-an-uaignis', 'non-an-r-agus-an-frog', 'seanchaithe-agus-fil-rann-na-feirste', 'an-ghaeltacht-bheo']\n",
        "\t\ttitlele = ['liontar-duinn-an-cruiscin', 'oireachtas-na-ndise', 'fidilir-ghleann-fhinne']\n",
        "\n",
        "\t\tif self.id in title:\n",
        "\t\t\tself.paragraphs.insert(0, self.title)\n",
        "\n",
        "\t\tif self.id in titlele:\n",
        "\t\t\tsecond = self.em_para.replace(' a chum', '')\n",
        "\t\t\tself.paragraphs.insert(0, '{} le {}'.format(self.title, second))\n",
        "\n",
        "\tdef scrape(self):\n",
        "\t\tself._fetch_text()\n",
        "\t\tself._soupynorman()\n",
        "\t\tself._fetch_audio()\n",
        "\t\tself._fetch_fragments()\n",
        "\t\tself._fetch_author()\n",
        "\t\tself._fetch_paragraphs()\n",
        "\t\tself._specifics()\n"
      ],
      "execution_count": null,
      "outputs": []
    },
    {
      "cell_type": "code",
      "metadata": {
        "colab": {
          "base_uri": "https://localhost:8080/"
        },
        "id": "T5xz7Ua844AA",
        "outputId": "76adb501-4f79-4470-d441-a5f2fa919110"
      },
      "source": [
        "foo = Page('deorai-an-oileain', 'Mo Bhaile')\n",
        "foo.scrape()\n",
        "foo.paragraphs\n"
      ],
      "execution_count": null,
      "outputs": [
        {
          "output_type": "execute_result",
          "data": {
            "text/plain": [
              "['Seo dán a scríobh mise, Bríd Anna, fá oileán\\xa0álainn Thoraigh, atá ar chósta Thír\\xa0Chonaill, fá choinne an Chomórtas an Bhéal Binn i naoi déag naocha is a\\xa0hocht, agus d’úirt Damien an dán seo—Damien\\xa0Ó Dónaill—agus d’éirigh\\xa0leis an chéad\\xa0áit a bhaint amach i gComórtas an Bhéal Binn ina rannóg\\xa0féin, chomh maith le Comórtas Deis A Labhartha ag\\xa0Éigse Sheán Bhán.\\xa0Sa dán seo cuirim síos ar dhuine a bhí ar shiúl ar deoraíocht\\xa0óna oileán\\xa0dhúchais agus gur bhreá leis pilleadh arís go Oileán Thoraigh ar chósta Thír\\xa0Chonaill.',\n",
              " 'Ó, a oileán bheag dhílis Thoraigh, is álainn an áit thú.\\nIs ann a chaith mise tamalt de mo shaol gan bhuaireamh gan bhrón.\\nIs iomaí lá breá pléisiúrtha a shuigh mé ar bharr na mbeann,\\nMé ag coimheád na n-iascairí ag tógáil na seolta,\\nIs mise ag éisteacht le ceol binn na n-éan.',\n",
              " 'Tá radharc aoibhinn álainn ón oileán ag amharc amach go bun na spéire.\\nTá na bádaí is na curaigh ag luascadh sna tonnaí,\\nIs na héanacha mara ag scairtigh go léanmhar.',\n",
              " 'Tá cliú agus cáil ar na scríbhneoirí,\\nAr na healaíontóirí, amhránaithe is ceoltóirí.\\nÓ, is aoibhinn an t-oileán é ar chósta álainn Dhún na nGall.\\nTá fáilte i gcónaí romhad ar an oileán bheag seo, Oileán Thoraigh.\\nTá ceol, craic is spraoi le fáil ann ó mhaidin go dtí an oíche.',\n",
              " 'Trasna na dtonnta gach uile lá a théann an Tor Mór\\nAr an turas anonn agus anall.\\nAch, faraor, níl mise in ann a bheith air,\\nMar tá an aois ag teacht go gasta orm\\nIs mé ag tarraingt ar an uaigh.',\n",
              " 'Óch, nár dheas a bheith aríst ann\\nAr laethanta glórmhara an tsamhraidh,\\nAgus na sluaite ag siúl thart\\nAr an oileán álainn seo amuigh i lár na dtonn.']"
            ]
          },
          "metadata": {
            "tags": []
          },
          "execution_count": 116
        }
      ]
    },
    {
      "cell_type": "code",
      "metadata": {
        "id": "qCf4i30d5yf7"
      },
      "source": [
        "para = foo.fragments[4]\n"
      ],
      "execution_count": null,
      "outputs": []
    },
    {
      "cell_type": "code",
      "metadata": {
        "colab": {
          "base_uri": "https://localhost:8080/"
        },
        "id": "ixl0be1WHQxr",
        "outputId": "f2b72c80-73e9-48a6-e7df-1fb8c15180be"
      },
      "source": [
        "#for c in para.content:\n",
        "#one = para.contents[0]\n",
        "for br in para.find_all(\"br\"):\n",
        "  br.insert(0, '\\n')\n",
        "  br.unwrap()\n",
        "\n",
        "para.contents"
      ],
      "execution_count": null,
      "outputs": [
        {
          "output_type": "execute_result",
          "data": {
            "text/plain": [
              "['Isteach go toigh an leanna libh, a chailíní na dílse,',\n",
              " '\\n',\n",
              " '\\n',\n",
              " 'Braon de shú na braich’ a chuirfeas mothú in mur gcroí astoigh.',\n",
              " '\\n',\n",
              " '\\n',\n",
              " 'Ólfaidh muid is ceolfaidh muid is beidh muid seal go siamsach.',\n",
              " '\\n',\n",
              " '\\n',\n",
              " 'Beidh muid súgach meanmneach is pleoid ar bhuaireamh an tsaoil seo,',\n",
              " '\\n',\n",
              " '\\n',\n",
              " 'Is líontar dúinn an crúiscín is bíodh sé lán.']"
            ]
          },
          "metadata": {
            "tags": []
          },
          "execution_count": 72
        }
      ]
    },
    {
      "cell_type": "code",
      "metadata": {
        "colab": {
          "base_uri": "https://localhost:8080/"
        },
        "id": "5_LAoM8E8PdL",
        "outputId": "edb72160-8073-4366-ccfd-8fb2f7d3d417"
      },
      "source": [
        "raw_paras = [n for n in foo.fragments if n.name == \"p\"]\n",
        "#raw_paras\n",
        "first = list(raw_paras[0].children)\n",
        "if len(first) == 1 and first[0].name == 'em':\n",
        "  del raw_paras[0]\n",
        "extent = len(raw_paras)\n",
        "counter = 0\n",
        "for i in raw_paras:\n",
        "  print(i.text)\n",
        "  if i.text.strip().startswith('Nóta') or i.text.strip().startswith('NÓTA') and extent > counter:\n",
        "    extent = counter\n",
        "  counter += 1\n",
        "raw_paras[0:extent]\n",
        "#counter"
      ],
      "execution_count": null,
      "outputs": [
        {
          "output_type": "stream",
          "text": [
            "A bhuachaillí, a bhuachaillí, molaim sibh go síoraí,Sibh a thógfadh croí na gcailín is a chuirfeadh gnaoi ar chruinniú daoiní.Nuair a smaoitim ar na scafairí is iad cruinn ar Ard an AonaighAg caochadh ar na streabhógaí is iad ag cogarnaigh go síodúil,Is líontar dúinn an crúiscín is bíodh sé lán.\n",
            "Isteach go toigh an leanna libh, a chailíní na dílse,Braon de shú na braich’ a chuirfeas mothú in mur gcroí astoigh.Ólfaidh muid is ceolfaidh muid is beidh muid seal go siamsach.Beidh muid súgach meanmneach is pleoid ar bhuaireamh an tsaoil seo,Is líontar dúinn an crúiscín is bíodh sé lán.\n",
            "B’ann a bheadh an chuideachta, teacht chun an bhaile ón aonach,Ag gealgháirí is ag priollaireacht is ag feitheamh lenár mian a fháil.Fá dheireadh théadh gach scafaire ar ghreim sciatháin lena chaoinbheanSíos fá mhalaidh an raithneach is iad ag portaireacht go croíúil,Is líontar dúinn an crúiscín is bíodh sé lán.\n",
            "Ní dhéanfaidh mise dearmad den tsuirí ins an oíche,Éanacha na coilleadh is iad ag seinm ar na gaobhair,Boladh deas na meala agus mo stóirín le mo thaobh liom,Agus feothan deas ón fharraige ag siosarnaigh sa mhíodún,Is líontar dúinn an crúiscín is bíodh sé lán.\n",
            "Oíche Fhéil Eoin bheadh tinidh againn thuas ar Leac an Cháite,An píopaire ag seinm dúinn agus sinn go haoibhinn sásta.Le bodhránacht na maidne théadh gach strogán lena ghrá gealSíos fá thaoibh an ghleanna nó go gcríochnóchadh siad an t-airneál,Is líontar dúinn an crúiscín is bíodh sé lán.\n",
            "Ó, a Dhia na glóire, an chuideachta a bheadh thíos ar Leac an tSúiste,Ag cleasaíocht is ag gliodaíocht, ag peataíocht is ag súgradh,An píopaire is an fidiléir ag seinm dúinn go croíúil.Dhamhsadh sinn go maidin is níor fhada linn an oíche,Is líontar dúinn an crúiscín is bíodh sé lán.\n",
            "Ár mbeannacht leis na laetha sin—nach mór a d’athraigh an saol seo?Níl grian an tsamhraidh ag taitneamh ann, níl gealach ann san oíche.Níl guth na n-éan le cloistin ann, níl fidil ann, níl píob ann.Níl ann ach blár fann folamh agus briseann sin mo chroísa,Is líontar dúinn an crúiscín is bíodh sé lán.\n",
            "A bhuachaillí is a chailíní, atá anois ar beagán buartha,Déanaigí bhur ndícheall de, níl ann ach seal bhur gcuarta,Nó tiocfaidh an lá go tapaidh ina mbeidh sibh scairte ar an uaigneas,Ag gol agus ag mairgnigh fán chinniúint a fuair buaidh oraibh,Is líontar dúinn an crúiscín is bíodh sé lán.\n",
            "Nuair a bheas mé marbh, déanaidh m’fhaire i dtoigh na beoraí,Ólaigí is ceolaigí go gcluinfidh mé mur nglórthaí,Ansin tugaigí chun na cille mé agus déanaigí mo thórramh,Agus baistigí le biotáilte mo chorp agus mo chónair,Is líontar dúinn an crúiscín is bíodh sé lán.\n"
          ],
          "name": "stdout"
        },
        {
          "output_type": "execute_result",
          "data": {
            "text/plain": [
              "[<p>A bhuachaillí, a bhuachaillí, molaim sibh go síoraí,<br/>Sibh a thógfadh croí na gcailín is a chuirfeadh gnaoi ar chruinniú daoiní.<br/>Nuair a smaoitim ar na scafairí is iad cruinn ar Ard an Aonaigh<br/>Ag caochadh ar na streabhógaí is iad ag cogarnaigh go síodúil,<br/>Is líontar dúinn an crúiscín is bíodh sé lán.</p>,\n",
              " <p>Isteach go toigh an leanna libh, a chailíní na dílse,<br/>Braon de shú na braich’ a chuirfeas mothú in mur gcroí astoigh.<br/>Ólfaidh muid is ceolfaidh muid is beidh muid seal go siamsach.<br/>Beidh muid súgach meanmneach is pleoid ar bhuaireamh an tsaoil seo,<br/>Is líontar dúinn an crúiscín is bíodh sé lán.</p>,\n",
              " <p>B’ann a bheadh an chuideachta, teacht chun an bhaile ón aonach,<br/>Ag gealgháirí is ag priollaireacht is ag feitheamh lenár mian a fháil.<br/>Fá dheireadh théadh gach scafaire ar ghreim sciatháin lena chaoinbhean<br/>Síos fá mhalaidh an raithneach is iad ag portaireacht go croíúil,<br/>Is líontar dúinn an crúiscín is bíodh sé lán.</p>,\n",
              " <p>Ní dhéanfaidh mise dearmad den tsuirí ins an oíche,<br/>Éanacha na coilleadh is iad ag seinm ar na gaobhair,<br/>Boladh deas na meala agus mo stóirín le mo thaobh liom,<br/>Agus feothan deas ón fharraige ag siosarnaigh sa mhíodún,<br/>Is líontar dúinn an crúiscín is bíodh sé lán.</p>,\n",
              " <p>Oíche Fhéil Eoin bheadh tinidh againn thuas ar Leac an Cháite,<br/>An píopaire ag seinm dúinn agus sinn go haoibhinn sásta.<br/>Le bodhránacht na maidne théadh gach strogán lena ghrá geal<br/>Síos fá thaoibh an ghleanna nó go gcríochnóchadh siad an t-airneál,<br/>Is líontar dúinn an crúiscín is bíodh sé lán.</p>,\n",
              " <p>Ó, a Dhia na glóire, an chuideachta a bheadh thíos ar Leac an tSúiste,<br/>Ag cleasaíocht is ag gliodaíocht, ag peataíocht is ag súgradh,<br/>An píopaire is an fidiléir ag seinm dúinn go croíúil.<br/>Dhamhsadh sinn go maidin is níor fhada linn an oíche,<br/>Is líontar dúinn an crúiscín is bíodh sé lán.</p>,\n",
              " <p>Ár mbeannacht leis na laetha sin—nach mór a d’athraigh an saol seo?<br/>Níl grian an tsamhraidh ag taitneamh ann, níl gealach ann san oíche.<br/>Níl guth na n-éan le cloistin ann, níl fidil ann, níl píob ann.<br/>Níl ann ach blár fann folamh agus briseann sin mo chroísa,<br/>Is líontar dúinn an crúiscín is bíodh sé lán.</p>,\n",
              " <p>A bhuachaillí is a chailíní, atá anois ar beagán buartha,<br/>Déanaigí bhur ndícheall de, níl ann ach seal bhur gcuarta,<br/>Nó tiocfaidh an lá go tapaidh ina mbeidh sibh scairte ar an uaigneas,<br/>Ag gol agus ag mairgnigh fán chinniúint a fuair buaidh oraibh,<br/>Is líontar dúinn an crúiscín is bíodh sé lán.</p>,\n",
              " <p>Nuair a bheas mé marbh, déanaidh m’fhaire i dtoigh na beoraí,<br/>Ólaigí is ceolaigí go gcluinfidh mé mur nglórthaí,<br/>Ansin tugaigí chun na cille mé agus déanaigí mo thórramh,<br/>Agus baistigí le biotáilte mo chorp agus mo chónair,<br/>Is líontar dúinn an crúiscín is bíodh sé lán.</p>]"
            ]
          },
          "metadata": {
            "tags": []
          },
          "execution_count": 52
        }
      ]
    }
  ]
}