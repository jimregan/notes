{
  "cells": [
    {
      "cell_type": "markdown",
      "metadata": {},
      "source": [
        "# Extract Riksdag videos from API\n",
        "\n",
        "> \"Extracts videos of speeches from the Riksdag API\"\n",
        "\n",
        "- toc: false\n",
        "- hidden: true\n",
        "- branch: master\n",
        "- badges: false\n",
        "- categories: [riksdag, speech]"
      ]
    },
    {
      "cell_type": "code",
      "execution_count": 1,
      "metadata": {
        "id": "ObPMdeRlgRKz"
      },
      "outputs": [],
      "source": [
        "import requests\n",
        "import json"
      ]
    },
    {
      "cell_type": "code",
      "execution_count": 2,
      "metadata": {
        "id": "b3hjM2mLgT1O"
      },
      "outputs": [],
      "source": [
        "sample = requests.get(\"https://data.riksdagen.se/api/mhs-vodapi?H210308\")"
      ]
    },
    {
      "cell_type": "code",
      "execution_count": 3,
      "metadata": {
        "id": "3iWScC6-gaU1"
      },
      "outputs": [],
      "source": [
        "data = json.loads(sample.text)"
      ]
    },
    {
      "cell_type": "code",
      "execution_count": null,
      "metadata": {
        "id": "X0ocGF2Tg-3R"
      },
      "outputs": [],
      "source": [
        "data['videodata'][0]"
      ]
    },
    {
      "cell_type": "code",
      "execution_count": 5,
      "metadata": {
        "colab": {
          "base_uri": "https://localhost:8080/"
        },
        "id": "Yy91lHTmgiab",
        "outputId": "ec22abf1-7fdb-4555-8331-df1a666d1f52"
      },
      "outputs": [],
      "source": [
        "def viddata_get_single_stream(videodata, hires=True):\n",
        "    videos = []\n",
        "    if videodata is None:\n",
        "        return []\n",
        "    if 'streams' not in videodata:\n",
        "        #raise Exception(\"videodata is missing 'streams'\")\n",
        "        return []\n",
        "    if videodata['streams'] is None:\n",
        "        return []\n",
        "    if 'files' not in videodata['streams']:\n",
        "        #raise Exception(\"videodata['streams'] is missing 'files'\")\n",
        "        return []\n",
        "    if type(videodata['streams']['files']) == list:\n",
        "        for vfile in videodata['streams']['files']:\n",
        "            for bw in vfile['bandwidth']:\n",
        "                if hires and bw['name'] == 'Hög kvalitet':\n",
        "                    videos.append(bw['downloadurl'])\n",
        "                elif not hires and bw['name'] == 'Låg kvalitet':\n",
        "                    videos.append(bw['downloadurl'])\n",
        "    else:\n",
        "        #raise Exception(f\"Expected a list, got {type(videodata['streams']['files'])}\")\n",
        "        return []\n",
        "    return videos\n",
        "\n",
        "def viddata_get_streams(videodata, hires=True):\n",
        "    output = []\n",
        "    if 'videodata' not in videodata:\n",
        "        #raise Exception(\"'videodata' missing\")\n",
        "        return []\n",
        "    for vdata in videodata['videodata']:\n",
        "        output += viddata_get_single_stream(vdata, hires)\n",
        "    return output"
      ]
    },
    {
      "cell_type": "code",
      "execution_count": 11,
      "metadata": {
        "id": "WdMcyGE51OVq"
      },
      "outputs": [
        {
          "data": {
            "text/plain": [
              "['https://mhdownload.riksdagen.se/VOD1/PAL169/2442207160019939321_480p.mp4']"
            ]
          },
          "execution_count": 11,
          "metadata": {},
          "output_type": "execute_result"
        }
      ],
      "source": [
        "def fix_speaker_name(name, party):\n",
        "    if name.endswith(f\" ({party})\"):\n",
        "        name = name[0:name.rfind(f\" ({party})\")]\n",
        "    return name\n",
        "\n",
        "def extract_speakers(data):\n",
        "    speakers = []\n",
        "    for viddata in data['videodata']:\n",
        "        for speaker in viddata['speakers']:\n",
        "            speaker['text'] = fix_speaker_name(speaker['text'], speaker['party'])\n",
        "            speakers.append(speaker)\n",
        "    return speakers\n",
        "\n",
        "#print(data['videodata'][0])\n",
        "speakers = extract_speakers(data)\n",
        "viddata_get_streams(data)"
      ]
    },
    {
      "cell_type": "code",
      "execution_count": 10,
      "metadata": {
        "colab": {
          "base_uri": "https://localhost:8080/"
        },
        "id": "inJ-M4mMiHmK",
        "outputId": "d7f34233-81e3-47f7-faae-1c5062f9faae"
      },
      "outputs": [
        {
          "data": {
            "text/plain": [
              "[]"
            ]
          },
          "execution_count": 10,
          "metadata": {},
          "output_type": "execute_result"
        }
      ],
      "source": [
        "viddata_get_streams(data, False)\n"
      ]
    },
    {
      "cell_type": "code",
      "execution_count": 13,
      "metadata": {
        "id": "gpZZnb-PyLMn"
      },
      "outputs": [],
      "source": [
        "from pathlib import Path\n",
        "import glob\n",
        "urls = []\n",
        "for f in glob.glob('/Users/joregan/riksdag/riksdag-api-out/[GH]*'):\n",
        "    fpath = Path(f)\n",
        "    if not fpath.is_file():\n",
        "        continue\n",
        "    with open(f) as inf:\n",
        "        data = json.load(inf)\n",
        "        for url in viddata_get_streams(data):\n",
        "            urls.append(url)"
      ]
    },
    {
      "cell_type": "code",
      "execution_count": 14,
      "metadata": {},
      "outputs": [],
      "source": [
        "with open('/Users/joregan/riksdag/riksdag-api-out/video-urls.txt', 'w') as outf:\n",
        "    for url in urls:\n",
        "        outf.write(url + \"\\n\")"
      ]
    }
  ],
  "metadata": {
    "colab": {
      "name": "Untitled19.ipynb",
      "provenance": []
    },
    "kernelspec": {
      "display_name": "Python 3.10.4 ('ctcseg')",
      "language": "python",
      "name": "python3"
    },
    "language_info": {
      "codemirror_mode": {
        "name": "ipython",
        "version": 3
      },
      "file_extension": ".py",
      "mimetype": "text/x-python",
      "name": "python",
      "nbconvert_exporter": "python",
      "pygments_lexer": "ipython3",
      "version": "3.10.4"
    },
    "vscode": {
      "interpreter": {
        "hash": "04f1aebeda7ca92f6170d2806fa3f3c0cbb14da723fd908a9af630117dfe1004"
      }
    }
  },
  "nbformat": 4,
  "nbformat_minor": 0
}
