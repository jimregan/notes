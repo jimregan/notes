{
  "cells": [
    {
      "cell_type": "markdown",
      "metadata": {},
      "source": [
        "# Extract Riksdag videos from API\n",
        "\n",
        "> \"Extracts videos of speeches from the Riksdag API\"\n",
        "\n",
        "- toc: false\n",
        "- hidden: true\n",
        "- branch: master\n",
        "- badges: false\n",
        "- categories: [riksdag, speech]"
      ]
    },
    {
      "cell_type": "code",
      "execution_count": 1,
      "metadata": {
        "id": "ObPMdeRlgRKz"
      },
      "outputs": [],
      "source": [
        "import requests\n",
        "import json"
      ]
    },
    {
      "cell_type": "code",
      "execution_count": 2,
      "metadata": {
        "id": "b3hjM2mLgT1O"
      },
      "outputs": [],
      "source": [
        "sample = requests.get(\"https://data.riksdagen.se/api/mhs-vodapi?H210308\")"
      ]
    },
    {
      "cell_type": "code",
      "execution_count": 3,
      "metadata": {
        "id": "3iWScC6-gaU1"
      },
      "outputs": [],
      "source": [
        "data = json.loads(sample.text)"
      ]
    },
    {
      "cell_type": "code",
      "execution_count": 4,
      "metadata": {
        "id": "X0ocGF2Tg-3R"
      },
      "outputs": [
        {
          "data": {
            "text/plain": [
              "{'videostatus': 2,\n",
              " 'committee': None,\n",
              " 'type': None,\n",
              " 'debatepreamble': None,\n",
              " 'debatetexthtml': None,\n",
              " 'livestreamurl': None,\n",
              " 'activelivespeaker': None,\n",
              " 'id': '53f4230f-0ea9-40e3-ba19-e0ffff123165',\n",
              " 'dokid': 'H210308',\n",
              " 'title': 'Nordiska utvecklingsfonden',\n",
              " 'debatename': 'Interpellationsdebatt',\n",
              " 'debatedate': '6 mars 2015',\n",
              " 'debatetype': 'ip',\n",
              " 'debateurl': '/sv/webb-tv/video/interpellationsdebatt/nordiska-utvecklingsfonden_H210308',\n",
              " 'fromchamber': True,\n",
              " 'thumbnailurl': 'https://mhdownload.riksdagen.se/posterframe/2442207020017436121.jpg',\n",
              " 'debateseconds': 1011,\n",
              " 'streams': {'files': [{'mimetype': 'mp4',\n",
              "    'url': 'VOD1/PAL169/2442207020017436121',\n",
              "    'videofileurl': 'https://mamstream.riksdagen.se/VOD1/_definst_/smil:PAL169/2442207020017436121.smil/playlist.m3u8',\n",
              "    'audiofileurl': 'https://mhdownload.riksdagen.se/VOD1/PAL169/2442207020017436121_aud.mp3',\n",
              "    'downloadfileurl': 'https://mhdownload.riksdagen.se/VOD1/PAL169/2442207020017436121_480p.mp4',\n",
              "    'bandwidth': [{'name': 'Hög kvalitet',\n",
              "      'quality': 2000,\n",
              "      'mimetype': 'video/mp4',\n",
              "      'url': 'https://mamstream.riksdagen.se/VOD1/_definst_/smil:PAL169/2442207020017436121.smil/playlist.m3u8',\n",
              "      'downloadurl': 'https://mhdownload.riksdagen.se/VOD1/PAL169/2442207020017436121_480p.mp4'}]}]},\n",
              " 'speakers': [{'start': 13,\n",
              "   'duration': 143,\n",
              "   'text': 'Statsrådet Isabella Lövin (MP)',\n",
              "   'party': 'MP',\n",
              "   'subid': '57023F57-DE8A-4DA2-A6B4-1E612876262F',\n",
              "   'active': False,\n",
              "   'number': 73,\n",
              "   'anftext': '<p>Herr talman! Jan Lindholm har frågat mig om jag delar Nordiska rådets uppfattning att Nordiska utvecklingsfondens verksamhet har varit framgångsrik och att beslutet om inriktning från 2009 har genomförts lyckosamt samt om regeringen tagit ställning till Nordiska rådets rekommendation om att tillföra ytterligare kapital till Nordiska utvecklingsfonden.</p><p>Låt mig inledningsvis konstatera att Nordiska utvecklingsfonden är en organisation som i samarbete med olika utförare har klarat att nå konkreta resultat. De samlade investeringarna beräknas leda till årliga minskade utsläpp av drygt 4 miljoner ton koldioxid. Nordiska utvecklingsfonden, Nordic Development Fund, uppvisar också resultat avseende metodutveckling kring framtagandet av bedömningskriterier för klimatprojekt samt driver prioriterade nordiska utvecklings- och biståndspolitiska frågor, såsom jämställdhet. Det är utan tvekan så att beslutet från 2009 om att förändra NDF:s inriktning genomförts på ett sätt som varit avgörande för att uppnå dessa klimatresultat.</p><p>Däremot anser regeringen att frågan om en tillförsel av ytterligare kapital är för tidigt väckt. Detta hänger samman bland annat med att den framväxande internationella klimatfinansieringsarkitekturen befinner sig i ett dynamiskt skede, inte minst genom skapandet av Gröna klimatfonden, som förväntas bli den huvudsakliga kanalen för framtida multilateral klimatfinansiering.</p><p>Dagens struktur för klimatfinansiering präglas i hög grad av fragmentering, och det finns ett stort behov av att verka för en effektivisering och konsolidering.</p><p> STYLEREF Kantrubrik \\\\* MERGEFORMAT Svar på interpellationer</p><p>Därutöver har NDF säkrad finansiering till och med 2018. Fonden kan således fortsätta sin verksamhet obehindrat i avvaktan på ett definitivt ställningstagande till frågan om en eventuell ytterligare kapitalpåfyllnad.</p><p>I ljuset av bland annat detta har NDF:s styrelse enats om att återkomma i ärendet efter klimattoppmötet i Paris i december i år.</p>',\n",
              "   'partyimgurl': 'https://www.riksdagen.se/imagevault/publishedmedia/mayc6xnh3bggxn5apl5n/logo-mp-large.jpg',\n",
              "   'partycode': 'MP',\n",
              "   'commissionerimgurl': 'https://data.riksdagen.se/filarkiv/bilder/ledamot/1a383cdc-f329-49f1-a2eb-e327ab542e2f_160.jpg',\n",
              "   'commissionerurl': 'https://www.riksdagen.se/sv/ledamoter-partier/ledamot/isabella-lovin_1a383cdc-f329-49f1-a2eb-e327ab542e2f',\n",
              "   'description': None,\n",
              "   'committee': None},\n",
              "  {'start': 162,\n",
              "   'duration': 218,\n",
              "   'text': 'Jan Lindholm (MP)',\n",
              "   'party': 'MP',\n",
              "   'subid': '57023F57-DE8A-4DA2-A6B4-1E612876262F',\n",
              "   'active': False,\n",
              "   'number': 74,\n",
              "   'anftext': '<p>Herr talman! Först vill jag tacka ministern för ett till stora delar positivt svar. </p><p>Nordiska utvecklingsfonden har sedan starten 1989 under 20 år beviljat mjuka krediter till utvecklingsländer på ett mycket framgångsrikt sätt. Över 190 projekt i 37 olika utvecklingsländer har möjliggjorts på grund av att drygt 1 miljard avsattes för fondens verksamhet. </p><p>Sedan 2009 har fonden på ägarnas uppdrag, det vill säga på de nordiska ländernas uppdrag, ändrat arbetssätt och driver en verksamhet med rena bidrag till investeringar för att möta klimatförändringar i de fattigaste länderna. Detta handlar om projekt både för att minska klimatpåverkan och för att anpassa dessa länder till de förändringar, påfrestningar och ansträngningar som oundvikligen ändå kommer att ske under de närmaste årtiondena. </p><p>Vi som är ledamöter i Nordiska rådet tycker att denna verksamhet är oerhört effektiv och att den ger ett stort värde för de pengar som ligger där. Därför värnar vi den mycket. </p><p>Jag tror inte att jag är den enda ledamoten i Norden som ställer denna interpellation. Vi har bestämt oss för att göra det i samtliga nordiska parlament. Jag hoppas att det också sker. Det har jag inte kontroll över. Jag hoppas att biståndsministrarna i alla de nordiska länderna visar samma förståelse för betydelsen av Nordiska utvecklingsfondens arbete som Sveriges biståndsminister gör enligt svaret. </p><p>Herr talman! Biståndsministern säger i slutet av sitt svar att ytterligare kapitaltillskott till Nordiska utvecklingsfonden är en fråga som ska lyftas fram efter klimattoppmötet i Paris i december. Det är på sätt och vis lovande att den frågan ska lyftas fram. Samtidigt kan jag tycka att det är en lite defensiv hållning. </p><p>Det beslut som togs 2009 av de nordiska länderna om att ändra fondens inriktning togs nämligen inför COP\\xa015 i Köpenhamn, och det gjordes därför att man på det sättet ville visa att de nordiska länderna faktiskt var beredda att ta ett ökat ansvar. Vi i Nordiska rådet menar att man skulle kunna göra så även den här gången. </p><p>Därför skulle jag gärna se att vår biståndsminister tar en runda med de nordiska kollegerna och talar lite taktik. Jag tror nämligen att det vore en styrka att i Paris i december kunna visa på en beredskap för ett ökat gemensamt ansvarstagande från våra nordiska länder. Nu förstår jag i och för sig att det inte är så enkelt för en minoritetsregering, som har ett svårt budgetarbete med en mycket skör överenskommelse i och med decemberöverenskommelsen, att göra några bindande utfästelser eller åtaganden. Men man skulle kanske kunna göra någon form av avsiktsförklaring från de nordiska biståndsministrarna om att verka för att den här utvecklingsfondens verksamhet i alla fall ska säkerställas, så att man har en trygghet i att den inte kommer att avvecklas när kapitalet väl är förbrukat eftersom verksamheten är av det slaget. En sådan tydlig avsiktsförklaring skulle kanske kunna fungera tillräckligt bra för att ändå fungera som en effektiv påtryckning för de andra länderna, så att de verkligen känner att de har någonting att möta upp emot. </p>',\n",
              "   'partyimgurl': 'https://www.riksdagen.se/imagevault/publishedmedia/mayc6xnh3bggxn5apl5n/logo-mp-large.jpg',\n",
              "   'partycode': 'MP',\n",
              "   'commissionerimgurl': 'https://data.riksdagen.se/filarkiv/bilder/ledamot/04ede91e-1686-429d-8847-fadb72508460_160.jpg',\n",
              "   'commissionerurl': 'https://www.riksdagen.se/sv/ledamoter-partier/ledamot/jan-lindholm_04ede91e-1686-429d-8847-fadb72508460',\n",
              "   'description': None,\n",
              "   'committee': None},\n",
              "  {'start': 380,\n",
              "   'duration': 221,\n",
              "   'text': 'Statsrådet Isabella Lövin (MP)',\n",
              "   'party': 'MP',\n",
              "   'subid': '57023F57-DE8A-4DA2-A6B4-1E612876262F',\n",
              "   'active': False,\n",
              "   'number': 75,\n",
              "   'anftext': '<p> STYLEREF Kantrubrik \\\\* MERGEFORMAT Svar på interpellationer</p><p>Herr talman! Jag vill tacka Jan Lindholm för frågan och framför allt för engagemanget i denna fråga från honom och många andra ledamöter i Norden. </p><p>Det är med stolthet som jag noterar att Nordic Development Fund på klimatmötet i Lima förra året fick ett FN-pris, UNFCCC Momentum for Change Award, för sitt arbete med mikrofinanser för klimatrelaterade projekt i Latinamerika och Karibien, så kallade Eco Micro. Det är en innovation som har gett småföretag tillträde till klimatfinansiering för första gången. Det är en typ av projekt som vi naturligtvis stöder och gärna vill se mer av. </p><p>Jan Lindholm nämnde också den budgetsituation som vi i Sverige i dag befinner oss i. Jag är mycket stolt över att vi, trots de stora begränsningar vi står inför och trots allt annat, har lyckats göra en utfästelse till den nya fonden, Gröna klimatfonden, förra året på sammanlagt 4 miljarder svenska kronor under den kommande perioden, och det kommer att bli ett stort tillskott redan i år. Denna nya fond, Gröna klimatfonden, är en fond för hela världen att bidra till. Sveriges stora bidrag till fonden på ett tidigt stadium katalyserade många andra länders bidrag till fonden, så att den snart kommer att vara operationell. </p><p>Nordiska klimatfonden har sin profil, och vi har naturligtvis ett mycket stort inflytande i den. Där har vi ett stort mervärde. Men det var mycket viktigt för Sverige och den svenska regeringen att också få igång den stora internationella fonden, Gröna klimatfonden, där länder som Australien, Kanada och andra också är med och bidrar. </p><p>Vi vill absolut inte skala ned på några som helst ambitioner. Jag kan notera att vid Nordiska ministerrådet var länderna överens om att ändå avvakta till efter klimatkonferensen i Paris innan man tar beslut om ytterligare tillskott. Jag kan inte utesluta att vi kommer att komma fram till att Nordic Development Fund har ett mervärde för Sverige och för de andra nordiska länderna. Men vi befinner oss också i en situation där vi ser att hela klimatfinansieringsarkitekturen riskerar att bli mycket fragmentiserad. Här behöver vi i hela världen ta oss en funderare på hur vi bäst ska kunna samordna de olika fonder och initiativ som finns, så att de gör störst och bäst nytta. </p><p>Jag vill återigen understryka hur positivt det är med det nordiska engagemanget och det nordiska samarbetet och att Nordiska utvecklingsfonden har gjort så positiva resultat under åren och sedan man ställde om fonden 2009 till att bli en fond som är helt inriktad på klimatfinansiering. Det är någonting att vara stolt över. Vi kommer att återkomma, precis som vi har lovat, efter klimatkonferensen. </p>',\n",
              "   'partyimgurl': 'https://www.riksdagen.se/imagevault/publishedmedia/mayc6xnh3bggxn5apl5n/logo-mp-large.jpg',\n",
              "   'partycode': 'MP',\n",
              "   'commissionerimgurl': 'https://data.riksdagen.se/filarkiv/bilder/ledamot/1a383cdc-f329-49f1-a2eb-e327ab542e2f_160.jpg',\n",
              "   'commissionerurl': 'https://www.riksdagen.se/sv/ledamoter-partier/ledamot/isabella-lovin_1a383cdc-f329-49f1-a2eb-e327ab542e2f',\n",
              "   'description': None,\n",
              "   'committee': None},\n",
              "  {'start': 601,\n",
              "   'duration': 148,\n",
              "   'text': 'Jan Lindholm (MP)',\n",
              "   'party': 'MP',\n",
              "   'subid': '57023F57-DE8A-4DA2-A6B4-1E612876262F',\n",
              "   'active': False,\n",
              "   'number': 76,\n",
              "   'anftext': '<p>Herr talman! Jag delar ministerns uppfattning att det är oerhört viktigt att Gröna klimatfonden kommer igång på ett bra sätt och att den kan göra ett bra arbete. </p><p> STYLEREF Kantrubrik \\\\* MERGEFORMAT Svar på interpellationer</p><p>Att investera för att åstadkomma minskningar av klimatpåverkan, och kanske framför allt att investera för att hantera de ansträngningar som våra samhällen drabbas av på grund av klimatförändringarna, är inte något enkelt. </p><p>Om man tittar på de projekt som redovisas och som Nordiska utvecklingsfonden har stöttat är det mängder av mycket komplicerade frågor som man har hanterat. Det handlar om allt från att förändra användningen av brännved för matlagning i en del länder till att arbeta med system för att hantera erosion på kuststräckor. </p><p>Därför tänker jag mig att åtminstone ni som jobbar på regeringsnivå i Norden borde värna den kompetens som har upparbetats där. När man försöker titta på sådana här projekt är det inte så lätt att se att de faktiskt har nytta, men det har dessa projekt lyckats med. Investeringen i sig innebär nämligen ofta en ganska stor klimatbelastning i sig, och då gäller det att den ger så mycket nytta att det totalt sett resulterar i att vi går åt rätt håll. Det tror jag inte att alla kan visa lika väl som de projekt som Nordiska utvecklingsfonden har engagerat sig i.</p><p>Jag skulle därför vilja fråga biståndsministern om ni i ert arbete i departementet har valt att ta till vara kunskaperna, om ni har andra kunskapskällor och hur ni arbetar med att utveckla kunskapen så att åtgärderna faktiskt gör nettonytta. Det är jag nämligen orolig för att man inte alltid lyckas med.</p>',\n",
              "   'partyimgurl': 'https://www.riksdagen.se/imagevault/publishedmedia/mayc6xnh3bggxn5apl5n/logo-mp-large.jpg',\n",
              "   'partycode': 'MP',\n",
              "   'commissionerimgurl': 'https://data.riksdagen.se/filarkiv/bilder/ledamot/04ede91e-1686-429d-8847-fadb72508460_160.jpg',\n",
              "   'commissionerurl': 'https://www.riksdagen.se/sv/ledamoter-partier/ledamot/jan-lindholm_04ede91e-1686-429d-8847-fadb72508460',\n",
              "   'description': None,\n",
              "   'committee': None},\n",
              "  {'start': 750,\n",
              "   'duration': 230,\n",
              "   'text': 'Statsrådet Isabella Lövin (MP)',\n",
              "   'party': 'MP',\n",
              "   'subid': '57023F57-DE8A-4DA2-A6B4-1E612876262F',\n",
              "   'active': False,\n",
              "   'number': 77,\n",
              "   'anftext': '<p>Herr talman! Jag tackar Jan Lindholm för den ytterligare frågan. </p><p>Det är förstås oerhört viktigt att vi överväger vad som kan kallas best practice i de här sammanhangen. Vi har sett ganska tragiska exempel på tidigare projekt under clean development mechanism, de så kallade CDM-projekten, där det har visat sig att man inte har gjort någon additionell nytta utan helt enkelt har gått in och finansierat projekt som ändå skulle ha skett. </p><p>Det finns all anledning att titta på både de dåliga och de bra erfarenheterna inför de stora konferenser som ligger framför oss som ett pärlband. Det gäller inte bara klimatkonferensen i september utan även Financing for Development-konferensen, som äger rum i Addis Abeba i juli. Det är en konferens som ska handla om hur vi ska uppbringa och alstra all den finansiering vi behöver för att ställa om till en hållbar värld i stort, i ljuset av de nya utvecklingsmål som kommer nu efter att millenniemålen löper ut 2015. </p><p>Det kommer alltså att vara en konferens där man kommer att titta både på hur man kan alstra privat kapital och på hur man kan använda institutionellt kapital samt hur man kan bredda skattebasen, minska skatteflykt och använda biståndsmedel. Förhoppningsvis kommer vi också att väva in klimatfinansieringen i hela diskussionen. Det kan nämligen inte vara stuprör nu, utan vi måste se allt detta som en helhet.</p><p>Hur vi tar hand om den kunskap och erfarenhet vi har sett i Nordiska utvecklingsfonden kommer vi alltså att få all anledning att komma tillbaka till och titta närmare på från den svenska regeringens sida. Det gäller även hur vi kan använda de positiva erfarenheterna i alla konferenserna. Klimatfinansieringsdiskussionerna pågår också inom Världsbanken; vi har Världsbankens Climate Investment Funds. Vi har även anpassningsfonderna under Kyotoprotokollet, och inte minst är Sverige med i styrelsen för Gröna klimatfonden. </p><p> STYLEREF Kantrubrik \\\\* MERGEFORMAT Svar på interpellationer</p><p>Vi har alltså en röst i alla dessa forum, och det är nu en ganska brokig palett som står till vårt förfogande. Jag tycker att det är viktigt att Sverige är med, är aktivt och driver. Vi kan göra oerhört stor nytta, naturligtvis genom att visa på de goda exemplen i Nordiska utvecklingsfonden, där vi kanske har mer kontroll och makt över såväl hur den ska vara konstruerad som hur den ska användas. Vi kan dock inte heller släppa fokus på de stora pengarna och de ännu större diskussioner som nu sker globalt. </p><p>Jag är väldigt stolt över att Sverige kan vara en central spelare i de här förhandlingarna och diskussionerna. Vi har nu det största bidraget per capita till Gröna klimatfonden, vilket ger oss en unik position att bedriva påverkansarbete i styrelsen. Inte minst har jag själv på möten drivit jämställdhetsfrågan, alltså att jämställdhet måste tas i beaktande när vi ska använda pengarna. Det finns mycket goda anledningar att ta till vara de erfarenheter som finns från NDF i de här sammanhangen. </p>',\n",
              "   'partyimgurl': 'https://www.riksdagen.se/imagevault/publishedmedia/mayc6xnh3bggxn5apl5n/logo-mp-large.jpg',\n",
              "   'partycode': 'MP',\n",
              "   'commissionerimgurl': 'https://data.riksdagen.se/filarkiv/bilder/ledamot/1a383cdc-f329-49f1-a2eb-e327ab542e2f_160.jpg',\n",
              "   'commissionerurl': 'https://www.riksdagen.se/sv/ledamoter-partier/ledamot/isabella-lovin_1a383cdc-f329-49f1-a2eb-e327ab542e2f',\n",
              "   'description': None,\n",
              "   'committee': None},\n",
              "  {'start': 981,\n",
              "   'duration': 23,\n",
              "   'text': 'Jan Lindholm (MP)',\n",
              "   'party': 'MP',\n",
              "   'subid': '57023F57-DE8A-4DA2-A6B4-1E612876262F',\n",
              "   'active': False,\n",
              "   'number': 78,\n",
              "   'anftext': '<p>Herr talman! Jag tycker att jag har fått ett ganska positivt svar från ministern när det gäller Nordiska utvecklingsfondens framtid. Det finns ett uttalat intresse för att ta till vara de erfarenheter som finns där. </p><p>Nu har jag sett att nästa minister är på plats, och jag har inga ytterligare frågor att ställa. Jag tackar så mycket för svaren.</p><p>Överläggningen var härmed avslutad.</p>',\n",
              "   'partyimgurl': 'https://www.riksdagen.se/imagevault/publishedmedia/mayc6xnh3bggxn5apl5n/logo-mp-large.jpg',\n",
              "   'partycode': 'MP',\n",
              "   'commissionerimgurl': 'https://data.riksdagen.se/filarkiv/bilder/ledamot/04ede91e-1686-429d-8847-fadb72508460_160.jpg',\n",
              "   'commissionerurl': 'https://www.riksdagen.se/sv/ledamoter-partier/ledamot/jan-lindholm_04ede91e-1686-429d-8847-fadb72508460',\n",
              "   'description': None,\n",
              "   'committee': None}],\n",
              " 'agendalist': None}"
            ]
          },
          "execution_count": 4,
          "metadata": {},
          "output_type": "execute_result"
        }
      ],
      "source": [
        "data['videodata'][0]"
      ]
    },
    {
      "cell_type": "code",
      "execution_count": 5,
      "metadata": {
        "colab": {
          "base_uri": "https://localhost:8080/"
        },
        "id": "Yy91lHTmgiab",
        "outputId": "ec22abf1-7fdb-4555-8331-df1a666d1f52"
      },
      "outputs": [],
      "source": [
        "def viddata_get_single_stream(videodata, hires=True):\n",
        "    videos = []\n",
        "    if videodata is None:\n",
        "        return []\n",
        "    if 'streams' not in videodata:\n",
        "        #raise Exception(\"videodata is missing 'streams'\")\n",
        "        return []\n",
        "    if videodata['streams'] is None:\n",
        "        return []\n",
        "    if 'files' not in videodata['streams']:\n",
        "        #raise Exception(\"videodata['streams'] is missing 'files'\")\n",
        "        return []\n",
        "    if type(videodata['streams']['files']) == list:\n",
        "        for vfile in videodata['streams']['files']:\n",
        "            for bw in vfile['bandwidth']:\n",
        "                if hires and bw['name'] == 'Hög kvalitet':\n",
        "                    videos.append(bw['downloadurl'])\n",
        "                elif not hires and bw['name'] == 'Låg kvalitet':\n",
        "                    videos.append(bw['downloadurl'])\n",
        "    else:\n",
        "        #raise Exception(f\"Expected a list, got {type(videodata['streams']['files'])}\")\n",
        "        return []\n",
        "    return videos\n",
        "\n",
        "def viddata_get_streams(videodata, hires=True):\n",
        "    output = []\n",
        "    if 'videodata' not in videodata:\n",
        "        #raise Exception(\"'videodata' missing\")\n",
        "        return []\n",
        "    for vdata in videodata['videodata']:\n",
        "        output += viddata_get_single_stream(vdata, hires)\n",
        "    return output"
      ]
    },
    {
      "cell_type": "code",
      "execution_count": 11,
      "metadata": {
        "id": "WdMcyGE51OVq"
      },
      "outputs": [
        {
          "data": {
            "text/plain": [
              "['https://mhdownload.riksdagen.se/VOD1/PAL169/2442207160019939321_480p.mp4']"
            ]
          },
          "execution_count": 11,
          "metadata": {},
          "output_type": "execute_result"
        }
      ],
      "source": [
        "def fix_speaker_name(name, party):\n",
        "    if name.endswith(f\" ({party})\"):\n",
        "        name = name[0:name.rfind(f\" ({party})\")]\n",
        "    return name\n",
        "\n",
        "def extract_speakers(data):\n",
        "    speakers = []\n",
        "    for viddata in data['videodata']:\n",
        "        for speaker in viddata['speakers']:\n",
        "            speaker['text'] = fix_speaker_name(speaker['text'], speaker['party'])\n",
        "            speakers.append(speaker)\n",
        "    return speakers\n",
        "\n",
        "#print(data['videodata'][0])\n",
        "speakers = extract_speakers(data)\n",
        "viddata_get_streams(data)"
      ]
    },
    {
      "cell_type": "code",
      "execution_count": 10,
      "metadata": {
        "colab": {
          "base_uri": "https://localhost:8080/"
        },
        "id": "inJ-M4mMiHmK",
        "outputId": "d7f34233-81e3-47f7-faae-1c5062f9faae"
      },
      "outputs": [
        {
          "data": {
            "text/plain": [
              "[]"
            ]
          },
          "execution_count": 10,
          "metadata": {},
          "output_type": "execute_result"
        }
      ],
      "source": [
        "viddata_get_streams(data, False)\n"
      ]
    },
    {
      "cell_type": "code",
      "execution_count": 13,
      "metadata": {
        "id": "gpZZnb-PyLMn"
      },
      "outputs": [],
      "source": [
        "from pathlib import Path\n",
        "import glob\n",
        "urls = []\n",
        "for f in glob.glob('/Users/joregan/riksdag/riksdag-api-out/[GH]*'):\n",
        "    fpath = Path(f)\n",
        "    if not fpath.is_file():\n",
        "        continue\n",
        "    with open(f) as inf:\n",
        "        data = json.load(inf)\n",
        "        for url in viddata_get_streams(data):\n",
        "            urls.append(url)"
      ]
    },
    {
      "cell_type": "code",
      "execution_count": 14,
      "metadata": {},
      "outputs": [],
      "source": [
        "with open('/Users/joregan/riksdag/riksdag-api-out/video-urls.txt', 'w') as outf:\n",
        "    for url in urls:\n",
        "        outf.write(url + \"\\n\")"
      ]
    }
  ],
  "metadata": {
    "colab": {
      "name": "Untitled19.ipynb",
      "provenance": []
    },
    "kernelspec": {
      "display_name": "Python 3.10.4 ('ctcseg')",
      "language": "python",
      "name": "python3"
    },
    "language_info": {
      "codemirror_mode": {
        "name": "ipython",
        "version": 3
      },
      "file_extension": ".py",
      "mimetype": "text/x-python",
      "name": "python",
      "nbconvert_exporter": "python",
      "pygments_lexer": "ipython3",
      "version": "3.10.4"
    },
    "vscode": {
      "interpreter": {
        "hash": "04f1aebeda7ca92f6170d2806fa3f3c0cbb14da723fd908a9af630117dfe1004"
      }
    }
  },
  "nbformat": 4,
  "nbformat_minor": 0
}
