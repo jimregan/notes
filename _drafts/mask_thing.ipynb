{
 "cells": [
  {
   "cell_type": "code",
   "execution_count": null,
   "metadata": {},
   "outputs": [],
   "source": []
  },
  {
   "cell_type": "markdown",
   "metadata": {},
   "source": [
    "```json\n",
    "{\n",
    "    \"mask_name\": \"mask_00123.npy\",\n",
    "    \"mask_height\": 672,\n",
    "    \"mask_width\": 630,\n",
    "    \"promote_type\": \"mask\",\n",
    "    \"labels\": {\n",
    "        \"3\": {\n",
    "            \"instance_id\": 3,\n",
    "            \"class_name\": \"table\",\n",
    "            \"x1\": 156,\n",
    "            \"y1\": 333,\n",
    "            \"x2\": 299,\n",
    "            \"y2\": 414,\n",
    "            \"logit\": 0.0\n",
    "        },\n",
    "        \"5\": {\n",
    "            \"instance_id\": 5,\n",
    "            \"class_name\": \"table\",\n",
    "            \"x1\": 268,\n",
    "            \"y1\": 463,\n",
    "            \"x2\": 447,\n",
    "            \"y2\": 666,\n",
    "            \"logit\": 0.0\n",
    "        }\n",
    "    }\n",
    "}\n",
    "```"
   ]
  },
  {
   "cell_type": "code",
   "execution_count": 5,
   "metadata": {},
   "outputs": [
    {
     "name": "stdout",
     "output_type": "stream",
     "text": [
      "Total count of all values except 0: 0\n"
     ]
    }
   ],
   "source": [
    "import numpy as np\n",
    "from pathlib import Path\n",
    "import matplotlib.pyplot as plt\n",
    "\n",
    "def analyze_npy_files(directory):\n",
    "    directory = Path(directory)\n",
    "    npy_files = list(directory.glob(\"*.npy\"))\n",
    "    total_nonzero_count = 0\n",
    "    \n",
    "    for npy_file in npy_files:\n",
    "        mask = np.load(npy_file)\n",
    "        \n",
    "        # Get unique values and their counts\n",
    "        unique_values, counts = np.unique(mask, return_counts=True)\n",
    "        \n",
    "        # Sum all values except 0\n",
    "        total_nonzero_count += sum(counts[unique_values != 0])\n",
    "        \n",
    "        # Display histogram of values with integer bins\n",
    "        plt.figure()\n",
    "        plt.hist(mask.flatten(), bins=np.arange(min(unique_values), max(unique_values) + 2) - 0.5, edgecolor='black')\n",
    "        plt.xticks(unique_values)  # Ensure only integer ticks\n",
    "        plt.title(f\"Value Distribution in {npy_file.name}\")\n",
    "        plt.xlabel(\"Mask Value\")\n",
    "        plt.ylabel(\"Count\")\n",
    "        plt.show()\n",
    "    \n",
    "    print(f\"Total count of all values except 0: {total_nonzero_count}\")\n",
    "    return total_nonzero_count\n",
    "\n",
    "# Example usage\n",
    "directory = Path(\"path_to_npy_files\")\n",
    "total_nonzero_count = analyze_npy_files(directory)\n"
   ]
  },
  {
   "cell_type": "code",
   "execution_count": null,
   "metadata": {},
   "outputs": [],
   "source": [
    "analyze_npy_files(\"/tmp/mask_data\")"
   ]
  }
 ],
 "metadata": {
  "kernelspec": {
   "display_name": "nst-tts",
   "language": "python",
   "name": "python3"
  },
  "language_info": {
   "codemirror_mode": {
    "name": "ipython",
    "version": 3
   },
   "file_extension": ".py",
   "mimetype": "text/x-python",
   "name": "python",
   "nbconvert_exporter": "python",
   "pygments_lexer": "ipython3",
   "version": "3.10.9"
  }
 },
 "nbformat": 4,
 "nbformat_minor": 2
}
