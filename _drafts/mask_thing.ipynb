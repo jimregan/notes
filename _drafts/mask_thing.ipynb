{
 "cells": [
  {
   "cell_type": "code",
   "execution_count": null,
   "metadata": {},
   "outputs": [],
   "source": []
  },
  {
   "cell_type": "markdown",
   "metadata": {},
   "source": [
    "```json\n",
    "{\n",
    "    \"mask_name\": \"mask_00123.npy\",\n",
    "    \"mask_height\": 672,\n",
    "    \"mask_width\": 630,\n",
    "    \"promote_type\": \"mask\",\n",
    "    \"labels\": {\n",
    "        \"3\": {\n",
    "            \"instance_id\": 3,\n",
    "            \"class_name\": \"table\",\n",
    "            \"x1\": 156,\n",
    "            \"y1\": 333,\n",
    "            \"x2\": 299,\n",
    "            \"y2\": 414,\n",
    "            \"logit\": 0.0\n",
    "        },\n",
    "        \"5\": {\n",
    "            \"instance_id\": 5,\n",
    "            \"class_name\": \"table\",\n",
    "            \"x1\": 268,\n",
    "            \"y1\": 463,\n",
    "            \"x2\": 447,\n",
    "            \"y2\": 666,\n",
    "            \"logit\": 0.0\n",
    "        }\n",
    "    }\n",
    "}\n",
    "```"
   ]
  },
  {
   "cell_type": "code",
   "execution_count": 1,
   "metadata": {},
   "outputs": [],
   "source": [
    "import numpy as np\n",
    "from pathlib import Path\n",
    "import matplotlib.pyplot as plt\n",
    "\n",
    "def analyze_npy_files(directory):\n",
    "    directory = Path(directory)\n",
    "    npy_files = list(directory.glob(\"*.npy\"))\n",
    "    summary = {}\n",
    "    \n",
    "    for npy_file in npy_files:\n",
    "        mask = np.load(npy_file)\n",
    "        \n",
    "        # Get unique values and their counts\n",
    "        unique_values, counts = np.unique(mask, return_counts=True)\n",
    "        \n",
    "        summary[npy_file.name] = {\n",
    "            \"shape\": mask.shape,\n",
    "            \"dtype\": mask.dtype,\n",
    "            \"unique_values\": unique_values.tolist(),\n",
    "            \"counts\": counts.tolist()\n",
    "        }\n",
    "        \n",
    "        # Display histogram of values\n",
    "        plt.figure()\n",
    "        plt.hist(mask.flatten(), bins=len(unique_values), edgecolor='black')\n",
    "        plt.title(f\"Value Distribution in {npy_file.name}\")\n",
    "        plt.xlabel(\"Mask Value\")\n",
    "        plt.ylabel(\"Count\")\n",
    "        plt.show()\n",
    "    \n",
    "    return summary\n",
    "\n",
    "# Example usage\n",
    "directory = Path(\"path_to_npy_files\")\n",
    "summaries = analyze_npy_files(directory)\n",
    "\n",
    "# Print summary for review\n",
    "for file, info in summaries.items():\n",
    "    print(f\"File: {file}\")\n",
    "    print(f\" - Shape: {info['shape']}\")\n",
    "    print(f\" - Data Type: {info['dtype']}\")\n",
    "    print(f\" - Unique Values: {info['unique_values']}\")\n",
    "    print(f\" - Counts: {info['counts']}\")\n",
    "    print()\n"
   ]
  },
  {
   "cell_type": "code",
   "execution_count": null,
   "metadata": {},
   "outputs": [],
   "source": [
    "analyze_npy_files(\"/tmp/mask_data\")"
   ]
  }
 ],
 "metadata": {
  "kernelspec": {
   "display_name": "nst-tts",
   "language": "python",
   "name": "python3"
  },
  "language_info": {
   "codemirror_mode": {
    "name": "ipython",
    "version": 3
   },
   "file_extension": ".py",
   "mimetype": "text/x-python",
   "name": "python",
   "nbconvert_exporter": "python",
   "pygments_lexer": "ipython3",
   "version": "3.10.9"
  }
 },
 "nbformat": 4,
 "nbformat_minor": 2
}
