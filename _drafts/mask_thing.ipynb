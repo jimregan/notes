{
 "cells": [
  {
   "cell_type": "code",
   "execution_count": null,
   "metadata": {},
   "outputs": [],
   "source": []
  },
  {
   "cell_type": "markdown",
   "metadata": {},
   "source": [
    "```json\n",
    "{\n",
    "    \"mask_name\": \"mask_00123.npy\",\n",
    "    \"mask_height\": 672,\n",
    "    \"mask_width\": 630,\n",
    "    \"promote_type\": \"mask\",\n",
    "    \"labels\": {\n",
    "        \"3\": {\n",
    "            \"instance_id\": 3,\n",
    "            \"class_name\": \"table\",\n",
    "            \"x1\": 156,\n",
    "            \"y1\": 333,\n",
    "            \"x2\": 299,\n",
    "            \"y2\": 414,\n",
    "            \"logit\": 0.0\n",
    "        },\n",
    "        \"5\": {\n",
    "            \"instance_id\": 5,\n",
    "            \"class_name\": \"table\",\n",
    "            \"x1\": 268,\n",
    "            \"y1\": 463,\n",
    "            \"x2\": 447,\n",
    "            \"y2\": 666,\n",
    "            \"logit\": 0.0\n",
    "        }\n",
    "    }\n",
    "}\n",
    "```"
   ]
  },
  {
   "cell_type": "code",
   "execution_count": 6,
   "metadata": {},
   "outputs": [
    {
     "name": "stdout",
     "output_type": "stream",
     "text": [
      "Total count of all values except 0: 0\n"
     ]
    }
   ],
   "source": [
    "import numpy as np\n",
    "from pathlib import Path\n",
    "import matplotlib.pyplot as plt\n",
    "\n",
    "def analyze_npy_files(directory):\n",
    "    directory = Path(directory)\n",
    "    npy_files = list(directory.glob(\"*.npy\"))\n",
    "    total_nonzero_count = 0\n",
    "    \n",
    "    for npy_file in npy_files:\n",
    "        mask = np.load(npy_file)\n",
    "        \n",
    "        # Get unique values and their counts\n",
    "        unique_values, counts = np.unique(mask, return_counts=True)\n",
    "        \n",
    "        # Sum all values except 0 (corrected indexing)\n",
    "        total_nonzero_count += counts[unique_values != 0].sum()\n",
    "        \n",
    "        # Display histogram of values with integer bins\n",
    "        plt.figure()\n",
    "        plt.hist(mask.flatten(), bins=np.arange(min(unique_values), max(unique_values) + 2) - 0.5, edgecolor='black')\n",
    "        plt.xticks(unique_values)  # Ensure only integer ticks\n",
    "        plt.title(f\"Value Distribution in {npy_file.name}\")\n",
    "        plt.xlabel(\"Mask Value\")\n",
    "        plt.ylabel(\"Count\")\n",
    "        plt.show()\n",
    "    \n",
    "    print(f\"Total count of all values except 0: {total_nonzero_count}\")\n",
    "    return total_nonzero_count\n",
    "\n",
    "# Example usage\n",
    "directory = Path(\"path_to_npy_files\")\n",
    "total_nonzero_count = analyze_npy_files(directory)"
   ]
  },
  {
   "cell_type": "code",
   "execution_count": null,
   "metadata": {},
   "outputs": [],
   "source": [
    "analyze_npy_files(\"/tmp/mask_data\")"
   ]
  },
  {
   "cell_type": "code",
   "execution_count": null,
   "metadata": {},
   "outputs": [],
   "source": []
  },
  {
   "cell_type": "code",
   "execution_count": 15,
   "metadata": {},
   "outputs": [],
   "source": [
    "import numpy as np\n",
    "from pathlib import Path\n",
    "from PIL import Image\n",
    "import matplotlib.cm as cm\n",
    "import matplotlib.colors as mcolors\n",
    "\n",
    "def generate_color_map(unique_values, invert_background=False):\n",
    "    \"\"\"Generate distinct colors for unique values.\"\"\"\n",
    "    colormap = cm.get_cmap(\"tab20\", len(unique_values))\n",
    "    norm = mcolors.Normalize(vmin=min(unique_values), vmax=max(unique_values))\n",
    "    color_map = {val: tuple(int(c * 255) for c in colormap(norm(val))[:3]) for val in unique_values}\n",
    "    \n",
    "    if invert_background and 0 in color_map:\n",
    "        max_val = max(unique_values)\n",
    "        color_map[0] = (255, 255, 255)  # White background\n",
    "        color_map[max_val] = (0, 0, 0)  # Black max value\n",
    "    \n",
    "    return color_map\n",
    "\n",
    "def convert_npy_to_png(npy_file, png_file, invert_background=False):\n",
    "    \"\"\"Convert a mask .npy file to a color .png image.\"\"\"\n",
    "    mask = np.load(npy_file)\n",
    "    unique_values = np.unique(mask)\n",
    "    color_map = generate_color_map(unique_values, invert_background)\n",
    "    \n",
    "    h, w = mask.shape\n",
    "    color_mask = np.zeros((h, w, 3), dtype=np.uint8)\n",
    "    for val, color in color_map.items():\n",
    "        color_mask[mask == val] = color\n",
    "    \n",
    "    img = Image.fromarray(color_mask, mode=\"RGB\")\n",
    "    img.save(png_file)\n",
    "    print(f\"Saved: {png_file}\")\n",
    "\n",
    "def convert_png_to_npy(png_file, npy_file):\n",
    "    \"\"\"Convert a color PNG back to an NPY file using grayscale approximation.\"\"\"\n",
    "    img = Image.open(png_file).convert(\"L\")  # Convert to grayscale\n",
    "    mask = np.array(img, dtype=np.uint16)  # Convert to uint16 to match NPY format\n",
    "    np.save(npy_file, mask)\n",
    "    print(f\"Saved: {npy_file}\")\n",
    "\n",
    "def process_npy_directory(input_dir, output_dir, invert_background=False):\n",
    "    \"\"\"Process all .npy files in a directory and convert them to color PNG.\"\"\"\n",
    "    input_dir = Path(input_dir)\n",
    "    output_dir = Path(output_dir)\n",
    "    output_dir.mkdir(parents=True, exist_ok=True)\n",
    "    \n",
    "    npy_files = list(input_dir.glob(\"*.npy\"))\n",
    "    for npy_file in npy_files:\n",
    "        png_file = output_dir / (npy_file.stem + \".png\")\n",
    "        convert_npy_to_png(npy_file, png_file, invert_background)\n",
    "\n",
    "def process_png_directory(input_dir, output_dir):\n",
    "    \"\"\"Process all .png files in a directory and convert them back to NPY.\"\"\"\n",
    "    input_dir = Path(input_dir)\n",
    "    output_dir = Path(output_dir)\n",
    "    output_dir.mkdir(parents=True, exist_ok=True)\n",
    "    \n",
    "    png_files = list(input_dir.glob(\"*.png\"))\n",
    "    for png_file in png_files:\n",
    "        npy_file = output_dir / (png_file.stem + \".npy\")\n",
    "        convert_png_to_npy(png_file, npy_file)\n",
    "\n",
    "# # Example usage\n",
    "# directory = Path(\"path_to_npy_files\")\n",
    "# output_directory = Path(\"path_to_png_files\")\n",
    "# process_npy_directory(directory, output_directory, invert_background=True)  # Set to False to keep standard colors\n",
    "\n",
    "# # Example reverse conversion\n",
    "# png_directory = Path(\"path_to_png_files\")\n",
    "# npy_output_directory = Path(\"path_to_reconstructed_npy\")\n",
    "# process_png_directory(png_directory, npy_output_directory)\n"
   ]
  },
  {
   "cell_type": "code",
   "execution_count": null,
   "metadata": {},
   "outputs": [],
   "source": [
    "process_npy_directory(\"/tmp/mask_data/\", \"/tmp/mask_png\", True)"
   ]
  },
  {
   "cell_type": "code",
   "execution_count": 19,
   "metadata": {},
   "outputs": [],
   "source": [
    "import numpy as np\n",
    "from pathlib import Path\n",
    "\n",
    "def convert_npy_to_npz(input_dir, output_npz):\n",
    "    \"\"\"Convert all .npy files in a directory into a single .npz archive.\"\"\"\n",
    "    input_dir = Path(input_dir)\n",
    "    npy_files = list(input_dir.glob(\"*.npy\"))\n",
    "    \n",
    "    data_dict = {}\n",
    "    for npy_file in npy_files:\n",
    "        data = np.load(npy_file)\n",
    "        data_dict[npy_file.stem] = data\n",
    "    \n",
    "    np.savez_compressed(output_npz, **data_dict)\n",
    "    print(f\"Saved NPZ archive: {output_npz}\")\n",
    "\n",
    "def extract_npz_to_npy(npz_file, output_dir):\n",
    "    \"\"\"Extract all arrays from an .npz archive back into individual .npy files.\"\"\"\n",
    "    output_dir = Path(output_dir)\n",
    "    output_dir.mkdir(parents=True, exist_ok=True)\n",
    "    \n",
    "    data = np.load(npz_file)\n",
    "    for key in data.files:\n",
    "        npy_path = output_dir / f\"{key}.npy\"\n",
    "        np.save(npy_path, data[key])\n",
    "        print(f\"Extracted: {npy_path}\")\n",
    "\n",
    "# # Example usage\n",
    "# input_directory = Path(\"path_to_npy_files\")\n",
    "# output_npz_file = Path(\"output_dataset.npz\")\n",
    "# convert_npy_to_npz(input_directory, output_npz_file)\n",
    "\n",
    "# # Example extraction\n",
    "# extracted_npy_directory = Path(\"extracted_npy_files\")\n",
    "# extract_npz_to_npy(output_npz_file, extracted_npy_directory)"
   ]
  },
  {
   "cell_type": "code",
   "execution_count": 22,
   "metadata": {},
   "outputs": [
    {
     "name": "stdout",
     "output_type": "stream",
     "text": [
      "Saved NPZ archive: /tmp/mask.npz\n"
     ]
    }
   ],
   "source": [
    "convert_npy_to_npz(\"/tmp/mask_data/\", \"/tmp/mask.npz\")"
   ]
  }
 ],
 "metadata": {
  "kernelspec": {
   "display_name": "nst-tts",
   "language": "python",
   "name": "python3"
  },
  "language_info": {
   "codemirror_mode": {
    "name": "ipython",
    "version": 3
   },
   "file_extension": ".py",
   "mimetype": "text/x-python",
   "name": "python",
   "nbconvert_exporter": "python",
   "pygments_lexer": "ipython3",
   "version": "3.10.9"
  }
 },
 "nbformat": 4,
 "nbformat_minor": 2
}
