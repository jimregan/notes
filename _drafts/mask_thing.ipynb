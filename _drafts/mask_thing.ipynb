{
 "cells": [
  {
   "cell_type": "code",
   "execution_count": null,
   "metadata": {},
   "outputs": [],
   "source": []
  },
  {
   "cell_type": "markdown",
   "metadata": {},
   "source": [
    "```json\n",
    "{\n",
    "    \"mask_name\": \"mask_00123.npy\",\n",
    "    \"mask_height\": 672,\n",
    "    \"mask_width\": 630,\n",
    "    \"promote_type\": \"mask\",\n",
    "    \"labels\": {\n",
    "        \"3\": {\n",
    "            \"instance_id\": 3,\n",
    "            \"class_name\": \"table\",\n",
    "            \"x1\": 156,\n",
    "            \"y1\": 333,\n",
    "            \"x2\": 299,\n",
    "            \"y2\": 414,\n",
    "            \"logit\": 0.0\n",
    "        },\n",
    "        \"5\": {\n",
    "            \"instance_id\": 5,\n",
    "            \"class_name\": \"table\",\n",
    "            \"x1\": 268,\n",
    "            \"y1\": 463,\n",
    "            \"x2\": 447,\n",
    "            \"y2\": 666,\n",
    "            \"logit\": 0.0\n",
    "        }\n",
    "    }\n",
    "}\n",
    "```"
   ]
  },
  {
   "cell_type": "code",
   "execution_count": 6,
   "metadata": {},
   "outputs": [
    {
     "name": "stdout",
     "output_type": "stream",
     "text": [
      "Total count of all values except 0: 0\n"
     ]
    }
   ],
   "source": [
    "import numpy as np\n",
    "from pathlib import Path\n",
    "import matplotlib.pyplot as plt\n",
    "\n",
    "def analyze_npy_files(directory):\n",
    "    directory = Path(directory)\n",
    "    npy_files = list(directory.glob(\"*.npy\"))\n",
    "    total_nonzero_count = 0\n",
    "    \n",
    "    for npy_file in npy_files:\n",
    "        mask = np.load(npy_file)\n",
    "        \n",
    "        # Get unique values and their counts\n",
    "        unique_values, counts = np.unique(mask, return_counts=True)\n",
    "        \n",
    "        # Sum all values except 0 (corrected indexing)\n",
    "        total_nonzero_count += counts[unique_values != 0].sum()\n",
    "        \n",
    "        # Display histogram of values with integer bins\n",
    "        plt.figure()\n",
    "        plt.hist(mask.flatten(), bins=np.arange(min(unique_values), max(unique_values) + 2) - 0.5, edgecolor='black')\n",
    "        plt.xticks(unique_values)  # Ensure only integer ticks\n",
    "        plt.title(f\"Value Distribution in {npy_file.name}\")\n",
    "        plt.xlabel(\"Mask Value\")\n",
    "        plt.ylabel(\"Count\")\n",
    "        plt.show()\n",
    "    \n",
    "    print(f\"Total count of all values except 0: {total_nonzero_count}\")\n",
    "    return total_nonzero_count\n",
    "\n",
    "# Example usage\n",
    "directory = Path(\"path_to_npy_files\")\n",
    "total_nonzero_count = analyze_npy_files(directory)"
   ]
  },
  {
   "cell_type": "code",
   "execution_count": null,
   "metadata": {},
   "outputs": [],
   "source": [
    "analyze_npy_files(\"/tmp/mask_data\")"
   ]
  },
  {
   "cell_type": "code",
   "execution_count": null,
   "metadata": {},
   "outputs": [],
   "source": []
  },
  {
   "cell_type": "code",
   "execution_count": 7,
   "metadata": {},
   "outputs": [
    {
     "ename": "ModuleNotFoundError",
     "evalue": "No module named 'cv2'",
     "output_type": "error",
     "traceback": [
      "\u001b[0;31m---------------------------------------------------------------------------\u001b[0m",
      "\u001b[0;31mModuleNotFoundError\u001b[0m                       Traceback (most recent call last)",
      "Cell \u001b[0;32mIn[7], line 3\u001b[0m\n\u001b[1;32m      1\u001b[0m \u001b[38;5;28;01mimport\u001b[39;00m \u001b[38;5;21;01mnumpy\u001b[39;00m \u001b[38;5;28;01mas\u001b[39;00m \u001b[38;5;21;01mnp\u001b[39;00m\n\u001b[1;32m      2\u001b[0m \u001b[38;5;28;01mfrom\u001b[39;00m \u001b[38;5;21;01mpathlib\u001b[39;00m \u001b[38;5;28;01mimport\u001b[39;00m Path\n\u001b[0;32m----> 3\u001b[0m \u001b[38;5;28;01mimport\u001b[39;00m \u001b[38;5;21;01mcv2\u001b[39;00m\n\u001b[1;32m      4\u001b[0m \u001b[38;5;28;01mimport\u001b[39;00m \u001b[38;5;21;01mrandom\u001b[39;00m\n\u001b[1;32m      6\u001b[0m \u001b[38;5;28;01mdef\u001b[39;00m \u001b[38;5;21mconvert_npy_to_png\u001b[39m(npy_file, png_file, mode\u001b[38;5;241m=\u001b[39m\u001b[38;5;124m\"\u001b[39m\u001b[38;5;124mcolor\u001b[39m\u001b[38;5;124m\"\u001b[39m):\n",
      "\u001b[0;31mModuleNotFoundError\u001b[0m: No module named 'cv2'"
     ]
    }
   ],
   "source": [
    "import numpy as np\n",
    "from pathlib import Path\n",
    "import cv2\n",
    "import random\n",
    "\n",
    "def convert_npy_to_png(npy_file, png_file, mode=\"color\"):\n",
    "    \"\"\"\n",
    "    Convert a mask .npy file to a .png image.\n",
    "    Modes:\n",
    "    - \"grayscale\": Normalize values to 0-255 range.\n",
    "    - \"binary\": Convert nonzero values to 255.\n",
    "    - \"color\": Assign each unique value a random color.\n",
    "    \"\"\"\n",
    "    mask = np.load(npy_file)\n",
    "    unique_values = np.unique(mask)\n",
    "    \n",
    "    if mode == \"grayscale\":\n",
    "        mask_normalized = (mask / mask.max() * 255).astype(np.uint8)\n",
    "        cv2.imwrite(str(png_file), mask_normalized)\n",
    "    \n",
    "    elif mode == \"binary\":\n",
    "        binary_mask = np.where(mask > 0, 255, 0).astype(np.uint8)\n",
    "        cv2.imwrite(str(png_file), binary_mask)\n",
    "    \n",
    "    elif mode == \"color\":\n",
    "        h, w = mask.shape\n",
    "        color_mask = np.zeros((h, w, 3), dtype=np.uint8)\n",
    "        \n",
    "        color_map = {val: [random.randint(0, 255) for _ in range(3)] for val in unique_values if val != 0}\n",
    "        for val, color in color_map.items():\n",
    "            color_mask[mask == val] = color\n",
    "        \n",
    "        cv2.imwrite(str(png_file), cv2.cvtColor(color_mask, cv2.COLOR_RGB2BGR))\n",
    "    \n",
    "    print(f\"Saved: {png_file}\")\n",
    "\n",
    "def process_npy_directory(input_dir, output_dir, mode=\"color\"):\n",
    "    \"\"\"Process all .npy files in a directory and convert them to PNG.\"\"\"\n",
    "    input_dir = Path(input_dir)\n",
    "    output_dir = Path(output_dir)\n",
    "    output_dir.mkdir(parents=True, exist_ok=True)\n",
    "    \n",
    "    npy_files = list(input_dir.glob(\"*.npy\"))\n",
    "    for npy_file in npy_files:\n",
    "        png_file = output_dir / (npy_file.stem + \".png\")\n",
    "        convert_npy_to_png(npy_file, png_file, mode)\n",
    "\n",
    "# Example usage\n",
    "directory = Path(\"path_to_npy_files\")\n",
    "output_directory = Path(\"path_to_png_files\")\n",
    "process_npy_directory(directory, output_directory, mode=\"color\")\n"
   ]
  }
 ],
 "metadata": {
  "kernelspec": {
   "display_name": "nst-tts",
   "language": "python",
   "name": "python3"
  },
  "language_info": {
   "codemirror_mode": {
    "name": "ipython",
    "version": 3
   },
   "file_extension": ".py",
   "mimetype": "text/x-python",
   "name": "python",
   "nbconvert_exporter": "python",
   "pygments_lexer": "ipython3",
   "version": "3.10.9"
  }
 },
 "nbformat": 4,
 "nbformat_minor": 2
}
