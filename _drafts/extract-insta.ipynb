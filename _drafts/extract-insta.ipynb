{
 "cells": [
  {
   "cell_type": "code",
   "execution_count": 4,
   "metadata": {},
   "outputs": [],
   "source": [
    "import lzma"
   ]
  },
  {
   "cell_type": "code",
   "execution_count": 5,
   "metadata": {},
   "outputs": [],
   "source": [
    "from pathlib import Path\n",
    "BASE = Path(\"/Users/joregan/Playing/instascr\")"
   ]
  },
  {
   "cell_type": "code",
   "execution_count": 3,
   "metadata": {},
   "outputs": [],
   "source": [
    "import json"
   ]
  },
  {
   "cell_type": "code",
   "execution_count": 7,
   "metadata": {},
   "outputs": [],
   "source": [
    "from datetime import datetime\n",
    "datestr = datetime.today().strftime('%Y-%m-%d')"
   ]
  },
  {
   "cell_type": "code",
   "execution_count": 8,
   "metadata": {},
   "outputs": [],
   "source": [
    "testf = \"/Users/joregan/Playing/instascr/rachelslasorwilkinson/2022-03-01_18-13-49_UTC.json.xz\"\n",
    "jsons = lzma.open(testf).read().decode('utf-8')\n",
    "data = json.loads(jsons)"
   ]
  },
  {
   "cell_type": "code",
   "execution_count": 20,
   "metadata": {},
   "outputs": [
    {
     "name": "stdout",
     "output_type": "stream",
     "text": [
      "dict_keys(['__typename', 'id', 'gating_info', 'fact_check_overall_rating', 'fact_check_information', 'media_overlay_info', 'sensitivity_friction_info', 'sharing_friction_info', 'dimensions', 'display_url', 'display_resources', 'is_video', 'media_preview', 'tracking_token', 'edge_media_to_tagged_user', 'accessibility_caption', 'edge_media_to_caption', 'shortcode', 'edge_media_to_comment', 'edge_media_to_sponsor_user', 'comments_disabled', 'taken_at_timestamp', 'edge_media_preview_like', 'owner', 'location', 'viewer_has_liked', 'viewer_has_saved', 'viewer_has_saved_to_collection', 'viewer_in_photo_of_you', 'viewer_can_reshare', 'thumbnail_src', 'thumbnail_resources', 'edge_sidecar_to_children'])\n"
     ]
    }
   ],
   "source": [
    "print(data['node'].keys())\n"
   ]
  },
  {
   "cell_type": "code",
   "execution_count": 39,
   "metadata": {},
   "outputs": [],
   "source": [
    "testf = '/Users/joregan/Playing/instascr/mollyryanxo/2020-06-06_20-36-58_UTC.json.xz'\n",
    "jsons = lzma.open(testf).read().decode('utf-8')\n",
    "data = json.loads(jsons)\n",
    "username = data['node']['owner']['username']\n",
    "#for edge in data['node']['edge_sidecar_to_children']['edges']:\n",
    "#    if 'video_url' in edge['node']:\n",
    "#        print(edge['node']['video_url'])\n"
   ]
  },
  {
   "cell_type": "code",
   "execution_count": 29,
   "metadata": {},
   "outputs": [
    {
     "name": "stdout",
     "output_type": "stream",
     "text": [
      "https://scontent-dub4-1.cdninstagram.com/v/t51.2885-15/275074126_352610096762268_1305936557360312335_n.jpg?stp=dst-jpg_e35_p1080x1080&_nc_ht=scontent-dub4-1.cdninstagram.com&_nc_cat=100&_nc_ohc=9RG3--6H6hgAX_0Nmt5&edm=APU89FABAAAA&ccb=7-4&oh=00_AT_qMUegVPZa1m3SaYrTZ4ByhiAH3lA-ds8ys9qXQXQSaA&oe=62620D13&_nc_sid=86f79a\n",
      "https://scontent-dub4-1.cdninstagram.com/v/t51.2885-15/275141389_496893151969786_1983508562732395331_n.jpg?stp=dst-jpg_e35_p1080x1080&_nc_ht=scontent-dub4-1.cdninstagram.com&_nc_cat=110&_nc_ohc=Bw-WJVNhPiEAX_AVBDN&edm=APU89FABAAAA&ccb=7-4&oh=00_AT9OAEGHJ6oHxPIylxJH9IX6ijjRJp-HQAPDFF1s7Oyh8w&oe=6261869C&_nc_sid=86f79a\n",
      "https://scontent-dub4-1.cdninstagram.com/v/t51.2885-15/274897138_456048366204360_5175526542137831504_n.jpg?stp=dst-jpg_e35_p1080x1080&_nc_ht=scontent-dub4-1.cdninstagram.com&_nc_cat=100&_nc_ohc=73BwNPOF25UAX_WJbk8&edm=APU89FABAAAA&ccb=7-4&oh=00_AT9SEd4MLvW4vfbLOlOfAqRs1MXpkQ-G6W6SfHsPTVHjZg&oe=62619461&_nc_sid=86f79a\n",
      "https://scontent-dub4-1.cdninstagram.com/v/t51.2885-15/274891500_495158312220148_2405529503497302105_n.jpg?stp=dst-jpg_e35_p1080x1080&_nc_ht=scontent-dub4-1.cdninstagram.com&_nc_cat=104&_nc_ohc=5LZQ0nvG3oUAX9_5s3t&edm=APU89FABAAAA&ccb=7-4&oh=00_AT8HjJdQScMVtTvDUSjEg9nHRq0CGzz9pIj3wj6SHRUd0w&oe=6260C11E&_nc_sid=86f79a\n"
     ]
    }
   ],
   "source": [
    "if 'node' not in data:\n",
    "    print(f\"Error reading file\")\n",
    "if 'edge_sidecar_to_children' in data['node']:\n",
    "    for edge in data['node']['edge_sidecar_to_children']['edges']:\n",
    "        print(edge['node']['display_url'])\n",
    "else:\n",
    "    img = data['node']['display_url']\n",
    "    #print(edge)"
   ]
  },
  {
   "cell_type": "code",
   "execution_count": null,
   "metadata": {},
   "outputs": [],
   "source": [
    "with open(f\"/Users/joregan/Playing/281c339a9df000f2a3d734a5d0574401/instascrape-{dateset}.nt\", \"a\") as outf:\n",
    "    for xzfile in BASE.glob(\"**/*.xz\"):\n",
    "        jsons = lzma.open(xzfile).read().decode('utf-8')\n",
    "        data = json.loads(jsons)\n",
    "        print(xzfile)\n"
   ]
  },
  {
   "cell_type": "code",
   "execution_count": null,
   "metadata": {},
   "outputs": [],
   "source": []
  }
 ],
 "metadata": {
  "interpreter": {
   "hash": "dd927b719e572b496e2474453a2ada7f45c90bda9f6c95960374c767a23741c2"
  },
  "kernelspec": {
   "display_name": "Python 3.8.12 ('psst')",
   "language": "python",
   "name": "python3"
  },
  "language_info": {
   "codemirror_mode": {
    "name": "ipython",
    "version": 3
   },
   "file_extension": ".py",
   "mimetype": "text/x-python",
   "name": "python",
   "nbconvert_exporter": "python",
   "pygments_lexer": "ipython3",
   "version": "3.9.7"
  },
  "orig_nbformat": 4
 },
 "nbformat": 4,
 "nbformat_minor": 2
}
