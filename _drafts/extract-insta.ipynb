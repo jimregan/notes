{
 "cells": [
  {
   "cell_type": "code",
   "execution_count": 4,
   "metadata": {},
   "outputs": [],
   "source": [
    "import lzma"
   ]
  },
  {
   "cell_type": "code",
   "execution_count": 5,
   "metadata": {},
   "outputs": [],
   "source": [
    "from pathlib import Path\n",
    "BASE = Path(\"/Users/joregan/Playing/instascr\")"
   ]
  },
  {
   "cell_type": "code",
   "execution_count": 3,
   "metadata": {},
   "outputs": [],
   "source": [
    "import json"
   ]
  },
  {
   "cell_type": "code",
   "execution_count": 50,
   "metadata": {},
   "outputs": [],
   "source": [
    "from datetime import datetime\n",
    "datestr = datetime.today().strftime('%Y%m%d')"
   ]
  },
  {
   "cell_type": "code",
   "execution_count": 20,
   "metadata": {},
   "outputs": [
    {
     "name": "stdout",
     "output_type": "stream",
     "text": [
      "dict_keys(['__typename', 'id', 'gating_info', 'fact_check_overall_rating', 'fact_check_information', 'media_overlay_info', 'sensitivity_friction_info', 'sharing_friction_info', 'dimensions', 'display_url', 'display_resources', 'is_video', 'media_preview', 'tracking_token', 'edge_media_to_tagged_user', 'accessibility_caption', 'edge_media_to_caption', 'shortcode', 'edge_media_to_comment', 'edge_media_to_sponsor_user', 'comments_disabled', 'taken_at_timestamp', 'edge_media_preview_like', 'owner', 'location', 'viewer_has_liked', 'viewer_has_saved', 'viewer_has_saved_to_collection', 'viewer_in_photo_of_you', 'viewer_can_reshare', 'thumbnail_src', 'thumbnail_resources', 'edge_sidecar_to_children'])\n"
     ]
    }
   ],
   "source": [
    "print(data['node'].keys())\n"
   ]
  },
  {
   "cell_type": "code",
   "execution_count": 39,
   "metadata": {},
   "outputs": [],
   "source": [
    "testf = '/Users/joregan/Playing/instascr/mollyryanxo/2020-06-06_20-36-58_UTC.json.xz'\n",
    "jsons = lzma.open(testf).read().decode('utf-8')\n",
    "data = json.loads(jsons)\n",
    "username = data['node']['owner']['username']\n",
    "#for edge in data['node']['edge_sidecar_to_children']['edges']:\n",
    "#    if 'video_url' in edge['node']:\n",
    "#        print(edge['node']['video_url'])\n"
   ]
  },
  {
   "cell_type": "code",
   "execution_count": 40,
   "metadata": {},
   "outputs": [],
   "source": [
    "def get_from_data(data):\n",
    "    urls = set()\n",
    "    if 'node' not in data:\n",
    "        print(f\"Error reading file\")\n",
    "    if 'edge_sidecar_to_children' in data['node']:\n",
    "        for edge in data['node']['edge_sidecar_to_children']['edges']:\n",
    "            urls.add(edge['node']['display_url'])\n",
    "            if 'video_url' in data['node']:\n",
    "                urls.add(data['node']['video_url'])            \n",
    "    urls.add(data['node']['display_url'])\n",
    "    if 'video_url' in data['node']:\n",
    "        urls.add(data['node']['video_url'])\n",
    "    return list(urls)"
   ]
  },
  {
   "cell_type": "code",
   "execution_count": null,
   "metadata": {},
   "outputs": [],
   "source": [
    "get_from_data(data)"
   ]
  },
  {
   "cell_type": "code",
   "execution_count": 55,
   "metadata": {},
   "outputs": [],
   "source": [
    "datestr = \"20220417\""
   ]
  },
  {
   "cell_type": "code",
   "execution_count": null,
   "metadata": {},
   "outputs": [],
   "source": [
    "with open(f\"/Users/joregan/Playing/281c339a9df000f2a3d734a5d0574401/instascrape-{datestr}.nt\", \"a\") as outf:\n",
    "    for xzfile in BASE.glob(\"**/*.xz\"):\n",
    "        jsons = lzma.open(xzfile).read().decode('utf-8')\n",
    "        data = json.loads(jsons)\n",
    "        if not 'owner' in data['node']:\n",
    "            print(f\"Skipping {str(xzfile)}\")\n",
    "            continue\n",
    "        username = data['node']['owner']['username']\n",
    "        short = data['node']['shortcode']\n",
    "        urls = get_from_data(data)\n",
    "        for url in urls:\n",
    "            outf.write(f\"<{url}> <http://xmlns.com/foaf/0.1/page> <https://www.instagram.com/p/{short}/?taken-by={username}>\\n\")\n",
    "        "
   ]
  }
 ],
 "metadata": {
  "interpreter": {
   "hash": "dd927b719e572b496e2474453a2ada7f45c90bda9f6c95960374c767a23741c2"
  },
  "kernelspec": {
   "display_name": "Python 3.8.12 ('psst')",
   "language": "python",
   "name": "python3"
  },
  "language_info": {
   "codemirror_mode": {
    "name": "ipython",
    "version": 3
   },
   "file_extension": ".py",
   "mimetype": "text/x-python",
   "name": "python",
   "nbconvert_exporter": "python",
   "pygments_lexer": "ipython3",
   "version": "3.9.7"
  },
  "orig_nbformat": 4
 },
 "nbformat": 4,
 "nbformat_minor": 2
}
