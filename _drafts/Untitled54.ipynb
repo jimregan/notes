{
  "cells": [
    {
      "cell_type": "code",
      "execution_count": 1,
      "metadata": {
        "id": "gq4eL7Xj9psB"
      },
      "outputs": [],
      "source": [
        "%%capture\n",
        "!pip install stanza"
      ]
    },
    {
      "cell_type": "code",
      "execution_count": 2,
      "metadata": {
        "id": "PHI6wzlqAk3t"
      },
      "outputs": [],
      "source": [
        "import urllib.parse, urllib.request, json, sys\n",
        "import stanza"
      ]
    },
    {
      "cell_type": "code",
      "execution_count": 3,
      "metadata": {
        "id": "a-aFOYu_AoGu"
      },
      "outputs": [],
      "source": [
        "STD_API = \"https://cadhan.com/api/intergaelic/3.0\"\n",
        "\n",
        "def standardise(text: str, lang: str = \"ga\"):\n",
        "    \"\"\"Return a list of (orig_tok, std_tok) pairs from Intergaelic.\"\"\"\n",
        "    data   = urllib.parse.urlencode({\"foinse\": lang, \"teacs\": text}).encode()\n",
        "    hdrs   = {\"Content-Type\": \"application/x-www-form-urlencoded\",\n",
        "              \"Accept\":        \"application/json\"}\n",
        "    req    = urllib.request.Request(STD_API, data, hdrs)\n",
        "    with urllib.request.urlopen(req) as resp:\n",
        "        return json.loads(resp.read())"
      ]
    },
    {
      "cell_type": "code",
      "source": [
        "standardise(\"Do bhris me e.\")"
      ],
      "metadata": {
        "colab": {
          "base_uri": "https://localhost:8080/"
        },
        "id": "OLh_3QX59gBZ",
        "outputId": "bb2894e1-3c7a-4b80-fe94-ac83c4722db3"
      },
      "execution_count": 10,
      "outputs": [
        {
          "output_type": "execute_result",
          "data": {
            "text/plain": [
              "[['Do bhris', 'Bhris'], ['me', 'mé'], ['e', 'é'], ['.', '.']]"
            ]
          },
          "metadata": {},
          "execution_count": 10
        }
      ]
    },
    {
      "cell_type": "code",
      "execution_count": 14,
      "metadata": {
        "id": "a1WtCT_ZArRt"
      },
      "outputs": [],
      "source": [
        "stanza.download(\"ga\", processors=\"tokenize,pos,lemma,depparse\", verbose=False)\n",
        "\n",
        "nlp = stanza.Pipeline(\n",
        "    lang=\"ga\",\n",
        "    processors=\"tokenize,pos,lemma,depparse\",\n",
        "    # Let Stanza decide sentences & tokens\n",
        "    tokenize_pretokenized=True,\n",
        "    no_ssplit=True,\n",
        "    verbose=False\n",
        ")"
      ]
    },
    {
      "cell_type": "code",
      "execution_count": 6,
      "metadata": {
        "id": "knN_HAk5Auzx"
      },
      "outputs": [],
      "source": [
        "from itertools import groupby\n",
        "from typing import List, Tuple\n",
        "\n",
        "def _split_std(std: str, orig: str) -> List[str]:\n",
        "    \"\"\"Return the token(s) that should feed Stanza for this pair.\"\"\"\n",
        "    if not std.strip():\n",
        "        return [orig]\n",
        "    return std.split()\n",
        "\n",
        "def _sentences_from_pairs(pairs: List[Tuple[str, str]]):\n",
        "    \"\"\"Very light sentence splitter: keep everything up to . ! ?\"\"\"\n",
        "    sent, buf = [], []\n",
        "    for i, (orig, std) in enumerate(pairs):\n",
        "        parts = _split_std(std, orig)\n",
        "        for j, part in enumerate(parts):\n",
        "            buf.append((i, j, len(parts), orig, part))\n",
        "            if part in {\".\", \"!\", \"?\"}:\n",
        "                sent.append(buf);  buf = []\n",
        "    if buf:\n",
        "        sent.append(buf)\n",
        "    return sent\n",
        "\n",
        "def project_with_stanza(raw_text: str, lang: str = \"ga\") -> str:\n",
        "    pairs  = standardise(raw_text, lang)\n",
        "\n",
        "    sents  = _sentences_from_pairs(pairs)\n",
        "    pretok = [[m[4] for m in sent] for sent in sents]\n",
        "\n",
        "    doc = nlp(pretok)\n",
        "\n",
        "    conllu_lines = []\n",
        "    for sid, (sent_map, sent_doc) in enumerate(zip(sents, doc.sentences), 1):\n",
        "        raw_slice = [m[3] for m in sent_map if m[1] == 0]\n",
        "        std_slice = [m[4] for m in sent_map]\n",
        "        conllu_lines += [\n",
        "            f\"# sent_id = {sid}\",\n",
        "            f\"# text = {' '.join(raw_slice)}\",\n",
        "            f\"# text_standard = {' '.join(std_slice)}\",\n",
        "        ]\n",
        "\n",
        "        # token lines\n",
        "        widx = 0\n",
        "        tid  = 1\n",
        "        for m in sent_map:\n",
        "            orig_i, sub_i, n_sub, orig_tok, std_tok = m\n",
        "            word = sent_doc.words[widx]\n",
        "\n",
        "            if sub_i == 0 and n_sub > 1:\n",
        "                conllu_lines.append(f\"{tid}-{tid+n_sub-1}\\t{orig_tok}\\t_\\t_\\t_\\t_\\t_\\t_\\t_\\t_\")\n",
        "\n",
        "            form = orig_tok if n_sub == 1 else std_tok\n",
        "\n",
        "            conllu_lines.append(\"\\t\".join([\n",
        "                str(tid),\n",
        "                form,\n",
        "                word.lemma or \"_\",\n",
        "                word.upos  or \"_\",\n",
        "                word.xpos  or \"_\",\n",
        "                word.feats or \"_\",\n",
        "                str(word.head) if word.head else \"_\",\n",
        "                word.deprel or \"_\",\n",
        "                \"_\",\n",
        "                \"_\",\n",
        "            ]))\n",
        "\n",
        "            widx += 1\n",
        "            tid  += 1\n",
        "        conllu_lines.append(\"\")\n",
        "\n",
        "    return \"\\n\".join(conllu_lines)\n"
      ]
    },
    {
      "cell_type": "code",
      "source": [
        "PAGE = \"\"\"Maidin amháin, chuaigh gamal as Gúra amach chun\n",
        "connadh a bhailiú. Shiúil sé leis thar an machaire gur tháinig\n",
        "sé go dtí crann mór ológ cois abhann.\n",
        "\n",
        "Dhreap sé an crann agus shuigh sé faoi ar an ngéag ba mhó ar\n",
        "an gcrann. Nuair a bhraith sé ar a shocracht ar an ngéag,\n",
        "thosaigh sé á bualadh le tua.\n",
        "\n",
        "Ghabh an sagart thar bráid. D'fhéach sé in airde agus labhair\n",
        "leis an ngamal:\n",
        "\n",
        "\"A dheartháirín ó, cad atá ar bun agat?\" ar sé os ard. \"Ní mar\n",
        "sin a ghearrtar adhmad!\"\n",
        "\n",
        "\"Níl aon bhealach eile ann, a Athair,\" arsa an gamal.\n",
        "\"Caithfear an tua a ardú agus é a bhualadh anuas ar an\n",
        "adhmad!\"\n",
        "\n",
        "\"Ach tá tú i do shuí ar an ngéag atá á gearradh agat! Brisfidh\n",
        "an ghéag, agus nuair a bhrisfidh titfidh tusa go talamh agus\n",
        "marófar thú,” arsa an sagart.\n",
        "\"\"\""
      ],
      "metadata": {
        "id": "Bjso2N2Z8SQh"
      },
      "execution_count": 7,
      "outputs": []
    },
    {
      "cell_type": "code",
      "source": [
        "paras = [x.replace(\"\\n\", \" \") for x in PAGE.split(\"\\n\\n\")]"
      ],
      "metadata": {
        "id": "IKupmgct-b-Q"
      },
      "execution_count": 11,
      "outputs": []
    },
    {
      "cell_type": "code",
      "source": [
        "paras"
      ],
      "metadata": {
        "colab": {
          "base_uri": "https://localhost:8080/"
        },
        "id": "G_fngHpD-lSn",
        "outputId": "6260c241-15bb-4fa7-cbbc-a46c6b60db84"
      },
      "execution_count": 12,
      "outputs": [
        {
          "output_type": "execute_result",
          "data": {
            "text/plain": [
              "['Maidin amháin, chuaigh gamal as Gúra amach chun connadh a bhailiú. Shiúil sé leis thar an machaire gur tháinig sé go dtí crann mór ológ cois abhann.',\n",
              " 'Dhreap sé an crann agus shuigh sé faoi ar an ngéag ba mhó ar an gcrann. Nuair a bhraith sé ar a shocracht ar an ngéag, thosaigh sé á bualadh le tua.',\n",
              " \"Ghabh an sagart thar bráid. D'fhéach sé in airde agus labhair leis an ngamal:\",\n",
              " '\"A dheartháirín ó, cad atá ar bun agat?\" ar sé os ard. \"Ní mar sin a ghearrtar adhmad!\"',\n",
              " '\"Níl aon bhealach eile ann, a Athair,\" arsa an gamal. \"Caithfear an tua a ardú agus é a bhualadh anuas ar an adhmad!\"',\n",
              " '\"Ach tá tú i do shuí ar an ngéag atá á gearradh agat! Brisfidh an ghéag, agus nuair a bhrisfidh titfidh tusa go talamh agus marófar thú,” arsa an sagart. ']"
            ]
          },
          "metadata": {},
          "execution_count": 12
        }
      ]
    },
    {
      "cell_type": "code",
      "source": [
        "nlp_tok = stanza.Pipeline(\n",
        "    lang=\"ga\",\n",
        "    processors=\"tokenize,pos,lemma,depparse\",\n",
        "    # Let Stanza decide sentences & tokens\n",
        "    tokenize_pretokenized=False,\n",
        "    verbose=False\n",
        ")"
      ],
      "metadata": {
        "id": "tYWPdPb286bi"
      },
      "execution_count": 8,
      "outputs": []
    },
    {
      "cell_type": "code",
      "source": [
        "pp = project_with_stanza(\"E-, ‘firing range’ a mbíonns acub agus é seo agus é siúd.\")"
      ],
      "metadata": {
        "id": "aLotbbK19BRq"
      },
      "execution_count": 21,
      "outputs": []
    },
    {
      "cell_type": "code",
      "source": [
        "print(pp)"
      ],
      "metadata": {
        "colab": {
          "base_uri": "https://localhost:8080/"
        },
        "id": "Qaebm2iUEWe7",
        "outputId": "961e3838-0830-4c4e-d63c-25ee7a44bba2"
      },
      "execution_count": 22,
      "outputs": [
        {
          "output_type": "stream",
          "name": "stdout",
          "text": [
            "# sent_id = 1\n",
            "# text = E - , ‘ firing range ’ a mbíonns acub agus é seo agus é siúd .\n",
            "# text_standard = É - , ‘ firing range ’ a mbíonn acu agus é seo agus é siúd .\n",
            "1\tE\té\tPRON\tPers\tGender=Masc|Number=Sing|Person=3\t_\troot\t_\t_\n",
            "2\t-\t-\tPUNCT\t.\t_\t4\tpunct\t_\t_\n",
            "3\t,\t,\tPUNCT\tPunct\t_\t4\tpunct\t_\t_\n",
            "4\t‘\t‘\tX\tForeign\tForeign=Yes\t1\tparataxis\t_\t_\n",
            "5\tfiring\tfiring\tX\tForeign\tForeign=Yes\t4\tflat:foreign\t_\t_\n",
            "6\trange\trange\tX\tForeign\tForeign=Yes\t4\tflat:foreign\t_\t_\n",
            "7\t’\t’\tPUNCT\tPunct\t_\t9\tpunct\t_\t_\n",
            "8\ta\ta\tPART\tVb\tForm=Indirect|PartType=Vb|PronType=Rel\t9\tmark:prt\t_\t_\n",
            "9\tmbíonns\tbí\tVERB\tPresImp\tAspect=Hab|Form=Ecl|Mood=Ind|Tense=Pres\t4\tacl:relcl\t_\t_\n",
            "10\tacub\tag\tADP\tPrep\tNumber=Plur|Person=3\t9\tobl:prep\t_\t_\n",
            "11\tagus\tagus\tCCONJ\tCoord\t_\t12\tcc\t_\t_\n",
            "12\té\té\tPRON\tPers\tGender=Masc|Number=Sing|Person=3\t1\tconj\t_\t_\n",
            "13\tseo\tseo\tPRON\tDem\tPronType=Dem\t12\tdet\t_\t_\n",
            "14\tagus\tagus\tSCONJ\tSubord\t_\t15\tmark\t_\t_\n",
            "15\té\té\tPRON\tPers\tGender=Masc|Number=Sing|Person=3\t12\tconj\t_\t_\n",
            "16\tsiúd\tsiúd\tPRON\tDem\tPronType=Dem\t15\tdet\t_\t_\n",
            "17\t.\t.\tPUNCT\t.\t_\t1\tpunct\t_\t_\n",
            "\n"
          ]
        }
      ]
    },
    {
      "cell_type": "code",
      "source": [
        "nlp_tok(\"E-, ‘firing range’ a mbíonns acu agus é seo agus é siúd.\")"
      ],
      "metadata": {
        "id": "e1pz-gmRGUX4"
      },
      "execution_count": null,
      "outputs": []
    },
    {
      "cell_type": "code",
      "source": [
        "from stanza.pipeline.processor import ProcessorVariant, Processor, register_processor_variant, register_processor\n",
        "from stanza.pipeline._constants import *\n",
        "\n",
        "@register_processor(\"custompos\")\n",
        "class CustomPOSProcessor(Processor):\n",
        "    REQUI\n",
        "    _provides = set(['pos'])\n",
        "    def __init__(self,  device, config, pipeline):\n",
        "        super().__init__(device, config, pipeline)\n",
        "        # Custom POS/morphological data\n",
        "        self.pos_data = {\n",
        "            \"e-\": {\"upos\": \"INTJ\", \"xpos\": \"Itj\"},\n",
        "            \"u-\": {\"upos\": \"INTJ\", \"xpos\": \"Itj\"}\n",
        "        }\n",
        "\n",
        "    def process(self, doc):\n",
        "        for sentence in doc.sentences:\n",
        "            for word in sentence.words:\n",
        "                if word.text in self.pos_data:\n",
        "                    word.upos = self.pos_data[word.text][\"upos\"]\n",
        "                    word.xpos = self.pos_data[word.text][\"xpos\"]\n",
        "                    if \"feats\" in self.pos_data[word.text]:\n",
        "                        word.feats = self.pos_data[word.text][\"feats\"]\n",
        "        return doc\n"
      ],
      "metadata": {
        "id": "hpHYo0l5KnUe"
      },
      "execution_count": 57,
      "outputs": []
    },
    {
      "cell_type": "code",
      "source": [
        "nlp_custom = stanza.Pipeline(\n",
        "    lang=\"ga\",\n",
        "    processors=\"tokenize,pos,custompos,lemma,depparse\",\n",
        "    tokenize_pretokenized=False,\n",
        "    verbose=False,\n",
        "    pos={\"variant\": \"custompos\"}\n",
        ")"
      ],
      "metadata": {
        "colab": {
          "base_uri": "https://localhost:8080/",
          "height": 365
        },
        "id": "josldV0ANpas",
        "outputId": "77344f61-0dea-4d44-f12f-591bdd378d99"
      },
      "execution_count": 58,
      "outputs": [
        {
          "output_type": "error",
          "ename": "AttributeError",
          "evalue": "type object 'CustomPOSProcessor' has no attribute 'PROVIDES_DEFAULT'",
          "traceback": [
            "\u001b[0;31m---------------------------------------------------------------------------\u001b[0m",
            "\u001b[0;31mAttributeError\u001b[0m                            Traceback (most recent call last)",
            "\u001b[0;32m<ipython-input-58-0919676e2324>\u001b[0m in \u001b[0;36m<cell line: 0>\u001b[0;34m()\u001b[0m\n\u001b[0;32m----> 1\u001b[0;31m nlp_custom = stanza.Pipeline(\n\u001b[0m\u001b[1;32m      2\u001b[0m     \u001b[0mlang\u001b[0m\u001b[0;34m=\u001b[0m\u001b[0;34m\"ga\"\u001b[0m\u001b[0;34m,\u001b[0m\u001b[0;34m\u001b[0m\u001b[0;34m\u001b[0m\u001b[0m\n\u001b[1;32m      3\u001b[0m     \u001b[0mprocessors\u001b[0m\u001b[0;34m=\u001b[0m\u001b[0;34m\"tokenize,pos,custompos,lemma,depparse\"\u001b[0m\u001b[0;34m,\u001b[0m\u001b[0;34m\u001b[0m\u001b[0;34m\u001b[0m\u001b[0m\n\u001b[1;32m      4\u001b[0m     \u001b[0mtokenize_pretokenized\u001b[0m\u001b[0;34m=\u001b[0m\u001b[0;32mFalse\u001b[0m\u001b[0;34m,\u001b[0m\u001b[0;34m\u001b[0m\u001b[0;34m\u001b[0m\u001b[0m\n\u001b[1;32m      5\u001b[0m     \u001b[0mverbose\u001b[0m\u001b[0;34m=\u001b[0m\u001b[0;32mFalse\u001b[0m\u001b[0;34m,\u001b[0m\u001b[0;34m\u001b[0m\u001b[0;34m\u001b[0m\u001b[0m\n",
            "\u001b[0;32m/usr/local/lib/python3.11/dist-packages/stanza/pipeline/core.py\u001b[0m in \u001b[0;36m__init__\u001b[0;34m(self, lang, dir, package, processors, logging_level, verbose, use_gpu, model_dir, download_method, resources_url, resources_branch, resources_version, resources_filepath, proxies, foundation_cache, device, allow_unknown_language, **kwargs)\u001b[0m\n\u001b[1;32m    306\u001b[0m             \u001b[0;32mtry\u001b[0m\u001b[0;34m:\u001b[0m\u001b[0;34m\u001b[0m\u001b[0;34m\u001b[0m\u001b[0m\n\u001b[1;32m    307\u001b[0m                 \u001b[0;31m# try to build processor, throw an exception if there is a requirements issue\u001b[0m\u001b[0;34m\u001b[0m\u001b[0;34m\u001b[0m\u001b[0m\n\u001b[0;32m--> 308\u001b[0;31m                 self.processors[processor_name] = NAME_TO_PROCESSOR_CLASS[processor_name](config=curr_processor_config,\n\u001b[0m\u001b[1;32m    309\u001b[0m                                                                                           \u001b[0mpipeline\u001b[0m\u001b[0;34m=\u001b[0m\u001b[0mself\u001b[0m\u001b[0;34m,\u001b[0m\u001b[0;34m\u001b[0m\u001b[0;34m\u001b[0m\u001b[0m\n\u001b[1;32m    310\u001b[0m                                                                                           device=self.device)\n",
            "\u001b[0;32m<ipython-input-57-2f164bbb5041>\u001b[0m in \u001b[0;36m__init__\u001b[0;34m(self, device, config, pipeline)\u001b[0m\n\u001b[1;32m      6\u001b[0m     \u001b[0m_provides\u001b[0m \u001b[0;34m=\u001b[0m \u001b[0mset\u001b[0m\u001b[0;34m(\u001b[0m\u001b[0;34m[\u001b[0m\u001b[0;34m'pos'\u001b[0m\u001b[0;34m]\u001b[0m\u001b[0;34m)\u001b[0m\u001b[0;34m\u001b[0m\u001b[0;34m\u001b[0m\u001b[0m\n\u001b[1;32m      7\u001b[0m     \u001b[0;32mdef\u001b[0m \u001b[0m__init__\u001b[0m\u001b[0;34m(\u001b[0m\u001b[0mself\u001b[0m\u001b[0;34m,\u001b[0m  \u001b[0mdevice\u001b[0m\u001b[0;34m,\u001b[0m \u001b[0mconfig\u001b[0m\u001b[0;34m,\u001b[0m \u001b[0mpipeline\u001b[0m\u001b[0;34m)\u001b[0m\u001b[0;34m:\u001b[0m\u001b[0;34m\u001b[0m\u001b[0;34m\u001b[0m\u001b[0m\n\u001b[0;32m----> 8\u001b[0;31m         \u001b[0msuper\u001b[0m\u001b[0;34m(\u001b[0m\u001b[0;34m)\u001b[0m\u001b[0;34m.\u001b[0m\u001b[0m__init__\u001b[0m\u001b[0;34m(\u001b[0m\u001b[0mdevice\u001b[0m\u001b[0;34m,\u001b[0m \u001b[0mconfig\u001b[0m\u001b[0;34m,\u001b[0m \u001b[0mpipeline\u001b[0m\u001b[0;34m)\u001b[0m\u001b[0;34m\u001b[0m\u001b[0;34m\u001b[0m\u001b[0m\n\u001b[0m\u001b[1;32m      9\u001b[0m         \u001b[0;31m# Custom POS/morphological data\u001b[0m\u001b[0;34m\u001b[0m\u001b[0;34m\u001b[0m\u001b[0m\n\u001b[1;32m     10\u001b[0m         self.pos_data = {\n",
            "\u001b[0;32m/usr/local/lib/python3.11/dist-packages/stanza/pipeline/processor.py\u001b[0m in \u001b[0;36m__init__\u001b[0;34m(self, config, pipeline, device)\u001b[0m\n\u001b[1;32m     58\u001b[0m         \u001b[0;31m# pipeline building this processor (presently processors are only meant to exist in one pipeline)\u001b[0m\u001b[0;34m\u001b[0m\u001b[0;34m\u001b[0m\u001b[0m\n\u001b[1;32m     59\u001b[0m         \u001b[0mself\u001b[0m\u001b[0;34m.\u001b[0m\u001b[0m_pipeline\u001b[0m \u001b[0;34m=\u001b[0m \u001b[0mpipeline\u001b[0m\u001b[0;34m\u001b[0m\u001b[0;34m\u001b[0m\u001b[0m\n\u001b[0;32m---> 60\u001b[0;31m         \u001b[0mself\u001b[0m\u001b[0;34m.\u001b[0m\u001b[0m_set_up_variants\u001b[0m\u001b[0;34m(\u001b[0m\u001b[0mconfig\u001b[0m\u001b[0;34m,\u001b[0m \u001b[0mdevice\u001b[0m\u001b[0;34m)\u001b[0m\u001b[0;34m\u001b[0m\u001b[0;34m\u001b[0m\u001b[0m\n\u001b[0m\u001b[1;32m     61\u001b[0m         \u001b[0;31m# run set up process\u001b[0m\u001b[0;34m\u001b[0m\u001b[0;34m\u001b[0m\u001b[0m\n\u001b[1;32m     62\u001b[0m         \u001b[0;31m# set up what annotations are required based on config\u001b[0m\u001b[0;34m\u001b[0m\u001b[0;34m\u001b[0m\u001b[0m\n",
            "\u001b[0;32m/usr/local/lib/python3.11/dist-packages/stanza/pipeline/processor.py\u001b[0m in \u001b[0;36m_set_up_variants\u001b[0;34m(self, config, device)\u001b[0m\n\u001b[1;32m    124\u001b[0m \u001b[0;34m\u001b[0m\u001b[0m\n\u001b[1;32m    125\u001b[0m     \u001b[0;32mdef\u001b[0m \u001b[0m_set_up_variants\u001b[0m\u001b[0;34m(\u001b[0m\u001b[0mself\u001b[0m\u001b[0;34m,\u001b[0m \u001b[0mconfig\u001b[0m\u001b[0;34m,\u001b[0m \u001b[0mdevice\u001b[0m\u001b[0;34m)\u001b[0m\u001b[0;34m:\u001b[0m\u001b[0;34m\u001b[0m\u001b[0;34m\u001b[0m\u001b[0m\n\u001b[0;32m--> 126\u001b[0;31m         \u001b[0mprocessor_name\u001b[0m \u001b[0;34m=\u001b[0m \u001b[0mlist\u001b[0m\u001b[0;34m(\u001b[0m\u001b[0mself\u001b[0m\u001b[0;34m.\u001b[0m\u001b[0m__class__\u001b[0m\u001b[0;34m.\u001b[0m\u001b[0mPROVIDES_DEFAULT\u001b[0m\u001b[0;34m)\u001b[0m\u001b[0;34m[\u001b[0m\u001b[0;36m0\u001b[0m\u001b[0;34m]\u001b[0m\u001b[0;34m\u001b[0m\u001b[0;34m\u001b[0m\u001b[0m\n\u001b[0m\u001b[1;32m    127\u001b[0m         \u001b[0;32mif\u001b[0m \u001b[0many\u001b[0m\u001b[0;34m(\u001b[0m\u001b[0mconfig\u001b[0m\u001b[0;34m.\u001b[0m\u001b[0mget\u001b[0m\u001b[0;34m(\u001b[0m\u001b[0;34mf'with_{variant}'\u001b[0m\u001b[0;34m,\u001b[0m \u001b[0;32mFalse\u001b[0m\u001b[0;34m)\u001b[0m \u001b[0;32mfor\u001b[0m \u001b[0mvariant\u001b[0m \u001b[0;32min\u001b[0m \u001b[0mPROCESSOR_VARIANTS\u001b[0m\u001b[0;34m[\u001b[0m\u001b[0mprocessor_name\u001b[0m\u001b[0;34m]\u001b[0m\u001b[0;34m)\u001b[0m\u001b[0;34m:\u001b[0m\u001b[0;34m\u001b[0m\u001b[0;34m\u001b[0m\u001b[0m\n\u001b[1;32m    128\u001b[0m             \u001b[0mself\u001b[0m\u001b[0;34m.\u001b[0m\u001b[0m_trainer\u001b[0m \u001b[0;34m=\u001b[0m \u001b[0;32mNone\u001b[0m\u001b[0;34m\u001b[0m\u001b[0;34m\u001b[0m\u001b[0m\n",
            "\u001b[0;31mAttributeError\u001b[0m: type object 'CustomPOSProcessor' has no attribute 'PROVIDES_DEFAULT'"
          ]
        }
      ]
    },
    {
      "cell_type": "code",
      "source": [
        "nlp_custom(\"E-, ‘firing range’ a mbíonns acu agus é seo agus é siúd.\")"
      ],
      "metadata": {
        "colab": {
          "base_uri": "https://localhost:8080/"
        },
        "id": "BtSUpAgWOMV5",
        "outputId": "4fd5b97e-5101-424e-b3da-5aeff4bd3934"
      },
      "execution_count": 51,
      "outputs": [
        {
          "output_type": "execute_result",
          "data": {
            "text/plain": [
              "[\n",
              "  [\n",
              "    {\n",
              "      \"id\": 1,\n",
              "      \"text\": \"E-\",\n",
              "      \"lemma\": \"E-\",\n",
              "      \"upos\": \"NUM\",\n",
              "      \"xpos\": \"Num\",\n",
              "      \"head\": 0,\n",
              "      \"deprel\": \"root\",\n",
              "      \"start_char\": 0,\n",
              "      \"end_char\": 2,\n",
              "      \"misc\": \"SpaceAfter=No\"\n",
              "    },\n",
              "    {\n",
              "      \"id\": 2,\n",
              "      \"text\": \",\",\n",
              "      \"lemma\": \",\",\n",
              "      \"upos\": \"PUNCT\",\n",
              "      \"xpos\": \"Punct\",\n",
              "      \"head\": 3,\n",
              "      \"deprel\": \"punct\",\n",
              "      \"start_char\": 2,\n",
              "      \"end_char\": 3\n",
              "    },\n",
              "    {\n",
              "      \"id\": 3,\n",
              "      \"text\": \"‘\",\n",
              "      \"lemma\": \"‘\",\n",
              "      \"upos\": \"X\",\n",
              "      \"xpos\": \"Foreign\",\n",
              "      \"feats\": \"Foreign=Yes\",\n",
              "      \"head\": 1,\n",
              "      \"deprel\": \"parataxis\",\n",
              "      \"start_char\": 4,\n",
              "      \"end_char\": 5,\n",
              "      \"misc\": \"SpaceAfter=No\"\n",
              "    },\n",
              "    {\n",
              "      \"id\": 4,\n",
              "      \"text\": \"firing\",\n",
              "      \"lemma\": \"firing\",\n",
              "      \"upos\": \"X\",\n",
              "      \"xpos\": \"Foreign\",\n",
              "      \"feats\": \"Foreign=Yes\",\n",
              "      \"head\": 3,\n",
              "      \"deprel\": \"flat:foreign\",\n",
              "      \"start_char\": 5,\n",
              "      \"end_char\": 11\n",
              "    },\n",
              "    {\n",
              "      \"id\": 5,\n",
              "      \"text\": \"range\",\n",
              "      \"lemma\": \"range\",\n",
              "      \"upos\": \"X\",\n",
              "      \"xpos\": \"Foreign\",\n",
              "      \"feats\": \"Foreign=Yes\",\n",
              "      \"head\": 3,\n",
              "      \"deprel\": \"flat:foreign\",\n",
              "      \"start_char\": 12,\n",
              "      \"end_char\": 17,\n",
              "      \"misc\": \"SpaceAfter=No\"\n",
              "    },\n",
              "    {\n",
              "      \"id\": 6,\n",
              "      \"text\": \"’\",\n",
              "      \"lemma\": \"’\",\n",
              "      \"upos\": \"PUNCT\",\n",
              "      \"xpos\": \"Punct\",\n",
              "      \"head\": 8,\n",
              "      \"deprel\": \"punct\",\n",
              "      \"start_char\": 17,\n",
              "      \"end_char\": 18\n",
              "    },\n",
              "    {\n",
              "      \"id\": 7,\n",
              "      \"text\": \"a\",\n",
              "      \"lemma\": \"a\",\n",
              "      \"upos\": \"PART\",\n",
              "      \"xpos\": \"Vb\",\n",
              "      \"feats\": \"Form=Indirect|PartType=Vb|PronType=Rel\",\n",
              "      \"head\": 8,\n",
              "      \"deprel\": \"mark:prt\",\n",
              "      \"start_char\": 19,\n",
              "      \"end_char\": 20\n",
              "    },\n",
              "    {\n",
              "      \"id\": 8,\n",
              "      \"text\": \"mbíonns\",\n",
              "      \"lemma\": \"bí\",\n",
              "      \"upos\": \"VERB\",\n",
              "      \"xpos\": \"VTI\",\n",
              "      \"feats\": \"Form=Ecl|Mood=Ind|Number=Sing|Person=1|Tense=Past\",\n",
              "      \"head\": 1,\n",
              "      \"deprel\": \"csubj:cleft\",\n",
              "      \"start_char\": 21,\n",
              "      \"end_char\": 28\n",
              "    },\n",
              "    {\n",
              "      \"id\": 9,\n",
              "      \"text\": \"acu\",\n",
              "      \"lemma\": \"ag\",\n",
              "      \"upos\": \"ADP\",\n",
              "      \"xpos\": \"Prep\",\n",
              "      \"feats\": \"Number=Plur|Person=3\",\n",
              "      \"head\": 8,\n",
              "      \"deprel\": \"obl:prep\",\n",
              "      \"start_char\": 29,\n",
              "      \"end_char\": 32\n",
              "    },\n",
              "    {\n",
              "      \"id\": 10,\n",
              "      \"text\": \"agus\",\n",
              "      \"lemma\": \"agus\",\n",
              "      \"upos\": \"CCONJ\",\n",
              "      \"xpos\": \"Coord\",\n",
              "      \"head\": 11,\n",
              "      \"deprel\": \"cc\",\n",
              "      \"start_char\": 33,\n",
              "      \"end_char\": 37\n",
              "    },\n",
              "    {\n",
              "      \"id\": 11,\n",
              "      \"text\": \"é\",\n",
              "      \"lemma\": \"é\",\n",
              "      \"upos\": \"PRON\",\n",
              "      \"xpos\": \"Pers\",\n",
              "      \"feats\": \"Gender=Masc|Number=Sing|Person=3\",\n",
              "      \"head\": 1,\n",
              "      \"deprel\": \"conj\",\n",
              "      \"start_char\": 38,\n",
              "      \"end_char\": 39\n",
              "    },\n",
              "    {\n",
              "      \"id\": 12,\n",
              "      \"text\": \"seo\",\n",
              "      \"lemma\": \"seo\",\n",
              "      \"upos\": \"PRON\",\n",
              "      \"xpos\": \"Dem\",\n",
              "      \"feats\": \"PronType=Dem\",\n",
              "      \"head\": 11,\n",
              "      \"deprel\": \"det\",\n",
              "      \"start_char\": 40,\n",
              "      \"end_char\": 43\n",
              "    },\n",
              "    {\n",
              "      \"id\": 13,\n",
              "      \"text\": \"agus\",\n",
              "      \"lemma\": \"agus\",\n",
              "      \"upos\": \"SCONJ\",\n",
              "      \"xpos\": \"Subord\",\n",
              "      \"head\": 14,\n",
              "      \"deprel\": \"mark\",\n",
              "      \"start_char\": 44,\n",
              "      \"end_char\": 48\n",
              "    },\n",
              "    {\n",
              "      \"id\": 14,\n",
              "      \"text\": \"é\",\n",
              "      \"lemma\": \"é\",\n",
              "      \"upos\": \"PRON\",\n",
              "      \"xpos\": \"Pers\",\n",
              "      \"feats\": \"Gender=Masc|Number=Sing|Person=3\",\n",
              "      \"head\": 11,\n",
              "      \"deprel\": \"conj\",\n",
              "      \"start_char\": 49,\n",
              "      \"end_char\": 50\n",
              "    },\n",
              "    {\n",
              "      \"id\": 15,\n",
              "      \"text\": \"siúd\",\n",
              "      \"lemma\": \"siúd\",\n",
              "      \"upos\": \"PRON\",\n",
              "      \"xpos\": \"Dem\",\n",
              "      \"feats\": \"PronType=Dem\",\n",
              "      \"head\": 14,\n",
              "      \"deprel\": \"det\",\n",
              "      \"start_char\": 51,\n",
              "      \"end_char\": 55,\n",
              "      \"misc\": \"SpaceAfter=No\"\n",
              "    },\n",
              "    {\n",
              "      \"id\": 16,\n",
              "      \"text\": \".\",\n",
              "      \"lemma\": \".\",\n",
              "      \"upos\": \"PUNCT\",\n",
              "      \"xpos\": \".\",\n",
              "      \"head\": 1,\n",
              "      \"deprel\": \"punct\",\n",
              "      \"start_char\": 55,\n",
              "      \"end_char\": 56,\n",
              "      \"misc\": \"SpaceAfter=No\"\n",
              "    }\n",
              "  ]\n",
              "]"
            ]
          },
          "metadata": {},
          "execution_count": 51
        }
      ]
    }
  ],
  "metadata": {
    "colab": {
      "provenance": []
    },
    "kernelspec": {
      "display_name": "Python 3",
      "name": "python3"
    },
    "language_info": {
      "name": "python"
    }
  },
  "nbformat": 4,
  "nbformat_minor": 0
}