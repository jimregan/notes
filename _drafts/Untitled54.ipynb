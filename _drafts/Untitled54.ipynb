{
  "cells": [
    {
      "cell_type": "code",
      "execution_count": 1,
      "metadata": {
        "id": "gq4eL7Xj9psB"
      },
      "outputs": [],
      "source": [
        "%%capture\n",
        "!pip install stanza"
      ]
    },
    {
      "cell_type": "code",
      "execution_count": 3,
      "metadata": {
        "id": "PHI6wzlqAk3t"
      },
      "outputs": [],
      "source": [
        "import urllib.parse, urllib.request, json, sys\n",
        "import stanza"
      ]
    },
    {
      "cell_type": "code",
      "execution_count": 4,
      "metadata": {
        "id": "a-aFOYu_AoGu"
      },
      "outputs": [],
      "source": [
        "STD_API = \"https://cadhan.com/api/intergaelic/3.0\"\n",
        "\n",
        "def standardise(text: str, lang: str = \"ga\"):\n",
        "    \"\"\"Return a list of (orig_tok, std_tok) pairs from Intergaelic.\"\"\"\n",
        "    data   = urllib.parse.urlencode({\"foinse\": lang, \"teacs\": text}).encode()\n",
        "    hdrs   = {\"Content-Type\": \"application/x-www-form-urlencoded\",\n",
        "              \"Accept\":        \"application/json\"}\n",
        "    req    = urllib.request.Request(STD_API, data, hdrs)\n",
        "    with urllib.request.urlopen(req) as resp:\n",
        "        return json.loads(resp.read())"
      ]
    },
    {
      "cell_type": "code",
      "execution_count": 5,
      "metadata": {
        "id": "a1WtCT_ZArRt"
      },
      "outputs": [],
      "source": [
        "stanza.download(\"ga\", processors=\"tokenize,pos,lemma,depparse\", verbose=False)\n",
        "\n",
        "nlp = stanza.Pipeline(\n",
        "    lang=\"ga\",\n",
        "    processors=\"tokenize,pos,lemma,depparse\",\n",
        "    # Let Stanza decide sentences & tokens\n",
        "    tokenize_pretokenized=True,\n",
        "    no_ssplit=True,\n",
        "    verbose=False\n",
        ")"
      ]
    },
    {
      "cell_type": "code",
      "execution_count": 6,
      "metadata": {
        "id": "knN_HAk5Auzx"
      },
      "outputs": [],
      "source": [
        "from itertools import groupby\n",
        "from typing import List, Tuple\n",
        "\n",
        "def _split_std(std: str, orig: str) -> List[str]:\n",
        "    \"\"\"Return the token(s) that should feed Stanza for this pair.\"\"\"\n",
        "    if not std.strip():\n",
        "        return [orig]\n",
        "    return std.split()\n",
        "\n",
        "def _sentences_from_pairs(pairs: List[Tuple[str, str]]):\n",
        "    \"\"\"Very light sentence splitter: keep everything up to . ! ?\"\"\"\n",
        "    sent, buf = [], []\n",
        "    for i, (orig, std) in enumerate(pairs):\n",
        "        parts = _split_std(std, orig)\n",
        "        for j, part in enumerate(parts):\n",
        "            buf.append((i, j, len(parts), orig, part))\n",
        "            if part in {\".\", \"!\", \"?\"}:\n",
        "                sent.append(buf);  buf = []\n",
        "    if buf:\n",
        "        sent.append(buf)\n",
        "    return sent\n",
        "\n",
        "def project_with_stanza(raw_text: str, lang: str = \"ga\") -> str:\n",
        "    pairs  = standardise(raw_text, lang)\n",
        "\n",
        "    sents  = _sentences_from_pairs(pairs)\n",
        "    pretok = [[m[4] for m in sent] for sent in sents]\n",
        "\n",
        "    doc = nlp(pretok)\n",
        "\n",
        "    conllu_lines = []\n",
        "    for sid, (sent_map, sent_doc) in enumerate(zip(sents, doc.sentences), 1):\n",
        "        raw_slice = [m[3] for m in sent_map if m[1] == 0]\n",
        "        std_slice = [m[4] for m in sent_map]\n",
        "        conllu_lines += [\n",
        "            f\"# sent_id = {sid}\",\n",
        "            f\"# text = {' '.join(raw_slice)}\",\n",
        "            f\"# text_standard = {' '.join(std_slice)}\",\n",
        "        ]\n",
        "\n",
        "        # token lines\n",
        "        widx = 0\n",
        "        tid  = 1\n",
        "        for m in sent_map:\n",
        "            orig_i, sub_i, n_sub, orig_tok, std_tok = m\n",
        "            word = sent_doc.words[widx]\n",
        "\n",
        "            if sub_i == 0 and n_sub > 1:\n",
        "                conllu_lines.append(f\"{tid}-{tid+n_sub-1}\\t{orig_tok}\\t_\\t_\\t_\\t_\\t_\\t_\\t_\\t_\")\n",
        "\n",
        "            form = orig_tok if n_sub == 1 else std_tok\n",
        "\n",
        "            conllu_lines.append(\"\\t\".join([\n",
        "                str(tid),\n",
        "                form,\n",
        "                word.lemma or \"_\",\n",
        "                word.upos  or \"_\",\n",
        "                word.xpos  or \"_\",\n",
        "                word.feats or \"_\",\n",
        "                str(word.head) if word.head else \"_\",\n",
        "                word.deprel or \"_\",\n",
        "                \"_\",\n",
        "                \"_\",\n",
        "            ]))\n",
        "\n",
        "            widx += 1\n",
        "            tid  += 1\n",
        "        conllu_lines.append(\"\")\n",
        "\n",
        "    return \"\\n\".join(conllu_lines)\n"
      ]
    },
    {
      "cell_type": "code",
      "source": [
        "PAGE = \"\"\"Maidin amháin, chuaigh gamal as Gúra amach chun\n",
        "connadh a bhailiú. Shiúil sé leis thar an machaire gur tháinig\n",
        "sé go dtí crann mór ológ cois abhann.\n",
        "\n",
        "Dhreap sé an crann agus shuigh sé faoi ar an ngéag ba mhó ar\n",
        "an gcrann. Nuair a bhraith sé ar a shocracht ar an ngéag,\n",
        "thosaigh sé á bualadh le tua.\n",
        "\n",
        "Ghabh an sagart thar bráid. D'fhéach sé in airde agus labhair\n",
        "leis an ngamal:\n",
        "\n",
        "\"A dheartháirín ó, cad atá ar bun agat?\" ar sé os ard. \"Ní mar\n",
        "sin a ghearrtar adhmad!\"\n",
        "\n",
        "\"Níl aon bhealach eile ann, a Athair,\" arsa an gamal.\n",
        "\"Caithfear an tua a ardú agus é a bhualadh anuas ar an\n",
        "adhmad!\"\n",
        "\n",
        "\"Ach tá tú i do shuí ar an ngéag atá á gearradh agat! Brisfidh\n",
        "an ghéag, agus nuair a bhrisfidh titfidh tusa go talamh agus\n",
        "marófar thú,” arsa an sagart.\n",
        "\"\"\""
      ],
      "metadata": {
        "id": "Bjso2N2Z8SQh"
      },
      "execution_count": 7,
      "outputs": []
    },
    {
      "cell_type": "code",
      "source": [
        "paras = [x.replace(\"\\n\", \" \") for x in PAGE.split(\"\\n\\n\")]"
      ],
      "metadata": {
        "id": "IKupmgct-b-Q"
      },
      "execution_count": 11,
      "outputs": []
    },
    {
      "cell_type": "code",
      "source": [
        "paras"
      ],
      "metadata": {
        "colab": {
          "base_uri": "https://localhost:8080/"
        },
        "id": "G_fngHpD-lSn",
        "outputId": "6260c241-15bb-4fa7-cbbc-a46c6b60db84"
      },
      "execution_count": 12,
      "outputs": [
        {
          "output_type": "execute_result",
          "data": {
            "text/plain": [
              "['Maidin amháin, chuaigh gamal as Gúra amach chun connadh a bhailiú. Shiúil sé leis thar an machaire gur tháinig sé go dtí crann mór ológ cois abhann.',\n",
              " 'Dhreap sé an crann agus shuigh sé faoi ar an ngéag ba mhó ar an gcrann. Nuair a bhraith sé ar a shocracht ar an ngéag, thosaigh sé á bualadh le tua.',\n",
              " \"Ghabh an sagart thar bráid. D'fhéach sé in airde agus labhair leis an ngamal:\",\n",
              " '\"A dheartháirín ó, cad atá ar bun agat?\" ar sé os ard. \"Ní mar sin a ghearrtar adhmad!\"',\n",
              " '\"Níl aon bhealach eile ann, a Athair,\" arsa an gamal. \"Caithfear an tua a ardú agus é a bhualadh anuas ar an adhmad!\"',\n",
              " '\"Ach tá tú i do shuí ar an ngéag atá á gearradh agat! Brisfidh an ghéag, agus nuair a bhrisfidh titfidh tusa go talamh agus marófar thú,” arsa an sagart. ']"
            ]
          },
          "metadata": {},
          "execution_count": 12
        }
      ]
    },
    {
      "cell_type": "code",
      "source": [
        "nlp_tok = stanza.Pipeline(\n",
        "    lang=\"ga\",\n",
        "    processors=\"tokenize,pos,lemma,depparse\",\n",
        "    tokenize_pretokenized=False,\n",
        "    verbose=False\n",
        ")"
      ],
      "metadata": {
        "id": "tYWPdPb286bi"
      },
      "execution_count": 7,
      "outputs": []
    },
    {
      "cell_type": "code",
      "source": [
        "pp = project_with_stanza(\"E-, ‘firing range’ a mbíonns acub agus é seo agus é siúd.\")"
      ],
      "metadata": {
        "id": "aLotbbK19BRq"
      },
      "execution_count": 21,
      "outputs": []
    },
    {
      "cell_type": "code",
      "source": [
        "print(pp)"
      ],
      "metadata": {
        "colab": {
          "base_uri": "https://localhost:8080/"
        },
        "id": "Qaebm2iUEWe7",
        "outputId": "961e3838-0830-4c4e-d63c-25ee7a44bba2"
      },
      "execution_count": 22,
      "outputs": [
        {
          "output_type": "stream",
          "name": "stdout",
          "text": [
            "# sent_id = 1\n",
            "# text = E - , ‘ firing range ’ a mbíonns acub agus é seo agus é siúd .\n",
            "# text_standard = É - , ‘ firing range ’ a mbíonn acu agus é seo agus é siúd .\n",
            "1\tE\té\tPRON\tPers\tGender=Masc|Number=Sing|Person=3\t_\troot\t_\t_\n",
            "2\t-\t-\tPUNCT\t.\t_\t4\tpunct\t_\t_\n",
            "3\t,\t,\tPUNCT\tPunct\t_\t4\tpunct\t_\t_\n",
            "4\t‘\t‘\tX\tForeign\tForeign=Yes\t1\tparataxis\t_\t_\n",
            "5\tfiring\tfiring\tX\tForeign\tForeign=Yes\t4\tflat:foreign\t_\t_\n",
            "6\trange\trange\tX\tForeign\tForeign=Yes\t4\tflat:foreign\t_\t_\n",
            "7\t’\t’\tPUNCT\tPunct\t_\t9\tpunct\t_\t_\n",
            "8\ta\ta\tPART\tVb\tForm=Indirect|PartType=Vb|PronType=Rel\t9\tmark:prt\t_\t_\n",
            "9\tmbíonns\tbí\tVERB\tPresImp\tAspect=Hab|Form=Ecl|Mood=Ind|Tense=Pres\t4\tacl:relcl\t_\t_\n",
            "10\tacub\tag\tADP\tPrep\tNumber=Plur|Person=3\t9\tobl:prep\t_\t_\n",
            "11\tagus\tagus\tCCONJ\tCoord\t_\t12\tcc\t_\t_\n",
            "12\té\té\tPRON\tPers\tGender=Masc|Number=Sing|Person=3\t1\tconj\t_\t_\n",
            "13\tseo\tseo\tPRON\tDem\tPronType=Dem\t12\tdet\t_\t_\n",
            "14\tagus\tagus\tSCONJ\tSubord\t_\t15\tmark\t_\t_\n",
            "15\té\té\tPRON\tPers\tGender=Masc|Number=Sing|Person=3\t12\tconj\t_\t_\n",
            "16\tsiúd\tsiúd\tPRON\tDem\tPronType=Dem\t15\tdet\t_\t_\n",
            "17\t.\t.\tPUNCT\t.\t_\t1\tpunct\t_\t_\n",
            "\n"
          ]
        }
      ]
    },
    {
      "cell_type": "code",
      "source": [
        "raw = \"\"\"\n",
        "        Críoch\n",
        "      \"\"\""
      ],
      "metadata": {
        "id": "e1pz-gmRGUX4"
      },
      "execution_count": 2,
      "outputs": []
    },
    {
      "cell_type": "code",
      "source": [
        "lines = \"{:C}\".format(nlp_tok(raw)).split(\"\\n\")\n",
        "print(\"\\n\".join(lines))"
      ],
      "metadata": {
        "colab": {
          "base_uri": "https://localhost:8080/"
        },
        "id": "_FVf_cOHH3NP",
        "outputId": "411d5ac6-4327-483d-c9ec-4949e9a96da9"
      },
      "execution_count": 11,
      "outputs": [
        {
          "output_type": "stream",
          "name": "stdout",
          "text": [
            "# text = Críoch\n",
            "# sent_id = 0\n",
            "1\tCríoch\tcríoch\tNOUN\tNoun\tCase=Nom|Gender=Fem|Number=Sing\t0\troot\t_\tstart_char=9|end_char=15|SpacesAfter=\\n\\s\\s\\s\\s\\s\\s|SpacesBefore=\\n\\s\\s\\s\\s\\s\\s\\s\\s\n"
          ]
        }
      ]
    },
    {
      "cell_type": "code",
      "source": [
        "!pip install pytesseract opencv-python-headless"
      ],
      "metadata": {
        "colab": {
          "base_uri": "https://localhost:8080/"
        },
        "id": "PYDAYg3OJrJG",
        "outputId": "be56da38-887d-4621-d499-2d1b4f9b5d3e"
      },
      "execution_count": 12,
      "outputs": [
        {
          "output_type": "stream",
          "name": "stdout",
          "text": [
            "Collecting pytesseract\n",
            "  Downloading pytesseract-0.3.13-py3-none-any.whl.metadata (11 kB)\n",
            "Requirement already satisfied: opencv-python-headless in /usr/local/lib/python3.11/dist-packages (4.11.0.86)\n",
            "Requirement already satisfied: packaging>=21.3 in /usr/local/lib/python3.11/dist-packages (from pytesseract) (24.2)\n",
            "Requirement already satisfied: Pillow>=8.0.0 in /usr/local/lib/python3.11/dist-packages (from pytesseract) (11.2.1)\n",
            "Requirement already satisfied: numpy>=1.21.2 in /usr/local/lib/python3.11/dist-packages (from opencv-python-headless) (2.0.2)\n",
            "Downloading pytesseract-0.3.13-py3-none-any.whl (14 kB)\n",
            "Installing collected packages: pytesseract\n",
            "Successfully installed pytesseract-0.3.13\n"
          ]
        }
      ]
    },
    {
      "cell_type": "code",
      "source": [
        "!sudo apt install tesseract-ocr tesseract-ocr-gle"
      ],
      "metadata": {
        "colab": {
          "base_uri": "https://localhost:8080/"
        },
        "id": "hIK_8uwOJztG",
        "outputId": "f64a62f5-c9d3-4514-9c3c-910710e6605a"
      },
      "execution_count": 19,
      "outputs": [
        {
          "output_type": "stream",
          "name": "stdout",
          "text": [
            "Reading package lists... Done\n",
            "Building dependency tree... Done\n",
            "Reading state information... Done\n",
            "tesseract-ocr is already the newest version (4.1.1-2.1build1).\n",
            "The following NEW packages will be installed:\n",
            "  tesseract-ocr-gle\n",
            "0 upgraded, 1 newly installed, 0 to remove and 34 not upgraded.\n",
            "Need to get 613 kB of archives.\n",
            "After this operation, 1,197 kB of additional disk space will be used.\n",
            "Get:1 http://archive.ubuntu.com/ubuntu jammy/universe amd64 tesseract-ocr-gle all 1:4.00~git30-7274cfa-1.1 [613 kB]\n",
            "Fetched 613 kB in 2s (350 kB/s)\n",
            "debconf: unable to initialize frontend: Dialog\n",
            "debconf: (No usable dialog-like program is installed, so the dialog based frontend cannot be used. at /usr/share/perl5/Debconf/FrontEnd/Dialog.pm line 78, <> line 1.)\n",
            "debconf: falling back to frontend: Readline\n",
            "debconf: unable to initialize frontend: Readline\n",
            "debconf: (This frontend requires a controlling tty.)\n",
            "debconf: falling back to frontend: Teletype\n",
            "dpkg-preconfigure: unable to re-open stdin: \n",
            "Selecting previously unselected package tesseract-ocr-gle.\n",
            "(Reading database ... 126102 files and directories currently installed.)\n",
            "Preparing to unpack .../tesseract-ocr-gle_1%3a4.00~git30-7274cfa-1.1_all.deb ...\n",
            "Unpacking tesseract-ocr-gle (1:4.00~git30-7274cfa-1.1) ...\n",
            "Setting up tesseract-ocr-gle (1:4.00~git30-7274cfa-1.1) ...\n"
          ]
        }
      ]
    },
    {
      "cell_type": "code",
      "source": [
        "import requests\n",
        "import numpy as np\n",
        "import os\n",
        "\n",
        "def read_image_from_url(url):\n",
        "    response = requests.get(url)\n",
        "    image_array = np.frombuffer(response.content, np.uint8)\n",
        "    image = cv2.imdecode(image_array, cv2.IMREAD_COLOR)\n",
        "    return image"
      ],
      "metadata": {
        "id": "fLBCzBqRP0j6"
      },
      "execution_count": 36,
      "outputs": []
    },
    {
      "cell_type": "code",
      "source": [
        "import pytesseract\n",
        "import cv2\n",
        "\n",
        "def extract_text_from_bbox(image_path, bbox, lang=\"gle\"):\n",
        "    image = cv2.imread(image_path)\n",
        "\n",
        "    # Extract the region of interest\n",
        "    x1, y1, x2, y2 = bbox\n",
        "    roi = image[y1:y2, x1:x2]\n",
        "\n",
        "    # Convert the ROI to grayscale\n",
        "    gray = cv2.cvtColor(roi, cv2.COLOR_BGR2GRAY)\n",
        "\n",
        "    text = pytesseract.image_to_string(gray, lang=lang)\n",
        "\n",
        "    return text"
      ],
      "metadata": {
        "id": "OKgDKshVK-U9"
      },
      "execution_count": 24,
      "outputs": []
    },
    {
      "cell_type": "code",
      "source": [
        "import pytesseract\n",
        "import cv2\n",
        "from IPython.display import display, Image\n",
        "import io\n",
        "\n",
        "def extract_text_from_bbox_and_url(url, bbox, lang=\"gle\"):\n",
        "    image = read_image_from_url(url)\n",
        "\n",
        "    # Extract the region of interest\n",
        "    x1, y1, x2, y2 = bbox\n",
        "    roi = image[y1:y2, x1:x2]\n",
        "\n",
        "    # Convert the ROI to grayscale\n",
        "    gray = cv2.cvtColor(roi, cv2.COLOR_BGR2GRAY)\n",
        "\n",
        "    _, buffer = cv2.imencode('.png', roi)\n",
        "    io_buf = io.BytesIO(buffer)\n",
        "    display(Image(io_buf.getvalue()))\n",
        "\n",
        "    text = pytesseract.image_to_string(gray, lang=lang)\n",
        "\n",
        "    return text"
      ],
      "metadata": {
        "id": "7Vfq6LamP5Ps"
      },
      "execution_count": 67,
      "outputs": []
    },
    {
      "cell_type": "code",
      "source": [
        "import requests\n",
        "from bs4 import BeautifulSoup\n",
        "\n",
        "def get_image_selector_from_url(url, selector):\n",
        "    req = requests.get(url)\n",
        "    assert req.status_code == 200, f\"Failed to fetch {url}\"\n",
        "    soup = BeautifulSoup(req.text, 'html.parser')\n",
        "    element = soup.select_one(selector)\n",
        "    if element:\n",
        "        return element['src']\n",
        "    else:\n",
        "        return None"
      ],
      "metadata": {
        "id": "bFb-zLtyLQe0"
      },
      "execution_count": 39,
      "outputs": []
    },
    {
      "cell_type": "code",
      "source": [
        "def get_image_from_data(url, selector, bbox_text):\n",
        "    bbox = [int(x) for x in bbox_text.split(\" \")]\n",
        "    img = get_image_selector_from_url(url, selector)\n",
        "    return extract_text_from_bbox_and_url(img, bbox)"
      ],
      "metadata": {
        "id": "vVI6NWufdgIh"
      },
      "execution_count": 106,
      "outputs": []
    },
    {
      "cell_type": "code",
      "source": [
        "b = get_image_from_data(\"https://www.leighleat.com/pages/1803\", \"#ajax-page-container > div > div:nth-child(2) > img\", \"297 681 725 742\")"
      ],
      "metadata": {
        "colab": {
          "base_uri": "https://localhost:8080/",
          "height": 78
        },
        "id": "quVuJ55fLzgR",
        "outputId": "9dc113d9-c5f1-403a-eb72-d59875031333"
      },
      "execution_count": 107,
      "outputs": [
        {
          "output_type": "display_data",
          "data": {
            "image/png": "[encoded data removed]",
            "text/plain": [
              "<IPython.core.display.Image object>"
            ]
          },
          "metadata": {}
        }
      ]
    },
    {
      "cell_type": "code",
      "source": [
        "lines = \"{:C}\".format(nlp_tok(b)).split(\"\\n\")\n",
        "print(\"\\n\".join(lines))"
      ],
      "metadata": {
        "colab": {
          "base_uri": "https://localhost:8080/"
        },
        "id": "2aU90T5bL9cO",
        "outputId": "14a5b699-0523-4f24-8d24-02c96bfd064f"
      },
      "execution_count": 108,
      "outputs": [
        {
          "output_type": "stream",
          "name": "stdout",
          "text": [
            "# text = Is aoibhinn léi báidíní páipéir.\n",
            "# sent_id = 0\n",
            "1\tIs\tis\tAUX\tCop\tTense=Pres|VerbForm=Cop\t2\tcop\t_\tstart_char=0|end_char=2\n",
            "2\taoibhinn\taoibhinn\tADJ\tAdj\tDegree=Pos\t0\troot\t_\tstart_char=3|end_char=11\n",
            "3\tléi\tle\tADP\tPrep\tGender=Fem|Number=Sing|Person=3\t2\tobl:prep\t_\tstart_char=12|end_char=15\n",
            "4\tbáidíní\tbáid\tNOUN\tNoun\tCase=Nom|Gender=Masc|Number=Plur\t2\tnsubj\t_\tstart_char=16|end_char=23\n",
            "5\tpáipéir\tpáipéar\tNOUN\tNoun\tCase=Gen|Gender=Masc|Number=Sing\t4\tnmod\t_\tstart_char=24|end_char=31|SpaceAfter=No\n",
            "6\t.\t.\tPUNCT\t.\t_\t2\tpunct\t_\tstart_char=31|end_char=32|SpacesAfter=\\n\f\n"
          ]
        }
      ]
    },
    {
      "cell_type": "code",
      "source": [
        "cor = \"Nuair a thagann Brídín abhaile, ordaíonn a mamaí di í féin a ghlanadh.\"\n",
        "lines = \"{:C}\".format(nlp_tok(cor)).split(\"\\n\")\n",
        "print(\"\\n\".join(lines))"
      ],
      "metadata": {
        "colab": {
          "base_uri": "https://localhost:8080/"
        },
        "id": "qJT7a_K5bYh9",
        "outputId": "e918fda1-c6f8-490c-8055-b72d4f755a5c"
      },
      "execution_count": 89,
      "outputs": [
        {
          "output_type": "stream",
          "name": "stdout",
          "text": [
            "# text = Nuair a thagann Brídín abhaile, ordaíonn a mamaí di í féin a ghlanadh.\n",
            "# sent_id = 0\n",
            "1\tNuair\tnuair\tSCONJ\tSubord\t_\t3\tmark\t_\tstart_char=0|end_char=5\n",
            "2\ta\ta\tPART\tVb\tForm=Direct|PartType=Vb|PronType=Rel\t3\tmark:prt\t_\tstart_char=6|end_char=7\n",
            "3\tthagann\ttar\tVERB\tPresInd\tForm=Len|Mood=Ind|Tense=Pres\t7\tadvcl\t_\tstart_char=8|end_char=15\n",
            "4\tBrídín\tBrídín\tPROPN\tNoun\tDefinite=Def|Gender=Fem|Number=Sing\t3\tnsubj\t_\tstart_char=16|end_char=22\n",
            "5\tabhaile\tabhaile\tADV\tDir\t_\t3\tadvmod\t_\tstart_char=23|end_char=30|SpaceAfter=No\n",
            "6\t,\t,\tPUNCT\tPunct\t_\t7\tpunct\t_\tstart_char=30|end_char=31\n",
            "7\tordaíonn\tordaigh\tVERB\tVTI\tMood=Ind|Tense=Pres\t0\troot\t_\tstart_char=32|end_char=40\n",
            "8\ta\ta\tDET\tDet\tGender=Masc|Number=Sing|Person=3|Poss=Yes\t9\tnmod:poss\t_\tstart_char=41|end_char=42\n",
            "9\tmamaí\tmamaí\tNOUN\tNoun\tCase=Nom|Definite=Def|Gender=Masc|Number=Sing\t7\tnsubj\t_\tstart_char=43|end_char=48\n",
            "10\tdi\tdo\tADP\tPrep\tGender=Fem|Number=Sing|Person=3\t7\tobl:prep\t_\tstart_char=49|end_char=51\n",
            "11\tí\tí\tPRON\tPers\tGender=Fem|Number=Sing|Person=3\t14\tobj\t_\tstart_char=52|end_char=53\n",
            "12\tféin\tféin\tPRON\tRef\tReflex=Yes\t11\tnmod\t_\tstart_char=54|end_char=58\n",
            "13\ta\ta\tPART\tInf\tPartType=Inf\t14\tmark\t_\tstart_char=59|end_char=60\n",
            "14\tghlanadh\tglanadh\tNOUN\tNoun\tForm=Len|VerbForm=Inf\t7\txcomp\t_\tstart_char=61|end_char=69|SpaceAfter=No\n",
            "15\t.\t.\tPUNCT\t.\t_\t7\tpunct\t_\tstart_char=69|end_char=70|SpaceAfter=No\n"
          ]
        }
      ]
    },
    {
      "cell_type": "code",
      "source": [
        "b[71:76]"
      ],
      "metadata": {
        "colab": {
          "base_uri": "https://localhost:8080/",
          "height": 35
        },
        "id": "degxW76qb0ER",
        "outputId": "965250e2-68ac-47de-fe92-79dba37a98ab"
      },
      "execution_count": 100,
      "outputs": [
        {
          "output_type": "execute_result",
          "data": {
            "text/plain": [
              "'Bíonn'"
            ],
            "application/vnd.google.colaboratory.intrinsic+json": {
              "type": "string"
            }
          },
          "metadata": {},
          "execution_count": 100
        }
      ]
    }
  ],
  "metadata": {
    "colab": {
      "provenance": []
    },
    "kernelspec": {
      "display_name": "Python 3",
      "name": "python3"
    },
    "language_info": {
      "name": "python"
    }
  },
  "nbformat": 4,
  "nbformat_minor": 0
}