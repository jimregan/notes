{
  "nbformat": 4,
  "nbformat_minor": 0,
  "metadata": {
    "colab": {
      "name": "Untitled23.ipynb",
      "provenance": []
    },
    "kernelspec": {
      "name": "python3",
      "display_name": "Python 3"
    },
    "language_info": {
      "name": "python"
    }
  },
  "cells": [
    {
      "cell_type": "code",
      "execution_count": 1,
      "metadata": {
        "id": "mvHWAwpoLDU3"
      },
      "outputs": [],
      "source": [
        "%%capture\n",
        "!pip install pip install https://github.com/kpu/kenlm/archive/master.zip pyctcdecode datasets transformers"
      ]
    },
    {
      "cell_type": "code",
      "source": [
        "import torch\n",
        "import torchaudio\n",
        "from datasets import load_dataset\n",
        "from transformers import Wav2Vec2ForCTC, Wav2Vec2ProcessorWithLM\n",
        "import torchaudio.functional as F"
      ],
      "metadata": {
        "id": "7ECGK1xkLINr"
      },
      "execution_count": 6,
      "outputs": []
    },
    {
      "cell_type": "code",
      "source": [
        "from transformers import Wav2Vec2ForCTC, Wav2Vec2Processor\n"
      ],
      "metadata": {
        "id": "QGbotXpqRRbr"
      },
      "execution_count": 10,
      "outputs": []
    },
    {
      "cell_type": "code",
      "source": [
        "sample_iter = iter(load_dataset(\"common_voice\", \"sv-SE\", split=\"test\", streaming=True, use_auth_token=True))\n",
        "\n",
        "sample = next(sample_iter)\n",
        "resampled_audio = F.resample(torch.tensor(sample[\"audio\"][\"array\"]), 48_000, 16_000).numpy()\n",
        "\n",
        "processor = Wav2Vec2ProcessorWithLM.from_pretrained(\"birgermoell/lm-swedish\")\n",
        "#processor = Wav2Vec2Processor.from_pretrained(\"birgermoell/lm-swedish\")\n",
        "model = Wav2Vec2ForCTC.from_pretrained(\"birgermoell/lm-swedish\")\n",
        "\n",
        "#input_values = processor(resampled_audio, return_tensors=\"pt\").input_values\n",
        "input_values = processor(resampled_audio, return_tensors=\"pt\")\n",
        "\n",
        "with torch.no_grad():\n",
        "#    logits = model(input_values).logits\n",
        "    logits = model(input_values.input_values, attention_mask=input_values.attention_mask).logits\n",
        "#predicted_ids = torch.argmax(logits, dim=-1)\n",
        "#print(\"Prediction:\", processor.batch_decode(predicted_ids))\n",
        "\n",
        "\n",
        "transcription = processor.batch_decode(logits.numpy()).text"
      ],
      "metadata": {
        "colab": {
          "base_uri": "https://localhost:8080/"
        },
        "id": "dcnvfm8OOMTj",
        "outputId": "f7d325b2-1ee1-4279-e5da-ecdc7bbe9d2c"
      },
      "execution_count": 16,
      "outputs": [
        {
          "output_type": "stream",
          "name": "stderr",
          "text": [
            "/usr/local/lib/python3.7/dist-packages/transformers/configuration_utils.py:354: UserWarning: Passing `gradient_checkpointing` to a config initialization is deprecated and will be removed in v5 Transformers. Using `model.gradient_checkpointing_enable()` instead, or if you are using the `Trainer` API, pass `gradient_checkpointing=True` in your `TrainingArguments`.\n",
            "  \"Passing `gradient_checkpointing` to a config initialization is deprecated and will be removed in v5 \"\n",
            "It is strongly recommended to pass the ``sampling_rate`` argument to this function. Failing to do so can result in silent errors that might be hard to debug.\n"
          ]
        }
      ]
    },
    {
      "cell_type": "code",
      "source": [
        "transcription "
      ],
      "metadata": {
        "colab": {
          "base_uri": "https://localhost:8080/"
        },
        "id": "md4nAUH6QdVU",
        "outputId": "866be6ec-83a0-49bc-edce-fe29495359de"
      },
      "execution_count": 17,
      "outputs": [
        {
          "output_type": "execute_result",
          "data": {
            "text/plain": [
              "['ÄGX YNUFGÅ9 X3AIÄA</s></s>90 B0PAFAU']"
            ]
          },
          "metadata": {},
          "execution_count": 17
        }
      ]
    },
    {
      "cell_type": "code",
      "source": [
        "from datasets import load_metric\n",
        "wer = load_metric(\"wer\")\n",
        "wer_result = wer.compute(references=result[\"target\"], predictions=transcription[\"prediction\"])\n"
      ],
      "metadata": {
        "id": "uXxvCqlHPbTD"
      },
      "execution_count": null,
      "outputs": []
    }
  ]
}