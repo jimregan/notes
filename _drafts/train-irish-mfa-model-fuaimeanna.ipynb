{
 "cells": [
  {
   "cell_type": "markdown",
   "id": "modified-surgery",
   "metadata": {
    "papermill": {
     "duration": 0.008394,
     "end_time": "2021-05-14T09:00:59.544215",
     "exception": false,
     "start_time": "2021-05-14T09:00:59.535821",
     "status": "completed"
    },
    "tags": []
   },
   "source": [
    "## Part, the first\n",
    "### Setting up MFA"
   ]
  },
  {
   "cell_type": "code",
   "execution_count": 1,
   "id": "intermediate-batch",
   "metadata": {
    "_cell_guid": "b1076dfc-b9ad-4769-8c92-a6c4dae69d19",
    "_uuid": "8f2839f25d086af736a60e9eeb907d3b93b6e0e5",
    "execution": {
     "iopub.execute_input": "2021-05-14T09:00:59.578359Z",
     "iopub.status.busy": "2021-05-14T09:00:59.567165Z",
     "iopub.status.idle": "2021-05-14T09:01:08.866845Z",
     "shell.execute_reply": "2021-05-14T09:01:08.866135Z"
    },
    "papermill": {
     "duration": 9.315836,
     "end_time": "2021-05-14T09:01:08.867013",
     "exception": false,
     "start_time": "2021-05-14T09:00:59.551177",
     "status": "completed"
    },
    "tags": []
   },
   "outputs": [],
   "source": [
    "%%capture\n",
    "import os\n",
    "os.chdir('/tmp')\n",
    "!wget https://github.com/MontrealCorpusTools/Montreal-Forced-Aligner/releases/download/v1.0.1/montreal-forced-aligner_linux.tar.gz\n",
    "!tar zxvf montreal-forced-aligner_linux.tar.gz\n",
    "!ln -s /tmp/montreal-forced-aligner/lib/libpython3.6m.so.1.0 /tmp/montreal-forced-aligner/lib/libpython3.6m.so"
   ]
  },
  {
   "cell_type": "code",
   "execution_count": 2,
   "id": "sufficient-visitor",
   "metadata": {
    "execution": {
     "iopub.execute_input": "2021-05-14T09:01:08.886608Z",
     "iopub.status.busy": "2021-05-14T09:01:08.885995Z",
     "iopub.status.idle": "2021-05-14T09:01:08.889214Z",
     "shell.execute_reply": "2021-05-14T09:01:08.888728Z"
    },
    "papermill": {
     "duration": 0.015098,
     "end_time": "2021-05-14T09:01:08.889342",
     "exception": false,
     "start_time": "2021-05-14T09:01:08.874244",
     "status": "completed"
    },
    "tags": []
   },
   "outputs": [],
   "source": [
    "os.chdir('/kaggle/working')\n",
    "os.environ['LD_LIBRARY_PATH'] = f'{os.environ[\"LD_LIBRARY_PATH\"]}:/tmp/montreal-forced-aligner/lib/'\n",
    "os.environ['PATH'] = f'{os.environ[\"PATH\"]}:/tmp/montreal-forced-aligner/bin/'"
   ]
  },
  {
   "cell_type": "code",
   "execution_count": 3,
   "id": "canadian-governor",
   "metadata": {
    "execution": {
     "iopub.execute_input": "2021-05-14T09:01:08.909726Z",
     "iopub.status.busy": "2021-05-14T09:01:08.909197Z",
     "iopub.status.idle": "2021-05-14T09:01:15.075875Z",
     "shell.execute_reply": "2021-05-14T09:01:15.075349Z"
    },
    "papermill": {
     "duration": 6.179376,
     "end_time": "2021-05-14T09:01:15.076044",
     "exception": false,
     "start_time": "2021-05-14T09:01:08.896668",
     "status": "completed"
    },
    "tags": []
   },
   "outputs": [],
   "source": [
    "%%capture\n",
    "!apt-get -y install libgfortran3"
   ]
  },
  {
   "cell_type": "markdown",
   "id": "insured-experience",
   "metadata": {
    "papermill": {
     "duration": 0.006935,
     "end_time": "2021-05-14T09:01:15.090635",
     "exception": false,
     "start_time": "2021-05-14T09:01:15.083700",
     "status": "completed"
    },
    "tags": []
   },
   "source": [
    "To create the same data, fork and run [this notebook](https://www.kaggle.com/jimregan/scrape-fuaimeanna-ie)"
   ]
  },
  {
   "cell_type": "code",
   "execution_count": 4,
   "id": "changing-rebecca",
   "metadata": {
    "execution": {
     "iopub.execute_input": "2021-05-14T09:01:15.118691Z",
     "iopub.status.busy": "2021-05-14T09:01:15.115601Z",
     "iopub.status.idle": "2021-05-14T09:01:34.925932Z",
     "shell.execute_reply": "2021-05-14T09:01:34.925270Z"
    },
    "papermill": {
     "duration": 19.828259,
     "end_time": "2021-05-14T09:01:34.926082",
     "exception": false,
     "start_time": "2021-05-14T09:01:15.097823",
     "status": "completed"
    },
    "tags": []
   },
   "outputs": [],
   "source": [
    "!mkdir /tmp/m\n",
    "!mkdir /tmp/c\n",
    "!mkdir /tmp/u\n",
    "\n",
    "!cp ../input/scrape-fuaimeanna-private/wav/*s1.wav /tmp/u\n",
    "!cp ../input/scrape-fuaimeanna-private/wav/*s2.wav /tmp/m\n",
    "!cp ../input/scrape-fuaimeanna-private/wav/*s3.wav /tmp/c"
   ]
  },
  {
   "cell_type": "code",
   "execution_count": 5,
   "id": "warming-breathing",
   "metadata": {
    "execution": {
     "iopub.execute_input": "2021-05-14T09:01:34.947840Z",
     "iopub.status.busy": "2021-05-14T09:01:34.947115Z",
     "iopub.status.idle": "2021-05-14T09:01:34.951852Z",
     "shell.execute_reply": "2021-05-14T09:01:34.952366Z"
    },
    "papermill": {
     "duration": 0.019081,
     "end_time": "2021-05-14T09:01:34.952533",
     "exception": false,
     "start_time": "2021-05-14T09:01:34.933452",
     "status": "completed"
    },
    "tags": []
   },
   "outputs": [
    {
     "name": "stdout",
     "output_type": "stream",
     "text": [
      "Writing fuaimeanna-write.pl\n"
     ]
    }
   ],
   "source": [
    "%%writefile fuaimeanna-write.pl\n",
    "#!/usr/bin/perl\n",
    "use warnings;\n",
    "use strict;\n",
    "use utf8;\n",
    "\n",
    "binmode(STDIN, \":utf8\");\n",
    "binmode(STDOUT, \":utf8\");\n",
    "binmode(STDERR, \":utf8\");\n",
    "\n",
    "my %cr_files = (\n",
    "\t'mo shmidiú' => 'mo chuid smidiú',\n",
    "\t'mo shmior' => 'mo chuid smior',\n",
    "\t'mo shmólach' => 'mo smólach',\n",
    "\t'shmachtaigh' => 'smachtaigh',\n",
    "\t'shmaoinigh' => 'smaoinigh',\n",
    "\t'shmear' => 'smear',\n",
    "\t'deamhain' => 'diabhail',\n",
    "\t'folach' => 'i bhfolach',\n",
    "\t'captaen' => 'caiptín'.\n",
    ");\n",
    "my %empty = (\n",
    "\t'/sounds/gob_i3_s3.mp3' => 1,\n",
    "\t'/sounds/iioctha_i3_s3.mp3' => 1,\n",
    "\t'/sounds/mo_shuiiochaan_i3_s3.mp3' => 1,\n",
    "\t'/sounds/riail_i3_s3.mp3' => 1\n",
    ");\n",
    "\n",
    "open(LEXM, '>>', '/tmp/lexicon-munster.raw');\n",
    "binmode LEXM, ':utf8';\n",
    "open(LEXU, '>>', '/tmp/lexicon-ulster.raw');\n",
    "binmode LEXU, ':utf8';\n",
    "open(LEXC, '>>', '/tmp/lexicon-connaught.raw');\n",
    "binmode LEXC, ':utf8';\n",
    "\n",
    "sub write_text {\n",
    "\tmy $file = shift;\n",
    "\tmy $text = shift;\n",
    "\topen(OUTF, '>>', $file);\n",
    "\tbinmode OUTF, ':utf8';\n",
    "\tprint OUTF $text;\n",
    "\tclose OUTF;\n",
    "}\n",
    "\n",
    "sub write_pron {\n",
    "\tmy $file = shift;\n",
    "\tmy $text = shift;\n",
    "\tmy $pron = shift;\n",
    "\tif ($text eq 'ar tí') {\n",
    "\t\t$pron =~ s/ \\. ˈ / # /g;\n",
    "\t}\n",
    "\t$pron =~ s/ [ˈˌ] / /g;\n",
    "\t$pron =~ s/^[ˈˌ] //g;\n",
    "\t$pron =~ s/ \\. / /g;\n",
    "\tmy @words = split/ /, $text;\n",
    "\tmy @prons = split/ \\# /, $pron;\n",
    "\tif($#words != $#prons) {\n",
    "\t\tprint STDERR \"ERROR: $file $text $pron\\n\";\n",
    "\t}\n",
    "\tif($#words == 0) {\n",
    "\t\tprint $file \"$text $pron\\n\";\n",
    "\t} else {\n",
    "\t\tfor(my $i = 0; $i <= $#words; $i++) {\n",
    "\t\t\tprint $file \"$words[$i] $prons[$i]\\n\";\n",
    "\t\t}\n",
    "\t}\n",
    "}\n",
    "\n",
    "while(<STDIN>) {\n",
    "\tchomp;\n",
    "\tmy @line = split/\\t/;\n",
    "\tnext if($line[0] eq 'Orthographic');\n",
    "\tmy $text = lc($line[0]);\n",
    "\tnext if($line[0] eq \"d'fhág\");\n",
    "\tmy $uout = $line[1];\n",
    "\t$uout =~ s!/sounds/!!;\n",
    "\t$uout =~ s/\\.mp3$/.txt/;\n",
    "\tmy $cout = $line[3];\n",
    "\t$cout =~ s!/sounds/!!;\n",
    "\t$cout =~ s/\\.mp3$/.txt/;\n",
    "\tmy $mout = $line[5];\n",
    "\t$mout =~ s!/sounds/!!;\n",
    "\t$mout =~ s/\\.mp3$/.txt/;\n",
    "\t$uout = '/tmp/u/' . $uout;\n",
    "\t$cout = '/tmp/c/' . $cout;\n",
    "\t$mout = '/tmp/m/' . $mout;\n",
    "\n",
    "\tmy $pronu = $line[2];\n",
    "\tmy $pronc = $line[4];\n",
    "\tmy $pronm = $line[6];\n",
    "\n",
    "\tif($text eq 'Gaeilge') {\n",
    "\t\twrite_text($uout, \"gaeilic\");\n",
    "\t\twrite_text($cout, \"gaeilge\");\n",
    "\t\twrite_text($mout, \"gaelainn\");\n",
    "\t\twrite_pron(\\*LEXU, \"gaeilic\", $pronu);\n",
    "\t\twrite_pron(\\*LEXC, \"gaeilge\", $pronc);\n",
    "\t\twrite_pron(\\*LEXM, \"gaelainn\", $pronm);\n",
    "\t\tnext;\n",
    "\t}\n",
    "\tif($line[0] eq 'bocht' || $line[0] eq 'teacht' || $line[0] eq 'teocht') {\n",
    "\t\t$pronu =~ s/x t̪ˠ/ɾˠ t̪ˠ/;\n",
    "\t}\n",
    "\twrite_text($uout, $text);\n",
    "\twrite_pron(\\*LEXU, $text, $pronu);\n",
    "\twrite_text($mout, $text);\n",
    "\twrite_pron(\\*LEXM, $text, $pronm);\n",
    "\tif(!exists $empty{$line[3]}) {\n",
    "\t\tmy $cfix = exists $cr_files{$text} ? $cr_files{$text} : $text;\n",
    "\t\twrite_text($cout, $cfix);\n",
    "\t\twrite_pron(\\*LEXC, $cfix, $pronc);\n",
    "\t}\n",
    "}"
   ]
  },
  {
   "cell_type": "code",
   "execution_count": 6,
   "id": "absent-danish",
   "metadata": {
    "execution": {
     "iopub.execute_input": "2021-05-14T09:01:34.976869Z",
     "iopub.status.busy": "2021-05-14T09:01:34.973357Z",
     "iopub.status.idle": "2021-05-14T09:01:35.742452Z",
     "shell.execute_reply": "2021-05-14T09:01:35.741898Z"
    },
    "papermill": {
     "duration": 0.781438,
     "end_time": "2021-05-14T09:01:35.742591",
     "exception": false,
     "start_time": "2021-05-14T09:01:34.961153",
     "status": "completed"
    },
    "tags": []
   },
   "outputs": [
    {
     "name": "stdout",
     "output_type": "stream",
     "text": [
      "syntax error at fuaimeanna-write.pl line 20, near \")\"\r\n",
      "Execution of fuaimeanna-write.pl aborted due to compilation errors.\r\n",
      "cat: write error: Broken pipe\r\n"
     ]
    }
   ],
   "source": [
    "!cat ../input/scrape-fuaimeanna-private/all-fuaimeanna-data.tsv | perl fuaimeanna-write.pl"
   ]
  },
  {
   "cell_type": "code",
   "execution_count": 7,
   "id": "light-dynamics",
   "metadata": {
    "execution": {
     "iopub.execute_input": "2021-05-14T09:01:35.767561Z",
     "iopub.status.busy": "2021-05-14T09:01:35.766883Z",
     "iopub.status.idle": "2021-05-14T09:01:38.689677Z",
     "shell.execute_reply": "2021-05-14T09:01:38.689223Z"
    },
    "papermill": {
     "duration": 2.939142,
     "end_time": "2021-05-14T09:01:38.689811",
     "exception": false,
     "start_time": "2021-05-14T09:01:35.750669",
     "status": "completed"
    },
    "tags": []
   },
   "outputs": [
    {
     "name": "stdout",
     "output_type": "stream",
     "text": [
      "cat: /tmp/lexicon-connaught.raw: No such file or directory\r\n",
      "cat: /tmp/lexicon-ulster.raw: No such file or directory\r\n",
      "cat: /tmp/lexicon-munster.raw: No such file or directory\r\n",
      "cat: /tmp/lexicon-connaught.raw: No such file or directory\r\n",
      "cat: /tmp/lexicon-ulster.raw: No such file or directory\r\n",
      "cat: /tmp/lexicon-munster.raw: No such file or directory\r\n"
     ]
    }
   ],
   "source": [
    "!cat /tmp/lexicon-connaught.raw | sort | uniq > /tmp/lexicon-connaught.txt\n",
    "!cat /tmp/lexicon-ulster.raw | sort | uniq > /tmp/lexicon-ulster.txt\n",
    "!cat /tmp/lexicon-munster.raw | sort | uniq > /tmp/lexicon-munster.txt\n",
    "!cat /tmp/lexicon-connaught.raw /tmp/lexicon-ulster.raw /tmp/lexicon-munster.raw | sort | uniq > /tmp/lexicon-all.txt"
   ]
  },
  {
   "cell_type": "code",
   "execution_count": 8,
   "id": "cultural-imperial",
   "metadata": {
    "execution": {
     "iopub.execute_input": "2021-05-14T09:01:38.720591Z",
     "iopub.status.busy": "2021-05-14T09:01:38.717050Z",
     "iopub.status.idle": "2021-05-14T09:01:44.305561Z",
     "shell.execute_reply": "2021-05-14T09:01:44.306007Z"
    },
    "papermill": {
     "duration": 5.607425,
     "end_time": "2021-05-14T09:01:44.306183",
     "exception": false,
     "start_time": "2021-05-14T09:01:38.698758",
     "status": "completed"
    },
    "tags": []
   },
   "outputs": [],
   "source": [
    "!mkdir /tmp/all\n",
    "!cp /tmp/c/* /tmp/all\n",
    "!cp /tmp/m/* /tmp/all\n",
    "!cp /tmp/u/* /tmp/all\n",
    "!mkdir /tmp/mfa-temp"
   ]
  },
  {
   "cell_type": "markdown",
   "id": "ordinary-meter",
   "metadata": {
    "papermill": {
     "duration": 0.009073,
     "end_time": "2021-05-14T09:01:44.324219",
     "exception": false,
     "start_time": "2021-05-14T09:01:44.315146",
     "status": "completed"
    },
    "tags": []
   },
   "source": [
    "### Run MFA"
   ]
  },
  {
   "cell_type": "code",
   "execution_count": 9,
   "id": "technical-fisher",
   "metadata": {
    "execution": {
     "iopub.execute_input": "2021-05-14T09:01:44.345662Z",
     "iopub.status.busy": "2021-05-14T09:01:44.345146Z",
     "iopub.status.idle": "2021-05-14T09:02:19.042670Z",
     "shell.execute_reply": "2021-05-14T09:02:19.041579Z"
    },
    "papermill": {
     "duration": 34.709433,
     "end_time": "2021-05-14T09:02:19.042839",
     "exception": false,
     "start_time": "2021-05-14T09:01:44.333406",
     "status": "completed"
    },
    "tags": []
   },
   "outputs": [
    {
     "name": "stdout",
     "output_type": "stream",
     "text": [
      "Setting up corpus information...\r\n",
      "760 wav file(s) were ignored because neither a .lab file or a .TextGrid file could be found, please see /tmp/mfa-temp/m/logging/corpus.log for more information\r\n",
      "set()\r\n",
      "Traceback (most recent call last):\r\n",
      "  File \"aligner/command_line/train_and_align.py\", line 171, in <module>\r\n",
      "  File \"aligner/command_line/train_and_align.py\", line 53, in align_corpus\r\n",
      "  File \"aligner/dictionary.py\", line 128, in __init__\r\n",
      "  File \"aligner/dictionary.py\", line 18, in compile_graphemes\r\n",
      "  File \"/home/michael/miniconda3/envs/aligner/lib/python3.6/re.py\", line 233, in compile\r\n",
      "  File \"/home/michael/miniconda3/envs/aligner/lib/python3.6/re.py\", line 301, in _compile\r\n",
      "  File \"/home/michael/miniconda3/envs/aligner/lib/python3.6/sre_compile.py\", line 562, in compile\r\n",
      "  File \"/home/michael/miniconda3/envs/aligner/lib/python3.6/sre_parse.py\", line 855, in parse\r\n",
      "  File \"/home/michael/miniconda3/envs/aligner/lib/python3.6/sre_parse.py\", line 416, in _parse_sub\r\n",
      "  File \"/home/michael/miniconda3/envs/aligner/lib/python3.6/sre_parse.py\", line 765, in _parse\r\n",
      "  File \"/home/michael/miniconda3/envs/aligner/lib/python3.6/sre_parse.py\", line 416, in _parse_sub\r\n",
      "  File \"/home/michael/miniconda3/envs/aligner/lib/python3.6/sre_parse.py\", line 523, in _parse\r\n",
      "sre_constants.error: unterminated character set at position 5\r\n",
      "[114] Failed to execute script train_and_align\r\n",
      "Setting up corpus information...\r\n",
      "760 wav file(s) were ignored because neither a .lab file or a .TextGrid file could be found, please see /tmp/mfa-temp/u/logging/corpus.log for more information\r\n",
      "set()\r\n",
      "Traceback (most recent call last):\r\n",
      "  File \"aligner/command_line/train_and_align.py\", line 171, in <module>\r\n",
      "  File \"aligner/command_line/train_and_align.py\", line 53, in align_corpus\r\n",
      "  File \"aligner/dictionary.py\", line 128, in __init__\r\n",
      "  File \"aligner/dictionary.py\", line 18, in compile_graphemes\r\n",
      "  File \"/home/michael/miniconda3/envs/aligner/lib/python3.6/re.py\", line 233, in compile\r\n",
      "  File \"/home/michael/miniconda3/envs/aligner/lib/python3.6/re.py\", line 301, in _compile\r\n",
      "  File \"/home/michael/miniconda3/envs/aligner/lib/python3.6/sre_compile.py\", line 562, in compile\r\n",
      "  File \"/home/michael/miniconda3/envs/aligner/lib/python3.6/sre_parse.py\", line 855, in parse\r\n",
      "  File \"/home/michael/miniconda3/envs/aligner/lib/python3.6/sre_parse.py\", line 416, in _parse_sub\r\n",
      "  File \"/home/michael/miniconda3/envs/aligner/lib/python3.6/sre_parse.py\", line 765, in _parse\r\n",
      "  File \"/home/michael/miniconda3/envs/aligner/lib/python3.6/sre_parse.py\", line 416, in _parse_sub\r\n",
      "  File \"/home/michael/miniconda3/envs/aligner/lib/python3.6/sre_parse.py\", line 523, in _parse\r\n",
      "sre_constants.error: unterminated character set at position 5\r\n",
      "[118] Failed to execute script train_and_align\r\n",
      "Setting up corpus information...\r\n",
      "756 wav file(s) were ignored because neither a .lab file or a .TextGrid file could be found, please see /tmp/mfa-temp/c/logging/corpus.log for more information\r\n",
      "set()\r\n",
      "Traceback (most recent call last):\r\n",
      "  File \"aligner/command_line/train_and_align.py\", line 171, in <module>\r\n",
      "  File \"aligner/command_line/train_and_align.py\", line 53, in align_corpus\r\n",
      "  File \"aligner/dictionary.py\", line 128, in __init__\r\n",
      "  File \"aligner/dictionary.py\", line 18, in compile_graphemes\r\n",
      "  File \"/home/michael/miniconda3/envs/aligner/lib/python3.6/re.py\", line 233, in compile\r\n",
      "  File \"/home/michael/miniconda3/envs/aligner/lib/python3.6/re.py\", line 301, in _compile\r\n",
      "  File \"/home/michael/miniconda3/envs/aligner/lib/python3.6/sre_compile.py\", line 562, in compile\r\n",
      "  File \"/home/michael/miniconda3/envs/aligner/lib/python3.6/sre_parse.py\", line 855, in parse\r\n",
      "  File \"/home/michael/miniconda3/envs/aligner/lib/python3.6/sre_parse.py\", line 416, in _parse_sub\r\n",
      "  File \"/home/michael/miniconda3/envs/aligner/lib/python3.6/sre_parse.py\", line 765, in _parse\r\n",
      "  File \"/home/michael/miniconda3/envs/aligner/lib/python3.6/sre_parse.py\", line 416, in _parse_sub\r\n",
      "  File \"/home/michael/miniconda3/envs/aligner/lib/python3.6/sre_parse.py\", line 523, in _parse\r\n",
      "sre_constants.error: unterminated character set at position 5\r\n",
      "[122] Failed to execute script train_and_align\r\n",
      "Setting up corpus information...\r\n",
      "2276 wav file(s) were ignored because neither a .lab file or a .TextGrid file could be found, please see /tmp/mfa-temp/all/logging/corpus.log for more information\r\n",
      "set()\r\n",
      "Traceback (most recent call last):\r\n",
      "  File \"aligner/command_line/train_and_align.py\", line 171, in <module>\r\n",
      "  File \"aligner/command_line/train_and_align.py\", line 53, in align_corpus\r\n",
      "  File \"aligner/dictionary.py\", line 128, in __init__\r\n",
      "  File \"aligner/dictionary.py\", line 18, in compile_graphemes\r\n",
      "  File \"/home/michael/miniconda3/envs/aligner/lib/python3.6/re.py\", line 233, in compile\r\n",
      "  File \"/home/michael/miniconda3/envs/aligner/lib/python3.6/re.py\", line 301, in _compile\r\n",
      "  File \"/home/michael/miniconda3/envs/aligner/lib/python3.6/sre_compile.py\", line 562, in compile\r\n",
      "  File \"/home/michael/miniconda3/envs/aligner/lib/python3.6/sre_parse.py\", line 855, in parse\r\n",
      "  File \"/home/michael/miniconda3/envs/aligner/lib/python3.6/sre_parse.py\", line 416, in _parse_sub\r\n",
      "  File \"/home/michael/miniconda3/envs/aligner/lib/python3.6/sre_parse.py\", line 765, in _parse\r\n",
      "  File \"/home/michael/miniconda3/envs/aligner/lib/python3.6/sre_parse.py\", line 416, in _parse_sub\r\n",
      "  File \"/home/michael/miniconda3/envs/aligner/lib/python3.6/sre_parse.py\", line 523, in _parse\r\n",
      "sre_constants.error: unterminated character set at position 5\r\n",
      "[126] Failed to execute script train_and_align\r\n"
     ]
    }
   ],
   "source": [
    "!mfa_train_and_align -t /tmp/mfa-temp -o ./munster-model /tmp/m /tmp/lexicon-munster.txt /tmp/textgrid-munster\n",
    "!mfa_train_and_align -t /tmp/mfa-temp -o ./ulster-model /tmp/u /tmp/lexicon-ulster.txt /tmp/textgrid-ulster\n",
    "!mfa_train_and_align -t /tmp/mfa-temp -o ./connaught-model /tmp/c /tmp/lexicon-connaught.txt /tmp/textgrid-connaught\n",
    "!mfa_train_and_align -t /tmp/mfa-temp -o ./all-model /tmp/all /tmp/lexicon-all.txt /tmp/textgrid-all"
   ]
  },
  {
   "cell_type": "code",
   "execution_count": 10,
   "id": "common-sitting",
   "metadata": {
    "execution": {
     "iopub.execute_input": "2021-05-14T09:02:19.081002Z",
     "iopub.status.busy": "2021-05-14T09:02:19.073934Z",
     "iopub.status.idle": "2021-05-14T09:02:22.977522Z",
     "shell.execute_reply": "2021-05-14T09:02:22.976985Z"
    },
    "papermill": {
     "duration": 3.923445,
     "end_time": "2021-05-14T09:02:22.977674",
     "exception": false,
     "start_time": "2021-05-14T09:02:19.054229",
     "status": "completed"
    },
    "tags": []
   },
   "outputs": [
    {
     "name": "stdout",
     "output_type": "stream",
     "text": [
      "set()\r\n",
      "Traceback (most recent call last):\r\n",
      "  File \"aligner/command_line/train_g2p.py\", line 49, in <module>\r\n",
      "  File \"aligner/command_line/train_g2p.py\", line 16, in train_g2p\r\n",
      "  File \"aligner/dictionary.py\", line 128, in __init__\r\n",
      "  File \"aligner/dictionary.py\", line 18, in compile_graphemes\r\n",
      "  File \"/home/michael/miniconda3/envs/aligner/lib/python3.6/re.py\", line 233, in compile\r\n",
      "  File \"/home/michael/miniconda3/envs/aligner/lib/python3.6/re.py\", line 301, in _compile\r\n",
      "  File \"/home/michael/miniconda3/envs/aligner/lib/python3.6/sre_compile.py\", line 562, in compile\r\n",
      "  File \"/home/michael/miniconda3/envs/aligner/lib/python3.6/sre_parse.py\", line 855, in parse\r\n",
      "  File \"/home/michael/miniconda3/envs/aligner/lib/python3.6/sre_parse.py\", line 416, in _parse_sub\r\n",
      "  File \"/home/michael/miniconda3/envs/aligner/lib/python3.6/sre_parse.py\", line 765, in _parse\r\n",
      "  File \"/home/michael/miniconda3/envs/aligner/lib/python3.6/sre_parse.py\", line 416, in _parse_sub\r\n",
      "  File \"/home/michael/miniconda3/envs/aligner/lib/python3.6/sre_parse.py\", line 523, in _parse\r\n",
      "sre_constants.error: unterminated character set at position 5\r\n",
      "[130] Failed to execute script train_g2p\r\n",
      "set()\r\n",
      "Traceback (most recent call last):\r\n",
      "  File \"aligner/command_line/train_g2p.py\", line 49, in <module>\r\n",
      "  File \"aligner/command_line/train_g2p.py\", line 16, in train_g2p\r\n",
      "  File \"aligner/dictionary.py\", line 128, in __init__\r\n",
      "  File \"aligner/dictionary.py\", line 18, in compile_graphemes\r\n",
      "  File \"/home/michael/miniconda3/envs/aligner/lib/python3.6/re.py\", line 233, in compile\r\n",
      "  File \"/home/michael/miniconda3/envs/aligner/lib/python3.6/re.py\", line 301, in _compile\r\n",
      "  File \"/home/michael/miniconda3/envs/aligner/lib/python3.6/sre_compile.py\", line 562, in compile\r\n",
      "  File \"/home/michael/miniconda3/envs/aligner/lib/python3.6/sre_parse.py\", line 855, in parse\r\n",
      "  File \"/home/michael/miniconda3/envs/aligner/lib/python3.6/sre_parse.py\", line 416, in _parse_sub\r\n",
      "  File \"/home/michael/miniconda3/envs/aligner/lib/python3.6/sre_parse.py\", line 765, in _parse\r\n",
      "  File \"/home/michael/miniconda3/envs/aligner/lib/python3.6/sre_parse.py\", line 416, in _parse_sub\r\n",
      "  File \"/home/michael/miniconda3/envs/aligner/lib/python3.6/sre_parse.py\", line 523, in _parse\r\n",
      "sre_constants.error: unterminated character set at position 5\r\n",
      "[134] Failed to execute script train_g2p\r\n",
      "set()\r\n",
      "Traceback (most recent call last):\r\n",
      "  File \"aligner/command_line/train_g2p.py\", line 49, in <module>\r\n",
      "  File \"aligner/command_line/train_g2p.py\", line 16, in train_g2p\r\n",
      "  File \"aligner/dictionary.py\", line 128, in __init__\r\n",
      "  File \"aligner/dictionary.py\", line 18, in compile_graphemes\r\n",
      "  File \"/home/michael/miniconda3/envs/aligner/lib/python3.6/re.py\", line 233, in compile\r\n",
      "  File \"/home/michael/miniconda3/envs/aligner/lib/python3.6/re.py\", line 301, in _compile\r\n",
      "  File \"/home/michael/miniconda3/envs/aligner/lib/python3.6/sre_compile.py\", line 562, in compile\r\n",
      "  File \"/home/michael/miniconda3/envs/aligner/lib/python3.6/sre_parse.py\", line 855, in parse\r\n",
      "  File \"/home/michael/miniconda3/envs/aligner/lib/python3.6/sre_parse.py\", line 416, in _parse_sub\r\n",
      "  File \"/home/michael/miniconda3/envs/aligner/lib/python3.6/sre_parse.py\", line 765, in _parse\r\n",
      "  File \"/home/michael/miniconda3/envs/aligner/lib/python3.6/sre_parse.py\", line 416, in _parse_sub\r\n",
      "  File \"/home/michael/miniconda3/envs/aligner/lib/python3.6/sre_parse.py\", line 523, in _parse\r\n",
      "sre_constants.error: unterminated character set at position 5\r\n",
      "[138] Failed to execute script train_g2p\r\n",
      "set()\r\n",
      "Traceback (most recent call last):\r\n",
      "  File \"aligner/command_line/train_g2p.py\", line 49, in <module>\r\n",
      "  File \"aligner/command_line/train_g2p.py\", line 16, in train_g2p\r\n",
      "  File \"aligner/dictionary.py\", line 128, in __init__\r\n",
      "  File \"aligner/dictionary.py\", line 18, in compile_graphemes\r\n",
      "  File \"/home/michael/miniconda3/envs/aligner/lib/python3.6/re.py\", line 233, in compile\r\n",
      "  File \"/home/michael/miniconda3/envs/aligner/lib/python3.6/re.py\", line 301, in _compile\r\n",
      "  File \"/home/michael/miniconda3/envs/aligner/lib/python3.6/sre_compile.py\", line 562, in compile\r\n",
      "  File \"/home/michael/miniconda3/envs/aligner/lib/python3.6/sre_parse.py\", line 855, in parse\r\n",
      "  File \"/home/michael/miniconda3/envs/aligner/lib/python3.6/sre_parse.py\", line 416, in _parse_sub\r\n",
      "  File \"/home/michael/miniconda3/envs/aligner/lib/python3.6/sre_parse.py\", line 765, in _parse\r\n",
      "  File \"/home/michael/miniconda3/envs/aligner/lib/python3.6/sre_parse.py\", line 416, in _parse_sub\r\n",
      "  File \"/home/michael/miniconda3/envs/aligner/lib/python3.6/sre_parse.py\", line 523, in _parse\r\n",
      "sre_constants.error: unterminated character set at position 5\r\n",
      "[142] Failed to execute script train_g2p\r\n"
     ]
    }
   ],
   "source": [
    "!mfa_train_g2p -t /tmp/mfa-temp /tmp/lexicon-ulster.txt ./g2p-ulster\n",
    "!mfa_train_g2p -t /tmp/mfa-temp /tmp/lexicon-munster.txt ./g2p-munster\n",
    "!mfa_train_g2p -t /tmp/mfa-temp /tmp/lexicon-connaught.txt ./g2p-connaught\n",
    "!mfa_train_g2p -t /tmp/mfa-temp /tmp/lexicon-all.txt ./g2p-all\n"
   ]
  }
 ],
 "metadata": {
  "kernelspec": {
   "display_name": "Python 3",
   "language": "python",
   "name": "python3"
  },
  "language_info": {
   "codemirror_mode": {
    "name": "ipython",
    "version": 3
   },
   "file_extension": ".py",
   "mimetype": "text/x-python",
   "name": "python",
   "nbconvert_exporter": "python",
   "pygments_lexer": "ipython3",
   "version": "3.7.9"
  },
  "papermill": {
   "default_parameters": {},
   "duration": 89.551093,
   "end_time": "2021-05-14T09:02:23.600747",
   "environment_variables": {},
   "exception": null,
   "input_path": "__notebook__.ipynb",
   "output_path": "__notebook__.ipynb",
   "parameters": {},
   "start_time": "2021-05-14T09:00:54.049654",
   "version": "2.3.2"
  }
 },
 "nbformat": 4,
 "nbformat_minor": 5
}
