{
 "cells": [
  {
   "cell_type": "markdown",
   "id": "vital-printer",
   "metadata": {
    "papermill": {
     "duration": 0.008038,
     "end_time": "2021-05-13T22:16:57.081666",
     "exception": false,
     "start_time": "2021-05-13T22:16:57.073628",
     "status": "completed"
    },
    "tags": []
   },
   "source": [
    "## Part, the first\n",
    "### Setting up MFA"
   ]
  },
  {
   "cell_type": "code",
   "execution_count": 1,
   "id": "least-upgrade",
   "metadata": {
    "_cell_guid": "b1076dfc-b9ad-4769-8c92-a6c4dae69d19",
    "_uuid": "8f2839f25d086af736a60e9eeb907d3b93b6e0e5",
    "execution": {
     "iopub.execute_input": "2021-05-13T22:16:57.102044Z",
     "iopub.status.busy": "2021-05-13T22:16:57.100471Z",
     "iopub.status.idle": "2021-05-13T22:17:09.175274Z",
     "shell.execute_reply": "2021-05-13T22:17:09.174672Z"
    },
    "papermill": {
     "duration": 12.086153,
     "end_time": "2021-05-13T22:17:09.175403",
     "exception": false,
     "start_time": "2021-05-13T22:16:57.089250",
     "status": "completed"
    },
    "tags": []
   },
   "outputs": [],
   "source": [
    "%%capture\n",
    "import os\n",
    "os.chdir('/tmp')\n",
    "!wget https://github.com/MontrealCorpusTools/Montreal-Forced-Aligner/releases/download/v1.0.1/montreal-forced-aligner_linux.tar.gz\n",
    "!tar zxvf montreal-forced-aligner_linux.tar.gz\n",
    "!ln -s /tmp/montreal-forced-aligner/lib/libpython3.6m.so.1.0 /tmp/montreal-forced-aligner/lib/libpython3.6m.so"
   ]
  },
  {
   "cell_type": "code",
   "execution_count": 2,
   "id": "inclusive-multimedia",
   "metadata": {
    "execution": {
     "iopub.execute_input": "2021-05-13T22:17:09.195291Z",
     "iopub.status.busy": "2021-05-13T22:17:09.194468Z",
     "iopub.status.idle": "2021-05-13T22:17:09.202179Z",
     "shell.execute_reply": "2021-05-13T22:17:09.201713Z"
    },
    "papermill": {
     "duration": 0.019279,
     "end_time": "2021-05-13T22:17:09.202306",
     "exception": false,
     "start_time": "2021-05-13T22:17:09.183027",
     "status": "completed"
    },
    "tags": []
   },
   "outputs": [],
   "source": [
    "os.chdir('/kaggle/working')\n",
    "os.environ['LD_LIBRARY_PATH'] = f'{os.environ[\"LD_LIBRARY_PATH\"]}:/tmp/montreal-forced-aligner/lib/'\n",
    "os.environ['PATH'] = f'{os.environ[\"PATH\"]}:/tmp/montreal-forced-aligner/bin/'"
   ]
  },
  {
   "cell_type": "code",
   "execution_count": 3,
   "id": "second-league",
   "metadata": {
    "execution": {
     "iopub.execute_input": "2021-05-13T22:17:09.226205Z",
     "iopub.status.busy": "2021-05-13T22:17:09.225616Z",
     "iopub.status.idle": "2021-05-13T22:17:16.128799Z",
     "shell.execute_reply": "2021-05-13T22:17:16.128220Z"
    },
    "papermill": {
     "duration": 6.91899,
     "end_time": "2021-05-13T22:17:16.128918",
     "exception": false,
     "start_time": "2021-05-13T22:17:09.209928",
     "status": "completed"
    },
    "tags": []
   },
   "outputs": [],
   "source": [
    "%%capture\n",
    "!apt-get -y install libgfortran3"
   ]
  },
  {
   "cell_type": "markdown",
   "id": "silent-cleaners",
   "metadata": {
    "papermill": {
     "duration": 0.00725,
     "end_time": "2021-05-13T22:17:16.144190",
     "exception": false,
     "start_time": "2021-05-13T22:17:16.136940",
     "status": "completed"
    },
    "tags": []
   },
   "source": [
    "To create the same data, fork and run [this notebook](https://www.kaggle.com/jimregan/scrape-fuaimeanna-ie)"
   ]
  },
  {
   "cell_type": "code",
   "execution_count": 4,
   "id": "posted-arctic",
   "metadata": {
    "execution": {
     "iopub.execute_input": "2021-05-13T22:17:16.177396Z",
     "iopub.status.busy": "2021-05-13T22:17:16.173482Z",
     "iopub.status.idle": "2021-05-13T22:17:17.914914Z",
     "shell.execute_reply": "2021-05-13T22:17:17.914466Z"
    },
    "papermill": {
     "duration": 1.763563,
     "end_time": "2021-05-13T22:17:17.915025",
     "exception": false,
     "start_time": "2021-05-13T22:17:16.151462",
     "status": "completed"
    },
    "tags": []
   },
   "outputs": [
    {
     "name": "stdout",
     "output_type": "stream",
     "text": [
      "cp: cannot stat '../input/scrape-fuaimeanna-private/wav/*.s1.wav': No such file or directory\r\n",
      "cp: cannot stat '../input/scrape-fuaimeanna-private/wav/*.s2.wav': No such file or directory\r\n",
      "cp: cannot stat '../input/scrape-fuaimeanna-private/wav/*.s3.wav': No such file or directory\r\n"
     ]
    }
   ],
   "source": [
    "!mkdir /tmp/m\n",
    "!mkdir /tmp/c\n",
    "!mkdir /tmp/u\n",
    "\n",
    "!cp ../input/scrape-fuaimeanna-private/wav/*.s1.wav /tmp/u\n",
    "!cp ../input/scrape-fuaimeanna-private/wav/*.s2.wav /tmp/m\n",
    "!cp ../input/scrape-fuaimeanna-private/wav/*.s3.wav /tmp/c"
   ]
  },
  {
   "cell_type": "code",
   "execution_count": 5,
   "id": "completed-armstrong",
   "metadata": {
    "execution": {
     "iopub.execute_input": "2021-05-13T22:17:17.938481Z",
     "iopub.status.busy": "2021-05-13T22:17:17.937949Z",
     "iopub.status.idle": "2021-05-13T22:17:17.944988Z",
     "shell.execute_reply": "2021-05-13T22:17:17.943265Z"
    },
    "papermill": {
     "duration": 0.021479,
     "end_time": "2021-05-13T22:17:17.945247",
     "exception": false,
     "start_time": "2021-05-13T22:17:17.923768",
     "status": "completed"
    },
    "tags": []
   },
   "outputs": [
    {
     "name": "stdout",
     "output_type": "stream",
     "text": [
      "Writing fuaimeanna-write.pl\n"
     ]
    }
   ],
   "source": [
    "%%writefile fuaimeanna-write.pl\n",
    "#!/usr/bin/perl\n",
    "use warnings;\n",
    "use strict;\n",
    "use utf8;\n",
    "\n",
    "binmode(STDIN, \":utf8\");\n",
    "binmode(STDOUT, \":utf8\");\n",
    "binmode(STDERR, \":utf8\");\n",
    "\n",
    "my %cr_files = (\n",
    "\t'mo shmidiú' => 'mo chuid smidiú',\n",
    "\t'mo shmior' => 'mo chuid smior',\n",
    "\t'mo shmólach' => 'mo smólach',\n",
    "\t'shmachtaigh' => 'smachtaigh',\n",
    "\t'shmaoinigh' => 'smaoinigh',\n",
    "\t'shmear' => 'smear',\n",
    "\t'deamhain' => 'diabhail',\n",
    "\t'folach' => 'i bhfolach',\n",
    ");\n",
    "my %empty = (\n",
    "\t'/sounds/gob_i3_s3.mp3' => 1,\n",
    "\t'/sounds/iioctha_i3_s3.mp3' => 1,\n",
    "\t'/sounds/mo_shuiiochaan_i3_s3.mp3' => 1,\n",
    "\t'/sounds/riail_i3_s3.mp3' => 1\n",
    ");\n",
    "\n",
    "open(LEXM, '>>', '/tmp/lexicon-munster.raw');\n",
    "binmode LEXM, ':utf8';\n",
    "open(LEXU, '>>', '/tmp/lexicon-ulster.raw');\n",
    "binmode LEXU, ':utf8';\n",
    "open(LEXC, '>>', '/tmp/lexicon-connaught.raw');\n",
    "binmode LEXC, ':utf8';\n",
    "\n",
    "sub write_text {\n",
    "\tmy $file = shift;\n",
    "\tmy $text = shift;\n",
    "\topen(OUTF, '>>', $file);\n",
    "\tbinmode OUTF, ':utf8';\n",
    "\tprint OUTF $text;\n",
    "\tclose OUTF;\n",
    "}\n",
    "\n",
    "sub write_pron {\n",
    "\tmy $file = shift;\n",
    "\tmy $text = shift;\n",
    "\tmy $pron = shift;\n",
    "\tif ($text eq 'ar tí') {\n",
    "\t\t$pron =~ s/ \\. ˈ / # /g;\n",
    "\t}\n",
    "\t$pron =~ s/ [ˈˌ] / /g;\n",
    "\t$pron =~ s/^[ˈˌ] //g;\n",
    "\t$pron =~ s/ \\. / /g;\n",
    "\tmy @words = split/ /, $text;\n",
    "\tmy @prons = split/ \\# /, $pron;\n",
    "\tif($#words != $#prons) {\n",
    "\t\tprint STDERR \"ERROR: $file $text $pron\\n\";\n",
    "\t}\n",
    "\tif($#words == 0) {\n",
    "\t\tprint $file \"$text $pron\\n\";\n",
    "\t} else {\n",
    "\t\tfor(my $i = 0; $i <= $#words; $i++) {\n",
    "\t\t\tprint $file \"$words[$i] $prons[$i]\\n\";\n",
    "\t\t}\n",
    "\t}\n",
    "}\n",
    "\n",
    "while(<STDIN>) {\n",
    "\tchomp;\n",
    "\tmy @line = split/\\t/;\n",
    "\tnext if($line[0] eq 'Orthographic');\n",
    "\tmy $text = lc($line[0]);\n",
    "\tnext if($line[0] eq \"d'fhág\");\n",
    "\tmy $uout = $line[1];\n",
    "\t$uout =~ s!/sounds/!!;\n",
    "\t$uout =~ s/\\.mp3$/.txt/;\n",
    "\tmy $cout = $line[3];\n",
    "\t$cout =~ s!/sounds/!!;\n",
    "\t$cout =~ s/\\.mp3$/.txt/;\n",
    "\tmy $mout = $line[5];\n",
    "\t$mout =~ s!/sounds/!!;\n",
    "\t$mout =~ s/\\.mp3$/.txt/;\n",
    "\t$uout = '/tmp/u/' . $uout;\n",
    "\t$cout = '/tmp/c/' . $cout;\n",
    "\t$mout = '/tmp/m/' . $mout;\n",
    "\n",
    "\tmy $pronu = $line[2];\n",
    "\tmy $pronc = $line[4];\n",
    "\tmy $pronm = $line[6];\n",
    "\n",
    "\tif($text eq 'Gaeilge') {\n",
    "\t\twrite_text($uout, \"gaeilic\");\n",
    "\t\twrite_text($cout, \"gaeilge\");\n",
    "\t\twrite_text($mout, \"gaelainn\");\n",
    "\t\twrite_pron(\\*LEXU, \"gaeilic\", $pronu);\n",
    "\t\twrite_pron(\\*LEXC, \"gaeilge\", $pronc);\n",
    "\t\twrite_pron(\\*LEXM, \"gaelainn\", $pronm);\n",
    "\t\tnext;\n",
    "\t}\n",
    "\tif($line[0] eq 'bocht' || $line[0] eq 'teacht' || $line[0] eq 'teocht') {\n",
    "\t\t$pronu =~ s/x t̪ˠ/ɾˠ t̪ˠ/;\n",
    "\t}\n",
    "\twrite_text($uout, $text);\n",
    "\twrite_pron(\\*LEXU, $text, $pronu);\n",
    "\twrite_text($mout, $text);\n",
    "\twrite_pron(\\*LEXM, $text, $pronm);\n",
    "\tif(!exists $empty{$line[3]}) {\n",
    "\t\tmy $cfix = exists $cr_files{$text} ? $cr_files{$text} : $text;\n",
    "\t\twrite_text($cout, $cfix);\n",
    "\t\twrite_pron(\\*LEXC, $cfix, $pronc);\n",
    "\t}\n",
    "}"
   ]
  },
  {
   "cell_type": "code",
   "execution_count": 6,
   "id": "average-engineer",
   "metadata": {
    "execution": {
     "iopub.execute_input": "2021-05-13T22:17:17.981263Z",
     "iopub.status.busy": "2021-05-13T22:17:17.978300Z",
     "iopub.status.idle": "2021-05-13T22:17:19.070173Z",
     "shell.execute_reply": "2021-05-13T22:17:19.070803Z"
    },
    "papermill": {
     "duration": 1.115426,
     "end_time": "2021-05-13T22:17:19.070963",
     "exception": false,
     "start_time": "2021-05-13T22:17:17.955537",
     "status": "completed"
    },
    "tags": []
   },
   "outputs": [
    {
     "name": "stdout",
     "output_type": "stream",
     "text": [
      "cat: /tmp/lexicon-connaught.raw: No such file or directory\r\n",
      "cat: /tmp/lexicon-ulster.raw: No such file or directory\r\n",
      "cat: /tmp/lexicon-munster.raw: No such file or directory\r\n",
      "cat: /tmp/lexicon-connaught.raw: No such file or directory\r\n",
      "cat: /tmp/lexicon-ulster.raw: No such file or directory\r\n",
      "cat: /tmp/lexicon-munster.raw: No such file or directory\r\n"
     ]
    }
   ],
   "source": [
    "!cat /tmp/lexicon-connaught.raw | sort | uniq > /tmp/lexicon-connaught.txt\n",
    "!cat /tmp/lexicon-ulster.raw | sort | uniq > /tmp/lexicon-ulster.txt\n",
    "!cat /tmp/lexicon-munster.raw | sort | uniq > /tmp/lexicon-munster.txt\n",
    "!cat /tmp/lexicon-connaught.raw /tmp/lexicon-ulster.raw /tmp/lexicon-munster.raw | sort | uniq > /tmp/lexicon-all.txt"
   ]
  },
  {
   "cell_type": "code",
   "execution_count": 7,
   "id": "cooperative-factor",
   "metadata": {
    "execution": {
     "iopub.execute_input": "2021-05-13T22:17:19.099436Z",
     "iopub.status.busy": "2021-05-13T22:17:19.098923Z",
     "iopub.status.idle": "2021-05-13T22:17:20.492936Z",
     "shell.execute_reply": "2021-05-13T22:17:20.492389Z"
    },
    "papermill": {
     "duration": 1.412192,
     "end_time": "2021-05-13T22:17:20.493054",
     "exception": false,
     "start_time": "2021-05-13T22:17:19.080862",
     "status": "completed"
    },
    "tags": []
   },
   "outputs": [
    {
     "name": "stdout",
     "output_type": "stream",
     "text": [
      "cp: cannot stat '/tmp/c/*': No such file or directory\r\n",
      "cp: cannot stat '/tmp/m/*': No such file or directory\r\n",
      "cp: cannot stat '/tmp/u/*': No such file or directory\r\n"
     ]
    }
   ],
   "source": [
    "!mkdir /tmp/all\n",
    "!cp /tmp/c/* /tmp/all\n",
    "!cp /tmp/m/* /tmp/all\n",
    "!cp /tmp/u/* /tmp/all\n",
    "!mkdir /tmp/mfa-temp"
   ]
  },
  {
   "cell_type": "markdown",
   "id": "floppy-casino",
   "metadata": {
    "papermill": {
     "duration": 0.010376,
     "end_time": "2021-05-13T22:17:20.514292",
     "exception": false,
     "start_time": "2021-05-13T22:17:20.503916",
     "status": "completed"
    },
    "tags": []
   },
   "source": [
    "### Run MFA"
   ]
  },
  {
   "cell_type": "code",
   "execution_count": 8,
   "id": "seeing-silver",
   "metadata": {
    "execution": {
     "iopub.execute_input": "2021-05-13T22:17:20.546455Z",
     "iopub.status.busy": "2021-05-13T22:17:20.545946Z",
     "iopub.status.idle": "2021-05-13T22:17:22.754868Z",
     "shell.execute_reply": "2021-05-13T22:17:22.754034Z"
    },
    "papermill": {
     "duration": 2.230118,
     "end_time": "2021-05-13T22:17:22.755039",
     "exception": false,
     "start_time": "2021-05-13T22:17:20.524921",
     "status": "completed"
    },
    "tags": []
   },
   "outputs": [
    {
     "name": "stdout",
     "output_type": "stream",
     "text": [
      "Setting up corpus information...\r\n",
      "set()\r\n",
      "Traceback (most recent call last):\r\n",
      "  File \"aligner/command_line/train_and_align.py\", line 171, in <module>\r\n",
      "  File \"aligner/command_line/train_and_align.py\", line 53, in align_corpus\r\n",
      "  File \"aligner/dictionary.py\", line 128, in __init__\r\n",
      "  File \"aligner/dictionary.py\", line 18, in compile_graphemes\r\n",
      "  File \"/home/michael/miniconda3/envs/aligner/lib/python3.6/re.py\", line 233, in compile\r\n",
      "  File \"/home/michael/miniconda3/envs/aligner/lib/python3.6/re.py\", line 301, in _compile\r\n",
      "  File \"/home/michael/miniconda3/envs/aligner/lib/python3.6/sre_compile.py\", line 562, in compile\r\n",
      "  File \"/home/michael/miniconda3/envs/aligner/lib/python3.6/sre_parse.py\", line 855, in parse\r\n",
      "  File \"/home/michael/miniconda3/envs/aligner/lib/python3.6/sre_parse.py\", line 416, in _parse_sub\r\n",
      "  File \"/home/michael/miniconda3/envs/aligner/lib/python3.6/sre_parse.py\", line 765, in _parse\r\n",
      "  File \"/home/michael/miniconda3/envs/aligner/lib/python3.6/sre_parse.py\", line 416, in _parse_sub\r\n",
      "  File \"/home/michael/miniconda3/envs/aligner/lib/python3.6/sre_parse.py\", line 523, in _parse\r\n",
      "sre_constants.error: unterminated character set at position 5\r\n",
      "[111] Failed to execute script train_and_align\r\n",
      "Setting up corpus information...\r\n",
      "set()\r\n",
      "Traceback (most recent call last):\r\n",
      "  File \"aligner/command_line/train_and_align.py\", line 171, in <module>\r\n",
      "  File \"aligner/command_line/train_and_align.py\", line 53, in align_corpus\r\n",
      "  File \"aligner/dictionary.py\", line 128, in __init__\r\n",
      "  File \"aligner/dictionary.py\", line 18, in compile_graphemes\r\n",
      "  File \"/home/michael/miniconda3/envs/aligner/lib/python3.6/re.py\", line 233, in compile\r\n",
      "  File \"/home/michael/miniconda3/envs/aligner/lib/python3.6/re.py\", line 301, in _compile\r\n",
      "  File \"/home/michael/miniconda3/envs/aligner/lib/python3.6/sre_compile.py\", line 562, in compile\r\n",
      "  File \"/home/michael/miniconda3/envs/aligner/lib/python3.6/sre_parse.py\", line 855, in parse\r\n",
      "  File \"/home/michael/miniconda3/envs/aligner/lib/python3.6/sre_parse.py\", line 416, in _parse_sub\r\n",
      "  File \"/home/michael/miniconda3/envs/aligner/lib/python3.6/sre_parse.py\", line 765, in _parse\r\n",
      "  File \"/home/michael/miniconda3/envs/aligner/lib/python3.6/sre_parse.py\", line 416, in _parse_sub\r\n",
      "  File \"/home/michael/miniconda3/envs/aligner/lib/python3.6/sre_parse.py\", line 523, in _parse\r\n",
      "sre_constants.error: unterminated character set at position 5\r\n",
      "[115] Failed to execute script train_and_align\r\n",
      "Setting up corpus information...\r\n",
      "set()\r\n",
      "Traceback (most recent call last):\r\n",
      "  File \"aligner/command_line/train_and_align.py\", line 171, in <module>\r\n",
      "  File \"aligner/command_line/train_and_align.py\", line 53, in align_corpus\r\n",
      "  File \"aligner/dictionary.py\", line 128, in __init__\r\n",
      "  File \"aligner/dictionary.py\", line 18, in compile_graphemes\r\n",
      "  File \"/home/michael/miniconda3/envs/aligner/lib/python3.6/re.py\", line 233, in compile\r\n",
      "  File \"/home/michael/miniconda3/envs/aligner/lib/python3.6/re.py\", line 301, in _compile\r\n",
      "  File \"/home/michael/miniconda3/envs/aligner/lib/python3.6/sre_compile.py\", line 562, in compile\r\n",
      "  File \"/home/michael/miniconda3/envs/aligner/lib/python3.6/sre_parse.py\", line 855, in parse\r\n",
      "  File \"/home/michael/miniconda3/envs/aligner/lib/python3.6/sre_parse.py\", line 416, in _parse_sub\r\n",
      "  File \"/home/michael/miniconda3/envs/aligner/lib/python3.6/sre_parse.py\", line 765, in _parse\r\n",
      "  File \"/home/michael/miniconda3/envs/aligner/lib/python3.6/sre_parse.py\", line 416, in _parse_sub\r\n",
      "  File \"/home/michael/miniconda3/envs/aligner/lib/python3.6/sre_parse.py\", line 523, in _parse\r\n",
      "sre_constants.error: unterminated character set at position 5\r\n",
      "[119] Failed to execute script train_and_align\r\n",
      "Setting up corpus information...\r\n",
      "set()\r\n",
      "Traceback (most recent call last):\r\n",
      "  File \"aligner/command_line/train_and_align.py\", line 171, in <module>\r\n",
      "  File \"aligner/command_line/train_and_align.py\", line 53, in align_corpus\r\n",
      "  File \"aligner/dictionary.py\", line 128, in __init__\r\n",
      "  File \"aligner/dictionary.py\", line 18, in compile_graphemes\r\n",
      "  File \"/home/michael/miniconda3/envs/aligner/lib/python3.6/re.py\", line 233, in compile\r\n",
      "  File \"/home/michael/miniconda3/envs/aligner/lib/python3.6/re.py\", line 301, in _compile\r\n",
      "  File \"/home/michael/miniconda3/envs/aligner/lib/python3.6/sre_compile.py\", line 562, in compile\r\n",
      "  File \"/home/michael/miniconda3/envs/aligner/lib/python3.6/sre_parse.py\", line 855, in parse\r\n",
      "  File \"/home/michael/miniconda3/envs/aligner/lib/python3.6/sre_parse.py\", line 416, in _parse_sub\r\n",
      "  File \"/home/michael/miniconda3/envs/aligner/lib/python3.6/sre_parse.py\", line 765, in _parse\r\n",
      "  File \"/home/michael/miniconda3/envs/aligner/lib/python3.6/sre_parse.py\", line 416, in _parse_sub\r\n",
      "  File \"/home/michael/miniconda3/envs/aligner/lib/python3.6/sre_parse.py\", line 523, in _parse\r\n",
      "sre_constants.error: unterminated character set at position 5\r\n",
      "[123] Failed to execute script train_and_align\r\n"
     ]
    }
   ],
   "source": [
    "!mfa_train_and_align -t /tmp/mfa-temp -o ./munster-model /tmp/m /tmp/lexicon-munster.txt ./textgrid-munster\n",
    "!mfa_train_and_align -t /tmp/mfa-temp -o ./ulster-model /tmp/u /tmp/lexicon-ulster.txt ./textgrid-ulster\n",
    "!mfa_train_and_align -t /tmp/mfa-temp -o ./connaught-model /tmp/c /tmp/lexicon-connaught.txt ./textgrid-connaught\n",
    "!mfa_train_and_align -t /tmp/mfa-temp -o ./all-model /tmp/all /tmp/lexicon-all.txt ./textgrid-all"
   ]
  },
  {
   "cell_type": "code",
   "execution_count": 9,
   "id": "included-protocol",
   "metadata": {
    "execution": {
     "iopub.execute_input": "2021-05-13T22:17:22.801904Z",
     "iopub.status.busy": "2021-05-13T22:17:22.801316Z",
     "iopub.status.idle": "2021-05-13T22:17:24.805528Z",
     "shell.execute_reply": "2021-05-13T22:17:24.804794Z"
    },
    "papermill": {
     "duration": 2.031573,
     "end_time": "2021-05-13T22:17:24.805643",
     "exception": false,
     "start_time": "2021-05-13T22:17:22.774070",
     "status": "completed"
    },
    "tags": []
   },
   "outputs": [
    {
     "name": "stdout",
     "output_type": "stream",
     "text": [
      "set()\r\n",
      "Traceback (most recent call last):\r\n",
      "  File \"aligner/command_line/train_g2p.py\", line 49, in <module>\r\n",
      "  File \"aligner/command_line/train_g2p.py\", line 16, in train_g2p\r\n",
      "  File \"aligner/dictionary.py\", line 128, in __init__\r\n",
      "  File \"aligner/dictionary.py\", line 18, in compile_graphemes\r\n",
      "  File \"/home/michael/miniconda3/envs/aligner/lib/python3.6/re.py\", line 233, in compile\r\n",
      "  File \"/home/michael/miniconda3/envs/aligner/lib/python3.6/re.py\", line 301, in _compile\r\n",
      "  File \"/home/michael/miniconda3/envs/aligner/lib/python3.6/sre_compile.py\", line 562, in compile\r\n",
      "  File \"/home/michael/miniconda3/envs/aligner/lib/python3.6/sre_parse.py\", line 855, in parse\r\n",
      "  File \"/home/michael/miniconda3/envs/aligner/lib/python3.6/sre_parse.py\", line 416, in _parse_sub\r\n",
      "  File \"/home/michael/miniconda3/envs/aligner/lib/python3.6/sre_parse.py\", line 765, in _parse\r\n",
      "  File \"/home/michael/miniconda3/envs/aligner/lib/python3.6/sre_parse.py\", line 416, in _parse_sub\r\n",
      "  File \"/home/michael/miniconda3/envs/aligner/lib/python3.6/sre_parse.py\", line 523, in _parse\r\n",
      "sre_constants.error: unterminated character set at position 5\r\n",
      "[127] Failed to execute script train_g2p\r\n",
      "set()\r\n",
      "Traceback (most recent call last):\r\n",
      "  File \"aligner/command_line/train_g2p.py\", line 49, in <module>\r\n",
      "  File \"aligner/command_line/train_g2p.py\", line 16, in train_g2p\r\n",
      "  File \"aligner/dictionary.py\", line 128, in __init__\r\n",
      "  File \"aligner/dictionary.py\", line 18, in compile_graphemes\r\n",
      "  File \"/home/michael/miniconda3/envs/aligner/lib/python3.6/re.py\", line 233, in compile\r\n",
      "  File \"/home/michael/miniconda3/envs/aligner/lib/python3.6/re.py\", line 301, in _compile\r\n",
      "  File \"/home/michael/miniconda3/envs/aligner/lib/python3.6/sre_compile.py\", line 562, in compile\r\n",
      "  File \"/home/michael/miniconda3/envs/aligner/lib/python3.6/sre_parse.py\", line 855, in parse\r\n",
      "  File \"/home/michael/miniconda3/envs/aligner/lib/python3.6/sre_parse.py\", line 416, in _parse_sub\r\n",
      "  File \"/home/michael/miniconda3/envs/aligner/lib/python3.6/sre_parse.py\", line 765, in _parse\r\n",
      "  File \"/home/michael/miniconda3/envs/aligner/lib/python3.6/sre_parse.py\", line 416, in _parse_sub\r\n",
      "  File \"/home/michael/miniconda3/envs/aligner/lib/python3.6/sre_parse.py\", line 523, in _parse\r\n",
      "sre_constants.error: unterminated character set at position 5\r\n",
      "[131] Failed to execute script train_g2p\r\n",
      "set()\r\n",
      "Traceback (most recent call last):\r\n",
      "  File \"aligner/command_line/train_g2p.py\", line 49, in <module>\r\n",
      "  File \"aligner/command_line/train_g2p.py\", line 16, in train_g2p\r\n",
      "  File \"aligner/dictionary.py\", line 128, in __init__\r\n",
      "  File \"aligner/dictionary.py\", line 18, in compile_graphemes\r\n",
      "  File \"/home/michael/miniconda3/envs/aligner/lib/python3.6/re.py\", line 233, in compile\r\n",
      "  File \"/home/michael/miniconda3/envs/aligner/lib/python3.6/re.py\", line 301, in _compile\r\n",
      "  File \"/home/michael/miniconda3/envs/aligner/lib/python3.6/sre_compile.py\", line 562, in compile\r\n",
      "  File \"/home/michael/miniconda3/envs/aligner/lib/python3.6/sre_parse.py\", line 855, in parse\r\n",
      "  File \"/home/michael/miniconda3/envs/aligner/lib/python3.6/sre_parse.py\", line 416, in _parse_sub\r\n",
      "  File \"/home/michael/miniconda3/envs/aligner/lib/python3.6/sre_parse.py\", line 765, in _parse\r\n",
      "  File \"/home/michael/miniconda3/envs/aligner/lib/python3.6/sre_parse.py\", line 416, in _parse_sub\r\n",
      "  File \"/home/michael/miniconda3/envs/aligner/lib/python3.6/sre_parse.py\", line 523, in _parse\r\n",
      "sre_constants.error: unterminated character set at position 5\r\n",
      "[135] Failed to execute script train_g2p\r\n",
      "set()\r\n",
      "Traceback (most recent call last):\r\n",
      "  File \"aligner/command_line/train_g2p.py\", line 49, in <module>\r\n",
      "  File \"aligner/command_line/train_g2p.py\", line 16, in train_g2p\r\n",
      "  File \"aligner/dictionary.py\", line 128, in __init__\r\n",
      "  File \"aligner/dictionary.py\", line 18, in compile_graphemes\r\n",
      "  File \"/home/michael/miniconda3/envs/aligner/lib/python3.6/re.py\", line 233, in compile\r\n",
      "  File \"/home/michael/miniconda3/envs/aligner/lib/python3.6/re.py\", line 301, in _compile\r\n",
      "  File \"/home/michael/miniconda3/envs/aligner/lib/python3.6/sre_compile.py\", line 562, in compile\r\n",
      "  File \"/home/michael/miniconda3/envs/aligner/lib/python3.6/sre_parse.py\", line 855, in parse\r\n",
      "  File \"/home/michael/miniconda3/envs/aligner/lib/python3.6/sre_parse.py\", line 416, in _parse_sub\r\n",
      "  File \"/home/michael/miniconda3/envs/aligner/lib/python3.6/sre_parse.py\", line 765, in _parse\r\n",
      "  File \"/home/michael/miniconda3/envs/aligner/lib/python3.6/sre_parse.py\", line 416, in _parse_sub\r\n",
      "  File \"/home/michael/miniconda3/envs/aligner/lib/python3.6/sre_parse.py\", line 523, in _parse\r\n",
      "sre_constants.error: unterminated character set at position 5\r\n",
      "[139] Failed to execute script train_g2p\r\n"
     ]
    }
   ],
   "source": [
    "!mfa_train_g2p -t /tmp/mfa-temp /tmp/lexicon-ulster.txt ./g2p-ulster\n",
    "!mfa_train_g2p -t /tmp/mfa-temp /tmp/lexicon-munster.txt ./g2p-munster\n",
    "!mfa_train_g2p -t /tmp/mfa-temp /tmp/lexicon-connaught.txt ./g2p-connaught\n",
    "!mfa_train_g2p -t /tmp/mfa-temp /tmp/lexicon-all.txt ./g2p-all\n"
   ]
  }
 ],
 "metadata": {
  "kernelspec": {
   "display_name": "Python 3",
   "language": "python",
   "name": "python3"
  },
  "language_info": {
   "codemirror_mode": {
    "name": "ipython",
    "version": 3
   },
   "file_extension": ".py",
   "mimetype": "text/x-python",
   "name": "python",
   "nbconvert_exporter": "python",
   "pygments_lexer": "ipython3",
   "version": "3.7.9"
  },
  "papermill": {
   "default_parameters": {},
   "duration": 37.177353,
   "end_time": "2021-05-13T22:17:25.631158",
   "environment_variables": {},
   "exception": null,
   "input_path": "__notebook__.ipynb",
   "output_path": "__notebook__.ipynb",
   "parameters": {},
   "start_time": "2021-05-13T22:16:48.453805",
   "version": "2.3.2"
  }
 },
 "nbformat": 4,
 "nbformat_minor": 5
}
