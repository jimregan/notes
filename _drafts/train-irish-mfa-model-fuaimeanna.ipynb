{
 "cells": [
  {
   "cell_type": "markdown",
   "id": "unlikely-prevention",
   "metadata": {
    "papermill": {
     "duration": 0.010572,
     "end_time": "2021-05-14T09:03:58.035695",
     "exception": false,
     "start_time": "2021-05-14T09:03:58.025123",
     "status": "completed"
    },
    "tags": []
   },
   "source": [
    "## Part, the first\n",
    "### Setting up MFA"
   ]
  },
  {
   "cell_type": "code",
   "execution_count": 1,
   "id": "alone-scale",
   "metadata": {
    "_cell_guid": "b1076dfc-b9ad-4769-8c92-a6c4dae69d19",
    "_uuid": "8f2839f25d086af736a60e9eeb907d3b93b6e0e5",
    "execution": {
     "iopub.execute_input": "2021-05-14T09:03:58.067374Z",
     "iopub.status.busy": "2021-05-14T09:03:58.066645Z",
     "iopub.status.idle": "2021-05-14T09:04:08.958568Z",
     "shell.execute_reply": "2021-05-14T09:04:08.959161Z"
    },
    "papermill": {
     "duration": 10.914187,
     "end_time": "2021-05-14T09:04:08.959546",
     "exception": false,
     "start_time": "2021-05-14T09:03:58.045359",
     "status": "completed"
    },
    "tags": []
   },
   "outputs": [],
   "source": [
    "%%capture\n",
    "import os\n",
    "os.chdir('/tmp')\n",
    "!wget https://github.com/MontrealCorpusTools/Montreal-Forced-Aligner/releases/download/v1.0.1/montreal-forced-aligner_linux.tar.gz\n",
    "!tar zxvf montreal-forced-aligner_linux.tar.gz\n",
    "!ln -s /tmp/montreal-forced-aligner/lib/libpython3.6m.so.1.0 /tmp/montreal-forced-aligner/lib/libpython3.6m.so"
   ]
  },
  {
   "cell_type": "code",
   "execution_count": 2,
   "id": "former-mercury",
   "metadata": {
    "execution": {
     "iopub.execute_input": "2021-05-14T09:04:08.989169Z",
     "iopub.status.busy": "2021-05-14T09:04:08.988454Z",
     "iopub.status.idle": "2021-05-14T09:04:08.992177Z",
     "shell.execute_reply": "2021-05-14T09:04:08.991518Z"
    },
    "papermill": {
     "duration": 0.020771,
     "end_time": "2021-05-14T09:04:08.992341",
     "exception": false,
     "start_time": "2021-05-14T09:04:08.971570",
     "status": "completed"
    },
    "tags": []
   },
   "outputs": [],
   "source": [
    "os.chdir('/kaggle/working')\n",
    "os.environ['LD_LIBRARY_PATH'] = f'{os.environ[\"LD_LIBRARY_PATH\"]}:/tmp/montreal-forced-aligner/lib/'\n",
    "os.environ['PATH'] = f'{os.environ[\"PATH\"]}:/tmp/montreal-forced-aligner/bin/'"
   ]
  },
  {
   "cell_type": "code",
   "execution_count": 3,
   "id": "colored-elizabeth",
   "metadata": {
    "execution": {
     "iopub.execute_input": "2021-05-14T09:04:09.024598Z",
     "iopub.status.busy": "2021-05-14T09:04:09.020366Z",
     "iopub.status.idle": "2021-05-14T09:04:18.104877Z",
     "shell.execute_reply": "2021-05-14T09:04:18.103823Z"
    },
    "papermill": {
     "duration": 9.101922,
     "end_time": "2021-05-14T09:04:18.105061",
     "exception": false,
     "start_time": "2021-05-14T09:04:09.003139",
     "status": "completed"
    },
    "tags": []
   },
   "outputs": [],
   "source": [
    "%%capture\n",
    "!apt-get -y install libgfortran3"
   ]
  },
  {
   "cell_type": "markdown",
   "id": "judicial-joseph",
   "metadata": {
    "papermill": {
     "duration": 0.01025,
     "end_time": "2021-05-14T09:04:18.126830",
     "exception": false,
     "start_time": "2021-05-14T09:04:18.116580",
     "status": "completed"
    },
    "tags": []
   },
   "source": [
    "To create the same data, fork and run [this notebook](https://www.kaggle.com/jimregan/scrape-fuaimeanna-ie)"
   ]
  },
  {
   "cell_type": "code",
   "execution_count": 4,
   "id": "ignored-vegetarian",
   "metadata": {
    "execution": {
     "iopub.execute_input": "2021-05-14T09:04:18.150847Z",
     "iopub.status.busy": "2021-05-14T09:04:18.150178Z",
     "iopub.status.idle": "2021-05-14T09:04:31.700155Z",
     "shell.execute_reply": "2021-05-14T09:04:31.699332Z"
    },
    "papermill": {
     "duration": 13.563483,
     "end_time": "2021-05-14T09:04:31.700322",
     "exception": false,
     "start_time": "2021-05-14T09:04:18.136839",
     "status": "completed"
    },
    "tags": []
   },
   "outputs": [],
   "source": [
    "!mkdir /tmp/m\n",
    "!mkdir /tmp/c\n",
    "!mkdir /tmp/u\n",
    "\n",
    "!cp ../input/scrape-fuaimeanna-private/wav/*s1.wav /tmp/u\n",
    "!cp ../input/scrape-fuaimeanna-private/wav/*s2.wav /tmp/m\n",
    "!cp ../input/scrape-fuaimeanna-private/wav/*s3.wav /tmp/c"
   ]
  },
  {
   "cell_type": "code",
   "execution_count": 5,
   "id": "dutch-vatican",
   "metadata": {
    "execution": {
     "iopub.execute_input": "2021-05-14T09:04:31.730272Z",
     "iopub.status.busy": "2021-05-14T09:04:31.729409Z",
     "iopub.status.idle": "2021-05-14T09:04:31.734309Z",
     "shell.execute_reply": "2021-05-14T09:04:31.733674Z"
    },
    "papermill": {
     "duration": 0.023863,
     "end_time": "2021-05-14T09:04:31.734462",
     "exception": false,
     "start_time": "2021-05-14T09:04:31.710599",
     "status": "completed"
    },
    "tags": []
   },
   "outputs": [
    {
     "name": "stdout",
     "output_type": "stream",
     "text": [
      "Writing fuaimeanna-write.pl\n"
     ]
    }
   ],
   "source": [
    "%%writefile fuaimeanna-write.pl\n",
    "#!/usr/bin/perl\n",
    "use warnings;\n",
    "use strict;\n",
    "use utf8;\n",
    "\n",
    "binmode(STDIN, \":utf8\");\n",
    "binmode(STDOUT, \":utf8\");\n",
    "binmode(STDERR, \":utf8\");\n",
    "\n",
    "my %cr_files = (\n",
    "\t'mo shmidiú' => 'mo chuid smidiú',\n",
    "\t'mo shmior' => 'mo chuid smior',\n",
    "\t'mo shmólach' => 'mo smólach',\n",
    "\t'shmachtaigh' => 'smachtaigh',\n",
    "\t'shmaoinigh' => 'smaoinigh',\n",
    "\t'shmear' => 'smear',\n",
    "\t'deamhain' => 'diabhail',\n",
    "\t'folach' => 'i bhfolach',\n",
    "\t'captaen' => 'caiptín',\n",
    ");\n",
    "my %empty = (\n",
    "\t'/sounds/gob_i3_s3.mp3' => 1,\n",
    "\t'/sounds/iioctha_i3_s3.mp3' => 1,\n",
    "\t'/sounds/mo_shuiiochaan_i3_s3.mp3' => 1,\n",
    "\t'/sounds/riail_i3_s3.mp3' => 1\n",
    ");\n",
    "\n",
    "open(LEXM, '>>', '/tmp/lexicon-munster.raw');\n",
    "binmode LEXM, ':utf8';\n",
    "open(LEXU, '>>', '/tmp/lexicon-ulster.raw');\n",
    "binmode LEXU, ':utf8';\n",
    "open(LEXC, '>>', '/tmp/lexicon-connaught.raw');\n",
    "binmode LEXC, ':utf8';\n",
    "\n",
    "sub write_text {\n",
    "\tmy $file = shift;\n",
    "\tmy $text = shift;\n",
    "\topen(OUTF, '>>', $file);\n",
    "\tbinmode OUTF, ':utf8';\n",
    "\tprint OUTF $text;\n",
    "\tclose OUTF;\n",
    "}\n",
    "\n",
    "sub write_pron {\n",
    "\tmy $file = shift;\n",
    "\tmy $text = shift;\n",
    "\tmy $pron = shift;\n",
    "\tif ($text eq 'ar tí') {\n",
    "\t\t$pron =~ s/ \\. ˈ / # /g;\n",
    "\t}\n",
    "\t$pron =~ s/ [ˈˌ] / /g;\n",
    "\t$pron =~ s/^[ˈˌ] //g;\n",
    "\t$pron =~ s/ \\. / /g;\n",
    "\tmy @words = split/ /, $text;\n",
    "\tmy @prons = split/ \\# /, $pron;\n",
    "\tif($#words != $#prons) {\n",
    "\t\tprint STDERR \"ERROR: $file $text $pron\\n\";\n",
    "\t}\n",
    "\tif($#words == 0) {\n",
    "\t\tprint $file \"$text $pron\\n\";\n",
    "\t} else {\n",
    "\t\tfor(my $i = 0; $i <= $#words; $i++) {\n",
    "\t\t\tprint $file \"$words[$i] $prons[$i]\\n\";\n",
    "\t\t}\n",
    "\t}\n",
    "}\n",
    "\n",
    "while(<STDIN>) {\n",
    "\tchomp;\n",
    "\tmy @line = split/\\t/;\n",
    "\tnext if($line[0] eq 'Orthographic');\n",
    "\tmy $text = lc($line[0]);\n",
    "\tnext if($line[0] eq \"d'fhág\");\n",
    "\tmy $uout = $line[1];\n",
    "\t$uout =~ s!/sounds/!!;\n",
    "\t$uout =~ s/\\.mp3$/.txt/;\n",
    "\tmy $cout = $line[3];\n",
    "\t$cout =~ s!/sounds/!!;\n",
    "\t$cout =~ s/\\.mp3$/.txt/;\n",
    "\tmy $mout = $line[5];\n",
    "\t$mout =~ s!/sounds/!!;\n",
    "\t$mout =~ s/\\.mp3$/.txt/;\n",
    "\t$uout = '/tmp/u/' . $uout;\n",
    "\t$cout = '/tmp/c/' . $cout;\n",
    "\t$mout = '/tmp/m/' . $mout;\n",
    "\n",
    "\tmy $pronu = $line[2];\n",
    "\tmy $pronc = $line[4];\n",
    "\tmy $pronm = $line[6];\n",
    "\n",
    "\tif($text eq 'Gaeilge') {\n",
    "\t\twrite_text($uout, \"gaeilic\");\n",
    "\t\twrite_text($cout, \"gaeilge\");\n",
    "\t\twrite_text($mout, \"gaelainn\");\n",
    "\t\twrite_pron(\\*LEXU, \"gaeilic\", $pronu);\n",
    "\t\twrite_pron(\\*LEXC, \"gaeilge\", $pronc);\n",
    "\t\twrite_pron(\\*LEXM, \"gaelainn\", $pronm);\n",
    "\t\tnext;\n",
    "\t}\n",
    "\tif($line[0] eq 'bocht' || $line[0] eq 'teacht' || $line[0] eq 'teocht') {\n",
    "\t\t$pronu =~ s/x t̪ˠ/ɾˠ t̪ˠ/;\n",
    "\t}\n",
    "\twrite_text($uout, $text);\n",
    "\twrite_pron(\\*LEXU, $text, $pronu);\n",
    "\twrite_text($mout, $text);\n",
    "\twrite_pron(\\*LEXM, $text, $pronm);\n",
    "\tif(!exists $empty{$line[3]}) {\n",
    "\t\tmy $cfix = exists $cr_files{$text} ? $cr_files{$text} : $text;\n",
    "\t\twrite_text($cout, $cfix);\n",
    "\t\twrite_pron(\\*LEXC, $cfix, $pronc);\n",
    "\t}\n",
    "}"
   ]
  },
  {
   "cell_type": "code",
   "execution_count": 6,
   "id": "substantial-starter",
   "metadata": {
    "execution": {
     "iopub.execute_input": "2021-05-14T09:04:31.766662Z",
     "iopub.status.busy": "2021-05-14T09:04:31.762116Z",
     "iopub.status.idle": "2021-05-14T09:04:32.659006Z",
     "shell.execute_reply": "2021-05-14T09:04:32.658366Z"
    },
    "papermill": {
     "duration": 0.913617,
     "end_time": "2021-05-14T09:04:32.659170",
     "exception": false,
     "start_time": "2021-05-14T09:04:31.745553",
     "status": "completed"
    },
    "tags": []
   },
   "outputs": [],
   "source": [
    "!cat ../input/scrape-fuaimeanna-private/all-fuaimeanna-data.tsv | perl fuaimeanna-write.pl"
   ]
  },
  {
   "cell_type": "code",
   "execution_count": 7,
   "id": "foster-technical",
   "metadata": {
    "execution": {
     "iopub.execute_input": "2021-05-14T09:04:32.684629Z",
     "iopub.status.busy": "2021-05-14T09:04:32.683991Z",
     "iopub.status.idle": "2021-05-14T09:04:35.614656Z",
     "shell.execute_reply": "2021-05-14T09:04:35.614088Z"
    },
    "papermill": {
     "duration": 2.944854,
     "end_time": "2021-05-14T09:04:35.614838",
     "exception": false,
     "start_time": "2021-05-14T09:04:32.669984",
     "status": "completed"
    },
    "tags": []
   },
   "outputs": [],
   "source": [
    "!cat /tmp/lexicon-connaught.raw | sort | uniq > /tmp/lexicon-connaught.txt\n",
    "!cat /tmp/lexicon-ulster.raw | sort | uniq > /tmp/lexicon-ulster.txt\n",
    "!cat /tmp/lexicon-munster.raw | sort | uniq > /tmp/lexicon-munster.txt\n",
    "!cat /tmp/lexicon-connaught.raw /tmp/lexicon-ulster.raw /tmp/lexicon-munster.raw | sort | uniq > /tmp/lexicon-all.txt"
   ]
  },
  {
   "cell_type": "code",
   "execution_count": 8,
   "id": "intermediate-mainland",
   "metadata": {
    "execution": {
     "iopub.execute_input": "2021-05-14T09:04:35.641545Z",
     "iopub.status.busy": "2021-05-14T09:04:35.640892Z",
     "iopub.status.idle": "2021-05-14T09:04:40.941160Z",
     "shell.execute_reply": "2021-05-14T09:04:40.940487Z"
    },
    "papermill": {
     "duration": 5.314888,
     "end_time": "2021-05-14T09:04:40.941320",
     "exception": false,
     "start_time": "2021-05-14T09:04:35.626432",
     "status": "completed"
    },
    "tags": []
   },
   "outputs": [],
   "source": [
    "!mkdir /tmp/all\n",
    "!cp /tmp/c/* /tmp/all\n",
    "!cp /tmp/m/* /tmp/all\n",
    "!cp /tmp/u/* /tmp/all\n",
    "!mkdir /tmp/mfa-temp"
   ]
  },
  {
   "cell_type": "markdown",
   "id": "critical-metropolitan",
   "metadata": {
    "papermill": {
     "duration": 0.011022,
     "end_time": "2021-05-14T09:04:40.966034",
     "exception": false,
     "start_time": "2021-05-14T09:04:40.955012",
     "status": "completed"
    },
    "tags": []
   },
   "source": [
    "### Run MFA"
   ]
  },
  {
   "cell_type": "code",
   "execution_count": 9,
   "id": "defensive-condition",
   "metadata": {
    "execution": {
     "iopub.execute_input": "2021-05-14T09:04:41.002204Z",
     "iopub.status.busy": "2021-05-14T09:04:40.998023Z",
     "iopub.status.idle": "2021-05-14T11:30:44.260560Z",
     "shell.execute_reply": "2021-05-14T11:30:44.259943Z"
    },
    "papermill": {
     "duration": 8763.283427,
     "end_time": "2021-05-14T11:30:44.260747",
     "exception": false,
     "start_time": "2021-05-14T09:04:40.977320",
     "status": "completed"
    },
    "tags": []
   },
   "outputs": [
    {
     "name": "stdout",
     "output_type": "stream",
     "text": [
      "Setting up corpus information...\r\n",
      "Creating dictionary information...\r\n",
      "Setting up training data...\r\n",
      "Calculating MFCCs...\r\n",
      "Calculating CMVN...\r\n",
      "Number of speakers in corpus: 1, average number of utterances per speaker: 760.0\r\n",
      "b'number of phones 259\\nnumber of pdfs 198\\nnumber of transition-ids 1734\\nnumber of transition-states 807\\nfeature dimension 39\\nnumber of gaussians 198\\n'\r\n",
      "None\r\n",
      "b'number of phones 259\\nnumber of pdfs 198\\nnumber of transition-ids 1734\\nnumber of transition-states 807\\nfeature dimension 39\\nnumber of gaussians 198\\n'\r\n",
      "None\r\n",
      "Beginning monophone training...\r\n",
      "100%|███████████████████████████████████████████| 39/39 [02:28<00:00,  2.48s/it]\r\n",
      "Initializing triphone training...\r\n",
      "Beginning triphone training...\r\n",
      "100%|███████████████████████████████████████████| 34/34 [06:24<00:00,  8.42s/it]\r\n",
      "Initializing speaker-adapted triphone training...\r\n",
      "Beginning speaker-adapted triphone training...\r\n",
      "100%|███████████████████████████████████████████| 34/34 [04:37<00:00,  7.05s/it]\r\n",
      "Saved model to ./munster-model\r\n",
      "Setting up corpus information...\r\n",
      "Creating dictionary information...\r\n",
      "Setting up training data...\r\n",
      "Calculating MFCCs...\r\n",
      "Calculating CMVN...\r\n",
      "Number of speakers in corpus: 1, average number of utterances per speaker: 760.0\r\n",
      "b'number of phones 275\\nnumber of pdfs 210\\nnumber of transition-ids 1830\\nnumber of transition-states 855\\nfeature dimension 39\\nnumber of gaussians 210\\n'\r\n",
      "None\r\n",
      "b'number of phones 275\\nnumber of pdfs 210\\nnumber of transition-ids 1830\\nnumber of transition-states 855\\nfeature dimension 39\\nnumber of gaussians 210\\n'\r\n",
      "None\r\n",
      "Beginning monophone training...\r\n",
      "100%|███████████████████████████████████████████| 39/39 [03:08<00:00,  3.17s/it]\r\n",
      "Initializing triphone training...\r\n",
      "Beginning triphone training...\r\n",
      "100%|███████████████████████████████████████████| 34/34 [10:04<00:00, 12.58s/it]\r\n",
      "Initializing speaker-adapted triphone training...\r\n",
      "Beginning speaker-adapted triphone training...\r\n",
      "100%|███████████████████████████████████████████| 34/34 [06:43<00:00, 10.19s/it]\r\n",
      "Saved model to ./ulster-model\r\n",
      "Setting up corpus information...\r\n",
      "Creating dictionary information...\r\n",
      "Setting up training data...\r\n",
      "Calculating MFCCs...\r\n",
      "Calculating CMVN...\r\n",
      "Number of speakers in corpus: 1, average number of utterances per speaker: 756.0\r\n",
      "b'number of phones 275\\nnumber of pdfs 210\\nnumber of transition-ids 1830\\nnumber of transition-states 855\\nfeature dimension 39\\nnumber of gaussians 210\\n'\r\n",
      "None\r\n",
      "b'number of phones 275\\nnumber of pdfs 210\\nnumber of transition-ids 1830\\nnumber of transition-states 855\\nfeature dimension 39\\nnumber of gaussians 210\\n'\r\n",
      "None\r\n",
      "Beginning monophone training...\r\n",
      "100%|███████████████████████████████████████████| 39/39 [02:10<00:00,  2.17s/it]\r\n",
      "Initializing triphone training...\r\n",
      "Beginning triphone training...\r\n",
      "100%|███████████████████████████████████████████| 34/34 [06:11<00:00,  8.12s/it]\r\n",
      "Initializing speaker-adapted triphone training...\r\n",
      "Beginning speaker-adapted triphone training...\r\n",
      "100%|███████████████████████████████████████████| 34/34 [04:31<00:00,  7.05s/it]\r\n",
      "Saved model to ./connaught-model\r\n",
      "Setting up corpus information...\r\n",
      "Creating dictionary information...\r\n",
      "Setting up training data...\r\n",
      "Calculating MFCCs...\r\n",
      "Calculating CMVN...\r\n",
      "Number of speakers in corpus: 1, average number of utterances per speaker: 2276.0\r\n",
      "b'number of phones 343\\nnumber of pdfs 261\\nnumber of transition-ids 2238\\nnumber of transition-states 1059\\nfeature dimension 39\\nnumber of gaussians 261\\n'\r\n",
      "None\r\n",
      "b'number of phones 343\\nnumber of pdfs 261\\nnumber of transition-ids 2238\\nnumber of transition-states 1059\\nfeature dimension 39\\nnumber of gaussians 261\\n'\r\n",
      "None\r\n",
      "Beginning monophone training...\r\n",
      "100%|███████████████████████████████████████████| 39/39 [09:24<00:00,  8.95s/it]\r\n",
      "Initializing triphone training...\r\n",
      "Beginning triphone training...\r\n",
      "100%|███████████████████████████████████████████| 34/34 [46:31<00:00, 74.34s/it]\r\n",
      "Initializing speaker-adapted triphone training...\r\n",
      "Beginning speaker-adapted triphone training...\r\n",
      "100%|███████████████████████████████████████████| 34/34 [33:35<00:00, 63.08s/it]\r\n",
      "Saved model to ./all-model\r\n"
     ]
    }
   ],
   "source": [
    "!mfa_train_and_align -t /tmp/mfa-temp -o ./munster-model /tmp/m /tmp/lexicon-munster.txt /tmp/textgrid-munster\n",
    "!mfa_train_and_align -t /tmp/mfa-temp -o ./ulster-model /tmp/u /tmp/lexicon-ulster.txt /tmp/textgrid-ulster\n",
    "!mfa_train_and_align -t /tmp/mfa-temp -o ./connaught-model /tmp/c /tmp/lexicon-connaught.txt /tmp/textgrid-connaught\n",
    "!mfa_train_and_align -t /tmp/mfa-temp -o ./all-model /tmp/all /tmp/lexicon-all.txt /tmp/textgrid-all"
   ]
  },
  {
   "cell_type": "code",
   "execution_count": 10,
   "id": "interpreted-basics",
   "metadata": {
    "execution": {
     "iopub.execute_input": "2021-05-14T11:30:44.574278Z",
     "iopub.status.busy": "2021-05-14T11:30:44.573516Z",
     "iopub.status.idle": "2021-05-14T11:30:59.532984Z",
     "shell.execute_reply": "2021-05-14T11:30:59.532395Z"
    },
    "papermill": {
     "duration": 15.11856,
     "end_time": "2021-05-14T11:30:59.533133",
     "exception": false,
     "start_time": "2021-05-14T11:30:44.414573",
     "status": "completed"
    },
    "tags": []
   },
   "outputs": [
    {
     "name": "stdout",
     "output_type": "stream",
     "text": [
      "GitRevision: kaldi-6-g64719c\r\n",
      "Loading input file: /tmp/mfa-temp/g2p-ulster/input.txt\r\n",
      "Starting EM...\r\n",
      "Finished first iter...\r\n",
      "Iteration: 1 Change: 2.79152\r\n",
      "Iteration: 2 Change: 0.0378847\r\n",
      "Iteration: 3 Change: 0.0240593\r\n",
      "Iteration: 4 Change: 0.0121169\r\n",
      "Iteration: 5 Change: 0.00603533\r\n",
      "Iteration: 6 Change: 0.00318336\r\n",
      "Iteration: 7 Change: 0.0019784\r\n",
      "Iteration: 8 Change: 0.00152206\r\n",
      "Iteration: 9 Change: 0.00115299\r\n",
      "Iteration: 10 Change: 0.000938416\r\n",
      "Iteration: 11 Change: 0.000809669\r\n",
      "Last iteration: \r\n",
      "GitRevision: kaldi-6-g64719c\r\n",
      "Initializing...\r\n",
      "Converting...\r\n",
      "Saved model to ./g2p-ulster\r\n",
      "GitRevision: kaldi-6-g64719c\r\n",
      "Loading input file: /tmp/mfa-temp/g2p-munster/input.txt\r\n",
      "Starting EM...\r\n",
      "Finished first iter...\r\n",
      "Iteration: 1 Change: 2.83583\r\n",
      "Iteration: 2 Change: 0.0388265\r\n",
      "Iteration: 3 Change: 0.0203438\r\n",
      "Iteration: 4 Change: 0.00895786\r\n",
      "Iteration: 5 Change: 0.00451708\r\n",
      "Iteration: 6 Change: 0.0029273\r\n",
      "Iteration: 7 Change: 0.00200415\r\n",
      "Iteration: 8 Change: 0.0013833\r\n",
      "Iteration: 9 Change: 0.0011096\r\n",
      "Iteration: 10 Change: 0.000919819\r\n",
      "Iteration: 11 Change: 0.000793934\r\n",
      "Last iteration: \r\n",
      "GitRevision: kaldi-6-g64719c\r\n",
      "Initializing...\r\n",
      "Converting...\r\n",
      "Saved model to ./g2p-munster\r\n",
      "GitRevision: kaldi-6-g64719c\r\n",
      "Loading input file: /tmp/mfa-temp/g2p-connaught/input.txt\r\n",
      "Starting EM...\r\n",
      "Finished first iter...\r\n",
      "Iteration: 1 Change: 2.79271\r\n",
      "Iteration: 2 Change: 0.0410786\r\n",
      "Iteration: 3 Change: 0.0226951\r\n",
      "Iteration: 4 Change: 0.00927925\r\n",
      "Iteration: 5 Change: 0.00444889\r\n",
      "Iteration: 6 Change: 0.0026021\r\n",
      "Iteration: 7 Change: 0.00188541\r\n",
      "Iteration: 8 Change: 0.00154495\r\n",
      "Iteration: 9 Change: 0.00150061\r\n",
      "Iteration: 10 Change: 0.00129128\r\n",
      "Iteration: 11 Change: 0.00108624\r\n",
      "Last iteration: \r\n",
      "GitRevision: kaldi-6-g64719c\r\n",
      "Initializing...\r\n",
      "Converting...\r\n",
      "Saved model to ./g2p-connaught\r\n",
      "GitRevision: kaldi-6-g64719c\r\n",
      "Loading input file: /tmp/mfa-temp/g2p-all/input.txt\r\n",
      "Starting EM...\r\n",
      "Finished first iter...\r\n",
      "Iteration: 1 Change: 2.84783\r\n",
      "Iteration: 2 Change: 0.0381222\r\n",
      "Iteration: 3 Change: 0.0235081\r\n",
      "Iteration: 4 Change: 0.0112286\r\n",
      "Iteration: 5 Change: 0.00633335\r\n",
      "Iteration: 6 Change: 0.00402164\r\n",
      "Iteration: 7 Change: 0.00232124\r\n",
      "Iteration: 8 Change: 0.00147438\r\n",
      "Iteration: 9 Change: 0.000982285\r\n",
      "Iteration: 10 Change: 0.000606537\r\n",
      "Iteration: 11 Change: 0.000422478\r\n",
      "Last iteration: \r\n",
      "GitRevision: kaldi-6-g64719c\r\n",
      "Initializing...\r\n",
      "Converting...\r\n",
      "Saved model to ./g2p-all\r\n"
     ]
    }
   ],
   "source": [
    "!mfa_train_g2p -t /tmp/mfa-temp /tmp/lexicon-ulster.txt ./g2p-ulster\n",
    "!mfa_train_g2p -t /tmp/mfa-temp /tmp/lexicon-munster.txt ./g2p-munster\n",
    "!mfa_train_g2p -t /tmp/mfa-temp /tmp/lexicon-connaught.txt ./g2p-connaught\n",
    "!mfa_train_g2p -t /tmp/mfa-temp /tmp/lexicon-all.txt ./g2p-all\n"
   ]
  }
 ],
 "metadata": {
  "kernelspec": {
   "display_name": "Python 3",
   "language": "python",
   "name": "python3"
  },
  "language_info": {
   "codemirror_mode": {
    "name": "ipython",
    "version": 3
   },
   "file_extension": ".py",
   "mimetype": "text/x-python",
   "name": "python",
   "nbconvert_exporter": "python",
   "pygments_lexer": "ipython3",
   "version": "3.7.9"
  },
  "papermill": {
   "default_parameters": {},
   "duration": 8828.989503,
   "end_time": "2021-05-14T11:31:00.522803",
   "environment_variables": {},
   "exception": null,
   "input_path": "__notebook__.ipynb",
   "output_path": "__notebook__.ipynb",
   "parameters": {},
   "start_time": "2021-05-14T09:03:51.533300",
   "version": "2.3.2"
  }
 },
 "nbformat": 4,
 "nbformat_minor": 5
}
