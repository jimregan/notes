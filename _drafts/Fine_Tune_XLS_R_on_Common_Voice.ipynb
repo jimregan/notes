{
 "cells": [
  {
   "cell_type": "code",
   "execution_count": null,
   "metadata": {},
   "source": [
    "import numpy as np"
   ],
   "outputs": []
  },
  {
   "cell_type": "code",
   "metadata": {},
   "source": [
    "from_start = False"
   ],
   "outputs": [],
   "execution_count": null
  },
  {
   "cell_type": "code",
   "execution_count": 6,
   "metadata": {
    "colab": {
     "base_uri": "https://localhost:8080/",
     "height": 373,
     "referenced_widgets": [
      "3c7d063b2ff34e3daac1563e85bf254b",
      "212f7e5ec9bb4c769c0c40ef16cc9c22",
      "4d8b548b015647e7a03d173c0210003f",
      "8318e59848ad4f48b845aa15bfee14b3",
      "b9e7bd84fad24db492fa0df4723a2efd",
      "19cc5ead031a409fbd22c27221aea213",
      "d3a9358beef6459ba063f4c3011cc4b5",
      "186251c872b94be39323363d48a3be59",
      "03df7be0c20047ca81ca6a813205ac64",
      "29accfd7071f4060905134c8794cae14",
      "535ee96936744708b3223d02c8d3d814",
      "0e8a1ade0a594d5094e21714f56d83a0",
      "ee1d0c03ad534d30a65693f39a9b2448",
      "3f904973fd3c4d98a322fe8079a1e614",
      "d1aba60f1c764be3a045e751af34891b",
      "ff52d62efc424613b68e7670f924a222",
      "323365ad271a47df9090510c25179820",
      "19f3738024d54f10af1fd28eddfbb597",
      "30d15f00faa24a889fd4ff7850220c1b",
      "040c74a1e6c647aaa3c3a24b29686d20",
      "97c1d1adde974941836da7c52592ed18",
      "57756ef2633c4b6d9d45dbd86ef1c58a",
      "f8a8a928933c4f5aa6c94fd2d31951d2",
      "c2b1e7d709dd4486b4c46a0b7a0b2691",
      "316fc27acc8e4a389ee24361bbae3574",
      "c0c180b6c5654378a34d8f5412f14834",
      "c05c519bfb90452693d4a86f41b1982a",
      "d20f957ccf7f474d890df4f5ca746ce7",
      "b00d8bd8e91842609cab8a9cbf07648b",
      "35dd171a360d43489e8b70653afe2efd",
      "7678f93df87149f79185b2a142d9d1c6",
      "0b220fab7f954b8abe429e5880c16125",
      "48be87f262024cce9954b7162ee9a3b8",
      "d5a5cdc5d4bf4e808e228f33e3d5d954",
      "1da4d9a1225046be8a344593f78b9753",
      "e60388f672044b419f1e44bbbddaab71",
      "2c0285e9eeb840e78c5bd598298946fa",
      "5b2f42ef41c0478aa9a7adf49f91923a",
      "703f4921fd2f4dd7868f34d57a4f6ba4",
      "0cee9a86adef4ff3ad624a054faa82d7",
      "100323f0cbb04891bcbfff9204daaf7d",
      "0e435bb252504fdd8f041e74a9e805e0",
      "0efdab7553384b939a723b59e4e32b03",
      "b0cd66f3807c45668a9282d0c71a1594",
      "272899bc143341adbbf4bacc4a9b49da",
      "65235c10925042b39c23a9aace6c18d1",
      "c81067e07b4f4a58834fce2a61576eeb",
      "dea3e2e17ced4c76bef6f5e8efe606d9",
      "1fbefc015c124c559fff42c6212891fb",
      "d771b402f28f4e919e7ea64fa1d0136e",
      "0fa98db3fefe4cccbae866ed79c25868",
      "bf335ecbd1b84d55a8ee212c21f5f5d5",
      "0b8e95fc10f0410eb5108216c347412f",
      "9f97deaf66c14f9ea29e4e606d1f44ff",
      "1aaac3981fa946debd193b43a3b1e4a3",
      "e2f7a56d3bc44c5cae3d1b9f1a6b786f",
      "52dcd002d7a84d97bfb3a373c139f006",
      "a4742ee3ed8d481fa99f375d29aa106d",
      "c1380da84f694064a241ea8ddebab249",
      "e64005feac7544b396bc4bea85c338c0",
      "c71de80878a04d44a3b8149b264e7d4b",
      "7c4815bc53ac4981bf3dacc8dbbf1fdd",
      "c7eedf1f77af4d7ead98fc5afa4da219",
      "0cb90467135647a296130eaaa218338a",
      "13c65b39457740b7ab5abf4b2931a859",
      "f6729c9be62843ed8229901f64e81550",
      "dd25213f297e47ab9828ba2a7ee92056",
      "a09ec424c17e4c5abff9b4980fec72f6",
      "8dd89aed30e6431f911910f2811326d6",
      "9288a1388b2d4772ac21cb9414c86ee1",
      "fd86bed8a7c34b399ae329c45287ff3b",
      "3f9417297a5d4f47bc9ebadb81665e43",
      "30e365417e8e4bab818779955996472a",
      "a1a33acb3820483cb0f20014604d2ef9",
      "d813024ab46546109280971ae0a2270a",
      "a0e6c108b8b4403fbbc6c36c503b681b",
      "442406a5cad34d18b4846d0b0923fb84",
      "26d065c560ce46e1bba09f64211bf11c",
      "f485580dd8b24b6bb9ea1a1d5befee1d",
      "8aba312c6498435387e16cc3dd4632f9",
      "e58a3678ebd64623926da0444f25078e",
      "40d802c03f8245b796f4ac41e8b18029",
      "6c57382d79f4499ea311358d47a22651",
      "f60b05285d4b4e10a743b6fdedbfb906",
      "5432f556c36f4bc4802da4d820094289",
      "f093d8278c414e8d995781bdd6b3bd11",
      "d5bf5ac0ddd94dbbb56af95c46d0f1aa",
      "81b2849fd8de48849e6ae55df4aafafb"
     ]
    },
    {
     "data": {
      "text/plain": [
       "Downloading:   0%|          | 0.00/4.44k [00:00<?, ?B/s]"
      ]
     },
     "execution_count": 5,
     "metadata": {},
     "output_type": "display_data"
    },
    {
     "data": {
      "text/plain": [
       "Downloading:   0%|          | 0.00/10.2k [00:00<?, ?B/s]"
      ]
     },
     "execution_count": 5,
     "metadata": {},
     "output_type": "display_data"
    }
   ],
   "source": [
    "from datasets import load_dataset, load_metric, Audio\n",
    "\n",
    "common_voice_train = load_dataset(\"common_voice\", \"ga-IE\", split=\"train+validation\")\n",
    "common_voice_test = load_dataset(\"common_voice\", \"ga-IE\", split=\"test\")"
   ]
  },
  {
   "cell_type": "code",
   "execution_count": 3,
   "metadata": {
    "id": "kbyq6lDgQc2a"
   },
   "outputs": [],
   "source": [
    "common_voice_train = common_voice_train.remove_columns([\"accent\", \"age\", \"client_id\", \"down_votes\", \"gender\", \"locale\", \"segment\", \"up_votes\"])\n",
    "common_voice_test = common_voice_test.remove_columns([\"accent\", \"age\", \"client_id\", \"down_votes\", \"gender\", \"locale\", \"segment\", \"up_votes\"])"
   ]
  },
  {
   "cell_type": "code",
   "execution_count": 4,
   "metadata": {
    "id": "72737oog2F6U"
   },
   "outputs": [],
   "source": [
    "from datasets import ClassLabel\n",
    "import random\n",
    "import pandas as pd\n",
    "from IPython.display import display, HTML\n",
    "\n",
    "def show_random_elements(dataset, num_examples=10):\n",
    "    assert num_examples <= len(dataset), \"Can't pick more elements than there are in the dataset.\"\n",
    "    picks = []\n",
    "    for _ in range(num_examples):\n",
    "        pick = random.randint(0, len(dataset)-1)\n",
    "        while pick in picks:\n",
    "            pick = random.randint(0, len(dataset)-1)\n",
    "        picks.append(pick)\n",
    "    \n",
    "    df = pd.DataFrame(dataset[picks])\n",
    "    display(HTML(df.to_html()))"
   ]
  },
  {
   "cell_type": "code",
   "execution_count": 6,
   "metadata": {
    "id": "svKzVJ_hQGK6"
   },
   "outputs": [],
   "source": [
    "import re\n",
    "chars_to_remove_regex = '[\\,\\?\\.\\!\\-\\;\\:\\\"\\\u201c\\%\\\u2018\\\u201d\\\ufffd\\(\\)\u2013\\*]'\n",
    "\n",
    "def _ga_lc(text):\n",
    "    if text[0:1] in \"nt\" and text[1:2] in \"A\u00c1E\u00c9I\u00cdO\u00d3U\u00da\":\n",
    "        return text[0:1] + \"-\" + text[1:].lower()\n",
    "    else:\n",
    "        return text.lower()\n",
    "\n",
    "def ga_lc(text):\n",
    "    words = []\n",
    "    for word in text.split(\" \"):\n",
    "        words.append(_ga_lc(word))\n",
    "    return \" \".join(words)\n",
    "\n",
    "def remove_special_characters(batch):\n",
    "    batch[\"sentence\"] = re.sub(chars_to_remove_regex, '', batch[\"sentence\"])\n",
    "    batch[\"sentence\"] = batch[\"sentence\"].replace(\"\u2019\", \"'\")\n",
    "    batch[\"sentence\"] = re.sub(\"^'\", \"\", batch[\"sentence\"])\n",
    "    batch[\"sentence\"] = re.sub(\"'$\", \"\", batch[\"sentence\"])\n",
    "    batch[\"sentence\"] = re.sub(\"' \", \" \", batch[\"sentence\"])\n",
    "    batch[\"sentence\"] = re.sub(\" '\", \" \", batch[\"sentence\"])\n",
    "    batch[\"sentence\"] = ga_lc(batch[\"sentence\"])\n",
    "    return batch"
   ]
  },
  {
   "cell_type": "code",
   "execution_count": 7,
   "metadata": {
    "colab": {
     "base_uri": "https://localhost:8080/",
     "height": 81,
     "referenced_widgets": [
      "1a84e2e73d3247c19a867f120f675921",
      "31175252c10649c6abdf2acc618dd1b9",
      "d8e7adffd4f4407ba056b6a3114ef767",
      "7762d201d94d4edf879fa6571d6457fb",
      "eeec79ad6bee4da39f619af246ccb02a",
      "8276470fc5294010923843a467e85842",
      "a7a29a5bf3664db7b3c3373d8eb1cedc",
      "0be03e8087ee4627a4513d54b0fa8858",
      "031a7e18021943ffbd6d06a17cb0302f",
      "da66731cd8d44d649d6737915d3bacbd",
      "b3f6df875294417387539fa39075c8b1",
      "bca48f2fac3c40c4be2561337b35d438",
      "ae1ed4851fc54b23926f6aac9413d396",
      "134fedfde5c34fef9a467bd7a2e7bf25",
      "3b8cb5d42eff41299096e324d79b6efb",
      "243ecba5b9094aa88e4c59e86eebed3a",
      "674c9bdeeb9940cda0485f242d2d7b0e",
      "e752c31e4bc2497d98286368b1fec992",
      "c7bb6a7287ee407195246d295f8ee454",
      "5e9eac0556194d5bac232a369697e17d",
      "9c6e369c65de4f50964caa83c3f1c952",
      "211084b543ec439ca237416aeefc762b"
     ]
    },
    {
      "cell_type": "markdown",
      "metadata": {
        "id": "ujdZ2TxhElk6"
      },
      "source": [
        "\n",
        "Then you need to install Git-LFS to upload your model checkpoints:"
      ]
    },
    {
      "cell_type": "code",
      "metadata": {
        "id": "WcR-d83OEkqb"
      },
      "text/plain": [
       "  0%|          | 0/506 [00:00<?, ?ex/s]"
      ]
     },
     "metadata": {},
     "output_type": "display_data"
    },
    {
     "data": {
      "text/plain": [
       "  0%|          | 0/1038 [00:00<?, ?ex/s]"
      ]
     },
     "execution_count": 7,
     "metadata": {},
     "output_type": "display_data"
    },
    {
     "data": {
      "text/plain": [
       "  0%|          | 0/506 [00:00<?, ?ex/s]"
      ]
     },
     "execution_count": 7,
     "metadata": {},
     "output_type": "display_data"
    },
    {
     "data": {
      "text/plain": [
       "  0%|          | 0/1038 [00:00<?, ?ex/s]"
      ]
     },
     "execution_count": 7,
     "metadata": {},
     "output_type": "display_data"
    },
    {
     "data": {
      "text/plain": [
       "  0%|          | 0/506 [00:00<?, ?ex/s]"
      ]
     },
     "execution_count": 7,
     "metadata": {},
     "output_type": "display_data"
    }
   ],
   "source": [
    "common_voice_train = common_voice_train.map(remove_special_characters)\n",
    "common_voice_test = common_voice_test.map(remove_special_characters)"
   ]
  },
  {
   "cell_type": "code",
   "execution_count": 9,
   "metadata": {
    "id": "LwCshNbbeRZR"
   },
   "outputs": [],
   "source": [
    "def extract_all_chars(batch):\n",
    "  all_text = \" \".join(batch[\"sentence\"])\n",
    "  vocab = list(set(all_text))\n",
    "  return {\"vocab\": [vocab], \"all_text\": [all_text]}"
   ]
  },
  {
   "cell_type": "code",
   "execution_count": 10,
   "metadata": {
    "colab": {
     "base_uri": "https://localhost:8080/",
     "height": 81,
     "referenced_widgets": [
      "8ffc601ec5c74a76b65590acd5e55dad",
      "f26e2e0e1b5f47d0be0fcc2c179b26d3",
      "c08e34ba26154c269aae602bacef3761",
      "4d4a6d6a0f974796908f654756e60e9b",
      "64b4c7ab486e4fa386883e7c7cf683c3",
      "06556f4f05be42aabe588d648fbf87f0",
      "0447519f1cdd4e14abab320103d1b989",
      "0ad5c9a2d17c450f86d1d2bf69b82845",
      "869d648d470e4301a4526ec07f734488",
      "963256e135c84694b72dd6ece19a9279",
      "1bab3ff916ca485faf6cb95008452954",
      "5a8d1f0822b24f95b5736cd454bf47e8",
      "f332558a4b124cdc945c0421ff71a8e0",
      "3689adf4a5d643d39a875e91f37c880d",
      "61fb8da335594364a848d02d171637ee",
      "dbe938f468ff4bb18a9f0bf3e7a1007b",
      "aaeddaf56b7a408b9b5843fd38f087fc",
      "993299f428044734bda27f847706669b",
      "5f766b6dadc44eb3bd9741e1dcdd63b4",
      "4c1492a4b7004ee294b8d22186e0897f",
      "9ca4d09253724716b9f8da04ff28127c",
      "74e4954507e4401095155c61a3c15d7f"
     ]
    },
    {
      "cell_type": "markdown",
      "metadata": {
        "id": "0mW-C1Nt-j7k"
      },
      "source": [
        "## Prepare Data, Tokenizer, Feature Extractor"
      ]
    },
    {
      "cell_type": "markdown",
      "metadata": {
        "id": "BeBosnY9BH3e"
      },
      "source": [
        "ASR models transcribe speech to text, which means that we both need a feature extractor that processes the speech signal to the model's input format, *e.g.* a feature vector, and a tokenizer that processes the model's output format to text. \n",
        "\n",
        "In 🤗 Transformers, the XLS-R model is thus accompanied by both a tokenizer, called [Wav2Vec2CTCTokenizer](https://huggingface.co/transformers/master/model_doc/wav2vec2.html#wav2vec2ctctokenizer), and a feature extractor, called [Wav2Vec2FeatureExtractor](https://huggingface.co/transformers/master/model_doc/wav2vec2.html#wav2vec2featureextractor).\n",
        "\n",
        "Let's start by creating the tokenizer to decode the predicted output classes to the output transcription."
      ]
     },
     "metadata": {},
     "output_type": "display_data"
    },
    {
     "data": {
      "text/plain": [
       "  0%|          | 0/1 [00:00<?, ?ba/s]"
      ]
     },
     "execution_count": 10,
     "metadata": {},
     "output_type": "display_data"
    },
    {
     "data": {
      "text/plain": [
       "  0%|          | 0/1 [00:00<?, ?ba/s]"
      ]
     },
     "execution_count": 10,
     "metadata": {},
     "output_type": "display_data"
    },
    {
     "data": {
      "text/plain": [
       "  0%|          | 0/1 [00:00<?, ?ba/s]"
      ]
     },
     "execution_count": 10,
     "metadata": {},
     "output_type": "display_data"
    },
    {
     "data": {
      "text/plain": [
       "  0%|          | 0/1 [00:00<?, ?ba/s]"
      ]
     },
     "execution_count": 10,
     "metadata": {},
     "output_type": "display_data"
    }
   ],
   "source": [
    "if from_start:\n",
    "    vocab_train = common_voice_train.map(extract_all_chars, batched=True, batch_size=-1, keep_in_memory=True, remove_columns=common_voice_train.column_names)\n",
    "    vocab_test = common_voice_test.map(extract_all_chars, batched=True, batch_size=-1, keep_in_memory=True, remove_columns=common_voice_test.column_names)"
   ]
  },
  {
   "cell_type": "code",
   "execution_count": 11,
   "metadata": {
    "id": "aQfneNsmlJI0"
   },
   "outputs": [],
   "source": [
    "if from_start:\n",
    "    vocab_list = list(set(vocab_train[\"vocab\"][0]) | set(vocab_test[\"vocab\"][0]))"
   ]
  },
  {
   "cell_type": "code",
   "execution_count": 12,
   "metadata": {
    "colab": {
     "base_uri": "https://localhost:8080/"
    },
    "id": "_0kRndSvqaKk",
    "outputId": "9f1bf9ff-df7e-4992-d1de-92ce7d57bb4d"
   },
   "outputs": [
    {
     "data": {
      "text/plain": [
       "{' ': 0,\n \"'\": 1,\n '-': 2,\n 'a': 3,\n 'b': 4,\n 'c': 5,\n 'd': 6,\n 'e': 7,\n 'f': 8,\n 'g': 9,\n 'h': 10,\n 'i': 11,\n 'j': 12,\n 'k': 13,\n 'l': 14,\n 'm': 15,\n 'n': 16,\n 'o': 17,\n 'p': 18,\n 'r': 19,\n 's': 20,\n 't': 21,\n 'u': 22,\n 'v': 23,\n 'w': 24,\n 'x': 25,\n 'y': 26,\n '\u00e1': 27,\n '\u00e9': 28,\n '\u00ed': 29,\n '\u00f3': 30,\n '\u00fa': 31}"
      ]
     },
     "execution_count": 12,
     "metadata": {},
     "output_type": "execute_result"
    }
   ],
   "source": [
    "if from_start:\n",
    "    vocab_dict = {v: k for k, v in enumerate(sorted(vocab_list))}\n",
    "    vocab_dict"
   ]
  },
  {
   "cell_type": "code",
   "execution_count": 13,
   "metadata": {
    "id": "npbIbBoLgaFX"
   },
   "outputs": [],
   "source": [
    "if from_start:\n",
    "    vocab_dict[\"|\"] = vocab_dict[\" \"]\n",
    "    del vocab_dict[\" \"]"
   ]
  },
  {
   "cell_type": "code",
   "execution_count": 14,
   "metadata": {
    "colab": {
     "base_uri": "https://localhost:8080/"
    },
    "id": "znF0bNunsjbl",
    "outputId": "baa15452-8793-4673-ed25-b4eda2dfec99"
   },
   "outputs": [
    {
     "data": {
      "text/plain": [
       "34"
      ]
     },
     "execution_count": 18,
     "metadata": {},
     "output_type": "execute_result"
    },
    {
     "data": {
      "text/plain": [
       "34"
      ]
     },
     "execution_count": 14,
     "metadata": {},
     "output_type": "execute_result"
    }
   ],
   "source": [
    "if from_start:\n",
    "    vocab_dict[\"[UNK]\"] = len(vocab_dict)\n",
    "    vocab_dict[\"[PAD]\"] = len(vocab_dict)\n",
    "    len(vocab_dict)"
   ]
  },
  {
   "cell_type": "markdown",
   "metadata": {
    "id": "1CujRgBNVRaD"
   },
   "source": [
    "Let's now save the vocabulary as a json file."
   ]
  },
  {
   "cell_type": "code",
   "execution_count": 15,
   "metadata": {
    "id": "ehyUoh9vk191"
   },
   "outputs": [],
   "source": [
    "import json\n",
    "if from_start:\n",
    "    with open('vocab.json', 'w') as vocab_file:\n",
    "        json.dump(vocab_dict, vocab_file)"
   ]
  },
  {
   "cell_type": "code",
   "execution_count": 16,
   "metadata": {
    "colab": {
     "base_uri": "https://localhost:8080/"
    },
    "id": "xriFGEWQkO4M",
    "outputId": "853a17bd-afe5-488a-bbd5-ff6f224d2ece"
   },
   "outputs": [
    {
     "name": "stderr",
     "output_type": "stream",
     "text": [
      "file ./config.json not found\n",
      "Special tokens have been added in the vocabulary, make sure the associated word embeddings are fine-tuned or trained.\n"
     ]
    }
   ],
   "source": [
    "from transformers import Wav2Vec2CTCTokenizer\n",
    "\n",
    "if from_start:\n",
    "    tokenizer = Wav2Vec2CTCTokenizer.from_pretrained(\"./\", unk_token=\"[UNK]\", pad_token=\"[PAD]\", word_delimiter_token=\"|\")"
   ]
  },
  {
   "cell_type": "code",
   "execution_count": 17,
   "metadata": {
    "id": "A1XApZBAF2zr"
   },
   "outputs": [],
   "source": [
    "repo_name = \"wav2vec2-large-xls-r-300m-irish-colab\""
   ]
  },
  {
   "cell_type": "code",
   "execution_count": 16,
   "metadata": {
    "colab": {
     "base_uri": "https://localhost:8080/"
    },
    "id": "xriFGEWQkO4M",
    "outputId": "853a17bd-afe5-488a-bbd5-ff6f224d2ece"
   },
   "outputs": [
    {
     "name": "stderr",
     "output_type": "stream",
     "text": [
      "file ./config.json not found\n",
      "Special tokens have been added in the vocabulary, make sure the associated word embeddings are fine-tuned or trained.\n"
     ]
    }
   ],
   "source": [
    "from transformers import Wav2Vec2CTCTokenizer\n",
    "\n",
    "if not from_start:\n",
    "    tokenizer = Wav2Vec2CTCTokenizer.from_pretrained(repo_name, unk_token=\"[UNK]\", pad_token=\"[PAD]\", word_delimiter_token=\"|\")"
   ]
  },
  {
   "cell_type": "code",
   "execution_count": 19,
   "metadata": {
    "id": "kAR0-2KLkopp"
   },
   "outputs": [],
   "source": [
    "from transformers import Wav2Vec2FeatureExtractor\n",
    "\n",
    "feature_extractor = Wav2Vec2FeatureExtractor(feature_size=1, sampling_rate=16000, padding_value=0.0, do_normalize=True, return_attention_mask=True)"
   ]
  },
  {
   "cell_type": "code",
   "execution_count": 20,
   "metadata": {
    "id": "KYZtoW-tlZgl"
   },
   "outputs": [],
   "source": [
    "from transformers import Wav2Vec2Processor\n",
    "\n",
    "processor = Wav2Vec2Processor(feature_extractor=feature_extractor, tokenizer=tokenizer)"
   ]
  },
  {
   "cell_type": "code",
   "execution_count": 23,
   "metadata": {
    "id": "rrv65aj7G95i"
   },
   "outputs": [],
   "source": [
    "common_voice_train = common_voice_train.cast_column(\"audio\", Audio(sampling_rate=16_000))\n",
    "common_voice_test = common_voice_test.cast_column(\"audio\", Audio(sampling_rate=16_000))"
   ]
  },
  {
   "cell_type": "code",
   "execution_count": 26,
   "metadata": {
    "colab": {
     "base_uri": "https://localhost:8080/"
    },
    "id": "1Po2g7YPuRTx",
    "outputId": "8d92ee62-f463-402a-c401-a9e9a1d5e608"
   },
   "outputs": [
    {
     "name": "stdout",
     "output_type": "stream",
     "text": [
      "Target text: is f\u00e9idir an rud c\u00e9anna a r\u00e1 faoi ch\u00farsa\u00ed pholait\u00edochta agus aitheantas an phobail\nInput array shape: (81792,)\nSampling rate: 16000\n"
     ]
    }
   ],
   "source": [
    "rand_int = random.randint(0, len(common_voice_train)-1)\n",
    "\n",
    "print(\"Target text:\", common_voice_train[rand_int][\"sentence\"])\n",
    "print(\"Input array shape:\", common_voice_train[rand_int][\"audio\"][\"array\"].shape)\n",
    "print(\"Sampling rate:\", common_voice_train[rand_int][\"audio\"][\"sampling_rate\"])"
   ]
  },
  {
   "cell_type": "code",
   "execution_count": 27,
   "metadata": {
    "id": "eJY7I0XAwe9p"
   },
   "outputs": [],
   "source": [
    "def prepare_dataset(batch):\n",
    "    audio = batch[\"audio\"]\n",
    "\n",
    "    # batched output is \"un-batched\"\n",
    "    batch[\"input_values\"] = processor(audio[\"array\"], sampling_rate=audio[\"sampling_rate\"]).input_values[0]\n",
    "    batch[\"input_length\"] = len(batch[\"input_values\"])\n",
    "    \n",
    "    with processor.as_target_processor():\n",
    "        batch[\"labels\"] = processor(batch[\"sentence\"]).input_ids\n",
    "    return batch"
   ]
  },
  {
   "cell_type": "code",
   "execution_count": 28,
   "metadata": {
    "colab": {
     "base_uri": "https://localhost:8080/",
     "height": 81,
     "referenced_widgets": [
      "4d9ec0f528ea4271b65efe67b797fcf3",
      "b2c9240cc08a4052bfd91b48169220c3",
      "cf62b06995e24848b325c7546a6f51b9",
      "efc5c83c0cd04d7a8599fd085e557e42",
      "d58028c1b2c24d8dae30b9370e5774e2",
      "453c25ef14ae46ca89be007f84601f08",
      "2f987e12ede142c986c02268d01eed3c",
      "da7815ab5cf04140a79a23633c1f6ed0",
      "3ae00869b3154f08ae20d8c738b71cd1",
      "e5f09bb71f304de7996ecb481047deb7",
      "a4b60c249a784e649a056c5d5062627d",
      "0dfb81058d914532be148c09c12f3de1",
      "91681fda85764dc388f637d16253df68",
      "a3720f4cf4394ce69f58c04b4ec4c75a",
      "9a237cbf91cc43a08700917727804b60",
      "c6a249e4fba042baaa6e579d8247cf7a",
      "90d57a5a079c40b4a362b88b4a4adb47",
      "66c881eb8200470ca47e34cdf335c486",
      "eb000dfb05904533b6f45e3d9b6e9fd6",
      "b2e02faf4cb24093aee3b26fc9939711",
      "9d4777c488e74289bff088810d6b186c",
      "bde57ec414004420b109f0fdd4f11b43"
     ]
    },
    {
      "cell_type": "markdown",
      "metadata": {
        "id": "vq7OR50LN49m"
      },
      "source": [
        "We can see that the transcriptions contain some special characters, such as `,.?!;:`. Without a language model, it is much harder to classify speech chunks to such special characters because they don't really correspond to a characteristic sound unit. *E.g.*, the letter `\"s\"` has a more or less clear sound, whereas the special character `\".\"` does not.\n",
        "Also in order to understand the meaning of a speech signal, it is usually not necessary to include special characters in the transcription.\n",
        "\n",
        "Let's simply remove all characters that don't contribute to the meaning of a word and cannot really be represented by an acoustic sound and normalize the text."
      ]
     },
     "metadata": {},
     "output_type": "display_data"
    },
    {
     "data": {
      "application/vnd.jupyter.widget-view+json": {
       "model_id": "0dfb81058d914532be148c09c12f3de1",
       "version_major": 2,
       "version_minor": 0
      },
      "text/plain": [
       "  0%|          | 0/506 [00:00<?, ?ex/s]"
      ]
     },
     "metadata": {},
     "output_type": "display_data"
    },
    {
     "data": {
      "text/plain": [
       "  0%|          | 0/1038 [00:00<?, ?ex/s]"
      ]
     },
     "execution_count": 28,
     "metadata": {},
     "output_type": "display_data"
    },
    {
     "data": {
      "text/plain": [
       "  0%|          | 0/506 [00:00<?, ?ex/s]"
      ]
     },
     "execution_count": 28,
     "metadata": {},
     "output_type": "display_data"
    }
   ],
   "source": [
    "common_voice_train = common_voice_train.map(prepare_dataset, remove_columns=common_voice_train.column_names)\n",
    "common_voice_test = common_voice_test.map(prepare_dataset, remove_columns=common_voice_test.column_names)"
   ]
  },
  {
   "cell_type": "code",
   "execution_count": 30,
   "metadata": {
    "id": "tborvC9hx88e"
   },
   "outputs": [],
   "source": [
    "import torch\n",
    "\n",
    "from dataclasses import dataclass, field\n",
    "from typing import Any, Dict, List, Optional, Union\n",
    "\n",
    "@dataclass\n",
    "class DataCollatorCTCWithPadding:\n",
    "    \"\"\"\n",
    "    Data collator that will dynamically pad the inputs received.\n",
    "    Args:\n",
    "        processor (:class:`~transformers.Wav2Vec2Processor`)\n",
    "            The processor used for proccessing the data.\n",
    "        padding (:obj:`bool`, :obj:`str` or :class:`~transformers.tokenization_utils_base.PaddingStrategy`, `optional`, defaults to :obj:`True`):\n",
    "            Select a strategy to pad the returned sequences (according to the model's padding side and padding index)\n",
    "            among:\n",
    "            * :obj:`True` or :obj:`'longest'`: Pad to the longest sequence in the batch (or no padding if only a single\n",
    "              sequence if provided).\n",
    "            * :obj:`'max_length'`: Pad to a maximum length specified with the argument :obj:`max_length` or to the\n",
    "              maximum acceptable input length for the model if that argument is not provided.\n",
    "            * :obj:`False` or :obj:`'do_not_pad'` (default): No padding (i.e., can output a batch with sequences of\n",
    "              different lengths).\n",
    "    \"\"\"\n",
    "\n",
    "    processor: Wav2Vec2Processor\n",
    "    padding: Union[bool, str] = True\n",
    "\n",
    "    def __call__(self, features: List[Dict[str, Union[List[int], torch.Tensor]]]) -> Dict[str, torch.Tensor]:\n",
    "        # split inputs and labels since they have to be of different lenghts and need\n",
    "        # different padding methods\n",
    "        input_features = [{\"input_values\": feature[\"input_values\"]} for feature in features]\n",
    "        label_features = [{\"input_ids\": feature[\"labels\"]} for feature in features]\n",
    "\n",
    "        batch = self.processor.pad(\n",
    "            input_features,\n",
    "            padding=self.padding,\n",
    "            return_tensors=\"pt\",\n",
    "        )\n",
    "        with self.processor.as_target_processor():\n",
    "            labels_batch = self.processor.pad(\n",
    "                label_features,\n",
    "                padding=self.padding,\n",
    "                return_tensors=\"pt\",\n",
    "            )\n",
    "\n",
    "        # replace padding with -100 to ignore loss correctly\n",
    "        labels = labels_batch[\"input_ids\"].masked_fill(labels_batch.attention_mask.ne(1), -100)\n",
    "\n",
    "        batch[\"labels\"] = labels\n",
    "\n",
    "        return batch"
   ]
  },
  {
   "cell_type": "code",
   "execution_count": 31,
   "metadata": {
    "id": "lbQf5GuZyQ4_"
   },
   "outputs": [],
   "source": [
    "data_collator = DataCollatorCTCWithPadding(processor=processor, padding=True)"
   ]
  },
  {
   "cell_type": "code",
   "execution_count": 32,
   "metadata": {
    "colab": {
     "base_uri": "https://localhost:8080/",
     "height": 49,
     "referenced_widgets": [
      "24e4cdf7daf54ef29266acfe9334c4aa",
      "9f43c050bf224104983c268d0028a984",
      "a50b3f85eb8c4288967faf5bef4f6a69",
      "8fede89048584d4abc82065ca2b26ae9",
      "f7524fac554b46f5ab66eb196d73fb8c",
      "d086c6cd9274439784176f2c46e02704",
      "b9d9cdc3155c43d2a566a511a6ade59e",
      "6fd34680249449df8e23039d6946bfab",
      "843f5f5f60d24317a663bcf3baff0757",
      "c26da0359c6f4b73867ae591087251bc",
      "991335059c544930a3066d5d6d9ce338"
     ]
    },
    {
      "cell_type": "code",
      "metadata": {
        "colab": {
          "base_uri": "https://localhost:8080/",
          "height": 81,
          "referenced_widgets": [
            "41abcc9de8e0495ab0fd8b2a116176ab",
            "e2fe87d7e1134e33afdbaa3b3ec1a1ef",
            "479cd2ad5b894b5d806ee962b12b4ba7",
            "aba6e0ca296545c5964416af28cf40ce",
            "8a6df28c9762473fbd71b10563d59e14",
            "deeeace2c53a4a588ebe70596c767a09",
            "81ff90cd6fda4356b26f06797e58dcfc",
            "0227a985e6434ae0b43496e2a46cf3cc",
            "f906402994c447bd91a80b5f74e76b34",
            "61433dce6680484e9536952d7fe7011d",
            "d15d57e3f394447f846b24ddc61e7f79",
            "bfcb208f21e6476f9207e80735fad507",
            "ae0cb585d401417d90f054555807b939",
            "5965f9b8d9e94fc5bdff811610910523",
            "1dbf8fa79e0a42d2bc0e205824894d31",
            "3958343aa51642e3961208c1538824c8",
            "67d0aecf378647e9b90a7a04f660bfdd",
            "e3a9e3b082324706b0227941bb97ddfc",
            "95b02aa9bdbc4f6db3ca70df47f998a7",
            "14de458f2fea486283639263ca3e51c2",
            "8ef6d359ae6a46879506564775466edb",
            "4cc2e6395a764101b038cb67fecd433b"
          ]
        },
        "id": "XIHocAuTQbBR",
        "outputId": "a6e896a1-e77d-43af-b496-e8229a85fc79"
      },
      "source": [
        "common_voice_train = common_voice_train.map(remove_special_characters)\n",
        "common_voice_test = common_voice_test.map(remove_special_characters)"
      ],
      "execution_count": 11,
      "outputs": [
        {
          "output_type": "display_data",
          "data": {
            "application/vnd.jupyter.widget-view+json": {
              "model_id": "41abcc9de8e0495ab0fd8b2a116176ab",
              "version_minor": 0,
              "version_major": 2
            },
            "text/plain": [
              "  0%|          | 0/1038 [00:00<?, ?ex/s]"
            ]
          },
          "metadata": {}
        },
        {
          "output_type": "display_data",
          "data": {
            "application/vnd.jupyter.widget-view+json": {
              "model_id": "bfcb208f21e6476f9207e80735fad507",
              "version_minor": 0,
              "version_major": 2
            },
            "text/plain": [
              "  0%|          | 0/506 [00:00<?, ?ex/s]"
            ]
          },
          "metadata": {}
        }
      ]
     },
     "metadata": {},
     "output_type": "display_data"
    },
    {
     "data": {
      "text/plain": [
       "Downloading:   0%|          | 0.00/1.95k [00:00<?, ?B/s]"
      ]
     },
     "execution_count": 32,
     "metadata": {},
     "output_type": "display_data"
    },
    {
     "data": {
      "text/plain": [
       "Downloading:   0%|          | 0.00/1.95k [00:00<?, ?B/s]"
      ]
     },
     "execution_count": 32,
     "metadata": {},
     "output_type": "display_data"
    }
   ],
   "source": [
    "wer_metric = load_metric(\"wer\")"
   ]
  },
  {
   "cell_type": "code",
   "execution_count": 33,
   "metadata": {
    "id": "1XZ-kjweyTy_"
   },
   "outputs": [],
   "source": [
    "def compute_metrics(pred):\n",
    "    pred_logits = pred.predictions\n",
    "    pred_ids = np.argmax(pred_logits, axis=-1)\n",
    "\n",
    "    pred.label_ids[pred.label_ids == -100] = processor.tokenizer.pad_token_id\n",
    "\n",
    "    pred_str = processor.batch_decode(pred_ids)\n",
    "    # we do not want to group tokens when computing the metrics\n",
    "    label_str = processor.batch_decode(pred.label_ids, group_tokens=False)\n",
    "\n",
    "    wer = wer_metric.compute(predictions=pred_str, references=label_str)\n",
    "\n",
    "    return {\"wer\": wer}"
   ]
  },
  {
   "cell_type": "code",
   "execution_count": 40,
   "metadata": {
    "colab": {
     "base_uri": "https://localhost:8080/",
     "height": 244,
     "referenced_widgets": [
      "e044e9a741c94327b0421b0b5c9d2015",
      "7a81952f24ac4cd8b6339a427b9c2419",
      "d3c3df0de683434f8742185d27ad4cc8",
      "9e2e458850db4ce18d078bfda58f4c06",
      "92f817306a05430e91af716111ea08ee",
      "74b51541a91a41dbbfefdf48a671aaf1",
      "5f0876750019427ea8c8beedba327796",
      "3869211777cd48ff817a8b779fb9e6ef",
      "3db7e9ad64f7464bb8f20fc5b322a8a6",
      "c32e28f3df6a49368f2df80f11ba5a1d",
      "1830220a449b496c941183714d89c4c8",
      "ea6f08ee7ad642dabe98368bbf5cc245",
      "d9cd123022e34816895a315a03d5d487",
      "a9a26dbbce6347aaad1e4728c16559bc",
      "56d04304ca52495b8503dd8dc32e3893",
      "10825e7df1064bcc89600d24f3b15a30",
      "61471a8718a543ed919d5d81874c1825",
      "bec438c216dc4b018ebf7b11d17e122c",
      "6b43227027444041b5ad3097fad74ca6",
      "0f0194cfba5a493593ddb38b3e812970",
      "2cc10d28110f4254883436ddf0edc49c",
      "2b7fbb2b36814aee9abe57a19679af4a"
     ]
    },
    {
     "data": {
      "text/plain": [
       "Downloading:   0%|          | 0.00/1.53k [00:00<?, ?B/s]"
      ]
     },
     "execution_count": 34,
     "metadata": {},
     "output_type": "display_data"
    },
    {
     "data": {
      "text/plain": [
       "Downloading:   0%|          | 0.00/1.18G [00:00<?, ?B/s]"
      ]
     },
     "execution_count": 34,
     "metadata": {},
     "output_type": "display_data"
    }
   ],
   "source": [
    "from transformers import Wav2Vec2ForCTC\n",
    "\n",
    "model = Wav2Vec2ForCTC.from_pretrained(\n",
    "    \"facebook/wav2vec2-xls-r-300m\", \n",
    "    attention_dropout=0.0,\n",
    "    hidden_dropout=0.0,\n",
    "    feat_proj_dropout=0.0,\n",
    "    mask_time_prob=0.05,\n",
    "    layerdrop=0.0,\n",
    "    ctc_loss_reduction=\"mean\", \n",
    "    pad_token_id=processor.tokenizer.pad_token_id,\n",
    "    vocab_size=len(processor.tokenizer),\n",
    ")"
   ]
  },
  {
   "cell_type": "code",
   "execution_count": 35,
   "metadata": {
    "id": "oGI8zObtZ3V0"
   },
   "outputs": [],
   "source": [
    "model.freeze_feature_extractor()"
   ]
  },
  {
   "cell_type": "code",
   "execution_count": 36,
   "metadata": {
    "id": "KbeKSV7uzGPP"
   },
   "outputs": [],
   "source": [
    "from transformers import TrainingArguments\n",
    "\n",
    "training_args = TrainingArguments(\n",
    "  output_dir=repo_name,\n",
    "  group_by_length=True,\n",
    "  per_device_train_batch_size=16,\n",
    "  gradient_accumulation_steps=2,\n",
    "  evaluation_strategy=\"steps\",\n",
    "  num_train_epochs=1000,\n",
    "  gradient_checkpointing=True,\n",
    "  fp16=True,\n",
    "  save_steps=400,\n",
    "  eval_steps=400,\n",
    "  logging_steps=400,\n",
    "  learning_rate=3e-4,\n",
    "  warmup_steps=500,\n",
    "  save_total_limit=2,\n",
    "  push_to_hub=True,\n",
    ")"
   ]
  },
  {
   "cell_type": "code",
   "execution_count": 37,
   "metadata": {
    "colab": {
     "base_uri": "https://localhost:8080/"
    },
    {
     "name": "stderr",
     "output_type": "stream",
     "text": [
      "/home/jim/miniconda3/envs/xsl-r/lib/python3.7/site-packages/huggingface_hub/hf_api.py:718: FutureWarning: `create_repo` now takes `token` as an optional positional argument. Be sure to adapt your code!\n  FutureWarning,\n",
      "/home/jim/git/notes/_drafts/wav2vec2-large-xls-r-300m-irish-colab is already a clone of https://huggingface.co/jimregan/wav2vec2-large-xls-r-300m-irish-colab. Make sure you pull the latest changes with `repo.git_pull()`.\n",
      "Using amp fp16 backend\n"
     ]
    }
   ],
   "source": [
    "from transformers import Trainer\n",
    "\n",
    "trainer = Trainer(\n",
    "    model=model,\n",
    "    data_collator=data_collator,\n",
    "    args=training_args,\n",
    "    compute_metrics=compute_metrics,\n",
    "    train_dataset=common_voice_train,\n",
    "    eval_dataset=common_voice_test,\n",
    "    tokenizer=processor.feature_extractor,\n",
    ")"
   ]
  },
  {
   "cell_type": "code",
   "execution_count": null,
   "metadata": {
    "colab": {
     "base_uri": "https://localhost:8080/",
     "height": 396
    },
    "id": "9fRr9TG5pGBl",
    "outputId": "23f3602e-4a70-4527-9e5f-8cab63afd0fb"
   },
   "outputs": [],
   "source": [
    "trainer.train(f\"{repo_name}/checkpoint-11200\")"
   ]
  },
  {
   "cell_type": "code",
   "execution_count": null,
   "metadata": {
    "id": "ArG1Thf6NBWm"
   },
   "outputs": [],
   "source": [
    "trainer.push_to_hub()"
   ]
  },
  {
   "cell_type": "markdown",
   "metadata": {
    "id": "5lWWIKyBpx1h"
   },
   "source": [
    "```python\n",
    "from transformers import AutoModelForCTC, Wav2Vec2Processor\n",
    "\n",
    "model = AutoModelForCTC.from_pretrained(\"patrickvonplaten/wav2vec2-large-xls-r-300m-tr-colab\")\n",
    "processor = Wav2Vec2Processor.from_pretrained(\"patrickvonplaten/wav2vec2-large-xls-r-300m-tr-colab\")\n",
    "```"
   ]
  },
  {
   "cell_type": "code",
   "execution_count": null,
   "metadata": {
    "id": "R351I9IQp_9D"
   },
   "outputs": [],
   "source": [
    "model = Wav2Vec2ForCTC.from_pretrained(repo_name).to(\"cuda\")\n",
    "processor = Wav2Vec2Processor.from_pretrained(repo_name)"
   ]
  },
  {
   "cell_type": "code",
   "execution_count": null,
   "metadata": {
    "id": "pax07TnL3WZn"
   },
   "outputs": [],
   "source": [
    "input_dict = processor(common_voice_test[0][\"input_values\"], return_tensors=\"pt\", padding=True)\n",
    "\n",
    "logits = model(input_dict.input_values.to(\"cuda\")).logits\n",
    "\n",
    "pred_ids = torch.argmax(logits, dim=-1)[0]"
   ]
  },
  {
   "cell_type": "code",
   "execution_count": null,
   "metadata": {
    "id": "fe2AE-2xqKHx"
   },
   "outputs": [],
   "source": [
    "common_voice_test_transcription = load_dataset(\"common_voice\", \"ga-IE\", split=\"test\")"
   ]
  },
  {
   "cell_type": "code",
   "execution_count": null,
   "metadata": {
    "id": "K4xWqmk_qMn0"
   },
   "outputs": [],
   "source": [
    "print(\"Prediction:\")\n",
    "print(processor.decode(pred_ids))\n",
    "\n",
    "print(\"\\nReference:\")\n",
    "print(common_voice_test_transcription[0][\"sentence\"].lower())"
   ]
  }
 ],
 "metadata": {
  "accelerator": "GPU",
  "colab": {
   "collapsed_sections": [],
   "machine_shape": "hm",
   "name": "Fine-Tune XLS-R on Common Voice.ipynb",
   "provenance": [],
   "toc_visible": true
  },
  "kernelspec": {
   "display_name": "Python 3 (ipykernel)",
   "language": "python",
   "name": "python3"
  },
  "language_info": {
   "codemirror_mode": {
    "name": "ipython",
    "version": 3
   },
   "file_extension": ".py",
   "mimetype": "text/x-python",
   "name": "python",
   "nbconvert_exporter": "python",
   "pygments_lexer": "ipython3",
   "version": "3.8.12"
  },
  "widgets": {
   "application/vnd.jupyter.widget-state+json": {
    "031a7e18021943ffbd6d06a17cb0302f": {
     "model_module": "@jupyter-widgets/base",
     "model_module_version": "1.2.0",
     "model_name": "LayoutModel",
     "state": {
      "_model_module": "@jupyter-widgets/base",
      "_model_module_version": "1.2.0",
      "_model_name": "LayoutModel",
      "_view_count": null,
      "_view_module": "@jupyter-widgets/base",
      "_view_module_version": "1.2.0",
      "_view_name": "LayoutView",
      "align_content": null,
      "align_items": null,
      "align_self": null,
      "border": null,
      "bottom": null,
      "display": null,
      "flex": null,
      "flex_flow": null,
      "grid_area": null,
      "grid_auto_columns": null,
      "grid_auto_flow": null,
      "grid_auto_rows": null,
      "grid_column": null,
      "grid_gap": null,
      "grid_row": null,
      "grid_template_areas": null,
      "grid_template_columns": null,
      "grid_template_rows": null,
      "height": null,
      "justify_content": null,
      "justify_items": null,
      "left": null,
      "margin": null,
      "max_height": null,
      "max_width": null,
      "min_height": null,
      "min_width": null,
      "object_fit": null,
      "object_position": null,
      "order": null,
      "overflow": null,
      "overflow_x": null,
      "overflow_y": null,
      "padding": null,
      "right": null,
      "top": null,
      "visibility": null,
      "width": null
     }
    },
    {
      "cell_type": "markdown",
      "metadata": {
        "id": "Y6mDEyW719rx"
      },
      "source": [
        "Speech is a continuous signal and to be treated by computers, it first has to be discretized, which is usually called **sampling**. The sampling rate hereby plays an important role in that it defines how many data points of the speech signal are measured per second. Therefore, sampling with a higher sampling rate results in a better approximation of the *real* speech signal but also necessitates more values per second.\n",
        "\n",
        "A pretrained checkpoint expects its input data to have been sampled more or less from the same distribution as the data it was trained on. The same speech signals sampled at two different rates have a very different distribution, *e.g.*, doubling the sampling rate results in data points being twice as long. Thus, \n",
        "before fine-tuning a pretrained checkpoint of an ASR model, it is crucial to verify that the sampling rate of the data that was used to pretrain the model matches the sampling rate of the dataset used to fine-tune the model.\n",
        "\n",
        "XLS-R was pretrained on audio data of [Babel](http://www.reading.ac.uk/AcaDepts/ll/speechlab/babel/r), \n",
        "[Multilingual LibriSpeech (MLS)](https://huggingface.co/datasets/multilingual_librispeech), [Common Voice](https://huggingface.co/datasets/common_voice), [VoxPopuli](https://arxiv.org/abs/2101.00390), and [VoxLingua107](https://arxiv.org/abs/2011.12998) at a sampling rate of 16kHz. Common Voice, in its original form, has a sampling rate of 48kHz, thus we will have to downsample the fine-tuning data to 16kHz in the following.\n",
        "\n"
      ]
    },
    {
      "cell_type": "markdown",
      "metadata": {
        "id": "KuUbPW7oV-B5"
      },
      "source": [
        "A `Wav2Vec2FeatureExtractor` object requires the following parameters to be instantiated:\n",
        "\n",
        "- `feature_size`: Speech models take a sequence of feature vectors as an input. While the length of this sequence obviously varies, the feature size should not. In the case of Wav2Vec2, the feature size is 1 because the model was trained on the raw speech signal ${}^2$.\n",
        "- `sampling_rate`: The sampling rate at which the model is trained on.\n",
        "- `padding_value`: For batched inference, shorter inputs need to be padded with a specific value\n",
        "- `do_normalize`: Whether the input should be *zero-mean-unit-variance* normalized or not. Usually, speech models perform better when normalizing the input\n",
        "- `return_attention_mask`: Whether the model should make use of an `attention_mask` for batched inference. In general, XLS-R models checkpoints should **always** use the `attention_mask`."
      ]
    },
    {
      "cell_type": "code",
      "metadata": {
        "id": "kAR0-2KLkopp"
      },
      "source": [
        "from transformers import Wav2Vec2FeatureExtractor\n",
        "\n",
        "feature_extractor = Wav2Vec2FeatureExtractor(feature_size=1, sampling_rate=16000, padding_value=0.0, do_normalize=True, return_attention_mask=True)"
      ],
      "execution_count": 24,
      "outputs": []
    },
    {
      "cell_type": "markdown",
      "metadata": {
        "id": "qUETetgqYC3W"
      },
      "source": [
        "Great, XLS-R's feature extraction pipeline is thereby fully defined!\n",
        "\n",
        "For improved user-friendliness, the feature extractor and tokenizer are *wrapped* into a single `Wav2Vec2Processor` class so that one only needs a `model` and `processor` object."
      ]
    },
    {
      "cell_type": "code",
      "metadata": {
        "id": "KYZtoW-tlZgl"
      },
      "source": [
        "from transformers import Wav2Vec2Processor\n",
        "\n",
        "processor = Wav2Vec2Processor(feature_extractor=feature_extractor, tokenizer=tokenizer)"
      ],
      "execution_count": 25,
      "outputs": []
    },
    {
      "cell_type": "markdown",
      "metadata": {
        "id": "DrKnYuvDIoOO"
      },
      "source": [
        "Next, we can prepare the dataset."
      ]
    },
    {
      "cell_type": "markdown",
      "metadata": {
        "id": "YFmShnl7RE35"
      },
      "source": [
        "### Preprocess Data\n",
        "\n",
        "So far, we have not looked at the actual values of the speech signal but just the transcription. In addition to `sentence`, our datasets include two more column names `path` and `audio`. `path` states the absolute path of the audio file. Let's take a look.\n"
      ]
    },
    {
      "cell_type": "code",
      "metadata": {
        "colab": {
          "base_uri": "https://localhost:8080/",
          "height": 52
        },
        "id": "TTCS7W6XJ9BG",
        "outputId": "1bc0c6d3-c697-44a4-8d82-0c51ca8d4930"
      },
      "source": [
        "common_voice_train[0][\"path\"]"
      ],
      "execution_count": 26,
      "outputs": [
        {
          "output_type": "execute_result",
          "data": {
            "application/vnd.google.colaboratory.intrinsic+json": {
              "type": "string"
            },
            "text/plain": [
              "'/root/.cache/huggingface/datasets/downloads/extracted/edda55c40621dcd8e9b62b52891917a6aecd54132c2e92b0d9c60020ee13fbb6/cv-corpus-6.1-2020-12-11/ga-IE/clips/common_voice_ga-IE_18183217.mp3'"
            ]
          },
          "metadata": {},
          "execution_count": 26
        }
      ]
    },
    {
      "cell_type": "markdown",
      "metadata": {
        "id": "T6ndIjHGFp0W"
      },
      "source": [
        "XLS-R expects the input in the format of a 1-dimensional array of 16 kHz. This means that the audio file has to be loaded and resampled.\n",
        "\n",
        " Thankfully, `datasets` does this automatically by calling the other column `audio`. Let try it out. "
      ]
    },
    {
      "cell_type": "code",
      "metadata": {
        "colab": {
          "base_uri": "https://localhost:8080/"
        },
        "id": "qj_z5Zc3GAs9",
        "outputId": "d386ad7d-4f9a-4b58-a2ac-202845705c0d"
      },
      "source": [
        "common_voice_train[0][\"audio\"]"
      ],
      "execution_count": 27,
      "outputs": [
        {
          "output_type": "execute_result",
          "data": {
            "text/plain": [
              "{'array': array([0.0000000e+00, 0.0000000e+00, 0.0000000e+00, ..., 2.4795532e-05,\n",
              "        2.4318695e-05, 2.4378300e-05], dtype=float32),\n",
              " 'path': '/root/.cache/huggingface/datasets/downloads/extracted/edda55c40621dcd8e9b62b52891917a6aecd54132c2e92b0d9c60020ee13fbb6/cv-corpus-6.1-2020-12-11/ga-IE/clips/common_voice_ga-IE_18183217.mp3',\n",
              " 'sampling_rate': 48000}"
            ]
          },
          "metadata": {},
          "execution_count": 27
        }
      ]
    },
    {
      "cell_type": "markdown",
      "metadata": {
        "id": "WUUTgI1bGHW-"
      },
      "source": [
        "Great, we can see that the audio file has automatically been loaded. This is thanks to the new [`\"Audio\"` feature](https://huggingface.co/docs/datasets/package_reference/main_classes.html?highlight=audio#datasets.Audio) introduced in `datasets == 4.13.3`, which loads and resamples audio files on-the-fly upon calling.\n",
        "\n",
        "In the example above we can see that the audio data is loaded with a sampling rate of 48kHz whereas 16kHz are expected by the model. We can set the audio feature to the correct sampling rate by making use of [`cast_column`](https://huggingface.co/docs/datasets/package_reference/main_classes.html?highlight=cast_column#datasets.DatasetDict.cast_column):"
      ]
    },
    {
      "cell_type": "code",
      "metadata": {
        "id": "rrv65aj7G95i"
      },
      "source": [
        "common_voice_train = common_voice_train.cast_column(\"audio\", Audio(sampling_rate=16_000))\n",
        "common_voice_test = common_voice_test.cast_column(\"audio\", Audio(sampling_rate=16_000))"
      ],
      "execution_count": 28,
      "outputs": []
    },
    "0f0194cfba5a493593ddb38b3e812970": {
     "model_module": "@jupyter-widgets/base",
     "model_module_version": "1.2.0",
     "model_name": "LayoutModel",
     "state": {
      "_model_module": "@jupyter-widgets/base",
      "_model_module_version": "1.2.0",
      "_model_name": "LayoutModel",
      "_view_count": null,
      "_view_module": "@jupyter-widgets/base",
      "_view_module_version": "1.2.0",
      "_view_name": "LayoutView",
      "align_content": null,
      "align_items": null,
      "align_self": null,
      "border": null,
      "bottom": null,
      "display": null,
      "flex": null,
      "flex_flow": null,
      "grid_area": null,
      "grid_auto_columns": null,
      "grid_auto_flow": null,
      "grid_auto_rows": null,
      "grid_column": null,
      "grid_gap": null,
      "grid_row": null,
      "grid_template_areas": null,
      "grid_template_columns": null,
      "grid_template_rows": null,
      "height": null,
      "justify_content": null,
      "justify_items": null,
      "left": null,
      "margin": null,
      "max_height": null,
      "max_width": null,
      "min_height": null,
      "min_width": null,
      "object_fit": null,
      "object_position": null,
      "order": null,
      "overflow": null,
      "overflow_x": null,
      "overflow_y": null,
      "padding": null,
      "right": null,
      "top": null,
      "visibility": null,
      "width": null
     }
    },
    "0fa98db3fefe4cccbae866ed79c25868": {
     "model_module": "@jupyter-widgets/base",
     "model_module_version": "1.2.0",
     "model_name": "LayoutModel",
     "state": {
      "_model_module": "@jupyter-widgets/base",
      "_model_module_version": "1.2.0",
      "_model_name": "LayoutModel",
      "_view_count": null,
      "_view_module": "@jupyter-widgets/base",
      "_view_module_version": "1.2.0",
      "_view_name": "LayoutView",
      "align_content": null,
      "align_items": null,
      "align_self": null,
      "border": null,
      "bottom": null,
      "display": null,
      "flex": null,
      "flex_flow": null,
      "grid_area": null,
      "grid_auto_columns": null,
      "grid_auto_flow": null,
      "grid_auto_rows": null,
      "grid_column": null,
      "grid_gap": null,
      "grid_row": null,
      "grid_template_areas": null,
      "grid_template_columns": null,
      "grid_template_rows": null,
      "height": null,
      "justify_content": null,
      "justify_items": null,
      "left": null,
      "margin": null,
      "max_height": null,
      "max_width": null,
      "min_height": null,
      "min_width": null,
      "object_fit": null,
      "object_position": null,
      "order": null,
      "overflow": null,
      "overflow_x": null,
      "overflow_y": null,
      "padding": null,
      "right": null,
      "top": null,
      "visibility": null,
      "width": null
     }
    },
    "100323f0cbb04891bcbfff9204daaf7d": {
     "model_module": "@jupyter-widgets/controls",
     "model_module_version": "1.5.0",
     "model_name": "ProgressStyleModel",
     "state": {
      "_model_module": "@jupyter-widgets/controls",
      "_model_module_version": "1.5.0",
      "_model_name": "ProgressStyleModel",
      "_view_count": null,
      "_view_module": "@jupyter-widgets/base",
      "_view_module_version": "1.2.0",
      "_view_name": "StyleView",
      "bar_color": null,
      "description_width": ""
     }
    },
    "10825e7df1064bcc89600d24f3b15a30": {
     "model_module": "@jupyter-widgets/controls",
     "model_module_version": "1.5.0",
     "model_name": "HTMLModel",
     "state": {
      "_dom_classes": [],
      "_model_module": "@jupyter-widgets/controls",
      "_model_module_version": "1.5.0",
      "_model_name": "HTMLModel",
      "_view_count": null,
      "_view_module": "@jupyter-widgets/controls",
      "_view_module_version": "1.5.0",
      "_view_name": "HTMLView",
      "description": "",
      "description_tooltip": null,
      "layout": "IPY_MODEL_2b7fbb2b36814aee9abe57a19679af4a",
      "placeholder": "\u200b",
      "style": "IPY_MODEL_2cc10d28110f4254883436ddf0edc49c",
      "value": " 1.18G/1.18G [00:47&lt;00:00, 26.5MB/s]"
     }
    },
    "1236daf2b9c94c969c7046216c310c45": {
     "model_module": "@jupyter-widgets/controls",
     "model_module_version": "1.5.0",
     "model_name": "ButtonStyleModel",
     "state": {
      "_model_module": "@jupyter-widgets/controls",
      "_model_module_version": "1.5.0",
      "_model_name": "ButtonStyleModel",
      "_view_count": null,
      "_view_module": "@jupyter-widgets/base",
      "_view_module_version": "1.2.0",
      "_view_name": "StyleView",
      "button_color": null,
      "font_weight": ""
     }
    },
    "134fedfde5c34fef9a467bd7a2e7bf25": {
     "model_module": "@jupyter-widgets/controls",
     "model_module_version": "1.5.0",
     "model_name": "HTMLModel",
     "state": {
      "_dom_classes": [],
      "_model_module": "@jupyter-widgets/controls",
      "_model_module_version": "1.5.0",
      "_model_name": "HTMLModel",
      "_view_count": null,
      "_view_module": "@jupyter-widgets/controls",
      "_view_module_version": "1.5.0",
      "_view_name": "HTMLView",
      "description": "",
      "description_tooltip": null,
      "layout": "IPY_MODEL_e752c31e4bc2497d98286368b1fec992",
      "placeholder": "\u200b",
      "style": "IPY_MODEL_674c9bdeeb9940cda0485f242d2d7b0e",
      "value": "100%"
     }
    },
    "13c65b39457740b7ab5abf4b2931a859": {
     "model_module": "@jupyter-widgets/controls",
     "model_module_version": "1.5.0",
     "model_name": "DescriptionStyleModel",
     "state": {
      "_model_module": "@jupyter-widgets/controls",
      "_model_module_version": "1.5.0",
      "_model_name": "DescriptionStyleModel",
      "_view_count": null,
      "_view_module": "@jupyter-widgets/base",
      "_view_module_version": "1.2.0",
      "_view_name": "StyleView",
      "description_width": ""
     }
    },
    "1830220a449b496c941183714d89c4c8": {
     "model_module": "@jupyter-widgets/base",
     "model_module_version": "1.2.0",
     "model_name": "LayoutModel",
     "state": {
      "_model_module": "@jupyter-widgets/base",
      "_model_module_version": "1.2.0",
      "_model_name": "LayoutModel",
      "_view_count": null,
      "_view_module": "@jupyter-widgets/base",
      "_view_module_version": "1.2.0",
      "_view_name": "LayoutView",
      "align_content": null,
      "align_items": null,
      "align_self": null,
      "border": null,
      "bottom": null,
      "display": null,
      "flex": null,
      "flex_flow": null,
      "grid_area": null,
      "grid_auto_columns": null,
      "grid_auto_flow": null,
      "grid_auto_rows": null,
      "grid_column": null,
      "grid_gap": null,
      "grid_row": null,
      "grid_template_areas": null,
      "grid_template_columns": null,
      "grid_template_rows": null,
      "height": null,
      "justify_content": null,
      "justify_items": null,
      "left": null,
      "margin": null,
      "max_height": null,
      "max_width": null,
      "min_height": null,
      "min_width": null,
      "object_fit": null,
      "object_position": null,
      "order": null,
      "overflow": null,
      "overflow_x": null,
      "overflow_y": null,
      "padding": null,
      "right": null,
      "top": null,
      "visibility": null,
      "width": null
     }
    },
    "186251c872b94be39323363d48a3be59": {
     "model_module": "@jupyter-widgets/controls",
     "model_module_version": "1.5.0",
     "model_name": "ProgressStyleModel",
     "state": {
      "_model_module": "@jupyter-widgets/controls",
      "_model_module_version": "1.5.0",
      "_model_name": "ProgressStyleModel",
      "_view_count": null,
      "_view_module": "@jupyter-widgets/base",
      "_view_module_version": "1.2.0",
      "_view_name": "StyleView",
      "bar_color": null,
      "description_width": ""
     }
    },
    "19cc5ead031a409fbd22c27221aea213": {
     "model_module": "@jupyter-widgets/controls",
     "model_module_version": "1.5.0",
     "model_name": "DescriptionStyleModel",
     "state": {
      "_model_module": "@jupyter-widgets/controls",
      "_model_module_version": "1.5.0",
      "_model_name": "DescriptionStyleModel",
      "_view_count": null,
      "_view_module": "@jupyter-widgets/base",
      "_view_module_version": "1.2.0",
      "_view_name": "StyleView",
      "description_width": ""
     }
    },
    "19f3738024d54f10af1fd28eddfbb597": {
     "model_module": "@jupyter-widgets/base",
     "model_module_version": "1.2.0",
     "model_name": "LayoutModel",
     "state": {
      "_model_module": "@jupyter-widgets/base",
      "_model_module_version": "1.2.0",
      "_model_name": "LayoutModel",
      "_view_count": null,
      "_view_module": "@jupyter-widgets/base",
      "_view_module_version": "1.2.0",
      "_view_name": "LayoutView",
      "align_content": null,
      "align_items": null,
      "align_self": null,
      "border": null,
      "bottom": null,
      "display": null,
      "flex": null,
      "flex_flow": null,
      "grid_area": null,
      "grid_auto_columns": null,
      "grid_auto_flow": null,
      "grid_auto_rows": null,
      "grid_column": null,
      "grid_gap": null,
      "grid_row": null,
      "grid_template_areas": null,
      "grid_template_columns": null,
      "grid_template_rows": null,
      "height": null,
      "justify_content": null,
      "justify_items": null,
      "left": null,
      "margin": null,
      "max_height": null,
      "max_width": null,
      "min_height": null,
      "min_width": null,
      "object_fit": null,
      "object_position": null,
      "order": null,
      "overflow": null,
      "overflow_x": null,
      "overflow_y": null,
      "padding": null,
      "right": null,
      "top": null,
      "visibility": null,
      "width": null
     }
    },
    {
      "cell_type": "code",
      "metadata": {
        "colab": {
          "base_uri": "https://localhost:8080/"
        },
        "id": "aKtkc1o_HWHC",
        "outputId": "54b6ee80-c056-45d1-d722-39183c68093b"
      },
      "source": [
        "common_voice_train[0][\"audio\"]"
      ],
      "layout": "IPY_MODEL_31175252c10649c6abdf2acc618dd1b9"
     }
    },
    "1aaac3981fa946debd193b43a3b1e4a3": {
     "model_module": "@jupyter-widgets/base",
     "model_module_version": "1.2.0",
     "model_name": "LayoutModel",
     "state": {
      "_model_module": "@jupyter-widgets/base",
      "_model_module_version": "1.2.0",
      "_model_name": "LayoutModel",
      "_view_count": null,
      "_view_module": "@jupyter-widgets/base",
      "_view_module_version": "1.2.0",
      "_view_name": "LayoutView",
      "align_content": null,
      "align_items": null,
      "align_self": null,
      "border": null,
      "bottom": null,
      "display": null,
      "flex": null,
      "flex_flow": null,
      "grid_area": null,
      "grid_auto_columns": null,
      "grid_auto_flow": null,
      "grid_auto_rows": null,
      "grid_column": null,
      "grid_gap": null,
      "grid_row": null,
      "grid_template_areas": null,
      "grid_template_columns": null,
      "grid_template_rows": null,
      "height": null,
      "justify_content": null,
      "justify_items": null,
      "left": null,
      "margin": null,
      "max_height": null,
      "max_width": null,
      "min_height": null,
      "min_width": null,
      "object_fit": null,
      "object_position": null,
      "order": null,
      "overflow": null,
      "overflow_x": null,
      "overflow_y": null,
      "padding": null,
      "right": null,
      "top": null,
      "visibility": null,
      "width": null
     }
    },
    "1bab3ff916ca485faf6cb95008452954": {
     "model_module": "@jupyter-widgets/base",
     "model_module_version": "1.2.0",
     "model_name": "LayoutModel",
     "state": {
      "_model_module": "@jupyter-widgets/base",
      "_model_module_version": "1.2.0",
      "_model_name": "LayoutModel",
      "_view_count": null,
      "_view_module": "@jupyter-widgets/base",
      "_view_module_version": "1.2.0",
      "_view_name": "LayoutView",
      "align_content": null,
      "align_items": null,
      "align_self": null,
      "border": null,
      "bottom": null,
      "display": null,
      "flex": null,
      "flex_flow": null,
      "grid_area": null,
      "grid_auto_columns": null,
      "grid_auto_flow": null,
      "grid_auto_rows": null,
      "grid_column": null,
      "grid_gap": null,
      "grid_row": null,
      "grid_template_areas": null,
      "grid_template_columns": null,
      "grid_template_rows": null,
      "height": null,
      "justify_content": null,
      "justify_items": null,
      "left": null,
      "margin": null,
      "max_height": null,
      "max_width": null,
      "min_height": null,
      "min_width": null,
      "object_fit": null,
      "object_position": null,
      "order": null,
      "overflow": null,
      "overflow_x": null,
      "overflow_y": null,
      "padding": null,
      "right": null,
      "top": null,
      "visibility": null,
      "width": null
     }
    },
    "1cd7a99c6b844228abbdc14fde5cd1c5": {
     "model_module": "@jupyter-widgets/controls",
     "model_module_version": "1.5.0",
     "model_name": "DescriptionStyleModel",
     "state": {
      "_model_module": "@jupyter-widgets/controls",
      "_model_module_version": "1.5.0",
      "_model_name": "DescriptionStyleModel",
      "_view_count": null,
      "_view_module": "@jupyter-widgets/base",
      "_view_module_version": "1.2.0",
      "_view_name": "StyleView",
      "description_width": ""
     }
    },
    "1da4d9a1225046be8a344593f78b9753": {
     "model_module": "@jupyter-widgets/base",
     "model_module_version": "1.2.0",
     "model_name": "LayoutModel",
     "state": {
      "_model_module": "@jupyter-widgets/base",
      "_model_module_version": "1.2.0",
      "_model_name": "LayoutModel",
      "_view_count": null,
      "_view_module": "@jupyter-widgets/base",
      "_view_module_version": "1.2.0",
      "_view_name": "LayoutView",
      "align_content": null,
      "align_items": null,
      "align_self": null,
      "border": null,
      "bottom": null,
      "display": null,
      "flex": null,
      "flex_flow": null,
      "grid_area": null,
      "grid_auto_columns": null,
      "grid_auto_flow": null,
      "grid_auto_rows": null,
      "grid_column": null,
      "grid_gap": null,
      "grid_row": null,
      "grid_template_areas": null,
      "grid_template_columns": null,
      "grid_template_rows": null,
      "height": null,
      "justify_content": null,
      "justify_items": null,
      "left": null,
      "margin": null,
      "max_height": null,
      "max_width": null,
      "min_height": null,
      "min_width": null,
      "object_fit": null,
      "object_position": null,
      "order": null,
      "overflow": null,
      "overflow_x": null,
      "overflow_y": null,
      "padding": null,
      "right": null,
      "top": null,
      "visibility": null,
      "width": null
     }
    },
    "1fbefc015c124c559fff42c6212891fb": {
     "model_module": "@jupyter-widgets/controls",
     "model_module_version": "1.5.0",
     "model_name": "HTMLModel",
     "state": {
      "_dom_classes": [],
      "_model_module": "@jupyter-widgets/controls",
      "_model_module_version": "1.5.0",
      "_model_name": "HTMLModel",
      "_view_count": null,
      "_view_module": "@jupyter-widgets/controls",
      "_view_module_version": "1.5.0",
      "_view_name": "HTMLView",
      "description": "",
      "description_tooltip": null,
      "layout": "IPY_MODEL_1aaac3981fa946debd193b43a3b1e4a3",
      "placeholder": "\u200b",
      "style": "IPY_MODEL_9f97deaf66c14f9ea29e4e606d1f44ff",
      "value": " 226/0 [00:00&lt;00:00, 2250.78 examples/s]"
     }
    },
    "211084b543ec439ca237416aeefc762b": {
     "model_module": "@jupyter-widgets/base",
     "model_module_version": "1.2.0",
     "model_name": "LayoutModel",
     "state": {
      "_model_module": "@jupyter-widgets/base",
      "_model_module_version": "1.2.0",
      "_model_name": "LayoutModel",
      "_view_count": null,
      "_view_module": "@jupyter-widgets/base",
      "_view_module_version": "1.2.0",
      "_view_name": "LayoutView",
      "align_content": null,
      "align_items": null,
      "align_self": null,
      "border": null,
      "bottom": null,
      "display": null,
      "flex": null,
      "flex_flow": null,
      "grid_area": null,
      "grid_auto_columns": null,
      "grid_auto_flow": null,
      "grid_auto_rows": null,
      "grid_column": null,
      "grid_gap": null,
      "grid_row": null,
      "grid_template_areas": null,
      "grid_template_columns": null,
      "grid_template_rows": null,
      "height": null,
      "justify_content": null,
      "justify_items": null,
      "left": null,
      "margin": null,
      "max_height": null,
      "max_width": null,
      "min_height": null,
      "min_width": null,
      "object_fit": null,
      "object_position": null,
      "order": null,
      "overflow": null,
      "overflow_x": null,
      "overflow_y": null,
      "padding": null,
      "right": null,
      "top": null,
      "visibility": null,
      "width": null
     }
    },
    "212f7e5ec9bb4c769c0c40ef16cc9c22": {
     "model_module": "@jupyter-widgets/base",
     "model_module_version": "1.2.0",
     "model_name": "LayoutModel",
     "state": {
      "_model_module": "@jupyter-widgets/base",
      "_model_module_version": "1.2.0",
      "_model_name": "LayoutModel",
      "_view_count": null,
      "_view_module": "@jupyter-widgets/base",
      "_view_module_version": "1.2.0",
      "_view_name": "LayoutView",
      "align_content": null,
      "align_items": null,
      "align_self": null,
      "border": null,
      "bottom": null,
      "display": null,
      "flex": null,
      "flex_flow": null,
      "grid_area": null,
      "grid_auto_columns": null,
      "grid_auto_flow": null,
      "grid_auto_rows": null,
      "grid_column": null,
      "grid_gap": null,
      "grid_row": null,
      "grid_template_areas": null,
      "grid_template_columns": null,
      "grid_template_rows": null,
      "height": null,
      "justify_content": null,
      "justify_items": null,
      "left": null,
      "margin": null,
      "max_height": null,
      "max_width": null,
      "min_height": null,
      "min_width": null,
      "object_fit": null,
      "object_position": null,
      "order": null,
      "overflow": null,
      "overflow_x": null,
      "overflow_y": null,
      "padding": null,
      "right": null,
      "top": null,
      "visibility": null,
      "width": null
     }
    },
    "243ecba5b9094aa88e4c59e86eebed3a": {
     "model_module": "@jupyter-widgets/controls",
     "model_module_version": "1.5.0",
     "model_name": "HTMLModel",
     "state": {
      "_dom_classes": [],
      "_model_module": "@jupyter-widgets/controls",
      "_model_module_version": "1.5.0",
      "_model_name": "HTMLModel",
      "_view_count": null,
      "_view_module": "@jupyter-widgets/controls",
      "_view_module_version": "1.5.0",
      "_view_name": "HTMLView",
      "description": "",
      "description_tooltip": null,
      "layout": "IPY_MODEL_211084b543ec439ca237416aeefc762b",
      "placeholder": "\u200b",
      "style": "IPY_MODEL_9c6e369c65de4f50964caa83c3f1c952",
      "value": " 506/506 [00:00&lt;00:00, 1258.71ex/s]"
     }
    },
    {
      "cell_type": "code",
      "metadata": {
        "colab": {
          "base_uri": "https://localhost:8080/",
          "height": 92
        },
        "id": "dueM6U7Ev0OA",
        "outputId": "25c1fcca-629f-48d3-b466-dab935dcca1b"
      },
      "source": [
        "import IPython.display as ipd\n",
        "import numpy as np\n",
        "import random\n",
        "\n",
        "rand_int = random.randint(0, len(common_voice_train)-1)\n",
        "\n",
        "print(common_voice_train[rand_int][\"sentence\"])\n",
        "ipd.Audio(data=common_voice_train[rand_int][\"audio\"][\"array\"], autoplay=True, rate=16000)"
      ],
      "execution_count": 30,
      "outputs": [
        {
          "output_type": "stream",
          "name": "stdout",
          "text": [
            "leabhar dearg is ea é sin agus leabhar bán is ea é seo\n"
          ]
        },
        {
          "output_type": "execute_result",
          "data": {
            "text/html": [
              "\n",
              "                <audio controls=\"controls\" autoplay=\"autoplay\">\n",
              "                    <source src=\"data:audio/wav;base64,UklGRiTaAQBXQVZFZm10IBAAAAABAAEAgD4AAAB9AAACABAAZGF0YQDaAQAAAAAAAAAAAAAAAAAAAAAAAAAAAAAAAAAAAAAAAAAAAAAAAAAAAAAAAAAAAAAAAAAAAAAAAAAAAAAAAAAAAAAAAAAAAAAAAAAAAAAAAAAAAAAAAAAAAAAAAAAAAAAAAAAAAAAAAAAAAAAAAAAAAAAAAAAAAAAAAAAAAAAAAAAAAAAAAAAAAAAAAAAAAAAAAAAAAAAAAAAAAAAAAAAAAAAAAAAAAAAAAAAAAAAAAAAAAAAAAAAAAAAAAAAAAAAAAAAAAAAAAAAAAAAAAAAAAAAAAAAAAAAAAAAAAAAAAAAAAAAAAAAAAAAAAAAAAAAAAAAAAAAAAAAAAAAAAAAAAAAAAAAAAAAAAAAAAAAAAAAAAAAAAAAAAAAAAAAAAAAAAAAAAAAAAAAAAAAAAAAAAAAAAAAAAAAAAAAAAAAAAAAAAAAAAAAAAAAAAAAAAAAAAAAAAAAAAAAAAAAAAAAAAAAAAAAAAAAAAAAAAAAAAAAAAAAAAAAAAAAAAAAAAAAAAAAAAAAAAAAAAAAAAAAAAAAAAAAAAAAAAAAAAAAAAAAAAAAAAAAAAAAAAAAAAAAAAAAAAAAAAAAAAAAAAAAAAAAAAAAAAAAAAAAAAAAAAAAAAAAAAAAAAAAAAAAAAAAAAAAAAAAAAAAAAAAAAAAAAAAAAAAAAAAAAAAAAAAAAAAAAAAAAAAAAAAAAAAAAAAAAAAAAAAAAAAAAAAAAAAAAAAAAAAAAAAAAAAAAAAAAAAAAAAAAAAAAAAAAAAAAAAAAAAAAAAAAAAAAAAAAAAAAAAAAAAAAAAAAAAAAAAAAAAAAAAAAAAAAAAAAAAAAAAAAAAAAAAAAAAAAAAAAAAAAAAAAAAAAAAAAAAAAAAAAAAAAAAAAAAAAAAAAAAAAAAAAAAAAAAAAAAAAAAAAAAAAAAAAAAAAAAAAAAAAAAAAAAAAAAAAAAAAAAAAAAAAAAAAAAAAAAAAAAAAAAAAAAAAAAAAAAAAAAAAAAAAAAAAAAAAAAAAAAAAAAAAAAAAAAAAAAAAAAAAAAAAAAAAAAAAAAAAAAAAAAAAAAAAAAAAAAAAAAAAAAAAAAAAAAAAAAAAAAAAAAAAAAAAAAAAAAAAAAAAAAAAAAAAAAAAAAAAAAAAAAAAAAAAAAAAAAAAAAAAAAAAAAAAAAAAAAAAAAAAAAAAAAAAAAAAAAAAAAAAAAAAAAAAAAAAAAAAAAAAAAAAAAAAAAAAAAAAAAAAAAAAAAAAAAAAAAAAAAAAAAAAAAAAAAAAAAAAAAAAAAAAAAAAAAAAAAAAAAAAAAAAAAAAAAAAAACAAEAAAAAAAAAAQAAAAAAAAAAAAAAAAAAAAAAAAAAAAAAAAAAAAEAAAAAAAAAAAAAAAAAAAAAAAAAAAD9//3//v8AAAAAAAAAAAAA///9//7//f/+//3//f/9//3//f/9//3//P/+/wAAAAAAAAAAAAAAAAAAAAAAAAAAAQABAAAAAgACAAIAAQACAAIAAgACAAIAAgACAAIAAwABAAAAAAAAAAAAAAAAAAAAAAAAAP///v8BAAAA/f/+/wAA///9//7//f/9//3//f/9//3//f/+/wAAAAAAAAAAAAAAAAAAAAAAAAEAAQAAAAAAAAAAAAAAAAAAAAAAAAAAAAAAAAAAAAAAAAABAAEAAAAAAAEAAQD//wEAAQAAAAAAAAAAAAAAAAABAAAA/f/9//z//v8AAAAAAAAAAAAAAQACAAAAAAAAAAAAAAAAAAAAAAAAAAAAAAAAAAAAAAAAAAAAAAAAAP///v8AAAAAAAAAAAAAAAAAAAAAAAAAAAAAAAAAAAAAAgABAAIAAQAAAAAAAQD/////AAD9//7//P/+/wAAAAAAAAAAAAACAAEAAAAAAAAAAAABAAAAAAAAAAAAAAAAAAAAAAAAAAAAAAD//wEAAQAAAAAAAAAAAAAAAAAAAAAAAAAAAAAAAAAAAAAAAAD9//3//f/+/wAAAAAAAAAAAAACAAIAAAAAAAAAAAD///7/AAAAAAAAAAAAAAAAAAAAAAIAAgABAAAAAAAAAAAAAAAAAAAAAAAAAAAAAAAAAAAAAAAAAAEAAQAAAAAAAAAAAAAAAAAAAAAAAAAAAAAAAAAAAAAAAAAAAAAAAAAAAP3///8AAPz///8AAAAAAAAAAAAAAAABAAAAAAAAAAAA///+/wEAAAD+//7//f/9//3//P///wAAAAAAAAAAAAAAAAAAAAAAAAAAAAAAAAAAAQABAAAAAAAAAAAAAAAAAAAAAAAAAAAAAAAAAAAAAAAAAAAAAAAAAAAAAAAAAAAAAAABAAIAAgABAAAAAAAAAAAAAAAAAAAAAAAAAP////8AAPz///////7/AAAAAAAAAAAAAAAAAAAAAAAAAAAAAAAAAAAAAAAA/f/+/wAAAAAAAAAAAAAAAAAA/P/+/wAAAAAAAAAAAAAAAP///v8AAAAAAAAAAAAAAAD///7/AQAAAAAAAgACAAMAAQAAAAAAAAAAAAIAAgACAAEAAAAAAAAAAAAAAAAAAAAAAAAAAAAAAAAAAAAAAAAAAAAAAAAAAAAAAAAAAAAAAAEAAAD+/wAA/f/+//z///////7/AAAAAAAAAAAAAAAAAAAAAAAAAAAAAAAAAAAAAAAAAAAAAAAAAAAAAAAAAAAAAAAAAAAAAAAAAAAAAAAAAAAAAAAAAAAAAAAAAAAAAAAAAAAAAAAAAAAAAAAAAAAAAAAAAAAAAAAAAAAAAAAAAAAAAAAAAAAAAAAAAAAAAAAAAAAAAAAAAAAAAAAAAAAAAAAAAAAAAAAAAAAAAAAAAAAAAAAAAAAAAAAAAAAAAAAAAAAAAAAAAAAAAAAAAAAAAAAAAAAAAAAAAAAAAAAAAAAAAAAAAAAAAAAAAAAAAAAAAAAAAAAAAAAAAAAAAAAAAAAAAAAAAAAAAAAAAAAAAAAAAAAAAAAAAAAAAAAAAAAAAAAAAAAAAAAAAAAAAAAAAAAAAQABAAAAAgAAAAAAAAAAAAAAAAAAAAAAAAAAAAAAAAAAAAAAAAAAAAAAAAAAAAEAAgAAAAAAAAAAAAAAAAAAAAAAAAAAAAAA/P/+/wAAAAAAAAAAAAAAAAAAAAAAAAAAAAAAAAAAAAAAAAAAAAAAAAAAAAAAAAAAAAAAAAAAAAAAAAAAAAAAAAAAAAAAAAAAAAAAAAAAAAAAAAAAAAAAAAAAAAAAAAAAAAAAAAAAAAAAAAAAAAAAAAAAAAAAAAAAAAAAAAAAAAAAAAAAAAAAAAAAAAAAAAAAAAAAAAAAAAD///7/AAAAAAAAAAAAAAAAAAAAAAAAAAAAAAAAAAAAAAAAAAAAAAAAAAAAAAAAAgACAAEAAAAAAAAAAAAAAAAAAAAAAAAAAAAAAAAAAAAAAAAAAAAAAAAAAAAAAAAAAAAAAAAAAAAAAAAAAAAAAAAAAAAAAP///f/9//7/AAAAAAAAAAAAAPz//v8AAAAAAAAAAAAAAAAAAAAAAAAAAAAAAAAAAAAAAAAAAAAAAAAAAAAAAAAAAAAAAAAAAAAAAAAAAAAAAAACAAIAAwACAAAAAAAAAAAAAAAAAAAAAAAAAAAAAAAAAAAAAAAAAAAAAAAAAAAAAAAAAAAAAAACAAEAAgABAAEAAQAAAAAAAAAAAAAAAAAAAAAAAAAAAAEAAAD+/wAAAAAAAAAAAAAAAAAA/P/+/wAAAAAAAAAAAAAAAAAAAAABAP///v8AAAAAAAD9//7//v/8//7/AAAAAAAAAAAAAAAAAAAAAAAAAAAAAAAAAAAAAAAAAAAAAAAAAAAAAAAAAAAAAAAAAAAAAAAAAQACAAMAAQAAAAEAAQAAAAEAAQAAAAEAAQAAAAAAAAAAAAAAAAAAAAAAAAAAAAAAAAAAAAAAAAAAAAAAAAAAAAAAAAAAAAAAAAAAAAAAAAAAAAAAAAAAAAAAAQD///7/AAAAAAAAAAAAAAAAAAAAAAAAAAD/////AAAAAPz//v8AAAAAAAD+/wAAAAAAAAAAAAAAAAAAAAAAAAAAAAAAAAAAAAAAAAAAAAAAAAAAAAAAAAAAAAAAAAAAAAAAAAAAAAAAAAEAAgAAAAAAAAAAAAAAAAABAAEAAAABAAEAAAAAAAAAAAAAAAAAAAAAAAAA/v8BAP7//v8AAAAAAAAAAAAAAAAAAAAAAAAAAAAAAAABAAAAAAAAAAAAAAAAAAAAAAAAAAAAAAACAAAAAAAAAAAAAAAAAAAAAAAAAAAAAAAAAAAAAAAAAAAAAAAAAAAAAAAAAAAAAAAAAAAAAQAAAAEAAAD//wAA///+/wAAAAAAAAAAAAAAAAAAAAAAAAAAAAAAAAAAAAAAAAAAAAAAAAAAAAAAAAAAAAAAAAAAAAAAAAAAAAAAAAAAAAAAAAAAAAAAAAAAAAAAAAAAAAAAAAAAAAABAP////8AAAAAAAAAAAAAAAAAAAAAAAAAAAAAAAAAAAAAAAAAAAAAAAAAAAAAAAAAAAAAAgABAAAAAAAAAAAAAAAAAAAAAAAAAAAAAAAAAPz///8AAPz//v8AAAAAAAAAAAAAAAAAAP///v8AAAAAAAAAAAAAAAAAAAAAAAAAAAAAAAAAAAAAAAAAAAAAAAAAAAAAAAAAAAAAAAAAAAAAAAAAAAAAAAAAAAAAAAAAAAAAAAAAAAAAAAAAAAAAAAAAAAAAAAAAAAAAAAAAAAAAAAAAAAAAAAAAAAAAAAAAAAAAAAAAAAAAAAAAAAAAAAAAAAAAAAAAAAAAAAAAAAAAAAAAAAAAAAAAAAAAAAAAAAAAAAAAAAAAAAAAAAAAAAAAAAAAAAAAAAAAAAAAAAAAAAAAAAAAAAAAAAAA/f/+/wAAAAD8//7/AAAAAAAAAAAAAAAAAQABAAAAAAAAAAEAAQAAAAAAAAAAAAAAAAAAAAAAAAAAAAAAAAAAAAAAAAAAAAAAAAAAAAAAAAABAP///v8AAAAA///+/wAAAAAAAAAAAQAAAAAAAAAAAAAAAAAAAAAAAAAAAAAAAAAAAAAAAAAAAAAAAAAAAAAAAAAAAAAAAAAAAAAAAAAAAAAAAAAAAAAAAAAAAP///v8AAAAAAAAAAAAAAAAAAAAAAAAAAAAAAAAAAAAAAAAAAAAAAAAAAAAAAAAAAAAAAAAAAAAAAAAAAAAAAAAAAAAAAAABAAEAAAAAAAAAAAAAAAAAAAAAAAAAAAAAAAAAAAAAAAAAAAAAAAAAAAAAAAAAAAAAAAAAAAAAAAAAAAAAAAAAAAAAAAAAAAAAAAAAAAAAAAAAAAAAAAAAAAAAAAAAAAAAAAAAAAAAAAAAAAAAAAAAAAAAAAAAAAAAAAAAAAAAAAAAAgABAAAAAAAAAAAAAAAAAAAAAAABAAAAAAD///7/AAAAAAAAAAAAAAAAAAAAAAAAAAAAAAAAAAAAAAAAAAAAAAAAAAAAAAAAAAAAAAAAAAAAAAAAAAAAAAAAAAAAAAAAAAAAAAAAAAAAAAAAAAAAAAAAAAAAAAEAAQAAAAAAAAAAAAAAAAAAAAAAAAAAAAAAAAABAP///v8AAAAAAAAAAAAAAAAAAAAAAAAAAAAAAAAAAAAAAAAAAP////8AAP7/AAAAAAAAAAAAAAAAAAAAAAAAAAAAAAAAAAAAAAAAAAAAAAAAAAAAAAAAAAAAAAAAAQABAAAAAAAAAAAAAAAAAAAAAAAAAAAAAAAAAAAAAgABAAAAAAAAAAAAAAAAAAAAAAAAAAAAAAAAAAAAAAAAAAAAAAAAAAAAAAAAAAAAAAAAAAAAAAAAAAAAAAAAAAAAAAAAAAAAAAAAAAAA///9//z//v8AAAAAAAD///z//v8AAAAAAAAAAAAAAAAAAPz/AAD///7/AQAAAAAAAAAAAAAAAAAAAAAAAAAAAAAAAAAAAAAAAAAAAAAAAAAAAAAAAAAAAAAAAAAAAAAAAAAAAAAAAAAAAAAAAAAAAAAAAAAAAAAAAAABAAAAAAAAAAAAAAAAAAAAAAAAAAIAAQAAAAAAAAAAAAAAAAAAAAAAAAABAAAAAAAAAAAAAAAAAAAAAAAAAAAAAAAAAAAAAAAAAAAAAQD///7/AQAAAAAAAAAAAAAAAAAAAAAAAAAAAAAAAAAAAP///f8BAAAA/f/9////AAAAAAAA/P/+/wAAAAAAAAAAAAAAAAAAAAAAAAAAAAAAAAAAAAAAAAAAAAAAAAAAAAAAAAAAAAAAAAAAAAAAAAAAAAAAAAAAAAAAAAAAAAAAAAAAAAAAAAAAAQABAAAAAAAAAAAAAAAAAAAAAAAAAAAAAAAAAAAAAAAAAAAAAAAAAAAAAAAAAAAAAAAAAAAAAAAAAAAAAAAAAAAAAAAAAAAAAAAAAAAAAAAAAAAAAAAAAAAAAAAAAAAAAAAAAAAAAAAAAAAAAAAAAAAAAAAAAAAAAAAAAAAAAAAAAAAAAAAAAAAAAAAAAAAAAAAAAAAAAAAAAAAAAAAAAAAAAAAAAAAAAAAAAAAA/f/9//7/AAAAAAAAAAAAAAAAAAAAAAAAAAAAAAAAAAAAAAAAAAAAAAAAAAAAAAAAAAAAAAAAAAAAAAEA///+/wAAAAAAAAAAAAAAAAAAAAAAAAAAAAAAAAAAAAAAAAAAAAAAAAAAAAAAAAAAAAAAAAAAAAAAAAAAAAAAAAAAAAAAAAAAAAAAAAAAAAAAAAAAAAAAAAAAAAAAAAAAAAAAAAAAAAAAAAAAAAAAAAAAAAAAAAAAAAAAAAAAAAAAAAAAAAAAAAAAAAAAAAAAAAAAAAAAAAAAAAAAAAAAAAAAAAAAAAAAAAAAAAAAAAAAAAAAAAAAAAAAAAAAAAAA///+/wAAAAAAAAAAAAAAAAAAAAAAAAAAAAAAAAAAAAAAAAAAAAAAAAAAAAAAAAAAAAAAAAAAAAAAAAAAAAAAAAAAAAAAAAAAAAAAAAAAAAAAAAAAAAAAAAAAAAAAAAAAAAAAAAAAAAAAAAAAAAAAAAAAAAAAAAAAAAAAAAAAAAAAAAEAAAAAAAAAAAAAAAAAAAAAAAAAAAAAAAAAAAAAAAAAAAAAAAAAAAACAAIAAQAAAAAAAAAAAAAAAAAAAAAAAAAAAAAAAAAAAAAAAAAAAAAAAAAAAAAAAAAAAAAAAAAAAAAAAAAAAAAA/f///wAAAAAAAAAAAAAAAAAAAAAAAAAA///9//7/AAAAAAAA///+//3//f/9//z//f/8//7/AAAAAAAAAAAAAAAAAAAAAAAAAAACAAIAAQAAAAAAAAAAAAAAAAAAAP//AAACAAEAAAAAAAAAAAACAAEAAAAAAAAAAAAAAAAAAAAAAAAAAAAAAAAAAAAAAAAAAAAAAAAAAAAAAAAAAAAAAAAAAAAAAAAAAAAAAAAAAAAAAAAAAAAAAAAAAAAAAAAAAAAAAAAAAQAAAP3//f/9//3///8AAP///v/9//7//f///wAA/P///wAAAAAAAAAAAAAAAAEAAQAAAAAAAAABAAIAAAAAAAAAAAAAAAAAAAAAAAAAAAAAAAAAAAAAAAAAAAAAAAAAAAAAAAAAAAAAAAAA///8//7//P///////v8BAAAAAAAAAAAAAAAAAAAAAAAAAAAAAAAAAAAAAgAAAAEAAQAAAAIAAAAAAAIAAgADAAIAAQABAAMAAgADAAEAAAAAAAEAAQAAAAAAAAAAAAAA/f/+//7//v/9//3///8AAP7//v/9//7/AAAAAP3//f/+//7//f/8//7/AAD///3//f/9//z//f8AAAAAAAACAAEAAAAAAAAAAAAAAAAAAAAAAAAAAQABAAAAAAAAAAAAAAAAAAAAAAAAAAAAAAAAAAAAAAAAAAAAAAAAAAAAAAAAAAAAAAAAAAAAAAAAAAAAAAAAAAAAAAAAAAAAAAABAAAAAAAAAAAAAAAAAAAAAAAAAAIAAgACAAIAAgAAAAEAAgAAAAAAAgABAAAAAAAAAAAAAAAAAAAAAAAAAAAAAAAAAAAAAAAAAAAAAAD9//7//v/+//3//f/9//3//f/9//3//f/9////AAAAAAAAAAAAAAAAAQACAAAAAAAAAAAAAAAAAAAAAAAAAAAAAAAAAAAAAAAAAAAAAAAAAAAAAAAAAAAAAAAAAAAAAAAAAAAAAAAAAAAAAAAAAAAAAAAAAAAAAAAAAAAAAAAAAAAAAAAAAAAAAAAAAAAAAAAAAAAAAAAAAAAAAAAAAAAAAAAAAAAAAAAAAAAAAAAAAAAAAAAAAAAAAAAAAAAAAAAAAAAAAAAAAAAA///+/wAAAAAAAP3//v8AAP//AAACAAAAAAAAAAAAAAAAAAAAAAAAAAAAAAAAAAAAAAAAAAEAAgABAAAAAAAAAAAAAAAAAAAAAAAAAAAAAAAAAAAAAAAAAAAA/f///wAAAAAAAAAAAAAAAAAAAAAAAAAAAAAAAAAAAAAAAAAAAAAAAAAAAAAAAAAAAQABAAAAAgACAAEAAAAAAAAAAAAAAAAAAAAAAP3///8AAAAAAAAAAAAAAAAAAAEAAAD9//3//v8AAP///P/+/wAAAAAAAAAAAAAAAAAAAAAAAAAAAAAAAAAAAAAAAAAAAAAAAAAAAAAAAAAAAAAAAAAAAAAAAAAAAAAAAAAAAAAAAAAAAAAAAAAAAAAAAAAAAAAAAAAAAAAAAAAAAAAAAAAAAAAAAAAAAAAAAAAAAAAAAAIAAAABAAIAAAAAAAAAAAAAAAAAAAAAAAAAAAAAAAAAAAAAAAAAAAAAAAAAAAAAAAAAAAAAAAAAAAAAAAAAAAAAAAAAAAAAAAAAAAAAAAAAAAABAAAA/f/+//3//v8BAAAAAAAAAP7/AAD/////AAAAAAAAAAAAAAAAAAAAAAEAAAADAAEAAQABAAEAAgAAAAAA//8CAAEAAAABAAAAAAAAAAAAAAAAAAAAAAAAAAEA///9//3//f8BAP7//v////7/AQAAAP3//f/+//7//v/9//7//f/+/wAAAAAAAAAAAAAAAAAAAQAAAAAAAAAAAAMAAgD//wAAAgABAAIAAgACAAIAAgACAAEAAAABAAAAAAAAAAAAAAAAAAAAAAAAAAAAAAAAAAAAAAAAAAAAAAD8////AAAAAAAAAAAAAP7/AAAAAAAAAAAAAAAAAAAAAAAAAAAAAAAAAAAAAAAAAAABAAIAAgABAAAAAAAAAAAAAAAAAAAAAAAAAAAAAAAAAAAAAAABAAAAAAAAAP3//f/+//3//f/+//3//v8AAP//AAACAAAAAAABAAAAAAAAAP7//P/+/wEA/////wAAAAAAAAAAAAAAAAAAAAABAAAAAAD///7/AAAAAAAAAAABAAMAAgADAAIAAQABAAEAAAABAAAAAAAAAAAAAAAAAAAAAAAAAAEAAwACAAAAAAABAAAAAAAAAP3//P///wAA/f/9//3//f/9////AAD8////AAD8//7//v/8//7/AAAAAAAAAAD/////AAABAAAA/v8BAAAAAAABAAAAAAAAAAAAAAAAAAAAAAAAAAAAAQAAAAEAAQABAAIAAgACAAEAAgAAAAAAAAAAAAAAAAAAAAAAAAAAAAAAAAAAAAAAAAAAAAAAAgACAAAAAAAAAAAAAAAAAAAAAAABAAIAAAAAAAAAAAACAAIAAgADAAEAAAAAAAAAAAAAAAAAAAAAAAAAAAAAAAAAAAAAAAAAAAAAAAAAAQAAAP7//v/+//7//f/9//3//f/9//7//f/+//z//P/8//v//v/9//3//f/9//3//f/+/wAAAAAAAAEAAQAAAAAAAAAAAAAAAAAAAAAAAAAAAAAAAQABAAAAAQABAAAAAAAAAAAAAgABAAAAAgABAAIAAgACAAIAAgACAAMAAgAAAAEAAgAAAAEAAAABAAIAAAAAAAEAAAD9/////f///wAA/f/9//3//f/8//7/AAAAAAAA///+/wAAAAAAAAAAAAAAAAAAAAAAAAAAAAAAAAAAAAABAAAAAAAAAAAAAAAAAAAAAAAAAAAAAAAAAAAAAAAAAAAAAAAAAAAAAAAAAAAAAAAAAAAAAAAAAAAAAAABAAAAAAABAAAAAAAAAAAAAAAAAAAAAAAAAAAAAAAAAAAAAAAAAAAAAAAAAAAAAAAAAAAAAAAAAAAA/v/+//3//v/9////AAD9//7//f///wAAAAAAAAAAAAAAAAEAAQABAAMAAgACAAIAAgABAAAAAAAAAAAAAAAAAAAAAAAAAAAAAAAAAAAAAAAAAAAAAQD///7/AAAAAAAAAAAAAAAAAAAAAAAAAAAAAAAAAAAAAAAAAAAAAAAAAAAAAAAAAQAAAP7/AAAAAAAAAAAAAAAAAAAAAAAAAAAAAAAAAAAAAAAAAAAAAAAAAAAAAAAAAAAAAAAAAAAAAAAAAAAAAAAAAAAAAAAAAAAAAAAAAAAAAAAAAAAAAAEAAQAAAAAAAAAAAAAAAQABAAAAAAAAAAAAAAAAAAAAAAAAAP///v8AAAAAAAAAAAAAAAAAAAEAAgAAAAAAAAAAAAAAAAAAAAAAAAAAAAAAAAAAAAAAAAAAAAAAAAAAAAAAAAAAAP///v8AAAAAAAAAAAAAAAAAAAAAAAAAAAAAAAACAAAAAAAAAAAAAAAAAAAAAAAAAAAAAAAAAAAAAAAAAAAAAAAAAAAAAAAAAAAAAAAAAAAAAAAAAAAAAAAAAAEAAQAAAAIAAQACAAEAAAAAAAAAAAAAAAAAAAAAAAAAAAAAAAAAAAAAAAAAAAAAAAAAAAAAAAAAAAAAAAAAAAAAAAAAAAAAAAAAAAAAAAAAAAAAAAAAAAAAAP///v8AAAAAAAAAAAAAAAAAAAAAAAAAAAAAAAAAAAAAAAAAAAEA/////wAAAAAAAAAAAgAAAAAAAAAAAAAAAAAAAAAAAAAAAAAAAAAAAAAAAAAAAAAAAAAAAAAAAAAAAAAAAAAAAAAAAAAAAAAAAAAAAAAA///+/wAAAAAAAP////8AAAAAAAABAAAA/f/9//7/AAAAAAAAAAAAAAIAAAAAAAAAAAAAAAAAAAAAAAAAAAAAAAAAAAAAAAAAAAAAAAAAAQABAAAAAAAAAAAAAAAAAAAAAAAAAAAAAAAAAAAAAAAAAAAAAAAAAAAAAAAAAAAAAAAAAAAAAAAAAAAAAAAAAAAAAAAAAAAAAAAAAAAAAAAAAAAAAAAAAAEAAAAAAAAAAAAAAAAAAAAAAAAAAAAAAAAAAAAAAAAAAAAAAAAAAAAAAAAAAAAAAAAAAAAAAAAAAAAAAAAAAAAAAAAAAAAAAAAAAAAAAAAAAAAAAAAAAAAAAAAAAAAAAAAA/f/+/wAAAAAAAAAAAAAAAAAAAAAAAAAAAAAAAAAAAAAAAAAAAAAAAAAAAAAAAAAAAAAAAAAAAAAAAP3//v8AAAAAAAAAAAAAAAAAAAAAAAAAAAAAAAAAAAAAAAAAAAAAAAAAAAAAAAAAAAAAAAAAAAAAAQACAAMAAQAAAAAAAAAAAAAA/f/9//7//P///////v8AAAAAAAABAAIAAgACAAEAAAAAAAAAAAAAAAAA/f/+/wAAAAAAAAAAAAAAAAEAAAAAAAAAAAAAAAAAAAAAAAAAAAAAAAAAAAAAAAAAAAAAAAAAAQABAAAAAAAAAAAAAQAAAAAAAAAAAAAAAAAAAAAAAAAAAAAAAAABAAIAAAAAAAAAAQAAAP3///8AAP3//v8BAAEAAAAAAAAAAAAAAAAAAAAAAAAAAAAAAAAAAAAAAAAAAAAAAAAAAAAAAAAAAAAAAAAA///+/wEA/v/+/wAAAAAAAAAAAAAAAAAAAAABAP///v8AAAAAAAAAAAAAAAAAAAAAAAAAAAAAAAAAAAAAAAAAAAAAAAAAAAAAAAAAAAAAAAACAAEAAAAAAAAAAAAAAAAAAAACAAEAAAAAAAAAAAAAAAAAAAAAAAEAAgABAAAAAAABAP///v8AAAAAAAAAAAAAAAAAAAAAAAD8//7/AAAAAAAAAAAAAAAAAAAAAAAAAQD///7/AAAAAAAAAAAAAAAAAAD///7/AAAAAAAAAAAAAAAAAAAAAAAAAAD////////+/wAAAAAAAAAAAAAAAAAAAAAAAAAAAAAAAAAAAAAAAAAAAAAAAAAAAAAAAAAAAAAAAAAAAAAAAAIAAQAAAAAAAAAAAAAAAAAAAAAAAAAAAAAA///+/wEAAAAAAAAAAAAAAAAAAAACAAEAAAAAAAAAAAAAAAAAAAAAAAAAAAAAAAAAAAABAAIAAAAAAAAAAAACAAAAAAAAAAAAAAAAAAAAAAAAAAAAAAAAAAAAAAAAAAAAAAAAAAAAAAAAAAAAAAAAAAAAAAAAAP3//f/9//3///8AAP3//v/9//3//f/9//7//f/9//3///8AAAAAAAABAP////////3/AAAAAAAAAAABAAEAAAAAAAAAAQACAAEAAQACAAIAAgACAAIAAgACAAIAAgACAAMAAgACAAIAAAAAAAAAAQACAAAAAAAAAAAAAAAAAAAAAAABAAAAAQAAAP3//f/+//3//f/9//3//f/9//3//f/9//3//f/8//7/AAD//wAAAAAAAAAAAAAAAAAAAAAAAP//AAACAAEAAgACAAIAAgABAAAAAwACAAIAAgACAAIAAgACAAIAAgACAAEAAAAAAAAAAAAAAAAAAAAAAAAAAAAAAP///v8AAAAAAAAAAAAA///9//3//f8BAP7//v8AAP//AQD///7/AAD///z//v8AAAAAAAAAAAAAAAAAAAAAAAAAAAAAAAAAAAAAAAAAAAAAAAAAAAAAAAAAAAAAAQACAAAAAAAAAAAAAQAAAAAAAAAAAAAAAAAAAAAAAAAAAAAAAAAAAAAAAAAAAAAAAAAAAAAAAAAAAAAA/f/+/wAAAAAAAAAAAAAAAAAAAAAAAAEAAgAAAAAAAAAAAAAAAQAAAAAAAwABAAEAAgAAAAEAAAAAAAAAAAAAAAAAAAAAAP////8AAPz///////7/AQD/////AAD8/////////wAA/f/+//3//f/9//3//f/9//z//v8AAAAA///+/wAA/v8BAAEAAAADAAEAAQADAAAAAAACAAIAAwADAAIAAwADAAMAAQADAAQAAQACAAMAAgACAAIAAgACAAAAAAAAAAAA///+/wAA/f/9//z//f/9//3//f/9//3//f/8//v//v/9//7//P/8//7/+//+//3//f/9//7/AAAAAAAAAAAAAAAAAgACAAIAAQABAAIAAgABAAMAAQABAAMAAwACAAMABAADAAMAAQAAAAEAAAABAAEAAQACAAAA/v/+//7//v/9//7/AQD/////AAD+/////f/+//3//f/+//7///8AAP7/AAAAAAAAAAAAAAAAAQAAAAAAAAABAAEAAAAAAAAAAQAAAAAAAAAAAAAAAAAAAAAAAAAAAAAAAAAAAAAAAAAAAAAAAAAAAAAAAgAAAAAAAAAAAAAAAAAAAAAAAAAAAAAAAAAAAAAAAAAAAAAAAAAAAAAAAAAAAAEA/////wAAAQABAAAAAQAAAAEAAAAAAAEAAQAAAP3///8AAAAAAAAAAAAAAAAAAAAAAAAAAAAAAAAAAAAAAAAAAAAAAAAAAAAAAAAAAAAAAAABAAIAAAABAAEAAAAAAAAAAAAAAAAAAAABAAAAAAAAAAAAAAAAAAAAAAAAAAAAAAAAAAAAAQAAAAAAAAD///7/AAAAAAAAAAAAAAAAAAAAAAAAAAAAAAAAAAABAAAAAAAAAAAAAAAAAAAAAQAAAAAAAgACAAEAAAACAAAAAAAAAAAAAAAAAAAAAAAAAAAAAAD9/wAAAAAAAP///v8BAP///v8BAAAAAAAAAAAAAAAAAAAAAAD/////AAAAAAAAAAAAAAAAAAAAAP//AAACAAIAAgABAAIAAwABAAAAAAAAAAAAAAAAAAAAAAAAAAAAAAAAAAEAAAD+/wAA/P///wAA/P///////v8AAAAAAAAAAAAAAAAAAAAAAQD///7/AAD//wAAAAAAAAEAAAAAAAAAAQAAAAAAAgABAAAAAAAAAAAAAAAAAAAAAAAAAAEAAAD+/wAAAAAAAAAAAAAAAAAAAAAAAAAAAAAAAAAAAAAAAAAAAAAAAAAAAAAAAAAAAAAAAAAAAQABAAAAAAAAAAAAAAAAAAAAAAAAAAAAAAAAAAAAAAAAAAAAAAAAAAAAAAAAAP///f8AAAAAAAAAAAAAAAAAAAAAAAD///7/AAAAAAAAAQAAAAAAAQAAAAAAAAAAAAAAAAAAAAAAAAAAAAAAAAAAAAAAAAAAAAEAAQAAAAAAAAAAAAAAAAAAAAAAAAAAAAAAAAAAAAAAAAAAAAAAAAAAAAAA//8AAP///v8AAAAAAAAAAAAAAAD9//7//f/+/wEAAAD9//3//v8AAAAAAAAAAAAAAAAAAAAAAAAAAAAAAAAAAAEAAAABAAEAAAABAAAAAAACAAAAAQABAAAAAQAAAAAAAAAAAAAAAQAAAAAAAAABAAEAAAAAAAAAAAAAAAAAAAAAAAAAAAAAAAAAAQAAAAAAAAAAAAAAAAAAAAAAAAAAAAAAAAAAAAAAAAAAAAAAAAAAAAAAAAD9//7//f/+/wAAAAD9//3//v/9//3//f/9//3//f/+//3//f/9//3//v/9//3//f/+//z//v8AAAAA/////wAAAAAAAAEAAAAAAAAAAAAAAAAAAgABAAIAAgACAAIAAgABAAIAAQACAAQAAwAEAAQAAwAEAAMAAwAFAAMABAADAAIAAgACAAIAAQACAAIAAgACAAAAAAD//wAAAQAAAAAAAAAAAAAAAAAAAAAAAAAAAAAAAAAAAAAA/f/9//3//f/9//7//v/9//7//f/9//3/+//8//3//f/9//3//v/9//3//f/9//7//v/+//3//v/+//7//f/9//7//f/+/wEA///8////AAAAAAAAAAAAAAAAAAABAAAAAAABAAEAAgAAAAIAAgAAAAEAAAADAAEAAAAAAAEAAQAAAAEAAAACAAEAAgACAAIAAgACAAIAAgAAAAEAAgABAAAAAQAAAAAAAAAAAAEAAAAAAAAAAAABAAAAAAAAAAAAAAAAAAAAAAABAAAA//8AAAAAAQAAAAAAAAAAAAEAAAAAAAAAAAAAAAAAAAABAP////8AAPz//f/+//3//f/+//3///8AAP7//f///wAA//8AAAAAAQAAAAEAAAABAAIAAAABAAIAAgABAAIAAQAAAAAAAAAAAAAAAAAAAAAAAAAAAAAA/f/+//7//f/+//7//v8AAAAAAQAAAAEAAgACAAIAAwABAAIABQADAAIAAgACAAMAAgAAAAAA///9//7//f/9//3//v/9//3//f/+//3//v8AAAAAAAABAAIAAwACAAMAAgADAAIAAgACAAIAAQAAAAAAAAAAAP///f/+//3//f/8//v//P/9//3//f/9//3//f///wAAAAAAAAEAAgACAAIAAgADAAEAAgACAAIAAgACAAIAAgACAAAAAAAAAAAAAAABAAAAAAAAAAAAAAAAAAAAAAAAAAAAAAAAAAEAAAAAAAAAAAAAAAAAAAAAAAAAAAAAAAEA/////wAA/f/+//3//f/+//7//f/9//3//f/+/wAAAAAAAAAAAAAAAAIAAgACAAMAAwACAAAAAAAAAAAAAAAAAAAAAAAAAAAAAAAAAAAAAAAAAAAAAAAAAAAAAAAAAAAAAAAAAAAAAAAAAAAAAQACAAAAAAAAAAAAAAABAP///v8AAAAAAAAAAAAAAAAAAAAAAAAAAAAAAAAAAAAAAAAAAAAAAAAAAAAAAQABAAAAAwABAAAAAQABAAAAAAAAAAAAAAAAAAAAAAAAAAAAAAAAAAAAAAAAAAAAAAAAAAAAAAAAAAAAAAAAAAAAAAAAAAAAAAAAAAAAAAAAAAAAAAAAAAAAAAAAAAAAAAAAAAAAAAABAAAA/P///wAAAAAAAAAAAAAAAAAAAAAAAAAAAAAAAAAAAAAAAAAAAAAAAAAAAAAAAAAAAAAAAAAAAAAAAAAAAAAAAAAAAAAAAAAAAAAAAAAAAAAAAAAAAAAAAAAAAAAAAAAAAAAAAAAAAAAAAAAAAAAAAAAAAAAAAAAAAAAAAAAAAAAAAAAAAAAAAAAAAAAAAAAAAAAAAAAAAAAAAAAAAAAAAAAAAAAAAAAAAAAAAAAAAAAAAAAAAAAAAAAAAAAAAAAAAAAAAAAAAAAAAAAAAAAAAAAAAAAAAAAAAAAAAAAAAAAAAAAAAAAAAAAAAAAAAAAAAAAAAAAAAAAAAAAAAAAAAAAAAAAAAAAAAAABAAAA/v8BAP///v/9//7/AAAAAAAAAAAAAAAAAAAAAAAAAAAAAAAAAAAAAAAAAAAAAAAAAAAAAAAAAAAAAAAAAAAAAAAAAAAAAAAAAAAAAAEAAQAAAAIAAgABAAEAAQABAAIAAgACAAIAAgABAAIAAQAAAAAAAAAAAAAAAAAAAAAAAAAAAAAAAAAAAAAAAAAAAAAAAAAAAAAAAAD+//7//f/9//3//f/+//3//v/+//7//f/9//3//v/+//7//f///wAA/f/+//3//f/9//3//v8AAAAAAAAAAAAAAAAAAAAAAAAAAAAAAAAAAAAAAAAAAAAAAAAAAAAAAAAAAAAAAAADAAEAAAAAAAAAAQACAAEAAwACAAAAAAAAAAAAAAAAAAAAAAABAAAAAAAAAAAAAAAAAAAAAAAAAAAAAAAAAAAAAAAAAAAAAAAAAAAAAAAAAAAAAAAAAAAAAQAAAAEAAgAAAAAAAAAAAAAAAAAAAAAAAAAAAAAAAQAAAP7//P/+/wAAAAAAAAAAAAAAAAAAAAAAAAAAAAAAAAAAAAAAAP///v8AAAAAAAAAAAAAAAAAAAAAAAD9////AAAAAAAA/f/9//7/AAAAAAAAAAD+//7//f/+/wEA/////////v8CAP///v8AAAAAAAAAAAAAAAAAAAAAAQAAAAAAAAAAAAIAAgADAAEAAAABAAAAAgABAAMAAQAAAAMAAgADAAIAAAAAAAAAAgACAAIAAgACAAIAAQAAAAAAAAAAAAAAAAAAAAAAAQAAAAEAAAD//wEA/////wAA/f/+//3//f/+//7//f/9//3//f/9//3//v8AAAAA/f///wAAAAD/////AAAAAAAAAAACAAEAAgACAAMAAgAAAAAAAAACAAMAAgAAAAAAAAAAAAAAAAABAAAAAAADAAEAAAAAAAAAAgACAAIAAAAAAAEAAAAAAAAAAAAAAAAA///+//3//v8AAAAAAAAAAAAAAAAAAAAAAAABAAEAAAAAAAAAAAAAAAAAAAAAAAMAAQAAAAAA/f///wAAAAAAAAAA///+/wAAAAAAAAAAAAAAAAAAAAAAAAAAAAAAAAAAAAAAAAAAAAAAAAAAAAAAAAAAAAAAAAAAAAAAAAAAAAABAAEAAAAAAAAAAAABAAEAAAAAAAAAAAAAAAAAAAABAAAAAAAAAAAAAAABAAMAAgAAAAAAAAAAAAAAAAAAAAAAAAD///3//v/9//7/AAAAAAAAAQAAAAAAAAAAAAAAAAAAAAAA///+//7//f/+//3//P/+/wAA///9//3//v8AAAIAAQACAAEAAAAAAAAAAAAAAAAAAAAAAAAAAAAAAAAAAAAAAAAAAQABAAAAAAAAAAAAAAAAAAAAAAAAAAAAAAAAAAAAAAAAAAAAAAAAAAAAAAAAAAAAAAAAAAAAAQACAAAAAAAAAAAAAAAAAAAAAAAAAAAAAAAAAAAAAAAAAAAAAAAAAAAAAAAAAAAAAAABAAAAAAAAAAAAAAAAAAAAAAABAAIAAAAAAAAAAAAAAAAAAAAAAAAAAAAAAAAAAAAAAAAAAAAAAAAAAAAAAAAAAAAAAAAAAAAAAAAA/P/+/wAAAAAAAAAAAAAAAAAAAAAAAAAAAAAAAAAAAQAAAP7/AAAAAAAAAAAAAAAAAAAAAAAAAAAAAAAAAAAAAAAAAAAAAAAAAAAAAAEAAgAAAAAAAAAAAAAAAAABAAAAAAAAAAAAAAAAAAAAAAAAAAAAAAAAAAAAAAAAAAAAAAAAAAAAAAAAAAAAAAAAAAAAAAAAAAAAAAAAAAAAAAAAAAAAAAD///7/AAAAAAAAAAABAAEAAAAAAAAAAAAAAAAAAAAAAAAAAAAAAAAAAAAAAAAAAAAAAAAAAAAAAAAAAAD9//7//f/9//3//v/8///////9/wAAAAAAAAAAAAACAAIAAgACAAIAAAAAAAAAAAAAAAAAAAAAAAAAAQABAAAAAAABAAIAAAAAAAAAAQD///7//f///wAA/f/+//3//v/9//7/AAAAAAAAAAAAAAAAAAABAAIAAAABAAEAAAAAAAEAAgAAAAAAAAABAAIAAAAAAAAAAAAAAAAAAAAAAAAAAAAAAAAAAAAAAAAAAAAAAAAAAAAAAAAAAAAAAAEA///+/wAAAAD///7/AAAAAAEA///+/wAAAAAAAAAAAAAAAAAAAAAAAAAAAAAAAAAAAAAAAAAAAAAAAAAAAAAAAAAAAAAAAAAAAAAAAAAAAAAAAAAAAAAAAAAAAAAAAAAAAAAAAAAAAAAAAAAAAAAAAAAAAAAAAAAAAAAAAAAAAAAAAAAAAAAAAAAAAAAAAAAAAAAAAAAAAAAAAAAAAAAAAAAAAAAAAAAAAAAAAAAAAAAAAAAAAAAAAAAAAAAAAAAAAAAAAAAAAAAAAAAAAAAAAAAAAAAAAAAAAAAAAAAAAAAAAAAAAAAAAAAAAAAAAAAAAAAAAAAAAAAAAAAAAAAAAAAAAAAAAAAAAAAAAAAAAAAAAAAAAAAAAAAAAAD///7/AAAAAAAAAAAAAAAAAAAAAAAAAAAAAAAAAAAAAAAAAAAAAAAAAAAAAAAAAAAAAAAAAAAAAAAAAAAAAAAAAAAAAAAAAAAAAAAAAAAAAAAAAAAAAAAAAAAAAAAAAAAAAAAAAAAAAAAAAAAAAAAAAAAAAAAAAAAAAAAAAAAAAAAAAAAAAAAAAAAAAAAAAAAAAAAAAAAAAAAAAAAAAAAAAAAAAAAAAAAAAAAAAAAAAAAAAAAAAAAAAAAAAAAAAAAAAPz///////7/AAAAAAAAAAAAAAAAAAAAAAAAAAAAAAAAAAAAAAAAAAAAAAAAAAAAAAAAAAAAAAAAAAAAAAAAAAAAAAAAAAAAAAAAAQACAAAAAAAAAAAAAAAAAAAAAAAAAAAAAAAAAAAAAAAAAAAAAAAAAAAAAAAAAAAAAAAAAAAAAAAAAAAAAAAAAAAAAAD///3//f/+/wAAAAAAAAAAAAAAAAAA///+/wAAAAABAAEAAQACAAAAAAAAAAAAAAAAAAAAAAAAAAAAAAAAAAAAAAAAAAAAAAAAAAEAAAABAP///v8AAAAAAAACAAIAAAABAAAA/f///wAAAAAAAAAAAAAAAAAAAAAAAAAAAAAAAAAAAAABAAAA/v/9//7/AAAAAAAAAAAAAAAAAAAAAAAAAAAAAAAAAAAAAAEAAAAAAAAAAAAAAAAAAAAAAAAAAAAAAAAAAAAAAAAAAAAAAAAAAAAAAAAAAAAAAAAAAAAAAAAAAAAAAAAAAAAAAAAAAAAAAAAAAAAAAAAAAAAAAAAAAAAAAAAAAAAAAAAAAAAAAAAAAAAAAAAAAAAAAAAAAAAAAAAAAAAAAAAA/f///wAAAAAAAAAAAAAAAAAAAAAAAAAAAAAAAAAAAAAAAAAAAAAAAAAAAAAAAAAAAAAAAAAAAAAAAAAAAAAAAAAAAAAAAAAAAAAAAAAAAAAAAAAAAAAAAAAAAAAAAAAAAAAAAAAAAAAAAAAAAAABAAAA/v8AAAAAAAAAAAAAAAAAAAAAAAAAAAAAAAAAAAAAAAAAAAAAAAAAAAAAAAAAAAAAAAAAAAAAAAAAAAAAAAAAAAAAAAAAAAAAAAAAAAAAAAAAAAAAAAAAAAAAAAAAAAAAAAAAAAEA///+/wAAAAAAAAAAAAAAAAAAAAAAAAAAAAACAAIAAQAAAAAAAAAAAAAAAAAAAAAAAAAAAAAAAAABAAAA/f/9//7/AAAAAAAAAAAAAP///v8AAP///v8AAAAAAAAAAAAAAAAAAAAAAAAAAAAAAAAAAAAAAAAAAAAAAAAAAAIAAQAAAAEAAAAAAAAAAAAAAAIAAgACAAAAAAABAAAAAAAAAAAAAgABAAAAAAAAAAAAAAAAAAAAAAAAAAAA/f/+/wAAAAAAAAAAAAD///z//v8AAAAAAAABAAIAAgACAAIAAAAAAAAAAAAAAAAAAQABAAAAAAAAAAEA/v/+/wAAAAAAAAAAAAAAAAAAAAAAAAAAAAABAP///v8AAAAAAAAAAAAAAAAAAAAA/f/9//3//P/9/wAAAAAAAAAAAAAAAAAAAAAAAAAAAAAAAAEAAAAAAAAAAAAAAAAAAAACAAAAAAADAAEAAwABAAAAAQACAAMAAwABAAAAAAAAAAAAAAAAAAAAAAAAAAAAAAAAAAAAAAAAAAAAAAAAAAEA///+/wEAAAABAP////8AAAAAAQAAAAAAAAAAAAAAAAAAAAAAAAD/////AAAAAAAA/f/+//z//v8AAAAAAAAAAAAAAAD+//7/AAAAAAAAAAABAP///v8AAAAAAAAAAAEAAAAAAAAAAAAAAAAAAAAAAAAAAQABAAAAAAAAAAAAAAAAAAEAAgACAAIAAgABAAIAAgACAAEAAgACAAIAAwABAAAAAgAAAAAAAgACAAEAAAADAAIAAAABAAIAAAAAAAAAAAAAAAAA///+/wAAAAAAAAAAAAAAAAAAAAAAAP7//v///wAA///9////AQD///7//v/9//7//f/+//7//v/9//3//v/+//7//f/9//7//f/9//7//v/+//7//f/9//7//f/+/wAAAAABAAAAAAAAAAAAAAAAAAAAAAAAAAAAAAAAAAAAAAACAAEAAgACAAIAAgACAAIAAgACAAEAAgACAAIAAgADAAIAAQACAAIAAwACAAEAAgACAAIAAgACAAIAAgABAAEAAwABAAAAAgADAAIAAAABAAAAAAAAAAAAAAAAAAAAAAABAAAA//8AAAAAAQD/////AAD9//7//f/+//7//f/9//7/AQD///3//v/+//3//f/9//3//f/9/////P/7//7//v/+//z//f/+//3//v/9//7//v/9//3//f///wAA/P///wAAAAAAAAAAAAAAAAAAAAAAAAEAAAACAAEAAgACAAEAAgACAAIAAgACAAIAAgACAAIAAgABAAEAAQABAAIAAQACAAIAAgABAAIAAQAAAAEAAgACAAEAAAAAAAAAAAAAAAAAAAAAAAAAAAAAAAAAAAAAAAAAAAAAAAAAAAAAAPz///8AAP3//v/9//3//f/+//7//f/9//7//f/9//3//v/9//3//v/9//7//v/9//7//P/+/wAAAAAAAAAAAAAAAAAAAAAAAAAAAAAAAAEAAgAAAAAAAAACAAIAAwACAAAAAQACAAAAAAAAAAAAAAABAAMAAgACAAIAAgACAAMAAgADAAEAAAACAAIAAgABAAAAAQADAAEAAAAAAAAAAAAAAAAAAAABAAAA/v8BAP7///8AAAAA///+/wEA/////wEAAAAAAAAAAAAAAP7/AAAAAAEAAAD9//7//v/9//3//f/9//3//v/9//3//v/9//3//f/9//3//v/+//3//f/+//3//f/9//7/AAAAAAAAAAAAAAAAAAAAAAAAAAAAAAAAAAAAAAAAAAABAAIAAgACAAIAAgACAAEAAgACAAEAAgACAAIAAgACAAIAAgACAAIAAgACAAEAAgACAAIAAgACAAIAAgACAAIAAgACAAAAAgACAAAAAAAAAAAAAAAAAAAAAAAAAAAAAQAAAP7/AQAAAP7//v/9////AAD9//7//f/9//7//v/9//7//v/9//7//v/+//7//f/9//7//f/9//z///8AAP3//v/+//z///////7/AAAAAAAAAAD9////AAAAAAAAAAAAAAAAAQABAAAAAgACAAIAAgABAAAAAgACAAIAAgACAAMAAQACAAIAAgACAAIAAgACAAIAAAABAAIAAAAAAAEAAAAAAAAAAAAAAAAAAAAAAAAAAAAAAAAAAAAAAAAAAAAAAAAAAAAAAAAAAAAAAAAAAAAAAAAAAAAAAAAAAAD9//7/AAAAAAAAAAAAAAAAAAAAAAAAAAAAAAEAAAD+/wAAAAAAAAAAAAAAAAAAAAAAAAAAAAAAAAAAAAAAAAAAAAAAAAAAAAAAAAAAAAAAAAAAAAAAAAAAAAAAAAAAAAAAAAAAAAAAAAAAAAAAAAAAAAAAAAAAAAAAAAAAAAAAAAAAAAAAAAAAAAAAAAAAAAAAAAAAAAAAAAAAAAAAAAAAAAAAAAAAAAAAAAAAAAAAAAAAAAAAAAAAAAAAAAAAAAAAAAAAAAAAAAAAAAAAAAAAAAAAAAAAAAAAAAAAAAAAAAAAAAAAAAAAAAAAAAAAAAAAAAAAAAAAAAAAAAAAAAAAAAAAAAAAAAAAAAAAAAAAAAAAAAAAAP7//v/8//7/AAAAAAAAAAAAAAAAAAAAAAAAAAAAAAAAAAAAAAAAAAAAAAEAAQAAAAAAAAAAAAAAAAACAAEAAAAAAAAAAAAAAAMAAQAAAAAAAAAAAAAAAAAAAAAAAAAAAAAAAAAAAAAAAAAAAAAAAAAAAAAAAAAAAAAAAAAAAAAAAAAAAAAAAAAAAAAAAAAAAAEAAgABAAEAAgAAAAAAAAAAAAAAAAAAAAAAAAAAAAAAAAAAAAAAAAAAAAAAAAABAP////8AAP3//v/9////AAAAAAAAAAAAAAAAAAAAAAAAAAAAAAAAAAAAAAAAAAAAAAAAAAAAAAAAAAAAAAAAAAAAAAAAAAAAAAAAAAAAAAAAAAAAAAAA/P///wAAAAAAAAAAAAAAAAAAAAAAAAAAAAAAAAAAAAAAAAAAAAAAAAAAAAAAAAAAAAAAAAAAAAAAAAAAAAAAAAAAAQAAAAAAAAAAAAAAAAAAAAAAAAAAAAAAAAAAAAAAAAAAAAAAAAAAAAAAAAAAAAAAAAAAAAAAAAAAAAAAAAAAAAAAAAAAAAAAAAAAAAAAAAAAAAAAAQD///7/AAAAAAAAAAAAAAAAAAAAAAAAAAAAAAAAAAABAP///v8AAAAAAAAAAAAAAAAAAAAAAAAAAAAAAAAAAAAA//8AAAIAAQACAAIAAAAAAAAAAAABAAEAAAAAAAAAAAAAAAAAAAAAAAAAAAAAAAAAAAAAAAAAAAD8///////+/wAAAAAAAPz///////7/AAAAAAAAAAAAAAAAAAAAAAAAAAD///7/AAAAAAAAAAAAAAAAAAAAAP///v8AAAAAAAAAAAAAAAAAAAEAAQAAAAAAAAAAAAAAAAAAAAAAAAAAAAAAAAAAAAAAAAAAAAAAAAAAAAAAAAAAAAAAAAAAAAAAAAAAAAAAAAAAAAAAAAAAAAAAAAAAAAAAAAAAAAAAAAAAAAAAAAAAAAAAAAAAAAAAAAAAAAAAAAAAAAAAAAAAAAAAAAAAAAAAAAAAAAAAAAAAAAAAAAAAAAAAAAAAAAEA/////////v8AAAAAAAAAAAAAAAAAAAAAAAAAAAAAAAAAAAAAAAAAAAAAAAABAAAAAAAAAAAAAAAAAAAAAAABAAAA/f/9//7/AAAAAAAAAAAAAAAAAAAAAAAAAAAAAAAAAAAAAAAAAAAAAAAAAAAAAAAAAAAAAAAAAAAAAAAAAAAAAAAAAAAAAAEAAQAAAAAAAAAAAAAAAgABAAAAAAAAAAAAAAAAAAAAAAAAAAAAAAAAAAAAAAAAAAAAAAD///7/AAAAAAAAAAAAAAAAAAAAAAAAAAAAAAAAAAAAAAAAAAAAAAAAAAAAAAAAAAAAAAAAAAAAAAAAAAAAAAAAAAAAAAAA///+/wAAAAAAAAAAAAAAAAAAAAAAAAAAAAAAAP///v8AAAAAAAAAAAAAAAAAAAAA/P///wAAAAAAAAAAAAAAAAAAAAAAAAAAAAAAAAAAAAAAAAAAAAAAAAAAAAAAAAAAAAAAAAAAAAABAAEAAQACAAAAAAAAAAAAAAAAAAAAAAAAAAAAAAAAAAAAAAAAAAAAAAABAP///v8AAAAAAAD///7//v/+//z///////3/AAAAAAAAAAAAAAAAAAAAAAAAAAAAAAAAAAABAAAAAAAAAAAAAAAAAAAA/v8AAAAAAQAAAAAAAAAAAAAAAAABAAAAAAAAAAAAAAAAAAAAAAD//wAAAQAAAAAAAAAAAAAAAAAAAAAAAAAAAAAAAAAAAAAAAAABAAAAAAAAAAAAAwABAAAAAAAAAAAAAQADAAEAAAAAAAAAAAAAAAAAAAAAAAAAAAABAAIAAAAAAAAAAAAAAAAAAAAAAAAAAQAAAP//AAAAAAAAAAABAP///v8AAAAAAAABAAAA/f///wAAAQAAAP7//f///wAAAAAAAAAA//8AAAAAAAD9//3///8AAAAAAAAAAAAAAAAAAAAA///8//7/AAAAAAAAAAD///3/AAAAAAAAAAAAAAAAAAAAAAAAAAAAAP7/AAAAAAAAAAABAAAAAAAAAAAAAQAAAAAAAAADAAEAAAAAAAAAAAAAAAIAAQACAAIAAwACAAIAAQABAAMAAQACAAIAAAAAAAEAAgAAAAAAAAAAAAMAAgADAAIAAAAAAAEAAAAAAAEAAAAAAAAAAAAAAAAA/f///////f/+//z//f/9//7/AAD8//7//P/+/wAA/P/+//7//f/9//z//f/+//3//v8AAAAAAAAAAAAA/f///wAAAAAAAP3//v/9//7//f///wAAAAABAAAAAAAAAAAAAAAAAAAAAQABAAAAAgACAAMAAQAAAAEAAwADAAIAAAAAAAAAAQACAAAAAAAAAAAAAQACAAAAAAAAAAAAAQABAAAAAQABAAMAAgAAAAEAAgACAAMAAgAAAAAAAAABAAEAAAAAAP3///8AAP///v/9//7//f/+/wAAAAAAAAEA/////wAAAAAAAAAAAAAAAAAAAQABAAAAAAAAAAAAAAAAAAAAAAAAAAAAAAAAAAAAAAAAAAAAAAD9////AAAAAAAA///8//7/AAAAAAAAAAAAAAAAAQAAAAAAAAAAAAAAAAAAAAAAAAAAAAAAAAAAAAAAAAAAAAAAAAAAAAAAAAAAAAEAAAAAAAAAAAAAAAAAAAAAAAAAAAADAAEAAAABAAAAAAABAAAAAQAAAAAAAAAAAAAAAgACAAAAAAAAAAAAAAAAAAAAAAAAAAAAAAAAAAAAAAAAAAAAAAAAAAAAAAABAAEAAAAAAAAAAAAAAAAAAAAAAAAAAAAAAAAAAAAAAAAAAAABAAAA/v8BAP///f/+//7/AAD+//7/AAAAAAAAAAAAAAAAAAAAAAAAAAAAAAAAAAAAAAAAAAABAAAAAQACAAAAAAAAAAAAAAAAAAEAAAAAAAAAAAABAAAAAAAAAAAAAAAAAAAAAAAAAAAAAAAAAAAAAAAAAAAAAAAAAAAAAAACAAEAAAAAAAAAAAABAP///v8AAAAAAAAAAAEAAAAAAAAAAAAAAAAAAAACAAAAAAACAAEAAAAAAAAAAAAAAAAAAAABAP///v8AAAAAAAAAAAAA/f/+//7//P///wAAAAAAAAAAAAAAAAAAAAAAAAAAAAABAAAAAAABAAAAAAAAAAAAAAAAAAAAAAAAAAAAAAAAAAAAAAAAAAAAAAAAAAAAAAAAAAAAAAAAAAAAAAAAAAAAAQACAAAAAAAAAAAAAAAAAAAAAAAAAAAAAAD///7/AAAAAAAAAAAAAAAAAAABAAEAAQAAAAAAAQACAAAAAgACAAAAAAAAAAAAAgABAAAAAAABAAAAAAAAAAAAAAAAAAAAAAABAP////8AAP3//v/+//3///8AAP3///8AAP///f/+//z///8AAP3//v/9//7//v/9//7//v/9//3//f/9//7//f/+/wAAAAAAAAAAAAAAAAAAAAAAAAAAAAABAAIAAgABAAIAAgACAAIAAQAAAAEAAQACAAUAAwACAAIAAgACAAIAAgABAAIAAQAAAAAAAAABAAEA//8BAAEA//8BAAEAAAABAAAAAAD9////AAD+/wAA///+/wAAAAD9//7//f///wAA/f/+//3//P/+/wAAAAAAAAAAAAAAAAEAAAD8////AAAAAAAAAAAAAAAAAAAAAAAAAAAAAAAAAAAAAAAAAQD///7/AAAAAAAAAAAAAAAAAAAAAAAAAAAAAAAAAAAAAAAAAAD9////AAAAAAAAAAAAAAEAAQAAAAAAAAAAAAAAAAAAAAAAAAAAAAAAAAAAAP//AQACAAAAAAAAAAAAAAAAAAAAAAAAAAEAAgAAAAIAAQAAAAAAAAAAAAAAAAAAAAAAAAAAAAAAAAAAAAAAAAAAAAAAAAAAAAAAAAAAAAAAAAAAAAEAAAD8//7/AAAAAAAAAAAAAAAAAAAAAAAAAQAAAPz///8AAAAAAAAAAAAAAAAAAAAAAAABAP///f8AAAAAAAAAAAAAAQABAAAAAAAAAAAAAAAAAAAAAAAAAAAAAAABAAEAAQABAAAAAAAAAP///v8AAAAAAAAAAAIAAAAAAAAAAAAAAAAAAAAAAAAAAAAAAAAAAAABAAAAAAAAAAAAAAAAAAAAAAAAAAAAAAAAAAAAAAABAP///f/9//7/AAAAAAAAAAAAAAAAAAAAAAAAAAAAAAAAAAAAAAAAAAAAAAAAAAAAAAAAAAAAAP3//P/+/wAAAAAAAAAAAAAAAAAAAAAAAP///v8AAAAAAAAAAAAAAAAAAAAAAAAAAAAAAAAAAAAAAAAAAAAAAAABAAEAAAAAAAAAAAAAAAAAAAABAAIAAAAAAAAAAAAAAAAAAAAAAAAAAAAAAAAAAAAAAAAAAAAAAAAAAAAAAAAAAAAAAAAAAAAAAAAAAAAAAAAAAAAAAAAAAAAAAAAAAAAAAAAAAAAAAAAAAAAAAAAAAAAAAAAAAAAAAAAAAAAAAAAAAAAAAAAAAAAAAAAAAAAAAAAAAAAAAAAAAAAAAAAAAAAAAAAAAAAAAAAAAAAAAAAAAAAAAAAAAAAAAAEAAQAAAAAAAAAAAAAAAAAAAAAAAAAAAAAAAAAAAAAAAAAAAAAAAAAAAAAAAAAAAAAAAAAAAAAAAAAAAAAAAAAAAAAAAAAAAAAAAAAAAAAAAAAAAAAAAAD///7/AAAAAAAAAAAAAAAAAAAAAAAAAQD///7/AAAAAAAAAAAAAAAAAAAAAAAAAAAAAAAAAAAAAAAAAAAAAAAAAAAAAAAAAAAAAP///v8AAAAAAAAAAAAAAAAAAAAAAAAAAAAAAAAAAAAAAAAAAAAAAAAAAAAAAQABAAAAAAAAAAAAAAAAAAAAAAAAAAAAAAAAAAAAAAAAAAAAAAAAAAAAAAAAAAAAAAAAAAAAAAAAAAAAAAAAAAAAAAAAAAAAAAAAAAAAAAAAAAAAAAAAAAAAAAAAAAAAAAACAAAAAAAAAAAAAAAAAAAAAAABAAAA//8AAAAAAAAAAAAAAAAAAAAAAAAAAAAAAAAAAAAAAAAAAP///v8AAAAAAAAAAAAAAAAAAAAAAAAAAAAAAAAAAAAAAAAAAAAAAAAAAAAAAAAAAAAAAAAAAAAAAAAAAAAAAAAAAAAAAAAAAAAAAAAAAAAAAAAAAAAAAAAAAAAAAAAAAAAAAAAAAAAAAAAAAAAAAAABAAIAAgACAAIAAAAAAAAAAAAAAAAAAAAAAAEAAQAAAAAAAAAAAAAA///+/wAAAAACAAIAAgACAAAAAQAAAP3//v/8//7/AAAAAAAAAAAAAAEA///9//7//P/+/wAAAAAAAAAAAAAAAAAAAAD9//7//P/+/wAAAAACAAEAAwABAAEAAAD9//z//v8AAAAAAgACAAUAAQABAP///f/8//7/AAAAAAAAAgABAAIAAQABAAAA/f/9//7/AAD//wEAAgACAAIAAQAAAP3//v/9//3//v8AAAAAAAAAAAEAAAD9//7//f/9//z//v8AAAAAAAAAAAAAAAAAAAAA/v/9//3/AAAAAAIAAgABAAAAAAAAAAAAAAAAAAAAAAACAAIAAQAAAAMAAQAAAAAAAAAAAAAAAAABAAIAAAAAAAAAAAAAAAAAAAAAAAAAAAAAAAEA///+/wAAAAAAAAAAAQAAAAAAAAAAAAAAAAD+//7//v/8//3/AAAAAAAAAAAAAAAAAAAAAAAAAAAAAAAAAAAAAAAAAAAAAAAAAAABAAMAAQAAAAAAAAAAAAEAAgAAAAIAAQACAAEAAAAAAAAAAgADAAEAAgABAAAAAAAAAAAAAAAAAAAAAAAAAAAAAAAAAAAAAAAAAP///v/+//3//v8AAAAA/f/+//7//f/9//3//P/+/wAAAAAAAAAAAAAAAAAA/f/+//3//f/+/wAAAAAAAAAAAAAAAAAAAQABAAAAAAABAAEAAgADAAEAAAAAAAAAAAAAAAAAAgABAAEAAAADAAIAAAAAAAAAAAD9//3///8AAAAAAAAAAAEA///+/wAAAAAAAAAAAAAAAAAAAAAAAAAAAAAAAAAA/P/+/wAAAAAAAAAAAAAAAAAAAAAAAAAAAAAAAAAAAAAAAAAAAAAAAAAAAAAAAAAAAAAAAAAAAAAAAAAAAAAAAAAAAAAAAAAAAAAAAAAAAAAAAAAAAAAAAAAAAAAAAAAAAAAAAAEAAAD9//7/AQD/////AAAAAAAAAAAAAAMAAQAAAAAAAAAAAAAAAAABAAEAAAAAAAAAAAAAAAAAAAAAAAAAAAAAAAAAAAAAAAAAAAAAAAAAAAAAAAAAAAD///7/AAAAAAAAAAD///7/AQD///7/AAAAAAAAAAAAAAAAAAAAAAAAAAAAAAAAAAAAAAAAAAABAAAAAAAAAAAAAAAAAAAAAQABAAAAAAAAAAAAAAAAAAAAAAAAAAAAAAAAAAAAAAAAAAAAAAAAAAAAAAAAAAEAAQAAAAAAAAAAAAAAAAAAAAAAAAAAAAAAAAAAAAAAAAAAAAAAAAAAAAAAAAAAAAAAAAAAAAAAAAAAAP///f/+//z//v8AAAAAAAAAAAAAAAAAAAAAAAAAAAAAAAAAAAAAAAAAAAAAAAAAAAAAAAAAAAMAAQAAAAAAAAAAAAAAAAACAAAAAAAAAAAAAAAAAAAAAAAAAAAAAAAAAAAAAAAAAAAAAAACAAEAAAABAAAAAAAAAAAAAAAAAAAAAAAAAAAAAAAAAAAAAAAAAAAAAAABAAAA/P///wAAAAABAAAAAQD///7/AAAAAAAAAAAAAAAAAAAAAAEA///+/wAAAAAAAAAAAAAAAAAAAAAAAAAAAAAAAAAAAAAAAAAAAAAAAAAAAAAAAAAA/P/+/wAAAAABAAEAAAAAAAAAAAAAAAAAAAAAAAAAAAAAAAAA///+/wAAAAAAAAAAAAAAAAAAAAAAAAAAAAAAAAAAAQD//wAAAgACAAIAAAAAAAAAAAAAAAAAAAAAAAAAAAAAAAAAAAAAAAAAAAAAAAAAAAAAAAAAAAAAAAAAAAD///7//f/+/wAA///9//7//f/+//3//f/9//7/AAAAAAAA///+/wAAAAABAP///v8AAAAAAAD+//7/AAAAAAAAAAAAAAAAAAAAAAAAAAAAAAAAAAAAAAAAAQABAAAAAAAAAAAAAAAAAAAAAAAAAAAAAAAAAAAAAAAAAAAAAAAAAAAAAAAAAAAAAAAAAAAAAAAAAAAAAAAAAAAAAAAAAAAAAAAAAAAAAAAAAAAAAAAAAAEAAQAAAAIAAgABAAAAAwABAAAAAAAAAAAAAAAAAAAAAAAAAAAAAAAAAP///f///wAAAAAAAAAAAAAAAAAAAAAAAAEAAAD+/wAAAAABAP7///8AAP7/AAAAAAAAAAAAAAAAAAAAAAAAAAAAAAAAAAAAAAAAAAAAAAAAAAAAAAAAAAAAAAAAAAAAAP3//v8AAAAAAAAAAAAAAAAAAAAAAAAAAAAAAAAAAAAAAAAAAAAAAAAAAAAAAQAAAAAAAAAAAAIAAgABAAAAAAABAAAAAwABAAAAAAAAAAAAAAAAAAAAAAAAAAAAAAAAAAAAAAAAAP7/AAAAAAAAAAAAAAAAAAAAAAAAAAAAAAAAAQD/////AAD+/wAAAAAAAAAAAAAAAAAAAAAAAAAAAAAAAAAAAAAAAAAAAAAAAAAAAAAAAAAAAAAAAAAAAQD/////AQD+////AAAAAAAAAAAAAAAAAAAAAAMAAAAAAAAAAQACAAAAAAABAAAAAAAAAAAAAAAAAAAAAAAAAAAAAAAAAAAAAAAAAAAAAAAAAAAAAAD+/wEA///+/wAAAAAAAAAAAAAAAAAAAAAAAAAAAAAAAAAAAAAAAAAAAAAAAAAAAAAAAAAAAAAAAAAAAAAAAAAAAAAAAAAAAAAAAAAAAAAAAAAAAAAAAAAAAAAAAAIAAAAAAAAAAAAAAAAAAAAAAAAAAAAAAAAAAAAAAAAAAAAAAAAAAAAAAAAAAAAAAAAAAAAAAAAAAAAAAAAAAAAAAAAAAAAAAAAAAAABAP///v8CAP///v8AAAAAAAAAAAAAAgACAAAAAAAAAAAAAAAAAAAAAAAAAAEAAQAAAAEAAAAAAAEAAAAAAAAAAAAAAAAAAAAAAAAAAAAAAAAAAAAAAAAAAAAAAAAAAAAAAAAAAQD//////////wAA/P/+/wAAAAAAAAAAAAAAAAAAAAD///7/AAAAAAAAAAAAAAAAAAABAAEAAAAAAAAAAAAAAAAAAAD/////AAAAAAAAAAAAAAAAAAAAAAAAAAAAAAAAAAAAAAAAAAAAAAAAAAAAAAAAAAABAAEAAAAAAAAAAAAAAAAAAAAAAAIAAQAAAAAAAAAAAAAAAAAAAAAAAAAAAAAAAAAAAAAAAAAAAAAAAAAAAAAAAAAAAAAAAAAAAPz//v8AAAAAAAAAAP///v8AAAAAAAAAAAAAAAD///7/AAAAAAAAAAAAAAAAAAAAAAAAAAAAAAAAAAAAAAAAAAAAAAAAAAAAAAAAAAAAAAAAAAAAAAAAAAAAAAAAAAAAAAAAAAAAAAAAAAAAAAAAAAAAAAAAAAAAAAAAAAAAAAAAAQABAAAAAAAAAAAAAAAAAAAAAAAAAAAAAAAAAAAAAAAAAAAAAAAAAAAAAAAAAAAAAAAAAAAAAAAAAAAAAAAAAAAAAAAAAAAAAAAAAAAAAAAAAAAAAAAAAAEAAgABAAIAAQAAAAEAAQAAAAAAAAAAAAAAAAAAAAAAAAAAAAAAAAAAAAEA///+/wAA/v8AAAAAAAAAAAAAAAAAAAAAAAAAAAAAAAAAAAAAAAAAAAAAAAAAAAAAAAAAAAEAAAAAAAAAAAAAAAAAAAAAAAAAAAAAAAAAAAAAAAAAAAAAAAAAAAAAAAAAAAAAAAAAAAAAAAAAAAAAAAAAAAAAAAAAAAAAAAAAAAAAAAAAAAAAAAAAAAAAAAAAAAAAAAAAAAAAAAAAAAAAAAAAAAAAAAAAAAAAAAAAAAAAAAAAAAAAAAAAAAAAAAAAAAAAAAAAAAAAAAAAAAAAAAAA///+/wAAAAAAAAAAAAAAAAAAAAABAP///v8AAAAAAAAAAAAAAAABAAEAAAAAAAAAAAAAAAAAAAAAAAEA///+/wAAAAAAAAAAAAAAAAAAAAAAAAIAAQAAAAAAAAAAAAAAAAAAAAAAAAAAAAAAAAAAAAAAAAAAAAAAAAAAAAAAAAD9////AAAAAP///v8AAAAAAAAAAAIAAAAAAAAAAAAAAAAAAAABAP///f8AAAAAAAAAAAAAAAAAAAAAAAAAAAAAAAAAAAAAAAAAAAEA/v/+/wAA/f/9//3/AAAAAAAAAAAAAAAAAAAAAAAAAAAAAAAAAAAAAP3//f/+//3//v8AAAAAAAD+//7//f/+/wAAAAAAAAAAAAAAAAEAAAAAAAAAAAAAAAAAAAAAAAAAAgAAAP//AAACAAIAAgACAAIAAQABAAIAAgAAAAAAAgACAAIAAgABAAAAAAAAAAAAAQABAAAAAAAAAAAAAAABAP///f8AAAAAAAAAAAAAAAAAAAAAAAABAAAA/f/+//z//f/9//7/AAAAAPz//v8AAAAAAAAAAAAAAAAAAAAAAAADAAIAAAAAAAEAAAAAAAAAAAABAAIAAgABAAAAAAAAAAAAAQACAAAAAAAAAAAAAAD/////AAAAAAAA/v/9///////+/wAAAAAAAAAAAQD///7////8//7/AAD///7/AQAAAP3//P/9//3///8AAAAAAQAAAAAAAAAAAAAAAAAAAAEAAAACAAIAAQABAAAAAAAAAAAAAwABAAAAAAAAAAAAAAAAAAAAAAAAAAAAAAAAAAAAAAAAAAEAAAAAAAAAAAAAAAAA/P/+/wAAAAAAAAAAAAAAAAAAAAD//wAAAAAAAAAAAAAAAAEA/v///////v8AAP//AAAAAAAAAAAAAAAAAQAAAAAAAAAAAAAAAAAAAAAAAAAAAAIAAQAAAAAAAAAAAAAAAAAAAAAAAgABAAAAAAAAAAAAAAAAAAAAAAAAAAAAAAAAAAAAAAAAAAAAAAAAAAAAAAAAAAAAAAAAAAAAAAAAAAAAAAAAAAAAAAAAAAAAAAAAAAAAAAAAAAAAAAAAAAAAAAAAAAAAAQD///7/AAAAAAAA///+/wAAAAAAAAAAAAAAAAAAAAAAAAAAAAAAAAAAAAAAAAAAAAAAAAAAAAAAAAAAAAAAAAAAAgABAAAAAAAAAAAAAAAAAAAAAAAAAAAAAAAAAAAAAAAAAAAAAAAAAAAAAAAAAAAAAAAAAAAAAAAAAAAAAAAAAAAAAAAAAAAAAAAAAAAAAQABAAAAAAAAAAAAAAAAAAAAAAAAAAAAAAAAAAAAAAAAAAAAAgABAAAAAAAAAAAAAAAAAP///v8AAAAAAAAAAAAAAAAAAAAAAAAAAAAAAAABAP////8AAP3//v/8//7/AAAAAAAAAAAAAAAAAQADAAEAAAAAAAAAAAAAAAAAAAAAAAAAAAAAAAAAAAAAAAAAAAAAAAIAAQAAAAAAAAAAAAAA///9/wAAAAAAAAAAAQD///3//f///wAA///+/wAAAAAAAAAAAAAAAPz//v8AAAAAAAAAAAAAAAAAAAAAAAAAAAAAAAAAAAEAAgAAAAAAAAAAAAAAAAAAAAAAAAAAAAAAAgABAAAAAAAAAAAAAAAAAAAAAAAAAAAAAAAAAAAAAAAAAAAAAAAAAAAAAAD8//7/AAAAAAAA/P/+/wAAAAAAAAAAAAAAAAAAAAAAAAAAAAAAAAAAAAAAAAAAAAAAAAAAAAAAAAEAAgACAAIAAgAAAAAAAAAAAAAAAAAAAAAAAAAAAAAAAAAAAAAAAAAAAAAAAAAAAAAAAAAAAAAAAAAAAAAAAAAAAAAAAAAAAAAAAAAAAAAAAAAAAAAAAAAAAAAAAAAAAAAAAAAAAAAAAAAAAAAAAAAAAAAAAAAAAAAAAAAAAAAAAAAAAAAAAAAAAAAAAAAAAAAA///+/wAAAAAAAAAAAAAAAAAAAAAAAAAAAAAAAAAAAAAAAAAAAAAAAAAAAAAAAAAAAAAAAAAAAAAAAAAAAAAAAAAAAAAAAAAAAAAAAAAAAAAAAAAAAAAAAAAAAAAAAAAAAAAAAAAAAAAAAAAAAAAAAAAAAAAAAAAAAAAAAAAAAAAAAAAAAAAAAAAAAAAAAAAAAAAAAAAAAAAAAAAAAAAAAAAA///+/wAAAAAAAAAAAAAAAAAAAAAAAAAA///+/wAAAAAAAAAAAAAAAAAAAAAAAAAAAAAAAAAAAAAAAAAAAAAAAAAAAAAAAAAAAAAAAAAAAAAAAAAAAAAAAAAAAAAAAAAAAAAAAAAAAAAAAAAAAAAAAAAAAAAAAAAAAAAAAAAAAAAAAAAAAAAAAAAAAAAAAAAAAQACAAIAAQABAAEAAAAAAAAAAAAAAAAAAAAAAAAAAAABAP///v8AAAAAAAAAAAAAAAAAAAAAAAAAAP//AQABAAAAAAAAAAAAAAAAAAAAAAAAAAAAAAAAAAAAAAAAAAAAAQD///7/AAAAAAAA/P/+/wAAAAAAAAAAAAAAAAAAAAAAAAAAAAAAAAEAAQAAAAAAAAAAAAAAAAAAAAAAAAAAAAAAAAAAAAAAAAAAAAAAAAAAAAAA///+/wEAAAAAAAAAAAAAAAAAAAAAAAAAAAAAAAEAAAAAAAAAAAABAAEAAAAAAAIAAgACAAEAAAAAAAAAAAAAAAAAAAAAAAAAAAD/////AAAAAP///f/+//3//f/9//3//v8AAAAAAAAAAAAAAAAAAAEAAgACAAAAAAAAAAMAAQAAAAAAAAAAAAAAAAAAAAAAAAAAAAAAAAABAP7//v8BAP7//v/9//7/AAAAAAAAAAAAAAAAAAAAAAAAAAAAAAAAAAAAAAAAAgABAAAAAAAAAAAAAAAAAAAAAAAAAAAAAAAAAAAA/P///wAAAAAAAAAAAAAAAAAAAAAAAAEAAgAAAAAAAAAAAAAAAAAAAAAAAAAAAAAAAAAAAAAAAAAAAAAAAAAAAAAAAAAAAAAAAAAAAAAAAAAAAAAAAAAAAAAAAAAAAAAAAAAAAAAA/v/+/wAAAAAAAAAAAAAAAAAAAAAAAAAAAgABAAIAAgAAAAEAAQAAAAAAAAABAAAA/f/+//3///8AAP3///8AAAAAAAAAAAAAAgAAAAAAAAABAAEAAAAAAAAAAAABAP///v8AAAAAAAAAAAAAAAD///7/AAAAAAAAAAAAAAAAAAAAAAAAAAAAAAAAAAAAAAAAAAAAAAAAAAAAAAAAAAAAAAAAAAAAAAAAAAAAAAAAAAACAAEAAAAAAAAAAAD///7/AQD///3//v/8///////+/wAA//8BAAEAAQABAAAAAAAAAAAAAAACAAAAAAAAAAAAAAAAAAAAAAAAAAAAAAAAAAAA/P/+/wAAAAAAAAAAAAAAAAAAAAAAAAAAAAAAAAAAAAAAAAAAAAAAAAAAAAAAAAAAAAAAAAAAAAAAAAAAAAAAAAAAAAAAAAAAAAAAAAAAAAAAAAAAAQABAAAAAAAAAAAAAAAAAAAAAAAAAAAAAAAAAAAAAAAAAAAAAAAAAAAAAAAAAAAAAAAAAAAAAAAAAAAAAAAAAAAAAAAAAAAAAAAAAAAAAAAAAAAAAAAAAAAAAAAAAAAAAAAAAAAAAAAAAP///v8AAAAAAAAAAAAAAAAAAAAAAAAAAAAAAAAAAAAAAAAAAAAAAAAAAAAAAAAAAAAAAAAAAAAAAAAAAAAAAAAAAAAAAAAAAAAAAAAAAAAAAAAAAAAAAAAAAAAAAAAAAAAAAAAAAAAAAAAAAAAAAAAAAP///v8AAAAAAAAAAAAAAAAAAAAAAAAAAAAAAAAAAAAAAAAAAAAAAAAAAAAAAAAAAAAAAAAAAAAAAAAAAAAAAAAAAP///v8AAP7/AAAAAAAAAAAAAAAAAAAAAAAAAAAAAAAAAgABAAAAAAAAAAAAAAAAAAAAAAAAAAAAAAAAAAAAAAAAAAAAAAAAAAAAAAD9//7/AAAAAAAAAAAAAAAAAAAAAAAAAAAAAAAAAAAAAAAAAAAAAAAAAAAAAAAAAAAAAAAAAAAAAAAAAAAAAAAAAAAAAAAAAAAAAAAAAQAAAAAAAAAAAAAAAAAAAAAAAAAAAAAA///+/wAAAAAAAAAA///+/wAAAAAAAAAAAAAAAAAAAAAAAAAAAAAAAAAAAAAAAAIAAQAAAAAAAAAAAAAAAAAAAAAAAAAAAAAAAAAAAP///v8AAAAA///+/wAAAAAAAAAAAAAAAAAAAAAAAAAAAAAAAAAAAAAAAAAAAAAAAAAAAAAAAAAAAAAAAAAAAAAAAAAAAAAAAAAAAAAAAAAAAAAAAAAAAAAAAAAAAAAAAAAAAAAAAAEAAQAAAAAAAQABAAAAAAAAAAAAAAAAAAAAAAAAAP///v8AAAAAAAD+/wEAAQAAAAAAAAAAAAAAAAABAAAAAQABAAAAAAABAAIAAAABAAIAAAAAAAAAAAAAAAAAAAAAAAAAAQACAAAAAAAAAAAA//8BAAIAAAAAAAAAAAD9////AAD8////AAAAAAAAAAAAAP////8AAP///f8BAP///v8AAAAAAAAAAAAAAgAAAAAAAQAAAP//AAD///7//v8AAP///f8AAAAAAAAAAAAAAAAAAAAAAAAAAAAAAAAAAAAAAAABAAAAAQAAAAAAAwAAAAAAAAAAAAAAAAAAAAAAAAAAAAAAAAAAAAAAAwAAAAAAAQAAAAAAAAAAAAAA//8BAAEAAAAAAAEAAgAAAAAAAAAAAAAAAAAAAAAAAAAAAAAAAAAAAAAAAAD8//7/AAAAAAAAAAAAAAAAAAAAAAAAAAAAAAAA/f///wAAAAAAAAAAAAAAAAAAAAAAAAAAAAAAAAAAAAAAAAAAAAAAAAAAAAAAAAEAAQAAAAAAAAAAAAAAAAAAAAAAAAAAAAAAAAABAAEAAAAAAAAAAAAAAAAAAAABAAAAAAD///3/AAAAAAAAAAAAAAAAAAAAAAAA///+/wEAAAAAAAAAAAAAAAAAAAAAAAAAAAAAAAAAAAAAAAAAAQACAAAAAQAAAAAAAAAAAAEAAQAAAAAAAAABAAAAAAAAAAAAAQAAAAAAAAABAAAA//8AAP///v8AAAAA///+/wAAAAAAAAAAAAD///7//v/9//3//v/9//3//f/+////AAAAAAAAAAAAAAEAAAAAAAAAAAAAAAAAAAAAAAAAAAAEAAMAAQACAAIAAwABAAAAAAAAAAAAAAAAAAAAAAAAAAAAAAACAAEAAAAAAAAAAAAAAAAAAAAAAAAA/f/+/wAAAAAAAAAAAAAAAAAAAAAAAAAAAAAAAAAAAAAAAAAAAAAAAAAAAAABAAAAAAAAAAAAAAAAAP//AAAAAAAA///+/wEA/////wAAAAAAAAAAAAAAAAAAAAAAAAAAAAAAAAAAAAD+//7/AAD//wAAAAAAAAAAAAAAAAAAAAAAAAAAAQAAAAAAAAAAAP////8AAAAAAAAAAAAAAAAAAAAAAAAAAAAAAAAAAAAAAAAAAAAAAAAAAAEAAQABAAEAAAACAAAAAAAAAAAAAAAAAAAAAAAAAAAAAAAAAAAAAAAAAAAAAAAAAP///v8AAAAAAAAAAAAAAAAAAAAAAAAAAAAAAAAAAAAAAAAAAAAAAAAAAAAAAAAAAAAAAAAAAAAAAAAAAAAAAAAAAAAA/////wAA/P/+/wAAAAAAAAAAAAAAAAAAAAAAAAAAAAAAAAAAAAAAAAAAAAAAAAEAAAAAAAAAAAAAAAAAAAAAAAAAAAAAAAAAAAAAAAEAAQAAAAIAAgACAAIAAAABAP///v8AAAAAAAAAAAAAAAAAAAAAAAAAAAAAAAAAAAAAAAAAAAAAAAAAAAAAAAAAAAAAAAAAAAAAAAAAAAAAAAAAAAAAAAAAAAAAAAAAAAAAAAAAAAAAAAAAAAAAAAAAAAAAAAAAAAAAAAAAAAAAAAAAAAAA///+/wAAAAAAAAAA///9////AAAAAAAAAAD9//7//v/8//7/AAAAAAAAAAAAAAAAAAAAAAAAAAAAAAAAAAAAAAAAAAAAAAAAAAAAAAIAAQAAAAMAAQAAAAMAAQAAAAAAAAAAAAAAAAAAAAAAAgACAAIAAQAAAAAAAAAAAAAAAAD///z//v8AAP//AAABAP//AAAAAAAAAAAAAAAAAAAAAP///v8AAAAAAAAAAAAAAAAAAAAAAQABAAAA/v/+//7//f/9////AAAAAAAAAAAAAAAAAAD+//7//v/+//3//f/+//7//f/9//7//f/+/wAAAAAAAAEAAAD9//3///8AAAAAAAAAAAAAAAAAAAAAAAAAAAIAAgABAAIAAwACAAIAAgACAAMABAABAAIAAgACAAIAAgACAAIAAgACAAEAAgACAAEAAgACAAIAAQACAAIAAQAAAAAAAAAAAAAAAAAAAAAAAAAAAAAAAAAAAAAAAAAAAAAAAAAAAAAAAAAAAAAAAAAAAAEAAAAAAAAA/v/9////AAD+//7//f/+//3//v/+//7//v/9//3//f/9//7//f///wAA/f/+//3//f/9//7//f/9//3//f/9//3//P/+/wAAAAABAP///v8AAP///v8AAAAAAAAAAAEAAAAAAAAAAAAAAAIAAQACAAIAAgABAAAAAAAAAAIAAQACAAMAAAAAAAIAAQABAAEAAgABAAAAAQABAAIAAgACAAIAAgACAAIAAgABAAEAAAAAAAAAAAAAAAAAAQAAAAAAAAAAAAAAAAAAAAAA/f///wAAAAAAAP//AAABAAAAAAAAAAAAAAAAAAAAAAAAAAAAAAAAAAAAAAAAAAEAAAD+/wAA///8////AAD9//7//f/9/wAA///9/wAA///+/wAAAAABAP///f/9//7/AAAAAAAAAAAAAAAAAAAAAAAAAAAAAP///v8AAAAAAAAAAAAAAQABAAIAAQAAAAAAAAAAAAAAAAAAAAAAAAAAAAAAAAAAAAAAAAAAAAAAAAAAAAAAAAAAAAAAAAAAAAAAAAAAAAAAAAAAAAAAAAD//wAAAgABAAAAAAAAAAAAAAAAAAAAAAAAAAAAAAAAAAAAAQAAAAAAAAAAAAAAAAD///7/AAAAAAAAAAAAAAAAAAAAAAAAAAAAAAAAAAAAAAAAAAAAAAAAAAAAAAAAAAAAAAAAAAAAAAAAAAAAAAAAAAAAAAAAAAAAAAAAAAAAAAMAAQAAAAEAAAD+//3///////7/AAAAAAAAAAAAAAAAAAAAAAAAAAAAAAAAAwABAAAAAAAAAAAAAAAAAAAAAAAAAAAAAAAAAAAAAAAAAAAAAAD///7/AAAAAAAAAAAAAAAAAAAAAAAAAAAAAAAAAAABAP///v8AAAAAAAAAAAAA/f/9//7/AAAAAAAAAAAAAAAAAAAAAAAAAAAAAAAAAAAAAAAAAAAAAAAAAAAAAAAAAAAAAAAAAAAAAAAAAAAAAAAAAQABAAAAAAAAAAAAAAAAAAAAAAAAAAAAAAAAAAAAAAAAAAAAAAAAAAAAAAAAAAAAAAAAAAAAAAAAAAAAAAAAAAAAAAAAAAAAAAAAAAAAAAAAAAAAAAAAAAAAAAAAAAAAAAAAAAAAAAAAAAAAAAD/////AAAAAAAAAAAAAAAAAAAAAAAAAAAAAAAAAAAAAAAAAAAAAP///f/+//3//P/+/wAAAAAAAAAAAQD///7/AAAAAAAAAAABAAIAAQAAAAIAAQAAAAAAAAAAAAAAAAAAAAAAAAAAAAAAAAAAAAAAAAAAAAAAAAAAAAAAAAABAAEAAAAAAAAAAAACAAAAAQACAAAAAAAAAAAAAAAAAAAAAAAAAAAAAQAAAAAAAAAAAAAA/P///wAAAAAAAAAAAAAAAAAAAAACAAEAAAAAAAAAAAAAAAAAAAD9//7/AAAAAAAAAAAAAAAAAAD//wAA/f/9//3//v/8//7/AAAAAAAAAAAAAAAAAAAAAAAAAAAAAAAAAAAAAAAAAAAAAAAAAAAAAAAAAAAAAAAAAAAAAAAAAAAAAAAAAAAAAAAAAAAAAAEAAAD//wAA/P/+/wAAAAAAAAAAAAAAAAAAAAAAAAAAAAAAAAAAAAAAAAIAAgACAAIAAgACAAEAAgACAAIAAAABAAIAAgABAAAAAQABAAAAAAAAAAAAAAAAAAAAAAAAAAAAAAAAAAAAAAAAAAAAAAABAAAA/v/+//3//f/+//3//f/9//3//f/9//3//f/9//3/+//8//3//f/9//3//v8AAAAAAAAAAAAAAAAAAAAAAAAAAAAAAAAAAAAAAAABAAAAAAAAAAAAAAAAAAAAAAAAAAEAAgACAAIAAQACAAIAAgACAAIAAwABAAAAAAAAAAAAAAAAAAEAAQAAAAAAAAABAAAAAAAAAAAAAAAAAAMAAgAAAAAAAAAAAAAAAAAAAAAAAAAAAAAAAAAAAAAAAAAAAAAAAAAAAAAAAAAAAAAAAgACAAIAAgAAAAAAAAAAAAAAAAAAAP7//f/+//3//v8AAAAAAAAAAAAAAAABAAAA/v8BAP///v/9////AAAAAAAAAQABAAAAAAADAAEAAAAAAAAAAQD///7/AQAAAP3//v8AAP///P/+/wAAAAAAAAAAAQACAAAAAAABAAMA/v/+/wAAAQD///3/AQABAP///P8AAAIA/v/+/wEABAD///3/AgACAP///v8CAAEA///+/wIAAwD///7/AQACAP7///8DAAIAAQAAAAEAAgD+//3/AAADAAAA//8CAAMAAAD+/wAAAAD///v///8AAPz/+//+/wEA///9/wAAAQD///z/AAAAAAAA//8AAAAA/v/+/wEAAAAAAAIAAwAEAAEAAwADAAMAAAAAAAQAAwABAAAAAAD+//7/AAAAAP7//f/+////+v/7/////f/8/wAAAAAAAP7//v8CAAAA/f8AAAEAAAAAAAAAAQABAAAAAgAEAAEAAAABAAMAAAAAAAIAAwABAAAAAQABAP///v8AAAIAAQD+////AAD8//z///8AAP///f///wEA///5/wAAAwD///z//v8AAAAA/P/+/wIAAAD+/wAAAgD///r/AAABAAAAAAABAAIA/v/+/wEAAgD+/wAAAwAAAP3///8CAAAA/f8AAAUAAAD+/wIAAwAAAP7/AAAEAAAA/v8EAAYAAAAAAAQABAABAAAAAwADAAAA/v8CAAEA/P/8/wIAAAD7//z/AQABAPz//f8CAAEA+f/3/wAA///6//z/AQAAAP3//v8BAAIA/////wQAAQD7/wAAAgD///3/AAACAAAAAAABAAQAAAD+/wMAAwABAAEAAgADAAMAAAABAAIAAQD+//7/AgD/////AQABAAEAAAACAAAA/v/+/wAAAAD7////AQD8//3/AQAAAPz///8DAAEA/P/+/wQAAQD8//7/BQD9//n/AwABAP3//P8DAAAA+f/8/wMAAwD7/wAACAD+//j/AQAHAPz/+f8EAAYA/v/+/wcABQD7/wAADAACAPX///8EAPz/+P8EAAYA+//7/wUAAwD5//3/BQAAAPr/BAAHAP3///8HAAYA/P8BAAUAAAD//wAABQAAAP3/BQAIAAAA+/8AAAAA/f8AAAQA///7//7/AAAAAPz//v/+//z//v/+//3//f8BAAAAAAADAAAA/f8AAAIA/v/6//7/AwAAAPn/AQAHAP7//v8KAAcA+v/7/wQAAQD7//7/BAAAAPz/BgAOAAIA/P8GAAkA///+/wcAAwD6//z/AwD+//j///8FAP7/+P/+/wEA/v/9/wAAAAD8////AgAAAP7//v8AAAAA/////wAAAQACAAAA//8EAAQA/////wEAAAD+/wEACQD///v/AQADAP///f8DAAIA/f8AAAUA///4//v/AAD7//n///8AAPz/+f/9//z/9//5//z/+//7//z/+f/4//f/8v/w//j////2//f/BQADAPH/9/8HAPz/6v/5/woA/f/u//j/AQD0/+n/+/8GAPv/9v8LABcABAD3/wUAEQABAPX/CgAgAAsA+v8VACYAAQDz/x8ALAAAAPz/KQApAPz/AAAqABoA8f8HADEAHQD3/wwAKwAKAOr/BQAbAPn/5P8AAAoA6//c/+//9v/h/9P/5v/w/+L/1v/Z/9v/zv/H/9T/2v/O/8//4P/i/9n/2f/q/+3/3//n//n/9//m/+7//f/r/9//8//8/+r/7/8JAAQA7f/6/xQAAwDw/wUAFQAHAAYAHAApABgADQAwAEYAMAApAFIAbgBSAE8AdwCHAGgAXwCMAKIAdABxAMEA0gCMAIcA4gDiAIUAoAD+AM4AeQDDACwB5ACPAPsAXgH0ALMANAFXAcYApQAYAf0AcACAANIAeQACACMAGACD/zT/Uf8f/6b+hP6j/nL+8v3J/ev9qv0y/Tz9fP09/e/8Kv1i/Rj99/xO/W/9Qv1W/an9rP11/Zf9Af4L/tn9Q/7V/r/+lP71/kL/Cv/3/l7/f/9R/53/FAAOAPD/PwB5AEEAIgBZAIcAbwBNAIYA7QAJAewA8wBlAeMBygGSAQwCvgKjAmECIAPWA4gDuAMUBV0FYQT2BIQG+wXvBFgGkQcWBnwFnQfuB3oFUgVvB9gGkwQ6BbAGKwWUA90EhgVtA2sC2wPyAxoCmQE9ArsBuwCvANUAOgCq/+z/JABk/3D+M/4F/jT9V/y9+wv7Ufqo+ev4Ffgb9+r16vQ89GTzUfKg8X3xL/GO8DbwRPAz8CrwofA98bnxM/Lm8hL0dfVC9uT2i/hf+mP7qvzE/igAhgDHAf4D/QT9BAcGjgfdB68HcAjtCDsIBAjUCK4IMwfOBqQHZQcTBp8F+AXDBcYFhAbSBsoGagc+CJgIEwkJCvQKfwsXDFINbQ7tDScNmg4bELwOwA21DzQQ/g3lDSQPCQ0VCpILzQ27CgcHcgjxCR8HIQUiBiIFsQNlCKoO7wwFCE4KpA+FDnwJ8gdUCVIKVAzSDasJIQPfAVEDvf5B9Wbv9+7t7mvsiOeN4ATaTtet1vbSfMynyM3J6swNzi/MQMpGzGfRX9WE18Pa5t/w5bvs5vI29of4gf52BvUKWw2tEjQZ8hvrHOwfvyEnH+0cSR90Ie4eHBxjHNEakxXaEh8TQQ+jCHYH6wlPCGwElwPlAgL/vPw+/zUAv/z4+zUAhAKQAIb/0gAUAUAAIQH0AnsDqAPnBNgFHgVCBGoEaQW0BvYGXAY2B0YJUgkTCKMITQkdCGEIfgv7DDQLBws/DpAQ5g/XDi0PRA/pDvIPVBHKEMkPbxDlEFEPWQ3fCzoKcQopDggRTg6FChIMpg6YCnQCXf5F/yUBcgEU/p/3bPPS84LyRepa4Anc1NzJ3fHb39afz2/KW8otyyTHr8Cuv33E4shkyqrK8cvez2DWE9wI3pPfouWg7lX1Kvkq/i0FqAvNEKUUBxaXFdoXZR2fIEgfdB7UIFYhKh51G3IZbhXZEU8SbBNJEdgOjg5MDbUJJQcBByQHRwcPCU8LEQzHDFsO2g64DQ4NsA0FD6wQ9BEIEukQfw8wDtAM7wtlC1YKhAkzChILywnHB5YGbAR0Au8D/gVpBKgCVQSrBhIHMwfgBwwHhQaOCe8MbAxQC/oNFhHEECIPrg6WDrAO1w66DbUNGBJmF58WWBEWEAYTjBHBCZgDVAOFBT0HoAU6/vX1w/My9P3t9eEV2TTXbdjp10fTc8oywgDA3sBevVW2p7IatKu3z7pIvHG8273NwkbJos0R0WnXE+BH5wztmPPG+UD/kgbzDn0UJxf9GukgmyXiJuom+CeCKR4rnCz8K8AnLyPRISMioyDbHNAZrhjVF6YW3RRrEdwNDg2CDQEMWQqhC1ENKwxOCgsLYg34Dd0McAyaDI0Mmg36DoENYwqkCRILigsFCjUIdAdLBwQHWQZfBU8EpwN0AwoDQQKVAXoBBgJsAioCXwICBMoFawYwBvAEwQORBIgG6gZ8BcUEDgUHBbMEEwRIAuH/FgExCAsOIQzxBycJRgyrCcYCqv30/CEAZQQKBIT8qPSe83T0Wu2u4A/ZstgF2ojZ+NVTzhrG4MIGwxvAhLnttDS29LoLvvi+osDsw+vHYcxL0fvVYtsA4xLrI/Em9sL8AgUSDCIR5BXFGmUe/yGqJw0s1Su8KlUsOC38KtooTCgiJnUiFCIeJJoiBh6rG0obDRlRFnYWWhe3FTcTFRNJFHsUiRNxEsIRAxF5EL8QYBFkEPINWwyqCwMLEQq7CIEGBgSGA8EDfAIZAZ0Agv+5/Vf93f1c/RP85PuX/cf+d/0W/dsAewOKAf8BrwbUB4sFnAfaC9EKZAjACqkNjQw4C34MUQyJCQUJIws+CjcGFgeCD3QVvxGZDNoOTBJmDWwD7P30/lEDbweIBY38jvSv8hvxs+nd3uDWT9Wk2BvaotQCy7rCOL8+v5G837OHrHGuKrTEtCazHLZKvFLC68e+y0DN1NBt2Rrjburv8Af4igBqCo8ShxZFGJwbtyEQKQov+jDsMPgz+TfLNq8xqy51LqctXCw5LKUrZSmsJ6AmbyOIHocbjBtZGzAZjBeDFyUXahVEFH0TZhBGDTYNoA1BC2kIwAfzBoYFAQXjA7QAPP3D+4X7Efuy+kD6X/kx+vn84fzB+Tz5xvvG/Yj+DABBAbEBEgXvCBMIfAU/B4cLCQyJCdkJOg0LDrELPguFDCMLoAi2CAIJZga3A74D3QPSANn7qfqCAcEKEwsRA2D/+wK9AyL9DPYP9B72bvt/AFX9m/MG7kTuYOsR4rDau9nb2bLXwNTw0A7MRsnoxz7DQbuathO5r7xTvE+7dr7dxY3NrNJL1r3aJOAx5f/p5e+397r/swbJDNUQMxSCGXceWiDeISwluiiqLHcx0zG6KhAkvyQuKG0osCemKJMoUyXnIZcg2B3PGI0X2xqyHEUcjx23HncbrhZvFHoTHxOpFGsVYxPiEQMSERB2ClYDzPyi+GP5qP13/+X8afiw82vwOfC18KXuguy87uT0L/sr/8b/5Py1+Vj6nP49A0QFwAbVCyIQ9g6EDrgRKg8bBREBgAZ7CDUFwwW4Bbj+/PpyAMgC6vtS93b5wPdO8tH5cxPoKpgrDxvkCxUEsv3X9Gjq3uDJ32XuPALtA1zqdMV1rICoGLOpv/7DocBsv+3GX9Gy0iHI571twnfWw+2v/QwDu/4y94z1BPzyAxQH0AYvB0MItAglCKMFov/f9hfxhfJq+AD+KgK+Bt0LbRBMFeMa5h6zH/IgUiidM7860zrDNxk1FzOZMZkwbi4lKs4m6iYUJ8IiMxthFIUPTAzYC5QOkxB2DrAKsAg2CNEGgAPi/0X+SAC8BRoMDA9pC/wEQwO0Be4FowPAAicCtP/p/kMAOf5I+ZP3//gw+VX5OPtL+S3yS+9B9HD4VfgE+2EBmgMHAZwAOwPoA7MCrgJSAaL7vfUW9Onyte6T7brxdfFO6mHmF+ga5wLhG9vc3O/wHRRDKpgg+wbc9PPumu6S7FrkRtzW4hb3ZgJ18+rQnrBNpaOyfMzn3lvfsNXZzifPjNLC1L3Vidnh5Wn5BQrPDrwFiPQJ6G/qvPkCDYsafRt2EZoE8fw++5v6DPpE/dwGExRvHl4g5hjpDZwIfg5GHMcpwjG+M+ExdC57K+IozyTBH3QdhyBUJkor4CyJJxYcexGSDYwPURLTEWoOhwvmCs0LSQsABuz8t/WP9fn7QQSoCJ4G0AEi/jT8cfwi/s/+tP4QAGgBwf9/+4f1pu5N6zPuGfMn9Zjzy++c697p++r66iXpXemr7Pzwx/Vs+tT6hfWh8cbz6PUY94P9twJp/bL2WfYb8SXj6tuc4KDk2OWq7BD0NfM87yTtCubZ1n3QDOkxGZk88jz1JRcM3/cN6yLkV95v3GTodQLYGasVSO1CuK+Zt6B/wS7l5Prg/Zj0y+rk5VbgktnL3Bfvrgk9JPQ0jjCcGIv9Y+1W7Ur9IRVzJ8orlSJPE7IF2/uf8xbuk/LDAp4WOicNMG4sAh8pE2MREhmTJtg1BUGmRN1BszoRMHcjWxikEkETeRghILIlsyNiGfwKwf2D9VX0r/lvAScHEArmCv0H4/9S9bjsq+ka7vP3BQLsBmADQ/mI7q7nQOXq5v/qKu0J7XDttOt05HbclNjn1iTY2N9Y6TTtQO1y7dvs4+3783v60/xS/tgAEQEp/9z9Efw6+fj35fcv9wz3f/Xf74TrD+0r8aj09vWv8hbuL+5R8fPzf/fx+I/y9+rj8ggRijVmRsY6TiFdC4j/nflh8uLpFOjM86QJTxlCELHu0ciQtCC8Etnj9lgEKQK8+fjxC+4s7snxTflDBI0Rtx89KagnDRtDCkT87vbx/qIQ8h7NHq8RSAFS9nDz0PTH9Tr34/ysBq8Srx0lIacaTxIsEcUXFyMOMSo8gTynMkcnyB5HGLYTCxCKC3kJiQ37EiYSUQl7+0rtDuXH5jHvivZW97bzCvF98M/vBe2Z55/hLeBV55f0hP98Al/+2Pb570PssOpn57Diq+If6lz1Sf6D/t/zY+Nf1JvMDc/N2pPrOfyuB+MJJgUa/q/0+uvm7P74dAh7FJMaSxhWDIX8NPFh7871o/28A4YHkwO9+CHx8u1R6l7rn/Y7BCULiwt2BFPzvOJZ6SYQDUDgWFpUFUJcLVQXSwNc9cjpSuLV7MAJPh+7Favx6MpFtx69g9Ll6Kj2i/mb+I77LwFzBRcH3wa3BekDZQXFDdsW2RbTClL6M/H288T9fwXwAlL1/OYc5dnwL/4RBNcCJf79+7MBRA2RF5cc6BzOG2IdHyL6JSkmHSOMHNITMA4TDVQLuAUN/vv2r/NU9rn8wwEqAtH9//Zo8gzyvPKn8knzYPUj+Sj+BgKEAfj7dfRO7ybwzfY4/uIBVAH4/WD6C/nB+R/6TPhF9bvzDPRK9NPzvvIO8I7ttO6b8lj3Z/woAfUEygaeB30JZAqDCEUGYgUbBlgHowffBiUFEwJp/Mr1s/Ne9dfzkPH29U78Yv02/v0Aff8p/Hj95QApAWf+nvp+/bQUkzpeUnFNmTnFJmQXWwhp91TkdNfW3Uf1uQupEQEBQ+ECyOvBcshZ1O3jYPN8/gIFCQjfBzsFYv/+9KTsPe+j+tAHKBHADtT/DvBJ6FzoEe5R9ar1E+//7dX1YPyU/Mv5RPWd8A/xnvmiB7oUehv8GjAYnBfPFwIX1BY0Fm0ULRZJHHshASLGHD4SiAYQAbsESAp6C3AKSAhaBF0AZP1k+gb2hPCo7frxp/qx//H/3/+o/uv6i/n9+5H9UP3f/aj+zP7r/zIBVgBF/gT8oPjs9MHywvCn7bTsz+4j8HLxk/Um+m/96AByBL0FBAavCBgLHQpWCA4HQAStAP3+hP/m/2X9ifke+fH8GP8c/O/2dfNh9G360AJgCFMKEgvnCdQFlAAG+uLzRfs9GQ09Dk3YRZ8zZx6wCO7yDuDz1xLgvvKjA9sKhwYI97Pjwdeu04jSzdUt4Bvucfhh/JX8x/vn+w786viQ8+rvIe8Y7xXuPe087h/yHfiV+5D5b/Ou6oXjOOO06J/vF/cjAG4I5gz1DccMEQr6CBMNfBVvHi0lzid9JQEhuh1fGscVOhOiE4IUZBY3GkgcHhntEtsNHgp2B0IHowa2Amj+pPw+/fH+lgDIAG7+Ivv1+JL4oPoa/Zr95/1A/7f/Nv5O/NP6Nfgt9UT07fTR9Zf2mPXb8bbtP+uq6gHtUPHL9Or4bgAQCRsOXg65C3UIHwdOBjMCEP7P/dv9pv07ABsClP/Z/Mz8R/qP9KPysvSl9pH7LwNNBRQEGAcUCc8FHAN1ARr9H/mB+3cGPhpMMjg/JzgGKKQWYAIa8Czl3t/+37To4fZjAGz/xPTn45DVAtA6zhfOxNRK32bmwOto8hv3ivjS+JL2zvAr7CnrR+qG6orvRPUB+e/9nAJQAtn8d/Q560vl0+a+7Yf2EgPCELUXtRjdGOwXKxZnFnIYAhu1Hkkkrir8MKo13TJAJwkcuBcTF8cVaBSwFboXXxfaFgoXdhSFDe0Ei/51+kr40PrS/14C/QMsBbYDmAFhAOP9D/kR9e30rfYN+fn8P/8s/nL8bfk39F7vc+v+51bnW+uo8B7z5PQZ+L/6M/x9/JX7Rfx0/+UCsAapCpYLHAfx/8f6Nff58oHvQe7e7pPxLfVF+M77E/+G/1f9J/vQ+Wz4e/iJ/GICBgXmAzwCDwF1/kn56PMe9WMDlBpCLDkwyiruIE4TZgNQ9GPoDuL54hzqJfQ2/IP9MPj18pLvn+eg20vUFtP+0jXVeN3a6ur5nwY/DesMIQcG/KbttuL63w3kJe28+5EMvRjQG80Vvgnv+3/v8OYf5ljuGvuAB0kTMh6SJB4lvyJ/H7cbnRj3F+YZuB11I48poSyBLDQsqSsWJ+McqRGKCngGcgOVBMsKXRDXEVgRTw99CN/9mfR0707vU/M2+W//VQVtCDEH2gMU/5f3GO/J6fDnuucW6mzuq/GP8trxde/k603ph+ie6HTo/+jJ60LwpPMg9Sf3ZvpL/bH+L//D/lP72fTk77TvJfEM8hz1TfqX/G/7Bvx8/kP/0/6V/qX9oPyu/Jr9BgB+A1IFQwTlAeL+jPt8+t36//rFAWoWbjCFQFRDsT0vMpshrA4N/QzwPOr16g7wa/fO/Av8JPcr86rvY+jk3VPV+c9SzFzMzdNi4trzOAQ1EVkZlhqQEyAHovqh8fjsWu5o99IE/BDEF4UXIxEbB+D7OPGy6c3msugy8Gz8hwk6FTEgYynSLVssNCaUHeEVxRBeDgwQaxblHl4nBzAsNKgtWB+TELMDwPit8wT2Xvt5AFAFBAlDCWQFtv7s98XzMvHX7TTrAuzd79vzvfbD+G35PPn/+Mn3lPT67xrrhuaz4/njsOcN7hX0hPaR9P/wge4B7U3sIexA7Kft+/FB+Bj94v+JAXIBNv/V/Kz82P2K/kn/VQFtBM0HOAylET0VsBQTERENWQncBAsA+PzL/DT+/v+uAqwGagqtCxUKQQZDA6YGmRLeIecsjDE4MY4sOiNwFiQJvf3W9fPxLvE28fLvsu2r7G7tK+1i6cXiMdsm1D3PDs4E0VzXjOGd76/+LQrZDgkO8gpmBr3/Sfhs89rySvam/AcEDAvFEP0SJw9yBm/9Svbt8LDuOvEg+MwBYQ3mGX0klSlLKGsjmh5gG1IaehrEGQ0ZtxpsHikhbiEDIFMdJxl7E3YMjwRt/PjzY+xn6J/oV+uL77T0VvhU+A729fOf8vrwxu0Z6pDoP+rn7l/1VPtV/gn+N/zu+XD2LPEz6+zmFuaf6BPuMPVJ+yv++P2A+3L3MPRY84jzKvND82H1pvkI/xsEkQg5DNQNZg07DSYOZQ67DKAKUgoDC5QKgAlgCWgIQwQZAJr/9v/x/VT8k/2E/j390/xn/hABeQe6FCElHzFKNoM2vTKLKrIeQhHwA6T5XvTl8ajvcO2c6wzqQene6ZLo9uEl2NLOeMc7wh/BBsbfz7Ldo+18+1AEmAigCYYGOwAD+074yvYC9yT74AFtB9QLHhAUEnsPnQrCBkACq/sp9ujzw/NH9ZP6IAToDksY9x4fI10lNyU9I3Qgph2QG4sawBrnG4wdpR4DHrkbvhdqEWsJOQB89kLuyujL5bXkb+bX6grwrvSJ9074svde9kj10PTF9Jv1C/gI/A0A/wIFBdQFCwVDAub9hfnQ9bbyCPBD7mjtkOwO7MLsV+7A74HwH/FW8m300Pc4/IMAiQOfBTMIrgvyDzUUDxcCGJsXOxZVE7YO1QnABRcCbv5a++P51/mr+lD8wv4sAfEBHAFCAMz/7P5V/jwBSQpqFxckui2wMw81eTCIJvAYpAkA++XuluZR4cLdmNzv3v3j0OgY6jjnXuFk2CfMT79WttuzobiIxFjVIOdv9osCKgy5Ei4V4xP+Dx8LUgewBUUFUAU0B4sLyA/OEQkS1xBADQsHp/82+EDx2Ose6hzuFffdAh0QqR1pKUIxljQQNKYwTysOJkwjvyIhIr4h5iIvJEcjuR8QGg8SHAg7/fPxJ+fk3kXb1dvD3pPjU+lV7jzyU/Un96L3Fvgd+iz9gP+hANkAfQAkAFUA0gDXACgApP4z/Mj4P/QB793p4uWp4znjheQS553qHe9f9G36rwA5BnkKAg0vDiQOJA1PDAUM5wuvC7ELEwzhC9AKhAgwBLT9MPbr7zzsiuu77Zzx9PQ/9nr2M/ce+Kz4TfuSA9IQKR4cKNQu2TGJL2cokx55EzcItP4R+Bfzk+4P6xzpVugF6Hnn+eQr32TWD8vWvn21prJrt1HCi9Hr4lfzUgCvCdYQChYVGfwZtRhPFvETXhLdEcUReBIkFLsVohZHFuQTDw9HCPsADfrf8+TvBfBN9Nn6OQNRDpsaCiU0LI4wGzIpMIgrwSbJI5Ui/iIZJcwndCmBKHAkvx3sFBYKhf1k8P/k1dzG12/V8tUl2a7dfuJH52nrc+6J8CPyefO59PP1N/f9+PX7uv+5An8EmwXWBfoD5v8H+4r19O7p53Ti9N/t3xLi+eWY6nnvvfTj+uAAwQRlBt8G6QYbBwAIGQoVDesPXBJwFDUVexOMD/wKkQZAAkn+sfr69sHzy/Ez8VnymfSm9jD4kfmR+un64Ps+AKQJ9hW2IdkqZTAeMVEssCOqGVoQ6ggAA27+bPp89aDveure55XmBuNE3D3UQ8zBxGy/R79axYDPk9tB6EH0g/4IB9YOdRWFGTcahBfTEqIOTAzdC3QO/hMpGSYbkxqQGLUUfQ+UCioGIQFU+/H13/J983/3xf1dBXINrhTnGRgd/h6xH+cevh1oHbYdKB8WIhwlwCYsJ5QmaCO1HIMTrAh9/IjwOuaU3c7WMNMT1KbYAt+e5ZvqmOwc7DjqCuiO5xHqOu9V9X37UgE+BcsGHgfkBiIFgACi+drxU+p45B7hBuEd5CPpUu5P8iL1kPfb+Tf70PuV/Lr9n/63/1sDoAkcEBIVpRi8GvsZuBb9Em4PjAsTCGkFmgJh/7T8+fq8+d74Jfil9zL4pfmc+oX6X/op/OcBIwzKGE4l3C/QNVg1ti7PI/gX4Q3/BtICqf7u+A/yyuv355vmQOYM5G/eItbRzPXDW72fuzjAocqP2AnnyPPW/fUEmQnyDOQO+w6gDSMM2AvODewSyhqGI3YqDi0IKmIi7xcVDL0Aa/du8Nzr8+kM6w7vXvVb/SsG4w4iFiUa8Rr8GXgYlRdoGBIc/iEDKXcwFTYNOJo1mS5SI4QUWwRQ9PPlldsR1vTT6dP21XfZ5NyB3wjh/OC4313eO95j4CHlr+zD9ef+ZQd2DbkPag40CscDR/y29RrxPO4R7bTt5u8Q84f2XPmN+vj58vdj9Y/zS/MF9fD47P7TBQgNjxRNG8ofPiEzIDsd8hcDEdwKSwfqBZ8GKwpjDrQP3w0LChUEW/zS9MPvSu3M7E7u0PB88yz3rv0FCBQVdiLRLFQxpC+FKMMctA7LAnv8ZPtA/TsAIQIoAW79rfdB8NTmR9tizj7Cb7mitf+34cAjz4vfVu7P+Af+4f5U/AX5k/ey+Ej9gQU1EIQb4CV5LgM0bTVaMkMqSR2tDf7+bfP764XprutH8Gz1M/ru/VYAjgENAhsCPgKfA+wG6gtwEu4anCRnLWQ0ITk7Olc2wC0vIowVGAnQ/dr0vO5K6yHq8emN6Sjo2eT8397arNZK1G/Ultfh3fTmbvEF+3wCggf5CXQKqgnCB+gEBgKR/yP+ev4tADIChgOxAz0Cxv7v+XT1gPLj8OHw8/L89lj87wGyBgcK5wudDL8M3AwBDQANsgyADOwMNA31DC4NyA0pDakLVwrHB+oCZv1Y+EfzPO+b7Zzt6O3t7tbwHfLX8tL1NP2HCD0W0SNrLXwwpCx9Ij0UnwYu/vj7Qf6eAvAF0wRz/iT1JOvM4NzWf85lx2fBfr25vEfAnMko2Bfo1/VC/8ICogA0/Hr63f3CBQQR4R3sKGQvWDHJLywrZiRAHGwSKgdl/MjzDe5E7Mruq/MQ+KP6yPom+Hf0AvOv9Q38rgVQEewbASRfKnIvtDKCNLo0RDKVLH4koBsEEx4MxAfUBKMBDf1c9rHtheSo3A7XVNQM1QPYftsQ3wPjK+iz7rL1bvwnAqoF5AYFB90GKwcJCDYJDwrJCVEIvQWBAtD+/fq09wr1tPKc8Jrv/++D8c3zoPa1+QL8zfyc/Ov8H/9PA08IEQ3aEGkSiREgD2UMlwpfCbgHrgXcA9wCTgKyASYBWP+/+iD0qO0C6aHmHecA6wHxh/ZX+vH9kASiD6IciCjiMAEzAC2FH+0OdQAM+PX3PP8iCWgPlg0qA/PziuQB2BbQSM1MzqTPas4WzOrMftPc3srsbPodAwQECv/4+DD2avnHA48TgyRHMdE1fTE6J30bNxGACXwEuwEXAHT+yPyT+zb7VPsW+7j5nfZj8i/vue8c9m4CFxL8IPMr9DCwL/op+iInHtAc7B4II1om4SawIwMddhM/CFj9ePNV6l7iadwy2TLZ39tN4EXlLOml6iPpBebM4wDkFOhF8MH6SgVTDZ4R3BFvDksJxgNq/xf9/vsI/B39tv4QAEn/2Pvo9n/xa+yD6ETno+nf7uj1ZP0eA3YGngfPBgkFXwPwAqgDRAX0B44KPwzoDYAPJw+9C/QG2wLo/tz6Rvi29+X3i/fl9rr20/b59rb2vvUD9Yv15fgEAVQOKR4oKwMy5DEAKj0bEApD/ff5jAB2Db0asCGvHX4OcfhY4hPSFcpoyejMi9GJ1LvUYNRl1lXcCuWA7ZvzPfYJ9pz1vvdc/4ANbx9eLyk47TenLk8fHhBcBj8DUwUpCokO2Q4qCeL+WfO/6VbkoONe5k/rMvK/+ncEvQ6oFzod2h7dHNcYZxXvFPcYbiFFLMM1Qjl0NPwnNBb6AsHyDOla5tboQu6w8sbyuO4q6NjgztpC157Wzdh93QzlOe8r+mYDMQkaCwAJiwNq/aD5sPk4/YECNwiHDOgMtQhjATv55PFF7LTpverp7YLxD/Xq+Kb8nv6l/Wb6Zvcf9uT2q/peAeYI6g7DEj4UJRNpEDEOKQ6fD2QQgw9GDREKXAbaAnP/rfu89+nzofAx7hHtp+3Y743zePgg/6cI6BRoISIqVC2YKzYlRRvPEOUJZglqD34ZPyInIzgZXQbw79HbUM53yXXMYtQo3dPhld922ODRndDm1DTc/+MK6xPxP/ZR+6wBtQrTFRYgpyX1JJketBTdC1cILgqUDsgSbRTgECkHX/mx67bjXuQK7Of1LP62Ax4GNgUNAr3/6ABXBeYLTROxGaMeFyOzJ4UrnyyzKX0iMxj0DfoF0gBJ/3UBvAQ0Be4AjPjJ7Yrj9twl22ndHuJ55wjsm+7J7g7ur+0E7sLvwfK49Qn4svp3/tACpAYbCQ0KJQnGBpEEEANJAngCHQM3A/YBOv8e/Nn5pvhD+Of3I/cn9qP1mvZk+cv9GANACB0NIhGiEjIROQ7uC7QLNg2tDysS/BIMESwMgwSV+zf02/AD8pv2PPzt/5z/0Pr58vLrZup+8a4BHRejKSsyZS7mH3gMEvwh9Yj6kAqSHiQtgC5/INgG3+mA0ynKU8+D3hzvGPnt9iboItPSwLW4zb3OzPXeSu059E/0jPBq7f3usPaUAm4OShYAGBYUeA4UC9ULIhC1FA0XexYKE5MNzAf6A6EDrQX6BjMFLgH7/XT9lP/EAwMJ3w0uEGgOSwofCBEK1A+OGN0h6ydJKMYi3hioDlkIRwf5CT0OThEvEA4J2fy871bld9+u3g/ib+cI7O7tquxJ6c3l5OME5HTmWOsQ8UH2z/qH/t8AvgEEAjUCkAJuA68EmQWGBakE4AJZ/7j6tPbc9FP19PY2+e36ivqv+Dv3a/eS+Sj94AHSBpwK4wwPDeQKuwhpCKUJoQtiDZAOIA9aDkULXgYTAcz89fra+9P9iP+uAKgAUP5o+erzRvBZ8DP2swJWErMe4SKWHcARqgWq/n3+YAVuEschFizBKfAYXgCq6sDfPOL77pz+/gi/B8z4puDiyAy7YLzby9LidPfeAKH7Ceu81/jL4M0B3Rj0fwvIG/YfUxj7CkEAcv6pBoEU4CEGKj0qziK8FoMKwgKEAVoFmQuUEU8VtBVYEmcMPAb7ARoBgwMwCD8OlRTZGccbvxj2EXYKZgXuBBMJbQ/lFMEWWhOOCqX+2PN57ersifEl+Jn8+Puj9fnr2eKF3TzdIuFY56XtffHv8fzvcu0q7MHsfu+u9OP6///HAtwCVAE5//n9Rf63/3oCawUwByoH9wRwAS7+jPw4/fz/3QOTBzUKygr4CAcFxQDx/sEAgQX5CQgLPgh0A23/6/2k/hcAcQFIAnoBbf6H+WP03vEc9Gn6+gBDBAMDNv7093byAfFP964GNho9J50lbhaaA2L47/htAhYQmR75Kgcv7iNEClrtoNyG4MHzKgjOEWsMMvuO5HDOrb+kv6fQTev9AB4FtvW83GDIA8KqypzdAPV7CtEWsxQWBYPwLONg5UD2jw3iIGgpViYTG9QMQwFc/W0DlBEeIm8u0DEsKxYelRDIB0kGiAvsFH0e/iPYIv4arA4GAuH5FflL/wQJLhExE9MMlP+g8A3mmONY6Sb0PP/0BXgFnP2Y8eLmj+J85q7v2PgO/rH9L/ji72HoTOVr6PzvJPgJ/bL82Pe38D/qfudJ6sbx7/reAWkE7gJh/0X8hfut/VwClQhRDroR5hFdD0sMhwqKCjAMhg7jEPESQxPhEHgMmAdpBPkDsASmBEgDIwHx/h78F/jq8yrxrPA48hH0mfQB9FfzS/MY9IX1Q/eY+QP80/1R//kBzgcCEEgWwBYcEikNvQwZEDMSgxBtDYcNqhDVEFYJnPzm8lPzs/xqBtMI5QL++WLzgu/Z7J3rse0B9MD7Jf9a+gzvgOPs3STgYuce7/fzHPX58jLuQuhG5NTl1O3c+SUF8QubDQ0MEgpjCUcLwhCQGTAjYSn0KNgighsDF4EW/BiqHBkgpSERH8cXaw0WBEIAkwILCBoMcgvhBf/9p/aU8aPvgfD28+T4jfxa/KT3gfDD6gfpduts8Lb1f/mI+oD4G/TD773t5O6/8oL3sfsX/tr9Ivtt9xv1t/Vg+a7+RgMDBXYDeQAG/mn94f7wAUoGQQvbD48S9BGTDogKOAgSCUUMoQ85ETYQ4wzTBzYCW/1U+m76Jv0wAPoAuf5d+or1/vFf8G/x5PRg+S/9WP4o/SP7zfn0+Sr7Mf3A/00CAwQ0BOICnABz/h/9wPz5/Ej93P2a/rL+gP1/+tz2o/T49Bj4uPyDAYMFNQhfCXgI5gWZAyoEewhFDyMV0xbsE/8NYgeXAdf9qvyU/Vr/8v+l/Rf4JvGE61rpQev/74f1tPnK+9z7YPq3+D/4KfrH/nkEAgnZCg8K3AdWBaYDdwPHBOUGvAgeCSMHYANJ/2X8gftk/FP+XwA2Ah4DhwLRAP/+SP4p/34BTgScBhMIWwhbB6gFhgTIBJUGNAnsCqIKQQimBP4Aef6j/en90P5m/7L+mfx7+V72OvTK8zD1Xvcc+fn5Efrh+RH6FvtC/ZsAPAToBt0HAAf1BK0CLQHyAJoBnQI7A80CAgES/rn6ufcH9u31AffT+Lj69vtN/Bv8+/uW/CP+UwCxAqEE/gV7Bv0FFwUBBGMDpAOaBPcF3gbJBj0FJAJH/oz61/e+9gr34vel+Mj4Dfiu9gP1+vMj9KH1pPhb/MH/BwKOAh4CkgF2AVQCBwRjBrUINQp/CmQJUQdDBUUErQRSBjQIVQlmCU8I2gakBUsFJga3B4gJogpzChUJzQZ5BOACSQKVAkUDpQNPAxACBgCx/UT7BPku98/1P/WM9Sn2kfYw9tz0MfPI8U/xHfLZ8wX2+vcp+Wf5HvnV+DD5o/rF/DT/TQGUAhMDxQIuAt4BMAJlAzIF1QaSBykHxgVNBIkDvAPdBDYGCwcOB0IGIQVMBAcEWgQbBf4F5gaMB4kHqgY8BZIDAQIIAaUAygArAWYBIAECACX+4vvI+Tz4gvdz9wD46fiP+eT5zPmb+dD5qvr3+1P9hf4O/zb/J/8c/5D/aQC7ASwDRAR4BLcDSQKhAJD/Ov+J/xoAlAC7AF8Ayf8t/77+2/6F/xoARADW/9b+6f2D/cj9pP70/zsBJAKQAjwCUAH//67+uP08/T39W/1K/Qz9rfxh/GD8q/xi/U/+RP8YAIIAqADTAHgBfgLYA3gF7gYeCMsIJgkgCeoI4gjBCLYIbAibB1gGmQSwAuIAj/8H/0j/2v82ANL/ZP5G/Nn5s/d09mj2cvct+Rz7c/y2/Pb7ffr3+Af4/ffi+D76efsg/PX7BPvP+RX5G/n0+Uz7iPxI/Uj9q/zV+3z7GPyT/c3/IgLmA/IESgVABVIF3wUwBxwJLQvDDFgN8wy/C1UKSgmzCJUImAhOCGQHzwXLA8QBMwBa/0n/sP8MAB0A5f90//P+iv5L/jj+NP4t/v39tv1t/S39K/0u/Q39r/zZ+5T6Bvl+90L2vfU+9oj3L/mx+rX7GfwD/Kz7dPu8+5z8Kv4uAEcCJgSOBWkGzAbyBsIGXAbSBQYFNARZA4gCsgH/AJoAIQBv/1X+Gv30+wj7pfqo+hP7rvtL/MX8KP2t/Vv+ef/qAHkC0gOhBNYEVARkAzsCEAExALv/lP9//1z/1v4I/jH9ePwb/AL8Sfzt/Lb9aP7o/lz/1P98AEUBGwIMA+YDfgTABNkEvwR/BEoEBgTbA6oDbAMDA2wC8gE/ATsAFP/D/YX8ifvf+mb6T/pz+sX6J/tD+3/72Ps1/Mf8sv0I/2YAsgGvAl4D+AM6BFgERgQNBKgDPAPoAmgCyQEhAXwACQDJ/6n/kP+P/5//1P8/AN8A3wEaA2IEfQVtBv4GJgdLB20HeAeUB6EHmgdQB5IGagXtAzYCjQDZ/ln9QPxS+476x/kE+TH4Y/fD9n/2rvZs9634M/rR+zz9Tv4G/1z/cv9b/1z/lP+v/8H/x/+i/0f/t/4O/nH91/xb/Mr7SvsH+8n6sPrG+tz6W/tg/HD9ef59/00AAwG4AW8C+wJ9AxsElwTLBMoErgRNBKEDEQN6AooBpACf//r+Nv6d/ZX9fP20/e39xP3a/TP+9/29/a79G/4x/48ACQJdA1UF2wZQB3sHVggWCEoIHQkrCTgJzAnpCTIIvAd5B6QEAwK0AhQDKQFwAKoBfgBC/iv+Vf7J/rj+QQB4AUUDmwLHAREB5QBZAMD90P8w/iH8ufkzA7IRrgLK78r2g/8b9qPsye/08ZbuyfnjAiX6JPWt89j3Kf2KAMn++/gN+Sr+xAKBAJT9/AD1BuUIvAtyBncCRgP3AaIEOAaiA7f/fwCgA7gChv6PAZ8ArP6vBHcFyf0R/psJuwFI+0wDTgX7/44ElgLs92QBEQLR/xf/cf0R/YT2rfsF/yDzM/r6/Tbz3QEg+3T2pvwf9h4BGf6J+sf7xPhNCtAFDvcnBkAHGgVRCBIGYg3/BZoDlwlMCcYIxQRsA3II1wLBA/ECAv4dBtf4afx9A2z7e/Z9+SYCIfcT+PsEAPoQ9wIFsP0c+lwD4fkNA+b+4fq2CM/9swIy/eYA4Qok9xH77BO2+z30fwsaAs0DH/n1+zcKWQgg/Fb/XQx9/NgDzAU+//QBURN8C7rypQW8HOj8VOnKFiAK5OwwAPMJvPZK634HZ/wV3f79gRE+7JXroQSRAL/qtujMErj+Z9w/C6X/fvofBwb6pQBn+W4DtArs+jD/JgtJ9zIF1P+e/tQRQvsyC0wEtv3I9dYDYwle6C8Cdw54B3QSEybRCiD9fgHYFasSGvE0AEX22PmtAFAIIQUw70/33QI4/+MFUgAr1jPY7vtWALzsXexB+qvqdvfhGIr4yvBG/lf7+gnqDyEEVgWH/UUP4hq3BN4V4Qw7Bf4OEA05C0cBDv14EOr9U/hKCjn3DgJn+Tf43gl1BPzuiv+sCXX/FvGF8XcUc/y16zL9/hCH/s72pgP9CpD/z+koCgYFzPOn8Yn87/kx/mb+yOv6+//1dv399679BQU+8ygAxgl+BNv4GxJ9A/T+sQl9DUEZR/Z8A2wPNRWo+9X/RxRu+okAV/6uDgL3vvh//xIBfgKt87r/4vJRA4Pwm/6m+6j0RgI4+lgDp/ECB+P28PmmAxb7vvdoBcsAF+4YC3r/GPEp/DgNz/6e9kn/WgFT/p8BbPuIAvYJ8AO+BdAHUAE6BZgGnfvMDkb+kgMyDT4CeAGZCS4JMQJTA5AMCgmx/eoDQ/i/CBUEEPaiBpz8zAIWCc7t8P2pATr3TQMF+Tz3ywH8+5AAAPs59pX80/ZSAnD8Ofib+mUDDvwO9o4PnAQd7gkGSwcT+FoCQgbIBZ738fg+D6wK+PXj+OsKCwyL87gAuA3d/dj9YQCo/GECSglh+u3zLPxvAZMDgPjj9+kAY/iF/yEEVv3l9Jr9kggY8y/0qQ28ABbyzv0OCH4OwfRe/5oTSPASAOwSi/xU+PkH/Qqv9vkDZQh4/tQI6P3Q/hQGuwPpA1304QG7FKHrKQChG6XxOwEH+t8HgQah6WISPQjN8N4HhQGA+o4QQfhv+j7/bAuj/r3x+hpW/RvlhQw2D1vz+vpjCnkPB982/QQdxPT29WkAUgs1AQ/qYQk6HwDjc/jcCiMA4wMs/74M+e519FsP1/yCAAoMo/Dt9n8IcwnpANXwpwQj9rX2rA/yAbIIA+wb7JoVE/0P9B0G0Ptj/LL/jgewBEjr0gSd/MLv1RFEEEf2Buv2AnwJh/jO/RsEIv9rAUD1jglfAufwTwhw9UUEQBJk/BL8FP7U+U4OeQKu+34Mlv21BiL+vAALBqL6pwMWBSD9tgXRCpfurvvZDQ4D0/zM/zYMKfqn7z4Gww9a+nD34gqnCWD4BfP6D+ALUeZ1+WcVjwYa8BsDMAHQ9TcFdv3QCosCIvS7/o8CR/uLBIX7Y/7hCirw5AsHC2v3YPox9k4JVhAj8B7/gxkW9UXuSAShEL/8iexiBZwJHPuR/tMDU/sk8WMBUgoL+2MAJgeg+aD+Z//yCEIBQfCwBM0B8gqTDFr76/cV/J//bwfB/eUCTwRl8i8OLQF89UL4WvyrCL76ygTnEpHzN+IYBcwQ4f1J7sUF/Q9lAZf5IfzMBhf4yvQrCrQLDQuSAJfu7wSp/y/6dwMh/tkESAGH+JcFmP8T8qb8a/9SAwMDlQLOBKv4YfUcA2sEkAMtBhgEewH+BGgDl/3M/P8ACf8IAVAG3QuxALH6afxJ+KYGjAY7/1/5IP+fAXcMVPqX9WsFwP4zA98AYwkGAwzxmvstE3sHCv19/V34RQZxBor9ZgBR+cf8PQXOCa384/X3/e8BBQCk/YYIGPnp8QT+6wtqBZj2PfMXBCQKQvXS+8ICfvz69BcAvhMKAw7oG/HmC04XwwWp7Tr89wa0/VADPQmfDc4AhPx/DukQHf5n7+/4JAoqEQ8LewOz+2P+TgNR/1P/WgLcAc36kwQVDA4B0/e59ugBZwqhC2oHzPjd8/AAhgiIBRH85vuHA7sDsQXoBJL30vHL/McGNQjPCUEH6f/v/CoACgN1AIb/v/9t/qgByQrZBWH/r/kY+rn9uPw8AMX5z/FT8+D4t/t0/JL1hfMQ9f/0gPh1+S33pfGn8PP1d/0l/cj3yPft+uUDJQbk/77+3Ply9DYAiAzIDC8IvwANANQBxgaqDPQKxwZLCCgQKhJoDREIPQWYCNwQnhw0HLENrgOfBDwGhwZhCdQLyA0EDOgKYQUd/7f89vok/nIFFwuMCmEC0PpE9xr9lRR8MUk+MjD4G9ETehlMHSwUXQ13EmMmnDkNM+0UG/AJ2QvaZet1/ib4RN4G0ObMi8J9sWun4ajKs2nFbdii12vF8LeotOLANdiX8wIEAAgnDokPVwpqBm4M6BXsG0Yr1znrOqstWxaLA+QAGxCcHqkdWBWGD2oG5/b38eLylvCm8K/5AgwsEnUHIfv196D+SgzFGIsfKSThIE0cBRbAD68TaxXCEXoQBRSLF8MMsPhn7I7p8e1w9tn7//d87hPoeufS6i7t1PDr9sv/VgoKD34M1Qe2BfEF+guRF8IkqikmHTAO+wvHFGYbaRdlFFIVXBZEFmcOkAHj8WzoZexPA2wzhVseVRMlWP8LA28VwhcYC+oGoRU3MJ4+BSwZ+XfAb6rgwMXtmgVl9s3VH7mMpbCUOYw9kxmmz74y137mReKCyZ+rWqNcvAboKw/2Jl4xlS0xF5v8lfOf/FkMDRvrKPw0mDNgH9L+ed0LzLbSOe0qCgwWbQ1J+pLtrOdb40/jQu7RB0QlnTs0P/4u1BkYEKwUXiEKNEBDekeAPTwu8R8QD8MB7v0hArwI+w4fDPP+O+tT1wLOj8+42x7pd/Tr/QEBc/g+6fjmt/D9AKkPfxqLIxciwBtAE0gO+gyNCW0MMBY2HbIVGgVk9/PvVPBj+GUCfwQdAiAACf3B9/TzkPB47TYAPzHdYV9rCE0zJgsSFBPZF34SoghNEfErdj2fLrz9cb7+lDec8cLl4xjn89aAwJKqg5w7kamO1JxnviXnEwTbDCD9m9/QyhvO9OLD/5MhCzz1PXgmmgSs5gnbtOAv6pLx6Po1BRME2PDy09y66rTGypLu2QwjHNIe5RlQEo0RshZyGUofyDHJSIlWdlN5QE4mmRIEEGIWORxKHSoa0hO9CccBcPdH6d/fAOQc8mUBlwkOB4AATPr49QH2av4jCs0RNBRXFX4VmRMTEfsMYwrBDO0UdRvLFhILfv3F88X2VQB2A/v/+/zB+QL2Fvd//GoBqQYsD64Y9BmcEMz/1vD498kfNFbqcrBlF0OgIU0H8fNr6LPqeP1HGBMqASKE/JzGz5jpioqfK8G323zmUuFx0Ae5Pqa5okauBMdT6JoJ6RoHFMj91OTo1+DaVuk4/S8SeR5JGpQGTe0D2Q7KgcXl0JzmgvoiBQIFGPjh43zV29Yo6iEHNyGBMlA4LTMiJ94YBBLYFBEgEy8KOkM7DS7wG1gONQblAosETwhqCfQFJAF/ApsGLAPz+8b5rP6vA6UGOwyuEEUR2w8vDpsMYAkjCMcLNA8eEy0VnRTTEaIMPAg+AmIAvgFNAD79T//iBXUFsv8+/aQANgXhBggGTQYmDFYUJRnrGVYU0AbW+pb5SgaJIpNKm2fvYcxECCUmCYzukNik0xzkqwTlIS8hlfw3x8OajIwKovzCjNRU2YfesuGO2KjGQrgftj3JVuzOCjgWOg7N+5nqBeWx5XnjvOIc6Rn0Z/v0/UX36OF+ys6/lsRu0uviePJE/Jv+lPsP9t3zNvgbAIALRhsTKjsviiopIrAZDxdbG3keEh3zGZ4WwRSfFc0XyxSpCjkDEwGB/sz94wGoB3gJqggXCxoNGgsHB/QEvweFDfITTBkLHGwdwx64HN4WBRDoCoYIogfbBxUIGAZ0AUH82/UN7prsxfSD+6r6B/vhAIEFkQX6CLMQERUEGbgd1RwmFeYIO/mY7NX5eSrcYHx5x2lHQWEYdPjJ24zCUr9K3vwMqCtjKLsAJseAoAagsbRKxYPRBeRL+rsGCfzb3ebDYcNf3Sv9PQyOCVr/0/lh9p7nytFGw1zIp9xv7432F/Eq5SPYtczhxz/NEdkF6uL8cwlTC70DRPmT8tT0oABdDY0W2iD4KWYnxhhHDKEKCQ2sDQwOyRASFYQWkReyF48REgSN9qTzI/nX/44EEgc1CVINCRLfEv0MrQSOAo8IbhJRGPsYMB32I/ghIhUSBvf9S/tT+vj6ffq++an7SQJuCHoE8frZ+DH/ywQ3BNAF9Qt+DekLdg73FYQclB4+Hq0djxmmDdb6sfFpCPM7xW5HfllkMjfPCT7kwMknwD/NBuw+EPIokyK7+13LgKwrqc+1CMge4nP+GA7QCKT1ROLO0ufN9Nbn5tL0xvsg/Ob1dunw20/QqsmEzIjWLuUy8ffzfu515A/c2dp74YLsMPQ0+TABNgYXAwb7/Paw+e//3weIDxEUZxOvDnsJYgl0DWAN+QglBe4F4AnDDVERZQ8RCHAD6AOfBD/+KPM07ur16gZ2FNgX+hX/E10RkwzSBYkBqwW3Ehcfhx/DF7MPBghIAVH8ufj29rv6gQUnEWgX4RMSChwCMgHuAqkE4AtYFpcagBi4FkET/w5EDTsOMBJhGHgaSRG5Chogvkzwb85001upMdQGKOeU0mLGkMhc37gE7SP0JlkElc/fq/GlS7FlwD7VS/G/CGoO///Z5yXVxdDS1z7ijups7vLvh/IH8g3mudDtwePF3tVl5Gbs9+4a8HfvUepY4lfcrNw445nuq/rM/6P8Cviu+HP+IQIa/0L6sfwNBpgNPBBWE5QWPRTUDvcJGgYJAx4CtwReCIQKTQkaA8P7RPcv9I3zTfiVAlAOiBY0GpAalhaoDqsH0QbADKUSDxRVFHAVvRTlEXcNzAdRA7f/iv6RAk4LGRL/D54KSwphC5YI7wRKA6gCBAWQDbwXSRxkGv0UGg4RCfEEBgFVCsYtNl0Pd1praEdPHYP3Bd2uzzvQbuCX+4sSYhjBCxvy9NbUyS/MNtAr0WXaovCOBWwKvv6Q7Q3krebM61fqVOWl4zfnau3Q73rnf9go0OHT09v131Pg2uBG5lnvSPN17pfoSuis6zLuMO9w8J/1xAFdDIsLlAE/+Mf0x/a5/TMHaQ9hFOoUrw6UAxn5JfNS9N78rwbcCsEJVgjqBbv+kvZm9Hv6ngWhD5MVbhZfE3oOjAhKBY4FUQhvDdoTmRhFGUwYaBXCDb8EfAC0AXAEzgf1C7UMyQnBB2wGWwQZBEIGfQc1CIILpw6oD/YQ8RBsDOMJ1w1SEeQUeiekTEZtyHEfWVwwJwgC7CXa7dEu3Jr4wRS2HucUu/u+2rjDucPT1MzlR+8G+IgDzAquAjnsVNpi2rvlB/DM9EH1xvIj7/nqg+O414HODNLI4YDvKvCy5zXituNm5SLl7eb27PT0V/qR+oX0kewr7JP0Ff0TAFUBYwQsBZIBEv8jAfYFdwpJCywIgwQbAhT/vfqh+v//LQVOCAcJIgU1/1j86/t6+379xgRZC8oLBwr4B7cCYf0t/+AGVQ4rE0MXwxktFxcQKgloBl8G/ganCVoO8BByDf0FMwCm/Hb5O/lc/44J9Q9CEdwTMxgTGNkQIwgCBmoN8SAmQdZi53M9aStJ1iOGAXrjvtDV0zjs5wwmI4kh5grM67PQOMOoxkHWWufP85sAygvJCYb6Sum93wLe8uH36XPwSPRn+GX6JvZc7L7hjNsD3YLj2+XU467lleq67I7r5+s870PyG/OL8EjrQueE6cjy0v4vCMcLMwy7CvIFZv5O+Y37PQJUB90G8QKZ/0X9R/uI+kj8IP5I/eH6ovdJ9er3xv6tBKcGPwZmBb4E6QT4Az3/xPnn9yP7yAILDTsWeRmuF+sTZhB/DlENfQxxDRARDhS0FJMUqhE8C3QG1QYECFQF8AEbAjcGrAzlEOEOuwnqDHEjU0tKcPh1lFfuLoUSov/W6rXasd8p+9QZZyWQFof3J9xPzt7LJtLi3R7q6PRKAEoHpgHs8uPoWus58jHxLeh25Brup/qI/Pn0xe3Z6iXqKeuT7Rru7uoz5xLn6emH6xbrV+uC7q/yifGg6wvoH+lV7Xb0Jv51BggKMgosCUAG8wAK/Kr6BP5ZBBcIEwarAT79Zfc+8GLsJe1g78LyM/eu/PIBigTEA10BrgDvAMr/TgCNBGgJDgwoDOYKqAoMDFgL9wZGA9UD4gUwB8IJTA4IE9UX7RsGGs0QfQdPA20B4v9IASEIjBElF2IU9Qh+/cEAFhuARLhoiXSmY9hCLCDfAIrnutq/4hv+Lx0KLN8fWP9r3AHHp8MezOXWgeEy8OwA6goEB175Me5U7FTvt+4W6unpIvThAdQGHf1G7BDiP+T563Dvu+067fbwTfNQ8OjrF+2n9ukADgAP8+riBdkd2bbhT/ASAXYP9RbCEgkEpvMr6u7qEPTUAK8LGBHuD70Iv/0C8/Lroega6HXq4e4l85P1Afbo9D31APnr/UICBwaSCQcM0wt0CUIHqwdzCuIMYg0SCwkH9wEE/bj6rPtN/xMEKAi8C3UOHhDCEDsQZxBEEUAS5RKjEg4R3A29CuMQrSr1URlwXnFmVxYzIxKB+EHlqt0l6rwJMix/OsgqvgXx3v/GycLayWzSn96k8RcFggyDA8z0mu6q80v4FvPC6TbpPvb/BqYMKQJc8Ebk/eEM5KHkSeR66AvxcffD9drtQepc8qz/3wMq+ynvzupt74D2XPx5AsQJtQ7YC3cAEPIc6NbnrfCk/B4F5AhRCpMJ/gSH/WX3SPVy9Zjzi+7b6c/peO5I9Hn5aP1j/pD75PZC9Mv0f/ba+P/9tQYWD8YSlBFxDkULMwcoAcj55fPp89f8IAtFFTgUHwov/3r5SPoG//YEpguTEhoXnBQCDckODif+T0xx/3V8XRA3VRMt+HDkAduE5SMG/ipNOSEkf/jM0GO/vMIezPjT1N+/88wHPw/TBn35RfZJ/wAGn/6b7nbmu+9eApcNgwhk+jrwS+1e6srh8th+2WLklvAP9MDvT+9L+iwJeQ3lAlzzNOzS8fb92AjpEOoXfxx8GLwIafM65DfjNO8+/0sJMgp8BUIA/vyh+wL73vrv+hL57vNk7QXqrewI8634PPuP+s/3bvTF8lb0bfcW+ob8+/85BAwHWQdXBksFKwTOAaH9Hfi88yf1cP7hCs4SthL2C5kC6/kl9PPyvvaP/2YK8BBuD0wNphnhOIJci2+YZ6tLmCsWEYL8sO4h79IEHycKP7M3fQ/n2wK4wLAtvFDKltb15Hb2nQJvAfn1S+7K9P0CKwmHADjzSPFy/ygSJhoGE6UFEPuJ8Xbj59JDy/HUTOpI+//8SvUw8qb49P8G/hL0Y+218av9RAmRESkaViTaKREimAt38UDj6+cy+cwJ8xAbD4sJsAI9+kDynO/W9L/8/f6L+Ajv7eoE7xP3Nv0w/nn6S/Tw7XjqJOxo8zn+LQiDDKsJzAN2AGYBpgT2BmkFzP9U+ODyqvMi+7cEKgvnChYE4foT80rw6fRkACcOpxXhEQYJWgn6HEM+VlvOZUVbEEOdJewHxu895+r2thpcPXpFGCo0+d/MvLY6tg/BrM5h3Y7sg/Wb8i3o1eI67Bb/JAwtCdH5He3H79oAxxT5IPoiTx3lELT8F+NhzU3H49Tx7DcAfgYZA4n9A/n58yXtx+i67Ez4ggR+C2UOPxNGHIEjBiGeE24DYPqQ+0kCgQgCDQoR0xP3EKQGOvli8BfwIfXU+Iv3t/KQ7lbtF+4q71nwavKy827yJ+4/6pPr2/NhAAwLCBBED4IMlQoJClUKzQg4BQIBNf7f/az+Vf61+2/3QfOy7wDsIep07Yz2NQGLB9AHRQghE04rGEmGXjBjKFh3QpEn7Qpu8/Xsx/7FIBc9Az67IGf0Ds0+tyywsbPvv5nTV+oP+Pr1oOmp3v3eHeku8kj0hfFZ8gD62QPKDDATLRlBH7cfgBXeAFjrSN6F3SToMfcWBXoOnQ/DBl/14uEJ1dHU5+BB9LoIuxk2JKUleB2SDkX/Tffn+YMEQRIkHY8ioCLfHVYV2Ao6AX77Bvo/+138I/xd+0P69fjp9mrzB+9g6jbm7+Nt5EToSu6a9Pn4hfuT/RUACQQpCPMK+gvAC+MKZAniB0oHwwc9CNgFBf4v8rrnk+K54yDqlfEX9yv68Pq2/LIEmBY/MQ5Mv1vhWhxK3TCiFyYE6fv5AiwXny+LPMgyfxVN8J/Qa72BtYS22b99z7XfPucT48fWRcxizKzW6uM27v3zd/gb/toE3gs/E+MczSb4Knsk1xKf/R3uw+ns8Of+mA0gGBsakRAL/KTjltD4yfnSteZu/hcSVhtdGFkMpP208yvyvPm8B3cXVCT0KlsqXSU7IFAcqxi4E1QNkgaIABP9TPxp/dn/6AAR/oX1see32F7Njso50kPiUPYjBxAQ1Q+cB0f8UPMj8bP3PQVKFWkikCiAJpQcxg2u/IXtWuQu4oHkJOhF7PXvLfIZ8t7uEO1z87AEkB4zOAtJPU2cRXQ20iMVE94JzQwWHMgvtjwQOrEn2wvK7uzVGsOluK+4HsOz0oHeat8s1sfJVMH6v+3DisqI0wLfDOuu9Mf6xwCaCh8ZtSeUL00smx8CEYEHogZHDdYXcSJOKSYocRs2AzDlvswAxLHNeuRp/aIOKxNMC9D6h+gR3MDcA+6fC2IrwEHGSBZCzjQqKIofMxt6GkkcgR7RHiga2A+EAiv2f+3p56fiDdyX1AHPtc1D0abZTOZk9fcC/wntB9b+k/Tu7+v06gIzFUQmZDCrL50jlw6/9snjBdy14IDtf/t+BPkEufx076bh49gb26DqPwXRI348ckhKRdA1iiDECxv9rvlIBIoacjQ+RoVG5TOPFAXycdTOwLa50r54zInbzeOG4MDTdsQIuoC3ZbvCwUjIWM+H18XhqO3t+soJhhnWJost4Sq3IEgVGA/hETscxSn0NL45njWvJ9sR6/hF5MXagN7864j70QVFByMAjvMz5hzd093C6iUCkx3KMzQ+DDtGL1wiYBn9FT8XbhtuINciMR/qE0cDe/KI5sbh2eJE5o7pousv7KXrbuqx6V3rSvDi9vr7K/1r+gb3yPYH+28C8wnKDpIPqQscBLb6+vGC7VvvO/fqAZkKdQ08Cef/f/Tc6gLoye8ZA2kdmjWxQvE/FS9XFhP+2u3F6yD6oBQ9MiBH3Um/OE4ZnvWd16TFMMI9y73bQ+xD9Cvvg95YyO20MqpXqvCyv78HzcnYsuLa6kPyfvquBFcQchuBItIjhiDEG5gZiBw1JL0tEDUUNswuPB8hCrD0muRz3sLjYvGcAHUKwAowAnn1iuqJ5hPsmfqYDuMigjEoNmIw/SPbFr4Ndwr4C1IP+xGIEqoPMgli/wf1u+0c66/sju8K8Zvw6u7o7Yvuk/Bj8zb2zfip+g/7+Pn991r2e/bJ+KP8bgDRAgcEPgRaA5QBtf9r/r3+xwDAAhADHQG8/Qf6lPb59C74zwISFJMmtDIZNLUrix1RDhMBVPll/OILbyTbPKtJ50RyMJYTQvaA3l7Qr82m1aDj+O6o79biC8zhs5aiY52XpPSzrsV81DzeTuPt5rjsKfcSBlIWuCMpK3Qr3iV6Hq0aQB4TKKYynTaSL00e5Acz8/DkQ+D/5br0hweVFuMashET//Drb+Cm4Ofrd/7cEwImETB9L3QkXRPEAnL5aPpKBJwRyxtJHzIbVBGWBZD7FPVV8mzyMPPV8szwbO7C7ebvVvRP+Fj5MPav79fouOTx5dzsPfe9AREJZAtfCIsBUvr+9RH2QvrYAFUHVwu6C1cI9wJG/qH7jfpu+ez3Xvj+/kcNSiDQMYE7DTtLMl8kGRRtBan/mgnzIkNBPVSMUI82SRGc7YTTRMXrwVvH4NAG16XT+cWpswWms6MyrUG9Nc3a17Lbs9xy4PfqHf0BFPQphThKOwoy3iAFD2UEWAbyE24lfzD+LYcdnAX57mXgR9xd4b3sMvp9BP0GqADO9C/qMecl7bH4OQXDDxEYZR75IYkiwCD4HkEfEyEHIgogMxvxFCgPDgqEBFn+aviA89jvtOw76cjlLeMt4tvikOT/5sjpEu0B8Qj1Rfhe+pP8gv83A7IG4AhRCSIIdAdBCAAKzgs7DYMMuwd3AIL5LPT68OfvaPB08Sryn/H17nrruuw0+x8YqzrTVcJfalcRRWMzZicFII0eECgzPAhPhVCHOLkNpeLdxwa/7LxWuUe2uLizvvDAPLvEsKKrsrN8xBjR/tOP1BTdnPDUB44YCh7cHB4dvCBhIXcaxRHQDwEXSCE1JSgduAxc/Qr0u+3/5TrcTdRH0g3Wgdws42zpY/B799r7+vtv+t/8GgZWFCAkIjLVO0pAKUDJO2IzBilJH3QXoBGRDcELEwsiCSoEXPrr7BrfVNQQzxvPHdMf2oTiOuoI8KfzjPWG9jT4PvymAhoK3RAxFlIa4Rz8HF4aHRVBDr4GqP/S+Uf1WPEj7R7pi+Xu433mtOzD8mn2Qvg7+G/3rfjH/W4FdhOfLUZQ/WxCdgdqiVDXNjMmORwlEo4M8RWyLJ4+ejkgG0/xD8+Pvnu6ULcFtGy5fMmn2Lza+M/zwtm9rsLJyqnOltCZ2gvwCgeZE5YVIRUaFzcZWhadDGUBdf9XCYsUMBaZDnAF2fwv8BPcS8SEtIq2R8jX3NDoveye7k/xW/IU73jqouyu+6YUAC1wPE5DpEY+SDNFgjoDKtIaOxTeFhgboBhjD7kEIvvi8AHlC9oO1CDVvtsn47Tn4uq67/T1/vlL+qL5qvswAcMHEQ3rEAwUzxXGFegTVRHJDqwMFgzAC7oJGQXU/mb5Xve3+ID6K/m69V7ztPMl9/v8PAObB0sLkw+5EugRtA7WDIUSVScoSpBpmXBSXj1EJTHWJXYbeA7+AzMHQxoiLJImoAZU37/DKLgNtkO3Orrgv/rGNMvVyNTBrr2YwB7I28/g17Tj1/KFAKYH2wZrAgkAkgGDAz8Bjftd9wX4Afy0/Pz15uq94D7aedaQ1J7U/dX42VTgYOYL653vv/Qw+Pn5C/74BuUSrB6gJ50ssS5NL/gusSzdKM0lsCQZJQ8lQCN8H+sZ4RIPC9EDo/3Z+N30zvDF7fPtVPGZ86fxlu6F7vbxjvdu/UoCKQVkB5sLVRC3EvESwBKQEx4UMhUcGEwZnBY1EvoNxwg3ASn7fvlX+tb7nPyG/Jv8/vqR94n0XfWx/DUGZA7GFP8Y+BsfHIcWjw4tEYUqKE2uW8pPETsDLlsoeiDCEjMCPPwbCqsdAiAVBy/hX8cpwTPGzcw00PjOcciKwGG5DLAPqCioEbFHvuLJCtPt2kXgzOAu3EnYNtx+6QP7JwaUBkMEygb7DHAO5ATl9NXpXerG8Q/3Sfa472vmo99C3Qzd9ty+3VfivOv79rABUAxAFmMchSAsKEAyKDpoP+9Cb0QzRPBDrkLzPWc2vi5rKfYloiHHGdoNYAEQ92nvSesI6yHtr+0T7Djr5eoR6mLpuuq28Kv66AWvD8IWaxw9ILUhiiGrIMggzCFGIjAhnR8bH+IdqRjFDx8E+/X/6JriaOJd40PlH+q27ofw4PI+82zuHe5F+PkEGRGaH4Qq7yidIIIdBiEqLllGiFZtTDkynR4PFtMMaP4e73nl4+in9XX7le7k0k64NqwgsLu8CcYyxqTBt7yeuWK5F7mbtru0fbkqxfnQxdlB337gXt9V3+fkbfFqAOgKCQs7A1P8Cv2FA94GEQSfAOgAigS8BnQDB/pe7PTgAt7h5C7yy/3QAtMD2QX7Ch0R7hRjF2sdOCmON8dFEVOhW89bC1ZTUEJMrkdSQlU80TTMKxok/R3uFHAHe/e/6IjfatxX3c/f5uFf5OXoePDr+fIAMwQ0B5oNixaAHswjsSW1JTQmlyfwJrcg0xVJCysFMAOjAvsAwfzg9rfxVu7m6zHqNOpC6yTrbelj6K3pDu1u8VD0+PSC92v8GP7P+wr6Mfs5/ZH+hgB6BSISmCPMKhgfXw3kBhwLXg7rCzcGUQG0AAcD3gA99FfijdWb0fPTndck16rPusPOuN+xSbGot3DAOsYQx0PE9sCQwbHGycuqzlzTsdw86qj5nQQ2BqUB5v8yBncRwRqVHh8fCCAFIkYkfyU9IwMcGRM4DR0MQw4MEPwNMgn2BRIGogeCCYwLWw51E+UacyNvKlIuyjALM1E2WTtaQZxGLkj7ROo+ejmINhA0FC+yJwAfNxSMBz78dvRl76DrQOgU5vPlAuhU63vtvu3V7Qzv2/G79pb9bwXBDA4TuhdsGbIX2hOlDwEMrwi/BRADEgAh+xP0fexZ5MfbONX30lfTSNN+0h7SytOF2cHh/udS6vfqCOwu7pbyUPjk+6781v0vAsYL5Rt7KncoARZgBe0C+wjfDnMRmw6RBzYEagagBBb6mO1H5c3gO+GG51frFuT11X3L7cjWzLbURNrP2JHTnNBq0CPROdWo3BnhZODs4E3nMfF/+a38Zfs++uP9SAYOEGgZ1SCnIuMepBtoHQgj3CibK3wq0igJKiMtZi53LAApSia/Je4mXSihJ4Mj8R31GrAc/h8yIm8krSasJmcmayhFKaUllCD4HDwYQhPoE7MY3Rn1FlUTAg3dAl/6qfX78NvsQu2E72buQ+w77Azro+dL5lDneucj6AbsefBB8iTzDPSV8QvskudZ5YDkveVZ6PHoTudl59Xpverx6S3ql+uV7VTxt/YP+jv6i/r/+6f81PzZ/Of5ivOu7h3uS+0a6svnVueF5ybpO+729O34EvnJ9xv3Lvlf/twEWQpXDa8ORRFPFXgX0RUrErUP6A0EDBQLYgrJBzIDKP9v/C360fhH+Jz1APD86pfoSuf65SvlseQq5FblcOgQ63fsru017yHxk/Q9+lUAaAVACuwPzhU+GxYgxiMUJkkn7Ch3K6Qu5DJ8N5c6BTsdOj45rzckNasx+C1zK2AqByneJWMhpR1GG7IYAxUJEO8J5APT/r/6g/bp8Z/t4Omu5uDk8OR75WjlMuVL5e3lGuir6z7u7+6O7/bwlPLn85j0B/TP8Rvvuuyu6jbpGOiV5m3ksuIG4gPiaeL64lfjH+TI5tnqCu7f78fxs/Nk9PP0kfcH+079L/6t/TT8/fp2++v8hP0y/Xj8f/u5+sv52Pdh9Rb0mvSV9Rr2Dffw+PP6vftr+6X7c/1jANEDjgdQCwcObA8REVoTrRS0FCAVnBZ2GBMaYRujHHUdlh2PHFIaBhh9FlkVGhTBEzUVhBeFGBsXSRS8EEIM5gdvBFYB1v4q/XP7tvmn+Av3h/Pi76vuCu/470Xy/vRM9kv3qvno+338Y/ws/eD+hwGABWkJZgxYD1sS4xMZElAONwvuCIoHYgi+Ct0LpgreB7ADUf7C+HTzd/H690EDcwUv+6ryq/RM+Gf23/aQ/swEDAQ0AnUCq/8p+IHy7/Ng+Q39g/xN+BTx3OYE3MXXat085tPp2+Z84b3bEddE1qjZ1N6Y5Enro/EN9Tr1//J67wDvefWyAGYK7Q+REq4RCw2HCMsHCQppDI4OjBG7FLsVpxM/EJkNSgvKCN0HMwn9CrYLHwygDOoLkwn/BsIFJAZ8B2EJWQunDeMQ6xTjGIIbFhzSGi8ZBxleGgscrR1/HhUdsxk6Fn4S8wypBrwBhf4D/LD6zvq0+i75ovap9LzzYvN986/zevNl8xP0FfXu9Zf2PvYh9KPw3uw46WHmi+Uc5sTml+de6Kvn4eXT5AXl++Vw56zpwOwB8Gn0tPnt/cz/+//vANcCdQTgBY0H/whMCj0MfQ7XD0APjg0fDIwKAQmiCKUJOgsoDEEMoAuiCSUHMgXbAzsDgAP0BM4G8gcRCHMHygVDAjP+g/uj+sj6qPv4/K38cPkH9Bnvpuyv7I3usvEU9an28PXg9OX0bfVh9kX4jfro/JH/wwIFBv4IuAuIDXgOrA+bEaMTgRSBFIAUbRS1FMsUPxR7E7sSVRKxEe4OeQpXBlIEjQTyBCEFqwSIAi8AFP4a/GP7ofs0/F78Wvxn/WT+Sf5g/jr/GABqAIT//P3C/Az83f0eASQC+P/p+5L4TfYS9bX1bfa39kH25fRw9MrzGfMK823yYPLA8n7yafIn8r7y4/OO8gTzv/Sj8xz0R/TI8+/ybfAf8m3y7u/98HzwU/F58+nzXvdp+Pn4H/xu/WMApwKOBDEIkAhXCm8NWg9YEsQTLBbdFzsXthhgGowcBB7XHbUeKx2QGkcZYxcEFWsRhg56DbsLbQrXCaoIBAf2A8IAzP60/XP9Wv00/d38kfut+Xn3hPW488zxJfGK8V/yqPOA9K/11/bF9or2oPa995z5Yfuv/RsA5AFtA9wDbwO2AyIE6wQYBokHqwg2CdYJfgqSCo0JcQiLB7IGpgWXAxEBQP4I/Af7q/lt+Ij3SvaW9BTzJfNg817zJvQW9br1nPZa+Dn6H/sY+8f6nvq7+v/6PvoO+BL24fX492n6fPug+sr4GPiJ+Lr5b/tc/tUBRQRYBjsHCQeFBicGVwdQCJAHAAYBBNsBt/+T/rP+5f02/Bv6A/fq8+DxDfHI8O/xH/Rs9cT1l/YL+Mb5l/uV/SoAsAK1BSoJXAxHD0ERiRJkEp4Q6Q/iEMYSCBRLFMQUkBQaFBMU8BQ7FkoWRxUkEwAQng5GD4MRIhR0FAoSMw0dCQYHIAXXAi8AAf50/XT+pwDEAiQB7/s69mvzi/L28Avvb+1I7DjrLeqf6P/m2OQP41Tiq+KG5aLpGO1w7vPuM/BZ8sL1Bfp4/fP+HwDSAW8DyQRsBSYF5wMMA1YD+wNzBGwEdQNeATv/Z/6h/s/+wv5+/vr9Jf3Q+9f7LP6jAB4BCgA9AJIBDAIUAgkCYwPfCTgU7hi7EpIIMQWxCMgMtw/jEH8PEgz9CWIKVgnOBVIDyQMLBWEFCAXvAt7+5/s++0v7/PrU+db3ePRK8Z/vYe7w7V3uAe5M603pTutT79zxc/Ks8lDyGPM096j8vQB9A/oFAQjaCCEKSw3CEPMSCBQaFZcVUhWMFWEWwhYbF3MY1RhKFr8RAA5ADCML9QmKCaoJKAgHBRcCuv9P/WP7Ffva+5/8VP3Y/Xv9FPva9x72pPWH9bL1EvZ49XzzTPEM8KnvUO/n7nPut+6Z79/vvO8F73XuS++r8CHx6fAa8fbxAfOy80r0jPSK9QX4GPs+/jcASwEpAmEDbwX2B5wKtAyqDfwN/w4sEAMQRw4RDVUOaQ/ADXILXwvcC4AJBQY3BQAFNAO/AkkFTQb7AYP/FweMEo0U1wtGBLoFWQwMEuAUKhVyFK8UHRY+Fm8S4QuqByMJbw5hEFoJl/z88Jzq3+gT6oPr2OiO4EzXhtLp0QPTK9Vl2E7bZ9yF3D7dFuBw5dXrOvGn9bb6zP+cA/4GpQu1EKgU7RYRGHgYcBhIGbQaXRtJGroXmhNFDmgK7wp7DuIPeQx7BgYCMAG5A/gGQwfRBMECOAMLBQAGIAWYA5AD1AU8CC8HeAKE/Zz7Iv0QAPgBBAGf/RP6kfej9qj3Zvl3+dX2rfMI85v0B/Z69tX1E/St8mvzcPXL9XL0a/Qj99j6Yv2Q/vL+if5h/ugAZQZJC0AMeQoiCmoMPA5+DdIKsAd3BRkFWAZDBzUG3gMJArkAK/9j/d76Nfll+3b/U//b+hP5Sfxp/2L/Vf5Y/cL7iP69C3EcESCGE80G/gcDE70b7B2MHJ4aDhmRF3AUhQ6NBvT/cP9OBeoJXgPX8TrhSdv73SDiXeMS4T7aVdBkyqfMNNMu183W0NW+1irZO9xz4N7l9Okh7K7v/vemAhEJeQk9CRANnBNgGaEdbCA5IeQgTCGFIkIioR+5G6kYoxicGh4axxRvDs4LXwvfCd4HIwfGBl0FAATiA48D3wEqAGMApQGFAcX/I/7H/ZL+l/9ZABgBGAFg/578Rvuc/On+8P+M/5H+1/zV+uz5pvpb/EP8NvnS9cv0TfaO+Kf6efzc/HL7Mvrq+oH9ngAxA3cE/QMjA2QDxAOKA1EE0QYKCZ8JmQlTCSAI6QZPB4kI4gccBZQCFAFGALsAKwKIAUX96/gd+Kf5NfqC+FD0bu8H7onx2vWA9gv0VPFx8Ovz6/xuBWYFSv4t/JEETg7OD3ULNgkCDEER9RRVFBoPJAi9A+EEHwqhDdwIdfvi7YroJ+rW6nXorOb45IDgqdpK1wjW19SZ1cna/eJ/6fXrqusM683tiPWy/2II9w01EYkS2xOqGPkfxCQXJQUkzSNbItoeLhxuHNUdSx1MGmMWNhKyDb4IewSjAwsH2wqsCaMEFwEgAd0CJgUZCK4JegjWBu4G9wf2CGEKKAzWDEwMbgtZCcMFLwNzAwkFKgW1A4IB8P1k+Zr1efPH8dnv8u477wTvl+1C68XotOfv6LnrVO7r7zbxIPJO8j7zOvY5+gT9m/4zAG0BQQFjAJwABwJ4A0UEYQRaA9YB+QCrAI4ALgAm///9b/3f/Aj7Gvm6+ez6s/g09OLyuvXT98j2uvUY96r44vjX+CH5Tfmg+cX6Rvzz/bz/rQDHAPkAVwGUAR8C4gWqDdwSxw/PCLMGGAopDcMN/g2YDuIOXA6XDLsIHgTQAQkD7waUCpMKdgVt/dr4qvm3+oT5DPlX+qv6n/h99XLybPAu8V30W/iQ+2n99/3W/Lr75/0lBBUKPAwDDLwLLQs3C3wNBhF+EwoTNhCBDT0M3wvoCw8MiwsJClcINwewBHEAgf76/xEDHQXRA1kBnv4i/N78RQBvBGsGxQPc/57+UP8b/2r8OfoC+8b8p/wf+vr1vPG+7v7sRu2W7xbx8O+164boC+n56vjre+3x75HxCfPx9kb6d/mQ+H75u/uRAWEJ0gpdBb8CcQSuBZoHagxZDv8HVgGPA/YInQj1AWX5vPjaARkLWwv4BckAmPt59VD43wMJC30H6gFpAq8EFgZcAw/8qfy3A+AHmAfcBeID0PyS8dPxLP/WCTIIh/s09Ob42v0+/sz+hAEVA3AByAFeBZ8HtwQ+AJkCmwuqFa0XnA7YBc4DjQXfCiUTuBYpEBYGjwHaBF0J7AjABEEAnACFAd3+Ev2B+p31g/QU+l8D5QSm+9XwW+3b9PH7dP4dAeP/bP3Z/EH9wvve+QX+DQEhADUDfgYBBaIAtfpt/P4DsggyCLT/BfyB+Sn6LQLfB0IDnPkr9UD27Puz/AXx2+cq7TD8hwAf9E3v6/D77LjmKOqK/GEE9vXY5mnwKAWOCrn+nfBb9QEHsAx1CIQDYgXPCi8EgQCBBx4QaxOABdz7xQUDClAFm/8JBckMQQEd+br98wf/EjoGRPgQ/K8Buwf3DokQvw52BeL/wAQmBpYQBBGaAiP+8gPkDXEP/wxfAsbrvOkKAyEUYxJDAYPrHuiY95IIAAMa+Qz/bf8R+0v0YfZICvkIQPUA8oX8AwxODdT/LvR9+LQCJAGHAxYKWgf8/nn2NPcM+94Dvw5PCon4COpN81gJewwN+szq8OsfAnMNNQBH8/v03PRo6nLzGgfBDjn+Pegr7qMLDBJ79cToU/gHD7ILX/ta+l8FzghD+NvytwNyElgKovMO8tkKcRlPCSDy6e83BNIQ/gqdAfoCCgmpAhH76P17Akj//faBAMoT/wky8GXu/gCuAivxK+9HBRYQqP8U9Er+KQRY+JPsyf76F90Sv/0i8TUDKxsLCSHsePQbFSgdBwDV88sErxJlCwbsVOYkClgfeA2G7nPxVgicB0v4MvsBEPoRZPef62cD8Q4MDLQCJ/nOBBUHFwPg/Uz7iAX8+XzxewSVE0UQ4uxq4H/3BP4yAEgCLQeDAxvs/OYd8BAFBRXu/lPv6Or693wT1gsT+P3uxvjfDZkM6wZi/p74APuB83b/qxH3EJgD/O+/7l75gAbiE1MJn+2r5KP64RBUB7P1PPGm988MYgusAEr56+oZ9p387wHHCW78CvuYBMECqPY46nQAKBrSELj7fu1sBSEYvAbc9Xn6qRbNGE0C7QL0DcMSmAeM6KjvLx1GMP0WUu1b7JsDUQ78Ci4Bi/8CBD4I1//O+iYFmwcw9uDwHP2EDfMReQJf98TlpOYz+vwJ5BaJARHsu/B3+NsDt/vk6Br1bf8XB6MKb/vu/Uzyz+pR+Bn9Bw/iFR8BC/K57JP6rAwqA/v9fQBgBdgRZAVk/ksBaPNP87MFxRygHJACmOq/6WL8dg7CBdbwHvsaDH8Jc/uf7MjpUvff/NH6VPcl8WwFvQi39FPm3fCCGAoV/Pd88hf3IQOrB8v7PvqM/28K5A8GDKMM3vdU6lj75hHSGFEKLPmt+lsAyQkzBBL72gPNCNkM3AJCA9oSmQ4h+7rqVfYPGvwbeP3j75/+yAmf84ftdhQCF6f99+097L8GvRPsA/7ow+F4BtggogkL/3/3fPFG/f/4JwKBC1L/4QAPAqn+UAcUALb/cv9T9eEJQROtAE31w+lc+xwYEgziAi78f/SVAHUBePyp9NjquP4HCc0EEgdLAFH3SPFt6mj0ZwsyE7cKZPEK5DT6PxpQGJXrA9OI99AdVBnh/zzvC+tI8fn2+f9IBM0Q3Q5d8jPnrvKiCh4J5PMt7in9UBTxGzEJwPVS8jvzSADyETEVPAxvBLn/ffMF8VkG7yGsE8H0lfAOAJIW2hH492PrtPZmD+kVZvp98AsIDgvr9qHk6fg0H9ka5voX4dzm/wkOH+gQ8PrJ8jMAGhSIDPT3v/kz/gn8HAInE8wknA+66MHdeeuDDwYligne7RvxOQnGE536C+XQ8D0DPAqkABwK/RqCA73Xg9CcAkAttR7E9abhzfh3CrP0z+or8XQF3RJk/Er92AfpAb/pRdPb894YjxP4DFEChPSe7uHqX/yYAcH/+gdfAyEJcwUe8fzvGfKpA48OIAFHCd0IDPp587vuXP7qAoD2dQwYH0YPtfHK1h7ythUODqD+hfTjB1ES5fe77W4EiRHlBU/16AN2GmIRsfc56SQApBgiEP4APQUqB+UCZfJv6zgEkBRdGDQEdfPU+inqLfP8HBoOq+8q8p4Twyay7w/WFf7VE9sOr/p6+RIgqhfg7W/Ls843GYU+ARon9/3ul/l7773sIRBJEDb4rfFrFIIxfgkx1+TTpedwC+4iHyFcGC3lhMzt58UMaCCZ+EfjggNHEG0SbAGT3XPXTfXHF2Uh7wmZ/MbvYuDL6iUPTCDMAf/udfQ8CBMGz/gT/KXy8PIMDUUbmA9C8n/b6uytC2MXQRM7BXP+Zv94AM/xruU7ALsa1BFvBHv/kf2I8pzymf/l5uv9CjKbFZfsjeSACa4PVNMb3zEN/iCoL/kEWtXI4HIHhQ1j5ZLyzC5RIXjxSvEfArX9duUo9mIR9RQgH48Gt/Ag75ECKhWk7jXqmiFtN7Ab0uhW0K3wFg3wHMcVWQIrChT7qOI6+dsZlhH06X7hSQduKJMm8/o2zF7Of/zRJ+YgwQPS9N7q6OkT8PgMriCg/lrfPe15DjMkgAgr3j3bFvn2Fsseqgf48Rnw4PKt/kcFvggMAzXzFfk1C+8JgfjV6eb0eQdmER8GMPpz86nqK/oRDMADW/Vq/MAA5AjVBUf99vfk5TPvdAqDFDQKafXS99T91fdWAcUBywXuDNIDgvOX+90T8wlk65ntsQqYFf8SrwUL/cn6Tfab+j39kQc8EqMJ1PeK82sRCxVy+JD1+vz/B2AIsAJhB0MAA/TA9sgBKQqhCXABYflb9hT40v+NACn4lfuh9yb6kwuqA/zyLfgBAycBVPxuA4gTrgkI9MTxWPc8CK8P0Q+7EPT/5/NP9tH+EA24BXL4hf1gB+YVnxSJ/XDjtOW4/lEQNhjyEI7/NPE68YgAlANl/aUCsgLIBLECavkm/QAAPvUc7NDvPgHsFfMXqgV39knr2uMR8h0H+hYHELP0SuOl8eAIAxJ99n3WpPCeEq8agBL/AeHyZ+N053ULNRyjFTMD+OvI77EG1hFgBA3xvfHkArEMChKaBjbvFert9+oLBhQqBlD/fvse+LYB4gXVAR36vvf7CNoWIgp3+D3tC/eKEHsUffwt+hgMVwpl/ND8Twu0/QnqjfUnD4QZhw08+STuhvsZDUEI6vx6ArkJ5ALK8RP3fA7XD3oBBfV8+DoHwAt6/xL3Vfai9p/7WgLnCYAHG/ld7Jjs//trDWIKW/fy7Ej2JgM5BR4AWvu296LyhQbzFjUOYwFe7k/oY/MEC1Mb3gxQ+k37cvyDBoQLofwH+Fv3hfqdBD4N5A5sAq7vTOpu9goPNRQbCVj+6PKj+DT8nQC9CCkFfwNp/xT8GAaA/dzxavho8P/5Bg+jDv8FjvB17J/29PXs+1wCMQPZCVIFwPo98971bQNv+wX9VAb0CUMTWgdK+/z7MPVm+M/+fAoeGdQMgwJm+kX05wAuBpoE8glZC6EK/gOI/tAH+QRI/av7EgXMFOEJVARjB/L7LPvb9lT2ewexCE8Kfwcu+034p/CN9c0D+wGv/pb7kfjCAl4BEPuw96/wdfWB/38INw8EAlryL/Rj+en8v/ynAQIHkwNR/J/8PvlA84/zt/kmBSoFevtm+isD8QMs/FHz0PZFCVAP6QmaBE0BTAFF/vD2Nfa/AsAJHwoMB27/Cvst/HL+HP7z/cv+cf8a/UYDBQssBtT68O+18/wEjRF0DTn9Lvi7AdsIdQjaAV4AQAJrAUAErARGByMKiwP3+JH3rvmM/D8CxQLAAokCswCE/S/7AvwA/tL7jPc//3MMDBBqCIr5FvId9lv+owdGBxwE8QfSBcL9nvXT9Lf9RwIzA2gEZAXiBSkAy/hn9876QwFmBe0HIAvjBO36bvb39/b+KQPJBPoFTgTXBPwDP/xS8v/w9/vlBLAHaAe9AQv5R/Mc9ZX5OPs1+1/+uAJ/B0IG1Pv18EPsefdGBg0M8AvMBYD/HPsQ+J36vQHcBZwD3gHCBf8IqwOJ9Wjtt/M9AlIOUw0/BD77JvWW9IL4rv7jA+UFGgX8BJMDBQDw+t/1wPZ+/RoIAw/aDjcInPxA9v70V/1zCEsKQQmcB4UDiv4H/F378PuR/gsCrQTBCIgLxwS8+EDxJfQk/rAHQAxmCX8CV/x9+H32U/hm/7MF8QXFAar/1AK5A379nPaV9ez8qgZpCucHsQF4/BT6nPlX/JUBnQQwBdACEf8dACQA0/tg98L3lP3hAzsHcwV8AUv+bPvV+cz7gQCHBc4H9QNk/uH8xvy4/E/8Pv1vAfkEfQe/B0kE8P09+FL5N/80BboHHAUrAWL+2vxW/E/8MPsZ+gj8xQC6BHwEdgAc+lD20viV/nkEiwaSBOMBIP/x/Y77ZPqW+vb5Y/tD/0wF6ge6BUz/Lver9Iv7+gVBCl8J1AQzAJP+J/5d/Pn4PPei+sgCzQmvC6QIUQG8+Kb1BfraAFYG7wjBCbgInwU+AkH9GflL+WD+mQVCCQwJdAVsANr6IfaY97f9hQSZCfsJcgeyA6H+kvno9Rb23/tMAmIG5wgpBtwAI/uh98n52P0sA4AHPAgSBsUBYv4L/Nf6qvwqAHwDUAUXBPT+B/hE9IH2CPvI/oMCqQQMBpcEiwBL/M73OfiG+7z/vwSzBJkCl/9I+/b5c/g2+Mz5LPtOAAoFMwV2Ah/9T/k6+pb9ZAJ5BLYCmAH6AOABtwFw/4H+evxW/HX+2v/gAWcAPv2u/OH+jQSdBjcEkgHMAOQCGwO5AA3+nPxN/n0ANAGhAg4D1ABk/pD9Qv8jAg0EDgX7Bb0FRQQLAt3/Mv9d/wUAYwHmAeQBjwExAH7/wf3I+/P7Vf1UAEQD3QS9BCEDawHX/3n+Ff/hAKkB/QFMAkUC3ACS/vv8MP4bAWsC8QJbAtIBfQEy/0P94/tp+0T9P/9WASUChQBq/tP7SfsY/Kj8av0E/hL/pv8q/8D9dvzq+kn6kvwEAGECFAIhAC7+4Pzw/Nr9hv4NAB8BqQCJAKX/E/55/aX8bvwv/nQAvAIeApD/sP6R/S/9CP+nAVwDgwJJAX7/APxf+xD+XAAwAsYDwQQWBKoBzP+A/AT6ufwAASkFtAd7CJgHWwMz/3f9O/2F/rn/8gA2AwYE4gPGAkYAkP+P/ysAUAK2AnsCPQKbAPL/QQBlAXEDcQUFCHMIYgU5A7cBcP+X/RL9yf62/2ICqQf5B34F8AIM/0D6JfYR+J37y/wqAZMFxwV+A1D/RPu996H2mfpl/Zz+igENAej82fjs9rH3pPiD+z0BlgMiA/8C2gAt/UH6r/pf/Nn8Nv/yAHr/4f1o/Jz6Vvkz+b37sP7g/kz/XP+3/ZT9Ev4Z/sL9Zv59/2b9YftZ+wL7B/uw+wj9av4//9L/VQBSAcsCYwRIBSEFLAQNA1cCUQIeA2YEkwXfBT0FHQQaA4cDXQR+BH0FMAjYCpMK1ghhCCEIbAfBBowGEAc7ByAGywMvAaH/OwA5Ak8EXwaHBpwENQNjAt8AbP7s/Kj+TwI0BZcGtgS//0/67fOE7o3tQvLo/O0LwBs9JUsknhuiD+IC6Pe18h702PrsA2oKGwlc/w3y0OQF3GHa+t445t/r3O9s8ATsTuXY4O3hxOfK7wb3rvxu///+svyI+Gj2B/hj/IsCDQiYChMILgIB/FX4Fff39m359/zIAIEDAgRGBNkDyASKCNcMyBCwEmgS8hDDDuUN+w0nDdkMeA0gDfkL9AqLCuEJJAiaBs0ERAP3AiAC3wBn/9X9c/2b/Y39dP2A/Iv6vfi6+Fj7a/55ASMFQwe2B0EHFAVaAa3+Lv8yAb0CowTkBrIHKQYxA0AATP7X/lEAeABRABUBwAM6Bf8DwwLUAGD/Gv9d/UP9yQAKBRMIDggPBioDp/4V+474GPdK+Q37XPkX9wX06PB48W76/gt4G8MhFCEIGmIO9gGJ9c3rzuqz9G4Drw3zDWsCn/Dk4WXa1dgB23jin+tQ8LvwvO3+6erncedE63XzFfx3AnAE1QIiAFz8ffnc+dj9pwP8BfcDyACT/Yj6Mvft9H31j/jh+3D8Aft++Rz5Ov3WBBoLng9UE40VwhWrFMITbhKaEX8UARljG2Ub9xjKFA4RoA9iD54NVgozB50ErwEw/kr72fp3/K791P0K/jX+Hv6E/eT7l/s2/cj/zgMfB2AJoQppClsJhQZTBBIEMwRkA6QA5v2c/Bn9vvx5+r34kfjC+qL9aQDnAmMDVQIgAvoDrwUgBA8Aj/28/XH+5/54/8D/HP/b/U/9V/3w/CD75veN9ez0NvX09N7y4u9l7lfztgGiExsfwh9yGDUOCQQp+7j0FfE38sf5IQR9C2AIr/gJ5ETVctIX1yveSOW+6eXqqulE6Irn6ucb6qfuo/b0AHMJVww4CjAGcwKsAA8CMAZdCRQIPASOAPr9RPti9/b0/PR89u/4pfsk/oX/JwCBBHQN7xWOGzUeux/gIJYfaB2KG1QbQh2UHpMerBs7FncRwQ7RDWgMdAn+BcQCIwAs/oL7+vjE+Cj6tPv//ZgAFQGC/4793P29/zoCmgXCBn0GjQYeB8UGbAObAA0A5v+M/yr+i/vN+Iz2xPQ28/jyffUL91D2D/bv9i/4uvid+WX7kf2/AD0FBggZB/MEHAJx/2z9iPxu/JD6LflN+U75z/iv9tbzjfKf8h/zKvOV8u3ytvPa82Pza/Dy7Vr1Jge/GNkf/x0VG9oVFAsT/732yvMB9mn8jAX3CvAEfvQ44/Ha9dt14I3lCuzR8rH1oPRz8jTwgO6m79v2cAGyCdUMtgujCEID1P1F/QADNQrRDGwKfQb5A1sBCv3U+Pv3Wvqx/vEE7wqRED4THxKyEeUT6RjoHGQeUh8hH8UdWhx8GzwaxBWZDmQK4gpMDoEQnA1oCTIG4gMUAvz+dPsZ+Kz1PfYe+ZH7JvxS+tv3Tfj5+ln9GP5Z/fP9s/8WAU0BoP83/tz8Ffuu+bf4Qvk7+S72v/Ja8XnyGfSa87Py0fIh9Jr2cfm6/EX/4gDSAdkBAANgBJ4DoAJLApsBuABQAD8A3f2G+GHzG/Aw76Xv+u/x8aD1Pvhq+Ev2o/V/98n4mPmE+qT7Uv0e/wIAcv6f+s346P9rEU8iLSd0ImIb1xKCB+f89/as9Kj2k/9ICzUSKw6V/7jwoOmm6kXv+/MB+e78Lfxo9s3wnO7t7gfwqvJ5+Br/lQMYBMwACPxs+EP4Xv1sBgMN9wzCCOIFbgX5Ax8CpAE4A+IGMAoIDbwOXw4TDt0NEw/WEiMWkhYyFIMRaBDQDpwMDwzHDPINKw7yDIULigl0B+YFeATBA7UCfP+8+kj3XvfY+Ef5o/kC+mv5offY9NfxvPBF8pT0LfeI+mH8APsw+BT10fKL8ub0avmt/TkAaADU/gP9y/rM+D/5Xvt7/Vv/6wCIAvkB7/7h/PL8mf4sAAsAYf9C/pv7UPiS9VD2Ofrc/KD+jwB7AHT9K/k599X43fxqAcgDLgQdA0j/Vfno89Xxl/JE9Ob36vvK/LP7gPnP9gD1P/Q19uX5bP5/BI0KLhN5Hu8kWSRoIDYcsRe5EVYONw2DCjEJPwmaB8UCLfoZ8XfrP+tZ73TyLvMQ9B70//No9WH3z/lA/FD/IgNBBc8F/QRfAvoARQHhAnQGVAq2DO0K0AXcATf/2fx4+8n88AHAB10LkAyGCuoF6wD+/48Erwl6DSEQzRCiD6sLEgZOAVP+8v4oAlcFvAhrCXwEIf4z+mz4bfds9u72Nfdn9Vn0yPNJ8oXw7+617gnxVPUb+UH6gfl1+GP3q/fy+cD8Ef+zAFYCugNfA0oBlf6h+276Rfwh//IBrQPxAlQAw/wY+tz5KvtP/kcDTghLDPMMOgr+BZkB3/+QAJgCFgZNCGIIowe9Bb8B6vv595P4svvD/5kDVgXNBHsCiP/p/OT64Pq2/Jj/xAIkA3QAVP3L+sP6bf1hAXIFKwbqAlr+QfpM9/f0X/QV97T9xgfjEMkU0xNnD2sJFAU/BPoF4wdHCQ0N8RQTG60Y+w4yAmr1g+xb6yfwuvTE95/5LvhY85LsrOWd4HLgcOYU74z3YP72/1X7QPYE9lD6AQH8BxoNkA9jEAoQ4w2qCgYIqwYSCDwMug9fD/cIYABm+yD5EPl3+0/+VAGJA1cD/AD2+571UPHP8br3Yf/2BXUKkgr9BvMCqv8V/v3+oAE9BbYI5gnSB70C7/sj9k7yRfHs88336PpU/FP7//i+9vL2xvofAMcFoQr/DKUN5w1wDVwN6w67EKMR6BFfEQwPOQq/A4H94fjM9nr40PtL/cD9kP2e+8r5zfkx+6n8X//EBFcHogURBNwAc/yV+bL3v/Y79t32bvhs+Nz4B/oG+Lj0avOe82P0w/XG93v52vq+/Pj91vy0+pb4HvbP9Q750f/vCpkUZxZGEngMYAfRAxMD6AVOCWQMFhDcEDIMdwNt+Xnxgu6a8vT6jAA0AX3+nPg38Wfsy+x78LX1Xf0ABCoFaQGX+wf3P/Tg9PL64gLkCewNtwyrB2IB5f0H/0gCmgjqDxUTURKvDmEKfQbMA08FUQjECq4NmA7fDMwIDgTxAUcBXgJBBagG7wYMBo0D3wCP/UL7Ivov+Ov3Lvnq+RD6V/ii9QfzU/F08qH0Nvfu+rH9pf8aAWMBXwHqADgBgwL3Aw8GyAYPBmEERgG3/7z/4v/LAMYB3wIwAiv/av3s/Nn92ACcA64FQAbmBE0DzgEeAlcD9gJQA78DQgIkAGP8Rvas8KPuT/GD9Z33jvdH9fvy/PLr86332v3EAXIDCQKM/XD4KPOi8IPxsfXh/MIAfwAw/q35ofbo9Zj3ffz8AbcHOw2AEDERjA8vDxcSnRRuFnAYnhi/FdgQxQzvCVUG1wLcAasCzQPnA3cAJPrc857vne6p8Jj0F/jD+ZD5+/aU8z/y4PMY9536dP70AaID1wLTAFr+cPyC/WkBgAXRB4wIPwf7A70BJgFpAFEBpAUCCuELUgxeC1IHqwKTAcgC4ATvB5MKvAveCkcIYgT0/wz+3f44AIsBEQLiALz9Dvol99n0N/Ox8oTyDvKl8hjzuPJ082v0/vTX9T/3jPl1+9X8g/5I/6X/YABlAWwDHAUABpQG9wVGBdcErwOWAo4BzgCrAKUAaQLqBN8FpQaFBrwFdgUBBXIFqwafB90HEQZ2Apz++/rB+IH4Ovmc+gL9+P+LAEf+k/uX+J/2h/hv/ckA0//6/GX6sfg1+ZX5QPgR9/73j/vO/qb/qv6l/Eb8nwChCRcSYxT6EecPFRCWECcQrA7DCzEKTwxuD4wPPguZA0b8WPlQ+/P+jf/m+5j2uvGv78vvVO/S7vTu9O/L8ZfzqfP/8O7uqPDh9Br6aP/SAQ8AT/2g/Nb9RgDFA38GkAcuCEwJEQoiCCcELwElAhkIVg/dEfINqwa8APD/GwPXBo0KhQ2KDu4NlQsWCNACc/6jAPUH7g4dECYKZwBi93Dz0/Si+Kb8Fv6u+l300O5+673puukf7TjzNfli/dr9QPpa9R3zz/W9+/oBaQYeByUF5gJ+ABD/e//dARsGDgoBDNkKLwY+AKD8vfz6/3QE/waSBlgEWALaAZsB7wE4BWgKUw3vC6AIqgXIAmgBWwIcBE0FtQQ2Aiv+3/lV93L2yPeH+zD+XP3H+g/4LfWW88/2d/3kATEC4wDt/2z+c/vf+JX7xgU1ESMV6BGuDeAJjwQRAbwD8widC10MUwyhCFIApfdL8xT1afuqAZkDuQA6+oTxYuqv6SzuoPFf83D2sfcs85jrEuYC5Qjoye799tL8rv4y/eH5gfdY+Un/vQUpC9sOEQ97DGIJwwdrCHEKDQ6HEmYUKBJDDSEIygQgBDcGzQkTDbUOJA1XCDkDhwFXAz4GbQlODL8MAQqjBX4A//vx+r79cAEbA2cC8v64+PjywvB+8cLzx/Ya+Rr5m/c69rf0U/Nf9Ev4o/zn/04BMwBO/oH9m/1x/ogAIQQXB/EGUwU/BEADEwMzBAQGaQgKCnMKoQnuBjkEqwIRAj4DWAW5BjkF/v/v+3H7yvtl/Ir97v2x/J76l/p/+/75n/jO+XP8Tv8NAE79MviX813y1fNq9m74yvcv9oL17PRk9WT4jPs6/KP+bggCE18TYA1VCsYJhAnyDFYTCBX9EP4N3gzwCIECz/3s+1P8Wv/nALH8+vU28HPrzukG7RLy5fT79Xr24/O/7lbsN+0U77jzovoz/gL9RPsg+gH4E/jU/a4ERwg/C/gNIAw1CKwI0gsFDTgOnRJkFnYV6BJFEJALTQheCtwNuw7gDrAO5QqQBRQF/Ae/B7cFZAbCBygH0AX9A3IAVf2n/fL+e/4D/jb9//mU9rH19PVj9Uz0NPNk8RXwOPEW8uXwv/Bk8orzXvQv9kf4HvmL+ev7IP8PASoChwJeAuUCRgS7BZkGyQaTBqsFwQS3BSIH2wYaBkcG/AamBmwFxQSsAzoC6wGdAbMAMwCz/1z9zfl4+Dz5K/kB+V76ifuK+lT4SPex9yv4Avgf+IT6eP3M/CX60vhU+J74gvulAKkCLAC2/Sn7KPo1AIUJWQzrCM4IHA3iDcEMfA4PDt8K+Qw0FIkWHhA/CC0DfwCOA0wJDggbAAX6TfhR9nT0ovWF9drxUPAl8qjx6+2i64frrOvH7jH1PPhL9jH1oPYs+N37nAPvCI4HRgZACV8LJgs7DSgQyQ4sDLUN4Q9tDZcJaQjgB5UHZAkjC4wJ7AVFA+MBpwEZBCMHagaPA0MCMAIPAhwCYwIeAYH+7/3p/jP+Q/wx+rv3CvYf9zj5IviU9HbypfHz8GryevUU9qH0b/Uq+Fb5M/ny+Sr7YPwd/3sCiAMmA1kDDwRsBVcHtghuCGkHAQe7BisHzQhGCckHbgZPBmcG+AWXBVQELwJkAZ4B9ADR/zn/gP7c/M77CvyL+0/6IPqo+Tf4svfO+Nr5nPna+UH6Zvjk9tz4kPuu+5f6fPox+vD5efw4/+n9Nfzu/fj/EwG7BR8MOQvUBdsGIgwiDdwL1g1BD2wNuw93FTEULQ3+CXELBQzLC1MMnQicANP8Tf3S++D3V/SK8eDusu257Anph+U25STmKOhp7JXvPO4Z7Rfx+PUu+CX70f9fAm0DUQfzC2kM+ArsC88Niw7JDysR2w46CqEICQq+ClwKEQoACPADjAKSBBsFIgPsAbwBlAD2/wgCsgO9Ai0C1AI5Au8AFQEbAVb/YP7A/5wAvv8K/yD+IPvR9+32r/c8+FD4YPgA+Hn31fde+G34tvjk+V/7HvzK/BL+Dv9n/08AkALHBK4Fbwa9B6IIkwhQCGoItggICa0JFwpWCdkHWQbwBNID9wK+AfH/p/4m/qn9q/wd+4D5M/iR+OD6wPzA/FH7bfle+JT4e/nL+RD5lvjZ+MH4FPiy90r3Tvf6+En78fzw/SP+0f3G/ZT+iP9r/+MAyQZcDIUMZAnVB3cIEwlYCjUNsQ7FDYINIQ6WDOIISgatBYcFPgaVB3cFmP/V+sD4KfdH9an0gfQI8qrumu2s7b3s5OtS7CPtfu4I8SHzhvPi80L1FPdK+nv/PgPhAy0FoAhpC7AMBQ4oD58OmQ5KEYsTzxI1ES8QJw8jDp4NbAweCTUGAQYdBpMEqAIsAXr/vf2v/Zv+b/7B/XL9L/3p/Ej9RP4h/gj9JP2q/fr8I/xD/GT8bPu3+ob7K/ys+1r7dftZ+3X7Q/yS/Qn+s/0H/ub+1f9/AGQA2/9TAFgBWQEBAdwBDAPDAxAENQPpAQsBswDcABoBTAEdAeX/7f7H/uv9y/vS+eP5lfvp/Db8G/rw+Lf4pvi1+bP63/kn+QP6tPvF/FP8J/ts+kX7D/27/bH9nv3N/PX7o/yP/mT/a/4D/kP/OADk/9P/hACsAAQBYAJIBaAIxwikBTsDtAS+B7UJgwtZDJgLpgo4CsoJYggGB4MGtgbCBw0I0gVuAWT9dfuu+z79yv1W/N/55/Zo9f310vYs9/L2cveZ+Ej5p/lB+Yj4CvnQ+zn/EgHYAaUC4gJVAhQDYQVJB3wImQlsChcKLwl1CTUKugmRCI8HugZKBjQGggXUAjz/kf0O/kz+0vyF+qn4B/fo9mP4LPku+OX2Tfd1+HP5TPqx+sb6hfuy/Xv/ff+i/+UApAEgAQUBiAEDAgoCCAK+ARMBGQGyAeYBHQHTAO0ANgC6/3H/UAA0AQ0AZf/k/5EBawMyA8wBrwApAd0C+QNaBJoDVQHi/yoBtgI4AuUA2v6j/Tb+/v/WAC7++/s6+wf8Y/7t/pD9+vq3+Ej6qv3S/eT79fm1+gb+VP8s/mT8Z/w0/pf/RwC4AF4AO/+f/jgAUQIlAUr/EP/oAK8CogLYAf7//f/nAVUEvQR4AhwCDwSzBR4G1wUUBQoEkQO6BaIH0wbaBEoCGQK0BI0G4gVbA9UBbwHO/3/+Kf/c/3T+ovsp+777IfsL+Dz1avh+/Cj9pvsC+vL5z/pL+1P98/7vAH0CbgErAgoCDgF4AC0B/AMJBW8D0QBU/0oAGQCu/Tn91P2o/Wb8nvo0+jH6QvpF+z79iPxm+mj6Gvwv/ar9hf/e/1//QADuADMB2ABeAmQFZwb+BmQHjgfqB1wHiQYtBgkFHQgrDHIJ5wiKC1AI0gAE/AYEyQxyCIMExgYJCt4CevXE8In1yfmE92n1SPdf+0r9uv6kAfL/7vp2+jgAiQQ1BCL+Sfmp9tX0R/pm/dT9mP1p+t355/ze+xr61/nG+8gAjv+t/kf9oPtt/lcATAH6AI/9m/68AXMBGwJTAIQAoAH+AJgBkACJAWIF0QWIBQwH7gaEBdwBQwIWBL4BXgAfAAwAkQC2APL9K/rz+sX92/3y+/H77fzgAK4E9QM6ApQA8QF7AmgDEgYkB4YF+AMzBIIFaQejBbQC2ABzAs0E0AN7AnP/yPt6/Iv+j/5X/eX8g/zr+jP7MP0J/Wr7rvvs+xb8vfyR+tv4nfkO/F39hftb+in7ovvT+4381Ptp/JT+Uv5XAJsBbv/R+xj74f/HBCIFNgIjAYACNgOCA5sGswazBdUDVgavCkYL0Qk/CjgJVAVEBVIJ+g33CokDNAKEB/cGZQAGAFUDGwUT/yD7/P8AAO77zPbZ9OL+6QJk+1P1n/Ig+8D71/Ou9Qv5wPu4+GX0TPo5/kz4KvMF9hf+bgFU/Nf6JP39/Or8X/1ZAR4F8gEE/WH+DgJ3AbwAKwK8AAX/YAChB7UJsQJg/7/9wv0oBaAIWAWqAYT/9wFNA9v+CP0O/D/85v7jAD0DAAAB+MHzoPn3ArwC2f0BAAAC+/0o+0n+ugdoBnv/LwFtB0oM5wV+/TkAzgjdDY8LMAa2BYUHsgVKBygJKggRBRoDogb0CAoJ0gPD+yr9ggcCDQQFMfl+96H9owAxAFn/qP1K+lD3gPbV+nwAQP1p9TrzyPzAA4T4MO879cv7mv6r/b/9wv//94nyTfjKASUGxv+Q+ET+oQfSB7X8Zfac/N8ASwNRA2oG8gYc/eP3B/svBKkLJgSL/Pv/5gNiB7//Z/2cBQ0Bd/2oAI4IKQog+nT1zf19AJkD5v5G/c4Dhvsh+53/afwgAPv3K/Y//zsAawiaASPz/fNq+KgC2gdpA4r/0flZ/LkG4gYaAgL8T/m0AN8HWBEYCdz5b/zA+1MBwAdMCQcJsPiL9SEDVQfwBoH+rfUL+koApQhKBQb6jPjc+Aj8j/6uAF4E5v2w9RX4vAEMDtEFLvUz8qz4IgjiCgMDHP00+iv8ewJSCXUIFgMk/Tn9ZQaBD0ULu/zm9aH+KA/VFjMPLwFC+h7+6wAFAqMJHQwcA1T9i/9hCK4JOPv37030hQQXDNMDEPjA9Pj2SvVm+Nj9+v/n+0vyOfT9/ooCifn675b1H/5XBCgEWPpx91P6CP+M+hf3zwa5Baf4Av0LAncGxAFK9/H8uAJVBjUJuAQnAkT8SPowCE8MVwT//3L7qP9wDM0N4wEw+Bj5VgFhBgQL6wtb/2/1B/tVB1EKOv5h9Xz0MPr8BdgJKwg++sXuxvEH/Q0L2Aj3/fv4Sv2IAwEElP6Y/a0AyQD2AG8GGAtDBa/9rfbQ+dMFwwZFAMUB1AbJBNT5v/X7AWAMbg7bAObxdQA5E+MLMPxE9Tj9uAaLBP8E+wUrALf4hvNZ/dwK9vwl7VTt3/j4CroDYvfd9Z/yM/il9rT0SwOwBt/+MPj9+sYHvvwp7wP4lAWGELAK3gDAAFQESwLc9QD7tgx6EFoNNgZ5A3QB9/j6AKEKkwl3BloCmwTCA9L93PzZ+lT6OQTDBqkBVf8/AMEAGfsR+PP5qAH8Bfn7AfgfAo0Fgfx68b72jQbmAPb0OPstBGwLj/097rv8UgWQBYP2HPD+C1cWZwLg8476LQc4Azb9kwP4Bo4Fifzh/SUGcQWq/9jyfQGaFNcLQf098xMD9BED/JPzJgM9C0r/Ke4Y+zsIpPym8if0kQCKCz8FAPM47lr/0AqdBB4APv+u/YL5V/zbCIAKmgLV9CnyUAY3ELoATu5B9QsODhWjAXT0EPupBOAA1PgLBEYRcAuq/HX21wCqCywF5/Sc8xwNihusAtXslvOCAZUEL/9x/KL/uwEl+7jzSfn1CPAD3O2E8rcFTgh7+tns5PYVBwUDlvv4/MMEfAmQ+bztwPr0Cn0SFgmW++744vp3BFoLiQPp/7IGbwMg/N4B9wql/Z7oe/W2FXckWglj5+DtPgMPCwH+nfqcD/4Oovuq+PT9sALx9w/y8QboERIOkv8R75PugfchCAkLR/uOAIgKfgOe+Cvxb/8iBZz7/ADQBaYJ/wWA9T7rrO6jCOQddg5w9m3wj/oXBAkBAwSTEB0Lz/eM8GUA6As0Af31SfzoCckGUPwH/ff+Mfjv7G73FBMSEI34evAf+ocDi/TH4oT1DRZsF9r9pexU9+oLwgKH7YrwRAU8FRAQDfvE+A4CcPgg79z5IBQ+ISEGwO5M+LgJXwrN+gLzJwERElsWZgb99qX2EPYx+az/yAejDLkKgQIr9FL1V/+3+5v8vQjyDs0Fxfc/+ZT6v/t3B9MFPf2Y+rn9oAIt/Cr5Ov8Z+nUAcAfP/oX5C/Z8+rj/3AMpCsoIOQis/RntivDdAW4PzwsT/Hn38wK8CM39O/fkAH4GQQh4CBAFXQSA+5TvZfcJEbUZlwOd8FT1qwZsCC392/n++Bz8lQfbCq0Devm2+NX/gvxWAi4JsQIL/mLwv/CBBIsOhQvq9WHsO//0A8QE+APX9JL3BgNoCIsLnQG69L35Sf8sBGwHMAHdAmkDaPoW+/n7FfwWCdEJCQCJ/gsA2f2Q8sH3LQ7bCWbuT+o4AlkXSxLQ9NrgPfA6B9IN1gT//ZX7CPhG+gIAowWYBJX+C/cN+XwHwBVVDNzunOkKAggStwdE/AAAOgfOCdT/avvL//ABzgN0+9n+5A2VBIUA1QdO/2D4h/mVBdMRRAQw+ccA+gKF++z55QUeChb6+PmyBdYEtQJP+6346fx9/cX99AKqCfYAqPgb+Kz9zQ8vBVHrv+8P/BoJdRDI/q31i/XB93EDxgITANf//fx1AC//nv47BQ748fI1BjUJ/wNKA0P78/Oj+kcCqQMZBv8KUwbV9bn3hQet/azrFQJeG9IQvfzw8lf3zgExACj0svrfDzIRYACU8ej7AgnP/Sj2ovx8C8IK2vlf/oUBwPz+AwEC+gBK//XzmgOfEV4FgPbT8isCOwonB7b63exkBFoRh/63+p39jgavA9Dv+PhvDVYPBvu65rz+DRbLCSP5EOuu/w0TaPuA9j8FdAcd+QntLQQCFHMHA/ah5sQAohiiBLHzmvFjBs8LXfRn/ZoKwwOR/6b0Y//IE9gEy/OH7g3/3BXVBCz61whFADbrJPMVF6gfhPqy4Xb3VhOoCoHxe/VHC+EKS/e18TgPrBo/9ljjb/KGEgccMvO45J4FcBRnAe3mRvNgF2IPuPR263736RAlDJj4IPVz+dQGLQEi92EHXAyHBYL2b/GNA94AL/7JBskAbAPd/dX+rhQBAnXpWfD8BcIayQii8zj18/dMCN0K8P2oAFf+pQCN+jfwMwq3FNAAbOqU6r8U+xvR99bxq/pBBO4C/P1lDaoARuuv9NUClBUxFm/5Q+sn7UD/ExNHCZACAf4p8vD5Rgn6DRkFguyL6VoKeRv9C8nxS+r7/jsKlQDIACcKnATr9zLv1vsdFfoICfTo9df9QwwyCjX6Kvbl/BMGzQDZ8kX+RxPHBxPvz+oiASYQ+AUZ/mn7iv/8AYP4Eve+ABYQXBAK9RXss/5ZFA8UCfBK3w775RmjGNb/lvES+If+3fzFAtkQvw0J8gzklftoI9QetOuL2o3xgw7cF9YQYQpI7q7bSvLJD0Ae7AaY6Lz1gASiCgcIAvby/fP2CfHnCvAOrBCHA07qIvWf+pL6hwTLC+4WfQTM6u32SAIfA4n9XACLCTL7gPxdDLMGe/RV7PH/RQ7/AmcFzvge7dgGcQs3BcL5Dv2BErb3uehhCfAUOQEx6K7stwztE9ETxv/Q3qfwjA4EGqcNqvK/7F7yEPXyDJcetAfm7cLuPQnfEacIt/sr5Xjm/wQcH4MbYf6z7EvvP/yzCkALZfwF8KH2xwzYEc8FufZU6Pbwqg8LHlIJU++j6wf/2wokB88BKvfs8lcBkBIWD3j9du7o7aL4EQvhGU4Isuwi7a8CyA6oChoBhvip8Gn25gu9EFwDjPe88RT43gjkEBUC3vHA9kkHVgYMAZYFrf1h+aj8LwIoCNQBIvyQAR0BLwCNA438efjx/CgGfwTn/1QGMQLS9r/9WgM4+yP5PQavA3/6JwSYCxQFD+/x5D/9XBXSEmcFsfbg7ifzbwJZE14JvvZo+bIBLQt8Dfn8ae+U60z3ShtgHoYARvDu5QzuEwnDGYkSqva98I4EKglVA+r1TOwh8vUFkSIgHkf4nt465/T/UAn3EVwOV/Lb7xQGjwzm/RnyyvZy/hsHDBUZEXP5NeVw7mAGQQ0vCw8CgvpYAKoINQCm7e7/IhaJA4XuQvWbCb8OGP9L8o78lP3K+UwNPhGuAPb0le+i+bkN3xAbAs/q3+o5DQsV8wWZ+ZHv3vnz/8gCvw5dCGz89fFH8PEF5goY/Kb+Tww/Cw/7hPIv+wMDRwFr/U8CRgoWBav7HfluAar7vvAEBkIZugyP9xP1ePpi/Uz5NP9VC5UAYwZWDKX/BPow82PxefasB8UeOg7+7CjwZgIKCFsDov3t8iXz1AciFI8Lyfp98NHr5fV8DtcXJwoJ+fPtQfdMB4AIMgDw7+b4lw0jDLEEmf8Y+gDzzfNjAgESkBAn/7zslP4OFBIAVfUj/KIA7P+H+ggFqRASAzX1r/fyAsENRwE082L7bQlwDDz3Oeo9AX0Q9gVc+/35wwAsAl8BWAFxASX0R+1J/9EZOCBe/P/iGeynAIMNxwRgAQwBGfyO/f4BNwuwB0XwyOTJ+eYjiSac87DYmOkfDGYVA//a+0UI1gVjACX7Kvkm9irz5/88CscRlRS4/XjnUOmL/44PAQoh/rX1BP66DgwMgvm96lntnAeLGtwSRP1V8R/yiPGX/0MU4xJPAS7wefKXCP0Odv1U50HsIw+gH1oO5foA8ZfswfKcBrkXYxDK+wXs9PnME7sN4fMC5ND5kRfeFnQMjfZj5PfrK/10FZse5QU/6ZrmFv4JEx8Pv/rc8JvyZAKjF1AUdftB5ZfmiwG+Gx4dvAKO5NLmnv/OEMETYweV+ijyLPJ3+3kGvA7gBm/zaPL8CmUX2QT06p7exPMkGf8jbQsn7cLuvPmK+f//Hg3HCG39KP50AhABhfwV90D1Jf3TCwgTnAsx+GXsLPAcAMYOSwmK/vb+DALYABv8rPuw/+z9kP79ATIGJAkdAtz16vLC/L4L3gtPArj5qvSy/psHiwdKBIj5ffam/lMCRQRxA8D9t/3U/mwAmQWoAsn7G/aE9+AEvQziBdX7MvgN/GoEUQi0Ad74R/m//4sGkQdPAaD8v/sk/ZMAjgI3BN0BPfq9+ZQEngaX/Tb61P4JBmwDFP5Z/mT85/z//z0C4wPOAA39F/+PAvEGBwNx+Er3Q/4WCvILpf/R9drzk/xQCq0NEwRu+a/39PuGAZgBS/5B/or/lgFJA2oD0/5j+I739vukBaUKMwUc/Az5JPvC/RYDcQRKA7cDcwCR/Mn8lABBAVv9nP48AlMGMgi8AW/5Pva1/JEF8QbFBb8AMvsv+/r+8gTvA/L+uv7E/un/wgJ7AYr+Hvt7+mYAfQeIB/f+Qfbt9wYAewVPBfn/2v0v+un4AQLbBmcENv7n+RT8UQFPBrwDJ/0V+6n8FQBYBtgIuwFL96P2aQIQCbYEvP6L+hr7/gCJBMgCqP6x+yL98AAFBEcEZP/Y+Rb6QAA6BiAFUv+K+x/8GADlAlsB4f+V/7H+U//hAHYBGQAF/r/9jf8VAg4DsQEy/4T+Jv/J/5EAFQDIAFwCsgJGAgv/XPzw/aMAjgKoA/8ByP2q++L+2wGhAVoAWv6S/lkAYwFRACL+CP6C/8X/4P80As4BH/4u/ZP/dQECAaf/Nv6w/rQAKACW/qH+lf8rAJT/MQCRAcQAtP7K/c7/jwLsAuMANP+7/1MBDgI9ATYBkQEOANT/4AB8AUECKQBr/t3/RQEZAn8Auf4VANcBFgI+AOT9NP7n/woBJwLXAWX/Nv0e/Ur/lgGMAJ79I/16/mkAkQFR//L7q/rz/C4BZgImAEX9Lvwu/m4AjwBH/4D9X/46Ac8BDAH+/+b+ov5g/gEACgMgA+kAL/9M/z0BhwJ8AQAAJADVAQgEegSEAsoA6f8OAKMC7QSuBCICYP+sAJkD3AQNBAoAuf3Z/8QDtwVnAnD9KPwY/0MCTQLl/6H9Tf34/T//9P9A/kD77/l5+mX8tf+3/9f7Ivie9zj7zP0X/QH6mvfS+UL9Kv6v+234vvhg++X9X/+W/k383/or+xf97/69/rP9fPzY/PX/8QGcAGv8wfmI/OEAcwIcAFf9qP02/1cB4gNgBGICCAASADID2QaMB8YE3QLWBaoK0gtGCdkG6AZwCZYMNg6CDO4HXAX1BVcIPAzrDM0IRQQrA2AGeAouCs4ESQD4/lwC5AwUFr4U6wjJ/Nz+pQz0FSUTAgo2BQEJWQ8ZEJwJkwD4+ob8CASsCSYECvQW5XLiyenh7Rfp7OEM3rzc2dnc1N/RGdKE0y7VuNm54N3hXdwT2Xve3uve9i/6tfvR/dv/uALECeUUNxoYF7YUwhggIBEiKh1MGEwXlhl1G6sZdBT6DbYI0gb+CIsKzwbV/zj6BPlC+yr8Jfod+N/2QvdU+lb8L/uV+IP3xPsGA2wHjwbcAkEBUAPBB7MLCw1JDBMKmwh/CZ4L0QwICxwIdge+COcJgAjFBG8B6/8ZAucFxAXMAef9D/3F/uv/u/85/9P+gf64AGsFZgdTBQwEFgowFu0cSxUVB7QE/hFMHlYdRxWUEcUTABXAEjsOfgmUBhEFywWpBocBv/Pa42TeZ+Or5tfhlNir0ffNt8khxdvDSsbpyb/M6M0fzw7RStKP1DnbVuUG7xX2f/rE/cwAhQW2DWMWVRz6HVcdRx8fI3QkGCLOHioeuh4NHVwYMBIuDTIJtQazBaYDTwD5+6T4zvd7+M35/Pgm90j3GPmJ/B3+PP6DAAUDpQZjCgULrgrQCgkMQA1kDoYRghMnEq4OmQqyCfYKcQv3CsQIPgZ9BKkCkQCo/mj9gP22/ywBAv+g++H5H/sP/q//UwHXA5cFsQYZCMAITwiRCcgPoBzLKZkoQRZ3Bu0Lex5MJmUd4xKIE5MadxpTDwgCZ/wY//YEFQg8BPX2q+FV0gTUht1f33HVr8tNygzKj8R9vAK6/MBry3LSqdPx0ezRO9PR1lvgJ+3L9u/6DP0r/7H/SAGNB28QxBaRF58V8BT2FLgTnxFmEEwSOxadFmkQ6gZrAfUDMAmkCh0IhgPN/7L+nP/xAfAE2AdtCUMKtAt3DDQMPwy4DQ4QBBFSEJgPmA7fC8sIJwg6CikM3grxBvcDNQI9AW8CBQXVBpwFywK0AacB9wLZBV8HQwcoB9YHAwnnCJwI1AodDhcQrw+8DaYLFwlZCPgKPA2dDKUK2AoJEaUbFSDMFeMGRAfgF20iHxnECHED/wpME/sQqgQN+IXysvTA+kf+x/c+5VLT19A52mHf9teBzLzHfsjtyKTFi8CwviLB/8cq0qLZNdrw1N7RyNmq6CX0lvhL+Rv6oft5/jsEDgo+DMoMpw1FD7QQhQ+GDNYJ0wmTDbQR0RFxDJEFUwNNBpoLAw/NDGMIfQbXCF0OPBEwDyQMoQwSEgwXoxWtDxYL9AvAEL4TlBLfDUwIxwUpB2AK5QqsB7wEMwRfBdEF2QOGAQsBWwIhBAgG+AfbB+EF0AR9Bp0KCg32CwYK3gnsDMUPnA78Cz4LXAzoDOMLPQt/ChsJAQnRCkoRrhvVHxMXmQqaC/AaHiVJHqwPNgmJDzsXLxSzBtr30fDY8p349voQ8lDfX9D7zibVc9aMz0LHjcRtxwTKCsdawCe9isHzy3jWw9yH3kLcfdvt4Wztj/d9/GX+3/9qAf4CnQSOBWIF0wZSCoMM6wolBg0BAf4G/3MCzwTvBPMBFv62/CL+igKjB1AJFwm0CnsOUBJpE5ISbhNcFyYcJh4DHKkXCBTxEfERJhQ2FBwQLAupCOoI1AhRBh8DvgIEBacHNgmmBmYC9wESBQUJIQvxChMK6woiDtsPlQ4qDZsN9w7lDscN5wzkCWYFbQW0BxsGTARQBU8FvAMYBNUENALWAiQP8R1dHmIRlwkAEWscYB1FFFYNNBHiGccZEwyx+mzxDvFp9Yr6wPi16sfXzs1jz8rRu80px7XFgsrxzYLKgsKrvL6/7cso27nlWOev4vnf4eWl71r1efjj/IECqgZNB7AEFQAP/eb/BAeYCwkKTASY/d74Ifn5/Q4CtwF9/9T+kP98AGABygLwBTALKxHgFWUXYBW2EooTSxiYHREgRR5hGREU1xDKDxYPug3tC1MKIwkwB+QCcf5i/qICpgZ8B+MFWQRJBBgEqgMdBiELEw9xD9oNng0nDmoNGgwYDR8QhRKTEhsPoQn3BTAHvQuSDvwMawmGB9oGxQg9EV0bZRzOEz8OYBRsHmke+xIoCbYKuxPFF5sPbAC5843vtfN/+Zz44O0v3yPXJdiI2VDUrMtUx5HKA9HT0uzMJsXtw9XK8dX5327jUOFV4cPmg+3H76PuUfGE+CL/jwFf/9z6Mfe29378dQHsApQAhfw2+Sn5Jvtm+wT7uP2ZA9cHAAfwA0ADJAZWC3gRVhb3Fv4TNhIjE8YTfBIiEeURqhNEEz8PTAmUBAEDHwQnBzgKqgnlBAkB6AIYB54HmgbECPQM6Q+OEQYSyA9cDesPTBZ0GisaWhf7FMcUCxXmE1kSNBJUE/ISnQ/AC0IJQAmeClIKVwjmBt4JPxTBIIgj/hjfDnYTVyFqJnAcnQ+1DAETxBY/Dj/9ou8h7LPww/Yp9jvqKtmh0BfUfNdl0ebGi8KWx5rPOtFoyem/E8A/ywXYht4q3znew9+E5ATpiuqh61bwyPeE/Uz/av68/Fv7+PoY/NL++gAiANP9Cf3V+6X3UPTb9uf8aADeALQBYgOdBAwGiQjgCtgM7Q8YE+kT8xIoEpsReRA3EMcRchJTEPkMwAlSBp8DrwMzBg8IlwfjBaoEuATXBQcH1QfiCWkO5xKBE6IQwQ4oEEcS6BNdF9obQxxAF80STRMeFToUEhIzEcsRXxK3ELAL5AWZA+gFYgxrFyYixiL1GIUSWBjCIKcfRBgbFcwY9RzkGW4Nz/yY8Qjy+PlB/0v7l++Q4/rdRt022Y7PwchLzLfVBNoJ1ODHtb6FwHDN+9uG4tPg091o3xfljuh35ZHhc+e09+QF7gZE/VfzHfB39Nb7zf5M++f2UfbH9rTzSO065/fm8e9s/YMElwAJ+Zz3GP2pA04HpgjZCjwPNBMDEzUOAAk1CN0MAxQfGIwVKQ//ChMK/gjWBrIFrQaQCQENygx7B4YC9QJDB+EM8BLLFRsTqQ9TELASkxN9FWEZMhuqGlkb/hrcFQQRZRJgFhUYeBhxFzISgQsVCTALwxGIHYomJSOvGr0bbyLqH28V2hGTGaMiZCNaGT4IXvmK9Rz7VACl/w76t/HZ6UblwN9m0x/GZMUk0nzdU9tizpTCB8H4yFTSotes2lLfS+Xm6KvnI+KH3IHe+OsC/hoIUwX4+/70W/RJ9w74DPXO80z4p/yK+c/veuXU4Ljl7fEu/X8Ahv29+q76G/u/+YH4Lfy0Bb0PYxMKD6AHkQI5ArwGJg26EGIQfw/rDggLpwOt/Vv96wKtCjAPDA0KByIDagPmBXkIMwrPDC0SvBcxGbYVlBFHEd8UoRmSHbAfXh/kHL4ZKRcIFVoTEBOlFAYW9RThE0wYBCHAI9AcCBidHl4oWSfJGzETBBWyGxcdsRT8B0YAbAHQBlAIugIE+sfzU/JP8srrsdyyzgDNTtb93THbH9GTyUnLCdOn10rWedX+2m/kNepq6Gjiu97X4m3u8fo2AUUA6fzD+9/7UPkG9BbwwfDQ9Cv4JPiN87XrQOa+57jt7vLz9Vz3/vbL9Vz1lvQd8iDy4fg2AncH2gelBncFKQQiBDoGmgiNCrYMLw4fDY0JtwWNA5IDjgVoCJUKTwsbC2AKighmBcICzAMPCTEPbhOfFQ4WxhXRFTcWuxbcF2IbaCApI/khBR4qGTUV8BLnEucW9R+OKdEq6CJgHH4dch4kGGQRxROmGwofGhtPEmMHz/7v/RADPgZJBE0BxP86/ST2zOlI3K3VndpL5L7nteK527PXqNV104HRpdGO1cHcP+P25BbiqN5U3jXiRekf8Yv3Kvy+/0gBW/7H9wHyffDG8rj2i/p2/Hv7sPgc9iH0UfIu8sD0Svis+t76JPkp9jLzFvK485P3W/yBAFQD+AQuBU4DPgDL/gcAlwKtBcUI6ApMCzYKtQj2B30IIAoTDMYN8w6wDg4NQAvyCWQJmgp7DUoQLBI1FIsV6BN1EEsPJhHPEusSRROlFIwVThVZFFQT/RPYF6McxB6KHiYeOR09GioW4xM8E28SlBF4ETERBQ/WC1UJfQfPBYsE2gMNAgX+LPl59ALwUuy66fXnouYg5lHmG+XF4XLeJtyY2qvZJdl02RLbz9214PLizeQj51jqQu7n8Un0t/VL9+D4Xvkd+Lf2uPZB+D/70f7ZADAAyP7E/rD/SP8e/U/7WvsO/Zn+JP5M/CH7wfuU/Rr/Wf+Q/vn9m/7B/4QAdADU/6v/xADXAmAEOAR+A94DRgVuBkkGPwVhBFsEDQUIBh0HQgjbCQoMvw34DUMN2wwpDX8NVw3UDIEMlQykDDoMzQvRDJAQRxcYHtYhTSIFIbcfuh5nHUUbihihFj8XYxm3Gc0W8hIpEaYRWBKqEPALIQYOATv8afbu73TqTud55q3m8+Uu44nfwdx920baMNcQ01zQv9Ce0+rWG9ky2/req+S36mbvKvKM86/1fPnz/ND9tPyh/P/+FQMGBxAJ/Al3C8MNgw8VDzgMbwiYBW0EtgQOBVkEPANLA6IEZQVoBPwBg/+A/ir/VAAjACD+N/zY+1P8kPxN/Gn8vf30//QBUgIzAFf9t/tv+7/7Qfyp/dr/AwLKA8cElwT/A3gEOwbvB/sIiQm0CesJWQqUCiwKnQqyDrwVcBs5HTsc0hoRGoUZnBjpFisVoRW6GKQb/Rq9FkcSHhAZEGgQog7pCbIDK/64+av0VO6W6GjlFuaM6cHqxuad4PrcKtxJ26vYFtVb05rVZtox3oPfc+DB4+/p9/Dj9dv36/gz+7f+xgF8Ar0BnQI/BsYKww2ADlUOMw9sEd4SlxFWDpoLUAvPDG0NfAuCCGMHzAhoCpgJZAZQA3sCWgPbA5YCQgDz/qH//gDeAIX+efvk+Wb6u/sw/Cr7xPl6+Sn6uPoO+ob4i/hj+67/NwJ0AT3/9P2U/l4AmAF7ARwBSwIRBTUHQAeoBQAF6Ae9DSYTJhXvE34SnhIVE/MRXQ9XDdANURGHFdIWOhSMEJkOMQ5oDeoK/QYWAzwAnP1P+eryhuzT6OHo2er46p7nIuOn4JngEOC23JLYm9dp21LhIuXc5U/m5Olr8DD2nvgN+QH7rf/3BBsI4AdIBhkHRwu2D10RsxBEEJURvROOFFESwA1mCq8K6wxdDdcKaQj+CMsLig0WDJ0I4QWlBfEGMQcOBRoCKAGJAsgDrwIfAMD+mP9JAbIBnf/0+yT5Z/jF+Fr46/YX9jj3DfqQ/P/8cvva+ST6zvtM/bH9BP26/CD+jgAGApABlgBdAQEFaAqHDvsO8gyKC8kLMQzLC2AKmgjbCFEMbhAREf8NzQq2CQgKNwr4CKwFkAF7/kH83vh98xXuV+v36/btVu6w643ns+TX4+/iFuBL3M/ah92b4oHmAOgJ6RnsRPFh9pf5rfqS+4T+EwNvBh8HAwd7CNgLqA8cEoUSSBKsE3YWzRdOFm8TLhFAEAcQIA9wDNUJRgpqDc8PGg+sDPkKnAq7CiIKUwiDBksGrgfFCNYHYAUlA7ICuANKBAADIwCV/XL8z/tm+t73Z/Xx9LL2u/gu+VL4lveu9174EflE+UT5D/rP+1n9C/7N/tH/ngBOAYUC2gQQCBELNwwmC2EJoQgsCfYJwAkRCHEGKAdICWwJZAZjAuv/df9BAIoAN/6v+c/1BfRm8gzv9Opg6DDoiOm06tzpFueu5BPkU+TA43PiE+I142Ll6ef36Rjsdu/k8933X/pF/K7+wAG8BLwGrgfVCGQLzg56EfQS7hNEFYsX+xkiG48aSxmZGE8YpBcrFjAUuBKiEn4T3RP0EkUR5g84D18OlAxCCr4IqAj3CJwIUQd4BfADXAMdAwAC7//2/b/85Ptr+v33wvW19AT1+vWw9tf2ivZa9o72vvbH9uz2X/cq+Pj4r/mC+s37b/2b/i7/GwBgAhIGnQn5CuIJNQjAB4gIaQnmCNgG+gQCBQYGPQUWAnv+g/xp/Nr8UfzX+V32ufNS8rTwf+1w6ZrmaeYy6FvpCOh55SjkruSf5UPlheNa4oHjROaY6Ljp5urp7aDyMPdw+p/8Av8VAjQFaQeSCPEJdwxbD4IRHxPEFMYWMBmlG3kdMx4pHg8eKB5cHQMb8hcGFg0WuBahFk0VJBNyEQsRnhDDDtULQQkMCOAHgwcHBukDZQI2AuICJQNGAnAAxv7f/cD9lv1b/N76Xfr9+tn7yvvv+kr6Zfqh+ln6nPkF+eX4CvlS+SL5ofi8+MH5KPv3+8z7ofvA/Nv/mAOXBWEFTwTVAwMEpgMeAp7/Zf23/CX9LP1o+5X4Zvaz9RL2+PVm9P3xOfB67zfuROuj51PlkuVq58Tohuic533nTugu6QLpz+cw52bo+Op57efuH/B/8rz2Efx0ALoCCwRwBtoJpgy+DXANTA1NDw0TZxY+GAkZLBo9HMgeZyAFIGkeJR3THDUcJRouF4sUZhOAE5UT4hK/Ef4QsRAhEKIO9wvqCMQG0gUkBdcDXgKXAZgBsQE/AQwAzP4k/g3+5/0O/eH78fqq+vT6C/vK+sf6UPsd/Hr82vuj+r35f/lf+fv4g/iH+Oz4Pfmj+R36j/oK+3T7B/wd/br+KACAAPX/O//N/rr+jf4A/uH8zPtl+0f7q/pU+YP3t/Wj9HD0mvQ99A3ztPHn8Nvv/u3762fqxenF6erp/OlM6jrrfOxL7WjtdO0g7snvBfIF9Lf1uveH+vH9OwHAA5YF2gexCiUN4A7mDwkRAxNWFR4XGBhyGKEYKhk9Gk0b8xp2GXMYXxhyGKkX5RWyEwwSrBG+Ef0QVQ/tDX4NFw3+CyQKAwhWBlAFuwTfA3UCLgGqAG8AIwCL/6j+Jv4D/tz9X/2I/M37dftZ+1X7i/rj+PD3+ffg9zj3XPa+9Z31F/aW9nn2JPZS9lj3afht+Lb3a/eY9x34w/gP+Xv5ofrI/P3+FQBKAFMACwCD/wn/IP6p/B37IvrV+ZD59fgO+FT3afeb94f39vbD9ef0W/SZ86TyjPFA8f7xtPIl84/zKPQI9S328Pbr9rL2yvZU94r46/lI+xn9T/+4ARkEewaPCAsKhgtBDewOPhAPEbgRYBKIEwQVQxYzF6QXxRcIGEUYyRe7Fn4VXhR/E6sSlBEMEKMOnA2JDGELEgqECPMGVQXxA94CewHw/6P+zv1d/c/8IPxX+2v6p/kO+UX4PfdG9qf1RPXl9IP0C/Sc83zzlfOe84fzWfOE8xP0pvQ69b31LPa/9nX3OPhX+bD69/sp/Vb+t/8aAecBOQJKAjgCSgJeAh4CkQFaAZkBLwLPAi8DYQM/AwgDEAMGA5YCrwGgAOP/qv+p/3n/Mf8V/0H/tP8QANT/Pf+M/r798/z/+4j6CPkE+In3gfev99P3G/iq+Ez50fkH+v/58/kq+q76QPtF/LH9Sv9xAYUD9wRKBqcH9AgRCsQKJAtSC8cLXAywDNYMrgxnDCEM2AuOCxYLjgojCqwJOwm2CP8H+gYRBpYFOAWsBBwEtgNMA7cCEQImAQYA8P7v/RP98PuE+nP5gvho95D2E/ag9TL1zfR59En0SfRa9Gn0mPTh9Fv1Cvaw9lf3Ovg5+W36sfvG/P79QP8AAF4A/QD1AZcCxgL4AlgD7gONBAgFSwVsBa0F/wUtBjUGSAZxBoMGWgY8BkoGSQYcBugF0gXzBYIGTQfEB5kHJgfEBjgGcwWqBAgEfgPyApoCWwLzAVEBkQDt/2n/3f4T/kb9qfw5/Pn7r/vu+tX5ufjN9yv3rPZI9gD2zfW09dn1KfZd9mT2XPaM9u32N/da95H3/feL+Bn5nvkg+sn6p/uB/DX9vP1k/l7/hQC+AeACyQNvBMcEzAQSBQEGNgdMCBsJdwl+CWsJGglpCKIHSAccB9cGagb2BTsFFgQQA4kCQQLeAXYBLQHaAGQA8/90/9v+XP40/lD+Hf6Y/T39IP1H/Zn9Kf7p/lv/gv+v/8n/pP/T/4AANwGQAesBogJEA/MD0wR7BQMGxAaFBwYIRghNCEIISgioCJUJggrqCsYKUwrNCWsJxwh9BzQGMgUfBAkDDQIkAcQAFwFYARoBrAAJAIz+Jfy++SX4XvfV9jz2f/WO9FHz8PG28NTvhu/s79jw2vEq8iPxBO8n7X/sn+z57IDt2+4B8fnyHvSb9OD0XfWi9nD4DPoH+8L77vxU/kD/gv/E/0oAOwFbAhADTgNgA5gDCATpBPsFnAbUBigHBghPCVkKAAvHCx4N8A6TEG4RphGnEbURvxGVEaMRNxLgEoISxxDnDoYN4gvdCU8INAcqBmoF2QTVAzACzgA6APH/pP9s/1f/kv9nAGwBqAE2Ad4AMwEXAtgCKAMUA88CbwJpAmAC/gCY/hr9C/0v/aD8mPue+vz54vnV+Rj5Evi791f4f/lK+nb6LfoD+oT6OPt3+3T7evt9+9z7Cvwz+735nPgv+C/4Jfj895/3CPe19kj2UfUr9Hfzl/Nf9Hz1cvYa93z3u/cW+J34Dvlp+TX6f/un/IL9c/7r/8UB+gJMA5cDQgTNBK0EEQTOAykElQSgBFgE5ANOA/cC6wLeAvoCVwP7A8cE/ARQBGkD6QLrAmYD7wNHBJUEHgWzBeoF9gUTBmIGzwZZB/EHAghUB8wG1gbbBq0GiQa5BnQHcggVCUcJaQlbCTYJWgloCR0JzwgJCXAJKAl6CPUHiQf1BksGuAUzBbME3wOUAmMBfACL/2b+GP3++z/7kPrG+bD4dvd59o/1pPQE9LHzLfNx8hbyVfK28tfyL/Pp8+H0BvYY98n35fdM94r2kvYo9233fPcA+BL5UfpA+7f7E/yq/JH9of4f/8z+qv5G/woAnwAqAc4BnQJSA2sD1QJdAiMDGwaBCn4NSA02C/AJfQlKB+kCiP9q/6IB1AMPBO0BY/4M+1f5dfkx+oX68/qE/Nn+9/+M/uj7MfqQ+ib9dgBmAsUC9wKHA7UDAQPMASMBDgJCBPkFAga3BAcDsQHvABABDgJLA24EvQX5BkcHWwbIBLIDSQRfBlgIswnVCoULLQvrCaYIrAf+BrsG5QZJB0IHdAY1Ba8DFwJ6ABn/fv6//hj/mf7G/UH9S/x0+uf4qPgx+Zb5v/kk+sX67/oo+ur4Ivga+Az4zvcM+I/4Kvi99sP1NvZS98T3cfdT9xz4UvnK+WD5H/mL+Vz6hPu7/AL9RPzw+y/9Lv9FABcA4/+rAI4BkwEhAbUAYwCOAH8BkwLJAvEBzgC+AO0B5wLXAj4CTQJBAw8E3gMwA/4CqQLZARsCjQOhBPoEkgV/BvcG2gZUBrEFWQV3Ba4FuAXGBaAFCQVnBDsERwQGBI4DHQPiAqICKwLTAcgBvgGcAbgB9QH/AYkBdgCG/3r/5P8FAPH/LABBAKL/sP4W/vz9yP29/Wj+WP/K/3v/1f4V/mn9K/3a/Eb8IvyN/MD8X/zk+477NfvQ+gX7DvwL/Q39NPyg+4L7QvvC+nj6vPpD+9H7XPyv/JX8SPxJ/Bb9Y/5h/+L/SADLAB4BEAGuAEwAPgB3AOkAZgGeAYIBOAERARsBGAG/ADgADQBFAJUAvgDOANMAuwCJAHMA3QBzAX4BVgG2ASYC8gFEAY4A8f9t/3T/IQDpAFQBgQHBAeMBmgG9AJj/Cv+w/0UBAANBBK8EVQR2A3ACugFrAV0BzgGoArsD8ARxBWIEogKpAXsBbgG6AZcCWwNkBFIGoQgbCv8J2AioBwIHYgbHBHICogDF/yb//v1Y/Bz6h/ew9f309fTv9K30gvTD9Df1cvVE9QT1IvXY9c72o/dz+Or4HfmJ+U76Evt1+5D7jfvI+0b8qvzU/N788Pw2/Qn+T/99AFsBDwKxAqoD9wT7BYwGvAYcB+MHsQhpCTQK3QozC20LhgtPC74KTwpzCgcL3wqLCVIIqQdBBjkDCwBw/gL+lf0f/dL8Hvy2+lj5h/gg+CD4ffh5+XL7zP0P/9z+Q/7U/YX9Zv2o/X3+Kv/t/h/+aP3e/EP80Pua+9b7wPzz/Xf/+AAeAbr/Uv56/uz/MAHnAc0CXAS3Be0FRQWzBCwELgPzAm0EawY6B7kGDQZLBeADKgLtAG4AbADfALgBfQJVAgkBb/8x/r39Ff7M/kH/eP9i/5v+mv1V/DP7yfsY/50DUAZkBtIE7QInAYf+Pvsm+Yb5b/sM/W79S/yn+Rb2S/PN8h70tfXF9sz3Pfl/+sX64vnJ+HD4BPmM+p78Yf4Y/4T+x/0E/sP+b//4/1AAiQDjALwBBwMYBFMEKARTBPkE2wV6Bp8GvwYxB5YH9QfKCLYJvQnjCDMILwhxCMUITAnHCZYJoAj3Bw0IwQdFBgMEGAItAfIAfwAW/wb9HPvP+eL5c/uv/Gn8zPuu+3/7UPvA+yT80vum+yD8cfxM/Dr8/PtL+9H6b/vR/Pz92f4n/8r+cv6W/u/+1P5R/iD+Sv6l/kX/+/98ALYAtgCkAAsBSQEZAHH+Sf5w/7IADgIcA+wCAgLNATgCMQLVAXwBuAD6/+n/y/8a/17+C/4N/lD+0f5T/0r/g/5t/ZL8Mvww/foApQY4C9kMNgy0Cq8IDwbzAkQAU/86AK4BdgKdAWr+evnu9Jvy0fI+9Cn1WvXl9er2XPcJ96D2k/ae9tz2EPhH+rT8RP6n/pz+Bf/U/4kA9gDHAOj/IP8//3EA0wEmAsEBpwEZAsQCcAMnBNMEhwVGBkUHvAgsCgwLNAsdC2kL9gvlDPkO7xGzE8QS5hDGD3IOHAw7CacGaAQqAkMAqf7x/MD6D/gH9vn1S/ct+M734PZQ9nb2dfeT+DX5A/oW+x78Tf2T/kP/nP4f/Xf8wvzp/P/8Xf1U/Yr8sfsd+7X6TfrF+Tj5Ifka+pX7qfyO/Wr+rv6l/mn/LQHvAv0DggTRBHUFXwaXBqsFRgT9ApQBAwF6Al4EGgRwARj+T/vl+Xr5C/ni+K759fqK++H7wfx2/AX6ffjt+kMB/QhkDo4PLQ6UDN4KsAipBkUFDQRQA80DpQQTBPgAX/wQ+Dv1VfSp9ID1ePbm9s/2FPfi95b4APmH+S/6BPto/Ir+yAAoAtACXwMZBAsF/AVRBrkF6ARKBOwDGgSgBAsF/QQYBMACqQEZAd4A0wAsAfgBvQKTA8cE6gX5Bo8IjApZDJQNWA5mDrwNUg37DNYLNgoTCTIINgb1AsH/DP1M+sb3Wvas9af0o/OJ827zZvKu8QvyoPL+8t7zT/WA9rH3Dfnt+RT6S/rt+qj7avz1/Av91fzM/OP82/yj/O/7CPvF+hL7P/ua+5L8j/26/Rj+CABNAgUDkAJgApgC9wIGBPgFuwcACZwK+AspDL0LJQsjCtII8AdWBx8GowR8A+4Blv+D/X38Nvzx+7f7gfyE//ADXAd6CTgLMQzECwULSgvEC1sLwgo7CuMIoQYbBDcB9P0j+xD5Evel9KHyW/E08PruSe6F7jPvuO+575fv9u8P8dHy7/Rh9wb6hfyl/jsAlgHOAq4DYwRSBSwGtgYbB3YHHQe+BSEEmgI9AWwAGACv/yX/VP84AN4AewF+AoEDYwSwBXAHuwjVCWQLmgzKDLUM2wxjDAILkQkQCOcF9QO0AhABq/6E/OT64Pj39i/26fVf9R/1l/Xc9bX1EvYM96j39vfk+Az6y/qY+8P8Vv0p/WH9NP7B/gf/4v/5AEoBcQFcAiUDZQP/A/0EVAUiBT0FIAVTBM4D8QPeA4QD3AOaBO8EIAWDBWcFkAQbBD0EEASvA+MDEwRwA60CiALaASkAtf7b/bf8dvtY+wP8kvx//Ub/vQAeAToBgAFxAR0BZwFpAkIDyQODBOkE9gNpAi4BmP8t/ff6j/kV+Gv2ePX89Nzzq/L08Qfx1e/e7orume7j7uTvZfG28hv09fWn98r4G/rg+1X95f5EAZ8DoAXBB7IJvAo0C6QLzAujC5cL2gvhC3IL0gpMCpcJyAiQCMgI6ggZCZAJzQnFCQcKiQrECtAK0gqCCtoJAgkaCEQHiQaZBYwEhQMjArMAc/8s/ub85/sq+2r6u/lD+d34f/hB+Bf4+/f19xz4U/jX+Jj5Ivql+kD7nvvM+y/8qfwE/V79z/1T/tD+PP/S/2oAugD4AFUBhwF3AW4BkwGuAccBKgKVApgCiAJnAtwBKAGnADwA5f/g/+n/t/9n//r+b/7M/TH9uvxj/A38j/so+9n6WPrp+dT58vk9+t/6tvuS/F/9Wf5y/2MAcQGrAroDiARaBfEFDQYDBtUFTQWhBOsDKwNNAl4BcQBX/yX+/PzZ+736yfkz+cL4YPg4+DL4Pvhz+Mz4RfnO+XH6N/sJ/Mj8rP28/rD/nACoAa0CigNaBBoFuAUrBo4G6gY0B30H2gc4CI8I7QgzCW8JpAmqCa0JswnTCRcKTgpzCmoKPwrWCSAJaQi6B+QGAQYkBSoE7gKgAWMA//6e/WL8NvsX+hf5VPiu9yv3+PbZ9rb2v/bb9uf29/Yw93v30PdB+LX4Ovmr+Qf6gPrv+kf7vvs1/HX8sPwG/Xj99f11/hb/k//U/xEAXACbANMAIgFjAX0BfgGDAYYBjQGZAa4BtwGbAX8BYQEnAeQAtABaANL/Xv/p/lr+0/1h/fv8oPxv/Ib8zPwc/Z79Of7d/pr/ZwA3AfUBsgJ+A0wECAWmBSMGcQaxBuAG3ga3Bm8GCQaDBeMEFgQqA1UCpAH8AHEA8/9H/4n+3P0y/Yb89/uU+y771PqM+j/67PnR+e35D/pV+qP66vpj++z7bfz9/IL9/P2J/i//5/+qAIMBXgIwAwAEwQRsBQ4GqQY3B8EHSwjOCDYJkAnSCeYJ6QnhCb8JiAksCYIIoge/BsgFwgS0A3YCDgGy/3r+T/02/ET7Uvp0+br4GviU9yD3x/Z09ib27PXa9fj1JPZs9r72Hvep90f4Bfm7+VH63fpq+wv8vPyR/Un+zf56/x8ArQBEAc0BKwJoAqgC0wLuAgUDEAMdAxsDFwMQAw0DKAM6A0UDTwNCAyAD/ALgAqQCQwLbAWwB9wCLADMA6v+t/2n/K/8F/97+v/7B/tP+7P4d/2j/vv8wALoAMgGwAUICxgJJA8MDKQR5BLEE1gTjBM0EmwRrBDUE4wOHAycDpQIfApQB8QBLAJr/4P4z/o399fxs/OD7YPsA+5/6T/oW+uP5zvnS+ez5HfpZ+qX6C/uR+zH83PyM/UD+8/6x/30APwH5AYcCCAOYAwsEdwTHBAMFLwVPBYUFugXmBfkF8QXqBdcFqAVkBe8EWASqA+ICGAI2AUsAZv+N/sv9Gf17/Oj7bfss+w/7Afvz+tX6yvrd+gT7Ovto+5j72fsk/HP8yvwc/Wr9xv0y/qL+Hf+L//P/ZgDXAF4B1QEqAm0CngLLAuUC9wIKAwgDAAPsAtMCtgJyAkgCKwL+AfUB1wG5AYcBMQH0AK8AYwALALD/ZP8S/8v+df4Y/sD9av0v/f389vwI/Tj9if3h/Vr+0f5X/8z/OQDGAEcB3QFfAtUCQQNxA40DmQOOA3IDUgMvA/8CtAJOAu8BbgHTADUAhv/w/mH+4P1h/dL8SvzE+1z7APuv+mv6LPoU+hL6JPpI+mj6nfrb+ir7l/sB/Jz8RP3f/Yr+K//b/3wA/QBrAdkBTwK8AjgDpQMUBHQEtQQWBXgF6AVcBr0GHwdkB6UHxgfMB7UHdAcjB68GKwafBQEFSgSFA70C+QFAAXsA2/9E/6/+RP7q/an9ZP0a/eH8mvxX/B/8+Pve+8r7v/u8+7f7rPut+7z70PsS/H388fxv/ej9S/6S/s/+Gf9b/6T/5P8WADYAPABMAEoAOAA6ADkAUgCBAMIAJQGVAfUBOwJzApkCnwK4As4C4gLyAssCkAImAp0BGAGFABIArP9X/wz/x/6A/ib+7P2o/Wb9Iv3V/Kr8Y/wv/O37hPsn+7H6Q/rj+aL5jvmV+cL5Afpk+uX6Z/v1+378Df2g/UX+9v6j/0oA0wBAAZwB6AFBApoC4QIeA3ADvQPvAygEYQRzBFwEXgR6BJcEtATEBLoEiwRVBC4E+QPvAxUEMgRBBFkEbgSMBKsExATfBPYECQU+BX0FrgXGBXgF8gRcBKkDIAOWAuQBPAGeAN7/AP8r/l/9tPwy/Oj72vvV+877u/uH+0n7JPs0+2j7rPsT/Fz8mvzj/Db9rf0G/kL+Qf4l/i3+Mf4s/jn+Rf5D/i/+Kf4b/h/+F/7G/WD9Hv0y/Yj9h/47ANQB3wJXA4IDkwPoA7AEsgX3BjII/wgyCaUIkwdmBi0FHARwAwADHwJsAFj+zPvU+BH2/POh8p/xr/Cg73jucu2n7FPsXezc7Pvtae9h8dHzd/b++Ar75Pyl/qEAAQO7BdMIlwtSDRwObA6MDsIOLg+8D/UPlQ/PDqwNUAzMChoJWAe0BZcEGgTSA4cD+wLrAZcAcv/z/jv/BwAQAdoBLgI0AiUCGAIdAocC3gKpArMCOAO3A5ID0AI/AsUBQQE/AZkBzwGsATcBnQDs/2r/Uf9b/2j/i//A/8z/3P8zAFMAEQDl/xkAWwBeAIgA3wDkAKYAXACu/43+pv2H/ej9Uv6G/gD+If24/E78OPu4+a74VfgN+Mv4lvzvAYEEOAPDACr/hP7F/lIAXQKHAyUEpATNBHQEoQJw/0f8lfol++37Sfva+fr2OfJU7brq3+rG61jsWuwV6/DoiOee56LoCOrm64vutfFC9Rz5z/v9/Cn+dAC7AzAInQ4DFWsXhxVlEyQTtRMhFVUX6hh0GAAXehZzFacSNg+ZC1cI+wbrB3UJeAloB0UEJAFU/9f/0QF6A8ADQwPoAqgC7wI+BFAFNQUKBZIFpQaAB5gHwAaMBHUCPAI/AwsEagOLAS3/YPwF+y78wvw0+3D5lvgX+NH2afXq9AL17vXe93L6CP1Q/kr/qwCgABoAugBmAdwB5wKBBIQFCgUVBHgDPQICAHj+of0X/Or6MfuY+4D6Rvhs9orzDO/Q7A7v7fXV/t0DVwOpANX+rv3E+xX75/2PAoAHWgx4DwEOUAc3/6b5X/jB+0sAqgFC/+35/PJe7PLnxObM59ToM+mm6cnpNeiu5bnj2eIq5Gbp6fGl+Vf+bgDxABQClwT6B7wMVxKIF/obPB+RICIgOR56G20ZsBkSHIAe6h5AHRwafxXKEIUNkwtkCp0JgAnICWMJBQi/BbECCAAK/3j/6gDGAsQDUwPGAQYAIP+0/hf+Av5Z/on+pf43/hb9cPuQ+er3H/cz98/3Tvhy+CL48fbu9Ub2Pff594L4E/m/+d/6Hvxa/MD7fftb/Gb9if6qAG4CAwNHAzMELAVoBMICsAEdALH+9v7I/8b/MQCVAWkBvf3L+VT4cPa/823zB/X59Xn1WPSh8oXv3OzD7uf01vucAZkEsgRtA44Bjf/u/VT+WgJACGENWBFaEukNdQZgAC3+tv89AmcEgQXUA7P/OfqT9Fjwhe257AnuRPDH8h/zjfBL7ajqF+qk7JvxnfeU/HT/IQE4AuUCcQQdB1AL2RCCFVkZFBwbHIMaZBisFrgWGRjNGVAbYxvcGGQUCxDtC4YI7waaBo0GRAajBf8D+gDj/VP7AfrR+Xb6Mvwy/bD8Z/wd/Az7Vvo3+vr6hPwU/hb/Ev/l/SP8Ufuo+zn8WP0B/07/HP7w/Tb9lPvg+3b80/yn/bT+4f7g/cb9fv2n+3b78f1fAMcCrAK3/xj+1fsC/DT+SP5Y/pL/WABM/rT72Prn+HD10faN+Lv4fvnm+Dr4rffV9nL1ofR59nP4X/hb+Ej4lvdy96j5l/4NAsYEJgUVA2MCeAEdAdgBJQOhBXAIegpQC7sJUAayAmcA+QAhA3IEdwQCA0wAqP3i+5T5rPfk9mf2KvbG9Qf2NvVV8yXy5PFr8hD07fYS+aL5tvpx/Dj+9P9UA7cH4QowDhkRTROeE+QTQRWrFIUVLxjOGiIb0xk8GZwVAhLTDzQNOgweC6sIZAd/BrYDvwBQ/hz7wPtE/Bz7cPpd+UD4yvgu+eL3GPr7+kL6//o2/x7+Kfrf+6T9J/8s/eP+xP8e/scATf4l+2j+L/1N+tX8Z/wMAd781/i+/8X8TP0W/RD24P1xAi/8tP9V/gkAcf9t+Az9vvv1+Fv9Mvq+/OD/RPg598j3Kfg799n1BvgP9173P/mW9ub2Sfjw9Wf4/vuU/An7jPub/Q79ffwv/hj/l/+MAa8BLQOFBYIE3ATQBfYE9gUbBkUHTQfCBlMJUgomCcsIRwi6BnoFwAQIBQwF3AKBAe4A1f9F/nb8Q/pl+f/5ZPlQ+Un5rPid+DD4APfl+Cb8HP9kAHcAyAPuBKcEMwf+CPkJvAq/C/APNRPfEWARihDqDr0NQAxQDDMMmwogC3gJtQXsBHcBQPyG/Lr8xPoq+lX6SPyR+pH0wPXh9kv3e/o/+Tb6dv3G/bv9KP4w/8P9wfkt/hYGfwErAAIDGP6c/lEAkv2fAIT8Xfh6Apz/tvmL/k/7kvvC/Pb37vq2/Pj7cv5++hn8R/7A9xT9Df9i+Pj6a/yp/Yn/c/pE/Pf+tPqO+xP8yPzi/MH6Uf7+/sz7Y/4S/U/8WP9D/SL9ZP9e/2MAZf8W/pEA1v4G/xgB3f7NAv8DNwDiA3ACVgD2ApYCywS4BRYFoQbyBWsGtgbxA2gEZQRWBDgGbgXUBYIEOAFzAmUBX/9YAJT/8/4u/7L+W/6T/Lf7t/zO+0/8NPsO/A7+hvwt/qz9Cvyi/x3/rQD/AbUAZQT1AZ8A5whfB/cEdgkvBvkHRwkuBRcHgwW1BRUHJQTpBxgFtQCDBiL/tv9lBh37lvz9BOIA/v3i/bn/IP1k/TcCvf2C/oUDgf3y/eACIgDE//H+nv9k/4IBjv8Z/skDwPyE/IYEZPzp/En9qPcP/or6/Pg+/Ob3dvon+hX2RPmn+E/3gfoN+IX6y/m/9mH7Kvig+Kz8Wfv1/G383P1z/+X82v7t/yz+6AD3/ln+hgJ1AIcAkQJEAEQCkf8b/oMEif9W/KIFkA7+CFb6g/dq/uT/AAAfA4gB1//uANIAOgSoAV7/BgCR/HQBZActAy7/kf7sAL0CKgGDAbgE0AKDAwcG+QHxAZb+OP8sBZMEJgYXB/oBHP0+AUoE7f35/fMCDgKHAWEBNwUVBUH9gf+yBC0BAwW1BwQE3gRiA8sEdAQYAlUFrAQ3CcwLowKzAusL8AW7+tz/qgN6AZ39rv4bAR39AvdE+kL+Hfe4+f78vvmW+WT9Wvqo9rj6nfu++TT8QwD9AP/9zPx7AjD9y/+0B9n/I/p7/4gEywA+/pL/Xf6t98L6UgEm/Zn45/j3+dD5Ffyn+kj6//dd92z8Of9F/Tf8GgCU/UMBTQRS/sD++gLEA0UCCAOCBCkDMQBwBp8H7/5HAa8C/AFeA9oC9wM3AbL/uAFsAgAAEwDMAAUA1ABTAYgC1v6D/xcD2ADU/8kAYwLwANsA7wPzA7cA6gHWAMUAIQN5AXoC5f+lABgEDQIpATgCXP++/bUA8gFNAWL+bf1z/57/pP61/4H+/P47ApUARP9wANkAOwAvAgACAwDCAAAC3gHOAeYDgwHS/QYBfATOApYASP8aAKABuACZAMv/2v5NAPT/xQBO/8z7Uv3s/nv+af4s/lX+Uf6B/W//UP1L+57+4/7e/uf+x/3O/6z/ev6uAJL+Lv0JAD8AjQA/AYL+o/5H/1n//AEw/279CQCmACX/UP6u//v/tf0u/osB6f9B/eD/LQEk/5/+SQDm/xz/9gGXAh3/vv90Acn/wwAmA1cAr/2PAXwDBwF4/8IA+AG7/2QAswGs/0P/vACWAOMAIgBY//L/KP9p/3cAtP9p/YH+PACl/zsAjv/G/nL+7/7oAD0AlP96/zT/qADHAY4A0f9vAH4AUAC1AAMCbQHw/uP/swHb/xEAJQG5/93/awC7AGYAc/+N/2f/B/89AN4A4f8N/wb/UQA2AckAqgBYAOD/jwAPAvEBowAlAFwBMwJnAHwAAALLAKoAzAHEAC0ABwEuAfAAKf/l/e//5wC6ANz/jv4I/yX/nP9sAOv+OP16/iEAEAC5/w//A/5E/sv/RQCq//z/sQBa/wX/EwGgADn/5f81ABgA7//B/8j/Xf8YAOP/WP5b/s3+3v7A/jH/h/9g/mL9pf6O/8j+qv6y/rL96P1VAAAAp/2q/ur/H/9TAMkBPv/D/cQAggL4AJYA6ABs/0P/yQGZAroA/v+XAM8A7gCqAnQCPv+e/2MCxwKHAYoACgBkADMCHgMQAkQAUgD3AcABtAGUAQf/X/4SAEsBEgEl/zv+pf7+/tz/DQBv/l39EP67/nf+YP3x/Kj9+P0h/hH/O/9n/nL+cf9EAIr/Ov6P/vsAywKiANn+GwD2AFcBAwKqAmwCGAE1AZgC8QJpAjUB3ABLAkgCgQFRAm4Bdv9+ACwC1gHiAC8Az/5a/p0ACwFi/+T/W/+W/Wz/OQHa/vz8wv7q/jn9nwCCAZf7KPy8AEL/8v2bAOEAkP3b/a8BGgDW/f8ADwHX/k4A+AHxAGL/BQCAAG//CwCiAB3/2P4nADAADf83/g//ogH8AXv/Fv7T/lsBXQKwAJ3/Af88ALwDrgMoAKf+3P/7AbcCTgHW/1L/DgCLAWgBpP/7/hv/YAC1ATkAt/6q/ij/TgCaAJb/av7+/cj+LQCFAEn+h/uA/NL/NwBO/X/7g/un/Kv+8f1J+1P6WftV/QD+kfxP+kD6Q/1b/iD8O/sx/Nv8pf2Q/kb+8P2Y/wABUgA2AK4BLgI1AkID1QN9A9cDVQYGCJ4FAATrBmAI3QavBrgGZQYpB+0HTgegBR8G7QjKB4oEjgWEBsoENwT8A8ACvAJ3A4cDRwJuAPwA9AE8AWsBxwDE/cH+DwK9AJT+of23/G/8/v33/yT++PqQ+if8nfyq+2r6h/hh+UL8qfvD+Y/5fvj89w/6dvob+fX4iflJ+7T8h/w4/Cv8Zv0KAFEC1gLpAagBUgQ9B2gGRQVsBvIG8QYeCIYI5QbnBIkEqwUUBbQBH/+4/qP9V/zr+yf6e/ae8xj0jfQH8tvvQ+/q7pbvffD57wXv+O478I/yUPRG9Bb0CvZQ+U37iPsm/H/+rACfAr4EigVKBhIHwwdKCfgJzAknCt0KtAs+DBsMxwsNDKkMhwy0C80K/woYDHQMjQwlDDgKCAqcDJUMJQvPCxEM5gthDHMMygqWCLMI2gnOCJEH0wf5BS4ElwU8BVABn/6e/7AB0ABg/e/7Svxt+1v6PfqS+Tz4Rvio+Wz6PPkA91f3UfyeAY0BZ/7Q/lcCwgMBAx0Bbv61/coBHgiRCFsEzQKRBKUGIgVxAGX7PvjM+RP8JPk2837uo+z+7Frr6uXn4Affn9/v4HzgJ94V3KLcCeDK4mXiAeHL43Pqeu5I7wDxU/R/+Lf9bAJIBJ0EvQbKC7wQqBIiEpYSqhWwGCEahRkjFwQWkRfCGCsXARU4FGwUXBR/ExMSbg83DacMBwycCugIAggYCGQIoQfmBdEEsgQZBRYFCQQyAxwDAgMFBHYFuQQGA2ADPAWnBdQEZwQlBEcExAWRB+EGwATUBH4GVQa8A/wBCAOrAxUDlALtAKH/9P9BAJP/Ov7f/Ln7aPxF/p79AftK+i39SQSFC1AKzQOEBJwM9g6TBrP/IAIwBgQJJQ0BDZYHMATkBbkGwf/t9XzwaO97703tH+hN4ATa09nd2kDVKcw+yIXJvMuZzELLv8nLy9nRl9c/2sHakNwm4y3s3vEj9B343v8WCe8PGxJjErEU9xhMHX4fbx+wH18hdiOgJGUiWBygFwsXNRd5FP0PYA1dDLAMQwxBCEwEQwNBBBAFEwVHBYUEQQS9BlEJZAmaCA0JiQpDDMgNVw4gDsgOCBGsEi0RPg67DO8MCw3eC0IJDQYHBqAI5Qi7BUACXgFnAZEAQP/F/gIAJAHPAYoCrAJsAY4AAAPxBHECxABkBB4INAd1BRoHugtoEe0VBxU6EEgRMBetFh4Oewf4CHkMow2oDRsLJQZ5AVj+kvk28KnmjuEo38PcM9kZ0xfMZMh6xnfCJ7x+tnO0xbaRu/68TLvnvfXFxM5E1IzX/9pR4CPpd/KD+EL8CAKOC+IUhBlLGdAZRR4VItYhjCCSIZkiOCGkH7ceehoIE+8PjBHyD2EKEghtCl8L2AmhCJkHMgfsCG8LggwYDa4PeBNpFjgYyxj7GFIa/xv/HFYdzxzKHAAdqRs8GUsWOBM5EE4OwQyrCWcGAAUzBGMCWQFLAVb/Efx3+3T95PyM+uX7WP/B//L+owG4BMMDbAOTBq4HigUBBoQJnArhCfYKUw5hFqYhdCXPHYIX7RruHWQW9ApCB/gJPAxrDCgKrQSF/GHzp+lB3/DWstFHzJDHVMXCwc67JreKtJqxsa06q3+s6bHBuvvClMeKyzzSP9u45J3rae8k8/v48QF5DOQTUBUOFKQVlxkiGjMVwA/PDu0RoxNIEdQNfAzJCicFhP3E+B/5o/uW/iECEwXqBmQJ0AxhDioNeA1qE8Qb3iHKJY4nrSZQJtAncyhfJiwinB9hIGEh6h6zGYUUAxB8DAYKaAiZBg0EDwKyAYUBBAAk/0EBegRSBqMHRwlrCm8LCQ28DegMVQxRDH0LowqoC2cL1QbEATL/Gv54/iIAoAHrAKP/7AdXHJEryycRG8MW6xlUGJgQ7gkrCD8L1BDqE2AQsQOV8ITcHsyoxdrH6ccJwpm7V7fcs22wVq1uqQ+moqgBtDrEQtHg1z7bnt3I4Cvpj/Wt/3MFKgc6B4sKhBACEkYLVQDH+XT84AFdAUn7c/Oa7IHqJe7780j44vdW9F313vy8A78GfwhoDFYTiBv1I/8rpy8ELAUnRCiHLTgwni31Jg4fcBpqG8AdqxsUFW8NYAfdBEwFOQSrADH+tv+OBAEM1BMkFv0QZwv1C+kPPRPZFooaCRy1HJEdKBvnFLUNSQemAmIBrgO8BpQF7P8R+x74XfSc8CfxMffY/yMH+QgACEIUUDJpSshEUyuWHdcirie3Hz4QXwPKADoKQBJECL/sFs3TtUmtGbPmvSLB1rqqst+vsLK5tpy3rbUluUTIy93o7tH1xfNC7R7pWOtw84/+MAiVCv4CHve67/vtfuv15HTeLN6q5DLtGPGN7FnjO9/U5dHypf+GCpsTzBiwGYIZeRkXGPQWxRnvHuUiFiWzJjUmwiC1F1gPcwvlDMoPDA9ACk8FYQMYBHUFOgXfApMB2gR0C+IQMRP8Em0STxQGGgMhHCWJJaUjwR/cG2gb+B1cHv8Z0xKfC1oGrAIG/zL6evYx97f63/0MAJQAHf28+MT65wTLEccbkh+dGyMYcyWyQYBSk0YpLogjLCgDKhwe2Aiw9l/ylPoRAQ/5XuKexiqydqzrs3i/yMUKxb2/wrq2uznBs8TKxUjKgtVr46/u2/Qn9KTs6+JV3fvgUOyt9z37e/U/6+3hx9wy2yvaXdjt2DTfruhp8Mj0ovbA9mn0A/Jx9pADsxG3GPYYmhfJFV0TXRMuFpYWZxNWE7UatyP6JCEdIRL3CXkGzAf6DKwQaA4eCWoHXArIDM0LxQkQCewKxxDcGWIh1yLjHtQaORuPH4gjKSSoIREepRvOGu8YGRO7CnwDLP88/aT+vQTICqUKPwbKAx8EUgPiAYgEMgz0FYQePyGWHX8fdjJNSixOgjzgKggmCyWyG6AKZvo08/n25v2Y/HnurdWcureqfawZuDPBqMTmxU/FtsOcw3nFWsgxzc/Vd+AE6kfx0fRp8jfrx+Pp4Hrl5+789oH38+6q4mLaCdgH1/XUy9Rf2dHfS+TO5yPsBvDk8d/yn/YV/6oIqw7GEPkRzhKGESAQXhJfFqsWVxPqET8VzBk0Gw4ZBRNnCWoBkgCkBHMGKgR+AtgD1AXIB6gK2gxeDToOkRGkF6ceFSRuJjgm+iXcJj8n7yXlI5oiICExHVMWiA+lCy4IIgOFAE8DnQYbBRQD9AUECnYK8wuwEwwdwiIMJgQmJSORKKc/81lDXwpPojyMMNYjOxMRA573XvR/+gEC6v5h7ZfTULv9rKurKLRswLDLXtEgzgvG/MDBwYLGwc582lDniPGm9kz2D/IT62Di8dvm3IDkROvr6uvjg9sx1nvUYNIxzkbNmtOo3ZTmf+yY7kztJu3r8GL0XfXA+PoAHgkwDUEP+xC1EMkOwg1BDpwP0hCmETESbBEuDpsJkgZeBLcA0f23/qcBcQPtBfEK6Q6KD18Q0BMUF+AYxxuPIaInzSqNKuQoKieMJcYlhyc9Jk0foRb8EEkM3AWwAtAFgwlwCWsIVgdfBCkCbAT5CWYRKRvbI7onaC7OQrVc12YNXIRKwD0PNIsn6xilD/YP0RQEFbEL4flY49nMxbsBs2ax5rW3vkfGT8hNxy/G6sQSxH/GVc4+2r7mxvAL9hD2MPQ18qDu0+ha4xjhA+H4303dW9rS1qrRU8wHynfLa8+x1UPdr+Ln5Ejnfeyj8gz2UffS+R3+WwLPBcsJ+A77EusSkBAQEDQR8xHVETERhw/XDFEKPAjQBVADMQJoAQoAUABFAwIHFQmKCacKvw2RERYU0hUOGXsemiPWJfIlSSbeJ4Up/yjrJQIi5h0DGNAPCAmVB1gJGgmLB8wIyAsPDBMJLwc8CZ8OHBVuG4slsDqnV51qoGjvWU1KCDu/KdsZhxGLE9AbryD2GWwIKPJK25fHHLshtQez6rWvveDEaciHyTbI58SzxAjLANSg3PPlW+8m9iv7l//lAIb93fcC8iXs/ubx4sPfDd743JzZ3dSZ0k7SftHQ0UnVH9p33rPjK+r/7x71yPkM/Fb7Avsp/QcBKQbQCucMWQ3wDSMNTwkQBVkDMQOBAgQChQKKAnkByP8Y/dH6Vfs4/pMAMAJwBTMK6w01D5EPvBB/ExUYFB2dICMjLSbOKMgoZCWsIG8cQhhRFFgSOxIcEc8OSg5eDq0LywfvB5cMXRJnGL8d1iF9LKtEUV+BaZVhG1QRRuo0OiL6E9oOVRSOH5YkKx1vDUP55eEPzeO/ubdPs7+2zsCKybXMtMxfzJfNCtF402/TVdYQ30HpZfKH/BkFUQcGBRIBw/mZ723nNuN+4MbeJN+r4E7i1+II4PHZGtSJ0F3OgM++1pnhO+yy9S790P97/bH5Dfdt95z7wAHOBxYNmRG4Ex8S8A0gCLoA/flH9qf1RvcE+sr7q/vK+kH55va29S33g/qQ/ucDxwoCEXIVshmOHbkfJyI8JQ8m5iPgIH0eNxtwFSkP2ApwCBMInQq2DgwQwwyXCLcIWA3OEh4YWh4FKFk6hlMFZuZnxV5kU3ZF3DJaIJ0UOBJwGDkhAyPgGx0Qgv+76QnWGspuwvS8HL50xdTMXtJ41/fbft7Z3rDc4ti22PreM+nl9acDYQ3jEGwRIQ9+BXn1Vedr32/c6t3t4jboRevN65Xp3uOs2+PT2c6izuXTvdxd6Pr1BAEtBMr/Kfkb9A3yM/S5+pQCkAi9DMUPNxDZDMIFsPzT89PsO+mC6SvtmfLp9lL4S/fF9BbyWfAr8ITyAfgqAP0IGRFSGCIezyFsIwAkoSOcIUUeyRmpFHkQPg0QCn0Hjge2CXAKRgjaBLMBcwAZA1EJdxBSGfsqJkdqYi9vimsiYOhSlEF/K38YBxInGeYk7CqXJ8ob6QiE8pPeoNBUx0PBs8BhxhvOMNMh1pnareAx5RHlf+E83zHhl+dw8UX90QjsEDMU5xJoDEQAC/Er5G3dl9xz3xrli+xv8sDz8u8K6ArestXd0kHW8N3k6DT25wHsB9kHdQRxAFT81/gI9//3Z/zMAnYJ6Q0ADnsKOQV2/qv1Oexs5VvjauWV6uLw4/Qq9Xbyf+0G6N3kMuZ0617zPf0QB8sOcxRfGXodMR/tHfMacRc6FGoRuQ6FDMILlgxYDe4LzQf8AiP+VPjp8371rv2pCQ4bYjagVststm9MZOVTBEJ/Ln8dMBagG24nGC/oLi4o7hk7BO3sANsezhzD9rx5v2zHsc6m1Drc+eWk7vXwJuvD4pfev+Bn6G71uQZgFQYcxhthFtMKs/ns6Ffe8dpU3HXgyuYT77b15PVe7/Xm2uD23H/bNt+w6AD1LwFQC6IRuhGQC48Dnf5k/XT8b/qv++UCiwt+Dy8OyApuBU783fC45+Pj1OQh6d7vJ/f0+0f7FfXV7OnlKOI+4pTmF++V+sgGphGrGWwduxzOF+cQgAvoCEoIHAnFC6UP0xHREMQMdAXV+2/yoOym7EvyV/uVBXUUqS2QTAdjMGjeX89ReEBLLdIdCxgnHqkrcjcpO480TSMzCVfthdhVyiu+KLaVtyjBest608Da4OGU53ToZOON3CvaV9595wX2/whTGrIkqydtIwgWOgIW8ZDoFedC6Nnqa/B0+Kb++vzI8mzmdN2w2WvaiN8v6ZL1xAIjDtQTvhL3DHMF/P8o/ob/BAMtCGQP0haQGioZNhTlDKoCsPba7K7nIufK6bbu4PQc+aP4dfKQ6One+dcO1e3XpOFW7778twgAEwIa3BuUGKISnwxaCHAGBAYrB74KdQ5XDnUJywJ7/Db27e9a6yXryvD4+X0EJxXnMB5RSGZsZ/da7koNOncnkReYE5UfQjPXQHtAMzNhHWkCHeeO0WDDcbp/tSK257wwxWvLhNBG11/fSOMi39TWnNPS2TfngfjbC8UeMSwMMG8pZxvWCin8CvLc7Ljsd/Em+QgB6AVDBSr+tvKs5pDdkNp73j3ox/UsBGsPSRS2EuwNRgloBVIDdwQ3CUsQ8hZfHGYgjiGfHkYXtwwhAfz28++a7GDtq/Hb9jj5U/ap7dXh0det0m/SzNbK35/rQfgaBOkN9RSdGAoZlRaAEXwL8Ab8BaEIFQ0OENMO/Qi+/yH1BesG4pXb3tki3snmv/KZBXQiaENVWkRegVNhQ+4xOR+gDw4MDBniLgdAt0IuNnYfkQOA59rQCcN7vIe6GLzvwMTGQsvMzs/TMNtN4HvdZ9QdznTSjeEs9rIMOSPANNs6QDN7InEQ0gK8+xX6a/z+AfgIpQ76D8oLsgI89mHpq9/+237fkulx9wQGWhGEFesRkQpLBHcAFv/bAO0GABFbHColfCkKKgInBR/CEaICNPe88bTxm/V9+xEBOwMd/kLwod1QzQDFe8U2zOrWSOR68kr/EgmSD9YSYxN0ER0NaQg/Bj0IcQ1tE5EXCRhaE7wI9/k06undldeP1ujZQ+HZ7Nr+VRmCN85NClR4TJo+Si4fHB4MPQcFFIYt6kPwSZY9jCW8CLLqEtAhv6S5bLsGv33BtMFMwBDAxcOkyynUodaJ0I7ITsiL0zDn6v4nGLIvYj7aPUAv3xp+Co0CtgEOBrwOMxlDH28chxJkBsr6xu815g7gKt8i5FjtzfieA3EKSQwuCukGYgS2AqQDcQmwFA0jGjDFN1k5YzYJLwIjUBTqBh7+2PoH/F3/hwLPA64AKfec56nVKccVwHjA2cfW1X3nNviRAwcIHQgMCNkIjwhoB2EHrAkgDp4SPxXsFEcRyAkf/5HyN+Wj2InPkc1x1JnjSPqhF5w2LE1dU/pJazg4JVAT9wVOBD4TwS0nRbdMS0MXL3QVJvlK3fXGJ7oMtnW2Kbj5ubS8YsHjxxPO989OyzDBuLeptUu+5dD56lkJrCbaO95CRztcK0sb8hAODnkR4RlHJYovNDMWLbgfJxB4ASn0luc53VrYCtuQ4zntq/Qp+l3+NwCk/m77zPpU/6EIFRXzIucvLzmbPY49kjlVMgkoVxxFEpQLIwfVAkf+mfly86npc9yIzxnHQ8T+xbPLItX44MDsrPaA/gwFVQrFDeMP5RFFFI0V/xO7ECcOfAx6CaADzPu682TsyuWE4BDeOuAW6gP+7xgTMgJBTEMpPQczYyVSFaAJpgpWGYIsGThENzAtfR4/Ddr5MOag1SDKMcLsuUuwiKhBpyquFLpUxnTOJtDdyk/BW7jrtRi+yNBv6oMFYRxTKksuPSsJJlwiGiEXIn8lfipQLpwtFyiDIUEdvRppFgAOTwOP+UHx1uhF4H3b9d1u5nDwvvhq/48FYAvAD68SDBb/GhEhdCdFLVkyBDYmN8g1OjIiLCIiIBTXBH33HO235P7d69n/2CnaItxY3pzg5eI75b3n6+rv73/3aQEXDCkVthoTHJMZvxNrC8ICe/zh+WP6Fvz+/OL7Nfm29SbybvEg+PMGVBmHKYwz5za2NPstrCPaGM4SnxRsG10gTB+BGbUS5wtVA2r4x+xb4h3YH8u7uUSn6Zo0mayh3rDwwVzP2tRf0W3HQrxetZK2UcHt1HPtrQRlFWEe2CLAJgQrsS6dMZ4z0TPKMBErlyV9I5IlbyqnLi4utiY8GKAEw+8B357WPtc/3jLoj/If++AA2gOTBQkIoQvhD88TJRdMGjseYCNyKdsvrDQjNTYvLiPQE6AEavh88KDsAexu7eLue++Z7onsuOqF6kHsPe/R8rr2CfuB/4ID/QbSCasLTgviB9YCtP6N/CT8wvxG/Un9V/wW+sn2GvVX+foEZRWWJUgxQDc7N7owOiS3FKgHAAL1A/kJrA+iEvUSwxDSC0YEO/sY8ozoF93Ezuq+V7H1qdqqq7M5wfnNGdW6033K4by+ryioZqlJtJjG8NtK7wH+7geoD3wXRR9pJvkrKC/kLiwrvCYaJU8o1S/4N7o8czv+MlskdhInAZL0C+/e79bz//cW+4/8cP3t/mYBLAXwCcUONBIoE9kSHBPHFIUXSxrFG5Ebnxk4FhsSXw6UCxwJJQaSAm/+9fng9dby/PH586L4iP7sA1QHSwg8B08EZ/8G+h32ufQz9VP2evcm+Xv7jv2T/mf+fv1U+/b3T/Sq8THxQvMH+ED/2wdIEMsWDhr7GTMXlxLSDP8GYgOsA2EHVgwgEPsR1xLREm4RJw77CD8Ddf1698Xw7uli4x/dcddt0oTO2ssZygzJoMjnyOPJW8uNzc3QR9XK2lDgRuUS6nDvkfbN/5oJZhKkGHsbABsnGNAUShJ/EXwS6hRXGMIb8R0oHlIcOxmyFRMSfQ5bCzQJYwigCeEM2BHRF0gdlyBMINwbphQMDSwHIwQIBB4G1AhyCjkKHgg7BegCWQE1AOz+sP0F/QD9pv3q/rcALQIjAikAUPzP98rzOPFP8AXxBPOY9bn3xfhg+OH2BfVP82Hym/Ih9Pf2hfoT/gcB5AK+A4UDEgIaAC/+pvxM/Fn98P8JBJAIswzXD9URwBLDEdMOuQqSB6kG0Qd9Co4N0w92ENUOGgtWBqoB5v1Y+835s/j39xn30vVx9BDzn/Ht7x3uduzp6vnpR+rF67btTu+374LuyOso6J7kROLL4cTj4ecK7fvxdvUY90f3d/ZW9c30e/W+9y/7Uv/hA7MI/AzUD/cQexDYDuMMzgsTDJENgBBOFJoXYhlDGW0XpBTxEe8PHg+vD9wRSRWEGK0ajBvKGkMYPBR9D7gKggYpAwIB+/+Y/2z/7f6F/Qj7yPdb9HLxiO8I7/HvDPLl9J73cPkH+lD5T/eM9K3xqO/c7kfvyfAU8+D1ufgt+wb9Wf5m/3AAUgEnAoAD2AXrCIMMXhDvE64W8xcKF+wTkg8OC38H6AVnBqwI9gsGD98Q3hDhDr8LegjYBeMDcwKRAfYAOgAA/zL9p/p89xz01PDK7cbqMuhO5kXl/ORH5fXl4OWo5J7iYOB83l3d+N134Dnkm+ir7Ibv3vDq8Pzv8u7r7lvwG/Po9kz7bP+BAlwEGAULBfoEMwVJBoII1QsCEGQUeBirG6IdGR5IHbwbxxnFFywWcRWFFakVixXsFM4TNxIWEKgNnQsbCg0Jnwi9CDAJXAl5CScJ9gfyBSkDAQDF/A76LvgW9/H2efcu+NL4JvlB+SH5+fgP+Vj5JvqS+1D9R/92AVoDrwRPBRcFHAR8Av8ACQDr/xMBoQMiB9sKEw7VDwgQrQ5JDMwJxwfRBnIHdQnlC/oN9A53DmcM7wioBH8AGf2o+kb5q/iF+Hv4VvjM94j2gfTB8cnup+ui6H7mTOVC5cLlL+YF5sbkmuLf33Dd89vP2xXdWt+z4aTj6eRz5ZDlneWE5rboa+xd8aP2ufspAOADwgaACJcJMQq3CjgLigvQC20MVw0yDgUPxg9sEAkRwhGrEtsThhWGFz8Zmhp3G7YbgBvMGtUZwhjDF88WuhVFFE8SLBDMDX8LoQknCEsHHAdPB6sHBQhnCMsIBwk8CVcJVAkWCWAICAcnBS4DaAEKAFj/Z/82AJEBtgI6AxMDSQIaAREAjv9//wwAFwEjAvECNgPnAh0C5wB6/xr+7vz3+1j7BvvN+pL6dvpO+jf6IvoI+hn6FfpZ+un6i/vo+9n7CvtY+en2+fPa8Ofteuup6ULo6+Zr5ZLjbeHn3k3c5NkW2EPX2NfR2bncceBL5LLnXup77A/uSe+I8DPyP/Rz9rf4tfoa/Af9fP3M/WX+K/8uAPoBYwRQB78KTA7oES0V2Be0GfMavxtSHBUd+R0hH2wgdiECIvQhSyE7IBAfyx2SHJgbHBvyGgwbFxuuGtMZhxitFm8UEhKjD2MNkAsVCqcIWAcjBvIE6gP2Aj4CogEVAY8AMQAMACYAhAAsAQICcgJBAnEBEwBy/vn8yPv5+q/6v/rB+of6Bfoz+Tr4Rfd29ur1k/VX9aX1XfaD9xX5p/q9+wn8fPsV+gj48PUo9Arz2fIb80LzEfMr8nXwNe6W69Pocubw5FHkxeTp5TznZOjk6LLo+ucW51rmEuZ85pHnA+mu6g3sreyL7NHr3+oZ6sTpOOqX683twfB09Iv4bvzp/5UCPAQPBaAFuga0CNUL4g9LFIAY2RsOHnEf7R/uH9wfDSDoIIgiwSRPJ5cpICsFLCQsbiu+KT0nVSRQIYQeIxw5GsMYnBeUFkoVnhO0EWYPzwxSCk0IBQezBjYH7AdlCB8I7AYmBe4CjQBn/sP8t/tJ+w77qvoh+jv5LvgY9w/23fSG8xjy2fAU8CPwHPGd8kb0PvUl9Sj0ifL+8O3vke8U8DDxTfLL8mbyKvFA7yXtaOtU6g/qV+r16prrUOwG7XTtd+0m7Zfs9+vH6yHsBO1d7uPvK/Hb8dTxO/EK8HbuFe3d6zbrRusK7Iztau9W8RrzafQd9Sv19/TF9Cj1m/b7+FP8JQDnA1AHMQpsDAUOSA9yEPURJBTyFk0arB22IBsjfyT3JK0kxiOtIrIh3yBVIAsgpx/oHgce7hy8G5salhmvGNYXEhdhFs0VeRVVFR0VnBSlEy4SZRBvDmcMrgpZCUgIUAclBpAEngJ6AIL+0/yZ+7L67fk5+Vv4efev9hj2tfVp9f/0WPR785Hyw/Fc8W3xu/EK8gLyU/EX8FTuW+yk6o3pFOkY6WXpsOnd6c/pcukG6cTosegV6ejpC+um7HXuQfAE8oPzqfR39fn1IfYF9vD12/Xg9Qv2TPam9uD2z/ZK9pb1jfRN80jycfH68B/x7PFO8+70lvYZ+D75N/oa+w38pv0EABgDwwaNCgIOvRB9ElETjBOWE8sTSRQTFRkWIhf6F24YWhjjFzsXfBblFYUVeRX6FQYXWBjKGR4bChxqHCYcVBseGv8YGhiMF3EXWxcIF0gWzRS3EioQbg3tCu4IhQegBggGhQXiBP0D2QJvAdn/JP6B/A377/lc+Tv5hvkY+qb6q/rd+T343PUW81Lw++1p7K/rqevZ69zrZ+t46iHplucW5uPkYeSP5Hfl1OZX6K7p0erS64fsBO147dftZ+5C70HwV/GG8ujzLvUd9s32P/dE9wD3dfbS9Xv1SPVY9cf1Xfbt9mv33fcr+KH4Yfmr+qX8IP/YAY0EBwfTCAMKiAqhCrQKzAogC84LlwxXDbsNlA0JDQIMxgqsCewI2QiWCeUKgAxhDjoQzRELE9kTShRuFF4UUhRQFGIUxRSZFYAWMBdzFw8X7xUzFE8SRBCMDnwNCA0QDVoNpA1gDYQMMAtlCVEHTwWgA6QCcgK7AnADPATVBP8EgQRWA6ABof97/Vn7ivn997D2sfXH9L3zhPIX8Ynv5u0w7KPqbOnC6Hvoeein6OnoQ+mh6fXpSuqm6jrrDOwN7UHugu/Y8Bry9PKT8wH0JvQ99FH0ZfSH9OL0N/U89Q/1wvR19Ev0b/Tn9Mr1P/f6+Bf7dv2+/88BkwPnBNEFcQbABtkG9AY8B68HSQiqCMIIiAjcB9sGmgVZBGMD8QL+AnkDawSTBa0GmQdSCNgIGwkoCWgJAwrKCukLWg3ZDmAQrRF1EqkSVBK1Ee0QWRDXD2gPDQ+xDl8O0A04DW8MQQvuCbIIxwdsB5IHFwjWCM8JwQolCzcLuwreCQsJWAjOBykHgwbDBeIE2wN/AucABP/6/Pj65vg19/D18PQ/9NjzOfNC8lDxafCd7/numO557qruUe8s8ADxwvFP8qny0/Lr8q/yPvII8gHyEfIz8i7y/vGY8RfxgvDy76fvbO+L7yfwPfGn8iX08vXN92350fr9++z8uP2R/kP/7f+8AJkBSwKfAsgCxgKIAi4C3gGkAVMBCgHgAOcAGAE0AYoBKALXAokDRwQeBQYGBgcSCIAJTgvfDCYORA8+EAwRfRGEEaER5REwEiYSrREbEXYQgw8oDpYMGgvjCQ4J9QhhCQ8KZgpWCpsK/QolC6YKwAmsCXYK2gosCvUIvgfZBjgGgAV/BFYDXQJyAS0Ag/5s/PP5EPhc9xb3avaN9d/0p/Sl9GX0H/RL9Ev1Tve++aj7oPzI/EX8Vvsj+pX4NPek9v/2nPdk98n1XfMW8UHv0u2o7B/sbOwS7WjtU+1h7QzuZ+9X8fTztvaN+E/5tPny+T769Pop/PL9yf8cAXwBwACH/4T+F/41/uT+BwBRAUMCggIZAmEBiwDV/8H/ZwCKAesCeQQOBpUH4AjXCZkKkguEDP8MLw2eDUcOYQ7bDSoNqgwbDCkLCQpMCd8IWQjkB8kHGQgJCEQHqwawBr8GSAYNBm4GRQcOCEAIoQiwCZcK5Qr+CiwLUQsNC3sKFgrKCQoJogflBYQETgOGAZ3/Wv6y/dL8SfvQ+Vz5ivle+Q/5Zvks+mX6MPp0+g37XPtT+xX7wfoZ+qf4evah9O/zkfPJ8kTytPId8zvyc/DO7hDuP+7B7jvvUfAT8jvzUfOe89b07fVh92L6Lv6cAJwA7f4Q/Fj48PTF8hTyFfNE9Tr4CPza/y8CEwP8A9sEWASoAhoBmQDpAKcBWwPkBjgMPxFLFGYWixgMGf4WKxRGEngRtBAzECMRUxNKFZoV/BSUFP0T3hHWDRoJGwQQ/zD6Ivbv88Py1/H48STzQvSw9FX07vOD80jyq/Dq7xfxVPPX9Uv4ufql/KH9yf3Q/ZT9+fuO+dX3Cvgm+U362fsL/ngA9wH3AiAEtAUhByMIQAn1CdgJPwkACcwIyAhBCWoK1gyxD44RhBE8EDsO9goqB6cEhQOBAjAB2P/3/pz+O/4w/GP4S/Ta7yjrqOc45Uzh4Nx64ff6jCOJR8dbLWQjawBwnmV3Rzwgbv3m5djXwdNG2CDeNOH65cDus/Up8wLlB9I9vtCoC5QPhyOKvpxLterNWeitBH0dgCz4LwMqYh0hDrkBjvyf/gUEcAnMDykY4x8uJD8jgRyQD3r7CeQf0SfGJ8M0x1rQXN9T9ToPFig7O1hFMUaHP+M0+CmMHx4W3g7EDBkSjRzsJosuHTJDMLAnRRivBVvzUuL00z/K9MZCzCjYiubN9EUAawfQCBkF9P5U+S/16vJc9EX7zwe/Fvkj2S3mMegtgCNhFt0IjPrv6+fgw9oN2C3aEODJ5SDqie0j8MfwNPGr86T2zflkBNEdDkAPXAJqO29uc8Bzg2btSTon3wj28WvgGda60gDRlc4WzwLUXNdW0u7EYLXMpvWY041XixWX062SxwLhLvu+FU4rkjYJOJswySG8D5QAVfcV8tXtDOyE8AX6KgI2BaYEQQCp9Gvims/wwuy9m75BxbfTdOk7BAAifD89V8pjmWQ9XmZUOEeLNqkkARV6CwMJegz2E6Aa9hzVGbQRkAdw/Jrv/OEV1uvOhc711KbhgPIYA4QPuhaGGsYbjRm2EysNxQbMAIP+mgFsCckRKRYKFnUTTw+SCDv+jfGX5bDb9tWW1yHfz+f67UfyB/j0/m8E2AcICu4L8gyNC6wInAvgH/FBJ14OaYtpU2vgbO1gR0LoGg74R+CV0azKecqxyoDJ1csS1YbfJeBw1GDDhrJXormTAo19lcuqRcSd3pH6chV3KakyuzCFJSkSS/s06ZDg6d2G2UzVh9nl5VDypfip+Mb0MezR3ZfOOsXywSnCvsdm1rvsAAZzH4I4ME7jWhhcf1esUr9KMz1GLcYeUxQNEIASJhhAHCUd5Rp7FfAOpQdu/IftZ9981onUK9nC44XyuQEBD9AZBiJXJ9AnRyO/G+8SmAuUCRANnhGbEzEUqxa/GT4YCBAIBFH3Euow3VHVHNeT347mmOt69S8Dbw04EuQTrxMMECMIIgE0AG0BTf6VADYbZUcVaJRxEXGLchdvDllqMasGMeTZyji6OreMvaK/Kb7bxZXXMePx2z3IQ7ZVqMqYeYoMiSqZH7PyzivsAgq/ImkxjTM2KpoXQP6g5gDZbdOxzUfH7cns11zncfBP8x/z+++O54XaDs7pxjbFMck/1Rrp3gG0Hek6BlVUZc9pnmc9YupW10XXMxIjyxNNCSEIIQ44E1UUbhQDFKcPIwZs+dTtNeUb3wff0ee59qQGUhVWJGYyUTpdOno0KCrjHMIOwgHJ+JX1B/bS90P8RwQ2C0EM8geSAEb2eumD34Tc/t4V5NLpA/K3/o8LaBMyFvgXoBrDG68ZyBQgEBQNAwi1BhgY9jnhVslg3l5HX9ZeBE8OLhcH4uXczrbASb3vwZvC574GxJ7TD+Kb5IrZ4MoHvuKubZ+imISg9LIUx8fcY/YwDl8eHCSxHRsO3ffP35fP9Mi1xNK+bL0pxwrX5ePV6/7uje2I6bDiWdrB1DPSp9SB37DwdQVDGw4x8kWeUt1TdFFGT6RISTlMJXoV7wvwBPYCyQhWEZAW0hmVHuQhbh59E5UGIf2Q9k3yLvMq+jEEAg+WG2MpXjSyOH41jSy9IJQUYQmv/7n5Zve19an2KP0rBq8LxAlPA5X86vOZ6h3m5OUx5o3olPAZ/WsJgBLbFzMafRouGI0TCA5aCOcCHf119jj2zAz8OBVeT2mZZupoX24XY/Q+3w+i527OdMIGwKHDqsMwwP/HkN0Z8uP1JuUzzQ+5cabSlD2LZ5CfoZi2cM7o7HoM9yKrK8YmXRaR/jHnL9hX0LXGbLp4ttHBHNZ95svtMPCf8Jbto+VM2ybTc86wzQrWaOniAhQcozIVR5RVO1p7WEBVJ065PC0k4RFiCnwGuQSGCHEPLxXxGY4f5SLHHbAPvv+F9D/v7O0276H0Jv/4DFQbDSjbMcg1VS+aIYcVVQx7AqP4FfK48Af0q/nLAK8IWQ0MC9kCQ/k38pLrCeIY29Peruvu+PIDjRORJ7YzADNPLRgoOiB7EvQCtPq4+YL2QfL1/oUmC1WMbZ5tUmxRc5duUE6IHT/wQ9C6vsK7FsNgyB3GPsmb3Kz11f6b7qvSfrxJq/yYrYo0ilaZlK+wyIfpVA4QKiM2RzODJDwNVPJ22w3MCr/RsDConK+CxTTc7em979zy3/MW71rl79nozc3F4Mg32TTyJA1sJpU9s1AhXdFiAGBTUZc59R+FCTT4mOwG6W3s8fK//awNeR36JiQmkBx8EWgH/f1098PzsPPt+S8HUBrzLJg4Dj17O2QzeiZuF/AHpvgn6vHhAeTZ7O33pgM2DmwUgBSPETsPnQmU/KvtzOfB7rb78AaeEbEfeiz8MUsyoS/iJkUWPQIX9JLvQuvq4gLovQqVPKtetGcEayp1DHafW4ssIf332M/BkrkDveG/jr3FwinZzvWaAcjww9K9vCSuxZuRhwGAj4zApd7C7eMrCIAmCTYUNpMq+xSl90jbXccbuu2tvaXKqhW/rdfY55vu/PIw9ujzKOsm3rjQg8hpywzb0vLxDHAl7jo5TYxYeVi1T1VEQzQSG88AYfLM8RX28vdR+okC5g31GJ0itSTqGtYKwP6V+xv90vxi+4n+owp+GwMo3S73MXwvhyaxGrUQowiF/Trwlunz7Br1c/1iBowQ8RZZFkgU2BQ5FNYKuPmE8Nz3FAT6CbgNkhYZItooTit2LTsp1RjFBPr5PPg78pfkt+ciDqVAxF19ZFJrJntjf7JjCjMqBXzkTdCQxKm+QrldsqG34NA27s73FOVhydW7QrUXpIWNiYMrjgCmNcGN4NYDSyD3LRsv7CftF5n+bON+zfq5QqdwmxqeH7F+yNjVLN2M50zyJfem8m/nqtuC08TTzd9D9NMJWBwQLuJA409sVNtNhUA0MNocDglb/Dr4q/Y79KX0D/00DFca1CDlIK8d1haqDdMG6wMWApYAZQLQCykc/CnoLzQxljDqLAYk2BYUChj/P/Rq7MHrG/F+92P+vAgAE5UXVxgEGDUXthSHDNcDSwZMEHATFhAaEUwYjR8hIQYetBnqErcJ5gK9ABH9ofNR9HsSXUFfYLNj7F/tbLl9e28zQSkRL/Ly32vRksWzumGt5KWwsPzJB93o1c67fKwjrwGs0phiiCWNRaKltx3MhugrCLwbcR5CGUwSdAVG8FbZM8aPtGuiGJlMoym4MMWcyHrRK+b7+Mj7/fFN6MPkhuVA6rH1TwXNEgkfJS/VQZNOAE76QiU3Gi0rIRYU/wg3AY78YPrq/ZsKBBpBIU0gEiFgJV8kzhtoEjYMiwgsBicI3RAVGV0b2BuWHyom4yjjIZwWJQ9aCvcDZ/3b+1r/MgNBB04P8xnpIPYfnhvwGv4bLRhZENMMVxDmErMO6ArIDvMTnxAhCWMHjgiQBPb87Pna+3f6IvnuDHc42F1wZlxf1mQReDN4j1FNG+/18+QV1/HCBK0tm/+RfZcJq5K/u8KOsfuiJqfMrQakEZPPkISjBLutytXcR/oyFMQaThPKDHUJm/7L6F/Rpr4er6WjhKMusDq9ccHZxijacfRqAe74Cuuk6mHz3vb79aL5MgJPDCgYsCijOpVC+j05OU48VkAbO/8sGSDuGf4VHxHbD0gV/xlrFnkSXRi1IYEhaxdMD3UPphGnDz0MUQxSDp4OpA+4FbIeaiLAHfsYLxsnHs8ZnxFxDcIOcBDSEAUUUhmrG34a/Bn9HAEfPhuSE88LNwbIAnz/Uv3w/uIBoAIoA9wGDAzwDdcLWgm5B5UFIgWhECUstEczUr9Qi1Z8ZnlpW0x3G2/zMeDe06O9GaG1jYGLg5jtrebBw8onx2TDbcpX0vvJ5bP0pAGrzbyWycfPj9pH6oL05fUb9GTyxesf3AXKUL5+t/SvRaqcrRW66Mg52JXrE/8HCxkPaRFsFt0ZJRRuBzr/yADxBfIINwxOEwQcviQwMD09ykSUQoo6YDMxL9UpKB9EEuQK2wsXEa0WJB06JH0olShEKNspgiidH/8SFAlyA5j/uvvD+ST8eALOCtgR1xV0GM0ZJRh8FIsRzA8gDWQJLQjKCgkPKxNAF1kcRyCqHwUczRfFErIMTQWh/Zb30/TW9n377P6dAZICDwNMCBAPsw7JBv0Fvxu8PHpOUkzySIlRP1qXSnEgn/TX2pfNTLxypJ+Sx40SlE2jzrYDxprKRsrP0Treft0Dy8u2lLKGvvzIV8iWxrfNk9nu4AHidOHq38LZ2tBty1LJjcQUvA+4vr8+zi7cm+lp+BAIcxTdGowdfR1gGCUOtgTfAU0CnP8F/EP/IA0ZIA0xIUC3Tlda8F5LXPRUskgmN3wkFhbADugMqQyfDloVXB/CJ/or4yy7KqcjAhn+DTYDGflg8Sru7fAZ+H4BOQuvE7MbTSLYI3QgaxsmFuoPPgn2BK4DuAPHBWIKKA9wEjEV0hfbF0YUJg+FCX0Ch/r68ynwB+4P7b7u6vPp+qf/dAHeBMsNeRb5F4IZLSk+QnBPbUq8QeNAkz27JdT839lRyfe/xK4tmY+Pr5YHpL2vu7t9yD3Q4dKa2LXfvdkDxGyw+6+lvTvDkLmgszvAutXk4BXe8toe30Tj2OC42uDUFs7lx3vJe9U643Tpvu1K+wUPfxpcFxcPwAs9CxkHHABJ/WAAagXmC28YfitfPR5I+FELYURuUm/gZQldzFbTS3k6NClSHqkY3BMSEKMQbhXTGMkYpBqOH9UfRBiVEHUOmww5BQ78y/mx/0YGoQjACUcPdBj+HjsgCB+EHZgbIhh9E4EOhAjPAYf95v3yAC4DqAK/AJL+FvtO9xPz5+xU5vHhpeGm5CzpBvCV+cYDnwzeE1YbhSJgIzIchRcjIfgyiDm0L2IlnyUsI3wMAufzyTu/tbj2p5yT343nmPimeLFVvZfMCdoy5Bvve/Yo7yLaAcm7yCTP5cnRuo21P8PO0+TUGcwOy5DURtul113Q3MxUzaLPe9T13Mnlae0H9xAGFBb5HW0dCh33ID8iDxuoEZsOlxGUFFYVlxnqJOMz6kB6S5BWTGEnZgZjYlx9VB5IbTbHJBgaIBboEucOPQ7CFAEf4iRYJLIhqCDyHlsZkhE4CqAD3/0K+wj+5AU0DkMUNRmFH0cmLimWJc0dixToCkIBAPiu8AzrVefz5tfp8+7b9GT5HfvS+gL5Y/ZV86PufunM5onouO3C87D5XAGiCBwLtQm8CAoJYgQw997qwe0l/3oNcQ2lCZgQpBuCFjT9yuIr2HrWaswMub+sR7FQvobIH9Bc2wPpbPPs92P2TOy12KXCMbS1rtqo1Z7wmfqiVbQjwCbFYM5V4M3yKvt/+lP52vqf+7j5IPgT+R77tv1oA4oMSxSIFqEWWhnCHIsaGxLdCgMLWBDyFMYYiyHAMYxEVFSjYCZsgnbNelt242tzXqtN4DkSJxkZ1A98CJ0DFwTQCVkRoRY1GRobFhxLGuQUQQ77CHgESAEEAZUEIQsLEs8X6xtXHscdQhlzEdAGpfkx7H/hrdqk1vfUL9de3tHo2vIB+yUB2gNhASf6tPII7pHpeuPt3t7gO+dH7EjvW/Pu+Zf+EP0F9wjx6ux76IHh69uy4IjzCgzbHp4qIDX4PnM/xi/SFH37AOrc2bvEm7DlqC6uGre2vmrIZdbf44frzer34fvSicDXsO6p1arCr8C3fMUp2p3wAwLzDPcUERt8G+ISogMM86Xko9nT0iHR5tSQ3nztef+jEEMd1CTDKr0wajNjMKkqpieaKGkqBy0QM+A7akUoTvFVEV24YANfEFoQVWJPYUZ7OqwvkSjQI9UeExtUG8AdJR/THmsd9hp9F5cS/guwBNb+wfsO+1X7Gfx5/k4B/AKkAyICivxn8z/quOTX4f7d1dlM2bXdaOMj5sXmPefm5/7n9ua35B3gtNl81f7VbNiA2KzXy9od4vvn/ekV647sHu8d8uHz+fQH9or21vfH+0sA9gGXBUoU1SrqOMs3UTIKMsgu2xnV9mra9M5DyYy8K6/msJLBwNFF2ubizPD8+7r8GPd48Nbm+tbjxjfCJsq+0pHUedhz59D5oQGX/sL8NwF/A6/8gPJH7Wzt6u5R8RT4PQQcEmQeSCp4Ne86hTcUMZgsKicvHeYRsAzIDnoTJhhyIDkuQT29SDNRBFrKYfJjqmCwXVBcBliUTc1AODecL3kklxQ+Bl/+5PrZ9Q7uJOpC7Mrty+or5yHof+z97pLuxu6s8g/3RffO9U73ovmY9vHtMOWR3+/aJNQjzHHIUsqjzNvMA86/0QXVy9ZN2cnced573o7fVeKv5GPkeOT56KPwq/b0+J36f/5bBHgJ5QviCkIHRQSQAxcCpfxe9VjxSPO0+qsJCR8RM8E+LUNtRYxDkjXgGLH5A+eU307WcMjkwjLNEd9Y7PbyX/iJ/qgBs/7+9ULnktQQxSTC2stc16jd6+Os8hIGXBD/DGAGDAZICGwEN/mi7vPr4vA1+Of+nwa5DvgUsxndHJcZAQ7UAdz9OwLgB+sKHRFGIeo4zk1MWSZfTWRcZpNhxlWXRRg1uycyIJYeTR6aHKwbKx7BIsUjshwPED4ErPsi82vo2N/p3WXhn+Wx6Jzre++W8i/yJu5A6Ojh3dox1YzTs9Tx1e/WZdom4B7kveO14W/hd+KX4cjdQdqZ2WPartnm1wHYZtox3ULgGeTU6Abu3/NH+g8BnwgqEKYVDxmJHEcfjh5AGmYUpg5pCewC3/rN9JXyAfPY9CD3qfjz+hIG0R0tNq5Awj/dQcVJGUhwMIkQogD5AhkEh/i77ITvsPs1AXz7tPKB7BPlENqS0O7JwsGAuJm4M8ro41T0KvqhAlcS+RutEuD+6fFX8IPxYO6y6j7txPVvAPIJ3w+jEGINegrZCf4HWgDf9kH1Kv9gDXUX+h1+J3g1ekCAQr88ITQWK3chVRgkER4NLQ5XFl4kHjJDOUQ6WDiJMoolmBF3/Jfp8dkxz0XLhs3z0rLZN+KR7Hn0KvbE8lXvRe757Pvps+j97MP03/rf/Uj/wf53+lLx/eTZ2AXOM8S1vnrB+so/1g/hmO09/PoHWQxSC1AJnAckBND/sP4CAV4DvQPDBCUIswmPBRAAWP8VAXD+NPjs9ST5ofuS+lv7GgSAEFUXrBjBG6MiCCWgHeQUgRnZLEI+bUG9PptDMkulQ+ImMwdY97jzvO1q4zzg6eZn7hjzFPrXAd8AU/YS7sTuPOyY2vzEZsIc1UHnUet86/L0BwLXAm/1h+Y93uLZIdi/3CLm8etE7Anv4fcH/or4Ge3A56zqde7G7snvjvYvATENqxqkJjEtKy4FLoku/yuEIsoVDA4ID8YTexUKFf0XOB+jJIgjcx7oGtgYFRS1DBUHFwWhART8fvrd/sMDtQOoAfgC+gXqA5H8yfZz9XL0hvAU7cftx+9M7rzqgOkM6hnpHOfU5nPopegk5iXlD+nc7THvg/CI9if/GwRIA98AKgE5ApD/Gvs++QH6RfuO/Ob9LP40+7H1APJr8qT0cvaY+e4Ahgz/Fm4bKhrVFaQQbQr5A08AnQBJBO0KxhS5H+slfSKaGvEbfyieMOcpCyDLIxMwri6SGWsHRAqdFfgTqwepAbEDzP938TLlfeAA2cDJmr/7w+LJMcE9soyzXMdU1hrTmcyw0qrdLN1D0xHPCdcu40rtnfidBQUOBg8mDXsMKQjM+wTtheUY6ATuqvFr9VT/MA5XGgcfrh68HXwcBhpNFxgWUhfWGgIi6SyENwc+00DTQuZDt0AzOOYsXyJ+G08XtxPUEB4P/A1ODeQNLg/tDfgIUARIAQL9mfZZ8a3vFO8D7unvufU7+qX6Jfv6/qICkAH0+2j2+/Ie71zoNeAv2xLbK9243r3gk+TU6MXr5ez57E3sRerP6ELqoO0R8HPxmfRU+uj+rv/O/ioAggPkBMECFgDmALQC0gC//SIAhwfMCucFgQGPA9cEF/+f+VH9AganCh0MDhD+Ey4RNgkVBqcNwhrBI0YmoSlVMi03BSztFv0JHgoJCqkATfbP8g3w8+a53APZc9c70IzHJce2zBvMiMKzvMbEptRn32DipuVe7eHzr/Lq7BXrsO959i/9+gUiEFkW5RYNFxUZxBe5DyUHmgXSCCwKIQl4CoMPsRQMF6UXqRi5GXkaMRu2HO0eHyFhJBwq5jHROF88YjzyOeM1YjBcKSQhJBp9FuUU+RIcEVMQSA82DE8IywRHADf6//N27gnpZ+SE4kXjfORU5f/mFupc7c3uje3H6sTnaORH4SHfxd2b3JnbKtzl3iziuOQq563ph+sI7DLrWOo56nvqeerl6pTtCPKx9Ur3R/j1+YX7pPvq+qP6Ifrh+Dz3+fa5+vkAZgZHCnkOPhO5FbgUGxLLD+MNqgs7CXgH/AYuCBEK2gsSDpEQdhJEE4YTWhMYE4cUZBi7HNwduxoxF4gVpxLqDMYHawVZBB8DtgIsA50BR/0o+ZH3JPdw9VbyEPCY8CX0QPhq+tL6bPsi/T7+Xvwy9rfsTePY3AnZNdcJ1x/YRNtq4bHp2vC/9L72gvky/tQDbghgDLERyxhvIEYmuCiLKC8nSiU0IhcdGRd6EdQMowkBCOkHiAj0CC0JWgkmCVoI2weJCCAKxQxbECYUHxeWGDEZuhnVGJ0UlQ1gBmoAq/qW843rFOX14abhsOF94PLe3N2a3dzd793g3nbhyeQD6NjqTu0W7xLvKe3X6jfpzuj36GXo8eZp5hTo5epo7Qvvy/DN80D4Af0HAb4EpQh1DEAPiBC6EFcQmQ+3DpYNHgyGCrIJIArSCu8KwArYCtsKPQofCSUISgjDCckLYg6eEfQTCRTAE0sVNxdXF0UWkRWvFf0X3BwuIdkhFB8ZHPQZHBdBEx4PcAtWCGoHFAk9CqoIrAXlA5ADFQO5AXH/H/yx+N/26Pbc9fPxt+x/6Cvlwt+e17HOOMckw/zCZ8Xex+jJcc2C06faQuC642fmm+mN7SLzXPoXAd8FbAkzDfgQzBL3EZEP+AxgC8oLsQ0lD5cP3hAcFK4XBBnRF80V6BM/Et8Q5w8gD+gN7wxvDbYOMw9XDs0MogtkC7IL6QuZCxkLiwoCCh4J7waJA+n/Of20+8v6BfrM+Z36Mvzc/Vr+Cv1Z+t32IfN97wns+eia5rDlxOa66FDqF+w973Pz6/Zc+Ir5wPydAWEG+AkUDA4NHg5uD8kPpA5YDTsN0Q0SDp4Nnww5C0YJuQZWA4L/Kvwc+uL4h/c09wj5SPyF/+kBlgPFBHQFxAXABVMFywNPAWv/Af+V/6j/j/6K/NH6I/sm/ikDfQjSDHsPaBBOEBkP+gziClYIbwVlBJwGkAlYCrII1AXYAh0AqP2s+vf1xO/v6gPpFudB42PfS93m3Lzcp9ul2UXXztW31sXZGN2n3xPi8+QL6NTqyOw37nnwgvTN+o4CywkREDYVWBh6GdMZ3RkUGTgYdBjNGeIbHR4AH1ceNR0DHHkauhhiF0QWkBWvFboWqRgsGiwbNxzTHDYceRquFw0UmhC7DUwL1Aj4Bl4GZQZGBjIGvAUrBBoCOQC5/j39qfvf+cj3lPWQ88Px0u8M7qXsGexY7BrsQ+vU6hfriOsz7Nrsne1P7/XxhvTX9fH1TPXy9Hn0OPPx8ePwH/AM8CHxEfM19YL3DvrZ/H//oAGJArABi/+X/fD8DP0T/fH8Jv3H/W/+qf4y/sf8RPtS+yX9I/8iAIoAYgEXA9wF7Ai8CmkLPgzWDWsP2Q+8DncM5wm8CNIJqwvLCxEKcAgECO0IuApCDMIMNg3VDqoRbBPFEX0NyQjaBZYF3AZLB5cF2wIXAI79aPpm9Szvi+kf5iblT+XV5EfjL+Lv4l7lXOg26pLq/uph7FTuJPEs9BT2Bfii+y4AFwRsBlYHigcFCFQJRgt2DZwOog7oDkYPjg8rEHgQ7A/eD2QRbhMEFZMVoRQpEx8SPBEyEMYOCw37C/wLkgxCDWkN5AwvDB0LQwntBgoELQCD/Fj6x/hp93X2s/X09CH0EPMB8sHwQ+6i693pAugV5jbl9+SW5Njk1+XN5sbnA+mT6mbsnu0Z7rbuge8r8LLwP/Ee8tLzQPaH+XT9vwBQA9kFCQhZCRQKPwrdCaMJsgmvCV4KNQwaDnAPtxDZETYSxxGTENcOVA1eDNwLfAs3C2sLqwv0CzIM6wswC+8KUgu0C8cLQwsfCs4IwAclB+wHNArnC8EL+goRCzgLzwn4Bo0EHgQrBS0GRAYgBdYCUQDi/tr9tvtg+db4ufkC+lT5CPhM9ZDxdO6f7KjrT+vO63LspOxU7aPu+u7b7YnsB+xo7Ift3+4K8HTx5PKM9O32Lflv+g37fftp/BT+QQACAmQCUAKoAgoDGwMBAx0DxQN3BB8FdQYHCPkH1QYAB4gI7gmiChMLZQtZCwILMgvCC6YLLwuzC+UMLQ0eDHEKKwkDCDgGqATLA7ACFgES/yn9UP6PAyQGRQES+w76EfxP++j2CvMN83/2uPlH+e305u887u3vO/Nq9wf69/l9+or9vP8Y/Vf4cfhA/oEECgfrBa0DmQJiA08FNwfYB7QHsgnNDngSqQ9yCLgDBwRYBhUHfQVfBL8F6AcJCUYIbgQ3/wv8z/vf/d0AtAGL/zj+ggAcA5MBQ/0L+2H99AFABYMFzgJdAHkEXA2qD00JYARKBkoIMAU7AUz/cf05/EH/XwTDAgb5X/HC8pj3FfhO9GDx8vHv8zH0VvGo64/lveMv53brLu3B6/7oK+iw6vPugPHB8Cbx3fYf/ooB0QAa/3v/mwG2A8IFfgdnB3AF1AOwAxMDcAC2/dX9UwHBBYoItwhfBqIDsgRZCYYMwQwZDh8SoxVAF5AXXRd/FwsYqhplH+ohdh/zGg8YZRbjE7gQ1A24C0UKSQnBCI8G5gAx+tH2Ofjx+wD+nfyv+fb38vcI+L72KvXA9Vb5fv4rAmEC6v7k+ZH3n/mk/F78xfnM+Wv8zPzF+Y71M/Jy8M3wovNd9dTyVO+c7o/vwu+D8PXyefWG+FT9nAA4AMf+w/2q/Eb9iwDmA0YD//0v+c74iPom+kv5evsL/aH6O/h3+Iz4U/X/8Wb0aPry/Vn9afr09xj4Uvpm/VkBWQXMBnwEtwEHAgwEowczDmIU5RdMGxcftx04FX8OmBBzFSkZ8B1IHkwVSAldAj3/RfsW+HD5lPx0/pAAVf7j893o+uaH7Sb0tveC+vH5r/SX8Azwa/Cu8H70Mf3hBHEHAwbxAB37GvpE/UMB6QU5CkwLxAZvAM39u/p39YX1Jv3DBDIGAQQqAiH+CvnB+bj/TgVACaQNVhFaEdEOMw0/DT8P7xPVGIcacRkRF64SFwx3B/AH0An8CN4GqQRSAE35FPNl8BrvX+5F8ITz2vOL8FDtk+vL6rLrfO7I8Rr1Jfiq+GL2w/RK9cj1oPbe+cf9Tf6I+7H4N/YI9JLzlfQL9q/3GPlA+OD0NvIm8wL33fvp/ysCkAOWBGMFRAaQB2oJVQsmDjURVxJbEdAOwgvxCsQNFRHaEIwN6wk8BqECvwBjANP/4v+HAcQBbv6J+hr5AfkE+jP+VwTJCKkI8gW+A9ICHwIDAe4AAgMLBQ4EuABi/Q/7FPrZ+nP9dwGcBAgFCgSqBgQP+hVPFRMSlBMjGCoZ/xTQEO8NVwuCCy8NxAoFAZ/00O0X7zfzu/PN7vXpTuvW77/v5uo35xfnjurv8Bf3Sfci76jn0+eO7NrwzfHV8RDz//TN9o31wfHo7zTyIPgGAL4FcAXD/6n6+vs9ARME1wNeBCUIKg3BDwEO/AgiBeUGfg0VE0QV1xPLDyUNTA5cEcwRwg6JDU8Q0xHhDnAJngRGAi4BggE4A4gDjQG4/dn6Y/tc/EL7mvrJ++b+IgLDAf3+9PwT/dj+UwEJBJkGvwRxAJ3/4P9OAScBMv7M/R4ALAI+/0z4D/mf/ev+rQH+A4AEtAEN/vH+yQBnACn94Pgu+UX+cv2R9nTytPOv9/r4qfjF+WL4KfUY8+HwlPH/8qbxofEf86P2A/nT91T3EviG+aD6/Pl1+tj87Pu09x/3UPtP/kIBjQSHBboF3wMNBSoJkws7DqgNVA3DERAUtxEOD7MNuw9MEfoRGxHZCdIFMAigCbcI8QUgBH8EDgLi/3oAzP8o/h/6I/oYAOcBd/vH9Df1CfiO+E/3SfdS+Mj4+vdD9nX4y/o/+gH6Jfrl/FP+Bvt0+Sv6wfqG/K7/pwLrA/0CMQJJAdgD9weVBgoF0AV5BmUHNwToAHECyAUtCDsJfAufD9cNZQcgB3AL7Q7UDSULsggdBQoFqwYNAwb/IP5T/rcANwE7ASIAMvm+9uz5bv5vAmf92vj7+W/7d/1q+KHz//hm/TP6mfbi9z/8IPun683oMvnaAVP8k/JT9Nb+yfxv9Jj01PsVA9f8qfWu/UcBlvvG8lHxMftDApkDBP5J+FT65/v4+p37ywD9A6/9ffir/j4Gm/819ET1OwJHCSMKkgu/CDIEWgBiBJ0JTQYRB7kKkAuwDTUNWQjnADH+BgaSDGEKMwpSCRUG8ATuBZYK1AccBdkLyBIbGRoZ9BJ1ChEJUhF+EGsKxArzDEcJ4QAS/S4Ac/9p8iHs4vYvAQ4AZvjc8rbzX/O677nxBPWP9g/z3e5u8Irw3+5f8qn0rvOa9/H6rPxz+Vjx2vBd9IH3Vf23AeEBZAHf/On5fv7IAKoIkwbL/Nr+rAdBE4UKxPlm+6UCtAJvCHkOZQxnBNn5fwDdBRYHsQTs+jb8EgMRB3sMhQbF+BzsPO4WBZ8OAwUI+YnxEPh5AgEBwvii7F/x+P5G9hn/HQ3+/ETsV+W3+U4c3RKx9XPqPvLaDJ0NBfZk9hcBdA0BDrAIGA5MCuL7l/bMAqAT/RjREo8CofXtBvUMp/6Y/NwAYAZwBwgH8whu/2rxD/toBycDJgCN/i3+KPr6+PwE3f5D+LoE7AfTCTcId/rq+WL8gwBFCSAIgQXMBbEEOwkYDuoH4QCO+WT9RwmvCUX/K/cB9IT/CwjR+xT3+vU48in9gwRa//r8qfam9jUC7APRA3kEofvc+er81QAnB9HyV9/B8rEChAQd/2/v2udz6ur4DP9S8+fsk/Y9AMb+5wBQ/lHxHe6D+gsM9ROgBCj1OPjlAQgRVgrk9kT2NAIDEAATuQhY+QH05v6gD84UZQ6PASH5lADODjMXDxIhBNb56v1+FQIcTQyD+6XnVfggFY8U9wnm8xv0EQrlCRoIQADm9ur33PT3AlgYXQ1O8kvu+fzYDksTMftm5xr6UBIPEdb+put09IoBkwRKD3ECF/bp+DD3KQiEFvoGe/GC5l77Rxp+ETv9DfCA7AUArBD3DioAKe3Z5xT72RBDDZz8w+Od4ev80wjLA1P33e568V3wN/1DDUb0WeF55wv9/xC5BM7vs+a58OcGjw3sA/0Ce/4J+IQCTw3lCHADLvFO7oAMVx4NGIX+OOos9o4OXBvWFqH9RvAF+mYJ0xTuCjz/8PoD95gK4xnXDSgB9/M69e0IqxHaCXH8AfaiAPMA0v6jBsf/afrK/Tj9ZQMFCcTxyfOVBIr/RwER/L78JwbfBUMBNfmd+HoGWgW4/xwCjf/fAcsLqQlQ++L56/5kA9gDJANu/QT+dv0/9xoGeQub/Zj2/PdpBPwKBgK0+erqofMZDpsLN/8T+Hj4mwJh+yH5aAkdAjf7BQddB8AFoP2h9E72gvKU/psMMgYgA/QBNPxB+XYFjgcq++L6Of4ZDjQT4vmg65vvuP+wFW0JtfUSBPUB5u359UcEQQfm/u7vugPGEG395P2X7a7kmQJGClkNZgy397n4f+xJ8LQJpvwtAUf8I/EZDIIBcu9i+bLwZv3aBLD8LxGe/z/w9f9y8+8KBxy1/1IBOwSiATkHtf5FA3ENCgXS/2kJXxGdCdMBxfsAAngOyQrSCuEGCP08AAgGcwYaCvgEtP4FAiT9rAGpDysHCv0f/Nb4/wRLCVH73vpCAhQFVv+PAUAMEvxu5Sb0OAmCDHAJ3fQC8b8AMQBJA7Ly8egQBVUGcgI1Bpf6g/+z7VrnFghcBIUFkP706fADtwpY/PT7ne1o+T4HeP5IASAAQgRv/YblafhuDT4LtwKB50z1dQn2AF4Dnvaw90kJ0v5NAD0Aywa8B/jnzPErEU4ShQRF9Nr6NgWy/xEFa/rd+TMJN/ze/RgGrwYwEBf7ZvQiCSUGkg4UCxT2fP8ABksLgQvi9r0BmAzbAdwFPwKFAjEErft3/XH9mgQCCqMAKwFA/jb5yv3v9mX4UgYSA8wHXwbi9s4CagHR8676MPyPBCIKMv6oBJAG+/nO+3j2RfqvCboEDgtjBCbmjvkxDeEAh/2k+2QBdwx7C0cHggGfAgwE4/gJBh4c0xdkBEv0ZvpzCg0RSv8w5kP4qRL7DeYGSfnh86f9R/SK9n0FKgaa/xzwzfIxBskBTv3s7zjh2v1DDKYEhPkj7DLxGfIy94n+XveL/e73LO1I/q/8Wvmf/u7w5fY1/Fb6DA9pCTX0mPQp+UkMBw0w9f74nQKlCSQLx/2G/+cNVAqV+xz8nAttERMAW/l/CyYV4QSs/J0IKgRcAWYLmwfzBEUHagN9/pL/1gDiAOkCpwvADNkAD/1qCP8MWwBs/PYDgwkwDPgBjvwGB+n9qO/499QKkhh5BzvxVvlBCPcJgfrx8WH/YgUZAWz46PjXAmj81/a+9uf5TQ2C//znNPYJAFX+YvUI7rAIkhOG+zTwee3h+v8E7vRs+R0IxAdCAATzePsdAIX1gfkh/5MHfAyY+574qP/O/bYAfPhgAoET2QGN+8H7j/n9Afv5SP4uDoQIhQL1+6L9GwkaAMPynvfLBwsLvv+u/08F/QEp+Gb2Zf41BkwHLf2/9goERwgT9/7vwPvyCoUGA/re/ggC8wUwBPvxGvGWCR0YWwa8+osCff1F8y3zXgIFDRMFCABl95b/zRUM/9bn3/RoBm8SzgSzAzISaf5E76r5oQeZE9QJQPr6/jAIgA18BLv1hvsPAvoAowJcCYINTP9j60PtIQT/DqkElPpq+34EsAcv/kjxYPbPAQX/Tf98CHQMf/4M8LL0CP/nBrcEzfnP+VIC6QIvAIL0MfAZ/e/8qfxh/8L8/wFi/DT13fo1+gIApQH99c0CYgoy/Oj0G/WtA54LVv7e92H8fQTsDf4D8Pbq+AEAdQQQ/Fr/eArkBc/7MfztBegDmf0e+g/8zAUBDIIGQPqn/8kJBQMcAFIBDARuCK4BHwLZBnEFAgfH/6kAfghSBWQCO/2H/sEI1QbG/IoCFgneAu/7APkJAjsH+P8L+nL30/6+Bpz+rPrFAAADtwTzAtj/hwN6AXj8x/4jAkoFDf58+BoBXwWFAAT48vOI+yADHQC8+xX7cPuR/AL7jvpP/f/5bPbZ+XL+XAKmArH9l/ra+dn9PAPLAGf/LAHr/8j+ewGdArEBUAFEALD/CADCAFMCrQESAKv94/iJ+ssBcQZ+BNAAPPql9nT95QAXAzsB6/vD/zgB//+QADr8h/ts/TsA3wi/CdAB7vub+WL+oAQVBTkEfQNIA2ADlP5d+/H9vP81/04A7QftDNsFwfhv8xr7jgX0Ca8HXgQTA2YCCP8Z/FL+iwGsASYECAmUB7QDJv2x9jn6TACNBi8JrwLtAHABAfs6+a77P/0AAJ0A+gQUCDQA3Pmq9nf3c/4tBGYHcQSP/+T9Sv2I/nT+Mv2d/RwAxQQHBooBhfyz9wr3J//SBNIFagQ5/4P9j/yY/Fj9Ffyj//gDjgV/Bs8C/fy7+Rb6N//SAsQCpQJwAcYA1/+w/Zf8E/vN+4P+Q//f/7P/Pv0A+sD5dfw8AHEC1//5/WT9Tv2n/l3+H//V/+/+7f+xAo8F2QSG/1j7nfwRAA0DcwVSBU4EsQJ4ATUCtQN7A2b/n/1OAe4EmgYXB/QDTf6h+3L+dgI8A18CGQA6/QD9Uv4M/8r+jP3//A/+7gDZAsn/p/rk+NP6J/74AScFQQWSAej9/PxR/dX9z/5q/6P/dQGIA/8D3wF9/ob8Lv2MANADlwVHBd0B+P4cAOgB1wJtBAMElAEKAMgAXgJiAYr//f4//5wB2AO8Aj4A7P0f+3D64vxyAHEChgF5/5f9YP1m/Xr7LvrZ+uz9FwIVAnL/yv2Q+xX6qfr1/EgAXAHLALj/Cv7T/Tn9v/tc/LT+jgIDByQHqQLE/qn8M/wM/skAVQJNAjcCHQMMA7UANv4g/Nn71/5LAu4DqwN3AkgA7P2F/hkCiwL3/ib+KgBgAXIAFv96/9z/4wE9BDQDaAGf/1z8i/kY+zYAmAMvBKMF/AYeBKf/+vyG+/j71v/JBGEGJQXsAy0BW/z6+3QAdwIAA9UEmgVxBHgCHwA+/Qn8Z/7OAK0A0QHeAnf/2PtF/ND+FQC3AG4CxwJkAtQCg/9H+aP3K/rl+6X9/QDeAuEA8/17/LD6MvmZ+Tb6yfssAPgDcANYABz+Mf0F/Mj7Xf8iBLcFvgODALz+q/4V/zH+BvyG/BMAcwJpAk0A8fy0+mP7R/+tBKIHSQbsAnv/xv1P/ZX8w/1ZALQD9QahCEQJAQUp/Xb5P/qQ/Fn/xwE+Aw8DzgH3AL3+nfsl+6L7VPywADUGkAboAUf+Y/0a/Un/CQM4Atj+sv+IAcMAxQDEAUgA+/0AAFMDxwKTATECWwD2/I/94P+n/8r/SgK8ApwAXgCgAAb+efxq/iX/m/1l/sYAPABU//D/7P7T/WP/BwK9AqICYARiAw0A1QDsAnkBTv/L/68AfwDtAK0APv5i/Sb/d/9w/bf8NP3B+6v6XPwH/hv91vyj/r7+Dv7F/kX96vpt/dwCwgbLBqEEdALE/tL7bvyQ/RUAwwSBBoUFDQSlAYT9MPlt+F77C/7dAN4DjQPrAK79UfoB+Bb4LPsP/9AALgGKASb/ifqU9yn3agCNFpgtXjZ0LNgdsBSVDHYEuf8SAUMMHRtRIWIb7wlU8j3d19HC1+3o/fKN8s3uuemh4dvV7czJzeTY3Ouy/CgErwewBjv9CfNW8dX4lwUGE1wcOR2KFSEM+QPa/Fv6/fs4/88E0Qq7Cs0BEfYL7hLt8PL8/CYHcg08EKkPQQtABmcC6v+PAYcJBhMKGPkXJxTPDV4H8QMEBHMFkwZoBpkEQQLH/kn5kPOH7+PuDvHo8/z1TPaI9DDz2fQu+Bn7rP2XAHIDuAWyB4oI1QdDB9YHXQlNC0gMuQsFC0ULHQxlCroECgFfARICwwJLAyYCvP+Q/U78m/vX+g/7svvV/MQA5wRGBhYGWgbEBU4DXwdRGXsu1DdLMZYh+RWeEecMYAJV9uzzRv04B0UJvf9I6EXO7cB6w7nPbdpm3Rfcy9tY3ArZutE6zrDUEuLC8EH+CQgOCqoDefrj9X/4Gf9kBrQLuw2EDIwH5QCM+/P2xPFc7n3wYfinAIgCp/7Y+TX3pfcX+2QB4gepDdcSkRf6G3odVhv5GXwcCyFfJWko/yrsKikmQCDnGq0VfBFZDQIINQPt/3n8Tfh49GryHvL58QzyvPJu8/fz9vQO9if32Pgt+6/9PQDhAu4EOQZQBkMFKwObAAD/9vzP+fP3cvjw+Pf3oPbX9bv0wPNK8y3yY/H583X5uf1t/zsAswDNAOMBBASiBZ8GEQlLDVoQchDDDpoL3Qb1BP4FXgOt/dH8MwBaAAr8bPdF9O/xg/Hv8u3zvvTj9oX4Zfgk+bn6TwFSFX8wlDwoMWsgmRkqFtgLJP7k9GP2tQOoEHAPav/s5Z3KHbvXvzbP8dcc2mngw+eA5wbhpdkj107et+20/mULqRETD5cE0vvF+dr4S/p3BF4QjBJGDFgEl/zs9Lbw1vC29A39DQavCU4JNAmaB9ADZAQHDs8aJCIOJZ0mSCblJD4hTBv/GD0chR/ZHpgcARv+FdYMgAUNASD+A/17/OP7zvuz+6f67fdm99f6zPzb/Lr9ov6f/0gAeP4L/Kb7NPxK+wX4rvVs9RH2v/h3+mT43/Vw9Vb1b/Jg76zwXPQS93T3m/ZA9/P5nPtz+sL5qPzgAKEDWAaYCE0H4gNgAsUCWQOiBYoICAg1B3cJZAkzAlH57fR38aXtI+6c8xL6CP5J/w79FPjc9J7wiedM4o/u/Q4DNLRINkYZNuIl9xiHCj36G++p8Lv+XxC5Go8StvRO0Ny5vLq6yu3ZQ+Ib5i3pl+pq5TndJNkM3S/qSPtqCmAUKxYhEKoG+v77/GsBugliESQThg05BJj7cfVL8TTv+vCo9r39wAKWBSgGUwKJ/ST/bQkwF9IiUCoyLdMs0SrmJxMlziNcJMEkZCRsJMIiWB12FU4MmQMa/vz7Pfo395r0vfLX8cXyzvPx8hXw2O0P7yvzTvgS/ZH/dACtATwCLwEx/zL8S/jP9OPz+/RS9mj3sfan89zvRu3i7PLs5+y27UvvfPLV9lD6cPyU/AD7LfoJ/H3/mQBI/7z/qgKrBZ4HwweSBI7/FP01/Sn9Jv3q/RL+iv6WAQUETgO5ASoBeP5j+ef4qPt5+yf6+foJ/BL75fr1+jD3UfUTAf0cbzvSSK0+pSrNHV8V+gYg9lTtXfKcAIIONxNIBQjn8MgOume/b86u2Z3h/uom8pLvwOVl3nnc4+Dk7N3+kBFeHXcdRBM5CFcDXwL8BHkNyRaiGDYT+wyUB0wA7vcp8ozyt/kQAtsFmQZMBgIEnQEHBMUMwxY4HlsjJSa1J9woHCiwJO4gvh91Hyke8RvSF6QRuQpgBBMAf/yc97XyRe786krqVuvP7CPu9u277P3r3OuE7B7u/vDT9Lv4Jv0kAEH/bfto9lLxWO017DvuIPGR8531Ivam9EzzGvNi8oPxn/J+9Uz58fzX/hf/Q/6n/W3/xwJbBZkFGQUhB1gKNQyIDMcK5wbBAjIAtgA2A1QE1wMGBZAIzAs/CTsABvnn9nn3sfpT/yMCBwHE/PX4Sfcg9xb4evji+tsCbQrrCnsEzPpN++EQKC/rPz09GDM7KdcabQkU+6fv0Oqj7yn7wAZLBVzxadaYxvXJxdT23D3mzvD99TT0UfG48N3v0+6f8ZT7SAorFAITjgpgAcz5t/Xy+DsChgjPBUMAm/62/uD8nvgH9bj2lv0QBcoKkg4xDzQMfAkVDRkW+h1VIyEo7SqGKqgn0iGtGb8RSwycCmILVgzTC+sHhgEQ+xL1T/CO7ZPsw+z67ZHwEfNT89Txge9d7KzquOwq8dr0fPbq9uD1d/R49NLz6vC07XDsQO478uP1cvgJ+in7nvz8/aT/p/94/E36f/ve/sYD1wf1CDgIJQeEBnoFFASUBM4FrAcEDHYPVhA1EO8NhQjPAskCLggXDMcO8hCuDhgLBAk6BI/7a/Ol77zuGPKV/W8GWQTTAXUBb/2Q+Qv6gfv5+jv9xwIBBN0DxAU8AVT4P/Xk9tT3gvc++pMDLBIbH2Ag5BjWFOIQWAbR/eP8vP3K/fIB9ghnCJ793u6x4oXgM+g47pbu7vE29//zoesC6Fbl39+V4PTpnPPY+aD8Z/la8yfyO/TM9nz+iglPDmENyA5sD7IJwANcAs8CdQfkEE0VIRIxEJkP/AqfCJUN6RAfD2QQaRRCE1oOdww/C5IIYwofDnwMQwkPCBcEaf5P/pMAhP3w+Zn7pvvu96z3WPgM9R7zuPM28bHtXe2x6w/pB+2/9b/7IP9PA2sFvQNJA9YDSgLzAvQGMQnFCGYIOQf8AGn4mfRd9PX1Lvx1A/QHTgttDBYLIQpJCjwK6gn6CwYRGhYWGHkTRAgC/mX6zPqe+8/8gP3E/GX7AvqG+Df00O2566LuHvMo+PL68vnQ9kD0A/SC88r0bvv+ADcDUAYgB1gDmf9b/x7/n/q190P5Kvkw+bX5WPSz7BPqC+5e9Zj8EwJgAk0AFAIGBJsCvwCP//8BLQr7EywZUhZwEBkLXQUUBCAHhwfHBdsEWQREAg3/Ff2B+X/1Ovec+yn/2QPUBrYE9gCVAFsCpgLaAyMGuwWeBTYI6wjiBRwCd/95/R3+aQLeA5YAG/44/Of6cP29ASUDDgJWArAC0gDY/hD8cPie+I/8jP/zAGwBP/9k+m33Ovgh+Uj7kAB9BSwJ2gseCwEHowK1APEAxgI9BpYINgnvCcoJkwftA7X/jPxd/FD/SQJ+AqoCtQODA2UEZgaGBtMF2AW8Bq0HsAYVBGgAov26/bT9V/zh+un2MvHo7VXsbupu6f/qwu0g8GHzlvUR9JryhvP19U76Uv+1ApMDkgFm/bH3KvPb8uP0Evha/Iv/rAL1BLIC9Pw39rLyyfUX/QsGrA30EAAQGgqbATf8oPkU+HL6PgOVDQkU7hbKEwEL8ATxBLsHqAtsEJoSJwznArv/Qf6z/Mf+2AJ5BdwHZgsZCaX/xPnq9wP4W/+7CsARDBIlEJMOewkZBCEDYwKXAiAGsglbC7sJ8wSU/PfylPCg9KD5FwC2BckH7ge8BgQEcAD2/Mj6afou/aMCjQWKA/n+6Plr9W7yNfFP8Gzu2OxA7Ajsjexz7GfrTu1G8vD24vl9+q35X/cq9BbzkvWH+iv/nQEKA3wDZwKqACX+g/ug+gb8Wv92AjUEPAVPBYgFfwcNCn8M6w7JD80OPQ7xDi8Oiwv6CPoHbglnC48LAwuOCcgFxQI+AqwB+f9n/r/94f2y/u//qgApAPT9OPvO+mn8Af9WAn4EMQUPBX0EJAMoAP38NPqv9wz4RPoC+un23fPA8//0K/bh+Uv8c/rP+Yb76v4cBOUHrAftA9ABugJoAYz+Qfze+J33ffvbAIICZf+z+wr50Pft+qv9yPok98r1pfbf+koBYQW8A8AC7wbNCdsKxQy6CvUF6AQSB8EILAl8CUEHXQJhABoA3/3K/JP9dP6yANcFuwuSDeYL/wlJBxoF1gVKCB8KQwrYCWwIvQWWBAwDIv84/An7kPqt+hv6+ffM843vyu2P7ZHu/+/Q74zuwexH61HrOOzT7tny/vWQ+IX6zPv9+8v64fo4/FL9EP9WAJkAdwCC/+r+yv6X/w4C4wPKBK4FgAUMBe4FawdpCSMMQw7bDqUN8AuuCh0KaAudDXUPpxHDEpERmA/aDFQJhAYhBesEXgUPBqIGOwZeBDoC2gAKAEL/ev4Q/p/9xvwV/FD7v/rV+oD6wvo6/Lz88vs4+pT4HfiD+c792AIvBn4HfAV6Abj98Pg29JnyL/RE99n5L/rg9qzwJuum6E3pd+229F38MwInBRMEYf/W+QT3h/dq+rb/TwUPCC4HygNW/4f7hvp2/NH+oQBmAoACMwDl/Yr8W/vV+8n/ZQX9CZYMtgwECsEGWgaZCLULqA8CE0cTMRG8DtUKJgXlADwA9gFSBJUGbgb1AdL7Qvei9Fb0Bvdf+vv7CP1B/S76GPXY8ObtXe278Pj1YvnR+XH4yPUl8/jyQPVA+Bj8vQDMAyEEDgM8AVP/qP5OAI4DigabCE4JUQhFBpsEnwR/BRcHjwnfCvwKCAs4CqIIIQi/CUYN9xCKE9cU2hPHEFMNQgpqCHUIKglvCfwIHQezAwwAE/02++n6v/sC/ef9vfz1+Vf3FfWr9Gb2wveQ+cP8m/5U/jf84fhD9ZnxTvAn8hr0Dfbc+D36r/n897f01/BG7qftiu7m71TxH/Ma9CT0E/Vy9o34Hf1mAqQFEAa5BJ0C0v9y/lP/u/9u/8L/Gf9A/Nr4pPaN9T/3sv3BBYoLDA+OELMPPw45DvUO/g90E7YYYxsgGnoWHRDTCOUE/QNqAyMD5QNqA7//GPwo+mz3FfaF+ZP+kAGqApsB9/2T+vz5DvqM+R/7yf75/xv+NPyv+bf2lvYV+dr6JftM+yP7XfqD+kj7a/r8+P/5W/yL/ST+Zf72/Uz+MwArAuYCuQKQAgYDdwWyCWsMeQz4C4AL4woiC+4L1gvlCnAKqAqFCpwJ3wclBYwDZwU8CPoImgcKBTsCSQD6/7MAggC//zz/nf1s+0D5YPbC88HzAPd1+jT7fflL9lfzhvNv9jn5V/pu+s75OPi29qH1O/TG8xn2x/kl/Bv8Mfq09jjzJfPH9sD53flE+W35E/pF/Pn/bwHv/4r/4wGPAxwDigLhACP+gv52AQcCHQB9//f/LQAMA/8HYAnFByMIigkLCSAJ8AvJDYUNUw5+DnALbghfB1EFGAKhAM3/evzE+Hb2S/LS7U/tUu8M8djynPQ49IHzHvY7+TT7d/+/BIoGaAbXB5MIUgfLB/MJfApoC0AO8Q5DDHoJHwcPBIcDcAdsCm0JIQewBMYB6/+h/7f+QP3h/Yz/if+m/nH+sf6//k0AUQPwBC4FeAVCBYEEVATzBGEFSgWjBUoF+QK2AHf//v3t/Lf8KfxQ+1T7Pfx+/ND78vpc+uX6Gf2N/xMBTQKXAjECKgOxBPkDlAGq/3f+tP0z/nD+4fv991P2a/ZE9jb2s/Ur9FrzlPRk9mP2avWG9cb11PYD+kz9efxw93/0QfYF+YT7Yf8LA9YErwVmBdcBoPyY+qb7sf17AfgEiAO5/a74EPUf8frwNviXAs8Kmg4CD9ANhwxeDQoQXhQaGg0eex7hG6QW3g/PCYcGQwcdCjsK8wUb/4P3f/Ak6/Tp3OxB7zjw7vAq8Gvuaezh6YHog+ti80r7Bv+u/2X+oPzn/VsCrwZYCU4LQQ0wD1gSPxVQE4EOxwziDVsPYRCuDhUK0QXYBOQFKAUjA3gAivud9xr4Y/ms+DX3jvbO9lb4M/yD/2L/Yv7z/oQA9QJHBS8FqgLrAIgB5QETALT9Pvt3+IH3N/la+9P7//qy+o/7Rvwt/YP+4v/uAbADowSEBV4GLAdOB8gGGQgGCr0JzAjOB2oHjgh6CcMIvQUJAXH9Cvss+az4KPdz8xLy9/OS9dD11vQ79KH0G/XI9kn4s/eC97735/eA+SL7Fvt0+eD3S/hh+Uz5Wvh99lL1cfbp9xD4jvf49k33BftqAhELFxHTFKcYtRpHG+UcRh5/HjwfvSCLIH8dxxjhEn8LYAVkA68Byv0z+jD2+/CH7FLphOZb5Kjk1eaX5tPkeeRH4/vhWeU+6zfvIPKa9e/49/o6/aYAtwNQCJkPCBR6FCQVMxWwE7ITRBahGCwY4xTYEPMLHgcBBVIDdAGdAQsBG/9t/fD7UPv1+nr8GgHTBFEGywacBMABXgGSAr4EOgYwBhwFtAGU/Vv6yvbC9Oj1xPdO+C33GfVb8wnyyPK89cn31Pm0/Ez+XP/BAIEBBQJMA0YGlwloC08MdgxoDDcNBw7KDdcNtA3xC/EJ9QmtCjMIywEZ/LH6YPog+MT1n/RA9En0tPQV9RH0x/HA8PrxJfXE+G/4+vMq8PDvePII9ED0svUf9+X2ofbv9Y3zevHv8SP1z/ir+o/6/fds9ZD3Of5kBbYKMw66EBsTHBUyFpYVuRS5F8wdeyIKJBIhSxkWEZENdg4VEGIPOAwkB34Alfol9Tjv9uok6lrsHu9E7+7r5eVN3zrddOH45y3u6fIj9Rr20vde+z7/WgJfBiUMPBIVF64YXRZEEzoSDRToF3saIxpYF0gSuQxdCWwIUQjSB3YG+gSFA58BQP80/Mr5APr++0H+Z/8d/rn6w/aF9CH1lPYN90z3LPdv9hH2R/WK88HxJfHD8uH0W/WO9NXzHvTD9F71/fY8+SL7Iv0b/xkAZwFEBMEH1ArTDLMNUA5uD+oQ5BFTEmQS3hEPEUcQ+w73DPgKtAjoBX8DagFG/1P9svvr+YD4W/hw+OT2HfSc8pHyGPM89Hf11fXW9JPzifPd9Ev2efZa9ar0pfUt9133ffVg9IL25vkb/Kj8kfsy+cP3c/oKAfcGQgmUCQAKXQu6DZMPzw89EBETKhfNGUMaQRhxE3kOKA2CD40QYg2EB1YBOv2d+5X6N/gr9Bfwju1W7DPr1+h45fzi9uOq6CLtWe6c7fLsue0n8QP3Hv3yANYCTwXXCGwMGw+PEOYQ4BE8FWcZgBsAG0wYhBRVEkgSeBI6EYoOmAt9CQkIOAa+A/P/zvvP+Y367/tX+2D5jveo9jD3V/ga+JP2EvYO93f4SPrb+337u/mq+Gb5qvot+7D7Xfx+/Y7+Mf/f/yL/pf3Y/Uj/VwHIA+cEtwOnAUwCnQTiBAQEFwOoAiUDmQPKAxYDyALaAzQE2QN9AzwCggCc/4UADwJcAZ7+6PvZ+tb5Mvfn9LDz6fP39F31ffTz8XfwOvE08kXzLPSF9HP0cPTC9Xn2E/aC9xz6kfu9/KT+UgD6AMoBMAPrAy4FWQZvBvMG5gdaCbEKWQzqDukPwg6KDF0KrwoEDQYPGxCnETIS3A84DuUNnQ0vDWkMggxzDO8KBgjYAnv9OPuv+g/6hvgP9630Xu8a6xHqnOo07O/tee9Z8YPyLfPM9Lz3I/xDAPwB8wK3BbAIDAlUCMUIDwq+C7oMngwEC7MHiwRxAnsBxQHBAWj/iPyj+5z6xfdq9m73aPcu98D4WfrQ+hr60Pnt+cf6+fzm/J/7fv3UAYoEvQPNAsUDfgWDBT4FRAcQCRoJ8givCfQKlAoiCFAHSwkGCkoIYwbgBSQGOQNpAHcARf9w/w0BYgKpAtP/dv0u/lcBlAPb/jr4e/qWAjkEx/sJ9lL3yvRM8oP1PvjY9kXwCuwJ7f3wfPZX81PsUe4v9vn6DfjW9fH2VfZ498v5sP0NAOH8Pvki+YP/rAaCBHD+AQCSBdwHrgehBiEH5grrCZQG5gluDj8PAwlcBPYJRg8VD/MK5QZmCD0KhQm+CQUL+AviB6cCmQUZCsoJ8wXW/sX+KwOCAr4Br/3r+ab5afnx/fECmwJk+6b07fZb/SQDZAKX/W79Uv9+AKIB3gASAEP8i/jn/1EIIgkhAtz2B/doAfYDcQGP/zb8t/0//YL9TwLy+s7xE/ebAGgFCQBu9ZDv4fAF/CcEJgIj/uD45Pbp+20CDQSn/5j7ufw6AoUIhAw0CZP+jfmo/5gIng35Cy8GXwKp+Ob3QQ8zF9UHX/gY8zICSw5qC0wCfPTG+icLTwkKACT6LPuG/Iz34fVtAFINwgJ/6MvjN/ZDCUMFQ+9g5yvxRv8UBCr7TfU28rrvs/vOBQsLpgTm6prlcfgIDsIUKAOp+B73MvmbCccLxQmaAkHza/2xDS0dJhhA+N3xh/2HDQEeWg+5AVkB9vm8/8QBfwvNHBEEs+wY9+YKWByxChDsEOdh96EWjxa1+2P0VvUa+pH7yPp4BqIHIvys8X/vsP9mCF3/d/RZ73YBwxV4DC7+KPhj+LL99vkb/24PAg/5BBn5NPSsBJYNFQQo96331ghtEi0KwfZV7//7PwkzCicGhwBl/WH7o/kW/G0CBAT19zr1O/uu/7EHNwQN8rbox/KBC/kTU/+O7FnrlQE2Fn4MCPWS67b29gdJCf796f8ZBiIBUfjv8/sCERC0AXP2k/e4BX4fkBXQ7yPh/fVzGFwaQQim/Sf4dv8MA7UBWflO+FcKGgWb/MkBpQiECMvjWtj3CXkm+hQL7wzeKwFAED37Xe/37XMF0hNVAafzVPJG/qQElfJp+j4QnwZl+n/6WP/YBlkFsfrc+OD+BQ4AHW0IveoQ7m78whdCHfjwEeeu/p0WFxzY9XrldfMGAPMRdwYP9oj6ZPMx+MT/tQGNDAAABOh07IMJnxnuA4zqC+fE/MkcFxci+T3m2ewZCPQTMAuiARL4PvfC+2EB+QxtDRAID/zz8EsGuB2+EVj2r+xLBcQVzxR8D1T1vPczENgLAP5r9vIIWBosBKj0b/PQ/0kZygrI8fTw7PNLCksIHPzSCMH6yfoX+brlpgSaFr37DeNK37sKdChZCDzjNtXB8csUxQUt/Sn9uPGN8Mb0bQkCFlb/U+dJ5PkBtibsEv3tod0373gQexAeDH3+Ku1o9ngEOxnbFGfqMucA/PkQ7xm09grztwreACL+of2p/S4MTf4+8zf9N/zKCrcHM/Cd/d4F7wN6AI32kARbDRkGuPtz58T4jBq8EY/6Ru3c/v0QHAu6BSH0hPIuB/QIQgRm/kIMRxVv9Crvr/5KCuoUNgDV8Pv1nwQIGRoEROhI+csJ9Q3W/kTtwwS0C/QEEfbV5wIMWxd0Ar3sGuS3DDQVZvcT8Wzt8Qi/F8704uv09+8KLRS39JrluvyrF2cUx+sz5B0IQx4nETDnOt4XBtckqRjc6wzkQAlMFTwFrPXN+NoP6gvF9aP1ewZqFxAGJuPG67wQ2x8/CjXpCeiK/QoQvwli9Lf3TAI6A43+3/Tm+coI+wNU+APzh/SIBboKugbs/HnmcPMnDdgROwlG69zlcgLeCqIQ0AyH8+zyofEi/bsW7BVTBafkMOY3FzAmGgt35x7eXQSDI0Qd/P+W5S/yVAU4Dp0KjPGbAT4V8/rJ83v9gQ0LBqvc4vDWE5IdahT+3U/ekguLEuMD899A8colehW39jrfWeYwG9gWAPh+75LrGxtuIefuCe147r7/NBLxBtkVlgbY8Vn3xewg+9kj3hxH7hzfTftFJXse2vCI3LjoEgpGJ1UReuy/7yzx7vp0DKgIYgcv8YPkf/0uCcURkAOz1oTtnBSJFGsBF+DW7ukHCQdyDqD31OwXDHMHRvwv+cn7vxEVBlP1sAQ7CzcQfQCs5xoF1RqWDMYGNPY4+dQRSxBPASbwPv2zG+0Ptfkl+Xn5LwlpCRjt//Y2FLMQaPM04in9dheBBU/mUttgBt0kKwFG4lnmwwNgEC/67Oj+9GsTIRUl47TYmA2VKZ0QQdin1J4OEzHuGIDgVdxXDHQb6Acv9576Qg7BBC7w8/afFDsr7vy0zRLqMhiLNEgOnMyr3S4UXysiCcrZVu8KCOoE9/7x77MGIRf48wzaKOxuHEMnRvEezqDr0yDhLGv1bsyA6P4c2i2o/H3cF/2qFiQJeu6V778OfiJuD4LiLeV8HGotdACm0OTooCizN08IBM+H5lQd0h6LA+rk3fS2HGwOoe+l6jYFViDN/LTbAu7LEacqefcRxmPwwxb7Hpj/I9L47eMMHBC7/2ffjgABFkn8RPfL7TUDkhf5ANrytOL4ABA0/RXM5BPeIv/eJa0RQ/Xy9TEAnhplBxjwOgRuEGkOs/GR68gPSh6RDuzhpN3mEPgcPwwF7KziRgbPD9sFM+j34a4TbROQ9lzr6emyEf8LIe818NnsNhoxGSzfv/CEB6EMkACw2+EDaR6rCYgBx9ps9ywlEwzK+9zfp/wvNJURLfcL6Wv0fhxOC/P9PfZWBVUsv/5I38v/4Am3DUT3bO3gDGoUiRTP75PWKQzbEv36V/IO84QejxHx6Ffr1/D/EqwRWec577wD6xgDB0jSn+8EGucMFvEx4pYF0iRQCorindbuArcrjhMC81zq1/2eDLv97fwTBLwHrwT08MD/8RuICl3u8d7p8HAZix4sES3+OOQ76tL+HQ6qFx4EruvL7hQHwBw1C+Lnxecq+oYJaQ4YCdcI0fmE4eDrPgkvG4AZc/dG4b/zfga6EH8SuP1170b44wMQG5UeQ/fS4LDsjgzrKHkWnPW68Gnu+fVjDAwV/RBK+/nkA+nrBfIhuQ7v4NnaQvxnHTsc0P/c63rfQOY9DLsf2BJS/szjVuHr/gwUhhDy+t3qCPc8CT0QTA0T9WLlje2i/wUZbB4uDSzx0tvZ7+sJ9gs2DGoBHvm0/psBtAg5As3wIfRi/+QL/hQDDgD9guwf7+b+xwvZEccHe/9t/vH2D/ksAoUH7wXu99H6gArGCf4BwPHO7Jb+NgjXDv8La/sg9+f2KfpLBLIDjwXeB/78UPui/1n/jgKi/tT5MgQ5DGsHFv439Vn1VP36BW0L6gg6ABP6NPjs+Ln9df5a/7IIDQhV/lP5GPft/GT+bfhx/VcEDgrwCgf+IvOm8tL6ngJXBYQLLA0AAirzjvAo/3kIxgNP/pr72AOqD9YFF/fH9fv3iQD/B/wGigbKBAj/B/jj9FH8owh7CSECvP5Y/tAABv+k9vr1EADiBj8FngEd/hICvQQ3+MDxA/gkA/0NLgcS+rP2P/sGBnEDx/gj/MECuASUAnD/qQHOAQb95PYg+yoKIw97CHf5XfHm/y0ISwWRAU373AAnBNYAeQPf/33/dwD6+IL8qAYzDY8J3fe08dz82AlQCir9nvi8+hn+CgXiARX8bv1XAvIEhv76/BkC/v61+ef5cP6yBdUGEQCY+mb7wwC9AmT+ufux/RgBhQL4/+j95/4FAQYBvfz7+uIA6QRqAXH7lfvfAdMDaAJi/8z8+P4j/03+pf+ZAXEEagHM+0j9zwGUA6QAZP7iAP0Ahv7I/FL8ZAGvBK4AZv1p/rYEGgde/y75x/gy/kYGVAd6A5H/0wDLBPICCADw/5kBvAPhA6UC1QNiBfoAaPy5/RYCUAMm/zv8W/1iANECXADk+6L8egDS/jj7ZP2LAVECCf5A+kD8tQAYAgn+yfkn/NoBuQKl/UD5svr8/I38Gf61AuAFWwTi/gL6+vn//mkCOP/W+xz/DgQYBE7/Jfpt+qz9UQF6BMYFKwYNBFn+r/mJ/pMHcwmMBCwA2ABpAtMB0v05+JD69AOQCXYIkARqAGz91vpP+TH9hwLuBJADDQBnAEkCagCw+tb3Zv2XAxIELv+p+Sv5Hfv5+4D7iP7eBRwJaAZuAikBbABl/Vz72fxHAhQJ8gheAg8AGgHF/xH8W/ml/GgE4wkQCRMD9P3S+uz38fgS/Z0BnQN5AXMAbgFrAdP+i/iL9BD5XANhC8cKUgT4/EL4Fvm7/AgBPQX5Bo4GQAMR/5v9mfsW9/z0kvpKBT0NuwsSAnr3G/XJ+pf+u//tAHkDlQW6A1YBVv7l+cb3jPgz/moHrwyHCI79APfY+P380v91AP0ACwNTBI8D6AAq/sT8afxq/uMCYQVrAxYAFv2Q+0r8VP/0A4AEGgHj/i7/4QHZAtb/W/yB/CYB8ASWBLkC5f/C/H78jP8YBD8FIgGw/cr8ZP4nAaQB7gDJAOMAegC1/2n9yPop+yv+ywLOBVwEvgGr/iz6U/dv+C7+/gQSCEcIewVcAFX8+PmK+bP7IQBHBcMHMwd3Bb0BkP0n/Kv8hf5PAXwEfwSJ//f7zvol+S76QP4mAUgC5wLKAcf9evnK+Nj5Tfs9ALwGxQhXBV8BfP4s/IH9ZAB4AUcDFwacBt0DzwD4/8r+oP0UAC4E+gahBqgDBwDk+9T62/w3/fL9awBKAUIAvP4s/fz6YflH+zf/vgHqAu0C4v9g+/D6V/4fADv/FP/y/5sAqAFUAe7+qvyi/Jn+of/rAFYDcQOfAHj9k/1W/x7/Gv+d/5YAiQL8AYn+wvpD+ob8bPyd/Jz/JwE9AB3+XPz7+/b84f8UARUA0gFmBPkDmwHr/3UA8wIHB8cK5AprCdIJsQnmBwEH0gaEBYQErQTGBNwEQATnAlwCSQMqBeQF1gRBBLcDQAHB/qP+s/9UAMIA2QC4APwAwwCH/0v+RP0o/QD/zwClAVEAHPxz+6sEuBIrGkIXsBAADMYIXwYJA1T+Bf03AJUDGgT6/431GOgA3zjexuPV6TDrsueX4TPb5dc+2Afa9dxK4gPpNe/f86v1evPF8CPzoPntAU0MtRTvFYkRJg68DjkQNRAUEAoRYRI9E94R7gyDBosBNP9QAMMD/AXcBYgEygEb/7D9Uf66ARUFJgjNC4QOHhDgDzcNnQsmDRAQiBHkEE4PngytCMsEKQL5AA0Acf4S/T78Rfv3+QL4yvXP9In1zPbu92353frM+8j9TgAEAgQErAU3BtIGzAdzCV8LvwvQCtEJagicBo8FUQTVASMB1AFiALj9LvpV9133rvhD+7f97f2m/Wv9xPyZ/Gf93P1b/RL+CwFdBMkEkgDN+Tz1CPXG+HsElRecJSgknBbMCREEGACz+lT3rfid/7YH+wk8BcP5UujL107TxN1T6THq0OWj4cPcDthz1HzT89ZM3QjkMep88Kb0JPIh7W3vv/mAA/UI7g3nEVQRrQ52DcMMcAu8CSIIYQhwC2gNUgmcAXz9wP2R//ECPQZcBq4Gyws1ExsYLhkHGhMdMyKDKJgrAylpJQAkWSOhIjkhRR2oFvoP6wqEBkUC7P2N+F/zyfDa8Ovw6u5U7K3rje3s8PfzzPWx95j6JP7KAVgFwwc3BzwFiQVWCBwKVQl1Bq0BDf7e/BD7EPgE9VTym/FF8mDycfFJ8C3ybfbt+HL5rfja90r5T/uD+0P8FgD3BGoHLQeJBSACP/2Z+CD3vPmQ/J/8xfvO+or4KfW78N3rk+nr6vrtYvirDtIk1SsvJGUa9xRKEBoLxQVDAQsElA3aFOsUPguI+H3jY9ez2Uvf6N5d3UzdztwV26nY6Ndr2Z/e9OcO8dz5qwFeA9MB3QNGCT8N6Q8lFVkYIBRDDR4Jxge0BhwEGQHd/xAB7QEb/rH5IPuC/goAIQSrC54RthX5GYwdrB8MIc4iGiXOJwMqlCi9JFkjACPuHxYa5xPwDlEJvANo/vH2LvGY70TvsO+m77vu0O6l7yfxe/Ij8131pfhI/B8A+gESA+MDTwOMAuYBJwGs/278pPgN9mz0yfIF8U3v4u1/7DHrMevn7GvvsfET9Jn2WPgL+sX82/++AnEF7AdcCuYLqAnOA3X/O/+pANQAjQAVAggDYgBh/Kf4fvTc7W7mLeWU6hfxUfb6+fL8vf6g/An5Cvh591n0g/C99gQReTKcQqw8IDBrKUIkfhjtCGj7GvWK+s8H8hSXGFAKoPAv3FzW2Nhd2DTWVtnG4Tvquu+g8nvwRerf5jnqG/Qz/2YFSwdcCWoOABMkE5sRkQ95Cv8EXwOyBSYIlgfaBd4EKwXIBfYCi/x/90j2jPhB/g4FkgulETAW/BjFGQsZJBdCFfEVThioGnoc8BynGx0ZNhaWErMN3wi/BDYC2AFSAfX+oPsT+ej3rPXY8dnvuPCO8uby1PL29ET3Y/iq99D0Q/N29PL1rfWD9SP3M/mj+J71+/Pd9Lb2k/aF9Mby5/H88s30R/Xi9I/zCfKa8Yvy6/Qb9+X3Xvle/RoCWAYwCRsIwASxAbv+jvy6/AkBoQZPCtYNGA+/CwkHhgCQ9xPxQvK5+NH74vzrAfkEhgIsAFD+cfzo+9j7gfyy/ksDTwSOArIPvSrkO2068TGcKyojBBUlBwT85vVR+OD+RQZ+DOIHHPUy4iXdw95N2uDVjNm54Kvni+7H9Cv6uvxo+7/6vf8DB94I3wb1CJsO7xEOE1wUlhJUCzQCO/sO+KH2FPSi8QjzCvic+lr47vRi8cPt2+2b9HT/CgmoD84UPRlwHIYcCRnuFasUzhI8EowU9BbnFYERXg3HCSUFy/8L+x33H/Tv8r3y0vPl9r34V/eM9Rb1YvQh81vz+fQR94j6k/4pAaEBqP+p+0L3cfTd89rz+fSS+PX7vvzU+4j6t/cX81vvju8286j2/vkY//YDkgZkBmcEugGP/2YAGwMsBiQLyRBRFGIUDBELDMoHIAXlA+UD7QMsBUAI/ghaBmIBvPoh9X3xne/x7jLyFfwCBykNhQ5pDuwNXQjc/r75B/kk98/1afb49iD5j/+dDu4h8ysGKt4hJBmgEA0EufYA7qbq4+5Q+FgBNQS4+3jvZump6WfrFumJ5d3nV+5y9IT55P3JAIn/lvx4+wT6efej80LwEfMq+74CEQgeCy4LSAfiAEn9xfwS+zP6Xf2zA7YJdAvrCd8GewIm/gj8S/+zBhgMKA4rEPwSHxShEToNdAlTBjUEPASaBiILQg6SDQ4MvAoUCDcDVf1n+bn3I/gI+9/9zP+L/zP73vWR8U/uuetL6hzsgu/W8oT3C/wU/nb+wf16/G37MvyL/9QB3wJaBTUHbwdiBygGigKt/Q/65/jS+Z77ZPys+177NP2Y/08AUwBfAOn/JABCAtgF7gk7DXcNpAzSDjQQfww3B0oE+gL/AeMBCQNoA2QB0f1w+SX2IfXC9P70s/aS+Kv53/rm/ecAHAGxAP3/jP0/+035OfZW8wTyFvK89Nv+FhJ4IT8jxh9MG7cSFAft+SHw8u3G8Kf3oAFfCTMK8wIq+m/2MPPz6wXm9eWH6knxpPdV/MX+nv4L/ef7DfzI/PT8Pv2UABYGcAudEI0VXhmYGNISnQulBJj+Sfrj+G/7rf9LAsUDDQNU/8P5cPNz8fvz9vcO/hQFeQusEPASrhGHD+wLfgUYALH+AgKcBvwHXQhsCasIgQSJ/nP5ufSW7xDs4uvh7mb0B/rN/VABdAMXArD+hPt2+vn70P+EBG4IdwtKDK4KIAgmBeIA0vuw+Mj4/vrD/Of84fzD/LD7tvk995n2aPh2+rz8n/+QAssE8QVJBiMG4gS5AZr+Af4a/xUAywCtAccCGgO0AWv+Avpt9oP1Hvfm+ZL8+P5lASQDiQQ2BvAG5QWDAwEBRP+//hr/+f44/uX9OP+TAUkCugDi/fT5cPaS9Gnzk/Se/WcNSxooIGUjuiSGH1wTyQW6+1H1f/II9eb8KAYFCXgDafw39z/xt+hb4FfdLeCj5GbpkvA4+LL8wv1N/QH9jfx2+6b73f8QBzwO1RTKGYEbMxgSEAwHB//u9zTza/P0+Mv/bAToBhoH6gI0/OT2n/RY9Q/4SP37BKkNgRStFv8U1BG2DOoFsQGlABoAPQGcBBsI/wlCCXQFvf/S+QH0QO/u7VnwBfSB97r7kf/2/x39yfkh90X1DfXk9m36ZP8RBJwGbge8B9UGXAQ5ARL+sPzG/bv/UwGnAnEE2wUjBQEDigCr/dT6BPmM+XL8//+lAuUDowTABPQCMQAw/ir9t/w4/Tn/6wHoA5gEHwSxAtoABv9M/Yj8WPxw+3X7uv0L/2j+GAA5AzkEKARtBCUEwgKmAawAuv4I/qYANwOHA10EbAX1A3oBBwDo/QL7+/ls+2f+mgSeDFYRtxOhFe8TJw1xBLf8l/ZN82H05Pct+1/9bv05+8j39fLe7LTnTOWY5bXnxOuA8Yz2Jvq4/Kf+JABrAO3/JP+x/4YC7wVoCfoMHQ9RDsMLjgi9BNEA4v3b/In96v9mAwQGrQbEBdoDdgFS/03+q/5IAGUDMweUCrUMDQyFCTYHtwQiAt4AkQD1ADcCuwOFBY0GSAVgAiD/Vfw3+tz4cfjI+E363fvb/N39Hf5b/XX7CvnX91L4N/ng+tb9ugBhA3kFHQaIBTsEvgJ2AVgB6QJ1BCIFCQYoB5sGegRXAuD/Av32+hz67Pnb+rv8Uv5RAJ4CtAPWA9oCYgGRAAcAJQAPAVoCtQO0BCMF5ATNAz8C/P9D/ar6Cvgq9kP1EfX89mD6Uf0EADcB7QAn/4b7I/lb+AP5MfyaAKEFOgnGCdQI3AW2ALr7z/eX9ez1XPgC/M3/6ANaBykI5wdEB1cFfALF/47+RP7L/t4AqQJxAxEEdAOUAfj+vPsr+Zn3tvfT+Xf8f/+TAmUE6AQUBA8CLgC5/vD98/4JAYcDqAVYBugFZAQsAsz/m/2P/Hb8Tf13/6oBYgMABPYCLwH5/qH85voG+nr6Cfzk/ej/VQG/AUQBsv/t/dP8b/za/Bv+BQAhAuUDiwQZBOcCeQEgAN7+Cf7d/Qn/KAH7AlgECQWrBEoDRgHh/pn8cvvi+4L91P9rAmsETwXMBNoCVwCz/RX8GPyf/Av+4QCVA68ETAQnA2cB1f5a/Jf6yfnc+rj8hP7hANoCagPKAhIBxv7D/Gv7Vfva/J//vgJFBRQHxQePBnMDw/+R/Df60/ji+Kr6B/0Z/8IAdAGBADH+D/tS+C/3OfdZ+Cf7ev/mAl8E6AQwBJECnQBy/uz9bP9sAVkDAgVYBxYJKghkBlwE1gHe/3r+6f2L/gAA3gGUAycFuAUmBAsCQgAA/vz7XPuA/If+jQBeAqsD7wNKAhb/BfyV+bz3R/c++Gj6fv38/y8BnQHSABj/bv0i/L37WvwM/p8ARAOkBRYHgQcsBw0GUgSKAh8BLwC//9X/cAANAWkBPAFyAFT/NP5W/ab8VPzb/Fb+jQAhAyIFZAbvBmQGrAW+BJQDyQJEAhoCIQIoAh4C1AGvAPv+UP3L+6f6A/qG+Wf5B/pe+wf9dP7T/+EApwE0AjUC1QFmATEBYQEAAogClgI4AvoA5v6b/Fv6dvjM9sT1YvbU91H5fPoD+1n7qvv8+478ov1i/2MBUwMjBUMGHAavBNUC8QAT/xv9Jvvh+Tv51/jl+Iz5ZfoR+7/7yPy+/Yb+Vv8xAEkBiQLMA8AFIQibCfsJrQn3CBIImAaJBIICvgCN/67+Cf7I/UH9qvx0/Hb8sPwP/dj9Sf8MAc8CeATlBeQGIQczB2oHcgdpBysH3QaMBv0FGgXUA4ICTwETAOL+zf3v/GH8AvwI/Kz8ev0x/sj+a//4/0EAiQCXAH8ApgAYAaMBMwKfAncC8wGVAQkBPQB3/6r+9/2c/X/9X/0o/cX8A/wq+3P6svkN+fb4P/kL+ov7Uv0m/7UAhAGKAS0BegCd//n+tP7W/oj/mgDTAdwCbwMNA74BOQCX/hP9S/w5/MX84f0O/zoAZQEwAl0CHwLHAUsBvQBuACkA7P/b/+3/UQDxAK4BUALMAhgD/QLHAnMCvgEeAZUAVAB+AHgAbwAvALT/Qv+j/mL+ov4Q/9H/YAB9AEwAgv+r/hb+l/1i/YX9+P2P/lj/MgCZAMAA1QDhAC8BgAGbAYABGgHFAGwA7P9k/5H+0P1w/Tr9Q/0h/aT8J/wD/HD8QP1n/pr/uADnAegCSQMjA3gCUwF6ACAA8v/k/9z/5v8bAEgAVABBAC4AGwDi/6z/mv+K/5f/1/9TACcBCwLpAqsDPARlBPIDGAMHAvcALgC5/3n/hP+V/2H/Cf+o/vf9H/2D/Cb8G/x//NH88vw6/ZX9GP6//lP/fv9D/9L+W/7F/Qn9o/zX/LH9RP8xAfkCcAREBXEFGAVOBF4DXgKPAScBPQGYAfkBPwIXApIBrgB4/03+cf0e/Xr9av7k/7oBmAMqBe0F5QUhBcwDXAL3ALD/iP6j/Sf9C/0I/cL86vve+v/5qvnt+Xf6fvvG/D7+3v9EAUACpAJxAgECdwH6AK4AgACIANgATgG2AeEBkwHHAPr/dP8r/zH/hP8XANEAkgGAAoMDYQTvBAIFxQRIBHwDQQKxAEL/Tf7g/dP9B/5q/qf+kf4n/iL9+vvB+pb5/fjx+Kn5JPsd/Sb/LQHvAiwE3gTDBOcDmwJiAUEAZv/8/vL+SP+l/+v/+//E/57/nP+6/1IAdAHuAmoEVgVuBdkEswNLAvcAzf8F/+X+cP9NAC4BdwHxANT/Mf6L/CP7TvpE+gD7ifxa/gAA2wChALP/T/71/N37NvuQ+/L89P4hAQ4DZAS8BP4DZQI8ABv+e/yh+9L77vyO/igAbQETAgICWQFTALv/u/9jAHMBcAKCA0MEgwQ1BHEDjwKkASUBFwE8AXYBmgGTAT4BnACa/0D+6/zm+277pvto/Kf9H/90AFYBfAECAQ0A/P5B/hP+pP66/xMBUQLLAnUCcQEOAMr+uP0n/Un97P0f/44A1wHJAvkCawJ5AVcAU/+o/nX+Cv9dACYC3gPUBMEEpQPSAbz/0/2X/BH8Q/w3/Y3+0f+DAIUA8v/g/p/9cfzL+7/7Q/xh/cT+TACSAV4CewLaAfkA6P8W/+/+Wv9hALwBAwPeAxgEdgP4ARMAN/72/JL8LP3U/u4A9AKbBIQFfwWCBNcCAgFZ/0H+4/0X/sf+sv+OACABMwG0AMH/jP5f/aL8b/y9/Hj9cP5o/+3/tv/j/sL9qPwU/E78VP3//toAcQJcA1kDZwKyANT+Wf3F/FX9yf7oACQDywR8BeUEJgO0ADD+VPyK+yv8BP6KAHcD4gUvBycHugVxA8AAZ/7J/DH89fxv/kMA/gHWAtIC2AENACf+f/yh+537Ufyt/Q7/RAD1AMQAAQDg/ub9Yf1p/T3+bf/QABICpQKZAsgBiQBQ/1/+5P23/Rf+w/5w/xwAawBcACAA8v/R/7r//v9tAPQApAE3AocCegI4ArEB9ABbAMn/af95/7H/7/8bABIA5v98/wT/oP5P/k7+fP7k/nj/FgCwAPMA8ADAAF4A8/+P/1v/Yf+Y/y0A1QBlAdgB3wFdAXIAdf9l/nj9Lf1S/dn9yP66/5MAOwGLAYQBMgHqAJ4AWQBcAIEA0wAKARMB/gCdADMAnf/y/oX+Nv48/of+9v52/9X/GwAhAO7/rP9Z/zr/X//B/1cA+gCbAfkB7wGRAesAMAB9/+z+rv7H/ib/qf9HANoAOgFVAQ0BiAD3/2//EP/5/i//tf9xACEBpgHUAZsB+AANAC//gf40/kj+tP5c/wsAowDfAKoAOACW/9/+Vv4W/hX+WP7p/or/HQB9AJEAeAA4APX/uf+d/8H/CQBwAN8AKAFHAR4BuwA6AKr/Rv8F//H+HP9z//H/dwDmAEEBeAGEAX0BYAFMAUwBUgFUAUEBJQHrAIcAGACM/wP/uP6N/on+q/7p/if/RP9a/1r/Uv9X/1b/Xv99/73/EgBWAIMAogCsAIgAPQDU/1v/C//b/tL+6v4W/1L/dP9w/1r/QP8z/zv/af+6/xsAiQDhAA4BNAFOAVUBPgH9ALYAbgBPAFkAZgCZANUAAgEAAckAegAcAM//mf99/4f/tf/g//n/CAAlAEYARABBAEEAPQBFAD0ANQBcAKYA6wASAQIBxgBuAAkAof9G/xz/Bv8T/yz/Q/9r/4z/rf+x/8v///8aADEAHQADAP3/7P/a/8P/uf+v/4X/Uf8O/9P+sf6K/m3+d/60/vv+LP9W/2//bv9d/z//LP9P/5z/8P9PALMA/QAcARMB5gCoAHsAWQBJAFcAfwC0AOcABQH1AMMAhQBOAC8AOABlAKoAFQGIAdkBBwIIAs4BdAETAb0AgQBxAH8AlgCpAJ4AWgDa/zz/qP4+/gL+Bv5J/q3+G/9y/7T/tP+A/zf/6P7L/tb+B/9i/8z/LwBqAIAAcwA2AOr/p/95/3H/nf/l/zYAhwDAAMsAnQBXAAwAyP+X/4v/uf8EAFkAuAD/ABgBJQE=\" type=\"audio/wav\" />\n",
              "                    Your browser does not support the audio element.\n",
              "                </audio>\n",
              "              "
            ],
            "text/plain": [
              "<IPython.lib.display.Audio object>"
            ]
          },
          "metadata": {},
          "execution_count": 30
        }
      ]
    },
    "25580d530df5448786cb11d39d835191": {
     "model_module": "@jupyter-widgets/controls",
     "model_module_version": "1.5.0",
     "model_name": "PasswordModel",
     "state": {
      "_dom_classes": [],
      "_model_module": "@jupyter-widgets/controls",
      "_model_module_version": "1.5.0",
      "_model_name": "PasswordModel",
      "_view_count": null,
      "_view_module": "@jupyter-widgets/controls",
      "_view_module_version": "1.5.0",
      "_view_name": "PasswordView",
      "continuous_update": true,
      "description": "Password:",
      "description_tooltip": null,
      "disabled": false,
      "layout": "IPY_MODEL_8e0d381b96b6495883bfb8b1c5da323c",
      "placeholder": "\u200b",
      "style": "IPY_MODEL_1cd7a99c6b844228abbdc14fde5cd1c5",
      "value": ""
     }
    },
    {
      "cell_type": "markdown",
      "metadata": {
        "id": "1MaL9J2dNVtG"
      },
      "source": [
        "It can be heard, that the speakers change along with their speaking rate, accent, and background environment, etc. Overall, the recordings sound acceptably clear though, which is to be expected from a crowd-sourced read speech corpus.\n",
        "\n",
        "Let's do a final check that the data is correctly prepared, by printing the shape of the speech input, its transcription, and the corresponding sampling rate.\n",
        "\n",
        "**Note**: *You can click the following cell a couple of times to verify multiple samples.*"
      ]
    },
    {
      "cell_type": "code",
      "metadata": {
        "colab": {
          "base_uri": "https://localhost:8080/"
        },
        "id": "1Po2g7YPuRTx",
        "outputId": "2821e77e-e25c-4bf1-b716-c63fd25a656e"
      },
      "source": [
        "rand_int = random.randint(0, len(common_voice_train)-1)\n",
        "\n",
        "print(\"Target text:\", common_voice_train[rand_int][\"sentence\"])\n",
        "print(\"Input array shape:\", common_voice_train[rand_int][\"audio\"][\"array\"].shape)\n",
        "print(\"Sampling rate:\", common_voice_train[rand_int][\"audio\"][\"sampling_rate\"])"
      ],
      "execution_count": 31,
      "outputs": [
        {
          "output_type": "stream",
          "name": "stdout",
          "text": [
            "Target text: bhí tara viscardi agus meadhbh o'rourke ag seinnt i ngáirdín na mbláth\n",
            "Input array shape: (77952,)\n",
            "Sampling rate: 16000\n"
          ]
        }
      ]
    },
    {
      "cell_type": "markdown",
      "metadata": {
        "id": "M9teZcSwOBJ4"
      },
      "source": [
        "Good! Everything looks fine - the data is a 1-dimensional array, the sampling rate always corresponds to 16kHz, and the target text is normalized."
      ]
    },
    "29dcf99bbc174a62ac7301430bef4be4": {
     "model_module": "@jupyter-widgets/controls",
     "model_module_version": "1.5.0",
     "model_name": "HTMLModel",
     "state": {
      "_dom_classes": [],
      "_model_module": "@jupyter-widgets/controls",
      "_model_module_version": "1.5.0",
      "_model_name": "HTMLModel",
      "_view_count": null,
      "_view_module": "@jupyter-widgets/controls",
      "_view_module_version": "1.5.0",
      "_view_name": "HTMLView",
      "description": "",
      "description_tooltip": null,
      "layout": "IPY_MODEL_7a26e83c3c444829a8a685d7f8f07ef5",
      "placeholder": "\u200b",
      "style": "IPY_MODEL_59e40b080a534a16b5f1285f8dcfb716",
      "value": "<center>\n<img src=https://huggingface.co/front/assets/huggingface_logo-noborder.svg alt='Hugging Face'>\n<br>\n<b>The AI community building the future</b>\n<br>\nImmediately click login after typing your password or it might be stored in plain text in this notebook file.\n</center>"
     }
    },
    {
      "cell_type": "code",
      "metadata": {
        "id": "eJY7I0XAwe9p"
      },
      "source": [
        "def prepare_dataset(batch):\n",
        "    audio = batch[\"audio\"]\n",
        "\n",
        "    # batched output is \"un-batched\"\n",
        "    batch[\"input_values\"] = processor(audio[\"array\"], sampling_rate=audio[\"sampling_rate\"]).input_values[0]\n",
        "    batch[\"input_length\"] = len(batch[\"input_values\"])\n",
        "    \n",
        "    with processor.as_target_processor():\n",
        "        batch[\"labels\"] = processor(batch[\"sentence\"]).input_ids\n",
        "    return batch"
      ],
      "layout": "IPY_MODEL_9828e6850d2e422a83cd919567d3a2f6"
     }
    },
    "2b7fbb2b36814aee9abe57a19679af4a": {
     "model_module": "@jupyter-widgets/base",
     "model_module_version": "1.2.0",
     "model_name": "LayoutModel",
     "state": {
      "_model_module": "@jupyter-widgets/base",
      "_model_module_version": "1.2.0",
      "_model_name": "LayoutModel",
      "_view_count": null,
      "_view_module": "@jupyter-widgets/base",
      "_view_module_version": "1.2.0",
      "_view_name": "LayoutView",
      "align_content": null,
      "align_items": null,
      "align_self": null,
      "border": null,
      "bottom": null,
      "display": null,
      "flex": null,
      "flex_flow": null,
      "grid_area": null,
      "grid_auto_columns": null,
      "grid_auto_flow": null,
      "grid_auto_rows": null,
      "grid_column": null,
      "grid_gap": null,
      "grid_row": null,
      "grid_template_areas": null,
      "grid_template_columns": null,
      "grid_template_rows": null,
      "height": null,
      "justify_content": null,
      "justify_items": null,
      "left": null,
      "margin": null,
      "max_height": null,
      "max_width": null,
      "min_height": null,
      "min_width": null,
      "object_fit": null,
      "object_position": null,
      "order": null,
      "overflow": null,
      "overflow_x": null,
      "overflow_y": null,
      "padding": null,
      "right": null,
      "top": null,
      "visibility": null,
      "width": null
     }
    },
    "2c0285e9eeb840e78c5bd598298946fa": {
     "model_module": "@jupyter-widgets/controls",
     "model_module_version": "1.5.0",
     "model_name": "FloatProgressModel",
     "state": {
      "_dom_classes": [],
      "_model_module": "@jupyter-widgets/controls",
      "_model_module_version": "1.5.0",
      "_model_name": "FloatProgressModel",
      "_view_count": null,
      "_view_module": "@jupyter-widgets/controls",
      "_view_module_version": "1.5.0",
      "_view_name": "ProgressView",
      "bar_style": "info",
      "description": "",
      "description_tooltip": null,
      "layout": "IPY_MODEL_0e435bb252504fdd8f041e74a9e805e0",
      "max": 1,
      "min": 0,
      "orientation": "horizontal",
      "style": "IPY_MODEL_100323f0cbb04891bcbfff9204daaf7d",
      "value": 1
     }
    },
    "2cc10d28110f4254883436ddf0edc49c": {
     "model_module": "@jupyter-widgets/controls",
     "model_module_version": "1.5.0",
     "model_name": "DescriptionStyleModel",
     "state": {
      "_model_module": "@jupyter-widgets/controls",
      "_model_module_version": "1.5.0",
      "_model_name": "DescriptionStyleModel",
      "_view_count": null,
      "_view_module": "@jupyter-widgets/base",
      "_view_module_version": "1.2.0",
      "_view_name": "StyleView",
      "description_width": ""
     }
    },
    "2f987e12ede142c986c02268d01eed3c": {
     "model_module": "@jupyter-widgets/base",
     "model_module_version": "1.2.0",
     "model_name": "LayoutModel",
     "state": {
      "_model_module": "@jupyter-widgets/base",
      "_model_module_version": "1.2.0",
      "_model_name": "LayoutModel",
      "_view_count": null,
      "_view_module": "@jupyter-widgets/base",
      "_view_module_version": "1.2.0",
      "_view_name": "LayoutView",
      "align_content": null,
      "align_items": null,
      "align_self": null,
      "border": null,
      "bottom": null,
      "display": null,
      "flex": null,
      "flex_flow": null,
      "grid_area": null,
      "grid_auto_columns": null,
      "grid_auto_flow": null,
      "grid_auto_rows": null,
      "grid_column": null,
      "grid_gap": null,
      "grid_row": null,
      "grid_template_areas": null,
      "grid_template_columns": null,
      "grid_template_rows": null,
      "height": null,
      "justify_content": null,
      "justify_items": null,
      "left": null,
      "margin": null,
      "max_height": null,
      "max_width": null,
      "min_height": null,
      "min_width": null,
      "object_fit": null,
      "object_position": null,
      "order": null,
      "overflow": null,
      "overflow_x": null,
      "overflow_y": null,
      "padding": null,
      "right": null,
      "top": null,
      "visibility": null,
      "width": null
     }
    },
    "30d15f00faa24a889fd4ff7850220c1b": {
     "model_module": "@jupyter-widgets/controls",
     "model_module_version": "1.5.0",
     "model_name": "ProgressStyleModel",
     "state": {
      "_model_module": "@jupyter-widgets/controls",
      "_model_module_version": "1.5.0",
      "_model_name": "ProgressStyleModel",
      "_view_count": null,
      "_view_module": "@jupyter-widgets/base",
      "_view_module_version": "1.2.0",
      "_view_name": "StyleView",
      "bar_color": null,
      "description_width": ""
     }
    },
    "30e365417e8e4bab818779955996472a": {
     "model_module": "@jupyter-widgets/base",
     "model_module_version": "1.2.0",
     "model_name": "LayoutModel",
     "state": {
      "_model_module": "@jupyter-widgets/base",
      "_model_module_version": "1.2.0",
      "_model_name": "LayoutModel",
      "_view_count": null,
      "_view_module": "@jupyter-widgets/base",
      "_view_module_version": "1.2.0",
      "_view_name": "LayoutView",
      "align_content": null,
      "align_items": null,
      "align_self": null,
      "border": null,
      "bottom": null,
      "display": null,
      "flex": null,
      "flex_flow": null,
      "grid_area": null,
      "grid_auto_columns": null,
      "grid_auto_flow": null,
      "grid_auto_rows": null,
      "grid_column": null,
      "grid_gap": null,
      "grid_row": null,
      "grid_template_areas": null,
      "grid_template_columns": null,
      "grid_template_rows": null,
      "height": null,
      "justify_content": null,
      "justify_items": null,
      "left": null,
      "margin": null,
      "max_height": null,
      "max_width": null,
      "min_height": null,
      "min_width": null,
      "object_fit": null,
      "object_position": null,
      "order": null,
      "overflow": null,
      "overflow_x": null,
      "overflow_y": null,
      "padding": null,
      "right": null,
      "top": null,
      "visibility": null,
      "width": null
     }
    },
    "31175252c10649c6abdf2acc618dd1b9": {
     "model_module": "@jupyter-widgets/base",
     "model_module_version": "1.2.0",
     "model_name": "LayoutModel",
     "state": {
      "_model_module": "@jupyter-widgets/base",
      "_model_module_version": "1.2.0",
      "_model_name": "LayoutModel",
      "_view_count": null,
      "_view_module": "@jupyter-widgets/base",
      "_view_module_version": "1.2.0",
      "_view_name": "LayoutView",
      "align_content": null,
      "align_items": null,
      "align_self": null,
      "border": null,
      "bottom": null,
      "display": null,
      "flex": null,
      "flex_flow": null,
      "grid_area": null,
      "grid_auto_columns": null,
      "grid_auto_flow": null,
      "grid_auto_rows": null,
      "grid_column": null,
      "grid_gap": null,
      "grid_row": null,
      "grid_template_areas": null,
      "grid_template_columns": null,
      "grid_template_rows": null,
      "height": null,
      "justify_content": null,
      "justify_items": null,
      "left": null,
      "margin": null,
      "max_height": null,
      "max_width": null,
      "min_height": null,
      "min_width": null,
      "object_fit": null,
      "object_position": null,
      "order": null,
      "overflow": null,
      "overflow_x": null,
      "overflow_y": null,
      "padding": null,
      "right": null,
      "top": null,
      "visibility": null,
      "width": null
     }
    },
    "316fc27acc8e4a389ee24361bbae3574": {
     "model_module": "@jupyter-widgets/controls",
     "model_module_version": "1.5.0",
     "model_name": "HTMLModel",
     "state": {
      "_dom_classes": [],
      "_model_module": "@jupyter-widgets/controls",
      "_model_module_version": "1.5.0",
      "_model_name": "HTMLModel",
      "_view_count": null,
      "_view_module": "@jupyter-widgets/controls",
      "_view_module_version": "1.5.0",
      "_view_name": "HTMLView",
      "description": "",
      "description_tooltip": null,
      "layout": "IPY_MODEL_b00d8bd8e91842609cab8a9cbf07648b",
      "placeholder": "\u200b",
      "style": "IPY_MODEL_d20f957ccf7f474d890df4f5ca746ce7",
      "value": "Downloading: 100%"
     }
    },
    "323365ad271a47df9090510c25179820": {
     "model_module": "@jupyter-widgets/controls",
     "model_module_version": "1.5.0",
     "model_name": "DescriptionStyleModel",
     "state": {
      "_model_module": "@jupyter-widgets/controls",
      "_model_module_version": "1.5.0",
      "_model_name": "DescriptionStyleModel",
      "_view_count": null,
      "_view_module": "@jupyter-widgets/base",
      "_view_module_version": "1.2.0",
      "_view_name": "StyleView",
      "description_width": ""
     }
    },
    "35dd171a360d43489e8b70653afe2efd": {
     "model_module": "@jupyter-widgets/controls",
     "model_module_version": "1.5.0",
     "model_name": "ProgressStyleModel",
     "state": {
      "_model_module": "@jupyter-widgets/controls",
      "_model_module_version": "1.5.0",
      "_model_name": "ProgressStyleModel",
      "_view_count": null,
      "_view_module": "@jupyter-widgets/base",
      "_view_module_version": "1.2.0",
      "_view_name": "StyleView",
      "bar_color": null,
      "description_width": ""
     }
    },
    "3689adf4a5d643d39a875e91f37c880d": {
     "model_module": "@jupyter-widgets/controls",
     "model_module_version": "1.5.0",
     "model_name": "HTMLModel",
     "state": {
      "_dom_classes": [],
      "_model_module": "@jupyter-widgets/controls",
      "_model_module_version": "1.5.0",
      "_model_name": "HTMLModel",
      "_view_count": null,
      "_view_module": "@jupyter-widgets/controls",
      "_view_module_version": "1.5.0",
      "_view_name": "HTMLView",
      "description": "",
      "description_tooltip": null,
      "layout": "IPY_MODEL_993299f428044734bda27f847706669b",
      "placeholder": "\u200b",
      "style": "IPY_MODEL_aaeddaf56b7a408b9b5843fd38f087fc",
      "value": "100%"
     }
    },
    "3869211777cd48ff817a8b779fb9e6ef": {
     "model_module": "@jupyter-widgets/controls",
     "model_module_version": "1.5.0",
     "model_name": "ProgressStyleModel",
     "state": {
      "_model_module": "@jupyter-widgets/controls",
      "_model_module_version": "1.5.0",
      "_model_name": "ProgressStyleModel",
      "_view_count": null,
      "_view_module": "@jupyter-widgets/base",
      "_view_module_version": "1.2.0",
      "_view_name": "StyleView",
      "bar_color": null,
      "description_width": ""
     }
    },
    "3ae00869b3154f08ae20d8c738b71cd1": {
     "model_module": "@jupyter-widgets/base",
     "model_module_version": "1.2.0",
     "model_name": "LayoutModel",
     "state": {
      "_model_module": "@jupyter-widgets/base",
      "_model_module_version": "1.2.0",
      "_model_name": "LayoutModel",
      "_view_count": null,
      "_view_module": "@jupyter-widgets/base",
      "_view_module_version": "1.2.0",
      "_view_name": "LayoutView",
      "align_content": null,
      "align_items": null,
      "align_self": null,
      "border": null,
      "bottom": null,
      "display": null,
      "flex": null,
      "flex_flow": null,
      "grid_area": null,
      "grid_auto_columns": null,
      "grid_auto_flow": null,
      "grid_auto_rows": null,
      "grid_column": null,
      "grid_gap": null,
      "grid_row": null,
      "grid_template_areas": null,
      "grid_template_columns": null,
      "grid_template_rows": null,
      "height": null,
      "justify_content": null,
      "justify_items": null,
      "left": null,
      "margin": null,
      "max_height": null,
      "max_width": null,
      "min_height": null,
      "min_width": null,
      "object_fit": null,
      "object_position": null,
      "order": null,
      "overflow": null,
      "overflow_x": null,
      "overflow_y": null,
      "padding": null,
      "right": null,
      "top": null,
      "visibility": null,
      "width": null
     }
    },
    "3b8cb5d42eff41299096e324d79b6efb": {
     "model_module": "@jupyter-widgets/controls",
     "model_module_version": "1.5.0",
     "model_name": "FloatProgressModel",
     "state": {
      "_dom_classes": [],
      "_model_module": "@jupyter-widgets/controls",
      "_model_module_version": "1.5.0",
      "_model_name": "FloatProgressModel",
      "_view_count": null,
      "_view_module": "@jupyter-widgets/controls",
      "_view_module_version": "1.5.0",
      "_view_name": "ProgressView",
      "bar_style": "success",
      "description": "",
      "description_tooltip": null,
      "layout": "IPY_MODEL_5e9eac0556194d5bac232a369697e17d",
      "max": 506,
      "min": 0,
      "orientation": "horizontal",
      "style": "IPY_MODEL_c7bb6a7287ee407195246d295f8ee454",
      "value": 506
     }
    },
    {
      "cell_type": "code",
      "metadata": {
        "colab": {
          "base_uri": "https://localhost:8080/",
          "height": 81,
          "referenced_widgets": [
            "daa27ee824de4dc8b622361ca7176208",
            "a59f7192b4e44659b26d871815f4ba9b",
            "eb5c89ec1efe43049f44e2ae22bd4b55",
            "be1711842323445c8d26bf198e5e0d0a",
            "23d4b88b0dfa47949435187c75ca5a18",
            "62f04db12d124f51aeeae299b92a8424",
            "2383e164d09d4214856844347ad215d2",
            "5555f0de12ce445fbaaca0cdb21dcb95",
            "7ccb1da5ab014ae89d2c4ce9abc31e9c",
            "9815ecdcadae446e8b01fc611c6e68fc",
            "416220dffb5f46109ec69efd55e9b806",
            "8b4fbc8479d3442fa3d75a068b9444d6",
            "6706a6a94801431ab76a154edddb178e",
            "058688bae0734d869e11e7e08442afd3",
            "52b80bf291fb460fb02d6067a45427cb",
            "bd874586af604f9abf58bc06d01d35f5",
            "d5f01a64979c43e8a563f4e753d8e646",
            "5753899db1f94f5390ff2ab9294ae118",
            "8b47b2cd75924244be5ed33d8b9bb92b",
            "f0af15d78c194009bb38fdd3244fb062",
            "141d1ffb384b4493ab1d6c18eb7175e6",
            "747c88a43ab347ebb0d6d31781394b40"
          ]
        },
        "id": "-np9xYK-wl8q",
        "outputId": "7ac4e014-f6a1-4b43-a491-022c9d922d2c"
      },
      "source": [
        "common_voice_train = common_voice_train.map(prepare_dataset, remove_columns=common_voice_train.column_names)\n",
        "common_voice_test = common_voice_test.map(prepare_dataset, remove_columns=common_voice_test.column_names)"
      ],
      "layout": "IPY_MODEL_212f7e5ec9bb4c769c0c40ef16cc9c22"
     }
    },
    "3db7e9ad64f7464bb8f20fc5b322a8a6": {
     "model_module": "@jupyter-widgets/base",
     "model_module_version": "1.2.0",
     "model_name": "LayoutModel",
     "state": {
      "_model_module": "@jupyter-widgets/base",
      "_model_module_version": "1.2.0",
      "_model_name": "LayoutModel",
      "_view_count": null,
      "_view_module": "@jupyter-widgets/base",
      "_view_module_version": "1.2.0",
      "_view_name": "LayoutView",
      "align_content": null,
      "align_items": null,
      "align_self": null,
      "border": null,
      "bottom": null,
      "display": null,
      "flex": null,
      "flex_flow": null,
      "grid_area": null,
      "grid_auto_columns": null,
      "grid_auto_flow": null,
      "grid_auto_rows": null,
      "grid_column": null,
      "grid_gap": null,
      "grid_row": null,
      "grid_template_areas": null,
      "grid_template_columns": null,
      "grid_template_rows": null,
      "height": null,
      "justify_content": null,
      "justify_items": null,
      "left": null,
      "margin": null,
      "max_height": null,
      "max_width": null,
      "min_height": null,
      "min_width": null,
      "object_fit": null,
      "object_position": null,
      "order": null,
      "overflow": null,
      "overflow_x": null,
      "overflow_y": null,
      "padding": null,
      "right": null,
      "top": null,
      "visibility": null,
      "width": null
     }
    },
    "3f904973fd3c4d98a322fe8079a1e614": {
     "model_module": "@jupyter-widgets/controls",
     "model_module_version": "1.5.0",
     "model_name": "HTMLModel",
     "state": {
      "_dom_classes": [],
      "_model_module": "@jupyter-widgets/controls",
      "_model_module_version": "1.5.0",
      "_model_name": "HTMLModel",
      "_view_count": null,
      "_view_module": "@jupyter-widgets/controls",
      "_view_module_version": "1.5.0",
      "_view_name": "HTMLView",
      "description": "",
      "description_tooltip": null,
      "layout": "IPY_MODEL_19f3738024d54f10af1fd28eddfbb597",
      "placeholder": "\u200b",
      "style": "IPY_MODEL_323365ad271a47df9090510c25179820",
      "value": "Downloading: "
     }
    },
    "3f9417297a5d4f47bc9ebadb81665e43": {
     "model_module": "@jupyter-widgets/controls",
     "model_module_version": "1.5.0",
     "model_name": "DescriptionStyleModel",
     "state": {
      "_model_module": "@jupyter-widgets/controls",
      "_model_module_version": "1.5.0",
      "_model_name": "DescriptionStyleModel",
      "_view_count": null,
      "_view_module": "@jupyter-widgets/base",
      "_view_module_version": "1.2.0",
      "_view_name": "StyleView",
      "description_width": ""
     }
    },
    "40d802c03f8245b796f4ac41e8b18029": {
     "model_module": "@jupyter-widgets/controls",
     "model_module_version": "1.5.0",
     "model_name": "HTMLModel",
     "state": {
      "_dom_classes": [],
      "_model_module": "@jupyter-widgets/controls",
      "_model_module_version": "1.5.0",
      "_model_name": "HTMLModel",
      "_view_count": null,
      "_view_module": "@jupyter-widgets/controls",
      "_view_module_version": "1.5.0",
      "_view_name": "HTMLView",
      "description": "",
      "description_tooltip": null,
      "layout": "IPY_MODEL_81b2849fd8de48849e6ae55df4aafafb",
      "placeholder": "\u200b",
      "style": "IPY_MODEL_d5bf5ac0ddd94dbbb56af95c46d0f1aa",
      "value": " 206/0 [00:00&lt;00:00, 2052.67 examples/s]"
     }
    },
    "442406a5cad34d18b4846d0b0923fb84": {
     "model_module": "@jupyter-widgets/base",
     "model_module_version": "1.2.0",
     "model_name": "LayoutModel",
     "state": {
      "_model_module": "@jupyter-widgets/base",
      "_model_module_version": "1.2.0",
      "_model_name": "LayoutModel",
      "_view_count": null,
      "_view_module": "@jupyter-widgets/base",
      "_view_module_version": "1.2.0",
      "_view_name": "LayoutView",
      "align_content": null,
      "align_items": null,
      "align_self": null,
      "border": null,
      "bottom": null,
      "display": null,
      "flex": null,
      "flex_flow": null,
      "grid_area": null,
      "grid_auto_columns": null,
      "grid_auto_flow": null,
      "grid_auto_rows": null,
      "grid_column": null,
      "grid_gap": null,
      "grid_row": null,
      "grid_template_areas": null,
      "grid_template_columns": null,
      "grid_template_rows": null,
      "height": null,
      "justify_content": null,
      "justify_items": null,
      "left": null,
      "margin": null,
      "max_height": null,
      "max_width": null,
      "min_height": null,
      "min_width": null,
      "object_fit": null,
      "object_position": null,
      "order": null,
      "overflow": null,
      "overflow_x": null,
      "overflow_y": null,
      "padding": null,
      "right": null,
      "top": null,
      "visibility": null,
      "width": null
     }
    },
    "453c25ef14ae46ca89be007f84601f08": {
     "model_module": "@jupyter-widgets/controls",
     "model_module_version": "1.5.0",
     "model_name": "DescriptionStyleModel",
     "state": {
      "_model_module": "@jupyter-widgets/controls",
      "_model_module_version": "1.5.0",
      "_model_name": "DescriptionStyleModel",
      "_view_count": null,
      "_view_module": "@jupyter-widgets/base",
      "_view_module_version": "1.2.0",
      "_view_name": "StyleView",
      "description_width": ""
     }
    },
    "48be87f262024cce9954b7162ee9a3b8": {
     "model_module": "@jupyter-widgets/base",
     "model_module_version": "1.2.0",
     "model_name": "LayoutModel",
     "state": {
      "_model_module": "@jupyter-widgets/base",
      "_model_module_version": "1.2.0",
      "_model_name": "LayoutModel",
      "_view_count": null,
      "_view_module": "@jupyter-widgets/base",
      "_view_module_version": "1.2.0",
      "_view_name": "LayoutView",
      "align_content": null,
      "align_items": null,
      "align_self": null,
      "border": null,
      "bottom": null,
      "display": null,
      "flex": null,
      "flex_flow": null,
      "grid_area": null,
      "grid_auto_columns": null,
      "grid_auto_flow": null,
      "grid_auto_rows": null,
      "grid_column": null,
      "grid_gap": null,
      "grid_row": null,
      "grid_template_areas": null,
      "grid_template_columns": null,
      "grid_template_rows": null,
      "height": null,
      "justify_content": null,
      "justify_items": null,
      "left": null,
      "margin": null,
      "max_height": null,
      "max_width": null,
      "min_height": null,
      "min_width": null,
      "object_fit": null,
      "object_position": null,
      "order": null,
      "overflow": null,
      "overflow_x": null,
      "overflow_y": null,
      "padding": null,
      "right": null,
      "top": null,
      "visibility": null,
      "width": null
     }
    },
    "4c1492a4b7004ee294b8d22186e0897f": {
     "model_module": "@jupyter-widgets/base",
     "model_module_version": "1.2.0",
     "model_name": "LayoutModel",
     "state": {
      "_model_module": "@jupyter-widgets/base",
      "_model_module_version": "1.2.0",
      "_model_name": "LayoutModel",
      "_view_count": null,
      "_view_module": "@jupyter-widgets/base",
      "_view_module_version": "1.2.0",
      "_view_name": "LayoutView",
      "align_content": null,
      "align_items": null,
      "align_self": null,
      "border": null,
      "bottom": null,
      "display": null,
      "flex": null,
      "flex_flow": null,
      "grid_area": null,
      "grid_auto_columns": null,
      "grid_auto_flow": null,
      "grid_auto_rows": null,
      "grid_column": null,
      "grid_gap": null,
      "grid_row": null,
      "grid_template_areas": null,
      "grid_template_columns": null,
      "grid_template_rows": null,
      "height": null,
      "justify_content": null,
      "justify_items": null,
      "left": null,
      "margin": null,
      "max_height": null,
      "max_width": null,
      "min_height": null,
      "min_width": null,
      "object_fit": null,
      "object_position": null,
      "order": null,
      "overflow": null,
      "overflow_x": null,
      "overflow_y": null,
      "padding": null,
      "right": null,
      "top": null,
      "visibility": null,
      "width": null
     }
    },
    {
      "cell_type": "markdown",
      "metadata": {
        "id": "nKcEWHvKI1by"
      },
      "source": [
        "**Note**: Currently `datasets` make use of [`torchaudio`](https://pytorch.org/audio/stable/index.html) and [`librosa`](https://librosa.org/doc/latest/index.html) for audio loading and resampling. If you wish to implement your own costumized data loading/sampling, feel free to just make use of the `\"path\"` column instead and disregard the `\"audio\"` column."
      ]
    },
    "4d8b548b015647e7a03d173c0210003f": {
     "model_module": "@jupyter-widgets/controls",
     "model_module_version": "1.5.0",
     "model_name": "HTMLModel",
     "state": {
      "_dom_classes": [],
      "_model_module": "@jupyter-widgets/controls",
      "_model_module_version": "1.5.0",
      "_model_name": "HTMLModel",
      "_view_count": null,
      "_view_module": "@jupyter-widgets/controls",
      "_view_module_version": "1.5.0",
      "_view_name": "HTMLView",
      "description": "",
      "description_tooltip": null,
      "layout": "IPY_MODEL_d3a9358beef6459ba063f4c3011cc4b5",
      "placeholder": "\u200b",
      "style": "IPY_MODEL_19cc5ead031a409fbd22c27221aea213",
      "value": "Downloading: "
     }
    },
    {
      "cell_type": "code",
      "metadata": {
        "id": "tdHfbUJ_09iA"
      },
      "source": [
        "#max_input_length_in_sec = 5.0\n",
        "#common_voice_train = common_voice_train.filter(lambda x: x < max_input_length_in_sec * processor.feature_extractor.sampling_rate, input_columns=[\"input_length\"])"
      ],
      "execution_count": null,
      "outputs": []
    },
    {
      "cell_type": "markdown",
      "metadata": {
        "id": "1ZWDCCKqwcfS"
      },
      "source": [
        "Awesome, now we are ready to start training!"
      ]
    },
    {
      "cell_type": "markdown",
      "metadata": {
        "id": "gYlQkKVoRUos"
      },
      "source": [
        "## Training\n",
        "\n",
        "The data is processed so that we are ready to start setting up the training pipeline. We will make use of 🤗's [Trainer](https://huggingface.co/transformers/master/main_classes/trainer.html?highlight=trainer) for which we essentially need to do the following:\n",
        "\n",
        "- Define a data collator. In contrast to most NLP models, XLS-R has a much larger input length than output length. *E.g.*, a sample of input length 50000 has an output length of no more than 100. Given the large input sizes, it is much more efficient to pad the training batches dynamically meaning that all training samples should only be padded to the longest sample in their batch and not the overall longest sample. Therefore, fine-tuning XLS-R requires a special padding data collator, which we will define below\n",
        "\n",
        "- Evaluation metric. During training, the model should be evaluated on the word error rate. We should define a `compute_metrics` function accordingly\n",
        "\n",
        "- Load a pretrained checkpoint. We need to load a pretrained checkpoint and configure it correctly for training.\n",
        "\n",
        "- Define the training configuration.\n",
        "\n",
        "After having fine-tuned the model, we will correctly evaluate it on the test data and verify that it has indeed learned to correctly transcribe speech."
      ]
    },
    {
      "cell_type": "markdown",
      "metadata": {
        "id": "Slk403unUS91"
      },
      "source": [
        "### Set-up Trainer\n",
        "\n",
        "Let's start by defining the data collator. The code for the data collator was copied from [this example](https://github.com/huggingface/transformers/blob/9a06b6b11bdfc42eea08fa91d0c737d1863c99e3/examples/research_projects/wav2vec2/run_asr.py#L81).\n",
        "\n",
        "Without going into too many details, in contrast to the common data collators, this data collator treats the `input_values` and `labels` differently and thus applies to separate padding functions on them (again making use of XLS-R processor's context manager). This is necessary because in speech input and output are of different modalities meaning that they should not be treated by the same padding function.\n",
        "Analogous to the common data collators, the padding tokens in the labels with `-100` so that those tokens are **not** taken into account when computing the loss."
      ]
    },
    {
      "cell_type": "code",
      "metadata": {
        "id": "tborvC9hx88e"
      },
      "source": [
        "import torch\n",
        "\n",
        "from dataclasses import dataclass, field\n",
        "from typing import Any, Dict, List, Optional, Union\n",
        "\n",
        "@dataclass\n",
        "class DataCollatorCTCWithPadding:\n",
        "    \"\"\"\n",
        "    Data collator that will dynamically pad the inputs received.\n",
        "    Args:\n",
        "        processor (:class:`~transformers.Wav2Vec2Processor`)\n",
        "            The processor used for proccessing the data.\n",
        "        padding (:obj:`bool`, :obj:`str` or :class:`~transformers.tokenization_utils_base.PaddingStrategy`, `optional`, defaults to :obj:`True`):\n",
        "            Select a strategy to pad the returned sequences (according to the model's padding side and padding index)\n",
        "            among:\n",
        "            * :obj:`True` or :obj:`'longest'`: Pad to the longest sequence in the batch (or no padding if only a single\n",
        "              sequence if provided).\n",
        "            * :obj:`'max_length'`: Pad to a maximum length specified with the argument :obj:`max_length` or to the\n",
        "              maximum acceptable input length for the model if that argument is not provided.\n",
        "            * :obj:`False` or :obj:`'do_not_pad'` (default): No padding (i.e., can output a batch with sequences of\n",
        "              different lengths).\n",
        "    \"\"\"\n",
        "\n",
        "    processor: Wav2Vec2Processor\n",
        "    padding: Union[bool, str] = True\n",
        "\n",
        "    def __call__(self, features: List[Dict[str, Union[List[int], torch.Tensor]]]) -> Dict[str, torch.Tensor]:\n",
        "        # split inputs and labels since they have to be of different lenghts and need\n",
        "        # different padding methods\n",
        "        input_features = [{\"input_values\": feature[\"input_values\"]} for feature in features]\n",
        "        label_features = [{\"input_ids\": feature[\"labels\"]} for feature in features]\n",
        "\n",
        "        batch = self.processor.pad(\n",
        "            input_features,\n",
        "            padding=self.padding,\n",
        "            return_tensors=\"pt\",\n",
        "        )\n",
        "        with self.processor.as_target_processor():\n",
        "            labels_batch = self.processor.pad(\n",
        "                label_features,\n",
        "                padding=self.padding,\n",
        "                return_tensors=\"pt\",\n",
        "            )\n",
        "\n",
        "        # replace padding with -100 to ignore loss correctly\n",
        "        labels = labels_batch[\"input_ids\"].masked_fill(labels_batch.attention_mask.ne(1), -100)\n",
        "\n",
        "        batch[\"labels\"] = labels\n",
        "\n",
        "        return batch"
      ],
      "layout": "IPY_MODEL_f332558a4b124cdc945c0421ff71a8e0"
     }
    },
    "5b2f42ef41c0478aa9a7adf49f91923a": {
     "model_module": "@jupyter-widgets/controls",
     "model_module_version": "1.5.0",
     "model_name": "HTMLModel",
     "state": {
      "_dom_classes": [],
      "_model_module": "@jupyter-widgets/controls",
      "_model_module_version": "1.5.0",
      "_model_name": "HTMLModel",
      "_view_count": null,
      "_view_module": "@jupyter-widgets/controls",
      "_view_module_version": "1.5.0",
      "_view_name": "HTMLView",
      "description": "",
      "description_tooltip": null,
      "layout": "IPY_MODEL_b0cd66f3807c45668a9282d0c71a1594",
      "placeholder": "\u200b",
      "style": "IPY_MODEL_0efdab7553384b939a723b59e4e32b03",
      "value": " 228/0 [00:00&lt;00:00, 2275.65 examples/s]"
     }
    },
    "5e9eac0556194d5bac232a369697e17d": {
     "model_module": "@jupyter-widgets/base",
     "model_module_version": "1.2.0",
     "model_name": "LayoutModel",
     "state": {
      "_model_module": "@jupyter-widgets/base",
      "_model_module_version": "1.2.0",
      "_model_name": "LayoutModel",
      "_view_count": null,
      "_view_module": "@jupyter-widgets/base",
      "_view_module_version": "1.2.0",
      "_view_name": "LayoutView",
      "align_content": null,
      "align_items": null,
      "align_self": null,
      "border": null,
      "bottom": null,
      "display": null,
      "flex": null,
      "flex_flow": null,
      "grid_area": null,
      "grid_auto_columns": null,
      "grid_auto_flow": null,
      "grid_auto_rows": null,
      "grid_column": null,
      "grid_gap": null,
      "grid_row": null,
      "grid_template_areas": null,
      "grid_template_columns": null,
      "grid_template_rows": null,
      "height": null,
      "justify_content": null,
      "justify_items": null,
      "left": null,
      "margin": null,
      "max_height": null,
      "max_width": null,
      "min_height": null,
      "min_width": null,
      "object_fit": null,
      "object_position": null,
      "order": null,
      "overflow": null,
      "overflow_x": null,
      "overflow_y": null,
      "padding": null,
      "right": null,
      "top": null,
      "visibility": null,
      "width": null
     }
    },
    "5f0876750019427ea8c8beedba327796": {
     "model_module": "@jupyter-widgets/base",
     "model_module_version": "1.2.0",
     "model_name": "LayoutModel",
     "state": {
      "_model_module": "@jupyter-widgets/base",
      "_model_module_version": "1.2.0",
      "_model_name": "LayoutModel",
      "_view_count": null,
      "_view_module": "@jupyter-widgets/base",
      "_view_module_version": "1.2.0",
      "_view_name": "LayoutView",
      "align_content": null,
      "align_items": null,
      "align_self": null,
      "border": null,
      "bottom": null,
      "display": null,
      "flex": null,
      "flex_flow": null,
      "grid_area": null,
      "grid_auto_columns": null,
      "grid_auto_flow": null,
      "grid_auto_rows": null,
      "grid_column": null,
      "grid_gap": null,
      "grid_row": null,
      "grid_template_areas": null,
      "grid_template_columns": null,
      "grid_template_rows": null,
      "height": null,
      "justify_content": null,
      "justify_items": null,
      "left": null,
      "margin": null,
      "max_height": null,
      "max_width": null,
      "min_height": null,
      "min_width": null,
      "object_fit": null,
      "object_position": null,
      "order": null,
      "overflow": null,
      "overflow_x": null,
      "overflow_y": null,
      "padding": null,
      "right": null,
      "top": null,
      "visibility": null,
      "width": null
     }
    },
    "5f766b6dadc44eb3bd9741e1dcdd63b4": {
     "model_module": "@jupyter-widgets/controls",
     "model_module_version": "1.5.0",
     "model_name": "ProgressStyleModel",
     "state": {
      "_model_module": "@jupyter-widgets/controls",
      "_model_module_version": "1.5.0",
      "_model_name": "ProgressStyleModel",
      "_view_count": null,
      "_view_module": "@jupyter-widgets/base",
      "_view_module_version": "1.2.0",
      "_view_name": "StyleView",
      "bar_color": null,
      "description_width": ""
     }
    },
    "61471a8718a543ed919d5d81874c1825": {
     "model_module": "@jupyter-widgets/controls",
     "model_module_version": "1.5.0",
     "model_name": "DescriptionStyleModel",
     "state": {
      "_model_module": "@jupyter-widgets/controls",
      "_model_module_version": "1.5.0",
      "_model_name": "DescriptionStyleModel",
      "_view_count": null,
      "_view_module": "@jupyter-widgets/base",
      "_view_module_version": "1.2.0",
      "_view_name": "StyleView",
      "description_width": ""
     }
    },
    "61fb8da335594364a848d02d171637ee": {
     "model_module": "@jupyter-widgets/controls",
     "model_module_version": "1.5.0",
     "model_name": "FloatProgressModel",
     "state": {
      "_dom_classes": [],
      "_model_module": "@jupyter-widgets/controls",
      "_model_module_version": "1.5.0",
      "_model_name": "FloatProgressModel",
      "_view_count": null,
      "_view_module": "@jupyter-widgets/controls",
      "_view_module_version": "1.5.0",
      "_view_name": "ProgressView",
      "bar_style": "success",
      "description": "",
      "description_tooltip": null,
      "layout": "IPY_MODEL_4c1492a4b7004ee294b8d22186e0897f",
      "max": 1,
      "min": 0,
      "orientation": "horizontal",
      "style": "IPY_MODEL_5f766b6dadc44eb3bd9741e1dcdd63b4",
      "value": 1
     }
    },
    "64b4c7ab486e4fa386883e7c7cf683c3": {
     "model_module": "@jupyter-widgets/controls",
     "model_module_version": "1.5.0",
     "model_name": "HTMLModel",
     "state": {
      "_dom_classes": [],
      "_model_module": "@jupyter-widgets/controls",
      "_model_module_version": "1.5.0",
      "_model_name": "HTMLModel",
      "_view_count": null,
      "_view_module": "@jupyter-widgets/controls",
      "_view_module_version": "1.5.0",
      "_view_name": "HTMLView",
      "description": "",
      "description_tooltip": null,
      "layout": "IPY_MODEL_1bab3ff916ca485faf6cb95008452954",
      "placeholder": "\u200b",
      "style": "IPY_MODEL_963256e135c84694b72dd6ece19a9279",
      "value": " 1/1 [00:00&lt;00:00, 17.53ba/s]"
     }
    },
    "65235c10925042b39c23a9aace6c18d1": {
     "model_module": "@jupyter-widgets/base",
     "model_module_version": "1.2.0",
     "model_name": "LayoutModel",
     "state": {
      "_model_module": "@jupyter-widgets/base",
      "_model_module_version": "1.2.0",
      "_model_name": "LayoutModel",
      "_view_count": null,
      "_view_module": "@jupyter-widgets/base",
      "_view_module_version": "1.2.0",
      "_view_name": "LayoutView",
      "align_content": null,
      "align_items": null,
      "align_self": null,
      "border": null,
      "bottom": null,
      "display": null,
      "flex": null,
      "flex_flow": null,
      "grid_area": null,
      "grid_auto_columns": null,
      "grid_auto_flow": null,
      "grid_auto_rows": null,
      "grid_column": null,
      "grid_gap": null,
      "grid_row": null,
      "grid_template_areas": null,
      "grid_template_columns": null,
      "grid_template_rows": null,
      "height": null,
      "justify_content": null,
      "justify_items": null,
      "left": null,
      "margin": null,
      "max_height": null,
      "max_width": null,
      "min_height": null,
      "min_width": null,
      "object_fit": null,
      "object_position": null,
      "order": null,
      "overflow": null,
      "overflow_x": null,
      "overflow_y": null,
      "padding": null,
      "right": null,
      "top": null,
      "visibility": null,
      "width": null
     }
    },
    "66c881eb8200470ca47e34cdf335c486": {
     "model_module": "@jupyter-widgets/base",
     "model_module_version": "1.2.0",
     "model_name": "LayoutModel",
     "state": {
      "_model_module": "@jupyter-widgets/base",
      "_model_module_version": "1.2.0",
      "_model_name": "LayoutModel",
      "_view_count": null,
      "_view_module": "@jupyter-widgets/base",
      "_view_module_version": "1.2.0",
      "_view_name": "LayoutView",
      "align_content": null,
      "align_items": null,
      "align_self": null,
      "border": null,
      "bottom": null,
      "display": null,
      "flex": null,
      "flex_flow": null,
      "grid_area": null,
      "grid_auto_columns": null,
      "grid_auto_flow": null,
      "grid_auto_rows": null,
      "grid_column": null,
      "grid_gap": null,
      "grid_row": null,
      "grid_template_areas": null,
      "grid_template_columns": null,
      "grid_template_rows": null,
      "height": null,
      "justify_content": null,
      "justify_items": null,
      "left": null,
      "margin": null,
      "max_height": null,
      "max_width": null,
      "min_height": null,
      "min_width": null,
      "object_fit": null,
      "object_position": null,
      "order": null,
      "overflow": null,
      "overflow_x": null,
      "overflow_y": null,
      "padding": null,
      "right": null,
      "top": null,
      "visibility": null,
      "width": null
     }
    },
    "674c9bdeeb9940cda0485f242d2d7b0e": {
     "model_module": "@jupyter-widgets/controls",
     "model_module_version": "1.5.0",
     "model_name": "DescriptionStyleModel",
     "state": {
      "_model_module": "@jupyter-widgets/controls",
      "_model_module_version": "1.5.0",
      "_model_name": "DescriptionStyleModel",
      "_view_count": null,
      "_view_module": "@jupyter-widgets/base",
      "_view_module_version": "1.2.0",
      "_view_name": "StyleView",
      "description_width": ""
     }
    },
    "6b43227027444041b5ad3097fad74ca6": {
     "model_module": "@jupyter-widgets/controls",
     "model_module_version": "1.5.0",
     "model_name": "ProgressStyleModel",
     "state": {
      "_model_module": "@jupyter-widgets/controls",
      "_model_module_version": "1.5.0",
      "_model_name": "ProgressStyleModel",
      "_view_count": null,
      "_view_module": "@jupyter-widgets/base",
      "_view_module_version": "1.2.0",
      "_view_name": "StyleView",
      "bar_color": null,
      "description_width": ""
     }
    },
    "6c57382d79f4499ea311358d47a22651": {
     "model_module": "@jupyter-widgets/controls",
     "model_module_version": "1.5.0",
     "model_name": "DescriptionStyleModel",
     "state": {
      "_model_module": "@jupyter-widgets/controls",
      "_model_module_version": "1.5.0",
      "_model_name": "DescriptionStyleModel",
      "_view_count": null,
      "_view_module": "@jupyter-widgets/base",
      "_view_module_version": "1.2.0",
      "_view_name": "StyleView",
      "description_width": ""
     }
    },
    "6fd34680249449df8e23039d6946bfab": {
     "model_module": "@jupyter-widgets/controls",
     "model_module_version": "1.5.0",
     "model_name": "ProgressStyleModel",
     "state": {
      "_model_module": "@jupyter-widgets/controls",
      "_model_module_version": "1.5.0",
      "_model_name": "ProgressStyleModel",
      "_view_count": null,
      "_view_module": "@jupyter-widgets/base",
      "_view_module_version": "1.2.0",
      "_view_name": "StyleView",
      "bar_color": null,
      "description_width": ""
     }
    },
    "703f4921fd2f4dd7868f34d57a4f6ba4": {
     "model_module": "@jupyter-widgets/controls",
     "model_module_version": "1.5.0",
     "model_name": "DescriptionStyleModel",
     "state": {
      "_model_module": "@jupyter-widgets/controls",
      "_model_module_version": "1.5.0",
      "_model_name": "DescriptionStyleModel",
      "_view_count": null,
      "_view_module": "@jupyter-widgets/base",
      "_view_module_version": "1.2.0",
      "_view_name": "StyleView",
      "description_width": ""
     }
    },
    "704546b24f464e7dba9528ff52fd8891": {
     "model_module": "@jupyter-widgets/controls",
     "model_module_version": "1.5.0",
     "model_name": "TextModel",
     "state": {
      "_dom_classes": [],
      "_model_module": "@jupyter-widgets/controls",
      "_model_module_version": "1.5.0",
      "_model_name": "TextModel",
      "_view_count": null,
      "_view_module": "@jupyter-widgets/controls",
      "_view_module_version": "1.5.0",
      "_view_name": "TextView",
      "continuous_update": true,
      "description": "Username:",
      "description_tooltip": null,
      "disabled": false,
      "layout": "IPY_MODEL_58a2a3d608bd47d9855126c8e7d4519d",
      "placeholder": "\u200b",
      "style": "IPY_MODEL_ecbf1498955b4bf6a8769b589f679018",
      "value": "j"
     }
    },
    "74b51541a91a41dbbfefdf48a671aaf1": {
     "model_module": "@jupyter-widgets/controls",
     "model_module_version": "1.5.0",
     "model_name": "DescriptionStyleModel",
     "state": {
      "_model_module": "@jupyter-widgets/controls",
      "_model_module_version": "1.5.0",
      "_model_name": "DescriptionStyleModel",
      "_view_count": null,
      "_view_module": "@jupyter-widgets/base",
      "_view_module_version": "1.2.0",
      "_view_name": "StyleView",
      "description_width": ""
     }
    },
    "74e4954507e4401095155c61a3c15d7f": {
     "model_module": "@jupyter-widgets/base",
     "model_module_version": "1.2.0",
     "model_name": "LayoutModel",
     "state": {
      "_model_module": "@jupyter-widgets/base",
      "_model_module_version": "1.2.0",
      "_model_name": "LayoutModel",
      "_view_count": null,
      "_view_module": "@jupyter-widgets/base",
      "_view_module_version": "1.2.0",
      "_view_name": "LayoutView",
      "align_content": null,
      "align_items": null,
      "align_self": null,
      "border": null,
      "bottom": null,
      "display": null,
      "flex": null,
      "flex_flow": null,
      "grid_area": null,
      "grid_auto_columns": null,
      "grid_auto_flow": null,
      "grid_auto_rows": null,
      "grid_column": null,
      "grid_gap": null,
      "grid_row": null,
      "grid_template_areas": null,
      "grid_template_columns": null,
      "grid_template_rows": null,
      "height": null,
      "justify_content": null,
      "justify_items": null,
      "left": null,
      "margin": null,
      "max_height": null,
      "max_width": null,
      "min_height": null,
      "min_width": null,
      "object_fit": null,
      "object_position": null,
      "order": null,
      "overflow": null,
      "overflow_x": null,
      "overflow_y": null,
      "padding": null,
      "right": null,
      "top": null,
      "visibility": null,
      "width": null
     }
    },
    "7678f93df87149f79185b2a142d9d1c6": {
     "model_module": "@jupyter-widgets/base",
     "model_module_version": "1.2.0",
     "model_name": "LayoutModel",
     "state": {
      "_model_module": "@jupyter-widgets/base",
      "_model_module_version": "1.2.0",
      "_model_name": "LayoutModel",
      "_view_count": null,
      "_view_module": "@jupyter-widgets/base",
      "_view_module_version": "1.2.0",
      "_view_name": "LayoutView",
      "align_content": null,
      "align_items": null,
      "align_self": null,
      "border": null,
      "bottom": null,
      "display": null,
      "flex": null,
      "flex_flow": null,
      "grid_area": null,
      "grid_auto_columns": null,
      "grid_auto_flow": null,
      "grid_auto_rows": null,
      "grid_column": null,
      "grid_gap": null,
      "grid_row": null,
      "grid_template_areas": null,
      "grid_template_columns": null,
      "grid_template_rows": null,
      "height": null,
      "justify_content": null,
      "justify_items": null,
      "left": null,
      "margin": null,
      "max_height": null,
      "max_width": null,
      "min_height": null,
      "min_width": null,
      "object_fit": null,
      "object_position": null,
      "order": null,
      "overflow": null,
      "overflow_x": null,
      "overflow_y": null,
      "padding": null,
      "right": null,
      "top": null,
      "visibility": null,
      "width": null
     }
    },
    "7762d201d94d4edf879fa6571d6457fb": {
     "model_module": "@jupyter-widgets/controls",
     "model_module_version": "1.5.0",
     "model_name": "FloatProgressModel",
     "state": {
      "_dom_classes": [],
      "_model_module": "@jupyter-widgets/controls",
      "_model_module_version": "1.5.0",
      "_model_name": "FloatProgressModel",
      "_view_count": null,
      "_view_module": "@jupyter-widgets/controls",
      "_view_module_version": "1.5.0",
      "_view_name": "ProgressView",
      "bar_style": "success",
      "description": "",
      "description_tooltip": null,
      "layout": "IPY_MODEL_031a7e18021943ffbd6d06a17cb0302f",
      "max": 1038,
      "min": 0,
      "orientation": "horizontal",
      "style": "IPY_MODEL_0be03e8087ee4627a4513d54b0fa8858",
      "value": 1038
     }
    },
    "7a26e83c3c444829a8a685d7f8f07ef5": {
     "model_module": "@jupyter-widgets/base",
     "model_module_version": "1.2.0",
     "model_name": "LayoutModel",
     "state": {
      "_model_module": "@jupyter-widgets/base",
      "_model_module_version": "1.2.0",
      "_model_name": "LayoutModel",
      "_view_count": null,
      "_view_module": "@jupyter-widgets/base",
      "_view_module_version": "1.2.0",
      "_view_name": "LayoutView",
      "align_content": null,
      "align_items": null,
      "align_self": null,
      "border": null,
      "bottom": null,
      "display": null,
      "flex": null,
      "flex_flow": null,
      "grid_area": null,
      "grid_auto_columns": null,
      "grid_auto_flow": null,
      "grid_auto_rows": null,
      "grid_column": null,
      "grid_gap": null,
      "grid_row": null,
      "grid_template_areas": null,
      "grid_template_columns": null,
      "grid_template_rows": null,
      "height": null,
      "justify_content": null,
      "justify_items": null,
      "left": null,
      "margin": null,
      "max_height": null,
      "max_width": null,
      "min_height": null,
      "min_width": null,
      "object_fit": null,
      "object_position": null,
      "order": null,
      "overflow": null,
      "overflow_x": null,
      "overflow_y": null,
      "padding": null,
      "right": null,
      "top": null,
      "visibility": null,
      "width": null
     }
    },
    "7a81952f24ac4cd8b6339a427b9c2419": {
     "model_module": "@jupyter-widgets/base",
     "model_module_version": "1.2.0",
     "model_name": "LayoutModel",
     "state": {
      "_model_module": "@jupyter-widgets/base",
      "_model_module_version": "1.2.0",
      "_model_name": "LayoutModel",
      "_view_count": null,
      "_view_module": "@jupyter-widgets/base",
      "_view_module_version": "1.2.0",
      "_view_name": "LayoutView",
      "align_content": null,
      "align_items": null,
      "align_self": null,
      "border": null,
      "bottom": null,
      "display": null,
      "flex": null,
      "flex_flow": null,
      "grid_area": null,
      "grid_auto_columns": null,
      "grid_auto_flow": null,
      "grid_auto_rows": null,
      "grid_column": null,
      "grid_gap": null,
      "grid_row": null,
      "grid_template_areas": null,
      "grid_template_columns": null,
      "grid_template_rows": null,
      "height": null,
      "justify_content": null,
      "justify_items": null,
      "left": null,
      "margin": null,
      "max_height": null,
      "max_width": null,
      "min_height": null,
      "min_width": null,
      "object_fit": null,
      "object_position": null,
      "order": null,
      "overflow": null,
      "overflow_x": null,
      "overflow_y": null,
      "padding": null,
      "right": null,
      "top": null,
      "visibility": null,
      "width": null
     }
    },
    "7c4815bc53ac4981bf3dacc8dbbf1fdd": {
     "model_module": "@jupyter-widgets/base",
     "model_module_version": "1.2.0",
     "model_name": "LayoutModel",
     "state": {
      "_model_module": "@jupyter-widgets/base",
      "_model_module_version": "1.2.0",
      "_model_name": "LayoutModel",
      "_view_count": null,
      "_view_module": "@jupyter-widgets/base",
      "_view_module_version": "1.2.0",
      "_view_name": "LayoutView",
      "align_content": null,
      "align_items": null,
      "align_self": null,
      "border": null,
      "bottom": null,
      "display": null,
      "flex": null,
      "flex_flow": null,
      "grid_area": null,
      "grid_auto_columns": null,
      "grid_auto_flow": null,
      "grid_auto_rows": null,
      "grid_column": null,
      "grid_gap": null,
      "grid_row": null,
      "grid_template_areas": null,
      "grid_template_columns": null,
      "grid_template_rows": null,
      "height": null,
      "justify_content": null,
      "justify_items": null,
      "left": null,
      "margin": null,
      "max_height": null,
      "max_width": null,
      "min_height": null,
      "min_width": null,
      "object_fit": null,
      "object_position": null,
      "order": null,
      "overflow": null,
      "overflow_x": null,
      "overflow_y": null,
      "padding": null,
      "right": null,
      "top": null,
      "visibility": null,
      "width": null
     }
    },
    "81b2849fd8de48849e6ae55df4aafafb": {
     "model_module": "@jupyter-widgets/base",
     "model_module_version": "1.2.0",
     "model_name": "LayoutModel",
     "state": {
      "_model_module": "@jupyter-widgets/base",
      "_model_module_version": "1.2.0",
      "_model_name": "LayoutModel",
      "_view_count": null,
      "_view_module": "@jupyter-widgets/base",
      "_view_module_version": "1.2.0",
      "_view_name": "LayoutView",
      "align_content": null,
      "align_items": null,
      "align_self": null,
      "border": null,
      "bottom": null,
      "display": null,
      "flex": null,
      "flex_flow": null,
      "grid_area": null,
      "grid_auto_columns": null,
      "grid_auto_flow": null,
      "grid_auto_rows": null,
      "grid_column": null,
      "grid_gap": null,
      "grid_row": null,
      "grid_template_areas": null,
      "grid_template_columns": null,
      "grid_template_rows": null,
      "height": null,
      "justify_content": null,
      "justify_items": null,
      "left": null,
      "margin": null,
      "max_height": null,
      "max_width": null,
      "min_height": null,
      "min_width": null,
      "object_fit": null,
      "object_position": null,
      "order": null,
      "overflow": null,
      "overflow_x": null,
      "overflow_y": null,
      "padding": null,
      "right": null,
      "top": null,
      "visibility": null,
      "width": null
     }
    },
    "8276470fc5294010923843a467e85842": {
     "model_module": "@jupyter-widgets/controls",
     "model_module_version": "1.5.0",
     "model_name": "DescriptionStyleModel",
     "state": {
      "_model_module": "@jupyter-widgets/controls",
      "_model_module_version": "1.5.0",
      "_model_name": "DescriptionStyleModel",
      "_view_count": null,
      "_view_module": "@jupyter-widgets/base",
      "_view_module_version": "1.2.0",
      "_view_name": "StyleView",
      "description_width": ""
     }
    },
    "8318e59848ad4f48b845aa15bfee14b3": {
     "model_module": "@jupyter-widgets/controls",
     "model_module_version": "1.5.0",
     "model_name": "FloatProgressModel",
     "state": {
      "_dom_classes": [],
      "_model_module": "@jupyter-widgets/controls",
      "_model_module_version": "1.5.0",
      "_model_name": "FloatProgressModel",
      "_view_count": null,
      "_view_module": "@jupyter-widgets/controls",
      "_view_module_version": "1.5.0",
      "_view_name": "ProgressView",
      "bar_style": "success",
      "description": "",
      "description_tooltip": null,
      "layout": "IPY_MODEL_03df7be0c20047ca81ca6a813205ac64",
      "max": 4444,
      "min": 0,
      "orientation": "horizontal",
      "style": "IPY_MODEL_186251c872b94be39323363d48a3be59",
      "value": 4444
     }
    },
    "843f5f5f60d24317a663bcf3baff0757": {
     "model_module": "@jupyter-widgets/base",
     "model_module_version": "1.2.0",
     "model_name": "LayoutModel",
     "state": {
      "_model_module": "@jupyter-widgets/base",
      "_model_module_version": "1.2.0",
      "_model_name": "LayoutModel",
      "_view_count": null,
      "_view_module": "@jupyter-widgets/base",
      "_view_module_version": "1.2.0",
      "_view_name": "LayoutView",
      "align_content": null,
      "align_items": null,
      "align_self": null,
      "border": null,
      "bottom": null,
      "display": null,
      "flex": null,
      "flex_flow": null,
      "grid_area": null,
      "grid_auto_columns": null,
      "grid_auto_flow": null,
      "grid_auto_rows": null,
      "grid_column": null,
      "grid_gap": null,
      "grid_row": null,
      "grid_template_areas": null,
      "grid_template_columns": null,
      "grid_template_rows": null,
      "height": null,
      "justify_content": null,
      "justify_items": null,
      "left": null,
      "margin": null,
      "max_height": null,
      "max_width": null,
      "min_height": null,
      "min_width": null,
      "object_fit": null,
      "object_position": null,
      "order": null,
      "overflow": null,
      "overflow_x": null,
      "overflow_y": null,
      "padding": null,
      "right": null,
      "top": null,
      "visibility": null,
      "width": null
     }
    },
    "869d648d470e4301a4526ec07f734488": {
     "model_module": "@jupyter-widgets/base",
     "model_module_version": "1.2.0",
     "model_name": "LayoutModel",
     "state": {
      "_model_module": "@jupyter-widgets/base",
      "_model_module_version": "1.2.0",
      "_model_name": "LayoutModel",
      "_view_count": null,
      "_view_module": "@jupyter-widgets/base",
      "_view_module_version": "1.2.0",
      "_view_name": "LayoutView",
      "align_content": null,
      "align_items": null,
      "align_self": null,
      "border": null,
      "bottom": null,
      "display": null,
      "flex": null,
      "flex_flow": null,
      "grid_area": null,
      "grid_auto_columns": null,
      "grid_auto_flow": null,
      "grid_auto_rows": null,
      "grid_column": null,
      "grid_gap": null,
      "grid_row": null,
      "grid_template_areas": null,
      "grid_template_columns": null,
      "grid_template_rows": null,
      "height": null,
      "justify_content": null,
      "justify_items": null,
      "left": null,
      "margin": null,
      "max_height": null,
      "max_width": null,
      "min_height": null,
      "min_width": null,
      "object_fit": null,
      "object_position": null,
      "order": null,
      "overflow": null,
      "overflow_x": null,
      "overflow_y": null,
      "padding": null,
      "right": null,
      "top": null,
      "visibility": null,
      "width": null
     }
    },
    "8aba312c6498435387e16cc3dd4632f9": {
     "model_module": "@jupyter-widgets/controls",
     "model_module_version": "1.5.0",
     "model_name": "HTMLModel",
     "state": {
      "_dom_classes": [],
      "_model_module": "@jupyter-widgets/controls",
      "_model_module_version": "1.5.0",
      "_model_name": "HTMLModel",
      "_view_count": null,
      "_view_module": "@jupyter-widgets/controls",
      "_view_module_version": "1.5.0",
      "_view_name": "HTMLView",
      "description": "",
      "description_tooltip": null,
      "layout": "IPY_MODEL_f60b05285d4b4e10a743b6fdedbfb906",
      "placeholder": "\u200b",
      "style": "IPY_MODEL_6c57382d79f4499ea311358d47a22651",
      "value": ""
     }
    },
    "8dd89aed30e6431f911910f2811326d6": {
     "model_module": "@jupyter-widgets/controls",
     "model_module_version": "1.5.0",
     "model_name": "HTMLModel",
     "state": {
      "_dom_classes": [],
      "_model_module": "@jupyter-widgets/controls",
      "_model_module_version": "1.5.0",
      "_model_name": "HTMLModel",
      "_view_count": null,
      "_view_module": "@jupyter-widgets/controls",
      "_view_module_version": "1.5.0",
      "_view_name": "HTMLView",
      "description": "",
      "description_tooltip": null,
      "layout": "IPY_MODEL_30e365417e8e4bab818779955996472a",
      "placeholder": "\u200b",
      "style": "IPY_MODEL_3f9417297a5d4f47bc9ebadb81665e43",
      "value": ""
     }
    },
    "8e0d381b96b6495883bfb8b1c5da323c": {
     "model_module": "@jupyter-widgets/base",
     "model_module_version": "1.2.0",
     "model_name": "LayoutModel",
     "state": {
      "_model_module": "@jupyter-widgets/base",
      "_model_module_version": "1.2.0",
      "_model_name": "LayoutModel",
      "_view_count": null,
      "_view_module": "@jupyter-widgets/base",
      "_view_module_version": "1.2.0",
      "_view_name": "LayoutView",
      "align_content": null,
      "align_items": null,
      "align_self": null,
      "border": null,
      "bottom": null,
      "display": null,
      "flex": null,
      "flex_flow": null,
      "grid_area": null,
      "grid_auto_columns": null,
      "grid_auto_flow": null,
      "grid_auto_rows": null,
      "grid_column": null,
      "grid_gap": null,
      "grid_row": null,
      "grid_template_areas": null,
      "grid_template_columns": null,
      "grid_template_rows": null,
      "height": null,
      "justify_content": null,
      "justify_items": null,
      "left": null,
      "margin": null,
      "max_height": null,
      "max_width": null,
      "min_height": null,
      "min_width": null,
      "object_fit": null,
      "object_position": null,
      "order": null,
      "overflow": null,
      "overflow_x": null,
      "overflow_y": null,
      "padding": null,
      "right": null,
      "top": null,
      "visibility": null,
      "width": null
     }
    },
    "8fede89048584d4abc82065ca2b26ae9": {
     "model_module": "@jupyter-widgets/controls",
     "model_module_version": "1.5.0",
     "model_name": "FloatProgressModel",
     "state": {
      "_dom_classes": [],
      "_model_module": "@jupyter-widgets/controls",
      "_model_module_version": "1.5.0",
      "_model_name": "FloatProgressModel",
      "_view_count": null,
      "_view_module": "@jupyter-widgets/controls",
      "_view_module_version": "1.5.0",
      "_view_name": "ProgressView",
      "bar_style": "success",
      "description": "",
      "description_tooltip": null,
      "layout": "IPY_MODEL_843f5f5f60d24317a663bcf3baff0757",
      "max": 1947,
      "min": 0,
      "orientation": "horizontal",
      "style": "IPY_MODEL_6fd34680249449df8e23039d6946bfab",
      "value": 1947
     }
    },
    "8ffc601ec5c74a76b65590acd5e55dad": {
     "model_module": "@jupyter-widgets/controls",
     "model_module_version": "1.5.0",
     "model_name": "HBoxModel",
     "state": {
      "_dom_classes": [],
      "_model_module": "@jupyter-widgets/controls",
      "_model_module_version": "1.5.0",
      "_model_name": "HBoxModel",
      "_view_count": null,
      "_view_module": "@jupyter-widgets/controls",
      "_view_module_version": "1.5.0",
      "_view_name": "HBoxView",
      "box_style": "",
      "children": [
       "IPY_MODEL_c08e34ba26154c269aae602bacef3761",
       "IPY_MODEL_4d4a6d6a0f974796908f654756e60e9b",
       "IPY_MODEL_64b4c7ab486e4fa386883e7c7cf683c3"
      ],
      "layout": "IPY_MODEL_f26e2e0e1b5f47d0be0fcc2c179b26d3"
     }
    },
    "90d57a5a079c40b4a362b88b4a4adb47": {
     "model_module": "@jupyter-widgets/controls",
     "model_module_version": "1.5.0",
     "model_name": "DescriptionStyleModel",
     "state": {
      "_model_module": "@jupyter-widgets/controls",
      "_model_module_version": "1.5.0",
      "_model_name": "DescriptionStyleModel",
      "_view_count": null,
      "_view_module": "@jupyter-widgets/base",
      "_view_module_version": "1.2.0",
      "_view_name": "StyleView",
      "description_width": ""
     }
    },
    "91681fda85764dc388f637d16253df68": {
     "model_module": "@jupyter-widgets/base",
     "model_module_version": "1.2.0",
     "model_name": "LayoutModel",
     "state": {
      "_model_module": "@jupyter-widgets/base",
      "_model_module_version": "1.2.0",
      "_model_name": "LayoutModel",
      "_view_count": null,
      "_view_module": "@jupyter-widgets/base",
      "_view_module_version": "1.2.0",
      "_view_name": "LayoutView",
      "align_content": null,
      "align_items": null,
      "align_self": null,
      "border": null,
      "bottom": null,
      "display": null,
      "flex": null,
      "flex_flow": null,
      "grid_area": null,
      "grid_auto_columns": null,
      "grid_auto_flow": null,
      "grid_auto_rows": null,
      "grid_column": null,
      "grid_gap": null,
      "grid_row": null,
      "grid_template_areas": null,
      "grid_template_columns": null,
      "grid_template_rows": null,
      "height": null,
      "justify_content": null,
      "justify_items": null,
      "left": null,
      "margin": null,
      "max_height": null,
      "max_width": null,
      "min_height": null,
      "min_width": null,
      "object_fit": null,
      "object_position": null,
      "order": null,
      "overflow": null,
      "overflow_x": null,
      "overflow_y": null,
      "padding": null,
      "right": null,
      "top": null,
      "visibility": null,
      "width": null
     }
    },
    "9288a1388b2d4772ac21cb9414c86ee1": {
     "model_module": "@jupyter-widgets/controls",
     "model_module_version": "1.5.0",
     "model_name": "FloatProgressModel",
     "state": {
      "_dom_classes": [],
      "_model_module": "@jupyter-widgets/controls",
      "_model_module_version": "1.5.0",
      "_model_name": "FloatProgressModel",
      "_view_count": null,
      "_view_module": "@jupyter-widgets/controls",
      "_view_module_version": "1.5.0",
      "_view_name": "ProgressView",
      "bar_style": "info",
      "description": "",
      "description_tooltip": null,
      "layout": "IPY_MODEL_d813024ab46546109280971ae0a2270a",
      "max": 1,
      "min": 0,
      "orientation": "horizontal",
      "style": "IPY_MODEL_a1a33acb3820483cb0f20014604d2ef9",
      "value": 1
     }
    },
    "92f817306a05430e91af716111ea08ee": {
     "model_module": "@jupyter-widgets/controls",
     "model_module_version": "1.5.0",
     "model_name": "HTMLModel",
     "state": {
      "_dom_classes": [],
      "_model_module": "@jupyter-widgets/controls",
      "_model_module_version": "1.5.0",
      "_model_name": "HTMLModel",
      "_view_count": null,
      "_view_module": "@jupyter-widgets/controls",
      "_view_module_version": "1.5.0",
      "_view_name": "HTMLView",
      "description": "",
      "description_tooltip": null,
      "layout": "IPY_MODEL_1830220a449b496c941183714d89c4c8",
      "placeholder": "\u200b",
      "style": "IPY_MODEL_c32e28f3df6a49368f2df80f11ba5a1d",
      "value": " 1.53k/1.53k [00:00&lt;00:00, 25.7kB/s]"
     }
    },
    "963256e135c84694b72dd6ece19a9279": {
     "model_module": "@jupyter-widgets/controls",
     "model_module_version": "1.5.0",
     "model_name": "DescriptionStyleModel",
     "state": {
      "_model_module": "@jupyter-widgets/controls",
      "_model_module_version": "1.5.0",
      "_model_name": "DescriptionStyleModel",
      "_view_count": null,
      "_view_module": "@jupyter-widgets/base",
      "_view_module_version": "1.2.0",
      "_view_name": "StyleView",
      "description_width": ""
     }
    },
    "97c1d1adde974941836da7c52592ed18": {
     "model_module": "@jupyter-widgets/controls",
     "model_module_version": "1.5.0",
     "model_name": "DescriptionStyleModel",
     "state": {
      "_model_module": "@jupyter-widgets/controls",
      "_model_module_version": "1.5.0",
      "_model_name": "DescriptionStyleModel",
      "_view_count": null,
      "_view_module": "@jupyter-widgets/base",
      "_view_module_version": "1.2.0",
      "_view_name": "StyleView",
      "description_width": ""
     }
    },
    "9828e6850d2e422a83cd919567d3a2f6": {
     "model_module": "@jupyter-widgets/base",
     "model_module_version": "1.2.0",
     "model_name": "LayoutModel",
     "state": {
      "_model_module": "@jupyter-widgets/base",
      "_model_module_version": "1.2.0",
      "_model_name": "LayoutModel",
      "_view_count": null,
      "_view_module": "@jupyter-widgets/base",
      "_view_module_version": "1.2.0",
      "_view_name": "LayoutView",
      "align_content": null,
      "align_items": null,
      "align_self": null,
      "border": null,
      "bottom": null,
      "display": null,
      "flex": null,
      "flex_flow": null,
      "grid_area": null,
      "grid_auto_columns": null,
      "grid_auto_flow": null,
      "grid_auto_rows": null,
      "grid_column": null,
      "grid_gap": null,
      "grid_row": null,
      "grid_template_areas": null,
      "grid_template_columns": null,
      "grid_template_rows": null,
      "height": null,
      "justify_content": null,
      "justify_items": null,
      "left": null,
      "margin": null,
      "max_height": null,
      "max_width": null,
      "min_height": null,
      "min_width": null,
      "object_fit": null,
      "object_position": null,
      "order": null,
      "overflow": null,
      "overflow_x": null,
      "overflow_y": null,
      "padding": null,
      "right": null,
      "top": null,
      "visibility": null,
      "width": null
     }
    },
    "991335059c544930a3066d5d6d9ce338": {
     "model_module": "@jupyter-widgets/base",
     "model_module_version": "1.2.0",
     "model_name": "LayoutModel",
     "state": {
      "_model_module": "@jupyter-widgets/base",
      "_model_module_version": "1.2.0",
      "_model_name": "LayoutModel",
      "_view_count": null,
      "_view_module": "@jupyter-widgets/base",
      "_view_module_version": "1.2.0",
      "_view_name": "LayoutView",
      "align_content": null,
      "align_items": null,
      "align_self": null,
      "border": null,
      "bottom": null,
      "display": null,
      "flex": null,
      "flex_flow": null,
      "grid_area": null,
      "grid_auto_columns": null,
      "grid_auto_flow": null,
      "grid_auto_rows": null,
      "grid_column": null,
      "grid_gap": null,
      "grid_row": null,
      "grid_template_areas": null,
      "grid_template_columns": null,
      "grid_template_rows": null,
      "height": null,
      "justify_content": null,
      "justify_items": null,
      "left": null,
      "margin": null,
      "max_height": null,
      "max_width": null,
      "min_height": null,
      "min_width": null,
      "object_fit": null,
      "object_position": null,
      "order": null,
      "overflow": null,
      "overflow_x": null,
      "overflow_y": null,
      "padding": null,
      "right": null,
      "top": null,
      "visibility": null,
      "width": null
     }
    },
    "993299f428044734bda27f847706669b": {
     "model_module": "@jupyter-widgets/base",
     "model_module_version": "1.2.0",
     "model_name": "LayoutModel",
     "state": {
      "_model_module": "@jupyter-widgets/base",
      "_model_module_version": "1.2.0",
      "_model_name": "LayoutModel",
      "_view_count": null,
      "_view_module": "@jupyter-widgets/base",
      "_view_module_version": "1.2.0",
      "_view_name": "LayoutView",
      "align_content": null,
      "align_items": null,
      "align_self": null,
      "border": null,
      "bottom": null,
      "display": null,
      "flex": null,
      "flex_flow": null,
      "grid_area": null,
      "grid_auto_columns": null,
      "grid_auto_flow": null,
      "grid_auto_rows": null,
      "grid_column": null,
      "grid_gap": null,
      "grid_row": null,
      "grid_template_areas": null,
      "grid_template_columns": null,
      "grid_template_rows": null,
      "height": null,
      "justify_content": null,
      "justify_items": null,
      "left": null,
      "margin": null,
      "max_height": null,
      "max_width": null,
      "min_height": null,
      "min_width": null,
      "object_fit": null,
      "object_position": null,
      "order": null,
      "overflow": null,
      "overflow_x": null,
      "overflow_y": null,
      "padding": null,
      "right": null,
      "top": null,
      "visibility": null,
      "width": null
     }
    },
    "9a237cbf91cc43a08700917727804b60": {
     "model_module": "@jupyter-widgets/controls",
     "model_module_version": "1.5.0",
     "model_name": "FloatProgressModel",
     "state": {
      "_dom_classes": [],
      "_model_module": "@jupyter-widgets/controls",
      "_model_module_version": "1.5.0",
      "_model_name": "FloatProgressModel",
      "_view_count": null,
      "_view_module": "@jupyter-widgets/controls",
      "_view_module_version": "1.5.0",
      "_view_name": "ProgressView",
      "bar_style": "success",
      "description": "",
      "description_tooltip": null,
      "layout": "IPY_MODEL_b2e02faf4cb24093aee3b26fc9939711",
      "max": 506,
      "min": 0,
      "orientation": "horizontal",
      "style": "IPY_MODEL_eb000dfb05904533b6f45e3d9b6e9fd6",
      "value": 506
     }
    },
    "9c6e369c65de4f50964caa83c3f1c952": {
     "model_module": "@jupyter-widgets/controls",
     "model_module_version": "1.5.0",
     "model_name": "DescriptionStyleModel",
     "state": {
      "_model_module": "@jupyter-widgets/controls",
      "_model_module_version": "1.5.0",
      "_model_name": "DescriptionStyleModel",
      "_view_count": null,
      "_view_module": "@jupyter-widgets/base",
      "_view_module_version": "1.2.0",
      "_view_name": "StyleView",
      "description_width": ""
     }
    },
    "9ca4d09253724716b9f8da04ff28127c": {
     "model_module": "@jupyter-widgets/controls",
     "model_module_version": "1.5.0",
     "model_name": "DescriptionStyleModel",
     "state": {
      "_model_module": "@jupyter-widgets/controls",
      "_model_module_version": "1.5.0",
      "_model_name": "DescriptionStyleModel",
      "_view_count": null,
      "_view_module": "@jupyter-widgets/base",
      "_view_module_version": "1.2.0",
      "_view_name": "StyleView",
      "description_width": ""
     }
    },
    "9d4777c488e74289bff088810d6b186c": {
     "model_module": "@jupyter-widgets/controls",
     "model_module_version": "1.5.0",
     "model_name": "DescriptionStyleModel",
     "state": {
      "_model_module": "@jupyter-widgets/controls",
      "_model_module_version": "1.5.0",
      "_model_name": "DescriptionStyleModel",
      "_view_count": null,
      "_view_module": "@jupyter-widgets/base",
      "_view_module_version": "1.2.0",
      "_view_name": "StyleView",
      "description_width": ""
     }
    },
    "9e2e458850db4ce18d078bfda58f4c06": {
     "model_module": "@jupyter-widgets/controls",
     "model_module_version": "1.5.0",
     "model_name": "FloatProgressModel",
     "state": {
      "_dom_classes": [],
      "_model_module": "@jupyter-widgets/controls",
      "_model_module_version": "1.5.0",
      "_model_name": "FloatProgressModel",
      "_view_count": null,
      "_view_module": "@jupyter-widgets/controls",
      "_view_module_version": "1.5.0",
      "_view_name": "ProgressView",
      "bar_style": "success",
      "description": "",
      "description_tooltip": null,
      "layout": "IPY_MODEL_3db7e9ad64f7464bb8f20fc5b322a8a6",
      "max": 1568,
      "min": 0,
      "orientation": "horizontal",
      "style": "IPY_MODEL_3869211777cd48ff817a8b779fb9e6ef",
      "value": 1568
     }
    },
    "9f43c050bf224104983c268d0028a984": {
     "model_module": "@jupyter-widgets/base",
     "model_module_version": "1.2.0",
     "model_name": "LayoutModel",
     "state": {
      "_model_module": "@jupyter-widgets/base",
      "_model_module_version": "1.2.0",
      "_model_name": "LayoutModel",
      "_view_count": null,
      "_view_module": "@jupyter-widgets/base",
      "_view_module_version": "1.2.0",
      "_view_name": "LayoutView",
      "align_content": null,
      "align_items": null,
      "align_self": null,
      "border": null,
      "bottom": null,
      "display": null,
      "flex": null,
      "flex_flow": null,
      "grid_area": null,
      "grid_auto_columns": null,
      "grid_auto_flow": null,
      "grid_auto_rows": null,
      "grid_column": null,
      "grid_gap": null,
      "grid_row": null,
      "grid_template_areas": null,
      "grid_template_columns": null,
      "grid_template_rows": null,
      "height": null,
      "justify_content": null,
      "justify_items": null,
      "left": null,
      "margin": null,
      "max_height": null,
      "max_width": null,
      "min_height": null,
      "min_width": null,
      "object_fit": null,
      "object_position": null,
      "order": null,
      "overflow": null,
      "overflow_x": null,
      "overflow_y": null,
      "padding": null,
      "right": null,
      "top": null,
      "visibility": null,
      "width": null
     }
    },
    "9f97deaf66c14f9ea29e4e606d1f44ff": {
     "model_module": "@jupyter-widgets/controls",
     "model_module_version": "1.5.0",
     "model_name": "DescriptionStyleModel",
     "state": {
      "_model_module": "@jupyter-widgets/controls",
      "_model_module_version": "1.5.0",
      "_model_name": "DescriptionStyleModel",
      "_view_count": null,
      "_view_module": "@jupyter-widgets/base",
      "_view_module_version": "1.2.0",
      "_view_name": "StyleView",
      "description_width": ""
     }
    },
    "a09ec424c17e4c5abff9b4980fec72f6": {
     "model_module": "@jupyter-widgets/base",
     "model_module_version": "1.2.0",
     "model_name": "LayoutModel",
     "state": {
      "_model_module": "@jupyter-widgets/base",
      "_model_module_version": "1.2.0",
      "_model_name": "LayoutModel",
      "_view_count": null,
      "_view_module": "@jupyter-widgets/base",
      "_view_module_version": "1.2.0",
      "_view_name": "LayoutView",
      "align_content": null,
      "align_items": null,
      "align_self": null,
      "border": null,
      "bottom": null,
      "display": null,
      "flex": null,
      "flex_flow": null,
      "grid_area": null,
      "grid_auto_columns": null,
      "grid_auto_flow": null,
      "grid_auto_rows": null,
      "grid_column": null,
      "grid_gap": null,
      "grid_row": null,
      "grid_template_areas": null,
      "grid_template_columns": null,
      "grid_template_rows": null,
      "height": null,
      "justify_content": null,
      "justify_items": null,
      "left": null,
      "margin": null,
      "max_height": null,
      "max_width": null,
      "min_height": null,
      "min_width": null,
      "object_fit": null,
      "object_position": null,
      "order": null,
      "overflow": null,
      "overflow_x": null,
      "overflow_y": null,
      "padding": null,
      "right": null,
      "top": null,
      "visibility": null,
      "width": null
     }
    },
    "a0e26c581876448e802a366192006553": {
     "model_module": "@jupyter-widgets/base",
     "model_module_version": "1.2.0",
     "model_name": "LayoutModel",
     "state": {
      "_model_module": "@jupyter-widgets/base",
      "_model_module_version": "1.2.0",
      "_model_name": "LayoutModel",
      "_view_count": null,
      "_view_module": "@jupyter-widgets/base",
      "_view_module_version": "1.2.0",
      "_view_name": "LayoutView",
      "align_content": null,
      "align_items": "center",
      "align_self": null,
      "border": null,
      "bottom": null,
      "display": "flex",
      "flex": null,
      "flex_flow": "column",
      "grid_area": null,
      "grid_auto_columns": null,
      "grid_auto_flow": null,
      "grid_auto_rows": null,
      "grid_column": null,
      "grid_gap": null,
      "grid_row": null,
      "grid_template_areas": null,
      "grid_template_columns": null,
      "grid_template_rows": null,
      "height": null,
      "justify_content": null,
      "justify_items": null,
      "left": null,
      "margin": null,
      "max_height": null,
      "max_width": null,
      "min_height": null,
      "min_width": null,
      "object_fit": null,
      "object_position": null,
      "order": null,
      "overflow": null,
      "overflow_x": null,
      "overflow_y": null,
      "padding": null,
      "right": null,
      "top": null,
      "visibility": null,
      "width": "50%"
     }
    },
    "a0e6c108b8b4403fbbc6c36c503b681b": {
     "model_module": "@jupyter-widgets/controls",
     "model_module_version": "1.5.0",
     "model_name": "DescriptionStyleModel",
     "state": {
      "_model_module": "@jupyter-widgets/controls",
      "_model_module_version": "1.5.0",
      "_model_name": "DescriptionStyleModel",
      "_view_count": null,
      "_view_module": "@jupyter-widgets/base",
      "_view_module_version": "1.2.0",
      "_view_name": "StyleView",
      "description_width": ""
     }
    },
    "a1a33acb3820483cb0f20014604d2ef9": {
     "model_module": "@jupyter-widgets/controls",
     "model_module_version": "1.5.0",
     "model_name": "ProgressStyleModel",
     "state": {
      "_model_module": "@jupyter-widgets/controls",
      "_model_module_version": "1.5.0",
      "_model_name": "ProgressStyleModel",
      "_view_count": null,
      "_view_module": "@jupyter-widgets/base",
      "_view_module_version": "1.2.0",
      "_view_name": "StyleView",
      "bar_color": null,
      "description_width": ""
     }
    },
    "a3720f4cf4394ce69f58c04b4ec4c75a": {
     "model_module": "@jupyter-widgets/controls",
     "model_module_version": "1.5.0",
     "model_name": "HTMLModel",
     "state": {
      "_dom_classes": [],
      "_model_module": "@jupyter-widgets/controls",
      "_model_module_version": "1.5.0",
      "_model_name": "HTMLModel",
      "_view_count": null,
      "_view_module": "@jupyter-widgets/controls",
      "_view_module_version": "1.5.0",
      "_view_name": "HTMLView",
      "description": "",
      "description_tooltip": null,
      "layout": "IPY_MODEL_66c881eb8200470ca47e34cdf335c486",
      "placeholder": "\u200b",
      "style": "IPY_MODEL_90d57a5a079c40b4a362b88b4a4adb47",
      "value": "100%"
     }
    },
    "a4742ee3ed8d481fa99f375d29aa106d": {
     "model_module": "@jupyter-widgets/controls",
     "model_module_version": "1.5.0",
     "model_name": "HTMLModel",
     "state": {
      "_dom_classes": [],
      "_model_module": "@jupyter-widgets/controls",
      "_model_module_version": "1.5.0",
      "_model_name": "HTMLModel",
      "_view_count": null,
      "_view_module": "@jupyter-widgets/controls",
      "_view_module_version": "1.5.0",
      "_view_name": "HTMLView",
      "description": "",
      "description_tooltip": null,
      "layout": "IPY_MODEL_7c4815bc53ac4981bf3dacc8dbbf1fdd",
      "placeholder": "\u200b",
      "style": "IPY_MODEL_c71de80878a04d44a3b8149b264e7d4b",
      "value": ""
     }
    },
    "a4b60c249a784e649a056c5d5062627d": {
     "model_module": "@jupyter-widgets/base",
     "model_module_version": "1.2.0",
     "model_name": "LayoutModel",
     "state": {
      "_model_module": "@jupyter-widgets/base",
      "_model_module_version": "1.2.0",
      "_model_name": "LayoutModel",
      "_view_count": null,
      "_view_module": "@jupyter-widgets/base",
      "_view_module_version": "1.2.0",
      "_view_name": "LayoutView",
      "align_content": null,
      "align_items": null,
      "align_self": null,
      "border": null,
      "bottom": null,
      "display": null,
      "flex": null,
      "flex_flow": null,
      "grid_area": null,
      "grid_auto_columns": null,
      "grid_auto_flow": null,
      "grid_auto_rows": null,
      "grid_column": null,
      "grid_gap": null,
      "grid_row": null,
      "grid_template_areas": null,
      "grid_template_columns": null,
      "grid_template_rows": null,
      "height": null,
      "justify_content": null,
      "justify_items": null,
      "left": null,
      "margin": null,
      "max_height": null,
      "max_width": null,
      "min_height": null,
      "min_width": null,
      "object_fit": null,
      "object_position": null,
      "order": null,
      "overflow": null,
      "overflow_x": null,
      "overflow_y": null,
      "padding": null,
      "right": null,
      "top": null,
      "visibility": null,
      "width": null
     }
    },
    "a50b3f85eb8c4288967faf5bef4f6a69": {
     "model_module": "@jupyter-widgets/controls",
     "model_module_version": "1.5.0",
     "model_name": "HTMLModel",
     "state": {
      "_dom_classes": [],
      "_model_module": "@jupyter-widgets/controls",
      "_model_module_version": "1.5.0",
      "_model_name": "HTMLModel",
      "_view_count": null,
      "_view_module": "@jupyter-widgets/controls",
      "_view_module_version": "1.5.0",
      "_view_name": "HTMLView",
      "description": "",
      "description_tooltip": null,
      "layout": "IPY_MODEL_b9d9cdc3155c43d2a566a511a6ade59e",
      "placeholder": "\u200b",
      "style": "IPY_MODEL_d086c6cd9274439784176f2c46e02704",
      "value": "Downloading: "
     }
    },
    "a7a29a5bf3664db7b3c3373d8eb1cedc": {
     "model_module": "@jupyter-widgets/base",
     "model_module_version": "1.2.0",
     "model_name": "LayoutModel",
     "state": {
      "_model_module": "@jupyter-widgets/base",
      "_model_module_version": "1.2.0",
      "_model_name": "LayoutModel",
      "_view_count": null,
      "_view_module": "@jupyter-widgets/base",
      "_view_module_version": "1.2.0",
      "_view_name": "LayoutView",
      "align_content": null,
      "align_items": null,
      "align_self": null,
      "border": null,
      "bottom": null,
      "display": null,
      "flex": null,
      "flex_flow": null,
      "grid_area": null,
      "grid_auto_columns": null,
      "grid_auto_flow": null,
      "grid_auto_rows": null,
      "grid_column": null,
      "grid_gap": null,
      "grid_row": null,
      "grid_template_areas": null,
      "grid_template_columns": null,
      "grid_template_rows": null,
      "height": null,
      "justify_content": null,
      "justify_items": null,
      "left": null,
      "margin": null,
      "max_height": null,
      "max_width": null,
      "min_height": null,
      "min_width": null,
      "object_fit": null,
      "object_position": null,
      "order": null,
      "overflow": null,
      "overflow_x": null,
      "overflow_y": null,
      "padding": null,
      "right": null,
      "top": null,
      "visibility": null,
      "width": null
     }
    },
    "a9a26dbbce6347aaad1e4728c16559bc": {
     "model_module": "@jupyter-widgets/controls",
     "model_module_version": "1.5.0",
     "model_name": "HTMLModel",
     "state": {
      "_dom_classes": [],
      "_model_module": "@jupyter-widgets/controls",
      "_model_module_version": "1.5.0",
      "_model_name": "HTMLModel",
      "_view_count": null,
      "_view_module": "@jupyter-widgets/controls",
      "_view_module_version": "1.5.0",
      "_view_name": "HTMLView",
      "description": "",
      "description_tooltip": null,
      "layout": "IPY_MODEL_bec438c216dc4b018ebf7b11d17e122c",
      "placeholder": "\u200b",
      "style": "IPY_MODEL_61471a8718a543ed919d5d81874c1825",
      "value": "Downloading: 100%"
     }
    },
    "aa2d61eb8da84dbf819918d979c1fd00": {
     "model_module": "@jupyter-widgets/base",
     "model_module_version": "1.2.0",
     "model_name": "LayoutModel",
     "state": {
      "_model_module": "@jupyter-widgets/base",
      "_model_module_version": "1.2.0",
      "_model_name": "LayoutModel",
      "_view_count": null,
      "_view_module": "@jupyter-widgets/base",
      "_view_module_version": "1.2.0",
      "_view_name": "LayoutView",
      "align_content": null,
      "align_items": null,
      "align_self": null,
      "border": null,
      "bottom": null,
      "display": null,
      "flex": null,
      "flex_flow": null,
      "grid_area": null,
      "grid_auto_columns": null,
      "grid_auto_flow": null,
      "grid_auto_rows": null,
      "grid_column": null,
      "grid_gap": null,
      "grid_row": null,
      "grid_template_areas": null,
      "grid_template_columns": null,
      "grid_template_rows": null,
      "height": null,
      "justify_content": null,
      "justify_items": null,
      "left": null,
      "margin": null,
      "max_height": null,
      "max_width": null,
      "min_height": null,
      "min_width": null,
      "object_fit": null,
      "object_position": null,
      "order": null,
      "overflow": null,
      "overflow_x": null,
      "overflow_y": null,
      "padding": null,
      "right": null,
      "top": null,
      "visibility": null,
      "width": null
     }
    },
    "aaeddaf56b7a408b9b5843fd38f087fc": {
     "model_module": "@jupyter-widgets/controls",
     "model_module_version": "1.5.0",
     "model_name": "DescriptionStyleModel",
     "state": {
      "_model_module": "@jupyter-widgets/controls",
      "_model_module_version": "1.5.0",
      "_model_name": "DescriptionStyleModel",
      "_view_count": null,
      "_view_module": "@jupyter-widgets/base",
      "_view_module_version": "1.2.0",
      "_view_name": "StyleView",
      "description_width": ""
     }
    },
    "ae1ed4851fc54b23926f6aac9413d396": {
     "model_module": "@jupyter-widgets/base",
     "model_module_version": "1.2.0",
     "model_name": "LayoutModel",
     "state": {
      "_model_module": "@jupyter-widgets/base",
      "_model_module_version": "1.2.0",
      "_model_name": "LayoutModel",
      "_view_count": null,
      "_view_module": "@jupyter-widgets/base",
      "_view_module_version": "1.2.0",
      "_view_name": "LayoutView",
      "align_content": null,
      "align_items": null,
      "align_self": null,
      "border": null,
      "bottom": null,
      "display": null,
      "flex": null,
      "flex_flow": null,
      "grid_area": null,
      "grid_auto_columns": null,
      "grid_auto_flow": null,
      "grid_auto_rows": null,
      "grid_column": null,
      "grid_gap": null,
      "grid_row": null,
      "grid_template_areas": null,
      "grid_template_columns": null,
      "grid_template_rows": null,
      "height": null,
      "justify_content": null,
      "justify_items": null,
      "left": null,
      "margin": null,
      "max_height": null,
      "max_width": null,
      "min_height": null,
      "min_width": null,
      "object_fit": null,
      "object_position": null,
      "order": null,
      "overflow": null,
      "overflow_x": null,
      "overflow_y": null,
      "padding": null,
      "right": null,
      "top": null,
      "visibility": null,
      "width": null
     }
    },
    "b00d8bd8e91842609cab8a9cbf07648b": {
     "model_module": "@jupyter-widgets/base",
     "model_module_version": "1.2.0",
     "model_name": "LayoutModel",
     "state": {
      "_model_module": "@jupyter-widgets/base",
      "_model_module_version": "1.2.0",
      "_model_name": "LayoutModel",
      "_view_count": null,
      "_view_module": "@jupyter-widgets/base",
      "_view_module_version": "1.2.0",
      "_view_name": "LayoutView",
      "align_content": null,
      "align_items": null,
      "align_self": null,
      "border": null,
      "bottom": null,
      "display": null,
      "flex": null,
      "flex_flow": null,
      "grid_area": null,
      "grid_auto_columns": null,
      "grid_auto_flow": null,
      "grid_auto_rows": null,
      "grid_column": null,
      "grid_gap": null,
      "grid_row": null,
      "grid_template_areas": null,
      "grid_template_columns": null,
      "grid_template_rows": null,
      "height": null,
      "justify_content": null,
      "justify_items": null,
      "left": null,
      "margin": null,
      "max_height": null,
      "max_width": null,
      "min_height": null,
      "min_width": null,
      "object_fit": null,
      "object_position": null,
      "order": null,
      "overflow": null,
      "overflow_x": null,
      "overflow_y": null,
      "padding": null,
      "right": null,
      "top": null,
      "visibility": null,
      "width": null
     }
    },
    "b0cd66f3807c45668a9282d0c71a1594": {
     "model_module": "@jupyter-widgets/base",
     "model_module_version": "1.2.0",
     "model_name": "LayoutModel",
     "state": {
      "_model_module": "@jupyter-widgets/base",
      "_model_module_version": "1.2.0",
      "_model_name": "LayoutModel",
      "_view_count": null,
      "_view_module": "@jupyter-widgets/base",
      "_view_module_version": "1.2.0",
      "_view_name": "LayoutView",
      "align_content": null,
      "align_items": null,
      "align_self": null,
      "border": null,
      "bottom": null,
      "display": null,
      "flex": null,
      "flex_flow": null,
      "grid_area": null,
      "grid_auto_columns": null,
      "grid_auto_flow": null,
      "grid_auto_rows": null,
      "grid_column": null,
      "grid_gap": null,
      "grid_row": null,
      "grid_template_areas": null,
      "grid_template_columns": null,
      "grid_template_rows": null,
      "height": null,
      "justify_content": null,
      "justify_items": null,
      "left": null,
      "margin": null,
      "max_height": null,
      "max_width": null,
      "min_height": null,
      "min_width": null,
      "object_fit": null,
      "object_position": null,
      "order": null,
      "overflow": null,
      "overflow_x": null,
      "overflow_y": null,
      "padding": null,
      "right": null,
      "top": null,
      "visibility": null,
      "width": null
     }
    },
    "b2c9240cc08a4052bfd91b48169220c3": {
     "model_module": "@jupyter-widgets/base",
     "model_module_version": "1.2.0",
     "model_name": "LayoutModel",
     "state": {
      "_model_module": "@jupyter-widgets/base",
      "_model_module_version": "1.2.0",
      "_model_name": "LayoutModel",
      "_view_count": null,
      "_view_module": "@jupyter-widgets/base",
      "_view_module_version": "1.2.0",
      "_view_name": "LayoutView",
      "align_content": null,
      "align_items": null,
      "align_self": null,
      "border": null,
      "bottom": null,
      "display": null,
      "flex": null,
      "flex_flow": null,
      "grid_area": null,
      "grid_auto_columns": null,
      "grid_auto_flow": null,
      "grid_auto_rows": null,
      "grid_column": null,
      "grid_gap": null,
      "grid_row": null,
      "grid_template_areas": null,
      "grid_template_columns": null,
      "grid_template_rows": null,
      "height": null,
      "justify_content": null,
      "justify_items": null,
      "left": null,
      "margin": null,
      "max_height": null,
      "max_width": null,
      "min_height": null,
      "min_width": null,
      "object_fit": null,
      "object_position": null,
      "order": null,
      "overflow": null,
      "overflow_x": null,
      "overflow_y": null,
      "padding": null,
      "right": null,
      "top": null,
      "visibility": null,
      "width": null
     }
    },
    "b2e02faf4cb24093aee3b26fc9939711": {
     "model_module": "@jupyter-widgets/base",
     "model_module_version": "1.2.0",
     "model_name": "LayoutModel",
     "state": {
      "_model_module": "@jupyter-widgets/base",
      "_model_module_version": "1.2.0",
      "_model_name": "LayoutModel",
      "_view_count": null,
      "_view_module": "@jupyter-widgets/base",
      "_view_module_version": "1.2.0",
      "_view_name": "LayoutView",
      "align_content": null,
      "align_items": null,
      "align_self": null,
      "border": null,
      "bottom": null,
      "display": null,
      "flex": null,
      "flex_flow": null,
      "grid_area": null,
      "grid_auto_columns": null,
      "grid_auto_flow": null,
      "grid_auto_rows": null,
      "grid_column": null,
      "grid_gap": null,
      "grid_row": null,
      "grid_template_areas": null,
      "grid_template_columns": null,
      "grid_template_rows": null,
      "height": null,
      "justify_content": null,
      "justify_items": null,
      "left": null,
      "margin": null,
      "max_height": null,
      "max_width": null,
      "min_height": null,
      "min_width": null,
      "object_fit": null,
      "object_position": null,
      "order": null,
      "overflow": null,
      "overflow_x": null,
      "overflow_y": null,
      "padding": null,
      "right": null,
      "top": null,
      "visibility": null,
      "width": null
     }
    },
    "b3f6df875294417387539fa39075c8b1": {
     "model_module": "@jupyter-widgets/base",
     "model_module_version": "1.2.0",
     "model_name": "LayoutModel",
     "state": {
      "_model_module": "@jupyter-widgets/base",
      "_model_module_version": "1.2.0",
      "_model_name": "LayoutModel",
      "_view_count": null,
      "_view_module": "@jupyter-widgets/base",
      "_view_module_version": "1.2.0",
      "_view_name": "LayoutView",
      "align_content": null,
      "align_items": null,
      "align_self": null,
      "border": null,
      "bottom": null,
      "display": null,
      "flex": null,
      "flex_flow": null,
      "grid_area": null,
      "grid_auto_columns": null,
      "grid_auto_flow": null,
      "grid_auto_rows": null,
      "grid_column": null,
      "grid_gap": null,
      "grid_row": null,
      "grid_template_areas": null,
      "grid_template_columns": null,
      "grid_template_rows": null,
      "height": null,
      "justify_content": null,
      "justify_items": null,
      "left": null,
      "margin": null,
      "max_height": null,
      "max_width": null,
      "min_height": null,
      "min_width": null,
      "object_fit": null,
      "object_position": null,
      "order": null,
      "overflow": null,
      "overflow_x": null,
      "overflow_y": null,
      "padding": null,
      "right": null,
      "top": null,
      "visibility": null,
      "width": null
     }
    },
    "b9d9cdc3155c43d2a566a511a6ade59e": {
     "model_module": "@jupyter-widgets/base",
     "model_module_version": "1.2.0",
     "model_name": "LayoutModel",
     "state": {
      "_model_module": "@jupyter-widgets/base",
      "_model_module_version": "1.2.0",
      "_model_name": "LayoutModel",
      "_view_count": null,
      "_view_module": "@jupyter-widgets/base",
      "_view_module_version": "1.2.0",
      "_view_name": "LayoutView",
      "align_content": null,
      "align_items": null,
      "align_self": null,
      "border": null,
      "bottom": null,
      "display": null,
      "flex": null,
      "flex_flow": null,
      "grid_area": null,
      "grid_auto_columns": null,
      "grid_auto_flow": null,
      "grid_auto_rows": null,
      "grid_column": null,
      "grid_gap": null,
      "grid_row": null,
      "grid_template_areas": null,
      "grid_template_columns": null,
      "grid_template_rows": null,
      "height": null,
      "justify_content": null,
      "justify_items": null,
      "left": null,
      "margin": null,
      "max_height": null,
      "max_width": null,
      "min_height": null,
      "min_width": null,
      "object_fit": null,
      "object_position": null,
      "order": null,
      "overflow": null,
      "overflow_x": null,
      "overflow_y": null,
      "padding": null,
      "right": null,
      "top": null,
      "visibility": null,
      "width": null
     }
    },
    "b9e7bd84fad24db492fa0df4723a2efd": {
     "model_module": "@jupyter-widgets/controls",
     "model_module_version": "1.5.0",
     "model_name": "HTMLModel",
     "state": {
      "_dom_classes": [],
      "_model_module": "@jupyter-widgets/controls",
      "_model_module_version": "1.5.0",
      "_model_name": "HTMLModel",
      "_view_count": null,
      "_view_module": "@jupyter-widgets/controls",
      "_view_module_version": "1.5.0",
      "_view_name": "HTMLView",
      "description": "",
      "description_tooltip": null,
      "layout": "IPY_MODEL_535ee96936744708b3223d02c8d3d814",
      "placeholder": "\u200b",
      "style": "IPY_MODEL_29accfd7071f4060905134c8794cae14",
      "value": " 22.5k/? [00:00&lt;00:00, 446kB/s]"
     }
    },
    {
      "cell_type": "code",
      "metadata": {
        "colab": {
          "base_uri": "https://localhost:8080/",
          "height": 49,
          "referenced_widgets": [
            "d732152a9f20436c89ab3d826b972fe6",
            "79c842b0ae8d414ab7dc6c33ad815e90",
            "e2638bdf20c24dc492aad80c998a69b1",
            "90fbd155c2d14bdea0c742f388a09910",
            "b6fcc56d4a974dcea9bad17b39047fad",
            "dac7e5d9d19247bf8a7e9899ee093e65",
            "9c3c5d39b74345a68beb2895d40c50fe",
            "ed740a121682463eba91f1085b30c0c8",
            "0984a56fa7324ae8a9194ae92435ec66",
            "07eb65d96ab042df98ca5ed3a7d5fc74",
            "ff7c4f7757a24f0a9a6847f947ff366f"
          ]
        },
        "id": "9Xsux2gmyXso",
        "outputId": "887068cc-969d-4029-901c-de5dbb1593d5"
      },
      "source": [
        "wer_metric = load_metric(\"wer\")"
      ],
      "layout": "IPY_MODEL_ae1ed4851fc54b23926f6aac9413d396"
     }
    },
    "bde57ec414004420b109f0fdd4f11b43": {
     "model_module": "@jupyter-widgets/base",
     "model_module_version": "1.2.0",
     "model_name": "LayoutModel",
     "state": {
      "_model_module": "@jupyter-widgets/base",
      "_model_module_version": "1.2.0",
      "_model_name": "LayoutModel",
      "_view_count": null,
      "_view_module": "@jupyter-widgets/base",
      "_view_module_version": "1.2.0",
      "_view_name": "LayoutView",
      "align_content": null,
      "align_items": null,
      "align_self": null,
      "border": null,
      "bottom": null,
      "display": null,
      "flex": null,
      "flex_flow": null,
      "grid_area": null,
      "grid_auto_columns": null,
      "grid_auto_flow": null,
      "grid_auto_rows": null,
      "grid_column": null,
      "grid_gap": null,
      "grid_row": null,
      "grid_template_areas": null,
      "grid_template_columns": null,
      "grid_template_rows": null,
      "height": null,
      "justify_content": null,
      "justify_items": null,
      "left": null,
      "margin": null,
      "max_height": null,
      "max_width": null,
      "min_height": null,
      "min_width": null,
      "object_fit": null,
      "object_position": null,
      "order": null,
      "overflow": null,
      "overflow_x": null,
      "overflow_y": null,
      "padding": null,
      "right": null,
      "top": null,
      "visibility": null,
      "width": null
     }
    },
    "bec438c216dc4b018ebf7b11d17e122c": {
     "model_module": "@jupyter-widgets/base",
     "model_module_version": "1.2.0",
     "model_name": "LayoutModel",
     "state": {
      "_model_module": "@jupyter-widgets/base",
      "_model_module_version": "1.2.0",
      "_model_name": "LayoutModel",
      "_view_count": null,
      "_view_module": "@jupyter-widgets/base",
      "_view_module_version": "1.2.0",
      "_view_name": "LayoutView",
      "align_content": null,
      "align_items": null,
      "align_self": null,
      "border": null,
      "bottom": null,
      "display": null,
      "flex": null,
      "flex_flow": null,
      "grid_area": null,
      "grid_auto_columns": null,
      "grid_auto_flow": null,
      "grid_auto_rows": null,
      "grid_column": null,
      "grid_gap": null,
      "grid_row": null,
      "grid_template_areas": null,
      "grid_template_columns": null,
      "grid_template_rows": null,
      "height": null,
      "justify_content": null,
      "justify_items": null,
      "left": null,
      "margin": null,
      "max_height": null,
      "max_width": null,
      "min_height": null,
      "min_width": null,
      "object_fit": null,
      "object_position": null,
      "order": null,
      "overflow": null,
      "overflow_x": null,
      "overflow_y": null,
      "padding": null,
      "right": null,
      "top": null,
      "visibility": null,
      "width": null
     }
    },
    "bf335ecbd1b84d55a8ee212c21f5f5d5": {
     "model_module": "@jupyter-widgets/controls",
     "model_module_version": "1.5.0",
     "model_name": "ProgressStyleModel",
     "state": {
      "_model_module": "@jupyter-widgets/controls",
      "_model_module_version": "1.5.0",
      "_model_name": "ProgressStyleModel",
      "_view_count": null,
      "_view_module": "@jupyter-widgets/base",
      "_view_module_version": "1.2.0",
      "_view_name": "StyleView",
      "bar_color": null,
      "description_width": ""
     }
    },
    "c05c519bfb90452693d4a86f41b1982a": {
     "model_module": "@jupyter-widgets/controls",
     "model_module_version": "1.5.0",
     "model_name": "HTMLModel",
     "state": {
      "_dom_classes": [],
      "_model_module": "@jupyter-widgets/controls",
      "_model_module_version": "1.5.0",
      "_model_name": "HTMLModel",
      "_view_count": null,
      "_view_module": "@jupyter-widgets/controls",
      "_view_module_version": "1.5.0",
      "_view_name": "HTMLView",
      "description": "",
      "description_tooltip": null,
      "layout": "IPY_MODEL_48be87f262024cce9954b7162ee9a3b8",
      "placeholder": "\u200b",
      "style": "IPY_MODEL_0b220fab7f954b8abe429e5880c16125",
      "value": " 157M/157M [00:05&lt;00:00, 23.9MB/s]"
     }
    },
    "c08e34ba26154c269aae602bacef3761": {
     "model_module": "@jupyter-widgets/controls",
     "model_module_version": "1.5.0",
     "model_name": "HTMLModel",
     "state": {
      "_dom_classes": [],
      "_model_module": "@jupyter-widgets/controls",
      "_model_module_version": "1.5.0",
      "_model_name": "HTMLModel",
      "_view_count": null,
      "_view_module": "@jupyter-widgets/controls",
      "_view_module_version": "1.5.0",
      "_view_name": "HTMLView",
      "description": "",
      "description_tooltip": null,
      "layout": "IPY_MODEL_0447519f1cdd4e14abab320103d1b989",
      "placeholder": "\u200b",
      "style": "IPY_MODEL_06556f4f05be42aabe588d648fbf87f0",
      "value": "100%"
     }
    },
    "c0c180b6c5654378a34d8f5412f14834": {
     "model_module": "@jupyter-widgets/controls",
     "model_module_version": "1.5.0",
     "model_name": "FloatProgressModel",
     "state": {
      "_dom_classes": [],
      "_model_module": "@jupyter-widgets/controls",
      "_model_module_version": "1.5.0",
      "_model_name": "FloatProgressModel",
      "_view_count": null,
      "_view_module": "@jupyter-widgets/controls",
      "_view_module_version": "1.5.0",
      "_view_name": "ProgressView",
      "bar_style": "success",
      "description": "",
      "description_tooltip": null,
      "layout": "IPY_MODEL_7678f93df87149f79185b2a142d9d1c6",
      "max": 156553447,
      "min": 0,
      "orientation": "horizontal",
      "style": "IPY_MODEL_35dd171a360d43489e8b70653afe2efd",
      "value": 156553447
     }
    },
    "c1380da84f694064a241ea8ddebab249": {
     "model_module": "@jupyter-widgets/controls",
     "model_module_version": "1.5.0",
     "model_name": "FloatProgressModel",
     "state": {
      "_dom_classes": [],
      "_model_module": "@jupyter-widgets/controls",
      "_model_module_version": "1.5.0",
      "_model_name": "FloatProgressModel",
      "_view_count": null,
      "_view_module": "@jupyter-widgets/controls",
      "_view_module_version": "1.5.0",
      "_view_name": "ProgressView",
      "bar_style": "info",
      "description": "",
      "description_tooltip": null,
      "layout": "IPY_MODEL_0cb90467135647a296130eaaa218338a",
      "max": 1,
      "min": 0,
      "orientation": "horizontal",
      "style": "IPY_MODEL_c7eedf1f77af4d7ead98fc5afa4da219",
      "value": 1
     }
    },
    "c26da0359c6f4b73867ae591087251bc": {
     "model_module": "@jupyter-widgets/controls",
     "model_module_version": "1.5.0",
     "model_name": "DescriptionStyleModel",
     "state": {
      "_model_module": "@jupyter-widgets/controls",
      "_model_module_version": "1.5.0",
      "_model_name": "DescriptionStyleModel",
      "_view_count": null,
      "_view_module": "@jupyter-widgets/base",
      "_view_module_version": "1.2.0",
      "_view_name": "StyleView",
      "description_width": ""
     }
    },
    "c2b1e7d709dd4486b4c46a0b7a0b2691": {
     "model_module": "@jupyter-widgets/base",
     "model_module_version": "1.2.0",
     "model_name": "LayoutModel",
     "state": {
      "_model_module": "@jupyter-widgets/base",
      "_model_module_version": "1.2.0",
      "_model_name": "LayoutModel",
      "_view_count": null,
      "_view_module": "@jupyter-widgets/base",
      "_view_module_version": "1.2.0",
      "_view_name": "LayoutView",
      "align_content": null,
      "align_items": null,
      "align_self": null,
      "border": null,
      "bottom": null,
      "display": null,
      "flex": null,
      "flex_flow": null,
      "grid_area": null,
      "grid_auto_columns": null,
      "grid_auto_flow": null,
      "grid_auto_rows": null,
      "grid_column": null,
      "grid_gap": null,
      "grid_row": null,
      "grid_template_areas": null,
      "grid_template_columns": null,
      "grid_template_rows": null,
      "height": null,
      "justify_content": null,
      "justify_items": null,
      "left": null,
      "margin": null,
      "max_height": null,
      "max_width": null,
      "min_height": null,
      "min_width": null,
      "object_fit": null,
      "object_position": null,
      "order": null,
      "overflow": null,
      "overflow_x": null,
      "overflow_y": null,
      "padding": null,
      "right": null,
      "top": null,
      "visibility": null,
      "width": null
     }
    },
    "c32e28f3df6a49368f2df80f11ba5a1d": {
     "model_module": "@jupyter-widgets/controls",
     "model_module_version": "1.5.0",
     "model_name": "DescriptionStyleModel",
     "state": {
      "_model_module": "@jupyter-widgets/controls",
      "_model_module_version": "1.5.0",
      "_model_name": "DescriptionStyleModel",
      "_view_count": null,
      "_view_module": "@jupyter-widgets/base",
      "_view_module_version": "1.2.0",
      "_view_name": "StyleView",
      "description_width": ""
     }
    },
    "c6a249e4fba042baaa6e579d8247cf7a": {
     "model_module": "@jupyter-widgets/controls",
     "model_module_version": "1.5.0",
     "model_name": "HTMLModel",
     "state": {
      "_dom_classes": [],
      "_model_module": "@jupyter-widgets/controls",
      "_model_module_version": "1.5.0",
      "_model_name": "HTMLModel",
      "_view_count": null,
      "_view_module": "@jupyter-widgets/controls",
      "_view_module_version": "1.5.0",
      "_view_name": "HTMLView",
      "description": "",
      "description_tooltip": null,
      "layout": "IPY_MODEL_bde57ec414004420b109f0fdd4f11b43",
      "placeholder": "\u200b",
      "style": "IPY_MODEL_9d4777c488e74289bff088810d6b186c",
      "value": " 506/506 [00:06&lt;00:00, 88.66ex/s]"
     }
    },
    "c71de80878a04d44a3b8149b264e7d4b": {
     "model_module": "@jupyter-widgets/controls",
     "model_module_version": "1.5.0",
     "model_name": "DescriptionStyleModel",
     "state": {
      "_model_module": "@jupyter-widgets/controls",
      "_model_module_version": "1.5.0",
      "_model_name": "DescriptionStyleModel",
      "_view_count": null,
      "_view_module": "@jupyter-widgets/base",
      "_view_module_version": "1.2.0",
      "_view_name": "StyleView",
      "description_width": ""
     }
    },
    "c7bb6a7287ee407195246d295f8ee454": {
     "model_module": "@jupyter-widgets/controls",
     "model_module_version": "1.5.0",
     "model_name": "ProgressStyleModel",
     "state": {
      "_model_module": "@jupyter-widgets/controls",
      "_model_module_version": "1.5.0",
      "_model_name": "ProgressStyleModel",
      "_view_count": null,
      "_view_module": "@jupyter-widgets/base",
      "_view_module_version": "1.2.0",
      "_view_name": "StyleView",
      "bar_color": null,
      "description_width": ""
     }
    },
    "c7eedf1f77af4d7ead98fc5afa4da219": {
     "model_module": "@jupyter-widgets/controls",
     "model_module_version": "1.5.0",
     "model_name": "ProgressStyleModel",
     "state": {
      "_model_module": "@jupyter-widgets/controls",
      "_model_module_version": "1.5.0",
      "_model_name": "ProgressStyleModel",
      "_view_count": null,
      "_view_module": "@jupyter-widgets/base",
      "_view_module_version": "1.2.0",
      "_view_name": "StyleView",
      "bar_color": null,
      "description_width": ""
     }
    },
    "c81067e07b4f4a58834fce2a61576eeb": {
     "model_module": "@jupyter-widgets/controls",
     "model_module_version": "1.5.0",
     "model_name": "HTMLModel",
     "state": {
      "_dom_classes": [],
      "_model_module": "@jupyter-widgets/controls",
      "_model_module_version": "1.5.0",
      "_model_name": "HTMLModel",
      "_view_count": null,
      "_view_module": "@jupyter-widgets/controls",
      "_view_module_version": "1.5.0",
      "_view_name": "HTMLView",
      "description": "",
      "description_tooltip": null,
      "layout": "IPY_MODEL_0fa98db3fefe4cccbae866ed79c25868",
      "placeholder": "\u200b",
      "style": "IPY_MODEL_d771b402f28f4e919e7ea64fa1d0136e",
      "value": ""
     }
    },
    "cf62b06995e24848b325c7546a6f51b9": {
     "model_module": "@jupyter-widgets/controls",
     "model_module_version": "1.5.0",
     "model_name": "HTMLModel",
     "state": {
      "_dom_classes": [],
      "_model_module": "@jupyter-widgets/controls",
      "_model_module_version": "1.5.0",
      "_model_name": "HTMLModel",
      "_view_count": null,
      "_view_module": "@jupyter-widgets/controls",
      "_view_module_version": "1.5.0",
      "_view_name": "HTMLView",
      "description": "",
      "description_tooltip": null,
      "layout": "IPY_MODEL_2f987e12ede142c986c02268d01eed3c",
      "placeholder": "\u200b",
      "style": "IPY_MODEL_453c25ef14ae46ca89be007f84601f08",
      "value": "100%"
     }
    },
    "d086c6cd9274439784176f2c46e02704": {
     "model_module": "@jupyter-widgets/controls",
     "model_module_version": "1.5.0",
     "model_name": "DescriptionStyleModel",
     "state": {
      "_model_module": "@jupyter-widgets/controls",
      "_model_module_version": "1.5.0",
      "_model_name": "DescriptionStyleModel",
      "_view_count": null,
      "_view_module": "@jupyter-widgets/base",
      "_view_module_version": "1.2.0",
      "_view_name": "StyleView",
      "description_width": ""
     }
    },
    "d1aba60f1c764be3a045e751af34891b": {
     "model_module": "@jupyter-widgets/controls",
     "model_module_version": "1.5.0",
     "model_name": "FloatProgressModel",
     "state": {
      "_dom_classes": [],
      "_model_module": "@jupyter-widgets/controls",
      "_model_module_version": "1.5.0",
      "_model_name": "FloatProgressModel",
      "_view_count": null,
      "_view_module": "@jupyter-widgets/controls",
      "_view_module_version": "1.5.0",
      "_view_name": "ProgressView",
      "bar_style": "success",
      "description": "",
      "description_tooltip": null,
      "layout": "IPY_MODEL_040c74a1e6c647aaa3c3a24b29686d20",
      "max": 10151,
      "min": 0,
      "orientation": "horizontal",
      "style": "IPY_MODEL_30d15f00faa24a889fd4ff7850220c1b",
      "value": 10151
     }
    },
    "d20f957ccf7f474d890df4f5ca746ce7": {
     "model_module": "@jupyter-widgets/controls",
     "model_module_version": "1.5.0",
     "model_name": "DescriptionStyleModel",
     "state": {
      "_model_module": "@jupyter-widgets/controls",
      "_model_module_version": "1.5.0",
      "_model_name": "DescriptionStyleModel",
      "_view_count": null,
      "_view_module": "@jupyter-widgets/base",
      "_view_module_version": "1.2.0",
      "_view_name": "StyleView",
      "description_width": ""
     }
    },
    "d3a9358beef6459ba063f4c3011cc4b5": {
     "model_module": "@jupyter-widgets/base",
     "model_module_version": "1.2.0",
     "model_name": "LayoutModel",
     "state": {
      "_model_module": "@jupyter-widgets/base",
      "_model_module_version": "1.2.0",
      "_model_name": "LayoutModel",
      "_view_count": null,
      "_view_module": "@jupyter-widgets/base",
      "_view_module_version": "1.2.0",
      "_view_name": "LayoutView",
      "align_content": null,
      "align_items": null,
      "align_self": null,
      "border": null,
      "bottom": null,
      "display": null,
      "flex": null,
      "flex_flow": null,
      "grid_area": null,
      "grid_auto_columns": null,
      "grid_auto_flow": null,
      "grid_auto_rows": null,
      "grid_column": null,
      "grid_gap": null,
      "grid_row": null,
      "grid_template_areas": null,
      "grid_template_columns": null,
      "grid_template_rows": null,
      "height": null,
      "justify_content": null,
      "justify_items": null,
      "left": null,
      "margin": null,
      "max_height": null,
      "max_width": null,
      "min_height": null,
      "min_width": null,
      "object_fit": null,
      "object_position": null,
      "order": null,
      "overflow": null,
      "overflow_x": null,
      "overflow_y": null,
      "padding": null,
      "right": null,
      "top": null,
      "visibility": null,
      "width": null
     }
    },
    "d3c3df0de683434f8742185d27ad4cc8": {
     "model_module": "@jupyter-widgets/controls",
     "model_module_version": "1.5.0",
     "model_name": "HTMLModel",
     "state": {
      "_dom_classes": [],
      "_model_module": "@jupyter-widgets/controls",
      "_model_module_version": "1.5.0",
      "_model_name": "HTMLModel",
      "_view_count": null,
      "_view_module": "@jupyter-widgets/controls",
      "_view_module_version": "1.5.0",
      "_view_name": "HTMLView",
      "description": "",
      "description_tooltip": null,
      "layout": "IPY_MODEL_5f0876750019427ea8c8beedba327796",
      "placeholder": "\u200b",
      "style": "IPY_MODEL_74b51541a91a41dbbfefdf48a671aaf1",
      "value": "Downloading: 100%"
     }
    },
    "d58028c1b2c24d8dae30b9370e5774e2": {
     "model_module": "@jupyter-widgets/controls",
     "model_module_version": "1.5.0",
     "model_name": "HTMLModel",
     "state": {
      "_dom_classes": [],
      "_model_module": "@jupyter-widgets/controls",
      "_model_module_version": "1.5.0",
      "_model_name": "HTMLModel",
      "_view_count": null,
      "_view_module": "@jupyter-widgets/controls",
      "_view_module_version": "1.5.0",
      "_view_name": "HTMLView",
      "description": "",
      "description_tooltip": null,
      "layout": "IPY_MODEL_a4b60c249a784e649a056c5d5062627d",
      "placeholder": "\u200b",
      "style": "IPY_MODEL_e5f09bb71f304de7996ecb481047deb7",
      "value": " 1038/1038 [00:12&lt;00:00, 58.66ex/s]"
     }
    },
    {
      "cell_type": "code",
      "metadata": {
        "id": "1XZ-kjweyTy_"
      },
      "source": [
        "def compute_metrics(pred):\n",
        "    pred_logits = pred.predictions\n",
        "    pred_ids = np.argmax(pred_logits, axis=-1)\n",
        "\n",
        "    pred.label_ids[pred.label_ids == -100] = processor.tokenizer.pad_token_id\n",
        "\n",
        "    pred_str = processor.batch_decode(pred_ids)\n",
        "    # we do not want to group tokens when computing the metrics\n",
        "    label_str = processor.batch_decode(pred.label_ids, group_tokens=False)\n",
        "\n",
        "    wer = wer_metric.compute(predictions=pred_str, references=label_str)\n",
        "\n",
        "    return {\"wer\": wer}"
      ],
      "execution_count": 36,
      "outputs": []
    },
    {
      "cell_type": "markdown",
      "metadata": {
        "id": "Xmgrx4bRwLIH"
      },
      "source": [
        "Now, we can load the pretrained checkpoint of [Wav2Vec2-XLS-R-300M](https://huggingface.co/facebook/wav2vec2-xls-r-300m). The tokenizer's `pad_token_id` must be to define the model's `pad_token_id` or in the case of `Wav2Vec2ForCTC` also CTC's *blank token* ${}^2$. To save GPU memory, we enable PyTorch's [gradient checkpointing](https://pytorch.org/docs/stable/checkpoint.html) and also set the loss reduction to \"*mean*\".\n",
        "\n",
        "Because the dataset is quite small (~6h of training data) and because Common Voice is quite noisy, fine-tuning Facebook's [wav2vec2-xls-r-300m checkpoint](https://huggingface.co/facebook/wav2vec2-xls-r-300m) seems to require some hyper-parameter tuning. Therefore, I had to play around a bit with different values for dropout, [SpecAugment](https://arxiv.org/abs/1904.08779)'s masking dropout rate, layer dropout, and the learning rate until training seemed to be stable enough. \n",
        "\n",
        "**Note**: When using this notebook to train XLS-R on another language of Common Voice those hyper-parameter settings might not work very well. Feel free to adapt those depending on your use case. "
      ]
    },
    {
      "cell_type": "code",
      "metadata": {
        "colab": {
          "base_uri": "https://localhost:8080/",
          "height": 188,
          "referenced_widgets": [
            "504800814af1434faf619c55f8f28231",
            "b4a6e65d182c4fcfa1abf3568b7fe848",
            "de43e76ca2754d39841a7b99ff71adc8",
            "04e2f5c8ef7846ca976ba696da6d3dcc",
            "46fceefc428d4245a16c3af64faa92ec",
            "449b2a42a3054a4c8785dde9e5ae2669",
            "1adb1eb7eb9c4b97ab40c64af5cb424b",
            "8b8568c6c9b942639073111b55baf3d9",
            "b959bba3150344158366b61e0dcf8cad",
            "14940b83affa43c9adf495c82523fcbd",
            "11e567cc61ad4dcc8c4342b476e584d8",
            "ef1a05feb9f040e089c8e34542bcb8fb",
            "1eed945ea48f4ece990ce422d37ced14",
            "f8f20c774f794d3bb307b7ec293c20d5",
            "5b2527b73e324979b2b8c98df5d1a1f8",
            "80d7a3e36d214a229d4d7aba58cf9823",
            "d28d63606fe0425584656bd7bdc6bd19",
            "a8faa455bb6b460685f3a7f80e5ed59f",
            "dd99bd15b7b6444faabe5006a02beb1c",
            "5fb3e47778af477089c131931b88b70d",
            "67629e7bee8c42a3bee022f70b7339c3",
            "7f0486f27d4a4a7a9c77d2a378170005"
          ]
        },
        "id": "e7cqAWIayn6w",
        "outputId": "c163b14c-9c5e-4d7d-c17b-6064db14a2da"
      },
      "source": [
        "from transformers import Wav2Vec2ForCTC\n",
        "\n",
        "model = Wav2Vec2ForCTC.from_pretrained(\n",
        "    \"facebook/wav2vec2-xls-r-300m\", \n",
        "    attention_dropout=0.0,\n",
        "    hidden_dropout=0.0,\n",
        "    feat_proj_dropout=0.0,\n",
        "    mask_time_prob=0.05,\n",
        "    layerdrop=0.0,\n",
        "    ctc_loss_reduction=\"mean\", \n",
        "    pad_token_id=processor.tokenizer.pad_token_id,\n",
        "    vocab_size=len(processor.tokenizer),\n",
        ")"
      ],
      "layout": "IPY_MODEL_a0e26c581876448e802a366192006553"
     }
    },
    "d771b402f28f4e919e7ea64fa1d0136e": {
     "model_module": "@jupyter-widgets/controls",
     "model_module_version": "1.5.0",
     "model_name": "DescriptionStyleModel",
     "state": {
      "_model_module": "@jupyter-widgets/controls",
      "_model_module_version": "1.5.0",
      "_model_name": "DescriptionStyleModel",
      "_view_count": null,
      "_view_module": "@jupyter-widgets/base",
      "_view_module_version": "1.2.0",
      "_view_name": "StyleView",
      "description_width": ""
     }
    },
    "d813024ab46546109280971ae0a2270a": {
     "model_module": "@jupyter-widgets/base",
     "model_module_version": "1.2.0",
     "model_name": "LayoutModel",
     "state": {
      "_model_module": "@jupyter-widgets/base",
      "_model_module_version": "1.2.0",
      "_model_name": "LayoutModel",
      "_view_count": null,
      "_view_module": "@jupyter-widgets/base",
      "_view_module_version": "1.2.0",
      "_view_name": "LayoutView",
      "align_content": null,
      "align_items": null,
      "align_self": null,
      "border": null,
      "bottom": null,
      "display": null,
      "flex": null,
      "flex_flow": null,
      "grid_area": null,
      "grid_auto_columns": null,
      "grid_auto_flow": null,
      "grid_auto_rows": null,
      "grid_column": null,
      "grid_gap": null,
      "grid_row": null,
      "grid_template_areas": null,
      "grid_template_columns": null,
      "grid_template_rows": null,
      "height": null,
      "justify_content": null,
      "justify_items": null,
      "left": null,
      "margin": null,
      "max_height": null,
      "max_width": null,
      "min_height": null,
      "min_width": null,
      "object_fit": null,
      "object_position": null,
      "order": null,
      "overflow": null,
      "overflow_x": null,
      "overflow_y": null,
      "padding": null,
      "right": null,
      "top": null,
      "visibility": null,
      "width": "20px"
     }
    },
    "d8e7adffd4f4407ba056b6a3114ef767": {
     "model_module": "@jupyter-widgets/controls",
     "model_module_version": "1.5.0",
     "model_name": "HTMLModel",
     "state": {
      "_dom_classes": [],
      "_model_module": "@jupyter-widgets/controls",
      "_model_module_version": "1.5.0",
      "_model_name": "HTMLModel",
      "_view_count": null,
      "_view_module": "@jupyter-widgets/controls",
      "_view_module_version": "1.5.0",
      "_view_name": "HTMLView",
      "description": "",
      "description_tooltip": null,
      "layout": "IPY_MODEL_a7a29a5bf3664db7b3c3373d8eb1cedc",
      "placeholder": "\u200b",
      "style": "IPY_MODEL_8276470fc5294010923843a467e85842",
      "value": "100%"
     }
    },
    "d9cd123022e34816895a315a03d5d487": {
     "model_module": "@jupyter-widgets/base",
     "model_module_version": "1.2.0",
     "model_name": "LayoutModel",
     "state": {
      "_model_module": "@jupyter-widgets/base",
      "_model_module_version": "1.2.0",
      "_model_name": "LayoutModel",
      "_view_count": null,
      "_view_module": "@jupyter-widgets/base",
      "_view_module_version": "1.2.0",
      "_view_name": "LayoutView",
      "align_content": null,
      "align_items": null,
      "align_self": null,
      "border": null,
      "bottom": null,
      "display": null,
      "flex": null,
      "flex_flow": null,
      "grid_area": null,
      "grid_auto_columns": null,
      "grid_auto_flow": null,
      "grid_auto_rows": null,
      "grid_column": null,
      "grid_gap": null,
      "grid_row": null,
      "grid_template_areas": null,
      "grid_template_columns": null,
      "grid_template_rows": null,
      "height": null,
      "justify_content": null,
      "justify_items": null,
      "left": null,
      "margin": null,
      "max_height": null,
      "max_width": null,
      "min_height": null,
      "min_width": null,
      "object_fit": null,
      "object_position": null,
      "order": null,
      "overflow": null,
      "overflow_x": null,
      "overflow_y": null,
      "padding": null,
      "right": null,
      "top": null,
      "visibility": null,
      "width": null
     }
    },
    "da66731cd8d44d649d6737915d3bacbd": {
     "model_module": "@jupyter-widgets/controls",
     "model_module_version": "1.5.0",
     "model_name": "DescriptionStyleModel",
     "state": {
      "_model_module": "@jupyter-widgets/controls",
      "_model_module_version": "1.5.0",
      "_model_name": "DescriptionStyleModel",
      "_view_count": null,
      "_view_module": "@jupyter-widgets/base",
      "_view_module_version": "1.2.0",
      "_view_name": "StyleView",
      "description_width": ""
     }
    },
    "da7815ab5cf04140a79a23633c1f6ed0": {
     "model_module": "@jupyter-widgets/controls",
     "model_module_version": "1.5.0",
     "model_name": "ProgressStyleModel",
     "state": {
      "_model_module": "@jupyter-widgets/controls",
      "_model_module_version": "1.5.0",
      "_model_name": "ProgressStyleModel",
      "_view_count": null,
      "_view_module": "@jupyter-widgets/base",
      "_view_module_version": "1.2.0",
      "_view_name": "StyleView",
      "bar_color": null,
      "description_width": ""
     }
    },
    "dbe938f468ff4bb18a9f0bf3e7a1007b": {
     "model_module": "@jupyter-widgets/controls",
     "model_module_version": "1.5.0",
     "model_name": "HTMLModel",
     "state": {
      "_dom_classes": [],
      "_model_module": "@jupyter-widgets/controls",
      "_model_module_version": "1.5.0",
      "_model_name": "HTMLModel",
      "_view_count": null,
      "_view_module": "@jupyter-widgets/controls",
      "_view_module_version": "1.5.0",
      "_view_name": "HTMLView",
      "description": "",
      "description_tooltip": null,
      "layout": "IPY_MODEL_74e4954507e4401095155c61a3c15d7f",
      "placeholder": "\u200b",
      "style": "IPY_MODEL_9ca4d09253724716b9f8da04ff28127c",
      "value": " 1/1 [00:00&lt;00:00, 11.96ba/s]"
     }
    },
    {
      "cell_type": "code",
      "metadata": {
        "id": "oGI8zObtZ3V0"
      },
      "source": [
        "model.freeze_feature_extractor()"
      ],
      "execution_count": 38,
      "outputs": []
    },
    {
      "cell_type": "markdown",
      "metadata": {
        "id": "lD4aGhQM0K-D"
      },
      "source": [
        "In a final step, we define all parameters related to training. \n",
        "To give more explanation on some of the parameters:\n",
        "- `group_by_length` makes training more efficient by grouping training samples of similar input length into one batch. This can significantly speed up training time by heavily reducing the overall number of useless padding tokens that are passed through the model\n",
        "- `learning_rate` and `weight_decay` were heuristically tuned until fine-tuning has become stable. Note that those parameters strongly depend on the Common Voice dataset and might be suboptimal for other speech datasets.\n",
        "\n",
        "For more explanations on other parameters, one can take a look at the [docs](https://huggingface.co/transformers/master/main_classes/trainer.html?highlight=trainer#trainingarguments).\n",
        "\n",
        "During training, a checkpoint will be uploaded asynchronously to the hub every 400 training steps. It allows you to also play around with the demo widget even while your model is still training.\n",
        "\n",
        "**Note**: If one does not want to upload the model checkpoints to the hub, simply set `push_to_hub=False`."
      ]
    },
    {
      "cell_type": "code",
      "metadata": {
        "id": "KbeKSV7uzGPP"
      },
      "source": [
        "from transformers import TrainingArguments\n",
        "\n",
        "training_args = TrainingArguments(\n",
        "  output_dir=repo_name,\n",
        "  group_by_length=True,\n",
        "  per_device_train_batch_size=16,\n",
        "  gradient_accumulation_steps=2,\n",
        "  evaluation_strategy=\"steps\",\n",
        "  num_train_epochs=30,\n",
        "  gradient_checkpointing=True,\n",
        "  fp16=True,\n",
        "  save_steps=200,\n",
        "  eval_steps=200,\n",
        "  logging_steps=200,\n",
        "  learning_rate=3e-4,\n",
        "  warmup_steps=500,\n",
        "  save_total_limit=2,\n",
        "  push_to_hub=True,\n",
        ")"
      ],
      "execution_count": 39,
      "outputs": []
    },
    {
      "cell_type": "markdown",
      "metadata": {
        "id": "OsW-WZcL1ZtN"
      },
      "source": [
        "Now, all instances can be passed to Trainer and we are ready to start training!"
      ]
    },
    {
      "cell_type": "code",
      "metadata": {
        "colab": {
          "base_uri": "https://localhost:8080/"
        },
        "id": "rY7vBmFCPFgC",
        "outputId": "b071de0d-efa5-4bfb-a5d9-dbe75d4e245c"
      },
      "source": [
        "from transformers import Trainer\n",
        "\n",
        "trainer = Trainer(\n",
        "    model=model,\n",
        "    data_collator=data_collator,\n",
        "    args=training_args,\n",
        "    compute_metrics=compute_metrics,\n",
        "    train_dataset=common_voice_train,\n",
        "    eval_dataset=common_voice_test,\n",
        "    tokenizer=processor.feature_extractor,\n",
        ")"
      ],
      "execution_count": 42,
      "outputs": [
        {
          "output_type": "stream",
          "name": "stderr",
          "text": [
            "/usr/local/lib/python3.7/dist-packages/huggingface_hub/hf_api.py:718: FutureWarning: `create_repo` now takes `token` as an optional positional argument. Be sure to adapt your code!\n",
            "  FutureWarning,\n",
            "/content/wav2vec2-large-xls-r-300m-irish-colab is already a clone of https://huggingface.co/jimregan/wav2vec2-large-xls-r-300m-irish-colab. Make sure you pull the latest changes with `repo.git_pull()`.\n",
            "Using amp fp16 backend\n"
          ]
        }
      ]
    },
    {
      "cell_type": "markdown",
      "metadata": {
        "id": "UoXBx1JAA0DX"
      },
      "source": [
        "\n",
        "\n",
        "---\n",
        "\n",
        "${}^1$ To allow models to become independent of the speaker rate, in CTC, consecutive tokens that are identical are simply grouped as a single token. However, the encoded labels should not be grouped when decoding since they don't correspond to the predicted tokens of the model, which is why the `group_tokens=False` parameter has to be passed. If we wouldn't pass this parameter a word like `\"hello\"` would incorrectly be encoded, and decoded as `\"helo\"`.\n",
        "\n",
        "${}^2$ The blank token allows the model to predict a word, such as `\"hello\"` by forcing it to insert the blank token between the two l's. A CTC-conform prediction of `\"hello\"` of our model would be `[PAD] [PAD] \"h\" \"e\" \"e\" \"l\" \"l\" [PAD] \"l\" \"o\" \"o\" [PAD]`."
      ]
    },
    {
      "cell_type": "markdown",
      "metadata": {
        "id": "rpvZHM1xReIW"
      },
      "source": [
        "### Training"
      ]
    },
    "e60388f672044b419f1e44bbbddaab71": {
     "model_module": "@jupyter-widgets/controls",
     "model_module_version": "1.5.0",
     "model_name": "HTMLModel",
     "state": {
      "_dom_classes": [],
      "_model_module": "@jupyter-widgets/controls",
      "_model_module_version": "1.5.0",
      "_model_name": "HTMLModel",
      "_view_count": null,
      "_view_module": "@jupyter-widgets/controls",
      "_view_module_version": "1.5.0",
      "_view_name": "HTMLView",
      "description": "",
      "description_tooltip": null,
      "layout": "IPY_MODEL_0cee9a86adef4ff3ad624a054faa82d7",
      "placeholder": "\u200b",
      "style": "IPY_MODEL_703f4921fd2f4dd7868f34d57a4f6ba4",
      "value": ""
     }
    },
    "e64005feac7544b396bc4bea85c338c0": {
     "model_module": "@jupyter-widgets/controls",
     "model_module_version": "1.5.0",
     "model_name": "HTMLModel",
     "state": {
      "_dom_classes": [],
      "_model_module": "@jupyter-widgets/controls",
      "_model_module_version": "1.5.0",
      "_model_name": "HTMLModel",
      "_view_count": null,
      "_view_module": "@jupyter-widgets/controls",
      "_view_module_version": "1.5.0",
      "_view_name": "HTMLView",
      "description": "",
      "description_tooltip": null,
      "layout": "IPY_MODEL_f6729c9be62843ed8229901f64e81550",
      "placeholder": "\u200b",
      "style": "IPY_MODEL_13c65b39457740b7ab5abf4b2931a859",
      "value": " 182/0 [00:00&lt;00:00, 1819.69 examples/s]"
     }
    },
    {
      "cell_type": "markdown",
      "metadata": {
        "id": "7bGgLV2r0yvZ"
      },
      "source": [
        "Depending on what GPU was allocated to your google colab it might be possible that you are seeing an `\"out-of-memory\"` error here. In this case, it's probably best to reduce `per_device_train_batch_size` to 8 or even less and increase [`gradient_accumulation`](https://huggingface.co/transformers/master/main_classes/trainer.html#trainingarguments)."
      ]
    },
    {
      "cell_type": "code",
      "metadata": {
        "colab": {
          "base_uri": "https://localhost:8080/",
          "height": 473
        },
        "id": "9fRr9TG5pGBl",
        "outputId": "1829f7bf-2b4b-40c8-a1b7-4fdab1d1ed4d"
      },
      "source": [
        "trainer.train()"
      ],
      "execution_count": null,
      "outputs": [
        {
          "metadata": {
            "tags": null
          },
          "name": "stderr",
          "output_type": "stream",
          "text": [
            "The following columns in the training set  don't have a corresponding argument in `Wav2Vec2ForCTC.forward` and have been ignored: input_length.\n",
            "***** Running training *****\n",
            "  Num examples = 1038\n",
            "  Num Epochs = 30\n",
            "  Instantaneous batch size per device = 16\n",
            "  Total train batch size (w. parallel, distributed & accumulation) = 32\n",
            "  Gradient Accumulation steps = 2\n",
            "  Total optimization steps = 960\n",
            "/usr/local/lib/python3.7/dist-packages/transformers/feature_extraction_utils.py:158: UserWarning: Creating a tensor from a list of numpy.ndarrays is extremely slow. Please consider converting the list to a single numpy.ndarray with numpy.array() before converting to a tensor. (Triggered internally at  ../torch/csrc/utils/tensor_new.cpp:201.)\n",
            "  tensor = as_tensor(value)\n",
            "/usr/local/lib/python3.7/dist-packages/transformers/models/wav2vec2/modeling_wav2vec2.py:882: UserWarning: __floordiv__ is deprecated, and its behavior will change in a future version of pytorch. It currently rounds toward 0 (like the 'trunc' function NOT 'floor'). This results in incorrect rounding for negative values. To keep the current behavior, use torch.div(a, b, rounding_mode='trunc'), or for actual floor division, use torch.div(a, b, rounding_mode='floor').\n",
            "  return (input_length - kernel_size) // stride + 1\n"
          ]
        },
        {
          "data": {
            "text/html": [
              "\n",
              "    <div>\n",
              "      \n",
              "      <progress value='201' max='960' style='width:300px; height:20px; vertical-align: middle;'></progress>\n",
              "      [201/960 1:07:46 < 4:18:29, 0.05 it/s, Epoch 6.25/30]\n",
              "    </div>\n",
              "    <table border=\"1\" class=\"dataframe\">\n",
              "  <thead>\n",
              "    <tr style=\"text-align: left;\">\n",
              "      <th>Step</th>\n",
              "      <th>Training Loss</th>\n",
              "      <th>Validation Loss</th>\n",
              "      <th>Wer</th>\n",
              "    </tr>\n",
              "  </thead>\n",
              "  <tbody>\n",
              "    <tr>\n",
              "      <td>200</td>\n",
              "      <td>6.219800</td>\n",
              "      <td>3.010181</td>\n",
              "      <td>1.000000</td>\n",
              "    </tr>\n",
              "  </tbody>\n",
              "</table><p>"
            ],
            "text/plain": [
              "<IPython.core.display.HTML object>"
            ]
          },
          "metadata": {},
          "output_type": "display_data"
        },
        {
          "metadata": {
            "tags": null
          },
          "name": "stderr",
          "output_type": "stream",
          "text": [
            "The following columns in the evaluation set  don't have a corresponding argument in `Wav2Vec2ForCTC.forward` and have been ignored: input_length.\n",
            "***** Running Evaluation *****\n",
            "  Num examples = 506\n",
            "  Batch size = 8\n",
            "Saving model checkpoint to wav2vec2-large-xls-r-300m-irish-colab/checkpoint-200\n",
            "Configuration saved in wav2vec2-large-xls-r-300m-irish-colab/checkpoint-200/config.json\n",
            "Model weights saved in wav2vec2-large-xls-r-300m-irish-colab/checkpoint-200/pytorch_model.bin\n",
            "Configuration saved in wav2vec2-large-xls-r-300m-irish-colab/checkpoint-200/preprocessor_config.json\n"
          ]
        }
      ]
    },
    {
      "cell_type": "markdown",
      "metadata": {
        "id": "a9q4mgMZplr_"
      },
      "source": [
        "The training loss and validation WER go down nicely."
      ]
    },
    {
      "cell_type": "markdown",
      "metadata": {
        "id": "4Ya7WEy0pd13"
      },
      "source": [
        "You can now upload the result of the training to the 🤗 Hub, just execute this instruction:"
      ]
    },
    "eeec79ad6bee4da39f619af246ccb02a": {
     "model_module": "@jupyter-widgets/controls",
     "model_module_version": "1.5.0",
     "model_name": "HTMLModel",
     "state": {
      "_dom_classes": [],
      "_model_module": "@jupyter-widgets/controls",
      "_model_module_version": "1.5.0",
      "_model_name": "HTMLModel",
      "_view_count": null,
      "_view_module": "@jupyter-widgets/controls",
      "_view_module_version": "1.5.0",
      "_view_name": "HTMLView",
      "description": "",
      "description_tooltip": null,
      "layout": "IPY_MODEL_b3f6df875294417387539fa39075c8b1",
      "placeholder": "\u200b",
      "style": "IPY_MODEL_da66731cd8d44d649d6737915d3bacbd",
      "value": " 1038/1038 [00:00&lt;00:00, 3518.30ex/s]"
     }
    },
    {
      "cell_type": "markdown",
      "metadata": {
        "id": "RHIVc44_fY2N"
      },
      "source": [
        "You can now share this model with all your friends, family, favorite pets: they can all load it with the identifier \"your-username/the-name-you-picked\" so for instance:"
      ]
    },
    {
      "cell_type": "markdown",
      "metadata": {
        "id": "5lWWIKyBpx1h"
      },
      "source": [
        "```python\n",
        "from transformers import AutoModelForCTC, Wav2Vec2Processor\n",
        "\n",
        "model = AutoModelForCTC.from_pretrained(\"patrickvonplaten/wav2vec2-large-xls-r-300m-tr-colab\")\n",
        "processor = Wav2Vec2Processor.from_pretrained(\"patrickvonplaten/wav2vec2-large-xls-r-300m-tr-colab\")\n",
        "```"
      ]
    },
    {
      "cell_type": "markdown",
      "metadata": {
        "id": "pmi1cX0fRBit"
      },
      "source": [
        "For more examples of how XLS-R can be fine-tuned, please take a look at the [official speech recognition examples](https://github.com/huggingface/transformers/tree/master/examples/pytorch/speech-recognition#examples)."
      ]
    },
    {
      "cell_type": "markdown",
      "metadata": {
        "id": "L8b8Qkoy3KyS"
      },
      "source": [
        "### Evaluation\n",
        "\n",
        "As a final check, let's load the model and verify that it indeed has learned to transcribe Turkish speech.\n",
        "\n",
        "Let's first load the pretrained checkpoint."
      ]
    },
    {
      "cell_type": "code",
      "metadata": {
        "id": "R351I9IQp_9D"
      },
      "source": [
        "model = Wav2Vec2ForCTC.from_pretrained(repo_name).to(\"cuda\")\n",
        "processor = Wav2Vec2Processor.from_pretrained(repo_name)"
      ],
      "execution_count": null,
      "outputs": []
    },
    {
      "cell_type": "markdown",
      "metadata": {
        "id": "jD7TZ1YS3S_K"
      },
      "source": [
        "\n",
        "Now, we will just take the first example of the test set, run it through the model and take the `argmax(...)` of the logits to retrieve the predicted token ids."
      ]
    },
    {
      "cell_type": "code",
      "metadata": {
        "id": "pax07TnL3WZn"
      },
      "source": [
        "input_dict = processor(common_voice_test[0][\"input_values\"], return_tensors=\"pt\", padding=True)\n",
        "\n",
        "logits = model(input_dict.input_values.to(\"cuda\")).logits\n",
        "\n",
        "pred_ids = torch.argmax(logits, dim=-1)[0]"
      ],
      "execution_count": null,
      "outputs": []
    },
    "f7524fac554b46f5ab66eb196d73fb8c": {
     "model_module": "@jupyter-widgets/controls",
     "model_module_version": "1.5.0",
     "model_name": "HTMLModel",
     "state": {
      "_dom_classes": [],
      "_model_module": "@jupyter-widgets/controls",
      "_model_module_version": "1.5.0",
      "_model_name": "HTMLModel",
      "_view_count": null,
      "_view_module": "@jupyter-widgets/controls",
      "_view_module_version": "1.5.0",
      "_view_name": "HTMLView",
      "description": "",
      "description_tooltip": null,
      "layout": "IPY_MODEL_991335059c544930a3066d5d6d9ce338",
      "placeholder": "\u200b",
      "style": "IPY_MODEL_c26da0359c6f4b73867ae591087251bc",
      "value": " 4.55k/? [00:00&lt;00:00, 62.8kB/s]"
     }
    },
    {
      "cell_type": "code",
      "metadata": {
        "id": "fe2AE-2xqKHx"
      },
      "source": [
        "common_voice_test_transcription = load_dataset(\"common_voice\", \"tr\", data_dir=\"./cv-corpus-6.1-2020-12-11\", split=\"test\")"
      ],
      "execution_count": null,
      "outputs": []
    },
    {
      "cell_type": "markdown",
      "metadata": {
        "id": "epu8kCQZ3h70"
      },
      "source": [
        "\n",
        "Finally, we can decode the example."
      ]
    },
    "fd86bed8a7c34b399ae329c45287ff3b": {
     "model_module": "@jupyter-widgets/controls",
     "model_module_version": "1.5.0",
     "model_name": "HTMLModel",
     "state": {
      "_dom_classes": [],
      "_model_module": "@jupyter-widgets/controls",
      "_model_module_version": "1.5.0",
      "_model_name": "HTMLModel",
      "_view_count": null,
      "_view_module": "@jupyter-widgets/controls",
      "_view_module_version": "1.5.0",
      "_view_name": "HTMLView",
      "description": "",
      "description_tooltip": null,
      "layout": "IPY_MODEL_442406a5cad34d18b4846d0b0923fb84",
      "placeholder": "\u200b",
      "style": "IPY_MODEL_a0e6c108b8b4403fbbc6c36c503b681b",
      "value": " 1883/0 [00:00&lt;00:00, 7177.82 examples/s]"
     }
    },
    "ff52d62efc424613b68e7670f924a222": {
     "model_module": "@jupyter-widgets/controls",
     "model_module_version": "1.5.0",
     "model_name": "HTMLModel",
     "state": {
      "_dom_classes": [],
      "_model_module": "@jupyter-widgets/controls",
      "_model_module_version": "1.5.0",
      "_model_name": "HTMLModel",
      "_view_count": null,
      "_view_module": "@jupyter-widgets/controls",
      "_view_module_version": "1.5.0",
      "_view_name": "HTMLView",
      "description": "",
      "description_tooltip": null,
      "layout": "IPY_MODEL_57756ef2633c4b6d9d45dbd86ef1c58a",
      "placeholder": "\u200b",
      "style": "IPY_MODEL_97c1d1adde974941836da7c52592ed18",
      "value": " 161k/? [00:00&lt;00:00, 3.14MB/s]"
     }
    }
  ]
}