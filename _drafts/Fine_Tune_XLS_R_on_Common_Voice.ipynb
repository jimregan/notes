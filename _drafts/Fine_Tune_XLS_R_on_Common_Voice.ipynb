{
 "cells": [
  {
   "cell_type": "markdown",
   "metadata": {
    "id": "LBSYoWbi-45k"
   },
   "source": [
    "# **Fine-tuning XLS-R for Multi-Lingual ASR with \ud83e\udd17 Transformers**\n",
    "\n",
    "***New (11/2021)***: *This blog post has been updated to feature XLSR's successor, called [XLS-R](https://huggingface.co/models?other=xls_r)*."
   ]
  },
  {
   "cell_type": "markdown",
   "metadata": {
    "id": "V7YOT2mnUiea"
   },
   "source": [
    "**Wav2Vec2** is a pretrained model for Automatic Speech Recognition (ASR) and was released in [September 2020](https://ai.facebook.com/blog/wav2vec-20-learning-the-structure-of-speech-from-raw-audio/) by *Alexei Baevski, Michael Auli, and Alex Conneau*.  Soon after the superior performance of Wav2Vec2 was demonstrated on one of the most popular English datasets for ASR, called [LibriSpeech](https://huggingface.co/datasets/librispeech_asr), *Facebook AI* presented a multi-lingual version of Wav2Vec2, called [XLSR](https://arxiv.org/abs/2006.13979). XLSR stands for *cross-lingual speech representations* and refers to model's ability to learn speech representations that are useful across multiple languages.\n",
    "\n",
    "XLSR's successor, simply called **XLS-R** (refering to the [*''XLM-R*](https://ai.facebook.com/blog/-xlm-r-state-of-the-art-cross-lingual-understanding-through-self-supervision/) *for Speech''*), was released in [November 2021](https://ai.facebook.com/blog/xls-r-self-supervised-speech-processing-for-128-languages) by *Arun Babu, Changhan Wang, Andros Tjandra, et al.* XLS-R used almost **half a million** hours of audio data in 128 languages for self-supervised pre-training and comes in sizes ranging from 300 milion up to **two billion** parameters. You can find the pretrained checkpoints on the \ud83e\udd17 Hub:\n",
    "\n",
    "- [**Wav2Vec2-XLS-R-300M**](https://huggingface.co/facebook/wav2vec2-xls-r-300m)\n",
    "- [**Wav2Vec2-XLS-R-1B**](https://huggingface.co/facebook/wav2vec2-xls-r-1b)\n",
    "- [**Wav2Vec2-XLS-R-2B**](https://huggingface.co/facebook/wav2vec2-xls-r-2b)\n",
    "\n",
    "Similar to [BERT's masked language modeling objective](http://jalammar.github.io/illustrated-bert/), XLS-R learns contextualized speech representations by randomly masking feature vectors before passing them to a transformer network during self-supervised pre-training (*i.e.* diagram on the left below). \n",
    "\n",
    "For fine-tuning, a single linear layer is added on top of the pre-trained network to train the model on labeled data of audio downstream tasks such as speech recognition, speech translation and audio classification (*i.e.* diagram on the right below).\n",
    "\n",
    "![wav2vec2_structure](https://raw.githubusercontent.com/patrickvonplaten/scientific_images/master/xls_r.png)\n",
    "\n",
    "XLS-R shows impressive improvements over previous state-of-the-art results on both speech recognition, speech translation and speaker/language identification, *cf.* with Table 3-6, Table 7-10, and Table 11-12 respectively of the official [paper](https://ai.facebook.com/blog/xls-r-self-supervised-speech-processing-for-128-languages)."
   ]
  },
  {
   "cell_type": "markdown",
   "metadata": {
    "id": "nT_QrfWtsxIz"
   },
   "source": [
    "## Notebook Setup"
   ]
  },
  {
   "cell_type": "markdown",
   "metadata": {
    "id": "kruqixOYHaIo"
   },
   "source": [
    "\n",
    "In this notebook, we will give an in-detail explanation of how XLS-R - more specifically the pre-trained checkpoint [**Wav2Vec2-XLS-R-300M**](https://huggingface.co/facebook/wav2vec2-xls-r-300m) - can be fine-tuned for ASR.  \n",
    "\n",
    "For demonstration purposes, we fine-tune the model on the low resource ASR dataset of [Common Voice](https://huggingface.co/datasets/common_voice) that contains only *ca.* 4h of validated training data."
   ]
  },
  {
   "cell_type": "markdown",
   "metadata": {
    "id": "Gx9OdDYrCtQ1"
   },
   "source": [
    "XLS-R is fine-tuned using Connectionist Temporal Classification (CTC), which is an algorithm that is used to train neural networks for sequence-to-sequence problems, such as ASR and handwriting recognition. \n",
    "\n",
    "I highly recommend reading the well-written blog post [*Sequence Modeling with CTC (2017)*](https://distill.pub/2017/ctc/) by Awni Hannun."
   ]
  },
  {
   "cell_type": "markdown",
   "metadata": {
    "id": "wcHuXIaWyHZU"
   },
   "source": [
    "First, let's try to get a good GPU in our colab! With Google Colab's free version it's sadly becoming much harder to get access to a good GPU. With Google Colab Pro, however, one should easily get either a V100 or P100 GPU."
   ]
  },
  {
   "cell_type": "code",
   "execution_count": 2,
   "metadata": {
    "colab": {
     "base_uri": "https://localhost:8080/"
    },
    "id": "YELVqGxMxnbG",
    "outputId": "8fe5732e-d2c9-4ba5-9574-f270362b35f7"
   },
   "outputs": [
    {
     "name": "stdout",
     "output_type": "stream",
     "text": [
      "Wed Nov 24 19:03:54 2021       \n+-----------------------------------------------------------------------------+\n| NVIDIA-SMI 460.73.01    Driver Version: 460.73.01    CUDA Version: 11.2     |\n|-------------------------------+----------------------+----------------------+\n| GPU  Name        Persistence-M| Bus-Id        Disp.A | Volatile Uncorr. ECC |\n| Fan  Temp  Perf  Pwr:Usage/Cap|         Memory-Usage | GPU-Util  Compute M. |\n|                               |                      |               MIG M. |\n|===============================+======================+======================|\n|   0  Quadro RTX 8000     Off  | 00000000:17:00.0 Off |                  Off |\n| 33%   25C    P8    10W / 260W |      5MiB / 48601MiB |      0%   E. Process |\n|                               |                      |                  N/A |\n+-------------------------------+----------------------+----------------------+\n|   1  Quadro RTX 8000     Off  | 00000000:73:00.0 Off |                  Off |\n| 33%   27C    P8     8W / 260W |     16MiB / 48600MiB |      0%   E. Process |\n|                               |                      |                  N/A |\n+-------------------------------+----------------------+----------------------+\n                                                                               \n+-----------------------------------------------------------------------------+\n| Processes:                                                                  |\n|  GPU   GI   CI        PID   Type   Process name                  GPU Memory |\n|        ID   ID                                                   Usage      |\n|=============================================================================|\n|    0   N/A  N/A      1820      G   /usr/lib/xorg/Xorg                  4MiB |\n|    1   N/A  N/A      1820      G   /usr/lib/xorg/Xorg                 10MiB |\n|    1   N/A  N/A      2044      G   /usr/bin/gnome-shell                4MiB |\n+-----------------------------------------------------------------------------+\n"
     ]
    }
   ],
   "source": [
    "gpu_info = !nvidia-smi\n",
    "gpu_info = '\\n'.join(gpu_info)\n",
    "if gpu_info.find('failed') >= 0:\n",
    "  print('Not connected to a GPU')\n",
    "else:\n",
    "  print(gpu_info)"
   ]
  },
  {
   "cell_type": "markdown",
   "metadata": {
    "id": "e335hPmdtASZ"
   },
   "source": [
    "Before we start, let's install `datasets` and `transformers`. Also, we need the `torchaudio` to load audio files and `jiwer` to evaluate our fine-tuned model using the [word error rate (WER)](https://huggingface.co/metrics/wer) metric ${}^1$."
   ]
  },
  {
   "cell_type": "code",
   "execution_count": 3,
   "metadata": {
    "id": "c8eh87Hoee5d"
   },
   "outputs": [],
   "source": [
    "%%capture\n",
    "!pip install datasets==1.13.3\n",
    "!pip install transformers==4.11.3\n",
    "!pip install huggingface_hub==0.1\n",
    "!pip install torchaudio==0.10.0+cu113 -f https://download.pytorch.org/whl/cu113/torch_stable.html\n",
    "!pip install jiwer"
   ]
  },
  {
   "cell_type": "markdown",
   "metadata": {
    "id": "0xxt_LwxDQlO"
   },
   "source": [
    "We strongly suggest to upload your training checkpoints directly to the [\ud83e\udd17 Hub](https://huggingface.co/) while training. The [\ud83e\udd17 Hub](https://huggingface.co/) has integrated version control so you can be sure that no model checkpoint is getting lost during training. \n",
    "\n",
    "To do so you have to store your authentication token from the Hugging Face website (sign up [here](https://huggingface.co/join) if you haven't already!)"
   ]
  },
  {
   "cell_type": "code",
   "execution_count": 3,
   "metadata": {
    "id": "ljQ0E2LSqsbQ"
   },
   "outputs": [],
   "source": [
    "!git config --global credential.helper store"
   ]
  },
  {
   "cell_type": "code",
   "execution_count": 4,
   "metadata": {
    "colab": {
     "base_uri": "https://localhost:8080/",
     "height": 283,
     "referenced_widgets": [
      "d691f2f33bba4bfab88a6e8964e4daf4",
      "a0e26c581876448e802a366192006553",
      "29dcf99bbc174a62ac7301430bef4be4",
      "2a224f82873240ca9d37602b7ed2aaab",
      "fb90a99ad1744673b20b8d4d631b0641",
      "59e40b080a534a16b5f1285f8dcfb716",
      "7a26e83c3c444829a8a685d7f8f07ef5",
      "9828e6850d2e422a83cd919567d3a2f6",
      "704546b24f464e7dba9528ff52fd8891",
      "25580d530df5448786cb11d39d835191",
      "1236daf2b9c94c969c7046216c310c45",
      "aa2d61eb8da84dbf819918d979c1fd00",
      "ecbf1498955b4bf6a8769b589f679018",
      "58a2a3d608bd47d9855126c8e7d4519d",
      "1cd7a99c6b844228abbdc14fde5cd1c5",
      "8e0d381b96b6495883bfb8b1c5da323c"
     ]
    },
    "id": "mlMSH3T3EazV",
    "outputId": "a59d773e-b4e4-4233-8524-5ffc983e8b11"
   },
   "outputs": [
    {
     "data": {
      "text/plain": [
       "VBox(children=(HTML(value=\"<center>\\n<img src=https://huggingface.co/front/assets/huggingface_logo-noborder.sv\u2026"
      ]
     },
     "execution_count": 4,
     "metadata": {},
     "output_type": "display_data"
    }
   ],
   "source": [
    "from huggingface_hub import notebook_login\n",
    "\n",
    "notebook_login()"
   ]
  },
  {
   "cell_type": "markdown",
   "metadata": {
    "id": "ujdZ2TxhElk6"
   },
   "source": [
    "\n",
    "Then you need to install Git-LFS to upload your model checkpoints:"
   ]
  },
  {
   "cell_type": "code",
   "execution_count": 5,
   "metadata": {
    "id": "WcR-d83OEkqb"
   },
   "outputs": [],
   "source": [
    "%%capture\n",
    "!apt install git-lfs"
   ]
  },
  {
   "cell_type": "markdown",
   "metadata": {
    "id": "Mn9swf6EQ9Vd"
   },
   "source": [
    "\n",
    "\n",
    "\n",
    "---\n",
    "\n",
    "${}^1$ In the [paper](https://arxiv.org/pdf/2006.13979.pdf), the model was evaluated using the phoneme error rate (PER), but by far the most common metric in ASR is the word error rate (WER). To keep this notebook as general as possible we decided to evaluate the model using WER."
   ]
  },
  {
   "cell_type": "markdown",
   "metadata": {
    "id": "0mW-C1Nt-j7k"
   },
   "source": [
    "## Prepare Data, Tokenizer, Feature Extractor"
   ]
  },
  {
   "cell_type": "markdown",
   "metadata": {
    "id": "BeBosnY9BH3e"
   },
   "source": [
    "ASR models transcribe speech to text, which means that we both need a feature extractor that processes the speech signal to the model's input format, *e.g.* a feature vector, and a tokenizer that processes the model's output format to text. \n",
    "\n",
    "In \ud83e\udd17 Transformers, the XLS-R model is thus accompanied by both a tokenizer, called [Wav2Vec2CTCTokenizer](https://huggingface.co/transformers/master/model_doc/wav2vec2.html#wav2vec2ctctokenizer), and a feature extractor, called [Wav2Vec2FeatureExtractor](https://huggingface.co/transformers/master/model_doc/wav2vec2.html#wav2vec2featureextractor).\n",
    "\n",
    "Let's start by creating the tokenizer to decode the predicted output classes to the output transcription."
   ]
  },
  {
   "cell_type": "markdown",
   "metadata": {
    "id": "sEXEWEJGQPqD"
   },
   "source": [
    "### Create `Wav2Vec2CTCTokenizer`"
   ]
  },
  {
   "cell_type": "markdown",
   "metadata": {
    "id": "tWmMikuNEKl_"
   },
   "source": [
    "A pre-trained XLS-R model maps the speech signal to a sequence of context representations as illustrated in the figure above. However, for speech recognition the model has to to map this sequence of context representations to its corresponding transcription which means that a linear layer has to be added on top of the transformer block (shown in yellow in the diagram above). This linear layer is used to classifies each context representation to a token class analogous how, *e.g.*, after pretraining a linear layer is added on top of BERT's embeddings for further classification - *cf.* with *'BERT'* section of this [blog post](https://huggingface.co/blog/warm-starting-encoder-decoder)."
   ]
  },
  {
   "cell_type": "markdown",
   "metadata": {
    "id": "v5oRE8XjIUH3"
   },
   "source": [
    "The output size of this layer corresponds to the number of tokens in the vocabulary, which does **not** depend onXLS-R's pretraining task, but only on the labeled dataset used for fine-tuning. So in the first step, we will take a look at the chosen dataset of Common Voice and define a vocabulary based on the transcriptions."
   ]
  },
  {
   "cell_type": "markdown",
   "metadata": {
    "id": "idBczw8mWzgt"
   },
   "source": [
    "First, let's go to Common Voice [official website](https://commonvoice.mozilla.org/en/datasets) and pick a language to fine-tune XLS-R on. For this notebook, we will use Turkish. \n",
    "\n",
    "For each language-specific dataset, you can find a language code corresponding to your chosen language. On [Common Voice](https://commonvoice.mozilla.org/en/datasets), look for the field \"Version\". The language code then corresponds to the prefix before the underscore. For Turkish, *e.g.* the language code is `\"tr\"`.\n",
    "\n",
    "Great, now we can use \ud83e\udd17 Datasets' simple API to download the data. The dataset name is `\"common_voice\"`, the configuration name corresponds to the language code, which is `\"tr\"` in our case."
   ]
  },
  {
   "cell_type": "markdown",
   "metadata": {
    "id": "bee4g9rpLxll"
   },
   "source": [
    "Common Voice has many different splits including `invalidated`, which refers to data that was not rated as \"clean enough\" to be considered useful. In this notebook, we will only make use of the splits `\"train\"`, `\"validation\"` and `\"test\"`. \n",
    "\n",
    "Because the Turkish dataset is so small, we will merge both the validation and training data into a training dataset and only use the test data for validation."
   ]
  },
  {
   "cell_type": "code",
   "execution_count": 6,
   "metadata": {
    "colab": {
     "base_uri": "https://localhost:8080/",
     "height": 373,
     "referenced_widgets": [
      "3c7d063b2ff34e3daac1563e85bf254b",
      "212f7e5ec9bb4c769c0c40ef16cc9c22",
      "4d8b548b015647e7a03d173c0210003f",
      "8318e59848ad4f48b845aa15bfee14b3",
      "b9e7bd84fad24db492fa0df4723a2efd",
      "19cc5ead031a409fbd22c27221aea213",
      "d3a9358beef6459ba063f4c3011cc4b5",
      "186251c872b94be39323363d48a3be59",
      "03df7be0c20047ca81ca6a813205ac64",
      "29accfd7071f4060905134c8794cae14",
      "535ee96936744708b3223d02c8d3d814",
      "0e8a1ade0a594d5094e21714f56d83a0",
      "ee1d0c03ad534d30a65693f39a9b2448",
      "3f904973fd3c4d98a322fe8079a1e614",
      "d1aba60f1c764be3a045e751af34891b",
      "ff52d62efc424613b68e7670f924a222",
      "323365ad271a47df9090510c25179820",
      "19f3738024d54f10af1fd28eddfbb597",
      "30d15f00faa24a889fd4ff7850220c1b",
      "040c74a1e6c647aaa3c3a24b29686d20",
      "97c1d1adde974941836da7c52592ed18",
      "57756ef2633c4b6d9d45dbd86ef1c58a",
      "f8a8a928933c4f5aa6c94fd2d31951d2",
      "c2b1e7d709dd4486b4c46a0b7a0b2691",
      "316fc27acc8e4a389ee24361bbae3574",
      "c0c180b6c5654378a34d8f5412f14834",
      "c05c519bfb90452693d4a86f41b1982a",
      "d20f957ccf7f474d890df4f5ca746ce7",
      "b00d8bd8e91842609cab8a9cbf07648b",
      "35dd171a360d43489e8b70653afe2efd",
      "7678f93df87149f79185b2a142d9d1c6",
      "0b220fab7f954b8abe429e5880c16125",
      "48be87f262024cce9954b7162ee9a3b8",
      "d5a5cdc5d4bf4e808e228f33e3d5d954",
      "1da4d9a1225046be8a344593f78b9753",
      "e60388f672044b419f1e44bbbddaab71",
      "2c0285e9eeb840e78c5bd598298946fa",
      "5b2f42ef41c0478aa9a7adf49f91923a",
      "703f4921fd2f4dd7868f34d57a4f6ba4",
      "0cee9a86adef4ff3ad624a054faa82d7",
      "100323f0cbb04891bcbfff9204daaf7d",
      "0e435bb252504fdd8f041e74a9e805e0",
      "0efdab7553384b939a723b59e4e32b03",
      "b0cd66f3807c45668a9282d0c71a1594",
      "272899bc143341adbbf4bacc4a9b49da",
      "65235c10925042b39c23a9aace6c18d1",
      "c81067e07b4f4a58834fce2a61576eeb",
      "dea3e2e17ced4c76bef6f5e8efe606d9",
      "1fbefc015c124c559fff42c6212891fb",
      "d771b402f28f4e919e7ea64fa1d0136e",
      "0fa98db3fefe4cccbae866ed79c25868",
      "bf335ecbd1b84d55a8ee212c21f5f5d5",
      "0b8e95fc10f0410eb5108216c347412f",
      "9f97deaf66c14f9ea29e4e606d1f44ff",
      "1aaac3981fa946debd193b43a3b1e4a3",
      "e2f7a56d3bc44c5cae3d1b9f1a6b786f",
      "52dcd002d7a84d97bfb3a373c139f006",
      "a4742ee3ed8d481fa99f375d29aa106d",
      "c1380da84f694064a241ea8ddebab249",
      "e64005feac7544b396bc4bea85c338c0",
      "c71de80878a04d44a3b8149b264e7d4b",
      "7c4815bc53ac4981bf3dacc8dbbf1fdd",
      "c7eedf1f77af4d7ead98fc5afa4da219",
      "0cb90467135647a296130eaaa218338a",
      "13c65b39457740b7ab5abf4b2931a859",
      "f6729c9be62843ed8229901f64e81550",
      "dd25213f297e47ab9828ba2a7ee92056",
      "a09ec424c17e4c5abff9b4980fec72f6",
      "8dd89aed30e6431f911910f2811326d6",
      "9288a1388b2d4772ac21cb9414c86ee1",
      "fd86bed8a7c34b399ae329c45287ff3b",
      "3f9417297a5d4f47bc9ebadb81665e43",
      "30e365417e8e4bab818779955996472a",
      "a1a33acb3820483cb0f20014604d2ef9",
      "d813024ab46546109280971ae0a2270a",
      "a0e6c108b8b4403fbbc6c36c503b681b",
      "442406a5cad34d18b4846d0b0923fb84",
      "26d065c560ce46e1bba09f64211bf11c",
      "f485580dd8b24b6bb9ea1a1d5befee1d",
      "8aba312c6498435387e16cc3dd4632f9",
      "e58a3678ebd64623926da0444f25078e",
      "40d802c03f8245b796f4ac41e8b18029",
      "6c57382d79f4499ea311358d47a22651",
      "f60b05285d4b4e10a743b6fdedbfb906",
      "5432f556c36f4bc4802da4d820094289",
      "f093d8278c414e8d995781bdd6b3bd11",
      "d5bf5ac0ddd94dbbb56af95c46d0f1aa",
      "81b2849fd8de48849e6ae55df4aafafb"
     ]
    },
    "id": "2MMXcWFFgCXU",
    "outputId": "d2f744e0-b0db-4abe-e11d-0ec954ba8bbf"
   },
   "outputs": [
    {
     "data": {
      "text/plain": [
       "Downloading:   0%|          | 0.00/4.44k [00:00<?, ?B/s]"
      ]
     },
     "execution_count": 5,
     "metadata": {},
     "output_type": "display_data"
    },
    {
     "data": {
      "text/plain": [
       "Downloading:   0%|          | 0.00/10.2k [00:00<?, ?B/s]"
      ]
     },
     "execution_count": 5,
     "metadata": {},
     "output_type": "display_data"
    }
   ],
   "source": [
    "from datasets import load_dataset, load_metric, Audio\n",
    "\n",
    "common_voice_train = load_dataset(\"common_voice\", \"ga-IE\", split=\"train+validation\")\n",
    "common_voice_test = load_dataset(\"common_voice\", \"ga-IE\", split=\"test\")"
   ]
  },
  {
   "cell_type": "markdown",
   "metadata": {
    "id": "ri5y5N_HMANq"
   },
   "source": [
    "Many ASR datasets only provide the target text, `'sentence'` for each audio array `'audio'` and file `'path'`. Common Voice actually provides much more information about each audio file, such as the `'accent'`, etc. Keeping the notebook as general as possible, we only consider the transcribed text for fine-tuning.\n",
    "\n"
   ]
  },
  {
   "cell_type": "code",
   "execution_count": 7,
   "metadata": {
    "id": "kbyq6lDgQc2a"
   },
   "outputs": [],
   "source": [
    "common_voice_train = common_voice_train.remove_columns([\"accent\", \"age\", \"client_id\", \"down_votes\", \"gender\", \"locale\", \"segment\", \"up_votes\"])\n",
    "common_voice_test = common_voice_test.remove_columns([\"accent\", \"age\", \"client_id\", \"down_votes\", \"gender\", \"locale\", \"segment\", \"up_votes\"])"
   ]
  },
  {
   "cell_type": "markdown",
   "metadata": {
    "id": "Go9Hq4e4NDT9"
   },
   "source": [
    "Let's write a short function to display some random samples of the dataset and run it a couple of times to get a feeling for the transcriptions."
   ]
  },
  {
   "cell_type": "code",
   "execution_count": 8,
   "metadata": {
    "id": "72737oog2F6U"
   },
   "outputs": [],
   "source": [
    "from datasets import ClassLabel\n",
    "import random\n",
    "import pandas as pd\n",
    "from IPython.display import display, HTML\n",
    "\n",
    "def show_random_elements(dataset, num_examples=10):\n",
    "    assert num_examples <= len(dataset), \"Can't pick more elements than there are in the dataset.\"\n",
    "    picks = []\n",
    "    for _ in range(num_examples):\n",
    "        pick = random.randint(0, len(dataset)-1)\n",
    "        while pick in picks:\n",
    "            pick = random.randint(0, len(dataset)-1)\n",
    "        picks.append(pick)\n",
    "    \n",
    "    df = pd.DataFrame(dataset[picks])\n",
    "    display(HTML(df.to_html()))"
   ]
  },
  {
   "cell_type": "code",
   "execution_count": 9,
   "metadata": {
    "colab": {
     "base_uri": "https://localhost:8080/",
     "height": 363
    },
    "id": "K_JUmf3G3b9S",
    "outputId": "fe061928-d9b9-4e59-bcca-5da0c0624f0d"
   },
   "outputs": [
    {
     "data": {
      "text/html": [
       "<table border=\"1\" class=\"dataframe\">\n",
       "  <thead>\n",
       "    <tr style=\"text-align: right;\">\n",
       "      <th></th>\n",
       "      <th>sentence</th>\n",
       "    </tr>\n",
       "  </thead>\n",
       "  <tbody>\n",
       "    <tr>\n",
       "      <th>0</th>\n",
       "      <td>Is meabhr\u00fach\u00e1n spreag\u00fail \u00e9 den tallann fiontra\u00edochta at\u00e1 ag forbairt agus ag f\u00e1s in\u00e1r dt\u00edr</td>\n",
       "    </tr>\n",
       "    <tr>\n",
       "      <th>1</th>\n",
       "      <td>Is m\u00f3r an pl\u00e9isi\u00far dom a bheith anseo libh i bPr\u00edos\u00fan Mhuinse\u00f3</td>\n",
       "    </tr>\n",
       "    <tr>\n",
       "      <th>2</th>\n",
       "      <td>Bh\u00ed leabhar bu\u00ed agam an l\u00e1 faoi dheireadh, ach n\u00edl s\u00e9 agam anois</td>\n",
       "    </tr>\n",
       "    <tr>\n",
       "      <th>3</th>\n",
       "      <td>L\u00e1 bre\u00e1, is ea \u00e9.</td>\n",
       "    </tr>\n",
       "    <tr>\n",
       "      <th>4</th>\n",
       "      <td>An treoir le haghaidh scr\u00edbhneoireachta.</td>\n",
       "    </tr>\n",
       "    <tr>\n",
       "      <th>5</th>\n",
       "      <td>is fear \u00e9</td>\n",
       "    </tr>\n",
       "    <tr>\n",
       "      <th>6</th>\n",
       "      <td>Bh\u00ed s\u00e9 sa bhaile</td>\n",
       "    </tr>\n",
       "    <tr>\n",
       "      <th>7</th>\n",
       "      <td>Is l\u00e1 \u00e9 seo chun c\u00e9ili\u00faradh a dh\u00e9anamh</td>\n",
       "    </tr>\n",
       "    <tr>\n",
       "      <th>8</th>\n",
       "      <td>Is \u00ed sin an obair at\u00e1 \u00e1 ceili\u00faradh againn anocht</td>\n",
       "    </tr>\n",
       "    <tr>\n",
       "      <th>9</th>\n",
       "      <td>Is iad na muca ci\u00faine a itheann an mhin</td>\n",
       "    </tr>\n",
       "  </tbody>\n",
       "</table>"
      ],
      "text/plain": [
       "<IPython.core.display.HTML object>"
      ]
     },
     "metadata": {},
     "output_type": "display_data"
    }
   ],
   "source": [
    "show_random_elements(common_voice_train.remove_columns([\"path\", \"audio\"]), num_examples=10)"
   ]
  },
  {
   "cell_type": "markdown",
   "metadata": {
    "id": "fowcOllGNNju"
   },
   "source": [
    "Alright! The transcriptions look fairly clean. Having translated the transcribed sentences, it seems that the language corresponds more to written-out text than noisy dialogue. This makes sense considering that [Common Voice](https://huggingface.co/datasets/common_voice) is a crowd-sourced read speech corpus."
   ]
  },
  {
   "cell_type": "markdown",
   "metadata": {
    "id": "vq7OR50LN49m"
   },
   "source": [
    "We can see that the transcriptions contain some special characters, such as `,.?!;:`. Without a language model, it is much harder to classify speech chunks to such special characters because they don't really correspond to a characteristic sound unit. *E.g.*, the letter `\"s\"` has a more or less clear sound, whereas the special character `\".\"` does not.\n",
    "Also in order to understand the meaning of a speech signal, it is usually not necessary to include special characters in the transcription.\n",
    "\n",
    "Let's simply remove all characters that don't contribute to the meaning of a word and cannot really be represented by an acoustic sound and normalize the text."
   ]
  },
  {
   "cell_type": "code",
   "execution_count": 10,
   "metadata": {
    "id": "svKzVJ_hQGK6"
   },
   "outputs": [],
   "source": [
    "import re\n",
    "chars_to_remove_regex = '[\\,\\?\\.\\!\\-\\;\\:\\\"\\\u201c\\%\\\u2018\\\u201d\\\ufffd\\(\\)\u2013\\*]'\n",
    "\n",
    "def _ga_lc(text):\n",
    "    if text[0:1] in \"nt\" and text[1:2] in \"A\u00c1E\u00c9I\u00cdO\u00d3U\u00da\":\n",
    "        return text[0:1] + \"-\" + text[1:].lower()\n",
    "    else:\n",
    "        return text.lower()\n",
    "\n",
    "def ga_lc(text):\n",
    "    words = []\n",
    "    for word in text.split(\" \"):\n",
    "        words.append(_ga_lc(word))\n",
    "    return \" \".join(words)\n",
    "\n",
    "def remove_special_characters(batch):\n",
    "    batch[\"sentence\"] = re.sub(chars_to_remove_regex, '', batch[\"sentence\"])\n",
    "    batch[\"sentence\"] = batch[\"sentence\"].replace(\"\u2019\", \"'\")\n",
    "    batch[\"sentence\"] = ga_lc(batch[\"sentence\"])\n",
    "    return batch"
   ]
  },
  {
   "cell_type": "code",
   "execution_count": 11,
   "metadata": {
    "colab": {
     "base_uri": "https://localhost:8080/",
     "height": 81,
     "referenced_widgets": [
      "1a84e2e73d3247c19a867f120f675921",
      "31175252c10649c6abdf2acc618dd1b9",
      "d8e7adffd4f4407ba056b6a3114ef767",
      "7762d201d94d4edf879fa6571d6457fb",
      "eeec79ad6bee4da39f619af246ccb02a",
      "8276470fc5294010923843a467e85842",
      "a7a29a5bf3664db7b3c3373d8eb1cedc",
      "0be03e8087ee4627a4513d54b0fa8858",
      "031a7e18021943ffbd6d06a17cb0302f",
      "da66731cd8d44d649d6737915d3bacbd",
      "b3f6df875294417387539fa39075c8b1",
      "bca48f2fac3c40c4be2561337b35d438",
      "ae1ed4851fc54b23926f6aac9413d396",
      "134fedfde5c34fef9a467bd7a2e7bf25",
      "3b8cb5d42eff41299096e324d79b6efb",
      "243ecba5b9094aa88e4c59e86eebed3a",
      "674c9bdeeb9940cda0485f242d2d7b0e",
      "e752c31e4bc2497d98286368b1fec992",
      "c7bb6a7287ee407195246d295f8ee454",
      "5e9eac0556194d5bac232a369697e17d",
      "9c6e369c65de4f50964caa83c3f1c952",
      "211084b543ec439ca237416aeefc762b"
     ]
    },
    "id": "XIHocAuTQbBR",
    "outputId": "6eb193da-f935-4389-9f48-21640800efd4"
   },
   "outputs": [
    {
     "data": {
      "application/vnd.jupyter.widget-view+json": {
       "model_id": "1a84e2e73d3247c19a867f120f675921",
       "version_major": 2,
       "version_minor": 0
      },
      "text/plain": [
       "  0%|          | 0/1038 [00:00<?, ?ex/s]"
      ]
     },
     "metadata": {},
     "output_type": "display_data"
    },
    {
     "data": {
      "application/vnd.jupyter.widget-view+json": {
       "model_id": "bca48f2fac3c40c4be2561337b35d438",
       "version_major": 2,
       "version_minor": 0
      },
      "text/plain": [
       "  0%|          | 0/506 [00:00<?, ?ex/s]"
      ]
     },
     "metadata": {},
     "output_type": "display_data"
    }
   ],
   "source": [
    "common_voice_train = common_voice_train.map(remove_special_characters)\n",
    "common_voice_test = common_voice_test.map(remove_special_characters)"
   ]
  },
  {
   "cell_type": "markdown",
   "metadata": {
    "id": "TxnVS9gIhIma"
   },
   "source": [
    "Let's look at the processed text labels again."
   ]
  },
  {
   "cell_type": "code",
   "execution_count": 12,
   "metadata": {
    "colab": {
     "base_uri": "https://localhost:8080/",
     "height": 363
    },
    "id": "RBDRAAYxRE6n",
    "outputId": "15c432ca-5028-4cd5-a4b6-372f3799313f"
   },
   "outputs": [
    {
     "data": {
      "text/html": [
       "<table border=\"1\" class=\"dataframe\">\n",
       "  <thead>\n",
       "    <tr style=\"text-align: right;\">\n",
       "      <th></th>\n",
       "      <th>sentence</th>\n",
       "    </tr>\n",
       "  </thead>\n",
       "  <tbody>\n",
       "    <tr>\n",
       "      <th>0</th>\n",
       "      <td>cad \u00e9 an dath at\u00e1 air</td>\n",
       "    </tr>\n",
       "    <tr>\n",
       "      <th>1</th>\n",
       "      <td>ba mh\u00f3r an on\u00f3ir dom fresin cuireadh a fh\u00e1il chun crann a chur anseo</td>\n",
       "    </tr>\n",
       "    <tr>\n",
       "      <th>2</th>\n",
       "      <td>is m\u00f3r an pl\u00e9isi\u00far dom \u00e9 mayfest dh\u00e1 mh\u00edle a s\u00e9 d\u00e9ag a oscailt</td>\n",
       "    </tr>\n",
       "    <tr>\n",
       "      <th>3</th>\n",
       "      <td>a chairde daora na h\u00e9ireann agus na breataine bige</td>\n",
       "    </tr>\n",
       "    <tr>\n",
       "      <th>4</th>\n",
       "      <td>ach t\u00e1 \u00e1thas orm aitheantas a thabhairt d'iarrachta\u00ed at\u00e1 \u00e1 nd\u00e9anamh ag gl\u00f3r na ngael</td>\n",
       "    </tr>\n",
       "    <tr>\n",
       "      <th>5</th>\n",
       "      <td>t\u00e1 s\u00e9 n\u00edos fearr anois</td>\n",
       "    </tr>\n",
       "    <tr>\n",
       "      <th>6</th>\n",
       "      <td>tugann s\u00e9 deis do sc\u00e9alaithe na nuafh\u00edse a gc\u00e9ird a fhoghlaim agus a mhaisi\u00fa</td>\n",
       "    </tr>\n",
       "    <tr>\n",
       "      <th>7</th>\n",
       "      <td>\u00f3r\u00e1id ag searmanas bronnadh n\u00e1isi\u00fanta duaiseanna ghl\u00f3r na ngael</td>\n",
       "    </tr>\n",
       "    <tr>\n",
       "      <th>8</th>\n",
       "      <td>t\u00e1 s\u00e9 a deich a chlog</td>\n",
       "    </tr>\n",
       "    <tr>\n",
       "      <th>9</th>\n",
       "      <td>chuaigh s\u00e9 i mbun pinn</td>\n",
       "    </tr>\n",
       "  </tbody>\n",
       "</table>"
      ],
      "text/plain": [
       "<IPython.core.display.HTML object>"
      ]
     },
     "metadata": {},
     "output_type": "display_data"
    }
   ],
   "source": [
    "show_random_elements(common_voice_train.remove_columns([\"path\",\"audio\"]))"
   ]
  },
  {
   "cell_type": "markdown",
   "metadata": {
    "id": "3ORHDb2Th2TW"
   },
   "source": [
    "In CTC, it is common to classify speech chunks into letters, so we will do the same here. \n",
    "Let's extract all distinct letters of the training and test data and build our vocabulary from this set of letters.\n",
    "\n",
    "We write a mapping function that concatenates all transcriptions into one long transcription and then transforms the string into a set of chars. \n",
    "It is important to pass the argument `batched=True` to the `map(...)` function so that the mapping function has access to all transcriptions at once."
   ]
  },
  {
   "cell_type": "code",
   "execution_count": 13,
   "metadata": {
    "id": "LwCshNbbeRZR"
   },
   "outputs": [],
   "source": [
    "def extract_all_chars(batch):\n",
    "  all_text = \" \".join(batch[\"sentence\"])\n",
    "  vocab = list(set(all_text))\n",
    "  return {\"vocab\": [vocab], \"all_text\": [all_text]}"
   ]
  },
  {
   "cell_type": "code",
   "execution_count": 14,
   "metadata": {
    "colab": {
     "base_uri": "https://localhost:8080/",
     "height": 81,
     "referenced_widgets": [
      "8ffc601ec5c74a76b65590acd5e55dad",
      "f26e2e0e1b5f47d0be0fcc2c179b26d3",
      "c08e34ba26154c269aae602bacef3761",
      "4d4a6d6a0f974796908f654756e60e9b",
      "64b4c7ab486e4fa386883e7c7cf683c3",
      "06556f4f05be42aabe588d648fbf87f0",
      "0447519f1cdd4e14abab320103d1b989",
      "0ad5c9a2d17c450f86d1d2bf69b82845",
      "869d648d470e4301a4526ec07f734488",
      "963256e135c84694b72dd6ece19a9279",
      "1bab3ff916ca485faf6cb95008452954",
      "5a8d1f0822b24f95b5736cd454bf47e8",
      "f332558a4b124cdc945c0421ff71a8e0",
      "3689adf4a5d643d39a875e91f37c880d",
      "61fb8da335594364a848d02d171637ee",
      "dbe938f468ff4bb18a9f0bf3e7a1007b",
      "aaeddaf56b7a408b9b5843fd38f087fc",
      "993299f428044734bda27f847706669b",
      "5f766b6dadc44eb3bd9741e1dcdd63b4",
      "4c1492a4b7004ee294b8d22186e0897f",
      "9ca4d09253724716b9f8da04ff28127c",
      "74e4954507e4401095155c61a3c15d7f"
     ]
    },
    "id": "_m6uUjjcfbjH",
    "outputId": "6296cbe4-5291-491a-c8d2-416bbfaad018"
   },
   "outputs": [
    {
     "data": {
      "application/vnd.jupyter.widget-view+json": {
       "model_id": "8ffc601ec5c74a76b65590acd5e55dad",
       "version_major": 2,
       "version_minor": 0
      },
      "text/plain": [
       "  0%|          | 0/1 [00:00<?, ?ba/s]"
      ]
     },
     "metadata": {},
     "output_type": "display_data"
    },
    {
     "data": {
      "application/vnd.jupyter.widget-view+json": {
       "model_id": "5a8d1f0822b24f95b5736cd454bf47e8",
       "version_major": 2,
       "version_minor": 0
      },
      "text/plain": [
       "  0%|          | 0/1 [00:00<?, ?ba/s]"
      ]
     },
     "metadata": {},
     "output_type": "display_data"
    }
   ],
   "source": [
    "vocab_train = common_voice_train.map(extract_all_chars, batched=True, batch_size=-1, keep_in_memory=True, remove_columns=common_voice_train.column_names)\n",
    "vocab_test = common_voice_test.map(extract_all_chars, batched=True, batch_size=-1, keep_in_memory=True, remove_columns=common_voice_test.column_names)"
   ]
  },
  {
   "cell_type": "markdown",
   "metadata": {
    "id": "7oVgE8RZSJNP"
   },
   "source": [
    "Now, we create the union of all distinct letters in the training dataset and test dataset and convert the resulting list into an enumerated dictionary."
   ]
  },
  {
   "cell_type": "code",
   "execution_count": 15,
   "metadata": {
    "id": "aQfneNsmlJI0"
   },
   "outputs": [],
   "source": [
    "vocab_list = list(set(vocab_train[\"vocab\"][0]) | set(vocab_test[\"vocab\"][0]))"
   ]
  },
  {
   "cell_type": "code",
   "execution_count": 16,
   "metadata": {
    "colab": {
     "base_uri": "https://localhost:8080/"
    },
    "id": "_0kRndSvqaKk",
    "outputId": "9f1bf9ff-df7e-4992-d1de-92ce7d57bb4d"
   },
   "outputs": [
    {
     "data": {
      "text/plain": [
       "{' ': 0,\n",
       " \"'\": 1,\n",
       " '-': 2,\n",
       " 'a': 3,\n",
       " 'b': 4,\n",
       " 'c': 5,\n",
       " 'd': 6,\n",
       " 'e': 7,\n",
       " 'f': 8,\n",
       " 'g': 9,\n",
       " 'h': 10,\n",
       " 'i': 11,\n",
       " 'j': 12,\n",
       " 'k': 13,\n",
       " 'l': 14,\n",
       " 'm': 15,\n",
       " 'n': 16,\n",
       " 'o': 17,\n",
       " 'p': 18,\n",
       " 'r': 19,\n",
       " 's': 20,\n",
       " 't': 21,\n",
       " 'u': 22,\n",
       " 'v': 23,\n",
       " 'w': 24,\n",
       " 'x': 25,\n",
       " 'y': 26,\n",
       " '\u00e1': 27,\n",
       " '\u00e9': 28,\n",
       " '\u00ed': 29,\n",
       " '\u00f3': 30,\n",
       " '\u00fa': 31}"
      ]
     },
     "execution_count": 16,
     "metadata": {},
     "output_type": "execute_result"
    }
   ],
   "source": [
    "vocab_dict = {v: k for k, v in enumerate(sorted(vocab_list))}\n",
    "vocab_dict"
   ]
  },
  {
   "cell_type": "markdown",
   "metadata": {
    "id": "JOSzbvs9SXT1"
   },
   "source": [
    "Cool, we see that all letters of the alphabet occur in the dataset (which is not really surprising) and we also extracted the special characters `\"\"` and `'`. Note that we did not exclude those special characters because: \n",
    "\n",
    "The model has to learn to predict when a word is finished or else the model prediction would always be a sequence of chars which would make it impossible to separate words from each other.\n",
    "\n",
    "One should always keep in mind that pre-processing is a very important step before training your model. E.g., we don't want our model to differentiate between `a` and `A` just because we forgot to normalize the data. The difference between `a` and `A` does not depend on the \"sound\" of the letter at all, but more on grammatical rules - *e.g.* use a capitalized letter at the beginning of the sentence. So it is sensible to remove the difference between capitalized and non-capitalized letters so that the model has an easier time learning to transcribe speech. "
   ]
  },
  {
   "cell_type": "markdown",
   "metadata": {
    "id": "b1fBRCn-TRaO"
   },
   "source": [
    "To make it clearer that `\" \"` has its own token class, we give it a more visible character `|`. In addition, we also add an \"unknown\" token so that the model can later deal with characters not encountered in Common Voice's training set. "
   ]
  },
  {
   "cell_type": "code",
   "execution_count": 17,
   "metadata": {
    "id": "npbIbBoLgaFX"
   },
   "outputs": [],
   "source": [
    "vocab_dict[\"|\"] = vocab_dict[\" \"]\n",
    "del vocab_dict[\" \"]"
   ]
  },
  {
   "cell_type": "markdown",
   "metadata": {
    "id": "_9yCWg4Sd0cb"
   },
   "source": [
    "Finally, we also add a padding token that corresponds to CTC's \"*blank token*\". The \"blank token\" is a core component of the CTC algorithm. For more information, please take a look at the \"Alignment\" section [here](https://distill.pub/2017/ctc/)."
   ]
  },
  {
   "cell_type": "code",
   "execution_count": 18,
   "metadata": {
    "colab": {
     "base_uri": "https://localhost:8080/"
    },
    "id": "znF0bNunsjbl",
    "outputId": "baa15452-8793-4673-ed25-b4eda2dfec99"
   },
   "outputs": [
    {
     "data": {
      "text/plain": [
       "34"
      ]
     },
     "execution_count": 18,
     "metadata": {},
     "output_type": "execute_result"
    }
   ],
   "source": [
    "vocab_dict[\"[UNK]\"] = len(vocab_dict)\n",
    "vocab_dict[\"[PAD]\"] = len(vocab_dict)\n",
    "len(vocab_dict)"
   ]
  },
  {
   "cell_type": "markdown",
   "metadata": {
    "id": "SFPGfet8U5sL"
   },
   "source": [
    "Cool, now our vocabulary is complete and consists of 39 tokens, which means that the linear layer that we will add on top of the pretrained XLS-R checkpoint will have an output dimension of 39."
   ]
  },
  {
   "cell_type": "markdown",
   "metadata": {
    "id": "1CujRgBNVRaD"
   },
   "source": [
    "Let's now save the vocabulary as a json file."
   ]
  },
  {
   "cell_type": "code",
   "execution_count": 19,
   "metadata": {
    "id": "ehyUoh9vk191"
   },
   "outputs": [],
   "source": [
    "import json\n",
    "with open('vocab.json', 'w') as vocab_file:\n",
    "    json.dump(vocab_dict, vocab_file)"
   ]
  },
  {
   "cell_type": "markdown",
   "metadata": {
    "id": "SHJDaKlIVVim"
   },
   "source": [
    "In a final step, we use the json file to load the vocabulary into an instance of the `Wav2Vec2CTCTokenizer` class."
   ]
  },
  {
   "cell_type": "code",
   "execution_count": 20,
   "metadata": {
    "colab": {
     "base_uri": "https://localhost:8080/"
    },
    "id": "xriFGEWQkO4M",
    "outputId": "853a17bd-afe5-488a-bbd5-ff6f224d2ece"
   },
   "outputs": [
    {
     "name": "stderr",
     "output_type": "stream",
     "text": [
      "file ./config.json not found\n",
      "Special tokens have been added in the vocabulary, make sure the associated word embeddings are fine-tuned or trained.\n"
     ]
    }
   ],
   "source": [
    "from transformers import Wav2Vec2CTCTokenizer\n",
    "\n",
    "tokenizer = Wav2Vec2CTCTokenizer.from_pretrained(\"./\", unk_token=\"[UNK]\", pad_token=\"[PAD]\", word_delimiter_token=\"|\")"
   ]
  },
  {
   "cell_type": "markdown",
   "metadata": {
    "id": "KvL12DrNV4cx"
   },
   "source": [
    "If one wants to re-use the just created tokenizer with the fine-tuned model of this notebook, it is strongly advised to upload the `tokenizer` to the [\ud83e\udd17 Hub](https://huggingface.co/). Let's call the repo to which we will upload the files\n",
    "`\"wav2vec2-large-xlsr-turkish-demo-colab\"`:"
   ]
  },
  {
   "cell_type": "code",
   "execution_count": 21,
   "metadata": {
    "id": "A1XApZBAF2zr"
   },
   "outputs": [],
   "source": [
    "repo_name = \"wav2vec2-large-xls-r-300m-irish-colab\""
   ]
  },
  {
   "cell_type": "code",
   "execution_count": 22,
   "metadata": {
    "colab": {
     "base_uri": "https://localhost:8080/"
    },
    "id": "b1ghSBGKtLrF",
    "outputId": "20d0339a-f4fd-4da9-a779-4333549d5831"
   },
   "outputs": [
    {
     "name": "stdout",
     "output_type": "stream",
     "text": [
      "\u001b[1m\u001b[31mWARNING! `transformers-cli login` is deprecated and will be removed in v5. Please use `huggingface-cli login` instead.\u001b[0m\n",
      "\n",
      "        _|    _|  _|    _|    _|_|_|    _|_|_|  _|_|_|  _|      _|    _|_|_|      _|_|_|_|    _|_|      _|_|_|  _|_|_|_|\n",
      "        _|    _|  _|    _|  _|        _|          _|    _|_|    _|  _|            _|        _|    _|  _|        _|\n",
      "        _|_|_|_|  _|    _|  _|  _|_|  _|  _|_|    _|    _|  _|  _|  _|  _|_|      _|_|_|    _|_|_|_|  _|        _|_|_|\n",
      "        _|    _|  _|    _|  _|    _|  _|    _|    _|    _|    _|_|  _|    _|      _|        _|    _|  _|        _|\n",
      "        _|    _|    _|_|      _|_|_|    _|_|_|  _|_|_|  _|      _|    _|_|_|      _|        _|    _|    _|_|_|  _|_|_|_|\n",
      "\n",
      "        \n",
      "Username: jimregan\n",
      "Password: \n",
      "Login successful\n",
      "Your token: QesBBGLTWurOVdTKllaNeKyzDraDHjNlgXgiCybgXPjIwxEOJwxFtecuxzHFNpHKaLqBYjYcurRZFQxDjGsJbjDUsyYDEzUddrFbVblmFXVzoDGfueJqGXmtPELecnRr \n",
      "\n",
      "Your token has been saved to /root/.huggingface/token\n"
     ]
    }
   ],
   "source": [
    "!transformers-cli login"
   ]
  },
  {
   "cell_type": "markdown",
   "metadata": {
    "id": "B1BiezWZF16d"
   },
   "source": [
    "and upload the tokenizer to the [\ud83e\udd17 Hub](https://huggingface.co/)."
   ]
  },
  {
   "cell_type": "code",
   "execution_count": 23,
   "metadata": {
    "colab": {
     "base_uri": "https://localhost:8080/",
     "height": 642
    },
    "id": "zytE1175GAKM",
    "outputId": "f96a8746-6ff2-4c79-dbd1-e1df23a7dfb7"
   },
   "outputs": [
    {
     "name": "stderr",
     "output_type": "stream",
     "text": [
      "/usr/local/lib/python3.7/dist-packages/huggingface_hub/hf_api.py:718: FutureWarning: `create_repo` now takes `token` as an optional positional argument. Be sure to adapt your code!\n",
      "  FutureWarning,\n",
      "/usr/local/lib/python3.7/dist-packages/huggingface_hub/hf_api.py:718: FutureWarning: `create_repo` now takes `token` as an optional positional argument. Be sure to adapt your code!\n",
      "  FutureWarning,\n",
      "Cloning https://huggingface.co/jimregan/wav2vec2-large-xls-r-300m-irish-colab into local empty directory.\n"
     ]
    },
    {
     "ename": "OSError",
     "evalue": "ignored",
     "output_type": "error",
     "traceback": [
      "\u001b[0;31m---------------------------------------------------------------------------\u001b[0m",
      "\u001b[0;31mCalledProcessError\u001b[0m                        Traceback (most recent call last)",
      "\u001b[0;32m/usr/local/lib/python3.7/dist-packages/huggingface_hub/repository.py\u001b[0m in \u001b[0;36mgit_commit\u001b[0;34m(self, commit_message)\u001b[0m\n\u001b[1;32m    931\u001b[0m                 \u001b[0mencoding\u001b[0m\u001b[0;34m=\u001b[0m\u001b[0;34m\"utf-8\"\u001b[0m\u001b[0;34m,\u001b[0m\u001b[0;34m\u001b[0m\u001b[0;34m\u001b[0m\u001b[0m\n\u001b[0;32m--> 932\u001b[0;31m                 \u001b[0mcwd\u001b[0m\u001b[0;34m=\u001b[0m\u001b[0mself\u001b[0m\u001b[0;34m.\u001b[0m\u001b[0mlocal_dir\u001b[0m\u001b[0;34m,\u001b[0m\u001b[0;34m\u001b[0m\u001b[0;34m\u001b[0m\u001b[0m\n\u001b[0m\u001b[1;32m    933\u001b[0m             )\n",
      "\u001b[0;32m/usr/lib/python3.7/subprocess.py\u001b[0m in \u001b[0;36mrun\u001b[0;34m(input, capture_output, timeout, check, *popenargs, **kwargs)\u001b[0m\n\u001b[1;32m    511\u001b[0m             raise CalledProcessError(retcode, process.args,\n\u001b[0;32m--> 512\u001b[0;31m                                      output=stdout, stderr=stderr)\n\u001b[0m\u001b[1;32m    513\u001b[0m     \u001b[0;32mreturn\u001b[0m \u001b[0mCompletedProcess\u001b[0m\u001b[0;34m(\u001b[0m\u001b[0mprocess\u001b[0m\u001b[0;34m.\u001b[0m\u001b[0margs\u001b[0m\u001b[0;34m,\u001b[0m \u001b[0mretcode\u001b[0m\u001b[0;34m,\u001b[0m \u001b[0mstdout\u001b[0m\u001b[0;34m,\u001b[0m \u001b[0mstderr\u001b[0m\u001b[0;34m)\u001b[0m\u001b[0;34m\u001b[0m\u001b[0;34m\u001b[0m\u001b[0m\n",
      "\u001b[0;31mCalledProcessError\u001b[0m: Command '['git', 'commit', '-m', 'add tokenizer', '-v']' returned non-zero exit status 1.",
      "\nDuring handling of the above exception, another exception occurred:\n",
      "\u001b[0;31mOSError\u001b[0m                                   Traceback (most recent call last)",
      "\u001b[0;32m<ipython-input-23-e531bb070692>\u001b[0m in \u001b[0;36m<module>\u001b[0;34m()\u001b[0m\n\u001b[0;32m----> 1\u001b[0;31m \u001b[0mtokenizer\u001b[0m\u001b[0;34m.\u001b[0m\u001b[0mpush_to_hub\u001b[0m\u001b[0;34m(\u001b[0m\u001b[0mrepo_name\u001b[0m\u001b[0;34m)\u001b[0m\u001b[0;34m\u001b[0m\u001b[0;34m\u001b[0m\u001b[0m\n\u001b[0m",
      "\u001b[0;32m/usr/local/lib/python3.7/dist-packages/transformers/file_utils.py\u001b[0m in \u001b[0;36mpush_to_hub\u001b[0;34m(self, repo_path_or_name, repo_url, use_temp_dir, commit_message, organization, private, use_auth_token)\u001b[0m\n\u001b[1;32m   2180\u001b[0m         \u001b[0mself\u001b[0m\u001b[0;34m.\u001b[0m\u001b[0msave_pretrained\u001b[0m\u001b[0;34m(\u001b[0m\u001b[0mrepo_path_or_name\u001b[0m\u001b[0;34m)\u001b[0m\u001b[0;34m\u001b[0m\u001b[0;34m\u001b[0m\u001b[0m\n\u001b[1;32m   2181\u001b[0m         \u001b[0;31m# Commit and push!\u001b[0m\u001b[0;34m\u001b[0m\u001b[0;34m\u001b[0m\u001b[0;34m\u001b[0m\u001b[0m\n\u001b[0;32m-> 2182\u001b[0;31m         \u001b[0murl\u001b[0m \u001b[0;34m=\u001b[0m \u001b[0mself\u001b[0m\u001b[0;34m.\u001b[0m\u001b[0m_push_to_hub\u001b[0m\u001b[0;34m(\u001b[0m\u001b[0mrepo\u001b[0m\u001b[0;34m,\u001b[0m \u001b[0mcommit_message\u001b[0m\u001b[0;34m=\u001b[0m\u001b[0mcommit_message\u001b[0m\u001b[0;34m)\u001b[0m\u001b[0;34m\u001b[0m\u001b[0;34m\u001b[0m\u001b[0m\n\u001b[0m\u001b[1;32m   2183\u001b[0m \u001b[0;34m\u001b[0m\u001b[0m\n\u001b[1;32m   2184\u001b[0m         \u001b[0;31m# Clean up! Clean up! Everybody everywhere!\u001b[0m\u001b[0;34m\u001b[0m\u001b[0;34m\u001b[0m\u001b[0;34m\u001b[0m\u001b[0m\n",
      "\u001b[0;32m/usr/local/lib/python3.7/dist-packages/transformers/file_utils.py\u001b[0m in \u001b[0;36m_push_to_hub\u001b[0;34m(cls, repo, commit_message)\u001b[0m\n\u001b[1;32m   2260\u001b[0m                 \u001b[0mcommit_message\u001b[0m \u001b[0;34m=\u001b[0m \u001b[0;34m\"add model\"\u001b[0m\u001b[0;34m\u001b[0m\u001b[0;34m\u001b[0m\u001b[0m\n\u001b[1;32m   2261\u001b[0m \u001b[0;34m\u001b[0m\u001b[0m\n\u001b[0;32m-> 2262\u001b[0;31m         \u001b[0;32mreturn\u001b[0m \u001b[0mrepo\u001b[0m\u001b[0;34m.\u001b[0m\u001b[0mpush_to_hub\u001b[0m\u001b[0;34m(\u001b[0m\u001b[0mcommit_message\u001b[0m\u001b[0;34m=\u001b[0m\u001b[0mcommit_message\u001b[0m\u001b[0;34m)\u001b[0m\u001b[0;34m\u001b[0m\u001b[0;34m\u001b[0m\u001b[0m\n\u001b[0m\u001b[1;32m   2263\u001b[0m \u001b[0;34m\u001b[0m\u001b[0m\n\u001b[1;32m   2264\u001b[0m \u001b[0;34m\u001b[0m\u001b[0m\n",
      "\u001b[0;32m/usr/local/lib/python3.7/dist-packages/huggingface_hub/repository.py\u001b[0m in \u001b[0;36mpush_to_hub\u001b[0;34m(self, commit_message, blocking, clean_ok, auto_lfs_prune)\u001b[0m\n\u001b[1;32m   1229\u001b[0m             \u001b[0;32mreturn\u001b[0m \u001b[0;32mNone\u001b[0m\u001b[0;34m\u001b[0m\u001b[0;34m\u001b[0m\u001b[0m\n\u001b[1;32m   1230\u001b[0m         \u001b[0mself\u001b[0m\u001b[0;34m.\u001b[0m\u001b[0mgit_add\u001b[0m\u001b[0;34m(\u001b[0m\u001b[0mauto_lfs_track\u001b[0m\u001b[0;34m=\u001b[0m\u001b[0;32mTrue\u001b[0m\u001b[0;34m)\u001b[0m\u001b[0;34m\u001b[0m\u001b[0;34m\u001b[0m\u001b[0m\n\u001b[0;32m-> 1231\u001b[0;31m         \u001b[0mself\u001b[0m\u001b[0;34m.\u001b[0m\u001b[0mgit_commit\u001b[0m\u001b[0;34m(\u001b[0m\u001b[0mcommit_message\u001b[0m\u001b[0;34m)\u001b[0m\u001b[0;34m\u001b[0m\u001b[0;34m\u001b[0m\u001b[0m\n\u001b[0m\u001b[1;32m   1232\u001b[0m         return self.git_push(\n\u001b[1;32m   1233\u001b[0m             \u001b[0mupstream\u001b[0m\u001b[0;34m=\u001b[0m\u001b[0;34mf\"origin {self.current_branch}\"\u001b[0m\u001b[0;34m,\u001b[0m\u001b[0;34m\u001b[0m\u001b[0;34m\u001b[0m\u001b[0m\n",
      "\u001b[0;32m/usr/local/lib/python3.7/dist-packages/huggingface_hub/repository.py\u001b[0m in \u001b[0;36mgit_commit\u001b[0;34m(self, commit_message)\u001b[0m\n\u001b[1;32m    937\u001b[0m                 \u001b[0;32mraise\u001b[0m \u001b[0mEnvironmentError\u001b[0m\u001b[0;34m(\u001b[0m\u001b[0mexc\u001b[0m\u001b[0;34m.\u001b[0m\u001b[0mstderr\u001b[0m\u001b[0;34m)\u001b[0m\u001b[0;34m\u001b[0m\u001b[0;34m\u001b[0m\u001b[0m\n\u001b[1;32m    938\u001b[0m             \u001b[0;32melse\u001b[0m\u001b[0;34m:\u001b[0m\u001b[0;34m\u001b[0m\u001b[0;34m\u001b[0m\u001b[0m\n\u001b[0;32m--> 939\u001b[0;31m                 \u001b[0;32mraise\u001b[0m \u001b[0mEnvironmentError\u001b[0m\u001b[0;34m(\u001b[0m\u001b[0mexc\u001b[0m\u001b[0;34m.\u001b[0m\u001b[0mstdout\u001b[0m\u001b[0;34m)\u001b[0m\u001b[0;34m\u001b[0m\u001b[0;34m\u001b[0m\u001b[0m\n\u001b[0m\u001b[1;32m    940\u001b[0m \u001b[0;34m\u001b[0m\u001b[0m\n\u001b[1;32m    941\u001b[0m     def git_push(\n",
      "\u001b[0;31mOSError\u001b[0m: On branch main\nYour branch is up to date with 'origin/main'.\n\nnothing to commit, working tree clean\n"
     ]
    }
   ],
   "source": [
    "tokenizer.push_to_hub(repo_name)"
   ]
  },
  {
   "cell_type": "markdown",
   "metadata": {
    "id": "SwQM8lH_GGuP"
   },
   "source": [
    "Great, you can see the just created repository under `https://huggingface.co/<your-username>/wav2vec2-large-xls-r-300m-tr-colab`"
   ]
  },
  {
   "cell_type": "markdown",
   "metadata": {
    "id": "mYcIiR2FQ96i"
   },
   "source": [
    "### Create `Wav2Vec2FeatureExtractor`"
   ]
  },
  {
   "cell_type": "markdown",
   "metadata": {
    "id": "Y6mDEyW719rx"
   },
   "source": [
    "Speech is a continuous signal and to be treated by computers, it first has to be discretized, which is usually called **sampling**. The sampling rate hereby plays an important role in that it defines how many data points of the speech signal are measured per second. Therefore, sampling with a higher sampling rate results in a better approximation of the *real* speech signal but also necessitates more values per second.\n",
    "\n",
    "A pretrained checkpoint expects its input data to have been sampled more or less from the same distribution as the data it was trained on. The same speech signals sampled at two different rates have a very different distribution, *e.g.*, doubling the sampling rate results in data points being twice as long. Thus, \n",
    "before fine-tuning a pretrained checkpoint of an ASR model, it is crucial to verify that the sampling rate of the data that was used to pretrain the model matches the sampling rate of the dataset used to fine-tune the model.\n",
    "\n",
    "XLS-R was pretrained on audio data of [Babel](http://www.reading.ac.uk/AcaDepts/ll/speechlab/babel/r), \n",
    "[Multilingual LibriSpeech (MLS)](https://huggingface.co/datasets/multilingual_librispeech), [Common Voice](https://huggingface.co/datasets/common_voice), [VoxPopuli](https://arxiv.org/abs/2101.00390), and [VoxLingua107](https://arxiv.org/abs/2011.12998) at a sampling rate of 16kHz. Common Voice, in its original form, has a sampling rate of 48kHz, thus we will have to downsample the fine-tuning data to 16kHz in the following.\n",
    "\n"
   ]
  },
  {
   "cell_type": "markdown",
   "metadata": {
    "id": "KuUbPW7oV-B5"
   },
   "source": [
    "A `Wav2Vec2FeatureExtractor` object requires the following parameters to be instantiated:\n",
    "\n",
    "- `feature_size`: Speech models take a sequence of feature vectors as an input. While the length of this sequence obviously varies, the feature size should not. In the case of Wav2Vec2, the feature size is 1 because the model was trained on the raw speech signal ${}^2$.\n",
    "- `sampling_rate`: The sampling rate at which the model is trained on.\n",
    "- `padding_value`: For batched inference, shorter inputs need to be padded with a specific value\n",
    "- `do_normalize`: Whether the input should be *zero-mean-unit-variance* normalized or not. Usually, speech models perform better when normalizing the input\n",
    "- `return_attention_mask`: Whether the model should make use of an `attention_mask` for batched inference. In general, XLS-R models checkpoints should **always** use the `attention_mask`."
   ]
  },
  {
   "cell_type": "code",
   "execution_count": 25,
   "metadata": {
    "id": "kAR0-2KLkopp"
   },
   "outputs": [],
   "source": [
    "from transformers import Wav2Vec2FeatureExtractor\n",
    "\n",
    "feature_extractor = Wav2Vec2FeatureExtractor(feature_size=1, sampling_rate=16000, padding_value=0.0, do_normalize=True, return_attention_mask=True)"
   ]
  },
  {
   "cell_type": "markdown",
   "metadata": {
    "id": "qUETetgqYC3W"
   },
   "source": [
    "Great, XLS-R's feature extraction pipeline is thereby fully defined!\n",
    "\n",
    "For improved user-friendliness, the feature extractor and tokenizer are *wrapped* into a single `Wav2Vec2Processor` class so that one only needs a `model` and `processor` object."
   ]
  },
  {
   "cell_type": "code",
   "execution_count": 26,
   "metadata": {
    "id": "KYZtoW-tlZgl"
   },
   "outputs": [],
   "source": [
    "from transformers import Wav2Vec2Processor\n",
    "\n",
    "processor = Wav2Vec2Processor(feature_extractor=feature_extractor, tokenizer=tokenizer)"
   ]
  },
  {
   "cell_type": "markdown",
   "metadata": {
    "id": "DrKnYuvDIoOO"
   },
   "source": [
    "Next, we can prepare the dataset."
   ]
  },
  {
   "cell_type": "markdown",
   "metadata": {
    "id": "YFmShnl7RE35"
   },
   "source": [
    "### Preprocess Data\n",
    "\n",
    "So far, we have not looked at the actual values of the speech signal but just the transcription. In addition to `sentence`, our datasets include two more column names `path` and `audio`. `path` states the absolute path of the audio file. Let's take a look.\n"
   ]
  },
  {
   "cell_type": "code",
   "execution_count": 27,
   "metadata": {
    "colab": {
     "base_uri": "https://localhost:8080/",
     "height": 70
    },
    "id": "TTCS7W6XJ9BG",
    "outputId": "997dc923-4bf9-480f-d137-d7efa25ba905"
   },
   "outputs": [
    {
     "data": {
      "application/vnd.google.colaboratory.intrinsic+json": {
       "type": "string"
      },
      "text/plain": [
       "'/root/.cache/huggingface/datasets/downloads/extracted/edda55c40621dcd8e9b62b52891917a6aecd54132c2e92b0d9c60020ee13fbb6/cv-corpus-6.1-2020-12-11/ga-IE/clips/common_voice_ga-IE_18183217.mp3'"
      ]
     },
     "execution_count": 27,
     "metadata": {},
     "output_type": "execute_result"
    }
   ],
   "source": [
    "common_voice_train[0][\"path\"]"
   ]
  },
  {
   "cell_type": "markdown",
   "metadata": {
    "id": "T6ndIjHGFp0W"
   },
   "source": [
    "XLS-R expects the input in the format of a 1-dimensional array of 16 kHz. This means that the audio file has to be loaded and resampled.\n",
    "\n",
    " Thankfully, `datasets` does this automatically by calling the other column `audio`. Let try it out. "
   ]
  },
  {
   "cell_type": "code",
   "execution_count": 28,
   "metadata": {
    "colab": {
     "base_uri": "https://localhost:8080/"
    },
    "id": "qj_z5Zc3GAs9",
    "outputId": "68d31c92-9ab7-4aa1-82ed-2486b63a7a02"
   },
   "outputs": [
    {
     "data": {
      "text/plain": [
       "{'array': array([0.0000000e+00, 0.0000000e+00, 0.0000000e+00, ..., 2.4795532e-05,\n",
       "        2.4318695e-05, 2.4378300e-05], dtype=float32),\n",
       " 'path': '/root/.cache/huggingface/datasets/downloads/extracted/edda55c40621dcd8e9b62b52891917a6aecd54132c2e92b0d9c60020ee13fbb6/cv-corpus-6.1-2020-12-11/ga-IE/clips/common_voice_ga-IE_18183217.mp3',\n",
       " 'sampling_rate': 48000}"
      ]
     },
     "execution_count": 28,
     "metadata": {},
     "output_type": "execute_result"
    }
   ],
   "source": [
    "common_voice_train[0][\"audio\"]"
   ]
  },
  {
   "cell_type": "markdown",
   "metadata": {
    "id": "WUUTgI1bGHW-"
   },
   "source": [
    "Great, we can see that the audio file has automatically been loaded. This is thanks to the new [`\"Audio\"` feature](https://huggingface.co/docs/datasets/package_reference/main_classes.html?highlight=audio#datasets.Audio) introduced in `datasets == 4.13.3`, which loads and resamples audio files on-the-fly upon calling.\n",
    "\n",
    "In the example above we can see that the audio data is loaded with a sampling rate of 48kHz whereas 16kHz are expected by the model. We can set the audio feature to the correct sampling rate by making use of [`cast_column`](https://huggingface.co/docs/datasets/package_reference/main_classes.html?highlight=cast_column#datasets.DatasetDict.cast_column):"
   ]
  },
  {
   "cell_type": "code",
   "execution_count": 29,
   "metadata": {
    "id": "rrv65aj7G95i"
   },
   "outputs": [],
   "source": [
    "common_voice_train = common_voice_train.cast_column(\"audio\", Audio(sampling_rate=16_000))\n",
    "common_voice_test = common_voice_test.cast_column(\"audio\", Audio(sampling_rate=16_000))"
   ]
  },
  {
   "cell_type": "markdown",
   "metadata": {
    "id": "PcnO4x-NGBEi"
   },
   "source": [
    "Let's take a look at `\"audio\"` again."
   ]
  },
  {
   "cell_type": "code",
   "execution_count": 30,
   "metadata": {
    "colab": {
     "base_uri": "https://localhost:8080/"
    },
    "id": "aKtkc1o_HWHC",
    "outputId": "c13a0b7f-d880-4da2-869a-72b97be41b62"
   },
   "outputs": [
    {
     "data": {
      "text/plain": [
       "{'array': array([0.0000000e+00, 0.0000000e+00, 0.0000000e+00, ..., 2.4527420e-05,\n",
       "        2.4251953e-05, 2.6632930e-05], dtype=float32),\n",
       " 'path': '/root/.cache/huggingface/datasets/downloads/extracted/edda55c40621dcd8e9b62b52891917a6aecd54132c2e92b0d9c60020ee13fbb6/cv-corpus-6.1-2020-12-11/ga-IE/clips/common_voice_ga-IE_18183217.mp3',\n",
       " 'sampling_rate': 16000}"
      ]
     },
     "execution_count": 30,
     "metadata": {},
     "output_type": "execute_result"
    }
   ],
   "source": [
    "common_voice_train[0][\"audio\"]"
   ]
  },
  {
   "cell_type": "markdown",
   "metadata": {
    "id": "SOckzFd4Mbzq"
   },
   "source": [
    "This seemed to have worked! Let's listen to a couple of audio files to better understand the dataset and verify that the audio was correctly loaded. \n",
    "\n",
    "**Note**: *You can click the following cell a couple of times to listen to different speech samples.*"
   ]
  },
  {
   "cell_type": "code",
   "execution_count": 31,
   "metadata": {
    "colab": {
     "base_uri": "https://localhost:8080/",
     "height": 92
    },
    "id": "dueM6U7Ev0OA",
    "outputId": "5e2bc03e-a260-4f4d-8d59-1066694df848"
   },
   "outputs": [
    {
     "name": "stdout",
     "output_type": "stream",
     "text": [
      "t\u00e1 s\u00edle anseo agus t\u00e1 a dearth\u00e1ir anseo\n"
     ]
    },
    {
     "data": {
      "text/html": [
       "\n",
       "                <audio controls=\"controls\" autoplay=\"autoplay\">\n",
       "                    <source src=\"data:audio/wav;base64,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\" type=\"audio/wav\" />\n",
       "                    Your browser does not support the audio element.\n",
       "                </audio>\n",
       "              "
      ],
      "text/plain": [
       "<IPython.lib.display.Audio object>"
      ]
     },
     "execution_count": 31,
     "metadata": {},
     "output_type": "execute_result"
    }
   ],
   "source": [
    "import IPython.display as ipd\n",
    "import numpy as np\n",
    "import random\n",
    "\n",
    "rand_int = random.randint(0, len(common_voice_train)-1)\n",
    "\n",
    "print(common_voice_train[rand_int][\"sentence\"])\n",
    "ipd.Audio(data=common_voice_train[rand_int][\"audio\"][\"array\"], autoplay=True, rate=16000)"
   ]
  },
  {
   "cell_type": "markdown",
   "metadata": {
    "id": "gY8m3vARHYTa"
   },
   "source": [
    "It seems like the data is now correctly loaded and resampled. "
   ]
  },
  {
   "cell_type": "markdown",
   "metadata": {
    "id": "1MaL9J2dNVtG"
   },
   "source": [
    "It can be heard, that the speakers change along with their speaking rate, accent, and background environment, etc. Overall, the recordings sound acceptably clear though, which is to be expected from a crowd-sourced read speech corpus.\n",
    "\n",
    "Let's do a final check that the data is correctly prepared, by printing the shape of the speech input, its transcription, and the corresponding sampling rate.\n",
    "\n",
    "**Note**: *You can click the following cell a couple of times to verify multiple samples.*"
   ]
  },
  {
   "cell_type": "code",
   "execution_count": 32,
   "metadata": {
    "colab": {
     "base_uri": "https://localhost:8080/"
    },
    "id": "1Po2g7YPuRTx",
    "outputId": "8d92ee62-f463-402a-c401-a9e9a1d5e608"
   },
   "outputs": [
    {
     "name": "stdout",
     "output_type": "stream",
     "text": [
      "Target text: ar an bhfear\n",
      "Input array shape: (27648,)\n",
      "Sampling rate: 16000\n"
     ]
    }
   ],
   "source": [
    "rand_int = random.randint(0, len(common_voice_train)-1)\n",
    "\n",
    "print(\"Target text:\", common_voice_train[rand_int][\"sentence\"])\n",
    "print(\"Input array shape:\", common_voice_train[rand_int][\"audio\"][\"array\"].shape)\n",
    "print(\"Sampling rate:\", common_voice_train[rand_int][\"audio\"][\"sampling_rate\"])"
   ]
  },
  {
   "cell_type": "markdown",
   "metadata": {
    "id": "M9teZcSwOBJ4"
   },
   "source": [
    "Good! Everything looks fine - the data is a 1-dimensional array, the sampling rate always corresponds to 16kHz, and the target text is normalized."
   ]
  },
  {
   "cell_type": "markdown",
   "metadata": {
    "id": "k3Pbn5WvOYZF"
   },
   "source": [
    "Finally, we can leverage `Wav2Vec2Processor` to process the data to the format expected by `Wav2Vec2ForCTC` for training. To do so let's make use of Dataset's [`map(...)`](https://huggingface.co/docs/datasets/package_reference/main_classes.html?highlight=map#datasets.DatasetDict.map) function.\n",
    "\n",
    "First, we load and resample the audio data, simply by calling `batch[\"audio\"]`.\n",
    "Second, we extract the `input_values` from the loaded audio file. In our case, the `Wav2Vec2Processor` only normalizes the data. For other speech models, however, this step can include more complex feature extraction, such as [Log-Mel feature extraction](https://en.wikipedia.org/wiki/Mel-frequency_cepstrum). \n",
    "Third, we encode the transcriptions to label ids.\n",
    "\n",
    "**Note**: This mapping function is a good example of how the `Wav2Vec2Processor` class should be used. In \"normal\" context, calling `processor(...)` is redirected to `Wav2Vec2FeatureExtractor`'s call method. When wrapping the processor into the `as_target_processor` context, however, the same method is redirected to `Wav2Vec2CTCTokenizer`'s call method.\n",
    "For more information please check the [docs](https://huggingface.co/transformers/master/model_doc/wav2vec2.html#transformers.Wav2Vec2Processor.__call__)."
   ]
  },
  {
   "cell_type": "code",
   "execution_count": 33,
   "metadata": {
    "id": "eJY7I0XAwe9p"
   },
   "outputs": [],
   "source": [
    "def prepare_dataset(batch):\n",
    "    audio = batch[\"audio\"]\n",
    "\n",
    "    # batched output is \"un-batched\"\n",
    "    batch[\"input_values\"] = processor(audio[\"array\"], sampling_rate=audio[\"sampling_rate\"]).input_values[0]\n",
    "    batch[\"input_length\"] = len(batch[\"input_values\"])\n",
    "    \n",
    "    with processor.as_target_processor():\n",
    "        batch[\"labels\"] = processor(batch[\"sentence\"]).input_ids\n",
    "    return batch"
   ]
  },
  {
   "cell_type": "markdown",
   "metadata": {
    "id": "q6Pg_WR3OGAP"
   },
   "source": [
    "Let's apply the data preparation function to all examples."
   ]
  },
  {
   "cell_type": "code",
   "execution_count": 34,
   "metadata": {
    "colab": {
     "base_uri": "https://localhost:8080/",
     "height": 81,
     "referenced_widgets": [
      "4d9ec0f528ea4271b65efe67b797fcf3",
      "b2c9240cc08a4052bfd91b48169220c3",
      "cf62b06995e24848b325c7546a6f51b9",
      "efc5c83c0cd04d7a8599fd085e557e42",
      "d58028c1b2c24d8dae30b9370e5774e2",
      "453c25ef14ae46ca89be007f84601f08",
      "2f987e12ede142c986c02268d01eed3c",
      "da7815ab5cf04140a79a23633c1f6ed0",
      "3ae00869b3154f08ae20d8c738b71cd1",
      "e5f09bb71f304de7996ecb481047deb7",
      "a4b60c249a784e649a056c5d5062627d",
      "0dfb81058d914532be148c09c12f3de1",
      "91681fda85764dc388f637d16253df68",
      "a3720f4cf4394ce69f58c04b4ec4c75a",
      "9a237cbf91cc43a08700917727804b60",
      "c6a249e4fba042baaa6e579d8247cf7a",
      "90d57a5a079c40b4a362b88b4a4adb47",
      "66c881eb8200470ca47e34cdf335c486",
      "eb000dfb05904533b6f45e3d9b6e9fd6",
      "b2e02faf4cb24093aee3b26fc9939711",
      "9d4777c488e74289bff088810d6b186c",
      "bde57ec414004420b109f0fdd4f11b43"
     ]
    },
    "id": "-np9xYK-wl8q",
    "outputId": "23bedc14-b531-448e-96b2-200333c51ece"
   },
   "outputs": [
    {
     "data": {
      "application/vnd.jupyter.widget-view+json": {
       "model_id": "4d9ec0f528ea4271b65efe67b797fcf3",
       "version_major": 2,
       "version_minor": 0
      },
      "text/plain": [
       "  0%|          | 0/1038 [00:00<?, ?ex/s]"
      ]
     },
     "metadata": {},
     "output_type": "display_data"
    },
    {
     "data": {
      "application/vnd.jupyter.widget-view+json": {
       "model_id": "0dfb81058d914532be148c09c12f3de1",
       "version_major": 2,
       "version_minor": 0
      },
      "text/plain": [
       "  0%|          | 0/506 [00:00<?, ?ex/s]"
      ]
     },
     "metadata": {},
     "output_type": "display_data"
    }
   ],
   "source": [
    "common_voice_train = common_voice_train.map(prepare_dataset, remove_columns=common_voice_train.column_names)\n",
    "common_voice_test = common_voice_test.map(prepare_dataset, remove_columns=common_voice_test.column_names)"
   ]
  },
  {
   "cell_type": "markdown",
   "metadata": {
    "id": "nKcEWHvKI1by"
   },
   "source": [
    "**Note**: Currently `datasets` make use of [`torchaudio`](https://pytorch.org/audio/stable/index.html) and [`librosa`](https://librosa.org/doc/latest/index.html) for audio loading and resampling. If you wish to implement your own costumized data loading/sampling, feel free to just make use of the `\"path\"` column instead and disregard the `\"audio\"` column."
   ]
  },
  {
   "cell_type": "markdown",
   "metadata": {
    "id": "24CxHd5ewI4T"
   },
   "source": [
    "Long input sequences require a lot of memory. XLS-R is based on `self-attention` the memory requirement scales quadratically with the input length for long input sequences (*cf.* with [this](https://www.reddit.com/r/MachineLearning/comments/genjvb/d_why_is_the_maximum_input_sequence_length_of/) reddit post). In case this demo crashes with an \"Out-of-memory\" error for you, you might want to uncomment the following lines to filter all sequences that are longer than 5 seconds for training."
   ]
  },
  {
   "cell_type": "code",
   "execution_count": 35,
   "metadata": {
    "id": "tdHfbUJ_09iA"
   },
   "outputs": [],
   "source": [
    "#max_input_length_in_sec = 5.0\n",
    "#common_voice_train = common_voice_train.filter(lambda x: x < max_input_length_in_sec * processor.feature_extractor.sampling_rate, input_columns=[\"input_length\"])"
   ]
  },
  {
   "cell_type": "markdown",
   "metadata": {
    "id": "1ZWDCCKqwcfS"
   },
   "source": [
    "Awesome, now we are ready to start training!"
   ]
  },
  {
   "cell_type": "markdown",
   "metadata": {
    "id": "gYlQkKVoRUos"
   },
   "source": [
    "## Training\n",
    "\n",
    "The data is processed so that we are ready to start setting up the training pipeline. We will make use of \ud83e\udd17's [Trainer](https://huggingface.co/transformers/master/main_classes/trainer.html?highlight=trainer) for which we essentially need to do the following:\n",
    "\n",
    "- Define a data collator. In contrast to most NLP models, XLS-R has a much larger input length than output length. *E.g.*, a sample of input length 50000 has an output length of no more than 100. Given the large input sizes, it is much more efficient to pad the training batches dynamically meaning that all training samples should only be padded to the longest sample in their batch and not the overall longest sample. Therefore, fine-tuning XLS-R requires a special padding data collator, which we will define below\n",
    "\n",
    "- Evaluation metric. During training, the model should be evaluated on the word error rate. We should define a `compute_metrics` function accordingly\n",
    "\n",
    "- Load a pretrained checkpoint. We need to load a pretrained checkpoint and configure it correctly for training.\n",
    "\n",
    "- Define the training configuration.\n",
    "\n",
    "After having fine-tuned the model, we will correctly evaluate it on the test data and verify that it has indeed learned to correctly transcribe speech."
   ]
  },
  {
   "cell_type": "markdown",
   "metadata": {
    "id": "Slk403unUS91"
   },
   "source": [
    "### Set-up Trainer\n",
    "\n",
    "Let's start by defining the data collator. The code for the data collator was copied from [this example](https://github.com/huggingface/transformers/blob/9a06b6b11bdfc42eea08fa91d0c737d1863c99e3/examples/research_projects/wav2vec2/run_asr.py#L81).\n",
    "\n",
    "Without going into too many details, in contrast to the common data collators, this data collator treats the `input_values` and `labels` differently and thus applies to separate padding functions on them (again making use of XLS-R processor's context manager). This is necessary because in speech input and output are of different modalities meaning that they should not be treated by the same padding function.\n",
    "Analogous to the common data collators, the padding tokens in the labels with `-100` so that those tokens are **not** taken into account when computing the loss."
   ]
  },
  {
   "cell_type": "code",
   "execution_count": 36,
   "metadata": {
    "id": "tborvC9hx88e"
   },
   "outputs": [],
   "source": [
    "import torch\n",
    "\n",
    "from dataclasses import dataclass, field\n",
    "from typing import Any, Dict, List, Optional, Union\n",
    "\n",
    "@dataclass\n",
    "class DataCollatorCTCWithPadding:\n",
    "    \"\"\"\n",
    "    Data collator that will dynamically pad the inputs received.\n",
    "    Args:\n",
    "        processor (:class:`~transformers.Wav2Vec2Processor`)\n",
    "            The processor used for proccessing the data.\n",
    "        padding (:obj:`bool`, :obj:`str` or :class:`~transformers.tokenization_utils_base.PaddingStrategy`, `optional`, defaults to :obj:`True`):\n",
    "            Select a strategy to pad the returned sequences (according to the model's padding side and padding index)\n",
    "            among:\n",
    "            * :obj:`True` or :obj:`'longest'`: Pad to the longest sequence in the batch (or no padding if only a single\n",
    "              sequence if provided).\n",
    "            * :obj:`'max_length'`: Pad to a maximum length specified with the argument :obj:`max_length` or to the\n",
    "              maximum acceptable input length for the model if that argument is not provided.\n",
    "            * :obj:`False` or :obj:`'do_not_pad'` (default): No padding (i.e., can output a batch with sequences of\n",
    "              different lengths).\n",
    "    \"\"\"\n",
    "\n",
    "    processor: Wav2Vec2Processor\n",
    "    padding: Union[bool, str] = True\n",
    "\n",
    "    def __call__(self, features: List[Dict[str, Union[List[int], torch.Tensor]]]) -> Dict[str, torch.Tensor]:\n",
    "        # split inputs and labels since they have to be of different lenghts and need\n",
    "        # different padding methods\n",
    "        input_features = [{\"input_values\": feature[\"input_values\"]} for feature in features]\n",
    "        label_features = [{\"input_ids\": feature[\"labels\"]} for feature in features]\n",
    "\n",
    "        batch = self.processor.pad(\n",
    "            input_features,\n",
    "            padding=self.padding,\n",
    "            return_tensors=\"pt\",\n",
    "        )\n",
    "        with self.processor.as_target_processor():\n",
    "            labels_batch = self.processor.pad(\n",
    "                label_features,\n",
    "                padding=self.padding,\n",
    "                return_tensors=\"pt\",\n",
    "            )\n",
    "\n",
    "        # replace padding with -100 to ignore loss correctly\n",
    "        labels = labels_batch[\"input_ids\"].masked_fill(labels_batch.attention_mask.ne(1), -100)\n",
    "\n",
    "        batch[\"labels\"] = labels\n",
    "\n",
    "        return batch"
   ]
  },
  {
   "cell_type": "code",
   "execution_count": 37,
   "metadata": {
    "id": "lbQf5GuZyQ4_"
   },
   "outputs": [],
   "source": [
    "data_collator = DataCollatorCTCWithPadding(processor=processor, padding=True)"
   ]
  },
  {
   "cell_type": "markdown",
   "metadata": {
    "id": "xO-Zdj-5cxXp"
   },
   "source": [
    "Next, the evaluation metric is defined. As mentioned earlier, the \n",
    "predominant metric in ASR is the word error rate (WER), hence we will use it in this notebook as well."
   ]
  },
  {
   "cell_type": "code",
   "execution_count": 38,
   "metadata": {
    "colab": {
     "base_uri": "https://localhost:8080/",
     "height": 49,
     "referenced_widgets": [
      "24e4cdf7daf54ef29266acfe9334c4aa",
      "9f43c050bf224104983c268d0028a984",
      "a50b3f85eb8c4288967faf5bef4f6a69",
      "8fede89048584d4abc82065ca2b26ae9",
      "f7524fac554b46f5ab66eb196d73fb8c",
      "d086c6cd9274439784176f2c46e02704",
      "b9d9cdc3155c43d2a566a511a6ade59e",
      "6fd34680249449df8e23039d6946bfab",
      "843f5f5f60d24317a663bcf3baff0757",
      "c26da0359c6f4b73867ae591087251bc",
      "991335059c544930a3066d5d6d9ce338"
     ]
    },
    "id": "9Xsux2gmyXso",
    "outputId": "a502c41b-36c0-4f63-a931-ee791c896233"
   },
   "outputs": [
    {
     "data": {
      "application/vnd.jupyter.widget-view+json": {
       "model_id": "24e4cdf7daf54ef29266acfe9334c4aa",
       "version_major": 2,
       "version_minor": 0
      },
      "text/plain": [
       "Downloading:   0%|          | 0.00/1.95k [00:00<?, ?B/s]"
      ]
     },
     "metadata": {},
     "output_type": "display_data"
    }
   ],
   "source": [
    "wer_metric = load_metric(\"wer\")"
   ]
  },
  {
   "cell_type": "markdown",
   "metadata": {
    "id": "E1qZU5p-deqB"
   },
   "source": [
    "The model will return a sequence of logit vectors:\n",
    "$\\mathbf{y}_1, \\ldots, \\mathbf{y}_m$ with $\\mathbf{y}_1 = f_{\\theta}(x_1, \\ldots, x_n)[0]$ and $n >> m$.\n",
    "\n",
    "A logit vector $\\mathbf{y}_1$ contains the log-odds for each word in the vocabulary we defined earlier, thus $\\text{len}(\\mathbf{y}_i) =$ `config.vocab_size`. We are interested in the most likely prediction of the model and thus take the `argmax(...)` of the logits. Also, we transform the encoded labels back to the original string by replacing `-100` with the `pad_token_id` and decoding the ids while making sure that consecutive tokens are **not** grouped to the same token in CTC style ${}^1$."
   ]
  },
  {
   "cell_type": "code",
   "execution_count": 39,
   "metadata": {
    "id": "1XZ-kjweyTy_"
   },
   "outputs": [],
   "source": [
    "def compute_metrics(pred):\n",
    "    pred_logits = pred.predictions\n",
    "    pred_ids = np.argmax(pred_logits, axis=-1)\n",
    "\n",
    "    pred.label_ids[pred.label_ids == -100] = processor.tokenizer.pad_token_id\n",
    "\n",
    "    pred_str = processor.batch_decode(pred_ids)\n",
    "    # we do not want to group tokens when computing the metrics\n",
    "    label_str = processor.batch_decode(pred.label_ids, group_tokens=False)\n",
    "\n",
    "    wer = wer_metric.compute(predictions=pred_str, references=label_str)\n",
    "\n",
    "    return {\"wer\": wer}"
   ]
  },
  {
   "cell_type": "markdown",
   "metadata": {
    "id": "Xmgrx4bRwLIH"
   },
   "source": [
    "Now, we can load the pretrained checkpoint of [Wav2Vec2-XLS-R-300M](https://huggingface.co/facebook/wav2vec2-xls-r-300m). The tokenizer's `pad_token_id` must be to define the model's `pad_token_id` or in the case of `Wav2Vec2ForCTC` also CTC's *blank token* ${}^2$. To save GPU memory, we enable PyTorch's [gradient checkpointing](https://pytorch.org/docs/stable/checkpoint.html) and also set the loss reduction to \"*mean*\".\n",
    "\n",
    "Because the dataset is quite small (~6h of training data) and because Common Voice is quite noisy, fine-tuning Facebook's [wav2vec2-xls-r-300m checkpoint](https://huggingface.co/facebook/wav2vec2-xls-r-300m) seems to require some hyper-parameter tuning. Therefore, I had to play around a bit with different values for dropout, [SpecAugment](https://arxiv.org/abs/1904.08779)'s masking dropout rate, layer dropout, and the learning rate until training seemed to be stable enough. \n",
    "\n",
    "**Note**: When using this notebook to train XLS-R on another language of Common Voice those hyper-parameter settings might not work very well. Feel free to adapt those depending on your use case. "
   ]
  },
  {
   "cell_type": "code",
   "execution_count": 40,
   "metadata": {
    "colab": {
     "base_uri": "https://localhost:8080/",
     "height": 244,
     "referenced_widgets": [
      "e044e9a741c94327b0421b0b5c9d2015",
      "7a81952f24ac4cd8b6339a427b9c2419",
      "d3c3df0de683434f8742185d27ad4cc8",
      "9e2e458850db4ce18d078bfda58f4c06",
      "92f817306a05430e91af716111ea08ee",
      "74b51541a91a41dbbfefdf48a671aaf1",
      "5f0876750019427ea8c8beedba327796",
      "3869211777cd48ff817a8b779fb9e6ef",
      "3db7e9ad64f7464bb8f20fc5b322a8a6",
      "c32e28f3df6a49368f2df80f11ba5a1d",
      "1830220a449b496c941183714d89c4c8",
      "ea6f08ee7ad642dabe98368bbf5cc245",
      "d9cd123022e34816895a315a03d5d487",
      "a9a26dbbce6347aaad1e4728c16559bc",
      "56d04304ca52495b8503dd8dc32e3893",
      "10825e7df1064bcc89600d24f3b15a30",
      "61471a8718a543ed919d5d81874c1825",
      "bec438c216dc4b018ebf7b11d17e122c",
      "6b43227027444041b5ad3097fad74ca6",
      "0f0194cfba5a493593ddb38b3e812970",
      "2cc10d28110f4254883436ddf0edc49c",
      "2b7fbb2b36814aee9abe57a19679af4a"
     ]
    },
    "id": "e7cqAWIayn6w",
    "outputId": "63ebf39b-6bd2-4beb-c926-3ae2ab7010fb"
   },
   "outputs": [
    {
     "data": {
      "application/vnd.jupyter.widget-view+json": {
       "model_id": "e044e9a741c94327b0421b0b5c9d2015",
       "version_major": 2,
       "version_minor": 0
      },
      "text/plain": [
       "Downloading:   0%|          | 0.00/1.53k [00:00<?, ?B/s]"
      ]
     },
     "metadata": {},
     "output_type": "display_data"
    },
    {
     "data": {
      "application/vnd.jupyter.widget-view+json": {
       "model_id": "ea6f08ee7ad642dabe98368bbf5cc245",
       "version_major": 2,
       "version_minor": 0
      },
      "text/plain": [
       "Downloading:   0%|          | 0.00/1.18G [00:00<?, ?B/s]"
      ]
     },
     "metadata": {},
     "output_type": "display_data"
    },
    {
     "name": "stderr",
     "output_type": "stream",
     "text": [
      "Some weights of the model checkpoint at facebook/wav2vec2-xls-r-300m were not used when initializing Wav2Vec2ForCTC: ['quantizer.codevectors', 'project_hid.weight', 'project_q.bias', 'project_hid.bias', 'quantizer.weight_proj.weight', 'project_q.weight', 'quantizer.weight_proj.bias']\n",
      "- This IS expected if you are initializing Wav2Vec2ForCTC from the checkpoint of a model trained on another task or with another architecture (e.g. initializing a BertForSequenceClassification model from a BertForPreTraining model).\n",
      "- This IS NOT expected if you are initializing Wav2Vec2ForCTC from the checkpoint of a model that you expect to be exactly identical (initializing a BertForSequenceClassification model from a BertForSequenceClassification model).\n",
      "Some weights of Wav2Vec2ForCTC were not initialized from the model checkpoint at facebook/wav2vec2-xls-r-300m and are newly initialized: ['lm_head.bias', 'lm_head.weight']\n",
      "You should probably TRAIN this model on a down-stream task to be able to use it for predictions and inference.\n"
     ]
    }
   ],
   "source": [
    "from transformers import Wav2Vec2ForCTC\n",
    "\n",
    "model = Wav2Vec2ForCTC.from_pretrained(\n",
    "    \"facebook/wav2vec2-xls-r-300m\", \n",
    "    attention_dropout=0.0,\n",
    "    hidden_dropout=0.0,\n",
    "    feat_proj_dropout=0.0,\n",
    "    mask_time_prob=0.05,\n",
    "    layerdrop=0.0,\n",
    "    ctc_loss_reduction=\"mean\", \n",
    "    pad_token_id=processor.tokenizer.pad_token_id,\n",
    "    vocab_size=len(processor.tokenizer),\n",
    ")"
   ]
  },
  {
   "cell_type": "markdown",
   "metadata": {
    "id": "1DwR3XLSzGDD"
   },
   "source": [
    "The first component of XLS-R consists of a stack of CNN layers that are used to extract acoustically meaningful - but contextually independent - features from the raw speech signal. This part of the model has already been sufficiently trained during pretraining and as stated in the [paper](https://arxiv.org/pdf/2006.13979.pdf) does not need to be fine-tuned anymore. \n",
    "Thus, we can set the `requires_grad` to `False` for all parameters of the *feature extraction* part."
   ]
  },
  {
   "cell_type": "code",
   "execution_count": 41,
   "metadata": {
    "id": "oGI8zObtZ3V0"
   },
   "outputs": [],
   "source": [
    "model.freeze_feature_extractor()"
   ]
  },
  {
   "cell_type": "markdown",
   "metadata": {
    "id": "lD4aGhQM0K-D"
   },
   "source": [
    "In a final step, we define all parameters related to training. \n",
    "To give more explanation on some of the parameters:\n",
    "- `group_by_length` makes training more efficient by grouping training samples of similar input length into one batch. This can significantly speed up training time by heavily reducing the overall number of useless padding tokens that are passed through the model\n",
    "- `learning_rate` and `weight_decay` were heuristically tuned until fine-tuning has become stable. Note that those parameters strongly depend on the Common Voice dataset and might be suboptimal for other speech datasets.\n",
    "\n",
    "For more explanations on other parameters, one can take a look at the [docs](https://huggingface.co/transformers/master/main_classes/trainer.html?highlight=trainer#trainingarguments).\n",
    "\n",
    "During training, a checkpoint will be uploaded asynchronously to the hub every 400 training steps. It allows you to also play around with the demo widget even while your model is still training.\n",
    "\n",
    "**Note**: If one does not want to upload the model checkpoints to the hub, simply set `push_to_hub=False`."
   ]
  },
  {
   "cell_type": "code",
   "execution_count": 42,
   "metadata": {
    "id": "KbeKSV7uzGPP"
   },
   "outputs": [],
   "source": [
    "from transformers import TrainingArguments\n",
    "\n",
    "training_args = TrainingArguments(\n",
    "  output_dir=repo_name,\n",
    "  group_by_length=True,\n",
    "  per_device_train_batch_size=16,\n",
    "  gradient_accumulation_steps=2,\n",
    "  evaluation_strategy=\"steps\",\n",
    "  num_train_epochs=30,\n",
    "  gradient_checkpointing=True,\n",
    "  fp16=True,\n",
    "  save_steps=400,\n",
    "  eval_steps=400,\n",
    "  logging_steps=400,\n",
    "  learning_rate=3e-4,\n",
    "  warmup_steps=500,\n",
    "  save_total_limit=2,\n",
    "  push_to_hub=True,\n",
    ")"
   ]
  },
  {
   "cell_type": "markdown",
   "metadata": {
    "id": "OsW-WZcL1ZtN"
   },
   "source": [
    "Now, all instances can be passed to Trainer and we are ready to start training!"
   ]
  },
  {
   "cell_type": "code",
   "execution_count": 43,
   "metadata": {
    "colab": {
     "base_uri": "https://localhost:8080/"
    },
    "id": "rY7vBmFCPFgC",
    "outputId": "d0e500a0-829f-475a-97b0-c673dec3b137"
   },
   "outputs": [
    {
     "name": "stderr",
     "output_type": "stream",
     "text": [
      "/usr/local/lib/python3.7/dist-packages/huggingface_hub/hf_api.py:718: FutureWarning: `create_repo` now takes `token` as an optional positional argument. Be sure to adapt your code!\n",
      "  FutureWarning,\n",
      "/content/wav2vec2-large-xls-r-300m-irish-colab is already a clone of https://huggingface.co/jimregan/wav2vec2-large-xls-r-300m-irish-colab. Make sure you pull the latest changes with `repo.git_pull()`.\n",
      "Using amp fp16 backend\n"
     ]
    }
   ],
   "source": [
    "from transformers import Trainer\n",
    "\n",
    "trainer = Trainer(\n",
    "    model=model,\n",
    "    data_collator=data_collator,\n",
    "    args=training_args,\n",
    "    compute_metrics=compute_metrics,\n",
    "    train_dataset=common_voice_train,\n",
    "    eval_dataset=common_voice_test,\n",
    "    tokenizer=processor.feature_extractor,\n",
    ")"
   ]
  },
  {
   "cell_type": "markdown",
   "metadata": {
    "id": "UoXBx1JAA0DX"
   },
   "source": [
    "\n",
    "\n",
    "---\n",
    "\n",
    "${}^1$ To allow models to become independent of the speaker rate, in CTC, consecutive tokens that are identical are simply grouped as a single token. However, the encoded labels should not be grouped when decoding since they don't correspond to the predicted tokens of the model, which is why the `group_tokens=False` parameter has to be passed. If we wouldn't pass this parameter a word like `\"hello\"` would incorrectly be encoded, and decoded as `\"helo\"`.\n",
    "\n",
    "${}^2$ The blank token allows the model to predict a word, such as `\"hello\"` by forcing it to insert the blank token between the two l's. A CTC-conform prediction of `\"hello\"` of our model would be `[PAD] [PAD] \"h\" \"e\" \"e\" \"l\" \"l\" [PAD] \"l\" \"o\" \"o\" [PAD]`."
   ]
  },
  {
   "cell_type": "markdown",
   "metadata": {
    "id": "rpvZHM1xReIW"
   },
   "source": [
    "### Training"
   ]
  },
  {
   "cell_type": "markdown",
   "metadata": {
    "id": "j-3oKSzZ1hGq"
   },
   "source": [
    "Training will take multiple hours depending on the GPU allocated to this notebook. While the trained model yields somewhat satisfying results on *Common Voice*'s test data of Turkish, it is by no means an optimally fine-tuned model. The purpose of this notebook is just to demonstrate how to fine-tune XLS-R on an ASR dataset.\n",
    "\n",
    "In case you want to use this google colab to fine-tune your model, you should make sure that your training doesn't stop due to inactivity. A simple hack to prevent this is to paste the following code into the console of this tab (*right mouse click -> inspect -> Console tab and insert code*)."
   ]
  },
  {
   "cell_type": "markdown",
   "metadata": {
    "id": "VYYAvgkW4P0m"
   },
   "source": [
    "```javascript\n",
    "function ConnectButton(){\n",
    "    console.log(\"Connect pushed\"); \n",
    "    document.querySelector(\"#top-toolbar > colab-connect-button\").shadowRoot.querySelector(\"#connect\").click() \n",
    "}\n",
    "setInterval(ConnectButton,60000);\n",
    "```"
   ]
  },
  {
   "cell_type": "markdown",
   "metadata": {
    "id": "7bGgLV2r0yvZ"
   },
   "source": [
    "Depending on what GPU was allocated to your google colab it might be possible that you are seeing an `\"out-of-memory\"` error here. In this case, it's probably best to reduce `per_device_train_batch_size` to 8 or even less and increase [`gradient_accumulation`](https://huggingface.co/transformers/master/main_classes/trainer.html#trainingarguments)."
   ]
  },
  {
   "cell_type": "code",
   "execution_count": null,
   "metadata": {
    "colab": {
     "base_uri": "https://localhost:8080/",
     "height": 396
    },
    "id": "9fRr9TG5pGBl",
    "outputId": "23f3602e-4a70-4527-9e5f-8cab63afd0fb"
   },
   "outputs": [
    {
     "name": "stderr",
     "output_type": "stream",
     "text": [
      "The following columns in the training set  don't have a corresponding argument in `Wav2Vec2ForCTC.forward` and have been ignored: input_length.\n",
      "***** Running training *****\n",
      "  Num examples = 1038\n",
      "  Num Epochs = 30\n",
      "  Instantaneous batch size per device = 16\n",
      "  Total train batch size (w. parallel, distributed & accumulation) = 32\n",
      "  Gradient Accumulation steps = 2\n",
      "  Total optimization steps = 960\n",
      "/usr/local/lib/python3.7/dist-packages/transformers/feature_extraction_utils.py:158: UserWarning: Creating a tensor from a list of numpy.ndarrays is extremely slow. Please consider converting the list to a single numpy.ndarray with numpy.array() before converting to a tensor. (Triggered internally at  ../torch/csrc/utils/tensor_new.cpp:201.)\n",
      "  tensor = as_tensor(value)\n",
      "/usr/local/lib/python3.7/dist-packages/transformers/models/wav2vec2/modeling_wav2vec2.py:882: UserWarning: __floordiv__ is deprecated, and its behavior will change in a future version of pytorch. It currently rounds toward 0 (like the 'trunc' function NOT 'floor'). This results in incorrect rounding for negative values. To keep the current behavior, use torch.div(a, b, rounding_mode='trunc'), or for actual floor division, use torch.div(a, b, rounding_mode='floor').\n",
      "  return (input_length - kernel_size) // stride + 1\n"
     ]
    },
    {
     "data": {
      "text/html": [
       "\n",
       "    <div>\n",
       "      \n",
       "      <progress value='341' max='960' style='width:300px; height:20px; vertical-align: middle;'></progress>\n",
       "      [341/960 1:54:24 < 3:28:53, 0.05 it/s, Epoch 10.62/30]\n",
       "    </div>\n",
       "    <table border=\"1\" class=\"dataframe\">\n",
       "  <thead>\n",
       "    <tr style=\"text-align: left;\">\n",
       "      <th>Step</th>\n",
       "      <th>Training Loss</th>\n",
       "      <th>Validation Loss</th>\n",
       "    </tr>\n",
       "  </thead>\n",
       "  <tbody>\n",
       "  </tbody>\n",
       "</table><p>"
      ],
      "text/plain": [
       "<IPython.core.display.HTML object>"
      ]
     },
     "metadata": {},
     "output_type": "display_data"
    },
    {
     "data": {
      "text/html": [
       "\n",
       "    <div>\n",
       "      \n",
       "      <progress value='348' max='960' style='width:300px; height:20px; vertical-align: middle;'></progress>\n",
       "      [348/960 1:56:39 < 3:26:20, 0.05 it/s, Epoch 10.83/30]\n",
       "    </div>\n",
       "    <table border=\"1\" class=\"dataframe\">\n",
       "  <thead>\n",
       "    <tr style=\"text-align: left;\">\n",
       "      <th>Step</th>\n",
       "      <th>Training Loss</th>\n",
       "      <th>Validation Loss</th>\n",
       "    </tr>\n",
       "  </thead>\n",
       "  <tbody>\n",
       "  </tbody>\n",
       "</table><p>"
      ],
      "text/plain": [
       "<IPython.core.display.HTML object>"
      ]
     },
     "metadata": {},
     "output_type": "display_data"
    }
   ],
   "source": [
    "trainer.train()"
   ]
  },
  {
   "cell_type": "markdown",
   "metadata": {
    "id": "a9q4mgMZplr_"
   },
   "source": [
    "The training loss and validation WER go down nicely."
   ]
  },
  {
   "cell_type": "markdown",
   "metadata": {
    "id": "4Ya7WEy0pd13"
   },
   "source": [
    "You can now upload the result of the training to the \ud83e\udd17 Hub, just execute this instruction:"
   ]
  },
  {
   "cell_type": "code",
   "execution_count": null,
   "metadata": {
    "id": "ArG1Thf6NBWm"
   },
   "outputs": [],
   "source": [
    "trainer.push_to_hub()"
   ]
  },
  {
   "cell_type": "markdown",
   "metadata": {
    "id": "RHIVc44_fY2N"
   },
   "source": [
    "You can now share this model with all your friends, family, favorite pets: they can all load it with the identifier \"your-username/the-name-you-picked\" so for instance:"
   ]
  },
  {
   "cell_type": "markdown",
   "metadata": {
    "id": "5lWWIKyBpx1h"
   },
   "source": [
    "```python\n",
    "from transformers import AutoModelForCTC, Wav2Vec2Processor\n",
    "\n",
    "model = AutoModelForCTC.from_pretrained(\"patrickvonplaten/wav2vec2-large-xls-r-300m-tr-colab\")\n",
    "processor = Wav2Vec2Processor.from_pretrained(\"patrickvonplaten/wav2vec2-large-xls-r-300m-tr-colab\")\n",
    "```"
   ]
  },
  {
   "cell_type": "markdown",
   "metadata": {
    "id": "pmi1cX0fRBit"
   },
   "source": [
    "For more examples of how XLS-R can be fine-tuned, please take a look at the [official speech recognition examples](https://github.com/huggingface/transformers/tree/master/examples/pytorch/speech-recognition#examples)."
   ]
  },
  {
   "cell_type": "markdown",
   "metadata": {
    "id": "L8b8Qkoy3KyS"
   },
   "source": [
    "### Evaluation\n",
    "\n",
    "As a final check, let's load the model and verify that it indeed has learned to transcribe Turkish speech.\n",
    "\n",
    "Let's first load the pretrained checkpoint."
   ]
  },
  {
   "cell_type": "code",
   "execution_count": null,
   "metadata": {
    "id": "R351I9IQp_9D"
   },
   "outputs": [],
   "source": [
    "model = Wav2Vec2ForCTC.from_pretrained(repo_name).to(\"cuda\")\n",
    "processor = Wav2Vec2Processor.from_pretrained(repo_name)"
   ]
  },
  {
   "cell_type": "markdown",
   "metadata": {
    "id": "jD7TZ1YS3S_K"
   },
   "source": [
    "\n",
    "Now, we will just take the first example of the test set, run it through the model and take the `argmax(...)` of the logits to retrieve the predicted token ids."
   ]
  },
  {
   "cell_type": "code",
   "execution_count": null,
   "metadata": {
    "id": "pax07TnL3WZn"
   },
   "outputs": [],
   "source": [
    "input_dict = processor(common_voice_test[0][\"input_values\"], return_tensors=\"pt\", padding=True)\n",
    "\n",
    "logits = model(input_dict.input_values.to(\"cuda\")).logits\n",
    "\n",
    "pred_ids = torch.argmax(logits, dim=-1)[0]"
   ]
  },
  {
   "cell_type": "markdown",
   "metadata": {
    "id": "7nkzSQu53Zs2"
   },
   "source": [
    "We adapted `common_voice_test` quite a bit so that the dataset instance does not contain the original sentence label anymore. Thus, we re-use the original dataset to get the label of the first example."
   ]
  },
  {
   "cell_type": "code",
   "execution_count": null,
   "metadata": {
    "id": "fe2AE-2xqKHx"
   },
   "outputs": [],
   "source": [
    "common_voice_test_transcription = load_dataset(\"common_voice\", \"tr\", data_dir=\"./cv-corpus-6.1-2020-12-11\", split=\"test\")"
   ]
  },
  {
   "cell_type": "markdown",
   "metadata": {
    "id": "epu8kCQZ3h70"
   },
   "source": [
    "\n",
    "Finally, we can decode the example."
   ]
  },
  {
   "cell_type": "code",
   "execution_count": null,
   "metadata": {
    "id": "K4xWqmk_qMn0"
   },
   "outputs": [],
   "source": [
    "print(\"Prediction:\")\n",
    "print(processor.decode(pred_ids))\n",
    "\n",
    "print(\"\\nReference:\")\n",
    "print(common_voice_test_transcription[0][\"sentence\"].lower())"
   ]
  },
  {
   "cell_type": "markdown",
   "metadata": {
    "id": "HwhyoMml3oOT"
   },
   "source": [
    "Alright! The transcription can definitely be recognized from our prediction, but it is not perfect yet. Training the model a bit longer, spending more time on the data preprocessing, and especially using a language model for decoding would certainly improve the model's overall performance.\n",
    "\n",
    "For a demonstration model on a low-resource language, the results are quite acceptable however \ud83e\udd17."
   ]
  }
 ],
 "metadata": {
  "accelerator": "GPU",
  "colab": {
   "collapsed_sections": [],
   "machine_shape": "hm",
   "name": "Fine-Tune XLS-R on Common Voice.ipynb",
   "provenance": [],
   "toc_visible": true
  },
  "kernelspec": {
   "display_name": "Python 3 (ipykernel)",
   "language": "python",
   "name": "python3"
  },
  "language_info": {
   "codemirror_mode": {
    "name": "ipython",
    "version": 3
   },
   "file_extension": ".py",
   "mimetype": "text/x-python",
   "name": "python",
   "nbconvert_exporter": "python",
   "pygments_lexer": "ipython3",
   "version": "3.8.12"
  },
  "widgets": {
   "application/vnd.jupyter.widget-state+json": {
    "031a7e18021943ffbd6d06a17cb0302f": {
     "model_module": "@jupyter-widgets/base",
     "model_module_version": "1.2.0",
     "model_name": "LayoutModel",
     "state": {
      "_model_module": "@jupyter-widgets/base",
      "_model_module_version": "1.2.0",
      "_model_name": "LayoutModel",
      "_view_count": null,
      "_view_module": "@jupyter-widgets/base",
      "_view_module_version": "1.2.0",
      "_view_name": "LayoutView",
      "align_content": null,
      "align_items": null,
      "align_self": null,
      "border": null,
      "bottom": null,
      "display": null,
      "flex": null,
      "flex_flow": null,
      "grid_area": null,
      "grid_auto_columns": null,
      "grid_auto_flow": null,
      "grid_auto_rows": null,
      "grid_column": null,
      "grid_gap": null,
      "grid_row": null,
      "grid_template_areas": null,
      "grid_template_columns": null,
      "grid_template_rows": null,
      "height": null,
      "justify_content": null,
      "justify_items": null,
      "left": null,
      "margin": null,
      "max_height": null,
      "max_width": null,
      "min_height": null,
      "min_width": null,
      "object_fit": null,
      "object_position": null,
      "order": null,
      "overflow": null,
      "overflow_x": null,
      "overflow_y": null,
      "padding": null,
      "right": null,
      "top": null,
      "visibility": null,
      "width": null
     }
    },
    "03df7be0c20047ca81ca6a813205ac64": {
     "model_module": "@jupyter-widgets/base",
     "model_module_version": "1.2.0",
     "model_name": "LayoutModel",
     "state": {
      "_model_module": "@jupyter-widgets/base",
      "_model_module_version": "1.2.0",
      "_model_name": "LayoutModel",
      "_view_count": null,
      "_view_module": "@jupyter-widgets/base",
      "_view_module_version": "1.2.0",
      "_view_name": "LayoutView",
      "align_content": null,
      "align_items": null,
      "align_self": null,
      "border": null,
      "bottom": null,
      "display": null,
      "flex": null,
      "flex_flow": null,
      "grid_area": null,
      "grid_auto_columns": null,
      "grid_auto_flow": null,
      "grid_auto_rows": null,
      "grid_column": null,
      "grid_gap": null,
      "grid_row": null,
      "grid_template_areas": null,
      "grid_template_columns": null,
      "grid_template_rows": null,
      "height": null,
      "justify_content": null,
      "justify_items": null,
      "left": null,
      "margin": null,
      "max_height": null,
      "max_width": null,
      "min_height": null,
      "min_width": null,
      "object_fit": null,
      "object_position": null,
      "order": null,
      "overflow": null,
      "overflow_x": null,
      "overflow_y": null,
      "padding": null,
      "right": null,
      "top": null,
      "visibility": null,
      "width": null
     }
    },
    "040c74a1e6c647aaa3c3a24b29686d20": {
     "model_module": "@jupyter-widgets/base",
     "model_module_version": "1.2.0",
     "model_name": "LayoutModel",
     "state": {
      "_model_module": "@jupyter-widgets/base",
      "_model_module_version": "1.2.0",
      "_model_name": "LayoutModel",
      "_view_count": null,
      "_view_module": "@jupyter-widgets/base",
      "_view_module_version": "1.2.0",
      "_view_name": "LayoutView",
      "align_content": null,
      "align_items": null,
      "align_self": null,
      "border": null,
      "bottom": null,
      "display": null,
      "flex": null,
      "flex_flow": null,
      "grid_area": null,
      "grid_auto_columns": null,
      "grid_auto_flow": null,
      "grid_auto_rows": null,
      "grid_column": null,
      "grid_gap": null,
      "grid_row": null,
      "grid_template_areas": null,
      "grid_template_columns": null,
      "grid_template_rows": null,
      "height": null,
      "justify_content": null,
      "justify_items": null,
      "left": null,
      "margin": null,
      "max_height": null,
      "max_width": null,
      "min_height": null,
      "min_width": null,
      "object_fit": null,
      "object_position": null,
      "order": null,
      "overflow": null,
      "overflow_x": null,
      "overflow_y": null,
      "padding": null,
      "right": null,
      "top": null,
      "visibility": null,
      "width": null
     }
    },
    "0447519f1cdd4e14abab320103d1b989": {
     "model_module": "@jupyter-widgets/base",
     "model_module_version": "1.2.0",
     "model_name": "LayoutModel",
     "state": {
      "_model_module": "@jupyter-widgets/base",
      "_model_module_version": "1.2.0",
      "_model_name": "LayoutModel",
      "_view_count": null,
      "_view_module": "@jupyter-widgets/base",
      "_view_module_version": "1.2.0",
      "_view_name": "LayoutView",
      "align_content": null,
      "align_items": null,
      "align_self": null,
      "border": null,
      "bottom": null,
      "display": null,
      "flex": null,
      "flex_flow": null,
      "grid_area": null,
      "grid_auto_columns": null,
      "grid_auto_flow": null,
      "grid_auto_rows": null,
      "grid_column": null,
      "grid_gap": null,
      "grid_row": null,
      "grid_template_areas": null,
      "grid_template_columns": null,
      "grid_template_rows": null,
      "height": null,
      "justify_content": null,
      "justify_items": null,
      "left": null,
      "margin": null,
      "max_height": null,
      "max_width": null,
      "min_height": null,
      "min_width": null,
      "object_fit": null,
      "object_position": null,
      "order": null,
      "overflow": null,
      "overflow_x": null,
      "overflow_y": null,
      "padding": null,
      "right": null,
      "top": null,
      "visibility": null,
      "width": null
     }
    },
    "06556f4f05be42aabe588d648fbf87f0": {
     "model_module": "@jupyter-widgets/controls",
     "model_module_version": "1.5.0",
     "model_name": "DescriptionStyleModel",
     "state": {
      "_model_module": "@jupyter-widgets/controls",
      "_model_module_version": "1.5.0",
      "_model_name": "DescriptionStyleModel",
      "_view_count": null,
      "_view_module": "@jupyter-widgets/base",
      "_view_module_version": "1.2.0",
      "_view_name": "StyleView",
      "description_width": ""
     }
    },
    "0ad5c9a2d17c450f86d1d2bf69b82845": {
     "model_module": "@jupyter-widgets/controls",
     "model_module_version": "1.5.0",
     "model_name": "ProgressStyleModel",
     "state": {
      "_model_module": "@jupyter-widgets/controls",
      "_model_module_version": "1.5.0",
      "_model_name": "ProgressStyleModel",
      "_view_count": null,
      "_view_module": "@jupyter-widgets/base",
      "_view_module_version": "1.2.0",
      "_view_name": "StyleView",
      "bar_color": null,
      "description_width": ""
     }
    },
    "0b220fab7f954b8abe429e5880c16125": {
     "model_module": "@jupyter-widgets/controls",
     "model_module_version": "1.5.0",
     "model_name": "DescriptionStyleModel",
     "state": {
      "_model_module": "@jupyter-widgets/controls",
      "_model_module_version": "1.5.0",
      "_model_name": "DescriptionStyleModel",
      "_view_count": null,
      "_view_module": "@jupyter-widgets/base",
      "_view_module_version": "1.2.0",
      "_view_name": "StyleView",
      "description_width": ""
     }
    },
    "0b8e95fc10f0410eb5108216c347412f": {
     "model_module": "@jupyter-widgets/base",
     "model_module_version": "1.2.0",
     "model_name": "LayoutModel",
     "state": {
      "_model_module": "@jupyter-widgets/base",
      "_model_module_version": "1.2.0",
      "_model_name": "LayoutModel",
      "_view_count": null,
      "_view_module": "@jupyter-widgets/base",
      "_view_module_version": "1.2.0",
      "_view_name": "LayoutView",
      "align_content": null,
      "align_items": null,
      "align_self": null,
      "border": null,
      "bottom": null,
      "display": null,
      "flex": null,
      "flex_flow": null,
      "grid_area": null,
      "grid_auto_columns": null,
      "grid_auto_flow": null,
      "grid_auto_rows": null,
      "grid_column": null,
      "grid_gap": null,
      "grid_row": null,
      "grid_template_areas": null,
      "grid_template_columns": null,
      "grid_template_rows": null,
      "height": null,
      "justify_content": null,
      "justify_items": null,
      "left": null,
      "margin": null,
      "max_height": null,
      "max_width": null,
      "min_height": null,
      "min_width": null,
      "object_fit": null,
      "object_position": null,
      "order": null,
      "overflow": null,
      "overflow_x": null,
      "overflow_y": null,
      "padding": null,
      "right": null,
      "top": null,
      "visibility": null,
      "width": "20px"
     }
    },
    "0be03e8087ee4627a4513d54b0fa8858": {
     "model_module": "@jupyter-widgets/controls",
     "model_module_version": "1.5.0",
     "model_name": "ProgressStyleModel",
     "state": {
      "_model_module": "@jupyter-widgets/controls",
      "_model_module_version": "1.5.0",
      "_model_name": "ProgressStyleModel",
      "_view_count": null,
      "_view_module": "@jupyter-widgets/base",
      "_view_module_version": "1.2.0",
      "_view_name": "StyleView",
      "bar_color": null,
      "description_width": ""
     }
    },
    "0cb90467135647a296130eaaa218338a": {
     "model_module": "@jupyter-widgets/base",
     "model_module_version": "1.2.0",
     "model_name": "LayoutModel",
     "state": {
      "_model_module": "@jupyter-widgets/base",
      "_model_module_version": "1.2.0",
      "_model_name": "LayoutModel",
      "_view_count": null,
      "_view_module": "@jupyter-widgets/base",
      "_view_module_version": "1.2.0",
      "_view_name": "LayoutView",
      "align_content": null,
      "align_items": null,
      "align_self": null,
      "border": null,
      "bottom": null,
      "display": null,
      "flex": null,
      "flex_flow": null,
      "grid_area": null,
      "grid_auto_columns": null,
      "grid_auto_flow": null,
      "grid_auto_rows": null,
      "grid_column": null,
      "grid_gap": null,
      "grid_row": null,
      "grid_template_areas": null,
      "grid_template_columns": null,
      "grid_template_rows": null,
      "height": null,
      "justify_content": null,
      "justify_items": null,
      "left": null,
      "margin": null,
      "max_height": null,
      "max_width": null,
      "min_height": null,
      "min_width": null,
      "object_fit": null,
      "object_position": null,
      "order": null,
      "overflow": null,
      "overflow_x": null,
      "overflow_y": null,
      "padding": null,
      "right": null,
      "top": null,
      "visibility": null,
      "width": "20px"
     }
    },
    "0cee9a86adef4ff3ad624a054faa82d7": {
     "model_module": "@jupyter-widgets/base",
     "model_module_version": "1.2.0",
     "model_name": "LayoutModel",
     "state": {
      "_model_module": "@jupyter-widgets/base",
      "_model_module_version": "1.2.0",
      "_model_name": "LayoutModel",
      "_view_count": null,
      "_view_module": "@jupyter-widgets/base",
      "_view_module_version": "1.2.0",
      "_view_name": "LayoutView",
      "align_content": null,
      "align_items": null,
      "align_self": null,
      "border": null,
      "bottom": null,
      "display": null,
      "flex": null,
      "flex_flow": null,
      "grid_area": null,
      "grid_auto_columns": null,
      "grid_auto_flow": null,
      "grid_auto_rows": null,
      "grid_column": null,
      "grid_gap": null,
      "grid_row": null,
      "grid_template_areas": null,
      "grid_template_columns": null,
      "grid_template_rows": null,
      "height": null,
      "justify_content": null,
      "justify_items": null,
      "left": null,
      "margin": null,
      "max_height": null,
      "max_width": null,
      "min_height": null,
      "min_width": null,
      "object_fit": null,
      "object_position": null,
      "order": null,
      "overflow": null,
      "overflow_x": null,
      "overflow_y": null,
      "padding": null,
      "right": null,
      "top": null,
      "visibility": null,
      "width": null
     }
    },
    "0dfb81058d914532be148c09c12f3de1": {
     "model_module": "@jupyter-widgets/controls",
     "model_module_version": "1.5.0",
     "model_name": "HBoxModel",
     "state": {
      "_dom_classes": [],
      "_model_module": "@jupyter-widgets/controls",
      "_model_module_version": "1.5.0",
      "_model_name": "HBoxModel",
      "_view_count": null,
      "_view_module": "@jupyter-widgets/controls",
      "_view_module_version": "1.5.0",
      "_view_name": "HBoxView",
      "box_style": "",
      "children": [
       "IPY_MODEL_a3720f4cf4394ce69f58c04b4ec4c75a",
       "IPY_MODEL_9a237cbf91cc43a08700917727804b60",
       "IPY_MODEL_c6a249e4fba042baaa6e579d8247cf7a"
      ],
      "layout": "IPY_MODEL_91681fda85764dc388f637d16253df68"
     }
    },
    "0e435bb252504fdd8f041e74a9e805e0": {
     "model_module": "@jupyter-widgets/base",
     "model_module_version": "1.2.0",
     "model_name": "LayoutModel",
     "state": {
      "_model_module": "@jupyter-widgets/base",
      "_model_module_version": "1.2.0",
      "_model_name": "LayoutModel",
      "_view_count": null,
      "_view_module": "@jupyter-widgets/base",
      "_view_module_version": "1.2.0",
      "_view_name": "LayoutView",
      "align_content": null,
      "align_items": null,
      "align_self": null,
      "border": null,
      "bottom": null,
      "display": null,
      "flex": null,
      "flex_flow": null,
      "grid_area": null,
      "grid_auto_columns": null,
      "grid_auto_flow": null,
      "grid_auto_rows": null,
      "grid_column": null,
      "grid_gap": null,
      "grid_row": null,
      "grid_template_areas": null,
      "grid_template_columns": null,
      "grid_template_rows": null,
      "height": null,
      "justify_content": null,
      "justify_items": null,
      "left": null,
      "margin": null,
      "max_height": null,
      "max_width": null,
      "min_height": null,
      "min_width": null,
      "object_fit": null,
      "object_position": null,
      "order": null,
      "overflow": null,
      "overflow_x": null,
      "overflow_y": null,
      "padding": null,
      "right": null,
      "top": null,
      "visibility": null,
      "width": "20px"
     }
    },
    "0e8a1ade0a594d5094e21714f56d83a0": {
     "model_module": "@jupyter-widgets/controls",
     "model_module_version": "1.5.0",
     "model_name": "HBoxModel",
     "state": {
      "_dom_classes": [],
      "_model_module": "@jupyter-widgets/controls",
      "_model_module_version": "1.5.0",
      "_model_name": "HBoxModel",
      "_view_count": null,
      "_view_module": "@jupyter-widgets/controls",
      "_view_module_version": "1.5.0",
      "_view_name": "HBoxView",
      "box_style": "",
      "children": [
       "IPY_MODEL_3f904973fd3c4d98a322fe8079a1e614",
       "IPY_MODEL_d1aba60f1c764be3a045e751af34891b",
       "IPY_MODEL_ff52d62efc424613b68e7670f924a222"
      ],
      "layout": "IPY_MODEL_ee1d0c03ad534d30a65693f39a9b2448"
     }
    },
    "0efdab7553384b939a723b59e4e32b03": {
     "model_module": "@jupyter-widgets/controls",
     "model_module_version": "1.5.0",
     "model_name": "DescriptionStyleModel",
     "state": {
      "_model_module": "@jupyter-widgets/controls",
      "_model_module_version": "1.5.0",
      "_model_name": "DescriptionStyleModel",
      "_view_count": null,
      "_view_module": "@jupyter-widgets/base",
      "_view_module_version": "1.2.0",
      "_view_name": "StyleView",
      "description_width": ""
     }
    },
    "0f0194cfba5a493593ddb38b3e812970": {
     "model_module": "@jupyter-widgets/base",
     "model_module_version": "1.2.0",
     "model_name": "LayoutModel",
     "state": {
      "_model_module": "@jupyter-widgets/base",
      "_model_module_version": "1.2.0",
      "_model_name": "LayoutModel",
      "_view_count": null,
      "_view_module": "@jupyter-widgets/base",
      "_view_module_version": "1.2.0",
      "_view_name": "LayoutView",
      "align_content": null,
      "align_items": null,
      "align_self": null,
      "border": null,
      "bottom": null,
      "display": null,
      "flex": null,
      "flex_flow": null,
      "grid_area": null,
      "grid_auto_columns": null,
      "grid_auto_flow": null,
      "grid_auto_rows": null,
      "grid_column": null,
      "grid_gap": null,
      "grid_row": null,
      "grid_template_areas": null,
      "grid_template_columns": null,
      "grid_template_rows": null,
      "height": null,
      "justify_content": null,
      "justify_items": null,
      "left": null,
      "margin": null,
      "max_height": null,
      "max_width": null,
      "min_height": null,
      "min_width": null,
      "object_fit": null,
      "object_position": null,
      "order": null,
      "overflow": null,
      "overflow_x": null,
      "overflow_y": null,
      "padding": null,
      "right": null,
      "top": null,
      "visibility": null,
      "width": null
     }
    },
    "0fa98db3fefe4cccbae866ed79c25868": {
     "model_module": "@jupyter-widgets/base",
     "model_module_version": "1.2.0",
     "model_name": "LayoutModel",
     "state": {
      "_model_module": "@jupyter-widgets/base",
      "_model_module_version": "1.2.0",
      "_model_name": "LayoutModel",
      "_view_count": null,
      "_view_module": "@jupyter-widgets/base",
      "_view_module_version": "1.2.0",
      "_view_name": "LayoutView",
      "align_content": null,
      "align_items": null,
      "align_self": null,
      "border": null,
      "bottom": null,
      "display": null,
      "flex": null,
      "flex_flow": null,
      "grid_area": null,
      "grid_auto_columns": null,
      "grid_auto_flow": null,
      "grid_auto_rows": null,
      "grid_column": null,
      "grid_gap": null,
      "grid_row": null,
      "grid_template_areas": null,
      "grid_template_columns": null,
      "grid_template_rows": null,
      "height": null,
      "justify_content": null,
      "justify_items": null,
      "left": null,
      "margin": null,
      "max_height": null,
      "max_width": null,
      "min_height": null,
      "min_width": null,
      "object_fit": null,
      "object_position": null,
      "order": null,
      "overflow": null,
      "overflow_x": null,
      "overflow_y": null,
      "padding": null,
      "right": null,
      "top": null,
      "visibility": null,
      "width": null
     }
    },
    "100323f0cbb04891bcbfff9204daaf7d": {
     "model_module": "@jupyter-widgets/controls",
     "model_module_version": "1.5.0",
     "model_name": "ProgressStyleModel",
     "state": {
      "_model_module": "@jupyter-widgets/controls",
      "_model_module_version": "1.5.0",
      "_model_name": "ProgressStyleModel",
      "_view_count": null,
      "_view_module": "@jupyter-widgets/base",
      "_view_module_version": "1.2.0",
      "_view_name": "StyleView",
      "bar_color": null,
      "description_width": ""
     }
    },
    "10825e7df1064bcc89600d24f3b15a30": {
     "model_module": "@jupyter-widgets/controls",
     "model_module_version": "1.5.0",
     "model_name": "HTMLModel",
     "state": {
      "_dom_classes": [],
      "_model_module": "@jupyter-widgets/controls",
      "_model_module_version": "1.5.0",
      "_model_name": "HTMLModel",
      "_view_count": null,
      "_view_module": "@jupyter-widgets/controls",
      "_view_module_version": "1.5.0",
      "_view_name": "HTMLView",
      "description": "",
      "description_tooltip": null,
      "layout": "IPY_MODEL_2b7fbb2b36814aee9abe57a19679af4a",
      "placeholder": "\u200b",
      "style": "IPY_MODEL_2cc10d28110f4254883436ddf0edc49c",
      "value": " 1.18G/1.18G [00:47&lt;00:00, 26.5MB/s]"
     }
    },
    "1236daf2b9c94c969c7046216c310c45": {
     "model_module": "@jupyter-widgets/controls",
     "model_module_version": "1.5.0",
     "model_name": "ButtonStyleModel",
     "state": {
      "_model_module": "@jupyter-widgets/controls",
      "_model_module_version": "1.5.0",
      "_model_name": "ButtonStyleModel",
      "_view_count": null,
      "_view_module": "@jupyter-widgets/base",
      "_view_module_version": "1.2.0",
      "_view_name": "StyleView",
      "button_color": null,
      "font_weight": ""
     }
    },
    "134fedfde5c34fef9a467bd7a2e7bf25": {
     "model_module": "@jupyter-widgets/controls",
     "model_module_version": "1.5.0",
     "model_name": "HTMLModel",
     "state": {
      "_dom_classes": [],
      "_model_module": "@jupyter-widgets/controls",
      "_model_module_version": "1.5.0",
      "_model_name": "HTMLModel",
      "_view_count": null,
      "_view_module": "@jupyter-widgets/controls",
      "_view_module_version": "1.5.0",
      "_view_name": "HTMLView",
      "description": "",
      "description_tooltip": null,
      "layout": "IPY_MODEL_e752c31e4bc2497d98286368b1fec992",
      "placeholder": "\u200b",
      "style": "IPY_MODEL_674c9bdeeb9940cda0485f242d2d7b0e",
      "value": "100%"
     }
    },
    "13c65b39457740b7ab5abf4b2931a859": {
     "model_module": "@jupyter-widgets/controls",
     "model_module_version": "1.5.0",
     "model_name": "DescriptionStyleModel",
     "state": {
      "_model_module": "@jupyter-widgets/controls",
      "_model_module_version": "1.5.0",
      "_model_name": "DescriptionStyleModel",
      "_view_count": null,
      "_view_module": "@jupyter-widgets/base",
      "_view_module_version": "1.2.0",
      "_view_name": "StyleView",
      "description_width": ""
     }
    },
    "1830220a449b496c941183714d89c4c8": {
     "model_module": "@jupyter-widgets/base",
     "model_module_version": "1.2.0",
     "model_name": "LayoutModel",
     "state": {
      "_model_module": "@jupyter-widgets/base",
      "_model_module_version": "1.2.0",
      "_model_name": "LayoutModel",
      "_view_count": null,
      "_view_module": "@jupyter-widgets/base",
      "_view_module_version": "1.2.0",
      "_view_name": "LayoutView",
      "align_content": null,
      "align_items": null,
      "align_self": null,
      "border": null,
      "bottom": null,
      "display": null,
      "flex": null,
      "flex_flow": null,
      "grid_area": null,
      "grid_auto_columns": null,
      "grid_auto_flow": null,
      "grid_auto_rows": null,
      "grid_column": null,
      "grid_gap": null,
      "grid_row": null,
      "grid_template_areas": null,
      "grid_template_columns": null,
      "grid_template_rows": null,
      "height": null,
      "justify_content": null,
      "justify_items": null,
      "left": null,
      "margin": null,
      "max_height": null,
      "max_width": null,
      "min_height": null,
      "min_width": null,
      "object_fit": null,
      "object_position": null,
      "order": null,
      "overflow": null,
      "overflow_x": null,
      "overflow_y": null,
      "padding": null,
      "right": null,
      "top": null,
      "visibility": null,
      "width": null
     }
    },
    "186251c872b94be39323363d48a3be59": {
     "model_module": "@jupyter-widgets/controls",
     "model_module_version": "1.5.0",
     "model_name": "ProgressStyleModel",
     "state": {
      "_model_module": "@jupyter-widgets/controls",
      "_model_module_version": "1.5.0",
      "_model_name": "ProgressStyleModel",
      "_view_count": null,
      "_view_module": "@jupyter-widgets/base",
      "_view_module_version": "1.2.0",
      "_view_name": "StyleView",
      "bar_color": null,
      "description_width": ""
     }
    },
    "19cc5ead031a409fbd22c27221aea213": {
     "model_module": "@jupyter-widgets/controls",
     "model_module_version": "1.5.0",
     "model_name": "DescriptionStyleModel",
     "state": {
      "_model_module": "@jupyter-widgets/controls",
      "_model_module_version": "1.5.0",
      "_model_name": "DescriptionStyleModel",
      "_view_count": null,
      "_view_module": "@jupyter-widgets/base",
      "_view_module_version": "1.2.0",
      "_view_name": "StyleView",
      "description_width": ""
     }
    },
    "19f3738024d54f10af1fd28eddfbb597": {
     "model_module": "@jupyter-widgets/base",
     "model_module_version": "1.2.0",
     "model_name": "LayoutModel",
     "state": {
      "_model_module": "@jupyter-widgets/base",
      "_model_module_version": "1.2.0",
      "_model_name": "LayoutModel",
      "_view_count": null,
      "_view_module": "@jupyter-widgets/base",
      "_view_module_version": "1.2.0",
      "_view_name": "LayoutView",
      "align_content": null,
      "align_items": null,
      "align_self": null,
      "border": null,
      "bottom": null,
      "display": null,
      "flex": null,
      "flex_flow": null,
      "grid_area": null,
      "grid_auto_columns": null,
      "grid_auto_flow": null,
      "grid_auto_rows": null,
      "grid_column": null,
      "grid_gap": null,
      "grid_row": null,
      "grid_template_areas": null,
      "grid_template_columns": null,
      "grid_template_rows": null,
      "height": null,
      "justify_content": null,
      "justify_items": null,
      "left": null,
      "margin": null,
      "max_height": null,
      "max_width": null,
      "min_height": null,
      "min_width": null,
      "object_fit": null,
      "object_position": null,
      "order": null,
      "overflow": null,
      "overflow_x": null,
      "overflow_y": null,
      "padding": null,
      "right": null,
      "top": null,
      "visibility": null,
      "width": null
     }
    },
    "1a84e2e73d3247c19a867f120f675921": {
     "model_module": "@jupyter-widgets/controls",
     "model_module_version": "1.5.0",
     "model_name": "HBoxModel",
     "state": {
      "_dom_classes": [],
      "_model_module": "@jupyter-widgets/controls",
      "_model_module_version": "1.5.0",
      "_model_name": "HBoxModel",
      "_view_count": null,
      "_view_module": "@jupyter-widgets/controls",
      "_view_module_version": "1.5.0",
      "_view_name": "HBoxView",
      "box_style": "",
      "children": [
       "IPY_MODEL_d8e7adffd4f4407ba056b6a3114ef767",
       "IPY_MODEL_7762d201d94d4edf879fa6571d6457fb",
       "IPY_MODEL_eeec79ad6bee4da39f619af246ccb02a"
      ],
      "layout": "IPY_MODEL_31175252c10649c6abdf2acc618dd1b9"
     }
    },
    "1aaac3981fa946debd193b43a3b1e4a3": {
     "model_module": "@jupyter-widgets/base",
     "model_module_version": "1.2.0",
     "model_name": "LayoutModel",
     "state": {
      "_model_module": "@jupyter-widgets/base",
      "_model_module_version": "1.2.0",
      "_model_name": "LayoutModel",
      "_view_count": null,
      "_view_module": "@jupyter-widgets/base",
      "_view_module_version": "1.2.0",
      "_view_name": "LayoutView",
      "align_content": null,
      "align_items": null,
      "align_self": null,
      "border": null,
      "bottom": null,
      "display": null,
      "flex": null,
      "flex_flow": null,
      "grid_area": null,
      "grid_auto_columns": null,
      "grid_auto_flow": null,
      "grid_auto_rows": null,
      "grid_column": null,
      "grid_gap": null,
      "grid_row": null,
      "grid_template_areas": null,
      "grid_template_columns": null,
      "grid_template_rows": null,
      "height": null,
      "justify_content": null,
      "justify_items": null,
      "left": null,
      "margin": null,
      "max_height": null,
      "max_width": null,
      "min_height": null,
      "min_width": null,
      "object_fit": null,
      "object_position": null,
      "order": null,
      "overflow": null,
      "overflow_x": null,
      "overflow_y": null,
      "padding": null,
      "right": null,
      "top": null,
      "visibility": null,
      "width": null
     }
    },
    "1bab3ff916ca485faf6cb95008452954": {
     "model_module": "@jupyter-widgets/base",
     "model_module_version": "1.2.0",
     "model_name": "LayoutModel",
     "state": {
      "_model_module": "@jupyter-widgets/base",
      "_model_module_version": "1.2.0",
      "_model_name": "LayoutModel",
      "_view_count": null,
      "_view_module": "@jupyter-widgets/base",
      "_view_module_version": "1.2.0",
      "_view_name": "LayoutView",
      "align_content": null,
      "align_items": null,
      "align_self": null,
      "border": null,
      "bottom": null,
      "display": null,
      "flex": null,
      "flex_flow": null,
      "grid_area": null,
      "grid_auto_columns": null,
      "grid_auto_flow": null,
      "grid_auto_rows": null,
      "grid_column": null,
      "grid_gap": null,
      "grid_row": null,
      "grid_template_areas": null,
      "grid_template_columns": null,
      "grid_template_rows": null,
      "height": null,
      "justify_content": null,
      "justify_items": null,
      "left": null,
      "margin": null,
      "max_height": null,
      "max_width": null,
      "min_height": null,
      "min_width": null,
      "object_fit": null,
      "object_position": null,
      "order": null,
      "overflow": null,
      "overflow_x": null,
      "overflow_y": null,
      "padding": null,
      "right": null,
      "top": null,
      "visibility": null,
      "width": null
     }
    },
    "1cd7a99c6b844228abbdc14fde5cd1c5": {
     "model_module": "@jupyter-widgets/controls",
     "model_module_version": "1.5.0",
     "model_name": "DescriptionStyleModel",
     "state": {
      "_model_module": "@jupyter-widgets/controls",
      "_model_module_version": "1.5.0",
      "_model_name": "DescriptionStyleModel",
      "_view_count": null,
      "_view_module": "@jupyter-widgets/base",
      "_view_module_version": "1.2.0",
      "_view_name": "StyleView",
      "description_width": ""
     }
    },
    "1da4d9a1225046be8a344593f78b9753": {
     "model_module": "@jupyter-widgets/base",
     "model_module_version": "1.2.0",
     "model_name": "LayoutModel",
     "state": {
      "_model_module": "@jupyter-widgets/base",
      "_model_module_version": "1.2.0",
      "_model_name": "LayoutModel",
      "_view_count": null,
      "_view_module": "@jupyter-widgets/base",
      "_view_module_version": "1.2.0",
      "_view_name": "LayoutView",
      "align_content": null,
      "align_items": null,
      "align_self": null,
      "border": null,
      "bottom": null,
      "display": null,
      "flex": null,
      "flex_flow": null,
      "grid_area": null,
      "grid_auto_columns": null,
      "grid_auto_flow": null,
      "grid_auto_rows": null,
      "grid_column": null,
      "grid_gap": null,
      "grid_row": null,
      "grid_template_areas": null,
      "grid_template_columns": null,
      "grid_template_rows": null,
      "height": null,
      "justify_content": null,
      "justify_items": null,
      "left": null,
      "margin": null,
      "max_height": null,
      "max_width": null,
      "min_height": null,
      "min_width": null,
      "object_fit": null,
      "object_position": null,
      "order": null,
      "overflow": null,
      "overflow_x": null,
      "overflow_y": null,
      "padding": null,
      "right": null,
      "top": null,
      "visibility": null,
      "width": null
     }
    },
    "1fbefc015c124c559fff42c6212891fb": {
     "model_module": "@jupyter-widgets/controls",
     "model_module_version": "1.5.0",
     "model_name": "HTMLModel",
     "state": {
      "_dom_classes": [],
      "_model_module": "@jupyter-widgets/controls",
      "_model_module_version": "1.5.0",
      "_model_name": "HTMLModel",
      "_view_count": null,
      "_view_module": "@jupyter-widgets/controls",
      "_view_module_version": "1.5.0",
      "_view_name": "HTMLView",
      "description": "",
      "description_tooltip": null,
      "layout": "IPY_MODEL_1aaac3981fa946debd193b43a3b1e4a3",
      "placeholder": "\u200b",
      "style": "IPY_MODEL_9f97deaf66c14f9ea29e4e606d1f44ff",
      "value": " 226/0 [00:00&lt;00:00, 2250.78 examples/s]"
     }
    },
    "211084b543ec439ca237416aeefc762b": {
     "model_module": "@jupyter-widgets/base",
     "model_module_version": "1.2.0",
     "model_name": "LayoutModel",
     "state": {
      "_model_module": "@jupyter-widgets/base",
      "_model_module_version": "1.2.0",
      "_model_name": "LayoutModel",
      "_view_count": null,
      "_view_module": "@jupyter-widgets/base",
      "_view_module_version": "1.2.0",
      "_view_name": "LayoutView",
      "align_content": null,
      "align_items": null,
      "align_self": null,
      "border": null,
      "bottom": null,
      "display": null,
      "flex": null,
      "flex_flow": null,
      "grid_area": null,
      "grid_auto_columns": null,
      "grid_auto_flow": null,
      "grid_auto_rows": null,
      "grid_column": null,
      "grid_gap": null,
      "grid_row": null,
      "grid_template_areas": null,
      "grid_template_columns": null,
      "grid_template_rows": null,
      "height": null,
      "justify_content": null,
      "justify_items": null,
      "left": null,
      "margin": null,
      "max_height": null,
      "max_width": null,
      "min_height": null,
      "min_width": null,
      "object_fit": null,
      "object_position": null,
      "order": null,
      "overflow": null,
      "overflow_x": null,
      "overflow_y": null,
      "padding": null,
      "right": null,
      "top": null,
      "visibility": null,
      "width": null
     }
    },
    "212f7e5ec9bb4c769c0c40ef16cc9c22": {
     "model_module": "@jupyter-widgets/base",
     "model_module_version": "1.2.0",
     "model_name": "LayoutModel",
     "state": {
      "_model_module": "@jupyter-widgets/base",
      "_model_module_version": "1.2.0",
      "_model_name": "LayoutModel",
      "_view_count": null,
      "_view_module": "@jupyter-widgets/base",
      "_view_module_version": "1.2.0",
      "_view_name": "LayoutView",
      "align_content": null,
      "align_items": null,
      "align_self": null,
      "border": null,
      "bottom": null,
      "display": null,
      "flex": null,
      "flex_flow": null,
      "grid_area": null,
      "grid_auto_columns": null,
      "grid_auto_flow": null,
      "grid_auto_rows": null,
      "grid_column": null,
      "grid_gap": null,
      "grid_row": null,
      "grid_template_areas": null,
      "grid_template_columns": null,
      "grid_template_rows": null,
      "height": null,
      "justify_content": null,
      "justify_items": null,
      "left": null,
      "margin": null,
      "max_height": null,
      "max_width": null,
      "min_height": null,
      "min_width": null,
      "object_fit": null,
      "object_position": null,
      "order": null,
      "overflow": null,
      "overflow_x": null,
      "overflow_y": null,
      "padding": null,
      "right": null,
      "top": null,
      "visibility": null,
      "width": null
     }
    },
    "243ecba5b9094aa88e4c59e86eebed3a": {
     "model_module": "@jupyter-widgets/controls",
     "model_module_version": "1.5.0",
     "model_name": "HTMLModel",
     "state": {
      "_dom_classes": [],
      "_model_module": "@jupyter-widgets/controls",
      "_model_module_version": "1.5.0",
      "_model_name": "HTMLModel",
      "_view_count": null,
      "_view_module": "@jupyter-widgets/controls",
      "_view_module_version": "1.5.0",
      "_view_name": "HTMLView",
      "description": "",
      "description_tooltip": null,
      "layout": "IPY_MODEL_211084b543ec439ca237416aeefc762b",
      "placeholder": "\u200b",
      "style": "IPY_MODEL_9c6e369c65de4f50964caa83c3f1c952",
      "value": " 506/506 [00:00&lt;00:00, 1258.71ex/s]"
     }
    },
    "24e4cdf7daf54ef29266acfe9334c4aa": {
     "model_module": "@jupyter-widgets/controls",
     "model_module_version": "1.5.0",
     "model_name": "HBoxModel",
     "state": {
      "_dom_classes": [],
      "_model_module": "@jupyter-widgets/controls",
      "_model_module_version": "1.5.0",
      "_model_name": "HBoxModel",
      "_view_count": null,
      "_view_module": "@jupyter-widgets/controls",
      "_view_module_version": "1.5.0",
      "_view_name": "HBoxView",
      "box_style": "",
      "children": [
       "IPY_MODEL_a50b3f85eb8c4288967faf5bef4f6a69",
       "IPY_MODEL_8fede89048584d4abc82065ca2b26ae9",
       "IPY_MODEL_f7524fac554b46f5ab66eb196d73fb8c"
      ],
      "layout": "IPY_MODEL_9f43c050bf224104983c268d0028a984"
     }
    },
    "25580d530df5448786cb11d39d835191": {
     "model_module": "@jupyter-widgets/controls",
     "model_module_version": "1.5.0",
     "model_name": "PasswordModel",
     "state": {
      "_dom_classes": [],
      "_model_module": "@jupyter-widgets/controls",
      "_model_module_version": "1.5.0",
      "_model_name": "PasswordModel",
      "_view_count": null,
      "_view_module": "@jupyter-widgets/controls",
      "_view_module_version": "1.5.0",
      "_view_name": "PasswordView",
      "continuous_update": true,
      "description": "Password:",
      "description_tooltip": null,
      "disabled": false,
      "layout": "IPY_MODEL_8e0d381b96b6495883bfb8b1c5da323c",
      "placeholder": "\u200b",
      "style": "IPY_MODEL_1cd7a99c6b844228abbdc14fde5cd1c5",
      "value": ""
     }
    },
    "26d065c560ce46e1bba09f64211bf11c": {
     "model_module": "@jupyter-widgets/controls",
     "model_module_version": "1.5.0",
     "model_name": "HBoxModel",
     "state": {
      "_dom_classes": [],
      "_model_module": "@jupyter-widgets/controls",
      "_model_module_version": "1.5.0",
      "_model_name": "HBoxModel",
      "_view_count": null,
      "_view_module": "@jupyter-widgets/controls",
      "_view_module_version": "1.5.0",
      "_view_name": "HBoxView",
      "box_style": "",
      "children": [
       "IPY_MODEL_8aba312c6498435387e16cc3dd4632f9",
       "IPY_MODEL_e58a3678ebd64623926da0444f25078e",
       "IPY_MODEL_40d802c03f8245b796f4ac41e8b18029"
      ],
      "layout": "IPY_MODEL_f485580dd8b24b6bb9ea1a1d5befee1d"
     }
    },
    "272899bc143341adbbf4bacc4a9b49da": {
     "model_module": "@jupyter-widgets/controls",
     "model_module_version": "1.5.0",
     "model_name": "HBoxModel",
     "state": {
      "_dom_classes": [],
      "_model_module": "@jupyter-widgets/controls",
      "_model_module_version": "1.5.0",
      "_model_name": "HBoxModel",
      "_view_count": null,
      "_view_module": "@jupyter-widgets/controls",
      "_view_module_version": "1.5.0",
      "_view_name": "HBoxView",
      "box_style": "",
      "children": [
       "IPY_MODEL_c81067e07b4f4a58834fce2a61576eeb",
       "IPY_MODEL_dea3e2e17ced4c76bef6f5e8efe606d9",
       "IPY_MODEL_1fbefc015c124c559fff42c6212891fb"
      ],
      "layout": "IPY_MODEL_65235c10925042b39c23a9aace6c18d1"
     }
    },
    "29accfd7071f4060905134c8794cae14": {
     "model_module": "@jupyter-widgets/controls",
     "model_module_version": "1.5.0",
     "model_name": "DescriptionStyleModel",
     "state": {
      "_model_module": "@jupyter-widgets/controls",
      "_model_module_version": "1.5.0",
      "_model_name": "DescriptionStyleModel",
      "_view_count": null,
      "_view_module": "@jupyter-widgets/base",
      "_view_module_version": "1.2.0",
      "_view_name": "StyleView",
      "description_width": ""
     }
    },
    "29dcf99bbc174a62ac7301430bef4be4": {
     "model_module": "@jupyter-widgets/controls",
     "model_module_version": "1.5.0",
     "model_name": "HTMLModel",
     "state": {
      "_dom_classes": [],
      "_model_module": "@jupyter-widgets/controls",
      "_model_module_version": "1.5.0",
      "_model_name": "HTMLModel",
      "_view_count": null,
      "_view_module": "@jupyter-widgets/controls",
      "_view_module_version": "1.5.0",
      "_view_name": "HTMLView",
      "description": "",
      "description_tooltip": null,
      "layout": "IPY_MODEL_7a26e83c3c444829a8a685d7f8f07ef5",
      "placeholder": "\u200b",
      "style": "IPY_MODEL_59e40b080a534a16b5f1285f8dcfb716",
      "value": "<center>\n<img src=https://huggingface.co/front/assets/huggingface_logo-noborder.svg alt='Hugging Face'>\n<br>\n<b>The AI community building the future</b>\n<br>\nImmediately click login after typing your password or it might be stored in plain text in this notebook file.\n</center>"
     }
    },
    "2a224f82873240ca9d37602b7ed2aaab": {
     "model_module": "@jupyter-widgets/controls",
     "model_module_version": "1.5.0",
     "model_name": "HBoxModel",
     "state": {
      "_dom_classes": [],
      "_model_module": "@jupyter-widgets/controls",
      "_model_module_version": "1.5.0",
      "_model_name": "HBoxModel",
      "_view_count": null,
      "_view_module": "@jupyter-widgets/controls",
      "_view_module_version": "1.5.0",
      "_view_name": "HBoxView",
      "box_style": "",
      "children": [
       "IPY_MODEL_704546b24f464e7dba9528ff52fd8891",
       "IPY_MODEL_25580d530df5448786cb11d39d835191"
      ],
      "layout": "IPY_MODEL_9828e6850d2e422a83cd919567d3a2f6"
     }
    },
    "2b7fbb2b36814aee9abe57a19679af4a": {
     "model_module": "@jupyter-widgets/base",
     "model_module_version": "1.2.0",
     "model_name": "LayoutModel",
     "state": {
      "_model_module": "@jupyter-widgets/base",
      "_model_module_version": "1.2.0",
      "_model_name": "LayoutModel",
      "_view_count": null,
      "_view_module": "@jupyter-widgets/base",
      "_view_module_version": "1.2.0",
      "_view_name": "LayoutView",
      "align_content": null,
      "align_items": null,
      "align_self": null,
      "border": null,
      "bottom": null,
      "display": null,
      "flex": null,
      "flex_flow": null,
      "grid_area": null,
      "grid_auto_columns": null,
      "grid_auto_flow": null,
      "grid_auto_rows": null,
      "grid_column": null,
      "grid_gap": null,
      "grid_row": null,
      "grid_template_areas": null,
      "grid_template_columns": null,
      "grid_template_rows": null,
      "height": null,
      "justify_content": null,
      "justify_items": null,
      "left": null,
      "margin": null,
      "max_height": null,
      "max_width": null,
      "min_height": null,
      "min_width": null,
      "object_fit": null,
      "object_position": null,
      "order": null,
      "overflow": null,
      "overflow_x": null,
      "overflow_y": null,
      "padding": null,
      "right": null,
      "top": null,
      "visibility": null,
      "width": null
     }
    },
    "2c0285e9eeb840e78c5bd598298946fa": {
     "model_module": "@jupyter-widgets/controls",
     "model_module_version": "1.5.0",
     "model_name": "FloatProgressModel",
     "state": {
      "_dom_classes": [],
      "_model_module": "@jupyter-widgets/controls",
      "_model_module_version": "1.5.0",
      "_model_name": "FloatProgressModel",
      "_view_count": null,
      "_view_module": "@jupyter-widgets/controls",
      "_view_module_version": "1.5.0",
      "_view_name": "ProgressView",
      "bar_style": "info",
      "description": "",
      "description_tooltip": null,
      "layout": "IPY_MODEL_0e435bb252504fdd8f041e74a9e805e0",
      "max": 1,
      "min": 0,
      "orientation": "horizontal",
      "style": "IPY_MODEL_100323f0cbb04891bcbfff9204daaf7d",
      "value": 1
     }
    },
    "2cc10d28110f4254883436ddf0edc49c": {
     "model_module": "@jupyter-widgets/controls",
     "model_module_version": "1.5.0",
     "model_name": "DescriptionStyleModel",
     "state": {
      "_model_module": "@jupyter-widgets/controls",
      "_model_module_version": "1.5.0",
      "_model_name": "DescriptionStyleModel",
      "_view_count": null,
      "_view_module": "@jupyter-widgets/base",
      "_view_module_version": "1.2.0",
      "_view_name": "StyleView",
      "description_width": ""
     }
    },
    "2f987e12ede142c986c02268d01eed3c": {
     "model_module": "@jupyter-widgets/base",
     "model_module_version": "1.2.0",
     "model_name": "LayoutModel",
     "state": {
      "_model_module": "@jupyter-widgets/base",
      "_model_module_version": "1.2.0",
      "_model_name": "LayoutModel",
      "_view_count": null,
      "_view_module": "@jupyter-widgets/base",
      "_view_module_version": "1.2.0",
      "_view_name": "LayoutView",
      "align_content": null,
      "align_items": null,
      "align_self": null,
      "border": null,
      "bottom": null,
      "display": null,
      "flex": null,
      "flex_flow": null,
      "grid_area": null,
      "grid_auto_columns": null,
      "grid_auto_flow": null,
      "grid_auto_rows": null,
      "grid_column": null,
      "grid_gap": null,
      "grid_row": null,
      "grid_template_areas": null,
      "grid_template_columns": null,
      "grid_template_rows": null,
      "height": null,
      "justify_content": null,
      "justify_items": null,
      "left": null,
      "margin": null,
      "max_height": null,
      "max_width": null,
      "min_height": null,
      "min_width": null,
      "object_fit": null,
      "object_position": null,
      "order": null,
      "overflow": null,
      "overflow_x": null,
      "overflow_y": null,
      "padding": null,
      "right": null,
      "top": null,
      "visibility": null,
      "width": null
     }
    },
    "30d15f00faa24a889fd4ff7850220c1b": {
     "model_module": "@jupyter-widgets/controls",
     "model_module_version": "1.5.0",
     "model_name": "ProgressStyleModel",
     "state": {
      "_model_module": "@jupyter-widgets/controls",
      "_model_module_version": "1.5.0",
      "_model_name": "ProgressStyleModel",
      "_view_count": null,
      "_view_module": "@jupyter-widgets/base",
      "_view_module_version": "1.2.0",
      "_view_name": "StyleView",
      "bar_color": null,
      "description_width": ""
     }
    },
    "30e365417e8e4bab818779955996472a": {
     "model_module": "@jupyter-widgets/base",
     "model_module_version": "1.2.0",
     "model_name": "LayoutModel",
     "state": {
      "_model_module": "@jupyter-widgets/base",
      "_model_module_version": "1.2.0",
      "_model_name": "LayoutModel",
      "_view_count": null,
      "_view_module": "@jupyter-widgets/base",
      "_view_module_version": "1.2.0",
      "_view_name": "LayoutView",
      "align_content": null,
      "align_items": null,
      "align_self": null,
      "border": null,
      "bottom": null,
      "display": null,
      "flex": null,
      "flex_flow": null,
      "grid_area": null,
      "grid_auto_columns": null,
      "grid_auto_flow": null,
      "grid_auto_rows": null,
      "grid_column": null,
      "grid_gap": null,
      "grid_row": null,
      "grid_template_areas": null,
      "grid_template_columns": null,
      "grid_template_rows": null,
      "height": null,
      "justify_content": null,
      "justify_items": null,
      "left": null,
      "margin": null,
      "max_height": null,
      "max_width": null,
      "min_height": null,
      "min_width": null,
      "object_fit": null,
      "object_position": null,
      "order": null,
      "overflow": null,
      "overflow_x": null,
      "overflow_y": null,
      "padding": null,
      "right": null,
      "top": null,
      "visibility": null,
      "width": null
     }
    },
    "31175252c10649c6abdf2acc618dd1b9": {
     "model_module": "@jupyter-widgets/base",
     "model_module_version": "1.2.0",
     "model_name": "LayoutModel",
     "state": {
      "_model_module": "@jupyter-widgets/base",
      "_model_module_version": "1.2.0",
      "_model_name": "LayoutModel",
      "_view_count": null,
      "_view_module": "@jupyter-widgets/base",
      "_view_module_version": "1.2.0",
      "_view_name": "LayoutView",
      "align_content": null,
      "align_items": null,
      "align_self": null,
      "border": null,
      "bottom": null,
      "display": null,
      "flex": null,
      "flex_flow": null,
      "grid_area": null,
      "grid_auto_columns": null,
      "grid_auto_flow": null,
      "grid_auto_rows": null,
      "grid_column": null,
      "grid_gap": null,
      "grid_row": null,
      "grid_template_areas": null,
      "grid_template_columns": null,
      "grid_template_rows": null,
      "height": null,
      "justify_content": null,
      "justify_items": null,
      "left": null,
      "margin": null,
      "max_height": null,
      "max_width": null,
      "min_height": null,
      "min_width": null,
      "object_fit": null,
      "object_position": null,
      "order": null,
      "overflow": null,
      "overflow_x": null,
      "overflow_y": null,
      "padding": null,
      "right": null,
      "top": null,
      "visibility": null,
      "width": null
     }
    },
    "316fc27acc8e4a389ee24361bbae3574": {
     "model_module": "@jupyter-widgets/controls",
     "model_module_version": "1.5.0",
     "model_name": "HTMLModel",
     "state": {
      "_dom_classes": [],
      "_model_module": "@jupyter-widgets/controls",
      "_model_module_version": "1.5.0",
      "_model_name": "HTMLModel",
      "_view_count": null,
      "_view_module": "@jupyter-widgets/controls",
      "_view_module_version": "1.5.0",
      "_view_name": "HTMLView",
      "description": "",
      "description_tooltip": null,
      "layout": "IPY_MODEL_b00d8bd8e91842609cab8a9cbf07648b",
      "placeholder": "\u200b",
      "style": "IPY_MODEL_d20f957ccf7f474d890df4f5ca746ce7",
      "value": "Downloading: 100%"
     }
    },
    "323365ad271a47df9090510c25179820": {
     "model_module": "@jupyter-widgets/controls",
     "model_module_version": "1.5.0",
     "model_name": "DescriptionStyleModel",
     "state": {
      "_model_module": "@jupyter-widgets/controls",
      "_model_module_version": "1.5.0",
      "_model_name": "DescriptionStyleModel",
      "_view_count": null,
      "_view_module": "@jupyter-widgets/base",
      "_view_module_version": "1.2.0",
      "_view_name": "StyleView",
      "description_width": ""
     }
    },
    "35dd171a360d43489e8b70653afe2efd": {
     "model_module": "@jupyter-widgets/controls",
     "model_module_version": "1.5.0",
     "model_name": "ProgressStyleModel",
     "state": {
      "_model_module": "@jupyter-widgets/controls",
      "_model_module_version": "1.5.0",
      "_model_name": "ProgressStyleModel",
      "_view_count": null,
      "_view_module": "@jupyter-widgets/base",
      "_view_module_version": "1.2.0",
      "_view_name": "StyleView",
      "bar_color": null,
      "description_width": ""
     }
    },
    "3689adf4a5d643d39a875e91f37c880d": {
     "model_module": "@jupyter-widgets/controls",
     "model_module_version": "1.5.0",
     "model_name": "HTMLModel",
     "state": {
      "_dom_classes": [],
      "_model_module": "@jupyter-widgets/controls",
      "_model_module_version": "1.5.0",
      "_model_name": "HTMLModel",
      "_view_count": null,
      "_view_module": "@jupyter-widgets/controls",
      "_view_module_version": "1.5.0",
      "_view_name": "HTMLView",
      "description": "",
      "description_tooltip": null,
      "layout": "IPY_MODEL_993299f428044734bda27f847706669b",
      "placeholder": "\u200b",
      "style": "IPY_MODEL_aaeddaf56b7a408b9b5843fd38f087fc",
      "value": "100%"
     }
    },
    "3869211777cd48ff817a8b779fb9e6ef": {
     "model_module": "@jupyter-widgets/controls",
     "model_module_version": "1.5.0",
     "model_name": "ProgressStyleModel",
     "state": {
      "_model_module": "@jupyter-widgets/controls",
      "_model_module_version": "1.5.0",
      "_model_name": "ProgressStyleModel",
      "_view_count": null,
      "_view_module": "@jupyter-widgets/base",
      "_view_module_version": "1.2.0",
      "_view_name": "StyleView",
      "bar_color": null,
      "description_width": ""
     }
    },
    "3ae00869b3154f08ae20d8c738b71cd1": {
     "model_module": "@jupyter-widgets/base",
     "model_module_version": "1.2.0",
     "model_name": "LayoutModel",
     "state": {
      "_model_module": "@jupyter-widgets/base",
      "_model_module_version": "1.2.0",
      "_model_name": "LayoutModel",
      "_view_count": null,
      "_view_module": "@jupyter-widgets/base",
      "_view_module_version": "1.2.0",
      "_view_name": "LayoutView",
      "align_content": null,
      "align_items": null,
      "align_self": null,
      "border": null,
      "bottom": null,
      "display": null,
      "flex": null,
      "flex_flow": null,
      "grid_area": null,
      "grid_auto_columns": null,
      "grid_auto_flow": null,
      "grid_auto_rows": null,
      "grid_column": null,
      "grid_gap": null,
      "grid_row": null,
      "grid_template_areas": null,
      "grid_template_columns": null,
      "grid_template_rows": null,
      "height": null,
      "justify_content": null,
      "justify_items": null,
      "left": null,
      "margin": null,
      "max_height": null,
      "max_width": null,
      "min_height": null,
      "min_width": null,
      "object_fit": null,
      "object_position": null,
      "order": null,
      "overflow": null,
      "overflow_x": null,
      "overflow_y": null,
      "padding": null,
      "right": null,
      "top": null,
      "visibility": null,
      "width": null
     }
    },
    "3b8cb5d42eff41299096e324d79b6efb": {
     "model_module": "@jupyter-widgets/controls",
     "model_module_version": "1.5.0",
     "model_name": "FloatProgressModel",
     "state": {
      "_dom_classes": [],
      "_model_module": "@jupyter-widgets/controls",
      "_model_module_version": "1.5.0",
      "_model_name": "FloatProgressModel",
      "_view_count": null,
      "_view_module": "@jupyter-widgets/controls",
      "_view_module_version": "1.5.0",
      "_view_name": "ProgressView",
      "bar_style": "success",
      "description": "",
      "description_tooltip": null,
      "layout": "IPY_MODEL_5e9eac0556194d5bac232a369697e17d",
      "max": 506,
      "min": 0,
      "orientation": "horizontal",
      "style": "IPY_MODEL_c7bb6a7287ee407195246d295f8ee454",
      "value": 506
     }
    },
    "3c7d063b2ff34e3daac1563e85bf254b": {
     "model_module": "@jupyter-widgets/controls",
     "model_module_version": "1.5.0",
     "model_name": "HBoxModel",
     "state": {
      "_dom_classes": [],
      "_model_module": "@jupyter-widgets/controls",
      "_model_module_version": "1.5.0",
      "_model_name": "HBoxModel",
      "_view_count": null,
      "_view_module": "@jupyter-widgets/controls",
      "_view_module_version": "1.5.0",
      "_view_name": "HBoxView",
      "box_style": "",
      "children": [
       "IPY_MODEL_4d8b548b015647e7a03d173c0210003f",
       "IPY_MODEL_8318e59848ad4f48b845aa15bfee14b3",
       "IPY_MODEL_b9e7bd84fad24db492fa0df4723a2efd"
      ],
      "layout": "IPY_MODEL_212f7e5ec9bb4c769c0c40ef16cc9c22"
     }
    },
    "3db7e9ad64f7464bb8f20fc5b322a8a6": {
     "model_module": "@jupyter-widgets/base",
     "model_module_version": "1.2.0",
     "model_name": "LayoutModel",
     "state": {
      "_model_module": "@jupyter-widgets/base",
      "_model_module_version": "1.2.0",
      "_model_name": "LayoutModel",
      "_view_count": null,
      "_view_module": "@jupyter-widgets/base",
      "_view_module_version": "1.2.0",
      "_view_name": "LayoutView",
      "align_content": null,
      "align_items": null,
      "align_self": null,
      "border": null,
      "bottom": null,
      "display": null,
      "flex": null,
      "flex_flow": null,
      "grid_area": null,
      "grid_auto_columns": null,
      "grid_auto_flow": null,
      "grid_auto_rows": null,
      "grid_column": null,
      "grid_gap": null,
      "grid_row": null,
      "grid_template_areas": null,
      "grid_template_columns": null,
      "grid_template_rows": null,
      "height": null,
      "justify_content": null,
      "justify_items": null,
      "left": null,
      "margin": null,
      "max_height": null,
      "max_width": null,
      "min_height": null,
      "min_width": null,
      "object_fit": null,
      "object_position": null,
      "order": null,
      "overflow": null,
      "overflow_x": null,
      "overflow_y": null,
      "padding": null,
      "right": null,
      "top": null,
      "visibility": null,
      "width": null
     }
    },
    "3f904973fd3c4d98a322fe8079a1e614": {
     "model_module": "@jupyter-widgets/controls",
     "model_module_version": "1.5.0",
     "model_name": "HTMLModel",
     "state": {
      "_dom_classes": [],
      "_model_module": "@jupyter-widgets/controls",
      "_model_module_version": "1.5.0",
      "_model_name": "HTMLModel",
      "_view_count": null,
      "_view_module": "@jupyter-widgets/controls",
      "_view_module_version": "1.5.0",
      "_view_name": "HTMLView",
      "description": "",
      "description_tooltip": null,
      "layout": "IPY_MODEL_19f3738024d54f10af1fd28eddfbb597",
      "placeholder": "\u200b",
      "style": "IPY_MODEL_323365ad271a47df9090510c25179820",
      "value": "Downloading: "
     }
    },
    "3f9417297a5d4f47bc9ebadb81665e43": {
     "model_module": "@jupyter-widgets/controls",
     "model_module_version": "1.5.0",
     "model_name": "DescriptionStyleModel",
     "state": {
      "_model_module": "@jupyter-widgets/controls",
      "_model_module_version": "1.5.0",
      "_model_name": "DescriptionStyleModel",
      "_view_count": null,
      "_view_module": "@jupyter-widgets/base",
      "_view_module_version": "1.2.0",
      "_view_name": "StyleView",
      "description_width": ""
     }
    },
    "40d802c03f8245b796f4ac41e8b18029": {
     "model_module": "@jupyter-widgets/controls",
     "model_module_version": "1.5.0",
     "model_name": "HTMLModel",
     "state": {
      "_dom_classes": [],
      "_model_module": "@jupyter-widgets/controls",
      "_model_module_version": "1.5.0",
      "_model_name": "HTMLModel",
      "_view_count": null,
      "_view_module": "@jupyter-widgets/controls",
      "_view_module_version": "1.5.0",
      "_view_name": "HTMLView",
      "description": "",
      "description_tooltip": null,
      "layout": "IPY_MODEL_81b2849fd8de48849e6ae55df4aafafb",
      "placeholder": "\u200b",
      "style": "IPY_MODEL_d5bf5ac0ddd94dbbb56af95c46d0f1aa",
      "value": " 206/0 [00:00&lt;00:00, 2052.67 examples/s]"
     }
    },
    "442406a5cad34d18b4846d0b0923fb84": {
     "model_module": "@jupyter-widgets/base",
     "model_module_version": "1.2.0",
     "model_name": "LayoutModel",
     "state": {
      "_model_module": "@jupyter-widgets/base",
      "_model_module_version": "1.2.0",
      "_model_name": "LayoutModel",
      "_view_count": null,
      "_view_module": "@jupyter-widgets/base",
      "_view_module_version": "1.2.0",
      "_view_name": "LayoutView",
      "align_content": null,
      "align_items": null,
      "align_self": null,
      "border": null,
      "bottom": null,
      "display": null,
      "flex": null,
      "flex_flow": null,
      "grid_area": null,
      "grid_auto_columns": null,
      "grid_auto_flow": null,
      "grid_auto_rows": null,
      "grid_column": null,
      "grid_gap": null,
      "grid_row": null,
      "grid_template_areas": null,
      "grid_template_columns": null,
      "grid_template_rows": null,
      "height": null,
      "justify_content": null,
      "justify_items": null,
      "left": null,
      "margin": null,
      "max_height": null,
      "max_width": null,
      "min_height": null,
      "min_width": null,
      "object_fit": null,
      "object_position": null,
      "order": null,
      "overflow": null,
      "overflow_x": null,
      "overflow_y": null,
      "padding": null,
      "right": null,
      "top": null,
      "visibility": null,
      "width": null
     }
    },
    "453c25ef14ae46ca89be007f84601f08": {
     "model_module": "@jupyter-widgets/controls",
     "model_module_version": "1.5.0",
     "model_name": "DescriptionStyleModel",
     "state": {
      "_model_module": "@jupyter-widgets/controls",
      "_model_module_version": "1.5.0",
      "_model_name": "DescriptionStyleModel",
      "_view_count": null,
      "_view_module": "@jupyter-widgets/base",
      "_view_module_version": "1.2.0",
      "_view_name": "StyleView",
      "description_width": ""
     }
    },
    "48be87f262024cce9954b7162ee9a3b8": {
     "model_module": "@jupyter-widgets/base",
     "model_module_version": "1.2.0",
     "model_name": "LayoutModel",
     "state": {
      "_model_module": "@jupyter-widgets/base",
      "_model_module_version": "1.2.0",
      "_model_name": "LayoutModel",
      "_view_count": null,
      "_view_module": "@jupyter-widgets/base",
      "_view_module_version": "1.2.0",
      "_view_name": "LayoutView",
      "align_content": null,
      "align_items": null,
      "align_self": null,
      "border": null,
      "bottom": null,
      "display": null,
      "flex": null,
      "flex_flow": null,
      "grid_area": null,
      "grid_auto_columns": null,
      "grid_auto_flow": null,
      "grid_auto_rows": null,
      "grid_column": null,
      "grid_gap": null,
      "grid_row": null,
      "grid_template_areas": null,
      "grid_template_columns": null,
      "grid_template_rows": null,
      "height": null,
      "justify_content": null,
      "justify_items": null,
      "left": null,
      "margin": null,
      "max_height": null,
      "max_width": null,
      "min_height": null,
      "min_width": null,
      "object_fit": null,
      "object_position": null,
      "order": null,
      "overflow": null,
      "overflow_x": null,
      "overflow_y": null,
      "padding": null,
      "right": null,
      "top": null,
      "visibility": null,
      "width": null
     }
    },
    "4c1492a4b7004ee294b8d22186e0897f": {
     "model_module": "@jupyter-widgets/base",
     "model_module_version": "1.2.0",
     "model_name": "LayoutModel",
     "state": {
      "_model_module": "@jupyter-widgets/base",
      "_model_module_version": "1.2.0",
      "_model_name": "LayoutModel",
      "_view_count": null,
      "_view_module": "@jupyter-widgets/base",
      "_view_module_version": "1.2.0",
      "_view_name": "LayoutView",
      "align_content": null,
      "align_items": null,
      "align_self": null,
      "border": null,
      "bottom": null,
      "display": null,
      "flex": null,
      "flex_flow": null,
      "grid_area": null,
      "grid_auto_columns": null,
      "grid_auto_flow": null,
      "grid_auto_rows": null,
      "grid_column": null,
      "grid_gap": null,
      "grid_row": null,
      "grid_template_areas": null,
      "grid_template_columns": null,
      "grid_template_rows": null,
      "height": null,
      "justify_content": null,
      "justify_items": null,
      "left": null,
      "margin": null,
      "max_height": null,
      "max_width": null,
      "min_height": null,
      "min_width": null,
      "object_fit": null,
      "object_position": null,
      "order": null,
      "overflow": null,
      "overflow_x": null,
      "overflow_y": null,
      "padding": null,
      "right": null,
      "top": null,
      "visibility": null,
      "width": null
     }
    },
    "4d4a6d6a0f974796908f654756e60e9b": {
     "model_module": "@jupyter-widgets/controls",
     "model_module_version": "1.5.0",
     "model_name": "FloatProgressModel",
     "state": {
      "_dom_classes": [],
      "_model_module": "@jupyter-widgets/controls",
      "_model_module_version": "1.5.0",
      "_model_name": "FloatProgressModel",
      "_view_count": null,
      "_view_module": "@jupyter-widgets/controls",
      "_view_module_version": "1.5.0",
      "_view_name": "ProgressView",
      "bar_style": "success",
      "description": "",
      "description_tooltip": null,
      "layout": "IPY_MODEL_869d648d470e4301a4526ec07f734488",
      "max": 1,
      "min": 0,
      "orientation": "horizontal",
      "style": "IPY_MODEL_0ad5c9a2d17c450f86d1d2bf69b82845",
      "value": 1
     }
    },
    "4d8b548b015647e7a03d173c0210003f": {
     "model_module": "@jupyter-widgets/controls",
     "model_module_version": "1.5.0",
     "model_name": "HTMLModel",
     "state": {
      "_dom_classes": [],
      "_model_module": "@jupyter-widgets/controls",
      "_model_module_version": "1.5.0",
      "_model_name": "HTMLModel",
      "_view_count": null,
      "_view_module": "@jupyter-widgets/controls",
      "_view_module_version": "1.5.0",
      "_view_name": "HTMLView",
      "description": "",
      "description_tooltip": null,
      "layout": "IPY_MODEL_d3a9358beef6459ba063f4c3011cc4b5",
      "placeholder": "\u200b",
      "style": "IPY_MODEL_19cc5ead031a409fbd22c27221aea213",
      "value": "Downloading: "
     }
    },
    "4d9ec0f528ea4271b65efe67b797fcf3": {
     "model_module": "@jupyter-widgets/controls",
     "model_module_version": "1.5.0",
     "model_name": "HBoxModel",
     "state": {
      "_dom_classes": [],
      "_model_module": "@jupyter-widgets/controls",
      "_model_module_version": "1.5.0",
      "_model_name": "HBoxModel",
      "_view_count": null,
      "_view_module": "@jupyter-widgets/controls",
      "_view_module_version": "1.5.0",
      "_view_name": "HBoxView",
      "box_style": "",
      "children": [
       "IPY_MODEL_cf62b06995e24848b325c7546a6f51b9",
       "IPY_MODEL_efc5c83c0cd04d7a8599fd085e557e42",
       "IPY_MODEL_d58028c1b2c24d8dae30b9370e5774e2"
      ],
      "layout": "IPY_MODEL_b2c9240cc08a4052bfd91b48169220c3"
     }
    },
    "52dcd002d7a84d97bfb3a373c139f006": {
     "model_module": "@jupyter-widgets/base",
     "model_module_version": "1.2.0",
     "model_name": "LayoutModel",
     "state": {
      "_model_module": "@jupyter-widgets/base",
      "_model_module_version": "1.2.0",
      "_model_name": "LayoutModel",
      "_view_count": null,
      "_view_module": "@jupyter-widgets/base",
      "_view_module_version": "1.2.0",
      "_view_name": "LayoutView",
      "align_content": null,
      "align_items": null,
      "align_self": null,
      "border": null,
      "bottom": null,
      "display": null,
      "flex": null,
      "flex_flow": null,
      "grid_area": null,
      "grid_auto_columns": null,
      "grid_auto_flow": null,
      "grid_auto_rows": null,
      "grid_column": null,
      "grid_gap": null,
      "grid_row": null,
      "grid_template_areas": null,
      "grid_template_columns": null,
      "grid_template_rows": null,
      "height": null,
      "justify_content": null,
      "justify_items": null,
      "left": null,
      "margin": null,
      "max_height": null,
      "max_width": null,
      "min_height": null,
      "min_width": null,
      "object_fit": null,
      "object_position": null,
      "order": null,
      "overflow": null,
      "overflow_x": null,
      "overflow_y": null,
      "padding": null,
      "right": null,
      "top": null,
      "visibility": null,
      "width": null
     }
    },
    "535ee96936744708b3223d02c8d3d814": {
     "model_module": "@jupyter-widgets/base",
     "model_module_version": "1.2.0",
     "model_name": "LayoutModel",
     "state": {
      "_model_module": "@jupyter-widgets/base",
      "_model_module_version": "1.2.0",
      "_model_name": "LayoutModel",
      "_view_count": null,
      "_view_module": "@jupyter-widgets/base",
      "_view_module_version": "1.2.0",
      "_view_name": "LayoutView",
      "align_content": null,
      "align_items": null,
      "align_self": null,
      "border": null,
      "bottom": null,
      "display": null,
      "flex": null,
      "flex_flow": null,
      "grid_area": null,
      "grid_auto_columns": null,
      "grid_auto_flow": null,
      "grid_auto_rows": null,
      "grid_column": null,
      "grid_gap": null,
      "grid_row": null,
      "grid_template_areas": null,
      "grid_template_columns": null,
      "grid_template_rows": null,
      "height": null,
      "justify_content": null,
      "justify_items": null,
      "left": null,
      "margin": null,
      "max_height": null,
      "max_width": null,
      "min_height": null,
      "min_width": null,
      "object_fit": null,
      "object_position": null,
      "order": null,
      "overflow": null,
      "overflow_x": null,
      "overflow_y": null,
      "padding": null,
      "right": null,
      "top": null,
      "visibility": null,
      "width": null
     }
    },
    "5432f556c36f4bc4802da4d820094289": {
     "model_module": "@jupyter-widgets/controls",
     "model_module_version": "1.5.0",
     "model_name": "ProgressStyleModel",
     "state": {
      "_model_module": "@jupyter-widgets/controls",
      "_model_module_version": "1.5.0",
      "_model_name": "ProgressStyleModel",
      "_view_count": null,
      "_view_module": "@jupyter-widgets/base",
      "_view_module_version": "1.2.0",
      "_view_name": "StyleView",
      "bar_color": null,
      "description_width": ""
     }
    },
    "56d04304ca52495b8503dd8dc32e3893": {
     "model_module": "@jupyter-widgets/controls",
     "model_module_version": "1.5.0",
     "model_name": "FloatProgressModel",
     "state": {
      "_dom_classes": [],
      "_model_module": "@jupyter-widgets/controls",
      "_model_module_version": "1.5.0",
      "_model_name": "FloatProgressModel",
      "_view_count": null,
      "_view_module": "@jupyter-widgets/controls",
      "_view_module_version": "1.5.0",
      "_view_name": "ProgressView",
      "bar_style": "success",
      "description": "",
      "description_tooltip": null,
      "layout": "IPY_MODEL_0f0194cfba5a493593ddb38b3e812970",
      "max": 1269737156,
      "min": 0,
      "orientation": "horizontal",
      "style": "IPY_MODEL_6b43227027444041b5ad3097fad74ca6",
      "value": 1269737156
     }
    },
    "57756ef2633c4b6d9d45dbd86ef1c58a": {
     "model_module": "@jupyter-widgets/base",
     "model_module_version": "1.2.0",
     "model_name": "LayoutModel",
     "state": {
      "_model_module": "@jupyter-widgets/base",
      "_model_module_version": "1.2.0",
      "_model_name": "LayoutModel",
      "_view_count": null,
      "_view_module": "@jupyter-widgets/base",
      "_view_module_version": "1.2.0",
      "_view_name": "LayoutView",
      "align_content": null,
      "align_items": null,
      "align_self": null,
      "border": null,
      "bottom": null,
      "display": null,
      "flex": null,
      "flex_flow": null,
      "grid_area": null,
      "grid_auto_columns": null,
      "grid_auto_flow": null,
      "grid_auto_rows": null,
      "grid_column": null,
      "grid_gap": null,
      "grid_row": null,
      "grid_template_areas": null,
      "grid_template_columns": null,
      "grid_template_rows": null,
      "height": null,
      "justify_content": null,
      "justify_items": null,
      "left": null,
      "margin": null,
      "max_height": null,
      "max_width": null,
      "min_height": null,
      "min_width": null,
      "object_fit": null,
      "object_position": null,
      "order": null,
      "overflow": null,
      "overflow_x": null,
      "overflow_y": null,
      "padding": null,
      "right": null,
      "top": null,
      "visibility": null,
      "width": null
     }
    },
    "58a2a3d608bd47d9855126c8e7d4519d": {
     "model_module": "@jupyter-widgets/base",
     "model_module_version": "1.2.0",
     "model_name": "LayoutModel",
     "state": {
      "_model_module": "@jupyter-widgets/base",
      "_model_module_version": "1.2.0",
      "_model_name": "LayoutModel",
      "_view_count": null,
      "_view_module": "@jupyter-widgets/base",
      "_view_module_version": "1.2.0",
      "_view_name": "LayoutView",
      "align_content": null,
      "align_items": null,
      "align_self": null,
      "border": null,
      "bottom": null,
      "display": null,
      "flex": null,
      "flex_flow": null,
      "grid_area": null,
      "grid_auto_columns": null,
      "grid_auto_flow": null,
      "grid_auto_rows": null,
      "grid_column": null,
      "grid_gap": null,
      "grid_row": null,
      "grid_template_areas": null,
      "grid_template_columns": null,
      "grid_template_rows": null,
      "height": null,
      "justify_content": null,
      "justify_items": null,
      "left": null,
      "margin": null,
      "max_height": null,
      "max_width": null,
      "min_height": null,
      "min_width": null,
      "object_fit": null,
      "object_position": null,
      "order": null,
      "overflow": null,
      "overflow_x": null,
      "overflow_y": null,
      "padding": null,
      "right": null,
      "top": null,
      "visibility": null,
      "width": null
     }
    },
    "59e40b080a534a16b5f1285f8dcfb716": {
     "model_module": "@jupyter-widgets/controls",
     "model_module_version": "1.5.0",
     "model_name": "DescriptionStyleModel",
     "state": {
      "_model_module": "@jupyter-widgets/controls",
      "_model_module_version": "1.5.0",
      "_model_name": "DescriptionStyleModel",
      "_view_count": null,
      "_view_module": "@jupyter-widgets/base",
      "_view_module_version": "1.2.0",
      "_view_name": "StyleView",
      "description_width": ""
     }
    },
    "5a8d1f0822b24f95b5736cd454bf47e8": {
     "model_module": "@jupyter-widgets/controls",
     "model_module_version": "1.5.0",
     "model_name": "HBoxModel",
     "state": {
      "_dom_classes": [],
      "_model_module": "@jupyter-widgets/controls",
      "_model_module_version": "1.5.0",
      "_model_name": "HBoxModel",
      "_view_count": null,
      "_view_module": "@jupyter-widgets/controls",
      "_view_module_version": "1.5.0",
      "_view_name": "HBoxView",
      "box_style": "",
      "children": [
       "IPY_MODEL_3689adf4a5d643d39a875e91f37c880d",
       "IPY_MODEL_61fb8da335594364a848d02d171637ee",
       "IPY_MODEL_dbe938f468ff4bb18a9f0bf3e7a1007b"
      ],
      "layout": "IPY_MODEL_f332558a4b124cdc945c0421ff71a8e0"
     }
    },
    "5b2f42ef41c0478aa9a7adf49f91923a": {
     "model_module": "@jupyter-widgets/controls",
     "model_module_version": "1.5.0",
     "model_name": "HTMLModel",
     "state": {
      "_dom_classes": [],
      "_model_module": "@jupyter-widgets/controls",
      "_model_module_version": "1.5.0",
      "_model_name": "HTMLModel",
      "_view_count": null,
      "_view_module": "@jupyter-widgets/controls",
      "_view_module_version": "1.5.0",
      "_view_name": "HTMLView",
      "description": "",
      "description_tooltip": null,
      "layout": "IPY_MODEL_b0cd66f3807c45668a9282d0c71a1594",
      "placeholder": "\u200b",
      "style": "IPY_MODEL_0efdab7553384b939a723b59e4e32b03",
      "value": " 228/0 [00:00&lt;00:00, 2275.65 examples/s]"
     }
    },
    "5e9eac0556194d5bac232a369697e17d": {
     "model_module": "@jupyter-widgets/base",
     "model_module_version": "1.2.0",
     "model_name": "LayoutModel",
     "state": {
      "_model_module": "@jupyter-widgets/base",
      "_model_module_version": "1.2.0",
      "_model_name": "LayoutModel",
      "_view_count": null,
      "_view_module": "@jupyter-widgets/base",
      "_view_module_version": "1.2.0",
      "_view_name": "LayoutView",
      "align_content": null,
      "align_items": null,
      "align_self": null,
      "border": null,
      "bottom": null,
      "display": null,
      "flex": null,
      "flex_flow": null,
      "grid_area": null,
      "grid_auto_columns": null,
      "grid_auto_flow": null,
      "grid_auto_rows": null,
      "grid_column": null,
      "grid_gap": null,
      "grid_row": null,
      "grid_template_areas": null,
      "grid_template_columns": null,
      "grid_template_rows": null,
      "height": null,
      "justify_content": null,
      "justify_items": null,
      "left": null,
      "margin": null,
      "max_height": null,
      "max_width": null,
      "min_height": null,
      "min_width": null,
      "object_fit": null,
      "object_position": null,
      "order": null,
      "overflow": null,
      "overflow_x": null,
      "overflow_y": null,
      "padding": null,
      "right": null,
      "top": null,
      "visibility": null,
      "width": null
     }
    },
    "5f0876750019427ea8c8beedba327796": {
     "model_module": "@jupyter-widgets/base",
     "model_module_version": "1.2.0",
     "model_name": "LayoutModel",
     "state": {
      "_model_module": "@jupyter-widgets/base",
      "_model_module_version": "1.2.0",
      "_model_name": "LayoutModel",
      "_view_count": null,
      "_view_module": "@jupyter-widgets/base",
      "_view_module_version": "1.2.0",
      "_view_name": "LayoutView",
      "align_content": null,
      "align_items": null,
      "align_self": null,
      "border": null,
      "bottom": null,
      "display": null,
      "flex": null,
      "flex_flow": null,
      "grid_area": null,
      "grid_auto_columns": null,
      "grid_auto_flow": null,
      "grid_auto_rows": null,
      "grid_column": null,
      "grid_gap": null,
      "grid_row": null,
      "grid_template_areas": null,
      "grid_template_columns": null,
      "grid_template_rows": null,
      "height": null,
      "justify_content": null,
      "justify_items": null,
      "left": null,
      "margin": null,
      "max_height": null,
      "max_width": null,
      "min_height": null,
      "min_width": null,
      "object_fit": null,
      "object_position": null,
      "order": null,
      "overflow": null,
      "overflow_x": null,
      "overflow_y": null,
      "padding": null,
      "right": null,
      "top": null,
      "visibility": null,
      "width": null
     }
    },
    "5f766b6dadc44eb3bd9741e1dcdd63b4": {
     "model_module": "@jupyter-widgets/controls",
     "model_module_version": "1.5.0",
     "model_name": "ProgressStyleModel",
     "state": {
      "_model_module": "@jupyter-widgets/controls",
      "_model_module_version": "1.5.0",
      "_model_name": "ProgressStyleModel",
      "_view_count": null,
      "_view_module": "@jupyter-widgets/base",
      "_view_module_version": "1.2.0",
      "_view_name": "StyleView",
      "bar_color": null,
      "description_width": ""
     }
    },
    "61471a8718a543ed919d5d81874c1825": {
     "model_module": "@jupyter-widgets/controls",
     "model_module_version": "1.5.0",
     "model_name": "DescriptionStyleModel",
     "state": {
      "_model_module": "@jupyter-widgets/controls",
      "_model_module_version": "1.5.0",
      "_model_name": "DescriptionStyleModel",
      "_view_count": null,
      "_view_module": "@jupyter-widgets/base",
      "_view_module_version": "1.2.0",
      "_view_name": "StyleView",
      "description_width": ""
     }
    },
    "61fb8da335594364a848d02d171637ee": {
     "model_module": "@jupyter-widgets/controls",
     "model_module_version": "1.5.0",
     "model_name": "FloatProgressModel",
     "state": {
      "_dom_classes": [],
      "_model_module": "@jupyter-widgets/controls",
      "_model_module_version": "1.5.0",
      "_model_name": "FloatProgressModel",
      "_view_count": null,
      "_view_module": "@jupyter-widgets/controls",
      "_view_module_version": "1.5.0",
      "_view_name": "ProgressView",
      "bar_style": "success",
      "description": "",
      "description_tooltip": null,
      "layout": "IPY_MODEL_4c1492a4b7004ee294b8d22186e0897f",
      "max": 1,
      "min": 0,
      "orientation": "horizontal",
      "style": "IPY_MODEL_5f766b6dadc44eb3bd9741e1dcdd63b4",
      "value": 1
     }
    },
    "64b4c7ab486e4fa386883e7c7cf683c3": {
     "model_module": "@jupyter-widgets/controls",
     "model_module_version": "1.5.0",
     "model_name": "HTMLModel",
     "state": {
      "_dom_classes": [],
      "_model_module": "@jupyter-widgets/controls",
      "_model_module_version": "1.5.0",
      "_model_name": "HTMLModel",
      "_view_count": null,
      "_view_module": "@jupyter-widgets/controls",
      "_view_module_version": "1.5.0",
      "_view_name": "HTMLView",
      "description": "",
      "description_tooltip": null,
      "layout": "IPY_MODEL_1bab3ff916ca485faf6cb95008452954",
      "placeholder": "\u200b",
      "style": "IPY_MODEL_963256e135c84694b72dd6ece19a9279",
      "value": " 1/1 [00:00&lt;00:00, 17.53ba/s]"
     }
    },
    "65235c10925042b39c23a9aace6c18d1": {
     "model_module": "@jupyter-widgets/base",
     "model_module_version": "1.2.0",
     "model_name": "LayoutModel",
     "state": {
      "_model_module": "@jupyter-widgets/base",
      "_model_module_version": "1.2.0",
      "_model_name": "LayoutModel",
      "_view_count": null,
      "_view_module": "@jupyter-widgets/base",
      "_view_module_version": "1.2.0",
      "_view_name": "LayoutView",
      "align_content": null,
      "align_items": null,
      "align_self": null,
      "border": null,
      "bottom": null,
      "display": null,
      "flex": null,
      "flex_flow": null,
      "grid_area": null,
      "grid_auto_columns": null,
      "grid_auto_flow": null,
      "grid_auto_rows": null,
      "grid_column": null,
      "grid_gap": null,
      "grid_row": null,
      "grid_template_areas": null,
      "grid_template_columns": null,
      "grid_template_rows": null,
      "height": null,
      "justify_content": null,
      "justify_items": null,
      "left": null,
      "margin": null,
      "max_height": null,
      "max_width": null,
      "min_height": null,
      "min_width": null,
      "object_fit": null,
      "object_position": null,
      "order": null,
      "overflow": null,
      "overflow_x": null,
      "overflow_y": null,
      "padding": null,
      "right": null,
      "top": null,
      "visibility": null,
      "width": null
     }
    },
    "66c881eb8200470ca47e34cdf335c486": {
     "model_module": "@jupyter-widgets/base",
     "model_module_version": "1.2.0",
     "model_name": "LayoutModel",
     "state": {
      "_model_module": "@jupyter-widgets/base",
      "_model_module_version": "1.2.0",
      "_model_name": "LayoutModel",
      "_view_count": null,
      "_view_module": "@jupyter-widgets/base",
      "_view_module_version": "1.2.0",
      "_view_name": "LayoutView",
      "align_content": null,
      "align_items": null,
      "align_self": null,
      "border": null,
      "bottom": null,
      "display": null,
      "flex": null,
      "flex_flow": null,
      "grid_area": null,
      "grid_auto_columns": null,
      "grid_auto_flow": null,
      "grid_auto_rows": null,
      "grid_column": null,
      "grid_gap": null,
      "grid_row": null,
      "grid_template_areas": null,
      "grid_template_columns": null,
      "grid_template_rows": null,
      "height": null,
      "justify_content": null,
      "justify_items": null,
      "left": null,
      "margin": null,
      "max_height": null,
      "max_width": null,
      "min_height": null,
      "min_width": null,
      "object_fit": null,
      "object_position": null,
      "order": null,
      "overflow": null,
      "overflow_x": null,
      "overflow_y": null,
      "padding": null,
      "right": null,
      "top": null,
      "visibility": null,
      "width": null
     }
    },
    "674c9bdeeb9940cda0485f242d2d7b0e": {
     "model_module": "@jupyter-widgets/controls",
     "model_module_version": "1.5.0",
     "model_name": "DescriptionStyleModel",
     "state": {
      "_model_module": "@jupyter-widgets/controls",
      "_model_module_version": "1.5.0",
      "_model_name": "DescriptionStyleModel",
      "_view_count": null,
      "_view_module": "@jupyter-widgets/base",
      "_view_module_version": "1.2.0",
      "_view_name": "StyleView",
      "description_width": ""
     }
    },
    "6b43227027444041b5ad3097fad74ca6": {
     "model_module": "@jupyter-widgets/controls",
     "model_module_version": "1.5.0",
     "model_name": "ProgressStyleModel",
     "state": {
      "_model_module": "@jupyter-widgets/controls",
      "_model_module_version": "1.5.0",
      "_model_name": "ProgressStyleModel",
      "_view_count": null,
      "_view_module": "@jupyter-widgets/base",
      "_view_module_version": "1.2.0",
      "_view_name": "StyleView",
      "bar_color": null,
      "description_width": ""
     }
    },
    "6c57382d79f4499ea311358d47a22651": {
     "model_module": "@jupyter-widgets/controls",
     "model_module_version": "1.5.0",
     "model_name": "DescriptionStyleModel",
     "state": {
      "_model_module": "@jupyter-widgets/controls",
      "_model_module_version": "1.5.0",
      "_model_name": "DescriptionStyleModel",
      "_view_count": null,
      "_view_module": "@jupyter-widgets/base",
      "_view_module_version": "1.2.0",
      "_view_name": "StyleView",
      "description_width": ""
     }
    },
    "6fd34680249449df8e23039d6946bfab": {
     "model_module": "@jupyter-widgets/controls",
     "model_module_version": "1.5.0",
     "model_name": "ProgressStyleModel",
     "state": {
      "_model_module": "@jupyter-widgets/controls",
      "_model_module_version": "1.5.0",
      "_model_name": "ProgressStyleModel",
      "_view_count": null,
      "_view_module": "@jupyter-widgets/base",
      "_view_module_version": "1.2.0",
      "_view_name": "StyleView",
      "bar_color": null,
      "description_width": ""
     }
    },
    "703f4921fd2f4dd7868f34d57a4f6ba4": {
     "model_module": "@jupyter-widgets/controls",
     "model_module_version": "1.5.0",
     "model_name": "DescriptionStyleModel",
     "state": {
      "_model_module": "@jupyter-widgets/controls",
      "_model_module_version": "1.5.0",
      "_model_name": "DescriptionStyleModel",
      "_view_count": null,
      "_view_module": "@jupyter-widgets/base",
      "_view_module_version": "1.2.0",
      "_view_name": "StyleView",
      "description_width": ""
     }
    },
    "704546b24f464e7dba9528ff52fd8891": {
     "model_module": "@jupyter-widgets/controls",
     "model_module_version": "1.5.0",
     "model_name": "TextModel",
     "state": {
      "_dom_classes": [],
      "_model_module": "@jupyter-widgets/controls",
      "_model_module_version": "1.5.0",
      "_model_name": "TextModel",
      "_view_count": null,
      "_view_module": "@jupyter-widgets/controls",
      "_view_module_version": "1.5.0",
      "_view_name": "TextView",
      "continuous_update": true,
      "description": "Username:",
      "description_tooltip": null,
      "disabled": false,
      "layout": "IPY_MODEL_58a2a3d608bd47d9855126c8e7d4519d",
      "placeholder": "\u200b",
      "style": "IPY_MODEL_ecbf1498955b4bf6a8769b589f679018",
      "value": "j"
     }
    },
    "74b51541a91a41dbbfefdf48a671aaf1": {
     "model_module": "@jupyter-widgets/controls",
     "model_module_version": "1.5.0",
     "model_name": "DescriptionStyleModel",
     "state": {
      "_model_module": "@jupyter-widgets/controls",
      "_model_module_version": "1.5.0",
      "_model_name": "DescriptionStyleModel",
      "_view_count": null,
      "_view_module": "@jupyter-widgets/base",
      "_view_module_version": "1.2.0",
      "_view_name": "StyleView",
      "description_width": ""
     }
    },
    "74e4954507e4401095155c61a3c15d7f": {
     "model_module": "@jupyter-widgets/base",
     "model_module_version": "1.2.0",
     "model_name": "LayoutModel",
     "state": {
      "_model_module": "@jupyter-widgets/base",
      "_model_module_version": "1.2.0",
      "_model_name": "LayoutModel",
      "_view_count": null,
      "_view_module": "@jupyter-widgets/base",
      "_view_module_version": "1.2.0",
      "_view_name": "LayoutView",
      "align_content": null,
      "align_items": null,
      "align_self": null,
      "border": null,
      "bottom": null,
      "display": null,
      "flex": null,
      "flex_flow": null,
      "grid_area": null,
      "grid_auto_columns": null,
      "grid_auto_flow": null,
      "grid_auto_rows": null,
      "grid_column": null,
      "grid_gap": null,
      "grid_row": null,
      "grid_template_areas": null,
      "grid_template_columns": null,
      "grid_template_rows": null,
      "height": null,
      "justify_content": null,
      "justify_items": null,
      "left": null,
      "margin": null,
      "max_height": null,
      "max_width": null,
      "min_height": null,
      "min_width": null,
      "object_fit": null,
      "object_position": null,
      "order": null,
      "overflow": null,
      "overflow_x": null,
      "overflow_y": null,
      "padding": null,
      "right": null,
      "top": null,
      "visibility": null,
      "width": null
     }
    },
    "7678f93df87149f79185b2a142d9d1c6": {
     "model_module": "@jupyter-widgets/base",
     "model_module_version": "1.2.0",
     "model_name": "LayoutModel",
     "state": {
      "_model_module": "@jupyter-widgets/base",
      "_model_module_version": "1.2.0",
      "_model_name": "LayoutModel",
      "_view_count": null,
      "_view_module": "@jupyter-widgets/base",
      "_view_module_version": "1.2.0",
      "_view_name": "LayoutView",
      "align_content": null,
      "align_items": null,
      "align_self": null,
      "border": null,
      "bottom": null,
      "display": null,
      "flex": null,
      "flex_flow": null,
      "grid_area": null,
      "grid_auto_columns": null,
      "grid_auto_flow": null,
      "grid_auto_rows": null,
      "grid_column": null,
      "grid_gap": null,
      "grid_row": null,
      "grid_template_areas": null,
      "grid_template_columns": null,
      "grid_template_rows": null,
      "height": null,
      "justify_content": null,
      "justify_items": null,
      "left": null,
      "margin": null,
      "max_height": null,
      "max_width": null,
      "min_height": null,
      "min_width": null,
      "object_fit": null,
      "object_position": null,
      "order": null,
      "overflow": null,
      "overflow_x": null,
      "overflow_y": null,
      "padding": null,
      "right": null,
      "top": null,
      "visibility": null,
      "width": null
     }
    },
    "7762d201d94d4edf879fa6571d6457fb": {
     "model_module": "@jupyter-widgets/controls",
     "model_module_version": "1.5.0",
     "model_name": "FloatProgressModel",
     "state": {
      "_dom_classes": [],
      "_model_module": "@jupyter-widgets/controls",
      "_model_module_version": "1.5.0",
      "_model_name": "FloatProgressModel",
      "_view_count": null,
      "_view_module": "@jupyter-widgets/controls",
      "_view_module_version": "1.5.0",
      "_view_name": "ProgressView",
      "bar_style": "success",
      "description": "",
      "description_tooltip": null,
      "layout": "IPY_MODEL_031a7e18021943ffbd6d06a17cb0302f",
      "max": 1038,
      "min": 0,
      "orientation": "horizontal",
      "style": "IPY_MODEL_0be03e8087ee4627a4513d54b0fa8858",
      "value": 1038
     }
    },
    "7a26e83c3c444829a8a685d7f8f07ef5": {
     "model_module": "@jupyter-widgets/base",
     "model_module_version": "1.2.0",
     "model_name": "LayoutModel",
     "state": {
      "_model_module": "@jupyter-widgets/base",
      "_model_module_version": "1.2.0",
      "_model_name": "LayoutModel",
      "_view_count": null,
      "_view_module": "@jupyter-widgets/base",
      "_view_module_version": "1.2.0",
      "_view_name": "LayoutView",
      "align_content": null,
      "align_items": null,
      "align_self": null,
      "border": null,
      "bottom": null,
      "display": null,
      "flex": null,
      "flex_flow": null,
      "grid_area": null,
      "grid_auto_columns": null,
      "grid_auto_flow": null,
      "grid_auto_rows": null,
      "grid_column": null,
      "grid_gap": null,
      "grid_row": null,
      "grid_template_areas": null,
      "grid_template_columns": null,
      "grid_template_rows": null,
      "height": null,
      "justify_content": null,
      "justify_items": null,
      "left": null,
      "margin": null,
      "max_height": null,
      "max_width": null,
      "min_height": null,
      "min_width": null,
      "object_fit": null,
      "object_position": null,
      "order": null,
      "overflow": null,
      "overflow_x": null,
      "overflow_y": null,
      "padding": null,
      "right": null,
      "top": null,
      "visibility": null,
      "width": null
     }
    },
    "7a81952f24ac4cd8b6339a427b9c2419": {
     "model_module": "@jupyter-widgets/base",
     "model_module_version": "1.2.0",
     "model_name": "LayoutModel",
     "state": {
      "_model_module": "@jupyter-widgets/base",
      "_model_module_version": "1.2.0",
      "_model_name": "LayoutModel",
      "_view_count": null,
      "_view_module": "@jupyter-widgets/base",
      "_view_module_version": "1.2.0",
      "_view_name": "LayoutView",
      "align_content": null,
      "align_items": null,
      "align_self": null,
      "border": null,
      "bottom": null,
      "display": null,
      "flex": null,
      "flex_flow": null,
      "grid_area": null,
      "grid_auto_columns": null,
      "grid_auto_flow": null,
      "grid_auto_rows": null,
      "grid_column": null,
      "grid_gap": null,
      "grid_row": null,
      "grid_template_areas": null,
      "grid_template_columns": null,
      "grid_template_rows": null,
      "height": null,
      "justify_content": null,
      "justify_items": null,
      "left": null,
      "margin": null,
      "max_height": null,
      "max_width": null,
      "min_height": null,
      "min_width": null,
      "object_fit": null,
      "object_position": null,
      "order": null,
      "overflow": null,
      "overflow_x": null,
      "overflow_y": null,
      "padding": null,
      "right": null,
      "top": null,
      "visibility": null,
      "width": null
     }
    },
    "7c4815bc53ac4981bf3dacc8dbbf1fdd": {
     "model_module": "@jupyter-widgets/base",
     "model_module_version": "1.2.0",
     "model_name": "LayoutModel",
     "state": {
      "_model_module": "@jupyter-widgets/base",
      "_model_module_version": "1.2.0",
      "_model_name": "LayoutModel",
      "_view_count": null,
      "_view_module": "@jupyter-widgets/base",
      "_view_module_version": "1.2.0",
      "_view_name": "LayoutView",
      "align_content": null,
      "align_items": null,
      "align_self": null,
      "border": null,
      "bottom": null,
      "display": null,
      "flex": null,
      "flex_flow": null,
      "grid_area": null,
      "grid_auto_columns": null,
      "grid_auto_flow": null,
      "grid_auto_rows": null,
      "grid_column": null,
      "grid_gap": null,
      "grid_row": null,
      "grid_template_areas": null,
      "grid_template_columns": null,
      "grid_template_rows": null,
      "height": null,
      "justify_content": null,
      "justify_items": null,
      "left": null,
      "margin": null,
      "max_height": null,
      "max_width": null,
      "min_height": null,
      "min_width": null,
      "object_fit": null,
      "object_position": null,
      "order": null,
      "overflow": null,
      "overflow_x": null,
      "overflow_y": null,
      "padding": null,
      "right": null,
      "top": null,
      "visibility": null,
      "width": null
     }
    },
    "81b2849fd8de48849e6ae55df4aafafb": {
     "model_module": "@jupyter-widgets/base",
     "model_module_version": "1.2.0",
     "model_name": "LayoutModel",
     "state": {
      "_model_module": "@jupyter-widgets/base",
      "_model_module_version": "1.2.0",
      "_model_name": "LayoutModel",
      "_view_count": null,
      "_view_module": "@jupyter-widgets/base",
      "_view_module_version": "1.2.0",
      "_view_name": "LayoutView",
      "align_content": null,
      "align_items": null,
      "align_self": null,
      "border": null,
      "bottom": null,
      "display": null,
      "flex": null,
      "flex_flow": null,
      "grid_area": null,
      "grid_auto_columns": null,
      "grid_auto_flow": null,
      "grid_auto_rows": null,
      "grid_column": null,
      "grid_gap": null,
      "grid_row": null,
      "grid_template_areas": null,
      "grid_template_columns": null,
      "grid_template_rows": null,
      "height": null,
      "justify_content": null,
      "justify_items": null,
      "left": null,
      "margin": null,
      "max_height": null,
      "max_width": null,
      "min_height": null,
      "min_width": null,
      "object_fit": null,
      "object_position": null,
      "order": null,
      "overflow": null,
      "overflow_x": null,
      "overflow_y": null,
      "padding": null,
      "right": null,
      "top": null,
      "visibility": null,
      "width": null
     }
    },
    "8276470fc5294010923843a467e85842": {
     "model_module": "@jupyter-widgets/controls",
     "model_module_version": "1.5.0",
     "model_name": "DescriptionStyleModel",
     "state": {
      "_model_module": "@jupyter-widgets/controls",
      "_model_module_version": "1.5.0",
      "_model_name": "DescriptionStyleModel",
      "_view_count": null,
      "_view_module": "@jupyter-widgets/base",
      "_view_module_version": "1.2.0",
      "_view_name": "StyleView",
      "description_width": ""
     }
    },
    "8318e59848ad4f48b845aa15bfee14b3": {
     "model_module": "@jupyter-widgets/controls",
     "model_module_version": "1.5.0",
     "model_name": "FloatProgressModel",
     "state": {
      "_dom_classes": [],
      "_model_module": "@jupyter-widgets/controls",
      "_model_module_version": "1.5.0",
      "_model_name": "FloatProgressModel",
      "_view_count": null,
      "_view_module": "@jupyter-widgets/controls",
      "_view_module_version": "1.5.0",
      "_view_name": "ProgressView",
      "bar_style": "success",
      "description": "",
      "description_tooltip": null,
      "layout": "IPY_MODEL_03df7be0c20047ca81ca6a813205ac64",
      "max": 4444,
      "min": 0,
      "orientation": "horizontal",
      "style": "IPY_MODEL_186251c872b94be39323363d48a3be59",
      "value": 4444
     }
    },
    "843f5f5f60d24317a663bcf3baff0757": {
     "model_module": "@jupyter-widgets/base",
     "model_module_version": "1.2.0",
     "model_name": "LayoutModel",
     "state": {
      "_model_module": "@jupyter-widgets/base",
      "_model_module_version": "1.2.0",
      "_model_name": "LayoutModel",
      "_view_count": null,
      "_view_module": "@jupyter-widgets/base",
      "_view_module_version": "1.2.0",
      "_view_name": "LayoutView",
      "align_content": null,
      "align_items": null,
      "align_self": null,
      "border": null,
      "bottom": null,
      "display": null,
      "flex": null,
      "flex_flow": null,
      "grid_area": null,
      "grid_auto_columns": null,
      "grid_auto_flow": null,
      "grid_auto_rows": null,
      "grid_column": null,
      "grid_gap": null,
      "grid_row": null,
      "grid_template_areas": null,
      "grid_template_columns": null,
      "grid_template_rows": null,
      "height": null,
      "justify_content": null,
      "justify_items": null,
      "left": null,
      "margin": null,
      "max_height": null,
      "max_width": null,
      "min_height": null,
      "min_width": null,
      "object_fit": null,
      "object_position": null,
      "order": null,
      "overflow": null,
      "overflow_x": null,
      "overflow_y": null,
      "padding": null,
      "right": null,
      "top": null,
      "visibility": null,
      "width": null
     }
    },
    "869d648d470e4301a4526ec07f734488": {
     "model_module": "@jupyter-widgets/base",
     "model_module_version": "1.2.0",
     "model_name": "LayoutModel",
     "state": {
      "_model_module": "@jupyter-widgets/base",
      "_model_module_version": "1.2.0",
      "_model_name": "LayoutModel",
      "_view_count": null,
      "_view_module": "@jupyter-widgets/base",
      "_view_module_version": "1.2.0",
      "_view_name": "LayoutView",
      "align_content": null,
      "align_items": null,
      "align_self": null,
      "border": null,
      "bottom": null,
      "display": null,
      "flex": null,
      "flex_flow": null,
      "grid_area": null,
      "grid_auto_columns": null,
      "grid_auto_flow": null,
      "grid_auto_rows": null,
      "grid_column": null,
      "grid_gap": null,
      "grid_row": null,
      "grid_template_areas": null,
      "grid_template_columns": null,
      "grid_template_rows": null,
      "height": null,
      "justify_content": null,
      "justify_items": null,
      "left": null,
      "margin": null,
      "max_height": null,
      "max_width": null,
      "min_height": null,
      "min_width": null,
      "object_fit": null,
      "object_position": null,
      "order": null,
      "overflow": null,
      "overflow_x": null,
      "overflow_y": null,
      "padding": null,
      "right": null,
      "top": null,
      "visibility": null,
      "width": null
     }
    },
    "8aba312c6498435387e16cc3dd4632f9": {
     "model_module": "@jupyter-widgets/controls",
     "model_module_version": "1.5.0",
     "model_name": "HTMLModel",
     "state": {
      "_dom_classes": [],
      "_model_module": "@jupyter-widgets/controls",
      "_model_module_version": "1.5.0",
      "_model_name": "HTMLModel",
      "_view_count": null,
      "_view_module": "@jupyter-widgets/controls",
      "_view_module_version": "1.5.0",
      "_view_name": "HTMLView",
      "description": "",
      "description_tooltip": null,
      "layout": "IPY_MODEL_f60b05285d4b4e10a743b6fdedbfb906",
      "placeholder": "\u200b",
      "style": "IPY_MODEL_6c57382d79f4499ea311358d47a22651",
      "value": ""
     }
    },
    "8dd89aed30e6431f911910f2811326d6": {
     "model_module": "@jupyter-widgets/controls",
     "model_module_version": "1.5.0",
     "model_name": "HTMLModel",
     "state": {
      "_dom_classes": [],
      "_model_module": "@jupyter-widgets/controls",
      "_model_module_version": "1.5.0",
      "_model_name": "HTMLModel",
      "_view_count": null,
      "_view_module": "@jupyter-widgets/controls",
      "_view_module_version": "1.5.0",
      "_view_name": "HTMLView",
      "description": "",
      "description_tooltip": null,
      "layout": "IPY_MODEL_30e365417e8e4bab818779955996472a",
      "placeholder": "\u200b",
      "style": "IPY_MODEL_3f9417297a5d4f47bc9ebadb81665e43",
      "value": ""
     }
    },
    "8e0d381b96b6495883bfb8b1c5da323c": {
     "model_module": "@jupyter-widgets/base",
     "model_module_version": "1.2.0",
     "model_name": "LayoutModel",
     "state": {
      "_model_module": "@jupyter-widgets/base",
      "_model_module_version": "1.2.0",
      "_model_name": "LayoutModel",
      "_view_count": null,
      "_view_module": "@jupyter-widgets/base",
      "_view_module_version": "1.2.0",
      "_view_name": "LayoutView",
      "align_content": null,
      "align_items": null,
      "align_self": null,
      "border": null,
      "bottom": null,
      "display": null,
      "flex": null,
      "flex_flow": null,
      "grid_area": null,
      "grid_auto_columns": null,
      "grid_auto_flow": null,
      "grid_auto_rows": null,
      "grid_column": null,
      "grid_gap": null,
      "grid_row": null,
      "grid_template_areas": null,
      "grid_template_columns": null,
      "grid_template_rows": null,
      "height": null,
      "justify_content": null,
      "justify_items": null,
      "left": null,
      "margin": null,
      "max_height": null,
      "max_width": null,
      "min_height": null,
      "min_width": null,
      "object_fit": null,
      "object_position": null,
      "order": null,
      "overflow": null,
      "overflow_x": null,
      "overflow_y": null,
      "padding": null,
      "right": null,
      "top": null,
      "visibility": null,
      "width": null
     }
    },
    "8fede89048584d4abc82065ca2b26ae9": {
     "model_module": "@jupyter-widgets/controls",
     "model_module_version": "1.5.0",
     "model_name": "FloatProgressModel",
     "state": {
      "_dom_classes": [],
      "_model_module": "@jupyter-widgets/controls",
      "_model_module_version": "1.5.0",
      "_model_name": "FloatProgressModel",
      "_view_count": null,
      "_view_module": "@jupyter-widgets/controls",
      "_view_module_version": "1.5.0",
      "_view_name": "ProgressView",
      "bar_style": "success",
      "description": "",
      "description_tooltip": null,
      "layout": "IPY_MODEL_843f5f5f60d24317a663bcf3baff0757",
      "max": 1947,
      "min": 0,
      "orientation": "horizontal",
      "style": "IPY_MODEL_6fd34680249449df8e23039d6946bfab",
      "value": 1947
     }
    },
    "8ffc601ec5c74a76b65590acd5e55dad": {
     "model_module": "@jupyter-widgets/controls",
     "model_module_version": "1.5.0",
     "model_name": "HBoxModel",
     "state": {
      "_dom_classes": [],
      "_model_module": "@jupyter-widgets/controls",
      "_model_module_version": "1.5.0",
      "_model_name": "HBoxModel",
      "_view_count": null,
      "_view_module": "@jupyter-widgets/controls",
      "_view_module_version": "1.5.0",
      "_view_name": "HBoxView",
      "box_style": "",
      "children": [
       "IPY_MODEL_c08e34ba26154c269aae602bacef3761",
       "IPY_MODEL_4d4a6d6a0f974796908f654756e60e9b",
       "IPY_MODEL_64b4c7ab486e4fa386883e7c7cf683c3"
      ],
      "layout": "IPY_MODEL_f26e2e0e1b5f47d0be0fcc2c179b26d3"
     }
    },
    "90d57a5a079c40b4a362b88b4a4adb47": {
     "model_module": "@jupyter-widgets/controls",
     "model_module_version": "1.5.0",
     "model_name": "DescriptionStyleModel",
     "state": {
      "_model_module": "@jupyter-widgets/controls",
      "_model_module_version": "1.5.0",
      "_model_name": "DescriptionStyleModel",
      "_view_count": null,
      "_view_module": "@jupyter-widgets/base",
      "_view_module_version": "1.2.0",
      "_view_name": "StyleView",
      "description_width": ""
     }
    },
    "91681fda85764dc388f637d16253df68": {
     "model_module": "@jupyter-widgets/base",
     "model_module_version": "1.2.0",
     "model_name": "LayoutModel",
     "state": {
      "_model_module": "@jupyter-widgets/base",
      "_model_module_version": "1.2.0",
      "_model_name": "LayoutModel",
      "_view_count": null,
      "_view_module": "@jupyter-widgets/base",
      "_view_module_version": "1.2.0",
      "_view_name": "LayoutView",
      "align_content": null,
      "align_items": null,
      "align_self": null,
      "border": null,
      "bottom": null,
      "display": null,
      "flex": null,
      "flex_flow": null,
      "grid_area": null,
      "grid_auto_columns": null,
      "grid_auto_flow": null,
      "grid_auto_rows": null,
      "grid_column": null,
      "grid_gap": null,
      "grid_row": null,
      "grid_template_areas": null,
      "grid_template_columns": null,
      "grid_template_rows": null,
      "height": null,
      "justify_content": null,
      "justify_items": null,
      "left": null,
      "margin": null,
      "max_height": null,
      "max_width": null,
      "min_height": null,
      "min_width": null,
      "object_fit": null,
      "object_position": null,
      "order": null,
      "overflow": null,
      "overflow_x": null,
      "overflow_y": null,
      "padding": null,
      "right": null,
      "top": null,
      "visibility": null,
      "width": null
     }
    },
    "9288a1388b2d4772ac21cb9414c86ee1": {
     "model_module": "@jupyter-widgets/controls",
     "model_module_version": "1.5.0",
     "model_name": "FloatProgressModel",
     "state": {
      "_dom_classes": [],
      "_model_module": "@jupyter-widgets/controls",
      "_model_module_version": "1.5.0",
      "_model_name": "FloatProgressModel",
      "_view_count": null,
      "_view_module": "@jupyter-widgets/controls",
      "_view_module_version": "1.5.0",
      "_view_name": "ProgressView",
      "bar_style": "info",
      "description": "",
      "description_tooltip": null,
      "layout": "IPY_MODEL_d813024ab46546109280971ae0a2270a",
      "max": 1,
      "min": 0,
      "orientation": "horizontal",
      "style": "IPY_MODEL_a1a33acb3820483cb0f20014604d2ef9",
      "value": 1
     }
    },
    "92f817306a05430e91af716111ea08ee": {
     "model_module": "@jupyter-widgets/controls",
     "model_module_version": "1.5.0",
     "model_name": "HTMLModel",
     "state": {
      "_dom_classes": [],
      "_model_module": "@jupyter-widgets/controls",
      "_model_module_version": "1.5.0",
      "_model_name": "HTMLModel",
      "_view_count": null,
      "_view_module": "@jupyter-widgets/controls",
      "_view_module_version": "1.5.0",
      "_view_name": "HTMLView",
      "description": "",
      "description_tooltip": null,
      "layout": "IPY_MODEL_1830220a449b496c941183714d89c4c8",
      "placeholder": "\u200b",
      "style": "IPY_MODEL_c32e28f3df6a49368f2df80f11ba5a1d",
      "value": " 1.53k/1.53k [00:00&lt;00:00, 25.7kB/s]"
     }
    },
    "963256e135c84694b72dd6ece19a9279": {
     "model_module": "@jupyter-widgets/controls",
     "model_module_version": "1.5.0",
     "model_name": "DescriptionStyleModel",
     "state": {
      "_model_module": "@jupyter-widgets/controls",
      "_model_module_version": "1.5.0",
      "_model_name": "DescriptionStyleModel",
      "_view_count": null,
      "_view_module": "@jupyter-widgets/base",
      "_view_module_version": "1.2.0",
      "_view_name": "StyleView",
      "description_width": ""
     }
    },
    "97c1d1adde974941836da7c52592ed18": {
     "model_module": "@jupyter-widgets/controls",
     "model_module_version": "1.5.0",
     "model_name": "DescriptionStyleModel",
     "state": {
      "_model_module": "@jupyter-widgets/controls",
      "_model_module_version": "1.5.0",
      "_model_name": "DescriptionStyleModel",
      "_view_count": null,
      "_view_module": "@jupyter-widgets/base",
      "_view_module_version": "1.2.0",
      "_view_name": "StyleView",
      "description_width": ""
     }
    },
    "9828e6850d2e422a83cd919567d3a2f6": {
     "model_module": "@jupyter-widgets/base",
     "model_module_version": "1.2.0",
     "model_name": "LayoutModel",
     "state": {
      "_model_module": "@jupyter-widgets/base",
      "_model_module_version": "1.2.0",
      "_model_name": "LayoutModel",
      "_view_count": null,
      "_view_module": "@jupyter-widgets/base",
      "_view_module_version": "1.2.0",
      "_view_name": "LayoutView",
      "align_content": null,
      "align_items": null,
      "align_self": null,
      "border": null,
      "bottom": null,
      "display": null,
      "flex": null,
      "flex_flow": null,
      "grid_area": null,
      "grid_auto_columns": null,
      "grid_auto_flow": null,
      "grid_auto_rows": null,
      "grid_column": null,
      "grid_gap": null,
      "grid_row": null,
      "grid_template_areas": null,
      "grid_template_columns": null,
      "grid_template_rows": null,
      "height": null,
      "justify_content": null,
      "justify_items": null,
      "left": null,
      "margin": null,
      "max_height": null,
      "max_width": null,
      "min_height": null,
      "min_width": null,
      "object_fit": null,
      "object_position": null,
      "order": null,
      "overflow": null,
      "overflow_x": null,
      "overflow_y": null,
      "padding": null,
      "right": null,
      "top": null,
      "visibility": null,
      "width": null
     }
    },
    "991335059c544930a3066d5d6d9ce338": {
     "model_module": "@jupyter-widgets/base",
     "model_module_version": "1.2.0",
     "model_name": "LayoutModel",
     "state": {
      "_model_module": "@jupyter-widgets/base",
      "_model_module_version": "1.2.0",
      "_model_name": "LayoutModel",
      "_view_count": null,
      "_view_module": "@jupyter-widgets/base",
      "_view_module_version": "1.2.0",
      "_view_name": "LayoutView",
      "align_content": null,
      "align_items": null,
      "align_self": null,
      "border": null,
      "bottom": null,
      "display": null,
      "flex": null,
      "flex_flow": null,
      "grid_area": null,
      "grid_auto_columns": null,
      "grid_auto_flow": null,
      "grid_auto_rows": null,
      "grid_column": null,
      "grid_gap": null,
      "grid_row": null,
      "grid_template_areas": null,
      "grid_template_columns": null,
      "grid_template_rows": null,
      "height": null,
      "justify_content": null,
      "justify_items": null,
      "left": null,
      "margin": null,
      "max_height": null,
      "max_width": null,
      "min_height": null,
      "min_width": null,
      "object_fit": null,
      "object_position": null,
      "order": null,
      "overflow": null,
      "overflow_x": null,
      "overflow_y": null,
      "padding": null,
      "right": null,
      "top": null,
      "visibility": null,
      "width": null
     }
    },
    "993299f428044734bda27f847706669b": {
     "model_module": "@jupyter-widgets/base",
     "model_module_version": "1.2.0",
     "model_name": "LayoutModel",
     "state": {
      "_model_module": "@jupyter-widgets/base",
      "_model_module_version": "1.2.0",
      "_model_name": "LayoutModel",
      "_view_count": null,
      "_view_module": "@jupyter-widgets/base",
      "_view_module_version": "1.2.0",
      "_view_name": "LayoutView",
      "align_content": null,
      "align_items": null,
      "align_self": null,
      "border": null,
      "bottom": null,
      "display": null,
      "flex": null,
      "flex_flow": null,
      "grid_area": null,
      "grid_auto_columns": null,
      "grid_auto_flow": null,
      "grid_auto_rows": null,
      "grid_column": null,
      "grid_gap": null,
      "grid_row": null,
      "grid_template_areas": null,
      "grid_template_columns": null,
      "grid_template_rows": null,
      "height": null,
      "justify_content": null,
      "justify_items": null,
      "left": null,
      "margin": null,
      "max_height": null,
      "max_width": null,
      "min_height": null,
      "min_width": null,
      "object_fit": null,
      "object_position": null,
      "order": null,
      "overflow": null,
      "overflow_x": null,
      "overflow_y": null,
      "padding": null,
      "right": null,
      "top": null,
      "visibility": null,
      "width": null
     }
    },
    "9a237cbf91cc43a08700917727804b60": {
     "model_module": "@jupyter-widgets/controls",
     "model_module_version": "1.5.0",
     "model_name": "FloatProgressModel",
     "state": {
      "_dom_classes": [],
      "_model_module": "@jupyter-widgets/controls",
      "_model_module_version": "1.5.0",
      "_model_name": "FloatProgressModel",
      "_view_count": null,
      "_view_module": "@jupyter-widgets/controls",
      "_view_module_version": "1.5.0",
      "_view_name": "ProgressView",
      "bar_style": "success",
      "description": "",
      "description_tooltip": null,
      "layout": "IPY_MODEL_b2e02faf4cb24093aee3b26fc9939711",
      "max": 506,
      "min": 0,
      "orientation": "horizontal",
      "style": "IPY_MODEL_eb000dfb05904533b6f45e3d9b6e9fd6",
      "value": 506
     }
    },
    "9c6e369c65de4f50964caa83c3f1c952": {
     "model_module": "@jupyter-widgets/controls",
     "model_module_version": "1.5.0",
     "model_name": "DescriptionStyleModel",
     "state": {
      "_model_module": "@jupyter-widgets/controls",
      "_model_module_version": "1.5.0",
      "_model_name": "DescriptionStyleModel",
      "_view_count": null,
      "_view_module": "@jupyter-widgets/base",
      "_view_module_version": "1.2.0",
      "_view_name": "StyleView",
      "description_width": ""
     }
    },
    "9ca4d09253724716b9f8da04ff28127c": {
     "model_module": "@jupyter-widgets/controls",
     "model_module_version": "1.5.0",
     "model_name": "DescriptionStyleModel",
     "state": {
      "_model_module": "@jupyter-widgets/controls",
      "_model_module_version": "1.5.0",
      "_model_name": "DescriptionStyleModel",
      "_view_count": null,
      "_view_module": "@jupyter-widgets/base",
      "_view_module_version": "1.2.0",
      "_view_name": "StyleView",
      "description_width": ""
     }
    },
    "9d4777c488e74289bff088810d6b186c": {
     "model_module": "@jupyter-widgets/controls",
     "model_module_version": "1.5.0",
     "model_name": "DescriptionStyleModel",
     "state": {
      "_model_module": "@jupyter-widgets/controls",
      "_model_module_version": "1.5.0",
      "_model_name": "DescriptionStyleModel",
      "_view_count": null,
      "_view_module": "@jupyter-widgets/base",
      "_view_module_version": "1.2.0",
      "_view_name": "StyleView",
      "description_width": ""
     }
    },
    "9e2e458850db4ce18d078bfda58f4c06": {
     "model_module": "@jupyter-widgets/controls",
     "model_module_version": "1.5.0",
     "model_name": "FloatProgressModel",
     "state": {
      "_dom_classes": [],
      "_model_module": "@jupyter-widgets/controls",
      "_model_module_version": "1.5.0",
      "_model_name": "FloatProgressModel",
      "_view_count": null,
      "_view_module": "@jupyter-widgets/controls",
      "_view_module_version": "1.5.0",
      "_view_name": "ProgressView",
      "bar_style": "success",
      "description": "",
      "description_tooltip": null,
      "layout": "IPY_MODEL_3db7e9ad64f7464bb8f20fc5b322a8a6",
      "max": 1568,
      "min": 0,
      "orientation": "horizontal",
      "style": "IPY_MODEL_3869211777cd48ff817a8b779fb9e6ef",
      "value": 1568
     }
    },
    "9f43c050bf224104983c268d0028a984": {
     "model_module": "@jupyter-widgets/base",
     "model_module_version": "1.2.0",
     "model_name": "LayoutModel",
     "state": {
      "_model_module": "@jupyter-widgets/base",
      "_model_module_version": "1.2.0",
      "_model_name": "LayoutModel",
      "_view_count": null,
      "_view_module": "@jupyter-widgets/base",
      "_view_module_version": "1.2.0",
      "_view_name": "LayoutView",
      "align_content": null,
      "align_items": null,
      "align_self": null,
      "border": null,
      "bottom": null,
      "display": null,
      "flex": null,
      "flex_flow": null,
      "grid_area": null,
      "grid_auto_columns": null,
      "grid_auto_flow": null,
      "grid_auto_rows": null,
      "grid_column": null,
      "grid_gap": null,
      "grid_row": null,
      "grid_template_areas": null,
      "grid_template_columns": null,
      "grid_template_rows": null,
      "height": null,
      "justify_content": null,
      "justify_items": null,
      "left": null,
      "margin": null,
      "max_height": null,
      "max_width": null,
      "min_height": null,
      "min_width": null,
      "object_fit": null,
      "object_position": null,
      "order": null,
      "overflow": null,
      "overflow_x": null,
      "overflow_y": null,
      "padding": null,
      "right": null,
      "top": null,
      "visibility": null,
      "width": null
     }
    },
    "9f97deaf66c14f9ea29e4e606d1f44ff": {
     "model_module": "@jupyter-widgets/controls",
     "model_module_version": "1.5.0",
     "model_name": "DescriptionStyleModel",
     "state": {
      "_model_module": "@jupyter-widgets/controls",
      "_model_module_version": "1.5.0",
      "_model_name": "DescriptionStyleModel",
      "_view_count": null,
      "_view_module": "@jupyter-widgets/base",
      "_view_module_version": "1.2.0",
      "_view_name": "StyleView",
      "description_width": ""
     }
    },
    "a09ec424c17e4c5abff9b4980fec72f6": {
     "model_module": "@jupyter-widgets/base",
     "model_module_version": "1.2.0",
     "model_name": "LayoutModel",
     "state": {
      "_model_module": "@jupyter-widgets/base",
      "_model_module_version": "1.2.0",
      "_model_name": "LayoutModel",
      "_view_count": null,
      "_view_module": "@jupyter-widgets/base",
      "_view_module_version": "1.2.0",
      "_view_name": "LayoutView",
      "align_content": null,
      "align_items": null,
      "align_self": null,
      "border": null,
      "bottom": null,
      "display": null,
      "flex": null,
      "flex_flow": null,
      "grid_area": null,
      "grid_auto_columns": null,
      "grid_auto_flow": null,
      "grid_auto_rows": null,
      "grid_column": null,
      "grid_gap": null,
      "grid_row": null,
      "grid_template_areas": null,
      "grid_template_columns": null,
      "grid_template_rows": null,
      "height": null,
      "justify_content": null,
      "justify_items": null,
      "left": null,
      "margin": null,
      "max_height": null,
      "max_width": null,
      "min_height": null,
      "min_width": null,
      "object_fit": null,
      "object_position": null,
      "order": null,
      "overflow": null,
      "overflow_x": null,
      "overflow_y": null,
      "padding": null,
      "right": null,
      "top": null,
      "visibility": null,
      "width": null
     }
    },
    "a0e26c581876448e802a366192006553": {
     "model_module": "@jupyter-widgets/base",
     "model_module_version": "1.2.0",
     "model_name": "LayoutModel",
     "state": {
      "_model_module": "@jupyter-widgets/base",
      "_model_module_version": "1.2.0",
      "_model_name": "LayoutModel",
      "_view_count": null,
      "_view_module": "@jupyter-widgets/base",
      "_view_module_version": "1.2.0",
      "_view_name": "LayoutView",
      "align_content": null,
      "align_items": "center",
      "align_self": null,
      "border": null,
      "bottom": null,
      "display": "flex",
      "flex": null,
      "flex_flow": "column",
      "grid_area": null,
      "grid_auto_columns": null,
      "grid_auto_flow": null,
      "grid_auto_rows": null,
      "grid_column": null,
      "grid_gap": null,
      "grid_row": null,
      "grid_template_areas": null,
      "grid_template_columns": null,
      "grid_template_rows": null,
      "height": null,
      "justify_content": null,
      "justify_items": null,
      "left": null,
      "margin": null,
      "max_height": null,
      "max_width": null,
      "min_height": null,
      "min_width": null,
      "object_fit": null,
      "object_position": null,
      "order": null,
      "overflow": null,
      "overflow_x": null,
      "overflow_y": null,
      "padding": null,
      "right": null,
      "top": null,
      "visibility": null,
      "width": "50%"
     }
    },
    "a0e6c108b8b4403fbbc6c36c503b681b": {
     "model_module": "@jupyter-widgets/controls",
     "model_module_version": "1.5.0",
     "model_name": "DescriptionStyleModel",
     "state": {
      "_model_module": "@jupyter-widgets/controls",
      "_model_module_version": "1.5.0",
      "_model_name": "DescriptionStyleModel",
      "_view_count": null,
      "_view_module": "@jupyter-widgets/base",
      "_view_module_version": "1.2.0",
      "_view_name": "StyleView",
      "description_width": ""
     }
    },
    "a1a33acb3820483cb0f20014604d2ef9": {
     "model_module": "@jupyter-widgets/controls",
     "model_module_version": "1.5.0",
     "model_name": "ProgressStyleModel",
     "state": {
      "_model_module": "@jupyter-widgets/controls",
      "_model_module_version": "1.5.0",
      "_model_name": "ProgressStyleModel",
      "_view_count": null,
      "_view_module": "@jupyter-widgets/base",
      "_view_module_version": "1.2.0",
      "_view_name": "StyleView",
      "bar_color": null,
      "description_width": ""
     }
    },
    "a3720f4cf4394ce69f58c04b4ec4c75a": {
     "model_module": "@jupyter-widgets/controls",
     "model_module_version": "1.5.0",
     "model_name": "HTMLModel",
     "state": {
      "_dom_classes": [],
      "_model_module": "@jupyter-widgets/controls",
      "_model_module_version": "1.5.0",
      "_model_name": "HTMLModel",
      "_view_count": null,
      "_view_module": "@jupyter-widgets/controls",
      "_view_module_version": "1.5.0",
      "_view_name": "HTMLView",
      "description": "",
      "description_tooltip": null,
      "layout": "IPY_MODEL_66c881eb8200470ca47e34cdf335c486",
      "placeholder": "\u200b",
      "style": "IPY_MODEL_90d57a5a079c40b4a362b88b4a4adb47",
      "value": "100%"
     }
    },
    "a4742ee3ed8d481fa99f375d29aa106d": {
     "model_module": "@jupyter-widgets/controls",
     "model_module_version": "1.5.0",
     "model_name": "HTMLModel",
     "state": {
      "_dom_classes": [],
      "_model_module": "@jupyter-widgets/controls",
      "_model_module_version": "1.5.0",
      "_model_name": "HTMLModel",
      "_view_count": null,
      "_view_module": "@jupyter-widgets/controls",
      "_view_module_version": "1.5.0",
      "_view_name": "HTMLView",
      "description": "",
      "description_tooltip": null,
      "layout": "IPY_MODEL_7c4815bc53ac4981bf3dacc8dbbf1fdd",
      "placeholder": "\u200b",
      "style": "IPY_MODEL_c71de80878a04d44a3b8149b264e7d4b",
      "value": ""
     }
    },
    "a4b60c249a784e649a056c5d5062627d": {
     "model_module": "@jupyter-widgets/base",
     "model_module_version": "1.2.0",
     "model_name": "LayoutModel",
     "state": {
      "_model_module": "@jupyter-widgets/base",
      "_model_module_version": "1.2.0",
      "_model_name": "LayoutModel",
      "_view_count": null,
      "_view_module": "@jupyter-widgets/base",
      "_view_module_version": "1.2.0",
      "_view_name": "LayoutView",
      "align_content": null,
      "align_items": null,
      "align_self": null,
      "border": null,
      "bottom": null,
      "display": null,
      "flex": null,
      "flex_flow": null,
      "grid_area": null,
      "grid_auto_columns": null,
      "grid_auto_flow": null,
      "grid_auto_rows": null,
      "grid_column": null,
      "grid_gap": null,
      "grid_row": null,
      "grid_template_areas": null,
      "grid_template_columns": null,
      "grid_template_rows": null,
      "height": null,
      "justify_content": null,
      "justify_items": null,
      "left": null,
      "margin": null,
      "max_height": null,
      "max_width": null,
      "min_height": null,
      "min_width": null,
      "object_fit": null,
      "object_position": null,
      "order": null,
      "overflow": null,
      "overflow_x": null,
      "overflow_y": null,
      "padding": null,
      "right": null,
      "top": null,
      "visibility": null,
      "width": null
     }
    },
    "a50b3f85eb8c4288967faf5bef4f6a69": {
     "model_module": "@jupyter-widgets/controls",
     "model_module_version": "1.5.0",
     "model_name": "HTMLModel",
     "state": {
      "_dom_classes": [],
      "_model_module": "@jupyter-widgets/controls",
      "_model_module_version": "1.5.0",
      "_model_name": "HTMLModel",
      "_view_count": null,
      "_view_module": "@jupyter-widgets/controls",
      "_view_module_version": "1.5.0",
      "_view_name": "HTMLView",
      "description": "",
      "description_tooltip": null,
      "layout": "IPY_MODEL_b9d9cdc3155c43d2a566a511a6ade59e",
      "placeholder": "\u200b",
      "style": "IPY_MODEL_d086c6cd9274439784176f2c46e02704",
      "value": "Downloading: "
     }
    },
    "a7a29a5bf3664db7b3c3373d8eb1cedc": {
     "model_module": "@jupyter-widgets/base",
     "model_module_version": "1.2.0",
     "model_name": "LayoutModel",
     "state": {
      "_model_module": "@jupyter-widgets/base",
      "_model_module_version": "1.2.0",
      "_model_name": "LayoutModel",
      "_view_count": null,
      "_view_module": "@jupyter-widgets/base",
      "_view_module_version": "1.2.0",
      "_view_name": "LayoutView",
      "align_content": null,
      "align_items": null,
      "align_self": null,
      "border": null,
      "bottom": null,
      "display": null,
      "flex": null,
      "flex_flow": null,
      "grid_area": null,
      "grid_auto_columns": null,
      "grid_auto_flow": null,
      "grid_auto_rows": null,
      "grid_column": null,
      "grid_gap": null,
      "grid_row": null,
      "grid_template_areas": null,
      "grid_template_columns": null,
      "grid_template_rows": null,
      "height": null,
      "justify_content": null,
      "justify_items": null,
      "left": null,
      "margin": null,
      "max_height": null,
      "max_width": null,
      "min_height": null,
      "min_width": null,
      "object_fit": null,
      "object_position": null,
      "order": null,
      "overflow": null,
      "overflow_x": null,
      "overflow_y": null,
      "padding": null,
      "right": null,
      "top": null,
      "visibility": null,
      "width": null
     }
    },
    "a9a26dbbce6347aaad1e4728c16559bc": {
     "model_module": "@jupyter-widgets/controls",
     "model_module_version": "1.5.0",
     "model_name": "HTMLModel",
     "state": {
      "_dom_classes": [],
      "_model_module": "@jupyter-widgets/controls",
      "_model_module_version": "1.5.0",
      "_model_name": "HTMLModel",
      "_view_count": null,
      "_view_module": "@jupyter-widgets/controls",
      "_view_module_version": "1.5.0",
      "_view_name": "HTMLView",
      "description": "",
      "description_tooltip": null,
      "layout": "IPY_MODEL_bec438c216dc4b018ebf7b11d17e122c",
      "placeholder": "\u200b",
      "style": "IPY_MODEL_61471a8718a543ed919d5d81874c1825",
      "value": "Downloading: 100%"
     }
    },
    "aa2d61eb8da84dbf819918d979c1fd00": {
     "model_module": "@jupyter-widgets/base",
     "model_module_version": "1.2.0",
     "model_name": "LayoutModel",
     "state": {
      "_model_module": "@jupyter-widgets/base",
      "_model_module_version": "1.2.0",
      "_model_name": "LayoutModel",
      "_view_count": null,
      "_view_module": "@jupyter-widgets/base",
      "_view_module_version": "1.2.0",
      "_view_name": "LayoutView",
      "align_content": null,
      "align_items": null,
      "align_self": null,
      "border": null,
      "bottom": null,
      "display": null,
      "flex": null,
      "flex_flow": null,
      "grid_area": null,
      "grid_auto_columns": null,
      "grid_auto_flow": null,
      "grid_auto_rows": null,
      "grid_column": null,
      "grid_gap": null,
      "grid_row": null,
      "grid_template_areas": null,
      "grid_template_columns": null,
      "grid_template_rows": null,
      "height": null,
      "justify_content": null,
      "justify_items": null,
      "left": null,
      "margin": null,
      "max_height": null,
      "max_width": null,
      "min_height": null,
      "min_width": null,
      "object_fit": null,
      "object_position": null,
      "order": null,
      "overflow": null,
      "overflow_x": null,
      "overflow_y": null,
      "padding": null,
      "right": null,
      "top": null,
      "visibility": null,
      "width": null
     }
    },
    "aaeddaf56b7a408b9b5843fd38f087fc": {
     "model_module": "@jupyter-widgets/controls",
     "model_module_version": "1.5.0",
     "model_name": "DescriptionStyleModel",
     "state": {
      "_model_module": "@jupyter-widgets/controls",
      "_model_module_version": "1.5.0",
      "_model_name": "DescriptionStyleModel",
      "_view_count": null,
      "_view_module": "@jupyter-widgets/base",
      "_view_module_version": "1.2.0",
      "_view_name": "StyleView",
      "description_width": ""
     }
    },
    "ae1ed4851fc54b23926f6aac9413d396": {
     "model_module": "@jupyter-widgets/base",
     "model_module_version": "1.2.0",
     "model_name": "LayoutModel",
     "state": {
      "_model_module": "@jupyter-widgets/base",
      "_model_module_version": "1.2.0",
      "_model_name": "LayoutModel",
      "_view_count": null,
      "_view_module": "@jupyter-widgets/base",
      "_view_module_version": "1.2.0",
      "_view_name": "LayoutView",
      "align_content": null,
      "align_items": null,
      "align_self": null,
      "border": null,
      "bottom": null,
      "display": null,
      "flex": null,
      "flex_flow": null,
      "grid_area": null,
      "grid_auto_columns": null,
      "grid_auto_flow": null,
      "grid_auto_rows": null,
      "grid_column": null,
      "grid_gap": null,
      "grid_row": null,
      "grid_template_areas": null,
      "grid_template_columns": null,
      "grid_template_rows": null,
      "height": null,
      "justify_content": null,
      "justify_items": null,
      "left": null,
      "margin": null,
      "max_height": null,
      "max_width": null,
      "min_height": null,
      "min_width": null,
      "object_fit": null,
      "object_position": null,
      "order": null,
      "overflow": null,
      "overflow_x": null,
      "overflow_y": null,
      "padding": null,
      "right": null,
      "top": null,
      "visibility": null,
      "width": null
     }
    },
    "b00d8bd8e91842609cab8a9cbf07648b": {
     "model_module": "@jupyter-widgets/base",
     "model_module_version": "1.2.0",
     "model_name": "LayoutModel",
     "state": {
      "_model_module": "@jupyter-widgets/base",
      "_model_module_version": "1.2.0",
      "_model_name": "LayoutModel",
      "_view_count": null,
      "_view_module": "@jupyter-widgets/base",
      "_view_module_version": "1.2.0",
      "_view_name": "LayoutView",
      "align_content": null,
      "align_items": null,
      "align_self": null,
      "border": null,
      "bottom": null,
      "display": null,
      "flex": null,
      "flex_flow": null,
      "grid_area": null,
      "grid_auto_columns": null,
      "grid_auto_flow": null,
      "grid_auto_rows": null,
      "grid_column": null,
      "grid_gap": null,
      "grid_row": null,
      "grid_template_areas": null,
      "grid_template_columns": null,
      "grid_template_rows": null,
      "height": null,
      "justify_content": null,
      "justify_items": null,
      "left": null,
      "margin": null,
      "max_height": null,
      "max_width": null,
      "min_height": null,
      "min_width": null,
      "object_fit": null,
      "object_position": null,
      "order": null,
      "overflow": null,
      "overflow_x": null,
      "overflow_y": null,
      "padding": null,
      "right": null,
      "top": null,
      "visibility": null,
      "width": null
     }
    },
    "b0cd66f3807c45668a9282d0c71a1594": {
     "model_module": "@jupyter-widgets/base",
     "model_module_version": "1.2.0",
     "model_name": "LayoutModel",
     "state": {
      "_model_module": "@jupyter-widgets/base",
      "_model_module_version": "1.2.0",
      "_model_name": "LayoutModel",
      "_view_count": null,
      "_view_module": "@jupyter-widgets/base",
      "_view_module_version": "1.2.0",
      "_view_name": "LayoutView",
      "align_content": null,
      "align_items": null,
      "align_self": null,
      "border": null,
      "bottom": null,
      "display": null,
      "flex": null,
      "flex_flow": null,
      "grid_area": null,
      "grid_auto_columns": null,
      "grid_auto_flow": null,
      "grid_auto_rows": null,
      "grid_column": null,
      "grid_gap": null,
      "grid_row": null,
      "grid_template_areas": null,
      "grid_template_columns": null,
      "grid_template_rows": null,
      "height": null,
      "justify_content": null,
      "justify_items": null,
      "left": null,
      "margin": null,
      "max_height": null,
      "max_width": null,
      "min_height": null,
      "min_width": null,
      "object_fit": null,
      "object_position": null,
      "order": null,
      "overflow": null,
      "overflow_x": null,
      "overflow_y": null,
      "padding": null,
      "right": null,
      "top": null,
      "visibility": null,
      "width": null
     }
    },
    "b2c9240cc08a4052bfd91b48169220c3": {
     "model_module": "@jupyter-widgets/base",
     "model_module_version": "1.2.0",
     "model_name": "LayoutModel",
     "state": {
      "_model_module": "@jupyter-widgets/base",
      "_model_module_version": "1.2.0",
      "_model_name": "LayoutModel",
      "_view_count": null,
      "_view_module": "@jupyter-widgets/base",
      "_view_module_version": "1.2.0",
      "_view_name": "LayoutView",
      "align_content": null,
      "align_items": null,
      "align_self": null,
      "border": null,
      "bottom": null,
      "display": null,
      "flex": null,
      "flex_flow": null,
      "grid_area": null,
      "grid_auto_columns": null,
      "grid_auto_flow": null,
      "grid_auto_rows": null,
      "grid_column": null,
      "grid_gap": null,
      "grid_row": null,
      "grid_template_areas": null,
      "grid_template_columns": null,
      "grid_template_rows": null,
      "height": null,
      "justify_content": null,
      "justify_items": null,
      "left": null,
      "margin": null,
      "max_height": null,
      "max_width": null,
      "min_height": null,
      "min_width": null,
      "object_fit": null,
      "object_position": null,
      "order": null,
      "overflow": null,
      "overflow_x": null,
      "overflow_y": null,
      "padding": null,
      "right": null,
      "top": null,
      "visibility": null,
      "width": null
     }
    },
    "b2e02faf4cb24093aee3b26fc9939711": {
     "model_module": "@jupyter-widgets/base",
     "model_module_version": "1.2.0",
     "model_name": "LayoutModel",
     "state": {
      "_model_module": "@jupyter-widgets/base",
      "_model_module_version": "1.2.0",
      "_model_name": "LayoutModel",
      "_view_count": null,
      "_view_module": "@jupyter-widgets/base",
      "_view_module_version": "1.2.0",
      "_view_name": "LayoutView",
      "align_content": null,
      "align_items": null,
      "align_self": null,
      "border": null,
      "bottom": null,
      "display": null,
      "flex": null,
      "flex_flow": null,
      "grid_area": null,
      "grid_auto_columns": null,
      "grid_auto_flow": null,
      "grid_auto_rows": null,
      "grid_column": null,
      "grid_gap": null,
      "grid_row": null,
      "grid_template_areas": null,
      "grid_template_columns": null,
      "grid_template_rows": null,
      "height": null,
      "justify_content": null,
      "justify_items": null,
      "left": null,
      "margin": null,
      "max_height": null,
      "max_width": null,
      "min_height": null,
      "min_width": null,
      "object_fit": null,
      "object_position": null,
      "order": null,
      "overflow": null,
      "overflow_x": null,
      "overflow_y": null,
      "padding": null,
      "right": null,
      "top": null,
      "visibility": null,
      "width": null
     }
    },
    "b3f6df875294417387539fa39075c8b1": {
     "model_module": "@jupyter-widgets/base",
     "model_module_version": "1.2.0",
     "model_name": "LayoutModel",
     "state": {
      "_model_module": "@jupyter-widgets/base",
      "_model_module_version": "1.2.0",
      "_model_name": "LayoutModel",
      "_view_count": null,
      "_view_module": "@jupyter-widgets/base",
      "_view_module_version": "1.2.0",
      "_view_name": "LayoutView",
      "align_content": null,
      "align_items": null,
      "align_self": null,
      "border": null,
      "bottom": null,
      "display": null,
      "flex": null,
      "flex_flow": null,
      "grid_area": null,
      "grid_auto_columns": null,
      "grid_auto_flow": null,
      "grid_auto_rows": null,
      "grid_column": null,
      "grid_gap": null,
      "grid_row": null,
      "grid_template_areas": null,
      "grid_template_columns": null,
      "grid_template_rows": null,
      "height": null,
      "justify_content": null,
      "justify_items": null,
      "left": null,
      "margin": null,
      "max_height": null,
      "max_width": null,
      "min_height": null,
      "min_width": null,
      "object_fit": null,
      "object_position": null,
      "order": null,
      "overflow": null,
      "overflow_x": null,
      "overflow_y": null,
      "padding": null,
      "right": null,
      "top": null,
      "visibility": null,
      "width": null
     }
    },
    "b9d9cdc3155c43d2a566a511a6ade59e": {
     "model_module": "@jupyter-widgets/base",
     "model_module_version": "1.2.0",
     "model_name": "LayoutModel",
     "state": {
      "_model_module": "@jupyter-widgets/base",
      "_model_module_version": "1.2.0",
      "_model_name": "LayoutModel",
      "_view_count": null,
      "_view_module": "@jupyter-widgets/base",
      "_view_module_version": "1.2.0",
      "_view_name": "LayoutView",
      "align_content": null,
      "align_items": null,
      "align_self": null,
      "border": null,
      "bottom": null,
      "display": null,
      "flex": null,
      "flex_flow": null,
      "grid_area": null,
      "grid_auto_columns": null,
      "grid_auto_flow": null,
      "grid_auto_rows": null,
      "grid_column": null,
      "grid_gap": null,
      "grid_row": null,
      "grid_template_areas": null,
      "grid_template_columns": null,
      "grid_template_rows": null,
      "height": null,
      "justify_content": null,
      "justify_items": null,
      "left": null,
      "margin": null,
      "max_height": null,
      "max_width": null,
      "min_height": null,
      "min_width": null,
      "object_fit": null,
      "object_position": null,
      "order": null,
      "overflow": null,
      "overflow_x": null,
      "overflow_y": null,
      "padding": null,
      "right": null,
      "top": null,
      "visibility": null,
      "width": null
     }
    },
    "b9e7bd84fad24db492fa0df4723a2efd": {
     "model_module": "@jupyter-widgets/controls",
     "model_module_version": "1.5.0",
     "model_name": "HTMLModel",
     "state": {
      "_dom_classes": [],
      "_model_module": "@jupyter-widgets/controls",
      "_model_module_version": "1.5.0",
      "_model_name": "HTMLModel",
      "_view_count": null,
      "_view_module": "@jupyter-widgets/controls",
      "_view_module_version": "1.5.0",
      "_view_name": "HTMLView",
      "description": "",
      "description_tooltip": null,
      "layout": "IPY_MODEL_535ee96936744708b3223d02c8d3d814",
      "placeholder": "\u200b",
      "style": "IPY_MODEL_29accfd7071f4060905134c8794cae14",
      "value": " 22.5k/? [00:00&lt;00:00, 446kB/s]"
     }
    },
    "bca48f2fac3c40c4be2561337b35d438": {
     "model_module": "@jupyter-widgets/controls",
     "model_module_version": "1.5.0",
     "model_name": "HBoxModel",
     "state": {
      "_dom_classes": [],
      "_model_module": "@jupyter-widgets/controls",
      "_model_module_version": "1.5.0",
      "_model_name": "HBoxModel",
      "_view_count": null,
      "_view_module": "@jupyter-widgets/controls",
      "_view_module_version": "1.5.0",
      "_view_name": "HBoxView",
      "box_style": "",
      "children": [
       "IPY_MODEL_134fedfde5c34fef9a467bd7a2e7bf25",
       "IPY_MODEL_3b8cb5d42eff41299096e324d79b6efb",
       "IPY_MODEL_243ecba5b9094aa88e4c59e86eebed3a"
      ],
      "layout": "IPY_MODEL_ae1ed4851fc54b23926f6aac9413d396"
     }
    },
    "bde57ec414004420b109f0fdd4f11b43": {
     "model_module": "@jupyter-widgets/base",
     "model_module_version": "1.2.0",
     "model_name": "LayoutModel",
     "state": {
      "_model_module": "@jupyter-widgets/base",
      "_model_module_version": "1.2.0",
      "_model_name": "LayoutModel",
      "_view_count": null,
      "_view_module": "@jupyter-widgets/base",
      "_view_module_version": "1.2.0",
      "_view_name": "LayoutView",
      "align_content": null,
      "align_items": null,
      "align_self": null,
      "border": null,
      "bottom": null,
      "display": null,
      "flex": null,
      "flex_flow": null,
      "grid_area": null,
      "grid_auto_columns": null,
      "grid_auto_flow": null,
      "grid_auto_rows": null,
      "grid_column": null,
      "grid_gap": null,
      "grid_row": null,
      "grid_template_areas": null,
      "grid_template_columns": null,
      "grid_template_rows": null,
      "height": null,
      "justify_content": null,
      "justify_items": null,
      "left": null,
      "margin": null,
      "max_height": null,
      "max_width": null,
      "min_height": null,
      "min_width": null,
      "object_fit": null,
      "object_position": null,
      "order": null,
      "overflow": null,
      "overflow_x": null,
      "overflow_y": null,
      "padding": null,
      "right": null,
      "top": null,
      "visibility": null,
      "width": null
     }
    },
    "bec438c216dc4b018ebf7b11d17e122c": {
     "model_module": "@jupyter-widgets/base",
     "model_module_version": "1.2.0",
     "model_name": "LayoutModel",
     "state": {
      "_model_module": "@jupyter-widgets/base",
      "_model_module_version": "1.2.0",
      "_model_name": "LayoutModel",
      "_view_count": null,
      "_view_module": "@jupyter-widgets/base",
      "_view_module_version": "1.2.0",
      "_view_name": "LayoutView",
      "align_content": null,
      "align_items": null,
      "align_self": null,
      "border": null,
      "bottom": null,
      "display": null,
      "flex": null,
      "flex_flow": null,
      "grid_area": null,
      "grid_auto_columns": null,
      "grid_auto_flow": null,
      "grid_auto_rows": null,
      "grid_column": null,
      "grid_gap": null,
      "grid_row": null,
      "grid_template_areas": null,
      "grid_template_columns": null,
      "grid_template_rows": null,
      "height": null,
      "justify_content": null,
      "justify_items": null,
      "left": null,
      "margin": null,
      "max_height": null,
      "max_width": null,
      "min_height": null,
      "min_width": null,
      "object_fit": null,
      "object_position": null,
      "order": null,
      "overflow": null,
      "overflow_x": null,
      "overflow_y": null,
      "padding": null,
      "right": null,
      "top": null,
      "visibility": null,
      "width": null
     }
    },
    "bf335ecbd1b84d55a8ee212c21f5f5d5": {
     "model_module": "@jupyter-widgets/controls",
     "model_module_version": "1.5.0",
     "model_name": "ProgressStyleModel",
     "state": {
      "_model_module": "@jupyter-widgets/controls",
      "_model_module_version": "1.5.0",
      "_model_name": "ProgressStyleModel",
      "_view_count": null,
      "_view_module": "@jupyter-widgets/base",
      "_view_module_version": "1.2.0",
      "_view_name": "StyleView",
      "bar_color": null,
      "description_width": ""
     }
    },
    "c05c519bfb90452693d4a86f41b1982a": {
     "model_module": "@jupyter-widgets/controls",
     "model_module_version": "1.5.0",
     "model_name": "HTMLModel",
     "state": {
      "_dom_classes": [],
      "_model_module": "@jupyter-widgets/controls",
      "_model_module_version": "1.5.0",
      "_model_name": "HTMLModel",
      "_view_count": null,
      "_view_module": "@jupyter-widgets/controls",
      "_view_module_version": "1.5.0",
      "_view_name": "HTMLView",
      "description": "",
      "description_tooltip": null,
      "layout": "IPY_MODEL_48be87f262024cce9954b7162ee9a3b8",
      "placeholder": "\u200b",
      "style": "IPY_MODEL_0b220fab7f954b8abe429e5880c16125",
      "value": " 157M/157M [00:05&lt;00:00, 23.9MB/s]"
     }
    },
    "c08e34ba26154c269aae602bacef3761": {
     "model_module": "@jupyter-widgets/controls",
     "model_module_version": "1.5.0",
     "model_name": "HTMLModel",
     "state": {
      "_dom_classes": [],
      "_model_module": "@jupyter-widgets/controls",
      "_model_module_version": "1.5.0",
      "_model_name": "HTMLModel",
      "_view_count": null,
      "_view_module": "@jupyter-widgets/controls",
      "_view_module_version": "1.5.0",
      "_view_name": "HTMLView",
      "description": "",
      "description_tooltip": null,
      "layout": "IPY_MODEL_0447519f1cdd4e14abab320103d1b989",
      "placeholder": "\u200b",
      "style": "IPY_MODEL_06556f4f05be42aabe588d648fbf87f0",
      "value": "100%"
     }
    },
    "c0c180b6c5654378a34d8f5412f14834": {
     "model_module": "@jupyter-widgets/controls",
     "model_module_version": "1.5.0",
     "model_name": "FloatProgressModel",
     "state": {
      "_dom_classes": [],
      "_model_module": "@jupyter-widgets/controls",
      "_model_module_version": "1.5.0",
      "_model_name": "FloatProgressModel",
      "_view_count": null,
      "_view_module": "@jupyter-widgets/controls",
      "_view_module_version": "1.5.0",
      "_view_name": "ProgressView",
      "bar_style": "success",
      "description": "",
      "description_tooltip": null,
      "layout": "IPY_MODEL_7678f93df87149f79185b2a142d9d1c6",
      "max": 156553447,
      "min": 0,
      "orientation": "horizontal",
      "style": "IPY_MODEL_35dd171a360d43489e8b70653afe2efd",
      "value": 156553447
     }
    },
    "c1380da84f694064a241ea8ddebab249": {
     "model_module": "@jupyter-widgets/controls",
     "model_module_version": "1.5.0",
     "model_name": "FloatProgressModel",
     "state": {
      "_dom_classes": [],
      "_model_module": "@jupyter-widgets/controls",
      "_model_module_version": "1.5.0",
      "_model_name": "FloatProgressModel",
      "_view_count": null,
      "_view_module": "@jupyter-widgets/controls",
      "_view_module_version": "1.5.0",
      "_view_name": "ProgressView",
      "bar_style": "info",
      "description": "",
      "description_tooltip": null,
      "layout": "IPY_MODEL_0cb90467135647a296130eaaa218338a",
      "max": 1,
      "min": 0,
      "orientation": "horizontal",
      "style": "IPY_MODEL_c7eedf1f77af4d7ead98fc5afa4da219",
      "value": 1
     }
    },
    "c26da0359c6f4b73867ae591087251bc": {
     "model_module": "@jupyter-widgets/controls",
     "model_module_version": "1.5.0",
     "model_name": "DescriptionStyleModel",
     "state": {
      "_model_module": "@jupyter-widgets/controls",
      "_model_module_version": "1.5.0",
      "_model_name": "DescriptionStyleModel",
      "_view_count": null,
      "_view_module": "@jupyter-widgets/base",
      "_view_module_version": "1.2.0",
      "_view_name": "StyleView",
      "description_width": ""
     }
    },
    "c2b1e7d709dd4486b4c46a0b7a0b2691": {
     "model_module": "@jupyter-widgets/base",
     "model_module_version": "1.2.0",
     "model_name": "LayoutModel",
     "state": {
      "_model_module": "@jupyter-widgets/base",
      "_model_module_version": "1.2.0",
      "_model_name": "LayoutModel",
      "_view_count": null,
      "_view_module": "@jupyter-widgets/base",
      "_view_module_version": "1.2.0",
      "_view_name": "LayoutView",
      "align_content": null,
      "align_items": null,
      "align_self": null,
      "border": null,
      "bottom": null,
      "display": null,
      "flex": null,
      "flex_flow": null,
      "grid_area": null,
      "grid_auto_columns": null,
      "grid_auto_flow": null,
      "grid_auto_rows": null,
      "grid_column": null,
      "grid_gap": null,
      "grid_row": null,
      "grid_template_areas": null,
      "grid_template_columns": null,
      "grid_template_rows": null,
      "height": null,
      "justify_content": null,
      "justify_items": null,
      "left": null,
      "margin": null,
      "max_height": null,
      "max_width": null,
      "min_height": null,
      "min_width": null,
      "object_fit": null,
      "object_position": null,
      "order": null,
      "overflow": null,
      "overflow_x": null,
      "overflow_y": null,
      "padding": null,
      "right": null,
      "top": null,
      "visibility": null,
      "width": null
     }
    },
    "c32e28f3df6a49368f2df80f11ba5a1d": {
     "model_module": "@jupyter-widgets/controls",
     "model_module_version": "1.5.0",
     "model_name": "DescriptionStyleModel",
     "state": {
      "_model_module": "@jupyter-widgets/controls",
      "_model_module_version": "1.5.0",
      "_model_name": "DescriptionStyleModel",
      "_view_count": null,
      "_view_module": "@jupyter-widgets/base",
      "_view_module_version": "1.2.0",
      "_view_name": "StyleView",
      "description_width": ""
     }
    },
    "c6a249e4fba042baaa6e579d8247cf7a": {
     "model_module": "@jupyter-widgets/controls",
     "model_module_version": "1.5.0",
     "model_name": "HTMLModel",
     "state": {
      "_dom_classes": [],
      "_model_module": "@jupyter-widgets/controls",
      "_model_module_version": "1.5.0",
      "_model_name": "HTMLModel",
      "_view_count": null,
      "_view_module": "@jupyter-widgets/controls",
      "_view_module_version": "1.5.0",
      "_view_name": "HTMLView",
      "description": "",
      "description_tooltip": null,
      "layout": "IPY_MODEL_bde57ec414004420b109f0fdd4f11b43",
      "placeholder": "\u200b",
      "style": "IPY_MODEL_9d4777c488e74289bff088810d6b186c",
      "value": " 506/506 [00:06&lt;00:00, 88.66ex/s]"
     }
    },
    "c71de80878a04d44a3b8149b264e7d4b": {
     "model_module": "@jupyter-widgets/controls",
     "model_module_version": "1.5.0",
     "model_name": "DescriptionStyleModel",
     "state": {
      "_model_module": "@jupyter-widgets/controls",
      "_model_module_version": "1.5.0",
      "_model_name": "DescriptionStyleModel",
      "_view_count": null,
      "_view_module": "@jupyter-widgets/base",
      "_view_module_version": "1.2.0",
      "_view_name": "StyleView",
      "description_width": ""
     }
    },
    "c7bb6a7287ee407195246d295f8ee454": {
     "model_module": "@jupyter-widgets/controls",
     "model_module_version": "1.5.0",
     "model_name": "ProgressStyleModel",
     "state": {
      "_model_module": "@jupyter-widgets/controls",
      "_model_module_version": "1.5.0",
      "_model_name": "ProgressStyleModel",
      "_view_count": null,
      "_view_module": "@jupyter-widgets/base",
      "_view_module_version": "1.2.0",
      "_view_name": "StyleView",
      "bar_color": null,
      "description_width": ""
     }
    },
    "c7eedf1f77af4d7ead98fc5afa4da219": {
     "model_module": "@jupyter-widgets/controls",
     "model_module_version": "1.5.0",
     "model_name": "ProgressStyleModel",
     "state": {
      "_model_module": "@jupyter-widgets/controls",
      "_model_module_version": "1.5.0",
      "_model_name": "ProgressStyleModel",
      "_view_count": null,
      "_view_module": "@jupyter-widgets/base",
      "_view_module_version": "1.2.0",
      "_view_name": "StyleView",
      "bar_color": null,
      "description_width": ""
     }
    },
    "c81067e07b4f4a58834fce2a61576eeb": {
     "model_module": "@jupyter-widgets/controls",
     "model_module_version": "1.5.0",
     "model_name": "HTMLModel",
     "state": {
      "_dom_classes": [],
      "_model_module": "@jupyter-widgets/controls",
      "_model_module_version": "1.5.0",
      "_model_name": "HTMLModel",
      "_view_count": null,
      "_view_module": "@jupyter-widgets/controls",
      "_view_module_version": "1.5.0",
      "_view_name": "HTMLView",
      "description": "",
      "description_tooltip": null,
      "layout": "IPY_MODEL_0fa98db3fefe4cccbae866ed79c25868",
      "placeholder": "\u200b",
      "style": "IPY_MODEL_d771b402f28f4e919e7ea64fa1d0136e",
      "value": ""
     }
    },
    "cf62b06995e24848b325c7546a6f51b9": {
     "model_module": "@jupyter-widgets/controls",
     "model_module_version": "1.5.0",
     "model_name": "HTMLModel",
     "state": {
      "_dom_classes": [],
      "_model_module": "@jupyter-widgets/controls",
      "_model_module_version": "1.5.0",
      "_model_name": "HTMLModel",
      "_view_count": null,
      "_view_module": "@jupyter-widgets/controls",
      "_view_module_version": "1.5.0",
      "_view_name": "HTMLView",
      "description": "",
      "description_tooltip": null,
      "layout": "IPY_MODEL_2f987e12ede142c986c02268d01eed3c",
      "placeholder": "\u200b",
      "style": "IPY_MODEL_453c25ef14ae46ca89be007f84601f08",
      "value": "100%"
     }
    },
    "d086c6cd9274439784176f2c46e02704": {
     "model_module": "@jupyter-widgets/controls",
     "model_module_version": "1.5.0",
     "model_name": "DescriptionStyleModel",
     "state": {
      "_model_module": "@jupyter-widgets/controls",
      "_model_module_version": "1.5.0",
      "_model_name": "DescriptionStyleModel",
      "_view_count": null,
      "_view_module": "@jupyter-widgets/base",
      "_view_module_version": "1.2.0",
      "_view_name": "StyleView",
      "description_width": ""
     }
    },
    "d1aba60f1c764be3a045e751af34891b": {
     "model_module": "@jupyter-widgets/controls",
     "model_module_version": "1.5.0",
     "model_name": "FloatProgressModel",
     "state": {
      "_dom_classes": [],
      "_model_module": "@jupyter-widgets/controls",
      "_model_module_version": "1.5.0",
      "_model_name": "FloatProgressModel",
      "_view_count": null,
      "_view_module": "@jupyter-widgets/controls",
      "_view_module_version": "1.5.0",
      "_view_name": "ProgressView",
      "bar_style": "success",
      "description": "",
      "description_tooltip": null,
      "layout": "IPY_MODEL_040c74a1e6c647aaa3c3a24b29686d20",
      "max": 10151,
      "min": 0,
      "orientation": "horizontal",
      "style": "IPY_MODEL_30d15f00faa24a889fd4ff7850220c1b",
      "value": 10151
     }
    },
    "d20f957ccf7f474d890df4f5ca746ce7": {
     "model_module": "@jupyter-widgets/controls",
     "model_module_version": "1.5.0",
     "model_name": "DescriptionStyleModel",
     "state": {
      "_model_module": "@jupyter-widgets/controls",
      "_model_module_version": "1.5.0",
      "_model_name": "DescriptionStyleModel",
      "_view_count": null,
      "_view_module": "@jupyter-widgets/base",
      "_view_module_version": "1.2.0",
      "_view_name": "StyleView",
      "description_width": ""
     }
    },
    "d3a9358beef6459ba063f4c3011cc4b5": {
     "model_module": "@jupyter-widgets/base",
     "model_module_version": "1.2.0",
     "model_name": "LayoutModel",
     "state": {
      "_model_module": "@jupyter-widgets/base",
      "_model_module_version": "1.2.0",
      "_model_name": "LayoutModel",
      "_view_count": null,
      "_view_module": "@jupyter-widgets/base",
      "_view_module_version": "1.2.0",
      "_view_name": "LayoutView",
      "align_content": null,
      "align_items": null,
      "align_self": null,
      "border": null,
      "bottom": null,
      "display": null,
      "flex": null,
      "flex_flow": null,
      "grid_area": null,
      "grid_auto_columns": null,
      "grid_auto_flow": null,
      "grid_auto_rows": null,
      "grid_column": null,
      "grid_gap": null,
      "grid_row": null,
      "grid_template_areas": null,
      "grid_template_columns": null,
      "grid_template_rows": null,
      "height": null,
      "justify_content": null,
      "justify_items": null,
      "left": null,
      "margin": null,
      "max_height": null,
      "max_width": null,
      "min_height": null,
      "min_width": null,
      "object_fit": null,
      "object_position": null,
      "order": null,
      "overflow": null,
      "overflow_x": null,
      "overflow_y": null,
      "padding": null,
      "right": null,
      "top": null,
      "visibility": null,
      "width": null
     }
    },
    "d3c3df0de683434f8742185d27ad4cc8": {
     "model_module": "@jupyter-widgets/controls",
     "model_module_version": "1.5.0",
     "model_name": "HTMLModel",
     "state": {
      "_dom_classes": [],
      "_model_module": "@jupyter-widgets/controls",
      "_model_module_version": "1.5.0",
      "_model_name": "HTMLModel",
      "_view_count": null,
      "_view_module": "@jupyter-widgets/controls",
      "_view_module_version": "1.5.0",
      "_view_name": "HTMLView",
      "description": "",
      "description_tooltip": null,
      "layout": "IPY_MODEL_5f0876750019427ea8c8beedba327796",
      "placeholder": "\u200b",
      "style": "IPY_MODEL_74b51541a91a41dbbfefdf48a671aaf1",
      "value": "Downloading: 100%"
     }
    },
    "d58028c1b2c24d8dae30b9370e5774e2": {
     "model_module": "@jupyter-widgets/controls",
     "model_module_version": "1.5.0",
     "model_name": "HTMLModel",
     "state": {
      "_dom_classes": [],
      "_model_module": "@jupyter-widgets/controls",
      "_model_module_version": "1.5.0",
      "_model_name": "HTMLModel",
      "_view_count": null,
      "_view_module": "@jupyter-widgets/controls",
      "_view_module_version": "1.5.0",
      "_view_name": "HTMLView",
      "description": "",
      "description_tooltip": null,
      "layout": "IPY_MODEL_a4b60c249a784e649a056c5d5062627d",
      "placeholder": "\u200b",
      "style": "IPY_MODEL_e5f09bb71f304de7996ecb481047deb7",
      "value": " 1038/1038 [00:12&lt;00:00, 58.66ex/s]"
     }
    },
    "d5a5cdc5d4bf4e808e228f33e3d5d954": {
     "model_module": "@jupyter-widgets/controls",
     "model_module_version": "1.5.0",
     "model_name": "HBoxModel",
     "state": {
      "_dom_classes": [],
      "_model_module": "@jupyter-widgets/controls",
      "_model_module_version": "1.5.0",
      "_model_name": "HBoxModel",
      "_view_count": null,
      "_view_module": "@jupyter-widgets/controls",
      "_view_module_version": "1.5.0",
      "_view_name": "HBoxView",
      "box_style": "",
      "children": [
       "IPY_MODEL_e60388f672044b419f1e44bbbddaab71",
       "IPY_MODEL_2c0285e9eeb840e78c5bd598298946fa",
       "IPY_MODEL_5b2f42ef41c0478aa9a7adf49f91923a"
      ],
      "layout": "IPY_MODEL_1da4d9a1225046be8a344593f78b9753"
     }
    },
    "d5bf5ac0ddd94dbbb56af95c46d0f1aa": {
     "model_module": "@jupyter-widgets/controls",
     "model_module_version": "1.5.0",
     "model_name": "DescriptionStyleModel",
     "state": {
      "_model_module": "@jupyter-widgets/controls",
      "_model_module_version": "1.5.0",
      "_model_name": "DescriptionStyleModel",
      "_view_count": null,
      "_view_module": "@jupyter-widgets/base",
      "_view_module_version": "1.2.0",
      "_view_name": "StyleView",
      "description_width": ""
     }
    },
    "d691f2f33bba4bfab88a6e8964e4daf4": {
     "model_module": "@jupyter-widgets/controls",
     "model_module_version": "1.5.0",
     "model_name": "VBoxModel",
     "state": {
      "_dom_classes": [],
      "_model_module": "@jupyter-widgets/controls",
      "_model_module_version": "1.5.0",
      "_model_name": "VBoxModel",
      "_view_count": null,
      "_view_module": "@jupyter-widgets/controls",
      "_view_module_version": "1.5.0",
      "_view_name": "VBoxView",
      "box_style": "",
      "children": [
       "IPY_MODEL_29dcf99bbc174a62ac7301430bef4be4",
       "IPY_MODEL_2a224f82873240ca9d37602b7ed2aaab",
       "IPY_MODEL_fb90a99ad1744673b20b8d4d631b0641"
      ],
      "layout": "IPY_MODEL_a0e26c581876448e802a366192006553"
     }
    },
    "d771b402f28f4e919e7ea64fa1d0136e": {
     "model_module": "@jupyter-widgets/controls",
     "model_module_version": "1.5.0",
     "model_name": "DescriptionStyleModel",
     "state": {
      "_model_module": "@jupyter-widgets/controls",
      "_model_module_version": "1.5.0",
      "_model_name": "DescriptionStyleModel",
      "_view_count": null,
      "_view_module": "@jupyter-widgets/base",
      "_view_module_version": "1.2.0",
      "_view_name": "StyleView",
      "description_width": ""
     }
    },
    "d813024ab46546109280971ae0a2270a": {
     "model_module": "@jupyter-widgets/base",
     "model_module_version": "1.2.0",
     "model_name": "LayoutModel",
     "state": {
      "_model_module": "@jupyter-widgets/base",
      "_model_module_version": "1.2.0",
      "_model_name": "LayoutModel",
      "_view_count": null,
      "_view_module": "@jupyter-widgets/base",
      "_view_module_version": "1.2.0",
      "_view_name": "LayoutView",
      "align_content": null,
      "align_items": null,
      "align_self": null,
      "border": null,
      "bottom": null,
      "display": null,
      "flex": null,
      "flex_flow": null,
      "grid_area": null,
      "grid_auto_columns": null,
      "grid_auto_flow": null,
      "grid_auto_rows": null,
      "grid_column": null,
      "grid_gap": null,
      "grid_row": null,
      "grid_template_areas": null,
      "grid_template_columns": null,
      "grid_template_rows": null,
      "height": null,
      "justify_content": null,
      "justify_items": null,
      "left": null,
      "margin": null,
      "max_height": null,
      "max_width": null,
      "min_height": null,
      "min_width": null,
      "object_fit": null,
      "object_position": null,
      "order": null,
      "overflow": null,
      "overflow_x": null,
      "overflow_y": null,
      "padding": null,
      "right": null,
      "top": null,
      "visibility": null,
      "width": "20px"
     }
    },
    "d8e7adffd4f4407ba056b6a3114ef767": {
     "model_module": "@jupyter-widgets/controls",
     "model_module_version": "1.5.0",
     "model_name": "HTMLModel",
     "state": {
      "_dom_classes": [],
      "_model_module": "@jupyter-widgets/controls",
      "_model_module_version": "1.5.0",
      "_model_name": "HTMLModel",
      "_view_count": null,
      "_view_module": "@jupyter-widgets/controls",
      "_view_module_version": "1.5.0",
      "_view_name": "HTMLView",
      "description": "",
      "description_tooltip": null,
      "layout": "IPY_MODEL_a7a29a5bf3664db7b3c3373d8eb1cedc",
      "placeholder": "\u200b",
      "style": "IPY_MODEL_8276470fc5294010923843a467e85842",
      "value": "100%"
     }
    },
    "d9cd123022e34816895a315a03d5d487": {
     "model_module": "@jupyter-widgets/base",
     "model_module_version": "1.2.0",
     "model_name": "LayoutModel",
     "state": {
      "_model_module": "@jupyter-widgets/base",
      "_model_module_version": "1.2.0",
      "_model_name": "LayoutModel",
      "_view_count": null,
      "_view_module": "@jupyter-widgets/base",
      "_view_module_version": "1.2.0",
      "_view_name": "LayoutView",
      "align_content": null,
      "align_items": null,
      "align_self": null,
      "border": null,
      "bottom": null,
      "display": null,
      "flex": null,
      "flex_flow": null,
      "grid_area": null,
      "grid_auto_columns": null,
      "grid_auto_flow": null,
      "grid_auto_rows": null,
      "grid_column": null,
      "grid_gap": null,
      "grid_row": null,
      "grid_template_areas": null,
      "grid_template_columns": null,
      "grid_template_rows": null,
      "height": null,
      "justify_content": null,
      "justify_items": null,
      "left": null,
      "margin": null,
      "max_height": null,
      "max_width": null,
      "min_height": null,
      "min_width": null,
      "object_fit": null,
      "object_position": null,
      "order": null,
      "overflow": null,
      "overflow_x": null,
      "overflow_y": null,
      "padding": null,
      "right": null,
      "top": null,
      "visibility": null,
      "width": null
     }
    },
    "da66731cd8d44d649d6737915d3bacbd": {
     "model_module": "@jupyter-widgets/controls",
     "model_module_version": "1.5.0",
     "model_name": "DescriptionStyleModel",
     "state": {
      "_model_module": "@jupyter-widgets/controls",
      "_model_module_version": "1.5.0",
      "_model_name": "DescriptionStyleModel",
      "_view_count": null,
      "_view_module": "@jupyter-widgets/base",
      "_view_module_version": "1.2.0",
      "_view_name": "StyleView",
      "description_width": ""
     }
    },
    "da7815ab5cf04140a79a23633c1f6ed0": {
     "model_module": "@jupyter-widgets/controls",
     "model_module_version": "1.5.0",
     "model_name": "ProgressStyleModel",
     "state": {
      "_model_module": "@jupyter-widgets/controls",
      "_model_module_version": "1.5.0",
      "_model_name": "ProgressStyleModel",
      "_view_count": null,
      "_view_module": "@jupyter-widgets/base",
      "_view_module_version": "1.2.0",
      "_view_name": "StyleView",
      "bar_color": null,
      "description_width": ""
     }
    },
    "dbe938f468ff4bb18a9f0bf3e7a1007b": {
     "model_module": "@jupyter-widgets/controls",
     "model_module_version": "1.5.0",
     "model_name": "HTMLModel",
     "state": {
      "_dom_classes": [],
      "_model_module": "@jupyter-widgets/controls",
      "_model_module_version": "1.5.0",
      "_model_name": "HTMLModel",
      "_view_count": null,
      "_view_module": "@jupyter-widgets/controls",
      "_view_module_version": "1.5.0",
      "_view_name": "HTMLView",
      "description": "",
      "description_tooltip": null,
      "layout": "IPY_MODEL_74e4954507e4401095155c61a3c15d7f",
      "placeholder": "\u200b",
      "style": "IPY_MODEL_9ca4d09253724716b9f8da04ff28127c",
      "value": " 1/1 [00:00&lt;00:00, 11.96ba/s]"
     }
    },
    "dd25213f297e47ab9828ba2a7ee92056": {
     "model_module": "@jupyter-widgets/controls",
     "model_module_version": "1.5.0",
     "model_name": "HBoxModel",
     "state": {
      "_dom_classes": [],
      "_model_module": "@jupyter-widgets/controls",
      "_model_module_version": "1.5.0",
      "_model_name": "HBoxModel",
      "_view_count": null,
      "_view_module": "@jupyter-widgets/controls",
      "_view_module_version": "1.5.0",
      "_view_name": "HBoxView",
      "box_style": "",
      "children": [
       "IPY_MODEL_8dd89aed30e6431f911910f2811326d6",
       "IPY_MODEL_9288a1388b2d4772ac21cb9414c86ee1",
       "IPY_MODEL_fd86bed8a7c34b399ae329c45287ff3b"
      ],
      "layout": "IPY_MODEL_a09ec424c17e4c5abff9b4980fec72f6"
     }
    },
    "dea3e2e17ced4c76bef6f5e8efe606d9": {
     "model_module": "@jupyter-widgets/controls",
     "model_module_version": "1.5.0",
     "model_name": "FloatProgressModel",
     "state": {
      "_dom_classes": [],
      "_model_module": "@jupyter-widgets/controls",
      "_model_module_version": "1.5.0",
      "_model_name": "FloatProgressModel",
      "_view_count": null,
      "_view_module": "@jupyter-widgets/controls",
      "_view_module_version": "1.5.0",
      "_view_name": "ProgressView",
      "bar_style": "info",
      "description": "",
      "description_tooltip": null,
      "layout": "IPY_MODEL_0b8e95fc10f0410eb5108216c347412f",
      "max": 1,
      "min": 0,
      "orientation": "horizontal",
      "style": "IPY_MODEL_bf335ecbd1b84d55a8ee212c21f5f5d5",
      "value": 1
     }
    },
    "e044e9a741c94327b0421b0b5c9d2015": {
     "model_module": "@jupyter-widgets/controls",
     "model_module_version": "1.5.0",
     "model_name": "HBoxModel",
     "state": {
      "_dom_classes": [],
      "_model_module": "@jupyter-widgets/controls",
      "_model_module_version": "1.5.0",
      "_model_name": "HBoxModel",
      "_view_count": null,
      "_view_module": "@jupyter-widgets/controls",
      "_view_module_version": "1.5.0",
      "_view_name": "HBoxView",
      "box_style": "",
      "children": [
       "IPY_MODEL_d3c3df0de683434f8742185d27ad4cc8",
       "IPY_MODEL_9e2e458850db4ce18d078bfda58f4c06",
       "IPY_MODEL_92f817306a05430e91af716111ea08ee"
      ],
      "layout": "IPY_MODEL_7a81952f24ac4cd8b6339a427b9c2419"
     }
    },
    "e2f7a56d3bc44c5cae3d1b9f1a6b786f": {
     "model_module": "@jupyter-widgets/controls",
     "model_module_version": "1.5.0",
     "model_name": "HBoxModel",
     "state": {
      "_dom_classes": [],
      "_model_module": "@jupyter-widgets/controls",
      "_model_module_version": "1.5.0",
      "_model_name": "HBoxModel",
      "_view_count": null,
      "_view_module": "@jupyter-widgets/controls",
      "_view_module_version": "1.5.0",
      "_view_name": "HBoxView",
      "box_style": "",
      "children": [
       "IPY_MODEL_a4742ee3ed8d481fa99f375d29aa106d",
       "IPY_MODEL_c1380da84f694064a241ea8ddebab249",
       "IPY_MODEL_e64005feac7544b396bc4bea85c338c0"
      ],
      "layout": "IPY_MODEL_52dcd002d7a84d97bfb3a373c139f006"
     }
    },
    "e58a3678ebd64623926da0444f25078e": {
     "model_module": "@jupyter-widgets/controls",
     "model_module_version": "1.5.0",
     "model_name": "FloatProgressModel",
     "state": {
      "_dom_classes": [],
      "_model_module": "@jupyter-widgets/controls",
      "_model_module_version": "1.5.0",
      "_model_name": "FloatProgressModel",
      "_view_count": null,
      "_view_module": "@jupyter-widgets/controls",
      "_view_module_version": "1.5.0",
      "_view_name": "ProgressView",
      "bar_style": "info",
      "description": "",
      "description_tooltip": null,
      "layout": "IPY_MODEL_f093d8278c414e8d995781bdd6b3bd11",
      "max": 1,
      "min": 0,
      "orientation": "horizontal",
      "style": "IPY_MODEL_5432f556c36f4bc4802da4d820094289",
      "value": 1
     }
    },
    "e5f09bb71f304de7996ecb481047deb7": {
     "model_module": "@jupyter-widgets/controls",
     "model_module_version": "1.5.0",
     "model_name": "DescriptionStyleModel",
     "state": {
      "_model_module": "@jupyter-widgets/controls",
      "_model_module_version": "1.5.0",
      "_model_name": "DescriptionStyleModel",
      "_view_count": null,
      "_view_module": "@jupyter-widgets/base",
      "_view_module_version": "1.2.0",
      "_view_name": "StyleView",
      "description_width": ""
     }
    },
    "e60388f672044b419f1e44bbbddaab71": {
     "model_module": "@jupyter-widgets/controls",
     "model_module_version": "1.5.0",
     "model_name": "HTMLModel",
     "state": {
      "_dom_classes": [],
      "_model_module": "@jupyter-widgets/controls",
      "_model_module_version": "1.5.0",
      "_model_name": "HTMLModel",
      "_view_count": null,
      "_view_module": "@jupyter-widgets/controls",
      "_view_module_version": "1.5.0",
      "_view_name": "HTMLView",
      "description": "",
      "description_tooltip": null,
      "layout": "IPY_MODEL_0cee9a86adef4ff3ad624a054faa82d7",
      "placeholder": "\u200b",
      "style": "IPY_MODEL_703f4921fd2f4dd7868f34d57a4f6ba4",
      "value": ""
     }
    },
    "e64005feac7544b396bc4bea85c338c0": {
     "model_module": "@jupyter-widgets/controls",
     "model_module_version": "1.5.0",
     "model_name": "HTMLModel",
     "state": {
      "_dom_classes": [],
      "_model_module": "@jupyter-widgets/controls",
      "_model_module_version": "1.5.0",
      "_model_name": "HTMLModel",
      "_view_count": null,
      "_view_module": "@jupyter-widgets/controls",
      "_view_module_version": "1.5.0",
      "_view_name": "HTMLView",
      "description": "",
      "description_tooltip": null,
      "layout": "IPY_MODEL_f6729c9be62843ed8229901f64e81550",
      "placeholder": "\u200b",
      "style": "IPY_MODEL_13c65b39457740b7ab5abf4b2931a859",
      "value": " 182/0 [00:00&lt;00:00, 1819.69 examples/s]"
     }
    },
    "e752c31e4bc2497d98286368b1fec992": {
     "model_module": "@jupyter-widgets/base",
     "model_module_version": "1.2.0",
     "model_name": "LayoutModel",
     "state": {
      "_model_module": "@jupyter-widgets/base",
      "_model_module_version": "1.2.0",
      "_model_name": "LayoutModel",
      "_view_count": null,
      "_view_module": "@jupyter-widgets/base",
      "_view_module_version": "1.2.0",
      "_view_name": "LayoutView",
      "align_content": null,
      "align_items": null,
      "align_self": null,
      "border": null,
      "bottom": null,
      "display": null,
      "flex": null,
      "flex_flow": null,
      "grid_area": null,
      "grid_auto_columns": null,
      "grid_auto_flow": null,
      "grid_auto_rows": null,
      "grid_column": null,
      "grid_gap": null,
      "grid_row": null,
      "grid_template_areas": null,
      "grid_template_columns": null,
      "grid_template_rows": null,
      "height": null,
      "justify_content": null,
      "justify_items": null,
      "left": null,
      "margin": null,
      "max_height": null,
      "max_width": null,
      "min_height": null,
      "min_width": null,
      "object_fit": null,
      "object_position": null,
      "order": null,
      "overflow": null,
      "overflow_x": null,
      "overflow_y": null,
      "padding": null,
      "right": null,
      "top": null,
      "visibility": null,
      "width": null
     }
    },
    "ea6f08ee7ad642dabe98368bbf5cc245": {
     "model_module": "@jupyter-widgets/controls",
     "model_module_version": "1.5.0",
     "model_name": "HBoxModel",
     "state": {
      "_dom_classes": [],
      "_model_module": "@jupyter-widgets/controls",
      "_model_module_version": "1.5.0",
      "_model_name": "HBoxModel",
      "_view_count": null,
      "_view_module": "@jupyter-widgets/controls",
      "_view_module_version": "1.5.0",
      "_view_name": "HBoxView",
      "box_style": "",
      "children": [
       "IPY_MODEL_a9a26dbbce6347aaad1e4728c16559bc",
       "IPY_MODEL_56d04304ca52495b8503dd8dc32e3893",
       "IPY_MODEL_10825e7df1064bcc89600d24f3b15a30"
      ],
      "layout": "IPY_MODEL_d9cd123022e34816895a315a03d5d487"
     }
    },
    "eb000dfb05904533b6f45e3d9b6e9fd6": {
     "model_module": "@jupyter-widgets/controls",
     "model_module_version": "1.5.0",
     "model_name": "ProgressStyleModel",
     "state": {
      "_model_module": "@jupyter-widgets/controls",
      "_model_module_version": "1.5.0",
      "_model_name": "ProgressStyleModel",
      "_view_count": null,
      "_view_module": "@jupyter-widgets/base",
      "_view_module_version": "1.2.0",
      "_view_name": "StyleView",
      "bar_color": null,
      "description_width": ""
     }
    },
    "ecbf1498955b4bf6a8769b589f679018": {
     "model_module": "@jupyter-widgets/controls",
     "model_module_version": "1.5.0",
     "model_name": "DescriptionStyleModel",
     "state": {
      "_model_module": "@jupyter-widgets/controls",
      "_model_module_version": "1.5.0",
      "_model_name": "DescriptionStyleModel",
      "_view_count": null,
      "_view_module": "@jupyter-widgets/base",
      "_view_module_version": "1.2.0",
      "_view_name": "StyleView",
      "description_width": ""
     }
    },
    "ee1d0c03ad534d30a65693f39a9b2448": {
     "model_module": "@jupyter-widgets/base",
     "model_module_version": "1.2.0",
     "model_name": "LayoutModel",
     "state": {
      "_model_module": "@jupyter-widgets/base",
      "_model_module_version": "1.2.0",
      "_model_name": "LayoutModel",
      "_view_count": null,
      "_view_module": "@jupyter-widgets/base",
      "_view_module_version": "1.2.0",
      "_view_name": "LayoutView",
      "align_content": null,
      "align_items": null,
      "align_self": null,
      "border": null,
      "bottom": null,
      "display": null,
      "flex": null,
      "flex_flow": null,
      "grid_area": null,
      "grid_auto_columns": null,
      "grid_auto_flow": null,
      "grid_auto_rows": null,
      "grid_column": null,
      "grid_gap": null,
      "grid_row": null,
      "grid_template_areas": null,
      "grid_template_columns": null,
      "grid_template_rows": null,
      "height": null,
      "justify_content": null,
      "justify_items": null,
      "left": null,
      "margin": null,
      "max_height": null,
      "max_width": null,
      "min_height": null,
      "min_width": null,
      "object_fit": null,
      "object_position": null,
      "order": null,
      "overflow": null,
      "overflow_x": null,
      "overflow_y": null,
      "padding": null,
      "right": null,
      "top": null,
      "visibility": null,
      "width": null
     }
    },
    "eeec79ad6bee4da39f619af246ccb02a": {
     "model_module": "@jupyter-widgets/controls",
     "model_module_version": "1.5.0",
     "model_name": "HTMLModel",
     "state": {
      "_dom_classes": [],
      "_model_module": "@jupyter-widgets/controls",
      "_model_module_version": "1.5.0",
      "_model_name": "HTMLModel",
      "_view_count": null,
      "_view_module": "@jupyter-widgets/controls",
      "_view_module_version": "1.5.0",
      "_view_name": "HTMLView",
      "description": "",
      "description_tooltip": null,
      "layout": "IPY_MODEL_b3f6df875294417387539fa39075c8b1",
      "placeholder": "\u200b",
      "style": "IPY_MODEL_da66731cd8d44d649d6737915d3bacbd",
      "value": " 1038/1038 [00:00&lt;00:00, 3518.30ex/s]"
     }
    },
    "efc5c83c0cd04d7a8599fd085e557e42": {
     "model_module": "@jupyter-widgets/controls",
     "model_module_version": "1.5.0",
     "model_name": "FloatProgressModel",
     "state": {
      "_dom_classes": [],
      "_model_module": "@jupyter-widgets/controls",
      "_model_module_version": "1.5.0",
      "_model_name": "FloatProgressModel",
      "_view_count": null,
      "_view_module": "@jupyter-widgets/controls",
      "_view_module_version": "1.5.0",
      "_view_name": "ProgressView",
      "bar_style": "success",
      "description": "",
      "description_tooltip": null,
      "layout": "IPY_MODEL_3ae00869b3154f08ae20d8c738b71cd1",
      "max": 1038,
      "min": 0,
      "orientation": "horizontal",
      "style": "IPY_MODEL_da7815ab5cf04140a79a23633c1f6ed0",
      "value": 1038
     }
    },
    "f093d8278c414e8d995781bdd6b3bd11": {
     "model_module": "@jupyter-widgets/base",
     "model_module_version": "1.2.0",
     "model_name": "LayoutModel",
     "state": {
      "_model_module": "@jupyter-widgets/base",
      "_model_module_version": "1.2.0",
      "_model_name": "LayoutModel",
      "_view_count": null,
      "_view_module": "@jupyter-widgets/base",
      "_view_module_version": "1.2.0",
      "_view_name": "LayoutView",
      "align_content": null,
      "align_items": null,
      "align_self": null,
      "border": null,
      "bottom": null,
      "display": null,
      "flex": null,
      "flex_flow": null,
      "grid_area": null,
      "grid_auto_columns": null,
      "grid_auto_flow": null,
      "grid_auto_rows": null,
      "grid_column": null,
      "grid_gap": null,
      "grid_row": null,
      "grid_template_areas": null,
      "grid_template_columns": null,
      "grid_template_rows": null,
      "height": null,
      "justify_content": null,
      "justify_items": null,
      "left": null,
      "margin": null,
      "max_height": null,
      "max_width": null,
      "min_height": null,
      "min_width": null,
      "object_fit": null,
      "object_position": null,
      "order": null,
      "overflow": null,
      "overflow_x": null,
      "overflow_y": null,
      "padding": null,
      "right": null,
      "top": null,
      "visibility": null,
      "width": "20px"
     }
    },
    "f26e2e0e1b5f47d0be0fcc2c179b26d3": {
     "model_module": "@jupyter-widgets/base",
     "model_module_version": "1.2.0",
     "model_name": "LayoutModel",
     "state": {
      "_model_module": "@jupyter-widgets/base",
      "_model_module_version": "1.2.0",
      "_model_name": "LayoutModel",
      "_view_count": null,
      "_view_module": "@jupyter-widgets/base",
      "_view_module_version": "1.2.0",
      "_view_name": "LayoutView",
      "align_content": null,
      "align_items": null,
      "align_self": null,
      "border": null,
      "bottom": null,
      "display": null,
      "flex": null,
      "flex_flow": null,
      "grid_area": null,
      "grid_auto_columns": null,
      "grid_auto_flow": null,
      "grid_auto_rows": null,
      "grid_column": null,
      "grid_gap": null,
      "grid_row": null,
      "grid_template_areas": null,
      "grid_template_columns": null,
      "grid_template_rows": null,
      "height": null,
      "justify_content": null,
      "justify_items": null,
      "left": null,
      "margin": null,
      "max_height": null,
      "max_width": null,
      "min_height": null,
      "min_width": null,
      "object_fit": null,
      "object_position": null,
      "order": null,
      "overflow": null,
      "overflow_x": null,
      "overflow_y": null,
      "padding": null,
      "right": null,
      "top": null,
      "visibility": null,
      "width": null
     }
    },
    "f332558a4b124cdc945c0421ff71a8e0": {
     "model_module": "@jupyter-widgets/base",
     "model_module_version": "1.2.0",
     "model_name": "LayoutModel",
     "state": {
      "_model_module": "@jupyter-widgets/base",
      "_model_module_version": "1.2.0",
      "_model_name": "LayoutModel",
      "_view_count": null,
      "_view_module": "@jupyter-widgets/base",
      "_view_module_version": "1.2.0",
      "_view_name": "LayoutView",
      "align_content": null,
      "align_items": null,
      "align_self": null,
      "border": null,
      "bottom": null,
      "display": null,
      "flex": null,
      "flex_flow": null,
      "grid_area": null,
      "grid_auto_columns": null,
      "grid_auto_flow": null,
      "grid_auto_rows": null,
      "grid_column": null,
      "grid_gap": null,
      "grid_row": null,
      "grid_template_areas": null,
      "grid_template_columns": null,
      "grid_template_rows": null,
      "height": null,
      "justify_content": null,
      "justify_items": null,
      "left": null,
      "margin": null,
      "max_height": null,
      "max_width": null,
      "min_height": null,
      "min_width": null,
      "object_fit": null,
      "object_position": null,
      "order": null,
      "overflow": null,
      "overflow_x": null,
      "overflow_y": null,
      "padding": null,
      "right": null,
      "top": null,
      "visibility": null,
      "width": null
     }
    },
    "f485580dd8b24b6bb9ea1a1d5befee1d": {
     "model_module": "@jupyter-widgets/base",
     "model_module_version": "1.2.0",
     "model_name": "LayoutModel",
     "state": {
      "_model_module": "@jupyter-widgets/base",
      "_model_module_version": "1.2.0",
      "_model_name": "LayoutModel",
      "_view_count": null,
      "_view_module": "@jupyter-widgets/base",
      "_view_module_version": "1.2.0",
      "_view_name": "LayoutView",
      "align_content": null,
      "align_items": null,
      "align_self": null,
      "border": null,
      "bottom": null,
      "display": null,
      "flex": null,
      "flex_flow": null,
      "grid_area": null,
      "grid_auto_columns": null,
      "grid_auto_flow": null,
      "grid_auto_rows": null,
      "grid_column": null,
      "grid_gap": null,
      "grid_row": null,
      "grid_template_areas": null,
      "grid_template_columns": null,
      "grid_template_rows": null,
      "height": null,
      "justify_content": null,
      "justify_items": null,
      "left": null,
      "margin": null,
      "max_height": null,
      "max_width": null,
      "min_height": null,
      "min_width": null,
      "object_fit": null,
      "object_position": null,
      "order": null,
      "overflow": null,
      "overflow_x": null,
      "overflow_y": null,
      "padding": null,
      "right": null,
      "top": null,
      "visibility": null,
      "width": null
     }
    },
    "f60b05285d4b4e10a743b6fdedbfb906": {
     "model_module": "@jupyter-widgets/base",
     "model_module_version": "1.2.0",
     "model_name": "LayoutModel",
     "state": {
      "_model_module": "@jupyter-widgets/base",
      "_model_module_version": "1.2.0",
      "_model_name": "LayoutModel",
      "_view_count": null,
      "_view_module": "@jupyter-widgets/base",
      "_view_module_version": "1.2.0",
      "_view_name": "LayoutView",
      "align_content": null,
      "align_items": null,
      "align_self": null,
      "border": null,
      "bottom": null,
      "display": null,
      "flex": null,
      "flex_flow": null,
      "grid_area": null,
      "grid_auto_columns": null,
      "grid_auto_flow": null,
      "grid_auto_rows": null,
      "grid_column": null,
      "grid_gap": null,
      "grid_row": null,
      "grid_template_areas": null,
      "grid_template_columns": null,
      "grid_template_rows": null,
      "height": null,
      "justify_content": null,
      "justify_items": null,
      "left": null,
      "margin": null,
      "max_height": null,
      "max_width": null,
      "min_height": null,
      "min_width": null,
      "object_fit": null,
      "object_position": null,
      "order": null,
      "overflow": null,
      "overflow_x": null,
      "overflow_y": null,
      "padding": null,
      "right": null,
      "top": null,
      "visibility": null,
      "width": null
     }
    },
    "f6729c9be62843ed8229901f64e81550": {
     "model_module": "@jupyter-widgets/base",
     "model_module_version": "1.2.0",
     "model_name": "LayoutModel",
     "state": {
      "_model_module": "@jupyter-widgets/base",
      "_model_module_version": "1.2.0",
      "_model_name": "LayoutModel",
      "_view_count": null,
      "_view_module": "@jupyter-widgets/base",
      "_view_module_version": "1.2.0",
      "_view_name": "LayoutView",
      "align_content": null,
      "align_items": null,
      "align_self": null,
      "border": null,
      "bottom": null,
      "display": null,
      "flex": null,
      "flex_flow": null,
      "grid_area": null,
      "grid_auto_columns": null,
      "grid_auto_flow": null,
      "grid_auto_rows": null,
      "grid_column": null,
      "grid_gap": null,
      "grid_row": null,
      "grid_template_areas": null,
      "grid_template_columns": null,
      "grid_template_rows": null,
      "height": null,
      "justify_content": null,
      "justify_items": null,
      "left": null,
      "margin": null,
      "max_height": null,
      "max_width": null,
      "min_height": null,
      "min_width": null,
      "object_fit": null,
      "object_position": null,
      "order": null,
      "overflow": null,
      "overflow_x": null,
      "overflow_y": null,
      "padding": null,
      "right": null,
      "top": null,
      "visibility": null,
      "width": null
     }
    },
    "f7524fac554b46f5ab66eb196d73fb8c": {
     "model_module": "@jupyter-widgets/controls",
     "model_module_version": "1.5.0",
     "model_name": "HTMLModel",
     "state": {
      "_dom_classes": [],
      "_model_module": "@jupyter-widgets/controls",
      "_model_module_version": "1.5.0",
      "_model_name": "HTMLModel",
      "_view_count": null,
      "_view_module": "@jupyter-widgets/controls",
      "_view_module_version": "1.5.0",
      "_view_name": "HTMLView",
      "description": "",
      "description_tooltip": null,
      "layout": "IPY_MODEL_991335059c544930a3066d5d6d9ce338",
      "placeholder": "\u200b",
      "style": "IPY_MODEL_c26da0359c6f4b73867ae591087251bc",
      "value": " 4.55k/? [00:00&lt;00:00, 62.8kB/s]"
     }
    },
    "f8a8a928933c4f5aa6c94fd2d31951d2": {
     "model_module": "@jupyter-widgets/controls",
     "model_module_version": "1.5.0",
     "model_name": "HBoxModel",
     "state": {
      "_dom_classes": [],
      "_model_module": "@jupyter-widgets/controls",
      "_model_module_version": "1.5.0",
      "_model_name": "HBoxModel",
      "_view_count": null,
      "_view_module": "@jupyter-widgets/controls",
      "_view_module_version": "1.5.0",
      "_view_name": "HBoxView",
      "box_style": "",
      "children": [
       "IPY_MODEL_316fc27acc8e4a389ee24361bbae3574",
       "IPY_MODEL_c0c180b6c5654378a34d8f5412f14834",
       "IPY_MODEL_c05c519bfb90452693d4a86f41b1982a"
      ],
      "layout": "IPY_MODEL_c2b1e7d709dd4486b4c46a0b7a0b2691"
     }
    },
    "fb90a99ad1744673b20b8d4d631b0641": {
     "model_module": "@jupyter-widgets/controls",
     "model_module_version": "1.5.0",
     "model_name": "ButtonModel",
     "state": {
      "_dom_classes": [],
      "_model_module": "@jupyter-widgets/controls",
      "_model_module_version": "1.5.0",
      "_model_name": "ButtonModel",
      "_view_count": null,
      "_view_module": "@jupyter-widgets/controls",
      "_view_module_version": "1.5.0",
      "_view_name": "ButtonView",
      "button_style": "",
      "description": "Login",
      "disabled": false,
      "icon": "",
      "layout": "IPY_MODEL_aa2d61eb8da84dbf819918d979c1fd00",
      "style": "IPY_MODEL_1236daf2b9c94c969c7046216c310c45",
      "tooltip": ""
     }
    },
    "fd86bed8a7c34b399ae329c45287ff3b": {
     "model_module": "@jupyter-widgets/controls",
     "model_module_version": "1.5.0",
     "model_name": "HTMLModel",
     "state": {
      "_dom_classes": [],
      "_model_module": "@jupyter-widgets/controls",
      "_model_module_version": "1.5.0",
      "_model_name": "HTMLModel",
      "_view_count": null,
      "_view_module": "@jupyter-widgets/controls",
      "_view_module_version": "1.5.0",
      "_view_name": "HTMLView",
      "description": "",
      "description_tooltip": null,
      "layout": "IPY_MODEL_442406a5cad34d18b4846d0b0923fb84",
      "placeholder": "\u200b",
      "style": "IPY_MODEL_a0e6c108b8b4403fbbc6c36c503b681b",
      "value": " 1883/0 [00:00&lt;00:00, 7177.82 examples/s]"
     }
    },
    "ff52d62efc424613b68e7670f924a222": {
     "model_module": "@jupyter-widgets/controls",
     "model_module_version": "1.5.0",
     "model_name": "HTMLModel",
     "state": {
      "_dom_classes": [],
      "_model_module": "@jupyter-widgets/controls",
      "_model_module_version": "1.5.0",
      "_model_name": "HTMLModel",
      "_view_count": null,
      "_view_module": "@jupyter-widgets/controls",
      "_view_module_version": "1.5.0",
      "_view_name": "HTMLView",
      "description": "",
      "description_tooltip": null,
      "layout": "IPY_MODEL_57756ef2633c4b6d9d45dbd86ef1c58a",
      "placeholder": "\u200b",
      "style": "IPY_MODEL_97c1d1adde974941836da7c52592ed18",
      "value": " 161k/? [00:00&lt;00:00, 3.14MB/s]"
     }
    }
   }
  }
 },
 "nbformat": 4,
 "nbformat_minor": 4
}
