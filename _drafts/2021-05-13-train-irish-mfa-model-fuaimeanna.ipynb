{
 "cells": [
  {
   "cell_type": "markdown",
   "id": "685a84da",
   "metadata": {},
   "source": [
    "# Training MFA on fuaimeanna.ie\n",
    "\n",
    "> \"Training Monreal Forced Aligner using fuaimeanna.ie data on Kaggle\"\n",
    "\n",
    "- toc: false\n",
    "- branch: master\n",
    "- badges: false\n",
    "- comments: true\n",
    "- hidden: true\n",
    "- categories: [kaggle, mfa, fuaimeanna]"
   ]
  },
  {
   "cell_type": "markdown",
   "id": "a092a491",
   "metadata": {},
   "source": [
    "[Original](https://www.kaggle.com/jimregan/train-irish-mfa-model-fuaimeanna)"
   ]
  },
  {
   "cell_type": "markdown",
   "id": "genetic-sharp",
   "metadata": {
    "papermill": {
     "duration": 0.011723,
     "end_time": "2021-05-19T14:36:59.367122",
     "exception": false,
     "start_time": "2021-05-19T14:36:59.355399",
     "status": "completed"
    },
    "tags": []
   },
   "source": [
    "## Part, the first\n",
    "### Setting up MFA"
   ]
  },
  {
   "cell_type": "code",
   "execution_count": 1,
   "id": "distant-jacksonville",
   "metadata": {
    "_cell_guid": "b1076dfc-b9ad-4769-8c92-a6c4dae69d19",
    "_uuid": "8f2839f25d086af736a60e9eeb907d3b93b6e0e5",
    "execution": {
     "iopub.execute_input": "2021-05-19T14:36:59.393153Z",
     "iopub.status.busy": "2021-05-19T14:36:59.391866Z",
     "iopub.status.idle": "2021-05-19T14:37:09.503489Z",
     "shell.execute_reply": "2021-05-19T14:37:09.503985Z"
    },
    "papermill": {
     "duration": 10.126683,
     "end_time": "2021-05-19T14:37:09.504300",
     "exception": false,
     "start_time": "2021-05-19T14:36:59.377617",
     "status": "completed"
    },
    "tags": []
   },
   "outputs": [],
   "source": [
    "%%capture\n",
    "import os\n",
    "os.chdir('/tmp')\n",
    "!wget https://github.com/MontrealCorpusTools/Montreal-Forced-Aligner/releases/download/v1.0.1/montreal-forced-aligner_linux.tar.gz\n",
    "!tar zxvf montreal-forced-aligner_linux.tar.gz\n",
    "!ln -s /tmp/montreal-forced-aligner/lib/libpython3.6m.so.1.0 /tmp/montreal-forced-aligner/lib/libpython3.6m.so"
   ]
  },
  {
   "cell_type": "code",
   "execution_count": 2,
   "id": "offensive-twenty",
   "metadata": {
    "execution": {
     "iopub.execute_input": "2021-05-19T14:37:09.527380Z",
     "iopub.status.busy": "2021-05-19T14:37:09.526755Z",
     "iopub.status.idle": "2021-05-19T14:37:09.531199Z",
     "shell.execute_reply": "2021-05-19T14:37:09.531738Z"
    },
    "papermill": {
     "duration": 0.017777,
     "end_time": "2021-05-19T14:37:09.531907",
     "exception": false,
     "start_time": "2021-05-19T14:37:09.514130",
     "status": "completed"
    },
    "tags": []
   },
   "outputs": [],
   "source": [
    "os.chdir('/kaggle/working')\n",
    "os.environ['LD_LIBRARY_PATH'] = f'{os.environ[\"LD_LIBRARY_PATH\"]}:/tmp/montreal-forced-aligner/lib/'\n",
    "os.environ['PATH'] = f'{os.environ[\"PATH\"]}:/tmp/montreal-forced-aligner/bin/'"
   ]
  },
  {
   "cell_type": "code",
   "execution_count": 3,
   "id": "distant-saturn",
   "metadata": {
    "execution": {
     "iopub.execute_input": "2021-05-19T14:37:09.557426Z",
     "iopub.status.busy": "2021-05-19T14:37:09.554378Z",
     "iopub.status.idle": "2021-05-19T14:37:17.697981Z",
     "shell.execute_reply": "2021-05-19T14:37:17.697399Z"
    },
    "papermill": {
     "duration": 8.156324,
     "end_time": "2021-05-19T14:37:17.698140",
     "exception": false,
     "start_time": "2021-05-19T14:37:09.541816",
     "status": "completed"
    },
    "tags": []
   },
   "outputs": [],
   "source": [
    "%%capture\n",
    "!apt-get -y install libgfortran3"
   ]
  },
  {
   "cell_type": "markdown",
   "id": "forward-enough",
   "metadata": {
    "papermill": {
     "duration": 0.009461,
     "end_time": "2021-05-19T14:37:17.717404",
     "exception": false,
     "start_time": "2021-05-19T14:37:17.707943",
     "status": "completed"
    },
    "tags": []
   },
   "source": [
    "To create the same data, fork and run [this notebook](https://www.kaggle.com/jimregan/scrape-fuaimeanna-ie)"
   ]
  },
  {
   "cell_type": "code",
   "execution_count": 4,
   "id": "british-veteran",
   "metadata": {
    "execution": {
     "iopub.execute_input": "2021-05-19T14:37:17.741112Z",
     "iopub.status.busy": "2021-05-19T14:37:17.740131Z",
     "iopub.status.idle": "2021-05-19T14:37:41.356937Z",
     "shell.execute_reply": "2021-05-19T14:37:41.356028Z"
    },
    "papermill": {
     "duration": 23.629937,
     "end_time": "2021-05-19T14:37:41.357174",
     "exception": false,
     "start_time": "2021-05-19T14:37:17.727237",
     "status": "completed"
    },
    "tags": []
   },
   "outputs": [],
   "source": [
    "!mkdir /tmp/m\n",
    "!mkdir /tmp/c\n",
    "!mkdir /tmp/u\n",
    "\n",
    "!cp ../input/scrape-fuaimeanna-private/wav/*s1.wav /tmp/u\n",
    "!cp ../input/scrape-fuaimeanna-private/wav/*s2.wav /tmp/m\n",
    "!cp ../input/scrape-fuaimeanna-private/wav/*s3.wav /tmp/c"
   ]
  },
  {
   "cell_type": "code",
   "execution_count": 5,
   "id": "retained-worcester",
   "metadata": {
    "execution": {
     "iopub.execute_input": "2021-05-19T14:37:41.405876Z",
     "iopub.status.busy": "2021-05-19T14:37:41.405165Z",
     "iopub.status.idle": "2021-05-19T14:37:41.409407Z",
     "shell.execute_reply": "2021-05-19T14:37:41.408842Z"
    },
    "papermill": {
     "duration": 0.035963,
     "end_time": "2021-05-19T14:37:41.409545",
     "exception": false,
     "start_time": "2021-05-19T14:37:41.373582",
     "status": "completed"
    },
    "tags": []
   },
   "outputs": [
    {
     "name": "stdout",
     "output_type": "stream",
     "text": [
      "Writing fuaimeanna-write.pl\n"
     ]
    }
   ],
   "source": [
    "%%writefile fuaimeanna-write.pl\n",
    "#!/usr/bin/perl\n",
    "use warnings;\n",
    "use strict;\n",
    "use utf8;\n",
    "\n",
    "binmode(STDIN, \":utf8\");\n",
    "binmode(STDOUT, \":utf8\");\n",
    "binmode(STDERR, \":utf8\");\n",
    "\n",
    "my %cr_files = (\n",
    "\t'mo shmidiú' => 'mo chuid smidiú',\n",
    "\t'mo shmior' => 'mo chuid smior',\n",
    "\t'mo shmólach' => 'mo smólach',\n",
    "\t'shmachtaigh' => 'smachtaigh',\n",
    "\t'shmaoinigh' => 'smaoinigh',\n",
    "\t'shmear' => 'smear',\n",
    "\t'deamhain' => 'diabhail',\n",
    "\t'folach' => 'i bhfolach',\n",
    "\t'captaen' => 'caiptín',\n",
    "\t'oirthe' => 'feilte',\n",
    ");\n",
    "my %empty = (\n",
    "\t'/sounds/gob_i3_s3.mp3' => 1,\n",
    "\t'/sounds/iioctha_i3_s3.mp3' => 1,\n",
    "\t'/sounds/mo_shuiiochaan_i3_s3.mp3' => 1,\n",
    "\t'/sounds/riail_i3_s3.mp3' => 1\n",
    ");\n",
    "\n",
    "open(LEXM, '>>', '/tmp/lexicon-munster.raw');\n",
    "binmode LEXM, ':utf8';\n",
    "open(LEXU, '>>', '/tmp/lexicon-ulster.raw');\n",
    "binmode LEXU, ':utf8';\n",
    "open(LEXC, '>>', '/tmp/lexicon-connaught.raw');\n",
    "binmode LEXC, ':utf8';\n",
    "\n",
    "sub write_text {\n",
    "\tmy $file = shift;\n",
    "\tmy $text = shift;\n",
    "\topen(OUTF, '>>', $file);\n",
    "\tbinmode OUTF, ':utf8';\n",
    "\tprint OUTF $text;\n",
    "\tclose OUTF;\n",
    "}\n",
    "\n",
    "sub write_pron {\n",
    "\tmy $file = shift;\n",
    "\tmy $text = shift;\n",
    "\tmy $pron = shift;\n",
    "\tif ($text eq 'ar tí') {\n",
    "\t\t$pron =~ s/ \\. ˈ / # /g;\n",
    "\t}\n",
    "\t$pron =~ s/ [ˈˌ] / /g;\n",
    "\t$pron =~ s/^[ˈˌ] //g;\n",
    "\t$pron =~ s/ \\. / /g;\n",
    "\tmy @words = split/ /, $text;\n",
    "\tmy @prons = split/ \\# /, $pron;\n",
    "\tif($#words != $#prons) {\n",
    "\t\tprint STDERR \"ERROR: $file $text $pron\\n\";\n",
    "\t}\n",
    "\tif($#words == 0) {\n",
    "\t\tprint $file \"$text $pron\\n\";\n",
    "\t} else {\n",
    "\t\tfor(my $i = 0; $i <= $#words; $i++) {\n",
    "\t\t\tprint $file \"$words[$i] $prons[$i]\\n\";\n",
    "\t\t}\n",
    "\t}\n",
    "}\n",
    "\n",
    "while(<STDIN>) {\n",
    "\tchomp;\n",
    "\tmy @line = split/\\t/;\n",
    "\tnext if($line[0] eq 'Orthographic');\n",
    "\tmy $text = lc($line[0]);\n",
    "\tnext if($line[0] eq \"d'fhág\");\n",
    "\tmy $uout = $line[1];\n",
    "\t$uout =~ s!/sounds/!!;\n",
    "\t$uout =~ s/\\.mp3$/.txt/;\n",
    "\tmy $cout = $line[3];\n",
    "\t$cout =~ s!/sounds/!!;\n",
    "\t$cout =~ s/\\.mp3$/.txt/;\n",
    "\tmy $mout = $line[5];\n",
    "\t$mout =~ s!/sounds/!!;\n",
    "\t$mout =~ s/\\.mp3$/.txt/;\n",
    "\t$uout = '/tmp/u/' . $uout;\n",
    "\t$cout = '/tmp/c/' . $cout;\n",
    "\t$mout = '/tmp/m/' . $mout;\n",
    "\n",
    "\tmy $pronu = $line[2];\n",
    "\tmy $pronc = $line[4];\n",
    "\tmy $pronm = $line[6];\n",
    "\n",
    "\tif($text eq 'Gaeilge') {\n",
    "\t\twrite_text($uout, \"gaeilic\");\n",
    "\t\twrite_text($cout, \"gaeilge\");\n",
    "\t\twrite_text($mout, \"gaelainn\");\n",
    "\t\twrite_pron(\\*LEXU, \"gaeilic\", $pronu);\n",
    "\t\twrite_pron(\\*LEXC, \"gaeilge\", $pronc);\n",
    "\t\twrite_pron(\\*LEXM, \"gaelainn\", $pronm);\n",
    "\t\tnext;\n",
    "\t}\n",
    "\tif($line[0] eq 'bocht' || $line[0] eq 'teacht' || $line[0] eq 'teocht') {\n",
    "\t\t$pronu =~ s/x t̪ˠ/ɾˠ t̪ˠ/;\n",
    "\t}\n",
    "\twrite_text($uout, $text);\n",
    "\twrite_pron(\\*LEXU, $text, $pronu);\n",
    "\twrite_text($mout, $text);\n",
    "\twrite_pron(\\*LEXM, $text, $pronm);\n",
    "\tif(!exists $empty{$line[3]}) {\n",
    "\t\tmy $cfix = exists $cr_files{$text} ? $cr_files{$text} : $text;\n",
    "\t\twrite_text($cout, $cfix);\n",
    "\t\twrite_pron(\\*LEXC, $cfix, $pronc);\n",
    "\t}\n",
    "}"
   ]
  },
  {
   "cell_type": "code",
   "execution_count": 6,
   "id": "requested-convertible",
   "metadata": {
    "execution": {
     "iopub.execute_input": "2021-05-19T14:37:41.446527Z",
     "iopub.status.busy": "2021-05-19T14:37:41.445569Z",
     "iopub.status.idle": "2021-05-19T14:37:42.342761Z",
     "shell.execute_reply": "2021-05-19T14:37:42.342188Z"
    },
    "papermill": {
     "duration": 0.922688,
     "end_time": "2021-05-19T14:37:42.342903",
     "exception": false,
     "start_time": "2021-05-19T14:37:41.420215",
     "status": "completed"
    },
    "tags": []
   },
   "outputs": [],
   "source": [
    "!cat ../input/scrape-fuaimeanna-private/all-fuaimeanna-data.tsv | perl fuaimeanna-write.pl"
   ]
  },
  {
   "cell_type": "code",
   "execution_count": 7,
   "id": "beautiful-extraction",
   "metadata": {
    "execution": {
     "iopub.execute_input": "2021-05-19T14:37:42.375652Z",
     "iopub.status.busy": "2021-05-19T14:37:42.373049Z",
     "iopub.status.idle": "2021-05-19T14:37:45.292058Z",
     "shell.execute_reply": "2021-05-19T14:37:45.291507Z"
    },
    "papermill": {
     "duration": 2.938564,
     "end_time": "2021-05-19T14:37:45.292220",
     "exception": false,
     "start_time": "2021-05-19T14:37:42.353656",
     "status": "completed"
    },
    "tags": []
   },
   "outputs": [],
   "source": [
    "!cat /tmp/lexicon-connaught.raw | sort | uniq > /tmp/lexicon-connaught.txt\n",
    "!cat /tmp/lexicon-ulster.raw | sort | uniq > /tmp/lexicon-ulster.txt\n",
    "!cat /tmp/lexicon-munster.raw | sort | uniq > /tmp/lexicon-munster.txt\n",
    "!cat /tmp/lexicon-connaught.raw /tmp/lexicon-ulster.raw /tmp/lexicon-munster.raw | sort | uniq > /tmp/lexicon-all.txt"
   ]
  },
  {
   "cell_type": "code",
   "execution_count": 8,
   "id": "lesser-woman",
   "metadata": {
    "execution": {
     "iopub.execute_input": "2021-05-19T14:37:45.331374Z",
     "iopub.status.busy": "2021-05-19T14:37:45.326460Z",
     "iopub.status.idle": "2021-05-19T14:37:51.098396Z",
     "shell.execute_reply": "2021-05-19T14:37:51.097770Z"
    },
    "papermill": {
     "duration": 5.794494,
     "end_time": "2021-05-19T14:37:51.098546",
     "exception": false,
     "start_time": "2021-05-19T14:37:45.304052",
     "status": "completed"
    },
    "tags": []
   },
   "outputs": [],
   "source": [
    "!mkdir /tmp/all\n",
    "!cp /tmp/c/* /tmp/all\n",
    "!cp /tmp/m/* /tmp/all\n",
    "!cp /tmp/u/* /tmp/all\n",
    "!mkdir /tmp/mfa-temp"
   ]
  },
  {
   "cell_type": "markdown",
   "id": "wired-canvas",
   "metadata": {
    "papermill": {
     "duration": 0.010989,
     "end_time": "2021-05-19T14:37:51.121313",
     "exception": false,
     "start_time": "2021-05-19T14:37:51.110324",
     "status": "completed"
    },
    "tags": []
   },
   "source": [
    "### Run MFA"
   ]
  },
  {
   "cell_type": "code",
   "execution_count": null,
   "id": "juvenile-crowd",
   "metadata": {
    "execution": {
     "iopub.execute_input": "2021-05-19T14:37:51.164598Z",
     "iopub.status.busy": "2021-05-19T14:37:51.161271Z",
     "iopub.status.idle": "2021-05-19T17:01:33.372968Z",
     "shell.execute_reply": "2021-05-19T17:01:33.372324Z"
    },
    "papermill": {
     "duration": 8622.237793,
     "end_time": "2021-05-19T17:01:33.373204",
     "exception": false,
     "start_time": "2021-05-19T14:37:51.135411",
     "status": "completed"
    },
    "tags": []
   },
   "outputs": [],
   "source": [
    "!mfa_train_and_align -t /tmp/mfa-temp -o ./munster-model /tmp/m /tmp/lexicon-munster.txt /tmp/textgrid-munster\n",
    "!mfa_train_and_align -t /tmp/mfa-temp -o ./ulster-model /tmp/u /tmp/lexicon-ulster.txt /tmp/textgrid-ulster\n",
    "!mfa_train_and_align -t /tmp/mfa-temp -o ./connaught-model /tmp/c /tmp/lexicon-connaught.txt /tmp/textgrid-connaught\n",
    "!mfa_train_and_align -t /tmp/mfa-temp -o ./all-model /tmp/all /tmp/lexicon-all.txt /tmp/textgrid-all"
   ]
  },
  {
   "cell_type": "code",
   "execution_count": null,
   "id": "frequent-copper",
   "metadata": {
    "execution": {
     "iopub.execute_input": "2021-05-19T17:01:33.691290Z",
     "iopub.status.busy": "2021-05-19T17:01:33.688232Z",
     "iopub.status.idle": "2021-05-19T17:01:48.120683Z",
     "shell.execute_reply": "2021-05-19T17:01:48.120115Z"
    },
    "papermill": {
     "duration": 14.594385,
     "end_time": "2021-05-19T17:01:48.120836",
     "exception": false,
     "start_time": "2021-05-19T17:01:33.526451",
     "status": "completed"
    },
    "tags": []
   },
   "outputs": [],
   "source": [
    "!mfa_train_g2p -t /tmp/mfa-temp /tmp/lexicon-ulster.txt ./g2p-ulster\n",
    "!mfa_train_g2p -t /tmp/mfa-temp /tmp/lexicon-munster.txt ./g2p-munster\n",
    "!mfa_train_g2p -t /tmp/mfa-temp /tmp/lexicon-connaught.txt ./g2p-connaught\n",
    "!mfa_train_g2p -t /tmp/mfa-temp /tmp/lexicon-all.txt ./g2p-all\n"
   ]
  }
 ],
 "metadata": {
  "kernelspec": {
   "display_name": "Python 3",
   "language": "python",
   "name": "python3"
  },
  "language_info": {
   "codemirror_mode": {
    "name": "ipython",
    "version": 3
   },
   "file_extension": ".py",
   "mimetype": "text/x-python",
   "name": "python",
   "nbconvert_exporter": "python",
   "pygments_lexer": "ipython3",
   "version": "3.8.2"
  },
  "papermill": {
   "default_parameters": {},
   "duration": 8696.378158,
   "end_time": "2021-05-19T17:01:49.003298",
   "environment_variables": {},
   "exception": null,
   "input_path": "__notebook__.ipynb",
   "output_path": "__notebook__.ipynb",
   "parameters": {},
   "start_time": "2021-05-19T14:36:52.625140",
   "version": "2.3.2"
  }
 },
 "nbformat": 4,
 "nbformat_minor": 5
}
