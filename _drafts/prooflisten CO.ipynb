{
 "cells": [
  {
   "cell_type": "code",
   "execution_count": 8,
   "metadata": {},
   "outputs": [],
   "source": [
    "CO = \"\"\"\n",
    "MI0001RCPiarsachBoithre_0261\n",
    "MI0001RCNuachtRTE1-1506_0117\n",
    "\"\"\""
   ]
  },
  {
   "cell_type": "code",
   "execution_count": 11,
   "metadata": {
    "scrolled": true
   },
   "outputs": [
    {
     "name": "stdout",
     "output_type": "stream",
     "text": [
      "MI0001RCPiarsachBoithre_0261\n",
      "chonaic sí aghaanna dorcha diaghlaí agus líalann agus arm faobhair\n",
      "MI0001RCNuachtRTE1-1506_0117\n",
      "bhí slóga le bheith ann chun míshástacht an phobail a chur in iúl faoin slí inar toghú an tuachtarán mahamad ahamad aaaa\n"
     ]
    }
   ],
   "source": [
    "import IPython\n",
    "_BASE = \"/media/storage/jim/Playing/mfa-corp/pmg/\"\n",
    "for fname in CO.split(\"\\n\"):\n",
    "    if fname == \"\":\n",
    "        continue\n",
    "    print(fname)\n",
    "    !cat {_BASE}{fname}.txt\n",
    "    !echo\n",
    "    #IPython.display.display(IPython.display.Audio(f\"{_BASE}{fname}.wav\"))"
   ]
  }
 ],
 "metadata": {
  "kernelspec": {
   "display_name": "Python 3",
   "language": "python",
   "name": "python3"
  },
  "language_info": {
   "codemirror_mode": {
    "name": "ipython",
    "version": 3
   },
   "file_extension": ".py",
   "mimetype": "text/x-python",
   "name": "python",
   "nbconvert_exporter": "python",
   "pygments_lexer": "ipython3",
   "version": "3.6.9"
  }
 },
 "nbformat": 4,
 "nbformat_minor": 2
}
