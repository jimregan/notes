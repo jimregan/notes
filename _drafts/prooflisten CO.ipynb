{
 "cells": [
  {
   "cell_type": "code",
   "execution_count": 1,
   "metadata": {},
   "outputs": [],
   "source": [
    "CO = \"\"\"\n",
    "MI0001RCNamedEntities02_0213\n",
    "MI0001RCNamedEntities02_0214\n",
    "MI0001RCNamedEntities02_0218\n",
    "MI0001RCNamedEntities02_0220\n",
    "MI0001RCNamedEntities02_0228\n",
    "MI0001RCNamedEntities02_0249\n",
    "MI0001RCNamedEntities02_0265\n",
    "MI0001RCNamedEntities02_0267\n",
    "MI0001RCNamedEntities02_0268\n",
    "MI0001RCNamedEntities02_0310\n",
    "MI0001RCNamedEntities02_0313\n",
    "MI0001RCNuachtRTE1-1506_0030\n",
    "MI0001RCNuachtRTEMay_0076\n",
    "MI0001RCNuachtRTEMay_0192\n",
    "MI0001RCPiarsachBheanchaointe_0048\n",
    "MI0001RCPiarsachBheanchaointe_0084\n",
    "MI0001RCPiarsachBoithre_0041\n",
    "MI0001RCPiarsachEoghainin_0022\n",
    "MI0001RCPiarsachEoghainin_0024\n",
    "MI0001RCPiarsachIosagan_0031\n",
    "\"\"\""
   ]
  },
  {
   "cell_type": "code",
   "execution_count": 6,
   "metadata": {
    "scrolled": true
   },
   "outputs": [
    {
     "name": "stdout",
     "output_type": "stream",
     "text": [
      "MI0001RCNamedEntities02_0213\n",
      "an ne daoin kenmareMI0001RCNamedEntities02_0214\n",
      "an scibairín skibbereenMI0001RCNamedEntities02_0218\n",
      "ard an rotha ardaraMI0001RCNamedEntities02_0220\n",
      "baile an mhúta ballymoteMI0001RCNamedEntities02_0228\n",
      "beántraí bantryMI0001RCNamedEntities02_0249\n",
      "loch garmán wexfordMI0001RCNamedEntities02_0265\n",
      "bóthar stí lorgán stillorgan roadMI0001RCNamedEntities02_0267\n",
      "faiche stibhne st saint stephen's green\n",
      "MI0001RCNamedEntities02_0268\n",
      "sráid an chuisleáin castle streetMI0001RCNamedEntities02_0310\n",
      "sráid na banraíona queen streetMI0001RCNamedEntities02_0313\n",
      "sráid na lumbardach lombard streetMI0001RCNuachtRTE1-1506_0030\n",
      "tá fiosrúchán bunaha anois ag co misiún na scrúduithe stáit maide le túipis an lae inné i láthair scrúduithe i ndrochad átha cundae lua inar tugú an dara páipéar sa scrúdú ard teistime á hm\n",
      "MI0001RCNuachtRTEMay_0076\n",
      "tá siad siúd atá freagrach as ionsaí buamála a rinneadh ar theach mitseal mac lachlainn ar cólta de tionól tuaisceacht éireann é cáinte go géar ag an céad-aire an tuaisciacht píatar rabansanMI0001RCNuachtRTEMay_0192\n",
      "tháinig méadú ceathracha a hocht milliún euro ar chaiteachas drugaí agus leighis anuraidh\n",
      "MI0001RCPiarsachBheanchaointe_0048\n",
      "ní inniu a d'imigh sé ach inné nó arú inné b'fhéidir.MI0001RCPiarsachBheanchaointe_0084\n",
      "ní mé na báiníní inné tar éis imeachta dhó ní hea arúiné níleas am i gceart cén lá a ni mé iadMI0001RCPiarsachBoithre_0041\n",
      "bhí cuimín ag triomú a éadain faoin am seo agus sh ar bun aige ar nós duine a bheadh ag deasú capaill\n",
      "MI0001RCPiarsachEoghainin_0022\n",
      "bhí mé ag teacht aníos ón tobar nuair a chuala mé a gceiliúr ceiliúr binn meidhreach mar a bheidís ag ráMI0001RCPiarsachEoghainin_0024\n",
      "scéala chugat ón domhan theas agus ansin d'eitil ceann aca tharam chimil a scíothán de mo leiceannMI0001RCPiarsachIosagan_0031\n",
      "dúirt daoine eile ach ní deirtí é seo ach i gcogar cois tine nuair a bhíodh na seandaoine ag seanchas leo féin tar théis dul a chodladh do na páistí dúradar seo gur dhíol sé a anam le fear mór áirithe a casadh dó uair ar mhullach chnoc an daimh agus nach ligfeadh a té seo dó an taifreann a chleachtadh\n"
     ]
    }
   ],
   "source": [
    "import IPython\n",
    "_BASE = \"/media/storage/jim/Playing/mfa-corp/pmg/\"\n",
    "for fname in CO.split(\"\\n\"):\n",
    "    if fname == \"\":\n",
    "        continue\n",
    "    print(fname)\n",
    "    !cat {_BASE}{fname}.txt\n",
    "    !ec\n",
    "    #IPython.display.display(IPython.display.Audio(f\"{_BASE}{fname}.wav\"))"
   ]
  }
 ],
 "metadata": {
  "kernelspec": {
   "display_name": "Python 3",
   "language": "python",
   "name": "python3"
  },
  "language_info": {
   "codemirror_mode": {
    "name": "ipython",
    "version": 3
   },
   "file_extension": ".py",
   "mimetype": "text/x-python",
   "name": "python",
   "nbconvert_exporter": "python",
   "pygments_lexer": "ipython3",
   "version": "3.6.9"
  }
 },
 "nbformat": 4,
 "nbformat_minor": 2
}
