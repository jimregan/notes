{
 "cells": [
  {
   "cell_type": "code",
   "execution_count": 1,
   "metadata": {},
   "outputs": [],
   "source": [
    "import json"
   ]
  },
  {
   "cell_type": "code",
   "execution_count": 2,
   "metadata": {},
   "outputs": [],
   "source": [
    "from pathlib import Path\n",
    "JSONPATH = Path(\"/Users/joregan/Playing/rd_phonetic\")"
   ]
  },
  {
   "cell_type": "code",
   "execution_count": 24,
   "metadata": {},
   "outputs": [],
   "source": [
    "def get_slice(a, n, window=2):\n",
    "    start = max(n - window, 0)\n",
    "    centre = 2\n",
    "    if start < 0:\n",
    "        centre = centre - (n - window)\n",
    "    end = min(n + (window + 1), len(a))\n",
    "    slice = a[start:end]\n",
    "    return slice, centre"
   ]
  },
  {
   "cell_type": "code",
   "execution_count": 25,
   "metadata": {},
   "outputs": [],
   "source": [
    "collected = set()\n",
    "def inspect_file(filename, checks=[\"<hes>\"]):\n",
    "    with open(filename) as f:\n",
    "        stem = Path(filename).stem\n",
    "        data = json.load(f)\n",
    "        chunks = data[\"chunks\"]\n",
    "        for i in range(len(chunks)):\n",
    "            slice, centre = get_slice(chunks, i)\n",
    "            if centre != 2:\n",
    "                print(\"CS\", centre, slice)\n",
    "            for check in checks:\n",
    "                if check in slice:\n",
    "                    if check in slice[centre]:\n",
    "                        current = {\n",
    "                            \"stem\": stem,\n",
    "                            \"start\": slice[0][\"timestamp\"][0],\n",
    "                            \"end\": slice[-1][\"timestamp\"][1],\n",
    "                            \"text\": \" \".join([s[\"text\"] for s in slice]),\n",
    "                        }\n",
    "                        collected.add(current)\n",
    "        return collected"
   ]
  },
  {
   "cell_type": "code",
   "execution_count": 26,
   "metadata": {},
   "outputs": [
    {
     "data": {
      "text/plain": [
       "set()"
      ]
     },
     "execution_count": 26,
     "metadata": {},
     "output_type": "execute_result"
    }
   ],
   "source": [
    "inspect_file(\"/Users/joregan/Playing/rd_phonetic/2442208310025479021_480p.json\")"
   ]
  }
 ],
 "metadata": {
  "kernelspec": {
   "display_name": "nst-tts",
   "language": "python",
   "name": "python3"
  },
  "language_info": {
   "codemirror_mode": {
    "name": "ipython",
    "version": 3
   },
   "file_extension": ".py",
   "mimetype": "text/x-python",
   "name": "python",
   "nbconvert_exporter": "python",
   "pygments_lexer": "ipython3",
   "version": "3.10.9"
  }
 },
 "nbformat": 4,
 "nbformat_minor": 2
}
