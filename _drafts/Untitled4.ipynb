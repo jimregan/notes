{
 "cells": [
  {
   "cell_type": "code",
   "execution_count": 8,
   "id": "42cd4bb6",
   "metadata": {},
   "outputs": [],
   "source": [
    "def lenite_an(word):\n",
    "    lw = word.lower()\n",
    "    if len(word) >= 1 and lw[0] in \"bcfgmp\":\n",
    "        return word[0] + 'h' + word[1:]\n",
    "    elif len(word) >= 2 and lw[0] == 's' and lw[1] in \"aáeéiílnoóruú\":\n",
    "        return 't' + word\n",
    "    else:\n",
    "        return word\n",
    "\n",
    "def is_upper_vowel(ch):\n",
    "    if ch in \"AÁEÉIÍOÓUÚ\":\n",
    "        return True\n",
    "    return False\n",
    "def is_lower_vowel(ch):\n",
    "    if ch in \"aáeéiíoóuú\":\n",
    "        return True\n",
    "    return False\n",
    "\n",
    "_eclipse = {\n",
    "    'b': 'mb',\n",
    "    'B': 'mB',\n",
    "    'c': 'gc',\n",
    "    'C': 'gC',\n",
    "    'd': 'nd',\n",
    "    'D': 'nD',\n",
    "    'f': 'bhf',\n",
    "    'F': 'bhF',\n",
    "    'g': 'ng',\n",
    "    'G': 'nG',\n",
    "    'p': 'bp',\n",
    "    'P': 'bP',\n",
    "    't': 'dt',\n",
    "    'T': 'dT'\n",
    "}\n",
    "\n",
    "def eclipse(word):\n",
    "    if is_upper_vowel(word[0]):\n",
    "        return \"n\" + word\n",
    "    elif is_lower_vowel(word[0]):\n",
    "        return \"n-\" + word\n",
    "    elif word[0] in _eclipse.keys():\n",
    "        return _eclipse[word[0]] + word[1:]\n",
    "    else:\n",
    "        return word"
   ]
  },
  {
   "cell_type": "code",
   "execution_count": 7,
   "id": "bf8841e9",
   "metadata": {},
   "outputs": [],
   "source": [
    "assert(eclipse('teach') == 'dteach')\n",
    "assert(eclipse('Teach') == 'dTeach')\n",
    "assert(eclipse('Arán') == 'nArán')\n",
    "assert(eclipse('arán') == 'n-arán')\n",
    "assert(lenite_an('sneachta') == 'tsneachta')"
   ]
  }
 ],
 "metadata": {
  "kernelspec": {
   "display_name": "Python 3",
   "language": "python",
   "name": "python3"
  },
  "language_info": {
   "codemirror_mode": {
    "name": "ipython",
    "version": 3
   },
   "file_extension": ".py",
   "mimetype": "text/x-python",
   "name": "python",
   "nbconvert_exporter": "python",
   "pygments_lexer": "ipython3",
   "version": "3.8.2"
  }
 },
 "nbformat": 4,
 "nbformat_minor": 5
}
