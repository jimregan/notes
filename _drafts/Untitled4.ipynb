{
  "nbformat": 4,
  "nbformat_minor": 0,
  "metadata": {
    "colab": {
      "name": "Untitled4.ipynb",
      "provenance": []
    },
    "kernelspec": {
      "name": "python3",
      "display_name": "Python 3"
    },
    "language_info": {
      "name": "python"
    }
  },
  "cells": [
    {
      "cell_type": "code",
      "metadata": {
        "id": "RncJdy1-hX2f"
      },
      "source": [
        "sample = \"\"\"\n",
        "<tei.2> \n",
        " <teiHeader type=text> \n",
        " <fileDesc> \n",
        " <titleStmt> \n",
        " <title> PROTACAL 2 </title> \n",
        " <author> European Union </author> \n",
        " </titleStmt> \n",
        " <extent words= 137> </extent> \n",
        " <publicationStmt> \n",
        " <distributor> European Union </distributor> \n",
        " <address> \n",
        " <addrline> \n",
        " </address> \n",
        " <availability status=free> \n",
        " <p> \n",
        " </availability> \n",
        " <Date> 1993 </Date> \n",
        " <idno> PROT-02.DOC\n",
        " </idno> \n",
        " </publicationStmt> \n",
        " <sourceDesc> \n",
        " <biblStruct> \n",
        " <monogr> \n",
        " <author> European Union </author> \n",
        " <title> PROTACAL 2 </title> \n",
        " <imprint> \n",
        " <publisher> </publisher> \n",
        " <pubPlace> </pubPlace> \n",
        " </imprint> \n",
        " </monogr> \n",
        " </biblStruct> \n",
        " </sourceDesc> \n",
        " </fileDesc> \n",
        " <profileDesc> \n",
        " <creation> 1993 </creation> \n",
        " <textClass> \n",
        " <catRef target=\"P.M4\"> \n",
        " <catRef target=\"P.G9\"> \n",
        " <catRef target=\"P.T2\"> \n",
        " <catRef target=\"LB.C1990\"> \n",
        " <catRef target=\"LB.GU\"> \n",
        " <catRef target=\"LB.TREN\"> \n",
        " </textClass> \n",
        " </profileDesc> \n",
        " </teiHeader> \n",
        " <text lang=IR> \n",
        " <body> \n",
        " <div1 type= section n = 1> \n",
        " <p> <hi rend=bo> PROTACAL 2\n",
        "MAIDIR LE TAIRGI ARNA nEISIAMH O RAON FEIDHME\n",
        "AN CHOMHAONTAITHE I gCOMHRÉIR LE hAIRTEAGAL 8(3)(a) </hi> \n",
        "Eisítear ó raon feidhme an Chomhaontaithe na táirgí seo a leanas a \n",
        "thig faoi Chaibidlí CC 25 go 97: </p> \n",
        " <p> Uimh. Cheannteideal CC Tuairisc an táirge </p> \n",
        " <p> 35.01 Cáiséin, cáiséanáití agus díorthaigh eile \n",
        "cáiséine; </p> \n",
        " <p> Gliúnna cáiséine </p> \n",
        " <p> 35.02 Albaiminí, albaimineáití agus díorthaigh albaimine \n",
        "eile: </p> \n",
        " <p> 10 - Albaimin uibhe: </p> \n",
        " <p> ex 10 -- Seachas na cinn atá mí-oiriúnach, nó a dhéanfar mí-oiriúnach, \n",
        "mar bhia don duine </p> \n",
        " <p> 90 - Eile </p> \n",
        " <p> </p> \n",
        " <p> ex 90 -- Albaimin bhainne (lachtalbaimin), seachas \n",
        "lachtalbaimin atá mí-oiriúnach, nó a dhéanfar mí-oiriúnach, mar bhia \n",
        "don duine </p> \n",
        " <p> 35.05 Deisliní agus stáirsí modhnaithe eile (mar \n",
        "shampla, </p> \n",
        " <p> stáirsí réamhgheilitínithe nó eistearaithe); \n",
        "gliúnna a bhunaítear ar stáirsí, nó ar dheisliní nó stáirsí \n",
        "modhnaithe eile: </p> \n",
        " <p> 10 - Deisliní agus stáirsí modhnaithe eile: </p> \n",
        " <p> ex 10 -- Stáirsí, eistearaithe nó éitearaithe </p> \n",
        " <p> </p> \n",
        " <p> </p> \n",
        " </div1> \n",
        " </body> \n",
        " </text> \n",
        "</tei.2>\n",
        "\"\"\""
      ],
      "execution_count": 2,
      "outputs": []
    },
    {
      "cell_type": "code",
      "metadata": {
        "id": "VA5toAqzy7gp"
      },
      "source": [
        "from bs4 import BeautifulSoup\n",
        "\n",
        "soup = BeautifulSoup(sample, 'html.parser')\n"
      ],
      "execution_count": 13,
      "outputs": []
    },
    {
      "cell_type": "code",
      "metadata": {
        "id": "qztVZzNTzRQB"
      },
      "source": [
        "def _get_title(soup):\n",
        "  #tstmt = soup.find(\"titleStmt\")\n",
        "  title = soup.find(\"title\")\n",
        "  if title.text and title.text.strip() != \"\":\n",
        "    return title.text.strip()"
      ],
      "execution_count": 18,
      "outputs": []
    },
    {
      "cell_type": "code",
      "metadata": {
        "id": "r7V9XHPW06wo"
      },
      "source": [
        "def _get_author(soup):\n",
        "  author = soup.find(\"author\")\n",
        "  if author.text and author.text.strip() != \"\":\n",
        "    return author.text.strip()"
      ],
      "execution_count": 20,
      "outputs": []
    },
    {
      "cell_type": "code",
      "metadata": {
        "id": "56C4GhUs1F0h"
      },
      "source": [
        "def _get_creation(soup):\n",
        "  creation = soup.find(\"creation\")\n",
        "  if creation.text and creation.text.strip() != \"\":\n",
        "    return creation.text.strip()"
      ],
      "execution_count": 22,
      "outputs": []
    },
    {
      "cell_type": "code",
      "metadata": {
        "id": "huTGGKZVzT9x"
      },
      "source": [
        "def _get_paragraphs(soup):\n",
        "  import re\n",
        "  out = []\n",
        "  body = soup.find('body')\n",
        "  for p in body.find_all('p'):\n",
        "    text = p.text.strip()\n",
        "    text = text.replace('\\n', ' ')\n",
        "    text = re.sub('  +', ' ', text)\n",
        "    if text:\n",
        "      out.append(text)\n",
        "  return out"
      ],
      "execution_count": 9,
      "outputs": []
    },
    {
      "cell_type": "code",
      "metadata": {
        "id": "yt6kZZ2hz4lk"
      },
      "source": [
        "def _get_categories(text):\n",
        "  import re\n",
        "  out = []\n",
        "  for cat in re.findall('<catRef target=\"([^\"]+)\">', text):\n",
        "    out.append(cat)\n",
        "  return out"
      ],
      "execution_count": 51,
      "outputs": []
    },
    {
      "cell_type": "code",
      "metadata": {
        "id": "pqXgSt4L22iP",
        "outputId": "2adc6865-11b3-469e-9ca5-6a4b258d4c62",
        "colab": {
          "base_uri": "https://localhost:8080/"
        }
      },
      "source": [
        "_get_paragraphs(soup)"
      ],
      "execution_count": 53,
      "outputs": [
        {
          "output_type": "execute_result",
          "data": {
            "text/plain": [
              "['PROTACAL 2 MAIDIR LE TAIRGI ARNA nEISIAMH O RAON FEIDHME AN CHOMHAONTAITHE I gCOMHRÉIR LE hAIRTEAGAL 8(3)(a) Eisítear ó raon feidhme an Chomhaontaithe na táirgí seo a leanas a thig faoi Chaibidlí CC 25 go 97:',\n",
              " 'Uimh. Cheannteideal CC Tuairisc an táirge',\n",
              " '35.01 Cáiséin, cáiséanáití agus díorthaigh eile cáiséine;',\n",
              " 'Gliúnna cáiséine',\n",
              " '35.02 Albaiminí, albaimineáití agus díorthaigh albaimine eile:',\n",
              " '10 - Albaimin uibhe:',\n",
              " 'ex 10 -- Seachas na cinn atá mí-oiriúnach, nó a dhéanfar mí-oiriúnach, mar bhia don duine',\n",
              " '90 - Eile',\n",
              " 'ex 90 -- Albaimin bhainne (lachtalbaimin), seachas lachtalbaimin atá mí-oiriúnach, nó a dhéanfar mí-oiriúnach, mar bhia don duine',\n",
              " '35.05 Deisliní agus stáirsí modhnaithe eile (mar shampla,',\n",
              " 'stáirsí réamhgheilitínithe nó eistearaithe); gliúnna a bhunaítear ar stáirsí, nó ar dheisliní nó stáirsí modhnaithe eile:',\n",
              " '10 - Deisliní agus stáirsí modhnaithe eile:',\n",
              " 'ex 10 -- Stáirsí, eistearaithe nó éitearaithe']"
            ]
          },
          "metadata": {},
          "execution_count": 53
        }
      ]
    }
  ]
}