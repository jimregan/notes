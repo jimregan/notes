{
  "nbformat": 4,
  "nbformat_minor": 0,
  "metadata": {
    "colab": {
      "name": "Untitled4.ipynb",
      "provenance": []
    },
    "kernelspec": {
      "name": "python3",
      "display_name": "Python 3"
    },
    "language_info": {
      "name": "python"
    }
  },
  "cells": [
    {
      "cell_type": "code",
      "metadata": {
        "id": "jDm5RtZ5IzkE"
      },
      "source": [
        "sample = 'http://nos.ie/cultur/scannain/fisean-out-of-innocence-agallamh-le-heoin-o-dubhghaill/'"
      ],
      "execution_count": 37,
      "outputs": []
    },
    {
      "cell_type": "code",
      "metadata": {
        "id": "jn5pnPiHJC0L"
      },
      "source": [
        "import requests\n",
        "from bs4 import BeautifulSoup"
      ],
      "execution_count": 1,
      "outputs": []
    },
    {
      "cell_type": "code",
      "metadata": {
        "id": "uubriiaSJDZT"
      },
      "source": [
        "page = requests.get(sample)"
      ],
      "execution_count": 40,
      "outputs": []
    },
    {
      "cell_type": "code",
      "metadata": {
        "id": "vgvfobQFJIOj"
      },
      "source": [
        "soup = BeautifulSoup(page.text, 'lxml')"
      ],
      "execution_count": 41,
      "outputs": []
    },
    {
      "cell_type": "code",
      "metadata": {
        "id": "6hi0EmFeJLcq"
      },
      "source": [
        "vid = soup.find('div', {'id', 'video-wrapper'})"
      ],
      "execution_count": 5,
      "outputs": []
    },
    {
      "cell_type": "code",
      "metadata": {
        "colab": {
          "base_uri": "https://localhost:8080/",
          "height": 35
        },
        "id": "KmyIk97kJaRF",
        "outputId": "9c964efa-17f9-4b64-a38b-9d8124de0f91"
      },
      "source": [
        "_get_video(soup)"
      ],
      "execution_count": 51,
      "outputs": [
        {
          "output_type": "execute_result",
          "data": {
            "application/vnd.google.colaboratory.intrinsic+json": {
              "type": "string"
            },
            "text/plain": [
              "'https://www.youtube.com/embed/lXr1QZPY7aY'"
            ]
          },
          "metadata": {},
          "execution_count": 51
        }
      ]
    },
    {
      "cell_type": "code",
      "metadata": {
        "id": "JqXu226qJm0a"
      },
      "source": [
        "def _get_video(soup):\n",
        "    vid = soup.find('div', {'id': 'video-wrapper'})\n",
        "    if vid:\n",
        "        iframe = vid.find('iframe')\n",
        "        if iframe:\n",
        "            return iframe.get('src', '')\n",
        "    return ''"
      ],
      "execution_count": 50,
      "outputs": []
    },
    {
      "cell_type": "code",
      "metadata": {
        "id": "Ue7z2Fh5Jt1u"
      },
      "source": [
        "def _get_details(soup):\n",
        "    details = {}\n",
        "    pubdet = soup.find(\"div\", {\"id\": \"single-publish-details\"})\n",
        "    ptags = [p for p in pubdet.find_all('p')]\n",
        "    if ptags[0].b:\n",
        "        details['author'] = ptags[0].b.get_text(strip=True)\n",
        "    if ptags[1]:\n",
        "        details['date'] = ptags[1].get_text(strip=True)\n",
        "    broll = pubdet.find(\"div\", {\"class\": \"blogroll-tag-category\"})\n",
        "    cats = set()\n",
        "    for cat in broll.find_all(\"a\", {\"class\": \"featured-category\"}):\n",
        "        if cat.get_text(strip=True) != \"\":\n",
        "            cats.add(cat.get_text(strip=True))\n",
        "    if len(cats) > 0:\n",
        "        details['categories'] = list(cats)\n",
        "\n",
        "    tags = set()\n",
        "    for tag in broll.find_all(\"a\", {\"class\": \"featured-tag\"}):\n",
        "        if tag.get_text(strip=True) != \"\":\n",
        "            tags.add(tag.get_text(strip=True))\n",
        "    if len(tags) > 0:\n",
        "        details['tags'] = list(tags)\n",
        "    return details"
      ],
      "execution_count": 79,
      "outputs": []
    },
    {
      "cell_type": "code",
      "metadata": {
        "colab": {
          "base_uri": "https://localhost:8080/",
          "height": 35
        },
        "id": "TsXlTx89J02q",
        "outputId": "ed176325-00ba-46c8-d056-5acc51fa2020"
      },
      "source": [
        "_get_subhead(soup)"
      ],
      "execution_count": 86,
      "outputs": [
        {
          "output_type": "execute_result",
          "data": {
            "application/vnd.google.colaboratory.intrinsic+json": {
              "type": "string"
            },
            "text/plain": [
              "''"
            ]
          },
          "metadata": {},
          "execution_count": 86
        }
      ]
    },
    {
      "cell_type": "code",
      "metadata": {
        "id": "2j2waN-FKgl3"
      },
      "source": [
        "def _get_subhead(soup):\n",
        "    out = []\n",
        "    content = soup.find(\"div\", {\"id\": \"single-area-center\"})\n",
        "    if content.h1 and content.h1.span:\n",
        "        return content.h1.span.get_text(strip=True)\n",
        "    else:\n",
        "        return ''"
      ],
      "execution_count": 81,
      "outputs": []
    },
    {
      "cell_type": "code",
      "metadata": {
        "id": "Bk1WA-ZJLrvf"
      },
      "source": [
        "def _mksoup(url):\n",
        "    page = requests.get(url)\n",
        "    soup = BeautifulSoup(page.text, 'lxml')\n",
        "    return soup"
      ],
      "execution_count": 83,
      "outputs": []
    },
    {
      "cell_type": "code",
      "metadata": {
        "id": "T8-azCbvxhV7"
      },
      "source": [
        "def _read_menu():\n",
        "    page = requests.get(\"http://nos.ie/\")\n",
        "    soup = BeautifulSoup(page.text, 'lxml')\n",
        "    menu = soup.find(\"ul\", {\"id\": \"menu-main-menu\"})\n",
        "    cat_pages = set()\n",
        "    for li in menu.find_all(\"li\"):\n",
        "        if li.a:\n",
        "            cat_pages.add(li.a['href'])\n",
        "    return cat_pages"
      ],
      "execution_count": 2,
      "outputs": []
    },
    {
      "cell_type": "code",
      "metadata": {
        "id": "0soomNSCXaFe"
      },
      "source": [
        "links = _read_menu()"
      ],
      "execution_count": 5,
      "outputs": []
    },
    {
      "cell_type": "code",
      "metadata": {
        "colab": {
          "base_uri": "https://localhost:8080/"
        },
        "id": "DdkOM0AsX3Dv",
        "outputId": "72f3dcfa-5d5c-4fb6-e3a4-0ed9866c3dc0"
      },
      "source": [
        "a = _get_article_list(links)"
      ],
      "execution_count": 13,
      "outputs": [
        {
          "output_type": "stream",
          "name": "stdout",
          "text": [
            "http://nos.ie/category/meain/raidio/page/7/\n",
            "http://nos.ie/category/gniomhaiochas/comhshaol/page/8/\n",
            "http://nos.ie/category/cultur/ceol/page/49/\n",
            "http://nos.ie/category/saol/sport/page/11/\n",
            "http://nos.ie/category/gniomhaiochas/teanga/page/26/\n",
            "http://nos.ie/category/saol/slainte/page/7/\n",
            "http://nos.ie/category/meain/page/28/\n",
            "http://nos.ie/category/taisteal/page/8/\n",
            "http://nos.ie/category/cultur/leabhair/page/10/\n",
            "http://nos.ie/category/meain/soisialta/page/6/\n",
            "http://nos.ie/category/cultur/dearadh/page/12/\n",
            "http://nos.ie/category/cultur/scannain/page/14/\n",
            "http://nos.ie/category/cultur/page/128/\n",
            "http://nos.ie/category/gniomhaiochas/polaitiocht/page/8/\n",
            "http://nos.ie/category/saol/stil/page/4/\n",
            "http://nos.ie/category/saol/bia/page/8/\n",
            "http://nos.ie/category/gniomhaiochas/page/49/\n",
            "http://nos.ie/category/teic/page/14/\n",
            "http://nos.ie/category/saol/page/57/\n",
            "http://nos.ie/category/fiseain-nos/page/3/\n",
            "http://nos.ie/category/cultur/ardan/page/6/\n",
            "http://nos.ie/category/saol/craiceann/page/6/\n"
          ]
        }
      ]
    },
    {
      "cell_type": "code",
      "metadata": {
        "colab": {
          "base_uri": "https://localhost:8080/"
        },
        "id": "hCcoqNnpd3OT",
        "outputId": "68472516-b397-4daa-e769-eb282af72bb2"
      },
      "source": [
        "len(a)"
      ],
      "execution_count": 14,
      "outputs": [
        {
          "output_type": "execute_result",
          "data": {
            "text/plain": [
              "4138"
            ]
          },
          "metadata": {},
          "execution_count": 14
        }
      ]
    },
    {
      "cell_type": "code",
      "metadata": {
        "colab": {
          "base_uri": "https://localhost:8080/"
        },
        "id": "ArzMYZNUYuS4",
        "outputId": "9c3a74eb-6b4c-4457-f937-6c4dd3c1faa2"
      },
      "source": [
        "len(a)"
      ],
      "execution_count": 11,
      "outputs": [
        {
          "output_type": "execute_result",
          "data": {
            "text/plain": [
              "296"
            ]
          },
          "metadata": {},
          "execution_count": 11
        }
      ]
    },
    {
      "cell_type": "code",
      "metadata": {
        "id": "8GwDDJmjKQHA"
      },
      "source": [
        "def _get_article_list(urls):\n",
        "    rest = set()\n",
        "    articles = set()\n",
        "    for url in urls:\n",
        "        page = requests.get(url)\n",
        "        soup = BeautifulSoup(page.text, 'lxml')\n",
        "        new = _get_remainder(soup)\n",
        "        rest = rest.union(new)\n",
        "        art = _collect_articles(soup)\n",
        "        articles = articles.union(art)\n",
        "    for url in rest:\n",
        "        page = requests.get(url)\n",
        "        soup = BeautifulSoup(page.text, 'lxml')\n",
        "        art = _collect_articles(soup)\n",
        "        articles = articles.union(art)\n",
        "    return list(articles)        "
      ],
      "execution_count": 12,
      "outputs": []
    },
    {
      "cell_type": "code",
      "metadata": {
        "id": "UdxpCfs23MyF"
      },
      "source": [
        "def _get_remainder(soup):\n",
        "    import re\n",
        "    pagination = soup.find(\"div\", {\"class\": \"pagination\"})\n",
        "    if not pagination:\n",
        "        return []\n",
        "    current = pagination.find(\"span\", {\"class\": \"current\"})\n",
        "    if not (current and current.get_text(strip=True) == \"1\"):\n",
        "        return []\n",
        "    cats = [a for a in pagination.find_all('a')]\n",
        "    last_cat = cats[-1]\n",
        "    last_url = last_cat.get('href', '')\n",
        "    if not last_url:\n",
        "        return []\n",
        "    print(last_url)\n",
        "    m = re.match(\"(.*/)([0-9]+)/$\", last_url)\n",
        "    if not m:\n",
        "        return []\n",
        "    base = m.group(1)\n",
        "    num = int(m.group(2)) + 1\n",
        "    return [f'{base}{i}/' for i in range(2, num)]\n"
      ],
      "execution_count": 3,
      "outputs": []
    },
    {
      "cell_type": "code",
      "metadata": {
        "id": "10PQuCIj__L8"
      },
      "source": [
        "def _collect_articles(soup):\n",
        "    out = set()\n",
        "    for art in soup.find_all(\"article\", {\"class\": \"blogroll-post\"}):\n",
        "        a = art.find('a')\n",
        "        out.add(a.get('href'))\n",
        "    return list(out)"
      ],
      "execution_count": 9,
      "outputs": []
    },
    {
      "cell_type": "code",
      "metadata": {
        "id": "GF5ptV8m7Iud"
      },
      "source": [
        "top = _read_menu()"
      ],
      "execution_count": 17,
      "outputs": []
    },
    {
      "cell_type": "code",
      "metadata": {
        "colab": {
          "base_uri": "https://localhost:8080/"
        },
        "id": "mZls6rhX8b_b",
        "outputId": "41c41a56-b54b-4317-af52-84ceefc5ffb0"
      },
      "source": [
        "page = requests.get(\"http://nos.ie/category/cultur/ceol/\")\n",
        "soup = BeautifulSoup(page.text, 'lxml')\n",
        "_collect_articles(soup)"
      ],
      "execution_count": 22,
      "outputs": [
        {
          "output_type": "execute_result",
          "data": {
            "text/plain": [
              "['http://nos.ie/cultur/ceol/rianta-na-miosa-seinnliosta-nos-ar-spotify/',\n",
              " 'http://nos.ie/cultur/ceol/na-tri-scor-bainte-amach-ag-an-amhranai-gaeltachta-enya/',\n",
              " 'http://nos.ie/cultur/ceol/amhranai-conamaraioch-le-cloisteail-ar-amhran-nua-as-an-mbriotain/',\n",
              " 'http://nos.ie/cultur/ceol/gradam-nos-buaite-ag-eabha-breathnach-ag-scleip-ghael-linn/',\n",
              " 'http://nos.ie/cultur/ceol/lanquidity-sun-ra-agus-albaim-eile-na-miosa/',\n",
              " 'http://nos.ie/cultur/ceol/cracks-agus-albaim-eile-na-miosa/',\n",
              " 'http://nos.ie/cultur/ceol/cen-staisiun-raidio-ata-ar-fail-do-country-bumpkins-na-heireann/',\n",
              " 'http://nos.ie/cultur/ceol/rianta-na-miosa-bealtaine-2/',\n",
              " 'http://nos.ie/cultur/ceol/an-bhfuil-tu-ann-a-anam-amhran-nua-eisithe-ag-deorai/',\n",
              " 'http://nos.ie/cultur/ceol/color-de-tropica-vol-2-agus-albaim-eile-na-miosa/',\n",
              " 'http://nos.ie/cultur/ceol/boinn-oir-sheain-ui-riada-buaite-ag-fionnuala-donlon-agus-colm-broderick/',\n",
              " 'http://nos.ie/cultur/ceol/rianta-na-miosa-marta-aibrean/',\n",
              " 'http://nos.ie/cultur/rianta-na-miosa-meitheamh/',\n",
              " 'http://nos.ie/cultur/ceol/i-would-not-live-always-agus-albaim-eile-na-miosa/',\n",
              " 'http://nos.ie/cultur/ceol/na-milte-bailithe-ag-beirt-amhranaithe-gaeltachta-ar-son-chumann-alzheimher-na-heireann/']"
            ]
          },
          "metadata": {},
          "execution_count": 22
        }
      ]
    },
    {
      "cell_type": "code",
      "metadata": {
        "id": "_8vYXXge7S-E"
      },
      "source": [
        "arts = _get_article_list(top)"
      ],
      "execution_count": 23,
      "outputs": []
    },
    {
      "cell_type": "code",
      "metadata": {
        "colab": {
          "base_uri": "https://localhost:8080/"
        },
        "id": "ZuttGYL8-HUe",
        "outputId": "aa68751e-cde0-4167-af15-d944d45f09c8"
      },
      "source": [
        "arts"
      ],
      "execution_count": 24,
      "outputs": [
        {
          "output_type": "execute_result",
          "data": {
            "text/plain": [
              "['http://nos.ie/cultur/scannain/cuig-scannan-is-fiu-a-fheiceail-an-samhradh-seo/',\n",
              " 'http://nos.ie/cultur/cursai-oidhreachta-le-hoideas-gael-agus-imeachtai-eile/',\n",
              " 'http://nos.ie/gniomhaiochas/comhshaol/ardu-croi-don-ghael-glas-soiniciuil-a-bhi-i-gcaint-michael-cronin-areir/',\n",
              " 'http://nos.ie/gniomhaiochas/teanga/cainteoiri-bhearla-bhaile-atha-cliath-a-lorg-do-staidear/',\n",
              " 'http://nos.ie/cultur/dearadh/go-raibh-maith-agaibh/',\n",
              " 'http://nos.ie/saol/sport/is-matan-a-chaitear-a-aclu-an-intinn-chomh-maith/',\n",
              " 'http://nos.ie/saol/bia/staidear-a-dheanamh-ag-driogaire-gaeltachta-ar-thionchar-na-haeraide-ar-dheantus-an-fhuisce/',\n",
              " 'http://nos.ie/meain/raidio/gradam-buaite-ag-bladhaire-rnag-ag-gradaim-na-mean-ceilteach-areir/',\n",
              " 'http://nos.ie/saol/sport/ta-bothar-fada-fos-le-siul-o-thaobh-meabhairshlainte-de-i-saol-an-spoirt/',\n",
              " 'http://nos.ie/gniomhaiochas/polaitiocht/an-chead-diospoireacht-uachtaranachta-i-meiricea-thart-agus-2020-eirithe-nios-measa-aris/',\n",
              " 'http://nos.ie/taisteal/ni-bhuailfeadh-tada-cois-fharraige-ar-la-brea-treoir-don-turasoir/',\n",
              " 'http://nos.ie/cultur/leabhair/an-dara-heagran-de-an-focloir-aiteach-a-reiteach/',\n",
              " 'http://nos.ie/cultur/dearadh/siopa-nua-ar-line-ag-bean-fuala-nos-gearoidin-mcevoy/',\n",
              " 'http://nos.ie/cultur/ola-majekodunmi-ina-hambasadoir-ar-oiche-chultuir-bhaile-atha-cliath/',\n",
              " 'http://nos.ie/gniomhaiochas/polaitiocht/cuigear-cainteoiri-gaeilge-tofa-ina-meara-timpeall-na-tire/',\n",
              " 'http://nos.ie/meain/raidio/bladhaire-ar-ais-ar-an-aer-ar-rte-rnag-inniu/',\n",
              " 'http://nos.ie/uncategorized/deas-cairdiuil-agus-lach-leis-na-gasuir-a-bhi-patrick-dempsey-in-inis-meain/',\n",
              " 'http://nos.ie/cultur/leabhair/gearrliosta-do-leabhair-na-bliana-fogartha-ag-an-oireachtas/',\n",
              " 'http://nos.ie/saol/sport/snamh-mor-anrai-ui-dhomhnaill-curtha-ar-athlo-de-dheasca-covid-19/',\n",
              " 'http://nos.ie/cultur/ardan/gradam-joe-steve-buaite-ag-eoin-o-dubhghaill/',\n",
              " 'http://nos.ie/saol/slainte/dfheadfadh-an-coinne-10-noimead-cervicalcheck-do-bheatha-a-shabhail/',\n",
              " 'http://nos.ie/cultur/liu-lunasa-agus-imeachtai-eile/',\n",
              " 'http://nos.ie/saol/slainte/litir-o-thir-ata-ag-suil-le-bheith-saor-o-thobac-faoi-2025/',\n",
              " 'http://nos.ie/cultur/scannain/5-scannan-mhaithe-eireannacha-ata-nios-fearr-na-wild-mountain-thyme/',\n",
              " 'http://nos.ie/cultur/scannain/cuig-scannan-neamhthraidisiunta-don-nollaig/',\n",
              " 'http://nos.ie/cultur/dearadh/learscail-adhmaid-de-thithe-solais-mora-na-heireann-nochta-i-dteach-solais-fhanada/',\n",
              " 'http://nos.ie/cultur/dearadh/focail-a-thainig-chun-cinn-le-linn-covid-19/',\n",
              " 'http://nos.ie/gniomhaiochas/polaitiocht/conas-is-feidir-tacu-le-blacklivesmatter-deich-leid-don-duine-geal/',\n",
              " 'http://nos.ie/meain/post-faighte-ag-colunai-de-chuid-nos-le-rnag-i-gcasla/',\n",
              " 'http://nos.ie/cultur/leabhair/is-trathuil-gur-an-tseachtain-seo-a-leigh-me-leabhar-emma-dabiri/',\n",
              " 'http://nos.ie/meain/raidio/gairm-dheireanach-ar-iarratais-do-rol-an-bhainisteora-i-raidio-failte/',\n",
              " 'http://nos.ie/saol/sport/gradam-speisialta-bronnta-ag-iws-ar-fhear-gaeltachta-mar-gheall-ar-a-eacht-snamha/',\n",
              " 'http://nos.ie/teic/fios-ag-dfhon-cliste-nuair-ata-tu-olta/',\n",
              " 'http://nos.ie/gniomhaiochas/teanga/achrann-faoi-logainm-breatnaise-i-gcas-tradmhairc/',\n",
              " 'http://nos.ie/meain/colunai-de-chuid-nos-ainmnithe-do-realta-og-na-bliana-an-oireachtais/',\n",
              " 'http://nos.ie/saol/sport/bheidh-ar-an-ioc-aghaidh-a-thabhairt-ar-an-meon-nach-bhfuil-ann-ach-an-da-inscne/',\n",
              " 'http://nos.ie/cultur/scannain/gradam-buaite-ag-scannan-gaeilge-ag-fleadh-scannan-na-gaillimhe/',\n",
              " 'http://nos.ie/gniomhaiochas/comhshaol/ta-gneithe-darainn-ina-n-eiseamlair-don-turasoireacht-ghlas/',\n",
              " 'http://nos.ie/taisteal/scaitheamh-in-inis-meain-treoir-don-turasoir/',\n",
              " 'http://nos.ie/gniomhaiochas/polaitiocht/colonial-relic-caineadh-deanta-ar-cheapachan-leifteanantghobharnoir-mhanann/',\n",
              " 'http://nos.ie/teic/am-gaelach-uaireadoir-gaeilge-o-1984-aimsithe-ag-cartlannai-chonradh-na-gaeilge/',\n",
              " 'http://nos.ie/cultur/ardan/mam-eile-as-mala-keegan-dolan/',\n",
              " 'http://nos.ie/fiseain-nos/fisean-deor-aiocht-dan-nua-do-la-idirnaisiunta-na-filiochta/',\n",
              " 'http://nos.ie/cultur/dearadh/peinteail-le-poilin-blathanna/',\n",
              " 'http://nos.ie/saol/ta-an-da-vacsain-faighte-agam-agus-suil-agam-a-bheith-ar-an-gcampas-aris-i-mbliana/',\n",
              " 'http://nos.ie/cultur/dearadh/duch-fomhair-comortas-dar-leitheoiri-ealaionta/',\n",
              " 'http://nos.ie/gniomhaiochas/comhshaol/nil-aird-ag-an-rialtas-ar-thionchar-na-hathruithe-aeraide-ar-chursai-teanga/',\n",
              " 'http://nos.ie/meain/raidio/leagan-1973-de-cre-na-cille-le-hathchraoladh-ar-rnag-in-omos-mhairtin-ui-chadhain/',\n",
              " 'http://nos.ie/gniomhaiochas/polaitiocht/100-bliain-is-an-la-inniu-doscail-ri-seoirse-na-breataine-parlaimint-sa-stat-ur/',\n",
              " 'http://nos.ie/cultur/leabhair/beag-rath-ata-i-ndan-do-phobal-nach-bhfuil-freamhaithe-ina-chultur-agus-ina-stair-fein/',\n",
              " 'http://nos.ie/teic/teanga-riomhchlaruchain-gaelach-cruthaithe-ag-fear-as-sligeach/',\n",
              " 'http://nos.ie/saol/stil/noda-na-nollag/',\n",
              " 'http://nos.ie/gniomhaiochas/teanga/ta-gearcheim-saibhris-agus-seanchais-ann-sa-ngaeltacht/',\n",
              " 'http://nos.ie/cultur/leabhair/matilda-roald-dahl-ar-fail-i-ngaeilge-faoi-nollaig/',\n",
              " 'http://nos.ie/meain/raidio/eist-eagarthoir-nos-faoi-agallamh-ar-seal-le-sean-raidio-ri-ra/',\n",
              " 'http://nos.ie/meain/iarrthoiri-a-lorg-do-sceimeanna-oiliuna-teilifise-agus-raidio/',\n",
              " 'http://nos.ie/cultur/scannain/fiseain-nos-le-taispeaint-ag-feile-underground-cinema/',\n",
              " 'http://nos.ie/meain/an-chead-chluiche-snatch-i-ngaeilge-le-craoladh-de-sathairn/',\n",
              " 'http://nos.ie/gniomhaiochas/polaitiocht/imni-faoi-choilineacht-naitsioch-i-ngaidhealtachd-cheanada-%e2%80%a8/',\n",
              " 'http://nos.ie/meain/soisialta/an-feachtas-margaiochta-gaeilge-ab-fhearr-in-eirinn-a-lorg-do-ghradaim-aim/',\n",
              " 'http://nos.ie/cultur/leabhair/feis-tigh-chonain-a-leamh-ar-loveleabhargaeilge-ag-eagarthoir-nos/',\n",
              " 'http://nos.ie/fiseain-nos/spotsolas-ar-mheabhairshlainte-diseart-gaelach-fiain/',\n",
              " 'http://nos.ie/cultur/ardan/an-duirc-i-seo-a-cheapaim-romham/',\n",
              " 'http://nos.ie/cultur/scannain/fisean-out-of-innocence-agallamh-le-heoin-o-dubhghaill/',\n",
              " 'http://nos.ie/saol/bia/aoife-sa-chistin-aran-grain/',\n",
              " 'http://nos.ie/cultur/ardan/eoin-o-dubhghaill-ar-an-ngearrliosta-do-ghradam-joe-steve/',\n",
              " 'http://nos.ie/gniomhaiochas/teanga/nuachtan-gaelach-a-foilsiodh-sa-tasmain-in-1857-ar-fail-anois-ar-line/',\n",
              " 'http://nos.ie/cultur/leabhair/leac-chuimhneachain-in-omos-sheosaimh-mac-grianna-le-cur-i-mbaile-atha-cliath/',\n",
              " 'http://nos.ie/gniomhaiochas/comhshaol/23-bas-sa-tseachtain-mura-gcuirtear-cosc-ar-bhreoslai-salacha-i-dtithe-conaithe-foras-croi-na-heireann/',\n",
              " 'http://nos.ie/cultur/ardan/iomlan-na-dticead-do-premiere-fiach-fibin-diolta/',\n",
              " 'http://nos.ie/cultur/ceol/an-bhfuil-tu-ann-a-anam-amhran-nua-eisithe-ag-deorai/',\n",
              " 'http://nos.ie/meain/raidio/cuig-chlar-raidio-san-iomaiocht-do-ghradam-gaeilge-imro/',\n",
              " 'http://nos.ie/saol/bia/aoife-sa-chistin-stroganoff-mairteola/',\n",
              " 'http://nos.ie/cultur/leabhair/an-ceathru-poili-le-hathoscailt-amarach/',\n",
              " 'http://nos.ie/saol/slainte/ioga-le-jenny-ni-ruiseil-beo-ar-instagram-nos-de-haoine/',\n",
              " 'http://nos.ie/cultur/slam-filiochta-liu-lunasa-buaite-ag-sam-o-fearraigh/',\n",
              " 'http://nos.ie/gniomhaiochas/comhshaol/na-tog-cairn-agus-leag-na-cinn-a-fheiceann-tu-an-gael-glas/',\n",
              " 'http://nos.ie/cultur/ardan/baoite-ar-na-dramai-gaeilge-is-fearr-le-fada-an-la/',\n",
              " 'http://nos.ie/gniomhaiochas/comhshaol/gaeltacht-na-gaillimhe-is-mo-i-baol-tuillte-de-bharr-na-heigeandala-aeraide/',\n",
              " 'http://nos.ie/saol/stil/5-thairge-ailleachta-do-2018/',\n",
              " 'http://nos.ie/cultur/ceol/cen-staisiun-raidio-ata-ar-fail-do-country-bumpkins-na-heireann/',\n",
              " 'http://nos.ie/cultur/scannain/5-scannan-uafais-eireannacha-doiche-shamhna-2020/',\n",
              " 'http://nos.ie/saol/bia/aoife-sa-chistin-curai-glas-sicin-sla-kimchi-agus-nudail-rise/',\n",
              " 'http://nos.ie/gniomhaiochas/comhshaol/tus-a-chur-anocht-le-sraith-cainteanna-an-ghaeltacht-faoi-bhlath/',\n",
              " 'http://nos.ie/saol/slainte/na-creid-daoine-a-chuirfeadh-an-dubh-ina-gheal-ort-i-dtaobh-na-vacsaine/',\n",
              " 'http://nos.ie/saol/craiceann/oh-mi-bod-ainm-brea-gaelach-tugtha-i-ngan-a-fhios-ar-bhreagan-gneis/',\n",
              " 'http://nos.ie/fiseain-nos/fisean-draoi-an-daingin/',\n",
              " 'http://nos.ie/meain/teilifis/ceasadh-ata-ann-breathnu-ar-fheasachan-de-chuid-nuacht-tg4-anois/',\n",
              " 'http://nos.ie/saol/craiceann/bhi-se-thar-am-go-bhfreastaloinn-ar-an-oiche-chinceailte-nimhneach/',\n",
              " 'http://nos.ie/saol/bia/aoife-sa-chistin-enchiladas-sicin/',\n",
              " 'http://nos.ie/meain/soisialta/ceardaiocht-le-gearoidin-zip-a-chur-i-mball-eadaigh/',\n",
              " 'http://nos.ie/gniomhaiochas/polaitiocht/grian-ni-dhaimhin-tofa-ina-leas-uachtaran-don-ghaeilge-in-aontas-na-mac-leinn-in-eirinn/',\n",
              " 'http://nos.ie/meain/raidio/colunai-le-nos-ceaptha-ina-thuairisceoir-polaitiochta-le-rnag/',\n",
              " 'http://nos.ie/teic/uasdatu-deanta-ar-an-aip-2kmfromhome-a-leirionn-5km-o-theach-ar-bith-in-eirinn/',\n",
              " 'http://nos.ie/meain/raidio/eist-bunaitheoir-nos-faoi-agallamh-ar-seal-le-sean-raidio-ri-ra/',\n",
              " 'http://nos.ie/meain/soisialta/ceardaiocht-le-gearoidin-bratacha-nollag/',\n",
              " 'http://nos.ie/taisteal/nil-saru-iorrais-aithnigh-le-fail-don-chultur-na-don-teanga-treoir-don-turasoir/',\n",
              " 'http://nos.ie/cultur/ceol/amhranai-conamaraioch-le-cloisteail-ar-amhran-nua-as-an-mbriotain/',\n",
              " 'http://nos.ie/taisteal/camino-cholm-cille-ar-siul-i-ngaeltacht-thir-chonaill/',\n",
              " 'http://nos.ie/teic/ardu-28-ar-ghiolcacha-gaeilge-le-linn-na-dianghlasala-in-eirinn/',\n",
              " 'http://nos.ie/cultur/dearadh/fainne-cladaigh-an-bhroid-ar-fail-direach-in-am-do-mhi-an-bhroid-o-dhearthoir-gaeilge/',\n",
              " 'http://nos.ie/cultur/dearadh/a-mhna-na-heireannmorshaothar-nua-le-ciaraioch/',\n",
              " 'http://nos.ie/gniomhaiochas/polaitiocht/urlabhrai-na-gaeilge-eirithe-as-an-gcomhaontas-glas/',\n",
              " 'http://nos.ie/gniomhaiochas/teanga/tascfhorsa-bunaithe-ag-pobal-bearla-quebec-le-cur-in-aghaidh-reachtaiocht-nua-teanga/',\n",
              " 'http://nos.ie/taisteal/alpacai-badhsaclai-agus-caisleain-abcs-don-turasoir-i-muineachain/',\n",
              " 'http://nos.ie/meain/aiteach-ni-aisteach-ceiliuradh-ar-an-bpobal-ladt-gaelach-i-sraith-nua-ar-bloc/',\n",
              " 'http://nos.ie/gniomhaiochas/fisean-sabhailtear-na-speirini/',\n",
              " 'http://nos.ie/teic/an-emoji-is-coitianta-agus-an-vireas-coronach-a-phle-%f0%9f%98%82/',\n",
              " 'http://nos.ie/taisteal/suil-ag-eireannach-fir-an-tatlantach-a-thrasnu-i-mbad-iomartha/',\n",
              " 'http://nos.ie/saol/10-ceumannan-son-dath-nadarra/',\n",
              " 'http://nos.ie/saol/bia/an-lon-dubh-ar-oscailt-aris/',\n",
              " 'http://nos.ie/saol/craiceann/cumhacht-an-choinin-ranganna-a-thabharfaidh-cumhacht-do-do-phit/',\n",
              " 'http://nos.ie/gniomhaiochas/polaitiocht/beidh-trump-glorach-agus-triobloideach-ar-feadh-na-mblianta-amach-romhainn/',\n",
              " 'http://nos.ie/saol/ceithre-ainm-gaeilge-ar-liosta-na-n-ainmneacha-stoirme-2021-2022/',\n",
              " 'http://nos.ie/saol/slainte/bhi-an-vireas-coronach-orm-linda-ervine/',\n",
              " 'http://nos.ie/saol/bia/aoife-sa-chistin-sailead-halloumi-gridille/',\n",
              " 'http://nos.ie/taisteal/scaitheamh-i-bparoiste-murach-treoir-don-turasoir/',\n",
              " 'http://nos.ie/saol/stil/treochtai-faisin-ata-ag-teacht-chun-cinn-do-2020/',\n",
              " 'http://nos.ie/saol/stil/fisean-aghaidh-leictreach-ailbhe/',\n",
              " 'http://nos.ie/saol/bia/caife-nua-datheangach-ar-oscailt-i-mbaile-atha-cliath/',\n",
              " 'http://nos.ie/gniomhaiochas/polaitiocht/tuige-a-mbeadh-bean-nach-ndearna-rud-ar-bith-as-bealach-nairithe/',\n",
              " 'http://nos.ie/saol/slainte/ta-an-vacsain-faighte-agam-fein-ach-ni-bheadh-me-ar-mo-shuaimhneas-fos-dul-i-measc-na-ndaoine/',\n",
              " 'http://nos.ie/fiseain-nos/freagraimis-an-glaoch-la-an-domhain-2020/',\n",
              " 'http://nos.ie/meain/raidio/fergus-o-hir-le-heiri-as-mar-bhainisteoir-ar-raidio-failte/',\n",
              " 'http://nos.ie/saol/stil/seachtaini-faisin-2018/',\n",
              " 'http://nos.ie/saol/slainte/taim-nairithe-ag-an-gcaoineadh-ata-feicthe-agam-faoi-shrianta-covid/',\n",
              " 'http://nos.ie/cultur/fear-gaeltachta-ainmnithe-do-ghradam-ag-fleadh-scannan-na-gaillimhe/',\n",
              " 'http://nos.ie/gniomhaiochas/teanga/comortas-aistriuchain-an-ae-buaite-ag-cailin-as-gaeltacht-na-gaillimhe/',\n",
              " 'http://nos.ie/cultur/dearadh/gaeil-mhanann-abu/',\n",
              " 'http://nos.ie/fiseain-nos/fisean-padai-o-tiarnaigh-agus-an-dream-dearg/',\n",
              " 'http://nos.ie/cultur/leabhair/an-siopa-leabhar-ar-oscailt-3-la-sa-tseachtain-on-18-bealtaine/',\n",
              " 'http://nos.ie/saol/craiceann/thug-me-ar-ais-chuig-mo-phuball-e/',\n",
              " 'http://nos.ie/cultur/ceol/na-milte-bailithe-ag-beirt-amhranaithe-gaeltachta-ar-son-chumann-alzheimher-na-heireann/',\n",
              " 'http://nos.ie/saol/bia/aoife-sa-chistin-picili-cucamar-agus-oinniun-dearg/',\n",
              " 'http://nos.ie/cultur/ceol/na-tri-scor-bainte-amach-ag-an-amhranai-gaeltachta-enya/',\n",
              " 'http://nos.ie/cultur/ainm-gaeilge-an-t-ainm-is-coitianta-in-23-stat-i-meiricea/',\n",
              " 'http://nos.ie/saol/slainte/brisfidh-tonn-an-cheathru-raig-ar-dhroim-ar-bpaisti/',\n",
              " 'http://nos.ie/teic/glortha-gaeilge-a-lorg-ag-tcd-do-siri-gaeilge/',\n",
              " 'http://nos.ie/cultur/dearadh/mairtin-o-cadhain-breandan-o-beachain-agus-an-bradan-feasa-i-measc-priontai-nua-o-ealaiontoir-gaelach/',\n",
              " 'http://nos.ie/cultur/ceol/boinn-oir-sheain-ui-riada-buaite-ag-fionnuala-donlon-agus-colm-broderick/',\n",
              " 'http://nos.ie/saol/craiceann/ni-bhionn-aon-chraiceann-sa-triomach/',\n",
              " 'http://nos.ie/cultur/ceol/gradam-nos-buaite-ag-eabha-breathnach-ag-scleip-ghael-linn/',\n",
              " 'http://nos.ie/fiseain-nos/fisean-gruaig-na-mban-dubh-le-wuraola-majekodunmi/',\n",
              " 'http://nos.ie/teic/is-fearr-gaeilge-bhriste-na-bearla-cliste-an-cupla-focal-ag-amazon-alexa/',\n",
              " 'http://nos.ie/cultur/leabhair/inphrionta-nua-foilsitheoireachta-don-leitheoir-fasta-bunaithe-ag-futa-fata/',\n",
              " 'http://nos.ie/saol/craiceann/mas-fut-triail-a-bhaint-as-bdsm-fag-fifty-shades-ar-an-tseilf/',\n",
              " 'http://nos.ie/taisteal/aerfort-na-carraige-finne-an-t-aerfort-is-deise-tirdhreach-den-triu-bliain-as-a-cheile/',\n",
              " 'http://nos.ie/meain/teilifis/nil-aon-uaillmhian-ag-stat-na-heireann-i-leith-mheain-chumarsaide-na-gaeilge-esslemont/',\n",
              " 'http://nos.ie/meain/16-ainmniuchan-do-ghaeil-na-heireann-ag-feile-na-mean-ceilteach/',\n",
              " 'http://nos.ie/meain/soisialta/tweetanna-a-seoladh-trasnanadtonnta-den-dara-huair-in-2020/',\n",
              " 'http://nos.ie/saol/craiceann/suil-dhearfach-ar-an-bporn-leis-an-gcailin-sa-chathair/',\n",
              " 'http://nos.ie/meain/gailearai-an-la-deireanach-ag-mts-in-rnag/',\n",
              " 'http://nos.ie/saol/slainte/is-brea-le-gach-duine-graf-deas-ach-bimis-airdeallach-faoi-na-huaireadoiri-cliste/',\n",
              " 'http://nos.ie/saol/craiceann/collaiocht-an-choraintin/',\n",
              " 'http://nos.ie/saol/sport/sos-nollag-danri-o-domhnaill-agus-650km-snafa-aige/',\n",
              " 'http://nos.ie/cultur/feile-an-tsruthain-ar-an-gceathru-rua-agus-imeachtai-eile/',\n",
              " 'http://nos.ie/teic/pictiuir-de-chainteoiri-gaeilge-ar-fud-an-domhain-a-lorg-ag-lucht-trasnanadtonnta/',\n",
              " 'http://nos.ie/gniomhaiochas/teanga/sceim-nua-do-mhic-leinn-gniomhai-gaeilge-le-seoladh-anocht/',\n",
              " 'http://nos.ie/cultur/ardan/glor-na-gaeltachta-le-cur-ar-ardan-digiteach-amharclann-ghaoth-dobhair/',\n",
              " 'http://nos.ie/saol/stil/eadai-spoirt-don-uile-la/',\n",
              " 'http://nos.ie/saol/bia/aoife-sa-chistin-meireangai-le-mus-seaclaide-baine-agus-sioroip-chaife/',\n",
              " 'http://nos.ie/meain/soisialta/na-gaelgals-ag-dul-o-neart-go-neart-agus-forbairti-mora-beartaithe-acu/',\n",
              " 'http://nos.ie/saol/slainte/ni-cathair-mar-a-tuairisc-ospideal-ocht-la-na-sine/',\n",
              " 'http://nos.ie/gniomhaiochas/comhshaol/is-fiu-athruithe-a-dheanamh-i-do-shaol-fein-deich-rud-le-foghlaim-o-thuarascail-an-ipcc/',\n",
              " 'http://nos.ie/saol/bia/ma-ta-oideas-maith-piotsa-uait-faigh-diodalach-fein/',\n",
              " 'http://nos.ie/saol/slainte/is-cosaint-ar-an-nealtru-an-datheangachas-staidear-nua/',\n",
              " 'http://nos.ie/meain/soisialta/baint-ag-na-focail-ghaeilge-is-mo-i-mbeal-an-phobail-ar-line-go-leir-le-covid-19/',\n",
              " 'http://nos.ie/saol/craiceann/na-dean-staisiun-oibre-den-staisiun-collaiochta/',\n",
              " 'http://nos.ie/meain/soisialta/10-mbliana-a-bhunaithe-a-gceiliuradh-ag-lucht-gaeilge-amhain-ar-facebook/',\n",
              " 'http://nos.ie/gniomhaiochas/comhshaol/an-bhfuil-an-tir-seo-reidh-don-eigeangail-aeraide/',\n",
              " 'http://nos.ie/taisteal/ar-lorg-phadraig-naofa-i-ndeisceart-mhaigh-eo/',\n",
              " 'http://nos.ie/cultur/ceol/lanquidity-sun-ra-agus-albaim-eile-na-miosa/',\n",
              " 'http://nos.ie/gniomhaiochas/teanga/an-scribhneoir-agus-gniomhai-teanga-deasun-fennell-ar-shli-na-firinne/',\n",
              " 'http://nos.ie/cultur/ardan/an-leagan-is-samhlaiche-agus-is-cruthaithi-de-macbeth-a-chonaic-me-riamh/',\n",
              " 'http://nos.ie/cultur/aine-ui-fhoghlu-agus-dairena-ni-chinneide-ainmnithe-ina-rion-eigse-ag-eigse-eireann/',\n",
              " 'http://nos.ie/gniomhaiochas/comhshaol/ta-bealai-rothar-beagnach-chomh-maith-ceanna-do-shlainte-an-phobail-is-ata-vacsaini/',\n",
              " 'http://nos.ie/meain/soisialta/diultaithe-ag-cnag-raiteas-a-dheanamh-faoi-fhisean-da-chuid-a-mhaslaigh-caitlicigh/',\n",
              " 'http://nos.ie/saol/craiceann/5-bhronntanas-ghneasula-on-gcailin-sa-chathair/',\n",
              " 'http://nos.ie/cultur/dearadh/learscail-ealaionta-ghaeilge-de-dhoire-deartha-ag-ailtire-og-as-an-gcathair/',\n",
              " 'http://nos.ie/cultur/ardan/hot-mess-na-15u-haoise/',\n",
              " 'http://nos.ie/saol/sport/is-i-aoife-ni-chiobhain-as-corca-dhuibhne-an-duine-is-aclai-sa-ghaeltacht/',\n",
              " 'http://nos.ie/saol/sport/mna-a-lorg-dfhoireann-chispheile-lan-ghaeilge-i-mbaile-atha-cliath/',\n",
              " 'http://nos.ie/cultur/scannain/scannan-tabhachtach-a-chuireann-in-aghaidh-an-aonteangachais-chung-ata-ag-teacht-chun-cinn-i-gceanada/',\n",
              " 'http://nos.ie/gniomhaiochas/ta-dualgas-ar-ghaeil-cheanada-seasamh-le-muintir-na-gcead-naisiun/',\n",
              " 'http://nos.ie/cultur/leabhair/gearrscealta-an-chadhnaigh-le-foilsiu-i-mbearla-san-fhomhar/',\n",
              " 'http://nos.ie/saol/sport/cultur-agus-teanga-a-gcaomhnu-ag-cluichi-oilimpeacha-na-neiscimeach-in-alaska/',\n",
              " 'http://nos.ie/teic/an-ghaeilge-curtha-le-liosta-teangacha-microsoft-translator/',\n",
              " 'http://nos.ie/taisteal/10-rud-le-deanamh-i-gciarrai-don-te-a-bhfuil-seomra-i-gcill-airne-curtha-in-airithe-aige/',\n",
              " 'http://nos.ie/saol/stil/bricini-go-brach/',\n",
              " 'http://nos.ie/cultur/scannain/8-scannan-iontacha-eireannacha-ar-netflix-don-choraintin-mor/',\n",
              " 'http://nos.ie/teic/easpa-bealai-spraiula-le-gaeilge-a-fhoghlaim-a-spreag-aistritheoiri-amongus/',\n",
              " 'http://nos.ie/meain/soisialta/seasann-tg4-lena-chinneadh-abhar-maslach-a-chraoladh-ar-bloc/',\n",
              " 'http://nos.ie/meain/soisialta/ceardaiocht-le-gearoidin-le-filleadh-ar-instagram-nos-trathnona/',\n",
              " 'http://nos.ie/cultur/ceol/rianta-na-miosa-seinnliosta-nos-ar-spotify/',\n",
              " 'http://nos.ie/cultur/is-mithid-finscealta-na-mban-a-insint-ar-bhealach-feimineach/',\n",
              " 'http://nos.ie/gniomhaiochas/snamhfaidh-ceathrar-ban-o-inis-oirr-go-hinis-meain-ar-son-an-rnli-inniu/',\n",
              " 'http://nos.ie/saol/sport/meadu-mor-ar-chludach-pheil-na-mban-ar-tg4/',\n",
              " 'http://nos.ie/meain/leaba-an-bhais-agus-ros-na-run-ainmnithe-do-ghradaim-chuallacht-scribhneoiri-na-heireann/',\n",
              " 'http://nos.ie/cultur/leabhair/an-siopa-leabhar-ar-oscailt-cuig-la-sa-tseachtain-on-1-iuil/',\n",
              " 'http://nos.ie/gniomhaiochas/am-ann-go-foill-tacu-le-cunamh-iveragh-in-uibh-rathach/',\n",
              " 'http://nos.ie/cultur/ceol/rianta-na-miosa-marta-aibrean/',\n",
              " 'http://nos.ie/saol/stil/mura-bhfeiceann-duine-ar-bith-doutfit-nua-arbh-fhiu-e-a-cheannach/',\n",
              " 'http://nos.ie/gniomhaiochas/teanga/cainteoiri-gaeilge-as-beal-feirste-agus-bac-a-lorg-le-haghaidh-taighde/',\n",
              " 'http://nos.ie/fiseain-nos/fisean-ta-pobal-leitheoireachta-gaeilge-anois-ann-i-measc-paisti-myra-zepf/',\n",
              " 'http://nos.ie/cultur/ceol/i-would-not-live-always-agus-albaim-eile-na-miosa/',\n",
              " 'http://nos.ie/gniomhaiochas/polaitiocht/an-lion-is-mo-bunduchasach-riamh-tofa-chun-comhdhail-na-stat-aontaithe/',\n",
              " 'http://nos.ie/fiseain-nos/fisean-geilleann-solas-geal-an-lae-do-dhorchacht-dhubh-oiche-shamhna/',\n",
              " 'http://nos.ie/teic/ainm-gaeilge-tugtha-ar-an-gcarr-leictreach-is-tapula-riamh/',\n",
              " 'http://nos.ie/saol/sport/ni-fheiceann-covid-inscne-agus-nior-cheart-do-lucht-pheil-na-mban-e-a-fheiceail-ach-oiread/',\n",
              " 'http://nos.ie/cultur/ardan/tit-i-ngra-le-redemption-falls/',\n",
              " 'http://nos.ie/taisteal/na-fag-ciarrai-gan-snamh-i-ros-beithe-treoir-don-turasoir/',\n",
              " 'http://nos.ie/fiseain-nos/fisean-le-cheile-is-feidir-linn-an-stiogma-a-bhriseadh/',\n",
              " 'http://nos.ie/gniomhaiochas/comhshaol/fag-faoi-na-sioga-a-ndoirse-fein-a-dheanamh/',\n",
              " 'http://nos.ie/taisteal/nach-bhfuil-gach-aon-ait-saghas-mar-a-cheile-na-laethanta-seo/',\n",
              " 'http://nos.ie/teic/casfar-rotha-bitcoin-in-athuair/',\n",
              " 'http://nos.ie/cultur/ardan/airnean-arann-ar-siul-amarach-sa-taibhdhearc/',\n",
              " 'http://nos.ie/meain/soisialta/ceardaiocht-le-gearoidin-fuail-stoca-nollag/',\n",
              " 'http://nos.ie/meain/soisialta/ceardaiocht-le-gearoidin-an-lamhfhuail/',\n",
              " 'http://nos.ie/meain/teilifis/cas-na-mbeach-curtha-i-lathair-go-brea-soileir-ar-plean-bee-tg4/',\n",
              " 'http://nos.ie/meain/soisialta/ceardaiocht-le-gearoidin-canai-candai-cniotailte-don-chrann-nollag/',\n",
              " 'http://nos.ie/gniomhaiochas/comhshaol/ta-cathair-nua-ag-teastail-o-oige-bac-ba-cheart-i-a-thabhairt-doibh/',\n",
              " 'http://nos.ie/cultur/scannain/aisteoiri-breise-in-arainn-agus-acaill-a-lorg-do-scannan-nua-colin-farrell/',\n",
              " 'http://nos.ie/meain/raidio/tus-a-chur-le-sraith-nua-don-chead-ghluin-eile-ar-rte-rnag-inniu/',\n",
              " 'http://nos.ie/meain/raidio/damien-o-donaill-ceaptha-ina-bhainisteoir-reigiuin-sna-doiri-beaga-ag-rnag/',\n",
              " 'http://nos.ie/gniomhaiochas/teanga/coiste-na-breataine-le-bunu-ag-conradh-na-gaeilge/',\n",
              " 'http://nos.ie/cultur/leabhair/ross-ocarroll-kelly-le-himirt-do-clg-an-ghaeltacht/',\n",
              " 'http://nos.ie/saol/slainte/ta-an-iomarca-againn-fos-ag-diriu-ar-mhioncheisteanna-seafoideacha-faoi-na-srianta/',\n",
              " 'http://nos.ie/saol/sport/peil-astralach-na-mban-le-craoladh-ar-tg4/',\n",
              " 'http://nos.ie/cultur/dearadh/na-cartai-nollag-gaeilge-is-fearr-linn/',\n",
              " 'http://nos.ie/saol/sport/cumann-nua-reatha-do-ghaeil-chorcai/',\n",
              " 'http://nos.ie/cultur/picnic-bhrod-na-gaillimhe-agus-imeachtai-eile/',\n",
              " 'http://nos.ie/taisteal/seoidin-i-dtuaisceart-na-heireann-i-doire-treoir-don-turasoir/',\n",
              " 'http://nos.ie/meain/soisialta/an-4000000u-tweet-i-ngaeilge-seolta-ag-sagart-gaeltachta/',\n",
              " 'http://nos.ie/cultur/scannain/na-scannain-is-fiu-a-fheiceail-in-2021/',\n",
              " 'http://nos.ie/saol/stil/grian-an-gheimhridh/',\n",
              " 'http://nos.ie/saol/craiceann/leiriu-ar-phobal-briomhar-aiteach-i-bpobal-na-gaeilge-a-bhi-in-dana/',\n",
              " 'http://nos.ie/saol/slainte/nios-mo-daoine-basaithe-de-dheasca-covid-19-na-mar-a-maraiodh-le-linn-na-dtriobloidi/',\n",
              " 'http://nos.ie/saol/stil/cuig-shiopa-iontacha-eireannacha-ar-depop/',\n",
              " 'http://nos.ie/gniomhaiochas/teanga/32-comhlacht-agus-eagraiocht-ainmnithe-do-ghradaim-sheosaimh-ui-ogartaigh/',\n",
              " 'http://nos.ie/cultur/ardan/rannphairtithe-a-lorg-don-chead-chluiche-snatch-i-ngaeilge/',\n",
              " 'http://nos.ie/cultur/ceol/fisean/',\n",
              " 'http://nos.ie/meain/raidio/fearg-agus-dioma-faoi-agallamh-ar-rnag-ina-ndearnadh-beag-is-fiu-dimni-fir-aeraigh/',\n",
              " 'http://nos.ie/saol/se-leid-don-duine-a-thosoidh-ar-an-gcolaiste-an-mhi-seo/',\n",
              " 'http://nos.ie/cultur/rianta-na-miosa-meitheamh/',\n",
              " 'http://nos.ie/taisteal/la-i-gcorca-dhuibhne-treoir-don-turasoir/',\n",
              " 'http://nos.ie/teic/sin-nuacht-iontach-freagra-gaeilge-o-dara-o-briain-ar-an-sceala-gur-ainmniodh-astaroideach-as/',\n",
              " 'http://nos.ie/cultur/scannain/fuarthas-reidh-le-chuile-short-a-bhi-go-maith-faoin-leabhar-artemis-fowl/',\n",
              " 'http://nos.ie/gniomhaiochas/polaitiocht/la-na-cinniuna-faoin-gcannabas-dleathach-ag-druidim-le-muintir-aotearoa/',\n",
              " 'http://nos.ie/cultur/ceol/rianta-na-miosa-bealtaine-2/',\n",
              " 'http://nos.ie/gniomhaiochas/comhshaol/samhlaigi-aiteanna-breatha-gaeltachta-faoin-bhfarraige/',\n",
              " 'http://nos.ie/saol/craiceann/ni-haon-chur-i-gceill-i-an-t-oideachasoir-collaiochta-jenny-keane/',\n",
              " 'http://nos.ie/saol/craiceann/caith-uait-an-cucamar-agus-tabhair-aire-na-banriona-do-do-phit/',\n",
              " 'http://nos.ie/gniomhaiochas/teanga/ardoifig-cnag-le-haistriu-go-conamara-agus-leabharlann-agus-musaem-gaeilge-le-cur-ar-shraid-fhearchair/',\n",
              " 'http://nos.ie/taisteal/e215000-curtha-ar-fail-do-shli-idirnaisiunta-shiuil-i-ngaeltacht-dhun-na-ngall/',\n",
              " 'http://nos.ie/gniomhaiochas/comhshaol/nil-neart-agamsa-ar-an-ola-leanfaidh-me-orm-le-mo-shoipin-paipeir/',\n",
              " 'http://nos.ie/saol/craiceann/bronntanais-ghneasacha-moltai-an-chailin-sa-chathair/',\n",
              " 'http://nos.ie/cultur/dearadh/gile-bri-agus-anam-curtha-i-gcorca-dhuibhne-ag-ealaiontoir-og-as-an-min-aird/',\n",
              " 'http://nos.ie/saol/bia/an-fuisce-is-fearr-ar-domhan-a-dhriogadh-ag-duibhneach/',\n",
              " 'http://nos.ie/cultur/scannain/finky-ryans-daughter-agus-lego-ninjago-as-gaeilge-sceideal-scannan-na-nollag-fogartha-ag-tg4/',\n",
              " 'http://nos.ie/gniomhaiochas/comhshaol/coup-de-grace-do-go-leor-teangacha-a-bheidh-san-athru-aeraide/',\n",
              " 'http://nos.ie/cultur/ceol/color-de-tropica-vol-2-agus-albaim-eile-na-miosa/',\n",
              " 'http://nos.ie/meain/raidio/buaic-ghradam-cumarsaide-an-oireachtais-le-bronnadh-ar-aine-ni-churrain/',\n",
              " 'http://nos.ie/saol/slainte/fisean-ag-tabhairt-aire-do-do-mheabhairshlainte-le-linn-na-paindeime/',\n",
              " 'http://nos.ie/saol/afra-eire-daoine-oga-i-luimneach-a-lorg-ag-gorm-media-do-chlar-nua/',\n",
              " 'http://nos.ie/saol/stil/fisean-ceacht-feiltiuil-smididh/',\n",
              " 'http://nos.ie/cultur/ceol/cracks-agus-albaim-eile-na-miosa/',\n",
              " 'http://nos.ie/cultur/dearadh/comortas-cartai-nollag-o-leim-thart-le-buachan/',\n",
              " 'http://nos.ie/saol/bia/__trashed-2/',\n",
              " 'http://nos.ie/saol/bia/aoife-sa-chistin-curai-sicin-ime/',\n",
              " 'http://nos.ie/cultur/ardan/salomae-ar-ardan-na-taibhdheirce/',\n",
              " 'http://nos.ie/gniomhaiochas/teanga/focloir-caintise-le-seoladh-amarach/',\n",
              " 'http://nos.ie/saol/stil/lost-stock-rogha-eiticiuil-siopadoireachta-ar-line/',\n",
              " 'http://nos.ie/saol/stil/smideadh-doiche-shamha/',\n",
              " 'http://nos.ie/saol/stil/veilbhit-di-do/',\n",
              " 'http://nos.ie/saol/bia/aoife-sa-chistin-colmoir-le-dahl/',\n",
              " 'http://nos.ie/cultur/ardan/baoite-in-amharclann-na-peacoige/',\n",
              " 'http://nos.ie/meain/raidio/drama-gaeilge-ar-an-ngearrliosta-do-ghradam-bbc/',\n",
              " 'http://nos.ie/cultur/scannain/premiere-mheiricea-arracht-le-bheith-ag-feile-scannan-nashville/',\n",
              " 'http://nos.ie/gniomhaiochas/teanga/ba-cheart-cosaint-speisialta-a-thabhairt-don-fhocal-gaeltacht/',\n",
              " 'http://nos.ie/gniomhaiochas/teanga/iarrachtai-ar-bun-yr-wyddfa-a-chur-chun-cinn-in-ait-snowdon/',\n",
              " 'http://nos.ie/teic/coroinvireas-an-focal-is-mo-a-bhfuil-borradh-faoi-ar-line-in-2020/',\n",
              " 'http://nos.ie/saol/sport/rith-5km-shin-sheain-ar-siul-ar-fud-na-gaeltachta-amarach/',\n",
              " 'http://nos.ie/cultur/leabhair/is-rialacha-breagacha-gan-bhunus-iad-cuid-de-na-rialacha-gramadai/',\n",
              " 'http://nos.ie/cultur/leabhair/moladh-mor-ag-dul-do-blindboy-as-an-laimh-a-bhi-aige-in-athmhuscailt-an-tsaothair-thabhachtaigh-seo/',\n",
              " 'http://nos.ie/saol/faoi-cheann-coicise-beidh-me-sa-fhrainc-agus-beidh-chuile-short-ina-cheart/',\n",
              " 'http://nos.ie/saol/sport/bonn-oir-buaite-ag-gael-aitheanta-i-gcomortas-naisiunta-luthchleasa-mheiricea/',\n",
              " 'http://nos.ie/gniomhaiochas/polaitiocht/ni-feiniulacht-gheiniteach-i-an-ceilteachas-ollscoil-harvard/',\n",
              " 'http://nos.ie/meain/soisialta/sainti-curtha-ar-an-mbiachlar-don-nollaig-ag-parlaimint-na-halban/',\n",
              " 'http://nos.ie/fiseain-nos/fisean-la-domhanda-na-siochana-agallamh-le-hoifigeach-cosanta-na-naisiun-aontaithe/',\n",
              " 'http://nos.ie/saol/craiceann/bhi-briongloid-ag-an-gcailin-sa-chathair/',\n",
              " 'http://nos.ie/gniomhaiochas/polaitiocht/ta-an-chomparaid-idir-cas-na-ngael-agus-cas-an-phobail-ghoirm-baili/',\n",
              " 'http://nos.ie/saol/teastaionn-cuarbhothar-i-ngaillimh/',\n",
              " 'http://nos.ie/cultur/ardan/chun-na-pictiurlainne-aris-le-dreamgun-film-reads/',\n",
              " 'http://nos.ie/cultur/dearadh/ce-a-labhraionn-an-ghaeilge-sa-la-ata-inniu-ann/',\n",
              " 'http://nos.ie/saol/slainte/shilfea-nach-bhfuil-i-mbean-ach-soitheach-le-coinneail-glan/',\n",
              " 'http://nos.ie/cultur/taibheoiri-a-lorg-do-phuball-gaeltachta-fheile-ghaelach-milwaukee/',\n",
              " 'http://nos.ie/gniomhaiochas/polaitiocht/is-cuis-choir-cheart-i-cuis-na-bpalaistineach-seasaimis-leo/',\n",
              " 'http://nos.ie/fiseain-nos/fisean-ag-dul-i-ngleic-leis-an-ghearcheim-mheabhairshlainte-o-thuaidh/']"
            ]
          },
          "metadata": {},
          "execution_count": 24
        }
      ]
    }
  ]
}