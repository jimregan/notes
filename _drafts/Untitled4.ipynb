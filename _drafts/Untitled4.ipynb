{
 "cells": [
  {
   "cell_type": "code",
   "execution_count": 1,
   "metadata": {},
   "outputs": [
    {
     "name": "stdout",
     "output_type": "stream",
     "text": [
      "Defaulting to user installation because normal site-packages is not writeable\n",
      "Collecting mosestokenizer\n",
      "  Downloading mosestokenizer-1.2.1.tar.gz (37 kB)\n",
      "Requirement already satisfied: docopt in /usr/local/lib/python3.6/dist-packages (from mosestokenizer) (0.6.2)\n",
      "Collecting openfile\n",
      "  Downloading openfile-0.0.7-py3-none-any.whl (2.4 kB)\n",
      "Collecting uctools\n",
      "  Downloading uctools-1.3.0.tar.gz (4.6 kB)\n",
      "Collecting toolwrapper\n",
      "  Downloading toolwrapper-2.1.0.tar.gz (3.2 kB)\n",
      "Building wheels for collected packages: mosestokenizer, toolwrapper, uctools\n",
      "  Building wheel for mosestokenizer (setup.py) ... \u001b[?25ldone\n",
      "\u001b[?25h  Created wheel for mosestokenizer: filename=mosestokenizer-1.2.1-py3-none-any.whl size=49188 sha256=229dee068b627738bf756f58559816a32dfdd97d3bd4eae29659933884a62d66\n",
      "  Stored in directory: /home/jim/.cache/pip/wheels/14/98/78/29b22cc372fc9a2777654deb45c36a87b6bed63c4d4792d960\n",
      "  Building wheel for toolwrapper (setup.py) ... \u001b[?25ldone\n",
      "\u001b[?25h  Created wheel for toolwrapper: filename=toolwrapper-2.1.0-py3-none-any.whl size=3354 sha256=95c1ec4471d7b73012c133b19485a6eef5c67ef8fb651efaf1c469a32a4ab2c8\n",
      "  Stored in directory: /home/jim/.cache/pip/wheels/fe/fe/d3/e07660b9bbcf584e855c142709ca143760935a0f4cfca7582f\n",
      "  Building wheel for uctools (setup.py) ... \u001b[?25ldone\n",
      "\u001b[?25h  Created wheel for uctools: filename=uctools-1.3.0-py3-none-any.whl size=6163 sha256=21313104ecdccf6c9ea8e140b82f8b8641bda724e76c1f63481e85a8ebc7d075\n",
      "  Stored in directory: /home/jim/.cache/pip/wheels/22/cc/6d/f0197ba6334169f56f7f03e50190bc6e6be12a680d94f6c171\n",
      "Successfully built mosestokenizer toolwrapper uctools\n",
      "Installing collected packages: uctools, toolwrapper, openfile, mosestokenizer\n",
      "Successfully installed mosestokenizer-1.2.1 openfile-0.0.7 toolwrapper-2.1.0 uctools-1.3.0\n",
      "\u001b[33mWARNING: You are using pip version 21.2.4; however, version 21.3.1 is available.\n",
      "You should consider upgrading via the '/usr/bin/python3 -m pip install --upgrade pip' command.\u001b[0m\n"
     ]
    }
   ],
   "source": [
    "!pip install mosestokenizer"
   ]
  },
  {
   "cell_type": "code",
   "execution_count": 2,
   "metadata": {},
   "outputs": [],
   "source": [
    "from datasets import load_dataset"
   ]
  },
  {
   "cell_type": "code",
   "execution_count": 3,
   "metadata": {},
   "outputs": [
    {
     "name": "stderr",
     "output_type": "stream",
     "text": [
      "Reusing dataset foinse_dataset (/home/jim/.cache/huggingface/datasets/foinse_dataset/documents/1.1.0/1f38b24860415793797d1e25734a8f044b0621b08c7618392c4aae9740097b34)\n"
     ]
    }
   ],
   "source": [
    "foinse = load_dataset(\"jimregan/foinse\", \"documents\")"
   ]
  },
  {
   "cell_type": "code",
   "execution_count": 4,
   "metadata": {},
   "outputs": [
    {
     "data": {
      "text/plain": [
       "DatasetDict({\n",
       "    train: Dataset({\n",
       "        features: ['title', 'url', 'author', 'date_text', 'text', 'category', 'subcategory', 'summary'],\n",
       "        num_rows: 4283\n",
       "    })\n",
       "})"
      ]
     },
     "execution_count": 4,
     "metadata": {},
     "output_type": "execute_result"
    }
   ],
   "source": [
    "foinse"
   ]
  },
  {
   "cell_type": "code",
   "execution_count": null,
   "metadata": {},
   "outputs": [
    {
     "name": "stdout",
     "output_type": "stream",
     "text": [
      "Downloading and preparing dataset foinse_dataset/paragraphs (download: Unknown size, generated: Unknown size, post-processed: Unknown size, total: Unknown size) to /home/jim/.cache/huggingface/datasets/foinse_dataset/paragraphs/1.1.0/1f38b24860415793797d1e25734a8f044b0621b08c7618392c4aae9740097b34...\n"
     ]
    },
    {
     "data": {
      "application/vnd.jupyter.widget-view+json": {
       "model_id": "c76f5f1aeb294508880c527f15d3d51c",
       "version_major": 2,
       "version_minor": 0
      },
      "text/plain": [
       "0 examples [00:00, ? examples/s]"
      ]
     },
     "metadata": {},
     "output_type": "display_data"
    }
   ],
   "source": [
    "foinse = load_dataset(\"jimregan/foinse\", \"paragraphs\")"
   ]
  }
 ],
 "metadata": {
  "kernelspec": {
   "display_name": "Python 3",
   "language": "python",
   "name": "python3"
  },
  "language_info": {
   "codemirror_mode": {
    "name": "ipython",
    "version": 3
   },
   "file_extension": ".py",
   "mimetype": "text/x-python",
   "name": "python",
   "nbconvert_exporter": "python",
   "pygments_lexer": "ipython3",
   "version": "3.6.9"
  }
 },
 "nbformat": 4,
 "nbformat_minor": 2
}
