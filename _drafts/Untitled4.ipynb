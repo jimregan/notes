{
  "nbformat": 4,
  "nbformat_minor": 0,
  "metadata": {
    "colab": {
      "name": "Untitled4.ipynb",
      "provenance": []
    },
    "kernelspec": {
      "name": "python3",
      "display_name": "Python 3"
    },
    "language_info": {
      "name": "python"
    }
  },
  "cells": [
    {
      "cell_type": "code",
      "metadata": {
        "id": "jDm5RtZ5IzkE"
      },
      "source": [
        "sample = 'http://nos.ie/cultur/scannain/fisean-out-of-innocence-agallamh-le-heoin-o-dubhghaill/'"
      ],
      "execution_count": 37,
      "outputs": []
    },
    {
      "cell_type": "code",
      "metadata": {
        "id": "jn5pnPiHJC0L"
      },
      "source": [
        "import requests\n",
        "from bs4 import BeautifulSoup"
      ],
      "execution_count": 1,
      "outputs": []
    },
    {
      "cell_type": "code",
      "metadata": {
        "id": "uubriiaSJDZT"
      },
      "source": [
        "page = requests.get(sample)"
      ],
      "execution_count": 40,
      "outputs": []
    },
    {
      "cell_type": "code",
      "metadata": {
        "id": "vgvfobQFJIOj"
      },
      "source": [
        "soup = BeautifulSoup(page.text, 'lxml')"
      ],
      "execution_count": 41,
      "outputs": []
    },
    {
      "cell_type": "code",
      "metadata": {
        "id": "6hi0EmFeJLcq"
      },
      "source": [
        "vid = soup.find('div', {'id', 'video-wrapper'})"
      ],
      "execution_count": 5,
      "outputs": []
    },
    {
      "cell_type": "code",
      "metadata": {
        "colab": {
          "base_uri": "https://localhost:8080/",
          "height": 35
        },
        "id": "KmyIk97kJaRF",
        "outputId": "9c964efa-17f9-4b64-a38b-9d8124de0f91"
      },
      "source": [
        "_get_video(soup)"
      ],
      "execution_count": 51,
      "outputs": [
        {
          "output_type": "execute_result",
          "data": {
            "application/vnd.google.colaboratory.intrinsic+json": {
              "type": "string"
            },
            "text/plain": [
              "'https://www.youtube.com/embed/lXr1QZPY7aY'"
            ]
          },
          "metadata": {},
          "execution_count": 51
        }
      ]
    },
    {
      "cell_type": "code",
      "metadata": {
        "id": "JqXu226qJm0a"
      },
      "source": [
        "def _get_video(soup):\n",
        "    vid = soup.find('div', {'id': 'video-wrapper'})\n",
        "    if vid:\n",
        "        iframe = vid.find('iframe')\n",
        "        if iframe:\n",
        "            return iframe.get('src', '')\n",
        "    return ''"
      ],
      "execution_count": 50,
      "outputs": []
    },
    {
      "cell_type": "code",
      "metadata": {
        "id": "Ue7z2Fh5Jt1u"
      },
      "source": [
        "def _get_details(soup):\n",
        "    details = {}\n",
        "    pubdet = soup.find(\"div\", {\"id\": \"single-publish-details\"})\n",
        "    ptags = [p for p in pubdet.find_all('p')]\n",
        "    if ptags[0].b:\n",
        "        details['author'] = ptags[0].b.get_text(strip=True)\n",
        "    if ptags[1]:\n",
        "        details['date'] = ptags[1].get_text(strip=True)\n",
        "    broll = pubdet.find(\"div\", {\"class\": \"blogroll-tag-category\"})\n",
        "    cats = set()\n",
        "    for cat in broll.find_all(\"a\", {\"class\": \"featured-category\"}):\n",
        "        if cat.get_text(strip=True) != \"\":\n",
        "            cats.add(cat.get_text(strip=True))\n",
        "    if len(cats) > 0:\n",
        "        details['categories'] = list(cats)\n",
        "\n",
        "    tags = set()\n",
        "    for tag in broll.find_all(\"a\", {\"class\": \"featured-tag\"}):\n",
        "        if tag.get_text(strip=True) != \"\":\n",
        "            tags.add(tag.get_text(strip=True))\n",
        "    if len(tags) > 0:\n",
        "        details['tags'] = list(tags)\n",
        "    return details"
      ],
      "execution_count": 79,
      "outputs": []
    },
    {
      "cell_type": "code",
      "metadata": {
        "colab": {
          "base_uri": "https://localhost:8080/",
          "height": 35
        },
        "id": "TsXlTx89J02q",
        "outputId": "ed176325-00ba-46c8-d056-5acc51fa2020"
      },
      "source": [
        "_get_subhead(soup)"
      ],
      "execution_count": 86,
      "outputs": [
        {
          "output_type": "execute_result",
          "data": {
            "application/vnd.google.colaboratory.intrinsic+json": {
              "type": "string"
            },
            "text/plain": [
              "''"
            ]
          },
          "metadata": {},
          "execution_count": 86
        }
      ]
    },
    {
      "cell_type": "code",
      "metadata": {
        "id": "2j2waN-FKgl3"
      },
      "source": [
        "def _get_subhead(soup):\n",
        "    out = []\n",
        "    content = soup.find(\"div\", {\"id\": \"single-area-center\"})\n",
        "    if content.h1 and content.h1.span:\n",
        "        return content.h1.span.get_text(strip=True)\n",
        "    else:\n",
        "        return ''"
      ],
      "execution_count": 81,
      "outputs": []
    },
    {
      "cell_type": "code",
      "metadata": {
        "id": "Bk1WA-ZJLrvf"
      },
      "source": [
        "def _mksoup(url):\n",
        "    page = requests.get(url)\n",
        "    soup = BeautifulSoup(page.text, 'lxml')\n",
        "    return soup"
      ],
      "execution_count": 83,
      "outputs": []
    },
    {
      "cell_type": "code",
      "metadata": {
        "id": "T8-azCbvxhV7"
      },
      "source": [
        "def _read_menu():\n",
        "    page = requests.get(\"http://nos.ie/\")\n",
        "    soup = BeautifulSoup(page.text, 'lxml')\n",
        "    menu = soup.find(\"ul\", {\"id\": \"menu-main-menu\"})\n",
        "    cat_pages = set()\n",
        "    for li in menu.find_all(\"li\"):\n",
        "        if li.a:\n",
        "            cat_pages.add(li.a['href'])\n",
        "    return cat_pages"
      ],
      "execution_count": 2,
      "outputs": []
    },
    {
      "cell_type": "code",
      "metadata": {
        "id": "0soomNSCXaFe"
      },
      "source": [
        "links = _read_menu()"
      ],
      "execution_count": 5,
      "outputs": []
    },
    {
      "cell_type": "code",
      "metadata": {
        "id": "DdkOM0AsX3Dv"
      },
      "source": [
        "a = _get_article_list(links)"
      ],
      "execution_count": null,
      "outputs": []
    },
    {
      "cell_type": "code",
      "metadata": {
        "colab": {
          "base_uri": "https://localhost:8080/"
        },
        "id": "hCcoqNnpd3OT",
        "outputId": "68472516-b397-4daa-e769-eb282af72bb2"
      },
      "source": [
        ""
      ],
      "execution_count": 14,
      "outputs": [
        {
          "output_type": "execute_result",
          "data": {
            "text/plain": [
              "4138"
            ]
          },
          "metadata": {},
          "execution_count": 14
        }
      ]
    },
    {
      "cell_type": "code",
      "metadata": {
        "colab": {
          "base_uri": "https://localhost:8080/"
        },
        "id": "ArzMYZNUYuS4",
        "outputId": "9c3a74eb-6b4c-4457-f937-6c4dd3c1faa2"
      },
      "source": [
        "len(a)"
      ],
      "execution_count": 11,
      "outputs": [
        {
          "output_type": "execute_result",
          "data": {
            "text/plain": [
              "296"
            ]
          },
          "metadata": {},
          "execution_count": 11
        }
      ]
    },
    {
      "cell_type": "code",
      "metadata": {
        "id": "8GwDDJmjKQHA"
      },
      "source": [
        "def _get_article_list(urls):\n",
        "    rest = set()\n",
        "    articles = set()\n",
        "    for url in urls:\n",
        "        page = requests.get(url)\n",
        "        soup = BeautifulSoup(page.text, 'lxml')\n",
        "        new = _get_remainder(soup)\n",
        "        rest = rest.union(new)\n",
        "        art = _collect_articles(soup)\n",
        "        articles = articles.union(art)\n",
        "    for url in rest:\n",
        "        page = requests.get(url)\n",
        "        soup = BeautifulSoup(page.text, 'lxml')\n",
        "        art = _collect_articles(soup)\n",
        "        articles = articles.union(art)\n",
        "    return list(articles)        "
      ],
      "execution_count": 12,
      "outputs": []
    },
    {
      "cell_type": "code",
      "metadata": {
        "id": "UdxpCfs23MyF"
      },
      "source": [
        "def _get_remainder(soup):\n",
        "    import re\n",
        "    pagination = soup.find(\"div\", {\"class\": \"pagination\"})\n",
        "    if not pagination:\n",
        "        return []\n",
        "    current = pagination.find(\"span\", {\"class\": \"current\"})\n",
        "    if not (current and current.get_text(strip=True) == \"1\"):\n",
        "        return []\n",
        "    cats = [a for a in pagination.find_all('a')]\n",
        "    last_cat = cats[-1]\n",
        "    last_url = last_cat.get('href', '')\n",
        "    if not last_url:\n",
        "        return []\n",
        "    print(last_url)\n",
        "    m = re.match(\"(.*/)([0-9]+)/$\", last_url)\n",
        "    if not m:\n",
        "        return []\n",
        "    base = m.group(1)\n",
        "    num = int(m.group(2)) + 1\n",
        "    return [f'{base}{i}/' for i in range(2, num)]\n"
      ],
      "execution_count": 3,
      "outputs": []
    },
    {
      "cell_type": "code",
      "metadata": {
        "id": "10PQuCIj__L8"
      },
      "source": [
        "def _collect_articles(soup):\n",
        "    out = set()\n",
        "    for art in soup.find_all(\"article\", {\"class\": \"blogroll-post\"}):\n",
        "        a = art.find('a')\n",
        "        out.add(a.get('href'))\n",
        "    return list(out)"
      ],
      "execution_count": 9,
      "outputs": []
    },
    {
      "cell_type": "code",
      "metadata": {
        "id": "GF5ptV8m7Iud"
      },
      "source": [
        "top = _read_menu()"
      ],
      "execution_count": 17,
      "outputs": []
    },
    {
      "cell_type": "code",
      "metadata": {
        "id": "mZls6rhX8b_b"
      },
      "source": [
        "page = requests.get(\"http://nos.ie/category/cultur/ceol/\")\n",
        "soup = BeautifulSoup(page.text, 'lxml')\n",
        "_collect_articles(soup)"
      ],
      "execution_count": null,
      "outputs": []
    },
    {
      "cell_type": "code",
      "metadata": {
        "id": "_8vYXXge7S-E"
      },
      "source": [
        "arts = _get_article_list(top)"
      ],
      "execution_count": 23,
      "outputs": []
    }
  ]
}