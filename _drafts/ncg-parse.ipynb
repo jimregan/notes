{
  "nbformat": 4,
  "nbformat_minor": 0,
  "metadata": {
    "colab": {
      "name": "ncg-parse.ipynb",
      "provenance": []
    },
    "kernelspec": {
      "name": "python3",
      "display_name": "Python 3"
    },
    "language_info": {
      "name": "python"
    }
  },
  "cells": [
    {
      "cell_type": "code",
      "metadata": {
        "id": "VA5toAqzy7gp"
      },
      "source": [
        "from bs4 import BeautifulSoup\n",
        "\n",
        "soup = BeautifulSoup(sample, 'html.parser')\n"
      ],
      "execution_count": 13,
      "outputs": []
    },
    {
      "cell_type": "code",
      "metadata": {
        "id": "qztVZzNTzRQB"
      },
      "source": [
        "def _get_title(soup):\n",
        "  #tstmt = soup.find(\"titleStmt\")\n",
        "  title = soup.find(\"title\")\n",
        "  if title.text and title.text.strip() != \"\":\n",
        "    return title.text.strip()"
      ],
      "execution_count": 18,
      "outputs": []
    },
    {
      "cell_type": "code",
      "metadata": {
        "id": "r7V9XHPW06wo"
      },
      "source": [
        "def _get_author(soup):\n",
        "  author = soup.find(\"author\")\n",
        "  if author.text and author.text.strip() != \"\":\n",
        "    return author.text.strip()"
      ],
      "execution_count": 20,
      "outputs": []
    },
    {
      "cell_type": "code",
      "metadata": {
        "id": "56C4GhUs1F0h"
      },
      "source": [
        "def _get_creation(soup):\n",
        "  creation = soup.find(\"creation\")\n",
        "  if creation.text and creation.text.strip() != \"\":\n",
        "    return creation.text.strip()"
      ],
      "execution_count": 22,
      "outputs": []
    },
    {
      "cell_type": "code",
      "metadata": {
        "id": "huTGGKZVzT9x"
      },
      "source": [
        "def _get_paragraphs(soup):\n",
        "  import re\n",
        "  out = []\n",
        "  body = soup.find('body')\n",
        "  for p in body.find_all('p'):\n",
        "    text = p.text.strip()\n",
        "    text = text.replace('\\n', ' ')\n",
        "    text = re.sub('  +', ' ', text)\n",
        "    if text:\n",
        "      out.append(text)\n",
        "  return out"
      ],
      "execution_count": 9,
      "outputs": []
    },
    {
      "cell_type": "code",
      "metadata": {
        "id": "yt6kZZ2hz4lk"
      },
      "source": [
        "def _get_categories(text):\n",
        "  import re\n",
        "  out = []\n",
        "  for cat in re.findall('<catRef target=\"([^\"]+)\">', text):\n",
        "    out.append(cat)\n",
        "  return out"
      ],
      "execution_count": 51,
      "outputs": []
    }
  ]
}