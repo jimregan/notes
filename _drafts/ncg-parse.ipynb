{
 "cells": [
  {
   "cell_type": "code",
   "execution_count": 13,
   "metadata": {
    "id": "VA5toAqzy7gp"
   },
   "outputs": [],
   "source": [
    "from bs4 import BeautifulSoup\n",
    "\n",
    "soup = BeautifulSoup(sample, 'html.parser')"
   ]
  },
  {
   "cell_type": "code",
   "execution_count": 18,
   "metadata": {
    "id": "qztVZzNTzRQB"
   },
   "outputs": [],
   "source": [
    "def _get_title(soup):\n",
    "  title = soup.find(\"title\")\n",
    "  if title.text and title.text.strip() != \"\":\n",
    "    return title.text.strip()"
   ]
  },
  {
   "cell_type": "code",
   "execution_count": 20,
   "metadata": {
    "id": "r7V9XHPW06wo"
   },
   "outputs": [],
   "source": [
    "def _get_author(soup):\n",
    "  author = soup.find(\"author\")\n",
    "  if author.text and author.text.strip() != \"\":\n",
    "    return author.text.strip()"
   ]
  },
  {
   "cell_type": "code",
   "execution_count": 22,
   "metadata": {
    "id": "56C4GhUs1F0h"
   },
   "outputs": [],
   "source": [
    "def _get_creation(soup):\n",
    "  creation = soup.find(\"creation\")\n",
    "  if creation.text and creation.text.strip() != \"\":\n",
    "    return creation.text.strip()"
   ]
  },
  {
   "cell_type": "code",
   "execution_count": 9,
   "metadata": {
    "id": "huTGGKZVzT9x"
   },
   "outputs": [],
   "source": [
    "def _get_paragraphs(soup):\n",
    "  import re\n",
    "  out = []\n",
    "  body = soup.find('body')\n",
    "  for p in body.find_all('p'):\n",
    "    text = p.text.strip()\n",
    "    text = text.replace('\\n', ' ')\n",
    "    text = re.sub('  +', ' ', text)\n",
    "    if text:\n",
    "      out.append(text)\n",
    "  return out"
   ]
  },
  {
   "cell_type": "code",
   "execution_count": 51,
   "metadata": {
    "id": "yt6kZZ2hz4lk"
   },
   "outputs": [],
   "source": [
    "def _get_categories(text):\n",
    "  import re\n",
    "  out = []\n",
    "  for cat in re.findall('<catRef target=\"([^\"]+)\">', text):\n",
    "    out.append(cat)\n",
    "  return out"
   ]
  }
 ],
 "metadata": {
  "colab": {
   "name": "ncg-parse.ipynb",
   "provenance": []
  },
  "kernelspec": {
   "display_name": "Python 3",
   "language": "python",
   "name": "python3"
  },
  "language_info": {
   "codemirror_mode": {
    "name": "ipython",
    "version": 3
   },
   "file_extension": ".py",
   "mimetype": "text/x-python",
   "name": "python",
   "nbconvert_exporter": "python",
   "pygments_lexer": "ipython3",
   "version": "3.6.9"
  }
 },
 "nbformat": 4,
 "nbformat_minor": 2
}
