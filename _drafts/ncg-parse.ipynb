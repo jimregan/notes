{
  "nbformat": 4,
  "nbformat_minor": 2,
  "metadata": {
    "colab": {
      "name": "ncg-parse.ipynb",
      "provenance": []
    },
    "kernelspec": {
      "name": "python3",
      "display_name": "Python 3"
    },
    "language_info": {
      "name": "python"
    }
  },
  "cells": [
    {
      "cell_type": "code",
      "execution_count": 13,
      "source": [
        "from bs4 import BeautifulSoup\r\n",
        "\r\n",
        "soup = BeautifulSoup(sample, 'html.parser')"
      ],
      "outputs": [],
      "metadata": {
        "id": "VA5toAqzy7gp"
      }
    },
    {
      "cell_type": "code",
      "execution_count": 18,
      "source": [
        "def _get_title(soup):\r\n",
        "  title = soup.find(\"title\")\r\n",
        "  if title.text and title.text.strip() != \"\":\r\n",
        "    return title.text.strip()"
      ],
      "outputs": [],
      "metadata": {
        "id": "qztVZzNTzRQB"
      }
    },
    {
      "cell_type": "code",
      "execution_count": 20,
      "source": [
        "def _get_author(soup):\r\n",
        "  author = soup.find(\"author\")\r\n",
        "  if author.text and author.text.strip() != \"\":\r\n",
        "    return author.text.strip()"
      ],
      "outputs": [],
      "metadata": {
        "id": "r7V9XHPW06wo"
      }
    },
    {
      "cell_type": "code",
      "execution_count": 22,
      "source": [
        "def _get_creation(soup):\r\n",
        "  creation = soup.find(\"creation\")\r\n",
        "  if creation.text and creation.text.strip() != \"\":\r\n",
        "    return creation.text.strip()"
      ],
      "outputs": [],
      "metadata": {
        "id": "56C4GhUs1F0h"
      }
    },
    {
      "cell_type": "code",
      "execution_count": 9,
      "source": [
        "def _get_paragraphs(soup):\r\n",
        "  import re\r\n",
        "  out = []\r\n",
        "  body = soup.find('body')\r\n",
        "  for p in body.find_all('p'):\r\n",
        "    text = p.text.strip()\r\n",
        "    text = text.replace('\\n', ' ')\r\n",
        "    text = re.sub('  +', ' ', text)\r\n",
        "    if text:\r\n",
        "      out.append(text)\r\n",
        "  return out"
      ],
      "outputs": [],
      "metadata": {
        "id": "huTGGKZVzT9x"
      }
    },
    {
      "cell_type": "code",
      "execution_count": 51,
      "source": [
        "def _get_categories(text):\r\n",
        "  import re\r\n",
        "  out = []\r\n",
        "  for cat in re.findall('<catRef target=\"([^\"]+)\">', text):\r\n",
        "    out.append(cat)\r\n",
        "  return out"
      ],
      "outputs": [],
      "metadata": {
        "id": "yt6kZZ2hz4lk"
      }
    }
  ]
}