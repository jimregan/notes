{
 "cells": [
  {
   "cell_type": "markdown",
   "id": "1ceefd5b",
   "metadata": {},
   "source": [
    "# LJSpeech for ASR\n",
    "\n",
    "> Resampled wav, more normalised text. From [Kaggle](https://www.kaggle.com/code/jimregan/ljspeech-for-asr)\n",
    "\n",
    "- toc: false\n",
    "- branch: master\n",
    "- categories: [kaggle, ljspeech]"
   ]
  },
  {
   "cell_type": "markdown",
   "id": "d968e5fb",
   "metadata": {
    "papermill": {
     "duration": 0.013302,
     "end_time": "2022-05-04T20:36:54.687701",
     "exception": false,
     "start_time": "2022-05-04T20:36:54.674399",
     "status": "completed"
    },
    "tags": []
   },
   "source": [
    "# Step 1: Convert sampling rate to 16,000"
   ]
  },
  {
   "cell_type": "code",
   "execution_count": 1,
   "id": "007a8d5b",
   "metadata": {
    "_cell_guid": "b1076dfc-b9ad-4769-8c92-a6c4dae69d19",
    "_uuid": "8f2839f25d086af736a60e9eeb907d3b93b6e0e5",
    "execution": {
     "iopub.execute_input": "2022-05-04T20:36:54.714348Z",
     "iopub.status.busy": "2022-05-04T20:36:54.713875Z",
     "iopub.status.idle": "2022-05-04T20:36:55.499168Z",
     "shell.execute_reply": "2022-05-04T20:36:55.498125Z"
    },
    "papermill": {
     "duration": 0.801706,
     "end_time": "2022-05-04T20:36:55.501684",
     "exception": false,
     "start_time": "2022-05-04T20:36:54.699978",
     "status": "completed"
    },
    "tags": []
   },
   "outputs": [],
   "source": [
    "!mkdir wav16"
   ]
  },
  {
   "cell_type": "code",
   "execution_count": 2,
   "id": "ede613eb",
   "metadata": {
    "execution": {
     "iopub.execute_input": "2022-05-04T20:36:55.529308Z",
     "iopub.status.busy": "2022-05-04T20:36:55.528757Z",
     "iopub.status.idle": "2022-05-04T20:58:23.808725Z",
     "shell.execute_reply": "2022-05-04T20:58:23.806874Z"
    },
    "papermill": {
     "duration": 1288.299414,
     "end_time": "2022-05-04T20:58:23.813911",
     "exception": false,
     "start_time": "2022-05-04T20:36:55.514497",
     "status": "completed"
    },
    "tags": []
   },
   "outputs": [],
   "source": [
    "%%capture\n",
    "!for wav in ../input/the-lj-speech-dataset/LJSpeech-1.1/wavs/*wav; do ffmpeg -i $wav -ar 16000 wav16/$(basename $wav '.wav').wav;done"
   ]
  },
  {
   "cell_type": "markdown",
   "id": "5df3a51a",
   "metadata": {
    "papermill": {
     "duration": 0.012073,
     "end_time": "2022-05-04T20:58:23.842159",
     "exception": false,
     "start_time": "2022-05-04T20:58:23.830086",
     "status": "completed"
    },
    "tags": []
   },
   "source": [
    "# Step 2: (Further) normalise the transcripts"
   ]
  },
  {
   "cell_type": "code",
   "execution_count": 3,
   "id": "2600e877",
   "metadata": {
    "execution": {
     "iopub.execute_input": "2022-05-04T20:58:23.870365Z",
     "iopub.status.busy": "2022-05-04T20:58:23.869661Z",
     "iopub.status.idle": "2022-05-04T20:58:23.875197Z",
     "shell.execute_reply": "2022-05-04T20:58:23.874519Z"
    },
    "papermill": {
     "duration": 0.023057,
     "end_time": "2022-05-04T20:58:23.877443",
     "exception": false,
     "start_time": "2022-05-04T20:58:23.854386",
     "status": "completed"
    },
    "tags": []
   },
   "outputs": [],
   "source": [
    "PATH = \"../input/the-lj-speech-dataset/LJSpeech-1.1/metadata.csv\""
   ]
  },
  {
   "cell_type": "code",
   "execution_count": 4,
   "id": "68139ede",
   "metadata": {
    "execution": {
     "iopub.execute_input": "2022-05-04T20:58:23.904940Z",
     "iopub.status.busy": "2022-05-04T20:58:23.904309Z",
     "iopub.status.idle": "2022-05-04T20:58:23.917009Z",
     "shell.execute_reply": "2022-05-04T20:58:23.916112Z"
    },
    "papermill": {
     "duration": 0.029403,
     "end_time": "2022-05-04T20:58:23.919685",
     "exception": false,
     "start_time": "2022-05-04T20:58:23.890282",
     "status": "completed"
    },
    "tags": []
   },
   "outputs": [],
   "source": [
    "def fix_text(text):\n",
    "    text = text.lower()\n",
    "    text = text.replace(\" -- \", \" \")\n",
    "    text = text.replace(\"ü\", \"u\")\n",
    "    text = text.replace(\"etc.\", \"etcetera\")\n",
    "    text = text.replace(\"i.e.\", \"i e \")\n",
    "    text = text.replace(\";\", \"\")\n",
    "    text = text.replace(\". \", \" \")\n",
    "    text = text.replace(\",\", \"\")\n",
    "    text = text.replace(\"\\\"\", \"\")\n",
    "    text = text.replace(\"  \", \" \")\n",
    "    alpha = \"abcdefghijklmnopqrstuvwxyz\"\n",
    "    i = 0\n",
    "    buf = []\n",
    "    while i < len(text):\n",
    "        if text[i] in alpha or text[i] == \" \":\n",
    "            buf.append(text[i])\n",
    "        elif text[i:i+2] == \"'s\" or text[i-1:i+2] == \"s' \":\n",
    "            buf.append(text[i])\n",
    "        elif i == len(text)-1 and text[-2:] == \"s'\":\n",
    "            buf.append(text[i])\n",
    "        elif text[i:i+2] == \"'d\" or text[i:i+3] == \"'ve\":\n",
    "            buf.append(text[i])\n",
    "        elif text[i] == \"-\" and text[i-1] in alpha:\n",
    "            buf.append(\" \")\n",
    "        else:\n",
    "            pass\n",
    "        i += 1\n",
    "    text = \"\".join(buf)\n",
    "    return text"
   ]
  },
  {
   "cell_type": "code",
   "execution_count": 5,
   "id": "325b2a59",
   "metadata": {
    "execution": {
     "iopub.execute_input": "2022-05-04T20:58:23.946202Z",
     "iopub.status.busy": "2022-05-04T20:58:23.945610Z",
     "iopub.status.idle": "2022-05-04T20:58:24.612426Z",
     "shell.execute_reply": "2022-05-04T20:58:24.611585Z"
    },
    "papermill": {
     "duration": 0.683084,
     "end_time": "2022-05-04T20:58:24.615017",
     "exception": false,
     "start_time": "2022-05-04T20:58:23.931933",
     "status": "completed"
    },
    "tags": []
   },
   "outputs": [],
   "source": [
    "items = {}\n",
    "with open(PATH) as f:\n",
    "    for line in f.readlines():\n",
    "        arr = line.split(\"|\")\n",
    "        if len(arr) != 3:\n",
    "            print(line)\n",
    "        id = arr[0]\n",
    "        text = fix_text(arr[2])\n",
    "        items[id] = text"
   ]
  },
  {
   "cell_type": "code",
   "execution_count": 6,
   "id": "425a90b1",
   "metadata": {
    "execution": {
     "iopub.execute_input": "2022-05-04T20:58:24.641881Z",
     "iopub.status.busy": "2022-05-04T20:58:24.641559Z",
     "iopub.status.idle": "2022-05-04T20:58:24.659165Z",
     "shell.execute_reply": "2022-05-04T20:58:24.658207Z"
    },
    "papermill": {
     "duration": 0.034209,
     "end_time": "2022-05-04T20:58:24.662171",
     "exception": false,
     "start_time": "2022-05-04T20:58:24.627962",
     "status": "completed"
    },
    "tags": []
   },
   "outputs": [],
   "source": [
    "OUTPATH = \"transcripts.tsv\"\n",
    "with open(OUTPATH, \"w\") as outf:\n",
    "    for key in items.keys():\n",
    "        outf.write(f\"{key}\\t{items[key]}\\n\")"
   ]
  },
  {
   "cell_type": "markdown",
   "id": "f9004673",
   "metadata": {
    "papermill": {
     "duration": 0.012768,
     "end_time": "2022-05-04T20:58:24.687584",
     "exception": false,
     "start_time": "2022-05-04T20:58:24.674816",
     "status": "completed"
    },
    "tags": []
   },
   "source": [
    "# Step 3: Extract number of frames\n",
    "\n",
    "This is needed by fairseq"
   ]
  },
  {
   "cell_type": "code",
   "execution_count": 7,
   "id": "2b3e8cdd",
   "metadata": {
    "execution": {
     "iopub.execute_input": "2022-05-04T20:58:24.714173Z",
     "iopub.status.busy": "2022-05-04T20:58:24.713900Z",
     "iopub.status.idle": "2022-05-04T20:58:24.807538Z",
     "shell.execute_reply": "2022-05-04T20:58:24.806523Z"
    },
    "papermill": {
     "duration": 0.109741,
     "end_time": "2022-05-04T20:58:24.809907",
     "exception": false,
     "start_time": "2022-05-04T20:58:24.700166",
     "status": "completed"
    },
    "tags": []
   },
   "outputs": [],
   "source": [
    "from pathlib import Path\n",
    "import soundfile as sf"
   ]
  },
  {
   "cell_type": "code",
   "execution_count": 8,
   "id": "61d3b38f",
   "metadata": {
    "execution": {
     "iopub.execute_input": "2022-05-04T20:58:24.838182Z",
     "iopub.status.busy": "2022-05-04T20:58:24.837726Z",
     "iopub.status.idle": "2022-05-04T20:58:24.841900Z",
     "shell.execute_reply": "2022-05-04T20:58:24.841127Z"
    },
    "papermill": {
     "duration": 0.020617,
     "end_time": "2022-05-04T20:58:24.843916",
     "exception": false,
     "start_time": "2022-05-04T20:58:24.823299",
     "status": "completed"
    },
    "tags": []
   },
   "outputs": [],
   "source": [
    "WAVPATH = Path(\"wav16\")"
   ]
  },
  {
   "cell_type": "code",
   "execution_count": 9,
   "id": "b38a7421",
   "metadata": {
    "execution": {
     "iopub.execute_input": "2022-05-04T20:58:24.871760Z",
     "iopub.status.busy": "2022-05-04T20:58:24.871477Z",
     "iopub.status.idle": "2022-05-04T20:58:32.949506Z",
     "shell.execute_reply": "2022-05-04T20:58:32.948677Z"
    },
    "papermill": {
     "duration": 8.094933,
     "end_time": "2022-05-04T20:58:32.952125",
     "exception": false,
     "start_time": "2022-05-04T20:58:24.857192",
     "status": "completed"
    },
    "tags": []
   },
   "outputs": [],
   "source": [
    "times = {}\n",
    "for wavfile in WAVPATH.glob(\"*.wav\"):\n",
    "    data, sr = sf.read(str(wavfile))\n",
    "    times[wavfile.stem] = len(data)"
   ]
  },
  {
   "cell_type": "code",
   "execution_count": 10,
   "id": "cfe4cdb1",
   "metadata": {
    "execution": {
     "iopub.execute_input": "2022-05-04T20:58:32.980076Z",
     "iopub.status.busy": "2022-05-04T20:58:32.979588Z",
     "iopub.status.idle": "2022-05-04T20:58:32.993172Z",
     "shell.execute_reply": "2022-05-04T20:58:32.992420Z"
    },
    "papermill": {
     "duration": 0.030153,
     "end_time": "2022-05-04T20:58:32.995475",
     "exception": false,
     "start_time": "2022-05-04T20:58:32.965322",
     "status": "completed"
    },
    "tags": []
   },
   "outputs": [],
   "source": [
    "with open(\"frames.tsv\", \"w\") as framef:\n",
    "    for key in times.keys():\n",
    "        framef.write(f\"{key}\\t{times[key]}\\n\")"
   ]
  }
 ],
 "metadata": {
  "kernelspec": {
   "display_name": "Python 3",
   "language": "python",
   "name": "python3"
  },
  "language_info": {
   "codemirror_mode": {
    "name": "ipython",
    "version": 3
   },
   "file_extension": ".py",
   "mimetype": "text/x-python",
   "name": "python",
   "nbconvert_exporter": "python",
   "pygments_lexer": "ipython3",
   "version": "3.7.12"
  },
  "papermill": {
   "default_parameters": {},
   "duration": 1310.91406,
   "end_time": "2022-05-04T20:58:33.836061",
   "environment_variables": {},
   "exception": null,
   "input_path": "__notebook__.ipynb",
   "output_path": "__notebook__.ipynb",
   "parameters": {},
   "start_time": "2022-05-04T20:36:42.922001",
   "version": "2.3.4"
  }
 },
 "nbformat": 4,
 "nbformat_minor": 5
}
