{
 "cells": [
  {
   "cell_type": "code",
   "execution_count": null,
   "metadata": {},
   "outputs": [],
   "source": [
    "from transformers import pipeline\n",
    "EN_MODEL = \"jonatasgrosman/wav2vec2-large-xlsr-53-english\"\n",
    "\n",
    "pipe_en = pipeline(model=EN_MODEL, device=0)"
   ]
  },
  {
   "cell_type": "code",
   "execution_count": 1,
   "metadata": {},
   "outputs": [],
   "source": [
    "sentences = [\n",
    "\t\"So, we decided to go to the zoo, and... uh, the first thing we saw was the lions. [laughs] They were just lazing around.\",\n",
    "\t\"[gasps] Oh, and you won't believe the size of the elephants. They were HUGE.\",\n",
    "\t\"We were walking past the monkey enclosure when one of them [laughs]—seriously, it started mimicking us!\",\n",
    "\t\"[sighs] The weather was kinda hot, but... it was worth it, seeing all those animals up close.\",\n",
    "\t\"And the penguins, they were so cute, waddling around. [laughs] I could watch them all day.\",\n",
    "\t\"I was a bit scared of the snakes, not gonna lie. Every time one moved, I just... [gasps] jumped a little.\",\n",
    "\t\"[clears throat] Oh, and the food there? Surprisingly good. We had these amazing burgers right by the giraffe area.\",\n",
    "\t\"The kids were just fascinated by the aquarium section. All those colorful fish and... uh, the sharks were a bit scary, though.\",\n",
    "\t\"[laughter] You should've seen your face when that parrot started talking! Priceless.\",\n",
    "\t\"And... um, at the end of the day, we were all just so tired, but, you know, it was a great day. [sighs] Really special.\"\n",
    "]"
   ]
  },
  {
   "cell_type": "code",
   "execution_count": null,
   "metadata": {},
   "outputs": [],
   "source": [
    "from pathlib import Path\n",
    "\n",
    "outputs = []\n",
    "files = []\n",
    "\n",
    "for file in Path(\"/home/joregan/shivam-sentences\").glob(\"*.wav\"):\n",
    "    files.append(file.name)\n",
    "    en_out = pipe_en(str(file), chunk_length_s=10, return_timestamps=\"word\")\n",
    "    outputs.append(en_out)"
   ]
  },
  {
   "cell_type": "code",
   "execution_count": 25,
   "metadata": {},
   "outputs": [],
   "source": [
    "from string import punctuation\n",
    "\n",
    "PUNCT = set(punctuation)\n",
    "\n",
    "def clean_sentence(text):\n",
    "    words = []\n",
    "    text = text.replace(\"—\", \" \")\n",
    "    for word in text.split(\" \"):\n",
    "        if word.startswith(\"[\") and word.endswith(\"]\"):\n",
    "            continue\n",
    "        while word[0:1] in PUNCT:\n",
    "            word = word[1:]\n",
    "        while word[-1:] in PUNCT:\n",
    "            word = word[:-1]\n",
    "        words.append(word.lower())\n",
    "    return \" \".join(words)"
   ]
  },
  {
   "cell_type": "code",
   "execution_count": 26,
   "metadata": {},
   "outputs": [],
   "source": [
    "clean_sentences = [clean_sentence(x) for x in sentences]"
   ]
  },
  {
   "cell_type": "code",
   "execution_count": null,
   "metadata": {},
   "outputs": [],
   "source": [
    "numbers = [int(x.replace(\".wav\", \"\")) for x in files]\n",
    "text_out = [x[\"text\"] for x in outputs]\n",
    "tmp_sort = sorted([x for x in zip(numbers, text_out)])\n",
    "hyp = [x[1] for x in tmp_sort]"
   ]
  },
  {
   "cell_type": "code",
   "execution_count": null,
   "metadata": {},
   "outputs": [],
   "source": [
    "from jiwer import wer\n",
    "\n",
    "wer(clean_sentences, hyp)"
   ]
  },
  {
   "cell_type": "markdown",
   "metadata": {},
   "source": [
    "```python\n",
    ">>> wer(clean_sentences, hyp)\n",
    "0.40782122905027934\n",
    "```"
   ]
  },
  {
   "cell_type": "code",
   "execution_count": null,
   "metadata": {},
   "outputs": [],
   "source": []
  },
  {
   "cell_type": "code",
   "execution_count": null,
   "metadata": {},
   "outputs": [],
   "source": [
    "import whisper\n",
    "\n",
    "model = whisper.load_model(\"large-v3\")"
   ]
  },
  {
   "cell_type": "code",
   "execution_count": null,
   "metadata": {},
   "outputs": [],
   "source": [
    "outputs = []\n",
    "for idx, sentence in enumerate(sentences):\n",
    "    file=f\"/home/joregan/shivam-sentences/{idx + 1}.wav\"\n",
    "    res = model.transcribe(file, language=\"en\")\n",
    "    outputs.append(res)"
   ]
  },
  {
   "cell_type": "code",
   "execution_count": null,
   "metadata": {},
   "outputs": [],
   "source": [
    "output_text = [x[\"text\"].strip() for x in outputs]"
   ]
  },
  {
   "cell_type": "code",
   "execution_count": null,
   "metadata": {},
   "outputs": [],
   "source": [
    "output_wer = [wer(p[0], p[1]) for p in zip(clean_sentences, output_text)]"
   ]
  },
  {
   "cell_type": "markdown",
   "metadata": {},
   "source": [
    "```python\n",
    ">>> output_wer\n",
    "[0.043478260869565216, 0.0, 0.0, 1.75, 0.06666666666666667, 0.0, 0.3684210526315789, 0.045454545454545456, 0.18181818181818182, 0.125]\n",
    "```"
   ]
  },
  {
   "cell_type": "markdown",
   "metadata": {},
   "source": [
    "```python\n",
    ">>> output_text\n",
    "['so we decided to go to the zoo and the first thing we saw was the lions they were just lazing around', \"oh and you won't believe the size of the elephants they were huge\", 'we were walking past the monkey enclosure when one of them seriously it started mimicking us', 'and i was also very very money in the similar silver right or part it was i guess that they were told that they would ask you to pantane with him', 'and the penguins they were so cute like waddling around i could watch them all day', 'i was a bit scared of the snakes not gonna lie every time one moved i just jumped a little', 'um uh oh and the food there uh surprisingly good uh we had these amazing uh burgers right by the garage area uh', 'the kids were just fascinated by the aquarium section all those colorful fish and the sharks were a bit scary though', 'you should have seen your face when that parrot started talking priceless', 'and at the end of the day we were all just so tired but you know it was a great day woo']\n",
    "```"
   ]
  },
  {
   "cell_type": "code",
   "execution_count": null,
   "metadata": {},
   "outputs": [],
   "source": [
    "outputs_self_prompt = []\n",
    "for idx, sentence in enumerate(sentences):\n",
    "    file=f\"/home/joregan/shivam-sentences/{idx + 1}.wav\"\n",
    "    res = model.transcribe(file, language=\"en\", initial_prompt=sentence)\n",
    "    outputs_self_prompt.append(res)"
   ]
  },
  {
   "cell_type": "code",
   "execution_count": null,
   "metadata": {},
   "outputs": [],
   "source": [
    "output_text = [clean_sentence(x[\"text\"].strip()) for x in outputs_self_prompt]\n",
    "output_wer = [wer(p[0], p[1]) for p in zip(clean_sentences, output_text)]"
   ]
  },
  {
   "cell_type": "markdown",
   "metadata": {},
   "source": [
    "```python\n",
    ">>> output_wer\n",
    "[0.08695652173913043, 0.0, 0.0, 1.6875, 1.5333333333333334, 0.0, 1.1578947368421053, 0.0, 0.0, 0.08333333333333333]\n",
    "```"
   ]
  },
  {
   "cell_type": "markdown",
   "metadata": {},
   "source": [
    "```\n",
    ">>> output_text\n",
    "['uh so we decided to go to the zoo and uh the first thing we saw was the lions um they were just lazing around', \"oh and you won't believe the size of the elephants they were huge\", 'we were walking past the monkey enclosure when one of them seriously it started mimicking us', 'and i was also very money in a similar silver right or part it was i guess that they were told that they would ask you to pantane with him', \"i was like i'm going to go to the zoo i'm going to go to the zoo i'm going to go to the zoo\", 'i was a bit scared of the snakes not gonna lie every time one moved i just jumped a little', \"the food was so good really i'm so sad to hear this stuff over konnte like another度 doe you in love dana\", 'the kids were just fascinated by the aquarium section all those colorful fish and uh the sharks were a bit scary though', \"you should've seen your face when that parrot started talking priceless\", 'and uh at the end of the day we were all just so tired but you know it was a great day woo really special']\n",
    "```"
   ]
  },
  {
   "cell_type": "code",
   "execution_count": 31,
   "metadata": {},
   "outputs": [],
   "source": [
    "def prune_fillers(text):\n",
    "    FILLERS = [\"uh\", \"um\"]\n",
    "\n",
    "    words = [x for x in text.split(\" \") if x not in FILLERS]\n",
    "    return \" \".join(words)"
   ]
  },
  {
   "cell_type": "code",
   "execution_count": null,
   "metadata": {},
   "outputs": [],
   "source": [
    "output_text = [clean_sentence(x[\"text\"].strip()) for x in outputs]\n",
    "output_nofill = [prune_fillers(x) for x in output_text]\n",
    "output_wer = [wer(p[0], p[1]) for p in zip(clean_sentences, output_nofill)]"
   ]
  },
  {
   "cell_type": "markdown",
   "metadata": {},
   "source": [
    "```python\n",
    ">>> output_wer\n",
    "[0.043478260869565216, 0.0, 0.0, 1.75, 0.06666666666666667, 0.0, 0.15789473684210525, 0.045454545454545456, 0.18181818181818182, 0.125]\n",
    "```"
   ]
  },
  {
   "cell_type": "code",
   "execution_count": null,
   "metadata": {},
   "outputs": [],
   "source": [
    "output_text = [clean_sentence(x[\"text\"].strip()) for x in outputs_self_prompt]\n",
    "output_nofill = [prune_fillers(x) for x in output_text]\n",
    "output_wer = [wer(p[0], p[1]) for p in zip(clean_sentences, output_nofill)]"
   ]
  },
  {
   "cell_type": "markdown",
   "metadata": {},
   "source": [
    "```python\n",
    ">>> output_wer\n",
    "[0.043478260869565216, 0.0, 0.0, 1.6875, 1.5333333333333334, 0.0, 1.1578947368421053, 0.045454545454545456, 0.0, 0.08333333333333333]\n",
    "```"
   ]
  },
  {
   "cell_type": "markdown",
   "metadata": {},
   "source": [
    "```python\n",
    ">>> output_nofill\n",
    "['so we decided to go to the zoo and the first thing we saw was the lions they were just lazing around', \"oh and you won't believe the size of the elephants they were huge\", 'we were walking past the monkey enclosure when one of them seriously it started mimicking us', 'and i was also very money in a similar silver right or part it was i guess that they were told that they would ask you to pantane with him', \"i was like i'm going to go to the zoo i'm going to go to the zoo i'm going to go to the zoo\", 'i was a bit scared of the snakes not gonna lie every time one moved i just jumped a little', \"the food was so good really i'm so sad to hear this stuff over konnte like another度 doe you in love dana\", 'the kids were just fascinated by the aquarium section all those colorful fish and the sharks were a bit scary though', \"you should've seen your face when that parrot started talking priceless\", 'and at the end of the day we were all just so tired but you know it was a great day woo really special']\n",
    "```"
   ]
  },
  {
   "cell_type": "code",
   "execution_count": 32,
   "metadata": {},
   "outputs": [],
   "source": [
    "output_nofill = ['so we decided to go to the zoo and the first thing we saw was the lions they were just lazing around', \"oh and you won't believe the size of the elephants they were huge\", 'we were walking past the monkey enclosure when one of them seriously it started mimicking us', 'and i was also very money in a similar silver right or part it was i guess that they were told that they would ask you to pantane with him', \"i was like i'm going to go to the zoo i'm going to go to the zoo i'm going to go to the zoo\", 'i was a bit scared of the snakes not gonna lie every time one moved i just jumped a little', \"the food was so good really i'm so sad to hear this stuff over konnte like another度 doe you in love dana\", 'the kids were just fascinated by the aquarium section all those colorful fish and the sharks were a bit scary though', \"you should've seen your face when that parrot started talking priceless\", 'and at the end of the day we were all just so tired but you know it was a great day woo really special']"
   ]
  },
  {
   "cell_type": "code",
   "execution_count": 37,
   "metadata": {},
   "outputs": [
    {
     "name": "stdout",
     "output_type": "stream",
     "text": [
      "So, we decided to go to the zoo, and... uh, the first thing we saw was the lions. [laughs] They were just lazing around.\n",
      "so we decided to go to the zoo and the first thing we saw was the lions they were just lazing around\n",
      "\n",
      "[gasps] Oh, and you won't believe the size of the elephants. They were HUGE.\n",
      "oh and you won't believe the size of the elephants they were huge\n",
      "\n",
      "We were walking past the monkey enclosure when one of them [laughs]—seriously, it started mimicking us!\n",
      "we were walking past the monkey enclosure when one of them seriously it started mimicking us\n",
      "\n",
      "[sighs] The weather was kinda hot, but... it was worth it, seeing all those animals up close.\n",
      "and i was also very money in a similar silver right or part it was i guess that they were told that they would ask you to pantane with him\n",
      "\n",
      "And the penguins, they were so cute, waddling around. [laughs] I could watch them all day.\n",
      "i was like i'm going to go to the zoo i'm going to go to the zoo i'm going to go to the zoo\n",
      "\n",
      "I was a bit scared of the snakes, not gonna lie. Every time one moved, I just... [gasps] jumped a little.\n",
      "i was a bit scared of the snakes not gonna lie every time one moved i just jumped a little\n",
      "\n",
      "[clears throat] Oh, and the food there? Surprisingly good. We had these amazing burgers right by the giraffe area.\n",
      "the food was so good really i'm so sad to hear this stuff over konnte like another度 doe you in love dana\n",
      "\n",
      "The kids were just fascinated by the aquarium section. All those colorful fish and... uh, the sharks were a bit scary, though.\n",
      "the kids were just fascinated by the aquarium section all those colorful fish and the sharks were a bit scary though\n",
      "\n",
      "[laughter] You should've seen your face when that parrot started talking! Priceless.\n",
      "you should've seen your face when that parrot started talking priceless\n",
      "\n",
      "And... um, at the end of the day, we were all just so tired, but, you know, it was a great day. [sighs] Really special.\n",
      "and at the end of the day we were all just so tired but you know it was a great day woo really special\n",
      "\n"
     ]
    }
   ],
   "source": [
    "for p in zip(sentences, output_nofill):\n",
    "    print(p[0])\n",
    "    print(p[1])\n",
    "    print()"
   ]
  },
  {
   "cell_type": "code",
   "execution_count": 35,
   "metadata": {},
   "outputs": [
    {
     "data": {
      "text/plain": [
       "'[sighs] The weather was kinda hot, but... it was worth it, seeing all those animals up close.'"
      ]
     },
     "execution_count": 35,
     "metadata": {},
     "output_type": "execute_result"
    }
   ],
   "source": [
    "sentences[3]"
   ]
  }
 ],
 "metadata": {
  "kernelspec": {
   "display_name": "hf",
   "language": "python",
   "name": "python3"
  },
  "language_info": {
   "codemirror_mode": {
    "name": "ipython",
    "version": 3
   },
   "file_extension": ".py",
   "mimetype": "text/x-python",
   "name": "python",
   "nbconvert_exporter": "python",
   "pygments_lexer": "ipython3",
   "version": "3.9.15"
  }
 },
 "nbformat": 4,
 "nbformat_minor": 2
}
