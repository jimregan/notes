{
 "cells": [
  {
   "cell_type": "code",
   "execution_count": null,
   "metadata": {},
   "outputs": [],
   "source": [
    "from transformers import pipeline\n",
    "EN_MODEL = \"jonatasgrosman/wav2vec2-large-xlsr-53-english\"\n",
    "\n",
    "pipe_en = pipeline(model=EN_MODEL, device=0)"
   ]
  },
  {
   "cell_type": "code",
   "execution_count": 1,
   "metadata": {},
   "outputs": [],
   "source": [
    "sentences = [\n",
    "\t\"So, we decided to go to the zoo, and... uh, the first thing we saw was the lions. [laughs] They were just lazing around.\",\n",
    "\t\"[gasps] Oh, and you won't believe the size of the elephants. They were HUGE.\",\n",
    "\t\"We were walking past the monkey enclosure when one of them [laughs]—seriously, it started mimicking us!\",\n",
    "\t\"[sighs] The weather was kinda hot, but... it was worth it, seeing all those animals up close.\",\n",
    "\t\"And the penguins, they were so cute, waddling around. [laughs] I could watch them all day.\",\n",
    "\t\"I was a bit scared of the snakes, not gonna lie. Every time one moved, I just... [gasps] jumped a little.\",\n",
    "\t\"[clears throat] Oh, and the food there? Surprisingly good. We had these amazing burgers right by the giraffe area.\",\n",
    "\t\"The kids were just fascinated by the aquarium section. All those colorful fish and... uh, the sharks were a bit scary, though.\",\n",
    "\t\"[laughter] You should've seen your face when that parrot started talking! Priceless.\",\n",
    "\t\"And... um, at the end of the day, we were all just so tired, but, you know, it was a great day. [sighs] Really special.\"\n",
    "]"
   ]
  },
  {
   "cell_type": "code",
   "execution_count": null,
   "metadata": {},
   "outputs": [],
   "source": [
    "from pathlib import Path\n",
    "\n",
    "outputs = []\n",
    "files = []\n",
    "\n",
    "for file in Path(\"/home/joregan/shivam-sentences\").glob(\"*.wav\"):\n",
    "    files.append(file.name)\n",
    "    en_out = pipe_en(str(file), chunk_length_s=10, return_timestamps=\"word\")\n",
    "    outputs.append(en_out)"
   ]
  },
  {
   "cell_type": "code",
   "execution_count": 25,
   "metadata": {},
   "outputs": [],
   "source": [
    "import re\n",
    "from string import punctuation\n",
    "\n",
    "PUNCT = set(punctuation)\n",
    "\n",
    "def clean_sentence(text):\n",
    "    words = []\n",
    "    text = text.replace(\"—\", \" \")\n",
    "    for word in text.split(\" \"):\n",
    "        if word.startswith(\"[\") and word.endswith(\"]\"):\n",
    "            continue\n",
    "        while word[0:1] in PUNCT:\n",
    "            word = word[1:]\n",
    "        while word[-1:] in PUNCT:\n",
    "            word = word[:-1]\n",
    "        words.append(word.lower())\n",
    "    return \" \".join(words)"
   ]
  },
  {
   "cell_type": "code",
   "execution_count": 26,
   "metadata": {},
   "outputs": [],
   "source": [
    "clean_sentences = [clean_sentence(x) for x in sentences]"
   ]
  },
  {
   "cell_type": "code",
   "execution_count": 27,
   "metadata": {},
   "outputs": [
    {
     "data": {
      "text/plain": [
       "['so we decided to go to the zoo and uh the first thing we saw was the lions they were just lazing around',\n",
       " \"oh and you won't believe the size of the elephants they were huge\",\n",
       " 'we were walking past the monkey enclosure when one of them seriously it started mimicking us',\n",
       " 'the weather was kinda hot but it was worth it seeing all those animals up close',\n",
       " 'and the penguins they were so cute waddling around i could watch them all day',\n",
       " 'i was a bit scared of the snakes not gonna lie every time one moved i just jumped a little',\n",
       " 'clears throat oh and the food there surprisingly good we had these amazing burgers right by the giraffe area',\n",
       " 'the kids were just fascinated by the aquarium section all those colorful fish and uh the sharks were a bit scary though',\n",
       " \"you should've seen your face when that parrot started talking priceless\",\n",
       " 'and um at the end of the day we were all just so tired but you know it was a great day really special']"
      ]
     },
     "execution_count": 27,
     "metadata": {},
     "output_type": "execute_result"
    }
   ],
   "source": [
    "clean_sentences"
   ]
  },
  {
   "cell_type": "code",
   "execution_count": 17,
   "metadata": {},
   "outputs": [],
   "source": [
    "word = thing\n",
    "while word[0:1] in PUNCT:\n",
    "    word = word[1:]\n",
    "while word[-1:] in PUNCT:\n",
    "    word = word[:-1]"
   ]
  },
  {
   "cell_type": "code",
   "execution_count": 18,
   "metadata": {},
   "outputs": [
    {
     "data": {
      "text/plain": [
       "'foo'"
      ]
     },
     "execution_count": 18,
     "metadata": {},
     "output_type": "execute_result"
    }
   ],
   "source": [
    "word"
   ]
  }
 ],
 "metadata": {
  "kernelspec": {
   "display_name": "hf",
   "language": "python",
   "name": "python3"
  },
  "language_info": {
   "codemirror_mode": {
    "name": "ipython",
    "version": 3
   },
   "file_extension": ".py",
   "mimetype": "text/x-python",
   "name": "python",
   "nbconvert_exporter": "python",
   "pygments_lexer": "ipython3",
   "version": "3.9.15"
  }
 },
 "nbformat": 4,
 "nbformat_minor": 2
}
