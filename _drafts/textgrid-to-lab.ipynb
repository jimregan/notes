{
 "cells": [
  {
   "cell_type": "code",
   "execution_count": 3,
   "metadata": {},
   "outputs": [],
   "source": [
    "from praatio import textgrid"
   ]
  },
  {
   "cell_type": "code",
   "execution_count": 2,
   "metadata": {},
   "outputs": [],
   "source": [
    "from pathlib import Path"
   ]
  },
  {
   "cell_type": "code",
   "execution_count": 17,
   "metadata": {},
   "outputs": [],
   "source": [
    "def tg_to_lab(filename, target=\"phones\"):\n",
    "    tg = textgrid.openTextgrid(filename, False)\n",
    "    if not tg.tierNameList or target not in tg.tierNameList:\n",
    "        return []\n",
    "    phones = tg.tierDict[target]\n",
    "\n",
    "    out = []\n",
    "\n",
    "    def it_to_dict(it):\n",
    "        ret = {}\n",
    "        ret['start'] = it.start\n",
    "        ret['end'] = it.end\n",
    "        ret['label'] = it.label\n",
    "        return ret\n",
    "\n",
    "    for phone in phones.entryList:\n",
    "        tmp_phone = it_to_dict(phone)\n",
    "        start = int(tmp_phone['start'] * 10000000)\n",
    "        end = int(tmp_phone['end'] * 10000000)\n",
    "        label = tmp_phone['label']\n",
    "        out.append(f\"{start} {end} {label}\")\n",
    "\n",
    "    return out"
   ]
  },
  {
   "cell_type": "code",
   "execution_count": null,
   "metadata": {},
   "outputs": [],
   "source": [
    "inpath = Path(\"/PATH/TO/FILES/INPUT\")\n",
    "outpath = Path(\"/PATH/TO/FILES/OUTPUT\")\n",
    "\n",
    "for filename in inpath.glob(\"*.TextGrid\"):\n",
    "    out = outpath / f\"{filename.stem}.lab\"\n",
    "    lab = tg_to_lab(filename)\n",
    "\n",
    "    with open(out, \"w\") as outf:\n",
    "        for line in lab:\n",
    "            outf.write(line + \"\\n\")"
   ]
  }
 ],
 "metadata": {
  "kernelspec": {
   "display_name": "Python 3",
   "language": "python",
   "name": "python3"
  },
  "language_info": {
   "codemirror_mode": {
    "name": "ipython",
    "version": 3
   },
   "file_extension": ".py",
   "mimetype": "text/x-python",
   "name": "python",
   "nbconvert_exporter": "python",
   "pygments_lexer": "ipython3",
   "version": "3.6.9"
  }
 },
 "nbformat": 4,
 "nbformat_minor": 2
}
