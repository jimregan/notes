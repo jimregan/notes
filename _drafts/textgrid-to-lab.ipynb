{
 "cells": [
  {
   "cell_type": "code",
   "execution_count": 1,
   "metadata": {},
   "outputs": [],
   "source": [
    "from praatio import textgrid"
   ]
  },
  {
   "cell_type": "code",
   "execution_count": 2,
   "metadata": {},
   "outputs": [],
   "source": [
    "from pathlib import Path"
   ]
  },
  {
   "cell_type": "code",
   "execution_count": 3,
   "metadata": {},
   "outputs": [],
   "source": [
    "def tg_to_lab(filename, target=\"phones\"):\n",
    "    tg = textgrid.openTextgrid(filename, includeEmptyIntervals=True)\n",
    "    if not tg.tierNameList or target not in tg.tierNameList:\n",
    "        return []\n",
    "    phones = tg.tierDict[target]\n",
    "\n",
    "    out = []\n",
    "\n",
    "    def it_to_dict(it):\n",
    "        ret = {}\n",
    "        ret['start'] = it.start\n",
    "        ret['end'] = it.end\n",
    "        if not it.label or it.label == \"\":\n",
    "            ret['label'] = \"sil\"\n",
    "        else:\n",
    "            ret['label'] = it.label\n",
    "        return ret\n",
    "\n",
    "    for phone in phones.entryList:\n",
    "        tmp_phone = it_to_dict(phone)\n",
    "        start = int(tmp_phone['start'] * 10000000)\n",
    "        end = int(tmp_phone['end'] * 10000000)\n",
    "        label = tmp_phone['label']\n",
    "        out.append(f\"{start} {end} {label}\")\n",
    "\n",
    "    return out"
   ]
  },
  {
   "cell_type": "code",
   "execution_count": 4,
   "metadata": {},
   "outputs": [],
   "source": [
    "inpath = Path(\"/home/jim/Playing/mfa_alignments/snc-out\")\n",
    "outpath = Path(\"/home/jim/Playing/mfa_alignments/snc-lab\")\n",
    "\n",
    "for filename in inpath.glob(\"*.TextGrid\"):\n",
    "    out = outpath / f\"{filename.stem}.lab\"\n",
    "    lab = tg_to_lab(filename)\n",
    "\n",
    "    with open(out, \"w\") as outf:\n",
    "        for line in lab:\n",
    "            outf.write(line + \"\\n\")"
   ]
  },
  {
   "cell_type": "code",
   "execution_count": 11,
   "metadata": {},
   "outputs": [],
   "source": [
    "filename = \"/home/jim/Playing/mfa_alignments/snc-out/SNC_Gearrscealta_an_Phiarsaigh_0004.TextGrid\"\n",
    "tg = textgrid.openTextgrid(filename, includeEmptyIntervals=True)"
   ]
  },
  {
   "cell_type": "code",
   "execution_count": 12,
   "metadata": {},
   "outputs": [],
   "source": [
    "phones = tg.tierDict[\"phones\"]"
   ]
  },
  {
   "cell_type": "code",
   "execution_count": 13,
   "metadata": {},
   "outputs": [
    {
     "name": "stdout",
     "output_type": "stream",
     "text": [
      "\n",
      "dj\n",
      "ee\n",
      "r\n",
      "h\n",
      "aa\n",
      "\n",
      "lj\n",
      "@\n",
      "bj\n",
      "rj\n",
      "a\n",
      "nn\n",
      "uu\n",
      "\n",
      "o\n",
      "r\n",
      "\n",
      "g\n",
      "r\n",
      "o\n",
      "sj\n",
      "ii\n",
      "e\n",
      "rj\n",
      "llj\n",
      "a\n",
      "h\n",
      "uu\n",
      "lj\n",
      "\n"
     ]
    }
   ],
   "source": [
    "for phone in phones.entryList:\n",
    "    print(phone.label)"
   ]
  }
 ],
 "metadata": {
  "kernelspec": {
   "display_name": "Python 3",
   "language": "python",
   "name": "python3"
  },
  "language_info": {
   "codemirror_mode": {
    "name": "ipython",
    "version": 3
   },
   "file_extension": ".py",
   "mimetype": "text/x-python",
   "name": "python",
   "nbconvert_exporter": "python",
   "pygments_lexer": "ipython3",
   "version": "3.6.9"
  }
 },
 "nbformat": 4,
 "nbformat_minor": 2
}
