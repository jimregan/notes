{
 "cells": [
  {
   "cell_type": "code",
   "execution_count": 2,
   "metadata": {},
   "outputs": [],
   "source": [
    "MAPPING = {\n",
    "    'ax': 'AH',\n",
    "    'axr': 'ER',\n",
    "    'dx': 'T',\n",
    "    'el': ['AH', 'L'],\n",
    "    'em': ['AH', 'M'],\n",
    "    'en': ['AH', 'N'],\n",
    "    'eng': ['IH', 'NG'],\n",
    "    'hv': 'HH',\n",
    "    'ix': 'IH',\n",
    "    'nx': ['N', 'T'],\n",
    "    'pau': '<sil>',\n",
    "    'ux': 'UW'\n",
    "}\n",
    "IGNORE = ['bcl', 'dcl', 'gcl', 'kcl', 'pcl', 'tcl', 'epi']\n",
    "DISCARD = ['dx', 'nx', 'q']"
   ]
  },
  {
   "cell_type": "code",
   "execution_count": 14,
   "metadata": {},
   "outputs": [],
   "source": [
    "def map_timit_to_cmudict(timit):\n",
    "    output = []\n",
    "\n",
    "    start = 1 if timit[0] == \"h#\" else 0\n",
    "    end = -1 if timit[-1] == \"h#\" else None\n",
    "    timit = timit[start:end]\n",
    "\n",
    "    for phone in timit:\n",
    "        if phone in MAPPING:\n",
    "            if type(MAPPING[phone]) == list:\n",
    "                output += MAPPING[phone]\n",
    "            else:\n",
    "                output.append(MAPPING[phone])\n",
    "        elif phone in IGNORE:\n",
    "            pass\n",
    "        else:\n",
    "            output.append(phone.upper())\n",
    "    return output"
   ]
  },
  {
   "cell_type": "code",
   "execution_count": 16,
   "metadata": {},
   "outputs": [
    {
     "data": {
      "text/plain": [
       "['F', 'ER', 'B']"
      ]
     },
     "execution_count": 16,
     "metadata": {},
     "output_type": "execute_result"
    }
   ],
   "source": [
    "map_timit_to_cmudict(['h#', 'f', 'er', 'bcl', 'b', 'h#'])"
   ]
  },
  {
   "cell_type": "code",
   "execution_count": 1,
   "metadata": {},
   "outputs": [
    {
     "ename": "ModuleNotFoundError",
     "evalue": "No module named 'datasets'",
     "output_type": "error",
     "traceback": [
      "\u001b[0;31m---------------------------------------------------------------------------\u001b[0m",
      "\u001b[0;31mModuleNotFoundError\u001b[0m                       Traceback (most recent call last)",
      "\u001b[0;32m/var/folders/d9/cbkhg23x349_t692zq6yhcv00000gn/T/ipykernel_33365/1442088475.py\u001b[0m in \u001b[0;36m<module>\u001b[0;34m\u001b[0m\n\u001b[0;32m----> 1\u001b[0;31m \u001b[0;32mfrom\u001b[0m \u001b[0mdatasets\u001b[0m \u001b[0;32mimport\u001b[0m \u001b[0mload_dataset\u001b[0m\u001b[0;34m\u001b[0m\u001b[0;34m\u001b[0m\u001b[0m\n\u001b[0m\u001b[1;32m      2\u001b[0m \u001b[0mtimit\u001b[0m \u001b[0;34m=\u001b[0m \u001b[0mload_dataset\u001b[0m\u001b[0;34m(\u001b[0m\u001b[0;34m\"timit\"\u001b[0m\u001b[0;34m)\u001b[0m\u001b[0;34m\u001b[0m\u001b[0;34m\u001b[0m\u001b[0m\n",
      "\u001b[0;31mModuleNotFoundError\u001b[0m: No module named 'datasets'"
     ]
    }
   ],
   "source": [
    "from datasets import load_dataset\n",
    "timit = load_dataset(\"timit\")"
   ]
  },
  {
   "cell_type": "code",
   "execution_count": 3,
   "metadata": {},
   "outputs": [
    {
     "name": "stdout",
     "output_type": "stream",
     "text": [
      "Collecting tokenizers\n",
      "  Using cached tokenizers-0.11.6-cp38-cp38-macosx_10_11_x86_64.whl (3.6 MB)\n",
      "Requirement already satisfied: datasets in /Users/joregan/opt/anaconda3/envs/psst/lib/python3.8/site-packages (1.12.1)\n",
      "Requirement already satisfied: pandas in /Users/joregan/opt/anaconda3/envs/psst/lib/python3.8/site-packages (from datasets) (1.4.1)\n",
      "Requirement already satisfied: multiprocess in /Users/joregan/opt/anaconda3/envs/psst/lib/python3.8/site-packages (from datasets) (0.70.12.2)\n",
      "Requirement already satisfied: aiohttp in /Users/joregan/opt/anaconda3/envs/psst/lib/python3.8/site-packages (from datasets) (3.8.1)\n",
      "Requirement already satisfied: numpy>=1.17 in /Users/joregan/opt/anaconda3/envs/psst/lib/python3.8/site-packages (from datasets) (1.21.2)\n",
      "Collecting tqdm>=4.62.1\n",
      "  Downloading tqdm-4.63.1-py2.py3-none-any.whl (76 kB)\n",
      "\u001b[K     |████████████████████████████████| 76 kB 8.6 MB/s eta 0:00:011\n",
      "\u001b[?25hRequirement already satisfied: huggingface-hub<0.1.0,>=0.0.14 in /Users/joregan/opt/anaconda3/envs/psst/lib/python3.8/site-packages (from datasets) (0.0.17)\n",
      "Requirement already satisfied: requests>=2.19.0 in /Users/joregan/opt/anaconda3/envs/psst/lib/python3.8/site-packages (from datasets) (2.27.1)\n",
      "Requirement already satisfied: packaging in /Users/joregan/opt/anaconda3/envs/psst/lib/python3.8/site-packages (from datasets) (21.3)\n",
      "Requirement already satisfied: pyarrow!=4.0.0,>=1.0.0 in /Users/joregan/opt/anaconda3/envs/psst/lib/python3.8/site-packages (from datasets) (3.0.0)\n",
      "Requirement already satisfied: fsspec[http]>=2021.05.0 in /Users/joregan/opt/anaconda3/envs/psst/lib/python3.8/site-packages (from datasets) (2022.2.0)\n",
      "Requirement already satisfied: dill in /Users/joregan/opt/anaconda3/envs/psst/lib/python3.8/site-packages (from datasets) (0.3.4)\n",
      "Requirement already satisfied: xxhash in /Users/joregan/opt/anaconda3/envs/psst/lib/python3.8/site-packages (from datasets) (2.0.2)\n",
      "Requirement already satisfied: filelock in /Users/joregan/opt/anaconda3/envs/psst/lib/python3.8/site-packages (from huggingface-hub<0.1.0,>=0.0.14->datasets) (3.6.0)\n",
      "Requirement already satisfied: typing-extensions in /Users/joregan/opt/anaconda3/envs/psst/lib/python3.8/site-packages (from huggingface-hub<0.1.0,>=0.0.14->datasets) (4.1.1)\n",
      "Requirement already satisfied: pyparsing!=3.0.5,>=2.0.2 in /Users/joregan/opt/anaconda3/envs/psst/lib/python3.8/site-packages (from packaging->datasets) (3.0.4)\n",
      "Requirement already satisfied: charset-normalizer~=2.0.0 in /Users/joregan/opt/anaconda3/envs/psst/lib/python3.8/site-packages (from requests>=2.19.0->datasets) (2.0.4)\n",
      "Requirement already satisfied: urllib3<1.27,>=1.21.1 in /Users/joregan/opt/anaconda3/envs/psst/lib/python3.8/site-packages (from requests>=2.19.0->datasets) (1.26.8)\n",
      "Requirement already satisfied: idna<4,>=2.5 in /Users/joregan/opt/anaconda3/envs/psst/lib/python3.8/site-packages (from requests>=2.19.0->datasets) (3.3)\n",
      "Requirement already satisfied: certifi>=2017.4.17 in /Users/joregan/opt/anaconda3/envs/psst/lib/python3.8/site-packages (from requests>=2.19.0->datasets) (2021.10.8)\n",
      "Requirement already satisfied: multidict<7.0,>=4.5 in /Users/joregan/opt/anaconda3/envs/psst/lib/python3.8/site-packages (from aiohttp->datasets) (5.2.0)\n",
      "Requirement already satisfied: async-timeout<5.0,>=4.0.0a3 in /Users/joregan/opt/anaconda3/envs/psst/lib/python3.8/site-packages (from aiohttp->datasets) (4.0.1)\n",
      "Requirement already satisfied: aiosignal>=1.1.2 in /Users/joregan/opt/anaconda3/envs/psst/lib/python3.8/site-packages (from aiohttp->datasets) (1.2.0)\n",
      "Requirement already satisfied: frozenlist>=1.1.1 in /Users/joregan/opt/anaconda3/envs/psst/lib/python3.8/site-packages (from aiohttp->datasets) (1.2.0)\n",
      "Requirement already satisfied: yarl<2.0,>=1.0 in /Users/joregan/opt/anaconda3/envs/psst/lib/python3.8/site-packages (from aiohttp->datasets) (1.6.3)\n",
      "Requirement already satisfied: attrs>=17.3.0 in /Users/joregan/opt/anaconda3/envs/psst/lib/python3.8/site-packages (from aiohttp->datasets) (21.4.0)\n",
      "Requirement already satisfied: python-dateutil>=2.8.1 in /Users/joregan/opt/anaconda3/envs/psst/lib/python3.8/site-packages (from pandas->datasets) (2.8.2)\n",
      "Requirement already satisfied: pytz>=2020.1 in /Users/joregan/opt/anaconda3/envs/psst/lib/python3.8/site-packages (from pandas->datasets) (2021.3)\n",
      "Requirement already satisfied: six>=1.5 in /Users/joregan/opt/anaconda3/envs/psst/lib/python3.8/site-packages (from python-dateutil>=2.8.1->pandas->datasets) (1.16.0)\n",
      "Installing collected packages: tqdm, tokenizers\n",
      "  Attempting uninstall: tqdm\n",
      "    Found existing installation: tqdm 4.49.0\n",
      "    Uninstalling tqdm-4.49.0:\n",
      "      Successfully uninstalled tqdm-4.49.0\n",
      "Successfully installed tokenizers-0.11.6 tqdm-4.63.1\n"
     ]
    }
   ],
   "source": [
    "!pip install tokenizers datasets"
   ]
  },
  {
   "cell_type": "code",
   "execution_count": 4,
   "metadata": {},
   "outputs": [],
   "source": [
    "import tokenizers"
   ]
  },
  {
   "cell_type": "code",
   "execution_count": 5,
   "metadata": {},
   "outputs": [],
   "source": [
    "from typing import List\n",
    "\n",
    "class SpacedDecoder:\n",
    "    def decode(self, tokens: List[str]) -> str:\n",
    "        return \" \".join(tokens)"
   ]
  },
  {
   "cell_type": "code",
   "execution_count": 6,
   "metadata": {},
   "outputs": [],
   "source": [
    "from tokenizers import Tokenizer, Regex, NormalizedString, PreTokenizedString"
   ]
  },
  {
   "cell_type": "code",
   "execution_count": null,
   "metadata": {},
   "outputs": [],
   "source": [
    "class CustomNormalizer:\n",
    "    def normalize(self, normalized: NormalizedString):\n",
    "        "
   ]
  }
 ],
 "metadata": {
  "interpreter": {
   "hash": "d540b58ed381b08e1d59ae1450eb32a1dcbfb22cad4960e1d84da899b6d1256c"
  },
  "kernelspec": {
   "display_name": "Python 3.8.12 ('xfm')",
   "language": "python",
   "name": "python3"
  },
  "language_info": {
   "codemirror_mode": {
    "name": "ipython",
    "version": 3
   },
   "file_extension": ".py",
   "mimetype": "text/x-python",
   "name": "python",
   "nbconvert_exporter": "python",
   "pygments_lexer": "ipython3",
   "version": "3.8.12"
  },
  "orig_nbformat": 4
 },
 "nbformat": 4,
 "nbformat_minor": 2
}
