{
  "nbformat": 4,
  "nbformat_minor": 0,
  "metadata": {
    "colab": {
      "name": "lasid conversion in progress.ipynb",
      "provenance": [],
      "collapsed_sections": [
        "m8M3P5610bQh"
      ]
    },
    "kernelspec": {
      "name": "python3",
      "display_name": "Python 3"
    },
    "language_info": {
      "name": "python"
    }
  },
  "cells": [
    {
      "cell_type": "markdown",
      "metadata": {
        "id": "Bedo0vGo0Zzm"
      },
      "source": [
        ""
      ]
    },
    {
      "cell_type": "markdown",
      "metadata": {
        "id": "m8M3P5610bQh"
      },
      "source": [
        "# Set up ICU"
      ]
    },
    {
      "cell_type": "code",
      "metadata": {
        "id": "6JczSqIQqpJp"
      },
      "source": [
        "%%capture\n",
        "!pip install pyicu"
      ],
      "execution_count": 74,
      "outputs": []
    },
    {
      "cell_type": "code",
      "metadata": {
        "id": "C0obF88iqkqf"
      },
      "source": [
        "import icu\n",
        "def transliterator_from_rules(name, rules):\n",
        "    fromrules = icu.Transliterator.createFromRules(name, rules)\n",
        "    icu.Transliterator.registerInstance(fromrules)\n",
        "    return icu.Transliterator.createInstance(name)"
      ],
      "execution_count": 75,
      "outputs": []
    },
    {
      "cell_type": "markdown",
      "metadata": {
        "id": "iv6SXiFo0UxX"
      },
      "source": [
        "# Download data"
      ]
    },
    {
      "cell_type": "code",
      "metadata": {
        "id": "P89hfH4Pns-Y"
      },
      "source": [
        "_URL = \"https://www3.smo.uhi.ac.uk/oduibhin/oideasra/lasid/lasid.zip\""
      ],
      "execution_count": 76,
      "outputs": []
    },
    {
      "cell_type": "code",
      "metadata": {
        "id": "pvVtuN95nys3"
      },
      "source": [
        "%%capture\n",
        "!wget {_URL}"
      ],
      "execution_count": 77,
      "outputs": []
    },
    {
      "cell_type": "code",
      "metadata": {
        "id": "KdLC7A4in2IW"
      },
      "source": [
        "%%capture\n",
        "!unzip lasid.zip"
      ],
      "execution_count": 78,
      "outputs": []
    },
    {
      "cell_type": "markdown",
      "metadata": {
        "id": "4gR3R_qvTkpP"
      },
      "source": [
        "# LASID transliterators"
      ]
    },
    {
      "cell_type": "code",
      "metadata": {
        "id": "KszqfPacocV7"
      },
      "source": [
        "lasid_icu = \"\"\"\n",
        "\\x07 → ᵏ ;\n",
        "\\\\\\t → ᵉ ; # \\x09\n",
        "\\x0e → ᴵ ;\n",
        "\\x11 → ʰ ;\n",
        "\\x12 → ⁱ ;\n",
        "\\x13 → ᵒ ;\n",
        "\\x14 → ᵒ̤ ;\n",
        "\\x15 → ʳ ;\n",
        "\\x16 → ˢ ;\n",
        "\\x17 → ᶴ ;\n",
        "\\x18 → ᵗ ;\n",
        "\\x19 → ᵘ ;\n",
        "\\x1a → ᵘ̯ ;\n",
        "\\x1c → ᵛ ;\n",
        "\\x1d → ʷ ;\n",
        "\\x1e → ᶾ ;\n",
        "\\x1f → ᵊ ;\n",
        "\\# → ᶠ ; # \\x23\n",
        "\\$ → ᵠ ; # \\x24\n",
        "\\% → ᵍ ; # \\x25\n",
        "\\& → ᵞ ; # \\x26 ˠ for IPA\n",
        "\\' → ’ ; # \\x27\n",
        "\\: → ː ; # \\x3a\n",
        "\\< → ⁱ̈ ; # \\x3c\n",
        "\\= → ⁱ̯ ; # \\x3d\n",
        "\\? → ʔ ; # \\x3f\n",
        "\\@ → ʲ ; # \\x40\n",
        "E → ᴇ ; # \\x45\n",
        "I → ɪ ; # \\x49\n",
        "L → ʟ ;\n",
        "N → ɴ ;\n",
        "R → ʀ ;\n",
        "\\^ → ᵐ ; # \\x5e\n",
        "\\_ → ǰ ; # crane, 021 # \\x5f\n",
        "\\` → ɛ̀̃ ; # limekiln, 078: \\x60\n",
        "\\| → ⁿ ; # lamb, 055: \\x7c\n",
        "\\~ → ᵑ ; # dreaming, 078; maybe ⁿ̠ ? # \\x7e\n",
        "\\x7f → ᴇ̃ ;\n",
        "\\x80 → φ ; # ɸ\n",
        "\\x81 → ü ;\n",
        "\\x83 → ɛ \\u0300 ;\n",
        "\\x84 → è \\u0323 ; # FIXME\n",
        "\\\\\\x85 → è̃ ; # this is �, so it needs to be escaped\n",
        "\\x86 → ũ̜ ; # lamb, 038\n",
        "\\x87 → u̜ ; # finger-nails, 043\n",
        "\\x88 → ʈ ; # looks like t̜ : toothache, 033\n",
        "\\x89 → ᵃ ; # eggs, 066\n",
        "\\x8a → è ;\n",
        "\\x8b → ï ;\n",
        "\\x8c → ɔ̜̃ ; # grandmother, 007\n",
        "\\x8d → ɔ̜ ;\n",
        "\\x8e → ɔ̆ ; # before i go, 078\n",
        "\\x8f → õ̜ ; # as cute, 062\n",
        "\\x91 → æ ;\n",
        "\\x92 → o̜ ;\n",
        "\\x93 → ɖ ;\n",
        "\\x94 → ö ;\n",
        "\\x95 → ɑ̜̃ ;\n",
        "\\x96 → û ; # milking, 067\n",
        "\\x97 → ɑ \\u0323 ; # FIXME (maybe α̩  or ɑ̜ ?)\n",
        "\\x98 → v̠ ;\n",
        "\\x99 → t̠ ; # toothache, 021\n",
        "\\x9a → r̠ ;\n",
        "\\x9b → ø ;\n",
        "\\x9c → ɴ̠ ; # sick, 034\n",
        "\\x9d → ŋ̠ ; # grazing, 002\n",
        "\\x9e → n̠ ;\n",
        "\\x9f → l̠ ; # plumage, 068\n",
        "\\xa4 → k̠ ; # plumage, 068\n",
        "\\xa5 → g̠ ;\n",
        "\\xa6 → d̠ ; # wedge, 021\n",
        "\\xa7 → ŭ ;\n",
        "\\xa8 → ö̆ ;\n",
        "\\xa9 → ŏ ;\n",
        "\\xaa → ĭ ;\n",
        "\\xab → ɛ̆ ;\n",
        "\\xac → ĕ ;\n",
        "\\xad → o̤ ;\n",
        "\\xae → λ ;\n",
        "\\xaf → ɑ ; # α in the software\n",
        "\\xb0 → ɔ ;\n",
        "\\xb1 → ɑ̆ \\u0323 ; # FIXME\n",
        "\\xb2 → ə ;\n",
        "\\xb4 → ᵈ ; # tail, 007\n",
        "\\xb6 → ɑ̆ ; # ᾰ in the software\n",
        "\\xb7 → ă ;\n",
        "\\xb8 → λ \\u0323 ; # FIXME\n",
        "\\xb9 → ɛ ;\n",
        "\\xba → ʃ \\u030c ; # calling, 067\n",
        "\\xbb → š ;\n",
        "\\xbc → ř ;\n",
        "\\xbd → ɑ̃ ;\n",
        "\\xbe → ẽ ; # tied, 88N\n",
        "\\xc1 → ′ ; # superscript prime\n",
        "\\xc5 → ᴍ̠ ; # fart, 071\n",
        "\\xc6 → ã ; # calf, 046\n",
        "\\xc7 → t \\u0323 ; # probably t̞\n",
        "\\xc8 → λ̯ ; # mane, 067\n",
        "\\xc9 → o̯ ; # hare, 088\n",
        "\\xca → Ɫ ; # loaf, 001\n",
        "\\xcb → ɫ ; # loaf, 003\n",
        "\\xcc → m̥ ; # awake, 001\n",
        "\\xcd → ʀ̥ ; # thieving, 003\n",
        "\\xce → ˈ ;\n",
        "\\xcf → ˌ ; # cattle, 040\n",
        "\\xd0 → ð ; # boar, 88N\n",
        "\\xd1 → s \\u0323 ; # FIXME # slime 008\n",
        "\\xd2 → r \\u0323 ; # FIXME # bulls 067\n",
        "\\xd3 → ɪ̆ ; # suit of clothes 039\n",
        "\\xd4 → ᴇ̀ ;\n",
        "\\xd5 → p \\u0323 ; # FIXME # castrating 053\n",
        "\\xd7 → ɪ̃ ; # slime, 007\n",
        "\\xd8 → ɪ̈ ; # calf 027\n",
        "\\xdb → o \\u0323 ; # FIXME # cow 028\n",
        "\\xdc → ŋ \\u0323 ; # FIXME # tied 078\n",
        "\\xdd → ö̤ ;\n",
        "\\xde → k \\u0323 ; # FIXME\n",
        "\\xdf → i \\u0323 ; # FIXME # sick 069\n",
        "\\xe1 → g \\u0323 ; # FIXME\n",
        "\\xe2 → e \\u0323 ; # FIXME\n",
        "\\xe3 → d \\u0323 ; # FIXME # agut 052\n",
        "\\xe4 → õ ; # I shall tie 062\n",
        "\\xe5 → b \\u0323 ; # FIXME # castrating 071\n",
        "\\xe6 → ɑ̃ \\u0323 ; #FIXME # barking 049\n",
        "\\xe7 → ɑ \\u0323 ; # FIXME # slime 008\n",
        "\\xe8 → ỹ ;\n",
        "\\xea → λ̃ ;\n",
        "\\xeb → ü̃ ; # churn-dash, 011\n",
        "\\xec → ũ ;\n",
        "\\xed → ɔ̃ ; # cow 074\n",
        "\\xee → õ̤ ; # barking 055\n",
        "\\xef → ′ ;\n",
        "\\xf0 → ″ ;\n",
        "\\xf1 → ö̤̃ ; # dreaming, 078\n",
        "\\xf2 → ö̃ ; # sheep shears 074\n",
        "\\xf3 → ï̃ ; # churn-dash, 034\n",
        "\\xf4 → ĩ ; # sick 001\n",
        "\\xf5 → ɣ̃ ; # tied 075\n",
        "\\xf6 → ɛ̃ ; # tied 067\n",
        "\\xf7 → n̥ ; # awake, 059\n",
        "\\xf8 → r̥ ; # slime 002\n",
        "\\xf9 → ʃ ;\n",
        "\\xfb → · ; # slime 058\n",
        "\\xfa → ɣ ;\n",
        "\\xfc → χ ; # limekiln, 080\n",
        "\\xfd → ʒ ; # sheep shears 054\n",
        "\\xfe → ŋ ;\n",
        "\"\"\""
      ],
      "execution_count": 293,
      "outputs": []
    },
    {
      "cell_type": "code",
      "metadata": {
        "id": "WDsDQpAPwqwf"
      },
      "source": [
        "lasid_titles_icu = \"\"\"\n",
        "\\xb5 → Á ;\n",
        "\\xd6 → Í ;\n",
        "\\x90 → É ;\n",
        "\\xe0 → Ó ;\n",
        "\\xe9 → Ú ;\n",
        "\"\"\""
      ],
      "execution_count": 261,
      "outputs": []
    },
    {
      "cell_type": "code",
      "metadata": {
        "id": "0suC9-ig271C"
      },
      "source": [
        "lasid_spacing = \"\"\"\n",
        "$sp = '\\u0020';\n",
        "$sp $sp $sp $sp $sp → \\_;\n",
        "[^[0-9]] { $sp → ;\n",
        "::null;\n",
        "\\_  → $sp ;\n",
        "\"\"\""
      ],
      "execution_count": 167,
      "outputs": []
    },
    {
      "cell_type": "code",
      "metadata": {
        "id": "l56LHb_Cq3ms"
      },
      "source": [
        "lasid = transliterator_from_rules('lasid_icu', lasid_icu)\n",
        "titles = transliterator_from_rules('lasid_titles', lasid_titles_icu)\n",
        "spacing = transliterator_from_rules('lasid_spacing', lasid_spacing)"
      ],
      "execution_count": 296,
      "outputs": []
    },
    {
      "cell_type": "code",
      "metadata": {
        "id": "qHmQ9l4FrG_q"
      },
      "source": [
        "def translit_phon(text, spaces=True):\n",
        "  # could have been any 8-bit encoding\n",
        "  line = lasid.transliterate(text.decode('ISO-8859-1').rstrip())\n",
        "  if spaces:\n",
        "    return spacing.transliterate(line)\n",
        "  else:\n",
        "    return line"
      ],
      "execution_count": 298,
      "outputs": []
    },
    {
      "cell_type": "code",
      "metadata": {
        "id": "9TKDG_A4jmbC"
      },
      "source": [
        "def translit_irish(text, spaces=True):\n",
        "  line = titles.transliterate(text.decode('ISO-8859-1').rstrip())\n",
        "  if spaces:\n",
        "    return spacing.transliterate(line)\n",
        "  else:\n",
        "    return line"
      ],
      "execution_count": 299,
      "outputs": []
    },
    {
      "cell_type": "markdown",
      "metadata": {
        "id": "sjQ1bIWXjz4k"
      },
      "source": [
        "# Process"
      ]
    },
    {
      "cell_type": "code",
      "metadata": {
        "id": "rH5yUX9in6zd"
      },
      "source": [
        "file = open(\"mapdata.dat\", \"rb\")"
      ],
      "execution_count": 344,
      "outputs": []
    },
    {
      "cell_type": "code",
      "metadata": {
        "id": "-aQCRf42kBrq"
      },
      "source": [
        "data = {}\n",
        "cur = {}\n",
        "ga = ''\n",
        "id = ''\n",
        "en = ''"
      ],
      "execution_count": 345,
      "outputs": []
    },
    {
      "cell_type": "code",
      "metadata": {
        "id": "Hv8LzVsaj6la"
      },
      "source": [
        "for line in file.readlines():\n",
        "  if b'{M' in line:\n",
        "    prev_en = en\n",
        "    text = line.decode('ISO-8859-1').rstrip()\n",
        "    id = text[3:7].strip()\n",
        "    en = text[7:-1].strip()\n",
        "    tmp = {}\n",
        "    tmp['en'] = prev_en\n",
        "    tmp['id'] = id\n",
        "    tmp['ga'] = ga\n",
        "    tmp['data'] = cur\n",
        "    data[id] = tmp\n",
        "    cur = {}\n",
        "  elif b'{F' in line:\n",
        "    raw = translit_irish(line, False)\n",
        "    ga = raw[3:-1].strip()\n",
        "  elif line.decode('ISO-8859-1')[0:1].isnumeric():\n",
        "    pid = line.decode('ISO-8859-1')[0:3]\n",
        "    ptext = translit_phon(line[3:-1], False)\n",
        "    if ptext[-1] == '*':\n",
        "      ptext = ptext[0:-1]\n",
        "    cur[pid] = ptext.strip()"
      ],
      "execution_count": 346,
      "outputs": []
    },
    {
      "cell_type": "code",
      "metadata": {
        "id": "s2QUOsq-obsg"
      },
      "source": [
        "import json\n",
        "with open('lasid.json', 'w') as outfile:\n",
        "    json.dump(data, outfile)"
      ],
      "execution_count": 348,
      "outputs": []
    }
  ]
}