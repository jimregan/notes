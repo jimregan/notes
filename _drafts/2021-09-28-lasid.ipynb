{
  "nbformat": 4,
  "nbformat_minor": 0,
  "metadata": {
    "colab": {
      "name": "Untitled14.ipynb",
      "provenance": [],
      "collapsed_sections": [
        "m8M3P5610bQh"
      ]
    },
    "kernelspec": {
      "name": "python3",
      "display_name": "Python 3"
    },
    "language_info": {
      "name": "python"
    }
  },
  "cells": [
    {
      "cell_type": "markdown",
      "metadata": {
        "id": "Bedo0vGo0Zzm"
      },
      "source": [
        ""
      ]
    },
    {
      "cell_type": "markdown",
      "metadata": {
        "id": "m8M3P5610bQh"
      },
      "source": [
        "# Set up ICU"
      ]
    },
    {
      "cell_type": "code",
      "metadata": {
        "id": "6JczSqIQqpJp"
      },
      "source": [
        "%%capture\n",
        "!pip install pyicu"
      ],
      "execution_count": 1,
      "outputs": []
    },
    {
      "cell_type": "code",
      "metadata": {
        "id": "C0obF88iqkqf"
      },
      "source": [
        "import icu\n",
        "def transliterator_from_rules(name, rules):\n",
        "    fromrules = icu.Transliterator.createFromRules(name, rules)\n",
        "    icu.Transliterator.registerInstance(fromrules)\n",
        "    return icu.Transliterator.createInstance(name)"
      ],
      "execution_count": 2,
      "outputs": []
    },
    {
      "cell_type": "markdown",
      "metadata": {
        "id": "iv6SXiFo0UxX"
      },
      "source": [
        "# Download data"
      ]
    },
    {
      "cell_type": "code",
      "metadata": {
        "id": "P89hfH4Pns-Y"
      },
      "source": [
        "_URL = \"https://www3.smo.uhi.ac.uk/oduibhin/oideasra/lasid/lasid.zip\""
      ],
      "execution_count": 3,
      "outputs": []
    },
    {
      "cell_type": "code",
      "metadata": {
        "id": "pvVtuN95nys3"
      },
      "source": [
        "%%capture\n",
        "!wget {_URL}"
      ],
      "execution_count": 4,
      "outputs": []
    },
    {
      "cell_type": "code",
      "metadata": {
        "id": "KdLC7A4in2IW"
      },
      "source": [
        "%%capture\n",
        "!unzip lasid.zip"
      ],
      "execution_count": 5,
      "outputs": []
    },
    {
      "cell_type": "code",
      "metadata": {
        "id": "rH5yUX9in6zd"
      },
      "source": [
        "file = open(\"mapdata.dat\", \"rb\")"
      ],
      "execution_count": 6,
      "outputs": []
    },
    {
      "cell_type": "code",
      "metadata": {
        "id": "qPMKPmaVy1se"
      },
      "source": [
        "lines = file.readlines()"
      ],
      "execution_count": 7,
      "outputs": []
    },
    {
      "cell_type": "code",
      "metadata": {
        "colab": {
          "base_uri": "https://localhost:8080/"
        },
        "id": "tHunbqNDoBrh",
        "outputId": "5d7d9531-eb8a-4eeb-e030-6a0d3cd2d83e"
      },
      "source": [
        "for line in lines:\n",
        "  if b'\\x09' in line:\n",
        "    print(line)"
      ],
      "execution_count": 33,
      "outputs": [
        {
          "output_type": "stream",
          "name": "stdout",
          "text": [
            "b'066 R \\t i h \\xb2 n *\\r\\n'\n",
            "b'088 k l \\t i:   k l e i *\\r\\n'\n",
            "b'018 b\\xef \\t \\xaf u n *\\r\\n'\n",
            "b'015 s \\xd5\\xef \\t u: n *\\r\\n'\n",
            "b'88S f \\t i: *\\r\\n'\n",
            "b'073 \\xce t\\xef \\xad N t \\t i   \\xce h a r t *\\r\\n'\n",
            "b'043 \\xce f\\xef \\xb9: \\t r b\\xef i \\xce k e: r d \\xb2 \\xce x\\xef @ u: r \\x11 \\xb2 s t u \\xfa \\xad m *\\r\\n'\n"
          ]
        }
      ]
    },
    {
      "cell_type": "markdown",
      "metadata": {
        "id": "4gR3R_qvTkpP"
      },
      "source": [
        "# LASID conversion"
      ]
    },
    {
      "cell_type": "code",
      "metadata": {
        "id": "KszqfPacocV7"
      },
      "source": [
        "lasid_icu = \"\"\"\n",
        "\\xb2 → ə ;\n",
        "\\xf9 → ʃ ;\n",
        "#\\x97 → α̩ ;\n",
        "#\\x97 → ɑ̜ ;\n",
        "\\x97 → α \\u0323 ; # FIXME\n",
        "\\xaf → α ;\n",
        "#\\xaf → ɑ ;\n",
        "\\x9b → ø ;\n",
        "\\x94 → ö ;\n",
        "\\xef → ′ ;\n",
        "\\xf0 → ″ ;\n",
        "\\x9a → r̠ ;\n",
        "\\x8b → ï ;\n",
        "\\xce → ˈ ;\n",
        "\\x1f → ᵊ ;\n",
        "\\: → ː ;\n",
        "I → ɪ ;\n",
        "\\xfa → ɣ ;\n",
        "\\xb9 → ɛ ;\n",
        "\\x8a → è ;\n",
        "\\x80 → ɸ ;\n",
        "\\@ → ʲ ;\n",
        "\\xb6 → ᾰ ;\n",
        "\\xe8 → ỹ ;\n",
        "\\xea → λ̃ ;\n",
        "\\xae → λ ;\n",
        "\\x11 → ʰ ;\n",
        "\\xb0 → ɔ ;\n",
        "\\x8d → ɔ̜ ;\n",
        "\\? → ʔ ;\n",
        "\\xde → k \\u0323 ; # FIXME\n",
        "\\xe1 → g \\u0323 ; # FIXME\n",
        "\\xe2 → e \\u0323 ; # FIXME\n",
        "\\xdd → ö̤ ;\n",
        "E → ᴇ ;\n",
        "\\xd4 → ᴇ̀ ;\n",
        "\\xac → ĕ ;\n",
        "\\x12 → ⁱ ;\n",
        "\\x83 → ɛ \\u0300 ;\n",
        "\\xad → o̤ ;\n",
        "\\x99 → t̠ ; # toothache, 021\n",
        "\\x88 → ʈ ; # looks like t̜ : toothache, 033\n",
        "\\xfe → ŋ ;\n",
        "\\x87 → u̜ ; # finger-nails, 043\n",
        "\\xb7 → ă ;\n",
        "\\xcc → m̥ ; # awake, 001\n",
        "\\xf7 → n̥ ; # awake, 059\n",
        "\\xc7 → t \\u0323 ; # probably t̞\n",
        "\\xa9 → ŏ ;\n",
        "\\xa6 → d̠ ; # wedge, 021\n",
        "\\_ → ǰ ; # crane, 021\n",
        "\\xf1 → ö̤̃ ; # dreaming, 078\n",
        "\\~ → ᵑ ; # dreaming, 078; maybe ⁿ̠ ?\n",
        "\\x1e → ᶾ ;\n",
        "#\\x9b → ø ;\n",
        "\\xb8 → λ \\u0323 ; # FIXME\n",
        "\\xd1 → s \\u0323 ; # FIXME\n",
        "\\x07 → ᵏ ;\n",
        "#\\x09 → ᵉ ;\n",
        "\\\\\\t → ᵉ ;\n",
        "L → ʟ ;\n",
        "N → ɴ ;\n",
        "R → ʀ ;\n",
        "\"\"\""
      ],
      "execution_count": 64,
      "outputs": []
    },
    {
      "cell_type": "code",
      "metadata": {
        "id": "l56LHb_Cq3ms"
      },
      "source": [
        "lasid = transliterator_from_rules('lasid_icu', lasid_icu)\n"
      ],
      "execution_count": 65,
      "outputs": []
    },
    {
      "cell_type": "code",
      "metadata": {
        "id": "q9BvNEwPrBg6"
      },
      "source": [
        "test = b'066 R \\t i h \\xb2 n *\\r\\n'"
      ],
      "execution_count": 66,
      "outputs": []
    },
    {
      "cell_type": "code",
      "metadata": {
        "colab": {
          "base_uri": "https://localhost:8080/",
          "height": 35
        },
        "id": "qHmQ9l4FrG_q",
        "outputId": "00db3fdc-f7c2-4214-ba0a-ab99331634c0"
      },
      "source": [
        "lasid.transliterate(test.decode('ISO-8859-1').rstrip())"
      ],
      "execution_count": 67,
      "outputs": [
        {
          "output_type": "execute_result",
          "data": {
            "application/vnd.google.colaboratory.intrinsic+json": {
              "type": "string"
            },
            "text/plain": [
              "'066 ʀ ᵉ i h ə n *'"
            ]
          },
          "metadata": {},
          "execution_count": 67
        }
      ]
    }
  ]
}