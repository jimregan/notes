{
  "nbformat": 4,
  "nbformat_minor": 0,
  "metadata": {
    "colab": {
      "name": "lasid conversion in progress.ipynb",
      "provenance": [],
      "collapsed_sections": [
        "m8M3P5610bQh"
      ]
    },
    "kernelspec": {
      "name": "python3",
      "display_name": "Python 3"
    },
    "language_info": {
      "name": "python"
    }
  },
  "cells": [
    {
      "cell_type": "markdown",
      "metadata": {
        "id": "Bedo0vGo0Zzm"
      },
      "source": [
        ""
      ]
    },
    {
      "cell_type": "markdown",
      "metadata": {
        "id": "m8M3P5610bQh"
      },
      "source": [
        "# Set up ICU"
      ]
    },
    {
      "cell_type": "code",
      "metadata": {
        "id": "6JczSqIQqpJp"
      },
      "source": [
        "%%capture\n",
        "!pip install pyicu"
      ],
      "execution_count": 74,
      "outputs": []
    },
    {
      "cell_type": "code",
      "metadata": {
        "id": "C0obF88iqkqf"
      },
      "source": [
        "import icu\n",
        "def transliterator_from_rules(name, rules):\n",
        "    fromrules = icu.Transliterator.createFromRules(name, rules)\n",
        "    icu.Transliterator.registerInstance(fromrules)\n",
        "    return icu.Transliterator.createInstance(name)"
      ],
      "execution_count": 75,
      "outputs": []
    },
    {
      "cell_type": "markdown",
      "metadata": {
        "id": "iv6SXiFo0UxX"
      },
      "source": [
        "# Download data"
      ]
    },
    {
      "cell_type": "code",
      "metadata": {
        "id": "P89hfH4Pns-Y"
      },
      "source": [
        "_URL = \"https://www3.smo.uhi.ac.uk/oduibhin/oideasra/lasid/lasid.zip\""
      ],
      "execution_count": 76,
      "outputs": []
    },
    {
      "cell_type": "code",
      "metadata": {
        "id": "pvVtuN95nys3"
      },
      "source": [
        "%%capture\n",
        "!wget {_URL}"
      ],
      "execution_count": 77,
      "outputs": []
    },
    {
      "cell_type": "code",
      "metadata": {
        "id": "KdLC7A4in2IW"
      },
      "source": [
        "%%capture\n",
        "!unzip lasid.zip"
      ],
      "execution_count": 78,
      "outputs": []
    },
    {
      "cell_type": "code",
      "metadata": {
        "id": "rH5yUX9in6zd"
      },
      "source": [
        "file = open(\"mapdata.dat\", \"rb\")"
      ],
      "execution_count": 79,
      "outputs": []
    },
    {
      "cell_type": "code",
      "metadata": {
        "id": "qPMKPmaVy1se"
      },
      "source": [
        "lines = file.readlines()"
      ],
      "execution_count": 80,
      "outputs": []
    },
    {
      "cell_type": "code",
      "metadata": {
        "id": "tHunbqNDoBrh"
      },
      "source": [
        "title = \"\"\n",
        "for key in b'\\xab\\xb1\\xb4\\xba\\xbe\\xc5\\xc6\\xc8\\xc9\\xcd\\xcf\\xd0\\xd1\\xd2\\xd3\\xd5\\xd7\\xd8\\xdb\\xdc\\xdf\\xe3\\xe4\\xe5\\xe6\\xe7\\xeb\\xed\\xee\\xf2\\xf3\\xf4\\xf5\\xf6\\xf8\\xfb\\xfd':\n",
        "  for line in lines:\n",
        "    if b'{M' in line:\n",
        "      title = line\n",
        "    if key in line:\n",
        "      print(\"\\\\x{:02x} → \".format(key))\n",
        "      print(title)\n",
        "      print(line)\n",
        "      test = line\n",
        "      break"
      ],
      "execution_count": null,
      "outputs": []
    },
    {
      "cell_type": "markdown",
      "metadata": {
        "id": "4gR3R_qvTkpP"
      },
      "source": [
        "# LASID conversion"
      ]
    },
    {
      "cell_type": "code",
      "metadata": {
        "id": "KszqfPacocV7"
      },
      "source": [
        "lasid_icu = \"\"\"\n",
        "\\x07 → ᵏ ;\n",
        "\\\\\\t → ᵉ ; # \\x09\n",
        "\\x0e → ᴵ ;\n",
        "\\x11 → ʰ ;\n",
        "\\x12 → ⁱ ;\n",
        "\\x13 → ᵒ ;\n",
        "\\x14 → ᵒ̤ ;\n",
        "\\x15 → ʳ ;\n",
        "\\x16 → ˢ ;\n",
        "\\x17 → ᶴ ;\n",
        "\\x18 → ᵗ ;\n",
        "\\x19 → ᵘ ;\n",
        "\\x1a → ᵘ̯ ;\n",
        "\\x1c → ᵛ ;\n",
        "\\x1d → ʷ ;\n",
        "\\x1e → ᶾ ;\n",
        "\\x1f → ᵊ ;\n",
        "\\# → ᶠ ; # \\x23\n",
        "\\$ → ᵠ ; # \\x24\n",
        "\\% → ᵍ ; # \\x25\n",
        "\\& → ᵞ ; # \\x26 ˠ for IPA\n",
        "\\' → ’ ; # \\x27\n",
        "\\: → ː ; # \\x3a\n",
        "\\< → ⁱ̈ ; # \\x3c\n",
        "\\= → ⁱ̯ ; # \\x3d\n",
        "\\? → ʔ ; # \\x3f\n",
        "\\@ → ʲ ; # \\x40\n",
        "E → ᴇ ; # \\x45\n",
        "I → ɪ ; # \\x49\n",
        "L → ʟ ;\n",
        "N → ɴ ;\n",
        "R → ʀ ;\n",
        "\\^ → ᵐ ; # \\x5e\n",
        "\\_ → ǰ ; # crane, 021 # \\x5f\n",
        "\\` → ɛ̀̃ ; # limekiln, 078: \\x60\n",
        "\\| → ⁿ ; # lamb, 055: \\x7c\n",
        "\\~ → ᵑ ; # dreaming, 078; maybe ⁿ̠ ? # \\x7e\n",
        "\\x7f → ᴇ̃ ;\n",
        "\\x80 → φ ; # ɸ\n",
        "\\x81 → ü ;\n",
        "\\x83 → ɛ \\u0300 ;\n",
        "\\x84 → è \\u0323 ; # FIXME\n",
        "\\\\\\x85 → è̃ ; # this is �, so it needs to be escaped\n",
        "\\x86 → ũ̜ ; # lamb, 038\n",
        "\\x87 → u̜ ; # finger-nails, 043\n",
        "\\x88 → ʈ ; # looks like t̜ : toothache, 033\n",
        "\\x89 → ᵃ ; # eggs, 066\n",
        "\\x8a → è ;\n",
        "\\x8b → ï ;\n",
        "\\x8c → ɔ̜̃ ; # grandmother, 007\n",
        "\\x8d → ɔ̜ ;\n",
        "\\x8e → ɔ̆ ; # before i go, 078\n",
        "\\x8f → õ̜ ; # as cute, 062\n",
        "\\x91 → æ ;\n",
        "\\x92 → o̜ ;\n",
        "\\x93 → ɖ ;\n",
        "\\x94 → ö ;\n",
        "\\x95 → ɑ̜̃ ;\n",
        "\\x96 → û ; # milking, 067\n",
        "\\x97 → ɑ \\u0323 ; # FIXME (maybe α̩  or ɑ̜ ?)\n",
        "\\x98 → v̠ ;\n",
        "\\x99 → t̠ ; # toothache, 021\n",
        "\\x9a → r̠ ;\n",
        "\\x9b → ø ;\n",
        "\\x9c → ɴ̠ ; # sick, 034\n",
        "\\x9d → ŋ̠ ; # grazing, 002\n",
        "\\x9e → n̠ ;\n",
        "\\x9f → l̠ ; # plumage, 068\n",
        "\\xa4 → k̠ ; # plumage, 068\n",
        "\\xa5 → g̠ ;\n",
        "\\xa6 → d̠ ; # wedge, 021\n",
        "\\xa7 → ŭ ;\n",
        "\\xa8 → ö̆ ;\n",
        "\\xa9 → ŏ ;\n",
        "\\xaa → ĭ ;\n",
        "\\xab → ɛ̆ ;\n",
        "\\xac → ĕ ;\n",
        "\\xad → o̤ ;\n",
        "\\xae → λ ;\n",
        "\\xaf → ɑ ; # α in the software\n",
        "\\xb0 → ɔ ;\n",
        "\\xb1 → ɑ̆ \\u0323 ; # FIXME\n",
        "\\xb2 → ə ;\n",
        "\\xb4 → ᵈ ; # tail, 007\n",
        "\\xb6 → ɑ̆ ; # ᾰ in the software\n",
        "\\xb7 → ă ;\n",
        "\\xb8 → λ \\u0323 ; # FIXME\n",
        "\\xb9 → ɛ ;\n",
        "\\xba → ʃ \\u030c ; # calling, 067\n",
        "\\xbb → š ;\n",
        "\\xbc → ř ;\n",
        "\\xbd → ɑ̃ ;\n",
        "\\xbe → ẽ ; # tied, 88N\n",
        "\\xc1 → ′ ; # superscript prime\n",
        "\\xc5 → ᴍ̠ ; # fart, 071\n",
        "\\xc6 → ã ; # calf, 046\n",
        "\\xc7 → t \\u0323 ; # probably t̞\n",
        "\\xc8 → λ̯ ; # mane, 067\n",
        "\\xc9 → o̯ ; # hare, 088\n",
        "\\xca → Ɫ ; # loaf, 001\n",
        "\\xcb → ɫ ; # loaf, 003\n",
        "\\xcc → m̥ ; # awake, 001\n",
        "\\xcd → ʀ̥ ; # thieving, 003\n",
        "\\xce → ˈ ;\n",
        "\\xcf → ˌ ; # cattle, 040\n",
        "\\xd0 → ð ; # boar, 88N\n",
        "\\xd1 → s \\u0323 ; # FIXME # slime 008\n",
        "\\xd2 → r \\u0323 ; # FIXME # bulls 067\n",
        "\\xd3 → ɪ̆ ; # suit of clothes 039\n",
        "\\xd4 → ᴇ̀ ;\n",
        "\\xd5 → p \\u0323 ; # FIXME # castrating 053\n",
        "\\xd7 → ɪ̃ ; # slime, 007\n",
        "\\xd8 → ɪ̈ ; # calf 027\n",
        "\\xdb → o \\u0323 ; # FIXME # cow 028\n",
        "\\xdc → ŋ \\u0323 ; # FIXME # tied 078\n",
        "\\xdd → ö̤ ;\n",
        "\\xde → k \\u0323 ; # FIXME\n",
        "\\xdf → i \\u0323 ; # FIXME # sick 069\n",
        "\\xe1 → g \\u0323 ; # FIXME\n",
        "\\xe2 → e \\u0323 ; # FIXME\n",
        "\\xe3 → d \\u0323 ; # FIXME # agut 052\n",
        "\\xe4 → õ ; # I shall tie 062\n",
        "\\xe5 → b \\u0323 ; # FIXME # castrating 071\n",
        "\\xe6 → ɑ̃ \\u0323 ; #FIXME # barking 049\n",
        "\\xe7 → ɑ \\u0323 ; # FIXME # slime 008\n",
        "\\xe8 → ỹ ;\n",
        "\\xea → λ̃ ;\n",
        "\\xec → ũ ;\n",
        "\\xed → ɔ̃ ; # cow 074\n",
        "\\xee → õ̤ ; # barking 055\n",
        "\\xef → ′ ;\n",
        "\\xf0 → ″ ;\n",
        "\\xf1 → ö̤̃ ; # dreaming, 078\n",
        "\\xf4 → ĩ ; # sick 001\n",
        "\\xf5 → ɣ̃ ; # tied 075\n",
        "\\xf6 → ɛ̃ ; # tied 067\n",
        "\\xf7 → n̥ ; # awake, 059\n",
        "\\xf8 → r̥ ; # slime 002\n",
        "\\xf9 → ʃ ;\n",
        "\\xfb → · ; # slime 058\n",
        "\\xfa → ɣ ;\n",
        "\\xfc → χ ; # limekiln, 080\n",
        "\\xfe → ŋ ;\n",
        "\"\"\""
      ],
      "execution_count": 282,
      "outputs": []
    },
    {
      "cell_type": "code",
      "metadata": {
        "id": "WDsDQpAPwqwf"
      },
      "source": [
        "lasid_titles_icu = \"\"\"\n",
        "\\xb5 → Á ;\n",
        "\\xd6 → Í ;\n",
        "\\x90 → É ;\n",
        "\\xe0 → Ó ;\n",
        "\"\"\""
      ],
      "execution_count": 261,
      "outputs": []
    },
    {
      "cell_type": "code",
      "metadata": {
        "id": "0suC9-ig271C"
      },
      "source": [
        "lasid_spacing = \"\"\"\n",
        "$sp = '\\u0020';\n",
        "$sp $sp $sp $sp $sp → \\_;\n",
        "[^[0-9]] { $sp → ;\n",
        "::null;\n",
        "\\_  → $sp ;\n",
        "\"\"\""
      ],
      "execution_count": 167,
      "outputs": []
    },
    {
      "cell_type": "code",
      "metadata": {
        "colab": {
          "base_uri": "https://localhost:8080/",
          "height": 35
        },
        "id": "l56LHb_Cq3ms",
        "outputId": "b9c3ed5b-8e24-4abd-9e3f-f37512f42766"
      },
      "source": [
        "lasid = transliterator_from_rules('lasid_icu', lasid_icu)\n",
        "#test=b'049 t \\xe6 \\x80 \\xb2 n *\\r\\n'\n",
        "#test=b'055 t a \\x80 \\xee n *\\r\\n'\n",
        "test=b'057 \\xe7 L: \\xb2 x *\\r\\n'\n",
        "#test=b'011 l \\xeb n\\xef i h \\xac *\\r\\n'\n",
        "#test=b'034 l \\xf3 n\\xef h \\xb2 *\\r\\n'\n",
        "#test=b'074 g\\xef \\xf2 v\\xef \\xb2 s *\\r\\n'\n",
        "#test=b'054 d\\xef \\xfd I v\\xef \\xb2 s *\\r\\n'\n",
        "\n",
        "lasid.transliterate(test.decode('ISO-8859-1').rstrip())"
      ],
      "execution_count": 284,
      "outputs": [
        {
          "output_type": "execute_result",
          "data": {
            "application/vnd.google.colaboratory.intrinsic+json": {
              "type": "string"
            },
            "text/plain": [
              "'055 t a φ õ̤ n *'"
            ]
          },
          "metadata": {},
          "execution_count": 284
        }
      ]
    },
    {
      "cell_type": "code",
      "metadata": {
        "colab": {
          "base_uri": "https://localhost:8080/",
          "height": 35
        },
        "id": "qHmQ9l4FrG_q",
        "outputId": "408b1b5d-09ee-488b-a0c6-79f9b62077a4"
      },
      "source": [
        "lasid.transliterate(test.decode('ISO-8859-1').rstrip())"
      ],
      "execution_count": 217,
      "outputs": [
        {
          "output_type": "execute_result",
          "data": {
            "application/vnd.google.colaboratory.intrinsic+json": {
              "type": "string"
            },
            "text/plain": [
              "\"075 ' ɔ h ɔ ĭ h′ *\""
            ]
          },
          "metadata": {},
          "execution_count": 217
        }
      ]
    }
  ]
}