{
  "nbformat": 4,
  "nbformat_minor": 0,
  "metadata": {
    "colab": {
      "name": "lasid conversion in progress.ipynb",
      "provenance": [],
      "collapsed_sections": [
        "m8M3P5610bQh"
      ]
    },
    "kernelspec": {
      "name": "python3",
      "display_name": "Python 3"
    },
    "language_info": {
      "name": "python"
    }
  },
  "cells": [
    {
      "cell_type": "markdown",
      "metadata": {
        "id": "Bedo0vGo0Zzm"
      },
      "source": [
        ""
      ]
    },
    {
      "cell_type": "markdown",
      "metadata": {
        "id": "m8M3P5610bQh"
      },
      "source": [
        "# Set up ICU"
      ]
    },
    {
      "cell_type": "code",
      "metadata": {
        "id": "6JczSqIQqpJp"
      },
      "source": [
        "%%capture\n",
        "!pip install pyicu"
      ],
      "execution_count": 1,
      "outputs": []
    },
    {
      "cell_type": "code",
      "metadata": {
        "id": "C0obF88iqkqf"
      },
      "source": [
        "import icu\n",
        "def transliterator_from_rules(name, rules):\n",
        "    fromrules = icu.Transliterator.createFromRules(name, rules)\n",
        "    icu.Transliterator.registerInstance(fromrules)\n",
        "    return icu.Transliterator.createInstance(name)"
      ],
      "execution_count": 2,
      "outputs": []
    },
    {
      "cell_type": "markdown",
      "metadata": {
        "id": "iv6SXiFo0UxX"
      },
      "source": [
        "# Download data"
      ]
    },
    {
      "cell_type": "code",
      "metadata": {
        "id": "P89hfH4Pns-Y"
      },
      "source": [
        "_URL = \"https://www3.smo.uhi.ac.uk/oduibhin/oideasra/lasid/lasid.zip\""
      ],
      "execution_count": 3,
      "outputs": []
    },
    {
      "cell_type": "code",
      "metadata": {
        "id": "pvVtuN95nys3"
      },
      "source": [
        "%%capture\n",
        "!wget {_URL}"
      ],
      "execution_count": 4,
      "outputs": []
    },
    {
      "cell_type": "code",
      "metadata": {
        "id": "KdLC7A4in2IW"
      },
      "source": [
        "%%capture\n",
        "!unzip lasid.zip"
      ],
      "execution_count": 5,
      "outputs": []
    },
    {
      "cell_type": "code",
      "metadata": {
        "id": "rH5yUX9in6zd"
      },
      "source": [
        "file = open(\"mapdata.dat\", \"rb\")"
      ],
      "execution_count": 6,
      "outputs": []
    },
    {
      "cell_type": "code",
      "metadata": {
        "id": "qPMKPmaVy1se"
      },
      "source": [
        "lines = file.readlines()"
      ],
      "execution_count": 7,
      "outputs": []
    },
    {
      "cell_type": "code",
      "metadata": {
        "colab": {
          "base_uri": "https://localhost:8080/"
        },
        "id": "tHunbqNDoBrh",
        "outputId": "3c86a14b-5e61-4453-817f-6c33b5746049"
      },
      "source": [
        "for line in lines:\n",
        "  if b'\\x84' in line:\n",
        "    print(line)\n",
        "    test = line\n",
        "    break"
      ],
      "execution_count": 67,
      "outputs": [
        {
          "output_type": "stream",
          "name": "stdout",
          "text": [
            "b'007 \\xb2  \\xce n \\x84 x \\xb2 r  *\\r\\n'\n"
          ]
        }
      ]
    },
    {
      "cell_type": "markdown",
      "metadata": {
        "id": "4gR3R_qvTkpP"
      },
      "source": [
        "# LASID conversion"
      ]
    },
    {
      "cell_type": "code",
      "metadata": {
        "id": "KszqfPacocV7"
      },
      "source": [
        "lasid_icu = \"\"\"\n",
        "\\x07 → ᵏ ;\n",
        "\\\\\\t → ᵉ ; # \\x09\n",
        "\\x0e → ᴵ ;\n",
        "\\x11 → ʰ ;\n",
        "\\x12 → ⁱ ;\n",
        "\\x13 → ᵒ ;\n",
        "\\x14 → ᵒ̤ ;\n",
        "\\x15 → ʳ ;\n",
        "\\x16 → ˢ ;\n",
        "\\x17 → ᶴ ;\n",
        "\\x18 → ᵗ ;\n",
        "\\x19 → ᵘ ;\n",
        "\\x1a → ᵘ̯ ;\n",
        "\\x1c → ᵛ ;\n",
        "\\x1d → ʷ ;\n",
        "\\x1e → ᶾ ;\n",
        "\\x1f → ᵊ ;\n",
        "\\# → ᶠ ; # \\x23\n",
        "\\$ → ᵠ ; # \\x24\n",
        "\\% → ᵍ ; # \\x25\n",
        "\\& → ᵞ ; # \\x26 ˠ for IPA\n",
        "\\' → ’ ; # \\x27\n",
        "\\: → ː ; # \\x3a\n",
        "\\< → ⁱ̈ ; # \\x3c\n",
        "\\= → ⁱ̯ ; # \\x3d\n",
        "\\? → ʔ ; # \\x3f\n",
        "\\@ → ʲ ; # \\x40\n",
        "E → ᴇ ; # \\x45\n",
        "I → ɪ ; # \\x49\n",
        "L → ʟ ;\n",
        "N → ɴ ;\n",
        "R → ʀ ;\n",
        "\\^ → ᵐ ; # \\x5e\n",
        "\\_ → ǰ ; # crane, 021 # \\x5f\n",
        "\\` → ɛ̀̃ ; # limekiln, 078: \\x60\n",
        "\\| → ⁿ ; # lamb, 055: \\x7c\n",
        "\\~ → ᵑ ; # dreaming, 078; maybe ⁿ̠ ? # \\x7e\n",
        "\\x7f → ᴇ̃ ;\n",
        "\\x80 → φ ; # ɸ\n",
        "\\x81 → ü ;\n",
        "\\x83 → ɛ \\u0300 ;\n",
        "\\x84 → è \\u0323 ; # FIXME\n",
        "\\x87 → u̜ ; # finger-nails, 043\n",
        "\\x88 → ʈ ; # looks like t̜ : toothache, 033\n",
        "\\x8a → è ;\n",
        "\\x8b → ï ;\n",
        "\\x8d → ɔ̜ ;\n",
        "\\x94 → ö ;\n",
        "\\x97 → ɑ \\u0323 ; # FIXME (maybe α̩  or ɑ̜ ?)\n",
        "\\x99 → t̠ ; # toothache, 021\n",
        "\\x9a → r̠ ;\n",
        "\\x9b → ø ;\n",
        "\\xa6 → d̠ ; # wedge, 021\n",
        "\\xa7 → ŭ ;\n",
        "\\xa9 → ŏ ;\n",
        "\\xac → ĕ ;\n",
        "\\xad → o̤ ;\n",
        "\\xae → λ ;\n",
        "\\xaf → ɑ ; # α in the software\n",
        "\\xb0 → ɔ ;\n",
        "\\xb2 → ə ;\n",
        "\\xb6 → ɑ̆ ; # ᾰ in the software\n",
        "\\xb7 → ă ;\n",
        "\\xb8 → λ \\u0323 ; # FIXME\n",
        "\\xb9 → ɛ ;\n",
        "\\xbd → ɑ̃ ;\n",
        "\\xc1 → ′ ; # superscript prime\n",
        "\\xc7 → t \\u0323 ; # probably t̞\n",
        "\\xcc → m̥ ; # awake, 001\n",
        "\\xce → ˈ ;\n",
        "\\xd1 → s \\u0323 ; # FIXME\n",
        "\\xd4 → ᴇ̀ ;\n",
        "\\xdd → ö̤ ;\n",
        "\\xde → k \\u0323 ; # FIXME\n",
        "\\xe1 → g \\u0323 ; # FIXME\n",
        "\\xe2 → e \\u0323 ; # FIXME\n",
        "\\xe8 → ỹ ;\n",
        "\\xea → λ̃ ;\n",
        "\\xec → ũ ;\n",
        "\\xef → ′ ;\n",
        "\\xf0 → ″ ;\n",
        "\\xf1 → ö̤̃ ; # dreaming, 078\n",
        "\\xf7 → n̥ ; # awake, 059\n",
        "\\xf9 → ʃ ;\n",
        "\\xfa → ɣ ;\n",
        "\\xfc → χ ; # limekiln, 080\n",
        "\\xfe → ŋ ;\n",
        "\"\"\""
      ],
      "execution_count": 71,
      "outputs": []
    },
    {
      "cell_type": "code",
      "metadata": {
        "id": "l56LHb_Cq3ms"
      },
      "source": [
        "lasid = transliterator_from_rules('lasid_icu', lasid_icu)\n"
      ],
      "execution_count": 72,
      "outputs": []
    },
    {
      "cell_type": "code",
      "metadata": {
        "colab": {
          "base_uri": "https://localhost:8080/",
          "height": 35
        },
        "id": "qHmQ9l4FrG_q",
        "outputId": "f48868e5-eb4c-4c55-82e6-bdd6ec755c33"
      },
      "source": [
        "lasid.transliterate(test.decode('ISO-8859-1').rstrip())"
      ],
      "execution_count": 73,
      "outputs": [
        {
          "output_type": "execute_result",
          "data": {
            "application/vnd.google.colaboratory.intrinsic+json": {
              "type": "string"
            },
            "text/plain": [
              "'007 ə  ˈ n ẹ̀ x ə r  *'"
            ]
          },
          "metadata": {},
          "execution_count": 73
        }
      ]
    }
  ]
}