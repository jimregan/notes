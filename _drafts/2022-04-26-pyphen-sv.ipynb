{
  "nbformat": 4,
  "nbformat_minor": 0,
  "metadata": {
    "colab": {
      "name": "2022-04-26-pyphen-sv.ipynb",
      "provenance": []
    },
    "kernelspec": {
      "name": "python3",
      "display_name": "Python 3"
    },
    "language_info": {
      "name": "python"
    }
  },
  "cells": [
    {
      "cell_type": "markdown",
      "source": [
        "# Hyphenisation with pyphen\n",
        "\n",
        "> \"Snippet to get Hunspell-based hyphenisation from pyphen\"\n",
        "\n",
        "- toc: false\n",
        "- branch: master\n",
        "- categories: [pyphen, hyphenisation, snippet]"
      ],
      "metadata": {
        "id": "97II0HSI0QBS"
      }
    },
    {
      "cell_type": "code",
      "execution_count": 7,
      "metadata": {
        "colab": {
          "base_uri": "https://localhost:8080/"
        },
        "id": "b5v_k5s1uFM0",
        "outputId": "7c37d292-c2c2-4a14-a4c0-567ab07a7bb3"
      },
      "outputs": [
        {
          "output_type": "stream",
          "name": "stdout",
          "text": [
            "Collecting pyphen\n",
            "  Downloading pyphen-0.12.0-py3-none-any.whl (2.0 MB)\n",
            "\u001b[K     |████████████████████████████████| 2.0 MB 3.8 MB/s \n",
            "\u001b[?25hInstalling collected packages: pyphen\n",
            "Successfully installed pyphen-0.12.0\n"
          ]
        }
      ],
      "source": [
        "!pip install pyphen"
      ]
    },
    {
      "cell_type": "code",
      "source": [
        "import pyphen"
      ],
      "metadata": {
        "id": "Pn7X19XcvGrT"
      },
      "execution_count": 8,
      "outputs": []
    },
    {
      "cell_type": "code",
      "source": [
        "'sv' in pyphen.LANGUAGES"
      ],
      "metadata": {
        "colab": {
          "base_uri": "https://localhost:8080/"
        },
        "id": "qbAN0HcKu_S8",
        "outputId": "4b5b8083-e646-4d22-e871-92621d36c127"
      },
      "execution_count": 11,
      "outputs": [
        {
          "output_type": "execute_result",
          "data": {
            "text/plain": [
              "True"
            ]
          },
          "metadata": {},
          "execution_count": 11
        }
      ]
    },
    {
      "cell_type": "code",
      "source": [
        "dic = pyphen.Pyphen(lang='sv')"
      ],
      "metadata": {
        "id": "Q5koqCs6vSKg"
      },
      "execution_count": 12,
      "outputs": []
    },
    {
      "cell_type": "code",
      "source": [
        "dic.inserted(\"internetbaserad\").replace(\"-\", \" \")"
      ],
      "metadata": {
        "colab": {
          "base_uri": "https://localhost:8080/",
          "height": 35
        },
        "id": "J5VGPo02vYhA",
        "outputId": "59f6d4d3-f137-4b86-bae7-7f6c26ec1741"
      },
      "execution_count": 15,
      "outputs": [
        {
          "output_type": "execute_result",
          "data": {
            "text/plain": [
              "'in ter net ba se rad'"
            ],
            "application/vnd.google.colaboratory.intrinsic+json": {
              "type": "string"
            }
          },
          "metadata": {},
          "execution_count": 15
        }
      ]
    }
  ]
}