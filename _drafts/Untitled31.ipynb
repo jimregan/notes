{
  "nbformat": 4,
  "nbformat_minor": 0,
  "metadata": {
    "colab": {
      "provenance": []
    },
    "kernelspec": {
      "name": "python3",
      "display_name": "Python 3"
    },
    "language_info": {
      "name": "python"
    }
  },
  "cells": [
    {
      "cell_type": "markdown",
      "source": [
        "Statistics, Exercise 1\n",
        "\n",
        "Jim O'Regan"
      ],
      "metadata": {
        "id": "zYG_myTNfXZ9"
      }
    },
    {
      "cell_type": "markdown",
      "source": [
        "Question 1:"
      ],
      "metadata": {
        "id": "U6UfGOAEcXMy"
      }
    },
    {
      "cell_type": "markdown",
      "source": [
        "One sample population proportion:\n",
        "\n",
        "$P \\pm Z \\times \\sqrt{\\frac{P(1-P}{n}}$\n",
        "\n",
        "n = 300"
      ],
      "metadata": {
        "id": "q84pXIiRMcNz"
      }
    },
    {
      "cell_type": "markdown",
      "source": [
        "Mean:\n",
        "\n",
        "$63 \\div 300 = 0.21$\n",
        "\n",
        "$P = 0.21$\n",
        "\n",
        "$Z = 1.96$ (Table value)\n",
        "\n",
        "$0.21 \\pm 1.96 \\times \\sqrt{\\frac{0.21(1-0.21))}{300}}$\n",
        "\n",
        "$=0.21 \\pm 1.96 \\times 0.02$"
      ],
      "metadata": {
        "id": "BHekvHGXcH61"
      }
    },
    {
      "cell_type": "markdown",
      "source": [
        "$= 0.21 \\pm 0.04$\n",
        "\n",
        "$=$ **0.17** to **0.25**"
      ],
      "metadata": {
        "id": "bRUBi5F5dYXO"
      }
    },
    {
      "cell_type": "markdown",
      "source": [
        "Question 2:"
      ],
      "metadata": {
        "id": "CKhD3Uihd8SA"
      }
    },
    {
      "cell_type": "markdown",
      "source": [
        "One sample population proportion:\n",
        "\n",
        "$P \\pm Z \\times \\sqrt{\\frac{P(1-P}{n}}$\n",
        "\n",
        "n = 4063\n",
        "\n",
        "$Z = 1.96$ (Table value)"
      ],
      "metadata": {
        "id": "41Jag8BmNV_k"
      }
    },
    {
      "cell_type": "markdown",
      "source": [
        "Mean:\n",
        "\n",
        "$533 \\div 4063 = 0.1312$\n",
        "\n",
        "$P = 0.1312$\n",
        "\n",
        "$0.1312 \\pm 1.96 \\times \\sqrt{\\frac{0.1312(1-0.312)}{4063}}$\n",
        "\n",
        "$=0.1312 \\pm 1.96 \\times 0.0053$"
      ],
      "metadata": {
        "id": "i1KFneToeUpx"
      }
    },
    {
      "cell_type": "markdown",
      "source": [
        "$= 0.1312 \\pm 0.0103$\n",
        "\n",
        "$=$ **0.1209** to **0.1415**"
      ],
      "metadata": {
        "id": "hEu9qUaHe-nf"
      }
    },
    {
      "cell_type": "markdown",
      "source": [
        "Exercise 3"
      ],
      "metadata": {
        "id": "LIjfcaxsilwH"
      }
    },
    {
      "cell_type": "code",
      "source": [
        "x1 = [9.5, 10.5, 9.0, 9.75, 10.0, 13, 10, 13.5, 10, 9.5, 10, 9.75]\n",
        "x2 = [12.5, 9.5, 13.5, 13.75, 12.0, 13.75, 12.5, 9.5, 12.0, 13.5, 12.0, 12.0]"
      ],
      "metadata": {
        "id": "Kx192vApioGH"
      },
      "execution_count": 12,
      "outputs": []
    },
    {
      "cell_type": "markdown",
      "source": [
        "Two independent samples, difference between the population means, small samples:\n",
        "\n",
        "$\\bar{X_1} - \\bar{X_2} \\pm Z \\sqrt{\\frac{\\sigma_p^2}{n_1} - \\frac{\\sigma_p^2}{n_2}}$\n",
        "\n",
        "$\\sigma_p^2 = \\frac{(n_1-1)s_1^2 + (n_2-1)s_2^2}{n_1+n_2+2}$\n",
        "\n"
      ],
      "metadata": {
        "id": "8APLbg1tOCQZ"
      }
    },
    {
      "cell_type": "markdown",
      "source": [
        "$H_0: \\mu_1 = \\mu_2$\n",
        "\n",
        "$H_1: \\mu_1 \\ne \\mu_2$"
      ],
      "metadata": {
        "id": "pvwoFwb9jN4p"
      }
    },
    {
      "cell_type": "markdown",
      "source": [
        "$\\bar{X_1} = 10.375$\n",
        "\n",
        "$\\bar{X_2} = 12.2083$"
      ],
      "metadata": {
        "id": "blvHQD_2kI6j"
      }
    },
    {
      "cell_type": "markdown",
      "source": [
        "$\\sigma_1 = 1.396$\n",
        "\n",
        "$\\sigma_2 = 1.449$\n",
        "\n",
        "$n_1 = 12$\n",
        "\n",
        "$n_2 = 12$"
      ],
      "metadata": {
        "id": "k_Ymf40UzGRF"
      }
    },
    {
      "cell_type": "markdown",
      "source": [
        "$\\bar{X_1} - \\bar{X_2} \\pm Z \\sqrt{\\frac{\\sigma_p^2}{12} - \\frac{\\sigma_p^2}{12}}$\n",
        "\n",
        "$\\sigma_p^2 = \\frac{(12-1)(1.396)^2 + (12-1)(1.449)^2}{12+12+2}$\n",
        "\n",
        "$\\sigma_p^2 = \\frac{(11)1.9488 + (11)2.0996}{22}$\n",
        "\n",
        "$\\sigma_p^2 = \\frac{21.437 + 23.096}{22}$\n",
        "\n",
        "$\\sigma_p^2 = \\frac{44.533}{22}$\n",
        "\n",
        "$\\sigma_p^2 = 2.0242$\n",
        "\n",
        "\n",
        "$Z = 2.07$ (table value)\n",
        "\n",
        "\n",
        "$-1.833 \\pm 2.07 \\times \\sqrt{\\frac{2.0242}{12} + \\frac{2.0242}{12}}$\n",
        "\n",
        "$-1.833 \\pm 2.07 \\times \\sqrt{0.1687 + 0.1687}$\n",
        "\n",
        "$-1.833 \\pm 2.07 \\times \\sqrt{0.3374}$\n",
        "\n",
        "$-1.833 \\pm 2.07 \\times 0.5809$\n",
        "\n",
        "$-1.833 \\pm 1.2025$\n",
        "\n",
        "$[-3.0355, -0.6305]$\n",
        "\n",
        "\n",
        "The populations are not the same with 95% confidence.\n",
        "\n"
      ],
      "metadata": {
        "id": "5n1T7caZOe_t"
      }
    },
    {
      "cell_type": "markdown",
      "source": [
        "Exercise 4:"
      ],
      "metadata": {
        "id": "lL_xa4rtdsnN"
      }
    },
    {
      "cell_type": "markdown",
      "source": [
        "One sample, population mean, small samples:\n",
        "\n",
        "$\\bar{X} \\pm Z \\times \\sqrt{\\frac{\\sigma^2}{n}}$"
      ],
      "metadata": {
        "id": "tzVuT1Jydu2k"
      }
    },
    {
      "cell_type": "markdown",
      "source": [
        "$H_0: \\mu_1 = \\mu_2$\n",
        "\n",
        "$H_1: \\mu_1 \\ne \\mu_2$"
      ],
      "metadata": {
        "id": "Sr4fO0XFgVRr"
      }
    },
    {
      "cell_type": "code",
      "source": [
        "x1 = [137, 140, 148, 147, 143, 140]\n",
        "x2 = [142, 136, 158, 145, 150, 148]\n",
        "d = [5, -4, 10, -2, 7, 8]\n",
        "\n",
        "for i in range(0, 6):\n",
        "    print(f\"| {x1[i]}       | {x2[i]}           | {d[i]}         |\")"
      ],
      "metadata": {
        "colab": {
          "base_uri": "https://localhost:8080/"
        },
        "id": "YqcmcxAOiALp",
        "outputId": "7131e6cc-b7c8-4db9-d708-a38f64d6fe69"
      },
      "execution_count": 47,
      "outputs": [
        {
          "output_type": "stream",
          "name": "stdout",
          "text": [
            "| 137       | 142           | 5         |\n",
            "| 140       | 136           | -4         |\n",
            "| 148       | 158           | 10         |\n",
            "| 147       | 145           | -2         |\n",
            "| 143       | 150           | 7         |\n",
            "| 140       | 148           | 8         |\n"
          ]
        }
      ]
    },
    {
      "cell_type": "markdown",
      "source": [
        "| With Music | Without Music | Difference |\n",
        "|------------|---------------|------------|\n",
        "| 137        | 142           | 5          |\n",
        "| 140        | 136           | -4         |\n",
        "| 148        | 158           | 10         |\n",
        "| 147        | 145           | -2         |\n",
        "| 143        | 150           | 7          |\n",
        "| 140        | 148           | 8          |\n"
      ],
      "metadata": {
        "id": "CMVXqVDrhx1z"
      }
    },
    {
      "cell_type": "markdown",
      "source": [
        "$\\bar{X} = 4$\n",
        "\n",
        "$\\sigma = 5.6921$\n",
        "\n",
        "$df = (6 - 1) = 5$\n",
        "\n",
        "\n"
      ],
      "metadata": {
        "id": "-ywQ6awZg1Fp"
      }
    }
  ]
}