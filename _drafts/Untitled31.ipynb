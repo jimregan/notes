{
  "nbformat": 4,
  "nbformat_minor": 0,
  "metadata": {
    "colab": {
      "provenance": []
    },
    "kernelspec": {
      "name": "python3",
      "display_name": "Python 3"
    },
    "language_info": {
      "name": "python"
    }
  },
  "cells": [
    {
      "cell_type": "markdown",
      "source": [
        "Statistics, Exercise 1\n",
        "\n",
        "Jim O'Regan"
      ],
      "metadata": {
        "id": "zYG_myTNfXZ9"
      }
    },
    {
      "cell_type": "markdown",
      "source": [
        "Question 1:"
      ],
      "metadata": {
        "id": "U6UfGOAEcXMy"
      }
    },
    {
      "cell_type": "markdown",
      "source": [
        "One sample population proportion:\n",
        "\n",
        "$P \\pm Z \\times \\sqrt{\\frac{P(1-P}{n}}$\n",
        "\n",
        "n = 300"
      ],
      "metadata": {
        "id": "q84pXIiRMcNz"
      }
    },
    {
      "cell_type": "markdown",
      "source": [
        "Mean:\n",
        "\n",
        "$63 \\div 300 = 0.21$\n",
        "\n",
        "$P = 0.21$\n",
        "\n",
        "$Z = 1.96$ (Table value)\n",
        "\n",
        "$0.21 \\pm 1.96 \\times \\sqrt{\\frac{0.21(1-0.21))}{300}}$\n",
        "\n",
        "$=0.21 \\pm 1.96 \\times 0.02$"
      ],
      "metadata": {
        "id": "BHekvHGXcH61"
      }
    },
    {
      "cell_type": "markdown",
      "source": [
        "$= 0.21 \\pm 0.04$\n",
        "\n",
        "$=$ **0.17** to **0.25**"
      ],
      "metadata": {
        "id": "bRUBi5F5dYXO"
      }
    },
    {
      "cell_type": "markdown",
      "source": [
        "Question 2:"
      ],
      "metadata": {
        "id": "CKhD3Uihd8SA"
      }
    },
    {
      "cell_type": "markdown",
      "source": [
        "One sample population proportion:\n",
        "\n",
        "$P \\pm Z \\times \\sqrt{\\frac{P(1-P}{n}}$\n",
        "\n",
        "n = 4063\n",
        "\n",
        "$Z = 1.96$ (Table value)"
      ],
      "metadata": {
        "id": "41Jag8BmNV_k"
      }
    },
    {
      "cell_type": "markdown",
      "source": [
        "Mean:\n",
        "\n",
        "$533 \\div 4063 = 0.1312$\n",
        "\n",
        "$P = 0.1312$\n",
        "\n",
        "$0.1312 \\pm 1.96 \\times \\sqrt{\\frac{0.1312(1-0.312)}{4063}}$\n",
        "\n",
        "$=0.1312 \\pm 1.96 \\times 0.0053$"
      ],
      "metadata": {
        "id": "i1KFneToeUpx"
      }
    },
    {
      "cell_type": "markdown",
      "source": [
        "$= 0.1312 \\pm 0.0103$\n",
        "\n",
        "$=$ **0.1209** to **0.1415**"
      ],
      "metadata": {
        "id": "hEu9qUaHe-nf"
      }
    },
    {
      "cell_type": "markdown",
      "source": [
        "Exercise 3"
      ],
      "metadata": {
        "id": "LIjfcaxsilwH"
      }
    },
    {
      "cell_type": "code",
      "source": [
        "x1 = [9.5, 10.5, 9.0, 9.75, 10.0, 13, 10, 13.5, 10, 9.5, 10, 9.75]\n",
        "x2 = [12.5, 9.5, 13.5, 13.75, 12.0, 13.75, 12.5, 9.5, 12.0, 13.5, 12.0, 12.0]"
      ],
      "metadata": {
        "id": "Kx192vApioGH"
      },
      "execution_count": 12,
      "outputs": []
    },
    {
      "cell_type": "markdown",
      "source": [
        "Two independent samples, difference between the population means, small samples:\n",
        "\n",
        "$\\bar{X_1} - \\bar{X_2} \\pm Z \\sqrt{\\frac{\\sigma_p^2}{n_1} - \\frac{\\sigma_p^2}{n_2}}$\n",
        "\n",
        "$\\sigma_p^2 = \\frac{(n_1-1)s_1^2 + (n_2-1)s_2^2}{n_1+n_2+2}$\n",
        "\n"
      ],
      "metadata": {
        "id": "8APLbg1tOCQZ"
      }
    },
    {
      "cell_type": "markdown",
      "source": [
        "$H_0: \\mu_1 = \\mu_2$\n",
        "\n",
        "$H_1: \\mu_1 \\ne \\mu_2$"
      ],
      "metadata": {
        "id": "pvwoFwb9jN4p"
      }
    },
    {
      "cell_type": "markdown",
      "source": [
        "$\\bar{X_1} = 10.375$\n",
        "\n",
        "$\\bar{X_2} = 12.2083$"
      ],
      "metadata": {
        "id": "blvHQD_2kI6j"
      }
    },
    {
      "cell_type": "markdown",
      "source": [
        "$\\sigma_1 = 1.396$\n",
        "\n",
        "$\\sigma_2 = 1.449$\n",
        "\n",
        "$n_1 = 12$\n",
        "\n",
        "$n_2 = 12$"
      ],
      "metadata": {
        "id": "k_Ymf40UzGRF"
      }
    },
    {
      "cell_type": "code",
      "source": [
        "1.396 ** 2, 1.449 ** 2"
      ],
      "metadata": {
        "colab": {
          "base_uri": "https://localhost:8080/"
        },
        "id": "7F5Q5bkKbdxU",
        "outputId": "825f16a1-6aa9-4c03-884e-afbbaa2411ed"
      },
      "execution_count": 38,
      "outputs": [
        {
          "output_type": "execute_result",
          "data": {
            "text/plain": [
              "(1.9488159999999997, 2.0996010000000003)"
            ]
          },
          "metadata": {},
          "execution_count": 38
        }
      ]
    },
    {
      "cell_type": "code",
      "source": [
        "(1.396 ** 2) * 11, (1.449 ** 2) * 11"
      ],
      "metadata": {
        "colab": {
          "base_uri": "https://localhost:8080/"
        },
        "id": "fYnbG4yIbpLJ",
        "outputId": "b5ab1500-f5cc-48e0-c3a7-53d63c539515"
      },
      "execution_count": 39,
      "outputs": [
        {
          "output_type": "execute_result",
          "data": {
            "text/plain": [
              "(21.436975999999998, 23.095611)"
            ]
          },
          "metadata": {},
          "execution_count": 39
        }
      ]
    },
    {
      "cell_type": "code",
      "source": [
        "21.437 + 23.096"
      ],
      "metadata": {
        "colab": {
          "base_uri": "https://localhost:8080/"
        },
        "id": "36gXm9gFb4B8",
        "outputId": "f93fbb09-098c-4ab7-e8a0-06d76a518bc8"
      },
      "execution_count": 40,
      "outputs": [
        {
          "output_type": "execute_result",
          "data": {
            "text/plain": [
              "44.533"
            ]
          },
          "metadata": {},
          "execution_count": 40
        }
      ]
    },
    {
      "cell_type": "code",
      "source": [
        "44.533 /22\n"
      ],
      "metadata": {
        "colab": {
          "base_uri": "https://localhost:8080/"
        },
        "id": "t3IsU_ybb_Mk",
        "outputId": "c77df17f-dbf1-4ecf-c5a2-8c44a6a27e9f"
      },
      "execution_count": 41,
      "outputs": [
        {
          "output_type": "execute_result",
          "data": {
            "text/plain": [
              "2.024227272727273"
            ]
          },
          "metadata": {},
          "execution_count": 41
        }
      ]
    },
    {
      "cell_type": "code",
      "source": [
        "2.0242 / 12"
      ],
      "metadata": {
        "colab": {
          "base_uri": "https://localhost:8080/"
        },
        "id": "mWj8RVgTcZL1",
        "outputId": "4754f7fe-5d53-4874-838e-c4d477d04b7c"
      },
      "execution_count": 42,
      "outputs": [
        {
          "output_type": "execute_result",
          "data": {
            "text/plain": [
              "0.16868333333333332"
            ]
          },
          "metadata": {},
          "execution_count": 42
        }
      ]
    },
    {
      "cell_type": "code",
      "source": [
        "0.1687 * 2"
      ],
      "metadata": {
        "colab": {
          "base_uri": "https://localhost:8080/"
        },
        "id": "h-CNt5jEciqX",
        "outputId": "68599d32-c767-467c-eac3-9f2b69dd8e28"
      },
      "execution_count": 43,
      "outputs": [
        {
          "output_type": "execute_result",
          "data": {
            "text/plain": [
              "0.3374"
            ]
          },
          "metadata": {},
          "execution_count": 43
        }
      ]
    },
    {
      "cell_type": "code",
      "source": [
        "math.sqrt(0.3374)"
      ],
      "metadata": {
        "colab": {
          "base_uri": "https://localhost:8080/"
        },
        "id": "gVbZfYpZcmiN",
        "outputId": "2615474d-3654-4ae9-887e-81c8b670936a"
      },
      "execution_count": 44,
      "outputs": [
        {
          "output_type": "execute_result",
          "data": {
            "text/plain": [
              "0.5808614292583042"
            ]
          },
          "metadata": {},
          "execution_count": 44
        }
      ]
    },
    {
      "cell_type": "code",
      "source": [
        "0.5809 * 2.07"
      ],
      "metadata": {
        "colab": {
          "base_uri": "https://localhost:8080/"
        },
        "id": "eqiAItgBcu-n",
        "outputId": "7bccf468-eefe-4745-bbec-8968e38a004c"
      },
      "execution_count": 45,
      "outputs": [
        {
          "output_type": "execute_result",
          "data": {
            "text/plain": [
              "1.2024629999999998"
            ]
          },
          "metadata": {},
          "execution_count": 45
        }
      ]
    },
    {
      "cell_type": "code",
      "source": [
        "-1.833 - 1.2025, -1.833 + 1.2025"
      ],
      "metadata": {
        "colab": {
          "base_uri": "https://localhost:8080/"
        },
        "id": "UtEeZYf4c-xT",
        "outputId": "5a447c8e-bf7e-4638-e385-3ec8869ce252"
      },
      "execution_count": 46,
      "outputs": [
        {
          "output_type": "execute_result",
          "data": {
            "text/plain": [
              "(-3.0355, -0.6305000000000001)"
            ]
          },
          "metadata": {},
          "execution_count": 46
        }
      ]
    },
    {
      "cell_type": "markdown",
      "source": [
        "$\\bar{X_1} - \\bar{X_2} \\pm Z \\sqrt{\\frac{\\sigma_p^2}{12} - \\frac{\\sigma_p^2}{12}}$\n",
        "\n",
        "$\\sigma_p^2 = \\frac{(12-1)(1.396)^2 + (12-1)(1.449)^2}{12+12+2}$\n",
        "\n",
        "$\\sigma_p^2 = \\frac{(11)1.9488 + (11)2.0996}{22}$\n",
        "\n",
        "$\\sigma_p^2 = \\frac{21.437 + 23.096}{22}$\n",
        "\n",
        "$\\sigma_p^2 = \\frac{44.533}{22}$\n",
        "\n",
        "$\\sigma_p^2 = 2.0242$\n",
        "\n",
        "\n",
        "$Z = 2.07$ (table value)\n",
        "\n",
        "\n",
        "$-1.833 \\pm 2.07 \\times \\sqrt{\\frac{2.0242}{12} + \\frac{2.0242}{12}}$\n",
        "\n",
        "$-1.833 \\pm 2.07 \\times \\sqrt{0.1687 + 0.1687}$\n",
        "\n",
        "$-1.833 \\pm 2.07 \\times \\sqrt{0.3374}$\n",
        "\n",
        "$-1.833 \\pm 2.07 \\times 0.5809$\n",
        "\n",
        "$-1.833 \\pm 1.2025$\n",
        "\n",
        "$[-3.0355, -0.6305]$\n",
        "\n",
        "\n",
        "The populations are not the same with 95% confidence.\n",
        "\n"
      ],
      "metadata": {
        "id": "5n1T7caZOe_t"
      }
    },
    {
      "cell_type": "code",
      "source": [
        "math.sqrt(0.0126)"
      ],
      "metadata": {
        "colab": {
          "base_uri": "https://localhost:8080/"
        },
        "id": "23f1wOBBO675",
        "outputId": "83b950c0-077f-43ef-b8f1-dc8cbadb5267"
      },
      "execution_count": 37,
      "outputs": [
        {
          "output_type": "execute_result",
          "data": {
            "text/plain": [
              "0.11224972160321824"
            ]
          },
          "metadata": {},
          "execution_count": 37
        }
      ]
    },
    {
      "cell_type": "code",
      "source": [
        "10.375-12.2083"
      ],
      "metadata": {
        "colab": {
          "base_uri": "https://localhost:8080/"
        },
        "id": "0cjcikB7PC3h",
        "outputId": "eec71e14-d574-4637-a62a-57f018888ddf"
      },
      "execution_count": 33,
      "outputs": [
        {
          "output_type": "execute_result",
          "data": {
            "text/plain": [
              "-1.8332999999999995"
            ]
          },
          "metadata": {},
          "execution_count": 33
        }
      ]
    },
    {
      "cell_type": "code",
      "source": [
        "def std(x):\n",
        "    mean = np.mean(x)\n",
        "    \n",
        "    sq_sum = lambda x: (x - mean) ** 2\n",
        "    n = len(x)\n",
        "    \n",
        "    sq_sum = list(map(sq_sum, x))\n",
        "    return math.sqrt(sum(sq_sum) / (n - 1))\n",
        "\n",
        "\n",
        "def sem(x):\n",
        "    s_sq = std(x) ** 2\n",
        "    n = len(x)\n",
        "    \n",
        "    return math.sqrt(s_sq / n)\n"
      ],
      "metadata": {
        "id": "cGkq--r8z2we"
      },
      "execution_count": 26,
      "outputs": []
    }
  ]
}