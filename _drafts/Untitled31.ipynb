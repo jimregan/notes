{
  "nbformat": 4,
  "nbformat_minor": 0,
  "metadata": {
    "colab": {
      "provenance": []
    },
    "kernelspec": {
      "name": "python3",
      "display_name": "Python 3"
    },
    "language_info": {
      "name": "python"
    }
  },
  "cells": [
    {
      "cell_type": "markdown",
      "source": [
        "Statistics, Exercise 1\n",
        "\n",
        "Jim O'Regan"
      ],
      "metadata": {
        "id": "zYG_myTNfXZ9"
      }
    },
    {
      "cell_type": "markdown",
      "source": [
        "Question 1:"
      ],
      "metadata": {
        "id": "U6UfGOAEcXMy"
      }
    },
    {
      "cell_type": "markdown",
      "source": [
        "One sample population proportion:\n",
        "\n",
        "$P \\pm Z \\times \\sqrt{\\frac{P(1-P}{n}}$\n",
        "\n",
        "n = 300"
      ],
      "metadata": {
        "id": "q84pXIiRMcNz"
      }
    },
    {
      "cell_type": "markdown",
      "source": [
        "Mean:\n",
        "\n",
        "$63 \\div 300 = 0.21$\n",
        "\n",
        "$P = 0.21$\n",
        "\n",
        "$Z = 1.96$ (Table value)\n",
        "\n",
        "$0.21 \\pm 1.96 \\times \\sqrt{\\frac{0.21(1-0.21))}{300}}$\n",
        "\n",
        "$=0.21 \\pm 1.96 \\times 0.02$"
      ],
      "metadata": {
        "id": "BHekvHGXcH61"
      }
    },
    {
      "cell_type": "markdown",
      "source": [
        "$= 0.21 \\pm 0.04$\n",
        "\n",
        "$=$ **0.17** to **0.25**"
      ],
      "metadata": {
        "id": "bRUBi5F5dYXO"
      }
    },
    {
      "cell_type": "markdown",
      "source": [
        "Question 2:"
      ],
      "metadata": {
        "id": "CKhD3Uihd8SA"
      }
    },
    {
      "cell_type": "markdown",
      "source": [
        "One sample population proportion:\n",
        "\n",
        "$P \\pm Z \\times \\sqrt{\\frac{P(1-P}{n}}$\n",
        "\n",
        "n = 4063\n",
        "\n",
        "$Z = 1.96$ (Table value)"
      ],
      "metadata": {
        "id": "41Jag8BmNV_k"
      }
    },
    {
      "cell_type": "markdown",
      "source": [
        "Mean:\n",
        "\n",
        "$533 \\div 4063 = 0.1312$\n",
        "\n",
        "$P = 0.1312$\n",
        "\n",
        "$0.1312 \\pm 1.96 \\times \\sqrt{\\frac{0.1312(1-0.312)}{4063}}$\n",
        "\n",
        "$=0.1312 \\pm 1.96 \\times 0.0053$"
      ],
      "metadata": {
        "id": "i1KFneToeUpx"
      }
    },
    {
      "cell_type": "markdown",
      "source": [
        "$= 0.1312 \\pm 0.0103$\n",
        "\n",
        "$=$ **0.1209** to **0.1415**"
      ],
      "metadata": {
        "id": "hEu9qUaHe-nf"
      }
    },
    {
      "cell_type": "markdown",
      "source": [
        "Exercise 3"
      ],
      "metadata": {
        "id": "LIjfcaxsilwH"
      }
    },
    {
      "cell_type": "code",
      "source": [
        "x1 = [9.5, 10.5, 9.0, 9.75, 10.0, 13, 10, 13.5, 10, 9.5, 10, 9.75]\n",
        "x2 = [12.5, 9.5, 13.5, 13.75, 12.0, 13.75, 12.5, 9.5, 12.0, 13.5, 12.0, 12.0]"
      ],
      "metadata": {
        "id": "Kx192vApioGH"
      },
      "execution_count": 12,
      "outputs": []
    },
    {
      "cell_type": "markdown",
      "source": [
        "Two independent samples, difference between the population means, small samples:\n",
        "\n",
        "$\\bar{X_1} - \\bar{X_2} \\pm Z \\sqrt{\\frac{\\sigma_p^2}{n_1} - \\frac{\\sigma_p^2}{n_2}}$\n",
        "\n",
        "$\\sigma_p^2 = \\frac{(n_1-1)s_1^2 + (n_2-1)s_2^2}{n_1+n_2+2}$\n",
        "\n"
      ],
      "metadata": {
        "id": "8APLbg1tOCQZ"
      }
    },
    {
      "cell_type": "markdown",
      "source": [
        "$H_0: \\mu_1 = \\mu_2$\n",
        "\n",
        "$H_1: \\mu_1 \\ne \\mu_2$"
      ],
      "metadata": {
        "id": "pvwoFwb9jN4p"
      }
    },
    {
      "cell_type": "markdown",
      "source": [
        "$\\bar{X_1} = 10.375$\n",
        "\n",
        "$\\bar{X_2} = 12.2083$"
      ],
      "metadata": {
        "id": "blvHQD_2kI6j"
      }
    },
    {
      "cell_type": "markdown",
      "source": [
        "$\\sigma_1 = 1.396$\n",
        "\n",
        "$\\sigma_2 = 1.449$\n",
        "\n",
        "$n_1 = 12$\n",
        "\n",
        "$n_2 = 12$"
      ],
      "metadata": {
        "id": "k_Ymf40UzGRF"
      }
    },
    {
      "cell_type": "markdown",
      "source": [
        "$10.375 - 12.2083 \\pm Z \\sqrt{\\frac{(1.396)^2}{12} - \\frac{(1.449)^2}{12}}$\n",
        "\n",
        "$-1.833 \\pm Z \\sqrt{\\frac{1.9488}{12} - \\frac{2.0996}{12}}$\n",
        "\n",
        "$-1.833 \\pm Z \\sqrt{0.1624 - 0.175}$\n",
        "\n",
        "$-1.833 \\pm Z \\sqrt{-0.0126}$\n",
        "\n",
        "$-1.833 \\pm Z \\sqrt{-0.0126}$\n",
        "\n"
      ],
      "metadata": {
        "id": "5n1T7caZOe_t"
      }
    },
    {
      "cell_type": "code",
      "source": [
        "math.sqrt(0.0126)"
      ],
      "metadata": {
        "colab": {
          "base_uri": "https://localhost:8080/"
        },
        "id": "23f1wOBBO675",
        "outputId": "83b950c0-077f-43ef-b8f1-dc8cbadb5267"
      },
      "execution_count": 37,
      "outputs": [
        {
          "output_type": "execute_result",
          "data": {
            "text/plain": [
              "0.11224972160321824"
            ]
          },
          "metadata": {},
          "execution_count": 37
        }
      ]
    },
    {
      "cell_type": "code",
      "source": [
        "10.375-12.2083"
      ],
      "metadata": {
        "colab": {
          "base_uri": "https://localhost:8080/"
        },
        "id": "0cjcikB7PC3h",
        "outputId": "eec71e14-d574-4637-a62a-57f018888ddf"
      },
      "execution_count": 33,
      "outputs": [
        {
          "output_type": "execute_result",
          "data": {
            "text/plain": [
              "-1.8332999999999995"
            ]
          },
          "metadata": {},
          "execution_count": 33
        }
      ]
    },
    {
      "cell_type": "code",
      "source": [
        "def std(x):\n",
        "    mean = np.mean(x)\n",
        "    \n",
        "    sq_sum = lambda x: (x - mean) ** 2\n",
        "    n = len(x)\n",
        "    \n",
        "    sq_sum = list(map(sq_sum, x))\n",
        "    return math.sqrt(sum(sq_sum) / (n - 1))\n",
        "\n",
        "\n",
        "def sem(x):\n",
        "    s_sq = std(x) ** 2\n",
        "    n = len(x)\n",
        "    \n",
        "    return math.sqrt(s_sq / n)\n"
      ],
      "metadata": {
        "id": "cGkq--r8z2we"
      },
      "execution_count": 26,
      "outputs": []
    }
  ]
}