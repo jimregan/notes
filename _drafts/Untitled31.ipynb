{
  "nbformat": 4,
  "nbformat_minor": 0,
  "metadata": {
    "colab": {
      "provenance": []
    },
    "kernelspec": {
      "name": "python3",
      "display_name": "Python 3"
    },
    "language_info": {
      "name": "python"
    }
  },
  "cells": [
    {
      "cell_type": "markdown",
      "source": [
        "Statistics, Exercise 1\n",
        "\n",
        "Jim O'Regan"
      ],
      "metadata": {
        "id": "zYG_myTNfXZ9"
      }
    },
    {
      "cell_type": "markdown",
      "source": [
        "Question 1:"
      ],
      "metadata": {
        "id": "U6UfGOAEcXMy"
      }
    },
    {
      "cell_type": "code",
      "execution_count": 2,
      "metadata": {
        "colab": {
          "base_uri": "https://localhost:8080/",
          "height": 0
        },
        "id": "YuLAwyiecEM9",
        "outputId": "0828595c-f258-4260-e9c7-c6fce2b18547"
      },
      "outputs": [
        {
          "output_type": "execute_result",
          "data": {
            "text/plain": [
              "0.21"
            ]
          },
          "metadata": {},
          "execution_count": 2
        }
      ],
      "source": [
        "# Mean\n",
        "63 / 300"
      ]
    },
    {
      "cell_type": "markdown",
      "source": [
        "Standard error:\n",
        "\n",
        "$\\sqrt{\\frac{0.21(1-0.21)}{300}}$"
      ],
      "metadata": {
        "id": "BHekvHGXcH61"
      }
    },
    {
      "cell_type": "code",
      "source": [
        "import math\n",
        "math.sqrt((0.21 * (1 - 0.21)) / 300)"
      ],
      "metadata": {
        "colab": {
          "base_uri": "https://localhost:8080/",
          "height": 0
        },
        "id": "ysmJM_55cmf_",
        "outputId": "f16f9708-0739-413b-935d-66824b16594c"
      },
      "execution_count": 6,
      "outputs": [
        {
          "output_type": "execute_result",
          "data": {
            "text/plain": [
              "0.023515952032609692"
            ]
          },
          "metadata": {},
          "execution_count": 6
        }
      ]
    },
    {
      "cell_type": "markdown",
      "source": [
        "95% confidence limits $=0.21 \\pm (1.96 \\times 0.02)$"
      ],
      "metadata": {
        "id": "HKYhoWpBc923"
      }
    },
    {
      "cell_type": "code",
      "source": [
        "1.96 * 0.02"
      ],
      "metadata": {
        "colab": {
          "base_uri": "https://localhost:8080/",
          "height": 0
        },
        "id": "XokC8OlVdNKj",
        "outputId": "6fb83b30-4265-4e92-be5e-72618f409778"
      },
      "execution_count": 8,
      "outputs": [
        {
          "output_type": "execute_result",
          "data": {
            "text/plain": [
              "0.0392"
            ]
          },
          "metadata": {},
          "execution_count": 8
        }
      ]
    },
    {
      "cell_type": "markdown",
      "source": [
        "$= 0.21 \\pm 0.04$\n",
        "\n",
        "$=$ **0.17** to **0.25**"
      ],
      "metadata": {
        "id": "bRUBi5F5dYXO"
      }
    },
    {
      "cell_type": "markdown",
      "source": [
        "Question 2:"
      ],
      "metadata": {
        "id": "CKhD3Uihd8SA"
      }
    },
    {
      "cell_type": "code",
      "source": [
        "533 / 4063"
      ],
      "metadata": {
        "colab": {
          "base_uri": "https://localhost:8080/",
          "height": 0
        },
        "id": "-Pw34MBUeLOt",
        "outputId": "be9b11f1-5267-4460-8024-99814132016d"
      },
      "execution_count": 9,
      "outputs": [
        {
          "output_type": "execute_result",
          "data": {
            "text/plain": [
              "0.13118385429485602"
            ]
          },
          "metadata": {},
          "execution_count": 9
        }
      ]
    },
    {
      "cell_type": "markdown",
      "source": [
        "$0.1312 \\pm 1.96 \\times \\sqrt{\\frac{0.1312(1-0.312)}{4063}}$"
      ],
      "metadata": {
        "id": "i1KFneToeUpx"
      }
    },
    {
      "cell_type": "code",
      "source": [
        "math.sqrt((0.1312 * (1 - 0.1312)) / 4063)"
      ],
      "metadata": {
        "colab": {
          "base_uri": "https://localhost:8080/",
          "height": 0
        },
        "id": "TRBKVevYek4j",
        "outputId": "65d464e4-98ce-43c1-f67f-a006f9c6887c"
      },
      "execution_count": 10,
      "outputs": [
        {
          "output_type": "execute_result",
          "data": {
            "text/plain": [
              "0.005296676057508483"
            ]
          },
          "metadata": {},
          "execution_count": 10
        }
      ]
    },
    {
      "cell_type": "code",
      "source": [
        "1.96 * 0.0053"
      ],
      "metadata": {
        "colab": {
          "base_uri": "https://localhost:8080/",
          "height": 0
        },
        "id": "qIznivxVe3e7",
        "outputId": "6b93aa9f-d9e3-4423-c491-59c32bd6fbfc"
      },
      "execution_count": 11,
      "outputs": [
        {
          "output_type": "execute_result",
          "data": {
            "text/plain": [
              "0.010388"
            ]
          },
          "metadata": {},
          "execution_count": 11
        }
      ]
    },
    {
      "cell_type": "markdown",
      "source": [
        "$0.1312 \\pm 0.0103$\n",
        "\n",
        "**0.1209** to **0.1415**"
      ],
      "metadata": {
        "id": "hEu9qUaHe-nf"
      }
    },
    {
      "cell_type": "markdown",
      "source": [
        "Exercise 3"
      ],
      "metadata": {
        "id": "LIjfcaxsilwH"
      }
    },
    {
      "cell_type": "code",
      "source": [
        "x1 = [9.5, 10.5, 9.0, 9.75, 10.0, 13, 10, 13.5, 10, 9.5, 10, 9.75]\n",
        "x2 = [12.5, 9.5, 13.5, 13.75, 12.0, 13.75, 12.5, 9.5, 12.0, 13.5, 12.0, 12.0]"
      ],
      "metadata": {
        "id": "Kx192vApioGH"
      },
      "execution_count": 12,
      "outputs": []
    },
    {
      "cell_type": "markdown",
      "source": [
        "$H_0: \\mu_1 = \\mu_2$\n",
        "\n",
        "$H_1: \\mu_1 \\ne \\mu_2$"
      ],
      "metadata": {
        "id": "pvwoFwb9jN4p"
      }
    },
    {
      "cell_type": "code",
      "source": [
        "import numpy as np\n",
        "mean1 = np.mean(x1)\n",
        "mean2 = np.mean(x2)\n",
        "mean1, mean2"
      ],
      "metadata": {
        "colab": {
          "base_uri": "https://localhost:8080/",
          "height": 0
        },
        "id": "JaFTlqq1junJ",
        "outputId": "bb93eb4c-1685-410b-e8f2-752ed559c852"
      },
      "execution_count": 14,
      "outputs": [
        {
          "output_type": "execute_result",
          "data": {
            "text/plain": [
              "(10.375, 12.208333333333334)"
            ]
          },
          "metadata": {},
          "execution_count": 14
        }
      ]
    },
    {
      "cell_type": "markdown",
      "source": [
        "$\\bar{X_1} = 10.375$\n",
        "\n",
        "$\\bar{X_2} = 12.2083$"
      ],
      "metadata": {
        "id": "blvHQD_2kI6j"
      }
    },
    {
      "cell_type": "code",
      "source": [
        "def std(x, mean=None):\n",
        "    if not mean:\n",
        "        mean = np.mean(x)\n",
        "    \n",
        "    sq_sum = lambda x: (x - mean) ** 2\n",
        "    n = len(x)\n",
        "    \n",
        "    sq_sum = list(map(sq_sum, x))\n",
        "    return math.sqrt(sum(sq_sum) / (n - 1))\n",
        "\n",
        "\n",
        "def sem(x):\n",
        "    s_sq = std(x) ** 2\n",
        "    n = len(x)\n",
        "    \n",
        "    return math.sqrt(s_sq / n)\n"
      ],
      "metadata": {
        "id": "cGkq--r8z2we"
      },
      "execution_count": 26,
      "outputs": []
    },
    {
      "cell_type": "code",
      "source": [
        "s1 = std(x1)\n",
        "s2 = std(x2)\n",
        "s1, s2"
      ],
      "metadata": {
        "colab": {
          "base_uri": "https://localhost:8080/"
        },
        "id": "XSUxgkMs0JkM",
        "outputId": "d1178ab1-2fd8-439f-dc35-dab8b50b83b9"
      },
      "execution_count": 30,
      "outputs": [
        {
          "output_type": "execute_result",
          "data": {
            "text/plain": [
              "(1.396017061630565, 1.4492683629607002)"
            ]
          },
          "metadata": {},
          "execution_count": 30
        }
      ]
    },
    {
      "cell_type": "code",
      "source": [
        "len(x1), len(x2)"
      ],
      "metadata": {
        "colab": {
          "base_uri": "https://localhost:8080/"
        },
        "id": "M1egCwv70slD",
        "outputId": "9c529a75-8097-4ae5-9ead-469abb248860"
      },
      "execution_count": 31,
      "outputs": [
        {
          "output_type": "execute_result",
          "data": {
            "text/plain": [
              "(12, 12)"
            ]
          },
          "metadata": {},
          "execution_count": 31
        }
      ]
    },
    {
      "cell_type": "markdown",
      "source": [
        "$s_1 = 1.396$\n",
        "\n",
        "$s_2 = 1.449$\n",
        "\n",
        "$n_1 = 12$\n",
        "\n",
        "$n_2 = 12$"
      ],
      "metadata": {
        "id": "k_Ymf40UzGRF"
      }
    },
    {
      "cell_type": "markdown",
      "source": [],
      "metadata": {
        "id": "O9k-J2mBzFxW"
      }
    },
    {
      "cell_type": "markdown",
      "source": [
        "$X$\n",
        "\n",
        "$X~~~Y$\n",
        "\n",
        "Regression model:\n",
        "\n",
        "$X \\rightarrow Y$\n",
        "\n",
        "Form can be explained as a straight line; if the data is not a straight line, a transformation can be used.\n",
        "\n",
        "Correlation model:\n",
        "\n",
        "$X \\leftrightarrow Y$\n",
        "\n",
        "The other model is the correlation model: both $X$ and $Y$ are random.\n",
        "\n",
        "$X_1, X_2, X_3, \\dots X_k, Y$\n",
        "\n",
        "$Y = \\alpha + \\beta X + \\epsilon$\n",
        "\n",
        "($Y = \\beta_0 + \\beta_1 X + \\epsilon$)\n",
        "\n",
        "$\\alpha$ : intercept\n",
        "\n",
        "$\\beta$ : coefficient\n",
        "\n",
        "$\\rho$ (random noise?)\n",
        "\n",
        "We take a sample!\n",
        "\n",
        "Sample: $y = a + bx$\n",
        "\n",
        "$\\rho$ is estimated by $r$, a 2-dimensional measurement.\n",
        "In multiple dimensions, it's a correlation between $y$ and $x_1, x_2$, etc.\n",
        "We need another measurement: $r^2$ (the coefficient of determination; the proportion of explained variance).\n",
        "\n",
        "Measurement in 2-dimensions is really easy:\n",
        "\n",
        "$R^2 = (r)^2$\n",
        "\n",
        "Multiply by 100 for a percentage.\n",
        "\n",
        "$H_0: \\beta = 0$\n",
        "\n",
        "$H_1: \\beta \\ne 0$\n",
        "\n",
        "$> 0$\n",
        "\n",
        "$< 0$\n",
        "\n",
        "**BIVARIATE MATERIAL**\n",
        "\n",
        "$Y = \\alpha + \\beta X + \\epsilon$\n",
        "\n",
        "$\\rho$\n",
        "\n",
        "Sample:\n",
        "\n",
        "$\\hat{y} = a + bx$\n",
        "\n",
        "r\n",
        "\n",
        "$\\alpha$: intercept constant\n",
        "\n",
        "$\\beta$: slope regression coefficient\n",
        "\n",
        "$b = \\frac{\\Delta y}{\\Delta x}$\n",
        "\n",
        "$r$: correlation coefficient\n",
        "\n",
        "$-1 \\le r \\le 1$\n",
        "\n",
        "$r = 1$: slope upwards\n",
        "\n",
        "$r = -1$; slope downwards\n",
        "\n",
        "$r \\approx 0$: randomness\n",
        "\n",
        "$b = \\frac{n \\Sigma xy - \\Sigma x \\Sigma y}{n\\Sigma x^2 - (\\Sigma x)^2}$\n",
        "\n",
        "$a = $\\hat{y} - b \\hat{x}$\n",
        "\n",
        "$= \\frac{\\Sigma y}{n} - b\\frac{\\Sigma x}{n}$\n",
        "\n",
        "$r = \\frac{n \\Sigma xy - \\Sigma x \\Sigma y}{\\sqrt{[n \\Sigma x^2 - (\\Sigma x)^2][n\\Sigma y^2 - (\\Sigma y)^2]}}$\n"
      ],
      "metadata": {
        "id": "rSKIs2_4kuhw"
      }
    },
    {
      "cell_type": "code",
      "source": [
        "sum_x = 4490\n",
        "sum_y = 2630\n",
        "sum_xy = 1237500\n",
        "sum_xx = 2075550\n",
        "sum_yy = 760300\n",
        "\n",
        "top = 12 * sum_xy - (sum_x * sum_y)\n",
        "bottom = 12 * sum_xx - (sum_x * sum_x)\n",
        "b = top / bottom"
      ],
      "metadata": {
        "id": "EMKEmYqfvz0x"
      },
      "execution_count": 15,
      "outputs": []
    },
    {
      "cell_type": "code",
      "source": [
        "b"
      ],
      "metadata": {
        "colab": {
          "base_uri": "https://localhost:8080/"
        },
        "id": "d2AepGRkwmse",
        "outputId": "833f147f-ec39-437d-d0bb-4414c7eda0ae"
      },
      "execution_count": 16,
      "outputs": [
        {
          "output_type": "execute_result",
          "data": {
            "text/plain": [
              "0.6407458127040978"
            ]
          },
          "metadata": {},
          "execution_count": 16
        }
      ]
    },
    {
      "cell_type": "code",
      "source": [
        "a = (sum_y / 12) - (0.64* (sum_x / 12))"
      ],
      "metadata": {
        "id": "KMoJPEZCwqpA"
      },
      "execution_count": 18,
      "outputs": []
    },
    {
      "cell_type": "code",
      "source": [
        "a"
      ],
      "metadata": {
        "colab": {
          "base_uri": "https://localhost:8080/"
        },
        "id": "gJWyO1J1w17p",
        "outputId": "43fd4a53-4d93-41db-f680-ed90d8862aef"
      },
      "execution_count": 19,
      "outputs": [
        {
          "output_type": "execute_result",
          "data": {
            "text/plain": [
              "-20.30000000000004"
            ]
          },
          "metadata": {},
          "execution_count": 19
        }
      ]
    },
    {
      "cell_type": "code",
      "source": [
        "r_top = (12 * sum_xy) - (sum_x * sum_y)\n",
        "r_one = (12 * sum_xx - (sum_x * sum_x))\n",
        "r_two = (12 * sum_yy) - (sum_y * sum_y)\n",
        "\n",
        "r = r_top / math.sqrt(r_one * r_two)"
      ],
      "metadata": {
        "id": "EcV0Bf4xw3bz"
      },
      "execution_count": 20,
      "outputs": []
    },
    {
      "cell_type": "code",
      "source": [
        "r"
      ],
      "metadata": {
        "colab": {
          "base_uri": "https://localhost:8080/"
        },
        "id": "59p3PV8ZxSGD",
        "outputId": "769fc752-c4b5-40ae-ed5d-7fc98e28ad0f"
      },
      "execution_count": 21,
      "outputs": [
        {
          "output_type": "execute_result",
          "data": {
            "text/plain": [
              "0.9397251970387915"
            ]
          },
          "metadata": {},
          "execution_count": 21
        }
      ]
    },
    {
      "cell_type": "code",
      "source": [
        "R2 = r * r * 100"
      ],
      "metadata": {
        "id": "pYg1SEgRxULX"
      },
      "execution_count": 22,
      "outputs": []
    },
    {
      "cell_type": "code",
      "source": [
        "R2"
      ],
      "metadata": {
        "colab": {
          "base_uri": "https://localhost:8080/"
        },
        "id": "FR5uCzmfxYGp",
        "outputId": "0ada5cf0-f083-4281-c769-e9ef021cf910"
      },
      "execution_count": 23,
      "outputs": [
        {
          "output_type": "execute_result",
          "data": {
            "text/plain": [
              "88.30834459495955"
            ]
          },
          "metadata": {},
          "execution_count": 23
        }
      ]
    }
  ]
}