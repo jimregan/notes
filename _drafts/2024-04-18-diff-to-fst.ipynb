{
 "cells": [
  {
   "cell_type": "code",
   "execution_count": 2,
   "metadata": {},
   "outputs": [],
   "source": [
    "# given to lists of strings, compute the diff and convert to fst using openfst\n",
    "# for example, given:\n",
    "# list1 = [\"this\", \"is\", \"new\"]\n",
    "# list2 = [\"this\", \"this\", \"is\", \"new\"]\n",
    "# create an fst that accepts either of the whole sequences"
   ]
  }
 ],
 "metadata": {
  "kernelspec": {
   "display_name": "hf",
   "language": "python",
   "name": "python3"
  },
  "language_info": {
   "codemirror_mode": {
    "name": "ipython",
    "version": 3
   },
   "file_extension": ".py",
   "mimetype": "text/x-python",
   "name": "python",
   "nbconvert_exporter": "python",
   "pygments_lexer": "ipython3",
   "version": "3.9.15"
  }
 },
 "nbformat": 4,
 "nbformat_minor": 2
}
