{
  "nbformat": 4,
  "nbformat_minor": 0,
  "metadata": {
    "colab": {
      "provenance": []
    },
    "kernelspec": {
      "name": "python3",
      "display_name": "Python 3"
    },
    "language_info": {
      "name": "python"
    }
  },
  "cells": [
    {
      "cell_type": "markdown",
      "source": [
        "# simalign\n",
        "\n",
        "> \"BERT-based word aligner\"\n",
        "\n",
        "- branch: master\n",
        "- badges: true\n",
        "- hidden: false\n",
        "- categories: [word alignment, simalign]"
      ],
      "metadata": {
        "id": "qyW1mlTR15tp"
      }
    },
    {
      "cell_type": "markdown",
      "source": [
        "[simalign](https://github.com/cisnlp/simalign)"
      ],
      "metadata": {
        "id": "ItW8uyoa0EYJ"
      }
    },
    {
      "cell_type": "code",
      "execution_count": null,
      "metadata": {
        "id": "2_9E6lzMzplP"
      },
      "outputs": [],
      "source": [
        "!pip install simalign"
      ]
    },
    {
      "cell_type": "code",
      "source": [
        "SRC = [\"Chonaic\", \"mé\", \"é\", \".\"]\n",
        "TRG = [\"I\", \"saw\", \"him\", \".\"]"
      ],
      "metadata": {
        "id": "nhAzDnu0ztnt"
      },
      "execution_count": 4,
      "outputs": []
    },
    {
      "cell_type": "code",
      "source": [
        "from simalign import SentenceAligner\n",
        "\n",
        "myaligner = SentenceAligner(model=\"bert\", token_type=\"bpe\", matching_methods=\"mai\")\n",
        "\n",
        "alignments = myaligner.get_word_aligns(SRC, TRG)\n",
        "\n",
        "for matching_method in alignments:\n",
        "    print(matching_method, \":\", alignments[matching_method])"
      ],
      "metadata": {
        "colab": {
          "base_uri": "https://localhost:8080/"
        },
        "id": "HYKQGjhl0Hmt",
        "outputId": "22bc4809-2733-43d6-b217-149b2591c38c"
      },
      "execution_count": 5,
      "outputs": [
        {
          "output_type": "stream",
          "name": "stderr",
          "text": [
            "2024-11-17 20:33:38,545 - simalign.simalign - INFO - Initialized the EmbeddingLoader with model: bert-base-multilingual-cased\n",
            "INFO:simalign.simalign:Initialized the EmbeddingLoader with model: bert-base-multilingual-cased\n"
          ]
        },
        {
          "output_type": "stream",
          "name": "stdout",
          "text": [
            "mwmf : [(0, 1), (1, 0), (2, 2), (3, 3)]\n",
            "inter : [(0, 0), (3, 3)]\n",
            "itermax : [(0, 0), (2, 2), (3, 3)]\n"
          ]
        }
      ]
    },
    {
      "cell_type": "code",
      "source": [
        "for pair in alignments[\"mwmf\"]:\n",
        "    print(SRC[pair[0]], \":\", TRG[pair[1]])"
      ],
      "metadata": {
        "colab": {
          "base_uri": "https://localhost:8080/"
        },
        "id": "3TCjOZhj1UCN",
        "outputId": "1d0c03e8-c076-46ef-d8b1-e2b295672c4b"
      },
      "execution_count": 7,
      "outputs": [
        {
          "output_type": "stream",
          "name": "stdout",
          "text": [
            "Chonaic : saw\n",
            "mé : I\n",
            "é : him\n",
            ". : .\n"
          ]
        }
      ]
    }
  ]
}