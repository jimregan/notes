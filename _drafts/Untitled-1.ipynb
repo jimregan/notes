{
 "cells": [
  {
   "cell_type": "code",
   "execution_count": 3,
   "metadata": {},
   "outputs": [],
   "source": [
    "from pathlib import Path"
   ]
  },
  {
   "cell_type": "code",
   "execution_count": 4,
   "metadata": {},
   "outputs": [],
   "source": [
    "passes = Path(\"/home/joregan/passes\")"
   ]
  },
  {
   "cell_type": "code",
   "execution_count": 5,
   "metadata": {},
   "outputs": [],
   "source": [
    "noisy = passes / \"sixth-pass\" / \"noisy\""
   ]
  },
  {
   "cell_type": "code",
   "execution_count": 6,
   "metadata": {},
   "outputs": [],
   "source": [
    "def process_file(filename):\n",
    "    if type(filename) is not Path:\n",
    "        filename = Path(filename)\n",
    "    ops = {}\n",
    "    subs = []\n",
    "    start = 0.0\n",
    "    cur_start = 0.0\n",
    "    cur_dur = 0.0\n",
    "    video = \"\"\n",
    "    with open(filename) as inf:\n",
    "        for line in inf.readlines():\n",
    "            line = line.strip()\n",
    "            parts = line.split(\" \")\n",
    "            category = parts[-1]\n",
    "            if not category in ops:\n",
    "                ops[category] = 0\n",
    "            ops[category] += 1\n",
    "            if category == \"sub\":\n",
    "                subs.append(f\"{parts[4]}|{parts[6]}\")\n",
    "            if start == 0.0:\n",
    "                start = float(parts[2])\n",
    "            if video == \"\":\n",
    "                video = parts[0]\n",
    "            cur_start = float(parts[2])\n",
    "            cur_dur = float(parts[3])\n",
    "\n",
    "    return {\n",
    "        \"start\": start,\n",
    "        \"end\": cur_start + cur_dur,\n",
    "        \"video\": video,\n",
    "        \"filename\": filename.name,\n",
    "        \"substitutions\": subs,\n",
    "        \"ops\": ops\n",
    "    }"
   ]
  },
  {
   "cell_type": "code",
   "execution_count": 7,
   "metadata": {},
   "outputs": [
    {
     "ename": "FileNotFoundError",
     "evalue": "[Errno 2] No such file or directory: '/home/joregan/passes/sixth-pass/noisy/H9C120220120fs_0041_0001_0001_0001_0001_0001'",
     "output_type": "error",
     "traceback": [
      "\u001b[0;31m---------------------------------------------------------------------------\u001b[0m",
      "\u001b[0;31mFileNotFoundError\u001b[0m                         Traceback (most recent call last)",
      "Cell \u001b[0;32mIn[7], line 1\u001b[0m\n\u001b[0;32m----> 1\u001b[0m \u001b[43mprocess_file\u001b[49m\u001b[43m(\u001b[49m\u001b[43mnoisy\u001b[49m\u001b[43m \u001b[49m\u001b[38;5;241;43m/\u001b[39;49m\u001b[43m \u001b[49m\u001b[38;5;124;43m\"\u001b[39;49m\u001b[38;5;124;43mH9C120220120fs_0041_0001_0001_0001_0001_0001\u001b[39;49m\u001b[38;5;124;43m\"\u001b[39;49m\u001b[43m)\u001b[49m\n",
      "Cell \u001b[0;32mIn[6], line 10\u001b[0m, in \u001b[0;36mprocess_file\u001b[0;34m(filename)\u001b[0m\n\u001b[1;32m      8\u001b[0m cur_dur \u001b[38;5;241m=\u001b[39m \u001b[38;5;241m0.0\u001b[39m\n\u001b[1;32m      9\u001b[0m video \u001b[38;5;241m=\u001b[39m \u001b[38;5;124m\"\u001b[39m\u001b[38;5;124m\"\u001b[39m\n\u001b[0;32m---> 10\u001b[0m \u001b[38;5;28;01mwith\u001b[39;00m \u001b[38;5;28;43mopen\u001b[39;49m\u001b[43m(\u001b[49m\u001b[43mfilename\u001b[49m\u001b[43m)\u001b[49m \u001b[38;5;28;01mas\u001b[39;00m inf:\n\u001b[1;32m     11\u001b[0m     \u001b[38;5;28;01mfor\u001b[39;00m line \u001b[38;5;129;01min\u001b[39;00m inf\u001b[38;5;241m.\u001b[39mreadlines():\n\u001b[1;32m     12\u001b[0m         line \u001b[38;5;241m=\u001b[39m line\u001b[38;5;241m.\u001b[39mstrip()\n",
      "File \u001b[0;32m~/miniconda3/envs/espnet/lib/python3.9/site-packages/IPython/core/interactiveshell.py:284\u001b[0m, in \u001b[0;36m_modified_open\u001b[0;34m(file, *args, **kwargs)\u001b[0m\n\u001b[1;32m    277\u001b[0m \u001b[38;5;28;01mif\u001b[39;00m file \u001b[38;5;129;01min\u001b[39;00m {\u001b[38;5;241m0\u001b[39m, \u001b[38;5;241m1\u001b[39m, \u001b[38;5;241m2\u001b[39m}:\n\u001b[1;32m    278\u001b[0m     \u001b[38;5;28;01mraise\u001b[39;00m \u001b[38;5;167;01mValueError\u001b[39;00m(\n\u001b[1;32m    279\u001b[0m         \u001b[38;5;124mf\u001b[39m\u001b[38;5;124m\"\u001b[39m\u001b[38;5;124mIPython won\u001b[39m\u001b[38;5;124m'\u001b[39m\u001b[38;5;124mt let you open fd=\u001b[39m\u001b[38;5;132;01m{\u001b[39;00mfile\u001b[38;5;132;01m}\u001b[39;00m\u001b[38;5;124m by default \u001b[39m\u001b[38;5;124m\"\u001b[39m\n\u001b[1;32m    280\u001b[0m         \u001b[38;5;124m\"\u001b[39m\u001b[38;5;124mas it is likely to crash IPython. If you know what you are doing, \u001b[39m\u001b[38;5;124m\"\u001b[39m\n\u001b[1;32m    281\u001b[0m         \u001b[38;5;124m\"\u001b[39m\u001b[38;5;124myou can use builtins\u001b[39m\u001b[38;5;124m'\u001b[39m\u001b[38;5;124m open.\u001b[39m\u001b[38;5;124m\"\u001b[39m\n\u001b[1;32m    282\u001b[0m     )\n\u001b[0;32m--> 284\u001b[0m \u001b[38;5;28;01mreturn\u001b[39;00m \u001b[43mio_open\u001b[49m\u001b[43m(\u001b[49m\u001b[43mfile\u001b[49m\u001b[43m,\u001b[49m\u001b[43m \u001b[49m\u001b[38;5;241;43m*\u001b[39;49m\u001b[43margs\u001b[49m\u001b[43m,\u001b[49m\u001b[43m \u001b[49m\u001b[38;5;241;43m*\u001b[39;49m\u001b[38;5;241;43m*\u001b[39;49m\u001b[43mkwargs\u001b[49m\u001b[43m)\u001b[49m\n",
      "\u001b[0;31mFileNotFoundError\u001b[0m: [Errno 2] No such file or directory: '/home/joregan/passes/sixth-pass/noisy/H9C120220120fs_0041_0001_0001_0001_0001_0001'"
     ]
    }
   ],
   "source": [
    "process_file(noisy / \"H9C120220120fs_0041_0001_0001_0001_0001_0001\")"
   ]
  },
  {
   "cell_type": "markdown",
   "metadata": {},
   "source": [
    "```\n",
    "match|mismahtch       # quicksort index to split on mathces and mismatches (allowing for a maste index)\n",
    "startdate             # If available, presumed start date of the video (or better). Year is ok.\n",
    "enddate               # If available, presumed en date of video. Year is ok, higher granularity is better.\n",
    "voffset               # time offset from the start of video to the segment (we wont know this now)\n",
    "starttime             # anchored at start of videofile\n",
    "endtime (or duration) # anchored at start of videofile (or at starttime) but be consistent\n",
    "filename              # of the file with the token data\n",
    "vfilename             # name of the corresponding videofile\n",
    "vfileorigin           # youtube... (no need to add entire URI, just an identofier that shows how the file was acquired)\n",
    "refsrc                # Type of transcription used as reference (i.e. \"official transcript\")\n",
    "compsrc               # Type of transcription being compared (e.g. wav2vec, whicper);\n",
    "                      # use an ID that allows us to know which settings were used\n",
    "#matching             # Count of comp tokens matching ref\n",
    "#subs                 # Count of 1-on-1 substitutions between ref and comp (0 when match)\n",
    "#additions            # Count of additions in comp (0 when match)\n",
    "#substitutions        # Count of deletions in comp (0 when match)\n",
    "#reftokens            # Total number of tokens in ref (presumably #matching+#substitutions+#deletions)\n",
    "#comptokens           # Total number of tokens in comp (presumably #matching+#substitutions+#additions)\n",
    "```"
   ]
  },
  {
   "cell_type": "code",
   "execution_count": 9,
   "metadata": {},
   "outputs": [
    {
     "data": {
      "text/plain": [
       "'P0DT0H52M41.38S'"
      ]
     },
     "execution_count": 9,
     "metadata": {},
     "output_type": "execute_result"
    }
   ],
   "source": [
    "import pandas as pd\n",
    "\n",
    "pd.Timedelta(seconds=3161.38).isoformat()"
   ]
  },
  {
   "cell_type": "code",
   "execution_count": 10,
   "metadata": {},
   "outputs": [
    {
     "name": "stdout",
     "output_type": "stream",
     "text": [
      "PT52M44.820S\n"
     ]
    }
   ],
   "source": [
    "def seconds_to_iso8601(seconds):\n",
    "    total_seconds = int(seconds)  # Integer part of second\n",
    "    fractional_seconds = seconds - total_seconds  # Fractional part\n",
    "    \n",
    "    minutes = total_seconds // 60  # Calculate minutes\n",
    "    remaining_seconds = total_seconds % 60  # Remaining seconds\n",
    "    \n",
    "    # Format the result, ensuring fractional seconds are included\n",
    "    if fractional_seconds > 0:\n",
    "        return f\"PT{minutes}M{remaining_seconds + fractional_seconds:.3f}S\"\n",
    "    else:\n",
    "        return f\"PT{minutes}M{remaining_seconds}S\"\n",
    "\n",
    "# Example usage\n",
    "seconds = 3164.8199999999997\n",
    "iso_duration = seconds_to_iso8601(seconds)\n",
    "print(iso_duration)"
   ]
  },
  {
   "cell_type": "code",
   "execution_count": 27,
   "metadata": {},
   "outputs": [],
   "source": [
    "def write_jensfully(data):\n",
    "    match = \"\"\n",
    "    startdate = enddate = data.get(\"videodate\", \"\")\n",
    "\n",
    "    voffset = \"\"\n",
    "    starttime = seconds_to_iso8601(data[\"start\"])\n",
    "    endtime = seconds_to_iso8601(data[\"start\"])\n",
    "    filename = data[\"filename\"]\n",
    "    vfilename = data[\"video\"]\n",
    "    vfileorigin = \"Riksdag API\"\n",
    "    refsrc = \"official transcript\"\n",
    "    compsrc = \"VoxRex wav2vec\"\n",
    "\n",
    "    matching = data[\"ops\"].get(\"cor\", 0)\n",
    "    subs = data[\"ops\"].get(\"sub\", 0)\n",
    "    additions = data[\"ops\"].get(\"ins\", 0)\n",
    "    deletions = data[\"ops\"].get(\"del\", 0)\n",
    "    reftokens = matching + subs + deletions\n",
    "    comptokens = matching + subs + additions\n",
    "\n",
    "    return [\n",
    "        match,\n",
    "        startdate,\n",
    "        enddate,\n",
    "        voffset,\n",
    "        starttime,\n",
    "        endtime,\n",
    "        filename,\n",
    "        vfilename,\n",
    "        vfileorigin,\n",
    "        refsrc,\n",
    "        compsrc,\n",
    "        str(matching),\n",
    "        str(subs),\n",
    "        str(additions),\n",
    "        str(deletions),\n",
    "        str(reftokens),\n",
    "        str(comptokens)\n",
    "    ].join(\"\\t\")"
   ]
  },
  {
   "cell_type": "code",
   "execution_count": null,
   "metadata": {},
   "outputs": [],
   "source": [
    "import json\n",
    "\n",
    "doc_dates = {}\n",
    "\n",
    "def get_doc_date(filename):\n",
    "    if type(filename) is Path:\n",
    "        filename = filename.name\n",
    "    else:\n",
    "        if \"/\" in filename:\n",
    "            filename = filename.split(\"/\")[-1]\n",
    "    parts = filename.split(\"_\")\n",
    "    if parts[0] in doc_dates:\n",
    "        return doc_dates[parts[0]]\n",
    "    with open(f\"/sbtal/riksdag-video/api_output/{parts[0]}\") as jsonf:\n",
    "        data = json.load(jsonf)\n",
    "    if \"videodata\" in data:\n",
    "        vd = data[\"videodata\"]\n",
    "        if \"debatedate\" in vd[0]:\n",
    "            date = vd[0].get(\"debatedate\", \"\")\n",
    "            doc_dates[parts[0]] = date\n",
    "            return date\n",
    "    return \"\""
   ]
  },
  {
   "cell_type": "code",
   "execution_count": 25,
   "metadata": {},
   "outputs": [
    {
     "data": {
      "text/plain": [
       "'20 januari 2022'"
      ]
     },
     "execution_count": 25,
     "metadata": {},
     "output_type": "execute_result"
    }
   ],
   "source": [
    "get_doc_date(\"H9C120220120fs_0041_0001_0001_0001_0001_0001\")"
   ]
  },
  {
   "cell_type": "code",
   "execution_count": null,
   "metadata": {},
   "outputs": [
    {
     "name": "stdout",
     "output_type": "stream",
     "text": [
      "/home/joregan/passes/sixth-pass/noisy/H9C120220120fs_0011_0001_0001_0001_0001_0001\n",
      "/home/joregan/passes/sixth-pass/noisy/H9C120220120fs_0047_0001_0001_0001_0001_0001\n",
      "/home/joregan/passes/sixth-pass/noisy/H9C120220120fs_0015_0001_0001_0001_0001_0001\n",
      "/home/joregan/passes/sixth-pass/noisy/H9C120220120fs_0045_0001_0001_0001_0001_0001\n",
      "/home/joregan/passes/sixth-pass/noisy/H9C120220120fs_0023_0001_0001_0001_0001_0001\n",
      "/home/joregan/passes/sixth-pass/noisy/H9C120220120fs_0034_0001_0001_0001_0002_0001\n",
      "/home/joregan/passes/sixth-pass/noisy/H9C120220120fs_0014_0001_0001_0001_0001_0001\n",
      "/home/joregan/passes/sixth-pass/noisy/H9C120220120fs_0052_0001_0001_0001_0001_0001\n",
      "/home/joregan/passes/sixth-pass/noisy/H9C120220120fs_0007_0001_0001_0001_0001_0001\n",
      "/home/joregan/passes/sixth-pass/noisy/H9C120220120fs_0017_0001_0001_0001_0001_0001\n",
      "/home/joregan/passes/sixth-pass/noisy/H9C120220120fs_0036_0001_0001_0001_0002_0001\n",
      "/home/joregan/passes/sixth-pass/noisy/H9C120220120fs_0006_0001_0001_0001_0001_0001\n",
      "/home/joregan/passes/sixth-pass/noisy/H9C120220120fs_0005_0001_0001_0001_0001_0001\n",
      "/home/joregan/passes/sixth-pass/noisy/H9C120220120fs_0016_0001_0001_0001_0001_0001\n",
      "/home/joregan/passes/sixth-pass/noisy/H9C120220120fs_0013_0001_0001_0001_0001_0001\n",
      "/home/joregan/passes/sixth-pass/noisy/H9C120220120fs_0008_0001_0001_0001_0001_0001\n",
      "/home/joregan/passes/sixth-pass/noisy/H9C120220120fs_0030_0001_0001_0001_0001_0001\n",
      "/home/joregan/passes/sixth-pass/noisy/H9C120220120fs_0038_0001_0001_0001_0001_0001\n",
      "/home/joregan/passes/sixth-pass/noisy/H9C120220120fs_0029_0001_0001_0001_0001_0001\n",
      "/home/joregan/passes/sixth-pass/noisy/H9C120220120fs_0027_0001_0001_0001_0001_0001\n",
      "/home/joregan/passes/sixth-pass/noisy/H9C120220120fs_0032_0001_0001_0001_0001_0001\n",
      "/home/joregan/passes/sixth-pass/noisy/H9C120220120fs_0033_0001_0001_0001_0001_0001\n",
      "/home/joregan/passes/sixth-pass/noisy/H9C120220120fs_0050_0001_0001_0001_0001_0001\n",
      "/home/joregan/passes/sixth-pass/noisy/H9C120220120fs_0048_0001_0001_0001_0001_0001\n",
      "/home/joregan/passes/sixth-pass/noisy/H9C120220120fs_0018_0001_0001_0001_0001_0001\n",
      "/home/joregan/passes/sixth-pass/noisy/H9C120220120fs_0043_0001_0001_0001_0002_0001\n",
      "/home/joregan/passes/sixth-pass/noisy/H9C120220120fs_0001_0001_0001_0001_0001_0001\n",
      "/home/joregan/passes/sixth-pass/noisy/H9C120220120fs_0035_0001_0001_0001_0001_0001\n",
      "/home/joregan/passes/sixth-pass/noisy/H9C120220120fs_0032_0001_0001_0001_0002_0001\n",
      "/home/joregan/passes/sixth-pass/noisy/H9C120220120fs_0050_0001_0001_0001_0002_0001\n",
      "/home/joregan/passes/sixth-pass/noisy/H9C120220120fs_0042_0001_0001_0001_0001_0001\n",
      "/home/joregan/passes/sixth-pass/noisy/H9C120220120fs_0053_0001_0001_0001_0001_0001\n",
      "/home/joregan/passes/sixth-pass/noisy/H9C120220120fs_0034_0001_0001_0001_0001_0001\n",
      "/home/joregan/passes/sixth-pass/noisy/H9C120220120fs_0025_0001_0001_0001_0001_0001\n",
      "/home/joregan/passes/sixth-pass/noisy/H9C120220120fs_0044_0001_0001_0001_0002_0001\n",
      "/home/joregan/passes/sixth-pass/noisy/H9C120220120fs_0039_0001_0001_0001_0001_0001\n",
      "/home/joregan/passes/sixth-pass/noisy/H9C120220120fs_0021_0001_0001_0001_0001_0001\n",
      "/home/joregan/passes/sixth-pass/noisy/H9C120220120fs_0037_0001_0001_0001_0001_0001\n",
      "/home/joregan/passes/sixth-pass/noisy/H9C120220120fs_0029_0001_0001_0001_0002_0001\n",
      "/home/joregan/passes/sixth-pass/noisy/H9C120220120fs_0046_0001_0001_0001_0001_0001\n",
      "/home/joregan/passes/sixth-pass/noisy/H9C120220120fs_0010_0001_0001_0001_0001_0001\n",
      "/home/joregan/passes/sixth-pass/noisy/H9C120220120fs_0049_0001_0001_0001_0001_0001\n",
      "/home/joregan/passes/sixth-pass/noisy/H9C120220120fs_0022_0001_0001_0001_0001_0001\n",
      "/home/joregan/passes/sixth-pass/noisy/H9C120220120fs_0009_0001_0001_0001_0001_0001\n",
      "/home/joregan/passes/sixth-pass/noisy/H9C120220120fs_0003_0001_0001_0001_0001_0001\n",
      "/home/joregan/passes/sixth-pass/noisy/H9C120220120fs_0028_0001_0001_0001_0001_0001\n",
      "/home/joregan/passes/sixth-pass/noisy/H9C120220120fs_0036_0001_0001_0001_0001_0001\n",
      "/home/joregan/passes/sixth-pass/noisy/H9C120220120fs_0051_0001_0001_0001_0001_0001\n",
      "/home/joregan/passes/sixth-pass/noisy/H9C120220120fs_0004_0001_0001_0001_0002_0001\n",
      "/home/joregan/passes/sixth-pass/noisy/H9C120220120fs_0024_0001_0001_0001_0001_0001\n",
      "/home/joregan/passes/sixth-pass/noisy/H9C120220120fs_0012_0001_0001_0001_0001_0001\n",
      "/home/joregan/passes/sixth-pass/noisy/H9C120220120fs_0044_0001_0001_0001_0001_0001\n",
      "/home/joregan/passes/sixth-pass/noisy/H9C120220120fs_0031_0001_0001_0001_0001_0001\n",
      "/home/joregan/passes/sixth-pass/noisy/H9C120220120fs_0043_0001_0001_0001_0001_0001\n",
      "/home/joregan/passes/sixth-pass/noisy/H9C120220120fs_0020_0001_0001_0001_0001_0001\n",
      "/home/joregan/passes/sixth-pass/noisy/H9C120220120fs_0026_0001_0001_0001_0001_0001\n",
      "/home/joregan/passes/sixth-pass/noisy/H9C120220120fs_0040_0001_0001_0001_0001_0001\n",
      "/home/joregan/passes/sixth-pass/noisy/H9C120220120fs_0019_0001_0001_0001_0001_0001\n",
      "/home/joregan/passes/sixth-pass/noisy/H9C120220120fs_0002_0001_0001_0001_0001_0001\n",
      "/home/joregan/passes/sixth-pass/noisy/H9C120220120fs_0004_0001_0001_0001_0001_0001\n"
     ]
    }
   ],
   "source": [
    "for missfile in noisy.glob(\"H9C120220120fs*\"):\n",
    "    proc = process_file(missfile)\n",
    "    proc[\"videodate\"] = "
   ]
  },
  {
   "cell_type": "code",
   "execution_count": null,
   "metadata": {},
   "outputs": [],
   "source": [
    "def extract_start(filename, nlines, sub_to_alt=True):\n",
    "    if type(filename) is not Path:\n",
    "        filename = Path(filename)\n",
    "    with open(filename) as inf:\n",
    "        lines = [x.strip() for x in inf.readlines()]\n",
    "    "
   ]
  }
 ],
 "metadata": {
  "kernelspec": {
   "display_name": "espnet",
   "language": "python",
   "name": "python3"
  },
  "language_info": {
   "codemirror_mode": {
    "name": "ipython",
    "version": 3
   },
   "file_extension": ".py",
   "mimetype": "text/x-python",
   "name": "python",
   "nbconvert_exporter": "python",
   "pygments_lexer": "ipython3",
   "version": "3.9.19"
  }
 },
 "nbformat": 4,
 "nbformat_minor": 2
}
