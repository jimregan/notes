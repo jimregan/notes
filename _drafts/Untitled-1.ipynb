{
 "cells": [
  {
   "cell_type": "code",
   "execution_count": 5,
   "metadata": {},
   "outputs": [],
   "source": [
    "from pathlib import Path"
   ]
  },
  {
   "cell_type": "code",
   "execution_count": 6,
   "metadata": {},
   "outputs": [],
   "source": [
    "passes = Path(\"/home/joregan/passes\")"
   ]
  },
  {
   "cell_type": "code",
   "execution_count": 7,
   "metadata": {},
   "outputs": [],
   "source": [
    "noisy = passes / \"sixth-pass\" / \"noisy\""
   ]
  },
  {
   "cell_type": "code",
   "execution_count": 8,
   "metadata": {},
   "outputs": [],
   "source": [
    "def process_file(filename):\n",
    "    if type(filename) is not Path:\n",
    "        filename = Path(filename)\n",
    "    ops = {}\n",
    "    subs = []\n",
    "    start = 0.0\n",
    "    cur_start = 0.0\n",
    "    cur_dur = 0.0\n",
    "    video = \"\"\n",
    "    with open(filename) as inf:\n",
    "        for line in inf.readlines():\n",
    "            line = line.strip()\n",
    "            parts = line.split(\" \")\n",
    "            category = parts[-1]\n",
    "            if not category in ops:\n",
    "                ops[category] = 0\n",
    "            ops[category] += 1\n",
    "            if category == \"sub\":\n",
    "                subs.append(f\"{parts[4]}|{parts[6]}\")\n",
    "            if start == 0.0:\n",
    "                start = float(parts[2])\n",
    "            if video == \"\":\n",
    "                video = parts[0]\n",
    "            cur_start = float(parts[2])\n",
    "            cur_dur = float(parts[3])\n",
    "\n",
    "    return {\n",
    "        \"start\": start,\n",
    "        \"end\": cur_start + cur_dur,\n",
    "        \"video\": video,\n",
    "        \"filename\": filename.name,\n",
    "        \"substitutions\": subs,\n",
    "        \"ops\": ops\n",
    "    }"
   ]
  },
  {
   "cell_type": "code",
   "execution_count": 9,
   "metadata": {},
   "outputs": [
    {
     "ename": "FileNotFoundError",
     "evalue": "[Errno 2] No such file or directory: '/home/joregan/passes/sixth-pass/noisy/H9C120220120fs_0041_0001_0001_0001_0001_0001'",
     "output_type": "error",
     "traceback": [
      "\u001b[0;31m---------------------------------------------------------------------------\u001b[0m",
      "\u001b[0;31mFileNotFoundError\u001b[0m                         Traceback (most recent call last)",
      "Cell \u001b[0;32mIn[9], line 1\u001b[0m\n\u001b[0;32m----> 1\u001b[0m \u001b[43mprocess_file\u001b[49m\u001b[43m(\u001b[49m\u001b[43mnoisy\u001b[49m\u001b[43m \u001b[49m\u001b[38;5;241;43m/\u001b[39;49m\u001b[43m \u001b[49m\u001b[38;5;124;43m\"\u001b[39;49m\u001b[38;5;124;43mH9C120220120fs_0041_0001_0001_0001_0001_0001\u001b[39;49m\u001b[38;5;124;43m\"\u001b[39;49m\u001b[43m)\u001b[49m\n",
      "Cell \u001b[0;32mIn[8], line 10\u001b[0m, in \u001b[0;36mprocess_file\u001b[0;34m(filename)\u001b[0m\n\u001b[1;32m      8\u001b[0m cur_dur \u001b[38;5;241m=\u001b[39m \u001b[38;5;241m0.0\u001b[39m\n\u001b[1;32m      9\u001b[0m video \u001b[38;5;241m=\u001b[39m \u001b[38;5;124m\"\u001b[39m\u001b[38;5;124m\"\u001b[39m\n\u001b[0;32m---> 10\u001b[0m \u001b[38;5;28;01mwith\u001b[39;00m \u001b[38;5;28;43mopen\u001b[39;49m\u001b[43m(\u001b[49m\u001b[43mfilename\u001b[49m\u001b[43m)\u001b[49m \u001b[38;5;28;01mas\u001b[39;00m inf:\n\u001b[1;32m     11\u001b[0m     \u001b[38;5;28;01mfor\u001b[39;00m line \u001b[38;5;129;01min\u001b[39;00m inf\u001b[38;5;241m.\u001b[39mreadlines():\n\u001b[1;32m     12\u001b[0m         line \u001b[38;5;241m=\u001b[39m line\u001b[38;5;241m.\u001b[39mstrip()\n",
      "File \u001b[0;32m~/miniconda3/envs/espnet/lib/python3.9/site-packages/IPython/core/interactiveshell.py:284\u001b[0m, in \u001b[0;36m_modified_open\u001b[0;34m(file, *args, **kwargs)\u001b[0m\n\u001b[1;32m    277\u001b[0m \u001b[38;5;28;01mif\u001b[39;00m file \u001b[38;5;129;01min\u001b[39;00m {\u001b[38;5;241m0\u001b[39m, \u001b[38;5;241m1\u001b[39m, \u001b[38;5;241m2\u001b[39m}:\n\u001b[1;32m    278\u001b[0m     \u001b[38;5;28;01mraise\u001b[39;00m \u001b[38;5;167;01mValueError\u001b[39;00m(\n\u001b[1;32m    279\u001b[0m         \u001b[38;5;124mf\u001b[39m\u001b[38;5;124m\"\u001b[39m\u001b[38;5;124mIPython won\u001b[39m\u001b[38;5;124m'\u001b[39m\u001b[38;5;124mt let you open fd=\u001b[39m\u001b[38;5;132;01m{\u001b[39;00mfile\u001b[38;5;132;01m}\u001b[39;00m\u001b[38;5;124m by default \u001b[39m\u001b[38;5;124m\"\u001b[39m\n\u001b[1;32m    280\u001b[0m         \u001b[38;5;124m\"\u001b[39m\u001b[38;5;124mas it is likely to crash IPython. If you know what you are doing, \u001b[39m\u001b[38;5;124m\"\u001b[39m\n\u001b[1;32m    281\u001b[0m         \u001b[38;5;124m\"\u001b[39m\u001b[38;5;124myou can use builtins\u001b[39m\u001b[38;5;124m'\u001b[39m\u001b[38;5;124m open.\u001b[39m\u001b[38;5;124m\"\u001b[39m\n\u001b[1;32m    282\u001b[0m     )\n\u001b[0;32m--> 284\u001b[0m \u001b[38;5;28;01mreturn\u001b[39;00m \u001b[43mio_open\u001b[49m\u001b[43m(\u001b[49m\u001b[43mfile\u001b[49m\u001b[43m,\u001b[49m\u001b[43m \u001b[49m\u001b[38;5;241;43m*\u001b[39;49m\u001b[43margs\u001b[49m\u001b[43m,\u001b[49m\u001b[43m \u001b[49m\u001b[38;5;241;43m*\u001b[39;49m\u001b[38;5;241;43m*\u001b[39;49m\u001b[43mkwargs\u001b[49m\u001b[43m)\u001b[49m\n",
      "\u001b[0;31mFileNotFoundError\u001b[0m: [Errno 2] No such file or directory: '/home/joregan/passes/sixth-pass/noisy/H9C120220120fs_0041_0001_0001_0001_0001_0001'"
     ]
    }
   ],
   "source": [
    "process_file(noisy / \"H9C120220120fs_0041_0001_0001_0001_0001_0001\")"
   ]
  },
  {
   "cell_type": "markdown",
   "metadata": {},
   "source": [
    "```\n",
    "match|mismahtch       # quicksort index to split on mathces and mismatches (allowing for a maste index)\n",
    "startdate             # If available, presumed start date of the video (or better). Year is ok.\n",
    "enddate               # If available, presumed en date of video. Year is ok, higher granularity is better.\n",
    "voffset               # time offset from the start of video to the segment (we wont know this now)\n",
    "starttime             # anchored at start of videofile\n",
    "endtime (or duration) # anchored at start of videofile (or at starttime) but be consistent\n",
    "filename              # of the file with the token data\n",
    "vfilename             # name of the corresponding videofile\n",
    "vfileorigin           # youtube... (no need to add entire URI, just an identofier that shows how the file was acquired)\n",
    "refsrc                # Type of transcription used as reference (i.e. \"official transcript\")\n",
    "compsrc               # Type of transcription being compared (e.g. wav2vec, whicper);\n",
    "                      # use an ID that allows us to know which settings were used\n",
    "#matching             # Count of comp tokens matching ref\n",
    "#subs                 # Count of 1-on-1 substitutions between ref and comp (0 when match)\n",
    "#additions            # Count of additions in comp (0 when match)\n",
    "#substitutions        # Count of deletions in comp (0 when match)\n",
    "#reftokens            # Total number of tokens in ref (presumably #matching+#substitutions+#deletions)\n",
    "#comptokens           # Total number of tokens in comp (presumably #matching+#substitutions+#additions)\n",
    "```"
   ]
  },
  {
   "cell_type": "code",
   "execution_count": 10,
   "metadata": {},
   "outputs": [
    {
     "data": {
      "text/plain": [
       "'P0DT0H52M41.38S'"
      ]
     },
     "execution_count": 10,
     "metadata": {},
     "output_type": "execute_result"
    }
   ],
   "source": [
    "import pandas as pd\n",
    "\n",
    "pd.Timedelta(seconds=3161.38).isoformat()"
   ]
  },
  {
   "cell_type": "code",
   "execution_count": 11,
   "metadata": {},
   "outputs": [
    {
     "name": "stdout",
     "output_type": "stream",
     "text": [
      "PT52M44.820S\n"
     ]
    }
   ],
   "source": [
    "def seconds_to_iso8601(seconds):\n",
    "    total_seconds = int(seconds)  # Integer part of second\n",
    "    fractional_seconds = seconds - total_seconds  # Fractional part\n",
    "    \n",
    "    minutes = total_seconds // 60  # Calculate minutes\n",
    "    remaining_seconds = total_seconds % 60  # Remaining seconds\n",
    "    \n",
    "    # Format the result, ensuring fractional seconds are included\n",
    "    if fractional_seconds > 0:\n",
    "        return f\"PT{minutes}M{remaining_seconds + fractional_seconds:.3f}S\"\n",
    "    else:\n",
    "        return f\"PT{minutes}M{remaining_seconds}S\"\n",
    "\n",
    "# Example usage\n",
    "seconds = 3164.8199999999997\n",
    "iso_duration = seconds_to_iso8601(seconds)\n",
    "print(iso_duration)"
   ]
  },
  {
   "cell_type": "code",
   "execution_count": 46,
   "metadata": {},
   "outputs": [],
   "source": [
    "import datetime\n",
    "import re\n",
    "\n",
    "MONTHS = {\n",
    "    \"januari\": 1,\n",
    "    \"februari\": 2,\n",
    "    \"mars\": 3,\n",
    "    \"april\": 4,\n",
    "    \"maj\": 5,\n",
    "    \"juni\": 6,\n",
    "    \"juli\": 7,\n",
    "    \"augusti\": 8,\n",
    "    \"september\": 9,\n",
    "    \"oktober\": 10,\n",
    "    \"november\": 11,\n",
    "    \"december\": 12,\n",
    "}\n",
    "\n",
    "def parse_rd_date(datestring):\n",
    "    if datestring is None:\n",
    "        return \"\"\n",
    "    if datestring == \"\":\n",
    "        return None\n",
    "    keys = \"(\" + \"|\".join(MONTHS.keys()) + \")\"\n",
    "    m = re.match(f\"^([12]?[0-9]) {keys} ([12][0-9]*)\", datestring)\n",
    "    if m:\n",
    "        day = int(m.group(1))\n",
    "        month = MONTHS[m.group(2)]\n",
    "        year = int(m.group(3))\n",
    "        t = datetime.datetime(year=year, month=month, day=day)\n",
    "        return t.strftime('%Y-%m-%d')\n",
    "    else:\n",
    "        return \"\"\n"
   ]
  },
  {
   "cell_type": "code",
   "execution_count": 47,
   "metadata": {},
   "outputs": [
    {
     "data": {
      "text/plain": [
       "'2014-06-13'"
      ]
     },
     "execution_count": 47,
     "metadata": {},
     "output_type": "execute_result"
    }
   ],
   "source": [
    "parse_rd_date(\"13 juni 2014\")"
   ]
  },
  {
   "cell_type": "code",
   "execution_count": 48,
   "metadata": {},
   "outputs": [],
   "source": [
    "def write_jensfully(data):\n",
    "    match = \"\"\n",
    "    # startdate = enddate = data.get(\"videodate\", \"\")\n",
    "    startdate = parse_rd_date(data.get(\"videodate\", \"\"))\n",
    "\n",
    "    voffset = \"\"\n",
    "    starttime = seconds_to_iso8601(data[\"start\"])\n",
    "    endtime = seconds_to_iso8601(data[\"end\"])\n",
    "    filename = data[\"filename\"]\n",
    "    vfilename = data[\"video\"]\n",
    "    # vfileorigin = \"Riksdag API\"\n",
    "    # refsrc = \"official transcript\"\n",
    "    # compsrc = \"VoxRex wav2vec\"\n",
    "    vfileorigin = \"API\"\n",
    "    compsrc = \"VoxRex\"\n",
    "\n",
    "    matching = data[\"ops\"].get(\"cor\", 0)\n",
    "    subs = data[\"ops\"].get(\"sub\", 0)\n",
    "    additions = data[\"ops\"].get(\"ins\", 0)\n",
    "    deletions = data[\"ops\"].get(\"del\", 0)\n",
    "    reftokens = matching + subs + deletions\n",
    "    comptokens = matching + subs + additions\n",
    "\n",
    "    return \"\\t\".join([\n",
    "        match,\n",
    "        startdate,\n",
    "        # enddate,\n",
    "        voffset,\n",
    "        starttime,\n",
    "        endtime,\n",
    "        filename,\n",
    "        vfilename,\n",
    "        vfileorigin,\n",
    "        # refsrc,\n",
    "        compsrc,\n",
    "        str(matching),\n",
    "        str(subs),\n",
    "        str(additions),\n",
    "        str(deletions),\n",
    "        str(reftokens),\n",
    "        str(comptokens)\n",
    "    ])"
   ]
  },
  {
   "cell_type": "code",
   "execution_count": 49,
   "metadata": {},
   "outputs": [],
   "source": [
    "import json\n",
    "\n",
    "doc_dates = {}\n",
    "\n",
    "def get_doc_date(filename):\n",
    "    if isinstance(filename, Path):\n",
    "        filename = filename.name\n",
    "    else:\n",
    "        if isinstance(filename, str) and \"/\" in filename:\n",
    "            filename = filename.split(\"/\")[-1]\n",
    "    parts = filename.split(\"_\")\n",
    "    if parts[0] in doc_dates:\n",
    "        return doc_dates[parts[0]]\n",
    "    with open(f\"/sbtal/riksdag-video/api_output/{parts[0]}\") as jsonf:\n",
    "        data = json.load(jsonf)\n",
    "    if \"videodata\" in data:\n",
    "        vd = data[\"videodata\"]\n",
    "        if \"debatedate\" in vd[0]:\n",
    "            date = vd[0].get(\"debatedate\", \"\")\n",
    "            doc_dates[parts[0]] = date\n",
    "            return date\n",
    "    return \"\""
   ]
  },
  {
   "cell_type": "code",
   "execution_count": 25,
   "metadata": {},
   "outputs": [
    {
     "data": {
      "text/plain": [
       "'20 januari 2022'"
      ]
     },
     "execution_count": 25,
     "metadata": {},
     "output_type": "execute_result"
    }
   ],
   "source": [
    "get_doc_date(\"H9C120220120fs_0041_0001_0001_0001_0001_0001\")"
   ]
  },
  {
   "cell_type": "code",
   "execution_count": 50,
   "metadata": {},
   "outputs": [
    {
     "name": "stdout",
     "output_type": "stream",
     "text": [
      "\t2022-01-20\t\tPT16M54.140S\tPT17M12.279S\tH9C120220120fs_0011_0001_0001_0001_0001_0001\t2442204240010077721\tAPI\tVoxRex\t26\t2\t5\t0\t28\t33\n",
      "\t2022-01-20\t\tPT58M3.060S\tPT63M3.280S\tH9C120220120fs_0047_0001_0001_0001_0001_0001\t2442204240010077721\tAPI\tVoxRex\t440\t86\t147\t20\t546\t673\n",
      "\t2022-01-20\t\tPT19M12.300S\tPT20M14.759S\tH9C120220120fs_0015_0001_0001_0001_0001_0001\t2442204240010077721\tAPI\tVoxRex\t97\t18\t30\t7\t122\t145\n",
      "\t2022-01-20\t\tPT56M22.260S\tPT56M36.699S\tH9C120220120fs_0045_0001_0001_0001_0001_0001\t2442204240010077721\tAPI\tVoxRex\t26\t2\t3\t1\t29\t31\n",
      "\t2022-01-20\t\tPT25M46.120S\tPT28M21.759S\tH9C120220120fs_0023_0001_0001_0001_0001_0001\t2442204240010077721\tAPI\tVoxRex\t246\t36\t52\t9\t291\t334\n",
      "\t2022-01-20\t\tPT42M33.400S\tPT42M33.479S\tH9C120220120fs_0034_0001_0001_0001_0002_0001\t2442204240010077721\tAPI\tVoxRex\t0\t0\t0\t0\t0\t0\n",
      "\t2022-01-20\t\tPT18M27.960S\tPT19M9.299S\tH9C120220120fs_0014_0001_0001_0001_0001_0001\t2442204240010077721\tAPI\tVoxRex\t51\t9\t36\t9\t69\t96\n",
      "\t2022-01-20\t\tPT68M29.979S\tPT68M35.159S\tH9C120220120fs_0052_0001_0001_0001_0001_0001\t2442204240010077721\tAPI\tVoxRex\t10\t4\t4\t0\t14\t18\n",
      "\t2022-01-20\t\tPT12M46.660S\tPT13M57.059S\tH9C120220120fs_0007_0001_0001_0001_0001_0001\t2442204240010077721\tAPI\tVoxRex\t152\t10\t19\t3\t165\t181\n",
      "\t2022-01-20\t\tPT21M41.420S\tPT21M54.640S\tH9C120220120fs_0017_0001_0001_0001_0001_0001\t2442204240010077721\tAPI\tVoxRex\t15\t5\t7\t0\t20\t27\n",
      "\t2022-01-20\t\tPT46M52.880S\tPT47M29.960S\tH9C120220120fs_0036_0001_0001_0001_0002_0001\t2442204240010077721\tAPI\tVoxRex\t67\t17\t8\t6\t90\t92\n",
      "\t2022-01-20\t\tPT9M28.880S\tPT12M42.259S\tH9C120220120fs_0006_0001_0001_0001_0001_0001\t2442204240010077721\tAPI\tVoxRex\t337\t53\t108\t20\t410\t498\n",
      "\t2022-01-20\t\tPT8M52.120S\tPT9M18.120S\tH9C120220120fs_0005_0001_0001_0001_0001_0001\t2442204240010077721\tAPI\tVoxRex\t69\t6\t0\t2\t77\t75\n",
      "\t2022-01-20\t\tPT20M18.840S\tPT21M34.940S\tH9C120220120fs_0016_0001_0001_0001_0001_0001\t2442204240010077721\tAPI\tVoxRex\t142\t26\t31\t7\t175\t199\n",
      "\t2022-01-20\t\tPT18M11.680S\tPT18M19.599S\tH9C120220120fs_0013_0001_0001_0001_0001_0001\t2442204240010077721\tAPI\tVoxRex\t25\t3\t2\t1\t29\t30\n",
      "\t2022-01-20\t\tPT14M3.160S\tPT15M31.619S\tH9C120220120fs_0008_0001_0001_0001_0001_0001\t2442204240010077721\tAPI\tVoxRex\t184\t25\t27\t11\t220\t236\n",
      "\t2022-01-20\t\tPT39M9.040S\tPT39M21.440S\tH9C120220120fs_0030_0001_0001_0001_0001_0001\t2442204240010077721\tAPI\tVoxRex\t10\t3\t10\t0\t13\t23\n",
      "\t2022-01-20\t\tPT49M30.800S\tPT49M55.360S\tH9C120220120fs_0038_0001_0001_0001_0001_0001\t2442204240010077721\tAPI\tVoxRex\t51\t8\t2\t1\t60\t61\n",
      "\t2022-01-20\t\tPT36M12.100S\tPT37M17.980S\tH9C120220120fs_0029_0001_0001_0001_0001_0001\t2442204240010077721\tAPI\tVoxRex\t108\t27\t45\t10\t145\t180\n",
      "\t2022-01-20\t\tPT31M3.020S\tPT33M22.780S\tH9C120220120fs_0027_0001_0001_0001_0001_0001\t2442204240010077721\tAPI\tVoxRex\t227\t35\t59\t5\t267\t321\n",
      "\t2022-01-20\t\tPT39M38.160S\tPT40M22.219S\tH9C120220120fs_0032_0001_0001_0001_0001_0001\t2442204240010077721\tAPI\tVoxRex\t75\t14\t17\t6\t95\t106\n",
      "\t2022-01-20\t\tPT40M44.580S\tPT41M20.619S\tH9C120220120fs_0033_0001_0001_0001_0001_0001\t2442204240010077721\tAPI\tVoxRex\t67\t6\t11\t1\t74\t84\n",
      "\t2022-01-20\t\tPT65M55.200S\tPT66M49.380S\tH9C120220120fs_0050_0001_0001_0001_0001_0001\t2442204240010077721\tAPI\tVoxRex\t78\t19\t31\t2\t99\t128\n",
      "\t2022-01-20\t\tPT63M6.740S\tPT65M22.380S\tH9C120220120fs_0048_0001_0001_0001_0001_0001\t2442204240010077721\tAPI\tVoxRex\t186\t42\t67\t9\t237\t295\n",
      "\t2022-01-20\t\tPT21M58.800S\tPT22M10.059S\tH9C120220120fs_0018_0001_0001_0001_0001_0001\t2442204240010077721\tAPI\tVoxRex\t23\t1\t1\t2\t26\t25\n",
      "\t2022-01-20\t\tPT55M15.220S\tPT55M15.300S\tH9C120220120fs_0043_0001_0001_0001_0002_0001\t2442204240010077721\tAPI\tVoxRex\t0\t0\t0\t0\t0\t0\n",
      "\t2022-01-20\t\tPT2M28.580S\tPT3M47.759S\tH9C120220120fs_0001_0001_0001_0001_0001_0001\t2442204240010077721\tAPI\tVoxRex\t120\t18\t20\t4\t142\t158\n",
      "\t2022-01-20\t\tPT42M44.400S\tPT46M5.239S\tH9C120220120fs_0035_0001_0001_0001_0001_0001\t2442204240010077721\tAPI\tVoxRex\t371\t63\t46\t29\t463\t480\n",
      "\t2022-01-20\t\tPT40M27.560S\tPT40M35.100S\tH9C120220120fs_0032_0001_0001_0001_0002_0001\t2442204240010077721\tAPI\tVoxRex\t20\t0\t1\t0\t20\t21\n",
      "\t2022-01-20\t\tPT66M53.580S\tPT67M53.540S\tH9C120220120fs_0050_0001_0001_0001_0002_0001\t2442204240010077721\tAPI\tVoxRex\t65\t32\t53\t4\t101\t150\n",
      "\t2022-01-20\t\tPT52M50.600S\tPT53M35.379S\tH9C120220120fs_0042_0001_0001_0001_0001_0001\t2442204240010077721\tAPI\tVoxRex\t61\t12\t14\t2\t75\t87\n",
      "\t2022-01-20\t\tPT68M37.920S\tPT69M48.739S\tH9C120220120fs_0053_0001_0001_0001_0001_0001\t2442204240010077721\tAPI\tVoxRex\t133\t22\t32\t2\t157\t187\n",
      "\t2022-01-20\t\tPT41M24.780S\tPT42M23.920S\tH9C120220120fs_0034_0001_0001_0001_0001_0001\t2442204240010077721\tAPI\tVoxRex\t116\t7\t16\t7\t130\t139\n",
      "\t2022-01-20\t\tPT29M43.520S\tPT30M25.279S\tH9C120220120fs_0025_0001_0001_0001_0001_0001\t2442204240010077721\tAPI\tVoxRex\t30\t28\t29\t7\t65\t87\n",
      "\t2022-01-20\t\tPT55M40.640S\tPT56M16.560S\tH9C120220120fs_0044_0001_0001_0001_0002_0001\t2442204240010077721\tAPI\tVoxRex\t67\t10\t9\t3\t80\t86\n",
      "\t2022-01-20\t\tPT49M59.940S\tPT50M30.239S\tH9C120220120fs_0039_0001_0001_0001_0001_0001\t2442204240010077721\tAPI\tVoxRex\t30\t20\t13\t0\t50\t63\n",
      "\t2022-01-20\t\tPT22M53.120S\tPT23M17.339S\tH9C120220120fs_0021_0001_0001_0001_0001_0001\t2442204240010077721\tAPI\tVoxRex\t56\t5\t3\t2\t63\t64\n",
      "\t2022-01-20\t\tPT47M34.700S\tPT49M21.739S\tH9C120220120fs_0037_0001_0001_0001_0001_0001\t2442204240010077721\tAPI\tVoxRex\t176\t26\t29\t7\t209\t231\n",
      "\t2022-01-20\t\tPT37M24.400S\tPT38M59.019S\tH9C120220120fs_0029_0001_0001_0001_0002_0001\t2442204240010077721\tAPI\tVoxRex\t166\t25\t33\t12\t203\t224\n",
      "\t2022-01-20\t\tPT56M41.760S\tPT58M1.219S\tH9C120220120fs_0046_0001_0001_0001_0001_0001\t2442204240010077721\tAPI\tVoxRex\t152\t20\t32\t12\t184\t204\n",
      "\t2022-01-20\t\tPT16M26.360S\tPT16M47.960S\tH9C120220120fs_0010_0001_0001_0001_0001_0001\t2442204240010077721\tAPI\tVoxRex\t58\t3\t0\t2\t63\t61\n",
      "\t2022-01-20\t\tPT65M29.480S\tPT65M44.619S\tH9C120220120fs_0049_0001_0001_0001_0001_0001\t2442204240010077721\tAPI\tVoxRex\t28\t2\t4\t2\t32\t34\n",
      "\t2022-01-20\t\tPT23M23.400S\tPT25M42.740S\tH9C120220120fs_0022_0001_0001_0001_0001_0001\t2442204240010077721\tAPI\tVoxRex\t203\t27\t37\t7\t237\t267\n",
      "\t2022-01-20\t\tPT15M42.560S\tPT16M23.200S\tH9C120220120fs_0009_0001_0001_0001_0001_0001\t2442204240010077721\tAPI\tVoxRex\t87\t7\t3\t5\t99\t97\n",
      "\t2022-01-20\t\tPT4M55.240S\tPT6M59.080S\tH9C120220120fs_0003_0001_0001_0001_0001_0001\t2442204240010077721\tAPI\tVoxRex\t208\t24\t30\t9\t241\t262\n",
      "\t2022-01-20\t\tPT33M27.480S\tPT36M8.880S\tH9C120220120fs_0028_0001_0001_0001_0001_0001\t2442204240010077721\tAPI\tVoxRex\t261\t32\t70\t7\t300\t363\n",
      "\t2022-01-20\t\tPT46M8.040S\tPT46M47.560S\tH9C120220120fs_0036_0001_0001_0001_0001_0001\t2442204240010077721\tAPI\tVoxRex\t104\t13\t4\t10\t127\t121\n",
      "\t2022-01-20\t\tPT68M4.040S\tPT68M26.619S\tH9C120220120fs_0051_0001_0001_0001_0001_0001\t2442204240010077721\tAPI\tVoxRex\t51\t6\t1\t2\t59\t58\n",
      "\t2022-01-20\t\tPT7M41.460S\tPT8M49.499S\tH9C120220120fs_0004_0001_0001_0001_0002_0001\t2442204240010077721\tAPI\tVoxRex\t123\t18\t18\t6\t147\t159\n",
      "\t2022-01-20\t\tPT28M23.580S\tPT29M37.099S\tH9C120220120fs_0024_0001_0001_0001_0001_0001\t2442204240010077721\tAPI\tVoxRex\t134\t26\t21\t12\t172\t181\n",
      "\t2022-01-20\t\tPT17M15.720S\tPT18M2.839S\tH9C120220120fs_0012_0001_0001_0001_0001_0001\t2442204240010077721\tAPI\tVoxRex\t88\t10\t13\t3\t101\t111\n",
      "\t2022-01-20\t\tPT55M17.840S\tPT55M32.399S\tH9C120220120fs_0044_0001_0001_0001_0001_0001\t2442204240010077721\tAPI\tVoxRex\t31\t5\t11\t2\t38\t47\n",
      "\t2022-01-20\t\tPT39M25.440S\tPT39M34.999S\tH9C120220120fs_0031_0001_0001_0001_0001_0001\t2442204240010077721\tAPI\tVoxRex\t24\t4\t1\t0\t28\t29\n",
      "\t2022-01-20\t\tPT53M37.100S\tPT55M8.739S\tH9C120220120fs_0043_0001_0001_0001_0001_0001\t2442204240010077721\tAPI\tVoxRex\t147\t34\t19\t5\t186\t200\n",
      "\t2022-01-20\t\tPT22M41.340S\tPT22M46.819S\tH9C120220120fs_0020_0001_0001_0001_0001_0001\t2442204240010077721\tAPI\tVoxRex\t13\t4\t0\t4\t21\t17\n",
      "\t2022-01-20\t\tPT30M28.500S\tPT30M54.680S\tH9C120220120fs_0026_0001_0001_0001_0001_0001\t2442204240010077721\tAPI\tVoxRex\t58\t8\t3\t0\t66\t69\n",
      "\t2022-01-20\t\tPT50M36.460S\tPT52M32.820S\tH9C120220120fs_0040_0001_0001_0001_0001_0001\t2442204240010077721\tAPI\tVoxRex\t172\t40\t42\t8\t220\t254\n",
      "\t2022-01-20\t\tPT22M12.540S\tPT22M36.580S\tH9C120220120fs_0019_0001_0001_0001_0001_0001\t2442204240010077721\tAPI\tVoxRex\t34\t5\t6\t2\t41\t45\n",
      "\t2022-01-20\t\tPT3M53.760S\tPT4M44.920S\tH9C120220120fs_0002_0001_0001_0001_0001_0001\t2442204240010077721\tAPI\tVoxRex\t91\t17\t16\t2\t110\t124\n",
      "\t2022-01-20\t\tPT7M4.900S\tPT7M36.499S\tH9C120220120fs_0004_0001_0001_0001_0001_0001\t2442204240010077721\tAPI\tVoxRex\t47\t10\t24\t2\t59\t81\n"
     ]
    }
   ],
   "source": [
    "for missfile in noisy.glob(\"H9C120220120fs*\"):\n",
    "    proc = process_file(missfile)\n",
    "    proc[\"videodate\"] = get_doc_date(missfile)\n",
    "    print(write_jensfully(proc))"
   ]
  },
  {
   "cell_type": "code",
   "execution_count": null,
   "metadata": {},
   "outputs": [],
   "source": [
    "def extract_start(filename, nlines, sub_to_alt=True):\n",
    "    if type(filename) is not Path:\n",
    "        filename = Path(filename)\n",
    "    with open(filename) as inf:\n",
    "        lines = [x.strip() for x in inf.readlines()]\n",
    "    "
   ]
  },
  {
   "cell_type": "code",
   "execution_count": 2,
   "metadata": {},
   "outputs": [
    {
     "data": {
      "text/plain": [
       "{'debatedate': None}"
      ]
     },
     "execution_count": 2,
     "metadata": {},
     "output_type": "execute_result"
    }
   ],
   "source": [
    "test = '{\"debatedate\": null}'\n",
    "json.loads(test)"
   ]
  }
 ],
 "metadata": {
  "kernelspec": {
   "display_name": "espnet",
   "language": "python",
   "name": "python3"
  },
  "language_info": {
   "codemirror_mode": {
    "name": "ipython",
    "version": 3
   },
   "file_extension": ".py",
   "mimetype": "text/x-python",
   "name": "python",
   "nbconvert_exporter": "python",
   "pygments_lexer": "ipython3",
   "version": "3.9.19"
  }
 },
 "nbformat": 4,
 "nbformat_minor": 2
}
