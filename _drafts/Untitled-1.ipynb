{
 "cells": [
  {
   "cell_type": "code",
   "execution_count": 1,
   "metadata": {},
   "outputs": [],
   "source": [
    "from pathlib import Path"
   ]
  },
  {
   "cell_type": "code",
   "execution_count": 2,
   "metadata": {},
   "outputs": [],
   "source": [
    "passes = Path(\"/home/joregan/passes\")"
   ]
  },
  {
   "cell_type": "code",
   "execution_count": 3,
   "metadata": {},
   "outputs": [],
   "source": [
    "noisy = passes / \"sixth-pass\" / \"noisy\""
   ]
  },
  {
   "cell_type": "code",
   "execution_count": 10,
   "metadata": {},
   "outputs": [],
   "source": [
    "def process_file(filename):\n",
    "    if type(filename) is not Path:\n",
    "        filename = Path(filename)\n",
    "    ops = {}\n",
    "    subs = []\n",
    "    start = 0.0\n",
    "    cur_start = 0.0\n",
    "    cur_dur = 0.0\n",
    "    video = \"\"\n",
    "    with open(filename) as inf:\n",
    "        for line in inf.readlines():\n",
    "            line = line.strip()\n",
    "            parts = line.split(\" \")\n",
    "            category = parts[-1]\n",
    "            if not category in ops:\n",
    "                ops[category] = 0\n",
    "            ops[category] += 1\n",
    "            if category == \"sub\":\n",
    "                subs.append(f\"{parts[4]}|{parts[6]}\")\n",
    "            if start == 0.0:\n",
    "                start = float(parts[2])\n",
    "            if video == \"\":\n",
    "                video = parts[0]\n",
    "            cur_start = float(parts[2])\n",
    "            cur_dur = float(parts[3])\n",
    "\n",
    "    return {\n",
    "        \"start\": start,\n",
    "        \"end\": cur_start + cur_dur,\n",
    "        \"video\": video,\n",
    "        \"filename\": filename.name,\n",
    "        \"substitutions\": subs,\n",
    "        \"ops\": ops\n",
    "    }"
   ]
  },
  {
   "cell_type": "code",
   "execution_count": 11,
   "metadata": {},
   "outputs": [
    {
     "data": {
      "text/plain": [
       "{'start': 3160.42,\n",
       " 'end': 3164.8199999999997,\n",
       " 'video': '2442204240010077721',\n",
       " 'filename': 'H9C120220120fs_0041_0001_0001_0001_0001_0001',\n",
       " 'substitutions': ['och|Colombia.'],\n",
       " 'ops': {'cor': 10, 'ins': 1, 'sub': 1}}"
      ]
     },
     "execution_count": 11,
     "metadata": {},
     "output_type": "execute_result"
    }
   ],
   "source": [
    "process_file(noisy / \"H9C120220120fs_0041_0001_0001_0001_0001_0001\")"
   ]
  }
 ],
 "metadata": {
  "kernelspec": {
   "display_name": "hf_mms",
   "language": "python",
   "name": "python3"
  },
  "language_info": {
   "codemirror_mode": {
    "name": "ipython",
    "version": 3
   },
   "file_extension": ".py",
   "mimetype": "text/x-python",
   "name": "python",
   "nbconvert_exporter": "python",
   "pygments_lexer": "ipython3",
   "version": "3.10.16"
  }
 },
 "nbformat": 4,
 "nbformat_minor": 2
}
