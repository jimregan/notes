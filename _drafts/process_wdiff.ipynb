{
 "cells": [
  {
   "cell_type": "code",
   "execution_count": 1,
   "metadata": {},
   "outputs": [],
   "source": [
    "TEST = \"\"\"\n",
    "rozdział siedemnasty nowy [-zwierzchnik\n",
    "od-] {+zwierzchnikod+} początku roku szkolnego wiedziano powszechnie że surowy inspektor nazywany w owe czasy rektorem został od obowiązków swych usunięty i że pełni je tylko czasowo czekając na przybycie następcy o powodach usunięcia różne między chłopcami krążyły wieści twierdzono przeważnie że to była kara za zbytnią surowość jakiś knot rozpieszczony przez matkę nigdy palcem przez nikogo nie tknięty jedynaczek po otrzymaniu z rozkazu inspektora dwudziestu [-rózeg-] {+ruzek+} miał ciężko rozchorować się podobno nawet [-umrzeć\n",
    "osobistości-] {+umrzećosobistości+} ofiary nikt nie umiał dokładnie wskazać sam jednak fakt narodzenia się tej wieści i jej prawdopodobieństwa był bardzo wymowny być może zresztą że sprawa przedstawiała się nierównie [-prościej\n",
    "inspektor-] {+prościejinspektor+} człowiek stary już mógł [-był-] {+by+} lata\n",
    "\"\"\""
   ]
  },
  {
   "cell_type": "code",
   "execution_count": 8,
   "metadata": {},
   "outputs": [],
   "source": [
    "REPLACE = r\"\\[-([^-]*)-\\] \\{\\+([^\\+]*)\\+\\}\"\n",
    "INSERT = r\"\\{\\+([^\\+]*)\\+\\}\"\n",
    "DELETE = r\"\\[-([^-]*)-\\]\""
   ]
  },
  {
   "cell_type": "code",
   "execution_count": 2,
   "metadata": {},
   "outputs": [],
   "source": [
    "def process_wdiff_output(text):\n",
    "    text = text.replace(\"\\n\", \" \")\n",
    "    "
   ]
  },
  {
   "cell_type": "code",
   "execution_count": 26,
   "metadata": {},
   "outputs": [],
   "source": [
    "import re\n",
    "\n",
    "def get_confusables():\n",
    "    CONFUSABLES_RAW = {\n",
    "        \"e\": [\"ę\", \"e\"],\n",
    "        \"ę\": [\"ę\", \"e\", \"en\", \"em\"]\n",
    "    }\n",
    "    CONFUSEABLES_SYM = \"\"\"\n",
    "    sz ż rz\n",
    "    t d\n",
    "    p b\n",
    "    dź ć\n",
    "    ą om on oł\n",
    "    w f\n",
    "    s z\n",
    "    ź ś\n",
    "    dz c\n",
    "    k g\n",
    "    \"\"\"\n",
    "    for cfs in CONFUSEABLES_SYM.split(\"\\n\"):\n",
    "        if cfs == \"\":\n",
    "            continue\n",
    "        cfsitems = cfs.strip().split(\" \")\n",
    "        for cfsitem in cfsitems:\n",
    "            if cfsitem == '':\n",
    "                continue\n",
    "            CONFUSABLES_RAW[cfsitem] = cfsitems\n",
    "    return {x: f\"({'|'.join(CONFUSABLES_RAW[x])})\" for x in CONFUSABLES_RAW}\n",
    "\n",
    "def eq_mod_confusables(a, b):\n",
    "    a = a.replace(\" \", \"\")\n",
    "    b = b.replace(\" \", \"\")\n",
    "    confusables = get_confusables()\n",
    "    search_re = f\"({\"|\".join(sorted(confusables.keys(), key=len, reverse=True))})\"\n",
    "    \n",
    "\n",
    "\n",
    "def eqnospace(a, b):\n",
    "    return a.replace(\" \", \"\") == b.replace(\" \", \"\")\n",
    "\n",
    "def get_replacement(text):\n",
    "    rep = re.match(REPLACE, text)\n",
    "    if rep:\n",
    "        a = rep.group(1)\n",
    "        b = rep.group(2)\n",
    "        if eqnospace(a, b):\n",
    "            return a\n",
    "        elif a.startswith(\"z \") and b.startswith(\"s\") and a[2].replace(\" \", \"\") == b[1].replace(\" \", \"\"):\n",
    "            return a\n",
    "        \n"
   ]
  },
  {
   "cell_type": "code",
   "execution_count": 19,
   "metadata": {},
   "outputs": [
    {
     "data": {
      "text/plain": [
       "'z wierzchnik od'"
      ]
     },
     "execution_count": 19,
     "metadata": {},
     "output_type": "execute_result"
    }
   ],
   "source": [
    "get_replacement(\"[-zwierzchnik od-] {+zwierzchnikod+}\")"
   ]
  },
  {
   "cell_type": "code",
   "execution_count": 33,
   "metadata": {},
   "outputs": [
    {
     "data": {
      "text/plain": [
       "['sz',\n",
       " 'rz',\n",
       " 'dź',\n",
       " 'om',\n",
       " 'on',\n",
       " 'oł',\n",
       " 'dz',\n",
       " 'e',\n",
       " 'ę',\n",
       " 'ż',\n",
       " 't',\n",
       " 'd',\n",
       " 'p',\n",
       " 'b',\n",
       " 'ć',\n",
       " 'ą',\n",
       " 'w',\n",
       " 'f',\n",
       " 's',\n",
       " 'z',\n",
       " 'ź',\n",
       " 'ś',\n",
       " 'c',\n",
       " 'k',\n",
       " 'g']"
      ]
     },
     "execution_count": 33,
     "metadata": {},
     "output_type": "execute_result"
    }
   ],
   "source": [
    "sorted(get_confusables().keys(), key=len, reverse=True)"
   ]
  }
 ],
 "metadata": {
  "kernelspec": {
   "display_name": "inass",
   "language": "python",
   "name": "python3"
  },
  "language_info": {
   "codemirror_mode": {
    "name": "ipython",
    "version": 3
   },
   "file_extension": ".py",
   "mimetype": "text/x-python",
   "name": "python",
   "nbconvert_exporter": "python",
   "pygments_lexer": "ipython3",
   "version": "3.10.14"
  }
 },
 "nbformat": 4,
 "nbformat_minor": 2
}
