{
  "nbformat": 4,
  "nbformat_minor": 5,
  "metadata": {
    "kernelspec": {
      "display_name": "Python 3",
      "language": "python",
      "name": "python3"
    },
    "language_info": {
      "codemirror_mode": {
        "name": "ipython",
        "version": 3
      },
      "file_extension": ".py",
      "mimetype": "text/x-python",
      "name": "python",
      "nbconvert_exporter": "python",
      "pygments_lexer": "ipython3",
      "version": "3.8.2"
    },
    "colab": {
      "name": "2021-05-21-quiggin-to-ipa.ipynb",
      "provenance": []
    }
  },
  "cells": [
    {
      "cell_type": "markdown",
      "metadata": {
        "id": "79469536"
      },
      "source": [
        "# \"ICU RBNF in Python\"\n",
        "\n",
        "> \"Quick snippet for using RBNF format\"\n",
        "\n",
        "- toc: false\n",
        "- branch: master\n",
        "- hidden: true\n",
        "- categories: [irish, icu, rbnf]"
      ],
      "id": "79469536"
    },
    {
      "cell_type": "code",
      "metadata": {
        "id": "zGKw2-V_4E6a",
        "outputId": "827b1970-0065-4296-8435-2ea76d97d2be",
        "colab": {
          "base_uri": "https://localhost:8080/"
        }
      },
      "source": [
        "%%capture\n",
        "!pip install pyicu"
      ],
      "id": "zGKw2-V_4E6a",
      "execution_count": 1,
      "outputs": [
        {
          "output_type": "stream",
          "text": [
            "Collecting pyicu\n",
            "  Downloading PyICU-2.7.4.tar.gz (298 kB)\n",
            "\u001b[?25l\r\u001b[K     |█                               | 10 kB 26.5 MB/s eta 0:00:01\r\u001b[K     |██▏                             | 20 kB 33.6 MB/s eta 0:00:01\r\u001b[K     |███▎                            | 30 kB 28.1 MB/s eta 0:00:01\r\u001b[K     |████▍                           | 40 kB 21.3 MB/s eta 0:00:01\r\u001b[K     |█████▌                          | 51 kB 17.9 MB/s eta 0:00:01\r\u001b[K     |██████▋                         | 61 kB 12.5 MB/s eta 0:00:01\r\u001b[K     |███████▊                        | 71 kB 13.6 MB/s eta 0:00:01\r\u001b[K     |████████▉                       | 81 kB 15.0 MB/s eta 0:00:01\r\u001b[K     |█████████▉                      | 92 kB 15.1 MB/s eta 0:00:01\r\u001b[K     |███████████                     | 102 kB 14.9 MB/s eta 0:00:01\r\u001b[K     |████████████                    | 112 kB 14.9 MB/s eta 0:00:01\r\u001b[K     |█████████████▏                  | 122 kB 14.9 MB/s eta 0:00:01\r\u001b[K     |██████████████▎                 | 133 kB 14.9 MB/s eta 0:00:01\r\u001b[K     |███████████████▍                | 143 kB 14.9 MB/s eta 0:00:01\r\u001b[K     |████████████████▌               | 153 kB 14.9 MB/s eta 0:00:01\r\u001b[K     |█████████████████▋              | 163 kB 14.9 MB/s eta 0:00:01\r\u001b[K     |██████████████████▋             | 174 kB 14.9 MB/s eta 0:00:01\r\u001b[K     |███████████████████▊            | 184 kB 14.9 MB/s eta 0:00:01\r\u001b[K     |████████████████████▉           | 194 kB 14.9 MB/s eta 0:00:01\r\u001b[K     |██████████████████████          | 204 kB 14.9 MB/s eta 0:00:01\r\u001b[K     |███████████████████████         | 215 kB 14.9 MB/s eta 0:00:01\r\u001b[K     |████████████████████████▏       | 225 kB 14.9 MB/s eta 0:00:01\r\u001b[K     |█████████████████████████▎      | 235 kB 14.9 MB/s eta 0:00:01\r\u001b[K     |██████████████████████████▍     | 245 kB 14.9 MB/s eta 0:00:01\r\u001b[K     |███████████████████████████▍    | 256 kB 14.9 MB/s eta 0:00:01\r\u001b[K     |████████████████████████████▌   | 266 kB 14.9 MB/s eta 0:00:01\r\u001b[K     |█████████████████████████████▋  | 276 kB 14.9 MB/s eta 0:00:01\r\u001b[K     |██████████████████████████████▊ | 286 kB 14.9 MB/s eta 0:00:01\r\u001b[K     |███████████████████████████████▉| 296 kB 14.9 MB/s eta 0:00:01\r\u001b[K     |████████████████████████████████| 298 kB 14.9 MB/s \n",
            "\u001b[?25hBuilding wheels for collected packages: pyicu\n",
            "  Building wheel for pyicu (setup.py) ... \u001b[?25l\u001b[?25hdone\n",
            "  Created wheel for pyicu: filename=PyICU-2.7.4-cp37-cp37m-linux_x86_64.whl size=1374600 sha256=6c80aac2baeca1b89f563c8767594e50c5070380a856dc72f3a0d86a869e4b20\n",
            "  Stored in directory: /root/.cache/pip/wheels/c4/3a/c8/2d2397cd8f6cd04489ecac3d1e6821bb4938d73312d69b834f\n",
            "Successfully built pyicu\n",
            "Installing collected packages: pyicu\n",
            "Successfully installed pyicu-2.7.4\n"
          ],
          "name": "stdout"
        }
      ]
    },
    {
      "cell_type": "code",
      "metadata": {
        "id": "PqXl_8av33Fn",
        "outputId": "9f928e19-75f7-4a9a-afbd-6d4676ac6591",
        "colab": {
          "base_uri": "https://localhost:8080/",
          "height": 35
        }
      },
      "source": [
        "import icu\n",
        "formatter = icu.RuleBasedNumberFormat(icu.URBNFRuleSetTag.SPELLOUT, icu.Locale('ga'))\n",
        "formatter.format(23)\n"
      ],
      "id": "PqXl_8av33Fn",
      "execution_count": 2,
      "outputs": [
        {
          "output_type": "execute_result",
          "data": {
            "application/vnd.google.colaboratory.intrinsic+json": {
              "type": "string"
            },
            "text/plain": [
              "'fiche a trí'"
            ]
          },
          "metadata": {
            "tags": []
          },
          "execution_count": 2
        }
      ]
    }
  ]
}