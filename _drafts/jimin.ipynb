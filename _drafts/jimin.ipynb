{
 "cells": [
  {
   "cell_type": "code",
   "execution_count": 22,
   "metadata": {},
   "outputs": [],
   "source": [
    "_GENERAL = \"\"\"\n",
    "tosú\\ttosnú\n",
    "dtús\\tdtúis\n",
    "nóiméad\\tneomat\n",
    "anseo\\tanso\n",
    "dtosóidh\\tdtosnóidh\n",
    "léi\\tléithe\n",
    "\"\"\"\n"
   ]
  },
  {
   "cell_type": "code",
   "execution_count": 23,
   "metadata": {},
   "outputs": [],
   "source": [
    "GENERAL = {k: v for k, v in (l.split(\"\\t\") for l in _GENERAL.split(\"\\n\") if l != \"\")}"
   ]
  },
  {
   "cell_type": "code",
   "execution_count": 24,
   "metadata": {},
   "outputs": [
    {
     "data": {
      "text/plain": [
       "{'tosú': 'tosnú',\n",
       " 'dtús': 'dtúis',\n",
       " 'nóiméad': 'neomat',\n",
       " 'anseo': 'anso',\n",
       " 'dtosóidh': 'dtosnóidh',\n",
       " 'léi': 'léithe'}"
      ]
     },
     "execution_count": 24,
     "metadata": {},
     "output_type": "execute_result"
    }
   ],
   "source": [
    "GENERAL"
   ]
  },
  {
   "cell_type": "code",
   "execution_count": 6,
   "metadata": {},
   "outputs": [
    {
     "data": {
      "text/plain": [
       "['f', 'a']"
      ]
     },
     "execution_count": 6,
     "metadata": {},
     "output_type": "execute_result"
    }
   ],
   "source": [
    "\"f a\".split(\" \")"
   ]
  },
  {
   "cell_type": "code",
   "execution_count": null,
   "metadata": {},
   "outputs": [],
   "source": [
    "SPECIFIC = {\n",
    "    \"181\": {\n",
    "        \"Is í Máire\": \"Sí Máire\",\n",
    "        \"Cabidil 1\": \"Cabidil a hAon\",\n",
    "        \"Mar 'Tháinig\": \"Mar a Tháinig\",\n",
    "        \"mar Chuir\": \"mar a Chuir\"\n",
    "    },\n",
    "    \"183\": {\n",
    "        \"atá tú?\": \"athánn tú?\"\n",
    "    },\n",
    "    \"189\": {\n",
    "        \"a ithe\": \"a dh'ithe\",\n",
    "        \"nuair d'imigh\": \"nuair a d'imigh\"\n",
    "    }\n",
    "}"
   ]
  }
 ],
 "metadata": {
  "kernelspec": {
   "display_name": "Python 3.10.4 ('ctcseg')",
   "language": "python",
   "name": "python3"
  },
  "language_info": {
   "codemirror_mode": {
    "name": "ipython",
    "version": 3
   },
   "file_extension": ".py",
   "mimetype": "text/x-python",
   "name": "python",
   "nbconvert_exporter": "python",
   "pygments_lexer": "ipython3",
   "version": "3.10.4"
  },
  "orig_nbformat": 4,
  "vscode": {
   "interpreter": {
    "hash": "04f1aebeda7ca92f6170d2806fa3f3c0cbb14da723fd908a9af630117dfe1004"
   }
  }
 },
 "nbformat": 4,
 "nbformat_minor": 2
}
