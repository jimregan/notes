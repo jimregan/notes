{
 "cells": [
  {
   "cell_type": "code",
   "execution_count": 1,
   "id": "24049c90",
   "metadata": {},
   "outputs": [],
   "source": [
    "import conllu"
   ]
  },
  {
   "cell_type": "code",
   "execution_count": 3,
   "id": "1a8db7e1",
   "metadata": {},
   "outputs": [],
   "source": [
    "sample = \"\"\"\n",
    "# sent_id = 909\n",
    "# text = M'anam go raibh sin iontach scáfar, ach ansin d'fhág tú sin agus chuaigh tú le sagartóireacht.\n",
    "1\tM'\tmo\tDET\tDet\tNumber=Sing|Person=1|Poss=Yes\t2\tnmod:poss\t_\tSpaceAfter=No\n",
    "2\tanam\tanam\tNOUN\tNoun\tCase=NomAcc|Definite=Def|Gender=Masc|Number=Sing\t0\troot\t_\t_\n",
    "3\tgo\tgo\tPART\tVb\tPartType=Cmpl\t4\tmark:prt\t_\t_\n",
    "4\traibh\tbí\tVERB\tPastInd\tMood=Ind|Tense=Past\t2\tcsubj:cop\t_\t_\n",
    "5\tsin\tsin\tPRON\tDem\tPronType=Dem\t4\tnsubj\t_\t_\n",
    "6\tiontach\tiontach\tADV\tIts\t_\t7\tadvmod\t_\t_\n",
    "7\tscáfar\tscáfar\tADJ\tAdj\tDegree=Pos\t4\txcomp:pred\t_\tSpaceAfter=No\n",
    "8\t,\t,\tPUNCT\tPunct\t_\t9\tpunct\t_\t_\n",
    "9\tach\tach\tSCONJ\tSubord\t_\t12\tmark\t_\t_\n",
    "10\tansin\tansin\tADV\tLoc\t_\t12\tadvmod\t_\t_\n",
    "11\td'\tdo\tPART\tVb\tPartType=Vb\t12\tmark:prt\t_\tSpaceAfter=No\n",
    "12\tfhág\tfág\tVERB\tVTI\tForm=Len|Mood=Ind|Tense=Past\t4\tadvcl\t_\t_\n",
    "13\ttú\ttú\tPRON\tPers\tNumber=Sing|Person=2\t12\tnsubj\t_\t_\n",
    "14\tsin\tsin\tPRON\tDem\tPronType=Dem\t12\tobj\t_\t_\n",
    "15\tagus\tagus\tCCONJ\tCoord\t_\t16\tcc\t_\t_\n",
    "16\tchuaigh\ttéigh\tVERB\tVTI\tForm=Len|Mood=Ind|Tense=Past\t12\tconj\t_\t_\n",
    "17\ttú\ttú\tPRON\tPers\tNumber=Sing|Person=2\t16\tnsubj\t_\t_\n",
    "18\tle\tle\tADP\tSimp\t_\t19\tcase\t_\t_\n",
    "19\tsagartóireacht\tsagartóireacht\tNOUN\tNoun\tCase=NomAcc|Gender=Fem|Number=Sing\t16\tobl\t_\tSpaceAfter=No\n",
    "20\t.\t.\tPUNCT\t.\t_\t2\tpunct\t_\t_\n",
    "\"\"\""
   ]
  },
  {
   "cell_type": "code",
   "execution_count": 2,
   "id": "272c63a4",
   "metadata": {},
   "outputs": [],
   "source": [
    "from conllu.models import TokenList, Token\n",
    "from conllu import parse"
   ]
  },
  {
   "cell_type": "code",
   "execution_count": 4,
   "id": "2ab251a6",
   "metadata": {},
   "outputs": [],
   "source": [
    "sent = parse(sample)"
   ]
  },
  {
   "cell_type": "code",
   "execution_count": 5,
   "id": "95a43efd",
   "metadata": {},
   "outputs": [
    {
     "data": {
      "text/plain": [
       "[TokenList<M', anam, go, raibh, sin, iontach, scáfar, ,, ach, ansin, d', fhág, tú, sin, agus, chuaigh, tú, le, sagartóireacht, .>]"
      ]
     },
     "execution_count": 5,
     "metadata": {},
     "output_type": "execute_result"
    }
   ],
   "source": [
    "sent"
   ]
  }
 ],
 "metadata": {
  "kernelspec": {
   "display_name": "Python 3",
   "language": "python",
   "name": "python3"
  },
  "language_info": {
   "codemirror_mode": {
    "name": "ipython",
    "version": 3
   },
   "file_extension": ".py",
   "mimetype": "text/x-python",
   "name": "python",
   "nbconvert_exporter": "python",
   "pygments_lexer": "ipython3",
   "version": "3.8.2"
  }
 },
 "nbformat": 4,
 "nbformat_minor": 5
}
