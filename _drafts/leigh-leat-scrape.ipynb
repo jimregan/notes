{
 "cells": [
  {
   "cell_type": "code",
   "execution_count": 1,
   "metadata": {},
   "outputs": [],
   "source": [
    "DEARGADAOL_LANDING = \"https://www.leighleat.com/sc%C3%A9alta/45\""
   ]
  },
  {
   "cell_type": "code",
   "execution_count": 2,
   "metadata": {},
   "outputs": [],
   "source": [
    "import requests\n",
    "from bs4 import BeautifulSoup"
   ]
  },
  {
   "cell_type": "code",
   "execution_count": 14,
   "metadata": {},
   "outputs": [],
   "source": [
    "def get_page_list(url: str):\n",
    "    PAGE_REQ = requests.get(url)\n",
    "    if PAGE_REQ.status_code != 200:\n",
    "        return None\n",
    "\n",
    "    soup = BeautifulSoup(PAGE_REQ.content, \"html.parser\")\n",
    "\n",
    "    pages = set()\n",
    "    for row in soup.find_all(\"div\", {'class': 'row'}):\n",
    "        for anchor in row.find_all(\"a\"):\n",
    "            if anchor[\"href\"].startswith(\"/pages/\"):\n",
    "                pages.add(f'https://www.leighleat.com{anchor[\"href\"]}')\n",
    "    return list(pages)"
   ]
  },
  {
   "cell_type": "code",
   "execution_count": 55,
   "metadata": {},
   "outputs": [],
   "source": [
    "def get_page(url: str):\n",
    "    PAGE_REQ = requests.get(url)\n",
    "    if PAGE_REQ.status_code != 200:\n",
    "        return None\n",
    "\n",
    "    soup = BeautifulSoup(PAGE_REQ.content, \"html.parser\")\n",
    "\n",
    "    audio_url = \"\"\n",
    "    audio = soup.find(\"audio\", {\"id\": \"audio\"})\n",
    "    audio_source = audio.find(\"source\")\n",
    "    if audio_source:\n",
    "        if audio_source[\"src\"].startswith(\"http\"):\n",
    "            audio_url = audio_source[\"src\"]\n",
    "        elif audio_source[\"src\"].startswith(\"/\"):\n",
    "            audio_url = f'https://www.leighleat.com{audio_source[\"src\"]}'\n",
    "\n",
    "    text_pieces = []\n",
    "    content = soup.find(\"div\", {\"class\": \"story-page-content\"})\n",
    "    if not content:\n",
    "        content = soup.find(\"div\", {\"class\": \"inner-container\"})\n",
    "        if content:\n",
    "            for child in content.children:\n",
    "                print(child)\n",
    "                if child.name == \"h1\" and \"page-text\" in child[\"class\"]:\n",
    "                    if child.text.strip() != \"\":\n",
    "                        text_pieces.append(child.text.strip())\n",
    "                elif child.name == \"div\" and child[\"class\"] == \"text\":\n",
    "                    print(\"div\", child)\n",
    "                    for subchild in child.children:\n",
    "                        if subchild.name == \"p\":\n",
    "                            print(\"para\", subchild.text)\n",
    "                            if subchild.text.strip() != \"\":\n",
    "                                text_pieces.append(subchild.text.strip())\n",
    "    if len(text_pieces) != 0:\n",
    "        text = \" \".join(text_pieces)\n",
    "    else:\n",
    "        text = content.text.strip()\n",
    "    return audio_url, text\n",
    "    "
   ]
  },
  {
   "cell_type": "code",
   "execution_count": 41,
   "metadata": {},
   "outputs": [
    {
     "data": {
      "text/plain": [
       "('https://www.leighleat.com/rails/active_storage/blobs/redirect/eyJfcmFpbHMiOnsibWVzc2FnZSI6IkJBaHBBcWNEIiwiZXhwIjpudWxsLCJwdXIiOiJibG9iX2lkIn19--875ea38698f12dbef3db303886c58fd6d5190cab/lth%201.mp3',\n",
       " 'Fear siúil as Dúiche Sheoighe a tháinig isteach i dteach m’athar a d’inis an scéal seo dúinn \\ncois teallaigh oíche gharbh gheimhridh. Bhí an ghaoth ag caoineadh thart timpeall an tí, \\nar nós mná ag caoineadh marbh, le linn labhartha dó, agus níodh sé a ghlór a ardú nó a ísliú \\nde réir mar a d’ardaíodh nó mar a d’íslíodh glór na gaoithe. Fear ard a bhí ann, súile fiáine aige, agus a chuid éadaigh beagnach ina mbalcaisí. Bhí saghas eagla orm roimhe nuair a tháinig sé isteach, agus níor lúide m’eagla a scéal.\\n‘Na trí feithidí is beannaithe ar an domhan,’ arsa an fear siúil, ‘an chadóg, an spideoigín agus bó Dé. Agus na trí feithidí is mallaithe ar an domhan, an nathair nimhe, an dreoilín agus an deargadaol.\\nAgus ’sé an deargadaol an fheithide is mallaithe acu. Is agamsa atá a fhios sin. Dá maródh fear do mhac, a bhean an tí, ná tabhair deargadaol mar ainm air. Dá dtiocfadh bean idir thú féin agus do chéile leapan, ná cuir i gcomórtas leis an deargadaol í.’')"
      ]
     },
     "execution_count": 41,
     "metadata": {},
     "output_type": "execute_result"
    }
   ],
   "source": [
    "get_page(\"https://www.leighleat.com/pages/475\")"
   ]
  },
  {
   "cell_type": "code",
   "execution_count": 56,
   "metadata": {},
   "outputs": [
    {
     "name": "stdout",
     "output_type": "stream",
     "text": [
      "\n",
      "\n",
      "<h1 class=\"page-title\">Caibidil 1: An Rí Artúr </h1>\n",
      "\n",
      "\n",
      "<div class=\"text\">\n",
      "<p>\n",
      "Fadó fadó bhí laoch óg misniúil ann darbh ainm Artúr. Theastaigh uaidh a thír a thabhairt slán ó ionradh agus ó ansmacht. Chabhraigh draoi darbh ainm Merlin leis. Rinne Merlin claíomh draíochta a bhí greamaithe go docht i gcarraig mhór. Seo mar a bhí scríofa ar an gcarraig: Pé duine atá ábalta an claíomh seo a tharraingt as an gcarraig, beidh an duine sin ina cheannaire dlistineach ar an tír. \n",
      "<br/>Rinne na fir ba láidre sa tír gach iarracht an claíomh draíochta a tharraingt amach. Theip orthu go léir. Bhí an claíomh gafa, greamaithe sa charraig. Ach nuair a chuir Artúr a lámh ar an gclaíomh, shleamhnaigh sé amach go deas réidh. Ní raibh muintir na tíre sásta glacadh leis mar rí i dtosach. De réir a chéile, áfach, thuig siad go raibh sé stuama, cineálta agus thug siad an-ghrá dó. Le cabhair ó Merlin, thug Artúr an tír slán ó ionróirí. Nuair a bhí an troid thart, chuir Artúr an claíomh ar ais sa charraig. Agus is ansin a d’fhan sé ar feadh na gcéadta bliain. \n",
      "<br/>I Sasana a bhí an claíomh. De réir a chéile d’éirigh Sasana an-láidir agus rinne a airm ionradh ar thíortha eile ar fud an domhain. Bhí a impireacht féin ag Sasana ansin.  \n",
      "</p>\n",
      "</div>\n",
      "\n",
      "\n",
      "<div class=\"center\">\n",
      "<audio controls=\"\" height=\"176\" id=\"audio\" width=\"100%\">\n",
      "<source src=\"/rails/active_storage/blobs/redirect/eyJfcmFpbHMiOnsibWVzc2FnZSI6IkJBaHBBclFuIiwiZXhwIjpudWxsLCJwdXIiOiJibG9iX2lkIn19--a6f03c6d6a35f802262cd6a4a26c3108ef6e8449/Cli%CC%81ona%20&amp;%20an%20Clai%CC%81omh%20Cb%201%20lch%201.mp3\" type=\"audio/mpeg\"/>\n",
      "              Your browser does not support HTML5 audio.\n",
      "            </audio>\n",
      "</div>\n",
      "\n",
      "\n"
     ]
    },
    {
     "data": {
      "text/plain": [
       "('https://www.leighleat.com/rails/active_storage/blobs/redirect/eyJfcmFpbHMiOnsibWVzc2FnZSI6IkJBaHBBclFuIiwiZXhwIjpudWxsLCJwdXIiOiJibG9iX2lkIn19--a6f03c6d6a35f802262cd6a4a26c3108ef6e8449/Cli%CC%81ona%20&%20an%20Clai%CC%81omh%20Cb%201%20lch%201.mp3',\n",
       " 'Caibidil 1: An Rí Artúr\\xa0\\n\\n\\nFadó fadó bhí laoch óg misniúil ann darbh ainm Artúr. Theastaigh uaidh a thír a thabhairt slán ó ionradh agus ó ansmacht. Chabhraigh draoi darbh ainm Merlin leis. Rinne Merlin claíomh draíochta a bhí greamaithe go docht i gcarraig mhór. Seo mar a bhí scríofa ar an gcarraig: Pé duine atá ábalta an claíomh seo a tharraingt as an gcarraig, beidh an duine sin ina cheannaire dlistineach ar an tír. \\nRinne na fir ba láidre sa tír gach iarracht an claíomh draíochta a tharraingt amach. Theip orthu go léir. Bhí an claíomh gafa, greamaithe sa charraig. Ach nuair a chuir Artúr a lámh ar an gclaíomh, shleamhnaigh sé amach go deas réidh. Ní raibh muintir na tíre sásta glacadh leis mar rí i dtosach. De réir a chéile, áfach, thuig siad go raibh sé stuama, cineálta agus thug siad an-ghrá dó. Le cabhair ó Merlin, thug Artúr an tír slán ó ionróirí. Nuair a bhí an troid thart, chuir Artúr an claíomh ar ais sa charraig. Agus is ansin a d’fhan sé ar feadh na gcéadta bliain. \\nI Sasana a bhí an claíomh. De réir a chéile d’éirigh Sasana an-láidir agus rinne a airm ionradh ar thíortha eile ar fud an domhain. Bhí a impireacht féin ag Sasana ansin.  \\n\\n\\n\\n\\n\\n              Your browser does not support HTML5 audio.')"
      ]
     },
     "execution_count": 56,
     "metadata": {},
     "output_type": "execute_result"
    }
   ],
   "source": [
    "get_page(\"https://www.leighleat.com/pages/2177\")"
   ]
  },
  {
   "cell_type": "code",
   "execution_count": 26,
   "metadata": {},
   "outputs": [],
   "source": [
    "test_audio = \"https://www.leighleat.com/rails/active_storage/blobs/redirect/eyJfcmFpbHMiOnsibWVzc2FnZSI6IkJBaHBBclFuIiwiZXhwIjpudWxsLCJwdXIiOiJibG9iX2lkIn19--a6f03c6d6a35f802262cd6a4a26c3108ef6e8449/Cli%CC%81ona%20&%20an%20Clai%CC%81omh%20Cb%201%20lch%201.mp3\""
   ]
  },
  {
   "cell_type": "code",
   "execution_count": 27,
   "metadata": {},
   "outputs": [],
   "source": [
    "aud = requests.get(test_audio)"
   ]
  }
 ],
 "metadata": {
  "kernelspec": {
   "display_name": "hf",
   "language": "python",
   "name": "python3"
  },
  "language_info": {
   "codemirror_mode": {
    "name": "ipython",
    "version": 3
   },
   "file_extension": ".py",
   "mimetype": "text/x-python",
   "name": "python",
   "nbconvert_exporter": "python",
   "pygments_lexer": "ipython3",
   "version": "3.9.15"
  },
  "orig_nbformat": 4
 },
 "nbformat": 4,
 "nbformat_minor": 2
}
