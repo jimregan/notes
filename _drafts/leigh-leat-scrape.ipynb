{
 "cells": [
  {
   "cell_type": "code",
   "execution_count": 1,
   "metadata": {},
   "outputs": [],
   "source": [
    "DEARGADAOL_LANDING = \"https://www.leighleat.com/sc%C3%A9alta/45\""
   ]
  },
  {
   "cell_type": "code",
   "execution_count": 2,
   "metadata": {},
   "outputs": [],
   "source": [
    "import requests\n",
    "from bs4 import BeautifulSoup"
   ]
  },
  {
   "cell_type": "code",
   "execution_count": 14,
   "metadata": {},
   "outputs": [],
   "source": [
    "def get_page_list(url: str):\n",
    "    PAGE_REQ = requests.get(url)\n",
    "    if PAGE_REQ.status_code != 200:\n",
    "        return None\n",
    "\n",
    "    soup = BeautifulSoup(PAGE_REQ.content, \"html.parser\")\n",
    "\n",
    "    pages = set()\n",
    "    for row in soup.find_all(\"div\", {'class': 'row'}):\n",
    "        for anchor in row.find_all(\"a\"):\n",
    "            if anchor[\"href\"].startswith(\"/pages/\"):\n",
    "                pages.add(f'https://www.leighleat.com{anchor[\"href\"]}')\n",
    "    return list(pages)"
   ]
  },
  {
   "cell_type": "code",
   "execution_count": 65,
   "metadata": {},
   "outputs": [],
   "source": [
    "def get_page(url: str):\n",
    "    PAGE_REQ = requests.get(url)\n",
    "    if PAGE_REQ.status_code != 200:\n",
    "        return None\n",
    "\n",
    "    soup = BeautifulSoup(PAGE_REQ.content, \"html.parser\")\n",
    "\n",
    "    audio_url = \"\"\n",
    "    audio = soup.find(\"audio\", {\"id\": \"audio\"})\n",
    "    audio_source = audio.find(\"source\")\n",
    "    if audio_source:\n",
    "        if audio_source[\"src\"].startswith(\"http\"):\n",
    "            audio_url = audio_source[\"src\"]\n",
    "        elif audio_source[\"src\"].startswith(\"/\"):\n",
    "            audio_url = f'https://www.leighleat.com{audio_source[\"src\"]}'\n",
    "\n",
    "    text_pieces = []\n",
    "    content = soup.find(\"div\", {\"class\": \"story-page-content\"})\n",
    "    if not content:\n",
    "        content = soup.find(\"div\", {\"class\": \"inner-container\"})\n",
    "        if content:\n",
    "            for child in content.children:\n",
    "                print(\"\")\n",
    "                for ent in child.__dict__:\n",
    "                    if ent not in [\"parent\", \"previous_element\"]:\n",
    "                        print(child.name, ent, child.__dict__[ent])\n",
    "                if child.name == \"h1\" and \"page-text\" in child[\"class\"]:\n",
    "                    if child.text.strip() != \"\":\n",
    "                        text_pieces.append(child.text.strip())\n",
    "                elif child.name == \"div\" and child[\"class\"] == \"text\":\n",
    "                    print(\"div\", child)\n",
    "                    for subchild in child.children:\n",
    "                        if subchild.name == \"p\":\n",
    "                            print(\"para\", subchild.text)\n",
    "                            if subchild.text.strip() != \"\":\n",
    "                                text_pieces.append(subchild.text.strip())\n",
    "    if len(text_pieces) != 0:\n",
    "        text = \" \".join(text_pieces)\n",
    "    else:\n",
    "        text = content.text.strip()\n",
    "    return audio_url, text\n",
    "    "
   ]
  },
  {
   "cell_type": "code",
   "execution_count": null,
   "metadata": {},
   "outputs": [],
   "source": [
    "get_page(\"https://www.leighleat.com/pages/475\")"
   ]
  },
  {
   "cell_type": "code",
   "execution_count": null,
   "metadata": {},
   "outputs": [],
   "source": [
    "get_page(\"https://www.leighleat.com/pages/2177\")"
   ]
  },
  {
   "cell_type": "code",
   "execution_count": 26,
   "metadata": {},
   "outputs": [],
   "source": [
    "test_audio = \"https://www.leighleat.com/rails/active_storage/blobs/redirect/eyJfcmFpbHMiOnsibWVzc2FnZSI6IkJBaHBBclFuIiwiZXhwIjpudWxsLCJwdXIiOiJibG9iX2lkIn19--a6f03c6d6a35f802262cd6a4a26c3108ef6e8449/Cli%CC%81ona%20&%20an%20Clai%CC%81omh%20Cb%201%20lch%201.mp3\""
   ]
  },
  {
   "cell_type": "code",
   "execution_count": 27,
   "metadata": {},
   "outputs": [],
   "source": [
    "aud = requests.get(test_audio)"
   ]
  }
 ],
 "metadata": {
  "kernelspec": {
   "display_name": "hf",
   "language": "python",
   "name": "python3"
  },
  "language_info": {
   "codemirror_mode": {
    "name": "ipython",
    "version": 3
   },
   "file_extension": ".py",
   "mimetype": "text/x-python",
   "name": "python",
   "nbconvert_exporter": "python",
   "pygments_lexer": "ipython3",
   "version": "3.9.15"
  },
  "orig_nbformat": 4
 },
 "nbformat": 4,
 "nbformat_minor": 2
}
