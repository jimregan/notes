{
 "cells": [
  {
   "cell_type": "code",
   "execution_count": 1,
   "metadata": {},
   "outputs": [],
   "source": [
    "DEARGADAOL_LANDING = \"https://www.leighleat.com/sc%C3%A9alta/45\""
   ]
  },
  {
   "cell_type": "code",
   "execution_count": 2,
   "metadata": {},
   "outputs": [],
   "source": [
    "import requests\n",
    "from bs4 import BeautifulSoup"
   ]
  },
  {
   "cell_type": "code",
   "execution_count": 14,
   "metadata": {},
   "outputs": [],
   "source": [
    "def get_page_list(url: str):\n",
    "    PAGE_REQ = requests.get(url)\n",
    "    if PAGE_REQ.status_code != 200:\n",
    "        return None\n",
    "\n",
    "    soup = BeautifulSoup(PAGE_REQ.content, \"html.parser\")\n",
    "\n",
    "    pages = set()\n",
    "    for row in soup.find_all(\"div\", {'class': 'row'}):\n",
    "        for anchor in row.find_all(\"a\"):\n",
    "            if anchor[\"href\"].startswith(\"/pages/\"):\n",
    "                pages.add(f'https://www.leighleat.com{anchor[\"href\"]}')\n",
    "    return list(pages)"
   ]
  },
  {
   "cell_type": "code",
   "execution_count": 24,
   "metadata": {},
   "outputs": [],
   "source": [
    "def get_page(url: str):\n",
    "    PAGE_REQ = requests.get(url)\n",
    "    if PAGE_REQ.status_code != 200:\n",
    "        return None\n",
    "\n",
    "    soup = BeautifulSoup(PAGE_REQ.content, \"html.parser\")\n",
    "\n",
    "    audio_url = \"\"\n",
    "    audio = soup.find(\"audio\", {\"id\": \"audio\"})\n",
    "    audio_source = audio.find(\"source\")\n",
    "    if audio_source:\n",
    "        if audio_source[\"src\"].startswith(\"http\"):\n",
    "            audio_url = audio_source[\"src\"]\n",
    "        elif audio_source[\"src\"].startswith(\"/\"):\n",
    "            audio_url = f'https://www.leighleat.com{audio_source[\"src\"]}'\n",
    "    # <div class=\"story-page-content \">\n",
    "    content = soup.find(\"div\", {\"class\": \"story-page-content\"})\n",
    "    text = content.text.strip()\n",
    "    return audio_url, text\n",
    "    "
   ]
  },
  {
   "cell_type": "code",
   "execution_count": null,
   "metadata": {},
   "outputs": [],
   "source": [
    "get_page(\"https://www.leighleat.com/pages/475\")"
   ]
  },
  {
   "cell_type": "code",
   "execution_count": 23,
   "metadata": {},
   "outputs": [
    {
     "ename": "AttributeError",
     "evalue": "'NoneType' object has no attribute 'text'",
     "output_type": "error",
     "traceback": [
      "\u001b[0;31m---------------------------------------------------------------------------\u001b[0m",
      "\u001b[0;31mAttributeError\u001b[0m                            Traceback (most recent call last)",
      "\u001b[1;32m/Users/joregan/Playing/notes/_drafts/leigh-leat-scrape.ipynb Cell 6\u001b[0m line \u001b[0;36m1\n\u001b[0;32m----> <a href='vscode-notebook-cell:/Users/joregan/Playing/notes/_drafts/leigh-leat-scrape.ipynb#X11sZmlsZQ%3D%3D?line=0'>1</a>\u001b[0m get_page(\u001b[39m\"\u001b[39;49m\u001b[39mhttps://www.leighleat.com/pages/2177\u001b[39;49m\u001b[39m\"\u001b[39;49m)\n",
      "\u001b[1;32m/Users/joregan/Playing/notes/_drafts/leigh-leat-scrape.ipynb Cell 6\u001b[0m line \u001b[0;36m1\n\u001b[1;32m     <a href='vscode-notebook-cell:/Users/joregan/Playing/notes/_drafts/leigh-leat-scrape.ipynb#X11sZmlsZQ%3D%3D?line=15'>16</a>\u001b[0m \u001b[39m# <div class=\"story-page-content \">\u001b[39;00m\n\u001b[1;32m     <a href='vscode-notebook-cell:/Users/joregan/Playing/notes/_drafts/leigh-leat-scrape.ipynb#X11sZmlsZQ%3D%3D?line=16'>17</a>\u001b[0m content \u001b[39m=\u001b[39m soup\u001b[39m.\u001b[39mfind(\u001b[39m\"\u001b[39m\u001b[39mdiv\u001b[39m\u001b[39m\"\u001b[39m, {\u001b[39m\"\u001b[39m\u001b[39mclass\u001b[39m\u001b[39m\"\u001b[39m: \u001b[39m\"\u001b[39m\u001b[39mstory-page-content\u001b[39m\u001b[39m\"\u001b[39m})\n\u001b[0;32m---> <a href='vscode-notebook-cell:/Users/joregan/Playing/notes/_drafts/leigh-leat-scrape.ipynb#X11sZmlsZQ%3D%3D?line=17'>18</a>\u001b[0m text \u001b[39m=\u001b[39m content\u001b[39m.\u001b[39;49mtext\n\u001b[1;32m     <a href='vscode-notebook-cell:/Users/joregan/Playing/notes/_drafts/leigh-leat-scrape.ipynb#X11sZmlsZQ%3D%3D?line=18'>19</a>\u001b[0m \u001b[39mreturn\u001b[39;00m audio_url, text\n",
      "\u001b[0;31mAttributeError\u001b[0m: 'NoneType' object has no attribute 'text'"
     ]
    }
   ],
   "source": [
    "get_page(\"https://www.leighleat.com/pages/2177\")"
   ]
  }
 ],
 "metadata": {
  "kernelspec": {
   "display_name": "hf",
   "language": "python",
   "name": "python3"
  },
  "language_info": {
   "codemirror_mode": {
    "name": "ipython",
    "version": 3
   },
   "file_extension": ".py",
   "mimetype": "text/x-python",
   "name": "python",
   "nbconvert_exporter": "python",
   "pygments_lexer": "ipython3",
   "version": "3.9.15"
  },
  "orig_nbformat": 4
 },
 "nbformat": 4,
 "nbformat_minor": 2
}
