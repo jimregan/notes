{
 "cells": [
  {
   "cell_type": "code",
   "execution_count": 1,
   "metadata": {},
   "outputs": [],
   "source": [
    "DEARGADAOL_LANDING = \"https://www.leighleat.com/sc%C3%A9alta/45\""
   ]
  },
  {
   "cell_type": "code",
   "execution_count": 2,
   "metadata": {},
   "outputs": [],
   "source": [
    "import requests\n",
    "\n",
    "DEARGADAOL_LANDING_REQ = requests.get(DEARGADAOL_LANDING)"
   ]
  },
  {
   "cell_type": "code",
   "execution_count": 3,
   "metadata": {},
   "outputs": [],
   "source": [
    "assert DEARGADAOL_LANDING_REQ.status_code == 200"
   ]
  },
  {
   "cell_type": "code",
   "execution_count": 4,
   "metadata": {},
   "outputs": [],
   "source": [
    "from bs4 import BeautifulSoup\n"
   ]
  },
  {
   "cell_type": "code",
   "execution_count": 5,
   "metadata": {},
   "outputs": [],
   "source": [
    "soup = BeautifulSoup(DEARGADAOL_LANDING_REQ.content, \"html.parser\")"
   ]
  },
  {
   "cell_type": "code",
   "execution_count": 12,
   "metadata": {},
   "outputs": [],
   "source": [
    "pages = set()\n",
    "for row in soup.find_all(\"div\", {'class': 'row'}):\n",
    "    for anchor in row.find_all(\"a\"):\n",
    "        if anchor[\"href\"].startswith(\"/pages/\"):\n",
    "            pages.add(f'https://www.leighleat.com{anchor[\"href\"]}')"
   ]
  },
  {
   "cell_type": "code",
   "execution_count": 13,
   "metadata": {},
   "outputs": [
    {
     "data": {
      "text/plain": [
       "{'https://www.leighleat.com/pages/474',\n",
       " 'https://www.leighleat.com/pages/475',\n",
       " 'https://www.leighleat.com/pages/476',\n",
       " 'https://www.leighleat.com/pages/477',\n",
       " 'https://www.leighleat.com/pages/478',\n",
       " 'https://www.leighleat.com/pages/479',\n",
       " 'https://www.leighleat.com/pages/480',\n",
       " 'https://www.leighleat.com/pages/481',\n",
       " 'https://www.leighleat.com/pages/482',\n",
       " 'https://www.leighleat.com/pages/483',\n",
       " 'https://www.leighleat.com/pages/484',\n",
       " 'https://www.leighleat.com/pages/485',\n",
       " 'https://www.leighleat.com/pages/486',\n",
       " 'https://www.leighleat.com/pages/520'}"
      ]
     },
     "execution_count": 13,
     "metadata": {},
     "output_type": "execute_result"
    }
   ],
   "source": [
    "pages"
   ]
  }
 ],
 "metadata": {
  "kernelspec": {
   "display_name": "hf",
   "language": "python",
   "name": "python3"
  },
  "language_info": {
   "codemirror_mode": {
    "name": "ipython",
    "version": 3
   },
   "file_extension": ".py",
   "mimetype": "text/x-python",
   "name": "python",
   "nbconvert_exporter": "python",
   "pygments_lexer": "ipython3",
   "version": "3.9.15"
  },
  "orig_nbformat": 4
 },
 "nbformat": 4,
 "nbformat_minor": 2
}
