{
 "cells": [
  {
   "cell_type": "code",
   "execution_count": 1,
   "metadata": {},
   "outputs": [],
   "source": [
    "DEARGADAOL_LANDING = \"https://www.leighleat.com/sc%C3%A9alta/45\""
   ]
  },
  {
   "cell_type": "code",
   "execution_count": 2,
   "metadata": {},
   "outputs": [],
   "source": [
    "import requests\n",
    "from bs4 import BeautifulSoup"
   ]
  },
  {
   "cell_type": "code",
   "execution_count": 14,
   "metadata": {},
   "outputs": [],
   "source": [
    "def get_page_list(url: str):\n",
    "    PAGE_REQ = requests.get(url)\n",
    "    if PAGE_REQ.status_code != 200:\n",
    "        return None\n",
    "\n",
    "    soup = BeautifulSoup(PAGE_REQ.content, \"html.parser\")\n",
    "\n",
    "    pages = set()\n",
    "    for row in soup.find_all(\"div\", {'class': 'row'}):\n",
    "        for anchor in row.find_all(\"a\"):\n",
    "            if anchor[\"href\"].startswith(\"/pages/\"):\n",
    "                pages.add(f'https://www.leighleat.com{anchor[\"href\"]}')\n",
    "    return list(pages)"
   ]
  },
  {
   "cell_type": "code",
   "execution_count": 134,
   "metadata": {},
   "outputs": [],
   "source": [
    "def get_page(url: str, getnext: bool = False):\n",
    "    PAGE_REQ = requests.get(url)\n",
    "    if PAGE_REQ.status_code != 200:\n",
    "        return None\n",
    "    output = {}\n",
    "    output[\"url\"] = url\n",
    "\n",
    "    soup = BeautifulSoup(PAGE_REQ.content, \"html.parser\")\n",
    "\n",
    "    audio_url = \"\"\n",
    "    audio = soup.find(\"audio\", {\"id\": \"audio\"})\n",
    "    if audio:\n",
    "        audio_source = audio.find(\"source\")\n",
    "        if audio_source:\n",
    "            if audio_source[\"src\"].startswith(\"http\"):\n",
    "                audio_url = audio_source[\"src\"]\n",
    "            elif audio_source[\"src\"].startswith(\"/\"):\n",
    "                audio_url = f'https://www.leighleat.com{audio_source[\"src\"]}'\n",
    "\n",
    "    text_pieces = []\n",
    "    content = soup.find(\"div\", {\"class\": \"story-page-content\"})\n",
    "    selector = \"h1, p\"\n",
    "    next_selector = \"a.next-btn\"\n",
    "    if not content:\n",
    "        content = soup.find(\"div\", {\"class\": \"inner-container\"})\n",
    "        selector = \"h1.page-title, div.text > p\"\n",
    "    if not content:\n",
    "        content = soup.find(\"div\", {\"class\": \"mobile-page-text\"})\n",
    "        selector = \"h2, p\"\n",
    "    if not content:\n",
    "        content = soup.find(\"div\", {\"class\": \"g-hidden-lg-down\"})\n",
    "        selector = \"div.page-text > h1, div.page-text > p\"\n",
    "    if content:\n",
    "        for text in content.select(selector):\n",
    "            if text.text.strip() != \"\":\n",
    "                text_pieces.append(text.text.strip())\n",
    "    \n",
    "    if getnext:\n",
    "        next_button = soup.select_one(next_selector)\n",
    "        output[\"next\"] = f'https://www.leighleat.com{next_button[\"href\"]}'\n",
    "\n",
    "    output[\"audio\"] = audio_url\n",
    "    output[\"text\"] = text_pieces\n",
    "\n",
    "    return output\n",
    "    "
   ]
  },
  {
   "cell_type": "code",
   "execution_count": null,
   "metadata": {},
   "outputs": [],
   "source": [
    "get_page(\"https://www.leighleat.com/pages/548\", True)"
   ]
  },
  {
   "cell_type": "code",
   "execution_count": null,
   "metadata": {},
   "outputs": [],
   "source": [
    "get_page(\"https://www.leighleat.com/sc%C3%A9alta/15\")"
   ]
  }
 ],
 "metadata": {
  "kernelspec": {
   "display_name": "hf",
   "language": "python",
   "name": "python3"
  },
  "language_info": {
   "codemirror_mode": {
    "name": "ipython",
    "version": 3
   },
   "file_extension": ".py",
   "mimetype": "text/x-python",
   "name": "python",
   "nbconvert_exporter": "python",
   "pygments_lexer": "ipython3",
   "version": "3.9.15"
  },
  "orig_nbformat": 4
 },
 "nbformat": 4,
 "nbformat_minor": 2
}
