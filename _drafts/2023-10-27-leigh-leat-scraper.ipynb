{
 "cells": [
  {
   "cell_type": "code",
   "execution_count": 2,
   "metadata": {},
   "outputs": [],
   "source": [
    "DEARGADAOL_LANDING = \"https://www.leighleat.com/sc%C3%A9alta/45\""
   ]
  },
  {
   "cell_type": "code",
   "execution_count": 3,
   "metadata": {},
   "outputs": [],
   "source": [
    "import requests\n",
    "from bs4 import BeautifulSoup"
   ]
  },
  {
   "cell_type": "code",
   "execution_count": 4,
   "metadata": {},
   "outputs": [],
   "source": [
    "def get_page_list(url: str):\n",
    "    PAGE_REQ = requests.get(url)\n",
    "    if PAGE_REQ.status_code != 200:\n",
    "        return None\n",
    "\n",
    "    soup = BeautifulSoup(PAGE_REQ.content, \"html.parser\")\n",
    "\n",
    "    pages = set()\n",
    "    for row in soup.find_all(\"div\", {'class': 'row'}):\n",
    "        for anchor in row.find_all(\"a\"):\n",
    "            if anchor[\"href\"].startswith(\"/pages/\"):\n",
    "                pages.add(f'https://www.leighleat.com{anchor[\"href\"]}')\n",
    "    return list(pages)"
   ]
  },
  {
   "cell_type": "code",
   "execution_count": 5,
   "metadata": {},
   "outputs": [],
   "source": [
    "def get_page(url: str, getnext: bool = False):\n",
    "    PAGE_REQ = requests.get(url)\n",
    "    if PAGE_REQ.status_code != 200:\n",
    "        return None\n",
    "    output = {}\n",
    "    output[\"url\"] = url\n",
    "\n",
    "    soup = BeautifulSoup(PAGE_REQ.content, \"html.parser\")\n",
    "\n",
    "    audio_url = \"\"\n",
    "    audio = soup.find(\"audio\", {\"id\": \"audio\"})\n",
    "    if audio:\n",
    "        audio_source = audio.find(\"source\")\n",
    "        if audio_source:\n",
    "            if audio_source[\"src\"].startswith(\"http\"):\n",
    "                audio_url = audio_source[\"src\"]\n",
    "            elif audio_source[\"src\"].startswith(\"/\"):\n",
    "                audio_url = f'https://www.leighleat.com{audio_source[\"src\"]}'\n",
    "\n",
    "    text_pieces = []\n",
    "    content = soup.find(\"div\", {\"class\": \"story-page-content\"})\n",
    "    selector = \"h1, p\"\n",
    "    next_selector = \"a.next-btn\"\n",
    "    if not content:\n",
    "        content = soup.find(\"div\", {\"class\": \"inner-container\"})\n",
    "        selector = \"h1.page-title, div.text > p\"\n",
    "    if not content:\n",
    "        content = soup.find(\"div\", {\"class\": \"mobile-page-text\"})\n",
    "        selector = \"h2, p\"\n",
    "    if not content:\n",
    "        content = soup.find(\"div\", {\"class\": \"g-hidden-lg-down\"})\n",
    "        selector = \"div.page-text > h1, div.page-text > p\"\n",
    "    if content:\n",
    "        for text in content.select(selector):\n",
    "            if text.text.strip() != \"\":\n",
    "                text_pieces.append(text.text.strip())\n",
    "    \n",
    "    if getnext:\n",
    "        next_button = soup.select_one(next_selector)\n",
    "        output[\"next\"] = f'https://www.leighleat.com{next_button[\"href\"]}'\n",
    "\n",
    "    output[\"audio\"] = audio_url\n",
    "    output[\"text\"] = text_pieces\n",
    "\n",
    "    return output\n",
    "    "
   ]
  },
  {
   "cell_type": "code",
   "execution_count": 6,
   "metadata": {},
   "outputs": [],
   "source": [
    "COUNT_DIGITS = {\n",
    "    1: \"a haon\",\n",
    "    2: \"a dó\",\n",
    "    3: \"a trí\",\n",
    "    4: \"a ceathair\",\n",
    "    5: \"a cúig\",\n",
    "    6: \"a sé\",\n",
    "    7: \"a seacht\",\n",
    "    8: \"a hocht\",\n",
    "    9: \"a naoi\"\n",
    "}"
   ]
  },
  {
   "cell_type": "code",
   "execution_count": 7,
   "metadata": {},
   "outputs": [],
   "source": [
    "DIALECT_MU = {\n",
    "    \"anseo\": \"anso\",\n",
    "    \"ansin\": \"ansan\",\n",
    "    \"dtús\": \"dtúis\",\n",
    "    \"tosú\": \"tosnú\",\n",
    "    \"tosóidh\": \"tosnóidh\",\n",
    "    \"atá\": \"athá\",\n",
    "    \"atá tú\": \"athánn tú\",\n",
    "    \"léi\": \"léithe\",\n",
    "    \"arís\": \"aríst\",\n",
    "    \"cloisteáil\": \"cloisint\",\n",
    "    \"faoi\": \"fé\",\n",
    "    \"an-suim\": \"an-shuim\",\n",
    "    \"scríofa\": \"scríte\",\n",
    "}"
   ]
  },
  {
   "cell_type": "code",
   "execution_count": 8,
   "metadata": {},
   "outputs": [],
   "source": [
    "PAGE_SPECIFIC = {\n",
    "    \"181\": {\n",
    "        \"Mar 'Tháinig\": \"Mar a Tháinig\",\n",
    "        \"Cabidil\": \"Caibidil\",\n",
    "        \"mar Chuir\": \"mar a Chuir\"\n",
    "    },\n",
    "    \"190\": {\n",
    "        \"nuair d'fhéach\": \"nuair a d'fhéach\"\n",
    "    },\n",
    "    \"191\": {\n",
    "        \"le mo\": \"lem\"\n",
    "    }\n",
    "}"
   ]
  },
  {
   "cell_type": "code",
   "execution_count": 9,
   "metadata": {},
   "outputs": [],
   "source": [
    "def skip_if_colon(text):\n",
    "    if \":\" in text:\n",
    "        return \"\"\n",
    "    else:\n",
    "      return text\n",
    "\n",
    "def skip_art(text):\n",
    "    if text.startswith(\"(Ealaín:\"):\n",
    "        return \"\"\n",
    "    else:\n",
    "        return text"
   ]
  },
  {
   "cell_type": "code",
   "execution_count": 10,
   "metadata": {},
   "outputs": [
    {
     "data": {
      "text/plain": [
       "{'url': 'https://www.leighleat.com/pages/548',\n",
       " 'next': 'https://www.leighleat.com/pages/549',\n",
       " 'audio': 'https://www.leighleat.com/rails/active_storage/blobs/redirect/eyJfcmFpbHMiOnsibWVzc2FnZSI6IkJBaHBBdklWIiwiZXhwIjpudWxsLCJwdXIiOiJibG9iX2lkIn19--aff8cb94bc79129d01554b64d74c85047f42c44f/lth%202.mp3',\n",
       " 'text': ['Mianta… nó Mallachtaí?',\n",
       "  'Fadó, fadó, rinne Janus dhá leabhar draíochta. Dia ab ea Janus a raibh maith agus olc ann. Thug Leabhar na Mianta gach mian duit – gach rud a theastaigh uait. Ach d’imir Janus cleas ar na daoine. Rinne sé an dara leabhar. Bhí sé an-chosúil leis an gcéad leabhar ach gur chuir sé do chuid mianta trí chéile. Ba é seo Leabhar na Mallachtaí. B’fhéidir gur léigh tú faoi cheana. Agus b’fhéidir go gcuirfeadh sé iontas ort a chloisteáil go raibh Leabhar na Mianta níos measa agus níos contúirtí ná Leabhar na Mallachtaí.']}"
      ]
     },
     "execution_count": 10,
     "metadata": {},
     "output_type": "execute_result"
    }
   ],
   "source": [
    "get_page(\"https://www.leighleat.com/pages/548\", True)"
   ]
  },
  {
   "cell_type": "code",
   "execution_count": 13,
   "metadata": {},
   "outputs": [
    {
     "data": {
      "text/plain": [
       "{'url': 'https://www.leighleat.com/sc%C3%A9alta/15',\n",
       " 'next': 'https://www.leighleat.com/pages/88',\n",
       " 'audio': 'https://www.leighleat.com/rails/active_storage/blobs/redirect/eyJfcmFpbHMiOnsibWVzc2FnZSI6IkJBaHBBazRCIiwiZXhwIjpudWxsLCJwdXIiOiJibG9iX2lkIn19--32cb80d4bafc92c56929a3b14b8c03f36494793e/An%20Leon%20Baineann%20p.1.mp3',\n",
       " 'text': ['AN LEON BAINEANN',\n",
       "  'Bhí an-iomaíocht idir ainmhithe na coille go léir féachaint cé acu a bhí ina máthair ar an ál ba mhó. \\nTugadh na máithreacha go léir isteach ina gceann agus ina gceann agus cuireadh an cheist orthu faoi líon a n-ál.']}"
      ]
     },
     "execution_count": 13,
     "metadata": {},
     "output_type": "execute_result"
    }
   ],
   "source": [
    "get_page(\"https://www.leighleat.com/sc%C3%A9alta/15\", True)"
   ]
  }
 ],
 "metadata": {
  "kernelspec": {
   "display_name": "hf",
   "language": "python",
   "name": "python3"
  },
  "language_info": {
   "codemirror_mode": {
    "name": "ipython",
    "version": 3
   },
   "file_extension": ".py",
   "mimetype": "text/x-python",
   "name": "python",
   "nbconvert_exporter": "python",
   "pygments_lexer": "ipython3",
   "version": "3.9.15"
  },
  "orig_nbformat": 4
 },
 "nbformat": 4,
 "nbformat_minor": 2
}
