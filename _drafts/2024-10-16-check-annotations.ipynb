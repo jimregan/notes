{
 "cells": [
  {
   "cell_type": "markdown",
   "metadata": {},
   "source": [
    "# Trim LabelStudio annotations\n",
    "\n",
    "> \"to match trimmed audio\"\n",
    "\n",
    "- branch: master\n",
    "- hidden: true\n",
    "- comments: false\n",
    "- categories: [labelstudio, trim, csv]"
   ]
  },
  {
   "cell_type": "code",
   "execution_count": 1,
   "metadata": {},
   "outputs": [],
   "source": [
    "def slurpfile(filename) -> str:\n",
    "    with open(filename) as inf:\n",
    "        return inf.read().strip()"
   ]
  },
  {
   "cell_type": "code",
   "execution_count": 2,
   "metadata": {
    "tags": [
     "parameters"
    ]
   },
   "outputs": [],
   "source": [
    "timecode_dir = \"/Users/joregan/timecode_cut\"\n",
    "output_dir = \"/tmp/textgrid_cut\"\n",
    "host = \"http://130.237.3.107:8080/api/\"\n",
    "api_token: str = slurpfile(\"label_studio_mine\")"
   ]
  },
  {
   "cell_type": "code",
   "execution_count": 3,
   "metadata": {},
   "outputs": [],
   "source": [
    "from pathlib import Path\n",
    "\n",
    "timecode_path = Path(timecode_dir)\n",
    "output_path = Path(output_dir)"
   ]
  },
  {
   "cell_type": "code",
   "execution_count": 1,
   "metadata": {},
   "outputs": [
    {
     "ename": "NameError",
     "evalue": "name 'api_token' is not defined",
     "output_type": "error",
     "traceback": [
      "\u001b[0;31m---------------------------------------------------------------------------\u001b[0m",
      "\u001b[0;31mNameError\u001b[0m                                 Traceback (most recent call last)",
      "Cell \u001b[0;32mIn [1], line 6\u001b[0m\n\u001b[1;32m      2\u001b[0m \u001b[38;5;28;01mimport\u001b[39;00m \u001b[38;5;21;01mjson\u001b[39;00m\n\u001b[1;32m      3\u001b[0m \u001b[38;5;28;01mfrom\u001b[39;00m \u001b[38;5;21;01mpathlib\u001b[39;00m \u001b[38;5;28;01mimport\u001b[39;00m Path\n\u001b[1;32m      5\u001b[0m headers \u001b[38;5;241m=\u001b[39m {\n\u001b[0;32m----> 6\u001b[0m     \u001b[38;5;124m\"\u001b[39m\u001b[38;5;124mAuthorization\u001b[39m\u001b[38;5;124m\"\u001b[39m: \u001b[38;5;124mf\u001b[39m\u001b[38;5;124m\"\u001b[39m\u001b[38;5;124mToken \u001b[39m\u001b[38;5;132;01m{\u001b[39;00mapi_token\u001b[38;5;132;01m}\u001b[39;00m\u001b[38;5;124m\"\u001b[39m\n\u001b[1;32m      7\u001b[0m }\n",
      "\u001b[0;31mNameError\u001b[0m: name 'api_token' is not defined"
     ]
    }
   ],
   "source": [
    "import requests\n",
    "import json\n",
    "from pathlib import Path\n",
    "\n",
    "headers = {\n",
    "    \"Authorization\": f\"Token {api_token}\"\n",
    "}"
   ]
  },
  {
   "cell_type": "code",
   "execution_count": 51,
   "metadata": {},
   "outputs": [],
   "source": [
    "def get_task(task_id):\n",
    "    ep = f\"{host}tasks/{task_id}\"\n",
    "    req = requests.get(ep, headers=headers)\n",
    "    if req.status_code != 200:\n",
    "        return {}\n",
    "    data = json.loads(req.text)\n",
    "    return data"
   ]
  },
  {
   "cell_type": "code",
   "execution_count": 10,
   "metadata": {},
   "outputs": [],
   "source": [
    "def get_annotation(annot_it):\n",
    "    ep = f\"{host}annotations/{annot_it}\"\n",
    "    req = requests.get(ep, headers=headers)\n",
    "    assert req.status_code == 200\n",
    "    data = json.loads(req.text)\n",
    "    return data"
   ]
  },
  {
   "cell_type": "code",
   "execution_count": 15,
   "metadata": {},
   "outputs": [],
   "source": [
    "data = get_annotation(264)"
   ]
  },
  {
   "cell_type": "code",
   "execution_count": 31,
   "metadata": {},
   "outputs": [],
   "source": [
    "def combine_labels(data):\n",
    "    combined = {}\n",
    "\n",
    "    if \"result\" in data:\n",
    "        for res in data[\"result\"]:\n",
    "            if not res[\"id\"] in combined:\n",
    "                combined[res[\"id\"]] = res\n",
    "            else:\n",
    "                if \"text\" in res[\"value\"]:\n",
    "                    combined[res[\"id\"]][\"value\"][\"text\"] = res[\"value\"][\"text\"]\n",
    "                elif \"labels\" in res[\"value\"]:\n",
    "                    combined[res[\"id\"]][\"value\"][\"labels\"] = res[\"value\"][\"labels\"]\n",
    "    return combined"
   ]
  },
  {
   "cell_type": "code",
   "execution_count": 58,
   "metadata": {},
   "outputs": [],
   "source": [
    "def adjust_times_write_tsv(data):\n",
    "    task = data[\"task\"]\n",
    "    task_data = get_task(task)\n",
    "    if \"data\" in task_data and \"audio\" in task_data[\"data\"]:\n",
    "        orig_file = task_data[\"data\"][\"audio\"]\n",
    "        parts = orig_file.split(\"/\")\n",
    "        orig_file = parts[-1]\n",
    "    if orig_file:\n",
    "        out_part = orig_file.replace(\".wav\", \".tsv\")\n",
    "        orig_file = out_part.replace(\"_main\", \"\").replace(\"_inter\", \"\")\n",
    "    else:\n",
    "        return []\n",
    "    tsv_file = timecode_path / orig_file\n",
    "    out_file = output_path / out_part\n",
    "\n",
    "    if not tsv_file.exists():\n",
    "        return []\n",
    "    start, end = get_timecode_offsets(str(tsv_file))\n",
    "\n",
    "    results = []\n",
    "\n",
    "    combined = combine_labels(data)\n",
    "\n",
    "    for item in combined:\n",
    "        val = combined[item][\"value\"]\n",
    "        if not \"labels\" in val:\n",
    "            continue\n",
    "        if not \"Speech\" in val[\"labels\"]:\n",
    "            continue\n",
    "        e_start = val[\"start\"]\n",
    "        e_end = val[\"end\"]\n",
    "        text = val[\"text\"]\n",
    "        if len(text) > 1:\n",
    "            for t in text:\n",
    "                if not (t.startswith(\"/\") and t.endswith(\"/\")):\n",
    "                    text = t\n",
    "        else:\n",
    "            text = text[0]\n",
    "\n",
    "        new_start = e_start - start\n",
    "        new_end = e_end - start\n",
    "\n",
    "        if new_end < 0.0:\n",
    "            continue\n",
    "        elif e_start >= end and e_end > end:\n",
    "            continue\n",
    "        elif new_start < 0.0 and new_end > 0.0:\n",
    "            if text != \"\":\n",
    "                    print(\"Warning\", out_part, \"truncating entry\", e_start, e_end, text)\n",
    "            if results == []:\n",
    "                results.append((0.0, new_end, text))\n",
    "            else:\n",
    "                print(\"Shouldn't have existing entries!!\", out_part, e_start, e_end, text)\n",
    "                results.append((0.0, new_end, text))\n",
    "        elif e_start >= start and e_end <= end:\n",
    "            results.append((new_start, new_end, text))\n",
    "        elif e_start <= end and e_end > end:\n",
    "            if text != \"\":\n",
    "                print(\"Warning\", out_part, \"truncating entry\", e_start, e_end, text)\n",
    "            results.append((new_start, new_end, text))\n",
    "        else:\n",
    "            print(\"There should be no default case\", out_part, e_start, e_end, text)\n",
    "        \n",
    "    with open(out_file, \"w\") as outf:\n",
    "        for res in results:\n",
    "            outf.write(\"\\t\".join([str(x) for x in list(res)]) + \"\\n\")\n",
    "        "
   ]
  },
  {
   "cell_type": "code",
   "execution_count": 59,
   "metadata": {},
   "outputs": [],
   "source": [
    "for transcription in IDS:\n",
    "    data = get_annotation(transcription)\n",
    "    if not \"task\" in data:\n",
    "        print(\"Error with task\", transcription)\n",
    "        continue\n",
    "    else:\n",
    "        adjust_times_write_tsv(data)"
   ]
  }
 ],
 "metadata": {
  "kernelspec": {
   "display_name": "nst-tts",
   "language": "python",
   "name": "python3"
  },
  "language_info": {
   "codemirror_mode": {
    "name": "ipython",
    "version": 3
   },
   "file_extension": ".py",
   "mimetype": "text/x-python",
   "name": "python",
   "nbconvert_exporter": "python",
   "pygments_lexer": "ipython3",
   "version": "3.10.9"
  }
 },
 "nbformat": 4,
 "nbformat_minor": 2
}
