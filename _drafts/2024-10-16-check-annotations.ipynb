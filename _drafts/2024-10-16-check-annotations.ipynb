{
 "cells": [
  {
   "cell_type": "markdown",
   "metadata": {},
   "source": [
    "# Trim LabelStudio annotations\n",
    "\n",
    "> \"to match trimmed audio\"\n",
    "\n",
    "- branch: master\n",
    "- hidden: true\n",
    "- comments: false\n",
    "- categories: [labelstudio, trim, csv]"
   ]
  },
  {
   "cell_type": "code",
   "execution_count": 2,
   "metadata": {},
   "outputs": [],
   "source": [
    "def slurpfile(filename) -> str:\n",
    "    with open(filename) as inf:\n",
    "        return inf.read().strip()"
   ]
  },
  {
   "cell_type": "code",
   "execution_count": 52,
   "metadata": {
    "tags": [
     "parameters"
    ]
   },
   "outputs": [],
   "source": [
    "output_dir = \"/tmp/textgrid_cut\"\n",
    "wav_dir = \"/Users/joregan/Playing/hsi/audio\"\n",
    "host = \"http://130.237.3.107:8080/api/\"\n",
    "api_token: str = slurpfile(\"label_studio_mine\")"
   ]
  },
  {
   "cell_type": "code",
   "execution_count": 53,
   "metadata": {},
   "outputs": [],
   "source": [
    "from pathlib import Path\n",
    "\n",
    "output_path = Path(output_dir)\n",
    "wav_path = Path(wav_dir)"
   ]
  },
  {
   "cell_type": "code",
   "execution_count": 5,
   "metadata": {},
   "outputs": [],
   "source": [
    "import requests\n",
    "import json\n",
    "from pathlib import Path\n",
    "\n",
    "headers = {\n",
    "    \"Authorization\": f\"Token {api_token}\"\n",
    "}"
   ]
  },
  {
   "cell_type": "code",
   "execution_count": 6,
   "metadata": {},
   "outputs": [],
   "source": [
    "def get_task(task_id):\n",
    "    ep = f\"{host}tasks/{task_id}\"\n",
    "    req = requests.get(ep, headers=headers)\n",
    "    if req.status_code != 200:\n",
    "        return {}\n",
    "    data = json.loads(req.text)\n",
    "    return data"
   ]
  },
  {
   "cell_type": "code",
   "execution_count": 7,
   "metadata": {},
   "outputs": [],
   "source": [
    "def get_annotation(annot_it):\n",
    "    ep = f\"{host}annotations/{annot_it}\"\n",
    "    req = requests.get(ep, headers=headers)\n",
    "    assert req.status_code == 200\n",
    "    data = json.loads(req.text)\n",
    "    return data"
   ]
  },
  {
   "cell_type": "code",
   "execution_count": 8,
   "metadata": {},
   "outputs": [],
   "source": [
    "data = get_annotation(264)"
   ]
  },
  {
   "cell_type": "code",
   "execution_count": 10,
   "metadata": {},
   "outputs": [],
   "source": [
    "def combine_labels(data):\n",
    "    combined = {}\n",
    "\n",
    "    if \"result\" in data:\n",
    "        for res in data[\"result\"]:\n",
    "            if not res[\"id\"] in combined:\n",
    "                combined[res[\"id\"]] = res\n",
    "            else:\n",
    "                if \"text\" in res[\"value\"]:\n",
    "                    combined[res[\"id\"]][\"value\"][\"text\"] = res[\"value\"][\"text\"]\n",
    "                elif \"labels\" in res[\"value\"]:\n",
    "                    combined[res[\"id\"]][\"value\"][\"labels\"] = res[\"value\"][\"labels\"]\n",
    "    return combined"
   ]
  },
  {
   "cell_type": "code",
   "execution_count": 15,
   "metadata": {},
   "outputs": [],
   "source": [
    "from pydub import AudioSegment"
   ]
  },
  {
   "cell_type": "code",
   "execution_count": 16,
   "metadata": {},
   "outputs": [],
   "source": [
    "MAPPING = \"\"\"\n",
    "ɑː AA\n",
    "æ AE\n",
    "ə AH\n",
    "ɐ AH\n",
    "ʌ AH\n",
    "ɔː AO\n",
    "aʊ AW\n",
    "aɪ AY\n",
    "b B\n",
    "tʃ CH\n",
    "d D\n",
    "ð DH\n",
    "ɛ EH\n",
    "ɚ ER\n",
    "ɜː ER\n",
    "eɪ EY\n",
    "f F\n",
    "ɡ G\n",
    "h HH\n",
    "ɪ IH\n",
    "i IY\n",
    "iː IY\n",
    "dʒ JH\n",
    "k K\n",
    "l L\n",
    "m M\n",
    "n N\n",
    "ŋ NG\n",
    "oʊ OW\n",
    "ɔɪ OY\n",
    "p P\n",
    "ɹ R\n",
    "s S\n",
    "ʃ SH\n",
    "t T\n",
    "θ TH\n",
    "ʊ UH\n",
    "uː UW\n",
    "v V\n",
    "w W\n",
    "j Y\n",
    "z Z\n",
    "ʒ ZH\n",
    "ɾ D\n",
    "\"\"\""
   ]
  },
  {
   "cell_type": "code",
   "execution_count": 17,
   "metadata": {},
   "outputs": [],
   "source": [
    "espeak_to_cmudict = {}\n",
    "for line in MAPPING.split(\"\\n\"):\n",
    "    if line == \"\":\n",
    "        continue\n",
    "    line = line.strip()\n",
    "    parts = line.split(\" \")\n",
    "\n",
    "    if len(parts) != 2:\n",
    "        print(line)\n",
    "        continue\n",
    "    k, v = line.split(\" \")\n",
    "    if not k in espeak_to_cmudict:\n",
    "        espeak_to_cmudict[k] = v"
   ]
  },
  {
   "cell_type": "code",
   "execution_count": 18,
   "metadata": {},
   "outputs": [],
   "source": [
    "import re\n",
    "\n",
    "cmudict_keys = espeak_to_cmudict.keys()\n",
    "cmudict_keys = sorted(cmudict_keys, key=len, reverse=True)\n",
    "espeak_regex = re.compile(rf\"({'|'.join(cmudict_keys)})\")\n",
    "\n",
    "def cmudictify(espeak):\n",
    "    espeak = espeak.replace(\"ˈ\", \"\").replace(\"ˌ\", \"\")\n",
    "    return \" \".join([espeak_to_cmudict[x] for x in re.findall(espeak_regex, espeak)])"
   ]
  },
  {
   "cell_type": "code",
   "execution_count": 19,
   "metadata": {},
   "outputs": [],
   "source": [
    "def normword(text):\n",
    "    text = text.strip(\",.;:!?\")\n",
    "    return text.lower()\n",
    "\n",
    "def normphon(phon):\n",
    "    phon = phon.strip(\",.;:!?\")\n",
    "    return phon\n",
    "\n",
    "def make_lexicon(text, phon):\n",
    "    if phon.startswith(\"/\") and phon.endswith(\"/\"):\n",
    "        phon = phon[1:-1]\n",
    "    words = [normword(x) for x in text.split(\" \")]\n",
    "    phonwords = [cmudictify(normphon(x)) for x in phon.split(\" \")]\n",
    "    assert len(words) == len(phonwords)\n",
    "    output = list(set(zip(words, phonwords)))\n",
    "    return output"
   ]
  },
  {
   "cell_type": "code",
   "execution_count": 21,
   "metadata": {},
   "outputs": [],
   "source": [
    "combined = combine_labels(data)"
   ]
  },
  {
   "cell_type": "code",
   "execution_count": 49,
   "metadata": {},
   "outputs": [],
   "source": [
    "def simplify_combined_mine(combined):\n",
    "    simplified = []\n",
    "    for item in combined:\n",
    "        val = combined[item][\"value\"]\n",
    "        if not \"Speech\" in val[\"labels\"]:\n",
    "            continue\n",
    "        start = val[\"start\"]\n",
    "        end = val[\"end\"]\n",
    "        text_parts = val[\"text\"]\n",
    "        if len(text_parts) == 2:\n",
    "            t1 = text_parts[1].strip()\n",
    "            if t1.startswith(\"/\") and t1.endswith(\"/\"):\n",
    "                phone = text_parts[1].strip()\n",
    "                text = text_parts[0].strip()\n",
    "                simplified.append({\n",
    "                    \"start\": start,\n",
    "                    \"end\": end,\n",
    "                    \"text\": text,\n",
    "                    \"phone\": phone\n",
    "                })\n",
    "            else:\n",
    "                 print(\"Error\", val)\n",
    "        elif len(text_parts) == 1:\n",
    "                simplified.append({\n",
    "                    \"start\": start,\n",
    "                    \"end\": end,\n",
    "                    \"text\": text_parts[0]\n",
    "                })\n",
    "        else:\n",
    "             print(\"Error\", val)\n",
    "\n",
    "    return simplified\n"
   ]
  },
  {
   "cell_type": "code",
   "execution_count": 70,
   "metadata": {},
   "outputs": [],
   "source": [
    "def strip_comment(text):\n",
    "    outchars = []\n",
    "    in_bracket = False\n",
    "    for char in list(text):\n",
    "        if not in_bracket:\n",
    "            if char == \"[\":\n",
    "                in_bracket = True\n",
    "            else:\n",
    "                outchars.append(char)\n",
    "        else:\n",
    "            if char == \"]\":\n",
    "                in_bracket = False\n",
    "    return \"\".join(outchars)"
   ]
  },
  {
   "cell_type": "code",
   "execution_count": 45,
   "metadata": {},
   "outputs": [],
   "source": [
    "def get_audio_name(data):\n",
    "    task = data[\"task\"]\n",
    "    task_data = get_task(task)\n",
    "    if \"data\" in task_data and \"audio\" in task_data[\"data\"]:\n",
    "        orig_file = task_data[\"data\"][\"audio\"]\n",
    "        parts = orig_file.split(\"/\")\n",
    "        orig_file = parts[-1]\n",
    "    return orig_file"
   ]
  },
  {
   "cell_type": "code",
   "execution_count": 39,
   "metadata": {},
   "outputs": [],
   "source": [
    "def get_person(data):\n",
    "    if \"created_username\" in data:\n",
    "        if \", \" in data[\"created_username\"]:\n",
    "            return data[\"created_username\"].split(\", \")[-1]\n",
    "    else:\n",
    "        return data[\"completed_by\"]"
   ]
  },
  {
   "cell_type": "code",
   "execution_count": 50,
   "metadata": {},
   "outputs": [],
   "source": [
    "simplifiers = {\n",
    "    \"1\": simplify_combined_mine,\n",
    "}\n",
    "\n",
    "def simplify_data(data):\n",
    "    who = get_person(data)\n",
    "    if who not in simplifiers:\n",
    "        simplifier = simplifiers[who]\n",
    "    else:\n",
    "        simplifier = simplifiers[\"1\"]\n",
    "    combined = combine_labels(data)\n",
    "    return simplifier(combined)"
   ]
  },
  {
   "cell_type": "code",
   "execution_count": 57,
   "metadata": {},
   "outputs": [],
   "source": [
    "s = simplify_data(data)"
   ]
  },
  {
   "cell_type": "code",
   "execution_count": 58,
   "metadata": {},
   "outputs": [
    {
     "data": {
      "text/plain": [
       "{'start': 37.494264366980374,\n",
       " 'end': 39.66077668153498,\n",
       " 'text': \"yeah, but it's been like that the entire time\",\n",
       " 'phone': '/jˈæ bət ɪts bˌɪn lˈaɪk ðæt ðɪ ɛntˈaɪɚ tˈaɪm./'}"
      ]
     },
     "execution_count": 58,
     "metadata": {},
     "output_type": "execute_result"
    }
   ],
   "source": [
    "s[3]"
   ]
  },
  {
   "cell_type": "code",
   "execution_count": 61,
   "metadata": {},
   "outputs": [
    {
     "data": {
      "text/plain": [
       "<_io.BufferedRandom name='/tmp/ps.raw'>"
      ]
     },
     "execution_count": 61,
     "metadata": {},
     "output_type": "execute_result"
    }
   ],
   "source": [
    "PARAMS = [\"-acodec\", \"pcm_s16le\", \"-f\", \"s16le\", \"-ac\", \"1\", \"-ar\", \"16000\"]\n",
    "\n",
    "audio_seg = AudioSegment.from_file(wav_path / get_audio_name(data))\n",
    "clip = audio_seg[int(37.494264366980374 * 1000):int(39.66077668153498 * 1000)]\n",
    "clip.export(\"/tmp/ps.raw\", format=\"s16le\", parameters=PARAMS)"
   ]
  },
  {
   "cell_type": "code",
   "execution_count": 64,
   "metadata": {},
   "outputs": [
    {
     "name": "stdout",
     "output_type": "stream",
     "text": [
      "{\"b\":0.000,\"d\":2.170,\"p\":1.000,\"t\":\"yeah but it's been like that the entire time\",\"w\":[{\"b\":0.000,\"d\":0.180,\"p\":0.978,\"t\":\"yeah\"},{\"b\":0.180,\"d\":0.250,\"p\":0.952,\"t\":\"but\"},{\"b\":0.430,\"d\":0.180,\"p\":0.983,\"t\":\"it's\"},{\"b\":0.610,\"d\":0.150,\"p\":0.981,\"t\":\"been\"},{\"b\":0.760,\"d\":0.190,\"p\":0.973,\"t\":\"like\"},{\"b\":0.950,\"d\":0.260,\"p\":0.973,\"t\":\"that\"},{\"b\":1.210,\"d\":0.190,\"p\":0.973,\"t\":\"the(2)\"},{\"b\":1.400,\"d\":0.340,\"p\":0.953,\"t\":\"entire\"},{\"b\":1.740,\"d\":0.420,\"p\":0.945,\"t\":\"time\"}]}\n"
     ]
    }
   ],
   "source": [
    "!/opt/homebrew/bin/pocketsphinx align /tmp/ps.raw \"yeah but it's been like that the entire time\""
   ]
  },
  {
   "cell_type": "code",
   "execution_count": 65,
   "metadata": {},
   "outputs": [],
   "source": []
  }
 ],
 "metadata": {
  "kernelspec": {
   "display_name": "hf",
   "language": "python",
   "name": "python3"
  },
  "language_info": {
   "codemirror_mode": {
    "name": "ipython",
    "version": 3
   },
   "file_extension": ".py",
   "mimetype": "text/x-python",
   "name": "python",
   "nbconvert_exporter": "python",
   "pygments_lexer": "ipython3",
   "version": "3.9.15"
  }
 },
 "nbformat": 4,
 "nbformat_minor": 2
}
