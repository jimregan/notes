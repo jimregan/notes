{
 "cells": [
  {
   "cell_type": "code",
   "execution_count": 8,
   "metadata": {
    "tags": [
     "parameters"
    ]
   },
   "outputs": [],
   "source": [
    "input_dir = \"/Users/joregan/Playing/hsi/audio/whisperx-json/\"\n",
    "output_dir = \"/tmp/label-studio\"\n",
    "model_version = \"whisperx-large-v2\""
   ]
  },
  {
   "cell_type": "code",
   "execution_count": 2,
   "metadata": {},
   "outputs": [],
   "source": [
    "import json\n",
    "\n",
    "def convert_json(filename):\n",
    "    with open(filename) as inf:\n",
    "        data = json.load(inf)\n",
    "    for segment in data[\"segments\"]:\n",
    "        pass"
   ]
  },
  {
   "cell_type": "code",
   "execution_count": 9,
   "metadata": {},
   "outputs": [],
   "source": [
    "import uuid\n",
    "\n",
    "with open(input_dir + \"hsi_4_0717_227_002_main.json\") as testf:\n",
    "    test_data = json.load(testf)\n",
    "\n",
    "outputs = []\n",
    "for segment in test_data[\"segments\"]:\n",
    "    start = segment[\"start\"]\n",
    "    end = segment[\"end\"]\n",
    "    text = segment[\"text\"]\n",
    "    scores = [w[\"score\"] for w in segment[\"words\"] if \"score\" in w]\n",
    "    score = sum(scores) / len(segment[\"words\"])\n",
    "    segment = {\n",
    "        \"model_version\": model_version,\n",
    "        \"score\": score,\n",
    "        \"result\": {\n",
    "            \"start\": start,\n",
    "            \"end\": end,\n",
    "            \"channel\": 0,\n",
    "            \"labels\": [\"Speech\"]\n",
    "        },\n",
    "        \"from_name\": \"labels\",\n",
    "        \"to_name\": \"audio\",\n",
    "        \"type\": \"labels\",\n",
    "        \"id\": uuid.uuid4()\n",
    "    }\n",
    "    rec = {\n",
    "        \"model_version\": model_version,\n",
    "        \"score\": score,\n",
    "        \"result\": {\n",
    "            \"start\": start,\n",
    "            \"end\": end,\n",
    "            \"channel\": 0,\n",
    "            \"text\": [text]\n",
    "        },\n",
    "        \"from_name\": \"transcription\",\n",
    "        \"to_name\": \"audio\",\n",
    "        \"type\": \"textarea\",\n",
    "        \"id\": uuid.uuid4()\n",
    "    }\n",
    "    outputs.append(segment)\n",
    "    outputs.append(rec)\n",
    "    \n"
   ]
  },
  {
   "cell_type": "code",
   "execution_count": 7,
   "metadata": {},
   "outputs": [
    {
     "data": {
      "text/plain": [
       "0.94"
      ]
     },
     "execution_count": 7,
     "metadata": {},
     "output_type": "execute_result"
    }
   ],
   "source": [
    "scores\n",
    "score = sum(scores) / len(segment[\"words\"])\n",
    "score"
   ]
  }
 ],
 "metadata": {
  "kernelspec": {
   "display_name": "nst-tts",
   "language": "python",
   "name": "python3"
  },
  "language_info": {
   "codemirror_mode": {
    "name": "ipython",
    "version": 3
   },
   "file_extension": ".py",
   "mimetype": "text/x-python",
   "name": "python",
   "nbconvert_exporter": "python",
   "pygments_lexer": "ipython3",
   "version": "3.10.9"
  }
 },
 "nbformat": 4,
 "nbformat_minor": 2
}
