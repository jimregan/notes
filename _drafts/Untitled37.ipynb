{
  "nbformat": 4,
  "nbformat_minor": 0,
  "metadata": {
    "colab": {
      "provenance": []
    },
    "kernelspec": {
      "name": "python3",
      "display_name": "Python 3"
    },
    "language_info": {
      "name": "python"
    }
  },
  "cells": [
    {
      "cell_type": "code",
      "execution_count": 1,
      "metadata": {
        "colab": {
          "base_uri": "https://localhost:8080/"
        },
        "id": "O2TGNjsEFPHX",
        "outputId": "e83a4900-c108-4660-9cc2-c022f5ebe1c6"
      },
      "outputs": [
        {
          "output_type": "stream",
          "name": "stdout",
          "text": [
            "--2024-03-20 13:38:22--  https://wolnelektury.pl/katalog/zip/mp3/z-wichrow-i-hal-z-tatr-krzak-dzikiej-rozy-w-ciemnych-smreczy.zip\n",
            "Resolving wolnelektury.pl (wolnelektury.pl)... 51.83.143.148, 2001:41d0:602:3294::\n",
            "Connecting to wolnelektury.pl (wolnelektury.pl)|51.83.143.148|:443... connected.\n",
            "HTTP request sent, awaiting response... 302 Found\n",
            "Location: /media/zip/z-wichrow-i-hal-z-tatr-krzak-dzikiej-rozy-w-ciemnych-smreczy_mp3.zip [following]\n",
            "--2024-03-20 13:38:23--  https://wolnelektury.pl/media/zip/z-wichrow-i-hal-z-tatr-krzak-dzikiej-rozy-w-ciemnych-smreczy_mp3.zip\n",
            "Reusing existing connection to wolnelektury.pl:443.\n",
            "HTTP request sent, awaiting response... 200 OK\n",
            "Length: 1271180 (1.2M) [application/zip]\n",
            "Saving to: ‘z-wichrow-i-hal-z-tatr-krzak-dzikiej-rozy-w-ciemnych-smreczy.zip’\n",
            "\n",
            "z-wichrow-i-hal-z-t 100%[===================>]   1.21M  1.33MB/s    in 0.9s    \n",
            "\n",
            "2024-03-20 13:38:25 (1.33 MB/s) - ‘z-wichrow-i-hal-z-tatr-krzak-dzikiej-rozy-w-ciemnych-smreczy.zip’ saved [1271180/1271180]\n",
            "\n"
          ]
        }
      ],
      "source": [
        "!wget https://wolnelektury.pl/katalog/zip/mp3/z-wichrow-i-hal-z-tatr-krzak-dzikiej-rozy-w-ciemnych-smreczy.zip"
      ]
    },
    {
      "cell_type": "code",
      "source": [
        "!unzip z-wichrow-i-hal-z-tatr-krzak-dzikiej-rozy-w-ciemnych-smreczy.zip"
      ],
      "metadata": {
        "colab": {
          "base_uri": "https://localhost:8080/"
        },
        "id": "h52SsJwUFafN",
        "outputId": "42302b4e-9020-4ca3-800f-5c9b3f0b2a50"
      },
      "execution_count": 2,
      "outputs": [
        {
          "output_type": "stream",
          "name": "stdout",
          "text": [
            "Archive:  z-wichrow-i-hal-z-tatr-krzak-dzikiej-rozy-w-ciemnych-smreczy.zip\n",
            " extracting: z-wichrow-i-hal-z-tatr-krzak-dzikiej-rozy-w-ciemnych-smreczy_000.mp3  \n",
            " extracting: informacje.txt          \n"
          ]
        }
      ]
    },
    {
      "cell_type": "code",
      "source": [
        "!ffmpeg -i z-wichrow-i-hal-z-tatr-krzak-dzikiej-rozy-w-ciemnych-smreczy_000.mp3  -acodec pcm_s16le -ac 1 -ar 16000  test.wav"
      ],
      "metadata": {
        "colab": {
          "base_uri": "https://localhost:8080/"
        },
        "id": "00fTGilaFeet",
        "outputId": "1d962221-097f-4325-dc0f-bb1102c7786a"
      },
      "execution_count": 4,
      "outputs": [
        {
          "output_type": "stream",
          "name": "stdout",
          "text": [
            "ffmpeg version 4.4.2-0ubuntu0.22.04.1 Copyright (c) 2000-2021 the FFmpeg developers\n",
            "  built with gcc 11 (Ubuntu 11.2.0-19ubuntu1)\n",
            "  configuration: --prefix=/usr --extra-version=0ubuntu0.22.04.1 --toolchain=hardened --libdir=/usr/lib/x86_64-linux-gnu --incdir=/usr/include/x86_64-linux-gnu --arch=amd64 --enable-gpl --disable-stripping --enable-gnutls --enable-ladspa --enable-libaom --enable-libass --enable-libbluray --enable-libbs2b --enable-libcaca --enable-libcdio --enable-libcodec2 --enable-libdav1d --enable-libflite --enable-libfontconfig --enable-libfreetype --enable-libfribidi --enable-libgme --enable-libgsm --enable-libjack --enable-libmp3lame --enable-libmysofa --enable-libopenjpeg --enable-libopenmpt --enable-libopus --enable-libpulse --enable-librabbitmq --enable-librubberband --enable-libshine --enable-libsnappy --enable-libsoxr --enable-libspeex --enable-libsrt --enable-libssh --enable-libtheora --enable-libtwolame --enable-libvidstab --enable-libvorbis --enable-libvpx --enable-libwebp --enable-libx265 --enable-libxml2 --enable-libxvid --enable-libzimg --enable-libzmq --enable-libzvbi --enable-lv2 --enable-omx --enable-openal --enable-opencl --enable-opengl --enable-sdl2 --enable-pocketsphinx --enable-librsvg --enable-libmfx --enable-libdc1394 --enable-libdrm --enable-libiec61883 --enable-chromaprint --enable-frei0r --enable-libx264 --enable-shared\n",
            "  libavutil      56. 70.100 / 56. 70.100\n",
            "  libavcodec     58.134.100 / 58.134.100\n",
            "  libavformat    58. 76.100 / 58. 76.100\n",
            "  libavdevice    58. 13.100 / 58. 13.100\n",
            "  libavfilter     7.110.100 /  7.110.100\n",
            "  libswscale      5.  9.100 /  5.  9.100\n",
            "  libswresample   3.  9.100 /  3.  9.100\n",
            "  libpostproc    55.  9.100 / 55.  9.100\n",
            "\u001b[0;33mUnknown attached picture mimetype: ('image/png', None), skipping.\n",
            "\u001b[0mInput #0, mp3, from 'z-wichrow-i-hal-z-tatr-krzak-dzikiej-rozy-w-ciemnych-smreczy_000.mp3':\n",
            "  Metadata:\n",
            "    title           : Jan Kasprowicz, \"Krzak dzikiej róży w Ciemnych Smreczynach\"\n",
            "    artist          : Weronika Maja Lewandowska\n",
            "    album           : Wolne Lektury\n",
            "    encoder         : Lavf53.21.0\n",
            "    genre           : Speech\n",
            "    comment         : Audiobook nagrany w ramach projektu Czytamy słuchając.\n",
            "                    : \n",
            "                    : Przekaż 1% podatku na rozwój Wolnych Lektur:\n",
            "                    : Fundacja Nowoczesna Polska\n",
            "                    : KRS 0000070056\n",
            "                    : http://nowoczesnapolska.org.pl/wesprzyj_nas/\n",
            "                    : \n",
            "    originator_reference: f7KiybWbSnhaaaGk\n",
            "    date            : 2008-10-09\n",
            "    performer       : Sebastian Buttny\n",
            "    album_artist    : Fundacja Nowoczesna Polska\n",
            "    time_reference  : 34238528\n",
            "    copyright       : 2008 Fundacja Nowoczesna Polska. Licensed to the public under http://creativecommons.org/licenses/by-sa/3.0/deed.pl verify at http://wolnelektury.pl/katalog/lektura/z-wichrow-i-hal-z-tatr-krzak-dzikiej-rozy-w-ciemnych-smreczy/\n",
            "    creation_time   : 0006-40-47\n",
            "    encoded_by      : Pro Tools\n",
            "    publisher       : Fundacja Nowoczesna Polska\n",
            "    id3v2_priv.wolnelektury.pl?project: Czytamy s\\xc5\\x82uchaj\\xc4\\x85c\n",
            "    id3v2_priv.wolnelektury.pl?funded_by: \n",
            "    id3v2_priv.wolnelektury.pl?flac_sha1: 9a6381400e577034d70417d719ed14acb90a546d\n",
            "  Duration: 00:02:36.45, start: 0.000000, bitrate: 64 kb/s\n",
            "  Stream #0:0: Audio: mp3, 44100 Hz, mono, fltp, 64 kb/s\n",
            "Stream mapping:\n",
            "  Stream #0:0 -> #0:0 (mp3 (mp3float) -> pcm_s16le (native))\n",
            "Press [q] to stop, [?] for help\n",
            "Output #0, wav, to 'test.wav':\n",
            "  Metadata:\n",
            "    INAM            : Jan Kasprowicz, \"Krzak dzikiej róży w Ciemnych Smreczynach\"\n",
            "    IART            : Weronika Maja Lewandowska\n",
            "    IPRD            : Wolne Lektury\n",
            "    id3v2_priv.wolnelektury.pl?funded_by: \n",
            "    IGNR            : Speech\n",
            "    ICMT            : Audiobook nagrany w ramach projektu Czytamy słuchając.\n",
            "                    : \n",
            "                    : Przekaż 1% podatku na rozwój Wolnych Lektur:\n",
            "                    : Fundacja Nowoczesna Polska\n",
            "                    : KRS 0000070056\n",
            "                    : http://nowoczesnapolska.org.pl/wesprzyj_nas/\n",
            "                    : \n",
            "    originator_reference: f7KiybWbSnhaaaGk\n",
            "    ICRD            : 2008-10-09\n",
            "    performer       : Sebastian Buttny\n",
            "    album_artist    : Fundacja Nowoczesna Polska\n",
            "    time_reference  : 34238528\n",
            "    ICOP            : 2008 Fundacja Nowoczesna Polska. Licensed to the public under http://creativecommons.org/licenses/by-sa/3.0/deed.pl verify at http://wolnelektury.pl/katalog/lektura/z-wichrow-i-hal-z-tatr-krzak-dzikiej-rozy-w-ciemnych-smreczy/\n",
            "    id3v2_priv.wolnelektury.pl?flac_sha1: 9a6381400e577034d70417d719ed14acb90a546d\n",
            "    ITCH            : Pro Tools\n",
            "    publisher       : Fundacja Nowoczesna Polska\n",
            "    ILNG            : pol\n",
            "    id3v2_priv.wolnelektury.pl?project: Czytamy s\\xc5\\x82uchaj\\xc4\\x85c\n",
            "    ISFT            : Lavf58.76.100\n",
            "  Stream #0:0: Audio: pcm_s16le ([1][0][0][0] / 0x0001), 16000 Hz, mono, s16, 256 kb/s\n",
            "    Metadata:\n",
            "      encoder         : Lavc58.134.100 pcm_s16le\n",
            "size=       1kB time=00:00:00.00 bitrate=N/A speed=N/A    \rsize=    4890kB time=00:02:36.44 bitrate= 256.0kbits/s speed= 692x    \n",
            "video:0kB audio:4889kB subtitle:0kB other streams:0kB global headers:0kB muxing overhead: 0.014142%\n"
          ]
        }
      ]
    },
    {
      "cell_type": "code",
      "source": [
        "import torch\n",
        "\n",
        "model, utils = torch.hub.load(repo_or_dir='snakers4/silero-vad', model='silero_vad', force_reload=True)"
      ],
      "metadata": {
        "colab": {
          "base_uri": "https://localhost:8080/"
        },
        "id": "3T0Vs5cfFlnO",
        "outputId": "a2fff025-7c34-4a84-df87-40740ab7eac8"
      },
      "execution_count": 5,
      "outputs": [
        {
          "output_type": "stream",
          "name": "stderr",
          "text": [
            "/usr/local/lib/python3.10/dist-packages/torch/hub.py:294: UserWarning: You are about to download and run code from an untrusted repository. In a future release, this won't be allowed. To add the repository to your trusted list, change the command to {calling_fn}(..., trust_repo=False) and a command prompt will appear asking for an explicit confirmation of trust, or load(..., trust_repo=True), which will assume that the prompt is to be answered with 'yes'. You can also use load(..., trust_repo='check') which will only prompt for confirmation if the repo is not already trusted. This will eventually be the default behaviour\n",
            "  warnings.warn(\n",
            "Downloading: \"https://github.com/snakers4/silero-vad/zipball/master\" to /root/.cache/torch/hub/master.zip\n"
          ]
        }
      ]
    },
    {
      "cell_type": "code",
      "source": [
        "!pip install pydub"
      ],
      "metadata": {
        "colab": {
          "base_uri": "https://localhost:8080/"
        },
        "id": "1PqIjKeXFrh5",
        "outputId": "1d36a6c9-e2a0-4aaf-f975-19e2aaf04f93"
      },
      "execution_count": 6,
      "outputs": [
        {
          "output_type": "stream",
          "name": "stdout",
          "text": [
            "Collecting pydub\n",
            "  Downloading pydub-0.25.1-py2.py3-none-any.whl (32 kB)\n",
            "Installing collected packages: pydub\n",
            "Successfully installed pydub-0.25.1\n"
          ]
        }
      ]
    },
    {
      "cell_type": "code",
      "source": [
        "start = int(5.32 * 1000)\n",
        "end = int(9.1 * 1000)"
      ],
      "metadata": {
        "id": "uPttVpAoFwh4"
      },
      "execution_count": 7,
      "outputs": []
    },
    {
      "cell_type": "code",
      "source": [
        "from pydub import AudioSegment\n",
        "audio = AudioSegment.from_wav(\"test.wav\")"
      ],
      "metadata": {
        "id": "WTQMxa3tF0-B"
      },
      "execution_count": 8,
      "outputs": []
    },
    {
      "cell_type": "code",
      "source": [
        "seg = audio[start:end]"
      ],
      "metadata": {
        "id": "rQ4KaivpF7Vn"
      },
      "execution_count": 9,
      "outputs": []
    },
    {
      "cell_type": "code",
      "source": [
        "seg.raw_data"
      ],
      "metadata": {
        "id": "MLCzaGRYF_hi"
      },
      "execution_count": null,
      "outputs": []
    },
    {
      "cell_type": "code",
      "source": [
        "assert seg.sample_width == 2"
      ],
      "metadata": {
        "id": "KoSLQbYrHpxf"
      },
      "execution_count": 23,
      "outputs": []
    },
    {
      "cell_type": "code",
      "source": [
        "seg.export(\"seg.wav\", format=\"wav\")"
      ],
      "metadata": {
        "colab": {
          "base_uri": "https://localhost:8080/"
        },
        "id": "A_THBkqNGEQi",
        "outputId": "1ebc62ce-beef-4131-f3b2-8fa1e898e594"
      },
      "execution_count": 11,
      "outputs": [
        {
          "output_type": "execute_result",
          "data": {
            "text/plain": [
              "<_io.BufferedRandom name='seg.wav'>"
            ]
          },
          "metadata": {},
          "execution_count": 11
        }
      ]
    },
    {
      "cell_type": "code",
      "source": [
        "!ffprobe -i seg.wav"
      ],
      "metadata": {
        "colab": {
          "base_uri": "https://localhost:8080/"
        },
        "id": "UCLqyMbMGXox",
        "outputId": "4cd8ff4a-6d3d-4d43-e644-09e98ef9954c"
      },
      "execution_count": 12,
      "outputs": [
        {
          "output_type": "stream",
          "name": "stdout",
          "text": [
            "ffprobe version 4.4.2-0ubuntu0.22.04.1 Copyright (c) 2007-2021 the FFmpeg developers\n",
            "  built with gcc 11 (Ubuntu 11.2.0-19ubuntu1)\n",
            "  configuration: --prefix=/usr --extra-version=0ubuntu0.22.04.1 --toolchain=hardened --libdir=/usr/lib/x86_64-linux-gnu --incdir=/usr/include/x86_64-linux-gnu --arch=amd64 --enable-gpl --disable-stripping --enable-gnutls --enable-ladspa --enable-libaom --enable-libass --enable-libbluray --enable-libbs2b --enable-libcaca --enable-libcdio --enable-libcodec2 --enable-libdav1d --enable-libflite --enable-libfontconfig --enable-libfreetype --enable-libfribidi --enable-libgme --enable-libgsm --enable-libjack --enable-libmp3lame --enable-libmysofa --enable-libopenjpeg --enable-libopenmpt --enable-libopus --enable-libpulse --enable-librabbitmq --enable-librubberband --enable-libshine --enable-libsnappy --enable-libsoxr --enable-libspeex --enable-libsrt --enable-libssh --enable-libtheora --enable-libtwolame --enable-libvidstab --enable-libvorbis --enable-libvpx --enable-libwebp --enable-libx265 --enable-libxml2 --enable-libxvid --enable-libzimg --enable-libzmq --enable-libzvbi --enable-lv2 --enable-omx --enable-openal --enable-opencl --enable-opengl --enable-sdl2 --enable-pocketsphinx --enable-librsvg --enable-libmfx --enable-libdc1394 --enable-libdrm --enable-libiec61883 --enable-chromaprint --enable-frei0r --enable-libx264 --enable-shared\n",
            "  libavutil      56. 70.100 / 56. 70.100\n",
            "  libavcodec     58.134.100 / 58.134.100\n",
            "  libavformat    58. 76.100 / 58. 76.100\n",
            "  libavdevice    58. 13.100 / 58. 13.100\n",
            "  libavfilter     7.110.100 /  7.110.100\n",
            "  libswscale      5.  9.100 /  5.  9.100\n",
            "  libswresample   3.  9.100 /  3.  9.100\n",
            "  libpostproc    55.  9.100 / 55.  9.100\n",
            "Input #0, wav, from 'seg.wav':\n",
            "  Duration: 00:00:03.78, bitrate: 256 kb/s\n",
            "  Stream #0:0: Audio: pcm_s16le ([1][0][0][0] / 0x0001), 16000 Hz, 1 channels, s16, 256 kb/s\n"
          ]
        }
      ]
    },
    {
      "cell_type": "code",
      "source": [
        "(get_speech_timestamps, save_audio, read_audio, VADIterator, collect_chunks) = utils"
      ],
      "metadata": {
        "id": "lep9gmGKGa3a"
      },
      "execution_count": 13,
      "outputs": []
    },
    {
      "cell_type": "code",
      "source": [
        "wav = read_audio(\"seg.wav\")"
      ],
      "metadata": {
        "id": "FVRLmaZ_GgcT"
      },
      "execution_count": 16,
      "outputs": []
    },
    {
      "cell_type": "code",
      "source": [
        "len(wav)"
      ],
      "metadata": {
        "colab": {
          "base_uri": "https://localhost:8080/"
        },
        "id": "bAq1agP6O8Ch",
        "outputId": "dfdf17c6-221b-4cd3-ccff-e2965176dcea"
      },
      "execution_count": 48,
      "outputs": [
        {
          "output_type": "execute_result",
          "data": {
            "text/plain": [
              "60480"
            ]
          },
          "metadata": {},
          "execution_count": 48
        }
      ]
    },
    {
      "cell_type": "code",
      "source": [
        "wav.dtype"
      ],
      "metadata": {
        "colab": {
          "base_uri": "https://localhost:8080/"
        },
        "id": "yynWvXwcKL35",
        "outputId": "b21dea07-2e6c-45d0-a3e7-30d63db58376"
      },
      "execution_count": 33,
      "outputs": [
        {
          "output_type": "execute_result",
          "data": {
            "text/plain": [
              "torch.float32"
            ]
          },
          "metadata": {},
          "execution_count": 33
        }
      ]
    },
    {
      "cell_type": "code",
      "source": [
        "wav"
      ],
      "metadata": {
        "colab": {
          "base_uri": "https://localhost:8080/"
        },
        "id": "GKzPc3WYNqJq",
        "outputId": "d5e2e8cb-ff40-4ec5-a9c0-8d79bb124953"
      },
      "execution_count": 41,
      "outputs": [
        {
          "output_type": "execute_result",
          "data": {
            "text/plain": [
              "tensor([ 0.0015,  0.0019,  0.0025,  ..., -0.0002,  0.1140, -0.1231])"
            ]
          },
          "metadata": {},
          "execution_count": 41
        }
      ]
    },
    {
      "cell_type": "code",
      "source": [
        "speech_timestamps = get_speech_timestamps(wav, model, sampling_rate=16_000)"
      ],
      "metadata": {
        "id": "Kaip2BMnGkBd"
      },
      "execution_count": 20,
      "outputs": []
    },
    {
      "cell_type": "code",
      "source": [
        "print(speech_timestamps)"
      ],
      "metadata": {
        "colab": {
          "base_uri": "https://localhost:8080/"
        },
        "id": "5Vd6VpWjGvhu",
        "outputId": "f7fed0e1-b607-4ed8-a937-5b904aa77878"
      },
      "execution_count": 21,
      "outputs": [
        {
          "output_type": "stream",
          "name": "stdout",
          "text": [
            "[{'start': 1056, 'end': 13280}, {'start': 53280, 'end': 60480}]\n"
          ]
        }
      ]
    },
    {
      "cell_type": "code",
      "source": [
        "seg.channels"
      ],
      "metadata": {
        "colab": {
          "base_uri": "https://localhost:8080/"
        },
        "id": "VaoEJmnnIbtH",
        "outputId": "01afdeb2-dcad-4a7a-bfee-9ed7d372da97"
      },
      "execution_count": 26,
      "outputs": [
        {
          "output_type": "execute_result",
          "data": {
            "text/plain": [
              "1"
            ]
          },
          "metadata": {},
          "execution_count": 26
        }
      ]
    },
    {
      "cell_type": "code",
      "source": [
        "seg.frame_count()"
      ],
      "metadata": {
        "colab": {
          "base_uri": "https://localhost:8080/"
        },
        "id": "ENHrg5usIvwG",
        "outputId": "0436e16f-1f14-4aa8-cf2f-992efa0748fb"
      },
      "execution_count": 27,
      "outputs": [
        {
          "output_type": "execute_result",
          "data": {
            "text/plain": [
              "60480.0"
            ]
          },
          "metadata": {},
          "execution_count": 27
        }
      ]
    },
    {
      "cell_type": "code",
      "source": [
        "seg.frame_rate"
      ],
      "metadata": {
        "colab": {
          "base_uri": "https://localhost:8080/"
        },
        "id": "Q439ehyDJCTG",
        "outputId": "efad445d-6d8a-4207-db5c-8e66eb82ba3f"
      },
      "execution_count": 28,
      "outputs": [
        {
          "output_type": "execute_result",
          "data": {
            "text/plain": [
              "16000"
            ]
          },
          "metadata": {},
          "execution_count": 28
        }
      ]
    },
    {
      "cell_type": "code",
      "source": [
        "def audiosegment_to_np_array(audiosegment):\n",
        "    assert audiosegment.sample_width == 2, \"sample width should be 2\"\n",
        "    assert audiosegment.channels == 1, \"Number of channels should be 1\"\n",
        "    assert audiosegment.frame_rate == 16000, \"Framerate should be 16000\"\n",
        "    frame_count = int(audiosegment.frame_count())\n",
        "    frames = np.ndarray((frame_count, 1), buffer=audiosegment.raw_data, dtype=np.int16)\n",
        "    return frames, audiosegment.frame_rate"
      ],
      "metadata": {
        "id": "Dq-5dkXvIBEZ"
      },
      "execution_count": 29,
      "outputs": []
    },
    {
      "cell_type": "code",
      "source": [
        "f, fr = audiosegment_to_np_array(seg)"
      ],
      "metadata": {
        "id": "WGCzkGMSJ7fP"
      },
      "execution_count": 30,
      "outputs": []
    },
    {
      "cell_type": "code",
      "source": [
        "# https://blog.aoirint.com/entry/2020/pytorch_pydub_to_tensor/\n",
        "import numpy as np\n",
        "import torch\n",
        "import torchaudio\n",
        "import torchaudio.transforms as T\n",
        "\n",
        "'''\n",
        "in: pydub.AudioSegment\n",
        "out: torch.Tensor (float32)\n",
        "'''\n",
        "def to_tensor(audio):\n",
        "    sample_width = audio.sample_width\n",
        "    sample_bits = 8 * sample_width\n",
        "    sample_max_int = 2 ** sample_bits\n",
        "    sample_channels = audio.channels\n",
        "\n",
        "    samples = np.asarray(audio.get_array_of_samples())\n",
        "    samples = samples.reshape((-1, 2)).transpose((1, 0)) # LRLR -> Channel, Samples\n",
        "\n",
        "    samples = samples.astype('f') / sample_max_int\n",
        "\n",
        "    samples = torch.from_numpy(samples).type(torch.float32)\n",
        "\n",
        "    return samples"
      ],
      "metadata": {
        "id": "J_KJCDauO-ly"
      },
      "execution_count": 50,
      "outputs": []
    },
    {
      "cell_type": "code",
      "source": [
        "to_tensor(seg)"
      ],
      "metadata": {
        "colab": {
          "base_uri": "https://localhost:8080/"
        },
        "id": "XCUORvDkQxxz",
        "outputId": "4bc74f17-576b-468f-dac5-5f5472c47d74"
      },
      "execution_count": 51,
      "outputs": [
        {
          "output_type": "execute_result",
          "data": {
            "text/plain": [
              "tensor([[ 0.0007,  0.0012,  0.0018,  ...,  0.0197, -0.0397,  0.0570],\n",
              "        [ 0.0010,  0.0016,  0.0020,  ...,  0.0158, -0.0001, -0.0616]])"
            ]
          },
          "metadata": {},
          "execution_count": 51
        }
      ]
    },
    {
      "cell_type": "code",
      "source": [
        "get_speech_timestamps(to_tensor(seg), model, sampling_rate=16_000)"
      ],
      "metadata": {
        "colab": {
          "base_uri": "https://localhost:8080/",
          "height": 323
        },
        "id": "PZhu-BiZRB3A",
        "outputId": "04a1207f-f356-405c-8207-31f9138fe2b2"
      },
      "execution_count": 52,
      "outputs": [
        {
          "output_type": "error",
          "ename": "ValueError",
          "evalue": "More than one dimension in audio. Are you trying to process audio with 2 channels?",
          "traceback": [
            "\u001b[0;31m---------------------------------------------------------------------------\u001b[0m",
            "\u001b[0;31mValueError\u001b[0m                                Traceback (most recent call last)",
            "\u001b[0;32m<ipython-input-52-640547f15f51>\u001b[0m in \u001b[0;36m<cell line: 1>\u001b[0;34m()\u001b[0m\n\u001b[0;32m----> 1\u001b[0;31m \u001b[0mget_speech_timestamps\u001b[0m\u001b[0;34m(\u001b[0m\u001b[0mto_tensor\u001b[0m\u001b[0;34m(\u001b[0m\u001b[0mseg\u001b[0m\u001b[0;34m)\u001b[0m\u001b[0;34m,\u001b[0m \u001b[0mmodel\u001b[0m\u001b[0;34m,\u001b[0m \u001b[0msampling_rate\u001b[0m\u001b[0;34m=\u001b[0m\u001b[0;36m16_000\u001b[0m\u001b[0;34m)\u001b[0m\u001b[0;34m\u001b[0m\u001b[0;34m\u001b[0m\u001b[0m\n\u001b[0m",
            "\u001b[0;32m~/.cache/torch/hub/snakers4_silero-vad_master/utils_vad.py\u001b[0m in \u001b[0;36mget_speech_timestamps\u001b[0;34m(audio, model, threshold, sampling_rate, min_speech_duration_ms, max_speech_duration_s, min_silence_duration_ms, window_size_samples, speech_pad_ms, return_seconds, visualize_probs, progress_tracking_callback)\u001b[0m\n\u001b[1;32m    247\u001b[0m             \u001b[0maudio\u001b[0m \u001b[0;34m=\u001b[0m \u001b[0maudio\u001b[0m\u001b[0;34m.\u001b[0m\u001b[0msqueeze\u001b[0m\u001b[0;34m(\u001b[0m\u001b[0;36m0\u001b[0m\u001b[0;34m)\u001b[0m\u001b[0;34m\u001b[0m\u001b[0;34m\u001b[0m\u001b[0m\n\u001b[1;32m    248\u001b[0m         \u001b[0;32mif\u001b[0m \u001b[0mlen\u001b[0m\u001b[0;34m(\u001b[0m\u001b[0maudio\u001b[0m\u001b[0;34m.\u001b[0m\u001b[0mshape\u001b[0m\u001b[0;34m)\u001b[0m \u001b[0;34m>\u001b[0m \u001b[0;36m1\u001b[0m\u001b[0;34m:\u001b[0m\u001b[0;34m\u001b[0m\u001b[0;34m\u001b[0m\u001b[0m\n\u001b[0;32m--> 249\u001b[0;31m             \u001b[0;32mraise\u001b[0m \u001b[0mValueError\u001b[0m\u001b[0;34m(\u001b[0m\u001b[0;34m\"More than one dimension in audio. Are you trying to process audio with 2 channels?\"\u001b[0m\u001b[0;34m)\u001b[0m\u001b[0;34m\u001b[0m\u001b[0;34m\u001b[0m\u001b[0m\n\u001b[0m\u001b[1;32m    250\u001b[0m \u001b[0;34m\u001b[0m\u001b[0m\n\u001b[1;32m    251\u001b[0m     \u001b[0;32mif\u001b[0m \u001b[0msampling_rate\u001b[0m \u001b[0;34m>\u001b[0m \u001b[0;36m16000\u001b[0m \u001b[0;32mand\u001b[0m \u001b[0;34m(\u001b[0m\u001b[0msampling_rate\u001b[0m \u001b[0;34m%\u001b[0m \u001b[0;36m16000\u001b[0m \u001b[0;34m==\u001b[0m \u001b[0;36m0\u001b[0m\u001b[0;34m)\u001b[0m\u001b[0;34m:\u001b[0m\u001b[0;34m\u001b[0m\u001b[0;34m\u001b[0m\u001b[0m\n",
            "\u001b[0;31mValueError\u001b[0m: More than one dimension in audio. Are you trying to process audio with 2 channels?"
          ]
        }
      ]
    }
  ]
}