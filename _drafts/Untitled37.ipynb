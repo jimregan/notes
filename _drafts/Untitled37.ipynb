{
  "nbformat": 4,
  "nbformat_minor": 0,
  "metadata": {
    "colab": {
      "provenance": []
    },
    "kernelspec": {
      "name": "python3",
      "display_name": "Python 3"
    },
    "language_info": {
      "name": "python"
    }
  },
  "cells": [
    {
      "cell_type": "code",
      "execution_count": 1,
      "metadata": {
        "id": "O2TGNjsEFPHX",
        "colab": {
          "base_uri": "https://localhost:8080/"
        },
        "outputId": "7d63dfa1-efbd-4ac8-9bed-9ed2309cc271"
      },
      "outputs": [
        {
          "output_type": "stream",
          "name": "stdout",
          "text": [
            "--2024-04-01 15:56:45--  https://wolnelektury.pl/katalog/zip/mp3/z-wichrow-i-hal-z-tatr-krzak-dzikiej-rozy-w-ciemnych-smreczy.zip\n",
            "Resolving wolnelektury.pl (wolnelektury.pl)... 51.83.143.148, 2001:41d0:602:3294::\n",
            "Connecting to wolnelektury.pl (wolnelektury.pl)|51.83.143.148|:443... connected.\n",
            "HTTP request sent, awaiting response... 302 Found\n",
            "Location: /media/zip/z-wichrow-i-hal-z-tatr-krzak-dzikiej-rozy-w-ciemnych-smreczy_mp3.zip [following]\n",
            "--2024-04-01 15:56:46--  https://wolnelektury.pl/media/zip/z-wichrow-i-hal-z-tatr-krzak-dzikiej-rozy-w-ciemnych-smreczy_mp3.zip\n",
            "Reusing existing connection to wolnelektury.pl:443.\n",
            "HTTP request sent, awaiting response... 200 OK\n",
            "Length: 1271180 (1.2M) [application/zip]\n",
            "Saving to: ‘z-wichrow-i-hal-z-tatr-krzak-dzikiej-rozy-w-ciemnych-smreczy.zip’\n",
            "\n",
            "z-wichrow-i-hal-z-t 100%[===================>]   1.21M  1.48MB/s    in 0.8s    \n",
            "\n",
            "2024-04-01 15:56:47 (1.48 MB/s) - ‘z-wichrow-i-hal-z-tatr-krzak-dzikiej-rozy-w-ciemnych-smreczy.zip’ saved [1271180/1271180]\n",
            "\n"
          ]
        }
      ],
      "source": [
        "!wget https://wolnelektury.pl/katalog/zip/mp3/z-wichrow-i-hal-z-tatr-krzak-dzikiej-rozy-w-ciemnych-smreczy.zip"
      ]
    },
    {
      "cell_type": "code",
      "source": [
        "!unzip z-wichrow-i-hal-z-tatr-krzak-dzikiej-rozy-w-ciemnych-smreczy.zip"
      ],
      "metadata": {
        "id": "h52SsJwUFafN",
        "colab": {
          "base_uri": "https://localhost:8080/"
        },
        "outputId": "b70dd0a6-d1a3-4a22-ee97-12494dbea771"
      },
      "execution_count": 2,
      "outputs": [
        {
          "output_type": "stream",
          "name": "stdout",
          "text": [
            "Archive:  z-wichrow-i-hal-z-tatr-krzak-dzikiej-rozy-w-ciemnych-smreczy.zip\n",
            " extracting: z-wichrow-i-hal-z-tatr-krzak-dzikiej-rozy-w-ciemnych-smreczy_000.mp3  \n",
            " extracting: informacje.txt          \n"
          ]
        }
      ]
    },
    {
      "cell_type": "code",
      "source": [
        "!ffmpeg -i z-wichrow-i-hal-z-tatr-krzak-dzikiej-rozy-w-ciemnych-smreczy_000.mp3  -acodec pcm_s16le -ac 1 -ar 16000  test.wav"
      ],
      "metadata": {
        "id": "00fTGilaFeet",
        "colab": {
          "base_uri": "https://localhost:8080/"
        },
        "outputId": "a37609c4-e160-47e7-df1e-6afeac1b10bb"
      },
      "execution_count": 3,
      "outputs": [
        {
          "output_type": "stream",
          "name": "stdout",
          "text": [
            "ffmpeg version 4.4.2-0ubuntu0.22.04.1 Copyright (c) 2000-2021 the FFmpeg developers\n",
            "  built with gcc 11 (Ubuntu 11.2.0-19ubuntu1)\n",
            "  configuration: --prefix=/usr --extra-version=0ubuntu0.22.04.1 --toolchain=hardened --libdir=/usr/lib/x86_64-linux-gnu --incdir=/usr/include/x86_64-linux-gnu --arch=amd64 --enable-gpl --disable-stripping --enable-gnutls --enable-ladspa --enable-libaom --enable-libass --enable-libbluray --enable-libbs2b --enable-libcaca --enable-libcdio --enable-libcodec2 --enable-libdav1d --enable-libflite --enable-libfontconfig --enable-libfreetype --enable-libfribidi --enable-libgme --enable-libgsm --enable-libjack --enable-libmp3lame --enable-libmysofa --enable-libopenjpeg --enable-libopenmpt --enable-libopus --enable-libpulse --enable-librabbitmq --enable-librubberband --enable-libshine --enable-libsnappy --enable-libsoxr --enable-libspeex --enable-libsrt --enable-libssh --enable-libtheora --enable-libtwolame --enable-libvidstab --enable-libvorbis --enable-libvpx --enable-libwebp --enable-libx265 --enable-libxml2 --enable-libxvid --enable-libzimg --enable-libzmq --enable-libzvbi --enable-lv2 --enable-omx --enable-openal --enable-opencl --enable-opengl --enable-sdl2 --enable-pocketsphinx --enable-librsvg --enable-libmfx --enable-libdc1394 --enable-libdrm --enable-libiec61883 --enable-chromaprint --enable-frei0r --enable-libx264 --enable-shared\n",
            "  libavutil      56. 70.100 / 56. 70.100\n",
            "  libavcodec     58.134.100 / 58.134.100\n",
            "  libavformat    58. 76.100 / 58. 76.100\n",
            "  libavdevice    58. 13.100 / 58. 13.100\n",
            "  libavfilter     7.110.100 /  7.110.100\n",
            "  libswscale      5.  9.100 /  5.  9.100\n",
            "  libswresample   3.  9.100 /  3.  9.100\n",
            "  libpostproc    55.  9.100 / 55.  9.100\n",
            "\u001b[0;33mUnknown attached picture mimetype: ('image/png', None), skipping.\n",
            "\u001b[0mInput #0, mp3, from 'z-wichrow-i-hal-z-tatr-krzak-dzikiej-rozy-w-ciemnych-smreczy_000.mp3':\n",
            "  Metadata:\n",
            "    title           : Jan Kasprowicz, \"Krzak dzikiej róży w Ciemnych Smreczynach\"\n",
            "    artist          : Weronika Maja Lewandowska\n",
            "    album           : Wolne Lektury\n",
            "    encoder         : Lavf53.21.0\n",
            "    genre           : Speech\n",
            "    comment         : Audiobook nagrany w ramach projektu Czytamy słuchając.\n",
            "                    : \n",
            "                    : Przekaż 1% podatku na rozwój Wolnych Lektur:\n",
            "                    : Fundacja Nowoczesna Polska\n",
            "                    : KRS 0000070056\n",
            "                    : http://nowoczesnapolska.org.pl/wesprzyj_nas/\n",
            "                    : \n",
            "    originator_reference: f7KiybWbSnhaaaGk\n",
            "    date            : 2008-10-09\n",
            "    performer       : Sebastian Buttny\n",
            "    album_artist    : Fundacja Nowoczesna Polska\n",
            "    time_reference  : 34238528\n",
            "    copyright       : 2008 Fundacja Nowoczesna Polska. Licensed to the public under http://creativecommons.org/licenses/by-sa/3.0/deed.pl verify at http://wolnelektury.pl/katalog/lektura/z-wichrow-i-hal-z-tatr-krzak-dzikiej-rozy-w-ciemnych-smreczy/\n",
            "    creation_time   : 0006-40-47\n",
            "    encoded_by      : Pro Tools\n",
            "    publisher       : Fundacja Nowoczesna Polska\n",
            "    id3v2_priv.wolnelektury.pl?project: Czytamy s\\xc5\\x82uchaj\\xc4\\x85c\n",
            "    id3v2_priv.wolnelektury.pl?funded_by: \n",
            "    id3v2_priv.wolnelektury.pl?flac_sha1: 9a6381400e577034d70417d719ed14acb90a546d\n",
            "  Duration: 00:02:36.45, start: 0.000000, bitrate: 64 kb/s\n",
            "  Stream #0:0: Audio: mp3, 44100 Hz, mono, fltp, 64 kb/s\n",
            "Stream mapping:\n",
            "  Stream #0:0 -> #0:0 (mp3 (mp3float) -> pcm_s16le (native))\n",
            "Press [q] to stop, [?] for help\n",
            "Output #0, wav, to 'test.wav':\n",
            "  Metadata:\n",
            "    INAM            : Jan Kasprowicz, \"Krzak dzikiej róży w Ciemnych Smreczynach\"\n",
            "    IART            : Weronika Maja Lewandowska\n",
            "    IPRD            : Wolne Lektury\n",
            "    id3v2_priv.wolnelektury.pl?funded_by: \n",
            "    IGNR            : Speech\n",
            "    ICMT            : Audiobook nagrany w ramach projektu Czytamy słuchając.\n",
            "                    : \n",
            "                    : Przekaż 1% podatku na rozwój Wolnych Lektur:\n",
            "                    : Fundacja Nowoczesna Polska\n",
            "                    : KRS 0000070056\n",
            "                    : http://nowoczesnapolska.org.pl/wesprzyj_nas/\n",
            "                    : \n",
            "    originator_reference: f7KiybWbSnhaaaGk\n",
            "    ICRD            : 2008-10-09\n",
            "    performer       : Sebastian Buttny\n",
            "    album_artist    : Fundacja Nowoczesna Polska\n",
            "    time_reference  : 34238528\n",
            "    ICOP            : 2008 Fundacja Nowoczesna Polska. Licensed to the public under http://creativecommons.org/licenses/by-sa/3.0/deed.pl verify at http://wolnelektury.pl/katalog/lektura/z-wichrow-i-hal-z-tatr-krzak-dzikiej-rozy-w-ciemnych-smreczy/\n",
            "    id3v2_priv.wolnelektury.pl?flac_sha1: 9a6381400e577034d70417d719ed14acb90a546d\n",
            "    ITCH            : Pro Tools\n",
            "    publisher       : Fundacja Nowoczesna Polska\n",
            "    ILNG            : pol\n",
            "    id3v2_priv.wolnelektury.pl?project: Czytamy s\\xc5\\x82uchaj\\xc4\\x85c\n",
            "    ISFT            : Lavf58.76.100\n",
            "  Stream #0:0: Audio: pcm_s16le ([1][0][0][0] / 0x0001), 16000 Hz, mono, s16, 256 kb/s\n",
            "    Metadata:\n",
            "      encoder         : Lavc58.134.100 pcm_s16le\n",
            "size=    4890kB time=00:02:36.44 bitrate= 256.0kbits/s speed= 691x    \n",
            "video:0kB audio:4889kB subtitle:0kB other streams:0kB global headers:0kB muxing overhead: 0.014142%\n"
          ]
        }
      ]
    },
    {
      "cell_type": "code",
      "source": [
        "import torch\n",
        "\n",
        "model, utils = torch.hub.load(repo_or_dir='snakers4/silero-vad', model='silero_vad', force_reload=True)"
      ],
      "metadata": {
        "colab": {
          "base_uri": "https://localhost:8080/"
        },
        "id": "3T0Vs5cfFlnO",
        "outputId": "2dba50af-4d0e-4a1a-f40f-3aeee91fe633"
      },
      "execution_count": 4,
      "outputs": [
        {
          "output_type": "stream",
          "name": "stderr",
          "text": [
            "/usr/local/lib/python3.10/dist-packages/torch/hub.py:294: UserWarning: You are about to download and run code from an untrusted repository. In a future release, this won't be allowed. To add the repository to your trusted list, change the command to {calling_fn}(..., trust_repo=False) and a command prompt will appear asking for an explicit confirmation of trust, or load(..., trust_repo=True), which will assume that the prompt is to be answered with 'yes'. You can also use load(..., trust_repo='check') which will only prompt for confirmation if the repo is not already trusted. This will eventually be the default behaviour\n",
            "  warnings.warn(\n",
            "Downloading: \"https://github.com/snakers4/silero-vad/zipball/master\" to /root/.cache/torch/hub/master.zip\n"
          ]
        }
      ]
    },
    {
      "cell_type": "code",
      "source": [
        "!pip install pydub"
      ],
      "metadata": {
        "colab": {
          "base_uri": "https://localhost:8080/"
        },
        "id": "1PqIjKeXFrh5",
        "outputId": "d80c5591-6dfb-4934-c6d0-dfe34f893796"
      },
      "execution_count": 5,
      "outputs": [
        {
          "output_type": "stream",
          "name": "stdout",
          "text": [
            "Collecting pydub\n",
            "  Downloading pydub-0.25.1-py2.py3-none-any.whl (32 kB)\n",
            "Installing collected packages: pydub\n",
            "Successfully installed pydub-0.25.1\n"
          ]
        }
      ]
    },
    {
      "cell_type": "code",
      "source": [
        "start = int(5.32 * 1000)\n",
        "end = int(9.1 * 1000)"
      ],
      "metadata": {
        "id": "uPttVpAoFwh4"
      },
      "execution_count": 6,
      "outputs": []
    },
    {
      "cell_type": "code",
      "source": [
        "from pydub import AudioSegment\n",
        "audio = AudioSegment.from_wav(\"test.wav\")"
      ],
      "metadata": {
        "id": "WTQMxa3tF0-B"
      },
      "execution_count": 7,
      "outputs": []
    },
    {
      "cell_type": "code",
      "source": [
        "seg = audio[start:end]"
      ],
      "metadata": {
        "id": "rQ4KaivpF7Vn"
      },
      "execution_count": 8,
      "outputs": []
    },
    {
      "cell_type": "code",
      "source": [
        "import IPython.display as ipd"
      ],
      "metadata": {
        "id": "MLCzaGRYF_hi"
      },
      "execution_count": 12,
      "outputs": []
    },
    {
      "cell_type": "code",
      "source": [
        "len(seg.raw_data)"
      ],
      "metadata": {
        "colab": {
          "base_uri": "https://localhost:8080/"
        },
        "id": "x9z0p0cuZBDP",
        "outputId": "56e7d7f4-4f07-4a5a-b250-260881800fb7"
      },
      "execution_count": 13,
      "outputs": [
        {
          "output_type": "execute_result",
          "data": {
            "text/plain": [
              "120960"
            ]
          },
          "metadata": {},
          "execution_count": 13
        }
      ]
    },
    {
      "cell_type": "code",
      "source": [
        "assert seg.sample_width == 2"
      ],
      "metadata": {
        "id": "KoSLQbYrHpxf"
      },
      "execution_count": null,
      "outputs": []
    },
    {
      "cell_type": "code",
      "source": [
        "seg.export(\"seg.wav\", format=\"wav\")"
      ],
      "metadata": {
        "colab": {
          "base_uri": "https://localhost:8080/"
        },
        "id": "A_THBkqNGEQi",
        "outputId": "afe119b5-c968-4563-aed8-6ff4300897d3"
      },
      "execution_count": 14,
      "outputs": [
        {
          "output_type": "execute_result",
          "data": {
            "text/plain": [
              "<_io.BufferedRandom name='seg.wav'>"
            ]
          },
          "metadata": {},
          "execution_count": 14
        }
      ]
    },
    {
      "cell_type": "code",
      "source": [
        "(get_speech_timestamps, save_audio, read_audio, VADIterator, collect_chunks) = utils"
      ],
      "metadata": {
        "id": "lep9gmGKGa3a"
      },
      "execution_count": 16,
      "outputs": []
    },
    {
      "cell_type": "code",
      "source": [
        "wav = read_audio(\"seg.wav\")"
      ],
      "metadata": {
        "id": "FVRLmaZ_GgcT"
      },
      "execution_count": 17,
      "outputs": []
    },
    {
      "cell_type": "code",
      "source": [
        "!ffprobe -i seg.wav"
      ],
      "metadata": {
        "colab": {
          "base_uri": "https://localhost:8080/"
        },
        "id": "C4w7u-PxZgHL",
        "outputId": "bf80edd8-d21c-40c8-ab80-0e96d6421898"
      },
      "execution_count": 23,
      "outputs": [
        {
          "output_type": "stream",
          "name": "stdout",
          "text": [
            "ffprobe version 4.4.2-0ubuntu0.22.04.1 Copyright (c) 2007-2021 the FFmpeg developers\n",
            "  built with gcc 11 (Ubuntu 11.2.0-19ubuntu1)\n",
            "  configuration: --prefix=/usr --extra-version=0ubuntu0.22.04.1 --toolchain=hardened --libdir=/usr/lib/x86_64-linux-gnu --incdir=/usr/include/x86_64-linux-gnu --arch=amd64 --enable-gpl --disable-stripping --enable-gnutls --enable-ladspa --enable-libaom --enable-libass --enable-libbluray --enable-libbs2b --enable-libcaca --enable-libcdio --enable-libcodec2 --enable-libdav1d --enable-libflite --enable-libfontconfig --enable-libfreetype --enable-libfribidi --enable-libgme --enable-libgsm --enable-libjack --enable-libmp3lame --enable-libmysofa --enable-libopenjpeg --enable-libopenmpt --enable-libopus --enable-libpulse --enable-librabbitmq --enable-librubberband --enable-libshine --enable-libsnappy --enable-libsoxr --enable-libspeex --enable-libsrt --enable-libssh --enable-libtheora --enable-libtwolame --enable-libvidstab --enable-libvorbis --enable-libvpx --enable-libwebp --enable-libx265 --enable-libxml2 --enable-libxvid --enable-libzimg --enable-libzmq --enable-libzvbi --enable-lv2 --enable-omx --enable-openal --enable-opencl --enable-opengl --enable-sdl2 --enable-pocketsphinx --enable-librsvg --enable-libmfx --enable-libdc1394 --enable-libdrm --enable-libiec61883 --enable-chromaprint --enable-frei0r --enable-libx264 --enable-shared\n",
            "  libavutil      56. 70.100 / 56. 70.100\n",
            "  libavcodec     58.134.100 / 58.134.100\n",
            "  libavformat    58. 76.100 / 58. 76.100\n",
            "  libavdevice    58. 13.100 / 58. 13.100\n",
            "  libavfilter     7.110.100 /  7.110.100\n",
            "  libswscale      5.  9.100 /  5.  9.100\n",
            "  libswresample   3.  9.100 /  3.  9.100\n",
            "  libpostproc    55.  9.100 / 55.  9.100\n",
            "Input #0, wav, from 'seg.wav':\n",
            "  Duration: 00:00:03.78, bitrate: 256 kb/s\n",
            "  Stream #0:0: Audio: pcm_s16le ([1][0][0][0] / 0x0001), 16000 Hz, 1 channels, s16, 256 kb/s\n"
          ]
        }
      ]
    },
    {
      "cell_type": "code",
      "source": [
        "seg.channels"
      ],
      "metadata": {
        "colab": {
          "base_uri": "https://localhost:8080/"
        },
        "id": "VaoEJmnnIbtH",
        "outputId": "351344be-8708-407c-e276-07ce70a695f3"
      },
      "execution_count": 19,
      "outputs": [
        {
          "output_type": "execute_result",
          "data": {
            "text/plain": [
              "1"
            ]
          },
          "metadata": {},
          "execution_count": 19
        }
      ]
    },
    {
      "cell_type": "code",
      "source": [
        "import io\n",
        "import soundfile as sf\n",
        "\n",
        "data, samplerate = sf.read(io.BytesIO(seg.raw_data), format=\"RAW\", subtype=\"PCM_16\", samplerate=16000, channels=1)"
      ],
      "metadata": {
        "id": "Vbesm3-TbgZh"
      },
      "execution_count": 20,
      "outputs": []
    },
    {
      "cell_type": "code",
      "source": [
        "sf.write(\"seg2.wav\", data, 16000)"
      ],
      "metadata": {
        "id": "uJhVosyDZyh6"
      },
      "execution_count": 26,
      "outputs": []
    },
    {
      "cell_type": "code",
      "source": [
        "ipd.Audio(\"seg2.wav\")"
      ],
      "metadata": {
        "id": "mc6CAJxtZ5ft"
      },
      "execution_count": null,
      "outputs": []
    },
    {
      "cell_type": "code",
      "source": [
        "try2 = read_audio('seg2.wav', sampling_rate=16000)\n"
      ],
      "metadata": {
        "id": "ClLHey6paBEs"
      },
      "execution_count": 29,
      "outputs": []
    },
    {
      "cell_type": "code",
      "source": [
        "speech_timestamps = get_speech_timestamps(try2, model, sampling_rate=16_000)"
      ],
      "metadata": {
        "id": "dlaAsPcFb5gt"
      },
      "execution_count": 30,
      "outputs": []
    },
    {
      "cell_type": "code",
      "source": [
        "speech_timestamps"
      ],
      "metadata": {
        "colab": {
          "base_uri": "https://localhost:8080/"
        },
        "id": "gQwlHbHRb7hq",
        "outputId": "62b7a46d-2378-4a56-8220-8ce2867df8af"
      },
      "execution_count": 31,
      "outputs": [
        {
          "output_type": "execute_result",
          "data": {
            "text/plain": [
              "[{'start': 1056, 'end': 13280}, {'start': 53280, 'end': 60480}]"
            ]
          },
          "metadata": {},
          "execution_count": 31
        }
      ]
    },
    {
      "cell_type": "code",
      "source": [
        "seg2 = AudioSegment.from_wav(\"seg2.wav\")"
      ],
      "metadata": {
        "id": "cJCCQmSHZmSu"
      },
      "execution_count": 32,
      "outputs": []
    },
    {
      "cell_type": "code",
      "source": [
        "seg2_1 = seg2[53280:60480]"
      ],
      "metadata": {
        "id": "TKXl8uOgaq_J"
      },
      "execution_count": 38,
      "outputs": []
    },
    {
      "cell_type": "code",
      "source": [
        "seg2_1.export(\"seg2_2.wav\", format=\"wav\")"
      ],
      "metadata": {
        "colab": {
          "base_uri": "https://localhost:8080/"
        },
        "id": "fm-ZJQ9pavA6",
        "outputId": "dc91572b-9795-4fe8-b6c8-f1dfac16824e"
      },
      "execution_count": 39,
      "outputs": [
        {
          "output_type": "execute_result",
          "data": {
            "text/plain": [
              "<_io.BufferedRandom name='seg2_2.wav'>"
            ]
          },
          "metadata": {},
          "execution_count": 39
        }
      ]
    },
    {
      "cell_type": "code",
      "source": [
        "ipd.Audio(\"seg2_2.wav\")"
      ],
      "metadata": {
        "colab": {
          "base_uri": "https://localhost:8080/",
          "height": 75
        },
        "id": "HRIgxQoCbKc6",
        "outputId": "b85694f8-be60-4c38-9b72-d69bc5f10391"
      },
      "execution_count": 40,
      "outputs": [
        {
          "output_type": "execute_result",
          "data": {
            "text/plain": [
              "<IPython.lib.display.Audio object>"
            ],
            "text/html": [
              "\n",
              "                <audio  controls=\"controls\" >\n",
              "                    <source src=\"data:audio/x-wav;base64,UklGRiQAAABXQVZFZm10IBAAAAABAAEAgD4AAAB9AAACABAAZGF0YQAAAAA=\" type=\"audio/x-wav\" />\n",
              "                    Your browser does not support the audio element.\n",
              "                </audio>\n",
              "              "
            ]
          },
          "metadata": {},
          "execution_count": 40
        }
      ]
    }
  ]
}