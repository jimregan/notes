{
  "nbformat": 4,
  "nbformat_minor": 0,
  "metadata": {
    "colab": {
      "provenance": []
    },
    "kernelspec": {
      "name": "python3",
      "display_name": "Python 3"
    },
    "language_info": {
      "name": "python"
    }
  },
  "cells": [
    {
      "cell_type": "code",
      "execution_count": null,
      "metadata": {
        "id": "O2TGNjsEFPHX"
      },
      "outputs": [],
      "source": [
        "!wget https://wolnelektury.pl/katalog/zip/mp3/z-wichrow-i-hal-z-tatr-krzak-dzikiej-rozy-w-ciemnych-smreczy.zip"
      ]
    },
    {
      "cell_type": "code",
      "source": [
        "!unzip z-wichrow-i-hal-z-tatr-krzak-dzikiej-rozy-w-ciemnych-smreczy.zip"
      ],
      "metadata": {
        "id": "h52SsJwUFafN"
      },
      "execution_count": null,
      "outputs": []
    },
    {
      "cell_type": "code",
      "source": [
        "!ffmpeg -i z-wichrow-i-hal-z-tatr-krzak-dzikiej-rozy-w-ciemnych-smreczy_000.mp3  -acodec pcm_s16le -ac 1 -ar 16000  test.wav"
      ],
      "metadata": {
        "id": "00fTGilaFeet"
      },
      "execution_count": null,
      "outputs": []
    },
    {
      "cell_type": "code",
      "source": [
        "import torch\n",
        "\n",
        "model, utils = torch.hub.load(repo_or_dir='snakers4/silero-vad', model='silero_vad', force_reload=True)"
      ],
      "metadata": {
        "colab": {
          "base_uri": "https://localhost:8080/"
        },
        "id": "3T0Vs5cfFlnO",
        "outputId": "a2fff025-7c34-4a84-df87-40740ab7eac8"
      },
      "execution_count": 5,
      "outputs": [
        {
          "output_type": "stream",
          "name": "stderr",
          "text": [
            "/usr/local/lib/python3.10/dist-packages/torch/hub.py:294: UserWarning: You are about to download and run code from an untrusted repository. In a future release, this won't be allowed. To add the repository to your trusted list, change the command to {calling_fn}(..., trust_repo=False) and a command prompt will appear asking for an explicit confirmation of trust, or load(..., trust_repo=True), which will assume that the prompt is to be answered with 'yes'. You can also use load(..., trust_repo='check') which will only prompt for confirmation if the repo is not already trusted. This will eventually be the default behaviour\n",
            "  warnings.warn(\n",
            "Downloading: \"https://github.com/snakers4/silero-vad/zipball/master\" to /root/.cache/torch/hub/master.zip\n"
          ]
        }
      ]
    },
    {
      "cell_type": "code",
      "source": [
        "!pip install pydub"
      ],
      "metadata": {
        "colab": {
          "base_uri": "https://localhost:8080/"
        },
        "id": "1PqIjKeXFrh5",
        "outputId": "1d36a6c9-e2a0-4aaf-f975-19e2aaf04f93"
      },
      "execution_count": 6,
      "outputs": [
        {
          "output_type": "stream",
          "name": "stdout",
          "text": [
            "Collecting pydub\n",
            "  Downloading pydub-0.25.1-py2.py3-none-any.whl (32 kB)\n",
            "Installing collected packages: pydub\n",
            "Successfully installed pydub-0.25.1\n"
          ]
        }
      ]
    },
    {
      "cell_type": "code",
      "source": [
        "start = int(5.32 * 1000)\n",
        "end = int(9.1 * 1000)"
      ],
      "metadata": {
        "id": "uPttVpAoFwh4"
      },
      "execution_count": 7,
      "outputs": []
    },
    {
      "cell_type": "code",
      "source": [
        "from pydub import AudioSegment\n",
        "audio = AudioSegment.from_wav(\"test.wav\")"
      ],
      "metadata": {
        "id": "WTQMxa3tF0-B"
      },
      "execution_count": 8,
      "outputs": []
    },
    {
      "cell_type": "code",
      "source": [
        "seg = audio[start:end]"
      ],
      "metadata": {
        "id": "rQ4KaivpF7Vn"
      },
      "execution_count": 9,
      "outputs": []
    },
    {
      "cell_type": "code",
      "source": [
        "seg.raw_data"
      ],
      "metadata": {
        "id": "MLCzaGRYF_hi"
      },
      "execution_count": null,
      "outputs": []
    },
    {
      "cell_type": "code",
      "source": [
        "assert seg.sample_width == 2"
      ],
      "metadata": {
        "id": "KoSLQbYrHpxf"
      },
      "execution_count": 23,
      "outputs": []
    },
    {
      "cell_type": "code",
      "source": [
        "seg.export(\"seg.wav\", format=\"wav\")"
      ],
      "metadata": {
        "colab": {
          "base_uri": "https://localhost:8080/"
        },
        "id": "A_THBkqNGEQi",
        "outputId": "1ebc62ce-beef-4131-f3b2-8fa1e898e594"
      },
      "execution_count": 11,
      "outputs": [
        {
          "output_type": "execute_result",
          "data": {
            "text/plain": [
              "<_io.BufferedRandom name='seg.wav'>"
            ]
          },
          "metadata": {},
          "execution_count": 11
        }
      ]
    },
    {
      "cell_type": "code",
      "source": [
        "(get_speech_timestamps, save_audio, read_audio, VADIterator, collect_chunks) = utils"
      ],
      "metadata": {
        "id": "lep9gmGKGa3a"
      },
      "execution_count": 13,
      "outputs": []
    },
    {
      "cell_type": "code",
      "source": [
        "wav = read_audio(\"seg.wav\")"
      ],
      "metadata": {
        "id": "FVRLmaZ_GgcT"
      },
      "execution_count": 16,
      "outputs": []
    },
    {
      "cell_type": "code",
      "source": [
        "print(speech_timestamps)"
      ],
      "metadata": {
        "colab": {
          "base_uri": "https://localhost:8080/"
        },
        "id": "5Vd6VpWjGvhu",
        "outputId": "f7fed0e1-b607-4ed8-a937-5b904aa77878"
      },
      "execution_count": 21,
      "outputs": [
        {
          "output_type": "stream",
          "name": "stdout",
          "text": [
            "[{'start': 1056, 'end': 13280}, {'start': 53280, 'end': 60480}]\n"
          ]
        }
      ]
    },
    {
      "cell_type": "code",
      "source": [
        "seg.channels"
      ],
      "metadata": {
        "colab": {
          "base_uri": "https://localhost:8080/"
        },
        "id": "VaoEJmnnIbtH",
        "outputId": "01afdeb2-dcad-4a7a-bfee-9ed7d372da97"
      },
      "execution_count": 26,
      "outputs": [
        {
          "output_type": "execute_result",
          "data": {
            "text/plain": [
              "1"
            ]
          },
          "metadata": {},
          "execution_count": 26
        }
      ]
    },
    {
      "cell_type": "code",
      "source": [
        "import io\n",
        "import soundfile as sf\n",
        "\n",
        "data, samplerate = sf.read(io.BytesIO(seg.raw_data), format=\"RAW\", subtype=\"PCM_16\", samplerate=16000, channels=1)"
      ],
      "metadata": {
        "id": "Vbesm3-TbgZh"
      },
      "execution_count": 57,
      "outputs": []
    },
    {
      "cell_type": "code",
      "source": [
        "speech_timestamps = get_speech_timestamps(data, model, sampling_rate=16_000)"
      ],
      "metadata": {
        "id": "dlaAsPcFb5gt"
      },
      "execution_count": 58,
      "outputs": []
    },
    {
      "cell_type": "code",
      "source": [
        "speech_timestamps"
      ],
      "metadata": {
        "colab": {
          "base_uri": "https://localhost:8080/"
        },
        "id": "gQwlHbHRb7hq",
        "outputId": "c7c9e110-34ed-4765-cb9e-7977beadd992"
      },
      "execution_count": 59,
      "outputs": [
        {
          "output_type": "execute_result",
          "data": {
            "text/plain": [
              "[{'start': 1056, 'end': 13280}, {'start': 53280, 'end': 60480}]"
            ]
          },
          "metadata": {},
          "execution_count": 59
        }
      ]
    }
  ]
}