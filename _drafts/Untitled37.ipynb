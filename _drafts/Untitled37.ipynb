{
  "nbformat": 4,
  "nbformat_minor": 0,
  "metadata": {
    "colab": {
      "provenance": []
    },
    "kernelspec": {
      "name": "python3",
      "display_name": "Python 3"
    },
    "language_info": {
      "name": "python"
    }
  },
  "cells": [
    {
      "cell_type": "code",
      "execution_count": null,
      "metadata": {
        "id": "O2TGNjsEFPHX",
        "colab": {
          "base_uri": "https://localhost:8080/"
        },
        "outputId": "7d63dfa1-efbd-4ac8-9bed-9ed2309cc271"
      },
      "outputs": [
        {
          "output_type": "stream",
          "name": "stdout",
          "text": [
            "--2024-04-01 15:56:45--  https://wolnelektury.pl/katalog/zip/mp3/z-wichrow-i-hal-z-tatr-krzak-dzikiej-rozy-w-ciemnych-smreczy.zip\n",
            "Resolving wolnelektury.pl (wolnelektury.pl)... 51.83.143.148, 2001:41d0:602:3294::\n",
            "Connecting to wolnelektury.pl (wolnelektury.pl)|51.83.143.148|:443... connected.\n",
            "HTTP request sent, awaiting response... 302 Found\n",
            "Location: /media/zip/z-wichrow-i-hal-z-tatr-krzak-dzikiej-rozy-w-ciemnych-smreczy_mp3.zip [following]\n",
            "--2024-04-01 15:56:46--  https://wolnelektury.pl/media/zip/z-wichrow-i-hal-z-tatr-krzak-dzikiej-rozy-w-ciemnych-smreczy_mp3.zip\n",
            "Reusing existing connection to wolnelektury.pl:443.\n",
            "HTTP request sent, awaiting response... 200 OK\n",
            "Length: 1271180 (1.2M) [application/zip]\n",
            "Saving to: ‘z-wichrow-i-hal-z-tatr-krzak-dzikiej-rozy-w-ciemnych-smreczy.zip’\n",
            "\n",
            "z-wichrow-i-hal-z-t 100%[===================>]   1.21M  1.48MB/s    in 0.8s    \n",
            "\n",
            "2024-04-01 15:56:47 (1.48 MB/s) - ‘z-wichrow-i-hal-z-tatr-krzak-dzikiej-rozy-w-ciemnych-smreczy.zip’ saved [1271180/1271180]\n",
            "\n"
          ]
        }
      ],
      "source": [
        "%%capture\n",
        "!wget https://wolnelektury.pl/katalog/zip/mp3/z-wichrow-i-hal-z-tatr-krzak-dzikiej-rozy-w-ciemnych-smreczy.zip"
      ]
    },
    {
      "cell_type": "code",
      "source": [
        "%%capture\n",
        "!unzip z-wichrow-i-hal-z-tatr-krzak-dzikiej-rozy-w-ciemnych-smreczy.zip"
      ],
      "metadata": {
        "id": "h52SsJwUFafN",
        "colab": {
          "base_uri": "https://localhost:8080/"
        },
        "outputId": "b70dd0a6-d1a3-4a22-ee97-12494dbea771"
      },
      "execution_count": null,
      "outputs": [
        {
          "output_type": "stream",
          "name": "stdout",
          "text": [
            "Archive:  z-wichrow-i-hal-z-tatr-krzak-dzikiej-rozy-w-ciemnych-smreczy.zip\n",
            " extracting: z-wichrow-i-hal-z-tatr-krzak-dzikiej-rozy-w-ciemnych-smreczy_000.mp3  \n",
            " extracting: informacje.txt          \n"
          ]
        }
      ]
    },
    {
      "cell_type": "code",
      "source": [
        "%%capture\n",
        "!ffmpeg -i z-wichrow-i-hal-z-tatr-krzak-dzikiej-rozy-w-ciemnych-smreczy_000.mp3  -acodec pcm_s16le -ac 1 -ar 16000  test.wav"
      ],
      "metadata": {
        "id": "00fTGilaFeet"
      },
      "execution_count": null,
      "outputs": []
    },
    {
      "cell_type": "code",
      "source": [
        "import torch\n",
        "\n",
        "model, utils = torch.hub.load(repo_or_dir='snakers4/silero-vad', model='silero_vad', force_reload=True)"
      ],
      "metadata": {
        "colab": {
          "base_uri": "https://localhost:8080/"
        },
        "id": "3T0Vs5cfFlnO",
        "outputId": "2dba50af-4d0e-4a1a-f40f-3aeee91fe633"
      },
      "execution_count": null,
      "outputs": [
        {
          "output_type": "stream",
          "name": "stderr",
          "text": [
            "/usr/local/lib/python3.10/dist-packages/torch/hub.py:294: UserWarning: You are about to download and run code from an untrusted repository. In a future release, this won't be allowed. To add the repository to your trusted list, change the command to {calling_fn}(..., trust_repo=False) and a command prompt will appear asking for an explicit confirmation of trust, or load(..., trust_repo=True), which will assume that the prompt is to be answered with 'yes'. You can also use load(..., trust_repo='check') which will only prompt for confirmation if the repo is not already trusted. This will eventually be the default behaviour\n",
            "  warnings.warn(\n",
            "Downloading: \"https://github.com/snakers4/silero-vad/zipball/master\" to /root/.cache/torch/hub/master.zip\n"
          ]
        }
      ]
    },
    {
      "cell_type": "code",
      "source": [
        "%%capture\n",
        "%pip install pydub"
      ],
      "metadata": {
        "colab": {
          "base_uri": "https://localhost:8080/"
        },
        "id": "1PqIjKeXFrh5",
        "outputId": "d80c5591-6dfb-4934-c6d0-dfe34f893796"
      },
      "execution_count": null,
      "outputs": [
        {
          "output_type": "stream",
          "name": "stdout",
          "text": [
            "Collecting pydub\n",
            "  Downloading pydub-0.25.1-py2.py3-none-any.whl (32 kB)\n",
            "Installing collected packages: pydub\n",
            "Successfully installed pydub-0.25.1\n"
          ]
        }
      ]
    },
    {
      "cell_type": "code",
      "source": [
        "start = int(5.32 * 1000)\n",
        "end = int(9.1 * 1000)"
      ],
      "metadata": {
        "id": "uPttVpAoFwh4"
      },
      "execution_count": null,
      "outputs": []
    },
    {
      "cell_type": "code",
      "source": [
        "from pydub import AudioSegment\n",
        "audio = AudioSegment.from_wav(\"test.wav\")"
      ],
      "metadata": {
        "id": "WTQMxa3tF0-B"
      },
      "execution_count": null,
      "outputs": []
    },
    {
      "cell_type": "code",
      "source": [
        "seg = audio[start:end]"
      ],
      "metadata": {
        "id": "rQ4KaivpF7Vn"
      },
      "execution_count": null,
      "outputs": []
    },
    {
      "cell_type": "code",
      "source": [
        "import IPython.display as ipd"
      ],
      "metadata": {
        "id": "MLCzaGRYF_hi"
      },
      "execution_count": null,
      "outputs": []
    },
    {
      "cell_type": "code",
      "source": [
        "len(seg.raw_data)"
      ],
      "metadata": {
        "colab": {
          "base_uri": "https://localhost:8080/"
        },
        "id": "x9z0p0cuZBDP",
        "outputId": "56e7d7f4-4f07-4a5a-b250-260881800fb7"
      },
      "execution_count": null,
      "outputs": [
        {
          "output_type": "execute_result",
          "data": {
            "text/plain": [
              "120960"
            ]
          },
          "metadata": {},
          "execution_count": 13
        }
      ]
    },
    {
      "cell_type": "code",
      "source": [
        "assert seg.sample_width == 2"
      ],
      "metadata": {
        "id": "KoSLQbYrHpxf"
      },
      "execution_count": null,
      "outputs": []
    },
    {
      "cell_type": "code",
      "source": [
        "seg.export(\"seg.wav\", format=\"wav\")"
      ],
      "metadata": {
        "colab": {
          "base_uri": "https://localhost:8080/"
        },
        "id": "A_THBkqNGEQi",
        "outputId": "afe119b5-c968-4563-aed8-6ff4300897d3"
      },
      "execution_count": null,
      "outputs": [
        {
          "output_type": "execute_result",
          "data": {
            "text/plain": [
              "<_io.BufferedRandom name='seg.wav'>"
            ]
          },
          "metadata": {},
          "execution_count": 14
        }
      ]
    },
    {
      "cell_type": "code",
      "source": [
        "(get_speech_timestamps, save_audio, read_audio, VADIterator, collect_chunks) = utils"
      ],
      "metadata": {
        "id": "lep9gmGKGa3a"
      },
      "execution_count": null,
      "outputs": []
    },
    {
      "cell_type": "code",
      "source": [
        "wav = read_audio(\"seg.wav\")"
      ],
      "metadata": {
        "id": "FVRLmaZ_GgcT"
      },
      "execution_count": null,
      "outputs": []
    },
    {
      "cell_type": "code",
      "source": [
        "!ffprobe -i seg.wav"
      ],
      "metadata": {
        "colab": {
          "base_uri": "https://localhost:8080/"
        },
        "id": "C4w7u-PxZgHL",
        "outputId": "bf80edd8-d21c-40c8-ab80-0e96d6421898"
      },
      "execution_count": null,
      "outputs": [
        {
          "output_type": "stream",
          "name": "stdout",
          "text": [
            "ffprobe version 4.4.2-0ubuntu0.22.04.1 Copyright (c) 2007-2021 the FFmpeg developers\n",
            "  built with gcc 11 (Ubuntu 11.2.0-19ubuntu1)\n",
            "  configuration: --prefix=/usr --extra-version=0ubuntu0.22.04.1 --toolchain=hardened --libdir=/usr/lib/x86_64-linux-gnu --incdir=/usr/include/x86_64-linux-gnu --arch=amd64 --enable-gpl --disable-stripping --enable-gnutls --enable-ladspa --enable-libaom --enable-libass --enable-libbluray --enable-libbs2b --enable-libcaca --enable-libcdio --enable-libcodec2 --enable-libdav1d --enable-libflite --enable-libfontconfig --enable-libfreetype --enable-libfribidi --enable-libgme --enable-libgsm --enable-libjack --enable-libmp3lame --enable-libmysofa --enable-libopenjpeg --enable-libopenmpt --enable-libopus --enable-libpulse --enable-librabbitmq --enable-librubberband --enable-libshine --enable-libsnappy --enable-libsoxr --enable-libspeex --enable-libsrt --enable-libssh --enable-libtheora --enable-libtwolame --enable-libvidstab --enable-libvorbis --enable-libvpx --enable-libwebp --enable-libx265 --enable-libxml2 --enable-libxvid --enable-libzimg --enable-libzmq --enable-libzvbi --enable-lv2 --enable-omx --enable-openal --enable-opencl --enable-opengl --enable-sdl2 --enable-pocketsphinx --enable-librsvg --enable-libmfx --enable-libdc1394 --enable-libdrm --enable-libiec61883 --enable-chromaprint --enable-frei0r --enable-libx264 --enable-shared\n",
            "  libavutil      56. 70.100 / 56. 70.100\n",
            "  libavcodec     58.134.100 / 58.134.100\n",
            "  libavformat    58. 76.100 / 58. 76.100\n",
            "  libavdevice    58. 13.100 / 58. 13.100\n",
            "  libavfilter     7.110.100 /  7.110.100\n",
            "  libswscale      5.  9.100 /  5.  9.100\n",
            "  libswresample   3.  9.100 /  3.  9.100\n",
            "  libpostproc    55.  9.100 / 55.  9.100\n",
            "Input #0, wav, from 'seg.wav':\n",
            "  Duration: 00:00:03.78, bitrate: 256 kb/s\n",
            "  Stream #0:0: Audio: pcm_s16le ([1][0][0][0] / 0x0001), 16000 Hz, 1 channels, s16, 256 kb/s\n"
          ]
        }
      ]
    },
    {
      "cell_type": "code",
      "source": [
        "seg.channels"
      ],
      "metadata": {
        "colab": {
          "base_uri": "https://localhost:8080/"
        },
        "id": "VaoEJmnnIbtH",
        "outputId": "351344be-8708-407c-e276-07ce70a695f3"
      },
      "execution_count": null,
      "outputs": [
        {
          "output_type": "execute_result",
          "data": {
            "text/plain": [
              "1"
            ]
          },
          "metadata": {},
          "execution_count": 19
        }
      ]
    },
    {
      "cell_type": "code",
      "source": [
        "import io\n",
        "import soundfile as sf\n",
        "\n",
        "data, samplerate = sf.read(io.BytesIO(seg.raw_data), format=\"RAW\", subtype=\"PCM_16\", samplerate=16000, channels=1)"
      ],
      "metadata": {
        "id": "Vbesm3-TbgZh"
      },
      "execution_count": null,
      "outputs": []
    },
    {
      "cell_type": "code",
      "source": [
        "sf.write(\"seg2.wav\", data, 16000)"
      ],
      "metadata": {
        "id": "uJhVosyDZyh6"
      },
      "execution_count": null,
      "outputs": []
    },
    {
      "cell_type": "code",
      "source": [
        "ipd.Audio(\"seg2.wav\")"
      ],
      "metadata": {
        "id": "mc6CAJxtZ5ft"
      },
      "execution_count": null,
      "outputs": []
    },
    {
      "cell_type": "code",
      "source": [
        "try2 = read_audio('test.wav', sampling_rate=16000)\n"
      ],
      "metadata": {
        "id": "ClLHey6paBEs"
      },
      "execution_count": 41,
      "outputs": []
    },
    {
      "cell_type": "code",
      "source": [
        "speech_timestamps = get_speech_timestamps(try2, model, sampling_rate=16_000)"
      ],
      "metadata": {
        "id": "dlaAsPcFb5gt"
      },
      "execution_count": 42,
      "outputs": []
    },
    {
      "cell_type": "code",
      "source": [
        "speech_timestamps"
      ],
      "metadata": {
        "colab": {
          "base_uri": "https://localhost:8080/"
        },
        "id": "gQwlHbHRb7hq",
        "outputId": "a3049b4c-c9e9-455e-ff75-9700a89b9b0f"
      },
      "execution_count": 43,
      "outputs": [
        {
          "output_type": "execute_result",
          "data": {
            "text/plain": [
              "[{'start': 9248, 'end': 27104},\n",
              " {'start': 33312, 'end': 66528},\n",
              " {'start': 78368, 'end': 97248},\n",
              " {'start': 139296, 'end': 180192},\n",
              " {'start': 183328, 'end': 213472},\n",
              " {'start': 218144, 'end': 282592},\n",
              " {'start': 295968, 'end': 334304},\n",
              " {'start': 340512, 'end': 375776},\n",
              " {'start': 386592, 'end': 442848},\n",
              " {'start': 455200, 'end': 467936},\n",
              " {'start': 477216, 'end': 490464},\n",
              " {'start': 496160, 'end': 510944},\n",
              " {'start': 517664, 'end': 585184},\n",
              " {'start': 604704, 'end': 613856},\n",
              " {'start': 628256, 'end': 653280},\n",
              " {'start': 663072, 'end': 721888},\n",
              " {'start': 744480, 'end': 782304},\n",
              " {'start': 786464, 'end': 819168},\n",
              " {'start': 823840, 'end': 857056},\n",
              " {'start': 859680, 'end': 892896},\n",
              " {'start': 913952, 'end': 950240},\n",
              " {'start': 953888, 'end': 988128},\n",
              " {'start': 990752, 'end': 1012192},\n",
              " {'start': 1015328, 'end': 1033184},\n",
              " {'start': 1034784, 'end': 1070048},\n",
              " {'start': 1082400, 'end': 1102816},\n",
              " {'start': 1108512, 'end': 1127904},\n",
              " {'start': 1133088, 'end': 1189856},\n",
              " {'start': 1195552, 'end': 1219040},\n",
              " {'start': 1229856, 'end': 1263584},\n",
              " {'start': 1273376, 'end': 1307104},\n",
              " {'start': 1312288, 'end': 1322464},\n",
              " {'start': 1326624, 'end': 1353696},\n",
              " {'start': 1372192, 'end': 1447392},\n",
              " {'start': 1455648, 'end': 1461728},\n",
              " {'start': 1466400, 'end': 1540064},\n",
              " {'start': 1553952, 'end': 1571808},\n",
              " {'start': 1575456, 'end': 1626080},\n",
              " {'start': 1631264, 'end': 1668064},\n",
              " {'start': 1673760, 'end': 1721824},\n",
              " {'start': 1724960, 'end': 1798112},\n",
              " {'start': 1818656, 'end': 1848800},\n",
              " {'start': 1851936, 'end': 1919968},\n",
              " {'start': 1949728, 'end': 1966048},\n",
              " {'start': 1970720, 'end': 2020320},\n",
              " {'start': 2024480, 'end': 2075616},\n",
              " {'start': 2078752, 'end': 2092512},\n",
              " {'start': 2101280, 'end': 2131936},\n",
              " {'start': 2136608, 'end': 2183648},\n",
              " {'start': 2185248, 'end': 2230752},\n",
              " {'start': 2235936, 'end': 2265056},\n",
              " {'start': 2270240, 'end': 2330080},\n",
              " {'start': 2352160, 'end': 2403296},\n",
              " {'start': 2411040, 'end': 2439648},\n",
              " {'start': 2444832, 'end': 2468832}]"
            ]
          },
          "metadata": {},
          "execution_count": 43
        }
      ]
    },
    {
      "cell_type": "code",
      "source": [
        "def get_raw_data(raw_data):\n",
        "    return sf.read(io.BytesIO(raw_data), format=\"RAW\", subtype=\"PCM_16\", samplerate=16000, channels=1)"
      ],
      "metadata": {
        "id": "b-6UdR2Mscpe"
      },
      "execution_count": 51,
      "outputs": []
    },
    {
      "cell_type": "code",
      "source": [
        "def get_start_end(audio, start: float, end: float):\n",
        "    st = int(start * 1000)\n",
        "    et = int(end * 1000)\n",
        "    seg = audio[st:et]\n",
        "    raw, _ = sf.read(io.BytesIO(seg.raw_data), format=\"RAW\", subtype=\"PCM_16\", samplerate=16000, channels=1)\n",
        "    return raw"
      ],
      "metadata": {
        "id": "BNLBMg6-tZ6E"
      },
      "execution_count": 56,
      "outputs": []
    },
    {
      "cell_type": "code",
      "source": [
        "ipd.Audio(get_start_end(audio, 2.0, 4.3), rate=16000)\n"
      ],
      "metadata": {
        "colab": {
          "base_uri": "https://localhost:8080/",
          "height": 75
        },
        "id": "HRIgxQoCbKc6",
        "outputId": "31ef0d05-b026-496c-fb1d-72dbe0fe7a46"
      },
      "execution_count": 59,
      "outputs": [
        {
          "output_type": "execute_result",
          "data": {
            "text/plain": [
              "<IPython.lib.display.Audio object>"
            ],
            "text/html": [
              "\n",
              "                <audio  controls=\"controls\" >\n",
              "                    <source src=\"data:audio/wav;base64,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\" type=\"audio/wav\" />\n",
              "                    Your browser does not support the audio element.\n",
              "                </audio>\n",
              "              "
            ]
          },
          "metadata": {},
          "execution_count": 59
        }
      ]
    },
    {
      "cell_type": "code",
      "source": [
        "!ffmpeg -i test.wav -af silencedetect=d=0.1 -f null -"
      ],
      "metadata": {
        "colab": {
          "base_uri": "https://localhost:8080/"
        },
        "id": "LYwtR2RnlpI4",
        "outputId": "d712bcd5-d015-4ee0-a2ae-bb9d8d4ae7e8"
      },
      "execution_count": 47,
      "outputs": [
        {
          "output_type": "stream",
          "name": "stdout",
          "text": [
            "ffmpeg version 4.4.2-0ubuntu0.22.04.1 Copyright (c) 2000-2021 the FFmpeg developers\n",
            "  built with gcc 11 (Ubuntu 11.2.0-19ubuntu1)\n",
            "  configuration: --prefix=/usr --extra-version=0ubuntu0.22.04.1 --toolchain=hardened --libdir=/usr/lib/x86_64-linux-gnu --incdir=/usr/include/x86_64-linux-gnu --arch=amd64 --enable-gpl --disable-stripping --enable-gnutls --enable-ladspa --enable-libaom --enable-libass --enable-libbluray --enable-libbs2b --enable-libcaca --enable-libcdio --enable-libcodec2 --enable-libdav1d --enable-libflite --enable-libfontconfig --enable-libfreetype --enable-libfribidi --enable-libgme --enable-libgsm --enable-libjack --enable-libmp3lame --enable-libmysofa --enable-libopenjpeg --enable-libopenmpt --enable-libopus --enable-libpulse --enable-librabbitmq --enable-librubberband --enable-libshine --enable-libsnappy --enable-libsoxr --enable-libspeex --enable-libsrt --enable-libssh --enable-libtheora --enable-libtwolame --enable-libvidstab --enable-libvorbis --enable-libvpx --enable-libwebp --enable-libx265 --enable-libxml2 --enable-libxvid --enable-libzimg --enable-libzmq --enable-libzvbi --enable-lv2 --enable-omx --enable-openal --enable-opencl --enable-opengl --enable-sdl2 --enable-pocketsphinx --enable-librsvg --enable-libmfx --enable-libdc1394 --enable-libdrm --enable-libiec61883 --enable-chromaprint --enable-frei0r --enable-libx264 --enable-shared\n",
            "  libavutil      56. 70.100 / 56. 70.100\n",
            "  libavcodec     58.134.100 / 58.134.100\n",
            "  libavformat    58. 76.100 / 58. 76.100\n",
            "  libavdevice    58. 13.100 / 58. 13.100\n",
            "  libavfilter     7.110.100 /  7.110.100\n",
            "  libswscale      5.  9.100 /  5.  9.100\n",
            "  libswresample   3.  9.100 /  3.  9.100\n",
            "  libpostproc    55.  9.100 / 55.  9.100\n",
            "\u001b[0;33mGuessed Channel Layout for Input Stream #0.0 : mono\n",
            "\u001b[0mInput #0, wav, from 'test.wav':\n",
            "  Metadata:\n",
            "    artist          : Weronika Maja Lewandowska\n",
            "    comment         : Audiobook nagrany w ramach projektu Czytamy słuchając.\n",
            "                    : \n",
            "                    : Przekaż 1% podatku na rozwój Wolnych Lektur:\n",
            "                    : Fundacja Nowoczesna Polska\n",
            "                    : KRS 0000070056\n",
            "                    : http://nowoczesnapolska.org.pl/wesprzyj_nas/\n",
            "                    : \n",
            "    copyright       : 2008 Fundacja Nowoczesna Polska. Licensed to the public under http://creativecommons.org/licenses/by-sa/3.0/deed.pl verify at http://wolnelektury.pl/katalog/lektura/z-wichrow-i-hal-z-tatr-krzak-dzikiej-rozy-w-ciemnych-smreczy/\n",
            "    date            : 2008-10-09\n",
            "    genre           : Speech\n",
            "    title           : Jan Kasprowicz, \"Krzak dzikiej róży w Ciemnych Smreczynach\"\n",
            "    album           : Wolne Lektury\n",
            "    encoder         : Lavf58.76.100\n",
            "    encoded_by      : Pro Tools\n",
            "  Duration: 00:02:36.45, bitrate: 256 kb/s\n",
            "  Stream #0:0: Audio: pcm_s16le ([1][0][0][0] / 0x0001), 16000 Hz, mono, s16, 256 kb/s\n",
            "Stream mapping:\n",
            "  Stream #0:0 -> #0:0 (pcm_s16le (native) -> pcm_s16le (native))\n",
            "Press [q] to stop, [?] for help\n",
            "\u001b[1;32m[silencedetect @ 0x5d3557a3f9c0] \u001b[0msilence_start: 0\n",
            "Output #0, null, to 'pipe:':\n",
            "  Metadata:\n",
            "    artist          : Weronika Maja Lewandowska\n",
            "    comment         : Audiobook nagrany w ramach projektu Czytamy słuchając.\n",
            "                    : \n",
            "                    : Przekaż 1% podatku na rozwój Wolnych Lektur:\n",
            "                    : Fundacja Nowoczesna Polska\n",
            "                    : KRS 0000070056\n",
            "                    : http://nowoczesnapolska.org.pl/wesprzyj_nas/\n",
            "                    : \n",
            "    copyright       : 2008 Fundacja Nowoczesna Polska. Licensed to the public under http://creativecommons.org/licenses/by-sa/3.0/deed.pl verify at http://wolnelektury.pl/katalog/lektura/z-wichrow-i-hal-z-tatr-krzak-dzikiej-rozy-w-ciemnych-smreczy/\n",
            "    date            : 2008-10-09\n",
            "    genre           : Speech\n",
            "    title           : Jan Kasprowicz, \"Krzak dzikiej róży w Ciemnych Smreczynach\"\n",
            "    album           : Wolne Lektury\n",
            "    encoded_by      : Pro Tools\n",
            "    encoder         : Lavf58.76.100\n",
            "  Stream #0:0: Audio: pcm_s16le, 16000 Hz, mono, s16, 256 kb/s\n",
            "    Metadata:\n",
            "      encoder         : Lavc58.134.100 pcm_s16le\n",
            "size=N/A time=00:00:00.00 bitrate=N/A speed=N/A    \r\u001b[1;32m[silencedetect @ 0x5d3557a3f9c0] \u001b[0msilence_end: 0.6 | silence_duration: 0.6\n",
            "\u001b[1;32m[silencedetect @ 0x5d3557a3f9c0] \u001b[0msilence_start: 1.7885\n",
            "\u001b[1;32m[silencedetect @ 0x5d3557a3f9c0] \u001b[0msilence_end: 1.99206 | silence_duration: 0.203563\n",
            "\u001b[1;32m[silencedetect @ 0x5d3557a3f9c0] \u001b[0msilence_start: 4.296\n",
            "\u001b[1;32m[silencedetect @ 0x5d3557a3f9c0] \u001b[0msilence_end: 4.93438 | silence_duration: 0.638375\n",
            "\u001b[1;32m[silencedetect @ 0x5d3557a3f9c0] \u001b[0msilence_start: 6.18888\n",
            "\u001b[1;32m[silencedetect @ 0x5d3557a3f9c0] \u001b[0msilence_end: 8.57919 | silence_duration: 2.39031\n",
            "\u001b[1;32m[silencedetect @ 0x5d3557a3f9c0] \u001b[0msilence_start: 13.3041\n",
            "\u001b[1;32m[silencedetect @ 0x5d3557a3f9c0] \u001b[0msilence_end: 13.5559 | silence_duration: 0.251812\n",
            "\u001b[1;32m[silencedetect @ 0x5d3557a3f9c0] \u001b[0msilence_start: 17.6932\n",
            "\u001b[1;32m[silencedetect @ 0x5d3557a3f9c0] \u001b[0msilence_end: 18.5263 | silence_duration: 0.833063\n",
            "\u001b[1;32m[silencedetect @ 0x5d3557a3f9c0] \u001b[0msilence_start: 20.9295\n",
            "\u001b[1;32m[silencedetect @ 0x5d3557a3f9c0] \u001b[0msilence_end: 21.3281 | silence_duration: 0.398625\n",
            "\u001b[1;32m[silencedetect @ 0x5d3557a3f9c0] \u001b[0msilence_start: 23.4729\n",
            "\u001b[1;32m[silencedetect @ 0x5d3557a3f9c0] \u001b[0msilence_end: 24.1454 | silence_duration: 0.672438\n",
            "\u001b[1;32m[silencedetect @ 0x5d3557a3f9c0] \u001b[0msilence_start: 27.7411\n",
            "\u001b[1;32m[silencedetect @ 0x5d3557a3f9c0] \u001b[0msilence_end: 28.4314 | silence_duration: 0.69025\n",
            "\u001b[1;32m[silencedetect @ 0x5d3557a3f9c0] \u001b[0msilence_start: 29.4552\n",
            "\u001b[1;32m[silencedetect @ 0x5d3557a3f9c0] \u001b[0msilence_end: 29.8041 | silence_duration: 0.348875\n",
            "\u001b[1;32m[silencedetect @ 0x5d3557a3f9c0] \u001b[0msilence_start: 30.7521\n",
            "\u001b[1;32m[silencedetect @ 0x5d3557a3f9c0] \u001b[0msilence_end: 31.0426 | silence_duration: 0.290438\n",
            "\u001b[1;32m[silencedetect @ 0x5d3557a3f9c0] \u001b[0msilence_start: 32.0508\n",
            "\u001b[1;32m[silencedetect @ 0x5d3557a3f9c0] \u001b[0msilence_end: 32.3477 | silence_duration: 0.296938\n",
            "\u001b[1;32m[silencedetect @ 0x5d3557a3f9c0] \u001b[0msilence_start: 36.7022\n",
            "\u001b[1;32m[silencedetect @ 0x5d3557a3f9c0] \u001b[0msilence_end: 37.7842 | silence_duration: 1.082\n",
            "\u001b[1;32m[silencedetect @ 0x5d3557a3f9c0] \u001b[0msilence_start: 38.5389\n",
            "\u001b[1;32m[silencedetect @ 0x5d3557a3f9c0] \u001b[0msilence_end: 39.3023 | silence_duration: 0.763437\n",
            "\u001b[1;32m[silencedetect @ 0x5d3557a3f9c0] \u001b[0msilence_start: 40.8439\n",
            "\u001b[1;32m[silencedetect @ 0x5d3557a3f9c0] \u001b[0msilence_end: 41.4742 | silence_duration: 0.630313\n",
            "\u001b[1;32m[silencedetect @ 0x5d3557a3f9c0] \u001b[0msilence_start: 45.1687\n",
            "\u001b[1;32m[silencedetect @ 0x5d3557a3f9c0] \u001b[0msilence_end: 46.5056 | silence_duration: 1.33694\n",
            "\u001b[1;32m[silencedetect @ 0x5d3557a3f9c0] \u001b[0msilence_start: 55.8503\n",
            "\u001b[1;32m[silencedetect @ 0x5d3557a3f9c0] \u001b[0msilence_end: 57.0885 | silence_duration: 1.23825\n",
            "\u001b[1;32m[silencedetect @ 0x5d3557a3f9c0] \u001b[0msilence_start: 67.0278\n",
            "\u001b[1;32m[silencedetect @ 0x5d3557a3f9c0] \u001b[0msilence_end: 67.6243 | silence_duration: 0.596438\n",
            "\u001b[1;32m[silencedetect @ 0x5d3557a3f9c0] \u001b[0msilence_start: 68.9902\n",
            "\u001b[1;32m[silencedetect @ 0x5d3557a3f9c0] \u001b[0msilence_end: 69.2287 | silence_duration: 0.2385\n",
            "\u001b[1;32m[silencedetect @ 0x5d3557a3f9c0] \u001b[0msilence_start: 74.4809\n",
            "\u001b[1;32m[silencedetect @ 0x5d3557a3f9c0] \u001b[0msilence_end: 74.6525 | silence_duration: 0.171625\n",
            "\u001b[1;32m[silencedetect @ 0x5d3557a3f9c0] \u001b[0msilence_start: 76.2504\n",
            "\u001b[1;32m[silencedetect @ 0x5d3557a3f9c0] \u001b[0msilence_end: 76.8503 | silence_duration: 0.599875\n",
            "\u001b[1;32m[silencedetect @ 0x5d3557a3f9c0] \u001b[0msilence_start: 79.0434\n",
            "\u001b[1;32m[silencedetect @ 0x5d3557a3f9c0] \u001b[0msilence_end: 79.5743 | silence_duration: 0.530938\n",
            "\u001b[1;32m[silencedetect @ 0x5d3557a3f9c0] \u001b[0msilence_start: 81.6858\n",
            "\u001b[1;32m[silencedetect @ 0x5d3557a3f9c0] \u001b[0msilence_end: 82.0438 | silence_duration: 0.358\n",
            "\u001b[1;32m[silencedetect @ 0x5d3557a3f9c0] \u001b[0msilence_start: 84.7228\n",
            "\u001b[1;32m[silencedetect @ 0x5d3557a3f9c0] \u001b[0msilence_end: 85.7906 | silence_duration: 1.06781\n",
            "\u001b[1;32m[silencedetect @ 0x5d3557a3f9c0] \u001b[0msilence_start: 90.4548\n",
            "\u001b[1;32m[silencedetect @ 0x5d3557a3f9c0] \u001b[0msilence_end: 90.881 | silence_duration: 0.42625\n",
            "\u001b[1;32m[silencedetect @ 0x5d3557a3f9c0] \u001b[0msilence_start: 91.3281\n",
            "\u001b[1;32m[silencedetect @ 0x5d3557a3f9c0] \u001b[0msilence_end: 91.6683 | silence_duration: 0.340188\n",
            "\u001b[1;32m[silencedetect @ 0x5d3557a3f9c0] \u001b[0msilence_start: 96.2913\n",
            "\u001b[1;32m[silencedetect @ 0x5d3557a3f9c0] \u001b[0msilence_end: 97.1491 | silence_duration: 0.85775\n",
            "\u001b[1;32m[silencedetect @ 0x5d3557a3f9c0] \u001b[0msilence_start: 104.281\n",
            "\u001b[1;32m[silencedetect @ 0x5d3557a3f9c0] \u001b[0msilence_end: 104.611 | silence_duration: 0.329188\n",
            "\u001b[1;32m[silencedetect @ 0x5d3557a3f9c0] \u001b[0msilence_start: 112.448\n",
            "\u001b[1;32m[silencedetect @ 0x5d3557a3f9c0] \u001b[0msilence_end: 113.669 | silence_duration: 1.22069\n",
            "\u001b[1;32m[silencedetect @ 0x5d3557a3f9c0] \u001b[0msilence_start: 120.046\n",
            "\u001b[1;32m[silencedetect @ 0x5d3557a3f9c0] \u001b[0msilence_end: 121.845 | silence_duration: 1.79906\n",
            "\u001b[1;32m[silencedetect @ 0x5d3557a3f9c0] \u001b[0msilence_start: 126.457\n",
            "\u001b[1;32m[silencedetect @ 0x5d3557a3f9c0] \u001b[0msilence_end: 126.57 | silence_duration: 0.113125\n",
            "\u001b[1;32m[silencedetect @ 0x5d3557a3f9c0] \u001b[0msilence_start: 130.799\n",
            "\u001b[1;32m[silencedetect @ 0x5d3557a3f9c0] \u001b[0msilence_end: 131.36 | silence_duration: 0.561125\n",
            "\u001b[1;32m[silencedetect @ 0x5d3557a3f9c0] \u001b[0msilence_start: 145.664\n",
            "\u001b[1;32m[silencedetect @ 0x5d3557a3f9c0] \u001b[0msilence_end: 147.024 | silence_duration: 1.35987\n",
            "\u001b[1;32m[silencedetect @ 0x5d3557a3f9c0] \u001b[0msilence_start: 150.508\n",
            "\u001b[1;32m[silencedetect @ 0x5d3557a3f9c0] \u001b[0msilence_end: 150.685 | silence_duration: 0.17675\n",
            "\u001b[1;32m[silencedetect @ 0x5d3557a3f9c0] \u001b[0msilence_start: 152.631\n",
            "\u001b[1;32m[silencedetect @ 0x5d3557a3f9c0] \u001b[0msilence_end: 152.791 | silence_duration: 0.160125\n",
            "\u001b[1;32m[silencedetect @ 0x5d3557a3f9c0] \u001b[0msilence_start: 154.365\n",
            "size=N/A time=00:02:36.41 bitrate=N/A speed=1.92e+03x    \n",
            "video:0kB audio:4889kB subtitle:0kB other streams:0kB global headers:0kB muxing overhead: unknown\n",
            "\u001b[1;32m[silencedetect @ 0x5d3557a3f9c0] \u001b[0msilence_end: 156.447 | silence_duration: 2.082\n"
          ]
        }
      ]
    },
    {
      "cell_type": "code",
      "source": [
        "from pydub.silence import detect_nonsilent\n",
        "detect_nonsilent(audio, 100)"
      ],
      "metadata": {
        "colab": {
          "base_uri": "https://localhost:8080/"
        },
        "id": "CKu7bez9uxgX",
        "outputId": "f8f8d820-652c-407d-8e90-e2afa051b710"
      },
      "execution_count": 61,
      "outputs": [
        {
          "output_type": "execute_result",
          "data": {
            "text/plain": [
              "[[685, 793],\n",
              " [8809, 8899],\n",
              " [9492, 9496],\n",
              " [14266, 14404],\n",
              " [14829, 14853],\n",
              " [19090, 19180],\n",
              " [19430, 19580],\n",
              " [24753, 24832],\n",
              " [28660, 28668],\n",
              " [32682, 32763],\n",
              " [42003, 42086],\n",
              " [46721, 46785],\n",
              " [47075, 47104],\n",
              " [47621, 47626],\n",
              " [51619, 51695],\n",
              " [52242, 52246],\n",
              " [53808, 53834],\n",
              " [57286, 57444],\n",
              " [62364, 62444],\n",
              " [62680, 62690],\n",
              " [69691, 69716],\n",
              " [70914, 70966],\n",
              " [71291, 71643],\n",
              " [72036, 72101],\n",
              " [73685, 73693],\n",
              " [77289, 77290],\n",
              " [80411, 80412],\n",
              " [82221, 82308],\n",
              " [83158, 83321],\n",
              " [97524, 97595],\n",
              " [113913, 113958],\n",
              " [116817, 116823],\n",
              " [121925, 122013],\n",
              " [122331, 122487],\n",
              " [124639, 124893],\n",
              " [126726, 126763],\n",
              " [128711, 128717],\n",
              " [131581, 131582],\n",
              " [133881, 133885],\n",
              " [139987, 139990],\n",
              " [142563, 142631]]"
            ]
          },
          "metadata": {},
          "execution_count": 61
        }
      ]
    }
  ]
}