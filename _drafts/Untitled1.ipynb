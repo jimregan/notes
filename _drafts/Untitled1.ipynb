{
 "cells": [
  {
   "cell_type": "code",
   "execution_count": 40,
   "metadata": {},
   "outputs": [
    {
     "name": "stdout",
     "output_type": "stream",
     "text": [
      "12\n"
     ]
    }
   ],
   "source": [
    "sought = \"\"\"\n",
    "0643 scríobhfadh\n",
    "1876 shaighead\n",
    "0227 taispeánfaidh\n",
    "0281 tharrthaigh\n",
    "0414 a-a-a-atá\n",
    "0439 's\n",
    "0445 's\n",
    "1356 s-s-s-s-s\n",
    "1655 romhainn\n",
    "0325 oidhe\n",
    "1885 sciatháin\n",
    "0522 muirín\n",
    "\"\"\"\n",
    "y = [a for a in sought.split(\"\\n\") if a]\n",
    "idlist = [x[0] for x in y]\n",
    "print(len(idlist))"
   ]
  },
  {
   "cell_type": "code",
   "execution_count": null,
   "metadata": {},
   "outputs": [],
   "source": [
    "import IPython\n",
    "for fid in idlist[0:10]:\n",
    "    print(fid + \"\\n\")\n",
    "    !cat /home/jim/Playing/snc_ga_co/txt/SNC_Gearrscealta_an_Phiarsaigh_{fid}.txt\n",
    "    IPython.display.display(IPython.display.Audio(f\"/home/jim/Playing/snc_ga_co/original_wav/SNC0001SNC_Gearrscealta_an_Phiarsaigh_{fid}.wav\"))"
   ]
  },
  {
   "cell_type": "code",
   "execution_count": null,
   "metadata": {},
   "outputs": [],
   "source": [
    "def clearp(text):\n",
    "    return text.replace(\",\", \"\").replace(\".\", \"\").replace(\";\", \"\").replace(\":\", \"\")\n",
    "for fid in idlist[0:5]:\n",
    "    ftext = !cat /home/jim/Playing/snc_ga_co/txt/SNC_Gearrscealta_an_Phiarsaigh_{fid}.txt\n",
    "    text = clearp(ftext[0])\n",
    "    for word in text.split(\" \"):\n",
    "        if word.endswith(\"igh\"):\n",
    "            print(f\"{fid}\\t{word}\\t<igh> -> /ə/\")"
   ]
  }
 ],
 "metadata": {
  "kernelspec": {
   "display_name": "Python 3",
   "language": "python",
   "name": "python3"
  },
  "language_info": {
   "codemirror_mode": {
    "name": "ipython",
    "version": 3
   },
   "file_extension": ".py",
   "mimetype": "text/x-python",
   "name": "python",
   "nbconvert_exporter": "python",
   "pygments_lexer": "ipython3",
   "version": "3.6.9"
  }
 },
 "nbformat": 4,
 "nbformat_minor": 2
}
