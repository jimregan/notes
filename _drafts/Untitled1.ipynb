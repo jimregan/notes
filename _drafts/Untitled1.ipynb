{
 "cells": [
  {
   "cell_type": "code",
   "execution_count": 12,
   "metadata": {},
   "outputs": [],
   "source": [
    "from pathlib import Path\n",
    "import xml.etree.ElementTree as ET"
   ]
  },
  {
   "cell_type": "code",
   "execution_count": 2,
   "metadata": {},
   "outputs": [],
   "source": [
    "_CORPORA = Path(\"/media/storage/jim/speech-syn/Corpora/\")"
   ]
  },
  {
   "cell_type": "code",
   "execution_count": 3,
   "metadata": {},
   "outputs": [],
   "source": [
    "_PMG = _CORPORA / \"ga_CO\" / \"pmg\""
   ]
  },
  {
   "cell_type": "code",
   "execution_count": 9,
   "metadata": {},
   "outputs": [],
   "source": [
    "_PMG_DIRS_GLOBBED = _PMG.glob(\"RC[A-Z]*\")"
   ]
  },
  {
   "cell_type": "code",
   "execution_count": 10,
   "metadata": {},
   "outputs": [],
   "source": [
    "_PMG_DIRS = [a for a in _PMG_DIRS_GLOBBED if a.stem != \"RCPiarsachALL\"]"
   ]
  },
  {
   "cell_type": "code",
   "execution_count": 14,
   "metadata": {},
   "outputs": [],
   "source": [
    "def get_words(file):\n",
    "    words = []\n",
    "    junk = [\"GLOTTAL_STOP\", \"SILENCE_TOKEN\"]\n",
    "    tree = ET.parse(file)\n",
    "    root = tree.getroot()\n",
    "    for wordtag in root.findall(\".//word\"):\n",
    "        if \"pos\" in wordtag.attrib and wordtag.attrib[\"pos\"] == \"punc\":\n",
    "            continue\n",
    "        if \"input_string\" in wordtag.attrib and wordtag.attrib[\"input_string\"] not in junk:\n",
    "            words.append(wordtag.attrib[\"input_string\"])\n",
    "    return words"
   ]
  },
  {
   "cell_type": "code",
   "execution_count": 15,
   "metadata": {},
   "outputs": [],
   "source": [
    "texts = {}\n",
    "for dir in _PMG_DIRS:\n",
    "    xmldir = dir / \"xml\"\n",
    "    for xmlfile in xmldir.glob(\"*.xml\"):\n",
    "        texts[xmlfile.stem] = get_words(xmlfile)"
   ]
  },
  {
   "cell_type": "code",
   "execution_count": 18,
   "metadata": {},
   "outputs": [],
   "source": [
    "_PMG_OUTDIR = \"/media/storage/jim/Playing/mfa-corp/pmg/\""
   ]
  },
  {
   "cell_type": "code",
   "execution_count": 20,
   "metadata": {},
   "outputs": [],
   "source": [
    "for outname in texts.keys():\n",
    "    with open(f\"{_PMG_OUTDIR}{outname}.txt\", \"w\") as outf:\n",
    "        outf.write(\" \".join(texts[outname]))"
   ]
  }
 ],
 "metadata": {
  "kernelspec": {
   "display_name": "Python 3",
   "language": "python",
   "name": "python3"
  },
  "language_info": {
   "codemirror_mode": {
    "name": "ipython",
    "version": 3
   },
   "file_extension": ".py",
   "mimetype": "text/x-python",
   "name": "python",
   "nbconvert_exporter": "python",
   "pygments_lexer": "ipython3",
   "version": "3.6.9"
  }
 },
 "nbformat": 4,
 "nbformat_minor": 2
}
