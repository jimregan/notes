{
 "cells": [
  {
   "cell_type": "code",
   "execution_count": 34,
   "metadata": {},
   "outputs": [
    {
     "name": "stdout",
     "output_type": "stream",
     "text": [
      "1\n"
     ]
    }
   ],
   "source": [
    "ids = \"0515\" # Mheámn\n",
    "idlist = ids.split(\" \")\n",
    "print(len(idlist))"
   ]
  },
  {
   "cell_type": "code",
   "execution_count": null,
   "metadata": {},
   "outputs": [],
   "source": [
    "import IPython\n",
    "for fid in idlist[0:10]:\n",
    "    print(fid + \"\\n\")\n",
    "    !cat /home/jim/Playing/snc_ga_co/txt/SNC_Gearrscealta_an_Phiarsaigh_{fid}.txt\n",
    "    IPython.display.display(IPython.display.Audio(f\"/home/jim/Playing/snc_ga_co/original_wav/SNC0001SNC_Gearrscealta_an_Phiarsaigh_{fid}.wav\"))"
   ]
  },
  {
   "cell_type": "code",
   "execution_count": null,
   "metadata": {},
   "outputs": [],
   "source": [
    "def clearp(text):\n",
    "    return text.replace(\",\", \"\").replace(\".\", \"\").replace(\";\", \"\").replace(\":\", \"\")\n",
    "for fid in idlist[0:5]:\n",
    "    ftext = !cat /home/jim/Playing/snc_ga_co/txt/SNC_Gearrscealta_an_Phiarsaigh_{fid}.txt\n",
    "    text = clearp(ftext[0])\n",
    "    for word in text.split(\" \"):\n",
    "        if word.endswith(\"igh\"):\n",
    "            print(f\"{fid}\\t{word}\\t<igh> -> /ə/\")"
   ]
  }
 ],
 "metadata": {
  "kernelspec": {
   "display_name": "Python 3",
   "language": "python",
   "name": "python3"
  },
  "language_info": {
   "codemirror_mode": {
    "name": "ipython",
    "version": 3
   },
   "file_extension": ".py",
   "mimetype": "text/x-python",
   "name": "python",
   "nbconvert_exporter": "python",
   "pygments_lexer": "ipython3",
   "version": "3.6.9"
  }
 },
 "nbformat": 4,
 "nbformat_minor": 2
}
