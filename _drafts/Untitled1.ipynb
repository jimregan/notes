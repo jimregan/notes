{
 "cells": [
  {
   "cell_type": "code",
   "execution_count": 46,
   "metadata": {},
   "outputs": [
    {
     "name": "stdout",
     "output_type": "stream",
     "text": [
      "54\n"
     ]
    }
   ],
   "source": [
    "sought = \"\"\"\n",
    "0361 bhfuilimid\n",
    "0148 bádh\n",
    "1578 calvaire\n",
    "1340 deartháir\n",
    "1655 deireanach\n",
    "0495 dheirfiúr\n",
    "0810 dheirfiúr\n",
    "1349 dheirfiúr\n",
    "0495 dheirfiúracha\n",
    "0163 eorpa\n",
    "1821 gcathracha\n",
    "1672 glaodh\n",
    "1685 gnóthaithe\n",
    "1689 gnóthaithe\n",
    "1581 gúalainn\n",
    "0327 inseoidh\n",
    "0391 inseoidh\n",
    "0489 inseoidh\n",
    "0754 inseoidh\n",
    "0822 inseoidh\n",
    "0180 istigh\n",
    "0186 istigh\n",
    "0546 istigh\n",
    "0650 istigh\n",
    "1464 istigh\n",
    "1467 istigh\n",
    "1588 istigh\n",
    "1683 istigh\n",
    "0487 iúdás\n",
    "0272 leanbh\n",
    "0279 leanbh\n",
    "0439 leanbh\n",
    "1343 leanbh\n",
    "1344 leanbh\n",
    "1456 leanbh\n",
    "1596 leanbh\n",
    "1597 leanbh\n",
    "1732 leanbh\n",
    "1738 leanbh\n",
    "1758 leanbh\n",
    "1783 leanbh\n",
    "2016 leanbh\n",
    "0816 maróidh\n",
    "0700 mhuirín\n",
    "0510 muirín\n",
    "0522 muirín\n",
    "1895 ndiadh\n",
    "0643 scríobhfadh\n",
    "1705 se'againne\n",
    "0148 tharrtháil\n",
    "0461 thoir\n",
    "0578 thoir\n",
    "1319 thoir\n",
    "1578 troighmhall\n",
    "\"\"\"\n",
    "y = [a for a in sought.split(\"\\n\") if a]\n",
    "idlist = [x.split(\" \")[0] for x in y]\n",
    "print(len(idlist))"
   ]
  },
  {
   "cell_type": "code",
   "execution_count": null,
   "metadata": {
    "scrolled": true
   },
   "outputs": [],
   "source": [
    "import IPython\n",
    "for fid in idlist[0:10]:\n",
    "    print(fid + \"\\n\")\n",
    "    !cat /home/jim/Playing/snc_ga_co/txt/SNC_Gearrscealta_an_Phiarsaigh_{fid}.txt\n",
    "    IPython.display.display(IPython.display.Audio(f\"/home/jim/Playing/snc_ga_co/original_wav/SNC0001SNC_Gearrscealta_an_Phiarsaigh_{fid}.wav\"))"
   ]
  },
  {
   "cell_type": "code",
   "execution_count": null,
   "metadata": {},
   "outputs": [],
   "source": [
    "def clearp(text):\n",
    "    return text.replace(\",\", \"\").replace(\".\", \"\").replace(\";\", \"\").replace(\":\", \"\")\n",
    "for fid in idlist[0:5]:\n",
    "    ftext = !cat /home/jim/Playing/snc_ga_co/txt/SNC_Gearrscealta_an_Phiarsaigh_{fid}.txt\n",
    "    text = clearp(ftext[0])\n",
    "    for word in text.split(\" \"):\n",
    "        if word.endswith(\"igh\"):\n",
    "            print(f\"{fid}\\t{word}\\t<igh> -> /ə/\")"
   ]
  }
 ],
 "metadata": {
  "kernelspec": {
   "display_name": "Python 3",
   "language": "python",
   "name": "python3"
  },
  "language_info": {
   "codemirror_mode": {
    "name": "ipython",
    "version": 3
   },
   "file_extension": ".py",
   "mimetype": "text/x-python",
   "name": "python",
   "nbconvert_exporter": "python",
   "pygments_lexer": "ipython3",
   "version": "3.6.9"
  }
 },
 "nbformat": 4,
 "nbformat_minor": 2
}
