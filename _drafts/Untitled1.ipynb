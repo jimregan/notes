{
 "cells": [
  {
   "cell_type": "code",
   "execution_count": null,
   "metadata": {},
   "outputs": [],
   "source": [
    "%%capture\n",
    "!pip install seaborn"
   ]
  },
  {
   "cell_type": "markdown",
   "metadata": {},
   "source": [
    "Based on [Onset-based Segmentation with Backtracking](https://musicinformationretrieval.com/onset_segmentation.html)"
   ]
  },
  {
   "cell_type": "code",
   "execution_count": 19,
   "metadata": {},
   "outputs": [],
   "source": [
    "%matplotlib inline\n",
    "import seaborn\n",
    "import numpy as np, scipy, matplotlib.pyplot as plt, IPython.display as ipd\n",
    "import librosa, librosa.display\n",
    "plt.rcParams['figure.figsize'] = (13, 5)"
   ]
  },
  {
   "cell_type": "code",
   "execution_count": 4,
   "metadata": {},
   "outputs": [],
   "source": [
    "_TGR = \"/home/jim/Playing/mfa_alignments/pmg-out/MI0001RCAlphaBet_0001.TextGrid\"\n",
    "_AUD = \"/home/jim/Playing/mfa-corp/pmg/MI0001RCAlphaBet_0001.wav\""
   ]
  },
  {
   "cell_type": "code",
   "execution_count": 5,
   "metadata": {},
   "outputs": [],
   "source": [
    "from praatio import textgrid\n",
    "tg = textgrid.openTextgrid(_TGR, False)"
   ]
  },
  {
   "cell_type": "code",
   "execution_count": 8,
   "metadata": {},
   "outputs": [],
   "source": [
    "x, sr = librosa.load(_AUD)"
   ]
  },
  {
   "cell_type": "code",
   "execution_count": 9,
   "metadata": {},
   "outputs": [],
   "source": [
    "ends = [end.end for end in tg.tierDict['phones'].entryList]"
   ]
  },
  {
   "cell_type": "code",
   "execution_count": 28,
   "metadata": {},
   "outputs": [],
   "source": [
    "ends = [tg.tierDict['phones'].entryList[0].start] + [end.end for end in tg.tierDict['phones'].entryList]"
   ]
  },
  {
   "cell_type": "code",
   "execution_count": 27,
   "metadata": {},
   "outputs": [],
   "source": [
    "phones = [end.label for end in tg.tierDict['phones'].entryList]"
   ]
  },
  {
   "cell_type": "code",
   "execution_count": 12,
   "metadata": {},
   "outputs": [],
   "source": [
    "frames = librosa.time_to_frames(ends, sr)"
   ]
  },
  {
   "cell_type": "code",
   "execution_count": 29,
   "metadata": {},
   "outputs": [
    {
     "data": {
      "text/plain": [
       "[1.43,\n",
       " 1.56,\n",
       " 1.66,\n",
       " 1.78,\n",
       " 1.89,\n",
       " 2.01,\n",
       " 2.11,\n",
       " 2.17,\n",
       " 2.24,\n",
       " 2.4,\n",
       " 2.5,\n",
       " 2.63,\n",
       " 2.71,\n",
       " 2.78,\n",
       " 2.87]"
      ]
     },
     "execution_count": 29,
     "metadata": {},
     "output_type": "execute_result"
    }
   ],
   "source": [
    "ends"
   ]
  },
  {
   "cell_type": "code",
   "execution_count": null,
   "metadata": {},
   "outputs": [
    {
     "data": {
      "text/plain": [
       "<matplotlib.collections.LineCollection at 0x7f78021174a8>"
      ]
     },
     "execution_count": 31,
     "metadata": {},
     "output_type": "execute_result"
    }
   ],
   "source": [
    "S = librosa.stft(x)\n",
    "logS = librosa.amplitude_to_db(np.abs(S))\n",
    "librosa.display.specshow(logS, sr=sr, x_axis='time', y_axis='log')\n",
    "#plt.vlines(frames, 0, frames[-1], color='k')\n",
    "plt.vlines(ends, 0, ends[-1], color='k', linestyles='solid', label='FOO')"
   ]
  }
 ],
 "metadata": {
  "kernelspec": {
   "display_name": "Python 3",
   "language": "python",
   "name": "python3"
  },
  "language_info": {
   "codemirror_mode": {
    "name": "ipython",
    "version": 3
   },
   "file_extension": ".py",
   "mimetype": "text/x-python",
   "name": "python",
   "nbconvert_exporter": "python",
   "pygments_lexer": "ipython3",
   "version": "3.6.9"
  }
 },
 "nbformat": 4,
 "nbformat_minor": 2
}
