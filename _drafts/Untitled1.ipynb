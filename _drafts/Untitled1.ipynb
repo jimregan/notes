{
 "cells": [
  {
   "cell_type": "code",
   "execution_count": null,
   "metadata": {},
   "outputs": [],
   "source": [
    "%%capture\n",
    "!pip install praatio"
   ]
  },
  {
   "cell_type": "code",
   "execution_count": 2,
   "metadata": {},
   "outputs": [],
   "source": [
    "from praatio import textgrid"
   ]
  },
  {
   "cell_type": "code",
   "execution_count": 4,
   "metadata": {},
   "outputs": [],
   "source": [
    "_BASE = \"/home/jim/Playing/snc_ga_co/\"\n",
    "_EG = \"FastSpeech2/preprocessed_data/TextGrid/SNC_Gearrscealta_an_Phiarsaigh_1931.TextGrid\"\n",
    "tg = textgrid.openTextgrid(_BASE + _EG, False)"
   ]
  },
  {
   "cell_type": "code",
   "execution_count": 7,
   "metadata": {},
   "outputs": [],
   "source": [
    "assert tg.tierNameList == ['Word', 'phones']"
   ]
  },
  {
   "cell_type": "code",
   "execution_count": 9,
   "metadata": {},
   "outputs": [],
   "source": [
    "word = tg.tierDict['Word']\n",
    "phones = tg.tierDict['phones']"
   ]
  },
  {
   "cell_type": "code",
   "execution_count": 52,
   "metadata": {},
   "outputs": [],
   "source": [
    "i = 0\n",
    "j = 0\n",
    "out = []\n",
    "\n",
    "def it_to_dict(it):\n",
    "    ret = {}\n",
    "    ret['start'] = it.start\n",
    "    ret['end'] = it.end\n",
    "    ret['label'] = it.label\n",
    "    return ret\n",
    "\n",
    "while i < len(word.entryList) and j < len(phones.entryList):\n",
    "    cur_word = it_to_dict(word.entryList[i])\n",
    "    cur_word['phones'] = []\n",
    "    while j < len(phones.entryList) and phones.entryList[j].end <= cur_word['end']:\n",
    "        end_time = phones.entryList[j].end\n",
    "        tmp_phone = it_to_dict(phones.entryList[j])\n",
    "        cur_word['phones'].append(tmp_phone)\n",
    "        j += 1\n",
    "        if end_time == cur_word['end']:\n",
    "            i += 1\n",
    "            out.append(cur_word)\n",
    "            continue"
   ]
  },
  {
   "cell_type": "code",
   "execution_count": 53,
   "metadata": {},
   "outputs": [
    {
     "data": {
      "text/plain": [
       "[{'start': 0.0,\n",
       "  'end': 0.025,\n",
       "  'label': 'SILENCE_TOKEN',\n",
       "  'phones': [{'start': 0.0, 'end': 0.025, 'label': 'sil'}]},\n",
       " {'start': 0.025,\n",
       "  'end': 0.375,\n",
       "  'label': 'Agus',\n",
       "  'phones': [{'start': 0.025, 'end': 0.135, 'label': 'a'},\n",
       "   {'start': 0.135, 'end': 0.205, 'label': 'g'},\n",
       "   {'start': 0.205, 'end': 0.24, 'label': '@'},\n",
       "   {'start': 0.24, 'end': 0.375, 'label': 's'}]},\n",
       " {'start': 0.375,\n",
       "  'end': 0.6,\n",
       "  'label': 'thug',\n",
       "  'phones': [{'start': 0.375, 'end': 0.465, 'label': 'h'},\n",
       "   {'start': 0.465, 'end': 0.545, 'label': 'u'},\n",
       "   {'start': 0.545, 'end': 0.6, 'label': 'g'}]},\n",
       " {'start': 0.6,\n",
       "  'end': 0.77,\n",
       "  'label': 'sé',\n",
       "  'phones': [{'start': 0.6, 'end': 0.71, 'label': 'sj'},\n",
       "   {'start': 0.71, 'end': 0.77, 'label': 'e'}]},\n",
       " {'start': 0.77,\n",
       "  'end': 0.905,\n",
       "  'label': 'an',\n",
       "  'phones': [{'start': 0.77, 'end': 0.805, 'label': '@'},\n",
       "   {'start': 0.805, 'end': 0.905, 'label': 'nn'}]},\n",
       " {'start': 0.905,\n",
       "  'end': 1.29,\n",
       "  'label': 'doras',\n",
       "  'phones': [{'start': 0.905, 'end': 0.95, 'label': 'd'},\n",
       "   {'start': 0.95, 'end': 1.02, 'label': 'o'},\n",
       "   {'start': 1.02, 'end': 1.125, 'label': 'r'},\n",
       "   {'start': 1.125, 'end': 1.15, 'label': '@'},\n",
       "   {'start': 1.15, 'end': 1.29, 'label': 's'}]},\n",
       " {'start': 1.29,\n",
       "  'end': 1.73,\n",
       "  'label': 'amach',\n",
       "  'phones': [{'start': 1.29, 'end': 1.325, 'label': '@'},\n",
       "   {'start': 1.325, 'end': 1.455, 'label': 'm'},\n",
       "   {'start': 1.455, 'end': 1.62, 'label': 'a'},\n",
       "   {'start': 1.62, 'end': 1.73, 'label': 'x'}]},\n",
       " {'start': 1.73,\n",
       "  'end': 1.93,\n",
       "  'label': 'air',\n",
       "  'phones': [{'start': 1.73, 'end': 1.85, 'label': 'e'},\n",
       "   {'start': 1.85, 'end': 1.93, 'label': 'rj'}]},\n",
       " {'start': 1.93,\n",
       "  'end': 2.55,\n",
       "  'label': 'féin',\n",
       "  'phones': [{'start': 1.93, 'end': 2.045, 'label': 'fj'},\n",
       "   {'start': 2.045, 'end': 2.28, 'label': 'ee'},\n",
       "   {'start': 2.28, 'end': 2.55, 'label': 'nj'}]},\n",
       " {'start': 2.55,\n",
       "  'end': 2.965,\n",
       "  'label': 'gan',\n",
       "  'phones': [{'start': 2.55, 'end': 2.78, 'label': 'g'},\n",
       "   {'start': 2.78, 'end': 2.865, 'label': 'a'},\n",
       "   {'start': 2.865, 'end': 2.965, 'label': 'nn'}]},\n",
       " {'start': 2.965,\n",
       "  'end': 3.45,\n",
       "  'label': 'focal',\n",
       "  'phones': [{'start': 2.965, 'end': 3.075, 'label': 'f'},\n",
       "   {'start': 3.075, 'end': 3.19, 'label': 'o'},\n",
       "   {'start': 3.19, 'end': 3.3, 'label': 'k'},\n",
       "   {'start': 3.3, 'end': 3.33, 'label': '@'},\n",
       "   {'start': 3.33, 'end': 3.45, 'label': 'll'}]},\n",
       " {'start': 3.45,\n",
       "  'end': 3.76,\n",
       "  'label': 'eile',\n",
       "  'phones': [{'start': 3.45, 'end': 3.59, 'label': 'e'},\n",
       "   {'start': 3.59, 'end': 3.705, 'label': 'lj'},\n",
       "   {'start': 3.705, 'end': 3.76, 'label': '@'}]},\n",
       " {'start': 3.76,\n",
       "  'end': 3.85,\n",
       "  'label': 'a',\n",
       "  'phones': [{'start': 3.76, 'end': 3.85, 'label': '@'}]},\n",
       " {'start': 3.85,\n",
       "  'end': 4.29,\n",
       "  'label': 'rá',\n",
       "  'phones': [{'start': 3.85, 'end': 4.005, 'label': 'r'},\n",
       "   {'start': 4.005, 'end': 4.29, 'label': 'aa'}]},\n",
       " {'start': 4.29,\n",
       "  'end': 4.39,\n",
       "  'label': '.',\n",
       "  'phones': [{'start': 4.29, 'end': 4.39, 'label': 'sil'}]}]"
      ]
     },
     "execution_count": 53,
     "metadata": {},
     "output_type": "execute_result"
    }
   ],
   "source": [
    "out"
   ]
  }
 ],
 "metadata": {
  "kernelspec": {
   "display_name": "Python 3",
   "language": "python",
   "name": "python3"
  },
  "language_info": {
   "codemirror_mode": {
    "name": "ipython",
    "version": 3
   },
   "file_extension": ".py",
   "mimetype": "text/x-python",
   "name": "python",
   "nbconvert_exporter": "python",
   "pygments_lexer": "ipython3",
   "version": "3.6.9"
  }
 },
 "nbformat": 4,
 "nbformat_minor": 2
}
