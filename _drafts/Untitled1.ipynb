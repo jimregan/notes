{
 "cells": [
  {
   "cell_type": "code",
   "execution_count": 1,
   "metadata": {},
   "outputs": [
    {
     "name": "stdout",
     "output_type": "stream",
     "text": [
      "Defaulting to user installation because normal site-packages is not writeable\n",
      "Collecting praatio\n",
      "  Downloading praatio-5.0.0-py3-none-any.whl (76 kB)\n",
      "\u001b[K     |████████████████████████████████| 76 kB 772 kB/s  eta 0:00:01\n",
      "\u001b[?25hRequirement already satisfied: typing-extensions in /usr/local/lib/python3.6/dist-packages (from praatio) (3.7.4.3)\n",
      "Installing collected packages: praatio\n",
      "Successfully installed praatio-5.0.0\n",
      "\u001b[33mWARNING: You are using pip version 21.2.4; however, version 21.3 is available.\n",
      "You should consider upgrading via the '/usr/bin/python3 -m pip install --upgrade pip' command.\u001b[0m\n"
     ]
    }
   ],
   "source": [
    "!pip install praatio"
   ]
  },
  {
   "cell_type": "code",
   "execution_count": 2,
   "metadata": {},
   "outputs": [],
   "source": [
    "from praatio import textgrid"
   ]
  },
  {
   "cell_type": "code",
   "execution_count": 4,
   "metadata": {},
   "outputs": [],
   "source": [
    "_BASE = \"/home/jim/Playing/snc_ga_co/\"\n",
    "_EG = \"FastSpeech2/preprocessed_data/TextGrid/SNC_Gearrscealta_an_Phiarsaigh_1931.TextGrid\"\n",
    "tg = textgrid.openTextgrid(_BASE + _EG, False)"
   ]
  },
  {
   "cell_type": "code",
   "execution_count": 7,
   "metadata": {},
   "outputs": [],
   "source": [
    "assert tg.tierNameList == ['Word', 'phones']"
   ]
  },
  {
   "cell_type": "code",
   "execution_count": 9,
   "metadata": {},
   "outputs": [],
   "source": [
    "word = tg.tierDict['Word']\n",
    "phones = tg.tierDict['phones']"
   ]
  },
  {
   "cell_type": "code",
   "execution_count": 12,
   "metadata": {},
   "outputs": [
    {
     "data": {
      "text/plain": [
       "[Interval(start=0.0, end=0.025, label='SILENCE_TOKEN'),\n",
       " Interval(start=0.025, end=0.375, label='Agus'),\n",
       " Interval(start=0.375, end=0.6, label='thug'),\n",
       " Interval(start=0.6, end=0.77, label='sé'),\n",
       " Interval(start=0.77, end=0.905, label='an'),\n",
       " Interval(start=0.905, end=1.29, label='doras'),\n",
       " Interval(start=1.29, end=1.73, label='amach'),\n",
       " Interval(start=1.73, end=1.93, label='air'),\n",
       " Interval(start=1.93, end=2.55, label='féin'),\n",
       " Interval(start=2.55, end=2.965, label='gan'),\n",
       " Interval(start=2.965, end=3.45, label='focal'),\n",
       " Interval(start=3.45, end=3.76, label='eile'),\n",
       " Interval(start=3.76, end=3.85, label='a'),\n",
       " Interval(start=3.85, end=4.29, label='rá'),\n",
       " Interval(start=4.29, end=4.39, label='.')]"
      ]
     },
     "execution_count": 12,
     "metadata": {},
     "output_type": "execute_result"
    }
   ],
   "source": [
    "word.entryList"
   ]
  },
  {
   "cell_type": "code",
   "execution_count": 11,
   "metadata": {},
   "outputs": [
    {
     "data": {
      "text/plain": [
       "[Interval(start=0.0, end=0.025, label='sil'),\n",
       " Interval(start=0.025, end=0.135, label='a'),\n",
       " Interval(start=0.135, end=0.205, label='g'),\n",
       " Interval(start=0.205, end=0.24, label='@'),\n",
       " Interval(start=0.24, end=0.375, label='s'),\n",
       " Interval(start=0.375, end=0.465, label='h'),\n",
       " Interval(start=0.465, end=0.545, label='u'),\n",
       " Interval(start=0.545, end=0.6, label='g'),\n",
       " Interval(start=0.6, end=0.71, label='sj'),\n",
       " Interval(start=0.71, end=0.77, label='e'),\n",
       " Interval(start=0.77, end=0.805, label='@'),\n",
       " Interval(start=0.805, end=0.905, label='nn'),\n",
       " Interval(start=0.905, end=0.95, label='d'),\n",
       " Interval(start=0.95, end=1.02, label='o'),\n",
       " Interval(start=1.02, end=1.125, label='r'),\n",
       " Interval(start=1.125, end=1.15, label='@'),\n",
       " Interval(start=1.15, end=1.29, label='s'),\n",
       " Interval(start=1.29, end=1.325, label='@'),\n",
       " Interval(start=1.325, end=1.455, label='m'),\n",
       " Interval(start=1.455, end=1.62, label='a'),\n",
       " Interval(start=1.62, end=1.73, label='x'),\n",
       " Interval(start=1.73, end=1.85, label='e'),\n",
       " Interval(start=1.85, end=1.93, label='rj'),\n",
       " Interval(start=1.93, end=2.045, label='fj'),\n",
       " Interval(start=2.045, end=2.28, label='ee'),\n",
       " Interval(start=2.28, end=2.55, label='nj'),\n",
       " Interval(start=2.55, end=2.78, label='g'),\n",
       " Interval(start=2.78, end=2.865, label='a'),\n",
       " Interval(start=2.865, end=2.965, label='nn'),\n",
       " Interval(start=2.965, end=3.075, label='f'),\n",
       " Interval(start=3.075, end=3.19, label='o'),\n",
       " Interval(start=3.19, end=3.3, label='k'),\n",
       " Interval(start=3.3, end=3.33, label='@'),\n",
       " Interval(start=3.33, end=3.45, label='ll'),\n",
       " Interval(start=3.45, end=3.59, label='e'),\n",
       " Interval(start=3.59, end=3.705, label='lj'),\n",
       " Interval(start=3.705, end=3.76, label='@'),\n",
       " Interval(start=3.76, end=3.85, label='@'),\n",
       " Interval(start=3.85, end=4.005, label='r'),\n",
       " Interval(start=4.005, end=4.29, label='aa'),\n",
       " Interval(start=4.29, end=4.39, label='sil')]"
      ]
     },
     "execution_count": 11,
     "metadata": {},
     "output_type": "execute_result"
    }
   ],
   "source": [
    "phones.entryList\n"
   ]
  },
  {
   "cell_type": "code",
   "execution_count": null,
   "metadata": {},
   "outputs": [],
   "source": []
  },
  {
   "cell_type": "code",
   "execution_count": 43,
   "metadata": {},
   "outputs": [
    {
     "ename": "KeyboardInterrupt",
     "evalue": "",
     "output_type": "error",
     "traceback": [
      "\u001b[0;31m---------------------------------------------------------------------------\u001b[0m",
      "\u001b[0;31mKeyboardInterrupt\u001b[0m                         Traceback (most recent call last)",
      "\u001b[0;32m<ipython-input-43-bbfdfdb5f5c7>\u001b[0m in \u001b[0;36m<module>\u001b[0;34m\u001b[0m\n\u001b[1;32m     13\u001b[0m     \u001b[0mcur_word\u001b[0m \u001b[0;34m=\u001b[0m \u001b[0mit_to_dict\u001b[0m\u001b[0;34m(\u001b[0m\u001b[0mword\u001b[0m\u001b[0;34m.\u001b[0m\u001b[0mentryList\u001b[0m\u001b[0;34m[\u001b[0m\u001b[0mi\u001b[0m\u001b[0;34m]\u001b[0m\u001b[0;34m)\u001b[0m\u001b[0;34m\u001b[0m\u001b[0;34m\u001b[0m\u001b[0m\n\u001b[1;32m     14\u001b[0m     \u001b[0mcur_word\u001b[0m\u001b[0;34m[\u001b[0m\u001b[0;34m'phones'\u001b[0m\u001b[0;34m]\u001b[0m \u001b[0;34m=\u001b[0m \u001b[0;34m[\u001b[0m\u001b[0;34m]\u001b[0m\u001b[0;34m\u001b[0m\u001b[0;34m\u001b[0m\u001b[0m\n\u001b[0;32m---> 15\u001b[0;31m     \u001b[0;32mwhile\u001b[0m \u001b[0mj\u001b[0m \u001b[0;34m<\u001b[0m \u001b[0mlen\u001b[0m\u001b[0;34m(\u001b[0m\u001b[0mphones\u001b[0m\u001b[0;34m.\u001b[0m\u001b[0mentryList\u001b[0m\u001b[0;34m)\u001b[0m\u001b[0;34m:\u001b[0m\u001b[0;34m\u001b[0m\u001b[0;34m\u001b[0m\u001b[0m\n\u001b[0m\u001b[1;32m     16\u001b[0m         \u001b[0;32mwhile\u001b[0m \u001b[0mphones\u001b[0m\u001b[0;34m.\u001b[0m\u001b[0mentryList\u001b[0m\u001b[0;34m[\u001b[0m\u001b[0mj\u001b[0m\u001b[0;34m]\u001b[0m\u001b[0;34m.\u001b[0m\u001b[0mend\u001b[0m \u001b[0;34m<=\u001b[0m \u001b[0mcur_word\u001b[0m\u001b[0;34m[\u001b[0m\u001b[0;34m'end'\u001b[0m\u001b[0;34m]\u001b[0m\u001b[0;34m:\u001b[0m\u001b[0;34m\u001b[0m\u001b[0;34m\u001b[0m\u001b[0m\n\u001b[1;32m     17\u001b[0m             \u001b[0mtmp_phone\u001b[0m \u001b[0;34m=\u001b[0m \u001b[0mit_to_dict\u001b[0m\u001b[0;34m(\u001b[0m\u001b[0mphones\u001b[0m\u001b[0;34m.\u001b[0m\u001b[0mentryList\u001b[0m\u001b[0;34m[\u001b[0m\u001b[0mj\u001b[0m\u001b[0;34m]\u001b[0m\u001b[0;34m)\u001b[0m\u001b[0;34m\u001b[0m\u001b[0;34m\u001b[0m\u001b[0m\n",
      "\u001b[0;31mKeyboardInterrupt\u001b[0m: "
     ]
    }
   ],
   "source": [
    "i = 0\n",
    "j = 0\n",
    "out = []\n",
    "\n",
    "def it_to_dict(it):\n",
    "    ret = {}\n",
    "    ret['start'] = it.start\n",
    "    ret['end'] = it.end\n",
    "    ret['label'] = it.label\n",
    "    return ret\n",
    "\n",
    "for i in range(0, len(word.entryList)):\n",
    "    cur_word = it_to_dict(word.entryList[i])\n",
    "    cur_word['phones'] = []\n",
    "    while j < len(phones.entryList):\n",
    "        while phones.entryList[j].end <= cur_word['end']:\n",
    "            if phones.entryList[j].end == cur_word['end']:\n",
    "                progress = True\n",
    "            tmp_phone = it_to_dict(phones.entryList[j])\n",
    "            cur_word['phones'].append(tmp_phone)\n",
    "            j += 1\n",
    "        if progress:\n",
    "            i += 1\n",
    "            progress = False\n",
    "            out.append(cur_word)\n"
   ]
  },
  {
   "cell_type": "code",
   "execution_count": 44,
   "metadata": {},
   "outputs": [
    {
     "data": {
      "text/plain": [
       "[]"
      ]
     },
     "execution_count": 44,
     "metadata": {},
     "output_type": "execute_result"
    }
   ],
   "source": [
    "out"
   ]
  }
 ],
 "metadata": {
  "kernelspec": {
   "display_name": "Python 3",
   "language": "python",
   "name": "python3"
  },
  "language_info": {
   "codemirror_mode": {
    "name": "ipython",
    "version": 3
   },
   "file_extension": ".py",
   "mimetype": "text/x-python",
   "name": "python",
   "nbconvert_exporter": "python",
   "pygments_lexer": "ipython3",
   "version": "3.6.9"
  }
 },
 "nbformat": 4,
 "nbformat_minor": 2
}
