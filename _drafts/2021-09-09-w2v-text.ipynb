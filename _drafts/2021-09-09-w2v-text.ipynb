{
 "cells": [
  {
   "cell_type": "code",
   "execution_count": null,
   "source": [
    "dir = \"/home/jim/abair-corpora/\"\n",
    "col_names = [\"id\", \"set\", \"gender\", \"url\", \"text\", \"phonemes\"]"
   ],
   "outputs": [],
   "metadata": {
    "id": "rQymYzv3h8dy"
   }
  },
  {
   "cell_type": "code",
   "execution_count": null,
   "source": [
    "import os"
   ],
   "outputs": [],
   "metadata": {
    "id": "S9xMWvRth8d7"
   }
  },
  {
   "cell_type": "code",
   "execution_count": null,
   "source": [
    "inputs = []\n",
    "for (path, dirs, files) in os.walk(dir):\n",
    "    if \"/comhra\" in path:\n",
    "        continue\n",
    "    if \"corpusfile.txt\" in files:\n",
    "        inputs.append(os.path.join(path, \"corpusfile.txt\"))"
   ],
   "outputs": [],
   "metadata": {
    "id": "1A4Vmchph8d8"
   }
  },
  {
   "cell_type": "code",
   "execution_count": null,
   "source": [
    "from datasets import load_dataset\n",
    "dset = load_dataset(\"csv\", data_files=inputs, column_names=col_names, delimiter=\"\\t\", split=\"train\", index_col=False)\n",
    "dset = dset.filter(lambda x: x['text'] is not None)"
   ],
   "outputs": [],
   "metadata": {
    "id": "G1ASIsJNh8d-"
   }
  },
  {
   "cell_type": "code",
   "execution_count": null,
   "source": [
    "def irish_lc(text):\n",
    "    def lcword(word):\n",
    "        if word[0:1] in \"nt\" and word[1:2] in \"AÁEÉIÍOÓUÚ\":\n",
    "            return word[0:1] + \"-\" + word[1:].lower()\n",
    "        else:\n",
    "            return word.lower()\n",
    "    return \" \".join(list(map(lcword, text.split(\" \"))))"
   ],
   "outputs": [],
   "metadata": {
    "id": "NNrSgZ31zqhp"
   }
  },
  {
   "cell_type": "code",
   "execution_count": null,
   "source": [
    "assert irish_lc(\"bhúr nAthair\") == \"bhúr n-athair\""
   ],
   "outputs": [],
   "metadata": {
    "id": "NoxP3T_Gzqhp"
   }
  },
  {
   "cell_type": "code",
   "execution_count": null,
   "source": [
    "import re\n",
    "chars_to_ignore_regex = '[\\,\\?\\.\\!\\-\\;\\:\\\"\\“\\%\\‘\\”…—–\\(\\)]'\n",
    "\n",
    "def remove_special_characters(batch):\n",
    "    batch[\"text\"] = batch[\"text\"].replace(\"’\", \"'\")\n",
    "    batch[\"text\"] = batch[\"text\"].replace(\"(Tor@m)\", \"\")\n",
    "    batch[\"text\"] = re.sub(chars_to_ignore_regex, '', irish_lc(batch[\"text\"]))\n",
    "    batch[\"text\"] = re.sub(' +$', '', batch[\"text\"])\n",
    "    batch[\"text\"] = batch[\"text\"].replace(\"\\xa0\", \" \")\n",
    "    batch[\"text\"] = batch[\"text\"].replace(\"\\ufeff\", \"\")\n",
    "    batch[\"text\"] = batch[\"text\"].replace(\"1983\", \"naoi déag ochtó a trí\")\n",
    "    batch[\"text\"] = batch[\"text\"].replace(\"tg4\", \"t g ceathair\")\n",
    "    batch[\"text\"] = re.sub('  +', ' ', irish_lc(batch[\"text\"])) + \" \"\n",
    "    return batch\n",
    "\n",
    "dset = dset.map(remove_special_characters)"
   ],
   "outputs": [],
   "metadata": {
    "id": "7dI1yCYCzqhq"
   }
  },
  {
   "cell_type": "code",
   "execution_count": null,
   "source": [
    "def is_all_alphabetic(batch):\n",
    "    sentence = batch[\"text\"]\n",
    "    for char in sentence:\n",
    "        if char not in \"aábcdeéfghiíjklmnoópqrstuúvwxyz' \":\n",
    "            return False\n",
    "    return True\n",
    "dset = dset.filter(is_all_alphabetic)"
   ],
   "outputs": [],
   "metadata": {
    "id": "gv_K5Gn5zqhq"
   }
  },
  {
   "cell_type": "code",
   "execution_count": null,
   "source": [
    "def extract_all_chars(batch):\n",
    "  all_text = \" \".join(batch[\"text\"])\n",
    "  vocab = list(set(all_text))\n",
    "  return {\"vocab\": [vocab], \"all_text\": [all_text]}\n",
    "\n",
    "vocab_train = dset.map(extract_all_chars, batched=True, batch_size=-1, keep_in_memory=True, remove_columns=dset.column_names)"
   ],
   "outputs": [],
   "metadata": {
    "id": "DWjbZSd9zqhr"
   }
  },
  {
   "cell_type": "code",
   "execution_count": null,
   "source": [
    "#vocab_list = list(set(vocab_train[\"vocab\"][0]) | set(vocab_test[\"vocab\"][0]))\n",
    "vocab_list = list(set(vocab_train[\"vocab\"][0]))\n",
    "\n",
    "vocab_dict = {v: k for k, v in enumerate(vocab_list)}\n",
    "print(vocab_dict)"
   ],
   "outputs": [],
   "metadata": {
    "id": "nRqOQaUqzqhs"
   }
  },
  {
   "cell_type": "code",
   "execution_count": null,
   "source": [
    "def fix_path(batch):\n",
    "    batch[\"audio\"] = batch[\"url\"].replace(\"https://www.abair.tcd.ie/asr_data_irish_audio/\", \"/media/phonetics/asr_data_irish/audio/\")\n",
    "    return batch\n",
    "\n",
    "dset = dset.map(fix_path)"
   ],
   "outputs": [],
   "metadata": {
    "id": "2pQxuKEKzqhs"
   }
  },
  {
   "cell_type": "code",
   "execution_count": null,
   "source": [
    "from pathlib import Path\n",
    "def check_paths(batch):\n",
    "    audio_path = Path(batch[\"audio\"])\n",
    "    return audio_path.is_file()\n",
    "dset = dset.filter(check_paths)"
   ],
   "outputs": [],
   "metadata": {
    "id": "vL5POq61zqht"
   }
  },
  {
   "cell_type": "code",
   "execution_count": null,
   "source": [
    "vocab_dict[\"|\"] = vocab_dict[\" \"]\n",
    "del vocab_dict[\" \"]"
   ],
   "outputs": [],
   "metadata": {
    "id": "y9Gha9Xrzqht"
   }
  },
  {
   "cell_type": "code",
   "execution_count": null,
   "source": [
    "vocab_dict[\"[UNK]\"] = len(vocab_dict)\n",
    "vocab_dict[\"[PAD]\"] = len(vocab_dict)\n",
    "print(len(vocab_dict))"
   ],
   "outputs": [],
   "metadata": {
    "id": "t3qlYIx2zqhu"
   }
  },
  {
   "cell_type": "code",
   "execution_count": null,
   "source": [
    "import json\n",
    "with open('/home/jim/w2v-out/vocab.json', 'w') as vocab_file:\n",
    "    json.dump(vocab_dict, vocab_file)"
   ],
   "outputs": [],
   "metadata": {
    "id": "ihIAG-9lzqhu"
   }
  },
  {
   "cell_type": "code",
   "execution_count": null,
   "source": [
    "from transformers import Wav2Vec2CTCTokenizer\n",
    "\n",
    "tokenizer = Wav2Vec2CTCTokenizer(\"/home/jim/w2v-out/vocab.json\", unk_token=\"[UNK]\", pad_token=\"[PAD]\", word_delimiter_token=\"|\")"
   ],
   "outputs": [],
   "metadata": {
    "id": "CnnzKZftzqhu"
   }
  },
  {
   "cell_type": "code",
   "execution_count": null,
   "source": [
    "from transformers import Wav2Vec2FeatureExtractor\n",
    "\n",
    "feature_extractor = Wav2Vec2FeatureExtractor(feature_size=1, sampling_rate=16000, padding_value=0.0, do_normalize=True, return_attention_mask=True)"
   ],
   "outputs": [],
   "metadata": {
    "id": "m8qWu1Xvzqhv"
   }
  },
  {
   "cell_type": "code",
   "execution_count": null,
   "source": [
    "from transformers import Wav2Vec2Processor\n",
    "\n",
    "processor = Wav2Vec2Processor(feature_extractor=feature_extractor, tokenizer=tokenizer)"
   ],
   "outputs": [],
   "metadata": {
    "id": "XkpLQl4izqhv"
   }
  },
  {
   "cell_type": "code",
   "execution_count": null,
   "source": [
    "import torchaudio\n",
    "\n",
    "def speech_file_to_array_fn(batch):\n",
    "    speech_array, sampling_rate = torchaudio.load(batch[\"audio\"])\n",
    "    batch[\"speech\"] = speech_array[0].numpy()\n",
    "    batch[\"sampling_rate\"] = sampling_rate\n",
    "    batch[\"target_text\"] = batch[\"text\"]\n",
    "    return batch\n",
    "\n",
    "dset = dset.map(speech_file_to_array_fn, remove_columns=dset.column_names)"
   ],
   "outputs": [],
   "metadata": {
    "id": "6_n-KTSYzqhw"
   }
  },
  {
   "cell_type": "code",
   "execution_count": null,
   "source": [
    "import librosa\n",
    "import numpy as np\n",
    "\n",
    "def resample(batch):\n",
    "    batch[\"duration\"] = librosa.get_duration(y=batch[\"speech\"], sr=batch[\"sampling_rate\"])\n",
    "\n",
    "    if batch[\"sampling_rate\"] != 16_000:\n",
    "        batch[\"speech\"] = librosa.resample(np.asarray(batch[\"speech\"]), batch[\"sampling_rate\"], 16_000)\n",
    "        batch[\"sampling_rate\"] = 16_000\n",
    "\n",
    "    return batch\n",
    "\n",
    "dset = dset.map(resample, num_proc=4)"
   ],
   "outputs": [],
   "metadata": {
    "id": "IgNBqGvvzqhw"
   }
  },
  {
   "cell_type": "code",
   "execution_count": null,
   "source": [
    "def filter_length(batch):\n",
    "    length = batch[\"duration\"]\n",
    "    return length > 1.0 and length < 9.0\n",
    "dset = dset.filter(filter_length)"
   ],
   "outputs": [],
   "metadata": {}
  },
  {
   "cell_type": "code",
   "execution_count": null,
   "source": [
    "def prepare_dataset(batch):\n",
    "    # check that all files have the correct sampling rate\n",
    "    assert (\n",
    "        len(set(batch[\"sampling_rate\"])) == 1\n",
    "    ), f\"Make sure all inputs have the same sampling rate of {processor.feature_extractor.sampling_rate}.\"\n",
    "\n",
    "    batch[\"input_values\"] = processor(batch[\"speech\"], sampling_rate=batch[\"sampling_rate\"][0]).input_values\n",
    "\n",
    "    with processor.as_target_processor():\n",
    "        batch[\"labels\"] = processor(batch[\"target_text\"]).input_ids\n",
    "    return batch\n",
    "\n",
    "dset = dset.map(prepare_dataset, remove_columns=dset.column_names, batch_size=8, num_proc=4, batched=True)"
   ],
   "outputs": [],
   "metadata": {}
  },
  {
   "cell_type": "code",
   "execution_count": null,
   "source": [
    "import torch\n",
    "\n",
    "from dataclasses import dataclass, field\n",
    "from typing import Any, Dict, List, Optional, Union\n",
    "\n",
    "@dataclass\n",
    "class DataCollatorCTCWithPadding:\n",
    "    \"\"\"\n",
    "    Data collator that will dynamically pad the inputs received.\n",
    "    Args:\n",
    "        processor (:class:`~transformers.Wav2Vec2Processor`)\n",
    "            The processor used for proccessing the data.\n",
    "        padding (:obj:`bool`, :obj:`str` or :class:`~transformers.tokenization_utils_base.PaddingStrategy`, `optional`, defaults to :obj:`True`):\n",
    "            Select a strategy to pad the returned sequences (according to the model's padding side and padding index)\n",
    "            among:\n",
    "            * :obj:`True` or :obj:`'longest'`: Pad to the longest sequence in the batch (or no padding if only a single\n",
    "              sequence if provided).\n",
    "            * :obj:`'max_length'`: Pad to a maximum length specified with the argument :obj:`max_length` or to the\n",
    "              maximum acceptable input length for the model if that argument is not provided.\n",
    "            * :obj:`False` or :obj:`'do_not_pad'` (default): No padding (i.e., can output a batch with sequences of\n",
    "              different lengths).\n",
    "        max_length (:obj:`int`, `optional`):\n",
    "            Maximum length of the ``input_values`` of the returned list and optionally padding length (see above).\n",
    "        max_length_labels (:obj:`int`, `optional`):\n",
    "            Maximum length of the ``labels`` returned list and optionally padding length (see above).\n",
    "        pad_to_multiple_of (:obj:`int`, `optional`):\n",
    "            If set will pad the sequence to a multiple of the provided value.\n",
    "            This is especially useful to enable the use of Tensor Cores on NVIDIA hardware with compute capability >=\n",
    "            7.5 (Volta).\n",
    "    \"\"\"\n",
    "\n",
    "    processor: Wav2Vec2Processor\n",
    "    padding: Union[bool, str] = True\n",
    "    max_length: Optional[int] = None\n",
    "    max_length_labels: Optional[int] = None\n",
    "    pad_to_multiple_of: Optional[int] = None\n",
    "    pad_to_multiple_of_labels: Optional[int] = None\n",
    "\n",
    "    def __call__(self, features: List[Dict[str, Union[List[int], torch.Tensor]]]) -> Dict[str, torch.Tensor]:\n",
    "        # split inputs and labels since they have to be of different lenghts and need\n",
    "        # different padding methods\n",
    "        input_features = [{\"input_values\": feature[\"input_values\"]} for feature in features]\n",
    "        label_features = [{\"input_ids\": feature[\"labels\"]} for feature in features]\n",
    "\n",
    "        batch = self.processor.pad(\n",
    "            input_features,\n",
    "            padding=self.padding,\n",
    "            max_length=self.max_length,\n",
    "            pad_to_multiple_of=self.pad_to_multiple_of,\n",
    "            return_tensors=\"pt\",\n",
    "        )\n",
    "        with self.processor.as_target_processor():\n",
    "            labels_batch = self.processor.pad(\n",
    "                label_features,\n",
    "                padding=self.padding,\n",
    "                max_length=self.max_length_labels,\n",
    "                pad_to_multiple_of=self.pad_to_multiple_of_labels,\n",
    "                return_tensors=\"pt\",\n",
    "            )\n",
    "\n",
    "        # replace padding with -100 to ignore loss correctly\n",
    "        labels = labels_batch[\"input_ids\"].masked_fill(labels_batch.attention_mask.ne(1), -100)\n",
    "\n",
    "        batch[\"labels\"] = labels\n",
    "\n",
    "        return batch"
   ],
   "outputs": [],
   "metadata": {
    "id": "jhkhlFhEzqhx"
   }
  },
  {
   "cell_type": "code",
   "execution_count": null,
   "source": [
    "data_collator = DataCollatorCTCWithPadding(processor=processor, padding=True)"
   ],
   "outputs": [],
   "metadata": {
    "id": "MFvH5YyVzqhy"
   }
  },
  {
   "cell_type": "code",
   "execution_count": null,
   "source": [
    "from datasets import load_metric\n",
    "wer_metric = load_metric(\"wer\")"
   ],
   "outputs": [],
   "metadata": {
    "id": "ieUmVLl8zqhy"
   }
  },
  {
   "cell_type": "code",
   "execution_count": null,
   "source": [
    "def compute_metrics(pred):\n",
    "    pred_logits = pred.predictions\n",
    "    pred_ids = np.argmax(pred_logits, axis=-1)\n",
    "\n",
    "    pred.label_ids[pred.label_ids == -100] = processor.tokenizer.pad_token_id\n",
    "\n",
    "    pred_str = processor.batch_decode(pred_ids)\n",
    "    # we do not want to group tokens when computing the metrics\n",
    "    label_str = processor.batch_decode(pred.label_ids, group_tokens=False)\n",
    "\n",
    "    wer = wer_metric.compute(predictions=pred_str, references=label_str)\n",
    "\n",
    "    return {\"wer\": wer}"
   ],
   "outputs": [],
   "metadata": {
    "id": "_Ght4Xnpzqhz"
   }
  },
  {
   "cell_type": "code",
   "execution_count": null,
   "source": [
    "from transformers import Wav2Vec2ForCTC\r\n",
    "\r\n",
    "model = Wav2Vec2ForCTC.from_pretrained(\r\n",
    "    \"facebook/wav2vec2-large-xlsr-53\",\r\n",
    "    attention_dropout=0.1,\r\n",
    "    hidden_dropout=0.1,\r\n",
    "    feat_proj_dropout=0.0,\r\n",
    "    mask_time_prob=0.05,\r\n",
    "    layerdrop=0.1,\r\n",
    "    gradient_checkpointing=False,\r\n",
    "    ctc_loss_reduction=\"mean\",\r\n",
    "    pad_token_id=processor.tokenizer.pad_token_id,\r\n",
    "    vocab_size=len(processor.tokenizer)\r\n",
    ")"
   ],
   "outputs": [],
   "metadata": {
    "id": "J2IIhnajzqhz"
   }
  },
  {
   "cell_type": "code",
   "execution_count": null,
   "source": [
    "model.freeze_feature_extractor()"
   ],
   "outputs": [],
   "metadata": {
    "id": "jTc18_YFzqh0"
   }
  },
  {
   "cell_type": "code",
   "execution_count": null,
   "source": [
    "from transformers import TrainingArguments\r\n",
    "\r\n",
    "training_args = TrainingArguments(\r\n",
    "  output_dir=\"/home/jim/w2v-out\",\r\n",
    "  group_by_length=True,\r\n",
    "  per_device_train_batch_size=16,\r\n",
    "  gradient_accumulation_steps=2,\r\n",
    "  evaluation_strategy=\"steps\",\r\n",
    "  num_train_epochs=30,\r\n",
    "  fp16=True,\r\n",
    "  save_steps=400,\r\n",
    "  eval_steps=400,\r\n",
    "  logging_steps=400,\r\n",
    "  learning_rate=5e-4,\r\n",
    "  warmup_steps=500,\r\n",
    "  save_total_limit=2,\r\n",
    ")"
   ],
   "outputs": [],
   "metadata": {
    "id": "lNFrmNI3zqh0"
   }
  },
  {
   "cell_type": "code",
   "execution_count": null,
   "source": [
    "dset = dset.shuffle(seed=42)"
   ],
   "outputs": [],
   "metadata": {}
  },
  {
   "cell_type": "code",
   "execution_count": null,
   "source": [
    "train_testvalid = dset.train_test_split(test_size=0.05)\n",
    "if not 'train' in train_testvalid:\n",
    "    raise Exception(\"train_test_split() is broken: no 'train'\")\n",
    "if not 'test' in train_testvalid:\n",
    "    raise Exception(\"train_test_split() is broken: no 'test'\")"
   ],
   "outputs": [],
   "metadata": {
    "id": "N2EM5KXSzqh1"
   }
  },
  {
   "cell_type": "code",
   "execution_count": null,
   "source": [
    "from transformers import Trainer\n",
    "\n",
    "trainer = Trainer(\n",
    "    model=model,\n",
    "    data_collator=data_collator,\n",
    "    args=training_args,\n",
    "    compute_metrics=compute_metrics,\n",
    "    train_dataset=train_testvalid[\"train\"],\n",
    "    eval_dataset=train_testvalid[\"test\"],\n",
    "    tokenizer=processor.feature_extractor,\n",
    ")"
   ],
   "outputs": [],
   "metadata": {
    "id": "fZFwkNIzzqh1"
   }
  },
  {
   "cell_type": "code",
   "execution_count": null,
   "source": [
    "trainer.train()"
   ],
   "outputs": [],
   "metadata": {
    "id": "GgCjAeF7zqh2"
   }
  },
  {
   "cell_type": "code",
   "execution_count": null,
   "source": [
    "trainer.save_model(\"/home/jim/w2v-test-run\")\n",
    "tokenizer.save_pretrained(\"/home/jim/w2v-test-run\")"
   ],
   "outputs": [],
   "metadata": {}
  }
 ],
 "metadata": {
  "colab": {
   "name": "2021-09-09-w2v-text.ipynb",
   "provenance": []
  },
  "interpreter": {
   "hash": "b174e98a0fa21d081469da6d7a7f39d57d9081431b3c051c1c000c3d6ee434aa"
  },
  "kernelspec": {
   "name": "python3",
   "display_name": "Python 3.9.4 64-bit ('base': conda)"
  },
  "language_info": {
   "codemirror_mode": {
    "name": "ipython",
    "version": 3
   },
   "file_extension": ".py",
   "mimetype": "text/x-python",
   "name": "python",
   "nbconvert_exporter": "python",
   "pygments_lexer": "ipython3",
   "version": "3.9.4"
  }
 },
 "nbformat": 4,
 "nbformat_minor": 2
}