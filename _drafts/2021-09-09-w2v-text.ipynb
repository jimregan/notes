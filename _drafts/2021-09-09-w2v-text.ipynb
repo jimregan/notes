{
  "nbformat": 4,
  "nbformat_minor": 0,
  "metadata": {
    "orig_nbformat": 4,
    "language_info": {
      "name": "python",
      "version": "3.9.4",
      "mimetype": "text/x-python",
      "codemirror_mode": {
        "name": "ipython",
        "version": 3
      },
      "kernelspec": {
        "display_name": "Python 3",
        "language": "python",
        "name": "python"
      },
      "pygments_lexer": "ipython3",
      "nbconvert_exporter": "python",
      "file_extension": ".py"
    },
    "colab": {
      "name": "2021-09-09-w2v-text.ipynb",
      "provenance": []
    },
    "kernelspec": {
      "name": "python3",
      "display_name": "Python 3.9.4 64-bit ('base': conda)"
    },
    "interpreter": {
      "hash": "b174e98a0fa21d081469da6d7a7f39d57d9081431b3c051c1c000c3d6ee434aa"
    }
  },
  "cells": [
    {
      "cell_type": "code",
      "metadata": {
        "id": "rQymYzv3h8dy"
      },
      "source": [
        "dir = \"/home/jim/Playing/cf/abair-corpora/\"\n",
        "col_names = [\"id\", \"set\", \"gender\", \"url\", \"text\", \"phonemes\"]"
      ],
      "execution_count": null,
      "outputs": []
    },
    {
      "cell_type": "code",
      "metadata": {
        "id": "S9xMWvRth8d7"
      },
      "source": [
        "import os"
      ],
      "execution_count": null,
      "outputs": []
    },
    {
      "cell_type": "code",
      "metadata": {
        "id": "1A4Vmchph8d8"
      },
      "source": [
        "inputs = []\n",
        "for (path, dirs, files) in os.walk(dir):\n",
        "    if \"/comhra/\" in path:\n",
        "        continue\n",
        "    if \"corpusfile.txt\" in files:\n",
        "        inputs.append(os.path.join(path, \"corpusfile.txt\"))"
      ],
      "execution_count": null,
      "outputs": []
    },
    {
      "cell_type": "code",
      "metadata": {
        "id": "G1ASIsJNh8d-"
      },
      "source": [
        "from datasets import load_dataset\n",
        "dset = load_dataset(\"csv\", data_files=inputs, column_names=col_names, delimiter=\"\\t\", split=\"train\", index_col=False)\n",
        "dset = dset.filter(lambda x: x['text'] is not None)"
      ],
      "execution_count": null,
      "outputs": []
    },
    {
      "cell_type": "code",
      "metadata": {
        "id": "NNrSgZ31zqhp"
      },
      "source": [
        "def irish_lc(text):\n",
        "    def lcword(word):\n",
        "        if word[0:1] in \"nt\" and word[1:2] in \"AÁEÉIÍOÓUÚ\":\n",
        "            return word[0:1] + \"-\" + word[1:].lower()\n",
        "        else:\n",
        "            return word.lower()\n",
        "    return \" \".join(list(map(lcword, text.split(\" \"))))"
      ],
      "execution_count": null,
      "outputs": []
    },
    {
      "cell_type": "code",
      "metadata": {
        "id": "NoxP3T_Gzqhp"
      },
      "source": [
        "assert irish_lc(\"bhúr nAthair\") == \"bhúr n-athair\""
      ],
      "execution_count": null,
      "outputs": []
    },
    {
      "cell_type": "code",
      "metadata": {
        "id": "7dI1yCYCzqhq"
      },
      "source": [
        "import re\n",
        "chars_to_ignore_regex = '[\\,\\?\\.\\!\\-\\;\\:\\\"\\“\\%\\‘\\”…—–\\(\\)]'\n",
        "\n",
        "def remove_special_characters(batch):\n",
        "    batch[\"text\"] = batch[\"text\"].replace(\"’\", \"'\")\n",
        "    batch[\"text\"] = batch[\"text\"].replace(\"(Tor@m)\", \"\")\n",
        "    batch[\"text\"] = re.sub(chars_to_ignore_regex, '', irish_lc(batch[\"text\"]))\n",
        "    batch[\"text\"] = batch[\"text\"].replace(\"\\xa0\", \" \")\n",
        "    batch[\"text\"] = batch[\"text\"].replace(\"\\ufeff\", \"\")\n",
        "    batch[\"text\"] = batch[\"text\"].replace(\"1983\", \"naoi déag ochtó a trí\")\n",
        "    batch[\"text\"] = batch[\"text\"].replace(\"tg4\", \"t g ceathair\")\n",
        "    batch[\"text\"] = re.sub('  +', ' ', irish_lc(batch[\"text\"])) + \" \"\n",
        "    return batch\n",
        "\n",
        "dset = dset.map(remove_special_characters)"
      ],
      "execution_count": null,
      "outputs": []
    },
    {
      "cell_type": "code",
      "metadata": {
        "id": "gv_K5Gn5zqhq"
      },
      "source": [
        "def is_all_alphabetic(batch):\n",
        "    sentence = batch[\"text\"]\n",
        "    for char in sentence:\n",
        "        if char not in \"aábcdeéfghiíjklmnoópqrstuúvwxyz' \":\n",
        "            return False\n",
        "    return True\n",
        "dset = dset.filter(is_all_alphabetic)"
      ],
      "execution_count": null,
      "outputs": []
    },
    {
      "cell_type": "code",
      "metadata": {
        "id": "DWjbZSd9zqhr"
      },
      "source": [
        "def extract_all_chars(batch):\n",
        "  all_text = \" \".join(batch[\"text\"])\n",
        "  vocab = list(set(all_text))\n",
        "  return {\"vocab\": [vocab], \"all_text\": [all_text]}\n",
        "\n",
        "vocab_train = dset.map(extract_all_chars, batched=True, batch_size=-1, keep_in_memory=True, remove_columns=dset.column_names)"
      ],
      "execution_count": null,
      "outputs": []
    },
    {
      "cell_type": "code",
      "metadata": {
        "id": "nRqOQaUqzqhs"
      },
      "source": [
        "#vocab_list = list(set(vocab_train[\"vocab\"][0]) | set(vocab_test[\"vocab\"][0]))\n",
        "vocab_list = list(set(vocab_train[\"vocab\"][0]))\n",
        "\n",
        "vocab_dict = {v: k for k, v in enumerate(vocab_list)}\n",
        "print(vocab_dict)"
      ],
      "execution_count": null,
      "outputs": []
    },
    {
      "cell_type": "code",
      "metadata": {
        "id": "2pQxuKEKzqhs"
      },
      "source": [
        "def fix_path(batch):\n",
        "    batch[\"audio\"] = batch[\"url\"].replace(\"https://www.abair.tcd.ie/asr_data_irish_audio/\", \"/media/storage/phonetics/asr_data_irish/audio/\")\n",
        "    return batch\n",
        "\n",
        "dset = dset.map(fix_path)"
      ],
      "execution_count": null,
      "outputs": []
    },
    {
      "cell_type": "code",
      "metadata": {
        "id": "vL5POq61zqht"
      },
      "source": [
        "from pathlib import Path\n",
        "def check_paths(batch):\n",
        "    audio_path = Path(batch[\"audio\"])\n",
        "    return audio_path.is_file()\n",
        "dset = dset.filter(check_paths)"
      ],
      "execution_count": null,
      "outputs": []
    },
    {
      "cell_type": "code",
      "metadata": {
        "id": "y9Gha9Xrzqht"
      },
      "source": [
        "vocab_dict[\"|\"] = vocab_dict[\" \"]\n",
        "del vocab_dict[\" \"]"
      ],
      "execution_count": null,
      "outputs": []
    },
    {
      "cell_type": "code",
      "metadata": {
        "id": "t3qlYIx2zqhu"
      },
      "source": [
        "vocab_dict[\"[UNK]\"] = len(vocab_dict)\n",
        "vocab_dict[\"[PAD]\"] = len(vocab_dict)\n",
        "print(len(vocab_dict))"
      ],
      "execution_count": null,
      "outputs": []
    },
    {
      "cell_type": "code",
      "metadata": {
        "id": "ihIAG-9lzqhu"
      },
      "source": [
        "import json\n",
        "with open('/home/jim/Playing/w2v-out/vocab.json', 'w') as vocab_file:\n",
        "    json.dump(vocab_dict, vocab_file)"
      ],
      "execution_count": null,
      "outputs": []
    },
    {
      "cell_type": "code",
      "metadata": {
        "id": "CnnzKZftzqhu"
      },
      "source": [
        "from transformers import Wav2Vec2CTCTokenizer\n",
        "\n",
        "tokenizer = Wav2Vec2CTCTokenizer(\"/home/jim/Playing/w2v-out/vocab.json\", unk_token=\"[UNK]\", pad_token=\"[PAD]\", word_delimiter_token=\"|\")"
      ],
      "execution_count": null,
      "outputs": []
    },
    {
      "cell_type": "code",
      "metadata": {
        "id": "m8qWu1Xvzqhv"
      },
      "source": [
        "from transformers import Wav2Vec2FeatureExtractor\n",
        "\n",
        "feature_extractor = Wav2Vec2FeatureExtractor(feature_size=1, sampling_rate=16000, padding_value=0.0, do_normalize=True, return_attention_mask=True)"
      ],
      "execution_count": null,
      "outputs": []
    },
    {
      "cell_type": "code",
      "metadata": {
        "id": "XkpLQl4izqhv"
      },
      "source": [
        "from transformers import Wav2Vec2Processor\n",
        "\n",
        "processor = Wav2Vec2Processor(feature_extractor=feature_extractor, tokenizer=tokenizer)"
      ],
      "execution_count": null,
      "outputs": []
    },
    {
      "cell_type": "code",
      "metadata": {
        "id": "6_n-KTSYzqhw"
      },
      "source": [
        "import torchaudio\n",
        "\n",
        "def speech_file_to_array_fn(batch):\n",
        "    speech_array, sampling_rate = torchaudio.load(batch[\"audio\"])\n",
        "    batch[\"speech\"] = speech_array[0].numpy()\n",
        "    batch[\"sampling_rate\"] = sampling_rate\n",
        "    batch[\"target_text\"] = batch[\"text\"]\n",
        "    return batch\n",
        "\n",
        "dset = dset.map(speech_file_to_array_fn, remove_columns=dset.column_names)"
      ],
      "execution_count": null,
      "outputs": []
    },
    {
      "cell_type": "code",
      "metadata": {
        "id": "IgNBqGvvzqhw"
      },
      "source": [
        "import librosa\n",
        "import numpy as np\n",
        "\n",
        "def resample(batch):\n",
        "    if batch[\"sampling_rate\"] != 16_000:\n",
        "        batch[\"speech\"] = librosa.resample(np.asarray(batch[\"speech\"]), batch[\"sampling_rate\"], 16_000)\n",
        "        batch[\"sampling_rate\"] = 16_000\n",
        "    return batch\n",
        "\n",
        "dset = dset.map(resample, num_proc=4)"
      ],
      "execution_count": null,
      "outputs": []
    },
    {
      "cell_type": "code",
      "metadata": {
        "id": "jhkhlFhEzqhx"
      },
      "source": [
        "import torch\n",
        "\n",
        "from dataclasses import dataclass, field\n",
        "from typing import Any, Dict, List, Optional, Union\n",
        "\n",
        "@dataclass\n",
        "class DataCollatorCTCWithPadding:\n",
        "    \"\"\"\n",
        "    Data collator that will dynamically pad the inputs received.\n",
        "    Args:\n",
        "        processor (:class:`~transformers.Wav2Vec2Processor`)\n",
        "            The processor used for proccessing the data.\n",
        "        padding (:obj:`bool`, :obj:`str` or :class:`~transformers.tokenization_utils_base.PaddingStrategy`, `optional`, defaults to :obj:`True`):\n",
        "            Select a strategy to pad the returned sequences (according to the model's padding side and padding index)\n",
        "            among:\n",
        "            * :obj:`True` or :obj:`'longest'`: Pad to the longest sequence in the batch (or no padding if only a single\n",
        "              sequence if provided).\n",
        "            * :obj:`'max_length'`: Pad to a maximum length specified with the argument :obj:`max_length` or to the\n",
        "              maximum acceptable input length for the model if that argument is not provided.\n",
        "            * :obj:`False` or :obj:`'do_not_pad'` (default): No padding (i.e., can output a batch with sequences of\n",
        "              different lengths).\n",
        "        max_length (:obj:`int`, `optional`):\n",
        "            Maximum length of the ``input_values`` of the returned list and optionally padding length (see above).\n",
        "        max_length_labels (:obj:`int`, `optional`):\n",
        "            Maximum length of the ``labels`` returned list and optionally padding length (see above).\n",
        "        pad_to_multiple_of (:obj:`int`, `optional`):\n",
        "            If set will pad the sequence to a multiple of the provided value.\n",
        "            This is especially useful to enable the use of Tensor Cores on NVIDIA hardware with compute capability >=\n",
        "            7.5 (Volta).\n",
        "    \"\"\"\n",
        "\n",
        "    processor: Wav2Vec2Processor\n",
        "    padding: Union[bool, str] = True\n",
        "    max_length: Optional[int] = None\n",
        "    max_length_labels: Optional[int] = None\n",
        "    pad_to_multiple_of: Optional[int] = None\n",
        "    pad_to_multiple_of_labels: Optional[int] = None\n",
        "\n",
        "    def __call__(self, features: List[Dict[str, Union[List[int], torch.Tensor]]]) -> Dict[str, torch.Tensor]:\n",
        "        # split inputs and labels since they have to be of different lenghts and need\n",
        "        # different padding methods\n",
        "        input_features = [{\"input_values\": feature[\"input_values\"]} for feature in features]\n",
        "        label_features = [{\"input_ids\": feature[\"labels\"]} for feature in features]\n",
        "\n",
        "        batch = self.processor.pad(\n",
        "            input_features,\n",
        "            padding=self.padding,\n",
        "            max_length=self.max_length,\n",
        "            pad_to_multiple_of=self.pad_to_multiple_of,\n",
        "            return_tensors=\"pt\",\n",
        "        )\n",
        "        with self.processor.as_target_processor():\n",
        "            labels_batch = self.processor.pad(\n",
        "                label_features,\n",
        "                padding=self.padding,\n",
        "                max_length=self.max_length_labels,\n",
        "                pad_to_multiple_of=self.pad_to_multiple_of_labels,\n",
        "                return_tensors=\"pt\",\n",
        "            )\n",
        "\n",
        "        # replace padding with -100 to ignore loss correctly\n",
        "        labels = labels_batch[\"input_ids\"].masked_fill(labels_batch.attention_mask.ne(1), -100)\n",
        "\n",
        "        batch[\"labels\"] = labels\n",
        "\n",
        "        return batch"
      ],
      "execution_count": null,
      "outputs": []
    },
    {
      "cell_type": "code",
      "metadata": {
        "id": "MFvH5YyVzqhy"
      },
      "source": [
        "data_collator = DataCollatorCTCWithPadding(processor=processor, padding=True)"
      ],
      "execution_count": null,
      "outputs": []
    },
    {
      "cell_type": "code",
      "metadata": {
        "id": "ieUmVLl8zqhy"
      },
      "source": [
        "from datasets import load_metric\n",
        "wer_metric = load_metric(\"wer\")"
      ],
      "execution_count": null,
      "outputs": []
    },
    {
      "cell_type": "code",
      "metadata": {
        "id": "_Ght4Xnpzqhz"
      },
      "source": [
        "def compute_metrics(pred):\n",
        "    pred_logits = pred.predictions\n",
        "    pred_ids = np.argmax(pred_logits, axis=-1)\n",
        "\n",
        "    pred.label_ids[pred.label_ids == -100] = processor.tokenizer.pad_token_id\n",
        "\n",
        "    pred_str = processor.batch_decode(pred_ids)\n",
        "    # we do not want to group tokens when computing the metrics\n",
        "    label_str = processor.batch_decode(pred.label_ids, group_tokens=False)\n",
        "\n",
        "    wer = wer_metric.compute(predictions=pred_str, references=label_str)\n",
        "\n",
        "    return {\"wer\": wer}"
      ],
      "execution_count": null,
      "outputs": []
    },
    {
      "cell_type": "code",
      "metadata": {
        "id": "J2IIhnajzqhz"
      },
      "source": [
        "from transformers import Wav2Vec2ForCTC\n",
        "\n",
        "model = Wav2Vec2ForCTC.from_pretrained(\n",
        "    \"facebook/wav2vec2-large-xlsr-53\",\n",
        "    attention_dropout=0.1,\n",
        "    hidden_dropout=0.1,\n",
        "    feat_proj_dropout=0.0,\n",
        "    mask_time_prob=0.05,\n",
        "    layerdrop=0.1,\n",
        "    gradient_checkpointing=True,\n",
        "    ctc_loss_reduction=\"mean\",\n",
        "    pad_token_id=processor.tokenizer.pad_token_id,\n",
        "    vocab_size=len(processor.tokenizer)\n",
        ")"
      ],
      "execution_count": null,
      "outputs": []
    },
    {
      "cell_type": "code",
      "metadata": {
        "id": "jTc18_YFzqh0"
      },
      "source": [
        "model.freeze_feature_extractor()"
      ],
      "execution_count": null,
      "outputs": []
    },
    {
      "cell_type": "code",
      "metadata": {
        "id": "lNFrmNI3zqh0"
      },
      "source": [
        "from transformers import TrainingArguments\n",
        "\n",
        "training_args = TrainingArguments(\n",
        "  output_dir=\"/home/jim/Playing/w2v-out\",\n",
        "  group_by_length=True,\n",
        "  per_device_train_batch_size=16,\n",
        "  gradient_accumulation_steps=2,\n",
        "  evaluation_strategy=\"steps\",\n",
        "  num_train_epochs=30,\n",
        "  fp16=True,\n",
        "  save_steps=400,\n",
        "  eval_steps=400,\n",
        "  logging_steps=400,\n",
        "  learning_rate=3e-4,\n",
        "  warmup_steps=500,\n",
        "  save_total_limit=2,\n",
        ")"
      ],
      "execution_count": null,
      "outputs": []
    },
    {
      "cell_type": "code",
      "metadata": {
        "id": "N2EM5KXSzqh1"
      },
      "source": [
        "train_testvalid = dset.train_test_split(test_size=0.05)\n",
        "if not 'train' in train_testvalid:\n",
        "    raise Exception(\"train_test_split() is broken: no 'train'\")\n",
        "if not 'test' in train_testvalid:\n",
        "    raise Exception(\"train_test_split() is broken: no 'test'\")"
      ],
      "execution_count": null,
      "outputs": []
    },
    {
      "cell_type": "code",
      "metadata": {
        "id": "fZFwkNIzzqh1"
      },
      "source": [
        "from transformers import Trainer\n",
        "\n",
        "trainer = Trainer(\n",
        "    model=model,\n",
        "    data_collator=data_collator,\n",
        "    args=training_args,\n",
        "    compute_metrics=compute_metrics,\n",
        "    train_dataset=train_testvalid[\"train\"],\n",
        "    eval_dataset=train_testvalid[\"test\"],\n",
        "    tokenizer=processor.feature_extractor,\n",
        ")"
      ],
      "execution_count": null,
      "outputs": []
    },
    {
      "cell_type": "code",
      "metadata": {
        "id": "GgCjAeF7zqh2"
      },
      "source": [
        "trainer.train()"
      ],
      "execution_count": null,
      "outputs": []
    }
  ]
}