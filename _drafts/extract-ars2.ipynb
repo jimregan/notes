{
 "cells": [
  {
   "cell_type": "code",
   "execution_count": 1,
   "metadata": {},
   "outputs": [],
   "source": [
    "!grep -i '\\(terror\\|teror\\)' ~/rd_ctm_edit/* | awk -F':' '{print $1}'|sort|uniq > /tmp/terror_files"
   ]
  },
  {
   "cell_type": "code",
   "execution_count": 3,
   "metadata": {},
   "outputs": [],
   "source": [
    "FILES=!cat /tmp/terror_files | shuf | head -n 5"
   ]
  },
  {
   "cell_type": "code",
   "execution_count": 7,
   "metadata": {},
   "outputs": [],
   "source": [
    "UPPER_BOUND = 60 * 7\n",
    "LOWER_BOUND = 60 * 6"
   ]
  },
  {
   "cell_type": "code",
   "execution_count": 8,
   "metadata": {},
   "outputs": [
    {
     "data": {
      "text/plain": [
       "379"
      ]
     },
     "execution_count": 8,
     "metadata": {},
     "output_type": "execute_result"
    }
   ],
   "source": [
    "import random\n",
    "random.randrange(LOWER_BOUND, UPPER_BOUND)"
   ]
  },
  {
   "cell_type": "code",
   "execution_count": 9,
   "metadata": {},
   "outputs": [],
   "source": [
    "def slurp(filename):\n",
    "    lines = []\n",
    "    with open(filename) as inputfile:\n",
    "        for line in inputfile.readlines():\n",
    "            if line.strip() != \"\":\n",
    "                lines.append(line.strip())\n",
    "    return lines"
   ]
  },
  {
   "cell_type": "code",
   "execution_count": 10,
   "metadata": {},
   "outputs": [],
   "source": [
    "from pathlib import Path\n",
    "BASEPATH = Path(\"/home/joregan/rd_ctm_edit\")"
   ]
  },
  {
   "cell_type": "code",
   "execution_count": 11,
   "metadata": {},
   "outputs": [],
   "source": [
    "testing = slurp(str(BASEPATH / \"H9C120210930fs\"))"
   ]
  },
  {
   "cell_type": "code",
   "execution_count": 14,
   "metadata": {},
   "outputs": [],
   "source": [
    "def get_terror_lines(lines):\n",
    "    outlines = []\n",
    "    for line in lines:\n",
    "        if \"terror\" in line.lower() or \"teror\" in line.lower():\n",
    "            outlines.append(line)\n",
    "    return outlines"
   ]
  },
  {
   "cell_type": "code",
   "execution_count": 16,
   "metadata": {},
   "outputs": [],
   "source": [
    "def file_upper_bound(lines):\n",
    "    last = lines[-1]\n",
    "    parts = last.split(\" \")\n",
    "    return float(parts[2]) + float(parts[3])"
   ]
  },
  {
   "cell_type": "code",
   "execution_count": 25,
   "metadata": {},
   "outputs": [],
   "source": [
    "def file_upper_bound_start(lines):\n",
    "    last = lines[-1]\n",
    "    parts = last.split(\" \")\n",
    "    return float(parts[2])"
   ]
  },
  {
   "cell_type": "code",
   "execution_count": 42,
   "metadata": {},
   "outputs": [],
   "source": [
    "def get_random_mention(lines):\n",
    "    terror_lines = get_terror_lines(lines)\n",
    "    if len(terror_lines) == 1:\n",
    "        return terror_lines[0]\n",
    "    randn = random.randrange(0, len(terror_lines) - 1)\n",
    "    return terror_lines[randn]"
   ]
  },
  {
   "cell_type": "code",
   "execution_count": 43,
   "metadata": {},
   "outputs": [],
   "source": [
    "def random_time(lines):\n",
    "    random_line = get_random_mention(lines)\n",
    "    parts = random_line.split(\" \")\n",
    "    start_time = float(parts[2])\n",
    "    return start_time, random_line\n",
    "\n",
    "def time_difference(line1, line2):\n",
    "    parts1 = line1.split(\" \")\n",
    "    parts2 = line2.split(\" \")\n",
    "    start = float(parts1[2])\n",
    "    end = float(parts2[2]) + float(parts2[3])\n",
    "    return end - start\n",
    "\n",
    "def do_the_thing(lines):\n",
    "    upper = file_upper_bound_start(lines)\n",
    "    focal = upper\n",
    "    line = \"\"\n",
    "    while focal >= upper:\n",
    "        focal, line = random_time(lines)\n",
    "    line_index = lines.index(line)\n",
    "    idx_up = idx_down = line_index\n",
    "    while idx_up < len(lines) and idx_down > 0:\n",
    "        if time_difference(lines[idx_down], lines[idx_up]) < UPPER_BOUND:\n",
    "            if idx_up < len(lines):\n",
    "                idx_up += 1\n",
    "            if idx_down > 0:\n",
    "                idx_down -= 1\n",
    "        elif time_difference(lines[idx_down], lines[idx_up]) > UPPER_BOUND:\n",
    "            idx_up -= 1\n",
    "            idx_down += 1\n",
    "            break\n",
    "        else:\n",
    "            break\n",
    "    return lines[idx_down:idx_up]\n"
   ]
  },
  {
   "cell_type": "code",
   "execution_count": 44,
   "metadata": {},
   "outputs": [
    {
     "data": {
      "text/plain": [
       "418.8399999999997"
      ]
     },
     "execution_count": 44,
     "metadata": {},
     "output_type": "execute_result"
    }
   ],
   "source": [
    "a = do_the_thing(testing)\n",
    "time_difference(a[0], a[-1])"
   ]
  },
  {
   "cell_type": "code",
   "execution_count": null,
   "metadata": {},
   "outputs": [],
   "source": [
    "segments = []\n",
    "with open(\"/tmp/run_ffmpeg1.sh\", \"w\") as runsh, open(\"/tmp/segments.ctm\", \"w\") as segctm:\n",
    "    for filename in FILES:\n",
    "        lines = slurp(filename)\n",
    "        seg = do_the_thing(lines)\n",
    "        segments.append(seg)\n",
    "        # stem = Path(filename).stem\n",
    "        parts = lines[0].split(\" \")\n",
    "        vidid = parts[0]\n",
    "        runsh.write(f\"ffmpeg -i /sbtal/riksdag-video/{vidid}_480p.mp4 -acodec pcm_s16le -ac 1 -ar 16000 /tmp/{vidid}.wav\\n\")\n",
    "        for segline in seg:\n",
    "            segctm.write(segline + \"\\n\")\n",
    "        segctm.write(\"\\n\")\n",
    "    "
   ]
  },
  {
   "cell_type": "code",
   "execution_count": null,
   "metadata": {},
   "outputs": [],
   "source": [
    "!bash /tmp/run_ffmpeg1.sh"
   ]
  },
  {
   "cell_type": "code",
   "execution_count": 47,
   "metadata": {},
   "outputs": [],
   "source": [
    "from pydub import AudioSegment\n",
    "parameters=[\"-ac\", \"1\", \"-acodec\", \"pcm_s16le\", \"-ar\", \"16000\"]\n",
    "for seg in segments:\n",
    "    first = seg[0].split(\" \")\n",
    "    last = seg[-1].split(\" \")\n",
    "    vidid = first[0]\n",
    "    start = int(float(first[2]) * 1000)\n",
    "    end = int(float(last[2]) + float(last[3]) * 1000)\n",
    "    wavaudio = AudioSegment.from_wav(f\"/tmp/{vidid}.wav\")\n",
    "    sect = wavaudio[start:end]\n",
    "    sect.export(f\"/tmp/SEG_{vidid}.wav\", format=\"wav\", parameters=parameters)"
   ]
  }
 ],
 "metadata": {
  "kernelspec": {
   "display_name": "whisper-v3",
   "language": "python",
   "name": "python3"
  },
  "language_info": {
   "codemirror_mode": {
    "name": "ipython",
    "version": 3
   },
   "file_extension": ".py",
   "mimetype": "text/x-python",
   "name": "python",
   "nbconvert_exporter": "python",
   "pygments_lexer": "ipython3",
   "version": "3.10.13"
  }
 },
 "nbformat": 4,
 "nbformat_minor": 2
}
