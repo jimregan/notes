{
  "cells": [
    {
      "cell_type": "markdown",
      "metadata": {
        "id": "qrYX_2QNE_3Y"
      },
      "source": [
        "# Convert Folkets Swedish pronunciations to IPA\n",
        "\n",
        "> Mapping to soundfiles\n",
        "\n",
        "- toc: false\n",
        "- badges: true\n",
        "- branch: master\n",
        "- categories: [folkets, swedish, pronunciation, icu]"
      ]
    },
    {
      "cell_type": "markdown",
      "source": [
        "Based on [this]({% post_url 2022-01-12-convert-nst-lexicon %}) and [this]({% post_url 2024-10-12-folkets %})"
      ],
      "metadata": {
        "id": "ZI-5jcvuF8k8"
      }
    },
    {
      "cell_type": "code",
      "execution_count": 1,
      "metadata": {
        "id": "XatNYkLDE_3Z",
        "outputId": "1d0e8d98-9d23-472c-d7c3-0995c9cbe201",
        "colab": {
          "base_uri": "https://localhost:8080/"
        }
      },
      "outputs": [
        {
          "output_type": "stream",
          "name": "stdout",
          "text": [
            "Collecting pyicu\n",
            "  Downloading PyICU-2.14.tar.gz (263 kB)\n",
            "\u001b[?25l     \u001b[90m━━━━━━━━━━━━━━━━━━━━━━━━━━━━━━━━━━━━━━━━\u001b[0m \u001b[32m0.0/263.9 kB\u001b[0m \u001b[31m?\u001b[0m eta \u001b[36m-:--:--\u001b[0m\r\u001b[2K     \u001b[91m━━━━━━━━━━━━━━━━━━━━━\u001b[0m\u001b[91m╸\u001b[0m\u001b[90m━━━━━━━━━━━━━━━━━━\u001b[0m \u001b[32m143.4/263.9 kB\u001b[0m \u001b[31m5.3 MB/s\u001b[0m eta \u001b[36m0:00:01\u001b[0m\r\u001b[2K     \u001b[90m━━━━━━━━━━━━━━━━━━━━━━━━━━━━━━━━━━━━━━━━\u001b[0m \u001b[32m263.9/263.9 kB\u001b[0m \u001b[31m4.4 MB/s\u001b[0m eta \u001b[36m0:00:00\u001b[0m\n",
            "\u001b[?25h  Installing build dependencies ... \u001b[?25l\u001b[?25hdone\n",
            "  Getting requirements to build wheel ... \u001b[?25l\u001b[?25hdone\n",
            "  Preparing metadata (pyproject.toml) ... \u001b[?25l\u001b[?25hdone\n",
            "Building wheels for collected packages: pyicu\n",
            "  Building wheel for pyicu (pyproject.toml) ... \u001b[?25l\u001b[?25hdone\n",
            "  Created wheel for pyicu: filename=PyICU-2.14-cp311-cp311-linux_x86_64.whl size=1825014 sha256=74fea2289ae3636983ec52308d636b2a1333b2ce7bc91667a14f4c6bfa891534\n",
            "  Stored in directory: /root/.cache/pip/wheels/61/f8/dc/c70316d1bb1cae6cf19f17c673d2d198fadc78a6ee2b05091b\n",
            "Successfully built pyicu\n",
            "Installing collected packages: pyicu\n",
            "Successfully installed pyicu-2.14\n"
          ]
        }
      ],
      "source": [
        "!pip install pyicu"
      ]
    },
    {
      "cell_type": "markdown",
      "metadata": {
        "id": "kI7DMRkQE_3Z"
      },
      "source": [
        "> Get data"
      ]
    },
    {
      "cell_type": "code",
      "execution_count": 2,
      "metadata": {
        "id": "YJRNCCF5E_3Z"
      },
      "outputs": [],
      "source": [
        "DICT=\"https://folkets-lexikon.csc.kth.se/folkets/folkets_sv_en_public.xml\""
      ]
    },
    {
      "cell_type": "code",
      "execution_count": 3,
      "metadata": {
        "id": "zswEEzkFE_3Z"
      },
      "outputs": [],
      "source": [
        "import requests\n",
        "\n",
        "req = requests.get(DICT)"
      ]
    },
    {
      "cell_type": "code",
      "source": [
        "assert req.status_code == 200"
      ],
      "metadata": {
        "id": "Q6oZN6L7FVxw"
      },
      "execution_count": 4,
      "outputs": []
    },
    {
      "cell_type": "code",
      "source": [
        "import xml.etree.ElementTree as ET\n",
        "\n",
        "tree = ET.fromstring(req.text)"
      ],
      "metadata": {
        "id": "Bl5oX3RPFXgH"
      },
      "execution_count": 5,
      "outputs": []
    },
    {
      "cell_type": "code",
      "source": [
        "words =  []\n",
        "for word_elem in tree.findall(\"word\"):\n",
        "    word = {\n",
        "        \"word\": word_elem.attrib[\"value\"],\n",
        "    }\n",
        "    for attrib in [\"comment\", \"lang\", \"class\"]:\n",
        "        if attrib in word_elem.attrib:\n",
        "            word[attrib] = word_elem.attrib[attrib]\n",
        "    phon = word_elem.find(\"phonetic\")\n",
        "    if phon is not None:\n",
        "        if \"soundFile\" in phon.attrib:\n",
        "            word[\"soundfile\"] = phon.attrib[\"soundFile\"]\n",
        "        word[\"transcription\"] = phon.attrib[\"value\"]\n",
        "    words.append(word)"
      ],
      "metadata": {
        "id": "Gz5pU4tPFaMV"
      },
      "execution_count": 6,
      "outputs": []
    },
    {
      "cell_type": "code",
      "source": [
        "CHAR_REPLACE = {\n",
        "    \"à\": \"0340\",\n",
        "    \"é\": \"0351\",\n",
        "    \"Ö\": \"0326\",\n",
        "    \"ö\": \"0366\",\n",
        "    \"Ä\": \"0304\",\n",
        "    \"ä\": \"0344\",\n",
        "    \"Å\": \"0305\",\n",
        "    \"å\": \"0345\",\n",
        "    \"ê\": \"0352\",\n",
        "    \"&#39;\": \"'\",\n",
        "}"
      ],
      "metadata": {
        "id": "gxQdEbvdFeND"
      },
      "execution_count": 7,
      "outputs": []
    },
    {
      "cell_type": "markdown",
      "metadata": {
        "id": "9HU0SxkCE_3a"
      },
      "source": [
        "> Set up transliterator"
      ]
    },
    {
      "cell_type": "code",
      "execution_count": 36,
      "metadata": {
        "id": "9qaYDxrcE_3a"
      },
      "outputs": [],
      "source": [
        "TRANSLIT = \"\"\"\n",
        "r \\+ n → ɳ ;\n",
        "r \\+ s → ʂ ;\n",
        "r \\+ l → ɭ ;\n",
        "r \\+ t \\: → ʈ ;\n",
        "r \\+ t → ʈ ;\n",
        "r \\+ d → ɖ ;\n",
        "\n",
        "A → ˈ a ;\n",
        "U → ˈ u ;\n",
        "Ä \\: → ˈ ɛ ;\n",
        "Ä → ˈ ɛ ;\n",
        "ä → ɛ ;\n",
        "Å → ˈ ɔ ;\n",
        "å → ɔ ;\n",
        "I → ɪ ;\n",
        "E \\* U → e \\u2040 ʊ ;\n",
        "\n",
        "\n",
        "Y → ʏ ;\n",
        "2 → ø ;\n",
        "9 → ø ;\n",
        "u 0 → ɵ ;\n",
        "\\@ → ŋ ;\n",
        "'\"' → ˈ ;\n",
        "\\% → ˌ ;\n",
        "\\: → ː ;\n",
        "g → ɡ ;\n",
        "s \\\\\\' → ɕ ;\n",
        "\\$ → ɧ ;\n",
        "\\* → \\u2040 ;\n",
        "\"\"\""
      ]
    },
    {
      "cell_type": "code",
      "execution_count": 9,
      "metadata": {
        "id": "cstu46fvE_3a"
      },
      "outputs": [],
      "source": [
        "import icu\n",
        "def transliterator_from_rules(name, rules):\n",
        "    fromrules = icu.Transliterator.createFromRules(name, rules)\n",
        "    icu.Transliterator.registerInstance(fromrules)\n",
        "    return icu.Transliterator.createInstance(name)"
      ]
    },
    {
      "cell_type": "code",
      "execution_count": 37,
      "metadata": {
        "id": "F5IElv16E_3a"
      },
      "outputs": [],
      "source": [
        "swelex_trans = transliterator_from_rules(\"swelex_trans\", TRANSLIT)"
      ]
    },
    {
      "cell_type": "code",
      "execution_count": 38,
      "metadata": {
        "id": "rkyonQ6PE_3a",
        "outputId": "47234ab9-a3a6-4614-a65a-6a8616921654",
        "colab": {
          "base_uri": "https://localhost:8080/",
          "height": 35
        }
      },
      "outputs": [
        {
          "output_type": "execute_result",
          "data": {
            "text/plain": [
              "'²pˈɔːvɛrːkan'"
            ],
            "application/vnd.google.colaboratory.intrinsic+json": {
              "type": "string"
            }
          },
          "metadata": {},
          "execution_count": 38
        }
      ],
      "source": [
        "assert swelex_trans.transliterate('²vÄ:r+nplik:t') == \"²vˈɛɳplikːt\"\n",
        "\n",
        "assert swelex_trans.transliterate('alakAr+t:') == \"alakˈaʈ\"\n",
        "swelex_trans.transliterate('²pÅ:vär:kan')\n"
      ]
    },
    {
      "cell_type": "code",
      "execution_count": null,
      "metadata": {
        "id": "RxtCZlvoE_3a"
      },
      "outputs": [],
      "source": [
        "def collapse_available_fields(data):\n",
        "    output = []\n",
        "    for i in range(1, 10):\n",
        "        if data[f\"available_field{i}\"] != \"\":\n",
        "            output.append(data[f\"available_field{i}\"])\n",
        "        del data[f\"available_field{i}\"]\n",
        "    data[\"available_fields\"] = output\n",
        "    return data"
      ]
    },
    {
      "cell_type": "code",
      "execution_count": null,
      "metadata": {
        "id": "Y_UWeYw7E_3a"
      },
      "outputs": [],
      "source": [
        "def collapse_transliterations(data):\n",
        "    output = []\n",
        "    for i in range(1, 5):\n",
        "        if data[f\"transliteration{i}\"] != \"\":\n",
        "            tmp = {}\n",
        "            tmp[\"transliteration\"] = data[f\"transliteration{i}\"]\n",
        "            tmp[\"ipa\"] = swelex_trans.transliterate(data[f\"transliteration{i}\"])\n",
        "            tmp[\"certainty\"] = data[f\"certainty_trans_{i}\"]\n",
        "            tmp[\"status\"] = data[f\"status_trans_{i}\"]\n",
        "            tmp[\"language_code\"] = data[f\"language_code_trans_{i}\"]\n",
        "            output.append(tmp)\n",
        "        del data[f\"transliteration{i}\"]\n",
        "        del data[f\"certainty_trans_{i}\"]\n",
        "        del data[f\"status_trans_{i}\"]\n",
        "        del data[f\"language_code_trans_{i}\"]\n",
        "    data[\"transliterations\"] = output\n",
        "    return data"
      ]
    },
    {
      "cell_type": "code",
      "execution_count": null,
      "metadata": {
        "id": "dkdfjp9gE_3a"
      },
      "outputs": [],
      "source": [
        "import json\n",
        "import io\n",
        "with open(\"svlex.json\", \"w\") as outf:\n",
        "    swelexf = io.StringIO(prondata)\n",
        "    swelex = csv.DictReader(swelexf, delimiter=';', fieldnames=field_names, quoting=csv.QUOTE_NONE)\n",
        "    for row in swelex:\n",
        "        row[\"decomp\"] = [f for f in row[\"decomp\"].split(\"+\") if f != \"\"]\n",
        "        row = collapse_available_fields(row)\n",
        "        row = collapse_transliterations(row)\n",
        "        jsonstr = json.dumps(row)\n",
        "        outf.write(jsonstr + \"\\n\")"
      ]
    }
  ],
  "metadata": {
    "kernelspec": {
      "display_name": "ctcseg",
      "language": "python",
      "name": "python3"
    },
    "language_info": {
      "codemirror_mode": {
        "name": "ipython",
        "version": 3
      },
      "file_extension": ".py",
      "mimetype": "text/x-python",
      "name": "python",
      "nbconvert_exporter": "python",
      "pygments_lexer": "ipython3",
      "version": "3.10.4"
    },
    "vscode": {
      "interpreter": {
        "hash": "04f1aebeda7ca92f6170d2806fa3f3c0cbb14da723fd908a9af630117dfe1004"
      }
    },
    "colab": {
      "provenance": []
    }
  },
  "nbformat": 4,
  "nbformat_minor": 0
}