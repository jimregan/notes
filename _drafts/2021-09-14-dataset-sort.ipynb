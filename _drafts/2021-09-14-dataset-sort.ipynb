{
 "cells": [
  {
   "cell_type": "code",
   "execution_count": 1,
   "metadata": {},
   "outputs": [],
   "source": [
    "from datasets import load_dataset"
   ]
  },
  {
   "cell_type": "code",
   "execution_count": null,
   "metadata": {},
   "outputs": [],
   "source": [
    "dirs = \"\"\"\n",
    "pmg_ga_co/RCPiarsachALL\n",
    "nnc_ga_mu/CDNamedEntities01\n",
    "nnc_ga_mu/CDAn_tOileanach_part3_newLTS\n",
    "nnc_ga_mu/CDAn_tOileanach_part4_newLTS\n",
    "nnc_ga_mu/CDNamedEntities02\n",
    "nnc_ga_mu/CDAlphabet\n",
    "nnc_ga_mu/CDAn_tOileanach_part2_newLTS\n",
    "nnc_ga_mu/corpas_beag_newLTS\n",
    "nnc_ga_mu/CDSaytime\n",
    "\n",
    "cmg_ga_mu/CMGOther\n",
    "anb_ga_ul/new_text02\n",
    "anb_ga_ul/text01-004\n",
    "anb_ga_ul/text01\n",
    "anb_ga_ul/text01-001\n",
    "anb_ga_ul/text02\n",
    "anb_ga_ul/named-entities\n",
    "nnc_en_ie\n",
    "\"\"\""
   ]
  },
  {
   "cell_type": "code",
   "execution_count": 27,
   "metadata": {},
   "outputs": [
    {
     "name": "stderr",
     "output_type": "stream",
     "text": [
      "Using custom data configuration default-187ee4831f664a6d\n",
      "Reusing dataset utterance_xml_dataset (/home/jim/.cache/huggingface/datasets/utterance_xml_dataset/default-187ee4831f664a6d/1.1.0/2ab4d5a39b76b2b213d176be1f94b8bb2c34198ea2fabf4b281e0784782b2d2b)\n"
     ]
    }
   ],
   "source": [
    "egset = load_dataset(\"abairxml.py\", data_dir=f\"/home/jim/tmp/cmg_ga_mu_corpusbeag\")"
   ]
  },
  {
   "cell_type": "code",
   "execution_count": 3,
   "metadata": {},
   "outputs": [
    {
     "data": {
      "text/plain": [
       "DatasetDict({\n",
       "    train: Dataset({\n",
       "        features: ['file_id', 'words', 'phonemes', 'audio', 'dialect', 'language', 'speaker_id', 'audio_set'],\n",
       "        num_rows: 1453\n",
       "    })\n",
       "})"
      ]
     },
     "execution_count": 3,
     "metadata": {},
     "output_type": "execute_result"
    }
   ],
   "source": [
    "egset"
   ]
  },
  {
   "cell_type": "code",
   "execution_count": 28,
   "metadata": {},
   "outputs": [
    {
     "name": "stderr",
     "output_type": "stream",
     "text": [
      "Loading cached processed dataset at /home/jim/.cache/huggingface/datasets/utterance_xml_dataset/default-187ee4831f664a6d/1.1.0/2ab4d5a39b76b2b213d176be1f94b8bb2c34198ea2fabf4b281e0784782b2d2b/cache-96d34247636a824d.arrow\n"
     ]
    }
   ],
   "source": [
    "from pathlib import Path\n",
    "def check_paths(batch):\n",
    "    audio_path = Path(batch[\"audio\"])\n",
    "    return audio_path.is_file()\n",
    "\n",
    "egset = egset.filter(check_paths)"
   ]
  },
  {
   "cell_type": "code",
   "execution_count": 29,
   "metadata": {},
   "outputs": [
    {
     "name": "stderr",
     "output_type": "stream",
     "text": [
      "Loading cached processed dataset at /home/jim/.cache/huggingface/datasets/utterance_xml_dataset/default-187ee4831f664a6d/1.1.0/2ab4d5a39b76b2b213d176be1f94b8bb2c34198ea2fabf4b281e0784782b2d2b/cache-18df1d089931c98b.arrow\n"
     ]
    }
   ],
   "source": [
    "import torchaudio\n",
    "\n",
    "def speech_file_to_array_fn(batch):\n",
    "    speech_array, sampling_rate = torchaudio.load(batch[\"audio\"])\n",
    "    batch[\"speech\"] = speech_array[0].numpy()\n",
    "    batch[\"sampling_rate\"] = sampling_rate\n",
    "    batch[\"target_text\"] = batch[\"words\"]\n",
    "    return batch\n",
    "\n",
    "egset = egset.map(speech_file_to_array_fn, remove_columns=egset['train'].column_names)"
   ]
  },
  {
   "cell_type": "code",
   "execution_count": 7,
   "metadata": {},
   "outputs": [
    {
     "data": {
      "text/plain": [
       "DatasetDict({\n",
       "    train: Dataset({\n",
       "        features: ['speech', 'sampling_rate', 'target_text'],\n",
       "        num_rows: 1453\n",
       "    })\n",
       "})"
      ]
     },
     "execution_count": 7,
     "metadata": {},
     "output_type": "execute_result"
    }
   ],
   "source": [
    "egset"
   ]
  },
  {
   "cell_type": "code",
   "execution_count": 9,
   "metadata": {},
   "outputs": [],
   "source": [
    "import librosa\n",
    "import numpy as np"
   ]
  },
  {
   "cell_type": "code",
   "execution_count": 30,
   "metadata": {},
   "outputs": [
    {
     "name": "stderr",
     "output_type": "stream",
     "text": [
      "Loading cached processed dataset at /home/jim/.cache/huggingface/datasets/utterance_xml_dataset/default-187ee4831f664a6d/1.1.0/2ab4d5a39b76b2b213d176be1f94b8bb2c34198ea2fabf4b281e0784782b2d2b/cache-da006be1caebfb5b.arrow\n",
      "Loading cached processed dataset at /home/jim/.cache/huggingface/datasets/utterance_xml_dataset/default-187ee4831f664a6d/1.1.0/2ab4d5a39b76b2b213d176be1f94b8bb2c34198ea2fabf4b281e0784782b2d2b/cache-c2641d558f05e8f1.arrow\n",
      "Loading cached processed dataset at /home/jim/.cache/huggingface/datasets/utterance_xml_dataset/default-187ee4831f664a6d/1.1.0/2ab4d5a39b76b2b213d176be1f94b8bb2c34198ea2fabf4b281e0784782b2d2b/cache-8d515b7aebd171c2.arrow\n",
      "Loading cached processed dataset at /home/jim/.cache/huggingface/datasets/utterance_xml_dataset/default-187ee4831f664a6d/1.1.0/2ab4d5a39b76b2b213d176be1f94b8bb2c34198ea2fabf4b281e0784782b2d2b/cache-7b97b92998e9a71e.arrow\n"
     ]
    }
   ],
   "source": [
    "def resample(batch):\n",
    "    batch[\"duration\"] = librosa.get_duration(y=batch[\"speech\"], sr=batch[\"sampling_rate\"])\n",
    "\n",
    "    if batch[\"sampling_rate\"] != 16_000:\n",
    "        batch[\"speech\"] = librosa.resample(np.asarray(batch[\"speech\"]), batch[\"sampling_rate\"], 16_000)\n",
    "        batch[\"sampling_rate\"] = 16_000\n",
    "\n",
    "    return batch\n",
    "egset = egset.map(resample, num_proc=4)"
   ]
  },
  {
   "cell_type": "code",
   "execution_count": 31,
   "metadata": {},
   "outputs": [],
   "source": [
    "egset = egset.sort('duration')"
   ]
  },
  {
   "cell_type": "code",
   "execution_count": 32,
   "metadata": {},
   "outputs": [
    {
     "data": {
      "text/plain": [
       "0.5309375"
      ]
     },
     "execution_count": 32,
     "metadata": {},
     "output_type": "execute_result"
    }
   ],
   "source": [
    "egset['train'][0]['duration']"
   ]
  },
  {
   "cell_type": "code",
   "execution_count": 33,
   "metadata": {},
   "outputs": [
    {
     "data": {
      "text/plain": [
       "6.406125"
      ]
     },
     "execution_count": 33,
     "metadata": {},
     "output_type": "execute_result"
    }
   ],
   "source": [
    "egset['train'][-1]['duration']"
   ]
  }
 ],
 "metadata": {
  "kernelspec": {
   "display_name": "Python 3",
   "language": "python",
   "name": "python3"
  },
  "language_info": {
   "codemirror_mode": {
    "name": "ipython",
    "version": 3
   },
   "file_extension": ".py",
   "mimetype": "text/x-python",
   "name": "python",
   "nbconvert_exporter": "python",
   "pygments_lexer": "ipython3",
   "version": "3.6.9"
  }
 },
 "nbformat": 4,
 "nbformat_minor": 2
}
