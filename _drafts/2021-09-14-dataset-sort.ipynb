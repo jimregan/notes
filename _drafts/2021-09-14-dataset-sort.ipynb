{
 "cells": [
  {
   "cell_type": "code",
   "execution_count": 1,
   "metadata": {},
   "outputs": [],
   "source": [
    "from datasets import load_dataset"
   ]
  },
  {
   "cell_type": "code",
   "execution_count": 2,
   "metadata": {},
   "outputs": [
    {
     "name": "stderr",
     "output_type": "stream",
     "text": [
      "Using custom data configuration default-be79e07535743a6e\n",
      "Reusing dataset utterance_xml_dataset (/home/jim/.cache/huggingface/datasets/utterance_xml_dataset/default-be79e07535743a6e/1.1.0/2ab4d5a39b76b2b213d176be1f94b8bb2c34198ea2fabf4b281e0784782b2d2b)\n"
     ]
    }
   ],
   "source": [
    "egset = load_dataset(\"abairxml.py\", data_dir=f\"/home/jim/tmp/cmg_ga_mu/CMGCorpusBeag\")"
   ]
  },
  {
   "cell_type": "code",
   "execution_count": 3,
   "metadata": {},
   "outputs": [
    {
     "data": {
      "text/plain": [
       "DatasetDict({\n",
       "    train: Dataset({\n",
       "        features: ['file_id', 'words', 'phonemes', 'audio', 'dialect', 'language', 'speaker_id', 'audio_set'],\n",
       "        num_rows: 1453\n",
       "    })\n",
       "})"
      ]
     },
     "execution_count": 3,
     "metadata": {},
     "output_type": "execute_result"
    }
   ],
   "source": [
    "egset"
   ]
  },
  {
   "cell_type": "code",
   "execution_count": 4,
   "metadata": {},
   "outputs": [
    {
     "name": "stderr",
     "output_type": "stream",
     "text": [
      "Loading cached processed dataset at /home/jim/.cache/huggingface/datasets/utterance_xml_dataset/default-be79e07535743a6e/1.1.0/2ab4d5a39b76b2b213d176be1f94b8bb2c34198ea2fabf4b281e0784782b2d2b/cache-b0de8317eeb157fe.arrow\n"
     ]
    }
   ],
   "source": [
    "from pathlib import Path\n",
    "def check_paths(batch):\n",
    "    audio_path = Path(batch[\"audio\"])\n",
    "    return audio_path.is_file()\n",
    "\n",
    "egset = egset.filter(check_paths)"
   ]
  },
  {
   "cell_type": "code",
   "execution_count": 6,
   "metadata": {},
   "outputs": [
    {
     "name": "stderr",
     "output_type": "stream",
     "text": [
      "Loading cached processed dataset at /home/jim/.cache/huggingface/datasets/utterance_xml_dataset/default-be79e07535743a6e/1.1.0/2ab4d5a39b76b2b213d176be1f94b8bb2c34198ea2fabf4b281e0784782b2d2b/cache-ae73b888f9fe20f5.arrow\n"
     ]
    }
   ],
   "source": [
    "import torchaudio\n",
    "\n",
    "def speech_file_to_array_fn(batch):\n",
    "    speech_array, sampling_rate = torchaudio.load(batch[\"audio\"])\n",
    "    batch[\"speech\"] = speech_array[0].numpy()\n",
    "    batch[\"sampling_rate\"] = sampling_rate\n",
    "    batch[\"target_text\"] = batch[\"words\"]\n",
    "    return batch\n",
    "\n",
    "egset = egset.map(speech_file_to_array_fn, remove_columns=egset['train'].column_names)"
   ]
  },
  {
   "cell_type": "code",
   "execution_count": 7,
   "metadata": {},
   "outputs": [
    {
     "data": {
      "text/plain": [
       "DatasetDict({\n",
       "    train: Dataset({\n",
       "        features: ['speech', 'sampling_rate', 'target_text'],\n",
       "        num_rows: 1453\n",
       "    })\n",
       "})"
      ]
     },
     "execution_count": 7,
     "metadata": {},
     "output_type": "execute_result"
    }
   ],
   "source": [
    "egset"
   ]
  },
  {
   "cell_type": "code",
   "execution_count": 9,
   "metadata": {},
   "outputs": [],
   "source": [
    "import librosa\n",
    "import numpy as np"
   ]
  },
  {
   "cell_type": "code",
   "execution_count": 10,
   "metadata": {},
   "outputs": [
    {
     "name": "stderr",
     "output_type": "stream",
     "text": [
      "Loading cached processed dataset at /home/jim/.cache/huggingface/datasets/utterance_xml_dataset/default-be79e07535743a6e/1.1.0/2ab4d5a39b76b2b213d176be1f94b8bb2c34198ea2fabf4b281e0784782b2d2b/cache-5f5e02953a0c6c6b.arrow\n",
      "Loading cached processed dataset at /home/jim/.cache/huggingface/datasets/utterance_xml_dataset/default-be79e07535743a6e/1.1.0/2ab4d5a39b76b2b213d176be1f94b8bb2c34198ea2fabf4b281e0784782b2d2b/cache-8587b9046b2a82a2.arrow\n",
      "Loading cached processed dataset at /home/jim/.cache/huggingface/datasets/utterance_xml_dataset/default-be79e07535743a6e/1.1.0/2ab4d5a39b76b2b213d176be1f94b8bb2c34198ea2fabf4b281e0784782b2d2b/cache-376ba06e76353015.arrow\n",
      "Loading cached processed dataset at /home/jim/.cache/huggingface/datasets/utterance_xml_dataset/default-be79e07535743a6e/1.1.0/2ab4d5a39b76b2b213d176be1f94b8bb2c34198ea2fabf4b281e0784782b2d2b/cache-7d11fe2d6553624f.arrow\n"
     ]
    }
   ],
   "source": [
    "def resample(batch):\n",
    "    batch[\"duration\"] = librosa.get_duration(y=batch[\"speech\"], sr=batch[\"sampling_rate\"])\n",
    "\n",
    "    if batch[\"sampling_rate\"] != 16_000:\n",
    "        batch[\"speech\"] = librosa.resample(np.asarray(batch[\"speech\"]), batch[\"sampling_rate\"], 16_000)\n",
    "        batch[\"sampling_rate\"] = 16_000\n",
    "\n",
    "    return batch\n",
    "egset = egset.map(resample, num_proc=4)"
   ]
  },
  {
   "cell_type": "code",
   "execution_count": 16,
   "metadata": {},
   "outputs": [
    {
     "name": "stderr",
     "output_type": "stream",
     "text": [
      "Loading cached sorted indices for dataset at /home/jim/.cache/huggingface/datasets/utterance_xml_dataset/default-be79e07535743a6e/1.1.0/2ab4d5a39b76b2b213d176be1f94b8bb2c34198ea2fabf4b281e0784782b2d2b/cache-53da9334ce2f906e.arrow\n"
     ]
    }
   ],
   "source": [
    "egset = egset.sort('duration')"
   ]
  },
  {
   "cell_type": "code",
   "execution_count": 18,
   "metadata": {},
   "outputs": [
    {
     "data": {
      "text/plain": [
       "1.5309375"
      ]
     },
     "execution_count": 18,
     "metadata": {},
     "output_type": "execute_result"
    }
   ],
   "source": [
    "egset['train'][0]['duration']"
   ]
  },
  {
   "cell_type": "code",
   "execution_count": 19,
   "metadata": {},
   "outputs": [
    {
     "data": {
      "text/plain": [
       "7.406125"
      ]
     },
     "execution_count": 19,
     "metadata": {},
     "output_type": "execute_result"
    }
   ],
   "source": [
    "egset['train'][-1]['duration']"
   ]
  }
 ],
 "metadata": {
  "kernelspec": {
   "display_name": "Python 3",
   "language": "python",
   "name": "python3"
  },
  "language_info": {
   "codemirror_mode": {
    "name": "ipython",
    "version": 3
   },
   "file_extension": ".py",
   "mimetype": "text/x-python",
   "name": "python",
   "nbconvert_exporter": "python",
   "pygments_lexer": "ipython3",
   "version": "3.6.9"
  }
 },
 "nbformat": 4,
 "nbformat_minor": 2
}
