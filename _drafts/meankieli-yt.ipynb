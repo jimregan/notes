{
 "cells": [
  {
   "cell_type": "markdown",
   "id": "f9234c4f",
   "metadata": {},
   "source": []
  },
  {
   "cell_type": "code",
   "execution_count": null,
   "id": "2b0212e4",
   "metadata": {},
   "outputs": [],
   "source": [
    "VID = \"https://www.youtube.com/watch?v=oVl1tT6eeLA\""
   ]
  },
  {
   "cell_type": "code",
   "execution_count": 1,
   "id": "00b577f5",
   "metadata": {},
   "outputs": [
    {
     "name": "stdout",
     "output_type": "stream",
     "text": [
      "/opt/homebrew/bin/bash: line 1: yt-dlp: command not found\n"
     ]
    }
   ],
   "source": [
    "# Download the video using yt-dlp, with Finnish subtitles, in format ID.EXT\n",
    "!yt-dlp -f \"bestvideo[ext=mp4]+bestaudio[ext=m4a]/best[ext=mp4]\" --write-subs --sub-langs fi --embed-subs --merge-output-format mp4 -o \"%(id)s.%(ext)s\" {VID}"
   ]
  },
  {
   "cell_type": "code",
   "execution_count": null,
   "id": "deeb0938",
   "metadata": {},
   "outputs": [],
   "source": [
    "!yt-dlp --no-warnings --no-check-certificate -f \"bestvideo[height<=1080]+bestaudio/best[height<=1080]\" -o \"%(id)s.%(ext)s\" {VID}"
   ]
  },
  {
   "cell_type": "code",
   "execution_count": 2,
   "id": "dfa695e5",
   "metadata": {},
   "outputs": [
    {
     "name": "stdout",
     "output_type": "stream",
     "text": [
      "Collecting webvtt-py\n",
      "  Downloading webvtt_py-0.5.1-py3-none-any.whl (19 kB)\n",
      "Installing collected packages: webvtt-py\n",
      "Successfully installed webvtt-py-0.5.1\n"
     ]
    }
   ],
   "source": [
    "!pip install webvtt-py"
   ]
  },
  {
   "cell_type": "code",
   "execution_count": 3,
   "id": "09d951bb",
   "metadata": {},
   "outputs": [],
   "source": [
    "import webvtt\n",
    "content = webvtt.read(\"oVl1tT6eeLA.fi.vtt\")"
   ]
  },
  {
   "cell_type": "code",
   "execution_count": null,
   "id": "8ce59b0b",
   "metadata": {},
   "outputs": [],
   "source": [
    "for caption in content:\n",
    "    print(caption.identifier)  # cue identifier if any\n",
    "    print(caption.start)       # cue start time\n",
    "    print(caption.end)         # cue end time\n",
    "    print(caption.text)        # cue payload\n",
    "    print(caption.voice)       # cue voice span if any\n",
    "    print()"
   ]
  }
 ],
 "metadata": {
  "kernelspec": {
   "display_name": "nst-tts",
   "language": "python",
   "name": "python3"
  },
  "language_info": {
   "codemirror_mode": {
    "name": "ipython",
    "version": 3
   },
   "file_extension": ".py",
   "mimetype": "text/x-python",
   "name": "python",
   "nbconvert_exporter": "python",
   "pygments_lexer": "ipython3",
   "version": "3.10.9"
  }
 },
 "nbformat": 4,
 "nbformat_minor": 5
}
