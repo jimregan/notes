{
 "cells": [
  {
   "cell_type": "code",
   "execution_count": 1,
   "metadata": {},
   "outputs": [],
   "source": [
    "import re"
   ]
  },
  {
   "cell_type": "code",
   "execution_count": 2,
   "metadata": {},
   "outputs": [],
   "source": [
    "SIMPLE = re.compile(r'^\\* \\{\\{IPA\\|ga\\|([^|}]*)\\}\\}$')"
   ]
  },
  {
   "cell_type": "code",
   "execution_count": 3,
   "metadata": {},
   "outputs": [],
   "source": [
    "SIMPLE_SAMPLE = \"* {{IPA|ga|/ˈcɾʲɪtʲɪc/}}\""
   ]
  },
  {
   "cell_type": "code",
   "execution_count": 4,
   "metadata": {},
   "outputs": [],
   "source": [
    "m = SIMPLE.match(SIMPLE_SAMPLE)"
   ]
  },
  {
   "cell_type": "code",
   "execution_count": 5,
   "metadata": {},
   "outputs": [
    {
     "data": {
      "text/plain": [
       "'/ˈcɾʲɪtʲɪc/'"
      ]
     },
     "execution_count": 5,
     "metadata": {},
     "output_type": "execute_result"
    }
   ],
   "source": [
    "m.group(1)"
   ]
  },
  {
   "cell_type": "code",
   "execution_count": 6,
   "metadata": {},
   "outputs": [
    {
     "data": {
      "text/plain": [
       "1"
      ]
     },
     "execution_count": 6,
     "metadata": {},
     "output_type": "execute_result"
    }
   ],
   "source": [
    "len(m.groups())"
   ]
  },
  {
   "cell_type": "code",
   "execution_count": 7,
   "metadata": {},
   "outputs": [],
   "source": [
    "parts = []\n",
    "with open(\"/Users/joregan/Playing/irish-gists/wiktionary/irish-ipa-raw.txt\") as rawfile:\n",
    "    content = rawfile.read()\n",
    "    parts = content.split(\"\\n\\n\")"
   ]
  },
  {
   "cell_type": "code",
   "execution_count": 8,
   "metadata": {},
   "outputs": [],
   "source": [
    "parts = [x.strip() for x in parts]\n",
    "harder_parts = []\n",
    "\n",
    "with open(\"/tmp/simple-ga.tsv\", \"w\") as outtsv:\n",
    "    simple_parts = []\n",
    "    for part in parts:\n",
    "        lines = part.split(\"\\n\")\n",
    "        if len(lines) == 2:\n",
    "            m = SIMPLE.match(lines[1])\n",
    "            if m:\n",
    "                outtsv.write(f\"{lines[0]}\\t{m.group(1)}\\n\")\n",
    "            else:\n",
    "                harder_parts.append(part)\n",
    "        else:\n",
    "            harder_parts.append(part)\n"
   ]
  },
  {
   "cell_type": "code",
   "execution_count": 29,
   "metadata": {},
   "outputs": [],
   "source": [
    "CORR1 = re.compile(r'^\\{\\{(?:IPA\\|ga|IPAchar)\\|([^|}]*)\\}\\} \\{\\{R:ga:Quiggin\\|([^|}]*)\\}\\}  *\\{\\{q\\|corresponding to the form \\{\\{m\\|ga\\|+([^|}]*)\\}\\}\\}\\}$')"
   ]
  },
  {
   "cell_type": "code",
   "execution_count": 30,
   "metadata": {},
   "outputs": [],
   "source": [
    "c = CORR1.match(\"{{IPA|ga|/ˈpʲɨ̞nus/}} {{R:ga:Quiggin|20}}  {{q|corresponding to the form {{m|ga|pionús}}}}\")"
   ]
  },
  {
   "cell_type": "code",
   "execution_count": 31,
   "metadata": {},
   "outputs": [
    {
     "data": {
      "text/plain": [
       "('/ˈpʲɨ̞nus/', '20', 'pionús')"
      ]
     },
     "execution_count": 31,
     "metadata": {},
     "output_type": "execute_result"
    }
   ],
   "source": [
    "c.groups()"
   ]
  },
  {
   "cell_type": "code",
   "execution_count": 32,
   "metadata": {},
   "outputs": [],
   "source": [
    "d = CORR1.match(\"{{IPAchar|/ˈɾˠaːmˠasˠ/}} {{R:ga:Quiggin|8}}  {{q|corresponding to the form {{m|ga|rámás}}}}\")"
   ]
  },
  {
   "cell_type": "code",
   "execution_count": 34,
   "metadata": {},
   "outputs": [
    {
     "data": {
      "text/plain": [
       "('/ˈɾˠaːmˠasˠ/', '8', 'rámás')"
      ]
     },
     "execution_count": 34,
     "metadata": {},
     "output_type": "execute_result"
    }
   ],
   "source": [
    "d.groups()"
   ]
  },
  {
   "cell_type": "code",
   "execution_count": 17,
   "metadata": {},
   "outputs": [],
   "source": [
    "parts = [x.strip() for x in parts]\n",
    "with open(\"/tmp/quiggin.tsv\", \"w\") as quig:\n",
    "    for part in parts:\n",
    "        lines = part.split(\"\\n\")\n",
    "        word = lines[0]\n",
    "        lines = lines[1:]\n",
    "        for line in lines:\n",
    "            if \"R:ga:Quiggin\" in line:\n",
    "                line = line.replace(\"&lt;ref&gt;\", \" \").replace(\"&lt;/ref&gt;\", \" \")\n",
    "                line = line.replace(\"* \", \"\")\n",
    "                quig.write(f'{word}\\t{line}\\n')"
   ]
  },
  {
   "cell_type": "code",
   "execution_count": 9,
   "metadata": {},
   "outputs": [],
   "source": [
    "with open(\"/tmp/harder.tsv\", \"w\") as harderout:\n",
    "    for part in harder_parts:\n",
    "        harderout.write(part + \"\\n\\n\")"
   ]
  },
  {
   "cell_type": "code",
   "execution_count": null,
   "metadata": {},
   "outputs": [],
   "source": [
    "IGNORE = \"\"\"\n",
    "Crìosd bá tuilleadh briseadh claonadh\n",
    "mealladh milleadh gearradh moladh deireadh bacadh síneadh -adh pósadh \n",
    "puisín chuirfeadh pógadh dúnadh cleachtadh bhriseadh bhrisfeadh scaradh spreagadh\n",
    "glanadh déarfadh d'fheiceadh d'fheicfeadh feiceadh d'aithníodh altadh d'altadh d'altfadh \n",
    "d'fhágadh fágadh d'fhágfadh bheadh thugadh bhfiaradh fhiaradh ghobadh ngobadh \n",
    "\"\"\""
   ]
  },
  {
   "cell_type": "code",
   "execution_count": 48,
   "metadata": {},
   "outputs": [],
   "source": [
    "class Extractor():\n",
    "    def __init__(self, word, line):\n",
    "        self.word = word\n",
    "        self.line = line\n",
    "        self.line_original = line\n",
    "\n",
    "        if self.line.startswith(\"* \"):\n",
    "            self.line = self.line[2:]\n",
    "    \n",
    "    def get_dialect(self):\n",
    "        if '{{a|' in self.line:\n",
    "            m = re.match(r'\\{\\{a\\|([^}]*)\\}\\}', self.line)\n",
    "            if not m or len(m.groups()) != 1:\n",
    "                print(\"get_dialect\", self.line)\n",
    "            return m.group(1).split(\"|\")\n",
    "            "
   ]
  },
  {
   "cell_type": "code",
   "execution_count": 49,
   "metadata": {},
   "outputs": [],
   "source": [
    "e = Extractor(\"bá\", \"* {{a|Munster|Connacht}} {{IPA|ga|/bˠɑː/}}\")"
   ]
  },
  {
   "cell_type": "code",
   "execution_count": 50,
   "metadata": {},
   "outputs": [
    {
     "data": {
      "text/plain": [
       "['Munster', 'Connacht']"
      ]
     },
     "execution_count": 50,
     "metadata": {},
     "output_type": "execute_result"
    }
   ],
   "source": [
    "e.get_dialect()"
   ]
  }
 ],
 "metadata": {
  "kernelspec": {
   "display_name": "hf",
   "language": "python",
   "name": "python3"
  },
  "language_info": {
   "codemirror_mode": {
    "name": "ipython",
    "version": 3
   },
   "file_extension": ".py",
   "mimetype": "text/x-python",
   "name": "python",
   "nbconvert_exporter": "python",
   "pygments_lexer": "ipython3",
   "version": "3.9.15"
  },
  "orig_nbformat": 4
 },
 "nbformat": 4,
 "nbformat_minor": 2
}
