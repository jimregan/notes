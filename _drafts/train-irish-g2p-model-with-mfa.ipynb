{
 "cells": [
  {
   "cell_type": "code",
   "execution_count": 1,
   "id": "listed-aquarium",
   "metadata": {
    "_cell_guid": "b1076dfc-b9ad-4769-8c92-a6c4dae69d19",
    "_uuid": "8f2839f25d086af736a60e9eeb907d3b93b6e0e5",
    "execution": {
     "iopub.execute_input": "2021-04-21T12:27:04.848912Z",
     "iopub.status.busy": "2021-04-21T12:27:04.846714Z",
     "iopub.status.idle": "2021-04-21T12:27:16.101847Z",
     "shell.execute_reply": "2021-04-21T12:27:16.102410Z"
    },
    "papermill": {
     "duration": 11.272154,
     "end_time": "2021-04-21T12:27:16.102739",
     "exception": false,
     "start_time": "2021-04-21T12:27:04.830585",
     "status": "completed"
    },
    "tags": []
   },
   "outputs": [],
   "source": [
    "%%capture\n",
    "import os\n",
    "os.chdir('/tmp')\n",
    "!wget https://github.com/MontrealCorpusTools/Montreal-Forced-Aligner/releases/download/v1.0.1/montreal-forced-aligner_linux.tar.gz\n",
    "!tar zxvf montreal-forced-aligner_linux.tar.gz\n",
    "!ln -s /tmp/montreal-forced-aligner/lib/libpython3.6m.so.1.0 /tmp/montreal-forced-aligner/lib/libpython3.6m.so"
   ]
  },
  {
   "cell_type": "code",
   "execution_count": 2,
   "id": "editorial-twelve",
   "metadata": {
    "execution": {
     "iopub.execute_input": "2021-04-21T12:27:16.117292Z",
     "iopub.status.busy": "2021-04-21T12:27:16.116561Z",
     "iopub.status.idle": "2021-04-21T12:27:16.121942Z",
     "shell.execute_reply": "2021-04-21T12:27:16.121162Z"
    },
    "papermill": {
     "duration": 0.01385,
     "end_time": "2021-04-21T12:27:16.122096",
     "exception": false,
     "start_time": "2021-04-21T12:27:16.108246",
     "status": "completed"
    },
    "tags": []
   },
   "outputs": [],
   "source": [
    "os.chdir('/kaggle/working')\n",
    "os.environ['LD_LIBRARY_PATH'] = f'{os.environ[\"LD_LIBRARY_PATH\"]}:/tmp/montreal-forced-aligner/lib/'"
   ]
  },
  {
   "cell_type": "code",
   "execution_count": 3,
   "id": "fifth-buying",
   "metadata": {
    "execution": {
     "iopub.execute_input": "2021-04-21T12:27:16.138303Z",
     "iopub.status.busy": "2021-04-21T12:27:16.137616Z",
     "iopub.status.idle": "2021-04-21T12:27:16.141289Z",
     "shell.execute_reply": "2021-04-21T12:27:16.140636Z"
    },
    "papermill": {
     "duration": 0.014022,
     "end_time": "2021-04-21T12:27:16.141481",
     "exception": false,
     "start_time": "2021-04-21T12:27:16.127459",
     "status": "completed"
    },
    "tags": []
   },
   "outputs": [],
   "source": [
    "os.environ['PATH'] = f'{os.environ[\"PATH\"]}:/tmp/montreal-forced-aligner/bin/'"
   ]
  },
  {
   "cell_type": "code",
   "execution_count": 4,
   "id": "corporate-offer",
   "metadata": {
    "execution": {
     "iopub.execute_input": "2021-04-21T12:27:16.157682Z",
     "iopub.status.busy": "2021-04-21T12:27:16.156991Z",
     "iopub.status.idle": "2021-04-21T12:27:16.885157Z",
     "shell.execute_reply": "2021-04-21T12:27:16.884528Z"
    },
    "papermill": {
     "duration": 0.738446,
     "end_time": "2021-04-21T12:27:16.885313",
     "exception": false,
     "start_time": "2021-04-21T12:27:16.146867",
     "status": "completed"
    },
    "tags": []
   },
   "outputs": [],
   "source": [
    "!mkdir /tmp/mfa-temp"
   ]
  },
  {
   "cell_type": "code",
   "execution_count": 5,
   "id": "stone-method",
   "metadata": {
    "execution": {
     "iopub.execute_input": "2021-04-21T12:27:16.900497Z",
     "iopub.status.busy": "2021-04-21T12:27:16.899799Z",
     "iopub.status.idle": "2021-04-21T12:27:42.273369Z",
     "shell.execute_reply": "2021-04-21T12:27:42.272805Z"
    },
    "papermill": {
     "duration": 25.38233,
     "end_time": "2021-04-21T12:27:42.273549",
     "exception": false,
     "start_time": "2021-04-21T12:27:16.891219",
     "status": "completed"
    },
    "tags": []
   },
   "outputs": [
    {
     "name": "stdout",
     "output_type": "stream",
     "text": [
      "GitRevision: kaldi-6-g64719c\r\n",
      "Loading input file: /tmp/mfa-temp/g2p-model/input.txt\r\n",
      "Starting EM...\r\n",
      "Finished first iter...\r\n",
      "Iteration: 1 Change: 3.18216\r\n",
      "Iteration: 2 Change: 0.0683775\r\n",
      "Iteration: 3 Change: 0.0359707\r\n",
      "Iteration: 4 Change: 0.00989151\r\n",
      "Iteration: 5 Change: 0.00358582\r\n",
      "Iteration: 6 Change: 0.00148869\r\n",
      "Iteration: 7 Change: 0.000874519\r\n",
      "Iteration: 8 Change: 0.000660896\r\n",
      "Iteration: 9 Change: 0.000305176\r\n",
      "Iteration: 10 Change: 0.000207901\r\n",
      "Iteration: 11 Change: 0.000261307\r\n",
      "Last iteration: \r\n",
      "GitRevision: kaldi-6-g64719c\r\n",
      "Initializing...\r\n",
      "Converting...\r\n",
      "Saved model to ./g2p-model\r\n"
     ]
    }
   ],
   "source": [
    "!mfa_train_g2p -t /tmp/mfa-temp ../input/living-audio-irish-speech-corpus/lexicon.txt ./g2p-model"
   ]
  }
 ],
 "metadata": {
  "kernelspec": {
   "display_name": "Python 3",
   "language": "python",
   "name": "python3"
  },
  "language_info": {
   "codemirror_mode": {
    "name": "ipython",
    "version": 3
   },
   "file_extension": ".py",
   "mimetype": "text/x-python",
   "name": "python",
   "nbconvert_exporter": "python",
   "pygments_lexer": "ipython3",
   "version": "3.7.9"
  },
  "papermill": {
   "default_parameters": {},
   "duration": 45.217694,
   "end_time": "2021-04-21T12:27:42.895353",
   "environment_variables": {},
   "exception": null,
   "input_path": "__notebook__.ipynb",
   "output_path": "__notebook__.ipynb",
   "parameters": {},
   "start_time": "2021-04-21T12:26:57.677659",
   "version": "2.3.2"
  }
 },
 "nbformat": 4,
 "nbformat_minor": 5
}
