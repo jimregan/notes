{
 "cells": [
  {
   "cell_type": "code",
   "execution_count": 1,
   "id": "comic-current",
   "metadata": {
    "_cell_guid": "b1076dfc-b9ad-4769-8c92-a6c4dae69d19",
    "_uuid": "8f2839f25d086af736a60e9eeb907d3b93b6e0e5",
    "execution": {
     "iopub.execute_input": "2021-04-21T20:11:31.066539Z",
     "iopub.status.busy": "2021-04-21T20:11:31.053435Z",
     "iopub.status.idle": "2021-04-21T20:11:47.590605Z",
     "shell.execute_reply": "2021-04-21T20:11:47.589896Z"
    },
    "papermill": {
     "duration": 16.550536,
     "end_time": "2021-04-21T20:11:47.590781",
     "exception": false,
     "start_time": "2021-04-21T20:11:31.040245",
     "status": "completed"
    },
    "tags": []
   },
   "outputs": [],
   "source": [
    "%%capture\n",
    "import os\n",
    "os.chdir('/tmp')\n",
    "!wget https://github.com/MontrealCorpusTools/Montreal-Forced-Aligner/releases/download/v1.0.1/montreal-forced-aligner_linux.tar.gz\n",
    "!tar zxvf montreal-forced-aligner_linux.tar.gz\n",
    "!ln -s /tmp/montreal-forced-aligner/lib/libpython3.6m.so.1.0 /tmp/montreal-forced-aligner/lib/libpython3.6m.so"
   ]
  },
  {
   "cell_type": "code",
   "execution_count": 2,
   "id": "employed-accuracy",
   "metadata": {
    "execution": {
     "iopub.execute_input": "2021-04-21T20:11:47.604726Z",
     "iopub.status.busy": "2021-04-21T20:11:47.603836Z",
     "iopub.status.idle": "2021-04-21T20:11:47.607135Z",
     "shell.execute_reply": "2021-04-21T20:11:47.606578Z"
    },
    "papermill": {
     "duration": 0.012166,
     "end_time": "2021-04-21T20:11:47.607276",
     "exception": false,
     "start_time": "2021-04-21T20:11:47.595110",
     "status": "completed"
    },
    "tags": []
   },
   "outputs": [],
   "source": [
    "os.chdir('/kaggle/working')\n",
    "os.environ['LD_LIBRARY_PATH'] = f'{os.environ[\"LD_LIBRARY_PATH\"]}:/tmp/montreal-forced-aligner/lib/'"
   ]
  },
  {
   "cell_type": "code",
   "execution_count": 3,
   "id": "increasing-campaign",
   "metadata": {
    "execution": {
     "iopub.execute_input": "2021-04-21T20:11:47.620473Z",
     "iopub.status.busy": "2021-04-21T20:11:47.619625Z",
     "iopub.status.idle": "2021-04-21T20:11:47.622897Z",
     "shell.execute_reply": "2021-04-21T20:11:47.622386Z"
    },
    "papermill": {
     "duration": 0.01171,
     "end_time": "2021-04-21T20:11:47.623023",
     "exception": false,
     "start_time": "2021-04-21T20:11:47.611313",
     "status": "completed"
    },
    "tags": []
   },
   "outputs": [],
   "source": [
    "os.environ['PATH'] = f'{os.environ[\"PATH\"]}:/tmp/montreal-forced-aligner/bin/'"
   ]
  },
  {
   "cell_type": "code",
   "execution_count": 4,
   "id": "radical-suspension",
   "metadata": {
    "execution": {
     "iopub.execute_input": "2021-04-21T20:11:47.639440Z",
     "iopub.status.busy": "2021-04-21T20:11:47.638678Z",
     "iopub.status.idle": "2021-04-21T20:11:48.426072Z",
     "shell.execute_reply": "2021-04-21T20:11:48.425540Z"
    },
    "papermill": {
     "duration": 0.799105,
     "end_time": "2021-04-21T20:11:48.426204",
     "exception": false,
     "start_time": "2021-04-21T20:11:47.627099",
     "status": "completed"
    },
    "tags": []
   },
   "outputs": [],
   "source": [
    "!mkdir /tmp/mfa-temp"
   ]
  },
  {
   "cell_type": "code",
   "execution_count": 5,
   "id": "strong-mitchell",
   "metadata": {
    "execution": {
     "iopub.execute_input": "2021-04-21T20:11:48.438130Z",
     "iopub.status.busy": "2021-04-21T20:11:48.437534Z",
     "iopub.status.idle": "2021-04-21T20:12:10.220442Z",
     "shell.execute_reply": "2021-04-21T20:12:10.219801Z"
    },
    "papermill": {
     "duration": 21.790084,
     "end_time": "2021-04-21T20:12:10.220580",
     "exception": false,
     "start_time": "2021-04-21T20:11:48.430496",
     "status": "completed"
    },
    "tags": []
   },
   "outputs": [
    {
     "name": "stdout",
     "output_type": "stream",
     "text": [
      "GitRevision: kaldi-6-g64719c\r\n",
      "Loading input file: /tmp/mfa-temp/g2p-model/input.txt\r\n",
      "Starting EM...\r\n",
      "Finished first iter...\r\n",
      "Iteration: 1 Change: 3.18394\r\n",
      "Iteration: 2 Change: 0.0683031\r\n",
      "Iteration: 3 Change: 0.0360327\r\n",
      "Iteration: 4 Change: 0.00983334\r\n",
      "Iteration: 5 Change: 0.00348759\r\n",
      "Iteration: 6 Change: 0.00151157\r\n",
      "Iteration: 7 Change: 0.000868797\r\n",
      "Iteration: 8 Change: 0.000685692\r\n",
      "Iteration: 9 Change: 0.000320435\r\n",
      "Iteration: 10 Change: 0.000252724\r\n",
      "Iteration: 11 Change: 0.00025177\r\n",
      "Last iteration: \r\n",
      "GitRevision: kaldi-6-g64719c\r\n",
      "Initializing...\r\n",
      "Converting...\r\n",
      "Saved model to ./g2p-model\r\n"
     ]
    }
   ],
   "source": [
    "!mfa_train_g2p -t /tmp/mfa-temp ../input/living-audio-irish-speech-corpus/lexicon.txt ./g2p-model"
   ]
  }
 ],
 "metadata": {
  "kernelspec": {
   "display_name": "Python 3",
   "language": "python",
   "name": "python3"
  },
  "language_info": {
   "codemirror_mode": {
    "name": "ipython",
    "version": 3
   },
   "file_extension": ".py",
   "mimetype": "text/x-python",
   "name": "python",
   "nbconvert_exporter": "python",
   "pygments_lexer": "ipython3",
   "version": "3.7.9"
  },
  "papermill": {
   "default_parameters": {},
   "duration": 45.440418,
   "end_time": "2021-04-21T20:12:10.838825",
   "environment_variables": {},
   "exception": null,
   "input_path": "__notebook__.ipynb",
   "output_path": "__notebook__.ipynb",
   "parameters": {},
   "start_time": "2021-04-21T20:11:25.398407",
   "version": "2.3.2"
  }
 },
 "nbformat": 4,
 "nbformat_minor": 5
}
