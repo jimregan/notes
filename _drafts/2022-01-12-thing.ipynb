{
 "cells": [
  {
   "cell_type": "code",
   "execution_count": 9,
   "metadata": {},
   "outputs": [],
   "source": [
    "import csv"
   ]
  },
  {
   "cell_type": "code",
   "execution_count": 8,
   "metadata": {},
   "outputs": [],
   "source": [
    "field_names = [\n",
    "    \"word\",\n",
    "    \"extended_pos\",\n",
    "    \"morphology\",\n",
    "    \"unk4\",\n",
    "    \"decpos\",\n",
    "    \"source\",\n",
    "    \"language_code\",\n",
    "    \"garbage\",\n",
    "    \"domain\",\n",
    "    \"abbr_acr\",\n",
    "    \"unk11\",\n",
    "    \"unk12\",\n",
    "    \"certainty_trans_1\",\n",
    "    \"status_trans_1\",\n",
    "    \"language_code_trans_1\",\n",
    "    \"unk16\",\n",
    "    \"certainty_trans_2\",\n",
    "    \"status_trans_2\",\n",
    "    \"language_code_trans_2\",\n",
    "    \"unk20\",\n",
    "    \"certainty_trans_3\",\n",
    "    \"status_trans_3\",\n",
    "    \"language_code_trans_3\",\n",
    "    \"unk24\",\n",
    "    \"certainty_trans_4\",\n",
    "    \"status_trans_4\",\n",
    "    \"language_code_trans_4\",\n",
    "    \"unk28\",\n",
    "    \"unk29\",\n",
    "    \"set_name\",\n",
    "    \"style_status\",\n",
    "    \"inflector_role\",\n",
    "    \"unk33\",\n",
    "    \"inflection_rule\",\n",
    "    \"morph_label\",\n",
    "    \"compounder_code\",\n",
    "    \"unk37\",\n",
    "    \"unk38\",\n",
    "    \"unk39\",\n",
    "    \"unk40\",\n",
    "    \"unk41\",\n",
    "    \"unk42\",\n",
    "    \"unk43\",\n",
    "    \"unk44\",\n",
    "    \"unk45\",\n",
    "    \"unk46\",\n",
    "    \"unk47\",\n",
    "    \"unk48\",\n",
    "    \"unk49\",\n",
    "    \"update_info\",\n",
    "    \"swelex_id\"\n",
    "]"
   ]
  },
  {
   "cell_type": "code",
   "execution_count": 10,
   "metadata": {},
   "outputs": [],
   "source": [
    "MACPATH = \"/Users/joregan/Downloads/NST svensk leksikon/swe030224NST.pron/swe030224NST.pron\""
   ]
  },
  {
   "cell_type": "code",
   "execution_count": 11,
   "metadata": {},
   "outputs": [
    {
     "ename": "UnicodeDecodeError",
     "evalue": "'utf-8' codec can't decode byte 0xf6 in position 1054: invalid start byte",
     "output_type": "error",
     "traceback": [
      "\u001b[0;31m---------------------------------------------------------------------------\u001b[0m",
      "\u001b[0;31mUnicodeDecodeError\u001b[0m                        Traceback (most recent call last)",
      "Input \u001b[0;32mIn [11]\u001b[0m, in \u001b[0;36m<module>\u001b[0;34m\u001b[0m\n\u001b[1;32m      1\u001b[0m \u001b[38;5;28;01mwith\u001b[39;00m \u001b[38;5;28mopen\u001b[39m(MACPATH) \u001b[38;5;28;01mas\u001b[39;00m swelexf:\n\u001b[1;32m      2\u001b[0m     swelex \u001b[38;5;241m=\u001b[39m csv\u001b[38;5;241m.\u001b[39mDictReader(swelexf, delimiter\u001b[38;5;241m=\u001b[39m\u001b[38;5;124m'\u001b[39m\u001b[38;5;124m;\u001b[39m\u001b[38;5;124m'\u001b[39m, fieldnames\u001b[38;5;241m=\u001b[39mfield_names)\n\u001b[0;32m----> 3\u001b[0m     \u001b[38;5;28;01mfor\u001b[39;00m row \u001b[38;5;129;01min\u001b[39;00m swelex:\n\u001b[1;32m      4\u001b[0m         \u001b[38;5;28mprint\u001b[39m(row)\n",
      "File \u001b[0;32m/opt/homebrew/Cellar/python@3.9/3.9.10/Frameworks/Python.framework/Versions/3.9/lib/python3.9/csv.py:111\u001b[0m, in \u001b[0;36mDictReader.__next__\u001b[0;34m(self)\u001b[0m\n\u001b[1;32m    108\u001b[0m \u001b[38;5;28;01mif\u001b[39;00m \u001b[38;5;28mself\u001b[39m\u001b[38;5;241m.\u001b[39mline_num \u001b[38;5;241m==\u001b[39m \u001b[38;5;241m0\u001b[39m:\n\u001b[1;32m    109\u001b[0m     \u001b[38;5;66;03m# Used only for its side effect.\u001b[39;00m\n\u001b[1;32m    110\u001b[0m     \u001b[38;5;28mself\u001b[39m\u001b[38;5;241m.\u001b[39mfieldnames\n\u001b[0;32m--> 111\u001b[0m row \u001b[38;5;241m=\u001b[39m \u001b[38;5;28;43mnext\u001b[39;49m\u001b[43m(\u001b[49m\u001b[38;5;28;43mself\u001b[39;49m\u001b[38;5;241;43m.\u001b[39;49m\u001b[43mreader\u001b[49m\u001b[43m)\u001b[49m\n\u001b[1;32m    112\u001b[0m \u001b[38;5;28mself\u001b[39m\u001b[38;5;241m.\u001b[39mline_num \u001b[38;5;241m=\u001b[39m \u001b[38;5;28mself\u001b[39m\u001b[38;5;241m.\u001b[39mreader\u001b[38;5;241m.\u001b[39mline_num\n\u001b[1;32m    114\u001b[0m \u001b[38;5;66;03m# unlike the basic reader, we prefer not to return blanks,\u001b[39;00m\n\u001b[1;32m    115\u001b[0m \u001b[38;5;66;03m# because we will typically wind up with a dict full of None\u001b[39;00m\n\u001b[1;32m    116\u001b[0m \u001b[38;5;66;03m# values\u001b[39;00m\n",
      "File \u001b[0;32m/opt/homebrew/Cellar/python@3.9/3.9.10/Frameworks/Python.framework/Versions/3.9/lib/python3.9/codecs.py:322\u001b[0m, in \u001b[0;36mBufferedIncrementalDecoder.decode\u001b[0;34m(self, input, final)\u001b[0m\n\u001b[1;32m    319\u001b[0m \u001b[38;5;28;01mdef\u001b[39;00m \u001b[38;5;21mdecode\u001b[39m(\u001b[38;5;28mself\u001b[39m, \u001b[38;5;28minput\u001b[39m, final\u001b[38;5;241m=\u001b[39m\u001b[38;5;28;01mFalse\u001b[39;00m):\n\u001b[1;32m    320\u001b[0m     \u001b[38;5;66;03m# decode input (taking the buffer into account)\u001b[39;00m\n\u001b[1;32m    321\u001b[0m     data \u001b[38;5;241m=\u001b[39m \u001b[38;5;28mself\u001b[39m\u001b[38;5;241m.\u001b[39mbuffer \u001b[38;5;241m+\u001b[39m \u001b[38;5;28minput\u001b[39m\n\u001b[0;32m--> 322\u001b[0m     (result, consumed) \u001b[38;5;241m=\u001b[39m \u001b[38;5;28;43mself\u001b[39;49m\u001b[38;5;241;43m.\u001b[39;49m\u001b[43m_buffer_decode\u001b[49m\u001b[43m(\u001b[49m\u001b[43mdata\u001b[49m\u001b[43m,\u001b[49m\u001b[43m \u001b[49m\u001b[38;5;28;43mself\u001b[39;49m\u001b[38;5;241;43m.\u001b[39;49m\u001b[43merrors\u001b[49m\u001b[43m,\u001b[49m\u001b[43m \u001b[49m\u001b[43mfinal\u001b[49m\u001b[43m)\u001b[49m\n\u001b[1;32m    323\u001b[0m     \u001b[38;5;66;03m# keep undecoded input until the next call\u001b[39;00m\n\u001b[1;32m    324\u001b[0m     \u001b[38;5;28mself\u001b[39m\u001b[38;5;241m.\u001b[39mbuffer \u001b[38;5;241m=\u001b[39m data[consumed:]\n",
      "\u001b[0;31mUnicodeDecodeError\u001b[0m: 'utf-8' codec can't decode byte 0xf6 in position 1054: invalid start byte"
     ]
    }
   ],
   "source": [
    "with open(MACPATH, encoding=\"latin1\") as swelexf:\n",
    "    swelex = csv.DictReader(swelexf, delimiter=';', fieldnames=field_names)\n",
    "    for row in swelex:\n",
    "        print(row)"
   ]
  },
  {
   "cell_type": "code",
   "execution_count": 3,
   "metadata": {},
   "outputs": [],
   "source": [
    "TRANSLIT = \"\"\"\n",
    "n\\` → ɳ ;\n",
    "s\\` → ʂ ;\n",
    "l\\` → ɭ ;\n",
    "t\\` → ʈ ;\n",
    "A → ɑ ;\n",
    "O → ɔ ;\n",
    "I → ɪ ;\n",
    "E → ɛ ;\n",
    "U → ʊ ;\n",
    "9 → œ ;\n",
    "N → ŋ ;\n",
    "'\"\"' → ˈ ;\n",
    "'\"' → ˈ ;\n",
    "\\% → ˌ ;\n",
    "\\: → ː ;\n",
    "\\$ → \\. ;\n",
    "\"\"\""
   ]
  },
  {
   "cell_type": "code",
   "execution_count": 1,
   "metadata": {},
   "outputs": [],
   "source": [
    "import icu\n",
    "def transliterator_from_rules(name, rules):\n",
    "    fromrules = icu.Transliterator.createFromRules(name, rules)\n",
    "    icu.Transliterator.registerInstance(fromrules)\n",
    "    return icu.Transliterator.createInstance(name)"
   ]
  },
  {
   "cell_type": "code",
   "execution_count": 6,
   "metadata": {},
   "outputs": [],
   "source": [
    "swelex_trans = transliterator_from_rules(\"swelex_trans\", TRANSLIT)"
   ]
  },
  {
   "cell_type": "code",
   "execution_count": 7,
   "metadata": {},
   "outputs": [],
   "source": [
    "assert swelex_trans.transliterate('\"\"bA:n`s`$%ma$man') == \"ˈbɑːɳʂ.ˌma.man\"\n",
    "assert swelex_trans.transliterate('\"b9r$mIN$ham') == \"ˈbœr.mɪŋ.ham\"\n",
    "assert swelex_trans.transliterate('\"bI$rU') == \"ˈbɪ.rʊ\""
   ]
  }
 ],
 "metadata": {
  "interpreter": {
   "hash": "05811a4c8edeb62e87c3e708461cae05c65dc4bb514779bc955273fc84b8bc5c"
  },
  "kernelspec": {
   "display_name": "Python 3 (ipykernel)",
   "language": "python",
   "name": "python3"
  },
  "language_info": {
   "codemirror_mode": {
    "name": "ipython",
    "version": 3
   },
   "file_extension": ".py",
   "mimetype": "text/x-python",
   "name": "python",
   "nbconvert_exporter": "python",
   "pygments_lexer": "ipython3",
   "version": "3.9.10"
  }
 },
 "nbformat": 4,
 "nbformat_minor": 4
}
