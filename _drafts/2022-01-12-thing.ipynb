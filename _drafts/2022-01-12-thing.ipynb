{
 "cells": [
  {
   "cell_type": "code",
   "execution_count": 4,
   "metadata": {},
   "outputs": [],
   "source": [
    "import csv"
   ]
  },
  {
   "cell_type": "code",
   "execution_count": 3,
   "metadata": {},
   "outputs": [],
   "source": [
    "field_names = [\n",
    "    \"orthography\",\n",
    "    \"extended_pos\",\n",
    "    \"morphology\",\n",
    "    \"decomp\",\n",
    "    \"decpos\",\n",
    "    \"source\",\n",
    "    \"language_code\",\n",
    "    \"garbage\",\n",
    "    \"domain\",\n",
    "    \"abbr_acr\",\n",
    "    \"expansion\",\n",
    "    \"transliteration1\",\n",
    "    \"certainty_trans_1\",\n",
    "    \"status_trans_1\",\n",
    "    \"language_code_trans_1\",\n",
    "    \"transliteration2\",\n",
    "    \"certainty_trans_2\",\n",
    "    \"status_trans_2\",\n",
    "    \"language_code_trans_2\",\n",
    "    \"transliteration3\",\n",
    "    \"certainty_trans_3\",\n",
    "    \"status_trans_3\",\n",
    "    \"language_code_trans_3\",\n",
    "    \"transliteration4\",\n",
    "    \"certainty_trans_4\",\n",
    "    \"status_trans_4\",\n",
    "    \"language_code_trans_4\",\n",
    "    \"auto_gen_variants\",\n",
    "    \"set_id\",\n",
    "    \"set_name\",\n",
    "    \"style_status\",\n",
    "    \"inflector_role\",\n",
    "    \"lemma\",\n",
    "    \"inflection_rule\",\n",
    "    \"morph_label\",\n",
    "    \"compounder_code\",\n",
    "    \"semantic_info\",\n",
    "    \"available_field1\",\n",
    "    \"available_field2\",\n",
    "    \"available_field3\",\n",
    "    \"available_field4\",\n",
    "    \"available_field5\",\n",
    "    \"available_field6\",\n",
    "    \"available_field7\",\n",
    "    \"available_field8\",\n",
    "    \"available_field9\",\n",
    "    \"frequency\",\n",
    "    \"original_orthography\",\n",
    "    \"comment_field\",\n",
    "    \"update_info\",\n",
    "    \"unique_id\"\n",
    "]"
   ]
  },
  {
   "cell_type": "code",
   "execution_count": 2,
   "metadata": {},
   "outputs": [],
   "source": [
    "MACPATH = \"/Users/joregan/Downloads/NST svensk leksikon/swe030224NST.pron/swe030224NST.pron\""
   ]
  },
  {
   "cell_type": "code",
   "execution_count": 7,
   "metadata": {},
   "outputs": [
    {
     "ename": "TypeError",
     "evalue": "Object of type TextIOWrapper is not JSON serializable",
     "output_type": "error",
     "traceback": [
      "\u001b[0;31m---------------------------------------------------------------------------\u001b[0m",
      "\u001b[0;31mTypeError\u001b[0m                                 Traceback (most recent call last)",
      "Input \u001b[0;32mIn [7]\u001b[0m, in \u001b[0;36m<module>\u001b[0;34m\u001b[0m\n\u001b[1;32m      6\u001b[0m         data_out\u001b[38;5;241m.\u001b[39mappend(row)\n\u001b[1;32m      7\u001b[0m \u001b[38;5;28;01mwith\u001b[39;00m \u001b[38;5;28mopen\u001b[39m(\u001b[38;5;124m\"\u001b[39m\u001b[38;5;124m/Users/joregan/svlex.json\u001b[39m\u001b[38;5;124m\"\u001b[39m, \u001b[38;5;124m\"\u001b[39m\u001b[38;5;124mw\u001b[39m\u001b[38;5;124m\"\u001b[39m) \u001b[38;5;28;01mas\u001b[39;00m outf:\n\u001b[0;32m----> 8\u001b[0m     \u001b[43mjson\u001b[49m\u001b[38;5;241;43m.\u001b[39;49m\u001b[43mdump\u001b[49m\u001b[43m(\u001b[49m\u001b[43moutf\u001b[49m\u001b[43m,\u001b[49m\u001b[43m \u001b[49m\u001b[43mdata_out\u001b[49m\u001b[43m)\u001b[49m\n",
      "File \u001b[0;32m/opt/homebrew/Cellar/python@3.9/3.9.10/Frameworks/Python.framework/Versions/3.9/lib/python3.9/json/__init__.py:179\u001b[0m, in \u001b[0;36mdump\u001b[0;34m(obj, fp, skipkeys, ensure_ascii, check_circular, allow_nan, cls, indent, separators, default, sort_keys, **kw)\u001b[0m\n\u001b[1;32m    173\u001b[0m     iterable \u001b[38;5;241m=\u001b[39m \u001b[38;5;28mcls\u001b[39m(skipkeys\u001b[38;5;241m=\u001b[39mskipkeys, ensure_ascii\u001b[38;5;241m=\u001b[39mensure_ascii,\n\u001b[1;32m    174\u001b[0m         check_circular\u001b[38;5;241m=\u001b[39mcheck_circular, allow_nan\u001b[38;5;241m=\u001b[39mallow_nan, indent\u001b[38;5;241m=\u001b[39mindent,\n\u001b[1;32m    175\u001b[0m         separators\u001b[38;5;241m=\u001b[39mseparators,\n\u001b[1;32m    176\u001b[0m         default\u001b[38;5;241m=\u001b[39mdefault, sort_keys\u001b[38;5;241m=\u001b[39msort_keys, \u001b[38;5;241m*\u001b[39m\u001b[38;5;241m*\u001b[39mkw)\u001b[38;5;241m.\u001b[39miterencode(obj)\n\u001b[1;32m    177\u001b[0m \u001b[38;5;66;03m# could accelerate with writelines in some versions of Python, at\u001b[39;00m\n\u001b[1;32m    178\u001b[0m \u001b[38;5;66;03m# a debuggability cost\u001b[39;00m\n\u001b[0;32m--> 179\u001b[0m \u001b[38;5;28;01mfor\u001b[39;00m chunk \u001b[38;5;129;01min\u001b[39;00m iterable:\n\u001b[1;32m    180\u001b[0m     fp\u001b[38;5;241m.\u001b[39mwrite(chunk)\n",
      "File \u001b[0;32m/opt/homebrew/Cellar/python@3.9/3.9.10/Frameworks/Python.framework/Versions/3.9/lib/python3.9/json/encoder.py:438\u001b[0m, in \u001b[0;36m_make_iterencode.<locals>._iterencode\u001b[0;34m(o, _current_indent_level)\u001b[0m\n\u001b[1;32m    436\u001b[0m         \u001b[38;5;28;01mraise\u001b[39;00m \u001b[38;5;167;01mValueError\u001b[39;00m(\u001b[38;5;124m\"\u001b[39m\u001b[38;5;124mCircular reference detected\u001b[39m\u001b[38;5;124m\"\u001b[39m)\n\u001b[1;32m    437\u001b[0m     markers[markerid] \u001b[38;5;241m=\u001b[39m o\n\u001b[0;32m--> 438\u001b[0m o \u001b[38;5;241m=\u001b[39m \u001b[43m_default\u001b[49m\u001b[43m(\u001b[49m\u001b[43mo\u001b[49m\u001b[43m)\u001b[49m\n\u001b[1;32m    439\u001b[0m \u001b[38;5;28;01myield from\u001b[39;00m _iterencode(o, _current_indent_level)\n\u001b[1;32m    440\u001b[0m \u001b[38;5;28;01mif\u001b[39;00m markers \u001b[38;5;129;01mis\u001b[39;00m \u001b[38;5;129;01mnot\u001b[39;00m \u001b[38;5;28;01mNone\u001b[39;00m:\n",
      "File \u001b[0;32m/opt/homebrew/Cellar/python@3.9/3.9.10/Frameworks/Python.framework/Versions/3.9/lib/python3.9/json/encoder.py:179\u001b[0m, in \u001b[0;36mJSONEncoder.default\u001b[0;34m(self, o)\u001b[0m\n\u001b[1;32m    160\u001b[0m \u001b[38;5;28;01mdef\u001b[39;00m \u001b[38;5;21mdefault\u001b[39m(\u001b[38;5;28mself\u001b[39m, o):\n\u001b[1;32m    161\u001b[0m     \u001b[38;5;124;03m\"\"\"Implement this method in a subclass such that it returns\u001b[39;00m\n\u001b[1;32m    162\u001b[0m \u001b[38;5;124;03m    a serializable object for ``o``, or calls the base implementation\u001b[39;00m\n\u001b[1;32m    163\u001b[0m \u001b[38;5;124;03m    (to raise a ``TypeError``).\u001b[39;00m\n\u001b[0;32m   (...)\u001b[0m\n\u001b[1;32m    177\u001b[0m \n\u001b[1;32m    178\u001b[0m \u001b[38;5;124;03m    \"\"\"\u001b[39;00m\n\u001b[0;32m--> 179\u001b[0m     \u001b[38;5;28;01mraise\u001b[39;00m \u001b[38;5;167;01mTypeError\u001b[39;00m(\u001b[38;5;124mf\u001b[39m\u001b[38;5;124m'\u001b[39m\u001b[38;5;124mObject of type \u001b[39m\u001b[38;5;132;01m{\u001b[39;00mo\u001b[38;5;241m.\u001b[39m\u001b[38;5;18m__class__\u001b[39m\u001b[38;5;241m.\u001b[39m\u001b[38;5;18m__name__\u001b[39m\u001b[38;5;132;01m}\u001b[39;00m\u001b[38;5;124m \u001b[39m\u001b[38;5;124m'\u001b[39m\n\u001b[1;32m    180\u001b[0m                     \u001b[38;5;124mf\u001b[39m\u001b[38;5;124m'\u001b[39m\u001b[38;5;124mis not JSON serializable\u001b[39m\u001b[38;5;124m'\u001b[39m)\n",
      "\u001b[0;31mTypeError\u001b[0m: Object of type TextIOWrapper is not JSON serializable"
     ]
    }
   ],
   "source": [
    "import json\n",
    "data_out = []\n",
    "with open(MACPATH, encoding=\"latin1\") as swelexf:\n",
    "    swelex = csv.DictReader(swelexf, delimiter=';', fieldnames=field_names, quoting=csv.QUOTE_NONE)\n",
    "    for row in swelex:\n",
    "        data_out.append(row)\n",
    "with open(\"/Users/joregan/svlex.json\", \"w\") as outf:\n",
    "    json.dump(outf, data_out)"
   ]
  },
  {
   "cell_type": "code",
   "execution_count": 3,
   "metadata": {},
   "outputs": [],
   "source": [
    "TRANSLIT = \"\"\"\n",
    "n\\` → ɳ ;\n",
    "s\\` → ʂ ;\n",
    "l\\` → ɭ ;\n",
    "t\\` → ʈ ;\n",
    "A → ɑ ;\n",
    "O → ɔ ;\n",
    "I → ɪ ;\n",
    "E → ɛ ;\n",
    "U → ʊ ;\n",
    "9 → œ ;\n",
    "N → ŋ ;\n",
    "'\"\"' → ˈ ;\n",
    "'\"' → ˈ ;\n",
    "\\% → ˌ ;\n",
    "\\: → ː ;\n",
    "\\$ → \\. ;\n",
    "\"\"\""
   ]
  },
  {
   "cell_type": "code",
   "execution_count": 1,
   "metadata": {},
   "outputs": [],
   "source": [
    "import icu\n",
    "def transliterator_from_rules(name, rules):\n",
    "    fromrules = icu.Transliterator.createFromRules(name, rules)\n",
    "    icu.Transliterator.registerInstance(fromrules)\n",
    "    return icu.Transliterator.createInstance(name)"
   ]
  },
  {
   "cell_type": "code",
   "execution_count": 6,
   "metadata": {},
   "outputs": [],
   "source": [
    "swelex_trans = transliterator_from_rules(\"swelex_trans\", TRANSLIT)"
   ]
  },
  {
   "cell_type": "code",
   "execution_count": 7,
   "metadata": {},
   "outputs": [],
   "source": [
    "assert swelex_trans.transliterate('\"\"bA:n`s`$%ma$man') == \"ˈbɑːɳʂ.ˌma.man\"\n",
    "assert swelex_trans.transliterate('\"b9r$mIN$ham') == \"ˈbœr.mɪŋ.ham\"\n",
    "assert swelex_trans.transliterate('\"bI$rU') == \"ˈbɪ.rʊ\""
   ]
  }
 ],
 "metadata": {
  "interpreter": {
   "hash": "05811a4c8edeb62e87c3e708461cae05c65dc4bb514779bc955273fc84b8bc5c"
  },
  "kernelspec": {
   "display_name": "Python 3 (ipykernel)",
   "language": "python",
   "name": "python3"
  },
  "language_info": {
   "codemirror_mode": {
    "name": "ipython",
    "version": 3
   },
   "file_extension": ".py",
   "mimetype": "text/x-python",
   "name": "python",
   "nbconvert_exporter": "python",
   "pygments_lexer": "ipython3",
   "version": "3.9.10"
  }
 },
 "nbformat": 4,
 "nbformat_minor": 4
}
