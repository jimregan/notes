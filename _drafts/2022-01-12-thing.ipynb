{
 "cells": [
  {
   "cell_type": "code",
   "execution_count": 7,
   "metadata": {},
   "outputs": [],
   "source": [
    "import csv"
   ]
  },
  {
   "cell_type": "code",
   "execution_count": 8,
   "metadata": {},
   "outputs": [],
   "source": [
    "field_names = [\n",
    "    \"word\",\n",
    "    \"extended_pos\",\n",
    "    \"morphology\",\n",
    "    \"unk4\",\n",
    "    \"decpos\",\n",
    "    \"source\",\n",
    "    \"language_code\",\n",
    "    \"garbage\",\n",
    "    \"domain\",\n",
    "    \"abbr_acr\",\n",
    "    \"unk11\",\n",
    "    \"unk12\",\n",
    "    \"certainty_trans_1\",\n",
    "    \"status_trans_1\",\n",
    "    \"language_code_trans_1\",\n",
    "    \"unk16\",\n",
    "    \"certainty_trans_2\",\n",
    "    \"status_trans_2\",\n",
    "    \"language_code_trans_2\",\n",
    "    \"unk20\",\n",
    "    \"certainty_trans_3\",\n",
    "    \"status_trans_3\",\n",
    "    \"language_code_trans_3\",\n",
    "    \"unk24\",\n",
    "    \"certainty_trans_4\",\n",
    "    \"status_trans_4\",\n",
    "    \"language_code_trans_4\",\n",
    "    \"unk28\",\n",
    "    \"unk29\",\n",
    "    \"set_name\",\n",
    "    \"style_status\",\n",
    "    \"inflector_role\",\n",
    "    \"unk33\",\n",
    "    \"inflection_rule\",\n",
    "    \"morph_label\",\n",
    "    \"compounder_code\",\n",
    "    \"unk37\",\n",
    "    \"unk38\",\n",
    "    \"unk39\",\n",
    "    \"unk40\",\n",
    "    \"unk41\",\n",
    "    \"unk42\",\n",
    "    \"unk43\",\n",
    "    \"unk44\",\n",
    "    \"unk45\",\n",
    "    \"unk46\",\n",
    "    \"unk47\",\n",
    "    \"unk48\",\n",
    "    \"unk49\",\n",
    "    \"update_info\",\n",
    "    \"swelex_id\"\n",
    "]"
   ]
  },
  {
   "cell_type": "code",
   "execution_count": 9,
   "metadata": {},
   "outputs": [
    {
     "ename": "IndentationError",
     "evalue": "expected an indented block (Temp/ipykernel_8360/4085861930.py, line 4)",
     "output_type": "error",
     "traceback": [
      "\u001b[1;36m  File \u001b[1;32m\"C:\\Users\\JIMO'R~1\\AppData\\Local\\Temp/ipykernel_8360/4085861930.py\"\u001b[1;36m, line \u001b[1;32m4\u001b[0m\n\u001b[1;33m    print(row)\u001b[0m\n\u001b[1;37m    ^\u001b[0m\n\u001b[1;31mIndentationError\u001b[0m\u001b[1;31m:\u001b[0m expected an indented block\n"
     ]
    }
   ],
   "source": [
    "with open('swe030224NST.pron') as swelexf:\n",
    "    swelex = csv.DictReader(swelexf, delimiter=';', fieldnames=field_names)\n",
    "    for row in swelex:\n",
    "    print(row)"
   ]
  },
  {
   "cell_type": "code",
   "execution_count": null,
   "metadata": {},
   "outputs": [],
   "source": [
    "TRANSLIT = \"\"\"\n",
    "n\\` → ɳ ;\n",
    "s\\` → ʂ ;\n",
    "l\\` → ɭ ;\n",
    "t\\` → ʈ ;\n",
    "A → ɑ ;\n",
    "O → ɔ ;\n",
    "I → ɪ ;\n",
    "E → ɛ ;\n",
    "U → ʊ ;\n",
    "9 → œ ;\n",
    "N → ŋ ;\n",
    "'\"\"' → ˈ ;\n",
    "'\"' → ˈ ;\n",
    "\\% → ˌ ;\n",
    "\\: → ː ;\n",
    "\\$ → \\. ;\n",
    "\"\"\""
   ]
  },
  {
   "cell_type": "code",
   "execution_count": 2,
   "metadata": {},
   "outputs": [
    {
     "ename": "ModuleNotFoundError",
     "evalue": "No module named 'icu'",
     "output_type": "error",
     "traceback": [
      "\u001b[1;31m---------------------------------------------------------------------------\u001b[0m",
      "\u001b[1;31mModuleNotFoundError\u001b[0m                       Traceback (most recent call last)",
      "\u001b[1;32mC:\\Users\\JIMO'R~1\\AppData\\Local\\Temp/ipykernel_8360/1566956674.py\u001b[0m in \u001b[0;36m<module>\u001b[1;34m\u001b[0m\n\u001b[1;32m----> 1\u001b[1;33m \u001b[1;32mimport\u001b[0m \u001b[0micu\u001b[0m\u001b[1;33m\u001b[0m\u001b[1;33m\u001b[0m\u001b[0m\n\u001b[0m\u001b[0;32m      2\u001b[0m \u001b[1;32mdef\u001b[0m \u001b[0mtransliterator_from_rules\u001b[0m\u001b[1;33m(\u001b[0m\u001b[0mname\u001b[0m\u001b[1;33m,\u001b[0m \u001b[0mrules\u001b[0m\u001b[1;33m)\u001b[0m\u001b[1;33m:\u001b[0m\u001b[1;33m\u001b[0m\u001b[1;33m\u001b[0m\u001b[0m\n\u001b[0;32m      3\u001b[0m     \u001b[0mfromrules\u001b[0m \u001b[1;33m=\u001b[0m \u001b[0micu\u001b[0m\u001b[1;33m.\u001b[0m\u001b[0mTransliterator\u001b[0m\u001b[1;33m.\u001b[0m\u001b[0mcreateFromRules\u001b[0m\u001b[1;33m(\u001b[0m\u001b[0mname\u001b[0m\u001b[1;33m,\u001b[0m \u001b[0mrules\u001b[0m\u001b[1;33m)\u001b[0m\u001b[1;33m\u001b[0m\u001b[1;33m\u001b[0m\u001b[0m\n\u001b[0;32m      4\u001b[0m     \u001b[0micu\u001b[0m\u001b[1;33m.\u001b[0m\u001b[0mTransliterator\u001b[0m\u001b[1;33m.\u001b[0m\u001b[0mregisterInstance\u001b[0m\u001b[1;33m(\u001b[0m\u001b[0mfromrules\u001b[0m\u001b[1;33m)\u001b[0m\u001b[1;33m\u001b[0m\u001b[1;33m\u001b[0m\u001b[0m\n\u001b[0;32m      5\u001b[0m     \u001b[1;32mreturn\u001b[0m \u001b[0micu\u001b[0m\u001b[1;33m.\u001b[0m\u001b[0mTransliterator\u001b[0m\u001b[1;33m.\u001b[0m\u001b[0mcreateInstance\u001b[0m\u001b[1;33m(\u001b[0m\u001b[0mname\u001b[0m\u001b[1;33m)\u001b[0m\u001b[1;33m\u001b[0m\u001b[1;33m\u001b[0m\u001b[0m\n",
      "\u001b[1;31mModuleNotFoundError\u001b[0m: No module named 'icu'"
     ]
    }
   ],
   "source": [
    "import icu\n",
    "def transliterator_from_rules(name, rules):\n",
    "    fromrules = icu.Transliterator.createFromRules(name, rules)\n",
    "    icu.Transliterator.registerInstance(fromrules)\n",
    "    return icu.Transliterator.createInstance(name)"
   ]
  },
  {
   "cell_type": "code",
   "execution_count": null,
   "metadata": {},
   "outputs": [],
   "source": [
    "assert swelex_trans.transliterate('\"\"bA:n`s`$%ma$man') == \"ˈbɑːɳʂ.ˌma.man\"\n",
    "assert swelex_trans.transliterate('\"b9r$mIN$ham') == \"ˈbœr.mɪŋ.ham\"\n",
    "assert swelex_trans.transliterate('\"bI$rU') == \"ˈbɪ.rʊ\""
   ]
  }
 ],
 "metadata": {
  "interpreter": {
   "hash": "05811a4c8edeb62e87c3e708461cae05c65dc4bb514779bc955273fc84b8bc5c"
  },
  "kernelspec": {
   "display_name": "Python 3.8.12 64-bit (conda)",
   "language": "python",
   "name": "python3"
  },
  "language_info": {
   "codemirror_mode": {
    "name": "ipython",
    "version": 3
   },
   "file_extension": ".py",
   "mimetype": "text/x-python",
   "name": "python",
   "nbconvert_exporter": "python",
   "pygments_lexer": "ipython3",
   "version": "3.8.12"
  },
  "orig_nbformat": 4
 },
 "nbformat": 4,
 "nbformat_minor": 2
}
