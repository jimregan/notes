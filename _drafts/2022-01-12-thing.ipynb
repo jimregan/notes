{
 "cells": [
  {
   "cell_type": "code",
   "execution_count": 4,
   "metadata": {},
   "outputs": [],
   "source": [
    "import csv"
   ]
  },
  {
   "cell_type": "code",
   "execution_count": 3,
   "metadata": {},
   "outputs": [],
   "source": [
    "field_names = [\n",
    "    \"orthography\",\n",
    "    \"extended_pos\",\n",
    "    \"morphology\",\n",
    "    \"decomp\",\n",
    "    \"decpos\",\n",
    "    \"source\",\n",
    "    \"language_code\",\n",
    "    \"garbage\",\n",
    "    \"domain\",\n",
    "    \"abbr_acr\",\n",
    "    \"expansion\",\n",
    "    \"transliteration1\",\n",
    "    \"certainty_trans_1\",\n",
    "    \"status_trans_1\",\n",
    "    \"language_code_trans_1\",\n",
    "    \"transliteration2\",\n",
    "    \"certainty_trans_2\",\n",
    "    \"status_trans_2\",\n",
    "    \"language_code_trans_2\",\n",
    "    \"transliteration3\",\n",
    "    \"certainty_trans_3\",\n",
    "    \"status_trans_3\",\n",
    "    \"language_code_trans_3\",\n",
    "    \"transliteration4\",\n",
    "    \"certainty_trans_4\",\n",
    "    \"status_trans_4\",\n",
    "    \"language_code_trans_4\",\n",
    "    \"auto_gen_variants\",\n",
    "    \"set_id\",\n",
    "    \"set_name\",\n",
    "    \"style_status\",\n",
    "    \"inflector_role\",\n",
    "    \"lemma\",\n",
    "    \"inflection_rule\",\n",
    "    \"morph_label\",\n",
    "    \"compounder_code\",\n",
    "    \"semantic_info\",\n",
    "    \"available_field1\",\n",
    "    \"available_field2\",\n",
    "    \"available_field3\",\n",
    "    \"available_field4\",\n",
    "    \"available_field5\",\n",
    "    \"available_field6\",\n",
    "    \"available_field7\",\n",
    "    \"available_field8\",\n",
    "    \"available_field9\",\n",
    "    \"frequency\",\n",
    "    \"original_orthography\",\n",
    "    \"comment_field\",\n",
    "    \"update_info\",\n",
    "    \"unique_id\"\n",
    "]"
   ]
  },
  {
   "cell_type": "code",
   "execution_count": 2,
   "metadata": {},
   "outputs": [],
   "source": [
    "MACPATH = \"/Users/joregan/Downloads/NST svensk leksikon/swe030224NST.pron/swe030224NST.pron\""
   ]
  },
  {
   "cell_type": "code",
   "execution_count": 6,
   "metadata": {},
   "outputs": [
    {
     "ename": "TypeError",
     "evalue": "'quoting' is an invalid keyword argument for open()",
     "output_type": "error",
     "traceback": [
      "\u001b[0;31m---------------------------------------------------------------------------\u001b[0m",
      "\u001b[0;31mTypeError\u001b[0m                                 Traceback (most recent call last)",
      "Input \u001b[0;32mIn [6]\u001b[0m, in \u001b[0;36m<module>\u001b[0;34m\u001b[0m\n\u001b[1;32m      1\u001b[0m \u001b[38;5;28;01mimport\u001b[39;00m \u001b[38;5;21;01mjson\u001b[39;00m\n\u001b[1;32m      2\u001b[0m data_out \u001b[38;5;241m=\u001b[39m []\n\u001b[0;32m----> 3\u001b[0m \u001b[38;5;28;01mwith\u001b[39;00m \u001b[38;5;28;43mopen\u001b[39;49m\u001b[43m(\u001b[49m\u001b[43mMACPATH\u001b[49m\u001b[43m,\u001b[49m\u001b[43m \u001b[49m\u001b[43mencoding\u001b[49m\u001b[38;5;241;43m=\u001b[39;49m\u001b[38;5;124;43m\"\u001b[39;49m\u001b[38;5;124;43mlatin1\u001b[39;49m\u001b[38;5;124;43m\"\u001b[39;49m\u001b[43m,\u001b[49m\u001b[43m \u001b[49m\u001b[43mquoting\u001b[49m\u001b[38;5;241;43m=\u001b[39;49m\u001b[43mcsv\u001b[49m\u001b[38;5;241;43m.\u001b[39;49m\u001b[43mQUOTE_NONE\u001b[49m\u001b[43m)\u001b[49m \u001b[38;5;28;01mas\u001b[39;00m swelexf:\n\u001b[1;32m      4\u001b[0m     swelex \u001b[38;5;241m=\u001b[39m csv\u001b[38;5;241m.\u001b[39mDictReader(swelexf, delimiter\u001b[38;5;241m=\u001b[39m\u001b[38;5;124m'\u001b[39m\u001b[38;5;124m;\u001b[39m\u001b[38;5;124m'\u001b[39m, fieldnames\u001b[38;5;241m=\u001b[39mfield_names)\n\u001b[1;32m      5\u001b[0m     \u001b[38;5;28;01mfor\u001b[39;00m row \u001b[38;5;129;01min\u001b[39;00m swelex:\n",
      "\u001b[0;31mTypeError\u001b[0m: 'quoting' is an invalid keyword argument for open()"
     ]
    }
   ],
   "source": [
    "import json\n",
    "data_out = []\n",
    "with open(MACPATH, encoding=\"latin1\") as swelexf:\n",
    "    swelex = csv.DictReader(swelexf, delimiter=';', fieldnames=field_names, quoting=csv.QUOTE_NONE)\n",
    "    for row in swelex:\n",
    "        data_out.append(row)\n",
    "with open(\"/Users/joregan/svlex.json\", \"w\") as outf:\n",
    "    json.dump(outf, data_out)"
   ]
  },
  {
   "cell_type": "code",
   "execution_count": 3,
   "metadata": {},
   "outputs": [],
   "source": [
    "TRANSLIT = \"\"\"\n",
    "n\\` → ɳ ;\n",
    "s\\` → ʂ ;\n",
    "l\\` → ɭ ;\n",
    "t\\` → ʈ ;\n",
    "A → ɑ ;\n",
    "O → ɔ ;\n",
    "I → ɪ ;\n",
    "E → ɛ ;\n",
    "U → ʊ ;\n",
    "9 → œ ;\n",
    "N → ŋ ;\n",
    "'\"\"' → ˈ ;\n",
    "'\"' → ˈ ;\n",
    "\\% → ˌ ;\n",
    "\\: → ː ;\n",
    "\\$ → \\. ;\n",
    "\"\"\""
   ]
  },
  {
   "cell_type": "code",
   "execution_count": 1,
   "metadata": {},
   "outputs": [],
   "source": [
    "import icu\n",
    "def transliterator_from_rules(name, rules):\n",
    "    fromrules = icu.Transliterator.createFromRules(name, rules)\n",
    "    icu.Transliterator.registerInstance(fromrules)\n",
    "    return icu.Transliterator.createInstance(name)"
   ]
  },
  {
   "cell_type": "code",
   "execution_count": 6,
   "metadata": {},
   "outputs": [],
   "source": [
    "swelex_trans = transliterator_from_rules(\"swelex_trans\", TRANSLIT)"
   ]
  },
  {
   "cell_type": "code",
   "execution_count": 7,
   "metadata": {},
   "outputs": [],
   "source": [
    "assert swelex_trans.transliterate('\"\"bA:n`s`$%ma$man') == \"ˈbɑːɳʂ.ˌma.man\"\n",
    "assert swelex_trans.transliterate('\"b9r$mIN$ham') == \"ˈbœr.mɪŋ.ham\"\n",
    "assert swelex_trans.transliterate('\"bI$rU') == \"ˈbɪ.rʊ\""
   ]
  }
 ],
 "metadata": {
  "interpreter": {
   "hash": "05811a4c8edeb62e87c3e708461cae05c65dc4bb514779bc955273fc84b8bc5c"
  },
  "kernelspec": {
   "display_name": "Python 3 (ipykernel)",
   "language": "python",
   "name": "python3"
  },
  "language_info": {
   "codemirror_mode": {
    "name": "ipython",
    "version": 3
   },
   "file_extension": ".py",
   "mimetype": "text/x-python",
   "name": "python",
   "nbconvert_exporter": "python",
   "pygments_lexer": "ipython3",
   "version": "3.9.10"
  }
 },
 "nbformat": 4,
 "nbformat_minor": 4
}
