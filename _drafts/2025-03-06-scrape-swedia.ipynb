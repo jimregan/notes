{
 "cells": [
  {
   "cell_type": "markdown",
   "id": "c78a7b56",
   "metadata": {},
   "source": [
    "# Scrape SweDia\n",
    "\n",
    "> \"For a student project\"\n",
    "\n",
    "- branch: master\n",
    "- comments: false\n",
    "- categories: [swedia, swedish, kaggle]"
   ]
  },
  {
   "cell_type": "code",
   "execution_count": 1,
   "id": "7d2b4ecd",
   "metadata": {
    "_cell_guid": "b1076dfc-b9ad-4769-8c92-a6c4dae69d19",
    "_uuid": "8f2839f25d086af736a60e9eeb907d3b93b6e0e5",
    "execution": {
     "iopub.execute_input": "2025-03-06T17:26:52.371433Z",
     "iopub.status.busy": "2025-03-06T17:26:52.371011Z",
     "iopub.status.idle": "2025-03-06T17:26:52.894317Z",
     "shell.execute_reply": "2025-03-06T17:26:52.893239Z"
    },
    "papermill": {
     "duration": 0.529471,
     "end_time": "2025-03-06T17:26:52.896409",
     "exception": false,
     "start_time": "2025-03-06T17:26:52.366938",
     "status": "completed"
    },
    "tags": []
   },
   "outputs": [],
   "source": [
    "import requests\n",
    "from bs4 import BeautifulSoup"
   ]
  },
  {
   "cell_type": "code",
   "execution_count": 2,
   "id": "993b9e20",
   "metadata": {
    "execution": {
     "iopub.execute_input": "2025-03-06T17:26:52.902854Z",
     "iopub.status.busy": "2025-03-06T17:26:52.902386Z",
     "iopub.status.idle": "2025-03-06T17:26:56.586755Z",
     "shell.execute_reply": "2025-03-06T17:26:56.585501Z"
    },
    "papermill": {
     "duration": 3.689509,
     "end_time": "2025-03-06T17:26:56.588793",
     "exception": false,
     "start_time": "2025-03-06T17:26:52.899284",
     "status": "completed"
    },
    "tags": []
   },
   "outputs": [
    {
     "name": "stdout",
     "output_type": "stream",
     "text": [
      "\r\n",
      "\r\n",
      "\r\n",
      "wget is already the newest version (1.21.2-2ubuntu1.1).\r\n",
      "0 upgraded, 0 newly installed, 0 to remove and 129 not upgraded.\r\n"
     ]
    }
   ],
   "source": [
    "!apt install wget"
   ]
  },
  {
   "cell_type": "code",
   "execution_count": 3,
   "id": "0352a43f",
   "metadata": {
    "execution": {
     "iopub.execute_input": "2025-03-06T17:26:56.597836Z",
     "iopub.status.busy": "2025-03-06T17:26:56.597433Z",
     "iopub.status.idle": "2025-03-06T17:26:56.605576Z",
     "shell.execute_reply": "2025-03-06T17:26:56.604441Z"
    },
    "papermill": {
     "duration": 0.014683,
     "end_time": "2025-03-06T17:26:56.607424",
     "exception": false,
     "start_time": "2025-03-06T17:26:56.592741",
     "status": "completed"
    },
    "tags": []
   },
   "outputs": [],
   "source": [
    "def get_dialect_links(LANDING = \"https://swedia.ling.gu.se/snabbmeny.html\"):\n",
    "    req = requests.get(LANDING)\n",
    "    if req.status_code != 200:\n",
    "        return []\n",
    "    soup = BeautifulSoup(req.text, \"html.parser\")\n",
    "    layer = soup.find(\"div\", {\"id\": \"Layer1\"})\n",
    "    links = []\n",
    "    for anchor in layer.find_all(\"a\"):\n",
    "        link = anchor[\"href\"]\n",
    "        parts = link.replace(\"/index.html\", \"\").split(\"/\")\n",
    "        if len(parts) == 3:\n",
    "            links.append(link)\n",
    "    return [f\"https://swedia.ling.gu.se/{l}\" for l in links]"
   ]
  },
  {
   "cell_type": "code",
   "execution_count": 4,
   "id": "a094982f",
   "metadata": {
    "execution": {
     "iopub.execute_input": "2025-03-06T17:26:56.616195Z",
     "iopub.status.busy": "2025-03-06T17:26:56.615792Z",
     "iopub.status.idle": "2025-03-06T17:26:56.819224Z",
     "shell.execute_reply": "2025-03-06T17:26:56.817960Z"
    },
    "papermill": {
     "duration": 0.209756,
     "end_time": "2025-03-06T17:26:56.821090",
     "exception": false,
     "start_time": "2025-03-06T17:26:56.611334",
     "status": "completed"
    },
    "tags": []
   },
   "outputs": [],
   "source": [
    "links = get_dialect_links()"
   ]
  },
  {
   "cell_type": "code",
   "execution_count": 5,
   "id": "4a3ca1ab",
   "metadata": {
    "execution": {
     "iopub.execute_input": "2025-03-06T17:26:56.830401Z",
     "iopub.status.busy": "2025-03-06T17:26:56.829943Z",
     "iopub.status.idle": "2025-03-06T17:26:56.835567Z",
     "shell.execute_reply": "2025-03-06T17:26:56.834496Z"
    },
    "papermill": {
     "duration": 0.012044,
     "end_time": "2025-03-06T17:26:56.837206",
     "exception": false,
     "start_time": "2025-03-06T17:26:56.825162",
     "status": "completed"
    },
    "tags": []
   },
   "outputs": [],
   "source": [
    "def get_dialect_speaker_links(dialect_link):\n",
    "    req = requests.get(dialect_link)\n",
    "    base = dialect_link.replace(\"index.html\", \"\")\n",
    "    out = []\n",
    "    if req.status_code != 200:\n",
    "        return []\n",
    "    soup = BeautifulSoup(req.text, \"html.parser\")\n",
    "    audio = soup.find(\"div\", {\"id\": \"Lyssna\"})\n",
    "    links = []\n",
    "    for anchor in audio.find_all(\"a\"):\n",
    "        link = anchor[\"href\"]\n",
    "        out.append(f\"{base}{link}\")\n",
    "    return out"
   ]
  },
  {
   "cell_type": "code",
   "execution_count": 6,
   "id": "a2f11ace",
   "metadata": {
    "execution": {
     "iopub.execute_input": "2025-03-06T17:26:56.846285Z",
     "iopub.status.busy": "2025-03-06T17:26:56.845823Z",
     "iopub.status.idle": "2025-03-06T17:26:57.058107Z",
     "shell.execute_reply": "2025-03-06T17:26:57.056930Z"
    },
    "papermill": {
     "duration": 0.218953,
     "end_time": "2025-03-06T17:26:57.060038",
     "exception": false,
     "start_time": "2025-03-06T17:26:56.841085",
     "status": "completed"
    },
    "tags": []
   },
   "outputs": [
    {
     "data": {
      "text/plain": [
       "['https://swedia.ling.gu.se/Gotaland/Bohuslan/Karna/ow.html',\n",
       " 'https://swedia.ling.gu.se/Gotaland/Bohuslan/Karna/om.html',\n",
       " 'https://swedia.ling.gu.se/Gotaland/Bohuslan/Karna/yw.html',\n",
       " 'https://swedia.ling.gu.se/Gotaland/Bohuslan/Karna/ym.html']"
      ]
     },
     "execution_count": 6,
     "metadata": {},
     "output_type": "execute_result"
    }
   ],
   "source": [
    "get_dialect_speaker_links(\"https://swedia.ling.gu.se/Gotaland/Bohuslan/Karna/index.html\")"
   ]
  },
  {
   "cell_type": "code",
   "execution_count": 7,
   "id": "b2f75bd0",
   "metadata": {
    "execution": {
     "iopub.execute_input": "2025-03-06T17:26:57.069573Z",
     "iopub.status.busy": "2025-03-06T17:26:57.069111Z",
     "iopub.status.idle": "2025-03-06T17:26:57.076853Z",
     "shell.execute_reply": "2025-03-06T17:26:57.075684Z"
    },
    "papermill": {
     "duration": 0.014445,
     "end_time": "2025-03-06T17:26:57.078739",
     "exception": false,
     "start_time": "2025-03-06T17:26:57.064294",
     "status": "completed"
    },
    "tags": []
   },
   "outputs": [],
   "source": [
    "def get_dialect_media(link):\n",
    "    req = requests.get(link)\n",
    "    if req.status_code != 200:\n",
    "        return []\n",
    "    soup = BeautifulSoup(req.text, \"html.parser\")\n",
    "\n",
    "    links = []\n",
    "    text = soup.find(\"div\", {\"id\": \"Oversattning\"})\n",
    "    for img in text.find_all(\"img\"):\n",
    "        if img[\"src\"].endswith(\".gif\"):\n",
    "            link = img[\"src\"]\n",
    "            if link.startswith(\"../../../\"):\n",
    "                link = link.replace(\"../../../\", \"https://swedia.ling.gu.se/\")\n",
    "            links.append(link)\n",
    "    trans = soup.find(\"div\", {\"id\": \"Transkription\"})\n",
    "    for img in trans.find_all(\"img\"):\n",
    "        if img[\"src\"].endswith(\".gif\"):\n",
    "            link = img[\"src\"]\n",
    "            if link.startswith(\"../../../\"):\n",
    "                link = link.replace(\"../../../\", \"https://swedia.ling.gu.se/\")\n",
    "            links.append(link)\n",
    "    audio = soup.find(\"div\", {\"id\": \"Speaker\"})\n",
    "    for anchor in audio.find_all(\"a\"):\n",
    "        if anchor[\"href\"].endswith(\".mp3\") or anchor[\"href\"].endswith(\".wav\"):\n",
    "            link = anchor[\"href\"]\n",
    "            if link.startswith(\"../../../\"):\n",
    "                link = link.replace(\"../../../\", \"https://swedia.ling.gu.se/\").replace(\"/./\", \"/\")\n",
    "            links.append(link)\n",
    "    return links"
   ]
  },
  {
   "cell_type": "code",
   "execution_count": 8,
   "id": "268774e8",
   "metadata": {
    "execution": {
     "iopub.execute_input": "2025-03-06T17:26:57.088874Z",
     "iopub.status.busy": "2025-03-06T17:26:57.088556Z",
     "iopub.status.idle": "2025-03-06T17:28:00.207666Z",
     "shell.execute_reply": "2025-03-06T17:28:00.206432Z"
    },
    "papermill": {
     "duration": 63.126759,
     "end_time": "2025-03-06T17:28:00.209728",
     "exception": false,
     "start_time": "2025-03-06T17:26:57.082969",
     "status": "completed"
    },
    "tags": []
   },
   "outputs": [],
   "source": [
    "media = []\n",
    "for link in links:\n",
    "    for dialect in get_dialect_speaker_links(link):\n",
    "        media += get_dialect_media(dialect)"
   ]
  },
  {
   "cell_type": "code",
   "execution_count": null,
   "id": "64f6717c",
   "metadata": {
    "execution": {
     "iopub.execute_input": "2025-03-06T17:28:00.220080Z",
     "iopub.status.busy": "2025-03-06T17:28:00.219701Z",
     "iopub.status.idle": "2025-03-06T17:37:23.711761Z",
     "shell.execute_reply": "2025-03-06T17:37:23.710339Z"
    },
    "papermill": {
     "duration": 563.499552,
     "end_time": "2025-03-06T17:37:23.713769",
     "exception": false,
     "start_time": "2025-03-06T17:28:00.214217",
     "status": "completed"
    },
    "tags": []
   },
   "outputs": [],
   "source": [
    "for file in media:\n",
    "    !wget {file}"
   ]
  }
 ],
 "metadata": {
  "kaggle": {
   "accelerator": "none",
   "dataSources": [],
   "isGpuEnabled": false,
   "isInternetEnabled": true,
   "language": "python",
   "sourceType": "notebook"
  },
  "kernelspec": {
   "display_name": "Python 3",
   "language": "python",
   "name": "python3"
  },
  "language_info": {
   "codemirror_mode": {
    "name": "ipython",
    "version": 3
   },
   "file_extension": ".py",
   "mimetype": "text/x-python",
   "name": "python",
   "nbconvert_exporter": "python",
   "pygments_lexer": "ipython3",
   "version": "3.10.12"
  },
  "papermill": {
   "default_parameters": {},
   "duration": 635.179782,
   "end_time": "2025-03-06T17:37:24.654744",
   "environment_variables": {},
   "exception": null,
   "input_path": "__notebook__.ipynb",
   "output_path": "__notebook__.ipynb",
   "parameters": {},
   "start_time": "2025-03-06T17:26:49.474962",
   "version": "2.6.0"
  }
 },
 "nbformat": 4,
 "nbformat_minor": 5
}
