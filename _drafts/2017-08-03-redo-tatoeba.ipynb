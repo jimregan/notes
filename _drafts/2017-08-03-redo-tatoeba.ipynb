{
 "cells": [
  {
   "cell_type": "markdown",
   "id": "2c95cbd6",
   "metadata": {},
   "source": [
    "```perl\n",
    "#!/usr/bin/perl\n",
    "\n",
    "use warnings;\n",
    "use strict;\n",
    "use utf8;\n",
    "\n",
    "open(LINKS, \"<\", \"links.csv\");\n",
    "open(SENTS, \"<\", \"sentences.csv\");\n",
    "\n",
    "binmode(LINKS, \":utf8\");\n",
    "binmode(SENTS, \":utf8\");\n",
    "binmode(STDOUT, \":utf8\");\n",
    "\n",
    "my $src = 'eng';\n",
    "my $trg = 'gle';\n",
    "\n",
    "my %srcsent = ();\n",
    "my %trgsent = ();\n",
    "\n",
    "while(<SENTS>) {\n",
    "    chomp;\n",
    "    my ($id, $lang, $sent) = split /\\t/;\n",
    "    next if ($id == 2828470); # ought to be por?, not gle\n",
    "    if ($lang eq $src) {\n",
    "        $srcsent{$id} = $sent;\n",
    "    } elsif ($lang eq $trg) {\n",
    "        $trgsent{$id} = $sent;\n",
    "    } else {\n",
    "        next;\n",
    "    }\n",
    "}\n",
    "\n",
    "while(<LINKS>) {\n",
    "    chomp;\n",
    "    my ($a, $b) = split /\\t/;\n",
    "    if (exists $srcsent{$a} && exists $trgsent{$b}) {\n",
    "        print \"$srcsent{$a}\\t$trgsent{$b}\\n\";\n",
    "    } elsif (exists $srcsent{$b} && exists $trgsent{$a}) {\n",
    "        print \"$srcsent{$b}\\t$trgsent{$a}\\n\";\n",
    "    } else {\n",
    "        next;\n",
    "    }\n",
    "}\n",
    "```"
   ]
  }
 ],
 "metadata": {
  "language_info": {
   "name": "python"
  }
 },
 "nbformat": 4,
 "nbformat_minor": 5
}
