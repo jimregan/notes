{
  "cells": [
    {
      "cell_type": "markdown",
      "metadata": {
        "id": "gXq5RiHag-Qa"
      },
      "source": [
        "# Polish synthesis with Matcha\n",
        "\n",
        "> \"For the memes, lol\"\n",
        "\n",
        "- badges: true\n",
        "- hidden: false\n",
        "- branch: master\n",
        "- comments: false\n",
        "- toc: false\n",
        "- categories: [matcha, polish, bóbr]"
      ]
    },
    {
      "cell_type": "code",
      "execution_count": null,
      "metadata": {
        "id": "Y0kkmRATI5Mf",
        "outputId": "32067f96-526f-4e02-d98c-cf20ab782d73",
        "colab": {
          "base_uri": "https://localhost:8080/"
        }
      },
      "outputs": [
        {
          "output_type": "stream",
          "name": "stdout",
          "text": [
            "Collecting git+https://github.com/shivammehta25/Matcha-TTS\n",
            "  Cloning https://github.com/shivammehta25/Matcha-TTS to /tmp/pip-req-build-clk_y815\n",
            "  Running command git clone --filter=blob:none --quiet https://github.com/shivammehta25/Matcha-TTS /tmp/pip-req-build-clk_y815\n",
            "  Resolved https://github.com/shivammehta25/Matcha-TTS to commit 77804265f877b0c42f13cfdece6541dde7838090\n",
            "  Installing build dependencies ... \u001b[?25l\u001b[?25hdone\n",
            "  Getting requirements to build wheel ... \u001b[?25l\u001b[?25hdone\n",
            "  Preparing metadata (pyproject.toml) ... \u001b[?25l\u001b[?25hdone\n",
            "Requirement already satisfied: torch>=2.0.0 in /usr/local/lib/python3.10/dist-packages (from matcha-tts==0.0.7.0) (2.5.0+cu121)\n",
            "Requirement already satisfied: torchvision>=0.15.0 in /usr/local/lib/python3.10/dist-packages (from matcha-tts==0.0.7.0) (0.20.0+cu121)\n",
            "Collecting lightning>=2.0.0 (from matcha-tts==0.0.7.0)\n",
            "  Downloading lightning-2.4.0-py3-none-any.whl.metadata (38 kB)\n",
            "Collecting torchmetrics>=0.11.4 (from matcha-tts==0.0.7.0)\n",
            "  Downloading torchmetrics-1.5.1-py3-none-any.whl.metadata (20 kB)\n",
            "Collecting hydra-core==1.3.2 (from matcha-tts==0.0.7.0)\n",
            "  Downloading hydra_core-1.3.2-py3-none-any.whl.metadata (5.5 kB)\n",
            "Collecting hydra-colorlog==1.2.0 (from matcha-tts==0.0.7.0)\n",
            "  Downloading hydra_colorlog-1.2.0-py3-none-any.whl.metadata (949 bytes)\n",
            "Collecting hydra-optuna-sweeper==1.2.0 (from matcha-tts==0.0.7.0)\n",
            "  Downloading hydra_optuna_sweeper-1.2.0-py3-none-any.whl.metadata (1.0 kB)\n",
            "Collecting rootutils (from matcha-tts==0.0.7.0)\n",
            "  Downloading rootutils-1.0.7-py3-none-any.whl.metadata (4.7 kB)\n",
            "Collecting pre-commit (from matcha-tts==0.0.7.0)\n",
            "  Downloading pre_commit-4.0.1-py2.py3-none-any.whl.metadata (1.3 kB)\n",
            "Requirement already satisfied: rich in /usr/local/lib/python3.10/dist-packages (from matcha-tts==0.0.7.0) (13.9.3)\n",
            "Requirement already satisfied: pytest in /usr/local/lib/python3.10/dist-packages (from matcha-tts==0.0.7.0) (7.4.4)\n",
            "Collecting phonemizer (from matcha-tts==0.0.7.0)\n",
            "  Downloading phonemizer-3.3.0-py3-none-any.whl.metadata (48 kB)\n",
            "\u001b[2K     \u001b[90m━━━━━━━━━━━━━━━━━━━━━━━━━━━━━━━━━━━━━━━━\u001b[0m \u001b[32m48.2/48.2 kB\u001b[0m \u001b[31m3.1 MB/s\u001b[0m eta \u001b[36m0:00:00\u001b[0m\n",
            "\u001b[?25hRequirement already satisfied: tensorboard in /usr/local/lib/python3.10/dist-packages (from matcha-tts==0.0.7.0) (2.17.0)\n",
            "Requirement already satisfied: librosa in /usr/local/lib/python3.10/dist-packages (from matcha-tts==0.0.7.0) (0.10.2.post1)\n",
            "Requirement already satisfied: Cython in /usr/local/lib/python3.10/dist-packages (from matcha-tts==0.0.7.0) (3.0.11)\n",
            "Requirement already satisfied: numpy in /usr/local/lib/python3.10/dist-packages (from matcha-tts==0.0.7.0) (1.26.4)\n",
            "Requirement already satisfied: einops in /usr/local/lib/python3.10/dist-packages (from matcha-tts==0.0.7.0) (0.8.0)\n",
            "Requirement already satisfied: inflect in /usr/local/lib/python3.10/dist-packages (from matcha-tts==0.0.7.0) (7.4.0)\n",
            "Collecting Unidecode (from matcha-tts==0.0.7.0)\n",
            "  Downloading Unidecode-1.3.8-py3-none-any.whl.metadata (13 kB)\n",
            "Requirement already satisfied: scipy in /usr/local/lib/python3.10/dist-packages (from matcha-tts==0.0.7.0) (1.13.1)\n",
            "Requirement already satisfied: torchaudio in /usr/local/lib/python3.10/dist-packages (from matcha-tts==0.0.7.0) (2.5.0+cu121)\n",
            "Requirement already satisfied: matplotlib in /usr/local/lib/python3.10/dist-packages (from matcha-tts==0.0.7.0) (3.7.1)\n",
            "Requirement already satisfied: pandas in /usr/local/lib/python3.10/dist-packages (from matcha-tts==0.0.7.0) (2.2.2)\n",
            "Collecting conformer==0.3.2 (from matcha-tts==0.0.7.0)\n",
            "  Downloading conformer-0.3.2-py3-none-any.whl.metadata (631 bytes)\n",
            "Requirement already satisfied: diffusers in /usr/local/lib/python3.10/dist-packages (from matcha-tts==0.0.7.0) (0.30.3)\n",
            "Requirement already satisfied: notebook in /usr/local/lib/python3.10/dist-packages (from matcha-tts==0.0.7.0) (6.5.5)\n",
            "Requirement already satisfied: ipywidgets in /usr/local/lib/python3.10/dist-packages (from matcha-tts==0.0.7.0) (7.7.1)\n",
            "Collecting gradio==3.43.2 (from matcha-tts==0.0.7.0)\n",
            "  Downloading gradio-3.43.2-py3-none-any.whl.metadata (17 kB)\n",
            "Requirement already satisfied: gdown in /usr/local/lib/python3.10/dist-packages (from matcha-tts==0.0.7.0) (5.2.0)\n",
            "Collecting wget (from matcha-tts==0.0.7.0)\n",
            "  Downloading wget-3.2.zip (10 kB)\n",
            "  Preparing metadata (setup.py) ... \u001b[?25l\u001b[?25hdone\n",
            "Requirement already satisfied: seaborn in /usr/local/lib/python3.10/dist-packages (from matcha-tts==0.0.7.0) (0.13.2)\n",
            "Collecting aiofiles<24.0,>=22.0 (from gradio==3.43.2->matcha-tts==0.0.7.0)\n",
            "  Downloading aiofiles-23.2.1-py3-none-any.whl.metadata (9.7 kB)\n",
            "Requirement already satisfied: altair<6.0,>=4.2.0 in /usr/local/lib/python3.10/dist-packages (from gradio==3.43.2->matcha-tts==0.0.7.0) (4.2.2)\n",
            "Collecting fastapi (from gradio==3.43.2->matcha-tts==0.0.7.0)\n",
            "  Downloading fastapi-0.115.3-py3-none-any.whl.metadata (27 kB)\n",
            "Collecting ffmpy (from gradio==3.43.2->matcha-tts==0.0.7.0)\n",
            "  Downloading ffmpy-0.4.0-py3-none-any.whl.metadata (2.9 kB)\n",
            "Collecting gradio-client==0.5.0 (from gradio==3.43.2->matcha-tts==0.0.7.0)\n",
            "  Downloading gradio_client-0.5.0-py3-none-any.whl.metadata (7.1 kB)\n",
            "Collecting httpx (from gradio==3.43.2->matcha-tts==0.0.7.0)\n",
            "  Downloading httpx-0.27.2-py3-none-any.whl.metadata (7.1 kB)\n",
            "Requirement already satisfied: huggingface-hub>=0.14.0 in /usr/local/lib/python3.10/dist-packages (from gradio==3.43.2->matcha-tts==0.0.7.0) (0.24.7)\n",
            "Requirement already satisfied: importlib-resources<7.0,>=1.3 in /usr/local/lib/python3.10/dist-packages (from gradio==3.43.2->matcha-tts==0.0.7.0) (6.4.5)\n",
            "Requirement already satisfied: jinja2<4.0 in /usr/local/lib/python3.10/dist-packages (from gradio==3.43.2->matcha-tts==0.0.7.0) (3.1.4)\n",
            "Collecting markupsafe~=2.0 (from gradio==3.43.2->matcha-tts==0.0.7.0)\n",
            "  Downloading MarkupSafe-2.1.5-cp310-cp310-manylinux_2_17_x86_64.manylinux2014_x86_64.whl.metadata (3.0 kB)\n",
            "Collecting orjson~=3.0 (from gradio==3.43.2->matcha-tts==0.0.7.0)\n",
            "  Downloading orjson-3.10.10-cp310-cp310-manylinux_2_17_x86_64.manylinux2014_x86_64.whl.metadata (50 kB)\n",
            "\u001b[2K     \u001b[90m━━━━━━━━━━━━━━━━━━━━━━━━━━━━━━━━━━━━━━━━\u001b[0m \u001b[32m50.6/50.6 kB\u001b[0m \u001b[31m2.4 MB/s\u001b[0m eta \u001b[36m0:00:00\u001b[0m\n",
            "\u001b[?25hRequirement already satisfied: packaging in /usr/local/lib/python3.10/dist-packages (from gradio==3.43.2->matcha-tts==0.0.7.0) (24.1)\n",
            "Requirement already satisfied: pillow<11.0,>=8.0 in /usr/local/lib/python3.10/dist-packages (from gradio==3.43.2->matcha-tts==0.0.7.0) (10.4.0)\n",
            "Requirement already satisfied: pydantic!=1.8,!=1.8.1,!=2.0.0,!=2.0.1,<3.0.0,>=1.7.4 in /usr/local/lib/python3.10/dist-packages (from gradio==3.43.2->matcha-tts==0.0.7.0) (2.9.2)\n",
            "Collecting pydub (from gradio==3.43.2->matcha-tts==0.0.7.0)\n",
            "  Downloading pydub-0.25.1-py2.py3-none-any.whl.metadata (1.4 kB)\n",
            "Collecting python-multipart (from gradio==3.43.2->matcha-tts==0.0.7.0)\n",
            "  Downloading python_multipart-0.0.12-py3-none-any.whl.metadata (1.9 kB)\n",
            "Requirement already satisfied: pyyaml<7.0,>=5.0 in /usr/local/lib/python3.10/dist-packages (from gradio==3.43.2->matcha-tts==0.0.7.0) (6.0.2)\n",
            "Requirement already satisfied: requests~=2.0 in /usr/local/lib/python3.10/dist-packages (from gradio==3.43.2->matcha-tts==0.0.7.0) (2.32.3)\n",
            "Collecting semantic-version~=2.0 (from gradio==3.43.2->matcha-tts==0.0.7.0)\n",
            "  Downloading semantic_version-2.10.0-py2.py3-none-any.whl.metadata (9.7 kB)\n",
            "Requirement already satisfied: typing-extensions~=4.0 in /usr/local/lib/python3.10/dist-packages (from gradio==3.43.2->matcha-tts==0.0.7.0) (4.12.2)\n",
            "Collecting uvicorn>=0.14.0 (from gradio==3.43.2->matcha-tts==0.0.7.0)\n",
            "  Downloading uvicorn-0.32.0-py3-none-any.whl.metadata (6.6 kB)\n",
            "Collecting websockets<12.0,>=10.0 (from gradio==3.43.2->matcha-tts==0.0.7.0)\n",
            "  Downloading websockets-11.0.3-cp310-cp310-manylinux_2_5_x86_64.manylinux1_x86_64.manylinux_2_17_x86_64.manylinux2014_x86_64.whl.metadata (6.6 kB)\n",
            "Collecting colorlog (from hydra-colorlog==1.2.0->matcha-tts==0.0.7.0)\n",
            "  Downloading colorlog-6.8.2-py3-none-any.whl.metadata (10 kB)\n",
            "Collecting omegaconf<2.4,>=2.2 (from hydra-core==1.3.2->matcha-tts==0.0.7.0)\n",
            "  Downloading omegaconf-2.3.0-py3-none-any.whl.metadata (3.9 kB)\n",
            "Collecting antlr4-python3-runtime==4.9.* (from hydra-core==1.3.2->matcha-tts==0.0.7.0)\n",
            "  Downloading antlr4-python3-runtime-4.9.3.tar.gz (117 kB)\n",
            "\u001b[2K     \u001b[90m━━━━━━━━━━━━━━━━━━━━━━━━━━━━━━━━━━━━━━━━\u001b[0m \u001b[32m117.0/117.0 kB\u001b[0m \u001b[31m4.4 MB/s\u001b[0m eta \u001b[36m0:00:00\u001b[0m\n",
            "\u001b[?25h  Preparing metadata (setup.py) ... \u001b[?25l\u001b[?25hdone\n",
            "Collecting optuna<3.0.0,>=2.10.0 (from hydra-optuna-sweeper==1.2.0->matcha-tts==0.0.7.0)\n",
            "  Downloading optuna-2.10.1-py3-none-any.whl.metadata (15 kB)\n",
            "Requirement already satisfied: fsspec in /usr/local/lib/python3.10/dist-packages (from gradio-client==0.5.0->gradio==3.43.2->matcha-tts==0.0.7.0) (2024.6.1)\n",
            "Collecting lightning-utilities<2.0,>=0.10.0 (from lightning>=2.0.0->matcha-tts==0.0.7.0)\n",
            "  Downloading lightning_utilities-0.11.8-py3-none-any.whl.metadata (5.2 kB)\n",
            "Requirement already satisfied: tqdm<6.0,>=4.57.0 in /usr/local/lib/python3.10/dist-packages (from lightning>=2.0.0->matcha-tts==0.0.7.0) (4.66.5)\n",
            "Collecting pytorch-lightning (from lightning>=2.0.0->matcha-tts==0.0.7.0)\n",
            "  Downloading pytorch_lightning-2.4.0-py3-none-any.whl.metadata (21 kB)\n",
            "Requirement already satisfied: contourpy>=1.0.1 in /usr/local/lib/python3.10/dist-packages (from matplotlib->matcha-tts==0.0.7.0) (1.3.0)\n",
            "Requirement already satisfied: cycler>=0.10 in /usr/local/lib/python3.10/dist-packages (from matplotlib->matcha-tts==0.0.7.0) (0.12.1)\n",
            "Requirement already satisfied: fonttools>=4.22.0 in /usr/local/lib/python3.10/dist-packages (from matplotlib->matcha-tts==0.0.7.0) (4.54.1)\n",
            "Requirement already satisfied: kiwisolver>=1.0.1 in /usr/local/lib/python3.10/dist-packages (from matplotlib->matcha-tts==0.0.7.0) (1.4.7)\n",
            "Requirement already satisfied: pyparsing>=2.3.1 in /usr/local/lib/python3.10/dist-packages (from matplotlib->matcha-tts==0.0.7.0) (3.2.0)\n",
            "Requirement already satisfied: python-dateutil>=2.7 in /usr/local/lib/python3.10/dist-packages (from matplotlib->matcha-tts==0.0.7.0) (2.8.2)\n",
            "Requirement already satisfied: pytz>=2020.1 in /usr/local/lib/python3.10/dist-packages (from pandas->matcha-tts==0.0.7.0) (2024.2)\n",
            "Requirement already satisfied: tzdata>=2022.7 in /usr/local/lib/python3.10/dist-packages (from pandas->matcha-tts==0.0.7.0) (2024.2)\n",
            "Requirement already satisfied: filelock in /usr/local/lib/python3.10/dist-packages (from torch>=2.0.0->matcha-tts==0.0.7.0) (3.16.1)\n",
            "Requirement already satisfied: networkx in /usr/local/lib/python3.10/dist-packages (from torch>=2.0.0->matcha-tts==0.0.7.0) (3.4.2)\n",
            "Requirement already satisfied: sympy==1.13.1 in /usr/local/lib/python3.10/dist-packages (from torch>=2.0.0->matcha-tts==0.0.7.0) (1.13.1)\n",
            "Requirement already satisfied: mpmath<1.4,>=1.1.0 in /usr/local/lib/python3.10/dist-packages (from sympy==1.13.1->torch>=2.0.0->matcha-tts==0.0.7.0) (1.3.0)\n",
            "Requirement already satisfied: importlib-metadata in /usr/local/lib/python3.10/dist-packages (from diffusers->matcha-tts==0.0.7.0) (8.5.0)\n",
            "Requirement already satisfied: regex!=2019.12.17 in /usr/local/lib/python3.10/dist-packages (from diffusers->matcha-tts==0.0.7.0) (2024.9.11)\n",
            "Requirement already satisfied: safetensors>=0.3.1 in /usr/local/lib/python3.10/dist-packages (from diffusers->matcha-tts==0.0.7.0) (0.4.5)\n",
            "Requirement already satisfied: beautifulsoup4 in /usr/local/lib/python3.10/dist-packages (from gdown->matcha-tts==0.0.7.0) (4.12.3)\n",
            "Requirement already satisfied: more-itertools>=8.5.0 in /usr/local/lib/python3.10/dist-packages (from inflect->matcha-tts==0.0.7.0) (10.5.0)\n",
            "Requirement already satisfied: typeguard>=4.0.1 in /usr/local/lib/python3.10/dist-packages (from inflect->matcha-tts==0.0.7.0) (4.3.0)\n",
            "Requirement already satisfied: ipykernel>=4.5.1 in /usr/local/lib/python3.10/dist-packages (from ipywidgets->matcha-tts==0.0.7.0) (5.5.6)\n",
            "Requirement already satisfied: ipython-genutils~=0.2.0 in /usr/local/lib/python3.10/dist-packages (from ipywidgets->matcha-tts==0.0.7.0) (0.2.0)\n",
            "Requirement already satisfied: traitlets>=4.3.1 in /usr/local/lib/python3.10/dist-packages (from ipywidgets->matcha-tts==0.0.7.0) (5.7.1)\n",
            "Requirement already satisfied: widgetsnbextension~=3.6.0 in /usr/local/lib/python3.10/dist-packages (from ipywidgets->matcha-tts==0.0.7.0) (3.6.10)\n",
            "Requirement already satisfied: ipython>=4.0.0 in /usr/local/lib/python3.10/dist-packages (from ipywidgets->matcha-tts==0.0.7.0) (7.34.0)\n",
            "Requirement already satisfied: jupyterlab-widgets>=1.0.0 in /usr/local/lib/python3.10/dist-packages (from ipywidgets->matcha-tts==0.0.7.0) (3.0.13)\n",
            "Requirement already satisfied: audioread>=2.1.9 in /usr/local/lib/python3.10/dist-packages (from librosa->matcha-tts==0.0.7.0) (3.0.1)\n",
            "Requirement already satisfied: scikit-learn>=0.20.0 in /usr/local/lib/python3.10/dist-packages (from librosa->matcha-tts==0.0.7.0) (1.5.2)\n",
            "Requirement already satisfied: joblib>=0.14 in /usr/local/lib/python3.10/dist-packages (from librosa->matcha-tts==0.0.7.0) (1.4.2)\n",
            "Requirement already satisfied: decorator>=4.3.0 in /usr/local/lib/python3.10/dist-packages (from librosa->matcha-tts==0.0.7.0) (4.4.2)\n",
            "Requirement already satisfied: numba>=0.51.0 in /usr/local/lib/python3.10/dist-packages (from librosa->matcha-tts==0.0.7.0) (0.60.0)\n",
            "Requirement already satisfied: soundfile>=0.12.1 in /usr/local/lib/python3.10/dist-packages (from librosa->matcha-tts==0.0.7.0) (0.12.1)\n",
            "Requirement already satisfied: pooch>=1.1 in /usr/local/lib/python3.10/dist-packages (from librosa->matcha-tts==0.0.7.0) (1.8.2)\n",
            "Requirement already satisfied: soxr>=0.3.2 in /usr/local/lib/python3.10/dist-packages (from librosa->matcha-tts==0.0.7.0) (0.5.0.post1)\n",
            "Requirement already satisfied: lazy-loader>=0.1 in /usr/local/lib/python3.10/dist-packages (from librosa->matcha-tts==0.0.7.0) (0.4)\n",
            "Requirement already satisfied: msgpack>=1.0 in /usr/local/lib/python3.10/dist-packages (from librosa->matcha-tts==0.0.7.0) (1.1.0)\n",
            "Requirement already satisfied: tornado>=6.1 in /usr/local/lib/python3.10/dist-packages (from notebook->matcha-tts==0.0.7.0) (6.3.3)\n",
            "Requirement already satisfied: pyzmq<25,>=17 in /usr/local/lib/python3.10/dist-packages (from notebook->matcha-tts==0.0.7.0) (24.0.1)\n",
            "Requirement already satisfied: argon2-cffi in /usr/local/lib/python3.10/dist-packages (from notebook->matcha-tts==0.0.7.0) (23.1.0)\n",
            "Requirement already satisfied: jupyter-core>=4.6.1 in /usr/local/lib/python3.10/dist-packages (from notebook->matcha-tts==0.0.7.0) (5.7.2)\n",
            "Requirement already satisfied: jupyter-client<8,>=5.3.4 in /usr/local/lib/python3.10/dist-packages (from notebook->matcha-tts==0.0.7.0) (6.1.12)\n",
            "Requirement already satisfied: nbformat in /usr/local/lib/python3.10/dist-packages (from notebook->matcha-tts==0.0.7.0) (5.10.4)\n",
            "Requirement already satisfied: nbconvert>=5 in /usr/local/lib/python3.10/dist-packages (from notebook->matcha-tts==0.0.7.0) (6.5.4)\n",
            "Requirement already satisfied: nest-asyncio>=1.5 in /usr/local/lib/python3.10/dist-packages (from notebook->matcha-tts==0.0.7.0) (1.6.0)\n",
            "Requirement already satisfied: Send2Trash>=1.8.0 in /usr/local/lib/python3.10/dist-packages (from notebook->matcha-tts==0.0.7.0) (1.8.3)\n",
            "Requirement already satisfied: terminado>=0.8.3 in /usr/local/lib/python3.10/dist-packages (from notebook->matcha-tts==0.0.7.0) (0.18.1)\n",
            "Requirement already satisfied: prometheus-client in /usr/local/lib/python3.10/dist-packages (from notebook->matcha-tts==0.0.7.0) (0.21.0)\n",
            "Requirement already satisfied: nbclassic>=0.4.7 in /usr/local/lib/python3.10/dist-packages (from notebook->matcha-tts==0.0.7.0) (1.1.0)\n",
            "Collecting segments (from phonemizer->matcha-tts==0.0.7.0)\n",
            "  Downloading segments-2.2.1-py2.py3-none-any.whl.metadata (3.3 kB)\n",
            "Requirement already satisfied: attrs>=18.1 in /usr/local/lib/python3.10/dist-packages (from phonemizer->matcha-tts==0.0.7.0) (24.2.0)\n",
            "Collecting dlinfo (from phonemizer->matcha-tts==0.0.7.0)\n",
            "  Downloading dlinfo-1.2.1-py3-none-any.whl.metadata (1.1 kB)\n",
            "Collecting cfgv>=2.0.0 (from pre-commit->matcha-tts==0.0.7.0)\n",
            "  Downloading cfgv-3.4.0-py2.py3-none-any.whl.metadata (8.5 kB)\n",
            "Collecting identify>=1.0.0 (from pre-commit->matcha-tts==0.0.7.0)\n",
            "  Downloading identify-2.6.1-py2.py3-none-any.whl.metadata (4.4 kB)\n",
            "Collecting nodeenv>=0.11.1 (from pre-commit->matcha-tts==0.0.7.0)\n",
            "  Downloading nodeenv-1.9.1-py2.py3-none-any.whl.metadata (21 kB)\n",
            "Collecting virtualenv>=20.10.0 (from pre-commit->matcha-tts==0.0.7.0)\n",
            "  Downloading virtualenv-20.27.0-py3-none-any.whl.metadata (4.5 kB)\n",
            "Requirement already satisfied: iniconfig in /usr/local/lib/python3.10/dist-packages (from pytest->matcha-tts==0.0.7.0) (2.0.0)\n",
            "Requirement already satisfied: pluggy<2.0,>=0.12 in /usr/local/lib/python3.10/dist-packages (from pytest->matcha-tts==0.0.7.0) (1.5.0)\n",
            "Requirement already satisfied: exceptiongroup>=1.0.0rc8 in /usr/local/lib/python3.10/dist-packages (from pytest->matcha-tts==0.0.7.0) (1.2.2)\n",
            "Requirement already satisfied: tomli>=1.0.0 in /usr/local/lib/python3.10/dist-packages (from pytest->matcha-tts==0.0.7.0) (2.0.2)\n",
            "Requirement already satisfied: markdown-it-py>=2.2.0 in /usr/local/lib/python3.10/dist-packages (from rich->matcha-tts==0.0.7.0) (3.0.0)\n",
            "Requirement already satisfied: pygments<3.0.0,>=2.13.0 in /usr/local/lib/python3.10/dist-packages (from rich->matcha-tts==0.0.7.0) (2.18.0)\n",
            "Collecting python-dotenv>=0.20.0 (from rootutils->matcha-tts==0.0.7.0)\n",
            "  Downloading python_dotenv-1.0.1-py3-none-any.whl.metadata (23 kB)\n",
            "Requirement already satisfied: absl-py>=0.4 in /usr/local/lib/python3.10/dist-packages (from tensorboard->matcha-tts==0.0.7.0) (1.4.0)\n",
            "Requirement already satisfied: grpcio>=1.48.2 in /usr/local/lib/python3.10/dist-packages (from tensorboard->matcha-tts==0.0.7.0) (1.64.1)\n",
            "Requirement already satisfied: markdown>=2.6.8 in /usr/local/lib/python3.10/dist-packages (from tensorboard->matcha-tts==0.0.7.0) (3.7)\n",
            "Requirement already satisfied: protobuf!=4.24.0,<5.0.0,>=3.19.6 in /usr/local/lib/python3.10/dist-packages (from tensorboard->matcha-tts==0.0.7.0) (3.20.3)\n",
            "Requirement already satisfied: setuptools>=41.0.0 in /usr/local/lib/python3.10/dist-packages (from tensorboard->matcha-tts==0.0.7.0) (75.1.0)\n",
            "Requirement already satisfied: six>1.9 in /usr/local/lib/python3.10/dist-packages (from tensorboard->matcha-tts==0.0.7.0) (1.16.0)\n",
            "Requirement already satisfied: tensorboard-data-server<0.8.0,>=0.7.0 in /usr/local/lib/python3.10/dist-packages (from tensorboard->matcha-tts==0.0.7.0) (0.7.2)\n",
            "Requirement already satisfied: werkzeug>=1.0.1 in /usr/local/lib/python3.10/dist-packages (from tensorboard->matcha-tts==0.0.7.0) (3.0.4)\n",
            "Requirement already satisfied: entrypoints in /usr/local/lib/python3.10/dist-packages (from altair<6.0,>=4.2.0->gradio==3.43.2->matcha-tts==0.0.7.0) (0.4)\n",
            "Requirement already satisfied: jsonschema>=3.0 in /usr/local/lib/python3.10/dist-packages (from altair<6.0,>=4.2.0->gradio==3.43.2->matcha-tts==0.0.7.0) (4.23.0)\n",
            "Requirement already satisfied: toolz in /usr/local/lib/python3.10/dist-packages (from altair<6.0,>=4.2.0->gradio==3.43.2->matcha-tts==0.0.7.0) (0.12.1)\n",
            "Requirement already satisfied: aiohttp!=4.0.0a0,!=4.0.0a1 in /usr/local/lib/python3.10/dist-packages (from fsspec[http]<2026.0,>=2022.5.0->lightning>=2.0.0->matcha-tts==0.0.7.0) (3.10.10)\n",
            "Collecting jedi>=0.16 (from ipython>=4.0.0->ipywidgets->matcha-tts==0.0.7.0)\n",
            "  Downloading jedi-0.19.1-py2.py3-none-any.whl.metadata (22 kB)\n",
            "Requirement already satisfied: pickleshare in /usr/local/lib/python3.10/dist-packages (from ipython>=4.0.0->ipywidgets->matcha-tts==0.0.7.0) (0.7.5)\n",
            "Requirement already satisfied: prompt-toolkit!=3.0.0,!=3.0.1,<3.1.0,>=2.0.0 in /usr/local/lib/python3.10/dist-packages (from ipython>=4.0.0->ipywidgets->matcha-tts==0.0.7.0) (3.0.48)\n",
            "Requirement already satisfied: backcall in /usr/local/lib/python3.10/dist-packages (from ipython>=4.0.0->ipywidgets->matcha-tts==0.0.7.0) (0.2.0)\n",
            "Requirement already satisfied: matplotlib-inline in /usr/local/lib/python3.10/dist-packages (from ipython>=4.0.0->ipywidgets->matcha-tts==0.0.7.0) (0.1.7)\n",
            "Requirement already satisfied: pexpect>4.3 in /usr/local/lib/python3.10/dist-packages (from ipython>=4.0.0->ipywidgets->matcha-tts==0.0.7.0) (4.9.0)\n",
            "Requirement already satisfied: platformdirs>=2.5 in /usr/local/lib/python3.10/dist-packages (from jupyter-core>=4.6.1->notebook->matcha-tts==0.0.7.0) (4.3.6)\n",
            "Requirement already satisfied: mdurl~=0.1 in /usr/local/lib/python3.10/dist-packages (from markdown-it-py>=2.2.0->rich->matcha-tts==0.0.7.0) (0.1.2)\n",
            "Requirement already satisfied: notebook-shim>=0.2.3 in /usr/local/lib/python3.10/dist-packages (from nbclassic>=0.4.7->notebook->matcha-tts==0.0.7.0) (0.2.4)\n",
            "Requirement already satisfied: lxml in /usr/local/lib/python3.10/dist-packages (from nbconvert>=5->notebook->matcha-tts==0.0.7.0) (4.9.4)\n",
            "Requirement already satisfied: bleach in /usr/local/lib/python3.10/dist-packages (from nbconvert>=5->notebook->matcha-tts==0.0.7.0) (6.1.0)\n",
            "Requirement already satisfied: defusedxml in /usr/local/lib/python3.10/dist-packages (from nbconvert>=5->notebook->matcha-tts==0.0.7.0) (0.7.1)\n",
            "Requirement already satisfied: jupyterlab-pygments in /usr/local/lib/python3.10/dist-packages (from nbconvert>=5->notebook->matcha-tts==0.0.7.0) (0.3.0)\n",
            "Requirement already satisfied: mistune<2,>=0.8.1 in /usr/local/lib/python3.10/dist-packages (from nbconvert>=5->notebook->matcha-tts==0.0.7.0) (0.8.4)\n",
            "Requirement already satisfied: nbclient>=0.5.0 in /usr/local/lib/python3.10/dist-packages (from nbconvert>=5->notebook->matcha-tts==0.0.7.0) (0.10.0)\n",
            "Requirement already satisfied: pandocfilters>=1.4.1 in /usr/local/lib/python3.10/dist-packages (from nbconvert>=5->notebook->matcha-tts==0.0.7.0) (1.5.1)\n",
            "Requirement already satisfied: tinycss2 in /usr/local/lib/python3.10/dist-packages (from nbconvert>=5->notebook->matcha-tts==0.0.7.0) (1.3.0)\n",
            "Requirement already satisfied: fastjsonschema>=2.15 in /usr/local/lib/python3.10/dist-packages (from nbformat->notebook->matcha-tts==0.0.7.0) (2.20.0)\n",
            "Requirement already satisfied: llvmlite<0.44,>=0.43.0dev0 in /usr/local/lib/python3.10/dist-packages (from numba>=0.51.0->librosa->matcha-tts==0.0.7.0) (0.43.0)\n",
            "Collecting alembic (from optuna<3.0.0,>=2.10.0->hydra-optuna-sweeper==1.2.0->matcha-tts==0.0.7.0)\n",
            "  Downloading alembic-1.13.3-py3-none-any.whl.metadata (7.4 kB)\n",
            "Collecting cliff (from optuna<3.0.0,>=2.10.0->hydra-optuna-sweeper==1.2.0->matcha-tts==0.0.7.0)\n",
            "  Downloading cliff-4.7.0-py3-none-any.whl.metadata (2.1 kB)\n",
            "Collecting cmaes>=0.8.2 (from optuna<3.0.0,>=2.10.0->hydra-optuna-sweeper==1.2.0->matcha-tts==0.0.7.0)\n",
            "  Downloading cmaes-0.11.1-py3-none-any.whl.metadata (18 kB)\n",
            "Requirement already satisfied: sqlalchemy>=1.1.0 in /usr/local/lib/python3.10/dist-packages (from optuna<3.0.0,>=2.10.0->hydra-optuna-sweeper==1.2.0->matcha-tts==0.0.7.0) (2.0.36)\n",
            "Requirement already satisfied: annotated-types>=0.6.0 in /usr/local/lib/python3.10/dist-packages (from pydantic!=1.8,!=1.8.1,!=2.0.0,!=2.0.1,<3.0.0,>=1.7.4->gradio==3.43.2->matcha-tts==0.0.7.0) (0.7.0)\n",
            "Requirement already satisfied: pydantic-core==2.23.4 in /usr/local/lib/python3.10/dist-packages (from pydantic!=1.8,!=1.8.1,!=2.0.0,!=2.0.1,<3.0.0,>=1.7.4->gradio==3.43.2->matcha-tts==0.0.7.0) (2.23.4)\n",
            "Requirement already satisfied: charset-normalizer<4,>=2 in /usr/local/lib/python3.10/dist-packages (from requests~=2.0->gradio==3.43.2->matcha-tts==0.0.7.0) (3.4.0)\n",
            "Requirement already satisfied: idna<4,>=2.5 in /usr/local/lib/python3.10/dist-packages (from requests~=2.0->gradio==3.43.2->matcha-tts==0.0.7.0) (3.10)\n",
            "Requirement already satisfied: urllib3<3,>=1.21.1 in /usr/local/lib/python3.10/dist-packages (from requests~=2.0->gradio==3.43.2->matcha-tts==0.0.7.0) (2.2.3)\n",
            "Requirement already satisfied: certifi>=2017.4.17 in /usr/local/lib/python3.10/dist-packages (from requests~=2.0->gradio==3.43.2->matcha-tts==0.0.7.0) (2024.8.30)\n",
            "Requirement already satisfied: threadpoolctl>=3.1.0 in /usr/local/lib/python3.10/dist-packages (from scikit-learn>=0.20.0->librosa->matcha-tts==0.0.7.0) (3.5.0)\n",
            "Requirement already satisfied: cffi>=1.0 in /usr/local/lib/python3.10/dist-packages (from soundfile>=0.12.1->librosa->matcha-tts==0.0.7.0) (1.17.1)\n",
            "Requirement already satisfied: ptyprocess in /usr/local/lib/python3.10/dist-packages (from terminado>=0.8.3->notebook->matcha-tts==0.0.7.0) (0.7.0)\n",
            "Requirement already satisfied: click>=7.0 in /usr/local/lib/python3.10/dist-packages (from uvicorn>=0.14.0->gradio==3.43.2->matcha-tts==0.0.7.0) (8.1.7)\n",
            "Collecting h11>=0.8 (from uvicorn>=0.14.0->gradio==3.43.2->matcha-tts==0.0.7.0)\n",
            "  Downloading h11-0.14.0-py3-none-any.whl.metadata (8.2 kB)\n",
            "Collecting distlib<1,>=0.3.7 (from virtualenv>=20.10.0->pre-commit->matcha-tts==0.0.7.0)\n",
            "  Downloading distlib-0.3.9-py2.py3-none-any.whl.metadata (5.2 kB)\n",
            "Requirement already satisfied: argon2-cffi-bindings in /usr/local/lib/python3.10/dist-packages (from argon2-cffi->notebook->matcha-tts==0.0.7.0) (21.2.0)\n",
            "Requirement already satisfied: soupsieve>1.2 in /usr/local/lib/python3.10/dist-packages (from beautifulsoup4->gdown->matcha-tts==0.0.7.0) (2.6)\n",
            "Collecting starlette<0.42.0,>=0.40.0 (from fastapi->gradio==3.43.2->matcha-tts==0.0.7.0)\n",
            "  Downloading starlette-0.41.0-py3-none-any.whl.metadata (6.0 kB)\n",
            "Requirement already satisfied: anyio in /usr/local/lib/python3.10/dist-packages (from httpx->gradio==3.43.2->matcha-tts==0.0.7.0) (3.7.1)\n",
            "Collecting httpcore==1.* (from httpx->gradio==3.43.2->matcha-tts==0.0.7.0)\n",
            "  Downloading httpcore-1.0.6-py3-none-any.whl.metadata (21 kB)\n",
            "Requirement already satisfied: sniffio in /usr/local/lib/python3.10/dist-packages (from httpx->gradio==3.43.2->matcha-tts==0.0.7.0) (1.3.1)\n",
            "Requirement already satisfied: zipp>=3.20 in /usr/local/lib/python3.10/dist-packages (from importlib-metadata->diffusers->matcha-tts==0.0.7.0) (3.20.2)\n",
            "Requirement already satisfied: PySocks!=1.5.7,>=1.5.6 in /usr/local/lib/python3.10/dist-packages (from requests[socks]->gdown->matcha-tts==0.0.7.0) (1.7.1)\n"
          ]
        }
      ],
      "source": [
        "%pip install git+https://github.com/shivammehta25/Matcha-TTS\n"
      ]
    },
    {
      "cell_type": "code",
      "execution_count": null,
      "metadata": {
        "id": "owBIxGVqK-bu"
      },
      "outputs": [],
      "source": [
        "!apt install espeak-ng"
      ]
    },
    {
      "cell_type": "code",
      "execution_count": null,
      "metadata": {
        "id": "ohSW-cjXcvyi"
      },
      "outputs": [],
      "source": [
        "!git lfs install"
      ]
    },
    {
      "cell_type": "code",
      "source": [
        "from huggingface_hub import notebook_login\n",
        "\n",
        "notebook_login()"
      ],
      "metadata": {
        "id": "zjGT6gdiiKui"
      },
      "execution_count": null,
      "outputs": []
    },
    {
      "cell_type": "code",
      "execution_count": null,
      "metadata": {
        "id": "ctDu-r7EczOW"
      },
      "outputs": [],
      "source": [
        "!git clone https://huggingface.co/jimregan/matcha-mmconv-test1"
      ]
    },
    {
      "cell_type": "code",
      "execution_count": null,
      "metadata": {
        "id": "j2UVHt5-K4Ry"
      },
      "outputs": [],
      "source": [
        "!matcha-tts --vocoder hifigan_univ_v1 --model matcha_vctk --text \"test to start\" --output_folder /content/output"
      ]
    },
    {
      "cell_type": "code",
      "execution_count": null,
      "metadata": {
        "id": "dekwGvlZeCZb"
      },
      "outputs": [],
      "source": [
        "!ls -al /root/.local/share/matcha_tts/hifigan_univ_v1"
      ]
    },
    {
      "cell_type": "code",
      "execution_count": null,
      "metadata": {
        "id": "M5gF1T_gdaIF"
      },
      "outputs": [],
      "source": [
        "import datetime as dt\n",
        "from pathlib import Path\n",
        "\n",
        "import IPython.display as ipd\n",
        "import numpy as np\n",
        "import soundfile as sf\n",
        "import torch\n",
        "from tqdm.auto import tqdm\n",
        "\n",
        "# Hifigan imports\n",
        "from matcha.hifigan.config import v1\n",
        "from matcha.hifigan.denoiser import Denoiser\n",
        "from matcha.hifigan.env import AttrDict\n",
        "from matcha.hifigan.models import Generator as HiFiGAN\n",
        "# Matcha imports\n",
        "from matcha.models.matcha_tts import MatchaTTS\n",
        "from matcha.text import sequence_to_text, text_to_sequence\n",
        "from matcha.utils.model import denormalize\n",
        "from matcha.utils.utils import get_user_data_dir, intersperse"
      ]
    },
    {
      "cell_type": "code",
      "execution_count": null,
      "metadata": {
        "id": "l7c_kKQcdoVh"
      },
      "outputs": [],
      "source": [
        "device = torch.device(\"cuda\" if torch.cuda.is_available() else \"cpu\")\n"
      ]
    },
    {
      "cell_type": "code",
      "execution_count": null,
      "metadata": {
        "id": "pKOM8XPtdU0n"
      },
      "outputs": [],
      "source": [
        "MATCHA_CHECKPOINT = \"/content/matcha-mmconv-test1/checkpoints/last.ckpt\"\n",
        "HIFIGAN_CHECKPOINT = \"/root/.local/share/matcha_tts/hifigan_univ_v1\"\n",
        "OUTPUT_FOLDER = \"synth_output\""
      ]
    },
    {
      "cell_type": "code",
      "execution_count": null,
      "metadata": {
        "id": "IEcqXlNSdlh_"
      },
      "outputs": [],
      "source": [
        "def load_model(checkpoint_path):\n",
        "    model = MatchaTTS.load_from_checkpoint(checkpoint_path, map_location=device)\n",
        "    model.eval()\n",
        "    return model\n",
        "count_params = lambda x: f\"{sum(p.numel() for p in x.parameters()):,}\"\n",
        "\n",
        "\n",
        "model = load_model(MATCHA_CHECKPOINT)\n",
        "print(f\"Model loaded! Parameter count: {count_params(model)}\")"
      ]
    },
    {
      "cell_type": "code",
      "execution_count": null,
      "metadata": {
        "id": "SlZKkXREdrta"
      },
      "outputs": [],
      "source": [
        "def load_vocoder(checkpoint_path):\n",
        "    h = AttrDict(v1)\n",
        "    hifigan = HiFiGAN(h).to(device)\n",
        "    hifigan.load_state_dict(torch.load(checkpoint_path, map_location=device)['generator'])\n",
        "    _ = hifigan.eval()\n",
        "    hifigan.remove_weight_norm()\n",
        "    return hifigan\n",
        "\n",
        "vocoder = load_vocoder(HIFIGAN_CHECKPOINT)\n",
        "denoiser = Denoiser(vocoder, mode='zeros')"
      ]
    },
    {
      "cell_type": "code",
      "execution_count": null,
      "metadata": {
        "id": "QgXAON6neSvN"
      },
      "outputs": [],
      "source": [
        "@torch.inference_mode()\n",
        "def process_text(text: str):\n",
        "    x = torch.tensor(intersperse(text_to_sequence(text, ['english_cleaners2'])[0], 0),dtype=torch.long, device=device)[None]\n",
        "    x_lengths = torch.tensor([x.shape[-1]],dtype=torch.long, device=device)\n",
        "    x_phones = sequence_to_text(x.squeeze(0).tolist())\n",
        "    return {\n",
        "        'x_orig': text,\n",
        "        'x': x,\n",
        "        'x_lengths': x_lengths,\n",
        "        'x_phones': x_phones\n",
        "    }\n",
        "\n",
        "\n",
        "@torch.inference_mode()\n",
        "def synthesise(text, spks=None):\n",
        "    text_processed = process_text(text)\n",
        "    start_t = dt.datetime.now()\n",
        "    output = model.synthesise(\n",
        "        text_processed['x'],\n",
        "        text_processed['x_lengths'],\n",
        "        n_timesteps=n_timesteps,\n",
        "        temperature=temperature,\n",
        "        spks=spks,\n",
        "        length_scale=length_scale\n",
        "    )\n",
        "    # merge everything to one dict\n",
        "    output.update({'start_t': start_t, **text_processed})\n",
        "    return output\n",
        "\n",
        "@torch.inference_mode()\n",
        "def to_waveform(mel, vocoder):\n",
        "    audio = vocoder(mel).clamp(-1, 1)\n",
        "    audio = denoiser(audio.squeeze(0), strength=0.00025).cpu().squeeze()\n",
        "    return audio.cpu().squeeze()\n",
        "\n",
        "def save_to_folder(filename: str, output: dict, folder: str):\n",
        "    folder = Path(folder)\n",
        "    folder.mkdir(exist_ok=True, parents=True)\n",
        "    np.save(folder / f'{filename}', output['mel'].cpu().numpy())\n",
        "    sf.write(folder / f'{filename}.wav', output['waveform'], 22050, 'PCM_24')"
      ]
    },
    {
      "cell_type": "code",
      "execution_count": null,
      "metadata": {
        "id": "YENCpGayeal7"
      },
      "outputs": [],
      "source": [
        "## Number of ODE Solver steps\n",
        "n_timesteps = 10\n",
        "\n",
        "## Changes to the speaking rate\n",
        "length_scale=1.0\n",
        "\n",
        "## Sampling temperature\n",
        "temperature = 0.667"
      ]
    },
    {
      "cell_type": "code",
      "execution_count": null,
      "metadata": {
        "id": "39ttoxjQedkd"
      },
      "outputs": [],
      "source": [
        "texts = [\n",
        "    \"It's a little bit confusing\"\n",
        "]"
      ]
    },
    {
      "cell_type": "code",
      "execution_count": null,
      "metadata": {
        "id": "okGScIW1em3C"
      },
      "outputs": [],
      "source": [
        "outputs, rtfs = [], []\n",
        "rtfs_w = []\n",
        "for i, text in enumerate(tqdm(texts)):\n",
        "    output = synthesise(text) #, torch.tensor([15], device=device, dtype=torch.long).unsqueeze(0))\n",
        "    output['waveform'] = to_waveform(output['mel'], vocoder)\n",
        "\n",
        "    # Compute Real Time Factor (RTF) with HiFi-GAN\n",
        "    t = (dt.datetime.now() - output['start_t']).total_seconds()\n",
        "    rtf_w = t * 22050 / (output['waveform'].shape[-1])\n",
        "\n",
        "    ## Pretty print\n",
        "    print(f\"{'*' * 53}\")\n",
        "    print(f\"Input text - {i}\")\n",
        "    print(f\"{'-' * 53}\")\n",
        "    print(output['x_orig'])\n",
        "    print(f\"{'*' * 53}\")\n",
        "    print(f\"Phonetised text - {i}\")\n",
        "    print(f\"{'-' * 53}\")\n",
        "    print(output['x_phones'])\n",
        "    print(f\"{'*' * 53}\")\n",
        "    print(f\"RTF:\\t\\t{output['rtf']:.6f}\")\n",
        "    print(f\"RTF Waveform:\\t{rtf_w:.6f}\")\n",
        "    rtfs.append(output['rtf'])\n",
        "    rtfs_w.append(rtf_w)\n",
        "\n",
        "    ## Display the synthesised waveform\n",
        "    ipd.display(ipd.Audio(output['waveform'], rate=22050))\n",
        "\n",
        "    ## Save the generated waveform\n",
        "    save_to_folder(i, output, OUTPUT_FOLDER)\n",
        "\n",
        "print(f\"Number of ODE steps: {n_timesteps}\")\n",
        "print(f\"Mean RTF:\\t\\t\\t\\t{np.mean(rtfs):.6f} ± {np.std(rtfs):.6f}\")\n",
        "print(f\"Mean RTF Waveform (incl. vocoder):\\t{np.mean(rtfs_w):.6f} ± {np.std(rtfs_w):.6f}\")"
      ]
    }
  ],
  "metadata": {
    "colab": {
      "provenance": []
    },
    "kernelspec": {
      "display_name": "Python 3",
      "name": "python3"
    },
    "language_info": {
      "name": "python"
    }
  },
  "nbformat": 4,
  "nbformat_minor": 0
}