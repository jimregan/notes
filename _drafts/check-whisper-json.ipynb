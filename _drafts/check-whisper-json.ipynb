{
 "cells": [
  {
   "cell_type": "code",
   "execution_count": 1,
   "metadata": {},
   "outputs": [],
   "source": [
    "import json\n",
    "\n",
    "with open(\"whisper-v3-aligned-to-sw_all.json\") as f:\n",
    "    data = json.load(f)"
   ]
  },
  {
   "cell_type": "code",
   "execution_count": 2,
   "metadata": {},
   "outputs": [],
   "source": [
    "from string import punctuation\n",
    "\n",
    "PUNCT = set(punctuation)\n",
    "\n",
    "def clean_sentence(text):\n",
    "    words = []\n",
    "    text = text.replace(\"—\", \" \")\n",
    "    for word in text.split(\" \"):\n",
    "        if word.startswith(\"[\") and word.endswith(\"]\"):\n",
    "            continue\n",
    "        while word[0:1] in PUNCT:\n",
    "            word = word[1:]\n",
    "        while word[-1:] in PUNCT:\n",
    "            word = word[:-1]\n",
    "        words.append(word.lower())\n",
    "    return \" \".join(words)"
   ]
  },
  {
   "cell_type": "code",
   "execution_count": 7,
   "metadata": {},
   "outputs": [],
   "source": [
    "CLEAR = []\n",
    "REST = []\n",
    "NO_AUDIO = []\n",
    "NO_TEXT = []\n",
    "for item in data:\n",
    "    if not \"res\" in data[item]:\n",
    "        current = data[item]\n",
    "        current[\"id\"] = item\n",
    "        NO_AUDIO.append(current)\n",
    "    elif not \"orig\" in data[item]:\n",
    "        current = data[item]\n",
    "        current[\"id\"] = item\n",
    "        NO_TEXT.append(current)\n",
    "    elif clean_sentence(data[item][\"res\"]) == data[item][\"orig\"].replace(\"_\", \" \"):\n",
    "        current = data[item]\n",
    "        current[\"id\"] = item\n",
    "        CLEAR.append(current)\n",
    "    else:\n",
    "        current = data[item]\n",
    "        current[\"id\"] = item\n",
    "        REST.append(current)"
   ]
  }
 ],
 "metadata": {
  "kernelspec": {
   "display_name": "ctcseg",
   "language": "python",
   "name": "python3"
  },
  "language_info": {
   "codemirror_mode": {
    "name": "ipython",
    "version": 3
   },
   "file_extension": ".py",
   "mimetype": "text/x-python",
   "name": "python",
   "nbconvert_exporter": "python",
   "pygments_lexer": "ipython3",
   "version": "3.10.4"
  }
 },
 "nbformat": 4,
 "nbformat_minor": 2
}
