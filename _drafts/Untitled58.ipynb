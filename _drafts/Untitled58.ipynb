{
  "nbformat": 4,
  "nbformat_minor": 0,
  "metadata": {
    "colab": {
      "provenance": []
    },
    "kernelspec": {
      "name": "python3",
      "display_name": "Python 3"
    },
    "language_info": {
      "name": "python"
    }
  },
  "cells": [
    {
      "cell_type": "code",
      "execution_count": null,
      "metadata": {
        "id": "I51K0Ry0DAN-"
      },
      "outputs": [],
      "source": [
        "CSB_EXAMPLES = {\n",
        "    \"bëc\": \": (1.1) ''[[jô|Jô]] '''[[bëc|jem]]''' [[doma]].'' → ([[ja|Ja]]) '''[[być|jestem]]''' [[w]] [[dom]]u.\",\n",
        "    \"më\": \": (1.1) ''[[më|Më]] [[bëc|jesmë]] [[Kaszëba]]ma.'' → ('''[[my|My]]''') [[być|jesteśmy]] [[Kaszub]]ami.\",\n",
        "    \"ma\": \": (1.1) ''[[ma|Ma]] [[bëc|jesma]] [[Kaszëba]]ma.'' → '''[[my|My]]''' [[być|jesteśmy]] [[Kaszub]]ami.\",\n",
        "    \"akùratno\": \": (1.1) ''[[pò|Pò]] [[co|czim]] [[pòznac]], [[że]] [[akùratno]] [[ten|ta]] [[żnija]] [[bëc|je]] [[jadowiti|jadowitô]]?'' → [[po|Po]] [[co|czym]] [[poznać]], [[że]] '''[[akurat]]''' [[ta]] [[żmija]] [[być|jest]] [[jadowity|jadowita]]?\",\n",
        "    \"abò\": \": (1.1) ''[[abò|Abò]] [[biôłi|biôło]], [[abò]] [[czôrny|czôrno]].'' → '''[[albo|Albo]]''' [[biały|biało]], '''[[albo]]''' [[czarny|czarno]].\",\n",
        "    \"abstrakcëjô\": \": (1.1) ''[[nen|Nen]] [[òbrôzk]] [[to]] [[przëmiôr]] [[czësti]] [[abstrakcëjô|abstrakcëji]].'' → [[ten|Ten]] [[obraz]] [[to]] [[przykład]] [[czysty|czystej]] '''[[abstrakcja|abstrakcji]]'''.\",\n",
        "    \"adresa\": \": (1.1) ''[[wësłac|Wësłac]] [[lëst]] [[na]] [[domôcy|domôcą]] [[adresa|adrësã]].'' → [[wysłać|Wysłać]] [[list]] [[na]] '''[[adres]]''' [[domowy]].\",\n",
        "    \"agitowac\": \": (1.1) ''[[a|A]] [[co]] [[òn]] [[agitowac|agitëje]]?'' → [[a|A]] [[co]] [[on]] '''[[agitować|agituje]]'''?\",\n",
        "    \"\"\n",
        "}"
      ]
    },
    {
      "cell_type": "code",
      "source": [
        "DSB_EXAMPLES = {\n",
        "    \"a\": \": (1.1) ''[[wjacork|Wjacork]] [[serbski|serbskeje]] [[literatura|literatury]], [[muzika|muziki]] [[a]] [[źiwadło|źiwadła]] [[w]] [[Praga|Praze]].'' → [[wieczorek|Wieczorek]] [[łużycki]]ej [[literatura|literatury]], [[muzyka|muzyki]] '''[[i]]''' [[teatr]]u [[w]] [[Praga|Pradze]].\",\n",
        "    \"abo\": \": (1.1) ''[[molekul|Molekul]] [[byś|jo]] [[źěl]], [[kótaryž]] [[wobstojaś|wobstoj]] [[z]] [[dwě|dweju]] [[abo]] [[wjele|wěcej]] [[atom]]ow [[zwězaś|zwězanych]] [[pśez]] [[kowalentny|kowalentnu]] [[wězba|wězbu]]''. → [[molekuła|Molekuła]] [[być|jest]] [[cząstka|cząstką]], [[który|która]] [[składać się|składa się]] [[z]] [[dwa|dwóch]] '''[[albo]]''' [[wiele|więcej]] [[atom]]ów [[związać|związanych]] [[przez]] [[wiązanie]] [[kowalencyjny|kowalencyjne]].\",\n",
        "    \"adwent\": \": (1.1) ''[[adwent|Adwent]] [[byś|jo]] [[cas]] [[pśigótowanje|pśigótowanja]] [[na]] [[gódy]].'' → '''[[adwent|Adwent]]''' [[być|jest]] [[czas]]em [[przygotować|przygotowania]] [[na]] [[Boże Narodzenie]].\",\n",
        "    \"akle\": \": (1.1) ''[[ja|Ja]] [[byś|som]] [[akle]] [[w]] [[šula|šuli]] [[nimski]] [[nawuknuś|nawuknuł]].'' → [[niemiecki|Niemieckiego]] [[nauczyć|nauczyłem]] [[się]] '''[[dopiero]]''' [[w]] [[szkoła|szkole]].\",\n",
        "    \"ako\": [\n",
        "        \": (1.1) ''[[Grodk]] [[byś|jo]] [[stary|staršy]] [[ako]] [[Chośebuz]], [[byś|jo]] [[wón]] [[byś|był]] [[južo]] 893 [[od]] [[kejžor]]a Arnulfa [[twarjony]].'' → [[Grodk]] [[być|jest]] [[stary|starszy]] '''[[od]]''' [[Chociebuż]]a, [[zostać|został]] [[założony]] [[w]] 893 [[r.]] [[przez]] [[cesarz]]a Arnulfa.\",\n",
        "        \": (1.2) ''[[kompozicija|Kompozicija]] [[ako]] [[słowotworny|słowotworna]] [[metoda]] [[byś|jo]] [[w]] [[dolnoserbšćina|dolnoserbšćinje]] [[podrědowany|podrědowanu]] [[rola|rolu]] [[graś|grała]].'' → [[złożenie|Złożenie]] '''[[jako]]''' [[metoda]] [[słowotwórczy|słowotwórcza]] [[odgrywać|odgrywała]] [[w]] [[język]]u [[dolnołużycki]]m [[podrzędny|podrzędną]] [[rola|rolę]].\",\n",
        "        \": (1.3) ''[[gaby|Gaby]] [[byś|był]] [[atom]] [[tak]] [[wjeliki]] [[ako]] [[jaden|jadna]] [[katedrala]], [[by]] [[jědro]] [[byś|było]] [[małki|małke]] [[ako]] [[mucha]].'' → [[gdyby|Gdyby]] [[atom]] [[być|był]] [[tak]] [[wielki]] '''[[jak]]''' [[jeden|jedna]] [[katedra]], [[jądro]] [[być|byłoby]] [[mały|małe]] '''[[jak]]''' [[mucha]].\"\n",
        "    ],\n",
        "    \"ceptaŕ\": \": (1.1) ''Mato Koch [[byś|jo]] [[ceptaŕ]] [[za]] [[nimšćina|nimšćinu]] [[a]] [[serbšćina|serbšćinu]] [[na]] [[dolnoserbski|dolnoserbskem]] [[gymnazium]]je.'' → Mato Koch [[być|jest]] '''[[nauczyciel]]em''' [[język]]a [[niemiecki]]ego [[i]] [[łużycki]]ego [[w]] [[gimnazjum]] [[dolnołużycki]]m.\",\n",
        "    \"Albanarka\": \": (1.1) ''[[wóna|Wóna]] [[byś|jo]] [[Albanarka]].'' → [[ona|Ona]] [[być|jest]] '''[[Albanka|Albanką]]'''.\"\n",
        "}"
      ],
      "metadata": {
        "id": "sliJqqrmH7Nb"
      },
      "execution_count": null,
      "outputs": []
    }
  ]
}