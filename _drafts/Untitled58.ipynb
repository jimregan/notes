{
  "nbformat": 4,
  "nbformat_minor": 0,
  "metadata": {
    "colab": {
      "provenance": []
    },
    "kernelspec": {
      "name": "python3",
      "display_name": "Python 3"
    },
    "language_info": {
      "name": "python"
    }
  },
  "cells": [
    {
      "cell_type": "code",
      "execution_count": null,
      "metadata": {
        "id": "I51K0Ry0DAN-"
      },
      "outputs": [],
      "source": [
        "CSB_EXAMPLES = {\n",
        "    \"bëc\": \": (1.1) ''[[jô|Jô]] '''[[bëc|jem]]''' [[doma]].'' → ([[ja|Ja]]) '''[[być|jestem]]''' [[w]] [[dom]]u.\",\n",
        "    \"më\": \": (1.1) ''[[më|Më]] [[bëc|jesmë]] [[Kaszëba]]ma.'' → ('''[[my|My]]''') [[być|jesteśmy]] [[Kaszub]]ami.\",\n",
        "    \"ma\": \": (1.1) ''[[ma|Ma]] [[bëc|jesma]] [[Kaszëba]]ma.'' → '''[[my|My]]''' [[być|jesteśmy]] [[Kaszub]]ami.\",\n",
        "    \"akùratno\": \": (1.1) ''[[pò|Pò]] [[co|czim]] [[pòznac]], [[że]] [[akùratno]] [[ten|ta]] [[żnija]] [[bëc|je]] [[jadowiti|jadowitô]]?'' → [[po|Po]] [[co|czym]] [[poznać]], [[że]] '''[[akurat]]''' [[ta]] [[żmija]] [[być|jest]] [[jadowity|jadowita]]?\",\n",
        "    \"abò\": \": (1.1) ''[[abò|Abò]] [[biôłi|biôło]], [[abò]] [[czôrny|czôrno]].'' → '''[[albo|Albo]]''' [[biały|biało]], '''[[albo]]''' [[czarny|czarno]].\",\n",
        "    \"abstrakcëjô\": \": (1.1) ''[[nen|Nen]] [[òbrôzk]] [[to]] [[przëmiôr]] [[czësti]] [[abstrakcëjô|abstrakcëji]].'' → [[ten|Ten]] [[obraz]] [[to]] [[przykład]] [[czysty|czystej]] '''[[abstrakcja|abstrakcji]]'''.\",\n",
        "    \"adresa\": \": (1.1) ''[[wësłac|Wësłac]] [[lëst]] [[na]] [[domôcy|domôcą]] [[adresa|adrësã]].'' → [[wysłać|Wysłać]] [[list]] [[na]] '''[[adres]]''' [[domowy]].\",\n",
        "    \"agitowac\": \": (1.1) ''[[a|A]] [[co]] [[òn]] [[agitowac|agitëje]]?'' → [[a|A]] [[co]] [[on]] '''[[agitować|agituje]]'''?\",\n",
        "    \"\"\n",
        "}"
      ]
    },
    {
      "cell_type": "code",
      "source": [
        "DSB_EXAMPLES = {\n",
        "    \"a\": \": (1.1) ''[[wjacork|Wjacork]] [[serbski|serbskeje]] [[literatura|literatury]], [[muzika|muziki]] [[a]] [[źiwadło|źiwadła]] [[w]] [[Praga|Praze]].'' → [[wieczorek|Wieczorek]] [[łużycki]]ej [[literatura|literatury]], [[muzyka|muzyki]] '''[[i]]''' [[teatr]]u [[w]] [[Praga|Pradze]].\",\n",
        "    \"abo\": \": (1.1) ''[[molekul|Molekul]] [[byś|jo]] [[źěl]], [[kótaryž]] [[wobstojaś|wobstoj]] [[z]] [[dwě|dweju]] [[abo]] [[wjele|wěcej]] [[atom]]ow [[zwězaś|zwězanych]] [[pśez]] [[kowalentny|kowalentnu]] [[wězba|wězbu]]''. → [[molekuła|Molekuła]] [[być|jest]] [[cząstka|cząstką]], [[który|która]] [[składać się|składa się]] [[z]] [[dwa|dwóch]] '''[[albo]]''' [[wiele|więcej]] [[atom]]ów [[związać|związanych]] [[przez]] [[wiązanie]] [[kowalencyjny|kowalencyjne]].\",\n",
        "    \"adwent\": \": (1.1) ''[[adwent|Adwent]] [[byś|jo]] [[cas]] [[pśigótowanje|pśigótowanja]] [[na]] [[gódy]].'' → '''[[adwent|Adwent]]''' [[być|jest]] [[czas]]em [[przygotować|przygotowania]] [[na]] [[Boże Narodzenie]].\",\n",
        "    \"akle\": \": (1.1) ''[[ja|Ja]] [[byś|som]] [[akle]] [[w]] [[šula|šuli]] [[nimski]] [[nawuknuś|nawuknuł]].'' → [[niemiecki|Niemieckiego]] [[nauczyć|nauczyłem]] [[się]] '''[[dopiero]]''' [[w]] [[szkoła|szkole]].\",\n",
        "    \"ako\": [\n",
        "        \": (1.1) ''[[Grodk]] [[byś|jo]] [[stary|staršy]] [[ako]] [[Chośebuz]], [[byś|jo]] [[wón]] [[byś|był]] [[južo]] 893 [[od]] [[kejžor]]a Arnulfa [[twarjony]].'' → [[Grodk]] [[być|jest]] [[stary|starszy]] '''[[od]]''' [[Chociebuż]]a, [[zostać|został]] [[założony]] [[w]] 893 [[r.]] [[przez]] [[cesarz]]a Arnulfa.\",\n",
        "        \": (1.2) ''[[kompozicija|Kompozicija]] [[ako]] [[słowotworny|słowotworna]] [[metoda]] [[byś|jo]] [[w]] [[dolnoserbšćina|dolnoserbšćinje]] [[podrědowany|podrědowanu]] [[rola|rolu]] [[graś|grała]].'' → [[złożenie|Złożenie]] '''[[jako]]''' [[metoda]] [[słowotwórczy|słowotwórcza]] [[odgrywać|odgrywała]] [[w]] [[język]]u [[dolnołużycki]]m [[podrzędny|podrzędną]] [[rola|rolę]].\",\n",
        "        \": (1.3) ''[[gaby|Gaby]] [[byś|był]] [[atom]] [[tak]] [[wjeliki]] [[ako]] [[jaden|jadna]] [[katedrala]], [[by]] [[jědro]] [[byś|było]] [[małki|małke]] [[ako]] [[mucha]].'' → [[gdyby|Gdyby]] [[atom]] [[być|był]] [[tak]] [[wielki]] '''[[jak]]''' [[jeden|jedna]] [[katedra]], [[jądro]] [[być|byłoby]] [[mały|małe]] '''[[jak]]''' [[mucha]].\"\n",
        "    ],\n",
        "    \"ceptaŕ\": \": (1.1) ''Mato Koch [[byś|jo]] [[ceptaŕ]] [[za]] [[nimšćina|nimšćinu]] [[a]] [[serbšćina|serbšćinu]] [[na]] [[dolnoserbski|dolnoserbskem]] [[gymnazium]]je.'' → Mato Koch [[być|jest]] '''[[nauczyciel]]em''' [[język]]a [[niemiecki]]ego [[i]] [[łużycki]]ego [[w]] [[gimnazjum]] [[dolnołużycki]]m.\",\n",
        "    \"Albanarka\": \": (1.1) ''[[wóna|Wóna]] [[byś|jo]] [[Albanarka]].'' → [[ona|Ona]] [[być|jest]] '''[[Albanka|Albanką]]'''.\",\n",
        "    \"Albańska\": \": (1.1) ''[[kak|Kak]] [[byś|su]] [[w]] [[Albańska|Albańskej]] [[se]] [[šćitaś|šćitali]] [[pšawo|pšawa]] [[narodny]]ch [[mjeńšyna|mjeńšynow]][[?]]'' → [[jak|Jak]] [[w]] '''[[Albania|Albanii]]''' [[przestrzegać|przestrzegano]] [[prawo|praw]] [[mniejszość|mniejszości]] [[etniczny]]ch[[?]]\",\n",
        "    \"Andorra\": \": (1.1) ''[[wóna|Wóna]] [[bydliś|bydli]] [[w]] [[Andorra|Andorrje]].'' → [[ona|Ona]] [[mieszkać|mieszka]] [[w]] '''[[Andora|Andorze]]'''.\",\n",
        "    \"atd.\": \": (1.1) = [[a]] [[tak]] [[daloko|dalej]] → [[i]] [[tak]] [[dalej]], [[itd.]]\",\n",
        "    \"Awstriska\": \": (1.1) ''[[ja|Ja]] [[bydliś|bydlim]] [[w]] [[Awstriska|Awstriskej]]'' → [[mieszkać|Mieszkam]] [[w]] '''[[Austria|Austrii]]'''.\",\n",
        "    \"až\": [\n",
        "        \": (1.1) ''[[někotary|Někotare]] [[mysliś|mysle]] [[až]] [[byś|jo]] [[to]] [[jaden|jadna]] [[rěc]], [[drugi|druge]] [[až]] [[byś|su]] [[to]] [[rozdźělny|rozdźělnej]] [[samostatny|samostatnej]] [[rěc]]y''. → [[niektóry|Niektórzy]] [[myśleć|myślą]], '''że''' [[być|jest]] [[to]] [[jeden]] [[język]], [[drugi|drudzy]], '''że''' [[być|są]] [[to]] [[oddzielny|oddzielne]], [[samodzielny|samodzielne]] [[język]]i.\"\n",
        "        \": (1.2) ''[[cakaś|Cakamy]], [[až]] [[wóna]] [[wšykno]] [[pśigótowaś|pśigótujo]].'' → [[czekać|Czekamy]], '''aż''' [[ona]] [[wszystko]] [[przygotować|przygotuje]].\"\n",
        "    ],\n",
        "    \"Barliń\": \": (1.1) ''[[Barliń]] [[byś|jo]] [[jaden|jadno]] [[z]] [[wjeliki|nejwětšych]] [[město]]w [[pó]] [[wobydlaŕ|wobydlarjach]] [[w]] [[EU]].'' → '''[[Berlin]]''' [[być|jest]] [[jeden|jednym]] [[z]] [[duży|największych]] [[miasto|miast]] w [[UE]] [[pod względem]] [[liczba|liczby]] [[mieszkaniec|mieszkańców]].\",\n",
        "    \"barwa\": \": (1.1) ''[[pśichod|Pśichod]] [[wiźeś|wiźim]] [[w]] [[carny]]ch [[barwa]]ch.'' → [[przyszłość|Przyszłość]] [[widzieć|widzę]] [[w]] [[czarny]]ch '''[[barwa]]ch'''.\",\n",
        "    \"Błota\": \": (1.1) ''[[zymny|Zymny]] [[wětš]] [[duś|dujo]] [[pśez]] [[Błota]], [[kótaryž|kótarež]] [[byś|jo]] [[běły]] [[sněg]] [[wuzapokšywaś|wuzapokšywał]].'' → [[zimny|Zimny]] [[wiatr]] [[wiać|wieje]] [[przez]] [[biały|białe]], [[przykryć|przykryte]] [[śnieg]]iem '''[[Błota]]'''.\",\n",
        "    \"bom\": \": (1.1) ''[[chto|Chto]] [[spěwaś|spěwa]] [[na]] [[zeleny|zelenej]] [[gorcycka|gorcycce]] [[spod]] [[słodki]]m [[bom]]om [[tak]] [[wjasele]]?'' → [[kto|Kto]] [[śpiewać|śpiewa]] [[na]] [[ten|tej]] [[góra|górze]] [[zielony|zielonej]], [[pod]] [[słodki]]m '''[[drzewo|drzewem]]''' [[wesoły|wesołe]] [[ton]]y?\",\n",
        "    \"Bórkowy\": \": (1.1) ''[[w|W]] [[Bórkowy|Borkowach]] [[bydliś|bydle]] [[luź]]e [[w]] [[samotnosć]]i [[a]] [[wjaseliś se|se wjasele]], [[gaž]] [[pśiś|pśidu]] [[gósć]]i.'' → [[w|W]] '''[[Borkowy|Borkowach]]''' [[człowiek|ludzie]] [[mieszkać|mieszkają]] [[w]] [[samotność|samotności]] [[i]] [[cieszyć się|cieszą się]], [[gdy]] [[przyjść|przyjdą]] [[gość|goście]].\",\n",
        "    \"Belgiska\": \": (1.1) ''[[ja|Ja]] [[bydliś|bydlim]] [[w]] [[Belgiska|Belgiskej]]'' → [[mieszkać|Mieszkam]] [[w]] '''[[Belgia|Belgii]]'''.\",\n",
        "    \"Běłoruska\": \": (1.1) ''[[kak|Kak]] [[byś|su]] [[w]] [[Běłoruska|Běłoruskej]] [[se]] [[šćitaś|šćitali]] [[pšawo|pšawa]] [[narodny]]ch [[mjeńšyna|mjeńšynow]]?'' → [[jak|Jak]] [[na]] '''[[Białoruś|Białorusi]]''' [[przestrzegać|przestrzegano]] [[prawo|praw]] [[mniejszość|mniejszości]] [[etniczny]]ch?\",\n",
        "    \"se\": [\n",
        "        \": (1.1) ''[[wón|Wón]] [[byś|jo]] [[se]] [[angažěrowaś|angažěrował]] [[w]] [[opozicija|opoziciji]] [[pśeśiwo]] [[komunistiski|komunistiskemu]] [[kněžarstwo]]ju [[w]] [[Pólska|Pólskej]]'' → [[angażować się|Angażował '''się''']] [[w]] [[opozycja|opozycję]] [[przeciwko]] [[komunistyczny|komunistycznemu]] [[rząd]]owi [[w]] [[Polska|Polsce]].\",\n",
        "        \": (1.2) ''[[bridge|Bridge]] [[se]] [[graś|grajo]] [[pó]] [[styrjo]]ch.'' → [[w|W]] [[brydż]]a [[grać|gra]] '''[[się]]''' [[we]] [[cztery|czterech]].\",\n",
        "        \": (1.2) ''[[pla|Pla]] [[werb]]a «[[pytaś]]» [[se]] [[rekcija]] [[nje]][[pódawaś|pódajo]].'' → [[obok|Obok]] [[czasownik]]a «pytaś» [[nie]] [[być|jest]] [[podawać|podana]] [[rekcja]].\"\n",
        "    ],\n",
        "    \"běły\": \": (1.1) ''[[zymny|Zymny]] [[wětš]] [[duś|dujo]] [[pśez]] [[Błota]], [[kótaryž|kótarež]] [[byś|jo]] [[běły]] [[sněg]] [[wuzapokšywaś|wuzapokšywał]].'' → [[zimny|Zimny]] [[wiatr]] [[wiać|wieje]] [[przez]] '''[[biały|białe]]''', [[przykryć|przykryte]] [[śnieg]]iem [[Błota]].\",\n",
        "    \"běły flak\": \": (1.1) ''[[k|K]] '''[[běły]]m [[flak]]am''' [[historija|historije]] [[serbski|serbskego]] [[lud]]u [[słušaś|słuša]] [[mimo]] [[cwiblowanje|cwiblowanja]] [[cas]] [[socializm]]a.'' → [[do|Do]] '''[[biała plama|białych plam]]''' [[w]] [[historia|historii]] [[naród|narodu]] [[łużycki]]ego [[należeć|należy]] [[bez wątpienia]] [[czas]] [[socjalizm]]u.\",\n",
        "    \"bjachaŕ\": \": (1.1) ''bjachaŕ [[z]] [[wóda|wódu]]'' → kubek [[z]] [[woda|wodą]]\",\n",
        "    \"bjacharik\": \": (1.1) ''[[wóni|Wóni]] [[źaržaś|źarže]] [[w]] [[ruka|ruce]] [[bjacharik]]i [[z]] [[wino]]m.'' → [[oni|Oni]] [[trzymać|trzymają]] [[w]] [[ręka|ręce]] '''[[kubek|kubki]]''' [[z]] [[wino|winem]].\",\n",
        "    \"basnikaŕ\": \": (1.1) ''[[na|Na]] [[Wotrowski|Wotrowskem]] [[kjarchob]]je [[byś|jo]] [[zakopowany]] [[serbski]] [[basnikaŕ]] [[a]] [[procowaŕ]] Jakub Bart-Ćišinski.'' → [[na|Na]] [[cmentarz]]u [[w]] Wotrowie [[pochować|pochowany]] [[być|jest]] [[łużycki]] '''[[poeta]]''' [[i]] [[patriota]] Jakub Bart-Ćišinski.\",\n",
        "    \"bóśon\": \": (1.1) ''[[w|W]] [[gnězdo|gnězdźe]] [[na]] [[wusoki|wusokem]] [[topoł|topole]] [[wótpocywaś|wótpocywa]] [[bóśon]].'' → [[w|W]] [[gniazdo|gnieździe]] [[na]] [[wysoki]]ej [[topola|topoli]] [[odpoczywać|odpoczywa]] '''[[bocian]]'''.\",\n",
        "    \"bóžko\": \": (1.1) ''[[ja|Ja]] [[by]] [[rad]] [[pomoc|pomogł]], [[ale]] [[bóžko]] [[nja]][[móc|móžom]]'' → [[ja|Ja]] [[by]]m [[chętnie]] [[pomóc|pomógł]], [[ale]] '''niestety''' [[nie]] [[móc|mogę]].\",\n",
        "    \"nja\": \": (1.1) ''[[tradicija|Tradicija]] [[nja]][[měś|ma]] [[hyšći]] 400 [[lěto|lět]].'' → [[tradycja|Tradycja]] '''nie''' [[mieć|ma]] [[jeszcze]] 400 [[rok|lat]].\",\n",
        "    \"Bramborska\": \": (1.1) ''[[Bramborska]] [[granicowaś|granicujo]] [[z]] [[Pólska|Pólskeju]].'' → '''[[Brandenburgia]]''' [[graniczyć|graniczy]] [[z]] [[Polska|Polską]].\",\n",
        "    \"bratš\": \": (1.1) ''[[wón|Jogo]] [[swójski]] [[bratš]] [[byś|jo]] [[wón|jogo]] [[pśeraźiś|pśeraźił]].'' → [[zdradzić|Zdradził]] [[on|go]] [[własny]] '''[[brat]]'''.\",\n",
        "    \"rola\": \": (1.1) ''[[kompozicija|Kompozicija]] [[ako]] [[słowotworny|słowotworna]] [[metoda]] [[byś|jo]] [[w]] [[dolnoserbšćina|dolnoserbšćinje]] [[až]] [[do]] [[drugi|drugeje]] [[swětowy|swětoweje]] [[wojna|wojny]] [[podrědowany|podrědowanu]] [[rola|rolu]] [[graś|grała]], [[tak]] [[až]] [[se]] [[jawiś|jawi]] [[w]] Mukowem [[słownik]]u [[jano]] [[gjarstka]] [[kompozitum]]ow.'' → [[złożenie|Złożenie]] [[jako]] [[metoda]] [[słowotwórczy|słowotwórcza]] [[odgrywać|odgrywała]] [[w]] [[język]] [[dolnołużycki]]m [[aż]] [[do]] [[czas]]ów [[druga wojna światowa|drugiej wojny światowej]] [[podrzędny|podrzędną]] [[rola|rolę]], [[tak]] [[iż]] [[w]] [[słownik]]u Arnoszta Muki [[być|jest]] [[tylko]] [[garść]] [[compositum|compositów]].\",\n",
        "    \"běrtyl\": [\n",
        "        \": (1.1) ''běrtyl [[na]] [[styri]]'' → [[za]] [[kwadrans]] [[czwarty|czwarta]] (=15:45)\",\n",
        "        \": (1.2) ''[[tśi]] běrtyle [[na]] [[pěś]]'' → 16:15\"\n",
        "    ],\n",
        "    \"Bulgarska\": \": (1.1) ''[[Rumuńska]] [[granicowaś|granicujo]] [[z]] [[Bulgarska|Bulgarskeju]].'' → [[Rumunia]] [[graniczyć|graniczy]] [[z]] '''[[Bułgaria|Bułgarią]]'''.\",\n",
        "    \"by\": \": (1.1) ''[[ja|Ja]] [[by]] [[rad]] [[pomoc|pomogł]], [[ale]] [[bóžko]] [[nja]][[móc|móžom]]'' → [[ja|Ja]] '''bym''' [[chętnie]] [[pomóc|pomógł]], [[ale]] [[niestety]] [[nie]] [[móc|mogę]].\",\n",
        "    \"bydliś\": \": (1.1) ''[[w|W]] [[Borkowy|Borkowach]] [[bydliś|bydle]] [[luź]]e [[w]] [[samotnosć]]i [[a]] [[wjaseliś se|se wjasele]], [[gaž]] [[pśiś|pśidu]] [[gósć|gósći.]].'' → [[w|W]] [[Borkowy|Borkowach]] [[człowiek|ludzie]] '''[[mieszkać|mieszkają]]''' [[w]] [[samotność|samotności]] [[i]] [[cieszyć się|cieszą się]], [[gdy]] [[przyjść|przyjdą]] [[gość|goście]].\",\n",
        "    \"byś\": [\n",
        "        \": (1.1) ''[[Grodk]] [[byś|jo]] [[stary|staršy]] [[ako]] [[Chośebuz]].'' → [[Grodk]] '''[[być|jest]]''' [[stary|starszy]] [[od]] [[Chociebuż]]a.\",\n",
        "        \": (1.2) ''[[kompozicija|Kompozicija]] [[ako]] [[słowotworny|słowotworna]] [[metoda]] [[byś|jo]] [[w]] [[dolnoserbšćina|dolnoserbšćinje]] [[podrědowany|podrědowanu]] [[rola|rolu]] '''[[graś|grała]]'''''. → [[złożenie|Złożenie]] [[jako]] [[metoda]] [[słowotwórczy|słowotwórcza]] '''[[odgrywać|odgrywała]]''' [[w]] [[język]]u [[dolnołużycki]]m [[podrzędny|podrzędną]] [[rola|rolę]].\"\n",
        "    ],\n",
        "    \"cakaś\": \": (1.1) ''[[cakaś|Cakamy]], [[až]] [[wóna]] [[wšykno]] [[pśigótowaś|pśigótujo]].'' → '''[[czekać|Czekamy]]''', [[aż]] [[ona]] [[wszystko]] [[przygotować|przygotuje]].\"\n",
        "}"
      ],
      "metadata": {
        "id": "sliJqqrmH7Nb"
      },
      "execution_count": 1,
      "outputs": []
    },
    {
      "cell_type": "code",
      "source": [
        "!pip install mwparserfromhell"
      ],
      "metadata": {
        "colab": {
          "base_uri": "https://localhost:8080/"
        },
        "id": "JifseS3Nhbz9",
        "outputId": "7b558ba3-39b6-493e-86e6-dbdf11c48af7"
      },
      "execution_count": 9,
      "outputs": [
        {
          "output_type": "stream",
          "name": "stdout",
          "text": [
            "Collecting mwparserfromhell\n",
            "  Downloading mwparserfromhell-0.6.6-cp311-cp311-manylinux_2_17_x86_64.manylinux2014_x86_64.whl.metadata (9.3 kB)\n",
            "Downloading mwparserfromhell-0.6.6-cp311-cp311-manylinux_2_17_x86_64.manylinux2014_x86_64.whl (196 kB)\n",
            "\u001b[?25l   \u001b[90m━━━━━━━━━━━━━━━━━━━━━━━━━━━━━━━━━━━━━━━━\u001b[0m \u001b[32m0.0/196.3 kB\u001b[0m \u001b[31m?\u001b[0m eta \u001b[36m-:--:--\u001b[0m\r\u001b[2K   \u001b[91m━━━━━━━━━━━━━━━━━━━━━━━━━━━━━━━━━━━━━━━\u001b[0m\u001b[91m╸\u001b[0m \u001b[32m194.6/196.3 kB\u001b[0m \u001b[31m6.3 MB/s\u001b[0m eta \u001b[36m0:00:01\u001b[0m\r\u001b[2K   \u001b[90m━━━━━━━━━━━━━━━━━━━━━━━━━━━━━━━━━━━━━━━━\u001b[0m \u001b[32m196.3/196.3 kB\u001b[0m \u001b[31m4.5 MB/s\u001b[0m eta \u001b[36m0:00:00\u001b[0m\n",
            "\u001b[?25hInstalling collected packages: mwparserfromhell\n",
            "Successfully installed mwparserfromhell-0.6.6\n"
          ]
        }
      ]
    },
    {
      "cell_type": "code",
      "source": [
        "import mwparserfromhell"
      ],
      "metadata": {
        "id": "NF_dX382h0_7"
      },
      "execution_count": 11,
      "outputs": []
    },
    {
      "cell_type": "code",
      "source": [
        "a = mwparserfromhell.parse(\"[[ona|Ona]] [[być|jest]] '''[[Albanka|Albanką]]'''.\")"
      ],
      "metadata": {
        "id": "xXO_Bjkph2wL"
      },
      "execution_count": 4,
      "outputs": []
    },
    {
      "cell_type": "code",
      "source": [
        "a.strip_code()"
      ],
      "metadata": {
        "colab": {
          "base_uri": "https://localhost:8080/",
          "height": 35
        },
        "id": "9yg8HwzBibQt",
        "outputId": "d01bb555-2204-4edb-8f7e-4336594b6e75"
      },
      "execution_count": 12,
      "outputs": [
        {
          "output_type": "execute_result",
          "data": {
            "text/plain": [
              "'Ona jest Albanką.'"
            ],
            "application/vnd.google.colaboratory.intrinsic+json": {
              "type": "string"
            }
          },
          "metadata": {},
          "execution_count": 12
        }
      ]
    },
    {
      "cell_type": "code",
      "source": [
        "first = a.filter_wikilinks()[0]"
      ],
      "metadata": {
        "id": "8bO836xeiARU"
      },
      "execution_count": 9,
      "outputs": []
    },
    {
      "cell_type": "code",
      "source": [
        "first.title"
      ],
      "metadata": {
        "colab": {
          "base_uri": "https://localhost:8080/"
        },
        "id": "XIhCKTUZiN6P",
        "outputId": "2e9d746c-52d6-4728-ba97-d9b508e175d3"
      },
      "execution_count": 11,
      "outputs": [
        {
          "output_type": "execute_result",
          "data": {
            "text/plain": [
              "'ona'"
            ]
          },
          "metadata": {},
          "execution_count": 11
        }
      ]
    },
    {
      "cell_type": "code",
      "source": [
        "mwparserfromhell.parse(\"([[ja|Ja]]) '''[[być|jestem]]''' [[w]] [[dom]]u.\").strip_code()"
      ],
      "metadata": {
        "colab": {
          "base_uri": "https://localhost:8080/",
          "height": 35
        },
        "id": "P3WYmw-ZjJL2",
        "outputId": "0b46addc-7349-4794-9142-88c204316ee9"
      },
      "execution_count": 13,
      "outputs": [
        {
          "output_type": "execute_result",
          "data": {
            "text/plain": [
              "'(Ja) jestem w domu.'"
            ],
            "application/vnd.google.colaboratory.intrinsic+json": {
              "type": "string"
            }
          },
          "metadata": {},
          "execution_count": 13
        }
      ]
    },
    {
      "cell_type": "code",
      "source": [
        "sample = {    \"barwa\": \": (1.1) ''[[pśichod|Pśichod]] [[wiźeś|wiźim]] [[w]] [[carny]]ch [[barwa]]ch.'' → [[przyszłość|Przyszłość]] [[widzieć|widzę]] [[w]] [[czarny]]ch '''[[barwa]]ch'''.\"}"
      ],
      "metadata": {
        "id": "63C7GBYba16i"
      },
      "execution_count": 2,
      "outputs": []
    },
    {
      "cell_type": "code",
      "source": [
        "def get_definition_parts(text=sample[\"barwa\"]):\n",
        "    if not text.startswith(\":\"):\n",
        "        return None\n",
        "    first_paren = text.find(\"(\")\n",
        "    if first_paren == -1:\n",
        "        return None\n",
        "    second_paren = text.find(\")\", first_paren)\n",
        "    wordid = text[first_paren+1:second_paren]\n",
        "\n",
        "    pieces = text[second_paren+1:].split(\"→\")\n",
        "    pieces = [p.strip() for p in pieces]\n",
        "    return {\n",
        "        \"word_id\": wordid,\n",
        "        \"other\": pieces[0],\n",
        "        \"pl\": pieces[1]\n",
        "    }"
      ],
      "metadata": {
        "id": "LjP2CRSga4NZ"
      },
      "execution_count": 7,
      "outputs": []
    },
    {
      "cell_type": "code",
      "source": [
        "eg = get_definition_parts(text=sample[\"barwa\"])"
      ],
      "metadata": {
        "id": "pvdpe8rrbZ-e"
      },
      "execution_count": 12,
      "outputs": []
    },
    {
      "cell_type": "code",
      "source": [
        "def pad_with_mwparse(sample):\n",
        "    parse_pl = mwparserfromhell.parse(sample[\"pl\"])\n",
        "    parse_other = mwparserfromhell.parse(sample[\"other\"])\n",
        "    sample[\"pl_text\"] = parse_pl.strip_code()\n",
        "    sample[\"other_text\"] = parse_other.strip_code()\n",
        "    return sample"
      ],
      "metadata": {
        "id": "ust-0fUBceuL"
      },
      "execution_count": null,
      "outputs": []
    },
    {
      "cell_type": "code",
      "source": [
        "eg[\"pl_text\"] = mwparserfromhell.parse(eg[\"pl\"]).strip_code()\n",
        "eg[\"other_text\"] = mwparserfromhell.parse(eg[\"other\"]).strip_code()"
      ],
      "metadata": {
        "id": "kECSxOGqcLAs"
      },
      "execution_count": 15,
      "outputs": []
    },
    {
      "cell_type": "code",
      "source": [
        "eg"
      ],
      "metadata": {
        "colab": {
          "base_uri": "https://localhost:8080/"
        },
        "id": "iXrgSyr1cRrI",
        "outputId": "e338f042-84d1-4cef-bdd3-32c72d66e41e"
      },
      "execution_count": 16,
      "outputs": [
        {
          "output_type": "execute_result",
          "data": {
            "text/plain": [
              "{'word_id': '1.1',\n",
              " 'other': \"''[[pśichod|Pśichod]] [[wiźeś|wiźim]] [[w]] [[carny]]ch [[barwa]]ch.''\",\n",
              " 'pl': \"[[przyszłość|Przyszłość]] [[widzieć|widzę]] [[w]] [[czarny]]ch '''[[barwa]]ch'''.\",\n",
              " 'pl_text': 'Przyszłość widzę w czarnych barwach.',\n",
              " 'other_text': 'Pśichod wiźim w carnych barwach.'}"
            ]
          },
          "metadata": {},
          "execution_count": 16
        }
      ]
    }
  ]
}