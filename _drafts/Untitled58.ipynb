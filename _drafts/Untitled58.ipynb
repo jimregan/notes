{
  "cells": [
    {
      "cell_type": "markdown",
      "metadata": {},
      "source": [
        "# Kashubian UD via Polish\n",
        "\n",
        "> \"Basic first steps\"\n",
        "\n",
        "- categories: [kashubian, csb, dsb, stanza, wiktionary]\n",
        "- hidden: true\n",
        "- badges: true\n",
        "- branch: master"
      ]
    },
    {
      "cell_type": "code",
      "execution_count": null,
      "metadata": {
        "id": "I51K0Ry0DAN-"
      },
      "outputs": [],
      "source": [
        "CSB_EXAMPLES = {\n",
        "    \"bëc\": \": (1.1) ''[[jô|Jô]] '''[[bëc|jem]]''' [[doma]].'' → ([[ja|Ja]]) '''[[być|jestem]]''' [[w]] [[dom]]u.\",\n",
        "    \"më\": \": (1.1) ''[[më|Më]] [[bëc|jesmë]] [[Kaszëba]]ma.'' → ('''[[my|My]]''') [[być|jesteśmy]] [[Kaszub]]ami.\",\n",
        "    \"ma\": \": (1.1) ''[[ma|Ma]] [[bëc|jesma]] [[Kaszëba]]ma.'' → '''[[my|My]]''' [[być|jesteśmy]] [[Kaszub]]ami.\",\n",
        "    \"akùratno\": \": (1.1) ''[[pò|Pò]] [[co|czim]] [[pòznac]], [[że]] [[akùratno]] [[ten|ta]] [[żnija]] [[bëc|je]] [[jadowiti|jadowitô]]?'' → [[po|Po]] [[co|czym]] [[poznać]], [[że]] '''[[akurat]]''' [[ta]] [[żmija]] [[być|jest]] [[jadowity|jadowita]]?\",\n",
        "    \"abò\": \": (1.1) ''[[abò|Abò]] [[biôłi|biôło]], [[abò]] [[czôrny|czôrno]].'' → '''[[albo|Albo]]''' [[biały|biało]], '''[[albo]]''' [[czarny|czarno]].\",\n",
        "    \"abstrakcëjô\": \": (1.1) ''[[nen|Nen]] [[òbrôzk]] [[to]] [[przëmiôr]] [[czësti]] [[abstrakcëjô|abstrakcëji]].'' → [[ten|Ten]] [[obraz]] [[to]] [[przykład]] [[czysty|czystej]] '''[[abstrakcja|abstrakcji]]'''.\",\n",
        "    \"adresa\": \": (1.1) ''[[wësłac|Wësłac]] [[lëst]] [[na]] [[domôcy|domôcą]] [[adresa|adrësã]].'' → [[wysłać|Wysłać]] [[list]] [[na]] '''[[adres]]''' [[domowy]].\",\n",
        "    \"agitowac\": \": (1.1) ''[[a|A]] [[co]] [[òn]] [[agitowac|agitëje]]?'' → [[a|A]] [[co]] [[on]] '''[[agitować|agituje]]'''?\",\n",
        "    \"ani\": \": (1.1) ''[[ni|Ni]] [[miec|móm]] [[ani]] [[dëtk]]a.'' → [[nie|Nie]] [[mieć|mam]] '''[[ani]]''' [[grosz]]a.\",\n",
        "    \"apfelzynowi\": \": (1.1) ''[[apfelzynowi|Apfelzynowô]] [[farwa]].'' → '''[[pomarańczowy|Pomarańczowy]]''' [[kolor]].\",\n",
        "    \"arbata\": \": (1.1) ''[[to|To]] [[bëc|je]] [[dëcht]] [[smaczny|smacznô]] [[arbata]].'' → [[to|To]] [[być|jest]] [[całkiem]] [[smaczny|smaczna]] '''[[herbata]]'''.\",\n",
        "}"
      ]
    },
    {
      "cell_type": "code",
      "execution_count": 1,
      "metadata": {
        "id": "sliJqqrmH7Nb"
      },
      "outputs": [],
      "source": [
        "DSB_EXAMPLES = {\n",
        "    \"a\": \": (1.1) ''[[wjacork|Wjacork]] [[serbski|serbskeje]] [[literatura|literatury]], [[muzika|muziki]] [[a]] [[źiwadło|źiwadła]] [[w]] [[Praga|Praze]].'' → [[wieczorek|Wieczorek]] [[łużycki]]ej [[literatura|literatury]], [[muzyka|muzyki]] '''[[i]]''' [[teatr]]u [[w]] [[Praga|Pradze]].\",\n",
        "    \"abo\": \": (1.1) ''[[molekul|Molekul]] [[byś|jo]] [[źěl]], [[kótaryž]] [[wobstojaś|wobstoj]] [[z]] [[dwě|dweju]] [[abo]] [[wjele|wěcej]] [[atom]]ow [[zwězaś|zwězanych]] [[pśez]] [[kowalentny|kowalentnu]] [[wězba|wězbu]]''. → [[molekuła|Molekuła]] [[być|jest]] [[cząstka|cząstką]], [[który|która]] [[składać się|składa się]] [[z]] [[dwa|dwóch]] '''[[albo]]''' [[wiele|więcej]] [[atom]]ów [[związać|związanych]] [[przez]] [[wiązanie]] [[kowalencyjny|kowalencyjne]].\",\n",
        "    \"adwent\": \": (1.1) ''[[adwent|Adwent]] [[byś|jo]] [[cas]] [[pśigótowanje|pśigótowanja]] [[na]] [[gódy]].'' → '''[[adwent|Adwent]]''' [[być|jest]] [[czas]]em [[przygotować|przygotowania]] [[na]] [[Boże Narodzenie]].\",\n",
        "    \"akle\": \": (1.1) ''[[ja|Ja]] [[byś|som]] [[akle]] [[w]] [[šula|šuli]] [[nimski]] [[nawuknuś|nawuknuł]].'' → [[niemiecki|Niemieckiego]] [[nauczyć|nauczyłem]] [[się]] '''[[dopiero]]''' [[w]] [[szkoła|szkole]].\",\n",
        "    \"ako\": [\n",
        "        \": (1.1) ''[[Grodk]] [[byś|jo]] [[stary|staršy]] [[ako]] [[Chośebuz]], [[byś|jo]] [[wón]] [[byś|był]] [[južo]] 893 [[od]] [[kejžor]]a Arnulfa [[twarjony]].'' → [[Grodk]] [[być|jest]] [[stary|starszy]] '''[[od]]''' [[Chociebuż]]a, [[zostać|został]] [[założony]] [[w]] 893 [[r.]] [[przez]] [[cesarz]]a Arnulfa.\",\n",
        "        \": (1.2) ''[[kompozicija|Kompozicija]] [[ako]] [[słowotworny|słowotworna]] [[metoda]] [[byś|jo]] [[w]] [[dolnoserbšćina|dolnoserbšćinje]] [[podrědowany|podrědowanu]] [[rola|rolu]] [[graś|grała]].'' → [[złożenie|Złożenie]] '''[[jako]]''' [[metoda]] [[słowotwórczy|słowotwórcza]] [[odgrywać|odgrywała]] [[w]] [[język]]u [[dolnołużycki]]m [[podrzędny|podrzędną]] [[rola|rolę]].\",\n",
        "        \": (1.3) ''[[gaby|Gaby]] [[byś|był]] [[atom]] [[tak]] [[wjeliki]] [[ako]] [[jaden|jadna]] [[katedrala]], [[by]] [[jědro]] [[byś|było]] [[małki|małke]] [[ako]] [[mucha]].'' → [[gdyby|Gdyby]] [[atom]] [[być|był]] [[tak]] [[wielki]] '''[[jak]]''' [[jeden|jedna]] [[katedra]], [[jądro]] [[być|byłoby]] [[mały|małe]] '''[[jak]]''' [[mucha]].\"\n",
        "    ],\n",
        "    \"ceptaŕ\": \": (1.1) ''Mato Koch [[byś|jo]] [[ceptaŕ]] [[za]] [[nimšćina|nimšćinu]] [[a]] [[serbšćina|serbšćinu]] [[na]] [[dolnoserbski|dolnoserbskem]] [[gymnazium]]je.'' → Mato Koch [[być|jest]] '''[[nauczyciel]]em''' [[język]]a [[niemiecki]]ego [[i]] [[łużycki]]ego [[w]] [[gimnazjum]] [[dolnołużycki]]m.\",\n",
        "    \"Albanarka\": \": (1.1) ''[[wóna|Wóna]] [[byś|jo]] [[Albanarka]].'' → [[ona|Ona]] [[być|jest]] '''[[Albanka|Albanką]]'''.\",\n",
        "    \"Albańska\": \": (1.1) ''[[kak|Kak]] [[byś|su]] [[w]] [[Albańska|Albańskej]] [[se]] [[šćitaś|šćitali]] [[pšawo|pšawa]] [[narodny]]ch [[mjeńšyna|mjeńšynow]][[?]]'' → [[jak|Jak]] [[w]] '''[[Albania|Albanii]]''' [[przestrzegać|przestrzegano]] [[prawo|praw]] [[mniejszość|mniejszości]] [[etniczny]]ch[[?]]\",\n",
        "    \"Andorra\": \": (1.1) ''[[wóna|Wóna]] [[bydliś|bydli]] [[w]] [[Andorra|Andorrje]].'' → [[ona|Ona]] [[mieszkać|mieszka]] [[w]] '''[[Andora|Andorze]]'''.\",\n",
        "    \"atd.\": \": (1.1) = [[a]] [[tak]] [[daloko|dalej]] → [[i]] [[tak]] [[dalej]], [[itd.]]\",\n",
        "    \"Awstriska\": \": (1.1) ''[[ja|Ja]] [[bydliś|bydlim]] [[w]] [[Awstriska|Awstriskej]]'' → [[mieszkać|Mieszkam]] [[w]] '''[[Austria|Austrii]]'''.\",\n",
        "    \"až\": [\n",
        "        \": (1.1) ''[[někotary|Někotare]] [[mysliś|mysle]] [[až]] [[byś|jo]] [[to]] [[jaden|jadna]] [[rěc]], [[drugi|druge]] [[až]] [[byś|su]] [[to]] [[rozdźělny|rozdźělnej]] [[samostatny|samostatnej]] [[rěc]]y''. → [[niektóry|Niektórzy]] [[myśleć|myślą]], '''że''' [[być|jest]] [[to]] [[jeden]] [[język]], [[drugi|drudzy]], '''że''' [[być|są]] [[to]] [[oddzielny|oddzielne]], [[samodzielny|samodzielne]] [[język]]i.\"\n",
        "        \": (1.2) ''[[cakaś|Cakamy]], [[až]] [[wóna]] [[wšykno]] [[pśigótowaś|pśigótujo]].'' → [[czekać|Czekamy]], '''aż''' [[ona]] [[wszystko]] [[przygotować|przygotuje]].\"\n",
        "    ],\n",
        "    \"Barliń\": \": (1.1) ''[[Barliń]] [[byś|jo]] [[jaden|jadno]] [[z]] [[wjeliki|nejwětšych]] [[město]]w [[pó]] [[wobydlaŕ|wobydlarjach]] [[w]] [[EU]].'' → '''[[Berlin]]''' [[być|jest]] [[jeden|jednym]] [[z]] [[duży|największych]] [[miasto|miast]] w [[UE]] [[pod względem]] [[liczba|liczby]] [[mieszkaniec|mieszkańców]].\",\n",
        "    \"barwa\": \": (1.1) ''[[pśichod|Pśichod]] [[wiźeś|wiźim]] [[w]] [[carny]]ch [[barwa]]ch.'' → [[przyszłość|Przyszłość]] [[widzieć|widzę]] [[w]] [[czarny]]ch '''[[barwa]]ch'''.\",\n",
        "    \"Błota\": \": (1.1) ''[[zymny|Zymny]] [[wětš]] [[duś|dujo]] [[pśez]] [[Błota]], [[kótaryž|kótarež]] [[byś|jo]] [[běły]] [[sněg]] [[wuzapokšywaś|wuzapokšywał]].'' → [[zimny|Zimny]] [[wiatr]] [[wiać|wieje]] [[przez]] [[biały|białe]], [[przykryć|przykryte]] [[śnieg]]iem '''[[Błota]]'''.\",\n",
        "    \"bom\": \": (1.1) ''[[chto|Chto]] [[spěwaś|spěwa]] [[na]] [[zeleny|zelenej]] [[gorcycka|gorcycce]] [[spod]] [[słodki]]m [[bom]]om [[tak]] [[wjasele]]?'' → [[kto|Kto]] [[śpiewać|śpiewa]] [[na]] [[ten|tej]] [[góra|górze]] [[zielony|zielonej]], [[pod]] [[słodki]]m '''[[drzewo|drzewem]]''' [[wesoły|wesołe]] [[ton]]y?\",\n",
        "    \"Bórkowy\": \": (1.1) ''[[w|W]] [[Bórkowy|Borkowach]] [[bydliś|bydle]] [[luź]]e [[w]] [[samotnosć]]i [[a]] [[wjaseliś se|se wjasele]], [[gaž]] [[pśiś|pśidu]] [[gósć]]i.'' → [[w|W]] '''[[Borkowy|Borkowach]]''' [[człowiek|ludzie]] [[mieszkać|mieszkają]] [[w]] [[samotność|samotności]] [[i]] [[cieszyć się|cieszą się]], [[gdy]] [[przyjść|przyjdą]] [[gość|goście]].\",\n",
        "    \"Belgiska\": \": (1.1) ''[[ja|Ja]] [[bydliś|bydlim]] [[w]] [[Belgiska|Belgiskej]]'' → [[mieszkać|Mieszkam]] [[w]] '''[[Belgia|Belgii]]'''.\",\n",
        "    \"Běłoruska\": \": (1.1) ''[[kak|Kak]] [[byś|su]] [[w]] [[Běłoruska|Běłoruskej]] [[se]] [[šćitaś|šćitali]] [[pšawo|pšawa]] [[narodny]]ch [[mjeńšyna|mjeńšynow]]?'' → [[jak|Jak]] [[na]] '''[[Białoruś|Białorusi]]''' [[przestrzegać|przestrzegano]] [[prawo|praw]] [[mniejszość|mniejszości]] [[etniczny]]ch?\",\n",
        "    \"se\": [\n",
        "        \": (1.1) ''[[wón|Wón]] [[byś|jo]] [[se]] [[angažěrowaś|angažěrował]] [[w]] [[opozicija|opoziciji]] [[pśeśiwo]] [[komunistiski|komunistiskemu]] [[kněžarstwo]]ju [[w]] [[Pólska|Pólskej]]'' → [[angażować się|Angażował '''się''']] [[w]] [[opozycja|opozycję]] [[przeciwko]] [[komunistyczny|komunistycznemu]] [[rząd]]owi [[w]] [[Polska|Polsce]].\",\n",
        "        \": (1.2) ''[[bridge|Bridge]] [[se]] [[graś|grajo]] [[pó]] [[styrjo]]ch.'' → [[w|W]] [[brydż]]a [[grać|gra]] '''[[się]]''' [[we]] [[cztery|czterech]].\",\n",
        "        \": (1.2) ''[[pla|Pla]] [[werb]]a «[[pytaś]]» [[se]] [[rekcija]] [[nje]][[pódawaś|pódajo]].'' → [[obok|Obok]] [[czasownik]]a «pytaś» [[nie]] [[być|jest]] [[podawać|podana]] [[rekcja]].\"\n",
        "    ],\n",
        "    \"běły\": \": (1.1) ''[[zymny|Zymny]] [[wětš]] [[duś|dujo]] [[pśez]] [[Błota]], [[kótaryž|kótarež]] [[byś|jo]] [[běły]] [[sněg]] [[wuzapokšywaś|wuzapokšywał]].'' → [[zimny|Zimny]] [[wiatr]] [[wiać|wieje]] [[przez]] '''[[biały|białe]]''', [[przykryć|przykryte]] [[śnieg]]iem [[Błota]].\",\n",
        "    \"běły flak\": \": (1.1) ''[[k|K]] '''[[běły]]m [[flak]]am''' [[historija|historije]] [[serbski|serbskego]] [[lud]]u [[słušaś|słuša]] [[mimo]] [[cwiblowanje|cwiblowanja]] [[cas]] [[socializm]]a.'' → [[do|Do]] '''[[biała plama|białych plam]]''' [[w]] [[historia|historii]] [[naród|narodu]] [[łużycki]]ego [[należeć|należy]] [[bez wątpienia]] [[czas]] [[socjalizm]]u.\",\n",
        "    \"bjachaŕ\": \": (1.1) ''bjachaŕ [[z]] [[wóda|wódu]]'' → kubek [[z]] [[woda|wodą]]\",\n",
        "    \"bjacharik\": \": (1.1) ''[[wóni|Wóni]] [[źaržaś|źarže]] [[w]] [[ruka|ruce]] [[bjacharik]]i [[z]] [[wino]]m.'' → [[oni|Oni]] [[trzymać|trzymają]] [[w]] [[ręka|ręce]] '''[[kubek|kubki]]''' [[z]] [[wino|winem]].\",\n",
        "    \"basnikaŕ\": \": (1.1) ''[[na|Na]] [[Wotrowski|Wotrowskem]] [[kjarchob]]je [[byś|jo]] [[zakopowany]] [[serbski]] [[basnikaŕ]] [[a]] [[procowaŕ]] Jakub Bart-Ćišinski.'' → [[na|Na]] [[cmentarz]]u [[w]] Wotrowie [[pochować|pochowany]] [[być|jest]] [[łużycki]] '''[[poeta]]''' [[i]] [[patriota]] Jakub Bart-Ćišinski.\",\n",
        "    \"bóśon\": \": (1.1) ''[[w|W]] [[gnězdo|gnězdźe]] [[na]] [[wusoki|wusokem]] [[topoł|topole]] [[wótpocywaś|wótpocywa]] [[bóśon]].'' → [[w|W]] [[gniazdo|gnieździe]] [[na]] [[wysoki]]ej [[topola|topoli]] [[odpoczywać|odpoczywa]] '''[[bocian]]'''.\",\n",
        "    \"bóžko\": \": (1.1) ''[[ja|Ja]] [[by]] [[rad]] [[pomoc|pomogł]], [[ale]] [[bóžko]] [[nja]][[móc|móžom]]'' → [[ja|Ja]] [[by]]m [[chętnie]] [[pomóc|pomógł]], [[ale]] '''niestety''' [[nie]] [[móc|mogę]].\",\n",
        "    \"nja\": \": (1.1) ''[[tradicija|Tradicija]] [[nja]][[měś|ma]] [[hyšći]] 400 [[lěto|lět]].'' → [[tradycja|Tradycja]] '''nie''' [[mieć|ma]] [[jeszcze]] 400 [[rok|lat]].\",\n",
        "    \"Bramborska\": \": (1.1) ''[[Bramborska]] [[granicowaś|granicujo]] [[z]] [[Pólska|Pólskeju]].'' → '''[[Brandenburgia]]''' [[graniczyć|graniczy]] [[z]] [[Polska|Polską]].\",\n",
        "    \"bratš\": \": (1.1) ''[[wón|Jogo]] [[swójski]] [[bratš]] [[byś|jo]] [[wón|jogo]] [[pśeraźiś|pśeraźił]].'' → [[zdradzić|Zdradził]] [[on|go]] [[własny]] '''[[brat]]'''.\",\n",
        "    \"rola\": \": (1.1) ''[[kompozicija|Kompozicija]] [[ako]] [[słowotworny|słowotworna]] [[metoda]] [[byś|jo]] [[w]] [[dolnoserbšćina|dolnoserbšćinje]] [[až]] [[do]] [[drugi|drugeje]] [[swětowy|swětoweje]] [[wojna|wojny]] [[podrědowany|podrědowanu]] [[rola|rolu]] [[graś|grała]], [[tak]] [[až]] [[se]] [[jawiś|jawi]] [[w]] Mukowem [[słownik]]u [[jano]] [[gjarstka]] [[kompozitum]]ow.'' → [[złożenie|Złożenie]] [[jako]] [[metoda]] [[słowotwórczy|słowotwórcza]] [[odgrywać|odgrywała]] [[w]] [[język]] [[dolnołużycki]]m [[aż]] [[do]] [[czas]]ów [[druga wojna światowa|drugiej wojny światowej]] [[podrzędny|podrzędną]] [[rola|rolę]], [[tak]] [[iż]] [[w]] [[słownik]]u Arnoszta Muki [[być|jest]] [[tylko]] [[garść]] [[compositum|compositów]].\",\n",
        "    \"běrtyl\": [\n",
        "        \": (1.1) ''běrtyl [[na]] [[styri]]'' → [[za]] [[kwadrans]] [[czwarty|czwarta]] (=15:45)\",\n",
        "        \": (1.2) ''[[tśi]] běrtyle [[na]] [[pěś]]'' → 16:15\"\n",
        "    ],\n",
        "    \"Bulgarska\": \": (1.1) ''[[Rumuńska]] [[granicowaś|granicujo]] [[z]] [[Bulgarska|Bulgarskeju]].'' → [[Rumunia]] [[graniczyć|graniczy]] [[z]] '''[[Bułgaria|Bułgarią]]'''.\",\n",
        "    \"by\": \": (1.1) ''[[ja|Ja]] [[by]] [[rad]] [[pomoc|pomogł]], [[ale]] [[bóžko]] [[nja]][[móc|móžom]]'' → [[ja|Ja]] '''bym''' [[chętnie]] [[pomóc|pomógł]], [[ale]] [[niestety]] [[nie]] [[móc|mogę]].\",\n",
        "    \"bydliś\": \": (1.1) ''[[w|W]] [[Borkowy|Borkowach]] [[bydliś|bydle]] [[luź]]e [[w]] [[samotnosć]]i [[a]] [[wjaseliś se|se wjasele]], [[gaž]] [[pśiś|pśidu]] [[gósć|gósći.]].'' → [[w|W]] [[Borkowy|Borkowach]] [[człowiek|ludzie]] '''[[mieszkać|mieszkają]]''' [[w]] [[samotność|samotności]] [[i]] [[cieszyć się|cieszą się]], [[gdy]] [[przyjść|przyjdą]] [[gość|goście]].\",\n",
        "    \"byś\": [\n",
        "        \": (1.1) ''[[Grodk]] [[byś|jo]] [[stary|staršy]] [[ako]] [[Chośebuz]].'' → [[Grodk]] '''[[być|jest]]''' [[stary|starszy]] [[od]] [[Chociebuż]]a.\",\n",
        "        \": (1.2) ''[[kompozicija|Kompozicija]] [[ako]] [[słowotworny|słowotworna]] [[metoda]] [[byś|jo]] [[w]] [[dolnoserbšćina|dolnoserbšćinje]] [[podrědowany|podrědowanu]] [[rola|rolu]] '''[[graś|grała]]'''''. → [[złożenie|Złożenie]] [[jako]] [[metoda]] [[słowotwórczy|słowotwórcza]] '''[[odgrywać|odgrywała]]''' [[w]] [[język]]u [[dolnołużycki]]m [[podrzędny|podrzędną]] [[rola|rolę]].\"\n",
        "    ],\n",
        "    \"cakaś\": \": (1.1) ''[[cakaś|Cakamy]], [[až]] [[wóna]] [[wšykno]] [[pśigótowaś|pśigótujo]].'' → '''[[czekać|Czekamy]]''', [[aż]] [[ona]] [[wszystko]] [[przygotować|przygotuje]].\",\n",
        "    \"cerwjeny\": \": (1.1) ''[[kokot|Kokot]] [[z]] [[cerwjeny]]m [[pjero]]m.'' → [[kogut|Kogut]] [[z]] '''czerwonym''' [[piórko|piórkiem]].\",\n",
        "    \"Česka\": \": (1.1) ''[[Słowakska]] [[granicowaś|granicujo]] [[z]] [[Česka|Českeju]].'' → [[Słowacja]] [[graniczyć|graniczy]] [[z]] '''[[Czechy|Czechami]]'''.\",\n",
        "    \"ceły\": \": (1.1) ''[[słyńco|Słyńco]] [[byś|jo]] [[ceły]] [[źeń]] [[swěśiś|swěśiło]].'' → [[Słońce]] [[świecić|świeciło]] '''cały''' [[dzień]].\",\n",
        "    \"ceji\": \": (1.1) ''[[ceji|Ceja]] [[to]] [[ideja]]?'' → '''[[czyj|Czyj]]''' [[to]] [[pomysł]]?\",\n",
        "    \"Čechojska\": \": (1.1) ''[[Słowakska]] [[granicowaś|granicujo]] [[z]] [[Čechojska|Čechojskeju]].'' → [[Słowacja]] [[graniczyć|graniczy]] [[z]] '''[[Czechy|Czechami]]'''.\",\n",
        "    \"cas\": \": (1.1) ''[[za|Za]] [[drugi|druge]] [[wěc]]y [[wón]] [[tuchylu]] [[wjele]] [[cas]]a [[měś|njama]].'' → [[na|Na]] [[inny|inne]] [[sprawa|sprawy]] [[on]] [[nie]] [[mieć|ma]] [[obecnie]] [[wiele]] '''[[czas]]u'''.\",\n",
        "    \"chóry\": \": (1.1) ''[[mój|Mój]] [[muž]] [[byś|jo]] [[chóry]].'' → [[mój|Mój]] [[mąż]] [[być|jest]] '''[[chory]]'''.\",\n",
        "    \"Chóśebuz\": \": (1.1) ''[[kněz|Kněz]] [[Alfred]] [[M]]. [[z]] [[Chóśebuz]]a [[byś|jo]] [[napisaś|napisał]] [[wucbnica|wucbnicu]] [[dolnoserbski|dolnoserbskeje]] [[rěc]]y [[za]] [[Pólak]]ow.'' → [[pan|Pan]] [[Alfred]] [[M]]. [[z]] '''[[Chociebuż]]a''' [[napisać|napisał]] [[podręcznik]] [[język]]a [[dolnołużycki]]ego [[dla]] [[Polak]]ów.\",\n",
        "    \"kněz\": \": (1.1) ''[[kněz|Kněz]] Alfred M. [[z]] [[Chóśebuz]]a [[byś|jo]] [[napisaś|napisał]] [[wucbnica|wucbnicu]] [[dolnoserbski|dolnoserbskeje]] [[rěc]]y [[za]] [[Pólak]]ow.'' → '''Pan''' [[Alfred]] M. [[napisać|napisał]] [[podręcznik]] [[język]]a [[dolnołużycki]]ego [[dla]] [[Polak]]ów.\",\n",
        "    \"Chorwatska\": \": (1.1) ''[[Chorwatska]] [[granicowaś|granicujo]] [[z]] [[Słowjeńska|Słowjeńskeju]].'' → '''[[Chorwacja]]''' [[graniczyć|graniczy]] [[ze]] [[Słowenia|Słowenią]].\",\n",
        "    \"cytaś\": \": (1.1) ''Don Bosco [[byś|jo]] [[měś|měł]] [[wurědny]] [[dar]]: [[což|Což]] [[byś|jo]] [[raz]] [[cytaś|cytał]] [[abo]] [[słyšaś|słyšał]], [[to]] [[byś|jo]] [[se]] [[naraz]] [[markowaś|markował]].''<ref>[[w:dsb:Don Bosco|dolnołużycka Wikipedia]]</ref> → Don Bosco [[mieć|miał]] [[szczególny]] [[dar]]: [[co]] [[raz]] '''[[przeczytać|przeczytał]]''' [[albo]] [[usłyszeć|usłyszał]], [[od razu]] [[zapamiętać|zapamiętywał]].\",\n",
        "    \"daniž\": [\n",
        "        \": (1.1) ''[[ja|Ja]] [[daniž]] [[piwo|piwa]] [[daniž]] [[wino|wina]] [[nje]][[piś|pijom]].'' → [[nie|Nie]] [[pić|piję]] '''[[ani]]''' [[piwo|piwa]], '''[[ani]]''' [[wino|wina]].\",\n",
        "        \": (1.1) ''[[pó|Pó]] [[wójna|wójnje]] [[nje]][[byś|jo]] [[daniž]] [[jaden]] [[dom]] [[we]] [[wjas|jsy]] [[wóstaś|wóstał]].'' → [[po|Po]] [[wojna|wojnie]] [[nie]] [[zostać|został]] [[we]] [[wieś|wsi]] '''[[ani]]''' [[jeden]] [[dom]].\"\n",
        "    ],\n",
        "    \"Dańska\": \": (1.1) ''[[Dańska]] [[granicowaś|granicujo]] [[z]] [[Nimska|Nimskeju]].'' → '''[[Dania]]''' [[graniczyć|graniczy]] [[z]] [[Niemcy|Niemcami]].\",\n",
        "    \"daś\": \": (1.1) ''[[naš|Naš]] [[wšedny]] [[klěb]] [[daś|daj]] [[my|nam]] [[źěnsa]].'' → [[chleb|Chleba]] [[nasz]]ego [[powszedni]]ego '''[[dać|daj]]''' [[my|nam]] [[dzisiaj]].\",\n",
        "    \"co\": \": (1.1) ''– [[co|Co]] [[byś|sy]] [[kupowaś|kupił]]? – [[to|To]], [[což]] [[byś|jo]] [[ja|mě]] [[maś]] [[powěźeś|powěźeła]].'' → – [[co|Co]] [[kupować|kupiłeś]]? – [[to|To]], [[co]] [[ja|mi]] [[mama]] [[powiedzieć|powiedziała]].\",\n",
        "\n",
        "}"
      ]
    },
    {
      "cell_type": "code",
      "execution_count": null,
      "metadata": {
        "colab": {
          "base_uri": "https://localhost:8080/"
        },
        "id": "JifseS3Nhbz9",
        "outputId": "7b558ba3-39b6-493e-86e6-dbdf11c48af7"
      },
      "outputs": [],
      "source": [
        "!pip install mwparserfromhell"
      ]
    },
    {
      "cell_type": "code",
      "execution_count": 11,
      "metadata": {
        "id": "NF_dX382h0_7"
      },
      "outputs": [],
      "source": [
        "import mwparserfromhell"
      ]
    },
    {
      "cell_type": "code",
      "execution_count": 33,
      "metadata": {
        "id": "LjP2CRSga4NZ"
      },
      "outputs": [],
      "source": [
        "def get_definition_parts(text):\n",
        "    if not text.startswith(\":\"):\n",
        "        return None\n",
        "    first_paren = text.find(\"(\")\n",
        "    if first_paren == -1:\n",
        "        return None\n",
        "    second_paren = text.find(\")\", first_paren)\n",
        "    wordid = text[first_paren+1:second_paren]\n",
        "\n",
        "    pieces = text[second_paren+1:].split(\"→\")\n",
        "    pieces = [p.strip() for p in pieces]\n",
        "    return {\n",
        "        \"word_id\": wordid,\n",
        "        \"other\": pieces[0],\n",
        "        \"pl\": pieces[1]\n",
        "    }"
      ]
    },
    {
      "cell_type": "code",
      "execution_count": 34,
      "metadata": {
        "id": "pvdpe8rrbZ-e"
      },
      "outputs": [],
      "source": [
        "eg = get_definition_parts(text=DSB_EXAMPLES[\"barwa\"])"
      ]
    },
    {
      "cell_type": "code",
      "execution_count": 31,
      "metadata": {
        "id": "ust-0fUBceuL"
      },
      "outputs": [],
      "source": [
        "def pad_with_mwparse(sample):\n",
        "    parse_pl = mwparserfromhell.parse(sample[\"pl\"])\n",
        "    parse_other = mwparserfromhell.parse(sample[\"other\"])\n",
        "    sample[\"pl_text\"] = parse_pl.strip_code()\n",
        "    sample[\"other_text\"] = parse_other.strip_code()\n",
        "\n",
        "    links_pl = parse_pl.filter_wikilinks()\n",
        "    links_other = parse_other.filter_wikilinks()\n",
        "\n",
        "    sample[\"pl_links\"] = [(link.title, link.text) for link in links_pl]\n",
        "    sample[\"other_links\"] = [(link.title, link.text) for link in links_other]\n",
        "    return sample"
      ]
    },
    {
      "cell_type": "code",
      "execution_count": 35,
      "metadata": {
        "id": "4DtBejkcgCHf"
      },
      "outputs": [],
      "source": [
        "eg = pad_with_mwparse(eg)"
      ]
    },
    {
      "cell_type": "code",
      "execution_count": 36,
      "metadata": {
        "colab": {
          "base_uri": "https://localhost:8080/"
        },
        "id": "EZvWg_hIgDwI",
        "outputId": "8600a9b5-9442-4dac-d8da-7288993a5523"
      },
      "outputs": [
        {
          "data": {
            "text/plain": [
              "{'word_id': '1.1',\n",
              " 'other': \"''[[pśichod|Pśichod]] [[wiźeś|wiźim]] [[w]] [[carny]]ch [[barwa]]ch.''\",\n",
              " 'pl': \"[[przyszłość|Przyszłość]] [[widzieć|widzę]] [[w]] [[czarny]]ch '''[[barwa]]ch'''.\",\n",
              " 'pl_text': 'Przyszłość widzę w czarnych barwach.',\n",
              " 'other_text': 'Pśichod wiźim w carnych barwach.',\n",
              " 'pl_links': [('przyszłość', 'Przyszłość'),\n",
              "  ('widzieć', 'widzę'),\n",
              "  ('w', None),\n",
              "  ('czarny', None),\n",
              "  ('barwa', None)],\n",
              " 'other_links': [('pśichod', 'Pśichod'),\n",
              "  ('wiźeś', 'wiźim'),\n",
              "  ('w', None),\n",
              "  ('carny', None),\n",
              "  ('barwa', None)]}"
            ]
          },
          "execution_count": 36,
          "metadata": {},
          "output_type": "execute_result"
        }
      ],
      "source": [
        "eg"
      ]
    },
    {
      "cell_type": "code",
      "execution_count": null,
      "metadata": {
        "colab": {
          "base_uri": "https://localhost:8080/"
        },
        "id": "FYZUNX7_do0e",
        "outputId": "65c712b1-a40a-4a5f-9b33-351360352287"
      },
      "outputs": [],
      "source": [
        "!pip install stanza"
      ]
    },
    {
      "cell_type": "code",
      "execution_count": 23,
      "metadata": {
        "id": "gPw5s9nTeEaQ"
      },
      "outputs": [],
      "source": [
        "import stanza\n",
        "stanza.download(\"pl\", processors=\"tokenize,pos,lemma,depparse\", verbose=False)\n",
        "\n",
        "nlp = stanza.Pipeline(\n",
        "    lang=\"pl\",\n",
        "    processors=\"tokenize,pos,lemma,depparse\",\n",
        "    # Let Stanza decide sentences & tokens\n",
        "    verbose=False\n",
        ")"
      ]
    },
    {
      "cell_type": "code",
      "execution_count": 30,
      "metadata": {
        "colab": {
          "base_uri": "https://localhost:8080/"
        },
        "id": "V7003cgJeXzZ",
        "outputId": "4c55e896-a4d1-413c-fe11-2f3e682a8ad7"
      },
      "outputs": [
        {
          "name": "stdout",
          "output_type": "stream",
          "text": [
            "# text = Przyszłość widzę w czarnych barwach.\n",
            "# sent_id = 0\n",
            "1\tPrzyszłość\tprzyszłość\tNOUN\tsubst:sg:nom:f\tCase=Acc|Gender=Fem|Number=Sing\t2\tnsubj\t_\tstart_char=0|end_char=10\n",
            "2\twidzę\twidzieć\tVERB\tfin:sg:pri:imperf\tAspect=Imp|Mood=Ind|Number=Sing|Person=1|Tense=Pres|VerbForm=Fin|Voice=Act\t0\troot\t_\tstart_char=11|end_char=16\n",
            "3\tw\tw\tADP\tprep:loc:nwok\tAdpType=Prep|Variant=Short\t5\tcase\t_\tstart_char=17|end_char=18\n",
            "4\tczarnych\tczarny\tADJ\tadj:pl:loc:f:pos\tCase=Loc|Degree=Pos|Gender=Fem|Number=Plur\t5\tamod\t_\tstart_char=19|end_char=27\n",
            "5\tbarwach\tbarwa\tNOUN\tsubst:pl:loc:f\tCase=Loc|Gender=Fem|Number=Plur\t2\tobl\t_\tstart_char=28|end_char=35|SpaceAfter=No\n",
            "6\t.\t.\tPUNCT\tinterp\tPunctType=Peri\t2\tpunct\t_\tstart_char=35|end_char=36|SpaceAfter=No\n"
          ]
        }
      ],
      "source": [
        "print(\"{:C}\".format(nlp(eg[\"pl_text\"])))"
      ]
    },
    {
      "cell_type": "code",
      "execution_count": 37,
      "metadata": {
        "colab": {
          "base_uri": "https://localhost:8080/"
        },
        "id": "DjviDKbHgmJg",
        "outputId": "d33474fb-070c-48b4-9444-9e3bb15f7f1e"
      },
      "outputs": [
        {
          "name": "stdout",
          "output_type": "stream",
          "text": [
            "# text = most widzę\n",
            "# sent_id = 0\n",
            "1\tmost\tmost\tNOUN\tsubst:sg:nom:m3\tAnimacy=Inan|Case=Nom|Gender=Masc|Number=Sing\t2\tnsubj\t_\tstart_char=0|end_char=4\n",
            "2\twidzę\twidzieć\tVERB\tfin:sg:pri:imperf\tAspect=Imp|Mood=Ind|Number=Sing|Person=1|Tense=Pres|VerbForm=Fin|Voice=Act\t0\troot\t_\tstart_char=5|end_char=10|SpaceAfter=No\n"
          ]
        }
      ],
      "source": [
        "print(\"{:C}\".format(nlp(\"most widzę\")))"
      ]
    },
    {
      "cell_type": "code",
      "execution_count": null,
      "metadata": {
        "colab": {
          "base_uri": "https://localhost:8080/"
        },
        "id": "47-3BNwgt_U9",
        "outputId": "21cf443f-bf19-4fef-cfbe-b581c17b3335"
      },
      "outputs": [],
      "source": [
        "!pip install simalign"
      ]
    },
    {
      "cell_type": "code",
      "execution_count": 39,
      "metadata": {
        "id": "lgKc6C1euD0I"
      },
      "outputs": [],
      "source": [
        "lalign = \"Kněz Alfred M. z Chóśebuza jo napisał wucbnicu dolnoserbskeje rěcy za Pólakow.\"\n",
        "ralign = \"Pan Alfred M. napisał podręcznik języka dolnołużyckiego dla Polaków.\""
      ]
    },
    {
      "cell_type": "code",
      "execution_count": 41,
      "metadata": {
        "colab": {
          "base_uri": "https://localhost:8080/"
        },
        "id": "PTU60jm3uTPr",
        "outputId": "78538bae-8fa2-4c31-efa7-116d4dc6b43c"
      },
      "outputs": [
        {
          "name": "stderr",
          "output_type": "stream",
          "text": [
            "2025-06-05 10:55:01,498 - simalign.simalign - INFO - Initialized the EmbeddingLoader with model: bert-base-multilingual-cased\n",
            "INFO:simalign.simalign:Initialized the EmbeddingLoader with model: bert-base-multilingual-cased\n"
          ]
        }
      ],
      "source": [
        "from simalign import SentenceAligner\n",
        "\n",
        "myaligner = SentenceAligner(model=\"bert\", token_type=\"bpe\", matching_methods=\"mai\")\n",
        "llist = lalign.split(\" \")\n",
        "rlist = ralign.split(\" \")\n",
        "alignments = myaligner.get_word_aligns(llist, rlist)"
      ]
    },
    {
      "cell_type": "code",
      "execution_count": 42,
      "metadata": {
        "colab": {
          "base_uri": "https://localhost:8080/"
        },
        "id": "XrrjBN6HuhEi",
        "outputId": "79a8a9d3-3833-423d-a4e3-8a9721cfe407"
      },
      "outputs": [
        {
          "name": "stdout",
          "output_type": "stream",
          "text": [
            "mwmf : [(0, 0), (1, 1), (2, 2), (6, 3), (7, 4), (8, 6), (9, 6), (10, 7), (11, 5), (11, 8)]\n",
            "inter : [(0, 0), (1, 1), (2, 2), (6, 3), (7, 4), (8, 6), (9, 6), (10, 7), (11, 8)]\n",
            "itermax : [(0, 0), (1, 1), (2, 2), (6, 3), (7, 4), (8, 6), (9, 6), (10, 7), (11, 5), (11, 8)]\n"
          ]
        }
      ],
      "source": [
        "for matching_method in alignments:\n",
        "    print(matching_method, \":\", alignments[matching_method])"
      ]
    },
    {
      "cell_type": "code",
      "execution_count": null,
      "metadata": {
        "colab": {
          "base_uri": "https://localhost:8080/"
        },
        "id": "VI7WeWfnu_F9",
        "outputId": "f28ced8f-2374-4968-c2bd-6043ca43f1de"
      },
      "outputs": [],
      "source": [
        "for matching_method in alignments:\n",
        "    for ali in alignments[matching_method]:\n",
        "        print(llist[ali[0]], rlist[ali[1]])\n",
        "    print()"
      ]
    },
    {
      "cell_type": "code",
      "execution_count": 4,
      "metadata": {},
      "outputs": [],
      "source": [
        "import bz2\n",
        "\n",
        "FILE = \"/Users/joregan/Downloads/plwiktionary-20250601-pages-articles.xml.bz2\"\n",
        "\n",
        "collected = {}\n",
        "collected[\"csb\"] = {}\n",
        "collected[\"dsb\"] = {}\n",
        "\n",
        "in_text = False\n",
        "in_examples = False\n",
        "title = \"\"\n",
        "lang_code = \"\"\n",
        "\n",
        "with bz2.open(FILE, \"rt\", encoding=\"utf-8\") as f:\n",
        "    for line in f:\n",
        "        if \"<title>\" in line:\n",
        "            title = line.strip().replace(\"<title>\", \"\").replace(\"</title>\", \"\")\n",
        "            in_text = True\n",
        "        elif in_text and \"</text>\" in line:\n",
        "            in_text = False\n",
        "            lang_code = \"\"\n",
        "        elif line.strip().startswith(\"==\"):\n",
        "            if in_text and \"({{język kaszubski}})\" in line:\n",
        "                lang_code = \"csb\"\n",
        "            elif in_text and \"({{język dolnołużycki}})\" in line:\n",
        "                lang_code = \"dsb\"\n",
        "            elif in_text and (\"({{język\" in line or \"}}) ==\" in line):\n",
        "                lang_code = \"\"\n",
        "        elif in_text and line.strip() == \"{{przykłady}}\":\n",
        "            in_examples = True\n",
        "        elif in_examples:\n",
        "            if line.strip().startswith(\"{{\"):\n",
        "                in_examples = False\n",
        "            elif line.strip().startswith(\":\") and lang_code != \"\":\n",
        "                if not title in collected[lang_code]:\n",
        "                    collected[lang_code][title] = []\n",
        "                collected[lang_code][title].append(line.strip())\n"
      ]
    },
    {
      "cell_type": "code",
      "execution_count": 5,
      "metadata": {},
      "outputs": [],
      "source": [
        "import json\n",
        "with open(\"collected_examples.json\", \"w\", encoding=\"utf-8\") as f:\n",
        "    json.dump(collected, f, ensure_ascii=False, indent=2)"
      ]
    },
    {
      "cell_type": "markdown",
      "metadata": {},
      "source": [
        "```conllu\n",
        "# text = To je dëcht smacznô arbata.\n",
        "# text_pl = To jest całkiem smaczna herbata.\n",
        "1\tTo\tto\tPRON\t_\tPronType=Dem|Gender=Neut|Number=Sing|Case=Nom\t2\texpl\t_\t_\n",
        "2\tje\tbëc\tAUX\t_\tMood=Ind|Tense=Pres|Person=3|Number=Sing|VerbForm=Fin\t0\troot\t_\t_\n",
        "3\tdëcht\tdëcht\tADV\t_\t_\t4\tadvmod\t_\t_\n",
        "4\tsmacznô\tsmaczny\tADJ\t_\tGender=Fem|Number=Sing|Case=Nom|Degree=Pos\t2\txcomp\t_\t_\n",
        "5\tarbata\tarbata\tNOUN\t_\tGender=Fem|Number=Sing|Case=Nom\t4\tnsubj\t_\tSpaceAfter=No\n",
        "6\t.\t.\tPUNCT\t_\t_\t1\tpunct\t_\t_\n",
        "\n",
        "# text = Më jesmë Kaszëbama.\n",
        "# text_pl = (My) jesteśmy Kaszubami.\n",
        "1\tMë\tmë\tPRON\t_\tPronType=Prs|Person=1|Number=Plur|Case=Nom\t2\tnsubj\t_\t_\n",
        "2\tjesmë\tbëc\tAUX\t_\tMood=Ind|Tense=Pres|Person=1|Number=Plur|VerbForm=Fin\t0\troot\t_\t_\n",
        "3\tKaszëbama\tKaszëba\tNOUN\t_\tCase=Ins|Number=Plur|Gender=Masc|Animacy=Hum\t2\txcomp\t_\tSpaceAfter=No\n",
        "4\t.\t.\tPUNCT\t_\t_\t1\tpunct\t_\t_\n",
        "\n",
        "# sent_id = le#1.1\n",
        "# text = Chcôł jem do miasta jachac z rena, lem zaspôł.\n",
        "# text_pl = Chciałem do miasta jechać z rana, alem zaspał.\n",
        "1\tChcôł\tchcec\tVERB\t_\tAspect=Imp|Tense=Past|VerbForm=Part|Gender=Masc|Number=Sing|Person=1\t0\troot\t_\t_\n",
        "2\tjem\tbëc\tAUX\t_\tMood=Ind|Tense=Pres|VerbForm=Fin|Person=1|Number=Sing\t1\taux\t_\t_\n",
        "3\tdo\tdo\tADP\t_\tAdpType=Prep|Case=Gen\t4\tcase\t_\t_\n",
        "4\tmiasta\tmiasto\tNOUN\t_\tGender=Neut|Number=Sing|Case=Gen\t5\tobl\t_\t_\n",
        "5\tjachac\tjachac\tVERB\t_\tVerbForm=Inf\t1\txcomp\t_\t_\n",
        "6\tz\tz\tADP\t_\tAdpType=Prep|Case=Gen\t7\tcase\t_\t_\n",
        "7\trena\treno\tNOUN\t_\tGender=Neut|Number=Sing|Case=Gen\t5\tobl\t_\tSpaceAfter=No\n",
        "8\t,\t,\tPUNCT\t_\t_\t1\tpunct\t_\t_\n",
        "9-10\tlem\t_\t_\t_\t_\t_\t_\t_\t_\n",
        "9\tle\tle\tCCONJ\t_\t_\t11\tcc\tSpaceAfter=No\t_\n",
        "10\tm\tbëc\tAUX\t_\tMood=Ind|Tense=Pres|VerbForm=Fin|Person=1|Number=Sing|Clitic=Yes\t11\taux\t_\t_\n",
        "11\tzaspôł\tzaspac\tVERB\t_\tAspect=Perf|Tense=Past|VerbForm=Part|Gender=Masc|Number=Sing|Person=1\t1\tconj\t_\tSpaceAfter=No\n",
        "12\t.\t.\tPUNCT\t_\t_\t1\tpunct\t_\t_\n",
        "```"
      ]
    },
    {
      "cell_type": "markdown",
      "metadata": {},
      "source": [
        "```\n",
        "# sent_id = 1\n",
        "# text = Chciałem do miasta jechać z rana, alem zaspał.\n",
        "1\tChciał\tchcieć\tVERB\tpraet:sg:m1:imperf\tAspect=Imp|Gender=Masc|Mood=Ind|Number=Sing|SubGender=Masc1|Tense=Past|VerbForm=Fin|Voice=Act\t0\troot\t_\tSpaceAfter=No|TokenRange=0:6\n",
        "2\tem\tbyć\tAUX\taglt:sg:pri:imperf:wok\tAspect=Imp|Number=Sing|Person=1|Variant=Long\t1\taux:clitic\t_\tTokenRange=6:8\n",
        "3\tdo\tdo\tADP\tprep:gen\tAdpType=Prep\t4\tcase\t_\tTokenRange=9:11\n",
        "4\tmiasta\tmiasto\tNOUN\tsubst:sg:gen:n\tCase=Gen|Gender=Neut|Number=Sing\t5\tobl\t_\tTokenRange=12:18\n",
        "5\tjechać\tjechać\tVERB\tinf:imperf\tAspect=Imp|VerbForm=Inf|Voice=Act\t1\txcomp\t_\tTokenRange=19:25\n",
        "6\tz\tz\tADP\tprep:gen:nwok\tAdpType=Prep|Variant=Short\t7\tcase\t_\tTokenRange=26:27\n",
        "7\trana\trano\tNOUN\tsubst:sg:gen:n\tCase=Gen|Gender=Neut|Number=Sing\t5\tobl\t_\tSpaceAfter=No|TokenRange=28:32\n",
        "8\t,\t,\tPUNCT\tinterp\tPunctType=Comm\t10\tpunct\t_\tTokenRange=32:33\n",
        "9\talem\talem\tCCONJ\tconj\t_\t10\tcc\t_\tTokenRange=34:38\n",
        "10\tzaspał\tzaspać\tVERB\tpraet:sg:m1:perf\tAspect=Perf|Gender=Masc|Mood=Ind|Number=Sing|SubGender=Masc1|Tense=Past|VerbForm=Fin|Voice=Act\t1\tconj\t_\tSpaceAfter=No|TokenRange=39:45\n",
        "11\t.\t.\tPUNCT\tinterp\tPunctType=Peri\t1\tpunct\t_\tSpaceAfter=No|TokenRange=45:46\n",
        "```"
      ]
    }
  ],
  "metadata": {
    "colab": {
      "provenance": []
    },
    "kernelspec": {
      "display_name": "nst-tts",
      "language": "python",
      "name": "python3"
    },
    "language_info": {
      "codemirror_mode": {
        "name": "ipython",
        "version": 3
      },
      "file_extension": ".py",
      "mimetype": "text/x-python",
      "name": "python",
      "nbconvert_exporter": "python",
      "pygments_lexer": "ipython3",
      "version": "3.10.9"
    }
  },
  "nbformat": 4,
  "nbformat_minor": 0
}
