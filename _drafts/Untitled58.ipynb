{
  "nbformat": 4,
  "nbformat_minor": 0,
  "metadata": {
    "colab": {
      "provenance": []
    },
    "kernelspec": {
      "name": "python3",
      "display_name": "Python 3"
    },
    "language_info": {
      "name": "python"
    }
  },
  "cells": [
    {
      "cell_type": "code",
      "execution_count": null,
      "metadata": {
        "id": "I51K0Ry0DAN-"
      },
      "outputs": [],
      "source": [
        "CSB_EXAMPLES = {\n",
        "    \"bëc\": \": (1.1) ''[[jô|Jô]] '''[[bëc|jem]]''' [[doma]].'' → ([[ja|Ja]]) '''[[być|jestem]]''' [[w]] [[dom]]u.\",\n",
        "    \"më\": \": (1.1) ''[[më|Më]] [[bëc|jesmë]] [[Kaszëba]]ma.'' → ('''[[my|My]]''') [[być|jesteśmy]] [[Kaszub]]ami.\",\n",
        "    \"ma\": \": (1.1) ''[[ma|Ma]] [[bëc|jesma]] [[Kaszëba]]ma.'' → '''[[my|My]]''' [[być|jesteśmy]] [[Kaszub]]ami.\",\n",
        "    \"akùratno\": \": (1.1) ''[[pò|Pò]] [[co|czim]] [[pòznac]], [[że]] [[akùratno]] [[ten|ta]] [[żnija]] [[bëc|je]] [[jadowiti|jadowitô]]?'' → [[po|Po]] [[co|czym]] [[poznać]], [[że]] '''[[akurat]]''' [[ta]] [[żmija]] [[być|jest]] [[jadowity|jadowita]]?\",\n",
        "    \"abò\": \": (1.1) ''[[abò|Abò]] [[biôłi|biôło]], [[abò]] [[czôrny|czôrno]].'' → '''[[albo|Albo]]''' [[biały|biało]], '''[[albo]]''' [[czarny|czarno]].\",\n",
        "    \"abstrakcëjô\": \": (1.1) ''[[nen|Nen]] [[òbrôzk]] [[to]] [[przëmiôr]] [[czësti]] [[abstrakcëjô|abstrakcëji]].'' → [[ten|Ten]] [[obraz]] [[to]] [[przykład]] [[czysty|czystej]] '''[[abstrakcja|abstrakcji]]'''.\",\n",
        "    \"adresa\": \": (1.1) ''[[wësłac|Wësłac]] [[lëst]] [[na]] [[domôcy|domôcą]] [[adresa|adrësã]].'' → [[wysłać|Wysłać]] [[list]] [[na]] '''[[adres]]''' [[domowy]].\",\n",
        "    \"agitowac\": \": (1.1) ''[[a|A]] [[co]] [[òn]] [[agitowac|agitëje]]?'' → [[a|A]] [[co]] [[on]] '''[[agitować|agituje]]'''?\",\n",
        "    \"\"\n",
        "}"
      ]
    },
    {
      "cell_type": "code",
      "source": [
        "DSB_EXAMPLES = {\n",
        "    \"a\": \": (1.1) ''[[wjacork|Wjacork]] [[serbski|serbskeje]] [[literatura|literatury]], [[muzika|muziki]] [[a]] [[źiwadło|źiwadła]] [[w]] [[Praga|Praze]].'' → [[wieczorek|Wieczorek]] [[łużycki]]ej [[literatura|literatury]], [[muzyka|muzyki]] '''[[i]]''' [[teatr]]u [[w]] [[Praga|Pradze]].\",\n",
        "    \"abo\": \": (1.1) ''[[molekul|Molekul]] [[byś|jo]] [[źěl]], [[kótaryž]] [[wobstojaś|wobstoj]] [[z]] [[dwě|dweju]] [[abo]] [[wjele|wěcej]] [[atom]]ow [[zwězaś|zwězanych]] [[pśez]] [[kowalentny|kowalentnu]] [[wězba|wězbu]]''. → [[molekuła|Molekuła]] [[być|jest]] [[cząstka|cząstką]], [[który|która]] [[składać się|składa się]] [[z]] [[dwa|dwóch]] '''[[albo]]''' [[wiele|więcej]] [[atom]]ów [[związać|związanych]] [[przez]] [[wiązanie]] [[kowalencyjny|kowalencyjne]].\",\n",
        "    \"adwent\": \": (1.1) ''[[adwent|Adwent]] [[byś|jo]] [[cas]] [[pśigótowanje|pśigótowanja]] [[na]] [[gódy]].'' → '''[[adwent|Adwent]]''' [[być|jest]] [[czas]]em [[przygotować|przygotowania]] [[na]] [[Boże Narodzenie]].\",\n",
        "    \"akle\": \": (1.1) ''[[ja|Ja]] [[byś|som]] [[akle]] [[w]] [[šula|šuli]] [[nimski]] [[nawuknuś|nawuknuł]].'' → [[niemiecki|Niemieckiego]] [[nauczyć|nauczyłem]] [[się]] '''[[dopiero]]''' [[w]] [[szkoła|szkole]].\",\n",
        "    \"ako\": [\n",
        "        \": (1.1) ''[[Grodk]] [[byś|jo]] [[stary|staršy]] [[ako]] [[Chośebuz]], [[byś|jo]] [[wón]] [[byś|był]] [[južo]] 893 [[od]] [[kejžor]]a Arnulfa [[twarjony]].'' → [[Grodk]] [[być|jest]] [[stary|starszy]] '''[[od]]''' [[Chociebuż]]a, [[zostać|został]] [[założony]] [[w]] 893 [[r.]] [[przez]] [[cesarz]]a Arnulfa.\",\n",
        "        \": (1.2) ''[[kompozicija|Kompozicija]] [[ako]] [[słowotworny|słowotworna]] [[metoda]] [[byś|jo]] [[w]] [[dolnoserbšćina|dolnoserbšćinje]] [[podrědowany|podrědowanu]] [[rola|rolu]] [[graś|grała]].'' → [[złożenie|Złożenie]] '''[[jako]]''' [[metoda]] [[słowotwórczy|słowotwórcza]] [[odgrywać|odgrywała]] [[w]] [[język]]u [[dolnołużycki]]m [[podrzędny|podrzędną]] [[rola|rolę]].\",\n",
        "        \": (1.3) ''[[gaby|Gaby]] [[byś|był]] [[atom]] [[tak]] [[wjeliki]] [[ako]] [[jaden|jadna]] [[katedrala]], [[by]] [[jědro]] [[byś|było]] [[małki|małke]] [[ako]] [[mucha]].'' → [[gdyby|Gdyby]] [[atom]] [[być|był]] [[tak]] [[wielki]] '''[[jak]]''' [[jeden|jedna]] [[katedra]], [[jądro]] [[być|byłoby]] [[mały|małe]] '''[[jak]]''' [[mucha]].\"\n",
        "    ],\n",
        "    \"ceptaŕ\": \": (1.1) ''Mato Koch [[byś|jo]] [[ceptaŕ]] [[za]] [[nimšćina|nimšćinu]] [[a]] [[serbšćina|serbšćinu]] [[na]] [[dolnoserbski|dolnoserbskem]] [[gymnazium]]je.'' → Mato Koch [[być|jest]] '''[[nauczyciel]]em''' [[język]]a [[niemiecki]]ego [[i]] [[łużycki]]ego [[w]] [[gimnazjum]] [[dolnołużycki]]m.\",\n",
        "    \"Albanarka\": \": (1.1) ''[[wóna|Wóna]] [[byś|jo]] [[Albanarka]].'' → [[ona|Ona]] [[być|jest]] '''[[Albanka|Albanką]]'''.\",\n",
        "    \"Albańska\": \": (1.1) ''[[kak|Kak]] [[byś|su]] [[w]] [[Albańska|Albańskej]] [[se]] [[šćitaś|šćitali]] [[pšawo|pšawa]] [[narodny]]ch [[mjeńšyna|mjeńšynow]][[?]]'' → [[jak|Jak]] [[w]] '''[[Albania|Albanii]]''' [[przestrzegać|przestrzegano]] [[prawo|praw]] [[mniejszość|mniejszości]] [[etniczny]]ch[[?]]\",\n",
        "    \"Andorra\": \": (1.1) ''[[wóna|Wóna]] [[bydliś|bydli]] [[w]] [[Andorra|Andorrje]].'' → [[ona|Ona]] [[mieszkać|mieszka]] [[w]] '''[[Andora|Andorze]]'''.\",\n",
        "    \"atd.\": \": (1.1) = [[a]] [[tak]] [[daloko|dalej]] → [[i]] [[tak]] [[dalej]], [[itd.]]\",\n",
        "    \"Awstriska\": \": (1.1) ''[[ja|Ja]] [[bydliś|bydlim]] [[w]] [[Awstriska|Awstriskej]]'' → [[mieszkać|Mieszkam]] [[w]] '''[[Austria|Austrii]]'''.\",\n",
        "    \"až\": [\n",
        "        \": (1.1) ''[[někotary|Někotare]] [[mysliś|mysle]] [[až]] [[byś|jo]] [[to]] [[jaden|jadna]] [[rěc]], [[drugi|druge]] [[až]] [[byś|su]] [[to]] [[rozdźělny|rozdźělnej]] [[samostatny|samostatnej]] [[rěc]]y''. → [[niektóry|Niektórzy]] [[myśleć|myślą]], '''że''' [[być|jest]] [[to]] [[jeden]] [[język]], [[drugi|drudzy]], '''że''' [[być|są]] [[to]] [[oddzielny|oddzielne]], [[samodzielny|samodzielne]] [[język]]i.\"\n",
        "        \": (1.2) ''[[cakaś|Cakamy]], [[až]] [[wóna]] [[wšykno]] [[pśigótowaś|pśigótujo]].'' → [[czekać|Czekamy]], '''aż''' [[ona]] [[wszystko]] [[przygotować|przygotuje]].\"\n",
        "    ],\n",
        "    \"Barliń\": \": (1.1) ''[[Barliń]] [[byś|jo]] [[jaden|jadno]] [[z]] [[wjeliki|nejwětšych]] [[město]]w [[pó]] [[wobydlaŕ|wobydlarjach]] [[w]] [[EU]].'' → '''[[Berlin]]''' [[być|jest]] [[jeden|jednym]] [[z]] [[duży|największych]] [[miasto|miast]] w [[UE]] [[pod względem]] [[liczba|liczby]] [[mieszkaniec|mieszkańców]].\",\n",
        "    \"barwa\": \": (1.1) ''[[pśichod|Pśichod]] [[wiźeś|wiźim]] [[w]] [[carny]]ch [[barwa]]ch.'' → [[przyszłość|Przyszłość]] [[widzieć|widzę]] [[w]] [[czarny]]ch '''[[barwa]]ch'''.\",\n",
        "    \"Błota\": \": (1.1) ''[[zymny|Zymny]] [[wětš]] [[duś|dujo]] [[pśez]] [[Błota]], [[kótaryž|kótarež]] [[byś|jo]] [[běły]] [[sněg]] [[wuzapokšywaś|wuzapokšywał]].'' → [[zimny|Zimny]] [[wiatr]] [[wiać|wieje]] [[przez]] [[biały|białe]], [[przykryć|przykryte]] [[śnieg]]iem '''[[Błota]]'''.\",\n",
        "    \"bom\": \": (1.1) ''[[chto|Chto]] [[spěwaś|spěwa]] [[na]] [[zeleny|zelenej]] [[gorcycka|gorcycce]] [[spod]] [[słodki]]m [[bom]]om [[tak]] [[wjasele]]?'' → [[kto|Kto]] [[śpiewać|śpiewa]] [[na]] [[ten|tej]] [[góra|górze]] [[zielony|zielonej]], [[pod]] [[słodki]]m '''[[drzewo|drzewem]]''' [[wesoły|wesołe]] [[ton]]y?\",\n",
        "    \"Bórkowy\": \": (1.1) ''[[w|W]] [[Bórkowy|Borkowach]] [[bydliś|bydle]] [[luź]]e [[w]] [[samotnosć]]i [[a]] [[wjaseliś se|se wjasele]], [[gaž]] [[pśiś|pśidu]] [[gósć]]i.'' → [[w|W]] '''[[Borkowy|Borkowach]]''' [[człowiek|ludzie]] [[mieszkać|mieszkają]] [[w]] [[samotność|samotności]] [[i]] [[cieszyć się|cieszą się]], [[gdy]] [[przyjść|przyjdą]] [[gość|goście]].\",\n",
        "    \"Belgiska\": \": (1.1) ''[[ja|Ja]] [[bydliś|bydlim]] [[w]] [[Belgiska|Belgiskej]]'' → [[mieszkać|Mieszkam]] [[w]] '''[[Belgia|Belgii]]'''.\",\n",
        "    \"Běłoruska\": \": (1.1) ''[[kak|Kak]] [[byś|su]] [[w]] [[Běłoruska|Běłoruskej]] [[se]] [[šćitaś|šćitali]] [[pšawo|pšawa]] [[narodny]]ch [[mjeńšyna|mjeńšynow]]?'' → [[jak|Jak]] [[na]] '''[[Białoruś|Białorusi]]''' [[przestrzegać|przestrzegano]] [[prawo|praw]] [[mniejszość|mniejszości]] [[etniczny]]ch?\",\n",
        "    \"se\": [\n",
        "        \": (1.1) ''[[wón|Wón]] [[byś|jo]] [[se]] [[angažěrowaś|angažěrował]] [[w]] [[opozicija|opoziciji]] [[pśeśiwo]] [[komunistiski|komunistiskemu]] [[kněžarstwo]]ju [[w]] [[Pólska|Pólskej]]'' → [[angażować się|Angażował '''się''']] [[w]] [[opozycja|opozycję]] [[przeciwko]] [[komunistyczny|komunistycznemu]] [[rząd]]owi [[w]] [[Polska|Polsce]].\",\n",
        "        \": (1.2) ''[[bridge|Bridge]] [[se]] [[graś|grajo]] [[pó]] [[styrjo]]ch.'' → [[w|W]] [[brydż]]a [[grać|gra]] '''[[się]]''' [[we]] [[cztery|czterech]].\",\n",
        "        \": (1.2) ''[[pla|Pla]] [[werb]]a «[[pytaś]]» [[se]] [[rekcija]] [[nje]][[pódawaś|pódajo]].'' → [[obok|Obok]] [[czasownik]]a «pytaś» [[nie]] [[być|jest]] [[podawać|podana]] [[rekcja]].\"\n",
        "    ],\n",
        "    \"běły\": \": (1.1) ''[[zymny|Zymny]] [[wětš]] [[duś|dujo]] [[pśez]] [[Błota]], [[kótaryž|kótarež]] [[byś|jo]] [[běły]] [[sněg]] [[wuzapokšywaś|wuzapokšywał]].'' → [[zimny|Zimny]] [[wiatr]] [[wiać|wieje]] [[przez]] '''[[biały|białe]]''', [[przykryć|przykryte]] [[śnieg]]iem [[Błota]].\",\n",
        "    \"běły flak\": \": (1.1) ''[[k|K]] '''[[běły]]m [[flak]]am''' [[historija|historije]] [[serbski|serbskego]] [[lud]]u [[słušaś|słuša]] [[mimo]] [[cwiblowanje|cwiblowanja]] [[cas]] [[socializm]]a.'' → [[do|Do]] '''[[biała plama|białych plam]]''' [[w]] [[historia|historii]] [[naród|narodu]] [[łużycki]]ego [[należeć|należy]] [[bez wątpienia]] [[czas]] [[socjalizm]]u.\",\n",
        "    \"bjachaŕ\": \": (1.1) ''bjachaŕ [[z]] [[wóda|wódu]]'' → kubek [[z]] [[woda|wodą]]\",\n",
        "    \"bjacharik\": \": (1.1) ''[[wóni|Wóni]] [[źaržaś|źarže]] [[w]] [[ruka|ruce]] [[bjacharik]]i [[z]] [[wino]]m.'' → [[oni|Oni]] [[trzymać|trzymają]] [[w]] [[ręka|ręce]] '''[[kubek|kubki]]''' [[z]] [[wino|winem]].\",\n",
        "    \"basnikaŕ\": \": (1.1) ''[[na|Na]] [[Wotrowski|Wotrowskem]] [[kjarchob]]je [[byś|jo]] [[zakopowany]] [[serbski]] [[basnikaŕ]] [[a]] [[procowaŕ]] Jakub Bart-Ćišinski.'' → [[na|Na]] [[cmentarz]]u [[w]] Wotrowie [[pochować|pochowany]] [[być|jest]] [[łużycki]] '''[[poeta]]''' [[i]] [[patriota]] Jakub Bart-Ćišinski.\",\n",
        "    \"bóśon\": \": (1.1) ''[[w|W]] [[gnězdo|gnězdźe]] [[na]] [[wusoki|wusokem]] [[topoł|topole]] [[wótpocywaś|wótpocywa]] [[bóśon]].'' → [[w|W]] [[gniazdo|gnieździe]] [[na]] [[wysoki]]ej [[topola|topoli]] [[odpoczywać|odpoczywa]] '''[[bocian]]'''.\",\n",
        "    \"bóžko\": \": (1.1) ''[[ja|Ja]] [[by]] [[rad]] [[pomoc|pomogł]], [[ale]] [[bóžko]] [[nja]][[móc|móžom]]'' → [[ja|Ja]] [[by]]m [[chętnie]] [[pomóc|pomógł]], [[ale]] '''niestety''' [[nie]] [[móc|mogę]].\",\n",
        "    \"nja\": \": (1.1) ''[[tradicija|Tradicija]] [[nja]][[měś|ma]] [[hyšći]] 400 [[lěto|lět]].'' → [[tradycja|Tradycja]] '''nie''' [[mieć|ma]] [[jeszcze]] 400 [[rok|lat]].\",\n",
        "    \"Bramborska\": \": (1.1) ''[[Bramborska]] [[granicowaś|granicujo]] [[z]] [[Pólska|Pólskeju]].'' → '''[[Brandenburgia]]''' [[graniczyć|graniczy]] [[z]] [[Polska|Polską]].\",\n",
        "    \"bratš\": \": (1.1) ''[[wón|Jogo]] [[swójski]] [[bratš]] [[byś|jo]] [[wón|jogo]] [[pśeraźiś|pśeraźił]].'' → [[zdradzić|Zdradził]] [[on|go]] [[własny]] '''[[brat]]'''.\",\n",
        "    \"rola\": \": (1.1) ''[[kompozicija|Kompozicija]] [[ako]] [[słowotworny|słowotworna]] [[metoda]] [[byś|jo]] [[w]] [[dolnoserbšćina|dolnoserbšćinje]] [[až]] [[do]] [[drugi|drugeje]] [[swětowy|swětoweje]] [[wojna|wojny]] [[podrědowany|podrědowanu]] [[rola|rolu]] [[graś|grała]], [[tak]] [[až]] [[se]] [[jawiś|jawi]] [[w]] Mukowem [[słownik]]u [[jano]] [[gjarstka]] [[kompozitum]]ow.'' → [[złożenie|Złożenie]] [[jako]] [[metoda]] [[słowotwórczy|słowotwórcza]] [[odgrywać|odgrywała]] [[w]] [[język]] [[dolnołużycki]]m [[aż]] [[do]] [[czas]]ów [[druga wojna światowa|drugiej wojny światowej]] [[podrzędny|podrzędną]] [[rola|rolę]], [[tak]] [[iż]] [[w]] [[słownik]]u Arnoszta Muki [[być|jest]] [[tylko]] [[garść]] [[compositum|compositów]].\",\n",
        "    \"běrtyl\": [\n",
        "        \": (1.1) ''běrtyl [[na]] [[styri]]'' → [[za]] [[kwadrans]] [[czwarty|czwarta]] (=15:45)\",\n",
        "        \": (1.2) ''[[tśi]] běrtyle [[na]] [[pěś]]'' → 16:15\"\n",
        "    ],\n",
        "    \"Bulgarska\": \": (1.1) ''[[Rumuńska]] [[granicowaś|granicujo]] [[z]] [[Bulgarska|Bulgarskeju]].'' → [[Rumunia]] [[graniczyć|graniczy]] [[z]] '''[[Bułgaria|Bułgarią]]'''.\",\n",
        "    \"by\": \": (1.1) ''[[ja|Ja]] [[by]] [[rad]] [[pomoc|pomogł]], [[ale]] [[bóžko]] [[nja]][[móc|móžom]]'' → [[ja|Ja]] '''bym''' [[chętnie]] [[pomóc|pomógł]], [[ale]] [[niestety]] [[nie]] [[móc|mogę]].\",\n",
        "    \"bydliś\": \": (1.1) ''[[w|W]] [[Borkowy|Borkowach]] [[bydliś|bydle]] [[luź]]e [[w]] [[samotnosć]]i [[a]] [[wjaseliś se|se wjasele]], [[gaž]] [[pśiś|pśidu]] [[gósć|gósći.]].'' → [[w|W]] [[Borkowy|Borkowach]] [[człowiek|ludzie]] '''[[mieszkać|mieszkają]]''' [[w]] [[samotność|samotności]] [[i]] [[cieszyć się|cieszą się]], [[gdy]] [[przyjść|przyjdą]] [[gość|goście]].\",\n",
        "    \"byś\": [\n",
        "        \": (1.1) ''[[Grodk]] [[byś|jo]] [[stary|staršy]] [[ako]] [[Chośebuz]].'' → [[Grodk]] '''[[być|jest]]''' [[stary|starszy]] [[od]] [[Chociebuż]]a.\",\n",
        "        \": (1.2) ''[[kompozicija|Kompozicija]] [[ako]] [[słowotworny|słowotworna]] [[metoda]] [[byś|jo]] [[w]] [[dolnoserbšćina|dolnoserbšćinje]] [[podrědowany|podrědowanu]] [[rola|rolu]] '''[[graś|grała]]'''''. → [[złożenie|Złożenie]] [[jako]] [[metoda]] [[słowotwórczy|słowotwórcza]] '''[[odgrywać|odgrywała]]''' [[w]] [[język]]u [[dolnołużycki]]m [[podrzędny|podrzędną]] [[rola|rolę]].\"\n",
        "    ],\n",
        "    \"cakaś\": \": (1.1) ''[[cakaś|Cakamy]], [[až]] [[wóna]] [[wšykno]] [[pśigótowaś|pśigótujo]].'' → '''[[czekać|Czekamy]]''', [[aż]] [[ona]] [[wszystko]] [[przygotować|przygotuje]].\"\n",
        "}"
      ],
      "metadata": {
        "id": "sliJqqrmH7Nb"
      },
      "execution_count": 1,
      "outputs": []
    },
    {
      "cell_type": "code",
      "source": [
        "!pip install mwparserfromhell"
      ],
      "metadata": {
        "colab": {
          "base_uri": "https://localhost:8080/"
        },
        "id": "JifseS3Nhbz9",
        "outputId": "7b558ba3-39b6-493e-86e6-dbdf11c48af7"
      },
      "execution_count": 9,
      "outputs": [
        {
          "output_type": "stream",
          "name": "stdout",
          "text": [
            "Collecting mwparserfromhell\n",
            "  Downloading mwparserfromhell-0.6.6-cp311-cp311-manylinux_2_17_x86_64.manylinux2014_x86_64.whl.metadata (9.3 kB)\n",
            "Downloading mwparserfromhell-0.6.6-cp311-cp311-manylinux_2_17_x86_64.manylinux2014_x86_64.whl (196 kB)\n",
            "\u001b[?25l   \u001b[90m━━━━━━━━━━━━━━━━━━━━━━━━━━━━━━━━━━━━━━━━\u001b[0m \u001b[32m0.0/196.3 kB\u001b[0m \u001b[31m?\u001b[0m eta \u001b[36m-:--:--\u001b[0m\r\u001b[2K   \u001b[91m━━━━━━━━━━━━━━━━━━━━━━━━━━━━━━━━━━━━━━━\u001b[0m\u001b[91m╸\u001b[0m \u001b[32m194.6/196.3 kB\u001b[0m \u001b[31m6.3 MB/s\u001b[0m eta \u001b[36m0:00:01\u001b[0m\r\u001b[2K   \u001b[90m━━━━━━━━━━━━━━━━━━━━━━━━━━━━━━━━━━━━━━━━\u001b[0m \u001b[32m196.3/196.3 kB\u001b[0m \u001b[31m4.5 MB/s\u001b[0m eta \u001b[36m0:00:00\u001b[0m\n",
            "\u001b[?25hInstalling collected packages: mwparserfromhell\n",
            "Successfully installed mwparserfromhell-0.6.6\n"
          ]
        }
      ]
    },
    {
      "cell_type": "code",
      "source": [
        "import mwparserfromhell"
      ],
      "metadata": {
        "id": "NF_dX382h0_7"
      },
      "execution_count": 11,
      "outputs": []
    },
    {
      "cell_type": "code",
      "source": [
        "a = mwparserfromhell.parse(\"[[ona|Ona]] [[być|jest]] '''[[Albanka|Albanką]]'''.\")"
      ],
      "metadata": {
        "id": "xXO_Bjkph2wL"
      },
      "execution_count": 4,
      "outputs": []
    },
    {
      "cell_type": "code",
      "source": [
        "first = a.filter_wikilinks()[0]"
      ],
      "metadata": {
        "id": "8bO836xeiARU"
      },
      "execution_count": 9,
      "outputs": []
    },
    {
      "cell_type": "code",
      "source": [
        "first.title"
      ],
      "metadata": {
        "colab": {
          "base_uri": "https://localhost:8080/"
        },
        "id": "XIhCKTUZiN6P",
        "outputId": "2e9d746c-52d6-4728-ba97-d9b508e175d3"
      },
      "execution_count": 11,
      "outputs": [
        {
          "output_type": "execute_result",
          "data": {
            "text/plain": [
              "'ona'"
            ]
          },
          "metadata": {},
          "execution_count": 11
        }
      ]
    },
    {
      "cell_type": "code",
      "source": [
        "def get_definition_parts(text=sample[\"barwa\"]):\n",
        "    if not text.startswith(\":\"):\n",
        "        return None\n",
        "    first_paren = text.find(\"(\")\n",
        "    if first_paren == -1:\n",
        "        return None\n",
        "    second_paren = text.find(\")\", first_paren)\n",
        "    wordid = text[first_paren+1:second_paren]\n",
        "\n",
        "    pieces = text[second_paren+1:].split(\"→\")\n",
        "    pieces = [p.strip() for p in pieces]\n",
        "    return {\n",
        "        \"word_id\": wordid,\n",
        "        \"other\": pieces[0],\n",
        "        \"pl\": pieces[1]\n",
        "    }"
      ],
      "metadata": {
        "id": "LjP2CRSga4NZ"
      },
      "execution_count": 7,
      "outputs": []
    },
    {
      "cell_type": "code",
      "source": [
        "eg = get_definition_parts(text=sample[\"barwa\"])"
      ],
      "metadata": {
        "id": "pvdpe8rrbZ-e"
      },
      "execution_count": 12,
      "outputs": []
    },
    {
      "cell_type": "code",
      "source": [
        "def pad_with_mwparse(sample):\n",
        "    parse_pl = mwparserfromhell.parse(sample[\"pl\"])\n",
        "    parse_other = mwparserfromhell.parse(sample[\"other\"])\n",
        "    sample[\"pl_text\"] = parse_pl.strip_code()\n",
        "    sample[\"other_text\"] = parse_other.strip_code()\n",
        "    return sample"
      ],
      "metadata": {
        "id": "ust-0fUBceuL"
      },
      "execution_count": null,
      "outputs": []
    },
    {
      "cell_type": "code",
      "source": [
        "links = mwparserfromhell.parse(\"''[[pśichod|Pśichod]] [[wiźeś|wiźim]] [[w]] [[carny]]ch [[barwa]]ch.''\").filter_wikilinks()"
      ],
      "metadata": {
        "id": "iXrgSyr1cRrI"
      },
      "execution_count": 19,
      "outputs": []
    },
    {
      "cell_type": "code",
      "source": [
        "for link in links:\n",
        "    print(link.title, link.text)"
      ],
      "metadata": {
        "colab": {
          "base_uri": "https://localhost:8080/"
        },
        "id": "44orUZIDdCSg",
        "outputId": "8dce3b5b-6731-4f15-ac1c-a5b4cf1f44da"
      },
      "execution_count": 21,
      "outputs": [
        {
          "output_type": "stream",
          "name": "stdout",
          "text": [
            "pśichod Pśichod\n",
            "wiźeś wiźim\n",
            "w None\n",
            "carny None\n",
            "barwa None\n"
          ]
        }
      ]
    },
    {
      "cell_type": "code",
      "source": [
        "!pip install stanza"
      ],
      "metadata": {
        "colab": {
          "base_uri": "https://localhost:8080/"
        },
        "id": "FYZUNX7_do0e",
        "outputId": "65c712b1-a40a-4a5f-9b33-351360352287"
      },
      "execution_count": 22,
      "outputs": [
        {
          "output_type": "stream",
          "name": "stdout",
          "text": [
            "Collecting stanza\n",
            "  Downloading stanza-1.10.1-py3-none-any.whl.metadata (13 kB)\n",
            "Collecting emoji (from stanza)\n",
            "  Downloading emoji-2.14.1-py3-none-any.whl.metadata (5.7 kB)\n",
            "Requirement already satisfied: numpy in /usr/local/lib/python3.11/dist-packages (from stanza) (2.0.2)\n",
            "Requirement already satisfied: protobuf>=3.15.0 in /usr/local/lib/python3.11/dist-packages (from stanza) (5.29.5)\n",
            "Requirement already satisfied: requests in /usr/local/lib/python3.11/dist-packages (from stanza) (2.32.3)\n",
            "Requirement already satisfied: networkx in /usr/local/lib/python3.11/dist-packages (from stanza) (3.5)\n",
            "Requirement already satisfied: torch>=1.3.0 in /usr/local/lib/python3.11/dist-packages (from stanza) (2.6.0+cu124)\n",
            "Requirement already satisfied: tqdm in /usr/local/lib/python3.11/dist-packages (from stanza) (4.67.1)\n",
            "Requirement already satisfied: filelock in /usr/local/lib/python3.11/dist-packages (from torch>=1.3.0->stanza) (3.18.0)\n",
            "Requirement already satisfied: typing-extensions>=4.10.0 in /usr/local/lib/python3.11/dist-packages (from torch>=1.3.0->stanza) (4.13.2)\n",
            "Requirement already satisfied: jinja2 in /usr/local/lib/python3.11/dist-packages (from torch>=1.3.0->stanza) (3.1.6)\n",
            "Requirement already satisfied: fsspec in /usr/local/lib/python3.11/dist-packages (from torch>=1.3.0->stanza) (2025.3.2)\n",
            "Collecting nvidia-cuda-nvrtc-cu12==12.4.127 (from torch>=1.3.0->stanza)\n",
            "  Downloading nvidia_cuda_nvrtc_cu12-12.4.127-py3-none-manylinux2014_x86_64.whl.metadata (1.5 kB)\n",
            "Collecting nvidia-cuda-runtime-cu12==12.4.127 (from torch>=1.3.0->stanza)\n",
            "  Downloading nvidia_cuda_runtime_cu12-12.4.127-py3-none-manylinux2014_x86_64.whl.metadata (1.5 kB)\n",
            "Collecting nvidia-cuda-cupti-cu12==12.4.127 (from torch>=1.3.0->stanza)\n",
            "  Downloading nvidia_cuda_cupti_cu12-12.4.127-py3-none-manylinux2014_x86_64.whl.metadata (1.6 kB)\n",
            "Collecting nvidia-cudnn-cu12==9.1.0.70 (from torch>=1.3.0->stanza)\n",
            "  Downloading nvidia_cudnn_cu12-9.1.0.70-py3-none-manylinux2014_x86_64.whl.metadata (1.6 kB)\n",
            "Collecting nvidia-cublas-cu12==12.4.5.8 (from torch>=1.3.0->stanza)\n",
            "  Downloading nvidia_cublas_cu12-12.4.5.8-py3-none-manylinux2014_x86_64.whl.metadata (1.5 kB)\n",
            "Collecting nvidia-cufft-cu12==11.2.1.3 (from torch>=1.3.0->stanza)\n",
            "  Downloading nvidia_cufft_cu12-11.2.1.3-py3-none-manylinux2014_x86_64.whl.metadata (1.5 kB)\n",
            "Collecting nvidia-curand-cu12==10.3.5.147 (from torch>=1.3.0->stanza)\n",
            "  Downloading nvidia_curand_cu12-10.3.5.147-py3-none-manylinux2014_x86_64.whl.metadata (1.5 kB)\n",
            "Collecting nvidia-cusolver-cu12==11.6.1.9 (from torch>=1.3.0->stanza)\n",
            "  Downloading nvidia_cusolver_cu12-11.6.1.9-py3-none-manylinux2014_x86_64.whl.metadata (1.6 kB)\n",
            "Collecting nvidia-cusparse-cu12==12.3.1.170 (from torch>=1.3.0->stanza)\n",
            "  Downloading nvidia_cusparse_cu12-12.3.1.170-py3-none-manylinux2014_x86_64.whl.metadata (1.6 kB)\n",
            "Requirement already satisfied: nvidia-cusparselt-cu12==0.6.2 in /usr/local/lib/python3.11/dist-packages (from torch>=1.3.0->stanza) (0.6.2)\n",
            "Requirement already satisfied: nvidia-nccl-cu12==2.21.5 in /usr/local/lib/python3.11/dist-packages (from torch>=1.3.0->stanza) (2.21.5)\n",
            "Requirement already satisfied: nvidia-nvtx-cu12==12.4.127 in /usr/local/lib/python3.11/dist-packages (from torch>=1.3.0->stanza) (12.4.127)\n",
            "Collecting nvidia-nvjitlink-cu12==12.4.127 (from torch>=1.3.0->stanza)\n",
            "  Downloading nvidia_nvjitlink_cu12-12.4.127-py3-none-manylinux2014_x86_64.whl.metadata (1.5 kB)\n",
            "Requirement already satisfied: triton==3.2.0 in /usr/local/lib/python3.11/dist-packages (from torch>=1.3.0->stanza) (3.2.0)\n",
            "Requirement already satisfied: sympy==1.13.1 in /usr/local/lib/python3.11/dist-packages (from torch>=1.3.0->stanza) (1.13.1)\n",
            "Requirement already satisfied: mpmath<1.4,>=1.1.0 in /usr/local/lib/python3.11/dist-packages (from sympy==1.13.1->torch>=1.3.0->stanza) (1.3.0)\n",
            "Requirement already satisfied: charset-normalizer<4,>=2 in /usr/local/lib/python3.11/dist-packages (from requests->stanza) (3.4.2)\n",
            "Requirement already satisfied: idna<4,>=2.5 in /usr/local/lib/python3.11/dist-packages (from requests->stanza) (3.10)\n",
            "Requirement already satisfied: urllib3<3,>=1.21.1 in /usr/local/lib/python3.11/dist-packages (from requests->stanza) (2.4.0)\n",
            "Requirement already satisfied: certifi>=2017.4.17 in /usr/local/lib/python3.11/dist-packages (from requests->stanza) (2025.4.26)\n",
            "Requirement already satisfied: MarkupSafe>=2.0 in /usr/local/lib/python3.11/dist-packages (from jinja2->torch>=1.3.0->stanza) (3.0.2)\n",
            "Downloading stanza-1.10.1-py3-none-any.whl (1.1 MB)\n",
            "\u001b[2K   \u001b[90m━━━━━━━━━━━━━━━━━━━━━━━━━━━━━━━━━━━━━━━━\u001b[0m \u001b[32m1.1/1.1 MB\u001b[0m \u001b[31m23.5 MB/s\u001b[0m eta \u001b[36m0:00:00\u001b[0m\n",
            "\u001b[?25hDownloading nvidia_cublas_cu12-12.4.5.8-py3-none-manylinux2014_x86_64.whl (363.4 MB)\n",
            "\u001b[2K   \u001b[90m━━━━━━━━━━━━━━━━━━━━━━━━━━━━━━━━━━━━━━━━\u001b[0m \u001b[32m363.4/363.4 MB\u001b[0m \u001b[31m4.3 MB/s\u001b[0m eta \u001b[36m0:00:00\u001b[0m\n",
            "\u001b[?25hDownloading nvidia_cuda_cupti_cu12-12.4.127-py3-none-manylinux2014_x86_64.whl (13.8 MB)\n",
            "\u001b[2K   \u001b[90m━━━━━━━━━━━━━━━━━━━━━━━━━━━━━━━━━━━━━━━━\u001b[0m \u001b[32m13.8/13.8 MB\u001b[0m \u001b[31m24.0 MB/s\u001b[0m eta \u001b[36m0:00:00\u001b[0m\n",
            "\u001b[?25hDownloading nvidia_cuda_nvrtc_cu12-12.4.127-py3-none-manylinux2014_x86_64.whl (24.6 MB)\n",
            "\u001b[2K   \u001b[90m━━━━━━━━━━━━━━━━━━━━━━━━━━━━━━━━━━━━━━━━\u001b[0m \u001b[32m24.6/24.6 MB\u001b[0m \u001b[31m27.4 MB/s\u001b[0m eta \u001b[36m0:00:00\u001b[0m\n",
            "\u001b[?25hDownloading nvidia_cuda_runtime_cu12-12.4.127-py3-none-manylinux2014_x86_64.whl (883 kB)\n",
            "\u001b[2K   \u001b[90m━━━━━━━━━━━━━━━━━━━━━━━━━━━━━━━━━━━━━━━━\u001b[0m \u001b[32m883.7/883.7 kB\u001b[0m \u001b[31m19.0 MB/s\u001b[0m eta \u001b[36m0:00:00\u001b[0m\n",
            "\u001b[?25hDownloading nvidia_cudnn_cu12-9.1.0.70-py3-none-manylinux2014_x86_64.whl (664.8 MB)\n",
            "\u001b[2K   \u001b[90m━━━━━━━━━━━━━━━━━━━━━━━━━━━━━━━━━━━━━━━\u001b[0m \u001b[32m664.8/664.8 MB\u001b[0m \u001b[31m794.8 kB/s\u001b[0m eta \u001b[36m0:00:00\u001b[0m\n",
            "\u001b[?25hDownloading nvidia_cufft_cu12-11.2.1.3-py3-none-manylinux2014_x86_64.whl (211.5 MB)\n",
            "\u001b[2K   \u001b[90m━━━━━━━━━━━━━━━━━━━━━━━━━━━━━━━━━━━━━━━━\u001b[0m \u001b[32m211.5/211.5 MB\u001b[0m \u001b[31m4.6 MB/s\u001b[0m eta \u001b[36m0:00:00\u001b[0m\n",
            "\u001b[?25hDownloading nvidia_curand_cu12-10.3.5.147-py3-none-manylinux2014_x86_64.whl (56.3 MB)\n",
            "\u001b[2K   \u001b[90m━━━━━━━━━━━━━━━━━━━━━━━━━━━━━━━━━━━━━━━━\u001b[0m \u001b[32m56.3/56.3 MB\u001b[0m \u001b[31m9.8 MB/s\u001b[0m eta \u001b[36m0:00:00\u001b[0m\n",
            "\u001b[?25hDownloading nvidia_cusolver_cu12-11.6.1.9-py3-none-manylinux2014_x86_64.whl (127.9 MB)\n",
            "\u001b[2K   \u001b[90m━━━━━━━━━━━━━━━━━━━━━━━━━━━━━━━━━━━━━━━━\u001b[0m \u001b[32m127.9/127.9 MB\u001b[0m \u001b[31m7.9 MB/s\u001b[0m eta \u001b[36m0:00:00\u001b[0m\n",
            "\u001b[?25hDownloading nvidia_cusparse_cu12-12.3.1.170-py3-none-manylinux2014_x86_64.whl (207.5 MB)\n",
            "\u001b[2K   \u001b[90m━━━━━━━━━━━━━━━━━━━━━━━━━━━━━━━━━━━━━━━━\u001b[0m \u001b[32m207.5/207.5 MB\u001b[0m \u001b[31m4.8 MB/s\u001b[0m eta \u001b[36m0:00:00\u001b[0m\n",
            "\u001b[?25hDownloading nvidia_nvjitlink_cu12-12.4.127-py3-none-manylinux2014_x86_64.whl (21.1 MB)\n",
            "\u001b[2K   \u001b[90m━━━━━━━━━━━━━━━━━━━━━━━━━━━━━━━━━━━━━━━━\u001b[0m \u001b[32m21.1/21.1 MB\u001b[0m \u001b[31m70.0 MB/s\u001b[0m eta \u001b[36m0:00:00\u001b[0m\n",
            "\u001b[?25hDownloading emoji-2.14.1-py3-none-any.whl (590 kB)\n",
            "\u001b[2K   \u001b[90m━━━━━━━━━━━━━━━━━━━━━━━━━━━━━━━━━━━━━━━━\u001b[0m \u001b[32m590.6/590.6 kB\u001b[0m \u001b[31m30.0 MB/s\u001b[0m eta \u001b[36m0:00:00\u001b[0m\n",
            "\u001b[?25hInstalling collected packages: nvidia-nvjitlink-cu12, nvidia-curand-cu12, nvidia-cufft-cu12, nvidia-cuda-runtime-cu12, nvidia-cuda-nvrtc-cu12, nvidia-cuda-cupti-cu12, nvidia-cublas-cu12, emoji, nvidia-cusparse-cu12, nvidia-cudnn-cu12, nvidia-cusolver-cu12, stanza\n",
            "  Attempting uninstall: nvidia-nvjitlink-cu12\n",
            "    Found existing installation: nvidia-nvjitlink-cu12 12.5.82\n",
            "    Uninstalling nvidia-nvjitlink-cu12-12.5.82:\n",
            "      Successfully uninstalled nvidia-nvjitlink-cu12-12.5.82\n",
            "  Attempting uninstall: nvidia-curand-cu12\n",
            "    Found existing installation: nvidia-curand-cu12 10.3.6.82\n",
            "    Uninstalling nvidia-curand-cu12-10.3.6.82:\n",
            "      Successfully uninstalled nvidia-curand-cu12-10.3.6.82\n",
            "  Attempting uninstall: nvidia-cufft-cu12\n",
            "    Found existing installation: nvidia-cufft-cu12 11.2.3.61\n",
            "    Uninstalling nvidia-cufft-cu12-11.2.3.61:\n",
            "      Successfully uninstalled nvidia-cufft-cu12-11.2.3.61\n",
            "  Attempting uninstall: nvidia-cuda-runtime-cu12\n",
            "    Found existing installation: nvidia-cuda-runtime-cu12 12.5.82\n",
            "    Uninstalling nvidia-cuda-runtime-cu12-12.5.82:\n",
            "      Successfully uninstalled nvidia-cuda-runtime-cu12-12.5.82\n",
            "  Attempting uninstall: nvidia-cuda-nvrtc-cu12\n",
            "    Found existing installation: nvidia-cuda-nvrtc-cu12 12.5.82\n",
            "    Uninstalling nvidia-cuda-nvrtc-cu12-12.5.82:\n",
            "      Successfully uninstalled nvidia-cuda-nvrtc-cu12-12.5.82\n",
            "  Attempting uninstall: nvidia-cuda-cupti-cu12\n",
            "    Found existing installation: nvidia-cuda-cupti-cu12 12.5.82\n",
            "    Uninstalling nvidia-cuda-cupti-cu12-12.5.82:\n",
            "      Successfully uninstalled nvidia-cuda-cupti-cu12-12.5.82\n",
            "  Attempting uninstall: nvidia-cublas-cu12\n",
            "    Found existing installation: nvidia-cublas-cu12 12.5.3.2\n",
            "    Uninstalling nvidia-cublas-cu12-12.5.3.2:\n",
            "      Successfully uninstalled nvidia-cublas-cu12-12.5.3.2\n",
            "  Attempting uninstall: nvidia-cusparse-cu12\n",
            "    Found existing installation: nvidia-cusparse-cu12 12.5.1.3\n",
            "    Uninstalling nvidia-cusparse-cu12-12.5.1.3:\n",
            "      Successfully uninstalled nvidia-cusparse-cu12-12.5.1.3\n",
            "  Attempting uninstall: nvidia-cudnn-cu12\n",
            "    Found existing installation: nvidia-cudnn-cu12 9.3.0.75\n",
            "    Uninstalling nvidia-cudnn-cu12-9.3.0.75:\n",
            "      Successfully uninstalled nvidia-cudnn-cu12-9.3.0.75\n",
            "  Attempting uninstall: nvidia-cusolver-cu12\n",
            "    Found existing installation: nvidia-cusolver-cu12 11.6.3.83\n",
            "    Uninstalling nvidia-cusolver-cu12-11.6.3.83:\n",
            "      Successfully uninstalled nvidia-cusolver-cu12-11.6.3.83\n",
            "Successfully installed emoji-2.14.1 nvidia-cublas-cu12-12.4.5.8 nvidia-cuda-cupti-cu12-12.4.127 nvidia-cuda-nvrtc-cu12-12.4.127 nvidia-cuda-runtime-cu12-12.4.127 nvidia-cudnn-cu12-9.1.0.70 nvidia-cufft-cu12-11.2.1.3 nvidia-curand-cu12-10.3.5.147 nvidia-cusolver-cu12-11.6.1.9 nvidia-cusparse-cu12-12.3.1.170 nvidia-nvjitlink-cu12-12.4.127 stanza-1.10.1\n"
          ]
        }
      ]
    },
    {
      "cell_type": "code",
      "source": [
        "import stanza\n",
        "stanza.download(\"pl\", processors=\"tokenize,pos,lemma,depparse\", verbose=False)\n",
        "\n",
        "nlp = stanza.Pipeline(\n",
        "    lang=\"pl\",\n",
        "    processors=\"tokenize,pos,lemma,depparse\",\n",
        "    # Let Stanza decide sentences & tokens\n",
        "    verbose=False\n",
        ")"
      ],
      "metadata": {
        "id": "gPw5s9nTeEaQ"
      },
      "execution_count": 23,
      "outputs": []
    },
    {
      "cell_type": "code",
      "source": [
        "print(\"{:C}\".format(nlp(eg[\"pl_text\"])))"
      ],
      "metadata": {
        "colab": {
          "base_uri": "https://localhost:8080/"
        },
        "id": "V7003cgJeXzZ",
        "outputId": "4c55e896-a4d1-413c-fe11-2f3e682a8ad7"
      },
      "execution_count": 30,
      "outputs": [
        {
          "output_type": "stream",
          "name": "stdout",
          "text": [
            "# text = Przyszłość widzę w czarnych barwach.\n",
            "# sent_id = 0\n",
            "1\tPrzyszłość\tprzyszłość\tNOUN\tsubst:sg:nom:f\tCase=Acc|Gender=Fem|Number=Sing\t2\tnsubj\t_\tstart_char=0|end_char=10\n",
            "2\twidzę\twidzieć\tVERB\tfin:sg:pri:imperf\tAspect=Imp|Mood=Ind|Number=Sing|Person=1|Tense=Pres|VerbForm=Fin|Voice=Act\t0\troot\t_\tstart_char=11|end_char=16\n",
            "3\tw\tw\tADP\tprep:loc:nwok\tAdpType=Prep|Variant=Short\t5\tcase\t_\tstart_char=17|end_char=18\n",
            "4\tczarnych\tczarny\tADJ\tadj:pl:loc:f:pos\tCase=Loc|Degree=Pos|Gender=Fem|Number=Plur\t5\tamod\t_\tstart_char=19|end_char=27\n",
            "5\tbarwach\tbarwa\tNOUN\tsubst:pl:loc:f\tCase=Loc|Gender=Fem|Number=Plur\t2\tobl\t_\tstart_char=28|end_char=35|SpaceAfter=No\n",
            "6\t.\t.\tPUNCT\tinterp\tPunctType=Peri\t2\tpunct\t_\tstart_char=35|end_char=36|SpaceAfter=No\n"
          ]
        }
      ]
    }
  ]
}