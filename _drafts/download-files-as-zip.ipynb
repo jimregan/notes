{
 "cells": [
  {
   "cell_type": "code",
   "execution_count": 13,
   "metadata": {},
   "outputs": [],
   "source": [
    "from zipfile import ZipFile\n",
    "from pathlib import Path\n",
    "\n",
    "zipname = 'textgrid.zip'\n",
    "dirp = Path(\"/home/jim/Playing/snc-comparison/merged/\")\n",
    "filenames = dirp.glob('*.TextGrid')\n",
    "with ZipFile(zipname, 'w') as zipf:\n",
    "    for name in filenames:\n",
    "        zipf.write(name)"
   ]
  },
  {
   "cell_type": "code",
   "execution_count": 14,
   "metadata": {},
   "outputs": [
    {
     "data": {
      "text/html": [
       "<a href='textgrid.zip' target='_blank'>textgrid.zip</a><br>"
      ],
      "text/plain": [
       "/media/storage/jim/Playing/notes/_drafts/textgrid.zip"
      ]
     },
     "metadata": {},
     "output_type": "display_data"
    }
   ],
   "source": [
    "from IPython.display import FileLink\n",
    "display(FileLink('textgrid.zip'))"
   ]
  }
 ],
 "metadata": {
  "kernelspec": {
   "display_name": "Python 3",
   "language": "python",
   "name": "python3"
  },
  "language_info": {
   "codemirror_mode": {
    "name": "ipython",
    "version": 3
   },
   "file_extension": ".py",
   "mimetype": "text/x-python",
   "name": "python",
   "nbconvert_exporter": "python",
   "pygments_lexer": "ipython3",
   "version": "3.6.9"
  }
 },
 "nbformat": 4,
 "nbformat_minor": 2
}
