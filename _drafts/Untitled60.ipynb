{
  "nbformat": 4,
  "nbformat_minor": 0,
  "metadata": {
    "colab": {
      "provenance": []
    },
    "kernelspec": {
      "name": "python3",
      "display_name": "Python 3"
    },
    "language_info": {
      "name": "python"
    }
  },
  "cells": [
    {
      "cell_type": "code",
      "execution_count": null,
      "metadata": {
        "id": "be8-0VuW3cwN"
      },
      "outputs": [],
      "source": [
        "!pip install huspacy"
      ]
    },
    {
      "cell_type": "code",
      "source": [
        "import huspacy\n",
        "\n",
        "huspacy.download()"
      ],
      "metadata": {
        "colab": {
          "base_uri": "https://localhost:8080/"
        },
        "id": "hjdpC7TI3elQ",
        "outputId": "48060ee8-d401-46e8-dd67-0ac967982607"
      },
      "execution_count": 1,
      "outputs": [
        {
          "output_type": "stream",
          "name": "stdout",
          "text": [
            "['/usr/bin/python3', '-m', 'pip', 'install', 'hu_core_news_lg @ https://huggingface.co/huspacy/hu_core_news_lg/resolve/v3.8.0/hu_core_news_lg-any-py3-none-any.whl']\n"
          ]
        }
      ]
    },
    {
      "cell_type": "code",
      "source": [
        "nlp = huspacy.load()"
      ],
      "metadata": {
        "id": "LMrUhWjo3q-z"
      },
      "execution_count": 18,
      "outputs": []
    },
    {
      "cell_type": "code",
      "source": [
        "nlp.config"
      ],
      "metadata": {
        "colab": {
          "base_uri": "https://localhost:8080/"
        },
        "id": "aMxnywGV6P4j",
        "outputId": "ef88e5fd-39ae-445c-a6e0-50200963b75e"
      },
      "execution_count": 22,
      "outputs": [
        {
          "output_type": "execute_result",
          "data": {
            "text/plain": [
              "{'paths': {'parser_model': 'models/hu_core_news_lg-parser-3.8.0/model-best',\n",
              "  'ner_model': 'models/hu_core_news_lg-ner-3.8.0/model-best',\n",
              "  'lemmatizer_lookups': 'models/hu_core_news_lg-lookup-lemmatizer-3.8.0',\n",
              "  'tagger_model': 'models/hu_core_news_lg-tagger-3.8.0/model-best',\n",
              "  'train': None,\n",
              "  'dev': None,\n",
              "  'vectors': None,\n",
              "  'init_tok2vec': None},\n",
              " 'system': {'seed': 0, 'gpu_allocator': None},\n",
              " 'nlp': {'lang': 'hu',\n",
              "  'pipeline': ['tok2vec',\n",
              "   'senter',\n",
              "   'tagger',\n",
              "   'morphologizer',\n",
              "   'lookup_lemmatizer',\n",
              "   'trainable_lemmatizer',\n",
              "   'parser',\n",
              "   'ner'],\n",
              "  'tokenizer': {'@tokenizers': 'spacy.Tokenizer.v1'},\n",
              "  'disabled': [],\n",
              "  'before_creation': None,\n",
              "  'after_creation': None,\n",
              "  'after_pipeline_creation': None,\n",
              "  'batch_size': 1000,\n",
              "  'vectors': {'@vectors': 'spacy.Vectors.v1'}},\n",
              " 'components': {'tok2vec': {'factory': 'tok2vec',\n",
              "   'model': {'@architectures': 'spacy.Tok2Vec.v2',\n",
              "    'embed': {'@architectures': 'spacy.MultiHashEmbed.v2',\n",
              "     'width': 300,\n",
              "     'attrs': ['LOWER', 'PREFIX', 'SUFFIX', 'SHAPE'],\n",
              "     'rows': [5000, 2500, 2500, 2500],\n",
              "     'include_static_vectors': True},\n",
              "    'encode': {'@architectures': 'spacy.MaxoutWindowEncoder.v2',\n",
              "     'width': 300,\n",
              "     'depth': 4,\n",
              "     'window_size': 2,\n",
              "     'maxout_pieces': 5}}},\n",
              "  'senter': {'factory': 'senter',\n",
              "   'model': {'@architectures': 'spacy.Tagger.v1',\n",
              "    'nO': None,\n",
              "    'tok2vec': {'@architectures': 'spacy.Tok2VecListener.v1',\n",
              "     'width': 300,\n",
              "     'upstream': '*'}},\n",
              "   'overwrite': False,\n",
              "   'scorer': {'@scorers': 'spacy.senter_scorer.v1'}},\n",
              "  'tagger': {'factory': 'tagger',\n",
              "   'label_smoothing': 0.0,\n",
              "   'model': {'@architectures': 'spacy.Tagger.v1',\n",
              "    'nO': None,\n",
              "    'tok2vec': {'@architectures': 'spacy.Tok2VecListener.v1',\n",
              "     'width': 300,\n",
              "     'upstream': '*'}},\n",
              "   'neg_prefix': '!',\n",
              "   'overwrite': False,\n",
              "   'scorer': {'@scorers': 'spacy.tagger_scorer.v1'}},\n",
              "  'morphologizer': {'factory': 'morphologizer',\n",
              "   'extend': False,\n",
              "   'label_smoothing': 0.0,\n",
              "   'model': {'@architectures': 'spacy.Tagger.v1',\n",
              "    'nO': None,\n",
              "    'tok2vec': {'@architectures': 'spacy.Tok2VecListener.v1',\n",
              "     'width': 300,\n",
              "     'upstream': '*'}},\n",
              "   'overwrite': True,\n",
              "   'scorer': {'@scorers': 'spacy.morphologizer_scorer.v1'}},\n",
              "  'lookup_lemmatizer': {'factory': 'hu.lookup_lemmatizer',\n",
              "   'scorer': {'@scorers': 'spacy.lemmatizer_scorer.v1'},\n",
              "   'source': '${paths.lemmatizer_lookups}'},\n",
              "  'trainable_lemmatizer': {'factory': 'trainable_lemmatizer_v2',\n",
              "   'backoff': 'orth',\n",
              "   'min_tree_freq': 1,\n",
              "   'model': {'@architectures': 'spacy.Tagger.v1',\n",
              "    'nO': None,\n",
              "    'tok2vec': {'@architectures': 'spacy.Tok2Vec.v2',\n",
              "     'embed': {'@architectures': 'spacy.MultiHashEmbed.v2',\n",
              "      'width': 300,\n",
              "      'attrs': ['LOWER', 'PREFIX', 'SUFFIX', 'SHAPE'],\n",
              "      'rows': [5000, 2500, 2500, 2500],\n",
              "      'include_static_vectors': True},\n",
              "     'encode': {'@architectures': 'spacy.MaxoutWindowEncoder.v2',\n",
              "      'width': 300,\n",
              "      'depth': 4,\n",
              "      'window_size': 2,\n",
              "      'maxout_pieces': 5}}},\n",
              "   'overwrite': False,\n",
              "   'overwrite_labels': True,\n",
              "   'scorer': {'@scorers': 'spacy.lemmatizer_scorer.v1'},\n",
              "   'top_k': 3},\n",
              "  'parser': {'factory': 'parser',\n",
              "   'learn_tokens': False,\n",
              "   'min_action_freq': 5,\n",
              "   'model': {'@architectures': 'spacy.TransitionBasedParser.v2',\n",
              "    'state_type': 'parser',\n",
              "    'extra_state_tokens': False,\n",
              "    'hidden_width': 512,\n",
              "    'maxout_pieces': 3,\n",
              "    'use_upper': True,\n",
              "    'nO': None,\n",
              "    'tok2vec': {'@architectures': 'spacy.Tok2VecListener.v1',\n",
              "     'width': 300,\n",
              "     'upstream': '*'}},\n",
              "   'moves': None,\n",
              "   'scorer': {'@scorers': 'spacy.parser_scorer.v1'},\n",
              "   'update_with_oracle_cut_size': 100},\n",
              "  'ner': {'factory': 'beam_ner',\n",
              "   'beam_density': 0.01,\n",
              "   'beam_update_prob': 1,\n",
              "   'beam_width': 32,\n",
              "   'incorrect_spans_key': None,\n",
              "   'model': {'@architectures': 'spacy.TransitionBasedParser.v2',\n",
              "    'state_type': 'ner',\n",
              "    'extra_state_tokens': False,\n",
              "    'hidden_width': 64,\n",
              "    'maxout_pieces': 2,\n",
              "    'use_upper': True,\n",
              "    'nO': None,\n",
              "    'tok2vec': {'@architectures': 'spacy.Tok2Vec.v2',\n",
              "     'embed': {'@architectures': 'spacy.MultiHashEmbed.v2',\n",
              "      'width': 300,\n",
              "      'attrs': ['LOWER', 'PREFIX', 'SUFFIX', 'SHAPE'],\n",
              "      'rows': [5000, 2500, 2500, 2500],\n",
              "      'include_static_vectors': True},\n",
              "     'encode': {'@architectures': 'spacy.MaxoutWindowEncoder.v2',\n",
              "      'width': 300,\n",
              "      'depth': 4,\n",
              "      'window_size': 2,\n",
              "      'maxout_pieces': 5}}},\n",
              "   'moves': None,\n",
              "   'scorer': {'@scorers': 'spacy.ner_scorer.v1'},\n",
              "   'update_with_oracle_cut_size': 100}},\n",
              " 'corpora': {'dev': {'@readers': 'spacy.Corpus.v1',\n",
              "   'path': '${paths.dev}',\n",
              "   'gold_preproc': False,\n",
              "   'max_length': 0,\n",
              "   'limit': 0,\n",
              "   'augmenter': None},\n",
              "  'train': {'@readers': 'spacy.Corpus.v1',\n",
              "   'path': '${paths.train}',\n",
              "   'gold_preproc': False,\n",
              "   'max_length': 0,\n",
              "   'limit': 0,\n",
              "   'augmenter': None}},\n",
              " 'training': {'seed': '${system.seed}',\n",
              "  'gpu_allocator': '${system.gpu_allocator}',\n",
              "  'dropout': 0.1,\n",
              "  'accumulate_gradient': 1,\n",
              "  'patience': 1600,\n",
              "  'max_epochs': 0,\n",
              "  'max_steps': 20000,\n",
              "  'eval_frequency': 200,\n",
              "  'frozen_components': [],\n",
              "  'annotating_components': [],\n",
              "  'dev_corpus': 'corpora.dev',\n",
              "  'train_corpus': 'corpora.train',\n",
              "  'before_to_disk': None,\n",
              "  'before_update': None,\n",
              "  'batcher': {'@batchers': 'spacy.batch_by_words.v1',\n",
              "   'discard_oversize': False,\n",
              "   'tolerance': 0.2,\n",
              "   'get_length': None,\n",
              "   'size': {'@schedules': 'compounding.v1',\n",
              "    'start': 100,\n",
              "    'stop': 1000,\n",
              "    'compound': 1.001,\n",
              "    't': 0.0}},\n",
              "  'logger': {'@loggers': 'spacy.ConsoleLogger.v1', 'progress_bar': False},\n",
              "  'optimizer': {'@optimizers': 'Adam.v1',\n",
              "   'beta1': 0.9,\n",
              "   'beta2': 0.999,\n",
              "   'L2_is_weight_decay': True,\n",
              "   'L2': 0.01,\n",
              "   'grad_clip': 1.0,\n",
              "   'use_averages': False,\n",
              "   'eps': 1e-08,\n",
              "   'learn_rate': 0.001},\n",
              "  'score_weights': {'sents_f': 0.0,\n",
              "   'sents_p': None,\n",
              "   'sents_r': None,\n",
              "   'tag_acc': 0.2,\n",
              "   'pos_acc': 0.1,\n",
              "   'tag_micro_p': None,\n",
              "   'tag_micro_r': None,\n",
              "   'tag_micro_f': None,\n",
              "   'morph_acc': 0.1,\n",
              "   'morph_per_feat': None,\n",
              "   'lemma_acc': 0.2,\n",
              "   'dep_uas': 0.1,\n",
              "   'dep_las': 0.1,\n",
              "   'dep_las_per_type': None,\n",
              "   'ents_f': 0.2,\n",
              "   'ents_p': 0.0,\n",
              "   'ents_r': 0.0,\n",
              "   'ents_per_type': None}},\n",
              " 'pretraining': {},\n",
              " 'initialize': {'vectors': '${paths.parser_model}',\n",
              "  'init_tok2vec': '${paths.init_tok2vec}',\n",
              "  'vocab_data': None,\n",
              "  'lookups': None,\n",
              "  'before_init': None,\n",
              "  'after_init': None,\n",
              "  'components': {},\n",
              "  'tokenizer': {}}}"
            ]
          },
          "metadata": {},
          "execution_count": 22
        }
      ]
    },
    {
      "cell_type": "code",
      "source": [
        "doc = nlp(\"Csiribiri csiribiri zabszalma - négy csillag közt alszom ma.\")"
      ],
      "metadata": {
        "id": "tN4WE8U13tju"
      },
      "execution_count": 19,
      "outputs": []
    },
    {
      "cell_type": "code",
      "source": [
        "doc"
      ],
      "metadata": {
        "colab": {
          "base_uri": "https://localhost:8080/"
        },
        "id": "CMFAnpgB3xMs",
        "outputId": "23f11585-f882-4098-b27e-14fa4e92c022"
      },
      "execution_count": 20,
      "outputs": [
        {
          "output_type": "execute_result",
          "data": {
            "text/plain": [
              "Csiribiri csiribiri zabszalma - négy csillag közt alszom ma."
            ]
          },
          "metadata": {},
          "execution_count": 20
        }
      ]
    },
    {
      "cell_type": "code",
      "source": [
        "!pip install spacy-conll"
      ],
      "metadata": {
        "id": "Vu606ZMf37JH"
      },
      "execution_count": null,
      "outputs": []
    },
    {
      "cell_type": "code",
      "source": [
        "from spacy_conll import init_parser\n"
      ],
      "metadata": {
        "id": "bu86-edl35Rc"
      },
      "execution_count": 7,
      "outputs": []
    },
    {
      "cell_type": "code",
      "source": [
        "!pip install spacy_stanza"
      ],
      "metadata": {
        "id": "V240qS-94YKU"
      },
      "execution_count": null,
      "outputs": []
    },
    {
      "cell_type": "code",
      "source": [
        "doc._.__dict__"
      ],
      "metadata": {
        "colab": {
          "base_uri": "https://localhost:8080/"
        },
        "id": "yPBIHJyH5O9Q",
        "outputId": "8a7673fa-aae6-45e0-f289-b92f9ded7775"
      },
      "execution_count": 21,
      "outputs": [
        {
          "output_type": "execute_result",
          "data": {
            "text/plain": [
              "{'_extensions': {},\n",
              " '_obj': Csiribiri csiribiri zabszalma - négy csillag közt alszom ma.,\n",
              " '_doc': Csiribiri csiribiri zabszalma - négy csillag közt alszom ma.,\n",
              " '_start': None,\n",
              " '_end': None}"
            ]
          },
          "metadata": {},
          "execution_count": 21
        }
      ]
    }
  ]
}