{
 "cells": [
  {
   "cell_type": "code",
   "execution_count": 1,
   "metadata": {},
   "outputs": [],
   "source": [
    "import json\n",
    "from pathlib import Path\n",
    "_API_DIR = Path(\"/Users/joregan/riksdag/riksdag-api-out\")"
   ]
  },
  {
   "cell_type": "code",
   "execution_count": 2,
   "metadata": {},
   "outputs": [],
   "source": [
    "def endswith_list(text, items):\n",
    "    for it in items:\n",
    "        if text.endswith(it):\n",
    "            return True\n",
    "    return False"
   ]
  },
  {
   "cell_type": "code",
   "execution_count": 3,
   "metadata": {},
   "outputs": [],
   "source": [
    "def viddata_get_single_stream(videodata, hires=True):\n",
    "    videos = []\n",
    "    if videodata is None:\n",
    "        return []\n",
    "    if 'streams' not in videodata:\n",
    "        #raise Exception(\"videodata is missing 'streams'\")\n",
    "        return []\n",
    "    if videodata['streams'] is None:\n",
    "        return []\n",
    "    if 'files' not in videodata['streams']:\n",
    "        #raise Exception(\"videodata['streams'] is missing 'files'\")\n",
    "        return []\n",
    "    if type(videodata['streams']['files']) == list:\n",
    "        for vfile in videodata['streams']['files']:\n",
    "            for bw in vfile['bandwidth']:\n",
    "                if hires and bw['name'] == 'Hög kvalitet':\n",
    "                    videos.append(bw['downloadurl'])\n",
    "                elif not hires and bw['name'] == 'Låg kvalitet':\n",
    "                    videos.append(bw['downloadurl'])\n",
    "    else:\n",
    "        #raise Exception(f\"Expected a list, got {type(videodata['streams']['files'])}\")\n",
    "        return []\n",
    "    return videos\n",
    "\n",
    "def viddata_get_streams(videodata, hires=True):\n",
    "    output = []\n",
    "    if 'videodata' not in videodata:\n",
    "        #raise Exception(\"'videodata' missing\")\n",
    "        return []\n",
    "    for vdata in videodata['videodata']:\n",
    "        output += viddata_get_single_stream(vdata, hires)\n",
    "    return output\n",
    "\n",
    "def viddata_from_file(videofile, hires=True):\n",
    "    with open(videofile) as jsonf:\n",
    "        data = json.load(jsonf)\n",
    "        return viddata_get_streams(data, hires)"
   ]
  },
  {
   "cell_type": "code",
   "execution_count": 4,
   "metadata": {},
   "outputs": [],
   "source": [
    "def json_matches_years(filename, years):\n",
    "    ret_val = False\n",
    "    with open(filename) as f:\n",
    "        data = json.load(f)\n",
    "        if not \"videodata\" in data:\n",
    "            #raise Exception(f\"File {filename} missing key 'videodata'\")\n",
    "            return False\n",
    "        videodata = data[\"videodata\"]\n",
    "        if videodata is None:\n",
    "            print(f\"Empty videodata: {filename}\")\n",
    "            return False\n",
    "        for vdata in videodata:\n",
    "            if vdata is None:\n",
    "                print(f\"Empty videodata: {filename}\")\n",
    "                return False\n",
    "            if \"debatedate\" in vdata and vdata[\"debatedate\"] is not None and vdata[\"debatedate\"] != \"\":\n",
    "                date = vdata[\"debatedate\"]\n",
    "                if endswith_list(date.strip(), years):\n",
    "                    return True\n",
    "    return False"
   ]
  },
  {
   "cell_type": "code",
   "execution_count": 35,
   "metadata": {},
   "outputs": [
    {
     "name": "stdout",
     "output_type": "stream",
     "text": [
      "Empty videodata: /Users/joregan/riksdag/riksdag-api-out/H8C120210621zz\n"
     ]
    }
   ],
   "source": [
    "matches = []\n",
    "for file in _API_DIR.glob(\"H*\"):\n",
    "    if json_matches_years(file, [\"2017\", \"2018\"]):\n",
    "        matches.append(str(file))"
   ]
  },
  {
   "cell_type": "code",
   "execution_count": 37,
   "metadata": {},
   "outputs": [],
   "source": [
    "with open(\"2017-2018.txt\", \"w\") as outf:\n",
    "    for m in matches:\n",
    "        outf.write(m + \"\\n\")"
   ]
  },
  {
   "cell_type": "code",
   "execution_count": 7,
   "metadata": {},
   "outputs": [
    {
     "name": "stdout",
     "output_type": "stream",
     "text": [
      "Empty videodata: /Users/joregan/riksdag/riksdag-api-out/H8C120210621zz\n"
     ]
    }
   ],
   "source": [
    "with open(\"2017-2018-videos.txt\", \"w\") as outf:\n",
    "    for file in _API_DIR.glob(\"H*\"):\n",
    "        if json_matches_years(file, [\"2017\", \"2018\"]):\n",
    "            videos = viddata_from_file(file)\n",
    "            vidsout = \"\\t\".join(videos)\n",
    "            outf.write(f\"{file.stem}\\t{vidsout}\\n\")"
   ]
  },
  {
   "cell_type": "code",
   "execution_count": 36,
   "metadata": {},
   "outputs": [],
   "source": [
    "def get_speaker_data(data):\n",
    "    output = []\n",
    "    if not \"videodata\" in data or data[\"videodata\"] is None:\n",
    "        #raise Exception(f\"File {filename} missing key 'videodata'\")\n",
    "        return []\n",
    "    for vdata in data[\"videodata\"]:\n",
    "        if vdata is not None and \"speakers\" in vdata and vdata[\"speakers\"] is not None:\n",
    "            for speaker in vdata[\"speakers\"]:\n",
    "                output.append(speaker)\n",
    "    return output"
   ]
  },
  {
   "cell_type": "code",
   "execution_count": 10,
   "metadata": {},
   "outputs": [],
   "source": [
    "with open(\"/Users/joregan/riksdag/riksdag-api-out/H501CU20\") as inp:\n",
    "    vdata = json.load(inp)\n",
    "    speakers = get_speaker_data(vdata)\n",
    "sample_speech = speakers[0][\"anftext\"]"
   ]
  },
  {
   "cell_type": "code",
   "execution_count": 12,
   "metadata": {},
   "outputs": [],
   "source": [
    "from bs4 import BeautifulSoup\n"
   ]
  },
  {
   "cell_type": "code",
   "execution_count": null,
   "metadata": {},
   "outputs": [],
   "source": [
    "!pip install mosestokenizer"
   ]
  },
  {
   "cell_type": "code",
   "execution_count": 19,
   "metadata": {},
   "outputs": [
    {
     "name": "stderr",
     "output_type": "stream",
     "text": [
      "stdbuf was not found; communication with perl may hang due to stdio buffering.\n"
     ]
    }
   ],
   "source": [
    "from mosestokenizer import MosesSentenceSplitter\n",
    "splitter = MosesSentenceSplitter(\"sv\")\n"
   ]
  },
  {
   "cell_type": "code",
   "execution_count": 29,
   "metadata": {},
   "outputs": [],
   "source": [
    "def split_text(sample_speech, by_paras=False):\n",
    "    soup = BeautifulSoup(sample_speech, 'html.parser')\n",
    "\n",
    "    paras = []\n",
    "    for para in soup.findAll(\"p\"):\n",
    "        if not para.text.strip().startswith(\"STYLEREF Kantrubrik\"):\n",
    "            paras.append(para.text.strip())\n",
    "\n",
    "    splitparas = [splitter([p]) for p in paras if p.strip() != \"\"]\n",
    "    if by_paras:\n",
    "        return splitparas\n",
    "    else:\n",
    "        flattened = [sent for sents in splitparas for sent in sents]\n",
    "        return flattened\n"
   ]
  },
  {
   "cell_type": "code",
   "execution_count": 30,
   "metadata": {},
   "outputs": [
    {
     "name": "stdout",
     "output_type": "stream",
     "text": [
      "Empty videodata: /Users/joregan/riksdag/riksdag-api-out/H8C120210621zz\n"
     ]
    }
   ],
   "source": [
    "with open(\"2017-2018-text.txt\", \"w\") as outf:\n",
    "    for file in _API_DIR.glob(\"H*\"):\n",
    "        if json_matches_years(file, [\"2017\", \"2018\"]):\n",
    "            with open(file) as inp:\n",
    "                vdata = json.load(inp)\n",
    "                speakers = get_speaker_data(vdata)\n",
    "                for speaker in speakers:\n",
    "                    if \"anftext\" in speaker:\n",
    "                        text = split_text(speaker[\"anftext\"])\n",
    "                        for line in text:\n",
    "                            outf.write(line + \"\\n\")"
   ]
  },
  {
   "cell_type": "code",
   "execution_count": 37,
   "metadata": {},
   "outputs": [],
   "source": [
    "with open(\"all-text.txt\", \"w\") as outf:\n",
    "    for file in _API_DIR.glob(\"H*\"):\n",
    "        with open(file) as inp:\n",
    "            vdata = json.load(inp)\n",
    "            speakers = get_speaker_data(vdata)\n",
    "            for speaker in speakers:\n",
    "                if \"anftext\" in speaker:\n",
    "                    text = split_text(speaker[\"anftext\"])\n",
    "                    for line in text:\n",
    "                        outf.write(line + \"\\n\")"
   ]
  }
 ],
 "metadata": {
  "interpreter": {
   "hash": "2603f07046c437130ee32ef9381ac7221f7902403001eace09f7e749adb599f7"
  },
  "kernelspec": {
   "display_name": "Python 3.9.7 ('base')",
   "language": "python",
   "name": "python3"
  },
  "language_info": {
   "codemirror_mode": {
    "name": "ipython",
    "version": 3
   },
   "file_extension": ".py",
   "mimetype": "text/x-python",
   "name": "python",
   "nbconvert_exporter": "python",
   "pygments_lexer": "ipython3",
   "version": "3.9.7"
  },
  "orig_nbformat": 4
 },
 "nbformat": 4,
 "nbformat_minor": 2
}
