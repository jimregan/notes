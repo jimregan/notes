{
 "cells": [
  {
   "cell_type": "code",
   "execution_count": 1,
   "metadata": {},
   "outputs": [],
   "source": [
    "from pathlib import Path\n",
    "_API_DIR = Path(\"/Users/joregan/riksdag/riksdag-api-out\")"
   ]
  },
  {
   "cell_type": "code",
   "execution_count": 2,
   "metadata": {},
   "outputs": [
    {
     "name": "stdout",
     "output_type": "stream",
     "text": [
      "/Users/joregan/riksdag/riksdag-api-out/H9C420210914zz2\n",
      "/Users/joregan/riksdag/riksdag-api-out/H9C420210916se1\n"
     ]
    }
   ],
   "source": [
    "for file in _API_DIR.glob(\"H9C42021091*\"):\n",
    "    print(file)\n"
   ]
  },
  {
   "cell_type": "code",
   "execution_count": 12,
   "metadata": {},
   "outputs": [],
   "source": [
    "def endswith_list(text, items):\n",
    "    for it in items:\n",
    "        if text.endswith(it):\n",
    "            return True\n",
    "    return False"
   ]
  },
  {
   "cell_type": "code",
   "execution_count": 16,
   "metadata": {},
   "outputs": [
    {
     "data": {
      "text/plain": [
       "False"
      ]
     },
     "execution_count": 16,
     "metadata": {},
     "output_type": "execute_result"
    }
   ],
   "source": [
    "import json\n",
    "def json_matches_years(filename, years):\n",
    "    ret_val = False\n",
    "    with open(filename) as f:\n",
    "        data = json.load(f)\n",
    "        if not \"videodata\" in data:\n",
    "            raise Exception(f\"File {filename} missing key 'videodata'\")\n",
    "        videodata = data[\"videodata\"]\n",
    "        for vdata in videodata:\n",
    "            if \"debatedate\" in vdata:\n",
    "                date = vdata[\"debatedate\"]\n",
    "                if endswith_list(date.strip(), years):\n",
    "                    return True\n",
    "    return False\n",
    "                \n",
    "json_matches_years(\"/Users/joregan/riksdag/riksdag-api-out/H9C420210914zz2\", [\"2017\", \"2018\"])"
   ]
  },
  {
   "cell_type": "code",
   "execution_count": 15,
   "metadata": {},
   "outputs": [
    {
     "name": "stdout",
     "output_type": "stream",
     "text": [
      "None\n"
     ]
    }
   ],
   "source": [
    "print(f)"
   ]
  }
 ],
 "metadata": {
  "interpreter": {
   "hash": "2603f07046c437130ee32ef9381ac7221f7902403001eace09f7e749adb599f7"
  },
  "kernelspec": {
   "display_name": "Python 3.9.7 ('base')",
   "language": "python",
   "name": "python3"
  },
  "language_info": {
   "codemirror_mode": {
    "name": "ipython",
    "version": 3
   },
   "file_extension": ".py",
   "mimetype": "text/x-python",
   "name": "python",
   "nbconvert_exporter": "python",
   "pygments_lexer": "ipython3",
   "version": "3.9.7"
  },
  "orig_nbformat": 4
 },
 "nbformat": 4,
 "nbformat_minor": 2
}
