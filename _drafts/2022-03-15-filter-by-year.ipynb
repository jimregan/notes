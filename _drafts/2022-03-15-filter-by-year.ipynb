{
 "cells": [
  {
   "cell_type": "code",
   "execution_count": 1,
   "metadata": {},
   "outputs": [],
   "source": [
    "import json\n",
    "from pathlib import Path\n",
    "_API_DIR = Path(\"/Users/joregan/riksdag/riksdag-api-out\")"
   ]
  },
  {
   "cell_type": "code",
   "execution_count": 2,
   "metadata": {},
   "outputs": [],
   "source": [
    "def endswith_list(text, items):\n",
    "    for it in items:\n",
    "        if text.endswith(it):\n",
    "            return True\n",
    "    return False"
   ]
  },
  {
   "cell_type": "code",
   "execution_count": 3,
   "metadata": {},
   "outputs": [],
   "source": [
    "def viddata_get_single_stream(videodata, hires=True):\n",
    "    videos = []\n",
    "    if videodata is None:\n",
    "        return []\n",
    "    if 'streams' not in videodata:\n",
    "        #raise Exception(\"videodata is missing 'streams'\")\n",
    "        return []\n",
    "    if videodata['streams'] is None:\n",
    "        return []\n",
    "    if 'files' not in videodata['streams']:\n",
    "        #raise Exception(\"videodata['streams'] is missing 'files'\")\n",
    "        return []\n",
    "    if type(videodata['streams']['files']) == list:\n",
    "        for vfile in videodata['streams']['files']:\n",
    "            for bw in vfile['bandwidth']:\n",
    "                if hires and bw['name'] == 'Hög kvalitet':\n",
    "                    videos.append(bw['downloadurl'])\n",
    "                elif not hires and bw['name'] == 'Låg kvalitet':\n",
    "                    videos.append(bw['downloadurl'])\n",
    "    else:\n",
    "        #raise Exception(f\"Expected a list, got {type(videodata['streams']['files'])}\")\n",
    "        return []\n",
    "    return videos\n",
    "\n",
    "def viddata_get_streams(videodata, hires=True):\n",
    "    output = []\n",
    "    if 'videodata' not in videodata:\n",
    "        #raise Exception(\"'videodata' missing\")\n",
    "        return []\n",
    "    for vdata in videodata['videodata']:\n",
    "        output += viddata_get_single_stream(vdata, hires)\n",
    "    return output\n",
    "\n",
    "def viddata_from_file(videofile, hires=True):\n",
    "    with open(videofile) as jsonf:\n",
    "        data = json.load(jsonf)\n",
    "        return viddata_get_streams(data, hires)"
   ]
  },
  {
   "cell_type": "code",
   "execution_count": 4,
   "metadata": {},
   "outputs": [],
   "source": [
    "def json_matches_years(filename, years):\n",
    "    ret_val = False\n",
    "    with open(filename) as f:\n",
    "        data = json.load(f)\n",
    "        if not \"videodata\" in data:\n",
    "            #raise Exception(f\"File {filename} missing key 'videodata'\")\n",
    "            return False\n",
    "        videodata = data[\"videodata\"]\n",
    "        if videodata is None:\n",
    "            print(f\"Empty videodata: {filename}\")\n",
    "            return False\n",
    "        for vdata in videodata:\n",
    "            if vdata is None:\n",
    "                print(f\"Empty videodata: {filename}\")\n",
    "                return False\n",
    "            if \"debatedate\" in vdata and vdata[\"debatedate\"] is not None and vdata[\"debatedate\"] != \"\":\n",
    "                date = vdata[\"debatedate\"]\n",
    "                if endswith_list(date.strip(), years):\n",
    "                    return True\n",
    "    return False"
   ]
  },
  {
   "cell_type": "code",
   "execution_count": 35,
   "metadata": {},
   "outputs": [
    {
     "name": "stdout",
     "output_type": "stream",
     "text": [
      "Empty videodata: /Users/joregan/riksdag/riksdag-api-out/H8C120210621zz\n"
     ]
    }
   ],
   "source": [
    "matches = []\n",
    "for file in _API_DIR.glob(\"H*\"):\n",
    "    if json_matches_years(file, [\"2017\", \"2018\"]):\n",
    "        matches.append(str(file))"
   ]
  },
  {
   "cell_type": "code",
   "execution_count": 37,
   "metadata": {},
   "outputs": [],
   "source": [
    "with open(\"2017-2018.txt\", \"w\") as outf:\n",
    "    for m in matches:\n",
    "        outf.write(m + \"\\n\")"
   ]
  },
  {
   "cell_type": "code",
   "execution_count": 7,
   "metadata": {},
   "outputs": [
    {
     "name": "stdout",
     "output_type": "stream",
     "text": [
      "Empty videodata: /Users/joregan/riksdag/riksdag-api-out/H8C120210621zz\n"
     ]
    }
   ],
   "source": [
    "with open(\"2017-2018-videos.txt\", \"w\") as outf:\n",
    "    for file in _API_DIR.glob(\"H*\"):\n",
    "        if json_matches_years(file, [\"2017\", \"2018\"]):\n",
    "            videos = viddata_from_file(file)\n",
    "            vidsout = \"\\t\".join(videos)\n",
    "            outf.write(f\"{file.stem}\\t{vidsout}\\n\")"
   ]
  },
  {
   "cell_type": "code",
   "execution_count": 8,
   "metadata": {},
   "outputs": [],
   "source": [
    "def get_speaker_data(data):\n",
    "    output = []\n",
    "    if not \"videodata\" in data:\n",
    "        #raise Exception(f\"File {filename} missing key 'videodata'\")\n",
    "        return []\n",
    "    for vdata in data[\"videodata\"]:\n",
    "        if \"speakers\" in vdata:\n",
    "            for speaker in vdata[\"speakers\"]:\n",
    "                output.append(speaker)\n",
    "    return output"
   ]
  },
  {
   "cell_type": "code",
   "execution_count": 9,
   "metadata": {},
   "outputs": [
    {
     "data": {
      "text/plain": [
       "[{'start': 25,\n",
       "  'duration': 271,\n",
       "  'text': 'Caroline Szyber (KD)',\n",
       "  'party': 'KD',\n",
       "  'subid': '1100180502423323222',\n",
       "  'active': False,\n",
       "  'committee': None,\n",
       "  'description': None,\n",
       "  'number': '1',\n",
       "  'anftext': '<p>Fru talman! Synen på konsumtion och krediter har förändrats under åren, och i dag lånar svenskarna alltmer. Att hamna i skuldfällan och i värsta fall överskuldsättning är förödande för den enskilde och kostar även samhället stora pengar. Svenska hushåll är högt skuldsatta, såväl i ett historiskt som i ett internationellt perspektiv. Målsättningen bör vara en fungerande marknad där man både skapar en återhållsamhet och en tillgänglig lånemarknad.</p><p>Livslång skuldsättning kan drabba vem som helst. Kreditsamhället är under ständig utveckling. Krediter ökar möjligheterna för hushållen att planera sin ekonomi men riskerar också att bidra till överskuldsättning. Synen på konsumtion och krediter har förändrats under åren, och i dag lånar som sagt svenskarna alltmer.</p><p>Livslång skuldsättning med anmärkning hos kronofogden till exempel på grund av skilsmässa, företagande eller långvarig sjukdom eller arbetslöshet kan drabba i stort sett vem som helst, men få pratar om det. De så kallade evighetsgäldenärerna har blivit allt fler. En ansökan om skuldsanering kan göras hos kronofogden, och om den beviljas ges möjlighet att få ett förbehållsbelopp och därutöver möjlighet att betala på sin skuld efter förmåga under ett antal år. Därefter skrivs skulden av.</p><p>Även om avbetalningen till kronofogden kan kännas tung och seglivad är det ingenting i jämförelse med betalningsanmärkningens övriga konsekvenser. Den med betalningsanmärkning upplever sig lätt som dömd till en svartlistad tillvaro. En anmärkning leder till att man är hindrad från att skriva hyreskontrakt och att skaffa bankkort och telefon- eller internetabonnemang, och den kan även höja priset på hemförsäkringen. Ett sms som tar en minut att skriva kan alltså resultera i år av svartlistning. Att leva utanför det som du och jag tycker är fullständigt normalt - ett eget mobilabonnemang, att kunna hyra en släpvagn på macken eller att checka in på hotell - är tyvärr inte möjligt för alltför många svenskar.</p><p> STYLEREF Kantrubrik \\\\* MERGEFORMAT Räntetak och andra åtgärder på mark-naden för snabblån och andra högkost-nadskrediter</p><p>Det handlar i grund och botten om att sätta en gräns för skuldsättningen. Hur många år ska fordringsägare kunna stå på kö för att få ut några kronor av en person för en skuld som kanske näst intill ingen kommer ihåg på företaget men som finns kvar som en fordran i datasystemet? Det är inte lätta frågor som vi debatterar i dag, men när människors tragiska livsöden säljs från borgenär till borgenär så att låntagarna till slut knappt vet vem de är skyldiga pengar måste politiken göra något.</p><p>Information är viktig, och gränsdragningen mellan ren information och marknadsföring kan ibland vara svår. Det vi debatterar i dag utgör en välkommen ansats för att minska konsumenternas utsatthet i relation till de produkter som finns på marknaden. Det är väl motiverat att marknaden för snabblån regleras och att krav också ställs på kreditgivare att upplysa konsumenterna om riskerna. I dessa delar tillmötesgår regeringen tidigare tillkännagivanden från oss i riksdagen.</p><p>En brist i propositionen är att överbryggningskrediter och andra tillfälliga finansieringslösningar vid exempelvis bostadsförvärv inte undantas då de normalt inte omfattas av definitionen för bostadskrediter. Förslaget om måttfullhet anser vi vara oproportionerligt vid en jämförelse med krav som ställs på övrig reklam och marknadsföring. Vidare anser vi att konsekvenserna av ett måttfullhetskrav inte är tillräckligt utrett, vilket är något som flera remissinstanser också har påpekat. Svårigheterna att finna en praxis av ett så diffust begrepp kommer för domstolarna att bli betydande och leda till en stor osäkerhet hos annonsörerna och kreditgivarna. Därför yrkar jag bifall till reservation 2.</p>',\n",
       "  'partyimgurl': '/imagevault/publishedmedia/y0y16j9vs12rpsli1fkk/logo-kd-large.jpg',\n",
       "  'partycode': 'KD',\n",
       "  'commissionerimgurl': 'https://data.riksdagen.se/filarkiv/bilder/ledamot/0666958447826_160.jpg',\n",
       "  'commissionerurl': 'http://www.riksdagen.se/sv/ledamoter-partier/ledamot/caroline-szyber_0666958447826'},\n",
       " {'start': 304,\n",
       "  'duration': 201,\n",
       "  'text': 'Lars Beckman (M)',\n",
       "  'party': 'M',\n",
       "  'subid': '1100180502423323322',\n",
       "  'active': False,\n",
       "  'committee': None,\n",
       "  'description': None,\n",
       "  'number': '2',\n",
       "  'anftext': '<p>Fru talman! Det är ett välkommet beslut som riksdagen kommer att fatta i dag, precis som Caroline Szyber redogjorde för i sitt anförande, nämligen att vi ska försvåra för och förhindra så kallade sms-lån.</p><p>Fru talman! Det är viktigt att komma ihåg i en sådan här debatt att krediter behövs i ett samhälle. De allra flesta av oss behöver kredit för att köpa bostad eller bil eller om vi vill konsumera någonting annat. Vem som helst kan hamna i en ekonomisk situation då man behöver en kortfristig kredit. Däremot är det så i dag att många saknar en ekonomisk buffert för oförutsedda händelser. Ungefär 400\\xa0000 personer finns i Kronofogdemyndighetens register. Man beräknar att överskuldsättningen i samhället kostar 30-50 miljarder årligen, men de personliga lidandena går inte att mäta i pengar. I kölvattnet av trasslig ekonomi och överskuldsättning följer andra problem som ökad stress, sömnsvårigheter och psykisk ohälsa.</p><p>För att långsiktigt komma till rätta med överskuldsättningsproblemet krävs dels att färre över huvud taget hamnar i en ekonomisk situation som de inte förmår hantera, dels att fler människor som har hamnat i en mycket svår ekonomisk situation förmår ta sig ur den. Det är därför vi har drivit regeringen framför oss när det gäller sms-lånen. Precis som Caroline Szyber sa har en enig riksdag redan för något år sedan gjort ett tillkännagivande om att vi måste komma till rätta med sms-lånen.</p><p> STYLEREF Kantrubrik \\\\* MERGEFORMAT Räntetak och andra åtgärder på mark-naden för snabblån och andra högkost-nadskrediter</p><p>Ett allmänt råd ska naturligtvis vara: Spara först och konsumera sedan. Vi får väl höra sedan från Socialdemokraterna om man tror att stora och breda skattehöjningar de här tre åren har gjort det svårare eller lättare att bli överskuldsatt. Jag är helt övertygad om att när man höjer skatter för vanligt folk, vilket gör att konsumtionsutrymmet minskar, kommer det att leda till att fler riskerar att bli överskuldsatta. Det är ingen bra politik.</p><p>Precis som Caroline Szyber sa finns det problem med den här propositionen. Vi har lite tekniska frågor. Ett problem är till exempel att överbryggningskrediten när du köper bostad riskerar att träffas av den här lagstiftningen. Skulle det vara på det sättet måste den kommande regeringen titta på det så att det kan justeras, för det har aldrig varit meningen att den ska träffas av lagstiftningen.</p><p>Samma sak är det när det gäller marknadsföringen. Vi är inte generellt sett emot marknadsföring av kredittjänster - och där får man väl också ta en titt så att lagstiftningen inte träffar fel - och vill inte att de seriösa kreditinstituten ska träffas av lagstiftningen utan att det är de oseriösa, om man får säga så, sms-lånen som ska träffas.</p><p>Självklart står vi bakom alla våra reservationer, fru talman, men för tids vinnande yrkar jag bifall bara till reservation 2.</p>',\n",
       "  'partyimgurl': '/imagevault/publishedmedia/iw6wtdkk0c78m18lwtn6/logo-m-large.jpg',\n",
       "  'partycode': 'M',\n",
       "  'commissionerimgurl': 'https://data.riksdagen.se/filarkiv/bilder/ledamot/0588282566419_160.jpg',\n",
       "  'commissionerurl': 'http://www.riksdagen.se/sv/ledamoter-partier/ledamot/lars-beckman_0588282566419'},\n",
       " {'start': 512,\n",
       "  'duration': 331,\n",
       "  'text': 'Mikael Eskilandersson (SD)',\n",
       "  'party': 'SD',\n",
       "  'subid': '1100180502423323422',\n",
       "  'active': False,\n",
       "  'committee': None,\n",
       "  'description': None,\n",
       "  'number': '3',\n",
       "  'anftext': '<p>Fru talman! Den här propositionen är viktig för många av de mest utsatta i vårt samhälle. De två förslagen om att införa ett räntetak och ett kostnadstak är på många sätt bra och nödvändiga.</p><p>Vi har föreslagit att räntetaket som regeringen satt till 40 procent över gällande styrränta ska vara effektiv ränta, det vill säga ränta inklusive alla avgifter och andra kostnader. Räntetaket borde vara satt i totalkostnad och inte öppna upp för att andra kostnader läggs på i stället för ränta.</p><p> Effektiv ränta används i dag för att jämföra olika erbjudanden om lån, och även om det inte är ett vedertaget begrepp i dag kan det givetvis bli det. Taket borde alltså enligt oss gälla inklusive alla kostnader och dessutom gälla alla former av lån och krediter.</p><p>Vi delar däremot regeringens syn på att räntan ska vara högre än styrräntan då det historiskt funnits perioder med högre och lägre ränta. Från toppnoteringen den 16 september 1992, när räntan höjdes till 500 procent, är spannet stort till den negativa ränta som vi har i dag. Även om vi får hoppas att vi inte kommer tillbaka till de extrema nivåer vi har haft måste taket kunna följa utvecklingen både uppåt och nedåt.</p><p>Räntetaket behöver inte alls vara begränsat till att enbart gälla högkostnadskrediter. Även om andra krediter i princip aldrig har högre ränta i dag finns en uppenbar risk för att företag utnyttjar denna lucka och börjar kalla sms-lånen för något annat för att på så sätt gå runt både räntetak och kostnadstak. Det är viktigt att lämna så få luckor som möjligt om man vill ha en välfungerande lagstiftning.</p><p>Problemet med sms-lån är dock inte främst deras förutsättningar i dag utan att de efterfrågas. Givetvis blir effekten av de nya regler som nu genomförs att de företag som sysslar med att ge ut lån kommer bli färre och de kommer förhoppningsvis att ge ut färre lån.</p><p> STYLEREF Kantrubrik \\\\* MERGEFORMAT Räntetak och andra åtgärder på mark-naden för snabblån och andra högkost-nadskrediter</p><p>Den tidigare lukrativa marknad, där människor fastnat i en allt större skuldsättning och där långivarna sett det som mer intressant att få sina kunder att betala ränta än att lösa sina lån, kommer förhoppningsvis att effektivt begränsas av framför allt kostnadstaket, och det är bra.</p><p>Fru talman! Jag skulle gärna se att samhället gick längre än att begränsa möjligheterna för företag att ta ut oskäliga kostnader på krediter. Problemet är, som sagt, att lånen efterfrågas och att det finns människor som ser dyra lån som en lösning för sin situation. Det kan givetvis finnas många skäl till att någon ser dessa dyra lån som en lösning. </p><p>Den som har sett programmet <em>Lyxfällan</em> på tv vet att dyra smålån ofta är en av de största bovarna när det gäller att få ihop ekonomin för deltagarna, och inte en enda gång har programledarna gett rådet att ta fler snabblån. Däremot har lånen ofta bakats samman eller betalats av. Tv är alltid tv, men trots det finns det givetvis en bakomliggande sanning. Den sanningen är att lån till konsumtion i princip aldrig är bra för den enskildes ekonomi. Därför är det viktigt att människor på olika sätt får lära sig hur de kan förbättra sin privatekonomi. </p><p>Kommunerna har i dag konsumentrådgivning och budgetrådgivning som bör kunna bli bättre och nå ut till fler. Det är mycket bättre att människor lär sig att hantera sin ekonomi innan de byggt upp en stor skuld än att vänta tills skulden är så stor att man inte längre klarar sina vanliga utgifter. Få människor vet vart de ska vända sig för att få hjälp, och det är ganska lite som satsas på att nå ut med informationen.</p><p>Vi behöver ett samhälle som stärker de som är svagast och mest utsatta i vårt samhälle. Vårt samhälle ska vara omhändertagande i det folkhem som vi sverigedemokrater vill skapa i Sverige.</p><p>Några av de mest utsatta i dag är de som har svårt att få sin ekonomi att gå ihop - något som inte bara beror på låga inkomster utan också ofta på höga utgifter. Genom bättre hjälp i ett tidigare stadium kan också mycket psykiskt lidande undvikas och många människor skulle må bättre. Förhoppningsvis skulle efterfrågan på snabba lån till höga kostnader då också minska.</p><p>Fru talman! Jag vill avsluta med att yrka bifall till våra reservationer, reservation 1 och reservation 4.</p>',\n",
       "  'partyimgurl': '/imagevault/publishedmedia/4189dze2owjmbuwwipmk/logo-sd-large.jpg',\n",
       "  'partycode': 'SD',\n",
       "  'commissionerimgurl': 'https://data.riksdagen.se/filarkiv/bilder/ledamot/0468956880528_160.jpg',\n",
       "  'commissionerurl': 'http://www.riksdagen.se/sv/ledamoter-partier/ledamot/mikael-eskilandersson_0468956880528'},\n",
       " {'start': 851,\n",
       "  'duration': 311,\n",
       "  'text': 'Ola Johansson (C)',\n",
       "  'party': 'C',\n",
       "  'subid': '1100180502423323522',\n",
       "  'active': False,\n",
       "  'committee': None,\n",
       "  'description': None,\n",
       "  'number': '4',\n",
       "  'anftext': '<p>Fru talman! De så kallade snabblånen marknadsförs aggressivt med det positiva budskapet att du får pengarna i handen och utan kreditprövning genom Upplysningscentralen. Skälen till att låna med sådana villkor i reklamen är oskyldiga, men de speglar inte alltid den verklighet som människor befinner sig i.</p><p>Det första man läser när man googlar på att låna 10\\xa0000 kronor är: Låna 10\\xa0000 kronor snabbt trots flera betalningsanmärkningar utan säkerhet, besked direkt med bank-id. Via tv-reklamens jinglar har vi lärt oss namnen på några av de företag som erbjuder en produkt som uppenbarligen hittar sin kundkrets.</p><p>Det kan naturligtvis finnas olika skäl till att man ansöker om kortfristiga lån. De fyller säkert ett behov, och vi har i andra sammanhang anledning att kritisera bankerna de gånger då de i alltför hög grad ställer krav för till exempel bolån, krav som går utöver vad Finansinspektionen anger. Den här frågan diskuteras i den bostadspolitiska debatten, en fråga som vi ofta ägnar oss åt i civilutskottet.</p><p> STYLEREF Kantrubrik \\\\* MERGEFORMAT Räntetak och andra åtgärder på mark-naden för snabblån och andra högkost-nadskrediter</p><p>För att små företag ska kunna växa och klara den dagliga verksamheten mellan leverantörsfakturorna och försäljningsintäkterna och för att klara vissa såväl planerade som oplanerade utgifter är kortfristiga lån fortfarande viktiga. </p><p>Med detta sagt visar en granskning från Riksrevisionen att antalet svårt skuldsatta i Sverige har ökat med 3\\xa0000 personer under de senaste fem åren. Så många som vart femte hushåll saknar enligt Statistiska centralbyrån en ekonomisk buffert för oförutsedda utgifter.</p><p>I Kronofogdemyndighetens register finns det omkring 400\\xa0000 personer med en samlad skuld på drygt 70 miljarder kronor.</p><p>Överskuldsättning är ett stort problem både för samhället och för dem som drabbas. Problem med skulder kan leda till eller förvärra psykisk och fysisk ohälsa, vilket även kan drabba anhöriga, inte minst barn.</p><p>Detta står att läsa i regeringens strategi mot överskuldsättning från 2015. Centerpartiet instämmer i att det finns starka skäl att skydda de mest utsatta och de som riskerar hamna i en överskuldsättning, genom att få bort produkter från marknaden som exploaterar redan hårt skuldsatta och fyller på statistiken med fler överskuldsatta.</p><p>Varje sådant lån till en person som redan förut saknar betalningsförmåga och som behöver pengar för att finansiera ett beroende, oavsett om det handlar om konsumtion, spelande eller inköp av berusningsmedel av olika slag, drabbar inte bara den person som tagit lånet utan även anhöriga - partnern, sambon och föräldrarna som kanske måste gå in för att det ska finnas mat på bordet och pengar på kontot när hyran ska betalas.</p><p> Därför välkomnar Centerpartiet den reglering som innebär att sådana lån med en effektiv ränta som är minst 30 procentenheter högre än referensräntan benämns högkostnadskredit och att det för dessa finns ett räntetak som begränsar kreditgivarens möjlighet att ta ut kreditränta eller dröjsmålsränta som är mer än 40 procentenheter högre än den vid varje tidpunkt gällande referensräntan.</p><p>Sedan det äntligen har kommit ett sådant här förslag, efter flera tillkännagivanden och upprepade riksdagsmotioner från bland annat Centerpartiet, hoppas vi att åtgärderna som beslutas här i dag är tillräckliga för att skydda de mest utsatta, samtidigt som seriösa kreditgivare inte hindras från att tillhandahålla lån som behövs för att företag ska kunna driva sin verksamhet, göra små investeringar i utrustning och parera upp- och nedgångar i försäljningen. Vi ska inte heller begränsa privatpersoners tillgång till kortfristiga lån för att klara vardagen så länge utlåningen sker till sjysta, för låntagaren kända och begripliga villkor.</p><p>Fru talman! Centerpartiet välkomnar en ny lag som desarmerar oseriösa snabblåneföretag och begränsar deras möjligheter att dölja ohemula villkor. Men vi delar oron från Svensk Inkasso, från Svensk Handel och från Näringslivets delegation för marknadsrätt över att avskaffandet av det så kallade transaktionstestet kan skapa en osäkerhet.</p><p>Det är ett viktigt krav på långivarna att det tydligt framgår hur villkoren påverkar kostnaderna, så att det blir tydligt för konsumenterna i hur hög grad högkostnadskrediten påverkar deras privatekonomi. Men en inskränkning av annonsörernas möjlighet att presentera fördelarna med sina produkter på ett sätt som gör dem attraktiva och efterfrågade i en situation då lånen i sig redan har reglerats menar vi är att gå för långt i regleringen av marknadsföringen på en i övrigt väl fungerande lånemarknad.</p><p> STYLEREF Kantrubrik \\\\* MERGEFORMAT Räntetak och andra åtgärder på mark-naden för snabblån och andra högkost-nadskrediter</p><p>Konsekvenserna av ett måttfullhetskrav inte är tillräckligt utredda. Därför yrkar jag bifall till reservation nr\\xa02 från Centerpartiet, Moderaterna och Kristdemokraterna. I övrigt yrkar jag bifall till förslaget i betänkandet.</p>',\n",
       "  'partyimgurl': '/imagevault/publishedmedia/dk6wckn8bcs55858mzgg/Centerpartiet_logo_symbol_pos-320x320-luft.jpg',\n",
       "  'partycode': 'C',\n",
       "  'commissionerimgurl': 'https://data.riksdagen.se/filarkiv/bilder/ledamot/0934639939611_160.jpg',\n",
       "  'commissionerurl': 'http://www.riksdagen.se/sv/ledamoter-partier/ledamot/ola-johansson_0934639939611'},\n",
       " {'start': 1172,\n",
       "  'duration': 320,\n",
       "  'text': 'Hamza Demir (V)',\n",
       "  'party': 'V',\n",
       "  'subid': '1100180502423323622',\n",
       "  'active': False,\n",
       "  'committee': None,\n",
       "  'description': None,\n",
       "  'number': '5',\n",
       "  'anftext': '<p>Fru talman! Ledamöter! De som tar snabblån är oftast människor med svag ekonomi och lägre återbetalningsförmåga. Det är något som i förlängningen kan leda till att individen eller familjen hamnar i en skuldfälla och riskerar att fastna i överskuldsättning. En rapport från LO 2016, <em>Långvarig överskuldsättning</em> - <em>Den bortglömda ojämlikheten</em>, visar att överskuldsättning är en tydlig klassfråga. Vi ser hur låginkomsttagare, ensamstående, låg- och medelutbildade, sjuka, arbetslösa och hyrestagare är överrepresenterade bland de långvarigt överskuldsatta. </p><p>Det cyniska är att många snabblåneföretag har som affärsmodell att rikta in sig på konsumenter med svag ekonomi genom att erbjuda snabblån till närmast ockerliknande ränta. Det handlar om lån som alltså blir oerhört dyra. Det är inte ovanligt att den som har tagit ett snabblån måste ta ett nytt snabblån för att betala det gamla, och så är en fast i en ond cirkel.</p><p>Snabbheten att få pengarna kan leda till ogenomtänkt konsumtion, till exempel spelande och krogbesök kvälls- eller nattetid. Nästan hälften av de tillfrågade angav att de inte skulle ha tagit ett sms-lån om de hade fått vänta ett dygn eller längre. Detta står att läsa i Kronofogdens och Konsumentverkets rapport <em>SMS-låna - En kartläggning av unga vuxnas erfarenheter</em>.</p><p>Kostnaderna är skyhöga jämfört med andra krediter. Den effektiva räntan kan vara hundratals och till och med tusentals procent. Det är en ränta som måste betecknas som ocker. I propositionen föreslår regeringen flera åtgärder som ska leda till rimligare villkor för snabblån och andra högkostnadskrediter och till att färre människor riskerar att hamna i överskuldsättning på grund av dessa lån. Förslagen innebär bland annat att räntetak och kostnadstak för högkostnadskrediter införs och att konsumenter ska uppmärksammas på riskerna när de överväger att ta sådana lån. </p><p>Vidare föreslås en särskild bestämmelse om att all marknadsföring av konsumentkrediter ska vara måttfull. Genom förslaget ska marknadsföringen ta större hänsyn till de generella riskerna med konsumentkrediter, och den ska utformas på ett sådant sätt att den inte lockar konsumenter till oöverlagda beslut.</p><p>Jag välkomnar de åtgärder som föreslås i propositionen och har ställt mig bakom regeringens lagförslag. Enligt min mening är dock dessa åtgärder inte tillräckliga för att skydda de mest utsatta konsumenterna. Problemet kommer att finnas kvar trots räntetak och reglerad marknadsföring. De som ansöker om snabblån eller sms-lån agerar oftast i panik för att snabbt komma över kontanter och tänker inte på återbetalningsmöjligheter och konsekvenser, oavsett hur marknadsföringen ser ut.</p><p>Fru talman! Snabblånen måste bort helt från marknaden. Sverige klarade sig alldeles utmärkt före 2006 utan denna typ av lån. Jag anser därför att regeringen snarast bör återkomma till riksdagen med förslag till lagstiftning som innebär att snabblån förbjuds. Jag yrkar bifall till Vänsterpartiets reservation\\xa05.</p>',\n",
       "  'partyimgurl': '/imagevault/publishedmedia/zt9rpci01ib0uqlyz53g/logo-v-large.jpg',\n",
       "  'partycode': 'V',\n",
       "  'commissionerimgurl': 'https://data.riksdagen.se/filarkiv/bilder/ledamot/0747488001814_160.jpg',\n",
       "  'commissionerurl': 'http://www.riksdagen.se/sv/ledamoter-partier/ledamot/hamza-demir_0747488001814'},\n",
       " {'start': 1498,\n",
       "  'duration': 322,\n",
       "  'text': 'Robert Hannah (L)',\n",
       "  'party': 'L',\n",
       "  'subid': '1100180502423323722',\n",
       "  'active': False,\n",
       "  'committee': None,\n",
       "  'description': None,\n",
       "  'number': '6',\n",
       "  'anftext': '<p> STYLEREF Kantrubrik \\\\* MERGEFORMAT Räntetak och andra åtgärder på mark-naden för snabblån och andra högkost-nadskrediter</p><p>Fru talman! Jag vill börja med att yrka bifall till Liberalernas reservation nr\\xa06.</p><p>Liberalernas uppfattning om konsumentpolitiken är att den enskilda individen ska ha möjlighet att fatta beslut utifrån de egna önskemålen. För att individen ska ha möjlighet till detta måste staten vara med och sätta tydliga spelregler och verka för en fungerande konkurrens på marknaden.</p><p>Vi liberaler anser inte att staten ska gå in och bestämma vilka val konsumenter ska göra. Vi anser inte att snabblån eller smålån ska förbjudas, så som Vänsterpartiet anser. Däremot måste konsumenten få god tillgång till information och ha möjlighet att göra sina egna val och vara medveten om konsekvenserna av dem. Information ska då finnas till hands. Detta förutsätter att marknadsaktörerna granskas oftare och att oseriösa företag avslöjas.</p><p>Fru talman! När det gäller snabblån och liknande lån har spelreglerna inte följts av oseriösa företagare. Vi måste vara ärliga med det. Snabblån och sms-lån är en marknad där oseriösa aktörer under lång tid helt enkelt har utnyttjat konsumenternas situation. Det handlar om lån med kort löptid och hög ränta. De effektiva räntorna ligger ofta över 100 procent, och företagen marknadsför sig med att deras kreditprövningar syns i form av utdrag hos kreditupplysningscentraler. </p><p>År 2010 gjordes drygt 28\\xa0000 ansökningar. Det är en siffra som ökade till nästan 57\\xa0000 kreditprövningar år 2014. Därefter har kronofogden slutat göra årssammanställningar, eftersom branschen har förändrats så snabbt att myndigheten anser sig inte kunna bedöma vilka företag som bör ingå i en sådan sammanställning. Det gäller till exempel de många företag som bedriver kasinoverksamhet på nätet men som i praktiken försörjer sig på snabblån.</p><p>Fru talman! Under perioden 2010-2014 fördubblades antalet ansökningar till kronofogden om betalningsföreläggande på grund av obetalade sms-krediter och andra snabblån. Det är en väldigt snabb utveckling, och den måste vi ifrågasätta. Ur liberal synpunkt är dagens regler uppenbarligen inte tillräckliga för att ingripa mot de företag som bedriver snabblån på ett oansvarigt sätt. Lån med kort löptid är inte i sig det som måste motverkas, vilket Vänsterpartiet anser. </p><p>Vi liberaler anser dock att man inte ska hålla de företag om ryggen som har som affärsidé att utnyttja luckorna i regelverket och bedriva en vårdslös kreditutgivning som driver människor in i skuldfällor. Det handlar ju ofta om unga människor och ofta om människor med lägre inkomster.</p><p>Liberalerna välkomnar därmed regeringens förslag i propositionen att det nuvarande undantaget från skyldigheten att göra en kreditprövning vid gratislån och andra fristående krediter som inte är förbundna med mer än en obetydlig avgift ska tas bort. Det finns ett engelskt uttryck kallat Tinstaafl, det vill säga en förkortning av \"There is no such thing as a free lunch\". Alla som tar gratislån, billiga lån eller sms-lån måste faktiskt också betala för dem. </p><p> STYLEREF Kantrubrik \\\\* MERGEFORMAT Räntetak och andra åtgärder på mark-naden för snabblån och andra högkost-nadskrediter</p><p>Det är tydligt att ett annat slags regelverk behövs. Det här är något som vi i Liberalerna har krävt och drivit i Sveriges riksdag. Vi har tillsammans med Alliansen fått igenom ett tillkännagivande om detta. Därför välkomnar vi lagstiftningen.</p><p>Fru talman! Det finns dock två brister i lagstiftningen som jag särskilt vill lyfta fram.</p><p>För det första handlar det om kreditprövningen av högkostnadskrediter. Regeringen anser inte att det behöver göras några ändringar i fråga om kreditprövning som gäller högkostnadskrediter. Man anser heller inte att en civilrättslig sanktionsregel vid bristande kreditprövning behöver införas.</p><p>Utredningen om vissa konsumentkrediter, som ligger bakom den här lagstiftningen, ansåg i sitt betänkande att företagen vid beräkningen av konsumenternas förutsättningar att återbetala en högkostnadskredit ska ta hänsyn till risken att konsumenten redan har eller kommer att få andra utgifter än vad som visas i det underlag som finns vid kreditprövningen, till exempel att man tar eller söker andra lån hos andra företag samtidigt. Beklagligt nog har regeringen valt att inte gå vidare med detta förslag. Jag anser att regeringen bör återkomma till riksdagen med ett förslag i enlighet med vad Utredningen om vissa konsumentkrediter kommit fram till. Liberalerna kommer att fortsätta driva den här frågan.</p><p>För det andra handlar det om att begränsa oseriösa kreditgivares möjligheter att vända sig till Kronofogdemyndigheten. Sverige har en av de absolut bästa skuldindrivningsmyndigheterna i världen. En sådan myndighet ska inte kunna användas av oseriösa snabblånsgivare för att driva in skulder. Vi liberaler anser helt enkelt att sådana företag får driva in sina kostnader på egen hand i stället för att de svenska skattebetalarna ska göra det åt dem.</p><p>En möjlighet skulle exempelvis kunna vara att Kronofogden inte medverkar till att driva in skulden i fall där myndigheten finner att kreditprövningen inte följer god kreditgivningssed. Även andra möjligheter att strama upp regelverket bör övervägas. Svenska myndigheter ska inte vara till för oseriösa företagare. De ska vara till för seriösa företagare.</p><p>Fru talman! Vi liberaler vill se en konsumentpolitik som handlar om att stärka konsumenternas makt och möjlighet att göra aktiva val. Vi anser att den här lagstiftningen kommer att göra det.</p>',\n",
       "  'partyimgurl': '/imagevault/publishedmedia/n7r95pms6kjgu7tisj2c/logo-l-large-ny3.jpg',\n",
       "  'partycode': 'L',\n",
       "  'commissionerimgurl': 'https://data.riksdagen.se/filarkiv/bilder/ledamot/0223069839622_160.jpg',\n",
       "  'commissionerurl': 'http://www.riksdagen.se/sv/ledamoter-partier/ledamot/robert-hannah_0223069839622'},\n",
       " {'start': 1827,\n",
       "  'duration': 397,\n",
       "  'text': 'Eva Sonidsson (S)',\n",
       "  'party': 'S',\n",
       "  'subid': '1100180502423323822',\n",
       "  'active': False,\n",
       "  'committee': None,\n",
       "  'description': None,\n",
       "  'number': '7',\n",
       "  'anftext': '<p>Fru talman! Jag börjar med att yrka bifall till förslaget i betänkandet och säga: Äntligen, äntligen!</p><p>Jag valdes in i Sveriges riksdag i valet 2006. Med bakgrund som konsumentvägledare kändes det rätt naturligt för mig att välja civilutskottet, som bland annat ansvarar för frågor som rör just konsumenter. Ungefär samtidigt ökade det som kallades sms-lån drastiskt. Det var nog ingen som riktigt var beredd på den utvecklingen, att så många ville ta och hade behov av snabblån men inte riktigt förstod konsekvensen av dem. Att vi nu efter tolv år kan lägga fram ett betänkande som grundar sig på ett lagändringsförslag från regeringen tycker jag känns riktigt bra.</p><p>Jag tror inte att någon av oss i denna kammare är obekant med vad ett sms-lån innebär. Personligen har jag debatterat denna fråga i kammaren ett flertal gånger, inte minst under mina första fyra år i riksdagen. Men kanske några av våra tittare vill veta utvecklingen av detta otyg.</p><p> STYLEREF Kantrubrik \\\\* MERGEFORMAT Räntetak och andra åtgärder på mark-naden för snabblån och andra högkost-nadskrediter</p><p>Ja, otyg är precis vad jag kallar det, för väldigt många har råkat illa ut - kanske inte med sitt första sms-lån, men med sitt andra eller tredje. Tyvärr brukar det nämligen inte räcka med ett lån. Det blir snarare ytterligare ett lån för att kunna betala tillbaka det första lånet med skyhöga räntor.</p><p>Vad är det då som definierar ett snabblån? Jo, det har ett kreditbelopp på mellan 500 och 3\\xa0000 kronor, en löptid på mellan 30 och 300 dagar och en hög effektiv ränta från 100 till flera tusen procent. Det är här det börjar.</p><p>Alltsedan snabblånen etablerades på den svenska marknaden har de varit omdebatterade och kritiserade. Att de kritiserats beror till stor del på att de ofta riktar sig till och beviljas ekonomiskt svaga konsumenter och att de har väldigt ofördelaktiga räntevillkor. Detta är faktorer som kan bidra till att konsumenten inte har råd att betala tillbaka lånet och att skulderna hamnar hos kronofogden för utmätning. Många använder sig också av snabblån för att på ett kortsiktigt sätt lösa sina ekonomiska problem, vilket tyvärr inte alltid stannar med det.</p><p>I en artikel från 2014 beskrevs ökningen av snabblånen som att branschen befann sig på autobahn. Det första halvåret hamnade 160 personer om dagen hos kronofogden på grund av obetalda snabblån. Nog gick det fort alltid!</p><p>Låneföretagen kännetecknas av att lånen är lättillgängliga, avser relativt små belopp som lånas ut under en kort tid, oftast riktar sig till ekonomiskt svaga konsumenter och har höga räntor. Det har också förekommit brister i snabblåneföretagens kreditprövning. Många konsumenter har på grund av det haft svårt att betala tillbaka snabblånen.</p><p>Efter åtta år av fortsatt ökning tillsatte den rödgröna regeringen en utredning i april 2015. Utredaren fick i uppdrag att överväga åtgärder för att åstadkomma en mer ansvarsfull marknad för konsumentkrediter. De åtgärder som föreslogs skulle i första hand vara riktade mot snabblån. Utredningen fick benämningen <em>Stärkt konsumentskydd på marknaden för högkostnadskrediter</em>. Betänkandet har remissbehandlats, och Lagrådet har yttrat sig.</p><p>Som redovisas i propositionen har det under årens lopp vidtagits en del åtgärder för att motverka problem som snabblånen kan orsaka. Vi ska vara ärliga och säga att det har hänt en del. Det har införts strängare krav på information i konsumentkreditlagen. Kreditprövaren ska pröva om konsumenten har ekonomiska förutsättningar att fullgöra vad han eller hon har åtagit sig enligt avtalet. Sedan 2011 granskas prövningen av Konsumentverket, som också kan ta ut en sanktionsavgift om inte kreditprövningen är tillräcklig. Sedan juli 2014 omfattas snabblåneföretagen av tillståndsplikt från Finansinspektionen med ett tydligt krav på sundhet i rörelsen. Under 2016 infördes en möjlighet för Konsumentverket att omedelbart förbjuda ett företag att låna ut pengar till konsumenter om företagen brister i sina kreditprövningar.</p><p>Det bildades också en branschförening för snabblåneföretagen. Den syftar till att verka för en sund och seriös kreditgivning. Där antogs etiska regler som medlemsföretagen har skyldighet att följa. Enligt uppgift är det 60 procent av snabblåneföretagen i Sverige som är anslutna till föreningen. Där finns en hel del kvar att göra.</p><p> STYLEREF Kantrubrik \\\\* MERGEFORMAT Räntetak och andra åtgärder på mark-naden för snabblån och andra högkost-nadskrediter</p><p>Sammanfattningsvis kan man säga att förändringarna i den nya lagen är följande:</p><p>Ett räntetak som begränsar kreditgivarens möjlighet att ta ut kreditränta för högkostnadskrediter ska införas.</p><p>En högkostnadskredit ska inte få ha en kreditränta eller dröjsmålsränta som är mer än 40 procentenheter högre än den vid varje tid gällande referensräntan. Vid dröjsmål av betalning ska konsumenten inte vara skyldig att betala någon annan form av ersättning än dröjsmålsränta.</p><p>Genom att reglerna om räntetak tas in i konsumentkreditlagen kommer de att omfattas av den befintliga bestämmelse i lagen som anger att lagen är tvingande till konsumentens förmån. Konsumenten kommer alltså inte att vara bunden av ett avtalsvillkor som innebär en högre ränta än vad som maximalt får tas ut enligt räntetaket.</p><p>Ett kostnadstak för högkostnadskrediter ska införas. För en konsument som tar en högkostnadskredit ska kostnaderna aldrig få överstiga ett belopp som motsvarar kreditbeloppet eller, i fråga om en kontokredit, varje enskilt utnyttjande av kreditbeloppet som konsumenten har gjort. De kostnader som avses är kreditkostnader, dröjsmålsränta och kostnader för åtgärder som syftar till att få konsumenten att betala i tid. Det här blir också tvingande till konsumentens fördel.</p><p>Löptiden för en högkostnadskredit ska inte få förlängas mer än en gång. Den får dock förlängas om det inte blir en ökad kostnad för konsumenten eller om konsumenten beviljas en skälig avbetalningsplan för att kunna betala sin skuld.</p><p>Det ska i konsumentkreditlagen införas ett krav på att måttfullhet ska iakttas vid marknadsföring av alla slags konsumentkrediter. Marknadsföring som inte är måttfull ska anses som otillbörlig mot konsumenter och kunna leda till sanktioner.</p><p>Lagförändringen föreslås träda i kraft den 1 september 2018.</p><p>Jag är glad över att vi i utskottet är överens om de stora penseldragen. Sedan finns det säkert strån som vi får plocka in för att fylla penseln. Men jag är glad, fru talman, att kunna ställa mig bakom betänkandet i dag.</p><p>(Applåder)</p>',\n",
       "  'partyimgurl': '/imagevault/publishedmedia/lsyij9cf0m943l4hqzve/logo-s-large.jpg',\n",
       "  'partycode': 'S',\n",
       "  'commissionerimgurl': 'https://data.riksdagen.se/filarkiv/bilder/ledamot/0565167965311_160.jpg',\n",
       "  'commissionerurl': 'http://www.riksdagen.se/sv/ledamoter-partier/ledamot/eva-sonidsson_0565167965311'},\n",
       " {'start': 2233,\n",
       "  'duration': 251,\n",
       "  'text': 'Emma Hult (MP)',\n",
       "  'party': 'MP',\n",
       "  'subid': '1100180502423324022',\n",
       "  'active': False,\n",
       "  'committee': None,\n",
       "  'description': None,\n",
       "  'number': '8',\n",
       "  'anftext': '<p>Fru talman! När jag inför den här debatten googlade betänkandets rubrik, <em>Räntetak och andra åtgärder på marknaden för snabblån och andra högkostnadskrediter</em>, var det först på femte plats som produkten dök upp. De fyra tidigare sökresultaten i listan var alla reklam för hur jag skulle kunna ta ett snabblån enkelt och snabbt utan någon egentlig kontroll. För mig blev det därmed än mer tydligt varför dessa lagstiftningsförändringar behövs. Det är bra att civilutskottet ställer sig bakom det som står i betänkandet. Därför yrkar även jag bifall till förslaget i betänkandet i dess helhet.</p><p>Förslaget i propositionen innebär att vi bland annat ska införa ett räntetak och ett kostnadstak för högkostnadskrediter och att konsumenter ska uppmärksammas på riskerna när de överväger att ta sådana lån. Dessa ändringar gör vi för att de ska leda till rimligare villkor för konsumenten när det gäller snabblån och andra högkostnadskrediter och för att färre människor ska riskera att hamna i överskuldsättning på grund av dessa lån. Vi föreslår också en särskild bestämmelse om att all marknadsföring av konsumentkrediter ska vara måttfull. Det innebär att marknadsföringen ska ta större hänsyn till de generella riskerna med konsumentkrediter och att de ska utformas på ett sådant sätt att de inte lockar konsumenter att ta oöverlagda beslut.</p><p> STYLEREF Kantrubrik \\\\* MERGEFORMAT Räntetak och andra åtgärder på mark-naden för snabblån och andra högkost-nadskrediter</p><p>Fru talman! Snabblån och andra dyra lån erbjuds ofta till en grupp konsumenter som löper större risk än andra att få det svårt att betala tillbaka de pengar de lånar. Det handlar om högriskkonsumenter som har mindre marginaler i sin ekonomi eller som tidigare har haft problem med att betala i rätt tid. Dessa konsumenter har inte några andra möjligheter till kredit och får därför finna sig i att lånen kostar väsentligt mycket mer än sådana som till exempel erbjuds av vanliga banker som vi oftast kan ta lån hos.</p><p>För den enskilde och hens familj kan dessa lån leda till stora personliga och ekonomiska konsekvenser, särskilt om lånen inte betalas tillbaka i tid. Det är en ond spiral där skulderna växer på hög och till slut blir okontrollerbara.</p><p>Hösten 2006 sändes tv-programmet <em>Lyxfällan</em> för första gången i Sverige. Vi har genom åren fått bevittna det ena avsnittet värre än det andra där individer hamnat i fruktansvärda nedåtgående ekonomiska spiraler. Finansinspektionen har rapporterat att det varje år lämnas ca 450\\xa0000 snabblån.</p><p>Även om jag och säkert många med mig gillar programmet <em>Lyxfällan</em>, speciellt i slutet där vi får se hur deltagarna får hjälp att ta sig ur sin ohållbara ekonomiska situation, hade jag hoppats att programmet inte skulle behövas. Jag är därför oerhört glad att regeringen under den här mandatperioden har gjort flera förändringar när det gäller individers möjlighet till hjälp att ta sig ur en överskuldsatt livssituation. Med produkten som vi nu debatterar och kommer att besluta om senare i dag kommer vi att få fler verktyg för att undvika att individer ens hamnar i den situationen.</p><p>Regeringen föreslår nu flera förändringar i konsumentkreditlagen som ska leda till rimligare villkor för snabblånen och andra högkostnadskrediter och till att färre människor riskerar att hamna i överskuldsättning på grund av dessa lån. Räntan för snabblån överstiger i dag i flera fall 50 procent. Det förekommer krediträntor på upp till 400 procent, vilket är helt orimligt.</p><p>Regeringen föreslår nu därför att varken kredit- eller dröjsmålsräntor för högkostnadskrediter får vara mer än 40 procentenheter högre än referensräntan vid den tidpunkten. För en högkostnadskredit ska kostnaderna, till exempel räntor, avgifter och inkassokostnader, aldrig få överstiga ett belopp som motsvarar kreditbeloppet.</p><p>Inget lån är gratis, även om det i reklamen kan låta så. Därför vill vi ta bort det nuvarande undantaget från skyldigheten att göra en kreditprövning vid så kallade gratislån och andra kortfristiga krediter som inte är förbundna med mer än en obetydlig avgift.</p><p>Räntetak och andra åtgärder på mark-naden för snabblån och andra högkost-nadskrediter</p><p>Detta är bra och oerhört viktigt för att undvika att människor hamnar i sådana utsatta situationer som överskuldsättning är.</p><p>(Applåder)</p><p>Överläggningen var härmed avslutad.</p><p>(Beslut fattades under § 15.)</p>',\n",
       "  'partyimgurl': '/imagevault/publishedmedia/mayc6xnh3bggxn5apl5n/logo-mp-large.jpg',\n",
       "  'partycode': 'MP',\n",
       "  'commissionerimgurl': 'https://data.riksdagen.se/filarkiv/bilder/ledamot/0628870165823_160.jpg',\n",
       "  'commissionerurl': 'http://www.riksdagen.se/sv/ledamoter-partier/ledamot/emma-hult_0628870165823'}]"
      ]
     },
     "execution_count": 9,
     "metadata": {},
     "output_type": "execute_result"
    }
   ],
   "source": [
    "with open(\"/Users/joregan/riksdag/riksdag-api-out/H501CU20\") as inp:\n",
    "    vdata = json.load(inp)\n",
    "    speakers = get_speaker_data(vdata)\n",
    "speakers"
   ]
  }
 ],
 "metadata": {
  "interpreter": {
   "hash": "2603f07046c437130ee32ef9381ac7221f7902403001eace09f7e749adb599f7"
  },
  "kernelspec": {
   "display_name": "Python 3.9.7 ('base')",
   "language": "python",
   "name": "python3"
  },
  "language_info": {
   "codemirror_mode": {
    "name": "ipython",
    "version": 3
   },
   "file_extension": ".py",
   "mimetype": "text/x-python",
   "name": "python",
   "nbconvert_exporter": "python",
   "pygments_lexer": "ipython3",
   "version": "3.9.7"
  },
  "orig_nbformat": 4
 },
 "nbformat": 4,
 "nbformat_minor": 2
}
