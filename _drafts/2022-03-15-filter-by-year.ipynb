{
 "cells": [
  {
   "cell_type": "code",
   "execution_count": 1,
   "metadata": {},
   "outputs": [],
   "source": [
    "from pathlib import Path\n",
    "_API_DIR = Path(\"/Users/joregan/riksdag/riksdag-api-out\")"
   ]
  },
  {
   "cell_type": "code",
   "execution_count": 22,
   "metadata": {},
   "outputs": [],
   "source": [
    "def endswith_list(text, items):\n",
    "    for it in items:\n",
    "        if text.endswith(it):\n",
    "            return True\n",
    "    return False"
   ]
  },
  {
   "cell_type": "code",
   "execution_count": 34,
   "metadata": {},
   "outputs": [],
   "source": [
    "import json\n",
    "def json_matches_years(filename, years):\n",
    "    ret_val = False\n",
    "    with open(filename) as f:\n",
    "        data = json.load(f)\n",
    "        if not \"videodata\" in data:\n",
    "            raise Exception(f\"File {filename} missing key 'videodata'\")\n",
    "        videodata = data[\"videodata\"]\n",
    "        if videodata is None:\n",
    "            print(f\"Empty videodata: {filename}\")\n",
    "            return False\n",
    "        for vdata in videodata:\n",
    "            if vdata is None:\n",
    "                print(f\"Empty videodata: {filename}\")\n",
    "                return False\n",
    "            if \"debatedate\" in vdata and vdata[\"debatedate\"] is not None and vdata[\"debatedate\"] != \"\":\n",
    "                date = vdata[\"debatedate\"]\n",
    "                if endswith_list(date.strip(), years):\n",
    "                    return True\n",
    "    return False"
   ]
  },
  {
   "cell_type": "code",
   "execution_count": 35,
   "metadata": {},
   "outputs": [
    {
     "name": "stdout",
     "output_type": "stream",
     "text": [
      "Empty videodata: /Users/joregan/riksdag/riksdag-api-out/H8C120210621zz\n"
     ]
    }
   ],
   "source": [
    "matches = []\n",
    "for file in _API_DIR.glob(\"H*\"):\n",
    "    if json_matches_years(file, [\"2017\", \"2018\"]):\n",
    "        matches.append(str(file))"
   ]
  },
  {
   "cell_type": "code",
   "execution_count": 37,
   "metadata": {},
   "outputs": [],
   "source": [
    "with open(\"2017-2018.txt\", \"w\") as outf:\n",
    "    for m in matches:\n",
    "        outf.write(m + \"\\n\")"
   ]
  }
 ],
 "metadata": {
  "interpreter": {
   "hash": "2603f07046c437130ee32ef9381ac7221f7902403001eace09f7e749adb599f7"
  },
  "kernelspec": {
   "display_name": "Python 3.9.7 ('base')",
   "language": "python",
   "name": "python3"
  },
  "language_info": {
   "codemirror_mode": {
    "name": "ipython",
    "version": 3
   },
   "file_extension": ".py",
   "mimetype": "text/x-python",
   "name": "python",
   "nbconvert_exporter": "python",
   "pygments_lexer": "ipython3",
   "version": "3.9.7"
  },
  "orig_nbformat": 4
 },
 "nbformat": 4,
 "nbformat_minor": 2
}
