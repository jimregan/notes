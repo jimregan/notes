{
  "nbformat": 4,
  "nbformat_minor": 0,
  "metadata": {
    "colab": {
      "provenance": [],
      "collapsed_sections": [
        "skpJUmotRSsv",
        "WgeJi6ELRA5e"
      ]
    },
    "kernelspec": {
      "name": "python3",
      "display_name": "Python 3"
    },
    "language_info": {
      "name": "python"
    }
  },
  "cells": [
    {
      "cell_type": "code",
      "execution_count": 1,
      "metadata": {
        "id": "Ddz5IzJoJ1OT"
      },
      "outputs": [],
      "source": [
        "import librosa"
      ]
    },
    {
      "cell_type": "code",
      "source": [
        "import numpy as np"
      ],
      "metadata": {
        "id": "pB4M0ixtOopt"
      },
      "execution_count": 2,
      "outputs": []
    },
    {
      "cell_type": "code",
      "source": [
        "WAVFILE = \"/content/spkslt_98.wav\""
      ],
      "metadata": {
        "id": "sIsK585DKpuP"
      },
      "execution_count": 3,
      "outputs": []
    },
    {
      "cell_type": "code",
      "source": [
        "audio, sr = librosa.load(WAVFILE)"
      ],
      "metadata": {
        "id": "4yIxKaVKKtXm"
      },
      "execution_count": 4,
      "outputs": []
    },
    {
      "cell_type": "code",
      "source": [
        "f0, voiced_flag, voiced_probs = librosa.pyin(y=audio,\n",
        "                                             fmin=librosa.note_to_hz('C2'),\n",
        "                                             fmax=librosa.note_to_hz('C7'),\n",
        "                                             pad_mode='constant',\n",
        "                                             n_thresholds = 10,\n",
        "                                             max_transition_rate = 100,\n",
        "                                             sr=sr)"
      ],
      "metadata": {
        "id": "e4rZDUHALAXK"
      },
      "execution_count": 5,
      "outputs": []
    },
    {
      "cell_type": "code",
      "source": [
        "onsets = librosa.onset.onset_detect(y=audio, sr=sr)"
      ],
      "metadata": {
        "id": "q-sJqh4tLpuO"
      },
      "execution_count": 6,
      "outputs": []
    },
    {
      "cell_type": "markdown",
      "source": [
        "# Helpers"
      ],
      "metadata": {
        "id": "skpJUmotRSsv"
      }
    },
    {
      "cell_type": "code",
      "source": [
        "def load_tsv(filename):\n",
        "    output = []\n",
        "    with open(filename) as inf:\n",
        "        for line in inf.readlines():\n",
        "            parts = line.strip().split(\"\\t\")\n",
        "            output.append((float(parts[0]), float(parts[1]), parts[2]))\n",
        "    return output"
      ],
      "metadata": {
        "id": "JkwHIJKNLOnV"
      },
      "execution_count": 7,
      "outputs": []
    },
    {
      "cell_type": "code",
      "source": [
        "def get_detdem(tsvish):\n",
        "    determiners = [\"this\", \"that\", \"these\", \"those\"]\n",
        "\n",
        "    output = []\n",
        "    for part in tsvish:\n",
        "        if part[2] in determiners:\n",
        "            output.append(part)\n",
        "    return output"
      ],
      "metadata": {
        "id": "DiYiNmQNNkyW"
      },
      "execution_count": 8,
      "outputs": []
    },
    {
      "cell_type": "markdown",
      "source": [
        "# TSV data"
      ],
      "metadata": {
        "id": "UMwZPtbvRaS7"
      }
    },
    {
      "cell_type": "code",
      "source": [
        "tsvcontent = load_tsv(\"/content/spkslt_98.tsv\")"
      ],
      "metadata": {
        "id": "6iRNJZ1VNa-n"
      },
      "execution_count": 9,
      "outputs": []
    },
    {
      "cell_type": "code",
      "source": [
        "get_detdem(tsvcontent)"
      ],
      "metadata": {
        "colab": {
          "base_uri": "https://localhost:8080/"
        },
        "id": "i8kHqgR8ODME",
        "outputId": "1f8a38de-8952-4db6-ffc8-6083f7cf9cb2"
      },
      "execution_count": 10,
      "outputs": [
        {
          "output_type": "execute_result",
          "data": {
            "text/plain": [
              "[(0.78, 1.04, 'this'), (4.84, 5.05, 'that'), (21.58, 21.97, 'this')]"
            ]
          },
          "metadata": {},
          "execution_count": 10
        }
      ]
    },
    {
      "cell_type": "code",
      "source": [
        "detdem = get_detdem(tsvcontent)"
      ],
      "metadata": {
        "id": "HkqUrAt7ORzM"
      },
      "execution_count": 11,
      "outputs": []
    },
    {
      "cell_type": "code",
      "source": [
        "starts = np.array([x[0] for x in detdem])"
      ],
      "metadata": {
        "id": "nzeuJE_OOh7z"
      },
      "execution_count": 12,
      "outputs": []
    },
    {
      "cell_type": "code",
      "source": [
        "ends = np.array([x[1] for x in detdem])"
      ],
      "metadata": {
        "id": "sXTj50irOrlP"
      },
      "execution_count": 13,
      "outputs": []
    },
    {
      "cell_type": "code",
      "source": [
        "detdem"
      ],
      "metadata": {
        "colab": {
          "base_uri": "https://localhost:8080/"
        },
        "id": "rCtDnSAaW6V8",
        "outputId": "4a2ef900-0a11-4823-804b-1f377d5a9ad4"
      },
      "execution_count": 14,
      "outputs": [
        {
          "output_type": "execute_result",
          "data": {
            "text/plain": [
              "[(0.78, 1.04, 'this'), (4.84, 5.05, 'that'), (21.58, 21.97, 'this')]"
            ]
          },
          "metadata": {},
          "execution_count": 14
        }
      ]
    },
    {
      "cell_type": "markdown",
      "source": [
        "# Frames vs. times"
      ],
      "metadata": {
        "id": "WgeJi6ELRA5e"
      }
    },
    {
      "cell_type": "code",
      "source": [
        "!ffprobe -i {WAVFILE} 2>&1|grep Duration"
      ],
      "metadata": {
        "colab": {
          "base_uri": "https://localhost:8080/"
        },
        "id": "MsoreodpPrAj",
        "outputId": "2da7b46b-8fe4-4989-a551-1fabb30e8e6d"
      },
      "execution_count": 15,
      "outputs": [
        {
          "output_type": "stream",
          "name": "stdout",
          "text": [
            "  Duration: 00:00:27.44, bitrate: 1058 kb/s\n"
          ]
        }
      ]
    },
    {
      "cell_type": "code",
      "source": [
        "librosa.time_to_frames(np.array([0.0, 24.62, 27.44]), sr=sr)"
      ],
      "metadata": {
        "colab": {
          "base_uri": "https://localhost:8080/"
        },
        "id": "bvEgGiOmQnrE",
        "outputId": "3edf305b-8a0c-4155-a0e0-5549bce531d4"
      },
      "execution_count": 16,
      "outputs": [
        {
          "output_type": "execute_result",
          "data": {
            "text/plain": [
              "array([   0, 1060, 1181])"
            ]
          },
          "metadata": {},
          "execution_count": 16
        }
      ]
    },
    {
      "cell_type": "code",
      "source": [
        "len(f0)"
      ],
      "metadata": {
        "colab": {
          "base_uri": "https://localhost:8080/"
        },
        "id": "i4Mj_gKpQ1WG",
        "outputId": "a900aea6-9e7e-47a4-a238-e02397073ebd"
      },
      "execution_count": 17,
      "outputs": [
        {
          "output_type": "execute_result",
          "data": {
            "text/plain": [
              "1182"
            ]
          },
          "metadata": {},
          "execution_count": 17
        }
      ]
    },
    {
      "cell_type": "markdown",
      "source": [
        "# New Section"
      ],
      "metadata": {
        "id": "AgbRDLK4Rpo1"
      }
    },
    {
      "cell_type": "code",
      "source": [
        "frstarts = librosa.time_to_frames(starts, sr=sr)"
      ],
      "metadata": {
        "id": "Op0eImkiOvqa"
      },
      "execution_count": 18,
      "outputs": []
    },
    {
      "cell_type": "code",
      "source": [
        "frends = librosa.time_to_frames(ends, sr=sr)"
      ],
      "metadata": {
        "id": "EnPr-qMkO22G"
      },
      "execution_count": 19,
      "outputs": []
    },
    {
      "cell_type": "code",
      "source": [
        "frstarts, frends"
      ],
      "metadata": {
        "colab": {
          "base_uri": "https://localhost:8080/"
        },
        "id": "1N_pGB4CPBYx",
        "outputId": "7628a5ac-6e48-4959-a2f0-28b9c2079620"
      },
      "execution_count": 20,
      "outputs": [
        {
          "output_type": "execute_result",
          "data": {
            "text/plain": [
              "(array([ 33, 208, 929]), array([ 44, 217, 946]))"
            ]
          },
          "metadata": {},
          "execution_count": 20
        }
      ]
    },
    {
      "cell_type": "code",
      "source": [
        "for z in zip(frstarts, frends):\n",
        "    print(np.nanmean(f0[z[0]:z[1]]))"
      ],
      "metadata": {
        "colab": {
          "base_uri": "https://localhost:8080/"
        },
        "id": "vHhZtmPjR4BQ",
        "outputId": "576b4681-ed52-47cd-84e0-bc6b157111c9"
      },
      "execution_count": 21,
      "outputs": [
        {
          "output_type": "stream",
          "name": "stdout",
          "text": [
            "193.80076757544543\n",
            "172.74165512508745\n",
            "201.8456084757203\n"
          ]
        }
      ]
    }
  ]
}