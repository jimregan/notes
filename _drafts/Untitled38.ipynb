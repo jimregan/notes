{
  "cells": [
    {
      "cell_type": "markdown",
      "metadata": {},
      "source": [
        "# \"Match a determiner with F0\"\n",
        "\n",
        "> \"Towards picking the most prominent using mean F0\"\n",
        "\n",
        "- toc: false\n",
        "- branch: master\n",
        "- hidden: true\n",
        "- categories: [pyin, f0, determiners]"
      ]
    },
    {
      "cell_type": "code",
      "execution_count": 1,
      "metadata": {
        "id": "Ddz5IzJoJ1OT"
      },
      "outputs": [],
      "source": [
        "import librosa"
      ]
    },
    {
      "cell_type": "code",
      "execution_count": 2,
      "metadata": {
        "id": "pB4M0ixtOopt"
      },
      "outputs": [],
      "source": [
        "import numpy as np"
      ]
    },
    {
      "cell_type": "code",
      "execution_count": 3,
      "metadata": {
        "id": "sIsK585DKpuP"
      },
      "outputs": [],
      "source": [
        "WAVFILE = \"/content/spkslt_98.wav\""
      ]
    },
    {
      "cell_type": "code",
      "execution_count": 4,
      "metadata": {
        "id": "4yIxKaVKKtXm"
      },
      "outputs": [],
      "source": [
        "audio, sr = librosa.load(WAVFILE)"
      ]
    },
    {
      "cell_type": "code",
      "execution_count": 5,
      "metadata": {
        "id": "e4rZDUHALAXK"
      },
      "outputs": [],
      "source": [
        "f0, voiced_flag, voiced_probs = librosa.pyin(y=audio,\n",
        "                                             fmin=librosa.note_to_hz('C2'),\n",
        "                                             fmax=librosa.note_to_hz('C7'),\n",
        "                                             pad_mode='constant',\n",
        "                                             n_thresholds = 10,\n",
        "                                             max_transition_rate = 100,\n",
        "                                             sr=sr)"
      ]
    },
    {
      "cell_type": "code",
      "execution_count": 6,
      "metadata": {
        "id": "q-sJqh4tLpuO"
      },
      "outputs": [],
      "source": [
        "onsets = librosa.onset.onset_detect(y=audio, sr=sr)"
      ]
    },
    {
      "cell_type": "markdown",
      "metadata": {
        "id": "skpJUmotRSsv"
      },
      "source": [
        "# Helpers"
      ]
    },
    {
      "cell_type": "code",
      "execution_count": 7,
      "metadata": {
        "id": "JkwHIJKNLOnV"
      },
      "outputs": [],
      "source": [
        "def load_tsv(filename):\n",
        "    output = []\n",
        "    with open(filename) as inf:\n",
        "        for line in inf.readlines():\n",
        "            parts = line.strip().split(\"\\t\")\n",
        "            output.append((float(parts[0]), float(parts[1]), parts[2]))\n",
        "    return output"
      ]
    },
    {
      "cell_type": "code",
      "execution_count": 8,
      "metadata": {
        "id": "DiYiNmQNNkyW"
      },
      "outputs": [],
      "source": [
        "def get_detdem(tsvish):\n",
        "    determiners = [\"this\", \"that\", \"these\", \"those\"]\n",
        "\n",
        "    output = []\n",
        "    for part in tsvish:\n",
        "        if part[2] in determiners:\n",
        "            output.append(part)\n",
        "    return output"
      ]
    },
    {
      "cell_type": "markdown",
      "metadata": {
        "id": "UMwZPtbvRaS7"
      },
      "source": [
        "# TSV data"
      ]
    },
    {
      "cell_type": "code",
      "execution_count": 9,
      "metadata": {
        "id": "6iRNJZ1VNa-n"
      },
      "outputs": [],
      "source": [
        "tsvcontent = load_tsv(\"/content/spkslt_98.tsv\")"
      ]
    },
    {
      "cell_type": "code",
      "execution_count": 10,
      "metadata": {
        "colab": {
          "base_uri": "https://localhost:8080/"
        },
        "id": "i8kHqgR8ODME",
        "outputId": "1f8a38de-8952-4db6-ffc8-6083f7cf9cb2"
      },
      "outputs": [
        {
          "data": {
            "text/plain": [
              "[(0.78, 1.04, 'this'), (4.84, 5.05, 'that'), (21.58, 21.97, 'this')]"
            ]
          },
          "execution_count": 10,
          "metadata": {},
          "output_type": "execute_result"
        }
      ],
      "source": [
        "get_detdem(tsvcontent)"
      ]
    },
    {
      "cell_type": "code",
      "execution_count": 11,
      "metadata": {
        "id": "HkqUrAt7ORzM"
      },
      "outputs": [],
      "source": [
        "detdem = get_detdem(tsvcontent)"
      ]
    },
    {
      "cell_type": "code",
      "execution_count": 12,
      "metadata": {
        "id": "nzeuJE_OOh7z"
      },
      "outputs": [],
      "source": [
        "starts = np.array([x[0] for x in detdem])"
      ]
    },
    {
      "cell_type": "code",
      "execution_count": 13,
      "metadata": {
        "id": "sXTj50irOrlP"
      },
      "outputs": [],
      "source": [
        "ends = np.array([x[1] for x in detdem])"
      ]
    },
    {
      "cell_type": "code",
      "execution_count": 14,
      "metadata": {
        "colab": {
          "base_uri": "https://localhost:8080/"
        },
        "id": "rCtDnSAaW6V8",
        "outputId": "4a2ef900-0a11-4823-804b-1f377d5a9ad4"
      },
      "outputs": [
        {
          "data": {
            "text/plain": [
              "[(0.78, 1.04, 'this'), (4.84, 5.05, 'that'), (21.58, 21.97, 'this')]"
            ]
          },
          "execution_count": 14,
          "metadata": {},
          "output_type": "execute_result"
        }
      ],
      "source": [
        "detdem"
      ]
    },
    {
      "cell_type": "markdown",
      "metadata": {
        "id": "WgeJi6ELRA5e"
      },
      "source": [
        "# Frames vs. times"
      ]
    },
    {
      "cell_type": "code",
      "execution_count": 15,
      "metadata": {
        "colab": {
          "base_uri": "https://localhost:8080/"
        },
        "id": "MsoreodpPrAj",
        "outputId": "2da7b46b-8fe4-4989-a551-1fabb30e8e6d"
      },
      "outputs": [
        {
          "name": "stdout",
          "output_type": "stream",
          "text": [
            "  Duration: 00:00:27.44, bitrate: 1058 kb/s\n"
          ]
        }
      ],
      "source": [
        "!ffprobe -i {WAVFILE} 2>&1|grep Duration"
      ]
    },
    {
      "cell_type": "code",
      "execution_count": 16,
      "metadata": {
        "colab": {
          "base_uri": "https://localhost:8080/"
        },
        "id": "bvEgGiOmQnrE",
        "outputId": "3edf305b-8a0c-4155-a0e0-5549bce531d4"
      },
      "outputs": [
        {
          "data": {
            "text/plain": [
              "array([   0, 1060, 1181])"
            ]
          },
          "execution_count": 16,
          "metadata": {},
          "output_type": "execute_result"
        }
      ],
      "source": [
        "librosa.time_to_frames(np.array([0.0, 24.62, 27.44]), sr=sr)"
      ]
    },
    {
      "cell_type": "code",
      "execution_count": 17,
      "metadata": {
        "colab": {
          "base_uri": "https://localhost:8080/"
        },
        "id": "i4Mj_gKpQ1WG",
        "outputId": "a900aea6-9e7e-47a4-a238-e02397073ebd"
      },
      "outputs": [
        {
          "data": {
            "text/plain": [
              "1182"
            ]
          },
          "execution_count": 17,
          "metadata": {},
          "output_type": "execute_result"
        }
      ],
      "source": [
        "len(f0)"
      ]
    },
    {
      "cell_type": "markdown",
      "metadata": {
        "id": "AgbRDLK4Rpo1"
      },
      "source": [
        "# Frames"
      ]
    },
    {
      "cell_type": "code",
      "execution_count": 18,
      "metadata": {
        "id": "Op0eImkiOvqa"
      },
      "outputs": [],
      "source": [
        "frstarts = librosa.time_to_frames(starts, sr=sr)"
      ]
    },
    {
      "cell_type": "code",
      "execution_count": 19,
      "metadata": {
        "id": "EnPr-qMkO22G"
      },
      "outputs": [],
      "source": [
        "frends = librosa.time_to_frames(ends, sr=sr)"
      ]
    },
    {
      "cell_type": "code",
      "execution_count": 20,
      "metadata": {
        "colab": {
          "base_uri": "https://localhost:8080/"
        },
        "id": "1N_pGB4CPBYx",
        "outputId": "7628a5ac-6e48-4959-a2f0-28b9c2079620"
      },
      "outputs": [
        {
          "data": {
            "text/plain": [
              "(array([ 33, 208, 929]), array([ 44, 217, 946]))"
            ]
          },
          "execution_count": 20,
          "metadata": {},
          "output_type": "execute_result"
        }
      ],
      "source": [
        "frstarts, frends"
      ]
    },
    {
      "cell_type": "code",
      "execution_count": 21,
      "metadata": {
        "colab": {
          "base_uri": "https://localhost:8080/"
        },
        "id": "vHhZtmPjR4BQ",
        "outputId": "576b4681-ed52-47cd-84e0-bc6b157111c9"
      },
      "outputs": [
        {
          "name": "stdout",
          "output_type": "stream",
          "text": [
            "193.80076757544543\n",
            "172.74165512508745\n",
            "201.8456084757203\n"
          ]
        }
      ],
      "source": [
        "for z in zip(frstarts, frends):\n",
        "    print(np.nanmean(f0[z[0]:z[1]]))"
      ]
    }
  ],
  "metadata": {
    "colab": {
      "collapsed_sections": [
        "skpJUmotRSsv",
        "WgeJi6ELRA5e"
      ],
      "provenance": []
    },
    "kernelspec": {
      "display_name": "Python 3",
      "name": "python3"
    },
    "language_info": {
      "name": "python"
    }
  },
  "nbformat": 4,
  "nbformat_minor": 0
}
