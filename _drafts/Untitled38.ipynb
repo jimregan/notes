{
  "nbformat": 4,
  "nbformat_minor": 0,
  "metadata": {
    "colab": {
      "provenance": []
    },
    "kernelspec": {
      "name": "python3",
      "display_name": "Python 3"
    },
    "language_info": {
      "name": "python"
    }
  },
  "cells": [
    {
      "cell_type": "code",
      "execution_count": 1,
      "metadata": {
        "id": "Ddz5IzJoJ1OT"
      },
      "outputs": [],
      "source": [
        "import librosa"
      ]
    },
    {
      "cell_type": "code",
      "source": [
        "import numpy as np"
      ],
      "metadata": {
        "id": "pB4M0ixtOopt"
      },
      "execution_count": 27,
      "outputs": []
    },
    {
      "cell_type": "code",
      "source": [
        "WAVFILE = \"/content/spkslt_98.wav\""
      ],
      "metadata": {
        "id": "sIsK585DKpuP"
      },
      "execution_count": 2,
      "outputs": []
    },
    {
      "cell_type": "code",
      "source": [
        "audio, sr = librosa.load(WAVFILE)"
      ],
      "metadata": {
        "id": "4yIxKaVKKtXm"
      },
      "execution_count": 3,
      "outputs": []
    },
    {
      "cell_type": "code",
      "source": [
        "f0, voiced_flag, voiced_probs = librosa.pyin(y=audio,\n",
        "                                             fmin=librosa.note_to_hz('C2'),\n",
        "                                             fmax=librosa.note_to_hz('C7'),\n",
        "                                             pad_mode='constant',\n",
        "                                             n_thresholds = 10,\n",
        "                                             max_transition_rate = 100,\n",
        "                                             sr=sr)"
      ],
      "metadata": {
        "id": "e4rZDUHALAXK"
      },
      "execution_count": 10,
      "outputs": []
    },
    {
      "cell_type": "code",
      "source": [
        "onsets = librosa.onset.onset_detect(y=audio, sr=sr)"
      ],
      "metadata": {
        "id": "q-sJqh4tLpuO"
      },
      "execution_count": 24,
      "outputs": []
    },
    {
      "cell_type": "markdown",
      "source": [
        "# Helpers"
      ],
      "metadata": {
        "id": "skpJUmotRSsv"
      }
    },
    {
      "cell_type": "code",
      "source": [
        "def load_tsv(filename):\n",
        "    output = []\n",
        "    with open(filename) as inf:\n",
        "        for line in inf.readlines():\n",
        "            parts = line.strip().split(\"\\t\")\n",
        "            output.append((float(parts[0]), float(parts[1]), parts[2]))\n",
        "    return output"
      ],
      "metadata": {
        "id": "JkwHIJKNLOnV"
      },
      "execution_count": 19,
      "outputs": []
    },
    {
      "cell_type": "code",
      "source": [
        "def get_detdem(tsvish):\n",
        "    determiners = [\"this\", \"that\", \"these\", \"those\"]\n",
        "\n",
        "    output = []\n",
        "    for part in tsvish:\n",
        "        if part[2] in determiners:\n",
        "            output.append(part)\n",
        "    return output"
      ],
      "metadata": {
        "id": "DiYiNmQNNkyW"
      },
      "execution_count": 21,
      "outputs": []
    },
    {
      "cell_type": "markdown",
      "source": [
        "# TSV data"
      ],
      "metadata": {
        "id": "UMwZPtbvRaS7"
      }
    },
    {
      "cell_type": "code",
      "source": [
        "tsvcontent = load_tsv(\"/content/spkslt_98.tsv\")"
      ],
      "metadata": {
        "id": "6iRNJZ1VNa-n"
      },
      "execution_count": 22,
      "outputs": []
    },
    {
      "cell_type": "code",
      "source": [
        "get_detdem(tsvcontent)"
      ],
      "metadata": {
        "colab": {
          "base_uri": "https://localhost:8080/"
        },
        "id": "i8kHqgR8ODME",
        "outputId": "0fa22b09-00c0-4859-d62b-be303ba99273"
      },
      "execution_count": 23,
      "outputs": [
        {
          "output_type": "execute_result",
          "data": {
            "text/plain": [
              "[(0.78, 1.04, 'this'), (4.84, 5.05, 'that'), (21.58, 21.97, 'this')]"
            ]
          },
          "metadata": {},
          "execution_count": 23
        }
      ]
    },
    {
      "cell_type": "code",
      "source": [
        "detdem = get_detdem(tsvcontent)"
      ],
      "metadata": {
        "id": "HkqUrAt7ORzM"
      },
      "execution_count": 25,
      "outputs": []
    },
    {
      "cell_type": "code",
      "source": [
        "starts = np.array([x[0] for x in detdem])"
      ],
      "metadata": {
        "id": "nzeuJE_OOh7z"
      },
      "execution_count": 28,
      "outputs": []
    },
    {
      "cell_type": "code",
      "source": [
        "ends = np.array([x[1] for x in detdem])"
      ],
      "metadata": {
        "id": "sXTj50irOrlP"
      },
      "execution_count": 29,
      "outputs": []
    },
    {
      "cell_type": "code",
      "source": [
        "detdem"
      ],
      "metadata": {
        "colab": {
          "base_uri": "https://localhost:8080/"
        },
        "id": "rCtDnSAaW6V8",
        "outputId": "c81babdd-35b9-461d-eb6b-68200b85c5d3"
      },
      "execution_count": 64,
      "outputs": [
        {
          "output_type": "execute_result",
          "data": {
            "text/plain": [
              "[(0.78, 1.04, 'this'), (4.84, 5.05, 'that'), (21.58, 21.97, 'this')]"
            ]
          },
          "metadata": {},
          "execution_count": 64
        }
      ]
    },
    {
      "cell_type": "markdown",
      "source": [
        "# Frames vs. times"
      ],
      "metadata": {
        "id": "WgeJi6ELRA5e"
      }
    },
    {
      "cell_type": "code",
      "source": [
        "!ffprobe -i {WAVFILE} 2>&1|grep Duration"
      ],
      "metadata": {
        "colab": {
          "base_uri": "https://localhost:8080/"
        },
        "id": "MsoreodpPrAj",
        "outputId": "296f8d87-bc88-47a9-d03d-79b1713265cd"
      },
      "execution_count": 39,
      "outputs": [
        {
          "output_type": "stream",
          "name": "stdout",
          "text": [
            "  Duration: 00:00:27.44, bitrate: 1058 kb/s\n"
          ]
        }
      ]
    },
    {
      "cell_type": "code",
      "source": [
        "librosa.time_to_frames(np.array([0.0, 24.62, 27.44]), sr=sr)"
      ],
      "metadata": {
        "colab": {
          "base_uri": "https://localhost:8080/"
        },
        "id": "bvEgGiOmQnrE",
        "outputId": "297b6bd8-21dd-4dda-9b20-7b892480bf07"
      },
      "execution_count": 40,
      "outputs": [
        {
          "output_type": "execute_result",
          "data": {
            "text/plain": [
              "array([   0, 1060, 1181])"
            ]
          },
          "metadata": {},
          "execution_count": 40
        }
      ]
    },
    {
      "cell_type": "code",
      "source": [
        "len(f0)"
      ],
      "metadata": {
        "colab": {
          "base_uri": "https://localhost:8080/"
        },
        "id": "i4Mj_gKpQ1WG",
        "outputId": "d54234a8-d06d-4c89-ade0-71a153f12cae"
      },
      "execution_count": 41,
      "outputs": [
        {
          "output_type": "execute_result",
          "data": {
            "text/plain": [
              "1182"
            ]
          },
          "metadata": {},
          "execution_count": 41
        }
      ]
    },
    {
      "cell_type": "markdown",
      "source": [
        "# New Section"
      ],
      "metadata": {
        "id": "AgbRDLK4Rpo1"
      }
    },
    {
      "cell_type": "code",
      "source": [
        "frstarts = librosa.time_to_frames(starts, sr=sr)"
      ],
      "metadata": {
        "id": "Op0eImkiOvqa"
      },
      "execution_count": 30,
      "outputs": []
    },
    {
      "cell_type": "code",
      "source": [
        "frends = librosa.time_to_frames(ends, sr=sr)"
      ],
      "metadata": {
        "id": "EnPr-qMkO22G"
      },
      "execution_count": 32,
      "outputs": []
    },
    {
      "cell_type": "code",
      "source": [
        "frstarts, frends"
      ],
      "metadata": {
        "colab": {
          "base_uri": "https://localhost:8080/"
        },
        "id": "1N_pGB4CPBYx",
        "outputId": "995e3474-610a-45b6-b834-2478d83e0109"
      },
      "execution_count": 33,
      "outputs": [
        {
          "output_type": "execute_result",
          "data": {
            "text/plain": [
              "(array([ 33, 208, 929]), array([ 44, 217, 946]))"
            ]
          },
          "metadata": {},
          "execution_count": 33
        }
      ]
    },
    {
      "cell_type": "code",
      "source": [
        "for z in zip(frstarts, frends):\n",
        "    print(np.nanmean(f0[z[0]:z[1]]))"
      ],
      "metadata": {
        "colab": {
          "base_uri": "https://localhost:8080/"
        },
        "id": "vHhZtmPjR4BQ",
        "outputId": "785d6bbd-c91a-431a-ba2f-e35da99b0d63"
      },
      "execution_count": 48,
      "outputs": [
        {
          "output_type": "stream",
          "name": "stdout",
          "text": [
            "193.80076757544543\n",
            "172.74165512508745\n",
            "201.8456084757203\n"
          ]
        }
      ]
    },
    {
      "cell_type": "code",
      "source": [
        "%%capture\n",
        "%pip install pydub"
      ],
      "metadata": {
        "id": "gomEGEWpVQyS"
      },
      "execution_count": 50,
      "outputs": []
    },
    {
      "cell_type": "code",
      "source": [
        "from pydub import AudioSegment"
      ],
      "metadata": {
        "id": "MxP-pvE2Uq6D"
      },
      "execution_count": 51,
      "outputs": []
    },
    {
      "cell_type": "code",
      "source": [
        "seg = AudioSegment.from_wav(WAVFILE)"
      ],
      "metadata": {
        "id": "Ln42G9u3WG5u"
      },
      "execution_count": 58,
      "outputs": []
    },
    {
      "cell_type": "code",
      "source": [
        "pdframes = [(int(z[0] * 1000), int(z[1] * 1000)) for z in zip(starts, ends)]"
      ],
      "metadata": {
        "id": "_hNV3zKcVWlk"
      },
      "execution_count": 56,
      "outputs": []
    },
    {
      "cell_type": "code",
      "source": [
        "asegs = [seg[a[0]:a[1]] for a in pdframes]"
      ],
      "metadata": {
        "id": "n2TVozwTWBXT"
      },
      "execution_count": 59,
      "outputs": []
    },
    {
      "cell_type": "code",
      "source": [
        "[a for a in pdframes]"
      ],
      "metadata": {
        "colab": {
          "base_uri": "https://localhost:8080/"
        },
        "id": "ax1cqNTtWnjD",
        "outputId": "2d78737d-53bb-4b3a-9018-4cd987be758d"
      },
      "execution_count": 63,
      "outputs": [
        {
          "output_type": "execute_result",
          "data": {
            "text/plain": [
              "[(780, 1040), (4840, 5050), (21580, 21970)]"
            ]
          },
          "metadata": {},
          "execution_count": 63
        }
      ]
    },
    {
      "cell_type": "code",
      "source": [
        "asegs[0]"
      ],
      "metadata": {
        "colab": {
          "base_uri": "https://localhost:8080/",
          "height": 75
        },
        "id": "Se-Hv0dNWQaV",
        "outputId": "cc35fff0-49cc-4090-c8a8-9bd2daaff4f8"
      },
      "execution_count": 60,
      "outputs": [
        {
          "output_type": "execute_result",
          "data": {
            "text/plain": [
              "<pydub.audio_segment.AudioSegment at 0x7bcc7545b250>"
            ],
            "text/html": [
              "\n",
              "                    <audio controls>\n",
              "                        <source src=\"data:audio/mpeg;base64,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\" type=\"audio/mpeg\"/>\n",
              "                        Your browser does not support the audio element.\n",
              "                    </audio>\n",
              "                  "
            ]
          },
          "metadata": {},
          "execution_count": 60
        }
      ]
    },
    {
      "cell_type": "code",
      "source": [
        "asegs[1]"
      ],
      "metadata": {
        "colab": {
          "base_uri": "https://localhost:8080/",
          "height": 75
        },
        "id": "Si3MmtDzWR9G",
        "outputId": "9f2ac12d-65df-4b2f-f17f-f826bffb9546"
      },
      "execution_count": 61,
      "outputs": [
        {
          "output_type": "execute_result",
          "data": {
            "text/plain": [
              "<pydub.audio_segment.AudioSegment at 0x7bcc7545bd00>"
            ],
            "text/html": [
              "\n",
              "                    <audio controls>\n",
              "                        <source src=\"data:audio/mpeg;base64,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\" type=\"audio/mpeg\"/>\n",
              "                        Your browser does not support the audio element.\n",
              "                    </audio>\n",
              "                  "
            ]
          },
          "metadata": {},
          "execution_count": 61
        }
      ]
    },
    {
      "cell_type": "code",
      "source": [
        "asegs[2]"
      ],
      "metadata": {
        "colab": {
          "base_uri": "https://localhost:8080/",
          "height": 75
        },
        "id": "rqL7M9YXWTVl",
        "outputId": "f1187d57-20f0-40a8-a5ad-a6735733ccfe"
      },
      "execution_count": 62,
      "outputs": [
        {
          "output_type": "execute_result",
          "data": {
            "text/plain": [
              "<pydub.audio_segment.AudioSegment at 0x7bcc75459120>"
            ],
            "text/html": [
              "\n",
              "                    <audio controls>\n",
              "                        <source src=\"data:audio/mpeg;base64,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\" type=\"audio/mpeg\"/>\n",
              "                        Your browser does not support the audio element.\n",
              "                    </audio>\n",
              "                  "
            ]
          },
          "metadata": {},
          "execution_count": 62
        }
      ]
    }
  ]
}