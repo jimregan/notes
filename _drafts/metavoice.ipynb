{
 "cells": [
  {
   "cell_type": "markdown",
   "metadata": {},
   "source": [
    "```bash\n",
    "curl https://www.cs.columbia.edu/~hgs/audio/harvard.html|grep '^<li>'|awk -F'[<>]' '{print $3}' > harvard.txt\n",
    "```"
   ]
  },
  {
   "cell_type": "markdown",
   "metadata": {},
   "source": [
    "```\n",
    ">>> with open(\"als3_mult.txt\", \"w\") as outf:                                    \n",
    "...     for id in range(2, 11):                                                 \n",
    "...             for line in harvard:                                            \n",
    "...                     wav_file = tts.synthesise(text=line, spk_ref_path=\"als3.mp3\")                                                                           \n",
    "...                     outf.write(f\"{id}\\t{wav_file}\\n\")\n",
    "```"
   ]
  },
  {
   "cell_type": "code",
   "execution_count": null,
   "metadata": {
    "vscode": {
     "languageId": "plaintext"
    }
   },
   "outputs": [],
   "source": [
    "from fam.llm.fast_inference import TTS\n",
    "\n",
    "tts = TTS()"
   ]
  },
  {
   "cell_type": "code",
   "execution_count": null,
   "metadata": {
    "vscode": {
     "languageId": "plaintext"
    }
   },
   "outputs": [],
   "source": [
    "with open(\"harvard.txt\") as harv:\n",
    "    for line in harv.readlines():\n",
    "            harvard.append(line.strip())"
   ]
  },
  {
   "cell_type": "code",
   "execution_count": null,
   "metadata": {
    "vscode": {
     "languageId": "plaintext"
    }
   },
   "outputs": [],
   "source": [
    "with open(\"park6_mult.txt\", \"w\") as outf:                                    \n",
    "    for id in range(1, 11):                                                 \n",
    "            for line in harvard:                                            \n",
    "                    wav_file = tts.synthesise(text=line, spk_ref_path=\"park6.mp3\")                                                                           \n",
    "                    outf.write(f\"{id}\\t{wav_file}\\n\")"
   ]
  },
  {
   "cell_type": "code",
   "execution_count": null,
   "metadata": {
    "vscode": {
     "languageId": "plaintext"
    }
   },
   "outputs": [],
   "source": [
    "with open(\"aut1_mult.txt\", \"w\") as outf:                                    \n",
    "    for id in range(1, 11):                                                 \n",
    "            for line in harvard:                                            \n",
    "                    wav_file = tts.synthesise(text=line, spk_ref_path=\"aut1.mp3\")                                                                           \n",
    "                    outf.write(f\"{id}\\t{wav_file}\\n\")"
   ]
  },
  {
   "cell_type": "code",
   "execution_count": null,
   "metadata": {
    "vscode": {
     "languageId": "plaintext"
    }
   },
   "outputs": [],
   "source": [
    "with open(\"park6_mult.txt\", \"w\") as outf:                                    \n",
    "    for id in range(1, 11):                                                 \n",
    "            for line in harvard:                                            \n",
    "                    wav_file = tts.synthesise(text=line, spk_ref_path=\"park6.mp3\")                                                                           \n",
    "                    outf.write(f\"{id}\\t{wav_file}\\n\")"
   ]
  }
 ],
 "metadata": {
  "language_info": {
   "name": "python"
  }
 },
 "nbformat": 4,
 "nbformat_minor": 2
}
