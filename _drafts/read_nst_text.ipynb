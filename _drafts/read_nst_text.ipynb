{
 "cells": [
  {
   "cell_type": "code",
   "execution_count": 8,
   "metadata": {},
   "outputs": [
    {
     "name": "stdout",
     "output_type": "stream",
     "text": [
      "Ignoring 5144 viktor hade skickat ut det innan novell sålde unixware till sco\n"
     ]
    }
   ],
   "source": [
    "IGNORE_SENT = [\n",
    "    \"stod man på torget kunde man se huset och det var ingen tvekan om att det dominerade sin omgivning och det rådde knappast heller något tvivel om att det förr i tiden hade väckt en hel del avund känslor som någon enstaka gång fortfarande kunde framkallas hos de äldre\",\n",
    "    \"viktor hade skickat ut det innan novell sålde unixware till sco\",\n",
    "    \"det gläder oss självklart\"\n",
    "]\n",
    "IGNORE_ID = [\n",
    "    \"4913\",\n",
    "]\n",
    "counter = 1\n",
    "\n",
    "with open(\"/tmp/raw_text\") as rt:\n",
    "        for line in rt.readlines():\n",
    "                line = line.strip()\n",
    "                if line in IGNORE_SENT:\n",
    "                        if f\"{counter:04d}\" in IGNORE_ID:\n",
    "                                print(\"Ignoring\", line_count, line)\n",
    "                                counter += 1\n",
    "                        continue\n",
    "                else:\n",
    "                        #print(counter, line)\n",
    "                        counter += 1"
   ]
  }
 ],
 "metadata": {
  "kernelspec": {
   "display_name": "base",
   "language": "python",
   "name": "python3"
  },
  "language_info": {
   "codemirror_mode": {
    "name": "ipython",
    "version": 3
   },
   "file_extension": ".py",
   "mimetype": "text/x-python",
   "name": "python",
   "nbconvert_exporter": "python",
   "pygments_lexer": "ipython3",
   "version": "3.9.7"
  },
  "orig_nbformat": 4,
  "vscode": {
   "interpreter": {
    "hash": "2603f07046c437130ee32ef9381ac7221f7902403001eace09f7e749adb599f7"
   }
  }
 },
 "nbformat": 4,
 "nbformat_minor": 2
}
