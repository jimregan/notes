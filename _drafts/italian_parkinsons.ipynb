{
 "cells": [
  {
   "cell_type": "code",
   "execution_count": 2,
   "metadata": {},
   "outputs": [],
   "source": [
    "from pathlib import Path"
   ]
  },
  {
   "cell_type": "code",
   "execution_count": 1,
   "metadata": {},
   "outputs": [],
   "source": [
    "import pandas as pd"
   ]
  },
  {
   "cell_type": "code",
   "execution_count": 24,
   "metadata": {},
   "outputs": [],
   "source": [
    "file1 = '/Users/joregan/Downloads/Tab 3.xlsx'\n",
    "file2 = '/Users/joregan/Downloads/TAB 5.xlsx'\n",
    "file3 = '/Users/joregan/Downloads/15 YHC.xlsx'"
   ]
  },
  {
   "cell_type": "code",
   "execution_count": 5,
   "metadata": {},
   "outputs": [
    {
     "name": "stdout",
     "output_type": "stream",
     "text": [
      "Collecting openpyxl\n",
      "  Using cached openpyxl-3.1.2-py2.py3-none-any.whl (249 kB)\n",
      "Collecting et-xmlfile\n",
      "  Using cached et_xmlfile-1.1.0-py3-none-any.whl (4.7 kB)\n",
      "Installing collected packages: et-xmlfile, openpyxl\n",
      "Successfully installed et-xmlfile-1.1.0 openpyxl-3.1.2\n"
     ]
    }
   ],
   "source": [
    "!pip install openpyxl"
   ]
  },
  {
   "cell_type": "code",
   "execution_count": 25,
   "metadata": {},
   "outputs": [],
   "source": [
    "pd1 = pd.read_excel(file1)\n",
    "pd2 = pd.read_excel(file2)\n",
    "pd3 = pd.read_excel(file3)"
   ]
  },
  {
   "cell_type": "code",
   "execution_count": 26,
   "metadata": {},
   "outputs": [],
   "source": [
    "def is_skippable(columns):\n",
    "    return 'TEXT 1^READING' in columns or 'TEXT 1^ READING' in columns"
   ]
  },
  {
   "cell_type": "code",
   "execution_count": 30,
   "metadata": {},
   "outputs": [],
   "source": [
    "# https://stackoverflow.com/questions/31328861/replacing-header-with-top-row\n",
    "def replace_header(df):\n",
    "    new_header = df.iloc[0]\n",
    "    new_df = df[1:]\n",
    "    new_df.columns = new_header\n",
    "    return new_df"
   ]
  },
  {
   "cell_type": "code",
   "execution_count": 74,
   "metadata": {},
   "outputs": [],
   "source": [
    "def clean_names(df):\n",
    "    df1 = df.astype({\"name\": str, \"surname\": str})\n",
    "    df1['name'] = [w.replace(\"*\", \"\") for w in df1['name']]\n",
    "    df1['surname'] = [w.replace(\"*\", \"\") for w in df1['surname']]\n",
    "    return df1"
   ]
  },
  {
   "cell_type": "code",
   "execution_count": 77,
   "metadata": {},
   "outputs": [],
   "source": [
    "def clean_excel(df):\n",
    "    if is_skippable(df.columns):\n",
    "        df = replace_header(df)\n",
    "        df = clean_names(df)\n",
    "        df = df.loc[:, df.columns.notna()]\n",
    "        return df.notna()"
   ]
  }
 ],
 "metadata": {
  "kernelspec": {
   "display_name": "hf",
   "language": "python",
   "name": "python3"
  },
  "language_info": {
   "codemirror_mode": {
    "name": "ipython",
    "version": 3
   },
   "file_extension": ".py",
   "mimetype": "text/x-python",
   "name": "python",
   "nbconvert_exporter": "python",
   "pygments_lexer": "ipython3",
   "version": "3.9.15"
  }
 },
 "nbformat": 4,
 "nbformat_minor": 2
}
