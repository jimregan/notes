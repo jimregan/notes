{
 "cells": [
  {
   "cell_type": "code",
   "execution_count": 1,
   "id": "noted-article",
   "metadata": {
    "_cell_guid": "b1076dfc-b9ad-4769-8c92-a6c4dae69d19",
    "_uuid": "8f2839f25d086af736a60e9eeb907d3b93b6e0e5",
    "execution": {
     "iopub.execute_input": "2021-05-07T07:32:55.805711Z",
     "iopub.status.busy": "2021-05-07T07:32:55.805082Z",
     "iopub.status.idle": "2021-05-07T07:32:56.906578Z",
     "shell.execute_reply": "2021-05-07T07:32:56.905819Z"
    },
    "papermill": {
     "duration": 1.11203,
     "end_time": "2021-05-07T07:32:56.906791",
     "exception": false,
     "start_time": "2021-05-07T07:32:55.794761",
     "status": "completed"
    },
    "tags": []
   },
   "outputs": [],
   "source": [
    "!cp ../input/wolne-lektury-deepspeech/*.json ."
   ]
  },
  {
   "cell_type": "code",
   "execution_count": 2,
   "id": "valid-albuquerque",
   "metadata": {
    "execution": {
     "iopub.execute_input": "2021-05-07T07:32:56.924172Z",
     "iopub.status.busy": "2021-05-07T07:32:56.923003Z",
     "iopub.status.idle": "2021-05-07T07:33:11.864584Z",
     "shell.execute_reply": "2021-05-07T07:33:11.863879Z"
    },
    "papermill": {
     "duration": 14.953169,
     "end_time": "2021-05-07T07:33:11.864729",
     "exception": false,
     "start_time": "2021-05-07T07:32:56.911560",
     "status": "completed"
    },
    "tags": []
   },
   "outputs": [
    {
     "name": "stdout",
     "output_type": "stream",
     "text": [
      "Collecting deepspeech\r\n"
     ]
    },
    {
     "name": "stdout",
     "output_type": "stream",
     "text": [
      "  Downloading deepspeech-0.9.3-cp37-cp37m-manylinux1_x86_64.whl (9.2 MB)\r\n",
      "\u001b[?25l\r",
      "\u001b[K     |                                | 10 kB 22.1 MB/s eta 0:00:01\r",
      "\u001b[K     |                                | 20 kB 833 kB/s eta 0:00:12"
     ]
    },
    {
     "name": "stdout",
     "output_type": "stream",
     "text": [
      "\r",
      "\u001b[K     |                                | 30 kB 619 kB/s eta 0:00:15"
     ]
    },
    {
     "name": "stdout",
     "output_type": "stream",
     "text": [
      "\r",
      "\u001b[K     |▏                               | 40 kB 236 kB/s eta 0:00:39\r",
      "\u001b[K     |▏                               | 51 kB 294 kB/s eta 0:00:32\r",
      "\u001b[K     |▏                               | 61 kB 334 kB/s eta 0:00:28"
     ]
    },
    {
     "name": "stdout",
     "output_type": "stream",
     "text": [
      "\r",
      "\u001b[K     |▎                               | 71 kB 356 kB/s eta 0:00:26\r",
      "\u001b[K     |▎                               | 81 kB 377 kB/s eta 0:00:25\r",
      "\u001b[K     |▎                               | 92 kB 404 kB/s eta 0:00:23"
     ]
    },
    {
     "name": "stdout",
     "output_type": "stream",
     "text": [
      "\r",
      "\u001b[K     |▍                               | 102 kB 417 kB/s eta 0:00:22"
     ]
    },
    {
     "name": "stdout",
     "output_type": "stream",
     "text": [
      "\r",
      "\u001b[K     |▍                               | 112 kB 417 kB/s eta 0:00:22\r",
      "\u001b[K     |▍                               | 122 kB 417 kB/s eta 0:00:22\r",
      "\u001b[K     |▌                               | 133 kB 417 kB/s eta 0:00:22\r",
      "\u001b[K     |▌                               | 143 kB 417 kB/s eta 0:00:22\r",
      "\u001b[K     |▌                               | 153 kB 417 kB/s eta 0:00:22"
     ]
    },
    {
     "name": "stdout",
     "output_type": "stream",
     "text": [
      "\r",
      "\u001b[K     |▋                               | 163 kB 417 kB/s eta 0:00:22\r",
      "\u001b[K     |▋                               | 174 kB 417 kB/s eta 0:00:22\r",
      "\u001b[K     |▋                               | 184 kB 417 kB/s eta 0:00:22\r",
      "\u001b[K     |▊                               | 194 kB 417 kB/s eta 0:00:22\r",
      "\u001b[K     |▊                               | 204 kB 417 kB/s eta 0:00:22\r",
      "\u001b[K     |▊                               | 215 kB 417 kB/s eta 0:00:22\r",
      "\u001b[K     |▉                               | 225 kB 417 kB/s eta 0:00:22\r",
      "\u001b[K     |▉                               | 235 kB 417 kB/s eta 0:00:22"
     ]
    },
    {
     "name": "stdout",
     "output_type": "stream",
     "text": [
      "\r",
      "\u001b[K     |▉                               | 245 kB 417 kB/s eta 0:00:22"
     ]
    },
    {
     "name": "stdout",
     "output_type": "stream",
     "text": [
      "\r",
      "\u001b[K     |▉                               | 256 kB 417 kB/s eta 0:00:22\r",
      "\u001b[K     |█                               | 266 kB 417 kB/s eta 0:00:22\r",
      "\u001b[K     |█                               | 276 kB 417 kB/s eta 0:00:22\r",
      "\u001b[K     |█                               | 286 kB 417 kB/s eta 0:00:22\r",
      "\u001b[K     |█                               | 296 kB 417 kB/s eta 0:00:22"
     ]
    },
    {
     "name": "stdout",
     "output_type": "stream",
     "text": [
      "\r",
      "\u001b[K     |█                               | 307 kB 417 kB/s eta 0:00:22\r",
      "\u001b[K     |█                               | 317 kB 417 kB/s eta 0:00:22\r",
      "\u001b[K     |█▏                              | 327 kB 417 kB/s eta 0:00:22\r",
      "\u001b[K     |█▏                              | 337 kB 417 kB/s eta 0:00:22\r",
      "\u001b[K     |█▏                              | 348 kB 417 kB/s eta 0:00:22\r",
      "\u001b[K     |█▎                              | 358 kB 417 kB/s eta 0:00:22\r",
      "\u001b[K     |█▎                              | 368 kB 417 kB/s eta 0:00:22\r",
      "\u001b[K     |█▎                              | 378 kB 417 kB/s eta 0:00:22\r",
      "\u001b[K     |█▍                              | 389 kB 417 kB/s eta 0:00:22\r",
      "\u001b[K     |█▍                              | 399 kB 417 kB/s eta 0:00:22\r",
      "\u001b[K     |█▍                              | 409 kB 417 kB/s eta 0:00:22"
     ]
    },
    {
     "name": "stdout",
     "output_type": "stream",
     "text": [
      "\r",
      "\u001b[K     |█▌                              | 419 kB 417 kB/s eta 0:00:22\r",
      "\u001b[K     |█▌                              | 430 kB 417 kB/s eta 0:00:22\r",
      "\u001b[K     |█▌                              | 440 kB 417 kB/s eta 0:00:22\r",
      "\u001b[K     |█▋                              | 450 kB 417 kB/s eta 0:00:21\r",
      "\u001b[K     |█▋                              | 460 kB 417 kB/s eta 0:00:21\r",
      "\u001b[K     |█▋                              | 471 kB 417 kB/s eta 0:00:21\r",
      "\u001b[K     |█▊                              | 481 kB 417 kB/s eta 0:00:21\r",
      "\u001b[K     |█▊                              | 491 kB 417 kB/s eta 0:00:21\r",
      "\u001b[K     |█▊                              | 501 kB 417 kB/s eta 0:00:21\r",
      "\u001b[K     |█▊                              | 512 kB 417 kB/s eta 0:00:21\r",
      "\u001b[K     |█▉                              | 522 kB 417 kB/s eta 0:00:21\r",
      "\u001b[K     |█▉                              | 532 kB 417 kB/s eta 0:00:21\r",
      "\u001b[K     |█▉                              | 542 kB 417 kB/s eta 0:00:21"
     ]
    },
    {
     "name": "stdout",
     "output_type": "stream",
     "text": [
      "\r",
      "\u001b[K     |██                              | 552 kB 417 kB/s eta 0:00:21\r",
      "\u001b[K     |██                              | 563 kB 417 kB/s eta 0:00:21"
     ]
    },
    {
     "name": "stdout",
     "output_type": "stream",
     "text": [
      "\r",
      "\u001b[K     |██                              | 573 kB 417 kB/s eta 0:00:21\r",
      "\u001b[K     |██                              | 583 kB 417 kB/s eta 0:00:21\r",
      "\u001b[K     |██                              | 593 kB 417 kB/s eta 0:00:21\r",
      "\u001b[K     |██                              | 604 kB 417 kB/s eta 0:00:21\r",
      "\u001b[K     |██▏                             | 614 kB 417 kB/s eta 0:00:21\r",
      "\u001b[K     |██▏                             | 624 kB 417 kB/s eta 0:00:21\r",
      "\u001b[K     |██▏                             | 634 kB 417 kB/s eta 0:00:21\r",
      "\u001b[K     |██▎                             | 645 kB 417 kB/s eta 0:00:21\r",
      "\u001b[K     |██▎                             | 655 kB 417 kB/s eta 0:00:21\r",
      "\u001b[K     |██▎                             | 665 kB 417 kB/s eta 0:00:21\r",
      "\u001b[K     |██▍                             | 675 kB 417 kB/s eta 0:00:21\r",
      "\u001b[K     |██▍                             | 686 kB 417 kB/s eta 0:00:21\r",
      "\u001b[K     |██▍                             | 696 kB 417 kB/s eta 0:00:21\r",
      "\u001b[K     |██▌                             | 706 kB 417 kB/s eta 0:00:21\r",
      "\u001b[K     |██▌                             | 716 kB 417 kB/s eta 0:00:21\r",
      "\u001b[K     |██▌                             | 727 kB 417 kB/s eta 0:00:21\r",
      "\u001b[K     |██▋                             | 737 kB 417 kB/s eta 0:00:21\r",
      "\u001b[K     |██▋                             | 747 kB 417 kB/s eta 0:00:21\r",
      "\u001b[K     |██▋                             | 757 kB 417 kB/s eta 0:00:21"
     ]
    },
    {
     "name": "stdout",
     "output_type": "stream",
     "text": [
      "\r",
      "\u001b[K     |██▋                             | 768 kB 417 kB/s eta 0:00:21\r",
      "\u001b[K     |██▊                             | 778 kB 417 kB/s eta 0:00:21\r",
      "\u001b[K     |██▊                             | 788 kB 417 kB/s eta 0:00:21\r",
      "\u001b[K     |██▊                             | 798 kB 417 kB/s eta 0:00:21\r",
      "\u001b[K     |██▉                             | 808 kB 417 kB/s eta 0:00:21\r",
      "\u001b[K     |██▉                             | 819 kB 417 kB/s eta 0:00:21\r",
      "\u001b[K     |██▉                             | 829 kB 417 kB/s eta 0:00:21\r",
      "\u001b[K     |███                             | 839 kB 417 kB/s eta 0:00:21\r",
      "\u001b[K     |███                             | 849 kB 417 kB/s eta 0:00:21\r",
      "\u001b[K     |███                             | 860 kB 417 kB/s eta 0:00:21\r",
      "\u001b[K     |███                             | 870 kB 417 kB/s eta 0:00:20\r",
      "\u001b[K     |███                             | 880 kB 417 kB/s eta 0:00:20\r",
      "\u001b[K     |███                             | 890 kB 417 kB/s eta 0:00:20\r",
      "\u001b[K     |███▏                            | 901 kB 417 kB/s eta 0:00:20\r",
      "\u001b[K     |███▏                            | 911 kB 417 kB/s eta 0:00:20\r",
      "\u001b[K     |███▏                            | 921 kB 417 kB/s eta 0:00:20\r",
      "\u001b[K     |███▎                            | 931 kB 417 kB/s eta 0:00:20\r",
      "\u001b[K     |███▎                            | 942 kB 417 kB/s eta 0:00:20\r",
      "\u001b[K     |███▎                            | 952 kB 417 kB/s eta 0:00:20\r",
      "\u001b[K     |███▍                            | 962 kB 417 kB/s eta 0:00:20\r",
      "\u001b[K     |███▍                            | 972 kB 417 kB/s eta 0:00:20\r",
      "\u001b[K     |███▍                            | 983 kB 417 kB/s eta 0:00:20"
     ]
    },
    {
     "name": "stdout",
     "output_type": "stream",
     "text": [
      "\r",
      "\u001b[K     |███▌                            | 993 kB 417 kB/s eta 0:00:20\r",
      "\u001b[K     |███▌                            | 1.0 MB 417 kB/s eta 0:00:20\r",
      "\u001b[K     |███▌                            | 1.0 MB 417 kB/s eta 0:00:20\r",
      "\u001b[K     |███▌                            | 1.0 MB 417 kB/s eta 0:00:20\r",
      "\u001b[K     |███▋                            | 1.0 MB 417 kB/s eta 0:00:20"
     ]
    },
    {
     "name": "stdout",
     "output_type": "stream",
     "text": [
      "\r",
      "\u001b[K     |███▋                            | 1.0 MB 417 kB/s eta 0:00:20\r",
      "\u001b[K     |███▋                            | 1.1 MB 417 kB/s eta 0:00:20\r",
      "\u001b[K     |███▊                            | 1.1 MB 417 kB/s eta 0:00:20\r",
      "\u001b[K     |███▊                            | 1.1 MB 417 kB/s eta 0:00:20\r",
      "\u001b[K     |███▊                            | 1.1 MB 417 kB/s eta 0:00:20\r",
      "\u001b[K     |███▉                            | 1.1 MB 417 kB/s eta 0:00:20\r",
      "\u001b[K     |███▉                            | 1.1 MB 417 kB/s eta 0:00:20\r",
      "\u001b[K     |███▉                            | 1.1 MB 417 kB/s eta 0:00:20\r",
      "\u001b[K     |████                            | 1.1 MB 417 kB/s eta 0:00:20\r",
      "\u001b[K     |████                            | 1.1 MB 417 kB/s eta 0:00:20\r",
      "\u001b[K     |████                            | 1.1 MB 417 kB/s eta 0:00:20\r",
      "\u001b[K     |████                            | 1.2 MB 417 kB/s eta 0:00:20\r",
      "\u001b[K     |████                            | 1.2 MB 417 kB/s eta 0:00:20"
     ]
    },
    {
     "name": "stdout",
     "output_type": "stream",
     "text": [
      "\r",
      "\u001b[K     |████                            | 1.2 MB 417 kB/s eta 0:00:20\r",
      "\u001b[K     |████▏                           | 1.2 MB 417 kB/s eta 0:00:20\r",
      "\u001b[K     |████▏                           | 1.2 MB 417 kB/s eta 0:00:20\r",
      "\u001b[K     |████▏                           | 1.2 MB 417 kB/s eta 0:00:20\r",
      "\u001b[K     |████▎                           | 1.2 MB 417 kB/s eta 0:00:20\r",
      "\u001b[K     |████▎                           | 1.2 MB 417 kB/s eta 0:00:20\r",
      "\u001b[K     |████▎                           | 1.2 MB 417 kB/s eta 0:00:20\r",
      "\u001b[K     |████▍                           | 1.2 MB 417 kB/s eta 0:00:20\r",
      "\u001b[K     |████▍                           | 1.3 MB 417 kB/s eta 0:00:20\r",
      "\u001b[K     |████▍                           | 1.3 MB 417 kB/s eta 0:00:20\r",
      "\u001b[K     |████▍                           | 1.3 MB 417 kB/s eta 0:00:19\r",
      "\u001b[K     |████▌                           | 1.3 MB 417 kB/s eta 0:00:19\r",
      "\u001b[K     |████▌                           | 1.3 MB 417 kB/s eta 0:00:19\r",
      "\u001b[K     |████▌                           | 1.3 MB 417 kB/s eta 0:00:19\r",
      "\u001b[K     |████▋                           | 1.3 MB 417 kB/s eta 0:00:19\r",
      "\u001b[K     |████▋                           | 1.3 MB 417 kB/s eta 0:00:19\r",
      "\u001b[K     |████▋                           | 1.3 MB 417 kB/s eta 0:00:19"
     ]
    },
    {
     "name": "stdout",
     "output_type": "stream",
     "text": [
      "\r",
      "\u001b[K     |████▊                           | 1.4 MB 417 kB/s eta 0:00:19\r",
      "\u001b[K     |████▊                           | 1.4 MB 417 kB/s eta 0:00:19\r",
      "\u001b[K     |████▊                           | 1.4 MB 417 kB/s eta 0:00:19\r",
      "\u001b[K     |████▉                           | 1.4 MB 417 kB/s eta 0:00:19\r",
      "\u001b[K     |████▉                           | 1.4 MB 417 kB/s eta 0:00:19\r",
      "\u001b[K     |████▉                           | 1.4 MB 417 kB/s eta 0:00:19\r",
      "\u001b[K     |█████                           | 1.4 MB 417 kB/s eta 0:00:19\r",
      "\u001b[K     |█████                           | 1.4 MB 417 kB/s eta 0:00:19\r",
      "\u001b[K     |█████                           | 1.4 MB 417 kB/s eta 0:00:19\r",
      "\u001b[K     |█████                           | 1.4 MB 417 kB/s eta 0:00:19\r",
      "\u001b[K     |█████                           | 1.5 MB 417 kB/s eta 0:00:19\r",
      "\u001b[K     |█████                           | 1.5 MB 417 kB/s eta 0:00:19\r",
      "\u001b[K     |█████▏                          | 1.5 MB 417 kB/s eta 0:00:19\r",
      "\u001b[K     |█████▏                          | 1.5 MB 417 kB/s eta 0:00:19\r",
      "\u001b[K     |█████▏                          | 1.5 MB 417 kB/s eta 0:00:19\r",
      "\u001b[K     |█████▎                          | 1.5 MB 417 kB/s eta 0:00:19"
     ]
    },
    {
     "name": "stdout",
     "output_type": "stream",
     "text": [
      "\r",
      "\u001b[K     |█████▎                          | 1.5 MB 417 kB/s eta 0:00:19\r",
      "\u001b[K     |█████▎                          | 1.5 MB 417 kB/s eta 0:00:19\r",
      "\u001b[K     |█████▎                          | 1.5 MB 417 kB/s eta 0:00:19\r",
      "\u001b[K     |█████▍                          | 1.5 MB 417 kB/s eta 0:00:19\r",
      "\u001b[K     |█████▍                          | 1.6 MB 417 kB/s eta 0:00:19\r",
      "\u001b[K     |█████▍                          | 1.6 MB 417 kB/s eta 0:00:19\r",
      "\u001b[K     |█████▌                          | 1.6 MB 417 kB/s eta 0:00:19\r",
      "\u001b[K     |█████▌                          | 1.6 MB 417 kB/s eta 0:00:19\r",
      "\u001b[K     |█████▌                          | 1.6 MB 417 kB/s eta 0:00:19\r",
      "\u001b[K     |█████▋                          | 1.6 MB 417 kB/s eta 0:00:19\r",
      "\u001b[K     |█████▋                          | 1.6 MB 417 kB/s eta 0:00:19\r",
      "\u001b[K     |█████▋                          | 1.6 MB 417 kB/s eta 0:00:19"
     ]
    },
    {
     "name": "stdout",
     "output_type": "stream",
     "text": [
      "\r",
      "\u001b[K     |█████▊                          | 1.6 MB 417 kB/s eta 0:00:19\r",
      "\u001b[K     |█████▊                          | 1.6 MB 417 kB/s eta 0:00:19\r",
      "\u001b[K     |█████▊                          | 1.7 MB 417 kB/s eta 0:00:19\r",
      "\u001b[K     |█████▉                          | 1.7 MB 417 kB/s eta 0:00:19\r",
      "\u001b[K     |█████▉                          | 1.7 MB 417 kB/s eta 0:00:19\r",
      "\u001b[K     |█████▉                          | 1.7 MB 417 kB/s eta 0:00:19\r",
      "\u001b[K     |██████                          | 1.7 MB 417 kB/s eta 0:00:18\r",
      "\u001b[K     |██████                          | 1.7 MB 417 kB/s eta 0:00:18\r",
      "\u001b[K     |██████                          | 1.7 MB 417 kB/s eta 0:00:18\r",
      "\u001b[K     |██████                          | 1.7 MB 417 kB/s eta 0:00:18\r",
      "\u001b[K     |██████                          | 1.7 MB 417 kB/s eta 0:00:18\r",
      "\u001b[K     |██████                          | 1.8 MB 417 kB/s eta 0:00:18\r",
      "\u001b[K     |██████▏                         | 1.8 MB 417 kB/s eta 0:00:18\r",
      "\u001b[K     |██████▏                         | 1.8 MB 417 kB/s eta 0:00:18\r",
      "\u001b[K     |██████▏                         | 1.8 MB 417 kB/s eta 0:00:18\r",
      "\u001b[K     |██████▏                         | 1.8 MB 417 kB/s eta 0:00:18\r",
      "\u001b[K     |██████▎                         | 1.8 MB 417 kB/s eta 0:00:18"
     ]
    },
    {
     "name": "stdout",
     "output_type": "stream",
     "text": [
      "\r",
      "\u001b[K     |██████▎                         | 1.8 MB 417 kB/s eta 0:00:18\r",
      "\u001b[K     |██████▎                         | 1.8 MB 417 kB/s eta 0:00:18\r",
      "\u001b[K     |██████▍                         | 1.8 MB 417 kB/s eta 0:00:18\r",
      "\u001b[K     |██████▍                         | 1.8 MB 417 kB/s eta 0:00:18\r",
      "\u001b[K     |██████▍                         | 1.9 MB 417 kB/s eta 0:00:18\r",
      "\u001b[K     |██████▌                         | 1.9 MB 417 kB/s eta 0:00:18\r",
      "\u001b[K     |██████▌                         | 1.9 MB 417 kB/s eta 0:00:18\r",
      "\u001b[K     |██████▌                         | 1.9 MB 417 kB/s eta 0:00:18\r",
      "\u001b[K     |██████▋                         | 1.9 MB 417 kB/s eta 0:00:18\r",
      "\u001b[K     |██████▋                         | 1.9 MB 417 kB/s eta 0:00:18\r",
      "\u001b[K     |██████▋                         | 1.9 MB 417 kB/s eta 0:00:18\r",
      "\u001b[K     |██████▊                         | 1.9 MB 417 kB/s eta 0:00:18\r",
      "\u001b[K     |██████▊                         | 1.9 MB 417 kB/s eta 0:00:18\r",
      "\u001b[K     |██████▊                         | 1.9 MB 417 kB/s eta 0:00:18\r",
      "\u001b[K     |██████▉                         | 2.0 MB 417 kB/s eta 0:00:18\r",
      "\u001b[K     |██████▉                         | 2.0 MB 417 kB/s eta 0:00:18\r",
      "\u001b[K     |██████▉                         | 2.0 MB 417 kB/s eta 0:00:18\r",
      "\u001b[K     |███████                         | 2.0 MB 417 kB/s eta 0:00:18"
     ]
    },
    {
     "name": "stdout",
     "output_type": "stream",
     "text": [
      "\r",
      "\u001b[K     |███████                         | 2.0 MB 417 kB/s eta 0:00:18\r",
      "\u001b[K     |███████                         | 2.0 MB 417 kB/s eta 0:00:18\r",
      "\u001b[K     |███████                         | 2.0 MB 417 kB/s eta 0:00:18\r",
      "\u001b[K     |███████                         | 2.0 MB 417 kB/s eta 0:00:18\r",
      "\u001b[K     |███████                         | 2.0 MB 417 kB/s eta 0:00:18\r",
      "\u001b[K     |███████                         | 2.0 MB 417 kB/s eta 0:00:18\r",
      "\u001b[K     |███████▏                        | 2.1 MB 417 kB/s eta 0:00:18\r",
      "\u001b[K     |███████▏                        | 2.1 MB 417 kB/s eta 0:00:18\r",
      "\u001b[K     |███████▏                        | 2.1 MB 417 kB/s eta 0:00:18\r",
      "\u001b[K     |███████▎                        | 2.1 MB 417 kB/s eta 0:00:18\r",
      "\u001b[K     |███████▎                        | 2.1 MB 417 kB/s eta 0:00:18\r",
      "\u001b[K     |███████▎                        | 2.1 MB 417 kB/s eta 0:00:18\r",
      "\u001b[K     |███████▍                        | 2.1 MB 417 kB/s eta 0:00:17"
     ]
    },
    {
     "name": "stdout",
     "output_type": "stream",
     "text": [
      "\r",
      "\u001b[K     |███████▍                        | 2.1 MB 417 kB/s eta 0:00:17\r",
      "\u001b[K     |███████▍                        | 2.1 MB 417 kB/s eta 0:00:17\r",
      "\u001b[K     |███████▌                        | 2.2 MB 417 kB/s eta 0:00:17\r",
      "\u001b[K     |███████▌                        | 2.2 MB 417 kB/s eta 0:00:17\r",
      "\u001b[K     |███████▌                        | 2.2 MB 417 kB/s eta 0:00:17\r",
      "\u001b[K     |███████▋                        | 2.2 MB 417 kB/s eta 0:00:17\r",
      "\u001b[K     |███████▋                        | 2.2 MB 417 kB/s eta 0:00:17\r",
      "\u001b[K     |███████▋                        | 2.2 MB 417 kB/s eta 0:00:17\r",
      "\u001b[K     |███████▊                        | 2.2 MB 417 kB/s eta 0:00:17\r",
      "\u001b[K     |███████▊                        | 2.2 MB 2.1 MB/s eta 0:00:04\r",
      "\u001b[K     |███████▊                        | 2.2 MB 2.1 MB/s eta 0:00:04\r",
      "\u001b[K     |███████▉                        | 2.2 MB 2.1 MB/s eta 0:00:04\r",
      "\u001b[K     |███████▉                        | 2.3 MB 2.1 MB/s eta 0:00:04\r",
      "\u001b[K     |███████▉                        | 2.3 MB 2.1 MB/s eta 0:00:04\r",
      "\u001b[K     |████████                        | 2.3 MB 2.1 MB/s eta 0:00:04\r",
      "\u001b[K     |████████                        | 2.3 MB 2.1 MB/s eta 0:00:04\r",
      "\u001b[K     |████████                        | 2.3 MB 2.1 MB/s eta 0:00:04"
     ]
    },
    {
     "name": "stdout",
     "output_type": "stream",
     "text": [
      "\r",
      "\u001b[K     |████████                        | 2.3 MB 2.1 MB/s eta 0:00:04\r",
      "\u001b[K     |████████                        | 2.3 MB 2.1 MB/s eta 0:00:04\r",
      "\u001b[K     |████████                        | 2.3 MB 2.1 MB/s eta 0:00:04\r",
      "\u001b[K     |████████                        | 2.3 MB 2.1 MB/s eta 0:00:04\r",
      "\u001b[K     |████████▏                       | 2.3 MB 2.1 MB/s eta 0:00:04\r",
      "\u001b[K     |████████▏                       | 2.4 MB 2.1 MB/s eta 0:00:04\r",
      "\u001b[K     |████████▏                       | 2.4 MB 2.1 MB/s eta 0:00:04\r",
      "\u001b[K     |████████▎                       | 2.4 MB 2.1 MB/s eta 0:00:04\r",
      "\u001b[K     |████████▎                       | 2.4 MB 2.1 MB/s eta 0:00:04\r",
      "\u001b[K     |████████▎                       | 2.4 MB 2.1 MB/s eta 0:00:04\r",
      "\u001b[K     |████████▍                       | 2.4 MB 2.1 MB/s eta 0:00:04\r",
      "\u001b[K     |████████▍                       | 2.4 MB 2.1 MB/s eta 0:00:04\r",
      "\u001b[K     |████████▍                       | 2.4 MB 2.1 MB/s eta 0:00:04\r",
      "\u001b[K     |████████▌                       | 2.4 MB 2.1 MB/s eta 0:00:04\r",
      "\u001b[K     |████████▌                       | 2.4 MB 2.1 MB/s eta 0:00:04\r",
      "\u001b[K     |████████▌                       | 2.5 MB 2.1 MB/s eta 0:00:04\r",
      "\u001b[K     |████████▋                       | 2.5 MB 2.1 MB/s eta 0:00:04\r",
      "\u001b[K     |████████▋                       | 2.5 MB 2.1 MB/s eta 0:00:04\r",
      "\u001b[K     |████████▋                       | 2.5 MB 2.1 MB/s eta 0:00:04"
     ]
    },
    {
     "name": "stdout",
     "output_type": "stream",
     "text": [
      "\r",
      "\u001b[K     |████████▊                       | 2.5 MB 2.1 MB/s eta 0:00:04\r",
      "\u001b[K     |████████▊                       | 2.5 MB 2.1 MB/s eta 0:00:04\r",
      "\u001b[K     |████████▊                       | 2.5 MB 2.1 MB/s eta 0:00:04\r",
      "\u001b[K     |████████▉                       | 2.5 MB 2.1 MB/s eta 0:00:04\r",
      "\u001b[K     |████████▉                       | 2.5 MB 2.1 MB/s eta 0:00:04\r",
      "\u001b[K     |████████▉                       | 2.5 MB 2.1 MB/s eta 0:00:04\r",
      "\u001b[K     |████████▉                       | 2.6 MB 2.1 MB/s eta 0:00:04\r",
      "\u001b[K     |█████████                       | 2.6 MB 2.1 MB/s eta 0:00:04\r",
      "\u001b[K     |█████████                       | 2.6 MB 2.1 MB/s eta 0:00:04\r",
      "\u001b[K     |█████████                       | 2.6 MB 2.1 MB/s eta 0:00:04\r",
      "\u001b[K     |█████████                       | 2.6 MB 2.1 MB/s eta 0:00:04\r",
      "\u001b[K     |█████████                       | 2.6 MB 2.1 MB/s eta 0:00:04\r",
      "\u001b[K     |█████████                       | 2.6 MB 2.1 MB/s eta 0:00:04\r",
      "\u001b[K     |█████████▏                      | 2.6 MB 2.1 MB/s eta 0:00:04\r",
      "\u001b[K     |█████████▏                      | 2.6 MB 2.1 MB/s eta 0:00:04\r",
      "\u001b[K     |█████████▏                      | 2.7 MB 2.1 MB/s eta 0:00:04\r",
      "\u001b[K     |█████████▎                      | 2.7 MB 2.1 MB/s eta 0:00:04\r",
      "\u001b[K     |█████████▎                      | 2.7 MB 2.1 MB/s eta 0:00:04\r",
      "\u001b[K     |█████████▎                      | 2.7 MB 2.1 MB/s eta 0:00:04"
     ]
    },
    {
     "name": "stdout",
     "output_type": "stream",
     "text": [
      "\r",
      "\u001b[K     |█████████▍                      | 2.7 MB 2.1 MB/s eta 0:00:04\r",
      "\u001b[K     |█████████▍                      | 2.7 MB 2.1 MB/s eta 0:00:04\r",
      "\u001b[K     |█████████▍                      | 2.7 MB 2.1 MB/s eta 0:00:04\r",
      "\u001b[K     |█████████▌                      | 2.7 MB 2.1 MB/s eta 0:00:04\r",
      "\u001b[K     |█████████▌                      | 2.7 MB 2.1 MB/s eta 0:00:04\r",
      "\u001b[K     |█████████▌                      | 2.7 MB 2.1 MB/s eta 0:00:04\r",
      "\u001b[K     |█████████▋                      | 2.8 MB 2.1 MB/s eta 0:00:04\r",
      "\u001b[K     |█████████▋                      | 2.8 MB 2.1 MB/s eta 0:00:04\r",
      "\u001b[K     |█████████▋                      | 2.8 MB 2.1 MB/s eta 0:00:04\r",
      "\u001b[K     |█████████▊                      | 2.8 MB 2.1 MB/s eta 0:00:04\r",
      "\u001b[K     |█████████▊                      | 2.8 MB 2.1 MB/s eta 0:00:04\r",
      "\u001b[K     |█████████▊                      | 2.8 MB 2.1 MB/s eta 0:00:04\r",
      "\u001b[K     |█████████▊                      | 2.8 MB 2.1 MB/s eta 0:00:04"
     ]
    },
    {
     "name": "stdout",
     "output_type": "stream",
     "text": [
      "\r",
      "\u001b[K     |█████████▉                      | 2.8 MB 2.1 MB/s eta 0:00:04\r",
      "\u001b[K     |█████████▉                      | 2.8 MB 2.1 MB/s eta 0:00:04\r",
      "\u001b[K     |█████████▉                      | 2.8 MB 2.1 MB/s eta 0:00:04\r",
      "\u001b[K     |██████████                      | 2.9 MB 2.1 MB/s eta 0:00:04\r",
      "\u001b[K     |██████████                      | 2.9 MB 2.1 MB/s eta 0:00:04\r",
      "\u001b[K     |██████████                      | 2.9 MB 2.1 MB/s eta 0:00:04\r",
      "\u001b[K     |██████████                      | 2.9 MB 2.1 MB/s eta 0:00:04\r",
      "\u001b[K     |██████████                      | 2.9 MB 2.1 MB/s eta 0:00:04\r",
      "\u001b[K     |██████████                      | 2.9 MB 2.1 MB/s eta 0:00:04\r",
      "\u001b[K     |██████████▏                     | 2.9 MB 2.1 MB/s eta 0:00:04\r",
      "\u001b[K     |██████████▏                     | 2.9 MB 2.1 MB/s eta 0:00:04\r",
      "\u001b[K     |██████████▏                     | 2.9 MB 2.1 MB/s eta 0:00:03\r",
      "\u001b[K     |██████████▎                     | 2.9 MB 2.1 MB/s eta 0:00:03\r",
      "\u001b[K     |██████████▎                     | 3.0 MB 2.1 MB/s eta 0:00:03\r",
      "\u001b[K     |██████████▎                     | 3.0 MB 2.1 MB/s eta 0:00:03\r",
      "\u001b[K     |██████████▍                     | 3.0 MB 2.1 MB/s eta 0:00:03\r",
      "\u001b[K     |██████████▍                     | 3.0 MB 2.1 MB/s eta 0:00:03\r",
      "\u001b[K     |██████████▍                     | 3.0 MB 2.1 MB/s eta 0:00:03\r",
      "\u001b[K     |██████████▌                     | 3.0 MB 2.1 MB/s eta 0:00:03\r",
      "\u001b[K     |██████████▌                     | 3.0 MB 2.1 MB/s eta 0:00:03"
     ]
    },
    {
     "name": "stdout",
     "output_type": "stream",
     "text": [
      "\r",
      "\u001b[K     |██████████▌                     | 3.0 MB 2.1 MB/s eta 0:00:03\r",
      "\u001b[K     |██████████▋                     | 3.0 MB 2.1 MB/s eta 0:00:03\r",
      "\u001b[K     |██████████▋                     | 3.1 MB 2.1 MB/s eta 0:00:03\r",
      "\u001b[K     |██████████▋                     | 3.1 MB 2.1 MB/s eta 0:00:03\r",
      "\u001b[K     |██████████▋                     | 3.1 MB 2.1 MB/s eta 0:00:03\r",
      "\u001b[K     |██████████▊                     | 3.1 MB 2.1 MB/s eta 0:00:03\r",
      "\u001b[K     |██████████▊                     | 3.1 MB 2.1 MB/s eta 0:00:03\r",
      "\u001b[K     |██████████▊                     | 3.1 MB 2.1 MB/s eta 0:00:03\r",
      "\u001b[K     |██████████▉                     | 3.1 MB 2.1 MB/s eta 0:00:03\r",
      "\u001b[K     |██████████▉                     | 3.1 MB 2.1 MB/s eta 0:00:03\r",
      "\u001b[K     |██████████▉                     | 3.1 MB 2.1 MB/s eta 0:00:03\r",
      "\u001b[K     |███████████                     | 3.1 MB 2.1 MB/s eta 0:00:03\r",
      "\u001b[K     |███████████                     | 3.2 MB 2.1 MB/s eta 0:00:03\r",
      "\u001b[K     |███████████                     | 3.2 MB 2.1 MB/s eta 0:00:03\r",
      "\u001b[K     |███████████                     | 3.2 MB 2.1 MB/s eta 0:00:03\r",
      "\u001b[K     |███████████                     | 3.2 MB 2.1 MB/s eta 0:00:03\r",
      "\u001b[K     |███████████                     | 3.2 MB 2.1 MB/s eta 0:00:03\r",
      "\u001b[K     |███████████▏                    | 3.2 MB 2.1 MB/s eta 0:00:03\r",
      "\u001b[K     |███████████▏                    | 3.2 MB 2.1 MB/s eta 0:00:03"
     ]
    },
    {
     "name": "stdout",
     "output_type": "stream",
     "text": [
      "\r",
      "\u001b[K     |███████████▏                    | 3.2 MB 2.1 MB/s eta 0:00:03\r",
      "\u001b[K     |███████████▎                    | 3.2 MB 2.1 MB/s eta 0:00:03\r",
      "\u001b[K     |███████████▎                    | 3.2 MB 2.1 MB/s eta 0:00:03\r",
      "\u001b[K     |███████████▎                    | 3.3 MB 2.1 MB/s eta 0:00:03\r",
      "\u001b[K     |███████████▍                    | 3.3 MB 2.1 MB/s eta 0:00:03\r",
      "\u001b[K     |███████████▍                    | 3.3 MB 2.1 MB/s eta 0:00:03\r",
      "\u001b[K     |███████████▍                    | 3.3 MB 2.1 MB/s eta 0:00:03\r",
      "\u001b[K     |███████████▌                    | 3.3 MB 2.1 MB/s eta 0:00:03\r",
      "\u001b[K     |███████████▌                    | 3.3 MB 2.1 MB/s eta 0:00:03\r",
      "\u001b[K     |███████████▌                    | 3.3 MB 2.1 MB/s eta 0:00:03\r",
      "\u001b[K     |███████████▌                    | 3.3 MB 2.1 MB/s eta 0:00:03\r",
      "\u001b[K     |███████████▋                    | 3.3 MB 2.1 MB/s eta 0:00:03\r",
      "\u001b[K     |███████████▋                    | 3.3 MB 2.1 MB/s eta 0:00:03\r",
      "\u001b[K     |███████████▋                    | 3.4 MB 2.1 MB/s eta 0:00:03"
     ]
    },
    {
     "name": "stdout",
     "output_type": "stream",
     "text": [
      "\r",
      "\u001b[K     |███████████▊                    | 3.4 MB 2.1 MB/s eta 0:00:03\r",
      "\u001b[K     |███████████▊                    | 3.4 MB 2.1 MB/s eta 0:00:03\r",
      "\u001b[K     |███████████▊                    | 3.4 MB 2.1 MB/s eta 0:00:03\r",
      "\u001b[K     |███████████▉                    | 3.4 MB 2.1 MB/s eta 0:00:03\r",
      "\u001b[K     |███████████▉                    | 3.4 MB 2.1 MB/s eta 0:00:03\r",
      "\u001b[K     |███████████▉                    | 3.4 MB 2.1 MB/s eta 0:00:03\r",
      "\u001b[K     |████████████                    | 3.4 MB 2.1 MB/s eta 0:00:03\r",
      "\u001b[K     |████████████                    | 3.4 MB 2.1 MB/s eta 0:00:03\r",
      "\u001b[K     |████████████                    | 3.5 MB 2.1 MB/s eta 0:00:03\r",
      "\u001b[K     |████████████                    | 3.5 MB 2.1 MB/s eta 0:00:03\r",
      "\u001b[K     |████████████                    | 3.5 MB 2.1 MB/s eta 0:00:03\r",
      "\u001b[K     |████████████                    | 3.5 MB 2.1 MB/s eta 0:00:03\r",
      "\u001b[K     |████████████▏                   | 3.5 MB 2.1 MB/s eta 0:00:03\r",
      "\u001b[K     |████████████▏                   | 3.5 MB 2.1 MB/s eta 0:00:03\r",
      "\u001b[K     |████████████▏                   | 3.5 MB 2.1 MB/s eta 0:00:03\r",
      "\u001b[K     |████████████▎                   | 3.5 MB 2.1 MB/s eta 0:00:03\r",
      "\u001b[K     |████████████▎                   | 3.5 MB 2.1 MB/s eta 0:00:03\r",
      "\u001b[K     |████████████▎                   | 3.5 MB 2.1 MB/s eta 0:00:03\r",
      "\u001b[K     |████████████▍                   | 3.6 MB 2.1 MB/s eta 0:00:03\r",
      "\u001b[K     |████████████▍                   | 3.6 MB 2.1 MB/s eta 0:00:03\r",
      "\u001b[K     |████████████▍                   | 3.6 MB 2.1 MB/s eta 0:00:03"
     ]
    },
    {
     "name": "stdout",
     "output_type": "stream",
     "text": [
      "\r",
      "\u001b[K     |████████████▍                   | 3.6 MB 2.1 MB/s eta 0:00:03\r",
      "\u001b[K     |████████████▌                   | 3.6 MB 2.1 MB/s eta 0:00:03\r",
      "\u001b[K     |████████████▌                   | 3.6 MB 2.1 MB/s eta 0:00:03\r",
      "\u001b[K     |████████████▌                   | 3.6 MB 2.1 MB/s eta 0:00:03\r",
      "\u001b[K     |████████████▋                   | 3.6 MB 2.1 MB/s eta 0:00:03\r",
      "\u001b[K     |████████████▋                   | 3.6 MB 2.1 MB/s eta 0:00:03\r",
      "\u001b[K     |████████████▋                   | 3.6 MB 2.1 MB/s eta 0:00:03\r",
      "\u001b[K     |████████████▊                   | 3.7 MB 2.1 MB/s eta 0:00:03\r",
      "\u001b[K     |████████████▊                   | 3.7 MB 2.1 MB/s eta 0:00:03\r",
      "\u001b[K     |████████████▊                   | 3.7 MB 2.1 MB/s eta 0:00:03\r",
      "\u001b[K     |████████████▉                   | 3.7 MB 2.1 MB/s eta 0:00:03\r",
      "\u001b[K     |████████████▉                   | 3.7 MB 2.1 MB/s eta 0:00:03\r",
      "\u001b[K     |████████████▉                   | 3.7 MB 2.1 MB/s eta 0:00:03\r",
      "\u001b[K     |█████████████                   | 3.7 MB 2.1 MB/s eta 0:00:03\r",
      "\u001b[K     |█████████████                   | 3.7 MB 2.1 MB/s eta 0:00:03\r",
      "\u001b[K     |█████████████                   | 3.7 MB 2.1 MB/s eta 0:00:03\r",
      "\u001b[K     |█████████████                   | 3.7 MB 2.1 MB/s eta 0:00:03\r",
      "\u001b[K     |█████████████                   | 3.8 MB 2.1 MB/s eta 0:00:03\r",
      "\u001b[K     |█████████████                   | 3.8 MB 2.1 MB/s eta 0:00:03\r",
      "\u001b[K"
     ]
    },
    {
     "name": "stdout",
     "output_type": "stream",
     "text": [
      "     |█████████████▏                  | 3.8 MB 2.1 MB/s eta 0:00:03\r",
      "\u001b[K     |█████████████▏                  | 3.8 MB 2.1 MB/s eta 0:00:03\r",
      "\u001b[K     |█████████████▏                  | 3.8 MB 2.1 MB/s eta 0:00:03\r",
      "\u001b[K     |█████████████▎                  | 3.8 MB 2.1 MB/s eta 0:00:03\r",
      "\u001b[K     |█████████████▎                  | 3.8 MB 2.1 MB/s eta 0:00:03\r",
      "\u001b[K     |█████████████▎                  | 3.8 MB 2.1 MB/s eta 0:00:03\r",
      "\u001b[K     |█████████████▎                  | 3.8 MB 2.1 MB/s eta 0:00:03\r",
      "\u001b[K     |█████████████▍                  | 3.9 MB 2.1 MB/s eta 0:00:03\r",
      "\u001b[K     |█████████████▍                  | 3.9 MB 2.1 MB/s eta 0:00:03\r",
      "\u001b[K     |█████████████▍                  | 3.9 MB 2.1 MB/s eta 0:00:03\r",
      "\u001b[K     |█████████████▌                  | 3.9 MB 2.1 MB/s eta 0:00:03\r",
      "\u001b[K     |█████████████▌                  | 3.9 MB 2.1 MB/s eta 0:00:03\r",
      "\u001b[K     |█████████████▌                  | 3.9 MB 2.1 MB/s eta 0:00:03\r",
      "\u001b[K     |█████████████▋                  | 3.9 MB 2.1 MB/s eta 0:00:03\r",
      "\u001b[K     |█████████████▋                  | 3.9 MB 2.1 MB/s eta 0:00:03\r",
      "\u001b[K     |█████████████▋                  | 3.9 MB 2.1 MB/s eta 0:00:03\r",
      "\u001b[K     |█████████████▊                  | 3.9 MB 2.1 MB/s eta 0:00:03\r",
      "\u001b[K     |█████████████▊                  | 4.0 MB 2.1 MB/s eta 0:00:03"
     ]
    },
    {
     "name": "stdout",
     "output_type": "stream",
     "text": [
      "\r",
      "\u001b[K     |█████████████▊                  | 4.0 MB 2.1 MB/s eta 0:00:03\r",
      "\u001b[K     |█████████████▉                  | 4.0 MB 2.1 MB/s eta 0:00:03\r",
      "\u001b[K     |█████████████▉                  | 4.0 MB 2.1 MB/s eta 0:00:03\r",
      "\u001b[K     |█████████████▉                  | 4.0 MB 2.1 MB/s eta 0:00:03\r",
      "\u001b[K     |██████████████                  | 4.0 MB 2.1 MB/s eta 0:00:03\r",
      "\u001b[K     |██████████████                  | 4.0 MB 2.1 MB/s eta 0:00:03\r",
      "\u001b[K     |██████████████                  | 4.0 MB 2.1 MB/s eta 0:00:03\r",
      "\u001b[K     |██████████████                  | 4.0 MB 2.1 MB/s eta 0:00:03\r",
      "\u001b[K     |██████████████                  | 4.0 MB 2.1 MB/s eta 0:00:03\r",
      "\u001b[K     |██████████████                  | 4.1 MB 2.1 MB/s eta 0:00:03\r",
      "\u001b[K     |██████████████▏                 | 4.1 MB 2.1 MB/s eta 0:00:03\r",
      "\u001b[K     |██████████████▏                 | 4.1 MB 2.1 MB/s eta 0:00:03\r",
      "\u001b[K     |██████████████▏                 | 4.1 MB 2.1 MB/s eta 0:00:03\r",
      "\u001b[K     |██████████████▏                 | 4.1 MB 2.1 MB/s eta 0:00:03\r",
      "\u001b[K     |██████████████▎                 | 4.1 MB 2.1 MB/s eta 0:00:03\r",
      "\u001b[K     |██████████████▎                 | 4.1 MB 2.1 MB/s eta 0:00:03\r",
      "\u001b[K     |██████████████▎                 | 4.1 MB 2.1 MB/s eta 0:00:03"
     ]
    },
    {
     "name": "stdout",
     "output_type": "stream",
     "text": [
      "\r",
      "\u001b[K     |██████████████▍                 | 4.1 MB 2.1 MB/s eta 0:00:03\r",
      "\u001b[K     |██████████████▍                 | 4.1 MB 2.1 MB/s eta 0:00:03\r",
      "\u001b[K     |██████████████▍                 | 4.2 MB 2.1 MB/s eta 0:00:03\r",
      "\u001b[K     |██████████████▌                 | 4.2 MB 2.1 MB/s eta 0:00:03\r",
      "\u001b[K     |██████████████▌                 | 4.2 MB 2.1 MB/s eta 0:00:03\r",
      "\u001b[K     |██████████████▌                 | 4.2 MB 2.1 MB/s eta 0:00:03\r",
      "\u001b[K     |██████████████▋                 | 4.2 MB 2.1 MB/s eta 0:00:03\r",
      "\u001b[K     |██████████████▋                 | 4.2 MB 2.1 MB/s eta 0:00:03\r",
      "\u001b[K     |██████████████▋                 | 4.2 MB 2.1 MB/s eta 0:00:03\r",
      "\u001b[K     |██████████████▊                 | 4.2 MB 2.1 MB/s eta 0:00:03\r",
      "\u001b[K     |██████████████▊                 | 4.2 MB 2.1 MB/s eta 0:00:03\r",
      "\u001b[K     |██████████████▊                 | 4.2 MB 2.1 MB/s eta 0:00:03\r",
      "\u001b[K     |██████████████▉                 | 4.3 MB 2.1 MB/s eta 0:00:03\r",
      "\u001b[K     |██████████████▉                 | 4.3 MB 2.1 MB/s eta 0:00:03\r",
      "\u001b[K     |██████████████▉                 | 4.3 MB 2.1 MB/s eta 0:00:03\r",
      "\u001b[K     |███████████████                 | 4.3 MB 2.1 MB/s eta 0:00:03\r",
      "\u001b[K     |███████████████                 | 4.3 MB 2.1 MB/s eta 0:00:03\r",
      "\u001b[K     |███████████████                 | 4.3 MB 2.1 MB/s eta 0:00:03\r",
      "\u001b[K     |███████████████                 | 4.3 MB 2.1 MB/s eta 0:00:03\r",
      "\u001b[K     |███████████████                 | 4.3 MB 2.1 MB/s eta 0:00:03\r",
      "\u001b[K     |███████████████                 | 4.3 MB 2.1 MB/s eta 0:00:03\r",
      "\u001b[K     |███████████████                 | 4.4 MB 2.1 MB/s eta 0:00:03"
     ]
    },
    {
     "name": "stdout",
     "output_type": "stream",
     "text": [
      "\r",
      "\u001b[K     |███████████████▏                | 4.4 MB 2.1 MB/s eta 0:00:03\r",
      "\u001b[K     |███████████████▏                | 4.4 MB 2.1 MB/s eta 0:00:03\r",
      "\u001b[K     |███████████████▏                | 4.4 MB 2.1 MB/s eta 0:00:03\r",
      "\u001b[K     |███████████████▎                | 4.4 MB 2.1 MB/s eta 0:00:03\r",
      "\u001b[K     |███████████████▎                | 4.4 MB 2.1 MB/s eta 0:00:03\r",
      "\u001b[K     |███████████████▎                | 4.4 MB 2.1 MB/s eta 0:00:03\r",
      "\u001b[K     |███████████████▍                | 4.4 MB 2.1 MB/s eta 0:00:03\r",
      "\u001b[K     |███████████████▍                | 4.4 MB 2.1 MB/s eta 0:00:03\r",
      "\u001b[K     |███████████████▍                | 4.4 MB 2.1 MB/s eta 0:00:03\r",
      "\u001b[K     |███████████████▌                | 4.5 MB 2.1 MB/s eta 0:00:03\r",
      "\u001b[K     |███████████████▌                | 4.5 MB 2.1 MB/s eta 0:00:03\r",
      "\u001b[K     |███████████████▌                | 4.5 MB 2.1 MB/s eta 0:00:03\r",
      "\u001b[K     |███████████████▋                | 4.5 MB 2.1 MB/s eta 0:00:03\r",
      "\u001b[K     |███████████████▋                | 4.5 MB 2.1 MB/s eta 0:00:03\r",
      "\u001b[K     |███████████████▋                | 4.5 MB 2.1 MB/s eta 0:00:03\r",
      "\u001b[K     |███████████████▊                | 4.5 MB 2.1 MB/s eta 0:00:03\r",
      "\u001b[K     |███████████████▊                | 4.5 MB 2.1 MB/s eta 0:00:03\r",
      "\u001b[K     |███████████████▊                | 4.5 MB 2.1 MB/s eta 0:00:03\r",
      "\u001b[K     |███████████████▉                | 4.5 MB 2.1 MB/s eta 0:00:03\r",
      "\u001b[K     |███████████████▉                | 4.6 MB 2.1 MB/s eta 0:00:03\r",
      "\u001b[K     |███████████████▉                | 4.6 MB 2.1 MB/s eta 0:00:03\r",
      "\u001b[K     |████████████████                | 4.6 MB 2.1 MB/s eta 0:00:03"
     ]
    },
    {
     "name": "stdout",
     "output_type": "stream",
     "text": [
      "\r",
      "\u001b[K     |████████████████                | 4.6 MB 2.1 MB/s eta 0:00:03\r",
      "\u001b[K     |████████████████                | 4.6 MB 2.1 MB/s eta 0:00:03\r",
      "\u001b[K     |████████████████                | 4.6 MB 2.1 MB/s eta 0:00:03\r",
      "\u001b[K     |████████████████                | 4.6 MB 2.1 MB/s eta 0:00:03\r",
      "\u001b[K     |████████████████                | 4.6 MB 2.1 MB/s eta 0:00:03\r",
      "\u001b[K     |████████████████                | 4.6 MB 2.1 MB/s eta 0:00:03\r",
      "\u001b[K     |████████████████▏               | 4.6 MB 2.1 MB/s eta 0:00:03\r",
      "\u001b[K     |████████████████▏               | 4.7 MB 2.1 MB/s eta 0:00:03\r",
      "\u001b[K     |████████████████▏               | 4.7 MB 2.1 MB/s eta 0:00:03\r",
      "\u001b[K     |████████████████▎               | 4.7 MB 2.1 MB/s eta 0:00:03\r",
      "\u001b[K     |████████████████▎               | 4.7 MB 2.1 MB/s eta 0:00:03\r",
      "\u001b[K     |████████████████▎               | 4.7 MB 2.1 MB/s eta 0:00:03\r",
      "\u001b[K     |████████████████▍               | 4.7 MB 2.1 MB/s eta 0:00:03\r",
      "\u001b[K     |████████████████▍               | 4.7 MB 2.1 MB/s eta 0:00:03\r",
      "\u001b[K     |████████████████▍               | 4.7 MB 2.1 MB/s eta 0:00:03"
     ]
    },
    {
     "name": "stdout",
     "output_type": "stream",
     "text": [
      "\r",
      "\u001b[K     |████████████████▌               | 4.7 MB 2.1 MB/s eta 0:00:03\r",
      "\u001b[K     |████████████████▌               | 4.8 MB 2.1 MB/s eta 0:00:03\r",
      "\u001b[K     |████████████████▌               | 4.8 MB 2.1 MB/s eta 0:00:03\r",
      "\u001b[K     |████████████████▋               | 4.8 MB 2.1 MB/s eta 0:00:03\r",
      "\u001b[K     |████████████████▋               | 4.8 MB 2.1 MB/s eta 0:00:03\r",
      "\u001b[K     |████████████████▋               | 4.8 MB 2.1 MB/s eta 0:00:03\r",
      "\u001b[K     |████████████████▊               | 4.8 MB 2.1 MB/s eta 0:00:03\r",
      "\u001b[K     |████████████████▊               | 4.8 MB 2.1 MB/s eta 0:00:03\r",
      "\u001b[K     |████████████████▊               | 4.8 MB 2.1 MB/s eta 0:00:03\r",
      "\u001b[K     |████████████████▉               | 4.8 MB 2.1 MB/s eta 0:00:03\r",
      "\u001b[K     |████████████████▉               | 4.8 MB 2.1 MB/s eta 0:00:03\r",
      "\u001b[K     |████████████████▉               | 4.9 MB 2.1 MB/s eta 0:00:03\r",
      "\u001b[K     |████████████████▉               | 4.9 MB 2.1 MB/s eta 0:00:03\r",
      "\u001b[K     |█████████████████               | 4.9 MB 2.1 MB/s eta 0:00:03\r",
      "\u001b[K     |█████████████████               | 4.9 MB 2.1 MB/s eta 0:00:03\r",
      "\u001b[K     |█████████████████               | 4.9 MB 2.1 MB/s eta 0:00:03\r",
      "\u001b[K     |█████████████████               | 4.9 MB 2.1 MB/s eta 0:00:03\r",
      "\u001b[K     |█████████████████               | 4.9 MB 2.1 MB/s eta 0:00:03\r",
      "\u001b[K     |█████████████████               | 4.9 MB 2.1 MB/s eta 0:00:03\r",
      "\u001b[K     |█████████████████▏              | 4.9 MB 2.1 MB/s eta 0:00:03\r",
      "\u001b[K     |█████████████████▏              | 4.9 MB 2.1 MB/s eta 0:00:03\r",
      "\u001b[K     |█████████████████▏              | 5.0 MB 2.1 MB/s eta 0:00:03"
     ]
    },
    {
     "name": "stdout",
     "output_type": "stream",
     "text": [
      "\r",
      "\u001b[K     |█████████████████▎              | 5.0 MB 2.1 MB/s eta 0:00:03\r",
      "\u001b[K     |█████████████████▎              | 5.0 MB 2.1 MB/s eta 0:00:03\r",
      "\u001b[K     |█████████████████▎              | 5.0 MB 2.1 MB/s eta 0:00:03\r",
      "\u001b[K     |█████████████████▍              | 5.0 MB 2.1 MB/s eta 0:00:03\r",
      "\u001b[K     |█████████████████▍              | 5.0 MB 2.1 MB/s eta 0:00:03\r",
      "\u001b[K     |█████████████████▍              | 5.0 MB 2.1 MB/s eta 0:00:03\r",
      "\u001b[K     |█████████████████▌              | 5.0 MB 2.1 MB/s eta 0:00:03\r",
      "\u001b[K     |█████████████████▌              | 5.0 MB 2.1 MB/s eta 0:00:02\r",
      "\u001b[K     |█████████████████▌              | 5.0 MB 2.1 MB/s eta 0:00:02\r",
      "\u001b[K     |█████████████████▋              | 5.1 MB 2.1 MB/s eta 0:00:02\r",
      "\u001b[K     |█████████████████▋              | 5.1 MB 2.1 MB/s eta 0:00:02\r",
      "\u001b[K     |█████████████████▋              | 5.1 MB 2.1 MB/s eta 0:00:02\r",
      "\u001b[K     |█████████████████▊              | 5.1 MB 2.1 MB/s eta 0:00:02\r",
      "\u001b[K     |█████████████████▊              | 5.1 MB 2.1 MB/s eta 0:00:02\r",
      "\u001b[K     |█████████████████▊              | 5.1 MB 2.1 MB/s eta 0:00:02\r",
      "\u001b[K     |█████████████████▊              | 5.1 MB 2.1 MB/s eta 0:00:02\r",
      "\u001b[K     |█████████████████▉              | 5.1 MB 2.1 MB/s eta 0:00:02\r",
      "\u001b[K     |█████████████████▉              | 5.1 MB 2.1 MB/s eta 0:00:02\r",
      "\u001b[K     |█████████████████▉              | 5.2 MB 2.1 MB/s eta 0:00:02\r",
      "\u001b[K     |██████████████████              | 5.2 MB 2.1 MB/s eta 0:00:02\r",
      "\u001b[K     |██████████████████              | 5.2 MB 2.1 MB/s eta 0:00:02\r",
      "\u001b[K     |██████████████████              | 5.2 MB 2.1 MB/s eta 0:00:02"
     ]
    },
    {
     "name": "stdout",
     "output_type": "stream",
     "text": [
      "\r",
      "\u001b[K     |██████████████████              | 5.2 MB 2.1 MB/s eta 0:00:02\r",
      "\u001b[K     |██████████████████              | 5.2 MB 2.1 MB/s eta 0:00:02\r",
      "\u001b[K     |██████████████████              | 5.2 MB 2.1 MB/s eta 0:00:02\r",
      "\u001b[K     |██████████████████▏             | 5.2 MB 2.1 MB/s eta 0:00:02\r",
      "\u001b[K     |██████████████████▏             | 5.2 MB 2.1 MB/s eta 0:00:02\r",
      "\u001b[K     |██████████████████▏             | 5.2 MB 2.1 MB/s eta 0:00:02\r",
      "\u001b[K     |██████████████████▎             | 5.3 MB 2.1 MB/s eta 0:00:02\r",
      "\u001b[K     |██████████████████▎             | 5.3 MB 2.1 MB/s eta 0:00:02\r",
      "\u001b[K     |██████████████████▎             | 5.3 MB 2.1 MB/s eta 0:00:02\r",
      "\u001b[K     |██████████████████▍             | 5.3 MB 2.1 MB/s eta 0:00:02\r",
      "\u001b[K     |██████████████████▍             | 5.3 MB 2.1 MB/s eta 0:00:02\r",
      "\u001b[K     |██████████████████▍             | 5.3 MB 2.1 MB/s eta 0:00:02\r",
      "\u001b[K     |██████████████████▌             | 5.3 MB 2.1 MB/s eta 0:00:02\r",
      "\u001b[K     |██████████████████▌             | 5.3 MB 2.1 MB/s eta 0:00:02\r",
      "\u001b[K     |██████████████████▌             | 5.3 MB 2.1 MB/s eta 0:00:02\r",
      "\u001b[K     |██████████████████▋             | 5.3 MB 2.1 MB/s eta 0:00:02"
     ]
    },
    {
     "name": "stdout",
     "output_type": "stream",
     "text": [
      "\r",
      "\u001b[K     |██████████████████▋             | 5.4 MB 2.1 MB/s eta 0:00:02\r",
      "\u001b[K     |██████████████████▋             | 5.4 MB 2.1 MB/s eta 0:00:02\r",
      "\u001b[K     |██████████████████▋             | 5.4 MB 2.1 MB/s eta 0:00:02\r",
      "\u001b[K     |██████████████████▊             | 5.4 MB 2.1 MB/s eta 0:00:02\r",
      "\u001b[K     |██████████████████▊             | 5.4 MB 2.1 MB/s eta 0:00:02\r",
      "\u001b[K     |██████████████████▊             | 5.4 MB 2.1 MB/s eta 0:00:02\r",
      "\u001b[K     |██████████████████▉             | 5.4 MB 2.1 MB/s eta 0:00:02\r",
      "\u001b[K     |██████████████████▉             | 5.4 MB 2.1 MB/s eta 0:00:02\r",
      "\u001b[K     |██████████████████▉             | 5.4 MB 2.1 MB/s eta 0:00:02\r",
      "\u001b[K     |███████████████████             | 5.4 MB 2.1 MB/s eta 0:00:02\r",
      "\u001b[K     |███████████████████             | 5.5 MB 2.1 MB/s eta 0:00:02\r",
      "\u001b[K     |███████████████████             | 5.5 MB 2.1 MB/s eta 0:00:02\r",
      "\u001b[K     |███████████████████             | 5.5 MB 2.1 MB/s eta 0:00:02\r",
      "\u001b[K     |███████████████████             | 5.5 MB 2.1 MB/s eta 0:00:02\r",
      "\u001b[K     |███████████████████             | 5.5 MB 2.1 MB/s eta 0:00:02\r",
      "\u001b[K     |███████████████████▏            | 5.5 MB 2.1 MB/s eta 0:00:02\r",
      "\u001b[K     |███████████████████▏            | 5.5 MB 2.1 MB/s eta 0:00:02\r",
      "\u001b[K     |███████████████████▏            | 5.5 MB 2.1 MB/s eta 0:00:02\r",
      "\u001b[K     |███████████████████▎            | 5.5 MB 2.1 MB/s eta 0:00:02\r",
      "\u001b[K     |███████████████████▎            | 5.6 MB 2.1 MB/s eta 0:00:02\r",
      "\u001b[K     |███████████████████▎            | 5.6 MB 2.1 MB/s eta 0:00:02\r",
      "\u001b[K     |███████████████████▍            | 5.6 MB 2.1 MB/s eta 0:00:02\r",
      "\u001b[K     |███████████████████▍            | 5.6 MB 2.1 MB/s eta 0:00:02\r",
      "\u001b[K     |███████████████████▍            | 5.6 MB 2.1 MB/s eta 0:00:02"
     ]
    },
    {
     "name": "stdout",
     "output_type": "stream",
     "text": [
      "\r",
      "\u001b[K     |███████████████████▌            | 5.6 MB 2.1 MB/s eta 0:00:02\r",
      "\u001b[K     |███████████████████▌            | 5.6 MB 2.1 MB/s eta 0:00:02\r",
      "\u001b[K     |███████████████████▌            | 5.6 MB 2.1 MB/s eta 0:00:02\r",
      "\u001b[K     |███████████████████▌            | 5.6 MB 2.1 MB/s eta 0:00:02\r",
      "\u001b[K     |███████████████████▋            | 5.6 MB 2.1 MB/s eta 0:00:02\r",
      "\u001b[K     |███████████████████▋            | 5.7 MB 2.1 MB/s eta 0:00:02\r",
      "\u001b[K     |███████████████████▋            | 5.7 MB 2.1 MB/s eta 0:00:02\r",
      "\u001b[K     |███████████████████▊            | 5.7 MB 2.1 MB/s eta 0:00:02\r",
      "\u001b[K     |███████████████████▊            | 5.7 MB 2.1 MB/s eta 0:00:02\r",
      "\u001b[K     |███████████████████▊            | 5.7 MB 2.1 MB/s eta 0:00:02\r",
      "\u001b[K     |███████████████████▉            | 5.7 MB 2.1 MB/s eta 0:00:02\r",
      "\u001b[K     |███████████████████▉            | 5.7 MB 2.1 MB/s eta 0:00:02\r",
      "\u001b[K     |███████████████████▉            | 5.7 MB 2.1 MB/s eta 0:00:02\r",
      "\u001b[K     |████████████████████            | 5.7 MB 2.1 MB/s eta 0:00:02\r",
      "\u001b[K     |████████████████████            | 5.7 MB 2.1 MB/s eta 0:00:02\r",
      "\u001b[K     |████████████████████            | 5.8 MB 2.1 MB/s eta 0:00:02\r",
      "\u001b[K     |████████████████████            | 5.8 MB 2.1 MB/s eta 0:00:02\r",
      "\u001b[K     |████████████████████            | 5.8 MB 2.1 MB/s eta 0:00:02\r",
      "\u001b[K     |████████████████████            | 5.8 MB 2.1 MB/s eta 0:00:02\r",
      "\u001b[K     |████████████████████▏           | 5.8 MB 2.1 MB/s eta 0:00:02\r",
      "\u001b[K     |████████████████████▏           | 5.8 MB 2.1 MB/s eta 0:00:02\r",
      "\u001b[K     |████████████████████▏           | 5.8 MB 2.1 MB/s eta 0:00:02\r",
      "\u001b[K     |████████████████████▎           | 5.8 MB 2.1 MB/s eta 0:00:02\r",
      "\u001b[K     |████████████████████▎           | 5.8 MB 2.1 MB/s eta 0:00:02"
     ]
    },
    {
     "name": "stdout",
     "output_type": "stream",
     "text": [
      "\r",
      "\u001b[K     |████████████████████▎           | 5.8 MB 2.1 MB/s eta 0:00:02\r",
      "\u001b[K     |████████████████████▍           | 5.9 MB 2.1 MB/s eta 0:00:02\r",
      "\u001b[K     |████████████████████▍           | 5.9 MB 2.1 MB/s eta 0:00:02\r",
      "\u001b[K     |████████████████████▍           | 5.9 MB 2.1 MB/s eta 0:00:02\r",
      "\u001b[K     |████████████████████▍           | 5.9 MB 2.1 MB/s eta 0:00:02\r",
      "\u001b[K     |████████████████████▌           | 5.9 MB 2.1 MB/s eta 0:00:02\r",
      "\u001b[K     |████████████████████▌           | 5.9 MB 2.1 MB/s eta 0:00:02\r",
      "\u001b[K     |████████████████████▌           | 5.9 MB 2.1 MB/s eta 0:00:02\r",
      "\u001b[K     |████████████████████▋           | 5.9 MB 2.1 MB/s eta 0:00:02\r",
      "\u001b[K     |████████████████████▋           | 5.9 MB 2.1 MB/s eta 0:00:02\r",
      "\u001b[K     |████████████████████▋           | 5.9 MB 2.1 MB/s eta 0:00:02\r",
      "\u001b[K     |████████████████████▊           | 6.0 MB 2.1 MB/s eta 0:00:02\r",
      "\u001b[K     |████████████████████▊           | 6.0 MB 2.1 MB/s eta 0:00:02\r",
      "\u001b[K     |████████████████████▊           | 6.0 MB 2.1 MB/s eta 0:00:02\r",
      "\u001b[K     |████████████████████▉           | 6.0 MB 2.1 MB/s eta 0:00:02\r",
      "\u001b[K     |████████████████████▉           | 6.0 MB 2.1 MB/s eta 0:00:02\r",
      "\u001b[K     |████████████████████▉           | 6.0 MB 2.1 MB/s eta 0:00:02\r",
      "\u001b[K     |█████████████████████           | 6.0 MB 2.1 MB/s eta 0:00:02\r",
      "\u001b[K     |█████████████████████           | 6.0 MB 2.1 MB/s eta 0:00:02\r",
      "\u001b[K     |█████████████████████           | 6.0 MB 2.1 MB/s eta 0:00:02\r",
      "\u001b[K     |█████████████████████           | 6.1 MB 2.1 MB/s eta 0:00:02\r",
      "\u001b[K     |█████████████████████           | 6.1 MB 2.1 MB/s eta 0:00:02\r",
      "\u001b[K     |█████████████████████           | 6.1 MB 4.3 MB/s eta 0:00:01\r",
      "\u001b[K     |█████████████████████▏          | 6.1 MB 4.3 MB/s eta 0:00:01"
     ]
    },
    {
     "name": "stdout",
     "output_type": "stream",
     "text": [
      "\r",
      "\u001b[K     |█████████████████████▏          | 6.1 MB 4.3 MB/s eta 0:00:01\r",
      "\u001b[K     |█████████████████████▏          | 6.1 MB 4.3 MB/s eta 0:00:01\r",
      "\u001b[K     |█████████████████████▎          | 6.1 MB 4.3 MB/s eta 0:00:01\r",
      "\u001b[K     |█████████████████████▎          | 6.1 MB 4.3 MB/s eta 0:00:01\r",
      "\u001b[K     |█████████████████████▎          | 6.1 MB 4.3 MB/s eta 0:00:01\r",
      "\u001b[K     |█████████████████████▎          | 6.1 MB 4.3 MB/s eta 0:00:01\r",
      "\u001b[K     |█████████████████████▍          | 6.2 MB 4.3 MB/s eta 0:00:01\r",
      "\u001b[K     |█████████████████████▍          | 6.2 MB 4.3 MB/s eta 0:00:01\r",
      "\u001b[K     |█████████████████████▍          | 6.2 MB 4.3 MB/s eta 0:00:01\r",
      "\u001b[K     |█████████████████████▌          | 6.2 MB 4.3 MB/s eta 0:00:01\r",
      "\u001b[K     |█████████████████████▌          | 6.2 MB 4.3 MB/s eta 0:00:01\r",
      "\u001b[K     |█████████████████████▌          | 6.2 MB 4.3 MB/s eta 0:00:01\r",
      "\u001b[K     |█████████████████████▋          | 6.2 MB 4.3 MB/s eta 0:00:01\r",
      "\u001b[K     |█████████████████████▋          | 6.2 MB 4.3 MB/s eta 0:00:01\r",
      "\u001b[K     |█████████████████████▋          | 6.2 MB 4.3 MB/s eta 0:00:01\r",
      "\u001b[K     |█████████████████████▊          | 6.2 MB 4.3 MB/s eta 0:00:01"
     ]
    },
    {
     "name": "stdout",
     "output_type": "stream",
     "text": [
      "\r",
      "\u001b[K     |█████████████████████▊          | 6.3 MB 4.3 MB/s eta 0:00:01\r",
      "\u001b[K     |█████████████████████▊          | 6.3 MB 4.3 MB/s eta 0:00:01\r",
      "\u001b[K     |█████████████████████▉          | 6.3 MB 4.3 MB/s eta 0:00:01\r",
      "\u001b[K     |█████████████████████▉          | 6.3 MB 4.3 MB/s eta 0:00:01\r",
      "\u001b[K     |█████████████████████▉          | 6.3 MB 4.3 MB/s eta 0:00:01\r",
      "\u001b[K     |██████████████████████          | 6.3 MB 4.3 MB/s eta 0:00:01\r",
      "\u001b[K     |██████████████████████          | 6.3 MB 4.3 MB/s eta 0:00:01\r",
      "\u001b[K     |██████████████████████          | 6.3 MB 4.3 MB/s eta 0:00:01\r",
      "\u001b[K     |██████████████████████          | 6.3 MB 4.3 MB/s eta 0:00:01\r",
      "\u001b[K     |██████████████████████          | 6.3 MB 4.3 MB/s eta 0:00:01\r",
      "\u001b[K     |██████████████████████          | 6.4 MB 4.3 MB/s eta 0:00:01\r",
      "\u001b[K     |██████████████████████▏         | 6.4 MB 4.3 MB/s eta 0:00:01\r",
      "\u001b[K     |██████████████████████▏         | 6.4 MB 4.3 MB/s eta 0:00:01\r",
      "\u001b[K     |██████████████████████▏         | 6.4 MB 4.3 MB/s eta 0:00:01\r",
      "\u001b[K     |██████████████████████▏         | 6.4 MB 4.3 MB/s eta 0:00:01\r",
      "\u001b[K     |██████████████████████▎         | 6.4 MB 4.3 MB/s eta 0:00:01\r",
      "\u001b[K     |██████████████████████▎         | 6.4 MB 4.3 MB/s eta 0:00:01\r",
      "\u001b[K     |██████████████████████▎         | 6.4 MB 4.3 MB/s eta 0:00:01\r",
      "\u001b[K     |██████████████████████▍         | 6.4 MB 4.3 MB/s eta 0:00:01\r",
      "\u001b[K     |██████████████████████▍         | 6.5 MB 4.3 MB/s eta 0:00:01\r",
      "\u001b[K     |██████████████████████▍         | 6.5 MB 4.3 MB/s eta 0:00:01\r",
      "\u001b[K     |██████████████████████▌         | 6.5 MB 4.3 MB/s eta 0:00:01\r",
      "\u001b[K     |██████████████████████▌         | 6.5 MB 4.3 MB/s eta 0:00:01\r",
      "\u001b[K     |██████████████████████▌         | 6.5 MB 4.3 MB/s eta 0:00:01"
     ]
    },
    {
     "name": "stdout",
     "output_type": "stream",
     "text": [
      "\r",
      "\u001b[K     |██████████████████████▋         | 6.5 MB 4.3 MB/s eta 0:00:01\r",
      "\u001b[K     |██████████████████████▋         | 6.5 MB 4.3 MB/s eta 0:00:01\r",
      "\u001b[K     |██████████████████████▋         | 6.5 MB 4.3 MB/s eta 0:00:01\r",
      "\u001b[K     |██████████████████████▊         | 6.5 MB 4.3 MB/s eta 0:00:01\r",
      "\u001b[K     |██████████████████████▊         | 6.5 MB 4.3 MB/s eta 0:00:01\r",
      "\u001b[K     |██████████████████████▊         | 6.6 MB 4.3 MB/s eta 0:00:01\r",
      "\u001b[K     |██████████████████████▉         | 6.6 MB 4.3 MB/s eta 0:00:01\r",
      "\u001b[K     |██████████████████████▉         | 6.6 MB 4.3 MB/s eta 0:00:01\r",
      "\u001b[K     |██████████████████████▉         | 6.6 MB 4.3 MB/s eta 0:00:01\r",
      "\u001b[K     |███████████████████████         | 6.6 MB 4.3 MB/s eta 0:00:01\r",
      "\u001b[K     |███████████████████████         | 6.6 MB 4.3 MB/s eta 0:00:01\r",
      "\u001b[K     |███████████████████████         | 6.6 MB 4.3 MB/s eta 0:00:01\r",
      "\u001b[K     |███████████████████████         | 6.6 MB 4.3 MB/s eta 0:00:01\r",
      "\u001b[K     |███████████████████████         | 6.6 MB 4.3 MB/s eta 0:00:01\r",
      "\u001b[K     |███████████████████████         | 6.6 MB 4.3 MB/s eta 0:00:01\r",
      "\u001b[K     |███████████████████████         | 6.7 MB 4.3 MB/s eta 0:00:01\r",
      "\u001b[K     |███████████████████████▏        | 6.7 MB 4.3 MB/s eta 0:00:01\r",
      "\u001b[K     |███████████████████████▏        | 6.7 MB 4.3 MB/s eta 0:00:01\r",
      "\u001b[K     |███████████████████████▏        | 6.7 MB 4.3 MB/s eta 0:00:01\r",
      "\u001b[K     |███████████████████████▎        | 6.7 MB 4.3 MB/s eta 0:00:01\r",
      "\u001b[K     |███████████████████████▎        | 6.7 MB 4.3 MB/s eta 0:00:01\r",
      "\u001b[K     |███████████████████████▎        | 6.7 MB 4.3 MB/s eta 0:00:01\r",
      "\u001b[K     |███████████████████████▍        | 6.7 MB 4.3 MB/s eta 0:00:01\r",
      "\u001b[K     |███████████████████████▍        | 6.7 MB 4.3 MB/s eta 0:00:01\r",
      "\u001b[K     |███████████████████████▍        | 6.7 MB 4.3 MB/s eta 0:00:01"
     ]
    },
    {
     "name": "stdout",
     "output_type": "stream",
     "text": [
      "\r",
      "\u001b[K     |███████████████████████▌        | 6.8 MB 4.3 MB/s eta 0:00:01\r",
      "\u001b[K     |███████████████████████▌        | 6.8 MB 4.3 MB/s eta 0:00:01\r",
      "\u001b[K     |███████████████████████▌        | 6.8 MB 4.3 MB/s eta 0:00:01\r",
      "\u001b[K     |███████████████████████▋        | 6.8 MB 4.3 MB/s eta 0:00:01\r",
      "\u001b[K     |███████████████████████▋        | 6.8 MB 4.3 MB/s eta 0:00:01\r",
      "\u001b[K     |███████████████████████▋        | 6.8 MB 4.3 MB/s eta 0:00:01\r",
      "\u001b[K     |███████████████████████▊        | 6.8 MB 4.3 MB/s eta 0:00:01\r",
      "\u001b[K     |███████████████████████▊        | 6.8 MB 4.3 MB/s eta 0:00:01\r",
      "\u001b[K     |███████████████████████▊        | 6.8 MB 4.3 MB/s eta 0:00:01\r",
      "\u001b[K     |███████████████████████▉        | 6.9 MB 4.3 MB/s eta 0:00:01\r",
      "\u001b[K     |███████████████████████▉        | 6.9 MB 4.3 MB/s eta 0:00:01\r",
      "\u001b[K     |███████████████████████▉        | 6.9 MB 4.3 MB/s eta 0:00:01\r",
      "\u001b[K     |████████████████████████        | 6.9 MB 4.3 MB/s eta 0:00:01\r",
      "\u001b[K     |████████████████████████        | 6.9 MB 4.3 MB/s eta 0:00:01\r",
      "\u001b[K     |████████████████████████        | 6.9 MB 4.3 MB/s eta 0:00:01\r",
      "\u001b[K     |████████████████████████        | 6.9 MB 4.3 MB/s eta 0:00:01\r",
      "\u001b[K     |████████████████████████        | 6.9 MB 4.3 MB/s eta 0:00:01\r",
      "\u001b[K     |████████████████████████        | 6.9 MB 4.3 MB/s eta 0:00:01"
     ]
    },
    {
     "name": "stdout",
     "output_type": "stream",
     "text": [
      "\r",
      "\u001b[K     |████████████████████████        | 6.9 MB 4.3 MB/s eta 0:00:01\r",
      "\u001b[K     |████████████████████████▏       | 7.0 MB 4.3 MB/s eta 0:00:01\r",
      "\u001b[K     |████████████████████████▏       | 7.0 MB 4.3 MB/s eta 0:00:01\r",
      "\u001b[K     |████████████████████████▏       | 7.0 MB 4.3 MB/s eta 0:00:01\r",
      "\u001b[K     |████████████████████████▎       | 7.0 MB 4.3 MB/s eta 0:00:01\r",
      "\u001b[K     |████████████████████████▎       | 7.0 MB 4.3 MB/s eta 0:00:01\r",
      "\u001b[K     |████████████████████████▎       | 7.0 MB 4.3 MB/s eta 0:00:01\r",
      "\u001b[K     |████████████████████████▍       | 7.0 MB 4.3 MB/s eta 0:00:01\r",
      "\u001b[K     |████████████████████████▍       | 7.0 MB 4.3 MB/s eta 0:00:01\r",
      "\u001b[K     |████████████████████████▍       | 7.0 MB 4.3 MB/s eta 0:00:01\r",
      "\u001b[K     |████████████████████████▌       | 7.0 MB 4.3 MB/s eta 0:00:01\r",
      "\u001b[K     |████████████████████████▌       | 7.1 MB 4.3 MB/s eta 0:00:01\r",
      "\u001b[K     |████████████████████████▌       | 7.1 MB 4.3 MB/s eta 0:00:01\r",
      "\u001b[K     |████████████████████████▋       | 7.1 MB 4.3 MB/s eta 0:00:01\r",
      "\u001b[K     |████████████████████████▋       | 7.1 MB 4.3 MB/s eta 0:00:01\r",
      "\u001b[K     |████████████████████████▋       | 7.1 MB 4.3 MB/s eta 0:00:01\r",
      "\u001b[K     |████████████████████████▊       | 7.1 MB 4.3 MB/s eta 0:00:01\r",
      "\u001b[K     |████████████████████████▊       | 7.1 MB 4.3 MB/s eta 0:00:01\r",
      "\u001b[K     |████████████████████████▊       | 7.1 MB 4.3 MB/s eta 0:00:01\r",
      "\u001b[K     |████████████████████████▉       | 7.1 MB 4.3 MB/s eta 0:00:01\r",
      "\u001b[K     |████████████████████████▉       | 7.1 MB 4.3 MB/s eta 0:00:01\r",
      "\u001b[K     |████████████████████████▉       | 7.2 MB 4.3 MB/s eta 0:00:01\r",
      "\u001b[K     |████████████████████████▉       | 7.2 MB 4.3 MB/s eta 0:00:01\r",
      "\u001b[K     |█████████████████████████       | 7.2 MB 4.3 MB/s eta 0:00:01\r",
      "\u001b[K     |█████████████████████████       | 7.2 MB 4.3 MB/s eta 0:00:01\r",
      "\u001b[K     |█████████████████████████       | 7.2 MB 4.3 MB/s eta 0:00:01"
     ]
    },
    {
     "name": "stdout",
     "output_type": "stream",
     "text": [
      "\r",
      "\u001b[K     |█████████████████████████       | 7.2 MB 4.3 MB/s eta 0:00:01\r",
      "\u001b[K     |█████████████████████████       | 7.2 MB 4.3 MB/s eta 0:00:01\r",
      "\u001b[K     |█████████████████████████       | 7.2 MB 4.3 MB/s eta 0:00:01\r",
      "\u001b[K     |█████████████████████████▏      | 7.2 MB 4.3 MB/s eta 0:00:01\r",
      "\u001b[K     |█████████████████████████▏      | 7.2 MB 4.3 MB/s eta 0:00:01\r",
      "\u001b[K     |█████████████████████████▏      | 7.3 MB 4.3 MB/s eta 0:00:01\r",
      "\u001b[K     |█████████████████████████▎      | 7.3 MB 4.3 MB/s eta 0:00:01\r",
      "\u001b[K     |█████████████████████████▎      | 7.3 MB 4.3 MB/s eta 0:00:01\r",
      "\u001b[K     |█████████████████████████▎      | 7.3 MB 4.3 MB/s eta 0:00:01\r",
      "\u001b[K     |█████████████████████████▍      | 7.3 MB 4.3 MB/s eta 0:00:01\r",
      "\u001b[K     |█████████████████████████▍      | 7.3 MB 4.3 MB/s eta 0:00:01\r",
      "\u001b[K     |█████████████████████████▍      | 7.3 MB 4.3 MB/s eta 0:00:01\r",
      "\u001b[K     |█████████████████████████▌      | 7.3 MB 4.3 MB/s eta 0:00:01\r",
      "\u001b[K     |█████████████████████████▌      | 7.3 MB 4.3 MB/s eta 0:00:01\r",
      "\u001b[K     |█████████████████████████▌      | 7.4 MB 4.3 MB/s eta 0:00:01\r",
      "\u001b[K     |█████████████████████████▋      | 7.4 MB 4.3 MB/s eta 0:00:01\r",
      "\u001b[K     |█████████████████████████▋      | 7.4 MB 4.3 MB/s eta 0:00:01\r",
      "\u001b[K     |█████████████████████████▋      | 7.4 MB 4.3 MB/s eta 0:00:01\r",
      "\u001b[K     |█████████████████████████▊      | 7.4 MB 4.3 MB/s eta 0:00:01\r",
      "\u001b[K     |█████████████████████████▊      | 7.4 MB 4.3 MB/s eta 0:00:01\r",
      "\u001b[K     |█████████████████████████▊      | 7.4 MB 4.3 MB/s eta 0:00:01\r",
      "\u001b[K     |█████████████████████████▊      | 7.4 MB 4.3 MB/s eta 0:00:01\r",
      "\u001b[K     |█████████████████████████▉      | 7.4 MB 4.3 MB/s eta 0:00:01\r",
      "\u001b[K     |█████████████████████████▉      | 7.4 MB 4.3 MB/s eta 0:00:01\r",
      "\u001b[K     |█████████████████████████▉      | 7.5 MB 4.3 MB/s eta 0:00:01"
     ]
    },
    {
     "name": "stdout",
     "output_type": "stream",
     "text": [
      "\r",
      "\u001b[K     |██████████████████████████      | 7.5 MB 4.3 MB/s eta 0:00:01\r",
      "\u001b[K     |██████████████████████████      | 7.5 MB 4.3 MB/s eta 0:00:01\r",
      "\u001b[K     |██████████████████████████      | 7.5 MB 4.3 MB/s eta 0:00:01\r",
      "\u001b[K     |██████████████████████████      | 7.5 MB 4.3 MB/s eta 0:00:01\r",
      "\u001b[K     |██████████████████████████      | 7.5 MB 4.3 MB/s eta 0:00:01\r",
      "\u001b[K     |██████████████████████████      | 7.5 MB 4.3 MB/s eta 0:00:01\r",
      "\u001b[K     |██████████████████████████▏     | 7.5 MB 4.3 MB/s eta 0:00:01\r",
      "\u001b[K     |██████████████████████████▏     | 7.5 MB 4.3 MB/s eta 0:00:01\r",
      "\u001b[K     |██████████████████████████▏     | 7.5 MB 4.3 MB/s eta 0:00:01\r",
      "\u001b[K     |██████████████████████████▎     | 7.6 MB 4.3 MB/s eta 0:00:01\r",
      "\u001b[K     |██████████████████████████▎     | 7.6 MB 4.3 MB/s eta 0:00:01\r",
      "\u001b[K     |██████████████████████████▎     | 7.6 MB 4.3 MB/s eta 0:00:01\r",
      "\u001b[K     |██████████████████████████▍     | 7.6 MB 4.3 MB/s eta 0:00:01\r",
      "\u001b[K     |██████████████████████████▍     | 7.6 MB 4.3 MB/s eta 0:00:01\r",
      "\u001b[K     |██████████████████████████▍     | 7.6 MB 4.3 MB/s eta 0:00:01\r",
      "\u001b[K     |██████████████████████████▌     | 7.6 MB 4.3 MB/s eta 0:00:01\r",
      "\u001b[K     |██████████████████████████▌     | 7.6 MB 4.3 MB/s eta 0:00:01\r",
      "\u001b[K     |██████████████████████████▌     | 7.6 MB 4.3 MB/s eta 0:00:01\r",
      "\u001b[K     |██████████████████████████▋     | 7.6 MB 4.3 MB/s eta 0:00:01\r",
      "\u001b[K     |██████████████████████████▋     | 7.7 MB 4.3 MB/s eta 0:00:01\r",
      "\u001b[K     |██████████████████████████▋     | 7.7 MB 4.3 MB/s eta 0:00:01\r",
      "\u001b[K     |██████████████████████████▋     | 7.7 MB 4.3 MB/s eta 0:00:01\r",
      "\u001b[K     |██████████████████████████▊     | 7.7 MB 4.3 MB/s eta 0:00:01"
     ]
    },
    {
     "name": "stdout",
     "output_type": "stream",
     "text": [
      "\r",
      "\u001b[K     |██████████████████████████▊     | 7.7 MB 4.3 MB/s eta 0:00:01\r",
      "\u001b[K     |██████████████████████████▊     | 7.7 MB 4.3 MB/s eta 0:00:01\r",
      "\u001b[K     |██████████████████████████▉     | 7.7 MB 4.3 MB/s eta 0:00:01\r",
      "\u001b[K     |██████████████████████████▉     | 7.7 MB 4.3 MB/s eta 0:00:01\r",
      "\u001b[K     |██████████████████████████▉     | 7.7 MB 4.3 MB/s eta 0:00:01\r",
      "\u001b[K     |███████████████████████████     | 7.8 MB 4.3 MB/s eta 0:00:01\r",
      "\u001b[K     |███████████████████████████     | 7.8 MB 4.3 MB/s eta 0:00:01\r",
      "\u001b[K     |███████████████████████████     | 7.8 MB 4.3 MB/s eta 0:00:01\r",
      "\u001b[K     |███████████████████████████     | 7.8 MB 4.3 MB/s eta 0:00:01\r",
      "\u001b[K     |███████████████████████████     | 7.8 MB 4.3 MB/s eta 0:00:01\r",
      "\u001b[K     |███████████████████████████     | 7.8 MB 4.3 MB/s eta 0:00:01\r",
      "\u001b[K     |███████████████████████████▏    | 7.8 MB 4.3 MB/s eta 0:00:01\r",
      "\u001b[K     |███████████████████████████▏    | 7.8 MB 4.3 MB/s eta 0:00:01\r",
      "\u001b[K     |███████████████████████████▏    | 7.8 MB 4.3 MB/s eta 0:00:01\r",
      "\u001b[K     |███████████████████████████▎    | 7.8 MB 4.3 MB/s eta 0:00:01\r",
      "\u001b[K     |███████████████████████████▎    | 7.9 MB 4.3 MB/s eta 0:00:01\r",
      "\u001b[K     |███████████████████████████▎    | 7.9 MB 4.3 MB/s eta 0:00:01\r",
      "\u001b[K     |███████████████████████████▍    | 7.9 MB 4.3 MB/s eta 0:00:01\r",
      "\u001b[K     |███████████████████████████▍    | 7.9 MB 4.3 MB/s eta 0:00:01\r",
      "\u001b[K     |███████████████████████████▍    | 7.9 MB 4.3 MB/s eta 0:00:01\r",
      "\u001b[K     |███████████████████████████▌    | 7.9 MB 4.3 MB/s eta 0:00:01\r",
      "\u001b[K     |███████████████████████████▌    | 7.9 MB 4.3 MB/s eta 0:00:01\r",
      "\u001b[K"
     ]
    },
    {
     "name": "stdout",
     "output_type": "stream",
     "text": [
      "     |███████████████████████████▌    | 7.9 MB 4.3 MB/s eta 0:00:01\r",
      "\u001b[K     |███████████████████████████▌    | 7.9 MB 4.3 MB/s eta 0:00:01\r",
      "\u001b[K     |███████████████████████████▋    | 7.9 MB 4.3 MB/s eta 0:00:01\r",
      "\u001b[K     |███████████████████████████▋    | 8.0 MB 4.3 MB/s eta 0:00:01\r",
      "\u001b[K     |███████████████████████████▋    | 8.0 MB 4.3 MB/s eta 0:00:01\r",
      "\u001b[K     |███████████████████████████▊    | 8.0 MB 4.3 MB/s eta 0:00:01\r",
      "\u001b[K     |███████████████████████████▊    | 8.0 MB 4.3 MB/s eta 0:00:01\r",
      "\u001b[K     |███████████████████████████▊    | 8.0 MB 4.3 MB/s eta 0:00:01\r",
      "\u001b[K     |███████████████████████████▉    | 8.0 MB 4.3 MB/s eta 0:00:01\r",
      "\u001b[K     |███████████████████████████▉    | 8.0 MB 4.3 MB/s eta 0:00:01\r",
      "\u001b[K     |███████████████████████████▉    | 8.0 MB 4.3 MB/s eta 0:00:01\r",
      "\u001b[K     |████████████████████████████    | 8.0 MB 4.3 MB/s eta 0:00:01\r",
      "\u001b[K     |████████████████████████████    | 8.0 MB 4.3 MB/s eta 0:00:01\r",
      "\u001b[K     |████████████████████████████    | 8.1 MB 4.3 MB/s eta 0:00:01\r",
      "\u001b[K     |████████████████████████████    | 8.1 MB 4.3 MB/s eta 0:00:01\r",
      "\u001b[K     |████████████████████████████    | 8.1 MB 4.3 MB/s eta 0:00:01\r",
      "\u001b[K     |████████████████████████████    | 8.1 MB 4.3 MB/s eta 0:00:01\r",
      "\u001b[K     |████████████████████████████▏   | 8.1 MB 4.3 MB/s eta 0:00:01\r",
      "\u001b[K     |████████████████████████████▏   | 8.1 MB 4.3 MB/s eta 0:00:01\r",
      "\u001b[K     |████████████████████████████▏   | 8.1 MB 4.3 MB/s eta 0:00:01\r",
      "\u001b[K     |████████████████████████████▎   | 8.1 MB 4.3 MB/s eta 0:00:01\r",
      "\u001b[K     |████████████████████████████▎   | 8.1 MB 4.3 MB/s eta 0:00:01\r",
      "\u001b[K     |████████████████████████████▎   | 8.2 MB 4.3 MB/s eta 0:00:01\r",
      "\u001b[K     |████████████████████████████▍   | 8.2 MB 4.3 MB/s eta 0:00:01\r",
      "\u001b[K     |████████████████████████████▍   | 8.2 MB 4.3 MB/s eta 0:00:01\r",
      "\u001b[K     |████████████████████████████▍   | 8.2 MB 4.3 MB/s eta 0:00:01\r",
      "\u001b[K     |████████████████████████████▍   | 8.2 MB 4.3 MB/s eta 0:00:01"
     ]
    },
    {
     "name": "stdout",
     "output_type": "stream",
     "text": [
      "\r",
      "\u001b[K     |████████████████████████████▌   | 8.2 MB 4.3 MB/s eta 0:00:01\r",
      "\u001b[K     |████████████████████████████▌   | 8.2 MB 4.3 MB/s eta 0:00:01\r",
      "\u001b[K     |████████████████████████████▌   | 8.2 MB 4.3 MB/s eta 0:00:01\r",
      "\u001b[K     |████████████████████████████▋   | 8.2 MB 4.3 MB/s eta 0:00:01\r",
      "\u001b[K     |████████████████████████████▋   | 8.2 MB 4.3 MB/s eta 0:00:01\r",
      "\u001b[K     |████████████████████████████▋   | 8.3 MB 4.3 MB/s eta 0:00:01\r",
      "\u001b[K     |████████████████████████████▊   | 8.3 MB 4.3 MB/s eta 0:00:01\r",
      "\u001b[K     |████████████████████████████▊   | 8.3 MB 4.3 MB/s eta 0:00:01\r",
      "\u001b[K     |████████████████████████████▊   | 8.3 MB 4.3 MB/s eta 0:00:01\r",
      "\u001b[K     |████████████████████████████▉   | 8.3 MB 4.3 MB/s eta 0:00:01\r",
      "\u001b[K     |████████████████████████████▉   | 8.3 MB 4.3 MB/s eta 0:00:01\r",
      "\u001b[K     |████████████████████████████▉   | 8.3 MB 4.3 MB/s eta 0:00:01\r",
      "\u001b[K     |█████████████████████████████   | 8.3 MB 4.3 MB/s eta 0:00:01\r",
      "\u001b[K     |█████████████████████████████   | 8.3 MB 4.3 MB/s eta 0:00:01\r",
      "\u001b[K     |█████████████████████████████   | 8.3 MB 4.3 MB/s eta 0:00:01\r",
      "\u001b[K     |█████████████████████████████   | 8.4 MB 4.3 MB/s eta 0:00:01\r",
      "\u001b[K     |█████████████████████████████   | 8.4 MB 4.3 MB/s eta 0:00:01\r",
      "\u001b[K     |█████████████████████████████   | 8.4 MB 4.3 MB/s eta 0:00:01\r",
      "\u001b[K     |█████████████████████████████▏  | 8.4 MB 4.3 MB/s eta 0:00:01\r",
      "\u001b[K     |█████████████████████████████▏  | 8.4 MB 4.3 MB/s eta 0:00:01\r",
      "\u001b[K     |█████████████████████████████▏  | 8.4 MB 4.3 MB/s eta 0:00:01\r",
      "\u001b[K     |█████████████████████████████▎  | 8.4 MB 4.3 MB/s eta 0:00:01\r",
      "\u001b[K     |█████████████████████████████▎  | 8.4 MB 4.3 MB/s eta 0:00:01\r",
      "\u001b[K     |█████████████████████████████▎  | 8.4 MB 4.3 MB/s eta 0:00:01\r",
      "\u001b[K     |█████████████████████████████▎  | 8.4 MB 4.3 MB/s eta 0:00:01\r",
      "\u001b[K     |█████████████████████████████▍  | 8.5 MB 4.3 MB/s eta 0:00:01\r",
      "\u001b[K     |█████████████████████████████▍  | 8.5 MB 4.3 MB/s eta 0:00:01\r",
      "\u001b[K"
     ]
    },
    {
     "name": "stdout",
     "output_type": "stream",
     "text": [
      "     |█████████████████████████████▍  | 8.5 MB 4.3 MB/s eta 0:00:01\r",
      "\u001b[K     |█████████████████████████████▌  | 8.5 MB 4.3 MB/s eta 0:00:01\r",
      "\u001b[K     |█████████████████████████████▌  | 8.5 MB 4.3 MB/s eta 0:00:01\r",
      "\u001b[K     |█████████████████████████████▌  | 8.5 MB 4.3 MB/s eta 0:00:01\r",
      "\u001b[K     |█████████████████████████████▋  | 8.5 MB 4.3 MB/s eta 0:00:01\r",
      "\u001b[K     |█████████████████████████████▋  | 8.5 MB 4.3 MB/s eta 0:00:01\r",
      "\u001b[K     |█████████████████████████████▋  | 8.5 MB 4.3 MB/s eta 0:00:01\r",
      "\u001b[K     |█████████████████████████████▊  | 8.6 MB 4.3 MB/s eta 0:00:01\r",
      "\u001b[K     |█████████████████████████████▊  | 8.6 MB 4.3 MB/s eta 0:00:01\r",
      "\u001b[K     |█████████████████████████████▊  | 8.6 MB 4.3 MB/s eta 0:00:01\r",
      "\u001b[K     |█████████████████████████████▉  | 8.6 MB 4.3 MB/s eta 0:00:01\r",
      "\u001b[K     |█████████████████████████████▉  | 8.6 MB 4.3 MB/s eta 0:00:01\r",
      "\u001b[K     |█████████████████████████████▉  | 8.6 MB 4.3 MB/s eta 0:00:01\r",
      "\u001b[K     |██████████████████████████████  | 8.6 MB 4.3 MB/s eta 0:00:01\r",
      "\u001b[K     |██████████████████████████████  | 8.6 MB 4.3 MB/s eta 0:00:01\r",
      "\u001b[K     |██████████████████████████████  | 8.6 MB 4.3 MB/s eta 0:00:01\r",
      "\u001b[K     |██████████████████████████████  | 8.6 MB 4.3 MB/s eta 0:00:01\r",
      "\u001b[K     |██████████████████████████████  | 8.7 MB 4.3 MB/s eta 0:00:01\r",
      "\u001b[K     |██████████████████████████████  | 8.7 MB 4.3 MB/s eta 0:00:01\r",
      "\u001b[K     |██████████████████████████████▏ | 8.7 MB 4.3 MB/s eta 0:00:01\r",
      "\u001b[K     |██████████████████████████████▏ | 8.7 MB 4.3 MB/s eta 0:00:01"
     ]
    },
    {
     "name": "stdout",
     "output_type": "stream",
     "text": [
      "\r",
      "\u001b[K     |██████████████████████████████▏ | 8.7 MB 4.3 MB/s eta 0:00:01\r",
      "\u001b[K     |██████████████████████████████▏ | 8.7 MB 4.3 MB/s eta 0:00:01\r",
      "\u001b[K     |██████████████████████████████▎ | 8.7 MB 4.3 MB/s eta 0:00:01\r",
      "\u001b[K     |██████████████████████████████▎ | 8.7 MB 4.3 MB/s eta 0:00:01\r",
      "\u001b[K     |██████████████████████████████▎ | 8.7 MB 4.3 MB/s eta 0:00:01\r",
      "\u001b[K     |██████████████████████████████▍ | 8.7 MB 4.3 MB/s eta 0:00:01\r",
      "\u001b[K     |██████████████████████████████▍ | 8.8 MB 4.3 MB/s eta 0:00:01\r",
      "\u001b[K     |██████████████████████████████▍ | 8.8 MB 4.3 MB/s eta 0:00:01\r",
      "\u001b[K     |██████████████████████████████▌ | 8.8 MB 4.3 MB/s eta 0:00:01\r",
      "\u001b[K     |██████████████████████████████▌ | 8.8 MB 4.3 MB/s eta 0:00:01\r",
      "\u001b[K     |██████████████████████████████▌ | 8.8 MB 4.3 MB/s eta 0:00:01\r",
      "\u001b[K     |██████████████████████████████▋ | 8.8 MB 4.3 MB/s eta 0:00:01\r",
      "\u001b[K     |██████████████████████████████▋ | 8.8 MB 4.3 MB/s eta 0:00:01\r",
      "\u001b[K     |██████████████████████████████▋ | 8.8 MB 4.3 MB/s eta 0:00:01\r",
      "\u001b[K     |██████████████████████████████▊ | 8.8 MB 4.3 MB/s eta 0:00:01\r",
      "\u001b[K     |██████████████████████████████▊ | 8.8 MB 4.3 MB/s eta 0:00:01\r",
      "\u001b[K     |██████████████████████████████▊ | 8.9 MB 4.3 MB/s eta 0:00:01\r",
      "\u001b[K     |██████████████████████████████▉ | 8.9 MB 4.3 MB/s eta 0:00:01\r",
      "\u001b[K     |██████████████████████████████▉ | 8.9 MB 4.3 MB/s eta 0:00:01\r",
      "\u001b[K     |██████████████████████████████▉ | 8.9 MB 4.3 MB/s eta 0:00:01\r",
      "\u001b[K     |███████████████████████████████ | 8.9 MB 4.3 MB/s eta 0:00:01\r",
      "\u001b[K     |███████████████████████████████ | 8.9 MB 4.3 MB/s eta 0:00:01\r",
      "\u001b[K     |███████████████████████████████ | 8.9 MB 4.3 MB/s eta 0:00:01\r",
      "\u001b[K     |███████████████████████████████ | 8.9 MB 4.3 MB/s eta 0:00:01\r",
      "\u001b[K     |███████████████████████████████ | 8.9 MB 4.3 MB/s eta 0:00:01\r",
      "\u001b[K     |███████████████████████████████ | 8.9 MB 4.3 MB/s eta 0:00:01\r",
      "\u001b[K     |███████████████████████████████ | 9.0 MB 4.3 MB/s eta 0:00:01\r",
      "\u001b[K     |███████████████████████████████▏| 9.0 MB 4.3 MB/s eta 0:00:01\r",
      "\u001b[K     |███████████████████████████████▏| 9.0 MB 4.3 MB/s eta 0:00:01"
     ]
    },
    {
     "name": "stdout",
     "output_type": "stream",
     "text": [
      "\r",
      "\u001b[K     |███████████████████████████████▏| 9.0 MB 4.3 MB/s eta 0:00:01\r",
      "\u001b[K     |███████████████████████████████▎| 9.0 MB 4.3 MB/s eta 0:00:01\r",
      "\u001b[K     |███████████████████████████████▎| 9.0 MB 4.3 MB/s eta 0:00:01\r",
      "\u001b[K     |███████████████████████████████▎| 9.0 MB 4.3 MB/s eta 0:00:01\r",
      "\u001b[K     |███████████████████████████████▍| 9.0 MB 4.3 MB/s eta 0:00:01\r",
      "\u001b[K     |███████████████████████████████▍| 9.0 MB 4.3 MB/s eta 0:00:01\r",
      "\u001b[K     |███████████████████████████████▍| 9.1 MB 4.3 MB/s eta 0:00:01\r",
      "\u001b[K     |███████████████████████████████▌| 9.1 MB 4.3 MB/s eta 0:00:01\r",
      "\u001b[K     |███████████████████████████████▌| 9.1 MB 4.3 MB/s eta 0:00:01\r",
      "\u001b[K     |███████████████████████████████▌| 9.1 MB 4.3 MB/s eta 0:00:01\r",
      "\u001b[K     |███████████████████████████████▋| 9.1 MB 4.3 MB/s eta 0:00:01\r",
      "\u001b[K     |███████████████████████████████▋| 9.1 MB 4.3 MB/s eta 0:00:01\r",
      "\u001b[K     |███████████████████████████████▋| 9.1 MB 4.3 MB/s eta 0:00:01\r",
      "\u001b[K     |███████████████████████████████▊| 9.1 MB 4.3 MB/s eta 0:00:01\r",
      "\u001b[K     |███████████████████████████████▊| 9.1 MB 4.3 MB/s eta 0:00:01\r",
      "\u001b[K     |███████████████████████████████▊| 9.1 MB 4.3 MB/s eta 0:00:01\r",
      "\u001b[K     |███████████████████████████████▉| 9.2 MB 4.3 MB/s eta 0:00:01\r",
      "\u001b[K     |███████████████████████████████▉| 9.2 MB 4.3 MB/s eta 0:00:01\r",
      "\u001b[K     |███████████████████████████████▉| 9.2 MB 4.3 MB/s eta 0:00:01\r",
      "\u001b[K     |████████████████████████████████| 9.2 MB 4.3 MB/s eta 0:00:01\r",
      "\u001b[K     |████████████████████████████████| 9.2 MB 4.3 MB/s eta 0:00:01\r",
      "\u001b[K     |████████████████████████████████| 9.2 MB 4.3 MB/s eta 0:00:01\r",
      "\u001b[K     |████████████████████████████████| 9.2 MB 4.3 MB/s eta 0:00:01"
     ]
    },
    {
     "name": "stdout",
     "output_type": "stream",
     "text": [
      "\r",
      "\u001b[K     |████████████████████████████████| 9.2 MB 4.3 MB/s \r\n"
     ]
    },
    {
     "name": "stdout",
     "output_type": "stream",
     "text": [
      "\u001b[?25hRequirement already satisfied: numpy>=1.14.5 in /opt/conda/lib/python3.7/site-packages (from deepspeech) (1.19.5)\r\n"
     ]
    },
    {
     "name": "stdout",
     "output_type": "stream",
     "text": [
      "Installing collected packages: deepspeech\r\n"
     ]
    },
    {
     "name": "stdout",
     "output_type": "stream",
     "text": [
      "Successfully installed deepspeech-0.9.3\r\n"
     ]
    }
   ],
   "source": [
    "!pip install deepspeech"
   ]
  },
  {
   "cell_type": "code",
   "execution_count": 3,
   "id": "italian-archive",
   "metadata": {
    "execution": {
     "iopub.execute_input": "2021-05-07T07:33:11.923002Z",
     "iopub.status.busy": "2021-05-07T07:33:11.921949Z",
     "iopub.status.idle": "2021-05-07T07:33:11.926642Z",
     "shell.execute_reply": "2021-05-07T07:33:11.925991Z"
    },
    "papermill": {
     "duration": 0.036292,
     "end_time": "2021-05-07T07:33:11.926865",
     "exception": false,
     "start_time": "2021-05-07T07:33:11.890573",
     "status": "completed"
    },
    "tags": []
   },
   "outputs": [
    {
     "ename": "SyntaxError",
     "evalue": "invalid syntax (<ipython-input-3-b5256a23efd4>, line 1)",
     "output_type": "error",
     "traceback": [
      "\u001b[0;36m  File \u001b[0;32m\"<ipython-input-3-b5256a23efd4>\"\u001b[0;36m, line \u001b[0;32m1\u001b[0m\n\u001b[0;31m    deepspeech --model ../input/polish-deepspeech-models/output_graph_pl.pbmm --scorer ../input/polish-deepspeech-models/kenlm_pl.scorer --json --audio ../input/wolne-lektury-deepspeech/20-000-mil-podmorskiej-zeglugi_026_nowa-propozycja-kapitana-nemo.wav > 20-000-mil-podmorskiej-zeglugi_026_nowa-propozycja-kapitana-nemo.json; rm $out $j; done;done\u001b[0m\n\u001b[0m                        ^\u001b[0m\n\u001b[0;31mSyntaxError\u001b[0m\u001b[0;31m:\u001b[0m invalid syntax\n"
     ]
    }
   ],
   "source": [
    "\n",
    "deepspeech --model ../input/polish-deepspeech-models/output_graph_pl.pbmm --scorer ../input/polish-deepspeech-models/kenlm_pl.scorer --json --audio ../input/wolne-lektury-deepspeech/20-000-mil-podmorskiej-zeglugi_026_nowa-propozycja-kapitana-nemo.wav > 20-000-mil-podmorskiej-zeglugi_026_nowa-propozycja-kapitana-nemo.json; rm $out $j; done;done"
   ]
  },
  {
   "cell_type": "code",
   "execution_count": 4,
   "id": "turned-shareware",
   "metadata": {
    "execution": {
     "iopub.execute_input": "2021-05-07T07:33:11.984582Z",
     "iopub.status.busy": "2021-05-07T07:33:11.983876Z"
    },
    "papermill": {
     "duration": null,
     "end_time": null,
     "exception": false,
     "start_time": "2021-05-07T07:33:11.952107",
     "status": "running"
    },
    "tags": []
   },
   "outputs": [
    {
     "name": "stdout",
     "output_type": "stream",
     "text": [
      "ffmpeg version 4.3.1 Copyright (c) 2000-2020 the FFmpeg developers\r\n",
      "  built with gcc 9.3.0 (crosstool-NG 1.24.0.133_b0863d8_dirty)\r\n",
      "  configuration: --prefix=/opt/conda --cc=/home/conda/feedstock_root/build_artifacts/ffmpeg_1609680890771/_build_env/bin/x86_64-conda-linux-gnu-cc --disable-doc --disable-openssl --enable-avresample --enable-gnutls --enable-gpl --enable-hardcoded-tables --enable-libfreetype --enable-libopenh264 --enable-libx264 --enable-pic --enable-pthreads --enable-shared --enable-static --enable-version3 --enable-zlib --enable-libmp3lame --pkg-config=/home/conda/feedstock_root/build_artifacts/ffmpeg_1609680890771/_build_env/bin/pkg-config\r\n",
      "  libavutil      56. 51.100 / 56. 51.100\r\n",
      "  libavcodec     58. 91.100 / 58. 91.100\r\n",
      "  libavformat    58. 45.100 / 58. 45.100\r\n",
      "  libavdevice    58. 10.100 / 58. 10.100\r\n",
      "  libavfilter     7. 85.100 /  7. 85.100\r\n",
      "  libavresample   4.  0.  0 /  4.  0.  0\r\n",
      "  libswscale      5.  7.100 /  5.  7.100\r\n",
      "  libswresample   3.  7.100 /  3.  7.100\r\n",
      "  libpostproc    55.  7.100 / 55.  7.100\r\n",
      "\u001b[0;33mUnknown attached picture mimetype: ('image/png', None), skipping.\r\n",
      "\u001b[0m"
     ]
    },
    {
     "name": "stdout",
     "output_type": "stream",
     "text": [
      "Input #0, mp3, from '../input/wolne-lektury-deepspeech/20-000-mil-podmorskiej-zeglugi_027_perla-wartosci-dziesieciu-milionow-frankow.mp3':\r\n",
      "  Metadata:\r\n",
      "    title           : 20 000 mil podmorskiej żeglugi (tłum. nieznany)\r\n",
      "    artist          : Mateusz Weber\r\n",
      "    album           : Wolne Lektury\r\n",
      "    date            : 2020\r\n",
      "    genre           : Speech\r\n",
      "    encoder         : Lavf58.20.100\r\n",
      "    performer       : Dominik Lehman\r\n",
      "    album_artist    : Fundacja Nowoczesna Polska\r\n",
      "    publisher       : Fundacja Nowoczesna Polska\r\n",
      "    copyright       : 2020 Fundacja Nowoczesna Polska. Licensed to the public under http://artlibre.org/licence/lal/pl/ verify at https://wolnelektury.pl/katalog/lektura/20-000-mil-podmorskiej-zeglugi/\r\n",
      "    comment         : Audiobook nagrany w ramach projektu Biblioteka Narodowa finansowanego przez Priorytet 4 Udostępnienie publikacji w formatach cyfrowych w ramach Narodowego Programu Rozwoju Czytelnictwa.\r\n",
      "                    : \r\n",
      "                    : Przekaż 1% podatku na rozwój Wolnych Lektur:\r\n",
      "                    : Fundacja Nowoczesna Polska\r\n",
      "                    : KRS 0000070056\r\n",
      "                    : http://nowoczesnapolska.org.pl/wesprzyj_nas/\r\n",
      "                    : \r\n",
      "    id3v2_priv.wolnelektury.pl?funded_by: Priorytet 4\\xc2\\xa0Udost\\xc4\\x99pnienie publikacji w formatach cyfrowych\\xc2\\xa0w ramach Narodowego Programu Rozwoju Czytelnictwa\r\n",
      "    id3v2_priv.wolnelektury.pl?flac_sha1: 6a74cc8a3db8d0e30d4304bf345d0ed833c36f03\r\n",
      "    id3v2_priv.wolnelektury.pl?project: Biblioteka Narodowa\r\n",
      "  Duration: 00:26:44.81, start: 0.025057, bitrate: 64 kb/s\r\n",
      "    Stream #0:0: Audio: mp3, 44100 Hz, mono, fltp, 64 kb/s\r\n",
      "Stream mapping:\r\n",
      "  Stream #0:0 -> #0:0 (mp3 (mp3float) -> pcm_s16le (native))\r\n",
      "Press [q] to stop, [?] for help\r\n",
      "Output #0, wav, to '20-000-mil-podmorskiej-zeglugi_027_perla-wartosci-dziesieciu-milionow-frankow.wav':\r\n",
      "  Metadata:\r\n",
      "    INAM            : 20 000 mil podmorskiej żeglugi (tłum. nieznany)\r\n",
      "    IART            : Mateusz Weber\r\n",
      "    IPRD            : Wolne Lektury\r\n",
      "    ICRD            : 2020\r\n",
      "    IGNR            : Speech\r\n",
      "    ILNG            : pol\r\n",
      "    id3v2_priv.wolnelektury.pl?project: Biblioteka Narodowa\r\n",
      "    performer       : Dominik Lehman\r\n",
      "    album_artist    : Fundacja Nowoczesna Polska\r\n",
      "    publisher       : Fundacja Nowoczesna Polska\r\n",
      "    ICOP            : 2020 Fundacja Nowoczesna Polska. Licensed to the public under http://artlibre.org/licence/lal/pl/ verify at https://wolnelektury.pl/katalog/lektura/20-000-mil-podmorskiej-zeglugi/\r\n",
      "    ICMT            : Audiobook nagrany w ramach projektu Biblioteka Narodowa finansowanego przez Priorytet 4 Udostępnienie publikacji w formatach cyfrowych w ramach Narodowego Programu Rozwoju Czytelnictwa.\r\n",
      "                    : \r\n",
      "                    : Przekaż 1% podatku na rozwój Wolnych Lektur:\r\n",
      "                    : Fundacja Nowoczesna Polska\r\n",
      "                    : KRS 0000070056\r\n",
      "                    : http://nowoczesnapolska.org.pl/wesprzyj_nas/\r\n",
      "                    : \r\n",
      "    id3v2_priv.wolnelektury.pl?funded_by: Priorytet 4\\xc2\\xa0Udost\\xc4\\x99pnienie publikacji w formatach cyfrowych\\xc2\\xa0w ramach Narodowego Programu Rozwoju Czytelnictwa\r\n",
      "    id3v2_priv.wolnelektury.pl?flac_sha1: 6a74cc8a3db8d0e30d4304bf345d0ed833c36f03\r\n",
      "    ISFT            : Lavf58.45.100\r\n",
      "    Stream #0:0: Audio: pcm_s16le ([1][0][0][0] / 0x0001), 16000 Hz, mono, s16, 256 kb/s\r\n",
      "    Metadata:\r\n",
      "      encoder         : Lavc58.91.100 pcm_s16le\r\n"
     ]
    },
    {
     "name": "stdout",
     "output_type": "stream",
     "text": [
      "size=   11520kB time=00:06:11.56 bitrate= 254.0kbits/s speed= 743x    \r"
     ]
    },
    {
     "name": "stdout",
     "output_type": "stream",
     "text": [
      "size=   23552kB time=00:12:39.43 bitrate= 254.1kbits/s speed= 759x    \r"
     ]
    },
    {
     "name": "stdout",
     "output_type": "stream",
     "text": [
      "size=   35584kB time=00:19:05.07 bitrate= 254.6kbits/s speed= 763x    \r"
     ]
    },
    {
     "name": "stdout",
     "output_type": "stream",
     "text": [
      "size=   47616kB time=00:25:28.29 bitrate= 255.2kbits/s speed= 764x    \r"
     ]
    },
    {
     "name": "stdout",
     "output_type": "stream",
     "text": [
      "size=   50150kB time=00:26:44.76 bitrate= 256.0kbits/s speed= 764x    \r\n",
      "video:0kB audio:50149kB subtitle:0kB other streams:0kB global headers:0kB muxing overhead: 0.001449%\r\n"
     ]
    },
    {
     "name": "stdout",
     "output_type": "stream",
     "text": [
      "Loading model from file ../input/polish-deepspeech-models/output_graph_pl.pbmm\r\n",
      "TensorFlow: v2.3.0-6-g23ad988\r\n",
      "DeepSpeech: v0.9.3-0-gf2e9c85\r\n",
      "2021-05-07 07:33:15.221130: I tensorflow/core/platform/cpu_feature_guard.cc:142] This TensorFlow binary is optimized with oneAPI Deep Neural Network Library (oneDNN)to use the following CPU instructions in performance-critical operations:  AVX2 FMA\r\n",
      "To enable them in other operations, rebuild TensorFlow with the appropriate compiler flags.\r\n",
      "Loaded model in 0.0234s.\r\n",
      "Loading scorer from files ../input/polish-deepspeech-models/kenlm_pl.scorer\r\n"
     ]
    },
    {
     "name": "stdout",
     "output_type": "stream",
     "text": [
      "Loaded scorer in 0.0591s.\r\n"
     ]
    },
    {
     "name": "stdout",
     "output_type": "stream",
     "text": [
      "Running inference.\r\n"
     ]
    },
    {
     "name": "stdout",
     "output_type": "stream",
     "text": [
      "Inference took 2014.555s for 1604.767s audio file.\r\n"
     ]
    },
    {
     "name": "stdout",
     "output_type": "stream",
     "text": [
      "ffmpeg version 4.3.1 Copyright (c) 2000-2020 the FFmpeg developers\r\n",
      "  built with gcc 9.3.0 (crosstool-NG 1.24.0.133_b0863d8_dirty)\r\n",
      "  configuration: --prefix=/opt/conda --cc=/home/conda/feedstock_root/build_artifacts/ffmpeg_1609680890771/_build_env/bin/x86_64-conda-linux-gnu-cc --disable-doc --disable-openssl --enable-avresample --enable-gnutls --enable-gpl --enable-hardcoded-tables --enable-libfreetype --enable-libopenh264 --enable-libx264 --enable-pic --enable-pthreads --enable-shared --enable-static --enable-version3 --enable-zlib --enable-libmp3lame --pkg-config=/home/conda/feedstock_root/build_artifacts/ffmpeg_1609680890771/_build_env/bin/pkg-config\r\n",
      "  libavutil      56. 51.100 / 56. 51.100\r\n",
      "  libavcodec     58. 91.100 / 58. 91.100\r\n",
      "  libavformat    58. 45.100 / 58. 45.100\r\n",
      "  libavdevice    58. 10.100 / 58. 10.100\r\n",
      "  libavfilter     7. 85.100 /  7. 85.100\r\n",
      "  libavresample   4.  0.  0 /  4.  0.  0\r\n",
      "  libswscale      5.  7.100 /  5.  7.100\r\n",
      "  libswresample   3.  7.100 /  3.  7.100\r\n",
      "  libpostproc    55.  7.100 / 55.  7.100\r\n",
      "\u001b[0;33mUnknown attached picture mimetype: ('image/png', None), skipping.\r\n",
      "\u001b[0mInput #0, mp3, from '../input/wolne-lektury-deepspeech/20-000-mil-podmorskiej-zeglugi_028_morze-czerwone.mp3':\r\n",
      "  Metadata:\r\n",
      "    title           : 20 000 mil podmorskiej żeglugi (tłum. nieznany)\r\n",
      "    artist          : Mateusz Weber\r\n",
      "    album           : Wolne Lektury\r\n",
      "    date            : 2020\r\n",
      "    genre           : Speech\r\n",
      "    encoder         : Lavf58.20.100\r\n",
      "    performer       : Dominik Lehman\r\n",
      "    album_artist    : Fundacja Nowoczesna Polska\r\n",
      "    publisher       : Fundacja Nowoczesna Polska\r\n",
      "    copyright       : 2020 Fundacja Nowoczesna Polska. Licensed to the public under http://artlibre.org/licence/lal/pl/ verify at https://wolnelektury.pl/katalog/lektura/20-000-mil-podmorskiej-zeglugi/\r\n",
      "    comment         : Audiobook nagrany w ramach projektu Biblioteka Narodowa finansowanego przez Priorytet 4 Udostępnienie publikacji w formatach cyfrowych w ramach Narodowego Programu Rozwoju Czytelnictwa.\r\n",
      "                    : \r\n",
      "                    : Przekaż 1% podatku na rozwój Wolnych Lektur:\r\n",
      "                    : Fundacja Nowoczesna Polska\r\n",
      "                    : KRS 0000070056\r\n",
      "                    : http://nowoczesnapolska.org.pl/wesprzyj_nas/\r\n",
      "                    : \r\n",
      "    id3v2_priv.wolnelektury.pl?funded_by: Priorytet 4\\xc2\\xa0Udost\\xc4\\x99pnienie publikacji w formatach cyfrowych\\xc2\\xa0w ramach Narodowego Programu Rozwoju Czytelnictwa\r\n",
      "    id3v2_priv.wolnelektury.pl?flac_sha1: 9376a40fe8aed7c5b150622f24164cbfa16e179d\r\n",
      "    id3v2_priv.wolnelektury.pl?project: Biblioteka Narodowa\r\n",
      "  Duration: 00:29:28.65, start: 0.025057, bitrate: 64 kb/s\r\n",
      "    Stream #0:0: Audio: mp3, 44100 Hz, mono, fltp, 64 kb/s\r\n",
      "Stream mapping:\r\n",
      "  Stream #0:0 -> #0:0 (mp3 (mp3float) -> pcm_s16le (native))\r\n",
      "Press [q] to stop, [?] for help\r\n",
      "Output #0, wav, to '20-000-mil-podmorskiej-zeglugi_028_morze-czerwone.wav':\r\n",
      "  Metadata:\r\n",
      "    INAM            : 20 000 mil podmorskiej żeglugi (tłum. nieznany)\r\n",
      "    IART            : Mateusz Weber\r\n",
      "    IPRD            : Wolne Lektury\r\n",
      "    ICRD            : 2020\r\n",
      "    IGNR            : Speech\r\n",
      "    ILNG            : pol\r\n",
      "    id3v2_priv.wolnelektury.pl?project: Biblioteka Narodowa\r\n",
      "    performer       : Dominik Lehman\r\n",
      "    album_artist    : Fundacja Nowoczesna Polska\r\n",
      "    publisher       : Fundacja Nowoczesna Polska\r\n",
      "    ICOP            : 2020 Fundacja Nowoczesna Polska. Licensed to the public under http://artlibre.org/licence/lal/pl/ verify at https://wolnelektury.pl/katalog/lektura/20-000-mil-podmorskiej-zeglugi/\r\n",
      "    ICMT            : Audiobook nagrany w ramach projektu Biblioteka Narodowa finansowanego przez Priorytet 4 Udostępnienie publikacji w formatach cyfrowych w ramach Narodowego Programu Rozwoju Czytelnictwa.\r\n",
      "                    : \r\n",
      "                    : Przekaż 1% podatku na rozwój Wolnych Lektur:\r\n",
      "                    : Fundacja Nowoczesna Polska\r\n",
      "                    : KRS 0000070056\r\n",
      "                    : http://nowoczesnapolska.org.pl/wesprzyj_nas/\r\n",
      "                    : \r\n",
      "    id3v2_priv.wolnelektury.pl?funded_by: Priorytet 4\\xc2\\xa0Udost\\xc4\\x99pnienie publikacji w formatach cyfrowych\\xc2\\xa0w ramach Narodowego Programu Rozwoju Czytelnictwa\r\n",
      "    id3v2_priv.wolnelektury.pl?flac_sha1: 9376a40fe8aed7c5b150622f24164cbfa16e179d\r\n",
      "    ISFT            : Lavf58.45.100\r\n",
      "    Stream #0:0: Audio: pcm_s16le ([1][0][0][0] / 0x0001), 16000 Hz, mono, s16, 256 kb/s\r\n",
      "    Metadata:\r\n",
      "      encoder         : Lavc58.91.100 pcm_s16le\r\n"
     ]
    },
    {
     "name": "stdout",
     "output_type": "stream",
     "text": [
      "size=   11776kB time=00:06:17.18 bitrate= 255.8kbits/s speed= 754x    \r"
     ]
    },
    {
     "name": "stdout",
     "output_type": "stream",
     "text": [
      "size=   23552kB time=00:12:40.71 bitrate= 253.6kbits/s speed= 761x    \r"
     ]
    },
    {
     "name": "stdout",
     "output_type": "stream",
     "text": [
      "size=   35840kB time=00:19:07.01 bitrate= 256.0kbits/s speed= 765x    \r"
     ]
    },
    {
     "name": "stdout",
     "output_type": "stream",
     "text": [
      "size=   47616kB time=00:25:27.58 bitrate= 255.4kbits/s speed= 764x    \r"
     ]
    },
    {
     "name": "stdout",
     "output_type": "stream",
     "text": [
      "size=   55270kB time=00:29:28.61 bitrate= 256.0kbits/s speed= 763x    \r\n",
      "video:0kB audio:55269kB subtitle:0kB other streams:0kB global headers:0kB muxing overhead: 0.001315%\r\n"
     ]
    },
    {
     "name": "stdout",
     "output_type": "stream",
     "text": [
      "Loading model from file ../input/polish-deepspeech-models/output_graph_pl.pbmm\r\n",
      "TensorFlow: v2.3.0-6-g23ad988\r\n",
      "DeepSpeech: v0.9.3-0-gf2e9c85\r\n",
      "2021-05-07 08:06:52.567900: I tensorflow/core/platform/cpu_feature_guard.cc:142] This TensorFlow binary is optimized with oneAPI Deep Neural Network Library (oneDNN)to use the following CPU instructions in performance-critical operations:  AVX2 FMA\r\n",
      "To enable them in other operations, rebuild TensorFlow with the appropriate compiler flags.\r\n",
      "Loaded model in 0.017s.\r\n",
      "Loading scorer from files ../input/polish-deepspeech-models/kenlm_pl.scorer\r\n",
      "Loaded scorer in 0.00707s.\r\n"
     ]
    },
    {
     "name": "stdout",
     "output_type": "stream",
     "text": [
      "Running inference.\r\n"
     ]
    },
    {
     "name": "stdout",
     "output_type": "stream",
     "text": [
      "Inference took 2292.848s for 1768.618s audio file.\r\n"
     ]
    },
    {
     "name": "stdout",
     "output_type": "stream",
     "text": [
      "ffmpeg version 4.3.1 Copyright (c) 2000-2020 the FFmpeg developers\r\n",
      "  built with gcc 9.3.0 (crosstool-NG 1.24.0.133_b0863d8_dirty)\r\n",
      "  configuration: --prefix=/opt/conda --cc=/home/conda/feedstock_root/build_artifacts/ffmpeg_1609680890771/_build_env/bin/x86_64-conda-linux-gnu-cc --disable-doc --disable-openssl --enable-avresample --enable-gnutls --enable-gpl --enable-hardcoded-tables --enable-libfreetype --enable-libopenh264 --enable-libx264 --enable-pic --enable-pthreads --enable-shared --enable-static --enable-version3 --enable-zlib --enable-libmp3lame --pkg-config=/home/conda/feedstock_root/build_artifacts/ffmpeg_1609680890771/_build_env/bin/pkg-config\r\n",
      "  libavutil      56. 51.100 / 56. 51.100\r\n",
      "  libavcodec     58. 91.100 / 58. 91.100\r\n",
      "  libavformat    58. 45.100 / 58. 45.100\r\n",
      "  libavdevice    58. 10.100 / 58. 10.100\r\n",
      "  libavfilter     7. 85.100 /  7. 85.100\r\n",
      "  libavresample   4.  0.  0 /  4.  0.  0\r\n",
      "  libswscale      5.  7.100 /  5.  7.100\r\n",
      "  libswresample   3.  7.100 /  3.  7.100\r\n",
      "  libpostproc    55.  7.100 / 55.  7.100\r\n",
      "\u001b[0;33mUnknown attached picture mimetype: ('image/png', None), skipping.\r\n",
      "\u001b[0mInput #0, mp3, from '../input/wolne-lektury-deepspeech/20-000-mil-podmorskiej-zeglugi_029_arabian-tunnel.mp3':\r\n",
      "  Metadata:\r\n",
      "    title           : 20 000 mil podmorskiej żeglugi (tłum. nieznany)\r\n",
      "    artist          : Mateusz Weber\r\n",
      "    album           : Wolne Lektury\r\n",
      "    date            : 2020\r\n",
      "    genre           : Speech\r\n",
      "    encoder         : Lavf58.20.100\r\n",
      "    performer       : Dominik Lehman\r\n",
      "    album_artist    : Fundacja Nowoczesna Polska\r\n",
      "    publisher       : Fundacja Nowoczesna Polska\r\n",
      "    copyright       : 2020 Fundacja Nowoczesna Polska. Licensed to the public under http://artlibre.org/licence/lal/pl/ verify at https://wolnelektury.pl/katalog/lektura/20-000-mil-podmorskiej-zeglugi/\r\n",
      "    comment         : Audiobook nagrany w ramach projektu Biblioteka Narodowa finansowanego przez Priorytet 4 Udostępnienie publikacji w formatach cyfrowych w ramach Narodowego Programu Rozwoju Czytelnictwa.\r\n",
      "                    : \r\n",
      "                    : Przekaż 1% podatku na rozwój Wolnych Lektur:\r\n",
      "                    : Fundacja Nowoczesna Polska\r\n",
      "                    : KRS 0000070056\r\n",
      "                    : http://nowoczesnapolska.org.pl/wesprzyj_nas/\r\n",
      "                    : \r\n",
      "    id3v2_priv.wolnelektury.pl?funded_by: Priorytet 4\\xc2\\xa0Udost\\xc4\\x99pnienie publikacji w formatach cyfrowych\\xc2\\xa0w ramach Narodowego Programu Rozwoju Czytelnictwa\r\n",
      "    id3v2_priv.wolnelektury.pl?flac_sha1: bb0c781df9f271fa34f2c2ff293650083ec77680\r\n",
      "    id3v2_priv.wolnelektury.pl?project: Biblioteka Narodowa\r\n",
      "  Duration: 00:20:11.56, start: 0.025057, bitrate: 64 kb/s\r\n",
      "    Stream #0:0: Audio: mp3, 44100 Hz, mono, fltp, 64 kb/s\r\n",
      "Stream mapping:\r\n",
      "  Stream #0:0 -> #0:0 (mp3 (mp3float) -> pcm_s16le (native))\r\n",
      "Press [q] to stop, [?] for help\r\n",
      "Output #0, wav, to '20-000-mil-podmorskiej-zeglugi_029_arabian-tunnel.wav':\r\n",
      "  Metadata:\r\n",
      "    INAM            : 20 000 mil podmorskiej żeglugi (tłum. nieznany)\r\n",
      "    IART            : Mateusz Weber\r\n",
      "    IPRD            : Wolne Lektury\r\n",
      "    ICRD            : 2020\r\n",
      "    IGNR            : Speech\r\n",
      "    ILNG            : pol\r\n",
      "    id3v2_priv.wolnelektury.pl?project: Biblioteka Narodowa\r\n",
      "    performer       : Dominik Lehman\r\n",
      "    album_artist    : Fundacja Nowoczesna Polska\r\n",
      "    publisher       : Fundacja Nowoczesna Polska\r\n",
      "    ICOP            : 2020 Fundacja Nowoczesna Polska. Licensed to the public under http://artlibre.org/licence/lal/pl/ verify at https://wolnelektury.pl/katalog/lektura/20-000-mil-podmorskiej-zeglugi/\r\n",
      "    ICMT            : Audiobook nagrany w ramach projektu Biblioteka Narodowa finansowanego przez Priorytet 4 Udostępnienie publikacji w formatach cyfrowych w ramach Narodowego Programu Rozwoju Czytelnictwa.\r\n",
      "                    : \r\n",
      "                    : Przekaż 1% podatku na rozwój Wolnych Lektur:\r\n",
      "                    : Fundacja Nowoczesna Polska\r\n",
      "                    : KRS 0000070056\r\n",
      "                    : http://nowoczesnapolska.org.pl/wesprzyj_nas/\r\n",
      "                    : \r\n",
      "    id3v2_priv.wolnelektury.pl?funded_by: Priorytet 4\\xc2\\xa0Udost\\xc4\\x99pnienie publikacji w formatach cyfrowych\\xc2\\xa0w ramach Narodowego Programu Rozwoju Czytelnictwa\r\n",
      "    id3v2_priv.wolnelektury.pl?flac_sha1: bb0c781df9f271fa34f2c2ff293650083ec77680\r\n",
      "    ISFT            : Lavf58.45.100\r\n",
      "    Stream #0:0: Audio: pcm_s16le ([1][0][0][0] / 0x0001), 16000 Hz, mono, s16, 256 kb/s\r\n",
      "    Metadata:\r\n",
      "      encoder         : Lavc58.91.100 pcm_s16le\r\n"
     ]
    },
    {
     "name": "stdout",
     "output_type": "stream",
     "text": [
      "size=   11776kB time=00:06:19.55 bitrate= 254.2kbits/s speed= 759x    \r"
     ]
    },
    {
     "name": "stdout",
     "output_type": "stream",
     "text": [
      "size=   23552kB time=00:12:41.10 bitrate= 253.5kbits/s speed= 761x    \r"
     ]
    },
    {
     "name": "stdout",
     "output_type": "stream",
     "text": [
      "size=   35584kB time=00:18:59.87 bitrate= 255.7kbits/s speed= 760x    \r"
     ]
    },
    {
     "name": "stdout",
     "output_type": "stream",
     "text": [
      "size=   37861kB time=00:20:11.51 bitrate= 256.0kbits/s speed= 759x    \r\n",
      "video:0kB audio:37860kB subtitle:0kB other streams:0kB global headers:0kB muxing overhead: 0.001919%\r\n"
     ]
    },
    {
     "name": "stdout",
     "output_type": "stream",
     "text": [
      "Loading model from file ../input/polish-deepspeech-models/output_graph_pl.pbmm\r\n",
      "TensorFlow: v2.3.0-6-g23ad988\r\n",
      "DeepSpeech: v0.9.3-0-gf2e9c85\r\n",
      "2021-05-07 08:45:07.444445: I tensorflow/core/platform/cpu_feature_guard.cc:142] This TensorFlow binary is optimized with oneAPI Deep Neural Network Library (oneDNN)to use the following CPU instructions in performance-critical operations:  AVX2 FMA\r\n",
      "To enable them in other operations, rebuild TensorFlow with the appropriate compiler flags.\r\n"
     ]
    },
    {
     "name": "stdout",
     "output_type": "stream",
     "text": [
      "Loaded model in 0.0176s.\r\n",
      "Loading scorer from files ../input/polish-deepspeech-models/kenlm_pl.scorer\r\n",
      "Loaded scorer in 0.00579s.\r\n",
      "Running inference.\r\n"
     ]
    },
    {
     "name": "stdout",
     "output_type": "stream",
     "text": [
      "Inference took 1271.830s for 1211.519s audio file.\r\n"
     ]
    },
    {
     "name": "stdout",
     "output_type": "stream",
     "text": [
      "ffmpeg version 4.3.1 Copyright (c) 2000-2020 the FFmpeg developers\r\n",
      "  built with gcc 9.3.0 (crosstool-NG 1.24.0.133_b0863d8_dirty)\r\n",
      "  configuration: --prefix=/opt/conda --cc=/home/conda/feedstock_root/build_artifacts/ffmpeg_1609680890771/_build_env/bin/x86_64-conda-linux-gnu-cc --disable-doc --disable-openssl --enable-avresample --enable-gnutls --enable-gpl --enable-hardcoded-tables --enable-libfreetype --enable-libopenh264 --enable-libx264 --enable-pic --enable-pthreads --enable-shared --enable-static --enable-version3 --enable-zlib --enable-libmp3lame --pkg-config=/home/conda/feedstock_root/build_artifacts/ffmpeg_1609680890771/_build_env/bin/pkg-config\r\n",
      "  libavutil      56. 51.100 / 56. 51.100\r\n",
      "  libavcodec     58. 91.100 / 58. 91.100\r\n",
      "  libavformat    58. 45.100 / 58. 45.100\r\n",
      "  libavdevice    58. 10.100 / 58. 10.100\r\n",
      "  libavfilter     7. 85.100 /  7. 85.100\r\n",
      "  libavresample   4.  0.  0 /  4.  0.  0\r\n",
      "  libswscale      5.  7.100 /  5.  7.100\r\n",
      "  libswresample   3.  7.100 /  3.  7.100\r\n",
      "  libpostproc    55.  7.100 / 55.  7.100\r\n",
      "\u001b[0;33mUnknown attached picture mimetype: ('image/png', None), skipping.\r\n",
      "\u001b[0m"
     ]
    },
    {
     "name": "stdout",
     "output_type": "stream",
     "text": [
      "Input #0, mp3, from '../input/wolne-lektury-deepspeech/20-000-mil-podmorskiej-zeglugi_030_archipelag-grecki.mp3':\r\n",
      "  Metadata:\r\n",
      "    title           : 20 000 mil podmorskiej żeglugi (tłum. nieznany)\r\n",
      "    artist          : Mateusz Weber\r\n",
      "    album           : Wolne Lektury\r\n",
      "    date            : 2020\r\n",
      "    genre           : Speech\r\n",
      "    encoder         : Lavf58.20.100\r\n",
      "    performer       : Dominik Lehman\r\n",
      "    album_artist    : Fundacja Nowoczesna Polska\r\n",
      "    publisher       : Fundacja Nowoczesna Polska\r\n",
      "    copyright       : 2020 Fundacja Nowoczesna Polska. Licensed to the public under http://artlibre.org/licence/lal/pl/ verify at https://wolnelektury.pl/katalog/lektura/20-000-mil-podmorskiej-zeglugi/\r\n",
      "    comment         : Audiobook nagrany w ramach projektu Biblioteka Narodowa finansowanego przez Priorytet 4 Udostępnienie publikacji w formatach cyfrowych w ramach Narodowego Programu Rozwoju Czytelnictwa.\r\n",
      "                    : \r\n",
      "                    : Przekaż 1% podatku na rozwój Wolnych Lektur:\r\n",
      "                    : Fundacja Nowoczesna Polska\r\n",
      "                    : KRS 0000070056\r\n",
      "                    : http://nowoczesnapolska.org.pl/wesprzyj_nas/\r\n",
      "                    : \r\n",
      "    id3v2_priv.wolnelektury.pl?funded_by: Priorytet 4\\xc2\\xa0Udost\\xc4\\x99pnienie publikacji w formatach cyfrowych\\xc2\\xa0w ramach Narodowego Programu Rozwoju Czytelnictwa\r\n",
      "    id3v2_priv.wolnelektury.pl?flac_sha1: 2a1b871d760101417e918042dd73361a4c33a825\r\n",
      "    id3v2_priv.wolnelektury.pl?project: Biblioteka Narodowa\r\n",
      "  Duration: 00:24:39.05, start: 0.025057, bitrate: 64 kb/s\r\n",
      "    Stream #0:0: Audio: mp3, 44100 Hz, mono, fltp, 64 kb/s\r\n",
      "Stream mapping:\r\n",
      "  Stream #0:0 -> #0:0 (mp3 (mp3float) -> pcm_s16le (native))\r\n",
      "Press [q] to stop, [?] for help\r\n",
      "Output #0, wav, to '20-000-mil-podmorskiej-zeglugi_030_archipelag-grecki.wav':\r\n",
      "  Metadata:\r\n",
      "    INAM            : 20 000 mil podmorskiej żeglugi (tłum. nieznany)\r\n",
      "    IART            : Mateusz Weber\r\n",
      "    IPRD            : Wolne Lektury\r\n",
      "    ICRD            : 2020\r\n",
      "    IGNR            : Speech\r\n",
      "    ILNG            : pol\r\n",
      "    id3v2_priv.wolnelektury.pl?project: Biblioteka Narodowa\r\n",
      "    performer       : Dominik Lehman\r\n",
      "    album_artist    : Fundacja Nowoczesna Polska\r\n",
      "    publisher       : Fundacja Nowoczesna Polska\r\n",
      "    ICOP            : 2020 Fundacja Nowoczesna Polska. Licensed to the public under http://artlibre.org/licence/lal/pl/ verify at https://wolnelektury.pl/katalog/lektura/20-000-mil-podmorskiej-zeglugi/\r\n",
      "    ICMT            : Audiobook nagrany w ramach projektu Biblioteka Narodowa finansowanego przez Priorytet 4 Udostępnienie publikacji w formatach cyfrowych w ramach Narodowego Programu Rozwoju Czytelnictwa.\r\n",
      "                    : \r\n",
      "                    : Przekaż 1% podatku na rozwój Wolnych Lektur:\r\n",
      "                    : Fundacja Nowoczesna Polska\r\n",
      "                    : KRS 0000070056\r\n",
      "                    : http://nowoczesnapolska.org.pl/wesprzyj_nas/\r\n",
      "                    : \r\n",
      "    id3v2_priv.wolnelektury.pl?funded_by: Priorytet 4\\xc2\\xa0Udost\\xc4\\x99pnienie publikacji w formatach cyfrowych\\xc2\\xa0w ramach Narodowego Programu Rozwoju Czytelnictwa\r\n",
      "    id3v2_priv.wolnelektury.pl?flac_sha1: 2a1b871d760101417e918042dd73361a4c33a825\r\n",
      "    ISFT            : Lavf58.45.100\r\n",
      "    Stream #0:0: Audio: pcm_s16le ([1][0][0][0] / 0x0001), 16000 Hz, mono, s16, 256 kb/s\r\n",
      "    Metadata:\r\n",
      "      encoder         : Lavc58.91.100 pcm_s16le\r\n"
     ]
    },
    {
     "name": "stdout",
     "output_type": "stream",
     "text": [
      "size=   11776kB time=00:06:17.07 bitrate= 255.8kbits/s speed= 754x    \r"
     ]
    },
    {
     "name": "stdout",
     "output_type": "stream",
     "text": [
      "size=   23552kB time=00:12:38.30 bitrate= 254.4kbits/s speed= 758x    \r"
     ]
    },
    {
     "name": "stdout",
     "output_type": "stream",
     "text": [
      "size=   35328kB time=00:18:57.94 bitrate= 254.3kbits/s speed= 759x    \r"
     ]
    },
    {
     "name": "stdout",
     "output_type": "stream",
     "text": [
      "size=   46220kB time=00:24:39.01 bitrate= 256.0kbits/s speed= 758x    \r\n",
      "video:0kB audio:46219kB subtitle:0kB other streams:0kB global headers:0kB muxing overhead: 0.001572%\r\n"
     ]
    },
    {
     "name": "stdout",
     "output_type": "stream",
     "text": [
      "Loading model from file ../input/polish-deepspeech-models/output_graph_pl.pbmm\r\n",
      "TensorFlow: v2.3.0-6-g23ad988\r\n",
      "DeepSpeech: v0.9.3-0-gf2e9c85\r\n",
      "2021-05-07 09:06:21.625620: I tensorflow/core/platform/cpu_feature_guard.cc:142] This TensorFlow binary is optimized with oneAPI Deep Neural Network Library (oneDNN)to use the following CPU instructions in performance-critical operations:  AVX2 FMA\r\n",
      "To enable them in other operations, rebuild TensorFlow with the appropriate compiler flags.\r\n",
      "Loaded model in 0.0156s.\r\n",
      "Loading scorer from files ../input/polish-deepspeech-models/kenlm_pl.scorer\r\n",
      "Loaded scorer in 0.00462s.\r\n"
     ]
    },
    {
     "name": "stdout",
     "output_type": "stream",
     "text": [
      "Running inference.\r\n"
     ]
    },
    {
     "name": "stdout",
     "output_type": "stream",
     "text": [
      "Inference took 1677.599s for 1479.012s audio file.\r\n"
     ]
    },
    {
     "name": "stdout",
     "output_type": "stream",
     "text": [
      "ffmpeg version 4.3.1 Copyright (c) 2000-2020 the FFmpeg developers\r\n",
      "  built with gcc 9.3.0 (crosstool-NG 1.24.0.133_b0863d8_dirty)\r\n",
      "  configuration: --prefix=/opt/conda --cc=/home/conda/feedstock_root/build_artifacts/ffmpeg_1609680890771/_build_env/bin/x86_64-conda-linux-gnu-cc --disable-doc --disable-openssl --enable-avresample --enable-gnutls --enable-gpl --enable-hardcoded-tables --enable-libfreetype --enable-libopenh264 --enable-libx264 --enable-pic --enable-pthreads --enable-shared --enable-static --enable-version3 --enable-zlib --enable-libmp3lame --pkg-config=/home/conda/feedstock_root/build_artifacts/ffmpeg_1609680890771/_build_env/bin/pkg-config\r\n",
      "  libavutil      56. 51.100 / 56. 51.100\r\n",
      "  libavcodec     58. 91.100 / 58. 91.100\r\n",
      "  libavformat    58. 45.100 / 58. 45.100\r\n",
      "  libavdevice    58. 10.100 / 58. 10.100\r\n",
      "  libavfilter     7. 85.100 /  7. 85.100\r\n",
      "  libavresample   4.  0.  0 /  4.  0.  0\r\n",
      "  libswscale      5.  7.100 /  5.  7.100\r\n",
      "  libswresample   3.  7.100 /  3.  7.100\r\n",
      "  libpostproc    55.  7.100 / 55.  7.100\r\n",
      "\u001b[0;33mUnknown attached picture mimetype: ('image/png', None), skipping.\r\n",
      "\u001b[0mInput #0, mp3, from '../input/wolne-lektury-deepspeech/20-000-mil-podmorskiej-zeglugi_031_przez-morze-srodziemne-w-czterdziesci-osiem-godzin.mp3':\r\n",
      "  Metadata:\r\n",
      "    title           : 20 000 mil podmorskiej żeglugi (tłum. nieznany)\r\n",
      "    artist          : Mateusz Weber\r\n",
      "    album           : Wolne Lektury\r\n",
      "    date            : 2020\r\n",
      "    genre           : Speech\r\n",
      "    encoder         : Lavf58.20.100\r\n",
      "    performer       : Dominik Lehman\r\n",
      "    album_artist    : Fundacja Nowoczesna Polska\r\n",
      "    publisher       : Fundacja Nowoczesna Polska\r\n",
      "    copyright       : 2020 Fundacja Nowoczesna Polska. Licensed to the public under http://artlibre.org/licence/lal/pl/ verify at https://wolnelektury.pl/katalog/lektura/20-000-mil-podmorskiej-zeglugi/\r\n",
      "    comment         : Audiobook nagrany w ramach projektu Biblioteka Narodowa finansowanego przez Priorytet 4 Udostępnienie publikacji w formatach cyfrowych w ramach Narodowego Programu Rozwoju Czytelnictwa.\r\n",
      "                    : \r\n",
      "                    : Przekaż 1% podatku na rozwój Wolnych Lektur:\r\n",
      "                    : Fundacja Nowoczesna Polska\r\n",
      "                    : KRS 0000070056\r\n",
      "                    : http://nowoczesnapolska.org.pl/wesprzyj_nas/\r\n",
      "                    : \r\n",
      "    id3v2_priv.wolnelektury.pl?funded_by: Priorytet 4\\xc2\\xa0Udost\\xc4\\x99pnienie publikacji w formatach cyfrowych\\xc2\\xa0w ramach Narodowego Programu Rozwoju Czytelnictwa\r\n",
      "    id3v2_priv.wolnelektury.pl?flac_sha1: 4044cde4e76fe671558b5288ea04eb0ee73f3201\r\n",
      "    id3v2_priv.wolnelektury.pl?project: Biblioteka Narodowa\r\n",
      "  Duration: 00:24:13.11, start: 0.025057, bitrate: 64 kb/s\r\n",
      "    Stream #0:0: Audio: mp3, 44100 Hz, mono, fltp, 64 kb/s\r\n",
      "Stream mapping:\r\n",
      "  Stream #0:0 -> #0:0 (mp3 (mp3float) -> pcm_s16le (native))\r\n",
      "Press [q] to stop, [?] for help\r\n",
      "Output #0, wav, to '20-000-mil-podmorskiej-zeglugi_031_przez-morze-srodziemne-w-czterdziesci-osiem-godzin.wav':\r\n",
      "  Metadata:\r\n",
      "    INAM            : 20 000 mil podmorskiej żeglugi (tłum. nieznany)\r\n",
      "    IART            : Mateusz Weber\r\n",
      "    IPRD            : Wolne Lektury\r\n",
      "    ICRD            : 2020\r\n",
      "    IGNR            : Speech\r\n",
      "    ILNG            : pol\r\n",
      "    id3v2_priv.wolnelektury.pl?project: Biblioteka Narodowa\r\n",
      "    performer       : Dominik Lehman\r\n",
      "    album_artist    : Fundacja Nowoczesna Polska\r\n",
      "    publisher       : Fundacja Nowoczesna Polska\r\n",
      "    ICOP            : 2020 Fundacja Nowoczesna Polska. Licensed to the public under http://artlibre.org/licence/lal/pl/ verify at https://wolnelektury.pl/katalog/lektura/20-000-mil-podmorskiej-zeglugi/\r\n",
      "    ICMT            : Audiobook nagrany w ramach projektu Biblioteka Narodowa finansowanego przez Priorytet 4 Udostępnienie publikacji w formatach cyfrowych w ramach Narodowego Programu Rozwoju Czytelnictwa.\r\n",
      "                    : \r\n",
      "                    : Przekaż 1% podatku na rozwój Wolnych Lektur:\r\n",
      "                    : Fundacja Nowoczesna Polska\r\n",
      "                    : KRS 0000070056\r\n",
      "                    : http://nowoczesnapolska.org.pl/wesprzyj_nas/\r\n",
      "                    : \r\n",
      "    id3v2_priv.wolnelektury.pl?funded_by: Priorytet 4\\xc2\\xa0Udost\\xc4\\x99pnienie publikacji w formatach cyfrowych\\xc2\\xa0w ramach Narodowego Programu Rozwoju Czytelnictwa\r\n",
      "    id3v2_priv.wolnelektury.pl?flac_sha1: 4044cde4e76fe671558b5288ea04eb0ee73f3201\r\n",
      "    ISFT            : Lavf58.45.100\r\n",
      "    Stream #0:0: Audio: pcm_s16le ([1][0][0][0] / 0x0001), 16000 Hz, mono, s16, 256 kb/s\r\n",
      "    Metadata:\r\n",
      "      encoder         : Lavc58.91.100 pcm_s16le\r\n"
     ]
    },
    {
     "name": "stdout",
     "output_type": "stream",
     "text": [
      "size=   11264kB time=00:06:02.37 bitrate= 254.6kbits/s speed= 725x    \r"
     ]
    },
    {
     "name": "stdout",
     "output_type": "stream",
     "text": [
      "size=   22784kB time=00:12:14.40 bitrate= 254.1kbits/s speed= 734x    \r"
     ]
    },
    {
     "name": "stdout",
     "output_type": "stream",
     "text": [
      "size=   34304kB time=00:18:19.07 bitrate= 255.7kbits/s speed= 733x    \r"
     ]
    },
    {
     "name": "stdout",
     "output_type": "stream",
     "text": [
      "size=   45409kB time=00:24:13.07 bitrate= 256.0kbits/s speed= 735x    \r\n",
      "video:0kB audio:45408kB subtitle:0kB other streams:0kB global headers:0kB muxing overhead: 0.001600%\r\n"
     ]
    },
    {
     "name": "stdout",
     "output_type": "stream",
     "text": [
      "Loading model from file ../input/polish-deepspeech-models/output_graph_pl.pbmm\r\n",
      "TensorFlow: v2.3.0-6-g23ad988\r\n",
      "DeepSpeech: v0.9.3-0-gf2e9c85\r\n",
      "2021-05-07 09:34:21.618210: I tensorflow/core/platform/cpu_feature_guard.cc:142] This TensorFlow binary is optimized with oneAPI Deep Neural Network Library (oneDNN)to use the following CPU instructions in performance-critical operations:  AVX2 FMA\r\n",
      "To enable them in other operations, rebuild TensorFlow with the appropriate compiler flags.\r\n",
      "Loaded model in 0.0172s.\r\n",
      "Loading scorer from files ../input/polish-deepspeech-models/kenlm_pl.scorer\r\n",
      "Loaded scorer in 0.00684s.\r\n"
     ]
    },
    {
     "name": "stdout",
     "output_type": "stream",
     "text": [
      "Running inference.\r\n"
     ]
    },
    {
     "name": "stdout",
     "output_type": "stream",
     "text": [
      "Inference took 1638.589s for 1453.072s audio file.\r\n"
     ]
    },
    {
     "name": "stdout",
     "output_type": "stream",
     "text": [
      "ffmpeg version 4.3.1 Copyright (c) 2000-2020 the FFmpeg developers\r\n",
      "  built with gcc 9.3.0 (crosstool-NG 1.24.0.133_b0863d8_dirty)\r\n",
      "  configuration: --prefix=/opt/conda --cc=/home/conda/feedstock_root/build_artifacts/ffmpeg_1609680890771/_build_env/bin/x86_64-conda-linux-gnu-cc --disable-doc --disable-openssl --enable-avresample --enable-gnutls --enable-gpl --enable-hardcoded-tables --enable-libfreetype --enable-libopenh264 --enable-libx264 --enable-pic --enable-pthreads --enable-shared --enable-static --enable-version3 --enable-zlib --enable-libmp3lame --pkg-config=/home/conda/feedstock_root/build_artifacts/ffmpeg_1609680890771/_build_env/bin/pkg-config\r\n",
      "  libavutil      56. 51.100 / 56. 51.100\r\n",
      "  libavcodec     58. 91.100 / 58. 91.100\r\n",
      "  libavformat    58. 45.100 / 58. 45.100\r\n",
      "  libavdevice    58. 10.100 / 58. 10.100\r\n",
      "  libavfilter     7. 85.100 /  7. 85.100\r\n",
      "  libavresample   4.  0.  0 /  4.  0.  0\r\n",
      "  libswscale      5.  7.100 /  5.  7.100\r\n",
      "  libswresample   3.  7.100 /  3.  7.100\r\n",
      "  libpostproc    55.  7.100 / 55.  7.100\r\n",
      "\u001b[0;33mUnknown attached picture mimetype: ('image/png', None), skipping.\r\n",
      "\u001b[0mInput #0, mp3, from '../input/wolne-lektury-deepspeech/20-000-mil-podmorskiej-zeglugi_032_zatoka-vigo.mp3':\r\n",
      "  Metadata:\r\n",
      "    title           : 20 000 mil podmorskiej żeglugi (tłum. nieznany)\r\n",
      "    artist          : Mateusz Weber\r\n",
      "    album           : Wolne Lektury\r\n",
      "    date            : 2020\r\n",
      "    genre           : Speech\r\n",
      "    encoder         : Lavf58.20.100\r\n",
      "    performer       : Dominik Lehman\r\n",
      "    album_artist    : Fundacja Nowoczesna Polska\r\n",
      "    publisher       : Fundacja Nowoczesna Polska\r\n",
      "    copyright       : 2020 Fundacja Nowoczesna Polska. Licensed to the public under http://artlibre.org/licence/lal/pl/ verify at https://wolnelektury.pl/katalog/lektura/20-000-mil-podmorskiej-zeglugi/\r\n",
      "    comment         : Audiobook nagrany w ramach projektu Biblioteka Narodowa finansowanego przez Priorytet 4 Udostępnienie publikacji w formatach cyfrowych w ramach Narodowego Programu Rozwoju Czytelnictwa.\r\n",
      "                    : \r\n",
      "                    : Przekaż 1% podatku na rozwój Wolnych Lektur:\r\n",
      "                    : Fundacja Nowoczesna Polska\r\n",
      "                    : KRS 0000070056\r\n",
      "                    : http://nowoczesnapolska.org.pl/wesprzyj_nas/\r\n",
      "                    : \r\n",
      "    id3v2_priv.wolnelektury.pl?funded_by: Priorytet 4\\xc2\\xa0Udost\\xc4\\x99pnienie publikacji w formatach cyfrowych\\xc2\\xa0w ramach Narodowego Programu Rozwoju Czytelnictwa\r\n",
      "    id3v2_priv.wolnelektury.pl?flac_sha1: 8c08a7d2bf9e31d243dedce3e963320ef4c67b6e\r\n",
      "    id3v2_priv.wolnelektury.pl?project: Biblioteka Narodowa\r\n",
      "  Duration: 00:24:43.60, start: 0.025057, bitrate: 64 kb/s\r\n",
      "    Stream #0:0: Audio: mp3, 44100 Hz, mono, fltp, 64 kb/s\r\n",
      "Stream mapping:\r\n",
      "  Stream #0:0 -> #0:0 (mp3 (mp3float) -> pcm_s16le (native))\r\n",
      "Press [q] to stop, [?] for help\r\n",
      "Output #0, wav, to '20-000-mil-podmorskiej-zeglugi_032_zatoka-vigo.wav':\r\n",
      "  Metadata:\r\n",
      "    INAM            : 20 000 mil podmorskiej żeglugi (tłum. nieznany)\r\n",
      "    IART            : Mateusz Weber\r\n",
      "    IPRD            : Wolne Lektury\r\n",
      "    ICRD            : 2020\r\n",
      "    IGNR            : Speech\r\n",
      "    ILNG            : pol\r\n",
      "    id3v2_priv.wolnelektury.pl?project: Biblioteka Narodowa\r\n",
      "    performer       : Dominik Lehman\r\n",
      "    album_artist    : Fundacja Nowoczesna Polska\r\n",
      "    publisher       : Fundacja Nowoczesna Polska\r\n",
      "    ICOP            : 2020 Fundacja Nowoczesna Polska. Licensed to the public under http://artlibre.org/licence/lal/pl/ verify at https://wolnelektury.pl/katalog/lektura/20-000-mil-podmorskiej-zeglugi/\r\n",
      "    ICMT            : Audiobook nagrany w ramach projektu Biblioteka Narodowa finansowanego przez Priorytet 4 Udostępnienie publikacji w formatach cyfrowych w ramach Narodowego Programu Rozwoju Czytelnictwa.\r\n",
      "                    : \r\n",
      "                    : Przekaż 1% podatku na rozwój Wolnych Lektur:\r\n",
      "                    : Fundacja Nowoczesna Polska\r\n",
      "                    : KRS 0000070056\r\n",
      "                    : http://nowoczesnapolska.org.pl/wesprzyj_nas/\r\n",
      "                    : \r\n",
      "    id3v2_priv.wolnelektury.pl?funded_by: Priorytet 4\\xc2\\xa0Udost\\xc4\\x99pnienie publikacji w formatach cyfrowych\\xc2\\xa0w ramach Narodowego Programu Rozwoju Czytelnictwa\r\n",
      "    id3v2_priv.wolnelektury.pl?flac_sha1: 8c08a7d2bf9e31d243dedce3e963320ef4c67b6e\r\n",
      "    ISFT            : Lavf58.45.100\r\n",
      "    Stream #0:0: Audio: pcm_s16le ([1][0][0][0] / 0x0001), 16000 Hz, mono, s16, 256 kb/s\r\n",
      "    Metadata:\r\n",
      "      encoder         : Lavc58.91.100 pcm_s16le\r\n"
     ]
    },
    {
     "name": "stdout",
     "output_type": "stream",
     "text": [
      "size=   12032kB time=00:06:26.97 bitrate= 254.7kbits/s speed= 774x    \r"
     ]
    },
    {
     "name": "stdout",
     "output_type": "stream",
     "text": [
      "size=   24064kB time=00:12:55.57 bitrate= 254.2kbits/s speed= 776x    \r"
     ]
    },
    {
     "name": "stdout",
     "output_type": "stream",
     "text": [
      "size=   36352kB time=00:19:27.04 bitrate= 255.2kbits/s speed= 778x    \r"
     ]
    },
    {
     "name": "stdout",
     "output_type": "stream",
     "text": [
      "size=   46362kB time=00:24:43.56 bitrate= 256.0kbits/s speed= 777x    \r\n",
      "video:0kB audio:46361kB subtitle:0kB other streams:0kB global headers:0kB muxing overhead: 0.001567%\r\n"
     ]
    },
    {
     "name": "stdout",
     "output_type": "stream",
     "text": [
      "Loading model from file ../input/polish-deepspeech-models/output_graph_pl.pbmm\r\n",
      "TensorFlow: v2.3.0-6-g23ad988\r\n",
      "DeepSpeech: v0.9.3-0-gf2e9c85\r\n",
      "2021-05-07 10:01:42.524690: I tensorflow/core/platform/cpu_feature_guard.cc:142] This TensorFlow binary is optimized with oneAPI Deep Neural Network Library (oneDNN)to use the following CPU instructions in performance-critical operations:  AVX2 FMA\r\n",
      "To enable them in other operations, rebuild TensorFlow with the appropriate compiler flags.\r\n",
      "Loaded model in 0.0176s.\r\n",
      "Loading scorer from files ../input/polish-deepspeech-models/kenlm_pl.scorer\r\n",
      "Loaded scorer in 0.00586s.\r\n"
     ]
    },
    {
     "name": "stdout",
     "output_type": "stream",
     "text": [
      "Running inference.\r\n"
     ]
    },
    {
     "name": "stdout",
     "output_type": "stream",
     "text": [
      "Inference took 1910.007s for 1483.565s audio file.\r\n"
     ]
    },
    {
     "name": "stdout",
     "output_type": "stream",
     "text": [
      "ffmpeg version 4.3.1 Copyright (c) 2000-2020 the FFmpeg developers\r\n",
      "  built with gcc 9.3.0 (crosstool-NG 1.24.0.133_b0863d8_dirty)\r\n",
      "  configuration: --prefix=/opt/conda --cc=/home/conda/feedstock_root/build_artifacts/ffmpeg_1609680890771/_build_env/bin/x86_64-conda-linux-gnu-cc --disable-doc --disable-openssl --enable-avresample --enable-gnutls --enable-gpl --enable-hardcoded-tables --enable-libfreetype --enable-libopenh264 --enable-libx264 --enable-pic --enable-pthreads --enable-shared --enable-static --enable-version3 --enable-zlib --enable-libmp3lame --pkg-config=/home/conda/feedstock_root/build_artifacts/ffmpeg_1609680890771/_build_env/bin/pkg-config\r\n",
      "  libavutil      56. 51.100 / 56. 51.100\r\n",
      "  libavcodec     58. 91.100 / 58. 91.100\r\n",
      "  libavformat    58. 45.100 / 58. 45.100\r\n",
      "  libavdevice    58. 10.100 / 58. 10.100\r\n",
      "  libavfilter     7. 85.100 /  7. 85.100\r\n",
      "  libavresample   4.  0.  0 /  4.  0.  0\r\n",
      "  libswscale      5.  7.100 /  5.  7.100\r\n",
      "  libswresample   3.  7.100 /  3.  7.100\r\n",
      "  libpostproc    55.  7.100 / 55.  7.100\r\n",
      "\u001b[0;33mUnknown attached picture mimetype: ('image/png', None), skipping.\r\n",
      "\u001b[0mInput #0, mp3, from '../input/wolne-lektury-deepspeech/20-000-mil-podmorskiej-zeglugi_033_lad-zaginiony.mp3':\r\n",
      "  Metadata:\r\n",
      "    title           : 20 000 mil podmorskiej żeglugi (tłum. nieznany)\r\n",
      "    artist          : Mateusz Weber\r\n",
      "    album           : Wolne Lektury\r\n",
      "    date            : 2020\r\n",
      "    genre           : Speech\r\n",
      "    encoder         : Lavf58.20.100\r\n",
      "    performer       : Dominik Lehman\r\n",
      "    album_artist    : Fundacja Nowoczesna Polska\r\n",
      "    publisher       : Fundacja Nowoczesna Polska\r\n",
      "    copyright       : 2020 Fundacja Nowoczesna Polska. Licensed to the public under http://artlibre.org/licence/lal/pl/ verify at https://wolnelektury.pl/katalog/lektura/20-000-mil-podmorskiej-zeglugi/\r\n",
      "    comment         : Audiobook nagrany w ramach projektu Biblioteka Narodowa finansowanego przez Priorytet 4 Udostępnienie publikacji w formatach cyfrowych w ramach Narodowego Programu Rozwoju Czytelnictwa.\r\n",
      "                    : \r\n",
      "                    : Przekaż 1% podatku na rozwój Wolnych Lektur:\r\n",
      "                    : Fundacja Nowoczesna Polska\r\n",
      "                    : KRS 0000070056\r\n",
      "                    : http://nowoczesnapolska.org.pl/wesprzyj_nas/\r\n",
      "                    : \r\n",
      "    id3v2_priv.wolnelektury.pl?funded_by: Priorytet 4\\xc2\\xa0Udost\\xc4\\x99pnienie publikacji w formatach cyfrowych\\xc2\\xa0w ramach Narodowego Programu Rozwoju Czytelnictwa\r\n",
      "    id3v2_priv.wolnelektury.pl?flac_sha1: 3c6af54dd7f1afcb128451bca28032ebb0ef4d94\r\n",
      "    id3v2_priv.wolnelektury.pl?project: Biblioteka Narodowa\r\n",
      "  Duration: 00:22:44.87, start: 0.025057, bitrate: 64 kb/s\r\n",
      "    Stream #0:0: Audio: mp3, 44100 Hz, mono, fltp, 64 kb/s\r\n",
      "Stream mapping:\r\n",
      "  Stream #0:0 -> #0:0 (mp3 (mp3float) -> pcm_s16le (native))\r\n",
      "Press [q] to stop, [?] for help\r\n",
      "Output #0, wav, to '20-000-mil-podmorskiej-zeglugi_033_lad-zaginiony.wav':\r\n",
      "  Metadata:\r\n",
      "    INAM            : 20 000 mil podmorskiej żeglugi (tłum. nieznany)\r\n",
      "    IART            : Mateusz Weber\r\n",
      "    IPRD            : Wolne Lektury\r\n",
      "    ICRD            : 2020\r\n",
      "    IGNR            : Speech\r\n",
      "    ILNG            : pol\r\n",
      "    id3v2_priv.wolnelektury.pl?project: Biblioteka Narodowa\r\n",
      "    performer       : Dominik Lehman\r\n",
      "    album_artist    : Fundacja Nowoczesna Polska\r\n",
      "    publisher       : Fundacja Nowoczesna Polska\r\n",
      "    ICOP            : 2020 Fundacja Nowoczesna Polska. Licensed to the public under http://artlibre.org/licence/lal/pl/ verify at https://wolnelektury.pl/katalog/lektura/20-000-mil-podmorskiej-zeglugi/\r\n",
      "    ICMT            : Audiobook nagrany w ramach projektu Biblioteka Narodowa finansowanego przez Priorytet 4 Udostępnienie publikacji w formatach cyfrowych w ramach Narodowego Programu Rozwoju Czytelnictwa.\r\n",
      "                    : \r\n",
      "                    : Przekaż 1% podatku na rozwój Wolnych Lektur:\r\n",
      "                    : Fundacja Nowoczesna Polska\r\n",
      "                    : KRS 0000070056\r\n",
      "                    : http://nowoczesnapolska.org.pl/wesprzyj_nas/\r\n",
      "                    : \r\n",
      "    id3v2_priv.wolnelektury.pl?funded_by: Priorytet 4\\xc2\\xa0Udost\\xc4\\x99pnienie publikacji w formatach cyfrowych\\xc2\\xa0w ramach Narodowego Programu Rozwoju Czytelnictwa\r\n",
      "    id3v2_priv.wolnelektury.pl?flac_sha1: 3c6af54dd7f1afcb128451bca28032ebb0ef4d94\r\n",
      "    ISFT            : Lavf58.45.100\r\n",
      "    Stream #0:0: Audio: pcm_s16le ([1][0][0][0] / 0x0001), 16000 Hz, mono, s16, 256 kb/s\r\n",
      "    Metadata:\r\n",
      "      encoder         : Lavc58.91.100 pcm_s16le\r\n"
     ]
    },
    {
     "name": "stdout",
     "output_type": "stream",
     "text": [
      "size=   11520kB time=00:06:15.30 bitrate= 251.5kbits/s speed= 751x    \r"
     ]
    },
    {
     "name": "stdout",
     "output_type": "stream",
     "text": [
      "size=   23808kB time=00:12:43.42 bitrate= 255.5kbits/s speed= 763x    \r"
     ]
    },
    {
     "name": "stdout",
     "output_type": "stream",
     "text": [
      "size=   35072kB time=00:18:49.16 bitrate= 254.4kbits/s speed= 753x    \r"
     ]
    },
    {
     "name": "stdout",
     "output_type": "stream",
     "text": [
      "size=   42652kB time=00:22:44.84 bitrate= 256.0kbits/s speed= 757x    \r\n",
      "video:0kB audio:42651kB subtitle:0kB other streams:0kB global headers:0kB muxing overhead: 0.001703%\r\n"
     ]
    },
    {
     "name": "stdout",
     "output_type": "stream",
     "text": [
      "Loading model from file ../input/polish-deepspeech-models/output_graph_pl.pbmm\r\n",
      "TensorFlow: v2.3.0-6-g23ad988\r\n",
      "DeepSpeech: v0.9.3-0-gf2e9c85\r\n",
      "2021-05-07 10:33:34.854656: I tensorflow/core/platform/cpu_feature_guard.cc:142] This TensorFlow binary is optimized with oneAPI Deep Neural Network Library (oneDNN)to use the following CPU instructions in performance-critical operations:  AVX2 FMA\r\n",
      "To enable them in other operations, rebuild TensorFlow with the appropriate compiler flags.\r\n",
      "Loaded model in 0.0188s.\r\n",
      "Loading scorer from files ../input/polish-deepspeech-models/kenlm_pl.scorer\r\n"
     ]
    },
    {
     "name": "stdout",
     "output_type": "stream",
     "text": [
      "Loaded scorer in 0.0422s.\r\n"
     ]
    },
    {
     "name": "stdout",
     "output_type": "stream",
     "text": [
      "Running inference.\r\n"
     ]
    },
    {
     "name": "stdout",
     "output_type": "stream",
     "text": [
      "Inference took 1546.793s for 1364.840s audio file.\r\n"
     ]
    },
    {
     "name": "stdout",
     "output_type": "stream",
     "text": [
      "ffmpeg version 4.3.1 Copyright (c) 2000-2020 the FFmpeg developers\r\n",
      "  built with gcc 9.3.0 (crosstool-NG 1.24.0.133_b0863d8_dirty)\r\n",
      "  configuration: --prefix=/opt/conda --cc=/home/conda/feedstock_root/build_artifacts/ffmpeg_1609680890771/_build_env/bin/x86_64-conda-linux-gnu-cc --disable-doc --disable-openssl --enable-avresample --enable-gnutls --enable-gpl --enable-hardcoded-tables --enable-libfreetype --enable-libopenh264 --enable-libx264 --enable-pic --enable-pthreads --enable-shared --enable-static --enable-version3 --enable-zlib --enable-libmp3lame --pkg-config=/home/conda/feedstock_root/build_artifacts/ffmpeg_1609680890771/_build_env/bin/pkg-config\r\n",
      "  libavutil      56. 51.100 / 56. 51.100\r\n",
      "  libavcodec     58. 91.100 / 58. 91.100\r\n",
      "  libavformat    58. 45.100 / 58. 45.100\r\n",
      "  libavdevice    58. 10.100 / 58. 10.100\r\n",
      "  libavfilter     7. 85.100 /  7. 85.100\r\n",
      "  libavresample   4.  0.  0 /  4.  0.  0\r\n",
      "  libswscale      5.  7.100 /  5.  7.100\r\n",
      "  libswresample   3.  7.100 /  3.  7.100\r\n",
      "  libpostproc    55.  7.100 / 55.  7.100\r\n",
      "\u001b[0;33mUnknown attached picture mimetype: ('image/png', None), skipping.\r\n",
      "\u001b[0mInput #0, mp3, from '../input/wolne-lektury-deepspeech/20-000-mil-podmorskiej-zeglugi_034_podmorskie-kopalnie-wegla.mp3':\r\n",
      "  Metadata:\r\n",
      "    title           : 20 000 mil podmorskiej żeglugi (tłum. nieznany)\r\n",
      "    artist          : Mateusz Weber\r\n",
      "    album           : Wolne Lektury\r\n",
      "    date            : 2020\r\n",
      "    genre           : Speech\r\n",
      "    encoder         : Lavf58.20.100\r\n",
      "    performer       : Dominik Lehman\r\n",
      "    album_artist    : Fundacja Nowoczesna Polska\r\n",
      "    publisher       : Fundacja Nowoczesna Polska\r\n",
      "    copyright       : 2020 Fundacja Nowoczesna Polska. Licensed to the public under http://artlibre.org/licence/lal/pl/ verify at https://wolnelektury.pl/katalog/lektura/20-000-mil-podmorskiej-zeglugi/\r\n",
      "    comment         : Audiobook nagrany w ramach projektu Biblioteka Narodowa finansowanego przez Priorytet 4 Udostępnienie publikacji w formatach cyfrowych w ramach Narodowego Programu Rozwoju Czytelnictwa.\r\n",
      "                    : \r\n",
      "                    : Przekaż 1% podatku na rozwój Wolnych Lektur:\r\n",
      "                    : Fundacja Nowoczesna Polska\r\n",
      "                    : KRS 0000070056\r\n",
      "                    : http://nowoczesnapolska.org.pl/wesprzyj_nas/\r\n",
      "                    : \r\n",
      "    id3v2_priv.wolnelektury.pl?funded_by: Priorytet 4\\xc2\\xa0Udost\\xc4\\x99pnienie publikacji w formatach cyfrowych\\xc2\\xa0w ramach Narodowego Programu Rozwoju Czytelnictwa\r\n",
      "    id3v2_priv.wolnelektury.pl?flac_sha1: aa7e7df57edf896eec3bf5b0deede5d6dbaf9990\r\n",
      "    id3v2_priv.wolnelektury.pl?project: Biblioteka Narodowa\r\n",
      "  Duration: 00:22:57.25, start: 0.025057, bitrate: 64 kb/s\r\n",
      "    Stream #0:0: Audio: mp3, 44100 Hz, mono, fltp, 64 kb/s\r\n",
      "Stream mapping:\r\n",
      "  Stream #0:0 -> #0:0 (mp3 (mp3float) -> pcm_s16le (native))\r\n",
      "Press [q] to stop, [?] for help\r\n",
      "Output #0, wav, to '20-000-mil-podmorskiej-zeglugi_034_podmorskie-kopalnie-wegla.wav':\r\n",
      "  Metadata:\r\n",
      "    INAM            : 20 000 mil podmorskiej żeglugi (tłum. nieznany)\r\n",
      "    IART            : Mateusz Weber\r\n",
      "    IPRD            : Wolne Lektury\r\n",
      "    ICRD            : 2020\r\n",
      "    IGNR            : Speech\r\n",
      "    ILNG            : pol\r\n",
      "    id3v2_priv.wolnelektury.pl?project: Biblioteka Narodowa\r\n",
      "    performer       : Dominik Lehman\r\n",
      "    album_artist    : Fundacja Nowoczesna Polska\r\n",
      "    publisher       : Fundacja Nowoczesna Polska\r\n",
      "    ICOP            : 2020 Fundacja Nowoczesna Polska. Licensed to the public under http://artlibre.org/licence/lal/pl/ verify at https://wolnelektury.pl/katalog/lektura/20-000-mil-podmorskiej-zeglugi/\r\n",
      "    ICMT            : Audiobook nagrany w ramach projektu Biblioteka Narodowa finansowanego przez Priorytet 4 Udostępnienie publikacji w formatach cyfrowych w ramach Narodowego Programu Rozwoju Czytelnictwa.\r\n",
      "                    : \r\n",
      "                    : Przekaż 1% podatku na rozwój Wolnych Lektur:\r\n",
      "                    : Fundacja Nowoczesna Polska\r\n",
      "                    : KRS 0000070056\r\n",
      "                    : http://nowoczesnapolska.org.pl/wesprzyj_nas/\r\n",
      "                    : \r\n",
      "    id3v2_priv.wolnelektury.pl?funded_by: Priorytet 4\\xc2\\xa0Udost\\xc4\\x99pnienie publikacji w formatach cyfrowych\\xc2\\xa0w ramach Narodowego Programu Rozwoju Czytelnictwa\r\n",
      "    id3v2_priv.wolnelektury.pl?flac_sha1: aa7e7df57edf896eec3bf5b0deede5d6dbaf9990\r\n",
      "    ISFT            : Lavf58.45.100\r\n",
      "    Stream #0:0: Audio: pcm_s16le ([1][0][0][0] / 0x0001), 16000 Hz, mono, s16, 256 kb/s\r\n",
      "    Metadata:\r\n",
      "      encoder         : Lavc58.91.100 pcm_s16le\r\n"
     ]
    },
    {
     "name": "stdout",
     "output_type": "stream",
     "text": [
      "size=   11520kB time=00:06:12.06 bitrate= 253.6kbits/s speed= 744x    \r"
     ]
    },
    {
     "name": "stdout",
     "output_type": "stream",
     "text": [
      "size=   23296kB time=00:12:32.01 bitrate= 253.8kbits/s speed= 752x    \r"
     ]
    },
    {
     "name": "stdout",
     "output_type": "stream",
     "text": [
      "size=   35328kB time=00:18:53.21 bitrate= 255.4kbits/s speed= 755x    \r"
     ]
    },
    {
     "name": "stdout",
     "output_type": "stream",
     "text": [
      "size=   43039kB time=00:22:57.22 bitrate= 256.0kbits/s speed= 755x    \r\n",
      "video:0kB audio:43038kB subtitle:0kB other streams:0kB global headers:0kB muxing overhead: 0.001688%\r\n"
     ]
    },
    {
     "name": "stdout",
     "output_type": "stream",
     "text": [
      "Loading model from file ../input/polish-deepspeech-models/output_graph_pl.pbmm\r\n",
      "TensorFlow: v2.3.0-6-g23ad988\r\n",
      "DeepSpeech: v0.9.3-0-gf2e9c85\r\n",
      "2021-05-07 10:59:23.941886: I tensorflow/core/platform/cpu_feature_guard.cc:142] This TensorFlow binary is optimized with oneAPI Deep Neural Network Library (oneDNN)to use the following CPU instructions in performance-critical operations:  AVX2 FMA\r\n",
      "To enable them in other operations, rebuild TensorFlow with the appropriate compiler flags.\r\n",
      "Loaded model in 0.0172s.\r\n",
      "Loading scorer from files ../input/polish-deepspeech-models/kenlm_pl.scorer\r\n"
     ]
    },
    {
     "name": "stdout",
     "output_type": "stream",
     "text": [
      "Loaded scorer in 0.00603s.\r\n",
      "Running inference.\r\n"
     ]
    },
    {
     "name": "stdout",
     "output_type": "stream",
     "text": [
      "Inference took 1729.002s for 1377.226s audio file.\r\n"
     ]
    },
    {
     "name": "stdout",
     "output_type": "stream",
     "text": [
      "ffmpeg version 4.3.1 Copyright (c) 2000-2020 the FFmpeg developers\r\n",
      "  built with gcc 9.3.0 (crosstool-NG 1.24.0.133_b0863d8_dirty)\r\n",
      "  configuration: --prefix=/opt/conda --cc=/home/conda/feedstock_root/build_artifacts/ffmpeg_1609680890771/_build_env/bin/x86_64-conda-linux-gnu-cc --disable-doc --disable-openssl --enable-avresample --enable-gnutls --enable-gpl --enable-hardcoded-tables --enable-libfreetype --enable-libopenh264 --enable-libx264 --enable-pic --enable-pthreads --enable-shared --enable-static --enable-version3 --enable-zlib --enable-libmp3lame --pkg-config=/home/conda/feedstock_root/build_artifacts/ffmpeg_1609680890771/_build_env/bin/pkg-config\r\n",
      "  libavutil      56. 51.100 / 56. 51.100\r\n",
      "  libavcodec     58. 91.100 / 58. 91.100\r\n",
      "  libavformat    58. 45.100 / 58. 45.100\r\n",
      "  libavdevice    58. 10.100 / 58. 10.100\r\n",
      "  libavfilter     7. 85.100 /  7. 85.100\r\n",
      "  libavresample   4.  0.  0 /  4.  0.  0\r\n",
      "  libswscale      5.  7.100 /  5.  7.100\r\n",
      "  libswresample   3.  7.100 /  3.  7.100\r\n",
      "  libpostproc    55.  7.100 / 55.  7.100\r\n"
     ]
    },
    {
     "name": "stdout",
     "output_type": "stream",
     "text": [
      "\u001b[0;33mUnknown attached picture mimetype: ('image/png', None), skipping.\r\n",
      "\u001b[0mInput #0, mp3, from '../input/wolne-lektury-deepspeech/20-000-mil-podmorskiej-zeglugi_035_morze-sargasowe.mp3':\r\n",
      "  Metadata:\r\n",
      "    title           : 20 000 mil podmorskiej żeglugi (tłum. nieznany)\r\n",
      "    artist          : Mateusz Weber\r\n",
      "    album           : Wolne Lektury\r\n",
      "    date            : 2020\r\n",
      "    genre           : Speech\r\n",
      "    encoder         : Lavf58.20.100\r\n",
      "    performer       : Dominik Lehman\r\n",
      "    album_artist    : Fundacja Nowoczesna Polska\r\n",
      "    publisher       : Fundacja Nowoczesna Polska\r\n",
      "    copyright       : 2020 Fundacja Nowoczesna Polska. Licensed to the public under http://artlibre.org/licence/lal/pl/ verify at https://wolnelektury.pl/katalog/lektura/20-000-mil-podmorskiej-zeglugi/\r\n",
      "    comment         : Audiobook nagrany w ramach projektu Biblioteka Narodowa finansowanego przez Priorytet 4 Udostępnienie publikacji w formatach cyfrowych w ramach Narodowego Programu Rozwoju Czytelnictwa.\r\n",
      "                    : \r\n",
      "                    : Przekaż 1% podatku na rozwój Wolnych Lektur:\r\n",
      "                    : Fundacja Nowoczesna Polska\r\n",
      "                    : KRS 0000070056\r\n",
      "                    : http://nowoczesnapolska.org.pl/wesprzyj_nas/\r\n",
      "                    : \r\n",
      "    id3v2_priv.wolnelektury.pl?funded_by: Priorytet 4\\xc2\\xa0Udost\\xc4\\x99pnienie publikacji w formatach cyfrowych\\xc2\\xa0w ramach Narodowego Programu Rozwoju Czytelnictwa\r\n",
      "    id3v2_priv.wolnelektury.pl?flac_sha1: 20bba6021749b3e99f9a078cb6a4c2cde0189a75\r\n",
      "    id3v2_priv.wolnelektury.pl?project: Biblioteka Narodowa\r\n",
      "  Duration: 00:22:09.27, start: 0.025057, bitrate: 64 kb/s\r\n",
      "    Stream #0:0: Audio: mp3, 44100 Hz, mono, fltp, 64 kb/s\r\n",
      "Stream mapping:\r\n",
      "  Stream #0:0 -> #0:0 (mp3 (mp3float) -> pcm_s16le (native))\r\n",
      "Press [q] to stop, [?] for help\r\n",
      "Output #0, wav, to '20-000-mil-podmorskiej-zeglugi_035_morze-sargasowe.wav':\r\n",
      "  Metadata:\r\n",
      "    INAM            : 20 000 mil podmorskiej żeglugi (tłum. nieznany)\r\n",
      "    IART            : Mateusz Weber\r\n",
      "    IPRD            : Wolne Lektury\r\n",
      "    ICRD            : 2020\r\n",
      "    IGNR            : Speech\r\n",
      "    ILNG            : pol\r\n",
      "    id3v2_priv.wolnelektury.pl?project: Biblioteka Narodowa\r\n",
      "    performer       : Dominik Lehman\r\n",
      "    album_artist    : Fundacja Nowoczesna Polska\r\n",
      "    publisher       : Fundacja Nowoczesna Polska\r\n",
      "    ICOP            : 2020 Fundacja Nowoczesna Polska. Licensed to the public under http://artlibre.org/licence/lal/pl/ verify at https://wolnelektury.pl/katalog/lektura/20-000-mil-podmorskiej-zeglugi/\r\n",
      "    ICMT            : Audiobook nagrany w ramach projektu Biblioteka Narodowa finansowanego przez Priorytet 4 Udostępnienie publikacji w formatach cyfrowych w ramach Narodowego Programu Rozwoju Czytelnictwa.\r\n",
      "                    : \r\n",
      "                    : Przekaż 1% podatku na rozwój Wolnych Lektur:\r\n",
      "                    : Fundacja Nowoczesna Polska\r\n",
      "                    : KRS 0000070056\r\n",
      "                    : http://nowoczesnapolska.org.pl/wesprzyj_nas/\r\n",
      "                    : \r\n",
      "    id3v2_priv.wolnelektury.pl?funded_by: Priorytet 4\\xc2\\xa0Udost\\xc4\\x99pnienie publikacji w formatach cyfrowych\\xc2\\xa0w ramach Narodowego Programu Rozwoju Czytelnictwa\r\n",
      "    id3v2_priv.wolnelektury.pl?flac_sha1: 20bba6021749b3e99f9a078cb6a4c2cde0189a75\r\n",
      "    ISFT            : Lavf58.45.100\r\n",
      "    Stream #0:0: Audio: pcm_s16le ([1][0][0][0] / 0x0001), 16000 Hz, mono, s16, 256 kb/s\r\n",
      "    Metadata:\r\n",
      "      encoder         : Lavc58.91.100 pcm_s16le\r\n"
     ]
    },
    {
     "name": "stdout",
     "output_type": "stream",
     "text": [
      "size=   11776kB time=00:06:17.49 bitrate= 255.6kbits/s speed= 755x    \r"
     ]
    },
    {
     "name": "stdout",
     "output_type": "stream",
     "text": [
      "size=   23552kB time=00:12:33.65 bitrate= 256.0kbits/s speed= 754x    \r"
     ]
    },
    {
     "name": "stdout",
     "output_type": "stream",
     "text": [
      "size=   35328kB time=00:18:57.50 bitrate= 254.4kbits/s speed= 758x    \r"
     ]
    },
    {
     "name": "stdout",
     "output_type": "stream",
     "text": [
      "size=   41539kB time=00:22:09.22 bitrate= 256.0kbits/s speed= 758x    \r\n",
      "video:0kB audio:41538kB subtitle:0kB other streams:0kB global headers:0kB muxing overhead: 0.001749%\r\n"
     ]
    },
    {
     "name": "stdout",
     "output_type": "stream",
     "text": [
      "Loading model from file ../input/polish-deepspeech-models/output_graph_pl.pbmm\r\n",
      "TensorFlow: v2.3.0-6-g23ad988\r\n",
      "DeepSpeech: v0.9.3-0-gf2e9c85\r\n",
      "2021-05-07 11:28:15.129361: I tensorflow/core/platform/cpu_feature_guard.cc:142] This TensorFlow binary is optimized with oneAPI Deep Neural Network Library (oneDNN)to use the following CPU instructions in performance-critical operations:  AVX2 FMA\r\n",
      "To enable them in other operations, rebuild TensorFlow with the appropriate compiler flags.\r\n",
      "Loaded model in 0.0175s.\r\n",
      "Loading scorer from files ../input/polish-deepspeech-models/kenlm_pl.scorer\r\n"
     ]
    },
    {
     "name": "stdout",
     "output_type": "stream",
     "text": [
      "Loaded scorer in 0.00485s.\r\n",
      "Running inference.\r\n"
     ]
    },
    {
     "name": "stdout",
     "output_type": "stream",
     "text": [
      "Inference took 1639.602s for 1329.226s audio file.\r\n"
     ]
    },
    {
     "name": "stdout",
     "output_type": "stream",
     "text": [
      "ffmpeg version 4.3.1 Copyright (c) 2000-2020 the FFmpeg developers\r\n",
      "  built with gcc 9.3.0 (crosstool-NG 1.24.0.133_b0863d8_dirty)\r\n",
      "  configuration: --prefix=/opt/conda --cc=/home/conda/feedstock_root/build_artifacts/ffmpeg_1609680890771/_build_env/bin/x86_64-conda-linux-gnu-cc --disable-doc --disable-openssl --enable-avresample --enable-gnutls --enable-gpl --enable-hardcoded-tables --enable-libfreetype --enable-libopenh264 --enable-libx264 --enable-pic --enable-pthreads --enable-shared --enable-static --enable-version3 --enable-zlib --enable-libmp3lame --pkg-config=/home/conda/feedstock_root/build_artifacts/ffmpeg_1609680890771/_build_env/bin/pkg-config\r\n",
      "  libavutil      56. 51.100 / 56. 51.100\r\n",
      "  libavcodec     58. 91.100 / 58. 91.100\r\n",
      "  libavformat    58. 45.100 / 58. 45.100\r\n",
      "  libavdevice    58. 10.100 / 58. 10.100\r\n",
      "  libavfilter     7. 85.100 /  7. 85.100\r\n",
      "  libavresample   4.  0.  0 /  4.  0.  0\r\n",
      "  libswscale      5.  7.100 /  5.  7.100\r\n",
      "  libswresample   3.  7.100 /  3.  7.100\r\n",
      "  libpostproc    55.  7.100 / 55.  7.100\r\n"
     ]
    },
    {
     "name": "stdout",
     "output_type": "stream",
     "text": [
      "\u001b[0;33mUnknown attached picture mimetype: ('image/png', None), skipping.\r\n",
      "\u001b[0mInput #0, mp3, from '../input/wolne-lektury-deepspeech/20-000-mil-podmorskiej-zeglugi_036_potwale-i-wieloryby.mp3':\r\n",
      "  Metadata:\r\n",
      "    title           : 20 000 mil podmorskiej żeglugi (tłum. nieznany)\r\n",
      "    artist          : Mateusz Weber\r\n",
      "    album           : Wolne Lektury\r\n",
      "    date            : 2020\r\n",
      "    genre           : Speech\r\n",
      "    encoder         : Lavf58.20.100\r\n",
      "    performer       : Dominik Lehman\r\n",
      "    album_artist    : Fundacja Nowoczesna Polska\r\n",
      "    publisher       : Fundacja Nowoczesna Polska\r\n",
      "    copyright       : 2020 Fundacja Nowoczesna Polska. Licensed to the public under http://artlibre.org/licence/lal/pl/ verify at https://wolnelektury.pl/katalog/lektura/20-000-mil-podmorskiej-zeglugi/\r\n",
      "    comment         : Audiobook nagrany w ramach projektu Biblioteka Narodowa finansowanego przez Priorytet 4 Udostępnienie publikacji w formatach cyfrowych w ramach Narodowego Programu Rozwoju Czytelnictwa.\r\n",
      "                    : \r\n",
      "                    : Przekaż 1% podatku na rozwój Wolnych Lektur:\r\n",
      "                    : Fundacja Nowoczesna Polska\r\n",
      "                    : KRS 0000070056\r\n",
      "                    : http://nowoczesnapolska.org.pl/wesprzyj_nas/\r\n",
      "                    : \r\n",
      "    id3v2_priv.wolnelektury.pl?funded_by: Priorytet 4\\xc2\\xa0Udost\\xc4\\x99pnienie publikacji w formatach cyfrowych\\xc2\\xa0w ramach Narodowego Programu Rozwoju Czytelnictwa\r\n",
      "    id3v2_priv.wolnelektury.pl?flac_sha1: 11694a7c1a575f8435e6ade8b1ac0d1ce9ab059a\r\n",
      "    id3v2_priv.wolnelektury.pl?project: Biblioteka Narodowa\r\n",
      "  Duration: 00:23:39.86, start: 0.025057, bitrate: 64 kb/s\r\n",
      "    Stream #0:0: Audio: mp3, 44100 Hz, mono, fltp, 64 kb/s\r\n",
      "Stream mapping:\r\n",
      "  Stream #0:0 -> #0:0 (mp3 (mp3float) -> pcm_s16le (native))\r\n",
      "Press [q] to stop, [?] for help\r\n",
      "Output #0, wav, to '20-000-mil-podmorskiej-zeglugi_036_potwale-i-wieloryby.wav':\r\n",
      "  Metadata:\r\n",
      "    INAM            : 20 000 mil podmorskiej żeglugi (tłum. nieznany)\r\n",
      "    IART            : Mateusz Weber\r\n",
      "    IPRD            : Wolne Lektury\r\n",
      "    ICRD            : 2020\r\n",
      "    IGNR            : Speech\r\n",
      "    ILNG            : pol\r\n",
      "    id3v2_priv.wolnelektury.pl?project: Biblioteka Narodowa\r\n",
      "    performer       : Dominik Lehman\r\n",
      "    album_artist    : Fundacja Nowoczesna Polska\r\n",
      "    publisher       : Fundacja Nowoczesna Polska\r\n",
      "    ICOP            : 2020 Fundacja Nowoczesna Polska. Licensed to the public under http://artlibre.org/licence/lal/pl/ verify at https://wolnelektury.pl/katalog/lektura/20-000-mil-podmorskiej-zeglugi/\r\n",
      "    ICMT            : Audiobook nagrany w ramach projektu Biblioteka Narodowa finansowanego przez Priorytet 4 Udostępnienie publikacji w formatach cyfrowych w ramach Narodowego Programu Rozwoju Czytelnictwa.\r\n",
      "                    : \r\n",
      "                    : Przekaż 1% podatku na rozwój Wolnych Lektur:\r\n",
      "                    : Fundacja Nowoczesna Polska\r\n",
      "                    : KRS 0000070056\r\n",
      "                    : http://nowoczesnapolska.org.pl/wesprzyj_nas/\r\n",
      "                    : \r\n",
      "    id3v2_priv.wolnelektury.pl?funded_by: Priorytet 4\\xc2\\xa0Udost\\xc4\\x99pnienie publikacji w formatach cyfrowych\\xc2\\xa0w ramach Narodowego Programu Rozwoju Czytelnictwa\r\n",
      "    id3v2_priv.wolnelektury.pl?flac_sha1: 11694a7c1a575f8435e6ade8b1ac0d1ce9ab059a\r\n",
      "    ISFT            : Lavf58.45.100\r\n",
      "    Stream #0:0: Audio: pcm_s16le ([1][0][0][0] / 0x0001), 16000 Hz, mono, s16, 256 kb/s\r\n",
      "    Metadata:\r\n",
      "      encoder         : Lavc58.91.100 pcm_s16le\r\n"
     ]
    },
    {
     "name": "stdout",
     "output_type": "stream",
     "text": [
      "size=   11776kB time=00:06:19.08 bitrate= 254.5kbits/s speed= 758x    \r"
     ]
    },
    {
     "name": "stdout",
     "output_type": "stream",
     "text": [
      "size=   23552kB time=00:12:39.48 bitrate= 254.0kbits/s speed= 759x    \r"
     ]
    },
    {
     "name": "stdout",
     "output_type": "stream",
     "text": [
      "size=   35584kB time=00:19:00.66 bitrate= 255.6kbits/s speed= 760x    \r"
     ]
    },
    {
     "name": "stdout",
     "output_type": "stream",
     "text": [
      "size=   44370kB time=00:23:39.81 bitrate= 256.0kbits/s speed= 760x    \r\n",
      "video:0kB audio:44369kB subtitle:0kB other streams:0kB global headers:0kB muxing overhead: 0.001638%\r\n"
     ]
    },
    {
     "name": "stdout",
     "output_type": "stream",
     "text": [
      "Loading model from file ../input/polish-deepspeech-models/output_graph_pl.pbmm\r\n",
      "TensorFlow: v2.3.0-6-g23ad988\r\n",
      "DeepSpeech: v0.9.3-0-gf2e9c85\r\n",
      "2021-05-07 11:55:37.019846: I tensorflow/core/platform/cpu_feature_guard.cc:142] This TensorFlow binary is optimized with oneAPI Deep Neural Network Library (oneDNN)to use the following CPU instructions in performance-critical operations:  AVX2 FMA\r\n",
      "To enable them in other operations, rebuild TensorFlow with the appropriate compiler flags.\r\n"
     ]
    },
    {
     "name": "stdout",
     "output_type": "stream",
     "text": [
      "Loaded model in 0.0168s.\r\n",
      "Loading scorer from files ../input/polish-deepspeech-models/kenlm_pl.scorer\r\n",
      "Loaded scorer in 0.00515s.\r\n",
      "Running inference.\r\n"
     ]
    },
    {
     "name": "stdout",
     "output_type": "stream",
     "text": [
      "Inference took 1769.628s for 1419.812s audio file.\r\n"
     ]
    },
    {
     "name": "stdout",
     "output_type": "stream",
     "text": [
      "ffmpeg version 4.3.1 Copyright (c) 2000-2020 the FFmpeg developers\r\n",
      "  built with gcc 9.3.0 (crosstool-NG 1.24.0.133_b0863d8_dirty)\r\n",
      "  configuration: --prefix=/opt/conda --cc=/home/conda/feedstock_root/build_artifacts/ffmpeg_1609680890771/_build_env/bin/x86_64-conda-linux-gnu-cc --disable-doc --disable-openssl --enable-avresample --enable-gnutls --enable-gpl --enable-hardcoded-tables --enable-libfreetype --enable-libopenh264 --enable-libx264 --enable-pic --enable-pthreads --enable-shared --enable-static --enable-version3 --enable-zlib --enable-libmp3lame --pkg-config=/home/conda/feedstock_root/build_artifacts/ffmpeg_1609680890771/_build_env/bin/pkg-config\r\n",
      "  libavutil      56. 51.100 / 56. 51.100\r\n",
      "  libavcodec     58. 91.100 / 58. 91.100\r\n",
      "  libavformat    58. 45.100 / 58. 45.100\r\n",
      "  libavdevice    58. 10.100 / 58. 10.100\r\n",
      "  libavfilter     7. 85.100 /  7. 85.100\r\n",
      "  libavresample   4.  0.  0 /  4.  0.  0\r\n",
      "  libswscale      5.  7.100 /  5.  7.100\r\n",
      "  libswresample   3.  7.100 /  3.  7.100\r\n",
      "  libpostproc    55.  7.100 / 55.  7.100\r\n"
     ]
    },
    {
     "name": "stdout",
     "output_type": "stream",
     "text": [
      "\u001b[0;33mUnknown attached picture mimetype: ('image/png', None), skipping.\r\n",
      "\u001b[0mInput #0, mp3, from '../input/wolne-lektury-deepspeech/20-000-mil-podmorskiej-zeglugi_037_lawica-lodowa.mp3':\r\n",
      "  Metadata:\r\n",
      "    title           : 20 000 mil podmorskiej żeglugi (tłum. nieznany)\r\n",
      "    artist          : Mateusz Weber\r\n",
      "    album           : Wolne Lektury\r\n",
      "    date            : 2020\r\n",
      "    genre           : Speech\r\n",
      "    encoder         : Lavf58.20.100\r\n",
      "    performer       : Dominik Lehman\r\n",
      "    album_artist    : Fundacja Nowoczesna Polska\r\n",
      "    publisher       : Fundacja Nowoczesna Polska\r\n",
      "    copyright       : 2020 Fundacja Nowoczesna Polska. Licensed to the public under http://artlibre.org/licence/lal/pl/ verify at https://wolnelektury.pl/katalog/lektura/20-000-mil-podmorskiej-zeglugi/\r\n",
      "    comment         : Audiobook nagrany w ramach projektu Biblioteka Narodowa finansowanego przez Priorytet 4 Udostępnienie publikacji w formatach cyfrowych w ramach Narodowego Programu Rozwoju Czytelnictwa.\r\n",
      "                    : \r\n",
      "                    : Przekaż 1% podatku na rozwój Wolnych Lektur:\r\n",
      "                    : Fundacja Nowoczesna Polska\r\n",
      "                    : KRS 0000070056\r\n",
      "                    : http://nowoczesnapolska.org.pl/wesprzyj_nas/\r\n",
      "                    : \r\n",
      "    id3v2_priv.wolnelektury.pl?funded_by: Priorytet 4\\xc2\\xa0Udost\\xc4\\x99pnienie publikacji w formatach cyfrowych\\xc2\\xa0w ramach Narodowego Programu Rozwoju Czytelnictwa\r\n",
      "    id3v2_priv.wolnelektury.pl?flac_sha1: 86bd68d2a7f8fb0fd2522dd03afcd741b6766885\r\n",
      "    id3v2_priv.wolnelektury.pl?project: Biblioteka Narodowa\r\n",
      "  Duration: 00:27:03.25, start: 0.025057, bitrate: 64 kb/s\r\n",
      "    Stream #0:0: Audio: mp3, 44100 Hz, mono, fltp, 64 kb/s\r\n",
      "Stream mapping:\r\n",
      "  Stream #0:0 -> #0:0 (mp3 (mp3float) -> pcm_s16le (native))\r\n",
      "Press [q] to stop, [?] for help\r\n",
      "Output #0, wav, to '20-000-mil-podmorskiej-zeglugi_037_lawica-lodowa.wav':\r\n",
      "  Metadata:\r\n",
      "    INAM            : 20 000 mil podmorskiej żeglugi (tłum. nieznany)\r\n",
      "    IART            : Mateusz Weber\r\n",
      "    IPRD            : Wolne Lektury\r\n",
      "    ICRD            : 2020\r\n",
      "    IGNR            : Speech\r\n",
      "    ILNG            : pol\r\n",
      "    id3v2_priv.wolnelektury.pl?project: Biblioteka Narodowa\r\n",
      "    performer       : Dominik Lehman\r\n",
      "    album_artist    : Fundacja Nowoczesna Polska\r\n",
      "    publisher       : Fundacja Nowoczesna Polska\r\n",
      "    ICOP            : 2020 Fundacja Nowoczesna Polska. Licensed to the public under http://artlibre.org/licence/lal/pl/ verify at https://wolnelektury.pl/katalog/lektura/20-000-mil-podmorskiej-zeglugi/\r\n",
      "    ICMT            : Audiobook nagrany w ramach projektu Biblioteka Narodowa finansowanego przez Priorytet 4 Udostępnienie publikacji w formatach cyfrowych w ramach Narodowego Programu Rozwoju Czytelnictwa.\r\n",
      "                    : \r\n",
      "                    : Przekaż 1% podatku na rozwój Wolnych Lektur:\r\n",
      "                    : Fundacja Nowoczesna Polska\r\n",
      "                    : KRS 0000070056\r\n",
      "                    : http://nowoczesnapolska.org.pl/wesprzyj_nas/\r\n",
      "                    : \r\n",
      "    id3v2_priv.wolnelektury.pl?funded_by: Priorytet 4\\xc2\\xa0Udost\\xc4\\x99pnienie publikacji w formatach cyfrowych\\xc2\\xa0w ramach Narodowego Programu Rozwoju Czytelnictwa\r\n",
      "    id3v2_priv.wolnelektury.pl?flac_sha1: 86bd68d2a7f8fb0fd2522dd03afcd741b6766885\r\n",
      "    ISFT            : Lavf58.45.100\r\n",
      "    Stream #0:0: Audio: pcm_s16le ([1][0][0][0] / 0x0001), 16000 Hz, mono, s16, 256 kb/s\r\n",
      "    Metadata:\r\n",
      "      encoder         : Lavc58.91.100 pcm_s16le\r\n"
     ]
    },
    {
     "name": "stdout",
     "output_type": "stream",
     "text": [
      "size=   11520kB time=00:06:10.80 bitrate= 254.5kbits/s speed= 742x    \r"
     ]
    },
    {
     "name": "stdout",
     "output_type": "stream",
     "text": [
      "size=   23296kB time=00:12:26.94 bitrate= 255.5kbits/s speed= 747x    \r"
     ]
    },
    {
     "name": "stdout",
     "output_type": "stream",
     "text": [
      "size=   35072kB time=00:18:45.19 bitrate= 255.3kbits/s speed= 750x    \r"
     ]
    },
    {
     "name": "stdout",
     "output_type": "stream",
     "text": [
      "size=   46848kB time=00:25:03.37 bitrate= 255.3kbits/s speed= 752x    \r"
     ]
    },
    {
     "name": "stdout",
     "output_type": "stream",
     "text": [
      "size=   50726kB time=00:27:03.22 bitrate= 256.0kbits/s speed= 751x    \r\n",
      "video:0kB audio:50726kB subtitle:0kB other streams:0kB global headers:0kB muxing overhead: 0.001432%\r\n"
     ]
    },
    {
     "name": "stdout",
     "output_type": "stream",
     "text": [
      "Loading model from file ../input/polish-deepspeech-models/output_graph_pl.pbmm\r\n",
      "TensorFlow: v2.3.0-6-g23ad988\r\n",
      "DeepSpeech: v0.9.3-0-gf2e9c85\r\n",
      "2021-05-07 12:25:09.252411: I tensorflow/core/platform/cpu_feature_guard.cc:142] This TensorFlow binary is optimized with oneAPI Deep Neural Network Library (oneDNN)to use the following CPU instructions in performance-critical operations:  AVX2 FMA\r\n",
      "To enable them in other operations, rebuild TensorFlow with the appropriate compiler flags.\r\n"
     ]
    },
    {
     "name": "stdout",
     "output_type": "stream",
     "text": [
      "Loaded model in 0.0184s.\r\n",
      "Loading scorer from files ../input/polish-deepspeech-models/kenlm_pl.scorer\r\n",
      "Loaded scorer in 0.00481s.\r\n",
      "Running inference.\r\n"
     ]
    },
    {
     "name": "stdout",
     "output_type": "stream",
     "text": [
      "Inference took 2220.366s for 1623.222s audio file.\r\n"
     ]
    },
    {
     "name": "stdout",
     "output_type": "stream",
     "text": [
      "ffmpeg version 4.3.1 Copyright (c) 2000-2020 the FFmpeg developers\r\n",
      "  built with gcc 9.3.0 (crosstool-NG 1.24.0.133_b0863d8_dirty)\r\n",
      "  configuration: --prefix=/opt/conda --cc=/home/conda/feedstock_root/build_artifacts/ffmpeg_1609680890771/_build_env/bin/x86_64-conda-linux-gnu-cc --disable-doc --disable-openssl --enable-avresample --enable-gnutls --enable-gpl --enable-hardcoded-tables --enable-libfreetype --enable-libopenh264 --enable-libx264 --enable-pic --enable-pthreads --enable-shared --enable-static --enable-version3 --enable-zlib --enable-libmp3lame --pkg-config=/home/conda/feedstock_root/build_artifacts/ffmpeg_1609680890771/_build_env/bin/pkg-config\r\n",
      "  libavutil      56. 51.100 / 56. 51.100\r\n",
      "  libavcodec     58. 91.100 / 58. 91.100\r\n",
      "  libavformat    58. 45.100 / 58. 45.100\r\n",
      "  libavdevice    58. 10.100 / 58. 10.100\r\n",
      "  libavfilter     7. 85.100 /  7. 85.100\r\n",
      "  libavresample   4.  0.  0 /  4.  0.  0\r\n",
      "  libswscale      5.  7.100 /  5.  7.100\r\n",
      "  libswresample   3.  7.100 /  3.  7.100\r\n",
      "  libpostproc    55.  7.100 / 55.  7.100\r\n",
      "\u001b[0;33mUnknown attached picture mimetype: ('image/png', None), skipping.\r\n",
      "\u001b[0mInput #0, mp3, from '../input/wolne-lektury-deepspeech/20-000-mil-podmorskiej-zeglugi_038_biegun-poludniowy.mp3':\r\n",
      "  Metadata:\r\n",
      "    title           : 20 000 mil podmorskiej żeglugi (tłum. nieznany)\r\n",
      "    artist          : Mateusz Weber\r\n",
      "    album           : Wolne Lektury\r\n",
      "    date            : 2020\r\n",
      "    genre           : Speech\r\n",
      "    encoder         : Lavf58.20.100\r\n",
      "    performer       : Dominik Lehman\r\n",
      "    album_artist    : Fundacja Nowoczesna Polska\r\n",
      "    publisher       : Fundacja Nowoczesna Polska\r\n",
      "    copyright       : 2020 Fundacja Nowoczesna Polska. Licensed to the public under http://artlibre.org/licence/lal/pl/ verify at https://wolnelektury.pl/katalog/lektura/20-000-mil-podmorskiej-zeglugi/\r\n",
      "    comment         : Audiobook nagrany w ramach projektu Biblioteka Narodowa finansowanego przez Priorytet 4 Udostępnienie publikacji w formatach cyfrowych w ramach Narodowego Programu Rozwoju Czytelnictwa.\r\n",
      "                    : \r\n",
      "                    : Przekaż 1% podatku na rozwój Wolnych Lektur:\r\n",
      "                    : Fundacja Nowoczesna Polska\r\n",
      "                    : KRS 0000070056\r\n",
      "                    : http://nowoczesnapolska.org.pl/wesprzyj_nas/\r\n",
      "                    : \r\n",
      "    id3v2_priv.wolnelektury.pl?funded_by: Priorytet 4\\xc2\\xa0Udost\\xc4\\x99pnienie publikacji w formatach cyfrowych\\xc2\\xa0w ramach Narodowego Programu Rozwoju Czytelnictwa\r\n",
      "    id3v2_priv.wolnelektury.pl?flac_sha1: c2e153b3954e60f0028354c801c7b4ef8953286f\r\n",
      "    id3v2_priv.wolnelektury.pl?project: Biblioteka Narodowa\r\n",
      "  Duration: 00:31:57.20, start: 0.025057, bitrate: 64 kb/s\r\n",
      "    Stream #0:0: Audio: mp3, 44100 Hz, mono, fltp, 64 kb/s\r\n",
      "Stream mapping:\r\n",
      "  Stream #0:0 -> #0:0 (mp3 (mp3float) -> pcm_s16le (native))\r\n",
      "Press [q] to stop, [?] for help\r\n",
      "Output #0, wav, to '20-000-mil-podmorskiej-zeglugi_038_biegun-poludniowy.wav':\r\n",
      "  Metadata:\r\n",
      "    INAM            : 20 000 mil podmorskiej żeglugi (tłum. nieznany)\r\n",
      "    IART            : Mateusz Weber\r\n",
      "    IPRD            : Wolne Lektury\r\n",
      "    ICRD            : 2020\r\n",
      "    IGNR            : Speech\r\n",
      "    ILNG            : pol\r\n",
      "    id3v2_priv.wolnelektury.pl?project: Biblioteka Narodowa\r\n",
      "    performer       : Dominik Lehman\r\n",
      "    album_artist    : Fundacja Nowoczesna Polska\r\n",
      "    publisher       : Fundacja Nowoczesna Polska\r\n",
      "    ICOP            : 2020 Fundacja Nowoczesna Polska. Licensed to the public under http://artlibre.org/licence/lal/pl/ verify at https://wolnelektury.pl/katalog/lektura/20-000-mil-podmorskiej-zeglugi/\r\n",
      "    ICMT            : Audiobook nagrany w ramach projektu Biblioteka Narodowa finansowanego przez Priorytet 4 Udostępnienie publikacji w formatach cyfrowych w ramach Narodowego Programu Rozwoju Czytelnictwa.\r\n",
      "                    : \r\n",
      "                    : Przekaż 1% podatku na rozwój Wolnych Lektur:\r\n",
      "                    : Fundacja Nowoczesna Polska\r\n",
      "                    : KRS 0000070056\r\n",
      "                    : http://nowoczesnapolska.org.pl/wesprzyj_nas/\r\n",
      "                    : \r\n",
      "    id3v2_priv.wolnelektury.pl?funded_by: Priorytet 4\\xc2\\xa0Udost\\xc4\\x99pnienie publikacji w formatach cyfrowych\\xc2\\xa0w ramach Narodowego Programu Rozwoju Czytelnictwa\r\n",
      "    id3v2_priv.wolnelektury.pl?flac_sha1: c2e153b3954e60f0028354c801c7b4ef8953286f\r\n",
      "    ISFT            : Lavf58.45.100\r\n",
      "    Stream #0:0: Audio: pcm_s16le ([1][0][0][0] / 0x0001), 16000 Hz, mono, s16, 256 kb/s\r\n",
      "    Metadata:\r\n",
      "      encoder         : Lavc58.91.100 pcm_s16le\r\n"
     ]
    },
    {
     "name": "stdout",
     "output_type": "stream",
     "text": [
      "size=   11520kB time=00:06:12.29 bitrate= 253.5kbits/s speed= 745x    \r"
     ]
    },
    {
     "name": "stdout",
     "output_type": "stream",
     "text": [
      "size=   23296kB time=00:12:27.33 bitrate= 255.4kbits/s speed= 747x    \r"
     ]
    },
    {
     "name": "stdout",
     "output_type": "stream",
     "text": [
      "size=   35072kB time=00:18:48.04 bitrate= 254.7kbits/s speed= 752x    \r"
     ]
    },
    {
     "name": "stdout",
     "output_type": "stream",
     "text": [
      "size=   47104kB time=00:25:07.86 bitrate= 255.9kbits/s speed= 754x    \r"
     ]
    },
    {
     "name": "stdout",
     "output_type": "stream",
     "text": [
      "size=   58880kB time=00:31:27.13 bitrate= 255.6kbits/s speed= 755x    \r"
     ]
    },
    {
     "name": "stdout",
     "output_type": "stream",
     "text": [
      "size=   59912kB time=00:31:57.16 bitrate= 256.0kbits/s speed= 755x    \r\n",
      "video:0kB audio:59911kB subtitle:0kB other streams:0kB global headers:0kB muxing overhead: 0.001213%\r\n"
     ]
    },
    {
     "name": "stdout",
     "output_type": "stream",
     "text": [
      "Loading model from file ../input/polish-deepspeech-models/output_graph_pl.pbmm\r\n",
      "TensorFlow: v2.3.0-6-g23ad988\r\n",
      "DeepSpeech: v0.9.3-0-gf2e9c85\r\n",
      "2021-05-07 13:02:12.604703: I tensorflow/core/platform/cpu_feature_guard.cc:142] This TensorFlow binary is optimized with oneAPI Deep Neural Network Library (oneDNN)to use the following CPU instructions in performance-critical operations:  AVX2 FMA\r\n",
      "To enable them in other operations, rebuild TensorFlow with the appropriate compiler flags.\r\n",
      "Loaded model in 0.0196s.\r\n",
      "Loading scorer from files ../input/polish-deepspeech-models/kenlm_pl.scorer\r\n"
     ]
    },
    {
     "name": "stdout",
     "output_type": "stream",
     "text": [
      "Loaded scorer in 0.00623s.\r\n",
      "Running inference.\r\n"
     ]
    },
    {
     "name": "stdout",
     "output_type": "stream",
     "text": [
      "Inference took 2915.335s for 1917.167s audio file.\r\n"
     ]
    },
    {
     "name": "stdout",
     "output_type": "stream",
     "text": [
      "ffmpeg version 4.3.1 Copyright (c) 2000-2020 the FFmpeg developers\r\n",
      "  built with gcc 9.3.0 (crosstool-NG 1.24.0.133_b0863d8_dirty)\r\n",
      "  configuration: --prefix=/opt/conda --cc=/home/conda/feedstock_root/build_artifacts/ffmpeg_1609680890771/_build_env/bin/x86_64-conda-linux-gnu-cc --disable-doc --disable-openssl --enable-avresample --enable-gnutls --enable-gpl --enable-hardcoded-tables --enable-libfreetype --enable-libopenh264 --enable-libx264 --enable-pic --enable-pthreads --enable-shared --enable-static --enable-version3 --enable-zlib --enable-libmp3lame --pkg-config=/home/conda/feedstock_root/build_artifacts/ffmpeg_1609680890771/_build_env/bin/pkg-config\r\n",
      "  libavutil      56. 51.100 / 56. 51.100\r\n",
      "  libavcodec     58. 91.100 / 58. 91.100\r\n",
      "  libavformat    58. 45.100 / 58. 45.100\r\n",
      "  libavdevice    58. 10.100 / 58. 10.100\r\n",
      "  libavfilter     7. 85.100 /  7. 85.100\r\n",
      "  libavresample   4.  0.  0 /  4.  0.  0\r\n",
      "  libswscale      5.  7.100 /  5.  7.100\r\n",
      "  libswresample   3.  7.100 /  3.  7.100\r\n",
      "  libpostproc    55.  7.100 / 55.  7.100\r\n"
     ]
    },
    {
     "name": "stdout",
     "output_type": "stream",
     "text": [
      "\u001b[0;33mUnknown attached picture mimetype: ('image/png', None), skipping.\r\n",
      "\u001b[0mInput #0, mp3, from '../input/wolne-lektury-deepspeech/20-000-mil-podmorskiej-zeglugi_039_nieszczescie-czy-wypadek.mp3':\r\n",
      "  Metadata:\r\n",
      "    title           : 20 000 mil podmorskiej żeglugi (tłum. nieznany)\r\n",
      "    artist          : Mateusz Weber\r\n",
      "    album           : Wolne Lektury\r\n",
      "    date            : 2020\r\n",
      "    genre           : Speech\r\n",
      "    encoder         : Lavf58.20.100\r\n",
      "    performer       : Dominik Lehman\r\n",
      "    album_artist    : Fundacja Nowoczesna Polska\r\n",
      "    publisher       : Fundacja Nowoczesna Polska\r\n",
      "    copyright       : 2020 Fundacja Nowoczesna Polska. Licensed to the public under http://artlibre.org/licence/lal/pl/ verify at https://wolnelektury.pl/katalog/lektura/20-000-mil-podmorskiej-zeglugi/\r\n",
      "    comment         : Audiobook nagrany w ramach projektu Biblioteka Narodowa finansowanego przez Priorytet 4 Udostępnienie publikacji w formatach cyfrowych w ramach Narodowego Programu Rozwoju Czytelnictwa.\r\n",
      "                    : \r\n",
      "                    : Przekaż 1% podatku na rozwój Wolnych Lektur:\r\n",
      "                    : Fundacja Nowoczesna Polska\r\n",
      "                    : KRS 0000070056\r\n",
      "                    : http://nowoczesnapolska.org.pl/wesprzyj_nas/\r\n",
      "                    : \r\n",
      "    id3v2_priv.wolnelektury.pl?funded_by: Priorytet 4\\xc2\\xa0Udost\\xc4\\x99pnienie publikacji w formatach cyfrowych\\xc2\\xa0w ramach Narodowego Programu Rozwoju Czytelnictwa\r\n",
      "    id3v2_priv.wolnelektury.pl?flac_sha1: 6ebde9923b27cf99f55398dab1c9a5aeca777274\r\n",
      "    id3v2_priv.wolnelektury.pl?project: Biblioteka Narodowa\r\n",
      "  Duration: 00:17:37.91, start: 0.025057, bitrate: 64 kb/s\r\n",
      "    Stream #0:0: Audio: mp3, 44100 Hz, mono, fltp, 64 kb/s\r\n",
      "Stream mapping:\r\n",
      "  Stream #0:0 -> #0:0 (mp3 (mp3float) -> pcm_s16le (native))\r\n",
      "Press [q] to stop, [?] for help\r\n",
      "Output #0, wav, to '20-000-mil-podmorskiej-zeglugi_039_nieszczescie-czy-wypadek.wav':\r\n",
      "  Metadata:\r\n",
      "    INAM            : 20 000 mil podmorskiej żeglugi (tłum. nieznany)\r\n",
      "    IART            : Mateusz Weber\r\n",
      "    IPRD            : Wolne Lektury\r\n",
      "    ICRD            : 2020\r\n",
      "    IGNR            : Speech\r\n",
      "    ILNG            : pol\r\n",
      "    id3v2_priv.wolnelektury.pl?project: Biblioteka Narodowa\r\n",
      "    performer       : Dominik Lehman\r\n",
      "    album_artist    : Fundacja Nowoczesna Polska\r\n",
      "    publisher       : Fundacja Nowoczesna Polska\r\n",
      "    ICOP            : 2020 Fundacja Nowoczesna Polska. Licensed to the public under http://artlibre.org/licence/lal/pl/ verify at https://wolnelektury.pl/katalog/lektura/20-000-mil-podmorskiej-zeglugi/\r\n",
      "    ICMT            : Audiobook nagrany w ramach projektu Biblioteka Narodowa finansowanego przez Priorytet 4 Udostępnienie publikacji w formatach cyfrowych w ramach Narodowego Programu Rozwoju Czytelnictwa.\r\n",
      "                    : \r\n",
      "                    : Przekaż 1% podatku na rozwój Wolnych Lektur:\r\n",
      "                    : Fundacja Nowoczesna Polska\r\n",
      "                    : KRS 0000070056\r\n",
      "                    : http://nowoczesnapolska.org.pl/wesprzyj_nas/\r\n",
      "                    : \r\n",
      "    id3v2_priv.wolnelektury.pl?funded_by: Priorytet 4\\xc2\\xa0Udost\\xc4\\x99pnienie publikacji w formatach cyfrowych\\xc2\\xa0w ramach Narodowego Programu Rozwoju Czytelnictwa\r\n",
      "    id3v2_priv.wolnelektury.pl?flac_sha1: 6ebde9923b27cf99f55398dab1c9a5aeca777274\r\n",
      "    ISFT            : Lavf58.45.100\r\n",
      "    Stream #0:0: Audio: pcm_s16le ([1][0][0][0] / 0x0001), 16000 Hz, mono, s16, 256 kb/s\r\n",
      "    Metadata:\r\n",
      "      encoder         : Lavc58.91.100 pcm_s16le\r\n"
     ]
    },
    {
     "name": "stdout",
     "output_type": "stream",
     "text": [
      "size=   11520kB time=00:06:09.52 bitrate= 255.4kbits/s speed= 739x    \r"
     ]
    },
    {
     "name": "stdout",
     "output_type": "stream",
     "text": [
      "size=   22784kB time=00:12:14.98 bitrate= 253.9kbits/s speed= 735x    \r"
     ]
    },
    {
     "name": "stdout",
     "output_type": "stream",
     "text": [
      "size=   33059kB time=00:17:37.87 bitrate= 256.0kbits/s speed= 737x    \r\n",
      "video:0kB audio:33059kB subtitle:0kB other streams:0kB global headers:0kB muxing overhead: 0.002198%\r\n"
     ]
    },
    {
     "name": "stdout",
     "output_type": "stream",
     "text": [
      "Loading model from file ../input/polish-deepspeech-models/output_graph_pl.pbmm\r\n",
      "TensorFlow: v2.3.0-6-g23ad988\r\n",
      "DeepSpeech: v0.9.3-0-gf2e9c85\r\n",
      "2021-05-07 13:50:49.898244: I tensorflow/core/platform/cpu_feature_guard.cc:142] This TensorFlow binary is optimized with oneAPI Deep Neural Network Library (oneDNN)to use the following CPU instructions in performance-critical operations:  AVX2 FMA\r\n",
      "To enable them in other operations, rebuild TensorFlow with the appropriate compiler flags.\r\n"
     ]
    },
    {
     "name": "stdout",
     "output_type": "stream",
     "text": [
      "Loaded model in 0.023s.\r\n",
      "Loading scorer from files ../input/polish-deepspeech-models/kenlm_pl.scorer\r\n",
      "Loaded scorer in 0.00668s.\r\n",
      "Running inference.\r\n"
     ]
    },
    {
     "name": "stdout",
     "output_type": "stream",
     "text": [
      "Inference took 1187.498s for 1057.875s audio file.\r\n"
     ]
    },
    {
     "name": "stdout",
     "output_type": "stream",
     "text": [
      "ffmpeg version 4.3.1 Copyright (c) 2000-2020 the FFmpeg developers\r\n",
      "  built with gcc 9.3.0 (crosstool-NG 1.24.0.133_b0863d8_dirty)\r\n",
      "  configuration: --prefix=/opt/conda --cc=/home/conda/feedstock_root/build_artifacts/ffmpeg_1609680890771/_build_env/bin/x86_64-conda-linux-gnu-cc --disable-doc --disable-openssl --enable-avresample --enable-gnutls --enable-gpl --enable-hardcoded-tables --enable-libfreetype --enable-libopenh264 --enable-libx264 --enable-pic --enable-pthreads --enable-shared --enable-static --enable-version3 --enable-zlib --enable-libmp3lame --pkg-config=/home/conda/feedstock_root/build_artifacts/ffmpeg_1609680890771/_build_env/bin/pkg-config\r\n",
      "  libavutil      56. 51.100 / 56. 51.100\r\n",
      "  libavcodec     58. 91.100 / 58. 91.100\r\n",
      "  libavformat    58. 45.100 / 58. 45.100\r\n",
      "  libavdevice    58. 10.100 / 58. 10.100\r\n",
      "  libavfilter     7. 85.100 /  7. 85.100\r\n",
      "  libavresample   4.  0.  0 /  4.  0.  0\r\n",
      "  libswscale      5.  7.100 /  5.  7.100\r\n",
      "  libswresample   3.  7.100 /  3.  7.100\r\n",
      "  libpostproc    55.  7.100 / 55.  7.100\r\n",
      "\u001b[0;33mUnknown attached picture mimetype: ('image/png', None), skipping.\r\n",
      "\u001b[0mInput #0, mp3, from '../input/wolne-lektury-deepspeech/20-000-mil-podmorskiej-zeglugi_040_brak-powietrza.mp3':\r\n",
      "  Metadata:\r\n",
      "    title           : 20 000 mil podmorskiej żeglugi (tłum. nieznany)\r\n",
      "    artist          : Mateusz Weber\r\n",
      "    album           : Wolne Lektury\r\n",
      "    date            : 2020\r\n",
      "    genre           : Speech\r\n",
      "    encoder         : Lavf58.20.100\r\n",
      "    performer       : Dominik Lehman\r\n",
      "    album_artist    : Fundacja Nowoczesna Polska\r\n",
      "    publisher       : Fundacja Nowoczesna Polska\r\n",
      "    copyright       : 2020 Fundacja Nowoczesna Polska. Licensed to the public under http://artlibre.org/licence/lal/pl/ verify at https://wolnelektury.pl/katalog/lektura/20-000-mil-podmorskiej-zeglugi/\r\n",
      "    comment         : Audiobook nagrany w ramach projektu Biblioteka Narodowa finansowanego przez Priorytet 4 Udostępnienie publikacji w formatach cyfrowych w ramach Narodowego Programu Rozwoju Czytelnictwa.\r\n",
      "                    : \r\n",
      "                    : Przekaż 1% podatku na rozwój Wolnych Lektur:\r\n",
      "                    : Fundacja Nowoczesna Polska\r\n",
      "                    : KRS 0000070056\r\n",
      "                    : http://nowoczesnapolska.org.pl/wesprzyj_nas/\r\n",
      "                    : \r\n",
      "    id3v2_priv.wolnelektury.pl?funded_by: Priorytet 4\\xc2\\xa0Udost\\xc4\\x99pnienie publikacji w formatach cyfrowych\\xc2\\xa0w ramach Narodowego Programu Rozwoju Czytelnictwa\r\n",
      "    id3v2_priv.wolnelektury.pl?flac_sha1: 4ac9b6230c334c2c87aeb3f23816befca7da2bb7\r\n",
      "    id3v2_priv.wolnelektury.pl?project: Biblioteka Narodowa\r\n",
      "  Duration: 00:22:46.52, start: 0.025057, bitrate: 64 kb/s\r\n",
      "    Stream #0:0: Audio: mp3, 44100 Hz, mono, fltp, 64 kb/s\r\n",
      "Stream mapping:\r\n",
      "  Stream #0:0 -> #0:0 (mp3 (mp3float) -> pcm_s16le (native))\r\n",
      "Press [q] to stop, [?] for help\r\n",
      "Output #0, wav, to '20-000-mil-podmorskiej-zeglugi_040_brak-powietrza.wav':\r\n",
      "  Metadata:\r\n",
      "    INAM            : 20 000 mil podmorskiej żeglugi (tłum. nieznany)\r\n",
      "    IART            : Mateusz Weber\r\n",
      "    IPRD            : Wolne Lektury\r\n",
      "    ICRD            : 2020\r\n",
      "    IGNR            : Speech\r\n",
      "    ILNG            : pol\r\n",
      "    id3v2_priv.wolnelektury.pl?project: Biblioteka Narodowa\r\n",
      "    performer       : Dominik Lehman\r\n",
      "    album_artist    : Fundacja Nowoczesna Polska\r\n",
      "    publisher       : Fundacja Nowoczesna Polska\r\n",
      "    ICOP            : 2020 Fundacja Nowoczesna Polska. Licensed to the public under http://artlibre.org/licence/lal/pl/ verify at https://wolnelektury.pl/katalog/lektura/20-000-mil-podmorskiej-zeglugi/\r\n",
      "    ICMT            : Audiobook nagrany w ramach projektu Biblioteka Narodowa finansowanego przez Priorytet 4 Udostępnienie publikacji w formatach cyfrowych w ramach Narodowego Programu Rozwoju Czytelnictwa.\r\n",
      "                    : \r\n",
      "                    : Przekaż 1% podatku na rozwój Wolnych Lektur:\r\n",
      "                    : Fundacja Nowoczesna Polska\r\n",
      "                    : KRS 0000070056\r\n",
      "                    : http://nowoczesnapolska.org.pl/wesprzyj_nas/\r\n",
      "                    : \r\n",
      "    id3v2_priv.wolnelektury.pl?funded_by: Priorytet 4\\xc2\\xa0Udost\\xc4\\x99pnienie publikacji w formatach cyfrowych\\xc2\\xa0w ramach Narodowego Programu Rozwoju Czytelnictwa\r\n",
      "    id3v2_priv.wolnelektury.pl?flac_sha1: 4ac9b6230c334c2c87aeb3f23816befca7da2bb7\r\n",
      "    ISFT            : Lavf58.45.100\r\n",
      "    Stream #0:0: Audio: pcm_s16le ([1][0][0][0] / 0x0001), 16000 Hz, mono, s16, 256 kb/s\r\n",
      "    Metadata:\r\n",
      "      encoder         : Lavc58.91.100 pcm_s16le\r\n"
     ]
    },
    {
     "name": "stdout",
     "output_type": "stream",
     "text": [
      "size=   11008kB time=00:05:58.55 bitrate= 251.5kbits/s speed= 717x    \r"
     ]
    },
    {
     "name": "stdout",
     "output_type": "stream",
     "text": [
      "size=   23040kB time=00:12:20.17 bitrate= 255.0kbits/s speed= 740x    \r"
     ]
    },
    {
     "name": "stdout",
     "output_type": "stream",
     "text": [
      "size=   34816kB time=00:18:37.28 bitrate= 255.3kbits/s speed= 745x    \r"
     ]
    },
    {
     "name": "stdout",
     "output_type": "stream",
     "text": [
      "size=   42703kB time=00:22:46.47 bitrate= 256.0kbits/s speed= 748x    \r\n",
      "video:0kB audio:42702kB subtitle:0kB other streams:0kB global headers:0kB muxing overhead: 0.001701%\r\n"
     ]
    },
    {
     "name": "stdout",
     "output_type": "stream",
     "text": [
      "Loading model from file ../input/polish-deepspeech-models/output_graph_pl.pbmm\r\n",
      "TensorFlow: v2.3.0-6-g23ad988\r\n",
      "DeepSpeech: v0.9.3-0-gf2e9c85\r\n",
      "2021-05-07 14:10:39.650929: I tensorflow/core/platform/cpu_feature_guard.cc:142] This TensorFlow binary is optimized with oneAPI Deep Neural Network Library (oneDNN)to use the following CPU instructions in performance-critical operations:  AVX2 FMA\r\n",
      "To enable them in other operations, rebuild TensorFlow with the appropriate compiler flags.\r\n",
      "Loaded model in 0.0173s.\r\n",
      "Loading scorer from files ../input/polish-deepspeech-models/kenlm_pl.scorer\r\n",
      "Loaded scorer in 0.00447s.\r\n"
     ]
    },
    {
     "name": "stdout",
     "output_type": "stream",
     "text": [
      "Running inference.\r\n"
     ]
    },
    {
     "name": "stdout",
     "output_type": "stream",
     "text": [
      "Inference took 1652.004s for 1366.475s audio file.\r\n"
     ]
    },
    {
     "name": "stdout",
     "output_type": "stream",
     "text": [
      "ffmpeg version 4.3.1 Copyright (c) 2000-2020 the FFmpeg developers\r\n",
      "  built with gcc 9.3.0 (crosstool-NG 1.24.0.133_b0863d8_dirty)\r\n",
      "  configuration: --prefix=/opt/conda --cc=/home/conda/feedstock_root/build_artifacts/ffmpeg_1609680890771/_build_env/bin/x86_64-conda-linux-gnu-cc --disable-doc --disable-openssl --enable-avresample --enable-gnutls --enable-gpl --enable-hardcoded-tables --enable-libfreetype --enable-libopenh264 --enable-libx264 --enable-pic --enable-pthreads --enable-shared --enable-static --enable-version3 --enable-zlib --enable-libmp3lame --pkg-config=/home/conda/feedstock_root/build_artifacts/ffmpeg_1609680890771/_build_env/bin/pkg-config\r\n",
      "  libavutil      56. 51.100 / 56. 51.100\r\n",
      "  libavcodec     58. 91.100 / 58. 91.100\r\n",
      "  libavformat    58. 45.100 / 58. 45.100\r\n",
      "  libavdevice    58. 10.100 / 58. 10.100\r\n",
      "  libavfilter     7. 85.100 /  7. 85.100\r\n",
      "  libavresample   4.  0.  0 /  4.  0.  0\r\n",
      "  libswscale      5.  7.100 /  5.  7.100\r\n",
      "  libswresample   3.  7.100 /  3.  7.100\r\n",
      "  libpostproc    55.  7.100 / 55.  7.100\r\n",
      "\u001b[0;33mUnknown attached picture mimetype: ('image/png', None), skipping.\r\n",
      "\u001b[0mInput #0, mp3, from '../input/wolne-lektury-deepspeech/20-000-mil-podmorskiej-zeglugi_041_z-przyladka-horn-do-amazonki.mp3':\r\n",
      "  Metadata:\r\n",
      "    title           : 20 000 mil podmorskiej żeglugi (tłum. nieznany)\r\n",
      "    artist          : Mateusz Weber\r\n",
      "    album           : Wolne Lektury\r\n",
      "    date            : 2020\r\n",
      "    genre           : Speech\r\n",
      "    encoder         : Lavf58.20.100\r\n",
      "    performer       : Dominik Lehman\r\n",
      "    album_artist    : Fundacja Nowoczesna Polska\r\n",
      "    publisher       : Fundacja Nowoczesna Polska\r\n",
      "    copyright       : 2020 Fundacja Nowoczesna Polska. Licensed to the public under http://artlibre.org/licence/lal/pl/ verify at https://wolnelektury.pl/katalog/lektura/20-000-mil-podmorskiej-zeglugi/\r\n",
      "    comment         : Audiobook nagrany w ramach projektu Biblioteka Narodowa finansowanego przez Priorytet 4 Udostępnienie publikacji w formatach cyfrowych w ramach Narodowego Programu Rozwoju Czytelnictwa.\r\n",
      "                    : \r\n",
      "                    : Przekaż 1% podatku na rozwój Wolnych Lektur:\r\n",
      "                    : Fundacja Nowoczesna Polska\r\n",
      "                    : KRS 0000070056\r\n",
      "                    : http://nowoczesnapolska.org.pl/wesprzyj_nas/\r\n",
      "                    : \r\n",
      "    id3v2_priv.wolnelektury.pl?funded_by: Priorytet 4\\xc2\\xa0Udost\\xc4\\x99pnienie publikacji w formatach cyfrowych\\xc2\\xa0w ramach Narodowego Programu Rozwoju Czytelnictwa\r\n",
      "    id3v2_priv.wolnelektury.pl?flac_sha1: fa98fb276b0cd25af04a56f22acdfe9f670b98a7\r\n",
      "    id3v2_priv.wolnelektury.pl?project: Biblioteka Narodowa\r\n",
      "  Duration: 00:23:33.30, start: 0.025057, bitrate: 64 kb/s\r\n",
      "    Stream #0:0: Audio: mp3, 44100 Hz, mono, fltp, 64 kb/s\r\n",
      "Stream mapping:\r\n",
      "  Stream #0:0 -> #0:0 (mp3 (mp3float) -> pcm_s16le (native))\r\n",
      "Press [q] to stop, [?] for help\r\n",
      "Output #0, wav, to '20-000-mil-podmorskiej-zeglugi_041_z-przyladka-horn-do-amazonki.wav':\r\n",
      "  Metadata:\r\n",
      "    INAM            : 20 000 mil podmorskiej żeglugi (tłum. nieznany)\r\n",
      "    IART            : Mateusz Weber\r\n",
      "    IPRD            : Wolne Lektury\r\n",
      "    ICRD            : 2020\r\n",
      "    IGNR            : Speech\r\n",
      "    ILNG            : pol\r\n",
      "    id3v2_priv.wolnelektury.pl?project: Biblioteka Narodowa\r\n",
      "    performer       : Dominik Lehman\r\n",
      "    album_artist    : Fundacja Nowoczesna Polska\r\n",
      "    publisher       : Fundacja Nowoczesna Polska\r\n",
      "    ICOP            : 2020 Fundacja Nowoczesna Polska. Licensed to the public under http://artlibre.org/licence/lal/pl/ verify at https://wolnelektury.pl/katalog/lektura/20-000-mil-podmorskiej-zeglugi/\r\n",
      "    ICMT            : Audiobook nagrany w ramach projektu Biblioteka Narodowa finansowanego przez Priorytet 4 Udostępnienie publikacji w formatach cyfrowych w ramach Narodowego Programu Rozwoju Czytelnictwa.\r\n",
      "                    : \r\n",
      "                    : Przekaż 1% podatku na rozwój Wolnych Lektur:\r\n",
      "                    : Fundacja Nowoczesna Polska\r\n",
      "                    : KRS 0000070056\r\n",
      "                    : http://nowoczesnapolska.org.pl/wesprzyj_nas/\r\n",
      "                    : \r\n",
      "    id3v2_priv.wolnelektury.pl?funded_by: Priorytet 4\\xc2\\xa0Udost\\xc4\\x99pnienie publikacji w formatach cyfrowych\\xc2\\xa0w ramach Narodowego Programu Rozwoju Czytelnictwa\r\n",
      "    id3v2_priv.wolnelektury.pl?flac_sha1: fa98fb276b0cd25af04a56f22acdfe9f670b98a7\r\n",
      "    ISFT            : Lavf58.45.100\r\n",
      "    Stream #0:0: Audio: pcm_s16le ([1][0][0][0] / 0x0001), 16000 Hz, mono, s16, 256 kb/s\r\n",
      "    Metadata:\r\n",
      "      encoder         : Lavc58.91.100 pcm_s16le\r\n"
     ]
    },
    {
     "name": "stdout",
     "output_type": "stream",
     "text": [
      "size=   11264kB time=00:06:04.09 bitrate= 253.4kbits/s speed= 728x    \r"
     ]
    },
    {
     "name": "stdout",
     "output_type": "stream",
     "text": [
      "size=   22784kB time=00:12:12.18 bitrate= 254.9kbits/s speed= 732x    \r"
     ]
    },
    {
     "name": "stdout",
     "output_type": "stream",
     "text": [
      "size=   34560kB time=00:18:28.29 bitrate= 255.5kbits/s speed= 739x    \r"
     ]
    },
    {
     "name": "stdout",
     "output_type": "stream",
     "text": [
      "size=   44165kB time=00:23:33.27 bitrate= 256.0kbits/s speed= 745x    \r\n",
      "video:0kB audio:44165kB subtitle:0kB other streams:0kB global headers:0kB muxing overhead: 0.001645%\r\n"
     ]
    },
    {
     "name": "stdout",
     "output_type": "stream",
     "text": [
      "Loading model from file ../input/polish-deepspeech-models/output_graph_pl.pbmm\r\n",
      "TensorFlow: v2.3.0-6-g23ad988\r\n",
      "DeepSpeech: v0.9.3-0-gf2e9c85\r\n",
      "2021-05-07 14:38:14.001124: I tensorflow/core/platform/cpu_feature_guard.cc:142] This TensorFlow binary is optimized with oneAPI Deep Neural Network Library (oneDNN)to use the following CPU instructions in performance-critical operations:  AVX2 FMA\r\n",
      "To enable them in other operations, rebuild TensorFlow with the appropriate compiler flags.\r\n",
      "Loaded model in 0.0181s.\r\n",
      "Loading scorer from files ../input/polish-deepspeech-models/kenlm_pl.scorer\r\n",
      "Loaded scorer in 0.00653s.\r\n"
     ]
    },
    {
     "name": "stdout",
     "output_type": "stream",
     "text": [
      "Running inference.\r\n"
     ]
    },
    {
     "name": "stdout",
     "output_type": "stream",
     "text": [
      "Inference took 1733.697s for 1413.273s audio file.\r\n"
     ]
    },
    {
     "name": "stdout",
     "output_type": "stream",
     "text": [
      "ffmpeg version 4.3.1 Copyright (c) 2000-2020 the FFmpeg developers\r\n",
      "  built with gcc 9.3.0 (crosstool-NG 1.24.0.133_b0863d8_dirty)\r\n",
      "  configuration: --prefix=/opt/conda --cc=/home/conda/feedstock_root/build_artifacts/ffmpeg_1609680890771/_build_env/bin/x86_64-conda-linux-gnu-cc --disable-doc --disable-openssl --enable-avresample --enable-gnutls --enable-gpl --enable-hardcoded-tables --enable-libfreetype --enable-libopenh264 --enable-libx264 --enable-pic --enable-pthreads --enable-shared --enable-static --enable-version3 --enable-zlib --enable-libmp3lame --pkg-config=/home/conda/feedstock_root/build_artifacts/ffmpeg_1609680890771/_build_env/bin/pkg-config\r\n",
      "  libavutil      56. 51.100 / 56. 51.100\r\n",
      "  libavcodec     58. 91.100 / 58. 91.100\r\n",
      "  libavformat    58. 45.100 / 58. 45.100\r\n",
      "  libavdevice    58. 10.100 / 58. 10.100\r\n",
      "  libavfilter     7. 85.100 /  7. 85.100\r\n",
      "  libavresample   4.  0.  0 /  4.  0.  0\r\n",
      "  libswscale      5.  7.100 /  5.  7.100\r\n",
      "  libswresample   3.  7.100 /  3.  7.100\r\n",
      "  libpostproc    55.  7.100 / 55.  7.100\r\n"
     ]
    },
    {
     "name": "stdout",
     "output_type": "stream",
     "text": [
      "\u001b[0;33mUnknown attached picture mimetype: ('image/png', None), skipping.\r\n",
      "\u001b[0mInput #0, mp3, from '../input/wolne-lektury-deepspeech/20-000-mil-podmorskiej-zeglugi_042_matwy.mp3':\r\n",
      "  Metadata:\r\n",
      "    title           : 20 000 mil podmorskiej żeglugi (tłum. nieznany)\r\n",
      "    artist          : Mateusz Weber\r\n",
      "    album           : Wolne Lektury\r\n",
      "    date            : 2020\r\n",
      "    genre           : Speech\r\n",
      "    encoder         : Lavf58.20.100\r\n",
      "    performer       : Dominik Lehman\r\n",
      "    album_artist    : Fundacja Nowoczesna Polska\r\n",
      "    publisher       : Fundacja Nowoczesna Polska\r\n",
      "    copyright       : 2020 Fundacja Nowoczesna Polska. Licensed to the public under http://artlibre.org/licence/lal/pl/ verify at https://wolnelektury.pl/katalog/lektura/20-000-mil-podmorskiej-zeglugi/\r\n",
      "    comment         : Audiobook nagrany w ramach projektu Biblioteka Narodowa finansowanego przez Priorytet 4 Udostępnienie publikacji w formatach cyfrowych w ramach Narodowego Programu Rozwoju Czytelnictwa.\r\n",
      "                    : \r\n",
      "                    : Przekaż 1% podatku na rozwój Wolnych Lektur:\r\n",
      "                    : Fundacja Nowoczesna Polska\r\n",
      "                    : KRS 0000070056\r\n",
      "                    : http://nowoczesnapolska.org.pl/wesprzyj_nas/\r\n",
      "                    : \r\n",
      "    id3v2_priv.wolnelektury.pl?funded_by: Priorytet 4\\xc2\\xa0Udost\\xc4\\x99pnienie publikacji w formatach cyfrowych\\xc2\\xa0w ramach Narodowego Programu Rozwoju Czytelnictwa\r\n",
      "    id3v2_priv.wolnelektury.pl?flac_sha1: 499e06f577e9aab2c8903eb99268c96440b28838\r\n",
      "    id3v2_priv.wolnelektury.pl?project: Biblioteka Narodowa\r\n",
      "  Duration: 00:23:31.68, start: 0.025057, bitrate: 64 kb/s\r\n",
      "    Stream #0:0: Audio: mp3, 44100 Hz, mono, fltp, 64 kb/s\r\n",
      "Stream mapping:\r\n",
      "  Stream #0:0 -> #0:0 (mp3 (mp3float) -> pcm_s16le (native))\r\n",
      "Press [q] to stop, [?] for help\r\n",
      "Output #0, wav, to '20-000-mil-podmorskiej-zeglugi_042_matwy.wav':\r\n",
      "  Metadata:\r\n",
      "    INAM            : 20 000 mil podmorskiej żeglugi (tłum. nieznany)\r\n",
      "    IART            : Mateusz Weber\r\n",
      "    IPRD            : Wolne Lektury\r\n",
      "    ICRD            : 2020\r\n",
      "    IGNR            : Speech\r\n",
      "    ILNG            : pol\r\n",
      "    id3v2_priv.wolnelektury.pl?project: Biblioteka Narodowa\r\n",
      "    performer       : Dominik Lehman\r\n",
      "    album_artist    : Fundacja Nowoczesna Polska\r\n",
      "    publisher       : Fundacja Nowoczesna Polska\r\n",
      "    ICOP            : 2020 Fundacja Nowoczesna Polska. Licensed to the public under http://artlibre.org/licence/lal/pl/ verify at https://wolnelektury.pl/katalog/lektura/20-000-mil-podmorskiej-zeglugi/\r\n",
      "    ICMT            : Audiobook nagrany w ramach projektu Biblioteka Narodowa finansowanego przez Priorytet 4 Udostępnienie publikacji w formatach cyfrowych w ramach Narodowego Programu Rozwoju Czytelnictwa.\r\n",
      "                    : \r\n",
      "                    : Przekaż 1% podatku na rozwój Wolnych Lektur:\r\n",
      "                    : Fundacja Nowoczesna Polska\r\n",
      "                    : KRS 0000070056\r\n",
      "                    : http://nowoczesnapolska.org.pl/wesprzyj_nas/\r\n",
      "                    : \r\n",
      "    id3v2_priv.wolnelektury.pl?funded_by: Priorytet 4\\xc2\\xa0Udost\\xc4\\x99pnienie publikacji w formatach cyfrowych\\xc2\\xa0w ramach Narodowego Programu Rozwoju Czytelnictwa\r\n",
      "    id3v2_priv.wolnelektury.pl?flac_sha1: 499e06f577e9aab2c8903eb99268c96440b28838\r\n",
      "    ISFT            : Lavf58.45.100\r\n",
      "    Stream #0:0: Audio: pcm_s16le ([1][0][0][0] / 0x0001), 16000 Hz, mono, s16, 256 kb/s\r\n",
      "    Metadata:\r\n",
      "      encoder         : Lavc58.91.100 pcm_s16le\r\n"
     ]
    },
    {
     "name": "stdout",
     "output_type": "stream",
     "text": [
      "size=   11520kB time=00:06:10.20 bitrate= 254.9kbits/s speed= 740x    \r"
     ]
    },
    {
     "name": "stdout",
     "output_type": "stream",
     "text": [
      "size=   23040kB time=00:12:24.17 bitrate= 253.6kbits/s speed= 744x    \r"
     ]
    },
    {
     "name": "stdout",
     "output_type": "stream",
     "text": [
      "size=   34816kB time=00:18:36.26 bitrate= 255.5kbits/s speed= 744x    \r"
     ]
    },
    {
     "name": "stdout",
     "output_type": "stream",
     "text": [
      "size=   44114kB time=00:23:31.64 bitrate= 256.0kbits/s speed= 747x    \r\n",
      "video:0kB audio:44114kB subtitle:0kB other streams:0kB global headers:0kB muxing overhead: 0.001647%\r\n"
     ]
    },
    {
     "name": "stdout",
     "output_type": "stream",
     "text": [
      "Loading model from file ../input/polish-deepspeech-models/output_graph_pl.pbmm\r\n",
      "TensorFlow: v2.3.0-6-g23ad988\r\n",
      "DeepSpeech: v0.9.3-0-gf2e9c85\r\n",
      "2021-05-07 15:07:10.024825: I tensorflow/core/platform/cpu_feature_guard.cc:142] This TensorFlow binary is optimized with oneAPI Deep Neural Network Library (oneDNN)to use the following CPU instructions in performance-critical operations:  AVX2 FMA\r\n",
      "To enable them in other operations, rebuild TensorFlow with the appropriate compiler flags.\r\n",
      "Loaded model in 0.0182s.\r\n",
      "Loading scorer from files ../input/polish-deepspeech-models/kenlm_pl.scorer\r\n"
     ]
    },
    {
     "name": "stdout",
     "output_type": "stream",
     "text": [
      "Loaded scorer in 0.00748s.\r\n",
      "Running inference.\r\n"
     ]
    },
    {
     "name": "stdout",
     "output_type": "stream",
     "text": [
      "Inference took 1734.395s for 1411.640s audio file.\r\n"
     ]
    },
    {
     "name": "stdout",
     "output_type": "stream",
     "text": [
      "ffmpeg version 4.3.1 Copyright (c) 2000-2020 the FFmpeg developers\r\n",
      "  built with gcc 9.3.0 (crosstool-NG 1.24.0.133_b0863d8_dirty)\r\n",
      "  configuration: --prefix=/opt/conda --cc=/home/conda/feedstock_root/build_artifacts/ffmpeg_1609680890771/_build_env/bin/x86_64-conda-linux-gnu-cc --disable-doc --disable-openssl --enable-avresample --enable-gnutls --enable-gpl --enable-hardcoded-tables --enable-libfreetype --enable-libopenh264 --enable-libx264 --enable-pic --enable-pthreads --enable-shared --enable-static --enable-version3 --enable-zlib --enable-libmp3lame --pkg-config=/home/conda/feedstock_root/build_artifacts/ffmpeg_1609680890771/_build_env/bin/pkg-config\r\n",
      "  libavutil      56. 51.100 / 56. 51.100\r\n",
      "  libavcodec     58. 91.100 / 58. 91.100\r\n",
      "  libavformat    58. 45.100 / 58. 45.100\r\n",
      "  libavdevice    58. 10.100 / 58. 10.100\r\n",
      "  libavfilter     7. 85.100 /  7. 85.100\r\n",
      "  libavresample   4.  0.  0 /  4.  0.  0\r\n",
      "  libswscale      5.  7.100 /  5.  7.100\r\n",
      "  libswresample   3.  7.100 /  3.  7.100\r\n",
      "  libpostproc    55.  7.100 / 55.  7.100\r\n",
      "\u001b[0;33mUnknown attached picture mimetype: ('image/png', None), skipping.\r\n",
      "\u001b[0m"
     ]
    },
    {
     "name": "stdout",
     "output_type": "stream",
     "text": [
      "Input #0, mp3, from '../input/wolne-lektury-deepspeech/20-000-mil-podmorskiej-zeglugi_043_golf-stream.mp3':\r\n",
      "  Metadata:\r\n",
      "    title           : 20 000 mil podmorskiej żeglugi (tłum. nieznany)\r\n",
      "    artist          : Mateusz Weber\r\n",
      "    album           : Wolne Lektury\r\n",
      "    date            : 2020\r\n",
      "    genre           : Speech\r\n",
      "    encoder         : Lavf58.20.100\r\n",
      "    performer       : Dominik Lehman\r\n",
      "    album_artist    : Fundacja Nowoczesna Polska\r\n",
      "    publisher       : Fundacja Nowoczesna Polska\r\n",
      "    copyright       : 2020 Fundacja Nowoczesna Polska. Licensed to the public under http://artlibre.org/licence/lal/pl/ verify at https://wolnelektury.pl/katalog/lektura/20-000-mil-podmorskiej-zeglugi/\r\n",
      "    comment         : Audiobook nagrany w ramach projektu Biblioteka Narodowa finansowanego przez Priorytet 4 Udostępnienie publikacji w formatach cyfrowych w ramach Narodowego Programu Rozwoju Czytelnictwa.\r\n",
      "                    : \r\n",
      "                    : Przekaż 1% podatku na rozwój Wolnych Lektur:\r\n",
      "                    : Fundacja Nowoczesna Polska\r\n",
      "                    : KRS 0000070056\r\n",
      "                    : http://nowoczesnapolska.org.pl/wesprzyj_nas/\r\n",
      "                    : \r\n",
      "    id3v2_priv.wolnelektury.pl?funded_by: Priorytet 4\\xc2\\xa0Udost\\xc4\\x99pnienie publikacji w formatach cyfrowych\\xc2\\xa0w ramach Narodowego Programu Rozwoju Czytelnictwa\r\n",
      "    id3v2_priv.wolnelektury.pl?flac_sha1: 6fc6375758a9750ad9bafae71d2283caaf357629\r\n",
      "    id3v2_priv.wolnelektury.pl?project: Biblioteka Narodowa\r\n",
      "  Duration: 00:26:27.59, start: 0.025057, bitrate: 64 kb/s\r\n",
      "    Stream #0:0: Audio: mp3, 44100 Hz, mono, fltp, 64 kb/s\r\n",
      "Stream mapping:\r\n",
      "  Stream #0:0 -> #0:0 (mp3 (mp3float) -> pcm_s16le (native))\r\n",
      "Press [q] to stop, [?] for help\r\n",
      "Output #0, wav, to '20-000-mil-podmorskiej-zeglugi_043_golf-stream.wav':\r\n",
      "  Metadata:\r\n",
      "    INAM            : 20 000 mil podmorskiej żeglugi (tłum. nieznany)\r\n",
      "    IART            : Mateusz Weber\r\n",
      "    IPRD            : Wolne Lektury\r\n",
      "    ICRD            : 2020\r\n",
      "    IGNR            : Speech\r\n",
      "    ILNG            : pol\r\n",
      "    id3v2_priv.wolnelektury.pl?project: Biblioteka Narodowa\r\n",
      "    performer       : Dominik Lehman\r\n",
      "    album_artist    : Fundacja Nowoczesna Polska\r\n",
      "    publisher       : Fundacja Nowoczesna Polska\r\n",
      "    ICOP            : 2020 Fundacja Nowoczesna Polska. Licensed to the public under http://artlibre.org/licence/lal/pl/ verify at https://wolnelektury.pl/katalog/lektura/20-000-mil-podmorskiej-zeglugi/\r\n",
      "    ICMT            : Audiobook nagrany w ramach projektu Biblioteka Narodowa finansowanego przez Priorytet 4 Udostępnienie publikacji w formatach cyfrowych w ramach Narodowego Programu Rozwoju Czytelnictwa.\r\n",
      "                    : \r\n",
      "                    : Przekaż 1% podatku na rozwój Wolnych Lektur:\r\n",
      "                    : Fundacja Nowoczesna Polska\r\n",
      "                    : KRS 0000070056\r\n",
      "                    : http://nowoczesnapolska.org.pl/wesprzyj_nas/\r\n",
      "                    : \r\n",
      "    id3v2_priv.wolnelektury.pl?funded_by: Priorytet 4\\xc2\\xa0Udost\\xc4\\x99pnienie publikacji w formatach cyfrowych\\xc2\\xa0w ramach Narodowego Programu Rozwoju Czytelnictwa\r\n",
      "    id3v2_priv.wolnelektury.pl?flac_sha1: 6fc6375758a9750ad9bafae71d2283caaf357629\r\n",
      "    ISFT            : Lavf58.45.100\r\n",
      "    Stream #0:0: Audio: pcm_s16le ([1][0][0][0] / 0x0001), 16000 Hz, mono, s16, 256 kb/s\r\n",
      "    Metadata:\r\n",
      "      encoder         : Lavc58.91.100 pcm_s16le\r\n"
     ]
    },
    {
     "name": "stdout",
     "output_type": "stream",
     "text": [
      "size=   11520kB time=00:06:08.71 bitrate= 255.9kbits/s speed= 737x    \r"
     ]
    },
    {
     "name": "stdout",
     "output_type": "stream",
     "text": [
      "size=   23296kB time=00:12:31.88 bitrate= 253.8kbits/s speed= 752x    \r"
     ]
    },
    {
     "name": "stdout",
     "output_type": "stream",
     "text": [
      "size=   35328kB time=00:18:55.90 bitrate= 254.8kbits/s speed= 757x    \r"
     ]
    },
    {
     "name": "stdout",
     "output_type": "stream",
     "text": [
      "size=   47360kB time=00:25:18.08 bitrate= 255.6kbits/s speed= 759x    \r"
     ]
    },
    {
     "name": "stdout",
     "output_type": "stream",
     "text": [
      "size=   49612kB time=00:26:27.55 bitrate= 256.0kbits/s speed= 759x    \r\n",
      "video:0kB audio:49611kB subtitle:0kB other streams:0kB global headers:0kB muxing overhead: 0.001465%\r\n"
     ]
    },
    {
     "name": "stdout",
     "output_type": "stream",
     "text": [
      "Loading model from file ../input/polish-deepspeech-models/output_graph_pl.pbmm\r\n",
      "TensorFlow: v2.3.0-6-g23ad988\r\n",
      "DeepSpeech: v0.9.3-0-gf2e9c85\r\n",
      "2021-05-07 15:36:06.956035: I tensorflow/core/platform/cpu_feature_guard.cc:142] This TensorFlow binary is optimized with oneAPI Deep Neural Network Library (oneDNN)to use the following CPU instructions in performance-critical operations:  AVX2 FMA\r\n",
      "To enable them in other operations, rebuild TensorFlow with the appropriate compiler flags.\r\n",
      "Loaded model in 0.0181s.\r\n",
      "Loading scorer from files ../input/polish-deepspeech-models/kenlm_pl.scorer\r\n",
      "Loaded scorer in 0.00805s.\r\n"
     ]
    },
    {
     "name": "stdout",
     "output_type": "stream",
     "text": [
      "Running inference.\r\n"
     ]
    },
    {
     "name": "stdout",
     "output_type": "stream",
     "text": [
      "Inference took 2164.935s for 1587.558s audio file.\r\n"
     ]
    }
   ],
   "source": [
    "!for i in $(ls ../input/wolne-lektury-deepspeech/*.mp3|grep -v zeglugi_026_nowa-propozycja-kapitana); do base=$(basename \"$i\" \".mp3\"); out=\"$base.wav\"; ffmpeg -i $i  -acodec pcm_s16le -ac 1 -ar 16000 $out; deepspeech --model ../input/polish-deepspeech-models/output_graph_pl.pbmm --scorer ../input/polish-deepspeech-models/kenlm_pl.scorer --json --audio $out > $base.json; rm $out $j; done"
   ]
  }
 ],
 "metadata": {
  "kernelspec": {
   "display_name": "Python 3",
   "language": "python",
   "name": "python3"
  },
  "language_info": {
   "codemirror_mode": {
    "name": "ipython",
    "version": 3
   },
   "file_extension": ".py",
   "mimetype": "text/x-python",
   "name": "python",
   "nbconvert_exporter": "python",
   "pygments_lexer": "ipython3",
   "version": "3.6.4"
  },
  "papermill": {
   "default_parameters": {},
   "duration": null,
   "end_time": null,
   "environment_variables": {},
   "exception": null,
   "input_path": "__notebook__.ipynb",
   "output_path": "__notebook__.ipynb",
   "parameters": {},
   "start_time": "2021-05-07T07:32:49.090316",
   "version": "2.3.2"
  }
 },
 "nbformat": 4,
 "nbformat_minor": 5
}