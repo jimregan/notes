{
  "nbformat": 4,
  "nbformat_minor": 5,
  "metadata": {
    "kernelspec": {
      "display_name": "Python 3",
      "language": "python",
      "name": "python3"
    },
    "language_info": {
      "codemirror_mode": {
        "name": "ipython",
        "version": 3
      },
      "file_extension": ".py",
      "mimetype": "text/x-python",
      "name": "python",
      "nbconvert_exporter": "python",
      "pygments_lexer": "ipython3",
      "version": "3.8.2"
    },
    "papermill": {
      "default_parameters": {},
      "duration": null,
      "end_time": null,
      "environment_variables": {},
      "exception": null,
      "input_path": "__notebook__.ipynb",
      "output_path": "__notebook__.ipynb",
      "parameters": {},
      "start_time": "2021-05-07T07:32:49.090316",
      "version": "2.3.2"
    },
    "colab": {
      "name": "2021-05-07-notebookc998a3fd60.ipynb",
      "provenance": []
    }
  },
  "cells": [
    {
      "cell_type": "markdown",
      "metadata": {
        "id": "8TdaswL_BuP3"
      },
      "source": [
        "# Run deepspeech Wolne Lektury audio\n",
        "\n",
        "> \"Partial run, Kaggle mirror\"\n",
        "\n",
        "- toc: false\n",
        "- branch: master\n",
        "- hidden: true\n",
        "- categories: [asr, polish, kaggle]"
      ],
      "id": "8TdaswL_BuP3"
    },
    {
      "cell_type": "markdown",
      "metadata": {
        "id": "c_EwZV48CQKX"
      },
      "source": [
        "Original on [Kaggle](https://www.kaggle.com/jimregan/notebookc998a3fd60)"
      ],
      "id": "c_EwZV48CQKX"
    },
    {
      "cell_type": "code",
      "metadata": {
        "_cell_guid": "b1076dfc-b9ad-4769-8c92-a6c4dae69d19",
        "_uuid": "8f2839f25d086af736a60e9eeb907d3b93b6e0e5",
        "execution": {
          "iopub.execute_input": "2021-05-07T07:32:55.805711Z",
          "iopub.status.busy": "2021-05-07T07:32:55.805082Z",
          "iopub.status.idle": "2021-05-07T07:32:56.906578Z",
          "shell.execute_reply": "2021-05-07T07:32:56.905819Z"
        },
        "papermill": {
          "duration": 1.11203,
          "end_time": "2021-05-07T07:32:56.906791",
          "exception": false,
          "start_time": "2021-05-07T07:32:55.794761",
          "status": "completed"
        },
        "tags": [],
        "id": "noted-article"
      },
      "source": [
        "!cp ../input/wolne-lektury-deepspeech/*.json ."
      ],
      "id": "noted-article",
      "execution_count": null,
      "outputs": []
    },
    {
      "cell_type": "code",
      "metadata": {
        "execution": {
          "iopub.execute_input": "2021-05-07T07:32:56.924172Z",
          "iopub.status.busy": "2021-05-07T07:32:56.923003Z",
          "iopub.status.idle": "2021-05-07T07:33:11.864584Z",
          "shell.execute_reply": "2021-05-07T07:33:11.863879Z"
        },
        "papermill": {
          "duration": 14.953169,
          "end_time": "2021-05-07T07:33:11.864729",
          "exception": false,
          "start_time": "2021-05-07T07:32:56.911560",
          "status": "completed"
        },
        "tags": [],
        "id": "valid-albuquerque"
      },
      "source": [
        "!pip install deepspeech"
      ],
      "id": "valid-albuquerque",
      "execution_count": null,
      "outputs": []
    },
    {
      "cell_type": "code",
      "metadata": {
        "execution": {
          "iopub.execute_input": "2021-05-07T07:33:11.923002Z",
          "iopub.status.busy": "2021-05-07T07:33:11.921949Z",
          "iopub.status.idle": "2021-05-07T07:33:11.926642Z",
          "shell.execute_reply": "2021-05-07T07:33:11.925991Z"
        },
        "papermill": {
          "duration": 0.036292,
          "end_time": "2021-05-07T07:33:11.926865",
          "exception": false,
          "start_time": "2021-05-07T07:33:11.890573",
          "status": "completed"
        },
        "tags": [],
        "id": "italian-archive"
      },
      "source": [
        "deepspeech --model ../input/polish-deepspeech-models/output_graph_pl.pbmm --scorer ../input/polish-deepspeech-models/kenlm_pl.scorer --json --audio ../input/wolne-lektury-deepspeech/20-000-mil-podmorskiej-zeglugi_026_nowa-propozycja-kapitana-nemo.wav > 20-000-mil-podmorskiej-zeglugi_026_nowa-propozycja-kapitana-nemo.json; rm $out $j; done;done"
      ],
      "id": "italian-archive",
      "execution_count": null,
      "outputs": []
    },
    {
      "cell_type": "code",
      "metadata": {
        "execution": {
          "iopub.execute_input": "2021-05-07T07:33:11.984582Z",
          "iopub.status.busy": "2021-05-07T07:33:11.983876Z"
        },
        "papermill": {
          "duration": null,
          "end_time": null,
          "exception": false,
          "start_time": "2021-05-07T07:33:11.952107",
          "status": "running"
        },
        "tags": [],
        "id": "turned-shareware"
      },
      "source": [
        "!for i in $(ls ../input/wolne-lektury-deepspeech/*.mp3|grep -v zeglugi_026_nowa-propozycja-kapitana); do base=$(basename \"$i\" \".mp3\"); out=\"$base.wav\"; ffmpeg -i $i  -acodec pcm_s16le -ac 1 -ar 16000 $out; deepspeech --model ../input/polish-deepspeech-models/output_graph_pl.pbmm --scorer ../input/polish-deepspeech-models/kenlm_pl.scorer --json --audio $out > $base.json; rm $out $j; done"
      ],
      "id": "turned-shareware",
      "execution_count": null,
      "outputs": []
    }
  ]
}