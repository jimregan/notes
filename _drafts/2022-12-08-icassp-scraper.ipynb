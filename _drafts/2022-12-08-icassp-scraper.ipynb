{
 "cells": [
  {
   "cell_type": "markdown",
   "metadata": {},
   "source": [
    "# Scraper for ICASSP from IEEE\n",
    "\n",
    "> \"From a pre-extracted page, content seems to be fetched separately\"\n",
    "\n",
    "- hidden: true\n",
    "- toc: false\n",
    "- badges: true\n",
    "- categories: [scraper, icassp]"
   ]
  },
  {
   "cell_type": "code",
   "execution_count": 2,
   "metadata": {},
   "outputs": [],
   "source": [
    "from bs4 import BeautifulSoup"
   ]
  },
  {
   "cell_type": "markdown",
   "metadata": {},
   "source": [
    "The temporary file below is extracted from [IEEE](https://ieeexplore.ieee.org/xpl/conhome/1000002/all-proceedings)"
   ]
  },
  {
   "cell_type": "code",
   "execution_count": 20,
   "metadata": {},
   "outputs": [],
   "source": [
    "with open(\"/tmp/icassp\") as inf:\n",
    "    html = inf.read()"
   ]
  },
  {
   "cell_type": "code",
   "execution_count": 21,
   "metadata": {},
   "outputs": [],
   "source": [
    "soup = BeautifulSoup(html, 'html.parser')"
   ]
  },
  {
   "cell_type": "code",
   "execution_count": 22,
   "metadata": {},
   "outputs": [],
   "source": [
    "top = soup.find(\"div\", {\"class\": \"issue-list-container\"})"
   ]
  },
  {
   "cell_type": "code",
   "execution_count": 23,
   "metadata": {},
   "outputs": [],
   "source": [
    "import re"
   ]
  },
  {
   "cell_type": "code",
   "execution_count": 59,
   "metadata": {},
   "outputs": [],
   "source": [
    "data = []\n",
    "for li in top.find_all(\"li\", {\"_ngcontent-ftl-c305\": \"\"}):\n",
    "    raw = li.text.strip()\n",
    "    a_tag = li.find(\"a\")\n",
    "    href = a_tag.attrs[\"href\"]\n",
    "    title = a_tag.text.strip()\n",
    "    m1 = re.search(\"^ICASSP (20\\d\\d).*\", raw)\n",
    "    m2 = re.search(\".*((?:20|19)\\d\\d) (?:IEEE )?International.*\", raw)\n",
    "    m3 = re.search(\".*ICASSP '(\\d\\d).*\", raw)\n",
    "    if m1:\n",
    "        year = m1.group(1)\n",
    "    elif m2:\n",
    "        year = m2.group(1)\n",
    "    elif m3:\n",
    "        year = m3.group(1)\n",
    "        # Why yes, in this, the Year of Our Lord, 2022,\n",
    "        # writing this scraper has meant having to do\n",
    "        # Y2K compensation\n",
    "        if year.startswith(\"0\"):\n",
    "            year = \"20\" + year\n",
    "        else:\n",
    "            year = \"19\" + year\n",
    "    elif raw == \"International Conference on Acoustics, Speech, and Signal Processing\":\n",
    "        year = \"1990\"\n",
    "    elif raw == \"International Conference on Acoustics, Speech, and Signal Processing,\":\n",
    "        year == \"1989\"\n",
    "    elif raw.startswith(\"ICASSP-88.,\"):\n",
    "        year = \"1988\"\n",
    "    loc_tag = li.find(\"span\", {\"_ngcontent-ftl-c305\": \"\"})\n",
    "    if loc_tag:\n",
    "        loc = loc_tag.text.strip().replace(\"Location: \", \"\")\n",
    "    data.append([href, title, year, loc])"
   ]
  },
  {
   "cell_type": "code",
   "execution_count": 60,
   "metadata": {},
   "outputs": [],
   "source": [
    "count = 1\n",
    "data.reverse()\n",
    "for item in data:\n",
    "    item.append(str(count))\n",
    "    count += 1\n",
    "data.reverse()"
   ]
  },
  {
   "cell_type": "code",
   "execution_count": 62,
   "metadata": {},
   "outputs": [],
   "source": [
    "template = \"https://ieeexplore.ieee.org/rest/publication/home/metadata?pubid=\""
   ]
  },
  {
   "cell_type": "code",
   "execution_count": 63,
   "metadata": {},
   "outputs": [],
   "source": [
    "import requests"
   ]
  },
  {
   "cell_type": "code",
   "execution_count": 64,
   "metadata": {},
   "outputs": [],
   "source": [
    "raw_json = requests.get(template + \"9413349\")\n"
   ]
  },
  {
   "cell_type": "code",
   "execution_count": 66,
   "metadata": {},
   "outputs": [
    {
     "data": {
      "text/plain": [
       "'<HTML><HEAD><TITLE>Error</TITLE></HEAD><BODY>\\nAn error occurred while processing your request.<p>\\nReference&#32;&#35;30&#46;64aa2617&#46;1670514466&#46;8894ff4\\n</BODY></HTML>\\n'"
      ]
     },
     "execution_count": 66,
     "metadata": {},
     "output_type": "execute_result"
    }
   ],
   "source": [
    "raw_json.text"
   ]
  },
  {
   "cell_type": "markdown",
   "metadata": {},
   "source": [
    "Bah. Ok, API is a waste of time: limit is too low, registering for a key is a bit annoying for a one-time operation."
   ]
  },
  {
   "cell_type": "code",
   "execution_count": 67,
   "metadata": {},
   "outputs": [],
   "source": [
    "DOIs = \"\"\"\n",
    "10.1109/ICASSP43922.2022\n",
    "10.1109/ICASSP39728.2021\n",
    "DOI: 10.1109/ICASSP40776.2020\n",
    "DOI: 10.1109/ICASSP35589.2019\n",
    "DOI: 10.1109/ICASSP34228.2018\n",
    "DOI: 10.1109/ICASSP31846.2017\n",
    "\n",
    "DOI: 10.1109/ICASSP17257.2015\n",
    "DOI: 10.1109/ICASSP18874.2014\n",
    "DOI: 10.1109/ICASSP16080.2013\n",
    "DOI: 10.1109/ICASSP15465.2012\n",
    "DOI: 10.1109/ICASSP15948.2011\n",
    "DOI: 10.1109/ICASSP15600.2010\n",
    "DOI: 10.1109/ICASSP13629.2009\n",
    "DOI: 10.1109/ICASSP12235.2008\n",
    "DOI: 10.1109/ICASSP10710.2007\n",
    "DOI: 10.1109/ICASSP10488.2006\n",
    "DOI: 10.1109/ICASSP8829.2005\n",
    "DOI: 10.1109/ICASSP.2004\n",
    "DOI: 10.1109/ICASSP.2003\n",
    "DOI: 10.1109/ICASSP.2002\n",
    "DOI: 10.1109/ICASSP.2001\n",
    "DOI: 10.1109/ICASSP.2000\n",
    "DOI: 10.1109/ICASSP.1999\n",
    "DOI: 10.1109/ICASSP.1998\n",
    "DOI: 10.1109/ICASSP.1997\n",
    "DOI: 10.1109/ICASSP.1996\n",
    "DOI: 10.1109/ICASSP.1995\n",
    "DOI: 10.1109/ICASSP.1994\n",
    "DOI: 10.1109/ICASSP.1993\n",
    "DOI: 10.1109/ICASSP.1992\n",
    "DOI: 10.1109/ICASSP.1991\n",
    "DOI: 10.1109/ICASSP.1990\n",
    "DOI: 10.1109/ICASSP.1989\n",
    "DOI: 10.1109/ICASSP.1988\n",
    "DOI: 10.1109/ICASSP.1987\n",
    "DOI: 10.1109/ICASSP.1986\n",
    "DOI: 10.1109/ICASSP.1985\n",
    "DOI: 10.1109/ICASSP.1984\n",
    "DOI: 10.1109/ICASSP.1983\n",
    "DOI: 10.1109/ICASSP.1982\n",
    "DOI: 10.1109/ICASSP.1981\n",
    "DOI: 10.1109/ICASSP.1980\n",
    "DOI: 10.1109/ICASSP.1979\n",
    "DOI: 10.1109/ICASSP.1978\n",
    "DOI: 10.1109/ICASSP.1977\n",
    "DOI: 10.1109/ICASSP.1976\n",
    "\"\"\""
   ]
  },
  {
   "cell_type": "code",
   "execution_count": 68,
   "metadata": {},
   "outputs": [],
   "source": [
    "doi_dict = {}\n",
    "for line in DOIs.replace(\"DOI: \", \"\").split(\"\\n\"):\n",
    "    if line == \"\":\n",
    "        continue\n",
    "    parts = line.split(\".\")\n",
    "    doi_dict[parts[-1]] = line"
   ]
  },
  {
   "cell_type": "code",
   "execution_count": 71,
   "metadata": {},
   "outputs": [],
   "source": [
    "output = []\n",
    "output.append(\"| Year | Ordinal | DOI | Issue | Location |\")\n",
    "output.append(\"|------|---------|-----|-------|----------|\")\n",
    "for item in data:\n",
    "    #[href, title, year, loc, ord]\n",
    "    if item[2] == \"2016\":\n",
    "        doi = \"\"\n",
    "    else:\n",
    "        doi = doi_dict[item[2]]\n",
    "    output.append(f\"| {item[2]} | {item[4]} | {doi} | [{item[1]}](https://ieeexplore.ieee.org/{item[0]}) | {item[3]} |\")\n"
   ]
  },
  {
   "cell_type": "code",
   "execution_count": 73,
   "metadata": {},
   "outputs": [],
   "source": [
    "from IPython.display import display, Markdown"
   ]
  },
  {
   "cell_type": "code",
   "execution_count": 74,
   "metadata": {},
   "outputs": [
    {
     "data": {
      "text/markdown": [
       "| Year | Ordinal | DOI | Issue | Location |\n",
       "|------|---------|-----|-------|----------|\n",
       "| 2022 | 47 | 10.1109/ICASSP43922.2022 | [ICASSP 2022 - 2022 IEEE International Conference on Acoustics, Speech and Signal Processing (ICASSP)](https://ieeexplore.ieee.org//xpl/conhome/9745891/proceeding) | Singapore, Singapore |\n",
       "| 2021 | 46 | 10.1109/ICASSP39728.2021 | [ICASSP 2021 - 2021 IEEE International Conference on Acoustics, Speech and Signal Processing (ICASSP)](https://ieeexplore.ieee.org//xpl/conhome/9413349/proceeding) | Toronto, ON, Canada |\n",
       "| 2020 | 45 | 10.1109/ICASSP40776.2020 | [ICASSP 2020 - 2020 IEEE International Conference on Acoustics, Speech and Signal Processing (ICASSP)](https://ieeexplore.ieee.org//xpl/conhome/9040208/proceeding) | Barcelona, Spain |\n",
       "| 2019 | 44 | 10.1109/ICASSP35589.2019 | [ICASSP 2019 - 2019 IEEE International Conference on Acoustics, Speech and Signal Processing (ICASSP)](https://ieeexplore.ieee.org//xpl/conhome/8671773/proceeding) | Brighton, UK |\n",
       "| 2018 | 43 | 10.1109/ICASSP34228.2018 | [2018 IEEE International Conference on Acoustics, Speech and Signal Processing (ICASSP)](https://ieeexplore.ieee.org//xpl/conhome/8450881/proceeding) | Calgary, AB, Canada |\n",
       "| 2017 | 42 | 10.1109/ICASSP31846.2017 | [2017 IEEE International Conference on Acoustics, Speech and Signal Processing (ICASSP)](https://ieeexplore.ieee.org//xpl/conhome/7943262/proceeding) | New Orleans, LA, USA |\n",
       "| 2016 | 41 |  | [2016 IEEE International Conference on Acoustics, Speech and Signal Processing (ICASSP)](https://ieeexplore.ieee.org//xpl/conhome/7465907/proceeding) | Shanghai, China |\n",
       "| 2015 | 40 | 10.1109/ICASSP17257.2015 | [2015 IEEE International Conference on Acoustics, Speech and Signal Processing (ICASSP)](https://ieeexplore.ieee.org//xpl/conhome/7158221/proceeding) | South Brisbane, QLD, Australia |\n",
       "| 2014 | 39 | 10.1109/ICASSP18874.2014 | [2014 IEEE International Conference on Acoustics, Speech and Signal Processing (ICASSP)](https://ieeexplore.ieee.org//xpl/conhome/6844297/proceeding) | Florence, Italy |\n",
       "| 2013 | 38 | 10.1109/ICASSP16080.2013 | [2013 IEEE International Conference on Acoustics, Speech and Signal Processing](https://ieeexplore.ieee.org//xpl/conhome/6619549/proceeding) | Vancouver, BC, Canada |\n",
       "| 2012 | 37 | 10.1109/ICASSP15465.2012 | [2012 IEEE International Conference on Acoustics, Speech and Signal Processing (ICASSP)](https://ieeexplore.ieee.org//xpl/conhome/6268628/proceeding) | Kyoto, Japan |\n",
       "| 2011 | 36 | 10.1109/ICASSP15948.2011 | [2011 IEEE International Conference on Acoustics, Speech and Signal Processing (ICASSP)](https://ieeexplore.ieee.org//xpl/conhome/5916934/proceeding) | Prague, Czech Republic |\n",
       "| 2010 | 35 | 10.1109/ICASSP15600.2010 | [2010 IEEE International Conference on Acoustics, Speech and Signal Processing](https://ieeexplore.ieee.org//xpl/conhome/5487364/proceeding) | Dallas, TX, USA |\n",
       "| 2009 | 34 | 10.1109/ICASSP13629.2009 | [2009 IEEE International Conference on Acoustics, Speech and Signal Processing](https://ieeexplore.ieee.org//xpl/conhome/4912736/proceeding) | Taipei, Taiwan |\n",
       "| 2008 | 33 | 10.1109/ICASSP12235.2008 | [2008 IEEE International Conference on Acoustics, Speech and Signal Processing](https://ieeexplore.ieee.org//xpl/conhome/4505270/proceeding) | Las Vegas, NV, USA |\n",
       "| 2007 | 32 | 10.1109/ICASSP10710.2007 | [2007 IEEE International Conference on Acoustics, Speech and Signal Processing - ICASSP '07](https://ieeexplore.ieee.org//xpl/conhome/4216989/proceeding) | Honolulu, HI, USA |\n",
       "| 2006 | 31 | 10.1109/ICASSP10488.2006 | [2006 IEEE International Conference on Acoustics Speech and Signal Processing Proceedings](https://ieeexplore.ieee.org//xpl/conhome/11024/proceeding) | Toulouse, France |\n",
       "| 2005 | 30 | 10.1109/ICASSP8829.2005 | [Proceedings. (ICASSP '05). IEEE International Conference on Acoustics, Speech, and Signal Processing, 2005.](https://ieeexplore.ieee.org//xpl/conhome/9711/proceeding) | Philadelphia, PA, USA |\n",
       "| 2004 | 29 | 10.1109/ICASSP.2004 | [2004 IEEE International Conference on Acoustics, Speech, and Signal Processing](https://ieeexplore.ieee.org//xpl/conhome/9248/proceeding) | Montreal, QC, Canada |\n",
       "| 2003 | 28 | 10.1109/ICASSP.2003 | [2003 IEEE International Conference on Acoustics, Speech, and Signal Processing, 2003. Proceedings. (ICASSP '03).](https://ieeexplore.ieee.org//xpl/conhome/8535/proceeding) | Hong Kong, China |\n",
       "| 2002 | 27 | 10.1109/ICASSP.2002 | [2002 IEEE International Conference on Acoustics, Speech, and Signal Processing](https://ieeexplore.ieee.org//xpl/conhome/7874/proceeding) | Orlando, FL, USA |\n",
       "| 2001 | 26 | 10.1109/ICASSP.2001 | [2001 IEEE International Conference on Acoustics, Speech, and Signal Processing. Proceedings (Cat. No.01CH37221)](https://ieeexplore.ieee.org//xpl/conhome/7486/proceeding) | Salt Lake City, UT, USA |\n",
       "| 2000 | 25 | 10.1109/ICASSP.2000 | [2000 IEEE International Conference on Acoustics, Speech, and Signal Processing. Proceedings (Cat. No.00CH37100)](https://ieeexplore.ieee.org//xpl/conhome/6939/proceeding) | Istanbul, Turkey |\n",
       "| 1999 | 24 | 10.1109/ICASSP.1999 | [1999 IEEE International Conference on Acoustics, Speech, and Signal Processing. Proceedings. ICASSP99 (Cat. No.99CH36258)](https://ieeexplore.ieee.org//xpl/conhome/6110/proceeding) | Phoenix, AZ, USA |\n",
       "| 1998 | 23 | 10.1109/ICASSP.1998 | [Proceedings of the 1998 IEEE International Conference on Acoustics, Speech and Signal Processing, ICASSP '98 (Cat. No.98CH36181)](https://ieeexplore.ieee.org//xpl/conhome/5518/proceeding) | Seattle, WA, USA |\n",
       "| 1997 | 22 | 10.1109/ICASSP.1997 | [1997 IEEE International Conference on Acoustics, Speech, and Signal Processing](https://ieeexplore.ieee.org//xpl/conhome/4635/proceeding) | Munich, Germany |\n",
       "| 1996 | 21 | 10.1109/ICASSP.1996 | [1996 IEEE International Conference on Acoustics, Speech, and Signal Processing Conference Proceedings](https://ieeexplore.ieee.org//xpl/conhome/3856/proceeding) | Atlanta, GA, USA |\n",
       "| 1995 | 20 | 10.1109/ICASSP.1995 | [1995 International Conference on Acoustics, Speech, and Signal Processing](https://ieeexplore.ieee.org//xpl/conhome/3469/proceeding) | Detroit, MI, USA |\n",
       "| 1994 | 19 | 10.1109/ICASSP.1994 | [Proceedings of ICASSP '94. IEEE International Conference on Acoustics, Speech and Signal Processing](https://ieeexplore.ieee.org//xpl/conhome/3104/proceeding) | Adelaide, SA, Australia |\n",
       "| 1993 | 18 | 10.1109/ICASSP.1993 | [1993 IEEE International Conference on Acoustics, Speech, and Signal Processing](https://ieeexplore.ieee.org//xpl/conhome/1051/proceeding) | Minneapolis, MN, USA |\n",
       "| 1992 | 17 | 10.1109/ICASSP.1992 | [[Proceedings] ICASSP-92: 1992 IEEE International Conference on Acoustics, Speech, and Signal Processing](https://ieeexplore.ieee.org//xpl/conhome/626/proceeding) | San Francisco, CA, USA |\n",
       "| 1991 | 16 | 10.1109/ICASSP.1991 | [[Proceedings] ICASSP 91: 1991 International Conference on Acoustics, Speech, and Signal Processing](https://ieeexplore.ieee.org//xpl/conhome/540/proceeding) | Toronto, ON, Canada |\n",
       "| 1991 | 15 | 10.1109/ICASSP.1991 | [International Conference on Acoustics, Speech, and Signal Processing](https://ieeexplore.ieee.org//xpl/conhome/132/proceeding) | Albuquerque, NM, USA |\n",
       "| 1991 | 14 | 10.1109/ICASSP.1991 | [International Conference on Acoustics, Speech, and Signal Processing,](https://ieeexplore.ieee.org//xpl/conhome/805/proceeding) | Glasgow, UK |\n",
       "| 1988 | 13 | 10.1109/ICASSP.1988 | [ICASSP-88., International Conference on Acoustics, Speech, and Signal Processing](https://ieeexplore.ieee.org//xpl/conhome/723/proceeding) | New York, NY, USA |\n",
       "| 1987 | 12 | 10.1109/ICASSP.1987 | [ICASSP '87. IEEE International Conference on Acoustics, Speech, and Signal Processing](https://ieeexplore.ieee.org//xpl/conhome/8363/proceeding) | Dallas, TX, USA |\n",
       "| 1986 | 11 | 10.1109/ICASSP.1986 | [ICASSP '86. IEEE International Conference on Acoustics, Speech, and Signal Processing](https://ieeexplore.ieee.org//xpl/conhome/8362/proceeding) | Tokyo, Japan |\n",
       "| 1985 | 10 | 10.1109/ICASSP.1985 | [ICASSP '85. IEEE International Conference on Acoustics, Speech, and Signal Processing](https://ieeexplore.ieee.org//xpl/conhome/8361/proceeding) | Tampa, FL, USA |\n",
       "| 1984 | 9 | 10.1109/ICASSP.1984 | [ICASSP '84. IEEE International Conference on Acoustics, Speech, and Signal Processing](https://ieeexplore.ieee.org//xpl/conhome/8372/proceeding) | San Diego, CA, USA |\n",
       "| 1983 | 8 | 10.1109/ICASSP.1983 | [ICASSP '83. IEEE International Conference on Acoustics, Speech, and Signal Processing](https://ieeexplore.ieee.org//xpl/conhome/8371/proceeding) | Boston, MA, USA |\n",
       "| 1982 | 7 | 10.1109/ICASSP.1982 | [ICASSP '82. IEEE International Conference on Acoustics, Speech, and Signal Processing](https://ieeexplore.ieee.org//xpl/conhome/8370/proceeding) | Paris, France |\n",
       "| 1981 | 6 | 10.1109/ICASSP.1981 | [ICASSP '81. IEEE International Conference on Acoustics, Speech, and Signal Processing](https://ieeexplore.ieee.org//xpl/conhome/8369/proceeding) | Atlanta, GA,USA |\n",
       "| 1980 | 5 | 10.1109/ICASSP.1980 | [ICASSP '80. IEEE International Conference on Acoustics, Speech, and Signal Processing](https://ieeexplore.ieee.org//xpl/conhome/8368/proceeding) | Denver, CO, USA |\n",
       "| 1979 | 4 | 10.1109/ICASSP.1979 | [ICASSP '79. IEEE International Conference on Acoustics, Speech, and Signal Processing](https://ieeexplore.ieee.org//xpl/conhome/8367/proceeding) | Washington, DC, USA |\n",
       "| 1978 | 3 | 10.1109/ICASSP.1978 | [ICASSP '78. IEEE International Conference on Acoustics, Speech, and Signal Processing](https://ieeexplore.ieee.org//xpl/conhome/8366/proceeding) | Tulsa, OK, USA |\n",
       "| 1977 | 2 | 10.1109/ICASSP.1977 | [ICASSP '77. IEEE International Conference on Acoustics, Speech, and Signal Processing](https://ieeexplore.ieee.org//xpl/conhome/8365/proceeding) | Hartford, CT, USA |\n",
       "| 1976 | 1 | 10.1109/ICASSP.1976 | [ICASSP '76. IEEE International Conference on Acoustics, Speech, and Signal Processing](https://ieeexplore.ieee.org//xpl/conhome/8364/proceeding) | Philadelphia, PA, USA |"
      ],
      "text/plain": [
       "<IPython.core.display.Markdown object>"
      ]
     },
     "metadata": {},
     "output_type": "display_data"
    }
   ],
   "source": [
    "display(Markdown(\"\\n\".join(output)))"
   ]
  }
 ],
 "metadata": {
  "kernelspec": {
   "display_name": "Python 3.10.4 ('ctcseg')",
   "language": "python",
   "name": "python3"
  },
  "language_info": {
   "codemirror_mode": {
    "name": "ipython",
    "version": 3
   },
   "file_extension": ".py",
   "mimetype": "text/x-python",
   "name": "python",
   "nbconvert_exporter": "python",
   "pygments_lexer": "ipython3",
   "version": "3.10.4"
  },
  "orig_nbformat": 4,
  "vscode": {
   "interpreter": {
    "hash": "04f1aebeda7ca92f6170d2806fa3f3c0cbb14da723fd908a9af630117dfe1004"
   }
  }
 },
 "nbformat": 4,
 "nbformat_minor": 2
}
