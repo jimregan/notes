{
 "cells": [
  {
   "cell_type": "markdown",
   "metadata": {},
   "source": [
    "# Scraper for ICASSP from IEEE\n",
    "\n",
    "> \"From a pre-extracted page, content seems to be fetched separately\"\n",
    "\n",
    "- hidden: true\n",
    "- toc: false\n",
    "- badges: true\n",
    "- categories: [scraper, icassp]"
   ]
  },
  {
   "cell_type": "code",
   "execution_count": 2,
   "metadata": {},
   "outputs": [],
   "source": [
    "from bs4 import BeautifulSoup"
   ]
  },
  {
   "cell_type": "markdown",
   "metadata": {},
   "source": [
    "The temporary file below is extracted from [IEEE](https://ieeexplore.ieee.org/xpl/conhome/1000002/all-proceedings)"
   ]
  },
  {
   "cell_type": "code",
   "execution_count": 20,
   "metadata": {},
   "outputs": [],
   "source": [
    "with open(\"/tmp/icassp\") as inf:\n",
    "    html = inf.read()"
   ]
  },
  {
   "cell_type": "code",
   "execution_count": 21,
   "metadata": {},
   "outputs": [],
   "source": [
    "soup = BeautifulSoup(html, 'html.parser')"
   ]
  },
  {
   "cell_type": "code",
   "execution_count": 22,
   "metadata": {},
   "outputs": [],
   "source": [
    "top = soup.find(\"div\", {\"class\": \"issue-list-container\"})"
   ]
  },
  {
   "cell_type": "code",
   "execution_count": 23,
   "metadata": {},
   "outputs": [],
   "source": [
    "import re"
   ]
  },
  {
   "cell_type": "code",
   "execution_count": 59,
   "metadata": {},
   "outputs": [],
   "source": [
    "data = []\n",
    "for li in top.find_all(\"li\", {\"_ngcontent-ftl-c305\": \"\"}):\n",
    "    raw = li.text.strip()\n",
    "    a_tag = li.find(\"a\")\n",
    "    href = a_tag.attrs[\"href\"]\n",
    "    title = a_tag.text.strip()\n",
    "    m1 = re.search(\"^ICASSP (20\\d\\d).*\", raw)\n",
    "    m2 = re.search(\".*((?:20|19)\\d\\d) (?:IEEE )?International.*\", raw)\n",
    "    m3 = re.search(\".*ICASSP '(\\d\\d).*\", raw)\n",
    "    if m1:\n",
    "        year = m1.group(1)\n",
    "    elif m2:\n",
    "        year = m2.group(1)\n",
    "    elif m3:\n",
    "        year = m3.group(1)\n",
    "        # Why yes, in this, the Year of Our Lord, 2022,\n",
    "        # writing this scraper has meant having to do\n",
    "        # Y2K compensation\n",
    "        if year.startswith(\"0\"):\n",
    "            year = \"20\" + year\n",
    "        else:\n",
    "            year = \"19\" + year\n",
    "    elif raw == \"International Conference on Acoustics, Speech, and Signal Processing\":\n",
    "        year = \"1990\"\n",
    "    elif raw == \"International Conference on Acoustics, Speech, and Signal Processing,\":\n",
    "        year == \"1989\"\n",
    "    elif raw.startswith(\"ICASSP-88.,\"):\n",
    "        year = \"1988\"\n",
    "    loc_tag = li.find(\"span\", {\"_ngcontent-ftl-c305\": \"\"})\n",
    "    if loc_tag:\n",
    "        loc = loc_tag.text.strip().replace(\"Location: \", \"\")\n",
    "    data.append([href, title, year, loc])"
   ]
  },
  {
   "cell_type": "code",
   "execution_count": 60,
   "metadata": {},
   "outputs": [],
   "source": [
    "count = 1\n",
    "data.reverse()\n",
    "for item in data:\n",
    "    item.append(str(count))\n",
    "    count += 1\n",
    "data.reverse()"
   ]
  },
  {
   "cell_type": "code",
   "execution_count": 62,
   "metadata": {},
   "outputs": [],
   "source": [
    "template = \"https://ieeexplore.ieee.org/rest/publication/home/metadata?pubid=\""
   ]
  },
  {
   "cell_type": "code",
   "execution_count": 63,
   "metadata": {},
   "outputs": [],
   "source": [
    "import requests"
   ]
  },
  {
   "cell_type": "code",
   "execution_count": 64,
   "metadata": {},
   "outputs": [],
   "source": [
    "raw_json = requests.get(template + \"9413349\")\n"
   ]
  },
  {
   "cell_type": "code",
   "execution_count": 66,
   "metadata": {},
   "outputs": [
    {
     "data": {
      "text/plain": [
       "'<HTML><HEAD><TITLE>Error</TITLE></HEAD><BODY>\\nAn error occurred while processing your request.<p>\\nReference&#32;&#35;30&#46;64aa2617&#46;1670514466&#46;8894ff4\\n</BODY></HTML>\\n'"
      ]
     },
     "execution_count": 66,
     "metadata": {},
     "output_type": "execute_result"
    }
   ],
   "source": [
    "raw_json.text"
   ]
  },
  {
   "cell_type": "markdown",
   "metadata": {},
   "source": [
    "Bah. Ok, API is a waste of time: limit is too low, registering for a key is a bit annoying for a one-time operation."
   ]
  },
  {
   "cell_type": "code",
   "execution_count": 67,
   "metadata": {},
   "outputs": [],
   "source": [
    "DOIs = \"\"\"\n",
    "10.1109/ICASSP43922.2022\n",
    "10.1109/ICASSP39728.2021\n",
    "DOI: 10.1109/ICASSP40776.2020\n",
    "DOI: 10.1109/ICASSP35589.2019\n",
    "DOI: 10.1109/ICASSP34228.2018\n",
    "DOI: 10.1109/ICASSP31846.2017\n",
    "\n",
    "DOI: 10.1109/ICASSP17257.2015\n",
    "DOI: 10.1109/ICASSP18874.2014\n",
    "DOI: 10.1109/ICASSP16080.2013\n",
    "DOI: 10.1109/ICASSP15465.2012\n",
    "DOI: 10.1109/ICASSP15948.2011\n",
    "DOI: 10.1109/ICASSP15600.2010\n",
    "DOI: 10.1109/ICASSP13629.2009\n",
    "DOI: 10.1109/ICASSP12235.2008\n",
    "DOI: 10.1109/ICASSP10710.2007\n",
    "DOI: 10.1109/ICASSP10488.2006\n",
    "DOI: 10.1109/ICASSP8829.2005\n",
    "DOI: 10.1109/ICASSP.2004\n",
    "DOI: 10.1109/ICASSP.2003\n",
    "DOI: 10.1109/ICASSP.2002\n",
    "DOI: 10.1109/ICASSP.2001\n",
    "DOI: 10.1109/ICASSP.2000\n",
    "DOI: 10.1109/ICASSP.1999\n",
    "DOI: 10.1109/ICASSP.1998\n",
    "DOI: 10.1109/ICASSP.1997\n",
    "DOI: 10.1109/ICASSP.1996\n",
    "DOI: 10.1109/ICASSP.1995\n",
    "DOI: 10.1109/ICASSP.1994\n",
    "DOI: 10.1109/ICASSP.1993\n",
    "DOI: 10.1109/ICASSP.1992\n",
    "DOI: 10.1109/ICASSP.1991\n",
    "DOI: 10.1109/ICASSP.1990\n",
    "DOI: 10.1109/ICASSP.1989\n",
    "DOI: 10.1109/ICASSP.1988\n",
    "DOI: 10.1109/ICASSP.1987\n",
    "DOI: 10.1109/ICASSP.1986\n",
    "DOI: 10.1109/ICASSP.1985\n",
    "DOI: 10.1109/ICASSP.1984\n",
    "DOI: 10.1109/ICASSP.1983\n",
    "DOI: 10.1109/ICASSP.1982\n",
    "DOI: 10.1109/ICASSP.1981\n",
    "DOI: 10.1109/ICASSP.1980\n",
    "DOI: 10.1109/ICASSP.1979\n",
    "DOI: 10.1109/ICASSP.1978\n",
    "DOI: 10.1109/ICASSP.1977\n",
    "DOI: 10.1109/ICASSP.1976\n",
    "\"\"\""
   ]
  },
  {
   "cell_type": "code",
   "execution_count": 68,
   "metadata": {},
   "outputs": [],
   "source": [
    "doi_dict = {}\n",
    "for line in DOIs.replace(\"DOI: \", \"\").split(\"\\n\"):\n",
    "    if line == \"\":\n",
    "        continue\n",
    "    parts = line.split(\".\")\n",
    "    doi_dict[parts[-1]] = line"
   ]
  },
  {
   "cell_type": "code",
   "execution_count": 71,
   "metadata": {},
   "outputs": [],
   "source": [
    "output = []\n",
    "output.append(\"| Year | Ordinal | DOI | Issue | Location |\")\n",
    "output.append(\"|------|---------|-----|-------|----------|\")\n",
    "for item in data:\n",
    "    #[href, title, year, loc, ord]\n",
    "    if item[2] == \"2016\":\n",
    "        doi = \"\"\n",
    "    else:\n",
    "        doi = doi_dict[item[2]]\n",
    "    output.append(f\"| {item[2]} | {item[4]} | {doi} | [{item[1]}](https://ieeexplore.ieee.org/{item[0]}) | {item[3]} |\")\n"
   ]
  },
  {
   "cell_type": "code",
   "execution_count": 73,
   "metadata": {},
   "outputs": [],
   "source": [
    "from IPython.display import display, Markdown"
   ]
  },
  {
   "cell_type": "code",
   "execution_count": null,
   "metadata": {},
   "outputs": [],
   "source": [
    "display(Markdown(\"\\n\".join(output)))"
   ]
  }
 ],
 "metadata": {
  "kernelspec": {
   "display_name": "Python 3.10.4 ('ctcseg')",
   "language": "python",
   "name": "python3"
  },
  "language_info": {
   "codemirror_mode": {
    "name": "ipython",
    "version": 3
   },
   "file_extension": ".py",
   "mimetype": "text/x-python",
   "name": "python",
   "nbconvert_exporter": "python",
   "pygments_lexer": "ipython3",
   "version": "3.10.4"
  },
  "orig_nbformat": 4,
  "vscode": {
   "interpreter": {
    "hash": "04f1aebeda7ca92f6170d2806fa3f3c0cbb14da723fd908a9af630117dfe1004"
   }
  }
 },
 "nbformat": 4,
 "nbformat_minor": 2
}
