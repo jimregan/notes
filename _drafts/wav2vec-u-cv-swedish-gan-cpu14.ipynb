{
 "cells": [
  {
   "cell_type": "code",
   "execution_count": 1,
   "id": "explicit-singles",
   "metadata": {
    "execution": {
     "iopub.execute_input": "2021-06-09T11:50:26.762452Z",
     "iopub.status.busy": "2021-06-09T11:50:26.761776Z",
     "iopub.status.idle": "2021-06-09T11:50:29.284526Z",
     "shell.execute_reply": "2021-06-09T11:50:29.285020Z"
    },
    "papermill": {
     "duration": 2.550212,
     "end_time": "2021-06-09T11:50:29.285347",
     "exception": false,
     "start_time": "2021-06-09T11:50:26.735135",
     "status": "completed"
    },
    "tags": []
   },
   "outputs": [],
   "source": [
    "!cp ../input/w2vu-cvsv-checkpoints-cpu13/checkpoint_best.pt .\n",
    "!cp ../input/w2vu-cvsv-checkpoints-cpu13/checkpoint_last.pt ."
   ]
  },
  {
   "cell_type": "code",
   "execution_count": 2,
   "id": "altered-minneapolis",
   "metadata": {
    "_cell_guid": "b1076dfc-b9ad-4769-8c92-a6c4dae69d19",
    "_uuid": "8f2839f25d086af736a60e9eeb907d3b93b6e0e5",
    "execution": {
     "iopub.execute_input": "2021-06-09T11:50:29.328863Z",
     "iopub.status.busy": "2021-06-09T11:50:29.327635Z",
     "iopub.status.idle": "2021-06-09T11:55:56.835183Z",
     "shell.execute_reply": "2021-06-09T11:55:56.835948Z",
     "shell.execute_reply.started": "2021-05-31T11:43:46.770364Z"
    },
    "papermill": {
     "duration": 327.53648,
     "end_time": "2021-06-09T11:55:56.836176",
     "exception": false,
     "start_time": "2021-06-09T11:50:29.299696",
     "status": "completed"
    },
    "tags": []
   },
   "outputs": [],
   "source": [
    "%%capture\n",
    "!conda install -c pykaldi pykaldi -y"
   ]
  },
  {
   "cell_type": "code",
   "execution_count": 3,
   "id": "opened-elizabeth",
   "metadata": {
    "execution": {
     "iopub.execute_input": "2021-06-09T11:55:56.868429Z",
     "iopub.status.busy": "2021-06-09T11:55:56.867695Z",
     "iopub.status.idle": "2021-06-09T11:55:56.876848Z",
     "shell.execute_reply": "2021-06-09T11:55:56.877472Z",
     "shell.execute_reply.started": "2021-05-31T13:58:07.987793Z"
    },
    "papermill": {
     "duration": 0.027072,
     "end_time": "2021-06-09T11:55:56.877657",
     "exception": false,
     "start_time": "2021-06-09T11:55:56.850585",
     "status": "completed"
    },
    "tags": []
   },
   "outputs": [
    {
     "name": "stdout",
     "output_type": "stream",
     "text": [
      "/tmp\n"
     ]
    }
   ],
   "source": [
    "%cd /tmp"
   ]
  },
  {
   "cell_type": "code",
   "execution_count": 4,
   "id": "spanish-eugene",
   "metadata": {
    "execution": {
     "iopub.execute_input": "2021-06-09T11:55:56.920049Z",
     "iopub.status.busy": "2021-06-09T11:55:56.915662Z",
     "iopub.status.idle": "2021-06-09T11:56:02.146503Z",
     "shell.execute_reply": "2021-06-09T11:56:02.145888Z",
     "shell.execute_reply.started": "2021-05-31T11:47:48.174342Z"
    },
    "papermill": {
     "duration": 5.25339,
     "end_time": "2021-06-09T11:56:02.146659",
     "exception": false,
     "start_time": "2021-06-09T11:55:56.893269",
     "status": "completed"
    },
    "tags": []
   },
   "outputs": [
    {
     "name": "stdout",
     "output_type": "stream",
     "text": [
      "Cloning into 'fairseq'...\n",
      "remote: Enumerating objects: 28296, done.\u001b[K\n",
      "remote: Total 28296 (delta 0), reused 0 (delta 0), pack-reused 28296\u001b[K\n",
      "Receiving objects: 100% (28296/28296), 11.79 MiB | 5.56 MiB/s, done.\n",
      "Resolving deltas: 100% (21294/21294), done.\n"
     ]
    }
   ],
   "source": [
    "!git clone https://github.com/jimregan/fairseq/ --branch issue3581"
   ]
  },
  {
   "cell_type": "code",
   "execution_count": 5,
   "id": "finite-needle",
   "metadata": {
    "execution": {
     "iopub.execute_input": "2021-06-09T11:56:02.201160Z",
     "iopub.status.busy": "2021-06-09T11:56:02.200517Z",
     "iopub.status.idle": "2021-06-09T11:56:10.102858Z",
     "shell.execute_reply": "2021-06-09T11:56:10.102130Z",
     "shell.execute_reply.started": "2021-05-31T13:58:08.002832Z"
    },
    "papermill": {
     "duration": 7.93262,
     "end_time": "2021-06-09T11:56:10.103024",
     "exception": false,
     "start_time": "2021-06-09T11:56:02.170404",
     "status": "completed"
    },
    "tags": []
   },
   "outputs": [
    {
     "name": "stdout",
     "output_type": "stream",
     "text": [
      "Cloning into 'kenlm'...\n",
      "remote: Enumerating objects: 14047, done.\u001b[K\n",
      "remote: Counting objects: 100% (360/360), done.\u001b[K\n",
      "remote: Compressing objects: 100% (292/292), done.\u001b[K\n",
      "remote: Total 14047 (delta 107), reused 121 (delta 55), pack-reused 13687\u001b[K\n",
      "Receiving objects: 100% (14047/14047), 5.76 MiB | 4.22 MiB/s, done.\n",
      "Resolving deltas: 100% (7987/7987), done.\n"
     ]
    }
   ],
   "source": [
    "!git clone https://github.com/kpu/kenlm"
   ]
  },
  {
   "cell_type": "code",
   "execution_count": 6,
   "id": "competent-recycling",
   "metadata": {
    "execution": {
     "iopub.execute_input": "2021-06-09T11:56:10.174116Z",
     "iopub.status.busy": "2021-06-09T11:56:10.173440Z",
     "iopub.status.idle": "2021-06-09T11:56:17.820568Z",
     "shell.execute_reply": "2021-06-09T11:56:17.819750Z",
     "shell.execute_reply.started": "2021-05-31T13:58:12.001162Z"
    },
    "papermill": {
     "duration": 7.68841,
     "end_time": "2021-06-09T11:56:17.820725",
     "exception": false,
     "start_time": "2021-06-09T11:56:10.132315",
     "status": "completed"
    },
    "tags": []
   },
   "outputs": [],
   "source": [
    "%%capture\n",
    "!apt-get -y install libeigen3-dev liblzma-dev zlib1g-dev libbz2-dev"
   ]
  },
  {
   "cell_type": "code",
   "execution_count": 7,
   "id": "intended-powder",
   "metadata": {
    "execution": {
     "iopub.execute_input": "2021-06-09T11:56:17.891595Z",
     "iopub.status.busy": "2021-06-09T11:56:17.890685Z",
     "iopub.status.idle": "2021-06-09T11:57:34.057766Z",
     "shell.execute_reply": "2021-06-09T11:57:34.056512Z"
    },
    "papermill": {
     "duration": 76.206492,
     "end_time": "2021-06-09T11:57:34.057943",
     "exception": false,
     "start_time": "2021-06-09T11:56:17.851451",
     "status": "completed"
    },
    "tags": []
   },
   "outputs": [],
   "source": [
    "\n",
    "%%capture\n",
    "%cd kenlm\n",
    "!mkdir build\n",
    "%cd build\n",
    "!cmake ..\n",
    "!make -j 4\n",
    "%cd /tmp"
   ]
  },
  {
   "cell_type": "code",
   "execution_count": 8,
   "id": "forbidden-batman",
   "metadata": {
    "execution": {
     "iopub.execute_input": "2021-06-09T11:57:34.124715Z",
     "iopub.status.busy": "2021-06-09T11:57:34.123837Z",
     "iopub.status.idle": "2021-06-09T11:58:17.270799Z",
     "shell.execute_reply": "2021-06-09T11:58:17.270163Z",
     "shell.execute_reply.started": "2021-05-31T14:00:27.915818Z"
    },
    "papermill": {
     "duration": 43.183697,
     "end_time": "2021-06-09T11:58:17.270991",
     "exception": false,
     "start_time": "2021-06-09T11:57:34.087294",
     "status": "completed"
    },
    "tags": []
   },
   "outputs": [],
   "source": [
    "%%capture\n",
    "%cd /tmp/kenlm\n",
    "!python setup.py install\n",
    "%cd /tmp"
   ]
  },
  {
   "cell_type": "code",
   "execution_count": 9,
   "id": "juvenile-happiness",
   "metadata": {
    "execution": {
     "iopub.execute_input": "2021-06-09T11:58:17.337098Z",
     "iopub.status.busy": "2021-06-09T11:58:17.336072Z",
     "iopub.status.idle": "2021-06-09T11:58:17.338300Z",
     "shell.execute_reply": "2021-06-09T11:58:17.338897Z",
     "shell.execute_reply.started": "2021-05-25T22:58:58.397816Z"
    },
    "papermill": {
     "duration": 0.038023,
     "end_time": "2021-06-09T11:58:17.339083",
     "exception": false,
     "start_time": "2021-06-09T11:58:17.301060",
     "status": "completed"
    },
    "tags": []
   },
   "outputs": [],
   "source": [
    "import os\n",
    "os.environ['PATH'] = f\"{os.environ['PATH']}:/tmp/kenlm/build/bin/\"\n",
    "os.environ['FAIRSEQ_ROOT'] = '/tmp/fairseq'"
   ]
  },
  {
   "cell_type": "code",
   "execution_count": 10,
   "id": "responsible-milton",
   "metadata": {
    "execution": {
     "iopub.execute_input": "2021-06-09T11:58:17.401370Z",
     "iopub.status.busy": "2021-06-09T11:58:17.400422Z",
     "iopub.status.idle": "2021-06-09T11:58:17.407747Z",
     "shell.execute_reply": "2021-06-09T11:58:17.407198Z",
     "shell.execute_reply.started": "2021-05-31T11:51:49.832574Z"
    },
    "papermill": {
     "duration": 0.039894,
     "end_time": "2021-06-09T11:58:17.407912",
     "exception": false,
     "start_time": "2021-06-09T11:58:17.368018",
     "status": "completed"
    },
    "tags": []
   },
   "outputs": [
    {
     "name": "stdout",
     "output_type": "stream",
     "text": [
      "/tmp/fairseq\n"
     ]
    }
   ],
   "source": [
    "%cd /tmp/fairseq/"
   ]
  },
  {
   "cell_type": "code",
   "execution_count": 11,
   "id": "ultimate-philadelphia",
   "metadata": {
    "execution": {
     "iopub.execute_input": "2021-06-09T11:58:17.478886Z",
     "iopub.status.busy": "2021-06-09T11:58:17.473356Z",
     "iopub.status.idle": "2021-06-09T11:59:43.412989Z",
     "shell.execute_reply": "2021-06-09T11:59:43.413677Z"
    },
    "papermill": {
     "duration": 85.976743,
     "end_time": "2021-06-09T11:59:43.413889",
     "exception": false,
     "start_time": "2021-06-09T11:58:17.437146",
     "status": "completed"
    },
    "tags": []
   },
   "outputs": [],
   "source": [
    "%%capture\n",
    "!python setup.py install"
   ]
  },
  {
   "cell_type": "code",
   "execution_count": 12,
   "id": "peripheral-lindsay",
   "metadata": {
    "execution": {
     "iopub.execute_input": "2021-06-09T11:59:43.481704Z",
     "iopub.status.busy": "2021-06-09T11:59:43.480718Z",
     "iopub.status.idle": "2021-06-09T11:59:43.488576Z",
     "shell.execute_reply": "2021-06-09T11:59:43.487905Z"
    },
    "papermill": {
     "duration": 0.042018,
     "end_time": "2021-06-09T11:59:43.488718",
     "exception": false,
     "start_time": "2021-06-09T11:59:43.446700",
     "status": "completed"
    },
    "tags": []
   },
   "outputs": [
    {
     "name": "stdout",
     "output_type": "stream",
     "text": [
      "/tmp/fairseq\n"
     ]
    }
   ],
   "source": [
    "%cd /tmp/fairseq/"
   ]
  },
  {
   "cell_type": "code",
   "execution_count": 13,
   "id": "hispanic-harvey",
   "metadata": {
    "execution": {
     "iopub.execute_input": "2021-06-09T11:59:43.554328Z",
     "iopub.status.busy": "2021-06-09T11:59:43.553019Z",
     "iopub.status.idle": "2021-06-09T11:59:43.557663Z",
     "shell.execute_reply": "2021-06-09T11:59:43.556657Z"
    },
    "papermill": {
     "duration": 0.039644,
     "end_time": "2021-06-09T11:59:43.557906",
     "exception": false,
     "start_time": "2021-06-09T11:59:43.518262",
     "status": "completed"
    },
    "tags": []
   },
   "outputs": [],
   "source": [
    "os.environ['HYDRA_FULL_ERROR'] = '1'"
   ]
  },
  {
   "cell_type": "code",
   "execution_count": 14,
   "id": "worst-access",
   "metadata": {
    "execution": {
     "iopub.execute_input": "2021-06-09T11:59:43.631083Z",
     "iopub.status.busy": "2021-06-09T11:59:43.630412Z",
     "iopub.status.idle": "2021-06-09T11:59:54.319278Z",
     "shell.execute_reply": "2021-06-09T11:59:54.319915Z"
    },
    "papermill": {
     "duration": 10.72958,
     "end_time": "2021-06-09T11:59:54.320181",
     "exception": false,
     "start_time": "2021-06-09T11:59:43.590601",
     "status": "completed"
    },
    "tags": []
   },
   "outputs": [],
   "source": [
    "%%capture\n",
    "!pip install editdistance"
   ]
  },
  {
   "cell_type": "markdown",
   "id": "realistic-token",
   "metadata": {
    "papermill": {
     "duration": 0.02968,
     "end_time": "2021-06-09T11:59:54.381497",
     "exception": false,
     "start_time": "2021-06-09T11:59:54.351817",
     "status": "completed"
    },
    "tags": []
   },
   "source": [
    "## GAN"
   ]
  },
  {
   "cell_type": "code",
   "execution_count": 15,
   "id": "acute-livestock",
   "metadata": {
    "execution": {
     "iopub.execute_input": "2021-06-09T11:59:54.445168Z",
     "iopub.status.busy": "2021-06-09T11:59:54.444557Z",
     "iopub.status.idle": "2021-06-09T11:59:54.451811Z",
     "shell.execute_reply": "2021-06-09T11:59:54.452340Z"
    },
    "papermill": {
     "duration": 0.040975,
     "end_time": "2021-06-09T11:59:54.452540",
     "exception": false,
     "start_time": "2021-06-09T11:59:54.411565",
     "status": "completed"
    },
    "tags": []
   },
   "outputs": [
    {
     "name": "stdout",
     "output_type": "stream",
     "text": [
      "Writing rungan.sh\n"
     ]
    }
   ],
   "source": [
    "%%writefile rungan.sh\n",
    "PREFIX=w2v_unsup_gan_xp\n",
    "#TASK_DATA=/path/to/features/unfiltered/precompute_unfiltered_pca512_cls128_mean_pooled\n",
    "TASK_DATA=/kaggle/input/wav2vec-u-cv-swedish-audio/precompute_pca512_cls128_mean_pooled/\n",
    "#TEXT_DATA=/path/to/data  # path to fairseq-preprocessed GAN data\n",
    "TEXT_DATA=/kaggle/input/wav2vec-u-cv-swedish-text-prep/preppedtext/phones/\n",
    "#KENLM_PATH=/path/to/data/kenlm.phn.o4.bin  # KenLM 4-gram phoneme language model (LM data = GAN data here)\n",
    "KENLM_PATH=/kaggle/input/wav2vec-u-cv-swedish-text-prep/preppedtext/phones/lm.phones.filtered.04.bin\n",
    "\n",
    "PREFIX=$PREFIX fairseq-hydra-train \\\n",
    "\t-m --config-dir fairseq/config/model/wav2vecu/gan \\\n",
    "\t--config-name w2vu \\\n",
    "\ttask.data=${TASK_DATA} \\\n",
    "\ttask.text_data=${TEXT_DATA} \\\n",
    "\ttask.kenlm_path=${KENLM_PATH} \\\n",
    "\tcheckpoint.no_epoch_checkpoints=true \\\n",
    "\tcheckpoint.save_dir=/kaggle/working \\\n",
    "\t'common.seed=range(0,5)'"
   ]
  },
  {
   "cell_type": "code",
   "execution_count": null,
   "id": "skilled-senator",
   "metadata": {
    "execution": {
     "iopub.execute_input": "2021-06-09T11:59:54.517646Z",
     "iopub.status.busy": "2021-06-09T11:59:54.516968Z"
    },
    "papermill": {
     "duration": null,
     "end_time": null,
     "exception": false,
     "start_time": "2021-06-09T11:59:54.483404",
     "status": "running"
    },
    "tags": []
   },
   "outputs": [],
   "source": [
    "!bash rungan.sh"
   ]
  }
 ],
 "metadata": {
  "kernelspec": {
   "display_name": "Python 3",
   "language": "python",
   "name": "python3"
  },
  "language_info": {
   "codemirror_mode": {
    "name": "ipython",
    "version": 3
   },
   "file_extension": ".py",
   "mimetype": "text/x-python",
   "name": "python",
   "nbconvert_exporter": "python",
   "pygments_lexer": "ipython3",
   "version": "3.8.2"
  },
  "papermill": {
   "default_parameters": {},
   "duration": null,
   "end_time": null,
   "environment_variables": {},
   "exception": null,
   "input_path": "__notebook__.ipynb",
   "output_path": "__notebook__.ipynb",
   "parameters": {},
   "start_time": "2021-06-09T11:50:16.871519",
   "version": "2.3.3"
  }
 },
 "nbformat": 4,
 "nbformat_minor": 5
}
