{
 "cells": [
  {
   "cell_type": "markdown",
   "id": "6d850f09",
   "metadata": {
    "papermill": {
     "duration": 0.018284,
     "end_time": "2022-05-04T23:14:40.519753",
     "exception": false,
     "start_time": "2022-05-04T23:14:40.501469",
     "status": "completed"
    },
    "tags": []
   },
   "source": [
    "# Split into train/test/valid"
   ]
  },
  {
   "cell_type": "code",
   "execution_count": 1,
   "id": "ada55eb5",
   "metadata": {
    "_cell_guid": "b1076dfc-b9ad-4769-8c92-a6c4dae69d19",
    "_uuid": "8f2839f25d086af736a60e9eeb907d3b93b6e0e5",
    "execution": {
     "iopub.execute_input": "2022-05-04T23:14:40.555977Z",
     "iopub.status.busy": "2022-05-04T23:14:40.555630Z",
     "iopub.status.idle": "2022-05-04T23:14:42.093937Z",
     "shell.execute_reply": "2022-05-04T23:14:42.092928Z"
    },
    "papermill": {
     "duration": 1.559147,
     "end_time": "2022-05-04T23:14:42.096577",
     "exception": false,
     "start_time": "2022-05-04T23:14:40.537430",
     "status": "completed"
    },
    "tags": []
   },
   "outputs": [],
   "source": [
    "!echo /kaggle/input/ljspeech-for-asr/wav16/ > valid.tsv\n",
    "!cat ../input/ljspeech-for-asr/frames.tsv | tail -n $((1310)) | tail -n $((1310 / 2)) |awk -F'\\t' '{print $1 \".wav\\t\" $2}' >> valid.tsv"
   ]
  },
  {
   "cell_type": "code",
   "execution_count": 2,
   "id": "49d2018b",
   "metadata": {
    "execution": {
     "iopub.execute_input": "2022-05-04T23:14:42.132374Z",
     "iopub.status.busy": "2022-05-04T23:14:42.132002Z",
     "iopub.status.idle": "2022-05-04T23:14:43.651782Z",
     "shell.execute_reply": "2022-05-04T23:14:43.650315Z"
    },
    "papermill": {
     "duration": 1.540956,
     "end_time": "2022-05-04T23:14:43.654304",
     "exception": false,
     "start_time": "2022-05-04T23:14:42.113348",
     "status": "completed"
    },
    "tags": []
   },
   "outputs": [],
   "source": [
    "!echo /kaggle/input/ljspeech-for-asr/wav16/ > test.tsv\n",
    "!cat ../input/ljspeech-for-asr/frames.tsv | tail -n $((1310)) | head -n $((1310 / 2)) |awk -F'\\t' '{print $1 \".wav\\t\" $2}' >> test.tsv"
   ]
  },
  {
   "cell_type": "code",
   "execution_count": 3,
   "id": "09d86be1",
   "metadata": {
    "execution": {
     "iopub.execute_input": "2022-05-04T23:14:43.691190Z",
     "iopub.status.busy": "2022-05-04T23:14:43.690583Z",
     "iopub.status.idle": "2022-05-04T23:14:45.226071Z",
     "shell.execute_reply": "2022-05-04T23:14:45.224376Z"
    },
    "papermill": {
     "duration": 1.556819,
     "end_time": "2022-05-04T23:14:45.228850",
     "exception": false,
     "start_time": "2022-05-04T23:14:43.672031",
     "status": "completed"
    },
    "tags": []
   },
   "outputs": [],
   "source": [
    "!echo /kaggle/input/ljspeech-for-asr/wav16/ > train.tsv\n",
    "!cat ../input/ljspeech-for-asr/frames.tsv | head -n $((13100 - 1310)) |awk -F'\\t' '{print $1 \".wav\\t\" $2}' >> train.tsv"
   ]
  },
  {
   "cell_type": "markdown",
   "id": "caec2439",
   "metadata": {
    "papermill": {
     "duration": 0.016459,
     "end_time": "2022-05-04T23:14:45.262143",
     "exception": false,
     "start_time": "2022-05-04T23:14:45.245684",
     "status": "completed"
    },
    "tags": []
   },
   "source": [
    "# Load frame lengths"
   ]
  },
  {
   "cell_type": "code",
   "execution_count": 4,
   "id": "cbb7ab7e",
   "metadata": {
    "execution": {
     "iopub.execute_input": "2022-05-04T23:14:45.298943Z",
     "iopub.status.busy": "2022-05-04T23:14:45.298612Z",
     "iopub.status.idle": "2022-05-04T23:14:45.327135Z",
     "shell.execute_reply": "2022-05-04T23:14:45.326410Z"
    },
    "papermill": {
     "duration": 0.050531,
     "end_time": "2022-05-04T23:14:45.329669",
     "exception": false,
     "start_time": "2022-05-04T23:14:45.279138",
     "status": "completed"
    },
    "tags": []
   },
   "outputs": [],
   "source": [
    "train_frames = {}\n",
    "\n",
    "with open(\"train.tsv\") as f:\n",
    "    for line in f.readlines():\n",
    "        if not \"\\t\" in line:\n",
    "            continue\n",
    "        pieces = line.strip().split(\"\\t\")\n",
    "        assert len(pieces) == 2\n",
    "        id = pieces[0].replace(\".wav\", \"\")\n",
    "        train_frames[id] = int(pieces[1])"
   ]
  },
  {
   "cell_type": "code",
   "execution_count": 5,
   "id": "c02e559a",
   "metadata": {
    "execution": {
     "iopub.execute_input": "2022-05-04T23:14:45.369011Z",
     "iopub.status.busy": "2022-05-04T23:14:45.367854Z",
     "iopub.status.idle": "2022-05-04T23:14:45.373404Z",
     "shell.execute_reply": "2022-05-04T23:14:45.372495Z"
    },
    "papermill": {
     "duration": 0.029135,
     "end_time": "2022-05-04T23:14:45.375692",
     "exception": false,
     "start_time": "2022-05-04T23:14:45.346557",
     "status": "completed"
    },
    "tags": []
   },
   "outputs": [],
   "source": [
    "MINS = [i * 5 for i in range(1, 25)]\n",
    "HOURS = [i * 2 for i in range(1, 9)]"
   ]
  },
  {
   "cell_type": "code",
   "execution_count": 6,
   "id": "fd70776f",
   "metadata": {
    "execution": {
     "iopub.execute_input": "2022-05-04T23:14:45.411207Z",
     "iopub.status.busy": "2022-05-04T23:14:45.410334Z",
     "iopub.status.idle": "2022-05-04T23:14:45.414470Z",
     "shell.execute_reply": "2022-05-04T23:14:45.413747Z"
    },
    "papermill": {
     "duration": 0.024512,
     "end_time": "2022-05-04T23:14:45.417017",
     "exception": false,
     "start_time": "2022-05-04T23:14:45.392505",
     "status": "completed"
    },
    "tags": []
   },
   "outputs": [],
   "source": [
    "WAVDIR = \"/kaggle/input/ljspeech-for-asr/wav16\""
   ]
  },
  {
   "cell_type": "markdown",
   "id": "90b6898c",
   "metadata": {
    "papermill": {
     "duration": 0.016112,
     "end_time": "2022-05-04T23:14:45.450957",
     "exception": false,
     "start_time": "2022-05-04T23:14:45.434845",
     "status": "completed"
    },
    "tags": []
   },
   "source": [
    "# Minute splits"
   ]
  },
  {
   "cell_type": "code",
   "execution_count": 7,
   "id": "b75bd92e",
   "metadata": {
    "execution": {
     "iopub.execute_input": "2022-05-04T23:14:45.485817Z",
     "iopub.status.busy": "2022-05-04T23:14:45.485235Z",
     "iopub.status.idle": "2022-05-04T23:14:45.622577Z",
     "shell.execute_reply": "2022-05-04T23:14:45.621465Z"
    },
    "papermill": {
     "duration": 0.157795,
     "end_time": "2022-05-04T23:14:45.625334",
     "exception": false,
     "start_time": "2022-05-04T23:14:45.467539",
     "status": "completed"
    },
    "tags": []
   },
   "outputs": [],
   "source": [
    "for min in MINS:\n",
    "    frames = min * 60 * 16000\n",
    "    idlist = [k for k in train_frames.keys()]\n",
    "    outtsv = f\"{min}mins.tsv\"\n",
    "    with open(outtsv, \"w\") as of:\n",
    "        current = 0\n",
    "        of.write(f\"{WAVDIR}\\n\")\n",
    "        while frames > 0 and frames > current:\n",
    "            id = idlist.pop(0)\n",
    "            current = train_frames[id]\n",
    "            of.write(f\"{id}.wav\\t{current}\\n\")\n",
    "            frames = frames - current\n",
    "        max = 0\n",
    "        maxid = \"\"\n",
    "        for id in idlist:\n",
    "            time = train_frames[id]\n",
    "            if time > current:\n",
    "                continue\n",
    "            if time > max:\n",
    "                max = time\n",
    "                maxid = id\n",
    "        of.write(f\"{maxid}.wav\\t{max}\\n\")"
   ]
  },
  {
   "cell_type": "markdown",
   "id": "18168cba",
   "metadata": {
    "papermill": {
     "duration": 0.017778,
     "end_time": "2022-05-04T23:14:45.659629",
     "exception": false,
     "start_time": "2022-05-04T23:14:45.641851",
     "status": "completed"
    },
    "tags": []
   },
   "source": [
    "# Hour splits"
   ]
  },
  {
   "cell_type": "code",
   "execution_count": 8,
   "id": "050175c5",
   "metadata": {
    "execution": {
     "iopub.execute_input": "2022-05-04T23:14:45.696878Z",
     "iopub.status.busy": "2022-05-04T23:14:45.696327Z",
     "iopub.status.idle": "2022-05-04T23:14:45.826642Z",
     "shell.execute_reply": "2022-05-04T23:14:45.825611Z"
    },
    "papermill": {
     "duration": 0.151982,
     "end_time": "2022-05-04T23:14:45.829235",
     "exception": false,
     "start_time": "2022-05-04T23:14:45.677253",
     "status": "completed"
    },
    "tags": []
   },
   "outputs": [],
   "source": [
    "for min in HOURS:\n",
    "    frames = min * 60 * 60 * 16000\n",
    "    idlist = [k for k in train_frames.keys()]\n",
    "    outtsv = f\"{min}hrs.tsv\"\n",
    "    with open(outtsv, \"w\") as of:\n",
    "        current = 0\n",
    "        of.write(f\"{WAVDIR}\\n\")\n",
    "        while frames > 0 and frames > current:\n",
    "            id = idlist.pop(0)\n",
    "            current = train_frames[id]\n",
    "            of.write(f\"{id}.wav\\t{current}\\n\")\n",
    "            frames = frames - current\n",
    "        max = 0\n",
    "        maxid = \"\"\n",
    "        for id in idlist:\n",
    "            time = train_frames[id]\n",
    "            if time > current:\n",
    "                continue\n",
    "            if time > max:\n",
    "                max = time\n",
    "                maxid = id\n",
    "        of.write(f\"{maxid}.wav\\t{max}\\n\")"
   ]
  },
  {
   "cell_type": "markdown",
   "id": "ce3d6878",
   "metadata": {
    "papermill": {
     "duration": 0.017404,
     "end_time": "2022-05-04T23:14:45.863359",
     "exception": false,
     "start_time": "2022-05-04T23:14:45.845955",
     "status": "completed"
    },
    "tags": []
   },
   "source": [
    "# Generate `ltr` files"
   ]
  },
  {
   "cell_type": "code",
   "execution_count": 9,
   "id": "bae4441b",
   "metadata": {
    "execution": {
     "iopub.execute_input": "2022-05-04T23:14:45.897681Z",
     "iopub.status.busy": "2022-05-04T23:14:45.897380Z",
     "iopub.status.idle": "2022-05-04T23:14:45.902707Z",
     "shell.execute_reply": "2022-05-04T23:14:45.901760Z"
    },
    "papermill": {
     "duration": 0.02505,
     "end_time": "2022-05-04T23:14:45.904812",
     "exception": false,
     "start_time": "2022-05-04T23:14:45.879762",
     "status": "completed"
    },
    "tags": []
   },
   "outputs": [],
   "source": [
    "def fairseqify(text):\n",
    "    text = text.strip().replace(\"  \", \" \")\n",
    "    words = text.split(\" \")\n",
    "    spread = [\" \".join(a) for a in words]\n",
    "    return \" | \".join(spread) + \" |\""
   ]
  },
  {
   "cell_type": "code",
   "execution_count": 10,
   "id": "8ea50eeb",
   "metadata": {
    "execution": {
     "iopub.execute_input": "2022-05-04T23:14:45.939294Z",
     "iopub.status.busy": "2022-05-04T23:14:45.938940Z",
     "iopub.status.idle": "2022-05-04T23:14:46.138425Z",
     "shell.execute_reply": "2022-05-04T23:14:46.137336Z"
    },
    "papermill": {
     "duration": 0.219627,
     "end_time": "2022-05-04T23:14:46.140935",
     "exception": false,
     "start_time": "2022-05-04T23:14:45.921308",
     "status": "completed"
    },
    "tags": []
   },
   "outputs": [],
   "source": [
    "transcripts = {}\n",
    "with open(\"../input/ljspeech-for-asr/transcripts.tsv\") as tf:\n",
    "    for line in tf.readlines():\n",
    "        line = line.strip()\n",
    "        if not \"\\t\" in line:\n",
    "            pass\n",
    "        parts = line.split(\"\\t\")\n",
    "        assert len(parts) == 2\n",
    "        transcripts[parts[0]] = fairseqify(parts[1])"
   ]
  },
  {
   "cell_type": "code",
   "execution_count": 11,
   "id": "0399f121",
   "metadata": {
    "execution": {
     "iopub.execute_input": "2022-05-04T23:14:46.176504Z",
     "iopub.status.busy": "2022-05-04T23:14:46.176221Z",
     "iopub.status.idle": "2022-05-04T23:14:46.312791Z",
     "shell.execute_reply": "2022-05-04T23:14:46.311669Z"
    },
    "papermill": {
     "duration": 0.157719,
     "end_time": "2022-05-04T23:14:46.315719",
     "exception": false,
     "start_time": "2022-05-04T23:14:46.158000",
     "status": "completed"
    },
    "tags": []
   },
   "outputs": [],
   "source": [
    "import glob\n",
    "for tsv in glob.glob(\"*.tsv\"):\n",
    "    out = tsv.replace(\".tsv\", \".ltr\")\n",
    "    with open(tsv) as inf, open(out, \"w\") as outf:\n",
    "        for line in inf.readlines()[1:]:\n",
    "            id, _ = line.split(\"\\t\")\n",
    "            id = id.replace(\".wav\", \"\")\n",
    "            outf.write(f\"{transcripts[id]}\\n\")"
   ]
  },
  {
   "cell_type": "markdown",
   "id": "1cb4a335",
   "metadata": {
    "papermill": {
     "duration": 0.016822,
     "end_time": "2022-05-04T23:14:46.349621",
     "exception": false,
     "start_time": "2022-05-04T23:14:46.332799",
     "status": "completed"
    },
    "tags": []
   },
   "source": [
    "# Tidy up"
   ]
  },
  {
   "cell_type": "code",
   "execution_count": 12,
   "id": "dde16481",
   "metadata": {
    "execution": {
     "iopub.execute_input": "2022-05-04T23:14:46.388752Z",
     "iopub.status.busy": "2022-05-04T23:14:46.388199Z",
     "iopub.status.idle": "2022-05-04T23:14:48.303217Z",
     "shell.execute_reply": "2022-05-04T23:14:48.301964Z"
    },
    "papermill": {
     "duration": 1.939665,
     "end_time": "2022-05-04T23:14:48.305944",
     "exception": false,
     "start_time": "2022-05-04T23:14:46.366279",
     "status": "completed"
    },
    "tags": []
   },
   "outputs": [],
   "source": [
    "!for i in *mins.tsv;do b=$(basename $i \".tsv\");mkdir $b; mv $b.tsv $b/train.tsv; mv $b.ltr $b/train.ltr; cp test.* valid.* $b/;done\n",
    "!for i in *hrs.tsv;do b=$(basename $i \".tsv\");mkdir $b; mv $b.tsv $b/train.tsv; mv $b.ltr $b/train.ltr; cp test.* valid.* $b/;done"
   ]
  }
 ],
 "metadata": {
  "kernelspec": {
   "display_name": "Python 3",
   "language": "python",
   "name": "python3"
  },
  "language_info": {
   "codemirror_mode": {
    "name": "ipython",
    "version": 3
   },
   "file_extension": ".py",
   "mimetype": "text/x-python",
   "name": "python",
   "nbconvert_exporter": "python",
   "pygments_lexer": "ipython3",
   "version": "3.7.12"
  },
  "papermill": {
   "default_parameters": {},
   "duration": 19.703138,
   "end_time": "2022-05-04T23:14:49.045509",
   "environment_variables": {},
   "exception": null,
   "input_path": "__notebook__.ipynb",
   "output_path": "__notebook__.ipynb",
   "parameters": {},
   "start_time": "2022-05-04T23:14:29.342371",
   "version": "2.3.4"
  }
 },
 "nbformat": 4,
 "nbformat_minor": 5
}
