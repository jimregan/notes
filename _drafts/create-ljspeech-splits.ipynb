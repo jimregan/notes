{
 "cells": [
  {
   "cell_type": "markdown",
   "id": "a73a15e6",
   "metadata": {
    "papermill": {
     "duration": 0.017932,
     "end_time": "2022-05-04T23:09:33.433737",
     "exception": false,
     "start_time": "2022-05-04T23:09:33.415805",
     "status": "completed"
    },
    "tags": []
   },
   "source": [
    "# Split into train/test/valid"
   ]
  },
  {
   "cell_type": "code",
   "execution_count": 1,
   "id": "cf741c47",
   "metadata": {
    "_cell_guid": "b1076dfc-b9ad-4769-8c92-a6c4dae69d19",
    "_uuid": "8f2839f25d086af736a60e9eeb907d3b93b6e0e5",
    "execution": {
     "iopub.execute_input": "2022-05-04T23:09:33.468189Z",
     "iopub.status.busy": "2022-05-04T23:09:33.467844Z",
     "iopub.status.idle": "2022-05-04T23:09:34.977495Z",
     "shell.execute_reply": "2022-05-04T23:09:34.976601Z"
    },
    "papermill": {
     "duration": 1.529797,
     "end_time": "2022-05-04T23:09:34.980034",
     "exception": false,
     "start_time": "2022-05-04T23:09:33.450237",
     "status": "completed"
    },
    "tags": []
   },
   "outputs": [],
   "source": [
    "!echo /kaggle/input/ljspeech-for-asr/wav16/ > valid.tsv\n",
    "!cat ../input/ljspeech-for-asr/frames.tsv | tail -n $((1310)) | tail -n $((1310 / 2)) |awk -F'\\t' '{print $1 \".wav\\t\" $2}' >> valid.tsv"
   ]
  },
  {
   "cell_type": "code",
   "execution_count": 2,
   "id": "13272692",
   "metadata": {
    "execution": {
     "iopub.execute_input": "2022-05-04T23:09:35.014948Z",
     "iopub.status.busy": "2022-05-04T23:09:35.014620Z",
     "iopub.status.idle": "2022-05-04T23:09:36.516434Z",
     "shell.execute_reply": "2022-05-04T23:09:36.515501Z"
    },
    "papermill": {
     "duration": 1.522225,
     "end_time": "2022-05-04T23:09:36.518896",
     "exception": false,
     "start_time": "2022-05-04T23:09:34.996671",
     "status": "completed"
    },
    "tags": []
   },
   "outputs": [],
   "source": [
    "!echo /kaggle/input/ljspeech-for-asr/wav16/ > test.tsv\n",
    "!cat ../input/ljspeech-for-asr/frames.tsv | tail -n $((1310)) | head -n $((1310 / 2)) |awk -F'\\t' '{print $1 \".wav\\t\" $2}' >> test.tsv"
   ]
  },
  {
   "cell_type": "code",
   "execution_count": 3,
   "id": "7eb3b406",
   "metadata": {
    "execution": {
     "iopub.execute_input": "2022-05-04T23:09:36.555667Z",
     "iopub.status.busy": "2022-05-04T23:09:36.555379Z",
     "iopub.status.idle": "2022-05-04T23:09:38.099842Z",
     "shell.execute_reply": "2022-05-04T23:09:38.098931Z"
    },
    "papermill": {
     "duration": 1.565083,
     "end_time": "2022-05-04T23:09:38.102447",
     "exception": false,
     "start_time": "2022-05-04T23:09:36.537364",
     "status": "completed"
    },
    "tags": []
   },
   "outputs": [],
   "source": [
    "!echo /kaggle/input/ljspeech-for-asr/wav16/ > train.tsv\n",
    "!cat ../input/ljspeech-for-asr/frames.tsv | head -n $((13100 - 1310)) |awk -F'\\t' '{print $1 \".wav\\t\" $2}' >> train.tsv"
   ]
  },
  {
   "cell_type": "markdown",
   "id": "6d4c61a4",
   "metadata": {
    "papermill": {
     "duration": 0.016479,
     "end_time": "2022-05-04T23:09:38.135682",
     "exception": false,
     "start_time": "2022-05-04T23:09:38.119203",
     "status": "completed"
    },
    "tags": []
   },
   "source": [
    "# Load frame lengths"
   ]
  },
  {
   "cell_type": "code",
   "execution_count": 4,
   "id": "1d29506f",
   "metadata": {
    "execution": {
     "iopub.execute_input": "2022-05-04T23:09:38.170465Z",
     "iopub.status.busy": "2022-05-04T23:09:38.170161Z",
     "iopub.status.idle": "2022-05-04T23:09:38.196643Z",
     "shell.execute_reply": "2022-05-04T23:09:38.195841Z"
    },
    "papermill": {
     "duration": 0.04693,
     "end_time": "2022-05-04T23:09:38.198864",
     "exception": false,
     "start_time": "2022-05-04T23:09:38.151934",
     "status": "completed"
    },
    "tags": []
   },
   "outputs": [],
   "source": [
    "train_frames = {}\n",
    "\n",
    "with open(\"train.tsv\") as f:\n",
    "    for line in f.readlines():\n",
    "        if not \"\\t\" in line:\n",
    "            continue\n",
    "        pieces = line.strip().split(\"\\t\")\n",
    "        assert len(pieces) == 2\n",
    "        id = pieces[0].replace(\".wav\", \"\")\n",
    "        train_frames[id] = int(pieces[1])"
   ]
  },
  {
   "cell_type": "code",
   "execution_count": 5,
   "id": "9c2489a6",
   "metadata": {
    "execution": {
     "iopub.execute_input": "2022-05-04T23:09:38.233720Z",
     "iopub.status.busy": "2022-05-04T23:09:38.233199Z",
     "iopub.status.idle": "2022-05-04T23:09:38.237200Z",
     "shell.execute_reply": "2022-05-04T23:09:38.236637Z"
    },
    "papermill": {
     "duration": 0.023714,
     "end_time": "2022-05-04T23:09:38.239207",
     "exception": false,
     "start_time": "2022-05-04T23:09:38.215493",
     "status": "completed"
    },
    "tags": []
   },
   "outputs": [],
   "source": [
    "MINS = [i * 5 for i in range(1, 25)]\n",
    "HOURS = [i * 2 for i in range(1, 9)]"
   ]
  },
  {
   "cell_type": "code",
   "execution_count": 6,
   "id": "3a5e1387",
   "metadata": {
    "execution": {
     "iopub.execute_input": "2022-05-04T23:09:38.273732Z",
     "iopub.status.busy": "2022-05-04T23:09:38.273230Z",
     "iopub.status.idle": "2022-05-04T23:09:38.276757Z",
     "shell.execute_reply": "2022-05-04T23:09:38.276068Z"
    },
    "papermill": {
     "duration": 0.022849,
     "end_time": "2022-05-04T23:09:38.278549",
     "exception": false,
     "start_time": "2022-05-04T23:09:38.255700",
     "status": "completed"
    },
    "tags": []
   },
   "outputs": [],
   "source": [
    "WAVDIR = \"/kaggle/input/ljspeech-for-asr/wav16\""
   ]
  },
  {
   "cell_type": "markdown",
   "id": "df8b397b",
   "metadata": {
    "papermill": {
     "duration": 0.0162,
     "end_time": "2022-05-04T23:09:38.311043",
     "exception": false,
     "start_time": "2022-05-04T23:09:38.294843",
     "status": "completed"
    },
    "tags": []
   },
   "source": [
    "# Minute splits"
   ]
  },
  {
   "cell_type": "code",
   "execution_count": 7,
   "id": "ec59b07b",
   "metadata": {
    "execution": {
     "iopub.execute_input": "2022-05-04T23:09:38.346105Z",
     "iopub.status.busy": "2022-05-04T23:09:38.345339Z",
     "iopub.status.idle": "2022-05-04T23:09:38.480217Z",
     "shell.execute_reply": "2022-05-04T23:09:38.479266Z"
    },
    "papermill": {
     "duration": 0.154953,
     "end_time": "2022-05-04T23:09:38.482741",
     "exception": false,
     "start_time": "2022-05-04T23:09:38.327788",
     "status": "completed"
    },
    "tags": []
   },
   "outputs": [],
   "source": [
    "for min in MINS:\n",
    "    frames = min * 60 * 16000\n",
    "    idlist = [k for k in train_frames.keys()]\n",
    "    outtsv = f\"{min}mins.tsv\"\n",
    "    with open(outtsv, \"w\") as of:\n",
    "        current = 0\n",
    "        of.write(f\"{WAVDIR}\\n\")\n",
    "        while frames > 0 and frames > current:\n",
    "            id = idlist.pop(0)\n",
    "            current = train_frames[id]\n",
    "            of.write(f\"{id}.wav\\t{current}\\n\")\n",
    "            frames = frames - current\n",
    "        max = 0\n",
    "        maxid = \"\"\n",
    "        for id in idlist:\n",
    "            time = train_frames[id]\n",
    "            if time > current:\n",
    "                continue\n",
    "            if time > max:\n",
    "                max = time\n",
    "                maxid = id\n",
    "        of.write(f\"{maxid}.wav\\t{max}\\n\")"
   ]
  },
  {
   "cell_type": "markdown",
   "id": "9e414088",
   "metadata": {
    "papermill": {
     "duration": 0.016164,
     "end_time": "2022-05-04T23:09:38.515353",
     "exception": false,
     "start_time": "2022-05-04T23:09:38.499189",
     "status": "completed"
    },
    "tags": []
   },
   "source": [
    "# Hour splits"
   ]
  },
  {
   "cell_type": "code",
   "execution_count": 8,
   "id": "c8e2cdd3",
   "metadata": {
    "execution": {
     "iopub.execute_input": "2022-05-04T23:09:38.549296Z",
     "iopub.status.busy": "2022-05-04T23:09:38.549039Z",
     "iopub.status.idle": "2022-05-04T23:09:38.677990Z",
     "shell.execute_reply": "2022-05-04T23:09:38.677351Z"
    },
    "papermill": {
     "duration": 0.148773,
     "end_time": "2022-05-04T23:09:38.680336",
     "exception": false,
     "start_time": "2022-05-04T23:09:38.531563",
     "status": "completed"
    },
    "tags": []
   },
   "outputs": [],
   "source": [
    "for min in HOURS:\n",
    "    frames = min * 60 * 60 * 16000\n",
    "    idlist = [k for k in train_frames.keys()]\n",
    "    outtsv = f\"{min}hrs.tsv\"\n",
    "    with open(outtsv, \"w\") as of:\n",
    "        current = 0\n",
    "        of.write(f\"{WAVDIR}\\n\")\n",
    "        while frames > 0 and frames > current:\n",
    "            id = idlist.pop(0)\n",
    "            current = train_frames[id]\n",
    "            of.write(f\"{id}.wav\\t{current}\\n\")\n",
    "            frames = frames - current\n",
    "        max = 0\n",
    "        maxid = \"\"\n",
    "        for id in idlist:\n",
    "            time = train_frames[id]\n",
    "            if time > current:\n",
    "                continue\n",
    "            if time > max:\n",
    "                max = time\n",
    "                maxid = id\n",
    "        of.write(f\"{maxid}.wav\\t{max}\\n\")"
   ]
  },
  {
   "cell_type": "markdown",
   "id": "bcd7e7b9",
   "metadata": {
    "papermill": {
     "duration": 0.015915,
     "end_time": "2022-05-04T23:09:38.712557",
     "exception": false,
     "start_time": "2022-05-04T23:09:38.696642",
     "status": "completed"
    },
    "tags": []
   },
   "source": [
    "# Generate `ltr` files"
   ]
  },
  {
   "cell_type": "code",
   "execution_count": 9,
   "id": "0ebd7332",
   "metadata": {
    "execution": {
     "iopub.execute_input": "2022-05-04T23:09:38.746866Z",
     "iopub.status.busy": "2022-05-04T23:09:38.746267Z",
     "iopub.status.idle": "2022-05-04T23:09:38.751757Z",
     "shell.execute_reply": "2022-05-04T23:09:38.751198Z"
    },
    "papermill": {
     "duration": 0.024983,
     "end_time": "2022-05-04T23:09:38.753733",
     "exception": false,
     "start_time": "2022-05-04T23:09:38.728750",
     "status": "completed"
    },
    "tags": []
   },
   "outputs": [],
   "source": [
    "def fairseqify(text):\n",
    "    text = text.strip().replace(\"  \", \" \")\n",
    "    words = text.split(\" \")\n",
    "    spread = [\" \".join(a) for a in words]\n",
    "    return \" | \".join(spread) + \" |\""
   ]
  },
  {
   "cell_type": "code",
   "execution_count": 10,
   "id": "227283ae",
   "metadata": {
    "execution": {
     "iopub.execute_input": "2022-05-04T23:09:38.787935Z",
     "iopub.status.busy": "2022-05-04T23:09:38.787400Z",
     "iopub.status.idle": "2022-05-04T23:09:38.978671Z",
     "shell.execute_reply": "2022-05-04T23:09:38.977643Z"
    },
    "papermill": {
     "duration": 0.211271,
     "end_time": "2022-05-04T23:09:38.981133",
     "exception": false,
     "start_time": "2022-05-04T23:09:38.769862",
     "status": "completed"
    },
    "tags": []
   },
   "outputs": [],
   "source": [
    "transcripts = {}\n",
    "with open(\"../input/ljspeech-for-asr/transcripts.tsv\") as tf:\n",
    "    for line in tf.readlines():\n",
    "        line = line.strip()\n",
    "        if not \"\\t\" in line:\n",
    "            pass\n",
    "        parts = line.split(\"\\t\")\n",
    "        assert len(parts) == 2\n",
    "        transcripts[parts[0]] = fairseqify(parts[1])"
   ]
  },
  {
   "cell_type": "code",
   "execution_count": 11,
   "id": "f60ed753",
   "metadata": {
    "execution": {
     "iopub.execute_input": "2022-05-04T23:09:39.015906Z",
     "iopub.status.busy": "2022-05-04T23:09:39.015603Z",
     "iopub.status.idle": "2022-05-04T23:09:39.142911Z",
     "shell.execute_reply": "2022-05-04T23:09:39.142034Z"
    },
    "papermill": {
     "duration": 0.147405,
     "end_time": "2022-05-04T23:09:39.145272",
     "exception": false,
     "start_time": "2022-05-04T23:09:38.997867",
     "status": "completed"
    },
    "tags": []
   },
   "outputs": [],
   "source": [
    "import glob\n",
    "for tsv in glob.glob(\"*.tsv\"):\n",
    "    out = tsv.replace(\".tsv\", \".ltr\")\n",
    "    with open(tsv) as inf, open(out, \"w\") as outf:\n",
    "        for line in inf.readlines()[1:]:\n",
    "            id, _ = line.split(\"\\t\")\n",
    "            id = id.replace(\".wav\", \"\")\n",
    "            outf.write(f\"{transcripts[id]}\\n\")"
   ]
  },
  {
   "cell_type": "markdown",
   "id": "13acde78",
   "metadata": {
    "papermill": {
     "duration": 0.015938,
     "end_time": "2022-05-04T23:09:39.177691",
     "exception": false,
     "start_time": "2022-05-04T23:09:39.161753",
     "status": "completed"
    },
    "tags": []
   },
   "source": [
    "# Tidy up"
   ]
  },
  {
   "cell_type": "code",
   "execution_count": 12,
   "id": "5d5606fc",
   "metadata": {
    "execution": {
     "iopub.execute_input": "2022-05-04T23:09:39.211774Z",
     "iopub.status.busy": "2022-05-04T23:09:39.211484Z",
     "iopub.status.idle": "2022-05-04T23:09:41.007833Z",
     "shell.execute_reply": "2022-05-04T23:09:41.006547Z"
    },
    "papermill": {
     "duration": 1.816538,
     "end_time": "2022-05-04T23:09:41.010450",
     "exception": false,
     "start_time": "2022-05-04T23:09:39.193912",
     "status": "completed"
    },
    "tags": []
   },
   "outputs": [],
   "source": [
    "!for i in *mins.tsv;do b=$(basename $i \".tsv\");mkdir $b; mv $b.tsv $b/train.tsv; mv $b.ltr $b/train.ltr; cp test.* valid.* $b/;done\n",
    "!for i in *hrs.tsv;do b=$(basename $i \".tsv\");mkdir $b; mv $b.tsv $b.ltr $b/; cp test.* valid.* $b/;done"
   ]
  }
 ],
 "metadata": {
  "kernelspec": {
   "display_name": "Python 3",
   "language": "python",
   "name": "python3"
  },
  "language_info": {
   "codemirror_mode": {
    "name": "ipython",
    "version": 3
   },
   "file_extension": ".py",
   "mimetype": "text/x-python",
   "name": "python",
   "nbconvert_exporter": "python",
   "pygments_lexer": "ipython3",
   "version": "3.7.12"
  },
  "papermill": {
   "default_parameters": {},
   "duration": 18.210481,
   "end_time": "2022-05-04T23:09:41.747572",
   "environment_variables": {},
   "exception": null,
   "input_path": "__notebook__.ipynb",
   "output_path": "__notebook__.ipynb",
   "parameters": {},
   "start_time": "2022-05-04T23:09:23.537091",
   "version": "2.3.4"
  }
 },
 "nbformat": 4,
 "nbformat_minor": 5
}
