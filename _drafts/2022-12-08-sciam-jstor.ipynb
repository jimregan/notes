{
 "cells": [
  {
   "cell_type": "markdown",
   "metadata": {},
   "source": [
    "# Scraper for ICASSP from IEEE\n",
    "\n",
    "> \"From a pre-extracted page, content seems to be fetched separately\"\n",
    "\n",
    "- hidden: true\n",
    "- toc: false\n",
    "- badges: true\n",
    "- categories: [scraper, icassp]"
   ]
  },
  {
   "cell_type": "code",
   "execution_count": 2,
   "metadata": {},
   "outputs": [],
   "source": [
    "from bs4 import BeautifulSoup"
   ]
  },
  {
   "cell_type": "markdown",
   "metadata": {},
   "source": [
    "The temporary file below is extracted from [IEEE](https://ieeexplore.ieee.org/xpl/conhome/1000002/all-proceedings)"
   ]
  },
  {
   "cell_type": "code",
   "execution_count": 20,
   "metadata": {},
   "outputs": [],
   "source": [
    "with open(\"/tmp/icassp\") as inf:\n",
    "    html = inf.read()"
   ]
  },
  {
   "cell_type": "code",
   "execution_count": 21,
   "metadata": {},
   "outputs": [],
   "source": [
    "soup = BeautifulSoup(html, 'html.parser')"
   ]
  },
  {
   "cell_type": "code",
   "execution_count": 22,
   "metadata": {},
   "outputs": [],
   "source": [
    "top = soup.find(\"div\", {\"class\": \"issue-list-container\"})"
   ]
  },
  {
   "cell_type": "code",
   "execution_count": 23,
   "metadata": {},
   "outputs": [],
   "source": [
    "import re"
   ]
  },
  {
   "cell_type": "code",
   "execution_count": 51,
   "metadata": {},
   "outputs": [],
   "source": [
    "data = []\n",
    "for li in top.find_all(\"li\", {\"_ngcontent-ftl-c305\": \"\"}):\n",
    "    raw = li.text.strip()\n",
    "    m1 = re.search(\"^ICASSP (20\\d\\d).*\", raw)\n",
    "    m2 = re.search(\".*((?:20|19)\\d\\d) (?:IEEE )?International.*\", raw)\n",
    "    m3 = re.search(\".*ICASSP '(\\d\\d).*\", raw)\n",
    "    if m1:\n",
    "        year = m1.group(1)\n",
    "    elif m2:\n",
    "        year = m2.group(1)\n",
    "    elif m3:\n",
    "        year = m3.group(1)\n",
    "        # Why yes, in this, the Year of Our Lord, 2022,\n",
    "        # writing this scraper has meant having to do\n",
    "        # Y2K compensation\n",
    "        if year.startswith(\"0\"):\n",
    "            year = \"20\" + year\n",
    "        else:\n",
    "            year = \"19\" + year\n",
    "    elif raw == \"International Conference on Acoustics, Speech, and Signal Processing\":\n",
    "        year = \"1990\"\n",
    "    elif raw == \"International Conference on Acoustics, Speech, and Signal Processing,\":\n",
    "        year == \"1989\"\n",
    "    elif raw.startswith(\"ICASSP-88.,\"):\n",
    "        year = \"1988\"\n",
    "    loc_tag = li.find(\"span\", {\"_ngcontent-ftl-c305\": \"\"})\n",
    "    if loc_tag:\n",
    "        loc = loc_tag.text.strip().replace(\"Location: \", \"\")\n",
    "    a_tag = li.find(\"a\")\n",
    "    href = a_tag.attrs[\"href\"]\n",
    "    data.append([href, raw, year, loc])"
   ]
  },
  {
   "cell_type": "code",
   "execution_count": null,
   "metadata": {},
   "outputs": [],
   "source": [
    "data"
   ]
  },
  {
   "cell_type": "code",
   "execution_count": 18,
   "metadata": {},
   "outputs": [],
   "source": [
    "from IPython.display import display, Markdown"
   ]
  },
  {
   "cell_type": "code",
   "execution_count": null,
   "metadata": {},
   "outputs": [],
   "source": [
    "display(Markdown(\"\\n\".join(data)))"
   ]
  }
 ],
 "metadata": {
  "kernelspec": {
   "display_name": "Python 3.10.4 ('ctcseg')",
   "language": "python",
   "name": "python3"
  },
  "language_info": {
   "codemirror_mode": {
    "name": "ipython",
    "version": 3
   },
   "file_extension": ".py",
   "mimetype": "text/x-python",
   "name": "python",
   "nbconvert_exporter": "python",
   "pygments_lexer": "ipython3",
   "version": "3.10.4"
  },
  "orig_nbformat": 4,
  "vscode": {
   "interpreter": {
    "hash": "04f1aebeda7ca92f6170d2806fa3f3c0cbb14da723fd908a9af630117dfe1004"
   }
  }
 },
 "nbformat": 4,
 "nbformat_minor": 2
}
