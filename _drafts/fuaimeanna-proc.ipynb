{
 "cells": [
  {
   "cell_type": "code",
   "execution_count": null,
   "metadata": {},
   "outputs": [],
   "source": [
    "from pathlib import Path\n",
    "BASEPATH = Path(\"/Users/joregan/Playing/irish-gists/scrape-fuaimeanna-private/\")\n",
    "OUTPATH = Path(\"/tmp/fuaimeanna-fairseq\")"
   ]
  },
  {
   "cell_type": "code",
   "execution_count": 14,
   "metadata": {},
   "outputs": [],
   "source": [
    "if not OUTPATH.is_dir():\n",
    "    OUTPATH.mkdir()"
   ]
  },
  {
   "cell_type": "code",
   "execution_count": 9,
   "metadata": {},
   "outputs": [],
   "source": [
    "EMPTY_AUDIO = \"\"\"\n",
    "gob_i3_s3.mp3\n",
    "iioctha_i3_s3.mp3\n",
    "mo_shuiiochaan_i3_s3.mp3\n",
    "riail_i3_s3.mp3\n",
    "\"\"\".strip().split(\"\\n\")"
   ]
  },
  {
   "cell_type": "code",
   "execution_count": 7,
   "metadata": {},
   "outputs": [],
   "source": [
    "PHONES_NO_AUDIO = \"\"\"\n",
    "d'fhaag_i1_s1.phones\n",
    "d'fhaag_i2_s2.phones\n",
    "d'fhaag_i3_s3.phones\n",
    "\"\"\".strip().split(\"\\n\")"
   ]
  },
  {
   "cell_type": "code",
   "execution_count": 3,
   "metadata": {},
   "outputs": [],
   "source": [
    "parameters=[\"-ac\", \"1\", \"-acodec\", \"pcm_s16le\", \"-ar\", \"16000\"]"
   ]
  },
  {
   "cell_type": "code",
   "execution_count": 5,
   "metadata": {},
   "outputs": [],
   "source": [
    "from pydub import AudioSegment"
   ]
  },
  {
   "cell_type": "code",
   "execution_count": 25,
   "metadata": {},
   "outputs": [],
   "source": [
    "def drop_accents(pron):\n",
    "    parts = pron.split(\" \")\n",
    "    return \" \".join([x for x in parts if x not in [\".\", \"ˈ\"]])"
   ]
  },
  {
   "cell_type": "code",
   "execution_count": 26,
   "metadata": {},
   "outputs": [],
   "source": [
    "prons_gd = {}\n",
    "prons_cr = {}\n",
    "prons_cd = {}\n",
    "with open(str(BASEPATH / \"all-fuaimeanna-data.tsv\")) as tsvf:\n",
    "    for line in tsvf.readlines():\n",
    "        if line.startswith(\"Orth\"):\n",
    "            continue\n",
    "        parts = line.split(\"\\t\")\n",
    "        fname = parts[1]\n",
    "        fname = fname.replace(\".mp3\", \"\").split(\"/\")[2]\n",
    "        prons_gd[fname] = drop_accents(parts[2].strip())\n",
    "        fname = parts[3]\n",
    "        fname = fname.replace(\".mp3\", \"\").split(\"/\")[2]\n",
    "        prons_cr[fname] = drop_accents(parts[4].strip())\n",
    "        fname = parts[5]\n",
    "        fname = fname.replace(\".mp3\", \"\").split(\"/\")[2]\n",
    "        prons_cd[fname] = drop_accents(parts[6].strip())\n"
   ]
  },
  {
   "cell_type": "code",
   "execution_count": 29,
   "metadata": {},
   "outputs": [],
   "source": [
    "prons_all = {**prons_cd, **prons_cr, **prons_gd}"
   ]
  },
  {
   "cell_type": "code",
   "execution_count": 53,
   "metadata": {},
   "outputs": [],
   "source": [
    "# get a validation set from 5% of each\n",
    "validkeys = list(prons_cd.keys())[:int(len(prons_cd) * .05)]\n",
    "validkeys += list(prons_cr.keys())[:int(len(prons_cr) * .05)]\n",
    "validkeys += list(prons_gd.keys())[:int(len(prons_gd) * .05)]"
   ]
  },
  {
   "cell_type": "code",
   "execution_count": 31,
   "metadata": {},
   "outputs": [],
   "source": [
    "alldata = []\n",
    "for audio_file in (BASEPATH / \"mp3\").glob(\"*.mp3\"):\n",
    "    if audio_file.name in EMPTY_AUDIO:\n",
    "        continue\n",
    "    stem = audio_file.stem\n",
    "    if f\"{stem}.phones\" in PHONES_NO_AUDIO:\n",
    "        continue\n",
    "    data = {}\n",
    "    data[\"name\"] = stem\n",
    "    spoken = AudioSegment.from_mp3(str(audio_file))\n",
    "    outfile = OUTPATH / f\"{stem}.wav\"\n",
    "    spoken.export(str(outfile), format=\"wav\", parameters=parameters)\n",
    "    data[\"labels\"] = prons_all[stem].replace(\"#\", \"|\")\n",
    "    data[\"frames\"] = spoken.frame_count()\n",
    "    alldata.append(data)"
   ]
  }
 ],
 "metadata": {
  "kernelspec": {
   "display_name": "hf",
   "language": "python",
   "name": "python3"
  },
  "language_info": {
   "codemirror_mode": {
    "name": "ipython",
    "version": 3
   },
   "file_extension": ".py",
   "mimetype": "text/x-python",
   "name": "python",
   "nbconvert_exporter": "python",
   "pygments_lexer": "ipython3",
   "version": "3.9.15"
  },
  "orig_nbformat": 4
 },
 "nbformat": 4,
 "nbformat_minor": 2
}
