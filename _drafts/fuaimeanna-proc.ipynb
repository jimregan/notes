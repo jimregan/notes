{
 "cells": [
  {
   "cell_type": "code",
   "execution_count": null,
   "metadata": {},
   "outputs": [],
   "source": [
    "from pathlib import Path\n",
    "BASEPATH = Path(\"/Users/joregan/Playing/irish-gists/scrape-fuaimeanna-private/\")\n",
    "OUTPATH = Path(\"/tmp/fuaimeanna-fairseq\")"
   ]
  },
  {
   "cell_type": "code",
   "execution_count": 14,
   "metadata": {},
   "outputs": [],
   "source": [
    "if not OUTPATH.is_dir():\n",
    "    OUTPATH.mkdir()"
   ]
  },
  {
   "cell_type": "code",
   "execution_count": 9,
   "metadata": {},
   "outputs": [],
   "source": [
    "EMPTY_AUDIO = \"\"\"\n",
    "gob_i3_s3.mp3\n",
    "iioctha_i3_s3.mp3\n",
    "mo_shuiiochaan_i3_s3.mp3\n",
    "riail_i3_s3.mp3\n",
    "\"\"\".strip().split(\"\\n\")"
   ]
  },
  {
   "cell_type": "code",
   "execution_count": 7,
   "metadata": {},
   "outputs": [],
   "source": [
    "PHONES_NO_AUDIO = \"\"\"\n",
    "d'fhaag_i1_s1.phones\n",
    "d'fhaag_i2_s2.phones\n",
    "d'fhaag_i3_s3.phones\n",
    "\"\"\".strip().split(\"\\n\")"
   ]
  },
  {
   "cell_type": "code",
   "execution_count": 3,
   "metadata": {},
   "outputs": [],
   "source": [
    "parameters=[\"-ac\", \"1\", \"-acodec\", \"pcm_s16le\", \"-ar\", \"16000\"]"
   ]
  },
  {
   "cell_type": "code",
   "execution_count": 5,
   "metadata": {},
   "outputs": [],
   "source": [
    "from pydub import AudioSegment"
   ]
  },
  {
   "cell_type": "code",
   "execution_count": 16,
   "metadata": {},
   "outputs": [],
   "source": [
    "alldata = []\n",
    "for audio_file in (BASEPATH / \"mp3\").glob(\"*.mp3\"):\n",
    "    if audio_file.name in EMPTY_AUDIO:\n",
    "        continue\n",
    "    stem = audio_file.stem\n",
    "    if f\"{stem}.phones\" in PHONES_NO_AUDIO:\n",
    "        continue\n",
    "    data = {}\n",
    "    data[\"name\"] = stem\n",
    "    spoken = AudioSegment.from_mp3(str(audio_file))\n",
    "    outfile = OUTPATH / f\"{stem}.wav\"\n",
    "    spoken.export(str(outfile), format=\"wav\", parameters=parameters)\n",
    "    with open(str(BASEPATH / \"label\" / f\"{stem}.phones\")) as labelfile:\n",
    "        lines = labelfile.readlines()\n",
    "        if len(lines) != 1:\n",
    "            print(\"Phone error\", stem)\n",
    "        labels = lines[0].strip().replace(\"#\", \"|\")\n",
    "        data[\"labels\"] = labels\n",
    "        data[\"frames\"] = spoken.frame_count()\n",
    "    alldata.append(data)"
   ]
  },
  {
   "cell_type": "code",
   "execution_count": 12,
   "metadata": {},
   "outputs": [
    {
     "data": {
      "text/plain": [
       "'buii_i2_s2.mp3'"
      ]
     },
     "execution_count": 12,
     "metadata": {},
     "output_type": "execute_result"
    }
   ],
   "source": [
    "audio_file.name"
   ]
  }
 ],
 "metadata": {
  "kernelspec": {
   "display_name": "hf",
   "language": "python",
   "name": "python3"
  },
  "language_info": {
   "codemirror_mode": {
    "name": "ipython",
    "version": 3
   },
   "file_extension": ".py",
   "mimetype": "text/x-python",
   "name": "python",
   "nbconvert_exporter": "python",
   "pygments_lexer": "ipython3",
   "version": "3.9.15"
  },
  "orig_nbformat": 4
 },
 "nbformat": 4,
 "nbformat_minor": 2
}
