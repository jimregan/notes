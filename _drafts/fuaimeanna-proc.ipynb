{
 "cells": [
  {
   "cell_type": "code",
   "execution_count": 57,
   "metadata": {},
   "outputs": [],
   "source": [
    "from pathlib import Path\n",
    "BASEPATH = Path(\"/Users/joregan/Playing/irish-gists/scrape-fuaimeanna-private/\")\n",
    "OUTPATH = Path(\"/tmp/fuaimeanna-fairseq\")"
   ]
  },
  {
   "cell_type": "code",
   "execution_count": 58,
   "metadata": {},
   "outputs": [],
   "source": [
    "if not OUTPATH.is_dir():\n",
    "    OUTPATH.mkdir()"
   ]
  },
  {
   "cell_type": "code",
   "execution_count": 59,
   "metadata": {},
   "outputs": [],
   "source": [
    "EMPTY_AUDIO = \"\"\"\n",
    "gob_i3_s3.mp3\n",
    "iioctha_i3_s3.mp3\n",
    "mo_shuiiochaan_i3_s3.mp3\n",
    "riail_i3_s3.mp3\n",
    "\"\"\".strip().split(\"\\n\")"
   ]
  },
  {
   "cell_type": "code",
   "execution_count": 60,
   "metadata": {},
   "outputs": [],
   "source": [
    "PHONES_NO_AUDIO = \"\"\"\n",
    "d'fhaag_i1_s1.phones\n",
    "d'fhaag_i2_s2.phones\n",
    "d'fhaag_i3_s3.phones\n",
    "\"\"\".strip().split(\"\\n\")"
   ]
  },
  {
   "cell_type": "code",
   "execution_count": 61,
   "metadata": {},
   "outputs": [],
   "source": [
    "parameters=[\"-ac\", \"1\", \"-acodec\", \"pcm_s16le\", \"-ar\", \"16000\"]"
   ]
  },
  {
   "cell_type": "code",
   "execution_count": 62,
   "metadata": {},
   "outputs": [],
   "source": [
    "from pydub import AudioSegment"
   ]
  },
  {
   "cell_type": "code",
   "execution_count": 71,
   "metadata": {},
   "outputs": [],
   "source": [
    "def drop_accents(pron):\n",
    "    parts = pron.split(\" \")\n",
    "    return \" \".join([x for x in parts if x not in [\".\", \"ˈ\", \"ˌ\"]])"
   ]
  },
  {
   "cell_type": "code",
   "execution_count": 72,
   "metadata": {},
   "outputs": [],
   "source": [
    "prons_gd = {}\n",
    "prons_cr = {}\n",
    "prons_cd = {}\n",
    "with open(str(BASEPATH / \"all-fuaimeanna-data.tsv\")) as tsvf:\n",
    "    for line in tsvf.readlines():\n",
    "        if line.startswith(\"Orth\"):\n",
    "            continue\n",
    "        parts = line.split(\"\\t\")\n",
    "        fname = parts[1]\n",
    "        fname = fname.replace(\".mp3\", \"\").split(\"/\")[2]\n",
    "        prons_gd[fname] = drop_accents(parts[2].strip())\n",
    "        fname = parts[3]\n",
    "        fname = fname.replace(\".mp3\", \"\").split(\"/\")[2]\n",
    "        prons_cr[fname] = drop_accents(parts[4].strip())\n",
    "        fname = parts[5]\n",
    "        fname = fname.replace(\".mp3\", \"\").split(\"/\")[2]\n",
    "        prons_cd[fname] = drop_accents(parts[6].strip())\n"
   ]
  },
  {
   "cell_type": "code",
   "execution_count": 73,
   "metadata": {},
   "outputs": [],
   "source": [
    "prons_all = {**prons_cd, **prons_cr, **prons_gd}"
   ]
  },
  {
   "cell_type": "code",
   "execution_count": 74,
   "metadata": {},
   "outputs": [],
   "source": [
    "# get a validation set from 5% of each\n",
    "validkeys = list(prons_cd.keys())[:int(len(prons_cd) * .05)]\n",
    "validkeys += list(prons_cr.keys())[:int(len(prons_cr) * .05)]\n",
    "validkeys += list(prons_gd.keys())[:int(len(prons_gd) * .05)]"
   ]
  },
  {
   "cell_type": "code",
   "execution_count": 67,
   "metadata": {},
   "outputs": [],
   "source": [
    "alldata = []\n",
    "for audio_file in (BASEPATH / \"mp3\").glob(\"*.mp3\"):\n",
    "    if audio_file.name in EMPTY_AUDIO:\n",
    "        continue\n",
    "    stem = audio_file.stem\n",
    "    if f\"{stem}.phones\" in PHONES_NO_AUDIO:\n",
    "        continue\n",
    "    data = {}\n",
    "    data[\"name\"] = stem\n",
    "    spoken = AudioSegment.from_mp3(str(audio_file))\n",
    "    outfile = OUTPATH / f\"{stem}.wav\"\n",
    "    spoken.export(str(outfile), format=\"wav\", parameters=parameters)\n",
    "    data[\"labels\"] = prons_all[stem].replace(\"#\", \"|\")\n",
    "    data[\"frames\"] = spoken.frame_count()\n",
    "    alldata.append(data)"
   ]
  },
  {
   "cell_type": "code",
   "execution_count": 70,
   "metadata": {},
   "outputs": [],
   "source": [
    "with open(str(OUTPATH / \"train.ltr\"), \"w\") as train_ltr,\\\n",
    "     open(str(OUTPATH / \"train.tsv\"), \"w\") as train_tsv,\\\n",
    "     open(str(OUTPATH / \"valid.ltr\"), \"w\") as valid_ltr,\\\n",
    "     open(str(OUTPATH / \"valid.tsv\"), \"w\") as valid_tsv:\n",
    "    for datum in alldata:\n",
    "        if datum[\"name\"] in validkeys:\n",
    "            out_ltr = valid_ltr\n",
    "            out_tsv = valid_tsv\n",
    "        else:\n",
    "            out_ltr = train_ltr\n",
    "            out_tsv = train_tsv\n",
    "        out_ltr.write(f'{datum[\"labels\"]} |\\n')\n",
    "        out_tsv.write(f'{datum[\"name\"]}.wav\\t{int(datum[\"frames\"])}\\n') "
   ]
  }
 ],
 "metadata": {
  "kernelspec": {
   "display_name": "hf",
   "language": "python",
   "name": "python3"
  },
  "language_info": {
   "codemirror_mode": {
    "name": "ipython",
    "version": 3
   },
   "file_extension": ".py",
   "mimetype": "text/x-python",
   "name": "python",
   "nbconvert_exporter": "python",
   "pygments_lexer": "ipython3",
   "version": "3.9.15"
  },
  "orig_nbformat": 4
 },
 "nbformat": 4,
 "nbformat_minor": 2
}
