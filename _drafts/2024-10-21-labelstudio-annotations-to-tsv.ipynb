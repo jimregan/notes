{
 "cells": [
  {
   "cell_type": "markdown",
   "metadata": {},
   "source": [
    "# LabelStudio annotations to TSV\n",
    "\n",
    "> \"raw output\"\n",
    "\n",
    "- branch: master\n",
    "- hidden: true\n",
    "- comments: false\n",
    "- categories: [labelstudio, trim, csv]"
   ]
  },
  {
   "cell_type": "markdown",
   "metadata": {},
   "source": [
    "Version of [this]({% post_url 2024-09-25-trim-labelstudio-annotations-write-tsv %}) that does not trim the outputs."
   ]
  },
  {
   "cell_type": "code",
   "execution_count": 1,
   "metadata": {},
   "outputs": [],
   "source": [
    "def slurpfile(filename) -> str:\n",
    "    with open(filename) as inf:\n",
    "        return inf.read().strip()"
   ]
  },
  {
   "cell_type": "markdown",
   "metadata": {},
   "source": [
    "The API key is just read from `label_studio_mine` in the current directory (relative to the notebook). It's available under \"Accounts & Settings\" in the user menu, top right of the screen."
   ]
  },
  {
   "cell_type": "code",
   "execution_count": 2,
   "metadata": {
    "tags": [
     "parameters"
    ]
   },
   "outputs": [],
   "source": [
    "timecode_dir = \"/Users/joregan/timecode_cut\"\n",
    "output_dir = \"/tmp/textgrid_cut\"\n",
    "host = \"http://130.237.3.107:8080/api/\"\n",
    "api_token: str = slurpfile(\"label_studio_mine\")"
   ]
  },
  {
   "cell_type": "code",
   "execution_count": 3,
   "metadata": {},
   "outputs": [],
   "source": [
    "from pathlib import Path\n",
    "\n",
    "timecode_path = Path(timecode_dir)\n",
    "output_path = Path(output_dir)"
   ]
  },
  {
   "cell_type": "code",
   "execution_count": 4,
   "metadata": {},
   "outputs": [],
   "source": [
    "def get_timecode_offsets(filename):\n",
    "    if type(filename) == Path:\n",
    "        filename = str(filename)\n",
    "\n",
    "    with open(filename) as inf:\n",
    "        lines = [l.strip() for l in inf.readlines()]\n",
    "        assert lines[0] == \",Frame,Time (Seconds),TimeCode\", f\"CSV file ({filename}) seems to be incorrect\"\n",
    "        p_start = lines[1].split(\",\")\n",
    "        start = float(p_start[2])\n",
    "        p_end = lines[-1].split(\",\")\n",
    "        end = float(p_end[2])\n",
    "        return start, end"
   ]
  },
  {
   "cell_type": "code",
   "execution_count": 5,
   "metadata": {},
   "outputs": [],
   "source": [
    "import requests\n",
    "import json\n",
    "from pathlib import Path\n",
    "\n",
    "headers = {\n",
    "    \"Authorization\": f\"Token {api_token}\"\n",
    "}"
   ]
  },
  {
   "cell_type": "markdown",
   "metadata": {},
   "source": [
    "FIXME: need a better way to get these than hardcoding a list, but that will take a bunch of reading API docs"
   ]
  },
  {
   "cell_type": "code",
   "execution_count": 6,
   "metadata": {},
   "outputs": [],
   "source": [
    "IDS = [\n",
    "    311,\n",
    "    308,\n",
    "    312,\n",
    "    313,\n",
    "    309,\n",
    "    310,\n",
    "    314,\n",
    "    315,\n",
    "    317,\n",
    "    316,\n",
    "    318,\n",
    "    319,\n",
    "    320,\n",
    "    322,\n",
    "    321,\n",
    "    324,\n",
    "    326,\n",
    "    327,\n",
    "    330,\n",
    "    329,\n",
    "    331,\n",
    "    332,\n",
    "    333,\n",
    "    334,\n",
    "    335,\n",
    "    338,\n",
    "    340,\n",
    "    328,\n",
    "    337,\n",
    "    325,\n",
    "    341,\n",
    "    323,\n",
    "    336,\n",
    "    164,\n",
    "    165,\n",
    "    166,\n",
    "    167,\n",
    "    168,\n",
    "    169,\n",
    "    170,\n",
    "    171,\n",
    "    172,\n",
    "    173,\n",
    "    174,\n",
    "    175,\n",
    "    176,\n",
    "    177,\n",
    "    178\n",
    "]"
   ]
  },
  {
   "cell_type": "code",
   "execution_count": 7,
   "metadata": {},
   "outputs": [],
   "source": [
    "def get_task(task_id):\n",
    "    ep = f\"{host}tasks/{task_id}\"\n",
    "    req = requests.get(ep, headers=headers)\n",
    "    if req.status_code != 200:\n",
    "        return {}\n",
    "    data = json.loads(req.text)\n",
    "    return data"
   ]
  },
  {
   "cell_type": "code",
   "execution_count": 8,
   "metadata": {},
   "outputs": [],
   "source": [
    "def get_annotation(annot_it):\n",
    "    ep = f\"{host}annotations/{annot_it}\"\n",
    "    req = requests.get(ep, headers=headers)\n",
    "    assert req.status_code == 200\n",
    "    data = json.loads(req.text)\n",
    "    return data"
   ]
  },
  {
   "cell_type": "code",
   "execution_count": 37,
   "metadata": {},
   "outputs": [],
   "source": [
    "data = get_annotation(264)"
   ]
  },
  {
   "cell_type": "code",
   "execution_count": 9,
   "metadata": {},
   "outputs": [],
   "source": [
    "def combine_labels(data):\n",
    "    combined = {}\n",
    "\n",
    "    if \"result\" in data:\n",
    "        for res in data[\"result\"]:\n",
    "            if not res[\"id\"] in combined:\n",
    "                combined[res[\"id\"]] = res\n",
    "            else:\n",
    "                if \"text\" in res[\"value\"]:\n",
    "                    combined[res[\"id\"]][\"value\"][\"text\"] = res[\"value\"][\"text\"]\n",
    "                elif \"labels\" in res[\"value\"]:\n",
    "                    combined[res[\"id\"]][\"value\"][\"labels\"] = res[\"value\"][\"labels\"]\n",
    "    return combined"
   ]
  },
  {
   "cell_type": "code",
   "execution_count": 10,
   "metadata": {},
   "outputs": [],
   "source": [
    "def adjust_times_write_tsv(data):\n",
    "    task = data[\"task\"]\n",
    "    task_data = get_task(task)\n",
    "    if \"data\" in task_data and \"audio\" in task_data[\"data\"]:\n",
    "        orig_file = task_data[\"data\"][\"audio\"]\n",
    "        parts = orig_file.split(\"/\")\n",
    "        orig_file = parts[-1]\n",
    "    if orig_file:\n",
    "        out_part = orig_file.replace(\".wav\", \".tsv\")\n",
    "    else:\n",
    "        return []\n",
    "\n",
    "    out_file = output_path / out_part\n",
    "    if not output_path.is_dir():\n",
    "        output_path.mkdir()\n",
    "\n",
    "    results = []\n",
    "\n",
    "    combined = combine_labels(data)\n",
    "\n",
    "    for item in combined:\n",
    "        val = combined[item][\"value\"]\n",
    "        if not \"labels\" in val:\n",
    "            continue\n",
    "        if not \"Speech\" in val[\"labels\"]:\n",
    "            continue\n",
    "        start = val[\"start\"]\n",
    "        end = val[\"end\"]\n",
    "        text = val[\"text\"]\n",
    "        if len(text) > 1:\n",
    "            for t in text:\n",
    "                if not (t.startswith(\"/\") and t.endswith(\"/\")):\n",
    "                    text = t\n",
    "        else:\n",
    "            text = text[0]\n",
    "        results.append((start, end, text))\n",
    "\n",
    "        \n",
    "    with open(out_file, \"w\") as outf:\n",
    "        for res in results:\n",
    "            outf.write(\"\\t\".join([str(x) for x in list(res)]) + \"\\n\")\n",
    "        "
   ]
  },
  {
   "cell_type": "code",
   "execution_count": 11,
   "metadata": {},
   "outputs": [],
   "source": [
    "for transcription in IDS:\n",
    "    data = get_annotation(transcription)\n",
    "    if not \"task\" in data:\n",
    "        print(\"Error with task\", transcription)\n",
    "        continue\n",
    "    else:\n",
    "        adjust_times_write_tsv(data)"
   ]
  }
 ],
 "metadata": {
  "kernelspec": {
   "display_name": "ctcseg",
   "language": "python",
   "name": "python3"
  },
  "language_info": {
   "codemirror_mode": {
    "name": "ipython",
    "version": 3
   },
   "file_extension": ".py",
   "mimetype": "text/x-python",
   "name": "python",
   "nbconvert_exporter": "python",
   "pygments_lexer": "ipython3",
   "version": "3.10.4"
  }
 },
 "nbformat": 4,
 "nbformat_minor": 2
}
