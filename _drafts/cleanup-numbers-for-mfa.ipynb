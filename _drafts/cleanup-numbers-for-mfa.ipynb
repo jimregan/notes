{
 "cells": [
  {
   "cell_type": "code",
   "execution_count": 4,
   "metadata": {},
   "outputs": [],
   "source": [
    "from pathlib import Path\n",
    "BASEPATH = Path(\"/home/joregan/hsi_mfa\")"
   ]
  },
  {
   "cell_type": "code",
   "execution_count": 5,
   "metadata": {},
   "outputs": [
    {
     "name": "stdout",
     "output_type": "stream",
     "text": [
      "Requirement already satisfied: num2words in /home/joregan/miniconda3/envs/mfa/lib/python3.10/site-packages (0.5.13)\n",
      "Requirement already satisfied: docopt>=0.6.2 in /home/joregan/miniconda3/envs/mfa/lib/python3.10/site-packages (from num2words) (0.6.2)\n",
      "Note: you may need to restart the kernel to use updated packages.\n"
     ]
    }
   ],
   "source": [
    "%pip install num2words"
   ]
  },
  {
   "cell_type": "code",
   "execution_count": 6,
   "metadata": {},
   "outputs": [],
   "source": [
    "from num2words import num2words"
   ]
  },
  {
   "cell_type": "code",
   "execution_count": 8,
   "metadata": {},
   "outputs": [],
   "source": [
    "import re\n",
    "\n",
    "def get_words(word):\n",
    "    if re.match(\"^[2-9]0s$\", word):\n",
    "        oword = num2words(int(word[0:-1]), lang=\"en\")\n",
    "        return oword[:-1] + \"ies\"\n",
    "    if re.match(\"^[0-9]+(?:th|st|nd|rd)$\", word):\n",
    "        return num2words(int(word[0:-2]), lang=\"en\", to=\"ordinal\")\n",
    "    if re.match(\"^[0-9]+(?:,[0-9][0-9][0-9])+$\", word):\n",
    "        return num2words(int(word.replace(\",\", \"\")), lang=\"en\")\n",
    "    if re.match(\"^\\$[0-9]+(?:,[0-9][0-9][0-9])*$\", word):\n",
    "        return num2words(int(word[1:].replace(\",\", \"\")), lang=\"en\") + \" dollars\"\n",
    "    if re.match(\"^20[1-9][0-9]$\", word):\n",
    "        return \"twenty \" + num2words(int(word[2:]), lang=\"en\")\n",
    "    if re.match(\"^[0-9]+$\"):\n",
    "        return num2words(int(word))\n",
    "    return word"
   ]
  },
  {
   "cell_type": "code",
   "execution_count": 9,
   "metadata": {},
   "outputs": [
    {
     "data": {
      "text/plain": [
       "'two thousand and nineteen dollars'"
      ]
     },
     "execution_count": 9,
     "metadata": {},
     "output_type": "execute_result"
    }
   ],
   "source": [
    "get_words(\"$2019\")"
   ]
  }
 ],
 "metadata": {
  "kernelspec": {
   "display_name": "mfa",
   "language": "python",
   "name": "python3"
  },
  "language_info": {
   "codemirror_mode": {
    "name": "ipython",
    "version": 3
   },
   "file_extension": ".py",
   "mimetype": "text/x-python",
   "name": "python",
   "nbconvert_exporter": "python",
   "pygments_lexer": "ipython3",
   "version": "3.10.12"
  }
 },
 "nbformat": 4,
 "nbformat_minor": 2
}
