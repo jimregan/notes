{
 "cells": [
  {
   "cell_type": "markdown",
   "id": "configured-roman",
   "metadata": {
    "papermill": {
     "duration": 0.014264,
     "end_time": "2021-06-06T11:40:39.476440",
     "exception": false,
     "start_time": "2021-06-06T11:40:39.462176",
     "status": "completed"
    },
    "tags": []
   },
   "source": [
    "## Preparation"
   ]
  },
  {
   "cell_type": "code",
   "execution_count": 1,
   "id": "liquid-charger",
   "metadata": {
    "execution": {
     "iopub.execute_input": "2021-06-06T11:40:39.514727Z",
     "iopub.status.busy": "2021-06-06T11:40:39.514105Z",
     "iopub.status.idle": "2021-06-06T11:40:41.877743Z",
     "shell.execute_reply": "2021-06-06T11:40:41.876641Z"
    },
    "papermill": {
     "duration": 2.387994,
     "end_time": "2021-06-06T11:40:41.877934",
     "exception": false,
     "start_time": "2021-06-06T11:40:39.489940",
     "status": "completed"
    },
    "tags": []
   },
   "outputs": [],
   "source": [
    "!cp ../input/w2vu-cvsv-checkpoints-cpu9/checkpoint_best.pt .\n",
    "!cp ../input/w2vu-cvsv-checkpoints-cpu9/checkpoint_last.pt ."
   ]
  },
  {
   "cell_type": "code",
   "execution_count": 2,
   "id": "classified-richards",
   "metadata": {
    "_cell_guid": "b1076dfc-b9ad-4769-8c92-a6c4dae69d19",
    "_uuid": "8f2839f25d086af736a60e9eeb907d3b93b6e0e5",
    "execution": {
     "iopub.execute_input": "2021-06-06T11:40:41.916217Z",
     "iopub.status.busy": "2021-06-06T11:40:41.912310Z",
     "iopub.status.idle": "2021-06-06T11:45:04.094741Z",
     "shell.execute_reply": "2021-06-06T11:45:04.095549Z",
     "shell.execute_reply.started": "2021-05-31T11:43:46.770364Z"
    },
    "papermill": {
     "duration": 262.204497,
     "end_time": "2021-06-06T11:45:04.096079",
     "exception": false,
     "start_time": "2021-06-06T11:40:41.891582",
     "status": "completed"
    },
    "tags": []
   },
   "outputs": [],
   "source": [
    "%%capture\n",
    "!conda install -c pykaldi pykaldi -y"
   ]
  },
  {
   "cell_type": "code",
   "execution_count": 3,
   "id": "refined-turner",
   "metadata": {
    "execution": {
     "iopub.execute_input": "2021-06-06T11:45:04.130354Z",
     "iopub.status.busy": "2021-06-06T11:45:04.129616Z",
     "iopub.status.idle": "2021-06-06T11:45:04.137873Z",
     "shell.execute_reply": "2021-06-06T11:45:04.138490Z",
     "shell.execute_reply.started": "2021-05-31T13:58:07.987793Z"
    },
    "papermill": {
     "duration": 0.026376,
     "end_time": "2021-06-06T11:45:04.138653",
     "exception": false,
     "start_time": "2021-06-06T11:45:04.112277",
     "status": "completed"
    },
    "tags": []
   },
   "outputs": [
    {
     "name": "stdout",
     "output_type": "stream",
     "text": [
      "/tmp\n"
     ]
    }
   ],
   "source": [
    "%cd /tmp"
   ]
  },
  {
   "cell_type": "code",
   "execution_count": 4,
   "id": "unexpected-ceramic",
   "metadata": {
    "execution": {
     "iopub.execute_input": "2021-06-06T11:45:04.171241Z",
     "iopub.status.busy": "2021-06-06T11:45:04.170253Z",
     "iopub.status.idle": "2021-06-06T11:45:07.613554Z",
     "shell.execute_reply": "2021-06-06T11:45:07.612812Z",
     "shell.execute_reply.started": "2021-05-31T11:47:48.174342Z"
    },
    "papermill": {
     "duration": 3.46043,
     "end_time": "2021-06-06T11:45:07.613707",
     "exception": false,
     "start_time": "2021-06-06T11:45:04.153277",
     "status": "completed"
    },
    "tags": []
   },
   "outputs": [
    {
     "name": "stdout",
     "output_type": "stream",
     "text": [
      "Cloning into 'fairseq'...\r\n"
     ]
    },
    {
     "name": "stdout",
     "output_type": "stream",
     "text": [
      "remote: Enumerating objects: 28296, done.\u001b[K\r\n",
      "Receiving objects:   0% (1/28296)   \r"
     ]
    },
    {
     "name": "stdout",
     "output_type": "stream",
     "text": [
      "Receiving objects:   1% (283/28296)   \r"
     ]
    },
    {
     "name": "stdout",
     "output_type": "stream",
     "text": [
      "Receiving objects:   2% (566/28296)   \r"
     ]
    },
    {
     "name": "stdout",
     "output_type": "stream",
     "text": [
      "Receiving objects:   3% (849/28296)   \r"
     ]
    },
    {
     "name": "stdout",
     "output_type": "stream",
     "text": [
      "Receiving objects:   4% (1132/28296)   \r",
      "Receiving objects:   5% (1415/28296)   \r"
     ]
    },
    {
     "name": "stdout",
     "output_type": "stream",
     "text": [
      "Receiving objects:   6% (1698/28296)   \r",
      "Receiving objects:   7% (1981/28296)   \r"
     ]
    },
    {
     "name": "stdout",
     "output_type": "stream",
     "text": [
      "Receiving objects:   8% (2264/28296)   \r",
      "Receiving objects:   9% (2547/28296)   \r",
      "Receiving objects:  10% (2830/28296)   \r",
      "Receiving objects:  11% (3113/28296)   \r",
      "Receiving objects:  12% (3396/28296), 1.28 MiB | 2.55 MiB/s   \r",
      "Receiving objects:  13% (3679/28296), 1.28 MiB | 2.55 MiB/s   \r",
      "Receiving objects:  14% (3962/28296), 1.28 MiB | 2.55 MiB/s   \r",
      "Receiving objects:  15% (4245/28296), 1.28 MiB | 2.55 MiB/s   \r"
     ]
    },
    {
     "name": "stdout",
     "output_type": "stream",
     "text": [
      "Receiving objects:  16% (4528/28296), 1.28 MiB | 2.55 MiB/s   \r"
     ]
    },
    {
     "name": "stdout",
     "output_type": "stream",
     "text": [
      "Receiving objects:  17% (4811/28296), 1.28 MiB | 2.55 MiB/s   \r",
      "Receiving objects:  18% (5094/28296), 1.28 MiB | 2.55 MiB/s   \r"
     ]
    },
    {
     "name": "stdout",
     "output_type": "stream",
     "text": [
      "Receiving objects:  19% (5377/28296), 1.28 MiB | 2.55 MiB/s   \r",
      "Receiving objects:  20% (5660/28296), 1.28 MiB | 2.55 MiB/s   \r",
      "Receiving objects:  21% (5943/28296), 1.28 MiB | 2.55 MiB/s   \r",
      "Receiving objects:  22% (6226/28296), 1.28 MiB | 2.55 MiB/s   \r",
      "Receiving objects:  23% (6509/28296), 1.28 MiB | 2.55 MiB/s   \r",
      "Receiving objects:  24% (6792/28296), 1.28 MiB | 2.55 MiB/s   \r"
     ]
    },
    {
     "name": "stdout",
     "output_type": "stream",
     "text": [
      "Receiving objects:  25% (7074/28296), 1.28 MiB | 2.55 MiB/s   \r",
      "Receiving objects:  26% (7357/28296), 1.28 MiB | 2.55 MiB/s   \r",
      "Receiving objects:  27% (7640/28296), 1.28 MiB | 2.55 MiB/s   \r",
      "Receiving objects:  28% (7923/28296), 1.28 MiB | 2.55 MiB/s   \r",
      "Receiving objects:  29% (8206/28296), 1.28 MiB | 2.55 MiB/s   \r",
      "Receiving objects:  30% (8489/28296), 1.28 MiB | 2.55 MiB/s   \r",
      "Receiving objects:  31% (8772/28296), 1.28 MiB | 2.55 MiB/s   \r",
      "Receiving objects:  32% (9055/28296), 1.28 MiB | 2.55 MiB/s   \r",
      "Receiving objects:  33% (9338/28296), 1.28 MiB | 2.55 MiB/s   \r"
     ]
    },
    {
     "name": "stdout",
     "output_type": "stream",
     "text": [
      "Receiving objects:  34% (9621/28296), 1.28 MiB | 2.55 MiB/s   \r",
      "Receiving objects:  35% (9904/28296), 1.28 MiB | 2.55 MiB/s   \r",
      "Receiving objects:  36% (10187/28296), 1.28 MiB | 2.55 MiB/s   \r",
      "Receiving objects:  37% (10470/28296), 1.28 MiB | 2.55 MiB/s   \r",
      "Receiving objects:  38% (10753/28296), 1.28 MiB | 2.55 MiB/s   \r",
      "Receiving objects:  39% (11036/28296), 1.28 MiB | 2.55 MiB/s   \r",
      "Receiving objects:  40% (11319/28296), 1.28 MiB | 2.55 MiB/s   \r",
      "Receiving objects:  41% (11602/28296), 1.28 MiB | 2.55 MiB/s   \r",
      "Receiving objects:  42% (11885/28296), 1.28 MiB | 2.55 MiB/s   \r",
      "Receiving objects:  43% (12168/28296), 1.28 MiB | 2.55 MiB/s   \r",
      "Receiving objects:  44% (12451/28296), 1.28 MiB | 2.55 MiB/s   \r",
      "Receiving objects:  45% (12734/28296), 1.28 MiB | 2.55 MiB/s   \r",
      "Receiving objects:  46% (13017/28296), 1.28 MiB | 2.55 MiB/s   \r"
     ]
    },
    {
     "name": "stdout",
     "output_type": "stream",
     "text": [
      "Receiving objects:  47% (13300/28296), 1.28 MiB | 2.55 MiB/s   \r",
      "Receiving objects:  48% (13583/28296), 1.28 MiB | 2.55 MiB/s   \r",
      "Receiving objects:  49% (13866/28296), 1.28 MiB | 2.55 MiB/s   \r",
      "Receiving objects:  50% (14148/28296), 1.28 MiB | 2.55 MiB/s   \r",
      "Receiving objects:  51% (14431/28296), 1.28 MiB | 2.55 MiB/s   \r",
      "Receiving objects:  52% (14714/28296), 1.28 MiB | 2.55 MiB/s   \r",
      "Receiving objects:  53% (14997/28296), 1.28 MiB | 2.55 MiB/s   \r",
      "Receiving objects:  54% (15280/28296), 1.28 MiB | 2.55 MiB/s   \r",
      "Receiving objects:  55% (15563/28296), 1.28 MiB | 2.55 MiB/s   \r",
      "Receiving objects:  56% (15846/28296), 1.28 MiB | 2.55 MiB/s   \r",
      "Receiving objects:  57% (16129/28296), 1.28 MiB | 2.55 MiB/s   \r",
      "Receiving objects:  58% (16412/28296), 1.28 MiB | 2.55 MiB/s   \r",
      "Receiving objects:  59% (16695/28296), 1.28 MiB | 2.55 MiB/s   \r",
      "Receiving objects:  60% (16978/28296), 1.28 MiB | 2.55 MiB/s   \r",
      "Receiving objects:  61% (17261/28296), 1.28 MiB | 2.55 MiB/s   \r",
      "Receiving objects:  62% (17544/28296), 1.28 MiB | 2.55 MiB/s   \r",
      "Receiving objects:  63% (17827/28296), 1.28 MiB | 2.55 MiB/s   \r",
      "Receiving objects:  64% (18110/28296), 1.28 MiB | 2.55 MiB/s   \r"
     ]
    },
    {
     "name": "stdout",
     "output_type": "stream",
     "text": [
      "Receiving objects:  65% (18393/28296), 1.28 MiB | 2.55 MiB/s   \r",
      "Receiving objects:  66% (18676/28296), 1.28 MiB | 2.55 MiB/s   \r",
      "Receiving objects:  67% (18959/28296), 1.28 MiB | 2.55 MiB/s   \r",
      "Receiving objects:  68% (19242/28296), 1.28 MiB | 2.55 MiB/s   \r",
      "Receiving objects:  69% (19525/28296), 1.28 MiB | 2.55 MiB/s   \r",
      "Receiving objects:  70% (19808/28296), 1.28 MiB | 2.55 MiB/s   \r",
      "Receiving objects:  71% (20091/28296), 1.28 MiB | 2.55 MiB/s   \r",
      "Receiving objects:  72% (20374/28296), 1.28 MiB | 2.55 MiB/s   \r",
      "Receiving objects:  73% (20657/28296), 1.28 MiB | 2.55 MiB/s   \r",
      "Receiving objects:  74% (20940/28296), 1.28 MiB | 2.55 MiB/s   \r",
      "Receiving objects:  75% (21222/28296), 1.28 MiB | 2.55 MiB/s   \r",
      "Receiving objects:  76% (21505/28296), 1.28 MiB | 2.55 MiB/s   \r",
      "Receiving objects:  77% (21788/28296), 1.28 MiB | 2.55 MiB/s   \r",
      "Receiving objects:  78% (22071/28296), 1.28 MiB | 2.55 MiB/s   \r"
     ]
    },
    {
     "name": "stdout",
     "output_type": "stream",
     "text": [
      "Receiving objects:  79% (22354/28296), 1.28 MiB | 2.55 MiB/s   \r",
      "Receiving objects:  80% (22637/28296), 1.28 MiB | 2.55 MiB/s   \r",
      "Receiving objects:  81% (22920/28296), 1.28 MiB | 2.55 MiB/s   \r",
      "Receiving objects:  82% (23203/28296), 1.28 MiB | 2.55 MiB/s   \r",
      "Receiving objects:  83% (23486/28296), 1.28 MiB | 2.55 MiB/s   \r",
      "Receiving objects:  84% (23769/28296), 1.28 MiB | 2.55 MiB/s   \r",
      "Receiving objects:  85% (24052/28296), 1.28 MiB | 2.55 MiB/s   \r",
      "Receiving objects:  86% (24335/28296), 1.28 MiB | 2.55 MiB/s   \r",
      "Receiving objects:  87% (24618/28296), 1.28 MiB | 2.55 MiB/s   \r",
      "Receiving objects:  88% (24901/28296), 1.28 MiB | 2.55 MiB/s   \r",
      "Receiving objects:  89% (25184/28296), 1.28 MiB | 2.55 MiB/s   \r",
      "Receiving objects:  90% (25467/28296), 1.28 MiB | 2.55 MiB/s   \r",
      "Receiving objects:  91% (25750/28296), 1.28 MiB | 2.55 MiB/s   \r",
      "Receiving objects:  92% (26033/28296), 1.28 MiB | 2.55 MiB/s   \r",
      "Receiving objects:  93% (26316/28296), 1.28 MiB | 2.55 MiB/s   \r",
      "Receiving objects:  94% (26599/28296), 1.28 MiB | 2.55 MiB/s   \r",
      "Receiving objects:  95% (26882/28296), 1.28 MiB | 2.55 MiB/s   \r",
      "Receiving objects:  96% (27165/28296), 1.28 MiB | 2.55 MiB/s   \r",
      "Receiving objects:  97% (27448/28296), 1.28 MiB | 2.55 MiB/s   \r",
      "Receiving objects:  98% (27731/28296), 1.28 MiB | 2.55 MiB/s   \r",
      "remote: Total 28296 (delta 0), reused 0 (delta 0), pack-reused 28296\u001b[K\r\n",
      "Receiving objects:  99% (28014/28296), 1.28 MiB | 2.55 MiB/s   \r",
      "Receiving objects: 100% (28296/28296), 1.28 MiB | 2.55 MiB/s   \r",
      "Receiving objects: 100% (28296/28296), 11.79 MiB | 11.89 MiB/s, done.\r\n"
     ]
    },
    {
     "name": "stdout",
     "output_type": "stream",
     "text": [
      "Resolving deltas:   0% (0/21294)   \r",
      "Resolving deltas:   1% (215/21294)   \r",
      "Resolving deltas:   2% (427/21294)   \r",
      "Resolving deltas:   3% (652/21294)   \r",
      "Resolving deltas:   4% (876/21294)   \r",
      "Resolving deltas:   5% (1066/21294)   \r",
      "Resolving deltas:   6% (1282/21294)   \r",
      "Resolving deltas:   7% (1492/21294)   \r",
      "Resolving deltas:   8% (1708/21294)   \r"
     ]
    },
    {
     "name": "stdout",
     "output_type": "stream",
     "text": [
      "Resolving deltas:   9% (1917/21294)   \r",
      "Resolving deltas:  10% (2140/21294)   \r",
      "Resolving deltas:  11% (2353/21294)   \r",
      "Resolving deltas:  12% (2560/21294)   \r",
      "Resolving deltas:  13% (2772/21294)   \r",
      "Resolving deltas:  14% (2999/21294)   \r",
      "Resolving deltas:  15% (3197/21294)   \r",
      "Resolving deltas:  16% (3417/21294)   \r"
     ]
    },
    {
     "name": "stdout",
     "output_type": "stream",
     "text": [
      "Resolving deltas:  17% (3655/21294)   \r",
      "Resolving deltas:  18% (3833/21294)   \r",
      "Resolving deltas:  19% (4049/21294)   \r",
      "Resolving deltas:  20% (4263/21294)   \r",
      "Resolving deltas:  21% (4482/21294)   \r",
      "Resolving deltas:  22% (4694/21294)   \r",
      "Resolving deltas:  23% (4992/21294)   \r",
      "Resolving deltas:  24% (5146/21294)   \r",
      "Resolving deltas:  25% (5324/21294)   \r",
      "Resolving deltas:  26% (5549/21294)   \r"
     ]
    },
    {
     "name": "stdout",
     "output_type": "stream",
     "text": [
      "Resolving deltas:  27% (5759/21294)   \r",
      "Resolving deltas:  28% (5970/21294)   \r",
      "Resolving deltas:  29% (6206/21294)   \r",
      "Resolving deltas:  30% (6401/21294)   \r",
      "Resolving deltas:  31% (6605/21294)   \r",
      "Resolving deltas:  32% (6816/21294)   \r",
      "Resolving deltas:  33% (7074/21294)   \r",
      "Resolving deltas:  34% (7259/21294)   \r",
      "Resolving deltas:  35% (7505/21294)   \r",
      "Resolving deltas:  36% (7801/21294)   \r",
      "Resolving deltas:  37% (7969/21294)   \r",
      "Resolving deltas:  38% (8098/21294)   \r",
      "Resolving deltas:  39% (8373/21294)   \r",
      "Resolving deltas:  40% (8579/21294)   \r",
      "Resolving deltas:  41% (8740/21294)   \r"
     ]
    },
    {
     "name": "stdout",
     "output_type": "stream",
     "text": [
      "Resolving deltas:  42% (8961/21294)   \r",
      "Resolving deltas:  43% (9184/21294)   \r",
      "Resolving deltas:  44% (9398/21294)   \r",
      "Resolving deltas:  45% (9591/21294)   \r",
      "Resolving deltas:  46% (9806/21294)   \r",
      "Resolving deltas:  47% (10012/21294)   \r",
      "Resolving deltas:  48% (10228/21294)   \r",
      "Resolving deltas:  49% (10452/21294)   \r",
      "Resolving deltas:  50% (10654/21294)   \r",
      "Resolving deltas:  51% (10860/21294)   \r",
      "Resolving deltas:  52% (11119/21294)   \r",
      "Resolving deltas:  53% (11349/21294)   \r",
      "Resolving deltas:  54% (11499/21294)   \r",
      "Resolving deltas:  55% (11718/21294)   \r",
      "Resolving deltas:  56% (11959/21294)   \r"
     ]
    },
    {
     "name": "stdout",
     "output_type": "stream",
     "text": [
      "Resolving deltas:  57% (12165/21294)   \r",
      "Resolving deltas:  58% (12371/21294)   \r",
      "Resolving deltas:  59% (12573/21294)   \r",
      "Resolving deltas:  60% (12821/21294)   \r",
      "Resolving deltas:  61% (13004/21294)   \r",
      "Resolving deltas:  62% (13265/21294)   \r",
      "Resolving deltas:  63% (13436/21294)   \r",
      "Resolving deltas:  64% (13632/21294)   \r",
      "Resolving deltas:  65% (13853/21294)   \r",
      "Resolving deltas:  66% (14178/21294)   \r",
      "Resolving deltas:  67% (14301/21294)   \r",
      "Resolving deltas:  68% (14484/21294)   \r",
      "Resolving deltas:  69% (14709/21294)   \r",
      "Resolving deltas:  70% (14915/21294)   \r",
      "Resolving deltas:  71% (15149/21294)   \r"
     ]
    },
    {
     "name": "stdout",
     "output_type": "stream",
     "text": [
      "Resolving deltas:  72% (15337/21294)   \r",
      "Resolving deltas:  73% (15562/21294)   \r",
      "Resolving deltas:  74% (15766/21294)   \r",
      "Resolving deltas:  75% (15981/21294)   \r",
      "Resolving deltas:  76% (16196/21294)   \r",
      "Resolving deltas:  77% (16406/21294)   \r",
      "Resolving deltas:  78% (16672/21294)   \r",
      "Resolving deltas:  79% (16915/21294)   \r",
      "Resolving deltas:  80% (17041/21294)   \r",
      "Resolving deltas:  81% (17297/21294)   \r",
      "Resolving deltas:  82% (17519/21294)   \r",
      "Resolving deltas:  83% (17686/21294)   \r",
      "Resolving deltas:  84% (17921/21294)   \r",
      "Resolving deltas:  85% (18119/21294)   \r",
      "Resolving deltas:  86% (18316/21294)   \r",
      "Resolving deltas:  87% (18677/21294)   \r",
      "Resolving deltas:  88% (18797/21294)   \r",
      "Resolving deltas:  89% (19019/21294)   \r",
      "Resolving deltas:  90% (19174/21294)   \r",
      "Resolving deltas:  91% (19387/21294)   \r",
      "Resolving deltas:  92% (19594/21294)   \r",
      "Resolving deltas:  93% (19817/21294)   \r"
     ]
    },
    {
     "name": "stdout",
     "output_type": "stream",
     "text": [
      "Resolving deltas:  94% (20017/21294)   \r",
      "Resolving deltas:  95% (20251/21294)   \r",
      "Resolving deltas:  96% (20502/21294)   \r",
      "Resolving deltas:  97% (20666/21294)   \r",
      "Resolving deltas:  98% (20884/21294)   \r",
      "Resolving deltas:  99% (21090/21294)   \r",
      "Resolving deltas: 100% (21294/21294)   \r",
      "Resolving deltas: 100% (21294/21294), done.\r\n"
     ]
    }
   ],
   "source": [
    "!git clone https://github.com/jimregan/fairseq/ --branch issue3581"
   ]
  },
  {
   "cell_type": "code",
   "execution_count": 5,
   "id": "emerging-consideration",
   "metadata": {
    "execution": {
     "iopub.execute_input": "2021-06-06T11:45:07.666406Z",
     "iopub.status.busy": "2021-06-06T11:45:07.665586Z",
     "iopub.status.idle": "2021-06-06T11:45:10.004752Z",
     "shell.execute_reply": "2021-06-06T11:45:10.004210Z",
     "shell.execute_reply.started": "2021-05-31T13:58:08.002832Z"
    },
    "papermill": {
     "duration": 2.369291,
     "end_time": "2021-06-06T11:45:10.004907",
     "exception": false,
     "start_time": "2021-06-06T11:45:07.635616",
     "status": "completed"
    },
    "tags": []
   },
   "outputs": [
    {
     "name": "stdout",
     "output_type": "stream",
     "text": [
      "Cloning into 'kenlm'...\r\n"
     ]
    },
    {
     "name": "stdout",
     "output_type": "stream",
     "text": [
      "remote: Enumerating objects: 13824, done.\u001b[K\r\n",
      "remote: Counting objects:   0% (1/137)\u001b[K\r",
      "remote: Counting objects:   1% (2/137)\u001b[K\r",
      "remote: Counting objects:   2% (3/137)\u001b[K\r",
      "remote: Counting objects:   3% (5/137)\u001b[K\r",
      "remote: Counting objects:   4% (6/137)\u001b[K\r",
      "remote: Counting objects:   5% (7/137)\u001b[K\r",
      "remote: Counting objects:   6% (9/137)\u001b[K\r",
      "remote: Counting objects:   7% (10/137)\u001b[K\r",
      "remote: Counting objects:   8% (11/137)\u001b[K\r",
      "remote: Counting objects:   9% (13/137)\u001b[K\r",
      "remote: Counting objects:  10% (14/137)\u001b[K\r",
      "remote: Counting objects:  11% (16/137)\u001b[K\r",
      "remote: Counting objects:  12% (17/137)\u001b[K\r",
      "remote: Counting objects:  13% (18/137)\u001b[K\r",
      "remote: Counting objects:  14% (20/137)\u001b[K\r",
      "remote: Counting objects:  15% (21/137)\u001b[K\r",
      "remote: Counting objects:  16% (22/137)\u001b[K\r",
      "remote: Counting objects:  17% (24/137)\u001b[K\r",
      "remote: Counting objects:  18% (25/137)\u001b[K\r",
      "remote: Counting objects:  19% (27/137)\u001b[K\r",
      "remote: Counting objects:  20% (28/137)\u001b[K\r",
      "remote: Counting objects:  21% (29/137)\u001b[K\r",
      "remote: Counting objects:  22% (31/137)\u001b[K\r",
      "remote: Counting objects:  23% (32/137)\u001b[K\r",
      "remote: Counting objects:  24% (33/137)\u001b[K\r",
      "remote: Counting objects:  25% (35/137)\u001b[K\r",
      "remote: Counting objects:  26% (36/137)\u001b[K\r",
      "remote: Counting objects:  27% (37/137)\u001b[K\r",
      "remote: Counting objects:  28% (39/137)\u001b[K\r",
      "remote: Counting objects:  29% (40/137)\u001b[K\r",
      "remote: Counting objects:  30% (42/137)\u001b[K\r",
      "remote: Counting objects:  31% (43/137)\u001b[K\r",
      "remote: Counting objects:  32% (44/137)\u001b[K\r",
      "remote: Counting objects:  33% (46/137)\u001b[K\r",
      "remote: Counting objects:  34% (47/137)\u001b[K\r",
      "remote: Counting objects:  35% (48/137)\u001b[K\r",
      "remote: Counting objects:  36% (50/137)\u001b[K\r",
      "remote: Counting objects:  37% (51/137)\u001b[K\r",
      "remote: Counting objects:  38% (53/137)\u001b[K\r",
      "remote: Counting objects:  39% (54/137)\u001b[K\r",
      "remote: Counting objects:  40% (55/137)\u001b[K\r",
      "remote: Counting objects:  41% (57/137)\u001b[K\r",
      "remote: Counting objects:  42% (58/137)\u001b[K\r",
      "remote: Counting objects:  43% (59/137)\u001b[K\r",
      "remote: Counting objects:  44% (61/137)\u001b[K\r",
      "remote: Counting objects:  45% (62/137)\u001b[K\r",
      "remote: Counting objects:  46% (64/137)\u001b[K\r",
      "remote: Counting objects:  47% (65/137)\u001b[K\r",
      "remote: Counting objects:  48% (66/137)\u001b[K\r",
      "remote: Counting objects:  49% (68/137)\u001b[K\r",
      "remote: Counting objects:  50% (69/137)\u001b[K\r",
      "remote: Counting objects:  51% (70/137)\u001b[K\r",
      "remote: Counting objects:  52% (72/137)\u001b[K\r",
      "remote: Counting objects:  53% (73/137)\u001b[K\r",
      "remote: Counting objects:  54% (74/137)\u001b[K\r",
      "remote: Counting objects:  55% (76/137)\u001b[K\r",
      "remote: Counting objects:  56% (77/137)\u001b[K\r",
      "remote: Counting objects:  57% (79/137)\u001b[K\r",
      "remote: Counting objects:  58% (80/137)\u001b[K\r",
      "remote: Counting objects:  59% (81/137)\u001b[K\r",
      "remote: Counting objects:  60% (83/137)\u001b[K\r",
      "remote: Counting objects:  61% (84/137)\u001b[K\r",
      "remote: Counting objects:  62% (85/137)\u001b[K\r",
      "remote: Counting objects:  63% (87/137)\u001b[K\r",
      "remote: Counting objects:  64% (88/137)\u001b[K\r",
      "remote: Counting objects:  65% (90/137)\u001b[K\r",
      "remote: Counting objects:  66% (91/137)\u001b[K\r",
      "remote: Counting objects:  67% (92/137)\u001b[K\r",
      "remote: Counting objects:  68% (94/137)\u001b[K\r",
      "remote: Counting objects:  69% (95/137)\u001b[K\r",
      "remote: Counting objects:  70% (96/137)\u001b[K\r",
      "remote: Counting objects:  71% (98/137)\u001b[K\r",
      "remote: Counting objects:  72% (99/137)\u001b[K\r",
      "remote: Counting objects:  73% (101/137)\u001b[K\r",
      "remote: Counting objects:  74% (102/137)\u001b[K\r",
      "remote: Counting objects:  75% (103/137)\u001b[K\r",
      "remote: Counting objects:  76% (105/137)\u001b[K\r",
      "remote: Counting objects:  77% (106/137)\u001b[K\r",
      "remote: Counting objects:  78% (107/137)\u001b[K\r",
      "remote: Counting objects:  79% (109/137)\u001b[K\r",
      "remote: Counting objects:  80% (110/137)\u001b[K\r",
      "remote: Counting objects:  81% (111/137)\u001b[K\r",
      "remote: Counting objects:  82% (113/137)\u001b[K\r",
      "remote: Counting objects:  83% (114/137)\u001b[K\r",
      "remote: Counting objects:  84% (116/137)\u001b[K\r",
      "remote: Counting objects:  85% (117/137)\u001b[K\r",
      "remote: Counting objects:  86% (118/137)\u001b[K\r",
      "remote: Counting objects:  87% (120/137)\u001b[K\r",
      "remote: Counting objects:  88% (121/137)\u001b[K\r",
      "remote: Counting objects:  89% (122/137)\u001b[K\r",
      "remote: Counting objects:  90% (124/137)\u001b[K\r",
      "remote: Counting objects:  91% (125/137)\u001b[K\r",
      "remote: Counting objects:  92% (127/137)\u001b[K\r",
      "remote: Counting objects:  93% (128/137)\u001b[K\r",
      "remote: Counting objects:  94% (129/137)\u001b[K\r",
      "remote: Counting objects:  95% (131/137)\u001b[K\r",
      "remote: Counting objects:  96% (132/137)\u001b[K\r",
      "remote: Counting objects:  97% (133/137)\u001b[K\r",
      "remote: Counting objects:  98% (135/137)\u001b[K\r",
      "remote: Counting objects:  99% (136/137)\u001b[K\r",
      "remote: Counting objects: 100% (137/137)\u001b[K\r",
      "remote: Counting objects: 100% (137/137), done.\u001b[K\r\n",
      "remote: Compressing objects:   1% (1/79)\u001b[K\r",
      "remote: Compressing objects:   2% (2/79)\u001b[K\r",
      "remote: Compressing objects:   3% (3/79)\u001b[K\r",
      "remote: Compressing objects:   5% (4/79)\u001b[K\r",
      "remote: Compressing objects:   6% (5/79)\u001b[K\r",
      "remote: Compressing objects:   7% (6/79)\u001b[K\r",
      "remote: Compressing objects:   8% (7/79)\u001b[K\r",
      "remote: Compressing objects:  10% (8/79)\u001b[K\r",
      "remote: Compressing objects:  11% (9/79)\u001b[K\r",
      "remote: Compressing objects:  12% (10/79)\u001b[K\r",
      "remote: Compressing objects:  13% (11/79)\u001b[K\r",
      "remote: Compressing objects:  15% (12/79)\u001b[K\r",
      "remote: Compressing objects:  16% (13/79)\u001b[K\r",
      "remote: Compressing objects:  17% (14/79)\u001b[K\r",
      "remote: Compressing objects:  18% (15/79)\u001b[K\r",
      "remote: Compressing objects:  20% (16/79)\u001b[K\r",
      "remote: Compressing objects:  21% (17/79)\u001b[K\r",
      "remote: Compressing objects:  22% (18/79)\u001b[K\r",
      "remote: Compressing objects:  24% (19/79)\u001b[K\r",
      "remote: Compressing objects:  25% (20/79)\u001b[K\r",
      "remote: Compressing objects:  26% (21/79)\u001b[K\r",
      "remote: Compressing objects:  27% (22/79)\u001b[K\r",
      "remote: Compressing objects:  29% (23/79)\u001b[K\r",
      "remote: Compressing objects:  30% (24/79)\u001b[K\r",
      "remote: Compressing objects:  31% (25/79)\u001b[K\r",
      "remote: Compressing objects:  32% (26/79)\u001b[K\r",
      "remote: Compressing objects:  34% (27/79)\u001b[K\r",
      "remote: Compressing objects:  35% (28/79)\u001b[K\r",
      "remote: Compressing objects:  36% (29/79)\u001b[K\r",
      "remote: Compressing objects:  37% (30/79)\u001b[K\r",
      "remote: Compressing objects:  39% (31/79)\u001b[K\r",
      "remote: Compressing objects:  40% (32/79)\u001b[K\r",
      "remote: Compressing objects:  41% (33/79)\u001b[K\r",
      "remote: Compressing objects:  43% (34/79)\u001b[K\r",
      "remote: Compressing objects:  44% (35/79)\u001b[K\r"
     ]
    },
    {
     "name": "stdout",
     "output_type": "stream",
     "text": [
      "remote: Compressing objects:  45% (36/79)\u001b[K\r",
      "remote: Compressing objects:  46% (37/79)\u001b[K\r",
      "remote: Compressing objects:  48% (38/79)\u001b[K\r",
      "remote: Compressing objects:  49% (39/79)\u001b[K\r",
      "remote: Compressing objects:  50% (40/79)\u001b[K\r",
      "remote: Compressing objects:  51% (41/79)\u001b[K\r",
      "remote: Compressing objects:  53% (42/79)\u001b[K\r",
      "remote: Compressing objects:  54% (43/79)\u001b[K\r",
      "remote: Compressing objects:  55% (44/79)\u001b[K\r",
      "remote: Compressing objects:  56% (45/79)\u001b[K\r",
      "remote: Compressing objects:  58% (46/79)\u001b[K\r",
      "remote: Compressing objects:  59% (47/79)\u001b[K\r",
      "remote: Compressing objects:  60% (48/79)\u001b[K\r",
      "remote: Compressing objects:  62% (49/79)\u001b[K\r",
      "remote: Compressing objects:  63% (50/79)\u001b[K\r",
      "remote: Compressing objects:  64% (51/79)\u001b[K\r",
      "remote: Compressing objects:  65% (52/79)\u001b[K\r",
      "remote: Compressing objects:  67% (53/79)\u001b[K\r",
      "remote: Compressing objects:  68% (54/79)\u001b[K\r",
      "remote: Compressing objects:  69% (55/79)\u001b[K\r",
      "remote: Compressing objects:  70% (56/79)\u001b[K\r",
      "remote: Compressing objects:  72% (57/79)\u001b[K\r",
      "remote: Compressing objects:  73% (58/79)\u001b[K\r",
      "remote: Compressing objects:  74% (59/79)\u001b[K\r",
      "remote: Compressing objects:  75% (60/79)\u001b[K\r",
      "remote: Compressing objects:  77% (61/79)\u001b[K\r",
      "remote: Compressing objects:  78% (62/79)\u001b[K\r",
      "remote: Compressing objects:  79% (63/79)\u001b[K\r",
      "remote: Compressing objects:  81% (64/79)\u001b[K\r",
      "remote: Compressing objects:  82% (65/79)\u001b[K\r",
      "remote: Compressing objects:  83% (66/79)\u001b[K\r",
      "remote: Compressing objects:  84% (67/79)\u001b[K\r",
      "remote: Compressing objects:  86% (68/79)\u001b[K\r",
      "remote: Compressing objects:  87% (69/79)\u001b[K\r",
      "remote: Compressing objects:  88% (70/79)\u001b[K\r",
      "remote: Compressing objects:  89% (71/79)\u001b[K\r",
      "remote: Compressing objects:  91% (72/79)\u001b[K\r",
      "remote: Compressing objects:  92% (73/79)\u001b[K\r",
      "remote: Compressing objects:  93% (74/79)\u001b[K\r",
      "remote: Compressing objects:  94% (75/79)\u001b[K\r",
      "remote: Compressing objects:  96% (76/79)\u001b[K\r",
      "remote: Compressing objects:  97% (77/79)\u001b[K\r",
      "remote: Compressing objects:  98% (78/79)\u001b[K\r",
      "remote: Compressing objects: 100% (79/79)\u001b[K\r",
      "remote: Compressing objects: 100% (79/79), done.\u001b[K\r\n",
      "Receiving objects:   0% (1/13824)   \r",
      "Receiving objects:   1% (139/13824)   \r"
     ]
    },
    {
     "name": "stdout",
     "output_type": "stream",
     "text": [
      "Receiving objects:   2% (277/13824)   \r",
      "Receiving objects:   3% (415/13824)   \r"
     ]
    },
    {
     "name": "stdout",
     "output_type": "stream",
     "text": [
      "Receiving objects:   4% (553/13824)   \r",
      "Receiving objects:   5% (692/13824)   \r",
      "Receiving objects:   6% (830/13824)   \r",
      "Receiving objects:   7% (968/13824)   \r",
      "Receiving objects:   8% (1106/13824)   \r",
      "Receiving objects:   9% (1245/13824)   \r"
     ]
    },
    {
     "name": "stdout",
     "output_type": "stream",
     "text": [
      "Receiving objects:  10% (1383/13824)   \r",
      "Receiving objects:  11% (1521/13824)   \r",
      "Receiving objects:  12% (1659/13824)   \r",
      "Receiving objects:  13% (1798/13824)   \r",
      "Receiving objects:  14% (1936/13824)   \r",
      "Receiving objects:  15% (2074/13824)   \r"
     ]
    },
    {
     "name": "stdout",
     "output_type": "stream",
     "text": [
      "Receiving objects:  16% (2212/13824)   \r",
      "Receiving objects:  17% (2351/13824)   \r"
     ]
    },
    {
     "name": "stdout",
     "output_type": "stream",
     "text": [
      "Receiving objects:  18% (2489/13824)   \r",
      "Receiving objects:  19% (2627/13824)   \r",
      "Receiving objects:  20% (2765/13824)   \r",
      "Receiving objects:  21% (2904/13824)   \r",
      "Receiving objects:  22% (3042/13824)   \r"
     ]
    },
    {
     "name": "stdout",
     "output_type": "stream",
     "text": [
      "Receiving objects:  23% (3180/13824)   \r"
     ]
    },
    {
     "name": "stdout",
     "output_type": "stream",
     "text": [
      "Receiving objects:  24% (3318/13824)   \r",
      "Receiving objects:  25% (3456/13824)   \r",
      "Receiving objects:  26% (3595/13824)   \r",
      "Receiving objects:  27% (3733/13824)   \r",
      "Receiving objects:  28% (3871/13824)   \r",
      "Receiving objects:  29% (4009/13824)   \r",
      "Receiving objects:  30% (4148/13824)   \r",
      "Receiving objects:  31% (4286/13824)   \r",
      "Receiving objects:  32% (4424/13824)   \r"
     ]
    },
    {
     "name": "stdout",
     "output_type": "stream",
     "text": [
      "Receiving objects:  33% (4562/13824), 2.27 MiB | 4.50 MiB/s   \r",
      "Receiving objects:  34% (4701/13824), 2.27 MiB | 4.50 MiB/s   \r",
      "Receiving objects:  35% (4839/13824), 2.27 MiB | 4.50 MiB/s   \r",
      "Receiving objects:  36% (4977/13824), 2.27 MiB | 4.50 MiB/s   \r",
      "Receiving objects:  37% (5115/13824), 2.27 MiB | 4.50 MiB/s   \r",
      "Receiving objects:  38% (5254/13824), 2.27 MiB | 4.50 MiB/s   \r",
      "Receiving objects:  39% (5392/13824), 2.27 MiB | 4.50 MiB/s   \r",
      "Receiving objects:  40% (5530/13824), 2.27 MiB | 4.50 MiB/s   \r",
      "Receiving objects:  41% (5668/13824), 2.27 MiB | 4.50 MiB/s   \r",
      "Receiving objects:  42% (5807/13824), 2.27 MiB | 4.50 MiB/s   \r",
      "Receiving objects:  43% (5945/13824), 2.27 MiB | 4.50 MiB/s   \r",
      "Receiving objects:  44% (6083/13824), 2.27 MiB | 4.50 MiB/s   \r",
      "Receiving objects:  45% (6221/13824), 2.27 MiB | 4.50 MiB/s   \r",
      "Receiving objects:  46% (6360/13824), 2.27 MiB | 4.50 MiB/s   \r",
      "Receiving objects:  47% (6498/13824), 2.27 MiB | 4.50 MiB/s   \r",
      "Receiving objects:  48% (6636/13824), 2.27 MiB | 4.50 MiB/s   \r",
      "Receiving objects:  49% (6774/13824), 2.27 MiB | 4.50 MiB/s   \r",
      "Receiving objects:  50% (6912/13824), 2.27 MiB | 4.50 MiB/s   \r",
      "Receiving objects:  51% (7051/13824), 2.27 MiB | 4.50 MiB/s   \r",
      "Receiving objects:  52% (7189/13824), 2.27 MiB | 4.50 MiB/s   \r",
      "Receiving objects:  53% (7327/13824), 2.27 MiB | 4.50 MiB/s   \r",
      "Receiving objects:  54% (7465/13824), 2.27 MiB | 4.50 MiB/s   \r",
      "Receiving objects:  55% (7604/13824), 2.27 MiB | 4.50 MiB/s   \r"
     ]
    },
    {
     "name": "stdout",
     "output_type": "stream",
     "text": [
      "Receiving objects:  56% (7742/13824), 2.27 MiB | 4.50 MiB/s   \r",
      "Receiving objects:  57% (7880/13824), 2.27 MiB | 4.50 MiB/s   \r",
      "Receiving objects:  58% (8018/13824), 2.27 MiB | 4.50 MiB/s   \r",
      "Receiving objects:  59% (8157/13824), 2.27 MiB | 4.50 MiB/s   \r",
      "Receiving objects:  60% (8295/13824), 2.27 MiB | 4.50 MiB/s   \r",
      "Receiving objects:  61% (8433/13824), 2.27 MiB | 4.50 MiB/s   \r",
      "Receiving objects:  62% (8571/13824), 2.27 MiB | 4.50 MiB/s   \r",
      "Receiving objects:  63% (8710/13824), 2.27 MiB | 4.50 MiB/s   \r",
      "Receiving objects:  64% (8848/13824), 2.27 MiB | 4.50 MiB/s   \r",
      "Receiving objects:  65% (8986/13824), 2.27 MiB | 4.50 MiB/s   \r",
      "Receiving objects:  66% (9124/13824), 2.27 MiB | 4.50 MiB/s   \r",
      "Receiving objects:  67% (9263/13824), 2.27 MiB | 4.50 MiB/s   \r",
      "Receiving objects:  68% (9401/13824), 2.27 MiB | 4.50 MiB/s   \r",
      "Receiving objects:  69% (9539/13824), 2.27 MiB | 4.50 MiB/s   \r",
      "Receiving objects:  70% (9677/13824), 2.27 MiB | 4.50 MiB/s   \r",
      "Receiving objects:  71% (9816/13824), 2.27 MiB | 4.50 MiB/s   \r",
      "Receiving objects:  72% (9954/13824), 2.27 MiB | 4.50 MiB/s   \r",
      "Receiving objects:  73% (10092/13824), 2.27 MiB | 4.50 MiB/s   \r",
      "Receiving objects:  74% (10230/13824), 2.27 MiB | 4.50 MiB/s   \r",
      "Receiving objects:  75% (10368/13824), 2.27 MiB | 4.50 MiB/s   \r",
      "Receiving objects:  76% (10507/13824), 2.27 MiB | 4.50 MiB/s   \r",
      "Receiving objects:  77% (10645/13824), 2.27 MiB | 4.50 MiB/s   \r",
      "Receiving objects:  78% (10783/13824), 2.27 MiB | 4.50 MiB/s   \r",
      "Receiving objects:  79% (10921/13824), 2.27 MiB | 4.50 MiB/s   \r",
      "Receiving objects:  80% (11060/13824), 2.27 MiB | 4.50 MiB/s   \r",
      "Receiving objects:  81% (11198/13824), 2.27 MiB | 4.50 MiB/s   \r"
     ]
    },
    {
     "name": "stdout",
     "output_type": "stream",
     "text": [
      "Receiving objects:  82% (11336/13824), 2.27 MiB | 4.50 MiB/s   \r",
      "Receiving objects:  83% (11474/13824), 2.27 MiB | 4.50 MiB/s   \r",
      "Receiving objects:  84% (11613/13824), 2.27 MiB | 4.50 MiB/s   \r",
      "Receiving objects:  85% (11751/13824), 2.27 MiB | 4.50 MiB/s   \r",
      "Receiving objects:  86% (11889/13824), 2.27 MiB | 4.50 MiB/s   \r",
      "Receiving objects:  87% (12027/13824), 2.27 MiB | 4.50 MiB/s   \r",
      "Receiving objects:  88% (12166/13824), 2.27 MiB | 4.50 MiB/s   \r",
      "Receiving objects:  89% (12304/13824), 2.27 MiB | 4.50 MiB/s   \r",
      "Receiving objects:  90% (12442/13824), 2.27 MiB | 4.50 MiB/s   \r",
      "Receiving objects:  91% (12580/13824), 2.27 MiB | 4.50 MiB/s   \r",
      "Receiving objects:  92% (12719/13824), 2.27 MiB | 4.50 MiB/s   \r",
      "Receiving objects:  93% (12857/13824), 2.27 MiB | 4.50 MiB/s   \r",
      "Receiving objects:  94% (12995/13824), 2.27 MiB | 4.50 MiB/s   \r",
      "Receiving objects:  95% (13133/13824), 2.27 MiB | 4.50 MiB/s   \r",
      "Receiving objects:  96% (13272/13824), 2.27 MiB | 4.50 MiB/s   \r",
      "Receiving objects:  97% (13410/13824), 2.27 MiB | 4.50 MiB/s   \r",
      "Receiving objects:  98% (13548/13824), 2.27 MiB | 4.50 MiB/s   \r"
     ]
    },
    {
     "name": "stdout",
     "output_type": "stream",
     "text": [
      "remote: Total 13824 (delta 76), reused 92 (delta 45), pack-reused 13687\u001b[K\r\n",
      "Receiving objects:  99% (13686/13824), 2.27 MiB | 4.50 MiB/s   \r",
      "Receiving objects: 100% (13824/13824), 2.27 MiB | 4.50 MiB/s   \r",
      "Receiving objects: 100% (13824/13824), 5.49 MiB | 8.56 MiB/s, done.\r\n",
      "Resolving deltas:   0% (0/7956)   \r",
      "Resolving deltas:   1% (100/7956)   \r",
      "Resolving deltas:   2% (164/7956)   \r",
      "Resolving deltas:   3% (242/7956)   \r",
      "Resolving deltas:   4% (332/7956)   \r",
      "Resolving deltas:   5% (398/7956)   \r",
      "Resolving deltas:   6% (480/7956)   \r",
      "Resolving deltas:   7% (564/7956)   \r",
      "Resolving deltas:   8% (644/7956)   \r",
      "Resolving deltas:   9% (720/7956)   \r",
      "Resolving deltas:  10% (798/7956)   \r",
      "Resolving deltas:  11% (882/7956)   \r",
      "Resolving deltas:  12% (956/7956)   \r",
      "Resolving deltas:  13% (1036/7956)   \r",
      "Resolving deltas:  14% (1123/7956)   \r",
      "Resolving deltas:  15% (1199/7956)   \r",
      "Resolving deltas:  16% (1274/7956)   \r",
      "Resolving deltas:  17% (1354/7956)   \r",
      "Resolving deltas:  18% (1450/7956)   \r"
     ]
    },
    {
     "name": "stdout",
     "output_type": "stream",
     "text": [
      "Resolving deltas:  19% (1518/7956)   \r",
      "Resolving deltas:  20% (1598/7956)   \r",
      "Resolving deltas:  21% (1671/7956)   \r",
      "Resolving deltas:  22% (1767/7956)   \r",
      "Resolving deltas:  23% (1833/7956)   \r",
      "Resolving deltas:  24% (1935/7956)   \r",
      "Resolving deltas:  25% (2006/7956)   \r",
      "Resolving deltas:  27% (2160/7956)   \r",
      "Resolving deltas:  28% (2260/7956)   \r",
      "Resolving deltas:  31% (2498/7956)   \r",
      "Resolving deltas:  32% (2551/7956)   \r",
      "Resolving deltas:  33% (2636/7956)   \r",
      "Resolving deltas:  34% (2715/7956)   \r",
      "Resolving deltas:  35% (2802/7956)   \r",
      "Resolving deltas:  36% (2867/7956)   \r",
      "Resolving deltas:  37% (2962/7956)   \r",
      "Resolving deltas:  39% (3125/7956)   \r",
      "Resolving deltas:  40% (3198/7956)   \r",
      "Resolving deltas:  42% (3366/7956)   \r",
      "Resolving deltas:  43% (3454/7956)   \r",
      "Resolving deltas:  44% (3506/7956)   \r",
      "Resolving deltas:  45% (3583/7956)   \r",
      "Resolving deltas:  46% (3703/7956)   \r",
      "Resolving deltas:  47% (3763/7956)   \r",
      "Resolving deltas:  48% (3822/7956)   \r",
      "Resolving deltas:  49% (3902/7956)   \r",
      "Resolving deltas:  52% (4159/7956)   \r",
      "Resolving deltas:  53% (4219/7956)   \r",
      "Resolving deltas:  55% (4414/7956)   \r"
     ]
    },
    {
     "name": "stdout",
     "output_type": "stream",
     "text": [
      "Resolving deltas:  56% (4457/7956)   \r",
      "Resolving deltas:  57% (4539/7956)   \r",
      "Resolving deltas:  58% (4649/7956)   \r",
      "Resolving deltas:  59% (4698/7956)   \r",
      "Resolving deltas:  60% (4796/7956)   \r",
      "Resolving deltas:  61% (4871/7956)   \r",
      "Resolving deltas:  62% (4937/7956)   \r",
      "Resolving deltas:  63% (5082/7956)   \r",
      "Resolving deltas:  64% (5103/7956)   \r",
      "Resolving deltas:  65% (5181/7956)   \r",
      "Resolving deltas:  66% (5254/7956)   \r",
      "Resolving deltas:  67% (5335/7956)   \r",
      "Resolving deltas:  68% (5412/7956)   \r",
      "Resolving deltas:  69% (5505/7956)   \r",
      "Resolving deltas:  70% (5604/7956)   \r",
      "Resolving deltas:  71% (5653/7956)   \r",
      "Resolving deltas:  72% (5731/7956)   \r",
      "Resolving deltas:  73% (5816/7956)   \r",
      "Resolving deltas:  74% (5890/7956)   \r",
      "Resolving deltas:  75% (5969/7956)   \r",
      "Resolving deltas:  76% (6049/7956)   \r",
      "Resolving deltas:  77% (6128/7956)   \r",
      "Resolving deltas:  78% (6208/7956)   \r",
      "Resolving deltas:  79% (6287/7956)   \r",
      "Resolving deltas:  80% (6368/7956)   \r",
      "Resolving deltas:  81% (6448/7956)   \r",
      "Resolving deltas:  82% (6524/7956)   \r",
      "Resolving deltas:  83% (6621/7956)   \r",
      "Resolving deltas:  84% (6694/7956)   \r",
      "Resolving deltas:  85% (6765/7956)   \r",
      "Resolving deltas:  86% (6843/7956)   \r",
      "Resolving deltas:  87% (6925/7956)   \r",
      "Resolving deltas:  88% (7004/7956)   \r",
      "Resolving deltas:  89% (7098/7956)   \r",
      "Resolving deltas:  90% (7171/7956)   \r",
      "Resolving deltas:  91% (7240/7956)   \r",
      "Resolving deltas:  92% (7322/7956)   \r",
      "Resolving deltas:  93% (7406/7956)   \r",
      "Resolving deltas:  94% (7481/7956)   \r",
      "Resolving deltas:  95% (7559/7956)   \r",
      "Resolving deltas:  96% (7639/7956)   \r",
      "Resolving deltas:  97% (7721/7956)   \r"
     ]
    },
    {
     "name": "stdout",
     "output_type": "stream",
     "text": [
      "Resolving deltas:  98% (7797/7956)   \r",
      "Resolving deltas:  99% (7893/7956)   \r",
      "Resolving deltas: 100% (7956/7956)   \r",
      "Resolving deltas: 100% (7956/7956), done.\r\n"
     ]
    }
   ],
   "source": [
    "!git clone https://github.com/kpu/kenlm"
   ]
  },
  {
   "cell_type": "code",
   "execution_count": 6,
   "id": "twelve-subscription",
   "metadata": {
    "execution": {
     "iopub.execute_input": "2021-06-06T11:45:10.070520Z",
     "iopub.status.busy": "2021-06-06T11:45:10.065761Z",
     "iopub.status.idle": "2021-06-06T11:45:15.197116Z",
     "shell.execute_reply": "2021-06-06T11:45:15.196182Z",
     "shell.execute_reply.started": "2021-05-31T13:58:12.001162Z"
    },
    "papermill": {
     "duration": 5.165443,
     "end_time": "2021-06-06T11:45:15.197291",
     "exception": false,
     "start_time": "2021-06-06T11:45:10.031848",
     "status": "completed"
    },
    "tags": []
   },
   "outputs": [],
   "source": [
    "%%capture\n",
    "!apt-get -y install libeigen3-dev liblzma-dev zlib1g-dev libbz2-dev"
   ]
  },
  {
   "cell_type": "code",
   "execution_count": 7,
   "id": "combined-border",
   "metadata": {
    "execution": {
     "iopub.execute_input": "2021-06-06T11:45:15.262906Z",
     "iopub.status.busy": "2021-06-06T11:45:15.262144Z",
     "iopub.status.idle": "2021-06-06T11:46:29.636836Z",
     "shell.execute_reply": "2021-06-06T11:46:29.637474Z"
    },
    "papermill": {
     "duration": 74.413148,
     "end_time": "2021-06-06T11:46:29.637825",
     "exception": false,
     "start_time": "2021-06-06T11:45:15.224677",
     "status": "completed"
    },
    "tags": []
   },
   "outputs": [],
   "source": [
    "\n",
    "%%capture\n",
    "%cd kenlm\n",
    "!mkdir build\n",
    "%cd build\n",
    "!cmake ..\n",
    "!make -j 4\n",
    "%cd /tmp"
   ]
  },
  {
   "cell_type": "code",
   "execution_count": 8,
   "id": "extraordinary-generator",
   "metadata": {
    "execution": {
     "iopub.execute_input": "2021-06-06T11:46:29.696788Z",
     "iopub.status.busy": "2021-06-06T11:46:29.696179Z",
     "iopub.status.idle": "2021-06-06T11:47:10.489546Z",
     "shell.execute_reply": "2021-06-06T11:47:10.488974Z",
     "shell.execute_reply.started": "2021-05-31T14:00:27.915818Z"
    },
    "papermill": {
     "duration": 40.823473,
     "end_time": "2021-06-06T11:47:10.489706",
     "exception": false,
     "start_time": "2021-06-06T11:46:29.666233",
     "status": "completed"
    },
    "tags": []
   },
   "outputs": [],
   "source": [
    "%%capture\n",
    "%cd /tmp/kenlm\n",
    "!python setup.py install\n",
    "%cd /tmp"
   ]
  },
  {
   "cell_type": "code",
   "execution_count": 9,
   "id": "emotional-mounting",
   "metadata": {
    "execution": {
     "iopub.execute_input": "2021-06-06T11:47:10.550301Z",
     "iopub.status.busy": "2021-06-06T11:47:10.549600Z",
     "iopub.status.idle": "2021-06-06T11:47:10.553019Z",
     "shell.execute_reply": "2021-06-06T11:47:10.552467Z",
     "shell.execute_reply.started": "2021-05-25T22:58:58.397816Z"
    },
    "papermill": {
     "duration": 0.036118,
     "end_time": "2021-06-06T11:47:10.553171",
     "exception": false,
     "start_time": "2021-06-06T11:47:10.517053",
     "status": "completed"
    },
    "tags": []
   },
   "outputs": [],
   "source": [
    "import os\n",
    "os.environ['PATH'] = f\"{os.environ['PATH']}:/tmp/kenlm/build/bin/\"\n",
    "os.environ['FAIRSEQ_ROOT'] = '/tmp/fairseq'"
   ]
  },
  {
   "cell_type": "code",
   "execution_count": 10,
   "id": "automotive-revolution",
   "metadata": {
    "execution": {
     "iopub.execute_input": "2021-06-06T11:47:10.613051Z",
     "iopub.status.busy": "2021-06-06T11:47:10.612297Z",
     "iopub.status.idle": "2021-06-06T11:47:10.617345Z",
     "shell.execute_reply": "2021-06-06T11:47:10.618072Z",
     "shell.execute_reply.started": "2021-05-31T11:51:49.832574Z"
    },
    "papermill": {
     "duration": 0.037854,
     "end_time": "2021-06-06T11:47:10.618316",
     "exception": false,
     "start_time": "2021-06-06T11:47:10.580462",
     "status": "completed"
    },
    "tags": []
   },
   "outputs": [
    {
     "name": "stdout",
     "output_type": "stream",
     "text": [
      "/tmp/fairseq\n"
     ]
    }
   ],
   "source": [
    "%cd /tmp/fairseq/"
   ]
  },
  {
   "cell_type": "code",
   "execution_count": 11,
   "id": "closing-shark",
   "metadata": {
    "execution": {
     "iopub.execute_input": "2021-06-06T11:47:10.684356Z",
     "iopub.status.busy": "2021-06-06T11:47:10.683676Z",
     "iopub.status.idle": "2021-06-06T11:48:29.650519Z",
     "shell.execute_reply": "2021-06-06T11:48:29.649959Z"
    },
    "papermill": {
     "duration": 79.004155,
     "end_time": "2021-06-06T11:48:29.650676",
     "exception": false,
     "start_time": "2021-06-06T11:47:10.646521",
     "status": "completed"
    },
    "tags": []
   },
   "outputs": [],
   "source": [
    "%%capture\n",
    "!python setup.py install"
   ]
  },
  {
   "cell_type": "code",
   "execution_count": 12,
   "id": "interstate-importance",
   "metadata": {
    "execution": {
     "iopub.execute_input": "2021-06-06T11:48:29.712031Z",
     "iopub.status.busy": "2021-06-06T11:48:29.711144Z",
     "iopub.status.idle": "2021-06-06T11:48:29.715241Z",
     "shell.execute_reply": "2021-06-06T11:48:29.715762Z"
    },
    "papermill": {
     "duration": 0.037686,
     "end_time": "2021-06-06T11:48:29.715935",
     "exception": false,
     "start_time": "2021-06-06T11:48:29.678249",
     "status": "completed"
    },
    "tags": []
   },
   "outputs": [
    {
     "name": "stdout",
     "output_type": "stream",
     "text": [
      "/tmp/fairseq\n"
     ]
    }
   ],
   "source": [
    "%cd /tmp/fairseq/"
   ]
  },
  {
   "cell_type": "code",
   "execution_count": 13,
   "id": "quantitative-demand",
   "metadata": {
    "execution": {
     "iopub.execute_input": "2021-06-06T11:48:29.784231Z",
     "iopub.status.busy": "2021-06-06T11:48:29.783368Z",
     "iopub.status.idle": "2021-06-06T11:48:29.786519Z",
     "shell.execute_reply": "2021-06-06T11:48:29.787039Z"
    },
    "papermill": {
     "duration": 0.038777,
     "end_time": "2021-06-06T11:48:29.787229",
     "exception": false,
     "start_time": "2021-06-06T11:48:29.748452",
     "status": "completed"
    },
    "tags": []
   },
   "outputs": [],
   "source": [
    "os.environ['HYDRA_FULL_ERROR'] = '1'"
   ]
  },
  {
   "cell_type": "code",
   "execution_count": 14,
   "id": "successful-brighton",
   "metadata": {
    "execution": {
     "iopub.execute_input": "2021-06-06T11:48:29.854961Z",
     "iopub.status.busy": "2021-06-06T11:48:29.850296Z",
     "iopub.status.idle": "2021-06-06T11:48:39.172560Z",
     "shell.execute_reply": "2021-06-06T11:48:39.171915Z"
    },
    "papermill": {
     "duration": 9.356834,
     "end_time": "2021-06-06T11:48:39.172704",
     "exception": false,
     "start_time": "2021-06-06T11:48:29.815870",
     "status": "completed"
    },
    "tags": []
   },
   "outputs": [],
   "source": [
    "%%capture\n",
    "!pip install editdistance"
   ]
  },
  {
   "cell_type": "markdown",
   "id": "auburn-springfield",
   "metadata": {
    "papermill": {
     "duration": 0.02993,
     "end_time": "2021-06-06T11:48:39.230837",
     "exception": false,
     "start_time": "2021-06-06T11:48:39.200907",
     "status": "completed"
    },
    "tags": []
   },
   "source": [
    "## GAN"
   ]
  },
  {
   "cell_type": "code",
   "execution_count": 15,
   "id": "together-asian",
   "metadata": {
    "execution": {
     "iopub.execute_input": "2021-06-06T11:48:39.293450Z",
     "iopub.status.busy": "2021-06-06T11:48:39.292764Z",
     "iopub.status.idle": "2021-06-06T11:48:39.297234Z",
     "shell.execute_reply": "2021-06-06T11:48:39.297668Z"
    },
    "papermill": {
     "duration": 0.038823,
     "end_time": "2021-06-06T11:48:39.297848",
     "exception": false,
     "start_time": "2021-06-06T11:48:39.259025",
     "status": "completed"
    },
    "tags": []
   },
   "outputs": [
    {
     "name": "stdout",
     "output_type": "stream",
     "text": [
      "Writing rungan.sh\n"
     ]
    }
   ],
   "source": [
    "%%writefile rungan.sh\n",
    "PREFIX=w2v_unsup_gan_xp\n",
    "#TASK_DATA=/path/to/features/unfiltered/precompute_unfiltered_pca512_cls128_mean_pooled\n",
    "TASK_DATA=/kaggle/input/wav2vec-u-cv-swedish-audio/precompute_pca512_cls128_mean_pooled/\n",
    "#TEXT_DATA=/path/to/data  # path to fairseq-preprocessed GAN data\n",
    "TEXT_DATA=/kaggle/input/wav2vec-u-cv-swedish-text-prep/preppedtext/phones/\n",
    "#KENLM_PATH=/path/to/data/kenlm.phn.o4.bin  # KenLM 4-gram phoneme language model (LM data = GAN data here)\n",
    "KENLM_PATH=/kaggle/input/wav2vec-u-cv-swedish-text-prep/preppedtext/phones/lm.phones.filtered.04.bin\n",
    "\n",
    "PREFIX=$PREFIX fairseq-hydra-train \\\n",
    "\t-m --config-dir fairseq/config/model/wav2vecu/gan \\\n",
    "\t--config-name w2vu \\\n",
    "\ttask.data=${TASK_DATA} \\\n",
    "\ttask.text_data=${TEXT_DATA} \\\n",
    "\ttask.kenlm_path=${KENLM_PATH} \\\n",
    "\tcheckpoint.no_epoch_checkpoints=false \\\n",
    "\tcheckpoint.keep_last_epochs=5 \\\n",
    "\tcheckpoint.save_dir=/kaggle/working \\\n",
    "\t'common.seed=range(0,5)'"
   ]
  },
  {
   "cell_type": "code",
   "execution_count": 16,
   "id": "sexual-marking",
   "metadata": {
    "execution": {
     "iopub.execute_input": "2021-06-06T11:48:39.363775Z",
     "iopub.status.busy": "2021-06-06T11:48:39.363063Z"
    },
    "papermill": {
     "duration": null,
     "end_time": null,
     "exception": false,
     "start_time": "2021-06-06T11:48:39.326353",
     "status": "running"
    },
    "tags": []
   },
   "outputs": [
    {
     "name": "stdout",
     "output_type": "stream",
     "text": [
      "[2021-06-06 11:48:54,456][HYDRA] Launching 5 jobs locally\r\n",
      "[2021-06-06 11:48:54,456][HYDRA] \t#0 : task.data=/kaggle/input/wav2vec-u-cv-swedish-audio/precompute_pca512_cls128_mean_pooled/ task.text_data=/kaggle/input/wav2vec-u-cv-swedish-text-prep/preppedtext/phones/ task.kenlm_path=/kaggle/input/wav2vec-u-cv-swedish-text-prep/preppedtext/phones/lm.phones.filtered.04.bin checkpoint.no_epoch_checkpoints=False checkpoint.keep_last_epochs=5 checkpoint.save_dir=/kaggle/working common.seed=0\r\n"
     ]
    },
    {
     "name": "stdout",
     "output_type": "stream",
     "text": [
      "[2021-06-06 11:48:56,766][fairseq_cli.train][INFO] - {'_name': None, 'common': {'_name': None, 'no_progress_bar': False, 'log_interval': 100, 'log_format': 'json', 'log_file': None, 'tensorboard_logdir': 'tb', 'wandb_project': None, 'azureml_logging': False, 'seed': 0, 'cpu': False, 'tpu': False, 'bf16': False, 'memory_efficient_bf16': False, 'fp16': False, 'memory_efficient_fp16': False, 'fp16_no_flatten_grads': True, 'fp16_init_scale': 128, 'fp16_scale_window': None, 'fp16_scale_tolerance': 0.0, 'min_loss_scale': 0.0001, 'threshold_loss_scale': None, 'amp': False, 'amp_batch_retries': 2, 'amp_init_scale': 128, 'amp_scale_window': None, 'user_dir': None, 'empty_cache_freq': 0, 'all_gather_list_size': 16384, 'model_parallel_size': 1, 'quantization_config_path': None, 'profile': False, 'reset_logging': False, 'suppress_crashes': False, 'use_plasma_view': False, 'plasma_path': '/tmp/plasma'}, 'common_eval': {'_name': None, 'path': None, 'post_process': None, 'quiet': False, 'model_overrides': '{}', 'results_path': None}, 'distributed_training': {'_name': None, 'distributed_world_size': 1, 'distributed_rank': 0, 'distributed_backend': 'nccl', 'distributed_init_method': None, 'distributed_port': -1, 'device_id': 0, 'distributed_no_spawn': False, 'ddp_backend': 'pytorch_ddp', 'ddp_comm_hook': 'none', 'bucket_cap_mb': 25, 'fix_batches_to_gpus': False, 'find_unused_parameters': False, 'fast_stat_sync': False, 'heartbeat_timeout': -1, 'broadcast_buffers': False, 'slowmo_momentum': None, 'slowmo_algorithm': 'LocalSGD', 'localsgd_frequency': 3, 'nprocs_per_node': 1, 'pipeline_model_parallel': False, 'pipeline_balance': None, 'pipeline_devices': None, 'pipeline_chunks': 0, 'pipeline_encoder_balance': None, 'pipeline_encoder_devices': None, 'pipeline_decoder_balance': None, 'pipeline_decoder_devices': None, 'pipeline_checkpoint': 'never', 'zero_sharding': 'none', 'fp16': False, 'memory_efficient_fp16': False, 'tpu': False, 'no_reshard_after_forward': False, 'fp32_reduce_scatter': False, 'cpu_offload': False, 'use_sharded_state': False, 'distributed_num_procs': 0}, 'dataset': {'_name': None, 'num_workers': 6, 'skip_invalid_size_inputs_valid_test': True, 'max_tokens': None, 'batch_size': 160, 'required_batch_size_multiple': 8, 'required_seq_len_multiple': 1, 'dataset_impl': None, 'data_buffer_size': 10, 'train_subset': 'train', 'valid_subset': 'valid', 'combine_valid_subsets': None, 'ignore_unused_valid_subsets': False, 'validate_interval': 1, 'validate_interval_updates': 0, 'validate_after_updates': 0, 'fixed_validation_seed': None, 'disable_validation': False, 'max_tokens_valid': None, 'batch_size_valid': 160, 'max_valid_steps': None, 'curriculum': 0, 'gen_subset': 'test', 'num_shards': 1, 'shard_id': 0}, 'optimization': {'_name': None, 'max_epoch': 0, 'max_update': 150000, 'stop_time_hours': 0.0, 'clip_norm': 5.0, 'sentence_avg': False, 'update_freq': [1], 'lr': [0.0], 'stop_min_lr': -1.0, 'use_bmuf': False}, 'checkpoint': {'_name': None, 'save_dir': '/kaggle/working', 'restore_file': 'checkpoint_last.pt', 'finetune_from_model': None, 'reset_dataloader': False, 'reset_lr_scheduler': False, 'reset_meters': False, 'reset_optimizer': False, 'optimizer_overrides': '{}', 'save_interval': 1, 'save_interval_updates': 0, 'keep_interval_updates': -1, 'keep_interval_updates_pattern': -1, 'keep_last_epochs': 5, 'keep_best_checkpoints': -1, 'no_save': False, 'no_epoch_checkpoints': False, 'no_last_checkpoints': False, 'no_save_optimizer_state': False, 'best_checkpoint_metric': 'weighted_lm_ppl', 'maximize_best_checkpoint_metric': False, 'patience': -1, 'checkpoint_suffix': '', 'checkpoint_shard_count': 1, 'load_checkpoint_on_all_dp_ranks': False, 'write_checkpoints_asynchronously': False, 'model_parallel_size': 1}, 'bmuf': {'_name': None, 'block_lr': 1.0, 'block_momentum': 0.875, 'global_sync_iter': 50, 'warmup_iterations': 500, 'use_nbm': False, 'average_sync': False, 'distributed_world_size': 1}, 'generation': {'_name': None, 'beam': 5, 'nbest': 1, 'max_len_a': 0.0, 'max_len_b': 200, 'min_len': 1, 'match_source_len': False, 'unnormalized': False, 'no_early_stop': False, 'no_beamable_mm': False, 'lenpen': 1.0, 'unkpen': 0.0, 'replace_unk': None, 'sacrebleu': False, 'score_reference': False, 'prefix_size': 0, 'no_repeat_ngram_size': 0, 'sampling': False, 'sampling_topk': -1, 'sampling_topp': -1.0, 'constraints': None, 'temperature': 1.0, 'diverse_beam_groups': -1, 'diverse_beam_strength': 0.5, 'diversity_rate': -1.0, 'print_alignment': None, 'print_step': False, 'lm_path': None, 'lm_weight': 0.0, 'iter_decode_eos_penalty': 0.0, 'iter_decode_max_iter': 10, 'iter_decode_force_max_iter': False, 'iter_decode_with_beam': 1, 'iter_decode_with_external_reranker': False, 'retain_iter_history': False, 'retain_dropout': False, 'retain_dropout_modules': None, 'decoding_format': None, 'no_seed_provided': False}, 'eval_lm': {'_name': None, 'output_word_probs': False, 'output_word_stats': False, 'context_window': 0, 'softmax_batch': 9223372036854775807}, 'interactive': {'_name': None, 'buffer_size': 0, 'input': '-'}, 'model': {'_name': 'wav2vec_u', 'discriminator_kernel': 6, 'discriminator_dilation': 1, 'discriminator_dim': 384, 'discriminator_causal': True, 'discriminator_linear_emb': False, 'discriminator_depth': 2, 'discriminator_max_pool': False, 'discriminator_act_after_linear': False, 'discriminator_dropout': 0.0, 'discriminator_spectral_norm': False, 'discriminator_weight_norm': False, 'generator_kernel': 4, 'generator_dilation': 1, 'generator_stride': 1, 'generator_bias': False, 'generator_dropout': 0.1, 'blank_weight': 0.0, 'blank_mode': 'add', 'blank_is_sil': False, 'no_softmax': False, 'smoothness_weight': 0.5, 'smoothing': 0.0, 'smoothing_one_sided': False, 'gradient_penalty': 1.5, 'probabilistic_grad_penalty_slicing': False, 'code_penalty': 4.0, 'gumbel': False, 'hard_gumbel': False, 'temp': [2.0, 0.1, 0.99995], 'input_dim': 512, 'wgan_loss': False, 'segmentation': {'_name': None, 'type': 'JOIN', 'subsample_rate': 0.25, 'mean_pool': True, 'mean_pool_join': False, 'remove_zeros': False}}, 'task': {'_name': 'gan_audio_pretraining_feats', 'data': '/kaggle/input/wav2vec-u-cv-swedish-audio/precompute_pca512_cls128_mean_pooled/', 'text_data': '/kaggle/input/wav2vec-u-cv-swedish-text-prep/preppedtext/phones/', 'max_length': None, 'labels': 'phn', 'unfiltered': False, 'ctc_eval': False, 'sort_by_length': False, 'shuffle': True, 'append_eos': False, 'uppercase': False, 'skipwords': '', 'kenlm_path': '/kaggle/input/wav2vec-u-cv-swedish-text-prep/preppedtext/phones/lm.phones.filtered.04.bin', 'vocab_usage_power': 2.0, 'word_decoder_config': None, 'word_kenlm_path': None, 'decoding_config': {'_name': None, 'kenlm_path': None, 'lm_weight': 0.0, 'blank_weight': 0.0}}, 'criterion': {'_name': 'model', 'loss_weights': {}, 'log_keys': ['accuracy_dense', 'accuracy_token', 'temp', 'code_ppl']}, 'optimizer': {'_name': 'composite', 'groups': {'generator': {'lr': [0.0004], 'lr_float': None, 'optimizer': {'_name': 'adam', 'adam_betas': [0.5, 0.98], 'adam_eps': 1e-06, 'weight_decay': 0, 'amsgrad': False}, 'lr_scheduler': {'_name': 'fixed', 'warmup_updates': 0}}, 'discriminator': {'lr': [0.0005], 'lr_float': None, 'optimizer': {'_name': 'adam', 'adam_betas': [0.5, 0.98], 'adam_eps': 1e-06, 'weight_decay': 0.0001, 'amsgrad': False}, 'lr_scheduler': {'_name': 'fixed', 'warmup_updates': 0}}}}, 'lr_scheduler': {'_name': 'pass_through'}, 'scoring': None, 'bpe': None, 'tokenizer': None, 'job_logging_cfg': {'version': 1, 'formatters': {'simple': {'format': '[%(asctime)s][%(name)s][%(levelname)s] - %(message)s'}}, 'handlers': {'console': {'class': 'logging.StreamHandler', 'formatter': 'simple', 'stream': 'ext://sys.stdout'}, 'file': {'class': 'logging.FileHandler', 'formatter': 'simple', 'filename': 'hydra_train.log'}}, 'root': {'level': 'INFO', 'handlers': ['console', 'file']}, 'disable_existing_loggers': False}}\r\n"
     ]
    },
    {
     "name": "stdout",
     "output_type": "stream",
     "text": [
      "[2021-06-06 11:48:56,893][fairseq_cli.train][INFO] - Wav2vec_U(\r\n",
      "  (discriminator): Discriminator(\r\n",
      "    (net): Sequential(\r\n",
      "      (0): Conv1d(45, 384, kernel_size=(6,), stride=(1,), padding=(5,))\r\n",
      "      (1): SamePad()\r\n",
      "      (2): Dropout(p=0.0, inplace=False)\r\n",
      "      (3): Sequential(\r\n",
      "        (0): Conv1d(384, 384, kernel_size=(6,), stride=(1,), padding=(5,))\r\n",
      "        (1): SamePad()\r\n",
      "        (2): Dropout(p=0.0, inplace=False)\r\n",
      "        (3): GELU()\r\n",
      "      )\r\n",
      "      (4): Conv1d(384, 1, kernel_size=(6,), stride=(1,), padding=(5,))\r\n",
      "      (5): SamePad()\r\n",
      "    )\r\n",
      "  )\r\n",
      "  (segmenter): JoinSegmenter()\r\n",
      "  (generator): Generator(\r\n",
      "    (dropout): Dropout(p=0.1, inplace=False)\r\n",
      "    (proj): Sequential(\r\n",
      "      (0): TransposeLast()\r\n",
      "      (1): Conv1d(512, 45, kernel_size=(4,), stride=(1,), padding=(2,), bias=False)\r\n",
      "      (2): TransposeLast()\r\n",
      "    )\r\n",
      "  )\r\n",
      ")\r\n",
      "[2021-06-06 11:48:56,893][fairseq_cli.train][INFO] - task: UnpairedAudioText\r\n",
      "[2021-06-06 11:48:56,894][fairseq_cli.train][INFO] - model: Wav2vec_U\r\n",
      "[2021-06-06 11:48:56,894][fairseq_cli.train][INFO] - criterion: ModelCriterion\r\n",
      "[2021-06-06 11:48:56,894][fairseq_cli.train][INFO] - num. shared model params: 1,083,649 (num. trained: 1,083,649)\r\n",
      "[2021-06-06 11:48:56,894][fairseq_cli.train][INFO] - num. expert model params: 0 (num. trained: 0)\r\n"
     ]
    },
    {
     "name": "stdout",
     "output_type": "stream",
     "text": [
      "[2021-06-06 11:48:56,990][fairseq.data.extracted_features_dataset][INFO] - loaded 2019, skipped 0 samples\r\n",
      "[2021-06-06 11:48:56,990][fairseq.tasks.unpaired_audio_text][INFO] - split valid has unpaired text? False\r\n",
      "[2021-06-06 11:48:56,998][fairseq_cli.train][INFO] - training on 1 devices (GPUs/TPUs)\r\n",
      "[2021-06-06 11:48:56,999][fairseq_cli.train][INFO] - max tokens per device = None and max sentences per device = 160\r\n",
      "[2021-06-06 11:48:57,001][fairseq.trainer][INFO] - Preparing to load checkpoint /kaggle/working/checkpoint_last.pt\r\n"
     ]
    },
    {
     "name": "stdout",
     "output_type": "stream",
     "text": [
      "[2021-06-06 11:48:57,388][fairseq.trainer][INFO] - Loaded checkpoint /kaggle/working/checkpoint_last.pt (epoch 4754 @ 76048 updates)\r\n",
      "[2021-06-06 11:48:57,389][fairseq.trainer][INFO] - loading train data for epoch 4754\r\n"
     ]
    },
    {
     "name": "stdout",
     "output_type": "stream",
     "text": [
      "[2021-06-06 11:48:57,459][fairseq.data.extracted_features_dataset][INFO] - loaded 2331, skipped 0 samples\r\n",
      "[2021-06-06 11:48:57,459][fairseq.tasks.unpaired_audio_text][INFO] - split train has unpaired text? True\r\n"
     ]
    },
    {
     "name": "stdout",
     "output_type": "stream",
     "text": [
      "[2021-06-06 11:48:57,483][fairseq.data.data_utils][INFO] - loaded 2,328 examples from: /kaggle/input/wav2vec-u-cv-swedish-text-prep/preppedtext/phones/train\r\n"
     ]
    },
    {
     "name": "stdout",
     "output_type": "stream",
     "text": [
      "[2021-06-06 11:48:58,849][fairseq.trainer][INFO] - begin training epoch 4754\r\n",
      "[2021-06-06 11:48:58,851][fairseq_cli.train][INFO] - Start iterating over samples\r\n"
     ]
    },
    {
     "name": "stdout",
     "output_type": "stream",
     "text": [
      "[2021-06-06 11:52:00,480][fairseq_cli.train][INFO] - begin validation on \"valid\" subset\r\n"
     ]
    },
    {
     "name": "stdout",
     "output_type": "stream",
     "text": [
      "[2021-06-06 11:52:04,047][fairseq.tasks.unpaired_audio_text][INFO] - REF: ɛ n f œ ʂ ə n a d ɵ ʂ ə k t f øː r d eː t s ɔ m h ɛ n d ə p oː ɕ œ r k ɔ n s ɛ t ə n\r\n",
      "[2021-06-06 11:52:04,049][fairseq.tasks.unpaired_audio_text][INFO] - HYP: n ɛ n s j œ f œ j b j œ yː k yː v ɵ v b n ə m œ l b uː s eː r ɛ oː s l ɪ ŋ k l ɪ l a ɔ k m k n a\r\n",
      "[2021-06-06 11:52:04,053][fairseq.tasks.unpaired_audio_text][INFO] - LM [REF]: -53.44462585449219, 0.05339602260269112\r\n",
      "[2021-06-06 11:52:04,053][fairseq.tasks.unpaired_audio_text][INFO] - LM [HYP]: -86.07255554199219, 0.014745823490054892\r\n"
     ]
    },
    {
     "name": "stdout",
     "output_type": "stream",
     "text": [
      "[2021-06-06 11:52:10,237][valid][INFO] - {\"epoch\": 4754, \"valid_loss\": \"1.008\", \"valid_ntokens\": \"3039.79\", \"valid_nsentences\": \"144.214\", \"valid_lm_score_sum\": \"-90083.7\", \"valid_num_pred_chars\": \"48629\", \"valid_vocab_seen_pct\": \"0.891986\", \"valid_uer\": \"100.754\", \"valid_weighted_lm_ppl\": \"75.4929\", \"valid_lm_ppl\": \"60.0651\", \"valid_wps\": \"16827.2\", \"valid_wpb\": \"3039.8\", \"valid_bsz\": \"144.2\", \"valid_num_updates\": \"76064\", \"valid_best_weighted_lm_ppl\": \"73.4256\"}\r\n",
      "[2021-06-06 11:52:10,240][fairseq.checkpoint_utils][INFO] - Preparing to save checkpoint for epoch 4754 @ 76064 updates\r\n",
      "[2021-06-06 11:52:10,242][fairseq.trainer][INFO] - Saving checkpoint to /kaggle/working/checkpoint4754.pt\r\n"
     ]
    },
    {
     "name": "stdout",
     "output_type": "stream",
     "text": [
      "[2021-06-06 11:52:10,279][fairseq.trainer][INFO] - Finished saving checkpoint to /kaggle/working/checkpoint4754.pt\r\n",
      "[2021-06-06 11:52:10,307][fairseq.checkpoint_utils][INFO] - Saved checkpoint /kaggle/working/checkpoint4754.pt (epoch 4754 @ 76064 updates, score 75.49289643192441) (writing took 0.06661556800008839 seconds)\r\n",
      "[2021-06-06 11:52:10,308][fairseq_cli.train][INFO] - end of epoch 4754 (average epoch stats below)\r\n"
     ]
    },
    {
     "name": "stdout",
     "output_type": "stream",
     "text": [
      "[2021-06-06 11:52:10,315][train][INFO] - {\"epoch\": 4754, \"train_loss\": \"3.509\", \"train_ntokens\": \"145.688\", \"train_nsentences\": \"145.688\", \"train_temp\": \"0.1\", \"train_code_ppl\": \"8.77\", \"train_loss_code_pen\": \"0.302\", \"train_loss_smoothness\": \"1.983\", \"train_loss_dense_g\": \"3.976\", \"train_lm_score_sum\": 0.0, \"train_num_pred_chars\": 0.0, \"train_loss_grad_pen\": \"0.098\", \"train_loss_dense_d\": \"0.029\", \"train_loss_token_d\": \"0.03\", \"train_wps\": \"11.6\", \"train_ups\": \"0.08\", \"train_wpb\": \"145.7\", \"train_bsz\": \"145.7\", \"train_num_updates\": \"76064\", \"train_lr_discriminator\": \"0.0005\", \"train_lr_generator\": \"0.0004\", \"train_gnorm\": \"30.359\", \"train_clip\": \"81.2\", \"train_train_wall\": \"181\", \"train_wall\": \"193\"}\r\n"
     ]
    },
    {
     "name": "stdout",
     "output_type": "stream",
     "text": [
      "[2021-06-06 11:52:10,370][fairseq.trainer][INFO] - begin training epoch 4755\r\n",
      "[2021-06-06 11:52:10,372][fairseq_cli.train][INFO] - Start iterating over samples\r\n"
     ]
    },
    {
     "name": "stdout",
     "output_type": "stream",
     "text": [
      "[2021-06-06 11:55:14,292][fairseq_cli.train][INFO] - begin validation on \"valid\" subset\r\n"
     ]
    },
    {
     "name": "stdout",
     "output_type": "stream",
     "text": [
      "[2021-06-06 11:55:19,290][fairseq.tasks.unpaired_audio_text][INFO] - REF: ɛ n f œ ʂ ə n a d ɵ ʂ ə k t f øː r d eː t s ɔ m h ɛ n d ə p oː ɕ œ r k ɔ n s ɛ t ə n\r\n",
      "[2021-06-06 11:55:19,293][fairseq.tasks.unpaired_audio_text][INFO] - HYP: n ɕ n s j œ r œ j b j œ j k yː v ɵ v b n ə m œ l b ə uː s eː r ɛ oː s l ɪ ŋ k l ɪ l a ɔ k m k n a\r\n",
      "[2021-06-06 11:55:19,299][fairseq.tasks.unpaired_audio_text][INFO] - LM [REF]: -53.44462585449219, 0.05339602260269112\r\n",
      "[2021-06-06 11:55:19,299][fairseq.tasks.unpaired_audio_text][INFO] - LM [HYP]: -89.25318908691406, 0.013821607652351265\r\n"
     ]
    },
    {
     "name": "stdout",
     "output_type": "stream",
     "text": [
      "[2021-06-06 11:55:20,014][valid][INFO] - {\"epoch\": 4755, \"valid_loss\": \"1.006\", \"valid_ntokens\": \"3039.79\", \"valid_nsentences\": \"144.214\", \"valid_lm_score_sum\": \"-89888.8\", \"valid_num_pred_chars\": \"48562\", \"valid_vocab_seen_pct\": \"0.89547\", \"valid_uer\": \"100.632\", \"valid_weighted_lm_ppl\": \"74.6487\", \"valid_lm_ppl\": \"59.8584\", \"valid_wps\": \"9890.3\", \"valid_wpb\": \"3039.8\", \"valid_bsz\": \"144.2\", \"valid_num_updates\": \"76080\", \"valid_best_weighted_lm_ppl\": \"73.4256\"}\r\n",
      "[2021-06-06 11:55:20,018][fairseq.checkpoint_utils][INFO] - Preparing to save checkpoint for epoch 4755 @ 76080 updates\r\n",
      "[2021-06-06 11:55:20,024][fairseq.trainer][INFO] - Saving checkpoint to /kaggle/working/checkpoint4755.pt\r\n"
     ]
    },
    {
     "name": "stdout",
     "output_type": "stream",
     "text": [
      "[2021-06-06 11:55:20,119][fairseq.trainer][INFO] - Finished saving checkpoint to /kaggle/working/checkpoint4755.pt\r\n"
     ]
    },
    {
     "name": "stdout",
     "output_type": "stream",
     "text": [
      "[2021-06-06 11:55:20,173][fairseq.checkpoint_utils][INFO] - Saved checkpoint /kaggle/working/checkpoint4755.pt (epoch 4755 @ 76080 updates, score 74.6487342816626) (writing took 0.15523768399998517 seconds)\r\n",
      "[2021-06-06 11:55:20,174][fairseq_cli.train][INFO] - end of epoch 4755 (average epoch stats below)\r\n",
      "[2021-06-06 11:55:20,178][train][INFO] - {\"epoch\": 4755, \"train_loss\": \"3.591\", \"train_ntokens\": \"145.688\", \"train_nsentences\": \"145.688\", \"train_temp\": \"0.1\", \"train_code_ppl\": \"8.809\", \"train_loss_code_pen\": \"0.331\", \"train_loss_smoothness\": \"2.066\", \"train_loss_dense_g\": \"4.006\", \"train_lm_score_sum\": 0.0, \"train_num_pred_chars\": 0.0, \"train_loss_grad_pen\": \"0.103\", \"train_loss_dense_d\": \"0.033\", \"train_loss_token_d\": \"0.03\", \"train_wps\": \"12.3\", \"train_ups\": \"0.08\", \"train_wpb\": \"145.7\", \"train_bsz\": \"145.7\", \"train_num_updates\": \"76080\", \"train_lr_discriminator\": \"0.0005\", \"train_lr_generator\": \"0.0004\", \"train_gnorm\": \"31.614\", \"train_clip\": \"81.2\", \"train_train_wall\": \"183\", \"train_wall\": \"383\"}\r\n"
     ]
    },
    {
     "name": "stdout",
     "output_type": "stream",
     "text": [
      "[2021-06-06 11:55:20,257][fairseq.trainer][INFO] - begin training epoch 4756\r\n",
      "[2021-06-06 11:55:20,259][fairseq_cli.train][INFO] - Start iterating over samples\r\n"
     ]
    },
    {
     "name": "stdout",
     "output_type": "stream",
     "text": [
      "[2021-06-06 11:58:39,943][fairseq_cli.train][INFO] - begin validation on \"valid\" subset\r\n"
     ]
    },
    {
     "name": "stdout",
     "output_type": "stream",
     "text": [
      "[2021-06-06 11:58:42,405][fairseq.tasks.unpaired_audio_text][INFO] - REF: ɛ n f œ ʂ ə n a d ɵ ʂ ə k t f øː r d eː t s ɔ m h ɛ n d ə p oː ɕ œ r k ɔ n s ɛ t ə n\r\n",
      "[2021-06-06 11:58:42,407][fairseq.tasks.unpaired_audio_text][INFO] - HYP: t ɛ n s j œ f œ j b j œ j k yː v ɵ v b n ə m œ l b uː s eː r ɛ oː s l ɪ ŋ k l ɪ l a ɔ k m ʉ n a\r\n",
      "[2021-06-06 11:58:42,412][fairseq.tasks.unpaired_audio_text][INFO] - LM [REF]: -53.44462585449219, 0.05339602260269112\r\n",
      "[2021-06-06 11:58:42,412][fairseq.tasks.unpaired_audio_text][INFO] - LM [HYP]: -84.91934204101562, 0.01560290587073134\r\n"
     ]
    },
    {
     "name": "stdout",
     "output_type": "stream",
     "text": [
      "[2021-06-06 11:58:42,909][valid][INFO] - {\"epoch\": 4756, \"valid_loss\": \"1.007\", \"valid_ntokens\": \"3039.79\", \"valid_nsentences\": \"144.214\", \"valid_lm_score_sum\": \"-89849.8\", \"valid_num_pred_chars\": \"48537\", \"valid_vocab_seen_pct\": \"0.891986\", \"valid_uer\": \"100.71\", \"valid_weighted_lm_ppl\": \"75.2518\", \"valid_lm_ppl\": \"59.8732\", \"valid_wps\": \"19227.1\", \"valid_wpb\": \"3039.8\", \"valid_bsz\": \"144.2\", \"valid_num_updates\": \"76096\", \"valid_best_weighted_lm_ppl\": \"73.4256\"}\r\n",
      "[2021-06-06 11:58:42,912][fairseq.checkpoint_utils][INFO] - Preparing to save checkpoint for epoch 4756 @ 76096 updates\r\n",
      "[2021-06-06 11:58:42,914][fairseq.trainer][INFO] - Saving checkpoint to /kaggle/working/checkpoint4756.pt\r\n"
     ]
    },
    {
     "name": "stdout",
     "output_type": "stream",
     "text": [
      "[2021-06-06 11:58:42,951][fairseq.trainer][INFO] - Finished saving checkpoint to /kaggle/working/checkpoint4756.pt\r\n",
      "[2021-06-06 11:58:42,980][fairseq.checkpoint_utils][INFO] - Saved checkpoint /kaggle/working/checkpoint4756.pt (epoch 4756 @ 76096 updates, score 75.25175372782577) (writing took 0.06781339999997726 seconds)\r\n",
      "[2021-06-06 11:58:42,982][fairseq_cli.train][INFO] - end of epoch 4756 (average epoch stats below)\r\n",
      "[2021-06-06 11:58:42,985][train][INFO] - {\"epoch\": 4756, \"train_loss\": \"3.132\", \"train_ntokens\": \"145.688\", \"train_nsentences\": \"145.688\", \"train_temp\": \"0.1\", \"train_code_ppl\": \"8.806\", \"train_loss_code_pen\": \"0.327\", \"train_loss_smoothness\": \"2.026\", \"train_loss_dense_g\": \"3.996\", \"train_lm_score_sum\": 0.0, \"train_num_pred_chars\": 0.0, \"train_loss_grad_pen\": \"0.074\", \"train_loss_dense_d\": \"0.035\", \"train_loss_token_d\": \"0.033\", \"train_wps\": \"11.5\", \"train_ups\": \"0.08\", \"train_wpb\": \"145.7\", \"train_bsz\": \"145.7\", \"train_num_updates\": \"76096\", \"train_lr_discriminator\": \"0.0005\", \"train_lr_generator\": \"0.0004\", \"train_gnorm\": \"27.973\", \"train_clip\": \"75\", \"train_train_wall\": \"199\", \"train_wall\": \"586\"}\r\n"
     ]
    },
    {
     "name": "stdout",
     "output_type": "stream",
     "text": [
      "[2021-06-06 11:58:43,046][fairseq.trainer][INFO] - begin training epoch 4757\r\n",
      "[2021-06-06 11:58:43,048][fairseq_cli.train][INFO] - Start iterating over samples\r\n"
     ]
    },
    {
     "name": "stdout",
     "output_type": "stream",
     "text": [
      "[2021-06-06 11:59:36,460][train_inner][INFO] - {\"epoch\": 4757, \"update\": 4756.25, \"loss\": \"3.398\", \"ntokens\": \"146.788\", \"nsentences\": \"146.788\", \"temp\": \"0.1\", \"code_ppl\": \"8.794\", \"loss_code_pen\": \"0.322\", \"loss_smoothness\": \"2.03\", \"loss_dense_g\": \"3.989\", \"lm_score_sum\": 0.0, \"num_pred_chars\": 0.0, \"loss_grad_pen\": \"0.089\", \"loss_dense_d\": \"0.032\", \"loss_token_d\": \"0.031\", \"wps\": \"11.8\", \"ups\": \"0.08\", \"wpb\": \"146.8\", \"bsz\": \"146.8\", \"num_updates\": \"76100\", \"lr_discriminator\": \"0.0005\", \"lr_generator\": \"0.0004\", \"gnorm\": \"29.848\", \"clip\": \"78.8\", \"train_wall\": \"616\", \"wall\": \"639\"}\r\n"
     ]
    },
    {
     "name": "stdout",
     "output_type": "stream",
     "text": [
      "[2021-06-06 12:01:59,878][fairseq_cli.train][INFO] - begin validation on \"valid\" subset\r\n"
     ]
    },
    {
     "name": "stdout",
     "output_type": "stream",
     "text": [
      "[2021-06-06 12:02:02,248][fairseq.tasks.unpaired_audio_text][INFO] - REF: ɛ n f œ ʂ ə n a d ɵ ʂ ə k t f øː r d eː t s ɔ m h ɛ n d ə p oː ɕ œ r k ɔ n s ɛ t ə n\r\n",
      "[2021-06-06 12:02:02,250][fairseq.tasks.unpaired_audio_text][INFO] - HYP: t ɛ n s j œ f œ j b j œ j yː k yː v ɵ v b n ə m œ l b uː s eː r ɛ oː s l ɪ ŋ k l ɪ l a ɔ k m k n a\r\n",
      "[2021-06-06 12:02:02,254][fairseq.tasks.unpaired_audio_text][INFO] - LM [REF]: -53.44462585449219, 0.05339602260269112\r\n",
      "[2021-06-06 12:02:02,254][fairseq.tasks.unpaired_audio_text][INFO] - LM [HYP]: -87.71578979492188, 0.014879478582228683\r\n"
     ]
    },
    {
     "name": "stdout",
     "output_type": "stream",
     "text": [
      "[2021-06-06 12:02:02,741][valid][INFO] - {\"epoch\": 4757, \"valid_loss\": \"1.005\", \"valid_ntokens\": \"3039.79\", \"valid_nsentences\": \"144.214\", \"valid_lm_score_sum\": \"-89776.2\", \"valid_num_pred_chars\": \"48392\", \"valid_vocab_seen_pct\": \"0.88676\", \"valid_uer\": \"100.531\", \"valid_weighted_lm_ppl\": \"76.7843\", \"valid_lm_ppl\": \"60.3788\", \"valid_wps\": \"19319.9\", \"valid_wpb\": \"3039.8\", \"valid_bsz\": \"144.2\", \"valid_num_updates\": \"76112\", \"valid_best_weighted_lm_ppl\": \"73.4256\"}\r\n",
      "[2021-06-06 12:02:02,745][fairseq.checkpoint_utils][INFO] - Preparing to save checkpoint for epoch 4757 @ 76112 updates\r\n",
      "[2021-06-06 12:02:02,746][fairseq.trainer][INFO] - Saving checkpoint to /kaggle/working/checkpoint4757.pt\r\n"
     ]
    },
    {
     "name": "stdout",
     "output_type": "stream",
     "text": [
      "[2021-06-06 12:02:02,786][fairseq.trainer][INFO] - Finished saving checkpoint to /kaggle/working/checkpoint4757.pt\r\n"
     ]
    },
    {
     "name": "stdout",
     "output_type": "stream",
     "text": [
      "[2021-06-06 12:02:02,818][fairseq.checkpoint_utils][INFO] - Saved checkpoint /kaggle/working/checkpoint4757.pt (epoch 4757 @ 76112 updates, score 76.78431625364709) (writing took 0.0729732290001266 seconds)\r\n",
      "[2021-06-06 12:02:02,819][fairseq_cli.train][INFO] - end of epoch 4757 (average epoch stats below)\r\n",
      "[2021-06-06 12:02:02,822][train][INFO] - {\"epoch\": 4757, \"train_loss\": \"3.117\", \"train_ntokens\": \"145.688\", \"train_nsentences\": \"145.688\", \"train_temp\": \"0.1\", \"train_code_ppl\": \"8.821\", \"train_loss_code_pen\": \"0.321\", \"train_loss_smoothness\": \"2.033\", \"train_loss_dense_g\": \"4\", \"train_lm_score_sum\": 0.0, \"train_num_pred_chars\": 0.0, \"train_loss_grad_pen\": \"0.05\", \"train_loss_dense_d\": \"0.029\", \"train_loss_token_d\": \"0.027\", \"train_wps\": \"11.7\", \"train_ups\": \"0.08\", \"train_wpb\": \"145.7\", \"train_bsz\": \"145.7\", \"train_num_updates\": \"76112\", \"train_lr_discriminator\": \"0.0005\", \"train_lr_generator\": \"0.0004\", \"train_gnorm\": \"27.378\", \"train_clip\": \"56.2\", \"train_train_wall\": \"196\", \"train_wall\": \"786\"}\r\n"
     ]
    },
    {
     "name": "stdout",
     "output_type": "stream",
     "text": [
      "[2021-06-06 12:02:02,875][fairseq.trainer][INFO] - begin training epoch 4758\r\n",
      "[2021-06-06 12:02:02,877][fairseq_cli.train][INFO] - Start iterating over samples\r\n"
     ]
    },
    {
     "name": "stdout",
     "output_type": "stream",
     "text": [
      "[2021-06-06 12:05:00,823][fairseq_cli.train][INFO] - begin validation on \"valid\" subset\r\n"
     ]
    },
    {
     "name": "stdout",
     "output_type": "stream",
     "text": [
      "[2021-06-06 12:05:03,201][fairseq.tasks.unpaired_audio_text][INFO] - REF: ɛ n f œ ʂ ə n a d ɵ ʂ ə k t f øː r d eː t s ɔ m h ɛ n d ə p oː ɕ œ r k ɔ n s ɛ t ə n\r\n",
      "[2021-06-06 12:05:03,203][fairseq.tasks.unpaired_audio_text][INFO] - HYP: t ɛ n s j œ f œ j yː b j yː œ yː k yː v ɵ v b n ə m œ l b ə uː s eː r ɛ oː s l ɪ ŋ k l ɪ l a ɔ k m ʉ n a\r\n",
      "[2021-06-06 12:05:03,207][fairseq.tasks.unpaired_audio_text][INFO] - LM [REF]: -53.44462585449219, 0.05339602260269112\r\n",
      "[2021-06-06 12:05:03,208][fairseq.tasks.unpaired_audio_text][INFO] - LM [HYP]: -93.14585876464844, 0.013711432332407932\r\n"
     ]
    },
    {
     "name": "stdout",
     "output_type": "stream",
     "text": [
      "[2021-06-06 12:05:03,736][valid][INFO] - {\"epoch\": 4758, \"valid_loss\": \"1.005\", \"valid_ntokens\": \"3039.79\", \"valid_nsentences\": \"144.214\", \"valid_lm_score_sum\": \"-89902.3\", \"valid_num_pred_chars\": \"48464\", \"valid_vocab_seen_pct\": \"0.890244\", \"valid_uer\": \"100.522\", \"valid_weighted_lm_ppl\": \"76.1773\", \"valid_lm_ppl\": \"60.3731\", \"valid_wps\": \"19119\", \"valid_wpb\": \"3039.8\", \"valid_bsz\": \"144.2\", \"valid_num_updates\": \"76128\", \"valid_best_weighted_lm_ppl\": \"73.4256\"}\r\n",
      "[2021-06-06 12:05:03,739][fairseq.checkpoint_utils][INFO] - Preparing to save checkpoint for epoch 4758 @ 76128 updates\r\n",
      "[2021-06-06 12:05:03,741][fairseq.trainer][INFO] - Saving checkpoint to /kaggle/working/checkpoint4758.pt\r\n"
     ]
    },
    {
     "name": "stdout",
     "output_type": "stream",
     "text": [
      "[2021-06-06 12:05:03,782][fairseq.trainer][INFO] - Finished saving checkpoint to /kaggle/working/checkpoint4758.pt\r\n"
     ]
    },
    {
     "name": "stdout",
     "output_type": "stream",
     "text": [
      "[2021-06-06 12:05:03,813][fairseq.checkpoint_utils][INFO] - Saved checkpoint /kaggle/working/checkpoint4758.pt (epoch 4758 @ 76128 updates, score 76.17728038289184) (writing took 0.0739705689998118 seconds)\r\n",
      "[2021-06-06 12:05:03,814][fairseq_cli.train][INFO] - end of epoch 4758 (average epoch stats below)\r\n",
      "[2021-06-06 12:05:03,817][train][INFO] - {\"epoch\": 4758, \"train_loss\": \"3.708\", \"train_ntokens\": \"145.688\", \"train_nsentences\": \"145.688\", \"train_temp\": \"0.1\", \"train_code_ppl\": \"9.116\", \"train_loss_code_pen\": \"0.342\", \"train_loss_smoothness\": \"2.095\", \"train_loss_dense_g\": \"4.196\", \"train_lm_score_sum\": 0.0, \"train_num_pred_chars\": 0.0, \"train_loss_grad_pen\": \"0.084\", \"train_loss_dense_d\": \"0.025\", \"train_loss_token_d\": \"0.035\", \"train_wps\": \"12.9\", \"train_ups\": \"0.09\", \"train_wpb\": \"145.7\", \"train_bsz\": \"145.7\", \"train_num_updates\": \"76128\", \"train_lr_discriminator\": \"0.0005\", \"train_lr_generator\": \"0.0004\", \"train_gnorm\": \"30.26\", \"train_clip\": \"81.2\", \"train_train_wall\": \"177\", \"train_wall\": \"967\"}\r\n"
     ]
    },
    {
     "name": "stdout",
     "output_type": "stream",
     "text": [
      "[2021-06-06 12:05:03,874][fairseq.trainer][INFO] - begin training epoch 4759\r\n",
      "[2021-06-06 12:05:03,876][fairseq_cli.train][INFO] - Start iterating over samples\r\n"
     ]
    },
    {
     "name": "stdout",
     "output_type": "stream",
     "text": [
      "[2021-06-06 12:08:17,132][fairseq_cli.train][INFO] - begin validation on \"valid\" subset\r\n"
     ]
    },
    {
     "name": "stdout",
     "output_type": "stream",
     "text": [
      "[2021-06-06 12:08:19,660][fairseq.tasks.unpaired_audio_text][INFO] - REF: ɛ n f œ ʂ ə n a d ɵ ʂ ə k t f øː r d eː t s ɔ m h ɛ n d ə p oː ɕ œ r k ɔ n s ɛ t ə n\r\n",
      "[2021-06-06 12:08:19,664][fairseq.tasks.unpaired_audio_text][INFO] - HYP: n ɛ n s j œ f œ j yː b j yː œ yː k yː v ɡ ɵ v m b n ə m œ l b ə uː s eː r ɛ v oː s l ɪ ŋ k l ɪ l a ɔ k m ʉ n a\r\n"
     ]
    },
    {
     "name": "stdout",
     "output_type": "stream",
     "text": [
      "[2021-06-06 12:08:19,670][fairseq.tasks.unpaired_audio_text][INFO] - LM [REF]: -53.44462585449219, 0.05339602260269112\r\n",
      "[2021-06-06 12:08:19,671][fairseq.tasks.unpaired_audio_text][INFO] - LM [HYP]: -98.09207916259766, 0.014099576023127076\r\n"
     ]
    },
    {
     "name": "stdout",
     "output_type": "stream",
     "text": [
      "[2021-06-06 12:08:20,179][valid][INFO] - {\"epoch\": 4759, \"valid_loss\": \"1.007\", \"valid_ntokens\": \"3039.79\", \"valid_nsentences\": \"144.214\", \"valid_lm_score_sum\": \"-89806.4\", \"valid_num_pred_chars\": \"48455\", \"valid_vocab_seen_pct\": \"0.888502\", \"valid_uer\": \"100.696\", \"valid_weighted_lm_ppl\": \"76.1982\", \"valid_lm_ppl\": \"60.1535\", \"valid_wps\": \"18785.6\", \"valid_wpb\": \"3039.8\", \"valid_bsz\": \"144.2\", \"valid_num_updates\": \"76144\", \"valid_best_weighted_lm_ppl\": \"73.4256\"}\r\n"
     ]
    },
    {
     "name": "stdout",
     "output_type": "stream",
     "text": [
      "[2021-06-06 12:08:20,183][fairseq.checkpoint_utils][INFO] - Preparing to save checkpoint for epoch 4759 @ 76144 updates\r\n",
      "[2021-06-06 12:08:20,185][fairseq.trainer][INFO] - Saving checkpoint to /kaggle/working/checkpoint4759.pt\r\n",
      "[2021-06-06 12:08:20,223][fairseq.trainer][INFO] - Finished saving checkpoint to /kaggle/working/checkpoint4759.pt\r\n"
     ]
    },
    {
     "name": "stdout",
     "output_type": "stream",
     "text": [
      "[2021-06-06 12:08:20,257][fairseq.checkpoint_utils][INFO] - Saved checkpoint /kaggle/working/checkpoint4759.pt (epoch 4759 @ 76144 updates, score 76.19817876021027) (writing took 0.07327090799981306 seconds)\r\n",
      "[2021-06-06 12:08:20,260][fairseq_cli.train][INFO] - end of epoch 4759 (average epoch stats below)\r\n",
      "[2021-06-06 12:08:20,263][train][INFO] - {\"epoch\": 4759, \"train_loss\": \"3.344\", \"train_ntokens\": \"145.688\", \"train_nsentences\": \"145.688\", \"train_temp\": \"0.1\", \"train_code_ppl\": \"9.048\", \"train_loss_code_pen\": \"0.325\", \"train_loss_smoothness\": \"2.036\", \"train_loss_dense_g\": \"3.956\", \"train_lm_score_sum\": 0.0, \"train_num_pred_chars\": 0.0, \"train_loss_grad_pen\": \"0.088\", \"train_loss_dense_d\": \"0.031\", \"train_loss_token_d\": \"0.027\", \"train_wps\": \"11.9\", \"train_ups\": \"0.08\", \"train_wpb\": \"145.7\", \"train_bsz\": \"145.7\", \"train_num_updates\": \"76144\", \"train_lr_discriminator\": \"0.0005\", \"train_lr_generator\": \"0.0004\", \"train_gnorm\": \"31.663\", \"train_clip\": \"87.5\", \"train_train_wall\": \"193\", \"train_wall\": \"1163\"}\r\n"
     ]
    },
    {
     "name": "stdout",
     "output_type": "stream",
     "text": [
      "[2021-06-06 12:08:20,319][fairseq.trainer][INFO] - begin training epoch 4760\r\n",
      "[2021-06-06 12:08:20,320][fairseq_cli.train][INFO] - Start iterating over samples\r\n"
     ]
    },
    {
     "name": "stdout",
     "output_type": "stream",
     "text": [
      "[2021-06-06 12:11:42,066][fairseq_cli.train][INFO] - begin validation on \"valid\" subset\r\n"
     ]
    },
    {
     "name": "stdout",
     "output_type": "stream",
     "text": [
      "[2021-06-06 12:11:44,432][fairseq.tasks.unpaired_audio_text][INFO] - REF: ɛ n f œ ʂ ə n a d ɵ ʂ ə k t f øː r d eː t s ɔ m h ɛ n d ə p oː ɕ œ r k ɔ n s ɛ t ə n\r\n",
      "[2021-06-06 12:11:44,434][fairseq.tasks.unpaired_audio_text][INFO] - HYP: t ɛ s j œ f œ j yː b j uː œ s yː k yː v ɵ v m b n ə m œ l b uː s eː r ɛ v oː s l ɪ ŋ k l ɪ l a ɔ k m k n a\r\n",
      "[2021-06-06 12:11:44,438][fairseq.tasks.unpaired_audio_text][INFO] - LM [REF]: -53.44462585449219, 0.05339602260269112\r\n",
      "[2021-06-06 12:11:44,439][fairseq.tasks.unpaired_audio_text][INFO] - LM [HYP]: -93.81840515136719, 0.014468497327463923\r\n"
     ]
    },
    {
     "name": "stdout",
     "output_type": "stream",
     "text": [
      "[2021-06-06 12:11:44,933][valid][INFO] - {\"epoch\": 4760, \"valid_loss\": \"1.007\", \"valid_ntokens\": \"3039.79\", \"valid_nsentences\": \"144.214\", \"valid_lm_score_sum\": \"-89917.2\", \"valid_num_pred_chars\": \"48516\", \"valid_vocab_seen_pct\": \"0.890244\", \"valid_uer\": \"100.75\", \"valid_weighted_lm_ppl\": \"75.9081\", \"valid_lm_ppl\": \"60.1597\", \"valid_wps\": \"19270.3\", \"valid_wpb\": \"3039.8\", \"valid_bsz\": \"144.2\", \"valid_num_updates\": \"76160\", \"valid_best_weighted_lm_ppl\": \"73.4256\"}\r\n",
      "[2021-06-06 12:11:44,937][fairseq.checkpoint_utils][INFO] - Preparing to save checkpoint for epoch 4760 @ 76160 updates\r\n"
     ]
    },
    {
     "name": "stdout",
     "output_type": "stream",
     "text": [
      "[2021-06-06 12:11:44,939][fairseq.trainer][INFO] - Saving checkpoint to /kaggle/working/checkpoint4760.pt\r\n",
      "[2021-06-06 12:11:44,978][fairseq.trainer][INFO] - Finished saving checkpoint to /kaggle/working/checkpoint4760.pt\r\n"
     ]
    },
    {
     "name": "stdout",
     "output_type": "stream",
     "text": [
      "[2021-06-06 12:11:45,010][fairseq.checkpoint_utils][INFO] - Saved checkpoint /kaggle/working/checkpoint4760.pt (epoch 4760 @ 76160 updates, score 75.90805414335185) (writing took 0.07336960699967676 seconds)\r\n",
      "[2021-06-06 12:11:45,013][fairseq_cli.train][INFO] - end of epoch 4760 (average epoch stats below)\r\n",
      "[2021-06-06 12:11:45,016][train][INFO] - {\"epoch\": 4760, \"train_loss\": \"3.072\", \"train_ntokens\": \"145.688\", \"train_nsentences\": \"145.688\", \"train_temp\": \"0.1\", \"train_code_ppl\": \"8.862\", \"train_loss_code_pen\": \"0.318\", \"train_loss_smoothness\": \"2.009\", \"train_loss_dense_g\": \"3.926\", \"train_lm_score_sum\": 0.0, \"train_num_pred_chars\": 0.0, \"train_loss_grad_pen\": \"0.058\", \"train_loss_dense_d\": \"0.029\", \"train_loss_token_d\": \"0.027\", \"train_wps\": \"11.4\", \"train_ups\": \"0.08\", \"train_wpb\": \"145.7\", \"train_bsz\": \"145.7\", \"train_num_updates\": \"76160\", \"train_lr_discriminator\": \"0.0005\", \"train_lr_generator\": \"0.0004\", \"train_gnorm\": \"27.953\", \"train_clip\": \"68.8\", \"train_train_wall\": \"201\", \"train_wall\": \"1368\"}\r\n"
     ]
    },
    {
     "name": "stdout",
     "output_type": "stream",
     "text": [
      "[2021-06-06 12:11:45,075][fairseq.trainer][INFO] - begin training epoch 4761\r\n",
      "[2021-06-06 12:11:45,077][fairseq_cli.train][INFO] - Start iterating over samples\r\n"
     ]
    },
    {
     "name": "stdout",
     "output_type": "stream",
     "text": [
      "[2021-06-06 12:15:02,458][fairseq_cli.train][INFO] - begin validation on \"valid\" subset\r\n"
     ]
    },
    {
     "name": "stdout",
     "output_type": "stream",
     "text": [
      "[2021-06-06 12:15:04,886][fairseq.tasks.unpaired_audio_text][INFO] - REF: ɛ n f œ ʂ ə n a d ɵ ʂ ə k t f øː r d eː t s ɔ m h ɛ n d ə p oː ɕ œ r k ɔ n s ɛ t ə n\r\n",
      "[2021-06-06 12:15:04,889][fairseq.tasks.unpaired_audio_text][INFO] - HYP: n ɛ s j f œ f œ yː b j uː œ yː k yː v f ɵ v m b n ə m œ l b uː s eː r ɛ v oː s l ɪ ŋ k l ɪ l a ɔ k m ʉ n a\r\n",
      "[2021-06-06 12:15:04,893][fairseq.tasks.unpaired_audio_text][INFO] - LM [REF]: -53.44462585449219, 0.05339602260269112\r\n",
      "[2021-06-06 12:15:04,893][fairseq.tasks.unpaired_audio_text][INFO] - LM [HYP]: -94.14768981933594, 0.014254988335966287\r\n"
     ]
    },
    {
     "name": "stdout",
     "output_type": "stream",
     "text": [
      "[2021-06-06 12:15:05,384][valid][INFO] - {\"epoch\": 4761, \"valid_loss\": \"1.006\", \"valid_ntokens\": \"3039.79\", \"valid_nsentences\": \"144.214\", \"valid_lm_score_sum\": \"-89902.8\", \"valid_num_pred_chars\": \"48541\", \"valid_vocab_seen_pct\": \"0.897213\", \"valid_uer\": \"100.632\", \"valid_weighted_lm_ppl\": \"74.5332\", \"valid_lm_ppl\": \"59.9985\", \"valid_wps\": \"19026.2\", \"valid_wpb\": \"3039.8\", \"valid_bsz\": \"144.2\", \"valid_num_updates\": \"76176\", \"valid_best_weighted_lm_ppl\": \"73.4256\"}\r\n"
     ]
    },
    {
     "name": "stdout",
     "output_type": "stream",
     "text": [
      "[2021-06-06 12:15:05,387][fairseq.checkpoint_utils][INFO] - Preparing to save checkpoint for epoch 4761 @ 76176 updates\r\n",
      "[2021-06-06 12:15:05,389][fairseq.trainer][INFO] - Saving checkpoint to /kaggle/working/checkpoint4761.pt\r\n",
      "[2021-06-06 12:15:05,431][fairseq.trainer][INFO] - Finished saving checkpoint to /kaggle/working/checkpoint4761.pt\r\n"
     ]
    },
    {
     "name": "stdout",
     "output_type": "stream",
     "text": [
      "[2021-06-06 12:15:05,463][fairseq.checkpoint_utils][INFO] - Saved checkpoint /kaggle/working/checkpoint4761.pt (epoch 4761 @ 76176 updates, score 74.53315913768769) (writing took 0.07573934899983215 seconds)\r\n",
      "[2021-06-06 12:15:05,466][fairseq_cli.train][INFO] - end of epoch 4761 (average epoch stats below)\r\n",
      "[2021-06-06 12:15:05,469][train][INFO] - {\"epoch\": 4761, \"train_loss\": \"3.165\", \"train_ntokens\": \"145.688\", \"train_nsentences\": \"145.688\", \"train_temp\": \"0.1\", \"train_code_ppl\": \"8.876\", \"train_loss_code_pen\": \"0.332\", \"train_loss_smoothness\": \"2.042\", \"train_loss_dense_g\": \"4.056\", \"train_lm_score_sum\": 0.0, \"train_num_pred_chars\": 0.0, \"train_loss_grad_pen\": \"0.076\", \"train_loss_dense_d\": \"0.028\", \"train_loss_token_d\": \"0.026\", \"train_wps\": \"11.6\", \"train_ups\": \"0.08\", \"train_wpb\": \"145.7\", \"train_bsz\": \"145.7\", \"train_num_updates\": \"76176\", \"train_lr_discriminator\": \"0.0005\", \"train_lr_generator\": \"0.0004\", \"train_gnorm\": \"28.511\", \"train_clip\": \"68.8\", \"train_train_wall\": \"197\", \"train_wall\": \"1568\"}\r\n"
     ]
    },
    {
     "name": "stdout",
     "output_type": "stream",
     "text": [
      "[2021-06-06 12:15:05,525][fairseq.trainer][INFO] - begin training epoch 4762\r\n",
      "[2021-06-06 12:15:05,527][fairseq_cli.train][INFO] - Start iterating over samples\r\n"
     ]
    },
    {
     "name": "stdout",
     "output_type": "stream",
     "text": [
      "[2021-06-06 12:18:34,409][fairseq_cli.train][INFO] - begin validation on \"valid\" subset\r\n"
     ]
    },
    {
     "name": "stdout",
     "output_type": "stream",
     "text": [
      "[2021-06-06 12:18:37,080][fairseq.tasks.unpaired_audio_text][INFO] - REF: ɛ n f œ ʂ ə n a d ɵ ʂ ə k t f øː r d eː t s ɔ m h ɛ n d ə p oː ɕ œ r k ɔ n s ɛ t ə n\r\n",
      "[2021-06-06 12:18:37,083][fairseq.tasks.unpaired_audio_text][INFO] - HYP: t ɛ n s j f œ f œ ɕ b j uː œ s yː k yː uː ɵ v m b n ə m œ l b ə uː s eː r ɛ v oː s l ɪ ŋ k l ɪ l a ɔ k m k n t a\r\n",
      "[2021-06-06 12:18:37,087][fairseq.tasks.unpaired_audio_text][INFO] - LM [REF]: -53.44462585449219, 0.05339602260269112\r\n",
      "[2021-06-06 12:18:37,088][fairseq.tasks.unpaired_audio_text][INFO] - LM [HYP]: -99.21977996826172, 0.014541080116088186\r\n"
     ]
    },
    {
     "name": "stdout",
     "output_type": "stream",
     "text": [
      "[2021-06-06 12:18:37,587][valid][INFO] - {\"epoch\": 4762, \"valid_loss\": \"1.008\", \"valid_ntokens\": \"3039.79\", \"valid_nsentences\": \"144.214\", \"valid_lm_score_sum\": \"-89963.5\", \"valid_num_pred_chars\": \"48614\", \"valid_vocab_seen_pct\": \"0.893728\", \"valid_uer\": \"100.837\", \"valid_weighted_lm_ppl\": \"74.8798\", \"valid_lm_ppl\": \"59.8103\", \"valid_wps\": \"18563\", \"valid_wpb\": \"3039.8\", \"valid_bsz\": \"144.2\", \"valid_num_updates\": \"76192\", \"valid_best_weighted_lm_ppl\": \"73.4256\"}\r\n",
      "[2021-06-06 12:18:37,592][fairseq.checkpoint_utils][INFO] - Preparing to save checkpoint for epoch 4762 @ 76192 updates\r\n",
      "[2021-06-06 12:18:37,594][fairseq.trainer][INFO] - Saving checkpoint to /kaggle/working/checkpoint4762.pt\r\n"
     ]
    },
    {
     "name": "stdout",
     "output_type": "stream",
     "text": [
      "[2021-06-06 12:18:37,643][fairseq.trainer][INFO] - Finished saving checkpoint to /kaggle/working/checkpoint4762.pt\r\n"
     ]
    },
    {
     "name": "stdout",
     "output_type": "stream",
     "text": [
      "[2021-06-06 12:18:37,680][fairseq.checkpoint_utils][INFO] - Saved checkpoint /kaggle/working/checkpoint4762.pt (epoch 4762 @ 76192 updates, score 74.87984698103608) (writing took 0.08808698000029835 seconds)\r\n",
      "[2021-06-06 12:18:37,684][fairseq_cli.train][INFO] - end of epoch 4762 (average epoch stats below)\r\n",
      "[2021-06-06 12:18:37,689][train][INFO] - {\"epoch\": 4762, \"train_loss\": \"2.905\", \"train_ntokens\": \"145.688\", \"train_nsentences\": \"145.688\", \"train_temp\": \"0.1\", \"train_code_ppl\": \"8.904\", \"train_loss_code_pen\": \"0.329\", \"train_loss_smoothness\": \"2.012\", \"train_loss_dense_g\": \"3.974\", \"train_lm_score_sum\": 0.0, \"train_num_pred_chars\": 0.0, \"train_loss_grad_pen\": \"0.056\", \"train_loss_dense_d\": \"0.026\", \"train_loss_token_d\": \"0.024\", \"train_wps\": \"11\", \"train_ups\": \"0.08\", \"train_wpb\": \"145.7\", \"train_bsz\": \"145.7\", \"train_num_updates\": \"76192\", \"train_lr_discriminator\": \"0.0005\", \"train_lr_generator\": \"0.0004\", \"train_gnorm\": \"28.101\", \"train_clip\": \"68.8\", \"train_train_wall\": \"209\", \"train_wall\": \"1781\"}\r\n"
     ]
    },
    {
     "name": "stdout",
     "output_type": "stream",
     "text": [
      "[2021-06-06 12:18:37,750][fairseq.trainer][INFO] - begin training epoch 4763\r\n",
      "[2021-06-06 12:18:37,752][fairseq_cli.train][INFO] - Start iterating over samples\r\n"
     ]
    },
    {
     "name": "stdout",
     "output_type": "stream",
     "text": [
      "[2021-06-06 12:20:03,790][train_inner][INFO] - {\"epoch\": 4763, \"update\": 4762.5, \"loss\": \"3.255\", \"ntokens\": \"144.69\", \"nsentences\": \"144.69\", \"temp\": \"0.1\", \"code_ppl\": \"8.963\", \"loss_code_pen\": \"0.327\", \"loss_smoothness\": \"2.037\", \"loss_dense_g\": \"4.029\", \"lm_score_sum\": 0.0, \"num_pred_chars\": 0.0, \"loss_grad_pen\": \"0.067\", \"loss_dense_d\": \"0.028\", \"loss_token_d\": \"0.027\", \"wps\": \"11.8\", \"ups\": \"0.08\", \"wpb\": \"144.7\", \"bsz\": \"144.7\", \"num_updates\": \"76200\", \"lr_discriminator\": \"0.0005\", \"lr_generator\": \"0.0004\", \"gnorm\": \"29.007\", \"clip\": \"72\", \"train_wall\": \"1206\", \"wall\": \"1867\"}\r\n"
     ]
    },
    {
     "name": "stdout",
     "output_type": "stream",
     "text": [
      "[2021-06-06 12:21:46,434][fairseq_cli.train][INFO] - begin validation on \"valid\" subset\r\n"
     ]
    },
    {
     "name": "stdout",
     "output_type": "stream",
     "text": [
      "[2021-06-06 12:21:48,871][fairseq.tasks.unpaired_audio_text][INFO] - REF: ɛ n f œ ʂ ə n a d ɵ ʂ ə k t f øː r d eː t s ɔ m h ɛ n d ə p oː ɕ œ r k ɔ n s ɛ t ə n\r\n",
      "[2021-06-06 12:21:48,873][fairseq.tasks.unpaired_audio_text][INFO] - HYP: t ɛ s j f œ r œ j yː b j uː œ yː k yː uː ɵ v m b n ə m œ l b ə uː s eː r ɛ v oː s l ɪ ŋ k l ɪ l a ɔ k m k n a\r\n"
     ]
    },
    {
     "name": "stdout",
     "output_type": "stream",
     "text": [
      "[2021-06-06 12:21:48,879][fairseq.tasks.unpaired_audio_text][INFO] - LM [REF]: -53.44462585449219, 0.05339602260269112\r\n",
      "[2021-06-06 12:21:48,879][fairseq.tasks.unpaired_audio_text][INFO] - LM [HYP]: -95.92012023925781, 0.014301523467883564\r\n"
     ]
    },
    {
     "name": "stdout",
     "output_type": "stream",
     "text": [
      "[2021-06-06 12:21:49,366][valid][INFO] - {\"epoch\": 4763, \"valid_loss\": \"1.008\", \"valid_ntokens\": \"3039.79\", \"valid_nsentences\": \"144.214\", \"valid_lm_score_sum\": \"-89919.5\", \"valid_num_pred_chars\": \"48621\", \"valid_vocab_seen_pct\": \"0.891986\", \"valid_uer\": \"100.761\", \"valid_weighted_lm_ppl\": \"74.9802\", \"valid_lm_ppl\": \"59.6572\", \"valid_wps\": \"18927.2\", \"valid_wpb\": \"3039.8\", \"valid_bsz\": \"144.2\", \"valid_num_updates\": \"76208\", \"valid_best_weighted_lm_ppl\": \"73.4256\"}\r\n",
      "[2021-06-06 12:21:49,369][fairseq.checkpoint_utils][INFO] - Preparing to save checkpoint for epoch 4763 @ 76208 updates\r\n",
      "[2021-06-06 12:21:49,371][fairseq.trainer][INFO] - Saving checkpoint to /kaggle/working/checkpoint4763.pt\r\n"
     ]
    },
    {
     "name": "stdout",
     "output_type": "stream",
     "text": [
      "[2021-06-06 12:21:49,409][fairseq.trainer][INFO] - Finished saving checkpoint to /kaggle/working/checkpoint4763.pt\r\n"
     ]
    },
    {
     "name": "stdout",
     "output_type": "stream",
     "text": [
      "[2021-06-06 12:21:49,441][fairseq.checkpoint_utils][INFO] - Saved checkpoint /kaggle/working/checkpoint4763.pt (epoch 4763 @ 76208 updates, score 74.98016227179741) (writing took 0.07198831100049574 seconds)\r\n",
      "[2021-06-06 12:21:49,445][fairseq_cli.train][INFO] - end of epoch 4763 (average epoch stats below)\r\n",
      "[2021-06-06 12:21:49,448][train][INFO] - {\"epoch\": 4763, \"train_loss\": \"3.41\", \"train_ntokens\": \"145.688\", \"train_nsentences\": \"145.688\", \"train_temp\": \"0.1\", \"train_code_ppl\": \"8.938\", \"train_loss_code_pen\": \"0.326\", \"train_loss_smoothness\": \"2.034\", \"train_loss_dense_g\": \"4.109\", \"train_lm_score_sum\": 0.0, \"train_num_pred_chars\": 0.0, \"train_loss_grad_pen\": \"0.069\", \"train_loss_dense_d\": \"0.028\", \"train_loss_token_d\": \"0.023\", \"train_wps\": \"12.2\", \"train_ups\": \"0.08\", \"train_wpb\": \"145.7\", \"train_bsz\": \"145.7\", \"train_num_updates\": \"76208\", \"train_lr_discriminator\": \"0.0005\", \"train_lr_generator\": \"0.0004\", \"train_gnorm\": \"28.805\", \"train_clip\": \"75\", \"train_train_wall\": \"188\", \"train_wall\": \"1972\"}\r\n"
     ]
    },
    {
     "name": "stdout",
     "output_type": "stream",
     "text": [
      "[2021-06-06 12:21:49,510][fairseq.trainer][INFO] - begin training epoch 4764\r\n",
      "[2021-06-06 12:21:49,512][fairseq_cli.train][INFO] - Start iterating over samples\r\n"
     ]
    },
    {
     "name": "stdout",
     "output_type": "stream",
     "text": [
      "[2021-06-06 12:24:50,284][fairseq_cli.train][INFO] - begin validation on \"valid\" subset\r\n"
     ]
    },
    {
     "name": "stdout",
     "output_type": "stream",
     "text": [
      "[2021-06-06 12:24:52,726][fairseq.tasks.unpaired_audio_text][INFO] - REF: ɛ n f œ ʂ ə n a d ɵ ʂ ə k t f øː r d eː t s ɔ m h ɛ n d ə p oː ɕ œ r k ɔ n s ɛ t ə n\r\n",
      "[2021-06-06 12:24:52,729][fairseq.tasks.unpaired_audio_text][INFO] - HYP: t ɕ n s j œ f œ j b j uː œ yː k yː uː ɵ v b n ə m œ l b ə uː s eː r ɛ v oː s l ɪ ŋ k l ɪ l a s ɔ k m k n a\r\n",
      "[2021-06-06 12:24:52,734][fairseq.tasks.unpaired_audio_text][INFO] - LM [REF]: -53.44462585449219, 0.05339602260269112\r\n",
      "[2021-06-06 12:24:52,734][fairseq.tasks.unpaired_audio_text][INFO] - LM [HYP]: -96.16645812988281, 0.013013172115837236\r\n"
     ]
    },
    {
     "name": "stdout",
     "output_type": "stream",
     "text": [
      "[2021-06-06 12:24:53,257][valid][INFO] - {\"epoch\": 4764, \"valid_loss\": \"1.005\", \"valid_ntokens\": \"3039.79\", \"valid_nsentences\": \"144.214\", \"valid_lm_score_sum\": \"-89695.4\", \"valid_num_pred_chars\": \"48464\", \"valid_vocab_seen_pct\": \"0.891986\", \"valid_uer\": \"100.51\", \"valid_weighted_lm_ppl\": \"75.1672\", \"valid_lm_ppl\": \"59.806\", \"valid_wps\": \"18395.3\", \"valid_wpb\": \"3039.8\", \"valid_bsz\": \"144.2\", \"valid_num_updates\": \"76224\", \"valid_best_weighted_lm_ppl\": \"73.4256\"}\r\n",
      "[2021-06-06 12:24:53,261][fairseq.checkpoint_utils][INFO] - Preparing to save checkpoint for epoch 4764 @ 76224 updates\r\n",
      "[2021-06-06 12:24:53,262][fairseq.trainer][INFO] - Saving checkpoint to /kaggle/working/checkpoint4764.pt\r\n",
      "[2021-06-06 12:24:53,301][fairseq.trainer][INFO] - Finished saving checkpoint to /kaggle/working/checkpoint4764.pt\r\n"
     ]
    },
    {
     "name": "stdout",
     "output_type": "stream",
     "text": [
      "[2021-06-06 12:24:53,333][fairseq.checkpoint_utils][INFO] - Saved checkpoint /kaggle/working/checkpoint4764.pt (epoch 4764 @ 76224 updates, score 75.1672066727456) (writing took 0.07227981000050931 seconds)\r\n",
      "[2021-06-06 12:24:53,336][fairseq_cli.train][INFO] - end of epoch 4764 (average epoch stats below)\r\n",
      "[2021-06-06 12:24:53,340][train][INFO] - {\"epoch\": 4764, \"train_loss\": \"3.548\", \"train_ntokens\": \"145.688\", \"train_nsentences\": \"145.688\", \"train_temp\": \"0.1\", \"train_code_ppl\": \"9.021\", \"train_loss_code_pen\": \"0.332\", \"train_loss_smoothness\": \"2.077\", \"train_loss_dense_g\": \"3.97\", \"train_lm_score_sum\": 0.0, \"train_num_pred_chars\": 0.0, \"train_loss_grad_pen\": \"0.049\", \"train_loss_dense_d\": \"0.025\", \"train_loss_token_d\": \"0.026\", \"train_wps\": \"12.7\", \"train_ups\": \"0.09\", \"train_wpb\": \"145.7\", \"train_bsz\": \"145.7\", \"train_num_updates\": \"76224\", \"train_lr_discriminator\": \"0.0005\", \"train_lr_generator\": \"0.0004\", \"train_gnorm\": \"27.379\", \"train_clip\": \"62.5\", \"train_train_wall\": \"180\", \"train_wall\": \"2156\"}\r\n"
     ]
    },
    {
     "name": "stdout",
     "output_type": "stream",
     "text": [
      "[2021-06-06 12:24:53,396][fairseq.trainer][INFO] - begin training epoch 4765\r\n",
      "[2021-06-06 12:24:53,398][fairseq_cli.train][INFO] - Start iterating over samples\r\n"
     ]
    },
    {
     "name": "stdout",
     "output_type": "stream",
     "text": [
      "[2021-06-06 12:28:07,278][fairseq_cli.train][INFO] - begin validation on \"valid\" subset\r\n"
     ]
    },
    {
     "name": "stdout",
     "output_type": "stream",
     "text": [
      "[2021-06-06 12:28:09,772][fairseq.tasks.unpaired_audio_text][INFO] - REF: ɛ n f œ ʂ ə n a d ɵ ʂ ə k t f øː r d eː t s ɔ m h ɛ n d ə p oː ɕ œ r k ɔ n s ɛ t ə n\r\n",
      "[2021-06-06 12:28:09,775][fairseq.tasks.unpaired_audio_text][INFO] - HYP: t ɕ ɛ s j œ r œ j yː ɕ b j uː œ yː k yː uː ɵ v j m b n ə m œ l b uː s eː r ɛ v oː s l ɪ ŋ k l ɪ l a s ɔ k m k n a\r\n",
      "[2021-06-06 12:28:09,779][fairseq.tasks.unpaired_audio_text][INFO] - LM [REF]: -53.44462585449219, 0.05339602260269112\r\n",
      "[2021-06-06 12:28:09,780][fairseq.tasks.unpaired_audio_text][INFO] - LM [HYP]: -100.68153381347656, 0.013662404888383117\r\n"
     ]
    },
    {
     "name": "stdout",
     "output_type": "stream",
     "text": [
      "[2021-06-06 12:28:10,301][valid][INFO] - {\"epoch\": 4765, \"valid_loss\": \"1.004\", \"valid_ntokens\": \"3039.79\", \"valid_nsentences\": \"144.214\", \"valid_lm_score_sum\": \"-89572.1\", \"valid_num_pred_chars\": \"48378\", \"valid_vocab_seen_pct\": \"0.893728\", \"valid_uer\": \"100.437\", \"valid_weighted_lm_ppl\": \"74.9755\", \"valid_lm_ppl\": \"59.8867\", \"valid_wps\": \"18169.7\", \"valid_wpb\": \"3039.8\", \"valid_bsz\": \"144.2\", \"valid_num_updates\": \"76240\", \"valid_best_weighted_lm_ppl\": \"73.4256\"}\r\n",
      "[2021-06-06 12:28:10,305][fairseq.checkpoint_utils][INFO] - Preparing to save checkpoint for epoch 4765 @ 76240 updates\r\n"
     ]
    },
    {
     "name": "stdout",
     "output_type": "stream",
     "text": [
      "[2021-06-06 12:28:10,307][fairseq.trainer][INFO] - Saving checkpoint to /kaggle/working/checkpoint4765.pt\r\n",
      "[2021-06-06 12:28:10,350][fairseq.trainer][INFO] - Finished saving checkpoint to /kaggle/working/checkpoint4765.pt\r\n"
     ]
    },
    {
     "name": "stdout",
     "output_type": "stream",
     "text": [
      "[2021-06-06 12:28:10,381][fairseq.checkpoint_utils][INFO] - Saved checkpoint /kaggle/working/checkpoint4765.pt (epoch 4765 @ 76240 updates, score 74.97549774250895) (writing took 0.07615054299913027 seconds)\r\n",
      "[2021-06-06 12:28:10,385][fairseq_cli.train][INFO] - end of epoch 4765 (average epoch stats below)\r\n",
      "[2021-06-06 12:28:10,388][train][INFO] - {\"epoch\": 4765, \"train_loss\": \"3.172\", \"train_ntokens\": \"145.688\", \"train_nsentences\": \"145.688\", \"train_temp\": \"0.1\", \"train_code_ppl\": \"8.949\", \"train_loss_code_pen\": \"0.337\", \"train_loss_smoothness\": \"2.09\", \"train_loss_dense_g\": \"4.008\", \"train_lm_score_sum\": 0.0, \"train_num_pred_chars\": 0.0, \"train_loss_grad_pen\": \"0.089\", \"train_loss_dense_d\": \"0.024\", \"train_loss_token_d\": \"0.026\", \"train_wps\": \"11.8\", \"train_ups\": \"0.08\", \"train_wpb\": \"145.7\", \"train_bsz\": \"145.7\", \"train_num_updates\": \"76240\", \"train_lr_discriminator\": \"0.0005\", \"train_lr_generator\": \"0.0004\", \"train_gnorm\": \"29.012\", \"train_clip\": \"81.2\", \"train_train_wall\": \"193\", \"train_wall\": \"2353\"}\r\n"
     ]
    },
    {
     "name": "stdout",
     "output_type": "stream",
     "text": [
      "[2021-06-06 12:28:10,449][fairseq.trainer][INFO] - begin training epoch 4766\r\n",
      "[2021-06-06 12:28:10,450][fairseq_cli.train][INFO] - Start iterating over samples\r\n"
     ]
    },
    {
     "name": "stdout",
     "output_type": "stream",
     "text": [
      "[2021-06-06 12:31:16,865][fairseq_cli.train][INFO] - begin validation on \"valid\" subset\r\n"
     ]
    },
    {
     "name": "stdout",
     "output_type": "stream",
     "text": [
      "[2021-06-06 12:31:19,250][fairseq.tasks.unpaired_audio_text][INFO] - REF: ɛ n f œ ʂ ə n a d ɵ ʂ ə k t f øː r d eː t s ɔ m h ɛ n d ə p oː ɕ œ r k ɔ n s ɛ t ə n\r\n",
      "[2021-06-06 12:31:19,252][fairseq.tasks.unpaired_audio_text][INFO] - HYP: t ɛ s j œ r œ j yː b j uː œ yː k yː uː ɵ øː j m b n ə m œ l b ə uː s eː r ɛ v oː s l ɪ ŋ k l ɪ l a s ɔ k m ʉ n a\r\n"
     ]
    },
    {
     "name": "stdout",
     "output_type": "stream",
     "text": [
      "[2021-06-06 12:31:19,258][fairseq.tasks.unpaired_audio_text][INFO] - LM [REF]: -53.44462585449219, 0.05339602260269112\r\n",
      "[2021-06-06 12:31:19,258][fairseq.tasks.unpaired_audio_text][INFO] - LM [HYP]: -97.60755157470703, 0.014399522258756027\r\n"
     ]
    },
    {
     "name": "stdout",
     "output_type": "stream",
     "text": [
      "[2021-06-06 12:31:19,742][valid][INFO] - {\"epoch\": 4766, \"valid_loss\": \"1.004\", \"valid_ntokens\": \"3039.79\", \"valid_nsentences\": \"144.214\", \"valid_lm_score_sum\": \"-89595.3\", \"valid_num_pred_chars\": \"48398\", \"valid_vocab_seen_pct\": \"0.891986\", \"valid_uer\": \"100.437\", \"valid_weighted_lm_ppl\": \"75.2263\", \"valid_lm_ppl\": \"59.853\", \"valid_wps\": \"19325.3\", \"valid_wpb\": \"3039.8\", \"valid_bsz\": \"144.2\", \"valid_num_updates\": \"76256\", \"valid_best_weighted_lm_ppl\": \"73.4256\"}\r\n",
      "[2021-06-06 12:31:19,745][fairseq.checkpoint_utils][INFO] - Preparing to save checkpoint for epoch 4766 @ 76256 updates\r\n",
      "[2021-06-06 12:31:19,747][fairseq.trainer][INFO] - Saving checkpoint to /kaggle/working/checkpoint4766.pt\r\n"
     ]
    },
    {
     "name": "stdout",
     "output_type": "stream",
     "text": [
      "[2021-06-06 12:31:19,784][fairseq.trainer][INFO] - Finished saving checkpoint to /kaggle/working/checkpoint4766.pt\r\n",
      "[2021-06-06 12:31:19,813][fairseq.checkpoint_utils][INFO] - Saved checkpoint /kaggle/working/checkpoint4766.pt (epoch 4766 @ 76256 updates, score 75.22626240624922) (writing took 0.06718531400019856 seconds)\r\n",
      "[2021-06-06 12:31:19,816][fairseq_cli.train][INFO] - end of epoch 4766 (average epoch stats below)\r\n"
     ]
    },
    {
     "name": "stdout",
     "output_type": "stream",
     "text": [
      "[2021-06-06 12:31:19,819][train][INFO] - {\"epoch\": 4766, \"train_loss\": \"3.413\", \"train_ntokens\": \"145.688\", \"train_nsentences\": \"145.688\", \"train_temp\": \"0.1\", \"train_code_ppl\": \"8.872\", \"train_loss_code_pen\": \"0.325\", \"train_loss_smoothness\": \"2.035\", \"train_loss_dense_g\": \"4.124\", \"train_lm_score_sum\": 0.0, \"train_num_pred_chars\": 0.0, \"train_loss_grad_pen\": \"0.056\", \"train_loss_dense_d\": \"0.025\", \"train_loss_token_d\": \"0.027\", \"train_wps\": \"12.3\", \"train_ups\": \"0.08\", \"train_wpb\": \"145.7\", \"train_bsz\": \"145.7\", \"train_num_updates\": \"76256\", \"train_lr_discriminator\": \"0.0005\", \"train_lr_generator\": \"0.0004\", \"train_gnorm\": \"28.264\", \"train_clip\": \"62.5\", \"train_train_wall\": \"186\", \"train_wall\": \"2543\"}\r\n"
     ]
    },
    {
     "name": "stdout",
     "output_type": "stream",
     "text": [
      "[2021-06-06 12:31:19,875][fairseq.trainer][INFO] - begin training epoch 4767\r\n",
      "[2021-06-06 12:31:19,876][fairseq_cli.train][INFO] - Start iterating over samples\r\n"
     ]
    },
    {
     "name": "stdout",
     "output_type": "stream",
     "text": [
      "[2021-06-06 12:34:25,679][fairseq_cli.train][INFO] - begin validation on \"valid\" subset\r\n"
     ]
    },
    {
     "name": "stdout",
     "output_type": "stream",
     "text": [
      "[2021-06-06 12:34:28,118][fairseq.tasks.unpaired_audio_text][INFO] - REF: ɛ n f œ ʂ ə n a d ɵ ʂ ə k t f øː r d eː t s ɔ m h ɛ n d ə p oː ɕ œ r k ɔ n s ɛ t ə n\r\n",
      "[2021-06-06 12:34:28,120][fairseq.tasks.unpaired_audio_text][INFO] - HYP: t ɛ s j œ f œ j yː b j uː œ yː k yː uː ɵ øː j m b n ə m œ l b ə uː s eː r ɛ b oː s l ɪ ŋ k l ɪ l a ɔ k m k n t a\r\n",
      "[2021-06-06 12:34:28,125][fairseq.tasks.unpaired_audio_text][INFO] - LM [REF]: -53.44462585449219, 0.05339602260269112\r\n",
      "[2021-06-06 12:34:28,125][fairseq.tasks.unpaired_audio_text][INFO] - LM [HYP]: -100.48153686523438, 0.012709309209495883\r\n"
     ]
    },
    {
     "name": "stdout",
     "output_type": "stream",
     "text": [
      "[2021-06-06 12:34:28,639][valid][INFO] - {\"epoch\": 4767, \"valid_loss\": \"1.005\", \"valid_ntokens\": \"3039.79\", \"valid_nsentences\": \"144.214\", \"valid_lm_score_sum\": \"-89561\", \"valid_num_pred_chars\": \"48397\", \"valid_vocab_seen_pct\": \"0.888502\", \"valid_uer\": \"100.491\", \"valid_weighted_lm_ppl\": \"75.7047\", \"valid_lm_ppl\": \"59.764\", \"valid_wps\": \"18764.1\", \"valid_wpb\": \"3039.8\", \"valid_bsz\": \"144.2\", \"valid_num_updates\": \"76272\", \"valid_best_weighted_lm_ppl\": \"73.4256\"}\r\n",
      "[2021-06-06 12:34:28,642][fairseq.checkpoint_utils][INFO] - Preparing to save checkpoint for epoch 4767 @ 76272 updates\r\n",
      "[2021-06-06 12:34:28,644][fairseq.trainer][INFO] - Saving checkpoint to /kaggle/working/checkpoint4767.pt\r\n",
      "[2021-06-06 12:34:28,681][fairseq.trainer][INFO] - Finished saving checkpoint to /kaggle/working/checkpoint4767.pt\r\n"
     ]
    },
    {
     "name": "stdout",
     "output_type": "stream",
     "text": [
      "[2021-06-06 12:34:28,712][fairseq.checkpoint_utils][INFO] - Saved checkpoint /kaggle/working/checkpoint4767.pt (epoch 4767 @ 76272 updates, score 75.70474953731774) (writing took 0.06986473300003126 seconds)\r\n",
      "[2021-06-06 12:34:28,716][fairseq_cli.train][INFO] - end of epoch 4767 (average epoch stats below)\r\n",
      "[2021-06-06 12:34:28,719][train][INFO] - {\"epoch\": 4767, \"train_loss\": \"3.479\", \"train_ntokens\": \"145.688\", \"train_nsentences\": \"145.688\", \"train_temp\": \"0.1\", \"train_code_ppl\": \"8.837\", \"train_loss_code_pen\": \"0.332\", \"train_loss_smoothness\": \"2.049\", \"train_loss_dense_g\": \"4.221\", \"train_lm_score_sum\": 0.0, \"train_num_pred_chars\": 0.0, \"train_loss_grad_pen\": \"0.062\", \"train_loss_dense_d\": \"0.03\", \"train_loss_token_d\": \"0.027\", \"train_wps\": \"12.3\", \"train_ups\": \"0.08\", \"train_wpb\": \"145.7\", \"train_bsz\": \"145.7\", \"train_num_updates\": \"76272\", \"train_lr_discriminator\": \"0.0005\", \"train_lr_generator\": \"0.0004\", \"train_gnorm\": \"27.787\", \"train_clip\": \"68.8\", \"train_train_wall\": \"185\", \"train_wall\": \"2732\"}\r\n"
     ]
    },
    {
     "name": "stdout",
     "output_type": "stream",
     "text": [
      "[2021-06-06 12:34:28,773][fairseq.trainer][INFO] - begin training epoch 4768\r\n",
      "[2021-06-06 12:34:28,775][fairseq_cli.train][INFO] - Start iterating over samples\r\n"
     ]
    },
    {
     "name": "stdout",
     "output_type": "stream",
     "text": [
      "[2021-06-06 12:37:37,766][fairseq_cli.train][INFO] - begin validation on \"valid\" subset\r\n"
     ]
    },
    {
     "name": "stdout",
     "output_type": "stream",
     "text": [
      "[2021-06-06 12:37:40,219][fairseq.tasks.unpaired_audio_text][INFO] - REF: ɛ n f œ ʂ ə n a d ɵ ʂ ə k t f øː r d eː t s ɔ m h ɛ n d ə p oː ɕ œ r k ɔ n s ɛ t ə n\r\n",
      "[2021-06-06 12:37:40,221][fairseq.tasks.unpaired_audio_text][INFO] - HYP: t ɛ s j œ f œ j yː s b j uː œ yː k yː uː ɵ v m b n ə m œ b ə uː s eː r ɛ v oː s l ɪ ŋ k l ɪ l a ɔ k m ʉ n t a\r\n"
     ]
    },
    {
     "name": "stdout",
     "output_type": "stream",
     "text": [
      "[2021-06-06 12:37:40,226][fairseq.tasks.unpaired_audio_text][INFO] - LM [REF]: -53.44462585449219, 0.05339602260269112\r\n",
      "[2021-06-06 12:37:40,227][fairseq.tasks.unpaired_audio_text][INFO] - LM [HYP]: -95.71605682373047, 0.014431338033753006\r\n"
     ]
    },
    {
     "name": "stdout",
     "output_type": "stream",
     "text": [
      "[2021-06-06 12:37:40,725][valid][INFO] - {\"epoch\": 4768, \"valid_loss\": \"1.01\", \"valid_ntokens\": \"3039.79\", \"valid_nsentences\": \"144.214\", \"valid_lm_score_sum\": \"-90080\", \"valid_num_pred_chars\": \"48683\", \"valid_vocab_seen_pct\": \"0.890244\", \"valid_uer\": \"100.963\", \"valid_weighted_lm_ppl\": \"75.4464\", \"valid_lm_ppl\": \"59.7939\", \"valid_wps\": \"19006.3\", \"valid_wpb\": \"3039.8\", \"valid_bsz\": \"144.2\", \"valid_num_updates\": \"76288\", \"valid_best_weighted_lm_ppl\": \"73.4256\"}\r\n",
      "[2021-06-06 12:37:40,728][fairseq.checkpoint_utils][INFO] - Preparing to save checkpoint for epoch 4768 @ 76288 updates\r\n",
      "[2021-06-06 12:37:40,729][fairseq.trainer][INFO] - Saving checkpoint to /kaggle/working/checkpoint4768.pt\r\n"
     ]
    },
    {
     "name": "stdout",
     "output_type": "stream",
     "text": [
      "[2021-06-06 12:37:40,770][fairseq.trainer][INFO] - Finished saving checkpoint to /kaggle/working/checkpoint4768.pt\r\n"
     ]
    },
    {
     "name": "stdout",
     "output_type": "stream",
     "text": [
      "[2021-06-06 12:37:40,802][fairseq.checkpoint_utils][INFO] - Saved checkpoint /kaggle/working/checkpoint4768.pt (epoch 4768 @ 76288 updates, score 75.44640948728386) (writing took 0.07376455799931136 seconds)\r\n",
      "[2021-06-06 12:37:40,805][fairseq_cli.train][INFO] - end of epoch 4768 (average epoch stats below)\r\n",
      "[2021-06-06 12:37:40,808][train][INFO] - {\"epoch\": 4768, \"train_loss\": \"3.305\", \"train_ntokens\": \"145.688\", \"train_nsentences\": \"145.688\", \"train_temp\": \"0.1\", \"train_code_ppl\": \"8.899\", \"train_loss_code_pen\": \"0.326\", \"train_loss_smoothness\": \"2.041\", \"train_loss_dense_g\": \"3.815\", \"train_lm_score_sum\": 0.0, \"train_num_pred_chars\": 0.0, \"train_loss_grad_pen\": \"0.148\", \"train_loss_dense_d\": \"0.034\", \"train_loss_token_d\": \"0.029\", \"train_wps\": \"12.1\", \"train_ups\": \"0.08\", \"train_wpb\": \"145.7\", \"train_bsz\": \"145.7\", \"train_num_updates\": \"76288\", \"train_lr_discriminator\": \"0.0005\", \"train_lr_generator\": \"0.0004\", \"train_gnorm\": \"31.019\", \"train_clip\": \"81.2\", \"train_train_wall\": \"189\", \"train_wall\": \"2924\"}\r\n"
     ]
    },
    {
     "name": "stdout",
     "output_type": "stream",
     "text": [
      "[2021-06-06 12:37:40,870][fairseq.trainer][INFO] - begin training epoch 4769\r\n",
      "[2021-06-06 12:37:40,872][fairseq_cli.train][INFO] - Start iterating over samples\r\n"
     ]
    },
    {
     "name": "stdout",
     "output_type": "stream",
     "text": [
      "[2021-06-06 12:40:17,193][train_inner][INFO] - {\"epoch\": 4769, \"update\": 4768.75, \"loss\": \"3.286\", \"ntokens\": \"145.54\", \"nsentences\": \"145.54\", \"temp\": \"0.1\", \"code_ppl\": \"8.897\", \"loss_code_pen\": \"0.331\", \"loss_smoothness\": \"2.058\", \"loss_dense_g\": \"4.008\", \"lm_score_sum\": 0.0, \"num_pred_chars\": 0.0, \"loss_grad_pen\": \"0.078\", \"loss_dense_d\": \"0.027\", \"loss_token_d\": \"0.026\", \"wps\": \"12\", \"ups\": \"0.08\", \"wpb\": \"145.5\", \"bsz\": \"145.5\", \"num_updates\": \"76300\", \"lr_discriminator\": \"0.0005\", \"lr_generator\": \"0.0004\", \"gnorm\": \"28.611\", \"clip\": \"72\", \"train_wall\": \"1192\", \"wall\": \"3080\"}\r\n"
     ]
    },
    {
     "name": "stdout",
     "output_type": "stream",
     "text": [
      "[2021-06-06 12:41:09,579][fairseq_cli.train][INFO] - begin validation on \"valid\" subset\r\n"
     ]
    },
    {
     "name": "stdout",
     "output_type": "stream",
     "text": [
      "[2021-06-06 12:41:12,093][fairseq.tasks.unpaired_audio_text][INFO] - REF: ɛ n f œ ʂ ə n a d ɵ ʂ ə k t f øː r d eː t s ɔ m h ɛ n d ə p oː ɕ œ r k ɔ n s ɛ t ə n\r\n",
      "[2021-06-06 12:41:12,096][fairseq.tasks.unpaired_audio_text][INFO] - HYP: t ɛ s j œ f œ j yː s b j uː œ yː k yː uː ɵ v m n ə m ɔ b uː s eː r ɛ b oː s l ɪ ŋ k l ɪ l a ɔ k m ʉ n t a\r\n",
      "[2021-06-06 12:41:12,100][fairseq.tasks.unpaired_audio_text][INFO] - LM [REF]: -53.44462585449219, 0.05339602260269112\r\n",
      "[2021-06-06 12:41:12,101][fairseq.tasks.unpaired_audio_text][INFO] - LM [HYP]: -90.87008666992188, 0.015226436182322901\r\n"
     ]
    },
    {
     "name": "stdout",
     "output_type": "stream",
     "text": [
      "[2021-06-06 12:41:12,604][valid][INFO] - {\"epoch\": 4769, \"valid_loss\": \"1.004\", \"valid_ntokens\": \"3039.79\", \"valid_nsentences\": \"144.214\", \"valid_lm_score_sum\": \"-89813.6\", \"valid_num_pred_chars\": \"48389\", \"valid_vocab_seen_pct\": \"0.893728\", \"valid_uer\": \"100.444\", \"valid_weighted_lm_ppl\": \"75.7395\", \"valid_lm_ppl\": \"60.4969\", \"valid_wps\": \"18285.1\", \"valid_wpb\": \"3039.8\", \"valid_bsz\": \"144.2\", \"valid_num_updates\": \"76304\", \"valid_best_weighted_lm_ppl\": \"73.4256\"}\r\n",
      "[2021-06-06 12:41:12,608][fairseq.checkpoint_utils][INFO] - Preparing to save checkpoint for epoch 4769 @ 76304 updates\r\n",
      "[2021-06-06 12:41:12,609][fairseq.trainer][INFO] - Saving checkpoint to /kaggle/working/checkpoint4769.pt\r\n",
      "[2021-06-06 12:41:12,648][fairseq.trainer][INFO] - Finished saving checkpoint to /kaggle/working/checkpoint4769.pt\r\n"
     ]
    },
    {
     "name": "stdout",
     "output_type": "stream",
     "text": [
      "[2021-06-06 12:41:12,680][fairseq.checkpoint_utils][INFO] - Saved checkpoint /kaggle/working/checkpoint4769.pt (epoch 4769 @ 76304 updates, score 75.73949039896122) (writing took 0.0720271939999293 seconds)\r\n",
      "[2021-06-06 12:41:12,683][fairseq_cli.train][INFO] - end of epoch 4769 (average epoch stats below)\r\n",
      "[2021-06-06 12:41:12,686][train][INFO] - {\"epoch\": 4769, \"train_loss\": \"2.882\", \"train_ntokens\": \"145.688\", \"train_nsentences\": \"145.688\", \"train_temp\": \"0.1\", \"train_code_ppl\": \"8.917\", \"train_loss_code_pen\": \"0.349\", \"train_loss_smoothness\": \"2.101\", \"train_loss_dense_g\": \"3.807\", \"train_lm_score_sum\": 0.0, \"train_num_pred_chars\": 0.0, \"train_loss_grad_pen\": \"0.061\", \"train_loss_dense_d\": \"0.028\", \"train_loss_token_d\": \"0.023\", \"train_wps\": \"11\", \"train_ups\": \"0.08\", \"train_wpb\": \"145.7\", \"train_bsz\": \"145.7\", \"train_num_updates\": \"76304\", \"train_lr_discriminator\": \"0.0005\", \"train_lr_generator\": \"0.0004\", \"train_gnorm\": \"28.103\", \"train_clip\": \"75\", \"train_train_wall\": \"208\", \"train_wall\": \"3136\"}\r\n"
     ]
    },
    {
     "name": "stdout",
     "output_type": "stream",
     "text": [
      "[2021-06-06 12:41:12,745][fairseq.trainer][INFO] - begin training epoch 4770\r\n",
      "[2021-06-06 12:41:12,746][fairseq_cli.train][INFO] - Start iterating over samples\r\n"
     ]
    },
    {
     "name": "stdout",
     "output_type": "stream",
     "text": [
      "[2021-06-06 12:44:10,767][fairseq_cli.train][INFO] - begin validation on \"valid\" subset\r\n"
     ]
    },
    {
     "name": "stdout",
     "output_type": "stream",
     "text": [
      "[2021-06-06 12:44:13,229][fairseq.tasks.unpaired_audio_text][INFO] - REF: ɛ n f œ ʂ ə n a d ɵ ʂ ə k t f øː r d eː t s ɔ m h ɛ n d ə p oː ɕ œ r k ɔ n s ɛ t ə n\r\n",
      "[2021-06-06 12:44:13,231][fairseq.tasks.unpaired_audio_text][INFO] - HYP: t ɛ s j œ f œ j yː s b j uː œ yː yː k yː uː ɵ v m b n ə m œ l b uː s eː r ɛ b oː s l ɪ ŋ k l ɪ l a ɔ k m ʉ n t a\r\n",
      "[2021-06-06 12:44:13,236][fairseq.tasks.unpaired_audio_text][INFO] - LM [REF]: -53.44462585449219, 0.05339602260269112\r\n",
      "[2021-06-06 12:44:13,236][fairseq.tasks.unpaired_audio_text][INFO] - LM [HYP]: -98.58757019042969, 0.0137993034889847\r\n"
     ]
    },
    {
     "name": "stdout",
     "output_type": "stream",
     "text": [
      "[2021-06-06 12:44:13,726][valid][INFO] - {\"epoch\": 4770, \"valid_loss\": \"1.006\", \"valid_ntokens\": \"3039.79\", \"valid_nsentences\": \"144.214\", \"valid_lm_score_sum\": \"-89816.9\", \"valid_num_pred_chars\": \"48505\", \"valid_vocab_seen_pct\": \"0.89547\", \"valid_uer\": \"100.618\", \"valid_weighted_lm_ppl\": \"74.7491\", \"valid_lm_ppl\": \"59.9388\", \"valid_wps\": \"18920.2\", \"valid_wpb\": \"3039.8\", \"valid_bsz\": \"144.2\", \"valid_num_updates\": \"76320\", \"valid_best_weighted_lm_ppl\": \"73.4256\"}\r\n",
      "[2021-06-06 12:44:13,730][fairseq.checkpoint_utils][INFO] - Preparing to save checkpoint for epoch 4770 @ 76320 updates\r\n",
      "[2021-06-06 12:44:13,731][fairseq.trainer][INFO] - Saving checkpoint to /kaggle/working/checkpoint4770.pt\r\n"
     ]
    },
    {
     "name": "stdout",
     "output_type": "stream",
     "text": [
      "[2021-06-06 12:44:13,771][fairseq.trainer][INFO] - Finished saving checkpoint to /kaggle/working/checkpoint4770.pt\r\n"
     ]
    },
    {
     "name": "stdout",
     "output_type": "stream",
     "text": [
      "[2021-06-06 12:44:13,801][fairseq.checkpoint_utils][INFO] - Saved checkpoint /kaggle/working/checkpoint4770.pt (epoch 4770 @ 76320 updates, score 74.74908834594147) (writing took 0.07130385499931435 seconds)\r\n",
      "[2021-06-06 12:44:13,805][fairseq_cli.train][INFO] - end of epoch 4770 (average epoch stats below)\r\n",
      "[2021-06-06 12:44:13,808][train][INFO] - {\"epoch\": 4770, \"train_loss\": \"3.65\", \"train_ntokens\": \"145.688\", \"train_nsentences\": \"145.688\", \"train_temp\": \"0.1\", \"train_code_ppl\": \"8.942\", \"train_loss_code_pen\": \"0.343\", \"train_loss_smoothness\": \"2.079\", \"train_loss_dense_g\": \"4.105\", \"train_lm_score_sum\": 0.0, \"train_num_pred_chars\": 0.0, \"train_loss_grad_pen\": \"0.097\", \"train_loss_dense_d\": \"0.023\", \"train_loss_token_d\": \"0.026\", \"train_wps\": \"12.9\", \"train_ups\": \"0.09\", \"train_wpb\": \"145.7\", \"train_bsz\": \"145.7\", \"train_num_updates\": \"76320\", \"train_lr_discriminator\": \"0.0005\", \"train_lr_generator\": \"0.0004\", \"train_gnorm\": \"32.921\", \"train_clip\": \"81.2\", \"train_train_wall\": \"178\", \"train_wall\": \"3317\"}\r\n"
     ]
    },
    {
     "name": "stdout",
     "output_type": "stream",
     "text": [
      "[2021-06-06 12:44:13,866][fairseq.trainer][INFO] - begin training epoch 4771\r\n",
      "[2021-06-06 12:44:13,868][fairseq_cli.train][INFO] - Start iterating over samples\r\n"
     ]
    },
    {
     "name": "stdout",
     "output_type": "stream",
     "text": [
      "[2021-06-06 12:47:34,716][fairseq_cli.train][INFO] - begin validation on \"valid\" subset\r\n"
     ]
    },
    {
     "name": "stdout",
     "output_type": "stream",
     "text": [
      "[2021-06-06 12:47:37,226][fairseq.tasks.unpaired_audio_text][INFO] - REF: ɛ n f œ ʂ ə n a d ɵ ʂ ə k t f øː r d eː t s ɔ m h ɛ n d ə p oː ɕ œ r k ɔ n s ɛ t ə n\r\n",
      "[2021-06-06 12:47:37,229][fairseq.tasks.unpaired_audio_text][INFO] - HYP: t ɕ ɛ s j œ f œ j œ ʃ b j uː œ yː yː k yː uː ɡ ɵ øː v m b n ə m œ l b uː s eː r ɛ b oː s l ɪ ŋ k l ɪ l a ɔ k m ʉ n a\r\n",
      "[2021-06-06 12:47:37,233][fairseq.tasks.unpaired_audio_text][INFO] - LM [REF]: -53.44462585449219, 0.05339602260269112\r\n",
      "[2021-06-06 12:47:37,234][fairseq.tasks.unpaired_audio_text][INFO] - LM [HYP]: -101.38550567626953, 0.014342576319517242\r\n"
     ]
    },
    {
     "name": "stdout",
     "output_type": "stream",
     "text": [
      "[2021-06-06 12:47:37,749][valid][INFO] - {\"epoch\": 4771, \"valid_loss\": \"1.005\", \"valid_ntokens\": \"3039.79\", \"valid_nsentences\": \"144.214\", \"valid_lm_score_sum\": \"-89777.6\", \"valid_num_pred_chars\": \"48415\", \"valid_vocab_seen_pct\": \"0.893728\", \"valid_uer\": \"100.519\", \"valid_weighted_lm_ppl\": \"75.4554\", \"valid_lm_ppl\": \"60.27\", \"valid_wps\": \"18595\", \"valid_wpb\": \"3039.8\", \"valid_bsz\": \"144.2\", \"valid_num_updates\": \"76336\", \"valid_best_weighted_lm_ppl\": \"73.4256\"}\r\n",
      "[2021-06-06 12:47:37,753][fairseq.checkpoint_utils][INFO] - Preparing to save checkpoint for epoch 4771 @ 76336 updates\r\n",
      "[2021-06-06 12:47:37,755][fairseq.trainer][INFO] - Saving checkpoint to /kaggle/working/checkpoint4771.pt\r\n",
      "[2021-06-06 12:47:37,795][fairseq.trainer][INFO] - Finished saving checkpoint to /kaggle/working/checkpoint4771.pt\r\n"
     ]
    },
    {
     "name": "stdout",
     "output_type": "stream",
     "text": [
      "[2021-06-06 12:47:37,829][fairseq.checkpoint_utils][INFO] - Saved checkpoint /kaggle/working/checkpoint4771.pt (epoch 4771 @ 76336 updates, score 75.45535731600982) (writing took 0.07562963800046418 seconds)\r\n",
      "[2021-06-06 12:47:37,832][fairseq_cli.train][INFO] - end of epoch 4771 (average epoch stats below)\r\n",
      "[2021-06-06 12:47:37,836][train][INFO] - {\"epoch\": 4771, \"train_loss\": \"3.11\", \"train_ntokens\": \"145.688\", \"train_nsentences\": \"145.688\", \"train_temp\": \"0.1\", \"train_code_ppl\": \"8.91\", \"train_loss_code_pen\": \"0.342\", \"train_loss_smoothness\": \"2.063\", \"train_loss_dense_g\": \"3.919\", \"train_lm_score_sum\": 0.0, \"train_num_pred_chars\": 0.0, \"train_loss_grad_pen\": \"0.074\", \"train_loss_dense_d\": \"0.025\", \"train_loss_token_d\": \"0.024\", \"train_wps\": \"11.4\", \"train_ups\": \"0.08\", \"train_wpb\": \"145.7\", \"train_bsz\": \"145.7\", \"train_num_updates\": \"76336\", \"train_lr_discriminator\": \"0.0005\", \"train_lr_generator\": \"0.0004\", \"train_gnorm\": \"29.145\", \"train_clip\": \"87.5\", \"train_train_wall\": \"200\", \"train_wall\": \"3521\"}\r\n"
     ]
    },
    {
     "name": "stdout",
     "output_type": "stream",
     "text": [
      "[2021-06-06 12:47:37,901][fairseq.trainer][INFO] - begin training epoch 4772\r\n",
      "[2021-06-06 12:47:37,902][fairseq_cli.train][INFO] - Start iterating over samples\r\n"
     ]
    },
    {
     "name": "stdout",
     "output_type": "stream",
     "text": [
      "[2021-06-06 12:51:03,801][fairseq_cli.train][INFO] - begin validation on \"valid\" subset\r\n"
     ]
    },
    {
     "name": "stdout",
     "output_type": "stream",
     "text": [
      "[2021-06-06 12:51:06,274][fairseq.tasks.unpaired_audio_text][INFO] - REF: ɛ n f œ ʂ ə n a d ɵ ʂ ə k t f øː r d eː t s ɔ m h ɛ n d ə p oː ɕ œ r k ɔ n s ɛ t ə n\r\n",
      "[2021-06-06 12:51:06,276][fairseq.tasks.unpaired_audio_text][INFO] - HYP: t ɕ ɛ s j œ f œ j œ b j uː œ yː k yː uː ɵ v n ə m œ k b uː s eː r n v oː s l ɪ ŋ k l ɪ l a s ɔ k m ʉ n a\r\n",
      "[2021-06-06 12:51:06,280][fairseq.tasks.unpaired_audio_text][INFO] - LM [REF]: -53.44462585449219, 0.05339602260269112\r\n",
      "[2021-06-06 12:51:06,281][fairseq.tasks.unpaired_audio_text][INFO] - LM [HYP]: -91.30020904541016, 0.014927800386702907\r\n"
     ]
    },
    {
     "name": "stdout",
     "output_type": "stream",
     "text": [
      "[2021-06-06 12:51:06,773][valid][INFO] - {\"epoch\": 4772, \"valid_loss\": \"1.007\", \"valid_ntokens\": \"3039.79\", \"valid_nsentences\": \"144.214\", \"valid_lm_score_sum\": \"-89746.3\", \"valid_num_pred_chars\": \"48494\", \"valid_vocab_seen_pct\": \"0.88676\", \"valid_uer\": \"100.728\", \"valid_weighted_lm_ppl\": \"76.0476\", \"valid_lm_ppl\": \"59.7995\", \"valid_wps\": \"18817.8\", \"valid_wpb\": \"3039.8\", \"valid_bsz\": \"144.2\", \"valid_num_updates\": \"76352\", \"valid_best_weighted_lm_ppl\": \"73.4256\"}\r\n",
      "[2021-06-06 12:51:06,776][fairseq.checkpoint_utils][INFO] - Preparing to save checkpoint for epoch 4772 @ 76352 updates\r\n",
      "[2021-06-06 12:51:06,778][fairseq.trainer][INFO] - Saving checkpoint to /kaggle/working/checkpoint4772.pt\r\n"
     ]
    },
    {
     "name": "stdout",
     "output_type": "stream",
     "text": [
      "[2021-06-06 12:51:06,817][fairseq.trainer][INFO] - Finished saving checkpoint to /kaggle/working/checkpoint4772.pt\r\n",
      "[2021-06-06 12:51:06,848][fairseq.checkpoint_utils][INFO] - Saved checkpoint /kaggle/working/checkpoint4772.pt (epoch 4772 @ 76352 updates, score 76.04764401833823) (writing took 0.07212535399958142 seconds)\r\n",
      "[2021-06-06 12:51:06,852][fairseq_cli.train][INFO] - end of epoch 4772 (average epoch stats below)\r\n",
      "[2021-06-06 12:51:06,855][train][INFO] - {\"epoch\": 4772, \"train_loss\": \"2.893\", \"train_ntokens\": \"145.688\", \"train_nsentences\": \"145.688\", \"train_temp\": \"0.1\", \"train_code_ppl\": \"8.836\", \"train_loss_code_pen\": \"0.318\", \"train_loss_smoothness\": \"2.006\", \"train_loss_dense_g\": \"3.972\", \"train_lm_score_sum\": 0.0, \"train_num_pred_chars\": 0.0, \"train_loss_grad_pen\": \"0.046\", \"train_loss_dense_d\": \"0.027\", \"train_loss_token_d\": \"0.025\", \"train_wps\": \"11.2\", \"train_ups\": \"0.08\", \"train_wpb\": \"145.7\", \"train_bsz\": \"145.7\", \"train_num_updates\": \"76352\", \"train_lr_discriminator\": \"0.0005\", \"train_lr_generator\": \"0.0004\", \"train_gnorm\": \"27.897\", \"train_clip\": \"50\", \"train_train_wall\": \"205\", \"train_wall\": \"3730\"}\r\n"
     ]
    },
    {
     "name": "stdout",
     "output_type": "stream",
     "text": [
      "[2021-06-06 12:51:06,913][fairseq.trainer][INFO] - begin training epoch 4773\r\n"
     ]
    },
    {
     "name": "stdout",
     "output_type": "stream",
     "text": [
      "[2021-06-06 12:51:06,915][fairseq_cli.train][INFO] - Start iterating over samples\r\n"
     ]
    },
    {
     "name": "stdout",
     "output_type": "stream",
     "text": [
      "[2021-06-06 12:54:14,364][fairseq_cli.train][INFO] - begin validation on \"valid\" subset\r\n"
     ]
    },
    {
     "name": "stdout",
     "output_type": "stream",
     "text": [
      "[2021-06-06 12:54:16,786][fairseq.tasks.unpaired_audio_text][INFO] - REF: ɛ n f œ ʂ ə n a d ɵ ʂ ə k t f øː r d eː t s ɔ m h ɛ n d ə p oː ɕ œ r k ɔ n s ɛ t ə n\r\n",
      "[2021-06-06 12:54:16,789][fairseq.tasks.unpaired_audio_text][INFO] - HYP: t ɛ s j œ r œ j œ b j uː œ yː k yː uː ɡ ɵ v m b n ə m œ l b uː s eː r n v oː s l ɪ ŋ k l ɪ l a s ɔ k m k n a\r\n",
      "[2021-06-06 12:54:16,793][fairseq.tasks.unpaired_audio_text][INFO] - LM [REF]: -53.44462585449219, 0.05339602260269112\r\n",
      "[2021-06-06 12:54:16,793][fairseq.tasks.unpaired_audio_text][INFO] - LM [HYP]: -94.8790283203125, 0.01497625759884091\r\n"
     ]
    },
    {
     "name": "stdout",
     "output_type": "stream",
     "text": [
      "[2021-06-06 12:54:17,283][valid][INFO] - {\"epoch\": 4773, \"valid_loss\": \"1.007\", \"valid_ntokens\": \"3039.79\", \"valid_nsentences\": \"144.214\", \"valid_lm_score_sum\": \"-89848.3\", \"valid_num_pred_chars\": \"48567\", \"valid_vocab_seen_pct\": \"0.89547\", \"valid_uer\": \"100.745\", \"valid_weighted_lm_ppl\": \"74.4812\", \"valid_lm_ppl\": \"59.7241\", \"valid_wps\": \"19211.7\", \"valid_wpb\": \"3039.8\", \"valid_bsz\": \"144.2\", \"valid_num_updates\": \"76368\", \"valid_best_weighted_lm_ppl\": \"73.4256\"}\r\n",
      "[2021-06-06 12:54:17,287][fairseq.checkpoint_utils][INFO] - Preparing to save checkpoint for epoch 4773 @ 76368 updates\r\n",
      "[2021-06-06 12:54:17,288][fairseq.trainer][INFO] - Saving checkpoint to /kaggle/working/checkpoint4773.pt\r\n"
     ]
    },
    {
     "name": "stdout",
     "output_type": "stream",
     "text": [
      "[2021-06-06 12:54:17,327][fairseq.trainer][INFO] - Finished saving checkpoint to /kaggle/working/checkpoint4773.pt\r\n",
      "[2021-06-06 12:54:17,359][fairseq.checkpoint_utils][INFO] - Saved checkpoint /kaggle/working/checkpoint4773.pt (epoch 4773 @ 76368 updates, score 74.48122872534186) (writing took 0.07191990000046644 seconds)\r\n"
     ]
    },
    {
     "name": "stdout",
     "output_type": "stream",
     "text": [
      "[2021-06-06 12:54:17,362][fairseq_cli.train][INFO] - end of epoch 4773 (average epoch stats below)\r\n",
      "[2021-06-06 12:54:17,366][train][INFO] - {\"epoch\": 4773, \"train_loss\": \"3.499\", \"train_ntokens\": \"145.688\", \"train_nsentences\": \"145.688\", \"train_temp\": \"0.1\", \"train_code_ppl\": \"8.965\", \"train_loss_code_pen\": \"0.339\", \"train_loss_smoothness\": \"2.086\", \"train_loss_dense_g\": \"4.203\", \"train_lm_score_sum\": 0.0, \"train_num_pred_chars\": 0.0, \"train_loss_grad_pen\": \"0.072\", \"train_loss_dense_d\": \"0.029\", \"train_loss_token_d\": \"0.032\", \"train_wps\": \"12.2\", \"train_ups\": \"0.08\", \"train_wpb\": \"145.7\", \"train_bsz\": \"145.7\", \"train_num_updates\": \"76368\", \"train_lr_discriminator\": \"0.0005\", \"train_lr_generator\": \"0.0004\", \"train_gnorm\": \"30.039\", \"train_clip\": \"81.2\", \"train_train_wall\": \"187\", \"train_wall\": \"3920\"}\r\n"
     ]
    },
    {
     "name": "stdout",
     "output_type": "stream",
     "text": [
      "[2021-06-06 12:54:17,424][fairseq.trainer][INFO] - begin training epoch 4774\r\n",
      "[2021-06-06 12:54:17,426][fairseq_cli.train][INFO] - Start iterating over samples\r\n"
     ]
    },
    {
     "name": "stdout",
     "output_type": "stream",
     "text": [
      "[2021-06-06 12:57:30,345][fairseq_cli.train][INFO] - begin validation on \"valid\" subset\r\n"
     ]
    },
    {
     "name": "stdout",
     "output_type": "stream",
     "text": [
      "[2021-06-06 12:57:32,732][fairseq.tasks.unpaired_audio_text][INFO] - REF: ɛ n f œ ʂ ə n a d ɵ ʂ ə k t f øː r d eː t s ɔ m h ɛ n d ə p oː ɕ œ r k ɔ n s ɛ t ə n\r\n",
      "[2021-06-06 12:57:32,735][fairseq.tasks.unpaired_audio_text][INFO] - HYP: t ɛ s j œ r œ j œ b j uː œ yː yː k yː uː ɡ ɵ v n ə m œ b uː s eː r ɛ v oː s l ɪ ŋ k l ɪ l a s ɔ k m ʉ n t a\r\n",
      "[2021-06-06 12:57:32,739][fairseq.tasks.unpaired_audio_text][INFO] - LM [REF]: -53.44462585449219, 0.05339602260269112\r\n",
      "[2021-06-06 12:57:32,739][fairseq.tasks.unpaired_audio_text][INFO] - LM [HYP]: -91.7926254272461, 0.015854209745879\r\n"
     ]
    },
    {
     "name": "stdout",
     "output_type": "stream",
     "text": [
      "[2021-06-06 12:57:33,233][valid][INFO] - {\"epoch\": 4774, \"valid_loss\": \"1.007\", \"valid_ntokens\": \"3039.79\", \"valid_nsentences\": \"144.214\", \"valid_lm_score_sum\": \"-89755.9\", \"valid_num_pred_chars\": \"48453\", \"valid_vocab_seen_pct\": \"0.890244\", \"valid_uer\": \"100.698\", \"valid_weighted_lm_ppl\": \"75.7378\", \"valid_lm_ppl\": \"60.0248\", \"valid_wps\": \"19161.2\", \"valid_wpb\": \"3039.8\", \"valid_bsz\": \"144.2\", \"valid_num_updates\": \"76384\", \"valid_best_weighted_lm_ppl\": \"73.4256\"}\r\n",
      "[2021-06-06 12:57:33,237][fairseq.checkpoint_utils][INFO] - Preparing to save checkpoint for epoch 4774 @ 76384 updates\r\n",
      "[2021-06-06 12:57:33,238][fairseq.trainer][INFO] - Saving checkpoint to /kaggle/working/checkpoint4774.pt\r\n"
     ]
    },
    {
     "name": "stdout",
     "output_type": "stream",
     "text": [
      "[2021-06-06 12:57:33,279][fairseq.trainer][INFO] - Finished saving checkpoint to /kaggle/working/checkpoint4774.pt\r\n"
     ]
    },
    {
     "name": "stdout",
     "output_type": "stream",
     "text": [
      "[2021-06-06 12:57:33,310][fairseq.checkpoint_utils][INFO] - Saved checkpoint /kaggle/working/checkpoint4774.pt (epoch 4774 @ 76384 updates, score 75.7377622812662) (writing took 0.07368099599989364 seconds)\r\n",
      "[2021-06-06 12:57:33,314][fairseq_cli.train][INFO] - end of epoch 4774 (average epoch stats below)\r\n",
      "[2021-06-06 12:57:33,317][train][INFO] - {\"epoch\": 4774, \"train_loss\": \"3.2\", \"train_ntokens\": \"145.688\", \"train_nsentences\": \"145.688\", \"train_temp\": \"0.1\", \"train_code_ppl\": \"8.882\", \"train_loss_code_pen\": \"0.331\", \"train_loss_smoothness\": \"2.057\", \"train_loss_dense_g\": \"4.138\", \"train_lm_score_sum\": 0.0, \"train_num_pred_chars\": 0.0, \"train_loss_grad_pen\": \"0.054\", \"train_loss_dense_d\": \"0.028\", \"train_loss_token_d\": \"0.026\", \"train_wps\": \"11.9\", \"train_ups\": \"0.08\", \"train_wpb\": \"145.7\", \"train_bsz\": \"145.7\", \"train_num_updates\": \"76384\", \"train_lr_discriminator\": \"0.0005\", \"train_lr_generator\": \"0.0004\", \"train_gnorm\": \"28.315\", \"train_clip\": \"62.5\", \"train_train_wall\": \"192\", \"train_wall\": \"4116\"}\r\n"
     ]
    },
    {
     "name": "stdout",
     "output_type": "stream",
     "text": [
      "[2021-06-06 12:57:33,375][fairseq.trainer][INFO] - begin training epoch 4775\r\n",
      "[2021-06-06 12:57:33,376][fairseq_cli.train][INFO] - Start iterating over samples\r\n"
     ]
    },
    {
     "name": "stdout",
     "output_type": "stream",
     "text": [
      "[2021-06-06 13:00:31,202][train_inner][INFO] - {\"epoch\": 4775, \"update\": 4775.0, \"loss\": \"3.335\", \"ntokens\": \"146.26\", \"nsentences\": \"146.26\", \"temp\": \"0.1\", \"code_ppl\": \"8.901\", \"loss_code_pen\": \"0.336\", \"loss_smoothness\": \"2.068\", \"loss_dense_g\": \"4.085\", \"lm_score_sum\": 0.0, \"num_pred_chars\": 0.0, \"loss_grad_pen\": \"0.067\", \"loss_dense_d\": \"0.026\", \"loss_token_d\": \"0.026\", \"wps\": \"12\", \"ups\": \"0.08\", \"wpb\": \"146.3\", \"bsz\": \"146.3\", \"num_updates\": \"76400\", \"lr_discriminator\": \"0.0005\", \"lr_generator\": \"0.0004\", \"gnorm\": \"29.586\", \"clip\": \"74\", \"train_wall\": \"1192\", \"wall\": \"4294\"}\r\n",
      "[2021-06-06 13:00:31,204][fairseq_cli.train][INFO] - begin validation on \"valid\" subset\r\n"
     ]
    },
    {
     "name": "stdout",
     "output_type": "stream",
     "text": [
      "[2021-06-06 13:00:33,613][fairseq.tasks.unpaired_audio_text][INFO] - REF: ɛ n f œ ʂ ə n a d ɵ ʂ ə k t f øː r d eː t s ɔ m h ɛ n d ə p oː ɕ œ r k ɔ n s ɛ t ə n\r\n",
      "[2021-06-06 13:00:33,616][fairseq.tasks.unpaired_audio_text][INFO] - HYP: t ɕ ɛ s j œ r œ j œ b j uː œ yː yː k yː uː ɵ øː v m b n ə m œ b uː s eː r ɛ v oː s l ɪ ŋ k l ɪ l a s ɔ k m ʉ n a\r\n"
     ]
    },
    {
     "name": "stdout",
     "output_type": "stream",
     "text": [
      "[2021-06-06 13:00:33,621][fairseq.tasks.unpaired_audio_text][INFO] - LM [REF]: -53.44462585449219, 0.05339602260269112\r\n",
      "[2021-06-06 13:00:33,621][fairseq.tasks.unpaired_audio_text][INFO] - LM [HYP]: -96.0338363647461, 0.015418453782735904\r\n"
     ]
    },
    {
     "name": "stdout",
     "output_type": "stream",
     "text": [
      "[2021-06-06 13:00:34,109][valid][INFO] - {\"epoch\": 4775, \"valid_loss\": \"1.008\", \"valid_ntokens\": \"3039.79\", \"valid_nsentences\": \"144.214\", \"valid_lm_score_sum\": \"-89905.2\", \"valid_num_pred_chars\": \"48516\", \"valid_vocab_seen_pct\": \"0.89547\", \"valid_uer\": \"100.766\", \"valid_weighted_lm_ppl\": \"74.9835\", \"valid_lm_ppl\": \"60.1268\", \"valid_wps\": \"19237.5\", \"valid_wpb\": \"3039.8\", \"valid_bsz\": \"144.2\", \"valid_num_updates\": \"76400\", \"valid_best_weighted_lm_ppl\": \"73.4256\"}\r\n",
      "[2021-06-06 13:00:34,112][fairseq.checkpoint_utils][INFO] - Preparing to save checkpoint for epoch 4775 @ 76400 updates\r\n",
      "[2021-06-06 13:00:34,113][fairseq.trainer][INFO] - Saving checkpoint to /kaggle/working/checkpoint4775.pt\r\n"
     ]
    },
    {
     "name": "stdout",
     "output_type": "stream",
     "text": [
      "[2021-06-06 13:00:34,153][fairseq.trainer][INFO] - Finished saving checkpoint to /kaggle/working/checkpoint4775.pt\r\n"
     ]
    },
    {
     "name": "stdout",
     "output_type": "stream",
     "text": [
      "[2021-06-06 13:00:34,186][fairseq.checkpoint_utils][INFO] - Saved checkpoint /kaggle/working/checkpoint4775.pt (epoch 4775 @ 76400 updates, score 74.98345221107479) (writing took 0.07454443999995419 seconds)\r\n",
      "[2021-06-06 13:00:34,190][fairseq_cli.train][INFO] - end of epoch 4775 (average epoch stats below)\r\n",
      "[2021-06-06 13:00:34,193][train][INFO] - {\"epoch\": 4775, \"train_loss\": \"3.668\", \"train_ntokens\": \"145.688\", \"train_nsentences\": \"145.688\", \"train_temp\": \"0.1\", \"train_code_ppl\": \"8.859\", \"train_loss_code_pen\": \"0.33\", \"train_loss_smoothness\": \"2.089\", \"train_loss_dense_g\": \"4.168\", \"train_lm_score_sum\": 0.0, \"train_num_pred_chars\": 0.0, \"train_loss_grad_pen\": \"0.065\", \"train_loss_dense_d\": \"0.025\", \"train_loss_token_d\": \"0.024\", \"train_wps\": \"12.9\", \"train_ups\": \"0.09\", \"train_wpb\": \"145.7\", \"train_bsz\": \"145.7\", \"train_num_updates\": \"76400\", \"train_lr_discriminator\": \"0.0005\", \"train_lr_generator\": \"0.0004\", \"train_gnorm\": \"29.534\", \"train_clip\": \"81.2\", \"train_train_wall\": \"177\", \"train_wall\": \"4297\"}\r\n"
     ]
    },
    {
     "name": "stdout",
     "output_type": "stream",
     "text": [
      "[2021-06-06 13:00:34,250][fairseq.trainer][INFO] - begin training epoch 4776\r\n",
      "[2021-06-06 13:00:34,251][fairseq_cli.train][INFO] - Start iterating over samples\r\n"
     ]
    },
    {
     "name": "stdout",
     "output_type": "stream",
     "text": [
      "[2021-06-06 13:03:38,182][fairseq_cli.train][INFO] - begin validation on \"valid\" subset\r\n"
     ]
    },
    {
     "name": "stdout",
     "output_type": "stream",
     "text": [
      "[2021-06-06 13:03:40,606][fairseq.tasks.unpaired_audio_text][INFO] - REF: ɛ n f œ ʂ ə n a d ɵ ʂ ə k t f øː r d eː t s ɔ m h ɛ n d ə p oː ɕ œ r k ɔ n s ɛ t ə n\r\n",
      "[2021-06-06 13:03:40,609][fairseq.tasks.unpaired_audio_text][INFO] - HYP: n ɕ ɛ s j œ r œ j œ b j uː œ yː k yː uː ɵ øː v n ə m œ b uː s eː r ɛ v oː s l ɪ ŋ k l ɪ l a s ɔ k m k n a\r\n",
      "[2021-06-06 13:03:40,613][fairseq.tasks.unpaired_audio_text][INFO] - LM [REF]: -53.44462585449219, 0.05339602260269112\r\n",
      "[2021-06-06 13:03:40,613][fairseq.tasks.unpaired_audio_text][INFO] - LM [HYP]: -90.45569610595703, 0.01551979848384771\r\n"
     ]
    },
    {
     "name": "stdout",
     "output_type": "stream",
     "text": [
      "[2021-06-06 13:03:41,105][valid][INFO] - {\"epoch\": 4776, \"valid_loss\": \"1.005\", \"valid_ntokens\": \"3039.79\", \"valid_nsentences\": \"144.214\", \"valid_lm_score_sum\": \"-89711.9\", \"valid_num_pred_chars\": \"48487\", \"valid_vocab_seen_pct\": \"0.891986\", \"valid_uer\": \"100.519\", \"valid_weighted_lm_ppl\": \"75.0839\", \"valid_lm_ppl\": \"59.7397\", \"valid_wps\": \"19158.2\", \"valid_wpb\": \"3039.8\", \"valid_bsz\": \"144.2\", \"valid_num_updates\": \"76416\", \"valid_best_weighted_lm_ppl\": \"73.4256\"}\r\n",
      "[2021-06-06 13:03:41,108][fairseq.checkpoint_utils][INFO] - Preparing to save checkpoint for epoch 4776 @ 76416 updates\r\n",
      "[2021-06-06 13:03:41,110][fairseq.trainer][INFO] - Saving checkpoint to /kaggle/working/checkpoint4776.pt\r\n",
      "[2021-06-06 13:03:41,148][fairseq.trainer][INFO] - Finished saving checkpoint to /kaggle/working/checkpoint4776.pt\r\n"
     ]
    },
    {
     "name": "stdout",
     "output_type": "stream",
     "text": [
      "[2021-06-06 13:03:41,179][fairseq.checkpoint_utils][INFO] - Saved checkpoint /kaggle/working/checkpoint4776.pt (epoch 4776 @ 76416 updates, score 75.08388536174212) (writing took 0.07092685400039045 seconds)\r\n",
      "[2021-06-06 13:03:41,183][fairseq_cli.train][INFO] - end of epoch 4776 (average epoch stats below)\r\n",
      "[2021-06-06 13:03:41,186][train][INFO] - {\"epoch\": 4776, \"train_loss\": \"3.639\", \"train_ntokens\": \"145.688\", \"train_nsentences\": \"145.688\", \"train_temp\": \"0.1\", \"train_code_ppl\": \"8.876\", \"train_loss_code_pen\": \"0.332\", \"train_loss_smoothness\": \"2.074\", \"train_loss_dense_g\": \"4.44\", \"train_lm_score_sum\": 0.0, \"train_num_pred_chars\": 0.0, \"train_loss_grad_pen\": \"0.127\", \"train_loss_dense_d\": \"0.022\", \"train_loss_token_d\": \"0.039\", \"train_wps\": \"12.5\", \"train_ups\": \"0.09\", \"train_wpb\": \"145.7\", \"train_bsz\": \"145.7\", \"train_num_updates\": \"76416\", \"train_lr_discriminator\": \"0.0005\", \"train_lr_generator\": \"0.0004\", \"train_gnorm\": \"34.484\", \"train_clip\": \"87.5\", \"train_train_wall\": \"183\", \"train_wall\": \"4484\"}\r\n"
     ]
    },
    {
     "name": "stdout",
     "output_type": "stream",
     "text": [
      "[2021-06-06 13:03:41,247][fairseq.trainer][INFO] - begin training epoch 4777\r\n",
      "[2021-06-06 13:03:41,249][fairseq_cli.train][INFO] - Start iterating over samples\r\n"
     ]
    },
    {
     "name": "stdout",
     "output_type": "stream",
     "text": [
      "[2021-06-06 13:07:11,594][fairseq_cli.train][INFO] - begin validation on \"valid\" subset\r\n"
     ]
    },
    {
     "name": "stdout",
     "output_type": "stream",
     "text": [
      "[2021-06-06 13:07:14,132][fairseq.tasks.unpaired_audio_text][INFO] - REF: ɛ n f œ ʂ ə n a d ɵ ʂ ə k t f øː r d eː t s ɔ m h ɛ n d ə p oː ɕ œ r k ɔ n s ɛ t ə n\r\n",
      "[2021-06-06 13:07:14,135][fairseq.tasks.unpaired_audio_text][INFO] - HYP: n ɕ ɛ s j œ r œ j yː b j uː œ yː k yː uː ɵ øː v n ə m œ b uː s eː r ɛ v oː s l ɪ ŋ k l ɪ l a s ɔ k m ʉ n a\r\n",
      "[2021-06-06 13:07:14,141][fairseq.tasks.unpaired_audio_text][INFO] - LM [REF]: -53.44462585449219, 0.05339602260269112\r\n",
      "[2021-06-06 13:07:14,141][fairseq.tasks.unpaired_audio_text][INFO] - LM [HYP]: -90.1498031616211, 0.015739971322800007\r\n"
     ]
    },
    {
     "name": "stdout",
     "output_type": "stream",
     "text": [
      "[2021-06-06 13:07:14,701][valid][INFO] - {\"epoch\": 4777, \"valid_loss\": \"1.005\", \"valid_ntokens\": \"3039.79\", \"valid_nsentences\": \"144.214\", \"valid_lm_score_sum\": \"-89809.3\", \"valid_num_pred_chars\": \"48476\", \"valid_vocab_seen_pct\": \"0.891986\", \"valid_uer\": \"100.458\", \"valid_weighted_lm_ppl\": \"75.4851\", \"valid_lm_ppl\": \"60.0589\", \"valid_wps\": \"17519.7\", \"valid_wpb\": \"3039.8\", \"valid_bsz\": \"144.2\", \"valid_num_updates\": \"76432\", \"valid_best_weighted_lm_ppl\": \"73.4256\"}\r\n",
      "[2021-06-06 13:07:14,705][fairseq.checkpoint_utils][INFO] - Preparing to save checkpoint for epoch 4777 @ 76432 updates\r\n",
      "[2021-06-06 13:07:14,706][fairseq.trainer][INFO] - Saving checkpoint to /kaggle/working/checkpoint4777.pt\r\n"
     ]
    },
    {
     "name": "stdout",
     "output_type": "stream",
     "text": [
      "[2021-06-06 13:07:14,745][fairseq.trainer][INFO] - Finished saving checkpoint to /kaggle/working/checkpoint4777.pt\r\n",
      "[2021-06-06 13:07:14,775][fairseq.checkpoint_utils][INFO] - Saved checkpoint /kaggle/working/checkpoint4777.pt (epoch 4777 @ 76432 updates, score 75.48512186203816) (writing took 0.0705392469999424 seconds)\r\n",
      "[2021-06-06 13:07:14,778][fairseq_cli.train][INFO] - end of epoch 4777 (average epoch stats below)\r\n",
      "[2021-06-06 13:07:14,782][train][INFO] - {\"epoch\": 4777, \"train_loss\": \"2.818\", \"train_ntokens\": \"145.688\", \"train_nsentences\": \"145.688\", \"train_temp\": \"0.1\", \"train_code_ppl\": \"8.921\", \"train_loss_code_pen\": \"0.329\", \"train_loss_smoothness\": \"2.06\", \"train_loss_dense_g\": \"3.694\", \"train_lm_score_sum\": 0.0, \"train_num_pred_chars\": 0.0, \"train_loss_grad_pen\": \"0.077\", \"train_loss_dense_d\": \"0.035\", \"train_loss_token_d\": \"0.025\", \"train_wps\": \"10.9\", \"train_ups\": \"0.07\", \"train_wpb\": \"145.7\", \"train_bsz\": \"145.7\", \"train_num_updates\": \"76432\", \"train_lr_discriminator\": \"0.0005\", \"train_lr_generator\": \"0.0004\", \"train_gnorm\": \"28.886\", \"train_clip\": \"81.2\", \"train_train_wall\": \"210\", \"train_wall\": \"4698\"}\r\n"
     ]
    },
    {
     "name": "stdout",
     "output_type": "stream",
     "text": [
      "[2021-06-06 13:07:14,844][fairseq.trainer][INFO] - begin training epoch 4778\r\n",
      "[2021-06-06 13:07:14,846][fairseq_cli.train][INFO] - Start iterating over samples\r\n"
     ]
    },
    {
     "name": "stdout",
     "output_type": "stream",
     "text": [
      "[2021-06-06 13:10:15,315][fairseq_cli.train][INFO] - begin validation on \"valid\" subset\r\n"
     ]
    },
    {
     "name": "stdout",
     "output_type": "stream",
     "text": [
      "[2021-06-06 13:10:17,721][fairseq.tasks.unpaired_audio_text][INFO] - REF: ɛ n f œ ʂ ə n a d ɵ ʂ ə k t f øː r d eː t s ɔ m h ɛ n d ə p oː ɕ œ r k ɔ n s ɛ t ə n\r\n",
      "[2021-06-06 13:10:17,723][fairseq.tasks.unpaired_audio_text][INFO] - HYP: t ɕ ɛ s j œ f œ j œ b j uː œ yː k yː uː ɵ v yː n ə m œ l b uː s eː r ɛ b oː s l ɪ ŋ k l ɪ l a s ɔ k m ʉ n a\r\n",
      "[2021-06-06 13:10:17,727][fairseq.tasks.unpaired_audio_text][INFO] - LM [REF]: -53.44462585449219, 0.05339602260269112\r\n",
      "[2021-06-06 13:10:17,728][fairseq.tasks.unpaired_audio_text][INFO] - LM [HYP]: -92.87843322753906, 0.015095734551409307\r\n"
     ]
    },
    {
     "name": "stdout",
     "output_type": "stream",
     "text": [
      "[2021-06-06 13:10:18,245][valid][INFO] - {\"epoch\": 4778, \"valid_loss\": \"1.005\", \"valid_ntokens\": \"3039.79\", \"valid_nsentences\": \"144.214\", \"valid_lm_score_sum\": \"-89718.8\", \"valid_num_pred_chars\": \"48467\", \"valid_vocab_seen_pct\": \"0.893728\", \"valid_uer\": \"100.496\", \"valid_weighted_lm_ppl\": \"74.9361\", \"valid_lm_ppl\": \"59.8552\", \"valid_wps\": \"18999\", \"valid_wpb\": \"3039.8\", \"valid_bsz\": \"144.2\", \"valid_num_updates\": \"76448\", \"valid_best_weighted_lm_ppl\": \"73.4256\"}\r\n",
      "[2021-06-06 13:10:18,249][fairseq.checkpoint_utils][INFO] - Preparing to save checkpoint for epoch 4778 @ 76448 updates\r\n",
      "[2021-06-06 13:10:18,251][fairseq.trainer][INFO] - Saving checkpoint to /kaggle/working/checkpoint4778.pt\r\n"
     ]
    },
    {
     "name": "stdout",
     "output_type": "stream",
     "text": [
      "[2021-06-06 13:10:18,291][fairseq.trainer][INFO] - Finished saving checkpoint to /kaggle/working/checkpoint4778.pt\r\n",
      "[2021-06-06 13:10:18,324][fairseq.checkpoint_utils][INFO] - Saved checkpoint /kaggle/working/checkpoint4778.pt (epoch 4778 @ 76448 updates, score 74.93608445707578) (writing took 0.07414270300068893 seconds)\r\n",
      "[2021-06-06 13:10:18,327][fairseq_cli.train][INFO] - end of epoch 4778 (average epoch stats below)\r\n",
      "[2021-06-06 13:10:18,330][train][INFO] - {\"epoch\": 4778, \"train_loss\": \"3.308\", \"train_ntokens\": \"145.688\", \"train_nsentences\": \"145.688\", \"train_temp\": \"0.1\", \"train_code_ppl\": \"9.002\", \"train_loss_code_pen\": \"0.324\", \"train_loss_smoothness\": \"2.047\", \"train_loss_dense_g\": \"3.888\", \"train_lm_score_sum\": 0.0, \"train_num_pred_chars\": 0.0, \"train_loss_grad_pen\": \"0.084\", \"train_loss_dense_d\": \"0.025\", \"train_loss_token_d\": \"0.025\", \"train_wps\": \"12.7\", \"train_ups\": \"0.09\", \"train_wpb\": \"145.7\", \"train_bsz\": \"145.7\", \"train_num_updates\": \"76448\", \"train_lr_discriminator\": \"0.0005\", \"train_lr_generator\": \"0.0004\", \"train_gnorm\": \"29.582\", \"train_clip\": \"81.2\", \"train_train_wall\": \"180\", \"train_wall\": \"4881\"}\r\n"
     ]
    },
    {
     "name": "stdout",
     "output_type": "stream",
     "text": [
      "[2021-06-06 13:10:18,394][fairseq.trainer][INFO] - begin training epoch 4779\r\n",
      "[2021-06-06 13:10:18,396][fairseq_cli.train][INFO] - Start iterating over samples\r\n"
     ]
    },
    {
     "name": "stdout",
     "output_type": "stream",
     "text": [
      "[2021-06-06 13:13:39,418][fairseq_cli.train][INFO] - begin validation on \"valid\" subset\r\n"
     ]
    },
    {
     "name": "stdout",
     "output_type": "stream",
     "text": [
      "[2021-06-06 13:13:41,849][fairseq.tasks.unpaired_audio_text][INFO] - REF: ɛ n f œ ʂ ə n a d ɵ ʂ ə k t f øː r d eː t s ɔ m h ɛ n d ə p oː ɕ œ r k ɔ n s ɛ t ə n\r\n",
      "[2021-06-06 13:13:41,852][fairseq.tasks.unpaired_audio_text][INFO] - HYP: t ɛ s j œ r œ j œ ʃ b j uː œ yː k yː uː ɵ v yː n ə m œ l b uː s eː r ɛ b oː s l ɪ ŋ k l ɪ l a s ɔ k m ʉ n a\r\n",
      "[2021-06-06 13:13:41,856][fairseq.tasks.unpaired_audio_text][INFO] - LM [REF]: -53.44462585449219, 0.05339602260269112\r\n",
      "[2021-06-06 13:13:41,857][fairseq.tasks.unpaired_audio_text][INFO] - LM [HYP]: -93.23715209960938, 0.01485321772120701\r\n"
     ]
    },
    {
     "name": "stdout",
     "output_type": "stream",
     "text": [
      "[2021-06-06 13:13:42,351][valid][INFO] - {\"epoch\": 4779, \"valid_loss\": \"1.006\", \"valid_ntokens\": \"3039.79\", \"valid_nsentences\": \"144.214\", \"valid_lm_score_sum\": \"-89878.7\", \"valid_num_pred_chars\": \"48493\", \"valid_vocab_seen_pct\": \"0.900697\", \"valid_uer\": \"100.609\", \"valid_weighted_lm_ppl\": \"74.1645\", \"valid_lm_ppl\": \"60.1663\", \"valid_wps\": \"18984.7\", \"valid_wpb\": \"3039.8\", \"valid_bsz\": \"144.2\", \"valid_num_updates\": \"76464\", \"valid_best_weighted_lm_ppl\": \"73.4256\"}\r\n",
      "[2021-06-06 13:13:42,355][fairseq.checkpoint_utils][INFO] - Preparing to save checkpoint for epoch 4779 @ 76464 updates\r\n",
      "[2021-06-06 13:13:42,356][fairseq.trainer][INFO] - Saving checkpoint to /kaggle/working/checkpoint4779.pt\r\n"
     ]
    },
    {
     "name": "stdout",
     "output_type": "stream",
     "text": [
      "[2021-06-06 13:13:42,393][fairseq.trainer][INFO] - Finished saving checkpoint to /kaggle/working/checkpoint4779.pt\r\n",
      "[2021-06-06 13:13:42,424][fairseq.checkpoint_utils][INFO] - Saved checkpoint /kaggle/working/checkpoint4779.pt (epoch 4779 @ 76464 updates, score 74.16454843168768) (writing took 0.06929991200013319 seconds)\r\n",
      "[2021-06-06 13:13:42,427][fairseq_cli.train][INFO] - end of epoch 4779 (average epoch stats below)\r\n"
     ]
    },
    {
     "name": "stdout",
     "output_type": "stream",
     "text": [
      "[2021-06-06 13:13:42,431][train][INFO] - {\"epoch\": 4779, \"train_loss\": \"2.965\", \"train_ntokens\": \"145.688\", \"train_nsentences\": \"145.688\", \"train_temp\": \"0.1\", \"train_code_ppl\": \"9.165\", \"train_loss_code_pen\": \"0.331\", \"train_loss_smoothness\": \"2.062\", \"train_loss_dense_g\": \"4.028\", \"train_lm_score_sum\": 0.0, \"train_num_pred_chars\": 0.0, \"train_loss_grad_pen\": \"0.079\", \"train_loss_dense_d\": \"0.027\", \"train_loss_token_d\": \"0.021\", \"train_wps\": \"11.4\", \"train_ups\": \"0.08\", \"train_wpb\": \"145.7\", \"train_bsz\": \"145.7\", \"train_num_updates\": \"76464\", \"train_lr_discriminator\": \"0.0005\", \"train_lr_generator\": \"0.0004\", \"train_gnorm\": \"28.88\", \"train_clip\": \"68.8\", \"train_train_wall\": \"201\", \"train_wall\": \"5085\"}\r\n"
     ]
    },
    {
     "name": "stdout",
     "output_type": "stream",
     "text": [
      "[2021-06-06 13:13:42,492][fairseq.trainer][INFO] - begin training epoch 4780\r\n",
      "[2021-06-06 13:13:42,494][fairseq_cli.train][INFO] - Start iterating over samples\r\n"
     ]
    },
    {
     "name": "stdout",
     "output_type": "stream",
     "text": [
      "[2021-06-06 13:17:00,607][fairseq_cli.train][INFO] - begin validation on \"valid\" subset\r\n"
     ]
    },
    {
     "name": "stdout",
     "output_type": "stream",
     "text": [
      "[2021-06-06 13:17:03,155][fairseq.tasks.unpaired_audio_text][INFO] - REF: ɛ n f œ ʂ ə n a d ɵ ʂ ə k t f øː r d eː t s ɔ m h ɛ n d ə p oː ɕ œ r k ɔ n s ɛ t ə n\r\n",
      "[2021-06-06 13:17:03,158][fairseq.tasks.unpaired_audio_text][INFO] - HYP: t ɛ s j œ r œ j œ b j uː œ yː k yː uː ɵ v n ə m œ b uː s eː r n v oː s l ɪ ŋ k l ɪ l a s ɔ k m ʉ n t a\r\n",
      "[2021-06-06 13:17:03,162][fairseq.tasks.unpaired_audio_text][INFO] - LM [REF]: -53.44462585449219, 0.05339602260269112\r\n",
      "[2021-06-06 13:17:03,162][fairseq.tasks.unpaired_audio_text][INFO] - LM [HYP]: -88.04572296142578, 0.01596424966103391\r\n"
     ]
    },
    {
     "name": "stdout",
     "output_type": "stream",
     "text": [
      "[2021-06-06 13:17:03,660][valid][INFO] - {\"epoch\": 4780, \"valid_loss\": \"1.005\", \"valid_ntokens\": \"3039.79\", \"valid_nsentences\": \"144.214\", \"valid_lm_score_sum\": \"-89696\", \"valid_num_pred_chars\": \"48377\", \"valid_vocab_seen_pct\": \"0.893728\", \"valid_uer\": \"100.531\", \"valid_weighted_lm_ppl\": \"75.4073\", \"valid_lm_ppl\": \"60.2316\", \"valid_wps\": \"18267.9\", \"valid_wpb\": \"3039.8\", \"valid_bsz\": \"144.2\", \"valid_num_updates\": \"76480\", \"valid_best_weighted_lm_ppl\": \"73.4256\"}\r\n",
      "[2021-06-06 13:17:03,663][fairseq.checkpoint_utils][INFO] - Preparing to save checkpoint for epoch 4780 @ 76480 updates\r\n",
      "[2021-06-06 13:17:03,665][fairseq.trainer][INFO] - Saving checkpoint to /kaggle/working/checkpoint4780.pt\r\n",
      "[2021-06-06 13:17:03,704][fairseq.trainer][INFO] - Finished saving checkpoint to /kaggle/working/checkpoint4780.pt\r\n"
     ]
    },
    {
     "name": "stdout",
     "output_type": "stream",
     "text": [
      "[2021-06-06 13:17:03,735][fairseq.checkpoint_utils][INFO] - Saved checkpoint /kaggle/working/checkpoint4780.pt (epoch 4780 @ 76480 updates, score 75.407285739485) (writing took 0.07181145999948058 seconds)\r\n",
      "[2021-06-06 13:17:03,738][fairseq_cli.train][INFO] - end of epoch 4780 (average epoch stats below)\r\n",
      "[2021-06-06 13:17:03,742][train][INFO] - {\"epoch\": 4780, \"train_loss\": \"3.189\", \"train_ntokens\": \"145.688\", \"train_nsentences\": \"145.688\", \"train_temp\": \"0.1\", \"train_code_ppl\": \"8.915\", \"train_loss_code_pen\": \"0.317\", \"train_loss_smoothness\": \"2.048\", \"train_loss_dense_g\": \"4.102\", \"train_lm_score_sum\": 0.0, \"train_num_pred_chars\": 0.0, \"train_loss_grad_pen\": \"0.09\", \"train_loss_dense_d\": \"0.026\", \"train_loss_token_d\": \"0.025\", \"train_wps\": \"11.6\", \"train_ups\": \"0.08\", \"train_wpb\": \"145.7\", \"train_bsz\": \"145.7\", \"train_num_updates\": \"76480\", \"train_lr_discriminator\": \"0.0005\", \"train_lr_generator\": \"0.0004\", \"train_gnorm\": \"29.331\", \"train_clip\": \"87.5\", \"train_train_wall\": \"198\", \"train_wall\": \"5287\"}\r\n"
     ]
    },
    {
     "name": "stdout",
     "output_type": "stream",
     "text": [
      "[2021-06-06 13:17:03,801][fairseq.trainer][INFO] - begin training epoch 4781\r\n",
      "[2021-06-06 13:17:03,802][fairseq_cli.train][INFO] - Start iterating over samples\r\n"
     ]
    },
    {
     "name": "stdout",
     "output_type": "stream",
     "text": [
      "[2021-06-06 13:20:01,472][fairseq_cli.train][INFO] - begin validation on \"valid\" subset\r\n"
     ]
    },
    {
     "name": "stdout",
     "output_type": "stream",
     "text": [
      "[2021-06-06 13:20:04,290][fairseq.tasks.unpaired_audio_text][INFO] - REF: ɛ n f œ ʂ ə n a d ɵ ʂ ə k t f øː r d eː t s ɔ m h ɛ n d ə p oː ɕ œ r k ɔ n s ɛ t ə n\r\n",
      "[2021-06-06 13:20:04,292][fairseq.tasks.unpaired_audio_text][INFO] - HYP: n ɛ s j œ r œ j œ ɕ b j uː œ yː k yː uː ɵ øː v yː n ə m œ k b ə uː s eː r n v oː n l ɪ ŋ k l ɪ l a s ɔ k m ʉ n a\r\n",
      "[2021-06-06 13:20:04,297][fairseq.tasks.unpaired_audio_text][INFO] - LM [REF]: -53.44462585449219, 0.05339602260269112\r\n",
      "[2021-06-06 13:20:04,297][fairseq.tasks.unpaired_audio_text][INFO] - LM [HYP]: -96.66435241699219, 0.015001831874589422\r\n"
     ]
    },
    {
     "name": "stdout",
     "output_type": "stream",
     "text": [
      "[2021-06-06 13:20:04,776][valid][INFO] - {\"epoch\": 4781, \"valid_loss\": \"1.008\", \"valid_ntokens\": \"3039.79\", \"valid_nsentences\": \"144.214\", \"valid_lm_score_sum\": \"-89987.3\", \"valid_num_pred_chars\": \"48607\", \"valid_vocab_seen_pct\": \"0.897213\", \"valid_uer\": \"100.801\", \"valid_weighted_lm_ppl\": \"74.422\", \"valid_lm_ppl\": \"59.909\", \"valid_wps\": \"18829.9\", \"valid_wpb\": \"3039.8\", \"valid_bsz\": \"144.2\", \"valid_num_updates\": \"76496\", \"valid_best_weighted_lm_ppl\": \"73.4256\"}\r\n",
      "[2021-06-06 13:20:04,779][fairseq.checkpoint_utils][INFO] - Preparing to save checkpoint for epoch 4781 @ 76496 updates\r\n",
      "[2021-06-06 13:20:04,780][fairseq.trainer][INFO] - Saving checkpoint to /kaggle/working/checkpoint4781.pt\r\n"
     ]
    },
    {
     "name": "stdout",
     "output_type": "stream",
     "text": [
      "[2021-06-06 13:20:04,820][fairseq.trainer][INFO] - Finished saving checkpoint to /kaggle/working/checkpoint4781.pt\r\n",
      "[2021-06-06 13:20:04,850][fairseq.checkpoint_utils][INFO] - Saved checkpoint /kaggle/working/checkpoint4781.pt (epoch 4781 @ 76496 updates, score 74.42197105434519) (writing took 0.07071186099983606 seconds)\r\n",
      "[2021-06-06 13:20:04,853][fairseq_cli.train][INFO] - end of epoch 4781 (average epoch stats below)\r\n",
      "[2021-06-06 13:20:04,855][train][INFO] - {\"epoch\": 4781, \"train_loss\": \"3.782\", \"train_ntokens\": \"145.688\", \"train_nsentences\": \"145.688\", \"train_temp\": \"0.1\", \"train_code_ppl\": \"8.894\", \"train_loss_code_pen\": \"0.312\", \"train_loss_smoothness\": \"2.032\", \"train_loss_dense_g\": \"4.444\", \"train_lm_score_sum\": 0.0, \"train_num_pred_chars\": 0.0, \"train_loss_grad_pen\": \"0.063\", \"train_loss_dense_d\": \"0.024\", \"train_loss_token_d\": \"0.034\", \"train_wps\": \"12.9\", \"train_ups\": \"0.09\", \"train_wpb\": \"145.7\", \"train_bsz\": \"145.7\", \"train_num_updates\": \"76496\", \"train_lr_discriminator\": \"0.0005\", \"train_lr_generator\": \"0.0004\", \"train_gnorm\": \"30.36\", \"train_clip\": \"68.8\", \"train_train_wall\": \"177\", \"train_wall\": \"5468\"}\r\n"
     ]
    },
    {
     "name": "stdout",
     "output_type": "stream",
     "text": [
      "[2021-06-06 13:20:04,912][fairseq.trainer][INFO] - begin training epoch 4782\r\n",
      "[2021-06-06 13:20:04,914][fairseq_cli.train][INFO] - Start iterating over samples\r\n"
     ]
    },
    {
     "name": "stdout",
     "output_type": "stream",
     "text": [
      "[2021-06-06 13:20:59,463][train_inner][INFO] - {\"epoch\": 4782, \"update\": 4781.25, \"loss\": \"3.257\", \"ntokens\": \"146.26\", \"nsentences\": \"146.26\", \"temp\": \"0.1\", \"code_ppl\": \"8.95\", \"loss_code_pen\": \"0.323\", \"loss_smoothness\": \"2.055\", \"loss_dense_g\": \"4.052\", \"lm_score_sum\": 0.0, \"num_pred_chars\": 0.0, \"loss_grad_pen\": \"0.09\", \"loss_dense_d\": \"0.029\", \"loss_token_d\": \"0.027\", \"wps\": \"11.9\", \"ups\": \"0.08\", \"wpb\": \"146.3\", \"bsz\": \"146.3\", \"num_updates\": \"76500\", \"lr_discriminator\": \"0.0005\", \"lr_generator\": \"0.0004\", \"gnorm\": \"30.21\", \"clip\": \"80\", \"train_wall\": \"1203\", \"wall\": \"5522\"}\r\n"
     ]
    },
    {
     "name": "stdout",
     "output_type": "stream",
     "text": [
      "[2021-06-06 13:23:19,993][fairseq_cli.train][INFO] - begin validation on \"valid\" subset\r\n"
     ]
    },
    {
     "name": "stdout",
     "output_type": "stream",
     "text": [
      "[2021-06-06 13:23:22,442][fairseq.tasks.unpaired_audio_text][INFO] - REF: ɛ n f œ ʂ ə n a d ɵ ʂ ə k t f øː r d eː t s ɔ m h ɛ n d ə p oː ɕ œ r k ɔ n s ɛ t ə n\r\n",
      "[2021-06-06 13:23:22,444][fairseq.tasks.unpaired_audio_text][INFO] - HYP: t ɛ s j œ r œ j œ b j uː œ yː k yː uː ɵ øː v n ə m œ l b ə uː s eː r n b oː n l ɪ ŋ k l ɪ l a s ɔ k m k n a\r\n",
      "[2021-06-06 13:23:22,448][fairseq.tasks.unpaired_audio_text][INFO] - LM [REF]: -53.44462585449219, 0.05339602260269112\r\n",
      "[2021-06-06 13:23:22,448][fairseq.tasks.unpaired_audio_text][INFO] - LM [HYP]: -93.7734146118164, 0.01449791655741546\r\n"
     ]
    },
    {
     "name": "stdout",
     "output_type": "stream",
     "text": [
      "[2021-06-06 13:23:22,941][valid][INFO] - {\"epoch\": 4782, \"valid_loss\": \"1.007\", \"valid_ntokens\": \"3039.79\", \"valid_nsentences\": \"144.214\", \"valid_lm_score_sum\": \"-90017.4\", \"valid_num_pred_chars\": \"48639\", \"valid_vocab_seen_pct\": \"0.89547\", \"valid_uer\": \"100.721\", \"valid_weighted_lm_ppl\": \"74.6208\", \"valid_lm_ppl\": \"59.836\", \"valid_wps\": \"19087.3\", \"valid_wpb\": \"3039.8\", \"valid_bsz\": \"144.2\", \"valid_num_updates\": \"76512\", \"valid_best_weighted_lm_ppl\": \"73.4256\"}\r\n"
     ]
    },
    {
     "name": "stdout",
     "output_type": "stream",
     "text": [
      "[2021-06-06 13:23:22,945][fairseq.checkpoint_utils][INFO] - Preparing to save checkpoint for epoch 4782 @ 76512 updates\r\n",
      "[2021-06-06 13:23:22,947][fairseq.trainer][INFO] - Saving checkpoint to /kaggle/working/checkpoint4782.pt\r\n",
      "[2021-06-06 13:23:22,986][fairseq.trainer][INFO] - Finished saving checkpoint to /kaggle/working/checkpoint4782.pt\r\n"
     ]
    },
    {
     "name": "stdout",
     "output_type": "stream",
     "text": [
      "[2021-06-06 13:23:23,017][fairseq.checkpoint_utils][INFO] - Saved checkpoint /kaggle/working/checkpoint4782.pt (epoch 4782 @ 76512 updates, score 74.6208201872796) (writing took 0.07208847099991544 seconds)\r\n",
      "[2021-06-06 13:23:23,020][fairseq_cli.train][INFO] - end of epoch 4782 (average epoch stats below)\r\n",
      "[2021-06-06 13:23:23,023][train][INFO] - {\"epoch\": 4782, \"train_loss\": \"3.086\", \"train_ntokens\": \"145.688\", \"train_nsentences\": \"145.688\", \"train_temp\": \"0.1\", \"train_code_ppl\": \"9.106\", \"train_loss_code_pen\": \"0.338\", \"train_loss_smoothness\": \"2.122\", \"train_loss_dense_g\": \"3.787\", \"train_lm_score_sum\": 0.0, \"train_num_pred_chars\": 0.0, \"train_loss_grad_pen\": \"0.086\", \"train_loss_dense_d\": \"0.037\", \"train_loss_token_d\": \"0.025\", \"train_wps\": \"11.8\", \"train_ups\": \"0.08\", \"train_wpb\": \"145.7\", \"train_bsz\": \"145.7\", \"train_num_updates\": \"76512\", \"train_lr_discriminator\": \"0.0005\", \"train_lr_generator\": \"0.0004\", \"train_gnorm\": \"28.531\", \"train_clip\": \"68.8\", \"train_train_wall\": \"195\", \"train_wall\": \"5666\"}\r\n"
     ]
    },
    {
     "name": "stdout",
     "output_type": "stream",
     "text": [
      "[2021-06-06 13:23:23,083][fairseq.trainer][INFO] - begin training epoch 4783\r\n",
      "[2021-06-06 13:23:23,084][fairseq_cli.train][INFO] - Start iterating over samples\r\n"
     ]
    },
    {
     "name": "stdout",
     "output_type": "stream",
     "text": [
      "[2021-06-06 13:26:39,653][fairseq_cli.train][INFO] - begin validation on \"valid\" subset\r\n"
     ]
    },
    {
     "name": "stdout",
     "output_type": "stream",
     "text": [
      "[2021-06-06 13:26:42,095][fairseq.tasks.unpaired_audio_text][INFO] - REF: ɛ n f œ ʂ ə n a d ɵ ʂ ə k t f øː r d eː t s ɔ m h ɛ n d ə p oː ɕ œ r k ɔ n s ɛ t ə n\r\n",
      "[2021-06-06 13:26:42,098][fairseq.tasks.unpaired_audio_text][INFO] - HYP: t ɛ s j œ r œ b j uː œ yː yː k ɵ uː ɵ øː v n ə m œ l b ə uː s eː r n b oː s l ɪ ŋ k l ɪ l a s ɔ k m k n t a\r\n",
      "[2021-06-06 13:26:42,102][fairseq.tasks.unpaired_audio_text][INFO] - LM [REF]: -53.44462585449219, 0.05339602260269112\r\n",
      "[2021-06-06 13:26:42,102][fairseq.tasks.unpaired_audio_text][INFO] - LM [HYP]: -93.34104919433594, 0.014783707085167963\r\n"
     ]
    },
    {
     "name": "stdout",
     "output_type": "stream",
     "text": [
      "[2021-06-06 13:26:42,610][valid][INFO] - {\"epoch\": 4783, \"valid_loss\": \"1.006\", \"valid_ntokens\": \"3039.79\", \"valid_nsentences\": \"144.214\", \"valid_lm_score_sum\": \"-89879.2\", \"valid_num_pred_chars\": \"48576\", \"valid_vocab_seen_pct\": \"0.898955\", \"valid_uer\": \"100.609\", \"valid_weighted_lm_ppl\": \"73.9553\", \"valid_lm_ppl\": \"59.7647\", \"valid_wps\": \"18577.2\", \"valid_wpb\": \"3039.8\", \"valid_bsz\": \"144.2\", \"valid_num_updates\": \"76528\", \"valid_best_weighted_lm_ppl\": \"73.4256\"}\r\n",
      "[2021-06-06 13:26:42,614][fairseq.checkpoint_utils][INFO] - Preparing to save checkpoint for epoch 4783 @ 76528 updates\r\n",
      "[2021-06-06 13:26:42,615][fairseq.trainer][INFO] - Saving checkpoint to /kaggle/working/checkpoint4783.pt\r\n"
     ]
    },
    {
     "name": "stdout",
     "output_type": "stream",
     "text": [
      "[2021-06-06 13:26:42,654][fairseq.trainer][INFO] - Finished saving checkpoint to /kaggle/working/checkpoint4783.pt\r\n",
      "[2021-06-06 13:26:42,684][fairseq.checkpoint_utils][INFO] - Saved checkpoint /kaggle/working/checkpoint4783.pt (epoch 4783 @ 76528 updates, score 73.95533127899148) (writing took 0.07023626600039279 seconds)\r\n",
      "[2021-06-06 13:26:42,687][fairseq_cli.train][INFO] - end of epoch 4783 (average epoch stats below)\r\n",
      "[2021-06-06 13:26:42,690][train][INFO] - {\"epoch\": 4783, \"train_loss\": \"3.268\", \"train_ntokens\": \"145.688\", \"train_nsentences\": \"145.688\", \"train_temp\": \"0.1\", \"train_code_ppl\": \"8.945\", \"train_loss_code_pen\": \"0.326\", \"train_loss_smoothness\": \"2.045\", \"train_loss_dense_g\": \"4.261\", \"train_lm_score_sum\": 0.0, \"train_num_pred_chars\": 0.0, \"train_loss_grad_pen\": \"0.09\", \"train_loss_dense_d\": \"0.025\", \"train_loss_token_d\": \"0.026\", \"train_wps\": \"11.7\", \"train_ups\": \"0.08\", \"train_wpb\": \"145.7\", \"train_bsz\": \"145.7\", \"train_num_updates\": \"76528\", \"train_lr_discriminator\": \"0.0005\", \"train_lr_generator\": \"0.0004\", \"train_gnorm\": \"29.414\", \"train_clip\": \"68.8\", \"train_train_wall\": \"196\", \"train_wall\": \"5866\"}\r\n"
     ]
    },
    {
     "name": "stdout",
     "output_type": "stream",
     "text": [
      "[2021-06-06 13:26:42,751][fairseq.trainer][INFO] - begin training epoch 4784\r\n",
      "[2021-06-06 13:26:42,752][fairseq_cli.train][INFO] - Start iterating over samples\r\n"
     ]
    },
    {
     "name": "stdout",
     "output_type": "stream",
     "text": [
      "[2021-06-06 13:29:49,575][fairseq_cli.train][INFO] - begin validation on \"valid\" subset\r\n"
     ]
    },
    {
     "name": "stdout",
     "output_type": "stream",
     "text": [
      "[2021-06-06 13:29:52,007][fairseq.tasks.unpaired_audio_text][INFO] - REF: ɛ n f œ ʂ ə n a d ɵ ʂ ə k t f øː r d eː t s ɔ m h ɛ n d ə p oː ɕ œ r k ɔ n s ɛ t ə n\r\n",
      "[2021-06-06 13:29:52,010][fairseq.tasks.unpaired_audio_text][INFO] - HYP: t ɛ s j œ f œ j œ b j uː œ yː k ɵ uː ɵ øː v m b n ə m œ k b ə uː s eː r n b oː s l ɪ ŋ k l ɪ l a s ɔ k m k n a\r\n"
     ]
    },
    {
     "name": "stdout",
     "output_type": "stream",
     "text": [
      "[2021-06-06 13:29:52,015][fairseq.tasks.unpaired_audio_text][INFO] - LM [REF]: -53.44462585449219, 0.05339602260269112\r\n",
      "[2021-06-06 13:29:52,016][fairseq.tasks.unpaired_audio_text][INFO] - LM [HYP]: -97.3365249633789, 0.014570075195292497\r\n"
     ]
    },
    {
     "name": "stdout",
     "output_type": "stream",
     "text": [
      "[2021-06-06 13:29:52,515][valid][INFO] - {\"epoch\": 4784, \"valid_loss\": \"1.004\", \"valid_ntokens\": \"3039.79\", \"valid_nsentences\": \"144.214\", \"valid_lm_score_sum\": \"-89637.5\", \"valid_num_pred_chars\": \"48459\", \"valid_vocab_seen_pct\": \"0.897213\", \"valid_uer\": \"100.442\", \"valid_weighted_lm_ppl\": \"74.128\", \"valid_lm_ppl\": \"59.6724\", \"valid_wps\": \"18898.5\", \"valid_wpb\": \"3039.8\", \"valid_bsz\": \"144.2\", \"valid_num_updates\": \"76544\", \"valid_best_weighted_lm_ppl\": \"73.4256\"}\r\n",
      "[2021-06-06 13:29:52,519][fairseq.checkpoint_utils][INFO] - Preparing to save checkpoint for epoch 4784 @ 76544 updates\r\n",
      "[2021-06-06 13:29:52,520][fairseq.trainer][INFO] - Saving checkpoint to /kaggle/working/checkpoint4784.pt\r\n"
     ]
    },
    {
     "name": "stdout",
     "output_type": "stream",
     "text": [
      "[2021-06-06 13:29:52,560][fairseq.trainer][INFO] - Finished saving checkpoint to /kaggle/working/checkpoint4784.pt\r\n"
     ]
    },
    {
     "name": "stdout",
     "output_type": "stream",
     "text": [
      "[2021-06-06 13:29:52,591][fairseq.checkpoint_utils][INFO] - Saved checkpoint /kaggle/working/checkpoint4784.pt (epoch 4784 @ 76544 updates, score 74.12804592391709) (writing took 0.07216697399962868 seconds)\r\n",
      "[2021-06-06 13:29:52,594][fairseq_cli.train][INFO] - end of epoch 4784 (average epoch stats below)\r\n",
      "[2021-06-06 13:29:52,597][train][INFO] - {\"epoch\": 4784, \"train_loss\": \"3.452\", \"train_ntokens\": \"145.688\", \"train_nsentences\": \"145.688\", \"train_temp\": \"0.1\", \"train_code_ppl\": \"8.861\", \"train_loss_code_pen\": \"0.324\", \"train_loss_smoothness\": \"2.03\", \"train_loss_dense_g\": \"4.189\", \"train_lm_score_sum\": 0.0, \"train_num_pred_chars\": 0.0, \"train_loss_grad_pen\": \"0.07\", \"train_loss_dense_d\": \"0.028\", \"train_loss_token_d\": \"0.028\", \"train_wps\": \"12.3\", \"train_ups\": \"0.08\", \"train_wpb\": \"145.7\", \"train_bsz\": \"145.7\", \"train_num_updates\": \"76544\", \"train_lr_discriminator\": \"0.0005\", \"train_lr_generator\": \"0.0004\", \"train_gnorm\": \"28.613\", \"train_clip\": \"68.8\", \"train_train_wall\": \"186\", \"train_wall\": \"6056\"}\r\n"
     ]
    },
    {
     "name": "stdout",
     "output_type": "stream",
     "text": [
      "[2021-06-06 13:29:52,655][fairseq.trainer][INFO] - begin training epoch 4785\r\n",
      "[2021-06-06 13:29:52,657][fairseq_cli.train][INFO] - Start iterating over samples\r\n"
     ]
    },
    {
     "name": "stdout",
     "output_type": "stream",
     "text": [
      "[2021-06-06 13:32:51,604][fairseq_cli.train][INFO] - begin validation on \"valid\" subset\r\n"
     ]
    },
    {
     "name": "stdout",
     "output_type": "stream",
     "text": [
      "[2021-06-06 13:32:54,049][fairseq.tasks.unpaired_audio_text][INFO] - REF: ɛ n f œ ʂ ə n a d ɵ ʂ ə k t f øː r d eː t s ɔ m h ɛ n d ə p oː ɕ œ r k ɔ n s ɛ t ə n\r\n",
      "[2021-06-06 13:32:54,051][fairseq.tasks.unpaired_audio_text][INFO] - HYP: t ɕ ɛ s j œ f œ b j œ yː yː k ɵ uː ɵ øː v n ə m œ l b uː s eː r n b oː n l ɪ ŋ k l ɪ l a ɔ k m k n a\r\n",
      "[2021-06-06 13:32:54,055][fairseq.tasks.unpaired_audio_text][INFO] - LM [REF]: -53.44462585449219, 0.05339602260269112\r\n",
      "[2021-06-06 13:32:54,055][fairseq.tasks.unpaired_audio_text][INFO] - LM [HYP]: -87.0776138305664, 0.01534203768562599\r\n"
     ]
    },
    {
     "name": "stdout",
     "output_type": "stream",
     "text": [
      "[2021-06-06 13:32:54,541][valid][INFO] - {\"epoch\": 4785, \"valid_loss\": \"1.006\", \"valid_ntokens\": \"3039.79\", \"valid_nsentences\": \"144.214\", \"valid_lm_score_sum\": \"-89829.6\", \"valid_num_pred_chars\": \"48458\", \"valid_vocab_seen_pct\": \"0.900697\", \"valid_uer\": \"100.599\", \"valid_weighted_lm_ppl\": \"74.2091\", \"valid_lm_ppl\": \"60.2025\", \"valid_wps\": \"18871.7\", \"valid_wpb\": \"3039.8\", \"valid_bsz\": \"144.2\", \"valid_num_updates\": \"76560\", \"valid_best_weighted_lm_ppl\": \"73.4256\"}\r\n",
      "[2021-06-06 13:32:54,544][fairseq.checkpoint_utils][INFO] - Preparing to save checkpoint for epoch 4785 @ 76560 updates\r\n",
      "[2021-06-06 13:32:54,546][fairseq.trainer][INFO] - Saving checkpoint to /kaggle/working/checkpoint4785.pt\r\n"
     ]
    },
    {
     "name": "stdout",
     "output_type": "stream",
     "text": [
      "[2021-06-06 13:32:54,584][fairseq.trainer][INFO] - Finished saving checkpoint to /kaggle/working/checkpoint4785.pt\r\n",
      "[2021-06-06 13:32:54,614][fairseq.checkpoint_utils][INFO] - Saved checkpoint /kaggle/working/checkpoint4785.pt (epoch 4785 @ 76560 updates, score 74.20911358692929) (writing took 0.0696352430004481 seconds)\r\n",
      "[2021-06-06 13:32:54,617][fairseq_cli.train][INFO] - end of epoch 4785 (average epoch stats below)\r\n",
      "[2021-06-06 13:32:54,620][train][INFO] - {\"epoch\": 4785, \"train_loss\": \"3.746\", \"train_ntokens\": \"145.688\", \"train_nsentences\": \"145.688\", \"train_temp\": \"0.1\", \"train_code_ppl\": \"9.149\", \"train_loss_code_pen\": \"0.351\", \"train_loss_smoothness\": \"2.15\", \"train_loss_dense_g\": \"4.169\", \"train_lm_score_sum\": 0.0, \"train_num_pred_chars\": 0.0, \"train_loss_grad_pen\": \"0.124\", \"train_loss_dense_d\": \"0.029\", \"train_loss_token_d\": \"0.034\", \"train_wps\": \"12.8\", \"train_ups\": \"0.09\", \"train_wpb\": \"145.7\", \"train_bsz\": \"145.7\", \"train_num_updates\": \"76560\", \"train_lr_discriminator\": \"0.0005\", \"train_lr_generator\": \"0.0004\", \"train_gnorm\": \"31.959\", \"train_clip\": \"87.5\", \"train_train_wall\": \"178\", \"train_wall\": \"6238\"}\r\n"
     ]
    },
    {
     "name": "stdout",
     "output_type": "stream",
     "text": [
      "[2021-06-06 13:32:54,676][fairseq.trainer][INFO] - begin training epoch 4786\r\n",
      "[2021-06-06 13:32:54,677][fairseq_cli.train][INFO] - Start iterating over samples\r\n"
     ]
    },
    {
     "name": "stdout",
     "output_type": "stream",
     "text": [
      "[2021-06-06 13:35:53,275][fairseq_cli.train][INFO] - begin validation on \"valid\" subset\r\n"
     ]
    },
    {
     "name": "stdout",
     "output_type": "stream",
     "text": [
      "[2021-06-06 13:35:55,693][fairseq.tasks.unpaired_audio_text][INFO] - REF: ɛ n f œ ʂ ə n a d ɵ ʂ ə k t f øː r d eː t s ɔ m h ɛ n d ə p oː ɕ œ r k ɔ n s ɛ t ə n\r\n",
      "[2021-06-06 13:35:55,696][fairseq.tasks.unpaired_audio_text][INFO] - HYP: t ɕ ɛ s j œ f œ b j œ yː k yː uː ɵ øː v ə m œ l b uː s eː r n v oː s l ɪ ŋ k l ɪ l a s ɔ k m k n a\r\n",
      "[2021-06-06 13:35:55,700][fairseq.tasks.unpaired_audio_text][INFO] - LM [REF]: -53.44462585449219, 0.05339602260269112\r\n",
      "[2021-06-06 13:35:55,700][fairseq.tasks.unpaired_audio_text][INFO] - LM [HYP]: -83.72694396972656, 0.01654152936421488\r\n"
     ]
    },
    {
     "name": "stdout",
     "output_type": "stream",
     "text": [
      "[2021-06-06 13:35:56,194][valid][INFO] - {\"epoch\": 4786, \"valid_loss\": \"1.003\", \"valid_ntokens\": \"3039.79\", \"valid_nsentences\": \"144.214\", \"valid_lm_score_sum\": \"-89741.2\", \"valid_num_pred_chars\": \"48359\", \"valid_vocab_seen_pct\": \"0.893728\", \"valid_uer\": \"100.322\", \"valid_weighted_lm_ppl\": \"75.6738\", \"valid_lm_ppl\": \"60.4445\", \"valid_wps\": \"18907.2\", \"valid_wpb\": \"3039.8\", \"valid_bsz\": \"144.2\", \"valid_num_updates\": \"76576\", \"valid_best_weighted_lm_ppl\": \"73.4256\"}\r\n",
      "[2021-06-06 13:35:56,197][fairseq.checkpoint_utils][INFO] - Preparing to save checkpoint for epoch 4786 @ 76576 updates\r\n",
      "[2021-06-06 13:35:56,199][fairseq.trainer][INFO] - Saving checkpoint to /kaggle/working/checkpoint4786.pt\r\n",
      "[2021-06-06 13:35:56,238][fairseq.trainer][INFO] - Finished saving checkpoint to /kaggle/working/checkpoint4786.pt\r\n"
     ]
    },
    {
     "name": "stdout",
     "output_type": "stream",
     "text": [
      "[2021-06-06 13:35:56,268][fairseq.checkpoint_utils][INFO] - Saved checkpoint /kaggle/working/checkpoint4786.pt (epoch 4786 @ 76576 updates, score 75.67379696497468) (writing took 0.07033076199877542 seconds)\r\n",
      "[2021-06-06 13:35:56,271][fairseq_cli.train][INFO] - end of epoch 4786 (average epoch stats below)\r\n",
      "[2021-06-06 13:35:56,274][train][INFO] - {\"epoch\": 4786, \"train_loss\": \"3.572\", \"train_ntokens\": \"145.688\", \"train_nsentences\": \"145.688\", \"train_temp\": \"0.1\", \"train_code_ppl\": \"9.171\", \"train_loss_code_pen\": \"0.338\", \"train_loss_smoothness\": \"2.132\", \"train_loss_dense_g\": \"3.89\", \"train_lm_score_sum\": 0.0, \"train_num_pred_chars\": 0.0, \"train_loss_grad_pen\": \"0.111\", \"train_loss_dense_d\": \"0.032\", \"train_loss_token_d\": \"0.034\", \"train_wps\": \"12.8\", \"train_ups\": \"0.09\", \"train_wpb\": \"145.7\", \"train_bsz\": \"145.7\", \"train_num_updates\": \"76576\", \"train_lr_discriminator\": \"0.0005\", \"train_lr_generator\": \"0.0004\", \"train_gnorm\": \"32.212\", \"train_clip\": \"62.5\", \"train_train_wall\": \"178\", \"train_wall\": \"6419\"}\r\n"
     ]
    },
    {
     "name": "stdout",
     "output_type": "stream",
     "text": [
      "[2021-06-06 13:35:56,332][fairseq.trainer][INFO] - begin training epoch 4787\r\n",
      "[2021-06-06 13:35:56,334][fairseq_cli.train][INFO] - Start iterating over samples\r\n"
     ]
    },
    {
     "name": "stdout",
     "output_type": "stream",
     "text": [
      "[2021-06-06 13:39:19,968][fairseq_cli.train][INFO] - begin validation on \"valid\" subset\r\n"
     ]
    },
    {
     "name": "stdout",
     "output_type": "stream",
     "text": [
      "[2021-06-06 13:39:22,344][fairseq.tasks.unpaired_audio_text][INFO] - REF: ɛ n f œ ʂ ə n a d ɵ ʂ ə k t f øː r d eː t s ɔ m h ɛ n d ə p oː ɕ œ r k ɔ n s ɛ t ə n\r\n",
      "[2021-06-06 13:39:22,346][fairseq.tasks.unpaired_audio_text][INFO] - HYP: t ɕ ɛ s j œ r œ j œ b j yː œ yː k yː uː ɵ øː j ə m œ b uː s eː r ɛ b oː n l ɪ ŋ k l ɪ l a s ɔ k m ʉ n t a\r\n",
      "[2021-06-06 13:39:22,351][fairseq.tasks.unpaired_audio_text][INFO] - LM [REF]: -53.44462585449219, 0.05339602260269112\r\n",
      "[2021-06-06 13:39:22,351][fairseq.tasks.unpaired_audio_text][INFO] - LM [HYP]: -90.82864379882812, 0.01525552380852541\r\n"
     ]
    },
    {
     "name": "stdout",
     "output_type": "stream",
     "text": [
      "[2021-06-06 13:39:22,842][valid][INFO] - {\"epoch\": 4787, \"valid_loss\": \"1.005\", \"valid_ntokens\": \"3039.79\", \"valid_nsentences\": \"144.214\", \"valid_lm_score_sum\": \"-89737.4\", \"valid_num_pred_chars\": \"48413\", \"valid_vocab_seen_pct\": \"0.893728\", \"valid_uer\": \"100.482\", \"valid_weighted_lm_ppl\": \"75.3292\", \"valid_lm_ppl\": \"60.1692\", \"valid_wps\": \"19334.9\", \"valid_wpb\": \"3039.8\", \"valid_bsz\": \"144.2\", \"valid_num_updates\": \"76592\", \"valid_best_weighted_lm_ppl\": \"73.4256\"}\r\n",
      "[2021-06-06 13:39:22,845][fairseq.checkpoint_utils][INFO] - Preparing to save checkpoint for epoch 4787 @ 76592 updates\r\n",
      "[2021-06-06 13:39:22,847][fairseq.trainer][INFO] - Saving checkpoint to /kaggle/working/checkpoint4787.pt\r\n",
      "[2021-06-06 13:39:22,884][fairseq.trainer][INFO] - Finished saving checkpoint to /kaggle/working/checkpoint4787.pt\r\n"
     ]
    },
    {
     "name": "stdout",
     "output_type": "stream",
     "text": [
      "[2021-06-06 13:39:22,915][fairseq.checkpoint_utils][INFO] - Saved checkpoint /kaggle/working/checkpoint4787.pt (epoch 4787 @ 76592 updates, score 75.32918312501758) (writing took 0.06934865599941986 seconds)\r\n",
      "[2021-06-06 13:39:22,918][fairseq_cli.train][INFO] - end of epoch 4787 (average epoch stats below)\r\n",
      "[2021-06-06 13:39:22,921][train][INFO] - {\"epoch\": 4787, \"train_loss\": \"2.993\", \"train_ntokens\": \"145.688\", \"train_nsentences\": \"145.688\", \"train_temp\": \"0.1\", \"train_code_ppl\": \"9.196\", \"train_loss_code_pen\": \"0.341\", \"train_loss_smoothness\": \"2.096\", \"train_loss_dense_g\": \"4.036\", \"train_lm_score_sum\": 0.0, \"train_num_pred_chars\": 0.0, \"train_loss_grad_pen\": \"0.077\", \"train_loss_dense_d\": \"0.03\", \"train_loss_token_d\": \"0.028\", \"train_wps\": \"11.3\", \"train_ups\": \"0.08\", \"train_wpb\": \"145.7\", \"train_bsz\": \"145.7\", \"train_num_updates\": \"76592\", \"train_lr_discriminator\": \"0.0005\", \"train_lr_generator\": \"0.0004\", \"train_gnorm\": \"28.217\", \"train_clip\": \"81.2\", \"train_train_wall\": \"203\", \"train_wall\": \"6626\"}\r\n"
     ]
    },
    {
     "name": "stdout",
     "output_type": "stream",
     "text": [
      "[2021-06-06 13:39:22,984][fairseq.trainer][INFO] - begin training epoch 4788\r\n",
      "[2021-06-06 13:39:22,986][fairseq_cli.train][INFO] - Start iterating over samples\r\n"
     ]
    },
    {
     "name": "stdout",
     "output_type": "stream",
     "text": [
      "[2021-06-06 13:40:44,648][train_inner][INFO] - {\"epoch\": 4788, \"update\": 4787.5, \"loss\": \"3.414\", \"ntokens\": \"144.69\", \"nsentences\": \"144.69\", \"temp\": \"0.1\", \"code_ppl\": \"9.11\", \"loss_code_pen\": \"0.337\", \"loss_smoothness\": \"2.094\", \"loss_dense_g\": \"4.117\", \"lm_score_sum\": 0.0, \"num_pred_chars\": 0.0, \"loss_grad_pen\": \"0.09\", \"loss_dense_d\": \"0.028\", \"loss_token_d\": \"0.029\", \"wps\": \"12.2\", \"ups\": \"0.08\", \"wpb\": \"144.7\", \"bsz\": \"144.7\", \"num_updates\": \"76600\", \"lr_discriminator\": \"0.0005\", \"lr_generator\": \"0.0004\", \"gnorm\": \"29.885\", \"clip\": \"73\", \"train_wall\": \"1164\", \"wall\": \"6708\"}\r\n"
     ]
    },
    {
     "name": "stdout",
     "output_type": "stream",
     "text": [
      "[2021-06-06 13:42:27,727][fairseq_cli.train][INFO] - begin validation on \"valid\" subset\r\n"
     ]
    },
    {
     "name": "stdout",
     "output_type": "stream",
     "text": [
      "[2021-06-06 13:42:30,116][fairseq.tasks.unpaired_audio_text][INFO] - REF: ɛ n f œ ʂ ə n a d ɵ ʂ ə k t f øː r d eː t s ɔ m h ɛ n d ə p oː ɕ œ r k ɔ n s ɛ t ə n\r\n",
      "[2021-06-06 13:42:30,118][fairseq.tasks.unpaired_audio_text][INFO] - HYP: t ɛ s j œ r œ b j yː œ k yː uː ɵ ə m œ l b uː s eː r ɛ oː n l ɪ ŋ k l ɪ l a s ɔ k m k n a\r\n",
      "[2021-06-06 13:42:30,122][fairseq.tasks.unpaired_audio_text][INFO] - LM [REF]: -53.44462585449219, 0.05339602260269112\r\n",
      "[2021-06-06 13:42:30,123][fairseq.tasks.unpaired_audio_text][INFO] - LM [HYP]: -80.4505386352539, 0.013460377533265719\r\n"
     ]
    },
    {
     "name": "stdout",
     "output_type": "stream",
     "text": [
      "[2021-06-06 13:42:30,613][valid][INFO] - {\"epoch\": 4788, \"valid_loss\": \"1.003\", \"valid_ntokens\": \"3039.79\", \"valid_nsentences\": \"144.214\", \"valid_lm_score_sum\": \"-89552\", \"valid_num_pred_chars\": \"48275\", \"valid_vocab_seen_pct\": \"0.89547\", \"valid_uer\": \"100.345\", \"valid_weighted_lm_ppl\": \"75.2431\", \"valid_lm_ppl\": \"60.335\", \"valid_wps\": \"19261.2\", \"valid_wpb\": \"3039.8\", \"valid_bsz\": \"144.2\", \"valid_num_updates\": \"76608\", \"valid_best_weighted_lm_ppl\": \"73.4256\"}\r\n",
      "[2021-06-06 13:42:30,616][fairseq.checkpoint_utils][INFO] - Preparing to save checkpoint for epoch 4788 @ 76608 updates\r\n",
      "[2021-06-06 13:42:30,618][fairseq.trainer][INFO] - Saving checkpoint to /kaggle/working/checkpoint4788.pt\r\n"
     ]
    },
    {
     "name": "stdout",
     "output_type": "stream",
     "text": [
      "[2021-06-06 13:42:30,654][fairseq.trainer][INFO] - Finished saving checkpoint to /kaggle/working/checkpoint4788.pt\r\n",
      "[2021-06-06 13:42:30,683][fairseq.checkpoint_utils][INFO] - Saved checkpoint /kaggle/working/checkpoint4788.pt (epoch 4788 @ 76608 updates, score 75.2431353340583) (writing took 0.06655499300177325 seconds)\r\n",
      "[2021-06-06 13:42:30,686][fairseq_cli.train][INFO] - end of epoch 4788 (average epoch stats below)\r\n",
      "[2021-06-06 13:42:30,689][train][INFO] - {\"epoch\": 4788, \"train_loss\": \"3.405\", \"train_ntokens\": \"145.688\", \"train_nsentences\": \"145.688\", \"train_temp\": \"0.1\", \"train_code_ppl\": \"9.203\", \"train_loss_code_pen\": \"0.334\", \"train_loss_smoothness\": \"2.058\", \"train_loss_dense_g\": \"4.057\", \"train_lm_score_sum\": 0.0, \"train_num_pred_chars\": 0.0, \"train_loss_grad_pen\": \"0.075\", \"train_loss_dense_d\": \"0.029\", \"train_loss_token_d\": \"0.026\", \"train_wps\": \"12.4\", \"train_ups\": \"0.09\", \"train_wpb\": \"145.7\", \"train_bsz\": \"145.7\", \"train_num_updates\": \"76608\", \"train_lr_discriminator\": \"0.0005\", \"train_lr_generator\": \"0.0004\", \"train_gnorm\": \"28.592\", \"train_clip\": \"75\", \"train_train_wall\": \"184\", \"train_wall\": \"6814\"}\r\n"
     ]
    },
    {
     "name": "stdout",
     "output_type": "stream",
     "text": [
      "[2021-06-06 13:42:30,746][fairseq.trainer][INFO] - begin training epoch 4789\r\n",
      "[2021-06-06 13:42:30,747][fairseq_cli.train][INFO] - Start iterating over samples\r\n"
     ]
    },
    {
     "name": "stdout",
     "output_type": "stream",
     "text": [
      "[2021-06-06 13:45:32,618][fairseq_cli.train][INFO] - begin validation on \"valid\" subset\r\n"
     ]
    },
    {
     "name": "stdout",
     "output_type": "stream",
     "text": [
      "[2021-06-06 13:45:34,986][fairseq.tasks.unpaired_audio_text][INFO] - REF: ɛ n f œ ʂ ə n a d ɵ ʂ ə k t f øː r d eː t s ɔ m h ɛ n d ə p oː ɕ œ r k ɔ n s ɛ t ə n\r\n",
      "[2021-06-06 13:45:34,989][fairseq.tasks.unpaired_audio_text][INFO] - HYP: t ɛ s j œ r œ j œ b j yː œ k yː v ɵ j ə m œ b ə uː s eː r ɛ oː n l ɪ ŋ k l ɪ l a s ɔ k m k n t a\r\n"
     ]
    },
    {
     "name": "stdout",
     "output_type": "stream",
     "text": [
      "[2021-06-06 13:45:34,995][fairseq.tasks.unpaired_audio_text][INFO] - LM [REF]: -53.44462585449219, 0.05339602260269112\r\n",
      "[2021-06-06 13:45:34,995][fairseq.tasks.unpaired_audio_text][INFO] - LM [HYP]: -87.8067626953125, 0.013544750404154173\r\n"
     ]
    },
    {
     "name": "stdout",
     "output_type": "stream",
     "text": [
      "[2021-06-06 13:45:35,485][valid][INFO] - {\"epoch\": 4789, \"valid_loss\": \"1.005\", \"valid_ntokens\": \"3039.79\", \"valid_nsentences\": \"144.214\", \"valid_lm_score_sum\": \"-89759.5\", \"valid_num_pred_chars\": \"48375\", \"valid_vocab_seen_pct\": \"0.89547\", \"valid_uer\": \"100.482\", \"valid_weighted_lm_ppl\": \"75.3447\", \"valid_lm_ppl\": \"60.4165\", \"valid_wps\": \"19448.5\", \"valid_wpb\": \"3039.8\", \"valid_bsz\": \"144.2\", \"valid_num_updates\": \"76624\", \"valid_best_weighted_lm_ppl\": \"73.4256\"}\r\n",
      "[2021-06-06 13:45:35,488][fairseq.checkpoint_utils][INFO] - Preparing to save checkpoint for epoch 4789 @ 76624 updates\r\n",
      "[2021-06-06 13:45:35,490][fairseq.trainer][INFO] - Saving checkpoint to /kaggle/working/checkpoint4789.pt\r\n"
     ]
    },
    {
     "name": "stdout",
     "output_type": "stream",
     "text": [
      "[2021-06-06 13:45:35,529][fairseq.trainer][INFO] - Finished saving checkpoint to /kaggle/working/checkpoint4789.pt\r\n"
     ]
    },
    {
     "name": "stdout",
     "output_type": "stream",
     "text": [
      "[2021-06-06 13:45:35,558][fairseq.checkpoint_utils][INFO] - Saved checkpoint /kaggle/working/checkpoint4789.pt (epoch 4789 @ 76624 updates, score 75.34473510658883) (writing took 0.069527409001239 seconds)\r\n",
      "[2021-06-06 13:45:35,561][fairseq_cli.train][INFO] - end of epoch 4789 (average epoch stats below)\r\n",
      "[2021-06-06 13:45:35,564][train][INFO] - {\"epoch\": 4789, \"train_loss\": \"3.422\", \"train_ntokens\": \"145.688\", \"train_nsentences\": \"145.688\", \"train_temp\": \"0.1\", \"train_code_ppl\": \"9.229\", \"train_loss_code_pen\": \"0.33\", \"train_loss_smoothness\": \"2.07\", \"train_loss_dense_g\": \"4.087\", \"train_lm_score_sum\": 0.0, \"train_num_pred_chars\": 0.0, \"train_loss_grad_pen\": \"0.065\", \"train_loss_dense_d\": \"0.026\", \"train_loss_token_d\": \"0.034\", \"train_wps\": \"12.6\", \"train_ups\": \"0.09\", \"train_wpb\": \"145.7\", \"train_bsz\": \"145.7\", \"train_num_updates\": \"76624\", \"train_lr_discriminator\": \"0.0005\", \"train_lr_generator\": \"0.0004\", \"train_gnorm\": \"29.22\", \"train_clip\": \"68.8\", \"train_train_wall\": \"181\", \"train_wall\": \"6999\"}\r\n"
     ]
    },
    {
     "name": "stdout",
     "output_type": "stream",
     "text": [
      "[2021-06-06 13:45:35,623][fairseq.trainer][INFO] - begin training epoch 4790\r\n",
      "[2021-06-06 13:45:35,624][fairseq_cli.train][INFO] - Start iterating over samples\r\n"
     ]
    },
    {
     "name": "stdout",
     "output_type": "stream",
     "text": [
      "[2021-06-06 13:48:39,545][fairseq_cli.train][INFO] - begin validation on \"valid\" subset\r\n"
     ]
    },
    {
     "name": "stdout",
     "output_type": "stream",
     "text": [
      "[2021-06-06 13:48:41,970][fairseq.tasks.unpaired_audio_text][INFO] - REF: ɛ n f œ ʂ ə n a d ɵ ʂ ə k t f øː r d eː t s ɔ m h ɛ n d ə p oː ɕ œ r k ɔ n s ɛ t ə n\r\n",
      "[2021-06-06 13:48:41,973][fairseq.tasks.unpaired_audio_text][INFO] - HYP: t ɕ ɛ s j œ f œ b j yː œ yː k v ɵ øː j ə m œ b ə uː s eː r ɛ oː n l ɪ ŋ k l ɪ l a s ɔ k m ʉ n t a\r\n"
     ]
    },
    {
     "name": "stdout",
     "output_type": "stream",
     "text": [
      "[2021-06-06 13:48:41,977][fairseq.tasks.unpaired_audio_text][INFO] - LM [REF]: -53.44462585449219, 0.05339602260269112\r\n",
      "[2021-06-06 13:48:41,977][fairseq.tasks.unpaired_audio_text][INFO] - LM [HYP]: -85.24281311035156, 0.01535759198802714\r\n"
     ]
    },
    {
     "name": "stdout",
     "output_type": "stream",
     "text": [
      "[2021-06-06 13:48:42,468][valid][INFO] - {\"epoch\": 4790, \"valid_loss\": \"1.003\", \"valid_ntokens\": \"3039.79\", \"valid_nsentences\": \"144.214\", \"valid_lm_score_sum\": \"-89531.1\", \"valid_num_pred_chars\": \"48250\", \"valid_vocab_seen_pct\": \"0.89547\", \"valid_uer\": \"100.329\", \"valid_weighted_lm_ppl\": \"75.3248\", \"valid_lm_ppl\": \"60.4005\", \"valid_wps\": \"18991.1\", \"valid_wpb\": \"3039.8\", \"valid_bsz\": \"144.2\", \"valid_num_updates\": \"76640\", \"valid_best_weighted_lm_ppl\": \"73.4256\"}\r\n",
      "[2021-06-06 13:48:42,472][fairseq.checkpoint_utils][INFO] - Preparing to save checkpoint for epoch 4790 @ 76640 updates\r\n",
      "[2021-06-06 13:48:42,473][fairseq.trainer][INFO] - Saving checkpoint to /kaggle/working/checkpoint4790.pt\r\n"
     ]
    },
    {
     "name": "stdout",
     "output_type": "stream",
     "text": [
      "[2021-06-06 13:48:42,514][fairseq.trainer][INFO] - Finished saving checkpoint to /kaggle/working/checkpoint4790.pt\r\n"
     ]
    },
    {
     "name": "stdout",
     "output_type": "stream",
     "text": [
      "[2021-06-06 13:48:42,543][fairseq.checkpoint_utils][INFO] - Saved checkpoint /kaggle/working/checkpoint4790.pt (epoch 4790 @ 76640 updates, score 75.32481874664443) (writing took 0.07159644499915885 seconds)\r\n",
      "[2021-06-06 13:48:42,546][fairseq_cli.train][INFO] - end of epoch 4790 (average epoch stats below)\r\n",
      "[2021-06-06 13:48:42,550][train][INFO] - {\"epoch\": 4790, \"train_loss\": \"3.365\", \"train_ntokens\": \"145.688\", \"train_nsentences\": \"145.688\", \"train_temp\": \"0.1\", \"train_code_ppl\": \"9.001\", \"train_loss_code_pen\": \"0.302\", \"train_loss_smoothness\": \"1.972\", \"train_loss_dense_g\": \"4.08\", \"train_lm_score_sum\": 0.0, \"train_num_pred_chars\": 0.0, \"train_loss_grad_pen\": \"0.078\", \"train_loss_dense_d\": \"0.036\", \"train_loss_token_d\": \"0.036\", \"train_wps\": \"12.5\", \"train_ups\": \"0.09\", \"train_wpb\": \"145.7\", \"train_bsz\": \"145.7\", \"train_num_updates\": \"76640\", \"train_lr_discriminator\": \"0.0005\", \"train_lr_generator\": \"0.0004\", \"train_gnorm\": \"29.56\", \"train_clip\": \"81.2\", \"train_train_wall\": \"183\", \"train_wall\": \"7186\"}\r\n"
     ]
    },
    {
     "name": "stdout",
     "output_type": "stream",
     "text": [
      "[2021-06-06 13:48:42,607][fairseq.trainer][INFO] - begin training epoch 4791\r\n",
      "[2021-06-06 13:48:42,608][fairseq_cli.train][INFO] - Start iterating over samples\r\n"
     ]
    },
    {
     "name": "stdout",
     "output_type": "stream",
     "text": [
      "[2021-06-06 13:52:03,979][fairseq_cli.train][INFO] - begin validation on \"valid\" subset\r\n"
     ]
    },
    {
     "name": "stdout",
     "output_type": "stream",
     "text": [
      "[2021-06-06 13:52:06,389][fairseq.tasks.unpaired_audio_text][INFO] - REF: ɛ n f œ ʂ ə n a d ɵ ʂ ə k t f øː r d eː t s ɔ m h ɛ n d ə p oː ɕ œ r k ɔ n s ɛ t ə n\r\n",
      "[2021-06-06 13:52:06,392][fairseq.tasks.unpaired_audio_text][INFO] - HYP: t ɕ n s j œ f œ j œ b j yː œ yː k uː ɵ øː ə m œ b ə uː s eː r ɛ b oː n l ɪ ŋ k l ɪ l a s ɔ k m ʉ n a\r\n",
      "[2021-06-06 13:52:06,398][fairseq.tasks.unpaired_audio_text][INFO] - LM [REF]: -53.44462585449219, 0.05339602260269112\r\n",
      "[2021-06-06 13:52:06,398][fairseq.tasks.unpaired_audio_text][INFO] - LM [HYP]: -88.91597747802734, 0.014047007119636374\r\n"
     ]
    },
    {
     "name": "stdout",
     "output_type": "stream",
     "text": [
      "[2021-06-06 13:52:06,890][valid][INFO] - {\"epoch\": 4791, \"valid_loss\": \"1.004\", \"valid_ntokens\": \"3039.79\", \"valid_nsentences\": \"144.214\", \"valid_lm_score_sum\": \"-89434.3\", \"valid_num_pred_chars\": \"48258\", \"valid_vocab_seen_pct\": \"0.890244\", \"valid_uer\": \"100.385\", \"valid_weighted_lm_ppl\": \"75.8253\", \"valid_lm_ppl\": \"60.0941\", \"valid_wps\": \"19030.6\", \"valid_wpb\": \"3039.8\", \"valid_bsz\": \"144.2\", \"valid_num_updates\": \"76656\", \"valid_best_weighted_lm_ppl\": \"73.4256\"}\r\n",
      "[2021-06-06 13:52:06,893][fairseq.checkpoint_utils][INFO] - Preparing to save checkpoint for epoch 4791 @ 76656 updates\r\n",
      "[2021-06-06 13:52:06,894][fairseq.trainer][INFO] - Saving checkpoint to /kaggle/working/checkpoint4791.pt\r\n"
     ]
    },
    {
     "name": "stdout",
     "output_type": "stream",
     "text": [
      "[2021-06-06 13:52:06,931][fairseq.trainer][INFO] - Finished saving checkpoint to /kaggle/working/checkpoint4791.pt\r\n",
      "[2021-06-06 13:52:06,963][fairseq.checkpoint_utils][INFO] - Saved checkpoint /kaggle/working/checkpoint4791.pt (epoch 4791 @ 76656 updates, score 75.8252866804829) (writing took 0.06951066900001024 seconds)\r\n",
      "[2021-06-06 13:52:06,966][fairseq_cli.train][INFO] - end of epoch 4791 (average epoch stats below)\r\n",
      "[2021-06-06 13:52:06,969][train][INFO] - {\"epoch\": 4791, \"train_loss\": \"2.871\", \"train_ntokens\": \"145.688\", \"train_nsentences\": \"145.688\", \"train_temp\": \"0.1\", \"train_code_ppl\": \"8.919\", \"train_loss_code_pen\": \"0.333\", \"train_loss_smoothness\": \"2.037\", \"train_loss_dense_g\": \"3.809\", \"train_lm_score_sum\": 0.0, \"train_num_pred_chars\": 0.0, \"train_loss_grad_pen\": \"0.101\", \"train_loss_dense_d\": \"0.03\", \"train_loss_token_d\": \"0.024\", \"train_wps\": \"11.4\", \"train_ups\": \"0.08\", \"train_wpb\": \"145.7\", \"train_bsz\": \"145.7\", \"train_num_updates\": \"76656\", \"train_lr_discriminator\": \"0.0005\", \"train_lr_generator\": \"0.0004\", \"train_gnorm\": \"29.133\", \"train_clip\": \"87.5\", \"train_train_wall\": \"201\", \"train_wall\": \"7390\"}\r\n"
     ]
    },
    {
     "name": "stdout",
     "output_type": "stream",
     "text": [
      "[2021-06-06 13:52:07,026][fairseq.trainer][INFO] - begin training epoch 4792\r\n",
      "[2021-06-06 13:52:07,028][fairseq_cli.train][INFO] - Start iterating over samples\r\n"
     ]
    },
    {
     "name": "stdout",
     "output_type": "stream",
     "text": [
      "[2021-06-06 13:55:09,715][fairseq_cli.train][INFO] - begin validation on \"valid\" subset\r\n"
     ]
    },
    {
     "name": "stdout",
     "output_type": "stream",
     "text": [
      "[2021-06-06 13:55:12,122][fairseq.tasks.unpaired_audio_text][INFO] - REF: ɛ n f œ ʂ ə n a d ɵ ʂ ə k t f øː r d eː t s ɔ m h ɛ n d ə p oː ɕ œ r k ɔ n s ɛ t ə n\r\n",
      "[2021-06-06 13:55:12,125][fairseq.tasks.unpaired_audio_text][INFO] - HYP: n ɕ n s j œ f œ j œ b j ʃ œ yː k ɵ v ɵ v ə m œ b ə uː s eː r ɛ b oː l ɪ ŋ k l ɪ l a s ɔ m ʉ n a\r\n",
      "[2021-06-06 13:55:12,130][fairseq.tasks.unpaired_audio_text][INFO] - LM [REF]: -53.44462585449219, 0.05339602260269112\r\n",
      "[2021-06-06 13:55:12,131][fairseq.tasks.unpaired_audio_text][INFO] - LM [HYP]: -86.88367462158203, 0.01417134849943238\r\n"
     ]
    },
    {
     "name": "stdout",
     "output_type": "stream",
     "text": [
      "[2021-06-06 13:55:12,623][valid][INFO] - {\"epoch\": 4792, \"valid_loss\": \"1.003\", \"valid_ntokens\": \"3039.79\", \"valid_nsentences\": \"144.214\", \"valid_lm_score_sum\": \"-89706.6\", \"valid_num_pred_chars\": \"48259\", \"valid_vocab_seen_pct\": \"0.897213\", \"valid_uer\": \"100.334\", \"valid_weighted_lm_ppl\": \"75.5825\", \"valid_lm_ppl\": \"60.8432\", \"valid_wps\": \"19078.4\", \"valid_wpb\": \"3039.8\", \"valid_bsz\": \"144.2\", \"valid_num_updates\": \"76672\", \"valid_best_weighted_lm_ppl\": \"73.4256\"}\r\n",
      "[2021-06-06 13:55:12,627][fairseq.checkpoint_utils][INFO] - Preparing to save checkpoint for epoch 4792 @ 76672 updates\r\n",
      "[2021-06-06 13:55:12,628][fairseq.trainer][INFO] - Saving checkpoint to /kaggle/working/checkpoint4792.pt\r\n"
     ]
    },
    {
     "name": "stdout",
     "output_type": "stream",
     "text": [
      "[2021-06-06 13:55:12,667][fairseq.trainer][INFO] - Finished saving checkpoint to /kaggle/working/checkpoint4792.pt\r\n",
      "[2021-06-06 13:55:12,697][fairseq.checkpoint_utils][INFO] - Saved checkpoint /kaggle/working/checkpoint4792.pt (epoch 4792 @ 76672 updates, score 75.58254064783829) (writing took 0.07054618099937215 seconds)\r\n",
      "[2021-06-06 13:55:12,700][fairseq_cli.train][INFO] - end of epoch 4792 (average epoch stats below)\r\n",
      "[2021-06-06 13:55:12,704][train][INFO] - {\"epoch\": 4792, \"train_loss\": \"3.423\", \"train_ntokens\": \"145.688\", \"train_nsentences\": \"145.688\", \"train_temp\": \"0.1\", \"train_code_ppl\": \"9.069\", \"train_loss_code_pen\": \"0.338\", \"train_loss_smoothness\": \"2.063\", \"train_loss_dense_g\": \"4.075\", \"train_lm_score_sum\": 0.0, \"train_num_pred_chars\": 0.0, \"train_loss_grad_pen\": \"0.082\", \"train_loss_dense_d\": \"0.028\", \"train_loss_token_d\": \"0.03\", \"train_wps\": \"12.6\", \"train_ups\": \"0.09\", \"train_wpb\": \"145.7\", \"train_bsz\": \"145.7\", \"train_num_updates\": \"76672\", \"train_lr_discriminator\": \"0.0005\", \"train_lr_generator\": \"0.0004\", \"train_gnorm\": \"29.407\", \"train_clip\": \"81.2\", \"train_train_wall\": \"182\", \"train_wall\": \"7576\"}\r\n"
     ]
    },
    {
     "name": "stdout",
     "output_type": "stream",
     "text": [
      "[2021-06-06 13:55:12,763][fairseq.trainer][INFO] - begin training epoch 4793\r\n",
      "[2021-06-06 13:55:12,764][fairseq_cli.train][INFO] - Start iterating over samples\r\n"
     ]
    },
    {
     "name": "stdout",
     "output_type": "stream",
     "text": [
      "[2021-06-06 13:58:33,352][fairseq_cli.train][INFO] - begin validation on \"valid\" subset\r\n"
     ]
    },
    {
     "name": "stdout",
     "output_type": "stream",
     "text": [
      "[2021-06-06 13:58:35,736][fairseq.tasks.unpaired_audio_text][INFO] - REF: ɛ n f œ ʂ ə n a d ɵ ʂ ə k t f øː r d eː t s ɔ m h ɛ n d ə p oː ɕ œ r k ɔ n s ɛ t ə n\r\n",
      "[2021-06-06 13:58:35,738][fairseq.tasks.unpaired_audio_text][INFO] - HYP: uː ɕ ɛ s j œ f œ j œ b j yː œ yː k yː uː ɵ øː v b ə m œ l b ə uː s eː r ɛ b oː s l ɪ ŋ k l ɪ l a s ɔ m k n a\r\n",
      "[2021-06-06 13:58:35,742][fairseq.tasks.unpaired_audio_text][INFO] - LM [REF]: -53.44462585449219, 0.05339602260269112\r\n",
      "[2021-06-06 13:58:35,742][fairseq.tasks.unpaired_audio_text][INFO] - LM [HYP]: -92.13220977783203, 0.015612990044580109\r\n"
     ]
    },
    {
     "name": "stdout",
     "output_type": "stream",
     "text": [
      "[2021-06-06 13:58:36,230][valid][INFO] - {\"epoch\": 4793, \"valid_loss\": \"1.004\", \"valid_ntokens\": \"3039.79\", \"valid_nsentences\": \"144.214\", \"valid_lm_score_sum\": \"-89798\", \"valid_num_pred_chars\": \"48347\", \"valid_vocab_seen_pct\": \"0.89547\", \"valid_uer\": \"100.399\", \"valid_weighted_lm_ppl\": \"75.6496\", \"valid_lm_ppl\": \"60.661\", \"valid_wps\": \"19427.6\", \"valid_wpb\": \"3039.8\", \"valid_bsz\": \"144.2\", \"valid_num_updates\": \"76688\", \"valid_best_weighted_lm_ppl\": \"73.4256\"}\r\n",
      "[2021-06-06 13:58:36,234][fairseq.checkpoint_utils][INFO] - Preparing to save checkpoint for epoch 4793 @ 76688 updates\r\n",
      "[2021-06-06 13:58:36,235][fairseq.trainer][INFO] - Saving checkpoint to /kaggle/working/checkpoint4793.pt\r\n"
     ]
    },
    {
     "name": "stdout",
     "output_type": "stream",
     "text": [
      "[2021-06-06 13:58:36,274][fairseq.trainer][INFO] - Finished saving checkpoint to /kaggle/working/checkpoint4793.pt\r\n",
      "[2021-06-06 13:58:36,303][fairseq.checkpoint_utils][INFO] - Saved checkpoint /kaggle/working/checkpoint4793.pt (epoch 4793 @ 76688 updates, score 75.64962097108298) (writing took 0.06985293000070669 seconds)\r\n"
     ]
    },
    {
     "name": "stdout",
     "output_type": "stream",
     "text": [
      "[2021-06-06 13:58:36,307][fairseq_cli.train][INFO] - end of epoch 4793 (average epoch stats below)\r\n",
      "[2021-06-06 13:58:36,311][train][INFO] - {\"epoch\": 4793, \"train_loss\": \"2.934\", \"train_ntokens\": \"145.688\", \"train_nsentences\": \"145.688\", \"train_temp\": \"0.1\", \"train_code_ppl\": \"9.141\", \"train_loss_code_pen\": \"0.332\", \"train_loss_smoothness\": \"2.061\", \"train_loss_dense_g\": \"3.969\", \"train_lm_score_sum\": 0.0, \"train_num_pred_chars\": 0.0, \"train_loss_grad_pen\": \"0.07\", \"train_loss_dense_d\": \"0.025\", \"train_loss_token_d\": \"0.025\", \"train_wps\": \"11.4\", \"train_ups\": \"0.08\", \"train_wpb\": \"145.7\", \"train_bsz\": \"145.7\", \"train_num_updates\": \"76688\", \"train_lr_discriminator\": \"0.0005\", \"train_lr_generator\": \"0.0004\", \"train_gnorm\": \"27.743\", \"train_clip\": \"62.5\", \"train_train_wall\": \"200\", \"train_wall\": \"7779\"}\r\n"
     ]
    },
    {
     "name": "stdout",
     "output_type": "stream",
     "text": [
      "[2021-06-06 13:58:36,373][fairseq.trainer][INFO] - begin training epoch 4794\r\n",
      "[2021-06-06 13:58:36,374][fairseq_cli.train][INFO] - Start iterating over samples\r\n"
     ]
    },
    {
     "name": "stdout",
     "output_type": "stream",
     "text": [
      "[2021-06-06 14:00:50,112][train_inner][INFO] - {\"epoch\": 4794, \"update\": 4793.75, \"loss\": \"3.222\", \"ntokens\": \"145.54\", \"nsentences\": \"145.54\", \"temp\": \"0.1\", \"code_ppl\": \"9.06\", \"loss_code_pen\": \"0.325\", \"loss_smoothness\": \"2.038\", \"loss_dense_g\": \"4.022\", \"lm_score_sum\": 0.0, \"num_pred_chars\": 0.0, \"loss_grad_pen\": \"0.082\", \"loss_dense_d\": \"0.028\", \"loss_token_d\": \"0.03\", \"wps\": \"12.1\", \"ups\": \"0.08\", \"wpb\": \"145.5\", \"bsz\": \"145.5\", \"num_updates\": \"76700\", \"lr_discriminator\": \"0.0005\", \"lr_generator\": \"0.0004\", \"gnorm\": \"29.168\", \"clip\": \"76\", \"train_wall\": \"1184\", \"wall\": \"7913\"}\r\n"
     ]
    },
    {
     "name": "stdout",
     "output_type": "stream",
     "text": [
      "[2021-06-06 14:01:42,064][fairseq_cli.train][INFO] - begin validation on \"valid\" subset\r\n"
     ]
    },
    {
     "name": "stdout",
     "output_type": "stream",
     "text": [
      "[2021-06-06 14:01:44,476][fairseq.tasks.unpaired_audio_text][INFO] - REF: ɛ n f œ ʂ ə n a d ɵ ʂ ə k t f øː r d eː t s ɔ m h ɛ n d ə p oː ɕ œ r k ɔ n s ɛ t ə n\r\n",
      "[2021-06-06 14:01:44,478][fairseq.tasks.unpaired_audio_text][INFO] - HYP: uː ɛ s j œ f œ j œ b j yː œ yː k yː uː ɵ v b ə m œ l b ə uː s eː r ɛ b oː s l ɪ ŋ k l ɪ l a s ɔ m k n a\r\n",
      "[2021-06-06 14:01:44,482][fairseq.tasks.unpaired_audio_text][INFO] - LM [REF]: -53.44462585449219, 0.05339602260269112\r\n",
      "[2021-06-06 14:01:44,482][fairseq.tasks.unpaired_audio_text][INFO] - LM [HYP]: -89.36267852783203, 0.01500623926702415\r\n"
     ]
    },
    {
     "name": "stdout",
     "output_type": "stream",
     "text": [
      "[2021-06-06 14:01:44,965][valid][INFO] - {\"epoch\": 4794, \"valid_loss\": \"1.003\", \"valid_ntokens\": \"3039.79\", \"valid_nsentences\": \"144.214\", \"valid_lm_score_sum\": \"-89708\", \"valid_num_pred_chars\": \"48299\", \"valid_vocab_seen_pct\": \"0.897213\", \"valid_uer\": \"100.336\", \"valid_weighted_lm_ppl\": \"75.3409\", \"valid_lm_ppl\": \"60.6487\", \"valid_wps\": \"19049\", \"valid_wpb\": \"3039.8\", \"valid_bsz\": \"144.2\", \"valid_num_updates\": \"76704\", \"valid_best_weighted_lm_ppl\": \"73.4256\"}\r\n",
      "[2021-06-06 14:01:44,968][fairseq.checkpoint_utils][INFO] - Preparing to save checkpoint for epoch 4794 @ 76704 updates\r\n",
      "[2021-06-06 14:01:44,970][fairseq.trainer][INFO] - Saving checkpoint to /kaggle/working/checkpoint4794.pt\r\n"
     ]
    },
    {
     "name": "stdout",
     "output_type": "stream",
     "text": [
      "[2021-06-06 14:01:45,006][fairseq.trainer][INFO] - Finished saving checkpoint to /kaggle/working/checkpoint4794.pt\r\n",
      "[2021-06-06 14:01:45,036][fairseq.checkpoint_utils][INFO] - Saved checkpoint /kaggle/working/checkpoint4794.pt (epoch 4794 @ 76704 updates, score 75.34091647536174) (writing took 0.06764802599900577 seconds)\r\n",
      "[2021-06-06 14:01:45,039][fairseq_cli.train][INFO] - end of epoch 4794 (average epoch stats below)\r\n",
      "[2021-06-06 14:01:45,041][train][INFO] - {\"epoch\": 4794, \"train_loss\": \"3.34\", \"train_ntokens\": \"145.688\", \"train_nsentences\": \"145.688\", \"train_temp\": \"0.1\", \"train_code_ppl\": \"9.014\", \"train_loss_code_pen\": \"0.323\", \"train_loss_smoothness\": \"2.04\", \"train_loss_dense_g\": \"3.927\", \"train_lm_score_sum\": 0.0, \"train_num_pred_chars\": 0.0, \"train_loss_grad_pen\": \"0.112\", \"train_loss_dense_d\": \"0.024\", \"train_loss_token_d\": \"0.031\", \"train_wps\": \"12.4\", \"train_ups\": \"0.08\", \"train_wpb\": \"145.7\", \"train_bsz\": \"145.7\", \"train_num_updates\": \"76704\", \"train_lr_discriminator\": \"0.0005\", \"train_lr_generator\": \"0.0004\", \"train_gnorm\": \"30.514\", \"train_clip\": \"75\", \"train_train_wall\": \"185\", \"train_wall\": \"7968\"}\r\n"
     ]
    },
    {
     "name": "stdout",
     "output_type": "stream",
     "text": [
      "[2021-06-06 14:01:45,097][fairseq.trainer][INFO] - begin training epoch 4795\r\n",
      "[2021-06-06 14:01:45,098][fairseq_cli.train][INFO] - Start iterating over samples\r\n"
     ]
    },
    {
     "name": "stdout",
     "output_type": "stream",
     "text": [
      "[2021-06-06 14:05:07,248][fairseq_cli.train][INFO] - begin validation on \"valid\" subset\r\n"
     ]
    },
    {
     "name": "stdout",
     "output_type": "stream",
     "text": [
      "[2021-06-06 14:05:09,748][fairseq.tasks.unpaired_audio_text][INFO] - REF: ɛ n f œ ʂ ə n a d ɵ ʂ ə k t f øː r d eː t s ɔ m h ɛ n d ə p oː ɕ œ r k ɔ n s ɛ t ə n\r\n",
      "[2021-06-06 14:05:09,750][fairseq.tasks.unpaired_audio_text][INFO] - HYP: t ɛ s j œ f œ j œ b j yː œ yː k yː uː ɵ v ə m œ l b ə uː s eː r ɛ oː l ɪ ŋ k l ɪ l a s ɔ m ʉ n a\r\n",
      "[2021-06-06 14:05:09,754][fairseq.tasks.unpaired_audio_text][INFO] - LM [REF]: -53.44462585449219, 0.05339602260269112\r\n",
      "[2021-06-06 14:05:09,755][fairseq.tasks.unpaired_audio_text][INFO] - LM [HYP]: -85.62535095214844, 0.013758761013592581\r\n"
     ]
    },
    {
     "name": "stdout",
     "output_type": "stream",
     "text": [
      "[2021-06-06 14:05:10,240][valid][INFO] - {\"epoch\": 4795, \"valid_loss\": \"1.006\", \"valid_ntokens\": \"3039.79\", \"valid_nsentences\": \"144.214\", \"valid_lm_score_sum\": \"-89925.1\", \"valid_num_pred_chars\": \"48411\", \"valid_vocab_seen_pct\": \"0.898955\", \"valid_uer\": \"100.625\", \"valid_weighted_lm_ppl\": \"75.1088\", \"valid_lm_ppl\": \"60.6969\", \"valid_wps\": \"18467.5\", \"valid_wpb\": \"3039.8\", \"valid_bsz\": \"144.2\", \"valid_num_updates\": \"76720\", \"valid_best_weighted_lm_ppl\": \"73.4256\"}\r\n",
      "[2021-06-06 14:05:10,244][fairseq.checkpoint_utils][INFO] - Preparing to save checkpoint for epoch 4795 @ 76720 updates\r\n",
      "[2021-06-06 14:05:10,245][fairseq.trainer][INFO] - Saving checkpoint to /kaggle/working/checkpoint4795.pt\r\n"
     ]
    },
    {
     "name": "stdout",
     "output_type": "stream",
     "text": [
      "[2021-06-06 14:05:10,284][fairseq.trainer][INFO] - Finished saving checkpoint to /kaggle/working/checkpoint4795.pt\r\n"
     ]
    },
    {
     "name": "stdout",
     "output_type": "stream",
     "text": [
      "[2021-06-06 14:05:10,314][fairseq.checkpoint_utils][INFO] - Saved checkpoint /kaggle/working/checkpoint4795.pt (epoch 4795 @ 76720 updates, score 75.10881200158107) (writing took 0.07005788500100607 seconds)\r\n",
      "[2021-06-06 14:05:10,317][fairseq_cli.train][INFO] - end of epoch 4795 (average epoch stats below)\r\n",
      "[2021-06-06 14:05:10,320][train][INFO] - {\"epoch\": 4795, \"train_loss\": \"2.937\", \"train_ntokens\": \"145.688\", \"train_nsentences\": \"145.688\", \"train_temp\": \"0.1\", \"train_code_ppl\": \"9.071\", \"train_loss_code_pen\": \"0.307\", \"train_loss_smoothness\": \"1.984\", \"train_loss_dense_g\": \"4.068\", \"train_lm_score_sum\": 0.0, \"train_num_pred_chars\": 0.0, \"train_loss_grad_pen\": \"0.071\", \"train_loss_dense_d\": \"0.029\", \"train_loss_token_d\": \"0.026\", \"train_wps\": \"11.4\", \"train_ups\": \"0.08\", \"train_wpb\": \"145.7\", \"train_bsz\": \"145.7\", \"train_num_updates\": \"76720\", \"train_lr_discriminator\": \"0.0005\", \"train_lr_generator\": \"0.0004\", \"train_gnorm\": \"27.799\", \"train_clip\": \"68.8\", \"train_train_wall\": \"202\", \"train_wall\": \"8173\"}\r\n"
     ]
    },
    {
     "name": "stdout",
     "output_type": "stream",
     "text": [
      "[2021-06-06 14:05:10,376][fairseq.trainer][INFO] - begin training epoch 4796\r\n",
      "[2021-06-06 14:05:10,378][fairseq_cli.train][INFO] - Start iterating over samples\r\n"
     ]
    },
    {
     "name": "stdout",
     "output_type": "stream",
     "text": [
      "[2021-06-06 14:08:16,594][fairseq_cli.train][INFO] - begin validation on \"valid\" subset\r\n"
     ]
    },
    {
     "name": "stdout",
     "output_type": "stream",
     "text": [
      "[2021-06-06 14:08:19,103][fairseq.tasks.unpaired_audio_text][INFO] - REF: ɛ n f œ ʂ ə n a d ɵ ʂ ə k t f øː r d eː t s ɔ m h ɛ n d ə p oː ɕ œ r k ɔ n s ɛ t ə n\r\n",
      "[2021-06-06 14:08:19,106][fairseq.tasks.unpaired_audio_text][INFO] - HYP: t ɛ s j œ f œ j b j yː œ yː k yː uː ɵ v ə m œ b ə uː s eː r ɛ v oː l ɪ ŋ k l ɪ l a s ɔ k m ʉ n a\r\n",
      "[2021-06-06 14:08:19,110][fairseq.tasks.unpaired_audio_text][INFO] - LM [REF]: -53.44462585449219, 0.05339602260269112\r\n",
      "[2021-06-06 14:08:19,110][fairseq.tasks.unpaired_audio_text][INFO] - LM [HYP]: -84.5953369140625, 0.014486749037672147\r\n"
     ]
    },
    {
     "name": "stdout",
     "output_type": "stream",
     "text": [
      "[2021-06-06 14:08:19,612][valid][INFO] - {\"epoch\": 4796, \"valid_loss\": \"1.005\", \"valid_ntokens\": \"3039.79\", \"valid_nsentences\": \"144.214\", \"valid_lm_score_sum\": \"-89629.4\", \"valid_num_pred_chars\": \"48376\", \"valid_vocab_seen_pct\": \"0.893728\", \"valid_uer\": \"100.503\", \"valid_weighted_lm_ppl\": \"75.1843\", \"valid_lm_ppl\": \"60.0535\", \"valid_wps\": \"18309.2\", \"valid_wpb\": \"3039.8\", \"valid_bsz\": \"144.2\", \"valid_num_updates\": \"76736\", \"valid_best_weighted_lm_ppl\": \"73.4256\"}\r\n",
      "[2021-06-06 14:08:19,615][fairseq.checkpoint_utils][INFO] - Preparing to save checkpoint for epoch 4796 @ 76736 updates\r\n",
      "[2021-06-06 14:08:19,617][fairseq.trainer][INFO] - Saving checkpoint to /kaggle/working/checkpoint4796.pt\r\n"
     ]
    },
    {
     "name": "stdout",
     "output_type": "stream",
     "text": [
      "[2021-06-06 14:08:19,656][fairseq.trainer][INFO] - Finished saving checkpoint to /kaggle/working/checkpoint4796.pt\r\n",
      "[2021-06-06 14:08:19,687][fairseq.checkpoint_utils][INFO] - Saved checkpoint /kaggle/working/checkpoint4796.pt (epoch 4796 @ 76736 updates, score 75.18428454091197) (writing took 0.07233319599981769 seconds)\r\n",
      "[2021-06-06 14:08:19,691][fairseq_cli.train][INFO] - end of epoch 4796 (average epoch stats below)\r\n",
      "[2021-06-06 14:08:19,694][train][INFO] - {\"epoch\": 4796, \"train_loss\": \"3.686\", \"train_ntokens\": \"145.688\", \"train_nsentences\": \"145.688\", \"train_temp\": \"0.1\", \"train_code_ppl\": \"8.936\", \"train_loss_code_pen\": \"0.34\", \"train_loss_smoothness\": \"2.083\", \"train_loss_dense_g\": \"4.173\", \"train_lm_score_sum\": 0.0, \"train_num_pred_chars\": 0.0, \"train_loss_grad_pen\": \"0.085\", \"train_loss_dense_d\": \"0.028\", \"train_loss_token_d\": \"0.028\", \"train_wps\": \"12.3\", \"train_ups\": \"0.08\", \"train_wpb\": \"145.7\", \"train_bsz\": \"145.7\", \"train_num_updates\": \"76736\", \"train_lr_discriminator\": \"0.0005\", \"train_lr_generator\": \"0.0004\", \"train_gnorm\": \"29.867\", \"train_clip\": \"75\", \"train_train_wall\": \"186\", \"train_wall\": \"8363\"}\r\n"
     ]
    },
    {
     "name": "stdout",
     "output_type": "stream",
     "text": [
      "[2021-06-06 14:08:19,756][fairseq.trainer][INFO] - begin training epoch 4797\r\n"
     ]
    },
    {
     "name": "stdout",
     "output_type": "stream",
     "text": [
      "[2021-06-06 14:08:19,757][fairseq_cli.train][INFO] - Start iterating over samples\r\n"
     ]
    },
    {
     "name": "stdout",
     "output_type": "stream",
     "text": [
      "[2021-06-06 14:11:26,932][fairseq_cli.train][INFO] - begin validation on \"valid\" subset\r\n"
     ]
    },
    {
     "name": "stdout",
     "output_type": "stream",
     "text": [
      "[2021-06-06 14:11:29,408][fairseq.tasks.unpaired_audio_text][INFO] - REF: ɛ n f œ ʂ ə n a d ɵ ʂ ə k t f øː r d eː t s ɔ m h ɛ n d ə p oː ɕ œ r k ɔ n s ɛ t ə n\r\n",
      "[2021-06-06 14:11:29,410][fairseq.tasks.unpaired_audio_text][INFO] - HYP: t ɛ s j œ f œ j yː b j yː œ yː yː k ɵ uː ɵ v ə m œ k b ə uː s eː r ɛ v oː n l ɪ ŋ k l ɪ l a s ɔ k m ʉ n a\r\n",
      "[2021-06-06 14:11:29,414][fairseq.tasks.unpaired_audio_text][INFO] - LM [REF]: -53.44462585449219, 0.05339602260269112\r\n",
      "[2021-06-06 14:11:29,415][fairseq.tasks.unpaired_audio_text][INFO] - LM [HYP]: -93.16710662841797, 0.013698022253881807\r\n"
     ]
    },
    {
     "name": "stdout",
     "output_type": "stream",
     "text": [
      "[2021-06-06 14:11:29,913][valid][INFO] - {\"epoch\": 4797, \"valid_loss\": \"1.004\", \"valid_ntokens\": \"3039.79\", \"valid_nsentences\": \"144.214\", \"valid_lm_score_sum\": \"-89587.6\", \"valid_num_pred_chars\": \"48355\", \"valid_vocab_seen_pct\": \"0.897213\", \"valid_uer\": \"100.442\", \"valid_weighted_lm_ppl\": \"74.5862\", \"valid_lm_ppl\": \"60.0411\", \"valid_wps\": \"18739.6\", \"valid_wpb\": \"3039.8\", \"valid_bsz\": \"144.2\", \"valid_num_updates\": \"76752\", \"valid_best_weighted_lm_ppl\": \"73.4256\"}\r\n",
      "[2021-06-06 14:11:29,917][fairseq.checkpoint_utils][INFO] - Preparing to save checkpoint for epoch 4797 @ 76752 updates\r\n",
      "[2021-06-06 14:11:29,918][fairseq.trainer][INFO] - Saving checkpoint to /kaggle/working/checkpoint4797.pt\r\n"
     ]
    },
    {
     "name": "stdout",
     "output_type": "stream",
     "text": [
      "[2021-06-06 14:11:29,958][fairseq.trainer][INFO] - Finished saving checkpoint to /kaggle/working/checkpoint4797.pt\r\n"
     ]
    },
    {
     "name": "stdout",
     "output_type": "stream",
     "text": [
      "[2021-06-06 14:11:29,990][fairseq.checkpoint_utils][INFO] - Saved checkpoint /kaggle/working/checkpoint4797.pt (epoch 4797 @ 76752 updates, score 74.58616617895548) (writing took 0.07287457200072822 seconds)\r\n",
      "[2021-06-06 14:11:29,993][fairseq_cli.train][INFO] - end of epoch 4797 (average epoch stats below)\r\n",
      "[2021-06-06 14:11:29,996][train][INFO] - {\"epoch\": 4797, \"train_loss\": \"3.482\", \"train_ntokens\": \"145.688\", \"train_nsentences\": \"145.688\", \"train_temp\": \"0.1\", \"train_code_ppl\": \"8.942\", \"train_loss_code_pen\": \"0.322\", \"train_loss_smoothness\": \"2.027\", \"train_loss_dense_g\": \"4.193\", \"train_lm_score_sum\": 0.0, \"train_num_pred_chars\": 0.0, \"train_loss_grad_pen\": \"0.133\", \"train_loss_dense_d\": \"0.024\", \"train_loss_token_d\": \"0.032\", \"train_wps\": \"12.2\", \"train_ups\": \"0.08\", \"train_wpb\": \"145.7\", \"train_bsz\": \"145.7\", \"train_num_updates\": \"76752\", \"train_lr_discriminator\": \"0.0005\", \"train_lr_generator\": \"0.0004\", \"train_gnorm\": \"35.423\", \"train_clip\": \"87.5\", \"train_train_wall\": \"187\", \"train_wall\": \"8553\"}\r\n"
     ]
    },
    {
     "name": "stdout",
     "output_type": "stream",
     "text": [
      "[2021-06-06 14:11:30,056][fairseq.trainer][INFO] - begin training epoch 4798\r\n",
      "[2021-06-06 14:11:30,058][fairseq_cli.train][INFO] - Start iterating over samples\r\n"
     ]
    },
    {
     "name": "stdout",
     "output_type": "stream",
     "text": [
      "[2021-06-06 14:14:39,147][fairseq_cli.train][INFO] - begin validation on \"valid\" subset\r\n"
     ]
    },
    {
     "name": "stdout",
     "output_type": "stream",
     "text": [
      "[2021-06-06 14:14:41,570][fairseq.tasks.unpaired_audio_text][INFO] - REF: ɛ n f œ ʂ ə n a d ɵ ʂ ə k t f øː r d eː t s ɔ m h ɛ n d ə p oː ɕ œ r k ɔ n s ɛ t ə n\r\n",
      "[2021-06-06 14:14:41,572][fairseq.tasks.unpaired_audio_text][INFO] - HYP: n ɕ ɛ s j œ f œ j yː ɕ b j yː œ yː k ɵ uː ɵ øː ə m œ b ə uː s eː r ɛ b oː n l ɪ ŋ k l ɪ l a s ɔ m k n a\r\n",
      "[2021-06-06 14:14:41,576][fairseq.tasks.unpaired_audio_text][INFO] - LM [REF]: -53.44462585449219, 0.05339602260269112\r\n",
      "[2021-06-06 14:14:41,577][fairseq.tasks.unpaired_audio_text][INFO] - LM [HYP]: -90.17382049560547, 0.014445013400435464\r\n"
     ]
    },
    {
     "name": "stdout",
     "output_type": "stream",
     "text": [
      "[2021-06-06 14:14:42,078][valid][INFO] - {\"epoch\": 4798, \"valid_loss\": \"1.002\", \"valid_ntokens\": \"3039.79\", \"valid_nsentences\": \"144.214\", \"valid_lm_score_sum\": \"-89411.2\", \"valid_num_pred_chars\": \"48170\", \"valid_vocab_seen_pct\": \"0.893728\", \"valid_uer\": \"100.249\", \"valid_weighted_lm_ppl\": \"75.697\", \"valid_lm_ppl\": \"60.463\", \"valid_wps\": \"18799.9\", \"valid_wpb\": \"3039.8\", \"valid_bsz\": \"144.2\", \"valid_num_updates\": \"76768\", \"valid_best_weighted_lm_ppl\": \"73.4256\"}\r\n",
      "[2021-06-06 14:14:42,081][fairseq.checkpoint_utils][INFO] - Preparing to save checkpoint for epoch 4798 @ 76768 updates\r\n",
      "[2021-06-06 14:14:42,083][fairseq.trainer][INFO] - Saving checkpoint to /kaggle/working/checkpoint4798.pt\r\n"
     ]
    },
    {
     "name": "stdout",
     "output_type": "stream",
     "text": [
      "[2021-06-06 14:14:42,122][fairseq.trainer][INFO] - Finished saving checkpoint to /kaggle/working/checkpoint4798.pt\r\n"
     ]
    },
    {
     "name": "stdout",
     "output_type": "stream",
     "text": [
      "[2021-06-06 14:14:42,153][fairseq.checkpoint_utils][INFO] - Saved checkpoint /kaggle/working/checkpoint4798.pt (epoch 4798 @ 76768 updates, score 75.69703539773359) (writing took 0.07164960299996892 seconds)\r\n",
      "[2021-06-06 14:14:42,156][fairseq_cli.train][INFO] - end of epoch 4798 (average epoch stats below)\r\n",
      "[2021-06-06 14:14:42,160][train][INFO] - {\"epoch\": 4798, \"train_loss\": \"3.318\", \"train_ntokens\": \"145.688\", \"train_nsentences\": \"145.688\", \"train_temp\": \"0.1\", \"train_code_ppl\": \"9.057\", \"train_loss_code_pen\": \"0.343\", \"train_loss_smoothness\": \"2.085\", \"train_loss_dense_g\": \"3.853\", \"train_lm_score_sum\": 0.0, \"train_num_pred_chars\": 0.0, \"train_loss_grad_pen\": \"0.073\", \"train_loss_dense_d\": \"0.03\", \"train_loss_token_d\": \"0.027\", \"train_wps\": \"12.1\", \"train_ups\": \"0.08\", \"train_wpb\": \"145.7\", \"train_bsz\": \"145.7\", \"train_num_updates\": \"76768\", \"train_lr_discriminator\": \"0.0005\", \"train_lr_generator\": \"0.0004\", \"train_gnorm\": \"29.928\", \"train_clip\": \"68.8\", \"train_train_wall\": \"189\", \"train_wall\": \"8745\"}\r\n"
     ]
    },
    {
     "name": "stdout",
     "output_type": "stream",
     "text": [
      "[2021-06-06 14:14:42,219][fairseq.trainer][INFO] - begin training epoch 4799\r\n",
      "[2021-06-06 14:14:42,221][fairseq_cli.train][INFO] - Start iterating over samples\r\n"
     ]
    },
    {
     "name": "stdout",
     "output_type": "stream",
     "text": [
      "[2021-06-06 14:17:46,229][fairseq_cli.train][INFO] - begin validation on \"valid\" subset\r\n"
     ]
    },
    {
     "name": "stdout",
     "output_type": "stream",
     "text": [
      "[2021-06-06 14:17:48,730][fairseq.tasks.unpaired_audio_text][INFO] - REF: ɛ n f œ ʂ ə n a d ɵ ʂ ə k t f øː r d eː t s ɔ m h ɛ n d ə p oː ɕ œ r k ɔ n s ɛ t ə n\r\n",
      "[2021-06-06 14:17:48,732][fairseq.tasks.unpaired_audio_text][INFO] - HYP: n ɛ s j œ f œ j yː b j yː œ yː k ɵ uː f ɵ øː n ə m œ l b ə uː s eː r ɛ b oː l ɪ ŋ k l ɪ l a ɔ m ʉ n a\r\n",
      "[2021-06-06 14:17:48,737][fairseq.tasks.unpaired_audio_text][INFO] - LM [REF]: -53.44462585449219, 0.05339602260269112\r\n",
      "[2021-06-06 14:17:48,737][fairseq.tasks.unpaired_audio_text][INFO] - LM [HYP]: -90.24109649658203, 0.013181874007158785\r\n"
     ]
    },
    {
     "name": "stdout",
     "output_type": "stream",
     "text": [
      "[2021-06-06 14:17:49,245][valid][INFO] - {\"epoch\": 4799, \"valid_loss\": \"1.003\", \"valid_ntokens\": \"3039.79\", \"valid_nsentences\": \"144.214\", \"valid_lm_score_sum\": \"-89544.3\", \"valid_num_pred_chars\": \"48229\", \"valid_vocab_seen_pct\": \"0.88676\", \"valid_uer\": \"100.324\", \"valid_weighted_lm_ppl\": \"76.9901\", \"valid_lm_ppl\": \"60.5406\", \"valid_wps\": \"18499.2\", \"valid_wpb\": \"3039.8\", \"valid_bsz\": \"144.2\", \"valid_num_updates\": \"76784\", \"valid_best_weighted_lm_ppl\": \"73.4256\"}\r\n",
      "[2021-06-06 14:17:49,248][fairseq.checkpoint_utils][INFO] - Preparing to save checkpoint for epoch 4799 @ 76784 updates\r\n",
      "[2021-06-06 14:17:49,250][fairseq.trainer][INFO] - Saving checkpoint to /kaggle/working/checkpoint4799.pt\r\n"
     ]
    },
    {
     "name": "stdout",
     "output_type": "stream",
     "text": [
      "[2021-06-06 14:17:49,288][fairseq.trainer][INFO] - Finished saving checkpoint to /kaggle/working/checkpoint4799.pt\r\n",
      "[2021-06-06 14:17:49,317][fairseq.checkpoint_utils][INFO] - Saved checkpoint /kaggle/working/checkpoint4799.pt (epoch 4799 @ 76784 updates, score 76.99008032283128) (writing took 0.06869496100080141 seconds)\r\n",
      "[2021-06-06 14:17:49,320][fairseq_cli.train][INFO] - end of epoch 4799 (average epoch stats below)\r\n",
      "[2021-06-06 14:17:49,324][train][INFO] - {\"epoch\": 4799, \"train_loss\": \"3.533\", \"train_ntokens\": \"145.688\", \"train_nsentences\": \"145.688\", \"train_temp\": \"0.1\", \"train_code_ppl\": \"8.999\", \"train_loss_code_pen\": \"0.336\", \"train_loss_smoothness\": \"2.083\", \"train_loss_dense_g\": \"3.841\", \"train_lm_score_sum\": 0.0, \"train_num_pred_chars\": 0.0, \"train_loss_grad_pen\": \"0.15\", \"train_loss_dense_d\": \"0.031\", \"train_loss_token_d\": \"0.031\", \"train_wps\": \"12.5\", \"train_ups\": \"0.09\", \"train_wpb\": \"145.7\", \"train_bsz\": \"145.7\", \"train_num_updates\": \"76784\", \"train_lr_discriminator\": \"0.0005\", \"train_lr_generator\": \"0.0004\", \"train_gnorm\": \"35.485\", \"train_clip\": \"81.2\", \"train_train_wall\": \"183\", \"train_wall\": \"8932\"}\r\n"
     ]
    },
    {
     "name": "stdout",
     "output_type": "stream",
     "text": [
      "[2021-06-06 14:17:49,383][fairseq.trainer][INFO] - begin training epoch 4800\r\n",
      "[2021-06-06 14:17:49,384][fairseq_cli.train][INFO] - Start iterating over samples\r\n"
     ]
    },
    {
     "name": "stdout",
     "output_type": "stream",
     "text": [
      "[2021-06-06 14:21:18,832][train_inner][INFO] - {\"epoch\": 4800, \"update\": 4800.0, \"loss\": \"3.296\", \"ntokens\": \"146.26\", \"nsentences\": \"146.26\", \"temp\": \"0.1\", \"code_ppl\": \"9.031\", \"loss_code_pen\": \"0.334\", \"loss_smoothness\": \"2.06\", \"loss_dense_g\": \"3.974\", \"lm_score_sum\": 0.0, \"num_pred_chars\": 0.0, \"loss_grad_pen\": \"0.096\", \"loss_dense_d\": \"0.029\", \"loss_token_d\": \"0.028\", \"wps\": \"11.9\", \"ups\": \"0.08\", \"wpb\": \"146.3\", \"bsz\": \"146.3\", \"num_updates\": \"76800\", \"lr_discriminator\": \"0.0005\", \"lr_generator\": \"0.0004\", \"gnorm\": \"31.04\", \"clip\": \"76\", \"train_wall\": \"1207\", \"wall\": \"9142\"}\r\n",
      "[2021-06-06 14:21:18,834][fairseq_cli.train][INFO] - begin validation on \"valid\" subset\r\n"
     ]
    },
    {
     "name": "stdout",
     "output_type": "stream",
     "text": [
      "[2021-06-06 14:21:21,241][fairseq.tasks.unpaired_audio_text][INFO] - REF: ɛ n f œ ʂ ə n a d ɵ ʂ ə k t f øː r d eː t s ɔ m h ɛ n d ə p oː ɕ œ r k ɔ n s ɛ t ə n\r\n",
      "[2021-06-06 14:21:21,243][fairseq.tasks.unpaired_audio_text][INFO] - HYP: n ɛ s j œ f œ j yː b j yː œ yː k yː uː f ɵ v ə m œ l b ə uː s eː r ɛ b oː l ɪ ŋ k l ɪ l a s ɔ k m ʉ n a\r\n",
      "[2021-06-06 14:21:21,247][fairseq.tasks.unpaired_audio_text][INFO] - LM [REF]: -53.44462585449219, 0.05339602260269112\r\n",
      "[2021-06-06 14:21:21,248][fairseq.tasks.unpaired_audio_text][INFO] - LM [HYP]: -91.35354614257812, 0.01366601570433751\r\n"
     ]
    },
    {
     "name": "stdout",
     "output_type": "stream",
     "text": [
      "[2021-06-06 14:21:21,732][valid][INFO] - {\"epoch\": 4800, \"valid_loss\": \"1.001\", \"valid_ntokens\": \"3039.79\", \"valid_nsentences\": \"144.214\", \"valid_lm_score_sum\": \"-89410.8\", \"valid_num_pred_chars\": \"48131\", \"valid_vocab_seen_pct\": \"0.891986\", \"valid_uer\": \"100.139\", \"valid_weighted_lm_ppl\": \"76.2346\", \"valid_lm_ppl\": \"60.6552\", \"valid_wps\": \"19317.4\", \"valid_wpb\": \"3039.8\", \"valid_bsz\": \"144.2\", \"valid_num_updates\": \"76800\", \"valid_best_weighted_lm_ppl\": \"73.4256\"}\r\n",
      "[2021-06-06 14:21:21,735][fairseq.checkpoint_utils][INFO] - Preparing to save checkpoint for epoch 4800 @ 76800 updates\r\n",
      "[2021-06-06 14:21:21,737][fairseq.trainer][INFO] - Saving checkpoint to /kaggle/working/checkpoint4800.pt\r\n",
      "[2021-06-06 14:21:21,775][fairseq.trainer][INFO] - Finished saving checkpoint to /kaggle/working/checkpoint4800.pt\r\n"
     ]
    },
    {
     "name": "stdout",
     "output_type": "stream",
     "text": [
      "[2021-06-06 14:21:21,806][fairseq.checkpoint_utils][INFO] - Saved checkpoint /kaggle/working/checkpoint4800.pt (epoch 4800 @ 76800 updates, score 76.23457738251682) (writing took 0.07063350299904414 seconds)\r\n",
      "[2021-06-06 14:21:21,809][fairseq_cli.train][INFO] - end of epoch 4800 (average epoch stats below)\r\n",
      "[2021-06-06 14:21:21,812][train][INFO] - {\"epoch\": 4800, \"train_loss\": \"2.896\", \"train_ntokens\": \"145.688\", \"train_nsentences\": \"145.688\", \"train_temp\": \"0.1\", \"train_code_ppl\": \"9.159\", \"train_loss_code_pen\": \"0.345\", \"train_loss_smoothness\": \"2.064\", \"train_loss_dense_g\": \"3.847\", \"train_lm_score_sum\": 0.0, \"train_num_pred_chars\": 0.0, \"train_loss_grad_pen\": \"0.08\", \"train_loss_dense_d\": \"0.029\", \"train_loss_token_d\": \"0.027\", \"train_wps\": \"11\", \"train_ups\": \"0.08\", \"train_wpb\": \"145.7\", \"train_bsz\": \"145.7\", \"train_num_updates\": \"76800\", \"train_lr_discriminator\": \"0.0005\", \"train_lr_generator\": \"0.0004\", \"train_gnorm\": \"28.75\", \"train_clip\": \"81.2\", \"train_train_wall\": \"209\", \"train_wall\": \"9145\"}\r\n"
     ]
    },
    {
     "name": "stdout",
     "output_type": "stream",
     "text": [
      "[2021-06-06 14:21:21,871][fairseq.trainer][INFO] - begin training epoch 4801\r\n",
      "[2021-06-06 14:21:21,873][fairseq_cli.train][INFO] - Start iterating over samples\r\n"
     ]
    },
    {
     "name": "stdout",
     "output_type": "stream",
     "text": [
      "[2021-06-06 14:24:50,262][fairseq_cli.train][INFO] - begin validation on \"valid\" subset\r\n"
     ]
    },
    {
     "name": "stdout",
     "output_type": "stream",
     "text": [
      "[2021-06-06 14:24:52,707][fairseq.tasks.unpaired_audio_text][INFO] - REF: ɛ n f œ ʂ ə n a d ɵ ʂ ə k t f øː r d eː t s ɔ m h ɛ n d ə p oː ɕ œ r k ɔ n s ɛ t ə n\r\n",
      "[2021-06-06 14:24:52,710][fairseq.tasks.unpaired_audio_text][INFO] - HYP: t ɛ s j œ f œ j yː b j yː œ yː k yː uː ɵ v n ə m œ l b ə uː s eː r ɛ v oː l ɪ ŋ k l ɪ l a s ɔ k m k n a\r\n",
      "[2021-06-06 14:24:52,714][fairseq.tasks.unpaired_audio_text][INFO] - LM [REF]: -53.44462585449219, 0.05339602260269112\r\n",
      "[2021-06-06 14:24:52,714][fairseq.tasks.unpaired_audio_text][INFO] - LM [HYP]: -92.43791961669922, 0.01298708983167103\r\n"
     ]
    },
    {
     "name": "stdout",
     "output_type": "stream",
     "text": [
      "[2021-06-06 14:24:53,230][valid][INFO] - {\"epoch\": 4801, \"valid_loss\": \"1.004\", \"valid_ntokens\": \"3039.79\", \"valid_nsentences\": \"144.214\", \"valid_lm_score_sum\": \"-89718.4\", \"valid_num_pred_chars\": \"48300\", \"valid_vocab_seen_pct\": \"0.888502\", \"valid_uer\": \"100.407\", \"valid_weighted_lm_ppl\": \"76.8557\", \"valid_lm_ppl\": \"60.6726\", \"valid_wps\": \"18961.9\", \"valid_wpb\": \"3039.8\", \"valid_bsz\": \"144.2\", \"valid_num_updates\": \"76816\", \"valid_best_weighted_lm_ppl\": \"73.4256\"}\r\n",
      "[2021-06-06 14:24:53,234][fairseq.checkpoint_utils][INFO] - Preparing to save checkpoint for epoch 4801 @ 76816 updates\r\n",
      "[2021-06-06 14:24:53,235][fairseq.trainer][INFO] - Saving checkpoint to /kaggle/working/checkpoint4801.pt\r\n"
     ]
    },
    {
     "name": "stdout",
     "output_type": "stream",
     "text": [
      "[2021-06-06 14:24:53,276][fairseq.trainer][INFO] - Finished saving checkpoint to /kaggle/working/checkpoint4801.pt\r\n"
     ]
    },
    {
     "name": "stdout",
     "output_type": "stream",
     "text": [
      "[2021-06-06 14:24:53,306][fairseq.checkpoint_utils][INFO] - Saved checkpoint /kaggle/working/checkpoint4801.pt (epoch 4801 @ 76816 updates, score 76.85571150371203) (writing took 0.07233393499882368 seconds)\r\n",
      "[2021-06-06 14:24:53,310][fairseq_cli.train][INFO] - end of epoch 4801 (average epoch stats below)\r\n",
      "[2021-06-06 14:24:53,313][train][INFO] - {\"epoch\": 4801, \"train_loss\": \"2.94\", \"train_ntokens\": \"145.688\", \"train_nsentences\": \"145.688\", \"train_temp\": \"0.1\", \"train_code_ppl\": \"8.983\", \"train_loss_code_pen\": \"0.337\", \"train_loss_smoothness\": \"2.031\", \"train_loss_dense_g\": \"4.012\", \"train_lm_score_sum\": 0.0, \"train_num_pred_chars\": 0.0, \"train_loss_grad_pen\": \"0.061\", \"train_loss_dense_d\": \"0.029\", \"train_loss_token_d\": \"0.026\", \"train_wps\": \"11\", \"train_ups\": \"0.08\", \"train_wpb\": \"145.7\", \"train_bsz\": \"145.7\", \"train_num_updates\": \"76816\", \"train_lr_discriminator\": \"0.0005\", \"train_lr_generator\": \"0.0004\", \"train_gnorm\": \"28.21\", \"train_clip\": \"68.8\", \"train_train_wall\": \"208\", \"train_wall\": \"9356\"}\r\n"
     ]
    },
    {
     "name": "stdout",
     "output_type": "stream",
     "text": [
      "[2021-06-06 14:24:53,371][fairseq.trainer][INFO] - begin training epoch 4802\r\n",
      "[2021-06-06 14:24:53,373][fairseq_cli.train][INFO] - Start iterating over samples\r\n"
     ]
    },
    {
     "name": "stdout",
     "output_type": "stream",
     "text": [
      "[2021-06-06 14:28:23,171][fairseq_cli.train][INFO] - begin validation on \"valid\" subset\r\n"
     ]
    },
    {
     "name": "stdout",
     "output_type": "stream",
     "text": [
      "[2021-06-06 14:28:25,586][fairseq.tasks.unpaired_audio_text][INFO] - REF: ɛ n f œ ʂ ə n a d ɵ ʂ ə k t f øː r d eː t s ɔ m h ɛ n d ə p oː ɕ œ r k ɔ n s ɛ t ə n\r\n",
      "[2021-06-06 14:28:25,589][fairseq.tasks.unpaired_audio_text][INFO] - HYP: t s n s j œ f œ yː b j yː œ yː k yː uː ɵ v n ə m œ l b ə uː s eː r n oː l ɪ ŋ k l ɪ l a s ɔ k m ʉ n a\r\n",
      "[2021-06-06 14:28:25,594][fairseq.tasks.unpaired_audio_text][INFO] - LM [REF]: -53.44462585449219, 0.05339602260269112\r\n",
      "[2021-06-06 14:28:25,595][fairseq.tasks.unpaired_audio_text][INFO] - LM [HYP]: -90.3802719116211, 0.01309416075869497\r\n"
     ]
    },
    {
     "name": "stdout",
     "output_type": "stream",
     "text": [
      "[2021-06-06 14:28:26,116][valid][INFO] - {\"epoch\": 4802, \"valid_loss\": \"1.004\", \"valid_ntokens\": \"3039.79\", \"valid_nsentences\": \"144.214\", \"valid_lm_score_sum\": \"-89646.4\", \"valid_num_pred_chars\": \"48329\", \"valid_vocab_seen_pct\": \"0.890244\", \"valid_uer\": \"100.425\", \"valid_weighted_lm_ppl\": \"76.1232\", \"valid_lm_ppl\": \"60.3303\", \"valid_wps\": \"18807.7\", \"valid_wpb\": \"3039.8\", \"valid_bsz\": \"144.2\", \"valid_num_updates\": \"76832\", \"valid_best_weighted_lm_ppl\": \"73.4256\"}\r\n",
      "[2021-06-06 14:28:26,120][fairseq.checkpoint_utils][INFO] - Preparing to save checkpoint for epoch 4802 @ 76832 updates\r\n",
      "[2021-06-06 14:28:26,121][fairseq.trainer][INFO] - Saving checkpoint to /kaggle/working/checkpoint4802.pt\r\n"
     ]
    },
    {
     "name": "stdout",
     "output_type": "stream",
     "text": [
      "[2021-06-06 14:28:26,159][fairseq.trainer][INFO] - Finished saving checkpoint to /kaggle/working/checkpoint4802.pt\r\n"
     ]
    },
    {
     "name": "stdout",
     "output_type": "stream",
     "text": [
      "[2021-06-06 14:28:26,190][fairseq.checkpoint_utils][INFO] - Saved checkpoint /kaggle/working/checkpoint4802.pt (epoch 4802 @ 76832 updates, score 76.123249221997) (writing took 0.07030417999885685 seconds)\r\n",
      "[2021-06-06 14:28:26,193][fairseq_cli.train][INFO] - end of epoch 4802 (average epoch stats below)\r\n",
      "[2021-06-06 14:28:26,197][train][INFO] - {\"epoch\": 4802, \"train_loss\": \"2.826\", \"train_ntokens\": \"145.688\", \"train_nsentences\": \"145.688\", \"train_temp\": \"0.1\", \"train_code_ppl\": \"8.666\", \"train_loss_code_pen\": \"0.316\", \"train_loss_smoothness\": \"1.981\", \"train_loss_dense_g\": \"3.844\", \"train_lm_score_sum\": 0.0, \"train_num_pred_chars\": 0.0, \"train_loss_grad_pen\": \"0.055\", \"train_loss_dense_d\": \"0.027\", \"train_loss_token_d\": \"0.023\", \"train_wps\": \"10.9\", \"train_ups\": \"0.08\", \"train_wpb\": \"145.7\", \"train_bsz\": \"145.7\", \"train_num_updates\": \"76832\", \"train_lr_discriminator\": \"0.0005\", \"train_lr_generator\": \"0.0004\", \"train_gnorm\": \"28.348\", \"train_clip\": \"62.5\", \"train_train_wall\": \"209\", \"train_wall\": \"9569\"}\r\n"
     ]
    },
    {
     "name": "stdout",
     "output_type": "stream",
     "text": [
      "[2021-06-06 14:28:26,255][fairseq.trainer][INFO] - begin training epoch 4803\r\n",
      "[2021-06-06 14:28:26,257][fairseq_cli.train][INFO] - Start iterating over samples\r\n"
     ]
    },
    {
     "name": "stdout",
     "output_type": "stream",
     "text": [
      "[2021-06-06 14:31:36,704][fairseq_cli.train][INFO] - begin validation on \"valid\" subset\r\n"
     ]
    },
    {
     "name": "stdout",
     "output_type": "stream",
     "text": [
      "[2021-06-06 14:31:39,136][fairseq.tasks.unpaired_audio_text][INFO] - REF: ɛ n f œ ʂ ə n a d ɵ ʂ ə k t f øː r d eː t s ɔ m h ɛ n d ə p oː ɕ œ r k ɔ n s ɛ t ə n\r\n",
      "[2021-06-06 14:31:39,139][fairseq.tasks.unpaired_audio_text][INFO] - HYP: t ɛ s j œ f œ j yː b j yː œ yː k yː uː ɵ øː v n ə m œ l b ə uː s eː r n v oː n l ɪ ŋ k l ɪ l a s ɔ k m t n a\r\n",
      "[2021-06-06 14:31:39,145][fairseq.tasks.unpaired_audio_text][INFO] - LM [REF]: -53.44462585449219, 0.05339602260269112\r\n",
      "[2021-06-06 14:31:39,145][fairseq.tasks.unpaired_audio_text][INFO] - LM [HYP]: -95.66029357910156, 0.013313982109471129\r\n"
     ]
    },
    {
     "name": "stdout",
     "output_type": "stream",
     "text": [
      "[2021-06-06 14:31:39,681][valid][INFO] - {\"epoch\": 4803, \"valid_loss\": \"1.003\", \"valid_ntokens\": \"3039.79\", \"valid_nsentences\": \"144.214\", \"valid_lm_score_sum\": \"-89502.2\", \"valid_num_pred_chars\": \"48252\", \"valid_vocab_seen_pct\": \"0.890244\", \"valid_uer\": \"100.258\", \"valid_weighted_lm_ppl\": \"76.0987\", \"valid_lm_ppl\": \"60.3108\", \"valid_wps\": \"18582.9\", \"valid_wpb\": \"3039.8\", \"valid_bsz\": \"144.2\", \"valid_num_updates\": \"76848\", \"valid_best_weighted_lm_ppl\": \"73.4256\"}\r\n",
      "[2021-06-06 14:31:39,685][fairseq.checkpoint_utils][INFO] - Preparing to save checkpoint for epoch 4803 @ 76848 updates\r\n",
      "[2021-06-06 14:31:39,686][fairseq.trainer][INFO] - Saving checkpoint to /kaggle/working/checkpoint4803.pt\r\n"
     ]
    },
    {
     "name": "stdout",
     "output_type": "stream",
     "text": [
      "[2021-06-06 14:31:39,724][fairseq.trainer][INFO] - Finished saving checkpoint to /kaggle/working/checkpoint4803.pt\r\n",
      "[2021-06-06 14:31:39,754][fairseq.checkpoint_utils][INFO] - Saved checkpoint /kaggle/working/checkpoint4803.pt (epoch 4803 @ 76848 updates, score 76.09869087953436) (writing took 0.06943127600061416 seconds)\r\n",
      "[2021-06-06 14:31:39,757][fairseq_cli.train][INFO] - end of epoch 4803 (average epoch stats below)\r\n",
      "[2021-06-06 14:31:39,760][train][INFO] - {\"epoch\": 4803, \"train_loss\": \"3.269\", \"train_ntokens\": \"145.688\", \"train_nsentences\": \"145.688\", \"train_temp\": \"0.1\", \"train_code_ppl\": \"9.148\", \"train_loss_code_pen\": \"0.331\", \"train_loss_smoothness\": \"2.066\", \"train_loss_dense_g\": \"4.244\", \"train_lm_score_sum\": 0.0, \"train_num_pred_chars\": 0.0, \"train_loss_grad_pen\": \"0.077\", \"train_loss_dense_d\": \"0.028\", \"train_loss_token_d\": \"0.029\", \"train_wps\": \"12\", \"train_ups\": \"0.08\", \"train_wpb\": \"145.7\", \"train_bsz\": \"145.7\", \"train_num_updates\": \"76848\", \"train_lr_discriminator\": \"0.0005\", \"train_lr_generator\": \"0.0004\", \"train_gnorm\": \"29.177\", \"train_clip\": \"81.2\", \"train_train_wall\": \"190\", \"train_wall\": \"9763\"}\r\n"
     ]
    },
    {
     "name": "stdout",
     "output_type": "stream",
     "text": [
      "[2021-06-06 14:31:39,818][fairseq.trainer][INFO] - begin training epoch 4804\r\n",
      "[2021-06-06 14:31:39,819][fairseq_cli.train][INFO] - Start iterating over samples\r\n"
     ]
    },
    {
     "name": "stdout",
     "output_type": "stream",
     "text": [
      "[2021-06-06 14:34:58,698][fairseq_cli.train][INFO] - begin validation on \"valid\" subset\r\n"
     ]
    },
    {
     "name": "stdout",
     "output_type": "stream",
     "text": [
      "[2021-06-06 14:35:01,161][fairseq.tasks.unpaired_audio_text][INFO] - REF: ɛ n f œ ʂ ə n a d ɵ ʂ ə k t f øː r d eː t s ɔ m h ɛ n d ə p oː ɕ œ r k ɔ n s ɛ t ə n\r\n",
      "[2021-06-06 14:35:01,164][fairseq.tasks.unpaired_audio_text][INFO] - HYP: t ɛ s j œ f œ j yː b j yː œ yː k yː uː ɵ v b n ə m œ l b ə uː s eː r n v oː l ɪ ŋ k l ɪ l a s ɔ k m t n a\r\n",
      "[2021-06-06 14:35:01,168][fairseq.tasks.unpaired_audio_text][INFO] - LM [REF]: -53.44462585449219, 0.05339602260269112\r\n",
      "[2021-06-06 14:35:01,168][fairseq.tasks.unpaired_audio_text][INFO] - LM [HYP]: -93.69818878173828, 0.013367070062048944\r\n"
     ]
    },
    {
     "name": "stdout",
     "output_type": "stream",
     "text": [
      "[2021-06-06 14:35:01,703][valid][INFO] - {\"epoch\": 4804, \"valid_loss\": \"1.004\", \"valid_ntokens\": \"3039.79\", \"valid_nsentences\": \"144.214\", \"valid_lm_score_sum\": \"-89560.3\", \"valid_num_pred_chars\": \"48332\", \"valid_vocab_seen_pct\": \"0.888502\", \"valid_uer\": \"100.367\", \"valid_weighted_lm_ppl\": \"76.1032\", \"valid_lm_ppl\": \"60.0786\", \"valid_wps\": \"18382.7\", \"valid_wpb\": \"3039.8\", \"valid_bsz\": \"144.2\", \"valid_num_updates\": \"76864\", \"valid_best_weighted_lm_ppl\": \"73.4256\"}\r\n"
     ]
    },
    {
     "name": "stdout",
     "output_type": "stream",
     "text": [
      "[2021-06-06 14:35:01,707][fairseq.checkpoint_utils][INFO] - Preparing to save checkpoint for epoch 4804 @ 76864 updates\r\n",
      "[2021-06-06 14:35:01,709][fairseq.trainer][INFO] - Saving checkpoint to /kaggle/working/checkpoint4804.pt\r\n",
      "[2021-06-06 14:35:01,748][fairseq.trainer][INFO] - Finished saving checkpoint to /kaggle/working/checkpoint4804.pt\r\n"
     ]
    },
    {
     "name": "stdout",
     "output_type": "stream",
     "text": [
      "[2021-06-06 14:35:01,779][fairseq.checkpoint_utils][INFO] - Saved checkpoint /kaggle/working/checkpoint4804.pt (epoch 4804 @ 76864 updates, score 76.10322613043374) (writing took 0.07180021699969075 seconds)\r\n",
      "[2021-06-06 14:35:01,783][fairseq_cli.train][INFO] - end of epoch 4804 (average epoch stats below)\r\n",
      "[2021-06-06 14:35:01,785][train][INFO] - {\"epoch\": 4804, \"train_loss\": \"3.219\", \"train_ntokens\": \"145.688\", \"train_nsentences\": \"145.688\", \"train_temp\": \"0.1\", \"train_code_ppl\": \"8.969\", \"train_loss_code_pen\": \"0.339\", \"train_loss_smoothness\": \"2.044\", \"train_loss_dense_g\": \"4.181\", \"train_lm_score_sum\": 0.0, \"train_num_pred_chars\": 0.0, \"train_loss_grad_pen\": \"0.06\", \"train_loss_dense_d\": \"0.025\", \"train_loss_token_d\": \"0.026\", \"train_wps\": \"11.5\", \"train_ups\": \"0.08\", \"train_wpb\": \"145.7\", \"train_bsz\": \"145.7\", \"train_num_updates\": \"76864\", \"train_lr_discriminator\": \"0.0005\", \"train_lr_generator\": \"0.0004\", \"train_gnorm\": \"28.119\", \"train_clip\": \"68.8\", \"train_train_wall\": \"198\", \"train_wall\": \"9965\"}\r\n"
     ]
    },
    {
     "name": "stdout",
     "output_type": "stream",
     "text": [
      "[2021-06-06 14:35:01,844][fairseq.trainer][INFO] - begin training epoch 4805\r\n",
      "[2021-06-06 14:35:01,845][fairseq_cli.train][INFO] - Start iterating over samples\r\n"
     ]
    },
    {
     "name": "stdout",
     "output_type": "stream",
     "text": [
      "[2021-06-06 14:38:02,035][fairseq_cli.train][INFO] - begin validation on \"valid\" subset\r\n"
     ]
    },
    {
     "name": "stdout",
     "output_type": "stream",
     "text": [
      "[2021-06-06 14:38:04,878][fairseq.tasks.unpaired_audio_text][INFO] - REF: ɛ n f œ ʂ ə n a d ɵ ʂ ə k t f øː r d eː t s ɔ m h ɛ n d ə p oː ɕ œ r k ɔ n s ɛ t ə n\r\n"
     ]
    },
    {
     "name": "stdout",
     "output_type": "stream",
     "text": [
      "[2021-06-06 14:38:04,881][fairseq.tasks.unpaired_audio_text][INFO] - HYP: t ɛ s j œ f œ j yː b j yː œ yː k yː uː ɵ øː v b n ə m œ l b ə uː s eː r n v oː n l ɪ ŋ k l ɪ l a s ɔ k m t n a\r\n",
      "[2021-06-06 14:38:04,888][fairseq.tasks.unpaired_audio_text][INFO] - LM [REF]: -53.44462585449219, 0.05339602260269112\r\n",
      "[2021-06-06 14:38:04,888][fairseq.tasks.unpaired_audio_text][INFO] - LM [HYP]: -98.0600357055664, 0.01300858570516151\r\n"
     ]
    },
    {
     "name": "stdout",
     "output_type": "stream",
     "text": [
      "[2021-06-06 14:38:05,377][valid][INFO] - {\"epoch\": 4805, \"valid_loss\": \"1.005\", \"valid_ntokens\": \"3039.79\", \"valid_nsentences\": \"144.214\", \"valid_lm_score_sum\": \"-89630.1\", \"valid_num_pred_chars\": \"48479\", \"valid_vocab_seen_pct\": \"0.891986\", \"valid_uer\": \"100.54\", \"valid_weighted_lm_ppl\": \"74.8526\", \"valid_lm_ppl\": \"59.5556\", \"valid_wps\": \"18770.8\", \"valid_wpb\": \"3039.8\", \"valid_bsz\": \"144.2\", \"valid_num_updates\": \"76880\", \"valid_best_weighted_lm_ppl\": \"73.4256\"}\r\n",
      "[2021-06-06 14:38:05,380][fairseq.checkpoint_utils][INFO] - Preparing to save checkpoint for epoch 4805 @ 76880 updates\r\n",
      "[2021-06-06 14:38:05,381][fairseq.trainer][INFO] - Saving checkpoint to /kaggle/working/checkpoint4805.pt\r\n"
     ]
    },
    {
     "name": "stdout",
     "output_type": "stream",
     "text": [
      "[2021-06-06 14:38:05,420][fairseq.trainer][INFO] - Finished saving checkpoint to /kaggle/working/checkpoint4805.pt\r\n"
     ]
    },
    {
     "name": "stdout",
     "output_type": "stream",
     "text": [
      "[2021-06-06 14:38:05,449][fairseq.checkpoint_utils][INFO] - Saved checkpoint /kaggle/working/checkpoint4805.pt (epoch 4805 @ 76880 updates, score 74.85258135632077) (writing took 0.06902112200077681 seconds)\r\n",
      "[2021-06-06 14:38:05,452][fairseq_cli.train][INFO] - end of epoch 4805 (average epoch stats below)\r\n",
      "[2021-06-06 14:38:05,455][train][INFO] - {\"epoch\": 4805, \"train_loss\": \"3.763\", \"train_ntokens\": \"145.688\", \"train_nsentences\": \"145.688\", \"train_temp\": \"0.1\", \"train_code_ppl\": \"8.686\", \"train_loss_code_pen\": \"0.314\", \"train_loss_smoothness\": \"2.012\", \"train_loss_dense_g\": \"4.4\", \"train_lm_score_sum\": 0.0, \"train_num_pred_chars\": 0.0, \"train_loss_grad_pen\": \"0.091\", \"train_loss_dense_d\": \"0.024\", \"train_loss_token_d\": \"0.039\", \"train_wps\": \"12.7\", \"train_ups\": \"0.09\", \"train_wpb\": \"145.7\", \"train_bsz\": \"145.7\", \"train_num_updates\": \"76880\", \"train_lr_discriminator\": \"0.0005\", \"train_lr_generator\": \"0.0004\", \"train_gnorm\": \"29.389\", \"train_clip\": \"75\", \"train_train_wall\": \"180\", \"train_wall\": \"10148\"}\r\n"
     ]
    },
    {
     "name": "stdout",
     "output_type": "stream",
     "text": [
      "[2021-06-06 14:38:05,515][fairseq.trainer][INFO] - begin training epoch 4806\r\n",
      "[2021-06-06 14:38:05,517][fairseq_cli.train][INFO] - Start iterating over samples\r\n"
     ]
    },
    {
     "name": "stdout",
     "output_type": "stream",
     "text": [
      "[2021-06-06 14:41:28,292][fairseq_cli.train][INFO] - begin validation on \"valid\" subset\r\n"
     ]
    },
    {
     "name": "stdout",
     "output_type": "stream",
     "text": [
      "[2021-06-06 14:41:30,810][fairseq.tasks.unpaired_audio_text][INFO] - REF: ɛ n f œ ʂ ə n a d ɵ ʂ ə k t f øː r d eː t s ɔ m h ɛ n d ə p oː ɕ œ r k ɔ n s ɛ t ə n\r\n",
      "[2021-06-06 14:41:30,813][fairseq.tasks.unpaired_audio_text][INFO] - HYP: t ɛ s j œ f œ j yː b j yː œ yː k ɵ uː ɵ øː v n ə m œ l b ə uː s eː r n v oː s l ɪ ŋ k l ɪ l a s ɔ k m k n a\r\n",
      "[2021-06-06 14:41:30,817][fairseq.tasks.unpaired_audio_text][INFO] - LM [REF]: -53.44462585449219, 0.05339602260269112\r\n",
      "[2021-06-06 14:41:30,817][fairseq.tasks.unpaired_audio_text][INFO] - LM [HYP]: -94.14036560058594, 0.014259702942933763\r\n"
     ]
    },
    {
     "name": "stdout",
     "output_type": "stream",
     "text": [
      "[2021-06-06 14:41:31,322][valid][INFO] - {\"epoch\": 4806, \"valid_loss\": \"1.005\", \"valid_ntokens\": \"3039.79\", \"valid_nsentences\": \"144.214\", \"valid_lm_score_sum\": \"-89692.8\", \"valid_num_pred_chars\": \"48475\", \"valid_vocab_seen_pct\": \"0.89547\", \"valid_uer\": \"100.508\", \"valid_weighted_lm_ppl\": \"74.5082\", \"valid_lm_ppl\": \"59.7457\", \"valid_wps\": \"18302.1\", \"valid_wpb\": \"3039.8\", \"valid_bsz\": \"144.2\", \"valid_num_updates\": \"76896\", \"valid_best_weighted_lm_ppl\": \"73.4256\"}\r\n",
      "[2021-06-06 14:41:31,325][fairseq.checkpoint_utils][INFO] - Preparing to save checkpoint for epoch 4806 @ 76896 updates\r\n",
      "[2021-06-06 14:41:31,327][fairseq.trainer][INFO] - Saving checkpoint to /kaggle/working/checkpoint4806.pt\r\n"
     ]
    },
    {
     "name": "stdout",
     "output_type": "stream",
     "text": [
      "[2021-06-06 14:41:31,364][fairseq.trainer][INFO] - Finished saving checkpoint to /kaggle/working/checkpoint4806.pt\r\n",
      "[2021-06-06 14:41:31,394][fairseq.checkpoint_utils][INFO] - Saved checkpoint /kaggle/working/checkpoint4806.pt (epoch 4806 @ 76896 updates, score 74.50824117351254) (writing took 0.0689067100011016 seconds)\r\n",
      "[2021-06-06 14:41:31,398][fairseq_cli.train][INFO] - end of epoch 4806 (average epoch stats below)\r\n",
      "[2021-06-06 14:41:31,401][train][INFO] - {\"epoch\": 4806, \"train_loss\": \"3.045\", \"train_ntokens\": \"145.688\", \"train_nsentences\": \"145.688\", \"train_temp\": \"0.1\", \"train_code_ppl\": \"8.957\", \"train_loss_code_pen\": \"0.322\", \"train_loss_smoothness\": \"2.035\", \"train_loss_dense_g\": \"4.237\", \"train_lm_score_sum\": 0.0, \"train_num_pred_chars\": 0.0, \"train_loss_grad_pen\": \"0.077\", \"train_loss_dense_d\": \"0.028\", \"train_loss_token_d\": \"0.025\", \"train_wps\": \"11.3\", \"train_ups\": \"0.08\", \"train_wpb\": \"145.7\", \"train_bsz\": \"145.7\", \"train_num_updates\": \"76896\", \"train_lr_discriminator\": \"0.0005\", \"train_lr_generator\": \"0.0004\", \"train_gnorm\": \"28.88\", \"train_clip\": \"68.8\", \"train_train_wall\": \"202\", \"train_wall\": \"10354\"}\r\n"
     ]
    },
    {
     "name": "stdout",
     "output_type": "stream",
     "text": [
      "[2021-06-06 14:41:31,460][fairseq.trainer][INFO] - begin training epoch 4807\r\n",
      "[2021-06-06 14:41:31,461][fairseq_cli.train][INFO] - Start iterating over samples\r\n"
     ]
    },
    {
     "name": "stdout",
     "output_type": "stream",
     "text": [
      "[2021-06-06 14:42:26,074][train_inner][INFO] - {\"epoch\": 4807, \"update\": 4806.25, \"loss\": \"3.189\", \"ntokens\": \"146.26\", \"nsentences\": \"146.26\", \"temp\": \"0.1\", \"code_ppl\": \"8.906\", \"loss_code_pen\": \"0.326\", \"loss_smoothness\": \"2.03\", \"loss_dense_g\": \"4.173\", \"lm_score_sum\": 0.0, \"num_pred_chars\": 0.0, \"loss_grad_pen\": \"0.069\", \"loss_dense_d\": \"0.027\", \"loss_token_d\": \"0.027\", \"wps\": \"11.5\", \"ups\": \"0.08\", \"wpb\": \"146.3\", \"bsz\": \"146.3\", \"num_updates\": \"76900\", \"lr_discriminator\": \"0.0005\", \"lr_generator\": \"0.0004\", \"gnorm\": \"28.652\", \"clip\": \"70\", \"train_wall\": \"1242\", \"wall\": \"10409\"}\r\n"
     ]
    },
    {
     "name": "stdout",
     "output_type": "stream",
     "text": [
      "[2021-06-06 14:44:41,035][fairseq_cli.train][INFO] - begin validation on \"valid\" subset\r\n"
     ]
    },
    {
     "name": "stdout",
     "output_type": "stream",
     "text": [
      "[2021-06-06 14:44:43,452][fairseq.tasks.unpaired_audio_text][INFO] - REF: ɛ n f œ ʂ ə n a d ɵ ʂ ə k t f øː r d eː t s ɔ m h ɛ n d ə p oː ɕ œ r k ɔ n s ɛ t ə n\r\n"
     ]
    },
    {
     "name": "stdout",
     "output_type": "stream",
     "text": [
      "[2021-06-06 14:44:43,454][fairseq.tasks.unpaired_audio_text][INFO] - HYP: n ɛ s j œ f œ j yː ɕ b j yː œ yː k ɵ uː ɵ øː b n ə m œ l b ə uː s eː r n v oː s l ɪ ŋ k l ɪ l a s ɔ k m k n\r\n",
      "[2021-06-06 14:44:43,461][fairseq.tasks.unpaired_audio_text][INFO] - LM [REF]: -53.44462585449219, 0.05339602260269112\r\n",
      "[2021-06-06 14:44:43,461][fairseq.tasks.unpaired_audio_text][INFO] - LM [HYP]: -95.95704650878906, 0.0131367908061094\r\n"
     ]
    },
    {
     "name": "stdout",
     "output_type": "stream",
     "text": [
      "[2021-06-06 14:44:43,958][valid][INFO] - {\"epoch\": 4807, \"valid_loss\": \"1.005\", \"valid_ntokens\": \"3039.79\", \"valid_nsentences\": \"144.214\", \"valid_lm_score_sum\": \"-89694.4\", \"valid_num_pred_chars\": \"48458\", \"valid_vocab_seen_pct\": \"0.891986\", \"valid_uer\": \"100.461\", \"valid_weighted_lm_ppl\": \"75.2003\", \"valid_lm_ppl\": \"59.8323\", \"valid_wps\": \"19161.3\", \"valid_wpb\": \"3039.8\", \"valid_bsz\": \"144.2\", \"valid_num_updates\": \"76912\", \"valid_best_weighted_lm_ppl\": \"73.4256\"}\r\n"
     ]
    },
    {
     "name": "stdout",
     "output_type": "stream",
     "text": [
      "[2021-06-06 14:44:43,962][fairseq.checkpoint_utils][INFO] - Preparing to save checkpoint for epoch 4807 @ 76912 updates\r\n",
      "[2021-06-06 14:44:43,964][fairseq.trainer][INFO] - Saving checkpoint to /kaggle/working/checkpoint4807.pt\r\n",
      "[2021-06-06 14:44:44,005][fairseq.trainer][INFO] - Finished saving checkpoint to /kaggle/working/checkpoint4807.pt\r\n"
     ]
    },
    {
     "name": "stdout",
     "output_type": "stream",
     "text": [
      "[2021-06-06 14:44:44,037][fairseq.checkpoint_utils][INFO] - Saved checkpoint /kaggle/working/checkpoint4807.pt (epoch 4807 @ 76912 updates, score 75.20032514857378) (writing took 0.07448351099992578 seconds)\r\n",
      "[2021-06-06 14:44:44,040][fairseq_cli.train][INFO] - end of epoch 4807 (average epoch stats below)\r\n",
      "[2021-06-06 14:44:44,043][train][INFO] - {\"epoch\": 4807, \"train_loss\": \"3.476\", \"train_ntokens\": \"145.688\", \"train_nsentences\": \"145.688\", \"train_temp\": \"0.1\", \"train_code_ppl\": \"8.946\", \"train_loss_code_pen\": \"0.343\", \"train_loss_smoothness\": \"2.088\", \"train_loss_dense_g\": \"4.168\", \"train_lm_score_sum\": 0.0, \"train_num_pred_chars\": 0.0, \"train_loss_grad_pen\": \"0.063\", \"train_loss_dense_d\": \"0.025\", \"train_loss_token_d\": \"0.027\", \"train_wps\": \"12.1\", \"train_ups\": \"0.08\", \"train_wpb\": \"145.7\", \"train_bsz\": \"145.7\", \"train_num_updates\": \"76912\", \"train_lr_discriminator\": \"0.0005\", \"train_lr_generator\": \"0.0004\", \"train_gnorm\": \"29.671\", \"train_clip\": \"68.8\", \"train_train_wall\": \"189\", \"train_wall\": \"10547\"}\r\n"
     ]
    },
    {
     "name": "stdout",
     "output_type": "stream",
     "text": [
      "[2021-06-06 14:44:44,102][fairseq.trainer][INFO] - begin training epoch 4808\r\n",
      "[2021-06-06 14:44:44,103][fairseq_cli.train][INFO] - Start iterating over samples\r\n"
     ]
    },
    {
     "name": "stdout",
     "output_type": "stream",
     "text": [
      "[2021-06-06 14:47:59,176][fairseq_cli.train][INFO] - begin validation on \"valid\" subset\r\n"
     ]
    },
    {
     "name": "stdout",
     "output_type": "stream",
     "text": [
      "[2021-06-06 14:48:01,624][fairseq.tasks.unpaired_audio_text][INFO] - REF: ɛ n f œ ʂ ə n a d ɵ ʂ ə k t f øː r d eː t s ɔ m h ɛ n d ə p oː ɕ œ r k ɔ n s ɛ t ə n\r\n",
      "[2021-06-06 14:48:01,627][fairseq.tasks.unpaired_audio_text][INFO] - HYP: n ɛ s j œ r œ j yː ɕ b j yː œ yː k yː uː ɵ n ə m œ l b ə uː s eː r n v oː s l ɪ ŋ k l ɪ l a s ɔ k m k n\r\n",
      "[2021-06-06 14:48:01,631][fairseq.tasks.unpaired_audio_text][INFO] - LM [REF]: -53.44462585449219, 0.05339602260269112\r\n",
      "[2021-06-06 14:48:01,632][fairseq.tasks.unpaired_audio_text][INFO] - LM [HYP]: -90.62905883789062, 0.014139282466581707\r\n"
     ]
    },
    {
     "name": "stdout",
     "output_type": "stream",
     "text": [
      "[2021-06-06 14:48:02,136][valid][INFO] - {\"epoch\": 4808, \"valid_loss\": \"1.004\", \"valid_ntokens\": \"3039.79\", \"valid_nsentences\": \"144.214\", \"valid_lm_score_sum\": \"-89574.4\", \"valid_num_pred_chars\": \"48390\", \"valid_vocab_seen_pct\": \"0.888502\", \"valid_uer\": \"100.385\", \"valid_weighted_lm_ppl\": \"75.7941\", \"valid_lm_ppl\": \"59.8345\", \"valid_wps\": \"18955.1\", \"valid_wpb\": \"3039.8\", \"valid_bsz\": \"144.2\", \"valid_num_updates\": \"76928\", \"valid_best_weighted_lm_ppl\": \"73.4256\"}\r\n",
      "[2021-06-06 14:48:02,139][fairseq.checkpoint_utils][INFO] - Preparing to save checkpoint for epoch 4808 @ 76928 updates\r\n",
      "[2021-06-06 14:48:02,141][fairseq.trainer][INFO] - Saving checkpoint to /kaggle/working/checkpoint4808.pt\r\n",
      "[2021-06-06 14:48:02,179][fairseq.trainer][INFO] - Finished saving checkpoint to /kaggle/working/checkpoint4808.pt\r\n"
     ]
    },
    {
     "name": "stdout",
     "output_type": "stream",
     "text": [
      "[2021-06-06 14:48:02,212][fairseq.checkpoint_utils][INFO] - Saved checkpoint /kaggle/working/checkpoint4808.pt (epoch 4808 @ 76928 updates, score 75.79409382475778) (writing took 0.07247888300116756 seconds)\r\n",
      "[2021-06-06 14:48:02,215][fairseq_cli.train][INFO] - end of epoch 4808 (average epoch stats below)\r\n",
      "[2021-06-06 14:48:02,218][train][INFO] - {\"epoch\": 4808, \"train_loss\": \"3.176\", \"train_ntokens\": \"145.688\", \"train_nsentences\": \"145.688\", \"train_temp\": \"0.1\", \"train_code_ppl\": \"9.054\", \"train_loss_code_pen\": \"0.354\", \"train_loss_smoothness\": \"2.13\", \"train_loss_dense_g\": \"3.957\", \"train_lm_score_sum\": 0.0, \"train_num_pred_chars\": 0.0, \"train_loss_grad_pen\": \"0.092\", \"train_loss_dense_d\": \"0.025\", \"train_loss_token_d\": \"0.023\", \"train_wps\": \"11.8\", \"train_ups\": \"0.08\", \"train_wpb\": \"145.7\", \"train_bsz\": \"145.7\", \"train_num_updates\": \"76928\", \"train_lr_discriminator\": \"0.0005\", \"train_lr_generator\": \"0.0004\", \"train_gnorm\": \"29.219\", \"train_clip\": \"87.5\", \"train_train_wall\": \"195\", \"train_wall\": \"10745\"}\r\n"
     ]
    },
    {
     "name": "stdout",
     "output_type": "stream",
     "text": [
      "[2021-06-06 14:48:02,275][fairseq.trainer][INFO] - begin training epoch 4809\r\n",
      "[2021-06-06 14:48:02,277][fairseq_cli.train][INFO] - Start iterating over samples\r\n"
     ]
    },
    {
     "name": "stdout",
     "output_type": "stream",
     "text": [
      "[2021-06-06 14:51:08,836][fairseq_cli.train][INFO] - begin validation on \"valid\" subset\r\n"
     ]
    },
    {
     "name": "stdout",
     "output_type": "stream",
     "text": [
      "[2021-06-06 14:51:11,339][fairseq.tasks.unpaired_audio_text][INFO] - REF: ɛ n f œ ʂ ə n a d ɵ ʂ ə k t f øː r d eː t s ɔ m h ɛ n d ə p oː ɕ œ r k ɔ n s ɛ t ə n\r\n",
      "[2021-06-06 14:51:11,341][fairseq.tasks.unpaired_audio_text][INFO] - HYP: n ɕ ɛ s j œ r œ yː ɕ b j yː œ yː k yː uː ɵ øː yː n ə m œ k b ə uː s eː r n v oː l ɪ ŋ k l ɪ l a s ɔ k m k n\r\n",
      "[2021-06-06 14:51:11,345][fairseq.tasks.unpaired_audio_text][INFO] - LM [REF]: -53.44462585449219, 0.05339602260269112\r\n",
      "[2021-06-06 14:51:11,346][fairseq.tasks.unpaired_audio_text][INFO] - LM [HYP]: -93.62712097167969, 0.013410889390102671\r\n"
     ]
    },
    {
     "name": "stdout",
     "output_type": "stream",
     "text": [
      "[2021-06-06 14:51:11,843][valid][INFO] - {\"epoch\": 4809, \"valid_loss\": \"1.006\", \"valid_ntokens\": \"3039.79\", \"valid_nsentences\": \"144.214\", \"valid_lm_score_sum\": \"-89869.4\", \"valid_num_pred_chars\": \"48539\", \"valid_vocab_seen_pct\": \"0.893728\", \"valid_uer\": \"100.587\", \"valid_weighted_lm_ppl\": \"75.0136\", \"valid_lm_ppl\": \"59.9171\", \"valid_wps\": \"18793.4\", \"valid_wpb\": \"3039.8\", \"valid_bsz\": \"144.2\", \"valid_num_updates\": \"76944\", \"valid_best_weighted_lm_ppl\": \"73.4256\"}\r\n"
     ]
    },
    {
     "name": "stdout",
     "output_type": "stream",
     "text": [
      "[2021-06-06 14:51:11,848][fairseq.checkpoint_utils][INFO] - Preparing to save checkpoint for epoch 4809 @ 76944 updates\r\n",
      "[2021-06-06 14:51:11,850][fairseq.trainer][INFO] - Saving checkpoint to /kaggle/working/checkpoint4809.pt\r\n",
      "[2021-06-06 14:51:11,886][fairseq.trainer][INFO] - Finished saving checkpoint to /kaggle/working/checkpoint4809.pt\r\n"
     ]
    },
    {
     "name": "stdout",
     "output_type": "stream",
     "text": [
      "[2021-06-06 14:51:11,916][fairseq.checkpoint_utils][INFO] - Saved checkpoint /kaggle/working/checkpoint4809.pt (epoch 4809 @ 76944 updates, score 75.01356033642774) (writing took 0.06862519300011627 seconds)\r\n",
      "[2021-06-06 14:51:11,920][fairseq_cli.train][INFO] - end of epoch 4809 (average epoch stats below)\r\n",
      "[2021-06-06 14:51:11,923][train][INFO] - {\"epoch\": 4809, \"train_loss\": \"3.571\", \"train_ntokens\": \"145.688\", \"train_nsentences\": \"145.688\", \"train_temp\": \"0.1\", \"train_code_ppl\": \"8.947\", \"train_loss_code_pen\": \"0.316\", \"train_loss_smoothness\": \"2.022\", \"train_loss_dense_g\": \"4.407\", \"train_lm_score_sum\": 0.0, \"train_num_pred_chars\": 0.0, \"train_loss_grad_pen\": \"0.101\", \"train_loss_dense_d\": \"0.025\", \"train_loss_token_d\": \"0.029\", \"train_wps\": \"12.3\", \"train_ups\": \"0.08\", \"train_wpb\": \"145.7\", \"train_bsz\": \"145.7\", \"train_num_updates\": \"76944\", \"train_lr_discriminator\": \"0.0005\", \"train_lr_generator\": \"0.0004\", \"train_gnorm\": \"29\", \"train_clip\": \"75\", \"train_train_wall\": \"186\", \"train_wall\": \"10935\"}\r\n"
     ]
    },
    {
     "name": "stdout",
     "output_type": "stream",
     "text": [
      "[2021-06-06 14:51:11,983][fairseq.trainer][INFO] - begin training epoch 4810\r\n",
      "[2021-06-06 14:51:11,984][fairseq_cli.train][INFO] - Start iterating over samples\r\n"
     ]
    },
    {
     "name": "stdout",
     "output_type": "stream",
     "text": [
      "[2021-06-06 14:54:24,562][fairseq_cli.train][INFO] - begin validation on \"valid\" subset\r\n"
     ]
    },
    {
     "name": "stdout",
     "output_type": "stream",
     "text": [
      "[2021-06-06 14:54:27,010][fairseq.tasks.unpaired_audio_text][INFO] - REF: ɛ n f œ ʂ ə n a d ɵ ʂ ə k t f øː r d eː t s ɔ m h ɛ n d ə p oː ɕ œ r k ɔ n s ɛ t ə n\r\n",
      "[2021-06-06 14:54:27,012][fairseq.tasks.unpaired_audio_text][INFO] - HYP: n ɕ ɛ s j œ r œ j yː ɕ b j yː œ yː k yː uː ɵ yː n ə m œ l b ə uː s eː r n v oː n l ɪ ŋ k l ɪ l a s ɔ k m k n t n\r\n",
      "[2021-06-06 14:54:27,017][fairseq.tasks.unpaired_audio_text][INFO] - LM [REF]: -53.44462585449219, 0.05339602260269112\r\n",
      "[2021-06-06 14:54:27,017][fairseq.tasks.unpaired_audio_text][INFO] - LM [HYP]: -99.70624542236328, 0.013144682072048334\r\n"
     ]
    },
    {
     "name": "stdout",
     "output_type": "stream",
     "text": [
      "[2021-06-06 14:54:27,502][valid][INFO] - {\"epoch\": 4810, \"valid_loss\": \"1.006\", \"valid_ntokens\": \"3039.79\", \"valid_nsentences\": \"144.214\", \"valid_lm_score_sum\": \"-89824.8\", \"valid_num_pred_chars\": \"48478\", \"valid_vocab_seen_pct\": \"0.893728\", \"valid_uer\": \"100.632\", \"valid_weighted_lm_ppl\": \"75.232\", \"valid_lm_ppl\": \"60.0916\", \"valid_wps\": \"19164.1\", \"valid_wpb\": \"3039.8\", \"valid_bsz\": \"144.2\", \"valid_num_updates\": \"76960\", \"valid_best_weighted_lm_ppl\": \"73.4256\"}\r\n",
      "[2021-06-06 14:54:27,505][fairseq.checkpoint_utils][INFO] - Preparing to save checkpoint for epoch 4810 @ 76960 updates\r\n",
      "[2021-06-06 14:54:27,507][fairseq.trainer][INFO] - Saving checkpoint to /kaggle/working/checkpoint4810.pt\r\n",
      "[2021-06-06 14:54:27,543][fairseq.trainer][INFO] - Finished saving checkpoint to /kaggle/working/checkpoint4810.pt\r\n"
     ]
    },
    {
     "name": "stdout",
     "output_type": "stream",
     "text": [
      "[2021-06-06 14:54:27,574][fairseq.checkpoint_utils][INFO] - Saved checkpoint /kaggle/working/checkpoint4810.pt (epoch 4810 @ 76960 updates, score 75.23204648456374) (writing took 0.06893920400034403 seconds)\r\n",
      "[2021-06-06 14:54:27,579][fairseq_cli.train][INFO] - end of epoch 4810 (average epoch stats below)\r\n",
      "[2021-06-06 14:54:27,583][train][INFO] - {\"epoch\": 4810, \"train_loss\": \"3.25\", \"train_ntokens\": \"145.688\", \"train_nsentences\": \"145.688\", \"train_temp\": \"0.1\", \"train_code_ppl\": \"9.005\", \"train_loss_code_pen\": \"0.327\", \"train_loss_smoothness\": \"2.065\", \"train_loss_dense_g\": \"4.185\", \"train_lm_score_sum\": 0.0, \"train_num_pred_chars\": 0.0, \"train_loss_grad_pen\": \"0.109\", \"train_loss_dense_d\": \"0.026\", \"train_loss_token_d\": \"0.022\", \"train_wps\": \"11.9\", \"train_ups\": \"0.08\", \"train_wpb\": \"145.7\", \"train_bsz\": \"145.7\", \"train_num_updates\": \"76960\", \"train_lr_discriminator\": \"0.0005\", \"train_lr_generator\": \"0.0004\", \"train_gnorm\": \"29.759\", \"train_clip\": \"87.5\", \"train_train_wall\": \"192\", \"train_wall\": \"11131\"}\r\n"
     ]
    },
    {
     "name": "stdout",
     "output_type": "stream",
     "text": [
      "[2021-06-06 14:54:27,658][fairseq.trainer][INFO] - begin training epoch 4811\r\n",
      "[2021-06-06 14:54:27,659][fairseq_cli.train][INFO] - Start iterating over samples\r\n"
     ]
    },
    {
     "name": "stdout",
     "output_type": "stream",
     "text": [
      "[2021-06-06 14:57:44,352][fairseq_cli.train][INFO] - begin validation on \"valid\" subset\r\n"
     ]
    },
    {
     "name": "stdout",
     "output_type": "stream",
     "text": [
      "[2021-06-06 14:57:47,061][fairseq.tasks.unpaired_audio_text][INFO] - REF: ɛ n f œ ʂ ə n a d ɵ ʂ ə k t f øː r d eː t s ɔ m h ɛ n d ə p oː ɕ œ r k ɔ n s ɛ t ə n\r\n",
      "[2021-06-06 14:57:47,063][fairseq.tasks.unpaired_audio_text][INFO] - HYP: n ɛ s j œ r œ j yː ɕ b j yː œ yː k yː uː ɵ øː yː n ə m œ k b ə uː s eː r n v oː s l ɪ ŋ k l ɪ l a s ɔ k m k n\r\n",
      "[2021-06-06 14:57:47,068][fairseq.tasks.unpaired_audio_text][INFO] - LM [REF]: -53.44462585449219, 0.05339602260269112\r\n",
      "[2021-06-06 14:57:47,068][fairseq.tasks.unpaired_audio_text][INFO] - LM [HYP]: -95.61945343017578, 0.013338554151748618\r\n"
     ]
    },
    {
     "name": "stdout",
     "output_type": "stream",
     "text": [
      "[2021-06-06 14:57:47,571][valid][INFO] - {\"epoch\": 4811, \"valid_loss\": \"1.006\", \"valid_ntokens\": \"3039.79\", \"valid_nsentences\": \"144.214\", \"valid_lm_score_sum\": \"-90017.1\", \"valid_num_pred_chars\": \"48538\", \"valid_vocab_seen_pct\": \"0.897213\", \"valid_uer\": \"100.552\", \"valid_weighted_lm_ppl\": \"74.9403\", \"valid_lm_ppl\": \"60.3262\", \"valid_wps\": \"18180.5\", \"valid_wpb\": \"3039.8\", \"valid_bsz\": \"144.2\", \"valid_num_updates\": \"76976\", \"valid_best_weighted_lm_ppl\": \"73.4256\"}\r\n",
      "[2021-06-06 14:57:47,575][fairseq.checkpoint_utils][INFO] - Preparing to save checkpoint for epoch 4811 @ 76976 updates\r\n",
      "[2021-06-06 14:57:47,576][fairseq.trainer][INFO] - Saving checkpoint to /kaggle/working/checkpoint4811.pt\r\n"
     ]
    },
    {
     "name": "stdout",
     "output_type": "stream",
     "text": [
      "[2021-06-06 14:57:47,616][fairseq.trainer][INFO] - Finished saving checkpoint to /kaggle/working/checkpoint4811.pt\r\n"
     ]
    },
    {
     "name": "stdout",
     "output_type": "stream",
     "text": [
      "[2021-06-06 14:57:47,647][fairseq.checkpoint_utils][INFO] - Saved checkpoint /kaggle/working/checkpoint4811.pt (epoch 4811 @ 76976 updates, score 74.9403120886667) (writing took 0.0721412959992449 seconds)\r\n",
      "[2021-06-06 14:57:47,650][fairseq_cli.train][INFO] - end of epoch 4811 (average epoch stats below)\r\n",
      "[2021-06-06 14:57:47,653][train][INFO] - {\"epoch\": 4811, \"train_loss\": \"3.282\", \"train_ntokens\": \"145.688\", \"train_nsentences\": \"145.688\", \"train_temp\": \"0.1\", \"train_code_ppl\": \"9.042\", \"train_loss_code_pen\": \"0.34\", \"train_loss_smoothness\": \"2.094\", \"train_loss_dense_g\": \"4.254\", \"train_lm_score_sum\": 0.0, \"train_num_pred_chars\": 0.0, \"train_loss_grad_pen\": \"0.072\", \"train_loss_dense_d\": \"0.021\", \"train_loss_token_d\": \"0.024\", \"train_wps\": \"11.7\", \"train_ups\": \"0.08\", \"train_wpb\": \"145.7\", \"train_bsz\": \"145.7\", \"train_num_updates\": \"76976\", \"train_lr_discriminator\": \"0.0005\", \"train_lr_generator\": \"0.0004\", \"train_gnorm\": \"29.174\", \"train_clip\": \"81.2\", \"train_train_wall\": \"196\", \"train_wall\": \"11331\"}\r\n"
     ]
    },
    {
     "name": "stdout",
     "output_type": "stream",
     "text": [
      "[2021-06-06 14:57:47,715][fairseq.trainer][INFO] - begin training epoch 4812\r\n",
      "[2021-06-06 14:57:47,716][fairseq_cli.train][INFO] - Start iterating over samples\r\n"
     ]
    },
    {
     "name": "stdout",
     "output_type": "stream",
     "text": [
      "[2021-06-06 15:00:58,358][fairseq_cli.train][INFO] - begin validation on \"valid\" subset\r\n"
     ]
    },
    {
     "name": "stdout",
     "output_type": "stream",
     "text": [
      "[2021-06-06 15:01:00,895][fairseq.tasks.unpaired_audio_text][INFO] - REF: ɛ n f œ ʂ ə n a d ɵ ʂ ə k t f øː r d eː t s ɔ m h ɛ n d ə p oː ɕ œ r k ɔ n s ɛ t ə n\r\n",
      "[2021-06-06 15:01:00,897][fairseq.tasks.unpaired_audio_text][INFO] - HYP: n ɕ ɛ s j œ r œ j yː b j œ yː k ɵ uː ɵ v n ə m œ k b ə uː s eː r n v oː s l ɪ ŋ k l ɪ l a ɔ k m k n t n\r\n",
      "[2021-06-06 15:01:00,902][fairseq.tasks.unpaired_audio_text][INFO] - LM [REF]: -53.44462585449219, 0.05339602260269112\r\n",
      "[2021-06-06 15:01:00,902][fairseq.tasks.unpaired_audio_text][INFO] - LM [HYP]: -91.73627471923828, 0.01463101668636683\r\n"
     ]
    },
    {
     "name": "stdout",
     "output_type": "stream",
     "text": [
      "[2021-06-06 15:01:01,398][valid][INFO] - {\"epoch\": 4812, \"valid_loss\": \"1.004\", \"valid_ntokens\": \"3039.79\", \"valid_nsentences\": \"144.214\", \"valid_lm_score_sum\": \"-89550.7\", \"valid_num_pred_chars\": \"48254\", \"valid_vocab_seen_pct\": \"0.898955\", \"valid_uer\": \"100.414\", \"valid_weighted_lm_ppl\": \"74.7846\", \"valid_lm_ppl\": \"60.4349\", \"valid_wps\": \"18034.9\", \"valid_wpb\": \"3039.8\", \"valid_bsz\": \"144.2\", \"valid_num_updates\": \"76992\", \"valid_best_weighted_lm_ppl\": \"73.4256\"}\r\n",
      "[2021-06-06 15:01:01,401][fairseq.checkpoint_utils][INFO] - Preparing to save checkpoint for epoch 4812 @ 76992 updates\r\n",
      "[2021-06-06 15:01:01,403][fairseq.trainer][INFO] - Saving checkpoint to /kaggle/working/checkpoint4812.pt\r\n"
     ]
    },
    {
     "name": "stdout",
     "output_type": "stream",
     "text": [
      "[2021-06-06 15:01:01,442][fairseq.trainer][INFO] - Finished saving checkpoint to /kaggle/working/checkpoint4812.pt\r\n",
      "[2021-06-06 15:01:01,471][fairseq.checkpoint_utils][INFO] - Saved checkpoint /kaggle/working/checkpoint4812.pt (epoch 4812 @ 76992 updates, score 74.78461830861191) (writing took 0.06978868799888005 seconds)\r\n",
      "[2021-06-06 15:01:01,474][fairseq_cli.train][INFO] - end of epoch 4812 (average epoch stats below)\r\n",
      "[2021-06-06 15:01:01,477][train][INFO] - {\"epoch\": 4812, \"train_loss\": \"3.225\", \"train_ntokens\": \"145.688\", \"train_nsentences\": \"145.688\", \"train_temp\": \"0.1\", \"train_code_ppl\": \"9.149\", \"train_loss_code_pen\": \"0.338\", \"train_loss_smoothness\": \"2.082\", \"train_loss_dense_g\": \"4.163\", \"train_lm_score_sum\": 0.0, \"train_num_pred_chars\": 0.0, \"train_loss_grad_pen\": \"0.054\", \"train_loss_dense_d\": \"0.024\", \"train_loss_token_d\": \"0.027\", \"train_wps\": \"12\", \"train_ups\": \"0.08\", \"train_wpb\": \"145.7\", \"train_bsz\": \"145.7\", \"train_num_updates\": \"76992\", \"train_lr_discriminator\": \"0.0005\", \"train_lr_generator\": \"0.0004\", \"train_gnorm\": \"27.861\", \"train_clip\": \"56.2\", \"train_train_wall\": \"190\", \"train_wall\": \"11524\"}\r\n"
     ]
    },
    {
     "name": "stdout",
     "output_type": "stream",
     "text": [
      "[2021-06-06 15:01:01,539][fairseq.trainer][INFO] - begin training epoch 4813\r\n",
      "[2021-06-06 15:01:01,540][fairseq_cli.train][INFO] - Start iterating over samples\r\n"
     ]
    },
    {
     "name": "stdout",
     "output_type": "stream",
     "text": [
      "[2021-06-06 15:02:27,079][train_inner][INFO] - {\"epoch\": 4813, \"update\": 4812.5, \"loss\": \"3.36\", \"ntokens\": \"144.69\", \"nsentences\": \"144.69\", \"temp\": \"0.1\", \"code_ppl\": \"9.027\", \"loss_code_pen\": \"0.336\", \"loss_smoothness\": \"2.078\", \"loss_dense_g\": \"4.179\", \"lm_score_sum\": 0.0, \"num_pred_chars\": 0.0, \"loss_grad_pen\": \"0.083\", \"loss_dense_d\": \"0.024\", \"loss_token_d\": \"0.025\", \"wps\": \"12\", \"ups\": \"0.08\", \"wpb\": \"144.7\", \"bsz\": \"144.7\", \"num_updates\": \"77000\", \"lr_discriminator\": \"0.0005\", \"lr_generator\": \"0.0004\", \"gnorm\": \"29.332\", \"clip\": \"78\", \"train_wall\": \"1179\", \"wall\": \"11610\"}\r\n"
     ]
    },
    {
     "name": "stdout",
     "output_type": "stream",
     "text": [
      "[2021-06-06 15:04:03,187][fairseq_cli.train][INFO] - begin validation on \"valid\" subset\r\n"
     ]
    },
    {
     "name": "stdout",
     "output_type": "stream",
     "text": [
      "[2021-06-06 15:04:05,607][fairseq.tasks.unpaired_audio_text][INFO] - REF: ɛ n f œ ʂ ə n a d ɵ ʂ ə k t f øː r d eː t s ɔ m h ɛ n d ə p oː ɕ œ r k ɔ n s ɛ t ə n\r\n",
      "[2021-06-06 15:04:05,610][fairseq.tasks.unpaired_audio_text][INFO] - HYP: n ɛ s j œ r œ j yː ɕ b j œ yː k yː uː ɵ v n ə v œ k b uː s eː r n v oː s l ɪ ŋ k l ɪ l a ɔ k m k n\r\n",
      "[2021-06-06 15:04:05,613][fairseq.tasks.unpaired_audio_text][INFO] - LM [REF]: -53.44462585449219, 0.05339602260269112\r\n",
      "[2021-06-06 15:04:05,614][fairseq.tasks.unpaired_audio_text][INFO] - LM [HYP]: -87.7429428100586, 0.013587165843329274\r\n"
     ]
    },
    {
     "name": "stdout",
     "output_type": "stream",
     "text": [
      "[2021-06-06 15:04:06,094][valid][INFO] - {\"epoch\": 4813, \"valid_loss\": \"1.006\", \"valid_ntokens\": \"3039.79\", \"valid_nsentences\": \"144.214\", \"valid_lm_score_sum\": \"-89814.6\", \"valid_num_pred_chars\": \"48415\", \"valid_vocab_seen_pct\": \"0.897213\", \"valid_uer\": \"100.564\", \"valid_weighted_lm_ppl\": \"74.997\", \"valid_lm_ppl\": \"60.3718\", \"valid_wps\": \"19415.8\", \"valid_wpb\": \"3039.8\", \"valid_bsz\": \"144.2\", \"valid_num_updates\": \"77008\", \"valid_best_weighted_lm_ppl\": \"73.4256\"}\r\n",
      "[2021-06-06 15:04:06,098][fairseq.checkpoint_utils][INFO] - Preparing to save checkpoint for epoch 4813 @ 77008 updates\r\n",
      "[2021-06-06 15:04:06,099][fairseq.trainer][INFO] - Saving checkpoint to /kaggle/working/checkpoint4813.pt\r\n",
      "[2021-06-06 15:04:06,137][fairseq.trainer][INFO] - Finished saving checkpoint to /kaggle/working/checkpoint4813.pt\r\n"
     ]
    },
    {
     "name": "stdout",
     "output_type": "stream",
     "text": [
      "[2021-06-06 15:04:06,168][fairseq.checkpoint_utils][INFO] - Saved checkpoint /kaggle/working/checkpoint4813.pt (epoch 4813 @ 77008 updates, score 74.99697632989385) (writing took 0.07058418799897481 seconds)\r\n",
      "[2021-06-06 15:04:06,171][fairseq_cli.train][INFO] - end of epoch 4813 (average epoch stats below)\r\n",
      "[2021-06-06 15:04:06,174][train][INFO] - {\"epoch\": 4813, \"train_loss\": \"3.728\", \"train_ntokens\": \"145.688\", \"train_nsentences\": \"145.688\", \"train_temp\": \"0.1\", \"train_code_ppl\": \"8.849\", \"train_loss_code_pen\": \"0.331\", \"train_loss_smoothness\": \"2.081\", \"train_loss_dense_g\": \"4.279\", \"train_lm_score_sum\": 0.0, \"train_num_pred_chars\": 0.0, \"train_loss_grad_pen\": \"0.068\", \"train_loss_dense_d\": \"0.025\", \"train_loss_token_d\": \"0.027\", \"train_wps\": \"12.6\", \"train_ups\": \"0.09\", \"train_wpb\": \"145.7\", \"train_bsz\": \"145.7\", \"train_num_updates\": \"77008\", \"train_lr_discriminator\": \"0.0005\", \"train_lr_generator\": \"0.0004\", \"train_gnorm\": \"29.824\", \"train_clip\": \"75\", \"train_train_wall\": \"181\", \"train_wall\": \"11709\"}\r\n"
     ]
    },
    {
     "name": "stdout",
     "output_type": "stream",
     "text": [
      "[2021-06-06 15:04:06,235][fairseq.trainer][INFO] - begin training epoch 4814\r\n",
      "[2021-06-06 15:04:06,236][fairseq_cli.train][INFO] - Start iterating over samples\r\n"
     ]
    },
    {
     "name": "stdout",
     "output_type": "stream",
     "text": [
      "[2021-06-06 15:07:10,079][fairseq_cli.train][INFO] - begin validation on \"valid\" subset\r\n"
     ]
    },
    {
     "name": "stdout",
     "output_type": "stream",
     "text": [
      "[2021-06-06 15:07:12,460][fairseq.tasks.unpaired_audio_text][INFO] - REF: ɛ n f œ ʂ ə n a d ɵ ʂ ə k t f øː r d eː t s ɔ m h ɛ n d ə p oː ɕ œ r k ɔ n s ɛ t ə n\r\n",
      "[2021-06-06 15:07:12,463][fairseq.tasks.unpaired_audio_text][INFO] - HYP: uː ɛ s j œ f œ j yː ɕ b j yː œ yː k ɵ uː ɵ v n ə v œ k b ə uː s eː r n v oː s l ɪ ŋ k l ɪ l a s ɔ k m ʉ n a\r\n",
      "[2021-06-06 15:07:12,467][fairseq.tasks.unpaired_audio_text][INFO] - LM [REF]: -53.44462585449219, 0.05339602260269112\r\n",
      "[2021-06-06 15:07:12,467][fairseq.tasks.unpaired_audio_text][INFO] - LM [HYP]: -95.9375228881836, 0.013148375553770983\r\n"
     ]
    },
    {
     "name": "stdout",
     "output_type": "stream",
     "text": [
      "[2021-06-06 15:07:12,949][valid][INFO] - {\"epoch\": 4814, \"valid_loss\": \"1.007\", \"valid_ntokens\": \"3039.79\", \"valid_nsentences\": \"144.214\", \"valid_lm_score_sum\": \"-90072.9\", \"valid_num_pred_chars\": \"48597\", \"valid_vocab_seen_pct\": \"0.897213\", \"valid_uer\": \"100.693\", \"valid_weighted_lm_ppl\": \"74.7729\", \"valid_lm_ppl\": \"60.1914\", \"valid_wps\": \"19553.9\", \"valid_wpb\": \"3039.8\", \"valid_bsz\": \"144.2\", \"valid_num_updates\": \"77024\", \"valid_best_weighted_lm_ppl\": \"73.4256\"}\r\n",
      "[2021-06-06 15:07:12,952][fairseq.checkpoint_utils][INFO] - Preparing to save checkpoint for epoch 4814 @ 77024 updates\r\n",
      "[2021-06-06 15:07:12,953][fairseq.trainer][INFO] - Saving checkpoint to /kaggle/working/checkpoint4814.pt\r\n"
     ]
    },
    {
     "name": "stdout",
     "output_type": "stream",
     "text": [
      "[2021-06-06 15:07:12,993][fairseq.trainer][INFO] - Finished saving checkpoint to /kaggle/working/checkpoint4814.pt\r\n"
     ]
    },
    {
     "name": "stdout",
     "output_type": "stream",
     "text": [
      "[2021-06-06 15:07:13,023][fairseq.checkpoint_utils][INFO] - Saved checkpoint /kaggle/working/checkpoint4814.pt (epoch 4814 @ 77024 updates, score 74.77286884583313) (writing took 0.07105168999987654 seconds)\r\n",
      "[2021-06-06 15:07:13,027][fairseq_cli.train][INFO] - end of epoch 4814 (average epoch stats below)\r\n",
      "[2021-06-06 15:07:13,030][train][INFO] - {\"epoch\": 4814, \"train_loss\": \"3.477\", \"train_ntokens\": \"145.688\", \"train_nsentences\": \"145.688\", \"train_temp\": \"0.1\", \"train_code_ppl\": \"9.076\", \"train_loss_code_pen\": \"0.319\", \"train_loss_smoothness\": \"2.045\", \"train_loss_dense_g\": \"4.235\", \"train_lm_score_sum\": 0.0, \"train_num_pred_chars\": 0.0, \"train_loss_grad_pen\": \"0.069\", \"train_loss_dense_d\": \"0.026\", \"train_loss_token_d\": \"0.025\", \"train_wps\": \"12.5\", \"train_ups\": \"0.09\", \"train_wpb\": \"145.7\", \"train_bsz\": \"145.7\", \"train_num_updates\": \"77024\", \"train_lr_discriminator\": \"0.0005\", \"train_lr_generator\": \"0.0004\", \"train_gnorm\": \"29.534\", \"train_clip\": \"68.8\", \"train_train_wall\": \"183\", \"train_wall\": \"11896\"}\r\n"
     ]
    },
    {
     "name": "stdout",
     "output_type": "stream",
     "text": [
      "[2021-06-06 15:07:13,089][fairseq.trainer][INFO] - begin training epoch 4815\r\n",
      "[2021-06-06 15:07:13,091][fairseq_cli.train][INFO] - Start iterating over samples\r\n"
     ]
    },
    {
     "name": "stdout",
     "output_type": "stream",
     "text": [
      "[2021-06-06 15:10:37,189][fairseq_cli.train][INFO] - begin validation on \"valid\" subset\r\n"
     ]
    },
    {
     "name": "stdout",
     "output_type": "stream",
     "text": [
      "[2021-06-06 15:10:39,619][fairseq.tasks.unpaired_audio_text][INFO] - REF: ɛ n f œ ʂ ə n a d ɵ ʂ ə k t f øː r d eː t s ɔ m h ɛ n d ə p oː ɕ œ r k ɔ n s ɛ t ə n\r\n",
      "[2021-06-06 15:10:39,621][fairseq.tasks.unpaired_audio_text][INFO] - HYP: n ɛ s j œ f œ ɕ b j uː œ yː k yː uː ɵ øː n ə m œ k b ə uː s eː r n v oː s l ɪ ŋ k l ɪ l a s ɔ m ʉ n t a\r\n",
      "[2021-06-06 15:10:39,625][fairseq.tasks.unpaired_audio_text][INFO] - LM [REF]: -53.44462585449219, 0.05339602260269112\r\n",
      "[2021-06-06 15:10:39,625][fairseq.tasks.unpaired_audio_text][INFO] - LM [HYP]: -88.77875518798828, 0.015423703561171741\r\n"
     ]
    },
    {
     "name": "stdout",
     "output_type": "stream",
     "text": [
      "[2021-06-06 15:10:40,106][valid][INFO] - {\"epoch\": 4815, \"valid_loss\": \"1.006\", \"valid_ntokens\": \"3039.79\", \"valid_nsentences\": \"144.214\", \"valid_lm_score_sum\": \"-89848.5\", \"valid_num_pred_chars\": \"48496\", \"valid_vocab_seen_pct\": \"0.89547\", \"valid_uer\": \"100.62\", \"valid_weighted_lm_ppl\": \"74.9113\", \"valid_lm_ppl\": \"60.069\", \"valid_wps\": \"19052.6\", \"valid_wpb\": \"3039.8\", \"valid_bsz\": \"144.2\", \"valid_num_updates\": \"77040\", \"valid_best_weighted_lm_ppl\": \"73.4256\"}\r\n",
      "[2021-06-06 15:10:40,110][fairseq.checkpoint_utils][INFO] - Preparing to save checkpoint for epoch 4815 @ 77040 updates\r\n",
      "[2021-06-06 15:10:40,111][fairseq.trainer][INFO] - Saving checkpoint to /kaggle/working/checkpoint4815.pt\r\n"
     ]
    },
    {
     "name": "stdout",
     "output_type": "stream",
     "text": [
      "[2021-06-06 15:10:40,150][fairseq.trainer][INFO] - Finished saving checkpoint to /kaggle/working/checkpoint4815.pt\r\n"
     ]
    },
    {
     "name": "stdout",
     "output_type": "stream",
     "text": [
      "[2021-06-06 15:10:40,180][fairseq.checkpoint_utils][INFO] - Saved checkpoint /kaggle/working/checkpoint4815.pt (epoch 4815 @ 77040 updates, score 74.9113473838038) (writing took 0.07000745600089431 seconds)\r\n",
      "[2021-06-06 15:10:40,183][fairseq_cli.train][INFO] - end of epoch 4815 (average epoch stats below)\r\n",
      "[2021-06-06 15:10:40,186][train][INFO] - {\"epoch\": 4815, \"train_loss\": \"3.17\", \"train_ntokens\": \"145.688\", \"train_nsentences\": \"145.688\", \"train_temp\": \"0.1\", \"train_code_ppl\": \"8.729\", \"train_loss_code_pen\": \"0.328\", \"train_loss_smoothness\": \"2.067\", \"train_loss_dense_g\": \"4.042\", \"train_lm_score_sum\": 0.0, \"train_num_pred_chars\": 0.0, \"train_loss_grad_pen\": \"0.085\", \"train_loss_dense_d\": \"0.026\", \"train_loss_token_d\": \"0.024\", \"train_wps\": \"11.3\", \"train_ups\": \"0.08\", \"train_wpb\": \"145.7\", \"train_bsz\": \"145.7\", \"train_num_updates\": \"77040\", \"train_lr_discriminator\": \"0.0005\", \"train_lr_generator\": \"0.0004\", \"train_gnorm\": \"28.84\", \"train_clip\": \"68.8\", \"train_train_wall\": \"204\", \"train_wall\": \"12103\"}\r\n"
     ]
    },
    {
     "name": "stdout",
     "output_type": "stream",
     "text": [
      "[2021-06-06 15:10:40,244][fairseq.trainer][INFO] - begin training epoch 4816\r\n",
      "[2021-06-06 15:10:40,246][fairseq_cli.train][INFO] - Start iterating over samples\r\n"
     ]
    },
    {
     "name": "stdout",
     "output_type": "stream",
     "text": [
      "[2021-06-06 15:14:10,760][fairseq_cli.train][INFO] - begin validation on \"valid\" subset\r\n"
     ]
    },
    {
     "name": "stdout",
     "output_type": "stream",
     "text": [
      "[2021-06-06 15:14:13,168][fairseq.tasks.unpaired_audio_text][INFO] - REF: ɛ n f œ ʂ ə n a d ɵ ʂ ə k t f øː r d eː t s ɔ m h ɛ n d ə p oː ɕ œ r k ɔ n s ɛ t ə n\r\n",
      "[2021-06-06 15:14:13,171][fairseq.tasks.unpaired_audio_text][INFO] - HYP: n ɛ s j œ f œ j yː b j yː œ yː k ɵ uː ɵ øː yː n ə v œ k b uː s eː r n v oː s l ɪ ŋ k l ɪ l a s ɔ m ʉ n t a\r\n",
      "[2021-06-06 15:14:13,175][fairseq.tasks.unpaired_audio_text][INFO] - LM [REF]: -53.44462585449219, 0.05339602260269112\r\n",
      "[2021-06-06 15:14:13,175][fairseq.tasks.unpaired_audio_text][INFO] - LM [HYP]: -91.7105484008789, 0.014648360920128728\r\n"
     ]
    },
    {
     "name": "stdout",
     "output_type": "stream",
     "text": [
      "[2021-06-06 15:14:13,662][valid][INFO] - {\"epoch\": 4816, \"valid_loss\": \"1.003\", \"valid_ntokens\": \"3039.79\", \"valid_nsentences\": \"144.214\", \"valid_lm_score_sum\": \"-89639.9\", \"valid_num_pred_chars\": \"48271\", \"valid_vocab_seen_pct\": \"0.885017\", \"valid_uer\": \"100.313\", \"valid_weighted_lm_ppl\": \"77.3669\", \"valid_lm_ppl\": \"60.5981\", \"valid_wps\": \"19248.2\", \"valid_wpb\": \"3039.8\", \"valid_bsz\": \"144.2\", \"valid_num_updates\": \"77056\", \"valid_best_weighted_lm_ppl\": \"73.4256\"}\r\n",
      "[2021-06-06 15:14:13,665][fairseq.checkpoint_utils][INFO] - Preparing to save checkpoint for epoch 4816 @ 77056 updates\r\n",
      "[2021-06-06 15:14:13,667][fairseq.trainer][INFO] - Saving checkpoint to /kaggle/working/checkpoint4816.pt\r\n",
      "[2021-06-06 15:14:13,705][fairseq.trainer][INFO] - Finished saving checkpoint to /kaggle/working/checkpoint4816.pt\r\n"
     ]
    },
    {
     "name": "stdout",
     "output_type": "stream",
     "text": [
      "[2021-06-06 15:14:13,737][fairseq.checkpoint_utils][INFO] - Saved checkpoint /kaggle/working/checkpoint4816.pt (epoch 4816 @ 77056 updates, score 77.36693677541676) (writing took 0.07190135699966049 seconds)\r\n",
      "[2021-06-06 15:14:13,741][fairseq_cli.train][INFO] - end of epoch 4816 (average epoch stats below)\r\n",
      "[2021-06-06 15:14:13,744][train][INFO] - {\"epoch\": 4816, \"train_loss\": \"3.052\", \"train_ntokens\": \"145.688\", \"train_nsentences\": \"145.688\", \"train_temp\": \"0.1\", \"train_code_ppl\": \"9.096\", \"train_loss_code_pen\": \"0.349\", \"train_loss_smoothness\": \"2.1\", \"train_loss_dense_g\": \"4.203\", \"train_lm_score_sum\": 0.0, \"train_num_pred_chars\": 0.0, \"train_loss_grad_pen\": \"0.052\", \"train_loss_dense_d\": \"0.022\", \"train_loss_token_d\": \"0.023\", \"train_wps\": \"10.9\", \"train_ups\": \"0.07\", \"train_wpb\": \"145.7\", \"train_bsz\": \"145.7\", \"train_num_updates\": \"77056\", \"train_lr_discriminator\": \"0.0005\", \"train_lr_generator\": \"0.0004\", \"train_gnorm\": \"28.196\", \"train_clip\": \"62.5\", \"train_train_wall\": \"210\", \"train_wall\": \"12317\"}\r\n"
     ]
    },
    {
     "name": "stdout",
     "output_type": "stream",
     "text": [
      "[2021-06-06 15:14:13,801][fairseq.trainer][INFO] - begin training epoch 4817\r\n",
      "[2021-06-06 15:14:13,803][fairseq_cli.train][INFO] - Start iterating over samples\r\n"
     ]
    },
    {
     "name": "stdout",
     "output_type": "stream",
     "text": [
      "[2021-06-06 15:17:29,864][fairseq_cli.train][INFO] - begin validation on \"valid\" subset\r\n"
     ]
    },
    {
     "name": "stdout",
     "output_type": "stream",
     "text": [
      "[2021-06-06 15:17:32,301][fairseq.tasks.unpaired_audio_text][INFO] - REF: ɛ n f œ ʂ ə n a d ɵ ʂ ə k t f øː r d eː t s ɔ m h ɛ n d ə p oː ɕ œ r k ɔ n s ɛ t ə n\r\n",
      "[2021-06-06 15:17:32,303][fairseq.tasks.unpaired_audio_text][INFO] - HYP: n ɛ s j œ r œ yː ɕ b j yː œ yː k ɵ uː ɵ øː ə v œ k b uː s eː r n v oː s l ɪ ŋ k l ɪ l a s ɔ k m ʉ n t a\r\n",
      "[2021-06-06 15:17:32,308][fairseq.tasks.unpaired_audio_text][INFO] - LM [REF]: -53.44462585449219, 0.05339602260269112\r\n",
      "[2021-06-06 15:17:32,308][fairseq.tasks.unpaired_audio_text][INFO] - LM [HYP]: -90.5390396118164, 0.01419922031395537\r\n"
     ]
    },
    {
     "name": "stdout",
     "output_type": "stream",
     "text": [
      "[2021-06-06 15:17:32,803][valid][INFO] - {\"epoch\": 4817, \"valid_loss\": \"1.005\", \"valid_ntokens\": \"3039.79\", \"valid_nsentences\": \"144.214\", \"valid_lm_score_sum\": \"-89744.8\", \"valid_num_pred_chars\": \"48328\", \"valid_vocab_seen_pct\": \"0.885017\", \"valid_uer\": \"100.472\", \"valid_weighted_lm_ppl\": \"77.3788\", \"valid_lm_ppl\": \"60.6074\", \"valid_wps\": \"18848.6\", \"valid_wpb\": \"3039.8\", \"valid_bsz\": \"144.2\", \"valid_num_updates\": \"77072\", \"valid_best_weighted_lm_ppl\": \"73.4256\"}\r\n",
      "[2021-06-06 15:17:32,806][fairseq.checkpoint_utils][INFO] - Preparing to save checkpoint for epoch 4817 @ 77072 updates\r\n",
      "[2021-06-06 15:17:32,808][fairseq.trainer][INFO] - Saving checkpoint to /kaggle/working/checkpoint4817.pt\r\n"
     ]
    },
    {
     "name": "stdout",
     "output_type": "stream",
     "text": [
      "[2021-06-06 15:17:32,848][fairseq.trainer][INFO] - Finished saving checkpoint to /kaggle/working/checkpoint4817.pt\r\n",
      "[2021-06-06 15:17:32,880][fairseq.checkpoint_utils][INFO] - Saved checkpoint /kaggle/working/checkpoint4817.pt (epoch 4817 @ 77072 updates, score 77.37875495901397) (writing took 0.07416284200007794 seconds)\r\n",
      "[2021-06-06 15:17:32,884][fairseq_cli.train][INFO] - end of epoch 4817 (average epoch stats below)\r\n",
      "[2021-06-06 15:17:32,887][train][INFO] - {\"epoch\": 4817, \"train_loss\": \"3.261\", \"train_ntokens\": \"145.688\", \"train_nsentences\": \"145.688\", \"train_temp\": \"0.1\", \"train_code_ppl\": \"9.167\", \"train_loss_code_pen\": \"0.356\", \"train_loss_smoothness\": \"2.145\", \"train_loss_dense_g\": \"4.15\", \"train_lm_score_sum\": 0.0, \"train_num_pred_chars\": 0.0, \"train_loss_grad_pen\": \"0.065\", \"train_loss_dense_d\": \"0.022\", \"train_loss_token_d\": \"0.023\", \"train_wps\": \"11.7\", \"train_ups\": \"0.08\", \"train_wpb\": \"145.7\", \"train_bsz\": \"145.7\", \"train_num_updates\": \"77072\", \"train_lr_discriminator\": \"0.0005\", \"train_lr_generator\": \"0.0004\", \"train_gnorm\": \"28.494\", \"train_clip\": \"62.5\", \"train_train_wall\": \"196\", \"train_wall\": \"12516\"}\r\n"
     ]
    },
    {
     "name": "stdout",
     "output_type": "stream",
     "text": [
      "[2021-06-06 15:17:32,948][fairseq.trainer][INFO] - begin training epoch 4818\r\n",
      "[2021-06-06 15:17:32,949][fairseq_cli.train][INFO] - Start iterating over samples\r\n"
     ]
    },
    {
     "name": "stdout",
     "output_type": "stream",
     "text": [
      "[2021-06-06 15:20:44,837][fairseq_cli.train][INFO] - begin validation on \"valid\" subset\r\n"
     ]
    },
    {
     "name": "stdout",
     "output_type": "stream",
     "text": [
      "[2021-06-06 15:20:47,646][fairseq.tasks.unpaired_audio_text][INFO] - REF: ɛ n f œ ʂ ə n a d ɵ ʂ ə k t f øː r d eː t s ɔ m h ɛ n d ə p oː ɕ œ r k ɔ n s ɛ t ə n\r\n",
      "[2021-06-06 15:20:47,649][fairseq.tasks.unpaired_audio_text][INFO] - HYP: n ɡ ɛ s j œ r œ j yː ɕ b j yː œ yː k ɵ uː ɵ øː v n ə m œ l b uː s eː r n v oː s l ɪ ŋ k l ɪ l a s ɔ k m ʉ n a\r\n",
      "[2021-06-06 15:20:47,653][fairseq.tasks.unpaired_audio_text][INFO] - LM [REF]: -53.44462585449219, 0.05339602260269112\r\n",
      "[2021-06-06 15:20:47,654][fairseq.tasks.unpaired_audio_text][INFO] - LM [HYP]: -94.84168243408203, 0.015001044233239119\r\n"
     ]
    },
    {
     "name": "stdout",
     "output_type": "stream",
     "text": [
      "[2021-06-06 15:20:48,150][valid][INFO] - {\"epoch\": 4818, \"valid_loss\": \"1.004\", \"valid_ntokens\": \"3039.79\", \"valid_nsentences\": \"144.214\", \"valid_lm_score_sum\": \"-89414.7\", \"valid_num_pred_chars\": \"48300\", \"valid_vocab_seen_pct\": \"0.890244\", \"valid_uer\": \"100.35\", \"valid_weighted_lm_ppl\": \"75.4987\", \"valid_lm_ppl\": \"59.8353\", \"valid_wps\": \"18850\", \"valid_wpb\": \"3039.8\", \"valid_bsz\": \"144.2\", \"valid_num_updates\": \"77088\", \"valid_best_weighted_lm_ppl\": \"73.4256\"}\r\n",
      "[2021-06-06 15:20:48,153][fairseq.checkpoint_utils][INFO] - Preparing to save checkpoint for epoch 4818 @ 77088 updates\r\n",
      "[2021-06-06 15:20:48,155][fairseq.trainer][INFO] - Saving checkpoint to /kaggle/working/checkpoint4818.pt\r\n"
     ]
    },
    {
     "name": "stdout",
     "output_type": "stream",
     "text": [
      "[2021-06-06 15:20:48,192][fairseq.trainer][INFO] - Finished saving checkpoint to /kaggle/working/checkpoint4818.pt\r\n",
      "[2021-06-06 15:20:48,222][fairseq.checkpoint_utils][INFO] - Saved checkpoint /kaggle/working/checkpoint4818.pt (epoch 4818 @ 77088 updates, score 75.49867121386423) (writing took 0.06807270699937362 seconds)\r\n",
      "[2021-06-06 15:20:48,225][fairseq_cli.train][INFO] - end of epoch 4818 (average epoch stats below)\r\n",
      "[2021-06-06 15:20:48,228][train][INFO] - {\"epoch\": 4818, \"train_loss\": \"3.442\", \"train_ntokens\": \"145.688\", \"train_nsentences\": \"145.688\", \"train_temp\": \"0.1\", \"train_code_ppl\": \"8.896\", \"train_loss_code_pen\": \"0.324\", \"train_loss_smoothness\": \"2.036\", \"train_loss_dense_g\": \"4.177\", \"train_lm_score_sum\": 0.0, \"train_num_pred_chars\": 0.0, \"train_loss_grad_pen\": \"0.067\", \"train_loss_dense_d\": \"0.023\", \"train_loss_token_d\": \"0.023\", \"train_wps\": \"11.9\", \"train_ups\": \"0.08\", \"train_wpb\": \"145.7\", \"train_bsz\": \"145.7\", \"train_num_updates\": \"77088\", \"train_lr_discriminator\": \"0.0005\", \"train_lr_generator\": \"0.0004\", \"train_gnorm\": \"30.681\", \"train_clip\": \"68.8\", \"train_train_wall\": \"191\", \"train_wall\": \"12711\"}\r\n"
     ]
    },
    {
     "name": "stdout",
     "output_type": "stream",
     "text": [
      "[2021-06-06 15:20:48,282][fairseq.trainer][INFO] - begin training epoch 4819\r\n",
      "[2021-06-06 15:20:48,284][fairseq_cli.train][INFO] - Start iterating over samples\r\n"
     ]
    },
    {
     "name": "stdout",
     "output_type": "stream",
     "text": [
      "[2021-06-06 15:23:19,216][train_inner][INFO] - {\"epoch\": 4819, \"update\": 4818.75, \"loss\": \"3.338\", \"ntokens\": \"147.11\", \"nsentences\": \"147.11\", \"temp\": \"0.1\", \"code_ppl\": \"8.921\", \"loss_code_pen\": \"0.333\", \"loss_smoothness\": \"2.077\", \"loss_dense_g\": \"4.18\", \"lm_score_sum\": 0.0, \"num_pred_chars\": 0.0, \"loss_grad_pen\": \"0.072\", \"loss_dense_d\": \"0.025\", \"loss_token_d\": \"0.026\", \"wps\": \"11.7\", \"ups\": \"0.08\", \"wpb\": \"147.1\", \"bsz\": \"147.1\", \"num_updates\": \"77100\", \"lr_discriminator\": \"0.0005\", \"lr_generator\": \"0.0004\", \"gnorm\": \"29.201\", \"clip\": \"69\", \"train_wall\": \"1231\", \"wall\": \"12862\"}\r\n"
     ]
    },
    {
     "name": "stdout",
     "output_type": "stream",
     "text": [
      "[2021-06-06 15:24:04,142][fairseq_cli.train][INFO] - begin validation on \"valid\" subset\r\n"
     ]
    },
    {
     "name": "stdout",
     "output_type": "stream",
     "text": [
      "[2021-06-06 15:24:06,562][fairseq.tasks.unpaired_audio_text][INFO] - REF: ɛ n f œ ʂ ə n a d ɵ ʂ ə k t f øː r d eː t s ɔ m h ɛ n d ə p oː ɕ œ r k ɔ n s ɛ t ə n\r\n",
      "[2021-06-06 15:24:06,564][fairseq.tasks.unpaired_audio_text][INFO] - HYP: n s ɛ s j œ f œ j yː b j yː œ yː k ɵ uː ɵ øː v n ə m œ b uː s eː r n v oː l ɪ ŋ k l ɪ l a m ɔ k m ʉ n t a\r\n"
     ]
    },
    {
     "name": "stdout",
     "output_type": "stream",
     "text": [
      "[2021-06-06 15:24:06,569][fairseq.tasks.unpaired_audio_text][INFO] - LM [REF]: -53.44462585449219, 0.05339602260269112\r\n",
      "[2021-06-06 15:24:06,569][fairseq.tasks.unpaired_audio_text][INFO] - LM [HYP]: -89.5733871459961, 0.016163382746430307\r\n"
     ]
    },
    {
     "name": "stdout",
     "output_type": "stream",
     "text": [
      "[2021-06-06 15:24:07,064][valid][INFO] - {\"epoch\": 4819, \"valid_loss\": \"1.007\", \"valid_ntokens\": \"3039.79\", \"valid_nsentences\": \"144.214\", \"valid_lm_score_sum\": \"-89977.9\", \"valid_num_pred_chars\": \"48463\", \"valid_vocab_seen_pct\": \"0.890244\", \"valid_uer\": \"100.663\", \"valid_weighted_lm_ppl\": \"76.4464\", \"valid_lm_ppl\": \"60.5864\", \"valid_wps\": \"19057.6\", \"valid_wpb\": \"3039.8\", \"valid_bsz\": \"144.2\", \"valid_num_updates\": \"77104\", \"valid_best_weighted_lm_ppl\": \"73.4256\"}\r\n",
      "[2021-06-06 15:24:07,067][fairseq.checkpoint_utils][INFO] - Preparing to save checkpoint for epoch 4819 @ 77104 updates\r\n",
      "[2021-06-06 15:24:07,068][fairseq.trainer][INFO] - Saving checkpoint to /kaggle/working/checkpoint4819.pt\r\n"
     ]
    },
    {
     "name": "stdout",
     "output_type": "stream",
     "text": [
      "[2021-06-06 15:24:07,106][fairseq.trainer][INFO] - Finished saving checkpoint to /kaggle/working/checkpoint4819.pt\r\n"
     ]
    },
    {
     "name": "stdout",
     "output_type": "stream",
     "text": [
      "[2021-06-06 15:24:07,136][fairseq.checkpoint_utils][INFO] - Saved checkpoint /kaggle/working/checkpoint4819.pt (epoch 4819 @ 77104 updates, score 76.44644283019912) (writing took 0.06867262000014307 seconds)\r\n",
      "[2021-06-06 15:24:07,140][fairseq_cli.train][INFO] - end of epoch 4819 (average epoch stats below)\r\n",
      "[2021-06-06 15:24:07,144][train][INFO] - {\"epoch\": 4819, \"train_loss\": \"3.204\", \"train_ntokens\": \"145.688\", \"train_nsentences\": \"145.688\", \"train_temp\": \"0.1\", \"train_code_ppl\": \"8.965\", \"train_loss_code_pen\": \"0.332\", \"train_loss_smoothness\": \"2.077\", \"train_loss_dense_g\": \"4.068\", \"train_lm_score_sum\": 0.0, \"train_num_pred_chars\": 0.0, \"train_loss_grad_pen\": \"0.096\", \"train_loss_dense_d\": \"0.03\", \"train_loss_token_d\": \"0.036\", \"train_wps\": \"11.7\", \"train_ups\": \"0.08\", \"train_wpb\": \"145.7\", \"train_bsz\": \"145.7\", \"train_num_updates\": \"77104\", \"train_lr_discriminator\": \"0.0005\", \"train_lr_generator\": \"0.0004\", \"train_gnorm\": \"29.336\", \"train_clip\": \"81.2\", \"train_train_wall\": \"195\", \"train_wall\": \"12910\"}\r\n"
     ]
    },
    {
     "name": "stdout",
     "output_type": "stream",
     "text": [
      "[2021-06-06 15:24:07,204][fairseq.trainer][INFO] - begin training epoch 4820\r\n",
      "[2021-06-06 15:24:07,205][fairseq_cli.train][INFO] - Start iterating over samples\r\n"
     ]
    },
    {
     "name": "stdout",
     "output_type": "stream",
     "text": [
      "[2021-06-06 15:27:17,022][fairseq_cli.train][INFO] - begin validation on \"valid\" subset\r\n"
     ]
    },
    {
     "name": "stdout",
     "output_type": "stream",
     "text": [
      "[2021-06-06 15:27:19,520][fairseq.tasks.unpaired_audio_text][INFO] - REF: ɛ n f œ ʂ ə n a d ɵ ʂ ə k t f øː r d eː t s ɔ m h ɛ n d ə p oː ɕ œ r k ɔ n s ɛ t ə n\r\n",
      "[2021-06-06 15:27:19,523][fairseq.tasks.unpaired_audio_text][INFO] - HYP: n s ɛ s j œ f œ j yː ɕ b j œ yː k ɵ uː ɵ øː j n ə m œ l b uː s eː r n v oː l ɪ ŋ k l ɪ l a s ɔ m ʉ n a\r\n",
      "[2021-06-06 15:27:19,527][fairseq.tasks.unpaired_audio_text][INFO] - LM [REF]: -53.44462585449219, 0.05339602260269112\r\n",
      "[2021-06-06 15:27:19,528][fairseq.tasks.unpaired_audio_text][INFO] - LM [HYP]: -87.14789581298828, 0.016652196001322787\r\n"
     ]
    },
    {
     "name": "stdout",
     "output_type": "stream",
     "text": [
      "[2021-06-06 15:27:20,030][valid][INFO] - {\"epoch\": 4820, \"valid_loss\": \"1.008\", \"valid_ntokens\": \"3039.79\", \"valid_nsentences\": \"144.214\", \"valid_lm_score_sum\": \"-90060\", \"valid_num_pred_chars\": \"48528\", \"valid_vocab_seen_pct\": \"0.890244\", \"valid_uer\": \"100.846\", \"valid_weighted_lm_ppl\": \"76.329\", \"valid_lm_ppl\": \"60.4934\", \"valid_wps\": \"18605.8\", \"valid_wpb\": \"3039.8\", \"valid_bsz\": \"144.2\", \"valid_num_updates\": \"77120\", \"valid_best_weighted_lm_ppl\": \"73.4256\"}\r\n",
      "[2021-06-06 15:27:20,033][fairseq.checkpoint_utils][INFO] - Preparing to save checkpoint for epoch 4820 @ 77120 updates\r\n",
      "[2021-06-06 15:27:20,035][fairseq.trainer][INFO] - Saving checkpoint to /kaggle/working/checkpoint4820.pt\r\n"
     ]
    },
    {
     "name": "stdout",
     "output_type": "stream",
     "text": [
      "[2021-06-06 15:27:20,075][fairseq.trainer][INFO] - Finished saving checkpoint to /kaggle/working/checkpoint4820.pt\r\n",
      "[2021-06-06 15:27:20,109][fairseq.checkpoint_utils][INFO] - Saved checkpoint /kaggle/working/checkpoint4820.pt (epoch 4820 @ 77120 updates, score 76.32903867265408) (writing took 0.07569388199954119 seconds)\r\n",
      "[2021-06-06 15:27:20,112][fairseq_cli.train][INFO] - end of epoch 4820 (average epoch stats below)\r\n",
      "[2021-06-06 15:27:20,116][train][INFO] - {\"epoch\": 4820, \"train_loss\": \"3.515\", \"train_ntokens\": \"145.688\", \"train_nsentences\": \"145.688\", \"train_temp\": \"0.1\", \"train_code_ppl\": \"9.113\", \"train_loss_code_pen\": \"0.329\", \"train_loss_smoothness\": \"2.063\", \"train_loss_dense_g\": \"4.271\", \"train_lm_score_sum\": 0.0, \"train_num_pred_chars\": 0.0, \"train_loss_grad_pen\": \"0.072\", \"train_loss_dense_d\": \"0.023\", \"train_loss_token_d\": \"0.035\", \"train_wps\": \"12.1\", \"train_ups\": \"0.08\", \"train_wpb\": \"145.7\", \"train_bsz\": \"145.7\", \"train_num_updates\": \"77120\", \"train_lr_discriminator\": \"0.0005\", \"train_lr_generator\": \"0.0004\", \"train_gnorm\": \"32.377\", \"train_clip\": \"75\", \"train_train_wall\": \"189\", \"train_wall\": \"13103\"}\r\n"
     ]
    },
    {
     "name": "stdout",
     "output_type": "stream",
     "text": [
      "[2021-06-06 15:27:20,177][fairseq.trainer][INFO] - begin training epoch 4821\r\n",
      "[2021-06-06 15:27:20,179][fairseq_cli.train][INFO] - Start iterating over samples\r\n"
     ]
    },
    {
     "name": "stdout",
     "output_type": "stream",
     "text": [
      "[2021-06-06 15:30:22,972][fairseq_cli.train][INFO] - begin validation on \"valid\" subset\r\n"
     ]
    },
    {
     "name": "stdout",
     "output_type": "stream",
     "text": [
      "[2021-06-06 15:30:25,479][fairseq.tasks.unpaired_audio_text][INFO] - REF: ɛ n f œ ʂ ə n a d ɵ ʂ ə k t f øː r d eː t s ɔ m h ɛ n d ə p oː ɕ œ r k ɔ n s ɛ t ə n\r\n",
      "[2021-06-06 15:30:25,481][fairseq.tasks.unpaired_audio_text][INFO] - HYP: n ɕ ɛ s j œ f œ j yː b j yː œ yː k ɵ uː ɵ øː j yː b n ə m œ k b uː s eː r n v oː l ɪ ŋ k l ɪ l a s ɔ m ʉ n t a\r\n",
      "[2021-06-06 15:30:25,485][fairseq.tasks.unpaired_audio_text][INFO] - LM [REF]: -53.44462585449219, 0.05339602260269112\r\n",
      "[2021-06-06 15:30:25,486][fairseq.tasks.unpaired_audio_text][INFO] - LM [HYP]: -95.66304016113281, 0.014465256890470712\r\n"
     ]
    },
    {
     "name": "stdout",
     "output_type": "stream",
     "text": [
      "[2021-06-06 15:30:25,984][valid][INFO] - {\"epoch\": 4821, \"valid_loss\": \"1.008\", \"valid_ntokens\": \"3039.79\", \"valid_nsentences\": \"144.214\", \"valid_lm_score_sum\": \"-90041\", \"valid_num_pred_chars\": \"48601\", \"valid_vocab_seen_pct\": \"0.89547\", \"valid_uer\": \"100.811\", \"valid_weighted_lm_ppl\": \"74.9308\", \"valid_lm_ppl\": \"60.0846\", \"valid_wps\": \"18973.4\", \"valid_wpb\": \"3039.8\", \"valid_bsz\": \"144.2\", \"valid_num_updates\": \"77136\", \"valid_best_weighted_lm_ppl\": \"73.4256\"}\r\n",
      "[2021-06-06 15:30:25,988][fairseq.checkpoint_utils][INFO] - Preparing to save checkpoint for epoch 4821 @ 77136 updates\r\n",
      "[2021-06-06 15:30:25,989][fairseq.trainer][INFO] - Saving checkpoint to /kaggle/working/checkpoint4821.pt\r\n"
     ]
    },
    {
     "name": "stdout",
     "output_type": "stream",
     "text": [
      "[2021-06-06 15:30:26,029][fairseq.trainer][INFO] - Finished saving checkpoint to /kaggle/working/checkpoint4821.pt\r\n"
     ]
    },
    {
     "name": "stdout",
     "output_type": "stream",
     "text": [
      "[2021-06-06 15:30:26,060][fairseq.checkpoint_utils][INFO] - Saved checkpoint /kaggle/working/checkpoint4821.pt (epoch 4821 @ 77136 updates, score 74.9308217677014) (writing took 0.07188992100054747 seconds)\r\n",
      "[2021-06-06 15:30:26,063][fairseq_cli.train][INFO] - end of epoch 4821 (average epoch stats below)\r\n",
      "[2021-06-06 15:30:26,067][train][INFO] - {\"epoch\": 4821, \"train_loss\": \"3.554\", \"train_ntokens\": \"145.688\", \"train_nsentences\": \"145.688\", \"train_temp\": \"0.1\", \"train_code_ppl\": \"9.037\", \"train_loss_code_pen\": \"0.335\", \"train_loss_smoothness\": \"2.104\", \"train_loss_dense_g\": \"3.904\", \"train_lm_score_sum\": 0.0, \"train_num_pred_chars\": 0.0, \"train_loss_grad_pen\": \"0.099\", \"train_loss_dense_d\": \"0.032\", \"train_loss_token_d\": \"0.028\", \"train_wps\": \"12.5\", \"train_ups\": \"0.09\", \"train_wpb\": \"145.7\", \"train_bsz\": \"145.7\", \"train_num_updates\": \"77136\", \"train_lr_discriminator\": \"0.0005\", \"train_lr_generator\": \"0.0004\", \"train_gnorm\": \"29.578\", \"train_clip\": \"87.5\", \"train_train_wall\": \"182\", \"train_wall\": \"13289\"}\r\n"
     ]
    },
    {
     "name": "stdout",
     "output_type": "stream",
     "text": [
      "[2021-06-06 15:30:26,134][fairseq.trainer][INFO] - begin training epoch 4822\r\n",
      "[2021-06-06 15:30:26,135][fairseq_cli.train][INFO] - Start iterating over samples\r\n"
     ]
    },
    {
     "name": "stdout",
     "output_type": "stream",
     "text": [
      "[2021-06-06 15:33:55,163][fairseq_cli.train][INFO] - begin validation on \"valid\" subset\r\n"
     ]
    },
    {
     "name": "stdout",
     "output_type": "stream",
     "text": [
      "[2021-06-06 15:33:57,679][fairseq.tasks.unpaired_audio_text][INFO] - REF: ɛ n f œ ʂ ə n a d ɵ ʂ ə k t f øː r d eː t s ɔ m h ɛ n d ə p oː ɕ œ r k ɔ n s ɛ t ə n\r\n",
      "[2021-06-06 15:33:57,682][fairseq.tasks.unpaired_audio_text][INFO] - HYP: n ɕ ɛ s j œ f œ j yː ɕ b j yː uː œ yː k yː uː ɵ øː v yː b n ə m œ k b uː s eː r n v oː l ɪ ŋ k l ɪ l a ɔ k m ʉ n t a\r\n",
      "[2021-06-06 15:33:57,687][fairseq.tasks.unpaired_audio_text][INFO] - LM [REF]: -53.44462585449219, 0.05339602260269112\r\n",
      "[2021-06-06 15:33:57,687][fairseq.tasks.unpaired_audio_text][INFO] - LM [HYP]: -101.39859008789062, 0.013250990166973878\r\n"
     ]
    },
    {
     "name": "stdout",
     "output_type": "stream",
     "text": [
      "[2021-06-06 15:33:58,196][valid][INFO] - {\"epoch\": 4822, \"valid_loss\": \"1.008\", \"valid_ntokens\": \"3039.79\", \"valid_nsentences\": \"144.214\", \"valid_lm_score_sum\": \"-90112.9\", \"valid_num_pred_chars\": \"48624\", \"valid_vocab_seen_pct\": \"0.89547\", \"valid_uer\": \"100.792\", \"valid_weighted_lm_ppl\": \"75.0365\", \"valid_lm_ppl\": \"60.1693\", \"valid_wps\": \"18435.3\", \"valid_wpb\": \"3039.8\", \"valid_bsz\": \"144.2\", \"valid_num_updates\": \"77152\", \"valid_best_weighted_lm_ppl\": \"73.4256\"}\r\n",
      "[2021-06-06 15:33:58,200][fairseq.checkpoint_utils][INFO] - Preparing to save checkpoint for epoch 4822 @ 77152 updates\r\n",
      "[2021-06-06 15:33:58,201][fairseq.trainer][INFO] - Saving checkpoint to /kaggle/working/checkpoint4822.pt\r\n"
     ]
    },
    {
     "name": "stdout",
     "output_type": "stream",
     "text": [
      "[2021-06-06 15:33:58,240][fairseq.trainer][INFO] - Finished saving checkpoint to /kaggle/working/checkpoint4822.pt\r\n"
     ]
    },
    {
     "name": "stdout",
     "output_type": "stream",
     "text": [
      "[2021-06-06 15:33:58,270][fairseq.checkpoint_utils][INFO] - Saved checkpoint /kaggle/working/checkpoint4822.pt (epoch 4822 @ 77152 updates, score 75.0365352391379) (writing took 0.07031476999873121 seconds)\r\n",
      "[2021-06-06 15:33:58,274][fairseq_cli.train][INFO] - end of epoch 4822 (average epoch stats below)\r\n",
      "[2021-06-06 15:33:58,278][train][INFO] - {\"epoch\": 4822, \"train_loss\": \"2.945\", \"train_ntokens\": \"145.688\", \"train_nsentences\": \"145.688\", \"train_temp\": \"0.1\", \"train_code_ppl\": \"9.104\", \"train_loss_code_pen\": \"0.327\", \"train_loss_smoothness\": \"2.07\", \"train_loss_dense_g\": \"3.992\", \"train_lm_score_sum\": 0.0, \"train_num_pred_chars\": 0.0, \"train_loss_grad_pen\": \"0.056\", \"train_loss_dense_d\": \"0.031\", \"train_loss_token_d\": \"0.031\", \"train_wps\": \"11\", \"train_ups\": \"0.08\", \"train_wpb\": \"145.7\", \"train_bsz\": \"145.7\", \"train_num_updates\": \"77152\", \"train_lr_discriminator\": \"0.0005\", \"train_lr_generator\": \"0.0004\", \"train_gnorm\": \"28.168\", \"train_clip\": \"62.5\", \"train_train_wall\": \"208\", \"train_wall\": \"13501\"}\r\n"
     ]
    },
    {
     "name": "stdout",
     "output_type": "stream",
     "text": [
      "[2021-06-06 15:33:58,339][fairseq.trainer][INFO] - begin training epoch 4823\r\n",
      "[2021-06-06 15:33:58,341][fairseq_cli.train][INFO] - Start iterating over samples\r\n"
     ]
    },
    {
     "name": "stdout",
     "output_type": "stream",
     "text": [
      "[2021-06-06 15:37:13,237][fairseq_cli.train][INFO] - begin validation on \"valid\" subset\r\n"
     ]
    },
    {
     "name": "stdout",
     "output_type": "stream",
     "text": [
      "[2021-06-06 15:37:15,700][fairseq.tasks.unpaired_audio_text][INFO] - REF: ɛ n f œ ʂ ə n a d ɵ ʂ ə k t f øː r d eː t s ɔ m h ɛ n d ə p oː ɕ œ r k ɔ n s ɛ t ə n\r\n",
      "[2021-06-06 15:37:15,703][fairseq.tasks.unpaired_audio_text][INFO] - HYP: n ɕ ɛ s j œ f œ j yː b j yː œ yː k ɵ uː ɵ øː v yː b n ə m œ b uː s eː r n v oː l ɪ ŋ k l ɪ l a m ɔ k m k n t a\r\n",
      "[2021-06-06 15:37:15,708][fairseq.tasks.unpaired_audio_text][INFO] - LM [REF]: -53.44462585449219, 0.05339602260269112\r\n",
      "[2021-06-06 15:37:15,708][fairseq.tasks.unpaired_audio_text][INFO] - LM [HYP]: -95.9353256225586, 0.014291897468641112\r\n"
     ]
    },
    {
     "name": "stdout",
     "output_type": "stream",
     "text": [
      "[2021-06-06 15:37:16,214][valid][INFO] - {\"epoch\": 4823, \"valid_loss\": \"1.006\", \"valid_ntokens\": \"3039.79\", \"valid_nsentences\": \"144.214\", \"valid_lm_score_sum\": \"-89759.4\", \"valid_num_pred_chars\": \"48468\", \"valid_vocab_seen_pct\": \"0.890244\", \"valid_uer\": \"100.59\", \"valid_weighted_lm_ppl\": \"75.6578\", \"valid_lm_ppl\": \"59.9614\", \"valid_wps\": \"18673.1\", \"valid_wpb\": \"3039.8\", \"valid_bsz\": \"144.2\", \"valid_num_updates\": \"77168\", \"valid_best_weighted_lm_ppl\": \"73.4256\"}\r\n",
      "[2021-06-06 15:37:16,217][fairseq.checkpoint_utils][INFO] - Preparing to save checkpoint for epoch 4823 @ 77168 updates\r\n",
      "[2021-06-06 15:37:16,218][fairseq.trainer][INFO] - Saving checkpoint to /kaggle/working/checkpoint4823.pt\r\n"
     ]
    },
    {
     "name": "stdout",
     "output_type": "stream",
     "text": [
      "[2021-06-06 15:37:16,257][fairseq.trainer][INFO] - Finished saving checkpoint to /kaggle/working/checkpoint4823.pt\r\n"
     ]
    },
    {
     "name": "stdout",
     "output_type": "stream",
     "text": [
      "[2021-06-06 15:37:16,288][fairseq.checkpoint_utils][INFO] - Saved checkpoint /kaggle/working/checkpoint4823.pt (epoch 4823 @ 77168 updates, score 75.6578168869328) (writing took 0.07122909400095523 seconds)\r\n",
      "[2021-06-06 15:37:16,292][fairseq_cli.train][INFO] - end of epoch 4823 (average epoch stats below)\r\n",
      "[2021-06-06 15:37:16,295][train][INFO] - {\"epoch\": 4823, \"train_loss\": \"3.423\", \"train_ntokens\": \"145.688\", \"train_nsentences\": \"145.688\", \"train_temp\": \"0.1\", \"train_code_ppl\": \"8.898\", \"train_loss_code_pen\": \"0.338\", \"train_loss_smoothness\": \"2.077\", \"train_loss_dense_g\": \"4.068\", \"train_lm_score_sum\": 0.0, \"train_num_pred_chars\": 0.0, \"train_loss_grad_pen\": \"0.082\", \"train_loss_dense_d\": \"0.026\", \"train_loss_token_d\": \"0.023\", \"train_wps\": \"11.8\", \"train_ups\": \"0.08\", \"train_wpb\": \"145.7\", \"train_bsz\": \"145.7\", \"train_num_updates\": \"77168\", \"train_lr_discriminator\": \"0.0005\", \"train_lr_generator\": \"0.0004\", \"train_gnorm\": \"34.119\", \"train_clip\": \"81.2\", \"train_train_wall\": \"194\", \"train_wall\": \"13699\"}\r\n"
     ]
    },
    {
     "name": "stdout",
     "output_type": "stream",
     "text": [
      "[2021-06-06 15:37:16,349][fairseq.trainer][INFO] - begin training epoch 4824\r\n",
      "[2021-06-06 15:37:16,350][fairseq_cli.train][INFO] - Start iterating over samples\r\n"
     ]
    },
    {
     "name": "stdout",
     "output_type": "stream",
     "text": [
      "[2021-06-06 15:40:25,047][fairseq_cli.train][INFO] - begin validation on \"valid\" subset\r\n"
     ]
    },
    {
     "name": "stdout",
     "output_type": "stream",
     "text": [
      "[2021-06-06 15:40:27,634][fairseq.tasks.unpaired_audio_text][INFO] - REF: ɛ n f œ ʂ ə n a d ɵ ʂ ə k t f øː r d eː t s ɔ m h ɛ n d ə p oː ɕ œ r k ɔ n s ɛ t ə n\r\n",
      "[2021-06-06 15:40:27,637][fairseq.tasks.unpaired_audio_text][INFO] - HYP: n ɕ ɛ s j œ r œ j yː b j œ yː k yː uː ɵ øː b n ə m œ k b uː s eː r n v oː l ɪ ŋ k l ɪ l a s ɔ k m ʉ n a\r\n",
      "[2021-06-06 15:40:27,643][fairseq.tasks.unpaired_audio_text][INFO] - LM [REF]: -53.44462585449219, 0.05339602260269112\r\n",
      "[2021-06-06 15:40:27,644][fairseq.tasks.unpaired_audio_text][INFO] - LM [HYP]: -88.50680541992188, 0.015622073072704233\r\n"
     ]
    },
    {
     "name": "stdout",
     "output_type": "stream",
     "text": [
      "[2021-06-06 15:40:28,164][valid][INFO] - {\"epoch\": 4824, \"valid_loss\": \"1.005\", \"valid_ntokens\": \"3039.79\", \"valid_nsentences\": \"144.214\", \"valid_lm_score_sum\": \"-89664.2\", \"valid_num_pred_chars\": \"48292\", \"valid_vocab_seen_pct\": \"0.891986\", \"valid_uer\": \"100.51\", \"valid_weighted_lm_ppl\": \"76.1171\", \"valid_lm_ppl\": \"60.5617\", \"valid_wps\": \"17704.2\", \"valid_wpb\": \"3039.8\", \"valid_bsz\": \"144.2\", \"valid_num_updates\": \"77184\", \"valid_best_weighted_lm_ppl\": \"73.4256\"}\r\n",
      "[2021-06-06 15:40:28,169][fairseq.checkpoint_utils][INFO] - Preparing to save checkpoint for epoch 4824 @ 77184 updates\r\n",
      "[2021-06-06 15:40:28,170][fairseq.trainer][INFO] - Saving checkpoint to /kaggle/working/checkpoint4824.pt\r\n"
     ]
    },
    {
     "name": "stdout",
     "output_type": "stream",
     "text": [
      "[2021-06-06 15:40:28,209][fairseq.trainer][INFO] - Finished saving checkpoint to /kaggle/working/checkpoint4824.pt\r\n"
     ]
    },
    {
     "name": "stdout",
     "output_type": "stream",
     "text": [
      "[2021-06-06 15:40:28,247][fairseq.checkpoint_utils][INFO] - Saved checkpoint /kaggle/working/checkpoint4824.pt (epoch 4824 @ 77184 updates, score 76.11708377939354) (writing took 0.07800872100051492 seconds)\r\n",
      "[2021-06-06 15:40:28,250][fairseq_cli.train][INFO] - end of epoch 4824 (average epoch stats below)\r\n",
      "[2021-06-06 15:40:28,253][train][INFO] - {\"epoch\": 4824, \"train_loss\": \"3.64\", \"train_ntokens\": \"145.688\", \"train_nsentences\": \"145.688\", \"train_temp\": \"0.1\", \"train_code_ppl\": \"8.879\", \"train_loss_code_pen\": \"0.333\", \"train_loss_smoothness\": \"2.078\", \"train_loss_dense_g\": \"4.098\", \"train_lm_score_sum\": 0.0, \"train_num_pred_chars\": 0.0, \"train_loss_grad_pen\": \"0.081\", \"train_loss_dense_d\": \"0.026\", \"train_loss_token_d\": \"0.039\", \"train_wps\": \"12.1\", \"train_ups\": \"0.08\", \"train_wpb\": \"145.7\", \"train_bsz\": \"145.7\", \"train_num_updates\": \"77184\", \"train_lr_discriminator\": \"0.0005\", \"train_lr_generator\": \"0.0004\", \"train_gnorm\": \"31.733\", \"train_clip\": \"68.8\", \"train_train_wall\": \"188\", \"train_wall\": \"13891\"}\r\n"
     ]
    },
    {
     "name": "stdout",
     "output_type": "stream",
     "text": [
      "[2021-06-06 15:40:28,316][fairseq.trainer][INFO] - begin training epoch 4825\r\n",
      "[2021-06-06 15:40:28,318][fairseq_cli.train][INFO] - Start iterating over samples\r\n"
     ]
    },
    {
     "name": "stdout",
     "output_type": "stream",
     "text": [
      "[2021-06-06 15:44:04,029][train_inner][INFO] - {\"epoch\": 4825, \"update\": 4825.0, \"loss\": \"3.309\", \"ntokens\": \"144.69\", \"nsentences\": \"144.69\", \"temp\": \"0.1\", \"code_ppl\": \"9.032\", \"loss_code_pen\": \"0.328\", \"loss_smoothness\": \"2.062\", \"loss_dense_g\": \"4.089\", \"lm_score_sum\": 0.0, \"num_pred_chars\": 0.0, \"loss_grad_pen\": \"0.076\", \"loss_dense_d\": \"0.028\", \"loss_token_d\": \"0.03\", \"wps\": \"11.6\", \"ups\": \"0.08\", \"wpb\": \"144.7\", \"bsz\": \"144.7\", \"num_updates\": \"77200\", \"lr_discriminator\": \"0.0005\", \"lr_generator\": \"0.0004\", \"gnorm\": \"30.646\", \"clip\": \"73\", \"train_wall\": \"1223\", \"wall\": \"14107\"}\r\n",
      "[2021-06-06 15:44:04,031][fairseq_cli.train][INFO] - begin validation on \"valid\" subset\r\n"
     ]
    },
    {
     "name": "stdout",
     "output_type": "stream",
     "text": [
      "[2021-06-06 15:44:06,593][fairseq.tasks.unpaired_audio_text][INFO] - REF: ɛ n f œ ʂ ə n a d ɵ ʂ ə k t f øː r d eː t s ɔ m h ɛ n d ə p oː ɕ œ r k ɔ n s ɛ t ə n\r\n",
      "[2021-06-06 15:44:06,595][fairseq.tasks.unpaired_audio_text][INFO] - HYP: n ɕ ɛ s j œ r œ j yː b j œ yː k ɵ uː ɵ øː n ə m œ b ə uː s eː r n v oː l ɪ ŋ k l ɪ l a s ɔ m ʉ n t a\r\n",
      "[2021-06-06 15:44:06,600][fairseq.tasks.unpaired_audio_text][INFO] - LM [REF]: -53.44462585449219, 0.05339602260269112\r\n",
      "[2021-06-06 15:44:06,600][fairseq.tasks.unpaired_audio_text][INFO] - LM [HYP]: -83.94200134277344, 0.017832338741068893\r\n"
     ]
    },
    {
     "name": "stdout",
     "output_type": "stream",
     "text": [
      "[2021-06-06 15:44:07,105][valid][INFO] - {\"epoch\": 4825, \"valid_loss\": \"1.004\", \"valid_ntokens\": \"3039.79\", \"valid_nsentences\": \"144.214\", \"valid_lm_score_sum\": \"-89537.9\", \"valid_num_pred_chars\": \"48304\", \"valid_vocab_seen_pct\": \"0.888502\", \"valid_uer\": \"100.355\", \"valid_weighted_lm_ppl\": \"76.1985\", \"valid_lm_ppl\": \"60.1538\", \"valid_wps\": \"18537.9\", \"valid_wpb\": \"3039.8\", \"valid_bsz\": \"144.2\", \"valid_num_updates\": \"77200\", \"valid_best_weighted_lm_ppl\": \"73.4256\"}\r\n",
      "[2021-06-06 15:44:07,108][fairseq.checkpoint_utils][INFO] - Preparing to save checkpoint for epoch 4825 @ 77200 updates\r\n",
      "[2021-06-06 15:44:07,110][fairseq.trainer][INFO] - Saving checkpoint to /kaggle/working/checkpoint4825.pt\r\n",
      "[2021-06-06 15:44:07,149][fairseq.trainer][INFO] - Finished saving checkpoint to /kaggle/working/checkpoint4825.pt\r\n"
     ]
    },
    {
     "name": "stdout",
     "output_type": "stream",
     "text": [
      "[2021-06-06 15:44:07,184][fairseq.checkpoint_utils][INFO] - Saved checkpoint /kaggle/working/checkpoint4825.pt (epoch 4825 @ 77200 updates, score 76.19851621973959) (writing took 0.07591268499891157 seconds)\r\n",
      "[2021-06-06 15:44:07,188][fairseq_cli.train][INFO] - end of epoch 4825 (average epoch stats below)\r\n",
      "[2021-06-06 15:44:07,191][train][INFO] - {\"epoch\": 4825, \"train_loss\": \"3.011\", \"train_ntokens\": \"145.688\", \"train_nsentences\": \"145.688\", \"train_temp\": \"0.1\", \"train_code_ppl\": \"8.92\", \"train_loss_code_pen\": \"0.296\", \"train_loss_smoothness\": \"1.944\", \"train_loss_dense_g\": \"4.273\", \"train_lm_score_sum\": 0.0, \"train_num_pred_chars\": 0.0, \"train_loss_grad_pen\": \"0.076\", \"train_loss_dense_d\": \"0.029\", \"train_loss_token_d\": \"0.029\", \"train_wps\": \"10.6\", \"train_ups\": \"0.07\", \"train_wpb\": \"145.7\", \"train_bsz\": \"145.7\", \"train_num_updates\": \"77200\", \"train_lr_discriminator\": \"0.0005\", \"train_lr_generator\": \"0.0004\", \"train_gnorm\": \"28.758\", \"train_clip\": \"68.8\", \"train_train_wall\": \"215\", \"train_wall\": \"14110\"}\r\n"
     ]
    },
    {
     "name": "stdout",
     "output_type": "stream",
     "text": [
      "[2021-06-06 15:44:07,252][fairseq.trainer][INFO] - begin training epoch 4826\r\n"
     ]
    },
    {
     "name": "stdout",
     "output_type": "stream",
     "text": [
      "[2021-06-06 15:44:07,254][fairseq_cli.train][INFO] - Start iterating over samples\r\n"
     ]
    },
    {
     "name": "stdout",
     "output_type": "stream",
     "text": [
      "[2021-06-06 15:47:07,975][fairseq_cli.train][INFO] - begin validation on \"valid\" subset\r\n"
     ]
    },
    {
     "name": "stdout",
     "output_type": "stream",
     "text": [
      "[2021-06-06 15:47:10,404][fairseq.tasks.unpaired_audio_text][INFO] - REF: ɛ n f œ ʂ ə n a d ɵ ʂ ə k t f øː r d eː t s ɔ m h ɛ n d ə p oː ɕ œ r k ɔ n s ɛ t ə n\r\n",
      "[2021-06-06 15:47:10,406][fairseq.tasks.unpaired_audio_text][INFO] - HYP: n s ɛ s j œ r œ yː b j œ yː k ɵ uː ɵ øː b n ə m œ b ə uː s eː r n v oː l ɪ ŋ k l ɪ l a m ɔ m ʉ n t a\r\n",
      "[2021-06-06 15:47:10,410][fairseq.tasks.unpaired_audio_text][INFO] - LM [REF]: -53.44462585449219, 0.05339602260269112\r\n",
      "[2021-06-06 15:47:10,410][fairseq.tasks.unpaired_audio_text][INFO] - LM [HYP]: -86.23686218261719, 0.015973449185741215\r\n"
     ]
    },
    {
     "name": "stdout",
     "output_type": "stream",
     "text": [
      "[2021-06-06 15:47:10,930][valid][INFO] - {\"epoch\": 4826, \"valid_loss\": \"1.007\", \"valid_ntokens\": \"3039.79\", \"valid_nsentences\": \"144.214\", \"valid_lm_score_sum\": \"-89931.5\", \"valid_num_pred_chars\": \"48538\", \"valid_vocab_seen_pct\": \"0.890244\", \"valid_uer\": \"100.66\", \"valid_weighted_lm_ppl\": \"75.8221\", \"valid_lm_ppl\": \"60.0916\", \"valid_wps\": \"18662.4\", \"valid_wpb\": \"3039.8\", \"valid_bsz\": \"144.2\", \"valid_num_updates\": \"77216\", \"valid_best_weighted_lm_ppl\": \"73.4256\"}\r\n",
      "[2021-06-06 15:47:10,933][fairseq.checkpoint_utils][INFO] - Preparing to save checkpoint for epoch 4826 @ 77216 updates\r\n",
      "[2021-06-06 15:47:10,935][fairseq.trainer][INFO] - Saving checkpoint to /kaggle/working/checkpoint4826.pt\r\n"
     ]
    },
    {
     "name": "stdout",
     "output_type": "stream",
     "text": [
      "[2021-06-06 15:47:10,975][fairseq.trainer][INFO] - Finished saving checkpoint to /kaggle/working/checkpoint4826.pt\r\n"
     ]
    },
    {
     "name": "stdout",
     "output_type": "stream",
     "text": [
      "[2021-06-06 15:47:11,007][fairseq.checkpoint_utils][INFO] - Saved checkpoint /kaggle/working/checkpoint4826.pt (epoch 4826 @ 77216 updates, score 75.82206893992479) (writing took 0.07352545899993856 seconds)\r\n",
      "[2021-06-06 15:47:11,010][fairseq_cli.train][INFO] - end of epoch 4826 (average epoch stats below)\r\n",
      "[2021-06-06 15:47:11,014][train][INFO] - {\"epoch\": 4826, \"train_loss\": \"3.704\", \"train_ntokens\": \"145.688\", \"train_nsentences\": \"145.688\", \"train_temp\": \"0.1\", \"train_code_ppl\": \"9.037\", \"train_loss_code_pen\": \"0.334\", \"train_loss_smoothness\": \"2.097\", \"train_loss_dense_g\": \"4.202\", \"train_lm_score_sum\": 0.0, \"train_num_pred_chars\": 0.0, \"train_loss_grad_pen\": \"0.078\", \"train_loss_dense_d\": \"0.029\", \"train_loss_token_d\": \"0.029\", \"train_wps\": \"12.7\", \"train_ups\": \"0.09\", \"train_wpb\": \"145.7\", \"train_bsz\": \"145.7\", \"train_num_updates\": \"77216\", \"train_lr_discriminator\": \"0.0005\", \"train_lr_generator\": \"0.0004\", \"train_gnorm\": \"32.548\", \"train_clip\": \"68.8\", \"train_train_wall\": \"180\", \"train_wall\": \"14294\"}\r\n"
     ]
    },
    {
     "name": "stdout",
     "output_type": "stream",
     "text": [
      "[2021-06-06 15:47:11,076][fairseq.trainer][INFO] - begin training epoch 4827\r\n",
      "[2021-06-06 15:47:11,077][fairseq_cli.train][INFO] - Start iterating over samples\r\n"
     ]
    },
    {
     "name": "stdout",
     "output_type": "stream",
     "text": [
      "[2021-06-06 15:50:41,350][fairseq_cli.train][INFO] - begin validation on \"valid\" subset\r\n"
     ]
    },
    {
     "name": "stdout",
     "output_type": "stream",
     "text": [
      "[2021-06-06 15:50:43,800][fairseq.tasks.unpaired_audio_text][INFO] - REF: ɛ n f œ ʂ ə n a d ɵ ʂ ə k t f øː r d eː t s ɔ m h ɛ n d ə p oː ɕ œ r k ɔ n s ɛ t ə n\r\n",
      "[2021-06-06 15:50:43,802][fairseq.tasks.unpaired_audio_text][INFO] - HYP: n ɕ ɛ s j œ r œ yː b j œ yː k ɵ uː ɵ øː v n ə m œ b ə uː s eː r n v oː l ɪ ŋ k l ɪ l a m ɔ k m ʉ n t a\r\n",
      "[2021-06-06 15:50:43,807][fairseq.tasks.unpaired_audio_text][INFO] - LM [REF]: -53.44462585449219, 0.05339602260269112\r\n",
      "[2021-06-06 15:50:43,807][fairseq.tasks.unpaired_audio_text][INFO] - LM [HYP]: -85.72528076171875, 0.0178034625049666\r\n"
     ]
    },
    {
     "name": "stdout",
     "output_type": "stream",
     "text": [
      "[2021-06-06 15:50:44,308][valid][INFO] - {\"epoch\": 4827, \"valid_loss\": \"1.005\", \"valid_ntokens\": \"3039.79\", \"valid_nsentences\": \"144.214\", \"valid_lm_score_sum\": \"-89781.9\", \"valid_num_pred_chars\": \"48329\", \"valid_vocab_seen_pct\": \"0.888502\", \"valid_uer\": \"100.543\", \"valid_weighted_lm_ppl\": \"76.8971\", \"valid_lm_ppl\": \"60.7053\", \"valid_wps\": \"19028.6\", \"valid_wpb\": \"3039.8\", \"valid_bsz\": \"144.2\", \"valid_num_updates\": \"77232\", \"valid_best_weighted_lm_ppl\": \"73.4256\"}\r\n",
      "[2021-06-06 15:50:44,311][fairseq.checkpoint_utils][INFO] - Preparing to save checkpoint for epoch 4827 @ 77232 updates\r\n",
      "[2021-06-06 15:50:44,313][fairseq.trainer][INFO] - Saving checkpoint to /kaggle/working/checkpoint4827.pt\r\n"
     ]
    },
    {
     "name": "stdout",
     "output_type": "stream",
     "text": [
      "[2021-06-06 15:50:44,352][fairseq.trainer][INFO] - Finished saving checkpoint to /kaggle/working/checkpoint4827.pt\r\n"
     ]
    },
    {
     "name": "stdout",
     "output_type": "stream",
     "text": [
      "[2021-06-06 15:50:44,382][fairseq.checkpoint_utils][INFO] - Saved checkpoint /kaggle/working/checkpoint4827.pt (epoch 4827 @ 77232 updates, score 76.89706738068641) (writing took 0.07096092899882933 seconds)\r\n",
      "[2021-06-06 15:50:44,385][fairseq_cli.train][INFO] - end of epoch 4827 (average epoch stats below)\r\n",
      "[2021-06-06 15:50:44,389][train][INFO] - {\"epoch\": 4827, \"train_loss\": \"3.21\", \"train_ntokens\": \"145.688\", \"train_nsentences\": \"145.688\", \"train_temp\": \"0.1\", \"train_code_ppl\": \"9.078\", \"train_loss_code_pen\": \"0.339\", \"train_loss_smoothness\": \"2.101\", \"train_loss_dense_g\": \"4.108\", \"train_lm_score_sum\": 0.0, \"train_num_pred_chars\": 0.0, \"train_loss_grad_pen\": \"0.051\", \"train_loss_dense_d\": \"0.027\", \"train_loss_token_d\": \"0.028\", \"train_wps\": \"10.9\", \"train_ups\": \"0.07\", \"train_wpb\": \"145.7\", \"train_bsz\": \"145.7\", \"train_num_updates\": \"77232\", \"train_lr_discriminator\": \"0.0005\", \"train_lr_generator\": \"0.0004\", \"train_gnorm\": \"27.805\", \"train_clip\": \"62.5\", \"train_train_wall\": \"210\", \"train_wall\": \"14507\"}\r\n"
     ]
    },
    {
     "name": "stdout",
     "output_type": "stream",
     "text": [
      "[2021-06-06 15:50:44,449][fairseq.trainer][INFO] - begin training epoch 4828\r\n",
      "[2021-06-06 15:50:44,450][fairseq_cli.train][INFO] - Start iterating over samples\r\n"
     ]
    },
    {
     "name": "stdout",
     "output_type": "stream",
     "text": [
      "[2021-06-06 15:54:27,795][fairseq_cli.train][INFO] - begin validation on \"valid\" subset\r\n"
     ]
    },
    {
     "name": "stdout",
     "output_type": "stream",
     "text": [
      "[2021-06-06 15:54:30,323][fairseq.tasks.unpaired_audio_text][INFO] - REF: ɛ n f œ ʂ ə n a d ɵ ʂ ə k t f øː r d eː t s ɔ m h ɛ n d ə p oː ɕ œ r k ɔ n s ɛ t ə n\r\n",
      "[2021-06-06 15:54:30,326][fairseq.tasks.unpaired_audio_text][INFO] - HYP: n ɛ s j œ r œ j œ b j œ yː k ɵ uː ɵ øː j n ə m œ k b ə uː s eː r n v oː s l ɪ ŋ k l ɪ l a s ɔ k m ʉ n t a\r\n",
      "[2021-06-06 15:54:30,330][fairseq.tasks.unpaired_audio_text][INFO] - LM [REF]: -53.44462585449219, 0.05339602260269112\r\n",
      "[2021-06-06 15:54:30,330][fairseq.tasks.unpaired_audio_text][INFO] - LM [HYP]: -90.50821685791016, 0.016800765929697342\r\n"
     ]
    },
    {
     "name": "stdout",
     "output_type": "stream",
     "text": [
      "[2021-06-06 15:54:30,828][valid][INFO] - {\"epoch\": 4828, \"valid_loss\": \"1.006\", \"valid_ntokens\": \"3039.79\", \"valid_nsentences\": \"144.214\", \"valid_lm_score_sum\": \"-89835.7\", \"valid_num_pred_chars\": \"48427\", \"valid_vocab_seen_pct\": \"0.890244\", \"valid_uer\": \"100.592\", \"valid_weighted_lm_ppl\": \"76.1749\", \"valid_lm_ppl\": \"60.3712\", \"valid_wps\": \"18328.9\", \"valid_wpb\": \"3039.8\", \"valid_bsz\": \"144.2\", \"valid_num_updates\": \"77248\", \"valid_best_weighted_lm_ppl\": \"73.4256\"}\r\n",
      "[2021-06-06 15:54:30,832][fairseq.checkpoint_utils][INFO] - Preparing to save checkpoint for epoch 4828 @ 77248 updates\r\n",
      "[2021-06-06 15:54:30,833][fairseq.trainer][INFO] - Saving checkpoint to /kaggle/working/checkpoint4828.pt\r\n"
     ]
    },
    {
     "name": "stdout",
     "output_type": "stream",
     "text": [
      "[2021-06-06 15:54:30,871][fairseq.trainer][INFO] - Finished saving checkpoint to /kaggle/working/checkpoint4828.pt\r\n",
      "[2021-06-06 15:54:30,900][fairseq.checkpoint_utils][INFO] - Saved checkpoint /kaggle/working/checkpoint4828.pt (epoch 4828 @ 77248 updates, score 76.17488381514345) (writing took 0.06884364199868287 seconds)\r\n",
      "[2021-06-06 15:54:30,904][fairseq_cli.train][INFO] - end of epoch 4828 (average epoch stats below)\r\n",
      "[2021-06-06 15:54:30,907][train][INFO] - {\"epoch\": 4828, \"train_loss\": \"2.973\", \"train_ntokens\": \"145.688\", \"train_nsentences\": \"145.688\", \"train_temp\": \"0.1\", \"train_code_ppl\": \"8.793\", \"train_loss_code_pen\": \"0.309\", \"train_loss_smoothness\": \"1.996\", \"train_loss_dense_g\": \"4.168\", \"train_lm_score_sum\": 0.0, \"train_num_pred_chars\": 0.0, \"train_loss_grad_pen\": \"0.047\", \"train_loss_dense_d\": \"0.027\", \"train_loss_token_d\": \"0.024\", \"train_wps\": \"10.3\", \"train_ups\": \"0.07\", \"train_wpb\": \"145.7\", \"train_bsz\": \"145.7\", \"train_num_updates\": \"77248\", \"train_lr_discriminator\": \"0.0005\", \"train_lr_generator\": \"0.0004\", \"train_gnorm\": \"27.926\", \"train_clip\": \"56.2\", \"train_train_wall\": \"223\", \"train_wall\": \"14734\"}\r\n"
     ]
    },
    {
     "name": "stdout",
     "output_type": "stream",
     "text": [
      "[2021-06-06 15:54:30,968][fairseq.trainer][INFO] - begin training epoch 4829\r\n",
      "[2021-06-06 15:54:30,969][fairseq_cli.train][INFO] - Start iterating over samples\r\n"
     ]
    },
    {
     "name": "stdout",
     "output_type": "stream",
     "text": [
      "[2021-06-06 15:57:43,780][fairseq_cli.train][INFO] - begin validation on \"valid\" subset\r\n"
     ]
    },
    {
     "name": "stdout",
     "output_type": "stream",
     "text": [
      "[2021-06-06 15:57:46,246][fairseq.tasks.unpaired_audio_text][INFO] - REF: ɛ n f œ ʂ ə n a d ɵ ʂ ə k t f øː r d eː t s ɔ m h ɛ n d ə p oː ɕ œ r k ɔ n s ɛ t ə n\r\n",
      "[2021-06-06 15:57:46,249][fairseq.tasks.unpaired_audio_text][INFO] - HYP: n ɛ s j œ r œ b j yː uː œ yː k ɵ uː ɵ øː v b n ə m œ k b ə uː s eː r n v oː s l ɪ ŋ k l ɪ l a s ɔ m ʉ n t a\r\n",
      "[2021-06-06 15:57:46,253][fairseq.tasks.unpaired_audio_text][INFO] - LM [REF]: -53.44462585449219, 0.05339602260269112\r\n",
      "[2021-06-06 15:57:46,254][fairseq.tasks.unpaired_audio_text][INFO] - LM [HYP]: -92.72521209716797, 0.0152005249419511\r\n"
     ]
    },
    {
     "name": "stdout",
     "output_type": "stream",
     "text": [
      "[2021-06-06 15:57:46,745][valid][INFO] - {\"epoch\": 4829, \"valid_loss\": \"1.005\", \"valid_ntokens\": \"3039.79\", \"valid_nsentences\": \"144.214\", \"valid_lm_score_sum\": \"-89778.1\", \"valid_num_pred_chars\": \"48443\", \"valid_vocab_seen_pct\": \"0.893728\", \"valid_uer\": \"100.519\", \"valid_weighted_lm_ppl\": \"75.2857\", \"valid_lm_ppl\": \"60.1344\", \"valid_wps\": \"18979.1\", \"valid_wpb\": \"3039.8\", \"valid_bsz\": \"144.2\", \"valid_num_updates\": \"77264\", \"valid_best_weighted_lm_ppl\": \"73.4256\"}\r\n",
      "[2021-06-06 15:57:46,748][fairseq.checkpoint_utils][INFO] - Preparing to save checkpoint for epoch 4829 @ 77264 updates\r\n",
      "[2021-06-06 15:57:46,750][fairseq.trainer][INFO] - Saving checkpoint to /kaggle/working/checkpoint4829.pt\r\n"
     ]
    },
    {
     "name": "stdout",
     "output_type": "stream",
     "text": [
      "[2021-06-06 15:57:46,788][fairseq.trainer][INFO] - Finished saving checkpoint to /kaggle/working/checkpoint4829.pt\r\n",
      "[2021-06-06 15:57:46,824][fairseq.checkpoint_utils][INFO] - Saved checkpoint /kaggle/working/checkpoint4829.pt (epoch 4829 @ 77264 updates, score 75.28565682193205) (writing took 0.07583579900165205 seconds)\r\n",
      "[2021-06-06 15:57:46,827][fairseq_cli.train][INFO] - end of epoch 4829 (average epoch stats below)\r\n"
     ]
    },
    {
     "name": "stdout",
     "output_type": "stream",
     "text": [
      "[2021-06-06 15:57:46,831][train][INFO] - {\"epoch\": 4829, \"train_loss\": \"3.431\", \"train_ntokens\": \"145.688\", \"train_nsentences\": \"145.688\", \"train_temp\": \"0.1\", \"train_code_ppl\": \"9.037\", \"train_loss_code_pen\": \"0.333\", \"train_loss_smoothness\": \"2.061\", \"train_loss_dense_g\": \"4.124\", \"train_lm_score_sum\": 0.0, \"train_num_pred_chars\": 0.0, \"train_loss_grad_pen\": \"0.059\", \"train_loss_dense_d\": \"0.024\", \"train_loss_token_d\": \"0.025\", \"train_wps\": \"11.9\", \"train_ups\": \"0.08\", \"train_wpb\": \"145.7\", \"train_bsz\": \"145.7\", \"train_num_updates\": \"77264\", \"train_lr_discriminator\": \"0.0005\", \"train_lr_generator\": \"0.0004\", \"train_gnorm\": \"29.496\", \"train_clip\": \"68.8\", \"train_train_wall\": \"192\", \"train_wall\": \"14930\"}\r\n"
     ]
    },
    {
     "name": "stdout",
     "output_type": "stream",
     "text": [
      "[2021-06-06 15:57:46,889][fairseq.trainer][INFO] - begin training epoch 4830\r\n",
      "[2021-06-06 15:57:46,891][fairseq_cli.train][INFO] - Start iterating over samples\r\n"
     ]
    },
    {
     "name": "stdout",
     "output_type": "stream",
     "text": [
      "[2021-06-06 16:00:59,636][fairseq_cli.train][INFO] - begin validation on \"valid\" subset\r\n"
     ]
    },
    {
     "name": "stdout",
     "output_type": "stream",
     "text": [
      "[2021-06-06 16:01:02,096][fairseq.tasks.unpaired_audio_text][INFO] - REF: ɛ n f œ ʂ ə n a d ɵ ʂ ə k t f øː r d eː t s ɔ m h ɛ n d ə p oː ɕ œ r k ɔ n s ɛ t ə n\r\n",
      "[2021-06-06 16:01:02,099][fairseq.tasks.unpaired_audio_text][INFO] - HYP: n ɛ s j œ r œ yː b j œ yː k ɵ uː ɵ øː j b n ə m œ k b ə uː s eː r n v oː l ɪ ŋ k l ɪ l a s ɔ m ʉ n t a\r\n",
      "[2021-06-06 16:01:02,103][fairseq.tasks.unpaired_audio_text][INFO] - LM [REF]: -53.44462585449219, 0.05339602260269112\r\n",
      "[2021-06-06 16:01:02,103][fairseq.tasks.unpaired_audio_text][INFO] - LM [HYP]: -87.36080169677734, 0.016486425180248846\r\n"
     ]
    },
    {
     "name": "stdout",
     "output_type": "stream",
     "text": [
      "[2021-06-06 16:01:02,605][valid][INFO] - {\"epoch\": 4830, \"valid_loss\": \"1.005\", \"valid_ntokens\": \"3039.79\", \"valid_nsentences\": \"144.214\", \"valid_lm_score_sum\": \"-89731.9\", \"valid_num_pred_chars\": \"48399\", \"valid_vocab_seen_pct\": \"0.893728\", \"valid_uer\": \"100.501\", \"valid_weighted_lm_ppl\": \"75.3961\", \"valid_lm_ppl\": \"60.2227\", \"valid_wps\": \"18650.7\", \"valid_wpb\": \"3039.8\", \"valid_bsz\": \"144.2\", \"valid_num_updates\": \"77280\", \"valid_best_weighted_lm_ppl\": \"73.4256\"}\r\n",
      "[2021-06-06 16:01:02,609][fairseq.checkpoint_utils][INFO] - Preparing to save checkpoint for epoch 4830 @ 77280 updates\r\n",
      "[2021-06-06 16:01:02,610][fairseq.trainer][INFO] - Saving checkpoint to /kaggle/working/checkpoint4830.pt\r\n"
     ]
    },
    {
     "name": "stdout",
     "output_type": "stream",
     "text": [
      "[2021-06-06 16:01:02,651][fairseq.trainer][INFO] - Finished saving checkpoint to /kaggle/working/checkpoint4830.pt\r\n",
      "[2021-06-06 16:01:02,680][fairseq.checkpoint_utils][INFO] - Saved checkpoint /kaggle/working/checkpoint4830.pt (epoch 4830 @ 77280 updates, score 75.39614826909745) (writing took 0.07157051399917691 seconds)\r\n"
     ]
    },
    {
     "name": "stdout",
     "output_type": "stream",
     "text": [
      "[2021-06-06 16:01:02,684][fairseq_cli.train][INFO] - end of epoch 4830 (average epoch stats below)\r\n",
      "[2021-06-06 16:01:02,688][train][INFO] - {\"epoch\": 4830, \"train_loss\": \"3.359\", \"train_ntokens\": \"145.688\", \"train_nsentences\": \"145.688\", \"train_temp\": \"0.1\", \"train_code_ppl\": \"8.94\", \"train_loss_code_pen\": \"0.325\", \"train_loss_smoothness\": \"2.039\", \"train_loss_dense_g\": \"4.003\", \"train_lm_score_sum\": 0.0, \"train_num_pred_chars\": 0.0, \"train_loss_grad_pen\": \"0.071\", \"train_loss_dense_d\": \"0.026\", \"train_loss_token_d\": \"0.024\", \"train_wps\": \"11.9\", \"train_ups\": \"0.08\", \"train_wpb\": \"145.7\", \"train_bsz\": \"145.7\", \"train_num_updates\": \"77280\", \"train_lr_discriminator\": \"0.0005\", \"train_lr_generator\": \"0.0004\", \"train_gnorm\": \"38.339\", \"train_clip\": \"62.5\", \"train_train_wall\": \"192\", \"train_wall\": \"15126\"}\r\n"
     ]
    },
    {
     "name": "stdout",
     "output_type": "stream",
     "text": [
      "[2021-06-06 16:01:02,747][fairseq.trainer][INFO] - begin training epoch 4831\r\n",
      "[2021-06-06 16:01:02,748][fairseq_cli.train][INFO] - Start iterating over samples\r\n"
     ]
    },
    {
     "name": "stdout",
     "output_type": "stream",
     "text": [
      "[2021-06-06 16:04:14,556][fairseq_cli.train][INFO] - begin validation on \"valid\" subset\r\n"
     ]
    },
    {
     "name": "stdout",
     "output_type": "stream",
     "text": [
      "[2021-06-06 16:04:17,015][fairseq.tasks.unpaired_audio_text][INFO] - REF: ɛ n f œ ʂ ə n a d ɵ ʂ ə k t f øː r d eː t s ɔ m h ɛ n d ə p oː ɕ œ r k ɔ n s ɛ t ə n\r\n",
      "[2021-06-06 16:04:17,018][fairseq.tasks.unpaired_audio_text][INFO] - HYP: n ɛ s j œ f œ yː b j yː œ yː k ɵ uː ɵ øː n ə m œ k b ə uː s eː r n v oː n l ɪ ŋ k l ɪ l a s ɔ k m ʉ n t a\r\n",
      "[2021-06-06 16:04:17,022][fairseq.tasks.unpaired_audio_text][INFO] - LM [REF]: -53.44462585449219, 0.05339602260269112\r\n",
      "[2021-06-06 16:04:17,022][fairseq.tasks.unpaired_audio_text][INFO] - LM [HYP]: -92.39573669433594, 0.014193361561251448\r\n"
     ]
    },
    {
     "name": "stdout",
     "output_type": "stream",
     "text": [
      "[2021-06-06 16:04:17,518][valid][INFO] - {\"epoch\": 4831, \"valid_loss\": \"1.006\", \"valid_ntokens\": \"3039.79\", \"valid_nsentences\": \"144.214\", \"valid_lm_score_sum\": \"-89704.7\", \"valid_num_pred_chars\": \"48432\", \"valid_vocab_seen_pct\": \"0.891986\", \"valid_uer\": \"100.613\", \"valid_weighted_lm_ppl\": \"75.3944\", \"valid_lm_ppl\": \"59.9867\", \"valid_wps\": \"18793.2\", \"valid_wpb\": \"3039.8\", \"valid_bsz\": \"144.2\", \"valid_num_updates\": \"77296\", \"valid_best_weighted_lm_ppl\": \"73.4256\"}\r\n",
      "[2021-06-06 16:04:17,522][fairseq.checkpoint_utils][INFO] - Preparing to save checkpoint for epoch 4831 @ 77296 updates\r\n",
      "[2021-06-06 16:04:17,523][fairseq.trainer][INFO] - Saving checkpoint to /kaggle/working/checkpoint4831.pt\r\n",
      "[2021-06-06 16:04:17,563][fairseq.trainer][INFO] - Finished saving checkpoint to /kaggle/working/checkpoint4831.pt\r\n"
     ]
    },
    {
     "name": "stdout",
     "output_type": "stream",
     "text": [
      "[2021-06-06 16:04:17,601][fairseq.checkpoint_utils][INFO] - Saved checkpoint /kaggle/working/checkpoint4831.pt (epoch 4831 @ 77296 updates, score 75.39438570629086) (writing took 0.07918557399898418 seconds)\r\n",
      "[2021-06-06 16:04:17,604][fairseq_cli.train][INFO] - end of epoch 4831 (average epoch stats below)\r\n",
      "[2021-06-06 16:04:17,608][train][INFO] - {\"epoch\": 4831, \"train_loss\": \"3.49\", \"train_ntokens\": \"145.688\", \"train_nsentences\": \"145.688\", \"train_temp\": \"0.1\", \"train_code_ppl\": \"9.125\", \"train_loss_code_pen\": \"0.325\", \"train_loss_smoothness\": \"2.052\", \"train_loss_dense_g\": \"4.226\", \"train_lm_score_sum\": 0.0, \"train_num_pred_chars\": 0.0, \"train_loss_grad_pen\": \"0.084\", \"train_loss_dense_d\": \"0.025\", \"train_loss_token_d\": \"0.032\", \"train_wps\": \"12\", \"train_ups\": \"0.08\", \"train_wpb\": \"145.7\", \"train_bsz\": \"145.7\", \"train_num_updates\": \"77296\", \"train_lr_discriminator\": \"0.0005\", \"train_lr_generator\": \"0.0004\", \"train_gnorm\": \"29.524\", \"train_clip\": \"75\", \"train_train_wall\": \"191\", \"train_wall\": \"15321\"}\r\n"
     ]
    },
    {
     "name": "stdout",
     "output_type": "stream",
     "text": [
      "[2021-06-06 16:04:17,671][fairseq.trainer][INFO] - begin training epoch 4832\r\n"
     ]
    },
    {
     "name": "stdout",
     "output_type": "stream",
     "text": [
      "[2021-06-06 16:04:17,672][fairseq_cli.train][INFO] - Start iterating over samples\r\n"
     ]
    },
    {
     "name": "stdout",
     "output_type": "stream",
     "text": [
      "[2021-06-06 16:05:01,589][train_inner][INFO] - {\"epoch\": 4832, \"update\": 4831.25, \"loss\": \"3.379\", \"ntokens\": \"145.54\", \"nsentences\": \"145.54\", \"temp\": \"0.1\", \"code_ppl\": \"8.966\", \"loss_code_pen\": \"0.327\", \"loss_smoothness\": \"2.058\", \"loss_dense_g\": \"4.145\", \"lm_score_sum\": 0.0, \"num_pred_chars\": 0.0, \"loss_grad_pen\": \"0.067\", \"loss_dense_d\": \"0.027\", \"loss_token_d\": \"0.027\", \"wps\": \"11.6\", \"ups\": \"0.08\", \"wpb\": \"145.5\", \"bsz\": \"145.5\", \"num_updates\": \"77300\", \"lr_discriminator\": \"0.0005\", \"lr_generator\": \"0.0004\", \"gnorm\": \"30.893\", \"clip\": \"66\", \"train_wall\": \"1232\", \"wall\": \"15365\"}\r\n"
     ]
    },
    {
     "name": "stdout",
     "output_type": "stream",
     "text": [
      "[2021-06-06 16:07:26,149][fairseq_cli.train][INFO] - begin validation on \"valid\" subset\r\n"
     ]
    },
    {
     "name": "stdout",
     "output_type": "stream",
     "text": [
      "[2021-06-06 16:07:28,697][fairseq.tasks.unpaired_audio_text][INFO] - REF: ɛ n f œ ʂ ə n a d ɵ ʂ ə k t f øː r d eː t s ɔ m h ɛ n d ə p oː ɕ œ r k ɔ n s ɛ t ə n\r\n",
      "[2021-06-06 16:07:28,700][fairseq.tasks.unpaired_audio_text][INFO] - HYP: n ɛ s j œ r œ yː b j yː uː œ yː k uː ɵ øː j b n ə m œ k b uː s eː r n v oː s l ɪ ŋ k l ɪ l a s ɔ m ʉ n t a\r\n"
     ]
    },
    {
     "name": "stdout",
     "output_type": "stream",
     "text": [
      "[2021-06-06 16:07:28,704][fairseq.tasks.unpaired_audio_text][INFO] - LM [REF]: -53.44462585449219, 0.05339602260269112\r\n",
      "[2021-06-06 16:07:28,705][fairseq.tasks.unpaired_audio_text][INFO] - LM [HYP]: -90.74853515625, 0.01531190750102319\r\n"
     ]
    },
    {
     "name": "stdout",
     "output_type": "stream",
     "text": [
      "[2021-06-06 16:07:29,210][valid][INFO] - {\"epoch\": 4832, \"valid_loss\": \"1.008\", \"valid_ntokens\": \"3039.79\", \"valid_nsentences\": \"144.214\", \"valid_lm_score_sum\": \"-90113.9\", \"valid_num_pred_chars\": \"48703\", \"valid_vocab_seen_pct\": \"0.891986\", \"valid_uer\": \"100.787\", \"valid_weighted_lm_ppl\": \"75.1464\", \"valid_lm_ppl\": \"59.7894\", \"valid_wps\": \"18134\", \"valid_wpb\": \"3039.8\", \"valid_bsz\": \"144.2\", \"valid_num_updates\": \"77312\", \"valid_best_weighted_lm_ppl\": \"73.4256\"}\r\n",
      "[2021-06-06 16:07:29,213][fairseq.checkpoint_utils][INFO] - Preparing to save checkpoint for epoch 4832 @ 77312 updates\r\n",
      "[2021-06-06 16:07:29,215][fairseq.trainer][INFO] - Saving checkpoint to /kaggle/working/checkpoint4832.pt\r\n"
     ]
    },
    {
     "name": "stdout",
     "output_type": "stream",
     "text": [
      "[2021-06-06 16:07:29,254][fairseq.trainer][INFO] - Finished saving checkpoint to /kaggle/working/checkpoint4832.pt\r\n"
     ]
    },
    {
     "name": "stdout",
     "output_type": "stream",
     "text": [
      "[2021-06-06 16:07:29,286][fairseq.checkpoint_utils][INFO] - Saved checkpoint /kaggle/working/checkpoint4832.pt (epoch 4832 @ 77312 updates, score 75.14641129709076) (writing took 0.07276076999914949 seconds)\r\n",
      "[2021-06-06 16:07:29,289][fairseq_cli.train][INFO] - end of epoch 4832 (average epoch stats below)\r\n",
      "[2021-06-06 16:07:29,292][train][INFO] - {\"epoch\": 4832, \"train_loss\": \"3.698\", \"train_ntokens\": \"145.688\", \"train_nsentences\": \"145.688\", \"train_temp\": \"0.1\", \"train_code_ppl\": \"8.892\", \"train_loss_code_pen\": \"0.325\", \"train_loss_smoothness\": \"2.07\", \"train_loss_dense_g\": \"4.226\", \"train_lm_score_sum\": 0.0, \"train_num_pred_chars\": 0.0, \"train_loss_grad_pen\": \"0.086\", \"train_loss_dense_d\": \"0.027\", \"train_loss_token_d\": \"0.026\", \"train_wps\": \"12.2\", \"train_ups\": \"0.08\", \"train_wpb\": \"145.7\", \"train_bsz\": \"145.7\", \"train_num_updates\": \"77312\", \"train_lr_discriminator\": \"0.0005\", \"train_lr_generator\": \"0.0004\", \"train_gnorm\": \"30.324\", \"train_clip\": \"81.2\", \"train_train_wall\": \"188\", \"train_wall\": \"15512\"}\r\n"
     ]
    },
    {
     "name": "stdout",
     "output_type": "stream",
     "text": [
      "[2021-06-06 16:07:29,351][fairseq.trainer][INFO] - begin training epoch 4833\r\n",
      "[2021-06-06 16:07:29,353][fairseq_cli.train][INFO] - Start iterating over samples\r\n"
     ]
    },
    {
     "name": "stdout",
     "output_type": "stream",
     "text": [
      "[2021-06-06 16:10:39,520][fairseq_cli.train][INFO] - begin validation on \"valid\" subset\r\n"
     ]
    },
    {
     "name": "stdout",
     "output_type": "stream",
     "text": [
      "[2021-06-06 16:10:42,216][fairseq.tasks.unpaired_audio_text][INFO] - REF: ɛ n f œ ʂ ə n a d ɵ ʂ ə k t f øː r d eː t s ɔ m h ɛ n d ə p oː ɕ œ r k ɔ n s ɛ t ə n\r\n",
      "[2021-06-06 16:10:42,218][fairseq.tasks.unpaired_audio_text][INFO] - HYP: n ɛ s j œ f œ yː b j yː uː œ yː k ɵ v ɵ b n ə m œ k b ə uː s eː r n v oː s l ɪ ŋ k l ɪ l a s ɔ k m ʉ n t a\r\n",
      "[2021-06-06 16:10:42,222][fairseq.tasks.unpaired_audio_text][INFO] - LM [REF]: -53.44462585449219, 0.05339602260269112\r\n",
      "[2021-06-06 16:10:42,223][fairseq.tasks.unpaired_audio_text][INFO] - LM [HYP]: -93.99970245361328, 0.014350551095611598\r\n"
     ]
    },
    {
     "name": "stdout",
     "output_type": "stream",
     "text": [
      "[2021-06-06 16:10:42,719][valid][INFO] - {\"epoch\": 4833, \"valid_loss\": \"1.006\", \"valid_ntokens\": \"3039.79\", \"valid_nsentences\": \"144.214\", \"valid_lm_score_sum\": \"-89892.2\", \"valid_num_pred_chars\": \"48537\", \"valid_vocab_seen_pct\": \"0.891986\", \"valid_uer\": \"100.566\", \"valid_weighted_lm_ppl\": \"75.3972\", \"valid_lm_ppl\": \"59.9889\", \"valid_wps\": \"18718.1\", \"valid_wpb\": \"3039.8\", \"valid_bsz\": \"144.2\", \"valid_num_updates\": \"77328\", \"valid_best_weighted_lm_ppl\": \"73.4256\"}\r\n"
     ]
    },
    {
     "name": "stdout",
     "output_type": "stream",
     "text": [
      "[2021-06-06 16:10:42,722][fairseq.checkpoint_utils][INFO] - Preparing to save checkpoint for epoch 4833 @ 77328 updates\r\n",
      "[2021-06-06 16:10:42,724][fairseq.trainer][INFO] - Saving checkpoint to /kaggle/working/checkpoint4833.pt\r\n",
      "[2021-06-06 16:10:42,764][fairseq.trainer][INFO] - Finished saving checkpoint to /kaggle/working/checkpoint4833.pt\r\n"
     ]
    },
    {
     "name": "stdout",
     "output_type": "stream",
     "text": [
      "[2021-06-06 16:10:42,794][fairseq.checkpoint_utils][INFO] - Saved checkpoint /kaggle/working/checkpoint4833.pt (epoch 4833 @ 77328 updates, score 75.3971625843873) (writing took 0.07225599099911051 seconds)\r\n",
      "[2021-06-06 16:10:42,798][fairseq_cli.train][INFO] - end of epoch 4833 (average epoch stats below)\r\n",
      "[2021-06-06 16:10:42,800][train][INFO] - {\"epoch\": 4833, \"train_loss\": \"3.688\", \"train_ntokens\": \"145.688\", \"train_nsentences\": \"145.688\", \"train_temp\": \"0.1\", \"train_code_ppl\": \"8.999\", \"train_loss_code_pen\": \"0.338\", \"train_loss_smoothness\": \"2.111\", \"train_loss_dense_g\": \"4.144\", \"train_lm_score_sum\": 0.0, \"train_num_pred_chars\": 0.0, \"train_loss_grad_pen\": \"0.099\", \"train_loss_dense_d\": \"0.027\", \"train_loss_token_d\": \"0.024\", \"train_wps\": \"12\", \"train_ups\": \"0.08\", \"train_wpb\": \"145.7\", \"train_bsz\": \"145.7\", \"train_num_updates\": \"77328\", \"train_lr_discriminator\": \"0.0005\", \"train_lr_generator\": \"0.0004\", \"train_gnorm\": \"29.715\", \"train_clip\": \"81.2\", \"train_train_wall\": \"190\", \"train_wall\": \"15706\"}\r\n"
     ]
    },
    {
     "name": "stdout",
     "output_type": "stream",
     "text": [
      "[2021-06-06 16:10:42,860][fairseq.trainer][INFO] - begin training epoch 4834\r\n",
      "[2021-06-06 16:10:42,862][fairseq_cli.train][INFO] - Start iterating over samples\r\n"
     ]
    },
    {
     "name": "stdout",
     "output_type": "stream",
     "text": [
      "[2021-06-06 16:13:46,090][fairseq_cli.train][INFO] - begin validation on \"valid\" subset\r\n"
     ]
    },
    {
     "name": "stdout",
     "output_type": "stream",
     "text": [
      "[2021-06-06 16:13:48,622][fairseq.tasks.unpaired_audio_text][INFO] - REF: ɛ n f œ ʂ ə n a d ɵ ʂ ə k t f øː r d eː t s ɔ m h ɛ n d ə p oː ɕ œ r k ɔ n s ɛ t ə n\r\n",
      "[2021-06-06 16:13:48,625][fairseq.tasks.unpaired_audio_text][INFO] - HYP: n ɛ s j œ r œ yː b j yː uː œ yː k ɵ uː ɵ b n ə m œ k b ə uː s eː r n v oː s l ɪ ŋ k l ɪ l a s ɔ k m ʉ n t a\r\n",
      "[2021-06-06 16:13:48,629][fairseq.tasks.unpaired_audio_text][INFO] - LM [REF]: -53.44462585449219, 0.05339602260269112\r\n",
      "[2021-06-06 16:13:48,630][fairseq.tasks.unpaired_audio_text][INFO] - LM [HYP]: -93.6106948852539, 0.01460481898866024\r\n"
     ]
    },
    {
     "name": "stdout",
     "output_type": "stream",
     "text": [
      "[2021-06-06 16:13:49,129][valid][INFO] - {\"epoch\": 4834, \"valid_loss\": \"1.008\", \"valid_ntokens\": \"3039.79\", \"valid_nsentences\": \"144.214\", \"valid_lm_score_sum\": \"-90200.8\", \"valid_num_pred_chars\": \"48633\", \"valid_vocab_seen_pct\": \"0.891986\", \"valid_uer\": \"100.773\", \"valid_weighted_lm_ppl\": \"75.8714\", \"valid_lm_ppl\": \"60.3662\", \"valid_wps\": \"18666.8\", \"valid_wpb\": \"3039.8\", \"valid_bsz\": \"144.2\", \"valid_num_updates\": \"77344\", \"valid_best_weighted_lm_ppl\": \"73.4256\"}\r\n",
      "[2021-06-06 16:13:49,132][fairseq.checkpoint_utils][INFO] - Preparing to save checkpoint for epoch 4834 @ 77344 updates\r\n",
      "[2021-06-06 16:13:49,133][fairseq.trainer][INFO] - Saving checkpoint to /kaggle/working/checkpoint4834.pt\r\n"
     ]
    },
    {
     "name": "stdout",
     "output_type": "stream",
     "text": [
      "[2021-06-06 16:13:49,171][fairseq.trainer][INFO] - Finished saving checkpoint to /kaggle/working/checkpoint4834.pt\r\n"
     ]
    },
    {
     "name": "stdout",
     "output_type": "stream",
     "text": [
      "[2021-06-06 16:13:49,201][fairseq.checkpoint_utils][INFO] - Saved checkpoint /kaggle/working/checkpoint4834.pt (epoch 4834 @ 77344 updates, score 75.87139320698552) (writing took 0.06873935699695721 seconds)\r\n",
      "[2021-06-06 16:13:49,204][fairseq_cli.train][INFO] - end of epoch 4834 (average epoch stats below)\r\n",
      "[2021-06-06 16:13:49,208][train][INFO] - {\"epoch\": 4834, \"train_loss\": \"3.613\", \"train_ntokens\": \"145.688\", \"train_nsentences\": \"145.688\", \"train_temp\": \"0.1\", \"train_code_ppl\": \"8.958\", \"train_loss_code_pen\": \"0.324\", \"train_loss_smoothness\": \"2.062\", \"train_loss_dense_g\": \"4.09\", \"train_lm_score_sum\": 0.0, \"train_num_pred_chars\": 0.0, \"train_loss_grad_pen\": \"0.073\", \"train_loss_dense_d\": \"0.029\", \"train_loss_token_d\": \"0.025\", \"train_wps\": \"12.5\", \"train_ups\": \"0.09\", \"train_wpb\": \"145.7\", \"train_bsz\": \"145.7\", \"train_num_updates\": \"77344\", \"train_lr_discriminator\": \"0.0005\", \"train_lr_generator\": \"0.0004\", \"train_gnorm\": \"35.879\", \"train_clip\": \"75\", \"train_train_wall\": \"183\", \"train_wall\": \"15892\"}\r\n"
     ]
    },
    {
     "name": "stdout",
     "output_type": "stream",
     "text": [
      "[2021-06-06 16:13:49,263][fairseq.trainer][INFO] - begin training epoch 4835\r\n",
      "[2021-06-06 16:13:49,264][fairseq_cli.train][INFO] - Start iterating over samples\r\n"
     ]
    },
    {
     "name": "stdout",
     "output_type": "stream",
     "text": [
      "[2021-06-06 16:17:29,843][fairseq_cli.train][INFO] - begin validation on \"valid\" subset\r\n"
     ]
    },
    {
     "name": "stdout",
     "output_type": "stream",
     "text": [
      "[2021-06-06 16:17:32,346][fairseq.tasks.unpaired_audio_text][INFO] - REF: ɛ n f œ ʂ ə n a d ɵ ʂ ə k t f øː r d eː t s ɔ m h ɛ n d ə p oː ɕ œ r k ɔ n s ɛ t ə n\r\n",
      "[2021-06-06 16:17:32,349][fairseq.tasks.unpaired_audio_text][INFO] - HYP: t ɕ ɛ s j œ f œ yː b j yː uː œ yː k ɵ uː ɵ øː j b n ə m œ k b ə uː s eː r n v oː l ɪ ŋ k l ɪ l a s ɔ m ʉ n t a\r\n",
      "[2021-06-06 16:17:32,353][fairseq.tasks.unpaired_audio_text][INFO] - LM [REF]: -53.44462585449219, 0.05339602260269112\r\n",
      "[2021-06-06 16:17:32,354][fairseq.tasks.unpaired_audio_text][INFO] - LM [HYP]: -95.6550521850586, 0.014470374322240052\r\n"
     ]
    },
    {
     "name": "stdout",
     "output_type": "stream",
     "text": [
      "[2021-06-06 16:17:32,859][valid][INFO] - {\"epoch\": 4835, \"valid_loss\": \"1.007\", \"valid_ntokens\": \"3039.79\", \"valid_nsentences\": \"144.214\", \"valid_lm_score_sum\": \"-89943.2\", \"valid_num_pred_chars\": \"48554\", \"valid_vocab_seen_pct\": \"0.88676\", \"valid_uer\": \"100.674\", \"valid_weighted_lm_ppl\": \"76.3607\", \"valid_lm_ppl\": \"60.0457\", \"valid_wps\": \"18784.9\", \"valid_wpb\": \"3039.8\", \"valid_bsz\": \"144.2\", \"valid_num_updates\": \"77360\", \"valid_best_weighted_lm_ppl\": \"73.4256\"}\r\n",
      "[2021-06-06 16:17:32,862][fairseq.checkpoint_utils][INFO] - Preparing to save checkpoint for epoch 4835 @ 77360 updates\r\n",
      "[2021-06-06 16:17:32,864][fairseq.trainer][INFO] - Saving checkpoint to /kaggle/working/checkpoint4835.pt\r\n"
     ]
    },
    {
     "name": "stdout",
     "output_type": "stream",
     "text": [
      "[2021-06-06 16:17:32,901][fairseq.trainer][INFO] - Finished saving checkpoint to /kaggle/working/checkpoint4835.pt\r\n",
      "[2021-06-06 16:17:32,931][fairseq.checkpoint_utils][INFO] - Saved checkpoint /kaggle/working/checkpoint4835.pt (epoch 4835 @ 77360 updates, score 76.36070267217083) (writing took 0.06883979099802673 seconds)\r\n",
      "[2021-06-06 16:17:32,935][fairseq_cli.train][INFO] - end of epoch 4835 (average epoch stats below)\r\n"
     ]
    },
    {
     "name": "stdout",
     "output_type": "stream",
     "text": [
      "[2021-06-06 16:17:32,938][train][INFO] - {\"epoch\": 4835, \"train_loss\": \"2.997\", \"train_ntokens\": \"145.688\", \"train_nsentences\": \"145.688\", \"train_temp\": \"0.1\", \"train_code_ppl\": \"9.122\", \"train_loss_code_pen\": \"0.333\", \"train_loss_smoothness\": \"2.084\", \"train_loss_dense_g\": \"4.071\", \"train_lm_score_sum\": 0.0, \"train_num_pred_chars\": 0.0, \"train_loss_grad_pen\": \"0.083\", \"train_loss_dense_d\": \"0.024\", \"train_loss_token_d\": \"0.023\", \"train_wps\": \"10.4\", \"train_ups\": \"0.07\", \"train_wpb\": \"145.7\", \"train_bsz\": \"145.7\", \"train_num_updates\": \"77360\", \"train_lr_discriminator\": \"0.0005\", \"train_lr_generator\": \"0.0004\", \"train_gnorm\": \"29.462\", \"train_clip\": \"81.2\", \"train_train_wall\": \"220\", \"train_wall\": \"16116\"}\r\n"
     ]
    },
    {
     "name": "stdout",
     "output_type": "stream",
     "text": [
      "[2021-06-06 16:17:33,001][fairseq.trainer][INFO] - begin training epoch 4836\r\n",
      "[2021-06-06 16:17:33,003][fairseq_cli.train][INFO] - Start iterating over samples\r\n"
     ]
    },
    {
     "name": "stdout",
     "output_type": "stream",
     "text": [
      "[2021-06-06 16:20:46,805][fairseq_cli.train][INFO] - begin validation on \"valid\" subset\r\n"
     ]
    },
    {
     "name": "stdout",
     "output_type": "stream",
     "text": [
      "[2021-06-06 16:20:49,321][fairseq.tasks.unpaired_audio_text][INFO] - REF: ɛ n f œ ʂ ə n a d ɵ ʂ ə k t f øː r d eː t s ɔ m h ɛ n d ə p oː ɕ œ r k ɔ n s ɛ t ə n\r\n",
      "[2021-06-06 16:20:49,323][fairseq.tasks.unpaired_audio_text][INFO] - HYP: t ɕ ɛ s j œ r œ b j uː œ yː k ɵ uː ɵ v j ə m œ k b uː s eː r n v oː s l ɪ ŋ k l ɪ l a s ɔ m ʉ n a\r\n",
      "[2021-06-06 16:20:49,327][fairseq.tasks.unpaired_audio_text][INFO] - LM [REF]: -53.44462585449219, 0.05339602260269112\r\n",
      "[2021-06-06 16:20:49,328][fairseq.tasks.unpaired_audio_text][INFO] - LM [HYP]: -83.65281677246094, 0.016601710433050264\r\n"
     ]
    },
    {
     "name": "stdout",
     "output_type": "stream",
     "text": [
      "[2021-06-06 16:20:49,825][valid][INFO] - {\"epoch\": 4836, \"valid_loss\": \"1.007\", \"valid_ntokens\": \"3039.79\", \"valid_nsentences\": \"144.214\", \"valid_lm_score_sum\": \"-89947\", \"valid_num_pred_chars\": \"48567\", \"valid_vocab_seen_pct\": \"0.888502\", \"valid_uer\": \"100.705\", \"valid_weighted_lm_ppl\": \"75.9947\", \"valid_lm_ppl\": \"59.9929\", \"valid_wps\": \"18407.1\", \"valid_wpb\": \"3039.8\", \"valid_bsz\": \"144.2\", \"valid_num_updates\": \"77376\", \"valid_best_weighted_lm_ppl\": \"73.4256\"}\r\n"
     ]
    },
    {
     "name": "stdout",
     "output_type": "stream",
     "text": [
      "[2021-06-06 16:20:49,828][fairseq.checkpoint_utils][INFO] - Preparing to save checkpoint for epoch 4836 @ 77376 updates\r\n",
      "[2021-06-06 16:20:49,830][fairseq.trainer][INFO] - Saving checkpoint to /kaggle/working/checkpoint4836.pt\r\n",
      "[2021-06-06 16:20:49,870][fairseq.trainer][INFO] - Finished saving checkpoint to /kaggle/working/checkpoint4836.pt\r\n"
     ]
    },
    {
     "name": "stdout",
     "output_type": "stream",
     "text": [
      "[2021-06-06 16:20:49,902][fairseq.checkpoint_utils][INFO] - Saved checkpoint /kaggle/working/checkpoint4836.pt (epoch 4836 @ 77376 updates, score 75.99467301542644) (writing took 0.07351420299892197 seconds)\r\n",
      "[2021-06-06 16:20:49,905][fairseq_cli.train][INFO] - end of epoch 4836 (average epoch stats below)\r\n",
      "[2021-06-06 16:20:49,908][train][INFO] - {\"epoch\": 4836, \"train_loss\": \"3.486\", \"train_ntokens\": \"145.688\", \"train_nsentences\": \"145.688\", \"train_temp\": \"0.1\", \"train_code_ppl\": \"8.906\", \"train_loss_code_pen\": \"0.323\", \"train_loss_smoothness\": \"2.07\", \"train_loss_dense_g\": \"4.231\", \"train_lm_score_sum\": 0.0, \"train_num_pred_chars\": 0.0, \"train_loss_grad_pen\": \"0.062\", \"train_loss_dense_d\": \"0.023\", \"train_loss_token_d\": \"0.026\", \"train_wps\": \"11.8\", \"train_ups\": \"0.08\", \"train_wpb\": \"145.7\", \"train_bsz\": \"145.7\", \"train_num_updates\": \"77376\", \"train_lr_discriminator\": \"0.0005\", \"train_lr_generator\": \"0.0004\", \"train_gnorm\": \"34.519\", \"train_clip\": \"75\", \"train_train_wall\": \"193\", \"train_wall\": \"16313\"}\r\n"
     ]
    },
    {
     "name": "stdout",
     "output_type": "stream",
     "text": [
      "[2021-06-06 16:20:49,969][fairseq.trainer][INFO] - begin training epoch 4837\r\n",
      "[2021-06-06 16:20:49,971][fairseq_cli.train][INFO] - Start iterating over samples\r\n"
     ]
    },
    {
     "name": "stdout",
     "output_type": "stream",
     "text": [
      "[2021-06-06 16:24:09,100][fairseq_cli.train][INFO] - begin validation on \"valid\" subset\r\n"
     ]
    },
    {
     "name": "stdout",
     "output_type": "stream",
     "text": [
      "[2021-06-06 16:24:11,546][fairseq.tasks.unpaired_audio_text][INFO] - REF: ɛ n f œ ʂ ə n a d ɵ ʂ ə k t f øː r d eː t s ɔ m h ɛ n d ə p oː ɕ œ r k ɔ n s ɛ t ə n\r\n",
      "[2021-06-06 16:24:11,549][fairseq.tasks.unpaired_audio_text][INFO] - HYP: uː ɕ ɛ s j œ r œ b j uː œ yː k ɵ uː ɵ v j b n ə m œ b ə uː s eː r n v oː l ɪ ŋ k l ɪ l a s ɔ m ʉ n a\r\n",
      "[2021-06-06 16:24:11,553][fairseq.tasks.unpaired_audio_text][INFO] - LM [REF]: -53.44462585449219, 0.05339602260269112\r\n",
      "[2021-06-06 16:24:11,553][fairseq.tasks.unpaired_audio_text][INFO] - LM [HYP]: -85.94447326660156, 0.016199072169816142\r\n"
     ]
    },
    {
     "name": "stdout",
     "output_type": "stream",
     "text": [
      "[2021-06-06 16:24:12,062][valid][INFO] - {\"epoch\": 4837, \"valid_loss\": \"1.006\", \"valid_ntokens\": \"3039.79\", \"valid_nsentences\": \"144.214\", \"valid_lm_score_sum\": \"-89887.1\", \"valid_num_pred_chars\": \"48440\", \"valid_vocab_seen_pct\": \"0.891986\", \"valid_uer\": \"100.604\", \"valid_weighted_lm_ppl\": \"75.9755\", \"valid_lm_ppl\": \"60.4491\", \"valid_wps\": \"18726.6\", \"valid_wpb\": \"3039.8\", \"valid_bsz\": \"144.2\", \"valid_num_updates\": \"77392\", \"valid_best_weighted_lm_ppl\": \"73.4256\"}\r\n",
      "[2021-06-06 16:24:12,065][fairseq.checkpoint_utils][INFO] - Preparing to save checkpoint for epoch 4837 @ 77392 updates\r\n",
      "[2021-06-06 16:24:12,066][fairseq.trainer][INFO] - Saving checkpoint to /kaggle/working/checkpoint4837.pt\r\n"
     ]
    },
    {
     "name": "stdout",
     "output_type": "stream",
     "text": [
      "[2021-06-06 16:24:12,105][fairseq.trainer][INFO] - Finished saving checkpoint to /kaggle/working/checkpoint4837.pt\r\n"
     ]
    },
    {
     "name": "stdout",
     "output_type": "stream",
     "text": [
      "[2021-06-06 16:24:12,135][fairseq.checkpoint_utils][INFO] - Saved checkpoint /kaggle/working/checkpoint4837.pt (epoch 4837 @ 77392 updates, score 75.97547916273597) (writing took 0.07019402300284128 seconds)\r\n",
      "[2021-06-06 16:24:12,138][fairseq_cli.train][INFO] - end of epoch 4837 (average epoch stats below)\r\n",
      "[2021-06-06 16:24:12,142][train][INFO] - {\"epoch\": 4837, \"train_loss\": \"3.383\", \"train_ntokens\": \"145.688\", \"train_nsentences\": \"145.688\", \"train_temp\": \"0.1\", \"train_code_ppl\": \"8.931\", \"train_loss_code_pen\": \"0.319\", \"train_loss_smoothness\": \"2.052\", \"train_loss_dense_g\": \"4.048\", \"train_lm_score_sum\": 0.0, \"train_num_pred_chars\": 0.0, \"train_loss_grad_pen\": \"0.061\", \"train_loss_dense_d\": \"0.028\", \"train_loss_token_d\": \"0.027\", \"train_wps\": \"11.5\", \"train_ups\": \"0.08\", \"train_wpb\": \"145.7\", \"train_bsz\": \"145.7\", \"train_num_updates\": \"77392\", \"train_lr_discriminator\": \"0.0005\", \"train_lr_generator\": \"0.0004\", \"train_gnorm\": \"29.45\", \"train_clip\": \"75\", \"train_train_wall\": \"199\", \"train_wall\": \"16515\"}\r\n"
     ]
    },
    {
     "name": "stdout",
     "output_type": "stream",
     "text": [
      "[2021-06-06 16:24:12,201][fairseq.trainer][INFO] - begin training epoch 4838\r\n",
      "[2021-06-06 16:24:12,203][fairseq_cli.train][INFO] - Start iterating over samples\r\n"
     ]
    },
    {
     "name": "stdout",
     "output_type": "stream",
     "text": [
      "[2021-06-06 16:25:40,733][train_inner][INFO] - {\"epoch\": 4838, \"update\": 4837.5, \"loss\": \"3.486\", \"ntokens\": \"145.41\", \"nsentences\": \"145.41\", \"temp\": \"0.1\", \"code_ppl\": \"9.053\", \"loss_code_pen\": \"0.33\", \"loss_smoothness\": \"2.084\", \"loss_dense_g\": \"4.112\", \"lm_score_sum\": 0.0, \"num_pred_chars\": 0.0, \"loss_grad_pen\": \"0.082\", \"loss_dense_d\": \"0.026\", \"loss_token_d\": \"0.025\", \"wps\": \"11.7\", \"ups\": \"0.08\", \"wpb\": \"145.4\", \"bsz\": \"145.4\", \"num_updates\": \"77400\", \"lr_discriminator\": \"0.0005\", \"lr_generator\": \"0.0004\", \"gnorm\": \"31.785\", \"clip\": \"80\", \"train_wall\": \"1217\", \"wall\": \"16604\"}\r\n"
     ]
    },
    {
     "name": "stdout",
     "output_type": "stream",
     "text": [
      "[2021-06-06 16:27:18,831][fairseq_cli.train][INFO] - begin validation on \"valid\" subset\r\n"
     ]
    },
    {
     "name": "stdout",
     "output_type": "stream",
     "text": [
      "[2021-06-06 16:27:21,310][fairseq.tasks.unpaired_audio_text][INFO] - REF: ɛ n f œ ʂ ə n a d ɵ ʂ ə k t f øː r d eː t s ɔ m h ɛ n d ə p oː ɕ œ r k ɔ n s ɛ t ə n\r\n",
      "[2021-06-06 16:27:21,312][fairseq.tasks.unpaired_audio_text][INFO] - HYP: uː ɕ ɛ s j œ f œ b j uː œ j k ɵ uː ɵ v j yː b n ə m œ k b ə uː s eː r n v oː l ɪ ŋ k l ɪ l a s ɔ m ʉ n a\r\n",
      "[2021-06-06 16:27:21,317][fairseq.tasks.unpaired_audio_text][INFO] - LM [REF]: -53.44462585449219, 0.05339602260269112\r\n",
      "[2021-06-06 16:27:21,317][fairseq.tasks.unpaired_audio_text][INFO] - LM [HYP]: -91.02930450439453, 0.01511520041416726\r\n"
     ]
    },
    {
     "name": "stdout",
     "output_type": "stream",
     "text": [
      "[2021-06-06 16:27:21,812][valid][INFO] - {\"epoch\": 4838, \"valid_loss\": \"1.008\", \"valid_ntokens\": \"3039.79\", \"valid_nsentences\": \"144.214\", \"valid_lm_score_sum\": \"-90132.9\", \"valid_num_pred_chars\": \"48618\", \"valid_vocab_seen_pct\": \"0.890244\", \"valid_uer\": \"100.754\", \"valid_weighted_lm_ppl\": \"76.0262\", \"valid_lm_ppl\": \"60.2534\", \"valid_wps\": \"18916.3\", \"valid_wpb\": \"3039.8\", \"valid_bsz\": \"144.2\", \"valid_num_updates\": \"77408\", \"valid_best_weighted_lm_ppl\": \"73.4256\"}\r\n"
     ]
    },
    {
     "name": "stdout",
     "output_type": "stream",
     "text": [
      "[2021-06-06 16:27:21,816][fairseq.checkpoint_utils][INFO] - Preparing to save checkpoint for epoch 4838 @ 77408 updates\r\n",
      "[2021-06-06 16:27:21,818][fairseq.trainer][INFO] - Saving checkpoint to /kaggle/working/checkpoint4838.pt\r\n",
      "[2021-06-06 16:27:21,857][fairseq.trainer][INFO] - Finished saving checkpoint to /kaggle/working/checkpoint4838.pt\r\n"
     ]
    },
    {
     "name": "stdout",
     "output_type": "stream",
     "text": [
      "[2021-06-06 16:27:21,889][fairseq.checkpoint_utils][INFO] - Saved checkpoint /kaggle/working/checkpoint4838.pt (epoch 4838 @ 77408 updates, score 76.02619524885603) (writing took 0.0733539130014833 seconds)\r\n",
      "[2021-06-06 16:27:21,892][fairseq_cli.train][INFO] - end of epoch 4838 (average epoch stats below)\r\n",
      "[2021-06-06 16:27:21,895][train][INFO] - {\"epoch\": 4838, \"train_loss\": \"3.659\", \"train_ntokens\": \"145.688\", \"train_nsentences\": \"145.688\", \"train_temp\": \"0.1\", \"train_code_ppl\": \"8.971\", \"train_loss_code_pen\": \"0.331\", \"train_loss_smoothness\": \"2.105\", \"train_loss_dense_g\": \"4.051\", \"train_lm_score_sum\": 0.0, \"train_num_pred_chars\": 0.0, \"train_loss_grad_pen\": \"0.167\", \"train_loss_dense_d\": \"0.026\", \"train_loss_token_d\": \"0.022\", \"train_wps\": \"12.3\", \"train_ups\": \"0.08\", \"train_wpb\": \"145.7\", \"train_bsz\": \"145.7\", \"train_num_updates\": \"77408\", \"train_lr_discriminator\": \"0.0005\", \"train_lr_generator\": \"0.0004\", \"train_gnorm\": \"31.826\", \"train_clip\": \"93.8\", \"train_train_wall\": \"186\", \"train_wall\": \"16705\"}\r\n"
     ]
    },
    {
     "name": "stdout",
     "output_type": "stream",
     "text": [
      "[2021-06-06 16:27:21,959][fairseq.trainer][INFO] - begin training epoch 4839\r\n",
      "[2021-06-06 16:27:21,960][fairseq_cli.train][INFO] - Start iterating over samples\r\n"
     ]
    },
    {
     "name": "stdout",
     "output_type": "stream",
     "text": [
      "[2021-06-06 16:31:05,423][fairseq_cli.train][INFO] - begin validation on \"valid\" subset\r\n"
     ]
    },
    {
     "name": "stdout",
     "output_type": "stream",
     "text": [
      "[2021-06-06 16:31:07,897][fairseq.tasks.unpaired_audio_text][INFO] - REF: ɛ n f œ ʂ ə n a d ɵ ʂ ə k t f øː r d eː t s ɔ m h ɛ n d ə p oː ɕ œ r k ɔ n s ɛ t ə n\r\n",
      "[2021-06-06 16:31:07,899][fairseq.tasks.unpaired_audio_text][INFO] - HYP: t ɕ ɛ s j œ r œ yː b j yː uː œ j k ɵ uː ɵ v yː b n ə m œ b ə uː s eː r n v oː s l ɪ ŋ k l ɪ l a s ɔ k m ʉ n t a\r\n",
      "[2021-06-06 16:31:07,904][fairseq.tasks.unpaired_audio_text][INFO] - LM [REF]: -53.44462585449219, 0.05339602260269112\r\n",
      "[2021-06-06 16:31:07,904][fairseq.tasks.unpaired_audio_text][INFO] - LM [HYP]: -96.95750427246094, 0.014811980339921309\r\n"
     ]
    },
    {
     "name": "stdout",
     "output_type": "stream",
     "text": [
      "[2021-06-06 16:31:08,402][valid][INFO] - {\"epoch\": 4839, \"valid_loss\": \"1.007\", \"valid_ntokens\": \"3039.79\", \"valid_nsentences\": \"144.214\", \"valid_lm_score_sum\": \"-90031.5\", \"valid_num_pred_chars\": \"48556\", \"valid_vocab_seen_pct\": \"0.890244\", \"valid_uer\": \"100.696\", \"valid_weighted_lm_ppl\": \"76.0571\", \"valid_lm_ppl\": \"60.2778\", \"valid_wps\": \"18838.8\", \"valid_wpb\": \"3039.8\", \"valid_bsz\": \"144.2\", \"valid_num_updates\": \"77424\", \"valid_best_weighted_lm_ppl\": \"73.4256\"}\r\n",
      "[2021-06-06 16:31:08,405][fairseq.checkpoint_utils][INFO] - Preparing to save checkpoint for epoch 4839 @ 77424 updates\r\n",
      "[2021-06-06 16:31:08,407][fairseq.trainer][INFO] - Saving checkpoint to /kaggle/working/checkpoint4839.pt\r\n"
     ]
    },
    {
     "name": "stdout",
     "output_type": "stream",
     "text": [
      "[2021-06-06 16:31:08,447][fairseq.trainer][INFO] - Finished saving checkpoint to /kaggle/working/checkpoint4839.pt\r\n"
     ]
    },
    {
     "name": "stdout",
     "output_type": "stream",
     "text": [
      "[2021-06-06 16:31:08,491][fairseq.checkpoint_utils][INFO] - Saved checkpoint /kaggle/working/checkpoint4839.pt (epoch 4839 @ 77424 updates, score 76.05706472378114) (writing took 0.08533379300206434 seconds)\r\n",
      "[2021-06-06 16:31:08,494][fairseq_cli.train][INFO] - end of epoch 4839 (average epoch stats below)\r\n",
      "[2021-06-06 16:31:08,497][train][INFO] - {\"epoch\": 4839, \"train_loss\": \"3.069\", \"train_ntokens\": \"145.688\", \"train_nsentences\": \"145.688\", \"train_temp\": \"0.1\", \"train_code_ppl\": \"8.707\", \"train_loss_code_pen\": \"0.313\", \"train_loss_smoothness\": \"2.012\", \"train_loss_dense_g\": \"4.288\", \"train_lm_score_sum\": 0.0, \"train_num_pred_chars\": 0.0, \"train_loss_grad_pen\": \"0.107\", \"train_loss_dense_d\": \"0.026\", \"train_loss_token_d\": \"0.026\", \"train_wps\": \"10.3\", \"train_ups\": \"0.07\", \"train_wpb\": \"145.7\", \"train_bsz\": \"145.7\", \"train_num_updates\": \"77424\", \"train_lr_discriminator\": \"0.0005\", \"train_lr_generator\": \"0.0004\", \"train_gnorm\": \"30.383\", \"train_clip\": \"81.2\", \"train_train_wall\": \"223\", \"train_wall\": \"16931\"}\r\n"
     ]
    },
    {
     "name": "stdout",
     "output_type": "stream",
     "text": [
      "[2021-06-06 16:31:08,558][fairseq.trainer][INFO] - begin training epoch 4840\r\n",
      "[2021-06-06 16:31:08,560][fairseq_cli.train][INFO] - Start iterating over samples\r\n"
     ]
    },
    {
     "name": "stdout",
     "output_type": "stream",
     "text": [
      "[2021-06-06 16:34:22,883][fairseq_cli.train][INFO] - begin validation on \"valid\" subset\r\n"
     ]
    },
    {
     "name": "stdout",
     "output_type": "stream",
     "text": [
      "[2021-06-06 16:34:25,385][fairseq.tasks.unpaired_audio_text][INFO] - REF: ɛ n f œ ʂ ə n a d ɵ ʂ ə k t f øː r d eː t s ɔ m h ɛ n d ə p oː ɕ œ r k ɔ n s ɛ t ə n\r\n"
     ]
    },
    {
     "name": "stdout",
     "output_type": "stream",
     "text": [
      "[2021-06-06 16:34:25,388][fairseq.tasks.unpaired_audio_text][INFO] - HYP: uː s ɛ s j œ r œ yː b j yː uː œ j k ɵ uː ɵ øː v yː b n ə m œ b ə uː s eː r n v oː s l ɪ ŋ k l ɪ l a s ɔ m k n t a\r\n",
      "[2021-06-06 16:34:25,393][fairseq.tasks.unpaired_audio_text][INFO] - LM [REF]: -53.44462585449219, 0.05339602260269112\r\n",
      "[2021-06-06 16:34:25,393][fairseq.tasks.unpaired_audio_text][INFO] - LM [HYP]: -96.0184555053711, 0.015428760167562894\r\n"
     ]
    },
    {
     "name": "stdout",
     "output_type": "stream",
     "text": [
      "[2021-06-06 16:34:25,887][valid][INFO] - {\"epoch\": 4840, \"valid_loss\": \"1.007\", \"valid_ntokens\": \"3039.79\", \"valid_nsentences\": \"144.214\", \"valid_lm_score_sum\": \"-90004.1\", \"valid_num_pred_chars\": \"48573\", \"valid_vocab_seen_pct\": \"0.893728\", \"valid_uer\": \"100.733\", \"valid_weighted_lm_ppl\": \"75.2675\", \"valid_lm_ppl\": \"60.1199\", \"valid_wps\": \"18854.4\", \"valid_wpb\": \"3039.8\", \"valid_bsz\": \"144.2\", \"valid_num_updates\": \"77440\", \"valid_best_weighted_lm_ppl\": \"73.4256\"}\r\n",
      "[2021-06-06 16:34:25,891][fairseq.checkpoint_utils][INFO] - Preparing to save checkpoint for epoch 4840 @ 77440 updates\r\n",
      "[2021-06-06 16:34:25,892][fairseq.trainer][INFO] - Saving checkpoint to /kaggle/working/checkpoint4840.pt\r\n"
     ]
    },
    {
     "name": "stdout",
     "output_type": "stream",
     "text": [
      "[2021-06-06 16:34:25,931][fairseq.trainer][INFO] - Finished saving checkpoint to /kaggle/working/checkpoint4840.pt\r\n"
     ]
    },
    {
     "name": "stdout",
     "output_type": "stream",
     "text": [
      "[2021-06-06 16:34:25,963][fairseq.checkpoint_utils][INFO] - Saved checkpoint /kaggle/working/checkpoint4840.pt (epoch 4840 @ 77440 updates, score 75.26750833121987) (writing took 0.07237955300297472 seconds)\r\n",
      "[2021-06-06 16:34:25,966][fairseq_cli.train][INFO] - end of epoch 4840 (average epoch stats below)\r\n",
      "[2021-06-06 16:34:25,969][train][INFO] - {\"epoch\": 4840, \"train_loss\": \"3.431\", \"train_ntokens\": \"145.688\", \"train_nsentences\": \"145.688\", \"train_temp\": \"0.1\", \"train_code_ppl\": \"8.97\", \"train_loss_code_pen\": \"0.316\", \"train_loss_smoothness\": \"2.061\", \"train_loss_dense_g\": \"4.126\", \"train_lm_score_sum\": 0.0, \"train_num_pred_chars\": 0.0, \"train_loss_grad_pen\": \"0.077\", \"train_loss_dense_d\": \"0.023\", \"train_loss_token_d\": \"0.025\", \"train_wps\": \"11.8\", \"train_ups\": \"0.08\", \"train_wpb\": \"145.7\", \"train_bsz\": \"145.7\", \"train_num_updates\": \"77440\", \"train_lr_discriminator\": \"0.0005\", \"train_lr_generator\": \"0.0004\", \"train_gnorm\": \"31.732\", \"train_clip\": \"68.8\", \"train_train_wall\": \"194\", \"train_wall\": \"17129\"}\r\n"
     ]
    },
    {
     "name": "stdout",
     "output_type": "stream",
     "text": [
      "[2021-06-06 16:34:26,027][fairseq.trainer][INFO] - begin training epoch 4841\r\n",
      "[2021-06-06 16:34:26,029][fairseq_cli.train][INFO] - Start iterating over samples\r\n"
     ]
    },
    {
     "name": "stdout",
     "output_type": "stream",
     "text": [
      "[2021-06-06 16:38:03,595][fairseq_cli.train][INFO] - begin validation on \"valid\" subset\r\n"
     ]
    },
    {
     "name": "stdout",
     "output_type": "stream",
     "text": [
      "[2021-06-06 16:38:06,063][fairseq.tasks.unpaired_audio_text][INFO] - REF: ɛ n f œ ʂ ə n a d ɵ ʂ ə k t f øː r d eː t s ɔ m h ɛ n d ə p oː ɕ œ r k ɔ n s ɛ t ə n\r\n",
      "[2021-06-06 16:38:06,066][fairseq.tasks.unpaired_audio_text][INFO] - HYP: t ɛ n j œ r œ b j yː uː œ j k ɵ uː ɵ øː j yː n ə m œ b uː s eː r n v oː s l ɪ ŋ k l ɪ l a s ɔ m ʉ n t a\r\n",
      "[2021-06-06 16:38:06,070][fairseq.tasks.unpaired_audio_text][INFO] - LM [REF]: -53.44462585449219, 0.05339602260269112\r\n",
      "[2021-06-06 16:38:06,071][fairseq.tasks.unpaired_audio_text][INFO] - LM [HYP]: -86.15361022949219, 0.017448699227302283\r\n"
     ]
    },
    {
     "name": "stdout",
     "output_type": "stream",
     "text": [
      "[2021-06-06 16:38:06,568][valid][INFO] - {\"epoch\": 4841, \"valid_loss\": \"1.005\", \"valid_ntokens\": \"3039.79\", \"valid_nsentences\": \"144.214\", \"valid_lm_score_sum\": \"-89946.1\", \"valid_num_pred_chars\": \"48389\", \"valid_vocab_seen_pct\": \"0.88676\", \"valid_uer\": \"100.503\", \"valid_weighted_lm_ppl\": \"77.4017\", \"valid_lm_ppl\": \"60.8642\", \"valid_wps\": \"18986.7\", \"valid_wpb\": \"3039.8\", \"valid_bsz\": \"144.2\", \"valid_num_updates\": \"77456\", \"valid_best_weighted_lm_ppl\": \"73.4256\"}\r\n",
      "[2021-06-06 16:38:06,572][fairseq.checkpoint_utils][INFO] - Preparing to save checkpoint for epoch 4841 @ 77456 updates\r\n",
      "[2021-06-06 16:38:06,573][fairseq.trainer][INFO] - Saving checkpoint to /kaggle/working/checkpoint4841.pt\r\n"
     ]
    },
    {
     "name": "stdout",
     "output_type": "stream",
     "text": [
      "[2021-06-06 16:38:06,613][fairseq.trainer][INFO] - Finished saving checkpoint to /kaggle/working/checkpoint4841.pt\r\n",
      "[2021-06-06 16:38:06,643][fairseq.checkpoint_utils][INFO] - Saved checkpoint /kaggle/working/checkpoint4841.pt (epoch 4841 @ 77456 updates, score 77.40166481433755) (writing took 0.07117015399853699 seconds)\r\n"
     ]
    },
    {
     "name": "stdout",
     "output_type": "stream",
     "text": [
      "[2021-06-06 16:38:06,646][fairseq_cli.train][INFO] - end of epoch 4841 (average epoch stats below)\r\n",
      "[2021-06-06 16:38:06,650][train][INFO] - {\"epoch\": 4841, \"train_loss\": \"2.95\", \"train_ntokens\": \"145.688\", \"train_nsentences\": \"145.688\", \"train_temp\": \"0.1\", \"train_code_ppl\": \"8.934\", \"train_loss_code_pen\": \"0.325\", \"train_loss_smoothness\": \"2.091\", \"train_loss_dense_g\": \"3.894\", \"train_lm_score_sum\": 0.0, \"train_num_pred_chars\": 0.0, \"train_loss_grad_pen\": \"0.14\", \"train_loss_dense_d\": \"0.028\", \"train_loss_token_d\": \"0.023\", \"train_wps\": \"10.6\", \"train_ups\": \"0.07\", \"train_wpb\": \"145.7\", \"train_bsz\": \"145.7\", \"train_num_updates\": \"77456\", \"train_lr_discriminator\": \"0.0005\", \"train_lr_generator\": \"0.0004\", \"train_gnorm\": \"30.624\", \"train_clip\": \"87.5\", \"train_train_wall\": \"217\", \"train_wall\": \"17350\"}\r\n"
     ]
    },
    {
     "name": "stdout",
     "output_type": "stream",
     "text": [
      "[2021-06-06 16:38:06,707][fairseq.trainer][INFO] - begin training epoch 4842\r\n",
      "[2021-06-06 16:38:06,709][fairseq_cli.train][INFO] - Start iterating over samples\r\n"
     ]
    },
    {
     "name": "stdout",
     "output_type": "stream",
     "text": [
      "[2021-06-06 16:41:26,438][fairseq_cli.train][INFO] - begin validation on \"valid\" subset\r\n"
     ]
    },
    {
     "name": "stdout",
     "output_type": "stream",
     "text": [
      "[2021-06-06 16:41:28,977][fairseq.tasks.unpaired_audio_text][INFO] - REF: ɛ n f œ ʂ ə n a d ɵ ʂ ə k t f øː r d eː t s ɔ m h ɛ n d ə p oː ɕ œ r k ɔ n s ɛ t ə n\r\n",
      "[2021-06-06 16:41:28,979][fairseq.tasks.unpaired_audio_text][INFO] - HYP: t ɛ n j œ r œ b j yː uː œ j yː k ɵ uː ɵ øː j yː n ə m œ b uː s eː r n v oː s l ɪ ŋ k l ɪ l a s ɔ k m ʉ n t a\r\n"
     ]
    },
    {
     "name": "stdout",
     "output_type": "stream",
     "text": [
      "[2021-06-06 16:41:28,984][fairseq.tasks.unpaired_audio_text][INFO] - LM [REF]: -53.44462585449219, 0.05339602260269112\r\n",
      "[2021-06-06 16:41:28,984][fairseq.tasks.unpaired_audio_text][INFO] - LM [HYP]: -90.83393096923828, 0.01655550870703519\r\n"
     ]
    },
    {
     "name": "stdout",
     "output_type": "stream",
     "text": [
      "[2021-06-06 16:41:29,477][valid][INFO] - {\"epoch\": 4842, \"valid_loss\": \"1.004\", \"valid_ntokens\": \"3039.79\", \"valid_nsentences\": \"144.214\", \"valid_lm_score_sum\": \"-89776.5\", \"valid_num_pred_chars\": \"48323\", \"valid_vocab_seen_pct\": \"0.888502\", \"valid_uer\": \"100.418\", \"valid_weighted_lm_ppl\": \"76.9157\", \"valid_lm_ppl\": \"60.7199\", \"valid_wps\": \"18758.2\", \"valid_wpb\": \"3039.8\", \"valid_bsz\": \"144.2\", \"valid_num_updates\": \"77472\", \"valid_best_weighted_lm_ppl\": \"73.4256\"}\r\n",
      "[2021-06-06 16:41:29,481][fairseq.checkpoint_utils][INFO] - Preparing to save checkpoint for epoch 4842 @ 77472 updates\r\n",
      "[2021-06-06 16:41:29,482][fairseq.trainer][INFO] - Saving checkpoint to /kaggle/working/checkpoint4842.pt\r\n"
     ]
    },
    {
     "name": "stdout",
     "output_type": "stream",
     "text": [
      "[2021-06-06 16:41:29,521][fairseq.trainer][INFO] - Finished saving checkpoint to /kaggle/working/checkpoint4842.pt\r\n"
     ]
    },
    {
     "name": "stdout",
     "output_type": "stream",
     "text": [
      "[2021-06-06 16:41:29,552][fairseq.checkpoint_utils][INFO] - Saved checkpoint /kaggle/working/checkpoint4842.pt (epoch 4842 @ 77472 updates, score 76.9156650402729) (writing took 0.07102934900103719 seconds)\r\n",
      "[2021-06-06 16:41:29,555][fairseq_cli.train][INFO] - end of epoch 4842 (average epoch stats below)\r\n",
      "[2021-06-06 16:41:29,558][train][INFO] - {\"epoch\": 4842, \"train_loss\": \"3.157\", \"train_ntokens\": \"145.688\", \"train_nsentences\": \"145.688\", \"train_temp\": \"0.1\", \"train_code_ppl\": \"8.893\", \"train_loss_code_pen\": \"0.305\", \"train_loss_smoothness\": \"2.022\", \"train_loss_dense_g\": \"4.108\", \"train_lm_score_sum\": 0.0, \"train_num_pred_chars\": 0.0, \"train_loss_grad_pen\": \"0.061\", \"train_loss_dense_d\": \"0.024\", \"train_loss_token_d\": \"0.024\", \"train_wps\": \"11.5\", \"train_ups\": \"0.08\", \"train_wpb\": \"145.7\", \"train_bsz\": \"145.7\", \"train_num_updates\": \"77472\", \"train_lr_discriminator\": \"0.0005\", \"train_lr_generator\": \"0.0004\", \"train_gnorm\": \"28.108\", \"train_clip\": \"56.2\", \"train_train_wall\": \"199\", \"train_wall\": \"17553\"}\r\n"
     ]
    },
    {
     "name": "stdout",
     "output_type": "stream",
     "text": [
      "[2021-06-06 16:41:29,619][fairseq.trainer][INFO] - begin training epoch 4843\r\n",
      "[2021-06-06 16:41:29,620][fairseq_cli.train][INFO] - Start iterating over samples\r\n"
     ]
    },
    {
     "name": "stdout",
     "output_type": "stream",
     "text": [
      "[2021-06-06 16:44:33,344][fairseq_cli.train][INFO] - begin validation on \"valid\" subset\r\n"
     ]
    },
    {
     "name": "stdout",
     "output_type": "stream",
     "text": [
      "[2021-06-06 16:44:35,892][fairseq.tasks.unpaired_audio_text][INFO] - REF: ɛ n f œ ʂ ə n a d ɵ ʂ ə k t f øː r d eː t s ɔ m h ɛ n d ə p oː ɕ œ r k ɔ n s ɛ t ə n\r\n",
      "[2021-06-06 16:44:35,895][fairseq.tasks.unpaired_audio_text][INFO] - HYP: t ɛ n j œ r œ b j uː œ j yː k ɵ uː ɵ øː j m n ə m œ k b uː s eː r n v oː s l ɪ ŋ k l ɪ l a s ɔ k m ʉ n t a\r\n",
      "[2021-06-06 16:44:35,899][fairseq.tasks.unpaired_audio_text][INFO] - LM [REF]: -53.44462585449219, 0.05339602260269112\r\n",
      "[2021-06-06 16:44:35,899][fairseq.tasks.unpaired_audio_text][INFO] - LM [HYP]: -90.94703674316406, 0.016471182141998393\r\n"
     ]
    },
    {
     "name": "stdout",
     "output_type": "stream",
     "text": [
      "[2021-06-06 16:44:36,395][valid][INFO] - {\"epoch\": 4843, \"valid_loss\": \"1.005\", \"valid_ntokens\": \"3039.79\", \"valid_nsentences\": \"144.214\", \"valid_lm_score_sum\": \"-89664.4\", \"valid_num_pred_chars\": \"48365\", \"valid_vocab_seen_pct\": \"0.888502\", \"valid_uer\": \"100.463\", \"valid_weighted_lm_ppl\": \"76.2611\", \"valid_lm_ppl\": \"60.2032\", \"valid_wps\": \"18404.2\", \"valid_wpb\": \"3039.8\", \"valid_bsz\": \"144.2\", \"valid_num_updates\": \"77488\", \"valid_best_weighted_lm_ppl\": \"73.4256\"}\r\n",
      "[2021-06-06 16:44:36,398][fairseq.checkpoint_utils][INFO] - Preparing to save checkpoint for epoch 4843 @ 77488 updates\r\n",
      "[2021-06-06 16:44:36,399][fairseq.trainer][INFO] - Saving checkpoint to /kaggle/working/checkpoint4843.pt\r\n"
     ]
    },
    {
     "name": "stdout",
     "output_type": "stream",
     "text": [
      "[2021-06-06 16:44:36,437][fairseq.trainer][INFO] - Finished saving checkpoint to /kaggle/working/checkpoint4843.pt\r\n"
     ]
    },
    {
     "name": "stdout",
     "output_type": "stream",
     "text": [
      "[2021-06-06 16:44:36,470][fairseq.checkpoint_utils][INFO] - Saved checkpoint /kaggle/working/checkpoint4843.pt (epoch 4843 @ 77488 updates, score 76.26113312280557) (writing took 0.0716698649994214 seconds)\r\n",
      "[2021-06-06 16:44:36,473][fairseq_cli.train][INFO] - end of epoch 4843 (average epoch stats below)\r\n",
      "[2021-06-06 16:44:36,477][train][INFO] - {\"epoch\": 4843, \"train_loss\": \"3.549\", \"train_ntokens\": \"145.688\", \"train_nsentences\": \"145.688\", \"train_temp\": \"0.1\", \"train_code_ppl\": \"8.749\", \"train_loss_code_pen\": \"0.307\", \"train_loss_smoothness\": \"2.033\", \"train_loss_dense_g\": \"3.997\", \"train_lm_score_sum\": 0.0, \"train_num_pred_chars\": 0.0, \"train_loss_grad_pen\": \"0.107\", \"train_loss_dense_d\": \"0.023\", \"train_loss_token_d\": \"0.022\", \"train_wps\": \"12.5\", \"train_ups\": \"0.09\", \"train_wpb\": \"145.7\", \"train_bsz\": \"145.7\", \"train_num_updates\": \"77488\", \"train_lr_discriminator\": \"0.0005\", \"train_lr_generator\": \"0.0004\", \"train_gnorm\": \"32.754\", \"train_clip\": \"75\", \"train_train_wall\": \"183\", \"train_wall\": \"17739\"}\r\n"
     ]
    },
    {
     "name": "stdout",
     "output_type": "stream",
     "text": [
      "[2021-06-06 16:44:36,533][fairseq.trainer][INFO] - begin training epoch 4844\r\n",
      "[2021-06-06 16:44:36,534][fairseq_cli.train][INFO] - Start iterating over samples\r\n"
     ]
    },
    {
     "name": "stdout",
     "output_type": "stream",
     "text": [
      "[2021-06-06 16:47:16,428][train_inner][INFO] - {\"epoch\": 4844, \"update\": 4843.75, \"loss\": \"3.218\", \"ntokens\": \"145.54\", \"nsentences\": \"145.54\", \"temp\": \"0.1\", \"code_ppl\": \"8.788\", \"loss_code_pen\": \"0.313\", \"loss_smoothness\": \"2.044\", \"loss_dense_g\": \"4.096\", \"lm_score_sum\": 0.0, \"num_pred_chars\": 0.0, \"loss_grad_pen\": \"0.098\", \"loss_dense_d\": \"0.025\", \"loss_token_d\": \"0.026\", \"wps\": \"11.2\", \"ups\": \"0.08\", \"wpb\": \"145.5\", \"bsz\": \"145.5\", \"num_updates\": \"77500\", \"lr_discriminator\": \"0.0005\", \"lr_generator\": \"0.0004\", \"gnorm\": \"30.384\", \"clip\": \"74\", \"train_wall\": \"1274\", \"wall\": \"17899\"}\r\n"
     ]
    },
    {
     "name": "stdout",
     "output_type": "stream",
     "text": [
      "[2021-06-06 16:48:08,684][fairseq_cli.train][INFO] - begin validation on \"valid\" subset\r\n"
     ]
    },
    {
     "name": "stdout",
     "output_type": "stream",
     "text": [
      "[2021-06-06 16:48:11,171][fairseq.tasks.unpaired_audio_text][INFO] - REF: ɛ n f œ ʂ ə n a d ɵ ʂ ə k t f øː r d eː t s ɔ m h ɛ n d ə p oː ɕ œ r k ɔ n s ɛ t ə n\r\n"
     ]
    },
    {
     "name": "stdout",
     "output_type": "stream",
     "text": [
      "[2021-06-06 16:48:11,174][fairseq.tasks.unpaired_audio_text][INFO] - HYP: uː ɛ s j œ f œ b j yː uː œ yː k ɵ uː ɵ øː j m n ə m œ l b uː s yː r n v oː s l ɪ ŋ k l ɪ l a s ɔ k m ʉ n t a\r\n",
      "[2021-06-06 16:48:11,180][fairseq.tasks.unpaired_audio_text][INFO] - LM [REF]: -53.44462585449219, 0.05339602260269112\r\n",
      "[2021-06-06 16:48:11,180][fairseq.tasks.unpaired_audio_text][INFO] - LM [HYP]: -94.45753479003906, 0.01405696212601339\r\n"
     ]
    },
    {
     "name": "stdout",
     "output_type": "stream",
     "text": [
      "[2021-06-06 16:48:11,671][valid][INFO] - {\"epoch\": 4844, \"valid_loss\": \"1.003\", \"valid_ntokens\": \"3039.79\", \"valid_nsentences\": \"144.214\", \"valid_lm_score_sum\": \"-89769\", \"valid_num_pred_chars\": \"48248\", \"valid_vocab_seen_pct\": \"0.891986\", \"valid_uer\": \"100.303\", \"valid_weighted_lm_ppl\": \"76.7588\", \"valid_lm_ppl\": \"61.0723\", \"valid_wps\": \"18964.6\", \"valid_wpb\": \"3039.8\", \"valid_bsz\": \"144.2\", \"valid_num_updates\": \"77504\", \"valid_best_weighted_lm_ppl\": \"73.4256\"}\r\n",
      "[2021-06-06 16:48:11,674][fairseq.checkpoint_utils][INFO] - Preparing to save checkpoint for epoch 4844 @ 77504 updates\r\n",
      "[2021-06-06 16:48:11,676][fairseq.trainer][INFO] - Saving checkpoint to /kaggle/working/checkpoint4844.pt\r\n"
     ]
    },
    {
     "name": "stdout",
     "output_type": "stream",
     "text": [
      "[2021-06-06 16:48:11,715][fairseq.trainer][INFO] - Finished saving checkpoint to /kaggle/working/checkpoint4844.pt\r\n"
     ]
    },
    {
     "name": "stdout",
     "output_type": "stream",
     "text": [
      "[2021-06-06 16:48:11,745][fairseq.checkpoint_utils][INFO] - Saved checkpoint /kaggle/working/checkpoint4844.pt (epoch 4844 @ 77504 updates, score 76.75884781912359) (writing took 0.07062652600143338 seconds)\r\n",
      "[2021-06-06 16:48:11,748][fairseq_cli.train][INFO] - end of epoch 4844 (average epoch stats below)\r\n",
      "[2021-06-06 16:48:11,751][train][INFO] - {\"epoch\": 4844, \"train_loss\": \"2.988\", \"train_ntokens\": \"145.688\", \"train_nsentences\": \"145.688\", \"train_temp\": \"0.1\", \"train_code_ppl\": \"8.785\", \"train_loss_code_pen\": \"0.324\", \"train_loss_smoothness\": \"2.061\", \"train_loss_dense_g\": \"4.076\", \"train_lm_score_sum\": 0.0, \"train_num_pred_chars\": 0.0, \"train_loss_grad_pen\": \"0.071\", \"train_loss_dense_d\": \"0.029\", \"train_loss_token_d\": \"0.036\", \"train_wps\": \"10.8\", \"train_ups\": \"0.07\", \"train_wpb\": \"145.7\", \"train_bsz\": \"145.7\", \"train_num_updates\": \"77504\", \"train_lr_discriminator\": \"0.0005\", \"train_lr_generator\": \"0.0004\", \"train_gnorm\": \"28.64\", \"train_clip\": \"68.8\", \"train_train_wall\": \"212\", \"train_wall\": \"17955\"}\r\n"
     ]
    },
    {
     "name": "stdout",
     "output_type": "stream",
     "text": [
      "[2021-06-06 16:48:11,809][fairseq.trainer][INFO] - begin training epoch 4845\r\n",
      "[2021-06-06 16:48:11,810][fairseq_cli.train][INFO] - Start iterating over samples\r\n"
     ]
    },
    {
     "name": "stdout",
     "output_type": "stream",
     "text": [
      "[2021-06-06 16:51:41,113][fairseq_cli.train][INFO] - begin validation on \"valid\" subset\r\n"
     ]
    },
    {
     "name": "stdout",
     "output_type": "stream",
     "text": [
      "[2021-06-06 16:51:43,836][fairseq.tasks.unpaired_audio_text][INFO] - REF: ɛ n f œ ʂ ə n a d ɵ ʂ ə k t f øː r d eː t s ɔ m h ɛ n d ə p oː ɕ œ r k ɔ n s ɛ t ə n\r\n",
      "[2021-06-06 16:51:43,839][fairseq.tasks.unpaired_audio_text][INFO] - HYP: uː ɕ ɛ s j œ f œ yː b j yː uː œ yː k ɵ uː ɵ øː j m ə n ə m œ b ə uː s eː r n v oː s l ɪ ŋ k l ɪ l a s ɔ k m ʉ n t a\r\n",
      "[2021-06-06 16:51:43,844][fairseq.tasks.unpaired_audio_text][INFO] - LM [REF]: -53.44462585449219, 0.05339602260269112\r\n",
      "[2021-06-06 16:51:43,845][fairseq.tasks.unpaired_audio_text][INFO] - LM [HYP]: -98.11209869384766, 0.015244363062087922\r\n"
     ]
    },
    {
     "name": "stdout",
     "output_type": "stream",
     "text": [
      "[2021-06-06 16:51:44,376][valid][INFO] - {\"epoch\": 4845, \"valid_loss\": \"1.007\", \"valid_ntokens\": \"3039.79\", \"valid_nsentences\": \"144.214\", \"valid_lm_score_sum\": \"-90064.9\", \"valid_num_pred_chars\": \"48522\", \"valid_vocab_seen_pct\": \"0.888502\", \"valid_uer\": \"100.66\", \"valid_weighted_lm_ppl\": \"76.6832\", \"valid_lm_ppl\": \"60.5364\", \"valid_wps\": \"17732.3\", \"valid_wpb\": \"3039.8\", \"valid_bsz\": \"144.2\", \"valid_num_updates\": \"77520\", \"valid_best_weighted_lm_ppl\": \"73.4256\"}\r\n",
      "[2021-06-06 16:51:44,379][fairseq.checkpoint_utils][INFO] - Preparing to save checkpoint for epoch 4845 @ 77520 updates\r\n",
      "[2021-06-06 16:51:44,381][fairseq.trainer][INFO] - Saving checkpoint to /kaggle/working/checkpoint4845.pt\r\n"
     ]
    },
    {
     "name": "stdout",
     "output_type": "stream",
     "text": [
      "[2021-06-06 16:51:44,418][fairseq.trainer][INFO] - Finished saving checkpoint to /kaggle/working/checkpoint4845.pt\r\n"
     ]
    },
    {
     "name": "stdout",
     "output_type": "stream",
     "text": [
      "[2021-06-06 16:51:44,448][fairseq.checkpoint_utils][INFO] - Saved checkpoint /kaggle/working/checkpoint4845.pt (epoch 4845 @ 77520 updates, score 76.6831867569366) (writing took 0.06870911000078195 seconds)\r\n",
      "[2021-06-06 16:51:44,452][fairseq_cli.train][INFO] - end of epoch 4845 (average epoch stats below)\r\n",
      "[2021-06-06 16:51:44,455][train][INFO] - {\"epoch\": 4845, \"train_loss\": \"3.335\", \"train_ntokens\": \"145.688\", \"train_nsentences\": \"145.688\", \"train_temp\": \"0.1\", \"train_code_ppl\": \"8.962\", \"train_loss_code_pen\": \"0.335\", \"train_loss_smoothness\": \"2.101\", \"train_loss_dense_g\": \"4.288\", \"train_lm_score_sum\": 0.0, \"train_num_pred_chars\": 0.0, \"train_loss_grad_pen\": \"0.134\", \"train_loss_dense_d\": \"0.022\", \"train_loss_token_d\": \"0.029\", \"train_wps\": \"11\", \"train_ups\": \"0.08\", \"train_wpb\": \"145.7\", \"train_bsz\": \"145.7\", \"train_num_updates\": \"77520\", \"train_lr_discriminator\": \"0.0005\", \"train_lr_generator\": \"0.0004\", \"train_gnorm\": \"30.401\", \"train_clip\": \"81.2\", \"train_train_wall\": \"209\", \"train_wall\": \"18167\"}\r\n"
     ]
    },
    {
     "name": "stdout",
     "output_type": "stream",
     "text": [
      "[2021-06-06 16:51:44,522][fairseq.trainer][INFO] - begin training epoch 4846\r\n",
      "[2021-06-06 16:51:44,524][fairseq_cli.train][INFO] - Start iterating over samples\r\n"
     ]
    },
    {
     "name": "stdout",
     "output_type": "stream",
     "text": [
      "[2021-06-06 16:55:13,138][fairseq_cli.train][INFO] - begin validation on \"valid\" subset\r\n"
     ]
    },
    {
     "name": "stdout",
     "output_type": "stream",
     "text": [
      "[2021-06-06 16:55:15,622][fairseq.tasks.unpaired_audio_text][INFO] - REF: ɛ n f œ ʂ ə n a d ɵ ʂ ə k t f øː r d eː t s ɔ m h ɛ n d ə p oː ɕ œ r k ɔ n s ɛ t ə n\r\n",
      "[2021-06-06 16:55:15,625][fairseq.tasks.unpaired_audio_text][INFO] - HYP: uː ɡ ɛ s j œ r œ b j yː uː œ j yː k ɵ uː ɵ øː j m b n ə m ɔ b uː s eː r n v oː s l ɪ ŋ k l ɪ l a s ɔ k m k n a\r\n",
      "[2021-06-06 16:55:15,629][fairseq.tasks.unpaired_audio_text][INFO] - LM [REF]: -53.44462585449219, 0.05339602260269112\r\n",
      "[2021-06-06 16:55:15,630][fairseq.tasks.unpaired_audio_text][INFO] - LM [HYP]: -94.8780288696289, 0.014976920405138398\r\n"
     ]
    },
    {
     "name": "stdout",
     "output_type": "stream",
     "text": [
      "[2021-06-06 16:55:16,131][valid][INFO] - {\"epoch\": 4846, \"valid_loss\": \"1.01\", \"valid_ntokens\": \"3039.79\", \"valid_nsentences\": \"144.214\", \"valid_lm_score_sum\": \"-90166\", \"valid_num_pred_chars\": \"48642\", \"valid_vocab_seen_pct\": \"0.891986\", \"valid_uer\": \"100.961\", \"valid_weighted_lm_ppl\": \"75.6965\", \"valid_lm_ppl\": \"60.2271\", \"valid_wps\": \"18652.9\", \"valid_wpb\": \"3039.8\", \"valid_bsz\": \"144.2\", \"valid_num_updates\": \"77536\", \"valid_best_weighted_lm_ppl\": \"73.4256\"}\r\n",
      "[2021-06-06 16:55:16,134][fairseq.checkpoint_utils][INFO] - Preparing to save checkpoint for epoch 4846 @ 77536 updates\r\n",
      "[2021-06-06 16:55:16,136][fairseq.trainer][INFO] - Saving checkpoint to /kaggle/working/checkpoint4846.pt\r\n"
     ]
    },
    {
     "name": "stdout",
     "output_type": "stream",
     "text": [
      "[2021-06-06 16:55:16,175][fairseq.trainer][INFO] - Finished saving checkpoint to /kaggle/working/checkpoint4846.pt\r\n",
      "[2021-06-06 16:55:16,207][fairseq.checkpoint_utils][INFO] - Saved checkpoint /kaggle/working/checkpoint4846.pt (epoch 4846 @ 77536 updates, score 75.69652171029887) (writing took 0.0732414419981069 seconds)\r\n",
      "[2021-06-06 16:55:16,211][fairseq_cli.train][INFO] - end of epoch 4846 (average epoch stats below)\r\n",
      "[2021-06-06 16:55:16,215][train][INFO] - {\"epoch\": 4846, \"train_loss\": \"3.309\", \"train_ntokens\": \"145.688\", \"train_nsentences\": \"145.688\", \"train_temp\": \"0.1\", \"train_code_ppl\": \"8.803\", \"train_loss_code_pen\": \"0.338\", \"train_loss_smoothness\": \"2.117\", \"train_loss_dense_g\": \"4.295\", \"train_lm_score_sum\": 0.0, \"train_num_pred_chars\": 0.0, \"train_loss_grad_pen\": \"0.056\", \"train_loss_dense_d\": \"0.028\", \"train_loss_token_d\": \"0.025\", \"train_wps\": \"11\", \"train_ups\": \"0.08\", \"train_wpb\": \"145.7\", \"train_bsz\": \"145.7\", \"train_num_updates\": \"77536\", \"train_lr_discriminator\": \"0.0005\", \"train_lr_generator\": \"0.0004\", \"train_gnorm\": \"28.725\", \"train_clip\": \"68.8\", \"train_train_wall\": \"208\", \"train_wall\": \"18379\"}\r\n"
     ]
    },
    {
     "name": "stdout",
     "output_type": "stream",
     "text": [
      "[2021-06-06 16:55:16,273][fairseq.trainer][INFO] - begin training epoch 4847\r\n",
      "[2021-06-06 16:55:16,274][fairseq_cli.train][INFO] - Start iterating over samples\r\n"
     ]
    },
    {
     "name": "stdout",
     "output_type": "stream",
     "text": [
      "[2021-06-06 16:58:19,781][fairseq_cli.train][INFO] - begin validation on \"valid\" subset\r\n"
     ]
    },
    {
     "name": "stdout",
     "output_type": "stream",
     "text": [
      "[2021-06-06 16:58:22,268][fairseq.tasks.unpaired_audio_text][INFO] - REF: ɛ n f œ ʂ ə n a d ɵ ʂ ə k t f øː r d eː t s ɔ m h ɛ n d ə p oː ɕ œ r k ɔ n s ɛ t ə n\r\n",
      "[2021-06-06 16:58:22,270][fairseq.tasks.unpaired_audio_text][INFO] - HYP: t ɡ ɛ s j œ r œ yː b j yː œ j yː k ɵ uː ɵ øː j m b n ə m ɔ b ə uː s eː r n v oː s l ɪ ŋ k l ɪ l a s ɔ k m ʉ n a\r\n",
      "[2021-06-06 16:58:22,275][fairseq.tasks.unpaired_audio_text][INFO] - LM [REF]: -53.44462585449219, 0.05339602260269112\r\n",
      "[2021-06-06 16:58:22,275][fairseq.tasks.unpaired_audio_text][INFO] - LM [HYP]: -97.40328979492188, 0.014527874494291366\r\n"
     ]
    },
    {
     "name": "stdout",
     "output_type": "stream",
     "text": [
      "[2021-06-06 16:58:22,773][valid][INFO] - {\"epoch\": 4847, \"valid_loss\": \"1.008\", \"valid_ntokens\": \"3039.79\", \"valid_nsentences\": \"144.214\", \"valid_lm_score_sum\": \"-90178.2\", \"valid_num_pred_chars\": \"48570\", \"valid_vocab_seen_pct\": \"0.883275\", \"valid_uer\": \"100.839\", \"valid_weighted_lm_ppl\": \"77.6915\", \"valid_lm_ppl\": \"60.613\", \"valid_wps\": \"18951.1\", \"valid_wpb\": \"3039.8\", \"valid_bsz\": \"144.2\", \"valid_num_updates\": \"77552\", \"valid_best_weighted_lm_ppl\": \"73.4256\"}\r\n",
      "[2021-06-06 16:58:22,777][fairseq.checkpoint_utils][INFO] - Preparing to save checkpoint for epoch 4847 @ 77552 updates\r\n",
      "[2021-06-06 16:58:22,778][fairseq.trainer][INFO] - Saving checkpoint to /kaggle/working/checkpoint4847.pt\r\n"
     ]
    },
    {
     "name": "stdout",
     "output_type": "stream",
     "text": [
      "[2021-06-06 16:58:22,816][fairseq.trainer][INFO] - Finished saving checkpoint to /kaggle/working/checkpoint4847.pt\r\n",
      "[2021-06-06 16:58:22,846][fairseq.checkpoint_utils][INFO] - Saved checkpoint /kaggle/working/checkpoint4847.pt (epoch 4847 @ 77552 updates, score 77.69151948311898) (writing took 0.06885356299972045 seconds)\r\n",
      "[2021-06-06 16:58:22,849][fairseq_cli.train][INFO] - end of epoch 4847 (average epoch stats below)\r\n",
      "[2021-06-06 16:58:22,852][train][INFO] - {\"epoch\": 4847, \"train_loss\": \"3.811\", \"train_ntokens\": \"145.688\", \"train_nsentences\": \"145.688\", \"train_temp\": \"0.1\", \"train_code_ppl\": \"8.83\", \"train_loss_code_pen\": \"0.322\", \"train_loss_smoothness\": \"2.07\", \"train_loss_dense_g\": \"4.306\", \"train_lm_score_sum\": 0.0, \"train_num_pred_chars\": 0.0, \"train_loss_grad_pen\": \"0.218\", \"train_loss_dense_d\": \"0.026\", \"train_loss_token_d\": \"0.051\", \"train_wps\": \"12.5\", \"train_ups\": \"0.09\", \"train_wpb\": \"145.7\", \"train_bsz\": \"145.7\", \"train_num_updates\": \"77552\", \"train_lr_discriminator\": \"0.0005\", \"train_lr_generator\": \"0.0004\", \"train_gnorm\": \"31.749\", \"train_clip\": \"81.2\", \"train_train_wall\": \"183\", \"train_wall\": \"18566\"}\r\n"
     ]
    },
    {
     "name": "stdout",
     "output_type": "stream",
     "text": [
      "[2021-06-06 16:58:22,911][fairseq.trainer][INFO] - begin training epoch 4848\r\n",
      "[2021-06-06 16:58:22,913][fairseq_cli.train][INFO] - Start iterating over samples\r\n"
     ]
    },
    {
     "name": "stdout",
     "output_type": "stream",
     "text": [
      "[2021-06-06 17:01:35,193][fairseq_cli.train][INFO] - begin validation on \"valid\" subset\r\n"
     ]
    },
    {
     "name": "stdout",
     "output_type": "stream",
     "text": [
      "[2021-06-06 17:01:37,687][fairseq.tasks.unpaired_audio_text][INFO] - REF: ɛ n f œ ʂ ə n a d ɵ ʂ ə k t f øː r d eː t s ɔ m h ɛ n d ə p oː ɕ œ r k ɔ n s ɛ t ə n\r\n",
      "[2021-06-06 17:01:37,689][fairseq.tasks.unpaired_audio_text][INFO] - HYP: n s ɛ s j œ r œ b j yː œ yː k ɵ uː ɵ øː j b n ə m ɔ b ə uː s eː r n v oː s l ɪ ŋ k l ɪ l a s ɔ k m ʉ n a\r\n",
      "[2021-06-06 17:01:37,693][fairseq.tasks.unpaired_audio_text][INFO] - LM [REF]: -53.44462585449219, 0.05339602260269112\r\n",
      "[2021-06-06 17:01:37,694][fairseq.tasks.unpaired_audio_text][INFO] - LM [HYP]: -90.97747802734375, 0.015151318909563664\r\n"
     ]
    },
    {
     "name": "stdout",
     "output_type": "stream",
     "text": [
      "[2021-06-06 17:01:38,198][valid][INFO] - {\"epoch\": 4848, \"valid_loss\": \"1.009\", \"valid_ntokens\": \"3039.79\", \"valid_nsentences\": \"144.214\", \"valid_lm_score_sum\": \"-90050.6\", \"valid_num_pred_chars\": \"48551\", \"valid_vocab_seen_pct\": \"0.885017\", \"valid_uer\": \"100.909\", \"valid_weighted_lm_ppl\": \"77.0563\", \"valid_lm_ppl\": \"60.3548\", \"valid_wps\": \"18705.3\", \"valid_wpb\": \"3039.8\", \"valid_bsz\": \"144.2\", \"valid_num_updates\": \"77568\", \"valid_best_weighted_lm_ppl\": \"73.4256\"}\r\n",
      "[2021-06-06 17:01:38,202][fairseq.checkpoint_utils][INFO] - Preparing to save checkpoint for epoch 4848 @ 77568 updates\r\n",
      "[2021-06-06 17:01:38,203][fairseq.trainer][INFO] - Saving checkpoint to /kaggle/working/checkpoint4848.pt\r\n"
     ]
    },
    {
     "name": "stdout",
     "output_type": "stream",
     "text": [
      "[2021-06-06 17:01:38,243][fairseq.trainer][INFO] - Finished saving checkpoint to /kaggle/working/checkpoint4848.pt\r\n",
      "[2021-06-06 17:01:38,273][fairseq.checkpoint_utils][INFO] - Saved checkpoint /kaggle/working/checkpoint4848.pt (epoch 4848 @ 77568 updates, score 77.05627649302589) (writing took 0.0714659949990164 seconds)\r\n",
      "[2021-06-06 17:01:38,276][fairseq_cli.train][INFO] - end of epoch 4848 (average epoch stats below)\r\n",
      "[2021-06-06 17:01:38,280][train][INFO] - {\"epoch\": 4848, \"train_loss\": \"3.393\", \"train_ntokens\": \"145.688\", \"train_nsentences\": \"145.688\", \"train_temp\": \"0.1\", \"train_code_ppl\": \"8.804\", \"train_loss_code_pen\": \"0.316\", \"train_loss_smoothness\": \"2.037\", \"train_loss_dense_g\": \"4.074\", \"train_lm_score_sum\": 0.0, \"train_num_pred_chars\": 0.0, \"train_loss_grad_pen\": \"0.077\", \"train_loss_dense_d\": \"0.025\", \"train_loss_token_d\": \"0.026\", \"train_wps\": \"11.9\", \"train_ups\": \"0.08\", \"train_wpb\": \"145.7\", \"train_bsz\": \"145.7\", \"train_num_updates\": \"77568\", \"train_lr_discriminator\": \"0.0005\", \"train_lr_generator\": \"0.0004\", \"train_gnorm\": \"28.997\", \"train_clip\": \"75\", \"train_train_wall\": \"192\", \"train_wall\": \"18761\"}\r\n"
     ]
    },
    {
     "name": "stdout",
     "output_type": "stream",
     "text": [
      "[2021-06-06 17:01:38,339][fairseq.trainer][INFO] - begin training epoch 4849\r\n",
      "[2021-06-06 17:01:38,340][fairseq_cli.train][INFO] - Start iterating over samples\r\n"
     ]
    },
    {
     "name": "stdout",
     "output_type": "stream",
     "text": [
      "[2021-06-06 17:05:00,643][fairseq_cli.train][INFO] - begin validation on \"valid\" subset\r\n"
     ]
    },
    {
     "name": "stdout",
     "output_type": "stream",
     "text": [
      "[2021-06-06 17:05:03,130][fairseq.tasks.unpaired_audio_text][INFO] - REF: ɛ n f œ ʂ ə n a d ɵ ʂ ə k t f øː r d eː t s ɔ m h ɛ n d ə p oː ɕ œ r k ɔ n s ɛ t ə n\r\n",
      "[2021-06-06 17:05:03,133][fairseq.tasks.unpaired_audio_text][INFO] - HYP: t s ɛ s j œ r œ b j yː œ j k ɵ uː ɵ øː j n ə m œ k b ə uː s eː r n v oː s l ɪ ŋ k l ɪ l a s ɔ m ʉ n a\r\n",
      "[2021-06-06 17:05:03,138][fairseq.tasks.unpaired_audio_text][INFO] - LM [REF]: -53.44462585449219, 0.05339602260269112\r\n",
      "[2021-06-06 17:05:03,138][fairseq.tasks.unpaired_audio_text][INFO] - LM [HYP]: -88.20838928222656, 0.01584268510720931\r\n"
     ]
    },
    {
     "name": "stdout",
     "output_type": "stream",
     "text": [
      "[2021-06-06 17:05:03,650][valid][INFO] - {\"epoch\": 4849, \"valid_loss\": \"1.008\", \"valid_ntokens\": \"3039.79\", \"valid_nsentences\": \"144.214\", \"valid_lm_score_sum\": \"-89918.4\", \"valid_num_pred_chars\": \"48460\", \"valid_vocab_seen_pct\": \"0.888502\", \"valid_uer\": \"100.794\", \"valid_weighted_lm_ppl\": \"76.5575\", \"valid_lm_ppl\": \"60.4372\", \"valid_wps\": \"18728.6\", \"valid_wpb\": \"3039.8\", \"valid_bsz\": \"144.2\", \"valid_num_updates\": \"77584\", \"valid_best_weighted_lm_ppl\": \"73.4256\"}\r\n",
      "[2021-06-06 17:05:03,653][fairseq.checkpoint_utils][INFO] - Preparing to save checkpoint for epoch 4849 @ 77584 updates\r\n",
      "[2021-06-06 17:05:03,655][fairseq.trainer][INFO] - Saving checkpoint to /kaggle/working/checkpoint4849.pt\r\n"
     ]
    },
    {
     "name": "stdout",
     "output_type": "stream",
     "text": [
      "[2021-06-06 17:05:03,692][fairseq.trainer][INFO] - Finished saving checkpoint to /kaggle/working/checkpoint4849.pt\r\n",
      "[2021-06-06 17:05:03,724][fairseq.checkpoint_utils][INFO] - Saved checkpoint /kaggle/working/checkpoint4849.pt (epoch 4849 @ 77584 updates, score 76.55745859333666) (writing took 0.0711249529995257 seconds)\r\n",
      "[2021-06-06 17:05:03,728][fairseq_cli.train][INFO] - end of epoch 4849 (average epoch stats below)\r\n",
      "[2021-06-06 17:05:03,731][train][INFO] - {\"epoch\": 4849, \"train_loss\": \"3.235\", \"train_ntokens\": \"145.688\", \"train_nsentences\": \"145.688\", \"train_temp\": \"0.1\", \"train_code_ppl\": \"8.882\", \"train_loss_code_pen\": \"0.325\", \"train_loss_smoothness\": \"2.084\", \"train_loss_dense_g\": \"4.199\", \"train_lm_score_sum\": 0.0, \"train_num_pred_chars\": 0.0, \"train_loss_grad_pen\": \"0.051\", \"train_loss_dense_d\": \"0.025\", \"train_loss_token_d\": \"0.025\", \"train_wps\": \"11.3\", \"train_ups\": \"0.08\", \"train_wpb\": \"145.7\", \"train_bsz\": \"145.7\", \"train_num_updates\": \"77584\", \"train_lr_discriminator\": \"0.0005\", \"train_lr_generator\": \"0.0004\", \"train_gnorm\": \"28.143\", \"train_clip\": \"62.5\", \"train_train_wall\": \"202\", \"train_wall\": \"18967\"}\r\n"
     ]
    },
    {
     "name": "stdout",
     "output_type": "stream",
     "text": [
      "[2021-06-06 17:05:03,789][fairseq.trainer][INFO] - begin training epoch 4850\r\n",
      "[2021-06-06 17:05:03,791][fairseq_cli.train][INFO] - Start iterating over samples\r\n"
     ]
    },
    {
     "name": "stdout",
     "output_type": "stream",
     "text": [
      "[2021-06-06 17:08:36,939][train_inner][INFO] - {\"epoch\": 4850, \"update\": 4850.0, \"loss\": \"3.347\", \"ntokens\": \"146.26\", \"nsentences\": \"146.26\", \"temp\": \"0.1\", \"code_ppl\": \"8.865\", \"loss_code_pen\": \"0.326\", \"loss_smoothness\": \"2.078\", \"loss_dense_g\": \"4.209\", \"lm_score_sum\": 0.0, \"num_pred_chars\": 0.0, \"loss_grad_pen\": \"0.101\", \"loss_dense_d\": \"0.026\", \"loss_token_d\": \"0.029\", \"wps\": \"11.4\", \"ups\": \"0.08\", \"wpb\": \"146.3\", \"bsz\": \"146.3\", \"num_updates\": \"77600\", \"lr_discriminator\": \"0.0005\", \"lr_generator\": \"0.0004\", \"gnorm\": \"29.657\", \"clip\": \"75\", \"train_wall\": \"1258\", \"wall\": \"19180\"}\r\n",
      "[2021-06-06 17:08:36,941][fairseq_cli.train][INFO] - begin validation on \"valid\" subset\r\n"
     ]
    },
    {
     "name": "stdout",
     "output_type": "stream",
     "text": [
      "[2021-06-06 17:08:39,384][fairseq.tasks.unpaired_audio_text][INFO] - REF: ɛ n f œ ʂ ə n a d ɵ ʂ ə k t f øː r d eː t s ɔ m h ɛ n d ə p oː ɕ œ r k ɔ n s ɛ t ə n\r\n",
      "[2021-06-06 17:08:39,386][fairseq.tasks.unpaired_audio_text][INFO] - HYP: t s ɛ s j œ r œ b j yː œ yː k ɵ uː ɵ øː v n ə m ɔ k b ə uː s yː r n b oː s l ɪ ŋ k l ɪ l a s ɔ k m ʉ n a\r\n",
      "[2021-06-06 17:08:39,391][fairseq.tasks.unpaired_audio_text][INFO] - LM [REF]: -53.44462585449219, 0.05339602260269112\r\n",
      "[2021-06-06 17:08:39,391][fairseq.tasks.unpaired_audio_text][INFO] - LM [HYP]: -89.54434204101562, 0.016185016973086937\r\n"
     ]
    },
    {
     "name": "stdout",
     "output_type": "stream",
     "text": [
      "[2021-06-06 17:08:39,931][valid][INFO] - {\"epoch\": 4850, \"valid_loss\": \"1.007\", \"valid_ntokens\": \"3039.79\", \"valid_nsentences\": \"144.214\", \"valid_lm_score_sum\": \"-89878\", \"valid_num_pred_chars\": \"48486\", \"valid_vocab_seen_pct\": \"0.88676\", \"valid_uer\": \"100.731\", \"valid_weighted_lm_ppl\": \"76.5551\", \"valid_lm_ppl\": \"60.1986\", \"valid_wps\": \"18753.4\", \"valid_wpb\": \"3039.8\", \"valid_bsz\": \"144.2\", \"valid_num_updates\": \"77600\", \"valid_best_weighted_lm_ppl\": \"73.4256\"}\r\n",
      "[2021-06-06 17:08:39,934][fairseq.checkpoint_utils][INFO] - Preparing to save checkpoint for epoch 4850 @ 77600 updates\r\n",
      "[2021-06-06 17:08:39,936][fairseq.trainer][INFO] - Saving checkpoint to /kaggle/working/checkpoint4850.pt\r\n"
     ]
    },
    {
     "name": "stdout",
     "output_type": "stream",
     "text": [
      "[2021-06-06 17:08:39,975][fairseq.trainer][INFO] - Finished saving checkpoint to /kaggle/working/checkpoint4850.pt\r\n",
      "[2021-06-06 17:08:40,005][fairseq.checkpoint_utils][INFO] - Saved checkpoint /kaggle/working/checkpoint4850.pt (epoch 4850 @ 77600 updates, score 76.55514519719279) (writing took 0.07035022099807975 seconds)\r\n",
      "[2021-06-06 17:08:40,008][fairseq_cli.train][INFO] - end of epoch 4850 (average epoch stats below)\r\n",
      "[2021-06-06 17:08:40,011][train][INFO] - {\"epoch\": 4850, \"train_loss\": \"3.02\", \"train_ntokens\": \"145.688\", \"train_nsentences\": \"145.688\", \"train_temp\": \"0.1\", \"train_code_ppl\": \"8.843\", \"train_loss_code_pen\": \"0.319\", \"train_loss_smoothness\": \"2.056\", \"train_loss_dense_g\": \"4.161\", \"train_lm_score_sum\": 0.0, \"train_num_pred_chars\": 0.0, \"train_loss_grad_pen\": \"0.085\", \"train_loss_dense_d\": \"0.026\", \"train_loss_token_d\": \"0.023\", \"train_wps\": \"10.8\", \"train_ups\": \"0.07\", \"train_wpb\": \"145.7\", \"train_bsz\": \"145.7\", \"train_num_updates\": \"77600\", \"train_lr_discriminator\": \"0.0005\", \"train_lr_generator\": \"0.0004\", \"train_gnorm\": \"29.927\", \"train_clip\": \"81.2\", \"train_train_wall\": \"213\", \"train_wall\": \"19183\"}\r\n"
     ]
    },
    {
     "name": "stdout",
     "output_type": "stream",
     "text": [
      "[2021-06-06 17:08:40,069][fairseq.trainer][INFO] - begin training epoch 4851\r\n",
      "[2021-06-06 17:08:40,070][fairseq_cli.train][INFO] - Start iterating over samples\r\n"
     ]
    },
    {
     "name": "stdout",
     "output_type": "stream",
     "text": [
      "[2021-06-06 17:11:42,191][fairseq_cli.train][INFO] - begin validation on \"valid\" subset\r\n"
     ]
    },
    {
     "name": "stdout",
     "output_type": "stream",
     "text": [
      "[2021-06-06 17:11:44,674][fairseq.tasks.unpaired_audio_text][INFO] - REF: ɛ n f œ ʂ ə n a d ɵ ʂ ə k t f øː r d eː t s ɔ m h ɛ n d ə p oː ɕ œ r k ɔ n s ɛ t ə n\r\n",
      "[2021-06-06 17:11:44,677][fairseq.tasks.unpaired_audio_text][INFO] - HYP: t s ɛ s j œ r œ b j yː uː œ yː k ɵ uː ɵ øː v n ə m œ k b uː s yː r n v oː s l ɪ ŋ k l ɪ l a s ɔ k m ʉ n a\r\n",
      "[2021-06-06 17:11:44,681][fairseq.tasks.unpaired_audio_text][INFO] - LM [REF]: -53.44462585449219, 0.05339602260269112\r\n",
      "[2021-06-06 17:11:44,681][fairseq.tasks.unpaired_audio_text][INFO] - LM [HYP]: -92.37417602539062, 0.014207461226642407\r\n"
     ]
    },
    {
     "name": "stdout",
     "output_type": "stream",
     "text": [
      "[2021-06-06 17:11:45,188][valid][INFO] - {\"epoch\": 4851, \"valid_loss\": \"1.006\", \"valid_ntokens\": \"3039.79\", \"valid_nsentences\": \"144.214\", \"valid_lm_score_sum\": \"-89847\", \"valid_num_pred_chars\": \"48391\", \"valid_vocab_seen_pct\": \"0.885017\", \"valid_uer\": \"100.566\", \"valid_weighted_lm_ppl\": \"77.3432\", \"valid_lm_ppl\": \"60.5795\", \"valid_wps\": \"18679.8\", \"valid_wpb\": \"3039.8\", \"valid_bsz\": \"144.2\", \"valid_num_updates\": \"77616\", \"valid_best_weighted_lm_ppl\": \"73.4256\"}\r\n",
      "[2021-06-06 17:11:45,191][fairseq.checkpoint_utils][INFO] - Preparing to save checkpoint for epoch 4851 @ 77616 updates\r\n",
      "[2021-06-06 17:11:45,193][fairseq.trainer][INFO] - Saving checkpoint to /kaggle/working/checkpoint4851.pt\r\n"
     ]
    },
    {
     "name": "stdout",
     "output_type": "stream",
     "text": [
      "[2021-06-06 17:11:45,233][fairseq.trainer][INFO] - Finished saving checkpoint to /kaggle/working/checkpoint4851.pt\r\n"
     ]
    },
    {
     "name": "stdout",
     "output_type": "stream",
     "text": [
      "[2021-06-06 17:11:45,263][fairseq.checkpoint_utils][INFO] - Saved checkpoint /kaggle/working/checkpoint4851.pt (epoch 4851 @ 77616 updates, score 77.34321265766444) (writing took 0.07174740099799237 seconds)\r\n",
      "[2021-06-06 17:11:45,267][fairseq_cli.train][INFO] - end of epoch 4851 (average epoch stats below)\r\n",
      "[2021-06-06 17:11:45,271][train][INFO] - {\"epoch\": 4851, \"train_loss\": \"3.76\", \"train_ntokens\": \"145.688\", \"train_nsentences\": \"145.688\", \"train_temp\": \"0.1\", \"train_code_ppl\": \"8.885\", \"train_loss_code_pen\": \"0.319\", \"train_loss_smoothness\": \"2.069\", \"train_loss_dense_g\": \"4.272\", \"train_lm_score_sum\": 0.0, \"train_num_pred_chars\": 0.0, \"train_loss_grad_pen\": \"0.163\", \"train_loss_dense_d\": \"0.024\", \"train_loss_token_d\": \"0.042\", \"train_wps\": \"12.6\", \"train_ups\": \"0.09\", \"train_wpb\": \"145.7\", \"train_bsz\": \"145.7\", \"train_num_updates\": \"77616\", \"train_lr_discriminator\": \"0.0005\", \"train_lr_generator\": \"0.0004\", \"train_gnorm\": \"35.683\", \"train_clip\": \"81.2\", \"train_train_wall\": \"182\", \"train_wall\": \"19368\"}\r\n"
     ]
    },
    {
     "name": "stdout",
     "output_type": "stream",
     "text": [
      "[2021-06-06 17:11:45,327][fairseq.trainer][INFO] - begin training epoch 4852\r\n",
      "[2021-06-06 17:11:45,328][fairseq_cli.train][INFO] - Start iterating over samples\r\n"
     ]
    },
    {
     "name": "stdout",
     "output_type": "stream",
     "text": [
      "[2021-06-06 17:15:01,756][fairseq_cli.train][INFO] - begin validation on \"valid\" subset\r\n"
     ]
    },
    {
     "name": "stdout",
     "output_type": "stream",
     "text": [
      "[2021-06-06 17:15:04,600][fairseq.tasks.unpaired_audio_text][INFO] - REF: ɛ n f œ ʂ ə n a d ɵ ʂ ə k t f øː r d eː t s ɔ m h ɛ n d ə p oː ɕ œ r k ɔ n s ɛ t ə n\r\n",
      "[2021-06-06 17:15:04,602][fairseq.tasks.unpaired_audio_text][INFO] - HYP: t ɛ s j œ r œ b j yː uː œ j yː k ɵ uː ɵ øː v m b n ə m œ k b ə uː s eː r n v oː s l ɪ ŋ k l ɪ l a s ɔ k m ʉ n a\r\n"
     ]
    },
    {
     "name": "stdout",
     "output_type": "stream",
     "text": [
      "[2021-06-06 17:15:04,609][fairseq.tasks.unpaired_audio_text][INFO] - LM [REF]: -53.44462585449219, 0.05339602260269112\r\n",
      "[2021-06-06 17:15:04,609][fairseq.tasks.unpaired_audio_text][INFO] - LM [HYP]: -97.20819854736328, 0.014651532280657163\r\n"
     ]
    },
    {
     "name": "stdout",
     "output_type": "stream",
     "text": [
      "[2021-06-06 17:15:05,128][valid][INFO] - {\"epoch\": 4852, \"valid_loss\": \"1.005\", \"valid_ntokens\": \"3039.79\", \"valid_nsentences\": \"144.214\", \"valid_lm_score_sum\": \"-89833.2\", \"valid_num_pred_chars\": \"48379\", \"valid_vocab_seen_pct\": \"0.883275\", \"valid_uer\": \"100.548\", \"valid_weighted_lm_ppl\": \"77.6753\", \"valid_lm_ppl\": \"60.6004\", \"valid_wps\": \"18187.9\", \"valid_wpb\": \"3039.8\", \"valid_bsz\": \"144.2\", \"valid_num_updates\": \"77632\", \"valid_best_weighted_lm_ppl\": \"73.4256\"}\r\n",
      "[2021-06-06 17:15:05,132][fairseq.checkpoint_utils][INFO] - Preparing to save checkpoint for epoch 4852 @ 77632 updates\r\n",
      "[2021-06-06 17:15:05,133][fairseq.trainer][INFO] - Saving checkpoint to /kaggle/working/checkpoint4852.pt\r\n"
     ]
    },
    {
     "name": "stdout",
     "output_type": "stream",
     "text": [
      "[2021-06-06 17:15:05,172][fairseq.trainer][INFO] - Finished saving checkpoint to /kaggle/working/checkpoint4852.pt\r\n",
      "[2021-06-06 17:15:05,201][fairseq.checkpoint_utils][INFO] - Saved checkpoint /kaggle/working/checkpoint4852.pt (epoch 4852 @ 77632 updates, score 77.67534603922289) (writing took 0.06904255299741635 seconds)\r\n",
      "[2021-06-06 17:15:05,204][fairseq_cli.train][INFO] - end of epoch 4852 (average epoch stats below)\r\n",
      "[2021-06-06 17:15:05,207][train][INFO] - {\"epoch\": 4852, \"train_loss\": \"3.221\", \"train_ntokens\": \"145.688\", \"train_nsentences\": \"145.688\", \"train_temp\": \"0.1\", \"train_code_ppl\": \"8.917\", \"train_loss_code_pen\": \"0.317\", \"train_loss_smoothness\": \"2.055\", \"train_loss_dense_g\": \"4.15\", \"train_lm_score_sum\": 0.0, \"train_num_pred_chars\": 0.0, \"train_loss_grad_pen\": \"0.097\", \"train_loss_dense_d\": \"0.029\", \"train_loss_token_d\": \"0.027\", \"train_wps\": \"11.7\", \"train_ups\": \"0.08\", \"train_wpb\": \"145.7\", \"train_bsz\": \"145.7\", \"train_num_updates\": \"77632\", \"train_lr_discriminator\": \"0.0005\", \"train_lr_generator\": \"0.0004\", \"train_gnorm\": \"29.763\", \"train_clip\": \"87.5\", \"train_train_wall\": \"196\", \"train_wall\": \"19568\"}\r\n"
     ]
    },
    {
     "name": "stdout",
     "output_type": "stream",
     "text": [
      "[2021-06-06 17:15:05,265][fairseq.trainer][INFO] - begin training epoch 4853\r\n",
      "[2021-06-06 17:15:05,267][fairseq_cli.train][INFO] - Start iterating over samples\r\n"
     ]
    },
    {
     "name": "stdout",
     "output_type": "stream",
     "text": [
      "[2021-06-06 17:18:07,383][fairseq_cli.train][INFO] - begin validation on \"valid\" subset\r\n"
     ]
    },
    {
     "name": "stdout",
     "output_type": "stream",
     "text": [
      "[2021-06-06 17:18:09,853][fairseq.tasks.unpaired_audio_text][INFO] - REF: ɛ n f œ ʂ ə n a d ɵ ʂ ə k t f øː r d eː t s ɔ m h ɛ n d ə p oː ɕ œ r k ɔ n s ɛ t ə n\r\n",
      "[2021-06-06 17:18:09,856][fairseq.tasks.unpaired_audio_text][INFO] - HYP: t ɛ s j œ r œ b j yː uː œ j yː k ɵ uː ɵ øː v b n ə m œ k b uː s eː r n v oː s l ɪ ŋ k l ɪ l a s ɔ k m ʉ n a\r\n",
      "[2021-06-06 17:18:09,860][fairseq.tasks.unpaired_audio_text][INFO] - LM [REF]: -53.44462585449219, 0.05339602260269112\r\n",
      "[2021-06-06 17:18:09,860][fairseq.tasks.unpaired_audio_text][INFO] - LM [HYP]: -93.25188446044922, 0.014843341427875233\r\n"
     ]
    },
    {
     "name": "stdout",
     "output_type": "stream",
     "text": [
      "[2021-06-06 17:18:10,355][valid][INFO] - {\"epoch\": 4853, \"valid_loss\": \"1.008\", \"valid_ntokens\": \"3039.79\", \"valid_nsentences\": \"144.214\", \"valid_lm_score_sum\": \"-89992.5\", \"valid_num_pred_chars\": \"48514\", \"valid_vocab_seen_pct\": \"0.883275\", \"valid_uer\": \"100.79\", \"valid_weighted_lm_ppl\": \"77.3881\", \"valid_lm_ppl\": \"60.3763\", \"valid_wps\": \"19010\", \"valid_wpb\": \"3039.8\", \"valid_bsz\": \"144.2\", \"valid_num_updates\": \"77648\", \"valid_best_weighted_lm_ppl\": \"73.4256\"}\r\n",
      "[2021-06-06 17:18:10,358][fairseq.checkpoint_utils][INFO] - Preparing to save checkpoint for epoch 4853 @ 77648 updates\r\n",
      "[2021-06-06 17:18:10,360][fairseq.trainer][INFO] - Saving checkpoint to /kaggle/working/checkpoint4853.pt\r\n"
     ]
    },
    {
     "name": "stdout",
     "output_type": "stream",
     "text": [
      "[2021-06-06 17:18:10,400][fairseq.trainer][INFO] - Finished saving checkpoint to /kaggle/working/checkpoint4853.pt\r\n",
      "[2021-06-06 17:18:10,430][fairseq.checkpoint_utils][INFO] - Saved checkpoint /kaggle/working/checkpoint4853.pt (epoch 4853 @ 77648 updates, score 77.3881464175727) (writing took 0.07206069800304249 seconds)\r\n",
      "[2021-06-06 17:18:10,434][fairseq_cli.train][INFO] - end of epoch 4853 (average epoch stats below)\r\n",
      "[2021-06-06 17:18:10,437][train][INFO] - {\"epoch\": 4853, \"train_loss\": \"3.58\", \"train_ntokens\": \"145.688\", \"train_nsentences\": \"145.688\", \"train_temp\": \"0.1\", \"train_code_ppl\": \"8.972\", \"train_loss_code_pen\": \"0.332\", \"train_loss_smoothness\": \"2.092\", \"train_loss_dense_g\": \"3.97\", \"train_lm_score_sum\": 0.0, \"train_num_pred_chars\": 0.0, \"train_loss_grad_pen\": \"0.096\", \"train_loss_dense_d\": \"0.025\", \"train_loss_token_d\": \"0.032\", \"train_wps\": \"12.6\", \"train_ups\": \"0.09\", \"train_wpb\": \"145.7\", \"train_bsz\": \"145.7\", \"train_num_updates\": \"77648\", \"train_lr_discriminator\": \"0.0005\", \"train_lr_generator\": \"0.0004\", \"train_gnorm\": \"36.677\", \"train_clip\": \"68.8\", \"train_train_wall\": \"182\", \"train_wall\": \"19753\"}\r\n"
     ]
    },
    {
     "name": "stdout",
     "output_type": "stream",
     "text": [
      "[2021-06-06 17:18:10,498][fairseq.trainer][INFO] - begin training epoch 4854\r\n",
      "[2021-06-06 17:18:10,500][fairseq_cli.train][INFO] - Start iterating over samples\r\n"
     ]
    },
    {
     "name": "stdout",
     "output_type": "stream",
     "text": [
      "[2021-06-06 17:21:21,323][fairseq_cli.train][INFO] - begin validation on \"valid\" subset\r\n"
     ]
    },
    {
     "name": "stdout",
     "output_type": "stream",
     "text": [
      "[2021-06-06 17:21:23,774][fairseq.tasks.unpaired_audio_text][INFO] - REF: ɛ n f œ ʂ ə n a d ɵ ʂ ə k t f øː r d eː t s ɔ m h ɛ n d ə p oː ɕ œ r k ɔ n s ɛ t ə n\r\n",
      "[2021-06-06 17:21:23,777][fairseq.tasks.unpaired_audio_text][INFO] - HYP: t ɛ s j œ r œ j œ b j yː œ yː k ɵ uː ɵ øː v b n ə m œ k b ə uː s eː r n v oː s l ɪ ŋ k l ɪ l a s ɔ k m k n a\r\n",
      "[2021-06-06 17:21:23,782][fairseq.tasks.unpaired_audio_text][INFO] - LM [REF]: -53.44462585449219, 0.05339602260269112\r\n",
      "[2021-06-06 17:21:23,782][fairseq.tasks.unpaired_audio_text][INFO] - LM [HYP]: -95.69667053222656, 0.0144437317087507\r\n"
     ]
    },
    {
     "name": "stdout",
     "output_type": "stream",
     "text": [
      "[2021-06-06 17:21:24,277][valid][INFO] - {\"epoch\": 4854, \"valid_loss\": \"1.008\", \"valid_ntokens\": \"3039.79\", \"valid_nsentences\": \"144.214\", \"valid_lm_score_sum\": \"-89969.2\", \"valid_num_pred_chars\": \"48603\", \"valid_vocab_seen_pct\": \"0.885017\", \"valid_uer\": \"100.78\", \"valid_weighted_lm_ppl\": \"76.4487\", \"valid_lm_ppl\": \"59.8789\", \"valid_wps\": \"19048.3\", \"valid_wpb\": \"3039.8\", \"valid_bsz\": \"144.2\", \"valid_num_updates\": \"77664\", \"valid_best_weighted_lm_ppl\": \"73.4256\"}\r\n",
      "[2021-06-06 17:21:24,280][fairseq.checkpoint_utils][INFO] - Preparing to save checkpoint for epoch 4854 @ 77664 updates\r\n",
      "[2021-06-06 17:21:24,281][fairseq.trainer][INFO] - Saving checkpoint to /kaggle/working/checkpoint4854.pt\r\n"
     ]
    },
    {
     "name": "stdout",
     "output_type": "stream",
     "text": [
      "[2021-06-06 17:21:24,318][fairseq.trainer][INFO] - Finished saving checkpoint to /kaggle/working/checkpoint4854.pt\r\n",
      "[2021-06-06 17:21:24,348][fairseq.checkpoint_utils][INFO] - Saved checkpoint /kaggle/working/checkpoint4854.pt (epoch 4854 @ 77664 updates, score 76.44872022548003) (writing took 0.0674510509998072 seconds)\r\n",
      "[2021-06-06 17:21:24,351][fairseq_cli.train][INFO] - end of epoch 4854 (average epoch stats below)\r\n"
     ]
    },
    {
     "name": "stdout",
     "output_type": "stream",
     "text": [
      "[2021-06-06 17:21:24,355][train][INFO] - {\"epoch\": 4854, \"train_loss\": \"3.432\", \"train_ntokens\": \"145.688\", \"train_nsentences\": \"145.688\", \"train_temp\": \"0.1\", \"train_code_ppl\": \"8.809\", \"train_loss_code_pen\": \"0.307\", \"train_loss_smoothness\": \"2.02\", \"train_loss_dense_g\": \"4.194\", \"train_lm_score_sum\": 0.0, \"train_num_pred_chars\": 0.0, \"train_loss_grad_pen\": \"0.054\", \"train_loss_dense_d\": \"0.029\", \"train_loss_token_d\": \"0.027\", \"train_wps\": \"12\", \"train_ups\": \"0.08\", \"train_wpb\": \"145.7\", \"train_bsz\": \"145.7\", \"train_num_updates\": \"77664\", \"train_lr_discriminator\": \"0.0005\", \"train_lr_generator\": \"0.0004\", \"train_gnorm\": \"29.117\", \"train_clip\": \"62.5\", \"train_train_wall\": \"190\", \"train_wall\": \"19947\"}\r\n"
     ]
    },
    {
     "name": "stdout",
     "output_type": "stream",
     "text": [
      "[2021-06-06 17:21:24,409][fairseq.trainer][INFO] - begin training epoch 4855\r\n",
      "[2021-06-06 17:21:24,411][fairseq_cli.train][INFO] - Start iterating over samples\r\n"
     ]
    },
    {
     "name": "stdout",
     "output_type": "stream",
     "text": [
      "[2021-06-06 17:24:53,585][fairseq_cli.train][INFO] - begin validation on \"valid\" subset\r\n"
     ]
    },
    {
     "name": "stdout",
     "output_type": "stream",
     "text": [
      "[2021-06-06 17:24:56,070][fairseq.tasks.unpaired_audio_text][INFO] - REF: ɛ n f œ ʂ ə n a d ɵ ʂ ə k t f øː r d eː t s ɔ m h ɛ n d ə p oː ɕ œ r k ɔ n s ɛ t ə n\r\n",
      "[2021-06-06 17:24:56,072][fairseq.tasks.unpaired_audio_text][INFO] - HYP: t s ɛ s j œ r œ j œ b j yː œ yː k ɵ ɵ øː v n ə m œ k b uː s eː r n v oː n l ɪ ŋ k l ɪ l a s ɔ k m k n a\r\n",
      "[2021-06-06 17:24:56,076][fairseq.tasks.unpaired_audio_text][INFO] - LM [REF]: -53.44462585449219, 0.05339602260269112\r\n",
      "[2021-06-06 17:24:56,077][fairseq.tasks.unpaired_audio_text][INFO] - LM [HYP]: -91.8388442993164, 0.014562069987782825\r\n"
     ]
    },
    {
     "name": "stdout",
     "output_type": "stream",
     "text": [
      "[2021-06-06 17:24:56,581][valid][INFO] - {\"epoch\": 4855, \"valid_loss\": \"1.007\", \"valid_ntokens\": \"3039.79\", \"valid_nsentences\": \"144.214\", \"valid_lm_score_sum\": \"-90081.9\", \"valid_num_pred_chars\": \"48459\", \"valid_vocab_seen_pct\": \"0.888502\", \"valid_uer\": \"100.691\", \"valid_weighted_lm_ppl\": \"77.1368\", \"valid_lm_ppl\": \"60.8945\", \"valid_wps\": \"19020.8\", \"valid_wpb\": \"3039.8\", \"valid_bsz\": \"144.2\", \"valid_num_updates\": \"77680\", \"valid_best_weighted_lm_ppl\": \"73.4256\"}\r\n",
      "[2021-06-06 17:24:56,585][fairseq.checkpoint_utils][INFO] - Preparing to save checkpoint for epoch 4855 @ 77680 updates\r\n",
      "[2021-06-06 17:24:56,586][fairseq.trainer][INFO] - Saving checkpoint to /kaggle/working/checkpoint4855.pt\r\n"
     ]
    },
    {
     "name": "stdout",
     "output_type": "stream",
     "text": [
      "[2021-06-06 17:24:56,626][fairseq.trainer][INFO] - Finished saving checkpoint to /kaggle/working/checkpoint4855.pt\r\n"
     ]
    },
    {
     "name": "stdout",
     "output_type": "stream",
     "text": [
      "[2021-06-06 17:24:56,655][fairseq.checkpoint_utils][INFO] - Saved checkpoint /kaggle/working/checkpoint4855.pt (epoch 4855 @ 77680 updates, score 77.13677212140867) (writing took 0.07079233200056478 seconds)\r\n",
      "[2021-06-06 17:24:56,659][fairseq_cli.train][INFO] - end of epoch 4855 (average epoch stats below)\r\n",
      "[2021-06-06 17:24:56,662][train][INFO] - {\"epoch\": 4855, \"train_loss\": \"2.992\", \"train_ntokens\": \"145.688\", \"train_nsentences\": \"145.688\", \"train_temp\": \"0.1\", \"train_code_ppl\": \"8.978\", \"train_loss_code_pen\": \"0.311\", \"train_loss_smoothness\": \"2.01\", \"train_loss_dense_g\": \"4.161\", \"train_lm_score_sum\": 0.0, \"train_num_pred_chars\": 0.0, \"train_loss_grad_pen\": \"0.071\", \"train_loss_dense_d\": \"0.027\", \"train_loss_token_d\": \"0.028\", \"train_wps\": \"11\", \"train_ups\": \"0.08\", \"train_wpb\": \"145.7\", \"train_bsz\": \"145.7\", \"train_num_updates\": \"77680\", \"train_lr_discriminator\": \"0.0005\", \"train_lr_generator\": \"0.0004\", \"train_gnorm\": \"29.038\", \"train_clip\": \"81.2\", \"train_train_wall\": \"209\", \"train_wall\": \"20160\"}\r\n"
     ]
    },
    {
     "name": "stdout",
     "output_type": "stream",
     "text": [
      "[2021-06-06 17:24:56,720][fairseq.trainer][INFO] - begin training epoch 4856\r\n",
      "[2021-06-06 17:24:56,721][fairseq_cli.train][INFO] - Start iterating over samples\r\n"
     ]
    },
    {
     "name": "stdout",
     "output_type": "stream",
     "text": [
      "[2021-06-06 17:28:01,195][fairseq_cli.train][INFO] - begin validation on \"valid\" subset\r\n"
     ]
    },
    {
     "name": "stdout",
     "output_type": "stream",
     "text": [
      "[2021-06-06 17:28:03,659][fairseq.tasks.unpaired_audio_text][INFO] - REF: ɛ n f œ ʂ ə n a d ɵ ʂ ə k t f øː r d eː t s ɔ m h ɛ n d ə p oː ɕ œ r k ɔ n s ɛ t ə n\r\n",
      "[2021-06-06 17:28:03,662][fairseq.tasks.unpaired_audio_text][INFO] - HYP: t ɡ ɛ s j œ r œ j œ b j yː œ j k ɵ ɵ øː v yː b n ə m œ b uː s eː r n v oː s l ɪ ŋ k l ɪ l a s ɔ k m ʉ n a\r\n",
      "[2021-06-06 17:28:03,666][fairseq.tasks.unpaired_audio_text][INFO] - LM [REF]: -53.44462585449219, 0.05339602260269112\r\n",
      "[2021-06-06 17:28:03,667][fairseq.tasks.unpaired_audio_text][INFO] - LM [HYP]: -91.55052185058594, 0.016028457441761717\r\n"
     ]
    },
    {
     "name": "stdout",
     "output_type": "stream",
     "text": [
      "[2021-06-06 17:28:04,165][valid][INFO] - {\"epoch\": 4856, \"valid_loss\": \"1.008\", \"valid_ntokens\": \"3039.79\", \"valid_nsentences\": \"144.214\", \"valid_lm_score_sum\": \"-90235.7\", \"valid_num_pred_chars\": \"48535\", \"valid_vocab_seen_pct\": \"0.88676\", \"valid_uer\": \"100.82\", \"valid_weighted_lm_ppl\": \"77.504\", \"valid_lm_ppl\": \"60.9447\", \"valid_wps\": \"18991.8\", \"valid_wpb\": \"3039.8\", \"valid_bsz\": \"144.2\", \"valid_num_updates\": \"77696\", \"valid_best_weighted_lm_ppl\": \"73.4256\"}\r\n",
      "[2021-06-06 17:28:04,168][fairseq.checkpoint_utils][INFO] - Preparing to save checkpoint for epoch 4856 @ 77696 updates\r\n"
     ]
    },
    {
     "name": "stdout",
     "output_type": "stream",
     "text": [
      "[2021-06-06 17:28:04,170][fairseq.trainer][INFO] - Saving checkpoint to /kaggle/working/checkpoint4856.pt\r\n",
      "[2021-06-06 17:28:04,209][fairseq.trainer][INFO] - Finished saving checkpoint to /kaggle/working/checkpoint4856.pt\r\n"
     ]
    },
    {
     "name": "stdout",
     "output_type": "stream",
     "text": [
      "[2021-06-06 17:28:04,248][fairseq.checkpoint_utils][INFO] - Saved checkpoint /kaggle/working/checkpoint4856.pt (epoch 4856 @ 77696 updates, score 77.50404159242983) (writing took 0.07929128899922944 seconds)\r\n",
      "[2021-06-06 17:28:04,251][fairseq_cli.train][INFO] - end of epoch 4856 (average epoch stats below)\r\n",
      "[2021-06-06 17:28:04,255][train][INFO] - {\"epoch\": 4856, \"train_loss\": \"3.65\", \"train_ntokens\": \"145.688\", \"train_nsentences\": \"145.688\", \"train_temp\": \"0.1\", \"train_code_ppl\": \"8.766\", \"train_loss_code_pen\": \"0.307\", \"train_loss_smoothness\": \"2.045\", \"train_loss_dense_g\": \"4.176\", \"train_lm_score_sum\": 0.0, \"train_num_pred_chars\": 0.0, \"train_loss_grad_pen\": \"0.09\", \"train_loss_dense_d\": \"0.024\", \"train_loss_token_d\": \"0.031\", \"train_wps\": \"12.4\", \"train_ups\": \"0.09\", \"train_wpb\": \"145.7\", \"train_bsz\": \"145.7\", \"train_num_updates\": \"77696\", \"train_lr_discriminator\": \"0.0005\", \"train_lr_generator\": \"0.0004\", \"train_gnorm\": \"30.943\", \"train_clip\": \"75\", \"train_train_wall\": \"184\", \"train_wall\": \"20347\"}\r\n"
     ]
    },
    {
     "name": "stdout",
     "output_type": "stream",
     "text": [
      "[2021-06-06 17:28:04,316][fairseq.trainer][INFO] - begin training epoch 4857\r\n",
      "[2021-06-06 17:28:04,318][fairseq_cli.train][INFO] - Start iterating over samples\r\n"
     ]
    },
    {
     "name": "stdout",
     "output_type": "stream",
     "text": [
      "[2021-06-06 17:28:56,878][train_inner][INFO] - {\"epoch\": 4857, \"update\": 4856.25, \"loss\": \"3.429\", \"ntokens\": \"146.26\", \"nsentences\": \"146.26\", \"temp\": \"0.1\", \"code_ppl\": \"8.891\", \"loss_code_pen\": \"0.317\", \"loss_smoothness\": \"2.054\", \"loss_dense_g\": \"4.139\", \"lm_score_sum\": 0.0, \"num_pred_chars\": 0.0, \"loss_grad_pen\": \"0.093\", \"loss_dense_d\": \"0.026\", \"loss_token_d\": \"0.03\", \"wps\": \"12\", \"ups\": \"0.08\", \"wpb\": \"146.3\", \"bsz\": \"146.3\", \"num_updates\": \"77700\", \"lr_discriminator\": \"0.0005\", \"lr_generator\": \"0.0004\", \"gnorm\": \"31.718\", \"clip\": \"76\", \"train_wall\": \"1194\", \"wall\": \"20400\"}\r\n"
     ]
    },
    {
     "name": "stdout",
     "output_type": "stream",
     "text": [
      "[2021-06-06 17:31:08,424][fairseq_cli.train][INFO] - begin validation on \"valid\" subset\r\n"
     ]
    },
    {
     "name": "stdout",
     "output_type": "stream",
     "text": [
      "[2021-06-06 17:31:10,922][fairseq.tasks.unpaired_audio_text][INFO] - REF: ɛ n f œ ʂ ə n a d ɵ ʂ ə k t f øː r d eː t s ɔ m h ɛ n d ə p oː ɕ œ r k ɔ n s ɛ t ə n\r\n",
      "[2021-06-06 17:31:10,924][fairseq.tasks.unpaired_audio_text][INFO] - HYP: t ɡ ɛ s j œ r œ j œ b j œ j yː k ɵ ɵ øː j yː b n ə m ɔ k b uː s eː r n v oː s l ɪ ŋ k l ɪ l a s ɔ k m ʉ n a\r\n"
     ]
    },
    {
     "name": "stdout",
     "output_type": "stream",
     "text": [
      "[2021-06-06 17:31:10,929][fairseq.tasks.unpaired_audio_text][INFO] - LM [REF]: -53.44462585449219, 0.05339602260269112\r\n",
      "[2021-06-06 17:31:10,930][fairseq.tasks.unpaired_audio_text][INFO] - LM [HYP]: -91.59530639648438, 0.017320156029695107\r\n"
     ]
    },
    {
     "name": "stdout",
     "output_type": "stream",
     "text": [
      "[2021-06-06 17:31:11,426][valid][INFO] - {\"epoch\": 4857, \"valid_loss\": \"1.01\", \"valid_ntokens\": \"3039.79\", \"valid_nsentences\": \"144.214\", \"valid_lm_score_sum\": \"-90214.5\", \"valid_num_pred_chars\": \"48702\", \"valid_vocab_seen_pct\": \"0.891986\", \"valid_uer\": \"101.006\", \"valid_weighted_lm_ppl\": \"75.4964\", \"valid_lm_ppl\": \"60.0679\", \"valid_wps\": \"18712\", \"valid_wpb\": \"3039.8\", \"valid_bsz\": \"144.2\", \"valid_num_updates\": \"77712\", \"valid_best_weighted_lm_ppl\": \"73.4256\"}\r\n",
      "[2021-06-06 17:31:11,429][fairseq.checkpoint_utils][INFO] - Preparing to save checkpoint for epoch 4857 @ 77712 updates\r\n",
      "[2021-06-06 17:31:11,430][fairseq.trainer][INFO] - Saving checkpoint to /kaggle/working/checkpoint4857.pt\r\n"
     ]
    },
    {
     "name": "stdout",
     "output_type": "stream",
     "text": [
      "[2021-06-06 17:31:11,471][fairseq.trainer][INFO] - Finished saving checkpoint to /kaggle/working/checkpoint4857.pt\r\n"
     ]
    },
    {
     "name": "stdout",
     "output_type": "stream",
     "text": [
      "[2021-06-06 17:31:11,501][fairseq.checkpoint_utils][INFO] - Saved checkpoint /kaggle/working/checkpoint4857.pt (epoch 4857 @ 77712 updates, score 75.49636624170421) (writing took 0.07241331999830436 seconds)\r\n",
      "[2021-06-06 17:31:11,505][fairseq_cli.train][INFO] - end of epoch 4857 (average epoch stats below)\r\n",
      "[2021-06-06 17:31:11,508][train][INFO] - {\"epoch\": 4857, \"train_loss\": \"3.782\", \"train_ntokens\": \"145.688\", \"train_nsentences\": \"145.688\", \"train_temp\": \"0.1\", \"train_code_ppl\": \"8.909\", \"train_loss_code_pen\": \"0.333\", \"train_loss_smoothness\": \"2.121\", \"train_loss_dense_g\": \"4.294\", \"train_lm_score_sum\": 0.0, \"train_num_pred_chars\": 0.0, \"train_loss_grad_pen\": \"0.113\", \"train_loss_dense_d\": \"0.027\", \"train_loss_token_d\": \"0.029\", \"train_wps\": \"12.4\", \"train_ups\": \"0.09\", \"train_wpb\": \"145.7\", \"train_bsz\": \"145.7\", \"train_num_updates\": \"77712\", \"train_lr_discriminator\": \"0.0005\", \"train_lr_generator\": \"0.0004\", \"train_gnorm\": \"30.053\", \"train_clip\": \"87.5\", \"train_train_wall\": \"184\", \"train_wall\": \"20535\"}\r\n"
     ]
    },
    {
     "name": "stdout",
     "output_type": "stream",
     "text": [
      "[2021-06-06 17:31:11,568][fairseq.trainer][INFO] - begin training epoch 4858\r\n",
      "[2021-06-06 17:31:11,570][fairseq_cli.train][INFO] - Start iterating over samples\r\n"
     ]
    },
    {
     "name": "stdout",
     "output_type": "stream",
     "text": [
      "[2021-06-06 17:34:38,544][fairseq_cli.train][INFO] - begin validation on \"valid\" subset\r\n"
     ]
    },
    {
     "name": "stdout",
     "output_type": "stream",
     "text": [
      "[2021-06-06 17:34:41,034][fairseq.tasks.unpaired_audio_text][INFO] - REF: ɛ n f œ ʂ ə n a d ɵ ʂ ə k t f øː r d eː t s ɔ m h ɛ n d ə p oː ɕ œ r k ɔ n s ɛ t ə n\r\n",
      "[2021-06-06 17:34:41,037][fairseq.tasks.unpaired_audio_text][INFO] - HYP: t ɡ ɛ s j œ r œ j œ b j yː uː œ j yː k ɵ uː ɵ øː j m n ə m œ b uː s eː r n v oː s l ɪ ŋ k l ɪ l a s ɔ k m ʉ n a\r\n"
     ]
    },
    {
     "name": "stdout",
     "output_type": "stream",
     "text": [
      "[2021-06-06 17:34:41,042][fairseq.tasks.unpaired_audio_text][INFO] - LM [REF]: -53.44462585449219, 0.05339602260269112\r\n",
      "[2021-06-06 17:34:41,042][fairseq.tasks.unpaired_audio_text][INFO] - LM [HYP]: -95.56998443603516, 0.015732319093842283\r\n"
     ]
    },
    {
     "name": "stdout",
     "output_type": "stream",
     "text": [
      "[2021-06-06 17:34:41,533][valid][INFO] - {\"epoch\": 4858, \"valid_loss\": \"1.005\", \"valid_ntokens\": \"3039.79\", \"valid_nsentences\": \"144.214\", \"valid_lm_score_sum\": \"-89745.3\", \"valid_num_pred_chars\": \"48512\", \"valid_vocab_seen_pct\": \"0.890244\", \"valid_uer\": \"100.536\", \"valid_weighted_lm_ppl\": \"75.3402\", \"valid_lm_ppl\": \"59.7097\", \"valid_wps\": \"18861.2\", \"valid_wpb\": \"3039.8\", \"valid_bsz\": \"144.2\", \"valid_num_updates\": \"77728\", \"valid_best_weighted_lm_ppl\": \"73.4256\"}\r\n",
      "[2021-06-06 17:34:41,536][fairseq.checkpoint_utils][INFO] - Preparing to save checkpoint for epoch 4858 @ 77728 updates\r\n",
      "[2021-06-06 17:34:41,538][fairseq.trainer][INFO] - Saving checkpoint to /kaggle/working/checkpoint4858.pt\r\n"
     ]
    },
    {
     "name": "stdout",
     "output_type": "stream",
     "text": [
      "[2021-06-06 17:34:41,584][fairseq.trainer][INFO] - Finished saving checkpoint to /kaggle/working/checkpoint4858.pt\r\n"
     ]
    },
    {
     "name": "stdout",
     "output_type": "stream",
     "text": [
      "[2021-06-06 17:34:41,620][fairseq.checkpoint_utils][INFO] - Saved checkpoint /kaggle/working/checkpoint4858.pt (epoch 4858 @ 77728 updates, score 75.3401625143197) (writing took 0.08403547999841976 seconds)\r\n",
      "[2021-06-06 17:34:41,624][fairseq_cli.train][INFO] - end of epoch 4858 (average epoch stats below)\r\n",
      "[2021-06-06 17:34:41,628][train][INFO] - {\"epoch\": 4858, \"train_loss\": \"3.231\", \"train_ntokens\": \"145.688\", \"train_nsentences\": \"145.688\", \"train_temp\": \"0.1\", \"train_code_ppl\": \"8.735\", \"train_loss_code_pen\": \"0.31\", \"train_loss_smoothness\": \"2.044\", \"train_loss_dense_g\": \"4.203\", \"train_lm_score_sum\": 0.0, \"train_num_pred_chars\": 0.0, \"train_loss_grad_pen\": \"0.088\", \"train_loss_dense_d\": \"0.026\", \"train_loss_token_d\": \"0.026\", \"train_wps\": \"11.1\", \"train_ups\": \"0.08\", \"train_wpb\": \"145.7\", \"train_bsz\": \"145.7\", \"train_num_updates\": \"77728\", \"train_lr_discriminator\": \"0.0005\", \"train_lr_generator\": \"0.0004\", \"train_gnorm\": \"29.529\", \"train_clip\": \"81.2\", \"train_train_wall\": \"206\", \"train_wall\": \"20745\"}\r\n"
     ]
    },
    {
     "name": "stdout",
     "output_type": "stream",
     "text": [
      "[2021-06-06 17:34:41,703][fairseq.trainer][INFO] - begin training epoch 4859\r\n",
      "[2021-06-06 17:34:41,705][fairseq_cli.train][INFO] - Start iterating over samples\r\n"
     ]
    },
    {
     "name": "stdout",
     "output_type": "stream",
     "text": [
      "[2021-06-06 17:38:02,742][fairseq_cli.train][INFO] - begin validation on \"valid\" subset\r\n"
     ]
    },
    {
     "name": "stdout",
     "output_type": "stream",
     "text": [
      "[2021-06-06 17:38:05,251][fairseq.tasks.unpaired_audio_text][INFO] - REF: ɛ n f œ ʂ ə n a d ɵ ʂ ə k t f øː r d eː t s ɔ m h ɛ n d ə p oː ɕ œ r k ɔ n s ɛ t ə n\r\n",
      "[2021-06-06 17:38:05,253][fairseq.tasks.unpaired_audio_text][INFO] - HYP: t ɡ ɛ s j œ r œ j œ b j uː œ yː k ɵ uː ɵ øː v ə m œ b uː s eː r n v oː s l ɪ ŋ k l ɪ l a s ɔ k m ʉ n a\r\n",
      "[2021-06-06 17:38:05,257][fairseq.tasks.unpaired_audio_text][INFO] - LM [REF]: -53.44462585449219, 0.05339602260269112\r\n",
      "[2021-06-06 17:38:05,257][fairseq.tasks.unpaired_audio_text][INFO] - LM [HYP]: -86.21821594238281, 0.017395806676350538\r\n"
     ]
    },
    {
     "name": "stdout",
     "output_type": "stream",
     "text": [
      "[2021-06-06 17:38:05,747][valid][INFO] - {\"epoch\": 4859, \"valid_loss\": \"1.007\", \"valid_ntokens\": \"3039.79\", \"valid_nsentences\": \"144.214\", \"valid_lm_score_sum\": \"-89878.5\", \"valid_num_pred_chars\": \"48593\", \"valid_vocab_seen_pct\": \"0.891986\", \"valid_uer\": \"100.651\", \"valid_weighted_lm_ppl\": \"75.0097\", \"valid_lm_ppl\": \"59.6806\", \"valid_wps\": \"18827.8\", \"valid_wpb\": \"3039.8\", \"valid_bsz\": \"144.2\", \"valid_num_updates\": \"77744\", \"valid_best_weighted_lm_ppl\": \"73.4256\"}\r\n",
      "[2021-06-06 17:38:05,750][fairseq.checkpoint_utils][INFO] - Preparing to save checkpoint for epoch 4859 @ 77744 updates\r\n",
      "[2021-06-06 17:38:05,752][fairseq.trainer][INFO] - Saving checkpoint to /kaggle/working/checkpoint4859.pt\r\n",
      "[2021-06-06 17:38:05,789][fairseq.trainer][INFO] - Finished saving checkpoint to /kaggle/working/checkpoint4859.pt\r\n"
     ]
    },
    {
     "name": "stdout",
     "output_type": "stream",
     "text": [
      "[2021-06-06 17:38:05,818][fairseq.checkpoint_utils][INFO] - Saved checkpoint /kaggle/working/checkpoint4859.pt (epoch 4859 @ 77744 updates, score 75.00967155800747) (writing took 0.06751927100049215 seconds)\r\n",
      "[2021-06-06 17:38:05,821][fairseq_cli.train][INFO] - end of epoch 4859 (average epoch stats below)\r\n",
      "[2021-06-06 17:38:05,824][train][INFO] - {\"epoch\": 4859, \"train_loss\": \"3.234\", \"train_ntokens\": \"145.688\", \"train_nsentences\": \"145.688\", \"train_temp\": \"0.1\", \"train_code_ppl\": \"9.127\", \"train_loss_code_pen\": \"0.328\", \"train_loss_smoothness\": \"2.076\", \"train_loss_dense_g\": \"4.153\", \"train_lm_score_sum\": 0.0, \"train_num_pred_chars\": 0.0, \"train_loss_grad_pen\": \"0.1\", \"train_loss_dense_d\": \"0.022\", \"train_loss_token_d\": \"0.024\", \"train_wps\": \"11.4\", \"train_ups\": \"0.08\", \"train_wpb\": \"145.7\", \"train_bsz\": \"145.7\", \"train_num_updates\": \"77744\", \"train_lr_discriminator\": \"0.0005\", \"train_lr_generator\": \"0.0004\", \"train_gnorm\": \"29.526\", \"train_clip\": \"68.8\", \"train_train_wall\": \"201\", \"train_wall\": \"20949\"}\r\n"
     ]
    },
    {
     "name": "stdout",
     "output_type": "stream",
     "text": [
      "[2021-06-06 17:38:05,880][fairseq.trainer][INFO] - begin training epoch 4860\r\n",
      "[2021-06-06 17:38:05,881][fairseq_cli.train][INFO] - Start iterating over samples\r\n"
     ]
    },
    {
     "name": "stdout",
     "output_type": "stream",
     "text": [
      "[2021-06-06 17:41:35,498][fairseq_cli.train][INFO] - begin validation on \"valid\" subset\r\n"
     ]
    },
    {
     "name": "stdout",
     "output_type": "stream",
     "text": [
      "[2021-06-06 17:41:38,022][fairseq.tasks.unpaired_audio_text][INFO] - REF: ɛ n f œ ʂ ə n a d ɵ ʂ ə k t f øː r d eː t s ɔ m h ɛ n d ə p oː ɕ œ r k ɔ n s ɛ t ə n\r\n"
     ]
    },
    {
     "name": "stdout",
     "output_type": "stream",
     "text": [
      "[2021-06-06 17:41:38,025][fairseq.tasks.unpaired_audio_text][INFO] - HYP: t ɡ ɛ s j œ r œ j œ b j yː œ yː k ɵ uː ɵ øː v yː n ə m ɔ k b uː s eː r n v oː s l ɪ ŋ k l ɪ l a s ɔ m ʉ n a\r\n",
      "[2021-06-06 17:41:38,033][fairseq.tasks.unpaired_audio_text][INFO] - LM [REF]: -53.44462585449219, 0.05339602260269112\r\n",
      "[2021-06-06 17:41:38,033][fairseq.tasks.unpaired_audio_text][INFO] - LM [HYP]: -89.84312438964844, 0.01731291153970059\r\n"
     ]
    },
    {
     "name": "stdout",
     "output_type": "stream",
     "text": [
      "[2021-06-06 17:41:38,535][valid][INFO] - {\"epoch\": 4860, \"valid_loss\": \"1.006\", \"valid_ntokens\": \"3039.79\", \"valid_nsentences\": \"144.214\", \"valid_lm_score_sum\": \"-89686.2\", \"valid_num_pred_chars\": \"48412\", \"valid_vocab_seen_pct\": \"0.88676\", \"valid_uer\": \"100.559\", \"valid_weighted_lm_ppl\": \"76.3454\", \"valid_lm_ppl\": \"60.0337\", \"valid_wps\": \"18585.2\", \"valid_wpb\": \"3039.8\", \"valid_bsz\": \"144.2\", \"valid_num_updates\": \"77760\", \"valid_best_weighted_lm_ppl\": \"73.4256\"}\r\n"
     ]
    },
    {
     "name": "stdout",
     "output_type": "stream",
     "text": [
      "[2021-06-06 17:41:38,539][fairseq.checkpoint_utils][INFO] - Preparing to save checkpoint for epoch 4860 @ 77760 updates\r\n",
      "[2021-06-06 17:41:38,540][fairseq.trainer][INFO] - Saving checkpoint to /kaggle/working/checkpoint4860.pt\r\n",
      "[2021-06-06 17:41:38,581][fairseq.trainer][INFO] - Finished saving checkpoint to /kaggle/working/checkpoint4860.pt\r\n"
     ]
    },
    {
     "name": "stdout",
     "output_type": "stream",
     "text": [
      "[2021-06-06 17:41:38,613][fairseq.checkpoint_utils][INFO] - Saved checkpoint /kaggle/working/checkpoint4860.pt (epoch 4860 @ 77760 updates, score 76.34541702635558) (writing took 0.0739116449985886 seconds)\r\n",
      "[2021-06-06 17:41:38,616][fairseq_cli.train][INFO] - end of epoch 4860 (average epoch stats below)\r\n",
      "[2021-06-06 17:41:38,618][train][INFO] - {\"epoch\": 4860, \"train_loss\": \"3.104\", \"train_ntokens\": \"145.688\", \"train_nsentences\": \"145.688\", \"train_temp\": \"0.1\", \"train_code_ppl\": \"8.915\", \"train_loss_code_pen\": \"0.326\", \"train_loss_smoothness\": \"2.063\", \"train_loss_dense_g\": \"4.301\", \"train_lm_score_sum\": 0.0, \"train_num_pred_chars\": 0.0, \"train_loss_grad_pen\": \"0.111\", \"train_loss_dense_d\": \"0.023\", \"train_loss_token_d\": \"0.027\", \"train_wps\": \"11\", \"train_ups\": \"0.08\", \"train_wpb\": \"145.7\", \"train_bsz\": \"145.7\", \"train_num_updates\": \"77760\", \"train_lr_discriminator\": \"0.0005\", \"train_lr_generator\": \"0.0004\", \"train_gnorm\": \"29.924\", \"train_clip\": \"68.8\", \"train_train_wall\": \"209\", \"train_wall\": \"21162\"}\r\n"
     ]
    },
    {
     "name": "stdout",
     "output_type": "stream",
     "text": [
      "[2021-06-06 17:41:38,678][fairseq.trainer][INFO] - begin training epoch 4861\r\n",
      "[2021-06-06 17:41:38,679][fairseq_cli.train][INFO] - Start iterating over samples\r\n"
     ]
    },
    {
     "name": "stdout",
     "output_type": "stream",
     "text": [
      "[2021-06-06 17:45:12,218][fairseq_cli.train][INFO] - begin validation on \"valid\" subset\r\n"
     ]
    },
    {
     "name": "stdout",
     "output_type": "stream",
     "text": [
      "[2021-06-06 17:45:14,853][fairseq.tasks.unpaired_audio_text][INFO] - REF: ɛ n f œ ʂ ə n a d ɵ ʂ ə k t f øː r d eː t s ɔ m h ɛ n d ə p oː ɕ œ r k ɔ n s ɛ t ə n\r\n",
      "[2021-06-06 17:45:14,856][fairseq.tasks.unpaired_audio_text][INFO] - HYP: t ɡ ɛ s j œ r œ j œ b j œ yː k ɵ uː ɵ øː v yː n ə m œ k b ə uː s eː r n v oː s l ɪ ŋ k l ɪ l a s ɔ m ʉ n a\r\n",
      "[2021-06-06 17:45:14,862][fairseq.tasks.unpaired_audio_text][INFO] - LM [REF]: -53.44462585449219, 0.05339602260269112\r\n",
      "[2021-06-06 17:45:14,862][fairseq.tasks.unpaired_audio_text][INFO] - LM [HYP]: -90.20503234863281, 0.01703232264989398\r\n"
     ]
    },
    {
     "name": "stdout",
     "output_type": "stream",
     "text": [
      "[2021-06-06 17:45:15,388][valid][INFO] - {\"epoch\": 4861, \"valid_loss\": \"1.004\", \"valid_ntokens\": \"3039.79\", \"valid_nsentences\": \"144.214\", \"valid_lm_score_sum\": \"-89636.8\", \"valid_num_pred_chars\": \"48415\", \"valid_vocab_seen_pct\": \"0.891986\", \"valid_uer\": \"100.399\", \"valid_weighted_lm_ppl\": \"75.2649\", \"valid_lm_ppl\": \"59.8837\", \"valid_wps\": \"17304.8\", \"valid_wpb\": \"3039.8\", \"valid_bsz\": \"144.2\", \"valid_num_updates\": \"77776\", \"valid_best_weighted_lm_ppl\": \"73.4256\"}\r\n",
      "[2021-06-06 17:45:15,391][fairseq.checkpoint_utils][INFO] - Preparing to save checkpoint for epoch 4861 @ 77776 updates\r\n",
      "[2021-06-06 17:45:15,393][fairseq.trainer][INFO] - Saving checkpoint to /kaggle/working/checkpoint4861.pt\r\n"
     ]
    },
    {
     "name": "stdout",
     "output_type": "stream",
     "text": [
      "[2021-06-06 17:45:15,434][fairseq.trainer][INFO] - Finished saving checkpoint to /kaggle/working/checkpoint4861.pt\r\n"
     ]
    },
    {
     "name": "stdout",
     "output_type": "stream",
     "text": [
      "[2021-06-06 17:45:15,465][fairseq.checkpoint_utils][INFO] - Saved checkpoint /kaggle/working/checkpoint4861.pt (epoch 4861 @ 77776 updates, score 75.26488307746243) (writing took 0.07400391700139153 seconds)\r\n",
      "[2021-06-06 17:45:15,469][fairseq_cli.train][INFO] - end of epoch 4861 (average epoch stats below)\r\n",
      "[2021-06-06 17:45:15,471][train][INFO] - {\"epoch\": 4861, \"train_loss\": \"3.049\", \"train_ntokens\": \"145.688\", \"train_nsentences\": \"145.688\", \"train_temp\": \"0.1\", \"train_code_ppl\": \"8.784\", \"train_loss_code_pen\": \"0.315\", \"train_loss_smoothness\": \"2.05\", \"train_loss_dense_g\": \"4.239\", \"train_lm_score_sum\": 0.0, \"train_num_pred_chars\": 0.0, \"train_loss_grad_pen\": \"0.081\", \"train_loss_dense_d\": \"0.024\", \"train_loss_token_d\": \"0.025\", \"train_wps\": \"10.7\", \"train_ups\": \"0.07\", \"train_wpb\": \"145.7\", \"train_bsz\": \"145.7\", \"train_num_updates\": \"77776\", \"train_lr_discriminator\": \"0.0005\", \"train_lr_generator\": \"0.0004\", \"train_gnorm\": \"30.091\", \"train_clip\": \"81.2\", \"train_train_wall\": \"213\", \"train_wall\": \"21378\"}\r\n"
     ]
    },
    {
     "name": "stdout",
     "output_type": "stream",
     "text": [
      "[2021-06-06 17:45:15,533][fairseq.trainer][INFO] - begin training epoch 4862\r\n",
      "[2021-06-06 17:45:15,534][fairseq_cli.train][INFO] - Start iterating over samples\r\n"
     ]
    },
    {
     "name": "stdout",
     "output_type": "stream",
     "text": [
      "[2021-06-06 17:48:41,353][fairseq_cli.train][INFO] - begin validation on \"valid\" subset\r\n"
     ]
    },
    {
     "name": "stdout",
     "output_type": "stream",
     "text": [
      "[2021-06-06 17:48:43,874][fairseq.tasks.unpaired_audio_text][INFO] - REF: ɛ n f œ ʂ ə n a d ɵ ʂ ə k t f øː r d eː t s ɔ m h ɛ n d ə p oː ɕ œ r k ɔ n s ɛ t ə n\r\n",
      "[2021-06-06 17:48:43,877][fairseq.tasks.unpaired_audio_text][INFO] - HYP: t ɡ ɛ s j œ f œ j œ b j uː œ yː k yː uː ɵ øː v yː n ə m œ k b uː s eː r n v oː s l ɪ ŋ k l ɪ l a s ɔ k m ʉ n a\r\n",
      "[2021-06-06 17:48:43,881][fairseq.tasks.unpaired_audio_text][INFO] - LM [REF]: -53.44462585449219, 0.05339602260269112\r\n",
      "[2021-06-06 17:48:43,882][fairseq.tasks.unpaired_audio_text][INFO] - LM [HYP]: -94.89893341064453, 0.01496306323613686\r\n"
     ]
    },
    {
     "name": "stdout",
     "output_type": "stream",
     "text": [
      "[2021-06-06 17:48:44,384][valid][INFO] - {\"epoch\": 4862, \"valid_loss\": \"1.007\", \"valid_ntokens\": \"3039.79\", \"valid_nsentences\": \"144.214\", \"valid_lm_score_sum\": \"-89978\", \"valid_num_pred_chars\": \"48591\", \"valid_vocab_seen_pct\": \"0.893728\", \"valid_uer\": \"100.728\", \"valid_weighted_lm_ppl\": \"75.0687\", \"valid_lm_ppl\": \"59.9612\", \"valid_wps\": \"18607.3\", \"valid_wpb\": \"3039.8\", \"valid_bsz\": \"144.2\", \"valid_num_updates\": \"77792\", \"valid_best_weighted_lm_ppl\": \"73.4256\"}\r\n",
      "[2021-06-06 17:48:44,387][fairseq.checkpoint_utils][INFO] - Preparing to save checkpoint for epoch 4862 @ 77792 updates\r\n",
      "[2021-06-06 17:48:44,389][fairseq.trainer][INFO] - Saving checkpoint to /kaggle/working/checkpoint4862.pt\r\n"
     ]
    },
    {
     "name": "stdout",
     "output_type": "stream",
     "text": [
      "[2021-06-06 17:48:44,428][fairseq.trainer][INFO] - Finished saving checkpoint to /kaggle/working/checkpoint4862.pt\r\n",
      "[2021-06-06 17:48:44,459][fairseq.checkpoint_utils][INFO] - Saved checkpoint /kaggle/working/checkpoint4862.pt (epoch 4862 @ 77792 updates, score 75.06872074031158) (writing took 0.07139431099858484 seconds)\r\n",
      "[2021-06-06 17:48:44,462][fairseq_cli.train][INFO] - end of epoch 4862 (average epoch stats below)\r\n",
      "[2021-06-06 17:48:44,465][train][INFO] - {\"epoch\": 4862, \"train_loss\": \"3.067\", \"train_ntokens\": \"145.688\", \"train_nsentences\": \"145.688\", \"train_temp\": \"0.1\", \"train_code_ppl\": \"8.822\", \"train_loss_code_pen\": \"0.324\", \"train_loss_smoothness\": \"2.061\", \"train_loss_dense_g\": \"4.248\", \"train_lm_score_sum\": 0.0, \"train_num_pred_chars\": 0.0, \"train_loss_grad_pen\": \"0.092\", \"train_loss_dense_d\": \"0.024\", \"train_loss_token_d\": \"0.022\", \"train_wps\": \"11.2\", \"train_ups\": \"0.08\", \"train_wpb\": \"145.7\", \"train_bsz\": \"145.7\", \"train_num_updates\": \"77792\", \"train_lr_discriminator\": \"0.0005\", \"train_lr_generator\": \"0.0004\", \"train_gnorm\": \"29.919\", \"train_clip\": \"68.8\", \"train_train_wall\": \"205\", \"train_wall\": \"21587\"}\r\n"
     ]
    },
    {
     "name": "stdout",
     "output_type": "stream",
     "text": [
      "[2021-06-06 17:48:44,524][fairseq.trainer][INFO] - begin training epoch 4863\r\n",
      "[2021-06-06 17:48:44,525][fairseq_cli.train][INFO] - Start iterating over samples\r\n"
     ]
    },
    {
     "name": "stdout",
     "output_type": "stream",
     "text": [
      "[2021-06-06 17:50:30,146][train_inner][INFO] - {\"epoch\": 4863, \"update\": 4862.5, \"loss\": \"3.256\", \"ntokens\": \"146.26\", \"nsentences\": \"146.26\", \"temp\": \"0.1\", \"code_ppl\": \"8.854\", \"loss_code_pen\": \"0.321\", \"loss_smoothness\": \"2.063\", \"loss_dense_g\": \"4.255\", \"lm_score_sum\": 0.0, \"num_pred_chars\": 0.0, \"loss_grad_pen\": \"0.103\", \"loss_dense_d\": \"0.024\", \"loss_token_d\": \"0.025\", \"wps\": \"11.3\", \"ups\": \"0.08\", \"wpb\": \"146.3\", \"bsz\": \"146.3\", \"num_updates\": \"77800\", \"lr_discriminator\": \"0.0005\", \"lr_generator\": \"0.0004\", \"gnorm\": \"29.992\", \"clip\": \"77\", \"train_wall\": \"1271\", \"wall\": \"21693\"}\r\n"
     ]
    },
    {
     "name": "stdout",
     "output_type": "stream",
     "text": [
      "[2021-06-06 17:52:05,589][fairseq_cli.train][INFO] - begin validation on \"valid\" subset\r\n"
     ]
    },
    {
     "name": "stdout",
     "output_type": "stream",
     "text": [
      "[2021-06-06 17:52:08,179][fairseq.tasks.unpaired_audio_text][INFO] - REF: ɛ n f œ ʂ ə n a d ɵ ʂ ə k t f øː r d eː t s ɔ m h ɛ n d ə p oː ɕ œ r k ɔ n s ɛ t ə n\r\n",
      "[2021-06-06 17:52:08,182][fairseq.tasks.unpaired_audio_text][INFO] - HYP: t ɡ ɛ s j œ r œ j œ b j yː uː œ yː k ɵ uː ɵ øː v n ə m œ k b ə uː s yː r n v oː s l ɪ ŋ k l ɪ l a s ɔ k m ʉ n a\r\n"
     ]
    },
    {
     "name": "stdout",
     "output_type": "stream",
     "text": [
      "[2021-06-06 17:52:08,188][fairseq.tasks.unpaired_audio_text][INFO] - LM [REF]: -53.44462585449219, 0.05339602260269112\r\n",
      "[2021-06-06 17:52:08,188][fairseq.tasks.unpaired_audio_text][INFO] - LM [HYP]: -97.9484634399414, 0.014187823730258087\r\n"
     ]
    },
    {
     "name": "stdout",
     "output_type": "stream",
     "text": [
      "[2021-06-06 17:52:08,693][valid][INFO] - {\"epoch\": 4863, \"valid_loss\": \"1.006\", \"valid_ntokens\": \"3039.79\", \"valid_nsentences\": \"144.214\", \"valid_lm_score_sum\": \"-89909.8\", \"valid_num_pred_chars\": \"48563\", \"valid_vocab_seen_pct\": \"0.885017\", \"valid_uer\": \"100.639\", \"valid_weighted_lm_ppl\": \"76.4894\", \"valid_lm_ppl\": \"59.9108\", \"valid_wps\": \"18138.6\", \"valid_wpb\": \"3039.8\", \"valid_bsz\": \"144.2\", \"valid_num_updates\": \"77808\", \"valid_best_weighted_lm_ppl\": \"73.4256\"}\r\n"
     ]
    },
    {
     "name": "stdout",
     "output_type": "stream",
     "text": [
      "[2021-06-06 17:52:08,698][fairseq.checkpoint_utils][INFO] - Preparing to save checkpoint for epoch 4863 @ 77808 updates\r\n",
      "[2021-06-06 17:52:08,699][fairseq.trainer][INFO] - Saving checkpoint to /kaggle/working/checkpoint4863.pt\r\n",
      "[2021-06-06 17:52:08,738][fairseq.trainer][INFO] - Finished saving checkpoint to /kaggle/working/checkpoint4863.pt\r\n"
     ]
    },
    {
     "name": "stdout",
     "output_type": "stream",
     "text": [
      "[2021-06-06 17:52:08,768][fairseq.checkpoint_utils][INFO] - Saved checkpoint /kaggle/working/checkpoint4863.pt (epoch 4863 @ 77808 updates, score 76.48941483552784) (writing took 0.0707202640005562 seconds)\r\n",
      "[2021-06-06 17:52:08,772][fairseq_cli.train][INFO] - end of epoch 4863 (average epoch stats below)\r\n",
      "[2021-06-06 17:52:08,775][train][INFO] - {\"epoch\": 4863, \"train_loss\": \"3.255\", \"train_ntokens\": \"145.688\", \"train_nsentences\": \"145.688\", \"train_temp\": \"0.1\", \"train_code_ppl\": \"8.775\", \"train_loss_code_pen\": \"0.309\", \"train_loss_smoothness\": \"2.035\", \"train_loss_dense_g\": \"4.24\", \"train_lm_score_sum\": 0.0, \"train_num_pred_chars\": 0.0, \"train_loss_grad_pen\": \"0.115\", \"train_loss_dense_d\": \"0.023\", \"train_loss_token_d\": \"0.023\", \"train_wps\": \"11.4\", \"train_ups\": \"0.08\", \"train_wpb\": \"145.7\", \"train_bsz\": \"145.7\", \"train_num_updates\": \"77808\", \"train_lr_discriminator\": \"0.0005\", \"train_lr_generator\": \"0.0004\", \"train_gnorm\": \"30.508\", \"train_clip\": \"81.2\", \"train_train_wall\": \"201\", \"train_wall\": \"21792\"}\r\n"
     ]
    },
    {
     "name": "stdout",
     "output_type": "stream",
     "text": [
      "[2021-06-06 17:52:08,834][fairseq.trainer][INFO] - begin training epoch 4864\r\n",
      "[2021-06-06 17:52:08,835][fairseq_cli.train][INFO] - Start iterating over samples\r\n"
     ]
    },
    {
     "name": "stdout",
     "output_type": "stream",
     "text": [
      "[2021-06-06 17:55:25,436][fairseq_cli.train][INFO] - begin validation on \"valid\" subset\r\n"
     ]
    },
    {
     "name": "stdout",
     "output_type": "stream",
     "text": [
      "[2021-06-06 17:55:27,908][fairseq.tasks.unpaired_audio_text][INFO] - REF: ɛ n f œ ʂ ə n a d ɵ ʂ ə k t f øː r d eː t s ɔ m h ɛ n d ə p oː ɕ œ r k ɔ n s ɛ t ə n\r\n",
      "[2021-06-06 17:55:27,911][fairseq.tasks.unpaired_audio_text][INFO] - HYP: t s ɛ s j œ f œ j œ b j uː œ yː k ɵ uː ɵ øː v yː n ə m œ k b uː s yː r n v oː s l ɪ ŋ k l ɪ l a s ɔ k m ʉ n a\r\n",
      "[2021-06-06 17:55:27,915][fairseq.tasks.unpaired_audio_text][INFO] - LM [REF]: -53.44462585449219, 0.05339602260269112\r\n",
      "[2021-06-06 17:55:27,916][fairseq.tasks.unpaired_audio_text][INFO] - LM [HYP]: -95.23458099365234, 0.014742317157601374\r\n"
     ]
    },
    {
     "name": "stdout",
     "output_type": "stream",
     "text": [
      "[2021-06-06 17:55:28,409][valid][INFO] - {\"epoch\": 4864, \"valid_loss\": \"1.006\", \"valid_ntokens\": \"3039.79\", \"valid_nsentences\": \"144.214\", \"valid_lm_score_sum\": \"-89841.6\", \"valid_num_pred_chars\": \"48494\", \"valid_vocab_seen_pct\": \"0.88676\", \"valid_uer\": \"100.58\", \"valid_weighted_lm_ppl\": \"76.3788\", \"valid_lm_ppl\": \"60.0599\", \"valid_wps\": \"19000.7\", \"valid_wpb\": \"3039.8\", \"valid_bsz\": \"144.2\", \"valid_num_updates\": \"77824\", \"valid_best_weighted_lm_ppl\": \"73.4256\"}\r\n",
      "[2021-06-06 17:55:28,412][fairseq.checkpoint_utils][INFO] - Preparing to save checkpoint for epoch 4864 @ 77824 updates\r\n",
      "[2021-06-06 17:55:28,413][fairseq.trainer][INFO] - Saving checkpoint to /kaggle/working/checkpoint4864.pt\r\n"
     ]
    },
    {
     "name": "stdout",
     "output_type": "stream",
     "text": [
      "[2021-06-06 17:55:28,453][fairseq.trainer][INFO] - Finished saving checkpoint to /kaggle/working/checkpoint4864.pt\r\n",
      "[2021-06-06 17:55:28,483][fairseq.checkpoint_utils][INFO] - Saved checkpoint /kaggle/working/checkpoint4864.pt (epoch 4864 @ 77824 updates, score 76.37875516716188) (writing took 0.07045304499843041 seconds)\r\n",
      "[2021-06-06 17:55:28,486][fairseq_cli.train][INFO] - end of epoch 4864 (average epoch stats below)\r\n",
      "[2021-06-06 17:55:28,489][train][INFO] - {\"epoch\": 4864, \"train_loss\": \"3.45\", \"train_ntokens\": \"145.688\", \"train_nsentences\": \"145.688\", \"train_temp\": \"0.1\", \"train_code_ppl\": \"8.914\", \"train_loss_code_pen\": \"0.323\", \"train_loss_smoothness\": \"2.076\", \"train_loss_dense_g\": \"4.135\", \"train_lm_score_sum\": 0.0, \"train_num_pred_chars\": 0.0, \"train_loss_grad_pen\": \"0.08\", \"train_loss_dense_d\": \"0.025\", \"train_loss_token_d\": \"0.03\", \"train_wps\": \"11.7\", \"train_ups\": \"0.08\", \"train_wpb\": \"145.7\", \"train_bsz\": \"145.7\", \"train_num_updates\": \"77824\", \"train_lr_discriminator\": \"0.0005\", \"train_lr_generator\": \"0.0004\", \"train_gnorm\": \"31.858\", \"train_clip\": \"68.8\", \"train_train_wall\": \"196\", \"train_wall\": \"21991\"}\r\n"
     ]
    },
    {
     "name": "stdout",
     "output_type": "stream",
     "text": [
      "[2021-06-06 17:55:28,545][fairseq.trainer][INFO] - begin training epoch 4865\r\n",
      "[2021-06-06 17:55:28,547][fairseq_cli.train][INFO] - Start iterating over samples\r\n"
     ]
    },
    {
     "name": "stdout",
     "output_type": "stream",
     "text": [
      "[2021-06-06 17:58:58,150][fairseq_cli.train][INFO] - begin validation on \"valid\" subset\r\n"
     ]
    },
    {
     "name": "stdout",
     "output_type": "stream",
     "text": [
      "[2021-06-06 17:59:00,669][fairseq.tasks.unpaired_audio_text][INFO] - REF: ɛ n f œ ʂ ə n a d ɵ ʂ ə k t f øː r d eː t s ɔ m h ɛ n d ə p oː ɕ œ r k ɔ n s ɛ t ə n\r\n",
      "[2021-06-06 17:59:00,672][fairseq.tasks.unpaired_audio_text][INFO] - HYP: t s ɛ s j œ f œ j œ b j yː uː œ yː k ɵ uː ɵ øː j yː n ə m œ k b uː s yː r n v oː s l ɪ ŋ k l ɪ l a s ɔ k m ʉ n a\r\n"
     ]
    },
    {
     "name": "stdout",
     "output_type": "stream",
     "text": [
      "[2021-06-06 17:59:00,677][fairseq.tasks.unpaired_audio_text][INFO] - LM [REF]: -53.44462585449219, 0.05339602260269112\r\n",
      "[2021-06-06 17:59:00,677][fairseq.tasks.unpaired_audio_text][INFO] - LM [HYP]: -98.41266632080078, 0.013904559639985043\r\n"
     ]
    },
    {
     "name": "stdout",
     "output_type": "stream",
     "text": [
      "[2021-06-06 17:59:01,170][valid][INFO] - {\"epoch\": 4865, \"valid_loss\": \"1.004\", \"valid_ntokens\": \"3039.79\", \"valid_nsentences\": \"144.214\", \"valid_lm_score_sum\": \"-89626.6\", \"valid_num_pred_chars\": \"48333\", \"valid_vocab_seen_pct\": \"0.88676\", \"valid_uer\": \"100.381\", \"valid_weighted_lm_ppl\": \"76.6282\", \"valid_lm_ppl\": \"60.256\", \"valid_wps\": \"18702.3\", \"valid_wpb\": \"3039.8\", \"valid_bsz\": \"144.2\", \"valid_num_updates\": \"77840\", \"valid_best_weighted_lm_ppl\": \"73.4256\"}\r\n",
      "[2021-06-06 17:59:01,174][fairseq.checkpoint_utils][INFO] - Preparing to save checkpoint for epoch 4865 @ 77840 updates\r\n",
      "[2021-06-06 17:59:01,175][fairseq.trainer][INFO] - Saving checkpoint to /kaggle/working/checkpoint4865.pt\r\n"
     ]
    },
    {
     "name": "stdout",
     "output_type": "stream",
     "text": [
      "[2021-06-06 17:59:01,215][fairseq.trainer][INFO] - Finished saving checkpoint to /kaggle/working/checkpoint4865.pt\r\n"
     ]
    },
    {
     "name": "stdout",
     "output_type": "stream",
     "text": [
      "[2021-06-06 17:59:01,245][fairseq.checkpoint_utils][INFO] - Saved checkpoint /kaggle/working/checkpoint4865.pt (epoch 4865 @ 77840 updates, score 76.62818186505979) (writing took 0.07095639299950562 seconds)\r\n",
      "[2021-06-06 17:59:01,248][fairseq_cli.train][INFO] - end of epoch 4865 (average epoch stats below)\r\n",
      "[2021-06-06 17:59:01,252][train][INFO] - {\"epoch\": 4865, \"train_loss\": \"2.933\", \"train_ntokens\": \"145.688\", \"train_nsentences\": \"145.688\", \"train_temp\": \"0.1\", \"train_code_ppl\": \"8.87\", \"train_loss_code_pen\": \"0.309\", \"train_loss_smoothness\": \"2.027\", \"train_loss_dense_g\": \"4.048\", \"train_lm_score_sum\": 0.0, \"train_num_pred_chars\": 0.0, \"train_loss_grad_pen\": \"0.048\", \"train_loss_dense_d\": \"0.025\", \"train_loss_token_d\": \"0.025\", \"train_wps\": \"11\", \"train_ups\": \"0.08\", \"train_wpb\": \"145.7\", \"train_bsz\": \"145.7\", \"train_num_updates\": \"77840\", \"train_lr_discriminator\": \"0.0005\", \"train_lr_generator\": \"0.0004\", \"train_gnorm\": \"28.412\", \"train_clip\": \"50\", \"train_train_wall\": \"209\", \"train_wall\": \"22204\"}\r\n"
     ]
    },
    {
     "name": "stdout",
     "output_type": "stream",
     "text": [
      "[2021-06-06 17:59:01,311][fairseq.trainer][INFO] - begin training epoch 4866\r\n",
      "[2021-06-06 17:59:01,312][fairseq_cli.train][INFO] - Start iterating over samples\r\n"
     ]
    },
    {
     "name": "stdout",
     "output_type": "stream",
     "text": [
      "[2021-06-06 18:02:05,728][fairseq_cli.train][INFO] - begin validation on \"valid\" subset\r\n"
     ]
    },
    {
     "name": "stdout",
     "output_type": "stream",
     "text": [
      "[2021-06-06 18:02:08,161][fairseq.tasks.unpaired_audio_text][INFO] - REF: ɛ n f œ ʂ ə n a d ɵ ʂ ə k t f øː r d eː t s ɔ m h ɛ n d ə p oː ɕ œ r k ɔ n s ɛ t ə n\r\n",
      "[2021-06-06 18:02:08,164][fairseq.tasks.unpaired_audio_text][INFO] - HYP: t s ɛ s j œ f œ j œ b j yː uː œ yː k ɵ uː ɵ øː v yː n ə m œ k b ə uː s eː r n v oː s l ɪ ŋ k l ɪ l a s ɔ k m ʉ n a\r\n",
      "[2021-06-06 18:02:08,168][fairseq.tasks.unpaired_audio_text][INFO] - LM [REF]: -53.44462585449219, 0.05339602260269112\r\n",
      "[2021-06-06 18:02:08,169][fairseq.tasks.unpaired_audio_text][INFO] - LM [HYP]: -99.04469299316406, 0.014650047022179894\r\n"
     ]
    },
    {
     "name": "stdout",
     "output_type": "stream",
     "text": [
      "[2021-06-06 18:02:08,659][valid][INFO] - {\"epoch\": 4866, \"valid_loss\": \"1.007\", \"valid_ntokens\": \"3039.79\", \"valid_nsentences\": \"144.214\", \"valid_lm_score_sum\": \"-89982.7\", \"valid_num_pred_chars\": \"48605\", \"valid_vocab_seen_pct\": \"0.885017\", \"valid_uer\": \"100.66\", \"valid_weighted_lm_ppl\": \"76.4834\", \"valid_lm_ppl\": \"59.9061\", \"valid_wps\": \"19161.3\", \"valid_wpb\": \"3039.8\", \"valid_bsz\": \"144.2\", \"valid_num_updates\": \"77856\", \"valid_best_weighted_lm_ppl\": \"73.4256\"}\r\n",
      "[2021-06-06 18:02:08,663][fairseq.checkpoint_utils][INFO] - Preparing to save checkpoint for epoch 4866 @ 77856 updates\r\n",
      "[2021-06-06 18:02:08,664][fairseq.trainer][INFO] - Saving checkpoint to /kaggle/working/checkpoint4866.pt\r\n"
     ]
    },
    {
     "name": "stdout",
     "output_type": "stream",
     "text": [
      "[2021-06-06 18:02:08,703][fairseq.trainer][INFO] - Finished saving checkpoint to /kaggle/working/checkpoint4866.pt\r\n",
      "[2021-06-06 18:02:08,731][fairseq.checkpoint_utils][INFO] - Saved checkpoint /kaggle/working/checkpoint4866.pt (epoch 4866 @ 77856 updates, score 76.48344204051175) (writing took 0.06788065700311563 seconds)\r\n",
      "[2021-06-06 18:02:08,734][fairseq_cli.train][INFO] - end of epoch 4866 (average epoch stats below)\r\n",
      "[2021-06-06 18:02:08,737][train][INFO] - {\"epoch\": 4866, \"train_loss\": \"3.626\", \"train_ntokens\": \"145.688\", \"train_nsentences\": \"145.688\", \"train_temp\": \"0.1\", \"train_code_ppl\": \"8.765\", \"train_loss_code_pen\": \"0.319\", \"train_loss_smoothness\": \"2.064\", \"train_loss_dense_g\": \"4.115\", \"train_lm_score_sum\": 0.0, \"train_num_pred_chars\": 0.0, \"train_loss_grad_pen\": \"0.082\", \"train_loss_dense_d\": \"0.024\", \"train_loss_token_d\": \"0.023\", \"train_wps\": \"12.4\", \"train_ups\": \"0.09\", \"train_wpb\": \"145.7\", \"train_bsz\": \"145.7\", \"train_num_updates\": \"77856\", \"train_lr_discriminator\": \"0.0005\", \"train_lr_generator\": \"0.0004\", \"train_gnorm\": \"29.546\", \"train_clip\": \"68.8\", \"train_train_wall\": \"184\", \"train_wall\": \"22392\"}\r\n"
     ]
    },
    {
     "name": "stdout",
     "output_type": "stream",
     "text": [
      "[2021-06-06 18:02:08,795][fairseq.trainer][INFO] - begin training epoch 4867\r\n",
      "[2021-06-06 18:02:08,797][fairseq_cli.train][INFO] - Start iterating over samples\r\n"
     ]
    },
    {
     "name": "stdout",
     "output_type": "stream",
     "text": [
      "[2021-06-06 18:05:10,374][fairseq_cli.train][INFO] - begin validation on \"valid\" subset\r\n"
     ]
    },
    {
     "name": "stdout",
     "output_type": "stream",
     "text": [
      "[2021-06-06 18:05:12,835][fairseq.tasks.unpaired_audio_text][INFO] - REF: ɛ n f œ ʂ ə n a d ɵ ʂ ə k t f øː r d eː t s ɔ m h ɛ n d ə p oː ɕ œ r k ɔ n s ɛ t ə n\r\n",
      "[2021-06-06 18:05:12,838][fairseq.tasks.unpaired_audio_text][INFO] - HYP: t s ɛ s j œ f œ j œ b j yː uː œ yː k ɵ uː ɵ øː v yː b n ə m œ k b uː s eː r n v oː s l ɪ ŋ k l ɪ l a s ɔ k m ʉ n a\r\n",
      "[2021-06-06 18:05:12,842][fairseq.tasks.unpaired_audio_text][INFO] - LM [REF]: -53.44462585449219, 0.05339602260269112\r\n",
      "[2021-06-06 18:05:12,842][fairseq.tasks.unpaired_audio_text][INFO] - LM [HYP]: -100.2606201171875, 0.01390983087818683\r\n"
     ]
    },
    {
     "name": "stdout",
     "output_type": "stream",
     "text": [
      "[2021-06-06 18:05:13,322][valid][INFO] - {\"epoch\": 4867, \"valid_loss\": \"1.007\", \"valid_ntokens\": \"3039.79\", \"valid_nsentences\": \"144.214\", \"valid_lm_score_sum\": \"-89985.5\", \"valid_num_pred_chars\": \"48628\", \"valid_vocab_seen_pct\": \"0.888502\", \"valid_uer\": \"100.733\", \"valid_weighted_lm_ppl\": \"75.7534\", \"valid_lm_ppl\": \"59.8024\", \"valid_wps\": \"19292.8\", \"valid_wpb\": \"3039.8\", \"valid_bsz\": \"144.2\", \"valid_num_updates\": \"77872\", \"valid_best_weighted_lm_ppl\": \"73.4256\"}\r\n",
      "[2021-06-06 18:05:13,325][fairseq.checkpoint_utils][INFO] - Preparing to save checkpoint for epoch 4867 @ 77872 updates\r\n",
      "[2021-06-06 18:05:13,327][fairseq.trainer][INFO] - Saving checkpoint to /kaggle/working/checkpoint4867.pt\r\n"
     ]
    },
    {
     "name": "stdout",
     "output_type": "stream",
     "text": [
      "[2021-06-06 18:05:13,366][fairseq.trainer][INFO] - Finished saving checkpoint to /kaggle/working/checkpoint4867.pt\r\n"
     ]
    },
    {
     "name": "stdout",
     "output_type": "stream",
     "text": [
      "[2021-06-06 18:05:13,395][fairseq.checkpoint_utils][INFO] - Saved checkpoint /kaggle/working/checkpoint4867.pt (epoch 4867 @ 77872 updates, score 75.75340097479004) (writing took 0.0702150969991635 seconds)\r\n",
      "[2021-06-06 18:05:13,398][fairseq_cli.train][INFO] - end of epoch 4867 (average epoch stats below)\r\n",
      "[2021-06-06 18:05:13,401][train][INFO] - {\"epoch\": 4867, \"train_loss\": \"3.698\", \"train_ntokens\": \"145.688\", \"train_nsentences\": \"145.688\", \"train_temp\": \"0.1\", \"train_code_ppl\": \"8.826\", \"train_loss_code_pen\": \"0.317\", \"train_loss_smoothness\": \"2.076\", \"train_loss_dense_g\": \"4.225\", \"train_lm_score_sum\": 0.0, \"train_num_pred_chars\": 0.0, \"train_loss_grad_pen\": \"0.087\", \"train_loss_dense_d\": \"0.032\", \"train_loss_token_d\": \"0.024\", \"train_wps\": \"12.6\", \"train_ups\": \"0.09\", \"train_wpb\": \"145.7\", \"train_bsz\": \"145.7\", \"train_num_updates\": \"77872\", \"train_lr_discriminator\": \"0.0005\", \"train_lr_generator\": \"0.0004\", \"train_gnorm\": \"29.919\", \"train_clip\": \"81.2\", \"train_train_wall\": \"181\", \"train_wall\": \"22576\"}\r\n"
     ]
    },
    {
     "name": "stdout",
     "output_type": "stream",
     "text": [
      "[2021-06-06 18:05:13,459][fairseq.trainer][INFO] - begin training epoch 4868\r\n",
      "[2021-06-06 18:05:13,460][fairseq_cli.train][INFO] - Start iterating over samples\r\n"
     ]
    },
    {
     "name": "stdout",
     "output_type": "stream",
     "text": [
      "[2021-06-06 18:08:43,671][fairseq_cli.train][INFO] - begin validation on \"valid\" subset\r\n"
     ]
    },
    {
     "name": "stdout",
     "output_type": "stream",
     "text": [
      "[2021-06-06 18:08:46,136][fairseq.tasks.unpaired_audio_text][INFO] - REF: ɛ n f œ ʂ ə n a d ɵ ʂ ə k t f øː r d eː t s ɔ m h ɛ n d ə p oː ɕ œ r k ɔ n s ɛ t ə n\r\n",
      "[2021-06-06 18:08:46,139][fairseq.tasks.unpaired_audio_text][INFO] - HYP: t s ɛ s j œ r œ j œ b j uː œ j yː k ɵ uː ɵ øː j yː b n ə m œ k b uː s eː r n v oː s l ɪ ŋ k l ɪ l a s m k m k n a\r\n",
      "[2021-06-06 18:08:46,144][fairseq.tasks.unpaired_audio_text][INFO] - LM [REF]: -53.44462585449219, 0.05339602260269112\r\n",
      "[2021-06-06 18:08:46,144][fairseq.tasks.unpaired_audio_text][INFO] - LM [HYP]: -100.5277328491211, 0.013752299363367719\r\n"
     ]
    },
    {
     "name": "stdout",
     "output_type": "stream",
     "text": [
      "[2021-06-06 18:08:46,628][valid][INFO] - {\"epoch\": 4868, \"valid_loss\": \"1.005\", \"valid_ntokens\": \"3039.79\", \"valid_nsentences\": \"144.214\", \"valid_lm_score_sum\": \"-89732.4\", \"valid_num_pred_chars\": \"48402\", \"valid_vocab_seen_pct\": \"0.891986\", \"valid_uer\": \"100.475\", \"valid_weighted_lm_ppl\": \"75.6742\", \"valid_lm_ppl\": \"60.2094\", \"valid_wps\": \"19128.3\", \"valid_wpb\": \"3039.8\", \"valid_bsz\": \"144.2\", \"valid_num_updates\": \"77888\", \"valid_best_weighted_lm_ppl\": \"73.4256\"}\r\n",
      "[2021-06-06 18:08:46,632][fairseq.checkpoint_utils][INFO] - Preparing to save checkpoint for epoch 4868 @ 77888 updates\r\n",
      "[2021-06-06 18:08:46,633][fairseq.trainer][INFO] - Saving checkpoint to /kaggle/working/checkpoint4868.pt\r\n"
     ]
    },
    {
     "name": "stdout",
     "output_type": "stream",
     "text": [
      "[2021-06-06 18:08:46,672][fairseq.trainer][INFO] - Finished saving checkpoint to /kaggle/working/checkpoint4868.pt\r\n",
      "[2021-06-06 18:08:46,704][fairseq.checkpoint_utils][INFO] - Saved checkpoint /kaggle/working/checkpoint4868.pt (epoch 4868 @ 77888 updates, score 75.67422551888993) (writing took 0.07224195600065286 seconds)\r\n"
     ]
    },
    {
     "name": "stdout",
     "output_type": "stream",
     "text": [
      "[2021-06-06 18:08:46,707][fairseq_cli.train][INFO] - end of epoch 4868 (average epoch stats below)\r\n",
      "[2021-06-06 18:08:46,710][train][INFO] - {\"epoch\": 4868, \"train_loss\": \"2.94\", \"train_ntokens\": \"145.688\", \"train_nsentences\": \"145.688\", \"train_temp\": \"0.1\", \"train_code_ppl\": \"8.792\", \"train_loss_code_pen\": \"0.309\", \"train_loss_smoothness\": \"2.025\", \"train_loss_dense_g\": \"4.045\", \"train_lm_score_sum\": 0.0, \"train_num_pred_chars\": 0.0, \"train_loss_grad_pen\": \"0.072\", \"train_loss_dense_d\": \"0.023\", \"train_loss_token_d\": \"0.021\", \"train_wps\": \"10.9\", \"train_ups\": \"0.08\", \"train_wpb\": \"145.7\", \"train_bsz\": \"145.7\", \"train_num_updates\": \"77888\", \"train_lr_discriminator\": \"0.0005\", \"train_lr_generator\": \"0.0004\", \"train_gnorm\": \"30.441\", \"train_clip\": \"75\", \"train_train_wall\": \"210\", \"train_wall\": \"22790\"}\r\n"
     ]
    },
    {
     "name": "stdout",
     "output_type": "stream",
     "text": [
      "[2021-06-06 18:08:46,768][fairseq.trainer][INFO] - begin training epoch 4869\r\n",
      "[2021-06-06 18:08:46,769][fairseq_cli.train][INFO] - Start iterating over samples\r\n"
     ]
    },
    {
     "name": "stdout",
     "output_type": "stream",
     "text": [
      "[2021-06-06 18:10:53,888][train_inner][INFO] - {\"epoch\": 4869, \"update\": 4868.75, \"loss\": \"3.392\", \"ntokens\": \"143.97\", \"nsentences\": \"143.97\", \"temp\": \"0.1\", \"code_ppl\": \"8.843\", \"loss_code_pen\": \"0.315\", \"loss_smoothness\": \"2.056\", \"loss_dense_g\": \"4.184\", \"lm_score_sum\": 0.0, \"num_pred_chars\": 0.0, \"loss_grad_pen\": \"0.077\", \"loss_dense_d\": \"0.025\", \"loss_token_d\": \"0.026\", \"wps\": \"11.8\", \"ups\": \"0.08\", \"wpb\": \"144\", \"bsz\": \"144\", \"num_updates\": \"77900\", \"lr_discriminator\": \"0.0005\", \"lr_generator\": \"0.0004\", \"gnorm\": \"31.174\", \"clip\": \"72\", \"train_wall\": \"1202\", \"wall\": \"22917\"}\r\n"
     ]
    },
    {
     "name": "stdout",
     "output_type": "stream",
     "text": [
      "[2021-06-06 18:11:46,309][fairseq_cli.train][INFO] - begin validation on \"valid\" subset\r\n"
     ]
    },
    {
     "name": "stdout",
     "output_type": "stream",
     "text": [
      "[2021-06-06 18:11:48,779][fairseq.tasks.unpaired_audio_text][INFO] - REF: ɛ n f œ ʂ ə n a d ɵ ʂ ə k t f øː r d eː t s ɔ m h ɛ n d ə p oː ɕ œ r k ɔ n s ɛ t ə n\r\n",
      "[2021-06-06 18:11:48,782][fairseq.tasks.unpaired_audio_text][INFO] - HYP: t s ɛ s j œ r œ j œ b j uː œ j k ɵ uː ɵ øː v n ə m œ b uː s yː r n v oː s l ɪ ŋ k l ɪ l a s ɔ k m k n t a\r\n",
      "[2021-06-06 18:11:48,787][fairseq.tasks.unpaired_audio_text][INFO] - LM [REF]: -53.44462585449219, 0.05339602260269112\r\n",
      "[2021-06-06 18:11:48,788][fairseq.tasks.unpaired_audio_text][INFO] - LM [HYP]: -93.03473663330078, 0.014989580464511777\r\n"
     ]
    },
    {
     "name": "stdout",
     "output_type": "stream",
     "text": [
      "[2021-06-06 18:11:49,281][valid][INFO] - {\"epoch\": 4869, \"valid_loss\": \"1.006\", \"valid_ntokens\": \"3039.79\", \"valid_nsentences\": \"144.214\", \"valid_lm_score_sum\": \"-89798.5\", \"valid_num_pred_chars\": \"48528\", \"valid_vocab_seen_pct\": \"0.893728\", \"valid_uer\": \"100.627\", \"valid_weighted_lm_ppl\": \"74.8381\", \"valid_lm_ppl\": \"59.777\", \"valid_wps\": \"19020.8\", \"valid_wpb\": \"3039.8\", \"valid_bsz\": \"144.2\", \"valid_num_updates\": \"77904\", \"valid_best_weighted_lm_ppl\": \"73.4256\"}\r\n",
      "[2021-06-06 18:11:49,284][fairseq.checkpoint_utils][INFO] - Preparing to save checkpoint for epoch 4869 @ 77904 updates\r\n",
      "[2021-06-06 18:11:49,286][fairseq.trainer][INFO] - Saving checkpoint to /kaggle/working/checkpoint4869.pt\r\n"
     ]
    },
    {
     "name": "stdout",
     "output_type": "stream",
     "text": [
      "[2021-06-06 18:11:49,326][fairseq.trainer][INFO] - Finished saving checkpoint to /kaggle/working/checkpoint4869.pt\r\n"
     ]
    },
    {
     "name": "stdout",
     "output_type": "stream",
     "text": [
      "[2021-06-06 18:11:49,356][fairseq.checkpoint_utils][INFO] - Saved checkpoint /kaggle/working/checkpoint4869.pt (epoch 4869 @ 77904 updates, score 74.8381433706937) (writing took 0.07183911299944157 seconds)\r\n",
      "[2021-06-06 18:11:49,360][fairseq_cli.train][INFO] - end of epoch 4869 (average epoch stats below)\r\n",
      "[2021-06-06 18:11:49,363][train][INFO] - {\"epoch\": 4869, \"train_loss\": \"3.841\", \"train_ntokens\": \"145.688\", \"train_nsentences\": \"145.688\", \"train_temp\": \"0.1\", \"train_code_ppl\": \"8.829\", \"train_loss_code_pen\": \"0.32\", \"train_loss_smoothness\": \"2.093\", \"train_loss_dense_g\": \"4.445\", \"train_lm_score_sum\": 0.0, \"train_num_pred_chars\": 0.0, \"train_loss_grad_pen\": \"0.11\", \"train_loss_dense_d\": \"0.023\", \"train_loss_token_d\": \"0.033\", \"train_wps\": \"12.8\", \"train_ups\": \"0.09\", \"train_wpb\": \"145.7\", \"train_bsz\": \"145.7\", \"train_num_updates\": \"77904\", \"train_lr_discriminator\": \"0.0005\", \"train_lr_generator\": \"0.0004\", \"train_gnorm\": \"36.936\", \"train_clip\": \"87.5\", \"train_train_wall\": \"179\", \"train_wall\": \"22972\"}\r\n"
     ]
    },
    {
     "name": "stdout",
     "output_type": "stream",
     "text": [
      "[2021-06-06 18:11:49,422][fairseq.trainer][INFO] - begin training epoch 4870\r\n",
      "[2021-06-06 18:11:49,424][fairseq_cli.train][INFO] - Start iterating over samples\r\n"
     ]
    },
    {
     "name": "stdout",
     "output_type": "stream",
     "text": [
      "[2021-06-06 18:14:57,024][fairseq_cli.train][INFO] - begin validation on \"valid\" subset\r\n"
     ]
    },
    {
     "name": "stdout",
     "output_type": "stream",
     "text": [
      "[2021-06-06 18:14:59,506][fairseq.tasks.unpaired_audio_text][INFO] - REF: ɛ n f œ ʂ ə n a d ɵ ʂ ə k t f øː r d eː t s ɔ m h ɛ n d ə p oː ɕ œ r k ɔ n s ɛ t ə n\r\n",
      "[2021-06-06 18:14:59,509][fairseq.tasks.unpaired_audio_text][INFO] - HYP: n ɡ ɛ s j œ r œ j œ b j uː œ j yː k ɵ uː ɵ øː v m b n ə m œ b uː s yː r n v oː s l ɪ ŋ k l ɪ l a s ɔ k m ʉ n t a\r\n",
      "[2021-06-06 18:14:59,513][fairseq.tasks.unpaired_audio_text][INFO] - LM [REF]: -53.44462585449219, 0.05339602260269112\r\n",
      "[2021-06-06 18:14:59,513][fairseq.tasks.unpaired_audio_text][INFO] - LM [HYP]: -98.00743103027344, 0.015312551893475166\r\n"
     ]
    },
    {
     "name": "stdout",
     "output_type": "stream",
     "text": [
      "[2021-06-06 18:15:00,008][valid][INFO] - {\"epoch\": 4870, \"valid_loss\": \"1.007\", \"valid_ntokens\": \"3039.79\", \"valid_nsentences\": \"144.214\", \"valid_lm_score_sum\": \"-89900.4\", \"valid_num_pred_chars\": \"48555\", \"valid_vocab_seen_pct\": \"0.88676\", \"valid_uer\": \"100.674\", \"valid_weighted_lm_ppl\": \"76.2061\", \"valid_lm_ppl\": \"59.9241\", \"valid_wps\": \"18722.4\", \"valid_wpb\": \"3039.8\", \"valid_bsz\": \"144.2\", \"valid_num_updates\": \"77920\", \"valid_best_weighted_lm_ppl\": \"73.4256\"}\r\n",
      "[2021-06-06 18:15:00,011][fairseq.checkpoint_utils][INFO] - Preparing to save checkpoint for epoch 4870 @ 77920 updates\r\n",
      "[2021-06-06 18:15:00,013][fairseq.trainer][INFO] - Saving checkpoint to /kaggle/working/checkpoint4870.pt\r\n"
     ]
    },
    {
     "name": "stdout",
     "output_type": "stream",
     "text": [
      "[2021-06-06 18:15:00,051][fairseq.trainer][INFO] - Finished saving checkpoint to /kaggle/working/checkpoint4870.pt\r\n",
      "[2021-06-06 18:15:00,080][fairseq.checkpoint_utils][INFO] - Saved checkpoint /kaggle/working/checkpoint4870.pt (epoch 4870 @ 77920 updates, score 76.20613320579149) (writing took 0.06923651600300218 seconds)\r\n",
      "[2021-06-06 18:15:00,084][fairseq_cli.train][INFO] - end of epoch 4870 (average epoch stats below)\r\n",
      "[2021-06-06 18:15:00,087][train][INFO] - {\"epoch\": 4870, \"train_loss\": \"3.573\", \"train_ntokens\": \"145.688\", \"train_nsentences\": \"145.688\", \"train_temp\": \"0.1\", \"train_code_ppl\": \"8.902\", \"train_loss_code_pen\": \"0.321\", \"train_loss_smoothness\": \"2.103\", \"train_loss_dense_g\": \"3.95\", \"train_lm_score_sum\": 0.0, \"train_num_pred_chars\": 0.0, \"train_loss_grad_pen\": \"0.108\", \"train_loss_dense_d\": \"0.03\", \"train_loss_token_d\": \"0.025\", \"train_wps\": \"12.2\", \"train_ups\": \"0.08\", \"train_wpb\": \"145.7\", \"train_bsz\": \"145.7\", \"train_num_updates\": \"77920\", \"train_lr_discriminator\": \"0.0005\", \"train_lr_generator\": \"0.0004\", \"train_gnorm\": \"31.755\", \"train_clip\": \"75\", \"train_train_wall\": \"187\", \"train_wall\": \"23163\"}\r\n"
     ]
    },
    {
     "name": "stdout",
     "output_type": "stream",
     "text": [
      "[2021-06-06 18:15:00,147][fairseq.trainer][INFO] - begin training epoch 4871\r\n",
      "[2021-06-06 18:15:00,149][fairseq_cli.train][INFO] - Start iterating over samples\r\n"
     ]
    },
    {
     "name": "stdout",
     "output_type": "stream",
     "text": [
      "[2021-06-06 18:18:25,988][fairseq_cli.train][INFO] - begin validation on \"valid\" subset\r\n"
     ]
    },
    {
     "name": "stdout",
     "output_type": "stream",
     "text": [
      "[2021-06-06 18:18:28,540][fairseq.tasks.unpaired_audio_text][INFO] - REF: ɛ n f œ ʂ ə n a d ɵ ʂ ə k t f øː r d eː t s ɔ m h ɛ n d ə p oː ɕ œ r k ɔ n s ɛ t ə n\r\n",
      "[2021-06-06 18:18:28,543][fairseq.tasks.unpaired_audio_text][INFO] - HYP: n ɛ s j œ r œ j œ b j uː œ j k ɵ uː ɵ øː j b n ə m œ b uː s eː r n v oː s l ɪ ŋ k l ɪ l a s ɔ m k n t a\r\n",
      "[2021-06-06 18:18:28,547][fairseq.tasks.unpaired_audio_text][INFO] - LM [REF]: -53.44462585449219, 0.05339602260269112\r\n",
      "[2021-06-06 18:18:28,547][fairseq.tasks.unpaired_audio_text][INFO] - LM [HYP]: -88.12732696533203, 0.017276408353629473\r\n"
     ]
    },
    {
     "name": "stdout",
     "output_type": "stream",
     "text": [
      "[2021-06-06 18:18:29,053][valid][INFO] - {\"epoch\": 4871, \"valid_loss\": \"1.006\", \"valid_ntokens\": \"3039.79\", \"valid_nsentences\": \"144.214\", \"valid_lm_score_sum\": \"-89869.5\", \"valid_num_pred_chars\": \"48478\", \"valid_vocab_seen_pct\": \"0.890244\", \"valid_uer\": \"100.594\", \"valid_weighted_lm_ppl\": \"75.977\", \"valid_lm_ppl\": \"60.2144\", \"valid_wps\": \"18482.8\", \"valid_wpb\": \"3039.8\", \"valid_bsz\": \"144.2\", \"valid_num_updates\": \"77936\", \"valid_best_weighted_lm_ppl\": \"73.4256\"}\r\n",
      "[2021-06-06 18:18:29,056][fairseq.checkpoint_utils][INFO] - Preparing to save checkpoint for epoch 4871 @ 77936 updates\r\n",
      "[2021-06-06 18:18:29,057][fairseq.trainer][INFO] - Saving checkpoint to /kaggle/working/checkpoint4871.pt\r\n",
      "[2021-06-06 18:18:29,095][fairseq.trainer][INFO] - Finished saving checkpoint to /kaggle/working/checkpoint4871.pt\r\n"
     ]
    },
    {
     "name": "stdout",
     "output_type": "stream",
     "text": [
      "[2021-06-06 18:18:29,125][fairseq.checkpoint_utils][INFO] - Saved checkpoint /kaggle/working/checkpoint4871.pt (epoch 4871 @ 77936 updates, score 75.97703799056649) (writing took 0.0688860720001685 seconds)\r\n",
      "[2021-06-06 18:18:29,128][fairseq_cli.train][INFO] - end of epoch 4871 (average epoch stats below)\r\n",
      "[2021-06-06 18:18:29,131][train][INFO] - {\"epoch\": 4871, \"train_loss\": \"3.296\", \"train_ntokens\": \"145.688\", \"train_nsentences\": \"145.688\", \"train_temp\": \"0.1\", \"train_code_ppl\": \"8.911\", \"train_loss_code_pen\": \"0.34\", \"train_loss_smoothness\": \"2.126\", \"train_loss_dense_g\": \"4.184\", \"train_lm_score_sum\": 0.0, \"train_num_pred_chars\": 0.0, \"train_loss_grad_pen\": \"0.125\", \"train_loss_dense_d\": \"0.026\", \"train_loss_token_d\": \"0.026\", \"train_wps\": \"11.2\", \"train_ups\": \"0.08\", \"train_wpb\": \"145.7\", \"train_bsz\": \"145.7\", \"train_num_updates\": \"77936\", \"train_lr_discriminator\": \"0.0005\", \"train_lr_generator\": \"0.0004\", \"train_gnorm\": \"30.322\", \"train_clip\": \"81.2\", \"train_train_wall\": \"205\", \"train_wall\": \"23372\"}\r\n"
     ]
    },
    {
     "name": "stdout",
     "output_type": "stream",
     "text": [
      "[2021-06-06 18:18:29,190][fairseq.trainer][INFO] - begin training epoch 4872\r\n",
      "[2021-06-06 18:18:29,191][fairseq_cli.train][INFO] - Start iterating over samples\r\n"
     ]
    },
    {
     "name": "stdout",
     "output_type": "stream",
     "text": [
      "[2021-06-06 18:21:50,300][fairseq_cli.train][INFO] - begin validation on \"valid\" subset\r\n"
     ]
    },
    {
     "name": "stdout",
     "output_type": "stream",
     "text": [
      "[2021-06-06 18:21:52,774][fairseq.tasks.unpaired_audio_text][INFO] - REF: ɛ n f œ ʂ ə n a d ɵ ʂ ə k t f øː r d eː t s ɔ m h ɛ n d ə p oː ɕ œ r k ɔ n s ɛ t ə n\r\n"
     ]
    },
    {
     "name": "stdout",
     "output_type": "stream",
     "text": [
      "[2021-06-06 18:21:52,777][fairseq.tasks.unpaired_audio_text][INFO] - HYP: n ɛ s j œ r œ j œ b j uː œ j k ɵ uː ɵ øː j yː b n ə m œ b ə uː s yː r n v oː s l ɪ ŋ k l ɪ l a s ɔ m k n t a\r\n",
      "[2021-06-06 18:21:52,784][fairseq.tasks.unpaired_audio_text][INFO] - LM [REF]: -53.44462585449219, 0.05339602260269112\r\n",
      "[2021-06-06 18:21:52,784][fairseq.tasks.unpaired_audio_text][INFO] - LM [HYP]: -93.76785278320312, 0.015731569810950405\r\n"
     ]
    },
    {
     "name": "stdout",
     "output_type": "stream",
     "text": [
      "[2021-06-06 18:21:53,289][valid][INFO] - {\"epoch\": 4872, \"valid_loss\": \"1.006\", \"valid_ntokens\": \"3039.79\", \"valid_nsentences\": \"144.214\", \"valid_lm_score_sum\": \"-89649\", \"valid_num_pred_chars\": \"48459\", \"valid_vocab_seen_pct\": \"0.893728\", \"valid_uer\": \"100.616\", \"valid_weighted_lm_ppl\": \"74.7464\", \"valid_lm_ppl\": \"59.7037\", \"valid_wps\": \"18758.3\", \"valid_wpb\": \"3039.8\", \"valid_bsz\": \"144.2\", \"valid_num_updates\": \"77952\", \"valid_best_weighted_lm_ppl\": \"73.4256\"}\r\n",
      "[2021-06-06 18:21:53,292][fairseq.checkpoint_utils][INFO] - Preparing to save checkpoint for epoch 4872 @ 77952 updates\r\n",
      "[2021-06-06 18:21:53,294][fairseq.trainer][INFO] - Saving checkpoint to /kaggle/working/checkpoint4872.pt\r\n",
      "[2021-06-06 18:21:53,330][fairseq.trainer][INFO] - Finished saving checkpoint to /kaggle/working/checkpoint4872.pt\r\n"
     ]
    },
    {
     "name": "stdout",
     "output_type": "stream",
     "text": [
      "[2021-06-06 18:21:53,360][fairseq.checkpoint_utils][INFO] - Saved checkpoint /kaggle/working/checkpoint4872.pt (epoch 4872 @ 77952 updates, score 74.7464061384145) (writing took 0.06800626100084628 seconds)\r\n",
      "[2021-06-06 18:21:53,363][fairseq_cli.train][INFO] - end of epoch 4872 (average epoch stats below)\r\n",
      "[2021-06-06 18:21:53,366][train][INFO] - {\"epoch\": 4872, \"train_loss\": \"3.34\", \"train_ntokens\": \"145.688\", \"train_nsentences\": \"145.688\", \"train_temp\": \"0.1\", \"train_code_ppl\": \"8.777\", \"train_loss_code_pen\": \"0.312\", \"train_loss_smoothness\": \"2.035\", \"train_loss_dense_g\": \"3.997\", \"train_lm_score_sum\": 0.0, \"train_num_pred_chars\": 0.0, \"train_loss_grad_pen\": \"0.061\", \"train_loss_dense_d\": \"0.024\", \"train_loss_token_d\": \"0.023\", \"train_wps\": \"11.4\", \"train_ups\": \"0.08\", \"train_wpb\": \"145.7\", \"train_bsz\": \"145.7\", \"train_num_updates\": \"77952\", \"train_lr_discriminator\": \"0.0005\", \"train_lr_generator\": \"0.0004\", \"train_gnorm\": \"28.964\", \"train_clip\": \"75\", \"train_train_wall\": \"201\", \"train_wall\": \"23576\"}\r\n"
     ]
    },
    {
     "name": "stdout",
     "output_type": "stream",
     "text": [
      "[2021-06-06 18:21:53,424][fairseq.trainer][INFO] - begin training epoch 4873\r\n",
      "[2021-06-06 18:21:53,426][fairseq_cli.train][INFO] - Start iterating over samples\r\n"
     ]
    },
    {
     "name": "stdout",
     "output_type": "stream",
     "text": [
      "[2021-06-06 18:25:04,635][fairseq_cli.train][INFO] - begin validation on \"valid\" subset\r\n"
     ]
    },
    {
     "name": "stdout",
     "output_type": "stream",
     "text": [
      "[2021-06-06 18:25:07,169][fairseq.tasks.unpaired_audio_text][INFO] - REF: ɛ n f œ ʂ ə n a d ɵ ʂ ə k t f øː r d eː t s ɔ m h ɛ n d ə p oː ɕ œ r k ɔ n s ɛ t ə n\r\n",
      "[2021-06-06 18:25:07,171][fairseq.tasks.unpaired_audio_text][INFO] - HYP: t ɛ s j œ r œ j œ b j uː œ j yː k yː uː ɵ øː j b n ə m ɔ b uː s yː r n v oː s l ɪ ŋ k l ɪ l a ɔ m k n a\r\n",
      "[2021-06-06 18:25:07,176][fairseq.tasks.unpaired_audio_text][INFO] - LM [REF]: -53.44462585449219, 0.05339602260269112\r\n",
      "[2021-06-06 18:25:07,176][fairseq.tasks.unpaired_audio_text][INFO] - LM [HYP]: -90.42735290527344, 0.014273938401890576\r\n"
     ]
    },
    {
     "name": "stdout",
     "output_type": "stream",
     "text": [
      "[2021-06-06 18:25:07,664][valid][INFO] - {\"epoch\": 4873, \"valid_loss\": \"1.008\", \"valid_ntokens\": \"3039.79\", \"valid_nsentences\": \"144.214\", \"valid_lm_score_sum\": \"-89965.7\", \"valid_num_pred_chars\": \"48712\", \"valid_vocab_seen_pct\": \"0.890244\", \"valid_uer\": \"100.764\", \"valid_weighted_lm_ppl\": \"74.8807\", \"valid_lm_ppl\": \"59.3455\", \"valid_wps\": \"18506.4\", \"valid_wpb\": \"3039.8\", \"valid_bsz\": \"144.2\", \"valid_num_updates\": \"77968\", \"valid_best_weighted_lm_ppl\": \"73.4256\"}\r\n",
      "[2021-06-06 18:25:07,667][fairseq.checkpoint_utils][INFO] - Preparing to save checkpoint for epoch 4873 @ 77968 updates\r\n",
      "[2021-06-06 18:25:07,668][fairseq.trainer][INFO] - Saving checkpoint to /kaggle/working/checkpoint4873.pt\r\n",
      "[2021-06-06 18:25:07,705][fairseq.trainer][INFO] - Finished saving checkpoint to /kaggle/working/checkpoint4873.pt\r\n"
     ]
    },
    {
     "name": "stdout",
     "output_type": "stream",
     "text": [
      "[2021-06-06 18:25:07,736][fairseq.checkpoint_utils][INFO] - Saved checkpoint /kaggle/working/checkpoint4873.pt (epoch 4873 @ 77968 updates, score 74.88066586025727) (writing took 0.06900690499969642 seconds)\r\n",
      "[2021-06-06 18:25:07,739][fairseq_cli.train][INFO] - end of epoch 4873 (average epoch stats below)\r\n",
      "[2021-06-06 18:25:07,742][train][INFO] - {\"epoch\": 4873, \"train_loss\": \"3.743\", \"train_ntokens\": \"145.688\", \"train_nsentences\": \"145.688\", \"train_temp\": \"0.1\", \"train_code_ppl\": \"8.891\", \"train_loss_code_pen\": \"0.335\", \"train_loss_smoothness\": \"2.125\", \"train_loss_dense_g\": \"4.222\", \"train_lm_score_sum\": 0.0, \"train_num_pred_chars\": 0.0, \"train_loss_grad_pen\": \"0.114\", \"train_loss_dense_d\": \"0.027\", \"train_loss_token_d\": \"0.024\", \"train_wps\": \"12\", \"train_ups\": \"0.08\", \"train_wpb\": \"145.7\", \"train_bsz\": \"145.7\", \"train_num_updates\": \"77968\", \"train_lr_discriminator\": \"0.0005\", \"train_lr_generator\": \"0.0004\", \"train_gnorm\": \"29.444\", \"train_clip\": \"81.2\", \"train_train_wall\": \"191\", \"train_wall\": \"23771\"}\r\n"
     ]
    },
    {
     "name": "stdout",
     "output_type": "stream",
     "text": [
      "[2021-06-06 18:25:07,800][fairseq.trainer][INFO] - begin training epoch 4874\r\n",
      "[2021-06-06 18:25:07,802][fairseq_cli.train][INFO] - Start iterating over samples\r\n"
     ]
    },
    {
     "name": "stdout",
     "output_type": "stream",
     "text": [
      "[2021-06-06 18:28:42,844][fairseq_cli.train][INFO] - begin validation on \"valid\" subset\r\n"
     ]
    },
    {
     "name": "stdout",
     "output_type": "stream",
     "text": [
      "[2021-06-06 18:28:45,332][fairseq.tasks.unpaired_audio_text][INFO] - REF: ɛ n f œ ʂ ə n a d ɵ ʂ ə k t f øː r d eː t s ɔ m h ɛ n d ə p oː ɕ œ r k ɔ n s ɛ t ə n\r\n",
      "[2021-06-06 18:28:45,335][fairseq.tasks.unpaired_audio_text][INFO] - HYP: t ɛ s j œ r œ j œ b j uː œ j k ɵ uː ɵ øː j yː b n ə m ɔ b uː s eː r n b oː s l ɪ ŋ k l ɪ l a ɔ k m t n t a\r\n",
      "[2021-06-06 18:28:45,339][fairseq.tasks.unpaired_audio_text][INFO] - LM [REF]: -53.44462585449219, 0.05339602260269112\r\n",
      "[2021-06-06 18:28:45,339][fairseq.tasks.unpaired_audio_text][INFO] - LM [HYP]: -92.131591796875, 0.01561342566953115\r\n"
     ]
    },
    {
     "name": "stdout",
     "output_type": "stream",
     "text": [
      "[2021-06-06 18:28:45,824][valid][INFO] - {\"epoch\": 4874, \"valid_loss\": \"1.006\", \"valid_ntokens\": \"3039.79\", \"valid_nsentences\": \"144.214\", \"valid_lm_score_sum\": \"-89870.8\", \"valid_num_pred_chars\": \"48631\", \"valid_vocab_seen_pct\": \"0.888502\", \"valid_uer\": \"100.616\", \"valid_weighted_lm_ppl\": \"75.3414\", \"valid_lm_ppl\": \"59.4771\", \"valid_wps\": \"18946.5\", \"valid_wpb\": \"3039.8\", \"valid_bsz\": \"144.2\", \"valid_num_updates\": \"77984\", \"valid_best_weighted_lm_ppl\": \"73.4256\"}\r\n",
      "[2021-06-06 18:28:45,828][fairseq.checkpoint_utils][INFO] - Preparing to save checkpoint for epoch 4874 @ 77984 updates\r\n",
      "[2021-06-06 18:28:45,829][fairseq.trainer][INFO] - Saving checkpoint to /kaggle/working/checkpoint4874.pt\r\n"
     ]
    },
    {
     "name": "stdout",
     "output_type": "stream",
     "text": [
      "[2021-06-06 18:28:45,867][fairseq.trainer][INFO] - Finished saving checkpoint to /kaggle/working/checkpoint4874.pt\r\n",
      "[2021-06-06 18:28:45,898][fairseq.checkpoint_utils][INFO] - Saved checkpoint /kaggle/working/checkpoint4874.pt (epoch 4874 @ 77984 updates, score 75.3413815552812) (writing took 0.07003233300201828 seconds)\r\n",
      "[2021-06-06 18:28:45,901][fairseq_cli.train][INFO] - end of epoch 4874 (average epoch stats below)\r\n",
      "[2021-06-06 18:28:45,904][train][INFO] - {\"epoch\": 4874, \"train_loss\": \"3.008\", \"train_ntokens\": \"145.688\", \"train_nsentences\": \"145.688\", \"train_temp\": \"0.1\", \"train_code_ppl\": \"9.018\", \"train_loss_code_pen\": \"0.319\", \"train_loss_smoothness\": \"2.083\", \"train_loss_dense_g\": \"4.092\", \"train_lm_score_sum\": 0.0, \"train_num_pred_chars\": 0.0, \"train_loss_grad_pen\": \"0.092\", \"train_loss_dense_d\": \"0.03\", \"train_loss_token_d\": \"0.023\", \"train_wps\": \"10.7\", \"train_ups\": \"0.07\", \"train_wpb\": \"145.7\", \"train_bsz\": \"145.7\", \"train_num_updates\": \"77984\", \"train_lr_discriminator\": \"0.0005\", \"train_lr_generator\": \"0.0004\", \"train_gnorm\": \"29.768\", \"train_clip\": \"81.2\", \"train_train_wall\": \"214\", \"train_wall\": \"23989\"}\r\n"
     ]
    },
    {
     "name": "stdout",
     "output_type": "stream",
     "text": [
      "[2021-06-06 18:28:45,962][fairseq.trainer][INFO] - begin training epoch 4875\r\n",
      "[2021-06-06 18:28:45,964][fairseq_cli.train][INFO] - Start iterating over samples\r\n"
     ]
    },
    {
     "name": "stdout",
     "output_type": "stream",
     "text": [
      "[2021-06-06 18:32:18,948][train_inner][INFO] - {\"epoch\": 4875, \"update\": 4875.0, \"loss\": \"3.383\", \"ntokens\": \"146.26\", \"nsentences\": \"146.26\", \"temp\": \"0.1\", \"code_ppl\": \"8.892\", \"loss_code_pen\": \"0.328\", \"loss_smoothness\": \"2.102\", \"loss_dense_g\": \"4.129\", \"lm_score_sum\": 0.0, \"num_pred_chars\": 0.0, \"loss_grad_pen\": \"0.093\", \"loss_dense_d\": \"0.027\", \"loss_token_d\": \"0.024\", \"wps\": \"11.4\", \"ups\": \"0.08\", \"wpb\": \"146.3\", \"bsz\": \"146.3\", \"num_updates\": \"78000\", \"lr_discriminator\": \"0.0005\", \"lr_generator\": \"0.0004\", \"gnorm\": \"29.882\", \"clip\": \"77\", \"train_wall\": \"1263\", \"wall\": \"24202\"}\r\n",
      "[2021-06-06 18:32:18,950][fairseq_cli.train][INFO] - begin validation on \"valid\" subset\r\n"
     ]
    },
    {
     "name": "stdout",
     "output_type": "stream",
     "text": [
      "[2021-06-06 18:32:21,443][fairseq.tasks.unpaired_audio_text][INFO] - REF: ɛ n f œ ʂ ə n a d ɵ ʂ ə k t f øː r d eː t s ɔ m h ɛ n d ə p oː ɕ œ r k ɔ n s ɛ t ə n\r\n",
      "[2021-06-06 18:32:21,446][fairseq.tasks.unpaired_audio_text][INFO] - HYP: n ɛ s j œ r œ j œ b j uː œ j yː k yː uː ɵ øː j yː b n ə m œ b uː s eː r n b oː s l ɪ ŋ k l ɪ l a s ɔ k m t n a\r\n",
      "[2021-06-06 18:32:21,450][fairseq.tasks.unpaired_audio_text][INFO] - LM [REF]: -53.44462585449219, 0.05339602260269112\r\n",
      "[2021-06-06 18:32:21,450][fairseq.tasks.unpaired_audio_text][INFO] - LM [HYP]: -94.74203491210938, 0.015067381693648595\r\n"
     ]
    },
    {
     "name": "stdout",
     "output_type": "stream",
     "text": [
      "[2021-06-06 18:32:21,942][valid][INFO] - {\"epoch\": 4875, \"valid_loss\": \"1.005\", \"valid_ntokens\": \"3039.79\", \"valid_nsentences\": \"144.214\", \"valid_lm_score_sum\": \"-89705.7\", \"valid_num_pred_chars\": \"48555\", \"valid_vocab_seen_pct\": \"0.890244\", \"valid_uer\": \"100.496\", \"valid_weighted_lm_ppl\": \"74.9435\", \"valid_lm_ppl\": \"59.3953\", \"valid_wps\": \"18949.1\", \"valid_wpb\": \"3039.8\", \"valid_bsz\": \"144.2\", \"valid_num_updates\": \"78000\", \"valid_best_weighted_lm_ppl\": \"73.4256\"}\r\n",
      "[2021-06-06 18:32:21,946][fairseq.checkpoint_utils][INFO] - Preparing to save checkpoint for epoch 4875 @ 78000 updates\r\n",
      "[2021-06-06 18:32:21,948][fairseq.trainer][INFO] - Saving checkpoint to /kaggle/working/checkpoint4875.pt\r\n"
     ]
    },
    {
     "name": "stdout",
     "output_type": "stream",
     "text": [
      "[2021-06-06 18:32:21,987][fairseq.trainer][INFO] - Finished saving checkpoint to /kaggle/working/checkpoint4875.pt\r\n",
      "[2021-06-06 18:32:22,017][fairseq.checkpoint_utils][INFO] - Saved checkpoint /kaggle/working/checkpoint4875.pt (epoch 4875 @ 78000 updates, score 74.94347882444886) (writing took 0.07095570599994971 seconds)\r\n",
      "[2021-06-06 18:32:22,020][fairseq_cli.train][INFO] - end of epoch 4875 (average epoch stats below)\r\n",
      "[2021-06-06 18:32:22,024][train][INFO] - {\"epoch\": 4875, \"train_loss\": \"3.322\", \"train_ntokens\": \"145.688\", \"train_nsentences\": \"145.688\", \"train_temp\": \"0.1\", \"train_code_ppl\": \"8.854\", \"train_loss_code_pen\": \"0.338\", \"train_loss_smoothness\": \"2.12\", \"train_loss_dense_g\": \"4.323\", \"train_lm_score_sum\": 0.0, \"train_num_pred_chars\": 0.0, \"train_loss_grad_pen\": \"0.059\", \"train_loss_dense_d\": \"0.025\", \"train_loss_token_d\": \"0.023\", \"train_wps\": \"10.8\", \"train_ups\": \"0.07\", \"train_wpb\": \"145.7\", \"train_bsz\": \"145.7\", \"train_num_updates\": \"78000\", \"train_lr_discriminator\": \"0.0005\", \"train_lr_generator\": \"0.0004\", \"train_gnorm\": \"29.154\", \"train_clip\": \"68.8\", \"train_train_wall\": \"213\", \"train_wall\": \"24205\"}\r\n"
     ]
    },
    {
     "name": "stdout",
     "output_type": "stream",
     "text": [
      "[2021-06-06 18:32:22,083][fairseq.trainer][INFO] - begin training epoch 4876\r\n",
      "[2021-06-06 18:32:22,084][fairseq_cli.train][INFO] - Start iterating over samples\r\n"
     ]
    },
    {
     "name": "stdout",
     "output_type": "stream",
     "text": [
      "[2021-06-06 18:35:37,295][fairseq_cli.train][INFO] - begin validation on \"valid\" subset\r\n"
     ]
    },
    {
     "name": "stdout",
     "output_type": "stream",
     "text": [
      "[2021-06-06 18:35:39,816][fairseq.tasks.unpaired_audio_text][INFO] - REF: ɛ n f œ ʂ ə n a d ɵ ʂ ə k t f øː r d eː t s ɔ m h ɛ n d ə p oː ɕ œ r k ɔ n s ɛ t ə n\r\n",
      "[2021-06-06 18:35:39,819][fairseq.tasks.unpaired_audio_text][INFO] - HYP: n s ɛ s j œ r œ j œ b j uː œ j yː k yː uː ɵ øː j b n ə m œ k b uː s eː r n b oː s l ɪ ŋ k l ɪ l a s ɔ k m t n a\r\n",
      "[2021-06-06 18:35:39,823][fairseq.tasks.unpaired_audio_text][INFO] - LM [REF]: -53.44462585449219, 0.05339602260269112\r\n",
      "[2021-06-06 18:35:39,824][fairseq.tasks.unpaired_audio_text][INFO] - LM [HYP]: -97.49165344238281, 0.014472209498557596\r\n"
     ]
    },
    {
     "name": "stdout",
     "output_type": "stream",
     "text": [
      "[2021-06-06 18:35:40,335][valid][INFO] - {\"epoch\": 4876, \"valid_loss\": \"1.005\", \"valid_ntokens\": \"3039.79\", \"valid_nsentences\": \"144.214\", \"valid_lm_score_sum\": \"-89776.1\", \"valid_num_pred_chars\": \"48493\", \"valid_vocab_seen_pct\": \"0.890244\", \"valid_uer\": \"100.456\", \"valid_weighted_lm_ppl\": \"75.5623\", \"valid_lm_ppl\": \"59.8857\", \"valid_wps\": \"18478.6\", \"valid_wpb\": \"3039.8\", \"valid_bsz\": \"144.2\", \"valid_num_updates\": \"78016\", \"valid_best_weighted_lm_ppl\": \"73.4256\"}\r\n",
      "[2021-06-06 18:35:40,338][fairseq.checkpoint_utils][INFO] - Preparing to save checkpoint for epoch 4876 @ 78016 updates\r\n",
      "[2021-06-06 18:35:40,340][fairseq.trainer][INFO] - Saving checkpoint to /kaggle/working/checkpoint4876.pt\r\n"
     ]
    },
    {
     "name": "stdout",
     "output_type": "stream",
     "text": [
      "[2021-06-06 18:35:40,379][fairseq.trainer][INFO] - Finished saving checkpoint to /kaggle/working/checkpoint4876.pt\r\n",
      "[2021-06-06 18:35:40,409][fairseq.checkpoint_utils][INFO] - Saved checkpoint /kaggle/working/checkpoint4876.pt (epoch 4876 @ 78016 updates, score 75.56228075846437) (writing took 0.07034531600220362 seconds)\r\n",
      "[2021-06-06 18:35:40,412][fairseq_cli.train][INFO] - end of epoch 4876 (average epoch stats below)\r\n",
      "[2021-06-06 18:35:40,415][train][INFO] - {\"epoch\": 4876, \"train_loss\": \"3.544\", \"train_ntokens\": \"145.688\", \"train_nsentences\": \"145.688\", \"train_temp\": \"0.1\", \"train_code_ppl\": \"8.729\", \"train_loss_code_pen\": \"0.323\", \"train_loss_smoothness\": \"2.074\", \"train_loss_dense_g\": \"4.34\", \"train_lm_score_sum\": 0.0, \"train_num_pred_chars\": 0.0, \"train_loss_grad_pen\": \"0.061\", \"train_loss_dense_d\": \"0.024\", \"train_loss_token_d\": \"0.024\", \"train_wps\": \"11.7\", \"train_ups\": \"0.08\", \"train_wpb\": \"145.7\", \"train_bsz\": \"145.7\", \"train_num_updates\": \"78016\", \"train_lr_discriminator\": \"0.0005\", \"train_lr_generator\": \"0.0004\", \"train_gnorm\": \"35.106\", \"train_clip\": \"68.8\", \"train_train_wall\": \"195\", \"train_wall\": \"24403\"}\r\n"
     ]
    },
    {
     "name": "stdout",
     "output_type": "stream",
     "text": [
      "[2021-06-06 18:35:40,477][fairseq.trainer][INFO] - begin training epoch 4877\r\n",
      "[2021-06-06 18:35:40,478][fairseq_cli.train][INFO] - Start iterating over samples\r\n"
     ]
    },
    {
     "name": "stdout",
     "output_type": "stream",
     "text": [
      "[2021-06-06 18:38:54,236][fairseq_cli.train][INFO] - begin validation on \"valid\" subset\r\n"
     ]
    },
    {
     "name": "stdout",
     "output_type": "stream",
     "text": [
      "[2021-06-06 18:38:57,528][fairseq.tasks.unpaired_audio_text][INFO] - REF: ɛ n f œ ʂ ə n a d ɵ ʂ ə k t f øː r d eː t s ɔ m h ɛ n d ə p oː ɕ œ r k ɔ n s ɛ t ə n\r\n",
      "[2021-06-06 18:38:57,530][fairseq.tasks.unpaired_audio_text][INFO] - HYP: n ɛ s j œ r œ j œ b j uː œ j k ɵ uː ɵ øː j b n ə m œ k b uː s eː r n v oː s l ɪ ŋ k l ɪ l a s ɔ m ʉ n a\r\n",
      "[2021-06-06 18:38:57,534][fairseq.tasks.unpaired_audio_text][INFO] - LM [REF]: -53.44462585449219, 0.05339602260269112\r\n",
      "[2021-06-06 18:38:57,534][fairseq.tasks.unpaired_audio_text][INFO] - LM [HYP]: -89.26941680908203, 0.016391234510626063\r\n"
     ]
    },
    {
     "name": "stdout",
     "output_type": "stream",
     "text": [
      "[2021-06-06 18:38:58,019][valid][INFO] - {\"epoch\": 4877, \"valid_loss\": \"1.003\", \"valid_ntokens\": \"3039.79\", \"valid_nsentences\": \"144.214\", \"valid_lm_score_sum\": \"-89566.1\", \"valid_num_pred_chars\": \"48347\", \"valid_vocab_seen_pct\": \"0.888502\", \"valid_uer\": \"100.315\", \"valid_weighted_lm_ppl\": \"76.0307\", \"valid_lm_ppl\": \"60.0213\", \"valid_wps\": \"19132.1\", \"valid_wpb\": \"3039.8\", \"valid_bsz\": \"144.2\", \"valid_num_updates\": \"78032\", \"valid_best_weighted_lm_ppl\": \"73.4256\"}\r\n",
      "[2021-06-06 18:38:58,024][fairseq.checkpoint_utils][INFO] - Preparing to save checkpoint for epoch 4877 @ 78032 updates\r\n",
      "[2021-06-06 18:38:58,025][fairseq.trainer][INFO] - Saving checkpoint to /kaggle/working/checkpoint4877.pt\r\n"
     ]
    },
    {
     "name": "stdout",
     "output_type": "stream",
     "text": [
      "[2021-06-06 18:38:58,065][fairseq.trainer][INFO] - Finished saving checkpoint to /kaggle/working/checkpoint4877.pt\r\n",
      "[2021-06-06 18:38:58,095][fairseq.checkpoint_utils][INFO] - Saved checkpoint /kaggle/working/checkpoint4877.pt (epoch 4877 @ 78032 updates, score 76.03066255265993) (writing took 0.0711486549989786 seconds)\r\n",
      "[2021-06-06 18:38:58,098][fairseq_cli.train][INFO] - end of epoch 4877 (average epoch stats below)\r\n",
      "[2021-06-06 18:38:58,102][train][INFO] - {\"epoch\": 4877, \"train_loss\": \"3.578\", \"train_ntokens\": \"145.688\", \"train_nsentences\": \"145.688\", \"train_temp\": \"0.1\", \"train_code_ppl\": \"8.92\", \"train_loss_code_pen\": \"0.323\", \"train_loss_smoothness\": \"2.091\", \"train_loss_dense_g\": \"4.265\", \"train_lm_score_sum\": 0.0, \"train_num_pred_chars\": 0.0, \"train_loss_grad_pen\": \"0.189\", \"train_loss_dense_d\": \"0.025\", \"train_loss_token_d\": \"0.028\", \"train_wps\": \"11.8\", \"train_ups\": \"0.08\", \"train_wpb\": \"145.7\", \"train_bsz\": \"145.7\", \"train_num_updates\": \"78032\", \"train_lr_discriminator\": \"0.0005\", \"train_lr_generator\": \"0.0004\", \"train_gnorm\": \"46.166\", \"train_clip\": \"68.8\", \"train_train_wall\": \"193\", \"train_wall\": \"24601\"}\r\n"
     ]
    },
    {
     "name": "stdout",
     "output_type": "stream",
     "text": [
      "[2021-06-06 18:38:58,171][fairseq.trainer][INFO] - begin training epoch 4878\r\n",
      "[2021-06-06 18:38:58,173][fairseq_cli.train][INFO] - Start iterating over samples\r\n"
     ]
    },
    {
     "name": "stdout",
     "output_type": "stream",
     "text": [
      "[2021-06-06 18:42:41,976][fairseq_cli.train][INFO] - begin validation on \"valid\" subset\r\n"
     ]
    },
    {
     "name": "stdout",
     "output_type": "stream",
     "text": [
      "[2021-06-06 18:42:44,483][fairseq.tasks.unpaired_audio_text][INFO] - REF: ɛ n f œ ʂ ə n a d ɵ ʂ ə k t f øː r d eː t s ɔ m h ɛ n d ə p oː ɕ œ r k ɔ n s ɛ t ə n\r\n",
      "[2021-06-06 18:42:44,485][fairseq.tasks.unpaired_audio_text][INFO] - HYP: n s ɛ s j œ r œ j œ b j uː œ j k ɵ uː ɵ øː j b n ə m œ k b uː s eː r n v oː s l ɪ ŋ k l ɪ l a s ɔ m ʉ n t a\r\n",
      "[2021-06-06 18:42:44,490][fairseq.tasks.unpaired_audio_text][INFO] - LM [REF]: -53.44462585449219, 0.05339602260269112\r\n",
      "[2021-06-06 18:42:44,490][fairseq.tasks.unpaired_audio_text][INFO] - LM [HYP]: -93.244140625, 0.01610065149082724\r\n"
     ]
    },
    {
     "name": "stdout",
     "output_type": "stream",
     "text": [
      "[2021-06-06 18:42:45,016][valid][INFO] - {\"epoch\": 4878, \"valid_loss\": \"1.002\", \"valid_ntokens\": \"3039.79\", \"valid_nsentences\": \"144.214\", \"valid_lm_score_sum\": \"-89567.8\", \"valid_num_pred_chars\": \"48266\", \"valid_vocab_seen_pct\": \"0.885017\", \"valid_uer\": \"100.233\", \"valid_weighted_lm_ppl\": \"77.1434\", \"valid_lm_ppl\": \"60.423\", \"valid_wps\": \"18688.1\", \"valid_wpb\": \"3039.8\", \"valid_bsz\": \"144.2\", \"valid_num_updates\": \"78048\", \"valid_best_weighted_lm_ppl\": \"73.4256\"}\r\n",
      "[2021-06-06 18:42:45,019][fairseq.checkpoint_utils][INFO] - Preparing to save checkpoint for epoch 4878 @ 78048 updates\r\n",
      "[2021-06-06 18:42:45,020][fairseq.trainer][INFO] - Saving checkpoint to /kaggle/working/checkpoint4878.pt\r\n"
     ]
    },
    {
     "name": "stdout",
     "output_type": "stream",
     "text": [
      "[2021-06-06 18:42:45,057][fairseq.trainer][INFO] - Finished saving checkpoint to /kaggle/working/checkpoint4878.pt\r\n",
      "[2021-06-06 18:42:45,087][fairseq.checkpoint_utils][INFO] - Saved checkpoint /kaggle/working/checkpoint4878.pt (epoch 4878 @ 78048 updates, score 77.14336523790956) (writing took 0.06840979900152888 seconds)\r\n",
      "[2021-06-06 18:42:45,091][fairseq_cli.train][INFO] - end of epoch 4878 (average epoch stats below)\r\n",
      "[2021-06-06 18:42:45,094][train][INFO] - {\"epoch\": 4878, \"train_loss\": \"2.997\", \"train_ntokens\": \"145.688\", \"train_nsentences\": \"145.688\", \"train_temp\": \"0.1\", \"train_code_ppl\": \"8.97\", \"train_loss_code_pen\": \"0.327\", \"train_loss_smoothness\": \"2.093\", \"train_loss_dense_g\": \"4.079\", \"train_lm_score_sum\": 0.0, \"train_num_pred_chars\": 0.0, \"train_loss_grad_pen\": \"0.071\", \"train_loss_dense_d\": \"0.026\", \"train_loss_token_d\": \"0.025\", \"train_wps\": \"10.3\", \"train_ups\": \"0.07\", \"train_wpb\": \"145.7\", \"train_bsz\": \"145.7\", \"train_num_updates\": \"78048\", \"train_lr_discriminator\": \"0.0005\", \"train_lr_generator\": \"0.0004\", \"train_gnorm\": \"28.91\", \"train_clip\": \"75\", \"train_train_wall\": \"223\", \"train_wall\": \"24828\"}\r\n"
     ]
    },
    {
     "name": "stdout",
     "output_type": "stream",
     "text": [
      "[2021-06-06 18:42:45,153][fairseq.trainer][INFO] - begin training epoch 4879\r\n",
      "[2021-06-06 18:42:45,155][fairseq_cli.train][INFO] - Start iterating over samples\r\n"
     ]
    },
    {
     "name": "stdout",
     "output_type": "stream",
     "text": [
      "[2021-06-06 18:46:05,352][fairseq_cli.train][INFO] - begin validation on \"valid\" subset\r\n"
     ]
    },
    {
     "name": "stdout",
     "output_type": "stream",
     "text": [
      "[2021-06-06 18:46:07,808][fairseq.tasks.unpaired_audio_text][INFO] - REF: ɛ n f œ ʂ ə n a d ɵ ʂ ə k t f øː r d eː t s ɔ m h ɛ n d ə p oː ɕ œ r k ɔ n s ɛ t ə n\r\n",
      "[2021-06-06 18:46:07,811][fairseq.tasks.unpaired_audio_text][INFO] - HYP: n ɛ s j œ r œ j œ b j uː œ j yː k ɵ uː ɵ øː j yː b n ə m œ k b ə uː s eː r n v oː s l ɪ ŋ k l ɪ l a s ɔ m ʉ n t a\r\n",
      "[2021-06-06 18:46:07,816][fairseq.tasks.unpaired_audio_text][INFO] - LM [REF]: -53.44462585449219, 0.05339602260269112\r\n",
      "[2021-06-06 18:46:07,816][fairseq.tasks.unpaired_audio_text][INFO] - LM [HYP]: -97.77197265625, 0.0154670651113689\r\n"
     ]
    },
    {
     "name": "stdout",
     "output_type": "stream",
     "text": [
      "[2021-06-06 18:46:08,311][valid][INFO] - {\"epoch\": 4879, \"valid_loss\": \"1.006\", \"valid_ntokens\": \"3039.79\", \"valid_nsentences\": \"144.214\", \"valid_lm_score_sum\": \"-89693.9\", \"valid_num_pred_chars\": \"48550\", \"valid_vocab_seen_pct\": \"0.883275\", \"valid_uer\": \"100.559\", \"valid_weighted_lm_ppl\": \"76.1204\", \"valid_lm_ppl\": \"59.3872\", \"valid_wps\": \"19072.9\", \"valid_wpb\": \"3039.8\", \"valid_bsz\": \"144.2\", \"valid_num_updates\": \"78064\", \"valid_best_weighted_lm_ppl\": \"73.4256\"}\r\n"
     ]
    },
    {
     "name": "stdout",
     "output_type": "stream",
     "text": [
      "[2021-06-06 18:46:08,314][fairseq.checkpoint_utils][INFO] - Preparing to save checkpoint for epoch 4879 @ 78064 updates\r\n",
      "[2021-06-06 18:46:08,317][fairseq.trainer][INFO] - Saving checkpoint to /kaggle/working/checkpoint4879.pt\r\n",
      "[2021-06-06 18:46:08,357][fairseq.trainer][INFO] - Finished saving checkpoint to /kaggle/working/checkpoint4879.pt\r\n"
     ]
    },
    {
     "name": "stdout",
     "output_type": "stream",
     "text": [
      "[2021-06-06 18:46:08,386][fairseq.checkpoint_utils][INFO] - Saved checkpoint /kaggle/working/checkpoint4879.pt (epoch 4879 @ 78064 updates, score 76.12038374512122) (writing took 0.07156937899708282 seconds)\r\n",
      "[2021-06-06 18:46:08,389][fairseq_cli.train][INFO] - end of epoch 4879 (average epoch stats below)\r\n",
      "[2021-06-06 18:46:08,392][train][INFO] - {\"epoch\": 4879, \"train_loss\": \"3.479\", \"train_ntokens\": \"145.688\", \"train_nsentences\": \"145.688\", \"train_temp\": \"0.1\", \"train_code_ppl\": \"8.754\", \"train_loss_code_pen\": \"0.324\", \"train_loss_smoothness\": \"2.066\", \"train_loss_dense_g\": \"4.163\", \"train_lm_score_sum\": 0.0, \"train_num_pred_chars\": 0.0, \"train_loss_grad_pen\": \"0.124\", \"train_loss_dense_d\": \"0.024\", \"train_loss_token_d\": \"0.025\", \"train_wps\": \"11.5\", \"train_ups\": \"0.08\", \"train_wpb\": \"145.7\", \"train_bsz\": \"145.7\", \"train_num_updates\": \"78064\", \"train_lr_discriminator\": \"0.0005\", \"train_lr_generator\": \"0.0004\", \"train_gnorm\": \"31.166\", \"train_clip\": \"87.5\", \"train_train_wall\": \"200\", \"train_wall\": \"25031\"}\r\n"
     ]
    },
    {
     "name": "stdout",
     "output_type": "stream",
     "text": [
      "[2021-06-06 18:46:08,451][fairseq.trainer][INFO] - begin training epoch 4880\r\n",
      "[2021-06-06 18:46:08,452][fairseq_cli.train][INFO] - Start iterating over samples\r\n"
     ]
    },
    {
     "name": "stdout",
     "output_type": "stream",
     "text": [
      "[2021-06-06 18:49:26,773][fairseq_cli.train][INFO] - begin validation on \"valid\" subset\r\n"
     ]
    },
    {
     "name": "stdout",
     "output_type": "stream",
     "text": [
      "[2021-06-06 18:49:29,217][fairseq.tasks.unpaired_audio_text][INFO] - REF: ɛ n f œ ʂ ə n a d ɵ ʂ ə k t f øː r d eː t s ɔ m h ɛ n d ə p oː ɕ œ r k ɔ n s ɛ t ə n\r\n",
      "[2021-06-06 18:49:29,219][fairseq.tasks.unpaired_audio_text][INFO] - HYP: n ɡ ɛ s j œ r œ j œ b j uː œ j yː k yː uː ɵ øː j b n ə m œ k b ə uː s eː r n b oː s l ɪ ŋ k l ɪ l a ɔ m ʉ n t a\r\n",
      "[2021-06-06 18:49:29,223][fairseq.tasks.unpaired_audio_text][INFO] - LM [REF]: -53.44462585449219, 0.05339602260269112\r\n",
      "[2021-06-06 18:49:29,224][fairseq.tasks.unpaired_audio_text][INFO] - LM [HYP]: -98.34990692138672, 0.013942523297040694\r\n"
     ]
    },
    {
     "name": "stdout",
     "output_type": "stream",
     "text": [
      "[2021-06-06 18:49:29,745][valid][INFO] - {\"epoch\": 4880, \"valid_loss\": \"1.005\", \"valid_ntokens\": \"3039.79\", \"valid_nsentences\": \"144.214\", \"valid_lm_score_sum\": \"-89717.6\", \"valid_num_pred_chars\": \"48569\", \"valid_vocab_seen_pct\": \"0.891986\", \"valid_uer\": \"100.531\", \"valid_weighted_lm_ppl\": \"74.6072\", \"valid_lm_ppl\": \"59.3604\", \"valid_wps\": \"18891.8\", \"valid_wpb\": \"3039.8\", \"valid_bsz\": \"144.2\", \"valid_num_updates\": \"78080\", \"valid_best_weighted_lm_ppl\": \"73.4256\"}\r\n",
      "[2021-06-06 18:49:29,748][fairseq.checkpoint_utils][INFO] - Preparing to save checkpoint for epoch 4880 @ 78080 updates\r\n",
      "[2021-06-06 18:49:29,750][fairseq.trainer][INFO] - Saving checkpoint to /kaggle/working/checkpoint4880.pt\r\n"
     ]
    },
    {
     "name": "stdout",
     "output_type": "stream",
     "text": [
      "[2021-06-06 18:49:29,789][fairseq.trainer][INFO] - Finished saving checkpoint to /kaggle/working/checkpoint4880.pt\r\n"
     ]
    },
    {
     "name": "stdout",
     "output_type": "stream",
     "text": [
      "[2021-06-06 18:49:29,819][fairseq.checkpoint_utils][INFO] - Saved checkpoint /kaggle/working/checkpoint4880.pt (epoch 4880 @ 78080 updates, score 74.60716276265062) (writing took 0.07062660799783771 seconds)\r\n",
      "[2021-06-06 18:49:29,822][fairseq_cli.train][INFO] - end of epoch 4880 (average epoch stats below)\r\n",
      "[2021-06-06 18:49:29,826][train][INFO] - {\"epoch\": 4880, \"train_loss\": \"3.512\", \"train_ntokens\": \"145.688\", \"train_nsentences\": \"145.688\", \"train_temp\": \"0.1\", \"train_code_ppl\": \"8.803\", \"train_loss_code_pen\": \"0.331\", \"train_loss_smoothness\": \"2.095\", \"train_loss_dense_g\": \"4.234\", \"train_lm_score_sum\": 0.0, \"train_num_pred_chars\": 0.0, \"train_loss_grad_pen\": \"0.073\", \"train_loss_dense_d\": \"0.025\", \"train_loss_token_d\": \"0.028\", \"train_wps\": \"11.6\", \"train_ups\": \"0.08\", \"train_wpb\": \"145.7\", \"train_bsz\": \"145.7\", \"train_num_updates\": \"78080\", \"train_lr_discriminator\": \"0.0005\", \"train_lr_generator\": \"0.0004\", \"train_gnorm\": \"30.974\", \"train_clip\": \"75\", \"train_train_wall\": \"198\", \"train_wall\": \"25233\"}\r\n"
     ]
    },
    {
     "name": "stdout",
     "output_type": "stream",
     "text": [
      "[2021-06-06 18:49:29,889][fairseq.trainer][INFO] - begin training epoch 4881\r\n",
      "[2021-06-06 18:49:29,891][fairseq_cli.train][INFO] - Start iterating over samples\r\n"
     ]
    },
    {
     "name": "stdout",
     "output_type": "stream",
     "text": [
      "[2021-06-06 18:52:54,772][fairseq_cli.train][INFO] - begin validation on \"valid\" subset\r\n"
     ]
    },
    {
     "name": "stdout",
     "output_type": "stream",
     "text": [
      "[2021-06-06 18:52:57,472][fairseq.tasks.unpaired_audio_text][INFO] - REF: ɛ n f œ ʂ ə n a d ɵ ʂ ə k t f øː r d eː t s ɔ m h ɛ n d ə p oː ɕ œ r k ɔ n s ɛ t ə n\r\n",
      "[2021-06-06 18:52:57,475][fairseq.tasks.unpaired_audio_text][INFO] - HYP: n ɛ s j œ r œ j œ b j uː œ j yː k yː uː ɵ øː j yː b n ə m œ b ə uː s eː r n v oː s l ɪ ŋ k l ɪ l a s ɔ m t n t a\r\n",
      "[2021-06-06 18:52:57,479][fairseq.tasks.unpaired_audio_text][INFO] - LM [REF]: -53.44462585449219, 0.05339602260269112\r\n",
      "[2021-06-06 18:52:57,479][fairseq.tasks.unpaired_audio_text][INFO] - LM [HYP]: -96.39234924316406, 0.015180162806599654\r\n"
     ]
    },
    {
     "name": "stdout",
     "output_type": "stream",
     "text": [
      "[2021-06-06 18:52:57,973][valid][INFO] - {\"epoch\": 4881, \"valid_loss\": \"1.005\", \"valid_ntokens\": \"3039.79\", \"valid_nsentences\": \"144.214\", \"valid_lm_score_sum\": \"-89720.9\", \"valid_num_pred_chars\": \"48543\", \"valid_vocab_seen_pct\": \"0.890244\", \"valid_uer\": \"100.524\", \"valid_weighted_lm_ppl\": \"75.0682\", \"valid_lm_ppl\": \"59.4941\", \"valid_wps\": \"19009.8\", \"valid_wpb\": \"3039.8\", \"valid_bsz\": \"144.2\", \"valid_num_updates\": \"78096\", \"valid_best_weighted_lm_ppl\": \"73.4256\"}\r\n",
      "[2021-06-06 18:52:57,976][fairseq.checkpoint_utils][INFO] - Preparing to save checkpoint for epoch 4881 @ 78096 updates\r\n",
      "[2021-06-06 18:52:57,977][fairseq.trainer][INFO] - Saving checkpoint to /kaggle/working/checkpoint4881.pt\r\n",
      "[2021-06-06 18:52:58,013][fairseq.trainer][INFO] - Finished saving checkpoint to /kaggle/working/checkpoint4881.pt\r\n"
     ]
    },
    {
     "name": "stdout",
     "output_type": "stream",
     "text": [
      "[2021-06-06 18:52:58,044][fairseq.checkpoint_utils][INFO] - Saved checkpoint /kaggle/working/checkpoint4881.pt (epoch 4881 @ 78096 updates, score 75.06816362371426) (writing took 0.06747565100158681 seconds)\r\n",
      "[2021-06-06 18:52:58,047][fairseq_cli.train][INFO] - end of epoch 4881 (average epoch stats below)\r\n",
      "[2021-06-06 18:52:58,050][train][INFO] - {\"epoch\": 4881, \"train_loss\": \"3.428\", \"train_ntokens\": \"145.688\", \"train_nsentences\": \"145.688\", \"train_temp\": \"0.1\", \"train_code_ppl\": \"8.87\", \"train_loss_code_pen\": \"0.324\", \"train_loss_smoothness\": \"2.089\", \"train_loss_dense_g\": \"4.028\", \"train_lm_score_sum\": 0.0, \"train_num_pred_chars\": 0.0, \"train_loss_grad_pen\": \"0.122\", \"train_loss_dense_d\": \"0.032\", \"train_loss_token_d\": \"0.033\", \"train_wps\": \"11.2\", \"train_ups\": \"0.08\", \"train_wpb\": \"145.7\", \"train_bsz\": \"145.7\", \"train_num_updates\": \"78096\", \"train_lr_discriminator\": \"0.0005\", \"train_lr_generator\": \"0.0004\", \"train_gnorm\": \"33.189\", \"train_clip\": \"81.2\", \"train_train_wall\": \"204\", \"train_wall\": \"25441\"}\r\n"
     ]
    },
    {
     "name": "stdout",
     "output_type": "stream",
     "text": [
      "[2021-06-06 18:52:58,110][fairseq.trainer][INFO] - begin training epoch 4882\r\n",
      "[2021-06-06 18:52:58,112][fairseq_cli.train][INFO] - Start iterating over samples\r\n"
     ]
    },
    {
     "name": "stdout",
     "output_type": "stream",
     "text": [
      "[2021-06-06 18:53:50,055][train_inner][INFO] - {\"epoch\": 4882, \"update\": 4881.25, \"loss\": \"3.427\", \"ntokens\": \"146.26\", \"nsentences\": \"146.26\", \"temp\": \"0.1\", \"code_ppl\": \"8.855\", \"loss_code_pen\": \"0.327\", \"loss_smoothness\": \"2.089\", \"loss_dense_g\": \"4.194\", \"lm_score_sum\": 0.0, \"num_pred_chars\": 0.0, \"loss_grad_pen\": \"0.104\", \"loss_dense_d\": \"0.026\", \"loss_token_d\": \"0.028\", \"wps\": \"11.3\", \"ups\": \"0.08\", \"wpb\": \"146.3\", \"bsz\": \"146.3\", \"num_updates\": \"78100\", \"lr_discriminator\": \"0.0005\", \"lr_generator\": \"0.0004\", \"gnorm\": \"33.995\", \"clip\": \"75\", \"train_wall\": \"1265\", \"wall\": \"25493\"}\r\n"
     ]
    },
    {
     "name": "stdout",
     "output_type": "stream",
     "text": [
      "[2021-06-06 18:55:59,347][fairseq_cli.train][INFO] - begin validation on \"valid\" subset\r\n"
     ]
    },
    {
     "name": "stdout",
     "output_type": "stream",
     "text": [
      "[2021-06-06 18:56:01,801][fairseq.tasks.unpaired_audio_text][INFO] - REF: ɛ n f œ ʂ ə n a d ɵ ʂ ə k t f øː r d eː t s ɔ m h ɛ n d ə p oː ɕ œ r k ɔ n s ɛ t ə n\r\n",
      "[2021-06-06 18:56:01,803][fairseq.tasks.unpaired_audio_text][INFO] - HYP: n ɡ ɛ s j œ r œ b j uː œ j k j uː ɵ øː j yː b n ə m œ k b ə uː s eː r n v oː s l ɪ ŋ k l ɪ l a s ɔ m t n t a\r\n",
      "[2021-06-06 18:56:01,808][fairseq.tasks.unpaired_audio_text][INFO] - LM [REF]: -53.44462585449219, 0.05339602260269112\r\n",
      "[2021-06-06 18:56:01,808][fairseq.tasks.unpaired_audio_text][INFO] - LM [HYP]: -95.10269165039062, 0.014828666012943224\r\n"
     ]
    },
    {
     "name": "stdout",
     "output_type": "stream",
     "text": [
      "[2021-06-06 18:56:02,359][valid][INFO] - {\"epoch\": 4882, \"valid_loss\": \"1.005\", \"valid_ntokens\": \"3039.79\", \"valid_nsentences\": \"144.214\", \"valid_lm_score_sum\": \"-89731.5\", \"valid_num_pred_chars\": \"48460\", \"valid_vocab_seen_pct\": \"0.891986\", \"valid_uer\": \"100.468\", \"valid_weighted_lm_ppl\": \"75.3154\", \"valid_lm_ppl\": \"59.9239\", \"valid_wps\": \"18831.3\", \"valid_wpb\": \"3039.8\", \"valid_bsz\": \"144.2\", \"valid_num_updates\": \"78112\", \"valid_best_weighted_lm_ppl\": \"73.4256\"}\r\n",
      "[2021-06-06 18:56:02,362][fairseq.checkpoint_utils][INFO] - Preparing to save checkpoint for epoch 4882 @ 78112 updates\r\n",
      "[2021-06-06 18:56:02,363][fairseq.trainer][INFO] - Saving checkpoint to /kaggle/working/checkpoint4882.pt\r\n"
     ]
    },
    {
     "name": "stdout",
     "output_type": "stream",
     "text": [
      "[2021-06-06 18:56:02,404][fairseq.trainer][INFO] - Finished saving checkpoint to /kaggle/working/checkpoint4882.pt\r\n"
     ]
    },
    {
     "name": "stdout",
     "output_type": "stream",
     "text": [
      "[2021-06-06 18:56:02,436][fairseq.checkpoint_utils][INFO] - Saved checkpoint /kaggle/working/checkpoint4882.pt (epoch 4882 @ 78112 updates, score 75.31538500670256) (writing took 0.07406346399875474 seconds)\r\n",
      "[2021-06-06 18:56:02,440][fairseq_cli.train][INFO] - end of epoch 4882 (average epoch stats below)\r\n",
      "[2021-06-06 18:56:02,443][train][INFO] - {\"epoch\": 4882, \"train_loss\": \"3.78\", \"train_ntokens\": \"145.688\", \"train_nsentences\": \"145.688\", \"train_temp\": \"0.1\", \"train_code_ppl\": \"9.003\", \"train_loss_code_pen\": \"0.328\", \"train_loss_smoothness\": \"2.109\", \"train_loss_dense_g\": \"4.173\", \"train_lm_score_sum\": 0.0, \"train_num_pred_chars\": 0.0, \"train_loss_grad_pen\": \"0.278\", \"train_loss_dense_d\": \"0.027\", \"train_loss_token_d\": \"0.027\", \"train_wps\": \"12.6\", \"train_ups\": \"0.09\", \"train_wpb\": \"145.7\", \"train_bsz\": \"145.7\", \"train_num_updates\": \"78112\", \"train_lr_discriminator\": \"0.0005\", \"train_lr_generator\": \"0.0004\", \"train_gnorm\": \"62.455\", \"train_clip\": \"75\", \"train_train_wall\": \"181\", \"train_wall\": \"25625\"}\r\n"
     ]
    },
    {
     "name": "stdout",
     "output_type": "stream",
     "text": [
      "[2021-06-06 18:56:02,497][fairseq.trainer][INFO] - begin training epoch 4883\r\n",
      "[2021-06-06 18:56:02,499][fairseq_cli.train][INFO] - Start iterating over samples\r\n"
     ]
    },
    {
     "name": "stdout",
     "output_type": "stream",
     "text": [
      "[2021-06-06 18:59:26,482][fairseq_cli.train][INFO] - begin validation on \"valid\" subset\r\n"
     ]
    },
    {
     "name": "stdout",
     "output_type": "stream",
     "text": [
      "[2021-06-06 18:59:29,138][fairseq.tasks.unpaired_audio_text][INFO] - REF: ɛ n f œ ʂ ə n a d ɵ ʂ ə k t f øː r d eː t s ɔ m h ɛ n d ə p oː ɕ œ r k ɔ n s ɛ t ə n\r\n",
      "[2021-06-06 18:59:29,141][fairseq.tasks.unpaired_audio_text][INFO] - HYP: n ɡ ɛ s j œ r œ b j uː œ j yː k yː uː ɵ øː j yː b n ə m œ k b ə uː s eː r n v oː s l ɪ ŋ k l ɪ l a s ɔ k m t n t a\r\n",
      "[2021-06-06 18:59:29,145][fairseq.tasks.unpaired_audio_text][INFO] - LM [REF]: -53.44462585449219, 0.05339602260269112\r\n",
      "[2021-06-06 18:59:29,146][fairseq.tasks.unpaired_audio_text][INFO] - LM [HYP]: -101.13048553466797, 0.013403346062693793\r\n"
     ]
    },
    {
     "name": "stdout",
     "output_type": "stream",
     "text": [
      "[2021-06-06 18:59:29,642][valid][INFO] - {\"epoch\": 4883, \"valid_loss\": \"1.004\", \"valid_ntokens\": \"3039.79\", \"valid_nsentences\": \"144.214\", \"valid_lm_score_sum\": \"-89889.9\", \"valid_num_pred_chars\": \"48473\", \"valid_vocab_seen_pct\": \"0.885017\", \"valid_uer\": \"100.411\", \"valid_weighted_lm_ppl\": \"76.9796\", \"valid_lm_ppl\": \"60.2947\", \"valid_wps\": \"18356.7\", \"valid_wpb\": \"3039.8\", \"valid_bsz\": \"144.2\", \"valid_num_updates\": \"78128\", \"valid_best_weighted_lm_ppl\": \"73.4256\"}\r\n"
     ]
    },
    {
     "name": "stdout",
     "output_type": "stream",
     "text": [
      "[2021-06-06 18:59:29,646][fairseq.checkpoint_utils][INFO] - Preparing to save checkpoint for epoch 4883 @ 78128 updates\r\n",
      "[2021-06-06 18:59:29,649][fairseq.trainer][INFO] - Saving checkpoint to /kaggle/working/checkpoint4883.pt\r\n",
      "[2021-06-06 18:59:29,687][fairseq.trainer][INFO] - Finished saving checkpoint to /kaggle/working/checkpoint4883.pt\r\n"
     ]
    },
    {
     "name": "stdout",
     "output_type": "stream",
     "text": [
      "[2021-06-06 18:59:29,720][fairseq.checkpoint_utils][INFO] - Saved checkpoint /kaggle/working/checkpoint4883.pt (epoch 4883 @ 78128 updates, score 76.97959970668741) (writing took 0.07372688899704372 seconds)\r\n",
      "[2021-06-06 18:59:29,723][fairseq_cli.train][INFO] - end of epoch 4883 (average epoch stats below)\r\n",
      "[2021-06-06 18:59:29,726][train][INFO] - {\"epoch\": 4883, \"train_loss\": \"3.387\", \"train_ntokens\": \"145.688\", \"train_nsentences\": \"145.688\", \"train_temp\": \"0.1\", \"train_code_ppl\": \"8.907\", \"train_loss_code_pen\": \"0.325\", \"train_loss_smoothness\": \"2.092\", \"train_loss_dense_g\": \"3.969\", \"train_lm_score_sum\": 0.0, \"train_num_pred_chars\": 0.0, \"train_loss_grad_pen\": \"0.092\", \"train_loss_dense_d\": \"0.03\", \"train_loss_token_d\": \"0.038\", \"train_wps\": \"11.2\", \"train_ups\": \"0.08\", \"train_wpb\": \"145.7\", \"train_bsz\": \"145.7\", \"train_num_updates\": \"78128\", \"train_lr_discriminator\": \"0.0005\", \"train_lr_generator\": \"0.0004\", \"train_gnorm\": \"31.154\", \"train_clip\": \"93.8\", \"train_train_wall\": \"204\", \"train_wall\": \"25833\"}\r\n"
     ]
    },
    {
     "name": "stdout",
     "output_type": "stream",
     "text": [
      "[2021-06-06 18:59:29,786][fairseq.trainer][INFO] - begin training epoch 4884\r\n",
      "[2021-06-06 18:59:29,788][fairseq_cli.train][INFO] - Start iterating over samples\r\n"
     ]
    },
    {
     "name": "stdout",
     "output_type": "stream",
     "text": [
      "[2021-06-06 19:02:44,695][fairseq_cli.train][INFO] - begin validation on \"valid\" subset\r\n"
     ]
    },
    {
     "name": "stdout",
     "output_type": "stream",
     "text": [
      "[2021-06-06 19:02:47,388][fairseq.tasks.unpaired_audio_text][INFO] - REF: ɛ n f œ ʂ ə n a d ɵ ʂ ə k t f øː r d eː t s ɔ m h ɛ n d ə p oː ɕ œ r k ɔ n s ɛ t ə n\r\n",
      "[2021-06-06 19:02:47,390][fairseq.tasks.unpaired_audio_text][INFO] - HYP: uː ɡ ɛ s j œ r œ j œ b j œ j k uː ɵ øː j b n ə m ɔ k b ə uː s eː r n v oː s l ɪ ŋ k l ɪ l a s ɔ k m k n t a\r\n",
      "[2021-06-06 19:02:47,394][fairseq.tasks.unpaired_audio_text][INFO] - LM [REF]: -53.44462585449219, 0.05339602260269112\r\n",
      "[2021-06-06 19:02:47,394][fairseq.tasks.unpaired_audio_text][INFO] - LM [HYP]: -92.1299057006836, 0.016914962691286308\r\n"
     ]
    },
    {
     "name": "stdout",
     "output_type": "stream",
     "text": [
      "[2021-06-06 19:02:47,916][valid][INFO] - {\"epoch\": 4884, \"valid_loss\": \"1.004\", \"valid_ntokens\": \"3039.79\", \"valid_nsentences\": \"144.214\", \"valid_lm_score_sum\": \"-89671.1\", \"valid_num_pred_chars\": \"48354\", \"valid_vocab_seen_pct\": \"0.89547\", \"valid_uer\": \"100.378\", \"valid_weighted_lm_ppl\": \"75.1691\", \"valid_lm_ppl\": \"60.2756\", \"valid_wps\": \"17319.6\", \"valid_wpb\": \"3039.8\", \"valid_bsz\": \"144.2\", \"valid_num_updates\": \"78144\", \"valid_best_weighted_lm_ppl\": \"73.4256\"}\r\n"
     ]
    },
    {
     "name": "stdout",
     "output_type": "stream",
     "text": [
      "[2021-06-06 19:02:47,920][fairseq.checkpoint_utils][INFO] - Preparing to save checkpoint for epoch 4884 @ 78144 updates\r\n",
      "[2021-06-06 19:02:47,921][fairseq.trainer][INFO] - Saving checkpoint to /kaggle/working/checkpoint4884.pt\r\n",
      "[2021-06-06 19:02:47,960][fairseq.trainer][INFO] - Finished saving checkpoint to /kaggle/working/checkpoint4884.pt\r\n"
     ]
    },
    {
     "name": "stdout",
     "output_type": "stream",
     "text": [
      "[2021-06-06 19:02:47,990][fairseq.checkpoint_utils][INFO] - Saved checkpoint /kaggle/working/checkpoint4884.pt (epoch 4884 @ 78144 updates, score 75.16907207676142) (writing took 0.07024470200121868 seconds)\r\n",
      "[2021-06-06 19:02:47,993][fairseq_cli.train][INFO] - end of epoch 4884 (average epoch stats below)\r\n",
      "[2021-06-06 19:02:47,996][train][INFO] - {\"epoch\": 4884, \"train_loss\": \"3.569\", \"train_ntokens\": \"145.688\", \"train_nsentences\": \"145.688\", \"train_temp\": \"0.1\", \"train_code_ppl\": \"8.757\", \"train_loss_code_pen\": \"0.326\", \"train_loss_smoothness\": \"2.079\", \"train_loss_dense_g\": \"3.944\", \"train_lm_score_sum\": 0.0, \"train_num_pred_chars\": 0.0, \"train_loss_grad_pen\": \"0.126\", \"train_loss_dense_d\": \"0.03\", \"train_loss_token_d\": \"0.027\", \"train_wps\": \"11.8\", \"train_ups\": \"0.08\", \"train_wpb\": \"145.7\", \"train_bsz\": \"145.7\", \"train_num_updates\": \"78144\", \"train_lr_discriminator\": \"0.0005\", \"train_lr_generator\": \"0.0004\", \"train_gnorm\": \"32.169\", \"train_clip\": \"93.8\", \"train_train_wall\": \"194\", \"train_wall\": \"26031\"}\r\n"
     ]
    },
    {
     "name": "stdout",
     "output_type": "stream",
     "text": [
      "[2021-06-06 19:02:48,048][fairseq.trainer][INFO] - begin training epoch 4885\r\n",
      "[2021-06-06 19:02:48,050][fairseq_cli.train][INFO] - Start iterating over samples\r\n"
     ]
    },
    {
     "name": "stdout",
     "output_type": "stream",
     "text": [
      "[2021-06-06 19:06:28,136][fairseq_cli.train][INFO] - begin validation on \"valid\" subset\r\n"
     ]
    },
    {
     "name": "stdout",
     "output_type": "stream",
     "text": [
      "[2021-06-06 19:06:30,633][fairseq.tasks.unpaired_audio_text][INFO] - REF: ɛ n f œ ʂ ə n a d ɵ ʂ ə k t f øː r d eː t s ɔ m h ɛ n d ə p oː ɕ œ r k ɔ n s ɛ t ə n\r\n",
      "[2021-06-06 19:06:30,635][fairseq.tasks.unpaired_audio_text][INFO] - HYP: n ɡ ɛ s j œ r œ b j uː œ j yː k j uː ɵ øː j m b n ə m œ k b ə uː s eː r n v oː s l ɪ ŋ k l ɪ l a ɔ m t n t a\r\n"
     ]
    },
    {
     "name": "stdout",
     "output_type": "stream",
     "text": [
      "[2021-06-06 19:06:30,640][fairseq.tasks.unpaired_audio_text][INFO] - LM [REF]: -53.44462585449219, 0.05339602260269112\r\n",
      "[2021-06-06 19:06:30,641][fairseq.tasks.unpaired_audio_text][INFO] - LM [HYP]: -96.79056549072266, 0.01376077745545291\r\n"
     ]
    },
    {
     "name": "stdout",
     "output_type": "stream",
     "text": [
      "[2021-06-06 19:06:31,142][valid][INFO] - {\"epoch\": 4885, \"valid_loss\": \"1.005\", \"valid_ntokens\": \"3039.79\", \"valid_nsentences\": \"144.214\", \"valid_lm_score_sum\": \"-89861\", \"valid_num_pred_chars\": \"48461\", \"valid_vocab_seen_pct\": \"0.891986\", \"valid_uer\": \"100.468\", \"valid_weighted_lm_ppl\": \"75.7555\", \"valid_lm_ppl\": \"60.274\", \"valid_wps\": \"19021.9\", \"valid_wpb\": \"3039.8\", \"valid_bsz\": \"144.2\", \"valid_num_updates\": \"78160\", \"valid_best_weighted_lm_ppl\": \"73.4256\"}\r\n",
      "[2021-06-06 19:06:31,146][fairseq.checkpoint_utils][INFO] - Preparing to save checkpoint for epoch 4885 @ 78160 updates\r\n",
      "[2021-06-06 19:06:31,147][fairseq.trainer][INFO] - Saving checkpoint to /kaggle/working/checkpoint4885.pt\r\n"
     ]
    },
    {
     "name": "stdout",
     "output_type": "stream",
     "text": [
      "[2021-06-06 19:06:31,188][fairseq.trainer][INFO] - Finished saving checkpoint to /kaggle/working/checkpoint4885.pt\r\n"
     ]
    },
    {
     "name": "stdout",
     "output_type": "stream",
     "text": [
      "[2021-06-06 19:06:31,218][fairseq.checkpoint_utils][INFO] - Saved checkpoint /kaggle/working/checkpoint4885.pt (epoch 4885 @ 78160 updates, score 75.75546531566798) (writing took 0.07209140399936587 seconds)\r\n",
      "[2021-06-06 19:06:31,221][fairseq_cli.train][INFO] - end of epoch 4885 (average epoch stats below)\r\n",
      "[2021-06-06 19:06:31,224][train][INFO] - {\"epoch\": 4885, \"train_loss\": \"2.934\", \"train_ntokens\": \"145.688\", \"train_nsentences\": \"145.688\", \"train_temp\": \"0.1\", \"train_code_ppl\": \"9.069\", \"train_loss_code_pen\": \"0.348\", \"train_loss_smoothness\": \"2.109\", \"train_loss_dense_g\": \"3.865\", \"train_lm_score_sum\": 0.0, \"train_num_pred_chars\": 0.0, \"train_loss_grad_pen\": \"0.093\", \"train_loss_dense_d\": \"0.033\", \"train_loss_token_d\": \"0.025\", \"train_wps\": \"10.4\", \"train_ups\": \"0.07\", \"train_wpb\": \"145.7\", \"train_bsz\": \"145.7\", \"train_num_updates\": \"78160\", \"train_lr_discriminator\": \"0.0005\", \"train_lr_generator\": \"0.0004\", \"train_gnorm\": \"29.056\", \"train_clip\": \"75\", \"train_train_wall\": \"220\", \"train_wall\": \"26254\"}\r\n"
     ]
    },
    {
     "name": "stdout",
     "output_type": "stream",
     "text": [
      "[2021-06-06 19:06:31,283][fairseq.trainer][INFO] - begin training epoch 4886\r\n",
      "[2021-06-06 19:06:31,285][fairseq_cli.train][INFO] - Start iterating over samples\r\n"
     ]
    },
    {
     "name": "stdout",
     "output_type": "stream",
     "text": [
      "[2021-06-06 19:10:10,431][fairseq_cli.train][INFO] - begin validation on \"valid\" subset\r\n"
     ]
    },
    {
     "name": "stdout",
     "output_type": "stream",
     "text": [
      "[2021-06-06 19:10:12,952][fairseq.tasks.unpaired_audio_text][INFO] - REF: ɛ n f œ ʂ ə n a d ɵ ʂ ə k t f øː r d eː t s ɔ m h ɛ n d ə p oː ɕ œ r k ɔ n s ɛ t ə n\r\n",
      "[2021-06-06 19:10:12,955][fairseq.tasks.unpaired_audio_text][INFO] - HYP: n ɛ s j œ r œ j œ b j yː uː œ j yː k ɵ uː ɵ øː j m b n ə m œ k b ə uː s eː r n v oː s l ɪ ŋ k l ɪ l a s ɔ m k n t a\r\n",
      "[2021-06-06 19:10:12,960][fairseq.tasks.unpaired_audio_text][INFO] - LM [REF]: -53.44462585449219, 0.05339602260269112\r\n",
      "[2021-06-06 19:10:12,960][fairseq.tasks.unpaired_audio_text][INFO] - LM [HYP]: -100.25183868408203, 0.015039704268957404\r\n"
     ]
    },
    {
     "name": "stdout",
     "output_type": "stream",
     "text": [
      "[2021-06-06 19:10:13,496][valid][INFO] - {\"epoch\": 4886, \"valid_loss\": \"1.006\", \"valid_ntokens\": \"3039.79\", \"valid_nsentences\": \"144.214\", \"valid_lm_score_sum\": \"-90000.6\", \"valid_num_pred_chars\": \"48520\", \"valid_vocab_seen_pct\": \"0.888502\", \"valid_uer\": \"100.646\", \"valid_weighted_lm_ppl\": \"76.4714\", \"valid_lm_ppl\": \"60.3692\", \"valid_wps\": \"18558.9\", \"valid_wpb\": \"3039.8\", \"valid_bsz\": \"144.2\", \"valid_num_updates\": \"78176\", \"valid_best_weighted_lm_ppl\": \"73.4256\"}\r\n"
     ]
    },
    {
     "name": "stdout",
     "output_type": "stream",
     "text": [
      "[2021-06-06 19:10:13,500][fairseq.checkpoint_utils][INFO] - Preparing to save checkpoint for epoch 4886 @ 78176 updates\r\n",
      "[2021-06-06 19:10:13,502][fairseq.trainer][INFO] - Saving checkpoint to /kaggle/working/checkpoint4886.pt\r\n",
      "[2021-06-06 19:10:13,543][fairseq.trainer][INFO] - Finished saving checkpoint to /kaggle/working/checkpoint4886.pt\r\n"
     ]
    },
    {
     "name": "stdout",
     "output_type": "stream",
     "text": [
      "[2021-06-06 19:10:13,574][fairseq.checkpoint_utils][INFO] - Saved checkpoint /kaggle/working/checkpoint4886.pt (epoch 4886 @ 78176 updates, score 76.47142641915568) (writing took 0.07351241400101571 seconds)\r\n",
      "[2021-06-06 19:10:13,577][fairseq_cli.train][INFO] - end of epoch 4886 (average epoch stats below)\r\n",
      "[2021-06-06 19:10:13,580][train][INFO] - {\"epoch\": 4886, \"train_loss\": \"2.953\", \"train_ntokens\": \"145.688\", \"train_nsentences\": \"145.688\", \"train_temp\": \"0.1\", \"train_code_ppl\": \"8.801\", \"train_loss_code_pen\": \"0.304\", \"train_loss_smoothness\": \"2.007\", \"train_loss_dense_g\": \"4.108\", \"train_lm_score_sum\": 0.0, \"train_num_pred_chars\": 0.0, \"train_loss_grad_pen\": \"0.053\", \"train_loss_dense_d\": \"0.027\", \"train_loss_token_d\": \"0.026\", \"train_wps\": \"10.5\", \"train_ups\": \"0.07\", \"train_wpb\": \"145.7\", \"train_bsz\": \"145.7\", \"train_num_updates\": \"78176\", \"train_lr_discriminator\": \"0.0005\", \"train_lr_generator\": \"0.0004\", \"train_gnorm\": \"27.778\", \"train_clip\": \"62.5\", \"train_train_wall\": \"219\", \"train_wall\": \"26477\"}\r\n"
     ]
    },
    {
     "name": "stdout",
     "output_type": "stream",
     "text": [
      "[2021-06-06 19:10:13,639][fairseq.trainer][INFO] - begin training epoch 4887\r\n",
      "[2021-06-06 19:10:13,641][fairseq_cli.train][INFO] - Start iterating over samples\r\n"
     ]
    },
    {
     "name": "stdout",
     "output_type": "stream",
     "text": [
      "[2021-06-06 19:13:26,656][fairseq_cli.train][INFO] - begin validation on \"valid\" subset\r\n"
     ]
    },
    {
     "name": "stdout",
     "output_type": "stream",
     "text": [
      "[2021-06-06 19:13:29,133][fairseq.tasks.unpaired_audio_text][INFO] - REF: ɛ n f œ ʂ ə n a d ɵ ʂ ə k t f øː r d eː t s ɔ m h ɛ n d ə p oː ɕ œ r k ɔ n s ɛ t ə n\r\n",
      "[2021-06-06 19:13:29,136][fairseq.tasks.unpaired_audio_text][INFO] - HYP: t ɡ ɛ s j œ f œ j œ b j uː œ j yː k ɵ uː ɵ øː j m b n ə m ɔ k b ə uː s eː r n v oː s l ɪ ŋ k l ɪ l a s ɔ m k n t a\r\n",
      "[2021-06-06 19:13:29,140][fairseq.tasks.unpaired_audio_text][INFO] - LM [REF]: -53.44462585449219, 0.05339602260269112\r\n",
      "[2021-06-06 19:13:29,141][fairseq.tasks.unpaired_audio_text][INFO] - LM [HYP]: -98.20299530029297, 0.016386680817770206\r\n"
     ]
    },
    {
     "name": "stdout",
     "output_type": "stream",
     "text": [
      "[2021-06-06 19:13:29,637][valid][INFO] - {\"epoch\": 4887, \"valid_loss\": \"1.005\", \"valid_ntokens\": \"3039.79\", \"valid_nsentences\": \"144.214\", \"valid_lm_score_sum\": \"-89742.9\", \"valid_num_pred_chars\": \"48423\", \"valid_vocab_seen_pct\": \"0.885017\", \"valid_uer\": \"100.475\", \"valid_weighted_lm_ppl\": \"76.7761\", \"valid_lm_ppl\": \"60.1353\", \"valid_wps\": \"19174.9\", \"valid_wpb\": \"3039.8\", \"valid_bsz\": \"144.2\", \"valid_num_updates\": \"78192\", \"valid_best_weighted_lm_ppl\": \"73.4256\"}\r\n",
      "[2021-06-06 19:13:29,641][fairseq.checkpoint_utils][INFO] - Preparing to save checkpoint for epoch 4887 @ 78192 updates\r\n",
      "[2021-06-06 19:13:29,642][fairseq.trainer][INFO] - Saving checkpoint to /kaggle/working/checkpoint4887.pt\r\n"
     ]
    },
    {
     "name": "stdout",
     "output_type": "stream",
     "text": [
      "[2021-06-06 19:13:29,680][fairseq.trainer][INFO] - Finished saving checkpoint to /kaggle/working/checkpoint4887.pt\r\n",
      "[2021-06-06 19:13:29,709][fairseq.checkpoint_utils][INFO] - Saved checkpoint /kaggle/working/checkpoint4887.pt (epoch 4887 @ 78192 updates, score 76.7761038593408) (writing took 0.06888620099925902 seconds)\r\n",
      "[2021-06-06 19:13:29,713][fairseq_cli.train][INFO] - end of epoch 4887 (average epoch stats below)\r\n",
      "[2021-06-06 19:13:29,716][train][INFO] - {\"epoch\": 4887, \"train_loss\": \"3.861\", \"train_ntokens\": \"145.688\", \"train_nsentences\": \"145.688\", \"train_temp\": \"0.1\", \"train_code_ppl\": \"9.015\", \"train_loss_code_pen\": \"0.326\", \"train_loss_smoothness\": \"2.09\", \"train_loss_dense_g\": \"4.466\", \"train_lm_score_sum\": 0.0, \"train_num_pred_chars\": 0.0, \"train_loss_grad_pen\": \"0.102\", \"train_loss_dense_d\": \"0.024\", \"train_loss_token_d\": \"0.054\", \"train_wps\": \"11.9\", \"train_ups\": \"0.08\", \"train_wpb\": \"145.7\", \"train_bsz\": \"145.7\", \"train_num_updates\": \"78192\", \"train_lr_discriminator\": \"0.0005\", \"train_lr_generator\": \"0.0004\", \"train_gnorm\": \"30.981\", \"train_clip\": \"87.5\", \"train_train_wall\": \"193\", \"train_wall\": \"26673\"}\r\n"
     ]
    },
    {
     "name": "stdout",
     "output_type": "stream",
     "text": [
      "[2021-06-06 19:13:29,776][fairseq.trainer][INFO] - begin training epoch 4888\r\n",
      "[2021-06-06 19:13:29,777][fairseq_cli.train][INFO] - Start iterating over samples\r\n"
     ]
    },
    {
     "name": "stdout",
     "output_type": "stream",
     "text": [
      "[2021-06-06 19:14:50,448][train_inner][INFO] - {\"epoch\": 4888, \"update\": 4887.5, \"loss\": \"3.458\", \"ntokens\": \"143.97\", \"nsentences\": \"143.97\", \"temp\": \"0.1\", \"code_ppl\": \"8.93\", \"loss_code_pen\": \"0.324\", \"loss_smoothness\": \"2.077\", \"loss_dense_g\": \"4.095\", \"lm_score_sum\": 0.0, \"num_pred_chars\": 0.0, \"loss_grad_pen\": \"0.12\", \"loss_dense_d\": \"0.03\", \"loss_token_d\": \"0.032\", \"wps\": \"11.4\", \"ups\": \"0.08\", \"wpb\": \"144\", \"bsz\": \"144\", \"num_updates\": \"78200\", \"lr_discriminator\": \"0.0005\", \"lr_generator\": \"0.0004\", \"gnorm\": \"35.615\", \"clip\": \"82\", \"train_wall\": \"1238\", \"wall\": \"26753\"}\r\n"
     ]
    },
    {
     "name": "stdout",
     "output_type": "stream",
     "text": [
      "[2021-06-06 19:16:42,690][fairseq_cli.train][INFO] - begin validation on \"valid\" subset\r\n"
     ]
    },
    {
     "name": "stdout",
     "output_type": "stream",
     "text": [
      "[2021-06-06 19:16:45,175][fairseq.tasks.unpaired_audio_text][INFO] - REF: ɛ n f œ ʂ ə n a d ɵ ʂ ə k t f øː r d eː t s ɔ m h ɛ n d ə p oː ɕ œ r k ɔ n s ɛ t ə n\r\n",
      "[2021-06-06 19:16:45,178][fairseq.tasks.unpaired_audio_text][INFO] - HYP: t ɛ s j œ f œ j œ b j uː œ j yː k ɵ uː ɵ øː j m b n ə m ɔ k b ə uː s eː r n v oː s l ɪ ŋ k l ɪ l a s ɔ m t n t a\r\n"
     ]
    },
    {
     "name": "stdout",
     "output_type": "stream",
     "text": [
      "[2021-06-06 19:16:45,184][fairseq.tasks.unpaired_audio_text][INFO] - LM [REF]: -53.44462585449219, 0.05339602260269112\r\n",
      "[2021-06-06 19:16:45,184][fairseq.tasks.unpaired_audio_text][INFO] - LM [HYP]: -96.66053009033203, 0.016217734395161616\r\n"
     ]
    },
    {
     "name": "stdout",
     "output_type": "stream",
     "text": [
      "[2021-06-06 19:16:45,674][valid][INFO] - {\"epoch\": 4888, \"valid_loss\": \"1.006\", \"valid_ntokens\": \"3039.79\", \"valid_nsentences\": \"144.214\", \"valid_lm_score_sum\": \"-89806.1\", \"valid_num_pred_chars\": \"48518\", \"valid_vocab_seen_pct\": \"0.883275\", \"valid_uer\": \"100.583\", \"valid_weighted_lm_ppl\": \"76.7086\", \"valid_lm_ppl\": \"59.8461\", \"valid_wps\": \"19031.5\", \"valid_wpb\": \"3039.8\", \"valid_bsz\": \"144.2\", \"valid_num_updates\": \"78208\", \"valid_best_weighted_lm_ppl\": \"73.4256\"}\r\n",
      "[2021-06-06 19:16:45,678][fairseq.checkpoint_utils][INFO] - Preparing to save checkpoint for epoch 4888 @ 78208 updates\r\n",
      "[2021-06-06 19:16:45,679][fairseq.trainer][INFO] - Saving checkpoint to /kaggle/working/checkpoint4888.pt\r\n"
     ]
    },
    {
     "name": "stdout",
     "output_type": "stream",
     "text": [
      "[2021-06-06 19:16:45,720][fairseq.trainer][INFO] - Finished saving checkpoint to /kaggle/working/checkpoint4888.pt\r\n"
     ]
    },
    {
     "name": "stdout",
     "output_type": "stream",
     "text": [
      "[2021-06-06 19:16:45,749][fairseq.checkpoint_utils][INFO] - Saved checkpoint /kaggle/working/checkpoint4888.pt (epoch 4888 @ 78208 updates, score 76.70855384798672) (writing took 0.07074383399958606 seconds)\r\n",
      "[2021-06-06 19:16:45,753][fairseq_cli.train][INFO] - end of epoch 4888 (average epoch stats below)\r\n",
      "[2021-06-06 19:16:45,756][train][INFO] - {\"epoch\": 4888, \"train_loss\": \"3.69\", \"train_ntokens\": \"145.688\", \"train_nsentences\": \"145.688\", \"train_temp\": \"0.1\", \"train_code_ppl\": \"8.921\", \"train_loss_code_pen\": \"0.323\", \"train_loss_smoothness\": \"2.105\", \"train_loss_dense_g\": \"4.194\", \"train_lm_score_sum\": 0.0, \"train_num_pred_chars\": 0.0, \"train_loss_grad_pen\": \"0.058\", \"train_loss_dense_d\": \"0.034\", \"train_loss_token_d\": \"0.028\", \"train_wps\": \"11.9\", \"train_ups\": \"0.08\", \"train_wpb\": \"145.7\", \"train_bsz\": \"145.7\", \"train_num_updates\": \"78208\", \"train_lr_discriminator\": \"0.0005\", \"train_lr_generator\": \"0.0004\", \"train_gnorm\": \"29.695\", \"train_clip\": \"68.8\", \"train_train_wall\": \"192\", \"train_wall\": \"26869\"}\r\n"
     ]
    },
    {
     "name": "stdout",
     "output_type": "stream",
     "text": [
      "[2021-06-06 19:16:45,817][fairseq.trainer][INFO] - begin training epoch 4889\r\n",
      "[2021-06-06 19:16:45,818][fairseq_cli.train][INFO] - Start iterating over samples\r\n"
     ]
    },
    {
     "name": "stdout",
     "output_type": "stream",
     "text": [
      "[2021-06-06 19:20:20,486][fairseq_cli.train][INFO] - begin validation on \"valid\" subset\r\n"
     ]
    },
    {
     "name": "stdout",
     "output_type": "stream",
     "text": [
      "[2021-06-06 19:20:22,960][fairseq.tasks.unpaired_audio_text][INFO] - REF: ɛ n f œ ʂ ə n a d ɵ ʂ ə k t f øː r d eː t s ɔ m h ɛ n d ə p oː ɕ œ r k ɔ n s ɛ t ə n\r\n",
      "[2021-06-06 19:20:22,963][fairseq.tasks.unpaired_audio_text][INFO] - HYP: n ɛ s j œ r œ j œ b j uː œ j yː k ɵ uː ɵ øː j b n ə m œ k b ə uː s eː r n v oː s l ɪ ŋ k l ɪ l a s ɔ m k n t a\r\n",
      "[2021-06-06 19:20:22,967][fairseq.tasks.unpaired_audio_text][INFO] - LM [REF]: -53.44462585449219, 0.05339602260269112\r\n",
      "[2021-06-06 19:20:22,968][fairseq.tasks.unpaired_audio_text][INFO] - LM [HYP]: -95.40477752685547, 0.01584564266701841\r\n"
     ]
    },
    {
     "name": "stdout",
     "output_type": "stream",
     "text": [
      "[2021-06-06 19:20:23,460][valid][INFO] - {\"epoch\": 4889, \"valid_loss\": \"1.004\", \"valid_ntokens\": \"3039.79\", \"valid_nsentences\": \"144.214\", \"valid_lm_score_sum\": \"-89620.3\", \"valid_num_pred_chars\": \"48278\", \"valid_vocab_seen_pct\": \"0.893728\", \"valid_uer\": \"100.35\", \"valid_weighted_lm_ppl\": \"75.7549\", \"valid_lm_ppl\": \"60.5092\", \"valid_wps\": \"19115.9\", \"valid_wpb\": \"3039.8\", \"valid_bsz\": \"144.2\", \"valid_num_updates\": \"78224\", \"valid_best_weighted_lm_ppl\": \"73.4256\"}\r\n",
      "[2021-06-06 19:20:23,464][fairseq.checkpoint_utils][INFO] - Preparing to save checkpoint for epoch 4889 @ 78224 updates\r\n",
      "[2021-06-06 19:20:23,465][fairseq.trainer][INFO] - Saving checkpoint to /kaggle/working/checkpoint4889.pt\r\n"
     ]
    },
    {
     "name": "stdout",
     "output_type": "stream",
     "text": [
      "[2021-06-06 19:20:23,505][fairseq.trainer][INFO] - Finished saving checkpoint to /kaggle/working/checkpoint4889.pt\r\n"
     ]
    },
    {
     "name": "stdout",
     "output_type": "stream",
     "text": [
      "[2021-06-06 19:20:23,535][fairseq.checkpoint_utils][INFO] - Saved checkpoint /kaggle/working/checkpoint4889.pt (epoch 4889 @ 78224 updates, score 75.75485029039315) (writing took 0.07115817999874707 seconds)\r\n",
      "[2021-06-06 19:20:23,538][fairseq_cli.train][INFO] - end of epoch 4889 (average epoch stats below)\r\n",
      "[2021-06-06 19:20:23,541][train][INFO] - {\"epoch\": 4889, \"train_loss\": \"3.11\", \"train_ntokens\": \"145.688\", \"train_nsentences\": \"145.688\", \"train_temp\": \"0.1\", \"train_code_ppl\": \"8.83\", \"train_loss_code_pen\": \"0.318\", \"train_loss_smoothness\": \"2.05\", \"train_loss_dense_g\": \"3.961\", \"train_lm_score_sum\": 0.0, \"train_num_pred_chars\": 0.0, \"train_loss_grad_pen\": \"0.067\", \"train_loss_dense_d\": \"0.026\", \"train_loss_token_d\": \"0.025\", \"train_wps\": \"10.7\", \"train_ups\": \"0.07\", \"train_wpb\": \"145.7\", \"train_bsz\": \"145.7\", \"train_num_updates\": \"78224\", \"train_lr_discriminator\": \"0.0005\", \"train_lr_generator\": \"0.0004\", \"train_gnorm\": \"28.293\", \"train_clip\": \"68.8\", \"train_train_wall\": \"214\", \"train_wall\": \"27087\"}\r\n"
     ]
    },
    {
     "name": "stdout",
     "output_type": "stream",
     "text": [
      "[2021-06-06 19:20:23,599][fairseq.trainer][INFO] - begin training epoch 4890\r\n",
      "[2021-06-06 19:20:23,600][fairseq_cli.train][INFO] - Start iterating over samples\r\n"
     ]
    },
    {
     "name": "stdout",
     "output_type": "stream",
     "text": [
      "[2021-06-06 19:23:37,685][fairseq_cli.train][INFO] - begin validation on \"valid\" subset\r\n"
     ]
    },
    {
     "name": "stdout",
     "output_type": "stream",
     "text": [
      "[2021-06-06 19:23:40,201][fairseq.tasks.unpaired_audio_text][INFO] - REF: ɛ n f œ ʂ ə n a d ɵ ʂ ə k t f øː r d eː t s ɔ m h ɛ n d ə p oː ɕ œ r k ɔ n s ɛ t ə n\r\n",
      "[2021-06-06 19:23:40,204][fairseq.tasks.unpaired_audio_text][INFO] - HYP: n ɕ ɛ s j œ f œ j œ b j uː œ j yː k ɵ uː ɵ øː j b n ə m ɔ k b ə uː s eː r n v oː s l ɪ ŋ k l ɪ l a ɔ m k n t a\r\n",
      "[2021-06-06 19:23:40,208][fairseq.tasks.unpaired_audio_text][INFO] - LM [REF]: -53.44462585449219, 0.05339602260269112\r\n",
      "[2021-06-06 19:23:40,209][fairseq.tasks.unpaired_audio_text][INFO] - LM [HYP]: -96.52558898925781, 0.015092544738630363\r\n"
     ]
    },
    {
     "name": "stdout",
     "output_type": "stream",
     "text": [
      "[2021-06-06 19:23:40,713][valid][INFO] - {\"epoch\": 4890, \"valid_loss\": \"1.007\", \"valid_ntokens\": \"3039.79\", \"valid_nsentences\": \"144.214\", \"valid_lm_score_sum\": \"-90015.4\", \"valid_num_pred_chars\": \"48600\", \"valid_vocab_seen_pct\": \"0.891986\", \"valid_uer\": \"100.721\", \"valid_weighted_lm_ppl\": \"75.4356\", \"valid_lm_ppl\": \"60.0196\", \"valid_wps\": \"18638.2\", \"valid_wpb\": \"3039.8\", \"valid_bsz\": \"144.2\", \"valid_num_updates\": \"78240\", \"valid_best_weighted_lm_ppl\": \"73.4256\"}\r\n",
      "[2021-06-06 19:23:40,717][fairseq.checkpoint_utils][INFO] - Preparing to save checkpoint for epoch 4890 @ 78240 updates\r\n",
      "[2021-06-06 19:23:40,718][fairseq.trainer][INFO] - Saving checkpoint to /kaggle/working/checkpoint4890.pt\r\n"
     ]
    },
    {
     "name": "stdout",
     "output_type": "stream",
     "text": [
      "[2021-06-06 19:23:40,757][fairseq.trainer][INFO] - Finished saving checkpoint to /kaggle/working/checkpoint4890.pt\r\n",
      "[2021-06-06 19:23:40,787][fairseq.checkpoint_utils][INFO] - Saved checkpoint /kaggle/working/checkpoint4890.pt (epoch 4890 @ 78240 updates, score 75.43564580806263) (writing took 0.07008413199946517 seconds)\r\n",
      "[2021-06-06 19:23:40,790][fairseq_cli.train][INFO] - end of epoch 4890 (average epoch stats below)\r\n",
      "[2021-06-06 19:23:40,793][train][INFO] - {\"epoch\": 4890, \"train_loss\": \"3.728\", \"train_ntokens\": \"145.688\", \"train_nsentences\": \"145.688\", \"train_temp\": \"0.1\", \"train_code_ppl\": \"8.922\", \"train_loss_code_pen\": \"0.343\", \"train_loss_smoothness\": \"2.143\", \"train_loss_dense_g\": \"4.177\", \"train_lm_score_sum\": 0.0, \"train_num_pred_chars\": 0.0, \"train_loss_grad_pen\": \"0.102\", \"train_loss_dense_d\": \"0.026\", \"train_loss_token_d\": \"0.026\", \"train_wps\": \"11.8\", \"train_ups\": \"0.08\", \"train_wpb\": \"145.7\", \"train_bsz\": \"145.7\", \"train_num_updates\": \"78240\", \"train_lr_discriminator\": \"0.0005\", \"train_lr_generator\": \"0.0004\", \"train_gnorm\": \"29.28\", \"train_clip\": \"81.2\", \"train_train_wall\": \"194\", \"train_wall\": \"27284\"}\r\n"
     ]
    },
    {
     "name": "stdout",
     "output_type": "stream",
     "text": [
      "[2021-06-06 19:23:40,851][fairseq.trainer][INFO] - begin training epoch 4891\r\n",
      "[2021-06-06 19:23:40,852][fairseq_cli.train][INFO] - Start iterating over samples\r\n"
     ]
    },
    {
     "name": "stdout",
     "output_type": "stream",
     "text": [
      "[2021-06-06 19:27:19,395][fairseq_cli.train][INFO] - begin validation on \"valid\" subset\r\n"
     ]
    },
    {
     "name": "stdout",
     "output_type": "stream",
     "text": [
      "[2021-06-06 19:27:21,890][fairseq.tasks.unpaired_audio_text][INFO] - REF: ɛ n f œ ʂ ə n a d ɵ ʂ ə k t f øː r d eː t s ɔ m h ɛ n d ə p oː ɕ œ r k ɔ n s ɛ t ə n\r\n",
      "[2021-06-06 19:27:21,892][fairseq.tasks.unpaired_audio_text][INFO] - HYP: t ɛ s j œ r œ j œ b j uː œ j k ɵ uː ɵ øː j b n ə m œ k b ə uː s eː r n v oː s l ɪ ŋ k l ɪ l a s ɔ m k n t a\r\n",
      "[2021-06-06 19:27:21,896][fairseq.tasks.unpaired_audio_text][INFO] - LM [REF]: -53.44462585449219, 0.05339602260269112\r\n",
      "[2021-06-06 19:27:21,897][fairseq.tasks.unpaired_audio_text][INFO] - LM [HYP]: -93.35835266113281, 0.01601943019037141\r\n"
     ]
    },
    {
     "name": "stdout",
     "output_type": "stream",
     "text": [
      "[2021-06-06 19:27:22,386][valid][INFO] - {\"epoch\": 4891, \"valid_loss\": \"1.005\", \"valid_ntokens\": \"3039.79\", \"valid_nsentences\": \"144.214\", \"valid_lm_score_sum\": \"-89661.7\", \"valid_num_pred_chars\": \"48293\", \"valid_vocab_seen_pct\": \"0.888502\", \"valid_uer\": \"100.498\", \"valid_weighted_lm_ppl\": \"76.7004\", \"valid_lm_ppl\": \"60.55\", \"valid_wps\": \"19379.1\", \"valid_wpb\": \"3039.8\", \"valid_bsz\": \"144.2\", \"valid_num_updates\": \"78256\", \"valid_best_weighted_lm_ppl\": \"73.4256\"}\r\n",
      "[2021-06-06 19:27:22,390][fairseq.checkpoint_utils][INFO] - Preparing to save checkpoint for epoch 4891 @ 78256 updates\r\n",
      "[2021-06-06 19:27:22,391][fairseq.trainer][INFO] - Saving checkpoint to /kaggle/working/checkpoint4891.pt\r\n",
      "[2021-06-06 19:27:22,429][fairseq.trainer][INFO] - Finished saving checkpoint to /kaggle/working/checkpoint4891.pt\r\n"
     ]
    },
    {
     "name": "stdout",
     "output_type": "stream",
     "text": [
      "[2021-06-06 19:27:22,459][fairseq.checkpoint_utils][INFO] - Saved checkpoint /kaggle/working/checkpoint4891.pt (epoch 4891 @ 78256 updates, score 76.70041040220738) (writing took 0.06924166699900525 seconds)\r\n",
      "[2021-06-06 19:27:22,462][fairseq_cli.train][INFO] - end of epoch 4891 (average epoch stats below)\r\n",
      "[2021-06-06 19:27:22,466][train][INFO] - {\"epoch\": 4891, \"train_loss\": \"3.013\", \"train_ntokens\": \"145.688\", \"train_nsentences\": \"145.688\", \"train_temp\": \"0.1\", \"train_code_ppl\": \"9.004\", \"train_loss_code_pen\": \"0.32\", \"train_loss_smoothness\": \"2.064\", \"train_loss_dense_g\": \"4.175\", \"train_lm_score_sum\": 0.0, \"train_num_pred_chars\": 0.0, \"train_loss_grad_pen\": \"0.053\", \"train_loss_dense_d\": \"0.025\", \"train_loss_token_d\": \"0.025\", \"train_wps\": \"10.5\", \"train_ups\": \"0.07\", \"train_wpb\": \"145.7\", \"train_bsz\": \"145.7\", \"train_num_updates\": \"78256\", \"train_lr_discriminator\": \"0.0005\", \"train_lr_generator\": \"0.0004\", \"train_gnorm\": \"27.618\", \"train_clip\": \"62.5\", \"train_train_wall\": \"218\", \"train_wall\": \"27505\"}\r\n"
     ]
    },
    {
     "name": "stdout",
     "output_type": "stream",
     "text": [
      "[2021-06-06 19:27:22,527][fairseq.trainer][INFO] - begin training epoch 4892\r\n",
      "[2021-06-06 19:27:22,529][fairseq_cli.train][INFO] - Start iterating over samples\r\n"
     ]
    },
    {
     "name": "stdout",
     "output_type": "stream",
     "text": [
      "[2021-06-06 19:30:45,891][fairseq_cli.train][INFO] - begin validation on \"valid\" subset\r\n"
     ]
    },
    {
     "name": "stdout",
     "output_type": "stream",
     "text": [
      "[2021-06-06 19:30:48,381][fairseq.tasks.unpaired_audio_text][INFO] - REF: ɛ n f œ ʂ ə n a d ɵ ʂ ə k t f øː r d eː t s ɔ m h ɛ n d ə p oː ɕ œ r k ɔ n s ɛ t ə n\r\n",
      "[2021-06-06 19:30:48,383][fairseq.tasks.unpaired_audio_text][INFO] - HYP: n ɛ s j œ r œ j œ b j uː œ j yː k ɵ uː ɵ øː j m b n ə m œ k b ə uː s eː r n v oː s l ɪ ŋ k l ɪ l a s d m t n t a\r\n",
      "[2021-06-06 19:30:48,388][fairseq.tasks.unpaired_audio_text][INFO] - LM [REF]: -53.44462585449219, 0.05339602260269112\r\n",
      "[2021-06-06 19:30:48,388][fairseq.tasks.unpaired_audio_text][INFO] - LM [HYP]: -100.30292510986328, 0.013884761489219374\r\n"
     ]
    },
    {
     "name": "stdout",
     "output_type": "stream",
     "text": [
      "[2021-06-06 19:30:48,887][valid][INFO] - {\"epoch\": 4892, \"valid_loss\": \"1.004\", \"valid_ntokens\": \"3039.79\", \"valid_nsentences\": \"144.214\", \"valid_lm_score_sum\": \"-89616.6\", \"valid_num_pred_chars\": \"48323\", \"valid_vocab_seen_pct\": \"0.888502\", \"valid_uer\": \"100.428\", \"valid_weighted_lm_ppl\": \"76.3552\", \"valid_lm_ppl\": \"60.2775\", \"valid_wps\": \"19237.8\", \"valid_wpb\": \"3039.8\", \"valid_bsz\": \"144.2\", \"valid_num_updates\": \"78272\", \"valid_best_weighted_lm_ppl\": \"73.4256\"}\r\n",
      "[2021-06-06 19:30:48,890][fairseq.checkpoint_utils][INFO] - Preparing to save checkpoint for epoch 4892 @ 78272 updates\r\n",
      "[2021-06-06 19:30:48,892][fairseq.trainer][INFO] - Saving checkpoint to /kaggle/working/checkpoint4892.pt\r\n",
      "[2021-06-06 19:30:48,928][fairseq.trainer][INFO] - Finished saving checkpoint to /kaggle/working/checkpoint4892.pt\r\n"
     ]
    },
    {
     "name": "stdout",
     "output_type": "stream",
     "text": [
      "[2021-06-06 19:30:48,960][fairseq.checkpoint_utils][INFO] - Saved checkpoint /kaggle/working/checkpoint4892.pt (epoch 4892 @ 78272 updates, score 76.35517130627113) (writing took 0.07031797599847778 seconds)\r\n",
      "[2021-06-06 19:30:48,964][fairseq_cli.train][INFO] - end of epoch 4892 (average epoch stats below)\r\n",
      "[2021-06-06 19:30:48,967][train][INFO] - {\"epoch\": 4892, \"train_loss\": \"3.508\", \"train_ntokens\": \"145.688\", \"train_nsentences\": \"145.688\", \"train_temp\": \"0.1\", \"train_code_ppl\": \"8.929\", \"train_loss_code_pen\": \"0.327\", \"train_loss_smoothness\": \"2.082\", \"train_loss_dense_g\": \"4.191\", \"train_lm_score_sum\": 0.0, \"train_num_pred_chars\": 0.0, \"train_loss_grad_pen\": \"0.124\", \"train_loss_dense_d\": \"0.026\", \"train_loss_token_d\": \"0.032\", \"train_wps\": \"11.3\", \"train_ups\": \"0.08\", \"train_wpb\": \"145.7\", \"train_bsz\": \"145.7\", \"train_num_updates\": \"78272\", \"train_lr_discriminator\": \"0.0005\", \"train_lr_generator\": \"0.0004\", \"train_gnorm\": \"33.841\", \"train_clip\": \"68.8\", \"train_train_wall\": \"203\", \"train_wall\": \"27712\"}\r\n"
     ]
    },
    {
     "name": "stdout",
     "output_type": "stream",
     "text": [
      "[2021-06-06 19:30:49,026][fairseq.trainer][INFO] - begin training epoch 4893\r\n",
      "[2021-06-06 19:30:49,027][fairseq_cli.train][INFO] - Start iterating over samples\r\n"
     ]
    },
    {
     "name": "stdout",
     "output_type": "stream",
     "text": [
      "[2021-06-06 19:34:03,470][fairseq_cli.train][INFO] - begin validation on \"valid\" subset\r\n"
     ]
    },
    {
     "name": "stdout",
     "output_type": "stream",
     "text": [
      "[2021-06-06 19:34:05,982][fairseq.tasks.unpaired_audio_text][INFO] - REF: ɛ n f œ ʂ ə n a d ɵ ʂ ə k t f øː r d eː t s ɔ m h ɛ n d ə p oː ɕ œ r k ɔ n s ɛ t ə n\r\n",
      "[2021-06-06 19:34:05,984][fairseq.tasks.unpaired_audio_text][INFO] - HYP: n ɛ s j œ r œ j œ b j uː œ j yː k ɵ uː ɵ øː j m b n ə m œ k b ə uː s eː r n v oː s l ɪ ŋ k l ɪ l a s d m t n t a\r\n",
      "[2021-06-06 19:34:05,989][fairseq.tasks.unpaired_audio_text][INFO] - LM [REF]: -53.44462585449219, 0.05339602260269112\r\n",
      "[2021-06-06 19:34:05,989][fairseq.tasks.unpaired_audio_text][INFO] - LM [HYP]: -100.30292510986328, 0.013884761489219374\r\n"
     ]
    },
    {
     "name": "stdout",
     "output_type": "stream",
     "text": [
      "[2021-06-06 19:34:06,475][valid][INFO] - {\"epoch\": 4893, \"valid_loss\": \"1.002\", \"valid_ntokens\": \"3039.79\", \"valid_nsentences\": \"144.214\", \"valid_lm_score_sum\": \"-89450.7\", \"valid_num_pred_chars\": \"48267\", \"valid_vocab_seen_pct\": \"0.890244\", \"valid_uer\": \"100.24\", \"valid_weighted_lm_ppl\": \"75.8263\", \"valid_lm_ppl\": \"60.095\", \"valid_wps\": \"19253.6\", \"valid_wpb\": \"3039.8\", \"valid_bsz\": \"144.2\", \"valid_num_updates\": \"78288\", \"valid_best_weighted_lm_ppl\": \"73.4256\"}\r\n",
      "[2021-06-06 19:34:06,479][fairseq.checkpoint_utils][INFO] - Preparing to save checkpoint for epoch 4893 @ 78288 updates\r\n",
      "[2021-06-06 19:34:06,480][fairseq.trainer][INFO] - Saving checkpoint to /kaggle/working/checkpoint4893.pt\r\n"
     ]
    },
    {
     "name": "stdout",
     "output_type": "stream",
     "text": [
      "[2021-06-06 19:34:06,520][fairseq.trainer][INFO] - Finished saving checkpoint to /kaggle/working/checkpoint4893.pt\r\n",
      "[2021-06-06 19:34:06,549][fairseq.checkpoint_utils][INFO] - Saved checkpoint /kaggle/working/checkpoint4893.pt (epoch 4893 @ 78288 updates, score 75.82634875008601) (writing took 0.07051827499890351 seconds)\r\n",
      "[2021-06-06 19:34:06,552][fairseq_cli.train][INFO] - end of epoch 4893 (average epoch stats below)\r\n",
      "[2021-06-06 19:34:06,556][train][INFO] - {\"epoch\": 4893, \"train_loss\": \"3.412\", \"train_ntokens\": \"145.688\", \"train_nsentences\": \"145.688\", \"train_temp\": \"0.1\", \"train_code_ppl\": \"9.092\", \"train_loss_code_pen\": \"0.322\", \"train_loss_smoothness\": \"2.063\", \"train_loss_dense_g\": \"4.088\", \"train_lm_score_sum\": 0.0, \"train_num_pred_chars\": 0.0, \"train_loss_grad_pen\": \"0.061\", \"train_loss_dense_d\": \"0.029\", \"train_loss_token_d\": \"0.028\", \"train_wps\": \"11.8\", \"train_ups\": \"0.08\", \"train_wpb\": \"145.7\", \"train_bsz\": \"145.7\", \"train_num_updates\": \"78288\", \"train_lr_discriminator\": \"0.0005\", \"train_lr_generator\": \"0.0004\", \"train_gnorm\": \"28.951\", \"train_clip\": \"68.8\", \"train_train_wall\": \"194\", \"train_wall\": \"27910\"}\r\n"
     ]
    },
    {
     "name": "stdout",
     "output_type": "stream",
     "text": [
      "[2021-06-06 19:34:06,612][fairseq.trainer][INFO] - begin training epoch 4894\r\n"
     ]
    },
    {
     "name": "stdout",
     "output_type": "stream",
     "text": [
      "[2021-06-06 19:34:06,614][fairseq_cli.train][INFO] - Start iterating over samples\r\n"
     ]
    },
    {
     "name": "stdout",
     "output_type": "stream",
     "text": [
      "[2021-06-06 19:36:42,310][train_inner][INFO] - {\"epoch\": 4894, \"update\": 4893.75, \"loss\": \"3.379\", \"ntokens\": \"147.83\", \"nsentences\": \"147.83\", \"temp\": \"0.1\", \"code_ppl\": \"8.913\", \"loss_code_pen\": \"0.33\", \"loss_smoothness\": \"2.097\", \"loss_dense_g\": \"4.129\", \"lm_score_sum\": 0.0, \"num_pred_chars\": 0.0, \"loss_grad_pen\": \"0.079\", \"loss_dense_d\": \"0.026\", \"loss_token_d\": \"0.028\", \"wps\": \"11.3\", \"ups\": \"0.08\", \"wpb\": \"147.8\", \"bsz\": \"147.8\", \"num_updates\": \"78300\", \"lr_discriminator\": \"0.0005\", \"lr_generator\": \"0.0004\", \"gnorm\": \"29.373\", \"clip\": \"72\", \"train_wall\": \"1290\", \"wall\": \"28065\"}\r\n"
     ]
    },
    {
     "name": "stdout",
     "output_type": "stream",
     "text": [
      "[2021-06-06 19:37:11,692][fairseq_cli.train][INFO] - begin validation on \"valid\" subset\r\n"
     ]
    },
    {
     "name": "stdout",
     "output_type": "stream",
     "text": [
      "[2021-06-06 19:37:14,153][fairseq.tasks.unpaired_audio_text][INFO] - REF: ɛ n f œ ʂ ə n a d ɵ ʂ ə k t f øː r d eː t s ɔ m h ɛ n d ə p oː ɕ œ r k ɔ n s ɛ t ə n\r\n",
      "[2021-06-06 19:37:14,155][fairseq.tasks.unpaired_audio_text][INFO] - HYP: t ɛ s j œ r œ j œ b j uː œ j yː k yː uː ɵ øː j m n ə m ɔ k b ə uː s eː r n v oː s l ɪ ŋ k l ɪ l a s ɔ m t n t a\r\n",
      "[2021-06-06 19:37:14,159][fairseq.tasks.unpaired_audio_text][INFO] - LM [REF]: -53.44462585449219, 0.05339602260269112\r\n",
      "[2021-06-06 19:37:14,159][fairseq.tasks.unpaired_audio_text][INFO] - LM [HYP]: -94.00395202636719, 0.01683993953512301\r\n"
     ]
    },
    {
     "name": "stdout",
     "output_type": "stream",
     "text": [
      "[2021-06-06 19:37:14,676][valid][INFO] - {\"epoch\": 4894, \"valid_loss\": \"1.003\", \"valid_ntokens\": \"3039.79\", \"valid_nsentences\": \"144.214\", \"valid_lm_score_sum\": \"-89533.8\", \"valid_num_pred_chars\": \"48321\", \"valid_vocab_seen_pct\": \"0.89547\", \"valid_uer\": \"100.338\", \"valid_weighted_lm_ppl\": \"74.8995\", \"valid_lm_ppl\": \"60.0594\", \"valid_wps\": \"18451.5\", \"valid_wpb\": \"3039.8\", \"valid_bsz\": \"144.2\", \"valid_num_updates\": \"78304\", \"valid_best_weighted_lm_ppl\": \"73.4256\"}\r\n",
      "[2021-06-06 19:37:14,680][fairseq.checkpoint_utils][INFO] - Preparing to save checkpoint for epoch 4894 @ 78304 updates\r\n",
      "[2021-06-06 19:37:14,681][fairseq.trainer][INFO] - Saving checkpoint to /kaggle/working/checkpoint4894.pt\r\n"
     ]
    },
    {
     "name": "stdout",
     "output_type": "stream",
     "text": [
      "[2021-06-06 19:37:14,718][fairseq.trainer][INFO] - Finished saving checkpoint to /kaggle/working/checkpoint4894.pt\r\n"
     ]
    },
    {
     "name": "stdout",
     "output_type": "stream",
     "text": [
      "[2021-06-06 19:37:14,747][fairseq.checkpoint_utils][INFO] - Saved checkpoint /kaggle/working/checkpoint4894.pt (epoch 4894 @ 78304 updates, score 74.89947217778793) (writing took 0.06720993500130135 seconds)\r\n",
      "[2021-06-06 19:37:14,751][fairseq_cli.train][INFO] - end of epoch 4894 (average epoch stats below)\r\n",
      "[2021-06-06 19:37:14,754][train][INFO] - {\"epoch\": 4894, \"train_loss\": \"3.745\", \"train_ntokens\": \"145.688\", \"train_nsentences\": \"145.688\", \"train_temp\": \"0.1\", \"train_code_ppl\": \"9.031\", \"train_loss_code_pen\": \"0.349\", \"train_loss_smoothness\": \"2.15\", \"train_loss_dense_g\": \"4.11\", \"train_lm_score_sum\": 0.0, \"train_num_pred_chars\": 0.0, \"train_loss_grad_pen\": \"0.198\", \"train_loss_dense_d\": \"0.024\", \"train_loss_token_d\": \"0.033\", \"train_wps\": \"12.4\", \"train_ups\": \"0.09\", \"train_wpb\": \"145.7\", \"train_bsz\": \"145.7\", \"train_num_updates\": \"78304\", \"train_lr_discriminator\": \"0.0005\", \"train_lr_generator\": \"0.0004\", \"train_gnorm\": \"42.681\", \"train_clip\": \"93.8\", \"train_train_wall\": \"185\", \"train_wall\": \"28098\"}\r\n"
     ]
    },
    {
     "name": "stdout",
     "output_type": "stream",
     "text": [
      "[2021-06-06 19:37:14,814][fairseq.trainer][INFO] - begin training epoch 4895\r\n",
      "[2021-06-06 19:37:14,815][fairseq_cli.train][INFO] - Start iterating over samples\r\n"
     ]
    },
    {
     "name": "stdout",
     "output_type": "stream",
     "text": [
      "[2021-06-06 19:40:39,638][fairseq_cli.train][INFO] - begin validation on \"valid\" subset\r\n"
     ]
    },
    {
     "name": "stdout",
     "output_type": "stream",
     "text": [
      "[2021-06-06 19:40:42,152][fairseq.tasks.unpaired_audio_text][INFO] - REF: ɛ n f œ ʂ ə n a d ɵ ʂ ə k t f øː r d eː t s ɔ m h ɛ n d ə p oː ɕ œ r k ɔ n s ɛ t ə n\r\n",
      "[2021-06-06 19:40:42,154][fairseq.tasks.unpaired_audio_text][INFO] - HYP: n ɛ s j œ r œ j œ b j uː œ j yː k ɵ uː ɵ øː j m b n ə m ɔ k b ə uː s eː r n v oː s l ɪ ŋ k l ɪ l a s ɔ m k n t a\r\n",
      "[2021-06-06 19:40:42,159][fairseq.tasks.unpaired_audio_text][INFO] - LM [REF]: -53.44462585449219, 0.05339602260269112\r\n",
      "[2021-06-06 19:40:42,159][fairseq.tasks.unpaired_audio_text][INFO] - LM [HYP]: -95.07073974609375, 0.01735524486240065\r\n"
     ]
    },
    {
     "name": "stdout",
     "output_type": "stream",
     "text": [
      "[2021-06-06 19:40:42,645][valid][INFO] - {\"epoch\": 4895, \"valid_loss\": \"1.004\", \"valid_ntokens\": \"3039.79\", \"valid_nsentences\": \"144.214\", \"valid_lm_score_sum\": \"-89712.1\", \"valid_num_pred_chars\": \"48330\", \"valid_vocab_seen_pct\": \"0.890244\", \"valid_uer\": \"100.414\", \"valid_weighted_lm_ppl\": \"76.3463\", \"valid_lm_ppl\": \"60.507\", \"valid_wps\": \"19193\", \"valid_wpb\": \"3039.8\", \"valid_bsz\": \"144.2\", \"valid_num_updates\": \"78320\", \"valid_best_weighted_lm_ppl\": \"73.4256\"}\r\n",
      "[2021-06-06 19:40:42,648][fairseq.checkpoint_utils][INFO] - Preparing to save checkpoint for epoch 4895 @ 78320 updates\r\n",
      "[2021-06-06 19:40:42,649][fairseq.trainer][INFO] - Saving checkpoint to /kaggle/working/checkpoint4895.pt\r\n"
     ]
    },
    {
     "name": "stdout",
     "output_type": "stream",
     "text": [
      "[2021-06-06 19:40:42,689][fairseq.trainer][INFO] - Finished saving checkpoint to /kaggle/working/checkpoint4895.pt\r\n"
     ]
    },
    {
     "name": "stdout",
     "output_type": "stream",
     "text": [
      "[2021-06-06 19:40:42,719][fairseq.checkpoint_utils][INFO] - Saved checkpoint /kaggle/working/checkpoint4895.pt (epoch 4895 @ 78320 updates, score 76.34626071411591) (writing took 0.07115019499906339 seconds)\r\n",
      "[2021-06-06 19:40:42,722][fairseq_cli.train][INFO] - end of epoch 4895 (average epoch stats below)\r\n",
      "[2021-06-06 19:40:42,725][train][INFO] - {\"epoch\": 4895, \"train_loss\": \"3.377\", \"train_ntokens\": \"145.688\", \"train_nsentences\": \"145.688\", \"train_temp\": \"0.1\", \"train_code_ppl\": \"9.065\", \"train_loss_code_pen\": \"0.331\", \"train_loss_smoothness\": \"2.078\", \"train_loss_dense_g\": \"3.962\", \"train_lm_score_sum\": 0.0, \"train_num_pred_chars\": 0.0, \"train_loss_grad_pen\": \"0.097\", \"train_loss_dense_d\": \"0.03\", \"train_loss_token_d\": \"0.029\", \"train_wps\": \"11.2\", \"train_ups\": \"0.08\", \"train_wpb\": \"145.7\", \"train_bsz\": \"145.7\", \"train_num_updates\": \"78320\", \"train_lr_discriminator\": \"0.0005\", \"train_lr_generator\": \"0.0004\", \"train_gnorm\": \"28.953\", \"train_clip\": \"68.8\", \"train_train_wall\": \"204\", \"train_wall\": \"28306\"}\r\n"
     ]
    },
    {
     "name": "stdout",
     "output_type": "stream",
     "text": [
      "[2021-06-06 19:40:42,784][fairseq.trainer][INFO] - begin training epoch 4896\r\n",
      "[2021-06-06 19:40:42,786][fairseq_cli.train][INFO] - Start iterating over samples\r\n"
     ]
    },
    {
     "name": "stdout",
     "output_type": "stream",
     "text": [
      "[2021-06-06 19:44:12,839][fairseq_cli.train][INFO] - begin validation on \"valid\" subset\r\n"
     ]
    },
    {
     "name": "stdout",
     "output_type": "stream",
     "text": [
      "[2021-06-06 19:44:15,350][fairseq.tasks.unpaired_audio_text][INFO] - REF: ɛ n f œ ʂ ə n a d ɵ ʂ ə k t f øː r d eː t s ɔ m h ɛ n d ə p oː ɕ œ r k ɔ n s ɛ t ə n\r\n",
      "[2021-06-06 19:44:15,353][fairseq.tasks.unpaired_audio_text][INFO] - HYP: n ɛ s j œ r œ j œ b j uː œ j k ɵ uː ɵ øː j n ə m ɔ k b ə uː s eː r n v oː s l ɪ ŋ k l ɪ l a s ɔ m k n t a\r\n",
      "[2021-06-06 19:44:15,357][fairseq.tasks.unpaired_audio_text][INFO] - LM [REF]: -53.44462585449219, 0.05339602260269112\r\n",
      "[2021-06-06 19:44:15,357][fairseq.tasks.unpaired_audio_text][INFO] - LM [HYP]: -88.16287231445312, 0.018677391797905746\r\n"
     ]
    },
    {
     "name": "stdout",
     "output_type": "stream",
     "text": [
      "[2021-06-06 19:44:15,851][valid][INFO] - {\"epoch\": 4896, \"valid_loss\": \"1.004\", \"valid_ntokens\": \"3039.79\", \"valid_nsentences\": \"144.214\", \"valid_lm_score_sum\": \"-89637.9\", \"valid_num_pred_chars\": \"48304\", \"valid_vocab_seen_pct\": \"0.890244\", \"valid_uer\": \"100.421\", \"valid_weighted_lm_ppl\": \"76.2489\", \"valid_lm_ppl\": \"60.4299\", \"valid_wps\": \"18887.9\", \"valid_wpb\": \"3039.8\", \"valid_bsz\": \"144.2\", \"valid_num_updates\": \"78336\", \"valid_best_weighted_lm_ppl\": \"73.4256\"}\r\n",
      "[2021-06-06 19:44:15,854][fairseq.checkpoint_utils][INFO] - Preparing to save checkpoint for epoch 4896 @ 78336 updates\r\n",
      "[2021-06-06 19:44:15,856][fairseq.trainer][INFO] - Saving checkpoint to /kaggle/working/checkpoint4896.pt\r\n"
     ]
    },
    {
     "name": "stdout",
     "output_type": "stream",
     "text": [
      "[2021-06-06 19:44:15,895][fairseq.trainer][INFO] - Finished saving checkpoint to /kaggle/working/checkpoint4896.pt\r\n"
     ]
    },
    {
     "name": "stdout",
     "output_type": "stream",
     "text": [
      "[2021-06-06 19:44:15,924][fairseq.checkpoint_utils][INFO] - Saved checkpoint /kaggle/working/checkpoint4896.pt (epoch 4896 @ 78336 updates, score 76.24890499148827) (writing took 0.06938219099902199 seconds)\r\n",
      "[2021-06-06 19:44:15,928][fairseq_cli.train][INFO] - end of epoch 4896 (average epoch stats below)\r\n",
      "[2021-06-06 19:44:15,931][train][INFO] - {\"epoch\": 4896, \"train_loss\": \"3.212\", \"train_ntokens\": \"145.688\", \"train_nsentences\": \"145.688\", \"train_temp\": \"0.1\", \"train_code_ppl\": \"9.015\", \"train_loss_code_pen\": \"0.329\", \"train_loss_smoothness\": \"2.086\", \"train_loss_dense_g\": \"4.114\", \"train_lm_score_sum\": 0.0, \"train_num_pred_chars\": 0.0, \"train_loss_grad_pen\": \"0.074\", \"train_loss_dense_d\": \"0.025\", \"train_loss_token_d\": \"0.029\", \"train_wps\": \"10.9\", \"train_ups\": \"0.08\", \"train_wpb\": \"145.7\", \"train_bsz\": \"145.7\", \"train_num_updates\": \"78336\", \"train_lr_discriminator\": \"0.0005\", \"train_lr_generator\": \"0.0004\", \"train_gnorm\": \"28.666\", \"train_clip\": \"75\", \"train_train_wall\": \"210\", \"train_wall\": \"28519\"}\r\n"
     ]
    },
    {
     "name": "stdout",
     "output_type": "stream",
     "text": [
      "[2021-06-06 19:44:15,990][fairseq.trainer][INFO] - begin training epoch 4897\r\n",
      "[2021-06-06 19:44:15,991][fairseq_cli.train][INFO] - Start iterating over samples\r\n"
     ]
    },
    {
     "name": "stdout",
     "output_type": "stream",
     "text": [
      "[2021-06-06 19:47:56,506][fairseq_cli.train][INFO] - begin validation on \"valid\" subset\r\n"
     ]
    },
    {
     "name": "stdout",
     "output_type": "stream",
     "text": [
      "[2021-06-06 19:47:59,037][fairseq.tasks.unpaired_audio_text][INFO] - REF: ɛ n f œ ʂ ə n a d ɵ ʂ ə k t f øː r d eː t s ɔ m h ɛ n d ə p oː ɕ œ r k ɔ n s ɛ t ə n\r\n",
      "[2021-06-06 19:47:59,040][fairseq.tasks.unpaired_audio_text][INFO] - HYP: n ɛ s j œ r œ j œ b j uː œ j k ɵ uː ɵ v j n ə m ɔ k b ə uː s eː r n v oː s l ɪ ŋ k l ɪ l a s ɔ m k l t a\r\n",
      "[2021-06-06 19:47:59,044][fairseq.tasks.unpaired_audio_text][INFO] - LM [REF]: -53.44462585449219, 0.05339602260269112\r\n",
      "[2021-06-06 19:47:59,044][fairseq.tasks.unpaired_audio_text][INFO] - LM [HYP]: -88.05432891845703, 0.01876914679641025\r\n"
     ]
    },
    {
     "name": "stdout",
     "output_type": "stream",
     "text": [
      "[2021-06-06 19:47:59,533][valid][INFO] - {\"epoch\": 4897, \"valid_loss\": \"1.004\", \"valid_ntokens\": \"3039.79\", \"valid_nsentences\": \"144.214\", \"valid_lm_score_sum\": \"-89732.4\", \"valid_num_pred_chars\": \"48378\", \"valid_vocab_seen_pct\": \"0.888502\", \"valid_uer\": \"100.418\", \"valid_weighted_lm_ppl\": \"76.4178\", \"valid_lm_ppl\": \"60.3269\", \"valid_wps\": \"18739\", \"valid_wpb\": \"3039.8\", \"valid_bsz\": \"144.2\", \"valid_num_updates\": \"78352\", \"valid_best_weighted_lm_ppl\": \"73.4256\"}\r\n",
      "[2021-06-06 19:47:59,537][fairseq.checkpoint_utils][INFO] - Preparing to save checkpoint for epoch 4897 @ 78352 updates\r\n",
      "[2021-06-06 19:47:59,538][fairseq.trainer][INFO] - Saving checkpoint to /kaggle/working/checkpoint4897.pt\r\n"
     ]
    },
    {
     "name": "stdout",
     "output_type": "stream",
     "text": [
      "[2021-06-06 19:47:59,576][fairseq.trainer][INFO] - Finished saving checkpoint to /kaggle/working/checkpoint4897.pt\r\n"
     ]
    },
    {
     "name": "stdout",
     "output_type": "stream",
     "text": [
      "[2021-06-06 19:47:59,607][fairseq.checkpoint_utils][INFO] - Saved checkpoint /kaggle/working/checkpoint4897.pt (epoch 4897 @ 78352 updates, score 76.41778674658191) (writing took 0.0705660399980843 seconds)\r\n",
      "[2021-06-06 19:47:59,610][fairseq_cli.train][INFO] - end of epoch 4897 (average epoch stats below)\r\n",
      "[2021-06-06 19:47:59,614][train][INFO] - {\"epoch\": 4897, \"train_loss\": \"2.968\", \"train_ntokens\": \"145.688\", \"train_nsentences\": \"145.688\", \"train_temp\": \"0.1\", \"train_code_ppl\": \"8.951\", \"train_loss_code_pen\": \"0.325\", \"train_loss_smoothness\": \"2.03\", \"train_loss_dense_g\": \"4.102\", \"train_lm_score_sum\": 0.0, \"train_num_pred_chars\": 0.0, \"train_loss_grad_pen\": \"0.052\", \"train_loss_dense_d\": \"0.027\", \"train_loss_token_d\": \"0.024\", \"train_wps\": \"10.4\", \"train_ups\": \"0.07\", \"train_wpb\": \"145.7\", \"train_bsz\": \"145.7\", \"train_num_updates\": \"78352\", \"train_lr_discriminator\": \"0.0005\", \"train_lr_generator\": \"0.0004\", \"train_gnorm\": \"27.965\", \"train_clip\": \"62.5\", \"train_train_wall\": \"220\", \"train_wall\": \"28743\"}\r\n"
     ]
    },
    {
     "name": "stdout",
     "output_type": "stream",
     "text": [
      "[2021-06-06 19:47:59,674][fairseq.trainer][INFO] - begin training epoch 4898\r\n",
      "[2021-06-06 19:47:59,676][fairseq_cli.train][INFO] - Start iterating over samples\r\n"
     ]
    },
    {
     "name": "stdout",
     "output_type": "stream",
     "text": [
      "[2021-06-06 19:51:09,548][fairseq_cli.train][INFO] - begin validation on \"valid\" subset\r\n"
     ]
    },
    {
     "name": "stdout",
     "output_type": "stream",
     "text": [
      "[2021-06-06 19:51:12,096][fairseq.tasks.unpaired_audio_text][INFO] - REF: ɛ n f œ ʂ ə n a d ɵ ʂ ə k t f øː r d eː t s ɔ m h ɛ n d ə p oː ɕ œ r k ɔ n s ɛ t ə n\r\n",
      "[2021-06-06 19:51:12,098][fairseq.tasks.unpaired_audio_text][INFO] - HYP: n ɡ ɛ s j œ r œ j œ b j œ j k ɵ uː ɵ v j m n ə m œ k b ə uː s yː r n v oː s l ɪ ŋ k l ɪ l a s d m t n t a\r\n",
      "[2021-06-06 19:51:12,103][fairseq.tasks.unpaired_audio_text][INFO] - LM [REF]: -53.44462585449219, 0.05339602260269112\r\n",
      "[2021-06-06 19:51:12,103][fairseq.tasks.unpaired_audio_text][INFO] - LM [HYP]: -96.34001922607422, 0.014038067378869954\r\n"
     ]
    },
    {
     "name": "stdout",
     "output_type": "stream",
     "text": [
      "[2021-06-06 19:51:12,591][valid][INFO] - {\"epoch\": 4898, \"valid_loss\": \"1.006\", \"valid_ntokens\": \"3039.79\", \"valid_nsentences\": \"144.214\", \"valid_lm_score_sum\": \"-89896.8\", \"valid_num_pred_chars\": \"48530\", \"valid_vocab_seen_pct\": \"0.883275\", \"valid_uer\": \"100.639\", \"valid_weighted_lm_ppl\": \"76.9516\", \"valid_lm_ppl\": \"60.0358\", \"valid_wps\": \"18561.3\", \"valid_wpb\": \"3039.8\", \"valid_bsz\": \"144.2\", \"valid_num_updates\": \"78368\", \"valid_best_weighted_lm_ppl\": \"73.4256\"}\r\n",
      "[2021-06-06 19:51:12,595][fairseq.checkpoint_utils][INFO] - Preparing to save checkpoint for epoch 4898 @ 78368 updates\r\n",
      "[2021-06-06 19:51:12,597][fairseq.trainer][INFO] - Saving checkpoint to /kaggle/working/checkpoint4898.pt\r\n"
     ]
    },
    {
     "name": "stdout",
     "output_type": "stream",
     "text": [
      "[2021-06-06 19:51:12,637][fairseq.trainer][INFO] - Finished saving checkpoint to /kaggle/working/checkpoint4898.pt\r\n"
     ]
    },
    {
     "name": "stdout",
     "output_type": "stream",
     "text": [
      "[2021-06-06 19:51:12,666][fairseq.checkpoint_utils][INFO] - Saved checkpoint /kaggle/working/checkpoint4898.pt (epoch 4898 @ 78368 updates, score 76.95163430105599) (writing took 0.07084546400074032 seconds)\r\n",
      "[2021-06-06 19:51:12,669][fairseq_cli.train][INFO] - end of epoch 4898 (average epoch stats below)\r\n",
      "[2021-06-06 19:51:12,672][train][INFO] - {\"epoch\": 4898, \"train_loss\": \"3.636\", \"train_ntokens\": \"145.688\", \"train_nsentences\": \"145.688\", \"train_temp\": \"0.1\", \"train_code_ppl\": \"9.103\", \"train_loss_code_pen\": \"0.331\", \"train_loss_smoothness\": \"2.085\", \"train_loss_dense_g\": \"4.091\", \"train_lm_score_sum\": 0.0, \"train_num_pred_chars\": 0.0, \"train_loss_grad_pen\": \"0.088\", \"train_loss_dense_d\": \"0.027\", \"train_loss_token_d\": \"0.026\", \"train_wps\": \"12.1\", \"train_ups\": \"0.08\", \"train_wpb\": \"145.7\", \"train_bsz\": \"145.7\", \"train_num_updates\": \"78368\", \"train_lr_discriminator\": \"0.0005\", \"train_lr_generator\": \"0.0004\", \"train_gnorm\": \"28.56\", \"train_clip\": \"75\", \"train_train_wall\": \"189\", \"train_wall\": \"28936\"}\r\n"
     ]
    },
    {
     "name": "stdout",
     "output_type": "stream",
     "text": [
      "[2021-06-06 19:51:12,729][fairseq.trainer][INFO] - begin training epoch 4899\r\n",
      "[2021-06-06 19:51:12,731][fairseq_cli.train][INFO] - Start iterating over samples\r\n"
     ]
    },
    {
     "name": "stdout",
     "output_type": "stream",
     "text": [
      "[2021-06-06 19:54:24,787][fairseq_cli.train][INFO] - begin validation on \"valid\" subset\r\n"
     ]
    },
    {
     "name": "stdout",
     "output_type": "stream",
     "text": [
      "[2021-06-06 19:54:27,414][fairseq.tasks.unpaired_audio_text][INFO] - REF: ɛ n f œ ʂ ə n a d ɵ ʂ ə k t f øː r d eː t s ɔ m h ɛ n d ə p oː ɕ œ r k ɔ n s ɛ t ə n\r\n",
      "[2021-06-06 19:54:27,417][fairseq.tasks.unpaired_audio_text][INFO] - HYP: t ɛ s j œ r œ j œ b j œ j k ɵ uː ɵ v j n ə m ɔ k b ə uː s yː r n v oː s l ɪ ŋ k l ɪ l a s ɔ m k n t a\r\n",
      "[2021-06-06 19:54:27,421][fairseq.tasks.unpaired_audio_text][INFO] - LM [REF]: -53.44462585449219, 0.05339602260269112\r\n",
      "[2021-06-06 19:54:27,421][fairseq.tasks.unpaired_audio_text][INFO] - LM [HYP]: -87.1832046508789, 0.018044128323334664\r\n"
     ]
    },
    {
     "name": "stdout",
     "output_type": "stream",
     "text": [
      "[2021-06-06 19:54:27,904][valid][INFO] - {\"epoch\": 4899, \"valid_loss\": \"1.004\", \"valid_ntokens\": \"3039.79\", \"valid_nsentences\": \"144.214\", \"valid_lm_score_sum\": \"-89825.6\", \"valid_num_pred_chars\": \"48435\", \"valid_vocab_seen_pct\": \"0.88676\", \"valid_uer\": \"100.449\", \"valid_weighted_lm_ppl\": \"76.6894\", \"valid_lm_ppl\": \"60.3041\", \"valid_wps\": \"17981.2\", \"valid_wpb\": \"3039.8\", \"valid_bsz\": \"144.2\", \"valid_num_updates\": \"78384\", \"valid_best_weighted_lm_ppl\": \"73.4256\"}\r\n",
      "[2021-06-06 19:54:27,907][fairseq.checkpoint_utils][INFO] - Preparing to save checkpoint for epoch 4899 @ 78384 updates\r\n",
      "[2021-06-06 19:54:27,908][fairseq.trainer][INFO] - Saving checkpoint to /kaggle/working/checkpoint4899.pt\r\n"
     ]
    },
    {
     "name": "stdout",
     "output_type": "stream",
     "text": [
      "[2021-06-06 19:54:27,945][fairseq.trainer][INFO] - Finished saving checkpoint to /kaggle/working/checkpoint4899.pt\r\n",
      "[2021-06-06 19:54:27,975][fairseq.checkpoint_utils][INFO] - Saved checkpoint /kaggle/working/checkpoint4899.pt (epoch 4899 @ 78384 updates, score 76.68936166416336) (writing took 0.06749345399657614 seconds)\r\n",
      "[2021-06-06 19:54:27,978][fairseq_cli.train][INFO] - end of epoch 4899 (average epoch stats below)\r\n",
      "[2021-06-06 19:54:27,980][train][INFO] - {\"epoch\": 4899, \"train_loss\": \"3.712\", \"train_ntokens\": \"145.688\", \"train_nsentences\": \"145.688\", \"train_temp\": \"0.1\", \"train_code_ppl\": \"8.932\", \"train_loss_code_pen\": \"0.324\", \"train_loss_smoothness\": \"2.068\", \"train_loss_dense_g\": \"4.126\", \"train_lm_score_sum\": 0.0, \"train_num_pred_chars\": 0.0, \"train_loss_grad_pen\": \"0.218\", \"train_loss_dense_d\": \"0.027\", \"train_loss_token_d\": \"0.049\", \"train_wps\": \"11.9\", \"train_ups\": \"0.08\", \"train_wpb\": \"145.7\", \"train_bsz\": \"145.7\", \"train_num_updates\": \"78384\", \"train_lr_discriminator\": \"0.0005\", \"train_lr_generator\": \"0.0004\", \"train_gnorm\": \"39.559\", \"train_clip\": \"81.2\", \"train_train_wall\": \"192\", \"train_wall\": \"29131\"}\r\n"
     ]
    },
    {
     "name": "stdout",
     "output_type": "stream",
     "text": [
      "[2021-06-06 19:54:28,038][fairseq.trainer][INFO] - begin training epoch 4900\r\n",
      "[2021-06-06 19:54:28,040][fairseq_cli.train][INFO] - Start iterating over samples\r\n"
     ]
    },
    {
     "name": "stdout",
     "output_type": "stream",
     "text": [
      "[2021-06-06 19:58:07,924][train_inner][INFO] - {\"epoch\": 4900, \"update\": 4900.0, \"loss\": \"3.337\", \"ntokens\": \"144.69\", \"nsentences\": \"144.69\", \"temp\": \"0.1\", \"code_ppl\": \"9.061\", \"loss_code_pen\": \"0.329\", \"loss_smoothness\": \"2.069\", \"loss_dense_g\": \"4.035\", \"lm_score_sum\": 0.0, \"num_pred_chars\": 0.0, \"loss_grad_pen\": \"0.116\", \"loss_dense_d\": \"0.027\", \"loss_token_d\": \"0.03\", \"wps\": \"11.3\", \"ups\": \"0.08\", \"wpb\": \"144.7\", \"bsz\": \"144.7\", \"num_updates\": \"78400\", \"lr_discriminator\": \"0.0005\", \"lr_generator\": \"0.0004\", \"gnorm\": \"32.457\", \"clip\": \"72\", \"train_wall\": \"1264\", \"wall\": \"29351\"}\r\n",
      "[2021-06-06 19:58:07,926][fairseq_cli.train][INFO] - begin validation on \"valid\" subset\r\n"
     ]
    },
    {
     "name": "stdout",
     "output_type": "stream",
     "text": [
      "[2021-06-06 19:58:10,376][fairseq.tasks.unpaired_audio_text][INFO] - REF: ɛ n f œ ʂ ə n a d ɵ ʂ ə k t f øː r d eː t s ɔ m h ɛ n d ə p oː ɕ œ r k ɔ n s ɛ t ə n\r\n",
      "[2021-06-06 19:58:10,378][fairseq.tasks.unpaired_audio_text][INFO] - HYP: t ɛ s j œ r œ j œ b j uː œ j k ɵ uː ɵ v j n ə m œ k b ə uː s eː r n v oː n l ɪ ŋ k l ɪ l a d ɔ m k n t a\r\n",
      "[2021-06-06 19:58:10,383][fairseq.tasks.unpaired_audio_text][INFO] - LM [REF]: -53.44462585449219, 0.05339602260269112\r\n",
      "[2021-06-06 19:58:10,383][fairseq.tasks.unpaired_audio_text][INFO] - LM [HYP]: -93.2689437866211, 0.014831913385943822\r\n"
     ]
    },
    {
     "name": "stdout",
     "output_type": "stream",
     "text": [
      "[2021-06-06 19:58:10,873][valid][INFO] - {\"epoch\": 4900, \"valid_loss\": \"1.005\", \"valid_ntokens\": \"3039.79\", \"valid_nsentences\": \"144.214\", \"valid_lm_score_sum\": \"-89781.8\", \"valid_num_pred_chars\": \"48319\", \"valid_vocab_seen_pct\": \"0.881533\", \"valid_uer\": \"100.524\", \"valid_weighted_lm_ppl\": \"78.1812\", \"valid_lm_ppl\": \"60.7547\", \"valid_wps\": \"19139.5\", \"valid_wpb\": \"3039.8\", \"valid_bsz\": \"144.2\", \"valid_num_updates\": \"78400\", \"valid_best_weighted_lm_ppl\": \"73.4256\"}\r\n",
      "[2021-06-06 19:58:10,876][fairseq.checkpoint_utils][INFO] - Preparing to save checkpoint for epoch 4900 @ 78400 updates\r\n",
      "[2021-06-06 19:58:10,878][fairseq.trainer][INFO] - Saving checkpoint to /kaggle/working/checkpoint4900.pt\r\n"
     ]
    },
    {
     "name": "stdout",
     "output_type": "stream",
     "text": [
      "[2021-06-06 19:58:10,916][fairseq.trainer][INFO] - Finished saving checkpoint to /kaggle/working/checkpoint4900.pt\r\n",
      "[2021-06-06 19:58:10,945][fairseq.checkpoint_utils][INFO] - Saved checkpoint /kaggle/working/checkpoint4900.pt (epoch 4900 @ 78400 updates, score 78.18119618250876) (writing took 0.0690283570002066 seconds)\r\n",
      "[2021-06-06 19:58:10,948][fairseq_cli.train][INFO] - end of epoch 4900 (average epoch stats below)\r\n",
      "[2021-06-06 19:58:10,951][train][INFO] - {\"epoch\": 4900, \"train_loss\": \"2.871\", \"train_ntokens\": \"145.688\", \"train_nsentences\": \"145.688\", \"train_temp\": \"0.1\", \"train_code_ppl\": \"9.101\", \"train_loss_code_pen\": \"0.33\", \"train_loss_smoothness\": \"2.051\", \"train_loss_dense_g\": \"3.81\", \"train_lm_score_sum\": 0.0, \"train_num_pred_chars\": 0.0, \"train_loss_grad_pen\": \"0.091\", \"train_loss_dense_d\": \"0.029\", \"train_loss_token_d\": \"0.024\", \"train_wps\": \"10.5\", \"train_ups\": \"0.07\", \"train_wpb\": \"145.7\", \"train_bsz\": \"145.7\", \"train_num_updates\": \"78400\", \"train_lr_discriminator\": \"0.0005\", \"train_lr_generator\": \"0.0004\", \"train_gnorm\": \"28.333\", \"train_clip\": \"62.5\", \"train_train_wall\": \"219\", \"train_wall\": \"29354\"}\r\n"
     ]
    },
    {
     "name": "stdout",
     "output_type": "stream",
     "text": [
      "[2021-06-06 19:58:11,013][fairseq.trainer][INFO] - begin training epoch 4901\r\n",
      "[2021-06-06 19:58:11,015][fairseq_cli.train][INFO] - Start iterating over samples\r\n"
     ]
    },
    {
     "name": "stdout",
     "output_type": "stream",
     "text": [
      "[2021-06-06 20:01:39,705][fairseq_cli.train][INFO] - begin validation on \"valid\" subset\r\n"
     ]
    },
    {
     "name": "stdout",
     "output_type": "stream",
     "text": [
      "[2021-06-06 20:01:42,186][fairseq.tasks.unpaired_audio_text][INFO] - REF: ɛ n f œ ʂ ə n a d ɵ ʂ ə k t f øː r d eː t s ɔ m h ɛ n d ə p oː ɕ œ r k ɔ n s ɛ t ə n\r\n",
      "[2021-06-06 20:01:42,189][fairseq.tasks.unpaired_audio_text][INFO] - HYP: n ɛ s j œ r œ j œ s b j uː œ j k ɵ uː ɵ v n ə m œ k b ə uː s yː r n v oː s l ɪ ŋ k l ɪ l a d m t n t a\r\n",
      "[2021-06-06 20:01:42,193][fairseq.tasks.unpaired_audio_text][INFO] - LM [REF]: -53.44462585449219, 0.05339602260269112\r\n",
      "[2021-06-06 20:01:42,193][fairseq.tasks.unpaired_audio_text][INFO] - LM [HYP]: -93.24516296386719, 0.013648871364514528\r\n"
     ]
    },
    {
     "name": "stdout",
     "output_type": "stream",
     "text": [
      "[2021-06-06 20:01:42,682][valid][INFO] - {\"epoch\": 4901, \"valid_loss\": \"1.006\", \"valid_ntokens\": \"3039.79\", \"valid_nsentences\": \"144.214\", \"valid_lm_score_sum\": \"-89916.8\", \"valid_num_pred_chars\": \"48442\", \"valid_vocab_seen_pct\": \"0.878049\", \"valid_uer\": \"100.592\", \"valid_weighted_lm_ppl\": \"78.5\", \"valid_lm_ppl\": \"60.5211\", \"valid_wps\": \"18990.4\", \"valid_wpb\": \"3039.8\", \"valid_bsz\": \"144.2\", \"valid_num_updates\": \"78416\", \"valid_best_weighted_lm_ppl\": \"73.4256\"}\r\n",
      "[2021-06-06 20:01:42,686][fairseq.checkpoint_utils][INFO] - Preparing to save checkpoint for epoch 4901 @ 78416 updates\r\n",
      "[2021-06-06 20:01:42,687][fairseq.trainer][INFO] - Saving checkpoint to /kaggle/working/checkpoint4901.pt\r\n"
     ]
    },
    {
     "name": "stdout",
     "output_type": "stream",
     "text": [
      "[2021-06-06 20:01:42,724][fairseq.trainer][INFO] - Finished saving checkpoint to /kaggle/working/checkpoint4901.pt\r\n",
      "[2021-06-06 20:01:42,754][fairseq.checkpoint_utils][INFO] - Saved checkpoint /kaggle/working/checkpoint4901.pt (epoch 4901 @ 78416 updates, score 78.49996520869611) (writing took 0.0685567530017579 seconds)\r\n",
      "[2021-06-06 20:01:42,758][fairseq_cli.train][INFO] - end of epoch 4901 (average epoch stats below)\r\n",
      "[2021-06-06 20:01:42,760][train][INFO] - {\"epoch\": 4901, \"train_loss\": \"3.132\", \"train_ntokens\": \"145.688\", \"train_nsentences\": \"145.688\", \"train_temp\": \"0.1\", \"train_code_ppl\": \"8.954\", \"train_loss_code_pen\": \"0.317\", \"train_loss_smoothness\": \"2.033\", \"train_loss_dense_g\": \"4.034\", \"train_lm_score_sum\": 0.0, \"train_num_pred_chars\": 0.0, \"train_loss_grad_pen\": \"0.056\", \"train_loss_dense_d\": \"0.024\", \"train_loss_token_d\": \"0.027\", \"train_wps\": \"11\", \"train_ups\": \"0.08\", \"train_wpb\": \"145.7\", \"train_bsz\": \"145.7\", \"train_num_updates\": \"78416\", \"train_lr_discriminator\": \"0.0005\", \"train_lr_generator\": \"0.0004\", \"train_gnorm\": \"27.41\", \"train_clip\": \"56.2\", \"train_train_wall\": \"208\", \"train_wall\": \"29566\"}\r\n"
     ]
    },
    {
     "name": "stdout",
     "output_type": "stream",
     "text": [
      "[2021-06-06 20:01:42,824][fairseq.trainer][INFO] - begin training epoch 4902\r\n",
      "[2021-06-06 20:01:42,826][fairseq_cli.train][INFO] - Start iterating over samples\r\n"
     ]
    },
    {
     "name": "stdout",
     "output_type": "stream",
     "text": [
      "[2021-06-06 20:05:01,344][fairseq_cli.train][INFO] - begin validation on \"valid\" subset\r\n"
     ]
    },
    {
     "name": "stdout",
     "output_type": "stream",
     "text": [
      "[2021-06-06 20:05:03,881][fairseq.tasks.unpaired_audio_text][INFO] - REF: ɛ n f œ ʂ ə n a d ɵ ʂ ə k t f øː r d eː t s ɔ m h ɛ n d ə p oː ɕ œ r k ɔ n s ɛ t ə n\r\n",
      "[2021-06-06 20:05:03,883][fairseq.tasks.unpaired_audio_text][INFO] - HYP: n ɛ s j œ r œ j œ b j uː œ j yː k ɵ uː ɵ j n ə m ɔ k b ə uː s eː r n v oː s l ɪ ŋ k l ɪ l a d m t n t a\r\n"
     ]
    },
    {
     "name": "stdout",
     "output_type": "stream",
     "text": [
      "[2021-06-06 20:05:03,888][fairseq.tasks.unpaired_audio_text][INFO] - LM [REF]: -53.44462585449219, 0.05339602260269112\r\n",
      "[2021-06-06 20:05:03,888][fairseq.tasks.unpaired_audio_text][INFO] - LM [HYP]: -90.40524291992188, 0.0155558999623346\r\n"
     ]
    },
    {
     "name": "stdout",
     "output_type": "stream",
     "text": [
      "[2021-06-06 20:05:04,374][valid][INFO] - {\"epoch\": 4902, \"valid_loss\": \"1.004\", \"valid_ntokens\": \"3039.79\", \"valid_nsentences\": \"144.214\", \"valid_lm_score_sum\": \"-89755\", \"valid_num_pred_chars\": \"48391\", \"valid_vocab_seen_pct\": \"0.885017\", \"valid_uer\": \"100.407\", \"valid_weighted_lm_ppl\": \"77.0187\", \"valid_lm_ppl\": \"60.3253\", \"valid_wps\": \"19056.9\", \"valid_wpb\": \"3039.8\", \"valid_bsz\": \"144.2\", \"valid_num_updates\": \"78432\", \"valid_best_weighted_lm_ppl\": \"73.4256\"}\r\n",
      "[2021-06-06 20:05:04,377][fairseq.checkpoint_utils][INFO] - Preparing to save checkpoint for epoch 4902 @ 78432 updates\r\n",
      "[2021-06-06 20:05:04,379][fairseq.trainer][INFO] - Saving checkpoint to /kaggle/working/checkpoint4902.pt\r\n"
     ]
    },
    {
     "name": "stdout",
     "output_type": "stream",
     "text": [
      "[2021-06-06 20:05:04,415][fairseq.trainer][INFO] - Finished saving checkpoint to /kaggle/working/checkpoint4902.pt\r\n"
     ]
    },
    {
     "name": "stdout",
     "output_type": "stream",
     "text": [
      "[2021-06-06 20:05:04,445][fairseq.checkpoint_utils][INFO] - Saved checkpoint /kaggle/working/checkpoint4902.pt (epoch 4902 @ 78432 updates, score 77.01866985992368) (writing took 0.06731726799989701 seconds)\r\n",
      "[2021-06-06 20:05:04,448][fairseq_cli.train][INFO] - end of epoch 4902 (average epoch stats below)\r\n",
      "[2021-06-06 20:05:04,452][train][INFO] - {\"epoch\": 4902, \"train_loss\": \"3.334\", \"train_ntokens\": \"145.688\", \"train_nsentences\": \"145.688\", \"train_temp\": \"0.1\", \"train_code_ppl\": \"8.736\", \"train_loss_code_pen\": \"0.309\", \"train_loss_smoothness\": \"2.002\", \"train_loss_dense_g\": \"4.012\", \"train_lm_score_sum\": 0.0, \"train_num_pred_chars\": 0.0, \"train_loss_grad_pen\": \"0.066\", \"train_loss_dense_d\": \"0.027\", \"train_loss_token_d\": \"0.027\", \"train_wps\": \"11.6\", \"train_ups\": \"0.08\", \"train_wpb\": \"145.7\", \"train_bsz\": \"145.7\", \"train_num_updates\": \"78432\", \"train_lr_discriminator\": \"0.0005\", \"train_lr_generator\": \"0.0004\", \"train_gnorm\": \"31.063\", \"train_clip\": \"68.8\", \"train_train_wall\": \"198\", \"train_wall\": \"29767\"}\r\n"
     ]
    },
    {
     "name": "stdout",
     "output_type": "stream",
     "text": [
      "[2021-06-06 20:05:04,511][fairseq.trainer][INFO] - begin training epoch 4903\r\n",
      "[2021-06-06 20:05:04,512][fairseq_cli.train][INFO] - Start iterating over samples\r\n"
     ]
    },
    {
     "name": "stdout",
     "output_type": "stream",
     "text": [
      "[2021-06-06 20:08:27,325][fairseq_cli.train][INFO] - begin validation on \"valid\" subset\r\n"
     ]
    },
    {
     "name": "stdout",
     "output_type": "stream",
     "text": [
      "[2021-06-06 20:08:29,857][fairseq.tasks.unpaired_audio_text][INFO] - REF: ɛ n f œ ʂ ə n a d ɵ ʂ ə k t f øː r d eː t s ɔ m h ɛ n d ə p oː ɕ œ r k ɔ n s ɛ t ə n\r\n",
      "[2021-06-06 20:08:29,860][fairseq.tasks.unpaired_audio_text][INFO] - HYP: t ɛ s j œ r œ j œ b j uː œ j yː k ɵ uː ɵ v j m n ə m œ k b ə uː s eː r n v oː s l ɪ ŋ k l ɪ l a d m k n t a\r\n",
      "[2021-06-06 20:08:29,864][fairseq.tasks.unpaired_audio_text][INFO] - LM [REF]: -53.44462585449219, 0.05339602260269112\r\n",
      "[2021-06-06 20:08:29,865][fairseq.tasks.unpaired_audio_text][INFO] - LM [HYP]: -97.27313232421875, 0.013469852495637518\r\n"
     ]
    },
    {
     "name": "stdout",
     "output_type": "stream",
     "text": [
      "[2021-06-06 20:08:30,355][valid][INFO] - {\"epoch\": 4903, \"valid_loss\": \"1.004\", \"valid_ntokens\": \"3039.79\", \"valid_nsentences\": \"144.214\", \"valid_lm_score_sum\": \"-90075.3\", \"valid_num_pred_chars\": \"48554\", \"valid_vocab_seen_pct\": \"0.881533\", \"valid_uer\": \"100.428\", \"valid_weighted_lm_ppl\": \"77.7353\", \"valid_lm_ppl\": \"60.4081\", \"valid_wps\": \"18873.7\", \"valid_wpb\": \"3039.8\", \"valid_bsz\": \"144.2\", \"valid_num_updates\": \"78448\", \"valid_best_weighted_lm_ppl\": \"73.4256\"}\r\n",
      "[2021-06-06 20:08:30,358][fairseq.checkpoint_utils][INFO] - Preparing to save checkpoint for epoch 4903 @ 78448 updates\r\n",
      "[2021-06-06 20:08:30,360][fairseq.trainer][INFO] - Saving checkpoint to /kaggle/working/checkpoint4903.pt\r\n"
     ]
    },
    {
     "name": "stdout",
     "output_type": "stream",
     "text": [
      "[2021-06-06 20:08:30,397][fairseq.trainer][INFO] - Finished saving checkpoint to /kaggle/working/checkpoint4903.pt\r\n",
      "[2021-06-06 20:08:30,426][fairseq.checkpoint_utils][INFO] - Saved checkpoint /kaggle/working/checkpoint4903.pt (epoch 4903 @ 78448 updates, score 77.73526593044924) (writing took 0.06762629700097023 seconds)\r\n",
      "[2021-06-06 20:08:30,429][fairseq_cli.train][INFO] - end of epoch 4903 (average epoch stats below)\r\n"
     ]
    },
    {
     "name": "stdout",
     "output_type": "stream",
     "text": [
      "[2021-06-06 20:08:30,433][train][INFO] - {\"epoch\": 4903, \"train_loss\": \"3.341\", \"train_ntokens\": \"145.688\", \"train_nsentences\": \"145.688\", \"train_temp\": \"0.1\", \"train_code_ppl\": \"8.865\", \"train_loss_code_pen\": \"0.312\", \"train_loss_smoothness\": \"2.011\", \"train_loss_dense_g\": \"3.974\", \"train_lm_score_sum\": 0.0, \"train_num_pred_chars\": 0.0, \"train_loss_grad_pen\": \"0.103\", \"train_loss_dense_d\": \"0.034\", \"train_loss_token_d\": \"0.025\", \"train_wps\": \"11.3\", \"train_ups\": \"0.08\", \"train_wpb\": \"145.7\", \"train_bsz\": \"145.7\", \"train_num_updates\": \"78448\", \"train_lr_discriminator\": \"0.0005\", \"train_lr_generator\": \"0.0004\", \"train_gnorm\": \"28.879\", \"train_clip\": \"81.2\", \"train_train_wall\": \"202\", \"train_wall\": \"29973\"}\r\n"
     ]
    },
    {
     "name": "stdout",
     "output_type": "stream",
     "text": [
      "[2021-06-06 20:08:30,489][fairseq.trainer][INFO] - begin training epoch 4904\r\n",
      "[2021-06-06 20:08:30,490][fairseq_cli.train][INFO] - Start iterating over samples\r\n"
     ]
    },
    {
     "name": "stdout",
     "output_type": "stream",
     "text": [
      "[2021-06-06 20:11:50,645][fairseq_cli.train][INFO] - begin validation on \"valid\" subset\r\n"
     ]
    },
    {
     "name": "stdout",
     "output_type": "stream",
     "text": [
      "[2021-06-06 20:11:53,162][fairseq.tasks.unpaired_audio_text][INFO] - REF: ɛ n f œ ʂ ə n a d ɵ ʂ ə k t f øː r d eː t s ɔ m h ɛ n d ə p oː ɕ œ r k ɔ n s ɛ t ə n\r\n",
      "[2021-06-06 20:11:53,164][fairseq.tasks.unpaired_audio_text][INFO] - HYP: t ɛ s j œ r œ j œ b j œ j yː k ɵ uː ɵ v j n ə m œ k b ə uː s eː r n v oː n l ɪ ŋ k l ɪ l a d ɔ m k n t a\r\n",
      "[2021-06-06 20:11:53,169][fairseq.tasks.unpaired_audio_text][INFO] - LM [REF]: -53.44462585449219, 0.05339602260269112\r\n",
      "[2021-06-06 20:11:53,169][fairseq.tasks.unpaired_audio_text][INFO] - LM [HYP]: -92.69462585449219, 0.015221530301924014\r\n"
     ]
    },
    {
     "name": "stdout",
     "output_type": "stream",
     "text": [
      "[2021-06-06 20:11:53,653][valid][INFO] - {\"epoch\": 4904, \"valid_loss\": \"1.002\", \"valid_ntokens\": \"3039.79\", \"valid_nsentences\": \"144.214\", \"valid_lm_score_sum\": \"-89478.9\", \"valid_num_pred_chars\": \"48262\", \"valid_vocab_seen_pct\": \"0.885017\", \"valid_uer\": \"100.193\", \"valid_weighted_lm_ppl\": \"76.8552\", \"valid_lm_ppl\": \"60.1973\", \"valid_wps\": \"19089.4\", \"valid_wpb\": \"3039.8\", \"valid_bsz\": \"144.2\", \"valid_num_updates\": \"78464\", \"valid_best_weighted_lm_ppl\": \"73.4256\"}\r\n",
      "[2021-06-06 20:11:53,657][fairseq.checkpoint_utils][INFO] - Preparing to save checkpoint for epoch 4904 @ 78464 updates\r\n",
      "[2021-06-06 20:11:53,658][fairseq.trainer][INFO] - Saving checkpoint to /kaggle/working/checkpoint4904.pt\r\n"
     ]
    },
    {
     "name": "stdout",
     "output_type": "stream",
     "text": [
      "[2021-06-06 20:11:53,695][fairseq.trainer][INFO] - Finished saving checkpoint to /kaggle/working/checkpoint4904.pt\r\n",
      "[2021-06-06 20:11:53,726][fairseq.checkpoint_utils][INFO] - Saved checkpoint /kaggle/working/checkpoint4904.pt (epoch 4904 @ 78464 updates, score 76.85519397408933) (writing took 0.06930773499698262 seconds)\r\n",
      "[2021-06-06 20:11:53,729][fairseq_cli.train][INFO] - end of epoch 4904 (average epoch stats below)\r\n",
      "[2021-06-06 20:11:53,732][train][INFO] - {\"epoch\": 4904, \"train_loss\": \"3.341\", \"train_ntokens\": \"145.688\", \"train_nsentences\": \"145.688\", \"train_temp\": \"0.1\", \"train_code_ppl\": \"8.896\", \"train_loss_code_pen\": \"0.322\", \"train_loss_smoothness\": \"2.041\", \"train_loss_dense_g\": \"3.953\", \"train_lm_score_sum\": 0.0, \"train_num_pred_chars\": 0.0, \"train_loss_grad_pen\": \"0.09\", \"train_loss_dense_d\": \"0.03\", \"train_loss_token_d\": \"0.023\", \"train_wps\": \"11.5\", \"train_ups\": \"0.08\", \"train_wpb\": \"145.7\", \"train_bsz\": \"145.7\", \"train_num_updates\": \"78464\", \"train_lr_discriminator\": \"0.0005\", \"train_lr_generator\": \"0.0004\", \"train_gnorm\": \"28.966\", \"train_clip\": \"75\", \"train_train_wall\": \"200\", \"train_wall\": \"30177\"}\r\n"
     ]
    },
    {
     "name": "stdout",
     "output_type": "stream",
     "text": [
      "[2021-06-06 20:11:53,791][fairseq.trainer][INFO] - begin training epoch 4905\r\n",
      "[2021-06-06 20:11:53,792][fairseq_cli.train][INFO] - Start iterating over samples\r\n"
     ]
    },
    {
     "name": "stdout",
     "output_type": "stream",
     "text": [
      "[2021-06-06 20:15:35,900][fairseq_cli.train][INFO] - begin validation on \"valid\" subset\r\n"
     ]
    },
    {
     "name": "stdout",
     "output_type": "stream",
     "text": [
      "[2021-06-06 20:15:38,587][fairseq.tasks.unpaired_audio_text][INFO] - REF: ɛ n f œ ʂ ə n a d ɵ ʂ ə k t f øː r d eː t s ɔ m h ɛ n d ə p oː ɕ œ r k ɔ n s ɛ t ə n\r\n",
      "[2021-06-06 20:15:38,590][fairseq.tasks.unpaired_audio_text][INFO] - HYP: n ɛ s j œ r œ j œ b j uː œ j yː k uː ɵ v j m n ə m ɔ k b ə uː s eː r n v oː s l ɪ ŋ k l ɪ l a s ɔ k m k l t a\r\n",
      "[2021-06-06 20:15:38,595][fairseq.tasks.unpaired_audio_text][INFO] - LM [REF]: -53.44462585449219, 0.05339602260269112\r\n",
      "[2021-06-06 20:15:38,595][fairseq.tasks.unpaired_audio_text][INFO] - LM [HYP]: -93.82546997070312, 0.016971026584230307\r\n"
     ]
    },
    {
     "name": "stdout",
     "output_type": "stream",
     "text": [
      "[2021-06-06 20:15:39,166][valid][INFO] - {\"epoch\": 4905, \"valid_loss\": \"1.006\", \"valid_ntokens\": \"3039.79\", \"valid_nsentences\": \"144.214\", \"valid_lm_score_sum\": \"-89872.3\", \"valid_num_pred_chars\": \"48533\", \"valid_vocab_seen_pct\": \"0.888502\", \"valid_uer\": \"100.597\", \"valid_weighted_lm_ppl\": \"75.9456\", \"valid_lm_ppl\": \"59.9541\", \"valid_wps\": \"17328.6\", \"valid_wpb\": \"3039.8\", \"valid_bsz\": \"144.2\", \"valid_num_updates\": \"78480\", \"valid_best_weighted_lm_ppl\": \"73.4256\"}\r\n",
      "[2021-06-06 20:15:39,169][fairseq.checkpoint_utils][INFO] - Preparing to save checkpoint for epoch 4905 @ 78480 updates\r\n",
      "[2021-06-06 20:15:39,170][fairseq.trainer][INFO] - Saving checkpoint to /kaggle/working/checkpoint4905.pt\r\n"
     ]
    },
    {
     "name": "stdout",
     "output_type": "stream",
     "text": [
      "[2021-06-06 20:15:39,208][fairseq.trainer][INFO] - Finished saving checkpoint to /kaggle/working/checkpoint4905.pt\r\n"
     ]
    },
    {
     "name": "stdout",
     "output_type": "stream",
     "text": [
      "[2021-06-06 20:15:39,240][fairseq.checkpoint_utils][INFO] - Saved checkpoint /kaggle/working/checkpoint4905.pt (epoch 4905 @ 78480 updates, score 75.94557179229619) (writing took 0.07064455499858013 seconds)\r\n",
      "[2021-06-06 20:15:39,243][fairseq_cli.train][INFO] - end of epoch 4905 (average epoch stats below)\r\n",
      "[2021-06-06 20:15:39,247][train][INFO] - {\"epoch\": 4905, \"train_loss\": \"2.952\", \"train_ntokens\": \"145.688\", \"train_nsentences\": \"145.688\", \"train_temp\": \"0.1\", \"train_code_ppl\": \"9.053\", \"train_loss_code_pen\": \"0.33\", \"train_loss_smoothness\": \"2.06\", \"train_loss_dense_g\": \"4.029\", \"train_lm_score_sum\": 0.0, \"train_num_pred_chars\": 0.0, \"train_loss_grad_pen\": \"0.056\", \"train_loss_dense_d\": \"0.025\", \"train_loss_token_d\": \"0.024\", \"train_wps\": \"10.3\", \"train_ups\": \"0.07\", \"train_wpb\": \"145.7\", \"train_bsz\": \"145.7\", \"train_num_updates\": \"78480\", \"train_lr_discriminator\": \"0.0005\", \"train_lr_generator\": \"0.0004\", \"train_gnorm\": \"28.4\", \"train_clip\": \"62.5\", \"train_train_wall\": \"222\", \"train_wall\": \"30402\"}\r\n"
     ]
    },
    {
     "name": "stdout",
     "output_type": "stream",
     "text": [
      "[2021-06-06 20:15:39,309][fairseq.trainer][INFO] - begin training epoch 4906\r\n",
      "[2021-06-06 20:15:39,310][fairseq_cli.train][INFO] - Start iterating over samples\r\n"
     ]
    },
    {
     "name": "stdout",
     "output_type": "stream",
     "text": [
      "[2021-06-06 20:18:47,362][fairseq_cli.train][INFO] - begin validation on \"valid\" subset\r\n"
     ]
    },
    {
     "name": "stdout",
     "output_type": "stream",
     "text": [
      "[2021-06-06 20:18:49,960][fairseq.tasks.unpaired_audio_text][INFO] - REF: ɛ n f œ ʂ ə n a d ɵ ʂ ə k t f øː r d eː t s ɔ m h ɛ n d ə p oː ɕ œ r k ɔ n s ɛ t ə n\r\n",
      "[2021-06-06 20:18:49,963][fairseq.tasks.unpaired_audio_text][INFO] - HYP: t ɛ s j œ r œ j œ b j uː œ j yː k ɵ uː ɵ v j m n ə m œ k b ə uː s eː r n v oː s l ɪ ŋ k l ɪ l a s d m k s t a\r\n",
      "[2021-06-06 20:18:49,968][fairseq.tasks.unpaired_audio_text][INFO] - LM [REF]: -53.44462585449219, 0.05339602260269112\r\n",
      "[2021-06-06 20:18:49,968][fairseq.tasks.unpaired_audio_text][INFO] - LM [HYP]: -97.88684844970703, 0.014225853473247292\r\n"
     ]
    },
    {
     "name": "stdout",
     "output_type": "stream",
     "text": [
      "[2021-06-06 20:18:50,465][valid][INFO] - {\"epoch\": 4906, \"valid_loss\": \"1.003\", \"valid_ntokens\": \"3039.79\", \"valid_nsentences\": \"144.214\", \"valid_lm_score_sum\": \"-89801.9\", \"valid_num_pred_chars\": \"48404\", \"valid_vocab_seen_pct\": \"0.893728\", \"valid_uer\": \"100.338\", \"valid_weighted_lm_ppl\": \"75.6066\", \"valid_lm_ppl\": \"60.3907\", \"valid_wps\": \"18411.7\", \"valid_wpb\": \"3039.8\", \"valid_bsz\": \"144.2\", \"valid_num_updates\": \"78496\", \"valid_best_weighted_lm_ppl\": \"73.4256\"}\r\n",
      "[2021-06-06 20:18:50,469][fairseq.checkpoint_utils][INFO] - Preparing to save checkpoint for epoch 4906 @ 78496 updates\r\n",
      "[2021-06-06 20:18:50,470][fairseq.trainer][INFO] - Saving checkpoint to /kaggle/working/checkpoint4906.pt\r\n"
     ]
    },
    {
     "name": "stdout",
     "output_type": "stream",
     "text": [
      "[2021-06-06 20:18:50,511][fairseq.trainer][INFO] - Finished saving checkpoint to /kaggle/working/checkpoint4906.pt\r\n"
     ]
    },
    {
     "name": "stdout",
     "output_type": "stream",
     "text": [
      "[2021-06-06 20:18:50,542][fairseq.checkpoint_utils][INFO] - Saved checkpoint /kaggle/working/checkpoint4906.pt (epoch 4906 @ 78496 updates, score 75.60655700978143) (writing took 0.07359746099973563 seconds)\r\n",
      "[2021-06-06 20:18:50,546][fairseq_cli.train][INFO] - end of epoch 4906 (average epoch stats below)\r\n",
      "[2021-06-06 20:18:50,550][train][INFO] - {\"epoch\": 4906, \"train_loss\": \"3.661\", \"train_ntokens\": \"145.688\", \"train_nsentences\": \"145.688\", \"train_temp\": \"0.1\", \"train_code_ppl\": \"9.071\", \"train_loss_code_pen\": \"0.339\", \"train_loss_smoothness\": \"2.125\", \"train_loss_dense_g\": \"4.06\", \"train_lm_score_sum\": 0.0, \"train_num_pred_chars\": 0.0, \"train_loss_grad_pen\": \"0.116\", \"train_loss_dense_d\": \"0.028\", \"train_loss_token_d\": \"0.029\", \"train_wps\": \"12.2\", \"train_ups\": \"0.08\", \"train_wpb\": \"145.7\", \"train_bsz\": \"145.7\", \"train_num_updates\": \"78496\", \"train_lr_discriminator\": \"0.0005\", \"train_lr_generator\": \"0.0004\", \"train_gnorm\": \"37.858\", \"train_clip\": \"75\", \"train_train_wall\": \"187\", \"train_wall\": \"30594\"}\r\n"
     ]
    },
    {
     "name": "stdout",
     "output_type": "stream",
     "text": [
      "[2021-06-06 20:18:50,606][fairseq.trainer][INFO] - begin training epoch 4907\r\n",
      "[2021-06-06 20:18:50,608][fairseq_cli.train][INFO] - Start iterating over samples\r\n"
     ]
    },
    {
     "name": "stdout",
     "output_type": "stream",
     "text": [
      "[2021-06-06 20:19:46,907][train_inner][INFO] - {\"epoch\": 4907, \"update\": 4906.25, \"loss\": \"3.304\", \"ntokens\": \"146.26\", \"nsentences\": \"146.26\", \"temp\": \"0.1\", \"code_ppl\": \"8.916\", \"loss_code_pen\": \"0.322\", \"loss_smoothness\": \"2.05\", \"loss_dense_g\": \"4.03\", \"lm_score_sum\": 0.0, \"num_pred_chars\": 0.0, \"loss_grad_pen\": \"0.079\", \"loss_dense_d\": \"0.028\", \"loss_token_d\": \"0.026\", \"wps\": \"11.3\", \"ups\": \"0.08\", \"wpb\": \"146.3\", \"bsz\": \"146.3\", \"num_updates\": \"78500\", \"lr_discriminator\": \"0.0005\", \"lr_generator\": \"0.0004\", \"gnorm\": \"30.321\", \"clip\": \"69\", \"train_wall\": \"1273\", \"wall\": \"30650\"}\r\n"
     ]
    },
    {
     "name": "stdout",
     "output_type": "stream",
     "text": [
      "[2021-06-06 20:22:10,262][fairseq_cli.train][INFO] - begin validation on \"valid\" subset\r\n"
     ]
    },
    {
     "name": "stdout",
     "output_type": "stream",
     "text": [
      "[2021-06-06 20:22:12,969][fairseq.tasks.unpaired_audio_text][INFO] - REF: ɛ n f œ ʂ ə n a d ɵ ʂ ə k t f øː r d eː t s ɔ m h ɛ n d ə p oː ɕ œ r k ɔ n s ɛ t ə n\r\n",
      "[2021-06-06 20:22:12,972][fairseq.tasks.unpaired_audio_text][INFO] - HYP: t ɛ s j œ r œ j œ b j uː œ j yː k ɵ uː ɵ øː j m n ə m œ k b ə uː s eː r n v oː s l ɪ ŋ k l ɪ l a s ɔ m k l t a\r\n",
      "[2021-06-06 20:22:12,976][fairseq.tasks.unpaired_audio_text][INFO] - LM [REF]: -53.44462585449219, 0.05339602260269112\r\n",
      "[2021-06-06 20:22:12,977][fairseq.tasks.unpaired_audio_text][INFO] - LM [HYP]: -94.23780822753906, 0.016669713918981297\r\n"
     ]
    },
    {
     "name": "stdout",
     "output_type": "stream",
     "text": [
      "[2021-06-06 20:22:13,473][valid][INFO] - {\"epoch\": 4907, \"valid_loss\": \"1.006\", \"valid_ntokens\": \"3039.79\", \"valid_nsentences\": \"144.214\", \"valid_lm_score_sum\": \"-89841\", \"valid_num_pred_chars\": \"48369\", \"valid_vocab_seen_pct\": \"0.897213\", \"valid_uer\": \"100.552\", \"valid_weighted_lm_ppl\": \"75.3691\", \"valid_lm_ppl\": \"60.6714\", \"valid_wps\": \"17309.7\", \"valid_wpb\": \"3039.8\", \"valid_bsz\": \"144.2\", \"valid_num_updates\": \"78512\", \"valid_best_weighted_lm_ppl\": \"73.4256\"}\r\n",
      "[2021-06-06 20:22:13,477][fairseq.checkpoint_utils][INFO] - Preparing to save checkpoint for epoch 4907 @ 78512 updates\r\n",
      "[2021-06-06 20:22:13,478][fairseq.trainer][INFO] - Saving checkpoint to /kaggle/working/checkpoint4907.pt\r\n",
      "[2021-06-06 20:22:13,516][fairseq.trainer][INFO] - Finished saving checkpoint to /kaggle/working/checkpoint4907.pt\r\n"
     ]
    },
    {
     "name": "stdout",
     "output_type": "stream",
     "text": [
      "[2021-06-06 20:22:13,549][fairseq.checkpoint_utils][INFO] - Saved checkpoint /kaggle/working/checkpoint4907.pt (epoch 4907 @ 78512 updates, score 75.36909598974484) (writing took 0.07229061399993952 seconds)\r\n",
      "[2021-06-06 20:22:13,552][fairseq_cli.train][INFO] - end of epoch 4907 (average epoch stats below)\r\n",
      "[2021-06-06 20:22:13,555][train][INFO] - {\"epoch\": 4907, \"train_loss\": \"3.503\", \"train_ntokens\": \"145.688\", \"train_nsentences\": \"145.688\", \"train_temp\": \"0.1\", \"train_code_ppl\": \"9.074\", \"train_loss_code_pen\": \"0.341\", \"train_loss_smoothness\": \"2.112\", \"train_loss_dense_g\": \"4.118\", \"train_lm_score_sum\": 0.0, \"train_num_pred_chars\": 0.0, \"train_loss_grad_pen\": \"0.099\", \"train_loss_dense_d\": \"0.039\", \"train_loss_token_d\": \"0.066\", \"train_wps\": \"11.5\", \"train_ups\": \"0.08\", \"train_wpb\": \"145.7\", \"train_bsz\": \"145.7\", \"train_num_updates\": \"78512\", \"train_lr_discriminator\": \"0.0005\", \"train_lr_generator\": \"0.0004\", \"train_gnorm\": \"32.761\", \"train_clip\": \"81.2\", \"train_train_wall\": \"199\", \"train_wall\": \"30797\"}\r\n"
     ]
    },
    {
     "name": "stdout",
     "output_type": "stream",
     "text": [
      "[2021-06-06 20:22:13,613][fairseq.trainer][INFO] - begin training epoch 4908\r\n",
      "[2021-06-06 20:22:13,614][fairseq_cli.train][INFO] - Start iterating over samples\r\n"
     ]
    },
    {
     "name": "stdout",
     "output_type": "stream",
     "text": [
      "[2021-06-06 20:25:56,679][fairseq_cli.train][INFO] - begin validation on \"valid\" subset\r\n"
     ]
    },
    {
     "name": "stdout",
     "output_type": "stream",
     "text": [
      "[2021-06-06 20:25:59,280][fairseq.tasks.unpaired_audio_text][INFO] - REF: ɛ n f œ ʂ ə n a d ɵ ʂ ə k t f øː r d eː t s ɔ m h ɛ n d ə p oː ɕ œ r k ɔ n s ɛ t ə n\r\n",
      "[2021-06-06 20:25:59,282][fairseq.tasks.unpaired_audio_text][INFO] - HYP: t ɕ ɛ s j œ r œ j œ b j uː œ j yː k ɵ uː ɵ øː n ə m œ k b uː s eː r n v oː s l ɪ ŋ k l ɪ l a s ɔ m k l t a\r\n",
      "[2021-06-06 20:25:59,287][fairseq.tasks.unpaired_audio_text][INFO] - LM [REF]: -53.44462585449219, 0.05339602260269112\r\n",
      "[2021-06-06 20:25:59,287][fairseq.tasks.unpaired_audio_text][INFO] - LM [HYP]: -90.07215118408203, 0.01713481376575711\r\n"
     ]
    },
    {
     "name": "stdout",
     "output_type": "stream",
     "text": [
      "[2021-06-06 20:25:59,790][valid][INFO] - {\"epoch\": 4908, \"valid_loss\": \"1.002\", \"valid_ntokens\": \"3039.79\", \"valid_nsentences\": \"144.214\", \"valid_lm_score_sum\": \"-89560.3\", \"valid_num_pred_chars\": \"48213\", \"valid_vocab_seen_pct\": \"0.89547\", \"valid_uer\": \"100.247\", \"valid_weighted_lm_ppl\": \"75.6539\", \"valid_lm_ppl\": \"60.6644\", \"valid_wps\": \"18447.6\", \"valid_wpb\": \"3039.8\", \"valid_bsz\": \"144.2\", \"valid_num_updates\": \"78528\", \"valid_best_weighted_lm_ppl\": \"73.4256\"}\r\n",
      "[2021-06-06 20:25:59,793][fairseq.checkpoint_utils][INFO] - Preparing to save checkpoint for epoch 4908 @ 78528 updates\r\n",
      "[2021-06-06 20:25:59,794][fairseq.trainer][INFO] - Saving checkpoint to /kaggle/working/checkpoint4908.pt\r\n",
      "[2021-06-06 20:25:59,831][fairseq.trainer][INFO] - Finished saving checkpoint to /kaggle/working/checkpoint4908.pt\r\n"
     ]
    },
    {
     "name": "stdout",
     "output_type": "stream",
     "text": [
      "[2021-06-06 20:25:59,868][fairseq.checkpoint_utils][INFO] - Saved checkpoint /kaggle/working/checkpoint4908.pt (epoch 4908 @ 78528 updates, score 75.65391587310273) (writing took 0.0753731209988473 seconds)\r\n",
      "[2021-06-06 20:25:59,872][fairseq_cli.train][INFO] - end of epoch 4908 (average epoch stats below)\r\n",
      "[2021-06-06 20:25:59,875][train][INFO] - {\"epoch\": 4908, \"train_loss\": \"2.916\", \"train_ntokens\": \"145.688\", \"train_nsentences\": \"145.688\", \"train_temp\": \"0.1\", \"train_code_ppl\": \"8.938\", \"train_loss_code_pen\": \"0.324\", \"train_loss_smoothness\": \"2.048\", \"train_loss_dense_g\": \"3.966\", \"train_lm_score_sum\": 0.0, \"train_num_pred_chars\": 0.0, \"train_loss_grad_pen\": \"0.052\", \"train_loss_dense_d\": \"0.026\", \"train_loss_token_d\": \"0.029\", \"train_wps\": \"10.3\", \"train_ups\": \"0.07\", \"train_wpb\": \"145.7\", \"train_bsz\": \"145.7\", \"train_num_updates\": \"78528\", \"train_lr_discriminator\": \"0.0005\", \"train_lr_generator\": \"0.0004\", \"train_gnorm\": \"27.919\", \"train_clip\": \"62.5\", \"train_train_wall\": \"223\", \"train_wall\": \"31023\"}\r\n"
     ]
    },
    {
     "name": "stdout",
     "output_type": "stream",
     "text": [
      "[2021-06-06 20:25:59,934][fairseq.trainer][INFO] - begin training epoch 4909\r\n",
      "[2021-06-06 20:25:59,935][fairseq_cli.train][INFO] - Start iterating over samples\r\n"
     ]
    },
    {
     "name": "stdout",
     "output_type": "stream",
     "text": [
      "[2021-06-06 20:29:21,310][fairseq_cli.train][INFO] - begin validation on \"valid\" subset\r\n"
     ]
    },
    {
     "name": "stdout",
     "output_type": "stream",
     "text": [
      "[2021-06-06 20:29:23,849][fairseq.tasks.unpaired_audio_text][INFO] - REF: ɛ n f œ ʂ ə n a d ɵ ʂ ə k t f øː r d eː t s ɔ m h ɛ n d ə p oː ɕ œ r k ɔ n s ɛ t ə n\r\n",
      "[2021-06-06 20:29:23,852][fairseq.tasks.unpaired_audio_text][INFO] - HYP: t ɕ ɛ s j œ r œ b j uː œ j yː k ɵ uː ɵ v j n ə m œ k b uː s eː r n v oː s l ɪ ŋ k l ɪ l a s ɔ m t a\r\n",
      "[2021-06-06 20:29:23,856][fairseq.tasks.unpaired_audio_text][INFO] - LM [REF]: -53.44462585449219, 0.05339602260269112\r\n",
      "[2021-06-06 20:29:23,856][fairseq.tasks.unpaired_audio_text][INFO] - LM [HYP]: -86.45731353759766, 0.015805417345462956\r\n"
     ]
    },
    {
     "name": "stdout",
     "output_type": "stream",
     "text": [
      "[2021-06-06 20:29:24,353][valid][INFO] - {\"epoch\": 4909, \"valid_loss\": \"1.005\", \"valid_ntokens\": \"3039.79\", \"valid_nsentences\": \"144.214\", \"valid_lm_score_sum\": \"-89889.2\", \"valid_num_pred_chars\": \"48472\", \"valid_vocab_seen_pct\": \"0.893728\", \"valid_uer\": \"100.475\", \"valid_weighted_lm_ppl\": \"75.4901\", \"valid_lm_ppl\": \"60.2977\", \"valid_wps\": \"18780.3\", \"valid_wpb\": \"3039.8\", \"valid_bsz\": \"144.2\", \"valid_num_updates\": \"78544\", \"valid_best_weighted_lm_ppl\": \"73.4256\"}\r\n",
      "[2021-06-06 20:29:24,357][fairseq.checkpoint_utils][INFO] - Preparing to save checkpoint for epoch 4909 @ 78544 updates\r\n",
      "[2021-06-06 20:29:24,358][fairseq.trainer][INFO] - Saving checkpoint to /kaggle/working/checkpoint4909.pt\r\n"
     ]
    },
    {
     "name": "stdout",
     "output_type": "stream",
     "text": [
      "[2021-06-06 20:29:24,397][fairseq.trainer][INFO] - Finished saving checkpoint to /kaggle/working/checkpoint4909.pt\r\n"
     ]
    },
    {
     "name": "stdout",
     "output_type": "stream",
     "text": [
      "[2021-06-06 20:29:24,426][fairseq.checkpoint_utils][INFO] - Saved checkpoint /kaggle/working/checkpoint4909.pt (epoch 4909 @ 78544 updates, score 75.49005966416522) (writing took 0.06939253999735229 seconds)\r\n",
      "[2021-06-06 20:29:24,430][fairseq_cli.train][INFO] - end of epoch 4909 (average epoch stats below)\r\n",
      "[2021-06-06 20:29:24,433][train][INFO] - {\"epoch\": 4909, \"train_loss\": \"3.678\", \"train_ntokens\": \"145.688\", \"train_nsentences\": \"145.688\", \"train_temp\": \"0.1\", \"train_code_ppl\": \"9.026\", \"train_loss_code_pen\": \"0.346\", \"train_loss_smoothness\": \"2.122\", \"train_loss_dense_g\": \"4.117\", \"train_lm_score_sum\": 0.0, \"train_num_pred_chars\": 0.0, \"train_loss_grad_pen\": \"0.079\", \"train_loss_dense_d\": \"0.029\", \"train_loss_token_d\": \"0.03\", \"train_wps\": \"11.4\", \"train_ups\": \"0.08\", \"train_wpb\": \"145.7\", \"train_bsz\": \"145.7\", \"train_num_updates\": \"78544\", \"train_lr_discriminator\": \"0.0005\", \"train_lr_generator\": \"0.0004\", \"train_gnorm\": \"30.322\", \"train_clip\": \"75\", \"train_train_wall\": \"201\", \"train_wall\": \"31227\"}\r\n"
     ]
    },
    {
     "name": "stdout",
     "output_type": "stream",
     "text": [
      "[2021-06-06 20:29:24,492][fairseq.trainer][INFO] - begin training epoch 4910\r\n",
      "[2021-06-06 20:29:24,494][fairseq_cli.train][INFO] - Start iterating over samples\r\n"
     ]
    },
    {
     "name": "stdout",
     "output_type": "stream",
     "text": [
      "[2021-06-06 20:32:28,274][fairseq_cli.train][INFO] - begin validation on \"valid\" subset\r\n"
     ]
    },
    {
     "name": "stdout",
     "output_type": "stream",
     "text": [
      "[2021-06-06 20:32:30,811][fairseq.tasks.unpaired_audio_text][INFO] - REF: ɛ n f œ ʂ ə n a d ɵ ʂ ə k t f øː r d eː t s ɔ m h ɛ n d ə p oː ɕ œ r k ɔ n s ɛ t ə n\r\n",
      "[2021-06-06 20:32:30,814][fairseq.tasks.unpaired_audio_text][INFO] - HYP: t ɕ ɛ s j œ r œ j œ oː b j uː œ j yː k uː ɵ v j m n ə m œ k b ə uː s eː r n v oː n l ɪ ŋ k l ɪ l a s ɔ m k n t a\r\n",
      "[2021-06-06 20:32:30,819][fairseq.tasks.unpaired_audio_text][INFO] - LM [REF]: -53.44462585449219, 0.05339602260269112\r\n",
      "[2021-06-06 20:32:30,819][fairseq.tasks.unpaired_audio_text][INFO] - LM [HYP]: -96.90851593017578, 0.016047147818603936\r\n"
     ]
    },
    {
     "name": "stdout",
     "output_type": "stream",
     "text": [
      "[2021-06-06 20:32:31,320][valid][INFO] - {\"epoch\": 4910, \"valid_loss\": \"1.002\", \"valid_ntokens\": \"3039.79\", \"valid_nsentences\": \"144.214\", \"valid_lm_score_sum\": \"-89618.4\", \"valid_num_pred_chars\": \"48213\", \"valid_vocab_seen_pct\": \"0.888502\", \"valid_uer\": \"100.176\", \"valid_weighted_lm_ppl\": \"77.05\", \"valid_lm_ppl\": \"60.826\", \"valid_wps\": \"18777.6\", \"valid_wpb\": \"3039.8\", \"valid_bsz\": \"144.2\", \"valid_num_updates\": \"78560\", \"valid_best_weighted_lm_ppl\": \"73.4256\"}\r\n",
      "[2021-06-06 20:32:31,324][fairseq.checkpoint_utils][INFO] - Preparing to save checkpoint for epoch 4910 @ 78560 updates\r\n",
      "[2021-06-06 20:32:31,325][fairseq.trainer][INFO] - Saving checkpoint to /kaggle/working/checkpoint4910.pt\r\n"
     ]
    },
    {
     "name": "stdout",
     "output_type": "stream",
     "text": [
      "[2021-06-06 20:32:31,365][fairseq.trainer][INFO] - Finished saving checkpoint to /kaggle/working/checkpoint4910.pt\r\n"
     ]
    },
    {
     "name": "stdout",
     "output_type": "stream",
     "text": [
      "[2021-06-06 20:32:31,394][fairseq.checkpoint_utils][INFO] - Saved checkpoint /kaggle/working/checkpoint4910.pt (epoch 4910 @ 78560 updates, score 77.05000097426718) (writing took 0.0705143870000029 seconds)\r\n",
      "[2021-06-06 20:32:31,398][fairseq_cli.train][INFO] - end of epoch 4910 (average epoch stats below)\r\n",
      "[2021-06-06 20:32:31,401][train][INFO] - {\"epoch\": 4910, \"train_loss\": \"3.728\", \"train_ntokens\": \"145.688\", \"train_nsentences\": \"145.688\", \"train_temp\": \"0.1\", \"train_code_ppl\": \"8.899\", \"train_loss_code_pen\": \"0.319\", \"train_loss_smoothness\": \"2.04\", \"train_loss_dense_g\": \"4.268\", \"train_lm_score_sum\": 0.0, \"train_num_pred_chars\": 0.0, \"train_loss_grad_pen\": \"0.136\", \"train_loss_dense_d\": \"0.026\", \"train_loss_token_d\": \"0.035\", \"train_wps\": \"12.5\", \"train_ups\": \"0.09\", \"train_wpb\": \"145.7\", \"train_bsz\": \"145.7\", \"train_num_updates\": \"78560\", \"train_lr_discriminator\": \"0.0005\", \"train_lr_generator\": \"0.0004\", \"train_gnorm\": \"30.057\", \"train_clip\": \"87.5\", \"train_train_wall\": \"183\", \"train_wall\": \"31414\"}\r\n"
     ]
    },
    {
     "name": "stdout",
     "output_type": "stream",
     "text": [
      "[2021-06-06 20:32:31,461][fairseq.trainer][INFO] - begin training epoch 4911\r\n",
      "[2021-06-06 20:32:31,463][fairseq_cli.train][INFO] - Start iterating over samples\r\n"
     ]
    },
    {
     "name": "stdout",
     "output_type": "stream",
     "text": [
      "[2021-06-06 20:36:15,521][fairseq_cli.train][INFO] - begin validation on \"valid\" subset\r\n"
     ]
    },
    {
     "name": "stdout",
     "output_type": "stream",
     "text": [
      "[2021-06-06 20:36:18,089][fairseq.tasks.unpaired_audio_text][INFO] - REF: ɛ n f œ ʂ ə n a d ɵ ʂ ə k t f øː r d eː t s ɔ m h ɛ n d ə p oː ɕ œ r k ɔ n s ɛ t ə n\r\n",
      "[2021-06-06 20:36:18,092][fairseq.tasks.unpaired_audio_text][INFO] - HYP: t s ɛ s j œ r œ j œ oː b j uː œ j yː k uː ɵ v j n ə m œ k b ə uː s eː r n v oː n l ɪ ŋ k l ɪ l a s ɔ m t n t a\r\n",
      "[2021-06-06 20:36:18,096][fairseq.tasks.unpaired_audio_text][INFO] - LM [REF]: -53.44462585449219, 0.05339602260269112\r\n",
      "[2021-06-06 20:36:18,096][fairseq.tasks.unpaired_audio_text][INFO] - LM [HYP]: -96.37902069091797, 0.015188955561641845\r\n"
     ]
    },
    {
     "name": "stdout",
     "output_type": "stream",
     "text": [
      "[2021-06-06 20:36:18,595][valid][INFO] - {\"epoch\": 4911, \"valid_loss\": \"1.004\", \"valid_ntokens\": \"3039.79\", \"valid_nsentences\": \"144.214\", \"valid_lm_score_sum\": \"-89920.7\", \"valid_num_pred_chars\": \"48376\", \"valid_vocab_seen_pct\": \"0.888502\", \"valid_uer\": \"100.371\", \"valid_weighted_lm_ppl\": \"77.0904\", \"valid_lm_ppl\": \"60.8579\", \"valid_wps\": \"18531.2\", \"valid_wpb\": \"3039.8\", \"valid_bsz\": \"144.2\", \"valid_num_updates\": \"78576\", \"valid_best_weighted_lm_ppl\": \"73.4256\"}\r\n",
      "[2021-06-06 20:36:18,599][fairseq.checkpoint_utils][INFO] - Preparing to save checkpoint for epoch 4911 @ 78576 updates\r\n"
     ]
    },
    {
     "name": "stdout",
     "output_type": "stream",
     "text": [
      "[2021-06-06 20:36:18,601][fairseq.trainer][INFO] - Saving checkpoint to /kaggle/working/checkpoint4911.pt\r\n",
      "[2021-06-06 20:36:18,640][fairseq.trainer][INFO] - Finished saving checkpoint to /kaggle/working/checkpoint4911.pt\r\n"
     ]
    },
    {
     "name": "stdout",
     "output_type": "stream",
     "text": [
      "[2021-06-06 20:36:18,673][fairseq.checkpoint_utils][INFO] - Saved checkpoint /kaggle/working/checkpoint4911.pt (epoch 4911 @ 78576 updates, score 77.09043851417671) (writing took 0.07363275500392774 seconds)\r\n",
      "[2021-06-06 20:36:18,676][fairseq_cli.train][INFO] - end of epoch 4911 (average epoch stats below)\r\n",
      "[2021-06-06 20:36:18,680][train][INFO] - {\"epoch\": 4911, \"train_loss\": \"2.984\", \"train_ntokens\": \"145.688\", \"train_nsentences\": \"145.688\", \"train_temp\": \"0.1\", \"train_code_ppl\": \"9.052\", \"train_loss_code_pen\": \"0.333\", \"train_loss_smoothness\": \"2.062\", \"train_loss_dense_g\": \"4\", \"train_lm_score_sum\": 0.0, \"train_num_pred_chars\": 0.0, \"train_loss_grad_pen\": \"0.123\", \"train_loss_dense_d\": \"0.033\", \"train_loss_token_d\": \"0.027\", \"train_wps\": \"10.3\", \"train_ups\": \"0.07\", \"train_wpb\": \"145.7\", \"train_bsz\": \"145.7\", \"train_num_updates\": \"78576\", \"train_lr_discriminator\": \"0.0005\", \"train_lr_generator\": \"0.0004\", \"train_gnorm\": \"29.924\", \"train_clip\": \"87.5\", \"train_train_wall\": \"224\", \"train_wall\": \"31642\"}\r\n"
     ]
    },
    {
     "name": "stdout",
     "output_type": "stream",
     "text": [
      "[2021-06-06 20:36:18,741][fairseq.trainer][INFO] - begin training epoch 4912\r\n",
      "[2021-06-06 20:36:18,743][fairseq_cli.train][INFO] - Start iterating over samples\r\n"
     ]
    },
    {
     "name": "stdout",
     "output_type": "stream",
     "text": [
      "[2021-06-06 20:39:34,972][fairseq_cli.train][INFO] - begin validation on \"valid\" subset\r\n"
     ]
    }
   ],
   "source": [
    "!bash rungan.sh"
   ]
  }
 ],
 "metadata": {
  "kernelspec": {
   "display_name": "Python 3",
   "language": "python",
   "name": "python3"
  },
  "language_info": {
   "codemirror_mode": {
    "name": "ipython",
    "version": 3
   },
   "file_extension": ".py",
   "mimetype": "text/x-python",
   "name": "python",
   "nbconvert_exporter": "python",
   "pygments_lexer": "ipython3",
   "version": "3.6.4"
  },
  "papermill": {
   "default_parameters": {},
   "duration": null,
   "end_time": null,
   "environment_variables": {},
   "exception": null,
   "input_path": "__notebook__.ipynb",
   "output_path": "__notebook__.ipynb",
   "parameters": {},
   "start_time": "2021-06-06T11:40:31.146639",
   "version": "2.3.3"
  }
 },
 "nbformat": 4,
 "nbformat_minor": 5
}