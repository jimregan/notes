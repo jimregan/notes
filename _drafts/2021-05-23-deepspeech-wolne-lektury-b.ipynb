{
 "cells": [
  {
   "cell_type": "code",
   "execution_count": null,
   "id": "flush-december",
   "metadata": {
    "execution": {
     "iopub.execute_input": "2021-05-23T13:56:38.912137Z",
     "iopub.status.busy": "2021-05-23T13:56:38.911118Z",
     "iopub.status.idle": "2021-05-23T13:56:46.841161Z",
     "shell.execute_reply": "2021-05-23T13:56:46.840427Z",
     "shell.execute_reply.started": "2021-05-23T01:32:43.981357Z"
    },
    "papermill": {
     "duration": 7.936435,
     "end_time": "2021-05-23T13:56:46.841305",
     "exception": false,
     "start_time": "2021-05-23T13:56:38.904870",
     "status": "completed"
    },
    "tags": []
   },
   "outputs": [],
   "source": [
    "!pip install deepspeech"
   ]
  },
  {
   "cell_type": "code",
   "execution_count": null,
   "id": "large-cycle",
   "metadata": {
    "execution": {
     "iopub.execute_input": "2021-05-23T13:56:46.867172Z",
     "iopub.status.busy": "2021-05-23T13:56:46.862832Z"
    },
    "papermill": {
     "duration": null,
     "end_time": null,
     "exception": false,
     "start_time": "2021-05-23T13:56:46.849789",
     "status": "running"
    },
    "tags": []
   },
   "outputs": [],
   "source": [
    "!for i in ../input/wolne-lektury-audio-zip/b*.zip; do unzip $i; for j in *.mp3; do base=$(basename \"$j\" \".mp3\"); out=\"$base.wav\"; ffmpeg -i $j -acodec pcm_s16le -ac 1 -ar 16000 $out; deepspeech --model ../input/polish-deepspeech-models/output_graph_pl.pbmm --scorer ../input/polish-deepspeech-models/kenlm_pl.scorer --json --audio $out > $base.json; rm $out $j; done; done"
   ]
  }
 ],
 "metadata": {
  "kernelspec": {
   "display_name": "Python 3",
   "language": "python",
   "name": "python3"
  },
  "language_info": {
   "codemirror_mode": {
    "name": "ipython",
    "version": 3
   },
   "file_extension": ".py",
   "mimetype": "text/x-python",
   "name": "python",
   "nbconvert_exporter": "python",
   "pygments_lexer": "ipython3",
   "version": "3.8.2"
  },
  "papermill": {
   "default_parameters": {},
   "duration": null,
   "end_time": null,
   "environment_variables": {},
   "exception": null,
   "input_path": "__notebook__.ipynb",
   "output_path": "__notebook__.ipynb",
   "parameters": {},
   "start_time": "2021-05-23T13:56:32.119607",
   "version": "2.3.3"
  }
 },
 "nbformat": 4,
 "nbformat_minor": 5
}
