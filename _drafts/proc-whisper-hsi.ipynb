{
 "cells": [
  {
   "cell_type": "markdown",
   "metadata": {},
   "source": [
    "# WhisperX to tsv\n",
    "\n",
    "> For HSI project\n",
    "\n",
    "- toc: false\n",
    "- comments: false\n",
    "- hidden: true\n",
    "- categories: [whisperx, tsv]"
   ]
  },
  {
   "cell_type": "code",
   "execution_count": 1,
   "metadata": {},
   "outputs": [],
   "source": [
    "import json\n",
    "from pathlib import Path"
   ]
  },
  {
   "cell_type": "code",
   "execution_count": 2,
   "metadata": {},
   "outputs": [],
   "source": [
    "EG = \"hsi_3_0715_227_001-mic2-002.json\""
   ]
  },
  {
   "cell_type": "code",
   "execution_count": 15,
   "metadata": {},
   "outputs": [],
   "source": [
    "def write_tsv(jsonfile: Path, outpath):\n",
    "    jsonstem = jsonfile.stem\n",
    "    outfile = outpath / f\"{jsonstem}.tsv\"\n",
    "    with open(jsonfile) as inf, open(outfile, \"w\") as outf:\n",
    "        data = json.load(inf)\n",
    "        for seg in data[\"segments\"]:\n",
    "            outf.write(str(seg[\"start\"]) + \"\\t\" + str(seg[\"end\"]) + \"\\t\" + seg[\"text\"].strip() + \"\\n\")"
   ]
  },
  {
   "cell_type": "code",
   "execution_count": 20,
   "metadata": {},
   "outputs": [],
   "source": [
    "INPATH = Path(\"/Users/joregan/Playing/hsi/audio\")\n",
    "OUTPATH = Path(\"/tmp/hsi-rec\")\n",
    "\n",
    "INPATH = Path(\"/Users/joregan/Playing/hsi/audio/whisperx\")\n",
    "OUTPATH = Path(\"/tmp/hsi-recx\")\n",
    "\n",
    "if not OUTPATH.is_dir():\n",
    "    OUTPATH.mkdir()\n",
    "for jsonfile in Path(INPATH).glob(\"*.json\"):\n",
    "    write_tsv(jsonfile, OUTPATH)"
   ]
  }
 ],
 "metadata": {
  "kernelspec": {
   "display_name": "hf",
   "language": "python",
   "name": "python3"
  },
  "language_info": {
   "codemirror_mode": {
    "name": "ipython",
    "version": 3
   },
   "file_extension": ".py",
   "mimetype": "text/x-python",
   "name": "python",
   "nbconvert_exporter": "python",
   "pygments_lexer": "ipython3",
   "version": "3.9.15"
  }
 },
 "nbformat": 4,
 "nbformat_minor": 2
}
