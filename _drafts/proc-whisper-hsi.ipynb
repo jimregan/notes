{
 "cells": [
  {
   "cell_type": "code",
   "execution_count": 1,
   "metadata": {},
   "outputs": [],
   "source": [
    "import json\n",
    "from pathlib import Path"
   ]
  },
  {
   "cell_type": "code",
   "execution_count": 2,
   "metadata": {},
   "outputs": [],
   "source": [
    "EG = \"hsi_3_0715_227_001-mic2-002.json\""
   ]
  },
  {
   "cell_type": "code",
   "execution_count": 10,
   "metadata": {},
   "outputs": [],
   "source": [
    "def write_tsv(jsonfile):\n",
    "    outfile = jsonfile.replace(\".json\", \".tsv\").replace(\"mic1\", \"main\").replace(\"mic2\", \"inter\")\n",
    "    with open(jsonfile) as inf, open(outfile, \"w\") as outf:\n",
    "        data = json.load(inf)\n",
    "        for seg in data[\"segments\"]:\n",
    "            outf.write(str(seg[\"start\"]) + \"\\t\" + str(seg[\"end\"]) + \"\\t\" + seg[\"text\"].strip() + \"\\n\")"
   ]
  },
  {
   "cell_type": "code",
   "execution_count": 11,
   "metadata": {},
   "outputs": [],
   "source": [
    "for jsonfile in Path(\"/tmp/audio\").glob(\"*.json\"):\n",
    "    write_tsv(str(jsonfile))"
   ]
  }
 ],
 "metadata": {
  "kernelspec": {
   "display_name": "hf",
   "language": "python",
   "name": "python3"
  },
  "language_info": {
   "codemirror_mode": {
    "name": "ipython",
    "version": 3
   },
   "file_extension": ".py",
   "mimetype": "text/x-python",
   "name": "python",
   "nbconvert_exporter": "python",
   "pygments_lexer": "ipython3",
   "version": "3.9.15"
  }
 },
 "nbformat": 4,
 "nbformat_minor": 2
}
