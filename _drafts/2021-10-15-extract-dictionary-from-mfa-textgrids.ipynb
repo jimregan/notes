{
 "cells": [
  {
   "cell_type": "code",
   "execution_count": null,
   "metadata": {},
   "outputs": [],
   "source": [
    "%%capture\n",
    "!pip install praatio"
   ]
  },
  {
   "cell_type": "code",
   "execution_count": 2,
   "metadata": {},
   "outputs": [],
   "source": [
    "from praatio import textgrid"
   ]
  },
  {
   "cell_type": "code",
   "execution_count": 4,
   "metadata": {},
   "outputs": [],
   "source": [
    "_BASE = \"/home/jim/Playing/snc_ga_co/\"\n",
    "_EG = \"FastSpeech2/preprocessed_data/TextGrid/SNC_Gearrscealta_an_Phiarsaigh_1931.TextGrid\"\n",
    "tg = textgrid.openTextgrid(_BASE + _EG, False)"
   ]
  },
  {
   "cell_type": "code",
   "execution_count": 7,
   "metadata": {},
   "outputs": [],
   "source": [
    "assert tg.tierNameList == ['Word', 'phones']"
   ]
  },
  {
   "cell_type": "code",
   "execution_count": 9,
   "metadata": {},
   "outputs": [],
   "source": [
    "word = tg.tierDict['Word']\n",
    "phones = tg.tierDict['phones']"
   ]
  },
  {
   "cell_type": "code",
   "execution_count": 52,
   "metadata": {},
   "outputs": [],
   "source": [
    "i = 0\n",
    "j = 0\n",
    "out = []\n",
    "\n",
    "def it_to_dict(it):\n",
    "    ret = {}\n",
    "    ret['start'] = it.start\n",
    "    ret['end'] = it.end\n",
    "    ret['label'] = it.label\n",
    "    return ret\n",
    "\n",
    "while i < len(word.entryList) and j < len(phones.entryList):\n",
    "    cur_word = it_to_dict(word.entryList[i])\n",
    "    cur_word['phones'] = []\n",
    "    while j < len(phones.entryList) and phones.entryList[j].end <= cur_word['end']:\n",
    "        end_time = phones.entryList[j].end\n",
    "        tmp_phone = it_to_dict(phones.entryList[j])\n",
    "        cur_word['phones'].append(tmp_phone)\n",
    "        j += 1\n",
    "        if end_time == cur_word['end']:\n",
    "            i += 1\n",
    "            out.append(cur_word)\n",
    "            continue"
   ]
  },
  {
   "cell_type": "code",
   "execution_count": 55,
   "metadata": {},
   "outputs": [],
   "source": [
    "tmp = []\n",
    "for item in out:\n",
    "    word = item['label']\n",
    "    phones = \" \".join([a['label'] for a in item['phones']])\n",
    "    tmp.append((word, phones))"
   ]
  },
  {
   "cell_type": "code",
   "execution_count": 56,
   "metadata": {},
   "outputs": [
    {
     "data": {
      "text/plain": [
       "[('SILENCE_TOKEN', 'sil'),\n",
       " ('Agus', 'a g @ s'),\n",
       " ('thug', 'h u g'),\n",
       " ('sé', 'sj e'),\n",
       " ('an', '@ nn'),\n",
       " ('doras', 'd o r @ s'),\n",
       " ('amach', '@ m a x'),\n",
       " ('air', 'e rj'),\n",
       " ('féin', 'fj ee nj'),\n",
       " ('gan', 'g a nn'),\n",
       " ('focal', 'f o k @ ll'),\n",
       " ('eile', 'e lj @'),\n",
       " ('a', '@'),\n",
       " ('rá', 'r aa'),\n",
       " ('.', 'sil')]"
      ]
     },
     "execution_count": 56,
     "metadata": {},
     "output_type": "execute_result"
    }
   ],
   "source": [
    "tmp"
   ]
  }
 ],
 "metadata": {
  "kernelspec": {
   "display_name": "Python 3",
   "language": "python",
   "name": "python3"
  },
  "language_info": {
   "codemirror_mode": {
    "name": "ipython",
    "version": 3
   },
   "file_extension": ".py",
   "mimetype": "text/x-python",
   "name": "python",
   "nbconvert_exporter": "python",
   "pygments_lexer": "ipython3",
   "version": "3.6.9"
  }
 },
 "nbformat": 4,
 "nbformat_minor": 2
}
