{
 "cells": [
  {
   "cell_type": "code",
   "execution_count": 22,
   "metadata": {},
   "outputs": [
    {
     "name": "stdout",
     "output_type": "stream",
     "text": [
      "Thosaigh sé .\n",
      "\n",
      "Bhí mé $ 2 $ 3.4 4 % ag fanacht'm - ho at - ainm ( 9 ) th éis IRP23 4ú 9pm , 000 1 - 0 3B .\n",
      "\n"
     ]
    }
   ],
   "source": [
    "import spacy\n",
    "from spacy import util\n",
    "\n",
    "\n",
    "batch_size = 100\n",
    "nlp = spacy.blank(\"ga\")\n",
    "\n",
    "prefixes = nlp.Defaults.prefixes + [r\"\\([0-9]+\\)\", r\"\\$\\d\"]\n",
    "prefix_regex = util.compile_prefix_regex(prefixes)\n",
    "nlp.tokenizer.prefix_search = prefix_regex.search\n",
    "\n",
    "nlp.add_pipe(\"sentencizer\")\n",
    "for doc in nlp.pipe([\"Thosaigh sé. Bhí mé $2 $3.4 4% ag fanacht'm-ho at-ainm (9) théis IRP23 4ú 9pm ,000 1-0 3B .\"], batch_size=batch_size):\n",
    "    for sent in doc.sents:\n",
    "        print(\" \".join([t.text for t in sent]) + \"\\n\")\n"
   ]
  }
 ],
 "metadata": {
  "kernelspec": {
   "display_name": "Python 3 (ipykernel)",
   "language": "python",
   "name": "python3"
  },
  "language_info": {
   "codemirror_mode": {
    "name": "ipython",
    "version": 3
   },
   "file_extension": ".py",
   "mimetype": "text/x-python",
   "name": "python",
   "nbconvert_exporter": "python",
   "pygments_lexer": "ipython3",
   "version": "3.9.10"
  }
 },
 "nbformat": 4,
 "nbformat_minor": 4
}
