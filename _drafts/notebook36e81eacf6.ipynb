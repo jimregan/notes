{
 "cells": [
  {
   "cell_type": "markdown",
   "id": "4224bcc8",
   "metadata": {
    "papermill": {
     "duration": 0.013119,
     "end_time": "2022-05-04T23:03:03.307131",
     "exception": false,
     "start_time": "2022-05-04T23:03:03.294012",
     "status": "completed"
    },
    "tags": []
   },
   "source": [
    "# Split into train/test/valid"
   ]
  },
  {
   "cell_type": "code",
   "execution_count": 1,
   "id": "751f7f04",
   "metadata": {
    "_cell_guid": "b1076dfc-b9ad-4769-8c92-a6c4dae69d19",
    "_uuid": "8f2839f25d086af736a60e9eeb907d3b93b6e0e5",
    "execution": {
     "iopub.execute_input": "2022-05-04T23:03:03.333044Z",
     "iopub.status.busy": "2022-05-04T23:03:03.332199Z",
     "iopub.status.idle": "2022-05-04T23:03:04.956663Z",
     "shell.execute_reply": "2022-05-04T23:03:04.955341Z"
    },
    "papermill": {
     "duration": 1.639893,
     "end_time": "2022-05-04T23:03:04.959132",
     "exception": false,
     "start_time": "2022-05-04T23:03:03.319239",
     "status": "completed"
    },
    "tags": []
   },
   "outputs": [],
   "source": [
    "!echo /kaggle/input/ljspeech-for-asr/wav16/ > valid.tsv\n",
    "!cat ../input/ljspeech-for-asr/frames.tsv | tail -n $((1310)) | tail -n $((1310 / 2)) |awk -F'\\t' '{print $1 \".wav\\t\" $2}' >> valid.tsv"
   ]
  },
  {
   "cell_type": "code",
   "execution_count": 2,
   "id": "14e01fef",
   "metadata": {
    "execution": {
     "iopub.execute_input": "2022-05-04T23:03:04.986570Z",
     "iopub.status.busy": "2022-05-04T23:03:04.986249Z",
     "iopub.status.idle": "2022-05-04T23:03:06.581607Z",
     "shell.execute_reply": "2022-05-04T23:03:06.580541Z"
    },
    "papermill": {
     "duration": 1.612055,
     "end_time": "2022-05-04T23:03:06.584020",
     "exception": false,
     "start_time": "2022-05-04T23:03:04.971965",
     "status": "completed"
    },
    "tags": []
   },
   "outputs": [],
   "source": [
    "!echo /kaggle/input/ljspeech-for-asr/wav16/ > test.tsv\n",
    "!cat ../input/ljspeech-for-asr/frames.tsv | tail -n $((1310)) | head -n $((1310 / 2)) |awk -F'\\t' '{print $1 \".wav\\t\" $2}' >> test.tsv"
   ]
  },
  {
   "cell_type": "code",
   "execution_count": 3,
   "id": "114b1aa7",
   "metadata": {
    "execution": {
     "iopub.execute_input": "2022-05-04T23:03:06.612836Z",
     "iopub.status.busy": "2022-05-04T23:03:06.612313Z",
     "iopub.status.idle": "2022-05-04T23:03:08.202096Z",
     "shell.execute_reply": "2022-05-04T23:03:08.200810Z"
    },
    "papermill": {
     "duration": 1.607424,
     "end_time": "2022-05-04T23:03:08.204511",
     "exception": false,
     "start_time": "2022-05-04T23:03:06.597087",
     "status": "completed"
    },
    "tags": []
   },
   "outputs": [],
   "source": [
    "!echo /kaggle/input/ljspeech-for-asr/wav16/ > train.tsv\n",
    "!cat ../input/ljspeech-for-asr/frames.tsv | head -n $((13100 - 1310)) |awk -F'\\t' '{print $1 \".wav\\t\" $2}' >> train.tsv"
   ]
  },
  {
   "cell_type": "markdown",
   "id": "918330c1",
   "metadata": {
    "papermill": {
     "duration": 0.012361,
     "end_time": "2022-05-04T23:03:08.232247",
     "exception": false,
     "start_time": "2022-05-04T23:03:08.219886",
     "status": "completed"
    },
    "tags": []
   },
   "source": [
    "# Load frame lengths"
   ]
  },
  {
   "cell_type": "code",
   "execution_count": 4,
   "id": "f6395e03",
   "metadata": {
    "execution": {
     "iopub.execute_input": "2022-05-04T23:03:08.258905Z",
     "iopub.status.busy": "2022-05-04T23:03:08.258626Z",
     "iopub.status.idle": "2022-05-04T23:03:08.280631Z",
     "shell.execute_reply": "2022-05-04T23:03:08.279784Z"
    },
    "papermill": {
     "duration": 0.037858,
     "end_time": "2022-05-04T23:03:08.282599",
     "exception": false,
     "start_time": "2022-05-04T23:03:08.244741",
     "status": "completed"
    },
    "tags": []
   },
   "outputs": [],
   "source": [
    "train_frames = {}\n",
    "\n",
    "with open(\"train.tsv\") as f:\n",
    "    for line in f.readlines():\n",
    "        if not \"\\t\" in line:\n",
    "            continue\n",
    "        pieces = line.strip().split(\"\\t\")\n",
    "        assert len(pieces) == 2\n",
    "        id = pieces[0].replace(\".wav\", \"\")\n",
    "        train_frames[id] = int(pieces[1])"
   ]
  },
  {
   "cell_type": "code",
   "execution_count": 5,
   "id": "80cf5c86",
   "metadata": {
    "execution": {
     "iopub.execute_input": "2022-05-04T23:03:08.308168Z",
     "iopub.status.busy": "2022-05-04T23:03:08.307929Z",
     "iopub.status.idle": "2022-05-04T23:03:08.312278Z",
     "shell.execute_reply": "2022-05-04T23:03:08.311611Z"
    },
    "papermill": {
     "duration": 0.019225,
     "end_time": "2022-05-04T23:03:08.313957",
     "exception": false,
     "start_time": "2022-05-04T23:03:08.294732",
     "status": "completed"
    },
    "tags": []
   },
   "outputs": [],
   "source": [
    "MINS = [i * 5 for i in range(1, 25)]\n",
    "HOURS = [i * 2 for i in range(1, 9)]"
   ]
  },
  {
   "cell_type": "code",
   "execution_count": 6,
   "id": "5d34f2ea",
   "metadata": {
    "execution": {
     "iopub.execute_input": "2022-05-04T23:03:08.343545Z",
     "iopub.status.busy": "2022-05-04T23:03:08.342917Z",
     "iopub.status.idle": "2022-05-04T23:03:08.346867Z",
     "shell.execute_reply": "2022-05-04T23:03:08.346363Z"
    },
    "papermill": {
     "duration": 0.022347,
     "end_time": "2022-05-04T23:03:08.348525",
     "exception": false,
     "start_time": "2022-05-04T23:03:08.326178",
     "status": "completed"
    },
    "tags": []
   },
   "outputs": [],
   "source": [
    "WAVDIR = \"/kaggle/input/ljspeech-for-asr/wav16\""
   ]
  },
  {
   "cell_type": "markdown",
   "id": "1b126e47",
   "metadata": {
    "papermill": {
     "duration": 0.011835,
     "end_time": "2022-05-04T23:03:08.372163",
     "exception": false,
     "start_time": "2022-05-04T23:03:08.360328",
     "status": "completed"
    },
    "tags": []
   },
   "source": [
    "# Minute splits"
   ]
  },
  {
   "cell_type": "code",
   "execution_count": 7,
   "id": "4d40e80a",
   "metadata": {
    "execution": {
     "iopub.execute_input": "2022-05-04T23:03:08.398064Z",
     "iopub.status.busy": "2022-05-04T23:03:08.397559Z",
     "iopub.status.idle": "2022-05-04T23:03:08.499150Z",
     "shell.execute_reply": "2022-05-04T23:03:08.498304Z"
    },
    "papermill": {
     "duration": 0.117213,
     "end_time": "2022-05-04T23:03:08.501337",
     "exception": false,
     "start_time": "2022-05-04T23:03:08.384124",
     "status": "completed"
    },
    "tags": []
   },
   "outputs": [],
   "source": [
    "for min in MINS:\n",
    "    frames = min * 60 * 16000\n",
    "    idlist = [k for k in train_frames.keys()]\n",
    "    outtsv = f\"{min}mins.tsv\"\n",
    "    with open(outtsv, \"w\") as of:\n",
    "        current = 0\n",
    "        of.write(f\"{WAVDIR}\\n\")\n",
    "        while frames > 0 and frames > current:\n",
    "            id = idlist.pop(0)\n",
    "            current = train_frames[id]\n",
    "            of.write(f\"{id}.wav\\t{current}\\n\")\n",
    "            frames = frames - current\n",
    "        max = 0\n",
    "        maxid = \"\"\n",
    "        for id in idlist:\n",
    "            time = train_frames[id]\n",
    "            if time > current:\n",
    "                continue\n",
    "            if time > max:\n",
    "                max = time\n",
    "                maxid = id\n",
    "        of.write(f\"{maxid}.wav\\t{max}\\n\")"
   ]
  },
  {
   "cell_type": "markdown",
   "id": "c0b52e39",
   "metadata": {
    "papermill": {
     "duration": 0.012551,
     "end_time": "2022-05-04T23:03:08.526369",
     "exception": false,
     "start_time": "2022-05-04T23:03:08.513818",
     "status": "completed"
    },
    "tags": []
   },
   "source": [
    "# Hour splits"
   ]
  },
  {
   "cell_type": "code",
   "execution_count": 8,
   "id": "7571b188",
   "metadata": {
    "execution": {
     "iopub.execute_input": "2022-05-04T23:03:08.552588Z",
     "iopub.status.busy": "2022-05-04T23:03:08.552097Z",
     "iopub.status.idle": "2022-05-04T23:03:08.669235Z",
     "shell.execute_reply": "2022-05-04T23:03:08.668495Z"
    },
    "papermill": {
     "duration": 0.133043,
     "end_time": "2022-05-04T23:03:08.671796",
     "exception": false,
     "start_time": "2022-05-04T23:03:08.538753",
     "status": "completed"
    },
    "tags": []
   },
   "outputs": [],
   "source": [
    "for min in HOURS:\n",
    "    frames = min * 60 * 60 * 16000\n",
    "    idlist = [k for k in train_frames.keys()]\n",
    "    outtsv = f\"{min}hrs.tsv\"\n",
    "    with open(outtsv, \"w\") as of:\n",
    "        current = 0\n",
    "        of.write(f\"{WAVDIR}\\n\")\n",
    "        while frames > 0 and frames > current:\n",
    "            id = idlist.pop(0)\n",
    "            current = train_frames[id]\n",
    "            of.write(f\"{id}.wav\\t{current}\\n\")\n",
    "            frames = frames - current\n",
    "        max = 0\n",
    "        maxid = \"\"\n",
    "        for id in idlist:\n",
    "            time = train_frames[id]\n",
    "            if time > current:\n",
    "                continue\n",
    "            if time > max:\n",
    "                max = time\n",
    "                maxid = id\n",
    "        of.write(f\"{maxid}.wav\\t{max}\\n\")"
   ]
  },
  {
   "cell_type": "markdown",
   "id": "624072b8",
   "metadata": {
    "papermill": {
     "duration": 0.01512,
     "end_time": "2022-05-04T23:03:08.701704",
     "exception": false,
     "start_time": "2022-05-04T23:03:08.686584",
     "status": "completed"
    },
    "tags": []
   },
   "source": [
    "# Generate `ltr` files"
   ]
  },
  {
   "cell_type": "code",
   "execution_count": 9,
   "id": "78b01a6b",
   "metadata": {
    "execution": {
     "iopub.execute_input": "2022-05-04T23:03:08.733316Z",
     "iopub.status.busy": "2022-05-04T23:03:08.732888Z",
     "iopub.status.idle": "2022-05-04T23:03:08.737314Z",
     "shell.execute_reply": "2022-05-04T23:03:08.736518Z"
    },
    "papermill": {
     "duration": 0.02292,
     "end_time": "2022-05-04T23:03:08.739345",
     "exception": false,
     "start_time": "2022-05-04T23:03:08.716425",
     "status": "completed"
    },
    "tags": []
   },
   "outputs": [],
   "source": [
    "def fairseqify(text):\n",
    "    text = text.strip().replace(\"  \", \" \")\n",
    "    words = text.split(\" \")\n",
    "    spread = [\" \".join(a) for a in words]\n",
    "    return \" | \".join(spread) + \" |\""
   ]
  },
  {
   "cell_type": "code",
   "execution_count": 10,
   "id": "a4a72bf5",
   "metadata": {
    "execution": {
     "iopub.execute_input": "2022-05-04T23:03:08.767407Z",
     "iopub.status.busy": "2022-05-04T23:03:08.766850Z",
     "iopub.status.idle": "2022-05-04T23:03:08.914400Z",
     "shell.execute_reply": "2022-05-04T23:03:08.913574Z"
    },
    "papermill": {
     "duration": 0.164127,
     "end_time": "2022-05-04T23:03:08.916874",
     "exception": false,
     "start_time": "2022-05-04T23:03:08.752747",
     "status": "completed"
    },
    "tags": []
   },
   "outputs": [],
   "source": [
    "transcripts = {}\n",
    "with open(\"../input/ljspeech-for-asr/transcripts.tsv\") as tf:\n",
    "    for line in tf.readlines():\n",
    "        line = line.strip()\n",
    "        if not \"\\t\" in line:\n",
    "            pass\n",
    "        parts = line.split(\"\\t\")\n",
    "        assert len(parts) == 2\n",
    "        transcripts[parts[0]] = fairseqify(parts[1])"
   ]
  },
  {
   "cell_type": "code",
   "execution_count": 11,
   "id": "64c11d8b",
   "metadata": {
    "execution": {
     "iopub.execute_input": "2022-05-04T23:03:08.944780Z",
     "iopub.status.busy": "2022-05-04T23:03:08.943936Z",
     "iopub.status.idle": "2022-05-04T23:03:09.053292Z",
     "shell.execute_reply": "2022-05-04T23:03:09.052620Z"
    },
    "papermill": {
     "duration": 0.125934,
     "end_time": "2022-05-04T23:03:09.055404",
     "exception": false,
     "start_time": "2022-05-04T23:03:08.929470",
     "status": "completed"
    },
    "tags": []
   },
   "outputs": [],
   "source": [
    "import glob\n",
    "for tsv in glob.glob(\"*.tsv\"):\n",
    "    out = tsv.replace(\".tsv\", \".ltr\")\n",
    "    with open(tsv) as inf, open(out, \"w\") as outf:\n",
    "        for line in inf.readlines()[1:]:\n",
    "            id, _ = line.split(\"\\t\")\n",
    "            id = id.replace(\".wav\", \"\")\n",
    "            outf.write(f\"{transcripts[id]}\\n\")"
   ]
  },
  {
   "cell_type": "markdown",
   "id": "6109ceee",
   "metadata": {
    "papermill": {
     "duration": 0.013786,
     "end_time": "2022-05-04T23:03:09.083268",
     "exception": false,
     "start_time": "2022-05-04T23:03:09.069482",
     "status": "completed"
    },
    "tags": []
   },
   "source": [
    "# Tidy up"
   ]
  },
  {
   "cell_type": "code",
   "execution_count": 12,
   "id": "01439bac",
   "metadata": {
    "execution": {
     "iopub.execute_input": "2022-05-04T23:03:09.111187Z",
     "iopub.status.busy": "2022-05-04T23:03:09.110724Z",
     "iopub.status.idle": "2022-05-04T23:03:10.948002Z",
     "shell.execute_reply": "2022-05-04T23:03:10.946952Z"
    },
    "papermill": {
     "duration": 1.854213,
     "end_time": "2022-05-04T23:03:10.950523",
     "exception": false,
     "start_time": "2022-05-04T23:03:09.096310",
     "status": "completed"
    },
    "tags": []
   },
   "outputs": [],
   "source": [
    "!for i in *mins.tsv;do b=$(basename $i \".tsv\");mkdir $b; mv $b.tsv $b.ltr $b/; cp test.* valid.* $b/;done\n",
    "!for i in *hrs.tsv;do b=$(basename $i \".tsv\");mkdir $b; mv $b.tsv $b.ltr $b/; cp test.* valid.* $b/;done"
   ]
  }
 ],
 "metadata": {
  "kernelspec": {
   "display_name": "Python 3",
   "language": "python",
   "name": "python3"
  },
  "language_info": {
   "codemirror_mode": {
    "name": "ipython",
    "version": 3
   },
   "file_extension": ".py",
   "mimetype": "text/x-python",
   "name": "python",
   "nbconvert_exporter": "python",
   "pygments_lexer": "ipython3",
   "version": "3.7.12"
  },
  "papermill": {
   "default_parameters": {},
   "duration": 16.314362,
   "end_time": "2022-05-04T23:03:11.582715",
   "environment_variables": {},
   "exception": null,
   "input_path": "__notebook__.ipynb",
   "output_path": "__notebook__.ipynb",
   "parameters": {},
   "start_time": "2022-05-04T23:02:55.268353",
   "version": "2.3.4"
  }
 },
 "nbformat": 4,
 "nbformat_minor": 5
}
