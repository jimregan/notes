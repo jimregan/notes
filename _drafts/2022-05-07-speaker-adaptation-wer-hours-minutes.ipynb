{
  "nbformat": 4,
  "nbformat_minor": 0,
  "metadata": {
    "colab": {
      "name": "Hour and minute WER calculations.ipynb",
      "provenance": []
    },
    "kernelspec": {
      "name": "python3",
      "display_name": "Python 3"
    },
    "language_info": {
      "name": "python"
    }
  },
  "cells": [
    {
      "cell_type": "markdown",
      "source": [
        "# WER calculations for minute and hour splits\n",
        "\n",
        "> \"For speaker adaptation\"\n",
        "\n",
        "- toc: false\n",
        "- branch: main\n",
        "- hidden: true\n",
        "- tags: [wer, adaptation]"
      ],
      "metadata": {
        "id": "0nhE4z6viF5a"
      }
    },
    {
      "cell_type": "code",
      "execution_count": 1,
      "metadata": {
        "id": "vK9KbVT8ClG0"
      },
      "outputs": [],
      "source": [
        "import matplotlib.pyplot as plt\n",
        "import pandas as pd"
      ]
    },
    {
      "cell_type": "code",
      "source": [
        "HOURS_DATA = \"\"\"\n",
        "2\t0.02571327932370553\n",
        "4\t0.014705882352941176\n",
        "6\t0.01655512504402959\n",
        "8\t0.014705882352941176\n",
        "10\t0.013825290595280029\n",
        "12\t0.012152166255723846\n",
        "14\t0.011271574498062698\n",
        "16\t0.010302923564635434\n",
        "\"\"\""
      ],
      "metadata": {
        "id": "E0RYEdWECmln"
      },
      "execution_count": 2,
      "outputs": []
    },
    {
      "cell_type": "code",
      "source": [
        "hours = []\n",
        "wer = []\n",
        "for line in HOURS_DATA.split(\"\\n\"):\n",
        "    if \"\\t\" in line:\n",
        "        parts = line.split(\"\\t\")\n",
        "        hours.append(int(parts[0]))\n",
        "        wer.append(float(parts[1]) * 100)"
      ],
      "metadata": {
        "id": "ZdH28VlfDE_q"
      },
      "execution_count": 10,
      "outputs": []
    },
    {
      "cell_type": "code",
      "source": [
        "df = pd.DataFrame(data={\"Hours\": hours, \"WER\": wer})"
      ],
      "metadata": {
        "id": "YDwM2mENDcLg"
      },
      "execution_count": 11,
      "outputs": []
    },
    {
      "cell_type": "code",
      "source": [
        "ax = plt.gca()\n",
        "\n",
        "df.plot(kind='line',x='Hours',y='WER',ax=ax)"
      ],
      "metadata": {
        "colab": {
          "base_uri": "https://localhost:8080/",
          "height": 297
        },
        "id": "hSK8UzuyDp8v",
        "outputId": "0e14f551-850c-4da3-e08f-8d89af95bb4e"
      },
      "execution_count": 12,
      "outputs": [
        {
          "output_type": "execute_result",
          "data": {
            "text/plain": [
              "<matplotlib.axes._subplots.AxesSubplot at 0x7f400ca22ad0>"
            ]
          },
          "metadata": {},
          "execution_count": 12
        },
        {
          "output_type": "display_data",
          "data": {
            "text/plain": [
              "<Figure size 432x288 with 1 Axes>"
            ],
            "image/png": "[encoded data removed]"
          },
          "metadata": {
            "needs_background": "light"
          }
        }
      ]
    },
    {
      "cell_type": "code",
      "source": [
        "MINS_DATA = \"\"\"\n",
        "5\t0.05336386051426559\n",
        "10\t0.05309968298696724\n",
        "15\t0.05301162381120113\n",
        "20\t0.03346248679112364\n",
        "25\t0.03355054596688975\n",
        "30\t0.03355054596688975\n",
        "35\t0.03222965833039803\n",
        "40\t0.03126100739697076\n",
        "45\t0.03196548080309968\n",
        "50\t0.028883409651285663\n",
        "55\t0.029059528002817893\n",
        "60\t0.028531172948221203\n",
        "65\t0.02694610778443114\n",
        "70\t0.029411764705882353\n",
        "75\t0.02588939767523776\n",
        "80\t0.027738640366326173\n",
        "85\t0.026681930257132794\n",
        "90\t0.025977456851003874\n",
        "95\t0.02386403663261712\n",
        "100\t0.02536104262064107\n",
        "105\t0.025096865093342725\n",
        "110\t0.02588939767523776\n",
        "115\t0.02712222613596337\n",
        "120\t0.02571327932370553\n",
        "\"\"\""
      ],
      "metadata": {
        "id": "xTj5ZZWmEDoB"
      },
      "execution_count": 20,
      "outputs": []
    },
    {
      "cell_type": "code",
      "source": [
        "mins = []\n",
        "wer = []\n",
        "for line in MINS_DATA.split(\"\\n\"):\n",
        "    if \"\\t\" in line:\n",
        "        parts = line.split(\"\\t\")\n",
        "        mins.append(int(parts[0]))\n",
        "        wer.append(float(parts[1]) * 100)"
      ],
      "metadata": {
        "id": "cbSr-TOTNy6m"
      },
      "execution_count": 21,
      "outputs": []
    },
    {
      "cell_type": "code",
      "source": [
        "df = pd.DataFrame(data={\"Minutes\": mins, \"WER\": wer})"
      ],
      "metadata": {
        "id": "F6pLJCGFN5e6"
      },
      "execution_count": 17,
      "outputs": []
    },
    {
      "cell_type": "code",
      "source": [
        "import numpy as np\n",
        "ax = plt.gca()\n",
        "ax.set_xticks(np.arange(5, 125, 5))\n",
        "ax.set_xticklabels(labels=mins, minor=True)\n",
        "\n",
        "df.plot(kind='line', x='Minutes', y='WER', ax=ax, figsize=(12.8, 4.8))"
      ],
      "metadata": {
        "colab": {
          "base_uri": "https://localhost:8080/",
          "height": 341
        },
        "id": "yxMFzpL4N9q3",
        "outputId": "ba942fa2-cb98-40cb-cdaa-30b23716c4c9"
      },
      "execution_count": 38,
      "outputs": [
        {
          "output_type": "execute_result",
          "data": {
            "text/plain": [
              "<matplotlib.axes._subplots.AxesSubplot at 0x7f400bffbdd0>"
            ]
          },
          "metadata": {},
          "execution_count": 38
        },
        {
          "output_type": "display_data",
          "data": {
            "text/plain": [
              "<Figure size 921.6x345.6 with 1 Axes>"
            ],
            "image/png": "[encoded data removed]"
          },
          "metadata": {
            "needs_background": "light"
          }
        }
      ]
    }
  ]
}