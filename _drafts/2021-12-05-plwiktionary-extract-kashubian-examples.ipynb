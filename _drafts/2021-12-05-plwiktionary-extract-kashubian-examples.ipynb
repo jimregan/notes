{
  "nbformat": 4,
  "nbformat_minor": 0,
  "metadata": {
    "colab": {
      "name": "2021-12-05-plwiktionary-extract-kashubian-examples.ipynb",
      "provenance": []
    },
    "kernelspec": {
      "name": "python3",
      "display_name": "Python 3"
    },
    "language_info": {
      "name": "python"
    }
  },
  "cells": [
    {
      "cell_type": "code",
      "metadata": {
        "colab": {
          "base_uri": "https://localhost:8080/"
        },
        "id": "NdYeSjp-LgP9",
        "outputId": "7326d9ce-fce3-46a9-99e4-7b117c00568a"
      },
      "source": [
        "!wget https://dumps.wikimedia.org/plwiktionary/20211201/plwiktionary-20211201-pages-articles-multistream.xml.bz2"
      ],
      "execution_count": 1,
      "outputs": [
        {
          "output_type": "stream",
          "name": "stdout",
          "text": [
            "--2021-12-06 00:41:04--  https://dumps.wikimedia.org/plwiktionary/20211201/plwiktionary-20211201-pages-articles-multistream.xml.bz2\n",
            "Resolving dumps.wikimedia.org (dumps.wikimedia.org)... 208.80.154.7, 2620:0:861:1:208:80:154:7\n",
            "Connecting to dumps.wikimedia.org (dumps.wikimedia.org)|208.80.154.7|:443... connected.\n",
            "HTTP request sent, awaiting response... 200 OK\n",
            "Length: 149152188 (142M) [application/octet-stream]\n",
            "Saving to: ‘plwiktionary-20211201-pages-articles-multistream.xml.bz2’\n",
            "\n",
            "plwiktionary-202112 100%[===================>] 142.24M  4.43MB/s    in 31s     \n",
            "\n",
            "2021-12-06 00:41:36 (4.55 MB/s) - ‘plwiktionary-20211201-pages-articles-multistream.xml.bz2’ saved [149152188/149152188]\n",
            "\n"
          ]
        }
      ]
    },
    {
      "cell_type": "code",
      "metadata": {
        "colab": {
          "base_uri": "https://localhost:8080/"
        },
        "id": "NirvBdZaLjPC",
        "outputId": "812192e8-826e-4d88-9e0b-49427041f30b"
      },
      "source": [
        "%%writefile kashubian.pl\n",
        "#!/usr/bin/perl\n",
        "\n",
        "use warnings;\n",
        "use strict;\n",
        "use utf8;\n",
        "\n",
        "#: (1.1) ''barzo [[kòmùs]] [[dosôdzëc]]'' → [[bardzo]] [[ktoś|komuś]] [[dokuczyć]]\n",
        "\n",
        "binmode(STDIN, \":utf8\");\n",
        "binmode(STDOUT, \":utf8\");\n",
        "\n",
        "my $reading = 0;\n",
        "my $kashubian = 0;\n",
        "while(<>) {\n",
        "\tchomp;\n",
        "\tif($reading == 1) {\n",
        "\t\tif(/^\\{\\{/) {\n",
        "\t\t\t$reading = 0;\n",
        "\t\t\t$kashubian = 0;\n",
        "\t\t\tnext;\n",
        "\t\t} else {\n",
        "\t\t\tprint \"$_\\n\";\n",
        "\t\t}\n",
        "\t} else {\n",
        "\t\tif(/^\\{\\{kolokacje\\}\\}/ && $kashubian == 1) {\n",
        "\t\t\t$reading = 1;\n",
        "\t\t\tnext;\n",
        "\t\t} elsif(/^\\{\\{przykłady\\}\\}/ && $kashubian == 1) {\n",
        "\t\t\t$reading = 1;\n",
        "\t\t\tnext;\n",
        "\t\t} elsif(/^==/) {\n",
        "\t\t\tif(/\\{\\{język kaszubski\\}\\}/) {\n",
        "\t\t\t\t$kashubian = 1;\n",
        "\t\t\t} else {\n",
        "\t\t\t\t$kashubian = 0;\n",
        "\t\t\t}\n",
        "\t\t} else {\n",
        "\t\t\tnext;\n",
        "\t\t}\n",
        "\t}\n",
        "}"
      ],
      "execution_count": 6,
      "outputs": [
        {
          "output_type": "stream",
          "name": "stdout",
          "text": [
            "Overwriting kashubian.pl\n"
          ]
        }
      ]
    },
    {
      "cell_type": "code",
      "metadata": {
        "id": "dAx8T96zMIHs"
      },
      "source": [
        "!bzcat plwiktionary-20211201-pages-articles-multistream.xml.bz2 | perl kashubian.pl > kashubian.txt"
      ],
      "execution_count": 8,
      "outputs": []
    }
  ]
}