{
 "cells": [
  {
   "cell_type": "code",
   "execution_count": null,
   "metadata": {},
   "outputs": [],
   "source": [
    "# Convert to flac for wav2vec\n",
    "\n",
    "> \"Converting from a list\"\n",
    "\n",
    "- toc: false\n",
    "- branch: master\n",
    "- hidden: true\n",
    "- categories: [pydub]"
   ]
  },
  {
   "cell_type": "code",
   "execution_count": 1,
   "metadata": {},
   "outputs": [],
   "source": [
    "BASE_PATH = \"/home/jim/Playing/unlabelled\""
   ]
  },
  {
   "cell_type": "code",
   "execution_count": 4,
   "metadata": {},
   "outputs": [],
   "source": [
    "files = []\n",
    "with open(f\"{BASE_PATH}/ina/no-music\") as inf:\n",
    "    for line in inf.readlines():\n",
    "        stripped = line.strip()\n",
    "        if stripped.startswith(\"./\"):\n",
    "            stripped = stripped[2:]\n",
    "        if stripped.endswith(\".csv\"):\n",
    "            stripped = stripped[0:-4]\n",
    "        files.append(stripped)"
   ]
  },
  {
   "cell_type": "code",
   "execution_count": 6,
   "metadata": {},
   "outputs": [],
   "source": [
    "exts = [\"m4a\", \"mkv\", \"mp3\", \"MP3\", \"mp4\", \"wav\"]"
   ]
  },
  {
   "cell_type": "code",
   "execution_count": 7,
   "metadata": {},
   "outputs": [],
   "source": [
    "from pathlib import Path\n"
   ]
  },
  {
   "cell_type": "code",
   "execution_count": 8,
   "metadata": {},
   "outputs": [],
   "source": [
    "data = {}\n",
    "for file in files:\n",
    "    for ext in exts:\n",
    "        pathstr = f\"{BASE_PATH}/{file}.{ext}\"\n",
    "        cur_path = Path(pathstr)\n",
    "        if cur_path.is_file():\n",
    "            data[file] = pathstr"
   ]
  },
  {
   "cell_type": "code",
   "execution_count": 12,
   "metadata": {},
   "outputs": [],
   "source": [
    "from pydub import AudioSegment"
   ]
  },
  {
   "cell_type": "code",
   "execution_count": 14,
   "metadata": {},
   "outputs": [],
   "source": [
    "for basename, fname in data.items():\n",
    "    outstr = f\"{BASE_PATH}/flac/{basename}.flac\"\n",
    "    audio = AudioSegment.from_file(fname)\n",
    "    audio.export(outstr, format=\"flac\", parameters=[\"-ac\", \"1\", \"-ar\", \"16000\"])"
   ]
  },
  {
   "cell_type": "code",
   "execution_count": 16,
   "metadata": {},
   "outputs": [],
   "source": [
    "count = 1\n",
    "with open(f\"{BASE_PATH}/vad_input.txt\", \"w\") as outf:\n",
    "    for basename, fname in data.items():\n",
    "        outstr = f\"{BASE_PATH}/flac/{basename}.flac\"\n",
    "        audio = AudioSegment.from_file(outstr)\n",
    "        outf.write(f\"train{count:04d} {outstr} {audio.duration_seconds}\\n\")\n",
    "        count += 1"
   ]
  }
 ],
 "metadata": {
  "kernelspec": {
   "display_name": "Python 3",
   "language": "python",
   "name": "python3"
  },
  "language_info": {
   "codemirror_mode": {
    "name": "ipython",
    "version": 3
   },
   "file_extension": ".py",
   "mimetype": "text/x-python",
   "name": "python",
   "nbconvert_exporter": "python",
   "pygments_lexer": "ipython3",
   "version": "3.6.9"
  }
 },
 "nbformat": 4,
 "nbformat_minor": 2
}
