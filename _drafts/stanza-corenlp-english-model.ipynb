{
 "cells": [
  {
   "cell_type": "code",
   "execution_count": 1,
   "id": "infinite-nirvana",
   "metadata": {
    "execution": {
     "iopub.execute_input": "2021-05-22T19:30:06.902218Z",
     "iopub.status.busy": "2021-05-22T19:30:06.901074Z",
     "iopub.status.idle": "2021-05-22T19:30:16.006899Z",
     "shell.execute_reply": "2021-05-22T19:30:16.005846Z",
     "shell.execute_reply.started": "2021-05-22T19:26:00.444006Z"
    },
    "papermill": {
     "duration": 9.115579,
     "end_time": "2021-05-22T19:30:16.007104",
     "exception": false,
     "start_time": "2021-05-22T19:30:06.891525",
     "status": "completed"
    },
    "tags": []
   },
   "outputs": [
    {
     "name": "stdout",
     "output_type": "stream",
     "text": [
      "Collecting stanza\r\n",
      "  Downloading stanza-1.2-py3-none-any.whl (282 kB)\r\n",
      "\u001b[K     |████████████████████████████████| 282 kB 1.2 MB/s \r\n",
      "\u001b[?25hRequirement already satisfied: numpy in /opt/conda/lib/python3.7/site-packages (from stanza) (1.19.5)\r\n",
      "Requirement already satisfied: requests in /opt/conda/lib/python3.7/site-packages (from stanza) (2.25.1)\r\n",
      "Requirement already satisfied: tqdm in /opt/conda/lib/python3.7/site-packages (from stanza) (4.56.2)\r\n",
      "Requirement already satisfied: protobuf in /opt/conda/lib/python3.7/site-packages (from stanza) (3.15.6)\r\n",
      "Requirement already satisfied: torch>=1.3.0 in /opt/conda/lib/python3.7/site-packages (from stanza) (1.7.0)\r\n",
      "Requirement already satisfied: future in /opt/conda/lib/python3.7/site-packages (from torch>=1.3.0->stanza) (0.18.2)\r\n",
      "Requirement already satisfied: typing_extensions in /opt/conda/lib/python3.7/site-packages (from torch>=1.3.0->stanza) (3.7.4.3)\r\n",
      "Requirement already satisfied: dataclasses in /opt/conda/lib/python3.7/site-packages (from torch>=1.3.0->stanza) (0.6)\r\n",
      "Requirement already satisfied: six>=1.9 in /opt/conda/lib/python3.7/site-packages (from protobuf->stanza) (1.15.0)\r\n",
      "Requirement already satisfied: idna<3,>=2.5 in /opt/conda/lib/python3.7/site-packages (from requests->stanza) (2.10)\r\n",
      "Requirement already satisfied: chardet<5,>=3.0.2 in /opt/conda/lib/python3.7/site-packages (from requests->stanza) (3.0.4)\r\n",
      "Requirement already satisfied: certifi>=2017.4.17 in /opt/conda/lib/python3.7/site-packages (from requests->stanza) (2020.12.5)\r\n",
      "Requirement already satisfied: urllib3<1.27,>=1.21.1 in /opt/conda/lib/python3.7/site-packages (from requests->stanza) (1.26.3)\r\n",
      "Installing collected packages: stanza\r\n",
      "Successfully installed stanza-1.2\r\n"
     ]
    }
   ],
   "source": [
    "!pip install stanza"
   ]
  },
  {
   "cell_type": "code",
   "execution_count": 2,
   "id": "nasty-mileage",
   "metadata": {
    "_cell_guid": "b1076dfc-b9ad-4769-8c92-a6c4dae69d19",
    "_uuid": "8f2839f25d086af736a60e9eeb907d3b93b6e0e5",
    "execution": {
     "iopub.execute_input": "2021-05-22T19:30:16.028266Z",
     "iopub.status.busy": "2021-05-22T19:30:16.027286Z",
     "iopub.status.idle": "2021-05-22T19:32:49.521699Z",
     "shell.execute_reply": "2021-05-22T19:32:49.521004Z",
     "shell.execute_reply.started": "2021-05-22T19:26:15.055428Z"
    },
    "papermill": {
     "duration": 153.507211,
     "end_time": "2021-05-22T19:32:49.521922",
     "exception": false,
     "start_time": "2021-05-22T19:30:16.014711",
     "status": "completed"
    },
    "tags": []
   },
   "outputs": [
    {
     "name": "stderr",
     "output_type": "stream",
     "text": [
      "Downloading http://nlp.stanford.edu/software/stanford-corenlp-latest.zip: 100%|██████████| 504M/504M [02:28<00:00, 3.39MB/s]\n"
     ]
    }
   ],
   "source": [
    "import stanza\n",
    "stanza.install_corenlp(dir=\"corenlp\")"
   ]
  },
  {
   "cell_type": "code",
   "execution_count": 3,
   "id": "bizarre-metadata",
   "metadata": {
    "execution": {
     "iopub.execute_input": "2021-05-22T19:32:50.012766Z",
     "iopub.status.busy": "2021-05-22T19:32:50.010291Z",
     "iopub.status.idle": "2021-05-22T19:36:28.403158Z",
     "shell.execute_reply": "2021-05-22T19:36:28.402485Z"
    },
    "papermill": {
     "duration": 218.634618,
     "end_time": "2021-05-22T19:36:28.403342",
     "exception": false,
     "start_time": "2021-05-22T19:32:49.768724",
     "status": "completed"
    },
    "tags": []
   },
   "outputs": [
    {
     "name": "stderr",
     "output_type": "stream",
     "text": [
      "Downloading http://nlp.stanford.edu/software/stanford-corenlp-4.1.0-models-english.jar: 100%|██████████| 671M/671M [03:37<00:00, 3.08MB/s]\n"
     ]
    }
   ],
   "source": [
    "stanza.download_corenlp_models(model='english', version='4.1.0', dir=\"corenlp\")"
   ]
  }
 ],
 "metadata": {
  "kernelspec": {
   "display_name": "Python 3",
   "language": "python",
   "name": "python3"
  },
  "language_info": {
   "codemirror_mode": {
    "name": "ipython",
    "version": 3
   },
   "file_extension": ".py",
   "mimetype": "text/x-python",
   "name": "python",
   "nbconvert_exporter": "python",
   "pygments_lexer": "ipython3",
   "version": "3.7.9"
  },
  "papermill": {
   "default_parameters": {},
   "duration": 389.59186,
   "end_time": "2021-05-22T19:36:29.862432",
   "environment_variables": {},
   "exception": null,
   "input_path": "__notebook__.ipynb",
   "output_path": "__notebook__.ipynb",
   "parameters": {},
   "start_time": "2021-05-22T19:30:00.270572",
   "version": "2.3.2"
  }
 },
 "nbformat": 4,
 "nbformat_minor": 5
}
