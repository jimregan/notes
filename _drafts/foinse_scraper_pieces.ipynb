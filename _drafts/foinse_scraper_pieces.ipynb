{
  "nbformat": 4,
  "nbformat_minor": 0,
  "metadata": {
    "colab": {
      "name": "foinse-scraper-pieces.ipynb",
      "provenance": []
    },
    "kernelspec": {
      "name": "python3",
      "display_name": "Python 3"
    },
    "language_info": {
      "name": "python"
    }
  },
  "cells": [
    {
      "cell_type": "code",
      "metadata": {
        "id": "skhj7IflwQHk"
      },
      "source": [
        "link = \"http://web.archive.org/web/20130922081459/http://www.foinse.ie/nuacht/nuacht-is-deanai/6765-suil-go-gcruthofar-158-post-nua-le-tograi-ata-ceadaithe-ag-unag\""
      ],
      "execution_count": 2,
      "outputs": []
    },
    {
      "cell_type": "code",
      "metadata": {
        "id": "9XVXKEgIwUbd"
      },
      "source": [
        "import requests\n",
        "from bs4 import BeautifulSoup"
      ],
      "execution_count": 1,
      "outputs": []
    },
    {
      "cell_type": "code",
      "metadata": {
        "id": "d6zDz_wUwe8_"
      },
      "source": [
        "page = requests.get(link)\n",
        "assert page.status_code == 200"
      ],
      "execution_count": 3,
      "outputs": []
    },
    {
      "cell_type": "markdown",
      "metadata": {
        "id": "QxEabIT01LhX"
      },
      "source": [
        "In purely text terms, much of the junk can be discarded using these comments:"
      ]
    },
    {
      "cell_type": "code",
      "metadata": {
        "id": "DdpiNMDwwmEJ"
      },
      "source": [
        "if \"<!-- CONTENT -->\" in page.text:\n",
        "    trim = page.text.split(\"<!-- CONTENT -->\")[1]"
      ],
      "execution_count": 10,
      "outputs": []
    },
    {
      "cell_type": "code",
      "metadata": {
        "id": "OkeHnbOkwzq9"
      },
      "source": [
        "if trim and \"<!-- //CONTENT -->\" in trim:\n",
        "    trim = trim.split(\"<!-- //CONTENT -->\")[0]"
      ],
      "execution_count": 11,
      "outputs": []
    },
    {
      "cell_type": "markdown",
      "metadata": {
        "id": "zPu80wwZ1VQB"
      },
      "source": [
        "... but it's easier with BeautifulSoup to just extract `<div class=\"item-page\">`"
      ]
    },
    {
      "cell_type": "code",
      "metadata": {
        "id": "ZSyuOk2mw5uI"
      },
      "source": [
        "soup = BeautifulSoup(page.text, \"lxml\")\n"
      ],
      "execution_count": 14,
      "outputs": []
    },
    {
      "cell_type": "code",
      "metadata": {
        "id": "V9Chyghuze2c"
      },
      "source": [
        "content = soup.find(\"div\", {\"class\": \"item-page\"})"
      ],
      "execution_count": 19,
      "outputs": []
    },
    {
      "cell_type": "code",
      "metadata": {
        "colab": {
          "base_uri": "https://localhost:8080/",
          "height": 35
        },
        "id": "GRPjB-hU0SHz",
        "outputId": "9287bd51-14ff-45c0-beb8-d77d6517dc19"
      },
      "source": [
        "title = content.find(\"h2\").text.strip()"
      ],
      "execution_count": 22,
      "outputs": [
        {
          "output_type": "execute_result",
          "data": {
            "application/vnd.google.colaboratory.intrinsic+json": {
              "type": "string"
            },
            "text/plain": [
              "'Súil go gcruthófar 158 post nua le tograí atá ceadaithe ag ÚnaG'"
            ]
          },
          "metadata": {},
          "execution_count": 22
        }
      ]
    },
    {
      "cell_type": "code",
      "metadata": {
        "id": "v6QTFDpd0bGh"
      },
      "source": [
        "published_tag = content.find(\"dd\", {\"class\": \"published\"})"
      ],
      "execution_count": 28,
      "outputs": []
    },
    {
      "cell_type": "code",
      "metadata": {
        "id": "3a_Qh-A50jUQ"
      },
      "source": [
        "if published_tag:\n",
        "    published = published_tag.text.strip()"
      ],
      "execution_count": 29,
      "outputs": []
    },
    {
      "cell_type": "code",
      "metadata": {
        "id": "xDmeExwm0wpv"
      },
      "source": [
        "author_tag = content.find(\"dd\", {\"class\": \"createdby\"})\n",
        "if author_tag:\n",
        "    author = author_tag.text.strip()"
      ],
      "execution_count": 31,
      "outputs": []
    },
    {
      "cell_type": "code",
      "metadata": {
        "colab": {
          "base_uri": "https://localhost:8080/",
          "height": 35
        },
        "id": "NAiAu7Vo09TM",
        "outputId": "19e7372d-9657-4011-fe03-91c808587357"
      },
      "source": [
        "author"
      ],
      "execution_count": 32,
      "outputs": [
        {
          "output_type": "execute_result",
          "data": {
            "application/vnd.google.colaboratory.intrinsic+json": {
              "type": "string"
            },
            "text/plain": [
              "'Scríofa ag Foinse'"
            ]
          },
          "metadata": {},
          "execution_count": 32
        }
      ]
    },
    {
      "cell_type": "code",
      "metadata": {
        "id": "ITUcDyc21fBF"
      },
      "source": [
        "paragraphs_tags = content.find_all(\"p\", {\"class\": \"MsoNormal\"})"
      ],
      "execution_count": 38,
      "outputs": []
    },
    {
      "cell_type": "code",
      "metadata": {
        "id": "dypFDRCD1iRX"
      },
      "source": [
        "paragraphs = [p.text.replace(\"\\xa0\", \" \").strip() for p in paragraphs_tags]"
      ],
      "execution_count": 41,
      "outputs": []
    },
    {
      "cell_type": "code",
      "metadata": {
        "colab": {
          "base_uri": "https://localhost:8080/"
        },
        "id": "OFT3ZJ101wHR",
        "outputId": "776e8e88-d8c4-4c42-d5bb-e9d39da67399"
      },
      "source": [
        "paragraphs"
      ],
      "execution_count": 42,
      "outputs": [
        {
          "output_type": "execute_result",
          "data": {
            "text/plain": [
              "['Ag cruinniú de Bhord Údarás na Gaeltachta sna Forbacha inniu (20 Meán Fómhair), ceadaíodh líon tograí ina mbeifear ag súil go gcruthófar 158 post nua lánaimseartha nuair a bheidh na tograí faoi lán seoil.  Beidh infheistíocht iomlán de €10 milliún i gceist sna tograí seo (óna comhlachtaí agus an tÚdarás) agus tabharfar breis eolais fúthu seo in am trátha.',\n",
              " 'D’fháiltigh Bord an Údaráis roimh fhógra a rinne Aire Stáit na Gaeltachta níos luaithe an tseachtain seo go bhfuil na Rialacháin sínithe aige chun na critéir pleanála teanga a fhorordú faoi Acht na Gaeltacht, 2012. Is céim eile í seo i dtreo iomlánú an phróisis chun tús a chur le fógairt na Limistéir Pleanála Teanga sa Ghaeltacht, na mBailte Seirbhíse Gaeltachta agus na Líonraí Gaeilge. Tá feidhmeannaigh an Údaráis ag obair i gcomhar leis an Roinn Ealaíon, Oidhreachta agus Gaeltachta agus Foras na Gaeilge leis an chéad chéim eile den phróiseas a ullmhú agus beidh sé seo á fhógairt faoin cheann míosa.',\n",
              " 'Tugadh le fios fosta ag an chruinniú go bhfuil tús á chur le Dioplóma i mBuanú agus i bPleanáil Teanga Dé Sathairn seo (21 Meán Fómhair). Tá os cionn 50 duine cláraithe don chúrsa atá á thairiscint ag Ollscoil na hÉireann, Gaillimh i gcomhar le hÚdarás na Gaeltachta.']"
            ]
          },
          "metadata": {},
          "execution_count": 42
        }
      ]
    },
    {
      "cell_type": "code",
      "metadata": {
        "id": "PYm_MY8a2Dpi"
      },
      "source": [
        "vocab_list = []\n",
        "for p in paragraphs_tags:\n",
        "    for vocab in p.find_all(\"a\", {\"class\": \"glossarylink\"}):\n",
        "        item = {}\n",
        "        item[\"en\"] = vocab.get(\"title\").strip()\n",
        "        item[\"ga\"] = vocab.text.strip()\n",
        "        vocab_list.append(item)"
      ],
      "execution_count": 46,
      "outputs": []
    },
    {
      "cell_type": "code",
      "metadata": {
        "colab": {
          "base_uri": "https://localhost:8080/"
        },
        "id": "7tuk67yg2nfp",
        "outputId": "8cb03e35-de7a-4362-e1c3-db86b518d730"
      },
      "source": [
        "vocab_list"
      ],
      "execution_count": 47,
      "outputs": [
        {
          "output_type": "execute_result",
          "data": {
            "text/plain": [
              "[{'en': 'board meeting', 'ga': 'cruinniú de Bhord'},\n",
              " {'en': 'amount', 'ga': 'líon'},\n",
              " {'en': 'full time', 'ga': 'lánaimseartha'},\n",
              " {'en': 'investment', 'ga': 'infheistíocht'},\n",
              " {'en': 'criteria', 'ga': 'critéir'},\n",
              " {'en': 'In the direction of', 'ga': 'i dtreo'},\n",
              " {'en': 'areas', 'ga': 'Limistéir'},\n",
              " {'en': 'with/hips', 'ga': 'leis'},\n",
              " {'en': 'division/department', 'ga': 'Roinn'},\n",
              " {'en': 'the next step', 'ga': 'an chéad chéim eile'},\n",
              " {'en': 'it will', 'ga': 'beidh'},\n",
              " {'en': 'Also', 'ga': 'fosta'},\n",
              " {'en': 'registered', 'ga': 'cláraithe'}]"
            ]
          },
          "metadata": {},
          "execution_count": 47
        }
      ]
    }
  ]
}