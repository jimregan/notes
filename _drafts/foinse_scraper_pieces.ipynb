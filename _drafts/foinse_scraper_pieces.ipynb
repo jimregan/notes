{
 "cells": [
  {
   "cell_type": "code",
   "execution_count": 2,
   "metadata": {
    "id": "skhj7IflwQHk"
   },
   "outputs": [],
   "source": [
    "link = \"http://web.archive.org/web/20130922081459/http://www.foinse.ie/nuacht/nuacht-is-deanai/6765-suil-go-gcruthofar-158-post-nua-le-tograi-ata-ceadaithe-ag-unag\""
   ]
  },
  {
   "cell_type": "code",
   "execution_count": 1,
   "metadata": {
    "id": "9XVXKEgIwUbd"
   },
   "outputs": [],
   "source": [
    "import requests\n",
    "from bs4 import BeautifulSoup"
   ]
  },
  {
   "cell_type": "code",
   "execution_count": 3,
   "metadata": {
    "id": "d6zDz_wUwe8_"
   },
   "outputs": [],
   "source": [
    "page = requests.get(link)\n",
    "assert page.status_code == 200"
   ]
  },
  {
   "cell_type": "markdown",
   "metadata": {
    "id": "QxEabIT01LhX"
   },
   "source": [
    "In purely text terms, much of the junk can be discarded using these comments:"
   ]
  },
  {
   "cell_type": "code",
   "execution_count": 10,
   "metadata": {
    "id": "DdpiNMDwwmEJ"
   },
   "outputs": [],
   "source": [
    "if \"<!-- CONTENT -->\" in page.text:\n",
    "    trim = page.text.split(\"<!-- CONTENT -->\")[1]"
   ]
  },
  {
   "cell_type": "code",
   "execution_count": 11,
   "metadata": {
    "id": "OkeHnbOkwzq9"
   },
   "outputs": [],
   "source": [
    "if trim and \"<!-- //CONTENT -->\" in trim:\n",
    "    trim = trim.split(\"<!-- //CONTENT -->\")[0]"
   ]
  },
  {
   "cell_type": "markdown",
   "metadata": {
    "id": "zPu80wwZ1VQB"
   },
   "source": [
    "... but it's easier with BeautifulSoup to just extract `<div class=\"item-page\">`"
   ]
  },
  {
   "cell_type": "code",
   "execution_count": 14,
   "metadata": {
    "id": "ZSyuOk2mw5uI"
   },
   "outputs": [],
   "source": [
    "soup = BeautifulSoup(page.text, \"lxml\")"
   ]
  },
  {
   "cell_type": "code",
   "execution_count": 19,
   "metadata": {
    "id": "V9Chyghuze2c"
   },
   "outputs": [],
   "source": [
    "content = soup.find(\"div\", {\"class\": \"item-page\"})"
   ]
  },
  {
   "cell_type": "code",
   "execution_count": 22,
   "metadata": {
    "colab": {
     "base_uri": "https://localhost:8080/",
     "height": 35
    },
    "id": "GRPjB-hU0SHz",
    "outputId": "9287bd51-14ff-45c0-beb8-d77d6517dc19"
   },
   "outputs": [
    {
     "data": {
      "application/vnd.google.colaboratory.intrinsic+json": {
       "type": "string"
      },
      "text/plain": [
       "'Súil go gcruthófar 158 post nua le tograí atá ceadaithe ag ÚnaG'"
      ]
     },
     "execution_count": 22,
     "metadata": {},
     "output_type": "execute_result"
    }
   ],
   "source": [
    "title = content.find(\"h2\").text.strip()"
   ]
  },
  {
   "cell_type": "code",
   "execution_count": 28,
   "metadata": {
    "id": "v6QTFDpd0bGh"
   },
   "outputs": [],
   "source": [
    "published_tag = content.find(\"dd\", {\"class\": \"published\"})"
   ]
  },
  {
   "cell_type": "code",
   "execution_count": 29,
   "metadata": {
    "id": "3a_Qh-A50jUQ"
   },
   "outputs": [],
   "source": [
    "if published_tag:\n",
    "    published = published_tag.text.strip()"
   ]
  },
  {
   "cell_type": "code",
   "execution_count": 31,
   "metadata": {
    "id": "xDmeExwm0wpv"
   },
   "outputs": [],
   "source": [
    "author_tag = content.find(\"dd\", {\"class\": \"createdby\"})\n",
    "if author_tag:\n",
    "    author = author_tag.text.strip()"
   ]
  },
  {
   "cell_type": "code",
   "execution_count": 32,
   "metadata": {
    "colab": {
     "base_uri": "https://localhost:8080/",
     "height": 35
    },
    "id": "NAiAu7Vo09TM",
    "outputId": "19e7372d-9657-4011-fe03-91c808587357"
   },
   "outputs": [
    {
     "data": {
      "application/vnd.google.colaboratory.intrinsic+json": {
       "type": "string"
      },
      "text/plain": [
       "'Scríofa ag Foinse'"
      ]
     },
     "execution_count": 32,
     "metadata": {},
     "output_type": "execute_result"
    }
   ],
   "source": [
    "author"
   ]
  },
  {
   "cell_type": "code",
   "execution_count": 38,
   "metadata": {
    "id": "ITUcDyc21fBF"
   },
   "outputs": [],
   "source": [
    "paragraphs_tags = content.find_all(\"p\", {\"class\": \"MsoNormal\"})"
   ]
  },
  {
   "cell_type": "code",
   "execution_count": 41,
   "metadata": {
    "id": "dypFDRCD1iRX"
   },
   "outputs": [],
   "source": [
    "paragraphs = [p.text.replace(\"\\xa0\", \" \").strip() for p in paragraphs_tags]"
   ]
  },
  {
   "cell_type": "code",
   "execution_count": 46,
   "metadata": {
    "id": "PYm_MY8a2Dpi"
   },
   "outputs": [],
   "source": [
    "vocab_list = []\n",
    "for p in paragraphs_tags:\n",
    "    for vocab in p.find_all(\"a\", {\"class\": \"glossarylink\"}):\n",
    "        item = {}\n",
    "        item[\"en\"] = vocab.get(\"title\").strip()\n",
    "        item[\"ga\"] = vocab.text.strip()\n",
    "        vocab_list.append(item)"
   ]
  },
  {
   "cell_type": "code",
   "execution_count": 48,
   "metadata": {
    "id": "mWpe7QJW3V-w"
   },
   "outputs": [],
   "source": [
    "check = \"http://web.archive.org/web/20171222073817/http://www.foinse.ie/nuacht/nuacht-is-deanai/6822-seanoiri-ag-dul-i-mbun-agoide-maidir-le-ciorruithe\""
   ]
  },
  {
   "cell_type": "code",
   "execution_count": 49,
   "metadata": {
    "id": "9aDBI3X73cpS"
   },
   "outputs": [],
   "source": [
    "page2 = requests.get(check)\n",
    "assert page2.status_code == 200"
   ]
  },
  {
   "cell_type": "code",
   "execution_count": 50,
   "metadata": {
    "id": "W9XJdLGL39i-"
   },
   "outputs": [],
   "source": [
    "def get_content(url):\n",
    "    out = {}\n",
    "    page = requests.get(url)\n",
    "    if page.status_code != 200:\n",
    "        return {}\n",
    "\n",
    "    soup = BeautifulSoup(page.text, \"lxml\")\n",
    "\n",
    "    content = soup.find(\"div\", {\"class\": \"item-page\"})\n",
    "    if not content:\n",
    "        return {}\n",
    "\n",
    "    title = content.find(\"h2\").text.strip()\n",
    "    if title:\n",
    "        out[\"title\"] = title\n",
    "\n",
    "    published_tag = content.find(\"dd\", {\"class\": \"published\"})\n",
    "    if published_tag:\n",
    "        out[\"published\"] = published_tag.text.strip()\n",
    "\n",
    "    author_tag = content.find(\"dd\", {\"class\": \"createdby\"})\n",
    "    if author_tag:\n",
    "        out[\"author\"] = author_tag.text.strip()\n",
    "\n",
    "    paragraphs_tags = content.find_all(\"p\", {\"class\": \"MsoNormal\"})\n",
    "    paragraphs = [p.text.replace(\"\\xa0\", \" \").strip() for p in paragraphs_tags]\n",
    "    out[\"text\"] = paragraphs\n",
    "\n",
    "    vocab_list = []\n",
    "    for p in paragraphs_tags:\n",
    "        for vocab in p.find_all(\"a\", {\"class\": \"glossarylink\"}):\n",
    "            item = {}\n",
    "            item[\"en\"] = vocab.get(\"title\").strip()\n",
    "            item[\"ga\"] = vocab.text.strip()\n",
    "            vocab_list.append(item)\n",
    "    out[\"vocab\"] = vocab_list\n",
    "\n",
    "    return out"
   ]
  },
  {
   "cell_type": "code",
   "execution_count": 55,
   "metadata": {
    "id": "2iLwYYet5ath"
   },
   "outputs": [],
   "source": [
    "def filter_para_list(inlist):\n",
    "    out = []\n",
    "    for para in inlist:\n",
    "        if para == \"\":\n",
    "            continue\n",
    "        elif para.strip() == \"Foinse - News as Gaeilge\":\n",
    "            return out\n",
    "        else:\n",
    "            out.append(para)\n",
    "    return out"
   ]
  },
  {
   "cell_type": "code",
   "execution_count": 52,
   "metadata": {
    "id": "VcTxKOf14_3W"
   },
   "outputs": [],
   "source": [
    "def extract_summary(inlist):\n",
    "    if len(inlist) > 2:\n",
    "        if inlist[-2] == \"Did you understand this story? Here are the main points:\":\n",
    "            return inlist[-1]\n",
    "    return \"\""
   ]
  }
 ],
 "metadata": {
  "colab": {
   "name": "foinse-scraper-pieces.ipynb",
   "provenance": []
  },
  "kernelspec": {
   "display_name": "Python 3 (ipykernel)",
   "language": "python",
   "name": "python3"
  },
  "language_info": {
   "codemirror_mode": {
    "name": "ipython",
    "version": 3
   },
   "file_extension": ".py",
   "mimetype": "text/x-python",
   "name": "python",
   "nbconvert_exporter": "python",
   "pygments_lexer": "ipython3",
   "version": "3.8.12"
  }
 },
 "nbformat": 4,
 "nbformat_minor": 4
}
