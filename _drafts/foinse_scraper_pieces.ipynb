{
  "nbformat": 4,
  "nbformat_minor": 0,
  "metadata": {
    "colab": {
      "name": "foinse-scraper-pieces.ipynb",
      "provenance": []
    },
    "kernelspec": {
      "name": "python3",
      "display_name": "Python 3"
    },
    "language_info": {
      "name": "python"
    }
  },
  "cells": [
    {
      "cell_type": "code",
      "metadata": {
        "id": "skhj7IflwQHk"
      },
      "source": [
        "link = \"http://web.archive.org/web/20130922081459/http://www.foinse.ie/nuacht/nuacht-is-deanai/6765-suil-go-gcruthofar-158-post-nua-le-tograi-ata-ceadaithe-ag-unag\""
      ],
      "execution_count": 2,
      "outputs": []
    },
    {
      "cell_type": "code",
      "metadata": {
        "id": "9XVXKEgIwUbd"
      },
      "source": [
        "import requests\n",
        "from bs4 import BeautifulSoup"
      ],
      "execution_count": 1,
      "outputs": []
    },
    {
      "cell_type": "code",
      "metadata": {
        "id": "d6zDz_wUwe8_"
      },
      "source": [
        "page = requests.get(link)\n",
        "assert page.status_code == 200"
      ],
      "execution_count": 3,
      "outputs": []
    },
    {
      "cell_type": "markdown",
      "metadata": {
        "id": "QxEabIT01LhX"
      },
      "source": [
        "In purely text terms, much of the junk can be discarded using these comments:"
      ]
    },
    {
      "cell_type": "code",
      "metadata": {
        "id": "DdpiNMDwwmEJ"
      },
      "source": [
        "if \"<!-- CONTENT -->\" in page.text:\n",
        "    trim = page.text.split(\"<!-- CONTENT -->\")[1]"
      ],
      "execution_count": 10,
      "outputs": []
    },
    {
      "cell_type": "code",
      "metadata": {
        "id": "OkeHnbOkwzq9"
      },
      "source": [
        "if trim and \"<!-- //CONTENT -->\" in trim:\n",
        "    trim = trim.split(\"<!-- //CONTENT -->\")[0]"
      ],
      "execution_count": 11,
      "outputs": []
    },
    {
      "cell_type": "markdown",
      "metadata": {
        "id": "zPu80wwZ1VQB"
      },
      "source": [
        "... but it's easier with BeautifulSoup to just extract `<div class=\"item-page\">`"
      ]
    },
    {
      "cell_type": "code",
      "metadata": {
        "id": "ZSyuOk2mw5uI"
      },
      "source": [
        "soup = BeautifulSoup(page.text, \"lxml\")"
      ],
      "execution_count": 14,
      "outputs": []
    },
    {
      "cell_type": "code",
      "metadata": {
        "id": "V9Chyghuze2c"
      },
      "source": [
        "content = soup.find(\"div\", {\"class\": \"item-page\"})"
      ],
      "execution_count": 19,
      "outputs": []
    },
    {
      "cell_type": "code",
      "metadata": {
        "colab": {
          "base_uri": "https://localhost:8080/",
          "height": 35
        },
        "id": "GRPjB-hU0SHz",
        "outputId": "9287bd51-14ff-45c0-beb8-d77d6517dc19"
      },
      "source": [
        "title = content.find(\"h2\").text.strip()"
      ],
      "execution_count": 22,
      "outputs": [
        {
          "output_type": "execute_result",
          "data": {
            "application/vnd.google.colaboratory.intrinsic+json": {
              "type": "string"
            },
            "text/plain": [
              "'Súil go gcruthófar 158 post nua le tograí atá ceadaithe ag ÚnaG'"
            ]
          },
          "metadata": {},
          "execution_count": 22
        }
      ]
    },
    {
      "cell_type": "code",
      "metadata": {
        "id": "v6QTFDpd0bGh"
      },
      "source": [
        "published_tag = content.find(\"dd\", {\"class\": \"published\"})"
      ],
      "execution_count": 28,
      "outputs": []
    },
    {
      "cell_type": "code",
      "metadata": {
        "id": "3a_Qh-A50jUQ"
      },
      "source": [
        "if published_tag:\n",
        "    published = published_tag.text.strip()"
      ],
      "execution_count": 29,
      "outputs": []
    },
    {
      "cell_type": "code",
      "metadata": {
        "id": "xDmeExwm0wpv"
      },
      "source": [
        "author_tag = content.find(\"dd\", {\"class\": \"createdby\"})\n",
        "if author_tag:\n",
        "    author = author_tag.text.strip()"
      ],
      "execution_count": 31,
      "outputs": []
    },
    {
      "cell_type": "code",
      "metadata": {
        "colab": {
          "base_uri": "https://localhost:8080/",
          "height": 35
        },
        "id": "NAiAu7Vo09TM",
        "outputId": "19e7372d-9657-4011-fe03-91c808587357"
      },
      "source": [
        "author"
      ],
      "execution_count": 32,
      "outputs": [
        {
          "output_type": "execute_result",
          "data": {
            "application/vnd.google.colaboratory.intrinsic+json": {
              "type": "string"
            },
            "text/plain": [
              "'Scríofa ag Foinse'"
            ]
          },
          "metadata": {},
          "execution_count": 32
        }
      ]
    },
    {
      "cell_type": "code",
      "metadata": {
        "id": "ITUcDyc21fBF"
      },
      "source": [
        "paragraphs_tags = content.find_all(\"p\", {\"class\": \"MsoNormal\"})"
      ],
      "execution_count": 38,
      "outputs": []
    },
    {
      "cell_type": "code",
      "metadata": {
        "id": "dypFDRCD1iRX"
      },
      "source": [
        "paragraphs = [p.text.replace(\"\\xa0\", \" \").strip() for p in paragraphs_tags]"
      ],
      "execution_count": 41,
      "outputs": []
    },
    {
      "cell_type": "code",
      "metadata": {
        "colab": {
          "base_uri": "https://localhost:8080/"
        },
        "id": "OFT3ZJ101wHR",
        "outputId": "776e8e88-d8c4-4c42-d5bb-e9d39da67399"
      },
      "source": [
        "paragraphs"
      ],
      "execution_count": 42,
      "outputs": [
        {
          "output_type": "execute_result",
          "data": {
            "text/plain": [
              "['Ag cruinniú de Bhord Údarás na Gaeltachta sna Forbacha inniu (20 Meán Fómhair), ceadaíodh líon tograí ina mbeifear ag súil go gcruthófar 158 post nua lánaimseartha nuair a bheidh na tograí faoi lán seoil.  Beidh infheistíocht iomlán de €10 milliún i gceist sna tograí seo (óna comhlachtaí agus an tÚdarás) agus tabharfar breis eolais fúthu seo in am trátha.',\n",
              " 'D’fháiltigh Bord an Údaráis roimh fhógra a rinne Aire Stáit na Gaeltachta níos luaithe an tseachtain seo go bhfuil na Rialacháin sínithe aige chun na critéir pleanála teanga a fhorordú faoi Acht na Gaeltacht, 2012. Is céim eile í seo i dtreo iomlánú an phróisis chun tús a chur le fógairt na Limistéir Pleanála Teanga sa Ghaeltacht, na mBailte Seirbhíse Gaeltachta agus na Líonraí Gaeilge. Tá feidhmeannaigh an Údaráis ag obair i gcomhar leis an Roinn Ealaíon, Oidhreachta agus Gaeltachta agus Foras na Gaeilge leis an chéad chéim eile den phróiseas a ullmhú agus beidh sé seo á fhógairt faoin cheann míosa.',\n",
              " 'Tugadh le fios fosta ag an chruinniú go bhfuil tús á chur le Dioplóma i mBuanú agus i bPleanáil Teanga Dé Sathairn seo (21 Meán Fómhair). Tá os cionn 50 duine cláraithe don chúrsa atá á thairiscint ag Ollscoil na hÉireann, Gaillimh i gcomhar le hÚdarás na Gaeltachta.']"
            ]
          },
          "metadata": {},
          "execution_count": 42
        }
      ]
    },
    {
      "cell_type": "code",
      "metadata": {
        "id": "PYm_MY8a2Dpi"
      },
      "source": [
        "vocab_list = []\n",
        "for p in paragraphs_tags:\n",
        "    for vocab in p.find_all(\"a\", {\"class\": \"glossarylink\"}):\n",
        "        item = {}\n",
        "        item[\"en\"] = vocab.get(\"title\").strip()\n",
        "        item[\"ga\"] = vocab.text.strip()\n",
        "        vocab_list.append(item)"
      ],
      "execution_count": 46,
      "outputs": []
    },
    {
      "cell_type": "code",
      "metadata": {
        "colab": {
          "base_uri": "https://localhost:8080/"
        },
        "id": "7tuk67yg2nfp",
        "outputId": "8cb03e35-de7a-4362-e1c3-db86b518d730"
      },
      "source": [
        "vocab_list"
      ],
      "execution_count": 47,
      "outputs": [
        {
          "output_type": "execute_result",
          "data": {
            "text/plain": [
              "[{'en': 'board meeting', 'ga': 'cruinniú de Bhord'},\n",
              " {'en': 'amount', 'ga': 'líon'},\n",
              " {'en': 'full time', 'ga': 'lánaimseartha'},\n",
              " {'en': 'investment', 'ga': 'infheistíocht'},\n",
              " {'en': 'criteria', 'ga': 'critéir'},\n",
              " {'en': 'In the direction of', 'ga': 'i dtreo'},\n",
              " {'en': 'areas', 'ga': 'Limistéir'},\n",
              " {'en': 'with/hips', 'ga': 'leis'},\n",
              " {'en': 'division/department', 'ga': 'Roinn'},\n",
              " {'en': 'the next step', 'ga': 'an chéad chéim eile'},\n",
              " {'en': 'it will', 'ga': 'beidh'},\n",
              " {'en': 'Also', 'ga': 'fosta'},\n",
              " {'en': 'registered', 'ga': 'cláraithe'}]"
            ]
          },
          "metadata": {},
          "execution_count": 47
        }
      ]
    },
    {
      "cell_type": "code",
      "metadata": {
        "id": "mWpe7QJW3V-w"
      },
      "source": [
        "check = \"http://web.archive.org/web/20171222073817/http://www.foinse.ie/nuacht/nuacht-is-deanai/6822-seanoiri-ag-dul-i-mbun-agoide-maidir-le-ciorruithe\""
      ],
      "execution_count": 48,
      "outputs": []
    },
    {
      "cell_type": "code",
      "metadata": {
        "id": "9aDBI3X73cpS"
      },
      "source": [
        "page2 = requests.get(check)\n",
        "assert page2.status_code == 200"
      ],
      "execution_count": 49,
      "outputs": []
    },
    {
      "cell_type": "code",
      "metadata": {
        "id": "W9XJdLGL39i-"
      },
      "source": [
        "def get_content(url):\n",
        "    out = {}\n",
        "    page = requests.get(url)\n",
        "    if page.status_code != 200:\n",
        "        return {}\n",
        "\n",
        "    soup = BeautifulSoup(page.text, \"lxml\")\n",
        "\n",
        "    content = soup.find(\"div\", {\"class\": \"item-page\"})\n",
        "    if not content:\n",
        "        return {}\n",
        "\n",
        "    title = content.find(\"h2\").text.strip()\n",
        "    if title:\n",
        "        out[\"title\"] = title\n",
        "\n",
        "    published_tag = content.find(\"dd\", {\"class\": \"published\"})\n",
        "    if published_tag:\n",
        "        out[\"published\"] = published_tag.text.strip()\n",
        "\n",
        "    author_tag = content.find(\"dd\", {\"class\": \"createdby\"})\n",
        "    if author_tag:\n",
        "        out[\"author\"] = author_tag.text.strip()\n",
        "\n",
        "    paragraphs_tags = content.find_all(\"p\", {\"class\": \"MsoNormal\"})\n",
        "    paragraphs = [p.text.replace(\"\\xa0\", \" \").strip() for p in paragraphs_tags]\n",
        "    out[\"text\"] = paragraphs\n",
        "\n",
        "    vocab_list = []\n",
        "    for p in paragraphs_tags:\n",
        "        for vocab in p.find_all(\"a\", {\"class\": \"glossarylink\"}):\n",
        "            item = {}\n",
        "            item[\"en\"] = vocab.get(\"title\").strip()\n",
        "            item[\"ga\"] = vocab.text.strip()\n",
        "            vocab_list.append(item)\n",
        "    out[\"vocab\"] = vocab_list\n",
        "\n",
        "    return out"
      ],
      "execution_count": 50,
      "outputs": []
    },
    {
      "cell_type": "code",
      "metadata": {
        "colab": {
          "base_uri": "https://localhost:8080/"
        },
        "id": "z7Ao9UDD4zbQ",
        "outputId": "a9504019-6b7c-47df-cb39-71038311f866"
      },
      "source": [
        "get_content(check)"
      ],
      "execution_count": 51,
      "outputs": [
        {
          "output_type": "execute_result",
          "data": {
            "text/plain": [
              "{'author': 'Scríofa ag Úna Ní Eidhin',\n",
              " 'published': 'Foilsithe an Dé Máirt, 22 Deireadh Fómhair 2013 09:24',\n",
              " 'text': ['Tá sé i gceist ag seanóirí dul i mbun agóide taobh amuigh den Dáil inniu, mar thoradh ar chiorruithe a fógraíodh sa cháinaisnéis an tseachtain seo caite.',\n",
              "  'I measc na gciorruithe, bhí laghdú maidir leis an gcárta leighis do dhaoine os cionn 70 bliain d’aois agus rinneadh cinneadh deireadh a chur leis an deontas méala freisin. Tá an grúpa, Parlaimint na Seanóirí in Éirinn, ag rá go bhfuil an-imní ar sheanóirí maidir leis na ciorruithe seo agus go bhfuil feachtas ar bun acu le hiarracht a dhéanamh iallach a chur ar an rialtas, iad a tharraingt siar.',\n",
              "  'Táthar chun agóid a reáchtáil taobh amuigh de Dáil Éireann ag 1.15pm inniu.',\n",
              "  'Foinse - News as Gaeilge',\n",
              "  '',\n",
              "  'Did you understand this story? Here are the main points:',\n",
              "  \"Senior citizens intend to protest outside the Dáil at 1.15pm today against cuts announced in last week's budget, which included a reduction in the over 70s medical card and the scrapping of the bereavement grant.\"],\n",
              " 'title': 'Seanóirí ag dul i mbun agóide maidir le ciorruithe',\n",
              " 'vocab': [{'en': 'it was announced', 'ga': 'fógraíodh'},\n",
              "  {'en': 'Reduction', 'ga': 'laghdú'},\n",
              "  {'en': 'with/hips', 'ga': 'leis'},\n",
              "  {'en': 'decision / determination / finding / conclusion', 'ga': 'cinneadh'},\n",
              "  {'en': 'grant / bounty', 'ga': 'deontas'},\n",
              "  {'en': 'cut-backs', 'ga': 'ciorruithe'},\n",
              "  {'en': 'campaign', 'ga': 'feachtas'},\n",
              "  {'en': 'constraint', 'ga': 'iallach'},\n",
              "  {'en': 'protest / objection / demonstration / object', 'ga': 'agóid'},\n",
              "  {'en': 'organise', 'ga': 'reáchtáil'}]}"
            ]
          },
          "metadata": {},
          "execution_count": 51
        }
      ]
    },
    {
      "cell_type": "code",
      "metadata": {
        "id": "2iLwYYet5ath"
      },
      "source": [
        "def filter_para_list(inlist):\n",
        "    out = []\n",
        "    for para in inlist:\n",
        "        if para == \"\":\n",
        "            continue\n",
        "        elif para.strip() == \"Foinse - News as Gaeilge\":\n",
        "            return out\n",
        "        else:\n",
        "            out.append(para)\n",
        "    return out"
      ],
      "execution_count": 55,
      "outputs": []
    },
    {
      "cell_type": "code",
      "metadata": {
        "id": "VcTxKOf14_3W"
      },
      "source": [
        "def extract_summary(inlist):\n",
        "    if len(inlist) > 2:\n",
        "        if inlist[-2] == \"Did you understand this story? Here are the main points:\":\n",
        "            return inlist[-1]\n",
        "    return \"\""
      ],
      "execution_count": 52,
      "outputs": []
    }
  ]
}