{
 "cells": [
  {
   "cell_type": "markdown",
   "source": [],
   "metadata": {}
  },
  {
   "cell_type": "code",
   "execution_count": null,
   "source": [
    "from datasets import load_dataset"
   ],
   "outputs": [],
   "metadata": {}
  },
  {
   "cell_type": "code",
   "execution_count": 3,
   "source": [
    "dirs = \"\"\"\r\n",
    "cmg_ga_mu_corpusbeag\r\n",
    "pmg_ga_co/RCPiarsachALL\r\n",
    "nnc_ga_mu/CDNamedEntities01\r\n",
    "nnc_ga_mu/CDAn_tOileanach_part3_newLTS\r\n",
    "nnc_ga_mu/CDAn_tOileanach_part4_newLTS\r\n",
    "nnc_ga_mu/CDNamedEntities02\r\n",
    "nnc_ga_mu/CDAlphabet\r\n",
    "nnc_ga_mu/CDAn_tOileanach_part2_newLTS\r\n",
    "nnc_ga_mu/corpas_beag_newLTS\r\n",
    "nnc_ga_mu/CDSaytime\r\n",
    "nnc_ga_mu/CDAn_tOileanach_part1_newLTS\r\n",
    "cmg_ga_mu/CMGOther\r\n",
    "cmg_ga_mu/CMGCorpusBeag\r\n",
    "anb_ga_ul/new_text02\r\n",
    "anb_ga_ul/text01-004\r\n",
    "anb_ga_ul/text01\r\n",
    "anb_ga_ul/text01-001\r\n",
    "anb_ga_ul/text02\r\n",
    "anb_ga_ul/named-entities\r\n",
    "nnc_en_ie\r\n",
    "\"\"\""
   ],
   "outputs": [],
   "metadata": {}
  },
  {
   "cell_type": "code",
   "execution_count": 6,
   "source": [
    "dirl = [a for a in dirs.split(\"\\n\") if a]"
   ],
   "outputs": [],
   "metadata": {}
  },
  {
   "cell_type": "code",
   "execution_count": 2,
   "source": [
    "script = \"abairxml.py\""
   ],
   "outputs": [],
   "metadata": {}
  },
  {
   "cell_type": "code",
   "execution_count": null,
   "source": [
    "sets = {}\r\n",
    "for dir in dirl:\r\n",
    "    sets[dir] = load_dataset(script, data_dir=dir)"
   ],
   "outputs": [],
   "metadata": {}
  }
 ],
 "metadata": {
  "kernelspec": {
   "name": "python3",
   "display_name": "Python 3.9.4 64-bit ('base': conda)"
  },
  "language_info": {
   "name": "python",
   "version": "3.9.4",
   "mimetype": "text/x-python",
   "codemirror_mode": {
    "name": "ipython",
    "version": 3
   },
   "pygments_lexer": "ipython3",
   "nbconvert_exporter": "python",
   "file_extension": ".py"
  },
  "interpreter": {
   "hash": "b174e98a0fa21d081469da6d7a7f39d57d9081431b3c051c1c000c3d6ee434aa"
  }
 },
 "nbformat": 4,
 "nbformat_minor": 4
}