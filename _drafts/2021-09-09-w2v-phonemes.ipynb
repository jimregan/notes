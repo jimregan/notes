{
 "cells": [
  {
   "cell_type": "markdown",
   "source": [],
   "metadata": {}
  },
  {
   "cell_type": "code",
   "execution_count": null,
   "source": [
    "from datasets import load_dataset"
   ],
   "outputs": [],
   "metadata": {}
  },
  {
   "cell_type": "code",
   "execution_count": null,
   "source": [
    "dirs = \"\"\"\r\n",
    "cmg_ga_mu_corpusbeag\r\n",
    "pmg_ga_co/RCPiarsachALL\r\n",
    "nnc_ga_mu/CDNamedEntities01\r\n",
    "nnc_ga_mu/CDAn_tOileanach_part3_newLTS\r\n",
    "nnc_ga_mu/CDAn_tOileanach_part4_newLTS\r\n",
    "nnc_ga_mu/CDNamedEntities02\r\n",
    "nnc_ga_mu/CDAlphabet\r\n",
    "nnc_ga_mu/CDAn_tOileanach_part2_newLTS\r\n",
    "nnc_ga_mu/corpas_beag_newLTS\r\n",
    "nnc_ga_mu/CDSaytime\r\n",
    "nnc_ga_mu/CDAn_tOileanach_part1_newLTS\r\n",
    "cmg_ga_mu/CMGOther\r\n",
    "cmg_ga_mu/CMGCorpusBeag\r\n",
    "anb_ga_ul/new_text02\r\n",
    "anb_ga_ul/text01-004\r\n",
    "anb_ga_ul/text01\r\n",
    "anb_ga_ul/text01-001\r\n",
    "anb_ga_ul/text02\r\n",
    "anb_ga_ul/named-entities\r\n",
    "nnc_en_ie\r\n",
    "\"\"\""
   ],
   "outputs": [],
   "metadata": {}
  },
  {
   "cell_type": "code",
   "execution_count": null,
   "source": [
    "dirl = dirs.split(\"\\n\")"
   ],
   "outputs": [],
   "metadata": {}
  }
 ],
 "metadata": {
  "kernelspec": {
   "name": "python3",
   "display_name": "Python 3.9.4 64-bit ('base': conda)"
  },
  "language_info": {
   "file_extension": ".py",
   "mimetype": "text/x-python",
   "name": "python",
   "version": "3.9.4"
  },
  "interpreter": {
   "hash": "b174e98a0fa21d081469da6d7a7f39d57d9081431b3c051c1c000c3d6ee434aa"
  }
 },
 "nbformat": 4,
 "nbformat_minor": 4
}