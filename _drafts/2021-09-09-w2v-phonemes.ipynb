{
 "cells": [
  {
   "cell_type": "markdown",
   "metadata": {},
   "source": []
  },
  {
   "cell_type": "code",
   "execution_count": 1,
   "metadata": {},
   "outputs": [],
   "source": [
    "from datasets import load_dataset"
   ]
  },
  {
   "cell_type": "code",
   "execution_count": 2,
   "metadata": {},
   "outputs": [],
   "source": [
    "dirs = \"\"\"\n",
    "cmg_ga_mu_corpusbeag\n",
    "pmg_ga_co/RCPiarsachALL\n",
    "nnc_ga_mu/CDNamedEntities01\n",
    "nnc_ga_mu/CDAn_tOileanach_part3_newLTS\n",
    "nnc_ga_mu/CDAn_tOileanach_part4_newLTS\n",
    "nnc_ga_mu/CDNamedEntities02\n",
    "nnc_ga_mu/CDAlphabet\n",
    "nnc_ga_mu/CDAn_tOileanach_part2_newLTS\n",
    "nnc_ga_mu/corpas_beag_newLTS\n",
    "nnc_ga_mu/CDSaytime\n",
    "nnc_ga_mu/CDAn_tOileanach_part1_newLTS\n",
    "cmg_ga_mu/CMGOther\n",
    "cmg_ga_mu/CMGCorpusBeag\n",
    "anb_ga_ul/new_text02\n",
    "anb_ga_ul/text01-004\n",
    "anb_ga_ul/text01\n",
    "anb_ga_ul/text01-001\n",
    "anb_ga_ul/text02\n",
    "anb_ga_ul/named-entities\n",
    "nnc_en_ie\n",
    "\"\"\""
   ]
  },
  {
   "cell_type": "code",
   "execution_count": 3,
   "metadata": {},
   "outputs": [],
   "source": [
    "dirl = [a for a in dirs.split(\"\\n\") if a]"
   ]
  },
  {
   "cell_type": "code",
   "execution_count": 18,
   "metadata": {},
   "outputs": [],
   "source": [
    "script = \"abairxml.py\""
   ]
  },
  {
   "cell_type": "code",
   "execution_count": 19,
   "metadata": {},
   "outputs": [
    {
     "name": "stderr",
     "output_type": "stream",
     "text": [
      "Using custom data configuration default-3a69a91aa0b88fa1\n",
      "Reusing dataset utterance_xml_dataset (/home/jim/.cache/huggingface/datasets/utterance_xml_dataset/default-3a69a91aa0b88fa1/1.1.0/2ab4d5a39b76b2b213d176be1f94b8bb2c34198ea2fabf4b281e0784782b2d2b)\n"
     ]
    }
   ],
   "source": [
    "test = load_dataset(script, data_dir=\"/home/jim/tmp/cmg_ga_mu/CMGOther\")"
   ]
  },
  {
   "cell_type": "code",
   "execution_count": 20,
   "metadata": {},
   "outputs": [
    {
     "data": {
      "text/plain": [
       "DatasetDict({\n",
       "    train: Dataset({\n",
       "        features: ['file_id', 'words', 'phonemes', 'audio', 'dialect', 'language', 'speaker_id', 'audio_set'],\n",
       "        num_rows: 737\n",
       "    })\n",
       "})"
      ]
     },
     "execution_count": 20,
     "metadata": {},
     "output_type": "execute_result"
    }
   ],
   "source": [
    "test"
   ]
  },
  {
   "cell_type": "code",
   "execution_count": 21,
   "metadata": {},
   "outputs": [
    {
     "data": {
      "text/plain": [
       "{'file_id': 'CI0002CMGNamedEntities01_0202',\n",
       " 'words': 'gaeilge na halban',\n",
       " 'phonemes': ['g',\n",
       "  'ee',\n",
       "  'lj',\n",
       "  'gj',\n",
       "  '@',\n",
       "  'n',\n",
       "  '@',\n",
       "  'h',\n",
       "  'a',\n",
       "  'l',\n",
       "  '@',\n",
       "  'b',\n",
       "  '@',\n",
       "  'n'],\n",
       " 'audio': '/home/jim/tmp/cmg_ga_mu/CMGOther/wav16_trimmed/CI0002CMGNamedEntities01_0202.wav',\n",
       " 'dialect': 'mu',\n",
       " 'language': 'ga',\n",
       " 'speaker_id': 'cmg',\n",
       " 'audio_set': 'CMGOther'}"
      ]
     },
     "execution_count": 21,
     "metadata": {},
     "output_type": "execute_result"
    }
   ],
   "source": [
    "test['train'][0]"
   ]
  },
  {
   "cell_type": "code",
   "execution_count": 22,
   "metadata": {},
   "outputs": [],
   "source": [
    "from pathlib import Path\n",
    "def check_paths(batch):\n",
    "    audio_path = Path(batch[\"audio\"])\n",
    "    return audio_path.is_file()"
   ]
  },
  {
   "cell_type": "code",
   "execution_count": 23,
   "metadata": {},
   "outputs": [
    {
     "name": "stderr",
     "output_type": "stream",
     "text": [
      "Loading cached processed dataset at /home/jim/.cache/huggingface/datasets/utterance_xml_dataset/default-3a69a91aa0b88fa1/1.1.0/2ab4d5a39b76b2b213d176be1f94b8bb2c34198ea2fabf4b281e0784782b2d2b/cache-fd1748b2b209eed2.arrow\n"
     ]
    },
    {
     "data": {
      "text/plain": [
       "DatasetDict({\n",
       "    train: Dataset({\n",
       "        features: ['file_id', 'words', 'phonemes', 'audio', 'dialect', 'language', 'speaker_id', 'audio_set'],\n",
       "        num_rows: 737\n",
       "    })\n",
       "})"
      ]
     },
     "execution_count": 23,
     "metadata": {},
     "output_type": "execute_result"
    }
   ],
   "source": [
    "test.filter(check_paths)"
   ]
  },
  {
   "cell_type": "code",
   "execution_count": 24,
   "metadata": {},
   "outputs": [
    {
     "name": "stderr",
     "output_type": "stream",
     "text": [
      "Using custom data configuration default-187ee4831f664a6d\n",
      "Reusing dataset utterance_xml_dataset (/home/jim/.cache/huggingface/datasets/utterance_xml_dataset/default-187ee4831f664a6d/1.1.0/2ab4d5a39b76b2b213d176be1f94b8bb2c34198ea2fabf4b281e0784782b2d2b)\n",
      "Using custom data configuration default-aa8abe91265ea5f3\n",
      "Reusing dataset utterance_xml_dataset (/home/jim/.cache/huggingface/datasets/utterance_xml_dataset/default-aa8abe91265ea5f3/1.1.0/2ab4d5a39b76b2b213d176be1f94b8bb2c34198ea2fabf4b281e0784782b2d2b)\n",
      "Using custom data configuration default-7667bb9aedbb818e\n",
      "Reusing dataset utterance_xml_dataset (/home/jim/.cache/huggingface/datasets/utterance_xml_dataset/default-7667bb9aedbb818e/1.1.0/2ab4d5a39b76b2b213d176be1f94b8bb2c34198ea2fabf4b281e0784782b2d2b)\n",
      "Using custom data configuration default-7a61ec2b352637f4\n",
      "Reusing dataset utterance_xml_dataset (/home/jim/.cache/huggingface/datasets/utterance_xml_dataset/default-7a61ec2b352637f4/1.1.0/2ab4d5a39b76b2b213d176be1f94b8bb2c34198ea2fabf4b281e0784782b2d2b)\n",
      "Using custom data configuration default-da3752ae2db10e54\n",
      "Reusing dataset utterance_xml_dataset (/home/jim/.cache/huggingface/datasets/utterance_xml_dataset/default-da3752ae2db10e54/1.1.0/2ab4d5a39b76b2b213d176be1f94b8bb2c34198ea2fabf4b281e0784782b2d2b)\n",
      "Using custom data configuration default-bc83211c090696b1\n",
      "Reusing dataset utterance_xml_dataset (/home/jim/.cache/huggingface/datasets/utterance_xml_dataset/default-bc83211c090696b1/1.1.0/2ab4d5a39b76b2b213d176be1f94b8bb2c34198ea2fabf4b281e0784782b2d2b)\n",
      "Using custom data configuration default-8a5c6623ef11cf95\n",
      "Reusing dataset utterance_xml_dataset (/home/jim/.cache/huggingface/datasets/utterance_xml_dataset/default-8a5c6623ef11cf95/1.1.0/2ab4d5a39b76b2b213d176be1f94b8bb2c34198ea2fabf4b281e0784782b2d2b)\n",
      "Using custom data configuration default-8898f01d8441980f\n",
      "Reusing dataset utterance_xml_dataset (/home/jim/.cache/huggingface/datasets/utterance_xml_dataset/default-8898f01d8441980f/1.1.0/2ab4d5a39b76b2b213d176be1f94b8bb2c34198ea2fabf4b281e0784782b2d2b)\n",
      "Using custom data configuration default-f3018c93372fbb3e\n",
      "Reusing dataset utterance_xml_dataset (/home/jim/.cache/huggingface/datasets/utterance_xml_dataset/default-f3018c93372fbb3e/1.1.0/2ab4d5a39b76b2b213d176be1f94b8bb2c34198ea2fabf4b281e0784782b2d2b)\n",
      "Using custom data configuration default-394fefcb2267b139\n",
      "Reusing dataset utterance_xml_dataset (/home/jim/.cache/huggingface/datasets/utterance_xml_dataset/default-394fefcb2267b139/1.1.0/2ab4d5a39b76b2b213d176be1f94b8bb2c34198ea2fabf4b281e0784782b2d2b)\n",
      "Using custom data configuration default-e19a455adb1dd118\n",
      "Reusing dataset utterance_xml_dataset (/home/jim/.cache/huggingface/datasets/utterance_xml_dataset/default-e19a455adb1dd118/1.1.0/2ab4d5a39b76b2b213d176be1f94b8bb2c34198ea2fabf4b281e0784782b2d2b)\n",
      "Using custom data configuration default-3a69a91aa0b88fa1\n",
      "Reusing dataset utterance_xml_dataset (/home/jim/.cache/huggingface/datasets/utterance_xml_dataset/default-3a69a91aa0b88fa1/1.1.0/2ab4d5a39b76b2b213d176be1f94b8bb2c34198ea2fabf4b281e0784782b2d2b)\n",
      "Using custom data configuration default-be79e07535743a6e\n",
      "Reusing dataset utterance_xml_dataset (/home/jim/.cache/huggingface/datasets/utterance_xml_dataset/default-be79e07535743a6e/1.1.0/2ab4d5a39b76b2b213d176be1f94b8bb2c34198ea2fabf4b281e0784782b2d2b)\n",
      "Using custom data configuration default-417c6e27426f3437\n",
      "Reusing dataset utterance_xml_dataset (/home/jim/.cache/huggingface/datasets/utterance_xml_dataset/default-417c6e27426f3437/1.1.0/2ab4d5a39b76b2b213d176be1f94b8bb2c34198ea2fabf4b281e0784782b2d2b)\n",
      "Using custom data configuration default-43028c0e5f2c58ca\n",
      "Reusing dataset utterance_xml_dataset (/home/jim/.cache/huggingface/datasets/utterance_xml_dataset/default-43028c0e5f2c58ca/1.1.0/2ab4d5a39b76b2b213d176be1f94b8bb2c34198ea2fabf4b281e0784782b2d2b)\n",
      "Using custom data configuration default-a06c04423430a170\n",
      "Reusing dataset utterance_xml_dataset (/home/jim/.cache/huggingface/datasets/utterance_xml_dataset/default-a06c04423430a170/1.1.0/2ab4d5a39b76b2b213d176be1f94b8bb2c34198ea2fabf4b281e0784782b2d2b)\n",
      "Using custom data configuration default-47dd039cf717a18f\n",
      "Reusing dataset utterance_xml_dataset (/home/jim/.cache/huggingface/datasets/utterance_xml_dataset/default-47dd039cf717a18f/1.1.0/2ab4d5a39b76b2b213d176be1f94b8bb2c34198ea2fabf4b281e0784782b2d2b)\n",
      "Using custom data configuration default-157f875646b8e11f\n",
      "Reusing dataset utterance_xml_dataset (/home/jim/.cache/huggingface/datasets/utterance_xml_dataset/default-157f875646b8e11f/1.1.0/2ab4d5a39b76b2b213d176be1f94b8bb2c34198ea2fabf4b281e0784782b2d2b)\n",
      "Using custom data configuration default-5889ff1f5cce90e0\n",
      "Reusing dataset utterance_xml_dataset (/home/jim/.cache/huggingface/datasets/utterance_xml_dataset/default-5889ff1f5cce90e0/1.1.0/2ab4d5a39b76b2b213d176be1f94b8bb2c34198ea2fabf4b281e0784782b2d2b)\n",
      "Using custom data configuration default-336db2235fd49907\n",
      "Reusing dataset utterance_xml_dataset (/home/jim/.cache/huggingface/datasets/utterance_xml_dataset/default-336db2235fd49907/1.1.0/2ab4d5a39b76b2b213d176be1f94b8bb2c34198ea2fabf4b281e0784782b2d2b)\n"
     ]
    }
   ],
   "source": [
    "sets = {}\n",
    "for dir in dirl:\n",
    "    sets[dir] = load_dataset(script, data_dir=f\"/home/jim/tmp/{dir}\")"
   ]
  },
  {
   "cell_type": "code",
   "execution_count": 25,
   "metadata": {},
   "outputs": [
    {
     "name": "stderr",
     "output_type": "stream",
     "text": [
      "Loading cached processed dataset at /home/jim/.cache/huggingface/datasets/utterance_xml_dataset/default-187ee4831f664a6d/1.1.0/2ab4d5a39b76b2b213d176be1f94b8bb2c34198ea2fabf4b281e0784782b2d2b/cache-96d34247636a824d.arrow\n",
      "Loading cached processed dataset at /home/jim/.cache/huggingface/datasets/utterance_xml_dataset/default-aa8abe91265ea5f3/1.1.0/2ab4d5a39b76b2b213d176be1f94b8bb2c34198ea2fabf4b281e0784782b2d2b/cache-7018f164471d5b99.arrow\n",
      "Loading cached processed dataset at /home/jim/.cache/huggingface/datasets/utterance_xml_dataset/default-7667bb9aedbb818e/1.1.0/2ab4d5a39b76b2b213d176be1f94b8bb2c34198ea2fabf4b281e0784782b2d2b/cache-4ae746a5bb8ab867.arrow\n",
      "Loading cached processed dataset at /home/jim/.cache/huggingface/datasets/utterance_xml_dataset/default-7a61ec2b352637f4/1.1.0/2ab4d5a39b76b2b213d176be1f94b8bb2c34198ea2fabf4b281e0784782b2d2b/cache-65a1ed1f06c66730.arrow\n",
      "Loading cached processed dataset at /home/jim/.cache/huggingface/datasets/utterance_xml_dataset/default-da3752ae2db10e54/1.1.0/2ab4d5a39b76b2b213d176be1f94b8bb2c34198ea2fabf4b281e0784782b2d2b/cache-f85df38cd0c18760.arrow\n",
      "Loading cached processed dataset at /home/jim/.cache/huggingface/datasets/utterance_xml_dataset/default-bc83211c090696b1/1.1.0/2ab4d5a39b76b2b213d176be1f94b8bb2c34198ea2fabf4b281e0784782b2d2b/cache-a78531c403493484.arrow\n",
      "Loading cached processed dataset at /home/jim/.cache/huggingface/datasets/utterance_xml_dataset/default-8a5c6623ef11cf95/1.1.0/2ab4d5a39b76b2b213d176be1f94b8bb2c34198ea2fabf4b281e0784782b2d2b/cache-9ac80223370644e8.arrow\n",
      "Loading cached processed dataset at /home/jim/.cache/huggingface/datasets/utterance_xml_dataset/default-8898f01d8441980f/1.1.0/2ab4d5a39b76b2b213d176be1f94b8bb2c34198ea2fabf4b281e0784782b2d2b/cache-8ba453ba495337c2.arrow\n",
      "Loading cached processed dataset at /home/jim/.cache/huggingface/datasets/utterance_xml_dataset/default-f3018c93372fbb3e/1.1.0/2ab4d5a39b76b2b213d176be1f94b8bb2c34198ea2fabf4b281e0784782b2d2b/cache-f4d3a1c2d91a3cbc.arrow\n",
      "Loading cached processed dataset at /home/jim/.cache/huggingface/datasets/utterance_xml_dataset/default-394fefcb2267b139/1.1.0/2ab4d5a39b76b2b213d176be1f94b8bb2c34198ea2fabf4b281e0784782b2d2b/cache-6bbe18519e4dc0d0.arrow\n",
      "Loading cached processed dataset at /home/jim/.cache/huggingface/datasets/utterance_xml_dataset/default-e19a455adb1dd118/1.1.0/2ab4d5a39b76b2b213d176be1f94b8bb2c34198ea2fabf4b281e0784782b2d2b/cache-884ba0c370db2771.arrow\n",
      "Loading cached processed dataset at /home/jim/.cache/huggingface/datasets/utterance_xml_dataset/default-3a69a91aa0b88fa1/1.1.0/2ab4d5a39b76b2b213d176be1f94b8bb2c34198ea2fabf4b281e0784782b2d2b/cache-fd1748b2b209eed2.arrow\n",
      "Loading cached processed dataset at /home/jim/.cache/huggingface/datasets/utterance_xml_dataset/default-be79e07535743a6e/1.1.0/2ab4d5a39b76b2b213d176be1f94b8bb2c34198ea2fabf4b281e0784782b2d2b/cache-b0de8317eeb157fe.arrow\n",
      "Loading cached processed dataset at /home/jim/.cache/huggingface/datasets/utterance_xml_dataset/default-417c6e27426f3437/1.1.0/2ab4d5a39b76b2b213d176be1f94b8bb2c34198ea2fabf4b281e0784782b2d2b/cache-4ec6f50627536c4a.arrow\n",
      "Loading cached processed dataset at /home/jim/.cache/huggingface/datasets/utterance_xml_dataset/default-43028c0e5f2c58ca/1.1.0/2ab4d5a39b76b2b213d176be1f94b8bb2c34198ea2fabf4b281e0784782b2d2b/cache-25508f353dffe5a4.arrow\n",
      "Loading cached processed dataset at /home/jim/.cache/huggingface/datasets/utterance_xml_dataset/default-a06c04423430a170/1.1.0/2ab4d5a39b76b2b213d176be1f94b8bb2c34198ea2fabf4b281e0784782b2d2b/cache-6b89d3ce1380a94e.arrow\n",
      "Loading cached processed dataset at /home/jim/.cache/huggingface/datasets/utterance_xml_dataset/default-47dd039cf717a18f/1.1.0/2ab4d5a39b76b2b213d176be1f94b8bb2c34198ea2fabf4b281e0784782b2d2b/cache-eaa23f6d212ea43c.arrow\n",
      "Loading cached processed dataset at /home/jim/.cache/huggingface/datasets/utterance_xml_dataset/default-157f875646b8e11f/1.1.0/2ab4d5a39b76b2b213d176be1f94b8bb2c34198ea2fabf4b281e0784782b2d2b/cache-d43c63ec8d4cb897.arrow\n",
      "Loading cached processed dataset at /home/jim/.cache/huggingface/datasets/utterance_xml_dataset/default-5889ff1f5cce90e0/1.1.0/2ab4d5a39b76b2b213d176be1f94b8bb2c34198ea2fabf4b281e0784782b2d2b/cache-3347d4b8bca7b86e.arrow\n",
      "Loading cached processed dataset at /home/jim/.cache/huggingface/datasets/utterance_xml_dataset/default-336db2235fd49907/1.1.0/2ab4d5a39b76b2b213d176be1f94b8bb2c34198ea2fabf4b281e0784782b2d2b/cache-84a411d0343a3512.arrow\n"
     ]
    }
   ],
   "source": [
    "from pathlib import Path\n",
    "def check_paths(batch):\n",
    "    audio_path = Path(batch[\"audio\"])\n",
    "    return audio_path.is_file()\n",
    "\n",
    "for dir in dirl:\n",
    "    sets[dir][\"train\"] = sets[dir][\"train\"].filter(check_paths)"
   ]
  },
  {
   "cell_type": "code",
   "execution_count": 26,
   "metadata": {
    "scrolled": true
   },
   "outputs": [
    {
     "name": "stdout",
     "output_type": "stream",
     "text": [
      "Keyring is skipped due to an exception: Item does not exist!\n",
      "Defaulting to user installation because normal site-packages is not writeable\n",
      "Requirement already satisfied: torchaudio in /home/jim/.local/lib/python3.6/site-packages (0.9.0)\n",
      "Requirement already satisfied: torch==1.9.0 in /home/jim/.local/lib/python3.6/site-packages (from torchaudio) (1.9.0)\n",
      "Requirement already satisfied: dataclasses in /usr/local/lib/python3.6/dist-packages (from torch==1.9.0->torchaudio) (0.8)\n",
      "Requirement already satisfied: typing-extensions in /usr/local/lib/python3.6/dist-packages (from torch==1.9.0->torchaudio) (3.7.4.3)\n"
     ]
    }
   ],
   "source": [
    "!pip install torchaudio"
   ]
  },
  {
   "cell_type": "code",
   "execution_count": 27,
   "metadata": {},
   "outputs": [
    {
     "name": "stderr",
     "output_type": "stream",
     "text": [
      "Loading cached processed dataset at /home/jim/.cache/huggingface/datasets/utterance_xml_dataset/default-187ee4831f664a6d/1.1.0/2ab4d5a39b76b2b213d176be1f94b8bb2c34198ea2fabf4b281e0784782b2d2b/cache-18df1d089931c98b.arrow\n",
      "Loading cached processed dataset at /home/jim/.cache/huggingface/datasets/utterance_xml_dataset/default-aa8abe91265ea5f3/1.1.0/2ab4d5a39b76b2b213d176be1f94b8bb2c34198ea2fabf4b281e0784782b2d2b/cache-0eaad84bca78a073.arrow\n",
      "Loading cached processed dataset at /home/jim/.cache/huggingface/datasets/utterance_xml_dataset/default-7667bb9aedbb818e/1.1.0/2ab4d5a39b76b2b213d176be1f94b8bb2c34198ea2fabf4b281e0784782b2d2b/cache-3c31f68123fd7809.arrow\n",
      "Loading cached processed dataset at /home/jim/.cache/huggingface/datasets/utterance_xml_dataset/default-7a61ec2b352637f4/1.1.0/2ab4d5a39b76b2b213d176be1f94b8bb2c34198ea2fabf4b281e0784782b2d2b/cache-57b4fd0b447303a2.arrow\n",
      "Loading cached processed dataset at /home/jim/.cache/huggingface/datasets/utterance_xml_dataset/default-da3752ae2db10e54/1.1.0/2ab4d5a39b76b2b213d176be1f94b8bb2c34198ea2fabf4b281e0784782b2d2b/cache-73c2eff8b5378aab.arrow\n",
      "Loading cached processed dataset at /home/jim/.cache/huggingface/datasets/utterance_xml_dataset/default-bc83211c090696b1/1.1.0/2ab4d5a39b76b2b213d176be1f94b8bb2c34198ea2fabf4b281e0784782b2d2b/cache-da5ca26a2d03ecdc.arrow\n",
      "Loading cached processed dataset at /home/jim/.cache/huggingface/datasets/utterance_xml_dataset/default-8a5c6623ef11cf95/1.1.0/2ab4d5a39b76b2b213d176be1f94b8bb2c34198ea2fabf4b281e0784782b2d2b/cache-2a1a8dd5ed530678.arrow\n",
      "Loading cached processed dataset at /home/jim/.cache/huggingface/datasets/utterance_xml_dataset/default-8898f01d8441980f/1.1.0/2ab4d5a39b76b2b213d176be1f94b8bb2c34198ea2fabf4b281e0784782b2d2b/cache-aaf3b67f0e27c4a6.arrow\n",
      "Loading cached processed dataset at /home/jim/.cache/huggingface/datasets/utterance_xml_dataset/default-f3018c93372fbb3e/1.1.0/2ab4d5a39b76b2b213d176be1f94b8bb2c34198ea2fabf4b281e0784782b2d2b/cache-2af0e4d1625ddf67.arrow\n",
      "Loading cached processed dataset at /home/jim/.cache/huggingface/datasets/utterance_xml_dataset/default-394fefcb2267b139/1.1.0/2ab4d5a39b76b2b213d176be1f94b8bb2c34198ea2fabf4b281e0784782b2d2b/cache-ea40fec907410ed4.arrow\n",
      "Loading cached processed dataset at /home/jim/.cache/huggingface/datasets/utterance_xml_dataset/default-e19a455adb1dd118/1.1.0/2ab4d5a39b76b2b213d176be1f94b8bb2c34198ea2fabf4b281e0784782b2d2b/cache-7398224424cce64c.arrow\n",
      "Loading cached processed dataset at /home/jim/.cache/huggingface/datasets/utterance_xml_dataset/default-3a69a91aa0b88fa1/1.1.0/2ab4d5a39b76b2b213d176be1f94b8bb2c34198ea2fabf4b281e0784782b2d2b/cache-7c7e8160e8406935.arrow\n",
      "Loading cached processed dataset at /home/jim/.cache/huggingface/datasets/utterance_xml_dataset/default-be79e07535743a6e/1.1.0/2ab4d5a39b76b2b213d176be1f94b8bb2c34198ea2fabf4b281e0784782b2d2b/cache-ae73b888f9fe20f5.arrow\n",
      "Loading cached processed dataset at /home/jim/.cache/huggingface/datasets/utterance_xml_dataset/default-417c6e27426f3437/1.1.0/2ab4d5a39b76b2b213d176be1f94b8bb2c34198ea2fabf4b281e0784782b2d2b/cache-a9963450e3885f8e.arrow\n",
      "Loading cached processed dataset at /home/jim/.cache/huggingface/datasets/utterance_xml_dataset/default-43028c0e5f2c58ca/1.1.0/2ab4d5a39b76b2b213d176be1f94b8bb2c34198ea2fabf4b281e0784782b2d2b/cache-b76ed6fa3fb8afe1.arrow\n",
      "Loading cached processed dataset at /home/jim/.cache/huggingface/datasets/utterance_xml_dataset/default-a06c04423430a170/1.1.0/2ab4d5a39b76b2b213d176be1f94b8bb2c34198ea2fabf4b281e0784782b2d2b/cache-bbb66523817ad4df.arrow\n",
      "Loading cached processed dataset at /home/jim/.cache/huggingface/datasets/utterance_xml_dataset/default-47dd039cf717a18f/1.1.0/2ab4d5a39b76b2b213d176be1f94b8bb2c34198ea2fabf4b281e0784782b2d2b/cache-ca76c6c18b4abf91.arrow\n",
      "Loading cached processed dataset at /home/jim/.cache/huggingface/datasets/utterance_xml_dataset/default-157f875646b8e11f/1.1.0/2ab4d5a39b76b2b213d176be1f94b8bb2c34198ea2fabf4b281e0784782b2d2b/cache-1af7e68fe08b5207.arrow\n",
      "Loading cached processed dataset at /home/jim/.cache/huggingface/datasets/utterance_xml_dataset/default-5889ff1f5cce90e0/1.1.0/2ab4d5a39b76b2b213d176be1f94b8bb2c34198ea2fabf4b281e0784782b2d2b/cache-ff6b9124b076f8e5.arrow\n",
      "Loading cached processed dataset at /home/jim/.cache/huggingface/datasets/utterance_xml_dataset/default-336db2235fd49907/1.1.0/2ab4d5a39b76b2b213d176be1f94b8bb2c34198ea2fabf4b281e0784782b2d2b/cache-14f81baac928b43a.arrow\n"
     ]
    }
   ],
   "source": [
    "import torchaudio\n",
    "\n",
    "def speech_file_to_array_fn(batch):\n",
    "    speech_array, sampling_rate = torchaudio.load(batch[\"audio\"])\n",
    "    batch[\"speech\"] = speech_array[0].numpy()\n",
    "    batch[\"sampling_rate\"] = sampling_rate\n",
    "    batch[\"target_text\"] = batch[\"words\"]\n",
    "    return batch\n",
    "\n",
    "for dir in dirl:\n",
    "    sets[dir][\"train\"] = sets[dir][\"train\"].map(speech_file_to_array_fn, remove_columns=sets[dir][\"train\"].column_names)"
   ]
  },
  {
   "cell_type": "markdown",
   "metadata": {},
   "source": [
    "Something has gone wrong with `anb_ga_ul/text02`\n",
    "\n",
    "Audio is in `wav_trimmed/`"
   ]
  },
  {
   "cell_type": "code",
   "execution_count": 28,
   "metadata": {},
   "outputs": [
    {
     "name": "stderr",
     "output_type": "stream",
     "text": [
      "Loading cached processed dataset at /home/jim/.cache/huggingface/datasets/utterance_xml_dataset/default-187ee4831f664a6d/1.1.0/2ab4d5a39b76b2b213d176be1f94b8bb2c34198ea2fabf4b281e0784782b2d2b/cache-da006be1caebfb5b.arrow\n",
      "Loading cached processed dataset at /home/jim/.cache/huggingface/datasets/utterance_xml_dataset/default-187ee4831f664a6d/1.1.0/2ab4d5a39b76b2b213d176be1f94b8bb2c34198ea2fabf4b281e0784782b2d2b/cache-c2641d558f05e8f1.arrow\n",
      "Loading cached processed dataset at /home/jim/.cache/huggingface/datasets/utterance_xml_dataset/default-187ee4831f664a6d/1.1.0/2ab4d5a39b76b2b213d176be1f94b8bb2c34198ea2fabf4b281e0784782b2d2b/cache-8d515b7aebd171c2.arrow\n",
      "Loading cached processed dataset at /home/jim/.cache/huggingface/datasets/utterance_xml_dataset/default-187ee4831f664a6d/1.1.0/2ab4d5a39b76b2b213d176be1f94b8bb2c34198ea2fabf4b281e0784782b2d2b/cache-7b97b92998e9a71e.arrow\n",
      "Loading cached processed dataset at /home/jim/.cache/huggingface/datasets/utterance_xml_dataset/default-aa8abe91265ea5f3/1.1.0/2ab4d5a39b76b2b213d176be1f94b8bb2c34198ea2fabf4b281e0784782b2d2b/cache-b930ee8e08c75d17.arrow\n",
      "Loading cached processed dataset at /home/jim/.cache/huggingface/datasets/utterance_xml_dataset/default-aa8abe91265ea5f3/1.1.0/2ab4d5a39b76b2b213d176be1f94b8bb2c34198ea2fabf4b281e0784782b2d2b/cache-16fc7e0af6cdfbfe.arrow\n",
      "Loading cached processed dataset at /home/jim/.cache/huggingface/datasets/utterance_xml_dataset/default-aa8abe91265ea5f3/1.1.0/2ab4d5a39b76b2b213d176be1f94b8bb2c34198ea2fabf4b281e0784782b2d2b/cache-3e197422dcab423a.arrow\n",
      "Loading cached processed dataset at /home/jim/.cache/huggingface/datasets/utterance_xml_dataset/default-aa8abe91265ea5f3/1.1.0/2ab4d5a39b76b2b213d176be1f94b8bb2c34198ea2fabf4b281e0784782b2d2b/cache-0bbffbb7006c1760.arrow\n",
      "Loading cached processed dataset at /home/jim/.cache/huggingface/datasets/utterance_xml_dataset/default-7667bb9aedbb818e/1.1.0/2ab4d5a39b76b2b213d176be1f94b8bb2c34198ea2fabf4b281e0784782b2d2b/cache-ddf707dfe4b7d23d.arrow\n",
      "Loading cached processed dataset at /home/jim/.cache/huggingface/datasets/utterance_xml_dataset/default-7667bb9aedbb818e/1.1.0/2ab4d5a39b76b2b213d176be1f94b8bb2c34198ea2fabf4b281e0784782b2d2b/cache-7945f9aa2bbe78be.arrow\n",
      "Loading cached processed dataset at /home/jim/.cache/huggingface/datasets/utterance_xml_dataset/default-7667bb9aedbb818e/1.1.0/2ab4d5a39b76b2b213d176be1f94b8bb2c34198ea2fabf4b281e0784782b2d2b/cache-aa80776b825505d5.arrow\n",
      "Loading cached processed dataset at /home/jim/.cache/huggingface/datasets/utterance_xml_dataset/default-7667bb9aedbb818e/1.1.0/2ab4d5a39b76b2b213d176be1f94b8bb2c34198ea2fabf4b281e0784782b2d2b/cache-3f20a852f448150e.arrow\n",
      "Loading cached processed dataset at /home/jim/.cache/huggingface/datasets/utterance_xml_dataset/default-7a61ec2b352637f4/1.1.0/2ab4d5a39b76b2b213d176be1f94b8bb2c34198ea2fabf4b281e0784782b2d2b/cache-020554618c0473da.arrow\n",
      "Loading cached processed dataset at /home/jim/.cache/huggingface/datasets/utterance_xml_dataset/default-7a61ec2b352637f4/1.1.0/2ab4d5a39b76b2b213d176be1f94b8bb2c34198ea2fabf4b281e0784782b2d2b/cache-80c4a8247db8a5f0.arrow\n",
      "Loading cached processed dataset at /home/jim/.cache/huggingface/datasets/utterance_xml_dataset/default-7a61ec2b352637f4/1.1.0/2ab4d5a39b76b2b213d176be1f94b8bb2c34198ea2fabf4b281e0784782b2d2b/cache-3faf7bd55f7b23b8.arrow\n",
      "Loading cached processed dataset at /home/jim/.cache/huggingface/datasets/utterance_xml_dataset/default-7a61ec2b352637f4/1.1.0/2ab4d5a39b76b2b213d176be1f94b8bb2c34198ea2fabf4b281e0784782b2d2b/cache-f0ae75f51af33439.arrow\n",
      "Loading cached processed dataset at /home/jim/.cache/huggingface/datasets/utterance_xml_dataset/default-da3752ae2db10e54/1.1.0/2ab4d5a39b76b2b213d176be1f94b8bb2c34198ea2fabf4b281e0784782b2d2b/cache-04a363fa350e2d0e.arrow\n",
      "Loading cached processed dataset at /home/jim/.cache/huggingface/datasets/utterance_xml_dataset/default-da3752ae2db10e54/1.1.0/2ab4d5a39b76b2b213d176be1f94b8bb2c34198ea2fabf4b281e0784782b2d2b/cache-2abb738d8bc4459c.arrow\n",
      "Loading cached processed dataset at /home/jim/.cache/huggingface/datasets/utterance_xml_dataset/default-da3752ae2db10e54/1.1.0/2ab4d5a39b76b2b213d176be1f94b8bb2c34198ea2fabf4b281e0784782b2d2b/cache-3cdfa94b1df3c632.arrow\n",
      "Loading cached processed dataset at /home/jim/.cache/huggingface/datasets/utterance_xml_dataset/default-da3752ae2db10e54/1.1.0/2ab4d5a39b76b2b213d176be1f94b8bb2c34198ea2fabf4b281e0784782b2d2b/cache-0fc4b55b3a4a2747.arrow\n",
      "Loading cached processed dataset at /home/jim/.cache/huggingface/datasets/utterance_xml_dataset/default-bc83211c090696b1/1.1.0/2ab4d5a39b76b2b213d176be1f94b8bb2c34198ea2fabf4b281e0784782b2d2b/cache-ea4959f2bba4dea2.arrow\n",
      "Loading cached processed dataset at /home/jim/.cache/huggingface/datasets/utterance_xml_dataset/default-bc83211c090696b1/1.1.0/2ab4d5a39b76b2b213d176be1f94b8bb2c34198ea2fabf4b281e0784782b2d2b/cache-900f99bfe0821493.arrow\n",
      "Loading cached processed dataset at /home/jim/.cache/huggingface/datasets/utterance_xml_dataset/default-bc83211c090696b1/1.1.0/2ab4d5a39b76b2b213d176be1f94b8bb2c34198ea2fabf4b281e0784782b2d2b/cache-ccf6b5fa58f6adc9.arrow\n",
      "Loading cached processed dataset at /home/jim/.cache/huggingface/datasets/utterance_xml_dataset/default-bc83211c090696b1/1.1.0/2ab4d5a39b76b2b213d176be1f94b8bb2c34198ea2fabf4b281e0784782b2d2b/cache-6b04de2ba84f5c1e.arrow\n",
      "Loading cached processed dataset at /home/jim/.cache/huggingface/datasets/utterance_xml_dataset/default-8a5c6623ef11cf95/1.1.0/2ab4d5a39b76b2b213d176be1f94b8bb2c34198ea2fabf4b281e0784782b2d2b/cache-cbe5a0628979048a.arrow\n",
      "Loading cached processed dataset at /home/jim/.cache/huggingface/datasets/utterance_xml_dataset/default-8a5c6623ef11cf95/1.1.0/2ab4d5a39b76b2b213d176be1f94b8bb2c34198ea2fabf4b281e0784782b2d2b/cache-e13656197518a3f6.arrow\n",
      "Loading cached processed dataset at /home/jim/.cache/huggingface/datasets/utterance_xml_dataset/default-8a5c6623ef11cf95/1.1.0/2ab4d5a39b76b2b213d176be1f94b8bb2c34198ea2fabf4b281e0784782b2d2b/cache-177a6afeba2748dc.arrow\n",
      "Loading cached processed dataset at /home/jim/.cache/huggingface/datasets/utterance_xml_dataset/default-8a5c6623ef11cf95/1.1.0/2ab4d5a39b76b2b213d176be1f94b8bb2c34198ea2fabf4b281e0784782b2d2b/cache-95436c45266b6c27.arrow\n",
      "Loading cached processed dataset at /home/jim/.cache/huggingface/datasets/utterance_xml_dataset/default-8898f01d8441980f/1.1.0/2ab4d5a39b76b2b213d176be1f94b8bb2c34198ea2fabf4b281e0784782b2d2b/cache-af5bb7875287b69a.arrow\n",
      "Loading cached processed dataset at /home/jim/.cache/huggingface/datasets/utterance_xml_dataset/default-8898f01d8441980f/1.1.0/2ab4d5a39b76b2b213d176be1f94b8bb2c34198ea2fabf4b281e0784782b2d2b/cache-00a080c84b760bd7.arrow\n",
      "Loading cached processed dataset at /home/jim/.cache/huggingface/datasets/utterance_xml_dataset/default-8898f01d8441980f/1.1.0/2ab4d5a39b76b2b213d176be1f94b8bb2c34198ea2fabf4b281e0784782b2d2b/cache-4afdde4b44ec1887.arrow\n",
      "Loading cached processed dataset at /home/jim/.cache/huggingface/datasets/utterance_xml_dataset/default-8898f01d8441980f/1.1.0/2ab4d5a39b76b2b213d176be1f94b8bb2c34198ea2fabf4b281e0784782b2d2b/cache-99504b4627c17479.arrow\n",
      "Loading cached processed dataset at /home/jim/.cache/huggingface/datasets/utterance_xml_dataset/default-f3018c93372fbb3e/1.1.0/2ab4d5a39b76b2b213d176be1f94b8bb2c34198ea2fabf4b281e0784782b2d2b/cache-b30d932595452bbc.arrow\n",
      "Loading cached processed dataset at /home/jim/.cache/huggingface/datasets/utterance_xml_dataset/default-f3018c93372fbb3e/1.1.0/2ab4d5a39b76b2b213d176be1f94b8bb2c34198ea2fabf4b281e0784782b2d2b/cache-fa12130562cc624b.arrow\n",
      "Loading cached processed dataset at /home/jim/.cache/huggingface/datasets/utterance_xml_dataset/default-f3018c93372fbb3e/1.1.0/2ab4d5a39b76b2b213d176be1f94b8bb2c34198ea2fabf4b281e0784782b2d2b/cache-37d2947aed3d9622.arrow\n",
      "Loading cached processed dataset at /home/jim/.cache/huggingface/datasets/utterance_xml_dataset/default-f3018c93372fbb3e/1.1.0/2ab4d5a39b76b2b213d176be1f94b8bb2c34198ea2fabf4b281e0784782b2d2b/cache-34ddde6cc95cac6a.arrow\n",
      "Loading cached processed dataset at /home/jim/.cache/huggingface/datasets/utterance_xml_dataset/default-394fefcb2267b139/1.1.0/2ab4d5a39b76b2b213d176be1f94b8bb2c34198ea2fabf4b281e0784782b2d2b/cache-dcded5d4eedfd04d.arrow\n",
      "Loading cached processed dataset at /home/jim/.cache/huggingface/datasets/utterance_xml_dataset/default-394fefcb2267b139/1.1.0/2ab4d5a39b76b2b213d176be1f94b8bb2c34198ea2fabf4b281e0784782b2d2b/cache-bd1b787e7a143ed9.arrow\n"
     ]
    },
    {
     "name": "stderr",
     "output_type": "stream",
     "text": [
      "Loading cached processed dataset at /home/jim/.cache/huggingface/datasets/utterance_xml_dataset/default-394fefcb2267b139/1.1.0/2ab4d5a39b76b2b213d176be1f94b8bb2c34198ea2fabf4b281e0784782b2d2b/cache-bb045d0847c313cf.arrow\n",
      "Loading cached processed dataset at /home/jim/.cache/huggingface/datasets/utterance_xml_dataset/default-394fefcb2267b139/1.1.0/2ab4d5a39b76b2b213d176be1f94b8bb2c34198ea2fabf4b281e0784782b2d2b/cache-fcb22388e1a65bcb.arrow\n",
      "Loading cached processed dataset at /home/jim/.cache/huggingface/datasets/utterance_xml_dataset/default-e19a455adb1dd118/1.1.0/2ab4d5a39b76b2b213d176be1f94b8bb2c34198ea2fabf4b281e0784782b2d2b/cache-83fd8971f21f0642.arrow\n",
      "Loading cached processed dataset at /home/jim/.cache/huggingface/datasets/utterance_xml_dataset/default-e19a455adb1dd118/1.1.0/2ab4d5a39b76b2b213d176be1f94b8bb2c34198ea2fabf4b281e0784782b2d2b/cache-4b82451aaabf6f8a.arrow\n",
      "Loading cached processed dataset at /home/jim/.cache/huggingface/datasets/utterance_xml_dataset/default-e19a455adb1dd118/1.1.0/2ab4d5a39b76b2b213d176be1f94b8bb2c34198ea2fabf4b281e0784782b2d2b/cache-224175b2f73773b6.arrow\n",
      "Loading cached processed dataset at /home/jim/.cache/huggingface/datasets/utterance_xml_dataset/default-e19a455adb1dd118/1.1.0/2ab4d5a39b76b2b213d176be1f94b8bb2c34198ea2fabf4b281e0784782b2d2b/cache-4ad7b01211873d7f.arrow\n",
      "Loading cached processed dataset at /home/jim/.cache/huggingface/datasets/utterance_xml_dataset/default-3a69a91aa0b88fa1/1.1.0/2ab4d5a39b76b2b213d176be1f94b8bb2c34198ea2fabf4b281e0784782b2d2b/cache-b7a0c5aa39c78ae6.arrow\n",
      "Loading cached processed dataset at /home/jim/.cache/huggingface/datasets/utterance_xml_dataset/default-3a69a91aa0b88fa1/1.1.0/2ab4d5a39b76b2b213d176be1f94b8bb2c34198ea2fabf4b281e0784782b2d2b/cache-27eecbb93ff48548.arrow\n",
      "Loading cached processed dataset at /home/jim/.cache/huggingface/datasets/utterance_xml_dataset/default-3a69a91aa0b88fa1/1.1.0/2ab4d5a39b76b2b213d176be1f94b8bb2c34198ea2fabf4b281e0784782b2d2b/cache-c6ab1d3a70bb51dd.arrow\n",
      "Loading cached processed dataset at /home/jim/.cache/huggingface/datasets/utterance_xml_dataset/default-3a69a91aa0b88fa1/1.1.0/2ab4d5a39b76b2b213d176be1f94b8bb2c34198ea2fabf4b281e0784782b2d2b/cache-3b74a87459f4bb04.arrow\n",
      "Loading cached processed dataset at /home/jim/.cache/huggingface/datasets/utterance_xml_dataset/default-be79e07535743a6e/1.1.0/2ab4d5a39b76b2b213d176be1f94b8bb2c34198ea2fabf4b281e0784782b2d2b/cache-5f5e02953a0c6c6b.arrow\n",
      "Loading cached processed dataset at /home/jim/.cache/huggingface/datasets/utterance_xml_dataset/default-be79e07535743a6e/1.1.0/2ab4d5a39b76b2b213d176be1f94b8bb2c34198ea2fabf4b281e0784782b2d2b/cache-8587b9046b2a82a2.arrow\n",
      "Loading cached processed dataset at /home/jim/.cache/huggingface/datasets/utterance_xml_dataset/default-be79e07535743a6e/1.1.0/2ab4d5a39b76b2b213d176be1f94b8bb2c34198ea2fabf4b281e0784782b2d2b/cache-376ba06e76353015.arrow\n",
      "Loading cached processed dataset at /home/jim/.cache/huggingface/datasets/utterance_xml_dataset/default-be79e07535743a6e/1.1.0/2ab4d5a39b76b2b213d176be1f94b8bb2c34198ea2fabf4b281e0784782b2d2b/cache-7d11fe2d6553624f.arrow\n",
      "Loading cached processed dataset at /home/jim/.cache/huggingface/datasets/utterance_xml_dataset/default-417c6e27426f3437/1.1.0/2ab4d5a39b76b2b213d176be1f94b8bb2c34198ea2fabf4b281e0784782b2d2b/cache-a4be9ba595044bad.arrow\n",
      "Loading cached processed dataset at /home/jim/.cache/huggingface/datasets/utterance_xml_dataset/default-417c6e27426f3437/1.1.0/2ab4d5a39b76b2b213d176be1f94b8bb2c34198ea2fabf4b281e0784782b2d2b/cache-427ef18cc67eebae.arrow\n",
      "Loading cached processed dataset at /home/jim/.cache/huggingface/datasets/utterance_xml_dataset/default-417c6e27426f3437/1.1.0/2ab4d5a39b76b2b213d176be1f94b8bb2c34198ea2fabf4b281e0784782b2d2b/cache-99c6205ccc49b25c.arrow\n",
      "Loading cached processed dataset at /home/jim/.cache/huggingface/datasets/utterance_xml_dataset/default-417c6e27426f3437/1.1.0/2ab4d5a39b76b2b213d176be1f94b8bb2c34198ea2fabf4b281e0784782b2d2b/cache-e7f0518821b0b9e6.arrow\n",
      "Loading cached processed dataset at /home/jim/.cache/huggingface/datasets/utterance_xml_dataset/default-43028c0e5f2c58ca/1.1.0/2ab4d5a39b76b2b213d176be1f94b8bb2c34198ea2fabf4b281e0784782b2d2b/cache-e0c7add3e9eea943.arrow\n",
      "Loading cached processed dataset at /home/jim/.cache/huggingface/datasets/utterance_xml_dataset/default-43028c0e5f2c58ca/1.1.0/2ab4d5a39b76b2b213d176be1f94b8bb2c34198ea2fabf4b281e0784782b2d2b/cache-9e455766f23deb5c.arrow\n",
      "Loading cached processed dataset at /home/jim/.cache/huggingface/datasets/utterance_xml_dataset/default-43028c0e5f2c58ca/1.1.0/2ab4d5a39b76b2b213d176be1f94b8bb2c34198ea2fabf4b281e0784782b2d2b/cache-2a43a708bcd6125b.arrow\n",
      "Loading cached processed dataset at /home/jim/.cache/huggingface/datasets/utterance_xml_dataset/default-43028c0e5f2c58ca/1.1.0/2ab4d5a39b76b2b213d176be1f94b8bb2c34198ea2fabf4b281e0784782b2d2b/cache-e4d637a438294fc6.arrow\n",
      "Loading cached processed dataset at /home/jim/.cache/huggingface/datasets/utterance_xml_dataset/default-a06c04423430a170/1.1.0/2ab4d5a39b76b2b213d176be1f94b8bb2c34198ea2fabf4b281e0784782b2d2b/cache-97a05d3db37ee5cd.arrow\n",
      "Loading cached processed dataset at /home/jim/.cache/huggingface/datasets/utterance_xml_dataset/default-a06c04423430a170/1.1.0/2ab4d5a39b76b2b213d176be1f94b8bb2c34198ea2fabf4b281e0784782b2d2b/cache-c1c7825e1bc02b5a.arrow\n",
      "Loading cached processed dataset at /home/jim/.cache/huggingface/datasets/utterance_xml_dataset/default-a06c04423430a170/1.1.0/2ab4d5a39b76b2b213d176be1f94b8bb2c34198ea2fabf4b281e0784782b2d2b/cache-465919010ff30a72.arrow\n",
      "Loading cached processed dataset at /home/jim/.cache/huggingface/datasets/utterance_xml_dataset/default-a06c04423430a170/1.1.0/2ab4d5a39b76b2b213d176be1f94b8bb2c34198ea2fabf4b281e0784782b2d2b/cache-c64d38a0849d0bc5.arrow\n",
      "Loading cached processed dataset at /home/jim/.cache/huggingface/datasets/utterance_xml_dataset/default-47dd039cf717a18f/1.1.0/2ab4d5a39b76b2b213d176be1f94b8bb2c34198ea2fabf4b281e0784782b2d2b/cache-58500e78ee38aaea.arrow\n",
      "Loading cached processed dataset at /home/jim/.cache/huggingface/datasets/utterance_xml_dataset/default-47dd039cf717a18f/1.1.0/2ab4d5a39b76b2b213d176be1f94b8bb2c34198ea2fabf4b281e0784782b2d2b/cache-b36050bc7f2ec07b.arrow\n",
      "Loading cached processed dataset at /home/jim/.cache/huggingface/datasets/utterance_xml_dataset/default-47dd039cf717a18f/1.1.0/2ab4d5a39b76b2b213d176be1f94b8bb2c34198ea2fabf4b281e0784782b2d2b/cache-c268deaf2f939914.arrow\n",
      "Loading cached processed dataset at /home/jim/.cache/huggingface/datasets/utterance_xml_dataset/default-47dd039cf717a18f/1.1.0/2ab4d5a39b76b2b213d176be1f94b8bb2c34198ea2fabf4b281e0784782b2d2b/cache-edcdf3391c08e5da.arrow\n",
      "Loading cached processed dataset at /home/jim/.cache/huggingface/datasets/utterance_xml_dataset/default-157f875646b8e11f/1.1.0/2ab4d5a39b76b2b213d176be1f94b8bb2c34198ea2fabf4b281e0784782b2d2b/cache-24c570fcca1b464c.arrow\n",
      "Loading cached processed dataset at /home/jim/.cache/huggingface/datasets/utterance_xml_dataset/default-157f875646b8e11f/1.1.0/2ab4d5a39b76b2b213d176be1f94b8bb2c34198ea2fabf4b281e0784782b2d2b/cache-9f75694b34c4f231.arrow\n",
      "Loading cached processed dataset at /home/jim/.cache/huggingface/datasets/utterance_xml_dataset/default-157f875646b8e11f/1.1.0/2ab4d5a39b76b2b213d176be1f94b8bb2c34198ea2fabf4b281e0784782b2d2b/cache-071b3ece1c6a120d.arrow\n",
      "Loading cached processed dataset at /home/jim/.cache/huggingface/datasets/utterance_xml_dataset/default-157f875646b8e11f/1.1.0/2ab4d5a39b76b2b213d176be1f94b8bb2c34198ea2fabf4b281e0784782b2d2b/cache-fd2a4a2145768b59.arrow\n",
      "Loading cached processed dataset at /home/jim/.cache/huggingface/datasets/utterance_xml_dataset/default-5889ff1f5cce90e0/1.1.0/2ab4d5a39b76b2b213d176be1f94b8bb2c34198ea2fabf4b281e0784782b2d2b/cache-5c2fb0a2f108d581.arrow\n",
      "Loading cached processed dataset at /home/jim/.cache/huggingface/datasets/utterance_xml_dataset/default-5889ff1f5cce90e0/1.1.0/2ab4d5a39b76b2b213d176be1f94b8bb2c34198ea2fabf4b281e0784782b2d2b/cache-57b57bae7ef6f535.arrow\n",
      "Loading cached processed dataset at /home/jim/.cache/huggingface/datasets/utterance_xml_dataset/default-5889ff1f5cce90e0/1.1.0/2ab4d5a39b76b2b213d176be1f94b8bb2c34198ea2fabf4b281e0784782b2d2b/cache-02dc0c3842a1ad9e.arrow\n",
      "Loading cached processed dataset at /home/jim/.cache/huggingface/datasets/utterance_xml_dataset/default-5889ff1f5cce90e0/1.1.0/2ab4d5a39b76b2b213d176be1f94b8bb2c34198ea2fabf4b281e0784782b2d2b/cache-3f5ba5d5a78eb5ca.arrow\n"
     ]
    },
    {
     "name": "stderr",
     "output_type": "stream",
     "text": [
      "Loading cached processed dataset at /home/jim/.cache/huggingface/datasets/utterance_xml_dataset/default-336db2235fd49907/1.1.0/2ab4d5a39b76b2b213d176be1f94b8bb2c34198ea2fabf4b281e0784782b2d2b/cache-881af4492aebe81a.arrow\n",
      "Loading cached processed dataset at /home/jim/.cache/huggingface/datasets/utterance_xml_dataset/default-336db2235fd49907/1.1.0/2ab4d5a39b76b2b213d176be1f94b8bb2c34198ea2fabf4b281e0784782b2d2b/cache-7aedf943d48feded.arrow\n",
      "Loading cached processed dataset at /home/jim/.cache/huggingface/datasets/utterance_xml_dataset/default-336db2235fd49907/1.1.0/2ab4d5a39b76b2b213d176be1f94b8bb2c34198ea2fabf4b281e0784782b2d2b/cache-6f33f192208438a7.arrow\n",
      "Loading cached processed dataset at /home/jim/.cache/huggingface/datasets/utterance_xml_dataset/default-336db2235fd49907/1.1.0/2ab4d5a39b76b2b213d176be1f94b8bb2c34198ea2fabf4b281e0784782b2d2b/cache-7ca896c968beb535.arrow\n"
     ]
    }
   ],
   "source": [
    "import librosa\n",
    "import numpy as np\n",
    "\n",
    "def resample(batch):\n",
    "    batch[\"duration\"] = librosa.get_duration(y=batch[\"speech\"], sr=batch[\"sampling_rate\"])\n",
    "\n",
    "    if batch[\"sampling_rate\"] != 16_000:\n",
    "        batch[\"speech\"] = librosa.resample(np.asarray(batch[\"speech\"]), batch[\"sampling_rate\"], 16_000)\n",
    "        batch[\"sampling_rate\"] = 16_000\n",
    "\n",
    "    return batch\n",
    "\n",
    "for dir in dirl:\n",
    "    sets[dir][\"train\"] = sets[dir][\"train\"].map(resample, num_proc=4)"
   ]
  }
 ],
 "metadata": {
  "interpreter": {
   "hash": "b174e98a0fa21d081469da6d7a7f39d57d9081431b3c051c1c000c3d6ee434aa"
  },
  "kernelspec": {
   "display_name": "Python 3",
   "language": "python",
   "name": "python3"
  },
  "language_info": {
   "codemirror_mode": {
    "name": "ipython",
    "version": 3
   },
   "file_extension": ".py",
   "mimetype": "text/x-python",
   "name": "python",
   "nbconvert_exporter": "python",
   "pygments_lexer": "ipython3",
   "version": "3.6.9"
  }
 },
 "nbformat": 4,
 "nbformat_minor": 4
}
