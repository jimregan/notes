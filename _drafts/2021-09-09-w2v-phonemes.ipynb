{
 "cells": [
  {
   "cell_type": "markdown",
   "metadata": {},
   "source": []
  },
  {
   "cell_type": "code",
   "execution_count": 4,
   "metadata": {},
   "outputs": [],
   "source": [
    "from datasets import load_dataset"
   ]
  },
  {
   "cell_type": "code",
   "execution_count": 5,
   "metadata": {},
   "outputs": [],
   "source": [
    "dirs = \"\"\"\n",
    "cmg_ga_mu_corpusbeag\n",
    "pmg_ga_co/RCPiarsachALL\n",
    "nnc_ga_mu/CDNamedEntities01\n",
    "nnc_ga_mu/CDAn_tOileanach_part3_newLTS\n",
    "nnc_ga_mu/CDAn_tOileanach_part4_newLTS\n",
    "nnc_ga_mu/CDNamedEntities02\n",
    "nnc_ga_mu/CDAlphabet\n",
    "nnc_ga_mu/CDAn_tOileanach_part2_newLTS\n",
    "nnc_ga_mu/corpas_beag_newLTS\n",
    "nnc_ga_mu/CDSaytime\n",
    "nnc_ga_mu/CDAn_tOileanach_part1_newLTS\n",
    "cmg_ga_mu/CMGOther\n",
    "cmg_ga_mu/CMGCorpusBeag\n",
    "anb_ga_ul/new_text02\n",
    "anb_ga_ul/text01-004\n",
    "anb_ga_ul/text01\n",
    "anb_ga_ul/text01-001\n",
    "anb_ga_ul/text02\n",
    "anb_ga_ul/named-entities\n",
    "nnc_en_ie\n",
    "\"\"\""
   ]
  },
  {
   "cell_type": "code",
   "execution_count": 6,
   "metadata": {},
   "outputs": [],
   "source": [
    "dirl = [a for a in dirs.split(\"\\n\") if a]"
   ]
  },
  {
   "cell_type": "code",
   "execution_count": 7,
   "metadata": {},
   "outputs": [],
   "source": [
    "script = \"abairxml.py\""
   ]
  },
  {
   "cell_type": "code",
   "execution_count": 10,
   "metadata": {},
   "outputs": [
    {
     "name": "stderr",
     "output_type": "stream",
     "text": [
      "Using custom data configuration default-157f875646b8e11f\n"
     ]
    },
    {
     "name": "stdout",
     "output_type": "stream",
     "text": [
      "Downloading and preparing dataset utterance_xml_dataset/default (download: Unknown size, generated: Unknown size, post-processed: Unknown size, total: Unknown size) to /home/jim/.cache/huggingface/datasets/utterance_xml_dataset/default-157f875646b8e11f/1.1.0/7c960ef84d95979a0d7a58e643b3933f08f247ee38d4aa833b3dadb87c334ad4...\n"
     ]
    },
    {
     "data": {
      "application/vnd.jupyter.widget-view+json": {
       "model_id": "",
       "version_major": 2,
       "version_minor": 0
      },
      "text/plain": [
       "0 examples [00:00, ? examples/s]"
      ]
     },
     "metadata": {},
     "output_type": "display_data"
    },
    {
     "name": "stdout",
     "output_type": "stream",
     "text": [
      "Dataset utterance_xml_dataset downloaded and prepared to /home/jim/.cache/huggingface/datasets/utterance_xml_dataset/default-157f875646b8e11f/1.1.0/7c960ef84d95979a0d7a58e643b3933f08f247ee38d4aa833b3dadb87c334ad4. Subsequent calls will reuse this data.\n"
     ]
    }
   ],
   "source": [
    "test = load_dataset(script, data_dir=\"/home/jim/tmp/anb_ga_ul/text02\")"
   ]
  },
  {
   "cell_type": "code",
   "execution_count": 22,
   "metadata": {},
   "outputs": [
    {
     "name": "stderr",
     "output_type": "stream",
     "text": [
      "Using custom data configuration default-187ee4831f664a6d\n",
      "Reusing dataset utterance_xml_dataset (/home/jim/.cache/huggingface/datasets/utterance_xml_dataset/default-187ee4831f664a6d/1.1.0/7c960ef84d95979a0d7a58e643b3933f08f247ee38d4aa833b3dadb87c334ad4)\n",
      "Using custom data configuration default-aa8abe91265ea5f3\n",
      "Reusing dataset utterance_xml_dataset (/home/jim/.cache/huggingface/datasets/utterance_xml_dataset/default-aa8abe91265ea5f3/1.1.0/7c960ef84d95979a0d7a58e643b3933f08f247ee38d4aa833b3dadb87c334ad4)\n",
      "Using custom data configuration default-7667bb9aedbb818e\n",
      "Reusing dataset utterance_xml_dataset (/home/jim/.cache/huggingface/datasets/utterance_xml_dataset/default-7667bb9aedbb818e/1.1.0/7c960ef84d95979a0d7a58e643b3933f08f247ee38d4aa833b3dadb87c334ad4)\n",
      "Using custom data configuration default-7a61ec2b352637f4\n",
      "Reusing dataset utterance_xml_dataset (/home/jim/.cache/huggingface/datasets/utterance_xml_dataset/default-7a61ec2b352637f4/1.1.0/7c960ef84d95979a0d7a58e643b3933f08f247ee38d4aa833b3dadb87c334ad4)\n",
      "Using custom data configuration default-da3752ae2db10e54\n",
      "Reusing dataset utterance_xml_dataset (/home/jim/.cache/huggingface/datasets/utterance_xml_dataset/default-da3752ae2db10e54/1.1.0/7c960ef84d95979a0d7a58e643b3933f08f247ee38d4aa833b3dadb87c334ad4)\n",
      "Using custom data configuration default-bc83211c090696b1\n",
      "Reusing dataset utterance_xml_dataset (/home/jim/.cache/huggingface/datasets/utterance_xml_dataset/default-bc83211c090696b1/1.1.0/7c960ef84d95979a0d7a58e643b3933f08f247ee38d4aa833b3dadb87c334ad4)\n",
      "Using custom data configuration default-8a5c6623ef11cf95\n",
      "Reusing dataset utterance_xml_dataset (/home/jim/.cache/huggingface/datasets/utterance_xml_dataset/default-8a5c6623ef11cf95/1.1.0/7c960ef84d95979a0d7a58e643b3933f08f247ee38d4aa833b3dadb87c334ad4)\n",
      "Using custom data configuration default-8898f01d8441980f\n",
      "Reusing dataset utterance_xml_dataset (/home/jim/.cache/huggingface/datasets/utterance_xml_dataset/default-8898f01d8441980f/1.1.0/7c960ef84d95979a0d7a58e643b3933f08f247ee38d4aa833b3dadb87c334ad4)\n",
      "Using custom data configuration default-f3018c93372fbb3e\n",
      "Reusing dataset utterance_xml_dataset (/home/jim/.cache/huggingface/datasets/utterance_xml_dataset/default-f3018c93372fbb3e/1.1.0/7c960ef84d95979a0d7a58e643b3933f08f247ee38d4aa833b3dadb87c334ad4)\n",
      "Using custom data configuration default-394fefcb2267b139\n",
      "Reusing dataset utterance_xml_dataset (/home/jim/.cache/huggingface/datasets/utterance_xml_dataset/default-394fefcb2267b139/1.1.0/7c960ef84d95979a0d7a58e643b3933f08f247ee38d4aa833b3dadb87c334ad4)\n",
      "Using custom data configuration default-e19a455adb1dd118\n",
      "Reusing dataset utterance_xml_dataset (/home/jim/.cache/huggingface/datasets/utterance_xml_dataset/default-e19a455adb1dd118/1.1.0/7c960ef84d95979a0d7a58e643b3933f08f247ee38d4aa833b3dadb87c334ad4)\n",
      "Using custom data configuration default-3a69a91aa0b88fa1\n",
      "Reusing dataset utterance_xml_dataset (/home/jim/.cache/huggingface/datasets/utterance_xml_dataset/default-3a69a91aa0b88fa1/1.1.0/7c960ef84d95979a0d7a58e643b3933f08f247ee38d4aa833b3dadb87c334ad4)\n",
      "Using custom data configuration default-be79e07535743a6e\n",
      "Reusing dataset utterance_xml_dataset (/home/jim/.cache/huggingface/datasets/utterance_xml_dataset/default-be79e07535743a6e/1.1.0/7c960ef84d95979a0d7a58e643b3933f08f247ee38d4aa833b3dadb87c334ad4)\n",
      "Using custom data configuration default-417c6e27426f3437\n",
      "Reusing dataset utterance_xml_dataset (/home/jim/.cache/huggingface/datasets/utterance_xml_dataset/default-417c6e27426f3437/1.1.0/7c960ef84d95979a0d7a58e643b3933f08f247ee38d4aa833b3dadb87c334ad4)\n",
      "Using custom data configuration default-43028c0e5f2c58ca\n",
      "Reusing dataset utterance_xml_dataset (/home/jim/.cache/huggingface/datasets/utterance_xml_dataset/default-43028c0e5f2c58ca/1.1.0/7c960ef84d95979a0d7a58e643b3933f08f247ee38d4aa833b3dadb87c334ad4)\n",
      "Using custom data configuration default-a06c04423430a170\n",
      "Reusing dataset utterance_xml_dataset (/home/jim/.cache/huggingface/datasets/utterance_xml_dataset/default-a06c04423430a170/1.1.0/7c960ef84d95979a0d7a58e643b3933f08f247ee38d4aa833b3dadb87c334ad4)\n",
      "Using custom data configuration default-47dd039cf717a18f\n",
      "Reusing dataset utterance_xml_dataset (/home/jim/.cache/huggingface/datasets/utterance_xml_dataset/default-47dd039cf717a18f/1.1.0/7c960ef84d95979a0d7a58e643b3933f08f247ee38d4aa833b3dadb87c334ad4)\n",
      "Using custom data configuration default-157f875646b8e11f\n",
      "Reusing dataset utterance_xml_dataset (/home/jim/.cache/huggingface/datasets/utterance_xml_dataset/default-157f875646b8e11f/1.1.0/7c960ef84d95979a0d7a58e643b3933f08f247ee38d4aa833b3dadb87c334ad4)\n",
      "Using custom data configuration default-5889ff1f5cce90e0\n",
      "Reusing dataset utterance_xml_dataset (/home/jim/.cache/huggingface/datasets/utterance_xml_dataset/default-5889ff1f5cce90e0/1.1.0/7c960ef84d95979a0d7a58e643b3933f08f247ee38d4aa833b3dadb87c334ad4)\n",
      "Using custom data configuration default-336db2235fd49907\n",
      "Reusing dataset utterance_xml_dataset (/home/jim/.cache/huggingface/datasets/utterance_xml_dataset/default-336db2235fd49907/1.1.0/7c960ef84d95979a0d7a58e643b3933f08f247ee38d4aa833b3dadb87c334ad4)\n"
     ]
    }
   ],
   "source": [
    "sets = {}\n",
    "for dir in dirl:\n",
    "    sets[dir] = load_dataset(script, data_dir=f\"/home/jim/tmp/{dir}\")"
   ]
  },
  {
   "cell_type": "code",
   "execution_count": 23,
   "metadata": {},
   "outputs": [
    {
     "data": {
      "application/vnd.jupyter.widget-view+json": {
       "model_id": "5d6da4ea2cac4868a830130f2658b876",
       "version_major": 2,
       "version_minor": 0
      },
      "text/plain": [
       "  0%|          | 0/2 [00:00<?, ?ba/s]"
      ]
     },
     "metadata": {},
     "output_type": "display_data"
    },
    {
     "data": {
      "application/vnd.jupyter.widget-view+json": {
       "model_id": "29cd3d9159614e4c9dab21eb651fe4ef",
       "version_major": 2,
       "version_minor": 0
      },
      "text/plain": [
       "  0%|          | 0/2 [00:00<?, ?ba/s]"
      ]
     },
     "metadata": {},
     "output_type": "display_data"
    },
    {
     "data": {
      "application/vnd.jupyter.widget-view+json": {
       "model_id": "4bbbbd98922b4b2abb48f1d97da960ae",
       "version_major": 2,
       "version_minor": 0
      },
      "text/plain": [
       "  0%|          | 0/1 [00:00<?, ?ba/s]"
      ]
     },
     "metadata": {},
     "output_type": "display_data"
    },
    {
     "data": {
      "application/vnd.jupyter.widget-view+json": {
       "model_id": "44347d6daaf34986bce406bf15d40e20",
       "version_major": 2,
       "version_minor": 0
      },
      "text/plain": [
       "  0%|          | 0/2 [00:00<?, ?ba/s]"
      ]
     },
     "metadata": {},
     "output_type": "display_data"
    },
    {
     "data": {
      "application/vnd.jupyter.widget-view+json": {
       "model_id": "7130309c4688462bab89d6ac5bfe5d62",
       "version_major": 2,
       "version_minor": 0
      },
      "text/plain": [
       "  0%|          | 0/2 [00:00<?, ?ba/s]"
      ]
     },
     "metadata": {},
     "output_type": "display_data"
    },
    {
     "data": {
      "application/vnd.jupyter.widget-view+json": {
       "model_id": "471543d4918b435faa18afc12cc0d376",
       "version_major": 2,
       "version_minor": 0
      },
      "text/plain": [
       "  0%|          | 0/1 [00:00<?, ?ba/s]"
      ]
     },
     "metadata": {},
     "output_type": "display_data"
    },
    {
     "data": {
      "application/vnd.jupyter.widget-view+json": {
       "model_id": "62566d144bff408e90d0d4b8917658c5",
       "version_major": 2,
       "version_minor": 0
      },
      "text/plain": [
       "  0%|          | 0/1 [00:00<?, ?ba/s]"
      ]
     },
     "metadata": {},
     "output_type": "display_data"
    },
    {
     "data": {
      "application/vnd.jupyter.widget-view+json": {
       "model_id": "924149288b604a978649ccce6d218855",
       "version_major": 2,
       "version_minor": 0
      },
      "text/plain": [
       "  0%|          | 0/2 [00:00<?, ?ba/s]"
      ]
     },
     "metadata": {},
     "output_type": "display_data"
    },
    {
     "data": {
      "application/vnd.jupyter.widget-view+json": {
       "model_id": "6eec909f9a8d4b1a812a87fdf019229b",
       "version_major": 2,
       "version_minor": 0
      },
      "text/plain": [
       "  0%|          | 0/2 [00:00<?, ?ba/s]"
      ]
     },
     "metadata": {},
     "output_type": "display_data"
    },
    {
     "data": {
      "application/vnd.jupyter.widget-view+json": {
       "model_id": "afdd4850cf3e4a7ca09ef83735e53d24",
       "version_major": 2,
       "version_minor": 0
      },
      "text/plain": [
       "  0%|          | 0/1 [00:00<?, ?ba/s]"
      ]
     },
     "metadata": {},
     "output_type": "display_data"
    },
    {
     "data": {
      "application/vnd.jupyter.widget-view+json": {
       "model_id": "65f1bd2a671940cfb1e8c7727a7ae173",
       "version_major": 2,
       "version_minor": 0
      },
      "text/plain": [
       "  0%|          | 0/2 [00:00<?, ?ba/s]"
      ]
     },
     "metadata": {},
     "output_type": "display_data"
    },
    {
     "data": {
      "application/vnd.jupyter.widget-view+json": {
       "model_id": "7e5f14fa9a8c4d0d9e8aeeaf9db5c850",
       "version_major": 2,
       "version_minor": 0
      },
      "text/plain": [
       "  0%|          | 0/1 [00:00<?, ?ba/s]"
      ]
     },
     "metadata": {},
     "output_type": "display_data"
    },
    {
     "data": {
      "application/vnd.jupyter.widget-view+json": {
       "model_id": "2943b776307045d19c2fd4c51556ac52",
       "version_major": 2,
       "version_minor": 0
      },
      "text/plain": [
       "  0%|          | 0/2 [00:00<?, ?ba/s]"
      ]
     },
     "metadata": {},
     "output_type": "display_data"
    },
    {
     "data": {
      "application/vnd.jupyter.widget-view+json": {
       "model_id": "d4b326ca91104438be3de4bc6537a78c",
       "version_major": 2,
       "version_minor": 0
      },
      "text/plain": [
       "  0%|          | 0/2 [00:00<?, ?ba/s]"
      ]
     },
     "metadata": {},
     "output_type": "display_data"
    },
    {
     "data": {
      "application/vnd.jupyter.widget-view+json": {
       "model_id": "e05eca893a8a424080d213c0788291ea",
       "version_major": 2,
       "version_minor": 0
      },
      "text/plain": [
       "  0%|          | 0/1 [00:00<?, ?ba/s]"
      ]
     },
     "metadata": {},
     "output_type": "display_data"
    },
    {
     "data": {
      "application/vnd.jupyter.widget-view+json": {
       "model_id": "ab36cf56592d4b6aac0e52f18a05ff86",
       "version_major": 2,
       "version_minor": 0
      },
      "text/plain": [
       "  0%|          | 0/1 [00:00<?, ?ba/s]"
      ]
     },
     "metadata": {},
     "output_type": "display_data"
    },
    {
     "data": {
      "application/vnd.jupyter.widget-view+json": {
       "model_id": "0960676e48864d5fafb7e41f5f0c24c7",
       "version_major": 2,
       "version_minor": 0
      },
      "text/plain": [
       "  0%|          | 0/1 [00:00<?, ?ba/s]"
      ]
     },
     "metadata": {},
     "output_type": "display_data"
    },
    {
     "data": {
      "application/vnd.jupyter.widget-view+json": {
       "model_id": "f198dab87bf648c8b251d485400dddc1",
       "version_major": 2,
       "version_minor": 0
      },
      "text/plain": [
       "  0%|          | 0/2 [00:00<?, ?ba/s]"
      ]
     },
     "metadata": {},
     "output_type": "display_data"
    },
    {
     "data": {
      "application/vnd.jupyter.widget-view+json": {
       "model_id": "cb6ba33fc9dc4be984c76e148a01dfd9",
       "version_major": 2,
       "version_minor": 0
      },
      "text/plain": [
       "  0%|          | 0/1 [00:00<?, ?ba/s]"
      ]
     },
     "metadata": {},
     "output_type": "display_data"
    },
    {
     "data": {
      "application/vnd.jupyter.widget-view+json": {
       "model_id": "8cbdf328416a4884bc726e6199f17953",
       "version_major": 2,
       "version_minor": 0
      },
      "text/plain": [
       "  0%|          | 0/2 [00:00<?, ?ba/s]"
      ]
     },
     "metadata": {},
     "output_type": "display_data"
    }
   ],
   "source": [
    "from pathlib import Path\n",
    "def check_paths(batch):\n",
    "    audio_path = Path(batch[\"audio\"])\n",
    "    return audio_path.is_file()\n",
    "\n",
    "for dir in dirl:\n",
    "    sets[dir][\"train\"] = sets[dir][\"train\"].filter(check_paths)"
   ]
  },
  {
   "cell_type": "code",
   "execution_count": 17,
   "metadata": {},
   "outputs": [
    {
     "name": "stdout",
     "output_type": "stream",
     "text": [
      "Defaulting to user installation because normal site-packages is not writeable\n",
      "Collecting torchaudio\n",
      "  Using cached torchaudio-0.9.0-cp36-cp36m-manylinux1_x86_64.whl (1.9 MB)\n",
      "Collecting torch==1.9.0\n",
      "  Using cached torch-1.9.0-cp36-cp36m-manylinux1_x86_64.whl (831.4 MB)\n",
      "Requirement already satisfied: typing-extensions in /usr/local/lib/python3.6/dist-packages (from torch==1.9.0->torchaudio) (3.7.4.3)\n",
      "Requirement already satisfied: dataclasses in /usr/local/lib/python3.6/dist-packages (from torch==1.9.0->torchaudio) (0.8)\n",
      "Installing collected packages: torch, torchaudio\n",
      "Successfully installed torch-1.9.0 torchaudio-0.9.0\n"
     ]
    }
   ],
   "source": [
    "!pip install torchaudio"
   ]
  },
  {
   "cell_type": "code",
   "execution_count": 24,
   "metadata": {},
   "outputs": [
    {
     "data": {
      "application/vnd.jupyter.widget-view+json": {
       "model_id": "e5ea09436c6340fb931ad3fefdc7b335",
       "version_major": 2,
       "version_minor": 0
      },
      "text/plain": [
       "  0%|          | 0/1453 [00:00<?, ?ex/s]"
      ]
     },
     "metadata": {},
     "output_type": "display_data"
    },
    {
     "data": {
      "application/vnd.jupyter.widget-view+json": {
       "model_id": "fe91db2d4bbc415095f7e59c768d5490",
       "version_major": 2,
       "version_minor": 0
      },
      "text/plain": [
       "  0%|          | 0/1920 [00:00<?, ?ex/s]"
      ]
     },
     "metadata": {},
     "output_type": "display_data"
    },
    {
     "data": {
      "application/vnd.jupyter.widget-view+json": {
       "model_id": "74ecde648ecf4d9b8647026b44423c82",
       "version_major": 2,
       "version_minor": 0
      },
      "text/plain": [
       "  0%|          | 0/205 [00:00<?, ?ex/s]"
      ]
     },
     "metadata": {},
     "output_type": "display_data"
    },
    {
     "data": {
      "application/vnd.jupyter.widget-view+json": {
       "model_id": "f803473a6d804f068a3280d6a543b6a4",
       "version_major": 2,
       "version_minor": 0
      },
      "text/plain": [
       "  0%|          | 0/1501 [00:00<?, ?ex/s]"
      ]
     },
     "metadata": {},
     "output_type": "display_data"
    },
    {
     "data": {
      "application/vnd.jupyter.widget-view+json": {
       "model_id": "c44da905de254fc29866ee4992cbb664",
       "version_major": 2,
       "version_minor": 0
      },
      "text/plain": [
       "  0%|          | 0/1172 [00:00<?, ?ex/s]"
      ]
     },
     "metadata": {},
     "output_type": "display_data"
    },
    {
     "data": {
      "application/vnd.jupyter.widget-view+json": {
       "model_id": "f92af5822f474e1fb790e7381719cfb3",
       "version_major": 2,
       "version_minor": 0
      },
      "text/plain": [
       "  0%|          | 0/317 [00:00<?, ?ex/s]"
      ]
     },
     "metadata": {},
     "output_type": "display_data"
    },
    {
     "data": {
      "application/vnd.jupyter.widget-view+json": {
       "model_id": "9e7d218acaa94ffcbaad8bc94edaf23e",
       "version_major": 2,
       "version_minor": 0
      },
      "text/plain": [
       "  0%|          | 0/54 [00:00<?, ?ex/s]"
      ]
     },
     "metadata": {},
     "output_type": "display_data"
    },
    {
     "data": {
      "application/vnd.jupyter.widget-view+json": {
       "model_id": "aa5aa5ef82cd4c66ac67d330649df13f",
       "version_major": 2,
       "version_minor": 0
      },
      "text/plain": [
       "  0%|          | 0/1500 [00:00<?, ?ex/s]"
      ]
     },
     "metadata": {},
     "output_type": "display_data"
    },
    {
     "data": {
      "application/vnd.jupyter.widget-view+json": {
       "model_id": "3dcab50fa97f46a28955787e7d7581af",
       "version_major": 2,
       "version_minor": 0
      },
      "text/plain": [
       "  0%|          | 0/1452 [00:00<?, ?ex/s]"
      ]
     },
     "metadata": {},
     "output_type": "display_data"
    },
    {
     "data": {
      "application/vnd.jupyter.widget-view+json": {
       "model_id": "ecc21014bca84edb95a6e5d9136d0285",
       "version_major": 2,
       "version_minor": 0
      },
      "text/plain": [
       "  0%|          | 0/44 [00:00<?, ?ex/s]"
      ]
     },
     "metadata": {},
     "output_type": "display_data"
    },
    {
     "data": {
      "application/vnd.jupyter.widget-view+json": {
       "model_id": "d3ccd092984b4b54bdab80395f759f29",
       "version_major": 2,
       "version_minor": 0
      },
      "text/plain": [
       "  0%|          | 0/1503 [00:00<?, ?ex/s]"
      ]
     },
     "metadata": {},
     "output_type": "display_data"
    },
    {
     "data": {
      "application/vnd.jupyter.widget-view+json": {
       "model_id": "3b4a33fb8bb84d268c11b346a6ef4caa",
       "version_major": 2,
       "version_minor": 0
      },
      "text/plain": [
       "  0%|          | 0/737 [00:00<?, ?ex/s]"
      ]
     },
     "metadata": {},
     "output_type": "display_data"
    },
    {
     "data": {
      "application/vnd.jupyter.widget-view+json": {
       "model_id": "f4af102cd4454e6b95e7d78d4f61b0b3",
       "version_major": 2,
       "version_minor": 0
      },
      "text/plain": [
       "  0%|          | 0/1453 [00:00<?, ?ex/s]"
      ]
     },
     "metadata": {},
     "output_type": "display_data"
    },
    {
     "data": {
      "application/vnd.jupyter.widget-view+json": {
       "model_id": "81d0bb42a80c457396b76e753a328dde",
       "version_major": 2,
       "version_minor": 0
      },
      "text/plain": [
       "  0%|          | 0/1575 [00:00<?, ?ex/s]"
      ]
     },
     "metadata": {},
     "output_type": "display_data"
    },
    {
     "data": {
      "application/vnd.jupyter.widget-view+json": {
       "model_id": "0e0714de40d841aa890606cd39de583e",
       "version_major": 2,
       "version_minor": 0
      },
      "text/plain": [
       "  0%|          | 0/96 [00:00<?, ?ex/s]"
      ]
     },
     "metadata": {},
     "output_type": "display_data"
    },
    {
     "data": {
      "application/vnd.jupyter.widget-view+json": {
       "model_id": "daabdbafdbb743e1b307bbd15d34f1db",
       "version_major": 2,
       "version_minor": 0
      },
      "text/plain": [
       "  0%|          | 0/117 [00:00<?, ?ex/s]"
      ]
     },
     "metadata": {},
     "output_type": "display_data"
    },
    {
     "data": {
      "application/vnd.jupyter.widget-view+json": {
       "model_id": "b382b42007254636823cfc7a5c9c7f20",
       "version_major": 2,
       "version_minor": 0
      },
      "text/plain": [
       "  0%|          | 0/119 [00:00<?, ?ex/s]"
      ]
     },
     "metadata": {},
     "output_type": "display_data"
    },
    {
     "data": {
      "application/vnd.jupyter.widget-view+json": {
       "model_id": "708aac92042f4f09992fa46ddb4f4f8c",
       "version_major": 2,
       "version_minor": 0
      },
      "text/plain": [
       "  0%|          | 0/199 [00:00<?, ?ex/s]"
      ]
     },
     "metadata": {},
     "output_type": "display_data"
    },
    {
     "data": {
      "application/vnd.jupyter.widget-view+json": {
       "model_id": "7ca91f600dde4c81864203cbe65f8a47",
       "version_major": 2,
       "version_minor": 0
      },
      "text/plain": [
       "  0%|          | 0/1132 [00:00<?, ?ex/s]"
      ]
     },
     "metadata": {},
     "output_type": "display_data"
    }
   ],
   "source": [
    "import torchaudio\n",
    "\n",
    "def speech_file_to_array_fn(batch):\n",
    "    speech_array, sampling_rate = torchaudio.load(batch[\"audio\"])\n",
    "    batch[\"speech\"] = speech_array[0].numpy()\n",
    "    batch[\"sampling_rate\"] = sampling_rate\n",
    "    batch[\"target_text\"] = batch[\"words\"]\n",
    "    return batch\n",
    "\n",
    "for dir in dirl:\n",
    "    sets[dir][\"train\"] = sets[dir][\"train\"].map(speech_file_to_array_fn, remove_columns=sets[dir][\"train\"].column_names)"
   ]
  },
  {
   "cell_type": "code",
   "execution_count": null,
   "metadata": {},
   "outputs": [],
   "source": [
    "import librosa\n",
    "import numpy as np\n",
    "\n",
    "def resample(batch):\n",
    "    batch[\"duration\"] = librosa.get_duration(y=batch[\"speech\"], sr=batch[\"sampling_rate\"])\n",
    "\n",
    "    if batch[\"sampling_rate\"] != 16_000:\n",
    "        batch[\"speech\"] = librosa.resample(np.asarray(batch[\"speech\"]), batch[\"sampling_rate\"], 16_000)\n",
    "        batch[\"sampling_rate\"] = 16_000\n",
    "\n",
    "    return batch\n",
    "\n",
    "for dir in dirl:\n",
    "    sets[dir][\"train\"] = sets[dir][\"train\"].map(resample, num_proc=4)"
   ]
  },
  {
   "cell_type": "code",
   "execution_count": 15,
   "metadata": {},
   "outputs": [
    {
     "data": {
      "text/plain": [
       "{'file_id': 'tcd_gd_text02_004_338',\n",
       " 'words': 'is againn sin',\n",
       " 'phonemes': ['i', 's', '@', 'g', '@', 'nnj', 'sj', 'i', 'nj'],\n",
       " 'audio': '/home/jim/tmp/anb_ga_ul/text02/ogg/tcd_gd_text02_004_338.ogg',\n",
       " 'dialect': 'ul',\n",
       " 'language': 'ga',\n",
       " 'speaker_id': 'anb',\n",
       " 'audio_set': 'text02'}"
      ]
     },
     "execution_count": 15,
     "metadata": {},
     "output_type": "execute_result"
    }
   ],
   "source": [
    "sets[\"anb_ga_ul/text02\"][\"train\"][1]"
   ]
  }
 ],
 "metadata": {
  "interpreter": {
   "hash": "b174e98a0fa21d081469da6d7a7f39d57d9081431b3c051c1c000c3d6ee434aa"
  },
  "kernelspec": {
   "display_name": "Python 3",
   "language": "python",
   "name": "python3"
  },
  "language_info": {
   "codemirror_mode": {
    "name": "ipython",
    "version": 3
   },
   "file_extension": ".py",
   "mimetype": "text/x-python",
   "name": "python",
   "nbconvert_exporter": "python",
   "pygments_lexer": "ipython3",
   "version": "3.6.9"
  }
 },
 "nbformat": 4,
 "nbformat_minor": 4
}
