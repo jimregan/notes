{
 "cells": [
  {
   "cell_type": "markdown",
   "metadata": {},
   "source": []
  },
  {
   "cell_type": "code",
   "execution_count": null,
   "metadata": {},
   "source": [
    "from datasets import load_dataset"
   ],
   "outputs": []
  },
  {
   "cell_type": "code",
   "execution_count": null,
   "metadata": {},
   "source": [
    "dirs = \"\"\"\n",
    "cmg_ga_mu_corpusbeag\n",
    "pmg_ga_co/RCPiarsachALL\n",
    "nnc_ga_mu/CDNamedEntities01\n",
    "nnc_ga_mu/CDAn_tOileanach_part3_newLTS\n",
    "nnc_ga_mu/CDAn_tOileanach_part4_newLTS\n",
    "nnc_ga_mu/CDNamedEntities02\n",
    "nnc_ga_mu/CDAlphabet\n",
    "nnc_ga_mu/CDAn_tOileanach_part2_newLTS\n",
    "nnc_ga_mu/corpas_beag_newLTS\n",
    "nnc_ga_mu/CDSaytime\n",
    "nnc_ga_mu/CDAn_tOileanach_part1_newLTS\n",
    "cmg_ga_mu/CMGOther\n",
    "cmg_ga_mu/CMGCorpusBeag\n",
    "anb_ga_ul/new_text02\n",
    "anb_ga_ul/text01-004\n",
    "anb_ga_ul/text01\n",
    "anb_ga_ul/text01-001\n",
    "anb_ga_ul/text02\n",
    "anb_ga_ul/named-entities\n",
    "\"\"\""
   ],
   "outputs": []
  },
  {
   "cell_type": "code",
   "execution_count": null,
   "metadata": {},
   "source": [
    "dirl = dirs.split(\"\\n\")"
   ],
   "outputs": []
  }
 ],
 "metadata": {
  "kernelspec": {
   "display_name": "Python 3",
   "language": "python",
   "name": "python3"
  },
  "language_info": {
   "file_extension": ".py",
   "mimetype": "text/x-python",
   "name": "python",
   "version": "3.9.2"
  }
 },
 "nbformat": 4,
 "nbformat_minor": 4
}
