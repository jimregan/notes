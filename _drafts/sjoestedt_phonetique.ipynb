{
 "cells": [
  {
   "cell_type": "code",
   "execution_count": 141,
   "metadata": {},
   "outputs": [],
   "source": [
    "FORM_MAPS = {\n",
    "    \"le génitif\": \"genitive\",\n",
    "    \"gen.\": \"genitive\",\n",
    "    \"gén.\": \"genitive\",\n",
    "    \"gén\": \"genitive\",\n",
    "    \"dat.\": \"dative\",\n",
    "    \"dat\": \"dative\",\n",
    "    \"plur.\": \"plural\",\n",
    "    \"plur\": \"plural\"\n",
    "}"
   ]
  },
  {
   "cell_type": "code",
   "execution_count": 147,
   "metadata": {},
   "outputs": [],
   "source": [
    "import re\n",
    "REGEX_CASE = rf\"^([^(]+) \\(([^)]+)\\) « ([^»]+) », ({'|'.join(FORM_MAPS.keys())}) ([^(]+) \\(([^)]+)\\)$\"\n",
    "REGEX_CASE_OF = rf\"^([^(]+) \\(([^)]+)\\), ({'|'.join(FORM_MAPS.keys())}) de ([^«]+) « ([^»]+) »$\"\n",
    "REGEX_BASE = r\"^([^(]+) \\(([^)]+)\\) « ([^»]+) »$\"\n",
    "REGEX_FROM = r\"^([^(]+) \\(([^)]+)\\) « ([^»]+) », de ([^(]+) \\(([^)]+)\\) « ([^»]+) »$\"\n",
    "REGEX_IN = r\"^([^(]+) \\(([^)]+)\\), dans ([^«]+) « ([^»]+) »$\""
   ]
  },
  {
   "cell_type": "code",
   "execution_count": 171,
   "metadata": {},
   "outputs": [],
   "source": [
    "import json\n",
    "with open(\"sjoestedt_phonetique.json\") as inf:\n",
    "    DATA = json.load(inf)"
   ]
  },
  {
   "cell_type": "code",
   "execution_count": 164,
   "metadata": {},
   "outputs": [],
   "source": [
    "counter = 1\n",
    "section = 10\n",
    "\n",
    "if not section in DATA:\n",
    "    DATA[section] = []"
   ]
  },
  {
   "cell_type": "code",
   "execution_count": 165,
   "metadata": {},
   "outputs": [],
   "source": [
    "TEXT = \"\"\"\n",
    "pɑkə (paca) « paquet ».\tbɑkə (bacadh) « boiter ».\n",
    "pᴀᴜl (poll) « trou ».\tbᴀᴜl (ball) « membre ».\n",
    "pʲaᴜn (peann) « plume ».\tbʲaᴜn (beann) « promon­toire ».\n",
    "bʹi꞉nʹ (binn) « mélodieux ».\tpʹi꞉nʹ (pinn), gén de pʲaᴜn « plume ».\n",
    "tᴜꞏə (tuagh) « hache ».\tdᴜꞏə (duagh) « peine ».\n",
    "gə dʹëinʹ (go deimhin) « certes ».\tgə tʹëinʹ (go teinn) « doulou­reuse­ment ».\n",
    "tʹαs (teas) « chaleur ».\tdʹαs (deas) « joli ».\n",
    "tɑ꞉ (tá) « est ».\tdɑ꞉ (dá) « si ».\n",
    "krɑ꞉ (crádh) « ennui ».\tgrɑ꞉ (grádh) « amour ».\n",
    "krʹαs (creas) « étincelle ».\tgrʹαs (greas) « petite quantité ».\n",
    "kʹe꞉ (cé) « qui ».\tgʹe꞉ (gé) « oie ».\n",
    "kɑ꞉ (cá) « où ».\tgɑ꞉ (gádh) « bénéfice ».\n",
    "kʷë꞉ᵊl (caol) « étroit ».\tgʷë꞉ᵊl (gaol) « parenté ».\n",
    "\"\"\".replace(\"\\xad\", \"\")"
   ]
  },
  {
   "cell_type": "code",
   "execution_count": 173,
   "metadata": {},
   "outputs": [],
   "source": [
    "#TEXT = \"ǥʷɪdʲəχ ʃeꞏ (ghoideadh sé) « il avait coutume de voler ». ǥʷɪtʲəχ ʃeꞏ (ghoid­feadh sé) « il volerait ». ə klᴀᴜn (a clann) « ses enfants (à elle) ». ə glᴀᴜn (a gclann) « leurs enfants ».\"\n",
    "def extract(text, splitter):\n",
    "    for p in text.split(splitter):\n",
    "            m = re.match(REGEX_BASE, p.strip())\n",
    "            mf = re.match(REGEX_FROM, p.strip())\n",
    "            min = re.match(REGEX_IN, p.strip())\n",
    "            mc = re.match(REGEX_CASE, p.strip())\n",
    "            mcof = re.match(REGEX_CASE_OF, p.strip())\n",
    "            if m:\n",
    "                DATA[section].append({\n",
    "                    \"section\": section,\n",
    "                    \"id\": f\"{section}_{counter}\",\n",
    "                    \"transcription\": m.group(1),\n",
    "                    \"irish\": m.group(2),\n",
    "                    \"french\": m.group(3),\n",
    "                })\n",
    "                counter += 1\n",
    "            elif mf:\n",
    "                DATA[section].append({\n",
    "                    \"section\": section,\n",
    "                    \"id\": f\"{section}_{counter}\",\n",
    "                    \"transcription\": mf.group(1),\n",
    "                    \"irish\": mf.group(2),\n",
    "                    \"french\": mf.group(3).replace(\"\\xad\", \"\"),\n",
    "                    \"from\": mf.group(5)\n",
    "                })\n",
    "                counter += 1\n",
    "                DATA[section].append({\n",
    "                    \"section\": section,\n",
    "                    \"id\": f\"{section}_{counter}\",\n",
    "                    \"transcription\": mf.group(4),\n",
    "                    \"irish\": mf.group(5),\n",
    "                    \"french\": mf.group(6).replace(\"\\xad\", \"\"),\n",
    "                })\n",
    "                counter += 1\n",
    "            elif min:\n",
    "                DATA[section].append({\n",
    "                    \"section\": section,\n",
    "                    \"id\": f\"{section}_{counter}\",\n",
    "                    \"transcription\": min.group(1),\n",
    "                    \"irish\": min.group(2),\n",
    "                    \"in\": min.group(3)\n",
    "                })\n",
    "                counter += 1\n",
    "                DATA[section].append({\n",
    "                    \"section\": section,\n",
    "                    \"id\": f\"{section}_{counter}\",\n",
    "                    \"transcription\": min.group(3),\n",
    "                    \"french\": min.group(4),\n",
    "                })\n",
    "                counter += 1\n",
    "            elif mc:\n",
    "                DATA[section].append({\n",
    "                    \"section\": section,\n",
    "                    \"id\": f\"{section}_{counter}\",\n",
    "                    \"transcription\": mc.group(1),\n",
    "                    \"irish\": mc.group(2),\n",
    "                    \"french\": mc.group(3),\n",
    "                    FORM_MAPS[mc.group(4)]: mc.group(6)\n",
    "                })\n",
    "                counter += 1\n",
    "                DATA[section].append({\n",
    "                    \"section\": section,\n",
    "                    \"id\": f\"{section}_{counter}\",\n",
    "                    \"transcription\": mc.group(5),\n",
    "                    \"irish\": mc.group(6),\n",
    "                    f\"{FORM_MAPS[mc.group(4)]}_of\": mc.group(2)\n",
    "                })\n",
    "                counter += 1\n",
    "            elif mcof:\n",
    "                DATA[section].append({\n",
    "                    \"section\": section,\n",
    "                    \"id\": f\"{section}_{counter}\",\n",
    "                    \"transcription\": mcof.group(1),\n",
    "                    \"irish\": mcof.group(2),\n",
    "                    f\"{FORM_MAPS[mcof.group(3)]}_of\": mcof.group(4)\n",
    "                })\n",
    "                counter += 1\n",
    "                DATA[section].append({\n",
    "                    \"section\": section,\n",
    "                    \"id\": f\"{section}_{counter}\",\n",
    "                    \"transcription\": mcof.group(4),\n",
    "                    \"french\": mcof.group(5),\n",
    "                    FORM_MAPS[mcof.group(3)]: mcof.group(2)\n",
    "                })\n",
    "                counter += 1\n",
    "            else:\n",
    "                print(p)\n"
   ]
  },
  {
   "cell_type": "code",
   "execution_count": 105,
   "metadata": {},
   "outputs": [],
   "source": []
  },
  {
   "cell_type": "code",
   "execution_count": 170,
   "metadata": {},
   "outputs": [],
   "source": [
    "import json\n",
    "with open(\"sjoestedt_phonetique.json\", \"w\") as outf:\n",
    "    json.dump(DATA, outf)"
   ]
  },
  {
   "cell_type": "code",
   "execution_count": 108,
   "metadata": {},
   "outputs": [
    {
     "data": {
      "text/plain": [
       "41"
      ]
     },
     "execution_count": 108,
     "metadata": {},
     "output_type": "execute_result"
    }
   ],
   "source": [
    "len(DATA[6])"
   ]
  }
 ],
 "metadata": {
  "kernelspec": {
   "display_name": "hf",
   "language": "python",
   "name": "python3"
  },
  "language_info": {
   "codemirror_mode": {
    "name": "ipython",
    "version": 3
   },
   "file_extension": ".py",
   "mimetype": "text/x-python",
   "name": "python",
   "nbconvert_exporter": "python",
   "pygments_lexer": "ipython3",
   "version": "3.9.15"
  }
 },
 "nbformat": 4,
 "nbformat_minor": 2
}
