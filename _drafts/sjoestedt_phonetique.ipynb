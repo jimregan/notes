{
 "cells": [
  {
   "cell_type": "code",
   "execution_count": 1,
   "metadata": {},
   "outputs": [],
   "source": [
    "TRY1 = \"fʹαr (fear) « homme », le génitif fʹirʹ (fir)\""
   ]
  },
  {
   "cell_type": "code",
   "execution_count": 4,
   "metadata": {},
   "outputs": [],
   "source": [
    "FORM_MAPS = {\n",
    "    \"le génitif\": \"genetive\",\n",
    "    \"gen.\": \"genetive\",\n",
    "    \"dat.\": \"dative\",\n",
    "    \"plur.\": \"plural\"\n",
    "}"
   ]
  },
  {
   "cell_type": "code",
   "execution_count": 15,
   "metadata": {},
   "outputs": [],
   "source": [
    "import re\n",
    "REGEX_CASE = rf\"^([^(]+) \\(([^)]+)\\) « ([^»]+) », ({'|'.join(FORM_MAPS.keys())}) ([^(]+) \\(([^)]+)\\)$\"\n",
    "REGEX_BASE = r\"^([^(]+) \\(([^)]+)\\) « ([^»]+) »$\"\n",
    "REGEX_FROM = r\"^([^(]+) \\(([^)]+)\\) « ([^»]+) », de ([^(]+) \\(([^)]+)\\) « ([^»]+) »$\"\n",
    "REGEX_IN = r\"^([^(]+) \\(([^)]+)\\) « ([^»]+) », dans ([^«]+) « ([^»]+) »$\""
   ]
  },
  {
   "cell_type": "code",
   "execution_count": 10,
   "metadata": {},
   "outputs": [
    {
     "data": {
      "text/plain": [
       "('fʹαr', 'fear', 'homme', 'le génitif', 'fʹirʹ', 'fir')"
      ]
     },
     "execution_count": 10,
     "metadata": {},
     "output_type": "execute_result"
    }
   ],
   "source": [
    "m = re.match(REGEX_CASE, TRY1)\n",
    "m.groups()"
   ]
  },
  {
   "cell_type": "code",
   "execution_count": null,
   "metadata": {},
   "outputs": [],
   "source": [
    "DATA = {}"
   ]
  },
  {
   "cell_type": "code",
   "execution_count": 12,
   "metadata": {},
   "outputs": [],
   "source": [
    "SEC6 = \"\"\"\n",
    "pɑkə (paca) « sac ».\tpʹαkə (peaca) « péché ».\n",
    "bo꞉ (bó) « vache ».\tbʲo꞉ (beó) « vivant ».\n",
    "tᴀᴜn (tonn) « une vague ».\ttʲaᴜn (teann) « trapu ».\n",
    "do꞉ (dóghadh) « brûler ».\tdʲo꞉ (deó), dans go dʲo꞉ « toujours ».\n",
    "kɑrtʹ (cairt) « voiture »\tkʹαrt (ceart) « droit, juste »\n",
    "gɑl (gal) « fumée ».\tgʹαl (geal) « brillant ».\n",
    "mᴜ꞉ⁱnʹ (móin) « tourbe ».\tmʲᴜ꞉n (meón) « caractère ».\n",
    "ə ŋᴀᴜl (i ngabhal) « entre, mêlé à », de gᴀᴜl (gabhal) « fourche ». ɩ ŋʲaᴜl (i ngeall) « en garantie », de gʲaᴜl (geall) « promesse ».\n",
    "kɑ꞉s (cás) « destin ».\tkɑ꞉ʃ (cáis) « fromage ».\n",
    "fɑd (fad) « longueur ».\tfʹαd (fead) « sifflet ».\n",
    "do vᴜ꞉ⁱnʹ (do mhóin) « ta tourbe ».\tdo vʲᴜ꞉n (do mheón) « ton content ».\n",
    "də χɑrtʹ (do chairt) « ta voiture ».\tdə çαrt (do cheart) « ton droit »\n",
    "ɑnəǥɑl (anaghal) « fumée épaisse ».\tɑnɩjαl (anagheal) « très brillant ».\n",
    "kɑ꞉l (cál) « droit, récla­mation ».\tkɑ꞉ⁱlʹ (cáil) « répu­tation ».\n",
    "ᴜ꞉r (úr) « frais ».\tᴜ꞉ⁱrʹ (úir) « terre, terreau ».\n",
    "\"\"\""
   ]
  },
  {
   "cell_type": "code",
   "execution_count": 18,
   "metadata": {},
   "outputs": [
    {
     "name": "stdout",
     "output_type": "stream",
     "text": [
      "<re.Match object; span=(0, 19), match='pɑkə (paca) « sac »'>\n",
      "<re.Match object; span=(0, 23), match='pʹαkə (peaca) « péché »'>\n",
      "None\n",
      "<re.Match object; span=(0, 18), match='bo꞉ (bó) « vache »'>\n",
      "<re.Match object; span=(0, 21), match='bʲo꞉ (beó) « vivant »'>\n",
      "None\n",
      "<re.Match object; span=(0, 25), match='tᴀᴜn (tonn) « une vague »'>\n",
      "<re.Match object; span=(0, 23), match='tʲaᴜn (teann) « trapu »'>\n",
      "None\n",
      "<re.Match object; span=(0, 24), match='do꞉ (dóghadh) « brûler »'>\n",
      "None\n",
      "None\n",
      "None\n",
      "<re.Match object; span=(0, 19), match='gɑl (gal) « fumée »'>\n",
      "<re.Match object; span=(0, 24), match='gʹαl (geal) « brillant »'>\n",
      "None\n",
      "<re.Match object; span=(0, 24), match='mᴜ꞉ⁱnʹ (móin) « tourbe »'>\n",
      "<re.Match object; span=(0, 26), match='mʲᴜ꞉n (meón) « caractère »'>\n",
      "None\n",
      "None\n",
      "None\n",
      "None\n",
      "<re.Match object; span=(0, 21), match='kɑ꞉s (cás) « destin »'>\n",
      "<re.Match object; span=(0, 23), match='kɑ꞉ʃ (cáis) « fromage »'>\n",
      "None\n",
      "<re.Match object; span=(0, 22), match='fɑd (fad) « longueur »'>\n",
      "<re.Match object; span=(0, 23), match='fʹαd (fead) « sifflet »'>\n",
      "None\n",
      "<re.Match object; span=(0, 34), match='do vᴜ꞉ⁱnʹ (do mhóin) « ta tourbe »'>\n",
      "<re.Match object; span=(0, 35), match='do vʲᴜ꞉n (do mheón) « ton content »'>\n",
      "None\n",
      "None\n",
      "<re.Match object; span=(0, 34), match='ɑnəǥɑl (anaghal) « fumée épaisse »'>\n",
      "<re.Match object; span=(0, 35), match='ɑnɩjαl (anagheal) « très brillant »'>\n",
      "None\n",
      "<re.Match object; span=(0, 34), match='kɑ꞉l (cál) « droit, récla\\xadmation »'>\n",
      "<re.Match object; span=(0, 29), match='kɑ꞉ⁱlʹ (cáil) « répu\\xadtation »'>\n",
      "None\n",
      "<re.Match object; span=(0, 18), match='ᴜ꞉r (úr) « frais »'>\n",
      "<re.Match object; span=(0, 30), match='ᴜ꞉ⁱrʹ (úir) « terre, terreau »'>\n",
      "None\n"
     ]
    }
   ],
   "source": [
    "for l in SEC6.split(\"\\n\"):\n",
    "    if l != \"\":\n",
    "        for p in l.split(\".\"):\n",
    "            m = re.match(REGEX_BASE, p.strip())\n",
    "            print(m)"
   ]
  }
 ],
 "metadata": {
  "kernelspec": {
   "display_name": "hf",
   "language": "python",
   "name": "python3"
  },
  "language_info": {
   "codemirror_mode": {
    "name": "ipython",
    "version": 3
   },
   "file_extension": ".py",
   "mimetype": "text/x-python",
   "name": "python",
   "nbconvert_exporter": "python",
   "pygments_lexer": "ipython3",
   "version": "3.9.15"
  }
 },
 "nbformat": 4,
 "nbformat_minor": 2
}
