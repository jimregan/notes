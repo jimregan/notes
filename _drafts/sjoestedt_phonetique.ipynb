{
 "cells": [
  {
   "cell_type": "code",
   "execution_count": 1,
   "metadata": {},
   "outputs": [],
   "source": [
    "TRY1 = \"fʹαr (fear) « homme », le génitif fʹirʹ (fir)\""
   ]
  },
  {
   "cell_type": "code",
   "execution_count": 4,
   "metadata": {},
   "outputs": [],
   "source": [
    "FORM_MAPS = {\n",
    "    \"le génitif\": \"genetive\",\n",
    "    \"gen.\": \"genetive\",\n",
    "    \"dat.\": \"dative\",\n",
    "    \"plur.\": \"plural\"\n",
    "}"
   ]
  },
  {
   "cell_type": "code",
   "execution_count": 7,
   "metadata": {},
   "outputs": [],
   "source": [
    "import re\n",
    "REGEX_CASE = rf\"^([^(]+) \\(([^)]+)\\) « ([^»]+) », ({'|'.join(FORM_MAPS.keys())}) ([^(]+) \\(([^)]+)\\)$\""
   ]
  },
  {
   "cell_type": "code",
   "execution_count": 10,
   "metadata": {},
   "outputs": [
    {
     "data": {
      "text/plain": [
       "('fʹαr', 'fear', 'homme', 'le génitif', 'fʹirʹ', 'fir')"
      ]
     },
     "execution_count": 10,
     "metadata": {},
     "output_type": "execute_result"
    }
   ],
   "source": [
    "m = re.match(REGEX_CASE, TRY1)\n",
    "m.groups()"
   ]
  },
  {
   "cell_type": "code",
   "execution_count": null,
   "metadata": {},
   "outputs": [],
   "source": [
    "DATA = {}"
   ]
  }
 ],
 "metadata": {
  "kernelspec": {
   "display_name": "hf",
   "language": "python",
   "name": "python3"
  },
  "language_info": {
   "codemirror_mode": {
    "name": "ipython",
    "version": 3
   },
   "file_extension": ".py",
   "mimetype": "text/x-python",
   "name": "python",
   "nbconvert_exporter": "python",
   "pygments_lexer": "ipython3",
   "version": "3.9.15"
  }
 },
 "nbformat": 4,
 "nbformat_minor": 2
}
