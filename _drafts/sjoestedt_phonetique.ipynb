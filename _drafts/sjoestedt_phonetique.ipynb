{
 "cells": [
  {
   "cell_type": "code",
   "execution_count": 363,
   "metadata": {},
   "outputs": [],
   "source": [
    "FORM_MAPS = {\n",
    "    \"le génitif\": \"genitive\",\n",
    "    \"gen.\": \"genitive\",\n",
    "    \"gén.\": \"genitive\",\n",
    "    \"gén\": \"genitive\",\n",
    "    \"dat.\": \"dative\",\n",
    "    \"dat\": \"dative\",\n",
    "    \"plur.\": \"plural\",\n",
    "    \"plur\": \"plural\",\n",
    "    \"futur\": \"future\",\n",
    "    \"fut.\": \"future\",\n",
    "    \"participe\": \"participle\",\n",
    "    \"comp.\": \"comparative\",\n",
    "    \"comp\": \"comparative\",\n",
    "    \"impér.\": \"imperative\",\n",
    "    \"impér\": \"imperative\"\n",
    "}"
   ]
  },
  {
   "cell_type": "code",
   "execution_count": 429,
   "metadata": {},
   "outputs": [],
   "source": [
    "import json\n",
    "with open(\"sjoestedt_phonetique.json\") as inf:\n",
    "    DATA = json.load(inf)"
   ]
  },
  {
   "cell_type": "code",
   "execution_count": 424,
   "metadata": {},
   "outputs": [],
   "source": [
    "section = 30\n",
    "\n",
    "if not section in DATA:\n",
    "    DATA[section] = []"
   ]
  },
  {
   "cell_type": "code",
   "execution_count": 384,
   "metadata": {},
   "outputs": [],
   "source": [
    "DATA[section] = []"
   ]
  },
  {
   "cell_type": "code",
   "execution_count": 364,
   "metadata": {},
   "outputs": [],
   "source": [
    "import re\n",
    "REGEX_CASE = rf\"^([^(]+) \\(([^)]+)\\) « ([^»]+) », ({'|'.join(FORM_MAPS.keys())}) ([^(]+) \\(([^)]+)\\)$\"\n",
    "REGEX_CASE_OF = rf\"^([^(]+) \\(([^)]+)\\),? ({'|'.join(FORM_MAPS.keys())}) de ([^«]+) « ([^»]+) »$\"\n",
    "REGEX_CASE_OF_BOTH = rf\"^([^(]+) \\(([^)]+)\\),? ({'|'.join(FORM_MAPS.keys())}) de ([^«]+) \\(([^)]+)\\) « ([^»]+) »$\"\n",
    "REGEX_BASE = r\"^([^(]+) \\(([^)]+)\\) « ([^»]+) »$\"\n",
    "REGEX_JUST_FRENCH = r\"^([^(]+) « ([^»]+) »$\"\n",
    "REGEX_FROM = r\"^([^(]+) \\(([^)]+)\\) « ([^»]+) »,? de ([^(]+) \\(([^)]+)\\) « ([^»]+) »$\"\n",
    "REGEX_IN = r\"^([^(]+) \\(([^)]+)\\), dans ([^«]+) « ([^»]+) »$\"\n",
    "REGEX_OR = r\"^([^(]+) \\(([^)]+)\\) ou ([^(]+) \\(([^)]+)\\) « ([^»]+) »$\"\n",
    "\n",
    "def extract(text, splitter, counter):\n",
    "    text = text.replace(\"\\u00ad\", \"\").replace(\"\\n\", \" \")\n",
    "    for p in text.split(splitter):\n",
    "            m = re.match(REGEX_BASE, p.strip())\n",
    "            mjf = re.match(REGEX_JUST_FRENCH, p.strip())\n",
    "            mf = re.match(REGEX_FROM, p.strip())\n",
    "            min = re.match(REGEX_IN, p.strip())\n",
    "            mc = re.match(REGEX_CASE, p.strip())\n",
    "            mcofb = re.match(REGEX_CASE_OF_BOTH, p.strip())\n",
    "            mcof = re.match(REGEX_CASE_OF, p.strip())\n",
    "            mor = re.match(REGEX_OR, p.strip())\n",
    "            if m:\n",
    "                DATA[section].append({\n",
    "                    \"section\": section,\n",
    "                    \"id\": f\"{section}_{counter}\",\n",
    "                    \"transcription\": m.group(1),\n",
    "                    \"irish\": m.group(2),\n",
    "                    \"french\": m.group(3),\n",
    "                })\n",
    "                counter += 1\n",
    "            elif mjf:\n",
    "                DATA[section].append({\n",
    "                    \"section\": section,\n",
    "                    \"id\": f\"{section}_{counter}\",\n",
    "                    \"transcription\": mjf.group(1),\n",
    "                    \"french\": mjf.group(2),\n",
    "                })\n",
    "                counter += 1\n",
    "            elif mf:\n",
    "                DATA[section].append({\n",
    "                    \"section\": section,\n",
    "                    \"id\": f\"{section}_{counter}\",\n",
    "                    \"transcription\": mf.group(1),\n",
    "                    \"irish\": mf.group(2),\n",
    "                    \"french\": mf.group(3).replace(\"\\xad\", \"\"),\n",
    "                    \"from\": mf.group(5)\n",
    "                })\n",
    "                counter += 1\n",
    "                DATA[section].append({\n",
    "                    \"section\": section,\n",
    "                    \"id\": f\"{section}_{counter}\",\n",
    "                    \"transcription\": mf.group(4),\n",
    "                    \"irish\": mf.group(5),\n",
    "                    \"french\": mf.group(6).replace(\"\\xad\", \"\"),\n",
    "                })\n",
    "                counter += 1\n",
    "            elif mor:\n",
    "                DATA[section].append({\n",
    "                    \"section\": section,\n",
    "                    \"id\": f\"{section}_{counter}\",\n",
    "                    \"transcription\": mor.group(1),\n",
    "                    \"irish\": mor.group(2),\n",
    "                    \"french\": mor.group(5),\n",
    "                    \"alt\": mor.group(4)\n",
    "                })\n",
    "                counter += 1\n",
    "                DATA[section].append({\n",
    "                    \"section\": section,\n",
    "                    \"id\": f\"{section}_{counter}\",\n",
    "                    \"transcription\": mor.group(3),\n",
    "                    \"irish\": mor.group(4),\n",
    "                    \"french\": mor.group(5),\n",
    "                    \"alt\": mor.group(2)\n",
    "                })\n",
    "                counter += 1\n",
    "            elif min:\n",
    "                DATA[section].append({\n",
    "                    \"section\": section,\n",
    "                    \"id\": f\"{section}_{counter}\",\n",
    "                    \"transcription\": min.group(1),\n",
    "                    \"irish\": min.group(2),\n",
    "                    \"in\": min.group(3)\n",
    "                })\n",
    "                counter += 1\n",
    "                DATA[section].append({\n",
    "                    \"section\": section,\n",
    "                    \"id\": f\"{section}_{counter}\",\n",
    "                    \"transcription\": min.group(3),\n",
    "                    \"french\": min.group(4),\n",
    "                })\n",
    "                counter += 1\n",
    "            elif mc:\n",
    "                DATA[section].append({\n",
    "                    \"section\": section,\n",
    "                    \"id\": f\"{section}_{counter}\",\n",
    "                    \"transcription\": mc.group(1),\n",
    "                    \"irish\": mc.group(2),\n",
    "                    \"french\": mc.group(3),\n",
    "                    FORM_MAPS[mc.group(4)]: mc.group(6)\n",
    "                })\n",
    "                counter += 1\n",
    "                DATA[section].append({\n",
    "                    \"section\": section,\n",
    "                    \"id\": f\"{section}_{counter}\",\n",
    "                    \"transcription\": mc.group(5),\n",
    "                    \"irish\": mc.group(6),\n",
    "                    f\"{FORM_MAPS[mc.group(4)]}_of\": mc.group(2)\n",
    "                })\n",
    "                counter += 1\n",
    "            elif mcofb:\n",
    "                DATA[section].append({\n",
    "                    \"section\": section,\n",
    "                    \"id\": f\"{section}_{counter}\",\n",
    "                    \"transcription\": mcofb.group(1),\n",
    "                    \"irish\": mcofb.group(2),\n",
    "                    f\"{FORM_MAPS[mcofb.group(3)]}_of\": mcofb.group(5)\n",
    "                })\n",
    "                counter += 1\n",
    "                DATA[section].append({\n",
    "                    \"section\": section,\n",
    "                    \"id\": f\"{section}_{counter}\",\n",
    "                    \"irish\": mcofb.group(5),\n",
    "                    \"transcription\": mcofb.group(4),\n",
    "                    \"french\": mcofb.group(6),\n",
    "                    FORM_MAPS[mcofb.group(3)]: mcofb.group(2)\n",
    "                })\n",
    "                counter += 1\n",
    "            elif mcof:\n",
    "                DATA[section].append({\n",
    "                    \"section\": section,\n",
    "                    \"id\": f\"{section}_{counter}\",\n",
    "                    \"transcription\": mcof.group(1),\n",
    "                    \"irish\": mcof.group(2),\n",
    "                    f\"{FORM_MAPS[mcof.group(3)]}_of\": mcof.group(4)\n",
    "                })\n",
    "                counter += 1\n",
    "                DATA[section].append({\n",
    "                    \"section\": section,\n",
    "                    \"id\": f\"{section}_{counter}\",\n",
    "                    \"transcription\": mcof.group(4),\n",
    "                    \"french\": mcof.group(5),\n",
    "                    FORM_MAPS[mcof.group(3)]: mcof.group(2)\n",
    "                })\n",
    "                counter += 1\n",
    "            else:\n",
    "                print(p)\n",
    "    print(counter)\n"
   ]
  },
  {
   "cell_type": "code",
   "execution_count": 615,
   "metadata": {},
   "outputs": [],
   "source": [
    "REST = {\n",
    "    57: \"ɑ꞉ⁱfʹe꞉ʃ (áiféis) « exagé­ration » ; dʹᴇfʹɩrʹ (deithbhir) « hâte » ; ɛfʹɩgʹ (oífig) « bureau » ; stɪfʹ (stuif) « substance, matériel »\",\n",
    "}"
   ]
  },
  {
   "cell_type": "markdown",
   "metadata": {},
   "source": []
  },
  {
   "cell_type": "code",
   "execution_count": 616,
   "metadata": {},
   "outputs": [
    {
     "name": "stdout",
     "output_type": "stream",
     "text": [
      "16\n"
     ]
    }
   ],
   "source": [
    "# DATA[section] = []\n",
    "section = 57\n",
    "if not section in DATA:\n",
    "    DATA[section] = []\n",
    "extract(REST[section], \";\", 12)"
   ]
  },
  {
   "cell_type": "code",
   "execution_count": 614,
   "metadata": {},
   "outputs": [],
   "source": [
    "DATA[section][-1][\"transcription\"] = DATA[section][-1][\"transcription\"].split(\" ou \")\n",
    "# DATA[section][-1][\"french\"] = [DATA[section][-1][\"french\"], \"grimace\"]\n",
    "# DATA[section][-1][\"transcription\"] = [\"ə vɑ꞉hɩrʹ\", \"ə ṽɑ̃꞉hɩrʹ\", \"ə vɑ̃꞉hɩrʹ\"]"
   ]
  },
  {
   "cell_type": "code",
   "execution_count": 617,
   "metadata": {},
   "outputs": [],
   "source": [
    "import json\n",
    "\n",
    "if str(section) in DATA:\n",
    "    tmp = DATA[str(section)] + DATA[section]\n",
    "    DATA[str(section)] = tmp\n",
    "    del(DATA[section])\n",
    "\n",
    "with open(\"sjoestedt_phonetique.json\", \"w\") as outf:\n",
    "    json.dump(DATA, outf)"
   ]
  },
  {
   "cell_type": "code",
   "execution_count": 538,
   "metadata": {},
   "outputs": [],
   "source": [
    "# DATA[section] = DATA[section][0:5]\n",
    "del(DATA[section][-1])"
   ]
  },
  {
   "cell_type": "code",
   "execution_count": 540,
   "metadata": {},
   "outputs": [
    {
     "data": {
      "text/plain": [
       "{'section': 47,\n",
       " 'id': '47_9',\n",
       " 'irish': 'long',\n",
       " 'transcription': 'lɔŋg',\n",
       " 'french': 'navire',\n",
       " 'dative': 'luing',\n",
       " 'genitive': 'luinge'}"
      ]
     },
     "execution_count": 540,
     "metadata": {},
     "output_type": "execute_result"
    }
   ],
   "source": [
    "# DATA[section][-2][\"dative\"] = \"muic\"\n",
    "# DATA[section][-2][\"genitive\"] = \"luinge\"\n",
    "# del(DATA[section][-1][\"dative\"])\n",
    "DATA[section][-2]"
   ]
  }
 ],
 "metadata": {
  "kernelspec": {
   "display_name": "hf",
   "language": "python",
   "name": "python3"
  },
  "language_info": {
   "codemirror_mode": {
    "name": "ipython",
    "version": 3
   },
   "file_extension": ".py",
   "mimetype": "text/x-python",
   "name": "python",
   "nbconvert_exporter": "python",
   "pygments_lexer": "ipython3",
   "version": "3.9.15"
  }
 },
 "nbformat": 4,
 "nbformat_minor": 2
}
