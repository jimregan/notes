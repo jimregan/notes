{
 "cells": [
  {
   "cell_type": "code",
   "execution_count": 6,
   "id": "1581f903",
   "metadata": {},
   "outputs": [],
   "source": [
    "import json\n",
    "with open(\"/tmp/csb/kashubian-data.json\", \"r\") as read_file:\n",
    "    data = json.load(read_file)"
   ]
  },
  {
   "cell_type": "code",
   "execution_count": 8,
   "id": "a2e4501e",
   "metadata": {},
   "outputs": [],
   "source": [
    "for datum in data:\n",
    "    file = datum['audio'].split('/')[-1].replace('.ogg', '.txt')\n",
    "    with open(f'/tmp/csb/{file}', 'w') as f:\n",
    "        text = '\\n'.join([a.strip() for a in datum['text'].split('\\n') if a.strip() != ''])\n",
    "        \n",
    "        f.write(text)"
   ]
  },
  {
   "cell_type": "code",
   "execution_count": 4,
   "id": "c0f19a4d",
   "metadata": {},
   "outputs": [],
   "source": [
    "import glob\n",
    "for file in glob.glob('/tmp/csb/*.ogg.wav.tlog'):\n",
    "    outfile = file.replace('.ogg.wav.tlog', '.rec.txt')\n",
    "    with open(file, \"r\") as tlog:\n",
    "        data = json.load(tlog)\n",
    "    with open(outfile, \"w\") as rectxt:\n",
    "        for datum in data:\n",
    "            rectxt.write(f\"{datum['transcript']}\\n\")\n",
    "        "
   ]
  }
 ],
 "metadata": {
  "kernelspec": {
   "display_name": "Python 3",
   "language": "python",
   "name": "python3"
  },
  "language_info": {
   "codemirror_mode": {
    "name": "ipython",
    "version": 3
   },
   "file_extension": ".py",
   "mimetype": "text/x-python",
   "name": "python",
   "nbconvert_exporter": "python",
   "pygments_lexer": "ipython3",
   "version": "3.8.2"
  }
 },
 "nbformat": 4,
 "nbformat_minor": 5
}
