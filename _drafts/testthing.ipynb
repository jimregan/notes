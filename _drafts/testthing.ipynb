{
 "cells": [
  {
   "cell_type": "code",
   "execution_count": 1,
   "metadata": {},
   "outputs": [],
   "source": [
    "URLS = {\n",
    "        \"bg_BG\": {\n",
    "            \"dimitar\": \"https://github.com/NabuCasa/voice-datasets/releases/download/v1.0.0/bg_BG-dimitar.zip\"\n",
    "        },\n",
    "        \"de_DE\": {\n",
    "            \"kerstin\": \"https://github.com/NabuCasa/voice-datasets/releases/download/v1.0.0/de_DE-kerstin.zip\"\n",
    "        },\n",
    "        \"en_US\": {\n",
    "            \"joe\": \"https://github.com/NabuCasa/voice-datasets/releases/download/v1.0.0/en_US-joe.zip\",\n",
    "            \"kathleen\": \"https://github.com/NabuCasa/voice-datasets/releases/download/v1.0.0/en_US-kathleen.zip\"\n",
    "        },\n",
    "        \"es_ES\": {\n",
    "            \"dave\": \"https://github.com/NabuCasa/voice-datasets/releases/download/v1.0.0/es_ES-dave.zip\",\n",
    "        },\n",
    "        \"hu_HU\": {\n",
    "            \"anna\": \"https://github.com/NabuCasa/voice-datasets/releases/download/v1.0.0/hu_HU-anna.zip\",\n",
    "            \"berta\": \"https://github.com/NabuCasa/voice-datasets/releases/download/v1.0.0/hu_HU-berta.zip\",\n",
    "            \"imre\": \"https://github.com/NabuCasa/voice-datasets/releases/download/v1.0.0/hu_HU-imre.zip\"\n",
    "        },\n",
    "        \"it_IT\": {\n",
    "            \"paola\": \"https://github.com/NabuCasa/voice-datasets/releases/download/v1.0.0/it_IT-paola.zip\"\n",
    "        },\n",
    "        \"nl_BE\": {\n",
    "            \"flemishguy\": \"https://github.com/NabuCasa/voice-datasets/releases/download/v1.0.0/nl_BE-flemishguy.zip\",\n",
    "            \"nathalie\": \"https://github.com/NabuCasa/voice-datasets/releases/download/v1.0.0/nl_BE-nathalie.zip\"\n",
    "        },\n",
    "        \"pl_PL\": {\n",
    "            \"darkman\": \"https://github.com/NabuCasa/voice-datasets/releases/download/v1.0.0/pl_PL-darkman.zip\",\n",
    "            \"gosia\": \"https://github.com/NabuCasa/voice-datasets/releases/download/v1.0.0/pl_PL-gosia.zip\"\n",
    "        },\n",
    "        \"pt_BR\": {\n",
    "            \"faber\": \"https://github.com/NabuCasa/voice-datasets/releases/download/v1.0.0/pt_BR-faber.zip\"\n",
    "        },\n",
    "        \"pt_PT\": {\n",
    "            \"tugão\": \"https://github.com/NabuCasa/voice-datasets/releases/download/v1.0.0/pt_PT-tugao.zip\"\n",
    "        },\n",
    "        \"ro_RO\": {\n",
    "            \"mihai\": \"https://github.com/NabuCasa/voice-datasets/releases/download/v1.0.0/ro_RO-mihai.zip\"\n",
    "        },\n",
    "        \"ru_RU\": {\n",
    "            \"denis\": \"https://github.com/NabuCasa/voice-datasets/releases/download/v1.0.0/ru_RU-denis.zip\",\n",
    "            \"dmitri\": \"https://github.com/NabuCasa/voice-datasets/releases/download/v1.0.0/ru_RU-dmitri.zip\"\n",
    "        },\n",
    "        \"sk_SK\": {\n",
    "            \"lili\": \"https://github.com/NabuCasa/voice-datasets/releases/download/v1.0.0/sk_SK-lili.zip\"\n",
    "        }\n",
    "    }\n"
   ]
  },
  {
   "cell_type": "code",
   "execution_count": 6,
   "metadata": {},
   "outputs": [],
   "source": [
    "def get_languages():\n",
    "    langs = {}\n",
    "    for k in URLS:\n",
    "        langcode = k.split(\"_\")[0]\n",
    "        if not langcode in langs:\n",
    "            langs[langcode] = set()\n",
    "        langs[langcode].add(k)\n",
    "    return {k: list(v) for k, v in langs.items()}\n"
   ]
  },
  {
   "cell_type": "code",
   "execution_count": 7,
   "metadata": {},
   "outputs": [
    {
     "data": {
      "text/plain": [
       "{'bg': ['bg_BG'],\n",
       " 'de': ['de_DE'],\n",
       " 'en': ['en_US'],\n",
       " 'es': ['es_ES'],\n",
       " 'hu': ['hu_HU'],\n",
       " 'it': ['it_IT'],\n",
       " 'nl': ['nl_BE'],\n",
       " 'pl': ['pl_PL'],\n",
       " 'pt': ['pt_PT', 'pt_BR'],\n",
       " 'ro': ['ro_RO'],\n",
       " 'ru': ['ru_RU'],\n",
       " 'sk': ['sk_SK']}"
      ]
     },
     "execution_count": 7,
     "metadata": {},
     "output_type": "execute_result"
    }
   ],
   "source": [
    "get_languages()"
   ]
  },
  {
   "cell_type": "code",
   "execution_count": null,
   "metadata": {},
   "outputs": [],
   "source": []
  }
 ],
 "metadata": {
  "language_info": {
   "name": "python"
  }
 },
 "nbformat": 4,
 "nbformat_minor": 2
}
