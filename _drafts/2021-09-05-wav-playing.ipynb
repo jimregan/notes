{
 "cells": [
  {
   "cell_type": "code",
   "execution_count": 1,
   "metadata": {},
   "source": [
    "from pathlib import Path\n",
    "import wave\n",
    "ncb_path = Path(\"/media/storage/phonetics/corpas_ncb/corpas_full_split_210415/\")"
   ],
   "outputs": []
  },
  {
   "cell_type": "code",
   "execution_count": 2,
   "metadata": {},
   "source": [
    "files = []\n",
    "for wf in ncb_path.glob(\"*.wav\"):\n",
    "    cur = {}\n",
    "    cur[\"id\"] = wf.stem\n",
    "    wav = wave.open(str(wf))\n",
    "    fr = wav.getframerate()\n",
    "    cur[\"framerate\"] = fr\n",
    "    cur[\"duration\"] = wav.getnframes() / fr\n",
    "    files.append(cur)"
   ],
   "outputs": []
  },
  {
   "cell_type": "code",
   "execution_count": 4,
   "metadata": {},
   "source": [
    "import json\n",
    "with open(\"out.json\", \"w\") as outf:\n",
    "    json.dump(files, outf)"
   ],
   "outputs": []
  },
  {
   "cell_type": "code",
   "execution_count": null,
   "metadata": {},
   "source": [],
   "outputs": []
  }
 ],
 "metadata": {
  "kernelspec": {
   "display_name": "Python 3",
   "language": "python",
   "name": "python3"
  },
  "language_info": {
   "file_extension": ".py",
   "mimetype": "text/x-python",
   "name": "python",
   "version": "3.9.2"
  }
 },
 "nbformat": 4,
 "nbformat_minor": 4
}
