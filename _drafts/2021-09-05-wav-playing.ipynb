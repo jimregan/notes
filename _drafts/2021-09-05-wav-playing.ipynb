{
 "cells": [
  {
   "cell_type": "markdown",
   "source": [
    "# Playing .wav files\r\n",
    "\r\n",
    "> \"Test notebook, nbterm over ssh\"\r\n",
    "\r\n",
    "- toc: false\r\n",
    "- branch: master\r\n",
    "- hidden: true\r\n",
    "- categories: [test]"
   ],
   "metadata": {}
  },
  {
   "cell_type": "code",
   "execution_count": 1,
   "source": [
    "from pathlib import Path\r\n",
    "import wave\r\n",
    "ncb_path = Path(\"/media/storage/phonetics/corpas_ncb/corpas_full_split_210415/\")"
   ],
   "outputs": [],
   "metadata": {}
  },
  {
   "cell_type": "code",
   "execution_count": 2,
   "source": [
    "files = []\r\n",
    "for wf in ncb_path.glob(\"*.wav\"):\r\n",
    "    cur = {}\r\n",
    "    cur[\"id\"] = wf.stem\r\n",
    "    wav = wave.open(str(wf))\r\n",
    "    fr = wav.getframerate()\r\n",
    "    cur[\"framerate\"] = fr\r\n",
    "    cur[\"duration\"] = wav.getnframes() / fr\r\n",
    "    files.append(cur)"
   ],
   "outputs": [],
   "metadata": {}
  },
  {
   "cell_type": "code",
   "execution_count": 4,
   "source": [
    "import json\r\n",
    "with open(\"out.json\", \"w\") as outf:\r\n",
    "    json.dump(files, outf)"
   ],
   "outputs": [],
   "metadata": {}
  }
 ],
 "metadata": {
  "kernelspec": {
   "display_name": "Python 3",
   "language": "python",
   "name": "python3"
  },
  "language_info": {
   "file_extension": ".py",
   "mimetype": "text/x-python",
   "name": "python",
   "version": "3.9.2"
  }
 },
 "nbformat": 4,
 "nbformat_minor": 4
}