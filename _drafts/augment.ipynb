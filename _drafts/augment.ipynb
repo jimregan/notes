{
 "cells": [
  {
   "cell_type": "code",
   "execution_count": 21,
   "metadata": {},
   "outputs": [],
   "source": [
    "from audiomentations import ApplyImpulseResponse, AddGaussianNoise, TimeStretch, PitchShift, Compose\n",
    "import itertools\n",
    "import numpy as np"
   ]
  },
  {
   "cell_type": "code",
   "execution_count": 4,
   "metadata": {},
   "outputs": [
    {
     "name": "stderr",
     "output_type": "stream",
     "text": [
      "/home/joregan/miniconda3/envs/fs2/lib/python3.8/site-packages/audiomentations/augmentations/apply_impulse_response.py:48: UserWarning: The default value of leave_length_unchanged will change from False to True in a future version of audiomentations. You can set the value explicitly to remove this warning for now.\n",
      "  warnings.warn(\n"
     ]
    }
   ],
   "source": [
    "augmentations = {\n",
    "    \"timestretch\": TimeStretch(min_rate=0.5, max_rate=2.0, p=1.0, leave_length_unchanged=False),\n",
    "    \"pitchshift\": PitchShift(min_semitones=-8, max_semitones=8, p=1.0),\n",
    "    \"gaussian\": AddGaussianNoise(min_amplitude=0.001, max_amplitude=0.015, p=1.0),\n",
    "    \"rir\": ApplyImpulseResponse(ir_path=\"/home/joregan/.psst/rir\", p=1.0),\n",
    "}"
   ]
  },
  {
   "cell_type": "code",
   "execution_count": 5,
   "metadata": {},
   "outputs": [],
   "source": [
    "all2=list(itertools.combinations_with_replacement(augmentations.keys(), 2))\n",
    "all3=list(itertools.combinations_with_replacement(augmentations.keys(), 3))"
   ]
  },
  {
   "cell_type": "code",
   "execution_count": 6,
   "metadata": {},
   "outputs": [],
   "source": [
    "all2 = [a for a in all2 if a[0] != a[1]]"
   ]
  },
  {
   "cell_type": "code",
   "execution_count": 7,
   "metadata": {},
   "outputs": [],
   "source": [
    "all3 = [a for a in all3 if(a[0] != a[1] and a[1] != a[2] and a[0] != a[2])]"
   ]
  },
  {
   "cell_type": "code",
   "execution_count": 27,
   "metadata": {},
   "outputs": [],
   "source": [
    "combinations = {}\n",
    "for item in all2:\n",
    "    key = \"-\".join(item)\n",
    "    val = Compose([augmentations[item[0]], augmentations[item[1]]])\n",
    "    combinations[key] = val\n",
    "for item in all3:\n",
    "    key = \"-\".join(item)\n",
    "    val = Compose([augmentations[item[0]], augmentations[item[1]], augmentations[item[2]]])\n",
    "    combinations[key] = val\n",
    "combinations[\"-\".join(augmentations.keys())] = Compose([v for v in augmentations.values()])"
   ]
  },
  {
   "cell_type": "code",
   "execution_count": 28,
   "metadata": {},
   "outputs": [
    {
     "data": {
      "text/plain": [
       "{'timestretch-pitchshift': <audiomentations.core.composition.Compose at 0x7fc658e47100>,\n",
       " 'timestretch-gaussian': <audiomentations.core.composition.Compose at 0x7fc658e47f10>,\n",
       " 'timestretch-rir': <audiomentations.core.composition.Compose at 0x7fc658e47fa0>,\n",
       " 'pitchshift-gaussian': <audiomentations.core.composition.Compose at 0x7fc658e27430>,\n",
       " 'pitchshift-rir': <audiomentations.core.composition.Compose at 0x7fc658e27880>,\n",
       " 'gaussian-rir': <audiomentations.core.composition.Compose at 0x7fc658e272b0>,\n",
       " 'timestretch-pitchshift-gaussian': <audiomentations.core.composition.Compose at 0x7fc658e47970>,\n",
       " 'timestretch-pitchshift-rir': <audiomentations.core.composition.Compose at 0x7fc658e275b0>,\n",
       " 'timestretch-gaussian-rir': <audiomentations.core.composition.Compose at 0x7fc658e27340>,\n",
       " 'pitchshift-gaussian-rir': <audiomentations.core.composition.Compose at 0x7fc658e27160>,\n",
       " 'timestretch-pitchshift-gaussian-rir': <audiomentations.core.composition.Compose at 0x7fc65bee4190>}"
      ]
     },
     "execution_count": 28,
     "metadata": {},
     "output_type": "execute_result"
    }
   ],
   "source": [
    "combinations"
   ]
  },
  {
   "cell_type": "code",
   "execution_count": 29,
   "metadata": {},
   "outputs": [],
   "source": [
    "_DIR = \"/home/joregan/psst-data/psst-data-2022-03-02/train\"\n",
    "_TSV = \"/home/joregan/.psst/out/data/psst-fairseq/train.tsv\""
   ]
  },
  {
   "cell_type": "code",
   "execution_count": 30,
   "metadata": {},
   "outputs": [],
   "source": [
    "TIMITFILES = []\n",
    "with open(_TSV) as f:\n",
    "    for line in f.readlines():\n",
    "        if line.startswith(\"TEST/\") or line.startswith(\"TRAIN/\"):\n",
    "            parts = line.split(\"\\t\")\n",
    "            TIMITFILES.append(parts[0])"
   ]
  },
  {
   "cell_type": "code",
   "execution_count": 31,
   "metadata": {},
   "outputs": [],
   "source": [
    "from pathlib import Path\n",
    "_DIR_PATH = Path(_DIR)"
   ]
  },
  {
   "cell_type": "code",
   "execution_count": 32,
   "metadata": {},
   "outputs": [],
   "source": [
    "import soundfile as sf"
   ]
  },
  {
   "cell_type": "code",
   "execution_count": 33,
   "metadata": {},
   "outputs": [],
   "source": [
    "check = [a.replace(\"TRAIN/\", \"\").replace(\"TEST/\", \"\") for a in TIMITFILES]\n",
    "assert len(check) == len(set(check))"
   ]
  },
  {
   "cell_type": "code",
   "execution_count": 34,
   "metadata": {},
   "outputs": [],
   "source": [
    "all = {**augmentations, **combinations}"
   ]
  },
  {
   "cell_type": "code",
   "execution_count": 38,
   "metadata": {},
   "outputs": [],
   "source": [
    "_TSV_DIR = Path(\"/home/joregan/.psst/out/data/psst-fairseq/\")"
   ]
  },
  {
   "cell_type": "code",
   "execution_count": 40,
   "metadata": {},
   "outputs": [],
   "source": [
    "COMMON_PATH = \"/home/joregan/psst-data/psst-data-2022-03-02/train/\""
   ]
  },
  {
   "cell_type": "code",
   "execution_count": null,
   "metadata": {},
   "outputs": [],
   "source": [
    "for file in TIMITFILES:\n",
    "    if not (file.startswith(\"TRAIN/\") or file.startswith(\"TEST/\")):\n",
    "        continue\n",
    "    filepath = _DIR_PATH / file\n",
    "    filestr = str(filepath)\n",
    "    raw_audio, sr = sf.read(filestr)\n",
    "    orig_audio = np.array(raw_audio)\n",
    "    for aug in all.keys():\n",
    "        out_tsv = _TSV_DIR / f\"{str(aug)}.tsv\"\n",
    "        if \"/TRAIN/\" in filestr:\n",
    "            outfile = filestr.replace(\"/TRAIN/\", f\"/{aug}/\")\n",
    "        elif \"/TEST/\" in filestr:\n",
    "            outfile = filestr.replace(\"/TEST/\", f\"/{aug}/\")\n",
    "        else:\n",
    "            print(f\"Error reading file: {filestr}\")\n",
    "            continue\n",
    "        outpath = Path(outfile)\n",
    "        outpath.parent.mkdir(parents=True, exist_ok=True)\n",
    "        augmenter = all[aug]\n",
    "        try:\n",
    "            newaudio = augmenter(samples=orig_audio, sample_rate=sr)\n",
    "        except AttributeError:\n",
    "            raise AttributeError(\"Error with augmentation\", aug)\n",
    "        out_frames = len(newaudio)\n",
    "        writable_filestr = outfile.replace(COMMON_PATH, \"\")\n",
    "        with open(out_tsv, \"a\") as tsvf:\n",
    "            tsvf.write(f\"{writable_filestr}\\t{out_frames}\\n\")\n",
    "        sf.write(outfile, newaudio, sr)\n"
   ]
  },
  {
   "cell_type": "code",
   "execution_count": 41,
   "metadata": {},
   "outputs": [],
   "source": [
    "all_the_things = \"\"\"\n",
    "gaussian-rir\n",
    "gaussian\n",
    "pitchshift-gaussian-rir\n",
    "pitchshift-gaussian\n",
    "pitchshift-rir\n",
    "pitchshift\n",
    "rir\n",
    "timestretch-gaussian-rir\n",
    "timestretch-gaussian\n",
    "timestretch-pitchshift-gaussian-rir\n",
    "timestretch-pitchshift-gaussian\n",
    "timestretch-pitchshift-rir\n",
    "timestretch-pitchshift\n",
    "timestretch-rir\n",
    "timestretch\n",
    "\"\"\""
   ]
  }
 ],
 "metadata": {
  "interpreter": {
   "hash": "5aaff6959852088ba68e3b74670bab30a036b45e314ed2af36f9a8ccbd21216c"
  },
  "kernelspec": {
   "display_name": "Python 3.8.13 ('fs2')",
   "language": "python",
   "name": "python3"
  },
  "language_info": {
   "codemirror_mode": {
    "name": "ipython",
    "version": 3
   },
   "file_extension": ".py",
   "mimetype": "text/x-python",
   "name": "python",
   "nbconvert_exporter": "python",
   "pygments_lexer": "ipython3",
   "version": "3.8.13"
  },
  "orig_nbformat": 4
 },
 "nbformat": 4,
 "nbformat_minor": 2
}
