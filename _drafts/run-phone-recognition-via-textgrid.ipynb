{
 "cells": [
  {
   "cell_type": "code",
   "execution_count": 1,
   "metadata": {
    "tags": [
     "parameters"
    ]
   },
   "outputs": [],
   "source": [
    "textgrid_dir = \"/Users/joregan/Playing/hsi_ctmedit/textgrid\"\n",
    "wav_dir = \"/Users/joregan/Playing/hsi/audio/\""
   ]
  },
  {
   "cell_type": "code",
   "execution_count": 2,
   "metadata": {},
   "outputs": [],
   "source": [
    "from pydub import AudioSegment"
   ]
  },
  {
   "cell_type": "code",
   "execution_count": 3,
   "metadata": {},
   "outputs": [],
   "source": [
    "from pathlib import Path\n",
    "\n",
    "textgrid_path = Path(textgrid_dir)\n",
    "wav_path = Path(wav_dir)"
   ]
  },
  {
   "cell_type": "code",
   "execution_count": 4,
   "metadata": {},
   "outputs": [],
   "source": [
    "from praatio import textgrid"
   ]
  },
  {
   "cell_type": "code",
   "execution_count": 21,
   "metadata": {},
   "outputs": [],
   "source": [
    "import re\n",
    "\n",
    "def noise_event(text):\n",
    "    m = re.match(\"^\\[([^\\]]+)\\]$\", text)\n",
    "    return (m is not None)"
   ]
  },
  {
   "cell_type": "code",
   "execution_count": 5,
   "metadata": {},
   "outputs": [],
   "source": [
    "test_audio = AudioSegment.from_file(wav_path / \"hsi_6_0718_209_003_inter.wav\")"
   ]
  },
  {
   "cell_type": "code",
   "execution_count": 9,
   "metadata": {},
   "outputs": [],
   "source": [
    "red = test_audio.set_frame_rate(16000)"
   ]
  },
  {
   "cell_type": "code",
   "execution_count": 11,
   "metadata": {},
   "outputs": [],
   "source": [
    "tg = textgrid.openTextgrid(textgrid_path / \"hsi_7_0719_211_004_inter.TextGrid\", False)"
   ]
  },
  {
   "cell_type": "code",
   "execution_count": 18,
   "metadata": {},
   "outputs": [
    {
     "data": {
      "text/plain": [
       "(Interval(start=0.4819935034938646, end=4.070102841824428, label='Okay, so we can do the landlord stuff.'),\n",
       " Interval(start=5.8815966619896445, end=8.660968384458382, label='So yeah, thanks for renting me out this place.'),\n",
       " Interval(start=22.42615370788416, end=25.564154039703702, label=\"It's a bit small for me, I want a bigger apartment.\"),\n",
       " Interval(start=30.993257898679108, end=32.16505713264647, label='Yes of course.'),\n",
       " Interval(start=46.180879624851336, end=47.07745114822835, label='No.'),\n",
       " Interval(start=52.1457772986572, end=53.53120956350062, label='Ah I think it was like that before.'),\n",
       " Interval(start=57.247836407248656, end=57.58322056969709, label='[breath]'),\n",
       " Interval(start=62.23376541427553, end=63.41259093575271, label='Oh, poor panda.'),\n",
       " Interval(start=70.95091693069224, end=74.0212079176989, label='I think I can check on the bottles. I think that they were fine.'),\n",
       " Interval(start=81.48980057193138, end=81.82850536965158, label='Mhm.'),\n",
       " Interval(start=86.73756613033716, end=87.66734400643183, label='What? Anything else?'),\n",
       " Interval(start=94.44090364832921, end=99.75707293771013, label=\"I think that painting looks ah... no I think I moved it. I can s- s- switch it back. That's the only thing that changed.\"),\n",
       " Interval(start=107.74136781442486, end=107.94060593073087, label='Oh.'),\n",
       " Interval(start=108.80207220879748, end=110.93392005327169, label=\"But, yeah ah yeah, it's from IKEA, right?\"),\n",
       " Interval(start=126.857, end=130.58613061186804, label='I actually hired people, to clean it but then maybe that was not...'),\n",
       " Interval(start=133.6388311523344, end=137.39499625014744, label='Yeah, I think I should go back and... ahm talk to them'),\n",
       " Interval(start=137.75694549477, end=139.7952297835967, label='I think I will get another company.'),\n",
       " Interval(start=143.32048077318953, end=144.82472855129984, label='Yeah, I see your point.'),\n",
       " Interval(start=146.94885572210177, end=147.70596056406458, label='Yes, of course.'),\n",
       " Interval(start=155.885, end=157.94899829692017, label=\"No it's, it's not broken, I don't think so.\"),\n",
       " Interval(start=161.07547726197055, end=161.88119332331456, label=\"Ah, it's just my hair.\"),\n",
       " Interval(start=163.85656897637747, end=164.1341482525753, label='Yeah.'),\n",
       " Interval(start=164.1341482525753, end=164.5002482912876, label='[laugh]'),\n",
       " Interval(start=168.0768879055553, end=170.94321633993175, label=\"Yeah, but I have it just keeps falling now, it's sad.\"),\n",
       " Interval(start=170.94321633993175, end=171.28026082001605, label='[breath]'),\n",
       " Interval(start=176.91823838618103, end=177.8878638855369, label='Like hi- like this?'),\n",
       " Interval(start=178.24649249488772, end=179.46184500435433, label='[laughter]'),\n",
       " Interval(start=188.07759358525115, end=188.62198611093356, label='[I_think...]'),\n",
       " Interval(start=191.07489545397564, end=191.53435638025576, label=\"That's fine.\"),\n",
       " Interval(start=196.0200871379196, end=197.7779164554606, label='No, I think that that would be uh be good yeah.'),\n",
       " Interval(start=206.50914964466278, end=206.73495284314293, label='[smack]'),\n",
       " Interval(start=206.8267261243221, end=212.37521548402748, label=\"I put it in the kitchen, in the cupboards now just to be it was very beautiful, just to make sure that it's safe.\"),\n",
       " Interval(start=216.08043286047968, end=216.31453764713925, label='Mm.'),\n",
       " Interval(start=219.64798083459232, end=219.8671427625289, label='Mhm.'),\n",
       " Interval(start=220.3750629976706, end=220.76025668919553, label='Yes.'),\n",
       " Interval(start=225.43741668765858, end=225.70306750939992, label='Mhm.'),\n",
       " Interval(start=226.04666195240202, end=226.65267788949944, label='Yeah, of course.'),\n",
       " Interval(start=240.70195131939496, end=242.82715789332565, label=\"No, I know I don't drink i- I don't...\"),\n",
       " Interval(start=247.93425226388703, end=249.57132545286802, label=\"No, it's just drying with water.\"),\n",
       " Interval(start=249.6643032404775, end=250.4811795173321, label='I just cleaned it.'),\n",
       " Interval(start=251.21616877105268, end=252.23560379948506, label='So it it will be fine.'),\n",
       " Interval(start=253.54566520843645, end=253.80135412436246, label='Mhm.'),\n",
       " Interval(start=254.3459383089322, end=254.98017964583966, label='Yes, yes.'),\n",
       " Interval(start=258.41095545737386, end=261.9945396540024, label='Yeah the ah, the service people replaced it, two weeks ago.'),\n",
       " Interval(start=264.2988927518912, end=265.1489753814634, label=\"It's a new model.\"),\n",
       " Interval(start=269.62463893012136, end=272.37120580201577, label=\"Yeah, it's in the it's an email. Maybe you missed the email, then.\"),\n",
       " Interval(start=272.76356736952926, end=273.51071030567675, label='I sent an email.'),\n",
       " Interval(start=274.24125006546547, end=274.5135421577503, label='Mhm.'),\n",
       " Interval(start=291.1256242825634, end=292.9653648412467, label='[laughter]'),\n",
       " Interval(start=295.12904675129096, end=295.4943166311853, label='[laughter]'),\n",
       " Interval(start=295.4943166311853, end=296.09867225064687, label='Sorry.'),\n",
       " Interval(start=304.2018156109831, end=305.7392697418111, label='Yeah my key is there there sorry.'),\n",
       " Interval(start=306.003, end=307.7469574418524, label=\"I I'm just looking for the key- keys.\"),\n",
       " Interval(start=310.807, end=311.47000955852855, label='In the carpet?'),\n",
       " Interval(start=311.5379365765252, end=312.1754985487044, label='Ah.'),\n",
       " Interval(start=313.40888628310125, end=313.59318154068427, label='[smack]'),\n",
       " Interval(start=313.6529529755761, end=314.8600038968633, label=\"No that's not a mark it's just...\"),\n",
       " Interval(start=315.5182558805897, end=315.9532591011912, label='Water.'),\n",
       " Interval(start=331.96506906460166, end=332.5959897662373, label='OK. Yeah.'),\n",
       " Interval(start=332.983, end=333.7664770893583, label='I think that makes sense.'),\n",
       " Interval(start=335.19124841074137, end=335.5482167024563, label='Ah.'),\n",
       " Interval(start=335.88436706482133, end=336.767, label='Um,  see you tomorrow.'),\n",
       " Interval(start=339.40134282001065, end=340.69, label='Is it? Now it seems better, no?'))"
      ]
     },
     "execution_count": 18,
     "metadata": {},
     "output_type": "execute_result"
    }
   ],
   "source": [
    "# tg._tierDict[\"utterances\"].entries\n",
    "entries = {}\n",
    "\n",
    "tier = tg.getTier(\"utterances\")\n",
    "for entry in tier.entries:\n",
    "    text = entry.label\n",
    "\n",
    "    "
   ]
  },
  {
   "cell_type": "code",
   "execution_count": 20,
   "metadata": {},
   "outputs": [
    {
     "data": {
      "text/plain": [
       "<re.Match object; span=(0, 8), match='[breath]'>"
      ]
     },
     "execution_count": 20,
     "metadata": {},
     "output_type": "execute_result"
    }
   ],
   "source": [
    "import re\n",
    "re.match(\"^\\[([^\\]]+)\\]$\", \"[breath]\")"
   ]
  },
  {
   "cell_type": "code",
   "execution_count": 22,
   "metadata": {},
   "outputs": [
    {
     "data": {
      "text/plain": [
       "True"
      ]
     },
     "execution_count": 22,
     "metadata": {},
     "output_type": "execute_result"
    }
   ],
   "source": [
    "noise_event(\"[breath]\")"
   ]
  },
  {
   "cell_type": "code",
   "execution_count": 23,
   "metadata": {},
   "outputs": [
    {
     "data": {
      "text/plain": [
       "False"
      ]
     },
     "execution_count": 23,
     "metadata": {},
     "output_type": "execute_result"
    }
   ],
   "source": [
    "noise_event(\"breath\")"
   ]
  }
 ],
 "metadata": {
  "kernelspec": {
   "display_name": "hf",
   "language": "python",
   "name": "python3"
  },
  "language_info": {
   "codemirror_mode": {
    "name": "ipython",
    "version": 3
   },
   "file_extension": ".py",
   "mimetype": "text/x-python",
   "name": "python",
   "nbconvert_exporter": "python",
   "pygments_lexer": "ipython3",
   "version": "3.9.15"
  }
 },
 "nbformat": 4,
 "nbformat_minor": 2
}
