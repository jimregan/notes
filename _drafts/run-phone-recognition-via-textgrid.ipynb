{
 "cells": [
  {
   "cell_type": "code",
   "execution_count": 1,
   "metadata": {
    "tags": [
     "parameters"
    ]
   },
   "outputs": [],
   "source": [
    "textgrid_dir = \"/Users/joregan/Playing/hsi_ctmedit/textgrid\"\n",
    "wav_dir = \"/Users/joregan/Playing/hsi/audio/\""
   ]
  },
  {
   "cell_type": "code",
   "execution_count": 2,
   "metadata": {},
   "outputs": [],
   "source": [
    "from pydub import AudioSegment"
   ]
  },
  {
   "cell_type": "code",
   "execution_count": 3,
   "metadata": {},
   "outputs": [],
   "source": [
    "from pathlib import Path\n",
    "\n",
    "textgrid_path = Path(textgrid_dir)\n",
    "wav_path = Path(wav_dir)"
   ]
  },
  {
   "cell_type": "code",
   "execution_count": 4,
   "metadata": {},
   "outputs": [],
   "source": [
    "from praatio import textgrid"
   ]
  },
  {
   "cell_type": "code",
   "execution_count": 21,
   "metadata": {},
   "outputs": [],
   "source": [
    "import re\n",
    "\n",
    "def noise_event(text):\n",
    "    m = re.match(\"^\\[([^\\]]+)\\]$\", text)\n",
    "    return (m is not None)"
   ]
  },
  {
   "cell_type": "code",
   "execution_count": 26,
   "metadata": {},
   "outputs": [],
   "source": [
    "def get_tier_entries(textgrid, tiername=\"utterances\"):\n",
    "    entries = []\n",
    "\n",
    "    tier = textgrid.getTier(tiername)\n",
    "    for entry in tier.entries:\n",
    "        text = entry.label\n",
    "        if text.strip() == \"\":\n",
    "            continue\n",
    "        if not noise_event(text.strip()):\n",
    "            entries.append({\n",
    "                \"start\": entry.start,\n",
    "                \"end\": entry.end,\n",
    "                \"text\": entry.label\n",
    "            })\n",
    "    return entries"
   ]
  },
  {
   "cell_type": "code",
   "execution_count": 33,
   "metadata": {},
   "outputs": [],
   "source": [
    "def run_espeak(text):\n",
    "    phon = !echo \"{text}\" | espeak -v en-us --ipa -q\n",
    "    return (\" \".join(phon)).strip()"
   ]
  },
  {
   "cell_type": "code",
   "execution_count": 29,
   "metadata": {},
   "outputs": [],
   "source": [
    "def espeakify_entries(entries):\n",
    "    for entry in entries:\n",
    "        entry[\"espeak\"] = run_espeak(entry[\"text\"])"
   ]
  },
  {
   "cell_type": "code",
   "execution_count": null,
   "metadata": {},
   "outputs": [],
   "source": [
    "for tgfile in textgrid_path.glob(\"*.[Tt]ext[Gg]rid\"):\n",
    "    wavname = f\"{tgfile.stem}.wav\"\n",
    "    audio = AudioSegment.from_file(wav_path / wavname)\n",
    "    resampled = audio.set_frame_rate(16000)\n",
    "    # del(audio)\n",
    "    tg = textgrid.openTextgrid(tgfile, False)\n",
    "\n"
   ]
  }
 ],
 "metadata": {
  "kernelspec": {
   "display_name": "hf",
   "language": "python",
   "name": "python3"
  },
  "language_info": {
   "codemirror_mode": {
    "name": "ipython",
    "version": 3
   },
   "file_extension": ".py",
   "mimetype": "text/x-python",
   "name": "python",
   "nbconvert_exporter": "python",
   "pygments_lexer": "ipython3",
   "version": "3.9.15"
  }
 },
 "nbformat": 4,
 "nbformat_minor": 2
}
