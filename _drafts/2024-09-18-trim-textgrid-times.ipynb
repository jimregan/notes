{
 "cells": [
  {
   "cell_type": "code",
   "execution_count": 21,
   "metadata": {
    "tags": [
     "parameters"
    ]
   },
   "outputs": [],
   "source": [
    "textgrid_dir = \"/Users/joregan/Playing/textgrids_shared\"\n",
    "timecode_dir = \"/Users/joregan/timecode_cut\"\n",
    "output_dir = \"/tmp/textgrid_cut\""
   ]
  },
  {
   "cell_type": "code",
   "execution_count": 22,
   "metadata": {},
   "outputs": [],
   "source": [
    "from pathlib import Path\n",
    "\n",
    "textgrid_path = Path(textgrid_dir)\n",
    "timecode_path = Path(timecode_dir)\n",
    "output_path = Path(output_dir)"
   ]
  },
  {
   "cell_type": "code",
   "execution_count": 23,
   "metadata": {},
   "outputs": [],
   "source": [
    "def get_timecode_offsets(filename):\n",
    "    if type(filename) == Path:\n",
    "        filename = str(filename)\n",
    "\n",
    "    with open(filename) as inf:\n",
    "        lines = [l.strip() for l in inf.readlines()]\n",
    "        assert lines[0] == \",Frame,Time (Seconds),TimeCode\", f\"CSV file ({filename}) seems to be incorrect\"\n",
    "        p_start = lines[1].split(\",\")\n",
    "        start = float(p_start[2])\n",
    "        p_end = lines[-1].split(\",\")\n",
    "        end = float(p_end[2])\n",
    "        return start, end"
   ]
  },
  {
   "cell_type": "code",
   "execution_count": 27,
   "metadata": {},
   "outputs": [],
   "source": [
    "from praatio import textgrid\n",
    "from praatio.utilities.constants import Interval\n",
    "\n",
    "def modify_textgrid(filename, start, end, output=None):\n",
    "    if type(filename) == Path:\n",
    "        filename = str(filename)\n",
    "    if not output:\n",
    "        output = filename\n",
    "    elif type(output) == Path:\n",
    "        output = str(output)\n",
    "\n",
    "    tg = textgrid.openTextgrid(filename, True)\n",
    "    new_tg = textgrid.Textgrid()\n",
    "    for tiername in tg.tierNames:\n",
    "        tier = tg.getTier(tiername)\n",
    "        new_entries = []\n",
    "        for entry in tier.entries:\n",
    "            if entry[0] < start and entry[1] < start:\n",
    "                continue\n",
    "            elif entry[0] > end and entry[1] > end:\n",
    "                continue\n",
    "            elif entry[0] <= start and entry[1] > start:\n",
    "                if entry[2] != \"\":\n",
    "                    print(\"Warning: truncating entry\", filename, entry)\n",
    "                if new_entries == []:\n",
    "                    new_entries.append(Interval(0.0, entry[1] - start, entry[2]))\n",
    "                else:\n",
    "                    print(\"Shouldn't have existing entries!!\", entry)\n",
    "                    new_entries.append(Interval(entry[0] - start, entry[1] - start, entry[2]))\n",
    "            elif entry[0] >= start and entry[1] <= end:\n",
    "                new_entries.append(Interval(entry[0] - start, entry[1] - start, entry[2]))\n",
    "            elif entry[0] <= end and entry[1] > end:\n",
    "                if entry[2] != \"\":\n",
    "                    print(\"Warning: truncating entry\", filename, entry)\n",
    "                new_entries.append(Interval(entry[0] - start, entry[1] - start, entry[2]))\n",
    "            else:\n",
    "                print(\"There should be no default case\", entry)\n",
    "        tier_start = new_entries[0][0]\n",
    "        tier_end = new_entries[-1][1]\n",
    "        new_tier = textgrid.IntervalTier(tiername, new_entries, tier_start, tier_end)\n",
    "        new_tg.addTier(new_tier)\n",
    "    tg.save(output, format=\"long_textgrid\", includeBlankSpaces=True)"
   ]
  },
  {
   "cell_type": "code",
   "execution_count": 28,
   "metadata": {},
   "outputs": [
    {
     "name": "stdout",
     "output_type": "stream",
     "text": [
      "Warning: truncating entry /Users/joregan/Playing/textgrids_shared/hsi_7_0719_222_002_main.TextGrid Interval(start=16.8636, end=17.4336, label='yes')\n",
      "Warning: truncating entry /Users/joregan/Playing/textgrids_shared/hsi_7_0719_222_002_main.TextGrid Interval(start=17.2136, end=17.4336, label='S')\n",
      "Warning: truncating entry /Users/joregan/Playing/textgrids_shared/hsi_7_0719_222_002_main.TextGrid Interval(start=16.7036, end=19.5846, label='Oh, yes, you know, it was really expensive property.')\n",
      "Warning: truncating entry /Users/joregan/Playing/textgrids_shared/hsi_7_0719_227_002_inter.TextGrid Interval(start=23.002, end=25.6718, label=\"Ok, that's a very nice apartment you have here.\")\n",
      "Warning: truncating entry /Users/joregan/Playing/textgrids_shared/hsi_5_0718_209_001_main.TextGrid Interval(start=25.5632, end=26.0332, label='yes')\n",
      "Warning: truncating entry /Users/joregan/Playing/textgrids_shared/hsi_5_0718_209_001_main.TextGrid Interval(start=25.8132, end=26.0332, label='S')\n",
      "Warning: truncating entry /Users/joregan/Playing/textgrids_shared/hsi_5_0718_209_001_main.TextGrid Interval(start=25.5332, end=26.1542, label='Yes.')\n",
      "Warning: truncating entry /Users/joregan/Playing/textgrids_shared/hsi_7_0719_227_002_main.TextGrid Interval(start=785.9736, end=786.4836, label='yes')\n",
      "Warning: truncating entry /Users/joregan/Playing/textgrids_shared/hsi_7_0719_227_002_main.TextGrid Interval(start=786.2436, end=786.4836, label='S')\n",
      "Warning: truncating entry /Users/joregan/Playing/textgrids_shared/hsi_7_0719_227_002_main.TextGrid Interval(start=785.9436, end=786.5205, label='Yes.')\n",
      "Maximum timestamp in Textgrid changed from (762.8836) to (762.9205)\n",
      "Warning: truncating entry /Users/joregan/Playing/textgrids_shared/hsi_3_0715_227_003_main.TextGrid Interval(start=364.524, end=365.104, label='cloth')\n",
      "Warning: truncating entry /Users/joregan/Playing/textgrids_shared/hsi_3_0715_227_003_main.TextGrid Interval(start=364.904, end=365.104, label='TH')\n",
      "Warning: truncating entry /Users/joregan/Playing/textgrids_shared/hsi_3_0715_227_003_main.TextGrid Interval(start=363.444, end=365.1383, label='yeah the dry cloth')\n",
      "Maximum timestamp in Textgrid changed from (342.37899999999996) to (342.4133)\n",
      "Warning: truncating entry /Users/joregan/Playing/textgrids_shared/hsi_7_0719_227_003_inter.TextGrid Interval(start=12.6956, end=13.9728, label='[laughter]')\n",
      "Warning: truncating entry /Users/joregan/Playing/textgrids_shared/hsi_7_0719_210_001_main.TextGrid Interval(start=351.8989, end=352.1189, label='really')\n",
      "Warning: truncating entry /Users/joregan/Playing/textgrids_shared/hsi_7_0719_210_001_main.TextGrid Interval(start=351.9589, end=352.0889, label='L')\n",
      "Warning: truncating entry /Users/joregan/Playing/textgrids_shared/hsi_7_0719_210_001_main.TextGrid Interval(start=338.0789, end=352.4283, label=\"sometimes when I am reading and I feel that I don't have that much light [smack] I just turn that on. But uh otherwise I just keep this setup here with the small lamp and the chair and I just read something have a glass of wine or something that's really nice.\")\n",
      "Maximum timestamp in Textgrid changed from (326.3109) to (326.6203)\n",
      "Warning: truncating entry /Users/joregan/Playing/textgrids_shared/hsi_6_0718_209_001_inter.TextGrid Interval(start=49.3559, end=52.9357, label=\"So yeah. Hi. It's like it looks like a very nice place you have here.\")\n",
      "Warning: truncating entry /Users/joregan/Playing/textgrids_shared/hsi_7_0719_222_002_inter.TextGrid Interval(start=492.1993, end=492.533, label='Okay.')\n",
      "Warning: truncating entry /Users/joregan/Playing/textgrids_shared/hsi_7_0719_211_002_main.TextGrid Interval(start=12.2553, end=13.0253, label='yeah')\n",
      "Warning: truncating entry /Users/joregan/Playing/textgrids_shared/hsi_7_0719_211_002_main.TextGrid Interval(start=12.2553, end=12.4853, label='Y')\n",
      "Warning: truncating entry /Users/joregan/Playing/textgrids_shared/hsi_7_0719_211_002_main.TextGrid Interval(start=12.2153, end=15.154, label='Yeah, the location is amazing.')\n",
      "Warning: truncating entry /Users/joregan/Playing/textgrids_shared/hsi_7_0719_209_001_inter.TextGrid Interval(start=419.0666, end=419.2966, label='yeah')\n",
      "Warning: truncating entry /Users/joregan/Playing/textgrids_shared/hsi_7_0719_209_001_inter.TextGrid Interval(start=419.0966, end=419.2966, label='AE1')\n",
      "Warning: truncating entry /Users/joregan/Playing/textgrids_shared/hsi_7_0719_209_001_inter.TextGrid Interval(start=417.9366, end=421.153, label='Okay, but yeah, yeah good luck with your new apartment.')\n",
      "Maximum timestamp in Textgrid changed from (400.8546) to (402.711)\n",
      "Warning: truncating entry /Users/joregan/Playing/textgrids_shared/hsi_7_0719_222_004_inter.TextGrid Interval(start=526.6572, end=526.9472, label='mm')\n",
      "Warning: truncating entry /Users/joregan/Playing/textgrids_shared/hsi_7_0719_222_004_inter.TextGrid Interval(start=526.6572, end=526.9472, label='M')\n",
      "Warning: truncating entry /Users/joregan/Playing/textgrids_shared/hsi_7_0719_222_004_inter.TextGrid Interval(start=526.6572, end=526.976, label='Mm.')\n",
      "Maximum timestamp in Textgrid changed from (510.08019999999993) to (510.109)\n",
      "No timecode for /Users/joregan/Playing/textgrids_shared/hsi_7_0719_209_002_main.TextGrid\n",
      "Warning: truncating entry /Users/joregan/Playing/textgrids_shared/hsi_7_0719_210_002_main.TextGrid Interval(start=26.6766, end=31.4251, label='Yeah, I mean, I think uh you can give you some, you can give it some personal touches.')\n",
      "Warning: truncating entry /Users/joregan/Playing/textgrids_shared/hsi_5_0718_227_001_main.TextGrid Interval(start=80.3311, end=80.9161, label='[sniff]')\n",
      "Warning: truncating entry /Users/joregan/Playing/textgrids_shared/hsi_7_0719_210_002_inter.TextGrid Interval(start=316.3403, end=316.6525, label='[laughter]')\n",
      "Maximum timestamp in Textgrid changed from (289.7103) to (289.9525)\n",
      "Warning: truncating entry /Users/joregan/Playing/textgrids_shared/hsi_7_0719_209_003_main.TextGrid Interval(start=14.124, end=14.9584, label='[breath]')\n",
      "Warning: truncating entry /Users/joregan/Playing/textgrids_shared/hsi_7_0719_211_004_main.TextGrid Interval(start=8.8791, end=9.0691, label='yeah')\n",
      "Warning: truncating entry /Users/joregan/Playing/textgrids_shared/hsi_7_0719_211_004_main.TextGrid Interval(start=8.8791, end=9.0291, label='Y')\n",
      "Warning: truncating entry /Users/joregan/Playing/textgrids_shared/hsi_7_0719_211_004_main.TextGrid Interval(start=8.8491, end=18.6244, label=\"Yeah, I mean, you have uh had a short stay here, but uh w- why would you like to leave? I mean, I I don't understand it. Everything is... so nice in this apartment.\")\n",
      "Warning: truncating entry /Users/joregan/Playing/textgrids_shared/hsi_7_0719_210_003_inter.TextGrid Interval(start=13.8681, end=14.333, label='So.')\n",
      "Warning: truncating entry /Users/joregan/Playing/textgrids_shared/hsi_7_0719_222_004_main.TextGrid Interval(start=518.185, end=531.308, label='But maybe maybe if you if you put a small table, like two small tables next, I mean, i- on both sides of the fireplace, then maybe you can put them and then they will have this beige... Eh, it went off.')\n",
      "Maximum timestamp in Textgrid changed from (510.16799999999995) to (514.441)\n"
     ]
    }
   ],
   "source": [
    "if not output_path.is_dir():\n",
    "    output_path.mkdir()\n",
    "\n",
    "for tgfile in textgrid_path.glob(\"*.[Tt]ext[Gg]rid\"):\n",
    "    base_stem = tgfile.stem\n",
    "    stem = base_stem\n",
    "    if \"_inter\" in stem:\n",
    "        stem = stem.replace(\"_inter\", \"\")\n",
    "    else:\n",
    "        stem = stem.replace(\"_main\", \"\")\n",
    "\n",
    "    csv_file = timecode_path / f\"{stem}.csv\"\n",
    "\n",
    "    if not csv_file.exists():\n",
    "        print(\"No timecode for\", tgfile)\n",
    "        continue\n",
    "\n",
    "    start, end = get_timecode_offsets(csv_file)\n",
    "    output_file = output_path / f\"{base_stem}.TextGrid\"\n",
    "    modify_textgrid(tgfile, start, end, output_file)\n"
   ]
  }
 ],
 "metadata": {
  "kernelspec": {
   "display_name": "nst-tts",
   "language": "python",
   "name": "python3"
  },
  "language_info": {
   "codemirror_mode": {
    "name": "ipython",
    "version": 3
   },
   "file_extension": ".py",
   "mimetype": "text/x-python",
   "name": "python",
   "nbconvert_exporter": "python",
   "pygments_lexer": "ipython3",
   "version": "3.10.9"
  }
 },
 "nbformat": 4,
 "nbformat_minor": 2
}
