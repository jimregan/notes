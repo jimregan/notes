{
 "cells": [
  {
   "cell_type": "code",
   "execution_count": 1,
   "metadata": {
    "tags": [
     "parameters"
    ]
   },
   "outputs": [],
   "source": [
    "textgrid_dir = \"/Users/joregan/Playing/textgrids_shared\"\n",
    "timecode_dir = \"/Users/joregan/timecode_cut\""
   ]
  },
  {
   "cell_type": "code",
   "execution_count": 2,
   "metadata": {},
   "outputs": [],
   "source": [
    "from pathlib import Path\n",
    "\n",
    "textgrid_path = Path(textgrid_dir)\n",
    "timecode_path = Path(timecode_dir)"
   ]
  },
  {
   "cell_type": "code",
   "execution_count": 3,
   "metadata": {},
   "outputs": [],
   "source": [
    "def get_timecode_offsets(filename):\n",
    "    if type(filename) == Path:\n",
    "        filename = str(filename)\n",
    "\n",
    "    with open(filename) as inf:\n",
    "        lines = [l.strip() for l in inf.readlines()]\n",
    "        assert lines[0] == \",Frame,Time (Seconds),TimeCode\", f\"CSV file ({filename}) seems to be incorrect\"\n",
    "        p_start = lines[1].split(\",\")\n",
    "        start = float(p_start[2])\n",
    "        p_end = lines[-1].split(\",\")\n",
    "        end = float(p_end[2])\n",
    "        return start, end"
   ]
  },
  {
   "cell_type": "code",
   "execution_count": 18,
   "metadata": {},
   "outputs": [],
   "source": [
    "from praatio import textgrid\n",
    "from praatio.utilities.constants import Interval\n",
    "\n",
    "def modify_textgrid(filename, start, end, output=None):\n",
    "    if type(filename) == Path:\n",
    "        filename = str(filename)\n",
    "    if not output:\n",
    "        output = filename\n",
    "    tg = textgrid.openTextgrid(filename, True)\n",
    "    new_tg = textgrid.Textgrid()\n",
    "    for tiername in tg.tierNames:\n",
    "        tier = tg.getTier(tiername)\n",
    "        new_entries = []\n",
    "        for entry in tier.entries:\n",
    "            if entry[0] < start and entry[1] < start:\n",
    "                continue\n",
    "            elif entry[0] > end and entry[1] > end:\n",
    "                continue\n",
    "            elif entry[0] <= start and entry[1] > start:\n",
    "                if entry[2] != \"\":\n",
    "                    print(\"Warning: truncating entry\", entry)\n",
    "                if new_entries == []:\n",
    "                    new_entries.append(Interval(0.0, entry[1] - start, entry[2]))\n",
    "                else:\n",
    "                    print(\"Shouldn't have existing entries!!\", entry)\n",
    "                    new_entries.append(Interval(entry[0] - start, entry[1] - start, entry[2]))\n",
    "            elif entry[0] >= start and entry[1] <= end:\n",
    "                new_entries.append(Interval(entry[0] - start, entry[1] - start, entry[2]))\n",
    "            elif entry[0] <= end and entry[1] > end:\n",
    "                if entry[2] != \"\":\n",
    "                    print(\"Warning: truncating entry\", entry)\n",
    "                new_entries.append(Interval(entry[0] - start, entry[1] - start, entry[2]))\n",
    "            else:\n",
    "                print(\"There should be no default case\", entry)\n",
    "        tier_start = new_entries[0][0]\n",
    "        tier_end = new_entries[-1][1]\n",
    "        new_tier = textgrid.IntervalTier(tiername, new_entries, tier_start, tier_end)\n",
    "        new_tg.addTier(new_tier)\n",
    "    tg.save(output, format=\"long_textgrid\", includeBlankSpaces=True)"
   ]
  },
  {
   "cell_type": "code",
   "execution_count": 11,
   "metadata": {},
   "outputs": [],
   "source": [
    "tmp = textgrid.openTextgrid(\"/Users/joregan/Playing/textgrids_shared/hsi_6_0718_211_001_main.TextGrid\", True)"
   ]
  },
  {
   "cell_type": "code",
   "execution_count": 14,
   "metadata": {},
   "outputs": [
    {
     "data": {
      "text/plain": [
       "(13.283, 398.042)"
      ]
     },
     "execution_count": 14,
     "metadata": {},
     "output_type": "execute_result"
    }
   ],
   "source": [
    "get_timecode_offsets(\"/Users/joregan/timecode_cut/hsi_6_0718_211_001.csv\")"
   ]
  },
  {
   "cell_type": "code",
   "execution_count": 19,
   "metadata": {},
   "outputs": [],
   "source": [
    "modify_textgrid(\"/Users/joregan/Playing/textgrids_shared/hsi_6_0718_211_001_main.TextGrid\", 13.283, 398.042, \"/tmp/test.TextGrid\")"
   ]
  }
 ],
 "metadata": {
  "kernelspec": {
   "display_name": "nst-tts",
   "language": "python",
   "name": "python3"
  },
  "language_info": {
   "codemirror_mode": {
    "name": "ipython",
    "version": 3
   },
   "file_extension": ".py",
   "mimetype": "text/x-python",
   "name": "python",
   "nbconvert_exporter": "python",
   "pygments_lexer": "ipython3",
   "version": "3.10.9"
  }
 },
 "nbformat": 4,
 "nbformat_minor": 2
}
