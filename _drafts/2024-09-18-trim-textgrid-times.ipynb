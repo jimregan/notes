{
 "cells": [
  {
   "cell_type": "code",
   "execution_count": 21,
   "metadata": {
    "tags": [
     "parameters"
    ]
   },
   "outputs": [],
   "source": [
    "textgrid_dir = \"/Users/joregan/Playing/textgrids_shared\"\n",
    "timecode_dir = \"/Users/joregan/timecode_cut\"\n",
    "output_dir = \"/tmp/textgrid_cut\""
   ]
  },
  {
   "cell_type": "code",
   "execution_count": 22,
   "metadata": {},
   "outputs": [],
   "source": [
    "from pathlib import Path\n",
    "\n",
    "textgrid_path = Path(textgrid_dir)\n",
    "timecode_path = Path(timecode_dir)\n",
    "output_path = Path(output_dir)"
   ]
  },
  {
   "cell_type": "code",
   "execution_count": 23,
   "metadata": {},
   "outputs": [],
   "source": [
    "def get_timecode_offsets(filename):\n",
    "    if type(filename) == Path:\n",
    "        filename = str(filename)\n",
    "\n",
    "    with open(filename) as inf:\n",
    "        lines = [l.strip() for l in inf.readlines()]\n",
    "        assert lines[0] == \",Frame,Time (Seconds),TimeCode\", f\"CSV file ({filename}) seems to be incorrect\"\n",
    "        p_start = lines[1].split(\",\")\n",
    "        start = float(p_start[2])\n",
    "        p_end = lines[-1].split(\",\")\n",
    "        end = float(p_end[2])\n",
    "        return start, end"
   ]
  },
  {
   "cell_type": "code",
   "execution_count": 40,
   "metadata": {},
   "outputs": [],
   "source": [
    "from praatio import textgrid\n",
    "from praatio.utilities.constants import Interval\n",
    "\n",
    "def modify_textgrid(filename, start, end, output=None):\n",
    "    if type(filename) == Path:\n",
    "        filename = str(filename)\n",
    "    if not output:\n",
    "        output = filename\n",
    "    elif type(output) == Path:\n",
    "        output = str(output)\n",
    "\n",
    "    tg = textgrid.openTextgrid(filename, True)\n",
    "    new_tg = textgrid.Textgrid()\n",
    "    for tiername in tg.tierNames:\n",
    "        tier = tg.getTier(tiername)\n",
    "        new_entries = []\n",
    "        for entry in tier.entries:\n",
    "            e_start = entry[0]\n",
    "            e_end = entry[1]\n",
    "            e_text = entry[2]\n",
    "\n",
    "            new_start = e_start - start\n",
    "            new_end = e_end - start\n",
    "\n",
    "            if new_end < 0.0:\n",
    "                continue\n",
    "            elif e_start >= end and e_end > end:\n",
    "                continue\n",
    "            elif new_start < 0.0 and new_end > 0.0:\n",
    "                if e_text != \"\":\n",
    "                    print(\"Warning: truncating entry\", filename, tiername, entry)\n",
    "                if new_entries == []:\n",
    "                    new_entries.append(Interval(0.0, new_end, e_text))\n",
    "                else:\n",
    "                    print(\"Shouldn't have existing entries!!\", entry)\n",
    "                    new_entries.append(Interval(0.0, new_end, e_text))\n",
    "            elif e_start >= start and e_end <= end:\n",
    "                new_entries.append(Interval(new_start, new_end, e_text))\n",
    "            elif e_start <= end and e_end > end:\n",
    "                if e_text != \"\":\n",
    "                    print(\"Warning: truncating entry\", filename, tiername, entry)\n",
    "                new_entries.append(Interval(new_start, new_end, e_text))\n",
    "            else:\n",
    "                print(\"There should be no default case\", entry)\n",
    "\n",
    "        tier_start = new_entries[0][0]\n",
    "        tier_end = new_entries[-1][1]\n",
    "        new_tier = textgrid.IntervalTier(tiername, new_entries, tier_start, tier_end)\n",
    "        new_tg.addTier(new_tier)\n",
    "\n",
    "    new_tg.save(output, format=\"long_textgrid\", includeBlankSpaces=True)"
   ]
  }
 ],
 "metadata": {
  "kernelspec": {
   "display_name": "nst-tts",
   "language": "python",
   "name": "python3"
  },
  "language_info": {
   "codemirror_mode": {
    "name": "ipython",
    "version": 3
   },
   "file_extension": ".py",
   "mimetype": "text/x-python",
   "name": "python",
   "nbconvert_exporter": "python",
   "pygments_lexer": "ipython3",
   "version": "3.10.9"
  }
 },
 "nbformat": 4,
 "nbformat_minor": 2
}
