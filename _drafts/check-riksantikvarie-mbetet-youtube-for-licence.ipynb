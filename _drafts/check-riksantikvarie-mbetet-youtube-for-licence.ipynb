{
 "cells": [
  {
   "cell_type": "code",
   "execution_count": 1,
   "id": "41fb42c8",
   "metadata": {
    "_cell_guid": "b1076dfc-b9ad-4769-8c92-a6c4dae69d19",
    "_uuid": "8f2839f25d086af736a60e9eeb907d3b93b6e0e5",
    "execution": {
     "iopub.execute_input": "2021-09-22T23:43:41.222708Z",
     "iopub.status.busy": "2021-09-22T23:43:41.220876Z",
     "iopub.status.idle": "2021-09-22T23:43:53.360465Z",
     "shell.execute_reply": "2021-09-22T23:43:53.361076Z",
     "shell.execute_reply.started": "2021-09-21T10:06:08.19289Z"
    },
    "papermill": {
     "duration": 12.154792,
     "end_time": "2021-09-22T23:43:53.361440",
     "exception": false,
     "start_time": "2021-09-22T23:43:41.206648",
     "status": "completed"
    },
    "tags": []
   },
   "outputs": [],
   "source": [
    "%%capture\n",
    "!pip install youtube-dl"
   ]
  },
  {
   "cell_type": "code",
   "execution_count": 2,
   "id": "2de14c38",
   "metadata": {
    "execution": {
     "iopub.execute_input": "2021-09-22T23:43:53.390309Z",
     "iopub.status.busy": "2021-09-22T23:43:53.389653Z",
     "iopub.status.idle": "2021-09-22T23:43:55.773771Z",
     "shell.execute_reply": "2021-09-22T23:43:55.773224Z",
     "shell.execute_reply.started": "2021-09-21T10:11:13.347854Z"
    },
    "papermill": {
     "duration": 2.402949,
     "end_time": "2021-09-22T23:43:55.773919",
     "exception": false,
     "start_time": "2021-09-22T23:43:53.370970",
     "status": "completed"
    },
    "tags": []
   },
   "outputs": [],
   "source": [
    "!youtube-dl -j --flat-playlist \"https://www.youtube.com/c/heritageboard/playlists?view=1&sort=dd&shelf_id=0\" > pl.json"
   ]
  },
  {
   "cell_type": "code",
   "execution_count": 3,
   "id": "9d4d8484",
   "metadata": {
    "execution": {
     "iopub.execute_input": "2021-09-22T23:43:55.800495Z",
     "iopub.status.busy": "2021-09-22T23:43:55.799329Z",
     "iopub.status.idle": "2021-09-22T23:44:52.839555Z",
     "shell.execute_reply": "2021-09-22T23:44:52.838976Z",
     "shell.execute_reply.started": "2021-09-21T10:14:02.137158Z"
    },
    "papermill": {
     "duration": 57.057879,
     "end_time": "2021-09-22T23:44:52.839725",
     "exception": false,
     "start_time": "2021-09-22T23:43:55.781846",
     "status": "completed"
    },
    "tags": []
   },
   "outputs": [],
   "source": [
    "!cat pl.json | awk -F'\"url\": \"' '{print $2}'|awk -F'\"' '{print $1}' | while read i;do youtube-dl -j --flat-playlist $i >> pl_videos.json || echo $i >> retry;done"
   ]
  },
  {
   "cell_type": "code",
   "execution_count": 4,
   "id": "21ba7c33",
   "metadata": {
    "execution": {
     "iopub.execute_input": "2021-09-22T23:44:52.865277Z",
     "iopub.status.busy": "2021-09-22T23:44:52.864094Z",
     "iopub.status.idle": "2021-09-22T23:44:58.371349Z",
     "shell.execute_reply": "2021-09-22T23:44:58.370722Z",
     "shell.execute_reply.started": "2021-09-21T10:15:13.122956Z"
    },
    "papermill": {
     "duration": 5.524286,
     "end_time": "2021-09-22T23:44:58.371526",
     "exception": false,
     "start_time": "2021-09-22T23:44:52.847240",
     "status": "completed"
    },
    "tags": []
   },
   "outputs": [],
   "source": [
    "!youtube-dl -j --flat-playlist \"https://www.youtube.com/c/heritageboard/videos?view=0&sort=dd&shelf_id=0\" > uploads.json"
   ]
  },
  {
   "cell_type": "code",
   "execution_count": 5,
   "id": "beced945",
   "metadata": {
    "execution": {
     "iopub.execute_input": "2021-09-22T23:44:58.394937Z",
     "iopub.status.busy": "2021-09-22T23:44:58.393978Z",
     "iopub.status.idle": "2021-09-22T23:44:58.397202Z",
     "shell.execute_reply": "2021-09-22T23:44:58.396509Z"
    },
    "papermill": {
     "duration": 0.01771,
     "end_time": "2021-09-22T23:44:58.397364",
     "exception": false,
     "start_time": "2021-09-22T23:44:58.379654",
     "status": "completed"
    },
    "tags": []
   },
   "outputs": [],
   "source": [
    "import json\n",
    "import requests\n",
    "cc_by = []\n",
    "other = []\n",
    "retry = []\n",
    "seen = []"
   ]
  },
  {
   "cell_type": "code",
   "execution_count": 6,
   "id": "ed5d4f99",
   "metadata": {
    "execution": {
     "iopub.execute_input": "2021-09-22T23:44:58.422147Z",
     "iopub.status.busy": "2021-09-22T23:44:58.421254Z",
     "iopub.status.idle": "2021-09-22T23:44:58.424266Z",
     "shell.execute_reply": "2021-09-22T23:44:58.423750Z"
    },
    "papermill": {
     "duration": 0.018649,
     "end_time": "2021-09-22T23:44:58.424430",
     "exception": false,
     "start_time": "2021-09-22T23:44:58.405781",
     "status": "completed"
    },
    "tags": []
   },
   "outputs": [],
   "source": [
    "lic = '\"Creative Commons Attribution licence (reuse allowed)\"'\n",
    "def inner(cur_id):\n",
    "    if cur_id in seen:\n",
    "        return\n",
    "    req = requests.get(f\"https://www.youtube.com/watch?v={cur_id}\")\n",
    "    if req.status_code != 200:\n",
    "        retry.append(cur_id)\n",
    "    if lic in req.text:\n",
    "        cc_by.append(cur_id)\n",
    "    else:\n",
    "        other.append(cur_id)\n",
    "    seen.append(cur_id)"
   ]
  },
  {
   "cell_type": "code",
   "execution_count": 7,
   "id": "536a4979",
   "metadata": {
    "execution": {
     "iopub.execute_input": "2021-09-22T23:44:58.448529Z",
     "iopub.status.busy": "2021-09-22T23:44:58.447740Z",
     "iopub.status.idle": "2021-09-22T23:48:52.605482Z",
     "shell.execute_reply": "2021-09-22T23:48:52.606262Z",
     "shell.execute_reply.started": "2021-09-21T10:30:31.954847Z"
    },
    "papermill": {
     "duration": 234.173675,
     "end_time": "2021-09-22T23:48:52.606482",
     "exception": false,
     "start_time": "2021-09-22T23:44:58.432807",
     "status": "completed"
    },
    "tags": []
   },
   "outputs": [],
   "source": [
    "with open(\"pl_videos.json\") as pl_videos:\n",
    "    for line in pl_videos.readlines():\n",
    "        line_data = json.loads(line.strip())\n",
    "        inner(line_data['id'])\n",
    "with open(\"uploads.json\") as pl_videos:\n",
    "    for line in pl_videos.readlines():\n",
    "        line_data = json.loads(line.strip())\n",
    "        inner(line_data['id'])\n"
   ]
  },
  {
   "cell_type": "code",
   "execution_count": 8,
   "id": "3de71d4f",
   "metadata": {
    "execution": {
     "iopub.execute_input": "2021-09-22T23:48:52.627250Z",
     "iopub.status.busy": "2021-09-22T23:48:52.626213Z",
     "iopub.status.idle": "2021-09-22T23:48:52.632459Z",
     "shell.execute_reply": "2021-09-22T23:48:52.631932Z",
     "shell.execute_reply.started": "2021-09-21T10:47:48.607989Z"
    },
    "papermill": {
     "duration": 0.017725,
     "end_time": "2021-09-22T23:48:52.632631",
     "exception": false,
     "start_time": "2021-09-22T23:48:52.614906",
     "status": "completed"
    },
    "tags": []
   },
   "outputs": [],
   "source": [
    "with open('proc.json', 'w') as outfile:\n",
    "    json.dump({'cc-by': cc_by, 'other': other, 'retry': retry}, outfile)"
   ]
  }
 ],
 "metadata": {
  "kernelspec": {
   "display_name": "Python 3",
   "language": "python",
   "name": "python3"
  },
  "language_info": {
   "codemirror_mode": {
    "name": "ipython",
    "version": 3
   },
   "file_extension": ".py",
   "mimetype": "text/x-python",
   "name": "python",
   "nbconvert_exporter": "python",
   "pygments_lexer": "ipython3",
   "version": "3.7.10"
  },
  "papermill": {
   "default_parameters": {},
   "duration": 320.816631,
   "end_time": "2021-09-22T23:48:53.989730",
   "environment_variables": {},
   "exception": null,
   "input_path": "__notebook__.ipynb",
   "output_path": "__notebook__.ipynb",
   "parameters": {},
   "start_time": "2021-09-22T23:43:33.173099",
   "version": "2.3.3"
  }
 },
 "nbformat": 4,
 "nbformat_minor": 5
}
