{
 "cells": [
  {
   "cell_type": "code",
   "execution_count": 1,
   "id": "3e106acb",
   "metadata": {
    "_cell_guid": "b1076dfc-b9ad-4769-8c92-a6c4dae69d19",
    "_uuid": "8f2839f25d086af736a60e9eeb907d3b93b6e0e5",
    "execution": {
     "iopub.execute_input": "2021-09-21T14:09:32.530246Z",
     "iopub.status.busy": "2021-09-21T14:09:32.529430Z",
     "iopub.status.idle": "2021-09-21T14:09:44.080627Z",
     "shell.execute_reply": "2021-09-21T14:09:44.079345Z",
     "shell.execute_reply.started": "2021-09-21T10:06:08.19289Z"
    },
    "papermill": {
     "duration": 11.567909,
     "end_time": "2021-09-21T14:09:44.080804",
     "exception": false,
     "start_time": "2021-09-21T14:09:32.512895",
     "status": "completed"
    },
    "tags": []
   },
   "outputs": [],
   "source": [
    "%%capture\n",
    "!pip install youtube-dl"
   ]
  },
  {
   "cell_type": "code",
   "execution_count": 2,
   "id": "0111a1ea",
   "metadata": {
    "execution": {
     "iopub.execute_input": "2021-09-21T14:09:44.098143Z",
     "iopub.status.busy": "2021-09-21T14:09:44.097150Z",
     "iopub.status.idle": "2021-09-21T14:09:46.586337Z",
     "shell.execute_reply": "2021-09-21T14:09:46.585629Z",
     "shell.execute_reply.started": "2021-09-21T10:11:13.347854Z"
    },
    "papermill": {
     "duration": 2.499234,
     "end_time": "2021-09-21T14:09:46.586479",
     "exception": false,
     "start_time": "2021-09-21T14:09:44.087245",
     "status": "completed"
    },
    "tags": []
   },
   "outputs": [],
   "source": [
    "!youtube-dl -j --flat-playlist \"https://www.youtube.com/c/heritageboard/playlists?view=1&sort=dd&shelf_id=0\" > pl.json"
   ]
  },
  {
   "cell_type": "code",
   "execution_count": 3,
   "id": "7706e7f7",
   "metadata": {
    "execution": {
     "iopub.execute_input": "2021-09-21T14:09:46.608997Z",
     "iopub.status.busy": "2021-09-21T14:09:46.607698Z",
     "iopub.status.idle": "2021-09-21T14:10:37.093173Z",
     "shell.execute_reply": "2021-09-21T14:10:37.093656Z",
     "shell.execute_reply.started": "2021-09-21T10:14:02.137158Z"
    },
    "papermill": {
     "duration": 50.501151,
     "end_time": "2021-09-21T14:10:37.093868",
     "exception": false,
     "start_time": "2021-09-21T14:09:46.592717",
     "status": "completed"
    },
    "tags": []
   },
   "outputs": [],
   "source": [
    "!cat pl.json | awk -F'\"url\": \"' '{print $2}'|awk -F'\"' '{print $1}' | while read i;do youtube-dl -j --flat-playlist $i >> pl_videos.json || echo $i >> retry;done"
   ]
  },
  {
   "cell_type": "code",
   "execution_count": 4,
   "id": "8393ae6c",
   "metadata": {
    "execution": {
     "iopub.execute_input": "2021-09-21T14:10:37.109178Z",
     "iopub.status.busy": "2021-09-21T14:10:37.108495Z",
     "iopub.status.idle": "2021-09-21T14:10:43.160750Z",
     "shell.execute_reply": "2021-09-21T14:10:43.160076Z",
     "shell.execute_reply.started": "2021-09-21T10:15:13.122956Z"
    },
    "papermill": {
     "duration": 6.061051,
     "end_time": "2021-09-21T14:10:43.160904",
     "exception": false,
     "start_time": "2021-09-21T14:10:37.099853",
     "status": "completed"
    },
    "tags": []
   },
   "outputs": [],
   "source": [
    "!youtube-dl -j --flat-playlist \"https://www.youtube.com/c/heritageboard/videos?view=0&sort=dd&shelf_id=0\" > uploads.json"
   ]
  },
  {
   "cell_type": "code",
   "execution_count": 5,
   "id": "6e770737",
   "metadata": {
    "execution": {
     "iopub.execute_input": "2021-09-21T14:10:43.178698Z",
     "iopub.status.busy": "2021-09-21T14:10:43.178066Z",
     "iopub.status.idle": "2021-09-21T14:10:43.181498Z",
     "shell.execute_reply": "2021-09-21T14:10:43.180964Z"
    },
    "papermill": {
     "duration": 0.014715,
     "end_time": "2021-09-21T14:10:43.181658",
     "exception": false,
     "start_time": "2021-09-21T14:10:43.166943",
     "status": "completed"
    },
    "tags": []
   },
   "outputs": [],
   "source": [
    "import json\n",
    "import requests\n",
    "cc_by = []\n",
    "other = []\n",
    "retry = []\n",
    "seen = []"
   ]
  },
  {
   "cell_type": "code",
   "execution_count": 6,
   "id": "58cf90a2",
   "metadata": {
    "execution": {
     "iopub.execute_input": "2021-09-21T14:10:43.200768Z",
     "iopub.status.busy": "2021-09-21T14:10:43.200034Z",
     "iopub.status.idle": "2021-09-21T14:10:43.202671Z",
     "shell.execute_reply": "2021-09-21T14:10:43.203099Z"
    },
    "papermill": {
     "duration": 0.015433,
     "end_time": "2021-09-21T14:10:43.203276",
     "exception": false,
     "start_time": "2021-09-21T14:10:43.187843",
     "status": "completed"
    },
    "tags": []
   },
   "outputs": [],
   "source": [
    "lic = '\"contents\":[{\"runs\":[{\"text\":\"Creative Commons Attribution licence (reuse allowed)\"'\n",
    "def inner(cur_id):\n",
    "    if cur_id in seen:\n",
    "        return\n",
    "    req = requests.get(f\"https://www.youtube.com/watch?v={cur_id}\")\n",
    "    if req.status_code != 200:\n",
    "        retry.append(cur_id)\n",
    "    if lic in req.text:\n",
    "        cc_by.append(cur_id)\n",
    "    else:\n",
    "        other.append(cur_id)\n",
    "    seen.append(cur_id)"
   ]
  },
  {
   "cell_type": "code",
   "execution_count": 7,
   "id": "e70ec6c1",
   "metadata": {
    "execution": {
     "iopub.execute_input": "2021-09-21T14:10:43.224349Z",
     "iopub.status.busy": "2021-09-21T14:10:43.223394Z",
     "iopub.status.idle": "2021-09-21T14:15:17.336222Z",
     "shell.execute_reply": "2021-09-21T14:15:17.335615Z",
     "shell.execute_reply.started": "2021-09-21T10:30:31.954847Z"
    },
    "papermill": {
     "duration": 274.126421,
     "end_time": "2021-09-21T14:15:17.336406",
     "exception": false,
     "start_time": "2021-09-21T14:10:43.209985",
     "status": "completed"
    },
    "tags": []
   },
   "outputs": [],
   "source": [
    "with open(\"pl_videos.json\") as pl_videos:\n",
    "    for line in pl_videos.readlines():\n",
    "        line_data = json.loads(line.strip())\n",
    "        inner(line_data['id'])\n",
    "with open(\"uploads.json\") as pl_videos:\n",
    "    for line in pl_videos.readlines():\n",
    "        line_data = json.loads(line.strip())\n",
    "        inner(line_data['id'])\n"
   ]
  },
  {
   "cell_type": "code",
   "execution_count": 8,
   "id": "7584d47e",
   "metadata": {
    "execution": {
     "iopub.execute_input": "2021-09-21T14:15:17.353505Z",
     "iopub.status.busy": "2021-09-21T14:15:17.352914Z",
     "iopub.status.idle": "2021-09-21T14:15:17.357214Z",
     "shell.execute_reply": "2021-09-21T14:15:17.357751Z",
     "shell.execute_reply.started": "2021-09-21T10:47:48.607989Z"
    },
    "papermill": {
     "duration": 0.01458,
     "end_time": "2021-09-21T14:15:17.357959",
     "exception": false,
     "start_time": "2021-09-21T14:15:17.343379",
     "status": "completed"
    },
    "tags": []
   },
   "outputs": [],
   "source": [
    "with open('proc.json', 'w') as outfile:\n",
    "    json.dump({'cc-by': cc_by, 'other': other, 'retry': retry}, outfile)"
   ]
  }
 ],
 "metadata": {
  "kernelspec": {
   "display_name": "Python 3",
   "language": "python",
   "name": "python3"
  },
  "language_info": {
   "codemirror_mode": {
    "name": "ipython",
    "version": 3
   },
   "file_extension": ".py",
   "mimetype": "text/x-python",
   "name": "python",
   "nbconvert_exporter": "python",
   "pygments_lexer": "ipython3",
   "version": "3.7.10"
  },
  "papermill": {
   "default_parameters": {},
   "duration": 353.449672,
   "end_time": "2021-09-21T14:15:17.975228",
   "environment_variables": {},
   "exception": null,
   "input_path": "__notebook__.ipynb",
   "output_path": "__notebook__.ipynb",
   "parameters": {},
   "start_time": "2021-09-21T14:09:24.525556",
   "version": "2.3.3"
  }
 },
 "nbformat": 4,
 "nbformat_minor": 5
}
