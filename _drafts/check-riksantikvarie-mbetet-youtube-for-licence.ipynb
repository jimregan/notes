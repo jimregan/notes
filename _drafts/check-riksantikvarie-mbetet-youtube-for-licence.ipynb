{
 "cells": [
  {
   "cell_type": "code",
   "execution_count": 1,
   "id": "0202c9a0",
   "metadata": {
    "_cell_guid": "b1076dfc-b9ad-4769-8c92-a6c4dae69d19",
    "_uuid": "8f2839f25d086af736a60e9eeb907d3b93b6e0e5",
    "execution": {
     "iopub.execute_input": "2021-09-21T14:07:20.463379Z",
     "iopub.status.busy": "2021-09-21T14:07:20.461561Z",
     "iopub.status.idle": "2021-09-21T14:07:33.153511Z",
     "shell.execute_reply": "2021-09-21T14:07:33.154069Z",
     "shell.execute_reply.started": "2021-09-21T10:06:08.19289Z"
    },
    "papermill": {
     "duration": 12.705105,
     "end_time": "2021-09-21T14:07:33.154362",
     "exception": false,
     "start_time": "2021-09-21T14:07:20.449257",
     "status": "completed"
    },
    "tags": []
   },
   "outputs": [],
   "source": [
    "%%capture\n",
    "!pip install youtube-dl"
   ]
  },
  {
   "cell_type": "code",
   "execution_count": 2,
   "id": "79b03d79",
   "metadata": {
    "execution": {
     "iopub.execute_input": "2021-09-21T14:07:33.174801Z",
     "iopub.status.busy": "2021-09-21T14:07:33.171782Z",
     "iopub.status.idle": "2021-09-21T14:07:35.505525Z",
     "shell.execute_reply": "2021-09-21T14:07:35.506184Z",
     "shell.execute_reply.started": "2021-09-21T10:11:13.347854Z"
    },
    "papermill": {
     "duration": 2.344746,
     "end_time": "2021-09-21T14:07:35.506365",
     "exception": false,
     "start_time": "2021-09-21T14:07:33.161619",
     "status": "completed"
    },
    "tags": []
   },
   "outputs": [],
   "source": [
    "!youtube-dl -j --flat-playlist \"https://www.youtube.com/c/heritageboard/playlists?view=1&sort=dd&shelf_id=0\" > pl.json"
   ]
  },
  {
   "cell_type": "code",
   "execution_count": null,
   "id": "8b6b4f97",
   "metadata": {
    "execution": {
     "iopub.execute_input": "2021-09-21T10:14:02.137193Z",
     "iopub.status.busy": "2021-09-21T10:14:02.136876Z",
     "iopub.status.idle": "2021-09-21T10:15:00.288125Z",
     "shell.execute_reply": "2021-09-21T10:15:00.286861Z",
     "shell.execute_reply.started": "2021-09-21T10:14:02.137158Z"
    },
    "papermill": {
     "duration": null,
     "end_time": null,
     "exception": false,
     "start_time": "2021-09-21T14:07:35.513171",
     "status": "running"
    },
    "tags": []
   },
   "outputs": [],
   "source": [
    "!cat pl.json | awk -F'\"url\": \"' '{print $2}'|awk -F'\"' '{print $1}' | while read i;do youtube-dl -j --flat-playlist $i >> pl_videos.json || echo $i >> retry;done"
   ]
  },
  {
   "cell_type": "code",
   "execution_count": null,
   "id": "622e90f5",
   "metadata": {
    "execution": {
     "iopub.execute_input": "2021-09-21T10:15:13.122992Z",
     "iopub.status.busy": "2021-09-21T10:15:13.122634Z",
     "iopub.status.idle": "2021-09-21T10:15:17.89911Z",
     "shell.execute_reply": "2021-09-21T10:15:17.898145Z",
     "shell.execute_reply.started": "2021-09-21T10:15:13.122956Z"
    },
    "papermill": {
     "duration": null,
     "end_time": null,
     "exception": null,
     "start_time": null,
     "status": "pending"
    },
    "tags": []
   },
   "outputs": [],
   "source": [
    "!youtube-dl -j --flat-playlist \"https://www.youtube.com/c/heritageboard/videos?view=0&sort=dd&shelf_id=0\" > uploads.json"
   ]
  },
  {
   "cell_type": "code",
   "execution_count": null,
   "id": "9e20fb95",
   "metadata": {
    "papermill": {
     "duration": null,
     "end_time": null,
     "exception": null,
     "start_time": null,
     "status": "pending"
    },
    "tags": []
   },
   "outputs": [],
   "source": [
    "def inner(cur_id):\n",
    "    if cur_id in seen:\n",
    "        return\n",
    "    req = requests.get(f\"https://www.youtube.com/watch?v={cur_id}\")\n",
    "    if req.status_code != 200:\n",
    "        retry.append(cur_id)\n",
    "    if lic in req.text:\n",
    "        cc_by.append(cur_id)\n",
    "    else:\n",
    "        other.append(cur_id)\n",
    "    seen.append(cur_id)"
   ]
  },
  {
   "cell_type": "code",
   "execution_count": null,
   "id": "b9c54926",
   "metadata": {
    "execution": {
     "iopub.execute_input": "2021-09-21T10:30:31.954879Z",
     "iopub.status.busy": "2021-09-21T10:30:31.954542Z",
     "iopub.status.idle": "2021-09-21T10:34:12.135645Z",
     "shell.execute_reply": "2021-09-21T10:34:12.13488Z",
     "shell.execute_reply.started": "2021-09-21T10:30:31.954847Z"
    },
    "papermill": {
     "duration": null,
     "end_time": null,
     "exception": null,
     "start_time": null,
     "status": "pending"
    },
    "tags": []
   },
   "outputs": [],
   "source": [
    "import json\n",
    "import requests\n",
    "cc_by = []\n",
    "other = []\n",
    "retry = []\n",
    "seen = []\n",
    "lic = '\"contents\":[{\"runs\":[{\"text\":\"Creative Commons Attribution licence (reuse allowed)\"'\n",
    "with open(\"pl_videos.json\") as pl_videos:\n",
    "    for line in pl_videos.readlines():\n",
    "        line_data = json.loads(line.strip())\n",
    "        inner(line_data['id'])\n",
    "with open(\"uploads.json\") as pl_videos:\n",
    "    for line in pl_videos.readlines():\n",
    "        line_data = json.loads(line.strip())\n",
    "        inner(line_data['id'])\n"
   ]
  },
  {
   "cell_type": "code",
   "execution_count": null,
   "id": "234f70cf",
   "metadata": {
    "execution": {
     "iopub.execute_input": "2021-09-21T10:47:48.60805Z",
     "iopub.status.busy": "2021-09-21T10:47:48.607004Z",
     "iopub.status.idle": "2021-09-21T10:47:48.614522Z",
     "shell.execute_reply": "2021-09-21T10:47:48.613872Z",
     "shell.execute_reply.started": "2021-09-21T10:47:48.607989Z"
    },
    "papermill": {
     "duration": null,
     "end_time": null,
     "exception": null,
     "start_time": null,
     "status": "pending"
    },
    "tags": []
   },
   "outputs": [],
   "source": [
    "with open('proc.json', 'w') as outfile:\n",
    "    json.dump({'cc-by': cc_by, 'other': other, 'retry': retry}, outfile)"
   ]
  }
 ],
 "metadata": {
  "kernelspec": {
   "display_name": "Python 3",
   "language": "python",
   "name": "python3"
  },
  "language_info": {
   "codemirror_mode": {
    "name": "ipython",
    "version": 3
   },
   "file_extension": ".py",
   "mimetype": "text/x-python",
   "name": "python",
   "nbconvert_exporter": "python",
   "pygments_lexer": "ipython3",
   "version": "3.6.4"
  },
  "papermill": {
   "default_parameters": {},
   "duration": null,
   "end_time": null,
   "environment_variables": {},
   "exception": null,
   "input_path": "__notebook__.ipynb",
   "output_path": "__notebook__.ipynb",
   "parameters": {},
   "start_time": "2021-09-21T14:07:11.900654",
   "version": "2.3.3"
  }
 },
 "nbformat": 4,
 "nbformat_minor": 5
}