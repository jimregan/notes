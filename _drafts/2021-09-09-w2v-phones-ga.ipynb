{
  "nbformat": 4,
  "nbformat_minor": 0,
  "metadata": {
    "orig_nbformat": 4,
    "language_info": {
      "name": "python"
    },
    "colab": {
      "name": "2021-09-09-w2v-phones-ga.ipynb",
      "provenance": []
    }
  },
  "cells": [
    {
      "cell_type": "code",
      "metadata": {
        "id": "rQymYzv3h8dy"
      },
      "source": [
        "dir = \"/home/jim/Playing/cf/abair-corpora/\"\n",
        "col_names = [\"id\", \"set\", \"gender\", \"url\", \"text\", \"phonemes\"]"
      ],
      "execution_count": null,
      "outputs": []
    },
    {
      "cell_type": "code",
      "metadata": {
        "id": "S9xMWvRth8d7"
      },
      "source": [
        "import os"
      ],
      "execution_count": null,
      "outputs": []
    },
    {
      "cell_type": "code",
      "metadata": {
        "id": "1A4Vmchph8d8"
      },
      "source": [
        "inputs = []\n",
        "for (path, dirs, files) in os.walk(dir):\n",
        "    if \"corpusfile.txt\" in files:\n",
        "        inputs.append(os.path.join(path, \"corpusfile.txt\"))"
      ],
      "execution_count": null,
      "outputs": []
    },
    {
      "cell_type": "code",
      "metadata": {
        "id": "G1ASIsJNh8d-"
      },
      "source": [
        "from datasets import load_dataset\n",
        "dset = load_dataset(\"csv\", data_files=inputs, column_names=col_names, delimiter=\"\\t\", split=\"train\", index_col=False)"
      ],
      "execution_count": null,
      "outputs": []
    }
  ],
 "metadata": {
  "kernelspec": {
   "display_name": "Python 3",
   "language": "python",
   "name": "python3"
  },
  "language_info": {
   "file_extension": ".py",
   "mimetype": "text/x-python",
   "name": "python",
   "version": "3.9.2"
  }
 },
 "nbformat": 4,
 "nbformat_minor": 4
}
