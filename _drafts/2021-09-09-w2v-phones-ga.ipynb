{
 "cells": [
  {
   "cell_type": "code",
   "execution_count": null,
   "source": [
    "dir = \"/home/jim/Playing/cf/abair-corpora/\"\r\n",
    "col_names = [\"id\", \"set\", \"gender\", \"url\", \"text\", \"phonemes\"]"
   ],
   "outputs": [],
   "metadata": {}
  },
  {
   "cell_type": "code",
   "execution_count": null,
   "source": [
    "import os"
   ],
   "outputs": [],
   "metadata": {}
  },
  {
   "cell_type": "code",
   "execution_count": null,
   "source": [
    "inputs = []\r\n",
    "for (path, dirs, files) in os.walk(dir):\r\n",
    "    if \"corpusfile.txt\" in files:\r\n",
    "        if \"/cillairne2018/\" in path:\r\n",
    "            continue\r\n",
    "        inputs.append(os.path.join(path, \"corpusfile.txt\"))"
   ],
   "outputs": [],
   "metadata": {}
  },
  {
   "cell_type": "code",
   "execution_count": null,
   "source": [
    "from datasets import load_dataset\r\n",
    "dset = load_dataset(\"csv\", data_files=inputs, column_names=col_names, delimiter=\"\\t\", split=\"train\", index_col=False)"
   ],
   "outputs": [],
   "metadata": {}
  }
 ],
 "metadata": {
  "orig_nbformat": 4,
  "language_info": {
   "name": "python"
  }
 },
 "nbformat": 4,
 "nbformat_minor": 2
}