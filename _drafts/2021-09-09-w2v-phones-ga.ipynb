{
 "cells": [
  {
   "cell_type": "code",
   "execution_count": 1,
   "source": [
    "dir = \"/home/jim/Playing/cf/abair-corpora/\"\r\n",
    "col_names = [\"id\", \"set\", \"gender\", \"url\", \"text\", \"phonemes\"]"
   ],
   "outputs": [],
   "metadata": {
    "id": "rQymYzv3h8dy"
   }
  },
  {
   "cell_type": "code",
   "execution_count": 2,
   "source": [
    "import os"
   ],
   "outputs": [],
   "metadata": {
    "id": "S9xMWvRth8d7"
   }
  },
  {
   "cell_type": "code",
   "execution_count": 3,
   "source": [
    "inputs = []\r\n",
    "for (path, dirs, files) in os.walk(dir):\r\n",
    "    if \"/comhra/\" in path:\r\n",
    "        continue\r\n",
    "    if \"corpusfile.txt\" in files:\r\n",
    "        inputs.append(os.path.join(path, \"corpusfile.txt\"))"
   ],
   "outputs": [],
   "metadata": {
    "id": "1A4Vmchph8d8"
   }
  },
  {
   "cell_type": "code",
   "execution_count": null,
   "source": [
    "from datasets import load_dataset\r\n",
    "dset = load_dataset(\"csv\", data_files=inputs, column_names=col_names, delimiter=\"\\t\", split=\"train\", index_col=False)\r\n",
    "dset = dset.filter(lambda x: x['text'] is not None)"
   ],
   "outputs": [],
   "metadata": {
    "id": "G1ASIsJNh8d-"
   }
  },
  {
   "cell_type": "code",
   "execution_count": 5,
   "source": [
    "def irish_lc(text):\r\n",
    "    def lcword(word):\r\n",
    "        if word[0:1] in \"nt\" and word[1:2] in \"AÁEÉIÍOÓUÚ\":\r\n",
    "            return word[0:1] + \"-\" + word[1:].lower()\r\n",
    "        else:\r\n",
    "            return word.lower()\r\n",
    "    return \" \".join(list(map(lcword, text.split(\" \"))))"
   ],
   "outputs": [],
   "metadata": {}
  },
  {
   "cell_type": "code",
   "execution_count": 6,
   "source": [
    "assert irish_lc(\"bhúr nAthair\") == \"bhúr n-athair\""
   ],
   "outputs": [],
   "metadata": {}
  },
  {
   "cell_type": "code",
   "execution_count": null,
   "source": [
    "import re\r\n",
    "chars_to_ignore_regex = '[\\,\\?\\.\\!\\-\\;\\:\\\"\\“\\%\\‘\\”…—–\\(\\)]'\r\n",
    "\r\n",
    "def remove_special_characters(batch):\r\n",
    "    batch[\"text\"] = batch[\"text\"].replace(\"’\", \"'\")\r\n",
    "    batch[\"text\"] = batch[\"text\"].replace(\"(Tor@m)\", \"\")\r\n",
    "    batch[\"text\"] = re.sub(chars_to_ignore_regex, '', irish_lc(batch[\"text\"]))\r\n",
    "    batch[\"text\"] = batch[\"text\"].replace(\"\\xa0\", \" \")\r\n",
    "    batch[\"text\"] = batch[\"text\"].replace(\"\\ufeff\", \"\")\r\n",
    "    batch[\"text\"] = batch[\"text\"].replace(\"1983\", \"naoi déag ochtó a trí\")\r\n",
    "    batch[\"text\"] = batch[\"text\"].replace(\"tg4\", \"t g ceathair\")\r\n",
    "    batch[\"text\"] = re.sub('  +', ' ', irish_lc(batch[\"text\"])) + \" \"\r\n",
    "    return batch\r\n",
    "\r\n",
    "dset = dset.map(remove_special_characters)"
   ],
   "outputs": [],
   "metadata": {}
  },
  {
   "cell_type": "code",
   "execution_count": null,
   "source": [
    "def is_all_alphabetic(batch):\r\n",
    "    sentence = batch[\"text\"]\r\n",
    "    for char in sentence:\r\n",
    "        if char not in \"aábcdeéfghiíjklmnoópqrstuúvwxyz' \":\r\n",
    "            return False\r\n",
    "    return True\r\n",
    "dset = dset.filter(is_all_alphabetic)"
   ],
   "outputs": [],
   "metadata": {}
  },
  {
   "cell_type": "code",
   "execution_count": null,
   "source": [
    "def extract_all_chars(batch):\r\n",
    "  all_text = \" \".join(batch[\"text\"])\r\n",
    "  vocab = list(set(all_text))\r\n",
    "  return {\"vocab\": [vocab], \"all_text\": [all_text]}\r\n",
    "\r\n",
    "vocab_train = dset.map(extract_all_chars, batched=True, batch_size=-1, keep_in_memory=True, remove_columns=dset.column_names)"
   ],
   "outputs": [],
   "metadata": {}
  },
  {
   "cell_type": "code",
   "execution_count": null,
   "source": [
    "#vocab_list = list(set(vocab_train[\"vocab\"][0]) | set(vocab_test[\"vocab\"][0]))\r\n",
    "vocab_list = list(set(vocab_train[\"vocab\"][0]))\r\n",
    "\r\n",
    "vocab_dict = {v: k for k, v in enumerate(vocab_list)}\r\n",
    "print(vocab_dict)"
   ],
   "outputs": [],
   "metadata": {}
  },
  {
   "cell_type": "code",
   "execution_count": null,
   "source": [
    "def fix_path(batch):\r\n",
    "    batch[\"audio\"] = batch[\"url\"].replace(\"https://www.abair.tcd.ie/asr_data_irish_audio/\", \"/media/storage/phonetics/asr_data_irish/audio/\")\r\n",
    "    return batch\r\n",
    "\r\n",
    "dset = dset.map(fix_path)"
   ],
   "outputs": [],
   "metadata": {}
  },
  {
   "cell_type": "code",
   "execution_count": null,
   "source": [
    "from pathlib import Path\r\n",
    "def check_paths(batch):\r\n",
    "    audio_path = Path(batch[\"audio\"])\r\n",
    "    return audio_path.is_file()\r\n",
    "dset = dset.filter(check_paths)"
   ],
   "outputs": [],
   "metadata": {}
  },
  {
   "cell_type": "code",
   "execution_count": null,
   "source": [
    "vocab_dict[\"|\"] = vocab_dict[\" \"]\r\n",
    "del vocab_dict[\" \"]"
   ],
   "outputs": [],
   "metadata": {}
  },
  {
   "cell_type": "code",
   "execution_count": null,
   "source": [
    "vocab_dict[\"[UNK]\"] = len(vocab_dict)\r\n",
    "vocab_dict[\"[PAD]\"] = len(vocab_dict)\r\n",
    "print(len(vocab_dict))"
   ],
   "outputs": [],
   "metadata": {}
  },
  {
   "cell_type": "code",
   "execution_count": null,
   "source": [
    "import json\r\n",
    "with open('/home/jim/Playing/w2v-out/vocab.json', 'w') as vocab_file:\r\n",
    "    json.dump(vocab_dict, vocab_file)"
   ],
   "outputs": [],
   "metadata": {}
  },
  {
   "cell_type": "code",
   "execution_count": null,
   "source": [
    "from transformers import Wav2Vec2CTCTokenizer\r\n",
    "\r\n",
    "tokenizer = Wav2Vec2CTCTokenizer(\"/home/jim/Playing/w2v-out/vocab.json\", unk_token=\"[UNK]\", pad_token=\"[PAD]\", word_delimiter_token=\"|\")"
   ],
   "outputs": [],
   "metadata": {}
  },
  {
   "cell_type": "code",
   "execution_count": null,
   "source": [
    "from transformers import Wav2Vec2FeatureExtractor\r\n",
    "\r\n",
    "feature_extractor = Wav2Vec2FeatureExtractor(feature_size=1, sampling_rate=16000, padding_value=0.0, do_normalize=True, return_attention_mask=True)"
   ],
   "outputs": [],
   "metadata": {}
  },
  {
   "cell_type": "code",
   "execution_count": null,
   "source": [
    "from transformers import Wav2Vec2Processor\r\n",
    "\r\n",
    "processor = Wav2Vec2Processor(feature_extractor=feature_extractor, tokenizer=tokenizer)"
   ],
   "outputs": [],
   "metadata": {}
  },
  {
   "cell_type": "code",
   "execution_count": null,
   "source": [
    "import torchaudio\r\n",
    "\r\n",
    "def speech_file_to_array_fn(batch):\r\n",
    "    speech_array, sampling_rate = torchaudio.load(batch[\"audio\"])\r\n",
    "    batch[\"speech\"] = speech_array[0].numpy()\r\n",
    "    batch[\"sampling_rate\"] = sampling_rate\r\n",
    "    batch[\"target_text\"] = batch[\"text\"]\r\n",
    "    return batch\r\n",
    "\r\n",
    "dset = dset.map(speech_file_to_array_fn, remove_columns=dset.column_names)"
   ],
   "outputs": [],
   "metadata": {}
  },
  {
   "cell_type": "code",
   "execution_count": null,
   "source": [
    "import librosa\r\n",
    "import numpy as np\r\n",
    "\r\n",
    "def resample(batch):\r\n",
    "    if batch[\"sampling_rate\"] != 16_000:\r\n",
    "        batch[\"speech\"] = librosa.resample(np.asarray(batch[\"speech\"]), batch[\"sampling_rate\"], 16_000)\r\n",
    "        batch[\"sampling_rate\"] = 16_000\r\n",
    "    return batch\r\n",
    "\r\n",
    "dset = dset.map(resample, num_proc=4)"
   ],
   "outputs": [],
   "metadata": {}
  },
  {
   "cell_type": "code",
   "execution_count": null,
   "source": [
    "import torch\r\n",
    "\r\n",
    "from dataclasses import dataclass, field\r\n",
    "from typing import Any, Dict, List, Optional, Union\r\n",
    "\r\n",
    "@dataclass\r\n",
    "class DataCollatorCTCWithPadding:\r\n",
    "    \"\"\"\r\n",
    "    Data collator that will dynamically pad the inputs received.\r\n",
    "    Args:\r\n",
    "        processor (:class:`~transformers.Wav2Vec2Processor`)\r\n",
    "            The processor used for proccessing the data.\r\n",
    "        padding (:obj:`bool`, :obj:`str` or :class:`~transformers.tokenization_utils_base.PaddingStrategy`, `optional`, defaults to :obj:`True`):\r\n",
    "            Select a strategy to pad the returned sequences (according to the model's padding side and padding index)\r\n",
    "            among:\r\n",
    "            * :obj:`True` or :obj:`'longest'`: Pad to the longest sequence in the batch (or no padding if only a single\r\n",
    "              sequence if provided).\r\n",
    "            * :obj:`'max_length'`: Pad to a maximum length specified with the argument :obj:`max_length` or to the\r\n",
    "              maximum acceptable input length for the model if that argument is not provided.\r\n",
    "            * :obj:`False` or :obj:`'do_not_pad'` (default): No padding (i.e., can output a batch with sequences of\r\n",
    "              different lengths).\r\n",
    "        max_length (:obj:`int`, `optional`):\r\n",
    "            Maximum length of the ``input_values`` of the returned list and optionally padding length (see above).\r\n",
    "        max_length_labels (:obj:`int`, `optional`):\r\n",
    "            Maximum length of the ``labels`` returned list and optionally padding length (see above).\r\n",
    "        pad_to_multiple_of (:obj:`int`, `optional`):\r\n",
    "            If set will pad the sequence to a multiple of the provided value.\r\n",
    "            This is especially useful to enable the use of Tensor Cores on NVIDIA hardware with compute capability >=\r\n",
    "            7.5 (Volta).\r\n",
    "    \"\"\"\r\n",
    "\r\n",
    "    processor: Wav2Vec2Processor\r\n",
    "    padding: Union[bool, str] = True\r\n",
    "    max_length: Optional[int] = None\r\n",
    "    max_length_labels: Optional[int] = None\r\n",
    "    pad_to_multiple_of: Optional[int] = None\r\n",
    "    pad_to_multiple_of_labels: Optional[int] = None\r\n",
    "\r\n",
    "    def __call__(self, features: List[Dict[str, Union[List[int], torch.Tensor]]]) -> Dict[str, torch.Tensor]:\r\n",
    "        # split inputs and labels since they have to be of different lenghts and need\r\n",
    "        # different padding methods\r\n",
    "        input_features = [{\"input_values\": feature[\"input_values\"]} for feature in features]\r\n",
    "        label_features = [{\"input_ids\": feature[\"labels\"]} for feature in features]\r\n",
    "\r\n",
    "        batch = self.processor.pad(\r\n",
    "            input_features,\r\n",
    "            padding=self.padding,\r\n",
    "            max_length=self.max_length,\r\n",
    "            pad_to_multiple_of=self.pad_to_multiple_of,\r\n",
    "            return_tensors=\"pt\",\r\n",
    "        )\r\n",
    "        with self.processor.as_target_processor():\r\n",
    "            labels_batch = self.processor.pad(\r\n",
    "                label_features,\r\n",
    "                padding=self.padding,\r\n",
    "                max_length=self.max_length_labels,\r\n",
    "                pad_to_multiple_of=self.pad_to_multiple_of_labels,\r\n",
    "                return_tensors=\"pt\",\r\n",
    "            )\r\n",
    "\r\n",
    "        # replace padding with -100 to ignore loss correctly\r\n",
    "        labels = labels_batch[\"input_ids\"].masked_fill(labels_batch.attention_mask.ne(1), -100)\r\n",
    "\r\n",
    "        batch[\"labels\"] = labels\r\n",
    "\r\n",
    "        return batch"
   ],
   "outputs": [],
   "metadata": {}
  },
  {
   "cell_type": "code",
   "execution_count": null,
   "source": [
    "data_collator = DataCollatorCTCWithPadding(processor=processor, padding=True)"
   ],
   "outputs": [],
   "metadata": {}
  },
  {
   "cell_type": "code",
   "execution_count": null,
   "source": [
    "from datasets import load_metric\r\n",
    "wer_metric = load_metric(\"wer\")"
   ],
   "outputs": [],
   "metadata": {}
  },
  {
   "cell_type": "code",
   "execution_count": null,
   "source": [
    "def compute_metrics(pred):\r\n",
    "    pred_logits = pred.predictions\r\n",
    "    pred_ids = np.argmax(pred_logits, axis=-1)\r\n",
    "\r\n",
    "    pred.label_ids[pred.label_ids == -100] = processor.tokenizer.pad_token_id\r\n",
    "\r\n",
    "    pred_str = processor.batch_decode(pred_ids)\r\n",
    "    # we do not want to group tokens when computing the metrics\r\n",
    "    label_str = processor.batch_decode(pred.label_ids, group_tokens=False)\r\n",
    "\r\n",
    "    wer = wer_metric.compute(predictions=pred_str, references=label_str)\r\n",
    "\r\n",
    "    return {\"wer\": wer}"
   ],
   "outputs": [],
   "metadata": {}
  },
  {
   "cell_type": "code",
   "execution_count": null,
   "source": [
    "from transformers import Wav2Vec2ForCTC\r\n",
    "\r\n",
    "model = Wav2Vec2ForCTC.from_pretrained(\r\n",
    "    \"facebook/wav2vec2-large-xlsr-53\",\r\n",
    "    attention_dropout=0.1,\r\n",
    "    hidden_dropout=0.1,\r\n",
    "    feat_proj_dropout=0.0,\r\n",
    "    mask_time_prob=0.05,\r\n",
    "    layerdrop=0.1,\r\n",
    "    gradient_checkpointing=True,\r\n",
    "    ctc_loss_reduction=\"mean\",\r\n",
    "    pad_token_id=processor.tokenizer.pad_token_id,\r\n",
    "    vocab_size=len(processor.tokenizer)\r\n",
    ")"
   ],
   "outputs": [],
   "metadata": {}
  },
  {
   "cell_type": "code",
   "execution_count": null,
   "source": [
    "model.freeze_feature_extractor()"
   ],
   "outputs": [],
   "metadata": {}
  },
  {
   "cell_type": "code",
   "execution_count": null,
   "source": [
    "from transformers import TrainingArguments\r\n",
    "\r\n",
    "training_args = TrainingArguments(\r\n",
    "  output_dir=\"/home/jim/Playing/w2v-out\",\r\n",
    "  group_by_length=True,\r\n",
    "  per_device_train_batch_size=16,\r\n",
    "  gradient_accumulation_steps=2,\r\n",
    "  evaluation_strategy=\"steps\",\r\n",
    "  num_train_epochs=30,\r\n",
    "  fp16=True,\r\n",
    "  save_steps=400,\r\n",
    "  eval_steps=400,\r\n",
    "  logging_steps=400,\r\n",
    "  learning_rate=3e-4,\r\n",
    "  warmup_steps=500,\r\n",
    "  save_total_limit=2,\r\n",
    ")"
   ],
   "outputs": [],
   "metadata": {}
  },
  {
   "cell_type": "code",
   "execution_count": null,
   "source": [
    "train_testvalid = dset.train_test_split(test=0.05)\r\n",
    "#test_valid = train_testvalid[\"test\"].train_test_split(test=0.5)"
   ],
   "outputs": [],
   "metadata": {}
  },
  {
   "cell_type": "code",
   "execution_count": null,
   "source": [
    "from transformers import Trainer\r\n",
    "\r\n",
    "trainer = Trainer(\r\n",
    "    model=model,\r\n",
    "    data_collator=data_collator,\r\n",
    "    args=training_args,\r\n",
    "    compute_metrics=compute_metrics,\r\n",
    "    train_dataset=train_testvalid[\"train\"],\r\n",
    "    eval_dataset=train_testvalid[\"valid\"],\r\n",
    "    tokenizer=processor.feature_extractor,\r\n",
    ")"
   ],
   "outputs": [],
   "metadata": {}
  },
  {
   "cell_type": "code",
   "execution_count": null,
   "source": [
    "trainer.train()"
   ],
   "outputs": [],
   "metadata": {}
  }
 ],
 "nbformat": 4,
 "nbformat_minor": 2,
 "metadata": {
  "orig_nbformat": 4,
  "language_info": {
   "name": "python",
   "version": "3.9.4",
   "mimetype": "text/x-python",
   "codemirror_mode": {
    "name": "ipython",
    "version": 3
   },
  "kernelspec": {
   "display_name": "Python 3",
   "language": "python",
   "name": "python"
  },
   "pygments_lexer": "ipython3",
   "nbconvert_exporter": "python",
   "file_extension": ".py"
  },
  "colab": {
   "name": "2021-09-09-w2v-phones-ga.ipynb",
   "provenance": []
  },
  "kernelspec": {
   "name": "python3",
   "display_name": "Python 3.9.4 64-bit ('base': conda)"
  },
  "interpreter": {
   "hash": "b174e98a0fa21d081469da6d7a7f39d57d9081431b3c051c1c000c3d6ee434aa"
  }
 }
}
