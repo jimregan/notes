{
 "cells": [
  {
   "cell_type": "code",
   "execution_count": 1,
   "source": [
    "dir = \"/home/jim/Playing/cf/abair-corpora/\"\r\n",
    "col_names = [\"id\", \"set\", \"gender\", \"url\", \"text\", \"phonemes\"]"
   ],
   "outputs": [],
   "metadata": {
    "id": "rQymYzv3h8dy"
   }
  },
  {
   "cell_type": "code",
   "execution_count": 2,
   "source": [
    "import os"
   ],
   "outputs": [],
   "metadata": {
    "id": "S9xMWvRth8d7"
   }
  },
  {
   "cell_type": "code",
   "execution_count": 3,
   "source": [
    "inputs = []\r\n",
    "for (path, dirs, files) in os.walk(dir):\r\n",
    "    if \"/comhra/\" in path:\r\n",
    "        continue\r\n",
    "    if \"corpusfile.txt\" in files:\r\n",
    "        inputs.append(os.path.join(path, \"corpusfile.txt\"))"
   ],
   "outputs": [],
   "metadata": {
    "id": "1A4Vmchph8d8"
   }
  },
  {
   "cell_type": "code",
   "execution_count": null,
   "source": [
    "from datasets import load_dataset\r\n",
    "dset = load_dataset(\"csv\", data_files=inputs, column_names=col_names, delimiter=\"\\t\", split=\"train\", index_col=False)\r\n",
    "dset = dset.filter(lambda x: x['text'] is not None and \"&\" not in x['text'] and \"2\" not in x['text'])"
   ],
   "outputs": [],
   "metadata": {
    "id": "G1ASIsJNh8d-"
   }
  },
  {
   "cell_type": "code",
   "execution_count": 5,
   "source": [
    "def irish_lc(text):\r\n",
    "    def lcword(word):\r\n",
    "        if word[0:1] in \"nt\" and word[1:2] in \"AÁEÉIÍOÓUÚ\":\r\n",
    "            return word[0:1] + \"-\" + word[1:].lower()\r\n",
    "        else:\r\n",
    "            return word.lower()\r\n",
    "    return \" \".join(list(map(lcword, text.split(\" \"))))"
   ],
   "outputs": [],
   "metadata": {}
  },
  {
   "cell_type": "code",
   "execution_count": 6,
   "source": [
    "assert irish_lc(\"bhúr nAthair\") == \"bhúr n-athair\""
   ],
   "outputs": [],
   "metadata": {}
  },
  {
   "cell_type": "code",
   "execution_count": null,
   "source": [
    "import re\r\n",
    "chars_to_ignore_regex = '[\\,\\?\\.\\!\\-\\;\\:\\\"\\“\\%\\‘\\”…—]'\r\n",
    "\r\n",
    "def remove_special_characters(batch):\r\n",
    "    batch[\"text\"] = batch[\"text\"].replace(\"’\", \"'\")\r\n",
    "    batch[\"text\"] = batch[\"text\"].replace(\"(tor@m)\", \"\")\r\n",
    "    batch[\"text\"] = re.sub(chars_to_ignore_regex, '', irish_lc(batch[\"text\"])) + \" \"\r\n",
    "    batch[\"text\"] = batch[\"text\"].replace(\"\\xa0\", \" \")\r\n",
    "    batch[\"text\"] = batch[\"text\"].replace(\"\\ufeff\", \"\")\r\n",
    "    batch[\"text\"] = batch[\"text\"].replace(\"1983\", \"naoi déag ochtó a trí\")\r\n",
    "    batch[\"text\"] = batch[\"text\"].replace(\"tg4\", \"t g ceathair\")\r\n",
    "    return batch\r\n",
    "\r\n",
    "dset = dset.map(remove_special_characters)"
   ],
   "outputs": [],
   "metadata": {}
  },
  {
   "cell_type": "code",
   "execution_count": null,
   "source": [
    "def extract_all_chars(batch):\r\n",
    "  all_text = \" \".join(batch[\"text\"])\r\n",
    "  vocab = list(set(all_text))\r\n",
    "  return {\"vocab\": [vocab], \"all_text\": [all_text]}\r\n",
    "\r\n",
    "vocab_train = dset.map(extract_all_chars, batched=True, batch_size=-1, keep_in_memory=True, remove_columns=dset.column_names)"
   ],
   "outputs": [],
   "metadata": {}
  },
  {
   "cell_type": "code",
   "execution_count": null,
   "source": [
    "#vocab_list = list(set(vocab_train[\"vocab\"][0]) | set(vocab_test[\"vocab\"][0]))\r\n",
    "vocab_list = list(set(vocab_train[\"vocab\"][0]))\r\n",
    "\r\n",
    "vocab_dict = {v: k for k, v in enumerate(vocab_list)}\r\n",
    "print(vocab_dict)"
   ],
   "outputs": [],
   "metadata": {}
  }
 ],
 "nbformat": 4,
 "nbformat_minor": 2,
 "metadata": {
  "orig_nbformat": 4,
  "language_info": {
   "name": "python",
   "version": "3.9.4",
   "mimetype": "text/x-python",
   "codemirror_mode": {
    "name": "ipython",
    "version": 3
   },
   "pygments_lexer": "ipython3",
   "nbconvert_exporter": "python",
   "file_extension": ".py"
  },
  "colab": {
   "name": "2021-09-09-w2v-phones-ga.ipynb",
   "provenance": []
  },
  "kernelspec": {
   "name": "python3",
   "language": "python",
   "display_name": "Python 3.9.4 64-bit ('base': conda)"
  },
  "interpreter": {
   "hash": "b174e98a0fa21d081469da6d7a7f39d57d9081431b3c051c1c000c3d6ee434aa"
  }
 }
}