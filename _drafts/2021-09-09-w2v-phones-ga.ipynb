{
  "nbformat": 4,
  "nbformat_minor": 2,
  "metadata": {
    "orig_nbformat": 4,
    "language_info": {
      "name": "python",
      "version": "3.9.4",
      "mimetype": "text/x-python",
      "codemirror_mode": {
        "name": "ipython",
        "version": 3
      },
      "pygments_lexer": "ipython3",
      "nbconvert_exporter": "python",
      "file_extension": ".py"
    },
    "colab": {
      "name": "2021-09-09-w2v-phones-ga.ipynb",
      "provenance": []
    },
    "kernelspec": {
      "name": "python3",
      "display_name": "Python 3.9.4 64-bit ('base': conda)"
    },
    "interpreter": {
      "hash": "b174e98a0fa21d081469da6d7a7f39d57d9081431b3c051c1c000c3d6ee434aa"
    }
  },
  "cells": [
    {
      "cell_type": "code",
      "execution_count": null,
      "source": [
        "dir = \"/home/jim/Playing/cf/abair-corpora/\"\n",
        "col_names = [\"id\", \"set\", \"gender\", \"url\", \"text\", \"phonemes\"]"
      ],
      "outputs": [],
      "metadata": {
        "id": "rQymYzv3h8dy"
      }
    },
    {
      "cell_type": "code",
      "execution_count": null,
      "source": [
        "import os"
      ],
      "outputs": [],
      "metadata": {
        "id": "S9xMWvRth8d7"
      }
    },
    {
      "cell_type": "code",
      "execution_count": null,
      "source": [
        "inputs = []\r\n",
        "for (path, dirs, files) in os.walk(dir):\r\n",
        "    if \"corpusfile.txt\" in files:\r\n",
        "        inputs.append(os.path.join(path, \"corpusfile.txt\"))"
      ],
      "outputs": [],
      "metadata": {
        "id": "1A4Vmchph8d8"
      }
    },
    {
      "cell_type": "code",
      "execution_count": null,
      "source": [
        "from datasets import load_dataset\n",
        "dset = load_dataset(\"csv\", data_files=inputs, column_names=col_names, delimiter=\"\\t\", split=\"train\", index_col=False)"
      ],
      "outputs": [],
      "metadata": {
        "id": "G1ASIsJNh8d-"
      }
    },
    {
      "cell_type": "code",
      "execution_count": 7,
      "source": [
        "def irish_lc(text):\r\n",
        "    def lcword(word):\r\n",
        "        if word[0:1] in \"nt\" and word[1:2] in \"AÁEÉIÍOÓUÚ\":\r\n",
        "            return word[0:1] + \"-\" + word[1:].lower()\r\n",
        "        else:\r\n",
        "            return word.lower()\r\n",
        "    return \" \".join(list(map(lcword, text.split(\" \"))))\r\n"
      ],
      "outputs": [],
      "metadata": {}
    },
    {
      "cell_type": "code",
      "execution_count": 8,
      "source": [
        "assert irish_lc(\"bhúr nAthair\") == \"bhúr n-athair\""
      ],
      "outputs": [],
      "metadata": {}
    }
  ]
}