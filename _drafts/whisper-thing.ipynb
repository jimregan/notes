{
 "cells": [
  {
   "cell_type": "code",
   "execution_count": 2,
   "metadata": {},
   "outputs": [],
   "source": [
    "import whisper"
   ]
  },
  {
   "cell_type": "code",
   "execution_count": 3,
   "metadata": {},
   "outputs": [],
   "source": [
    "model = whisper.load_model(\"large-v3\")"
   ]
  },
  {
   "cell_type": "code",
   "execution_count": 4,
   "metadata": {},
   "outputs": [],
   "source": [
    "TESTF = \"/home/joregan/Listening_test/00_4.wav\""
   ]
  },
  {
   "cell_type": "code",
   "execution_count": 5,
   "metadata": {},
   "outputs": [],
   "source": [
    "audio = whisper.load_audio(TESTF)\n",
    "audio = whisper.pad_or_trim(audio)"
   ]
  },
  {
   "cell_type": "code",
   "execution_count": 6,
   "metadata": {},
   "outputs": [],
   "source": [
    "mel = whisper.log_mel_spectrogram(audio, n_mels=128).to(model.device)"
   ]
  },
  {
   "cell_type": "code",
   "execution_count": 7,
   "metadata": {},
   "outputs": [
    {
     "data": {
      "text/plain": [
       "torch.Size([128, 3000])"
      ]
     },
     "execution_count": 7,
     "metadata": {},
     "output_type": "execute_result"
    }
   ],
   "source": [
    "mel.shape"
   ]
  },
  {
   "cell_type": "code",
   "execution_count": 9,
   "metadata": {},
   "outputs": [
    {
     "name": "stdout",
     "output_type": "stream",
     "text": [
      "Detecting language using up to the first 30 seconds. Use `--language` to specify the language\n",
      "Detected language: Swedish\n",
      "[00:00.000 --> 00:03.100]  Tror du att jag är engelsman eller amerikan?\n"
     ]
    }
   ],
   "source": [
    "res = model.transcribe(TESTF, verbose=True)"
   ]
  },
  {
   "cell_type": "code",
   "execution_count": 10,
   "metadata": {},
   "outputs": [
    {
     "data": {
      "text/plain": [
       "{'text': ' Tror du att jag är engelsman eller amerikan?',\n",
       " 'segments': [{'id': 0,\n",
       "   'seek': 0,\n",
       "   'start': 0.0,\n",
       "   'end': 3.1,\n",
       "   'text': ' Tror du att jag är engelsman eller amerikan?',\n",
       "   'tokens': [50365,\n",
       "    1765,\n",
       "    284,\n",
       "    1581,\n",
       "    951,\n",
       "    6368,\n",
       "    3775,\n",
       "    1741,\n",
       "    1625,\n",
       "    1601,\n",
       "    12519,\n",
       "    16116,\n",
       "    16048,\n",
       "    30,\n",
       "    50520],\n",
       "   'temperature': 0.0,\n",
       "   'avg_logprob': -0.04304603487253189,\n",
       "   'compression_ratio': 0.8490566037735849,\n",
       "   'no_speech_prob': 0.1451009064912796}],\n",
       " 'language': 'sv'}"
      ]
     },
     "execution_count": 10,
     "metadata": {},
     "output_type": "execute_result"
    }
   ],
   "source": [
    "res"
   ]
  },
  {
   "cell_type": "code",
   "execution_count": 13,
   "metadata": {},
   "outputs": [
    {
     "data": {
      "text/plain": [
       "15"
      ]
     },
     "execution_count": 13,
     "metadata": {},
     "output_type": "execute_result"
    }
   ],
   "source": [
    "len(res[\"segments\"][0][\"tokens\"])"
   ]
  },
  {
   "cell_type": "code",
   "execution_count": 8,
   "metadata": {},
   "outputs": [],
   "source": [
    "language_tokens, probs = model.detect_language(mel)"
   ]
  },
  {
   "cell_type": "code",
   "execution_count": 43,
   "metadata": {},
   "outputs": [
    {
     "data": {
      "text/plain": [
       "{'ka': 1.1760527485193961e-07,\n",
       " 'uk': 0.00011050760076614097,\n",
       " 'ps': 4.126469832499424e-07,\n",
       " 'ba': 4.256304642069608e-09,\n",
       " 'af': 1.924401431097067e-06,\n",
       " 'kn': 5.272009957479895e-07,\n",
       " 'so': 5.345439646475825e-09,\n",
       " 'ne': 5.848129376317956e-07,\n",
       " 'ja': 0.0008843151153996587,\n",
       " 'mk': 3.5319104085829167e-07,\n",
       " 'lo': 4.839035909753875e-07,\n",
       " 'hi': 0.00012629431148525327,\n",
       " 'zh': 0.0011262395419180393,\n",
       " 'lv': 1.6683612557244487e-05,\n",
       " 'et': 1.52700231410563e-05,\n",
       " 'az': 8.513211469107773e-06,\n",
       " 'sd': 7.044382641652192e-07,\n",
       " 'ml': 0.00019973318558186293,\n",
       " 'no': 0.02231231890618801,\n",
       " 'is': 0.00010205624130321667,\n",
       " 'ln': 9.586413796114357e-08,\n",
       " 'yi': 2.436002887407085e-06,\n",
       " 'ar': 0.0004886251408606768,\n",
       " 'ur': 1.1246702342759818e-05,\n",
       " 'tl': 0.0005676936125382781,\n",
       " 'bn': 3.0907585824024864e-06,\n",
       " 'am': 6.384588857599738e-08,\n",
       " 'mt': 1.5055169342303998e-06,\n",
       " 'yo': 6.955768867555889e-07,\n",
       " 'id': 0.00020396412583068013,\n",
       " 'tt': 8.788865635267484e-09,\n",
       " 'la': 0.0005797904450446367,\n",
       " 'mr': 6.714851110700693e-07,\n",
       " 'cy': 0.0002119324344675988,\n",
       " 'tr': 0.000917063734959811,\n",
       " 'sq': 4.898540737485746e-06,\n",
       " 'es': 0.002971615409478545,\n",
       " 'tk': 3.5654719177102834e-09,\n",
       " 'ro': 0.00012813875218853354,\n",
       " 'vi': 0.0006802506977692246,\n",
       " 'fi': 0.0011873483890667558,\n",
       " 'el': 0.0002098630357068032,\n",
       " 'sl': 1.853599496826064e-05,\n",
       " 'sw': 6.589613803953398e-06,\n",
       " 'sn': 7.815947355993558e-06,\n",
       " 'it': 0.001096824067644775,\n",
       " 'su': 1.457537646132323e-08,\n",
       " 'pl': 0.00040966368396766484,\n",
       " 'oc': 2.6068828447023407e-06,\n",
       " 'my': 6.949118755983363e-07,\n",
       " 'fa': 5.790623617940582e-05,\n",
       " 'jw': 0.00011692061525536701,\n",
       " 'hy': 3.1041636248119175e-06,\n",
       " 'nl': 0.001156712882220745,\n",
       " 'km': 0.00012793776113539934,\n",
       " 'bg': 1.6191606846405193e-05,\n",
       " 'si': 3.543945786077529e-05,\n",
       " 'ko': 0.002437821589410305,\n",
       " 'nn': 0.004772562999278307,\n",
       " 'pt': 0.004701153375208378,\n",
       " 'sv': 0.9029163122177124,\n",
       " 'ca': 4.831505793845281e-05,\n",
       " 'mn': 1.1968747912760591e-06,\n",
       " 'ha': 4.471686132490049e-09,\n",
       " 'as': 4.7701757210916185e-08,\n",
       " 'sk': 1.3790264347335324e-05,\n",
       " 'sr': 2.2736119262845023e-06,\n",
       " 'gu': 5.324419305452466e-08,\n",
       " 'gl': 6.345956990116974e-06,\n",
       " 'br': 2.3393376977765e-05,\n",
       " 'eu': 3.5192870200262405e-06,\n",
       " 'de': 0.002933202311396599,\n",
       " 'te': 1.2292518476897385e-05,\n",
       " 'ms': 6.83271064190194e-05,\n",
       " 'hu': 0.0005520714330486953,\n",
       " 'tg': 8.435629972325387e-09,\n",
       " 'sa': 1.079589765140554e-05,\n",
       " 'be': 4.153409918217221e-06,\n",
       " 'pa': 5.4124930102261715e-06,\n",
       " 'lb': 1.2407343596976261e-08,\n",
       " 'yue': 2.6547877496341243e-06,\n",
       " 'ht': 6.14053806202719e-06,\n",
       " 'da': 0.000872503500431776,\n",
       " 'mg': 3.962487671316239e-09,\n",
       " 'uz': 1.7142106623069253e-09,\n",
       " 'kk': 2.403901135039632e-06,\n",
       " 'fo': 5.382226845540572e-06,\n",
       " 'cs': 8.608154894318432e-05,\n",
       " 'bs': 4.1787425288930535e-06,\n",
       " 'he': 8.466935105388984e-05,\n",
       " 'hr': 4.25417092628777e-05,\n",
       " 'mi': 2.0748857423313893e-05,\n",
       " 'haw': 0.00012793703353963792,\n",
       " 'ta': 3.233854295103811e-05,\n",
       " 'ru': 0.003934795502573252,\n",
       " 'fr': 0.0012581831542775035,\n",
       " 'en': 0.038634639233350754,\n",
       " 'th': 0.00018923725292552263,\n",
       " 'bo': 3.5286581123727956e-07,\n",
       " 'lt': 4.7156878281384706e-05}"
      ]
     },
     "execution_count": 43,
     "metadata": {},
     "output_type": "execute_result"
    }
   ],
   "source": [
    "probs"
   ]
  },
  {
   "cell_type": "code",
   "execution_count": 46,
   "metadata": {},
   "outputs": [
    {
     "name": "stdout",
     "output_type": "stream",
     "text": [
      "Swedish 0.9029163122177124 English 0.038634639233350754\n"
     ]
    }
   ],
   "source": [
    "print(\"Swedish\", probs['sv'], \"English\", probs[\"en\"])"
   ]
  },
  {
   "cell_type": "code",
   "execution_count": 19,
   "metadata": {},
   "outputs": [],
   "source": [
    "from whisper.decoding import detect_language"
   ]
  },
  {
   "cell_type": "code",
   "execution_count": 40,
   "metadata": {},
   "outputs": [],
   "source": [
    "from whisper.tokenizer import LANGUAGES"
   ]
  },
  {
   "cell_type": "code",
   "execution_count": 42,
   "metadata": {},
   "outputs": [
    {
     "data": {
      "text/plain": [
       "100"
      ]
     },
     "execution_count": 42,
     "metadata": {},
     "output_type": "execute_result"
    }
   ],
   "source": [
    "len(LANGUAGES)"
   ]
  },
  {
   "cell_type": "code",
   "execution_count": null,
   "metadata": {},
   "outputs": [],
   "source": [
    "detect_language(\"Whisper\", mel=mel)"
   ]
  }
 ],
 "metadata": {
  "kernelspec": {
   "display_name": "hf_new",
   "language": "python",
   "name": "python3"
  },
  "language_info": {
   "codemirror_mode": {
    "name": "ipython",
    "version": 3
   },
   "file_extension": ".py",
   "mimetype": "text/x-python",
   "name": "python",
   "nbconvert_exporter": "python",
   "pygments_lexer": "ipython3",
   "version": "3.10.13"
  }
 },
 "nbformat": 4,
 "nbformat_minor": 2
}
