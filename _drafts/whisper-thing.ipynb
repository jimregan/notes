{
 "cells": [
  {
   "cell_type": "code",
   "execution_count": 2,
   "metadata": {},
   "outputs": [],
   "source": [
    "import whisper"
   ]
  },
  {
   "cell_type": "code",
   "execution_count": 3,
   "metadata": {},
   "outputs": [],
   "source": [
    "model = whisper.load_model(\"large-v3\")"
   ]
  },
  {
   "cell_type": "code",
   "execution_count": 4,
   "metadata": {},
   "outputs": [],
   "source": [
    "TESTF = \"/home/joregan/Listening_test/00_4.wav\""
   ]
  },
  {
   "cell_type": "code",
   "execution_count": 5,
   "metadata": {},
   "outputs": [],
   "source": [
    "audio = whisper.load_audio(TESTF)\n",
    "audio = whisper.pad_or_trim(audio)"
   ]
  },
  {
   "cell_type": "code",
   "execution_count": 6,
   "metadata": {},
   "outputs": [],
   "source": [
    "mel = whisper.log_mel_spectrogram(audio, n_mels=128).to(model.device)"
   ]
  },
  {
   "cell_type": "code",
   "execution_count": 7,
   "metadata": {},
   "outputs": [
    {
     "data": {
      "text/plain": [
       "torch.Size([128, 3000])"
      ]
     },
     "execution_count": 7,
     "metadata": {},
     "output_type": "execute_result"
    }
   ],
   "source": [
    "mel.shape"
   ]
  },
  {
   "cell_type": "code",
   "execution_count": 9,
   "metadata": {},
   "outputs": [
    {
     "name": "stdout",
     "output_type": "stream",
     "text": [
      "Detecting language using up to the first 30 seconds. Use `--language` to specify the language\n",
      "Detected language: Swedish\n",
      "[00:00.000 --> 00:03.100]  Tror du att jag är engelsman eller amerikan?\n"
     ]
    }
   ],
   "source": [
    "res = model.transcribe(TESTF, verbose=True)"
   ]
  },
  {
   "cell_type": "code",
   "execution_count": 10,
   "metadata": {},
   "outputs": [
    {
     "data": {
      "text/plain": [
       "{'text': ' Tror du att jag är engelsman eller amerikan?',\n",
       " 'segments': [{'id': 0,\n",
       "   'seek': 0,\n",
       "   'start': 0.0,\n",
       "   'end': 3.1,\n",
       "   'text': ' Tror du att jag är engelsman eller amerikan?',\n",
       "   'tokens': [50365,\n",
       "    1765,\n",
       "    284,\n",
       "    1581,\n",
       "    951,\n",
       "    6368,\n",
       "    3775,\n",
       "    1741,\n",
       "    1625,\n",
       "    1601,\n",
       "    12519,\n",
       "    16116,\n",
       "    16048,\n",
       "    30,\n",
       "    50520],\n",
       "   'temperature': 0.0,\n",
       "   'avg_logprob': -0.04304603487253189,\n",
       "   'compression_ratio': 0.8490566037735849,\n",
       "   'no_speech_prob': 0.1451009064912796}],\n",
       " 'language': 'sv'}"
      ]
     },
     "execution_count": 10,
     "metadata": {},
     "output_type": "execute_result"
    }
   ],
   "source": [
    "res"
   ]
  },
  {
   "cell_type": "code",
   "execution_count": 13,
   "metadata": {},
   "outputs": [
    {
     "data": {
      "text/plain": [
       "15"
      ]
     },
     "execution_count": 13,
     "metadata": {},
     "output_type": "execute_result"
    }
   ],
   "source": [
    "len(res[\"segments\"][0][\"tokens\"])"
   ]
  },
  {
   "cell_type": "code",
   "execution_count": 8,
   "metadata": {},
   "outputs": [],
   "source": [
    "language_tokens, probs = model.detect_language(mel)"
   ]
  },
  {
   "cell_type": "code",
   "execution_count": 43,
   "metadata": {},
   "outputs": [
    {
     "data": {
      "text/plain": [
       "{'ka': 1.1760527485193961e-07,\n",
       " 'uk': 0.00011050760076614097,\n",
       " 'ps': 4.126469832499424e-07,\n",
       " 'ba': 4.256304642069608e-09,\n",
       " 'af': 1.924401431097067e-06,\n",
       " 'kn': 5.272009957479895e-07,\n",
       " 'so': 5.345439646475825e-09,\n",
       " 'ne': 5.848129376317956e-07,\n",
       " 'ja': 0.0008843151153996587,\n",
       " 'mk': 3.5319104085829167e-07,\n",
       " 'lo': 4.839035909753875e-07,\n",
       " 'hi': 0.00012629431148525327,\n",
       " 'zh': 0.0011262395419180393,\n",
       " 'lv': 1.6683612557244487e-05,\n",
       " 'et': 1.52700231410563e-05,\n",
       " 'az': 8.513211469107773e-06,\n",
       " 'sd': 7.044382641652192e-07,\n",
       " 'ml': 0.00019973318558186293,\n",
       " 'no': 0.02231231890618801,\n",
       " 'is': 0.00010205624130321667,\n",
       " 'ln': 9.586413796114357e-08,\n",
       " 'yi': 2.436002887407085e-06,\n",
       " 'ar': 0.0004886251408606768,\n",
       " 'ur': 1.1246702342759818e-05,\n",
       " 'tl': 0.0005676936125382781,\n",
       " 'bn': 3.0907585824024864e-06,\n",
       " 'am': 6.384588857599738e-08,\n",
       " 'mt': 1.5055169342303998e-06,\n",
       " 'yo': 6.955768867555889e-07,\n",
       " 'id': 0.00020396412583068013,\n",
       " 'tt': 8.788865635267484e-09,\n",
       " 'la': 0.0005797904450446367,\n",
       " 'mr': 6.714851110700693e-07,\n",
       " 'cy': 0.0002119324344675988,\n",
       " 'tr': 0.000917063734959811,\n",
       " 'sq': 4.898540737485746e-06,\n",
       " 'es': 0.002971615409478545,\n",
       " 'tk': 3.5654719177102834e-09,\n",
       " 'ro': 0.00012813875218853354,\n",
       " 'vi': 0.0006802506977692246,\n",
       " 'fi': 0.0011873483890667558,\n",
       " 'el': 0.0002098630357068032,\n",
       " 'sl': 1.853599496826064e-05,\n",
       " 'sw': 6.589613803953398e-06,\n",
       " 'sn': 7.815947355993558e-06,\n",
       " 'it': 0.001096824067644775,\n",
       " 'su': 1.457537646132323e-08,\n",
       " 'pl': 0.00040966368396766484,\n",
       " 'oc': 2.6068828447023407e-06,\n",
       " 'my': 6.949118755983363e-07,\n",
       " 'fa': 5.790623617940582e-05,\n",
       " 'jw': 0.00011692061525536701,\n",
       " 'hy': 3.1041636248119175e-06,\n",
       " 'nl': 0.001156712882220745,\n",
       " 'km': 0.00012793776113539934,\n",
       " 'bg': 1.6191606846405193e-05,\n",
       " 'si': 3.543945786077529e-05,\n",
       " 'ko': 0.002437821589410305,\n",
       " 'nn': 0.004772562999278307,\n",
       " 'pt': 0.004701153375208378,\n",
       " 'sv': 0.9029163122177124,\n",
       " 'ca': 4.831505793845281e-05,\n",
       " 'mn': 1.1968747912760591e-06,\n",
       " 'ha': 4.471686132490049e-09,\n",
       " 'as': 4.7701757210916185e-08,\n",
       " 'sk': 1.3790264347335324e-05,\n",
       " 'sr': 2.2736119262845023e-06,\n",
       " 'gu': 5.324419305452466e-08,\n",
       " 'gl': 6.345956990116974e-06,\n",
       " 'br': 2.3393376977765e-05,\n",
       " 'eu': 3.5192870200262405e-06,\n",
       " 'de': 0.002933202311396599,\n",
       " 'te': 1.2292518476897385e-05,\n",
       " 'ms': 6.83271064190194e-05,\n",
       " 'hu': 0.0005520714330486953,\n",
       " 'tg': 8.435629972325387e-09,\n",
       " 'sa': 1.079589765140554e-05,\n",
       " 'be': 4.153409918217221e-06,\n",
       " 'pa': 5.4124930102261715e-06,\n",
       " 'lb': 1.2407343596976261e-08,\n",
       " 'yue': 2.6547877496341243e-06,\n",
       " 'ht': 6.14053806202719e-06,\n",
       " 'da': 0.000872503500431776,\n",
       " 'mg': 3.962487671316239e-09,\n",
       " 'uz': 1.7142106623069253e-09,\n",
       " 'kk': 2.403901135039632e-06,\n",
       " 'fo': 5.382226845540572e-06,\n",
       " 'cs': 8.608154894318432e-05,\n",
       " 'bs': 4.1787425288930535e-06,\n",
       " 'he': 8.466935105388984e-05,\n",
       " 'hr': 4.25417092628777e-05,\n",
       " 'mi': 2.0748857423313893e-05,\n",
       " 'haw': 0.00012793703353963792,\n",
       " 'ta': 3.233854295103811e-05,\n",
       " 'ru': 0.003934795502573252,\n",
       " 'fr': 0.0012581831542775035,\n",
       " 'en': 0.038634639233350754,\n",
       " 'th': 0.00018923725292552263,\n",
       " 'bo': 3.5286581123727956e-07,\n",
       " 'lt': 4.7156878281384706e-05}"
      ]
     },
     "execution_count": 43,
     "metadata": {},
     "output_type": "execute_result"
    }
   ],
   "source": [
    "probs"
   ]
  },
  {
   "cell_type": "code",
   "execution_count": 46,
   "metadata": {},
   "outputs": [
    {
     "name": "stdout",
     "output_type": "stream",
     "text": [
      "Swedish 0.9029163122177124 English 0.038634639233350754\n"
     ]
    }
   ],
   "source": [
    "print(\"Swedish\", probs['sv'], \"English\", probs[\"en\"])"
   ]
  },
  {
   "cell_type": "code",
   "execution_count": 19,
   "metadata": {},
   "outputs": [],
   "source": [
    "from whisper.decoding import detect_language"
   ]
  },
  {
   "cell_type": "code",
   "execution_count": 40,
   "metadata": {},
   "outputs": [],
   "source": [
    "from whisper.tokenizer import LANGUAGES"
   ]
  },
  {
   "cell_type": "code",
   "execution_count": 42,
   "metadata": {},
   "outputs": [
    {
     "data": {
      "text/plain": [
       "100"
      ]
     },
     "execution_count": 42,
     "metadata": {},
     "output_type": "execute_result"
    }
   ],
   "source": [
    "len(LANGUAGES)"
   ]
  },
  {
   "cell_type": "code",
   "execution_count": null,
   "metadata": {},
   "outputs": [],
   "source": [
    "# https://discuss.huggingface.co/t/language-detection-with-whisper/26003/2\n",
    "def detect_language(model: WhisperForConditionalGeneration, tokenizer: WhisperTokenizer, input_features,\n",
    "                    possible_languages: Optional[Collection[str]] = None) -> List[Dict[str, float]]:\n",
    "    # hacky, but all language tokens and only language tokens are 6 characters long\n",
    "    language_tokens = [t for t in tokenizer.additional_special_tokens if len(t) == 6]\n",
    "    if possible_languages is not None:\n",
    "        language_tokens = [t for t in language_tokens if t[2:-2] in possible_languages]\n",
    "        if len(language_tokens) < len(possible_languages):\n",
    "            raise RuntimeError(f'Some languages in {possible_languages} did not have associated language tokens')\n",
    "\n",
    "    language_token_ids = tokenizer.convert_tokens_to_ids(language_tokens)\n",
    "\n",
    "    # 50258 is the token for transcribing\n",
    "    logits = model(input_features,\n",
    "                   decoder_input_ids = torch.tensor([[50258] for _ in range(input_features.shape[0])])).logits\n",
    "    mask = torch.ones(logits.shape[-1], dtype=torch.bool)\n",
    "    mask[language_token_ids] = False\n",
    "    logits[:, :, mask] = -float('inf')\n",
    "\n",
    "    output_probs = logits.softmax(dim=-1).cpu()\n",
    "    return [\n",
    "        {\n",
    "            lang: output_probs[input_idx, 0, token_id].item()\n",
    "            for token_id, lang in zip(language_token_ids, language_tokens)\n",
    "        }"
   ]
  },
  {
   "cell_type": "code",
   "execution_count": 18,
   "metadata": {},
   "outputs": [],
   "source": [
    "from typing import Tuple, List\n",
    "import numpy as np\n",
    "import torch\n",
    "from torch import Tensor\n",
    "from whisper.tokenizer import Tokenizer, get_tokenizer\n",
    "from whisper.model import Whisper\n",
    "\n",
    "@torch.no_grad()\n",
    "def detect_language(\n",
    "    model: \"Whisper\", mel: Tensor, tokenizer: Tokenizer = None\n",
    ") -> Tuple[Tensor, List[dict]]:\n",
    "    \"\"\"\n",
    "    Detect the spoken language in the audio, and return them as list of strings, along with the ids\n",
    "    of the most probable language tokens and the probability distribution over all language tokens.\n",
    "    This is performed outside the main decode loop in order to not interfere with kv-caching.\n",
    "\n",
    "    Returns\n",
    "    -------\n",
    "    language_tokens : Tensor, shape = (n_audio,)\n",
    "        ids of the most probable language tokens, which appears after the startoftranscript token.\n",
    "    language_probs : List[Dict[str, float]], length = n_audio\n",
    "        list of dictionaries containing the probability distribution over all languages.\n",
    "    \"\"\"\n",
    "    if tokenizer is None:\n",
    "        tokenizer = get_tokenizer(\n",
    "            model.is_multilingual, num_languages=model.num_languages\n",
    "        )\n",
    "    if (\n",
    "        tokenizer.language is None\n",
    "        or tokenizer.language_token not in tokenizer.sot_sequence\n",
    "    ):\n",
    "        raise ValueError(\n",
    "            \"This model doesn't have language tokens so it can't perform lang id\"\n",
    "        )\n",
    "\n",
    "    single = mel.ndim == 2\n",
    "    if single:\n",
    "        mel = mel.unsqueeze(0)\n",
    "\n",
    "    # skip encoder forward pass if already-encoded audio features were given\n",
    "    if mel.shape[-2:] != (model.dims.n_audio_ctx, model.dims.n_audio_state):\n",
    "        mel = model.encoder(mel)\n",
    "\n",
    "    # forward pass using a single token, startoftranscript\n",
    "    n_audio = mel.shape[0]\n",
    "    x = torch.tensor([[tokenizer.sot]] * n_audio).to(mel.device)  # [n_audio, 1]\n",
    "    logits = model.logits(x, mel)[:, 0]\n",
    "\n",
    "    # collect detected languages; suppress all non-language tokens\n",
    "    mask = torch.ones(logits.shape[-1], dtype=torch.bool)\n",
    "    mask[list(tokenizer.all_language_tokens)] = False\n",
    "    logits[:, mask] = -np.inf\n",
    "    language_tokens = logits.argmax(dim=-1)\n",
    "    language_token_probs = logits.softmax(dim=-1).cpu()\n",
    "    print(range(n_audio))\n",
    "    language_probs = [\n",
    "        {\n",
    "            c: language_token_probs[i, j].item()\n",
    "            for j, c in zip(tokenizer.all_language_tokens, tokenizer.all_language_codes)\n",
    "        }\n",
    "        for i in range(n_audio)\n",
    "    ]\n",
    "\n",
    "    if single:\n",
    "        language_tokens = language_tokens[0]\n",
    "        language_probs = language_probs[0]\n",
    "\n",
    "    return language_tokens, language_probs\n"
   ]
  },
  {
   "cell_type": "code",
   "execution_count": 19,
   "metadata": {},
   "outputs": [
    {
     "name": "stdout",
     "output_type": "stream",
     "text": [
      "range(0, 1)\n"
     ]
    },
    {
     "data": {
      "text/plain": [
       "(tensor(50273, device='cuda:0'),\n",
       " {'uz': 1.7174780486683972e-09,\n",
       "  'ht': 6.1525997807621025e-06,\n",
       "  'fr': 0.0012591310078278184,\n",
       "  'yi': 2.4405899239354767e-06,\n",
       "  'mk': 3.538264650160272e-07,\n",
       "  'cs': 8.614607941126451e-05,\n",
       "  'mg': 3.969078399279624e-09,\n",
       "  'ta': 3.23603417200502e-05,\n",
       "  'yo': 6.964402814446657e-07,\n",
       "  'zh': 0.0011274180142208934,\n",
       "  'mi': 2.076449163723737e-05,\n",
       "  'pa': 5.417733063950436e-06,\n",
       "  'nn': 0.004780774936079979,\n",
       "  'id': 0.00020417656924109906,\n",
       "  'ru': 0.003940355498343706,\n",
       "  'sq': 4.905341484118253e-06,\n",
       "  'tl': 0.0005684708594344556,\n",
       "  'ln': 9.602927519836157e-08,\n",
       "  'be': 4.160949174547568e-06,\n",
       "  'lt': 4.7240453568520024e-05,\n",
       "  'sw': 6.595484137505991e-06,\n",
       "  'br': 2.3454422262148e-05,\n",
       "  'fo': 5.391081231209682e-06,\n",
       "  'et': 1.5284851542674005e-05,\n",
       "  'as': 4.777654893928229e-08,\n",
       "  'sa': 1.0819299859576859e-05,\n",
       "  'th': 0.00018940492009278387,\n",
       "  'mt': 1.5074173234097543e-06,\n",
       "  'jw': 0.00011716379958670586,\n",
       "  'ba': 4.263531305781498e-09,\n",
       "  'sr': 2.2764468212699285e-06,\n",
       "  'bg': 1.6217858501477167e-05,\n",
       "  'en': 0.03867207467556,\n",
       "  'lo': 4.847657919526682e-07,\n",
       "  'lb': 1.2434312246512036e-08,\n",
       "  'ka': 1.1771812324923303e-07,\n",
       "  'it': 0.0010978105710819364,\n",
       "  'is': 0.00010215787187917158,\n",
       "  'km': 0.00012829547631554306,\n",
       "  'bs': 4.184631507087033e-06,\n",
       "  'so': 5.354259258183447e-09,\n",
       "  'eu': 3.527006811054889e-06,\n",
       "  'ko': 0.0024401491973549128,\n",
       "  'ja': 0.000885488698258996,\n",
       "  'af': 1.925832748383982e-06,\n",
       "  'hr': 4.258533226675354e-05,\n",
       "  'sk': 1.380268167849863e-05,\n",
       "  'tg': 8.448984623043998e-09,\n",
       "  'ro': 0.00012826501915697008,\n",
       "  'lv': 1.6695257727405988e-05,\n",
       "  'ur': 1.124040409195004e-05,\n",
       "  'hi': 0.00012638162297662348,\n",
       "  'haw': 0.00012816034723073244,\n",
       "  'pt': 0.0047041927464306355,\n",
       "  'mr': 6.726026526848727e-07,\n",
       "  'gu': 5.3307942948777054e-08,\n",
       "  'no': 0.022346746176481247,\n",
       "  'gl': 6.355111963785021e-06,\n",
       "  'ne': 5.857141900378338e-07,\n",
       "  'yue': 2.657874802025617e-06,\n",
       "  'oc': 2.6132418042834615e-06,\n",
       "  'bo': 3.533769188379665e-07,\n",
       "  'es': 0.002974790520966053,\n",
       "  'su': 1.4601014619586294e-08,\n",
       "  'bn': 3.092594852205366e-06,\n",
       "  'az': 8.518089998688083e-06,\n",
       "  'cy': 0.0002121040306519717,\n",
       "  'he': 8.471269393339753e-05,\n",
       "  'kn': 5.279696324578254e-07,\n",
       "  'si': 3.54967123712413e-05,\n",
       "  'hy': 3.1078329811862204e-06,\n",
       "  'sd': 7.054907769088459e-07,\n",
       "  'sv': 0.9028066992759705,\n",
       "  'hu': 0.0005526221939362586,\n",
       "  'uk': 0.00011060816905228421,\n",
       "  'fa': 5.793134550913237e-05,\n",
       "  'my': 6.957391747164365e-07,\n",
       "  'la': 0.0005809957510791719,\n",
       "  'te': 1.2303128642088268e-05,\n",
       "  'el': 0.00021006180031690747,\n",
       "  'ha': 4.478688087061755e-09,\n",
       "  'vi': 0.0006805314915254712,\n",
       "  'pl': 0.00041012599831447005,\n",
       "  'ps': 4.130748436637077e-07,\n",
       "  'ca': 4.8350164433941245e-05,\n",
       "  'sl': 1.856504059105646e-05,\n",
       "  'ml': 0.0001999896630877629,\n",
       "  'fi': 0.001187938149087131,\n",
       "  'de': 0.0029353112913668156,\n",
       "  'kk': 2.407968622719636e-06,\n",
       "  'ms': 6.839346315246075e-05,\n",
       "  'tt': 8.80670913971926e-09,\n",
       "  'sn': 7.830321919755079e-06,\n",
       "  'am': 6.394208185156458e-08,\n",
       "  'ar': 0.000489001686219126,\n",
       "  'nl': 0.0011575269745662808,\n",
       "  'da': 0.0008723950595594943,\n",
       "  'tk': 3.5715321811125023e-09,\n",
       "  'tr': 0.000918073405046016,\n",
       "  'mn': 1.1993125781373237e-06})"
      ]
     },
     "execution_count": 19,
     "metadata": {},
     "output_type": "execute_result"
    }
   ],
   "source": [
    "detect_language(model, mel=mel)"
   ]
  }
 ],
 "metadata": {
  "kernelspec": {
   "display_name": "hf_new",
   "language": "python",
   "name": "python3"
  },
  "language_info": {
   "codemirror_mode": {
    "name": "ipython",
    "version": 3
   },
   "file_extension": ".py",
   "mimetype": "text/x-python",
   "name": "python",
   "nbconvert_exporter": "python",
   "pygments_lexer": "ipython3",
   "version": "3.10.13"
  }
 },
 "nbformat": 4,
 "nbformat_minor": 2
}
