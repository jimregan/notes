{
 "cells": [
  {
   "cell_type": "code",
   "execution_count": 1,
   "metadata": {
    "tags": [
     "parameters"
    ]
   },
   "outputs": [],
   "source": [
    "wav_files = \"/Users/joregan/Playing/hsi/audio\"\n",
    "textgrids = \"/Users/joregan/Playing/hsi_ctmedit/textgrid/\"\n",
    "output = \"/tmp/hsifairseq\""
   ]
  },
  {
   "cell_type": "code",
   "execution_count": 2,
   "metadata": {},
   "outputs": [],
   "source": [
    "from pydub import AudioSegment"
   ]
  },
  {
   "cell_type": "code",
   "execution_count": 3,
   "metadata": {},
   "outputs": [],
   "source": [
    "from praatio import textgrid"
   ]
  },
  {
   "cell_type": "code",
   "execution_count": 4,
   "metadata": {},
   "outputs": [],
   "source": [
    "from pathlib import Path\n",
    "\n",
    "tgpath = Path(textgrids)\n",
    "wavpath = Path(wav_files)\n",
    "outpath = Path(output)"
   ]
  },
  {
   "cell_type": "code",
   "execution_count": 5,
   "metadata": {},
   "outputs": [],
   "source": [
    "parameters = [\"-ac\", \"1\", \"-acodec\", \"pcm_s16le\", \"-ar\", \"16000\"]"
   ]
  },
  {
   "cell_type": "code",
   "execution_count": 6,
   "metadata": {},
   "outputs": [],
   "source": [
    "def fsify(text):\n",
    "    words = text.split(\" \")\n",
    "    words = [w.strip(\"\\\",.;:?!\").upper() for w in words if not w.startswith(\"[\")]\n",
    "    words = [\" \".join(w) for w in words]\n",
    "    return \" | \".join(words) + \" |\""
   ]
  },
  {
   "cell_type": "code",
   "execution_count": 7,
   "metadata": {},
   "outputs": [
    {
     "data": {
      "text/plain": [
       "'T H I S | I S | A | T E S S T |'"
      ]
     },
     "execution_count": 7,
     "metadata": {},
     "output_type": "execute_result"
    }
   ],
   "source": [
    "fsify(\"This is a tesst,\")"
   ]
  },
  {
   "cell_type": "code",
   "execution_count": 8,
   "metadata": {},
   "outputs": [],
   "source": [
    "import re\n",
    "\n",
    "tsv_lines = []\n",
    "ltr_lines = []\n",
    "\n",
    "if not outpath.exists():\n",
    "    outpath.mkdir()\n",
    "\n",
    "for textgridfile in tgpath.glob(\"*.[Tt]ext[Gg]rid\"):\n",
    "    tg = textgrid.openTextgrid(textgridfile, includeEmptyIntervals=False)\n",
    "    wavfile = wavpath / f\"{textgridfile.stem}.wav\"\n",
    "    wav = AudioSegment.from_wav(str(wavfile))\n",
    "\n",
    "    if len(tg.tierNames) == 1:\n",
    "        tier = tg.getTier(tg.tierNames[0])\n",
    "    elif \"whisperx\" in tg.tierNames:\n",
    "        tier = tg.getTier(\"whisperx\")\n",
    "    elif \"utterances\" in tg.tierNames:\n",
    "        tier = tg.getTier(\"utterances\")\n",
    "    elif \"words\" in tg.tierNames:\n",
    "        tier = tg.getTier(\"words\")\n",
    "    else:\n",
    "        print(\"Be careful: file\", textgridfile, \"has none of the expected tier names\")\n",
    "\n",
    "    for interval in tier.entries:\n",
    "        start = interval[0]\n",
    "        end = interval[1]\n",
    "        text = interval[2]\n",
    "\n",
    "        m = re.match(\"^\\[[^]]+\\]$\", text)\n",
    "        if m:\n",
    "            continue\n",
    "        start_ms = int(start * 1000)\n",
    "        end_ms = int(end * 1000)\n",
    "\n",
    "        wavname = f\"{textgridfile.stem}_{start_ms}_{end_ms}.wav\"\n",
    "        clip = wav[start_ms:end_ms]\n",
    "        clip.set_frame_rate(16000)\n",
    "        clip.export(str(outpath / wavname), format=\"wav\", parameters=parameters)\n",
    "        tsv_lines.append(f\"{wavname}\\t{int(clip.frame_count())}\")\n",
    "        ltr_lines.append(fsify(text))\n",
    "\n"
   ]
  },
  {
   "cell_type": "code",
   "execution_count": 9,
   "metadata": {},
   "outputs": [],
   "source": [
    "with open(str(outpath / \"train.tsv\"), \"w\") as tsvf:\n",
    "    tsvf.write(\"\\n\".join(tsv_lines))"
   ]
  },
  {
   "cell_type": "code",
   "execution_count": 10,
   "metadata": {},
   "outputs": [],
   "source": [
    "with open(str(outpath / \"train.ltr\"), \"w\") as ltrf:\n",
    "    ltrf.write(\"\\n\".join(ltr_lines))"
   ]
  }
 ],
 "metadata": {
  "kernelspec": {
   "display_name": "hf",
   "language": "python",
   "name": "python3"
  },
  "language_info": {
   "codemirror_mode": {
    "name": "ipython",
    "version": 3
   },
   "file_extension": ".py",
   "mimetype": "text/x-python",
   "name": "python",
   "nbconvert_exporter": "python",
   "pygments_lexer": "ipython3",
   "version": "3.9.15"
  }
 },
 "nbformat": 4,
 "nbformat_minor": 2
}
