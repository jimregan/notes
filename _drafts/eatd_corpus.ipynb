{
 "cells": [
  {
   "cell_type": "code",
   "execution_count": 1,
   "metadata": {},
   "outputs": [],
   "source": [
    "from pathlib import Path"
   ]
  },
  {
   "cell_type": "code",
   "execution_count": 2,
   "metadata": {},
   "outputs": [
    {
     "name": "stderr",
     "output_type": "stream",
     "text": [
      "/Users/joregan/opt/anaconda3/envs/hf/lib/python3.9/site-packages/tqdm/auto.py:22: TqdmWarning: IProgress not found. Please update jupyter and ipywidgets. See https://ipywidgets.readthedocs.io/en/stable/user_install.html\n",
      "  from .autonotebook import tqdm as notebook_tqdm\n"
     ]
    }
   ],
   "source": [
    "import datasets\n",
    "from datasets.tasks import AutomaticSpeechRecognition"
   ]
  },
  {
   "cell_type": "code",
   "execution_count": null,
   "metadata": {},
   "outputs": [],
   "source": [
    "\n",
    "\n",
    "class EATDDataset(datasets.GeneratorBasedBuilder):\n",
    "    VERSION = datasets.Version(\"1.1.0\")\n",
    "\n",
    "    BUILDER_CONFIGS = [\n",
    "        datasets.BuilderConfig(name=\"speech\", version=VERSION, description=\"Data for speech recognition\"),\n",
    "    ]\n",
    "\n",
    "    def _info(self):\n",
    "        features = datasets.Features(\n",
    "            {\n",
    "                \"audio\": datasets.Audio(sampling_rate=44_100),\n",
    "                \"pitch_tracker\": datasets.Audio(sampling_rate=44_100),\n",
    "                \"text\": datasets.Value(\"string\"),\n",
    "                \"file_stem\": datasets.Value(\"string\"),\n",
    "            }\n",
    "        )\n",
    "\n",
    "        return datasets.DatasetInfo(\n",
    "            description=_DESCRIPTION,\n",
    "            features=features,\n",
    "            supervised_keys=None,\n",
    "            homepage=_URL,\n",
    "            task_templates=[\n",
    "                AutomaticSpeechRecognition(audio_column=\"audio\", transcription_column=\"text\")\n",
    "            ],\n",
    "        )"
   ]
  }
 ],
 "metadata": {
  "kernelspec": {
   "display_name": "hf",
   "language": "python",
   "name": "python3"
  },
  "language_info": {
   "codemirror_mode": {
    "name": "ipython",
    "version": 3
   },
   "file_extension": ".py",
   "mimetype": "text/x-python",
   "name": "python",
   "nbconvert_exporter": "python",
   "pygments_lexer": "ipython3",
   "version": "3.9.15"
  }
 },
 "nbformat": 4,
 "nbformat_minor": 2
}
