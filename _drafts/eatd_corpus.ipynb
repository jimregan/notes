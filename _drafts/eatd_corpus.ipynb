{
 "cells": [
  {
   "cell_type": "code",
   "execution_count": 1,
   "metadata": {},
   "outputs": [],
   "source": [
    "from pathlib import Path"
   ]
  },
  {
   "cell_type": "code",
   "execution_count": 2,
   "metadata": {},
   "outputs": [
    {
     "name": "stderr",
     "output_type": "stream",
     "text": [
      "/Users/joregan/opt/anaconda3/envs/hf/lib/python3.9/site-packages/tqdm/auto.py:22: TqdmWarning: IProgress not found. Please update jupyter and ipywidgets. See https://ipywidgets.readthedocs.io/en/stable/user_install.html\n",
      "  from .autonotebook import tqdm as notebook_tqdm\n"
     ]
    }
   ],
   "source": [
    "import datasets\n",
    "from datasets.tasks import AutomaticSpeechRecognition"
   ]
  },
  {
   "cell_type": "code",
   "execution_count": 3,
   "metadata": {},
   "outputs": [],
   "source": [
    "import os"
   ]
  },
  {
   "cell_type": "code",
   "execution_count": null,
   "metadata": {},
   "outputs": [],
   "source": [
    "_DESCRIPTION = \"\"\"\n",
    "An Emotional Audio-Textual Corpus\n",
    "\n",
    "The EATD-Corpus is a dataset that consists of audio and text files of 162 volunteers who received counseling.\n",
    "\n",
    "Training set contains data from 83 volunteers (19 depressed and 64 non-depressed).\n",
    "\n",
    "Validation set contains data from 79 volunteers (11 depressed and 68 non-depressed).\n",
    "\"\"\"\n",
    "\n",
    "\n",
    "_URL = \"https://github.com/speechandlanguageprocessing/ICASSP2022-Depression\"\n",
    "\n",
    "\n",
    "_CITE = \"\"\"\n",
    "@INPROCEEDINGS{9746569,\n",
    "  author={Shen, Ying and Yang, Huiyu and Lin, Lin},\n",
    "  booktitle={ICASSP 2022 - 2022 IEEE International Conference on Acoustics, Speech and Signal Processing (ICASSP)}, \n",
    "  title={Automatic Depression Detection: an Emotional Audio-Textual Corpus and A Gru/Bilstm-Based Model}, \n",
    "  year={2022},\n",
    "  pages={6247-6251},\n",
    "  doi={10.1109/ICASSP43922.2022.9746569}\n",
    "}\n",
    "\"\"\"\n",
    "\n",
    "class EATDDataset(datasets.GeneratorBasedBuilder):\n",
    "    VERSION = datasets.Version(\"1.1.0\")\n",
    "\n",
    "    BUILDER_CONFIGS = [\n",
    "        datasets.BuilderConfig(name=\"speech\", version=VERSION, description=\"Data for speech recognition\"),\n",
    "    ]\n",
    "\n",
    "    def _info(self):\n",
    "        features = datasets.Features(\n",
    "            {\n",
    "                \"audio\": datasets.Audio(sampling_rate=44_100),\n",
    "                \"pitch_tracker\": datasets.Audio(sampling_rate=44_100),\n",
    "                \"text\": datasets.Value(\"string\"),\n",
    "                \"file_stem\": datasets.Value(\"string\"),\n",
    "            }\n",
    "        )\n",
    "\n",
    "        return datasets.DatasetInfo(\n",
    "            description=_DESCRIPTION,\n",
    "            features=features,\n",
    "            supervised_keys=None,\n",
    "            homepage=_URL,\n",
    "            task_templates=[\n",
    "                AutomaticSpeechRecognition(audio_column=\"audio\", transcription_column=\"text\")\n",
    "            ],\n",
    "        )\n",
    "\n",
    "    def _split_generators(self, dl_manager):\n",
    "        if hasattr(dl_manager, 'manual_dir') and dl_manager.manual_dir is not None:\n",
    "            data_dir = os.path.abspath(os.path.expanduser(dl_manager.manual_dir))\n",
    "            AUDIO_FILE = os.path.join(data_dir, _AUDIO_URL.split(\"/\")[-1])\n",
    "            audio_dir = dl_manager.extract(AUDIO_FILE)\n",
    "        else:\n",
    "            audio_dir = dl_manager.download_and_extract(_AUDIO_URL)\n",
    "        return [\n",
    "            datasets.SplitGenerator(\n",
    "                name=datasets.Split.TRAIN,\n",
    "                gen_kwargs={\n",
    "                    \"split\": \"train\",\n",
    "                    \"audio_dir\": audio_dir,\n",
    "                },\n",
    "            ),\n",
    "        ]\n",
    "\n",
    "    def _generate_examples(\n",
    "        self, split, audio_dir\n",
    "    ):\n",
    "        filepath = Path(audio_dir) / \"sw_pcms\" / \"mf\"\n",
    "        textpath = Path(audio_dir) / \"sw_pcms\" / \"scripts\" / \"mf\" / \"sw_all\"\n",
    "        transcripts = {}\n",
    "        counter = 1\n",
    "        with open(str(textpath), encoding=\"latin1\") as text:\n",
    "            for line in text.readlines():\n",
    "                line = line.strip()\n",
    "                if line in IGNORE_SENT:\n",
    "                    if f\"{counter:04d}\" in IGNORE_ID:\n",
    "                        counter += 1\n",
    "                    continue\n",
    "                else:\n",
    "                    id = f\"sw_all_mf_01_{counter:04d}\"\n",
    "                    transcripts[id] = line\n",
    "                    counter += 1\n",
    "        for file in filepath.glob(\"*.pcm\"):\n",
    "            stem = file.stem\n",
    "            id = stem.split(\"_\")[-1]\n",
    "            if is_pcm(str(file)) and not id in IGNORE_ID:\n",
    "                data, _ = read_with_soundfile(str(file))\n",
    "                yield stem, {\n",
    "                    \"audio\": {\n",
    "                        \"array\": data[:, 1],\n",
    "                        \"sampling_rate\": 44_100,\n",
    "                        \"path\": str(file),\n",
    "                        \"id\": stem,\n",
    "                    },\n",
    "                    \"pitch_tracker\": {\n",
    "                        \"array\": data[:, 0],\n",
    "                        \"sampling_rate\": 44_100,\n",
    "                        \"path\": str(file),\n",
    "                        \"id\": stem,\n",
    "                    },\n",
    "                    \"text\": transcripts[stem],\n",
    "                    \"file_stem\": stem,\n",
    "                }\n",
    "                "
   ]
  }
 ],
 "metadata": {
  "kernelspec": {
   "display_name": "hf",
   "language": "python",
   "name": "python3"
  },
  "language_info": {
   "codemirror_mode": {
    "name": "ipython",
    "version": 3
   },
   "file_extension": ".py",
   "mimetype": "text/x-python",
   "name": "python",
   "nbconvert_exporter": "python",
   "pygments_lexer": "ipython3",
   "version": "3.9.15"
  }
 },
 "nbformat": 4,
 "nbformat_minor": 2
}
