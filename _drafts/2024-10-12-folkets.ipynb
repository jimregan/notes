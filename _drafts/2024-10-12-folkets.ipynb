{
 "cells": [
  {
   "cell_type": "code",
   "execution_count": 1,
   "metadata": {},
   "outputs": [],
   "source": [
    "DICT=\"https://folkets-lexikon.csc.kth.se/folkets/folkets_sv_en_public.xml\""
   ]
  },
  {
   "cell_type": "code",
   "execution_count": 2,
   "metadata": {},
   "outputs": [],
   "source": [
    "import requests\n",
    "\n",
    "req = requests.get(DICT)"
   ]
  },
  {
   "cell_type": "code",
   "execution_count": 4,
   "metadata": {},
   "outputs": [],
   "source": [
    "assert req.status_code == 200"
   ]
  },
  {
   "cell_type": "code",
   "execution_count": 7,
   "metadata": {},
   "outputs": [],
   "source": [
    "import xml.etree.ElementTree as ET\n",
    "\n",
    "tree = ET.fromstring(req.text)"
   ]
  },
  {
   "cell_type": "code",
   "execution_count": 28,
   "metadata": {},
   "outputs": [],
   "source": [
    "words =  []\n",
    "for word_elem in tree.findall(\"word\"):\n",
    "    word = {\n",
    "        \"word\": word_elem.attrib[\"value\"],\n",
    "    }\n",
    "    for attrib in [\"comment\", \"lang\", \"class\"]:\n",
    "        if attrib in word_elem.attrib:\n",
    "            word[attrib] = word_elem.attrib[attrib]\n",
    "    phon = word_elem.find(\"phonetic\")\n",
    "    if phon is not None:\n",
    "        if \"soundFile\" in phon.attrib:\n",
    "            word[\"soundfile\"] = phon.attrib[\"soundFile\"]\n",
    "        word[\"transcription\"] = phon.attrib[\"value\"]\n",
    "    words.append(word)"
   ]
  },
  {
   "cell_type": "markdown",
   "metadata": {},
   "source": [
    "* [à](http://lexin.nada.kth.se/sound/0340.mp3)\n",
    "* [à la carte](https://lexin.nada.kth.se/sound/0340%20la%20carte.mp3)\n",
    "* [abbé](http://lexin.nada.kth.se/sound/abb0351.mp3)\n",
    "* [övärld](http://lexin.nada.kth.se/sound/0366v0344rld.mp3)\n",
    "* [advokatbyrå](http://lexin.nada.kth.se/sound/advokatbyr0345.mp3)\n",
    "* [chargé-d&#39;affaires](http://lexin.nada.kth.se/sound/charg0351-d'affaires.mp3)\n",
    "* [crêpe](http://lexin.nada.kth.se/sound/cr0352pe.mp3)\n",
    "* [d.v.s.](http://lexin.nada.kth.se/sound/d.v.s..mp3)\n",
    "* [Öland](http://lexin.nada.kth.se/sound/0326land.mp3)\n",
    "* [SÄPO](http://lexin.nada.kth.se/sound/S0304PO.mp3)\n",
    "* [Ångermanland](http://lexin.nada.kth.se/sound/0305ngermanland.mp3)\n"
   ]
  },
  {
   "cell_type": "code",
   "execution_count": 46,
   "metadata": {},
   "outputs": [],
   "source": [
    "CHAR_REPLACE = {\n",
    "    \"à\": \"0340\",\n",
    "    \"é\": \"0351\",\n",
    "    \"Ö\": \"0326\",\n",
    "    \"ö\": \"0366\",\n",
    "    \"Ä\": \"0304\",\n",
    "    \"ä\": \"0344\",\n",
    "    \"Å\": \"0305\",\n",
    "    \"å\": \"0345\",\n",
    "    \"ê\": \"0352\",\n",
    "    \"&#39;\": \"'\",\n",
    "}"
   ]
  },
  {
   "cell_type": "code",
   "execution_count": 47,
   "metadata": {},
   "outputs": [
    {
     "name": "stdout",
     "output_type": "stream",
     "text": [
      "chargé-d&#39;affaires\n",
      "d.v.s.\n",
      "dvs.\n",
      "handskas med2\n",
      "inf246r\n",
      "inför 050\n",
      "kommando 050\n",
      "kvällskvist(en)\n",
      "os 050\n",
      "satkär(r)ing\n",
      "ut 050\n"
     ]
    }
   ],
   "source": [
    "PLAINASCII = \"ABCDEFGHIJKLMNOPQRSTUVWXYZabcdefghijklmnopqrstuvwxyz- \"\n",
    "\n",
    "seen = []\n",
    "for word in words:\n",
    "    if \"soundfile\" in word:\n",
    "        if word[\"soundfile\"].startswith(\"http://\"):\n",
    "            if \"sound/http://\" in word[\"soundfile\"]:\n",
    "                lindex = word[\"soundfile\"].rfind(\"http://\")\n",
    "                word[\"url\"] = word[\"soundfile\"][lindex:]\n",
    "            else:\n",
    "                word[\"url\"] = word[\"soundfile\"]\n",
    "            del(word[\"soundfile\"])\n",
    "            continue\n",
    "        sf = word[\"soundfile\"].replace(\".swf\", \"\")\n",
    "        for chars in list(sf):\n",
    "            ascii_tastic = True\n",
    "            for char in chars:\n",
    "                if char not in PLAINASCII:\n",
    "                    if char in CHAR_REPLACE:\n",
    "                        continue\n",
    "                    ascii_tastic = False\n",
    "            if not ascii_tastic:\n",
    "                if not sf in seen:\n",
    "                    print(sf)\n",
    "                seen.append(sf)"
   ]
  },
  {
   "cell_type": "code",
   "execution_count": 60,
   "metadata": {},
   "outputs": [],
   "source": [
    "MISSING = [\n",
    "    \"arbetsmarknadsinstitut\", \"becquerel\", \"inner-\",\n",
    "    \"j0344mn-\", \"j0344tte-\", \"kanon-\", \"svin-\"\n",
    "]\n",
    "\n",
    "for word in words:\n",
    "    if \"soundfile\" in word and not \"url\" in word:\n",
    "        sf = word[\"soundfile\"]\n",
    "        sf = sf.replace(\".swf\", \"\")\n",
    "        for repl in CHAR_REPLACE:\n",
    "            sf = sf.replace(repl, CHAR_REPLACE[repl])\n",
    "        if sf.startswith(\" \"):\n",
    "            sf = sf[1:]\n",
    "        if sf in MISSING:\n",
    "            continue\n",
    "        word[\"url\"] = f\"http://lexin.nada.kth.se/sound/{sf}.mp3\""
   ]
  },
  {
   "cell_type": "code",
   "execution_count": 61,
   "metadata": {},
   "outputs": [],
   "source": [
    "import json\n",
    "with open(\"/tmp/folkets-sv-en.json\", \"w\") as outf:\n",
    "    json.dump(words, outf)"
   ]
  },
  {
   "cell_type": "code",
   "execution_count": 64,
   "metadata": {},
   "outputs": [],
   "source": [
    "seen = []\n",
    "with open(\"/tmp/folkets-sounds.tsv\", \"w\") as outf:\n",
    "    for word in words:\n",
    "        if not \"url\" in word:\n",
    "            continue\n",
    "        if \"transcription\" in word:\n",
    "            ts = word[\"transcription\"]\n",
    "        else:\n",
    "            ts = \"\"\n",
    "        line = f\"{word['word']}\\t{ts}\\t{word['url']}\"\n",
    "        if not line in seen:\n",
    "            outf.write(line + \"\\n\")\n",
    "            seen.append(line)"
   ]
  },
  {
   "cell_type": "markdown",
   "metadata": {},
   "source": [
    "Through sheer laziness, the audio was downloaded like this:\n",
    "```bash\n",
    "cat /tmp/folkets-sounds.tsv | awk -F'\\t' '{print $3}' > /tmp/folkets-urls\n",
    "wget -x -c -i /tmp/folkets-urls -o /tmp/folkets-urls.log\n",
    "```"
   ]
  }
 ],
 "metadata": {
  "language_info": {
   "name": "python"
  }
 },
 "nbformat": 4,
 "nbformat_minor": 2
}
