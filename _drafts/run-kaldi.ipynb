{
 "cells": [
  {
   "cell_type": "markdown",
   "id": "e48cb10e",
   "metadata": {},
   "source": [
    "Originally run:\n",
    "\n",
    "```bash\n",
    "docker run -it --shm-size=8g  --gpus all \\\n",
    "-v\"/shared/joregan/kaldi_swe/data:/opt/kaldi/egs/sprakbanken_swe/s5/data\" \\\n",
    "-v\"/shared/joregan/kaldi_swe/exp:/opt/kaldi/egs/sprakbanken_swe/s5/exp\" \\\n",
    "-v\"/shared/joregan/kaldi_swe/mfcc:/opt/kaldi/egs/sprakbanken_swe/s5/mfcc\" kaldiasr/kaldi\n",
    "```"
   ]
  },
  {
   "cell_type": "markdown",
   "id": "eaa93ad3",
   "metadata": {},
   "source": [
    "(Failed) attempt with docker:"
   ]
  },
  {
   "cell_type": "markdown",
   "id": "2868a2b7",
   "metadata": {},
   "source": [
    "```slurm\n",
    "#!/bin/bash\n",
    "#SBATCH --job-name=kaldi_docker\n",
    "#SBATCH --output=kaldi_docker_%j.out\n",
    "#SBATCH --error=kaldi_docker_%j.err\n",
    "#SBATCH --nodelist=deepspeech\n",
    "#SBATCH --gres=gpu:1\n",
    "#SBATCH --cpus-per-task=16\n",
    "#SBATCH --mem=1M                    # workaround due to misreported memory\n",
    "#SBATCH --time=2-00:00:00           # 2 days max runtime\n",
    "\n",
    "echo \"Starting job on $SLURMD_NODENAME at $(date)\"\n",
    "echo \"Launching Kaldi Docker container...\"\n",
    "\n",
    "docker run --shm-size=8g --gpus all \\\n",
    "  -v \"/shared/joregan/kaldi_swe/data:/opt/kaldi/egs/sprakbanken_swe/s5/data\" \\\n",
    "  -v \"/shared/joregan/kaldi_swe/exp:/opt/kaldi/egs/sprakbanken_swe/s5/exp\" \\\n",
    "  -v \"/shared/joregan/kaldi_swe/mfcc:/opt/kaldi/egs/sprakbanken_swe/s5/mfcc\" \\\n",
    "  kaldiasr/kaldi bash -c \"cd /opt/kaldi/egs/sprakbanken_swe/s5 && ./run.sh\"\n",
    "\n",
    "echo \"Job completed at $(date)\"\n",
    "```"
   ]
  },
  {
   "cell_type": "markdown",
   "id": "e11e1467",
   "metadata": {},
   "source": []
  }
 ],
 "metadata": {
  "language_info": {
   "name": "python"
  }
 },
 "nbformat": 4,
 "nbformat_minor": 5
}
