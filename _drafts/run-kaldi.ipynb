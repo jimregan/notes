{
 "cells": [
  {
   "cell_type": "markdown",
   "id": "e48cb10e",
   "metadata": {},
   "source": [
    "Originally run:\n",
    "\n",
    "```bash\n",
    "docker run -it --shm-size=8g  --gpus all \\\n",
    "-v\"/shared/joregan/kaldi_swe/data:/opt/kaldi/egs/sprakbanken_swe/s5/data\" \\\n",
    "-v\"/shared/joregan/kaldi_swe/exp:/opt/kaldi/egs/sprakbanken_swe/s5/exp\" \\\n",
    "-v\"/shared/joregan/kaldi_swe/mfcc:/opt/kaldi/egs/sprakbanken_swe/s5/mfcc\" kaldiasr/kaldi\n",
    "```"
   ]
  },
  {
   "cell_type": "markdown",
   "id": "eaa93ad3",
   "metadata": {},
   "source": [
    "(Failed) attempt with docker:"
   ]
  },
  {
   "cell_type": "markdown",
   "id": "2868a2b7",
   "metadata": {},
   "source": [
    "```slurm\n",
    "#!/bin/bash\n",
    "#SBATCH --job-name=kaldi_docker\n",
    "#SBATCH --output=kaldi_docker_%j.out\n",
    "#SBATCH --error=kaldi_docker_%j.err\n",
    "#SBATCH --nodelist=deepspeech\n",
    "#SBATCH --gres=gpu:1\n",
    "#SBATCH --cpus-per-task=16\n",
    "#SBATCH --mem=1M                    # workaround due to misreported memory\n",
    "#SBATCH --time=2-00:00:00           # 2 days max runtime\n",
    "\n",
    "echo \"Starting job on $SLURMD_NODENAME at $(date)\"\n",
    "echo \"Launching Kaldi Docker container...\"\n",
    "\n",
    "docker run --shm-size=8g --gpus all \\\n",
    "  -v \"/shared/joregan/kaldi_swe/data:/opt/kaldi/egs/sprakbanken_swe/s5/data\" \\\n",
    "  -v \"/shared/joregan/kaldi_swe/exp:/opt/kaldi/egs/sprakbanken_swe/s5/exp\" \\\n",
    "  -v \"/shared/joregan/kaldi_swe/mfcc:/opt/kaldi/egs/sprakbanken_swe/s5/mfcc\" \\\n",
    "  kaldiasr/kaldi bash -c \"cd /opt/kaldi/egs/sprakbanken_swe/s5 && ./run.sh\"\n",
    "\n",
    "echo \"Job completed at $(date)\"\n",
    "```"
   ]
  },
  {
   "cell_type": "markdown",
   "id": "f460fdcb",
   "metadata": {},
   "source": [
    "```\n",
    "$ cat kaldi_docker_683.err \n",
    "docker: permission denied while trying to connect to the Docker daemon socket at unix:///var/run/docker.sock: Post \"http://%2Fvar%2Frun%2Fdocker.sock/v1.24/containers/create\": dial unix /var/run/docker.sock: connect: permission denied.\n",
    "See 'docker run --help'.\n",
    "```"
   ]
  },
  {
   "cell_type": "markdown",
   "id": "e11e1467",
   "metadata": {},
   "source": [
    "Apptainer:\n",
    "\n",
    "```\n",
    "#!/bin/bash\n",
    "#SBATCH --job-name=kaldi_apptainer\n",
    "#SBATCH --output=kaldi_apptainer_%j.out\n",
    "#SBATCH --error=kaldi_apptainer_%j.err\n",
    "#SBATCH --nodelist=deepspeech\n",
    "#SBATCH --gres=gpu:1\n",
    "#SBATCH --cpus-per-task=16\n",
    "#SBATCH --mem=64G\n",
    "#SBATCH --time=2-00:00:00\n",
    "\n",
    "# Optional: load Apptainer module if needed on your system\n",
    "module load apptainer  # or singularity if that's the older name\n",
    "\n",
    "echo \"Job started on $SLURMD_NODENAME at $(date)\"\n",
    "echo \"Using GPU(s): ${SLURM_STEP_GPUS:-$SLURM_JOB_GPUS}\"\n",
    "\n",
    "# Run the container with GPU access and mounted volumes\n",
    "apptainer exec --nv \\\n",
    "  --bind /shared/joregan/kaldi_swe/data:/opt/kaldi/egs/sprakbanken_swe/s5/data \\\n",
    "  --bind /shared/joregan/kaldi_swe/exp:/opt/kaldi/egs/sprakbanken_swe/s5/exp \\\n",
    "  --bind /shared/joregan/kaldi_swe/mfcc:/opt/kaldi/egs/sprakbanken_swe/s5/mfcc \\\n",
    "  docker://jimregan/kaldi_swe \\\n",
    "  bash -c \"cd /opt/kaldi/egs/sprakbanken_swe/s5 && ./run.sh\"\n",
    "\n",
    "echo \"Job finished at $(date)\"\n",
    "```"
   ]
  },
  {
   "cell_type": "markdown",
   "id": "edcd923a",
   "metadata": {},
   "source": []
  },
  {
   "cell_type": "markdown",
   "id": "bbbb2bab",
   "metadata": {},
   "source": []
  },
  {
   "cell_type": "markdown",
   "id": "613fc6aa",
   "metadata": {},
   "source": []
  }
 ],
 "metadata": {
  "language_info": {
   "name": "python"
  }
 },
 "nbformat": 4,
 "nbformat_minor": 5
}
