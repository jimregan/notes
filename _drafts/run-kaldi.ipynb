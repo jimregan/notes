{
 "cells": [
  {
   "cell_type": "code",
   "execution_count": null,
   "id": "36dc04d5",
   "metadata": {},
   "outputs": [],
   "source": [
    "docker run -it --shm-size=8g  --gpus all -v\"/sbtal/joregan/kaldi/data:/opt/kaldi/egs/sprakbanken_swe/s5/data\" -v\"/sbtal/joregan/kaldi/exp:/opt/kaldi/egs/sprakbanken_swe/s5/exp\" kaldiasr/kaldi"
   ]
  }
 ],
 "metadata": {
  "language_info": {
   "name": "python"
  }
 },
 "nbformat": 4,
 "nbformat_minor": 5
}
