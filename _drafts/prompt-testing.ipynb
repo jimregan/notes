{
 "cells": [
  {
   "cell_type": "code",
   "execution_count": 1,
   "metadata": {},
   "outputs": [
    {
     "name": "stdout",
     "output_type": "stream",
     "text": [
      "Collecting openai\n",
      "  Downloading openai-1.76.0-py3-none-any.whl (661 kB)\n",
      "\u001b[2K     \u001b[90m━━━━━━━━━━━━━━━━━━━━━━━━━━━━━━━━━━━━━━━\u001b[0m \u001b[32m661.2/661.2 kB\u001b[0m \u001b[31m8.9 MB/s\u001b[0m eta \u001b[36m0:00:00\u001b[0ma \u001b[36m0:00:01\u001b[0m\n",
      "\u001b[?25hRequirement already satisfied: anyio<5,>=3.5.0 in /Users/joregan/opt/anaconda3/envs/nst-tts/lib/python3.10/site-packages (from openai) (3.6.2)\n",
      "Collecting distro<2,>=1.7.0\n",
      "  Downloading distro-1.9.0-py3-none-any.whl (20 kB)\n",
      "Collecting httpx<1,>=0.23.0\n",
      "  Downloading httpx-0.28.1-py3-none-any.whl (73 kB)\n",
      "\u001b[2K     \u001b[90m━━━━━━━━━━━━━━━━━━━━━━━━━━━━━━━━━━━━━━━━\u001b[0m \u001b[32m73.5/73.5 kB\u001b[0m \u001b[31m5.5 MB/s\u001b[0m eta \u001b[36m0:00:00\u001b[0m\n",
      "\u001b[?25hCollecting typing-extensions<5,>=4.11\n",
      "  Downloading typing_extensions-4.13.2-py3-none-any.whl (45 kB)\n",
      "\u001b[2K     \u001b[90m━━━━━━━━━━━━━━━━━━━━━━━━━━━━━━━━━━━━━━━━\u001b[0m \u001b[32m45.8/45.8 kB\u001b[0m \u001b[31m4.9 MB/s\u001b[0m eta \u001b[36m0:00:00\u001b[0m\n",
      "\u001b[?25hRequirement already satisfied: sniffio in /Users/joregan/opt/anaconda3/envs/nst-tts/lib/python3.10/site-packages (from openai) (1.3.0)\n",
      "Collecting pydantic<3,>=1.9.0\n",
      "  Downloading pydantic-2.11.3-py3-none-any.whl (443 kB)\n",
      "\u001b[2K     \u001b[90m━━━━━━━━━━━━━━━━━━━━━━━━━━━━━━━━━━━━━━\u001b[0m \u001b[32m443.6/443.6 kB\u001b[0m \u001b[31m13.8 MB/s\u001b[0m eta \u001b[36m0:00:00\u001b[0m\n",
      "\u001b[?25hCollecting jiter<1,>=0.4.0\n",
      "  Downloading jiter-0.9.0-cp310-cp310-macosx_10_12_x86_64.whl (314 kB)\n",
      "\u001b[2K     \u001b[90m━━━━━━━━━━━━━━━━━━━━━━━━━━━━━━━━━━━━━━━\u001b[0m \u001b[32m314.5/314.5 kB\u001b[0m \u001b[31m9.1 MB/s\u001b[0m eta \u001b[36m0:00:00\u001b[0m\n",
      "\u001b[?25hRequirement already satisfied: tqdm>4 in /Users/joregan/opt/anaconda3/envs/nst-tts/lib/python3.10/site-packages (from openai) (4.66.5)\n",
      "Requirement already satisfied: idna>=2.8 in /Users/joregan/opt/anaconda3/envs/nst-tts/lib/python3.10/site-packages (from anyio<5,>=3.5.0->openai) (3.4)\n",
      "Requirement already satisfied: certifi in /Users/joregan/opt/anaconda3/envs/nst-tts/lib/python3.10/site-packages (from httpx<1,>=0.23.0->openai) (2023.5.7)\n",
      "Collecting httpcore==1.*\n",
      "  Downloading httpcore-1.0.9-py3-none-any.whl (78 kB)\n",
      "\u001b[2K     \u001b[90m━━━━━━━━━━━━━━━━━━━━━━━━━━━━━━━━━━━━━━━━\u001b[0m \u001b[32m78.8/78.8 kB\u001b[0m \u001b[31m5.9 MB/s\u001b[0m eta \u001b[36m0:00:00\u001b[0m\n",
      "\u001b[?25hCollecting h11>=0.16\n",
      "  Downloading h11-0.16.0-py3-none-any.whl (37 kB)\n",
      "Collecting pydantic-core==2.33.1\n",
      "  Downloading pydantic_core-2.33.1-cp310-cp310-macosx_10_12_x86_64.whl (2.0 MB)\n",
      "\u001b[2K     \u001b[90m━━━━━━━━━━━━━━━━━━━━━━━━━━━━━━━━━━━━━━━━\u001b[0m \u001b[32m2.0/2.0 MB\u001b[0m \u001b[31m15.2 MB/s\u001b[0m eta \u001b[36m0:00:00\u001b[0m00:01\u001b[0m00:01\u001b[0m\n",
      "\u001b[?25hCollecting annotated-types>=0.6.0\n",
      "  Downloading annotated_types-0.7.0-py3-none-any.whl (13 kB)\n",
      "Collecting typing-inspection>=0.4.0\n",
      "  Downloading typing_inspection-0.4.0-py3-none-any.whl (14 kB)\n",
      "Installing collected packages: typing-extensions, jiter, h11, distro, annotated-types, typing-inspection, pydantic-core, httpcore, pydantic, httpx, openai\n",
      "  Attempting uninstall: typing-extensions\n",
      "    Found existing installation: typing_extensions 4.5.0\n",
      "    Uninstalling typing_extensions-4.5.0:\n",
      "      Successfully uninstalled typing_extensions-4.5.0\n",
      "Successfully installed annotated-types-0.7.0 distro-1.9.0 h11-0.16.0 httpcore-1.0.9 httpx-0.28.1 jiter-0.9.0 openai-1.76.0 pydantic-2.11.3 pydantic-core-2.33.1 typing-extensions-4.13.2 typing-inspection-0.4.0\n"
     ]
    }
   ],
   "source": [
    "!pip install openai"
   ]
  },
  {
   "cell_type": "code",
   "execution_count": 5,
   "metadata": {},
   "outputs": [],
   "source": [
    "from openai import OpenAI"
   ]
  },
  {
   "cell_type": "code",
   "execution_count": 6,
   "metadata": {},
   "outputs": [],
   "source": [
    "client = OpenAI(api_key=API_KEY)"
   ]
  },
  {
   "cell_type": "code",
   "execution_count": 7,
   "metadata": {},
   "outputs": [],
   "source": [
    "from pathlib import Path\n",
    "\n",
    "JSONPATH = Path(\"/Users/joregan/Playing/hsi/annotations/final_resolved\")"
   ]
  },
  {
   "cell_type": "code",
   "execution_count": 26,
   "metadata": {},
   "outputs": [],
   "source": [
    "SKIPPABLES = [\"room\"]\n",
    "\n",
    "def process_item(item):\n",
    "    utt_key = \"utterance_type\"\n",
    "    if not utt_key in item[\"high_level\"]:\n",
    "        utt_key = \"topic_name\"\n",
    "    if item[\"high_level\"][utt_key] == \"conversation_generic\":\n",
    "        return {}\n",
    "    current = item[\"high_level\"][\"current_topic\"]\n",
    "    if current in SKIPPABLES:\n",
    "        return {}\n",
    "    snippet = item[\"snippet\"]\n",
    "    return {\n",
    "        \"topic:\": current,\n",
    "        \"snippet\": snippet\n",
    "    }"
   ]
  },
  {
   "cell_type": "code",
   "execution_count": 93,
   "metadata": {},
   "outputs": [],
   "source": [
    "import json\n",
    "\n",
    "alldata = []\n",
    "filepointer = []\n",
    "\n",
    "for jsonfile in JSONPATH.glob(\"*.json\"):\n",
    "    stem = jsonfile.stem\n",
    "    parts = stem.split(\"_\")\n",
    "    person = parts[1]\n",
    "    room = parts[3]\n",
    "\n",
    "    with open(jsonfile) as f:\n",
    "        data = json.load(f)\n",
    "\n",
    "    output = {\n",
    "        \"person\": person,\n",
    "        \"room\": room,\n",
    "        \"items\": []\n",
    "    }\n",
    "    for item in data.keys():\n",
    "        processed = process_item(data[item])\n",
    "        if processed and processed != {}:\n",
    "            output[\"items\"].append(processed)\n",
    "    alldata.append(output)\n",
    "    filepointer.append(stem)"
   ]
  },
  {
   "cell_type": "code",
   "execution_count": 31,
   "metadata": {},
   "outputs": [],
   "source": [
    "with open(\"/tmp/hsi.json\", \"w\") as f:\n",
    "    json.dump(alldata, f, indent=4)"
   ]
  },
  {
   "cell_type": "code",
   "execution_count": 32,
   "metadata": {},
   "outputs": [],
   "source": [
    "test = alldata[0]"
   ]
  },
  {
   "cell_type": "code",
   "execution_count": 83,
   "metadata": {},
   "outputs": [],
   "source": [
    "PROMPT = f\"\"\"\n",
    "Below is some data from a conversation. The data is in JSON format.\n",
    "The data contains a list of items, each with a topic and a snippet. The topic is the subject of the conversation, and the snippet is a short excerpt from the conversation.\n",
    "Continue the conversation by writing a new snippet that is relevant to the topic. The new snippet should contain a reference to the topic and should be a natural continuation of the conversation.\n",
    "The new snippet should be in the same format as the original snippets, and should be a short paragraph of text, of between 30 and 80 words.\n",
    "There should only be one reference to the topic in the new snippet. It should be a natural part of the conversation, and should not be forced or awkward. It should be marked in boldface using markdown syntax. Only the determiner should be marked; boldface is marked by a single asterisk. The reference should be to the item itself, not to an abstract property related to the item: for example, in \"the style of that painting\", only \"that painting\" is a valid reference to the item: \"the style\" is not a valid reference to the item.\n",
    "The reference to the topic should be suitable for instructing a person to point at it in a conversation. It can be a noun phrase, or a pronoun, but it should be clear and unambiguous. If the reference is a noun phrase, it should include a determiner, such as \"this\" or \"that\". Do not count articles (\"the\", \"a\", \"an\") as determiners, we are only interested in demonstrative determiners. If the reference is a pronoun, it should be clear what it refers to. Be sure to vary the references so there are results with each type of reference.\n",
    "If another topic is mentioned in the new snippet and the spatial relationship is very clear, it is ok to reuse that spatial reference.\n",
    "'If you want, I can stop by the kiosk and get *a newspaper* for tomorrow.' is a bad example for a snippet, because it does not contain to the item itself, but to another item of that category; also it includes an article \"a\" instead of a demonstrative determiner.\n",
    "Create as many new snippets as there are items in the data.\n",
    "```json\n",
    "{test}\n",
    "```\n",
    "\"\"\""
   ]
  },
  {
   "cell_type": "code",
   "execution_count": 35,
   "metadata": {},
   "outputs": [],
   "source": [
    "response = client.chat.completions.create(\n",
    "    model=\"gpt-4o\",\n",
    "    messages=[\n",
    "        {\n",
    "            \"role\": \"user\",\n",
    "            \"content\": [\n",
    "                { \"type\": \"text\", \"text\": PROMPT },\n",
    "            ]\n",
    "        }\n",
    "    ]\n",
    ")"
   ]
  },
  {
   "cell_type": "code",
   "execution_count": 36,
   "metadata": {},
   "outputs": [
    {
     "data": {
      "text/plain": [
       "ChatCompletion(id='chatcmpl-BRGKBf83FizBn2cuY40CfosbbuwGm', choices=[Choice(finish_reason='stop', index=0, logprobs=None, message=ChatCompletionMessage(content='```json\\n{\\'topic:\\': \\'Book_28\\', \\'snippet\\': \"Yeah, I noticed **that novel** when I came in, and it seemed interesting. It must belong to someone who really enjoys detective stories, don\\'t you think?\"}\\n```', refusal=None, role='assistant', annotations=[], audio=None, function_call=None, tool_calls=None))], created=1745837307, model='gpt-4o-2024-08-06', object='chat.completion', service_tier='default', system_fingerprint='fp_90122d973c', usage=CompletionUsage(completion_tokens=52, prompt_tokens=1029, total_tokens=1081, completion_tokens_details=CompletionTokensDetails(accepted_prediction_tokens=0, audio_tokens=0, reasoning_tokens=0, rejected_prediction_tokens=0), prompt_tokens_details=PromptTokensDetails(audio_tokens=0, cached_tokens=0)))"
      ]
     },
     "execution_count": 36,
     "metadata": {},
     "output_type": "execute_result"
    }
   ],
   "source": [
    "response"
   ]
  },
  {
   "cell_type": "code",
   "execution_count": 43,
   "metadata": {},
   "outputs": [],
   "source": [
    "response_text = response.choices[0].message.content"
   ]
  },
  {
   "cell_type": "code",
   "execution_count": 44,
   "metadata": {},
   "outputs": [
    {
     "data": {
      "text/plain": [
       "'```json\\n{\\'topic:\\': \\'Book_28\\', \\'snippet\\': \"Yeah, I noticed **that novel** when I came in, and it seemed interesting. It must belong to someone who really enjoys detective stories, don\\'t you think?\"}\\n```'"
      ]
     },
     "execution_count": 44,
     "metadata": {},
     "output_type": "execute_result"
    }
   ],
   "source": [
    "response_text"
   ]
  },
  {
   "cell_type": "code",
   "execution_count": 53,
   "metadata": {},
   "outputs": [],
   "source": [
    "def clean_response(response_text):\n",
    "    response_text = response_text.replace(\"```json\", \"\")\n",
    "    response_text = response_text.replace(\"```\", \"\")\n",
    "    response_text = response_text.strip()\n",
    "    # response_text = response_text.replace(\"'\", '\"')\n",
    "    # try:\n",
    "    #     return json.loads(response_text)\n",
    "    # except json.JSONDecodeError:\n",
    "    #     print(response_text)\n",
    "    data = eval(response_text)\n",
    "    return data"
   ]
  },
  {
   "cell_type": "code",
   "execution_count": null,
   "metadata": {},
   "outputs": [],
   "source": []
  },
  {
   "cell_type": "code",
   "execution_count": 54,
   "metadata": {},
   "outputs": [
    {
     "data": {
      "text/plain": [
       "{'topic:': 'Book_28',\n",
       " 'snippet': \"Yeah, I noticed **that novel** when I came in, and it seemed interesting. It must belong to someone who really enjoys detective stories, don't you think?\"}"
      ]
     },
     "execution_count": 54,
     "metadata": {},
     "output_type": "execute_result"
    }
   ],
   "source": [
    "clean_response(response_text)"
   ]
  },
  {
   "cell_type": "code",
   "execution_count": 55,
   "metadata": {},
   "outputs": [],
   "source": [
    "response = client.chat.completions.create(\n",
    "    model=\"gpt-4o\",\n",
    "    messages=[\n",
    "        {\n",
    "            \"role\": \"user\",\n",
    "            \"content\": [\n",
    "                { \"type\": \"text\", \"text\": PROMPT },\n",
    "            ]\n",
    "        }\n",
    "    ]\n",
    ")"
   ]
  },
  {
   "cell_type": "code",
   "execution_count": 56,
   "metadata": {},
   "outputs": [
    {
     "data": {
      "text/plain": [
       "ChatCompletion(id='chatcmpl-BRGSLwcAubUqXJVqMYgh5T77PwpTP', choices=[Choice(finish_reason='stop', index=0, logprobs=None, message=ChatCompletionMessage(content='```json\\n[\\n    {\"topic:\": \"furniture\", \"snippet\": \"I\\'ll rearrange the chairs today, so **this setup** feels more welcoming.\"},\\n    {\"topic:\": \"furniture\", \"snippet\": \"Perhaps moving **that table** near the window would brighten up the room.\"},\\n    {\"topic:\": \"furniture\", \"snippet\": \"You know, **those stools** would be perfect at the kitchen counter.\"},\\n    {\"topic:\": \"furniture\", \"snippet\": \"Let\\'s think about where **this bench** could go; maybe the hallway?\"},\\n    {\"topic:\": \"Television_f9d000b1\", \"snippet\": \"Maybe we could move **the TV** to the opposite wall for a cozier setup.\"},\\n    {\"topic:\": \"Dog_Statue_1\", \"snippet\": \"I checked around, and **the statue** seems perfectly fine now.\"},\\n    {\"topic:\": \"Dog_Statue_1\", \"snippet\": \"I\\'d love to know how **that piece** first caught your eye.\"},\\n    {\"topic:\": \"Dog_Statue_1\", \"snippet\": \"And I was thinking, maybe **this statue** deserves a spot in the garden.\"},\\n    {\"topic:\": \"Tennis_Racquet_4\", \"snippet\": \"I think **this racquet** needs a new grip before the next match.\"},\\n    {\"topic:\": \"Laptop_4\", \"snippet\": \"I found **the charger**, so now you can use it wherever you like.\"},\\n    {\"topic:\": \"Laptop_4\", \"snippet\": \"Sure, just let me know if **this laptop** starts acting up again.\"},\\n    {\"topic:\": \"Laptop_4\", \"snippet\": \"I\\'m happy holding onto **this one** until you\\'re sure you need it.\"},\\n    {\"topic:\": \"KeyChain_76c05fe6\", \"snippet\": \"Can you show me how **these keys** fit into everything?\"},\\n    {\"topic:\": \"Newspaper_990192bf\", \"snippet\": \"If you want, we could swap **this newspaper** for a new one.\"},\\n    {\"topic:\": \"Newspaper_990192bf\", \"snippet\": \"I heard they changed the layout in **the papers**, right?\"},\\n    {\"topic:\": \"Newspaper_990192bf\", \"snippet\": \"I\\'ve been thinking of subscribing to **them** for a while now.\"},\\n    {\"topic:\": \"Box_7d6b3e2c\", \"snippet\": \"I wonder if **that box** has any old photos we can look through.\"},\\n    {\"topic:\": \"Book_17\", \"snippet\": \"I might borrow **this novel** once you\\'re done with it.\"},\\n    {\"topic:\": \"Book_17\", \"snippet\": \"Noticed that **another book** fits well with the decor too.\"},\\n    {\"topic:\": \"Book_17\", \"snippet\": \"I can’t wait to hear your thoughts on **the story** when you finish.\"},\\n    {\"topic:\": \"furniture\", \"snippet\": \"After settling **this room**, moving the furniture outside may be next.\"},\\n    {\"topic:\": \"painting\", \"snippet\": \"I think that moving **these paintings** has changed the room\\'s atmosphere.\"},\\n    {\"topic:\": \"painting\", \"snippet\": \"And if we frame **that piece**, the entire collection will truly shine.\"},\\n    {\"topic:\": \"garbage bin\", \"snippet\": \"It might be a good idea to move **the bin** outside, near the sidewalk.\"},\\n    {\"topic:\": \"Book_28\", \"snippet\": \"Or perhaps **that novel** could be a fun read during the weekend.\"}\\n]\\n```', refusal=None, role='assistant', annotations=[], audio=None, function_call=None, tool_calls=None))], created=1745837813, model='gpt-4o-2024-08-06', object='chat.completion', service_tier='default', system_fingerprint='fp_90122d973c', usage=CompletionUsage(completion_tokens=792, prompt_tokens=1060, total_tokens=1852, completion_tokens_details=CompletionTokensDetails(accepted_prediction_tokens=0, audio_tokens=0, reasoning_tokens=0, rejected_prediction_tokens=0), prompt_tokens_details=PromptTokensDetails(audio_tokens=0, cached_tokens=0)))"
      ]
     },
     "execution_count": 56,
     "metadata": {},
     "output_type": "execute_result"
    }
   ],
   "source": [
    "response"
   ]
  },
  {
   "cell_type": "code",
   "execution_count": 57,
   "metadata": {},
   "outputs": [],
   "source": [
    "response_text = response.choices[0].message.content"
   ]
  },
  {
   "cell_type": "code",
   "execution_count": 58,
   "metadata": {},
   "outputs": [
    {
     "data": {
      "text/plain": [
       "[{'topic:': 'furniture',\n",
       "  'snippet': \"I'll rearrange the chairs today, so **this setup** feels more welcoming.\"},\n",
       " {'topic:': 'furniture',\n",
       "  'snippet': 'Perhaps moving **that table** near the window would brighten up the room.'},\n",
       " {'topic:': 'furniture',\n",
       "  'snippet': 'You know, **those stools** would be perfect at the kitchen counter.'},\n",
       " {'topic:': 'furniture',\n",
       "  'snippet': \"Let's think about where **this bench** could go; maybe the hallway?\"},\n",
       " {'topic:': 'Television_f9d000b1',\n",
       "  'snippet': 'Maybe we could move **the TV** to the opposite wall for a cozier setup.'},\n",
       " {'topic:': 'Dog_Statue_1',\n",
       "  'snippet': 'I checked around, and **the statue** seems perfectly fine now.'},\n",
       " {'topic:': 'Dog_Statue_1',\n",
       "  'snippet': \"I'd love to know how **that piece** first caught your eye.\"},\n",
       " {'topic:': 'Dog_Statue_1',\n",
       "  'snippet': 'And I was thinking, maybe **this statue** deserves a spot in the garden.'},\n",
       " {'topic:': 'Tennis_Racquet_4',\n",
       "  'snippet': 'I think **this racquet** needs a new grip before the next match.'},\n",
       " {'topic:': 'Laptop_4',\n",
       "  'snippet': 'I found **the charger**, so now you can use it wherever you like.'},\n",
       " {'topic:': 'Laptop_4',\n",
       "  'snippet': 'Sure, just let me know if **this laptop** starts acting up again.'},\n",
       " {'topic:': 'Laptop_4',\n",
       "  'snippet': \"I'm happy holding onto **this one** until you're sure you need it.\"},\n",
       " {'topic:': 'KeyChain_76c05fe6',\n",
       "  'snippet': 'Can you show me how **these keys** fit into everything?'},\n",
       " {'topic:': 'Newspaper_990192bf',\n",
       "  'snippet': 'If you want, we could swap **this newspaper** for a new one.'},\n",
       " {'topic:': 'Newspaper_990192bf',\n",
       "  'snippet': 'I heard they changed the layout in **the papers**, right?'},\n",
       " {'topic:': 'Newspaper_990192bf',\n",
       "  'snippet': \"I've been thinking of subscribing to **them** for a while now.\"},\n",
       " {'topic:': 'Box_7d6b3e2c',\n",
       "  'snippet': 'I wonder if **that box** has any old photos we can look through.'},\n",
       " {'topic:': 'Book_17',\n",
       "  'snippet': \"I might borrow **this novel** once you're done with it.\"},\n",
       " {'topic:': 'Book_17',\n",
       "  'snippet': 'Noticed that **another book** fits well with the decor too.'},\n",
       " {'topic:': 'Book_17',\n",
       "  'snippet': 'I can’t wait to hear your thoughts on **the story** when you finish.'},\n",
       " {'topic:': 'furniture',\n",
       "  'snippet': 'After settling **this room**, moving the furniture outside may be next.'},\n",
       " {'topic:': 'painting',\n",
       "  'snippet': \"I think that moving **these paintings** has changed the room's atmosphere.\"},\n",
       " {'topic:': 'painting',\n",
       "  'snippet': 'And if we frame **that piece**, the entire collection will truly shine.'},\n",
       " {'topic:': 'garbage bin',\n",
       "  'snippet': 'It might be a good idea to move **the bin** outside, near the sidewalk.'},\n",
       " {'topic:': 'Book_28',\n",
       "  'snippet': 'Or perhaps **that novel** could be a fun read during the weekend.'}]"
      ]
     },
     "execution_count": 58,
     "metadata": {},
     "output_type": "execute_result"
    }
   ],
   "source": [
    "clean_response(response_text)"
   ]
  },
  {
   "cell_type": "code",
   "execution_count": 60,
   "metadata": {},
   "outputs": [],
   "source": [
    "esponse = client.chat.completions.create(\n",
    "    model=\"gpt-4o\",\n",
    "    messages=[\n",
    "        {\n",
    "            \"role\": \"user\",\n",
    "            \"content\": [\n",
    "                { \"type\": \"text\", \"text\": PROMPT },\n",
    "            ]\n",
    "        }\n",
    "    ]\n",
    ")"
   ]
  },
  {
   "cell_type": "code",
   "execution_count": null,
   "metadata": {},
   "outputs": [],
   "source": []
  },
  {
   "cell_type": "code",
   "execution_count": 65,
   "metadata": {},
   "outputs": [],
   "source": [
    "esponse\n",
    "esponse_text = esponse.choices[0].message.content"
   ]
  },
  {
   "cell_type": "code",
   "execution_count": 66,
   "metadata": {},
   "outputs": [
    {
     "data": {
      "text/plain": [
       "{'person': '4',\n",
       " 'room': '222',\n",
       " 'items': [{'topic': 'furniture',\n",
       "   'snippet': 'We can try rearranging *the* furniture into a more open layout, which might make the room feel bigger.'},\n",
       "  {'topic': 'furniture',\n",
       "   'snippet': 'Maybe moving *that* couch closer to the window will make the room more inviting.'},\n",
       "  {'topic': 'furniture',\n",
       "   'snippet': \"Let's keep *that* chair near the entrance as it seems to welcome guests quite nicely.\"},\n",
       "  {'topic': 'furniture',\n",
       "   'snippet': 'Sure, I can help you with rearranging *the* furniture now so everything is ready for when guests arrive.'},\n",
       "  {'topic': 'Television_f9d000b1',\n",
       "   'snippet': 'Well, *the* TV is mostly just background noise; I prefer engaging conversations with friends.'},\n",
       "  {'topic': 'Dog_Statue_1',\n",
       "   'snippet': 'Oh, *the* dog statue is just missing a small piece, but it still looks great.'},\n",
       "  {'topic': 'Dog_Statue_1',\n",
       "   'snippet': 'I think *that* dog statue can be repaired easily; we should look into it.'},\n",
       "  {'topic': 'Dog_Statue_1',\n",
       "   'snippet': \"Interestingly, *the* green one seems to be everyone's favorite, don't you think?\"},\n",
       "  {'topic': 'Tennis_Racquet_4',\n",
       "   'snippet': 'We should place *the* racket back in its bag so it doesn’t get damaged.'},\n",
       "  {'topic': 'Laptop_4',\n",
       "   'snippet': \"*The* computer has such a sleek design; it's definitely a great choice for work.\"},\n",
       "  {'topic': 'Laptop_4',\n",
       "   'snippet': \"If you're unsure about *that* laptop, maybe it belongs to someone else around here.\"},\n",
       "  {'topic': 'Laptop_4',\n",
       "   'snippet': \"Once you're sure it's safely packed, I'll help you put *the* laptop away.\"},\n",
       "  {'topic': 'KeyChain_76c05fe6',\n",
       "   'snippet': '*The* keys always seem to get misplaced; we need a dedicated spot for them.'},\n",
       "  {'topic': 'Newspaper_990192bf',\n",
       "   'snippet': 'I think picking up *that* newspaper could be a part of a nice morning ritual.'},\n",
       "  {'topic': 'Newspaper_990192bf',\n",
       "   'snippet': \"Actually, I don't get *them* anymore, but I miss having a casual read now and then.\"},\n",
       "  {'topic': 'Newspaper_990192bf',\n",
       "   'snippet': \"I'll check if I can get a subscription service for *the* newspaper to be delivered.\"},\n",
       "  {'topic': 'Box_7d6b3e2c',\n",
       "   'snippet': 'Looks like *the* old box could be full of memories; do you want to open it together?'},\n",
       "  {'topic': 'Book_17',\n",
       "   'snippet': 'And *this* thick book seems to be quite the engaging read; how are you finding it?'},\n",
       "  {'topic': 'Book_17',\n",
       "   'snippet': \"Seeing how *this* book complements the aesthetic, I'm glad you liked it.\"},\n",
       "  {'topic': 'Book_17',\n",
       "   'snippet': 'Even with *the* book here, the whole setting feels so harmonious and cozy.'},\n",
       "  {'topic': 'furniture',\n",
       "   'snippet': \"Before arranging *the* furniture back, let's see if these pillows can add some charm.\"},\n",
       "  {'topic': 'painting',\n",
       "   'snippet': \"*The* painting gives off such a timeless vibe; I'm glad you chose this spot.\"},\n",
       "  {'topic': 'painting',\n",
       "   'snippet': \"Finding a suitable place for *the* old paintings really enhances the room's character.\"},\n",
       "  {'topic': 'garbage bin',\n",
       "   'snippet': \"Let's move *the* garbage bin a bit further from the door to keep the living room tidy.\"},\n",
       "  {'topic': 'Book_28',\n",
       "   'snippet': \"You know, *this* Sherlock Holmes book looks intriguing; maybe it's worth a little peek.\"}]}"
      ]
     },
     "execution_count": 66,
     "metadata": {},
     "output_type": "execute_result"
    }
   ],
   "source": [
    "clean_response(esponse_text)"
   ]
  },
  {
   "cell_type": "code",
   "execution_count": 84,
   "metadata": {},
   "outputs": [],
   "source": [
    "response = client.chat.completions.create(\n",
    "    model=\"gpt-4o\",\n",
    "    messages=[\n",
    "        {\n",
    "            \"role\": \"user\",\n",
    "            \"content\": [\n",
    "                { \"type\": \"text\", \"text\": PROMPT },\n",
    "            ]\n",
    "        }\n",
    "    ]\n",
    ")"
   ]
  },
  {
   "cell_type": "code",
   "execution_count": 85,
   "metadata": {},
   "outputs": [
    {
     "data": {
      "text/plain": [
       "ChatCompletion(id='chatcmpl-BRGlWs58wDnCeyaEyxswix4IoJmmS', choices=[Choice(finish_reason='stop', index=0, logprobs=None, message=ChatCompletionMessage(content='```json\\n[\\n    {\\n        \"topic\": \"furniture\",\\n        \"snippet\": \"Let\\'s rearrange the layout again. I think moving **this table** closer to the window might brighten up the space.\"\\n    },\\n    {\\n        \"topic\": \"Television_f9d000b1\",\\n        \"snippet\": \"Speaking of TV, can we at least turn **it** on for some background noise while we chat?\"\\n    },\\n    {\\n        \"topic\": \"Dog_Statue_1\",\\n        \"snippet\": \"I\\'m curious to know how **this statue** ended up here in the first place. It\\'s quite a conversation piece!\"\\n    },\\n    {\\n        \"topic\": \"Tennis_Racquet_4\",\\n        \"snippet\": \"Oh, and I think **that racket** might come in handy if anyone wants to play later.\"\\n    },\\n    {\\n        \"topic\": \"Laptop_4\",\\n        \"snippet\": \"By the way, I was wondering if **this laptop** has enough storage for my project files.\"\\n    },\\n    {\\n        \"topic\": \"KeyChain_76c05fe6\",\\n        \"snippet\": \"I think **this keychain** would be easier to spot if we hung it by the door.\"\\n    },\\n    {\\n        \"topic\": \"Newspaper_990192bf\",\\n        \"snippet\": \"Could you pass **that newspaper** over? I want to clip out the Sunday puzzle section.\"\\n    },\\n    {\\n        \"topic\": \"Box_7d6b3e2c\",\\n        \"snippet\": \"The contents of **this old box** must hold a lot of history! Do you ever dig through it?\"\\n    },\\n    {\\n        \"topic\": \"Book_17\",\\n        \"snippet\": \"I heard someone describe **this book** as a masterpiece. Have you gotten to any of the good parts yet?\"\\n    },\\n    {\\n        \"topic\": \"painting\",\\n        \"snippet\": \"If you get closer, you\\'ll see **this painting** has incredible details that you can\\'t miss.\"\\n    },\\n    {\\n        \"topic\": \"garbage bin\",\\n        \"snippet\": \"We should move **that garbage bin** out to the kitchen, so it doesn\\'t clutter the space here.\"\\n    },\\n    {\\n        \"topic\": \"Book_28\",\\n        \"snippet\": \"Well, if you\\'re done with **that Sherlock Holmes book**, I\\'d love to borrow it for the flight.\"\\n    }\\n]\\n```', refusal=None, role='assistant', annotations=[], audio=None, function_call=None, tool_calls=None))], created=1745839002, model='gpt-4o-2024-08-06', object='chat.completion', service_tier='default', system_fingerprint='fp_90122d973c', usage=CompletionUsage(completion_tokens=500, prompt_tokens=1221, total_tokens=1721, completion_tokens_details=CompletionTokensDetails(accepted_prediction_tokens=0, audio_tokens=0, reasoning_tokens=0, rejected_prediction_tokens=0), prompt_tokens_details=PromptTokensDetails(audio_tokens=0, cached_tokens=0)))"
      ]
     },
     "execution_count": 85,
     "metadata": {},
     "output_type": "execute_result"
    }
   ],
   "source": [
    "response\n"
   ]
  },
  {
   "cell_type": "code",
   "execution_count": 86,
   "metadata": {},
   "outputs": [],
   "source": [
    "response_text = response.choices[0].message.content"
   ]
  },
  {
   "cell_type": "code",
   "execution_count": 77,
   "metadata": {},
   "outputs": [
    {
     "data": {
      "text/plain": [
       "[{'topic:': 'furniture',\n",
       "  'snippet': \"Every time I walk in here, it's like a whole new space! Can you remind me why you wanted to move *this furniture* all the way to the other side?\"},\n",
       " {'topic:': 'Television_f9d000b1',\n",
       "  'snippet': 'I understand, but did you catch what happened with *that TV* last week? I heard there was some issue with the signal.'},\n",
       " {'topic:': 'Dog_Statue_1',\n",
       "  'snippet': \"I hope *that dog statue* isn't too fragile, especially considering how easily things get knocked over in here.\"},\n",
       " {'topic:': 'Tennis_Racquet_4',\n",
       "  'snippet': \"Maybe after we're done, we can go out and hit a few balls with *this racket*. It's been a while since I've played tennis.\"},\n",
       " {'topic:': 'Laptop_4',\n",
       "  'snippet': \"Even though this looks like my old one, I'm sure *that laptop* belongs to you. Maybe we can check the files to confirm?\"},\n",
       " {'topic:': 'KeyChain_76c05fe6',\n",
       "  'snippet': 'You must have a lot of responsibilities with all those keys. I wonder if *that keychain* has any special meaning to you.'},\n",
       " {'topic:': 'Newspaper_990192bf',\n",
       "  'snippet': \"I'm thinking of subscribing again. Does *that newspaper* have any interesting articles today?\"},\n",
       " {'topic:': 'Box_7d6b3e2c',\n",
       "  'snippet': \"Looks like *this box* has been here forever. Maybe we should peek inside and see if there's anything worth keeping.\"},\n",
       " {'topic:': 'Book_17',\n",
       "  'snippet': \"I actually started reading something similar. If you're done, I'd love to borrow *that book* sometime.\"},\n",
       " {'topic:': 'painting',\n",
       "  'snippet': \"I'm glad *this painting* is still up—it really ties the room together. Did you notice how it complements the lighting?\"},\n",
       " {'topic:': 'garbage bin',\n",
       "  'snippet': \"You're right; we should move *that garbage bin* somewhere it won’t be in the way, maybe closer to the kitchen.\"},\n",
       " {'topic:': 'Book_28',\n",
       "  'snippet': \"Even if it's not yours, *this book* really adds character to the shelf. Maybe we should leave it out for guests to peruse.\"}]"
      ]
     },
     "execution_count": 77,
     "metadata": {},
     "output_type": "execute_result"
    }
   ],
   "source": [
    "clean_response(response_text)"
   ]
  },
  {
   "cell_type": "code",
   "execution_count": null,
   "metadata": {},
   "outputs": [
    {
     "data": {
      "text/plain": [
       "{'person': '4',\n",
       " 'room': '222',\n",
       " 'items': [{'topic:': 'furniture',\n",
       "   'snippet': \"The new setup actually makes *this room* feel more spacious, don't you think?\"},\n",
       "  {'topic:': 'furniture',\n",
       "   'snippet': \"I can't quite remember, but wasn't *that couch* part of a set? It looks distinct on its own now.\"},\n",
       "  {'topic:': 'furniture',\n",
       "   'snippet': \"Could we move everything next weekend? I'd like to try a different layout for *the sofas* this time.\"},\n",
       "  {'topic:': 'furniture',\n",
       "   'snippet': \"Let's make sure we don't forget the coasters when we adjust *those tables* around.\"},\n",
       "  {'topic:': 'Television_f9d000b1',\n",
       "   'snippet': \"Maybe when we're done chatting, we can catch a new show on *that TV* together.\"},\n",
       "  {'topic:': 'Dog_Statue_1',\n",
       "   'snippet': 'Actually, *this dog statue* looks pretty charming. It adds character to the room.'},\n",
       "  {'topic:': 'Dog_Statue_1',\n",
       "   'snippet': \"I heard you fixed it, so how's *the statue* holding up now?\"},\n",
       "  {'topic:': 'Dog_Statue_1',\n",
       "   'snippet': '*This statue* looks quite regal on the mantelpiece. The green makes it pop!'},\n",
       "  {'topic:': 'Tennis_Racquet_4',\n",
       "   'snippet': 'Did you know the owner of *the tennis racquet*? It seems well-used.'},\n",
       "  {'topic:': 'Laptop_4',\n",
       "   'snippet': \"Could you help me with something on *this laptop*? I'm having trouble logging in.\"},\n",
       "  {'topic:': 'Laptop_4',\n",
       "   'snippet': 'We could use *the laptop* to play some music while we reorganize this room.'},\n",
       "  {'topic:': 'Laptop_4',\n",
       "   'snippet': 'Are you sure you want to give it away? *That laptop* seems like a reliable companion.'},\n",
       "  {'topic:': 'KeyChain_76c05fe6',\n",
       "   'snippet': \"Ah, I see you're using *this keychain* now. A practical and stylish choice.\"},\n",
       "  {'topic:': 'Newspaper_990192bf',\n",
       "   'snippet': 'I think you left *the newspaper* on the table, just by the window.'},\n",
       "  {'topic:': 'Newspaper_990192bf',\n",
       "   'snippet': '*This one* is packed with good articles; quite informative.'},\n",
       "  {'topic:': 'Newspaper_990192bf',\n",
       "   'snippet': 'If you want, I can stop by the kiosk and get *a newspaper* for tomorrow.'},\n",
       "  {'topic:': 'Box_7d6b3e2c',\n",
       "   'snippet': \"Looks like you've been using *this box* for storage. Anything interesting inside?\"},\n",
       "  {'topic:': 'Book_17',\n",
       "   'snippet': 'Have you finished reading *this thick book* yet? It seems like a serious read.'},\n",
       "  {'topic:': 'Book_17',\n",
       "   'snippet': '*The cover of this book* is so visually appealing; it caught my eye immediately.'},\n",
       "  {'topic:': 'Book_17',\n",
       "   'snippet': 'The colors of *the book* and the rug seem to go well together, don’t they?'},\n",
       "  {'topic:': 'furniture',\n",
       "   'snippet': \"With *this furniture* rearrangement, the sunlight hits differently, enhancing the room's ambiance.\"},\n",
       "  {'topic:': 'painting',\n",
       "   'snippet': 'Did I mention how *this painting* perfectly complements the color scheme here?'},\n",
       "  {'topic:': 'painting',\n",
       "   'snippet': \"I can't believe we found another classic to match *the old painting*. It’s simply remarkable.\"},\n",
       "  {'topic:': 'garbage bin',\n",
       "   'snippet': 'How about moving *the garbage bin* to the pantry to keep the living room uncluttered?'},\n",
       "  {'topic:': 'Book_28',\n",
       "   'snippet': '*This Sherlock Holmes book* must belong to someone else, given your taste in literature.'}]}"
      ]
     },
     "execution_count": 82,
     "metadata": {},
     "output_type": "execute_result"
    }
   ],
   "source": [
    "clean_response(response_text)"
   ]
  },
  {
   "cell_type": "code",
   "execution_count": 87,
   "metadata": {},
   "outputs": [
    {
     "data": {
      "text/plain": [
       "[{'topic': 'furniture',\n",
       "  'snippet': \"Let's rearrange the layout again. I think moving **this table** closer to the window might brighten up the space.\"},\n",
       " {'topic': 'Television_f9d000b1',\n",
       "  'snippet': 'Speaking of TV, can we at least turn **it** on for some background noise while we chat?'},\n",
       " {'topic': 'Dog_Statue_1',\n",
       "  'snippet': \"I'm curious to know how **this statue** ended up here in the first place. It's quite a conversation piece!\"},\n",
       " {'topic': 'Tennis_Racquet_4',\n",
       "  'snippet': 'Oh, and I think **that racket** might come in handy if anyone wants to play later.'},\n",
       " {'topic': 'Laptop_4',\n",
       "  'snippet': 'By the way, I was wondering if **this laptop** has enough storage for my project files.'},\n",
       " {'topic': 'KeyChain_76c05fe6',\n",
       "  'snippet': 'I think **this keychain** would be easier to spot if we hung it by the door.'},\n",
       " {'topic': 'Newspaper_990192bf',\n",
       "  'snippet': 'Could you pass **that newspaper** over? I want to clip out the Sunday puzzle section.'},\n",
       " {'topic': 'Box_7d6b3e2c',\n",
       "  'snippet': 'The contents of **this old box** must hold a lot of history! Do you ever dig through it?'},\n",
       " {'topic': 'Book_17',\n",
       "  'snippet': 'I heard someone describe **this book** as a masterpiece. Have you gotten to any of the good parts yet?'},\n",
       " {'topic': 'painting',\n",
       "  'snippet': \"If you get closer, you'll see **this painting** has incredible details that you can't miss.\"},\n",
       " {'topic': 'garbage bin',\n",
       "  'snippet': \"We should move **that garbage bin** out to the kitchen, so it doesn't clutter the space here.\"},\n",
       " {'topic': 'Book_28',\n",
       "  'snippet': \"Well, if you're done with **that Sherlock Holmes book**, I'd love to borrow it for the flight.\"}]"
      ]
     },
     "execution_count": 87,
     "metadata": {},
     "output_type": "execute_result"
    }
   ],
   "source": [
    "clean_response(response_text)"
   ]
  },
  {
   "cell_type": "code",
   "execution_count": 88,
   "metadata": {},
   "outputs": [],
   "source": [
    "PROMPT = f\"\"\"\n",
    "You are given a JSON list of conversation items. Each item has a \"topic\" and a \"snippet\" (a short excerpt).\n",
    "\n",
    "Your task is to write a **new snippet** for each topic:\n",
    "- The new snippet must naturally continue the conversation and be **30–80 words** long.\n",
    "- It must include exactly **one reference** to the **specific topic**, using a demonstrative determiner (\"this\", \"that\", \"these\", \"those\") or a clear pronoun.\n",
    "- **Only** the determiner should be marked in bold using markdown (e.g., *this painting*).\n",
    "- Do not refer to a general category (e.g., \"a newspaper\"); refer directly to the topic.\n",
    "- References must sound natural, not forced. Vary between noun phrases and pronouns where possible.\n",
    "- If another topic is clearly mentioned in relation to the main one, it’s acceptable to reuse spatial references.\n",
    "- Create **one new snippet per item**.\n",
    "\n",
    "Bad example:  \n",
    "'If you want, I can stop by the kiosk and get *a newspaper* for tomorrow.' → Incorrect: refers to another item, uses an article instead of a demonstrative determiner.\n",
    "\n",
    "---\n",
    "\n",
    "```json\n",
    "{test}\n",
    "```\n",
    "\"\"\""
   ]
  },
  {
   "cell_type": "code",
   "execution_count": 89,
   "metadata": {},
   "outputs": [],
   "source": [
    "esponse = client.chat.completions.create(\n",
    "    model=\"gpt-4o\",\n",
    "    messages=[\n",
    "        {\n",
    "            \"role\": \"user\",\n",
    "            \"content\": [\n",
    "                { \"type\": \"text\", \"text\": PROMPT },\n",
    "            ]\n",
    "        }\n",
    "    ]\n",
    ")"
   ]
  },
  {
   "cell_type": "code",
   "execution_count": 90,
   "metadata": {},
   "outputs": [],
   "source": [
    "esponse_text = esponse.choices[0].message.content"
   ]
  },
  {
   "cell_type": "code",
   "execution_count": 91,
   "metadata": {},
   "outputs": [
    {
     "data": {
      "text/plain": [
       "[{'topic:': 'furniture',\n",
       "  'snippet': \"Can you rearrange *these pieces* a bit more toward the window? It might make the room feel more open and enhance the overall look. Otherwise, it seems a bit crowded in here, and we can't fully appreciate the space.\"},\n",
       " {'topic:': 'furniture',\n",
       "  'snippet': \"I see what you mean. *This couch* would look much better by the window, creating a cozy nook. How about rearranging it next weekend together? It'll give us a fresh perspective.\"},\n",
       " {'topic:': 'furniture',\n",
       "  'snippet': 'You know, by moving *those sofas* around, we might find the perfect setup for comfortable conversations. It’s worth experimenting until we get it just right.'},\n",
       " {'topic:': 'furniture',\n",
       "  'snippet': \"I'd appreciate your help to shift *them* around. With your eye for detail and my muscle, we can transform the whole setting into something more inviting.\"},\n",
       " {'topic:': 'Television_f9d000b1',\n",
       "  'snippet': 'I totally agree. Sometimes just sitting and chatting is far more fulfilling than any show we could watch on *this TV*.'},\n",
       " {'topic:': 'Dog_Statue_1',\n",
       "  'snippet': \"Hopefully, we can fix *that statue* soon. It adds such a unique touch to the room, and it'd be a shame to leave it in disrepair.\"},\n",
       " {'topic:': 'Dog_Statue_1',\n",
       "  'snippet': \"Oh no! I hope *it's* not too damaged. It was such a charming piece in the corner with its vibrant color.\"},\n",
       " {'topic:': 'Dog_Statue_1',\n",
       "  'snippet': \"That's good to hear. I always thought the subtle green hue on *that statue* was a wonderful addition to the decor.\"},\n",
       " {'topic:': 'Tennis_Racquet_4',\n",
       "  'snippet': 'It seems like *this racket* is in the way. Maybe we should find a dedicated spot for it, perhaps in the sports corner of the room.'},\n",
       " {'topic:': 'Laptop_4',\n",
       "  'snippet': \"If you're unsure, we can check the label to see if *this laptop* belongs to you. It's better to confirm before we take any further steps.\"},\n",
       " {'topic:': 'Laptop_4',\n",
       "  'snippet': \"Indeed, *that's* possible, but if it is, you might find some of your old files on it, which could clarify things.\"},\n",
       " {'topic:': 'Laptop_4',\n",
       "  'snippet': \"If you’re positive it's not yours, *it* may serve as a useful backup. It’s always good to have a secondary device around.\"},\n",
       " {'topic:': 'KeyChain_76c05fe6',\n",
       "  'snippet': \"Ah yes, *this keychain* might help keep everything organized and in one place. With so many keys, it's easy to misplace one.\"},\n",
       " {'topic:': 'Newspaper_990192bf',\n",
       "  'snippet': \"I wonder if you'd like to discuss any interesting articles from *this newspaper*. It's always fun to share insights.\"},\n",
       " {'topic:': 'Newspaper_990192bf',\n",
       "  'snippet': 'If you enjoy *them*, maybe you can consider a subscription. It can be quite convenient to have them directly delivered to your door.'},\n",
       " {'topic:': 'Newspaper_990192bf',\n",
       "  'snippet': 'Luckily, you can pay digitally. *This subscription* can be renewed quickly online, saving you any hassle.'},\n",
       " {'topic:': 'Box_7d6b3e2c',\n",
       "  'snippet': 'We should decide where *this box* belongs. Is it storage, or do you have plans to sort through it soon?'},\n",
       " {'topic:': 'Book_17',\n",
       "  'snippet': \"I'm curious whether *this hardcover* is a page-turner for you. If so, I'd love some recommendations from it.\"},\n",
       " {'topic:': 'Book_17',\n",
       "  'snippet': 'Appreciate it! You know, I think *it* adds a scholarly charm to the room, complementing the overall aesthetic beautifully.'},\n",
       " {'topic:': 'Book_17',\n",
       "  'snippet': \"It's amazing how well *this edition* fits into the room's design. It brings a sense of sophistication to the space.\"},\n",
       " {'topic:': 'furniture',\n",
       "  'snippet': 'Before we finish up, let’s make sure *these cushions* are neatly arranged. They bring a lot of warmth to the room when positioned correctly.'},\n",
       " {'topic:': 'painting',\n",
       "  'snippet': \"Rearranging *these artworks* might give a fresh outlook. I'm curious to see how the room would feel with the new placements.\"},\n",
       " {'topic:': 'painting',\n",
       "  'snippet': \"I adore how prominently *it* stands out. It's nice to see a piece of art immediately establish a room's character.\"},\n",
       " {'topic:': 'garbage bin',\n",
       "  'snippet': 'I agree, *this garbage bin* needs a new spot. Perhaps moving it closer to the kitchen would be more convenient.'},\n",
       " {'topic:': 'Book_28',\n",
       "  'snippet': \"If you're not into this genre, maybe *this mystery novel* isn't your style, but it could be a nice gift for someone else who enjoys detective stories.\"}]"
      ]
     },
     "execution_count": 91,
     "metadata": {},
     "output_type": "execute_result"
    }
   ],
   "source": [
    "clean_response(esponse_text)"
   ]
  },
  {
   "cell_type": "code",
   "execution_count": 94,
   "metadata": {},
   "outputs": [],
   "source": [
    "def get_prompt(item):\n",
    "    test = json.dumps(item, indent=4)\n",
    "    return f\"\"\"\n",
    "You are given a JSON list of conversation items. Each item has a \"topic\" and a \"snippet\" (a short excerpt).\n",
    "\n",
    "Your task is to write a **new snippet** for each topic:\n",
    "- The new snippet must naturally continue the conversation and be **30–80 words** long.\n",
    "- It must include exactly **one reference** to the **specific topic**, using a demonstrative determiner (\"this\", \"that\", \"these\", \"those\") or a clear pronoun.\n",
    "- **Only** the determiner should be marked in bold using markdown (e.g., *this painting*).\n",
    "- Do not refer to a general category (e.g., \"a newspaper\"); refer directly to the topic.\n",
    "- References must sound natural, not forced. Vary between noun phrases and pronouns where possible.\n",
    "- If another topic is clearly mentioned in relation to the main one, it’s acceptable to reuse spatial references.\n",
    "- Create **one new snippet per item**.\n",
    "\n",
    "Bad example:  \n",
    "'If you want, I can stop by the kiosk and get *a newspaper* for tomorrow.' → Incorrect: refers to another item, uses an article instead of a demonstrative determiner.\n",
    "\n",
    "---\n",
    "\n",
    "```json\n",
    "{test}\n",
    "```\n",
    "\"\"\""
   ]
  },
  {
   "cell_type": "code",
   "execution_count": 95,
   "metadata": {},
   "outputs": [],
   "source": [
    "all_results = {}"
   ]
  },
  {
   "cell_type": "code",
   "execution_count": 96,
   "metadata": {},
   "outputs": [],
   "source": [
    "def process_item(itemid, max_retries=3):\n",
    "    current = alldata[itemid]\n",
    "    filename = filepointer[itemid]\n",
    "    prompt = get_prompt(current)\n",
    "\n",
    "    allreskey = f\"{filename}__{itemid}\"\n",
    "\n",
    "    if not allreskey in all_results:\n",
    "        all_results[allreskey] = {\n",
    "            \"person\": current[\"person\"],\n",
    "            \"room\": current[\"room\"],\n",
    "            \"filename\": filename,\n",
    "            \"items\": []\n",
    "        }\n",
    "    current_result = all_results[allreskey]\n",
    "\n",
    "    for attempt in range(max_retries):\n",
    "        try:\n",
    "            response = client.chat.completions.create(\n",
    "                model=\"gpt-4o\",\n",
    "                messages=[\n",
    "                    {\n",
    "                        \"role\": \"user\",\n",
    "                        \"content\": [\n",
    "                            { \"type\": \"text\", \"text\": prompt },\n",
    "                        ]\n",
    "                    }\n",
    "                ]\n",
    "            )\n",
    "\n",
    "            response_text = response.choices[0].message.content\n",
    "            response_data = clean_response(response_text)\n",
    "            if type(response_data) == dict:\n",
    "                current_result[\"items\"].append(response_data[\"items\"])\n",
    "            elif type(response_data) == list:\n",
    "                current_result[\"items\"].append(response_data)\n",
    "\n",
    "        except Exception as e:\n",
    "            print(f\"⚠️ Error on attempt {attempt + 1}: {e}\")\n",
    "            if attempt == max_retries - 1:\n",
    "                print(\"Max retries reached. Skipping this item.\")\n",
    "                return\n"
   ]
  },
  {
   "cell_type": "code",
   "execution_count": null,
   "metadata": {},
   "outputs": [],
   "source": [
    "for itemid in range(len(alldata)):\n",
    "    process_item(itemid)"
   ]
  }
 ],
 "metadata": {
  "kernelspec": {
   "display_name": "nst-tts",
   "language": "python",
   "name": "python3"
  },
  "language_info": {
   "codemirror_mode": {
    "name": "ipython",
    "version": 3
   },
   "file_extension": ".py",
   "mimetype": "text/x-python",
   "name": "python",
   "nbconvert_exporter": "python",
   "pygments_lexer": "ipython3",
   "version": "3.10.9"
  }
 },
 "nbformat": 4,
 "nbformat_minor": 2
}
