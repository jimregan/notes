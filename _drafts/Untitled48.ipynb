{
  "nbformat": 4,
  "nbformat_minor": 0,
  "metadata": {
    "colab": {
      "provenance": []
    },
    "kernelspec": {
      "name": "python3",
      "display_name": "Python 3"
    },
    "language_info": {
      "name": "python"
    }
  },
  "cells": [
    {
      "cell_type": "code",
      "execution_count": 17,
      "metadata": {
        "colab": {
          "base_uri": "https://localhost:8080/",
          "height": 305
        },
        "id": "is_foPfawEuR",
        "outputId": "12e3a2bc-0cb9-4993-acb4-6a2ce2fe3de2"
      },
      "outputs": [
        {
          "output_type": "error",
          "ename": "KeyError",
          "evalue": "'pair'",
          "traceback": [
            "\u001b[0;31m---------------------------------------------------------------------------\u001b[0m",
            "\u001b[0;31mKeyError\u001b[0m                                  Traceback (most recent call last)",
            "\u001b[0;32m<ipython-input-17-39398176b264>\u001b[0m in \u001b[0;36m<cell line: 0>\u001b[0;34m()\u001b[0m\n\u001b[1;32m     66\u001b[0m \u001b[0;34m\u001b[0m\u001b[0m\n\u001b[1;32m     67\u001b[0m \u001b[0;31m# Call the function to display the animation in Jupyter Notebook\u001b[0m\u001b[0;34m\u001b[0m\u001b[0;34m\u001b[0m\u001b[0m\n\u001b[0;32m---> 68\u001b[0;31m \u001b[0mrender_animation\u001b[0m\u001b[0;34m(\u001b[0m\u001b[0;34m)\u001b[0m\u001b[0;34m\u001b[0m\u001b[0;34m\u001b[0m\u001b[0m\n\u001b[0m",
            "\u001b[0;32m<ipython-input-17-39398176b264>\u001b[0m in \u001b[0;36mrender_animation\u001b[0;34m()\u001b[0m\n\u001b[1;32m     62\u001b[0m         \u001b[0mupdateDisplay\u001b[0m\u001b[0;34m(\u001b[0m\u001b[0;34m)\u001b[0m\u001b[0;34m;\u001b[0m\u001b[0;34m\u001b[0m\u001b[0;34m\u001b[0m\u001b[0m\n\u001b[1;32m     63\u001b[0m     \u001b[0;34m<\u001b[0m\u001b[0;34m/\u001b[0m\u001b[0mscript\u001b[0m\u001b[0;34m>\u001b[0m\u001b[0;34m\u001b[0m\u001b[0;34m\u001b[0m\u001b[0m\n\u001b[0;32m---> 64\u001b[0;31m     \"\"\".format(steps=str(modifications))\n\u001b[0m\u001b[1;32m     65\u001b[0m     \u001b[0mdisplay\u001b[0m\u001b[0;34m(\u001b[0m\u001b[0mHTML\u001b[0m\u001b[0;34m(\u001b[0m\u001b[0mhtml_template\u001b[0m\u001b[0;34m)\u001b[0m\u001b[0;34m)\u001b[0m\u001b[0;34m\u001b[0m\u001b[0;34m\u001b[0m\u001b[0m\n\u001b[1;32m     66\u001b[0m \u001b[0;34m\u001b[0m\u001b[0m\n",
            "\u001b[0;31mKeyError\u001b[0m: 'pair'"
          ]
        }
      ],
      "source": [
        "from IPython.core.display import display, HTML\n",
        "import time\n",
        "\n",
        "# Define the phonetic transformation steps\n",
        "steps = [\n",
        "    (\"find him\", \"/faɪnd hɪm/\"),\n",
        "    (\"around this\", \"/əɹaʊnd ðɪs/\"),\n",
        "    (\"let me\", \"/lɛt mi:/\")\n",
        "]\n",
        "\n",
        "# Define step-wise modifications\n",
        "modifications = [\n",
        "    # Step 1: Normal text\n",
        "    steps,\n",
        "    # Step 2: Highlight letters that will change\n",
        "    [(\"find him\", \"/faɪnd hɪm/\"),\n",
        "     (\"around this\", \"/əɹaʊnd ðɪs/\"),\n",
        "     (\"let me\", \"/lɛt mi:/\")],\n",
        "    # Step 3: Highlight phonemes to be deleted\n",
        "    [(\"find him\", \"/faɪnd hɪm/\"),\n",
        "     (\"around this\", \"/əɹaʊnd ðɪs/\"),\n",
        "     (\"let me\", \"/lɛt mi:/\")],\n",
        "    # Step 4: Remove phonemes\n",
        "    [(\"find him\", \"/faɪ hɪm/\"),\n",
        "     (\"around this\", \"/əɹaʊn ðɪs/\"),\n",
        "     (\"let me\", \"/lɛ mi:/\")],\n",
        "    # Step 5: Slide phonemes together\n",
        "    [(\"find him\", \"/faɪn dɪm/\"),\n",
        "     (\"around this\", \"/əɹaʊn ðɪs/\"),\n",
        "     (\"let me\", \"/lɛ mi:/\")]\n",
        "]\n",
        "\n",
        "# Function to render animation in Jupyter Notebook\n",
        "def render_animation():\n",
        "    html_template = \"\"\"\n",
        "    <style>\n",
        "        @keyframes fadeIn {{\n",
        "            from {{ opacity: 0; }}\n",
        "            to {{ opacity: 1; }}\n",
        "        }}\n",
        "        .phoneme-step {{\n",
        "            font-size: 20px;\n",
        "            font-family: Arial, sans-serif;\n",
        "            margin-bottom: 10px;\n",
        "            animation: fadeIn 1s;\n",
        "        }}\n",
        "        .highlight {{\n",
        "            color: red;\n",
        "            font-weight: bold;\n",
        "        }}\n",
        "    </style>\n",
        "    <div id='phoneme-display'></div>\n",
        "    <script>\n",
        "        let steps = {steps};\n",
        "        let index = 0;\n",
        "        function updateDisplay() {{\n",
        "            let displayDiv = document.getElementById('phoneme-display');\n",
        "            displayDiv.innerHTML = steps[index].map(pair => `<div class='phoneme-step'><strong>${{pair[0]}}</strong>: ${pair[1]}</div>`).join('');\n",
        "            index = (index + 1) % steps.length;\n",
        "            setTimeout(updateDisplay, 2000);\n",
        "        }}\n",
        "        updateDisplay();\n",
        "    </script>\n",
        "    \"\"\".format(steps=str(modifications))\n",
        "    display(HTML(html_template))\n",
        "\n",
        "# Call the function to display the animation in Jupyter Notebook\n",
        "render_animation()\n"
      ]
    }
  ]
}