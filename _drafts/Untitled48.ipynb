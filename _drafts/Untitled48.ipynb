{
  "nbformat": 4,
  "nbformat_minor": 0,
  "metadata": {
    "colab": {
      "provenance": []
    },
    "kernelspec": {
      "name": "python3",
      "display_name": "Python 3"
    },
    "language_info": {
      "name": "python"
    }
  },
  "cells": [
    {
      "cell_type": "code",
      "source": [
        "%%capture\n",
        "!apt-get install imagemagick"
      ],
      "metadata": {
        "id": "rR4CQLHryOif"
      },
      "execution_count": 7,
      "outputs": []
    },
    {
      "cell_type": "code",
      "source": [
        "try:\n",
        "    import matplotlib.pyplot as plt\n",
        "    from matplotlib.animation import FuncAnimation\n",
        "    plt.rcParams['animation.writer'] = 'imagemagick'\n",
        "    MATPLOTLIB_AVAILABLE = True\n",
        "except ImportError:\n",
        "    MATPLOTLIB_AVAILABLE = False\n",
        "\n"
      ],
      "metadata": {
        "id": "2vX3ngMiygap"
      },
      "execution_count": 8,
      "outputs": []
    },
    {
      "cell_type": "code",
      "execution_count": 12,
      "metadata": {
        "colab": {
          "base_uri": "https://localhost:8080/",
          "height": 406
        },
        "id": "is_foPfawEuR",
        "outputId": "a02c68db-107b-4d0a-accc-4c695af4d8c9"
      },
      "outputs": [
        {
          "output_type": "display_data",
          "data": {
            "text/plain": [
              "<Figure size 640x480 with 1 Axes>"
            ],
            "image/png": "[encoded data removed]"
          },
          "metadata": {}
        }
      ],
      "source": [
        "import numpy as np\n",
        "\n",
        "# Check if matplotlib is installed and handle gracefully if it's not\n",
        "try:\n",
        "    import matplotlib.pyplot as plt\n",
        "    from matplotlib.animation import FuncAnimation\n",
        "    MATPLOTLIB_AVAILABLE = True\n",
        "except ImportError:\n",
        "    MATPLOTLIB_AVAILABLE = False\n",
        "\n",
        "if MATPLOTLIB_AVAILABLE:\n",
        "    # Define the phrases and their phonetic representations\n",
        "    phrases = [\"find him\", \"around this\", \"let me\"]\n",
        "    phonemes = [\"/faɪnd hɪm/\", \"/əɹaʊnd ðɪs/\", \"/lɛt mi:/\"]\n",
        "    deletions = [[4, 5], [3, 4], [1]]  # Corrected deletion indexes for each phrase\n",
        "    highlight_indices = [[2], [3], [1]]  # Correct indices for initial red highlights\n",
        "\n",
        "    # Create the figure and axes\n",
        "    fig, ax = plt.subplots()\n",
        "    ax.axis('off')  # Turn off the axes\n",
        "    texts = []\n",
        "    full_texts = []  # Store the full phoneme sequences\n",
        "\n",
        "    # Initialize display positions\n",
        "    y_offset = 0.8\n",
        "    for phrase, phonetic in zip(phrases, phonemes):\n",
        "        ax.text(0.1, y_offset, phrase, fontsize=14, ha='right', transform=ax.transAxes)\n",
        "        text_obj = ax.text(0.2, y_offset, phonetic, fontsize=14, ha='left', color='black', transform=ax.transAxes)\n",
        "        texts.append(text_obj)\n",
        "        full_texts.append(list(phonetic))\n",
        "        y_offset -= 0.2\n",
        "\n",
        "    # Update function for animation\n",
        "    def update(frame):\n",
        "        for i, (text, phonetic, del_indices, highlight) in enumerate(zip(texts, full_texts, deletions, highlight_indices)):\n",
        "            current_text = list(phonetic)\n",
        "\n",
        "            if frame == 0:\n",
        "                # Step 1: Display everything in black\n",
        "                text.set_text(''.join(current_text))\n",
        "                text.set_color('black')\n",
        "\n",
        "            elif frame == 1:\n",
        "                # Step 2: Highlight relevant characters in red\n",
        "                highlighted_text = ''.join(\n",
        "                    f\"{char}\" if idx not in highlight else f\"<span style='color:red;'>{char}</span>\"\n",
        "                    for idx, char in enumerate(current_text)\n",
        "                )\n",
        "                text.set_text('')\n",
        "                text.set_text(highlighted_text)\n",
        "\n",
        "            elif frame == 2:\n",
        "                # Step 3: Highlight all characters to be deleted in red\n",
        "                highlighted_text = ''.join(\n",
        "                    f\"{char}\" if idx not in del_indices else f\"<span style='color:red;'>{char}</span>\"\n",
        "                    for idx, char in enumerate(current_text)\n",
        "                )\n",
        "                text.set_text('')\n",
        "                text.set_text(highlighted_text)\n",
        "\n",
        "            elif frame == 3:\n",
        "                # Step 4: Remove the highlighted phonemes\n",
        "                for idx in del_indices:\n",
        "                    current_text[idx] = ''\n",
        "                text.set_text(''.join(current_text))\n",
        "\n",
        "            elif frame == 4:\n",
        "                # Step 5: Slide the remaining phonemes together\n",
        "                compacted_text = ''.join([char for char in current_text if char != ''])\n",
        "                text.set_text(compacted_text)\n",
        "\n",
        "    # Set up animation\n",
        "    anim = FuncAnimation(\n",
        "        fig, update, frames=5, interval=1000, repeat=False\n",
        "    )\n",
        "\n",
        "    # Save the animation\n",
        "    anim.save('phoneme_deletion.gif', writer='imagemagick')\n",
        "\n",
        "    plt.show()\n",
        "else:\n",
        "    print(\"Matplotlib is not installed. Please install matplotlib to run this script.\")"
      ]
    }
  ]
}