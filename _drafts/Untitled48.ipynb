{
  "nbformat": 4,
  "nbformat_minor": 0,
  "metadata": {
    "colab": {
      "provenance": []
    },
    "kernelspec": {
      "name": "python3",
      "display_name": "Python 3"
    },
    "language_info": {
      "name": "python"
    }
  },
  "cells": [
    {
      "cell_type": "code",
      "execution_count": 18,
      "metadata": {
        "colab": {
          "base_uri": "https://localhost:8080/",
          "height": 121
        },
        "id": "is_foPfawEuR",
        "outputId": "e90becdd-ecfe-449b-cd6a-d66ce2e554d4"
      },
      "outputs": [
        {
          "output_type": "display_data",
          "data": {
            "text/plain": [
              "<IPython.core.display.HTML object>"
            ],
            "text/html": [
              "\n",
              "    <style>\n",
              "        @keyframes fadeIn {\n",
              "            from { opacity: 0; }\n",
              "            to { opacity: 1; }\n",
              "        }\n",
              "        .phoneme-step {\n",
              "            font-size: 20px;\n",
              "            font-family: Arial, sans-serif;\n",
              "            margin-bottom: 10px;\n",
              "            animation: fadeIn 1s;\n",
              "        }\n",
              "        .hl_red {\n",
              "            color: red;\n",
              "            font-weight: bold;\n",
              "        }\n",
              "    </style>\n",
              "    <div id='phoneme-display'></div>\n",
              "    <script>\n",
              "        let steps = [[('find him', '/faɪnd hɪm/'), ('around this', '/əɹaʊnd ðɪs/'), ('let me', '/lɛt mi:/')], [(\"fin<span class='hl_red'>d h</span>im\", '/faɪnd hɪm/'), (\"aroun<span class='hl_red'>d th</span>is\", '/əɹaʊnd ðɪs/'), (\"le<span class='hl_red'>t</span> me\", '/lɛt mi:/')], [(\"fin<span class='hl_red'>d h</span>im\", \"/faɪn<span class='hl_red'>d h</span>ɪm/\"), (\"aroun<span class='hl_red'>d th</span>is\", \"/əɹaʊn<span class='hl_red'>d ð</span>ɪs/\"), (\"le<span class='hl_red'>t</span> me\", \"/lɛ<span class='hl_red'>t</span> mi:/\")], [(\"fin<span class='hl_red'>d h</span>im\", '/faɪn ɪm/'), (\"aroun<span class='hl_red'>d th</span>is\", '/əɹaʊn ɪs/'), (\"le<span class='hl_red'>t</span> me\", '/lɛ mi:/')], [(\"fin<span class='hl_red'>d h</span>im\", '/faɪnɪm/'), (\"aroun<span class='hl_red'>d th</span>is\", '/əɹaʊnɪs/'), (\"le<span class='hl_red'>t</span> me\", '/lɛmi:/')], [(\"fin<span class='hl_red'>d h</span>im\", '/faɪɾ̃ɪm/'), (\"aroun<span class='hl_red'>d th</span>is\", '/əɹaʊɾ̃ɪs/'), (\"le<span class='hl_red'>t</span> me\", '/lɛmi:/')]];\n",
              "        let index = 0;\n",
              "        function updateDisplay() {\n",
              "            let displayDiv = document.getElementById('phoneme-display');\n",
              "            displayDiv.innerHTML = steps[index].map(pair => `<div class='phoneme-step'><strong>${pair[0]}</strong>: ${pair[1]}</div>`).join('');\n",
              "            index = (index + 1) % steps.length;\n",
              "            setTimeout(updateDisplay, 2000);\n",
              "        }\n",
              "        updateDisplay();\n",
              "    </script>\n",
              "    "
            ]
          },
          "metadata": {}
        }
      ],
      "source": [
        "from IPython.core.display import display, HTML\n",
        "import time\n",
        "\n",
        "# Define the phonetic transformation steps\n",
        "steps = [\n",
        "    (\"find him\", \"/faɪnd hɪm/\"),\n",
        "    (\"around this\", \"/əɹaʊnd ðɪs/\"),\n",
        "    (\"let me\", \"/lɛt mi:/\")\n",
        "]\n",
        "\n",
        "# Define step-wise modifications\n",
        "modifications = [\n",
        "    # Step 1: Normal text\n",
        "    steps,\n",
        "    # Step 2: Highlight letters that will change\n",
        "    [(\"fin<span class='hl_red'>d h</span>im\", \"/faɪnd hɪm/\"),\n",
        "     (\"aroun<span class='hl_red'>d th</span>is\", \"/əɹaʊnd ðɪs/\"),\n",
        "     (\"le<span class='hl_red'>t</span> me\", \"/lɛt mi:/\")],\n",
        "    # Step 3: Highlight phonemes to be deleted\n",
        "    [(\"fin<span class='hl_red'>d h</span>im\", \"/faɪn<span class='hl_red'>d h</span>ɪm/\"),\n",
        "     (\"aroun<span class='hl_red'>d th</span>is\", \"/əɹaʊn<span class='hl_red'>d ð</span>ɪs/\"),\n",
        "     (\"le<span class='hl_red'>t</span> me\", \"/lɛ<span class='hl_red'>t</span> mi:/\")],\n",
        "    # Step 4: Remove phonemes\n",
        "    [(\"fin<span class='hl_red'>d h</span>im\", \"/faɪn ɪm/\"),\n",
        "     (\"aroun<span class='hl_red'>d th</span>is\", \"/əɹaʊn ɪs/\"),\n",
        "     (\"le<span class='hl_red'>t</span> me\", \"/lɛ mi:/\")],\n",
        "    # Step 5: Slide phonemes together\n",
        "    [(\"fin<span class='hl_red'>d h</span>im\", \"/faɪnɪm/\"),\n",
        "     (\"aroun<span class='hl_red'>d th</span>is\", \"/əɹaʊnɪs/\"),\n",
        "     (\"le<span class='hl_red'>t</span> me\", \"/lɛmi:/\")],\n",
        "    # Step 6: More accurate phonetic representation\n",
        "    [(\"fin<span class='hl_red'>d h</span>im\", \"/faɪɾ̃ɪm/\"),\n",
        "     (\"aroun<span class='hl_red'>d th</span>is\", \"/əɹaʊɾ̃ɪs/\"),\n",
        "     (\"le<span class='hl_red'>t</span> me\", \"/lɛmi:/\")],\n",
        "]\n",
        "\n",
        "# Function to render animation in Jupyter Notebook\n",
        "def render_animation():\n",
        "    html_template = \"\"\"\n",
        "    <style>\n",
        "        @keyframes fadeIn {{\n",
        "            from {{ opacity: 0; }}\n",
        "            to {{ opacity: 1; }}\n",
        "        }}\n",
        "        .phoneme-step {{\n",
        "            font-size: 20px;\n",
        "            font-family: Arial, sans-serif;\n",
        "            margin-bottom: 10px;\n",
        "            animation: fadeIn 1s;\n",
        "        }}\n",
        "        .hl_red {{\n",
        "            color: red;\n",
        "            font-weight: bold;\n",
        "        }}\n",
        "    </style>\n",
        "    <div id='phoneme-display'></div>\n",
        "    <script>\n",
        "        let steps = {steps};\n",
        "        let index = 0;\n",
        "        function updateDisplay() {{\n",
        "            let displayDiv = document.getElementById('phoneme-display');\n",
        "            displayDiv.innerHTML = steps[index].map(pair => `<div class='phoneme-step'><strong>${{pair[0]}}</strong>: ${{pair[1]}}</div>`).join('');\n",
        "            index = (index + 1) % steps.length;\n",
        "            setTimeout(updateDisplay, 2000);\n",
        "        }}\n",
        "        updateDisplay();\n",
        "    </script>\n",
        "    \"\"\".format(steps=str(modifications))\n",
        "    display(HTML(html_template))\n",
        "\n",
        "# Call the function to display the animation in Jupyter Notebook\n",
        "render_animation()\n"
      ]
    }
  ]
}