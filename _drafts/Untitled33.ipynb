{
  "nbformat": 4,
  "nbformat_minor": 0,
  "metadata": {
    "colab": {
      "provenance": []
    },
    "kernelspec": {
      "name": "python3",
      "display_name": "Python 3"
    },
    "language_info": {
      "name": "python"
    }
  },
  "cells": [
    {
      "cell_type": "code",
      "execution_count": 2,
      "metadata": {
        "colab": {
          "base_uri": "https://localhost:8080/"
        },
        "id": "3AI0Et0kGtX4",
        "outputId": "bd9933dc-b843-4676-f643-9913eee095eb"
      },
      "outputs": [
        {
          "output_type": "stream",
          "name": "stdout",
          "text": [
            "--2023-06-21 17:58:36--  https://dumps.wikimedia.org/enwiktionary/20230620/enwiktionary-20230620-pages-articles-multistream.xml.bz2\n",
            "Resolving dumps.wikimedia.org (dumps.wikimedia.org)... 208.80.154.142, 2620:0:861:2:208:80:154:142\n",
            "Connecting to dumps.wikimedia.org (dumps.wikimedia.org)|208.80.154.142|:443... connected.\n",
            "HTTP request sent, awaiting response... 200 OK\n",
            "Length: 1309869940 (1.2G) [application/octet-stream]\n",
            "Saving to: ‘enwiktionary-20230620-pages-articles-multistream.xml.bz2’\n",
            "\n",
            "enwiktionary-202306 100%[===================>]   1.22G  3.69MB/s    in 5m 54s  \n",
            "\n",
            "2023-06-21 18:04:31 (3.53 MB/s) - ‘enwiktionary-20230620-pages-articles-multistream.xml.bz2’ saved [1309869940/1309869940]\n",
            "\n"
          ]
        }
      ],
      "source": [
        "!wget https://dumps.wikimedia.org/enwiktionary/20230620/enwiktionary-20230620-pages-articles-multistream.xml.bz2"
      ]
    },
    {
      "cell_type": "code",
      "source": [
        "%%writefile pluck-ipa-hu.pl\n",
        "#!/usr/bin/perl\n",
        "\n",
        "use warnings;\n",
        "use strict;\n",
        "use utf8;\n",
        "\n",
        "binmode(STDIN, \":utf8\");\n",
        "binmode(STDOUT, \":utf8\");\n",
        "\n",
        "my $title = '';\n",
        "while(<>) {\n",
        "\tchomp;\n",
        "\tif(m!<title>([^<]+)</title>!) {\n",
        "\t\t$title = $1;\n",
        "\t}\n",
        "  if($title =~ /^Wiktionary:/) {\n",
        "    next;\n",
        "  }\n",
        "\tif(m/\\{\\{IPA\\|hu\\|/) {\n",
        "\t\tif($title and $title ne '') {\n",
        "\t\t\tprint \"\\n$title\\n\";\n",
        "\t\t\t$title = '';\n",
        "\t\t}\n",
        "\t\tprint \"$_\\n\";\n",
        "\t}\n",
        "}"
      ],
      "metadata": {
        "colab": {
          "base_uri": "https://localhost:8080/"
        },
        "id": "HECQ8NF4GyLj",
        "outputId": "1f98e5f7-4912-420b-ae6a-eedf73683ebc"
      },
      "execution_count": 4,
      "outputs": [
        {
          "output_type": "stream",
          "name": "stdout",
          "text": [
            "Overwriting pluck-ipa-hu.pl\n"
          ]
        }
      ]
    },
    {
      "cell_type": "code",
      "source": [
        "!bzcat enwiktionary-20230620-pages-articles-multistream.xml.bz2 |perl pluck-ipa-hu.pl > hungarian-ipa-raw.txt"
      ],
      "metadata": {
        "id": "Ci-vjr6tG2HM"
      },
      "execution_count": 5,
      "outputs": []
    },
    {
      "cell_type": "code",
      "source": [
        "%%writefile pluck-ipa-hu-auto.pl\n",
        "#!/usr/bin/perl\n",
        "\n",
        "use warnings;\n",
        "use strict;\n",
        "use utf8;\n",
        "\n",
        "binmode(STDIN, \":utf8\");\n",
        "binmode(STDOUT, \":utf8\");\n",
        "\n",
        "my $title = '';\n",
        "while(<>) {\n",
        "\tchomp;\n",
        "\tif(m!<title>([^<]+)</title>!) {\n",
        "\t\t$title = $1;\n",
        "\t}\n",
        "\tif($title =~ /^Wiktionary:/) {\n",
        "\t\tnext;\n",
        "\t}\n",
        "\tif(m/\\{\\{hu-IPA\\|([^\\}]+)\\}\\}/) {\n",
        "\t\tmy $rep = $1;\n",
        "\t\tif($title and $title ne '') {\n",
        "\t\t\tprint \"$title\\t$rep\\n\";\n",
        "\t\t\t$title = '';\n",
        "\t\t\t$rep = '';\n",
        "\t\t}\n",
        "\t} elsif(m/\\{\\{hu-IPA\\}\\}/) {\n",
        "\t\tprint \"$title\\n\";\n",
        "\t}\n",
        "}"
      ],
      "metadata": {
        "colab": {
          "base_uri": "https://localhost:8080/"
        },
        "id": "yh6j7LPsI4KK",
        "outputId": "219f8027-7a3b-49d2-aede-c1de177cd9ab"
      },
      "execution_count": 8,
      "outputs": [
        {
          "output_type": "stream",
          "name": "stdout",
          "text": [
            "Overwriting pluck-ipa-hu-auto.pl\n"
          ]
        }
      ]
    },
    {
      "cell_type": "code",
      "source": [
        "!bzcat enwiktionary-20230620-pages-articles-multistream.xml.bz2 |perl pluck-ipa-hu-auto.pl > hungarian-ipa-auto.txt"
      ],
      "metadata": {
        "id": "llOph_IIJcGt"
      },
      "execution_count": 9,
      "outputs": []
    }
  ]
}