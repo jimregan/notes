{
  "nbformat": 4,
  "nbformat_minor": 0,
  "metadata": {
    "colab": {
      "name": "Untitled26.ipynb",
      "provenance": [],
      "collapsed_sections": []
    },
    "kernelspec": {
      "name": "python3",
      "display_name": "Python 3"
    },
    "language_info": {
      "name": "python"
    }
  },
  "cells": [
    {
      "cell_type": "code",
      "execution_count": 1,
      "metadata": {
        "id": "lwIha6Am7JDe"
      },
      "outputs": [],
      "source": [
        "%%capture\n",
        "!pip install transformers"
      ]
    },
    {
      "cell_type": "code",
      "source": [
        "%%capture\n",
        "!pip install mosestokenizer"
      ],
      "metadata": {
        "id": "KWdcPtF97SF4"
      },
      "execution_count": 3,
      "outputs": []
    },
    {
      "cell_type": "code",
      "source": [
        "SAMPLE = \"\"\"\n",
        "0.66\t1.04\tyeah,\n",
        "1.04\t1.29\tI\n",
        "1.29\t1.64\twas,\n",
        "1.65\t2.04\tI\n",
        "2.05\t2.45\tlike\n",
        "2.45\t2.55\tdid\n",
        "3.34\t4.07\tbasically.\n",
        "4.08\t4.95\tYeah.\n",
        "4.96\t5.93\tSo\n",
        "6.16\t6.335\tit\n",
        "6.335\t6.47\tis\n",
        "6.47\t7.0\tinteresting\n",
        "7.01\t7.25\tbecause\n",
        "7.25\t7.91\tlike\n",
        "7.92\t8.17\tif\n",
        "8.17\t8.56\tanybody\n",
        "8.56\t8.85\tbless\n",
        "8.85\t9.15\tyou\n",
        "9.16\t9.4\tif\n",
        "9.4\t9.86\tanybody\n",
        "9.86\t10.37\thad\n",
        "10.37\t10.75\tumm\n",
        "11.14\t11.76\tlike\n",
        "13.24\t13.46\tthing\n",
        "13.46\t13.58\tor\n",
        "13.58\t13.9\tlike,\n",
        "13.9\t13.99\tyou\n",
        "13.99\t14.18\tknow,\n",
        "14.18\t14.42\tyou\n",
        "14.42\t14.61\twant\n",
        "14.61\t14.71\tto\n",
        "14.71\t14.96\tlike\n",
        "14.96\t15.72\tinject\n",
        "15.73\t16.42\tcontrast\n",
        "16.42\t16.49\tat\n",
        "16.49\t16.55\ta\n",
        "16.55\t16.83\tcertain\n",
        "16.83\t17.34\tpoint\n",
        "17.35\t17.71\tand\n",
        "17.71\t17.82\tyou\n",
        "17.82\t18.04\twanted\n",
        "18.04\t18.11\tto\n",
        "18.12\t18.26\tgo\n",
        "18.26\t18.45\tinto\n",
        "18.46\t18.77\tthis\n",
        "18.77\t19.29\tfast\n",
        "19.29\t19.6\tand\n",
        "19.61\t19.76\tyou\n",
        "19.76\t19.96\tneed\n",
        "19.96\t20.08\tto\n",
        "20.08\t20.28\tlike\n",
        "20.28\t20.47\tstart\n",
        "20.47\t20.6\tyour\n",
        "20.6\t20.89\tscan\n",
        "20.89\t20.99\tat\n",
        "20.99\t21.21\tthis\n",
        "21.21\t21.78\ttime.\n",
        "\"\"\""
      ],
      "metadata": {
        "id": "Soe6M4HggrYa"
      },
      "execution_count": 4,
      "outputs": []
    },
    {
      "cell_type": "code",
      "source": [
        "data = [f.split(\"\\t\") for f in SAMPLE.split(\"\\n\") if \"\\t\" in f]"
      ],
      "metadata": {
        "id": "GbdslV_thNLb"
      },
      "execution_count": 5,
      "outputs": []
    },
    {
      "cell_type": "code",
      "source": [
        "raw_text = \" \".join([f[2] for f in data])"
      ],
      "metadata": {
        "id": "Ab2zQqGmhaDG"
      },
      "execution_count": 7,
      "outputs": []
    },
    {
      "cell_type": "code",
      "source": [
        "raw_text"
      ],
      "metadata": {
        "colab": {
          "base_uri": "https://localhost:8080/",
          "height": 53
        },
        "id": "4B0FNHpjh9ga",
        "outputId": "e6097562-fe96-470b-e06c-c1bdfc9efebe"
      },
      "execution_count": 10,
      "outputs": [
        {
          "output_type": "execute_result",
          "data": {
            "text/plain": [
              "'yeah, I was, I like did basically. Yeah. So it is interesting because like if anybody bless you if anybody had umm like thing or like, you know, you want to like inject contrast at a certain point and you wanted to go into this fast and you need to like start your scan at this time.'"
            ],
            "application/vnd.google.colaboratory.intrinsic+json": {
              "type": "string"
            }
          },
          "metadata": {},
          "execution_count": 10
        }
      ]
    },
    {
      "cell_type": "code",
      "source": [
        "from mosestokenizer import MosesSentenceSplitter\n",
        "with MosesSentenceSplitter('en') as splitsents:\n",
        "    sents = splitsents([raw_text])"
      ],
      "metadata": {
        "id": "_oLFt_rkhnA1"
      },
      "execution_count": 11,
      "outputs": []
    },
    {
      "cell_type": "code",
      "source": [
        "sents"
      ],
      "metadata": {
        "colab": {
          "base_uri": "https://localhost:8080/"
        },
        "id": "acUlE8TDiJH4",
        "outputId": "019f92bb-0dc8-42c3-d0e4-85057dd4e774"
      },
      "execution_count": 12,
      "outputs": [
        {
          "output_type": "execute_result",
          "data": {
            "text/plain": [
              "['yeah, I was, I like did basically.',\n",
              " 'Yeah.',\n",
              " 'So it is interesting because like if anybody bless you if anybody had umm like thing or like, you know, you want to like inject contrast at a certain point and you wanted to go into this fast and you need to like start your scan at this time.']"
            ]
          },
          "metadata": {},
          "execution_count": 12
        }
      ]
    },
    {
      "cell_type": "code",
      "source": [
        "sentence_level = []\n",
        "counter = 0\n",
        "for sent in sents:\n",
        "    words = sent.split(\" \")\n",
        "    start = data[counter][0]\n",
        "    last = counter + len(words) - 1\n",
        "    if last > len(data):\n",
        "        last = -1\n",
        "    end = data[last][1]\n",
        "    cur = [start, end, sent]\n",
        "    sentence_level.append(cur)\n",
        "    counter += len(words)\n",
        "\n"
      ],
      "metadata": {
        "colab": {
          "base_uri": "https://localhost:8080/"
        },
        "id": "1hhLcpDziPDB",
        "outputId": "456aaed0-b4d1-4e47-eb9d-77453efe312f"
      },
      "execution_count": 23,
      "outputs": [
        {
          "output_type": "stream",
          "name": "stdout",
          "text": [
            "6\n",
            "['0.66', '4.07', 'yeah, I was, I like did basically.']\n",
            "7\n",
            "['4.08', '4.95', 'Yeah.']\n",
            "56\n",
            "['4.96', '21.78', 'So it is interesting because like if anybody bless you if anybody had umm like thing or like, you know, you want to like inject contrast at a certain point and you wanted to go into this fast and you need to like start your scan at this time.']\n"
          ]
        }
      ]
    }
  ]
}