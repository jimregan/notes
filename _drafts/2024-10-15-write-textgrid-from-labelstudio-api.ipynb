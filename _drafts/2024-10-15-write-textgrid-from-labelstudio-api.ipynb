{
 "cells": [
  {
   "cell_type": "markdown",
   "metadata": {},
   "source": [
    "# Write textgrid from Label Studio\n",
    "\n",
    "> \"For local editing\"\n",
    "\n",
    "- hidden: true\n",
    "- branch: master\n",
    "- categories: [labelstudio, textgrid, hsi]"
   ]
  },
  {
   "cell_type": "code",
   "execution_count": 2,
   "metadata": {},
   "outputs": [],
   "source": [
    "def slurpfile(filename) -> str:\n",
    "    with open(filename) as inf:\n",
    "        return inf.read().strip()"
   ]
  },
  {
   "cell_type": "code",
   "execution_count": 3,
   "metadata": {
    "tags": [
     "parameters"
    ]
   },
   "outputs": [],
   "source": [
    "host = \"http://130.237.3.107:8080/api/\"\n",
    "api_token: str = slurpfile(\"label_studio_mine\")\n",
    "input_dir = \"/Users/joregan/Desktop/breath_corrected/\""
   ]
  },
  {
   "cell_type": "code",
   "execution_count": 4,
   "metadata": {},
   "outputs": [],
   "source": [
    "import requests\n",
    "import json\n",
    "from pathlib import Path\n",
    "\n",
    "headers = {\n",
    "    \"Authorization\": f\"Token {api_token}\"\n",
    "}"
   ]
  },
  {
   "cell_type": "code",
   "execution_count": 5,
   "metadata": {},
   "outputs": [],
   "source": [
    "def get_tasks(projectid):\n",
    "    req = requests.get(f\"{host}tasks\", headers=headers, params={\"project\": projectid})\n",
    "    assert req.status_code == 200\n",
    "    data = json.loads(req.text)\n",
    "    return data"
   ]
  },
  {
   "cell_type": "code",
   "execution_count": 6,
   "metadata": {},
   "outputs": [],
   "source": [
    "def index_task_filestem_to_id(tasks_data):\n",
    "    tasks = tasks_data[\"tasks\"]\n",
    "    mapping = {}\n",
    "    for task in tasks:\n",
    "        task_id = task[\"id\"]\n",
    "        if \"storage_filename\" in task:\n",
    "            task_raw_path = task[\"storage_filename\"]\n",
    "        else:\n",
    "            task_raw_path = task[\"data\"][\"audio\"]\n",
    "        if not task_raw_path:\n",
    "            continue\n",
    "        task_stem = task_raw_path.split(\"/\")[-1]\n",
    "        mapping[task_stem] = task_id\n",
    "    return mapping"
   ]
  },
  {
   "cell_type": "code",
   "execution_count": 7,
   "metadata": {},
   "outputs": [],
   "source": [
    "tasks = get_tasks(7)"
   ]
  },
  {
   "cell_type": "code",
   "execution_count": 8,
   "metadata": {},
   "outputs": [],
   "source": [
    "mapping = index_task_filestem_to_id(tasks)"
   ]
  },
  {
   "cell_type": "code",
   "execution_count": 9,
   "metadata": {},
   "outputs": [
    {
     "data": {
      "text/plain": [
       "{'hsi_6_0718_209_001_main.wav': 96,\n",
       " 'hsi_6_0718_209_002_main.wav': 97,\n",
       " 'hsi_6_0718_209_003_main.wav': 98,\n",
       " 'hsi_6_0718_210_001_main.wav': 99,\n",
       " 'hsi_6_0718_210_002_main.wav': 100,\n",
       " 'hsi_6_0718_211_001_main.wav': 101,\n",
       " 'hsi_6_0718_211_002_main.wav': 102,\n",
       " 'hsi_6_0718_222_001_main.wav': 103,\n",
       " 'hsi_6_0718_222_003_main.wav': 104,\n",
       " 'hsi_6_0718_227_001_main.wav': 105,\n",
       " 'hsi_6_0718_227_002_main.wav': 106}"
      ]
     },
     "execution_count": 9,
     "metadata": {},
     "output_type": "execute_result"
    }
   ],
   "source": [
    "mapping"
   ]
  },
  {
   "cell_type": "code",
   "execution_count": 25,
   "metadata": {},
   "outputs": [],
   "source": [
    "import json\n",
    "import uuid\n",
    "from praatio import textgrid\n",
    "\n",
    "\n",
    "labels = {}\n",
    "labels[\"n\"] = \"Noise\"\n",
    "labels[\"spn\"] = \"Noise\"\n",
    "labels[\"b\"] = \"Breath\"\n",
    "labels[\"ct\"] = \"Cross-talk\"\n",
    "labels[\"sp\"] = \"Speech\"\n",
    "\n",
    "texts = {}\n",
    "texts[\"n\"] = \"noise\"\n",
    "texts[\"spn\"] = \"spn\"\n",
    "texts[\"b\"] = \"breath\"\n",
    "texts[\"ct\"] = \"crosstalk\"\n",
    "texts[\"sp\"] = \"\"\n",
    "\n",
    "def tg_to_result(tgfile):\n",
    "    outputs = []\n",
    "    tg = textgrid.openTextgrid(tgfile, False)\n",
    "    tiername = \"annot\"\n",
    "    if not tiername in tg.tierNames:\n",
    "        tiername = \"words\"\n",
    "\n",
    "    tier = tg.getTier(tiername)\n",
    "    for entry in tier.entries:\n",
    "        text = entry.label.strip()\n",
    "        if text == \"\":\n",
    "            continue\n",
    "\n",
    "        if not text in labels:\n",
    "            continue\n",
    "        label = labels[text]\n",
    "        text = texts[text]\n",
    "\n",
    "        gen_id = str(uuid.uuid4())[:6]\n",
    "        segment = {\n",
    "            \"value\": {\n",
    "                \"start\": entry.start,\n",
    "                \"end\": entry.end,\n",
    "                \"channel\": 0,\n",
    "                \"labels\": [label]\n",
    "            },\n",
    "            \"from_name\": \"labels\",\n",
    "            \"to_name\": \"audio\",\n",
    "            \"type\": \"labels\",\n",
    "            \"id\": gen_id\n",
    "        }\n",
    "        rec = {\n",
    "            \"value\": {\n",
    "                \"start\": entry.start,\n",
    "                \"end\": entry.end,\n",
    "                \"channel\": 0,\n",
    "                \"text\": [text]\n",
    "            },\n",
    "            \"from_name\": \"transcription\",\n",
    "            \"to_name\": \"audio\",\n",
    "            \"type\": \"textarea\",\n",
    "            \"id\": gen_id\n",
    "        }\n",
    "        outputs.append(segment)\n",
    "        outputs.append(rec)\n",
    "\n",
    "    return outputs"
   ]
  },
  {
   "cell_type": "code",
   "execution_count": 13,
   "metadata": {},
   "outputs": [],
   "source": [
    "def post_results(id, task, project, results):\n",
    "    ep = f\"{host}annotations/{id}/?taskID={task}&project={project}\"\n",
    "\n",
    "    cur_headers = {i: headers[i] for i in headers}\n",
    "    cur_headers[\"Content-type\"] = \"application/json\"\n",
    "\n",
    "    content = {\n",
    "        \"was_cancelled\": False,\n",
    "        \"ground_truth\": False,\n",
    "        \"project\": project,\n",
    "        \"draft_id\": 0,\n",
    "        \"parent_prediction\": None,\n",
    "        \"parent_annotation\": None,\n",
    "        \"result\": results\n",
    "    }\n",
    "    r = requests.patch(ep, data=json.dumps(content), headers=cur_headers)\n",
    "    return r"
   ]
  },
  {
   "cell_type": "code",
   "execution_count": 24,
   "metadata": {},
   "outputs": [],
   "source": [
    "file = f\"{input_dir}hsi_4_0717_211_002_main.TextGrid\"\n",
    "data = tg_to_result(file)"
   ]
  },
  {
   "cell_type": "code",
   "execution_count": null,
   "metadata": {},
   "outputs": [],
   "source": [
    "r = post_results(263, 77, 5, data)\n",
    "print(r.text)"
   ]
  }
 ],
 "metadata": {
  "kernelspec": {
   "display_name": "nst-tts",
   "language": "python",
   "name": "python3"
  },
  "language_info": {
   "codemirror_mode": {
    "name": "ipython",
    "version": 3
   },
   "file_extension": ".py",
   "mimetype": "text/x-python",
   "name": "python",
   "nbconvert_exporter": "python",
   "pygments_lexer": "ipython3",
   "version": "3.10.9"
  }
 },
 "nbformat": 4,
 "nbformat_minor": 2
}
