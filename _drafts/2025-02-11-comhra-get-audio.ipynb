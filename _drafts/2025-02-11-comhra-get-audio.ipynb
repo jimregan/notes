{
 "cells": [
  {
   "cell_type": "markdown",
   "metadata": {},
   "source": [
    "# Get audio from a webpage from the Comhra website\n",
    "\n",
    "> \"Simple example for a master's student\"\n",
    "\n",
    "- hidden: true\n",
    "- categories: [comhra, audio, web scraping]\n",
    "- branch: master"
   ]
  },
  {
   "cell_type": "code",
   "execution_count": 3,
   "metadata": {},
   "outputs": [],
   "source": [
    "EG = \"https://www.scss.tcd.ie/elaine.ui.dhonnchadha/comhra/irgl0001.utf8.html\""
   ]
  },
  {
   "cell_type": "code",
   "execution_count": 11,
   "metadata": {},
   "outputs": [],
   "source": [
    "import re\n",
    "\n",
    "def get_mp3_url(url):\n",
    "    return re.sub(\"/([^\\./]*)\\.utf8\\.html$\", \"/media/\\\\1.mp3\", url)"
   ]
  },
  {
   "cell_type": "code",
   "execution_count": 12,
   "metadata": {},
   "outputs": [
    {
     "data": {
      "text/plain": [
       "'https://www.scss.tcd.ie/elaine.ui.dhonnchadha/comhra/media/irgl0001.mp3'"
      ]
     },
     "execution_count": 12,
     "metadata": {},
     "output_type": "execute_result"
    }
   ],
   "source": [
    "get_mp3_url(EG)"
   ]
  }
 ],
 "metadata": {
  "kernelspec": {
   "display_name": "ctcseg",
   "language": "python",
   "name": "python3"
  },
  "language_info": {
   "codemirror_mode": {
    "name": "ipython",
    "version": 3
   },
   "file_extension": ".py",
   "mimetype": "text/x-python",
   "name": "python",
   "nbconvert_exporter": "python",
   "pygments_lexer": "ipython3",
   "version": "3.10.4"
  }
 },
 "nbformat": 4,
 "nbformat_minor": 2
}
