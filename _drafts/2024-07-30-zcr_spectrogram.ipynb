{
 "cells": [
  {
   "cell_type": "code",
   "execution_count": 39,
   "metadata": {},
   "outputs": [],
   "source": [
    "import numpy as np\n",
    "from numba import njit\n",
    "\n",
    "@njit\n",
    "def zcr_rate(wav_in, step=240, segment=960):\n",
    "    # Calculate the sign of the signal values and shift to avoid zero values\n",
    "    sign_wav = np.sign(wav_in + 1e-8)\n",
    "\n",
    "    absdiff = np.abs(np.diff(sign_wav))\n",
    "\n",
    "    for i in range(len(absdiff)):\n",
    "        if absdiff[i] > 1:\n",
    "            absdiff[i] = 1\n",
    "\n",
    "    steps = (len(absdiff) - segment) // step\n",
    "\n",
    "    zcrate = np.zeros(steps)\n",
    "\n",
    "    for i in range(steps):\n",
    "        start_idx = i * step\n",
    "        end_idx = start_idx + segment\n",
    "        zcrate[i] = np.mean(absdiff[start_idx:end_idx])\n",
    "\n",
    "    return zcrate"
   ]
  },
  {
   "cell_type": "code",
   "execution_count": 50,
   "metadata": {},
   "outputs": [
    {
     "name": "stdout",
     "output_type": "stream",
     "text": [
      "Collecting h5py\n",
      "  Downloading h5py-3.11.0-cp39-cp39-macosx_10_9_x86_64.whl (3.5 MB)\n",
      "\u001b[2K     \u001b[90m━━━━━━━━━━━━━━━━━━━━━━━━━━━━━━━━━━━━━━━━\u001b[0m \u001b[32m3.5/3.5 MB\u001b[0m \u001b[31m10.3 MB/s\u001b[0m eta \u001b[36m0:00:00\u001b[0m00:01\u001b[0m0:01\u001b[0m\n",
      "\u001b[?25hRequirement already satisfied: numpy>=1.17.3 in /Users/joregan/opt/anaconda3/envs/hf/lib/python3.9/site-packages (from h5py) (1.23.4)\n",
      "Installing collected packages: h5py\n",
      "Successfully installed h5py-3.11.0\n",
      "Note: you may need to restart the kernel to use updated packages.\n"
     ]
    }
   ],
   "source": [
    "%pip install h5py"
   ]
  },
  {
   "cell_type": "code",
   "execution_count": 52,
   "metadata": {},
   "outputs": [],
   "source": [
    "import h5py as h5"
   ]
  },
  {
   "cell_type": "code",
   "execution_count": 53,
   "metadata": {},
   "outputs": [],
   "source": [
    "from __future__ import print_function\n",
    "\n",
    "def scan_hdf5(path, recursive=True, tab_step=2):\n",
    "    def scan_node(g, tabs=0):\n",
    "        print(' ' * tabs, g.name)\n",
    "        for k, v in g.items():\n",
    "            if isinstance(v, h5.Dataset):\n",
    "                print(' ' * tabs + ' ' * tab_step + ' -', v.name)\n",
    "            elif isinstance(v, h5.Group) and recursive:\n",
    "                scan_node(v, tabs=tabs + tab_step)\n",
    "    with h5.File(path, 'r') as f:\n",
    "        scan_node(f)"
   ]
  },
  {
   "cell_type": "code",
   "execution_count": 54,
   "metadata": {},
   "outputs": [
    {
     "name": "stdout",
     "output_type": "stream",
     "text": [
      " /\n",
      "   /model_weights\n",
      "     /model_weights/bidirectional_2\n",
      "       /model_weights/bidirectional_2/bidirectional_2_2\n",
      "         /model_weights/bidirectional_2/bidirectional_2_2/backward_lstm_2\n",
      "           - /model_weights/bidirectional_2/bidirectional_2_2/backward_lstm_2/bias:0\n",
      "           - /model_weights/bidirectional_2/bidirectional_2_2/backward_lstm_2/kernel:0\n",
      "           - /model_weights/bidirectional_2/bidirectional_2_2/backward_lstm_2/recurrent_kernel:0\n",
      "         /model_weights/bidirectional_2/bidirectional_2_2/forward_lstm_2\n",
      "           - /model_weights/bidirectional_2/bidirectional_2_2/forward_lstm_2/bias:0\n",
      "           - /model_weights/bidirectional_2/bidirectional_2_2/forward_lstm_2/kernel:0\n",
      "           - /model_weights/bidirectional_2/bidirectional_2_2/forward_lstm_2/recurrent_kernel:0\n",
      "     /model_weights/time_distributed_24\n",
      "       /model_weights/time_distributed_24/time_distributed_24_2\n",
      "         - /model_weights/time_distributed_24/time_distributed_24_2/bias:0\n",
      "         - /model_weights/time_distributed_24/time_distributed_24_2/kernel:0\n",
      "     /model_weights/time_distributed_25\n",
      "       /model_weights/time_distributed_25/time_distributed_25_2\n",
      "         - /model_weights/time_distributed_25/time_distributed_25_2/beta:0\n",
      "         - /model_weights/time_distributed_25/time_distributed_25_2/gamma:0\n",
      "         - /model_weights/time_distributed_25/time_distributed_25_2/moving_mean:0\n",
      "         - /model_weights/time_distributed_25/time_distributed_25_2/moving_variance:0\n",
      "     /model_weights/time_distributed_26\n",
      "     /model_weights/time_distributed_27\n",
      "       /model_weights/time_distributed_27/time_distributed_27_2\n",
      "         - /model_weights/time_distributed_27/time_distributed_27_2/bias:0\n",
      "         - /model_weights/time_distributed_27/time_distributed_27_2/kernel:0\n",
      "     /model_weights/time_distributed_28\n",
      "       /model_weights/time_distributed_28/time_distributed_28_2\n",
      "         - /model_weights/time_distributed_28/time_distributed_28_2/beta:0\n",
      "         - /model_weights/time_distributed_28/time_distributed_28_2/gamma:0\n",
      "         - /model_weights/time_distributed_28/time_distributed_28_2/moving_mean:0\n",
      "         - /model_weights/time_distributed_28/time_distributed_28_2/moving_variance:0\n",
      "     /model_weights/time_distributed_29\n",
      "     /model_weights/time_distributed_30\n",
      "     /model_weights/time_distributed_31\n",
      "       /model_weights/time_distributed_31/time_distributed_31_2\n",
      "         - /model_weights/time_distributed_31/time_distributed_31_2/bias:0\n",
      "         - /model_weights/time_distributed_31/time_distributed_31_2/kernel:0\n",
      "   /optimizer_weights\n",
      "     /optimizer_weights/Adadelta_2\n",
      "       - /optimizer_weights/Adadelta_2/iterations:0\n",
      "     /optimizer_weights/training_2\n",
      "       /optimizer_weights/training_2/Adadelta\n",
      "         - /optimizer_weights/training_2/Adadelta/accumulator_0_1:0\n",
      "         - /optimizer_weights/training_2/Adadelta/accumulator_10_1:0\n",
      "         - /optimizer_weights/training_2/Adadelta/accumulator_11_1:0\n",
      "         - /optimizer_weights/training_2/Adadelta/accumulator_12_1:0\n",
      "         - /optimizer_weights/training_2/Adadelta/accumulator_13_1:0\n",
      "         - /optimizer_weights/training_2/Adadelta/accumulator_14_1:0\n",
      "         - /optimizer_weights/training_2/Adadelta/accumulator_15_1:0\n",
      "         - /optimizer_weights/training_2/Adadelta/accumulator_1_1:0\n",
      "         - /optimizer_weights/training_2/Adadelta/accumulator_2_1:0\n",
      "         - /optimizer_weights/training_2/Adadelta/accumulator_3_1:0\n",
      "         - /optimizer_weights/training_2/Adadelta/accumulator_4_1:0\n",
      "         - /optimizer_weights/training_2/Adadelta/accumulator_5_1:0\n",
      "         - /optimizer_weights/training_2/Adadelta/accumulator_6_1:0\n",
      "         - /optimizer_weights/training_2/Adadelta/accumulator_7_1:0\n",
      "         - /optimizer_weights/training_2/Adadelta/accumulator_8_1:0\n",
      "         - /optimizer_weights/training_2/Adadelta/accumulator_9_1:0\n",
      "         - /optimizer_weights/training_2/Adadelta/delta_accumulator_0_1:0\n",
      "         - /optimizer_weights/training_2/Adadelta/delta_accumulator_10_1:0\n",
      "         - /optimizer_weights/training_2/Adadelta/delta_accumulator_11_1:0\n",
      "         - /optimizer_weights/training_2/Adadelta/delta_accumulator_12_1:0\n",
      "         - /optimizer_weights/training_2/Adadelta/delta_accumulator_13_1:0\n",
      "         - /optimizer_weights/training_2/Adadelta/delta_accumulator_14_1:0\n",
      "         - /optimizer_weights/training_2/Adadelta/delta_accumulator_15_1:0\n",
      "         - /optimizer_weights/training_2/Adadelta/delta_accumulator_1_1:0\n",
      "         - /optimizer_weights/training_2/Adadelta/delta_accumulator_2_1:0\n",
      "         - /optimizer_weights/training_2/Adadelta/delta_accumulator_3_1:0\n",
      "         - /optimizer_weights/training_2/Adadelta/delta_accumulator_4_1:0\n",
      "         - /optimizer_weights/training_2/Adadelta/delta_accumulator_5_1:0\n",
      "         - /optimizer_weights/training_2/Adadelta/delta_accumulator_6_1:0\n",
      "         - /optimizer_weights/training_2/Adadelta/delta_accumulator_7_1:0\n",
      "         - /optimizer_weights/training_2/Adadelta/delta_accumulator_8_1:0\n",
      "         - /optimizer_weights/training_2/Adadelta/delta_accumulator_9_1:0\n"
     ]
    }
   ],
   "source": [
    "scan_hdf5(\"/Users/joregan/Playing/voice_pipe/SingleSpeakerModel.h5\")"
   ]
  }
 ],
 "metadata": {
  "kernelspec": {
   "display_name": "hf",
   "language": "python",
   "name": "python3"
  },
  "language_info": {
   "codemirror_mode": {
    "name": "ipython",
    "version": 3
   },
   "file_extension": ".py",
   "mimetype": "text/x-python",
   "name": "python",
   "nbconvert_exporter": "python",
   "pygments_lexer": "ipython3",
   "version": "3.9.15"
  }
 },
 "nbformat": 4,
 "nbformat_minor": 2
}
