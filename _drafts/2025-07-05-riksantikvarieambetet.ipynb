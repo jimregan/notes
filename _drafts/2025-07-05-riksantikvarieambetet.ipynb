{
 "cells": [
  {
   "cell_type": "code",
   "execution_count": null,
   "id": "272194a5",
   "metadata": {},
   "outputs": [],
   "source": [
    "_SWE_MODEL = \"KBLab/wav2vec2-large-voxrex-swedish\"\n",
    "from transformers import pipeline\n",
    "pipe = pipeline(model=_SWE_MODEL)"
   ]
  },
  {
   "cell_type": "code",
   "execution_count": null,
   "id": "cede481e",
   "metadata": {},
   "outputs": [],
   "source": [
    "import glob\n",
    "import json\n",
    "from pathlib import Path\n",
    "\n",
    "for file in glob.glob(\"*.mp4\"):\n",
    "    jsonf = file.replace(\".mp4\", \".json\")\n",
    "    if Path(jsonf).exists():\n",
    "            continue\n",
    "    try:\n",
    "            output = pipe(file, chunk_length_s=10, return_timestamps=\"word\")\n",
    "            with open(jsonf, \"w\") as f:\n",
    "                    json.dump(output, f)\n",
    "    except Exception as e:\n",
    "            print(\"Skipping\", file)\n",
    "            continue"
   ]
  }
 ],
 "metadata": {
  "language_info": {
   "name": "python"
  }
 },
 "nbformat": 4,
 "nbformat_minor": 5
}
