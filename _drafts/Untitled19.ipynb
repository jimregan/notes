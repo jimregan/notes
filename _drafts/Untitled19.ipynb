{
  "nbformat": 4,
  "nbformat_minor": 0,
  "metadata": {
    "colab": {
      "name": "Untitled19.ipynb",
      "provenance": []
    },
    "kernelspec": {
      "name": "python3",
      "display_name": "Python 3"
    },
    "language_info": {
      "name": "python"
    }
  },
  "cells": [
    {
      "cell_type": "code",
      "execution_count": 1,
      "metadata": {
        "id": "ObPMdeRlgRKz"
      },
      "outputs": [],
      "source": [
        "import requests\n",
        "import json"
      ]
    },
    {
      "cell_type": "code",
      "source": [
        "sample = requests.get(\"https://www.riksdagen.se/api/videostream/get/H210308\")"
      ],
      "metadata": {
        "id": "b3hjM2mLgT1O"
      },
      "execution_count": 76,
      "outputs": []
    },
    {
      "cell_type": "code",
      "source": [
        "data = json.loads(sample.text)"
      ],
      "metadata": {
        "id": "3iWScC6-gaU1"
      },
      "execution_count": 77,
      "outputs": []
    },
    {
      "cell_type": "code",
      "source": [
        "data['videodata'][0]"
      ],
      "metadata": {
        "id": "X0ocGF2Tg-3R"
      },
      "execution_count": null,
      "outputs": []
    },
    {
      "cell_type": "code",
      "source": [
        "def viddata_get_single_stream(videodata, hires=True):\n",
        "    videos = []\n",
        "    if videodata is None:\n",
        "        return []\n",
        "    if 'streams' not in videodata:\n",
        "        #raise Exception(\"videodata is missing 'streams'\")\n",
        "        return []\n",
        "    if videodata['streams'] is None:\n",
        "        return []\n",
        "    if 'files' not in videodata['streams']:\n",
        "        #raise Exception(\"videodata['streams'] is missing 'files'\")\n",
        "        return []\n",
        "    if type(videodata['streams']['files']) == list:\n",
        "        for vfile in videodata['streams']['files']:\n",
        "            for bw in vfile['bandwidth']:\n",
        "                if hires and bw['name'] == 'Hög kvalitet':\n",
        "                    videos.append(bw['downloadurl'])\n",
        "                elif not hires and bw['name'] == 'Låg kvalitet':\n",
        "                    videos.append(bw['downloadurl'])\n",
        "    else:\n",
        "        #raise Exception(f\"Expected a list, got {type(videodata['streams']['files'])}\")\n",
        "        return []\n",
        "    return videos\n",
        "\n",
        "def viddata_get_streams(videodata, hires=True):\n",
        "    output = []\n",
        "    if 'videodata' not in videodata:\n",
        "        #raise Exception(\"'videodata' missing\")\n",
        "        return []\n",
        "    for vdata in videodata['videodata']:\n",
        "        output += viddata_get_single_stream(vdata, hires)\n",
        "    return output"
      ],
      "metadata": {
        "colab": {
          "base_uri": "https://localhost:8080/"
        },
        "id": "Yy91lHTmgiab",
        "outputId": "ec22abf1-7fdb-4555-8331-df1a666d1f52"
      },
      "execution_count": 83,
      "outputs": [
        {
          "output_type": "execute_result",
          "data": {
            "text/plain": [
              "[]"
            ]
          },
          "metadata": {},
          "execution_count": 83
        }
      ]
    },
    {
      "cell_type": "code",
      "source": [
        "def fix_speaker_name(name, party):\n",
        "    if name.endswith(f\" ({party})\"):\n",
        "        name = name[0:name.rfind(f\" ({party})\")]\n",
        "    return name\n",
        "\n",
        "def extract_speakers(data):\n",
        "    speakers = []\n",
        "    for viddata in data['videodata']:\n",
        "        for speaker in viddata['speakers']:\n",
        "            speaker['text'] = fix_speaker_name(speaker['text'], speaker['party'])\n",
        "            speakers.append(speaker)\n",
        "    return speakers\n",
        "\n",
        "#print(data['videodata'][0])\n",
        "speakers = extract_speakers(data)\n",
        "viddata_get_streams(data)"
      ],
      "metadata": {
        "id": "WdMcyGE51OVq"
      },
      "execution_count": null,
      "outputs": []
    },
    {
      "cell_type": "code",
      "source": [
        "viddata_get_streams(data, False)\n"
      ],
      "metadata": {
        "colab": {
          "base_uri": "https://localhost:8080/"
        },
        "id": "inJ-M4mMiHmK",
        "outputId": "d7f34233-81e3-47f7-faae-1c5062f9faae"
      },
      "execution_count": 75,
      "outputs": [
        {
          "output_type": "execute_result",
          "data": {
            "text/plain": [
              "['https://mhdownload.riksdagen.se/VOD/176288_3000_889175.mp4']"
            ]
          },
          "metadata": {},
          "execution_count": 75
        }
      ]
    },
    {
      "cell_type": "code",
      "source": [
        "from pathlib import Path\n",
        "import glob\n",
        "urls = []\n",
        "for f in glob.glob('**'):\n",
        "    fpath = Path(f)\n",
        "    if not fpath.is_file():\n",
        "        continue\n",
        "    with open(f) as inf:\n",
        "        data = json.load(inf)\n",
        "        for url in viddata_get_streams(data):\n",
        "            urls.append(url)"
      ],
      "metadata": {
        "id": "gpZZnb-PyLMn"
      },
      "execution_count": null,
      "outputs": []
    }
  ]
}