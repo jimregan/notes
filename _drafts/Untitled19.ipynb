{
 "cells": [
  {
   "cell_type": "markdown",
   "metadata": {},
   "source": [
    "# Github asset release from Colab\n",
    "\n",
    "> \"Adding a file to a release\"\n",
    "\n",
    "- toc: false\n",
    "- branch: master\n",
    "- badges: false\n",
    "- comments: true\n",
    "- hidden: true\n",
    "- categories: [github, colab]\n",
    "\n"
   ]
  },
  {
   "cell_type": "code",
   "execution_count": 1,
   "metadata": {
    "colab": {
     "base_uri": "https://localhost:8080/"
    },
    "id": "ggdH0xOsQzv1",
    "outputId": "48cb8e4b-0dd5-4aa6-cea3-63ef127215be"
   },
   "outputs": [
    {
     "name": "stdout",
     "output_type": "stream",
     "text": [
      "⏬ Downloading https://github.com/jaimergp/miniforge/releases/latest/download/Mambaforge-colab-Linux-x86_64.sh...\n",
      "📦 Installing...\n",
      "📌 Adjusting configuration...\n",
      "🩹 Patching environment...\n",
      "⏲ Done in 0:00:44\n",
      "🔁 Restarting kernel...\n"
     ]
    }
   ],
   "source": [
    "!pip install -q condacolab\n",
    "import condacolab\n",
    "condacolab.install()"
   ]
  },
  {
   "cell_type": "code",
   "execution_count": null,
   "metadata": {
    "id": "Wll2kSR8RXaQ"
   },
   "outputs": [],
   "source": [
    "!conda install gh --channel conda-forge\t"
   ]
  },
  {
   "cell_type": "code",
   "execution_count": null,
   "metadata": {
    "id": "nrfsGMZlRdn4"
   },
   "outputs": [],
   "source": [
    "!pip install youtube-dl"
   ]
  },
  {
   "cell_type": "code",
   "execution_count": null,
   "metadata": {
    "id": "AkP2yQeeRkw9"
   },
   "outputs": [],
   "source": [
    "!youtube-dl -i --write-sub --sub-lang ga -o '%(id)s.%(ext)s' PLbcLsUBW9b3BvuTbtMKBXmuyJq6Ygg3Rg"
   ]
  },
  {
   "cell_type": "code",
   "execution_count": null,
   "metadata": {
    "id": "nfF95-15bwHa"
   },
   "outputs": [],
   "source": [
    "!ls ./*.vtt|zip subtitles.zip -@"
   ]
  },
  {
   "cell_type": "code",
   "execution_count": 9,
   "metadata": {
    "colab": {
     "base_uri": "https://localhost:8080/",
     "height": 17
    },
    "id": "pUgsHZLdcBzp",
    "outputId": "ba2d93bd-b8df-402e-860a-6e1763979887"
   },
   "outputs": [
    {
     "data": {
      "application/javascript": [
       "\n",
       "    async function download(id, filename, size) {\n",
       "      if (!google.colab.kernel.accessAllowed) {\n",
       "        return;\n",
       "      }\n",
       "      const div = document.createElement('div');\n",
       "      const label = document.createElement('label');\n",
       "      label.textContent = `Downloading \"${filename}\": `;\n",
       "      div.appendChild(label);\n",
       "      const progress = document.createElement('progress');\n",
       "      progress.max = size;\n",
       "      div.appendChild(progress);\n",
       "      document.body.appendChild(div);\n",
       "\n",
       "      const buffers = [];\n",
       "      let downloaded = 0;\n",
       "\n",
       "      const channel = await google.colab.kernel.comms.open(id);\n",
       "      // Send a message to notify the kernel that we're ready.\n",
       "      channel.send({})\n",
       "\n",
       "      for await (const message of channel.messages) {\n",
       "        // Send a message to notify the kernel that we're ready.\n",
       "        channel.send({})\n",
       "        if (message.buffers) {\n",
       "          for (const buffer of message.buffers) {\n",
       "            buffers.push(buffer);\n",
       "            downloaded += buffer.byteLength;\n",
       "            progress.value = downloaded;\n",
       "          }\n",
       "        }\n",
       "      }\n",
       "      const blob = new Blob(buffers, {type: 'application/binary'});\n",
       "      const a = document.createElement('a');\n",
       "      a.href = window.URL.createObjectURL(blob);\n",
       "      a.download = filename;\n",
       "      div.appendChild(a);\n",
       "      a.click();\n",
       "      div.remove();\n",
       "    }\n",
       "  "
      ],
      "text/plain": [
       "<IPython.core.display.Javascript object>"
      ]
     },
     "metadata": {
      "tags": []
     },
     "output_type": "display_data"
    },
    {
     "data": {
      "application/javascript": [
       "download(\"download_4077b8f7-403f-40a9-af46-91e44ae0da25\", \"subtitles.zip\", 46020)"
      ],
      "text/plain": [
       "<IPython.core.display.Javascript object>"
      ]
     },
     "metadata": {
      "tags": []
     },
     "output_type": "display_data"
    }
   ],
   "source": [
    "from google.colab import files\n",
    "files.download('subtitles.zip')"
   ]
  },
  {
   "cell_type": "code",
   "execution_count": null,
   "metadata": {
    "id": "IAdrD_nEiaw5"
   },
   "outputs": [],
   "source": [
    "!ls ./*.mp4 ./*.mkv |zip videos.zip -@"
   ]
  },
  {
   "cell_type": "code",
   "execution_count": 18,
   "metadata": {
    "id": "ofajyTfNi9Ga"
   },
   "outputs": [],
   "source": [
    "!echo $KEY |gh auth login --with-token "
   ]
  },
  {
   "cell_type": "code",
   "execution_count": null,
   "metadata": {
    "id": "ZM825czhknA5"
   },
   "outputs": [],
   "source": [
    "!git clone $REPO"
   ]
  },
  {
   "cell_type": "code",
   "execution_count": null,
   "metadata": {
    "id": "tZP3EIXTlSLs"
   },
   "outputs": [],
   "source": [
    "%cd $REPO"
   ]
  },
  {
   "cell_type": "code",
   "execution_count": 26,
   "metadata": {
    "colab": {
     "base_uri": "https://localhost:8080/"
    },
    "id": "z-31gYg3kTXA",
    "outputId": "47a90fd5-9024-41b9-f5cc-049c805b9102"
   },
   "outputs": [
    {
     "name": "stdout",
     "output_type": "stream",
     "text": [
      "\u001b[KSuccessfully uploaded 1 asset to \u001b[0;1;39mv0.1\u001b[0m\n"
     ]
    }
   ],
   "source": [
    "!gh release upload v0.1 ../videos.zip"
   ]
  }
 ],
 "metadata": {
  "colab": {
   "name": "Untitled19.ipynb",
   "provenance": []
  },
  "kernelspec": {
   "display_name": "Python 3",
   "language": "python",
   "name": "python3"
  },
  "language_info": {
   "codemirror_mode": {
    "name": "ipython",
    "version": 3
   },
   "file_extension": ".py",
   "mimetype": "text/x-python",
   "name": "python",
   "nbconvert_exporter": "python",
   "pygments_lexer": "ipython3",
   "version": "3.8.2"
  }
 },
 "nbformat": 4,
 "nbformat_minor": 1
}
