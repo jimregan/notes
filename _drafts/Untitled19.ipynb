{
  "nbformat": 4,
  "nbformat_minor": 0,
  "metadata": {
    "colab": {
      "name": "Untitled19.ipynb",
      "provenance": [],
      "collapsed_sections": []
    },
    "kernelspec": {
      "name": "python3",
      "display_name": "Python 3"
    },
    "language_info": {
      "name": "python"
    }
  },
  "cells": [
    {
      "cell_type": "markdown",
      "metadata": {
        "id": "B4MB_Oj3sk70"
      },
      "source": [
        "tl;dr -- `lmt` needs there to be _either_:\n",
        "- markdown after the last file piece\n",
        "- two newline characters"
      ]
    },
    {
      "cell_type": "code",
      "metadata": {
        "colab": {
          "base_uri": "https://localhost:8080/"
        },
        "id": "l6MVPwvUbumo",
        "outputId": "de00db02-8cee-43fb-f048-55804a09d81f"
      },
      "source": [
        "!git clone https://github.com/driusan/lmt"
      ],
      "execution_count": 22,
      "outputs": [
        {
          "output_type": "stream",
          "text": [
            "fatal: destination path 'lmt' already exists and is not an empty directory.\n"
          ],
          "name": "stdout"
        }
      ]
    },
    {
      "cell_type": "code",
      "metadata": {
        "colab": {
          "base_uri": "https://localhost:8080/"
        },
        "id": "IUYiDzoib16g",
        "outputId": "68b6faf3-ca44-4cfd-f9a7-7ddcbc2a324c"
      },
      "source": [
        "%cd lmt"
      ],
      "execution_count": 23,
      "outputs": [
        {
          "output_type": "stream",
          "text": [
            "/content/lmt\n"
          ],
          "name": "stdout"
        }
      ]
    },
    {
      "cell_type": "code",
      "metadata": {
        "id": "1QxeLOWLb70a"
      },
      "source": [
        "%%capture\n",
        "!apt install golang"
      ],
      "execution_count": 24,
      "outputs": []
    },
    {
      "cell_type": "code",
      "metadata": {
        "id": "C0uiDGUPb3by"
      },
      "source": [
        "#!go build main.go\n",
        "#!mv main lmt\n",
        "!go build"
      ],
      "execution_count": 25,
      "outputs": []
    },
    {
      "cell_type": "code",
      "metadata": {
        "id": "cTkEr_ZkcSGw"
      },
      "source": [
        "import os\n",
        "os.environ['PATH'] = f'{os.environ[\"PATH\"]}:/content/lmt'"
      ],
      "execution_count": 26,
      "outputs": []
    },
    {
      "cell_type": "code",
      "metadata": {
        "colab": {
          "base_uri": "https://localhost:8080/"
        },
        "id": "BjsB8KAPcm1h",
        "outputId": "256ee681-3840-41a1-f556-99b630ef309e"
      },
      "source": [
        "%cd /content"
      ],
      "execution_count": 27,
      "outputs": [
        {
          "output_type": "stream",
          "text": [
            "/content\n"
          ],
          "name": "stdout"
        }
      ]
    },
    {
      "cell_type": "code",
      "metadata": {
        "colab": {
          "base_uri": "https://localhost:8080/"
        },
        "id": "Yf84rXWif_dh",
        "outputId": "0d2de551-907a-4362-f3f3-00e5d55bdd60"
      },
      "source": [
        "%%writefile test.go.md\n",
        "# Thing\n",
        "\n",
        "```go test.go\n",
        "package main\n",
        "\n",
        "import (\n",
        "\tfmt\n",
        ")\n",
        "```"
      ],
      "execution_count": 34,
      "outputs": [
        {
          "output_type": "stream",
          "text": [
            "Overwriting test.go.md\n"
          ],
          "name": "stdout"
        }
      ]
    },
    {
      "cell_type": "code",
      "metadata": {
        "id": "-_H-PLFveCll"
      },
      "source": [
        "!lmt test.go.md"
      ],
      "execution_count": 35,
      "outputs": []
    },
    {
      "cell_type": "code",
      "metadata": {
        "colab": {
          "base_uri": "https://localhost:8080/"
        },
        "id": "-rytAtJihdsj",
        "outputId": "b239dba0-f11b-4ea2-f31b-f48db2fea180"
      },
      "source": [
        "!cat test.go"
      ],
      "execution_count": 36,
      "outputs": [
        {
          "output_type": "stream",
          "text": [
            "cat: test.go: No such file or directory\n"
          ],
          "name": "stdout"
        }
      ]
    },
    {
      "cell_type": "code",
      "metadata": {
        "colab": {
          "base_uri": "https://localhost:8080/"
        },
        "id": "LyFqqCpgrNF2",
        "outputId": "1babccf8-3ba2-446e-cb00-fd5d2fb969a0"
      },
      "source": [
        "%%writefile test2.go.md\n",
        "# Thing\n",
        "\n",
        "```go test2.go\n",
        "package main\n",
        "\n",
        "import (\n",
        "\tfmt\n",
        ")\n",
        "```\n"
      ],
      "execution_count": 57,
      "outputs": [
        {
          "output_type": "stream",
          "text": [
            "Overwriting test2.go.md\n"
          ],
          "name": "stdout"
        }
      ]
    },
    {
      "cell_type": "code",
      "metadata": {
        "id": "y-hUHX2FrQVe"
      },
      "source": [
        "!lmt test2.go.md"
      ],
      "execution_count": 58,
      "outputs": []
    },
    {
      "cell_type": "code",
      "metadata": {
        "colab": {
          "base_uri": "https://localhost:8080/"
        },
        "id": "wK2vQZs9rTms",
        "outputId": "81525a03-106d-4ef4-d6df-d73e005e3d27"
      },
      "source": [
        "!cat test2.go"
      ],
      "execution_count": 59,
      "outputs": [
        {
          "output_type": "stream",
          "text": [
            "cat: test2.go: No such file or directory\n"
          ],
          "name": "stdout"
        }
      ]
    },
    {
      "cell_type": "code",
      "metadata": {
        "colab": {
          "base_uri": "https://localhost:8080/"
        },
        "id": "5pFWb_8xsShV",
        "outputId": "2d3a4950-6620-4234-de54-c7712239b5e7"
      },
      "source": [
        "%%writefile test3.go.md\n",
        "# Thing\n",
        "\n",
        "```go test3.go\n",
        "package main\n",
        "\n",
        "import (\n",
        "\tfmt\n",
        ")\n",
        "```\n",
        "# Blah"
      ],
      "execution_count": 60,
      "outputs": [
        {
          "output_type": "stream",
          "text": [
            "Writing test3.go.md\n"
          ],
          "name": "stdout"
        }
      ]
    },
    {
      "cell_type": "code",
      "metadata": {
        "colab": {
          "base_uri": "https://localhost:8080/"
        },
        "id": "P_gU_BM-sVuX",
        "outputId": "9ff828cb-d2f5-4b35-8acf-20935869b06d"
      },
      "source": [
        "!lmt test3.go.md\n",
        "!cat test3.go"
      ],
      "execution_count": 61,
      "outputs": [
        {
          "output_type": "stream",
          "text": [
            "//line test3.go.md:4\n",
            "package main\n",
            "\n",
            "import (\n",
            "\tfmt\n",
            ")\n"
          ],
          "name": "stdout"
        }
      ]
    },
    {
      "cell_type": "code",
      "metadata": {
        "colab": {
          "base_uri": "https://localhost:8080/"
        },
        "id": "AdZ1HklOscyF",
        "outputId": "3e510671-fcea-4086-aea7-56a18d5cfc27"
      },
      "source": [
        "%%writefile test4.go.md\n",
        "# Thing\n",
        "\n",
        "```go test4.go\n",
        "package main\n",
        "\n",
        "import (\n",
        "\tfmt\n",
        ")\n",
        "```\n",
        "\n"
      ],
      "execution_count": 62,
      "outputs": [
        {
          "output_type": "stream",
          "text": [
            "Writing test4.go.md\n"
          ],
          "name": "stdout"
        }
      ]
    },
    {
      "cell_type": "code",
      "metadata": {
        "colab": {
          "base_uri": "https://localhost:8080/"
        },
        "id": "2_udu3rHshNa",
        "outputId": "046634fb-ca69-42f9-c0bb-34b172ab5f63"
      },
      "source": [
        "!lmt test4.go.md\n",
        "!cat test4.go"
      ],
      "execution_count": 63,
      "outputs": [
        {
          "output_type": "stream",
          "text": [
            "//line test4.go.md:4\n",
            "package main\n",
            "\n",
            "import (\n",
            "\tfmt\n",
            ")\n"
          ],
          "name": "stdout"
        }
      ]
    }
  ]
}