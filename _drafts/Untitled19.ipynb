{
  "nbformat": 4,
  "nbformat_minor": 0,
  "metadata": {
    "colab": {
      "name": "Untitled19.ipynb",
      "provenance": []
    },
    "kernelspec": {
      "name": "python3",
      "display_name": "Python 3"
    },
    "language_info": {
      "name": "python"
    }
  },
  "cells": [
    {
      "cell_type": "code",
      "execution_count": 1,
      "metadata": {
        "id": "ObPMdeRlgRKz"
      },
      "outputs": [],
      "source": [
        "import requests\n",
        "import json"
      ]
    },
    {
      "cell_type": "code",
      "source": [
        "sample = requests.get(\"https://www.riksdagen.se/api/videostream/get/H410228\")"
      ],
      "metadata": {
        "id": "b3hjM2mLgT1O"
      },
      "execution_count": 2,
      "outputs": []
    },
    {
      "cell_type": "code",
      "source": [
        "data = json.loads(sample.text)"
      ],
      "metadata": {
        "id": "3iWScC6-gaU1"
      },
      "execution_count": 48,
      "outputs": []
    },
    {
      "cell_type": "code",
      "source": [
        "data['videodata'][0]"
      ],
      "metadata": {
        "id": "X0ocGF2Tg-3R"
      },
      "execution_count": null,
      "outputs": []
    },
    {
      "cell_type": "code",
      "source": [
        "def viddata_get_single_stream(videodata, hires=True):\n",
        "    videos = []\n",
        "    if 'streams' not in videodata:\n",
        "        raise Exception(\"videodata is missing 'streams'\")\n",
        "    if 'files' not in videodata['streams']:\n",
        "        raise Exception(\"videodata['streams'] is missing 'files'\")\n",
        "    if type(videodata['streams']['files']) == list:\n",
        "        for vfile in videodata['streams']['files']:\n",
        "            for bw in vfile['bandwidth']:\n",
        "                if hires and bw['name'] == 'Hög kvalitet':\n",
        "                    videos.append(bw['downloadurl'])\n",
        "                elif not hires and bw['name'] == 'Låg kvalitet':\n",
        "                    videos.append(bw['downloadurl'])\n",
        "    else:\n",
        "        print(type(videodata['streams']['files']))\n",
        "    return videos\n",
        "\n",
        "def viddata_get_streams(videodata, hires=True):\n",
        "    output = []\n",
        "    if 'videodata' not in videodata:\n",
        "        raise Exception(\"'videodata' missing\")\n",
        "    for vdata in videodata['videodata']:\n",
        "        output += viddata_get_single_stream(vdata, hires)\n",
        "    return output\n",
        "\n",
        "def fix_speaker_name(name, party):\n",
        "    if name.endswith(f\" ({party})\"):\n",
        "        name = name[0:name.rfind(f\" ({party})\")]\n",
        "    return name\n",
        "\n",
        "def extract_speakers(data):\n",
        "    speakers = []\n",
        "    for viddata in data['videodata']:\n",
        "        for speaker in viddata['speakers']:\n",
        "            speaker['text'] = fix_speaker_name(speaker['text'], speaker['party'])\n",
        "            speakers.append(speaker)\n",
        "    return speakers\n",
        "\n",
        "#print(data['videodata'][0])\n",
        "speakers = extract_speakers(data)\n",
        "viddata_get_streams(data)\n"
      ],
      "metadata": {
        "colab": {
          "base_uri": "https://localhost:8080/"
        },
        "id": "Yy91lHTmgiab",
        "outputId": "47b5be62-2849-42f3-f603-e7151c6f50c9"
      },
      "execution_count": 73,
      "outputs": [
        {
          "output_type": "execute_result",
          "data": {
            "text/plain": [
              "['https://mhdownload.riksdagen.se/VOD/176288_20000_889173.mp4']"
            ]
          },
          "metadata": {},
          "execution_count": 73
        }
      ]
    },
    {
      "cell_type": "code",
      "source": [
        "viddata_get_streams(data['videodata'][0], False)\n"
      ],
      "metadata": {
        "colab": {
          "base_uri": "https://localhost:8080/"
        },
        "id": "inJ-M4mMiHmK",
        "outputId": "24608254-405e-4ab1-f30d-ad5f90a684ec"
      },
      "execution_count": 71,
      "outputs": [
        {
          "output_type": "execute_result",
          "data": {
            "text/plain": [
              "['https://mhdownload.riksdagen.se/VOD/176288_3000_889175.mp4']"
            ]
          },
          "metadata": {},
          "execution_count": 71
        }
      ]
    }
  ]
}