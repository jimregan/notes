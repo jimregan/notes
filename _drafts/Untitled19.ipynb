{
  "nbformat": 4,
  "nbformat_minor": 0,
  "metadata": {
    "colab": {
      "name": "Untitled19.ipynb",
      "provenance": [],
      "collapsed_sections": []
    },
    "kernelspec": {
      "name": "python3",
      "display_name": "Python 3"
    },
    "language_info": {
      "name": "python"
    }
  },
  "cells": [
    {
      "cell_type": "code",
      "metadata": {
        "colab": {
          "base_uri": "https://localhost:8080/"
        },
        "id": "l6MVPwvUbumo",
        "outputId": "e0b26b4b-3ddd-4f5b-94fe-d6220d24be6a"
      },
      "source": [
        "!git clone https://github.com/driusan/lmt"
      ],
      "execution_count": null,
      "outputs": [
        {
          "output_type": "stream",
          "text": [
            "Cloning into 'lmt'...\n",
            "remote: Enumerating objects: 96, done.\u001b[K\n",
            "remote: Counting objects: 100% (48/48), done.\u001b[K\n",
            "remote: Compressing objects: 100% (35/35), done.\u001b[K\n",
            "remote: Total 96 (delta 25), reused 23 (delta 9), pack-reused 48\u001b[K\n",
            "Unpacking objects: 100% (96/96), done.\n"
          ],
          "name": "stdout"
        }
      ]
    },
    {
      "cell_type": "code",
      "metadata": {
        "colab": {
          "base_uri": "https://localhost:8080/"
        },
        "id": "IUYiDzoib16g",
        "outputId": "8236c763-197d-4695-b45e-33eae8649d09"
      },
      "source": [
        "%cd lmt"
      ],
      "execution_count": null,
      "outputs": [
        {
          "output_type": "stream",
          "text": [
            "/content/lmt\n"
          ],
          "name": "stdout"
        }
      ]
    },
    {
      "cell_type": "code",
      "metadata": {
        "id": "1QxeLOWLb70a"
      },
      "source": [
        "%%capture\n",
        "!apt install golang"
      ],
      "execution_count": null,
      "outputs": []
    },
    {
      "cell_type": "code",
      "metadata": {
        "id": "C0uiDGUPb3by"
      },
      "source": [
        "#!go build main.go\n",
        "#!mv main lmt\n",
        "!go build"
      ],
      "execution_count": null,
      "outputs": []
    },
    {
      "cell_type": "code",
      "metadata": {
        "id": "cTkEr_ZkcSGw"
      },
      "source": [
        "import os\n",
        "os.environ['PATH'] = f'{os.environ[\"PATH\"]}:/content/lmt'"
      ],
      "execution_count": null,
      "outputs": []
    },
    {
      "cell_type": "code",
      "metadata": {
        "colab": {
          "base_uri": "https://localhost:8080/"
        },
        "id": "BjsB8KAPcm1h",
        "outputId": "9138e6b0-e637-43c0-a409-8954ae05005e"
      },
      "source": [
        "%cd /content"
      ],
      "execution_count": null,
      "outputs": [
        {
          "output_type": "stream",
          "text": [
            "/content\n"
          ],
          "name": "stdout"
        }
      ]
    },
    {
      "cell_type": "code",
      "metadata": {
        "colab": {
          "base_uri": "https://localhost:8080/"
        },
        "id": "Yf84rXWif_dh",
        "outputId": "525fc485-fb8f-4a87-8a70-38f987f6d77d"
      },
      "source": [
        "%%writefile test.go.md\n",
        "# Thing\n",
        "\n",
        "```go test.go\n",
        "package main\n",
        "\n",
        "import (\n",
        "\tfmt\n",
        ")\n",
        "```\n",
        "\n",
        "# Blah"
      ],
      "execution_count": null,
      "outputs": [
        {
          "output_type": "stream",
          "text": [
            "Overwriting test.go.md\n"
          ],
          "name": "stdout"
        }
      ]
    },
    {
      "cell_type": "code",
      "metadata": {
        "id": "-_H-PLFveCll"
      },
      "source": [
        "!lmt test.go.md"
      ],
      "execution_count": null,
      "outputs": []
    },
    {
      "cell_type": "code",
      "metadata": {
        "colab": {
          "base_uri": "https://localhost:8080/"
        },
        "id": "-rytAtJihdsj",
        "outputId": "41dbc194-acf9-43e1-f6ca-fb2b928bed4b"
      },
      "source": [
        "!cat test.go"
      ],
      "execution_count": null,
      "outputs": [
        {
          "output_type": "stream",
          "text": [
            "//line test.go.md:4\n",
            "package main\n",
            "\n",
            "import (\n",
            "\tfmt\n",
            ")\n"
          ],
          "name": "stdout"
        }
      ]
    }
  ]
}