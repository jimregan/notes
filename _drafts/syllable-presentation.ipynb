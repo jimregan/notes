{
 "cells": [
  {
   "cell_type": "code",
   "execution_count": 1,
   "metadata": {
    "colab": {
     "base_uri": "https://localhost:8080/",
     "height": 17,
     "referenced_widgets": [
      "eae4557fea35445e9d5ac69fc71c713a"
     ]
    },
    "id": "MCd2YHCDd2BZ",
    "outputId": "b31e0682-439c-4d30-f77c-a2f1186c3a00",
    "slideshow": {
     "slide_type": "skip"
    }
   },
   "outputs": [],
   "source": [
    "from ipyleaflet import *\n",
    "thurles_point = (52.6801064,-7.804442099999999)\n",
    "thurles = Map(center=(52.8001064,-7.804442099999999), zoom=8, basemap=basemaps.Esri.DeLorme)\n",
    "ireland = Map(center=(53.4001064,-7.804442099999999), zoom=6, basemap=basemaps.Esri.DeLorme)\n",
    "marker = Marker(location=thurles_point, draggable=False)\n",
    "thurles.add_layer(marker)"
   ]
  },
  {
   "cell_type": "code",
   "execution_count": 8,
   "metadata": {},
   "outputs": [
    {
     "data": {
      "application/vnd.jupyter.widget-view+json": {
       "model_id": "d4d0ab12d0ea44aba74d74bca1d5d3a2",
       "version_major": 2,
       "version_minor": 0
      },
      "text/plain": [
       "Map(center=[52.8001064, -7.804442099999999], controls=(ZoomControl(options=['position', 'zoom_in_text', 'zoom_…"
      ]
     },
     "metadata": {},
     "output_type": "display_data"
    }
   ],
   "source": [
    "thurles"
   ]
  },
  {
   "cell_type": "code",
   "execution_count": 9,
   "metadata": {},
   "outputs": [
    {
     "data": {
      "application/vnd.jupyter.widget-view+json": {
       "model_id": "c4504e0a1dd3473f920f28d64bd225c5",
       "version_major": 2,
       "version_minor": 0
      },
      "text/plain": [
       "Map(center=[53.4001064, -7.804442099999999], controls=(ZoomControl(options=['position', 'zoom_in_text', 'zoom_…"
      ]
     },
     "metadata": {},
     "output_type": "display_data"
    }
   ],
   "source": [
    "ireland"
   ]
  },
  {
   "cell_type": "code",
   "execution_count": 16,
   "metadata": {
    "slideshow": {
     "slide_type": "skip"
    }
   },
   "outputs": [],
   "source": [
    "#https://stackoverflow.com/questions/44800396/python-ipyleaflet-export-map-as-png-or-jpg-or-svg\n",
    "from ipywebrtc import WidgetStream, ImageRecorder\n",
    "thurles_stream = WidgetStream(widget=thurles, max_fps=1)\n",
    "ireland_stream = WidgetStream(widget=ireland, max_fps=1)"
   ]
  },
  {
   "cell_type": "code",
   "execution_count": 29,
   "metadata": {},
   "outputs": [
    {
     "data": {
      "application/vnd.jupyter.widget-view+json": {
       "model_id": "6b7c2f2b9ddc45f38b671c162d45a426",
       "version_major": 2,
       "version_minor": 0
      },
      "text/plain": [
       "Image(value=b'')"
      ]
     },
     "metadata": {},
     "output_type": "display_data"
    }
   ],
   "source": [
    "thurles_img = ImageRecorder(stream=thurles_stream)\n",
    "thurles_img.recording = True\n",
    "thurles_img.autosave = False\n",
    "thurles_img.download()\n"
   ]
  },
  {
   "cell_type": "code",
   "execution_count": 32,
   "metadata": {},
   "outputs": [],
   "source": [
    "ireland_img = ImageRecorder(stream=ireland_stream)\n",
    "ireland_img.recording = True\n",
    "ireland_img.autosave = False\n",
    "ireland_img.download()"
   ]
  },
  {
   "cell_type": "markdown",
   "metadata": {
    "id": "BMUbZCeybqaO",
    "slideshow": {
     "slide_type": "slide"
    }
   },
   "source": [
    "# Syllables as a Unit for Automatic Speech Recognition\n",
    "\n",
    "### Jim O’Regan"
   ]
  },
  {
   "cell_type": "markdown",
   "metadata": {
    "slideshow": {
     "slide_type": "slide"
    }
   },
   "source": [
    "# About Me"
   ]
  },
  {
   "cell_type": "markdown",
   "metadata": {
    "slideshow": {
     "slide_type": "slide"
    }
   },
   "source": [
    "## Jim O'Regan"
   ]
  },
  {
   "cell_type": "markdown",
   "metadata": {
    "slideshow": {
     "slide_type": "fragment"
    }
   },
   "source": [
    "## /dʒɪm əʊˈɹiːgn̩/"
   ]
  },
  {
   "cell_type": "markdown",
   "metadata": {
    "slideshow": {
     "slide_type": "fragment"
    }
   },
   "source": [
    "## [dʒɪm ɔˈɹiːgn̩]"
   ]
  },
  {
   "cell_type": "markdown",
   "metadata": {
    "slideshow": {
     "slide_type": "slide"
    }
   },
   "source": [
    "# From: Ireland"
   ]
  },
  {
   "cell_type": "code",
   "execution_count": 34,
   "metadata": {
    "slideshow": {
     "slide_type": "subslide"
    }
   },
   "outputs": [
    {
     "data": {
      "application/vnd.jupyter.widget-view+json": {
       "model_id": "80247d56774745a481ca6ffd6dd91815",
       "version_major": 2,
       "version_minor": 0
      },
      "text/plain": [
       "Image(value=b'\\x89PNG\\r\\n\\x1a\\n\\x00\\x00\\x00\\rIHDR\\x00\\x00\\x04\\x07\\x00\\x00\\x01\\xa3\\x08\\x06\\x00\\x00\\x00Pq|\\x1d\\x…"
      ]
     },
     "metadata": {},
     "output_type": "display_data"
    }
   ],
   "source": [
    "display(ireland_img.image)"
   ]
  },
  {
   "cell_type": "markdown",
   "metadata": {
    "slideshow": {
     "slide_type": "slide"
    }
   },
   "source": [
    "# More specifically: Thurles"
   ]
  },
  {
   "cell_type": "code",
   "execution_count": 35,
   "metadata": {
    "slideshow": {
     "slide_type": "subslide"
    }
   },
   "outputs": [
    {
     "data": {
      "application/vnd.jupyter.widget-view+json": {
       "model_id": "6b7c2f2b9ddc45f38b671c162d45a426",
       "version_major": 2,
       "version_minor": 0
      },
      "text/plain": [
       "Image(value=b'\\x89PNG\\r\\n\\x1a\\n\\x00\\x00\\x00\\rIHDR\\x00\\x00\\x04\\x07\\x00\\x00\\x01\\xa3\\x08\\x06\\x00\\x00\\x00Pq|\\x1d\\x…"
      ]
     },
     "metadata": {},
     "output_type": "display_data"
    }
   ],
   "source": [
    "display(thurles_img.image)"
   ]
  },
  {
   "cell_type": "markdown",
   "metadata": {
    "slideshow": {
     "slide_type": "fragment"
    }
   },
   "source": [
    "(146 km from Dublin)"
   ]
  },
  {
   "cell_type": "markdown",
   "metadata": {
    "slideshow": {
     "slide_type": "slide"
    }
   },
   "source": [
    "# Interests\n",
    "\n",
    "My main interests are language technology"
   ]
  },
  {
   "cell_type": "markdown",
   "metadata": {
    "slideshow": {
     "slide_type": "slide"
    }
   },
   "source": [
    "> **syllable** A unit of speech for which there is no satisfactory definition.\n",
    "> Syllables seem to be necessary units in the mental organization and\n",
    "> production of utterances. \n",
    ">\n",
    "> Peter Ladefoged and Keith Johnson. *A Course in Phonetics.* 6th edition, 2011.\n"
   ]
  },
  {
   "cell_type": "code",
   "execution_count": null,
   "metadata": {
    "slideshow": {
     "slide_type": "slide"
    }
   },
   "outputs": [],
   "source": [
    "import svgling\n",
    "svgling.draw_tree((\"Syllable\", (\"Onset\", \"C\"), (\"Rime\", (\"Nucleus\", \"V\"), (\"Coda\", \"C\"))))"
   ]
  },
  {
   "cell_type": "markdown",
   "metadata": {
    "id": "h_7fUOwfZwDK",
    "slideshow": {
     "slide_type": "slide"
    }
   },
   "source": [
    "> I have a policy of never answering questions about TIMIT because the real answer for any such question is, \"Don't use TIMIT, and don't base your recipes on TIMIT\".\n",
    ">\n",
    "> [Dan Povey, June 2019, `kaldi-help` mailing list](https://groups.google.com/g/kaldi-help/c/9buFi8v6Btg/m/3SKFgJI0AwAJ)"
   ]
  },
  {
   "cell_type": "markdown",
   "metadata": {
    "id": "0w-ohIqNaxf2",
    "slideshow": {
     "slide_type": "slide"
    }
   },
   "source": [
    "> The TIMIT testing protocol pretty much dictates that you are supposed to use the bigram phone LM, which is an extremely poor LM for that task.  That's one of the reasons why almost no results using TIMIT are meaningful-- because the use of a good LM is \"not allowed\", certain methods, like recurrent acoustic models and CTC, which *implicitly* do language modeling, appear to be doing well\n",
    ">\n",
    "> [Dan Povey, March 2017, `kaldi-help` mailing list](https://groups.google.com/g/kaldi-help/c/i17cx9SEVVo/m/w0uxwLE0BgAJ)"
   ]
  }
 ],
 "metadata": {
  "celltoolbar": "Slideshow",
  "colab": {
   "name": "Untitled16.ipynb",
   "provenance": []
  },
  "kernelspec": {
   "display_name": "Python 3",
   "language": "python",
   "name": "python3"
  },
  "language_info": {
   "codemirror_mode": {
    "name": "ipython",
    "version": 3
   },
   "file_extension": ".py",
   "mimetype": "text/x-python",
   "name": "python",
   "nbconvert_exporter": "python",
   "pygments_lexer": "ipython3",
   "version": "3.8.2"
  },
  "widgets": {
   "application/vnd.jupyter.widget-state+json": {
    "eae4557fea35445e9d5ac69fc71c713a": {
     "model_module": "jupyter-leaflet",
     "model_name": "LeafletMapModel",
     "state": {
      "_dom_classes": [],
      "_model_module": "jupyter-leaflet",
      "_model_module_version": "^0.14.0",
      "_model_name": "LeafletMapModel",
      "_view_count": null,
      "_view_module": "jupyter-leaflet",
      "_view_module_version": "^0.14.0",
      "_view_name": "LeafletMapView",
      "bottom": 0,
      "bounce_at_zoom_limits": true,
      "box_zoom": true,
      "center": [
       53,
       7
      ],
      "close_popup_on_click": true,
      "controls": [
       "IPY_MODEL_98ede9ea3eb3480ab2f5a6429d5221fc",
       "IPY_MODEL_1d084ddc000948d78ff26a940c0be48e"
      ],
      "crs": {
       "custom": false,
       "name": "EPSG3857"
      },
      "default_style": "IPY_MODEL_447b7d3dc11043d79e18acc07c585663",
      "double_click_zoom": true,
      "dragging": true,
      "dragging_style": "IPY_MODEL_9b4e0dbe8db548ccbcf4c7ec7e11991e",
      "east": 0,
      "fullscreen": false,
      "inertia": true,
      "inertia_deceleration": 3000,
      "inertia_max_speed": 1500,
      "interpolation": "bilinear",
      "keyboard": true,
      "keyboard_pan_offset": 80,
      "keyboard_zoom_offset": 1,
      "layers": [
       "IPY_MODEL_fee7970f89894ff6a46bbef4e6fa38da"
      ],
      "layout": "IPY_MODEL_2c90a9e0ec5141a69eaf368b3e7edda8",
      "left": 9007199254740991,
      "max_zoom": 18,
      "min_zoom": 1,
      "modisdate": "yesterday",
      "north": 0,
      "options": [
       "bounce_at_zoom_limits",
       "box_zoom",
       "center",
       "close_popup_on_click",
       "double_click_zoom",
       "dragging",
       "fullscreen",
       "inertia",
       "inertia_deceleration",
       "inertia_max_speed",
       "interpolation",
       "keyboard",
       "keyboard_pan_offset",
       "keyboard_zoom_offset",
       "max_zoom",
       "min_zoom",
       "scroll_wheel_zoom",
       "tap",
       "tap_tolerance",
       "touch_zoom",
       "world_copy_jump",
       "zoom",
       "zoom_animation_threshold",
       "zoom_delta",
       "zoom_snap",
       "zoom_start"
      ],
      "right": 0,
      "scroll_wheel_zoom": false,
      "south": 0,
      "style": "IPY_MODEL_0e4ee31931b74567a866e77edacaae40",
      "tap": true,
      "tap_tolerance": 15,
      "top": 9007199254740991,
      "touch_zoom": true,
      "west": 0,
      "window_url": "",
      "world_copy_jump": false,
      "zoom": 8,
      "zoom_animation_threshold": 4,
      "zoom_delta": 1,
      "zoom_snap": 1,
      "zoom_start": 12
     }
    }
   }
  }
 },
 "nbformat": 4,
 "nbformat_minor": 1
}
