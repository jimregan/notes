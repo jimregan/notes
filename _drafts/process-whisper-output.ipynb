{
 "cells": [
  {
   "cell_type": "code",
   "execution_count": 34,
   "metadata": {},
   "outputs": [],
   "source": [
    "import json\n",
    "\n",
    "with open(\"/tmp/whisper-v3-aligned-to-sw_all.json\") as jsonf:\n",
    "    data = json.load(jsonf)"
   ]
  },
  {
   "cell_type": "code",
   "execution_count": 27,
   "metadata": {},
   "outputs": [],
   "source": [
    "import re\n",
    "\n",
    "def norm_ref(text):\n",
    "    text = text.replace(\"_\", \" \")\n",
    "    text = re.sub(\"  +\", \" \", text)\n",
    "    return text.strip()"
   ]
  },
  {
   "cell_type": "code",
   "execution_count": 6,
   "metadata": {},
   "outputs": [],
   "source": [
    "def norm_hyp(text):\n",
    "    text = text.lower().strip()\n",
    "    words = [x.strip(\"!.?,;:\") for x in text.split(\" \")]\n",
    "    return \" \".join(words)"
   ]
  },
  {
   "cell_type": "code",
   "execution_count": 36,
   "metadata": {},
   "outputs": [],
   "source": [
    "simple = {}\n",
    "hyph = {}\n",
    "unmatched = {}\n",
    "unmatched_ref = {}\n",
    "unmatched_hyp = {}\n",
    "\n",
    "for key in data:\n",
    "    item = data[key]\n",
    "    if not \"res\" in item:\n",
    "        unmatched_ref[key] = item\n",
    "        continue\n",
    "    nr = norm_ref(item[\"orig\"])\n",
    "    nh = norm_hyp(item[\"res\"])\n",
    "    if nr == nh:\n",
    "        simple[key] = {}\n",
    "        simple[key][\"orig\"] = item[\"orig\"]\n",
    "        simple[key][\"res\"] = item[\"res\"]\n",
    "        if item[\"orig\"] != nr:\n",
    "            simple[key][\"orig\"] = nr\n",
    "    elif nr == nh.replace(\"-\", \"\"):\n",
    "        hyph[key] = {}\n",
    "        hyph[key][\"orig\"] = item[\"orig\"]\n",
    "        hyph[key][\"res\"] = item[\"res\"]\n",
    "        hyph[key][\"res\"] = hyph[key][\"res\"].replace(\"-\", \"\")\n",
    "    else:\n",
    "        unmatched[key] = item"
   ]
  },
  {
   "cell_type": "code",
   "execution_count": 29,
   "metadata": {},
   "outputs": [
    {
     "data": {
      "text/plain": [
       "2836"
      ]
     },
     "execution_count": 29,
     "metadata": {},
     "output_type": "execute_result"
    }
   ],
   "source": [
    "len(simple)"
   ]
  },
  {
   "cell_type": "code",
   "execution_count": 40,
   "metadata": {},
   "outputs": [],
   "source": [
    "hyph_words = []\n",
    "for key in hyph:\n",
    "    for word in data[key][\"res\"].split(\" \"):\n",
    "        if \"-\" in word:\n",
    "            hyph_words.append(word)"
   ]
  },
  {
   "cell_type": "code",
   "execution_count": 41,
   "metadata": {},
   "outputs": [
    {
     "data": {
      "text/plain": [
       "['avi-avgift.',\n",
       " 'Sandwich-konstruktionerna',\n",
       " 'Microsoft-produkter',\n",
       " 'Offshore-verksamhetens',\n",
       " 'pan-europeisk',\n",
       " 'pro-israelisk',\n",
       " 'country-hållet.',\n",
       " 'minidator-serie.',\n",
       " 'Kauri-snäckorna',\n",
       " 'York-börsen',\n",
       " 'icke-europeiskt',\n",
       " 'icke-humanitär']"
      ]
     },
     "execution_count": 41,
     "metadata": {},
     "output_type": "execute_result"
    }
   ],
   "source": [
    "hyph_words"
   ]
  },
  {
   "cell_type": "code",
   "execution_count": 11,
   "metadata": {},
   "outputs": [
    {
     "data": {
      "text/plain": [
       "{'5278': {'orig': 'kanske journalist polis bagare reseledare doktor veterinär eller pilot'},\n",
       " '5279': {'orig': 'musiken har blivit enklare tyngre mörkare mognare'}}"
      ]
     },
     "execution_count": 11,
     "metadata": {},
     "output_type": "execute_result"
    }
   ],
   "source": [
    "unmatched_ref"
   ]
  }
 ],
 "metadata": {
  "kernelspec": {
   "display_name": "hf",
   "language": "python",
   "name": "python3"
  },
  "language_info": {
   "codemirror_mode": {
    "name": "ipython",
    "version": 3
   },
   "file_extension": ".py",
   "mimetype": "text/x-python",
   "name": "python",
   "nbconvert_exporter": "python",
   "pygments_lexer": "ipython3",
   "version": "3.9.15"
  }
 },
 "nbformat": 4,
 "nbformat_minor": 2
}
