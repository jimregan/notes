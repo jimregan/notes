{
 "cells": [
  {
   "cell_type": "code",
   "execution_count": 1,
   "metadata": {},
   "outputs": [],
   "source": [
    "import json\n",
    "\n",
    "with open(\"/tmp/whisper-v3-aligned-to-sw_all.json\") as jsonf:\n",
    "    data = json.load(jsonf)"
   ]
  },
  {
   "cell_type": "code",
   "execution_count": 4,
   "metadata": {},
   "outputs": [],
   "source": [
    "import re\n",
    "\n",
    "def norm_ref(text):\n",
    "    text = text.replace(\"_\", \" \")\n",
    "    text = re.sub(\"  +\", \" \", text)\n",
    "    return text.strip()"
   ]
  },
  {
   "cell_type": "code",
   "execution_count": 6,
   "metadata": {},
   "outputs": [],
   "source": [
    "def norm_hyp(text):\n",
    "    text = text.lower().strip()\n",
    "    words = [x.strip(\"!.?,;:\") for x in text.split(\" \")]\n",
    "    return \" \".join(words)"
   ]
  },
  {
   "cell_type": "code",
   "execution_count": 15,
   "metadata": {},
   "outputs": [],
   "source": [
    "simple = {}\n",
    "unmatched = {}\n",
    "unmatched_ref = {}\n",
    "unmatched_hyp = {}\n",
    "\n",
    "for key in data:\n",
    "    item = data[key]\n",
    "    if not \"res\" in item:\n",
    "        unmatched_ref[key] = item\n",
    "        continue\n",
    "    if norm_ref(item[\"orig\"]) == norm_hyp(item[\"res\"]):\n",
    "        simple[key] = item\n",
    "    else:\n",
    "        unmatched[key] = item"
   ]
  },
  {
   "cell_type": "code",
   "execution_count": 18,
   "metadata": {},
   "outputs": [
    {
     "data": {
      "text/plain": [
       "2836"
      ]
     },
     "execution_count": 18,
     "metadata": {},
     "output_type": "execute_result"
    }
   ],
   "source": [
    "len(simple)"
   ]
  },
  {
   "cell_type": "code",
   "execution_count": 11,
   "metadata": {},
   "outputs": [
    {
     "data": {
      "text/plain": [
       "{'5278': {'orig': 'kanske journalist polis bagare reseledare doktor veterinär eller pilot'},\n",
       " '5279': {'orig': 'musiken har blivit enklare tyngre mörkare mognare'}}"
      ]
     },
     "execution_count": 11,
     "metadata": {},
     "output_type": "execute_result"
    }
   ],
   "source": [
    "unmatched_ref"
   ]
  }
 ],
 "metadata": {
  "kernelspec": {
   "display_name": "hf",
   "language": "python",
   "name": "python3"
  },
  "language_info": {
   "codemirror_mode": {
    "name": "ipython",
    "version": 3
   },
   "file_extension": ".py",
   "mimetype": "text/x-python",
   "name": "python",
   "nbconvert_exporter": "python",
   "pygments_lexer": "ipython3",
   "version": "3.9.15"
  }
 },
 "nbformat": 4,
 "nbformat_minor": 2
}
