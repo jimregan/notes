{
  "nbformat": 4,
  "nbformat_minor": 0,
  "metadata": {
    "colab": {
      "name": "wav2vec2_with_flashlight.ipynb",
      "provenance": []
    },
    "kernelspec": {
      "name": "python3",
      "display_name": "Python 3"
    },
    "language_info": {
      "name": "python"
    },
    "accelerator": "GPU"
  },
  "cells": [
    {
      "cell_type": "code",
      "metadata": {
        "id": "218u5SLK5wVt"
      },
      "source": [
        "%%capture\n",
        "!pip install transformers datasets"
      ],
      "execution_count": null,
      "outputs": []
    },
    {
      "cell_type": "code",
      "metadata": {
        "id": "l-BoJKuy50JQ"
      },
      "source": [
        "import itertools as it\n",
        "import logging\n",
        "import math\n",
        "import re\n",
        "import sys\n",
        "import warnings\n",
        "from dataclasses import dataclass, field\n",
        "from typing import Optional\n",
        "\n",
        "import datasets\n",
        "import torch\n",
        "\n",
        "import soundfile as sf\n",
        "from transformers import HfArgumentParser, Wav2Vec2ForCTC, Wav2Vec2Processor"
      ],
      "execution_count": null,
      "outputs": []
    },
    {
      "cell_type": "code",
      "metadata": {
        "id": "OEwVvjVj5eVV"
      },
      "source": [
        "kenlm_model_path = \"\" #@param {type:\"string\"}"
      ],
      "execution_count": null,
      "outputs": []
    },
    {
      "cell_type": "code",
      "metadata": {
        "id": "RNNTOIEL0KIN"
      },
      "source": [
        "#@title Beam options\n",
        "beam_size = 200 #@param {type:\"integer\"}\n",
        "beam_threshold = 25.0 #@param {type:\"number\"}"
      ],
      "execution_count": null,
      "outputs": []
    },
    {
      "cell_type": "code",
      "metadata": {
        "id": "6hxvlFgX5Wei"
      },
      "source": [
        "import math\n",
        "word_score = 1.0\n",
        "# weight of <unk>nown token\n",
        "unk_weight = -math.inf\n",
        "# weight of <sil>ence token\n",
        "sil_weight = 0.0"
      ],
      "execution_count": null,
      "outputs": []
    },
    {
      "cell_type": "code",
      "metadata": {
        "id": "eRPXTiLN1cx9"
      },
      "source": [
        ""
      ],
      "execution_count": null,
      "outputs": []
    },
    {
      "cell_type": "markdown",
      "metadata": {
        "id": "aJUWc1JZ3ycE"
      },
      "source": [
        "# Set up kenlm"
      ]
    },
    {
      "cell_type": "code",
      "metadata": {
        "colab": {
          "base_uri": "https://localhost:8080/"
        },
        "id": "ITH3MTXQ33gt",
        "outputId": "3e84737e-2712-4a38-e86c-f9e535346579"
      },
      "source": [
        "%cd /content"
      ],
      "execution_count": null,
      "outputs": [
        {
          "output_type": "stream",
          "text": [
            "/content\n"
          ],
          "name": "stdout"
        }
      ]
    },
    {
      "cell_type": "code",
      "metadata": {
        "id": "BwUcTOjRbvoM"
      },
      "source": [
        "!git clone https://github.com/kpu/kenlm"
      ],
      "execution_count": null,
      "outputs": []
    },
    {
      "cell_type": "code",
      "metadata": {
        "id": "xfsJ-BmLbvoM"
      },
      "source": [
        "%%capture\n",
        "!apt-get -y install libeigen3-dev liblzma-dev zlib1g-dev libbz2-dev"
      ],
      "execution_count": null,
      "outputs": []
    },
    {
      "cell_type": "code",
      "metadata": {
        "id": "wHa6DxGWtEE5"
      },
      "source": [
        "%%capture\n",
        "%cd /content/kenlm\n",
        "!mkdir build\n",
        "%cd build\n",
        "!cmake ..\n",
        "!make -j 4"
      ],
      "execution_count": null,
      "outputs": []
    },
    {
      "cell_type": "code",
      "metadata": {
        "id": "9w7eg96HbvoO"
      },
      "source": [
        "%%capture\n",
        "%cd /content/kenlm\n",
        "!python setup.py install\n",
        "%cd /tmp"
      ],
      "execution_count": null,
      "outputs": []
    },
    {
      "cell_type": "code",
      "metadata": {
        "id": "m734pIlgbvoO"
      },
      "source": [
        "import os\n",
        "os.environ['PATH'] = f\"{os.environ['PATH']}:/content/kenlm/build/bin/\""
      ],
      "execution_count": null,
      "outputs": []
    },
    {
      "cell_type": "markdown",
      "metadata": {
        "id": "M9H86_Fj4Qky"
      },
      "source": [
        "# Set up flashlight python bindings"
      ]
    },
    {
      "cell_type": "code",
      "metadata": {
        "colab": {
          "base_uri": "https://localhost:8080/"
        },
        "id": "2k26uw8gqGmw",
        "outputId": "a3256178-2d12-46a0-c27a-5c9f78453d56"
      },
      "source": [
        "%cd /content"
      ],
      "execution_count": null,
      "outputs": [
        {
          "output_type": "stream",
          "text": [
            "/content\n"
          ],
          "name": "stdout"
        }
      ]
    },
    {
      "cell_type": "code",
      "metadata": {
        "colab": {
          "base_uri": "https://localhost:8080/"
        },
        "id": "vOwuJp1oqIMx",
        "outputId": "8d6ee4b4-3a2b-45dc-a8d0-4555947c1c32"
      },
      "source": [
        "!git clone https://github.com/flashlight/flashlight"
      ],
      "execution_count": null,
      "outputs": [
        {
          "output_type": "stream",
          "text": [
            "Cloning into 'flashlight'...\n",
            "remote: Enumerating objects: 17649, done.\u001b[K\n",
            "remote: Counting objects: 100% (1523/1523), done.\u001b[K\n",
            "remote: Compressing objects: 100% (714/714), done.\u001b[K\n",
            "remote: Total 17649 (delta 827), reused 1332 (delta 765), pack-reused 16126\u001b[K\n",
            "Receiving objects: 100% (17649/17649), 14.23 MiB | 27.81 MiB/s, done.\n",
            "Resolving deltas: 100% (12298/12298), done.\n"
          ],
          "name": "stdout"
        }
      ]
    },
    {
      "cell_type": "code",
      "metadata": {
        "id": "HQji7SD4qR2O"
      },
      "source": [
        "%%capture\n",
        "!apt install -q libfftw3-dev"
      ],
      "execution_count": null,
      "outputs": []
    },
    {
      "cell_type": "code",
      "metadata": {
        "id": "iqeuqKQ4qr-W"
      },
      "source": [
        "%%capture\n",
        "!pip install packaging"
      ],
      "execution_count": null,
      "outputs": []
    },
    {
      "cell_type": "code",
      "metadata": {
        "colab": {
          "base_uri": "https://localhost:8080/"
        },
        "id": "yI04_0fMqeKr",
        "outputId": "6c2e19b6-93ed-4976-cbaf-60eef07344ca"
      },
      "source": [
        "%cd flashlight/bindings/python"
      ],
      "execution_count": null,
      "outputs": [
        {
          "output_type": "stream",
          "text": [
            "/content/flashlight/bindings/python\n"
          ],
          "name": "stdout"
        }
      ]
    },
    {
      "cell_type": "code",
      "metadata": {
        "id": "CpO8lOT2qnSz"
      },
      "source": [
        "%env USE_MKL=0\n",
        "%env KENLM_ROOT=/content/kenlm\n",
        "!python setup.py install"
      ],
      "execution_count": null,
      "outputs": []
    }
  ]
}