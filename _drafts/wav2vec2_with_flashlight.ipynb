{
  "nbformat": 4,
  "nbformat_minor": 0,
  "metadata": {
    "colab": {
      "name": "wav2vec2 with flashlight.ipynb",
      "provenance": []
    },
    "kernelspec": {
      "name": "python3",
      "display_name": "Python 3"
    },
    "language_info": {
      "name": "python"
    },
    "accelerator": "GPU"
  },
  "cells": [
    {
      "cell_type": "code",
      "metadata": {
        "colab": {
          "base_uri": "https://localhost:8080/"
        },
        "id": "218u5SLK5wVt",
        "outputId": "f4e91b8c-3638-4389-863e-013cfe3d88b1"
      },
      "source": [
        "%%capture\n",
        "!pip install transformers datasets"
      ],
      "execution_count": 1,
      "outputs": [
        {
          "output_type": "stream",
          "text": [
            "Collecting transformers\n",
            "\u001b[?25l  Downloading https://files.pythonhosted.org/packages/00/92/6153f4912b84ee1ab53ab45663d23e7cf3704161cb5ef18b0c07e207cef2/transformers-4.7.0-py3-none-any.whl (2.5MB)\n",
            "\u001b[K     |████████████████████████████████| 2.5MB 27.3MB/s \n",
            "\u001b[?25hCollecting datasets\n",
            "\u001b[?25l  Downloading https://files.pythonhosted.org/packages/08/a2/d4e1024c891506e1cee8f9d719d20831bac31cb5b7416983c4d2f65a6287/datasets-1.8.0-py3-none-any.whl (237kB)\n",
            "\u001b[K     |████████████████████████████████| 245kB 49.4MB/s \n",
            "\u001b[?25hCollecting sacremoses\n",
            "\u001b[?25l  Downloading https://files.pythonhosted.org/packages/75/ee/67241dc87f266093c533a2d4d3d69438e57d7a90abb216fa076e7d475d4a/sacremoses-0.0.45-py3-none-any.whl (895kB)\n",
            "\u001b[K     |████████████████████████████████| 901kB 50.8MB/s \n",
            "\u001b[?25hRequirement already satisfied: regex!=2019.12.17 in /usr/local/lib/python3.7/dist-packages (from transformers) (2019.12.20)\n",
            "Requirement already satisfied: packaging in /usr/local/lib/python3.7/dist-packages (from transformers) (20.9)\n",
            "Requirement already satisfied: filelock in /usr/local/lib/python3.7/dist-packages (from transformers) (3.0.12)\n",
            "Requirement already satisfied: requests in /usr/local/lib/python3.7/dist-packages (from transformers) (2.23.0)\n",
            "Requirement already satisfied: numpy>=1.17 in /usr/local/lib/python3.7/dist-packages (from transformers) (1.19.5)\n",
            "Requirement already satisfied: pyyaml in /usr/local/lib/python3.7/dist-packages (from transformers) (3.13)\n",
            "Requirement already satisfied: tqdm>=4.27 in /usr/local/lib/python3.7/dist-packages (from transformers) (4.41.1)\n",
            "Collecting tokenizers<0.11,>=0.10.1\n",
            "\u001b[?25l  Downloading https://files.pythonhosted.org/packages/d4/e2/df3543e8ffdab68f5acc73f613de9c2b155ac47f162e725dcac87c521c11/tokenizers-0.10.3-cp37-cp37m-manylinux_2_5_x86_64.manylinux1_x86_64.manylinux_2_12_x86_64.manylinux2010_x86_64.whl (3.3MB)\n",
            "\u001b[K     |████████████████████████████████| 3.3MB 51.6MB/s \n",
            "\u001b[?25hRequirement already satisfied: importlib-metadata; python_version < \"3.8\" in /usr/local/lib/python3.7/dist-packages (from transformers) (4.5.0)\n",
            "Collecting huggingface-hub==0.0.8\n",
            "  Downloading https://files.pythonhosted.org/packages/a1/88/7b1e45720ecf59c6c6737ff332f41c955963090a18e72acbcbeac6b25e86/huggingface_hub-0.0.8-py3-none-any.whl\n",
            "Collecting xxhash\n",
            "\u001b[?25l  Downloading https://files.pythonhosted.org/packages/7d/4f/0a862cad26aa2ed7a7cd87178cbbfa824fc1383e472d63596a0d018374e7/xxhash-2.0.2-cp37-cp37m-manylinux2010_x86_64.whl (243kB)\n",
            "\u001b[K     |████████████████████████████████| 245kB 54.4MB/s \n",
            "\u001b[?25hRequirement already satisfied: pandas in /usr/local/lib/python3.7/dist-packages (from datasets) (1.1.5)\n",
            "Requirement already satisfied: multiprocess in /usr/local/lib/python3.7/dist-packages (from datasets) (0.70.12.2)\n",
            "Requirement already satisfied: dill in /usr/local/lib/python3.7/dist-packages (from datasets) (0.3.4)\n",
            "Requirement already satisfied: pyarrow<4.0.0,>=1.0.0 in /usr/local/lib/python3.7/dist-packages (from datasets) (3.0.0)\n",
            "Collecting fsspec\n",
            "\u001b[?25l  Downloading https://files.pythonhosted.org/packages/8e/d2/d05466997f7751a2c06a7a416b7d1f131d765f7916698d3fdcb3a4d037e5/fsspec-2021.6.0-py3-none-any.whl (114kB)\n",
            "\u001b[K     |████████████████████████████████| 122kB 47.5MB/s \n",
            "\u001b[?25hRequirement already satisfied: joblib in /usr/local/lib/python3.7/dist-packages (from sacremoses->transformers) (1.0.1)\n",
            "Requirement already satisfied: click in /usr/local/lib/python3.7/dist-packages (from sacremoses->transformers) (7.1.2)\n",
            "Requirement already satisfied: six in /usr/local/lib/python3.7/dist-packages (from sacremoses->transformers) (1.15.0)\n",
            "Requirement already satisfied: pyparsing>=2.0.2 in /usr/local/lib/python3.7/dist-packages (from packaging->transformers) (2.4.7)\n",
            "Requirement already satisfied: idna<3,>=2.5 in /usr/local/lib/python3.7/dist-packages (from requests->transformers) (2.10)\n",
            "Requirement already satisfied: certifi>=2017.4.17 in /usr/local/lib/python3.7/dist-packages (from requests->transformers) (2021.5.30)\n",
            "Requirement already satisfied: urllib3!=1.25.0,!=1.25.1,<1.26,>=1.21.1 in /usr/local/lib/python3.7/dist-packages (from requests->transformers) (1.24.3)\n",
            "Requirement already satisfied: chardet<4,>=3.0.2 in /usr/local/lib/python3.7/dist-packages (from requests->transformers) (3.0.4)\n",
            "Requirement already satisfied: zipp>=0.5 in /usr/local/lib/python3.7/dist-packages (from importlib-metadata; python_version < \"3.8\"->transformers) (3.4.1)\n",
            "Requirement already satisfied: typing-extensions>=3.6.4; python_version < \"3.8\" in /usr/local/lib/python3.7/dist-packages (from importlib-metadata; python_version < \"3.8\"->transformers) (3.7.4.3)\n",
            "Requirement already satisfied: python-dateutil>=2.7.3 in /usr/local/lib/python3.7/dist-packages (from pandas->datasets) (2.8.1)\n",
            "Requirement already satisfied: pytz>=2017.2 in /usr/local/lib/python3.7/dist-packages (from pandas->datasets) (2018.9)\n",
            "Installing collected packages: sacremoses, tokenizers, huggingface-hub, transformers, xxhash, fsspec, datasets\n",
            "Successfully installed datasets-1.8.0 fsspec-2021.6.0 huggingface-hub-0.0.8 sacremoses-0.0.45 tokenizers-0.10.3 transformers-4.7.0 xxhash-2.0.2\n"
          ],
          "name": "stdout"
        }
      ]
    },
    {
      "cell_type": "code",
      "metadata": {
        "id": "l-BoJKuy50JQ"
      },
      "source": [
        "import itertools as it\n",
        "import logging\n",
        "import math\n",
        "import re\n",
        "import sys\n",
        "import warnings\n",
        "from dataclasses import dataclass, field\n",
        "from typing import Optional\n",
        "\n",
        "import datasets\n",
        "import torch\n",
        "\n",
        "import soundfile as sf\n",
        "from transformers import HfArgumentParser, Wav2Vec2ForCTC, Wav2Vec2Processor"
      ],
      "execution_count": 2,
      "outputs": []
    },
    {
      "cell_type": "code",
      "metadata": {
        "id": "OEwVvjVj5eVV"
      },
      "source": [
        "kenlm_model_path = \"\" #@param {type:\"string\"}"
      ],
      "execution_count": 3,
      "outputs": []
    },
    {
      "cell_type": "code",
      "metadata": {
        "id": "RNNTOIEL0KIN"
      },
      "source": [
        "#@title Beam options\n",
        "beam_size = 200 #@param {type:\"integer\"}\n",
        "beam_threshold = 25.0 #@param {type:\"number\"}"
      ],
      "execution_count": 4,
      "outputs": []
    },
    {
      "cell_type": "code",
      "metadata": {
        "id": "6hxvlFgX5Wei"
      },
      "source": [
        "import math\n",
        "word_score = 1.0\n",
        "# weight of <unk>nown token\n",
        "unk_weight = -math.inf\n",
        "# weight of <sil>ence token\n",
        "sil_weight = 0.0"
      ],
      "execution_count": 5,
      "outputs": []
    },
    {
      "cell_type": "code",
      "metadata": {
        "id": "eRPXTiLN1cx9"
      },
      "source": [
        ""
      ],
      "execution_count": 5,
      "outputs": []
    },
    {
      "cell_type": "markdown",
      "metadata": {
        "id": "aJUWc1JZ3ycE"
      },
      "source": [
        "# Set up kenlm"
      ]
    },
    {
      "cell_type": "code",
      "metadata": {
        "colab": {
          "base_uri": "https://localhost:8080/"
        },
        "id": "ITH3MTXQ33gt",
        "outputId": "3e84737e-2712-4a38-e86c-f9e535346579"
      },
      "source": [
        "%cd /content"
      ],
      "execution_count": 6,
      "outputs": [
        {
          "output_type": "stream",
          "text": [
            "/content\n"
          ],
          "name": "stdout"
        }
      ]
    },
    {
      "cell_type": "code",
      "metadata": {
        "colab": {
          "base_uri": "https://localhost:8080/"
        },
        "id": "BwUcTOjRbvoM",
        "outputId": "ad67cddd-037c-469a-aa13-1337a1b4d48f"
      },
      "source": [
        "!git clone https://github.com/kpu/kenlm"
      ],
      "execution_count": 7,
      "outputs": [
        {
          "output_type": "stream",
          "text": [
            "Cloning into 'kenlm'...\n",
            "remote: Enumerating objects: 14047, done.\u001b[K\n",
            "remote: Counting objects: 100% (360/360), done.\u001b[K\n",
            "remote: Compressing objects: 100% (292/292), done.\u001b[K\n",
            "remote: Total 14047 (delta 107), reused 121 (delta 55), pack-reused 13687\u001b[K\n",
            "Receiving objects: 100% (14047/14047), 5.76 MiB | 19.78 MiB/s, done.\n",
            "Resolving deltas: 100% (7987/7987), done.\n"
          ],
          "name": "stdout"
        }
      ]
    },
    {
      "cell_type": "code",
      "metadata": {
        "id": "xfsJ-BmLbvoM"
      },
      "source": [
        "%%capture\n",
        "!apt-get -y install libeigen3-dev liblzma-dev zlib1g-dev libbz2-dev"
      ],
      "execution_count": 8,
      "outputs": []
    },
    {
      "cell_type": "code",
      "metadata": {
        "id": "wHa6DxGWtEE5"
      },
      "source": [
        "%%capture\n",
        "%cd /content/kenlm\n",
        "!mkdir build\n",
        "%cd build\n",
        "!cmake ..\n",
        "!make -j 4"
      ],
      "execution_count": 9,
      "outputs": []
    },
    {
      "cell_type": "code",
      "metadata": {
        "id": "9w7eg96HbvoO"
      },
      "source": [
        "%%capture\n",
        "%cd /content/kenlm\n",
        "!python setup.py install\n",
        "%cd /tmp"
      ],
      "execution_count": 10,
      "outputs": []
    },
    {
      "cell_type": "code",
      "metadata": {
        "id": "m734pIlgbvoO"
      },
      "source": [
        "import os\n",
        "os.environ['PATH'] = f\"{os.environ['PATH']}:/content/kenlm/build/bin/\""
      ],
      "execution_count": 11,
      "outputs": []
    },
    {
      "cell_type": "markdown",
      "metadata": {
        "id": "M9H86_Fj4Qky"
      },
      "source": [
        "# Set up flashlight python bindings"
      ]
    },
    {
      "cell_type": "code",
      "metadata": {
        "colab": {
          "base_uri": "https://localhost:8080/"
        },
        "id": "2k26uw8gqGmw",
        "outputId": "a3256178-2d12-46a0-c27a-5c9f78453d56"
      },
      "source": [
        "%cd /content"
      ],
      "execution_count": 12,
      "outputs": [
        {
          "output_type": "stream",
          "text": [
            "/content\n"
          ],
          "name": "stdout"
        }
      ]
    },
    {
      "cell_type": "code",
      "metadata": {
        "colab": {
          "base_uri": "https://localhost:8080/"
        },
        "id": "vOwuJp1oqIMx",
        "outputId": "8d6ee4b4-3a2b-45dc-a8d0-4555947c1c32"
      },
      "source": [
        "!git clone https://github.com/flashlight/flashlight"
      ],
      "execution_count": 13,
      "outputs": [
        {
          "output_type": "stream",
          "text": [
            "Cloning into 'flashlight'...\n",
            "remote: Enumerating objects: 17649, done.\u001b[K\n",
            "remote: Counting objects: 100% (1523/1523), done.\u001b[K\n",
            "remote: Compressing objects: 100% (714/714), done.\u001b[K\n",
            "remote: Total 17649 (delta 827), reused 1332 (delta 765), pack-reused 16126\u001b[K\n",
            "Receiving objects: 100% (17649/17649), 14.23 MiB | 27.81 MiB/s, done.\n",
            "Resolving deltas: 100% (12298/12298), done.\n"
          ],
          "name": "stdout"
        }
      ]
    },
    {
      "cell_type": "code",
      "metadata": {
        "id": "HQji7SD4qR2O"
      },
      "source": [
        "%%capture\n",
        "!apt install -q libfftw3-dev"
      ],
      "execution_count": 14,
      "outputs": []
    },
    {
      "cell_type": "code",
      "metadata": {
        "id": "iqeuqKQ4qr-W"
      },
      "source": [
        "%%capture\n",
        "!pip install packaging"
      ],
      "execution_count": 15,
      "outputs": []
    },
    {
      "cell_type": "code",
      "metadata": {
        "colab": {
          "base_uri": "https://localhost:8080/"
        },
        "id": "yI04_0fMqeKr",
        "outputId": "6c2e19b6-93ed-4976-cbaf-60eef07344ca"
      },
      "source": [
        "%cd flashlight/bindings/python"
      ],
      "execution_count": 16,
      "outputs": [
        {
          "output_type": "stream",
          "text": [
            "/content/flashlight/bindings/python\n"
          ],
          "name": "stdout"
        }
      ]
    },
    {
      "cell_type": "code",
      "metadata": {
        "id": "CpO8lOT2qnSz",
        "colab": {
          "base_uri": "https://localhost:8080/"
        },
        "outputId": "3449a2a8-b89b-498d-d83c-d44ce6fc4c57"
      },
      "source": [
        "%env USE_MKL=0\n",
        "%env KENLM_ROOT=/content/kenlm\n",
        "!python setup.py install"
      ],
      "execution_count": 18,
      "outputs": [
        {
          "output_type": "stream",
          "text": [
            "env: USE_MKL=0\n",
            "env: KENLM_ROOT=/content/kenlm\n",
            "running install\n",
            "running bdist_egg\n",
            "running egg_info\n",
            "writing flashlight.egg-info/PKG-INFO\n",
            "writing dependency_links to flashlight.egg-info/dependency_links.txt\n",
            "writing top-level names to flashlight.egg-info/top_level.txt\n",
            "package init file 'flashlight/__init__.py' not found (or not a regular file)\n",
            "package init file 'flashlight/lib/audio/__init__.py' not found (or not a regular file)\n",
            "package init file 'flashlight/lib/sequence/__init__.py' not found (or not a regular file)\n",
            "package init file 'flashlight/lib/text/__init__.py' not found (or not a regular file)\n",
            "reading manifest template 'MANIFEST.in'\n",
            "writing manifest file 'flashlight.egg-info/SOURCES.txt'\n",
            "installing library code to build/bdist.linux-x86_64/egg\n",
            "running install_lib\n",
            "running build_py\n",
            "running build_ext\n",
            "-- -rdynamic supported.\n",
            "-- CUDA found (library: /usr/local/cuda/lib64/libcudart_static.a;-lpthread;dl;/usr/lib/x86_64-linux-gnu/librt.so include: /usr/local/cuda/include)\n",
            "-- CUDA architecture flags: -gencodearch=compute_35,code=sm_35-gencodearch=compute_50,code=sm_50-gencodearch=compute_52,code=sm_52-gencodearch=compute_60,code=sm_60-gencodearch=compute_61,code=sm_61-gencodearch=compute_70,code=sm_70-gencodearch=compute_75,code=sm_75-gencodearch=compute_80,code=sm_80\n",
            "-- Will build flashlight libraries.\n",
            "-- Found PkgConfig: /usr/bin/pkg-config (found version \"0.29.1\") \n",
            "-- Checking for module 'cblas'\n",
            "--   No package 'cblas' found\n",
            "-- Checking for [Accelerate]\n",
            "-- Checking for [vecLib]\n",
            "-- Checking for [cblas - atlas]\n",
            "-- Includes found\n",
            "-- Looking for cblas_dgemm\n",
            "-- Looking for cblas_dgemm - found\n",
            "-- CBLAS Symbols FOUND\n",
            "-- CBLAS library found\n",
            "-- CBLAS found (include: /usr/include/x86_64-linux-gnu, library: /usr/lib/x86_64-linux-gnu/libcblas.so;/usr/lib/x86_64-linux-gnu/libatlas.so)\n",
            "-- Could NOT find FFTW3 (missing: FFTW3_DIR)\n",
            "-- FindFFTW using pkgconfig: FOUND=1 LIBRARIES=fftw3 LIBRARY_DIRS= LIBDIR=/usr/lib/x86_64-linux-gnu LINK_LIBRARIES=/usr/lib/x86_64-linux-gnu/libfftw3.so\n",
            "-- FindFTTW using pkgconfig: INCLUDE_DIRS= INCLUDEDIR=/usr/include\n",
            "-- Found FFTW3: /usr/include  \n",
            "-- FFTW found\n",
            "-- Found OpenMP_C: -fopenmp  \n",
            "-- Found OpenMP_CXX: -fopenmp  \n",
            "-- Found OpenMP: TRUE   \n",
            "-- Looking for KenLM\n",
            "-- Looking for lzma_auto_decoder in /usr/lib/x86_64-linux-gnu/liblzma.so\n",
            "-- Looking for lzma_auto_decoder in /usr/lib/x86_64-linux-gnu/liblzma.so - found\n",
            "-- Looking for lzma_easy_encoder in /usr/lib/x86_64-linux-gnu/liblzma.so\n",
            "-- Looking for lzma_easy_encoder in /usr/lib/x86_64-linux-gnu/liblzma.so - found\n",
            "-- Looking for lzma_lzma_preset in /usr/lib/x86_64-linux-gnu/liblzma.so\n",
            "-- Looking for lzma_lzma_preset in /usr/lib/x86_64-linux-gnu/liblzma.so - found\n",
            "-- Found LibLZMA: /usr/include (found version \"5.2.2\") \n",
            "-- Found BZip2: /usr/lib/x86_64-linux-gnu/libbz2.so (found version \"1.0.6\") \n",
            "-- Looking for BZ2_bzCompressInit\n",
            "-- Looking for BZ2_bzCompressInit - found\n",
            "-- Found ZLIB: /usr/lib/x86_64-linux-gnu/libz.so (found version \"1.2.11\") \n",
            "-- Using kenlm library found in /content/kenlm/build/lib/libkenlm.a\n",
            "-- Using kenlm utils library found in /content/kenlm/build/lib/libkenlm_util.a\n",
            "-- kenlm model.hh found in /content/kenlm/lm\n",
            "-- Found kenlm: /content  \n",
            "-- Found kenlm (include: /content, library: /content/kenlm/build/lib/libkenlm.a;/content/kenlm/build/lib/libkenlm_util.a;/usr/lib/x86_64-linux-gnu/liblzma.so;/usr/lib/x86_64-linux-gnu/libbz2.so;/usr/lib/x86_64-linux-gnu/libz.so)\n",
            "-- Found PythonInterp: /usr/bin/python3 (found version \"3.7.10\") \n",
            "-- Found PythonLibs: /usr/lib/x86_64-linux-gnu/libpython3.7m.so\n",
            "-- Performing Test HAS_FLTO\n",
            "-- Performing Test HAS_FLTO - Success\n",
            "-- LTO enabled\n",
            "-- Configuring done\n",
            "-- Generating done\n",
            "-- Build files have been written to: /content/flashlight/bindings/python/build/temp.linux-x86_64-3.7\n",
            "\u001b[35m\u001b[1mScanning dependencies of target pybind11\u001b[0m\n",
            "\u001b[35m\u001b[1mScanning dependencies of target fl-libraries\u001b[0m\n",
            "[  1%] \u001b[34m\u001b[1mCreating directories for 'pybind11'\u001b[0m\n",
            "[  3%] \u001b[34m\u001b[1mPerforming download step (git clone) for 'pybind11'\u001b[0m\n",
            "Cloning into 'pybind11'...\n",
            "[  5%] \u001b[32mBuilding CXX object CMakeFiles/fl-libraries.dir/flashlight/lib/set/Hungarian.cpp.o\u001b[0m\n",
            "[  7%] \u001b[32mBuilding CXX object CMakeFiles/fl-libraries.dir/flashlight/lib/sequence/criterion/cpu/ForceAlignmentCriterion.cpp.o\u001b[0m\n",
            "[  9%] \u001b[32mBuilding CXX object CMakeFiles/fl-libraries.dir/flashlight/lib/sequence/criterion/cpu/CriterionUtils.cpp.o\u001b[0m\n",
            "[ 11%] \u001b[32mBuilding CXX object CMakeFiles/fl-libraries.dir/flashlight/lib/sequence/criterion/cpu/ConnectionistTemporalClassificationCriterion.cpp.o\u001b[0m\n",
            "[ 12%] \u001b[32mBuilding CXX object CMakeFiles/fl-libraries.dir/flashlight/lib/sequence/criterion/cpu/FullConnectionCriterion.cpp.o\u001b[0m\n",
            "[ 14%] \u001b[32mBuilding CXX object CMakeFiles/fl-libraries.dir/flashlight/lib/sequence/criterion/cpu/ViterbiPath.cpp.o\u001b[0m\n",
            "[ 16%] \u001b[32mBuilding CXX object CMakeFiles/fl-libraries.dir/flashlight/lib/audio/feature/Ceplifter.cpp.o\u001b[0m\n",
            "[ 18%] \u001b[32mBuilding CXX object CMakeFiles/fl-libraries.dir/flashlight/lib/audio/feature/Dct.cpp.o\u001b[0m\n",
            "[ 20%] \u001b[32mBuilding CXX object CMakeFiles/fl-libraries.dir/flashlight/lib/audio/feature/Derivatives.cpp.o\u001b[0m\n",
            "Note: checking out '9a19306fbf30642ca331d0ec88e7da54a96860f9'.\n",
            "\n",
            "You are in 'detached HEAD' state. You can look around, make experimental\n",
            "changes and commit them, and you can discard any commits you make in this\n",
            "state without impacting any branches by performing another checkout.\n",
            "\n",
            "If you want to create a new branch to retain commits you create, you may\n",
            "do so (now or later) by using -b with the checkout command again. Example:\n",
            "\n",
            "  git checkout -b <new-branch-name>\n",
            "\n",
            "HEAD is now at 9a19306 bump version to 2.2.4\n",
            "[ 22%] \u001b[32mBuilding CXX object CMakeFiles/fl-libraries.dir/flashlight/lib/audio/feature/Dither.cpp.o\u001b[0m\n",
            "Submodule 'tools/clang' (https://github.com/wjakob/clang-cindex-python3) registered for path 'tools/clang'\n",
            "[ 24%] \u001b[32mBuilding CXX object CMakeFiles/fl-libraries.dir/flashlight/lib/audio/feature/Mfcc.cpp.o\u001b[0m\n",
            "Cloning into '/content/flashlight/bindings/python/build/temp.linux-x86_64-3.7/pybind11/src/pybind11/tools/clang'...\n",
            "[ 25%] \u001b[32mBuilding CXX object CMakeFiles/fl-libraries.dir/flashlight/lib/audio/feature/Mfsc.cpp.o\u001b[0m\n",
            "Submodule path 'tools/clang': checked out '6a00cbc4a9b8e68b71caf7f774b3f9c753ae84d5'\n",
            "[ 27%] \u001b[32mBuilding CXX object CMakeFiles/fl-libraries.dir/flashlight/lib/audio/feature/PowerSpectrum.cpp.o\u001b[0m\n",
            "[ 29%] \u001b[34m\u001b[1mNo patch step for 'pybind11'\u001b[0m\n",
            "[ 31%] \u001b[32mBuilding CXX object CMakeFiles/fl-libraries.dir/flashlight/lib/audio/feature/PreEmphasis.cpp.o\u001b[0m\n",
            "[ 33%] \u001b[34m\u001b[1mPerforming update step for 'pybind11'\u001b[0m\n",
            "[ 35%] \u001b[34m\u001b[1mNo configure step for 'pybind11'\u001b[0m\n",
            "[ 37%] \u001b[34m\u001b[1mNo build step for 'pybind11'\u001b[0m\n",
            "[ 38%] \u001b[34m\u001b[1mNo install step for 'pybind11'\u001b[0m\n",
            "[ 40%] \u001b[34m\u001b[1mCompleted 'pybind11'\u001b[0m\n",
            "[ 40%] Built target pybind11\n",
            "[ 42%] \u001b[32mBuilding CXX object CMakeFiles/fl-libraries.dir/flashlight/lib/audio/feature/SpeechUtils.cpp.o\u001b[0m\n",
            "[ 44%] \u001b[32mBuilding CXX object CMakeFiles/fl-libraries.dir/flashlight/lib/audio/feature/TriFilterbank.cpp.o\u001b[0m\n",
            "[ 46%] \u001b[32mBuilding CXX object CMakeFiles/fl-libraries.dir/flashlight/lib/audio/feature/Windowing.cpp.o\u001b[0m\n",
            "[ 48%] \u001b[32mBuilding CXX object CMakeFiles/fl-libraries.dir/flashlight/lib/common/String.cpp.o\u001b[0m\n",
            "[ 50%] \u001b[32mBuilding CXX object CMakeFiles/fl-libraries.dir/flashlight/lib/common/System.cpp.o\u001b[0m\n",
            "[ 51%] \u001b[32mBuilding CXX object CMakeFiles/fl-libraries.dir/flashlight/lib/text/decoder/lm/ConvLM.cpp.o\u001b[0m\n",
            "[ 53%] \u001b[32mBuilding CXX object CMakeFiles/fl-libraries.dir/flashlight/lib/text/decoder/lm/ZeroLM.cpp.o\u001b[0m\n",
            "[ 55%] \u001b[32mBuilding CXX object CMakeFiles/fl-libraries.dir/flashlight/lib/text/decoder/lm/KenLM.cpp.o\u001b[0m\n",
            "[ 57%] \u001b[32mBuilding CXX object CMakeFiles/fl-libraries.dir/flashlight/lib/text/decoder/LexiconDecoder.cpp.o\u001b[0m\n",
            "[ 59%] \u001b[32mBuilding CXX object CMakeFiles/fl-libraries.dir/flashlight/lib/text/decoder/LexiconFreeDecoder.cpp.o\u001b[0m\n",
            "[ 61%] \u001b[32mBuilding CXX object CMakeFiles/fl-libraries.dir/flashlight/lib/text/decoder/LexiconSeq2SeqDecoder.cpp.o\u001b[0m\n",
            "[ 62%] \u001b[32mBuilding CXX object CMakeFiles/fl-libraries.dir/flashlight/lib/text/decoder/LexiconFreeSeq2SeqDecoder.cpp.o\u001b[0m\n",
            "[ 64%] \u001b[32mBuilding CXX object CMakeFiles/fl-libraries.dir/flashlight/lib/text/decoder/Trie.cpp.o\u001b[0m\n",
            "[ 66%] \u001b[32mBuilding CXX object CMakeFiles/fl-libraries.dir/flashlight/lib/text/decoder/Utils.cpp.o\u001b[0m\n",
            "[ 68%] \u001b[32mBuilding CXX object CMakeFiles/fl-libraries.dir/flashlight/lib/text/dictionary/Dictionary.cpp.o\u001b[0m\n",
            "[ 70%] \u001b[32mBuilding CXX object CMakeFiles/fl-libraries.dir/flashlight/lib/text/dictionary/Utils.cpp.o\u001b[0m\n",
            "[ 72%] \u001b[32mBuilding CXX object CMakeFiles/fl-libraries.dir/flashlight/lib/text/tokenizer/PartialFileReader.cpp.o\u001b[0m\n",
            "[ 74%] \u001b[32mBuilding CXX object CMakeFiles/fl-libraries.dir/flashlight/lib/text/tokenizer/Tokenizer.cpp.o\u001b[0m\n",
            "[ 75%] \u001b[32mBuilding CUDA object CMakeFiles/fl-libraries.dir/flashlight/lib/sequence/criterion/cuda/CriterionUtils.cu.o\u001b[0m\n",
            "[ 77%] \u001b[32mBuilding CUDA object CMakeFiles/fl-libraries.dir/flashlight/lib/sequence/criterion/cuda/ForceAlignmentCriterion.cu.o\u001b[0m\n",
            "[ 79%] \u001b[32mBuilding CUDA object CMakeFiles/fl-libraries.dir/flashlight/lib/sequence/criterion/cuda/FullConnectionCriterion.cu.o\u001b[0m\n",
            "[ 81%] \u001b[32mBuilding CUDA object CMakeFiles/fl-libraries.dir/flashlight/lib/sequence/criterion/cuda/ViterbiPath.cu.o\u001b[0m\n",
            "[ 83%] \u001b[32m\u001b[1mLinking CUDA device code CMakeFiles/fl-libraries.dir/cmake_device_link.o\u001b[0m\n",
            "[ 85%] \u001b[32m\u001b[1mLinking CXX shared library ../lib.linux-x86_64-3.7/libfl-libraries.so\u001b[0m\n",
            "[ 85%] Built target fl-libraries\n",
            "\u001b[35m\u001b[1mScanning dependencies of target flashlight_lib_text_decoder\u001b[0m\n",
            "\u001b[35m\u001b[1mScanning dependencies of target flashlight_lib_sequence_criterion\u001b[0m\n",
            "\u001b[35m\u001b[1mScanning dependencies of target flashlight_lib_audio_feature\u001b[0m\n",
            "\u001b[35m\u001b[1mScanning dependencies of target flashlight_lib_text_dictionary\u001b[0m\n",
            "[ 87%] \u001b[32mBuilding CXX object CMakeFiles/flashlight_lib_text_decoder.dir/bindings/python/flashlight/lib/text/_decoder.cpp.o\u001b[0m\n",
            "[ 90%] \u001b[32mBuilding CXX object CMakeFiles/flashlight_lib_audio_feature.dir/bindings/python/flashlight/lib/audio/_feature.cpp.o\u001b[0m\n",
            "[ 90%] \u001b[32mBuilding CXX object CMakeFiles/flashlight_lib_text_dictionary.dir/bindings/python/flashlight/lib/text/_dictionary.cpp.o\u001b[0m\n",
            "[ 92%] \u001b[32mBuilding CXX object CMakeFiles/flashlight_lib_sequence_criterion.dir/bindings/python/flashlight/lib/sequence/_criterion.cpp.o\u001b[0m\n",
            "[ 94%] \u001b[32m\u001b[1mLinking CXX shared module ../lib.linux-x86_64-3.7/flashlight/lib/text/flashlight_lib_text_dictionary.cpython-37m-x86_64-linux-gnu.so\u001b[0m\n",
            "[ 96%] \u001b[32m\u001b[1mLinking CXX shared module ../lib.linux-x86_64-3.7/flashlight/lib/sequence/flashlight_lib_sequence_criterion.cpython-37m-x86_64-linux-gnu.so\u001b[0m\n",
            "[ 98%] \u001b[32m\u001b[1mLinking CXX shared module ../lib.linux-x86_64-3.7/flashlight/lib/audio/flashlight_lib_audio_feature.cpython-37m-x86_64-linux-gnu.so\u001b[0m\n",
            "[ 98%] Built target flashlight_lib_text_dictionary\n",
            "[100%] \u001b[32m\u001b[1mLinking CXX shared module ../lib.linux-x86_64-3.7/flashlight/lib/text/flashlight_lib_text_decoder.cpython-37m-x86_64-linux-gnu.so\u001b[0m\n",
            "[100%] Built target flashlight_lib_sequence_criterion\n",
            "[100%] Built target flashlight_lib_audio_feature\n",
            "[100%] Built target flashlight_lib_text_decoder\n",
            "-- -rdynamic supported.\n",
            "-- CUDA found (library: /usr/local/cuda/lib64/libcudart_static.a;-lpthread;dl;/usr/lib/x86_64-linux-gnu/librt.so include: /usr/local/cuda/include)\n",
            "-- CUDA architecture flags: -gencodearch=compute_35,code=sm_35-gencodearch=compute_50,code=sm_50-gencodearch=compute_52,code=sm_52-gencodearch=compute_60,code=sm_60-gencodearch=compute_61,code=sm_61-gencodearch=compute_70,code=sm_70-gencodearch=compute_75,code=sm_75-gencodearch=compute_80,code=sm_80\n",
            "-- Will build flashlight libraries.\n",
            "-- Checking for module 'cblas'\n",
            "--   No package 'cblas' found\n",
            "-- Checking for [Accelerate]\n",
            "-- Checking for [vecLib]\n",
            "-- Checking for [cblas - atlas]\n",
            "-- Includes found\n",
            "-- CBLAS Symbols FOUND\n",
            "-- CBLAS library found\n",
            "-- CBLAS found (include: /usr/include/x86_64-linux-gnu, library: /usr/lib/x86_64-linux-gnu/libcblas.so;/usr/lib/x86_64-linux-gnu/libatlas.so)\n",
            "-- Could NOT find FFTW3 (missing: FFTW3_DIR)\n",
            "-- FindFFTW using pkgconfig: FOUND=1 LIBRARIES=fftw3 LIBRARY_DIRS= LIBDIR=/usr/lib/x86_64-linux-gnu LINK_LIBRARIES=/usr/lib/x86_64-linux-gnu/libfftw3.so\n",
            "-- FindFTTW using pkgconfig: INCLUDE_DIRS= INCLUDEDIR=/usr/include\n",
            "-- FFTW found\n",
            "-- Looking for KenLM\n",
            "-- Using kenlm library found in /content/kenlm/build/lib/libkenlm.a\n",
            "-- Using kenlm utils library found in /content/kenlm/build/lib/libkenlm_util.a\n",
            "-- kenlm model.hh found in /content/kenlm/lm\n",
            "-- Found kenlm (include: /content, library: /content/kenlm/build/lib/libkenlm.a;/content/kenlm/build/lib/libkenlm_util.a;/usr/lib/x86_64-linux-gnu/liblzma.so;/usr/lib/x86_64-linux-gnu/libbz2.so;/usr/lib/x86_64-linux-gnu/libz.so)\n",
            "-- Configuring done\n",
            "-- Generating done\n",
            "-- Build files have been written to: /content/flashlight/bindings/python/build/temp.linux-x86_64-3.7\n",
            "[  1%] \u001b[34m\u001b[1mPerforming update step for 'pybind11'\u001b[0m\n",
            "[  3%] \u001b[34m\u001b[1mNo configure step for 'pybind11'\u001b[0m\n",
            "[ 74%] Built target fl-libraries\n",
            "[ 75%] \u001b[34m\u001b[1mNo build step for 'pybind11'\u001b[0m\n",
            "[ 77%] \u001b[34m\u001b[1mNo install step for 'pybind11'\u001b[0m\n",
            "[ 79%] \u001b[34m\u001b[1mCompleted 'pybind11'\u001b[0m\n",
            "[ 85%] Built target pybind11\n",
            "[ 88%] Built target flashlight_lib_sequence_criterion\n",
            "[ 92%] Built target flashlight_lib_audio_feature\n",
            "[ 96%] Built target flashlight_lib_text_dictionary\n",
            "[100%] Built target flashlight_lib_text_decoder\n",
            "-- -rdynamic supported.\n",
            "-- CUDA found (library: /usr/local/cuda/lib64/libcudart_static.a;-lpthread;dl;/usr/lib/x86_64-linux-gnu/librt.so include: /usr/local/cuda/include)\n",
            "-- CUDA architecture flags: -gencodearch=compute_35,code=sm_35-gencodearch=compute_50,code=sm_50-gencodearch=compute_52,code=sm_52-gencodearch=compute_60,code=sm_60-gencodearch=compute_61,code=sm_61-gencodearch=compute_70,code=sm_70-gencodearch=compute_75,code=sm_75-gencodearch=compute_80,code=sm_80\n",
            "-- Will build flashlight libraries.\n",
            "-- Checking for module 'cblas'\n",
            "--   No package 'cblas' found\n",
            "-- Checking for [Accelerate]\n",
            "-- Checking for [vecLib]\n",
            "-- Checking for [cblas - atlas]\n",
            "-- Includes found\n",
            "-- CBLAS Symbols FOUND\n",
            "-- CBLAS library found\n",
            "-- CBLAS found (include: /usr/include/x86_64-linux-gnu, library: /usr/lib/x86_64-linux-gnu/libcblas.so;/usr/lib/x86_64-linux-gnu/libatlas.so)\n",
            "-- Could NOT find FFTW3 (missing: FFTW3_DIR)\n",
            "-- FindFFTW using pkgconfig: FOUND=1 LIBRARIES=fftw3 LIBRARY_DIRS= LIBDIR=/usr/lib/x86_64-linux-gnu LINK_LIBRARIES=/usr/lib/x86_64-linux-gnu/libfftw3.so\n",
            "-- FindFTTW using pkgconfig: INCLUDE_DIRS= INCLUDEDIR=/usr/include\n",
            "-- FFTW found\n",
            "-- Looking for KenLM\n",
            "-- Using kenlm library found in /content/kenlm/build/lib/libkenlm.a\n",
            "-- Using kenlm utils library found in /content/kenlm/build/lib/libkenlm_util.a\n",
            "-- kenlm model.hh found in /content/kenlm/lm\n",
            "-- Found kenlm (include: /content, library: /content/kenlm/build/lib/libkenlm.a;/content/kenlm/build/lib/libkenlm_util.a;/usr/lib/x86_64-linux-gnu/liblzma.so;/usr/lib/x86_64-linux-gnu/libbz2.so;/usr/lib/x86_64-linux-gnu/libz.so)\n",
            "-- Configuring done\n",
            "-- Generating done\n",
            "-- Build files have been written to: /content/flashlight/bindings/python/build/temp.linux-x86_64-3.7\n",
            "[  1%] \u001b[34m\u001b[1mPerforming update step for 'pybind11'\u001b[0m\n",
            "[  3%] \u001b[34m\u001b[1mNo configure step for 'pybind11'\u001b[0m\n",
            "[ 74%] Built target fl-libraries\n",
            "[ 75%] \u001b[34m\u001b[1mNo build step for 'pybind11'\u001b[0m\n",
            "[ 77%] \u001b[34m\u001b[1mNo install step for 'pybind11'\u001b[0m\n",
            "[ 79%] \u001b[34m\u001b[1mCompleted 'pybind11'\u001b[0m\n",
            "[ 85%] Built target pybind11\n",
            "[ 88%] Built target flashlight_lib_text_dictionary\n",
            "[ 96%] Built target flashlight_lib_text_decoder\n",
            "[ 96%] Built target flashlight_lib_sequence_criterion\n",
            "[100%] Built target flashlight_lib_audio_feature\n",
            "-- -rdynamic supported.\n",
            "-- CUDA found (library: /usr/local/cuda/lib64/libcudart_static.a;-lpthread;dl;/usr/lib/x86_64-linux-gnu/librt.so include: /usr/local/cuda/include)\n",
            "-- CUDA architecture flags: -gencodearch=compute_35,code=sm_35-gencodearch=compute_50,code=sm_50-gencodearch=compute_52,code=sm_52-gencodearch=compute_60,code=sm_60-gencodearch=compute_61,code=sm_61-gencodearch=compute_70,code=sm_70-gencodearch=compute_75,code=sm_75-gencodearch=compute_80,code=sm_80\n",
            "-- Will build flashlight libraries.\n",
            "-- Checking for module 'cblas'\n",
            "--   No package 'cblas' found\n",
            "-- Checking for [Accelerate]\n",
            "-- Checking for [vecLib]\n",
            "-- Checking for [cblas - atlas]\n",
            "-- Includes found\n",
            "-- CBLAS Symbols FOUND\n",
            "-- CBLAS library found\n",
            "-- CBLAS found (include: /usr/include/x86_64-linux-gnu, library: /usr/lib/x86_64-linux-gnu/libcblas.so;/usr/lib/x86_64-linux-gnu/libatlas.so)\n",
            "-- Could NOT find FFTW3 (missing: FFTW3_DIR)\n",
            "-- FindFFTW using pkgconfig: FOUND=1 LIBRARIES=fftw3 LIBRARY_DIRS= LIBDIR=/usr/lib/x86_64-linux-gnu LINK_LIBRARIES=/usr/lib/x86_64-linux-gnu/libfftw3.so\n",
            "-- FindFTTW using pkgconfig: INCLUDE_DIRS= INCLUDEDIR=/usr/include\n",
            "-- FFTW found\n",
            "-- Looking for KenLM\n",
            "-- Using kenlm library found in /content/kenlm/build/lib/libkenlm.a\n",
            "-- Using kenlm utils library found in /content/kenlm/build/lib/libkenlm_util.a\n",
            "-- kenlm model.hh found in /content/kenlm/lm\n",
            "-- Found kenlm (include: /content, library: /content/kenlm/build/lib/libkenlm.a;/content/kenlm/build/lib/libkenlm_util.a;/usr/lib/x86_64-linux-gnu/liblzma.so;/usr/lib/x86_64-linux-gnu/libbz2.so;/usr/lib/x86_64-linux-gnu/libz.so)\n",
            "-- Configuring done\n",
            "-- Generating done\n",
            "-- Build files have been written to: /content/flashlight/bindings/python/build/temp.linux-x86_64-3.7\n",
            "[  1%] \u001b[34m\u001b[1mPerforming update step for 'pybind11'\u001b[0m\n",
            "[  3%] \u001b[34m\u001b[1mNo configure step for 'pybind11'\u001b[0m\n",
            "[ 74%] Built target fl-libraries\n",
            "[ 75%] \u001b[34m\u001b[1mNo build step for 'pybind11'\u001b[0m\n",
            "[ 77%] \u001b[34m\u001b[1mNo install step for 'pybind11'\u001b[0m\n",
            "[ 79%] \u001b[34m\u001b[1mCompleted 'pybind11'\u001b[0m\n",
            "[ 85%] Built target pybind11\n",
            "[ 88%] Built target flashlight_lib_text_dictionary\n",
            "[ 92%] Built target flashlight_lib_audio_feature\n",
            "[ 96%] Built target flashlight_lib_text_decoder\n",
            "[100%] Built target flashlight_lib_sequence_criterion\n",
            "creating build/bdist.linux-x86_64\n",
            "creating build/bdist.linux-x86_64/egg\n",
            "copying build/lib.linux-x86_64-3.7/libfl-libraries.so.0 -> build/bdist.linux-x86_64/egg\n",
            "copying build/lib.linux-x86_64-3.7/libfl-libraries.so.0.3 -> build/bdist.linux-x86_64/egg\n",
            "creating build/bdist.linux-x86_64/egg/flashlight\n",
            "creating build/bdist.linux-x86_64/egg/flashlight/lib\n",
            "creating build/bdist.linux-x86_64/egg/flashlight/lib/audio\n",
            "copying build/lib.linux-x86_64-3.7/flashlight/lib/audio/feature.py -> build/bdist.linux-x86_64/egg/flashlight/lib/audio\n",
            "copying build/lib.linux-x86_64-3.7/flashlight/lib/audio/flashlight_lib_audio_feature.cpython-37m-x86_64-linux-gnu.so -> build/bdist.linux-x86_64/egg/flashlight/lib/audio\n",
            "copying build/lib.linux-x86_64-3.7/flashlight/lib/__init__.py -> build/bdist.linux-x86_64/egg/flashlight/lib\n",
            "creating build/bdist.linux-x86_64/egg/flashlight/lib/sequence\n",
            "copying build/lib.linux-x86_64-3.7/flashlight/lib/sequence/flashlight_lib_sequence_criterion.cpython-37m-x86_64-linux-gnu.so -> build/bdist.linux-x86_64/egg/flashlight/lib/sequence\n",
            "copying build/lib.linux-x86_64-3.7/flashlight/lib/sequence/criterion.py -> build/bdist.linux-x86_64/egg/flashlight/lib/sequence\n",
            "copying build/lib.linux-x86_64-3.7/flashlight/lib/sequence/criterion_torch.py -> build/bdist.linux-x86_64/egg/flashlight/lib/sequence\n",
            "creating build/bdist.linux-x86_64/egg/flashlight/lib/text\n",
            "copying build/lib.linux-x86_64-3.7/flashlight/lib/text/dictionary.py -> build/bdist.linux-x86_64/egg/flashlight/lib/text\n",
            "copying build/lib.linux-x86_64-3.7/flashlight/lib/text/flashlight_lib_text_decoder.cpython-37m-x86_64-linux-gnu.so -> build/bdist.linux-x86_64/egg/flashlight/lib/text\n",
            "copying build/lib.linux-x86_64-3.7/flashlight/lib/text/flashlight_lib_text_dictionary.cpython-37m-x86_64-linux-gnu.so -> build/bdist.linux-x86_64/egg/flashlight/lib/text\n",
            "copying build/lib.linux-x86_64-3.7/flashlight/lib/text/decoder.py -> build/bdist.linux-x86_64/egg/flashlight/lib/text\n",
            "copying build/lib.linux-x86_64-3.7/libfl-libraries.so -> build/bdist.linux-x86_64/egg\n",
            "byte-compiling build/bdist.linux-x86_64/egg/flashlight/lib/audio/feature.py to feature.cpython-37.pyc\n",
            "byte-compiling build/bdist.linux-x86_64/egg/flashlight/lib/__init__.py to __init__.cpython-37.pyc\n",
            "byte-compiling build/bdist.linux-x86_64/egg/flashlight/lib/sequence/criterion.py to criterion.cpython-37.pyc\n",
            "byte-compiling build/bdist.linux-x86_64/egg/flashlight/lib/sequence/criterion_torch.py to criterion_torch.cpython-37.pyc\n",
            "byte-compiling build/bdist.linux-x86_64/egg/flashlight/lib/text/dictionary.py to dictionary.cpython-37.pyc\n",
            "byte-compiling build/bdist.linux-x86_64/egg/flashlight/lib/text/decoder.py to decoder.cpython-37.pyc\n",
            "creating build/bdist.linux-x86_64/egg/EGG-INFO\n",
            "copying flashlight.egg-info/PKG-INFO -> build/bdist.linux-x86_64/egg/EGG-INFO\n",
            "copying flashlight.egg-info/SOURCES.txt -> build/bdist.linux-x86_64/egg/EGG-INFO\n",
            "copying flashlight.egg-info/dependency_links.txt -> build/bdist.linux-x86_64/egg/EGG-INFO\n",
            "copying flashlight.egg-info/not-zip-safe -> build/bdist.linux-x86_64/egg/EGG-INFO\n",
            "copying flashlight.egg-info/top_level.txt -> build/bdist.linux-x86_64/egg/EGG-INFO\n",
            "writing build/bdist.linux-x86_64/egg/EGG-INFO/native_libs.txt\n",
            "creating dist\n",
            "creating 'dist/flashlight-1.0.0-py3.7-linux-x86_64.egg' and adding 'build/bdist.linux-x86_64/egg' to it\n",
            "removing 'build/bdist.linux-x86_64/egg' (and everything under it)\n",
            "Processing flashlight-1.0.0-py3.7-linux-x86_64.egg\n",
            "creating /usr/local/lib/python3.7/dist-packages/flashlight-1.0.0-py3.7-linux-x86_64.egg\n",
            "Extracting flashlight-1.0.0-py3.7-linux-x86_64.egg to /usr/local/lib/python3.7/dist-packages\n",
            "Adding flashlight 1.0.0 to easy-install.pth file\n",
            "\n",
            "Installed /usr/local/lib/python3.7/dist-packages/flashlight-1.0.0-py3.7-linux-x86_64.egg\n",
            "Processing dependencies for flashlight==1.0.0\n",
            "Finished processing dependencies for flashlight==1.0.0\n"
          ],
          "name": "stdout"
        }
      ]
    }
  ]
}