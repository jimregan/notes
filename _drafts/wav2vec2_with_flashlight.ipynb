{
 "cells": [
  {
   "cell_type": "code",
   "execution_count": null,
   "metadata": {
    "id": "218u5SLK5wVt"
   },
   "outputs": [],
   "source": [
    "%%capture\n",
    "!pip install transformers datasets"
   ]
  },
  {
   "cell_type": "code",
   "execution_count": null,
   "metadata": {
    "id": "l-BoJKuy50JQ"
   },
   "outputs": [],
   "source": [
    "import itertools as it\n",
    "import logging\n",
    "import math\n",
    "import re\n",
    "import sys\n",
    "import warnings\n",
    "from dataclasses import dataclass, field\n",
    "from typing import Optional\n",
    "\n",
    "import datasets\n",
    "import torch\n",
    "\n",
    "import soundfile as sf\n",
    "from transformers import HfArgumentParser, Wav2Vec2ForCTC, Wav2Vec2Processor"
   ]
  },
  {
   "cell_type": "code",
   "execution_count": null,
   "metadata": {
    "id": "OEwVvjVj5eVV"
   },
   "outputs": [],
   "source": [
    "kenlm_model_path = \"\" #@param {type:\"string\"}"
   ]
  },
  {
   "cell_type": "code",
   "execution_count": null,
   "metadata": {
    "id": "RNNTOIEL0KIN"
   },
   "outputs": [],
   "source": [
    "#@title Beam options\n",
    "beam_size = 200 #@param {type:\"integer\"}\n",
    "beam_threshold = 25.0 #@param {type:\"number\"}"
   ]
  },
  {
   "cell_type": "code",
   "execution_count": null,
   "metadata": {
    "id": "6hxvlFgX5Wei"
   },
   "outputs": [],
   "source": [
    "import math\n",
    "word_score = 1.0\n",
    "# weight of <unk>nown token\n",
    "unk_weight = -math.inf\n",
    "# weight of <sil>ence token\n",
    "sil_weight = 0.0"
   ]
  },
  {
   "cell_type": "code",
   "execution_count": null,
   "metadata": {
    "id": "eRPXTiLN1cx9"
   },
   "outputs": [],
   "source": []
  },
  {
   "cell_type": "markdown",
   "metadata": {
    "id": "aJUWc1JZ3ycE"
   },
   "source": [
    "# Set up kenlm"
   ]
  },
  {
   "cell_type": "code",
   "execution_count": null,
   "metadata": {
    "colab": {
     "base_uri": "https://localhost:8080/"
    },
    "id": "ITH3MTXQ33gt",
    "outputId": "3e84737e-2712-4a38-e86c-f9e535346579"
   },
   "outputs": [
    {
     "name": "stdout",
     "output_type": "stream",
     "text": [
      "/content\n"
     ]
    }
   ],
   "source": [
    "%cd /content"
   ]
  },
  {
   "cell_type": "code",
   "execution_count": null,
   "metadata": {
    "id": "BwUcTOjRbvoM"
   },
   "outputs": [],
   "source": [
    "!git clone https://github.com/kpu/kenlm"
   ]
  },
  {
   "cell_type": "code",
   "execution_count": null,
   "metadata": {
    "id": "xfsJ-BmLbvoM"
   },
   "outputs": [],
   "source": [
    "%%capture\n",
    "!apt-get -y install libeigen3-dev liblzma-dev zlib1g-dev libbz2-dev"
   ]
  },
  {
   "cell_type": "code",
   "execution_count": null,
   "metadata": {
    "id": "wHa6DxGWtEE5"
   },
   "outputs": [],
   "source": [
    "%%capture\n",
    "%cd /content/kenlm\n",
    "!mkdir build\n",
    "%cd build\n",
    "!cmake ..\n",
    "!make -j 4"
   ]
  },
  {
   "cell_type": "code",
   "execution_count": null,
   "metadata": {
    "id": "9w7eg96HbvoO"
   },
   "outputs": [],
   "source": [
    "%%capture\n",
    "%cd /content/kenlm\n",
    "!python setup.py install\n",
    "%cd /tmp"
   ]
  },
  {
   "cell_type": "code",
   "execution_count": null,
   "metadata": {
    "id": "m734pIlgbvoO"
   },
   "outputs": [],
   "source": [
    "import os\n",
    "os.environ['PATH'] = f\"{os.environ['PATH']}:/content/kenlm/build/bin/\""
   ]
  },
  {
   "cell_type": "markdown",
   "metadata": {
    "id": "M9H86_Fj4Qky"
   },
   "source": [
    "# Set up flashlight python bindings"
   ]
  },
  {
   "cell_type": "code",
   "execution_count": null,
   "metadata": {
    "colab": {
     "base_uri": "https://localhost:8080/"
    },
    "id": "2k26uw8gqGmw",
    "outputId": "a3256178-2d12-46a0-c27a-5c9f78453d56"
   },
   "outputs": [
    {
     "name": "stdout",
     "output_type": "stream",
     "text": [
      "/content\n"
     ]
    }
   ],
   "source": [
    "%cd /content"
   ]
  },
  {
   "cell_type": "code",
   "execution_count": null,
   "metadata": {
    "colab": {
     "base_uri": "https://localhost:8080/"
    },
    "id": "vOwuJp1oqIMx",
    "outputId": "8d6ee4b4-3a2b-45dc-a8d0-4555947c1c32"
   },
   "outputs": [
    {
     "name": "stdout",
     "output_type": "stream",
     "text": [
      "Cloning into 'flashlight'...\n",
      "remote: Enumerating objects: 17649, done.\u001b[K\n",
      "remote: Counting objects: 100% (1523/1523), done.\u001b[K\n",
      "remote: Compressing objects: 100% (714/714), done.\u001b[K\n",
      "remote: Total 17649 (delta 827), reused 1332 (delta 765), pack-reused 16126\u001b[K\n",
      "Receiving objects: 100% (17649/17649), 14.23 MiB | 27.81 MiB/s, done.\n",
      "Resolving deltas: 100% (12298/12298), done.\n"
     ]
    }
   ],
   "source": [
    "!git clone https://github.com/flashlight/flashlight"
   ]
  },
  {
   "cell_type": "code",
   "execution_count": null,
   "metadata": {
    "id": "HQji7SD4qR2O"
   },
   "outputs": [],
   "source": [
    "%%capture\n",
    "!apt install -q libfftw3-dev"
   ]
  },
  {
   "cell_type": "code",
   "execution_count": null,
   "metadata": {
    "id": "iqeuqKQ4qr-W"
   },
   "outputs": [],
   "source": [
    "%%capture\n",
    "!pip install packaging"
   ]
  },
  {
   "cell_type": "code",
   "execution_count": null,
   "metadata": {
    "colab": {
     "base_uri": "https://localhost:8080/"
    },
    "id": "yI04_0fMqeKr",
    "outputId": "6c2e19b6-93ed-4976-cbaf-60eef07344ca"
   },
   "outputs": [
    {
     "name": "stdout",
     "output_type": "stream",
     "text": [
      "/content/flashlight/bindings/python\n"
     ]
    }
   ],
   "source": [
    "%cd flashlight/bindings/python"
   ]
  },
  {
   "cell_type": "code",
   "execution_count": null,
   "metadata": {
    "id": "CpO8lOT2qnSz"
   },
   "outputs": [],
   "source": [
    "%env USE_MKL=0\n",
    "%env KENLM_ROOT=/content/kenlm\n",
    "!python setup.py install"
   ]
  }
 ],
 "metadata": {
  "accelerator": "GPU",
  "colab": {
   "name": "wav2vec2_with_flashlight.ipynb",
   "provenance": []
  },
  "kernelspec": {
   "display_name": "Python 3",
   "language": "python",
   "name": "python3"
  },
  "language_info": {
   "codemirror_mode": {
    "name": "ipython",
    "version": 3
   },
   "file_extension": ".py",
   "mimetype": "text/x-python",
   "name": "python",
   "nbconvert_exporter": "python",
   "pygments_lexer": "ipython3",
   "version": "3.8.2"
  }
 },
 "nbformat": 4,
 "nbformat_minor": 1
}
