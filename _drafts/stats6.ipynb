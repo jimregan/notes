{
 "cells": [
  {
   "attachments": {},
   "cell_type": "markdown",
   "metadata": {},
   "source": [
    "- Exercises: Have to give the assumptions behind the test\n",
    "- Have to state the hypotheses\n",
    "- Always state H0, H1 is untested"
   ]
  },
  {
   "attachments": {},
   "cell_type": "markdown",
   "metadata": {},
   "source": [
    "Non Parametric Tests\n",
    "- Low Scale\n",
    "- Not Normal\n",
    "\n",
    "Based On\n",
    "\n",
    "- Class\n",
    "- Ranking\n",
    "\n",
    "Median Rank Sums"
   ]
  },
  {
   "attachments": {},
   "cell_type": "markdown",
   "metadata": {},
   "source": [
    "The Sign Test\n",
    "\n",
    "Wilcoxon Signed Rank Test\n",
    "\n",
    "The Wilcoxon Mann Whitney U-Test\n",
    "\n",
    "The Kruskal Wallis H-Test"
   ]
  },
  {
   "attachments": {},
   "cell_type": "markdown",
   "metadata": {},
   "source": [
    "The Sign Test\n",
    "\n",
    "Test of Median in one group (population)\n",
    "\n",
    "Test of difference between two *dependent* groups"
   ]
  },
  {
   "attachments": {},
   "cell_type": "markdown",
   "metadata": {},
   "source": [
    "The Sign Test\n",
    "\n",
    "Based on the Median\n",
    "\n",
    "$P(-) = 0.5$\n",
    "\n",
    "$P(+) = 0.5$"
   ]
  },
  {
   "attachments": {},
   "cell_type": "markdown",
   "metadata": {},
   "source": [
    "$H_0 : Md$ = \"value\"\n",
    "\n",
    "$\\alpha : 0.05$\n",
    "\n",
    "Calculate:\n",
    "\n",
    "- The number of +\n",
    "- The number of -\n",
    "- The number of 0\n",
    "\n",
    "Take away the 0s\n",
    "\n",
    "Use Table A6"
   ]
  },
  {
   "cell_type": "markdown",
   "metadata": {},
   "source": []
  }
 ],
 "metadata": {
  "language_info": {
   "name": "python"
  },
  "orig_nbformat": 4
 },
 "nbformat": 4,
 "nbformat_minor": 2
}
