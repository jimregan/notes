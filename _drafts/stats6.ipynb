{
 "cells": [
  {
   "attachments": {},
   "cell_type": "markdown",
   "metadata": {},
   "source": [
    "- Exercises: Have to give the assumptions behind the test\n",
    "- Have to state the hypotheses\n",
    "- Always state H0, H1 is untested"
   ]
  },
  {
   "attachments": {},
   "cell_type": "markdown",
   "metadata": {},
   "source": [
    "Non Parametric Tests\n",
    "- Low Scale\n",
    "- Not Normal\n",
    "\n",
    "Based On\n",
    "\n",
    "- Class\n",
    "- Ranking\n",
    "\n",
    "Median Rank Sums"
   ]
  },
  {
   "cell_type": "markdown",
   "metadata": {},
   "source": []
  }
 ],
 "metadata": {
  "language_info": {
   "name": "python"
  },
  "orig_nbformat": 4
 },
 "nbformat": 4,
 "nbformat_minor": 2
}
