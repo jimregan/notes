{
 "cells": [
  {
   "cell_type": "code",
   "execution_count": 1,
   "metadata": {},
   "outputs": [],
   "source": [
    "import json\n",
    "from pathlib import Path\n",
    "from whoosh import index"
   ]
  },
  {
   "cell_type": "code",
   "execution_count": 46,
   "metadata": {},
   "outputs": [],
   "source": [
    "from bs4 import BeautifulSoup"
   ]
  },
  {
   "cell_type": "code",
   "execution_count": 2,
   "metadata": {},
   "outputs": [],
   "source": [
    "sample = \"/sbtal/riksdag-video/api_output/H9C120211014fs\""
   ]
  },
  {
   "cell_type": "code",
   "execution_count": 17,
   "metadata": {},
   "outputs": [],
   "source": [
    "from whoosh.fields import Schema, TEXT, KEYWORD, ID, STORED, NUMERIC\n",
    "\n",
    "schema = Schema(videostatus=NUMERIC(stored=True),\n",
    "                committee=ID(stored=True),\n",
    "                type=ID(stored=True),\n",
    "                debatepreamble=ID(stored=True),\n",
    "                debatetexthtml=ID(stored=True),\n",
    "                livestreamurl=ID(stored=True),\n",
    "                activelivespeaker=ID(stored=True),\n",
    "                id=ID(stored=True),\n",
    "                dokid=ID(stored=True),\n",
    "                title=ID(stored=True),\n",
    "                debatename=ID(stored=True),\n",
    "                debatedate=ID(stored=True),\n",
    "                debatetype=ID(stored=True),\n",
    "                debateurl=ID(stored=True),\n",
    "                fromchamber=ID(stored=True),\n",
    "                thumbnailurl=ID(stored=True),\n",
    "                debateseconds=NUMERIC(stored=True),\n",
    "                streamurl=ID(stored=True),\n",
    "                start=NUMERIC(stored=True),\n",
    "                duration=NUMERIC(stored=True),\n",
    "                speaker=ID(stored=True),\n",
    "                party=ID(stored=True),\n",
    "                subid=ID(stored=True),\n",
    "                active=ID(stored=True),\n",
    "                number=NUMERIC(stored=True),\n",
    "                paragraph=NUMERIC(stored=True),\n",
    "                text=TEXT(stored=True))"
   ]
  },
  {
   "cell_type": "code",
   "execution_count": 54,
   "metadata": {},
   "outputs": [],
   "source": [
    "BASE_KEYS = ['videostatus', 'committee', 'type', 'debatepreamble', 'debatetexthtml', 'livestreamurl', 'activelivespeaker', 'id', 'dokid', 'title', 'debatename', 'debatedate', 'debatetype', 'debateurl', 'fromchamber', 'thumbnailurl', 'debateseconds']\n",
    "def read_api_json(filename):\n",
    "    infile = str(filename)\n",
    "    with open(infile) as input:\n",
    "        data = json.load(input)\n",
    "    assert \"videodata\" in data\n",
    "\n",
    "    if len(data[\"videodata\"]) > 1:\n",
    "        print(f\"More than one 'videodata' in {infile}\")\n",
    "\n",
    "    base = {}\n",
    "    for key in BASE_KEYS:\n",
    "        base[key] = data[\"videodata\"][0][key]\n",
    "\n",
    "    assert \"streams\" in data[\"videodata\"][0]\n",
    "    assert \"files\" in data[\"videodata\"][0][\"streams\"]\n",
    "    if len(data[\"videodata\"][0][\"streams\"][\"files\"]) > 1:\n",
    "        print(f\"More than one stream: {infile}\")\n",
    "    assert \"url\" in data[\"videodata\"][0][\"streams\"][\"files\"][0]\n",
    "    base[\"streamurl\"] = data[\"videodata\"][0][\"streams\"][\"files\"][0][\"url\"]\n",
    "\n",
    "    assert \"speakers\" in data[\"videodata\"][0]\n",
    "    speakers = []\n",
    "    for speaker in data[\"videodata\"][0][\"speakers\"]:\n",
    "        cur = {}\n",
    "        for key in [\"start\", \"duration\", \"party\", \"subid\", \"active\", \"number\"]:\n",
    "            cur[key] = speaker[key]\n",
    "        cur[\"speaker\"] = speaker[\"text\"]\n",
    "        ending = f\" ({cur['party']})\"\n",
    "        if cur[\"speaker\"].endswith(ending):\n",
    "            cur[\"speaker\"] = cur[\"speaker\"][:-len(ending)]\n",
    "        html = speaker[\"anftext\"]\n",
    "        soup = BeautifulSoup(html, 'html.parser')\n",
    "        for para in soup.find_all(\"p\"):\n",
    "            pg = cur\n",
    "            pg[\"text\"] = para.text\n",
    "            speakers.append(pg)\n",
    "    return base, speakers"
   ]
  },
  {
   "cell_type": "code",
   "execution_count": 55,
   "metadata": {},
   "outputs": [],
   "source": [
    "a, b = read_api_json(sample)"
   ]
  },
  {
   "cell_type": "code",
   "execution_count": 50,
   "metadata": {},
   "outputs": [],
   "source": [
    "\n",
    "soup = BeautifulSoup(b[0][\"text\"], 'html.parser')"
   ]
  },
  {
   "cell_type": "code",
   "execution_count": 53,
   "metadata": {},
   "outputs": [
    {
     "name": "stdout",
     "output_type": "stream",
     "text": [
      "Fru talman! Europa svettas nu på grund av höga elpriser. Det handlar om saker som utsläppsrätter och kol men också om hemmasnickrade problem som i Sverige, med förtida stängd kärnkraft. Det pågår också en strid i Europa och Sverige om kärnkraftens framtid. Tyskland har ju till exempel valt att avveckla och sitter nu i knät på Putin för gasen.\n",
      "Det diskuteras om kärnkraften ska ses som hållbar eller fasas ut. Tio länder i Europa har gått samman för att värna den svenska och europeiska kärnkraften. Möjligheten lades i regeringens knä, men Sverige skrev inte på ett omhuldat kärnkraftsbrev och tog strid utan valde i stället en avvecklingslinje.\n",
      "Min fråga, fru talman, är: Varför har Socialdemokraterna och Miljöpartiet valt att inte stå upp för den svenska kärnkraften i EU nu under hösten?\n"
     ]
    }
   ],
   "source": [
    "for para in soup.find_all(\"p\"):\n",
    "    print(para.text)"
   ]
  },
  {
   "cell_type": "code",
   "execution_count": 18,
   "metadata": {},
   "outputs": [],
   "source": [
    "import os, os.path\n",
    "\n",
    "if not os.path.exists(\"indexdir\"):\n",
    "    os.mkdir(\"indexdir\")\n",
    "\n",
    "ix = index.create_in(\"indexdir\", schema)"
   ]
  },
  {
   "cell_type": "code",
   "execution_count": null,
   "metadata": {},
   "outputs": [],
   "source": [
    "API_OUTPUT = Path(\"/sbtal/riksdag-video/api_output/\")\n",
    "for file in API_OUTPUT.glob(\"*\"):\n",
    "    print(str(file))"
   ]
  }
 ],
 "metadata": {
  "kernelspec": {
   "display_name": "hf",
   "language": "python",
   "name": "python3"
  },
  "language_info": {
   "codemirror_mode": {
    "name": "ipython",
    "version": 3
   },
   "file_extension": ".py",
   "mimetype": "text/x-python",
   "name": "python",
   "nbconvert_exporter": "python",
   "pygments_lexer": "ipython3",
   "version": "3.10.6"
  },
  "orig_nbformat": 4,
  "vscode": {
   "interpreter": {
    "hash": "323572f3d7d63e949a9798ea1062be3bd23d8f1ad1664ecc50859e690c42d8f5"
   }
  }
 },
 "nbformat": 4,
 "nbformat_minor": 2
}
