{
 "cells": [
  {
   "cell_type": "code",
   "execution_count": 1,
   "metadata": {},
   "outputs": [],
   "source": [
    "import json\n",
    "from pathlib import Path\n",
    "from whoosh import index"
   ]
  },
  {
   "cell_type": "code",
   "execution_count": 46,
   "metadata": {},
   "outputs": [],
   "source": [
    "from bs4 import BeautifulSoup"
   ]
  },
  {
   "cell_type": "code",
   "execution_count": 2,
   "metadata": {},
   "outputs": [],
   "source": [
    "sample = \"/sbtal/riksdag-video/api_output/H9C120211014fs\""
   ]
  },
  {
   "cell_type": "code",
   "execution_count": 17,
   "metadata": {},
   "outputs": [],
   "source": [
    "from whoosh.fields import Schema, TEXT, KEYWORD, ID, STORED, NUMERIC\n",
    "\n",
    "schema = Schema(videostatus=NUMERIC(stored=True),\n",
    "                committee=ID(stored=True),\n",
    "                type=ID(stored=True),\n",
    "                debatepreamble=ID(stored=True),\n",
    "                debatetexthtml=ID(stored=True),\n",
    "                livestreamurl=ID(stored=True),\n",
    "                activelivespeaker=ID(stored=True),\n",
    "                id=ID(stored=True),\n",
    "                dokid=ID(stored=True),\n",
    "                title=ID(stored=True),\n",
    "                debatename=ID(stored=True),\n",
    "                debatedate=ID(stored=True),\n",
    "                debatetype=ID(stored=True),\n",
    "                debateurl=ID(stored=True),\n",
    "                fromchamber=ID(stored=True),\n",
    "                thumbnailurl=ID(stored=True),\n",
    "                debateseconds=NUMERIC(stored=True),\n",
    "                streamurl=ID(stored=True),\n",
    "                start=NUMERIC(stored=True),\n",
    "                duration=NUMERIC(stored=True),\n",
    "                speaker=ID(stored=True),\n",
    "                party=ID(stored=True),\n",
    "                subid=ID(stored=True),\n",
    "                active=ID(stored=True),\n",
    "                number=NUMERIC(stored=True),\n",
    "                paragraph=NUMERIC(stored=True),\n",
    "                text=TEXT(stored=True))"
   ]
  },
  {
   "cell_type": "code",
   "execution_count": 87,
   "metadata": {},
   "outputs": [],
   "source": [
    "BASE_KEYS = ['videostatus', 'committee', 'type', 'debatepreamble', 'debatetexthtml', 'livestreamurl', 'activelivespeaker', 'id', 'dokid', 'title', 'debatename', 'debatedate', 'debatetype', 'debateurl', 'fromchamber', 'thumbnailurl', 'debateseconds']\n",
    "def read_api_json(filename):\n",
    "    infile = str(filename)\n",
    "    with open(infile) as input:\n",
    "        data = json.load(input)\n",
    "    assert \"videodata\" in data\n",
    "\n",
    "    if len(data[\"videodata\"]) > 1:\n",
    "        print(f\"More than one 'videodata' in {infile}\")\n",
    "\n",
    "    base = {}\n",
    "    for key in BASE_KEYS:\n",
    "        base[key] = data[\"videodata\"][0][key]\n",
    "\n",
    "    if not \"streams\" in data[\"videodata\"][0] or data[\"videodata\"][0][\"streams\"] is None:\n",
    "        print(f\"No 'streams' key found in {filename}\")\n",
    "        return None, None\n",
    "    assert \"streams\" in data[\"videodata\"][0]\n",
    "    if not \"files\" in data[\"videodata\"][0][\"streams\"] or data[\"videodata\"][0][\"streams\"][\"files\"] is None:\n",
    "        print(f\"No 'files' key found in {filename}\")\n",
    "    assert \"files\" in data[\"videodata\"][0][\"streams\"]\n",
    "    if len(data[\"videodata\"][0][\"streams\"][\"files\"]) > 1:\n",
    "        print(f\"More than one stream: {infile}\")\n",
    "    assert \"url\" in data[\"videodata\"][0][\"streams\"][\"files\"][0]\n",
    "    base[\"streamurl\"] = data[\"videodata\"][0][\"streams\"][\"files\"][0][\"url\"]\n",
    "\n",
    "\n",
    "    if not \"speakers\" in data[\"videodata\"][0] or data[\"videodata\"][0][\"speakers\"] is None:\n",
    "        print(f\"No 'speakers' key found in {filename}\")\n",
    "        return None, None\n",
    "    speakers = []\n",
    "    for speaker in data[\"videodata\"][0][\"speakers\"]:\n",
    "        cur = {}\n",
    "        for key in [\"start\", \"duration\", \"party\", \"subid\", \"active\", \"number\"]:\n",
    "            cur[key] = speaker[key]\n",
    "        cur[\"speaker\"] = speaker[\"text\"]\n",
    "        ending = f\" ({cur['party']})\"\n",
    "        if cur[\"speaker\"].endswith(ending):\n",
    "            cur[\"speaker\"] = cur[\"speaker\"][:-len(ending)]\n",
    "        html = speaker[\"anftext\"]\n",
    "        soup = BeautifulSoup(html, 'html.parser')\n",
    "        for para in soup.find_all(\"p\"):\n",
    "            pg = cur\n",
    "            pg[\"text\"] = para.text\n",
    "            speakers.append(pg)\n",
    "    return base, speakers"
   ]
  },
  {
   "cell_type": "code",
   "execution_count": 78,
   "metadata": {},
   "outputs": [
    {
     "name": "stdout",
     "output_type": "stream",
     "text": [
      "No 'streams' key found in /sbtal/riksdag-video/api_output/GPC320160906CK1\n"
     ]
    },
    {
     "data": {
      "text/plain": [
       "(None, None)"
      ]
     },
     "execution_count": 78,
     "metadata": {},
     "output_type": "execute_result"
    }
   ],
   "source": [
    "read_api_json(\"/sbtal/riksdag-video/api_output/GPC320160906CK1\")"
   ]
  },
  {
   "cell_type": "code",
   "execution_count": 88,
   "metadata": {},
   "outputs": [],
   "source": [
    "import os, os.path\n",
    "\n",
    "if not os.path.exists(\"indexdir\"):\n",
    "    os.mkdir(\"indexdir\")\n",
    "\n",
    "ix = index.create_in(\"indexdir\", schema)"
   ]
  },
  {
   "cell_type": "code",
   "execution_count": 89,
   "metadata": {},
   "outputs": [
    {
     "name": "stdout",
     "output_type": "stream",
     "text": [
      "No 'streams' key found in /sbtal/riksdag-video/api_output/GPC320160906CK1\n",
      "No 'speakers' key found in /sbtal/riksdag-video/api_output/H001CU18\n"
     ]
    },
    {
     "ename": "KeyError",
     "evalue": "'speakers'",
     "output_type": "error",
     "traceback": [
      "\u001b[0;31m---------------------------------------------------------------------------\u001b[0m",
      "\u001b[0;31mKeyError\u001b[0m                                  Traceback (most recent call last)",
      "\u001b[1;32m/home/joregan/whoosh-index.ipynb Cell 8\u001b[0m in \u001b[0;36m<cell line: 4>\u001b[0;34m()\u001b[0m\n\u001b[1;32m      <a href='vscode-notebook-cell://ssh-remote%2Bsbtaldeep22/home/joregan/whoosh-index.ipynb#X21sdnNjb2RlLXJlbW90ZQ%3D%3D?line=1'>2</a>\u001b[0m writer \u001b[39m=\u001b[39m ix\u001b[39m.\u001b[39mwriter()\n\u001b[1;32m      <a href='vscode-notebook-cell://ssh-remote%2Bsbtaldeep22/home/joregan/whoosh-index.ipynb#X21sdnNjb2RlLXJlbW90ZQ%3D%3D?line=3'>4</a>\u001b[0m \u001b[39mfor\u001b[39;00m file \u001b[39min\u001b[39;00m API_OUTPUT\u001b[39m.\u001b[39mglob(\u001b[39m\"\u001b[39m\u001b[39m*\u001b[39m\u001b[39m\"\u001b[39m):\n\u001b[0;32m----> <a href='vscode-notebook-cell://ssh-remote%2Bsbtaldeep22/home/joregan/whoosh-index.ipynb#X21sdnNjb2RlLXJlbW90ZQ%3D%3D?line=4'>5</a>\u001b[0m     doc, speakers \u001b[39m=\u001b[39m read_api_json(file)\n\u001b[1;32m      <a href='vscode-notebook-cell://ssh-remote%2Bsbtaldeep22/home/joregan/whoosh-index.ipynb#X21sdnNjb2RlLXJlbW90ZQ%3D%3D?line=5'>6</a>\u001b[0m     \u001b[39mif\u001b[39;00m doc \u001b[39mis\u001b[39;00m \u001b[39mNone\u001b[39;00m \u001b[39mor\u001b[39;00m speakers \u001b[39mis\u001b[39;00m \u001b[39mNone\u001b[39;00m:\n\u001b[1;32m      <a href='vscode-notebook-cell://ssh-remote%2Bsbtaldeep22/home/joregan/whoosh-index.ipynb#X21sdnNjb2RlLXJlbW90ZQ%3D%3D?line=6'>7</a>\u001b[0m         \u001b[39mcontinue\u001b[39;00m\n",
      "\u001b[1;32m/home/joregan/whoosh-index.ipynb Cell 8\u001b[0m in \u001b[0;36mread_api_json\u001b[0;34m(filename)\u001b[0m\n\u001b[1;32m     <a href='vscode-notebook-cell://ssh-remote%2Bsbtaldeep22/home/joregan/whoosh-index.ipynb#X21sdnNjb2RlLXJlbW90ZQ%3D%3D?line=28'>29</a>\u001b[0m     \u001b[39mprint\u001b[39m(\u001b[39mf\u001b[39m\u001b[39m\"\u001b[39m\u001b[39mNo \u001b[39m\u001b[39m'\u001b[39m\u001b[39mspeakers\u001b[39m\u001b[39m'\u001b[39m\u001b[39m key found in \u001b[39m\u001b[39m{\u001b[39;00mfilename\u001b[39m}\u001b[39;00m\u001b[39m\"\u001b[39m)\n\u001b[1;32m     <a href='vscode-notebook-cell://ssh-remote%2Bsbtaldeep22/home/joregan/whoosh-index.ipynb#X21sdnNjb2RlLXJlbW90ZQ%3D%3D?line=29'>30</a>\u001b[0m speakers \u001b[39m=\u001b[39m []\n\u001b[0;32m---> <a href='vscode-notebook-cell://ssh-remote%2Bsbtaldeep22/home/joregan/whoosh-index.ipynb#X21sdnNjb2RlLXJlbW90ZQ%3D%3D?line=30'>31</a>\u001b[0m \u001b[39mfor\u001b[39;00m speaker \u001b[39min\u001b[39;00m data[\u001b[39m\"\u001b[39;49m\u001b[39mvideodata\u001b[39;49m\u001b[39m\"\u001b[39;49m][\u001b[39m0\u001b[39;49m][\u001b[39m\"\u001b[39;49m\u001b[39mspeakers\u001b[39;49m\u001b[39m\"\u001b[39;49m]:\n\u001b[1;32m     <a href='vscode-notebook-cell://ssh-remote%2Bsbtaldeep22/home/joregan/whoosh-index.ipynb#X21sdnNjb2RlLXJlbW90ZQ%3D%3D?line=31'>32</a>\u001b[0m     cur \u001b[39m=\u001b[39m {}\n\u001b[1;32m     <a href='vscode-notebook-cell://ssh-remote%2Bsbtaldeep22/home/joregan/whoosh-index.ipynb#X21sdnNjb2RlLXJlbW90ZQ%3D%3D?line=32'>33</a>\u001b[0m     \u001b[39mfor\u001b[39;00m key \u001b[39min\u001b[39;00m [\u001b[39m\"\u001b[39m\u001b[39mstart\u001b[39m\u001b[39m\"\u001b[39m, \u001b[39m\"\u001b[39m\u001b[39mduration\u001b[39m\u001b[39m\"\u001b[39m, \u001b[39m\"\u001b[39m\u001b[39mparty\u001b[39m\u001b[39m\"\u001b[39m, \u001b[39m\"\u001b[39m\u001b[39msubid\u001b[39m\u001b[39m\"\u001b[39m, \u001b[39m\"\u001b[39m\u001b[39mactive\u001b[39m\u001b[39m\"\u001b[39m, \u001b[39m\"\u001b[39m\u001b[39mnumber\u001b[39m\u001b[39m\"\u001b[39m]:\n",
      "\u001b[0;31mKeyError\u001b[0m: 'speakers'"
     ]
    }
   ],
   "source": [
    "API_OUTPUT = Path(\"/sbtal/riksdag-video/api_output/\")\n",
    "writer = ix.writer()\n",
    "\n",
    "for file in API_OUTPUT.glob(\"*\"):\n",
    "    doc, speakers = read_api_json(file)\n",
    "    if doc is None or speakers is None:\n",
    "        continue\n",
    "    for speaker in speakers:\n",
    "        writer.add_document(\n",
    "            videostatus=doc[\"videostatus\"],\n",
    "            committee=doc[\"committee\"],\n",
    "            type=doc[\"type\"],\n",
    "            debatepreamble=doc[\"debatepreamble\"],\n",
    "            debatetexthtml=doc[\"debatetexthtml\"],\n",
    "            livestreamurl=doc[\"livestreamurl\"],\n",
    "            activelivespeaker=doc[\"activelivespeaker\"],\n",
    "            id=doc[\"id\"],\n",
    "            dokid=doc[\"dokid\"],\n",
    "            title=doc[\"title\"],\n",
    "            debatename=doc[\"debatename\"],\n",
    "            debatedate=doc[\"debatedate\"],\n",
    "            debatetype=doc[\"debatetype\"],\n",
    "            debateurl=doc[\"debateurl\"],\n",
    "            fromchamber=doc[\"fromchamber\"],\n",
    "            thumbnailurl=doc[\"thumbnailurl\"],\n",
    "            debateseconds=doc[\"debateseconds\"],\n",
    "            streamurl=doc[\"streamurl\"],\n",
    "            start=speaker[\"start\"],\n",
    "            duration=speaker[\"duration\"],\n",
    "            speaker=speaker[\"speaker\"],\n",
    "            party=speaker[\"party\"],\n",
    "            subid=speaker[\"subid\"],\n",
    "            active=speaker[\"active\"],\n",
    "            number=speaker[\"number\"],\n",
    "            paragraph=speaker[\"paragraph\"],\n",
    "            text=speaker[\"text\"]\n",
    "        )\n",
    "writer.commit()"
   ]
  }
 ],
 "metadata": {
  "kernelspec": {
   "display_name": "hf",
   "language": "python",
   "name": "python3"
  },
  "language_info": {
   "codemirror_mode": {
    "name": "ipython",
    "version": 3
   },
   "file_extension": ".py",
   "mimetype": "text/x-python",
   "name": "python",
   "nbconvert_exporter": "python",
   "pygments_lexer": "ipython3",
   "version": "3.10.6"
  },
  "orig_nbformat": 4,
  "vscode": {
   "interpreter": {
    "hash": "323572f3d7d63e949a9798ea1062be3bd23d8f1ad1664ecc50859e690c42d8f5"
   }
  }
 },
 "nbformat": 4,
 "nbformat_minor": 2
}
