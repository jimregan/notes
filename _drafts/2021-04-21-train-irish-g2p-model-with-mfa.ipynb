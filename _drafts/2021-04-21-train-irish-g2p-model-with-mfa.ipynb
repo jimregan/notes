{
 "cells": [
  {
   "cell_type": "markdown",
   "id": "53f68d55",
   "metadata": {},
   "source": [
    "# Training MFA G2P on fuaimeanna.ie\n",
    "\n",
    "> \"Training Monreal Forced Aligner G2P using fuaimeanna.ie data on Kaggle\"\n",
    "\n",
    "- toc: false\n",
    "- branch: master\n",
    "- badges: false\n",
    "- comments: true\n",
    "- hidden: true\n",
    "- categories: [kaggle, mfa, fuaimeanna]"
   ]
  },
  {
   "cell_type": "markdown",
   "id": "9e0ebcc3",
   "metadata": {},
   "source": [
    "Original on [Kaggle](https://www.kaggle.com/jimregan/train-irish-g2p-model-with-mfa)"
   ]
  },
  {
   "cell_type": "code",
   "execution_count": 1,
   "id": "enclosed-appendix",
   "metadata": {
    "_cell_guid": "b1076dfc-b9ad-4769-8c92-a6c4dae69d19",
    "_uuid": "8f2839f25d086af736a60e9eeb907d3b93b6e0e5",
    "execution": {
     "iopub.execute_input": "2021-04-21T22:42:12.276733Z",
     "iopub.status.busy": "2021-04-21T22:42:12.276034Z",
     "iopub.status.idle": "2021-04-21T22:42:25.567982Z",
     "shell.execute_reply": "2021-04-21T22:42:25.568558Z"
    },
    "papermill": {
     "duration": 13.31182,
     "end_time": "2021-04-21T22:42:25.568838",
     "exception": false,
     "start_time": "2021-04-21T22:42:12.257018",
     "status": "completed"
    },
    "tags": []
   },
   "outputs": [],
   "source": [
    "%%capture\n",
    "import os\n",
    "os.chdir('/tmp')\n",
    "!wget https://github.com/MontrealCorpusTools/Montreal-Forced-Aligner/releases/download/v1.0.1/montreal-forced-aligner_linux.tar.gz\n",
    "!tar zxvf montreal-forced-aligner_linux.tar.gz\n",
    "!ln -s /tmp/montreal-forced-aligner/lib/libpython3.6m.so.1.0 /tmp/montreal-forced-aligner/lib/libpython3.6m.so"
   ]
  },
  {
   "cell_type": "code",
   "execution_count": 2,
   "id": "accessible-catch",
   "metadata": {
    "execution": {
     "iopub.execute_input": "2021-04-21T22:42:25.583626Z",
     "iopub.status.busy": "2021-04-21T22:42:25.582920Z",
     "iopub.status.idle": "2021-04-21T22:42:25.589897Z",
     "shell.execute_reply": "2021-04-21T22:42:25.589218Z"
    },
    "papermill": {
     "duration": 0.01552,
     "end_time": "2021-04-21T22:42:25.590050",
     "exception": false,
     "start_time": "2021-04-21T22:42:25.574530",
     "status": "completed"
    },
    "tags": []
   },
   "outputs": [],
   "source": [
    "os.chdir('/kaggle/working')\n",
    "os.environ['LD_LIBRARY_PATH'] = f'{os.environ[\"LD_LIBRARY_PATH\"]}:/tmp/montreal-forced-aligner/lib/'"
   ]
  },
  {
   "cell_type": "code",
   "execution_count": 3,
   "id": "capable-authority",
   "metadata": {
    "execution": {
     "iopub.execute_input": "2021-04-21T22:42:25.606708Z",
     "iopub.status.busy": "2021-04-21T22:42:25.605896Z",
     "iopub.status.idle": "2021-04-21T22:42:25.609535Z",
     "shell.execute_reply": "2021-04-21T22:42:25.608847Z"
    },
    "papermill": {
     "duration": 0.014252,
     "end_time": "2021-04-21T22:42:25.609698",
     "exception": false,
     "start_time": "2021-04-21T22:42:25.595446",
     "status": "completed"
    },
    "tags": []
   },
   "outputs": [],
   "source": [
    "os.environ['PATH'] = f'{os.environ[\"PATH\"]}:/tmp/montreal-forced-aligner/bin/'"
   ]
  },
  {
   "cell_type": "code",
   "execution_count": 4,
   "id": "committed-morocco",
   "metadata": {
    "execution": {
     "iopub.execute_input": "2021-04-21T22:42:25.628715Z",
     "iopub.status.busy": "2021-04-21T22:42:25.627914Z",
     "iopub.status.idle": "2021-04-21T22:42:25.945266Z",
     "shell.execute_reply": "2021-04-21T22:42:25.945961Z"
    },
    "papermill": {
     "duration": 0.328447,
     "end_time": "2021-04-21T22:42:25.946154",
     "exception": false,
     "start_time": "2021-04-21T22:42:25.617707",
     "status": "completed"
    },
    "tags": []
   },
   "outputs": [],
   "source": [
    "!mkdir /tmp/mfa-temp"
   ]
  },
  {
   "cell_type": "code",
   "execution_count": 5,
   "id": "prime-sierra",
   "metadata": {
    "execution": {
     "iopub.execute_input": "2021-04-21T22:42:25.967715Z",
     "iopub.status.busy": "2021-04-21T22:42:25.967090Z",
     "iopub.status.idle": "2021-04-21T22:42:57.063417Z",
     "shell.execute_reply": "2021-04-21T22:42:57.062849Z"
    },
    "papermill": {
     "duration": 31.10961,
     "end_time": "2021-04-21T22:42:57.063554",
     "exception": false,
     "start_time": "2021-04-21T22:42:25.953944",
     "status": "completed"
    },
    "tags": []
   },
   "outputs": [
    {
     "name": "stdout",
     "output_type": "stream",
     "text": [
      "GitRevision: kaldi-6-g64719c\r\n",
      "Loading input file: /tmp/mfa-temp/g2p-model/input.txt\r\n",
      "Starting EM...\r\n",
      "Finished first iter...\r\n",
      "Iteration: 1 Change: 3.18428\r\n",
      "Iteration: 2 Change: 0.068243\r\n",
      "Iteration: 3 Change: 0.0359888\r\n",
      "Iteration: 4 Change: 0.00983238\r\n",
      "Iteration: 5 Change: 0.00348759\r\n",
      "Iteration: 6 Change: 0.00150681\r\n",
      "Iteration: 7 Change: 0.00084877\r\n",
      "Iteration: 8 Change: 0.000713348\r\n",
      "Iteration: 9 Change: 0.000318527\r\n",
      "Iteration: 10 Change: 0.000238419\r\n",
      "Iteration: 11 Change: 0.000259399\r\n",
      "Last iteration: \r\n",
      "GitRevision: kaldi-6-g64719c\r\n",
      "Initializing...\r\n",
      "Converting...\r\n",
      "Saved model to ./g2p-model\r\n"
     ]
    }
   ],
   "source": [
    "!mfa_train_g2p -t /tmp/mfa-temp ../input/living-audio-irish-speech-corpus/lexicon.txt ./g2p-model"
   ]
  }
 ],
 "metadata": {
  "kernelspec": {
   "display_name": "Python 3",
   "language": "python",
   "name": "python3"
  },
  "language_info": {
   "codemirror_mode": {
    "name": "ipython",
    "version": 3
   },
   "file_extension": ".py",
   "mimetype": "text/x-python",
   "name": "python",
   "nbconvert_exporter": "python",
   "pygments_lexer": "ipython3",
   "version": "3.8.2"
  },
  "papermill": {
   "default_parameters": {},
   "duration": 53.169485,
   "end_time": "2021-04-21T22:42:57.784018",
   "environment_variables": {},
   "exception": null,
   "input_path": "__notebook__.ipynb",
   "output_path": "__notebook__.ipynb",
   "parameters": {},
   "start_time": "2021-04-21T22:42:04.614533",
   "version": "2.3.2"
  }
 },
 "nbformat": 4,
 "nbformat_minor": 5
}
