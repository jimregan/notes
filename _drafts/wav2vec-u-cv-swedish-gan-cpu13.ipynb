{
 "cells": [
  {
   "cell_type": "markdown",
   "id": "prerequisite-salad",
   "metadata": {
    "papermill": {
     "duration": 0.013385,
     "end_time": "2021-06-08T17:10:06.394289",
     "exception": false,
     "start_time": "2021-06-08T17:10:06.380904",
     "status": "completed"
    },
    "tags": []
   },
   "source": [
    "w2vu-cvsv-checkpoints-cpu11## Preparation"
   ]
  },
  {
   "cell_type": "code",
   "execution_count": 1,
   "id": "lesser-value",
   "metadata": {
    "execution": {
     "iopub.execute_input": "2021-06-08T17:10:06.431198Z",
     "iopub.status.busy": "2021-06-08T17:10:06.430647Z",
     "iopub.status.idle": "2021-06-08T17:10:08.801036Z",
     "shell.execute_reply": "2021-06-08T17:10:08.800046Z"
    },
    "papermill": {
     "duration": 2.394622,
     "end_time": "2021-06-08T17:10:08.801198",
     "exception": false,
     "start_time": "2021-06-08T17:10:06.406576",
     "status": "completed"
    },
    "tags": []
   },
   "outputs": [],
   "source": [
    "!cp ../input/w2vu-cvsv-checkpoints-cpu12/checkpoint_best.pt .\n",
    "!cp ../input/w2vu-cvsv-checkpoints-cpu12/checkpoint_last.pt ."
   ]
  },
  {
   "cell_type": "code",
   "execution_count": 2,
   "id": "expensive-juvenile",
   "metadata": {
    "_cell_guid": "b1076dfc-b9ad-4769-8c92-a6c4dae69d19",
    "_uuid": "8f2839f25d086af736a60e9eeb907d3b93b6e0e5",
    "execution": {
     "iopub.execute_input": "2021-06-08T17:10:08.837807Z",
     "iopub.status.busy": "2021-06-08T17:10:08.837155Z",
     "iopub.status.idle": "2021-06-08T17:14:20.055539Z",
     "shell.execute_reply": "2021-06-08T17:14:20.054795Z",
     "shell.execute_reply.started": "2021-05-31T11:43:46.770364Z"
    },
    "papermill": {
     "duration": 251.241726,
     "end_time": "2021-06-08T17:14:20.055692",
     "exception": false,
     "start_time": "2021-06-08T17:10:08.813966",
     "status": "completed"
    },
    "tags": []
   },
   "outputs": [],
   "source": [
    "%%capture\n",
    "!conda install -c pykaldi pykaldi -y"
   ]
  },
  {
   "cell_type": "code",
   "execution_count": 3,
   "id": "supreme-cosmetic",
   "metadata": {
    "execution": {
     "iopub.execute_input": "2021-06-08T17:14:20.085399Z",
     "iopub.status.busy": "2021-06-08T17:14:20.084534Z",
     "iopub.status.idle": "2021-06-08T17:14:20.092148Z",
     "shell.execute_reply": "2021-06-08T17:14:20.091631Z",
     "shell.execute_reply.started": "2021-05-31T13:58:07.987793Z"
    },
    "papermill": {
     "duration": 0.023136,
     "end_time": "2021-06-08T17:14:20.092282",
     "exception": false,
     "start_time": "2021-06-08T17:14:20.069146",
     "status": "completed"
    },
    "tags": []
   },
   "outputs": [
    {
     "name": "stdout",
     "output_type": "stream",
     "text": [
      "/tmp\n"
     ]
    }
   ],
   "source": [
    "%cd /tmp"
   ]
  },
  {
   "cell_type": "code",
   "execution_count": 4,
   "id": "controlled-cannon",
   "metadata": {
    "execution": {
     "iopub.execute_input": "2021-06-08T17:14:20.126920Z",
     "iopub.status.busy": "2021-06-08T17:14:20.122957Z",
     "iopub.status.idle": "2021-06-08T17:14:25.099280Z",
     "shell.execute_reply": "2021-06-08T17:14:25.099880Z",
     "shell.execute_reply.started": "2021-05-31T11:47:48.174342Z"
    },
    "papermill": {
     "duration": 4.994935,
     "end_time": "2021-06-08T17:14:25.100282",
     "exception": false,
     "start_time": "2021-06-08T17:14:20.105347",
     "status": "completed"
    },
    "tags": []
   },
   "outputs": [
    {
     "name": "stdout",
     "output_type": "stream",
     "text": [
      "Cloning into 'fairseq'...\r\n"
     ]
    },
    {
     "name": "stdout",
     "output_type": "stream",
     "text": [
      "remote: Enumerating objects: 28296, done.\u001b[K\r\n",
      "Receiving objects:   0% (1/28296)   \r"
     ]
    },
    {
     "name": "stdout",
     "output_type": "stream",
     "text": [
      "Receiving objects:   1% (283/28296)   \r"
     ]
    },
    {
     "name": "stdout",
     "output_type": "stream",
     "text": [
      "Receiving objects:   2% (566/28296), 164.00 KiB | 299.00 KiB/s   \r"
     ]
    },
    {
     "name": "stdout",
     "output_type": "stream",
     "text": [
      "Receiving objects:   3% (849/28296), 164.00 KiB | 299.00 KiB/s   \r"
     ]
    },
    {
     "name": "stdout",
     "output_type": "stream",
     "text": [
      "Receiving objects:   4% (1132/28296), 164.00 KiB | 299.00 KiB/s   \r",
      "Receiving objects:   5% (1415/28296), 164.00 KiB | 299.00 KiB/s   \r"
     ]
    },
    {
     "name": "stdout",
     "output_type": "stream",
     "text": [
      "Receiving objects:   6% (1698/28296), 164.00 KiB | 299.00 KiB/s   \r",
      "Receiving objects:   7% (1981/28296), 164.00 KiB | 299.00 KiB/s   \r"
     ]
    },
    {
     "name": "stdout",
     "output_type": "stream",
     "text": [
      "Receiving objects:   8% (2264/28296), 164.00 KiB | 299.00 KiB/s   \r",
      "Receiving objects:   9% (2547/28296), 164.00 KiB | 299.00 KiB/s   \r",
      "Receiving objects:  10% (2830/28296), 164.00 KiB | 299.00 KiB/s   \r",
      "Receiving objects:  11% (3113/28296), 164.00 KiB | 299.00 KiB/s   \r",
      "Receiving objects:  12% (3396/28296), 164.00 KiB | 299.00 KiB/s   \r",
      "Receiving objects:  13% (3679/28296), 164.00 KiB | 299.00 KiB/s   \r"
     ]
    },
    {
     "name": "stdout",
     "output_type": "stream",
     "text": [
      "Receiving objects:  13% (3821/28296), 1.51 MiB | 1.37 MiB/s   \r",
      "Receiving objects:  14% (3962/28296), 1.51 MiB | 1.37 MiB/s   \r",
      "Receiving objects:  15% (4245/28296), 1.51 MiB | 1.37 MiB/s   \r",
      "Receiving objects:  16% (4528/28296), 1.51 MiB | 1.37 MiB/s   \r"
     ]
    },
    {
     "name": "stdout",
     "output_type": "stream",
     "text": [
      "Receiving objects:  17% (4811/28296), 1.51 MiB | 1.37 MiB/s   \r",
      "Receiving objects:  18% (5094/28296), 1.51 MiB | 1.37 MiB/s   \r"
     ]
    },
    {
     "name": "stdout",
     "output_type": "stream",
     "text": [
      "Receiving objects:  19% (5377/28296), 1.51 MiB | 1.37 MiB/s   \r",
      "Receiving objects:  20% (5660/28296), 1.51 MiB | 1.37 MiB/s   \r",
      "Receiving objects:  21% (5943/28296), 1.51 MiB | 1.37 MiB/s   \r",
      "Receiving objects:  22% (6226/28296), 1.51 MiB | 1.37 MiB/s   \r",
      "Receiving objects:  23% (6509/28296), 1.51 MiB | 1.37 MiB/s   \r"
     ]
    },
    {
     "name": "stdout",
     "output_type": "stream",
     "text": [
      "Receiving objects:  24% (6792/28296), 1.51 MiB | 1.37 MiB/s   \r",
      "Receiving objects:  25% (7074/28296), 1.51 MiB | 1.37 MiB/s   \r",
      "Receiving objects:  26% (7357/28296), 1.51 MiB | 1.37 MiB/s   \r"
     ]
    },
    {
     "name": "stdout",
     "output_type": "stream",
     "text": [
      "Receiving objects:  27% (7640/28296), 1.51 MiB | 1.37 MiB/s   \r",
      "Receiving objects:  28% (7923/28296), 1.51 MiB | 1.37 MiB/s   \r",
      "Receiving objects:  29% (8206/28296), 1.51 MiB | 1.37 MiB/s   \r"
     ]
    },
    {
     "name": "stdout",
     "output_type": "stream",
     "text": [
      "Receiving objects:  30% (8489/28296), 1.51 MiB | 1.37 MiB/s   \r",
      "Receiving objects:  31% (8772/28296), 1.51 MiB | 1.37 MiB/s   \r",
      "Receiving objects:  32% (9055/28296), 1.51 MiB | 1.37 MiB/s   \r",
      "Receiving objects:  33% (9338/28296), 1.51 MiB | 1.37 MiB/s   \r",
      "Receiving objects:  34% (9621/28296), 1.51 MiB | 1.37 MiB/s   \r",
      "Receiving objects:  35% (9904/28296), 1.51 MiB | 1.37 MiB/s   \r",
      "Receiving objects:  36% (10187/28296), 1.51 MiB | 1.37 MiB/s   \r"
     ]
    },
    {
     "name": "stdout",
     "output_type": "stream",
     "text": [
      "Receiving objects:  37% (10470/28296), 1.51 MiB | 1.37 MiB/s   \r",
      "Receiving objects:  38% (10753/28296), 1.51 MiB | 1.37 MiB/s   \r",
      "Receiving objects:  39% (11036/28296), 1.51 MiB | 1.37 MiB/s   \r",
      "Receiving objects:  40% (11319/28296), 1.51 MiB | 1.37 MiB/s   \r",
      "Receiving objects:  41% (11602/28296), 1.51 MiB | 1.37 MiB/s   \r",
      "Receiving objects:  42% (11885/28296), 1.51 MiB | 1.37 MiB/s   \r",
      "Receiving objects:  43% (12168/28296), 1.51 MiB | 1.37 MiB/s   \r",
      "Receiving objects:  44% (12451/28296), 1.51 MiB | 1.37 MiB/s   \r"
     ]
    },
    {
     "name": "stdout",
     "output_type": "stream",
     "text": [
      "Receiving objects:  45% (12734/28296), 7.93 MiB | 4.76 MiB/s   \r",
      "Receiving objects:  46% (13017/28296), 7.93 MiB | 4.76 MiB/s   \r",
      "Receiving objects:  47% (13300/28296), 7.93 MiB | 4.76 MiB/s   \r",
      "Receiving objects:  48% (13583/28296), 7.93 MiB | 4.76 MiB/s   \r",
      "Receiving objects:  49% (13866/28296), 7.93 MiB | 4.76 MiB/s   \r",
      "Receiving objects:  50% (14148/28296), 7.93 MiB | 4.76 MiB/s   \r",
      "Receiving objects:  51% (14431/28296), 7.93 MiB | 4.76 MiB/s   \r",
      "Receiving objects:  52% (14714/28296), 7.93 MiB | 4.76 MiB/s   \r",
      "Receiving objects:  53% (14997/28296), 7.93 MiB | 4.76 MiB/s   \r",
      "Receiving objects:  54% (15280/28296), 7.93 MiB | 4.76 MiB/s   \r",
      "Receiving objects:  55% (15563/28296), 7.93 MiB | 4.76 MiB/s   \r"
     ]
    },
    {
     "name": "stdout",
     "output_type": "stream",
     "text": [
      "Receiving objects:  56% (15846/28296), 7.93 MiB | 4.76 MiB/s   \r",
      "Receiving objects:  57% (16129/28296), 7.93 MiB | 4.76 MiB/s   \r",
      "Receiving objects:  58% (16412/28296), 7.93 MiB | 4.76 MiB/s   \r",
      "Receiving objects:  59% (16695/28296), 7.93 MiB | 4.76 MiB/s   \r",
      "Receiving objects:  60% (16978/28296), 7.93 MiB | 4.76 MiB/s   \r",
      "Receiving objects:  61% (17261/28296), 7.93 MiB | 4.76 MiB/s   \r",
      "Receiving objects:  62% (17544/28296), 7.93 MiB | 4.76 MiB/s   \r",
      "Receiving objects:  63% (17827/28296), 7.93 MiB | 4.76 MiB/s   \r",
      "Receiving objects:  64% (18110/28296), 7.93 MiB | 4.76 MiB/s   \r",
      "Receiving objects:  65% (18393/28296), 7.93 MiB | 4.76 MiB/s   \r",
      "Receiving objects:  66% (18676/28296), 7.93 MiB | 4.76 MiB/s   \r",
      "Receiving objects:  67% (18959/28296), 7.93 MiB | 4.76 MiB/s   \r",
      "Receiving objects:  68% (19242/28296), 7.93 MiB | 4.76 MiB/s   \r",
      "Receiving objects:  69% (19525/28296), 7.93 MiB | 4.76 MiB/s   \r",
      "Receiving objects:  70% (19808/28296), 7.93 MiB | 4.76 MiB/s   \r",
      "Receiving objects:  71% (20091/28296), 7.93 MiB | 4.76 MiB/s   \r",
      "Receiving objects:  72% (20374/28296), 7.93 MiB | 4.76 MiB/s   \r",
      "Receiving objects:  73% (20657/28296), 7.93 MiB | 4.76 MiB/s   \r",
      "Receiving objects:  74% (20940/28296), 7.93 MiB | 4.76 MiB/s   \r",
      "Receiving objects:  75% (21222/28296), 7.93 MiB | 4.76 MiB/s   \r"
     ]
    },
    {
     "name": "stdout",
     "output_type": "stream",
     "text": [
      "Receiving objects:  76% (21505/28296), 7.93 MiB | 4.76 MiB/s   \r"
     ]
    },
    {
     "name": "stdout",
     "output_type": "stream",
     "text": [
      "Receiving objects:  77% (21788/28296), 7.93 MiB | 4.76 MiB/s   \r",
      "Receiving objects:  78% (22071/28296), 7.93 MiB | 4.76 MiB/s   \r",
      "Receiving objects:  79% (22354/28296), 7.93 MiB | 4.76 MiB/s   \r",
      "Receiving objects:  80% (22637/28296), 7.93 MiB | 4.76 MiB/s   \r",
      "Receiving objects:  81% (22920/28296), 7.93 MiB | 4.76 MiB/s   \r",
      "Receiving objects:  82% (23203/28296), 7.93 MiB | 4.76 MiB/s   \r",
      "Receiving objects:  83% (23486/28296), 7.93 MiB | 4.76 MiB/s   \r",
      "Receiving objects:  84% (23769/28296), 7.93 MiB | 4.76 MiB/s   \r",
      "Receiving objects:  85% (24052/28296), 7.93 MiB | 4.76 MiB/s   \r",
      "Receiving objects:  86% (24335/28296), 7.93 MiB | 4.76 MiB/s   \r",
      "Receiving objects:  87% (24618/28296), 7.93 MiB | 4.76 MiB/s   \r",
      "Receiving objects:  88% (24901/28296), 7.93 MiB | 4.76 MiB/s   \r",
      "Receiving objects:  89% (25184/28296), 7.93 MiB | 4.76 MiB/s   \r",
      "Receiving objects:  90% (25467/28296), 7.93 MiB | 4.76 MiB/s   \r",
      "Receiving objects:  91% (25750/28296), 7.93 MiB | 4.76 MiB/s   \r",
      "Receiving objects:  92% (26033/28296), 7.93 MiB | 4.76 MiB/s   \r",
      "Receiving objects:  93% (26316/28296), 7.93 MiB | 4.76 MiB/s   \r",
      "Receiving objects:  94% (26599/28296), 7.93 MiB | 4.76 MiB/s   \r",
      "Receiving objects:  95% (26882/28296), 7.93 MiB | 4.76 MiB/s   \r",
      "Receiving objects:  96% (27165/28296), 7.93 MiB | 4.76 MiB/s   \r",
      "Receiving objects:  97% (27448/28296), 7.93 MiB | 4.76 MiB/s   \r",
      "Receiving objects:  98% (27731/28296), 7.93 MiB | 4.76 MiB/s   \r",
      "remote: Total 28296 (delta 0), reused 0 (delta 0), pack-reused 28296\u001b[K\r\n",
      "Receiving objects:  99% (28014/28296), 7.93 MiB | 4.76 MiB/s   \r"
     ]
    },
    {
     "name": "stdout",
     "output_type": "stream",
     "text": [
      "Receiving objects: 100% (28296/28296), 7.93 MiB | 4.76 MiB/s   \r",
      "Receiving objects: 100% (28296/28296), 11.77 MiB | 6.15 MiB/s, done.\r\n",
      "Resolving deltas:   0% (0/21286)   \r",
      "Resolving deltas:   1% (213/21286)   \r",
      "Resolving deltas:   2% (426/21286)   \r",
      "Resolving deltas:   3% (753/21286)   \r",
      "Resolving deltas:   4% (854/21286)   \r",
      "Resolving deltas:   5% (1067/21286)   \r",
      "Resolving deltas:   6% (1283/21286)   \r",
      "Resolving deltas:   7% (1491/21286)   \r"
     ]
    },
    {
     "name": "stdout",
     "output_type": "stream",
     "text": [
      "Resolving deltas:   8% (1704/21286)   \r",
      "Resolving deltas:   9% (1918/21286)   \r",
      "Resolving deltas:  10% (2135/21286)   \r",
      "Resolving deltas:  11% (2360/21286)   \r",
      "Resolving deltas:  12% (2556/21286)   \r",
      "Resolving deltas:  13% (2774/21286)   \r",
      "Resolving deltas:  14% (2984/21286)   \r",
      "Resolving deltas:  15% (3201/21286)   \r"
     ]
    },
    {
     "name": "stdout",
     "output_type": "stream",
     "text": [
      "Resolving deltas:  16% (3427/21286)   \r",
      "Resolving deltas:  17% (3627/21286)   \r",
      "Resolving deltas:  18% (3855/21286)   \r",
      "Resolving deltas:  19% (4050/21286)   \r",
      "Resolving deltas:  20% (4269/21286)   \r",
      "Resolving deltas:  21% (4478/21286)   \r",
      "Resolving deltas:  22% (4694/21286)   \r",
      "Resolving deltas:  23% (4964/21286)   \r",
      "Resolving deltas:  24% (5127/21286)   \r"
     ]
    },
    {
     "name": "stdout",
     "output_type": "stream",
     "text": [
      "Resolving deltas:  25% (5327/21286)   \r",
      "Resolving deltas:  26% (5544/21286)   \r",
      "Resolving deltas:  27% (5769/21286)   \r",
      "Resolving deltas:  28% (5964/21286)   \r",
      "Resolving deltas:  29% (6196/21286)   \r",
      "Resolving deltas:  30% (6437/21286)   \r",
      "Resolving deltas:  31% (6650/21286)   \r",
      "Resolving deltas:  32% (6832/21286)   \r",
      "Resolving deltas:  33% (7027/21286)   \r",
      "Resolving deltas:  34% (7240/21286)   \r",
      "Resolving deltas:  35% (7452/21286)   \r",
      "Resolving deltas:  36% (7721/21286)   \r",
      "Resolving deltas:  37% (7898/21286)   \r",
      "Resolving deltas:  38% (8105/21286)   \r",
      "Resolving deltas:  39% (8344/21286)   \r"
     ]
    },
    {
     "name": "stdout",
     "output_type": "stream",
     "text": [
      "Resolving deltas:  40% (8516/21286)   \r",
      "Resolving deltas:  41% (8734/21286)   \r",
      "Resolving deltas:  42% (8966/21286)   \r",
      "Resolving deltas:  43% (9216/21286)   \r",
      "Resolving deltas:  44% (9386/21286)   \r",
      "Resolving deltas:  45% (9580/21286)   \r",
      "Resolving deltas:  46% (9805/21286)   \r",
      "Resolving deltas:  47% (10026/21286)   \r",
      "Resolving deltas:  48% (10244/21286)   \r",
      "Resolving deltas:  49% (10434/21286)   \r",
      "Resolving deltas:  50% (10698/21286)   \r",
      "Resolving deltas:  51% (10860/21286)   \r",
      "Resolving deltas:  52% (11071/21286)   \r",
      "Resolving deltas:  53% (11307/21286)   \r",
      "Resolving deltas:  54% (11507/21286)   \r"
     ]
    },
    {
     "name": "stdout",
     "output_type": "stream",
     "text": [
      "Resolving deltas:  55% (11709/21286)   \r",
      "Resolving deltas:  56% (11961/21286)   \r",
      "Resolving deltas:  57% (12134/21286)   \r",
      "Resolving deltas:  58% (12372/21286)   \r",
      "Resolving deltas:  59% (12577/21286)   \r",
      "Resolving deltas:  60% (12804/21286)   \r",
      "Resolving deltas:  61% (13013/21286)   \r",
      "Resolving deltas:  62% (13199/21286)   \r",
      "Resolving deltas:  63% (13417/21286)   \r",
      "Resolving deltas:  64% (13663/21286)   \r",
      "Resolving deltas:  65% (13902/21286)   \r",
      "Resolving deltas:  66% (14103/21286)   \r",
      "Resolving deltas:  67% (14269/21286)   \r",
      "Resolving deltas:  68% (14486/21286)   \r",
      "Resolving deltas:  69% (14705/21286)   \r",
      "Resolving deltas:  70% (14920/21286)   \r",
      "Resolving deltas:  71% (15171/21286)   \r",
      "Resolving deltas:  72% (15362/21286)   \r"
     ]
    },
    {
     "name": "stdout",
     "output_type": "stream",
     "text": [
      "Resolving deltas:  73% (15546/21286)   \r",
      "Resolving deltas:  74% (15762/21286)   \r",
      "Resolving deltas:  75% (15985/21286)   \r",
      "Resolving deltas:  76% (16181/21286)   \r",
      "Resolving deltas:  77% (16396/21286)   \r",
      "Resolving deltas:  78% (16608/21286)   \r",
      "Resolving deltas:  79% (16862/21286)   \r",
      "Resolving deltas:  80% (17033/21286)   \r",
      "Resolving deltas:  81% (17377/21286)   \r",
      "Resolving deltas:  82% (17457/21286)   \r",
      "Resolving deltas:  83% (17693/21286)   \r",
      "Resolving deltas:  84% (17964/21286)   \r",
      "Resolving deltas:  85% (18176/21286)   \r",
      "Resolving deltas:  86% (18364/21286)   \r",
      "Resolving deltas:  87% (18532/21286)   \r",
      "Resolving deltas:  88% (18776/21286)   \r",
      "Resolving deltas:  89% (18991/21286)   \r",
      "Resolving deltas:  90% (19169/21286)   \r",
      "Resolving deltas:  91% (19378/21286)   \r",
      "Resolving deltas:  92% (19589/21286)   \r",
      "Resolving deltas:  93% (19813/21286)   \r",
      "Resolving deltas:  94% (20013/21286)   \r"
     ]
    },
    {
     "name": "stdout",
     "output_type": "stream",
     "text": [
      "Resolving deltas:  95% (20226/21286)   \r",
      "Resolving deltas:  96% (20469/21286)   \r",
      "Resolving deltas:  97% (20752/21286)   \r",
      "Resolving deltas:  98% (20862/21286)   \r",
      "Resolving deltas:  99% (21077/21286)   \r",
      "Resolving deltas: 100% (21286/21286)   \r",
      "Resolving deltas: 100% (21286/21286), done.\r\n"
     ]
    }
   ],
   "source": [
    "!git clone https://github.com/jimregan/fairseq/ --branch issue3581"
   ]
  },
  {
   "cell_type": "code",
   "execution_count": 5,
   "id": "imported-living",
   "metadata": {
    "execution": {
     "iopub.execute_input": "2021-06-08T17:14:25.163687Z",
     "iopub.status.busy": "2021-06-08T17:14:25.162920Z",
     "iopub.status.idle": "2021-06-08T17:14:32.061138Z",
     "shell.execute_reply": "2021-06-08T17:14:32.060056Z",
     "shell.execute_reply.started": "2021-05-31T13:58:08.002832Z"
    },
    "papermill": {
     "duration": 6.934244,
     "end_time": "2021-06-08T17:14:32.061454",
     "exception": false,
     "start_time": "2021-06-08T17:14:25.127210",
     "status": "completed"
    },
    "tags": []
   },
   "outputs": [
    {
     "name": "stdout",
     "output_type": "stream",
     "text": [
      "Cloning into 'kenlm'...\r\n"
     ]
    },
    {
     "name": "stdout",
     "output_type": "stream",
     "text": [
      "remote: Enumerating objects: 14047, done.\u001b[K\r\n",
      "remote: Counting objects:   0% (1/360)\u001b[K\r",
      "remote: Counting objects:   1% (4/360)\u001b[K\r",
      "remote: Counting objects:   2% (8/360)\u001b[K\r",
      "remote: Counting objects:   3% (11/360)\u001b[K\r",
      "remote: Counting objects:   4% (15/360)\u001b[K\r",
      "remote: Counting objects:   5% (18/360)\u001b[K\r",
      "remote: Counting objects:   6% (22/360)\u001b[K\r",
      "remote: Counting objects:   7% (26/360)\u001b[K\r",
      "remote: Counting objects:   8% (29/360)\u001b[K\r",
      "remote: Counting objects:   9% (33/360)\u001b[K\r",
      "remote: Counting objects:  10% (36/360)\u001b[K\r",
      "remote: Counting objects:  11% (40/360)\u001b[K\r",
      "remote: Counting objects:  12% (44/360)\u001b[K\r",
      "remote: Counting objects:  13% (47/360)\u001b[K\r",
      "remote: Counting objects:  14% (51/360)\u001b[K\r",
      "remote: Counting objects:  15% (54/360)\u001b[K\r",
      "remote: Counting objects:  16% (58/360)\u001b[K\r",
      "remote: Counting objects:  17% (62/360)\u001b[K\r",
      "remote: Counting objects:  18% (65/360)\u001b[K\r",
      "remote: Counting objects:  19% (69/360)\u001b[K\r",
      "remote: Counting objects:  20% (72/360)\u001b[K\r",
      "remote: Counting objects:  21% (76/360)\u001b[K\r",
      "remote: Counting objects:  22% (80/360)\u001b[K\r",
      "remote: Counting objects:  23% (83/360)\u001b[K\r",
      "remote: Counting objects:  24% (87/360)\u001b[K\r",
      "remote: Counting objects:  25% (90/360)\u001b[K\r",
      "remote: Counting objects:  26% (94/360)\u001b[K\r",
      "remote: Counting objects:  27% (98/360)\u001b[K\r",
      "remote: Counting objects:  28% (101/360)\u001b[K\r",
      "remote: Counting objects:  29% (105/360)\u001b[K\r",
      "remote: Counting objects:  30% (108/360)\u001b[K\r",
      "remote: Counting objects:  31% (112/360)\u001b[K\r",
      "remote: Counting objects:  32% (116/360)\u001b[K\r",
      "remote: Counting objects:  33% (119/360)\u001b[K\r",
      "remote: Counting objects:  34% (123/360)\u001b[K\r",
      "remote: Counting objects:  35% (126/360)\u001b[K\r",
      "remote: Counting objects:  36% (130/360)\u001b[K\r",
      "remote: Counting objects:  37% (134/360)\u001b[K\r",
      "remote: Counting objects:  38% (137/360)\u001b[K\r",
      "remote: Counting objects:  39% (141/360)\u001b[K\r",
      "remote: Counting objects:  40% (144/360)\u001b[K\r",
      "remote: Counting objects:  41% (148/360)\u001b[K\r",
      "remote: Counting objects:  42% (152/360)\u001b[K\r",
      "remote: Counting objects:  43% (155/360)\u001b[K\r",
      "remote: Counting objects:  44% (159/360)\u001b[K\r",
      "remote: Counting objects:  45% (162/360)\u001b[K\r",
      "remote: Counting objects:  46% (166/360)\u001b[K\r",
      "remote: Counting objects:  47% (170/360)\u001b[K\r",
      "remote: Counting objects:  48% (173/360)\u001b[K\r",
      "remote: Counting objects:  49% (177/360)\u001b[K\r",
      "remote: Counting objects:  50% (180/360)\u001b[K\r",
      "remote: Counting objects:  51% (184/360)\u001b[K\r",
      "remote: Counting objects:  52% (188/360)\u001b[K\r",
      "remote: Counting objects:  53% (191/360)\u001b[K\r",
      "remote: Counting objects:  54% (195/360)\u001b[K\r",
      "remote: Counting objects:  55% (198/360)\u001b[K\r",
      "remote: Counting objects:  56% (202/360)\u001b[K\r",
      "remote: Counting objects:  57% (206/360)\u001b[K\r",
      "remote: Counting objects:  58% (209/360)\u001b[K\r",
      "remote: Counting objects:  59% (213/360)\u001b[K\r",
      "remote: Counting objects:  60% (216/360)\u001b[K\r",
      "remote: Counting objects:  61% (220/360)\u001b[K\r",
      "remote: Counting objects:  62% (224/360)\u001b[K\r",
      "remote: Counting objects:  63% (227/360)\u001b[K\r",
      "remote: Counting objects:  64% (231/360)\u001b[K\r",
      "remote: Counting objects:  65% (234/360)\u001b[K\r",
      "remote: Counting objects:  66% (238/360)\u001b[K\r",
      "remote: Counting objects:  67% (242/360)\u001b[K\r",
      "remote: Counting objects:  68% (245/360)\u001b[K\r",
      "remote: Counting objects:  69% (249/360)\u001b[K\r",
      "remote: Counting objects:  70% (252/360)\u001b[K\r",
      "remote: Counting objects:  71% (256/360)\u001b[K\r",
      "remote: Counting objects:  72% (260/360)\u001b[K\r",
      "remote: Counting objects:  73% (263/360)\u001b[K\r",
      "remote: Counting objects:  74% (267/360)\u001b[K\r",
      "remote: Counting objects:  75% (270/360)\u001b[K\r",
      "remote: Counting objects:  76% (274/360)\u001b[K\r",
      "remote: Counting objects:  77% (278/360)\u001b[K\r",
      "remote: Counting objects:  78% (281/360)\u001b[K\r",
      "remote: Counting objects:  79% (285/360)\u001b[K\r",
      "remote: Counting objects:  80% (288/360)\u001b[K\r",
      "remote: Counting objects:  81% (292/360)\u001b[K\r",
      "remote: Counting objects:  82% (296/360)\u001b[K\r",
      "remote: Counting objects:  83% (299/360)\u001b[K\r",
      "remote: Counting objects:  84% (303/360)\u001b[K\r",
      "remote: Counting objects:  85% (306/360)\u001b[K\r",
      "remote: Counting objects:  86% (310/360)\u001b[K\r",
      "remote: Counting objects:  87% (314/360)\u001b[K\r",
      "remote: Counting objects:  88% (317/360)\u001b[K\r",
      "remote: Counting objects:  89% (321/360)\u001b[K\r",
      "remote: Counting objects:  90% (324/360)\u001b[K\r",
      "remote: Counting objects:  91% (328/360)\u001b[K\r",
      "remote: Counting objects:  92% (332/360)\u001b[K\r",
      "remote: Counting objects:  93% (335/360)\u001b[K\r",
      "remote: Counting objects:  94% (339/360)\u001b[K\r",
      "remote: Counting objects:  95% (342/360)\u001b[K\r",
      "remote: Counting objects:  96% (346/360)\u001b[K\r",
      "remote: Counting objects:  97% (350/360)\u001b[K\r",
      "remote: Counting objects:  98% (353/360)\u001b[K\r",
      "remote: Counting objects:  99% (357/360)\u001b[K\r",
      "remote: Counting objects: 100% (360/360)\u001b[K\r",
      "remote: Counting objects: 100% (360/360), done.\u001b[K\r\n",
      "remote: Compressing objects:   0% (1/292)\u001b[K\r",
      "remote: Compressing objects:   1% (3/292)\u001b[K\r",
      "remote: Compressing objects:   2% (6/292)\u001b[K\r",
      "remote: Compressing objects:   3% (9/292)\u001b[K\r",
      "remote: Compressing objects:   4% (12/292)\u001b[K\r",
      "remote: Compressing objects:   5% (15/292)\u001b[K\r",
      "remote: Compressing objects:   6% (18/292)\u001b[K\r",
      "remote: Compressing objects:   7% (21/292)\u001b[K\r",
      "remote: Compressing objects:   8% (24/292)\u001b[K\r",
      "remote: Compressing objects:   9% (27/292)\u001b[K\r"
     ]
    },
    {
     "name": "stdout",
     "output_type": "stream",
     "text": [
      "remote: Compressing objects:  10% (30/292)\u001b[K\r",
      "remote: Compressing objects:  11% (33/292)\u001b[K\r",
      "remote: Compressing objects:  12% (36/292)\u001b[K\r",
      "remote: Compressing objects:  13% (38/292)\u001b[K\r",
      "remote: Compressing objects:  14% (41/292)\u001b[K\r",
      "remote: Compressing objects:  15% (44/292)\u001b[K\r",
      "remote: Compressing objects:  16% (47/292)\u001b[K\r",
      "remote: Compressing objects:  17% (50/292)\u001b[K\r",
      "remote: Compressing objects:  18% (53/292)\u001b[K\r",
      "remote: Compressing objects:  19% (56/292)\u001b[K\r",
      "remote: Compressing objects:  20% (59/292)\u001b[K\r",
      "remote: Compressing objects:  21% (62/292)\u001b[K\r",
      "remote: Compressing objects:  22% (65/292)\u001b[K\r",
      "remote: Compressing objects:  23% (68/292)\u001b[K\r",
      "remote: Compressing objects:  24% (71/292)\u001b[K\r",
      "remote: Compressing objects:  25% (73/292)\u001b[K\r",
      "remote: Compressing objects:  26% (76/292)\u001b[K\r",
      "remote: Compressing objects:  27% (79/292)\u001b[K\r",
      "remote: Compressing objects:  28% (82/292)\u001b[K\r",
      "remote: Compressing objects:  29% (85/292)\u001b[K\r",
      "remote: Compressing objects:  30% (88/292)\u001b[K\r",
      "remote: Compressing objects:  31% (91/292)\u001b[K\r",
      "remote: Compressing objects:  32% (94/292)\u001b[K\r",
      "remote: Compressing objects:  33% (97/292)\u001b[K\r",
      "remote: Compressing objects:  34% (100/292)\u001b[K\r",
      "remote: Compressing objects:  35% (103/292)\u001b[K\r",
      "remote: Compressing objects:  36% (106/292)\u001b[K\r",
      "remote: Compressing objects:  37% (109/292)\u001b[K\r",
      "remote: Compressing objects:  38% (111/292)\u001b[K\r",
      "remote: Compressing objects:  39% (114/292)\u001b[K\r",
      "remote: Compressing objects:  40% (117/292)\u001b[K\r",
      "remote: Compressing objects:  41% (120/292)\u001b[K\r",
      "remote: Compressing objects:  42% (123/292)\u001b[K\r",
      "remote: Compressing objects:  43% (126/292)\u001b[K\r",
      "remote: Compressing objects:  44% (129/292)\u001b[K\r",
      "remote: Compressing objects:  45% (132/292)\u001b[K\r",
      "remote: Compressing objects:  46% (135/292)\u001b[K\r",
      "remote: Compressing objects:  47% (138/292)\u001b[K\r",
      "remote: Compressing objects:  48% (141/292)\u001b[K\r",
      "remote: Compressing objects:  49% (144/292)\u001b[K\r",
      "remote: Compressing objects:  50% (146/292)\u001b[K\r",
      "remote: Compressing objects:  51% (149/292)\u001b[K\r",
      "remote: Compressing objects:  52% (152/292)\u001b[K\r",
      "remote: Compressing objects:  53% (155/292)\u001b[K\r",
      "remote: Compressing objects:  54% (158/292)\u001b[K\r",
      "remote: Compressing objects:  55% (161/292)\u001b[K\r",
      "remote: Compressing objects:  56% (164/292)\u001b[K\r",
      "remote: Compressing objects:  57% (167/292)\u001b[K\r",
      "remote: Compressing objects:  58% (170/292)\u001b[K\r",
      "remote: Compressing objects:  59% (173/292)\u001b[K\r",
      "remote: Compressing objects:  60% (176/292)\u001b[K\r",
      "remote: Compressing objects:  61% (179/292)\u001b[K\r",
      "remote: Compressing objects:  62% (182/292)\u001b[K\r",
      "remote: Compressing objects:  63% (184/292)\u001b[K\r",
      "remote: Compressing objects:  64% (187/292)\u001b[K\r",
      "remote: Compressing objects:  65% (190/292)\u001b[K\r",
      "remote: Compressing objects:  66% (193/292)\u001b[K\r",
      "remote: Compressing objects:  67% (196/292)\u001b[K\r",
      "remote: Compressing objects:  68% (199/292)\u001b[K\r",
      "remote: Compressing objects:  69% (202/292)\u001b[K\r",
      "remote: Compressing objects:  70% (205/292)\u001b[K\r",
      "remote: Compressing objects:  71% (208/292)\u001b[K\r",
      "remote: Compressing objects:  72% (211/292)\u001b[K\r",
      "remote: Compressing objects:  73% (214/292)\u001b[K\r",
      "remote: Compressing objects:  74% (217/292)\u001b[K\r",
      "remote: Compressing objects:  75% (219/292)\u001b[K\r",
      "remote: Compressing objects:  76% (222/292)\u001b[K\r",
      "remote: Compressing objects:  77% (225/292)\u001b[K\r",
      "remote: Compressing objects:  78% (228/292)\u001b[K\r",
      "remote: Compressing objects:  79% (231/292)\u001b[K\r",
      "remote: Compressing objects:  80% (234/292)\u001b[K\r",
      "remote: Compressing objects:  81% (237/292)\u001b[K\r",
      "remote: Compressing objects:  82% (240/292)\u001b[K\r",
      "remote: Compressing objects:  83% (243/292)\u001b[K\r",
      "remote: Compressing objects:  84% (246/292)\u001b[K\r",
      "remote: Compressing objects:  85% (249/292)\u001b[K\r",
      "remote: Compressing objects:  86% (252/292)\u001b[K\r",
      "remote: Compressing objects:  87% (255/292)\u001b[K\r",
      "remote: Compressing objects:  88% (257/292)\u001b[K\r",
      "remote: Compressing objects:  89% (260/292)\u001b[K\r",
      "remote: Compressing objects:  90% (263/292)\u001b[K\r",
      "remote: Compressing objects:  91% (266/292)\u001b[K\r",
      "remote: Compressing objects:  92% (269/292)\u001b[K\r",
      "remote: Compressing objects:  93% (272/292)\u001b[K\r",
      "remote: Compressing objects:  94% (275/292)\u001b[K\r",
      "remote: Compressing objects:  95% (278/292)\u001b[K\r",
      "remote: Compressing objects:  96% (281/292)\u001b[K\r",
      "remote: Compressing objects:  97% (284/292)\u001b[K\r",
      "remote: Compressing objects:  98% (287/292)\u001b[K\r",
      "remote: Compressing objects:  99% (290/292)\u001b[K\r",
      "remote: Compressing objects: 100% (292/292)\u001b[K\r",
      "remote: Compressing objects: 100% (292/292), done.\u001b[K\r\n",
      "Receiving objects:   0% (1/14047)   \r"
     ]
    },
    {
     "name": "stdout",
     "output_type": "stream",
     "text": [
      "Receiving objects:   1% (141/14047)   \r",
      "Receiving objects:   2% (281/14047)   \r"
     ]
    },
    {
     "name": "stdout",
     "output_type": "stream",
     "text": [
      "Receiving objects:   3% (422/14047)   \r",
      "Receiving objects:   4% (562/14047)   \r",
      "Receiving objects:   5% (703/14047)   \r"
     ]
    },
    {
     "name": "stdout",
     "output_type": "stream",
     "text": [
      "Receiving objects:   6% (843/14047)   \r",
      "Receiving objects:   7% (984/14047)   \r"
     ]
    },
    {
     "name": "stdout",
     "output_type": "stream",
     "text": [
      "Receiving objects:   8% (1124/14047), 212.01 KiB | 376.00 KiB/s   \r",
      "Receiving objects:   9% (1265/14047), 212.01 KiB | 376.00 KiB/s   \r",
      "Receiving objects:  10% (1405/14047), 212.01 KiB | 376.00 KiB/s   \r",
      "Receiving objects:  11% (1546/14047), 212.01 KiB | 376.00 KiB/s   \r",
      "Receiving objects:  12% (1686/14047), 212.01 KiB | 376.00 KiB/s   \r",
      "Receiving objects:  13% (1827/14047), 212.01 KiB | 376.00 KiB/s   \r",
      "Receiving objects:  14% (1967/14047), 212.01 KiB | 376.00 KiB/s   \r",
      "Receiving objects:  15% (2108/14047), 212.01 KiB | 376.00 KiB/s   \r",
      "Receiving objects:  16% (2248/14047), 212.01 KiB | 376.00 KiB/s   \r"
     ]
    },
    {
     "name": "stdout",
     "output_type": "stream",
     "text": [
      "Receiving objects:  17% (2388/14047), 212.01 KiB | 376.00 KiB/s   \r",
      "Receiving objects:  18% (2529/14047), 212.01 KiB | 376.00 KiB/s   \r",
      "Receiving objects:  19% (2669/14047), 212.01 KiB | 376.00 KiB/s   \r",
      "Receiving objects:  20% (2810/14047), 212.01 KiB | 376.00 KiB/s   \r",
      "Receiving objects:  21% (2950/14047), 212.01 KiB | 376.00 KiB/s   \r"
     ]
    },
    {
     "name": "stdout",
     "output_type": "stream",
     "text": [
      "Receiving objects:  22% (3091/14047), 212.01 KiB | 376.00 KiB/s   \r"
     ]
    },
    {
     "name": "stdout",
     "output_type": "stream",
     "text": [
      "Receiving objects:  23% (3231/14047), 212.01 KiB | 376.00 KiB/s   \r",
      "Receiving objects:  24% (3372/14047), 212.01 KiB | 376.00 KiB/s   \r",
      "Receiving objects:  25% (3512/14047), 212.01 KiB | 376.00 KiB/s   \r",
      "Receiving objects:  26% (3653/14047), 212.01 KiB | 376.00 KiB/s   \r",
      "Receiving objects:  27% (3793/14047), 212.01 KiB | 376.00 KiB/s   \r",
      "Receiving objects:  28% (3934/14047), 212.01 KiB | 376.00 KiB/s   \r"
     ]
    },
    {
     "name": "stdout",
     "output_type": "stream",
     "text": [
      "Receiving objects:  28% (4068/14047), 2.02 MiB | 1.81 MiB/s   \r",
      "Receiving objects:  29% (4074/14047), 2.02 MiB | 1.81 MiB/s   \r",
      "Receiving objects:  30% (4215/14047), 2.02 MiB | 1.81 MiB/s   \r",
      "Receiving objects:  31% (4355/14047), 2.02 MiB | 1.81 MiB/s   \r",
      "Receiving objects:  32% (4496/14047), 2.02 MiB | 1.81 MiB/s   \r",
      "Receiving objects:  33% (4636/14047), 2.02 MiB | 1.81 MiB/s   \r",
      "Receiving objects:  34% (4776/14047), 2.02 MiB | 1.81 MiB/s   \r",
      "Receiving objects:  35% (4917/14047), 2.02 MiB | 1.81 MiB/s   \r",
      "Receiving objects:  36% (5057/14047), 2.02 MiB | 1.81 MiB/s   \r",
      "Receiving objects:  37% (5198/14047), 2.02 MiB | 1.81 MiB/s   \r",
      "Receiving objects:  38% (5338/14047), 2.02 MiB | 1.81 MiB/s   \r",
      "Receiving objects:  39% (5479/14047), 2.02 MiB | 1.81 MiB/s   \r",
      "Receiving objects:  40% (5619/14047), 2.02 MiB | 1.81 MiB/s   \r",
      "Receiving objects:  41% (5760/14047), 2.02 MiB | 1.81 MiB/s   \r",
      "Receiving objects:  42% (5900/14047), 2.02 MiB | 1.81 MiB/s   \r",
      "Receiving objects:  43% (6041/14047), 2.02 MiB | 1.81 MiB/s   \r"
     ]
    },
    {
     "name": "stdout",
     "output_type": "stream",
     "text": [
      "Receiving objects:  44% (6181/14047), 2.02 MiB | 1.81 MiB/s   \r",
      "Receiving objects:  45% (6322/14047), 2.02 MiB | 1.81 MiB/s   \r",
      "Receiving objects:  46% (6462/14047), 2.02 MiB | 1.81 MiB/s   \r",
      "Receiving objects:  47% (6603/14047), 2.02 MiB | 1.81 MiB/s   \r",
      "Receiving objects:  48% (6743/14047), 2.02 MiB | 1.81 MiB/s   \r",
      "Receiving objects:  49% (6884/14047), 2.02 MiB | 1.81 MiB/s   \r",
      "Receiving objects:  50% (7024/14047), 2.02 MiB | 1.81 MiB/s   \r",
      "Receiving objects:  51% (7164/14047), 2.02 MiB | 1.81 MiB/s   \r",
      "Receiving objects:  52% (7305/14047), 2.02 MiB | 1.81 MiB/s   \r",
      "Receiving objects:  53% (7445/14047), 2.02 MiB | 1.81 MiB/s   \r",
      "Receiving objects:  54% (7586/14047), 2.02 MiB | 1.81 MiB/s   \r",
      "Receiving objects:  55% (7726/14047), 2.02 MiB | 1.81 MiB/s   \r",
      "Receiving objects:  56% (7867/14047), 2.02 MiB | 1.81 MiB/s   \r",
      "Receiving objects:  57% (8007/14047), 2.02 MiB | 1.81 MiB/s   \r",
      "Receiving objects:  58% (8148/14047), 2.02 MiB | 1.81 MiB/s   \r",
      "Receiving objects:  59% (8288/14047), 2.02 MiB | 1.81 MiB/s   \r",
      "Receiving objects:  60% (8429/14047), 2.02 MiB | 1.81 MiB/s   \r",
      "Receiving objects:  61% (8569/14047), 2.02 MiB | 1.81 MiB/s   \r",
      "Receiving objects:  62% (8710/14047), 2.02 MiB | 1.81 MiB/s   \r",
      "Receiving objects:  63% (8850/14047), 2.02 MiB | 1.81 MiB/s   \r",
      "Receiving objects:  64% (8991/14047), 2.02 MiB | 1.81 MiB/s   \r",
      "Receiving objects:  65% (9131/14047), 2.02 MiB | 1.81 MiB/s   \r",
      "Receiving objects:  66% (9272/14047), 2.02 MiB | 1.81 MiB/s   \r",
      "Receiving objects:  67% (9412/14047), 2.02 MiB | 1.81 MiB/s   \r",
      "Receiving objects:  68% (9552/14047), 2.02 MiB | 1.81 MiB/s   \r",
      "Receiving objects:  69% (9693/14047), 2.02 MiB | 1.81 MiB/s   \r",
      "Receiving objects:  70% (9833/14047), 2.02 MiB | 1.81 MiB/s   \r",
      "Receiving objects:  71% (9974/14047), 2.02 MiB | 1.81 MiB/s   \r",
      "Receiving objects:  72% (10114/14047), 2.02 MiB | 1.81 MiB/s   \r",
      "Receiving objects:  73% (10255/14047), 2.02 MiB | 1.81 MiB/s   \r",
      "Receiving objects:  74% (10395/14047), 2.02 MiB | 1.81 MiB/s   \r"
     ]
    },
    {
     "name": "stdout",
     "output_type": "stream",
     "text": [
      "Receiving objects:  75% (10536/14047), 2.02 MiB | 1.81 MiB/s   \r",
      "Receiving objects:  76% (10676/14047), 2.02 MiB | 1.81 MiB/s   \r",
      "Receiving objects:  77% (10817/14047), 2.02 MiB | 1.81 MiB/s   \r",
      "Receiving objects:  78% (10957/14047), 2.02 MiB | 1.81 MiB/s   \r",
      "Receiving objects:  79% (11098/14047), 2.02 MiB | 1.81 MiB/s   \r",
      "Receiving objects:  80% (11238/14047), 2.02 MiB | 1.81 MiB/s   \r"
     ]
    },
    {
     "name": "stdout",
     "output_type": "stream",
     "text": [
      "Receiving objects:  81% (11379/14047), 2.02 MiB | 1.81 MiB/s   \r",
      "Receiving objects:  82% (11519/14047), 2.02 MiB | 1.81 MiB/s   \r",
      "Receiving objects:  83% (11660/14047), 2.02 MiB | 1.81 MiB/s   \r",
      "Receiving objects:  84% (11800/14047), 2.02 MiB | 1.81 MiB/s   \r",
      "Receiving objects:  85% (11940/14047), 2.02 MiB | 1.81 MiB/s   \r",
      "Receiving objects:  86% (12081/14047), 2.02 MiB | 1.81 MiB/s   \r",
      "Receiving objects:  87% (12221/14047), 2.02 MiB | 1.81 MiB/s   \r",
      "Receiving objects:  88% (12362/14047), 2.02 MiB | 1.81 MiB/s   \r",
      "Receiving objects:  89% (12502/14047), 2.02 MiB | 1.81 MiB/s   \r",
      "Receiving objects:  90% (12643/14047), 2.02 MiB | 1.81 MiB/s   \r",
      "Receiving objects:  91% (12783/14047), 2.02 MiB | 1.81 MiB/s   \r",
      "Receiving objects:  92% (12924/14047), 2.02 MiB | 1.81 MiB/s   \r",
      "Receiving objects:  93% (13064/14047), 2.02 MiB | 1.81 MiB/s   \r",
      "Receiving objects:  94% (13205/14047), 2.02 MiB | 1.81 MiB/s   \r",
      "Receiving objects:  95% (13345/14047), 2.02 MiB | 1.81 MiB/s   \r"
     ]
    },
    {
     "name": "stdout",
     "output_type": "stream",
     "text": [
      "Receiving objects:  96% (13486/14047), 2.02 MiB | 1.81 MiB/s   \r",
      "Receiving objects:  97% (13626/14047), 2.02 MiB | 1.81 MiB/s   \r",
      "Receiving objects:  98% (13767/14047), 2.02 MiB | 1.81 MiB/s   \r",
      "remote: Total 14047 (delta 107), reused 121 (delta 55), pack-reused 13687\u001b[K\r\n",
      "Receiving objects:  99% (13907/14047), 2.02 MiB | 1.81 MiB/s   \r",
      "Receiving objects: 100% (14047/14047), 2.02 MiB | 1.81 MiB/s   \r",
      "Receiving objects: 100% (14047/14047), 5.76 MiB | 4.13 MiB/s, done.\r\n",
      "Resolving deltas:   0% (0/7987)   \r",
      "Resolving deltas:   1% (100/7987)   \r",
      "Resolving deltas:   2% (169/7987)   \r",
      "Resolving deltas:   3% (243/7987)   \r",
      "Resolving deltas:   4% (327/7987)   \r"
     ]
    },
    {
     "name": "stdout",
     "output_type": "stream",
     "text": [
      "Resolving deltas:   5% (401/7987)   \r",
      "Resolving deltas:   6% (484/7987)   \r",
      "Resolving deltas:   7% (566/7987)   \r",
      "Resolving deltas:   8% (642/7987)   \r",
      "Resolving deltas:   9% (720/7987)   \r",
      "Resolving deltas:  10% (799/7987)   \r",
      "Resolving deltas:  11% (886/7987)   \r",
      "Resolving deltas:  12% (979/7987)   \r",
      "Resolving deltas:  13% (1042/7987)   \r",
      "Resolving deltas:  14% (1128/7987)   \r",
      "Resolving deltas:  15% (1199/7987)   \r",
      "Resolving deltas:  16% (1278/7987)   \r",
      "Resolving deltas:  17% (1361/7987)   \r",
      "Resolving deltas:  18% (1454/7987)   \r",
      "Resolving deltas:  19% (1519/7987)   \r",
      "Resolving deltas:  20% (1606/7987)   \r",
      "Resolving deltas:  21% (1681/7987)   \r",
      "Resolving deltas:  22% (1760/7987)   \r",
      "Resolving deltas:  23% (1852/7987)   \r",
      "Resolving deltas:  24% (1930/7987)   \r",
      "Resolving deltas:  25% (2020/7987)   \r",
      "Resolving deltas:  27% (2168/7987)   \r",
      "Resolving deltas:  28% (2252/7987)   \r",
      "Resolving deltas:  31% (2538/7987)   \r",
      "Resolving deltas:  32% (2573/7987)   \r",
      "Resolving deltas:  33% (2670/7987)   \r",
      "Resolving deltas:  34% (2717/7987)   \r"
     ]
    },
    {
     "name": "stdout",
     "output_type": "stream",
     "text": [
      "Resolving deltas:  35% (2797/7987)   \r",
      "Resolving deltas:  36% (2876/7987)   \r",
      "Resolving deltas:  37% (2982/7987)   \r",
      "Resolving deltas:  38% (3069/7987)   \r",
      "Resolving deltas:  40% (3220/7987)   \r",
      "Resolving deltas:  41% (3296/7987)   \r",
      "Resolving deltas:  42% (3427/7987)   \r",
      "Resolving deltas:  43% (3504/7987)   \r",
      "Resolving deltas:  44% (3546/7987)   \r",
      "Resolving deltas:  45% (3624/7987)   \r",
      "Resolving deltas:  46% (3690/7987)   \r",
      "Resolving deltas:  47% (3778/7987)   \r",
      "Resolving deltas:  48% (3843/7987)   \r",
      "Resolving deltas:  49% (3929/7987)   \r",
      "Resolving deltas:  52% (4192/7987)   \r",
      "Resolving deltas:  55% (4471/7987)   \r",
      "Resolving deltas:  56% (4511/7987)   \r",
      "Resolving deltas:  57% (4619/7987)   \r",
      "Resolving deltas:  58% (4638/7987)   \r",
      "Resolving deltas:  59% (4721/7987)   \r",
      "Resolving deltas:  60% (4796/7987)   \r",
      "Resolving deltas:  61% (4873/7987)   \r",
      "Resolving deltas:  62% (4957/7987)   \r",
      "Resolving deltas:  63% (5048/7987)   \r",
      "Resolving deltas:  64% (5119/7987)   \r",
      "Resolving deltas:  65% (5219/7987)   \r",
      "Resolving deltas:  66% (5289/7987)   \r",
      "Resolving deltas:  67% (5354/7987)   \r",
      "Resolving deltas:  68% (5434/7987)   \r",
      "Resolving deltas:  69% (5516/7987)   \r",
      "Resolving deltas:  70% (5621/7987)   \r",
      "Resolving deltas:  71% (5675/7987)   \r",
      "Resolving deltas:  72% (5754/7987)   \r",
      "Resolving deltas:  73% (5838/7987)   \r",
      "Resolving deltas:  74% (5911/7987)   \r",
      "Resolving deltas:  75% (5993/7987)   \r",
      "Resolving deltas:  76% (6073/7987)   \r",
      "Resolving deltas:  77% (6151/7987)   \r",
      "Resolving deltas:  78% (6233/7987)   \r"
     ]
    },
    {
     "name": "stdout",
     "output_type": "stream",
     "text": [
      "Resolving deltas:  79% (6310/7987)   \r",
      "Resolving deltas:  80% (6393/7987)   \r",
      "Resolving deltas:  81% (6474/7987)   \r",
      "Resolving deltas:  82% (6557/7987)   \r",
      "Resolving deltas:  83% (6653/7987)   \r",
      "Resolving deltas:  84% (6718/7987)   \r",
      "Resolving deltas:  85% (6808/7987)   \r",
      "Resolving deltas:  86% (6870/7987)   \r",
      "Resolving deltas:  87% (6963/7987)   \r",
      "Resolving deltas:  88% (7034/7987)   \r",
      "Resolving deltas:  89% (7109/7987)   \r",
      "Resolving deltas:  90% (7191/7987)   \r",
      "Resolving deltas:  91% (7269/7987)   \r",
      "Resolving deltas:  92% (7353/7987)   \r",
      "Resolving deltas:  93% (7428/7987)   \r",
      "Resolving deltas:  94% (7509/7987)   \r",
      "Resolving deltas:  95% (7588/7987)   \r",
      "Resolving deltas:  96% (7671/7987)   \r",
      "Resolving deltas:  97% (7752/7987)   \r",
      "Resolving deltas:  98% (7835/7987)   \r",
      "Resolving deltas:  99% (7908/7987)   \r",
      "Resolving deltas: 100% (7987/7987)   \r",
      "Resolving deltas: 100% (7987/7987), done.\r\n"
     ]
    }
   ],
   "source": [
    "!git clone https://github.com/kpu/kenlm"
   ]
  },
  {
   "cell_type": "code",
   "execution_count": 6,
   "id": "allied-paper",
   "metadata": {
    "execution": {
     "iopub.execute_input": "2021-06-08T17:14:32.127725Z",
     "iopub.status.busy": "2021-06-08T17:14:32.127124Z",
     "iopub.status.idle": "2021-06-08T17:14:38.828654Z",
     "shell.execute_reply": "2021-06-08T17:14:38.829121Z",
     "shell.execute_reply.started": "2021-05-31T13:58:12.001162Z"
    },
    "papermill": {
     "duration": 6.740603,
     "end_time": "2021-06-08T17:14:38.829301",
     "exception": false,
     "start_time": "2021-06-08T17:14:32.088698",
     "status": "completed"
    },
    "tags": []
   },
   "outputs": [],
   "source": [
    "%%capture\n",
    "!apt-get -y install libeigen3-dev liblzma-dev zlib1g-dev libbz2-dev"
   ]
  },
  {
   "cell_type": "code",
   "execution_count": 7,
   "id": "metropolitan-birmingham",
   "metadata": {
    "execution": {
     "iopub.execute_input": "2021-06-08T17:14:38.892490Z",
     "iopub.status.busy": "2021-06-08T17:14:38.891811Z",
     "iopub.status.idle": "2021-06-08T17:15:45.509367Z",
     "shell.execute_reply": "2021-06-08T17:15:45.509945Z"
    },
    "papermill": {
     "duration": 66.654255,
     "end_time": "2021-06-08T17:15:45.510197",
     "exception": false,
     "start_time": "2021-06-08T17:14:38.855942",
     "status": "completed"
    },
    "tags": []
   },
   "outputs": [],
   "source": [
    "\n",
    "%%capture\n",
    "%cd kenlm\n",
    "!mkdir build\n",
    "%cd build\n",
    "!cmake ..\n",
    "!make -j 4\n",
    "%cd /tmp"
   ]
  },
  {
   "cell_type": "code",
   "execution_count": 8,
   "id": "detected-greene",
   "metadata": {
    "execution": {
     "iopub.execute_input": "2021-06-08T17:15:45.567573Z",
     "iopub.status.busy": "2021-06-08T17:15:45.566960Z",
     "iopub.status.idle": "2021-06-08T17:16:20.894289Z",
     "shell.execute_reply": "2021-06-08T17:16:20.893653Z",
     "shell.execute_reply.started": "2021-05-31T14:00:27.915818Z"
    },
    "papermill": {
     "duration": 35.356992,
     "end_time": "2021-06-08T17:16:20.894476",
     "exception": false,
     "start_time": "2021-06-08T17:15:45.537484",
     "status": "completed"
    },
    "tags": []
   },
   "outputs": [],
   "source": [
    "%%capture\n",
    "%cd /tmp/kenlm\n",
    "!python setup.py install\n",
    "%cd /tmp"
   ]
  },
  {
   "cell_type": "code",
   "execution_count": 9,
   "id": "passive-handling",
   "metadata": {
    "execution": {
     "iopub.execute_input": "2021-06-08T17:16:20.955543Z",
     "iopub.status.busy": "2021-06-08T17:16:20.954650Z",
     "iopub.status.idle": "2021-06-08T17:16:20.957819Z",
     "shell.execute_reply": "2021-06-08T17:16:20.957344Z",
     "shell.execute_reply.started": "2021-05-25T22:58:58.397816Z"
    },
    "papermill": {
     "duration": 0.035093,
     "end_time": "2021-06-08T17:16:20.957943",
     "exception": false,
     "start_time": "2021-06-08T17:16:20.922850",
     "status": "completed"
    },
    "tags": []
   },
   "outputs": [],
   "source": [
    "import os\n",
    "os.environ['PATH'] = f\"{os.environ['PATH']}:/tmp/kenlm/build/bin/\"\n",
    "os.environ['FAIRSEQ_ROOT'] = '/tmp/fairseq'"
   ]
  },
  {
   "cell_type": "code",
   "execution_count": 10,
   "id": "congressional-mailing",
   "metadata": {
    "execution": {
     "iopub.execute_input": "2021-06-08T17:16:21.018729Z",
     "iopub.status.busy": "2021-06-08T17:16:21.017866Z",
     "iopub.status.idle": "2021-06-08T17:16:21.022332Z",
     "shell.execute_reply": "2021-06-08T17:16:21.021815Z",
     "shell.execute_reply.started": "2021-05-31T11:51:49.832574Z"
    },
    "papermill": {
     "duration": 0.036528,
     "end_time": "2021-06-08T17:16:21.022492",
     "exception": false,
     "start_time": "2021-06-08T17:16:20.985964",
     "status": "completed"
    },
    "tags": []
   },
   "outputs": [
    {
     "name": "stdout",
     "output_type": "stream",
     "text": [
      "/tmp/fairseq\n"
     ]
    }
   ],
   "source": [
    "%cd /tmp/fairseq/"
   ]
  },
  {
   "cell_type": "code",
   "execution_count": 11,
   "id": "immediate-halifax",
   "metadata": {
    "execution": {
     "iopub.execute_input": "2021-06-08T17:16:21.079321Z",
     "iopub.status.busy": "2021-06-08T17:16:21.078735Z",
     "iopub.status.idle": "2021-06-08T17:17:33.208040Z",
     "shell.execute_reply": "2021-06-08T17:17:33.207402Z"
    },
    "papermill": {
     "duration": 72.158556,
     "end_time": "2021-06-08T17:17:33.208260",
     "exception": false,
     "start_time": "2021-06-08T17:16:21.049704",
     "status": "completed"
    },
    "tags": []
   },
   "outputs": [],
   "source": [
    "%%capture\n",
    "!python setup.py install"
   ]
  },
  {
   "cell_type": "code",
   "execution_count": 12,
   "id": "strategic-dinner",
   "metadata": {
    "execution": {
     "iopub.execute_input": "2021-06-08T17:17:33.271311Z",
     "iopub.status.busy": "2021-06-08T17:17:33.270371Z",
     "iopub.status.idle": "2021-06-08T17:17:33.274840Z",
     "shell.execute_reply": "2021-06-08T17:17:33.274363Z"
    },
    "papermill": {
     "duration": 0.038258,
     "end_time": "2021-06-08T17:17:33.274995",
     "exception": false,
     "start_time": "2021-06-08T17:17:33.236737",
     "status": "completed"
    },
    "tags": []
   },
   "outputs": [
    {
     "name": "stdout",
     "output_type": "stream",
     "text": [
      "/tmp/fairseq\n"
     ]
    }
   ],
   "source": [
    "%cd /tmp/fairseq/"
   ]
  },
  {
   "cell_type": "code",
   "execution_count": 13,
   "id": "visible-child",
   "metadata": {
    "execution": {
     "iopub.execute_input": "2021-06-08T17:17:33.338514Z",
     "iopub.status.busy": "2021-06-08T17:17:33.337812Z",
     "iopub.status.idle": "2021-06-08T17:17:33.339647Z",
     "shell.execute_reply": "2021-06-08T17:17:33.340130Z"
    },
    "papermill": {
     "duration": 0.035171,
     "end_time": "2021-06-08T17:17:33.340283",
     "exception": false,
     "start_time": "2021-06-08T17:17:33.305112",
     "status": "completed"
    },
    "tags": []
   },
   "outputs": [],
   "source": [
    "os.environ['HYDRA_FULL_ERROR'] = '1'"
   ]
  },
  {
   "cell_type": "code",
   "execution_count": 14,
   "id": "comparative-wyoming",
   "metadata": {
    "execution": {
     "iopub.execute_input": "2021-06-08T17:17:33.400241Z",
     "iopub.status.busy": "2021-06-08T17:17:33.399590Z",
     "iopub.status.idle": "2021-06-08T17:17:42.623755Z",
     "shell.execute_reply": "2021-06-08T17:17:42.623221Z"
    },
    "papermill": {
     "duration": 9.255602,
     "end_time": "2021-06-08T17:17:42.623900",
     "exception": false,
     "start_time": "2021-06-08T17:17:33.368298",
     "status": "completed"
    },
    "tags": []
   },
   "outputs": [],
   "source": [
    "%%capture\n",
    "!pip install editdistance"
   ]
  },
  {
   "cell_type": "markdown",
   "id": "fleet-television",
   "metadata": {
    "papermill": {
     "duration": 0.026691,
     "end_time": "2021-06-08T17:17:42.677019",
     "exception": false,
     "start_time": "2021-06-08T17:17:42.650328",
     "status": "completed"
    },
    "tags": []
   },
   "source": [
    "## GAN"
   ]
  },
  {
   "cell_type": "code",
   "execution_count": 15,
   "id": "talented-richmond",
   "metadata": {
    "execution": {
     "iopub.execute_input": "2021-06-08T17:17:42.736812Z",
     "iopub.status.busy": "2021-06-08T17:17:42.736109Z",
     "iopub.status.idle": "2021-06-08T17:17:42.739205Z",
     "shell.execute_reply": "2021-06-08T17:17:42.739664Z"
    },
    "papermill": {
     "duration": 0.036033,
     "end_time": "2021-06-08T17:17:42.739804",
     "exception": false,
     "start_time": "2021-06-08T17:17:42.703771",
     "status": "completed"
    },
    "tags": []
   },
   "outputs": [
    {
     "name": "stdout",
     "output_type": "stream",
     "text": [
      "Writing rungan.sh\n"
     ]
    }
   ],
   "source": [
    "%%writefile rungan.sh\n",
    "PREFIX=w2v_unsup_gan_xp\n",
    "#TASK_DATA=/path/to/features/unfiltered/precompute_unfiltered_pca512_cls128_mean_pooled\n",
    "TASK_DATA=/kaggle/input/wav2vec-u-cv-swedish-audio/precompute_pca512_cls128_mean_pooled/\n",
    "#TEXT_DATA=/path/to/data  # path to fairseq-preprocessed GAN data\n",
    "TEXT_DATA=/kaggle/input/wav2vec-u-cv-swedish-text-prep/preppedtext/phones/\n",
    "#KENLM_PATH=/path/to/data/kenlm.phn.o4.bin  # KenLM 4-gram phoneme language model (LM data = GAN data here)\n",
    "KENLM_PATH=/kaggle/input/wav2vec-u-cv-swedish-text-prep/preppedtext/phones/lm.phones.filtered.04.bin\n",
    "\n",
    "PREFIX=$PREFIX fairseq-hydra-train \\\n",
    "\t-m --config-dir fairseq/config/model/wav2vecu/gan \\\n",
    "\t--config-name w2vu \\\n",
    "\ttask.data=${TASK_DATA} \\\n",
    "\ttask.text_data=${TEXT_DATA} \\\n",
    "\ttask.kenlm_path=${KENLM_PATH} \\\n",
    "\tcheckpoint.no_epoch_checkpoints=true \\\n",
    "\tcheckpoint.save_dir=/kaggle/working \\\n",
    "\t'common.seed=range(0,5)'"
   ]
  },
  {
   "cell_type": "code",
   "execution_count": 16,
   "id": "accessory-creek",
   "metadata": {
    "execution": {
     "iopub.execute_input": "2021-06-08T17:17:42.796414Z",
     "iopub.status.busy": "2021-06-08T17:17:42.795817Z"
    },
    "papermill": {
     "duration": null,
     "end_time": null,
     "exception": false,
     "start_time": "2021-06-08T17:17:42.766574",
     "status": "running"
    },
    "tags": []
   },
   "outputs": [
    {
     "name": "stdout",
     "output_type": "stream",
     "text": [
      "[2021-06-08 17:17:56,406][HYDRA] Launching 5 jobs locally\r\n",
      "[2021-06-08 17:17:56,406][HYDRA] \t#0 : task.data=/kaggle/input/wav2vec-u-cv-swedish-audio/precompute_pca512_cls128_mean_pooled/ task.text_data=/kaggle/input/wav2vec-u-cv-swedish-text-prep/preppedtext/phones/ task.kenlm_path=/kaggle/input/wav2vec-u-cv-swedish-text-prep/preppedtext/phones/lm.phones.filtered.04.bin checkpoint.no_epoch_checkpoints=True checkpoint.save_dir=/kaggle/working common.seed=0\r\n"
     ]
    },
    {
     "name": "stdout",
     "output_type": "stream",
     "text": [
      "[2021-06-08 17:17:58,544][fairseq_cli.train][INFO] - {'_name': None, 'common': {'_name': None, 'no_progress_bar': False, 'log_interval': 100, 'log_format': 'json', 'log_file': None, 'tensorboard_logdir': 'tb', 'wandb_project': None, 'azureml_logging': False, 'seed': 0, 'cpu': False, 'tpu': False, 'bf16': False, 'memory_efficient_bf16': False, 'fp16': False, 'memory_efficient_fp16': False, 'fp16_no_flatten_grads': True, 'fp16_init_scale': 128, 'fp16_scale_window': None, 'fp16_scale_tolerance': 0.0, 'min_loss_scale': 0.0001, 'threshold_loss_scale': None, 'amp': False, 'amp_batch_retries': 2, 'amp_init_scale': 128, 'amp_scale_window': None, 'user_dir': None, 'empty_cache_freq': 0, 'all_gather_list_size': 16384, 'model_parallel_size': 1, 'quantization_config_path': None, 'profile': False, 'reset_logging': False, 'suppress_crashes': False, 'use_plasma_view': False, 'plasma_path': '/tmp/plasma'}, 'common_eval': {'_name': None, 'path': None, 'post_process': None, 'quiet': False, 'model_overrides': '{}', 'results_path': None}, 'distributed_training': {'_name': None, 'distributed_world_size': 1, 'distributed_rank': 0, 'distributed_backend': 'nccl', 'distributed_init_method': None, 'distributed_port': -1, 'device_id': 0, 'distributed_no_spawn': False, 'ddp_backend': 'pytorch_ddp', 'ddp_comm_hook': 'none', 'bucket_cap_mb': 25, 'fix_batches_to_gpus': False, 'find_unused_parameters': False, 'fast_stat_sync': False, 'heartbeat_timeout': -1, 'broadcast_buffers': False, 'slowmo_momentum': None, 'slowmo_algorithm': 'LocalSGD', 'localsgd_frequency': 3, 'nprocs_per_node': 1, 'pipeline_model_parallel': False, 'pipeline_balance': None, 'pipeline_devices': None, 'pipeline_chunks': 0, 'pipeline_encoder_balance': None, 'pipeline_encoder_devices': None, 'pipeline_decoder_balance': None, 'pipeline_decoder_devices': None, 'pipeline_checkpoint': 'never', 'zero_sharding': 'none', 'fp16': False, 'memory_efficient_fp16': False, 'tpu': False, 'no_reshard_after_forward': False, 'fp32_reduce_scatter': False, 'cpu_offload': False, 'use_sharded_state': False, 'distributed_num_procs': 0}, 'dataset': {'_name': None, 'num_workers': 6, 'skip_invalid_size_inputs_valid_test': True, 'max_tokens': None, 'batch_size': 160, 'required_batch_size_multiple': 8, 'required_seq_len_multiple': 1, 'dataset_impl': None, 'data_buffer_size': 10, 'train_subset': 'train', 'valid_subset': 'valid', 'combine_valid_subsets': None, 'ignore_unused_valid_subsets': False, 'validate_interval': 1, 'validate_interval_updates': 0, 'validate_after_updates': 0, 'fixed_validation_seed': None, 'disable_validation': False, 'max_tokens_valid': None, 'batch_size_valid': 160, 'max_valid_steps': None, 'curriculum': 0, 'gen_subset': 'test', 'num_shards': 1, 'shard_id': 0}, 'optimization': {'_name': None, 'max_epoch': 0, 'max_update': 150000, 'stop_time_hours': 0.0, 'clip_norm': 5.0, 'sentence_avg': False, 'update_freq': [1], 'lr': [0.0], 'stop_min_lr': -1.0, 'use_bmuf': False}, 'checkpoint': {'_name': None, 'save_dir': '/kaggle/working', 'restore_file': 'checkpoint_last.pt', 'finetune_from_model': None, 'reset_dataloader': False, 'reset_lr_scheduler': False, 'reset_meters': False, 'reset_optimizer': False, 'optimizer_overrides': '{}', 'save_interval': 1, 'save_interval_updates': 0, 'keep_interval_updates': -1, 'keep_interval_updates_pattern': -1, 'keep_last_epochs': -1, 'keep_best_checkpoints': -1, 'no_save': False, 'no_epoch_checkpoints': True, 'no_last_checkpoints': False, 'no_save_optimizer_state': False, 'best_checkpoint_metric': 'weighted_lm_ppl', 'maximize_best_checkpoint_metric': False, 'patience': -1, 'checkpoint_suffix': '', 'checkpoint_shard_count': 1, 'load_checkpoint_on_all_dp_ranks': False, 'write_checkpoints_asynchronously': False, 'model_parallel_size': 1}, 'bmuf': {'_name': None, 'block_lr': 1.0, 'block_momentum': 0.875, 'global_sync_iter': 50, 'warmup_iterations': 500, 'use_nbm': False, 'average_sync': False, 'distributed_world_size': 1}, 'generation': {'_name': None, 'beam': 5, 'nbest': 1, 'max_len_a': 0.0, 'max_len_b': 200, 'min_len': 1, 'match_source_len': False, 'unnormalized': False, 'no_early_stop': False, 'no_beamable_mm': False, 'lenpen': 1.0, 'unkpen': 0.0, 'replace_unk': None, 'sacrebleu': False, 'score_reference': False, 'prefix_size': 0, 'no_repeat_ngram_size': 0, 'sampling': False, 'sampling_topk': -1, 'sampling_topp': -1.0, 'constraints': None, 'temperature': 1.0, 'diverse_beam_groups': -1, 'diverse_beam_strength': 0.5, 'diversity_rate': -1.0, 'print_alignment': None, 'print_step': False, 'lm_path': None, 'lm_weight': 0.0, 'iter_decode_eos_penalty': 0.0, 'iter_decode_max_iter': 10, 'iter_decode_force_max_iter': False, 'iter_decode_with_beam': 1, 'iter_decode_with_external_reranker': False, 'retain_iter_history': False, 'retain_dropout': False, 'retain_dropout_modules': None, 'decoding_format': None, 'no_seed_provided': False}, 'eval_lm': {'_name': None, 'output_word_probs': False, 'output_word_stats': False, 'context_window': 0, 'softmax_batch': 9223372036854775807}, 'interactive': {'_name': None, 'buffer_size': 0, 'input': '-'}, 'model': {'_name': 'wav2vec_u', 'discriminator_kernel': 6, 'discriminator_dilation': 1, 'discriminator_dim': 384, 'discriminator_causal': True, 'discriminator_linear_emb': False, 'discriminator_depth': 2, 'discriminator_max_pool': False, 'discriminator_act_after_linear': False, 'discriminator_dropout': 0.0, 'discriminator_spectral_norm': False, 'discriminator_weight_norm': False, 'generator_kernel': 4, 'generator_dilation': 1, 'generator_stride': 1, 'generator_bias': False, 'generator_dropout': 0.1, 'blank_weight': 0.0, 'blank_mode': 'add', 'blank_is_sil': False, 'no_softmax': False, 'smoothness_weight': 0.5, 'smoothing': 0.0, 'smoothing_one_sided': False, 'gradient_penalty': 1.5, 'probabilistic_grad_penalty_slicing': False, 'code_penalty': 4.0, 'gumbel': False, 'hard_gumbel': False, 'temp': [2.0, 0.1, 0.99995], 'input_dim': 512, 'wgan_loss': False, 'segmentation': {'_name': None, 'type': 'JOIN', 'subsample_rate': 0.25, 'mean_pool': True, 'mean_pool_join': False, 'remove_zeros': False}}, 'task': {'_name': 'gan_audio_pretraining_feats', 'data': '/kaggle/input/wav2vec-u-cv-swedish-audio/precompute_pca512_cls128_mean_pooled/', 'text_data': '/kaggle/input/wav2vec-u-cv-swedish-text-prep/preppedtext/phones/', 'max_length': None, 'labels': 'phn', 'unfiltered': False, 'ctc_eval': False, 'sort_by_length': False, 'shuffle': True, 'append_eos': False, 'uppercase': False, 'skipwords': '', 'kenlm_path': '/kaggle/input/wav2vec-u-cv-swedish-text-prep/preppedtext/phones/lm.phones.filtered.04.bin', 'vocab_usage_power': 2.0, 'word_decoder_config': None, 'word_kenlm_path': None, 'decoding_config': {'_name': None, 'kenlm_path': None, 'lm_weight': 0.0, 'blank_weight': 0.0}}, 'criterion': {'_name': 'model', 'loss_weights': {}, 'log_keys': ['accuracy_dense', 'accuracy_token', 'temp', 'code_ppl']}, 'optimizer': {'_name': 'composite', 'groups': {'generator': {'lr': [0.0004], 'lr_float': None, 'optimizer': {'_name': 'adam', 'adam_betas': [0.5, 0.98], 'adam_eps': 1e-06, 'weight_decay': 0, 'amsgrad': False}, 'lr_scheduler': {'_name': 'fixed', 'warmup_updates': 0}}, 'discriminator': {'lr': [0.0005], 'lr_float': None, 'optimizer': {'_name': 'adam', 'adam_betas': [0.5, 0.98], 'adam_eps': 1e-06, 'weight_decay': 0.0001, 'amsgrad': False}, 'lr_scheduler': {'_name': 'fixed', 'warmup_updates': 0}}}}, 'lr_scheduler': {'_name': 'pass_through'}, 'scoring': None, 'bpe': None, 'tokenizer': None, 'job_logging_cfg': {'version': 1, 'formatters': {'simple': {'format': '[%(asctime)s][%(name)s][%(levelname)s] - %(message)s'}}, 'handlers': {'console': {'class': 'logging.StreamHandler', 'formatter': 'simple', 'stream': 'ext://sys.stdout'}, 'file': {'class': 'logging.FileHandler', 'formatter': 'simple', 'filename': 'hydra_train.log'}}, 'root': {'level': 'INFO', 'handlers': ['console', 'file']}, 'disable_existing_loggers': False}}\r\n"
     ]
    },
    {
     "name": "stdout",
     "output_type": "stream",
     "text": [
      "[2021-06-08 17:17:58,698][fairseq_cli.train][INFO] - Wav2vec_U(\r\n",
      "  (discriminator): Discriminator(\r\n",
      "    (net): Sequential(\r\n",
      "      (0): Conv1d(45, 384, kernel_size=(6,), stride=(1,), padding=(5,))\r\n",
      "      (1): SamePad()\r\n",
      "      (2): Dropout(p=0.0, inplace=False)\r\n",
      "      (3): Sequential(\r\n",
      "        (0): Conv1d(384, 384, kernel_size=(6,), stride=(1,), padding=(5,))\r\n",
      "        (1): SamePad()\r\n",
      "        (2): Dropout(p=0.0, inplace=False)\r\n",
      "        (3): GELU()\r\n",
      "      )\r\n",
      "      (4): Conv1d(384, 1, kernel_size=(6,), stride=(1,), padding=(5,))\r\n",
      "      (5): SamePad()\r\n",
      "    )\r\n",
      "  )\r\n",
      "  (segmenter): JoinSegmenter()\r\n",
      "  (generator): Generator(\r\n",
      "    (dropout): Dropout(p=0.1, inplace=False)\r\n",
      "    (proj): Sequential(\r\n",
      "      (0): TransposeLast()\r\n",
      "      (1): Conv1d(512, 45, kernel_size=(4,), stride=(1,), padding=(2,), bias=False)\r\n",
      "      (2): TransposeLast()\r\n",
      "    )\r\n",
      "  )\r\n",
      ")\r\n",
      "[2021-06-08 17:17:58,702][fairseq_cli.train][INFO] - task: UnpairedAudioText\r\n",
      "[2021-06-08 17:17:58,702][fairseq_cli.train][INFO] - model: Wav2vec_U\r\n",
      "[2021-06-08 17:17:58,703][fairseq_cli.train][INFO] - criterion: ModelCriterion\r\n",
      "[2021-06-08 17:17:58,703][fairseq_cli.train][INFO] - num. shared model params: 1,083,649 (num. trained: 1,083,649)\r\n",
      "[2021-06-08 17:17:58,703][fairseq_cli.train][INFO] - num. expert model params: 0 (num. trained: 0)\r\n"
     ]
    },
    {
     "name": "stdout",
     "output_type": "stream",
     "text": [
      "[2021-06-08 17:17:58,824][fairseq.data.extracted_features_dataset][INFO] - loaded 2019, skipped 0 samples\r\n",
      "[2021-06-08 17:17:58,824][fairseq.tasks.unpaired_audio_text][INFO] - split valid has unpaired text? False\r\n",
      "[2021-06-08 17:17:58,833][fairseq_cli.train][INFO] - training on 1 devices (GPUs/TPUs)\r\n",
      "[2021-06-08 17:17:58,833][fairseq_cli.train][INFO] - max tokens per device = None and max sentences per device = 160\r\n",
      "[2021-06-08 17:17:58,835][fairseq.trainer][INFO] - Preparing to load checkpoint /kaggle/working/checkpoint_last.pt\r\n"
     ]
    },
    {
     "name": "stdout",
     "output_type": "stream",
     "text": [
      "[2021-06-08 17:17:59,210][fairseq.trainer][INFO] - Loaded checkpoint /kaggle/working/checkpoint_last.pt (epoch 5195 @ 83104 updates)\r\n",
      "[2021-06-08 17:17:59,210][fairseq.trainer][INFO] - loading train data for epoch 5195\r\n"
     ]
    },
    {
     "name": "stdout",
     "output_type": "stream",
     "text": [
      "[2021-06-08 17:17:59,286][fairseq.data.extracted_features_dataset][INFO] - loaded 2331, skipped 0 samples\r\n",
      "[2021-06-08 17:17:59,286][fairseq.tasks.unpaired_audio_text][INFO] - split train has unpaired text? True\r\n",
      "[2021-06-08 17:17:59,313][fairseq.data.data_utils][INFO] - loaded 2,328 examples from: /kaggle/input/wav2vec-u-cv-swedish-text-prep/preppedtext/phones/train\r\n"
     ]
    },
    {
     "name": "stdout",
     "output_type": "stream",
     "text": [
      "[2021-06-08 17:18:00,753][fairseq.trainer][INFO] - begin training epoch 5195\r\n",
      "[2021-06-08 17:18:00,754][fairseq_cli.train][INFO] - Start iterating over samples\r\n"
     ]
    },
    {
     "name": "stdout",
     "output_type": "stream",
     "text": [
      "[2021-06-08 17:21:40,732][fairseq_cli.train][INFO] - begin validation on \"valid\" subset\r\n"
     ]
    },
    {
     "name": "stdout",
     "output_type": "stream",
     "text": [
      "[2021-06-08 17:21:44,480][fairseq.tasks.unpaired_audio_text][INFO] - REF: ɛ n f œ ʂ ə n a d ɵ ʂ ə k t f øː r d eː t s ɔ m h ɛ n d ə p oː ɕ œ r k ɔ n s ɛ t ə n\r\n",
      "[2021-06-08 17:21:44,483][fairseq.tasks.unpaired_audio_text][INFO] - HYP: n ɪ s j œ r œ j b j uː yː k j uː f ɵ j m n ə m œ k b ə uː s eː r n ɛ oː s l ɪ ŋ k ɪ l a s œ k m k n t a\r\n",
      "[2021-06-08 17:21:44,487][fairseq.tasks.unpaired_audio_text][INFO] - LM [REF]: -53.44462585449219, 0.05339602260269112\r\n",
      "[2021-06-08 17:21:44,487][fairseq.tasks.unpaired_audio_text][INFO] - LM [HYP]: -91.72120666503906, 0.014641172811728026\r\n"
     ]
    },
    {
     "name": "stdout",
     "output_type": "stream",
     "text": [
      "[2021-06-08 17:21:50,084][valid][INFO] - {\"epoch\": 5195, \"valid_loss\": \"1.004\", \"valid_ntokens\": \"3039.79\", \"valid_nsentences\": \"144.214\", \"valid_lm_score_sum\": \"-89911.5\", \"valid_num_pred_chars\": \"48621\", \"valid_vocab_seen_pct\": \"0.888502\", \"valid_uer\": \"100.411\", \"valid_weighted_lm_ppl\": \"75.5419\", \"valid_lm_ppl\": \"59.6355\", \"valid_wps\": \"16555.4\", \"valid_wpb\": \"3039.8\", \"valid_bsz\": \"144.2\", \"valid_num_updates\": \"83120\", \"valid_best_weighted_lm_ppl\": \"73.0296\"}\r\n"
     ]
    },
    {
     "name": "stdout",
     "output_type": "stream",
     "text": [
      "[2021-06-08 17:21:50,087][fairseq.checkpoint_utils][INFO] - Preparing to save checkpoint for epoch 5195 @ 83120 updates\r\n",
      "[2021-06-08 17:21:50,089][fairseq.trainer][INFO] - Saving checkpoint to /kaggle/working/checkpoint_last.pt\r\n",
      "[2021-06-08 17:21:50,131][fairseq.trainer][INFO] - Finished saving checkpoint to /kaggle/working/checkpoint_last.pt\r\n",
      "[2021-06-08 17:21:50,131][fairseq.checkpoint_utils][INFO] - Saved checkpoint /kaggle/working/checkpoint_last.pt (epoch 5195 @ 83120 updates, score 75.54190516180111) (writing took 0.04382705300008638 seconds)\r\n",
      "[2021-06-08 17:21:50,132][fairseq_cli.train][INFO] - end of epoch 5195 (average epoch stats below)\r\n"
     ]
    },
    {
     "name": "stdout",
     "output_type": "stream",
     "text": [
      "[2021-06-08 17:21:50,137][train][INFO] - {\"epoch\": 5195, \"train_loss\": \"3.123\", \"train_ntokens\": \"145.688\", \"train_nsentences\": \"145.688\", \"train_temp\": \"0.1\", \"train_code_ppl\": \"8.478\", \"train_loss_code_pen\": \"0.296\", \"train_loss_smoothness\": \"1.978\", \"train_loss_dense_g\": \"4.066\", \"train_lm_score_sum\": 0.0, \"train_num_pred_chars\": 0.0, \"train_loss_grad_pen\": \"0.091\", \"train_loss_dense_d\": \"0.023\", \"train_loss_token_d\": \"0.019\", \"train_wps\": \"9.7\", \"train_ups\": \"0.07\", \"train_wpb\": \"145.7\", \"train_bsz\": \"145.7\", \"train_num_updates\": \"83120\", \"train_lr_discriminator\": \"0.0005\", \"train_lr_generator\": \"0.0004\", \"train_gnorm\": \"30.025\", \"train_clip\": \"81.2\", \"train_train_wall\": \"219\", \"train_wall\": \"231\"}\r\n",
      "[2021-06-08 17:21:50,186][fairseq.trainer][INFO] - begin training epoch 5196\r\n"
     ]
    },
    {
     "name": "stdout",
     "output_type": "stream",
     "text": [
      "[2021-06-08 17:21:50,188][fairseq_cli.train][INFO] - Start iterating over samples\r\n"
     ]
    },
    {
     "name": "stdout",
     "output_type": "stream",
     "text": [
      "[2021-06-08 17:25:39,874][fairseq_cli.train][INFO] - begin validation on \"valid\" subset\r\n"
     ]
    },
    {
     "name": "stdout",
     "output_type": "stream",
     "text": [
      "[2021-06-08 17:25:42,551][fairseq.tasks.unpaired_audio_text][INFO] - REF: ɛ n f œ ʂ ə n a d ɵ ʂ ə k t f øː r d eː t s ɔ m h ɛ n d ə p oː ɕ œ r k ɔ n s ɛ t ə n\r\n",
      "[2021-06-08 17:25:42,553][fairseq.tasks.unpaired_audio_text][INFO] - HYP: n ɪ s j œ r œ j b j uː yː k j uː f ɵ j m n ə m œ k ə uː s eː r n ɛ oː s l ɪ ŋ k ɪ l s œ k m t n t a\r\n"
     ]
    },
    {
     "name": "stdout",
     "output_type": "stream",
     "text": [
      "[2021-06-08 17:25:42,558][fairseq.tasks.unpaired_audio_text][INFO] - LM [REF]: -53.44462585449219, 0.05339602260269112\r\n",
      "[2021-06-08 17:25:42,558][fairseq.tasks.unpaired_audio_text][INFO] - LM [HYP]: -88.99140930175781, 0.013996269819857103\r\n"
     ]
    },
    {
     "name": "stdout",
     "output_type": "stream",
     "text": [
      "[2021-06-08 17:25:43,051][valid][INFO] - {\"epoch\": 5196, \"valid_loss\": \"1.006\", \"valid_ntokens\": \"3039.79\", \"valid_nsentences\": \"144.214\", \"valid_lm_score_sum\": \"-90031.3\", \"valid_num_pred_chars\": \"48746\", \"valid_vocab_seen_pct\": \"0.888502\", \"valid_uer\": \"100.606\", \"valid_weighted_lm_ppl\": \"75.1925\", \"valid_lm_ppl\": \"59.3597\", \"valid_wps\": \"18838.9\", \"valid_wpb\": \"3039.8\", \"valid_bsz\": \"144.2\", \"valid_num_updates\": \"83136\", \"valid_best_weighted_lm_ppl\": \"73.0296\"}\r\n",
      "[2021-06-08 17:25:43,054][fairseq.checkpoint_utils][INFO] - Preparing to save checkpoint for epoch 5196 @ 83136 updates\r\n",
      "[2021-06-08 17:25:43,055][fairseq.trainer][INFO] - Saving checkpoint to /kaggle/working/checkpoint_last.pt\r\n"
     ]
    },
    {
     "name": "stdout",
     "output_type": "stream",
     "text": [
      "[2021-06-08 17:25:43,100][fairseq.trainer][INFO] - Finished saving checkpoint to /kaggle/working/checkpoint_last.pt\r\n",
      "[2021-06-08 17:25:43,100][fairseq.checkpoint_utils][INFO] - Saved checkpoint /kaggle/working/checkpoint_last.pt (epoch 5196 @ 83136 updates, score 75.19254285048193) (writing took 0.046163709999973435 seconds)\r\n",
      "[2021-06-08 17:25:43,101][fairseq_cli.train][INFO] - end of epoch 5196 (average epoch stats below)\r\n",
      "[2021-06-08 17:25:43,104][train][INFO] - {\"epoch\": 5196, \"train_loss\": \"3.345\", \"train_ntokens\": \"145.688\", \"train_nsentences\": \"145.688\", \"train_temp\": \"0.1\", \"train_code_ppl\": \"8.464\", \"train_loss_code_pen\": \"0.339\", \"train_loss_smoothness\": \"2.112\", \"train_loss_dense_g\": \"4.376\", \"train_lm_score_sum\": 0.0, \"train_num_pred_chars\": 0.0, \"train_loss_grad_pen\": \"0.061\", \"train_loss_dense_d\": \"0.025\", \"train_loss_token_d\": \"0.023\", \"train_wps\": \"10\", \"train_ups\": \"0.07\", \"train_wpb\": \"145.7\", \"train_bsz\": \"145.7\", \"train_num_updates\": \"83136\", \"train_lr_discriminator\": \"0.0005\", \"train_lr_generator\": \"0.0004\", \"train_gnorm\": \"30.32\", \"train_clip\": \"75\", \"train_train_wall\": \"229\", \"train_wall\": \"464\"}\r\n"
     ]
    },
    {
     "name": "stdout",
     "output_type": "stream",
     "text": [
      "[2021-06-08 17:25:43,159][fairseq.trainer][INFO] - begin training epoch 5197\r\n",
      "[2021-06-08 17:25:43,160][fairseq_cli.train][INFO] - Start iterating over samples\r\n"
     ]
    },
    {
     "name": "stdout",
     "output_type": "stream",
     "text": [
      "[2021-06-08 17:29:18,193][fairseq_cli.train][INFO] - begin validation on \"valid\" subset\r\n"
     ]
    },
    {
     "name": "stdout",
     "output_type": "stream",
     "text": [
      "[2021-06-08 17:29:20,584][fairseq.tasks.unpaired_audio_text][INFO] - REF: ɛ n f œ ʂ ə n a d ɵ ʂ ə k t f øː r d eː t s ɔ m h ɛ n d ə p oː ɕ œ r k ɔ n s ɛ t ə n\r\n",
      "[2021-06-08 17:29:20,587][fairseq.tasks.unpaired_audio_text][INFO] - HYP: n ɪ s j œ r œ j b j uː yː k j uː f ɵ j m n ə m œ k b ə uː s eː r n ɛ oː s l ɪ ŋ k l ɪ l s œ m k n t a\r\n",
      "[2021-06-08 17:29:20,591][fairseq.tasks.unpaired_audio_text][INFO] - LM [REF]: -53.44462585449219, 0.05339602260269112\r\n",
      "[2021-06-08 17:29:20,591][fairseq.tasks.unpaired_audio_text][INFO] - LM [HYP]: -90.88036346435547, 0.013973291041344486\r\n"
     ]
    },
    {
     "name": "stdout",
     "output_type": "stream",
     "text": [
      "[2021-06-08 17:29:21,080][valid][INFO] - {\"epoch\": 5197, \"valid_loss\": \"1.007\", \"valid_ntokens\": \"3039.79\", \"valid_nsentences\": \"144.214\", \"valid_lm_score_sum\": \"-90070.9\", \"valid_num_pred_chars\": \"48754\", \"valid_vocab_seen_pct\": \"0.890244\", \"valid_uer\": \"100.667\", \"valid_weighted_lm_ppl\": \"74.9851\", \"valid_lm_ppl\": \"59.4283\", \"valid_wps\": \"18756\", \"valid_wpb\": \"3039.8\", \"valid_bsz\": \"144.2\", \"valid_num_updates\": \"83152\", \"valid_best_weighted_lm_ppl\": \"73.0296\"}\r\n",
      "[2021-06-08 17:29:21,083][fairseq.checkpoint_utils][INFO] - Preparing to save checkpoint for epoch 5197 @ 83152 updates\r\n",
      "[2021-06-08 17:29:21,084][fairseq.trainer][INFO] - Saving checkpoint to /kaggle/working/checkpoint_last.pt\r\n"
     ]
    },
    {
     "name": "stdout",
     "output_type": "stream",
     "text": [
      "[2021-06-08 17:29:21,130][fairseq.trainer][INFO] - Finished saving checkpoint to /kaggle/working/checkpoint_last.pt\r\n",
      "[2021-06-08 17:29:21,130][fairseq.checkpoint_utils][INFO] - Saved checkpoint /kaggle/working/checkpoint_last.pt (epoch 5197 @ 83152 updates, score 74.98509335681292) (writing took 0.046772451999913756 seconds)\r\n",
      "[2021-06-08 17:29:21,130][fairseq_cli.train][INFO] - end of epoch 5197 (average epoch stats below)\r\n",
      "[2021-06-08 17:29:21,133][train][INFO] - {\"epoch\": 5197, \"train_loss\": \"3.617\", \"train_ntokens\": \"145.688\", \"train_nsentences\": \"145.688\", \"train_temp\": \"0.1\", \"train_code_ppl\": \"8.618\", \"train_loss_code_pen\": \"0.334\", \"train_loss_smoothness\": \"2.119\", \"train_loss_dense_g\": \"4.408\", \"train_lm_score_sum\": 0.0, \"train_num_pred_chars\": 0.0, \"train_loss_grad_pen\": \"0.082\", \"train_loss_dense_d\": \"0.02\", \"train_loss_token_d\": \"0.027\", \"train_wps\": \"10.7\", \"train_ups\": \"0.07\", \"train_wpb\": \"145.7\", \"train_bsz\": \"145.7\", \"train_num_updates\": \"83152\", \"train_lr_discriminator\": \"0.0005\", \"train_lr_generator\": \"0.0004\", \"train_gnorm\": \"31.743\", \"train_clip\": \"87.5\", \"train_train_wall\": \"215\", \"train_wall\": \"682\"}\r\n"
     ]
    },
    {
     "name": "stdout",
     "output_type": "stream",
     "text": [
      "[2021-06-08 17:29:21,187][fairseq.trainer][INFO] - begin training epoch 5198\r\n",
      "[2021-06-08 17:29:21,188][fairseq_cli.train][INFO] - Start iterating over samples\r\n"
     ]
    },
    {
     "name": "stdout",
     "output_type": "stream",
     "text": [
      "[2021-06-08 17:33:07,089][fairseq_cli.train][INFO] - begin validation on \"valid\" subset\r\n"
     ]
    },
    {
     "name": "stdout",
     "output_type": "stream",
     "text": [
      "[2021-06-08 17:33:09,455][fairseq.tasks.unpaired_audio_text][INFO] - REF: ɛ n f œ ʂ ə n a d ɵ ʂ ə k t f øː r d eː t s ɔ m h ɛ n d ə p oː ɕ œ r k ɔ n s ɛ t ə n\r\n",
      "[2021-06-08 17:33:09,457][fairseq.tasks.unpaired_audio_text][INFO] - HYP: n ɪ s j œ r œ j b j uː yː k j uː f ɵ j m n ə m œ k b ə uː s eː r n ɛ oː s l ɪ ŋ k l ɪ l s œ uː m k n t a\r\n",
      "[2021-06-08 17:33:09,461][fairseq.tasks.unpaired_audio_text][INFO] - LM [REF]: -53.44462585449219, 0.05339602260269112\r\n",
      "[2021-06-08 17:33:09,462][fairseq.tasks.unpaired_audio_text][INFO] - LM [HYP]: -93.57653045654297, 0.013442170227441668\r\n"
     ]
    },
    {
     "name": "stdout",
     "output_type": "stream",
     "text": [
      "[2021-06-08 17:33:09,933][valid][INFO] - {\"epoch\": 5198, \"valid_loss\": \"1.005\", \"valid_ntokens\": \"3039.79\", \"valid_nsentences\": \"144.214\", \"valid_lm_score_sum\": \"-89966.6\", \"valid_num_pred_chars\": \"48631\", \"valid_vocab_seen_pct\": \"0.88676\", \"valid_uer\": \"100.451\", \"valid_weighted_lm_ppl\": \"75.9678\", \"valid_lm_ppl\": \"59.7367\", \"valid_wps\": \"19051.2\", \"valid_wpb\": \"3039.8\", \"valid_bsz\": \"144.2\", \"valid_num_updates\": \"83168\", \"valid_best_weighted_lm_ppl\": \"73.0296\"}\r\n",
      "[2021-06-08 17:33:09,936][fairseq.checkpoint_utils][INFO] - Preparing to save checkpoint for epoch 5198 @ 83168 updates\r\n",
      "[2021-06-08 17:33:09,937][fairseq.trainer][INFO] - Saving checkpoint to /kaggle/working/checkpoint_last.pt\r\n"
     ]
    },
    {
     "name": "stdout",
     "output_type": "stream",
     "text": [
      "[2021-06-08 17:33:09,981][fairseq.trainer][INFO] - Finished saving checkpoint to /kaggle/working/checkpoint_last.pt\r\n",
      "[2021-06-08 17:33:09,981][fairseq.checkpoint_utils][INFO] - Saved checkpoint /kaggle/working/checkpoint_last.pt (epoch 5198 @ 83168 updates, score 75.9678319541543) (writing took 0.045046476999914375 seconds)\r\n",
      "[2021-06-08 17:33:09,981][fairseq_cli.train][INFO] - end of epoch 5198 (average epoch stats below)\r\n",
      "[2021-06-08 17:33:09,984][train][INFO] - {\"epoch\": 5198, \"train_loss\": \"3.423\", \"train_ntokens\": \"145.688\", \"train_nsentences\": \"145.688\", \"train_temp\": \"0.1\", \"train_code_ppl\": \"8.457\", \"train_loss_code_pen\": \"0.32\", \"train_loss_smoothness\": \"2.053\", \"train_loss_dense_g\": \"4.104\", \"train_lm_score_sum\": 0.0, \"train_num_pred_chars\": 0.0, \"train_loss_grad_pen\": \"0.077\", \"train_loss_dense_d\": \"0.03\", \"train_loss_token_d\": \"0.032\", \"train_wps\": \"10.2\", \"train_ups\": \"0.07\", \"train_wpb\": \"145.7\", \"train_bsz\": \"145.7\", \"train_num_updates\": \"83168\", \"train_lr_discriminator\": \"0.0005\", \"train_lr_generator\": \"0.0004\", \"train_gnorm\": \"32.946\", \"train_clip\": \"68.8\", \"train_train_wall\": \"226\", \"train_wall\": \"911\"}\r\n"
     ]
    },
    {
     "name": "stdout",
     "output_type": "stream",
     "text": [
      "[2021-06-08 17:33:10,035][fairseq.trainer][INFO] - begin training epoch 5199\r\n",
      "[2021-06-08 17:33:10,037][fairseq_cli.train][INFO] - Start iterating over samples\r\n"
     ]
    },
    {
     "name": "stdout",
     "output_type": "stream",
     "text": [
      "[2021-06-08 17:36:58,339][fairseq_cli.train][INFO] - begin validation on \"valid\" subset\r\n"
     ]
    },
    {
     "name": "stdout",
     "output_type": "stream",
     "text": [
      "[2021-06-08 17:37:00,703][fairseq.tasks.unpaired_audio_text][INFO] - REF: ɛ n f œ ʂ ə n a d ɵ ʂ ə k t f øː r d eː t s ɔ m h ɛ n d ə p oː ɕ œ r k ɔ n s ɛ t ə n\r\n",
      "[2021-06-08 17:37:00,706][fairseq.tasks.unpaired_audio_text][INFO] - HYP: n ɪ s j œ r œ j b j uː yː k uː f ɵ j m n ə m œ k b ə uː s eː r n ɛ oː s l ɪ ŋ k ɪ l a s œ uː m k n t a\r\n",
      "[2021-06-08 17:37:00,711][fairseq.tasks.unpaired_audio_text][INFO] - LM [REF]: -53.44462585449219, 0.05339602260269112\r\n",
      "[2021-06-08 17:37:00,711][fairseq.tasks.unpaired_audio_text][INFO] - LM [HYP]: -90.04167938232422, 0.014534988968148171\r\n"
     ]
    },
    {
     "name": "stdout",
     "output_type": "stream",
     "text": [
      "[2021-06-08 17:37:01,229][valid][INFO] - {\"epoch\": 5199, \"valid_loss\": \"1.005\", \"valid_ntokens\": \"3039.79\", \"valid_nsentences\": \"144.214\", \"valid_lm_score_sum\": \"-90020.3\", \"valid_num_pred_chars\": \"48660\", \"valid_vocab_seen_pct\": \"0.879791\", \"valid_uer\": \"100.451\", \"valid_weighted_lm_ppl\": \"77.1836\", \"valid_lm_ppl\": \"59.7425\", \"valid_wps\": \"18553.4\", \"valid_wpb\": \"3039.8\", \"valid_bsz\": \"144.2\", \"valid_num_updates\": \"83184\", \"valid_best_weighted_lm_ppl\": \"73.0296\"}\r\n",
      "[2021-06-08 17:37:01,232][fairseq.checkpoint_utils][INFO] - Preparing to save checkpoint for epoch 5199 @ 83184 updates\r\n",
      "[2021-06-08 17:37:01,233][fairseq.trainer][INFO] - Saving checkpoint to /kaggle/working/checkpoint_last.pt\r\n",
      "[2021-06-08 17:37:01,276][fairseq.trainer][INFO] - Finished saving checkpoint to /kaggle/working/checkpoint_last.pt\r\n"
     ]
    },
    {
     "name": "stdout",
     "output_type": "stream",
     "text": [
      "[2021-06-08 17:37:01,276][fairseq.checkpoint_utils][INFO] - Saved checkpoint /kaggle/working/checkpoint_last.pt (epoch 5199 @ 83184 updates, score 77.18355452218762) (writing took 0.044320240999923044 seconds)\r\n",
      "[2021-06-08 17:37:01,277][fairseq_cli.train][INFO] - end of epoch 5199 (average epoch stats below)\r\n",
      "[2021-06-08 17:37:01,280][train][INFO] - {\"epoch\": 5199, \"train_loss\": \"3.211\", \"train_ntokens\": \"145.688\", \"train_nsentences\": \"145.688\", \"train_temp\": \"0.1\", \"train_code_ppl\": \"8.517\", \"train_loss_code_pen\": \"0.315\", \"train_loss_smoothness\": \"2.062\", \"train_loss_dense_g\": \"4.175\", \"train_lm_score_sum\": 0.0, \"train_num_pred_chars\": 0.0, \"train_loss_grad_pen\": \"0.06\", \"train_loss_dense_d\": \"0.023\", \"train_loss_token_d\": \"0.022\", \"train_wps\": \"10.1\", \"train_ups\": \"0.07\", \"train_wpb\": \"145.7\", \"train_bsz\": \"145.7\", \"train_num_updates\": \"83184\", \"train_lr_discriminator\": \"0.0005\", \"train_lr_generator\": \"0.0004\", \"train_gnorm\": \"29.434\", \"train_clip\": \"68.8\", \"train_train_wall\": \"228\", \"train_wall\": \"1142\"}\r\n"
     ]
    },
    {
     "name": "stdout",
     "output_type": "stream",
     "text": [
      "[2021-06-08 17:37:01,334][fairseq.trainer][INFO] - begin training epoch 5200\r\n",
      "[2021-06-08 17:37:01,336][fairseq_cli.train][INFO] - Start iterating over samples\r\n"
     ]
    },
    {
     "name": "stdout",
     "output_type": "stream",
     "text": [
      "[2021-06-08 17:40:38,588][train_inner][INFO] - {\"epoch\": 5200, \"update\": 5200.0, \"loss\": \"3.375\", \"ntokens\": \"145.688\", \"nsentences\": \"145.688\", \"temp\": \"0.1\", \"code_ppl\": \"8.491\", \"loss_code_pen\": \"0.317\", \"loss_smoothness\": \"2.053\", \"loss_dense_g\": \"4.246\", \"lm_score_sum\": 0.0, \"num_pred_chars\": 0.0, \"loss_grad_pen\": \"0.084\", \"loss_dense_d\": \"0.024\", \"loss_token_d\": \"0.026\", \"wps\": \"10.2\", \"ups\": \"0.07\", \"wpb\": \"145.7\", \"bsz\": \"145.7\", \"num_updates\": \"83200\", \"lr_discriminator\": \"0.0005\", \"lr_generator\": \"0.0004\", \"gnorm\": \"31.813\", \"clip\": \"77.1\", \"train_wall\": \"1333\", \"wall\": \"1360\"}\r\n",
      "[2021-06-08 17:40:38,590][fairseq_cli.train][INFO] - begin validation on \"valid\" subset\r\n"
     ]
    },
    {
     "name": "stdout",
     "output_type": "stream",
     "text": [
      "[2021-06-08 17:40:40,931][fairseq.tasks.unpaired_audio_text][INFO] - REF: ɛ n f œ ʂ ə n a d ɵ ʂ ə k t f øː r d eː t s ɔ m h ɛ n d ə p oː ɕ œ r k ɔ n s ɛ t ə n\r\n",
      "[2021-06-08 17:40:40,933][fairseq.tasks.unpaired_audio_text][INFO] - HYP: n ɪ s j œ r œ j b j uː yː k uː f ɵ j ə m œ k b ə uː s eː r n v oː s l ɪ ŋ k l ɪ l s œ uː m k n t a\r\n",
      "[2021-06-08 17:40:40,937][fairseq.tasks.unpaired_audio_text][INFO] - LM [REF]: -53.44462585449219, 0.05339602260269112\r\n",
      "[2021-06-08 17:40:40,937][fairseq.tasks.unpaired_audio_text][INFO] - LM [HYP]: -87.01761627197266, 0.014078661137184752\r\n"
     ]
    },
    {
     "name": "stdout",
     "output_type": "stream",
     "text": [
      "[2021-06-08 17:40:41,436][valid][INFO] - {\"epoch\": 5200, \"valid_loss\": \"1.005\", \"valid_ntokens\": \"3039.79\", \"valid_nsentences\": \"144.214\", \"valid_lm_score_sum\": \"-89968.2\", \"valid_num_pred_chars\": \"48667\", \"valid_vocab_seen_pct\": \"0.883275\", \"valid_uer\": \"100.47\", \"valid_weighted_lm_ppl\": \"76.3517\", \"valid_lm_ppl\": \"59.5677\", \"valid_wps\": \"19115.4\", \"valid_wpb\": \"3039.8\", \"valid_bsz\": \"144.2\", \"valid_num_updates\": \"83200\", \"valid_best_weighted_lm_ppl\": \"73.0296\"}\r\n",
      "[2021-06-08 17:40:41,439][fairseq.checkpoint_utils][INFO] - Preparing to save checkpoint for epoch 5200 @ 83200 updates\r\n",
      "[2021-06-08 17:40:41,440][fairseq.trainer][INFO] - Saving checkpoint to /kaggle/working/checkpoint_last.pt\r\n"
     ]
    },
    {
     "name": "stdout",
     "output_type": "stream",
     "text": [
      "[2021-06-08 17:40:41,486][fairseq.trainer][INFO] - Finished saving checkpoint to /kaggle/working/checkpoint_last.pt\r\n",
      "[2021-06-08 17:40:41,486][fairseq.checkpoint_utils][INFO] - Saved checkpoint /kaggle/working/checkpoint_last.pt (epoch 5200 @ 83200 updates, score 76.35170071992445) (writing took 0.04771702899961383 seconds)\r\n",
      "[2021-06-08 17:40:41,487][fairseq_cli.train][INFO] - end of epoch 5200 (average epoch stats below)\r\n",
      "[2021-06-08 17:40:41,490][train][INFO] - {\"epoch\": 5200, \"train_loss\": \"3.533\", \"train_ntokens\": \"145.688\", \"train_nsentences\": \"145.688\", \"train_temp\": \"0.1\", \"train_code_ppl\": \"8.41\", \"train_loss_code_pen\": \"0.301\", \"train_loss_smoothness\": \"1.995\", \"train_loss_dense_g\": \"4.337\", \"train_lm_score_sum\": 0.0, \"train_num_pred_chars\": 0.0, \"train_loss_grad_pen\": \"0.138\", \"train_loss_dense_d\": \"0.023\", \"train_loss_token_d\": \"0.036\", \"train_wps\": \"10.6\", \"train_ups\": \"0.07\", \"train_wpb\": \"145.7\", \"train_bsz\": \"145.7\", \"train_num_updates\": \"83200\", \"train_lr_discriminator\": \"0.0005\", \"train_lr_generator\": \"0.0004\", \"train_gnorm\": \"36.408\", \"train_clip\": \"81.2\", \"train_train_wall\": \"217\", \"train_wall\": \"1363\"}\r\n"
     ]
    },
    {
     "name": "stdout",
     "output_type": "stream",
     "text": [
      "[2021-06-08 17:40:41,543][fairseq.trainer][INFO] - begin training epoch 5201\r\n",
      "[2021-06-08 17:40:41,545][fairseq_cli.train][INFO] - Start iterating over samples\r\n"
     ]
    },
    {
     "name": "stdout",
     "output_type": "stream",
     "text": [
      "[2021-06-08 17:44:05,781][fairseq_cli.train][INFO] - begin validation on \"valid\" subset\r\n"
     ]
    },
    {
     "name": "stdout",
     "output_type": "stream",
     "text": [
      "[2021-06-08 17:44:08,152][fairseq.tasks.unpaired_audio_text][INFO] - REF: ɛ n f œ ʂ ə n a d ɵ ʂ ə k t f øː r d eː t s ɔ m h ɛ n d ə p oː ɕ œ r k ɔ n s ɛ t ə n\r\n",
      "[2021-06-08 17:44:08,154][fairseq.tasks.unpaired_audio_text][INFO] - HYP: n ɪ n s j œ r œ j b j uː yː k uː f ɵ j m ə m œ k ə uː s eː r n v oː s l ɪ ŋ k ɪ l s œ uː m k n t a\r\n",
      "[2021-06-08 17:44:08,158][fairseq.tasks.unpaired_audio_text][INFO] - LM [REF]: -53.44462585449219, 0.05339602260269112\r\n",
      "[2021-06-08 17:44:08,158][fairseq.tasks.unpaired_audio_text][INFO] - LM [HYP]: -86.82247161865234, 0.014213903734992376\r\n"
     ]
    },
    {
     "name": "stdout",
     "output_type": "stream",
     "text": [
      "[2021-06-08 17:44:08,638][valid][INFO] - {\"epoch\": 5201, \"valid_loss\": \"1.006\", \"valid_ntokens\": \"3039.79\", \"valid_nsentences\": \"144.214\", \"valid_lm_score_sum\": \"-90107.5\", \"valid_num_pred_chars\": \"48676\", \"valid_vocab_seen_pct\": \"0.885017\", \"valid_uer\": \"100.627\", \"valid_weighted_lm_ppl\": \"76.4785\", \"valid_lm_ppl\": \"59.9023\", \"valid_wps\": \"19170\", \"valid_wpb\": \"3039.8\", \"valid_bsz\": \"144.2\", \"valid_num_updates\": \"83216\", \"valid_best_weighted_lm_ppl\": \"73.0296\"}\r\n",
      "[2021-06-08 17:44:08,641][fairseq.checkpoint_utils][INFO] - Preparing to save checkpoint for epoch 5201 @ 83216 updates\r\n",
      "[2021-06-08 17:44:08,642][fairseq.trainer][INFO] - Saving checkpoint to /kaggle/working/checkpoint_last.pt\r\n"
     ]
    },
    {
     "name": "stdout",
     "output_type": "stream",
     "text": [
      "[2021-06-08 17:44:08,686][fairseq.trainer][INFO] - Finished saving checkpoint to /kaggle/working/checkpoint_last.pt\r\n",
      "[2021-06-08 17:44:08,687][fairseq.checkpoint_utils][INFO] - Saved checkpoint /kaggle/working/checkpoint_last.pt (epoch 5201 @ 83216 updates, score 76.47853496264779) (writing took 0.046045174000028055 seconds)\r\n",
      "[2021-06-08 17:44:08,687][fairseq_cli.train][INFO] - end of epoch 5201 (average epoch stats below)\r\n",
      "[2021-06-08 17:44:08,690][train][INFO] - {\"epoch\": 5201, \"train_loss\": \"3.554\", \"train_ntokens\": \"145.688\", \"train_nsentences\": \"145.688\", \"train_temp\": \"0.1\", \"train_code_ppl\": \"8.797\", \"train_loss_code_pen\": \"0.332\", \"train_loss_smoothness\": \"2.117\", \"train_loss_dense_g\": \"3.908\", \"train_lm_score_sum\": 0.0, \"train_num_pred_chars\": 0.0, \"train_loss_grad_pen\": \"0.086\", \"train_loss_dense_d\": \"0.027\", \"train_loss_token_d\": \"0.028\", \"train_wps\": \"11.3\", \"train_ups\": \"0.08\", \"train_wpb\": \"145.7\", \"train_bsz\": \"145.7\", \"train_num_updates\": \"83216\", \"train_lr_discriminator\": \"0.0005\", \"train_lr_generator\": \"0.0004\", \"train_gnorm\": \"31.034\", \"train_clip\": \"68.8\", \"train_train_wall\": \"204\", \"train_wall\": \"1570\"}\r\n"
     ]
    },
    {
     "name": "stdout",
     "output_type": "stream",
     "text": [
      "[2021-06-08 17:44:08,743][fairseq.trainer][INFO] - begin training epoch 5202\r\n",
      "[2021-06-08 17:44:08,745][fairseq_cli.train][INFO] - Start iterating over samples\r\n"
     ]
    },
    {
     "name": "stdout",
     "output_type": "stream",
     "text": [
      "[2021-06-08 17:47:42,645][fairseq_cli.train][INFO] - begin validation on \"valid\" subset\r\n"
     ]
    },
    {
     "name": "stdout",
     "output_type": "stream",
     "text": [
      "[2021-06-08 17:47:45,095][fairseq.tasks.unpaired_audio_text][INFO] - REF: ɛ n f œ ʂ ə n a d ɵ ʂ ə k t f øː r d eː t s ɔ m h ɛ n d ə p oː ɕ œ r k ɔ n s ɛ t ə n\r\n",
      "[2021-06-08 17:47:45,098][fairseq.tasks.unpaired_audio_text][INFO] - HYP: n ɪ n s j œ r œ j b j uː yː k uː f ɵ j ə m œ k ə uː s eː r n v oː s l ɪ ŋ k ɪ l s œ uː m k n t a\r\n",
      "[2021-06-08 17:47:45,103][fairseq.tasks.unpaired_audio_text][INFO] - LM [REF]: -53.44462585449219, 0.05339602260269112\r\n",
      "[2021-06-08 17:47:45,103][fairseq.tasks.unpaired_audio_text][INFO] - LM [HYP]: -84.4023208618164, 0.014627393265228819\r\n"
     ]
    },
    {
     "name": "stdout",
     "output_type": "stream",
     "text": [
      "[2021-06-08 17:47:45,591][valid][INFO] - {\"epoch\": 5202, \"valid_loss\": \"1.005\", \"valid_ntokens\": \"3039.79\", \"valid_nsentences\": \"144.214\", \"valid_lm_score_sum\": \"-89836.5\", \"valid_num_pred_chars\": \"48543\", \"valid_vocab_seen_pct\": \"0.890244\", \"valid_uer\": \"100.461\", \"valid_weighted_lm_ppl\": \"75.4642\", \"valid_lm_ppl\": \"59.8079\", \"valid_wps\": \"18348.5\", \"valid_wpb\": \"3039.8\", \"valid_bsz\": \"144.2\", \"valid_num_updates\": \"83232\", \"valid_best_weighted_lm_ppl\": \"73.0296\"}\r\n",
      "[2021-06-08 17:47:45,594][fairseq.checkpoint_utils][INFO] - Preparing to save checkpoint for epoch 5202 @ 83232 updates\r\n",
      "[2021-06-08 17:47:45,595][fairseq.trainer][INFO] - Saving checkpoint to /kaggle/working/checkpoint_last.pt\r\n"
     ]
    },
    {
     "name": "stdout",
     "output_type": "stream",
     "text": [
      "[2021-06-08 17:47:45,640][fairseq.trainer][INFO] - Finished saving checkpoint to /kaggle/working/checkpoint_last.pt\r\n",
      "[2021-06-08 17:47:45,641][fairseq.checkpoint_utils][INFO] - Saved checkpoint /kaggle/working/checkpoint_last.pt (epoch 5202 @ 83232 updates, score 75.4641584465626) (writing took 0.04632644599996638 seconds)\r\n",
      "[2021-06-08 17:47:45,641][fairseq_cli.train][INFO] - end of epoch 5202 (average epoch stats below)\r\n",
      "[2021-06-08 17:47:45,644][train][INFO] - {\"epoch\": 5202, \"train_loss\": \"3.386\", \"train_ntokens\": \"145.688\", \"train_nsentences\": \"145.688\", \"train_temp\": \"0.1\", \"train_code_ppl\": \"8.533\", \"train_loss_code_pen\": \"0.31\", \"train_loss_smoothness\": \"2.035\", \"train_loss_dense_g\": \"4.063\", \"train_lm_score_sum\": 0.0, \"train_num_pred_chars\": 0.0, \"train_loss_grad_pen\": \"0.083\", \"train_loss_dense_d\": \"0.028\", \"train_loss_token_d\": \"0.025\", \"train_wps\": \"10.7\", \"train_ups\": \"0.07\", \"train_wpb\": \"145.7\", \"train_bsz\": \"145.7\", \"train_num_updates\": \"83232\", \"train_lr_discriminator\": \"0.0005\", \"train_lr_generator\": \"0.0004\", \"train_gnorm\": \"30.59\", \"train_clip\": \"75\", \"train_train_wall\": \"213\", \"train_wall\": \"1787\"}\r\n"
     ]
    },
    {
     "name": "stdout",
     "output_type": "stream",
     "text": [
      "[2021-06-08 17:47:45,702][fairseq.trainer][INFO] - begin training epoch 5203\r\n",
      "[2021-06-08 17:47:45,704][fairseq_cli.train][INFO] - Start iterating over samples\r\n"
     ]
    },
    {
     "name": "stdout",
     "output_type": "stream",
     "text": [
      "[2021-06-08 17:51:18,277][fairseq_cli.train][INFO] - begin validation on \"valid\" subset\r\n"
     ]
    },
    {
     "name": "stdout",
     "output_type": "stream",
     "text": [
      "[2021-06-08 17:51:20,582][fairseq.tasks.unpaired_audio_text][INFO] - REF: ɛ n f œ ʂ ə n a d ɵ ʂ ə k t f øː r d eː t s ɔ m h ɛ n d ə p oː ɕ œ r k ɔ n s ɛ t ə n\r\n",
      "[2021-06-08 17:51:20,584][fairseq.tasks.unpaired_audio_text][INFO] - HYP: n ɪ n s j œ r œ j b j uː yː k ə uː f ɵ j m ə m œ k ə uː s eː r n v oː s l ɪ ŋ k ɪ l s œ m k n t a\r\n",
      "[2021-06-08 17:51:20,588][fairseq.tasks.unpaired_audio_text][INFO] - LM [REF]: -53.44462585449219, 0.05339602260269112\r\n",
      "[2021-06-08 17:51:20,588][fairseq.tasks.unpaired_audio_text][INFO] - LM [HYP]: -86.51856994628906, 0.014427110655938503\r\n"
     ]
    },
    {
     "name": "stdout",
     "output_type": "stream",
     "text": [
      "[2021-06-08 17:51:21,059][valid][INFO] - {\"epoch\": 5203, \"valid_loss\": \"1.007\", \"valid_ntokens\": \"3039.79\", \"valid_nsentences\": \"144.214\", \"valid_lm_score_sum\": \"-90162.1\", \"valid_num_pred_chars\": \"48715\", \"valid_vocab_seen_pct\": \"0.888502\", \"valid_uer\": \"100.688\", \"valid_weighted_lm_ppl\": \"75.8294\", \"valid_lm_ppl\": \"59.8624\", \"valid_wps\": \"19579.4\", \"valid_wpb\": \"3039.8\", \"valid_bsz\": \"144.2\", \"valid_num_updates\": \"83248\", \"valid_best_weighted_lm_ppl\": \"73.0296\"}\r\n",
      "[2021-06-08 17:51:21,062][fairseq.checkpoint_utils][INFO] - Preparing to save checkpoint for epoch 5203 @ 83248 updates\r\n",
      "[2021-06-08 17:51:21,063][fairseq.trainer][INFO] - Saving checkpoint to /kaggle/working/checkpoint_last.pt\r\n"
     ]
    },
    {
     "name": "stdout",
     "output_type": "stream",
     "text": [
      "[2021-06-08 17:51:21,105][fairseq.trainer][INFO] - Finished saving checkpoint to /kaggle/working/checkpoint_last.pt\r\n",
      "[2021-06-08 17:51:21,105][fairseq.checkpoint_utils][INFO] - Saved checkpoint /kaggle/working/checkpoint_last.pt (epoch 5203 @ 83248 updates, score 75.82938194261084) (writing took 0.042889225000180886 seconds)\r\n",
      "[2021-06-08 17:51:21,105][fairseq_cli.train][INFO] - end of epoch 5203 (average epoch stats below)\r\n",
      "[2021-06-08 17:51:21,108][train][INFO] - {\"epoch\": 5203, \"train_loss\": \"3.39\", \"train_ntokens\": \"145.688\", \"train_nsentences\": \"145.688\", \"train_temp\": \"0.1\", \"train_code_ppl\": \"8.573\", \"train_loss_code_pen\": \"0.306\", \"train_loss_smoothness\": \"2.006\", \"train_loss_dense_g\": \"4.119\", \"train_lm_score_sum\": 0.0, \"train_num_pred_chars\": 0.0, \"train_loss_grad_pen\": \"0.065\", \"train_loss_dense_d\": \"0.024\", \"train_loss_token_d\": \"0.029\", \"train_wps\": \"10.8\", \"train_ups\": \"0.07\", \"train_wpb\": \"145.7\", \"train_bsz\": \"145.7\", \"train_num_updates\": \"83248\", \"train_lr_discriminator\": \"0.0005\", \"train_lr_generator\": \"0.0004\", \"train_gnorm\": \"36.865\", \"train_clip\": \"75\", \"train_train_wall\": \"212\", \"train_wall\": \"2002\"}\r\n"
     ]
    },
    {
     "name": "stdout",
     "output_type": "stream",
     "text": [
      "[2021-06-08 17:51:21,161][fairseq.trainer][INFO] - begin training epoch 5204\r\n",
      "[2021-06-08 17:51:21,162][fairseq_cli.train][INFO] - Start iterating over samples\r\n"
     ]
    },
    {
     "name": "stdout",
     "output_type": "stream",
     "text": [
      "[2021-06-08 17:55:10,906][fairseq_cli.train][INFO] - begin validation on \"valid\" subset\r\n"
     ]
    },
    {
     "name": "stdout",
     "output_type": "stream",
     "text": [
      "[2021-06-08 17:55:13,438][fairseq.tasks.unpaired_audio_text][INFO] - REF: ɛ n f œ ʂ ə n a d ɵ ʂ ə k t f øː r d eː t s ɔ m h ɛ n d ə p oː ɕ œ r k ɔ n s ɛ t ə n\r\n",
      "[2021-06-08 17:55:13,441][fairseq.tasks.unpaired_audio_text][INFO] - HYP: n ɪ n s j œ r œ j b j uː yː k uː ɵ œ j ə m œ k b ə uː s eː r n v oː s l ɪ ŋ k ɪ l s œ uː m k n t a\r\n",
      "[2021-06-08 17:55:13,444][fairseq.tasks.unpaired_audio_text][INFO] - LM [REF]: -53.44462585449219, 0.05339602260269112\r\n",
      "[2021-06-08 17:55:13,445][fairseq.tasks.unpaired_audio_text][INFO] - LM [HYP]: -86.74446868896484, 0.014268325446749022\r\n"
     ]
    },
    {
     "name": "stdout",
     "output_type": "stream",
     "text": [
      "[2021-06-08 17:55:13,912][valid][INFO] - {\"epoch\": 5204, \"valid_loss\": \"1.003\", \"valid_ntokens\": \"3039.79\", \"valid_nsentences\": \"144.214\", \"valid_lm_score_sum\": \"-89679.5\", \"valid_num_pred_chars\": \"48381\", \"valid_vocab_seen_pct\": \"0.897213\", \"valid_uer\": \"100.254\", \"valid_weighted_lm_ppl\": \"74.7419\", \"valid_lm_ppl\": \"60.1665\", \"valid_wps\": \"19038\", \"valid_wpb\": \"3039.8\", \"valid_bsz\": \"144.2\", \"valid_num_updates\": \"83264\", \"valid_best_weighted_lm_ppl\": \"73.0296\"}\r\n",
      "[2021-06-08 17:55:13,914][fairseq.checkpoint_utils][INFO] - Preparing to save checkpoint for epoch 5204 @ 83264 updates\r\n",
      "[2021-06-08 17:55:13,915][fairseq.trainer][INFO] - Saving checkpoint to /kaggle/working/checkpoint_last.pt\r\n"
     ]
    },
    {
     "name": "stdout",
     "output_type": "stream",
     "text": [
      "[2021-06-08 17:55:13,961][fairseq.trainer][INFO] - Finished saving checkpoint to /kaggle/working/checkpoint_last.pt\r\n",
      "[2021-06-08 17:55:13,961][fairseq.checkpoint_utils][INFO] - Saved checkpoint /kaggle/working/checkpoint_last.pt (epoch 5204 @ 83264 updates, score 74.7419131404032) (writing took 0.04687627200019051 seconds)\r\n",
      "[2021-06-08 17:55:13,962][fairseq_cli.train][INFO] - end of epoch 5204 (average epoch stats below)\r\n",
      "[2021-06-08 17:55:13,965][train][INFO] - {\"epoch\": 5204, \"train_loss\": \"3.325\", \"train_ntokens\": \"145.688\", \"train_nsentences\": \"145.688\", \"train_temp\": \"0.1\", \"train_code_ppl\": \"8.683\", \"train_loss_code_pen\": \"0.332\", \"train_loss_smoothness\": \"2.109\", \"train_loss_dense_g\": \"4.259\", \"train_lm_score_sum\": 0.0, \"train_num_pred_chars\": 0.0, \"train_loss_grad_pen\": \"0.122\", \"train_loss_dense_d\": \"0.033\", \"train_loss_token_d\": \"0.031\", \"train_wps\": \"10\", \"train_ups\": \"0.07\", \"train_wpb\": \"145.7\", \"train_bsz\": \"145.7\", \"train_num_updates\": \"83264\", \"train_lr_discriminator\": \"0.0005\", \"train_lr_generator\": \"0.0004\", \"train_gnorm\": \"31.512\", \"train_clip\": \"100\", \"train_train_wall\": \"229\", \"train_wall\": \"2235\"}\r\n"
     ]
    },
    {
     "name": "stdout",
     "output_type": "stream",
     "text": [
      "[2021-06-08 17:55:14,025][fairseq.trainer][INFO] - begin training epoch 5205\r\n",
      "[2021-06-08 17:55:14,026][fairseq_cli.train][INFO] - Start iterating over samples\r\n"
     ]
    },
    {
     "name": "stdout",
     "output_type": "stream",
     "text": [
      "[2021-06-08 17:58:42,742][fairseq_cli.train][INFO] - begin validation on \"valid\" subset\r\n"
     ]
    },
    {
     "name": "stdout",
     "output_type": "stream",
     "text": [
      "[2021-06-08 17:58:44,930][fairseq.tasks.unpaired_audio_text][INFO] - REF: ɛ n f œ ʂ ə n a d ɵ ʂ ə k t f øː r d eː t s ɔ m h ɛ n d ə p oː ɕ œ r k ɔ n s ɛ t ə n\r\n",
      "[2021-06-08 17:58:44,933][fairseq.tasks.unpaired_audio_text][INFO] - HYP: n ɪ s j œ r œ j b j uː yː k j uː f œ j m b ə m œ k b ə uː s eː r n ɛ oː s l ɪ ŋ k l ɪ l s œ uː m t n t a\r\n",
      "[2021-06-08 17:58:44,938][fairseq.tasks.unpaired_audio_text][INFO] - LM [REF]: -53.44462585449219, 0.05339602260269112\r\n",
      "[2021-06-08 17:58:44,938][fairseq.tasks.unpaired_audio_text][INFO] - LM [HYP]: -92.78826141357422, 0.013939101218691654\r\n"
     ]
    },
    {
     "name": "stdout",
     "output_type": "stream",
     "text": [
      "[2021-06-08 17:58:45,366][valid][INFO] - {\"epoch\": 5205, \"valid_loss\": \"1.006\", \"valid_ntokens\": \"3039.79\", \"valid_nsentences\": \"144.214\", \"valid_lm_score_sum\": \"-90040.3\", \"valid_num_pred_chars\": \"48635\", \"valid_vocab_seen_pct\": \"0.88676\", \"valid_uer\": \"100.564\", \"valid_weighted_lm_ppl\": \"76.1981\", \"valid_lm_ppl\": \"59.9178\", \"valid_wps\": \"20598.1\", \"valid_wpb\": \"3039.8\", \"valid_bsz\": \"144.2\", \"valid_num_updates\": \"83280\", \"valid_best_weighted_lm_ppl\": \"73.0296\"}\r\n",
      "[2021-06-08 17:58:45,369][fairseq.checkpoint_utils][INFO] - Preparing to save checkpoint for epoch 5205 @ 83280 updates\r\n",
      "[2021-06-08 17:58:45,370][fairseq.trainer][INFO] - Saving checkpoint to /kaggle/working/checkpoint_last.pt\r\n"
     ]
    },
    {
     "name": "stdout",
     "output_type": "stream",
     "text": [
      "[2021-06-08 17:58:45,411][fairseq.trainer][INFO] - Finished saving checkpoint to /kaggle/working/checkpoint_last.pt\r\n",
      "[2021-06-08 17:58:45,411][fairseq.checkpoint_utils][INFO] - Saved checkpoint /kaggle/working/checkpoint_last.pt (epoch 5205 @ 83280 updates, score 76.19814097461828) (writing took 0.04212427499987825 seconds)\r\n",
      "[2021-06-08 17:58:45,411][fairseq_cli.train][INFO] - end of epoch 5205 (average epoch stats below)\r\n",
      "[2021-06-08 17:58:45,414][train][INFO] - {\"epoch\": 5205, \"train_loss\": \"2.958\", \"train_ntokens\": \"145.688\", \"train_nsentences\": \"145.688\", \"train_temp\": \"0.1\", \"train_code_ppl\": \"8.474\", \"train_loss_code_pen\": \"0.316\", \"train_loss_smoothness\": \"2.023\", \"train_loss_dense_g\": \"4.102\", \"train_lm_score_sum\": 0.0, \"train_num_pred_chars\": 0.0, \"train_loss_grad_pen\": \"0.052\", \"train_loss_dense_d\": \"0.024\", \"train_loss_token_d\": \"0.022\", \"train_wps\": \"11\", \"train_ups\": \"0.08\", \"train_wpb\": \"145.7\", \"train_bsz\": \"145.7\", \"train_num_updates\": \"83280\", \"train_lr_discriminator\": \"0.0005\", \"train_lr_generator\": \"0.0004\", \"train_gnorm\": \"29.451\", \"train_clip\": \"75\", \"train_train_wall\": \"208\", \"train_wall\": \"2447\"}\r\n"
     ]
    },
    {
     "name": "stdout",
     "output_type": "stream",
     "text": [
      "[2021-06-08 17:58:45,463][fairseq.trainer][INFO] - begin training epoch 5206\r\n",
      "[2021-06-08 17:58:45,464][fairseq_cli.train][INFO] - Start iterating over samples\r\n"
     ]
    },
    {
     "name": "stdout",
     "output_type": "stream",
     "text": [
      "[2021-06-08 18:01:59,506][fairseq_cli.train][INFO] - begin validation on \"valid\" subset\r\n"
     ]
    },
    {
     "name": "stdout",
     "output_type": "stream",
     "text": [
      "[2021-06-08 18:02:01,627][fairseq.tasks.unpaired_audio_text][INFO] - REF: ɛ n f œ ʂ ə n a d ɵ ʂ ə k t f øː r d eː t s ɔ m h ɛ n d ə p oː ɕ œ r k ɔ n s ɛ t ə n\r\n",
      "[2021-06-08 18:02:01,629][fairseq.tasks.unpaired_audio_text][INFO] - HYP: n ɪ s j œ r œ j b j uː yː k j uː f ɵ j m b ə m œ k b ə uː s eː r n ɛ oː s l ɪ ŋ k ɪ l s œ uː m k n t a\r\n",
      "[2021-06-08 18:02:01,633][fairseq.tasks.unpaired_audio_text][INFO] - LM [REF]: -53.44462585449219, 0.05339602260269112\r\n",
      "[2021-06-08 18:02:01,633][fairseq.tasks.unpaired_audio_text][INFO] - LM [HYP]: -92.24999237060547, 0.013102286584939544\r\n"
     ]
    },
    {
     "name": "stdout",
     "output_type": "stream",
     "text": [
      "[2021-06-08 18:02:02,055][valid][INFO] - {\"epoch\": 5206, \"valid_loss\": \"1.005\", \"valid_ntokens\": \"3039.79\", \"valid_nsentences\": \"144.214\", \"valid_lm_score_sum\": \"-90001.5\", \"valid_num_pred_chars\": \"48625\", \"valid_vocab_seen_pct\": \"0.888502\", \"valid_uer\": \"100.55\", \"valid_weighted_lm_ppl\": \"75.827\", \"valid_lm_ppl\": \"59.8605\", \"valid_wps\": \"21805.7\", \"valid_wpb\": \"3039.8\", \"valid_bsz\": \"144.2\", \"valid_num_updates\": \"83296\", \"valid_best_weighted_lm_ppl\": \"73.0296\"}\r\n",
      "[2021-06-08 18:02:02,058][fairseq.checkpoint_utils][INFO] - Preparing to save checkpoint for epoch 5206 @ 83296 updates\r\n",
      "[2021-06-08 18:02:02,059][fairseq.trainer][INFO] - Saving checkpoint to /kaggle/working/checkpoint_last.pt\r\n"
     ]
    },
    {
     "name": "stdout",
     "output_type": "stream",
     "text": [
      "[2021-06-08 18:02:02,097][fairseq.trainer][INFO] - Finished saving checkpoint to /kaggle/working/checkpoint_last.pt\r\n",
      "[2021-06-08 18:02:02,098][fairseq.checkpoint_utils][INFO] - Saved checkpoint /kaggle/working/checkpoint_last.pt (epoch 5206 @ 83296 updates, score 75.82704074362647) (writing took 0.03992329999982758 seconds)\r\n",
      "[2021-06-08 18:02:02,098][fairseq_cli.train][INFO] - end of epoch 5206 (average epoch stats below)\r\n",
      "[2021-06-08 18:02:02,101][train][INFO] - {\"epoch\": 5206, \"train_loss\": \"3.206\", \"train_ntokens\": \"145.688\", \"train_nsentences\": \"145.688\", \"train_temp\": \"0.1\", \"train_code_ppl\": \"8.518\", \"train_loss_code_pen\": \"0.312\", \"train_loss_smoothness\": \"2.032\", \"train_loss_dense_g\": \"4.19\", \"train_lm_score_sum\": 0.0, \"train_num_pred_chars\": 0.0, \"train_loss_grad_pen\": \"0.069\", \"train_loss_dense_d\": \"0.023\", \"train_loss_token_d\": \"0.02\", \"train_wps\": \"11.9\", \"train_ups\": \"0.08\", \"train_wpb\": \"145.7\", \"train_bsz\": \"145.7\", \"train_num_updates\": \"83296\", \"train_lr_discriminator\": \"0.0005\", \"train_lr_generator\": \"0.0004\", \"train_gnorm\": \"29.819\", \"train_clip\": \"75\", \"train_train_wall\": \"194\", \"train_wall\": \"2643\"}\r\n"
     ]
    },
    {
     "name": "stdout",
     "output_type": "stream",
     "text": [
      "[2021-06-08 18:02:02,146][fairseq.trainer][INFO] - begin training epoch 5207\r\n",
      "[2021-06-08 18:02:02,147][fairseq_cli.train][INFO] - Start iterating over samples\r\n"
     ]
    },
    {
     "name": "stdout",
     "output_type": "stream",
     "text": [
      "[2021-06-08 18:02:45,783][train_inner][INFO] - {\"epoch\": 5207, \"update\": 5206.25, \"loss\": \"3.33\", \"ntokens\": \"145.54\", \"nsentences\": \"145.54\", \"temp\": \"0.1\", \"code_ppl\": \"8.587\", \"loss_code_pen\": \"0.319\", \"loss_smoothness\": \"2.057\", \"loss_dense_g\": \"4.122\", \"lm_score_sum\": 0.0, \"num_pred_chars\": 0.0, \"loss_grad_pen\": \"0.079\", \"loss_dense_d\": \"0.026\", \"loss_token_d\": \"0.026\", \"wps\": \"11\", \"ups\": \"0.08\", \"wpb\": \"145.5\", \"bsz\": \"145.5\", \"num_updates\": \"83300\", \"lr_discriminator\": \"0.0005\", \"lr_generator\": \"0.0004\", \"gnorm\": \"31.504\", \"clip\": \"78\", \"train_wall\": \"1304\", \"wall\": \"2687\"}\r\n"
     ]
    },
    {
     "name": "stdout",
     "output_type": "stream",
     "text": [
      "[2021-06-08 18:05:30,609][fairseq_cli.train][INFO] - begin validation on \"valid\" subset\r\n"
     ]
    },
    {
     "name": "stdout",
     "output_type": "stream",
     "text": [
      "[2021-06-08 18:05:32,827][fairseq.tasks.unpaired_audio_text][INFO] - REF: ɛ n f œ ʂ ə n a d ɵ ʂ ə k t f øː r d eː t s ɔ m h ɛ n d ə p oː ɕ œ r k ɔ n s ɛ t ə n\r\n",
      "[2021-06-08 18:05:32,829][fairseq.tasks.unpaired_audio_text][INFO] - HYP: n ɪ n s j œ r œ j b j uː yː k j uː f œ j ə m œ k b ə uː s eː r n ɛ oː s l ɪ ŋ k ɪ l s œ uː m a n t a\r\n",
      "[2021-06-08 18:05:32,833][fairseq.tasks.unpaired_audio_text][INFO] - LM [REF]: -53.44462585449219, 0.05339602260269112\r\n",
      "[2021-06-08 18:05:32,833][fairseq.tasks.unpaired_audio_text][INFO] - LM [HYP]: -84.57614135742188, 0.017298046293884328\r\n"
     ]
    },
    {
     "name": "stdout",
     "output_type": "stream",
     "text": [
      "[2021-06-08 18:05:33,278][valid][INFO] - {\"epoch\": 5207, \"valid_loss\": \"1.004\", \"valid_ntokens\": \"3039.79\", \"valid_nsentences\": \"144.214\", \"valid_lm_score_sum\": \"-89854.4\", \"valid_num_pred_chars\": \"48524\", \"valid_vocab_seen_pct\": \"0.883275\", \"valid_uer\": \"100.437\", \"valid_weighted_lm_ppl\": \"76.8404\", \"valid_lm_ppl\": \"59.949\", \"valid_wps\": \"20377.5\", \"valid_wpb\": \"3039.8\", \"valid_bsz\": \"144.2\", \"valid_num_updates\": \"83312\", \"valid_best_weighted_lm_ppl\": \"73.0296\"}\r\n",
      "[2021-06-08 18:05:33,281][fairseq.checkpoint_utils][INFO] - Preparing to save checkpoint for epoch 5207 @ 83312 updates\r\n",
      "[2021-06-08 18:05:33,282][fairseq.trainer][INFO] - Saving checkpoint to /kaggle/working/checkpoint_last.pt\r\n"
     ]
    },
    {
     "name": "stdout",
     "output_type": "stream",
     "text": [
      "[2021-06-08 18:05:33,321][fairseq.trainer][INFO] - Finished saving checkpoint to /kaggle/working/checkpoint_last.pt\r\n",
      "[2021-06-08 18:05:33,321][fairseq.checkpoint_utils][INFO] - Saved checkpoint /kaggle/working/checkpoint_last.pt (epoch 5207 @ 83312 updates, score 76.84042323800229) (writing took 0.040197074000388966 seconds)\r\n",
      "[2021-06-08 18:05:33,321][fairseq_cli.train][INFO] - end of epoch 5207 (average epoch stats below)\r\n",
      "[2021-06-08 18:05:33,324][train][INFO] - {\"epoch\": 5207, \"train_loss\": \"3.403\", \"train_ntokens\": \"145.688\", \"train_nsentences\": \"145.688\", \"train_temp\": \"0.1\", \"train_code_ppl\": \"8.572\", \"train_loss_code_pen\": \"0.335\", \"train_loss_smoothness\": \"2.108\", \"train_loss_dense_g\": \"4.448\", \"train_lm_score_sum\": 0.0, \"train_num_pred_chars\": 0.0, \"train_loss_grad_pen\": \"0.115\", \"train_loss_dense_d\": \"0.021\", \"train_loss_token_d\": \"0.025\", \"train_wps\": \"11\", \"train_ups\": \"0.08\", \"train_wpb\": \"145.7\", \"train_bsz\": \"145.7\", \"train_num_updates\": \"83312\", \"train_lr_discriminator\": \"0.0005\", \"train_lr_generator\": \"0.0004\", \"train_gnorm\": \"31.587\", \"train_clip\": \"87.5\", \"train_train_wall\": \"208\", \"train_wall\": \"2854\"}\r\n"
     ]
    },
    {
     "name": "stdout",
     "output_type": "stream",
     "text": [
      "[2021-06-08 18:05:33,371][fairseq.trainer][INFO] - begin training epoch 5208\r\n",
      "[2021-06-08 18:05:33,372][fairseq_cli.train][INFO] - Start iterating over samples\r\n"
     ]
    },
    {
     "name": "stdout",
     "output_type": "stream",
     "text": [
      "[2021-06-08 18:08:27,228][fairseq_cli.train][INFO] - begin validation on \"valid\" subset\r\n"
     ]
    },
    {
     "name": "stdout",
     "output_type": "stream",
     "text": [
      "[2021-06-08 18:08:29,385][fairseq.tasks.unpaired_audio_text][INFO] - REF: ɛ n f œ ʂ ə n a d ɵ ʂ ə k t f øː r d eː t s ɔ m h ɛ n d ə p oː ɕ œ r k ɔ n s ɛ t ə n\r\n",
      "[2021-06-08 18:08:29,387][fairseq.tasks.unpaired_audio_text][INFO] - HYP: n ɪ s j œ r œ j b j uː yː k j f ɵ j ə m œ k b ə uː s eː r n ɛ oː s l ɪ ŋ k ɪ l a s œ uː m a n t a\r\n",
      "[2021-06-08 18:08:29,390][fairseq.tasks.unpaired_audio_text][INFO] - LM [REF]: -53.44462585449219, 0.05339602260269112\r\n",
      "[2021-06-08 18:08:29,390][fairseq.tasks.unpaired_audio_text][INFO] - LM [HYP]: -83.96379852294922, 0.01635069440513476\r\n"
     ]
    },
    {
     "name": "stdout",
     "output_type": "stream",
     "text": [
      "[2021-06-08 18:08:29,805][valid][INFO] - {\"epoch\": 5208, \"valid_loss\": \"1.005\", \"valid_ntokens\": \"3039.79\", \"valid_nsentences\": \"144.214\", \"valid_lm_score_sum\": \"-89944.1\", \"valid_num_pred_chars\": \"48689\", \"valid_vocab_seen_pct\": \"0.878049\", \"valid_uer\": \"100.484\", \"valid_weighted_lm_ppl\": \"77.0422\", \"valid_lm_ppl\": \"59.3972\", \"valid_wps\": \"21764.1\", \"valid_wpb\": \"3039.8\", \"valid_bsz\": \"144.2\", \"valid_num_updates\": \"83328\", \"valid_best_weighted_lm_ppl\": \"73.0296\"}\r\n",
      "[2021-06-08 18:08:29,807][fairseq.checkpoint_utils][INFO] - Preparing to save checkpoint for epoch 5208 @ 83328 updates\r\n"
     ]
    },
    {
     "name": "stdout",
     "output_type": "stream",
     "text": [
      "[2021-06-08 18:08:29,808][fairseq.trainer][INFO] - Saving checkpoint to /kaggle/working/checkpoint_last.pt\r\n",
      "[2021-06-08 18:08:29,846][fairseq.trainer][INFO] - Finished saving checkpoint to /kaggle/working/checkpoint_last.pt\r\n",
      "[2021-06-08 18:08:29,846][fairseq.checkpoint_utils][INFO] - Saved checkpoint /kaggle/working/checkpoint_last.pt (epoch 5208 @ 83328 updates, score 77.04217763447213) (writing took 0.03908467600012955 seconds)\r\n",
      "[2021-06-08 18:08:29,847][fairseq_cli.train][INFO] - end of epoch 5208 (average epoch stats below)\r\n",
      "[2021-06-08 18:08:29,849][train][INFO] - {\"epoch\": 5208, \"train_loss\": \"3.672\", \"train_ntokens\": \"145.688\", \"train_nsentences\": \"145.688\", \"train_temp\": \"0.1\", \"train_code_ppl\": \"8.544\", \"train_loss_code_pen\": \"0.313\", \"train_loss_smoothness\": \"2.055\", \"train_loss_dense_g\": \"4.211\", \"train_lm_score_sum\": 0.0, \"train_num_pred_chars\": 0.0, \"train_loss_grad_pen\": \"0.088\", \"train_loss_dense_d\": \"0.021\", \"train_loss_token_d\": \"0.021\", \"train_wps\": \"13.2\", \"train_ups\": \"0.09\", \"train_wpb\": \"145.7\", \"train_bsz\": \"145.7\", \"train_num_updates\": \"83328\", \"train_lr_discriminator\": \"0.0005\", \"train_lr_generator\": \"0.0004\", \"train_gnorm\": \"31.103\", \"train_clip\": \"75\", \"train_train_wall\": \"173\", \"train_wall\": \"3031\"}\r\n"
     ]
    },
    {
     "name": "stdout",
     "output_type": "stream",
     "text": [
      "[2021-06-08 18:08:29,898][fairseq.trainer][INFO] - begin training epoch 5209\r\n",
      "[2021-06-08 18:08:29,899][fairseq_cli.train][INFO] - Start iterating over samples\r\n"
     ]
    },
    {
     "name": "stdout",
     "output_type": "stream",
     "text": [
      "[2021-06-08 18:11:51,242][fairseq_cli.train][INFO] - begin validation on \"valid\" subset\r\n"
     ]
    },
    {
     "name": "stdout",
     "output_type": "stream",
     "text": [
      "[2021-06-08 18:11:53,337][fairseq.tasks.unpaired_audio_text][INFO] - REF: ɛ n f œ ʂ ə n a d ɵ ʂ ə k t f øː r d eː t s ɔ m h ɛ n d ə p oː ɕ œ r k ɔ n s ɛ t ə n\r\n",
      "[2021-06-08 18:11:53,339][fairseq.tasks.unpaired_audio_text][INFO] - HYP: n ɪ s j œ r œ j b j uː m yː k j uː f ɵ øː j m ə m œ k b ə uː s eː r n ɛ oː n l ɪ ŋ k ɪ l a s œ uː m k n t a\r\n",
      "[2021-06-08 18:11:53,342][fairseq.tasks.unpaired_audio_text][INFO] - LM [REF]: -53.44462585449219, 0.05339602260269112\r\n",
      "[2021-06-08 18:11:53,342][fairseq.tasks.unpaired_audio_text][INFO] - LM [HYP]: -94.8088150024414, 0.013835779351258517\r\n"
     ]
    },
    {
     "name": "stdout",
     "output_type": "stream",
     "text": [
      "[2021-06-08 18:11:53,765][valid][INFO] - {\"epoch\": 5209, \"valid_loss\": \"1.005\", \"valid_ntokens\": \"3039.79\", \"valid_nsentences\": \"144.214\", \"valid_lm_score_sum\": \"-90035.1\", \"valid_num_pred_chars\": \"48668\", \"valid_vocab_seen_pct\": \"0.888502\", \"valid_uer\": \"100.55\", \"valid_weighted_lm_ppl\": \"75.6796\", \"valid_lm_ppl\": \"59.7441\", \"valid_wps\": \"21701.5\", \"valid_wpb\": \"3039.8\", \"valid_bsz\": \"144.2\", \"valid_num_updates\": \"83344\", \"valid_best_weighted_lm_ppl\": \"73.0296\"}\r\n",
      "[2021-06-08 18:11:53,767][fairseq.checkpoint_utils][INFO] - Preparing to save checkpoint for epoch 5209 @ 83344 updates\r\n",
      "[2021-06-08 18:11:53,768][fairseq.trainer][INFO] - Saving checkpoint to /kaggle/working/checkpoint_last.pt\r\n"
     ]
    },
    {
     "name": "stdout",
     "output_type": "stream",
     "text": [
      "[2021-06-08 18:11:53,808][fairseq.trainer][INFO] - Finished saving checkpoint to /kaggle/working/checkpoint_last.pt\r\n",
      "[2021-06-08 18:11:53,808][fairseq.checkpoint_utils][INFO] - Saved checkpoint /kaggle/working/checkpoint_last.pt (epoch 5209 @ 83344 updates, score 75.67957694653919) (writing took 0.040509595000003173 seconds)\r\n",
      "[2021-06-08 18:11:53,808][fairseq_cli.train][INFO] - end of epoch 5209 (average epoch stats below)\r\n",
      "[2021-06-08 18:11:53,811][train][INFO] - {\"epoch\": 5209, \"train_loss\": \"3.318\", \"train_ntokens\": \"145.688\", \"train_nsentences\": \"145.688\", \"train_temp\": \"0.1\", \"train_code_ppl\": \"8.587\", \"train_loss_code_pen\": \"0.332\", \"train_loss_smoothness\": \"2.112\", \"train_loss_dense_g\": \"4.333\", \"train_lm_score_sum\": 0.0, \"train_num_pred_chars\": 0.0, \"train_loss_grad_pen\": \"0.059\", \"train_loss_dense_d\": \"0.021\", \"train_loss_token_d\": \"0.021\", \"train_wps\": \"11.4\", \"train_ups\": \"0.08\", \"train_wpb\": \"145.7\", \"train_bsz\": \"145.7\", \"train_num_updates\": \"83344\", \"train_lr_discriminator\": \"0.0005\", \"train_lr_generator\": \"0.0004\", \"train_gnorm\": \"29.918\", \"train_clip\": \"68.8\", \"train_train_wall\": \"201\", \"train_wall\": \"3235\"}\r\n"
     ]
    },
    {
     "name": "stdout",
     "output_type": "stream",
     "text": [
      "[2021-06-08 18:11:53,861][fairseq.trainer][INFO] - begin training epoch 5210\r\n",
      "[2021-06-08 18:11:53,863][fairseq_cli.train][INFO] - Start iterating over samples\r\n"
     ]
    },
    {
     "name": "stdout",
     "output_type": "stream",
     "text": [
      "[2021-06-08 18:14:58,591][fairseq_cli.train][INFO] - begin validation on \"valid\" subset\r\n"
     ]
    },
    {
     "name": "stdout",
     "output_type": "stream",
     "text": [
      "[2021-06-08 18:15:00,743][fairseq.tasks.unpaired_audio_text][INFO] - REF: ɛ n f œ ʂ ə n a d ɵ ʂ ə k t f øː r d eː t s ɔ m h ɛ n d ə p oː ɕ œ r k ɔ n s ɛ t ə n\r\n",
      "[2021-06-08 18:15:00,745][fairseq.tasks.unpaired_audio_text][INFO] - HYP: n ɪ s j œ r œ j b j uː m yː k uː f œ j m ə m ɔ k b ə uː s eː r n ɛ oː n l ɪ ŋ k ɪ l a s œ uː m a n t a\r\n",
      "[2021-06-08 18:15:00,749][fairseq.tasks.unpaired_audio_text][INFO] - LM [REF]: -53.44462585449219, 0.05339602260269112\r\n",
      "[2021-06-08 18:15:00,749][fairseq.tasks.unpaired_audio_text][INFO] - LM [HYP]: -84.38349151611328, 0.01896216530371247\r\n"
     ]
    },
    {
     "name": "stdout",
     "output_type": "stream",
     "text": [
      "[2021-06-08 18:15:01,190][valid][INFO] - {\"epoch\": 5210, \"valid_loss\": \"1.004\", \"valid_ntokens\": \"3039.79\", \"valid_nsentences\": \"144.214\", \"valid_lm_score_sum\": \"-89975.6\", \"valid_num_pred_chars\": \"48644\", \"valid_vocab_seen_pct\": \"0.883275\", \"valid_uer\": \"100.407\", \"valid_weighted_lm_ppl\": \"76.5191\", \"valid_lm_ppl\": \"59.6983\", \"valid_wps\": \"20803.7\", \"valid_wpb\": \"3039.8\", \"valid_bsz\": \"144.2\", \"valid_num_updates\": \"83360\", \"valid_best_weighted_lm_ppl\": \"73.0296\"}\r\n",
      "[2021-06-08 18:15:01,193][fairseq.checkpoint_utils][INFO] - Preparing to save checkpoint for epoch 5210 @ 83360 updates\r\n",
      "[2021-06-08 18:15:01,194][fairseq.trainer][INFO] - Saving checkpoint to /kaggle/working/checkpoint_last.pt\r\n"
     ]
    },
    {
     "name": "stdout",
     "output_type": "stream",
     "text": [
      "[2021-06-08 18:15:01,234][fairseq.trainer][INFO] - Finished saving checkpoint to /kaggle/working/checkpoint_last.pt\r\n",
      "[2021-06-08 18:15:01,235][fairseq.checkpoint_utils][INFO] - Saved checkpoint /kaggle/working/checkpoint_last.pt (epoch 5210 @ 83360 updates, score 76.51906039615892) (writing took 0.041753703999347636 seconds)\r\n",
      "[2021-06-08 18:15:01,235][fairseq_cli.train][INFO] - end of epoch 5210 (average epoch stats below)\r\n",
      "[2021-06-08 18:15:01,237][train][INFO] - {\"epoch\": 5210, \"train_loss\": \"3.898\", \"train_ntokens\": \"145.688\", \"train_nsentences\": \"145.688\", \"train_temp\": \"0.1\", \"train_code_ppl\": \"8.606\", \"train_loss_code_pen\": \"0.342\", \"train_loss_smoothness\": \"2.164\", \"train_loss_dense_g\": \"4.399\", \"train_lm_score_sum\": 0.0, \"train_num_pred_chars\": 0.0, \"train_loss_grad_pen\": \"0.19\", \"train_loss_dense_d\": \"0.023\", \"train_loss_token_d\": \"0.025\", \"train_wps\": \"12.4\", \"train_ups\": \"0.09\", \"train_wpb\": \"145.7\", \"train_bsz\": \"145.7\", \"train_num_updates\": \"83360\", \"train_lr_discriminator\": \"0.0005\", \"train_lr_generator\": \"0.0004\", \"train_gnorm\": \"36.209\", \"train_clip\": \"81.2\", \"train_train_wall\": \"184\", \"train_wall\": \"3422\"}\r\n"
     ]
    },
    {
     "name": "stdout",
     "output_type": "stream",
     "text": [
      "[2021-06-08 18:15:01,284][fairseq.trainer][INFO] - begin training epoch 5211\r\n",
      "[2021-06-08 18:15:01,285][fairseq_cli.train][INFO] - Start iterating over samples\r\n"
     ]
    },
    {
     "name": "stdout",
     "output_type": "stream",
     "text": [
      "[2021-06-08 18:18:11,796][fairseq_cli.train][INFO] - begin validation on \"valid\" subset\r\n"
     ]
    },
    {
     "name": "stdout",
     "output_type": "stream",
     "text": [
      "[2021-06-08 18:18:13,916][fairseq.tasks.unpaired_audio_text][INFO] - REF: ɛ n f œ ʂ ə n a d ɵ ʂ ə k t f øː r d eː t s ɔ m h ɛ n d ə p oː ɕ œ r k ɔ n s ɛ t ə n\r\n",
      "[2021-06-08 18:18:13,918][fairseq.tasks.unpaired_audio_text][INFO] - HYP: n ɪ s j œ r œ j b j uː yː k j uː f ɵ j m b ə m œ k b ə uː s eː r n ɛ oː n l ɪ ŋ k ɪ l s œ uː m a n t a\r\n",
      "[2021-06-08 18:18:13,921][fairseq.tasks.unpaired_audio_text][INFO] - LM [REF]: -53.44462585449219, 0.05339602260269112\r\n",
      "[2021-06-08 18:18:13,921][fairseq.tasks.unpaired_audio_text][INFO] - LM [HYP]: -89.67282104492188, 0.014789123228291845\r\n"
     ]
    },
    {
     "name": "stdout",
     "output_type": "stream",
     "text": [
      "[2021-06-08 18:18:14,335][valid][INFO] - {\"epoch\": 5211, \"valid_loss\": \"1.004\", \"valid_ntokens\": \"3039.79\", \"valid_nsentences\": \"144.214\", \"valid_lm_score_sum\": \"-89936.4\", \"valid_num_pred_chars\": \"48639\", \"valid_vocab_seen_pct\": \"0.891986\", \"valid_uer\": \"100.444\", \"valid_weighted_lm_ppl\": \"74.9287\", \"valid_lm_ppl\": \"59.6162\", \"valid_wps\": \"21564.4\", \"valid_wpb\": \"3039.8\", \"valid_bsz\": \"144.2\", \"valid_num_updates\": \"83376\", \"valid_best_weighted_lm_ppl\": \"73.0296\"}\r\n"
     ]
    },
    {
     "name": "stdout",
     "output_type": "stream",
     "text": [
      "[2021-06-08 18:18:14,338][fairseq.checkpoint_utils][INFO] - Preparing to save checkpoint for epoch 5211 @ 83376 updates\r\n",
      "[2021-06-08 18:18:14,339][fairseq.trainer][INFO] - Saving checkpoint to /kaggle/working/checkpoint_last.pt\r\n",
      "[2021-06-08 18:18:14,377][fairseq.trainer][INFO] - Finished saving checkpoint to /kaggle/working/checkpoint_last.pt\r\n",
      "[2021-06-08 18:18:14,377][fairseq.checkpoint_utils][INFO] - Saved checkpoint /kaggle/working/checkpoint_last.pt (epoch 5211 @ 83376 updates, score 74.92869869557367) (writing took 0.038808601999335224 seconds)\r\n",
      "[2021-06-08 18:18:14,377][fairseq_cli.train][INFO] - end of epoch 5211 (average epoch stats below)\r\n",
      "[2021-06-08 18:18:14,379][train][INFO] - {\"epoch\": 5211, \"train_loss\": \"3.547\", \"train_ntokens\": \"145.688\", \"train_nsentences\": \"145.688\", \"train_temp\": \"0.1\", \"train_code_ppl\": \"8.6\", \"train_loss_code_pen\": \"0.32\", \"train_loss_smoothness\": \"2.074\", \"train_loss_dense_g\": \"4.329\", \"train_lm_score_sum\": 0.0, \"train_num_pred_chars\": 0.0, \"train_loss_grad_pen\": \"0.075\", \"train_loss_dense_d\": \"0.03\", \"train_loss_token_d\": \"0.027\", \"train_wps\": \"12.1\", \"train_ups\": \"0.08\", \"train_wpb\": \"145.7\", \"train_bsz\": \"145.7\", \"train_num_updates\": \"83376\", \"train_lr_discriminator\": \"0.0005\", \"train_lr_generator\": \"0.0004\", \"train_gnorm\": \"31.991\", \"train_clip\": \"93.8\", \"train_train_wall\": \"190\", \"train_wall\": \"3616\"}\r\n"
     ]
    },
    {
     "name": "stdout",
     "output_type": "stream",
     "text": [
      "[2021-06-08 18:18:14,424][fairseq.trainer][INFO] - begin training epoch 5212\r\n",
      "[2021-06-08 18:18:14,425][fairseq_cli.train][INFO] - Start iterating over samples\r\n"
     ]
    },
    {
     "name": "stdout",
     "output_type": "stream",
     "text": [
      "[2021-06-08 18:21:17,518][fairseq_cli.train][INFO] - begin validation on \"valid\" subset\r\n"
     ]
    },
    {
     "name": "stdout",
     "output_type": "stream",
     "text": [
      "[2021-06-08 18:21:19,616][fairseq.tasks.unpaired_audio_text][INFO] - REF: ɛ n f œ ʂ ə n a d ɵ ʂ ə k t f øː r d eː t s ɔ m h ɛ n d ə p oː ɕ œ r k ɔ n s ɛ t ə n\r\n",
      "[2021-06-08 18:21:19,618][fairseq.tasks.unpaired_audio_text][INFO] - HYP: n ɪ s j œ r œ j b j uː yː k j uː f œ j m ə m œ k b ə uː s eː r n ɛ oː n l ɪ ŋ k ɪ l s ɔ œ uː m a n t a\r\n",
      "[2021-06-08 18:21:19,621][fairseq.tasks.unpaired_audio_text][INFO] - LM [REF]: -53.44462585449219, 0.05339602260269112\r\n",
      "[2021-06-08 18:21:19,621][fairseq.tasks.unpaired_audio_text][INFO] - LM [HYP]: -88.32447052001953, 0.015756501143244988\r\n"
     ]
    },
    {
     "name": "stdout",
     "output_type": "stream",
     "text": [
      "[2021-06-08 18:21:20,024][valid][INFO] - {\"epoch\": 5212, \"valid_loss\": \"1.006\", \"valid_ntokens\": \"3039.79\", \"valid_nsentences\": \"144.214\", \"valid_lm_score_sum\": \"-90063.9\", \"valid_num_pred_chars\": \"48762\", \"valid_vocab_seen_pct\": \"0.885017\", \"valid_uer\": \"100.59\", \"valid_weighted_lm_ppl\": \"75.8005\", \"valid_lm_ppl\": \"59.3712\", \"valid_wps\": \"22589.8\", \"valid_wpb\": \"3039.8\", \"valid_bsz\": \"144.2\", \"valid_num_updates\": \"83392\", \"valid_best_weighted_lm_ppl\": \"73.0296\"}\r\n",
      "[2021-06-08 18:21:20,026][fairseq.checkpoint_utils][INFO] - Preparing to save checkpoint for epoch 5212 @ 83392 updates\r\n",
      "[2021-06-08 18:21:20,027][fairseq.trainer][INFO] - Saving checkpoint to /kaggle/working/checkpoint_last.pt\r\n"
     ]
    },
    {
     "name": "stdout",
     "output_type": "stream",
     "text": [
      "[2021-06-08 18:21:20,067][fairseq.trainer][INFO] - Finished saving checkpoint to /kaggle/working/checkpoint_last.pt\r\n",
      "[2021-06-08 18:21:20,067][fairseq.checkpoint_utils][INFO] - Saved checkpoint /kaggle/working/checkpoint_last.pt (epoch 5212 @ 83392 updates, score 75.80048055271178) (writing took 0.04051294900000357 seconds)\r\n",
      "[2021-06-08 18:21:20,067][fairseq_cli.train][INFO] - end of epoch 5212 (average epoch stats below)\r\n",
      "[2021-06-08 18:21:20,070][train][INFO] - {\"epoch\": 5212, \"train_loss\": \"3.57\", \"train_ntokens\": \"145.688\", \"train_nsentences\": \"145.688\", \"train_temp\": \"0.1\", \"train_code_ppl\": \"8.642\", \"train_loss_code_pen\": \"0.311\", \"train_loss_smoothness\": \"2.05\", \"train_loss_dense_g\": \"4.323\", \"train_lm_score_sum\": 0.0, \"train_num_pred_chars\": 0.0, \"train_loss_grad_pen\": \"0.138\", \"train_loss_dense_d\": \"0.03\", \"train_loss_token_d\": \"0.051\", \"train_wps\": \"12.6\", \"train_ups\": \"0.09\", \"train_wpb\": \"145.7\", \"train_bsz\": \"145.7\", \"train_num_updates\": \"83392\", \"train_lr_discriminator\": \"0.0005\", \"train_lr_generator\": \"0.0004\", \"train_gnorm\": \"36.389\", \"train_clip\": \"81.2\", \"train_train_wall\": \"183\", \"train_wall\": \"3801\"}\r\n"
     ]
    },
    {
     "name": "stdout",
     "output_type": "stream",
     "text": [
      "[2021-06-08 18:21:20,124][fairseq.trainer][INFO] - begin training epoch 5213\r\n",
      "[2021-06-08 18:21:20,125][fairseq_cli.train][INFO] - Start iterating over samples\r\n"
     ]
    },
    {
     "name": "stdout",
     "output_type": "stream",
     "text": [
      "[2021-06-08 18:22:58,614][train_inner][INFO] - {\"epoch\": 5213, \"update\": 5212.5, \"loss\": \"3.475\", \"ntokens\": \"144.69\", \"nsentences\": \"144.69\", \"temp\": \"0.1\", \"code_ppl\": \"8.58\", \"loss_code_pen\": \"0.323\", \"loss_smoothness\": \"2.084\", \"loss_dense_g\": \"4.312\", \"lm_score_sum\": 0.0, \"num_pred_chars\": 0.0, \"loss_grad_pen\": \"0.109\", \"loss_dense_d\": \"0.024\", \"loss_token_d\": \"0.028\", \"wps\": \"11.9\", \"ups\": \"0.08\", \"wpb\": \"144.7\", \"bsz\": \"144.7\", \"num_updates\": \"83400\", \"lr_discriminator\": \"0.0005\", \"lr_generator\": \"0.0004\", \"gnorm\": \"32.761\", \"clip\": \"81\", \"train_wall\": \"1194\", \"wall\": \"3900\"}\r\n"
     ]
    },
    {
     "name": "stdout",
     "output_type": "stream",
     "text": [
      "[2021-06-08 18:24:37,925][fairseq_cli.train][INFO] - begin validation on \"valid\" subset\r\n"
     ]
    },
    {
     "name": "stdout",
     "output_type": "stream",
     "text": [
      "[2021-06-08 18:24:40,069][fairseq.tasks.unpaired_audio_text][INFO] - REF: ɛ n f œ ʂ ə n a d ɵ ʂ ə k t f øː r d eː t s ɔ m h ɛ n d ə p oː ɕ œ r k ɔ n s ɛ t ə n\r\n",
      "[2021-06-08 18:24:40,071][fairseq.tasks.unpaired_audio_text][INFO] - HYP: n ɪ s j œ r œ j b j uː yː k j uː ɡ ɵ j m ə m œ k ə uː s eː r n ɛ oː s l ɪ ŋ k l ɪ l a s œ uː m t n t a\r\n",
      "[2021-06-08 18:24:40,075][fairseq.tasks.unpaired_audio_text][INFO] - LM [REF]: -53.44462585449219, 0.05339602260269112\r\n",
      "[2021-06-08 18:24:40,075][fairseq.tasks.unpaired_audio_text][INFO] - LM [HYP]: -89.84813690185547, 0.014667785593238263\r\n"
     ]
    },
    {
     "name": "stdout",
     "output_type": "stream",
     "text": [
      "[2021-06-08 18:24:40,483][valid][INFO] - {\"epoch\": 5213, \"valid_loss\": \"1.004\", \"valid_ntokens\": \"3039.79\", \"valid_nsentences\": \"144.214\", \"valid_lm_score_sum\": \"-89858.9\", \"valid_num_pred_chars\": \"48566\", \"valid_vocab_seen_pct\": \"0.879791\", \"valid_uer\": \"100.352\", \"valid_weighted_lm_ppl\": \"77.2032\", \"valid_lm_ppl\": \"59.7578\", \"valid_wps\": \"21245.4\", \"valid_wpb\": \"3039.8\", \"valid_bsz\": \"144.2\", \"valid_num_updates\": \"83408\", \"valid_best_weighted_lm_ppl\": \"73.0296\"}\r\n",
      "[2021-06-08 18:24:40,486][fairseq.checkpoint_utils][INFO] - Preparing to save checkpoint for epoch 5213 @ 83408 updates\r\n",
      "[2021-06-08 18:24:40,487][fairseq.trainer][INFO] - Saving checkpoint to /kaggle/working/checkpoint_last.pt\r\n"
     ]
    },
    {
     "name": "stdout",
     "output_type": "stream",
     "text": [
      "[2021-06-08 18:24:40,524][fairseq.trainer][INFO] - Finished saving checkpoint to /kaggle/working/checkpoint_last.pt\r\n",
      "[2021-06-08 18:24:40,524][fairseq.checkpoint_utils][INFO] - Saved checkpoint /kaggle/working/checkpoint_last.pt (epoch 5213 @ 83408 updates, score 77.20323676139454) (writing took 0.03854224600036105 seconds)\r\n",
      "[2021-06-08 18:24:40,525][fairseq_cli.train][INFO] - end of epoch 5213 (average epoch stats below)\r\n",
      "[2021-06-08 18:24:40,527][train][INFO] - {\"epoch\": 5213, \"train_loss\": \"2.993\", \"train_ntokens\": \"145.688\", \"train_nsentences\": \"145.688\", \"train_temp\": \"0.1\", \"train_code_ppl\": \"8.54\", \"train_loss_code_pen\": \"0.304\", \"train_loss_smoothness\": \"2.009\", \"train_loss_dense_g\": \"4.183\", \"train_lm_score_sum\": 0.0, \"train_num_pred_chars\": 0.0, \"train_loss_grad_pen\": \"0.069\", \"train_loss_dense_d\": \"0.024\", \"train_loss_token_d\": \"0.023\", \"train_wps\": \"11.6\", \"train_ups\": \"0.08\", \"train_wpb\": \"145.7\", \"train_bsz\": \"145.7\", \"train_num_updates\": \"83408\", \"train_lr_discriminator\": \"0.0005\", \"train_lr_generator\": \"0.0004\", \"train_gnorm\": \"29.704\", \"train_clip\": \"68.8\", \"train_train_wall\": \"197\", \"train_wall\": \"4002\"}\r\n"
     ]
    },
    {
     "name": "stdout",
     "output_type": "stream",
     "text": [
      "[2021-06-08 18:24:40,576][fairseq.trainer][INFO] - begin training epoch 5214\r\n",
      "[2021-06-08 18:24:40,577][fairseq_cli.train][INFO] - Start iterating over samples\r\n"
     ]
    },
    {
     "name": "stdout",
     "output_type": "stream",
     "text": [
      "[2021-06-08 18:27:26,551][fairseq_cli.train][INFO] - begin validation on \"valid\" subset\r\n"
     ]
    },
    {
     "name": "stdout",
     "output_type": "stream",
     "text": [
      "[2021-06-08 18:27:28,841][fairseq.tasks.unpaired_audio_text][INFO] - REF: ɛ n f œ ʂ ə n a d ɵ ʂ ə k t f øː r d eː t s ɔ m h ɛ n d ə p oː ɕ œ r k ɔ n s ɛ t ə n\r\n",
      "[2021-06-08 18:27:28,843][fairseq.tasks.unpaired_audio_text][INFO] - HYP: n ɪ s j œ r œ j b j uː yː k uː ɡ ɵ j m ə m œ k b ə uː s eː r n ɛ oː s l ɪ ŋ k l ɪ l a ɔ œ uː m a n t a\r\n",
      "[2021-06-08 18:27:28,847][fairseq.tasks.unpaired_audio_text][INFO] - LM [REF]: -53.44462585449219, 0.05339602260269112\r\n",
      "[2021-06-08 18:27:28,847][fairseq.tasks.unpaired_audio_text][INFO] - LM [HYP]: -87.611083984375, 0.016293661671610973\r\n"
     ]
    },
    {
     "name": "stdout",
     "output_type": "stream",
     "text": [
      "[2021-06-08 18:27:29,287][valid][INFO] - {\"epoch\": 5214, \"valid_loss\": \"1.002\", \"valid_ntokens\": \"3039.79\", \"valid_nsentences\": \"144.214\", \"valid_lm_score_sum\": \"-89499.5\", \"valid_num_pred_chars\": \"48531\", \"valid_vocab_seen_pct\": \"0.874564\", \"valid_uer\": \"100.237\", \"valid_weighted_lm_ppl\": \"77.0781\", \"valid_lm_ppl\": \"58.9541\", \"valid_wps\": \"19147.1\", \"valid_wpb\": \"3039.8\", \"valid_bsz\": \"144.2\", \"valid_num_updates\": \"83424\", \"valid_best_weighted_lm_ppl\": \"73.0296\"}\r\n",
      "[2021-06-08 18:27:29,289][fairseq.checkpoint_utils][INFO] - Preparing to save checkpoint for epoch 5214 @ 83424 updates\r\n",
      "[2021-06-08 18:27:29,290][fairseq.trainer][INFO] - Saving checkpoint to /kaggle/working/checkpoint_last.pt\r\n"
     ]
    },
    {
     "name": "stdout",
     "output_type": "stream",
     "text": [
      "[2021-06-08 18:27:29,329][fairseq.trainer][INFO] - Finished saving checkpoint to /kaggle/working/checkpoint_last.pt\r\n",
      "[2021-06-08 18:27:29,329][fairseq.checkpoint_utils][INFO] - Saved checkpoint /kaggle/working/checkpoint_last.pt (epoch 5214 @ 83424 updates, score 77.07805052847145) (writing took 0.039534978000119736 seconds)\r\n",
      "[2021-06-08 18:27:29,329][fairseq_cli.train][INFO] - end of epoch 5214 (average epoch stats below)\r\n",
      "[2021-06-08 18:27:29,332][train][INFO] - {\"epoch\": 5214, \"train_loss\": \"3.796\", \"train_ntokens\": \"145.688\", \"train_nsentences\": \"145.688\", \"train_temp\": \"0.1\", \"train_code_ppl\": \"8.795\", \"train_loss_code_pen\": \"0.331\", \"train_loss_smoothness\": \"2.125\", \"train_loss_dense_g\": \"4.362\", \"train_lm_score_sum\": 0.0, \"train_num_pred_chars\": 0.0, \"train_loss_grad_pen\": \"0.072\", \"train_loss_dense_d\": \"0.023\", \"train_loss_token_d\": \"0.023\", \"train_wps\": \"13.8\", \"train_ups\": \"0.09\", \"train_wpb\": \"145.7\", \"train_bsz\": \"145.7\", \"train_num_updates\": \"83424\", \"train_lr_discriminator\": \"0.0005\", \"train_lr_generator\": \"0.0004\", \"train_gnorm\": \"44.567\", \"train_clip\": \"68.8\", \"train_train_wall\": \"166\", \"train_wall\": \"4170\"}\r\n"
     ]
    },
    {
     "name": "stdout",
     "output_type": "stream",
     "text": [
      "[2021-06-08 18:27:29,386][fairseq.trainer][INFO] - begin training epoch 5215\r\n",
      "[2021-06-08 18:27:29,387][fairseq_cli.train][INFO] - Start iterating over samples\r\n"
     ]
    },
    {
     "name": "stdout",
     "output_type": "stream",
     "text": [
      "[2021-06-08 18:30:10,539][fairseq_cli.train][INFO] - begin validation on \"valid\" subset\r\n"
     ]
    },
    {
     "name": "stdout",
     "output_type": "stream",
     "text": [
      "[2021-06-08 18:30:12,722][fairseq.tasks.unpaired_audio_text][INFO] - REF: ɛ n f œ ʂ ə n a d ɵ ʂ ə k t f øː r d eː t s ɔ m h ɛ n d ə p oː ɕ œ r k ɔ n s ɛ t ə n\r\n",
      "[2021-06-08 18:30:12,724][fairseq.tasks.unpaired_audio_text][INFO] - HYP: n ɪ n s j œ r œ j b j uː yː k j uː ɡ œ øː j m ə m œ k b ə uː s eː r n v oː s l ɪ ŋ k l ɪ l a ɔ œ uː m a n t a\r\n"
     ]
    },
    {
     "name": "stdout",
     "output_type": "stream",
     "text": [
      "[2021-06-08 18:30:12,728][fairseq.tasks.unpaired_audio_text][INFO] - LM [REF]: -53.44462585449219, 0.05339602260269112\r\n",
      "[2021-06-08 18:30:12,728][fairseq.tasks.unpaired_audio_text][INFO] - LM [HYP]: -93.52374267578125, 0.01590253964716038\r\n"
     ]
    },
    {
     "name": "stdout",
     "output_type": "stream",
     "text": [
      "[2021-06-08 18:30:13,139][valid][INFO] - {\"epoch\": 5215, \"valid_loss\": \"1.003\", \"valid_ntokens\": \"3039.79\", \"valid_nsentences\": \"144.214\", \"valid_lm_score_sum\": \"-89759.4\", \"valid_num_pred_chars\": \"48506\", \"valid_vocab_seen_pct\": \"0.88676\", \"valid_uer\": \"100.315\", \"valid_weighted_lm_ppl\": \"76.0189\", \"valid_lm_ppl\": \"59.7769\", \"valid_wps\": \"23176.2\", \"valid_wpb\": \"3039.8\", \"valid_bsz\": \"144.2\", \"valid_num_updates\": \"83440\", \"valid_best_weighted_lm_ppl\": \"73.0296\"}\r\n",
      "[2021-06-08 18:30:13,142][fairseq.checkpoint_utils][INFO] - Preparing to save checkpoint for epoch 5215 @ 83440 updates\r\n",
      "[2021-06-08 18:30:13,143][fairseq.trainer][INFO] - Saving checkpoint to /kaggle/working/checkpoint_last.pt\r\n",
      "[2021-06-08 18:30:13,181][fairseq.trainer][INFO] - Finished saving checkpoint to /kaggle/working/checkpoint_last.pt\r\n",
      "[2021-06-08 18:30:13,181][fairseq.checkpoint_utils][INFO] - Saved checkpoint /kaggle/working/checkpoint_last.pt (epoch 5215 @ 83440 updates, score 76.01892205232102) (writing took 0.03923881300033827 seconds)\r\n",
      "[2021-06-08 18:30:13,181][fairseq_cli.train][INFO] - end of epoch 5215 (average epoch stats below)\r\n",
      "[2021-06-08 18:30:13,183][train][INFO] - {\"epoch\": 5215, \"train_loss\": \"3.892\", \"train_ntokens\": \"145.688\", \"train_nsentences\": \"145.688\", \"train_temp\": \"0.1\", \"train_code_ppl\": \"8.877\", \"train_loss_code_pen\": \"0.335\", \"train_loss_smoothness\": \"2.138\", \"train_loss_dense_g\": \"4.39\", \"train_lm_score_sum\": 0.0, \"train_num_pred_chars\": 0.0, \"train_loss_grad_pen\": \"0.207\", \"train_loss_dense_d\": \"0.022\", \"train_loss_token_d\": \"0.044\", \"train_wps\": \"14.2\", \"train_ups\": \"0.1\", \"train_wpb\": \"145.7\", \"train_bsz\": \"145.7\", \"train_num_updates\": \"83440\", \"train_lr_discriminator\": \"0.0005\", \"train_lr_generator\": \"0.0004\", \"train_gnorm\": \"39.412\", \"train_clip\": \"87.5\", \"train_train_wall\": \"161\", \"train_wall\": \"4334\"}\r\n"
     ]
    },
    {
     "name": "stdout",
     "output_type": "stream",
     "text": [
      "[2021-06-08 18:30:13,230][fairseq.trainer][INFO] - begin training epoch 5216\r\n",
      "[2021-06-08 18:30:13,231][fairseq_cli.train][INFO] - Start iterating over samples\r\n"
     ]
    },
    {
     "name": "stdout",
     "output_type": "stream",
     "text": [
      "[2021-06-08 18:33:09,928][fairseq_cli.train][INFO] - begin validation on \"valid\" subset\r\n"
     ]
    },
    {
     "name": "stdout",
     "output_type": "stream",
     "text": [
      "[2021-06-08 18:33:11,947][fairseq.tasks.unpaired_audio_text][INFO] - REF: ɛ n f œ ʂ ə n a d ɵ ʂ ə k t f øː r d eː t s ɔ m h ɛ n d ə p oː ɕ œ r k ɔ n s ɛ t ə n\r\n",
      "[2021-06-08 18:33:11,949][fairseq.tasks.unpaired_audio_text][INFO] - HYP: n ɪ n s j œ r œ j b j uː yː k j uː ɡ œ øː j m ə m œ k b ə uː s eː r n v oː s l ɪ ŋ k l ɪ l a ɔ œ m a n t a\r\n",
      "[2021-06-08 18:33:11,952][fairseq.tasks.unpaired_audio_text][INFO] - LM [REF]: -53.44462585449219, 0.05339602260269112\r\n",
      "[2021-06-08 18:33:11,953][fairseq.tasks.unpaired_audio_text][INFO] - LM [HYP]: -91.1847152709961, 0.016295376773326736\r\n"
     ]
    },
    {
     "name": "stdout",
     "output_type": "stream",
     "text": [
      "[2021-06-08 18:33:12,403][valid][INFO] - {\"epoch\": 5216, \"valid_loss\": \"1.003\", \"valid_ntokens\": \"3039.79\", \"valid_nsentences\": \"144.214\", \"valid_lm_score_sum\": \"-89842.7\", \"valid_num_pred_chars\": \"48484\", \"valid_vocab_seen_pct\": \"0.881533\", \"valid_uer\": \"100.27\", \"valid_weighted_lm_ppl\": \"77.3537\", \"valid_lm_ppl\": \"60.1116\", \"valid_wps\": \"21891.5\", \"valid_wpb\": \"3039.8\", \"valid_bsz\": \"144.2\", \"valid_num_updates\": \"83456\", \"valid_best_weighted_lm_ppl\": \"73.0296\"}\r\n",
      "[2021-06-08 18:33:12,405][fairseq.checkpoint_utils][INFO] - Preparing to save checkpoint for epoch 5216 @ 83456 updates\r\n",
      "[2021-06-08 18:33:12,406][fairseq.trainer][INFO] - Saving checkpoint to /kaggle/working/checkpoint_last.pt\r\n"
     ]
    },
    {
     "name": "stdout",
     "output_type": "stream",
     "text": [
      "[2021-06-08 18:33:12,445][fairseq.trainer][INFO] - Finished saving checkpoint to /kaggle/working/checkpoint_last.pt\r\n",
      "[2021-06-08 18:33:12,446][fairseq.checkpoint_utils][INFO] - Saved checkpoint /kaggle/working/checkpoint_last.pt (epoch 5216 @ 83456 updates, score 77.35371993179089) (writing took 0.04034056100044836 seconds)\r\n",
      "[2021-06-08 18:33:12,446][fairseq_cli.train][INFO] - end of epoch 5216 (average epoch stats below)\r\n",
      "[2021-06-08 18:33:12,448][train][INFO] - {\"epoch\": 5216, \"train_loss\": \"3.375\", \"train_ntokens\": \"145.688\", \"train_nsentences\": \"145.688\", \"train_temp\": \"0.1\", \"train_code_ppl\": \"8.763\", \"train_loss_code_pen\": \"0.335\", \"train_loss_smoothness\": \"2.096\", \"train_loss_dense_g\": \"3.98\", \"train_lm_score_sum\": 0.0, \"train_num_pred_chars\": 0.0, \"train_loss_grad_pen\": \"0.059\", \"train_loss_dense_d\": \"0.028\", \"train_loss_token_d\": \"0.023\", \"train_wps\": \"13\", \"train_ups\": \"0.09\", \"train_wpb\": \"145.7\", \"train_bsz\": \"145.7\", \"train_num_updates\": \"83456\", \"train_lr_discriminator\": \"0.0005\", \"train_lr_generator\": \"0.0004\", \"train_gnorm\": \"29.723\", \"train_clip\": \"81.2\", \"train_train_wall\": \"176\", \"train_wall\": \"4514\"}\r\n"
     ]
    },
    {
     "name": "stdout",
     "output_type": "stream",
     "text": [
      "[2021-06-08 18:33:12,492][fairseq.trainer][INFO] - begin training epoch 5217\r\n",
      "[2021-06-08 18:33:12,493][fairseq_cli.train][INFO] - Start iterating over samples\r\n"
     ]
    },
    {
     "name": "stdout",
     "output_type": "stream",
     "text": [
      "[2021-06-08 18:36:00,919][fairseq_cli.train][INFO] - begin validation on \"valid\" subset\r\n"
     ]
    },
    {
     "name": "stdout",
     "output_type": "stream",
     "text": [
      "[2021-06-08 18:36:02,961][fairseq.tasks.unpaired_audio_text][INFO] - REF: ɛ n f œ ʂ ə n a d ɵ ʂ ə k t f øː r d eː t s ɔ m h ɛ n d ə p oː ɕ œ r k ɔ n s ɛ t ə n\r\n",
      "[2021-06-08 18:36:02,963][fairseq.tasks.unpaired_audio_text][INFO] - HYP: n ɵ n s j œ r œ j uː j uː yː k j uː ɡ ɵ j m ə m œ k b ə uː s eː r n v oː s l ɪ ŋ k l ɪ l a ɔ œ uː m a n t a\r\n",
      "[2021-06-08 18:36:02,967][fairseq.tasks.unpaired_audio_text][INFO] - LM [REF]: -53.44462585449219, 0.05339602260269112\r\n",
      "[2021-06-08 18:36:02,967][fairseq.tasks.unpaired_audio_text][INFO] - LM [HYP]: -90.04733276367188, 0.01715402442987106\r\n"
     ]
    },
    {
     "name": "stdout",
     "output_type": "stream",
     "text": [
      "[2021-06-08 18:36:03,385][valid][INFO] - {\"epoch\": 5217, \"valid_loss\": \"1.006\", \"valid_ntokens\": \"3039.79\", \"valid_nsentences\": \"144.214\", \"valid_lm_score_sum\": \"-90026.9\", \"valid_num_pred_chars\": \"48671\", \"valid_vocab_seen_pct\": \"0.885017\", \"valid_uer\": \"100.585\", \"valid_weighted_lm_ppl\": \"76.2298\", \"valid_lm_ppl\": \"59.7075\", \"valid_wps\": \"22232.7\", \"valid_wpb\": \"3039.8\", \"valid_bsz\": \"144.2\", \"valid_num_updates\": \"83472\", \"valid_best_weighted_lm_ppl\": \"73.0296\"}\r\n",
      "[2021-06-08 18:36:03,388][fairseq.checkpoint_utils][INFO] - Preparing to save checkpoint for epoch 5217 @ 83472 updates\r\n",
      "[2021-06-08 18:36:03,389][fairseq.trainer][INFO] - Saving checkpoint to /kaggle/working/checkpoint_last.pt\r\n"
     ]
    },
    {
     "name": "stdout",
     "output_type": "stream",
     "text": [
      "[2021-06-08 18:36:03,428][fairseq.trainer][INFO] - Finished saving checkpoint to /kaggle/working/checkpoint_last.pt\r\n",
      "[2021-06-08 18:36:03,428][fairseq.checkpoint_utils][INFO] - Saved checkpoint /kaggle/working/checkpoint_last.pt (epoch 5217 @ 83472 updates, score 76.22982326127223) (writing took 0.04028784399997676 seconds)\r\n",
      "[2021-06-08 18:36:03,428][fairseq_cli.train][INFO] - end of epoch 5217 (average epoch stats below)\r\n",
      "[2021-06-08 18:36:03,431][train][INFO] - {\"epoch\": 5217, \"train_loss\": \"3.741\", \"train_ntokens\": \"145.688\", \"train_nsentences\": \"145.688\", \"train_temp\": \"0.1\", \"train_code_ppl\": \"8.746\", \"train_loss_code_pen\": \"0.347\", \"train_loss_smoothness\": \"2.164\", \"train_loss_dense_g\": \"4.16\", \"train_lm_score_sum\": 0.0, \"train_num_pred_chars\": 0.0, \"train_loss_grad_pen\": \"0.104\", \"train_loss_dense_d\": \"0.035\", \"train_loss_token_d\": \"0.033\", \"train_wps\": \"13.6\", \"train_ups\": \"0.09\", \"train_wpb\": \"145.7\", \"train_bsz\": \"145.7\", \"train_num_updates\": \"83472\", \"train_lr_discriminator\": \"0.0005\", \"train_lr_generator\": \"0.0004\", \"train_gnorm\": \"30.108\", \"train_clip\": \"81.2\", \"train_train_wall\": \"168\", \"train_wall\": \"4685\"}\r\n"
     ]
    },
    {
     "name": "stdout",
     "output_type": "stream",
     "text": [
      "[2021-06-08 18:36:03,479][fairseq.trainer][INFO] - begin training epoch 5218\r\n",
      "[2021-06-08 18:36:03,480][fairseq_cli.train][INFO] - Start iterating over samples\r\n"
     ]
    },
    {
     "name": "stdout",
     "output_type": "stream",
     "text": [
      "[2021-06-08 18:39:05,037][fairseq_cli.train][INFO] - begin validation on \"valid\" subset\r\n"
     ]
    },
    {
     "name": "stdout",
     "output_type": "stream",
     "text": [
      "[2021-06-08 18:39:07,100][fairseq.tasks.unpaired_audio_text][INFO] - REF: ɛ n f œ ʂ ə n a d ɵ ʂ ə k t f øː r d eː t s ɔ m h ɛ n d ə p oː ɕ œ r k ɔ n s ɛ t ə n\r\n",
      "[2021-06-08 18:39:07,102][fairseq.tasks.unpaired_audio_text][INFO] - HYP: n ɪ n s j œ r œ j uː j uː yː k j uː ɡ œ øː j m ə m ɔ k b ə uː s eː r n v oː s l ɪ ŋ k ɪ l a s œ m a n t a\r\n"
     ]
    },
    {
     "name": "stdout",
     "output_type": "stream",
     "text": [
      "[2021-06-08 18:39:07,106][fairseq.tasks.unpaired_audio_text][INFO] - LM [REF]: -53.44462585449219, 0.05339602260269112\r\n",
      "[2021-06-08 18:39:07,106][fairseq.tasks.unpaired_audio_text][INFO] - LM [HYP]: -83.67400360107422, 0.02120898710131909\r\n"
     ]
    },
    {
     "name": "stdout",
     "output_type": "stream",
     "text": [
      "[2021-06-08 18:39:07,524][valid][INFO] - {\"epoch\": 5218, \"valid_loss\": \"1.004\", \"valid_ntokens\": \"3039.79\", \"valid_nsentences\": \"144.214\", \"valid_lm_score_sum\": \"-89971.5\", \"valid_num_pred_chars\": \"48560\", \"valid_vocab_seen_pct\": \"0.890244\", \"valid_uer\": \"100.439\", \"valid_weighted_lm_ppl\": \"75.825\", \"valid_lm_ppl\": \"60.0939\", \"valid_wps\": \"22106.4\", \"valid_wpb\": \"3039.8\", \"valid_bsz\": \"144.2\", \"valid_num_updates\": \"83488\", \"valid_best_weighted_lm_ppl\": \"73.0296\"}\r\n",
      "[2021-06-08 18:39:07,526][fairseq.checkpoint_utils][INFO] - Preparing to save checkpoint for epoch 5218 @ 83488 updates\r\n",
      "[2021-06-08 18:39:07,527][fairseq.trainer][INFO] - Saving checkpoint to /kaggle/working/checkpoint_last.pt\r\n",
      "[2021-06-08 18:39:07,564][fairseq.trainer][INFO] - Finished saving checkpoint to /kaggle/working/checkpoint_last.pt\r\n"
     ]
    },
    {
     "name": "stdout",
     "output_type": "stream",
     "text": [
      "[2021-06-08 18:39:07,564][fairseq.checkpoint_utils][INFO] - Saved checkpoint /kaggle/working/checkpoint_last.pt (epoch 5218 @ 83488 updates, score 75.8249959243047) (writing took 0.03777656800048135 seconds)\r\n",
      "[2021-06-08 18:39:07,565][fairseq_cli.train][INFO] - end of epoch 5218 (average epoch stats below)\r\n",
      "[2021-06-08 18:39:07,569][train][INFO] - {\"epoch\": 5218, \"train_loss\": \"3.269\", \"train_ntokens\": \"145.688\", \"train_nsentences\": \"145.688\", \"train_temp\": \"0.1\", \"train_code_ppl\": \"8.692\", \"train_loss_code_pen\": \"0.33\", \"train_loss_smoothness\": \"2.085\", \"train_loss_dense_g\": \"4.226\", \"train_lm_score_sum\": 0.0, \"train_num_pred_chars\": 0.0, \"train_loss_grad_pen\": \"0.08\", \"train_loss_dense_d\": \"0.026\", \"train_loss_token_d\": \"0.028\", \"train_wps\": \"12.7\", \"train_ups\": \"0.09\", \"train_wpb\": \"145.7\", \"train_bsz\": \"145.7\", \"train_num_updates\": \"83488\", \"train_lr_discriminator\": \"0.0005\", \"train_lr_generator\": \"0.0004\", \"train_gnorm\": \"29.757\", \"train_clip\": \"75\", \"train_train_wall\": \"181\", \"train_wall\": \"4869\"}\r\n"
     ]
    },
    {
     "name": "stdout",
     "output_type": "stream",
     "text": [
      "[2021-06-08 18:39:07,620][fairseq.trainer][INFO] - begin training epoch 5219\r\n",
      "[2021-06-08 18:39:07,621][fairseq_cli.train][INFO] - Start iterating over samples\r\n"
     ]
    },
    {
     "name": "stdout",
     "output_type": "stream",
     "text": [
      "[2021-06-08 18:41:21,026][train_inner][INFO] - {\"epoch\": 5219, \"update\": 5218.75, \"loss\": \"3.537\", \"ntokens\": \"146.26\", \"nsentences\": \"146.26\", \"temp\": \"0.1\", \"code_ppl\": \"8.755\", \"loss_code_pen\": \"0.331\", \"loss_smoothness\": \"2.107\", \"loss_dense_g\": \"4.222\", \"lm_score_sum\": 0.0, \"num_pred_chars\": 0.0, \"loss_grad_pen\": \"0.091\", \"loss_dense_d\": \"0.026\", \"loss_token_d\": \"0.029\", \"wps\": \"13.3\", \"ups\": \"0.09\", \"wpb\": \"146.3\", \"bsz\": \"146.3\", \"num_updates\": \"83500\", \"lr_discriminator\": \"0.0005\", \"lr_generator\": \"0.0004\", \"gnorm\": \"33.496\", \"clip\": \"75\", \"train_wall\": \"1084\", \"wall\": \"5002\"}\r\n"
     ]
    },
    {
     "name": "stdout",
     "output_type": "stream",
     "text": [
      "[2021-06-08 18:42:06,280][fairseq_cli.train][INFO] - begin validation on \"valid\" subset\r\n"
     ]
    },
    {
     "name": "stdout",
     "output_type": "stream",
     "text": [
      "[2021-06-08 18:42:08,275][fairseq.tasks.unpaired_audio_text][INFO] - REF: ɛ n f œ ʂ ə n a d ɵ ʂ ə k t f øː r d eː t s ɔ m h ɛ n d ə p oː ɕ œ r k ɔ n s ɛ t ə n\r\n",
      "[2021-06-08 18:42:08,278][fairseq.tasks.unpaired_audio_text][INFO] - HYP: n ɪ n s j œ r œ j uː j uː œ yː k j uː f ɵ øː j m ə m œ k b ə uː s eː r n v oː s ɪ ŋ k l ɪ l a s œ uː m a n t a\r\n",
      "[2021-06-08 18:42:08,282][fairseq.tasks.unpaired_audio_text][INFO] - LM [REF]: -53.44462585449219, 0.05339602260269112\r\n",
      "[2021-06-08 18:42:08,283][fairseq.tasks.unpaired_audio_text][INFO] - LM [HYP]: -91.4581069946289, 0.0174257006874657\r\n"
     ]
    },
    {
     "name": "stdout",
     "output_type": "stream",
     "text": [
      "[2021-06-08 18:42:08,692][valid][INFO] - {\"epoch\": 5219, \"valid_loss\": \"1.003\", \"valid_ntokens\": \"3039.79\", \"valid_nsentences\": \"144.214\", \"valid_lm_score_sum\": \"-89775\", \"valid_num_pred_chars\": \"48546\", \"valid_vocab_seen_pct\": \"0.888502\", \"valid_uer\": \"100.334\", \"valid_weighted_lm_ppl\": \"75.5301\", \"valid_lm_ppl\": \"59.6262\", \"valid_wps\": \"22426.6\", \"valid_wpb\": \"3039.8\", \"valid_bsz\": \"144.2\", \"valid_num_updates\": \"83504\", \"valid_best_weighted_lm_ppl\": \"73.0296\"}\r\n",
      "[2021-06-08 18:42:08,695][fairseq.checkpoint_utils][INFO] - Preparing to save checkpoint for epoch 5219 @ 83504 updates\r\n",
      "[2021-06-08 18:42:08,696][fairseq.trainer][INFO] - Saving checkpoint to /kaggle/working/checkpoint_last.pt\r\n"
     ]
    },
    {
     "name": "stdout",
     "output_type": "stream",
     "text": [
      "[2021-06-08 18:42:08,734][fairseq.trainer][INFO] - Finished saving checkpoint to /kaggle/working/checkpoint_last.pt\r\n",
      "[2021-06-08 18:42:08,734][fairseq.checkpoint_utils][INFO] - Saved checkpoint /kaggle/working/checkpoint_last.pt (epoch 5219 @ 83504 updates, score 75.53013476159117) (writing took 0.038935491000302136 seconds)\r\n",
      "[2021-06-08 18:42:08,734][fairseq_cli.train][INFO] - end of epoch 5219 (average epoch stats below)\r\n",
      "[2021-06-08 18:42:08,737][train][INFO] - {\"epoch\": 5219, \"train_loss\": \"3.215\", \"train_ntokens\": \"145.688\", \"train_nsentences\": \"145.688\", \"train_temp\": \"0.1\", \"train_code_ppl\": \"8.565\", \"train_loss_code_pen\": \"0.303\", \"train_loss_smoothness\": \"1.997\", \"train_loss_dense_g\": \"4.25\", \"train_lm_score_sum\": 0.0, \"train_num_pred_chars\": 0.0, \"train_loss_grad_pen\": \"0.065\", \"train_loss_dense_d\": \"0.025\", \"train_loss_token_d\": \"0.025\", \"train_wps\": \"12.9\", \"train_ups\": \"0.09\", \"train_wpb\": \"145.7\", \"train_bsz\": \"145.7\", \"train_num_updates\": \"83504\", \"train_lr_discriminator\": \"0.0005\", \"train_lr_generator\": \"0.0004\", \"train_gnorm\": \"29.035\", \"train_clip\": \"68.8\", \"train_train_wall\": \"178\", \"train_wall\": \"5050\"}\r\n"
     ]
    },
    {
     "name": "stdout",
     "output_type": "stream",
     "text": [
      "[2021-06-08 18:42:08,784][fairseq.trainer][INFO] - begin training epoch 5220\r\n",
      "[2021-06-08 18:42:08,786][fairseq_cli.train][INFO] - Start iterating over samples\r\n"
     ]
    },
    {
     "name": "stdout",
     "output_type": "stream",
     "text": [
      "[2021-06-08 18:45:06,608][fairseq_cli.train][INFO] - begin validation on \"valid\" subset\r\n"
     ]
    },
    {
     "name": "stdout",
     "output_type": "stream",
     "text": [
      "[2021-06-08 18:45:08,737][fairseq.tasks.unpaired_audio_text][INFO] - REF: ɛ n f œ ʂ ə n a d ɵ ʂ ə k t f øː r d eː t s ɔ m h ɛ n d ə p oː ɕ œ r k ɔ n s ɛ t ə n\r\n",
      "[2021-06-08 18:45:08,739][fairseq.tasks.unpaired_audio_text][INFO] - HYP: n ɪ s j œ r œ j b j uː yː k j uː ɡ ɵ j m ə m œ k b ə uː s eː r n v oː s l ɪ ŋ k ɪ l a s œ m a n t a\r\n",
      "[2021-06-08 18:45:08,744][fairseq.tasks.unpaired_audio_text][INFO] - LM [REF]: -53.44462585449219, 0.05339602260269112\r\n",
      "[2021-06-08 18:45:08,744][fairseq.tasks.unpaired_audio_text][INFO] - LM [HYP]: -83.67723846435547, 0.018060268334743893\r\n"
     ]
    },
    {
     "name": "stdout",
     "output_type": "stream",
     "text": [
      "[2021-06-08 18:45:09,186][valid][INFO] - {\"epoch\": 5220, \"valid_loss\": \"1.003\", \"valid_ntokens\": \"3039.79\", \"valid_nsentences\": \"144.214\", \"valid_lm_score_sum\": \"-89829.1\", \"valid_num_pred_chars\": \"48511\", \"valid_vocab_seen_pct\": \"0.88676\", \"valid_uer\": \"100.317\", \"valid_weighted_lm_ppl\": \"76.2299\", \"valid_lm_ppl\": \"59.9428\", \"valid_wps\": \"20948.1\", \"valid_wpb\": \"3039.8\", \"valid_bsz\": \"144.2\", \"valid_num_updates\": \"83520\", \"valid_best_weighted_lm_ppl\": \"73.0296\"}\r\n",
      "[2021-06-08 18:45:09,188][fairseq.checkpoint_utils][INFO] - Preparing to save checkpoint for epoch 5220 @ 83520 updates\r\n",
      "[2021-06-08 18:45:09,189][fairseq.trainer][INFO] - Saving checkpoint to /kaggle/working/checkpoint_last.pt\r\n"
     ]
    },
    {
     "name": "stdout",
     "output_type": "stream",
     "text": [
      "[2021-06-08 18:45:09,229][fairseq.trainer][INFO] - Finished saving checkpoint to /kaggle/working/checkpoint_last.pt\r\n",
      "[2021-06-08 18:45:09,229][fairseq.checkpoint_utils][INFO] - Saved checkpoint /kaggle/working/checkpoint_last.pt (epoch 5220 @ 83520 updates, score 76.22993423825667) (writing took 0.04103453500010801 seconds)\r\n",
      "[2021-06-08 18:45:09,230][fairseq_cli.train][INFO] - end of epoch 5220 (average epoch stats below)\r\n",
      "[2021-06-08 18:45:09,232][train][INFO] - {\"epoch\": 5220, \"train_loss\": \"3.479\", \"train_ntokens\": \"145.688\", \"train_nsentences\": \"145.688\", \"train_temp\": \"0.1\", \"train_code_ppl\": \"8.673\", \"train_loss_code_pen\": \"0.34\", \"train_loss_smoothness\": \"2.115\", \"train_loss_dense_g\": \"4.13\", \"train_lm_score_sum\": 0.0, \"train_num_pred_chars\": 0.0, \"train_loss_grad_pen\": \"0.085\", \"train_loss_dense_d\": \"0.026\", \"train_loss_token_d\": \"0.027\", \"train_wps\": \"12.9\", \"train_ups\": \"0.09\", \"train_wpb\": \"145.7\", \"train_bsz\": \"145.7\", \"train_num_updates\": \"83520\", \"train_lr_discriminator\": \"0.0005\", \"train_lr_generator\": \"0.0004\", \"train_gnorm\": \"31.528\", \"train_clip\": \"81.2\", \"train_train_wall\": \"177\", \"train_wall\": \"5230\"}\r\n"
     ]
    },
    {
     "name": "stdout",
     "output_type": "stream",
     "text": [
      "[2021-06-08 18:45:09,280][fairseq.trainer][INFO] - begin training epoch 5221\r\n",
      "[2021-06-08 18:45:09,281][fairseq_cli.train][INFO] - Start iterating over samples\r\n"
     ]
    },
    {
     "name": "stdout",
     "output_type": "stream",
     "text": [
      "[2021-06-08 18:47:53,872][fairseq_cli.train][INFO] - begin validation on \"valid\" subset\r\n"
     ]
    },
    {
     "name": "stdout",
     "output_type": "stream",
     "text": [
      "[2021-06-08 18:47:55,876][fairseq.tasks.unpaired_audio_text][INFO] - REF: ɛ n f œ ʂ ə n a d ɵ ʂ ə k t f øː r d eː t s ɔ m h ɛ n d ə p oː ɕ œ r k ɔ n s ɛ t ə n\r\n",
      "[2021-06-08 18:47:55,878][fairseq.tasks.unpaired_audio_text][INFO] - HYP: n ɪ n s j œ r œ j j uː yː k j uː f ɵ øː j m ə m œ k b ə uː s eː r n v oː s ɪ ŋ k ɪ l a s œ m a n t a\r\n",
      "[2021-06-08 18:47:55,882][fairseq.tasks.unpaired_audio_text][INFO] - LM [REF]: -53.44462585449219, 0.05339602260269112\r\n",
      "[2021-06-08 18:47:55,882][fairseq.tasks.unpaired_audio_text][INFO] - LM [HYP]: -83.08048248291016, 0.018584745359087586\r\n"
     ]
    },
    {
     "name": "stdout",
     "output_type": "stream",
     "text": [
      "[2021-06-08 18:47:56,288][valid][INFO] - {\"epoch\": 5221, \"valid_loss\": \"1.004\", \"valid_ntokens\": \"3039.79\", \"valid_nsentences\": \"144.214\", \"valid_lm_score_sum\": \"-89944.6\", \"valid_num_pred_chars\": \"48582\", \"valid_vocab_seen_pct\": \"0.88676\", \"valid_uer\": \"100.395\", \"valid_weighted_lm_ppl\": \"76.1927\", \"valid_lm_ppl\": \"59.9136\", \"valid_wps\": \"22744.6\", \"valid_wpb\": \"3039.8\", \"valid_bsz\": \"144.2\", \"valid_num_updates\": \"83536\", \"valid_best_weighted_lm_ppl\": \"73.0296\"}\r\n",
      "[2021-06-08 18:47:56,291][fairseq.checkpoint_utils][INFO] - Preparing to save checkpoint for epoch 5221 @ 83536 updates\r\n",
      "[2021-06-08 18:47:56,292][fairseq.trainer][INFO] - Saving checkpoint to /kaggle/working/checkpoint_last.pt\r\n"
     ]
    },
    {
     "name": "stdout",
     "output_type": "stream",
     "text": [
      "[2021-06-08 18:47:56,329][fairseq.trainer][INFO] - Finished saving checkpoint to /kaggle/working/checkpoint_last.pt\r\n",
      "[2021-06-08 18:47:56,329][fairseq.checkpoint_utils][INFO] - Saved checkpoint /kaggle/working/checkpoint_last.pt (epoch 5221 @ 83536 updates, score 76.19274395955941) (writing took 0.03808241299975634 seconds)\r\n",
      "[2021-06-08 18:47:56,329][fairseq_cli.train][INFO] - end of epoch 5221 (average epoch stats below)\r\n",
      "[2021-06-08 18:47:56,331][train][INFO] - {\"epoch\": 5221, \"train_loss\": \"3.686\", \"train_ntokens\": \"145.688\", \"train_nsentences\": \"145.688\", \"train_temp\": \"0.1\", \"train_code_ppl\": \"8.526\", \"train_loss_code_pen\": \"0.326\", \"train_loss_smoothness\": \"2.104\", \"train_loss_dense_g\": \"4.159\", \"train_lm_score_sum\": 0.0, \"train_num_pred_chars\": 0.0, \"train_loss_grad_pen\": \"0.1\", \"train_loss_dense_d\": \"0.025\", \"train_loss_token_d\": \"0.025\", \"train_wps\": \"13.9\", \"train_ups\": \"0.1\", \"train_wpb\": \"145.7\", \"train_bsz\": \"145.7\", \"train_num_updates\": \"83536\", \"train_lr_discriminator\": \"0.0005\", \"train_lr_generator\": \"0.0004\", \"train_gnorm\": \"37.022\", \"train_clip\": \"75\", \"train_train_wall\": \"164\", \"train_wall\": \"5397\"}\r\n"
     ]
    },
    {
     "name": "stdout",
     "output_type": "stream",
     "text": [
      "[2021-06-08 18:47:56,378][fairseq.trainer][INFO] - begin training epoch 5222\r\n",
      "[2021-06-08 18:47:56,379][fairseq_cli.train][INFO] - Start iterating over samples\r\n"
     ]
    },
    {
     "name": "stdout",
     "output_type": "stream",
     "text": [
      "[2021-06-08 18:50:58,465][fairseq_cli.train][INFO] - begin validation on \"valid\" subset\r\n"
     ]
    },
    {
     "name": "stdout",
     "output_type": "stream",
     "text": [
      "[2021-06-08 18:51:00,532][fairseq.tasks.unpaired_audio_text][INFO] - REF: ɛ n f œ ʂ ə n a d ɵ ʂ ə k t f øː r d eː t s ɔ m h ɛ n d ə p oː ɕ œ r k ɔ n s ɛ t ə n\r\n",
      "[2021-06-08 18:51:00,534][fairseq.tasks.unpaired_audio_text][INFO] - HYP: n ɪ s j œ r œ j b j uː yː k j uː ɡ œ j m ə m œ k b ə uː s eː r n v oː s l ɪ ŋ k ɪ l a ɔ œ m k n t a\r\n"
     ]
    },
    {
     "name": "stdout",
     "output_type": "stream",
     "text": [
      "[2021-06-08 18:51:00,539][fairseq.tasks.unpaired_audio_text][INFO] - LM [REF]: -53.44462585449219, 0.05339602260269112\r\n",
      "[2021-06-08 18:51:00,539][fairseq.tasks.unpaired_audio_text][INFO] - LM [HYP]: -89.69988250732422, 0.01352858727727338\r\n"
     ]
    },
    {
     "name": "stdout",
     "output_type": "stream",
     "text": [
      "[2021-06-08 18:51:00,958][valid][INFO] - {\"epoch\": 5222, \"valid_loss\": \"1.003\", \"valid_ntokens\": \"3039.79\", \"valid_nsentences\": \"144.214\", \"valid_lm_score_sum\": \"-89830\", \"valid_num_pred_chars\": \"48519\", \"valid_vocab_seen_pct\": \"0.888502\", \"valid_uer\": \"100.303\", \"valid_weighted_lm_ppl\": \"75.8852\", \"valid_lm_ppl\": \"59.9064\", \"valid_wps\": \"21919.2\", \"valid_wpb\": \"3039.8\", \"valid_bsz\": \"144.2\", \"valid_num_updates\": \"83552\", \"valid_best_weighted_lm_ppl\": \"73.0296\"}\r\n",
      "[2021-06-08 18:51:00,960][fairseq.checkpoint_utils][INFO] - Preparing to save checkpoint for epoch 5222 @ 83552 updates\r\n",
      "[2021-06-08 18:51:00,961][fairseq.trainer][INFO] - Saving checkpoint to /kaggle/working/checkpoint_last.pt\r\n"
     ]
    },
    {
     "name": "stdout",
     "output_type": "stream",
     "text": [
      "[2021-06-08 18:51:01,000][fairseq.trainer][INFO] - Finished saving checkpoint to /kaggle/working/checkpoint_last.pt\r\n",
      "[2021-06-08 18:51:01,000][fairseq.checkpoint_utils][INFO] - Saved checkpoint /kaggle/working/checkpoint_last.pt (epoch 5222 @ 83552 updates, score 75.88518082545328) (writing took 0.03977242000019032 seconds)\r\n",
      "[2021-06-08 18:51:01,000][fairseq_cli.train][INFO] - end of epoch 5222 (average epoch stats below)\r\n",
      "[2021-06-08 18:51:01,003][train][INFO] - {\"epoch\": 5222, \"train_loss\": \"3.215\", \"train_ntokens\": \"145.688\", \"train_nsentences\": \"145.688\", \"train_temp\": \"0.1\", \"train_code_ppl\": \"8.544\", \"train_loss_code_pen\": \"0.319\", \"train_loss_smoothness\": \"2.066\", \"train_loss_dense_g\": \"4.174\", \"train_lm_score_sum\": 0.0, \"train_num_pred_chars\": 0.0, \"train_loss_grad_pen\": \"0.06\", \"train_loss_dense_d\": \"0.024\", \"train_loss_token_d\": \"0.023\", \"train_wps\": \"12.6\", \"train_ups\": \"0.09\", \"train_wpb\": \"145.7\", \"train_bsz\": \"145.7\", \"train_num_updates\": \"83552\", \"train_lr_discriminator\": \"0.0005\", \"train_lr_generator\": \"0.0004\", \"train_gnorm\": \"29.649\", \"train_clip\": \"68.8\", \"train_train_wall\": \"182\", \"train_wall\": \"5582\"}\r\n"
     ]
    },
    {
     "name": "stdout",
     "output_type": "stream",
     "text": [
      "[2021-06-08 18:51:01,050][fairseq.trainer][INFO] - begin training epoch 5223\r\n",
      "[2021-06-08 18:51:01,051][fairseq_cli.train][INFO] - Start iterating over samples\r\n"
     ]
    },
    {
     "name": "stdout",
     "output_type": "stream",
     "text": [
      "[2021-06-08 18:53:48,366][fairseq_cli.train][INFO] - begin validation on \"valid\" subset\r\n"
     ]
    },
    {
     "name": "stdout",
     "output_type": "stream",
     "text": [
      "[2021-06-08 18:53:50,650][fairseq.tasks.unpaired_audio_text][INFO] - REF: ɛ n f œ ʂ ə n a d ɵ ʂ ə k t f øː r d eː t s ɔ m h ɛ n d ə p oː ɕ œ r k ɔ n s ɛ t ə n\r\n",
      "[2021-06-08 18:53:50,652][fairseq.tasks.unpaired_audio_text][INFO] - HYP: n ɪ n s j œ r œ j b j uː yː k j uː ɡ œ j m ə m œ k b ə uː s eː r n v oː s l ɪ ŋ k ɪ l a s œ uː m k n t a\r\n",
      "[2021-06-08 18:53:50,657][fairseq.tasks.unpaired_audio_text][INFO] - LM [REF]: -53.44462585449219, 0.05339602260269112\r\n",
      "[2021-06-08 18:53:50,657][fairseq.tasks.unpaired_audio_text][INFO] - LM [HYP]: -91.58995819091797, 0.014729935196103914\r\n"
     ]
    },
    {
     "name": "stdout",
     "output_type": "stream",
     "text": [
      "[2021-06-08 18:53:51,199][valid][INFO] - {\"epoch\": 5223, \"valid_loss\": \"1.001\", \"valid_ntokens\": \"3039.79\", \"valid_nsentences\": \"144.214\", \"valid_lm_score_sum\": \"-89683.3\", \"valid_num_pred_chars\": \"48454\", \"valid_vocab_seen_pct\": \"0.891986\", \"valid_uer\": \"100.117\", \"valid_weighted_lm_ppl\": \"75.1865\", \"valid_lm_ppl\": \"59.8213\", \"valid_wps\": \"20812.6\", \"valid_wpb\": \"3039.8\", \"valid_bsz\": \"144.2\", \"valid_num_updates\": \"83568\", \"valid_best_weighted_lm_ppl\": \"73.0296\"}\r\n",
      "[2021-06-08 18:53:51,202][fairseq.checkpoint_utils][INFO] - Preparing to save checkpoint for epoch 5223 @ 83568 updates\r\n",
      "[2021-06-08 18:53:51,203][fairseq.trainer][INFO] - Saving checkpoint to /kaggle/working/checkpoint_last.pt\r\n"
     ]
    },
    {
     "name": "stdout",
     "output_type": "stream",
     "text": [
      "[2021-06-08 18:53:51,242][fairseq.trainer][INFO] - Finished saving checkpoint to /kaggle/working/checkpoint_last.pt\r\n",
      "[2021-06-08 18:53:51,243][fairseq.checkpoint_utils][INFO] - Saved checkpoint /kaggle/working/checkpoint_last.pt (epoch 5223 @ 83568 updates, score 75.18652994634834) (writing took 0.040891304000069795 seconds)\r\n",
      "[2021-06-08 18:53:51,243][fairseq_cli.train][INFO] - end of epoch 5223 (average epoch stats below)\r\n",
      "[2021-06-08 18:53:51,245][train][INFO] - {\"epoch\": 5223, \"train_loss\": \"3.749\", \"train_ntokens\": \"145.688\", \"train_nsentences\": \"145.688\", \"train_temp\": \"0.1\", \"train_code_ppl\": \"8.593\", \"train_loss_code_pen\": \"0.322\", \"train_loss_smoothness\": \"2.073\", \"train_loss_dense_g\": \"4.318\", \"train_lm_score_sum\": 0.0, \"train_num_pred_chars\": 0.0, \"train_loss_grad_pen\": \"0.085\", \"train_loss_dense_d\": \"0.024\", \"train_loss_token_d\": \"0.03\", \"train_wps\": \"13.7\", \"train_ups\": \"0.09\", \"train_wpb\": \"145.7\", \"train_bsz\": \"145.7\", \"train_num_updates\": \"83568\", \"train_lr_discriminator\": \"0.0005\", \"train_lr_generator\": \"0.0004\", \"train_gnorm\": \"30.981\", \"train_clip\": \"75\", \"train_train_wall\": \"167\", \"train_wall\": \"5752\"}\r\n"
     ]
    },
    {
     "name": "stdout",
     "output_type": "stream",
     "text": [
      "[2021-06-08 18:53:51,299][fairseq.trainer][INFO] - begin training epoch 5224\r\n",
      "[2021-06-08 18:53:51,300][fairseq_cli.train][INFO] - Start iterating over samples\r\n"
     ]
    },
    {
     "name": "stdout",
     "output_type": "stream",
     "text": [
      "[2021-06-08 18:56:36,269][fairseq_cli.train][INFO] - begin validation on \"valid\" subset\r\n"
     ]
    },
    {
     "name": "stdout",
     "output_type": "stream",
     "text": [
      "[2021-06-08 18:56:38,286][fairseq.tasks.unpaired_audio_text][INFO] - REF: ɛ n f œ ʂ ə n a d ɵ ʂ ə k t f øː r d eː t s ɔ m h ɛ n d ə p oː ɕ œ r k ɔ n s ɛ t ə n\r\n",
      "[2021-06-08 18:56:38,288][fairseq.tasks.unpaired_audio_text][INFO] - HYP: n ɪ n s j œ r œ j ɕ uː j uː yː k j uː ɡ œ j m ə m œ k b ə uː s eː r n v oː s l ɪ ŋ k l ɪ l a s œ uː m a n t a\r\n",
      "[2021-06-08 18:56:38,291][fairseq.tasks.unpaired_audio_text][INFO] - LM [REF]: -53.44462585449219, 0.05339602260269112\r\n",
      "[2021-06-08 18:56:38,292][fairseq.tasks.unpaired_audio_text][INFO] - LM [HYP]: -92.05889129638672, 0.016968236389644408\r\n"
     ]
    },
    {
     "name": "stdout",
     "output_type": "stream",
     "text": [
      "[2021-06-08 18:56:38,697][valid][INFO] - {\"epoch\": 5224, \"valid_loss\": \"1.002\", \"valid_ntokens\": \"3039.79\", \"valid_nsentences\": \"144.214\", \"valid_lm_score_sum\": \"-89638.9\", \"valid_num_pred_chars\": \"48481\", \"valid_vocab_seen_pct\": \"0.883275\", \"valid_uer\": \"100.19\", \"valid_weighted_lm_ppl\": \"76.3547\", \"valid_lm_ppl\": \"59.57\", \"valid_wps\": \"22670.6\", \"valid_wpb\": \"3039.8\", \"valid_bsz\": \"144.2\", \"valid_num_updates\": \"83584\", \"valid_best_weighted_lm_ppl\": \"73.0296\"}\r\n",
      "[2021-06-08 18:56:38,699][fairseq.checkpoint_utils][INFO] - Preparing to save checkpoint for epoch 5224 @ 83584 updates\r\n",
      "[2021-06-08 18:56:38,700][fairseq.trainer][INFO] - Saving checkpoint to /kaggle/working/checkpoint_last.pt\r\n"
     ]
    },
    {
     "name": "stdout",
     "output_type": "stream",
     "text": [
      "[2021-06-08 18:56:38,739][fairseq.trainer][INFO] - Finished saving checkpoint to /kaggle/working/checkpoint_last.pt\r\n",
      "[2021-06-08 18:56:38,739][fairseq.checkpoint_utils][INFO] - Saved checkpoint /kaggle/working/checkpoint_last.pt (epoch 5224 @ 83584 updates, score 76.35470479421123) (writing took 0.03987967600005504 seconds)\r\n",
      "[2021-06-08 18:56:38,739][fairseq_cli.train][INFO] - end of epoch 5224 (average epoch stats below)\r\n",
      "[2021-06-08 18:56:38,742][train][INFO] - {\"epoch\": 5224, \"train_loss\": \"3.524\", \"train_ntokens\": \"145.688\", \"train_nsentences\": \"145.688\", \"train_temp\": \"0.1\", \"train_code_ppl\": \"8.786\", \"train_loss_code_pen\": \"0.335\", \"train_loss_smoothness\": \"2.115\", \"train_loss_dense_g\": \"4.234\", \"train_lm_score_sum\": 0.0, \"train_num_pred_chars\": 0.0, \"train_loss_grad_pen\": \"0.076\", \"train_loss_dense_d\": \"0.021\", \"train_loss_token_d\": \"0.026\", \"train_wps\": \"13.9\", \"train_ups\": \"0.1\", \"train_wpb\": \"145.7\", \"train_bsz\": \"145.7\", \"train_num_updates\": \"83584\", \"train_lr_discriminator\": \"0.0005\", \"train_lr_generator\": \"0.0004\", \"train_gnorm\": \"30.282\", \"train_clip\": \"81.2\", \"train_train_wall\": \"164\", \"train_wall\": \"5920\"}\r\n",
      "[2021-06-08 18:56:38,789][fairseq.trainer][INFO] - begin training epoch 5225\r\n"
     ]
    },
    {
     "name": "stdout",
     "output_type": "stream",
     "text": [
      "[2021-06-08 18:56:38,790][fairseq_cli.train][INFO] - Start iterating over samples\r\n"
     ]
    },
    {
     "name": "stdout",
     "output_type": "stream",
     "text": [
      "[2021-06-08 18:59:28,035][train_inner][INFO] - {\"epoch\": 5225, \"update\": 5225.0, \"loss\": \"3.499\", \"ntokens\": \"146.26\", \"nsentences\": \"146.26\", \"temp\": \"0.1\", \"code_ppl\": \"8.613\", \"loss_code_pen\": \"0.325\", \"loss_smoothness\": \"2.082\", \"loss_dense_g\": \"4.179\", \"lm_score_sum\": 0.0, \"num_pred_chars\": 0.0, \"loss_grad_pen\": \"0.084\", \"loss_dense_d\": \"0.024\", \"loss_token_d\": \"0.026\", \"wps\": \"13.5\", \"ups\": \"0.09\", \"wpb\": \"146.3\", \"bsz\": \"146.3\", \"num_updates\": \"83600\", \"lr_discriminator\": \"0.0005\", \"lr_generator\": \"0.0004\", \"gnorm\": \"31.521\", \"clip\": \"78\", \"train_wall\": \"1069\", \"wall\": \"6089\"}\r\n",
      "[2021-06-08 18:59:28,037][fairseq_cli.train][INFO] - begin validation on \"valid\" subset\r\n"
     ]
    },
    {
     "name": "stdout",
     "output_type": "stream",
     "text": [
      "[2021-06-08 18:59:30,004][fairseq.tasks.unpaired_audio_text][INFO] - REF: ɛ n f œ ʂ ə n a d ɵ ʂ ə k t f øː r d eː t s ɔ m h ɛ n d ə p oː ɕ œ r k ɔ n s ɛ t ə n\r\n"
     ]
    },
    {
     "name": "stdout",
     "output_type": "stream",
     "text": [
      "[2021-06-08 18:59:30,006][fairseq.tasks.unpaired_audio_text][INFO] - HYP: n ɪ n s j œ r œ j b j uː yː k j uː ɡ œ j m ə m œ k b ə uː s eː r n v oː s l ɪ ŋ k ɪ l a s œ uː m k n t a\r\n",
      "[2021-06-08 18:59:30,009][fairseq.tasks.unpaired_audio_text][INFO] - LM [REF]: -53.44462585449219, 0.05339602260269112\r\n",
      "[2021-06-08 18:59:30,010][fairseq.tasks.unpaired_audio_text][INFO] - LM [HYP]: -91.58995819091797, 0.014729935196103914\r\n"
     ]
    },
    {
     "name": "stdout",
     "output_type": "stream",
     "text": [
      "[2021-06-08 18:59:30,449][valid][INFO] - {\"epoch\": 5225, \"valid_loss\": \"1.003\", \"valid_ntokens\": \"3039.79\", \"valid_nsentences\": \"144.214\", \"valid_lm_score_sum\": \"-89765.3\", \"valid_num_pred_chars\": \"48495\", \"valid_vocab_seen_pct\": \"0.88676\", \"valid_uer\": \"100.282\", \"valid_weighted_lm_ppl\": \"76.1072\", \"valid_lm_ppl\": \"59.8463\", \"valid_wps\": \"22967.9\", \"valid_wpb\": \"3039.8\", \"valid_bsz\": \"144.2\", \"valid_num_updates\": \"83600\", \"valid_best_weighted_lm_ppl\": \"73.0296\"}\r\n",
      "[2021-06-08 18:59:30,451][fairseq.checkpoint_utils][INFO] - Preparing to save checkpoint for epoch 5225 @ 83600 updates\r\n",
      "[2021-06-08 18:59:30,452][fairseq.trainer][INFO] - Saving checkpoint to /kaggle/working/checkpoint_last.pt\r\n"
     ]
    },
    {
     "name": "stdout",
     "output_type": "stream",
     "text": [
      "[2021-06-08 18:59:30,492][fairseq.trainer][INFO] - Finished saving checkpoint to /kaggle/working/checkpoint_last.pt\r\n",
      "[2021-06-08 18:59:30,493][fairseq.checkpoint_utils][INFO] - Saved checkpoint /kaggle/working/checkpoint_last.pt (epoch 5225 @ 83600 updates, score 76.10721824442236) (writing took 0.041482380000161356 seconds)\r\n",
      "[2021-06-08 18:59:30,493][fairseq_cli.train][INFO] - end of epoch 5225 (average epoch stats below)\r\n",
      "[2021-06-08 18:59:30,495][train][INFO] - {\"epoch\": 5225, \"train_loss\": \"3.35\", \"train_ntokens\": \"145.688\", \"train_nsentences\": \"145.688\", \"train_temp\": \"0.1\", \"train_code_ppl\": \"8.613\", \"train_loss_code_pen\": \"0.319\", \"train_loss_smoothness\": \"2.05\", \"train_loss_dense_g\": \"3.969\", \"train_lm_score_sum\": 0.0, \"train_num_pred_chars\": 0.0, \"train_loss_grad_pen\": \"0.089\", \"train_loss_dense_d\": \"0.025\", \"train_loss_token_d\": \"0.023\", \"train_wps\": \"13.6\", \"train_ups\": \"0.09\", \"train_wpb\": \"145.7\", \"train_bsz\": \"145.7\", \"train_num_updates\": \"83600\", \"train_lr_discriminator\": \"0.0005\", \"train_lr_generator\": \"0.0004\", \"train_gnorm\": \"29.779\", \"train_clip\": \"81.2\", \"train_train_wall\": \"169\", \"train_wall\": \"6092\"}\r\n"
     ]
    },
    {
     "name": "stdout",
     "output_type": "stream",
     "text": [
      "[2021-06-08 18:59:30,548][fairseq.trainer][INFO] - begin training epoch 5226\r\n",
      "[2021-06-08 18:59:30,550][fairseq_cli.train][INFO] - Start iterating over samples\r\n"
     ]
    },
    {
     "name": "stdout",
     "output_type": "stream",
     "text": [
      "[2021-06-08 19:02:18,508][fairseq_cli.train][INFO] - begin validation on \"valid\" subset\r\n"
     ]
    },
    {
     "name": "stdout",
     "output_type": "stream",
     "text": [
      "[2021-06-08 19:02:20,472][fairseq.tasks.unpaired_audio_text][INFO] - REF: ɛ n f œ ʂ ə n a d ɵ ʂ ə k t f øː r d eː t s ɔ m h ɛ n d ə p oː ɕ œ r k ɔ n s ɛ t ə n\r\n",
      "[2021-06-08 19:02:20,474][fairseq.tasks.unpaired_audio_text][INFO] - HYP: n ɪ n s j œ r œ j b j uː yː k j uː ɡ œ øː j m ə m œ k b ə uː s eː r n v oː s l ɪ ŋ k ɪ l a ɔ œ m a n t a\r\n",
      "[2021-06-08 19:02:20,478][fairseq.tasks.unpaired_audio_text][INFO] - LM [REF]: -53.44462585449219, 0.05339602260269112\r\n",
      "[2021-06-08 19:02:20,478][fairseq.tasks.unpaired_audio_text][INFO] - LM [HYP]: -89.56065368652344, 0.01617286369285931\r\n"
     ]
    },
    {
     "name": "stdout",
     "output_type": "stream",
     "text": [
      "[2021-06-08 19:02:20,881][valid][INFO] - {\"epoch\": 5226, \"valid_loss\": \"1.003\", \"valid_ntokens\": \"3039.79\", \"valid_nsentences\": \"144.214\", \"valid_lm_score_sum\": \"-89765.2\", \"valid_num_pred_chars\": \"48466\", \"valid_vocab_seen_pct\": \"0.879791\", \"valid_uer\": \"100.263\", \"valid_weighted_lm_ppl\": \"77.4994\", \"valid_lm_ppl\": \"59.9871\", \"valid_wps\": \"23363.6\", \"valid_wpb\": \"3039.8\", \"valid_bsz\": \"144.2\", \"valid_num_updates\": \"83616\", \"valid_best_weighted_lm_ppl\": \"73.0296\"}\r\n",
      "[2021-06-08 19:02:20,884][fairseq.checkpoint_utils][INFO] - Preparing to save checkpoint for epoch 5226 @ 83616 updates\r\n",
      "[2021-06-08 19:02:20,885][fairseq.trainer][INFO] - Saving checkpoint to /kaggle/working/checkpoint_last.pt\r\n"
     ]
    },
    {
     "name": "stdout",
     "output_type": "stream",
     "text": [
      "[2021-06-08 19:02:20,924][fairseq.trainer][INFO] - Finished saving checkpoint to /kaggle/working/checkpoint_last.pt\r\n",
      "[2021-06-08 19:02:20,925][fairseq.checkpoint_utils][INFO] - Saved checkpoint /kaggle/working/checkpoint_last.pt (epoch 5226 @ 83616 updates, score 77.4994486975521) (writing took 0.04108892000022024 seconds)\r\n",
      "[2021-06-08 19:02:20,925][fairseq_cli.train][INFO] - end of epoch 5226 (average epoch stats below)\r\n",
      "[2021-06-08 19:02:20,927][train][INFO] - {\"epoch\": 5226, \"train_loss\": \"3.425\", \"train_ntokens\": \"145.688\", \"train_nsentences\": \"145.688\", \"train_temp\": \"0.1\", \"train_code_ppl\": \"8.79\", \"train_loss_code_pen\": \"0.35\", \"train_loss_smoothness\": \"2.15\", \"train_loss_dense_g\": \"4.003\", \"train_lm_score_sum\": 0.0, \"train_num_pred_chars\": 0.0, \"train_loss_grad_pen\": \"0.067\", \"train_loss_dense_d\": \"0.025\", \"train_loss_token_d\": \"0.022\", \"train_wps\": \"13.7\", \"train_ups\": \"0.09\", \"train_wpb\": \"145.7\", \"train_bsz\": \"145.7\", \"train_num_updates\": \"83616\", \"train_lr_discriminator\": \"0.0005\", \"train_lr_generator\": \"0.0004\", \"train_gnorm\": \"29.63\", \"train_clip\": \"68.8\", \"train_train_wall\": \"168\", \"train_wall\": \"6262\"}\r\n"
     ]
    },
    {
     "name": "stdout",
     "output_type": "stream",
     "text": [
      "[2021-06-08 19:02:20,975][fairseq.trainer][INFO] - begin training epoch 5227\r\n",
      "[2021-06-08 19:02:20,976][fairseq_cli.train][INFO] - Start iterating over samples\r\n"
     ]
    },
    {
     "name": "stdout",
     "output_type": "stream",
     "text": [
      "[2021-06-08 19:05:20,102][fairseq_cli.train][INFO] - begin validation on \"valid\" subset\r\n"
     ]
    },
    {
     "name": "stdout",
     "output_type": "stream",
     "text": [
      "[2021-06-08 19:05:22,084][fairseq.tasks.unpaired_audio_text][INFO] - REF: ɛ n f œ ʂ ə n a d ɵ ʂ ə k t f øː r d eː t s ɔ m h ɛ n d ə p oː ɕ œ r k ɔ n s ɛ t ə n\r\n",
      "[2021-06-08 19:05:22,087][fairseq.tasks.unpaired_audio_text][INFO] - HYP: n ɪ n s j œ r œ j yː j uː yː k j uː ɡ ɵ øː j m ə m œ k b ə uː s eː r n v oː n l ɪ ŋ k ɪ l a s œ m a n t a\r\n",
      "[2021-06-08 19:05:22,091][fairseq.tasks.unpaired_audio_text][INFO] - LM [REF]: -53.44462585449219, 0.05339602260269112\r\n",
      "[2021-06-08 19:05:22,092][fairseq.tasks.unpaired_audio_text][INFO] - LM [HYP]: -87.3218765258789, 0.017929264306850934\r\n"
     ]
    },
    {
     "name": "stdout",
     "output_type": "stream",
     "text": [
      "[2021-06-08 19:05:22,516][valid][INFO] - {\"epoch\": 5227, \"valid_loss\": \"1\", \"valid_ntokens\": \"3039.79\", \"valid_nsentences\": \"144.214\", \"valid_lm_score_sum\": \"-89425.2\", \"valid_num_pred_chars\": \"48344\", \"valid_vocab_seen_pct\": \"0.883275\", \"valid_uer\": \"100.045\", \"valid_weighted_lm_ppl\": \"76.4578\", \"valid_lm_ppl\": \"59.6504\", \"valid_wps\": \"22778.1\", \"valid_wpb\": \"3039.8\", \"valid_bsz\": \"144.2\", \"valid_num_updates\": \"83632\", \"valid_best_weighted_lm_ppl\": \"73.0296\"}\r\n",
      "[2021-06-08 19:05:22,519][fairseq.checkpoint_utils][INFO] - Preparing to save checkpoint for epoch 5227 @ 83632 updates\r\n",
      "[2021-06-08 19:05:22,520][fairseq.trainer][INFO] - Saving checkpoint to /kaggle/working/checkpoint_last.pt\r\n"
     ]
    },
    {
     "name": "stdout",
     "output_type": "stream",
     "text": [
      "[2021-06-08 19:05:22,559][fairseq.trainer][INFO] - Finished saving checkpoint to /kaggle/working/checkpoint_last.pt\r\n",
      "[2021-06-08 19:05:22,560][fairseq.checkpoint_utils][INFO] - Saved checkpoint /kaggle/working/checkpoint_last.pt (epoch 5227 @ 83632 updates, score 76.45775181324831) (writing took 0.04082240899970202 seconds)\r\n",
      "[2021-06-08 19:05:22,560][fairseq_cli.train][INFO] - end of epoch 5227 (average epoch stats below)\r\n",
      "[2021-06-08 19:05:22,563][train][INFO] - {\"epoch\": 5227, \"train_loss\": \"3.197\", \"train_ntokens\": \"145.688\", \"train_nsentences\": \"145.688\", \"train_temp\": \"0.1\", \"train_code_ppl\": \"8.753\", \"train_loss_code_pen\": \"0.329\", \"train_loss_smoothness\": \"2.087\", \"train_loss_dense_g\": \"4.066\", \"train_lm_score_sum\": 0.0, \"train_num_pred_chars\": 0.0, \"train_loss_grad_pen\": \"0.097\", \"train_loss_dense_d\": \"0.021\", \"train_loss_token_d\": \"0.024\", \"train_wps\": \"12.8\", \"train_ups\": \"0.09\", \"train_wpb\": \"145.7\", \"train_bsz\": \"145.7\", \"train_num_updates\": \"83632\", \"train_lr_discriminator\": \"0.0005\", \"train_lr_generator\": \"0.0004\", \"train_gnorm\": \"30.434\", \"train_clip\": \"81.2\", \"train_train_wall\": \"179\", \"train_wall\": \"6444\"}\r\n"
     ]
    },
    {
     "name": "stdout",
     "output_type": "stream",
     "text": [
      "[2021-06-08 19:05:22,612][fairseq.trainer][INFO] - begin training epoch 5228\r\n",
      "[2021-06-08 19:05:22,613][fairseq_cli.train][INFO] - Start iterating over samples\r\n"
     ]
    },
    {
     "name": "stdout",
     "output_type": "stream",
     "text": [
      "[2021-06-08 19:08:14,398][fairseq_cli.train][INFO] - begin validation on \"valid\" subset\r\n"
     ]
    },
    {
     "name": "stdout",
     "output_type": "stream",
     "text": [
      "[2021-06-08 19:08:16,418][fairseq.tasks.unpaired_audio_text][INFO] - REF: ɛ n f œ ʂ ə n a d ɵ ʂ ə k t f øː r d eː t s ɔ m h ɛ n d ə p oː ɕ œ r k ɔ n s ɛ t ə n\r\n",
      "[2021-06-08 19:08:16,420][fairseq.tasks.unpaired_audio_text][INFO] - HYP: n ɪ n s j œ r œ j yː j uː yː k j uː ɡ ɵ øː j m ə m œ k b ə uː s eː r n v oː n l ɪ ŋ k ɪ l a s œ m k n t a\r\n",
      "[2021-06-08 19:08:16,423][fairseq.tasks.unpaired_audio_text][INFO] - LM [REF]: -53.44462585449219, 0.05339602260269112\r\n",
      "[2021-06-08 19:08:16,424][fairseq.tasks.unpaired_audio_text][INFO] - LM [HYP]: -91.26193237304688, 0.014954136913532633\r\n"
     ]
    },
    {
     "name": "stdout",
     "output_type": "stream",
     "text": [
      "[2021-06-08 19:08:16,894][valid][INFO] - {\"epoch\": 5228, \"valid_loss\": \"1.001\", \"valid_ntokens\": \"3039.79\", \"valid_nsentences\": \"144.214\", \"valid_lm_score_sum\": \"-89605.3\", \"valid_num_pred_chars\": \"48417\", \"valid_vocab_seen_pct\": \"0.88676\", \"valid_uer\": \"100.148\", \"valid_weighted_lm_ppl\": \"76.0331\", \"valid_lm_ppl\": \"59.7881\", \"valid_wps\": \"22017.2\", \"valid_wpb\": \"3039.8\", \"valid_bsz\": \"144.2\", \"valid_num_updates\": \"83648\", \"valid_best_weighted_lm_ppl\": \"73.0296\"}\r\n",
      "[2021-06-08 19:08:16,897][fairseq.checkpoint_utils][INFO] - Preparing to save checkpoint for epoch 5228 @ 83648 updates\r\n",
      "[2021-06-08 19:08:16,898][fairseq.trainer][INFO] - Saving checkpoint to /kaggle/working/checkpoint_last.pt\r\n"
     ]
    },
    {
     "name": "stdout",
     "output_type": "stream",
     "text": [
      "[2021-06-08 19:08:16,938][fairseq.trainer][INFO] - Finished saving checkpoint to /kaggle/working/checkpoint_last.pt\r\n",
      "[2021-06-08 19:08:16,939][fairseq.checkpoint_utils][INFO] - Saved checkpoint /kaggle/working/checkpoint_last.pt (epoch 5228 @ 83648 updates, score 76.03313338163451) (writing took 0.04193047600074351 seconds)\r\n",
      "[2021-06-08 19:08:16,939][fairseq_cli.train][INFO] - end of epoch 5228 (average epoch stats below)\r\n",
      "[2021-06-08 19:08:16,941][train][INFO] - {\"epoch\": 5228, \"train_loss\": \"3.378\", \"train_ntokens\": \"145.688\", \"train_nsentences\": \"145.688\", \"train_temp\": \"0.1\", \"train_code_ppl\": \"8.537\", \"train_loss_code_pen\": \"0.317\", \"train_loss_smoothness\": \"2.042\", \"train_loss_dense_g\": \"3.962\", \"train_lm_score_sum\": 0.0, \"train_num_pred_chars\": 0.0, \"train_loss_grad_pen\": \"0.16\", \"train_loss_dense_d\": \"0.025\", \"train_loss_token_d\": \"0.028\", \"train_wps\": \"13.4\", \"train_ups\": \"0.09\", \"train_wpb\": \"145.7\", \"train_bsz\": \"145.7\", \"train_num_updates\": \"83648\", \"train_lr_discriminator\": \"0.0005\", \"train_lr_generator\": \"0.0004\", \"train_gnorm\": \"46.758\", \"train_clip\": \"81.2\", \"train_train_wall\": \"171\", \"train_wall\": \"6618\"}\r\n"
     ]
    },
    {
     "name": "stdout",
     "output_type": "stream",
     "text": [
      "[2021-06-08 19:08:16,988][fairseq.trainer][INFO] - begin training epoch 5229\r\n",
      "[2021-06-08 19:08:16,989][fairseq_cli.train][INFO] - Start iterating over samples\r\n"
     ]
    },
    {
     "name": "stdout",
     "output_type": "stream",
     "text": [
      "[2021-06-08 19:11:13,968][fairseq_cli.train][INFO] - begin validation on \"valid\" subset\r\n"
     ]
    },
    {
     "name": "stdout",
     "output_type": "stream",
     "text": [
      "[2021-06-08 19:11:15,977][fairseq.tasks.unpaired_audio_text][INFO] - REF: ɛ n f œ ʂ ə n a d ɵ ʂ ə k t f øː r d eː t s ɔ m h ɛ n d ə p oː ɕ œ r k ɔ n s ɛ t ə n\r\n",
      "[2021-06-08 19:11:15,979][fairseq.tasks.unpaired_audio_text][INFO] - HYP: n ɪ n s j œ r œ j yː j uː m yː k j uː ɡ œ j m ə m œ k b ə uː s eː r n v oː n l ɪ ŋ k ɪ l a s œ k m k t a\r\n",
      "[2021-06-08 19:11:15,983][fairseq.tasks.unpaired_audio_text][INFO] - LM [REF]: -53.44462585449219, 0.05339602260269112\r\n",
      "[2021-06-08 19:11:15,983][fairseq.tasks.unpaired_audio_text][INFO] - LM [HYP]: -91.64607238769531, 0.014691919911151267\r\n"
     ]
    },
    {
     "name": "stdout",
     "output_type": "stream",
     "text": [
      "[2021-06-08 19:11:16,438][valid][INFO] - {\"epoch\": 5229, \"valid_loss\": \"1.003\", \"valid_ntokens\": \"3039.79\", \"valid_nsentences\": \"144.214\", \"valid_lm_score_sum\": \"-89845.2\", \"valid_num_pred_chars\": \"48494\", \"valid_vocab_seen_pct\": \"0.888502\", \"valid_uer\": \"100.313\", \"valid_weighted_lm_ppl\": \"76.0919\", \"valid_lm_ppl\": \"60.0697\", \"valid_wps\": \"22231.4\", \"valid_wpb\": \"3039.8\", \"valid_bsz\": \"144.2\", \"valid_num_updates\": \"83664\", \"valid_best_weighted_lm_ppl\": \"73.0296\"}\r\n",
      "[2021-06-08 19:11:16,440][fairseq.checkpoint_utils][INFO] - Preparing to save checkpoint for epoch 5229 @ 83664 updates\r\n",
      "[2021-06-08 19:11:16,441][fairseq.trainer][INFO] - Saving checkpoint to /kaggle/working/checkpoint_last.pt\r\n"
     ]
    },
    {
     "name": "stdout",
     "output_type": "stream",
     "text": [
      "[2021-06-08 19:11:16,480][fairseq.trainer][INFO] - Finished saving checkpoint to /kaggle/working/checkpoint_last.pt\r\n",
      "[2021-06-08 19:11:16,480][fairseq.checkpoint_utils][INFO] - Saved checkpoint /kaggle/working/checkpoint_last.pt (epoch 5229 @ 83664 updates, score 76.09194550676293) (writing took 0.03942523300065659 seconds)\r\n",
      "[2021-06-08 19:11:16,480][fairseq_cli.train][INFO] - end of epoch 5229 (average epoch stats below)\r\n",
      "[2021-06-08 19:11:16,483][train][INFO] - {\"epoch\": 5229, \"train_loss\": \"3.57\", \"train_ntokens\": \"145.688\", \"train_nsentences\": \"145.688\", \"train_temp\": \"0.1\", \"train_code_ppl\": \"8.663\", \"train_loss_code_pen\": \"0.338\", \"train_loss_smoothness\": \"2.103\", \"train_loss_dense_g\": \"4.278\", \"train_lm_score_sum\": 0.0, \"train_num_pred_chars\": 0.0, \"train_loss_grad_pen\": \"0.114\", \"train_loss_dense_d\": \"0.029\", \"train_loss_token_d\": \"0.041\", \"train_wps\": \"13\", \"train_ups\": \"0.09\", \"train_wpb\": \"145.7\", \"train_bsz\": \"145.7\", \"train_num_updates\": \"83664\", \"train_lr_discriminator\": \"0.0005\", \"train_lr_generator\": \"0.0004\", \"train_gnorm\": \"36.117\", \"train_clip\": \"62.5\", \"train_train_wall\": \"177\", \"train_wall\": \"6798\"}\r\n"
     ]
    },
    {
     "name": "stdout",
     "output_type": "stream",
     "text": [
      "[2021-06-08 19:11:16,536][fairseq.trainer][INFO] - begin training epoch 5230\r\n",
      "[2021-06-08 19:11:16,537][fairseq_cli.train][INFO] - Start iterating over samples\r\n"
     ]
    },
    {
     "name": "stdout",
     "output_type": "stream",
     "text": [
      "[2021-06-08 19:14:28,055][fairseq_cli.train][INFO] - begin validation on \"valid\" subset\r\n"
     ]
    },
    {
     "name": "stdout",
     "output_type": "stream",
     "text": [
      "[2021-06-08 19:14:30,050][fairseq.tasks.unpaired_audio_text][INFO] - REF: ɛ n f œ ʂ ə n a d ɵ ʂ ə k t f øː r d eː t s ɔ m h ɛ n d ə p oː ɕ œ r k ɔ n s ɛ t ə n\r\n",
      "[2021-06-08 19:14:30,053][fairseq.tasks.unpaired_audio_text][INFO] - HYP: n ɵ n s j œ r œ j yː b j uː m yː k j uː ɡ œ j m ə m œ k b ə uː s eː r n v oː s l ɪ ŋ k ɪ l a s œ k m k t a\r\n",
      "[2021-06-08 19:14:30,058][fairseq.tasks.unpaired_audio_text][INFO] - LM [REF]: -53.44462585449219, 0.05339602260269112\r\n",
      "[2021-06-08 19:14:30,058][fairseq.tasks.unpaired_audio_text][INFO] - LM [HYP]: -93.23272705078125, 0.014856185472552111\r\n"
     ]
    },
    {
     "name": "stdout",
     "output_type": "stream",
     "text": [
      "[2021-06-08 19:14:30,475][valid][INFO] - {\"epoch\": 5230, \"valid_loss\": \"1.003\", \"valid_ntokens\": \"3039.79\", \"valid_nsentences\": \"144.214\", \"valid_lm_score_sum\": \"-89751.2\", \"valid_num_pred_chars\": \"48464\", \"valid_vocab_seen_pct\": \"0.876307\", \"valid_uer\": \"100.261\", \"valid_weighted_lm_ppl\": \"78.0795\", \"valid_lm_ppl\": \"59.9583\", \"valid_wps\": \"22518.2\", \"valid_wpb\": \"3039.8\", \"valid_bsz\": \"144.2\", \"valid_num_updates\": \"83680\", \"valid_best_weighted_lm_ppl\": \"73.0296\"}\r\n",
      "[2021-06-08 19:14:30,478][fairseq.checkpoint_utils][INFO] - Preparing to save checkpoint for epoch 5230 @ 83680 updates\r\n",
      "[2021-06-08 19:14:30,479][fairseq.trainer][INFO] - Saving checkpoint to /kaggle/working/checkpoint_last.pt\r\n"
     ]
    },
    {
     "name": "stdout",
     "output_type": "stream",
     "text": [
      "[2021-06-08 19:14:30,517][fairseq.trainer][INFO] - Finished saving checkpoint to /kaggle/working/checkpoint_last.pt\r\n",
      "[2021-06-08 19:14:30,518][fairseq.checkpoint_utils][INFO] - Saved checkpoint /kaggle/working/checkpoint_last.pt (epoch 5230 @ 83680 updates, score 78.07954800248422) (writing took 0.03944203599985485 seconds)\r\n",
      "[2021-06-08 19:14:30,518][fairseq_cli.train][INFO] - end of epoch 5230 (average epoch stats below)\r\n",
      "[2021-06-08 19:14:30,520][train][INFO] - {\"epoch\": 5230, \"train_loss\": \"2.871\", \"train_ntokens\": \"145.688\", \"train_nsentences\": \"145.688\", \"train_temp\": \"0.1\", \"train_code_ppl\": \"8.733\", \"train_loss_code_pen\": \"0.331\", \"train_loss_smoothness\": \"2.078\", \"train_loss_dense_g\": \"3.834\", \"train_lm_score_sum\": 0.0, \"train_num_pred_chars\": 0.0, \"train_loss_grad_pen\": \"0.053\", \"train_loss_dense_d\": \"0.025\", \"train_loss_token_d\": \"0.025\", \"train_wps\": \"12\", \"train_ups\": \"0.08\", \"train_wpb\": \"145.7\", \"train_bsz\": \"145.7\", \"train_num_updates\": \"83680\", \"train_lr_discriminator\": \"0.0005\", \"train_lr_generator\": \"0.0004\", \"train_gnorm\": \"28.769\", \"train_clip\": \"68.8\", \"train_train_wall\": \"191\", \"train_wall\": \"6992\"}\r\n"
     ]
    },
    {
     "name": "stdout",
     "output_type": "stream",
     "text": [
      "[2021-06-08 19:14:30,567][fairseq.trainer][INFO] - begin training epoch 5231\r\n",
      "[2021-06-08 19:14:30,568][fairseq_cli.train][INFO] - Start iterating over samples\r\n"
     ]
    },
    {
     "name": "stdout",
     "output_type": "stream",
     "text": [
      "[2021-06-08 19:17:20,894][fairseq_cli.train][INFO] - begin validation on \"valid\" subset\r\n"
     ]
    },
    {
     "name": "stdout",
     "output_type": "stream",
     "text": [
      "[2021-06-08 19:17:23,049][fairseq.tasks.unpaired_audio_text][INFO] - REF: ɛ n f œ ʂ ə n a d ɵ ʂ ə k t f øː r d eː t s ɔ m h ɛ n d ə p oː ɕ œ r k ɔ n s ɛ t ə n\r\n",
      "[2021-06-08 19:17:23,051][fairseq.tasks.unpaired_audio_text][INFO] - HYP: n ɪ n s j œ r œ j j uː yː k j uː f œ øː j m ə m œ k b ə uː s eː r n v oː s l ɪ ŋ k ɪ l a s œ k m k n t a\r\n",
      "[2021-06-08 19:17:23,055][fairseq.tasks.unpaired_audio_text][INFO] - LM [REF]: -53.44462585449219, 0.05339602260269112\r\n",
      "[2021-06-08 19:17:23,055][fairseq.tasks.unpaired_audio_text][INFO] - LM [HYP]: -89.93083190917969, 0.015899496147530574\r\n"
     ]
    },
    {
     "name": "stdout",
     "output_type": "stream",
     "text": [
      "[2021-06-08 19:17:23,455][valid][INFO] - {\"epoch\": 5231, \"valid_loss\": \"1.001\", \"valid_ntokens\": \"3039.79\", \"valid_nsentences\": \"144.214\", \"valid_lm_score_sum\": \"-89638\", \"valid_num_pred_chars\": \"48365\", \"valid_vocab_seen_pct\": \"0.888502\", \"valid_uer\": \"100.12\", \"valid_weighted_lm_ppl\": \"76.1691\", \"valid_lm_ppl\": \"60.1306\", \"valid_wps\": \"23394.4\", \"valid_wpb\": \"3039.8\", \"valid_bsz\": \"144.2\", \"valid_num_updates\": \"83696\", \"valid_best_weighted_lm_ppl\": \"73.0296\"}\r\n",
      "[2021-06-08 19:17:23,458][fairseq.checkpoint_utils][INFO] - Preparing to save checkpoint for epoch 5231 @ 83696 updates\r\n",
      "[2021-06-08 19:17:23,459][fairseq.trainer][INFO] - Saving checkpoint to /kaggle/working/checkpoint_last.pt\r\n"
     ]
    },
    {
     "name": "stdout",
     "output_type": "stream",
     "text": [
      "[2021-06-08 19:17:23,499][fairseq.trainer][INFO] - Finished saving checkpoint to /kaggle/working/checkpoint_last.pt\r\n",
      "[2021-06-08 19:17:23,499][fairseq.checkpoint_utils][INFO] - Saved checkpoint /kaggle/working/checkpoint_last.pt (epoch 5231 @ 83696 updates, score 76.16914773477615) (writing took 0.041205180999895674 seconds)\r\n",
      "[2021-06-08 19:17:23,500][fairseq_cli.train][INFO] - end of epoch 5231 (average epoch stats below)\r\n",
      "[2021-06-08 19:17:23,502][train][INFO] - {\"epoch\": 5231, \"train_loss\": \"3.6\", \"train_ntokens\": \"145.688\", \"train_nsentences\": \"145.688\", \"train_temp\": \"0.1\", \"train_code_ppl\": \"8.771\", \"train_loss_code_pen\": \"0.326\", \"train_loss_smoothness\": \"2.085\", \"train_loss_dense_g\": \"3.952\", \"train_lm_score_sum\": 0.0, \"train_num_pred_chars\": 0.0, \"train_loss_grad_pen\": \"0.177\", \"train_loss_dense_d\": \"0.029\", \"train_loss_token_d\": \"0.027\", \"train_wps\": \"13.5\", \"train_ups\": \"0.09\", \"train_wpb\": \"145.7\", \"train_bsz\": \"145.7\", \"train_num_updates\": \"83696\", \"train_lr_discriminator\": \"0.0005\", \"train_lr_generator\": \"0.0004\", \"train_gnorm\": \"31.49\", \"train_clip\": \"93.8\", \"train_train_wall\": \"170\", \"train_wall\": \"7165\"}\r\n"
     ]
    },
    {
     "name": "stdout",
     "output_type": "stream",
     "text": [
      "[2021-06-08 19:17:23,555][fairseq.trainer][INFO] - begin training epoch 5232\r\n",
      "[2021-06-08 19:17:23,556][fairseq_cli.train][INFO] - Start iterating over samples\r\n"
     ]
    },
    {
     "name": "stdout",
     "output_type": "stream",
     "text": [
      "[2021-06-08 19:17:52,626][train_inner][INFO] - {\"epoch\": 5232, \"update\": 5231.25, \"loss\": \"3.369\", \"ntokens\": \"144.69\", \"nsentences\": \"144.69\", \"temp\": \"0.1\", \"code_ppl\": \"8.735\", \"loss_code_pen\": \"0.333\", \"loss_smoothness\": \"2.096\", \"loss_dense_g\": \"4.003\", \"lm_score_sum\": 0.0, \"num_pred_chars\": 0.0, \"loss_grad_pen\": \"0.11\", \"loss_dense_d\": \"0.026\", \"loss_token_d\": \"0.027\", \"wps\": \"13.1\", \"ups\": \"0.09\", \"wpb\": \"144.7\", \"bsz\": \"144.7\", \"num_updates\": \"83700\", \"lr_discriminator\": \"0.0005\", \"lr_generator\": \"0.0004\", \"gnorm\": \"34.513\", \"clip\": \"77\", \"train_wall\": \"1084\", \"wall\": \"7194\"}\r\n"
     ]
    },
    {
     "name": "stdout",
     "output_type": "stream",
     "text": [
      "[2021-06-08 19:20:08,401][fairseq_cli.train][INFO] - begin validation on \"valid\" subset\r\n"
     ]
    },
    {
     "name": "stdout",
     "output_type": "stream",
     "text": [
      "[2021-06-08 19:20:10,498][fairseq.tasks.unpaired_audio_text][INFO] - REF: ɛ n f œ ʂ ə n a d ɵ ʂ ə k t f øː r d eː t s ɔ m h ɛ n d ə p oː ɕ œ r k ɔ n s ɛ t ə n\r\n",
      "[2021-06-08 19:20:10,500][fairseq.tasks.unpaired_audio_text][INFO] - HYP: n ɪ n s j œ r œ j oː j uː yː k j uː f œ øː j m ə m œ k b ə uː s eː r n v oː s l ɪ ŋ k ɪ l a s œ uː m k n t a\r\n",
      "[2021-06-08 19:20:10,505][fairseq.tasks.unpaired_audio_text][INFO] - LM [REF]: -53.44462585449219, 0.05339602260269112\r\n",
      "[2021-06-08 19:20:10,505][fairseq.tasks.unpaired_audio_text][INFO] - LM [HYP]: -92.21517181396484, 0.015554618941797023\r\n"
     ]
    },
    {
     "name": "stdout",
     "output_type": "stream",
     "text": [
      "[2021-06-08 19:20:10,950][valid][INFO] - {\"epoch\": 5232, \"valid_loss\": \"1.003\", \"valid_ntokens\": \"3039.79\", \"valid_nsentences\": \"144.214\", \"valid_lm_score_sum\": \"-89811.4\", \"valid_num_pred_chars\": \"48503\", \"valid_vocab_seen_pct\": \"0.890244\", \"valid_uer\": \"100.261\", \"valid_weighted_lm_ppl\": \"75.6226\", \"valid_lm_ppl\": \"59.9335\", \"valid_wps\": \"22054.5\", \"valid_wpb\": \"3039.8\", \"valid_bsz\": \"144.2\", \"valid_num_updates\": \"83712\", \"valid_best_weighted_lm_ppl\": \"73.0296\"}\r\n",
      "[2021-06-08 19:20:10,953][fairseq.checkpoint_utils][INFO] - Preparing to save checkpoint for epoch 5232 @ 83712 updates\r\n",
      "[2021-06-08 19:20:10,954][fairseq.trainer][INFO] - Saving checkpoint to /kaggle/working/checkpoint_last.pt\r\n",
      "[2021-06-08 19:20:10,992][fairseq.trainer][INFO] - Finished saving checkpoint to /kaggle/working/checkpoint_last.pt\r\n"
     ]
    },
    {
     "name": "stdout",
     "output_type": "stream",
     "text": [
      "[2021-06-08 19:20:10,992][fairseq.checkpoint_utils][INFO] - Saved checkpoint /kaggle/working/checkpoint_last.pt (epoch 5232 @ 83712 updates, score 75.62262837735722) (writing took 0.03917790500054252 seconds)\r\n",
      "[2021-06-08 19:20:10,993][fairseq_cli.train][INFO] - end of epoch 5232 (average epoch stats below)\r\n",
      "[2021-06-08 19:20:10,996][train][INFO] - {\"epoch\": 5232, \"train_loss\": \"3.575\", \"train_ntokens\": \"145.688\", \"train_nsentences\": \"145.688\", \"train_temp\": \"0.1\", \"train_code_ppl\": \"8.511\", \"train_loss_code_pen\": \"0.328\", \"train_loss_smoothness\": \"2.071\", \"train_loss_dense_g\": \"3.993\", \"train_lm_score_sum\": 0.0, \"train_num_pred_chars\": 0.0, \"train_loss_grad_pen\": \"0.09\", \"train_loss_dense_d\": \"0.029\", \"train_loss_token_d\": \"0.027\", \"train_wps\": \"13.9\", \"train_ups\": \"0.1\", \"train_wpb\": \"145.7\", \"train_bsz\": \"145.7\", \"train_num_updates\": \"83712\", \"train_lr_discriminator\": \"0.0005\", \"train_lr_generator\": \"0.0004\", \"train_gnorm\": \"34.84\", \"train_clip\": \"81.2\", \"train_train_wall\": \"164\", \"train_wall\": \"7332\"}\r\n"
     ]
    },
    {
     "name": "stdout",
     "output_type": "stream",
     "text": [
      "[2021-06-08 19:20:11,050][fairseq.trainer][INFO] - begin training epoch 5233\r\n",
      "[2021-06-08 19:20:11,051][fairseq_cli.train][INFO] - Start iterating over samples\r\n"
     ]
    },
    {
     "name": "stdout",
     "output_type": "stream",
     "text": [
      "[2021-06-08 19:22:53,641][fairseq_cli.train][INFO] - begin validation on \"valid\" subset\r\n"
     ]
    },
    {
     "name": "stdout",
     "output_type": "stream",
     "text": [
      "[2021-06-08 19:22:55,672][fairseq.tasks.unpaired_audio_text][INFO] - REF: ɛ n f œ ʂ ə n a d ɵ ʂ ə k t f øː r d eː t s ɔ m h ɛ n d ə p oː ɕ œ r k ɔ n s ɛ t ə n\r\n",
      "[2021-06-08 19:22:55,674][fairseq.tasks.unpaired_audio_text][INFO] - HYP: n ɪ n s j œ r œ j yː b j uː yː k j uː ɡ œ øː j m ə m œ k b ə uː s eː r n v oː s l ɪ ŋ k ɪ l a ɔ œ uː m k n t a\r\n"
     ]
    },
    {
     "name": "stdout",
     "output_type": "stream",
     "text": [
      "[2021-06-08 19:22:55,677][fairseq.tasks.unpaired_audio_text][INFO] - LM [REF]: -53.44462585449219, 0.05339602260269112\r\n",
      "[2021-06-08 19:22:55,678][fairseq.tasks.unpaired_audio_text][INFO] - LM [HYP]: -97.58112335205078, 0.01328739775008775\r\n"
     ]
    },
    {
     "name": "stdout",
     "output_type": "stream",
     "text": [
      "[2021-06-08 19:22:56,079][valid][INFO] - {\"epoch\": 5233, \"valid_loss\": \"1.002\", \"valid_ntokens\": \"3039.79\", \"valid_nsentences\": \"144.214\", \"valid_lm_score_sum\": \"-89547.7\", \"valid_num_pred_chars\": \"48456\", \"valid_vocab_seen_pct\": \"0.878049\", \"valid_uer\": \"100.193\", \"valid_weighted_lm_ppl\": \"77.1016\", \"valid_lm_ppl\": \"59.443\", \"valid_wps\": \"22702.4\", \"valid_wpb\": \"3039.8\", \"valid_bsz\": \"144.2\", \"valid_num_updates\": \"83728\", \"valid_best_weighted_lm_ppl\": \"73.0296\"}\r\n",
      "[2021-06-08 19:22:56,081][fairseq.checkpoint_utils][INFO] - Preparing to save checkpoint for epoch 5233 @ 83728 updates\r\n"
     ]
    },
    {
     "name": "stdout",
     "output_type": "stream",
     "text": [
      "[2021-06-08 19:22:56,082][fairseq.trainer][INFO] - Saving checkpoint to /kaggle/working/checkpoint_last.pt\r\n",
      "[2021-06-08 19:22:56,123][fairseq.trainer][INFO] - Finished saving checkpoint to /kaggle/working/checkpoint_last.pt\r\n",
      "[2021-06-08 19:22:56,123][fairseq.checkpoint_utils][INFO] - Saved checkpoint /kaggle/working/checkpoint_last.pt (epoch 5233 @ 83728 updates, score 77.10164640175877) (writing took 0.041420647999984794 seconds)\r\n",
      "[2021-06-08 19:22:56,123][fairseq_cli.train][INFO] - end of epoch 5233 (average epoch stats below)\r\n",
      "[2021-06-08 19:22:56,125][train][INFO] - {\"epoch\": 5233, \"train_loss\": \"3.64\", \"train_ntokens\": \"145.688\", \"train_nsentences\": \"145.688\", \"train_temp\": \"0.1\", \"train_code_ppl\": \"8.638\", \"train_loss_code_pen\": \"0.324\", \"train_loss_smoothness\": \"2.079\", \"train_loss_dense_g\": \"4.119\", \"train_lm_score_sum\": 0.0, \"train_num_pred_chars\": 0.0, \"train_loss_grad_pen\": \"0.078\", \"train_loss_dense_d\": \"0.022\", \"train_loss_token_d\": \"0.031\", \"train_wps\": \"14.1\", \"train_ups\": \"0.1\", \"train_wpb\": \"145.7\", \"train_bsz\": \"145.7\", \"train_num_updates\": \"83728\", \"train_lr_discriminator\": \"0.0005\", \"train_lr_generator\": \"0.0004\", \"train_gnorm\": \"30.97\", \"train_clip\": \"81.2\", \"train_train_wall\": \"162\", \"train_wall\": \"7497\"}\r\n"
     ]
    },
    {
     "name": "stdout",
     "output_type": "stream",
     "text": [
      "[2021-06-08 19:22:56,174][fairseq.trainer][INFO] - begin training epoch 5234\r\n",
      "[2021-06-08 19:22:56,175][fairseq_cli.train][INFO] - Start iterating over samples\r\n"
     ]
    },
    {
     "name": "stdout",
     "output_type": "stream",
     "text": [
      "[2021-06-08 19:26:13,670][fairseq_cli.train][INFO] - begin validation on \"valid\" subset\r\n"
     ]
    },
    {
     "name": "stdout",
     "output_type": "stream",
     "text": [
      "[2021-06-08 19:26:15,762][fairseq.tasks.unpaired_audio_text][INFO] - REF: ɛ n f œ ʂ ə n a d ɵ ʂ ə k t f øː r d eː t s ɔ m h ɛ n d ə p oː ɕ œ r k ɔ n s ɛ t ə n\r\n",
      "[2021-06-08 19:26:15,764][fairseq.tasks.unpaired_audio_text][INFO] - HYP: n ɪ n s j œ r œ j b j uː yː k uː f œ j m ə m œ k b ə uː s eː r n v oː s l ɪ ŋ k ɪ l a ɔ œ m k n t a\r\n",
      "[2021-06-08 19:26:15,768][fairseq.tasks.unpaired_audio_text][INFO] - LM [REF]: -53.44462585449219, 0.05339602260269112\r\n",
      "[2021-06-08 19:26:15,768][fairseq.tasks.unpaired_audio_text][INFO] - LM [HYP]: -87.6405258178711, 0.014933297326813134\r\n"
     ]
    },
    {
     "name": "stdout",
     "output_type": "stream",
     "text": [
      "[2021-06-08 19:26:16,179][valid][INFO] - {\"epoch\": 5234, \"valid_loss\": \"1\", \"valid_ntokens\": \"3039.79\", \"valid_nsentences\": \"144.214\", \"valid_lm_score_sum\": \"-89586.6\", \"valid_num_pred_chars\": \"48342\", \"valid_vocab_seen_pct\": \"0.879791\", \"valid_uer\": \"100.012\", \"valid_weighted_lm_ppl\": \"77.648\", \"valid_lm_ppl\": \"60.102\", \"valid_wps\": \"21768.7\", \"valid_wpb\": \"3039.8\", \"valid_bsz\": \"144.2\", \"valid_num_updates\": \"83744\", \"valid_best_weighted_lm_ppl\": \"73.0296\"}\r\n",
      "[2021-06-08 19:26:16,182][fairseq.checkpoint_utils][INFO] - Preparing to save checkpoint for epoch 5234 @ 83744 updates\r\n",
      "[2021-06-08 19:26:16,183][fairseq.trainer][INFO] - Saving checkpoint to /kaggle/working/checkpoint_last.pt\r\n"
     ]
    },
    {
     "name": "stdout",
     "output_type": "stream",
     "text": [
      "[2021-06-08 19:26:16,223][fairseq.trainer][INFO] - Finished saving checkpoint to /kaggle/working/checkpoint_last.pt\r\n",
      "[2021-06-08 19:26:16,223][fairseq.checkpoint_utils][INFO] - Saved checkpoint /kaggle/working/checkpoint_last.pt (epoch 5234 @ 83744 updates, score 77.64798679756895) (writing took 0.04140421699958097 seconds)\r\n",
      "[2021-06-08 19:26:16,224][fairseq_cli.train][INFO] - end of epoch 5234 (average epoch stats below)\r\n",
      "[2021-06-08 19:26:16,226][train][INFO] - {\"epoch\": 5234, \"train_loss\": \"2.891\", \"train_ntokens\": \"145.688\", \"train_nsentences\": \"145.688\", \"train_temp\": \"0.1\", \"train_code_ppl\": \"8.511\", \"train_loss_code_pen\": \"0.323\", \"train_loss_smoothness\": \"2.047\", \"train_loss_dense_g\": \"3.838\", \"train_lm_score_sum\": 0.0, \"train_num_pred_chars\": 0.0, \"train_loss_grad_pen\": \"0.119\", \"train_loss_dense_d\": \"0.024\", \"train_loss_token_d\": \"0.024\", \"train_wps\": \"11.6\", \"train_ups\": \"0.08\", \"train_wpb\": \"145.7\", \"train_bsz\": \"145.7\", \"train_num_updates\": \"83744\", \"train_lr_discriminator\": \"0.0005\", \"train_lr_generator\": \"0.0004\", \"train_gnorm\": \"30.438\", \"train_clip\": \"75\", \"train_train_wall\": \"197\", \"train_wall\": \"7697\"}\r\n"
     ]
    },
    {
     "name": "stdout",
     "output_type": "stream",
     "text": [
      "[2021-06-08 19:26:16,280][fairseq.trainer][INFO] - begin training epoch 5235\r\n",
      "[2021-06-08 19:26:16,281][fairseq_cli.train][INFO] - Start iterating over samples\r\n"
     ]
    },
    {
     "name": "stdout",
     "output_type": "stream",
     "text": [
      "[2021-06-08 19:29:10,518][fairseq_cli.train][INFO] - begin validation on \"valid\" subset\r\n"
     ]
    },
    {
     "name": "stdout",
     "output_type": "stream",
     "text": [
      "[2021-06-08 19:29:12,576][fairseq.tasks.unpaired_audio_text][INFO] - REF: ɛ n f œ ʂ ə n a d ɵ ʂ ə k t f øː r d eː t s ɔ m h ɛ n d ə p oː ɕ œ r k ɔ n s ɛ t ə n\r\n",
      "[2021-06-08 19:29:12,578][fairseq.tasks.unpaired_audio_text][INFO] - HYP: n ɪ n s j œ r œ j oː b j uː yː k j uː f œ j m ə m œ k ə uː s eː r n v oː s l ɪ ŋ k ɪ l a ɔ d œ m k n t a\r\n",
      "[2021-06-08 19:29:12,582][fairseq.tasks.unpaired_audio_text][INFO] - LM [REF]: -53.44462585449219, 0.05339602260269112\r\n",
      "[2021-06-08 19:29:12,582][fairseq.tasks.unpaired_audio_text][INFO] - LM [HYP]: -90.70207214355469, 0.015344705478293478\r\n"
     ]
    },
    {
     "name": "stdout",
     "output_type": "stream",
     "text": [
      "[2021-06-08 19:29:12,992][valid][INFO] - {\"epoch\": 5235, \"valid_loss\": \"1.001\", \"valid_ntokens\": \"3039.79\", \"valid_nsentences\": \"144.214\", \"valid_lm_score_sum\": \"-89819.8\", \"valid_num_pred_chars\": \"48414\", \"valid_vocab_seen_pct\": \"0.885017\", \"valid_uer\": \"100.122\", \"valid_weighted_lm_ppl\": \"77.1027\", \"valid_lm_ppl\": \"60.3912\", \"valid_wps\": \"22330\", \"valid_wpb\": \"3039.8\", \"valid_bsz\": \"144.2\", \"valid_num_updates\": \"83760\", \"valid_best_weighted_lm_ppl\": \"73.0296\"}\r\n",
      "[2021-06-08 19:29:12,994][fairseq.checkpoint_utils][INFO] - Preparing to save checkpoint for epoch 5235 @ 83760 updates\r\n",
      "[2021-06-08 19:29:12,995][fairseq.trainer][INFO] - Saving checkpoint to /kaggle/working/checkpoint_last.pt\r\n"
     ]
    },
    {
     "name": "stdout",
     "output_type": "stream",
     "text": [
      "[2021-06-08 19:29:13,033][fairseq.trainer][INFO] - Finished saving checkpoint to /kaggle/working/checkpoint_last.pt\r\n",
      "[2021-06-08 19:29:13,033][fairseq.checkpoint_utils][INFO] - Saved checkpoint /kaggle/working/checkpoint_last.pt (epoch 5235 @ 83760 updates, score 77.10272400628702) (writing took 0.03907325799991668 seconds)\r\n",
      "[2021-06-08 19:29:13,034][fairseq_cli.train][INFO] - end of epoch 5235 (average epoch stats below)\r\n",
      "[2021-06-08 19:29:13,036][train][INFO] - {\"epoch\": 5235, \"train_loss\": \"3.73\", \"train_ntokens\": \"145.688\", \"train_nsentences\": \"145.688\", \"train_temp\": \"0.1\", \"train_code_ppl\": \"8.833\", \"train_loss_code_pen\": \"0.356\", \"train_loss_smoothness\": \"2.169\", \"train_loss_dense_g\": \"4.133\", \"train_lm_score_sum\": 0.0, \"train_num_pred_chars\": 0.0, \"train_loss_grad_pen\": \"0.109\", \"train_loss_dense_d\": \"0.025\", \"train_loss_token_d\": \"0.029\", \"train_wps\": \"13.2\", \"train_ups\": \"0.09\", \"train_wpb\": \"145.7\", \"train_bsz\": \"145.7\", \"train_num_updates\": \"83760\", \"train_lr_discriminator\": \"0.0005\", \"train_lr_generator\": \"0.0004\", \"train_gnorm\": \"35.839\", \"train_clip\": \"81.2\", \"train_train_wall\": \"174\", \"train_wall\": \"7874\"}\r\n"
     ]
    },
    {
     "name": "stdout",
     "output_type": "stream",
     "text": [
      "[2021-06-08 19:29:13,085][fairseq.trainer][INFO] - begin training epoch 5236\r\n",
      "[2021-06-08 19:29:13,086][fairseq_cli.train][INFO] - Start iterating over samples\r\n"
     ]
    },
    {
     "name": "stdout",
     "output_type": "stream",
     "text": [
      "[2021-06-08 19:32:21,821][fairseq_cli.train][INFO] - begin validation on \"valid\" subset\r\n"
     ]
    },
    {
     "name": "stdout",
     "output_type": "stream",
     "text": [
      "[2021-06-08 19:32:23,896][fairseq.tasks.unpaired_audio_text][INFO] - REF: ɛ n f œ ʂ ə n a d ɵ ʂ ə k t f øː r d eː t s ɔ m h ɛ n d ə p oː ɕ œ r k ɔ n s ɛ t ə n\r\n",
      "[2021-06-08 19:32:23,898][fairseq.tasks.unpaired_audio_text][INFO] - HYP: n ɪ s j œ r œ j yː b j uː œ yː k j uː f ɵ j m ə m œ k ə uː s eː r n v oː s l ɪ ŋ k ɪ l a ɔ œ m a n t a\r\n",
      "[2021-06-08 19:32:23,901][fairseq.tasks.unpaired_audio_text][INFO] - LM [REF]: -53.44462585449219, 0.05339602260269112\r\n",
      "[2021-06-08 19:32:23,901][fairseq.tasks.unpaired_audio_text][INFO] - LM [HYP]: -88.64826202392578, 0.015518573426310854\r\n"
     ]
    },
    {
     "name": "stdout",
     "output_type": "stream",
     "text": [
      "[2021-06-08 19:32:24,312][valid][INFO] - {\"epoch\": 5236, \"valid_loss\": \"1.004\", \"valid_ntokens\": \"3039.79\", \"valid_nsentences\": \"144.214\", \"valid_lm_score_sum\": \"-89898.2\", \"valid_num_pred_chars\": \"48504\", \"valid_vocab_seen_pct\": \"0.881533\", \"valid_uer\": \"100.362\", \"valid_weighted_lm_ppl\": \"77.4238\", \"valid_lm_ppl\": \"60.1661\", \"valid_wps\": \"21919.4\", \"valid_wpb\": \"3039.8\", \"valid_bsz\": \"144.2\", \"valid_num_updates\": \"83776\", \"valid_best_weighted_lm_ppl\": \"73.0296\"}\r\n",
      "[2021-06-08 19:32:24,314][fairseq.checkpoint_utils][INFO] - Preparing to save checkpoint for epoch 5236 @ 83776 updates\r\n",
      "[2021-06-08 19:32:24,315][fairseq.trainer][INFO] - Saving checkpoint to /kaggle/working/checkpoint_last.pt\r\n"
     ]
    },
    {
     "name": "stdout",
     "output_type": "stream",
     "text": [
      "[2021-06-08 19:32:24,353][fairseq.trainer][INFO] - Finished saving checkpoint to /kaggle/working/checkpoint_last.pt\r\n",
      "[2021-06-08 19:32:24,353][fairseq.checkpoint_utils][INFO] - Saved checkpoint /kaggle/working/checkpoint_last.pt (epoch 5236 @ 83776 updates, score 77.42384658933506) (writing took 0.038747812001020066 seconds)\r\n",
      "[2021-06-08 19:32:24,354][fairseq_cli.train][INFO] - end of epoch 5236 (average epoch stats below)\r\n",
      "[2021-06-08 19:32:24,356][train][INFO] - {\"epoch\": 5236, \"train_loss\": \"3.074\", \"train_ntokens\": \"145.688\", \"train_nsentences\": \"145.688\", \"train_temp\": \"0.1\", \"train_code_ppl\": \"8.546\", \"train_loss_code_pen\": \"0.316\", \"train_loss_smoothness\": \"2.035\", \"train_loss_dense_g\": \"3.915\", \"train_lm_score_sum\": 0.0, \"train_num_pred_chars\": 0.0, \"train_loss_grad_pen\": \"0.06\", \"train_loss_dense_d\": \"0.026\", \"train_loss_token_d\": \"0.021\", \"train_wps\": \"12.2\", \"train_ups\": \"0.08\", \"train_wpb\": \"145.7\", \"train_bsz\": \"145.7\", \"train_num_updates\": \"83776\", \"train_lr_discriminator\": \"0.0005\", \"train_lr_generator\": \"0.0004\", \"train_gnorm\": \"28.916\", \"train_clip\": \"68.8\", \"train_train_wall\": \"188\", \"train_wall\": \"8066\"}\r\n"
     ]
    },
    {
     "name": "stdout",
     "output_type": "stream",
     "text": [
      "[2021-06-08 19:32:24,404][fairseq.trainer][INFO] - begin training epoch 5237\r\n",
      "[2021-06-08 19:32:24,406][fairseq_cli.train][INFO] - Start iterating over samples\r\n"
     ]
    },
    {
     "name": "stdout",
     "output_type": "stream",
     "text": [
      "[2021-06-08 19:35:36,762][fairseq_cli.train][INFO] - begin validation on \"valid\" subset\r\n"
     ]
    },
    {
     "name": "stdout",
     "output_type": "stream",
     "text": [
      "[2021-06-08 19:35:38,906][fairseq.tasks.unpaired_audio_text][INFO] - REF: ɛ n f œ ʂ ə n a d ɵ ʂ ə k t f øː r d eː t s ɔ m h ɛ n d ə p oː ɕ œ r k ɔ n s ɛ t ə n\r\n",
      "[2021-06-08 19:35:38,908][fairseq.tasks.unpaired_audio_text][INFO] - HYP: n ɪ s j œ f œ j j uː œ j k j uː ɡ ɵ j m ə m œ ɔ ə uː s eː r n v oː s l ɪ ŋ k ɪ l a ɔ œ m a n t a\r\n",
      "[2021-06-08 19:35:38,913][fairseq.tasks.unpaired_audio_text][INFO] - LM [REF]: -53.44462585449219, 0.05339602260269112\r\n",
      "[2021-06-08 19:35:38,913][fairseq.tasks.unpaired_audio_text][INFO] - LM [HYP]: -85.28404998779297, 0.015326597239881784\r\n"
     ]
    },
    {
     "name": "stdout",
     "output_type": "stream",
     "text": [
      "[2021-06-08 19:35:39,351][valid][INFO] - {\"epoch\": 5237, \"valid_loss\": \"1.001\", \"valid_ntokens\": \"3039.79\", \"valid_nsentences\": \"144.214\", \"valid_lm_score_sum\": \"-89557.6\", \"valid_num_pred_chars\": \"48317\", \"valid_vocab_seen_pct\": \"0.879791\", \"valid_uer\": \"100.096\", \"valid_weighted_lm_ppl\": \"77.7028\", \"valid_lm_ppl\": \"60.1445\", \"valid_wps\": \"21856.9\", \"valid_wpb\": \"3039.8\", \"valid_bsz\": \"144.2\", \"valid_num_updates\": \"83792\", \"valid_best_weighted_lm_ppl\": \"73.0296\"}\r\n",
      "[2021-06-08 19:35:39,354][fairseq.checkpoint_utils][INFO] - Preparing to save checkpoint for epoch 5237 @ 83792 updates\r\n",
      "[2021-06-08 19:35:39,355][fairseq.trainer][INFO] - Saving checkpoint to /kaggle/working/checkpoint_last.pt\r\n"
     ]
    },
    {
     "name": "stdout",
     "output_type": "stream",
     "text": [
      "[2021-06-08 19:35:39,395][fairseq.trainer][INFO] - Finished saving checkpoint to /kaggle/working/checkpoint_last.pt\r\n",
      "[2021-06-08 19:35:39,395][fairseq.checkpoint_utils][INFO] - Saved checkpoint /kaggle/working/checkpoint_last.pt (epoch 5237 @ 83792 updates, score 77.70279630733724) (writing took 0.04152146199885465 seconds)\r\n",
      "[2021-06-08 19:35:39,396][fairseq_cli.train][INFO] - end of epoch 5237 (average epoch stats below)\r\n",
      "[2021-06-08 19:35:39,398][train][INFO] - {\"epoch\": 5237, \"train_loss\": \"2.978\", \"train_ntokens\": \"145.688\", \"train_nsentences\": \"145.688\", \"train_temp\": \"0.1\", \"train_code_ppl\": \"8.795\", \"train_loss_code_pen\": \"0.329\", \"train_loss_smoothness\": \"2.061\", \"train_loss_dense_g\": \"4.097\", \"train_lm_score_sum\": 0.0, \"train_num_pred_chars\": 0.0, \"train_loss_grad_pen\": \"0.049\", \"train_loss_dense_d\": \"0.024\", \"train_loss_token_d\": \"0.024\", \"train_wps\": \"12\", \"train_ups\": \"0.08\", \"train_wpb\": \"145.7\", \"train_bsz\": \"145.7\", \"train_num_updates\": \"83792\", \"train_lr_discriminator\": \"0.0005\", \"train_lr_generator\": \"0.0004\", \"train_gnorm\": \"29.649\", \"train_clip\": \"56.2\", \"train_train_wall\": \"192\", \"train_wall\": \"8261\"}\r\n"
     ]
    },
    {
     "name": "stdout",
     "output_type": "stream",
     "text": [
      "[2021-06-08 19:35:39,452][fairseq.trainer][INFO] - begin training epoch 5238\r\n",
      "[2021-06-08 19:35:39,453][fairseq_cli.train][INFO] - Start iterating over samples\r\n"
     ]
    },
    {
     "name": "stdout",
     "output_type": "stream",
     "text": [
      "[2021-06-08 19:36:55,274][train_inner][INFO] - {\"epoch\": 5238, \"update\": 5237.5, \"loss\": \"3.318\", \"ntokens\": \"145.54\", \"nsentences\": \"145.54\", \"temp\": \"0.1\", \"code_ppl\": \"8.623\", \"loss_code_pen\": \"0.329\", \"loss_smoothness\": \"2.072\", \"loss_dense_g\": \"4.067\", \"lm_score_sum\": 0.0, \"num_pred_chars\": 0.0, \"loss_grad_pen\": \"0.086\", \"loss_dense_d\": \"0.024\", \"loss_token_d\": \"0.027\", \"wps\": \"12.7\", \"ups\": \"0.09\", \"wpb\": \"145.5\", \"bsz\": \"145.5\", \"num_updates\": \"83800\", \"lr_discriminator\": \"0.0005\", \"lr_generator\": \"0.0004\", \"gnorm\": \"31.482\", \"clip\": \"74\", \"train_wall\": \"1125\", \"wall\": \"8336\"}\r\n"
     ]
    },
    {
     "name": "stdout",
     "output_type": "stream",
     "text": [
      "[2021-06-08 19:38:31,651][fairseq_cli.train][INFO] - begin validation on \"valid\" subset\r\n"
     ]
    },
    {
     "name": "stdout",
     "output_type": "stream",
     "text": [
      "[2021-06-08 19:38:33,727][fairseq.tasks.unpaired_audio_text][INFO] - REF: ɛ n f œ ʂ ə n a d ɵ ʂ ə k t f øː r d eː t s ɔ m h ɛ n d ə p oː ɕ œ r k ɔ n s ɛ t ə n\r\n",
      "[2021-06-08 19:38:33,729][fairseq.tasks.unpaired_audio_text][INFO] - HYP: n ɪ s j œ f œ j yː b j uː yː k j uː ɵ j m ə m œ k ə uː s eː r n v oː s l ɪ ŋ k ɪ l a ɔ œ m a n t a\r\n"
     ]
    },
    {
     "name": "stdout",
     "output_type": "stream",
     "text": [
      "[2021-06-08 19:38:33,733][fairseq.tasks.unpaired_audio_text][INFO] - LM [REF]: -53.44462585449219, 0.05339602260269112\r\n",
      "[2021-06-08 19:38:33,733][fairseq.tasks.unpaired_audio_text][INFO] - LM [HYP]: -85.8188705444336, 0.014930232959391481\r\n"
     ]
    },
    {
     "name": "stdout",
     "output_type": "stream",
     "text": [
      "[2021-06-08 19:38:34,135][valid][INFO] - {\"epoch\": 5238, \"valid_loss\": \"1\", \"valid_ntokens\": \"3039.79\", \"valid_nsentences\": \"144.214\", \"valid_lm_score_sum\": \"-89517.1\", \"valid_num_pred_chars\": \"48258\", \"valid_vocab_seen_pct\": \"0.883275\", \"valid_uer\": \"100.04\", \"valid_weighted_lm_ppl\": \"77.319\", \"valid_lm_ppl\": \"60.3224\", \"valid_wps\": \"22448.8\", \"valid_wpb\": \"3039.8\", \"valid_bsz\": \"144.2\", \"valid_num_updates\": \"83808\", \"valid_best_weighted_lm_ppl\": \"73.0296\"}\r\n",
      "[2021-06-08 19:38:34,138][fairseq.checkpoint_utils][INFO] - Preparing to save checkpoint for epoch 5238 @ 83808 updates\r\n",
      "[2021-06-08 19:38:34,139][fairseq.trainer][INFO] - Saving checkpoint to /kaggle/working/checkpoint_last.pt\r\n",
      "[2021-06-08 19:38:34,176][fairseq.trainer][INFO] - Finished saving checkpoint to /kaggle/working/checkpoint_last.pt\r\n",
      "[2021-06-08 19:38:34,176][fairseq.checkpoint_utils][INFO] - Saved checkpoint /kaggle/working/checkpoint_last.pt (epoch 5238 @ 83808 updates, score 77.31901331453811) (writing took 0.03812417300105153 seconds)\r\n",
      "[2021-06-08 19:38:34,176][fairseq_cli.train][INFO] - end of epoch 5238 (average epoch stats below)\r\n",
      "[2021-06-08 19:38:34,179][train][INFO] - {\"epoch\": 5238, \"train_loss\": \"3.509\", \"train_ntokens\": \"145.688\", \"train_nsentences\": \"145.688\", \"train_temp\": \"0.1\", \"train_code_ppl\": \"8.692\", \"train_loss_code_pen\": \"0.324\", \"train_loss_smoothness\": \"2.056\", \"train_loss_dense_g\": \"4.24\", \"train_lm_score_sum\": 0.0, \"train_num_pred_chars\": 0.0, \"train_loss_grad_pen\": \"0.095\", \"train_loss_dense_d\": \"0.027\", \"train_loss_token_d\": \"0.041\", \"train_wps\": \"13.3\", \"train_ups\": \"0.09\", \"train_wpb\": \"145.7\", \"train_bsz\": \"145.7\", \"train_num_updates\": \"83808\", \"train_lr_discriminator\": \"0.0005\", \"train_lr_generator\": \"0.0004\", \"train_gnorm\": \"32.88\", \"train_clip\": \"81.2\", \"train_train_wall\": \"172\", \"train_wall\": \"8435\"}\r\n"
     ]
    },
    {
     "name": "stdout",
     "output_type": "stream",
     "text": [
      "[2021-06-08 19:38:34,226][fairseq.trainer][INFO] - begin training epoch 5239\r\n",
      "[2021-06-08 19:38:34,227][fairseq_cli.train][INFO] - Start iterating over samples\r\n"
     ]
    },
    {
     "name": "stdout",
     "output_type": "stream",
     "text": [
      "[2021-06-08 19:41:32,388][fairseq_cli.train][INFO] - begin validation on \"valid\" subset\r\n"
     ]
    },
    {
     "name": "stdout",
     "output_type": "stream",
     "text": [
      "[2021-06-08 19:41:34,547][fairseq.tasks.unpaired_audio_text][INFO] - REF: ɛ n f œ ʂ ə n a d ɵ ʂ ə k t f øː r d eː t s ɔ m h ɛ n d ə p oː ɕ œ r k ɔ n s ɛ t ə n\r\n",
      "[2021-06-08 19:41:34,549][fairseq.tasks.unpaired_audio_text][INFO] - HYP: n ɪ s j œ r œ j yː b j uː yː k j uː ɡ œ j m ə m œ k ə uː s eː r n v oː s l ɪ ŋ k ɪ l a ɔ œ m a n t a\r\n",
      "[2021-06-08 19:41:34,553][fairseq.tasks.unpaired_audio_text][INFO] - LM [REF]: -53.44462585449219, 0.05339602260269112\r\n",
      "[2021-06-08 19:41:34,553][fairseq.tasks.unpaired_audio_text][INFO] - LM [HYP]: -86.38945770263672, 0.015856949065830264\r\n"
     ]
    },
    {
     "name": "stdout",
     "output_type": "stream",
     "text": [
      "[2021-06-08 19:41:34,960][valid][INFO] - {\"epoch\": 5239, \"valid_loss\": \"0.999\", \"valid_ntokens\": \"3039.79\", \"valid_nsentences\": \"144.214\", \"valid_lm_score_sum\": \"-89433.1\", \"valid_num_pred_chars\": \"48259\", \"valid_vocab_seen_pct\": \"0.883275\", \"valid_uer\": \"99.9436\", \"valid_weighted_lm_ppl\": \"77.0158\", \"valid_lm_ppl\": \"60.0858\", \"valid_wps\": \"21281.3\", \"valid_wpb\": \"3039.8\", \"valid_bsz\": \"144.2\", \"valid_num_updates\": \"83824\", \"valid_best_weighted_lm_ppl\": \"73.0296\"}\r\n",
      "[2021-06-08 19:41:34,962][fairseq.checkpoint_utils][INFO] - Preparing to save checkpoint for epoch 5239 @ 83824 updates\r\n",
      "[2021-06-08 19:41:34,963][fairseq.trainer][INFO] - Saving checkpoint to /kaggle/working/checkpoint_last.pt\r\n"
     ]
    },
    {
     "name": "stdout",
     "output_type": "stream",
     "text": [
      "[2021-06-08 19:41:35,001][fairseq.trainer][INFO] - Finished saving checkpoint to /kaggle/working/checkpoint_last.pt\r\n",
      "[2021-06-08 19:41:35,002][fairseq.checkpoint_utils][INFO] - Saved checkpoint /kaggle/working/checkpoint_last.pt (epoch 5239 @ 83824 updates, score 77.0157902033166) (writing took 0.03954519599938067 seconds)\r\n",
      "[2021-06-08 19:41:35,002][fairseq_cli.train][INFO] - end of epoch 5239 (average epoch stats below)\r\n",
      "[2021-06-08 19:41:35,004][train][INFO] - {\"epoch\": 5239, \"train_loss\": \"3.391\", \"train_ntokens\": \"145.688\", \"train_nsentences\": \"145.688\", \"train_temp\": \"0.1\", \"train_code_ppl\": \"8.966\", \"train_loss_code_pen\": \"0.354\", \"train_loss_smoothness\": \"2.144\", \"train_loss_dense_g\": \"3.914\", \"train_lm_score_sum\": 0.0, \"train_num_pred_chars\": 0.0, \"train_loss_grad_pen\": \"0.084\", \"train_loss_dense_d\": \"0.028\", \"train_loss_token_d\": \"0.029\", \"train_wps\": \"12.9\", \"train_ups\": \"0.09\", \"train_wpb\": \"145.7\", \"train_bsz\": \"145.7\", \"train_num_updates\": \"83824\", \"train_lr_discriminator\": \"0.0005\", \"train_lr_generator\": \"0.0004\", \"train_gnorm\": \"30.724\", \"train_clip\": \"81.2\", \"train_train_wall\": \"178\", \"train_wall\": \"8616\"}\r\n"
     ]
    },
    {
     "name": "stdout",
     "output_type": "stream",
     "text": [
      "[2021-06-08 19:41:35,057][fairseq.trainer][INFO] - begin training epoch 5240\r\n",
      "[2021-06-08 19:41:35,058][fairseq_cli.train][INFO] - Start iterating over samples\r\n"
     ]
    },
    {
     "name": "stdout",
     "output_type": "stream",
     "text": [
      "[2021-06-08 19:44:29,783][fairseq_cli.train][INFO] - begin validation on \"valid\" subset\r\n"
     ]
    },
    {
     "name": "stdout",
     "output_type": "stream",
     "text": [
      "[2021-06-08 19:44:31,961][fairseq.tasks.unpaired_audio_text][INFO] - REF: ɛ n f œ ʂ ə n a d ɵ ʂ ə k t f øː r d eː t s ɔ m h ɛ n d ə p oː ɕ œ r k ɔ n s ɛ t ə n\r\n",
      "[2021-06-08 19:44:31,963][fairseq.tasks.unpaired_audio_text][INFO] - HYP: n ɪ s j œ r œ j ɕ b j uː œ yː k j uː ɵ j m ə m œ k b ə uː s eː r n v oː s l ɪ ŋ k ɪ l a ɔ œ uː m a n t a\r\n",
      "[2021-06-08 19:44:31,966][fairseq.tasks.unpaired_audio_text][INFO] - LM [REF]: -53.44462585449219, 0.05339602260269112\r\n",
      "[2021-06-08 19:44:31,966][fairseq.tasks.unpaired_audio_text][INFO] - LM [HYP]: -91.97471618652344, 0.01447123767014419\r\n"
     ]
    },
    {
     "name": "stdout",
     "output_type": "stream",
     "text": [
      "[2021-06-08 19:44:32,404][valid][INFO] - {\"epoch\": 5240, \"valid_loss\": \"1.002\", \"valid_ntokens\": \"3039.79\", \"valid_nsentences\": \"144.214\", \"valid_lm_score_sum\": \"-89531.4\", \"valid_num_pred_chars\": \"48411\", \"valid_vocab_seen_pct\": \"0.874564\", \"valid_uer\": \"100.197\", \"valid_weighted_lm_ppl\": \"77.943\", \"valid_lm_ppl\": \"59.6157\", \"valid_wps\": \"20603\", \"valid_wpb\": \"3039.8\", \"valid_bsz\": \"144.2\", \"valid_num_updates\": \"83840\", \"valid_best_weighted_lm_ppl\": \"73.0296\"}\r\n",
      "[2021-06-08 19:44:32,407][fairseq.checkpoint_utils][INFO] - Preparing to save checkpoint for epoch 5240 @ 83840 updates\r\n",
      "[2021-06-08 19:44:32,408][fairseq.trainer][INFO] - Saving checkpoint to /kaggle/working/checkpoint_last.pt\r\n"
     ]
    },
    {
     "name": "stdout",
     "output_type": "stream",
     "text": [
      "[2021-06-08 19:44:32,446][fairseq.trainer][INFO] - Finished saving checkpoint to /kaggle/working/checkpoint_last.pt\r\n",
      "[2021-06-08 19:44:32,447][fairseq.checkpoint_utils][INFO] - Saved checkpoint /kaggle/working/checkpoint_last.pt (epoch 5240 @ 83840 updates, score 77.94298675778207) (writing took 0.03965564300051483 seconds)\r\n",
      "[2021-06-08 19:44:32,447][fairseq_cli.train][INFO] - end of epoch 5240 (average epoch stats below)\r\n",
      "[2021-06-08 19:44:32,449][train][INFO] - {\"epoch\": 5240, \"train_loss\": \"3.426\", \"train_ntokens\": \"145.688\", \"train_nsentences\": \"145.688\", \"train_temp\": \"0.1\", \"train_code_ppl\": \"8.762\", \"train_loss_code_pen\": \"0.32\", \"train_loss_smoothness\": \"2.047\", \"train_loss_dense_g\": \"4.158\", \"train_lm_score_sum\": 0.0, \"train_num_pred_chars\": 0.0, \"train_loss_grad_pen\": \"0.046\", \"train_loss_dense_d\": \"0.025\", \"train_loss_token_d\": \"0.023\", \"train_wps\": \"13.1\", \"train_ups\": \"0.09\", \"train_wpb\": \"145.7\", \"train_bsz\": \"145.7\", \"train_num_updates\": \"83840\", \"train_lr_discriminator\": \"0.0005\", \"train_lr_generator\": \"0.0004\", \"train_gnorm\": \"29.071\", \"train_clip\": \"62.5\", \"train_train_wall\": \"174\", \"train_wall\": \"8794\"}\r\n",
      "[2021-06-08 19:44:32,492][fairseq.trainer][INFO] - begin training epoch 5241\r\n"
     ]
    },
    {
     "name": "stdout",
     "output_type": "stream",
     "text": [
      "[2021-06-08 19:44:32,494][fairseq_cli.train][INFO] - Start iterating over samples\r\n"
     ]
    },
    {
     "name": "stdout",
     "output_type": "stream",
     "text": [
      "[2021-06-08 19:47:43,271][fairseq_cli.train][INFO] - begin validation on \"valid\" subset\r\n"
     ]
    },
    {
     "name": "stdout",
     "output_type": "stream",
     "text": [
      "[2021-06-08 19:47:45,377][fairseq.tasks.unpaired_audio_text][INFO] - REF: ɛ n f œ ʂ ə n a d ɵ ʂ ə k t f øː r d eː t s ɔ m h ɛ n d ə p oː ɕ œ r k ɔ n s ɛ t ə n\r\n",
      "[2021-06-08 19:47:45,379][fairseq.tasks.unpaired_audio_text][INFO] - HYP: n ɪ s j œ r œ j yː b j uː yː k j uː ɡ œ j m ə m œ k b ə uː s eː r n v oː s l ɪ ŋ k ɪ l a s œ m a n t a\r\n",
      "[2021-06-08 19:47:45,383][fairseq.tasks.unpaired_audio_text][INFO] - LM [REF]: -53.44462585449219, 0.05339602260269112\r\n",
      "[2021-06-08 19:47:45,383][fairseq.tasks.unpaired_audio_text][INFO] - LM [HYP]: -86.05573272705078, 0.0175291378594581\r\n"
     ]
    },
    {
     "name": "stdout",
     "output_type": "stream",
     "text": [
      "[2021-06-08 19:47:45,817][valid][INFO] - {\"epoch\": 5241, \"valid_loss\": \"1\", \"valid_ntokens\": \"3039.79\", \"valid_nsentences\": \"144.214\", \"valid_lm_score_sum\": \"-89363.3\", \"valid_num_pred_chars\": \"48269\", \"valid_vocab_seen_pct\": \"0.883275\", \"valid_uer\": \"99.9812\", \"valid_weighted_lm_ppl\": \"76.7075\", \"valid_lm_ppl\": \"59.8453\", \"valid_wps\": \"20936.6\", \"valid_wpb\": \"3039.8\", \"valid_bsz\": \"144.2\", \"valid_num_updates\": \"83856\", \"valid_best_weighted_lm_ppl\": \"73.0296\"}\r\n",
      "[2021-06-08 19:47:45,820][fairseq.checkpoint_utils][INFO] - Preparing to save checkpoint for epoch 5241 @ 83856 updates\r\n",
      "[2021-06-08 19:47:45,821][fairseq.trainer][INFO] - Saving checkpoint to /kaggle/working/checkpoint_last.pt\r\n"
     ]
    },
    {
     "name": "stdout",
     "output_type": "stream",
     "text": [
      "[2021-06-08 19:47:45,861][fairseq.trainer][INFO] - Finished saving checkpoint to /kaggle/working/checkpoint_last.pt\r\n",
      "[2021-06-08 19:47:45,861][fairseq.checkpoint_utils][INFO] - Saved checkpoint /kaggle/working/checkpoint_last.pt (epoch 5241 @ 83856 updates, score 76.70748690639323) (writing took 0.041224496000722866 seconds)\r\n",
      "[2021-06-08 19:47:45,861][fairseq_cli.train][INFO] - end of epoch 5241 (average epoch stats below)\r\n",
      "[2021-06-08 19:47:45,864][train][INFO] - {\"epoch\": 5241, \"train_loss\": \"3.25\", \"train_ntokens\": \"145.688\", \"train_nsentences\": \"145.688\", \"train_temp\": \"0.1\", \"train_code_ppl\": \"8.858\", \"train_loss_code_pen\": \"0.334\", \"train_loss_smoothness\": \"2.101\", \"train_loss_dense_g\": \"4.175\", \"train_lm_score_sum\": 0.0, \"train_num_pred_chars\": 0.0, \"train_loss_grad_pen\": \"0.077\", \"train_loss_dense_d\": \"0.026\", \"train_loss_token_d\": \"0.025\", \"train_wps\": \"12.1\", \"train_ups\": \"0.08\", \"train_wpb\": \"145.7\", \"train_bsz\": \"145.7\", \"train_num_updates\": \"83856\", \"train_lr_discriminator\": \"0.0005\", \"train_lr_generator\": \"0.0004\", \"train_gnorm\": \"29.834\", \"train_clip\": \"75\", \"train_train_wall\": \"190\", \"train_wall\": \"8987\"}\r\n"
     ]
    },
    {
     "name": "stdout",
     "output_type": "stream",
     "text": [
      "[2021-06-08 19:47:45,915][fairseq.trainer][INFO] - begin training epoch 5242\r\n",
      "[2021-06-08 19:47:45,916][fairseq_cli.train][INFO] - Start iterating over samples\r\n"
     ]
    },
    {
     "name": "stdout",
     "output_type": "stream",
     "text": [
      "[2021-06-08 19:50:33,604][fairseq_cli.train][INFO] - begin validation on \"valid\" subset\r\n"
     ]
    },
    {
     "name": "stdout",
     "output_type": "stream",
     "text": [
      "[2021-06-08 19:50:35,689][fairseq.tasks.unpaired_audio_text][INFO] - REF: ɛ n f œ ʂ ə n a d ɵ ʂ ə k t f øː r d eː t s ɔ m h ɛ n d ə p oː ɕ œ r k ɔ n s ɛ t ə n\r\n",
      "[2021-06-08 19:50:35,691][fairseq.tasks.unpaired_audio_text][INFO] - HYP: n ɪ s j œ r œ j ɕ b j uː yː k j uː ɡ œ j m ə m œ k b ə uː s eː r n v oː s l ɪ ŋ k ɪ l a s œ uː m a n t a\r\n",
      "[2021-06-08 19:50:35,694][fairseq.tasks.unpaired_audio_text][INFO] - LM [REF]: -53.44462585449219, 0.05339602260269112\r\n",
      "[2021-06-08 19:50:35,695][fairseq.tasks.unpaired_audio_text][INFO] - LM [HYP]: -89.30928802490234, 0.01636116556663432\r\n"
     ]
    },
    {
     "name": "stdout",
     "output_type": "stream",
     "text": [
      "[2021-06-08 19:50:36,106][valid][INFO] - {\"epoch\": 5242, \"valid_loss\": \"1.005\", \"valid_ntokens\": \"3039.79\", \"valid_nsentences\": \"144.214\", \"valid_lm_score_sum\": \"-89779.3\", \"valid_num_pred_chars\": \"48565\", \"valid_vocab_seen_pct\": \"0.88676\", \"valid_uer\": \"100.505\", \"valid_weighted_lm_ppl\": \"75.7259\", \"valid_lm_ppl\": \"59.5465\", \"valid_wps\": \"21830.9\", \"valid_wpb\": \"3039.8\", \"valid_bsz\": \"144.2\", \"valid_num_updates\": \"83872\", \"valid_best_weighted_lm_ppl\": \"73.0296\"}\r\n",
      "[2021-06-08 19:50:36,109][fairseq.checkpoint_utils][INFO] - Preparing to save checkpoint for epoch 5242 @ 83872 updates\r\n",
      "[2021-06-08 19:50:36,110][fairseq.trainer][INFO] - Saving checkpoint to /kaggle/working/checkpoint_last.pt\r\n"
     ]
    },
    {
     "name": "stdout",
     "output_type": "stream",
     "text": [
      "[2021-06-08 19:50:36,149][fairseq.trainer][INFO] - Finished saving checkpoint to /kaggle/working/checkpoint_last.pt\r\n",
      "[2021-06-08 19:50:36,150][fairseq.checkpoint_utils][INFO] - Saved checkpoint /kaggle/working/checkpoint_last.pt (epoch 5242 @ 83872 updates, score 75.72592301641134) (writing took 0.04060140599904116 seconds)\r\n",
      "[2021-06-08 19:50:36,150][fairseq_cli.train][INFO] - end of epoch 5242 (average epoch stats below)\r\n",
      "[2021-06-08 19:50:36,152][train][INFO] - {\"epoch\": 5242, \"train_loss\": \"3.722\", \"train_ntokens\": \"145.688\", \"train_nsentences\": \"145.688\", \"train_temp\": \"0.1\", \"train_code_ppl\": \"8.701\", \"train_loss_code_pen\": \"0.341\", \"train_loss_smoothness\": \"2.117\", \"train_loss_dense_g\": \"4.22\", \"train_lm_score_sum\": 0.0, \"train_num_pred_chars\": 0.0, \"train_loss_grad_pen\": \"0.075\", \"train_loss_dense_d\": \"0.026\", \"train_loss_token_d\": \"0.022\", \"train_wps\": \"13.7\", \"train_ups\": \"0.09\", \"train_wpb\": \"145.7\", \"train_bsz\": \"145.7\", \"train_num_updates\": \"83872\", \"train_lr_discriminator\": \"0.0005\", \"train_lr_generator\": \"0.0004\", \"train_gnorm\": \"29.831\", \"train_clip\": \"75\", \"train_train_wall\": \"167\", \"train_wall\": \"9157\"}\r\n"
     ]
    },
    {
     "name": "stdout",
     "output_type": "stream",
     "text": [
      "[2021-06-08 19:50:36,201][fairseq.trainer][INFO] - begin training epoch 5243\r\n",
      "[2021-06-08 19:50:36,202][fairseq_cli.train][INFO] - Start iterating over samples\r\n"
     ]
    },
    {
     "name": "stdout",
     "output_type": "stream",
     "text": [
      "[2021-06-08 19:53:51,329][fairseq_cli.train][INFO] - begin validation on \"valid\" subset\r\n"
     ]
    },
    {
     "name": "stdout",
     "output_type": "stream",
     "text": [
      "[2021-06-08 19:53:53,366][fairseq.tasks.unpaired_audio_text][INFO] - REF: ɛ n f œ ʂ ə n a d ɵ ʂ ə k t f øː r d eː t s ɔ m h ɛ n d ə p oː ɕ œ r k ɔ n s ɛ t ə n\r\n",
      "[2021-06-08 19:53:53,368][fairseq.tasks.unpaired_audio_text][INFO] - HYP: n ɪ s j œ r œ j b j uː yː k j uː ɡ œ j m ə m œ k b ə uː s eː r n v oː s l ɪ ŋ k ɪ l a s œ uː m a n t a\r\n",
      "[2021-06-08 19:53:53,371][fairseq.tasks.unpaired_audio_text][INFO] - LM [REF]: -53.44462585449219, 0.05339602260269112\r\n",
      "[2021-06-08 19:53:53,372][fairseq.tasks.unpaired_audio_text][INFO] - LM [HYP]: -87.01049041748047, 0.01676006527625342\r\n"
     ]
    },
    {
     "name": "stdout",
     "output_type": "stream",
     "text": [
      "[2021-06-08 19:53:53,775][valid][INFO] - {\"epoch\": 5243, \"valid_loss\": \"1.005\", \"valid_ntokens\": \"3039.79\", \"valid_nsentences\": \"144.214\", \"valid_lm_score_sum\": \"-89642.5\", \"valid_num_pred_chars\": \"48543\", \"valid_vocab_seen_pct\": \"0.879791\", \"valid_uer\": \"100.475\", \"valid_weighted_lm_ppl\": \"76.5885\", \"valid_lm_ppl\": \"59.2819\", \"valid_wps\": \"22123.7\", \"valid_wpb\": \"3039.8\", \"valid_bsz\": \"144.2\", \"valid_num_updates\": \"83888\", \"valid_best_weighted_lm_ppl\": \"73.0296\"}\r\n",
      "[2021-06-08 19:53:53,778][fairseq.checkpoint_utils][INFO] - Preparing to save checkpoint for epoch 5243 @ 83888 updates\r\n",
      "[2021-06-08 19:53:53,779][fairseq.trainer][INFO] - Saving checkpoint to /kaggle/working/checkpoint_last.pt\r\n"
     ]
    },
    {
     "name": "stdout",
     "output_type": "stream",
     "text": [
      "[2021-06-08 19:53:53,817][fairseq.trainer][INFO] - Finished saving checkpoint to /kaggle/working/checkpoint_last.pt\r\n",
      "[2021-06-08 19:53:53,817][fairseq.checkpoint_utils][INFO] - Saved checkpoint /kaggle/working/checkpoint_last.pt (epoch 5243 @ 83888 updates, score 76.58846983508631) (writing took 0.03865663500073424 seconds)\r\n",
      "[2021-06-08 19:53:53,817][fairseq_cli.train][INFO] - end of epoch 5243 (average epoch stats below)\r\n",
      "[2021-06-08 19:53:53,820][train][INFO] - {\"epoch\": 5243, \"train_loss\": \"3.076\", \"train_ntokens\": \"145.688\", \"train_nsentences\": \"145.688\", \"train_temp\": \"0.1\", \"train_code_ppl\": \"8.65\", \"train_loss_code_pen\": \"0.324\", \"train_loss_smoothness\": \"2.036\", \"train_loss_dense_g\": \"4.321\", \"train_lm_score_sum\": 0.0, \"train_num_pred_chars\": 0.0, \"train_loss_grad_pen\": \"0.071\", \"train_loss_dense_d\": \"0.023\", \"train_loss_token_d\": \"0.022\", \"train_wps\": \"11.8\", \"train_ups\": \"0.08\", \"train_wpb\": \"145.7\", \"train_bsz\": \"145.7\", \"train_num_updates\": \"83888\", \"train_lr_discriminator\": \"0.0005\", \"train_lr_generator\": \"0.0004\", \"train_gnorm\": \"30.217\", \"train_clip\": \"68.8\", \"train_train_wall\": \"195\", \"train_wall\": \"9355\"}\r\n"
     ]
    },
    {
     "name": "stdout",
     "output_type": "stream",
     "text": [
      "[2021-06-08 19:53:53,867][fairseq.trainer][INFO] - begin training epoch 5244\r\n",
      "[2021-06-08 19:53:53,868][fairseq_cli.train][INFO] - Start iterating over samples\r\n"
     ]
    },
    {
     "name": "stdout",
     "output_type": "stream",
     "text": [
      "[2021-06-08 19:55:53,535][train_inner][INFO] - {\"epoch\": 5244, \"update\": 5243.75, \"loss\": \"3.432\", \"ntokens\": \"146.26\", \"nsentences\": \"146.26\", \"temp\": \"0.1\", \"code_ppl\": \"8.759\", \"loss_code_pen\": \"0.334\", \"loss_smoothness\": \"2.09\", \"loss_dense_g\": \"4.172\", \"lm_score_sum\": 0.0, \"num_pred_chars\": 0.0, \"loss_grad_pen\": \"0.076\", \"loss_dense_d\": \"0.026\", \"loss_token_d\": \"0.026\", \"wps\": \"12.8\", \"ups\": \"0.09\", \"wpb\": \"146.3\", \"bsz\": \"146.3\", \"num_updates\": \"83900\", \"lr_discriminator\": \"0.0005\", \"lr_generator\": \"0.0004\", \"gnorm\": \"30.459\", \"clip\": \"75\", \"train_wall\": \"1120\", \"wall\": \"9475\"}\r\n"
     ]
    },
    {
     "name": "stdout",
     "output_type": "stream",
     "text": [
      "[2021-06-08 19:56:42,035][fairseq_cli.train][INFO] - begin validation on \"valid\" subset\r\n"
     ]
    },
    {
     "name": "stdout",
     "output_type": "stream",
     "text": [
      "[2021-06-08 19:56:44,070][fairseq.tasks.unpaired_audio_text][INFO] - REF: ɛ n f œ ʂ ə n a d ɵ ʂ ə k t f øː r d eː t s ɔ m h ɛ n d ə p oː ɕ œ r k ɔ n s ɛ t ə n\r\n",
      "[2021-06-08 19:56:44,072][fairseq.tasks.unpaired_audio_text][INFO] - HYP: n ɪ s j œ r œ j b j uː yː k j uː ɡ œ j m ə m œ k b ə uː s eː r n v oː s l ɪ ŋ k ɪ l a ɔ œ m a n t a\r\n",
      "[2021-06-08 19:56:44,075][fairseq.tasks.unpaired_audio_text][INFO] - LM [REF]: -53.44462585449219, 0.05339602260269112\r\n",
      "[2021-06-08 19:56:44,076][fairseq.tasks.unpaired_audio_text][INFO] - LM [HYP]: -86.1514663696289, 0.016039018339205457\r\n"
     ]
    },
    {
     "name": "stdout",
     "output_type": "stream",
     "text": [
      "[2021-06-08 19:56:44,483][valid][INFO] - {\"epoch\": 5244, \"valid_loss\": \"1.003\", \"valid_ntokens\": \"3039.79\", \"valid_nsentences\": \"144.214\", \"valid_lm_score_sum\": \"-89499.5\", \"valid_num_pred_chars\": \"48410\", \"valid_vocab_seen_pct\": \"0.885017\", \"valid_uer\": \"100.282\", \"valid_weighted_lm_ppl\": \"76.0078\", \"valid_lm_ppl\": \"59.5335\", \"valid_wps\": \"22382.5\", \"valid_wpb\": \"3039.8\", \"valid_bsz\": \"144.2\", \"valid_num_updates\": \"83904\", \"valid_best_weighted_lm_ppl\": \"73.0296\"}\r\n",
      "[2021-06-08 19:56:44,485][fairseq.checkpoint_utils][INFO] - Preparing to save checkpoint for epoch 5244 @ 83904 updates\r\n",
      "[2021-06-08 19:56:44,486][fairseq.trainer][INFO] - Saving checkpoint to /kaggle/working/checkpoint_last.pt\r\n",
      "[2021-06-08 19:56:44,524][fairseq.trainer][INFO] - Finished saving checkpoint to /kaggle/working/checkpoint_last.pt\r\n",
      "[2021-06-08 19:56:44,524][fairseq.checkpoint_utils][INFO] - Saved checkpoint /kaggle/working/checkpoint_last.pt (epoch 5244 @ 83904 updates, score 76.00777914702573) (writing took 0.03924843599997985 seconds)\r\n",
      "[2021-06-08 19:56:44,525][fairseq_cli.train][INFO] - end of epoch 5244 (average epoch stats below)\r\n",
      "[2021-06-08 19:56:44,527][train][INFO] - {\"epoch\": 5244, \"train_loss\": \"3.909\", \"train_ntokens\": \"145.688\", \"train_nsentences\": \"145.688\", \"train_temp\": \"0.1\", \"train_code_ppl\": \"8.702\", \"train_loss_code_pen\": \"0.34\", \"train_loss_smoothness\": \"2.119\", \"train_loss_dense_g\": \"4.508\", \"train_lm_score_sum\": 0.0, \"train_num_pred_chars\": 0.0, \"train_loss_grad_pen\": \"0.127\", \"train_loss_dense_d\": \"0.019\", \"train_loss_token_d\": \"0.04\", \"train_wps\": \"13.7\", \"train_ups\": \"0.09\", \"train_wpb\": \"145.7\", \"train_bsz\": \"145.7\", \"train_num_updates\": \"83904\", \"train_lr_discriminator\": \"0.0005\", \"train_lr_generator\": \"0.0004\", \"train_gnorm\": \"34.167\", \"train_clip\": \"87.5\", \"train_train_wall\": \"168\", \"train_wall\": \"9526\"}\r\n"
     ]
    },
    {
     "name": "stdout",
     "output_type": "stream",
     "text": [
      "[2021-06-08 19:56:44,574][fairseq.trainer][INFO] - begin training epoch 5245\r\n",
      "[2021-06-08 19:56:44,575][fairseq_cli.train][INFO] - Start iterating over samples\r\n"
     ]
    },
    {
     "name": "stdout",
     "output_type": "stream",
     "text": [
      "[2021-06-08 19:59:25,937][fairseq_cli.train][INFO] - begin validation on \"valid\" subset\r\n"
     ]
    },
    {
     "name": "stdout",
     "output_type": "stream",
     "text": [
      "[2021-06-08 19:59:28,044][fairseq.tasks.unpaired_audio_text][INFO] - REF: ɛ n f œ ʂ ə n a d ɵ ʂ ə k t f øː r d eː t s ɔ m h ɛ n d ə p oː ɕ œ r k ɔ n s ɛ t ə n\r\n",
      "[2021-06-08 19:59:28,046][fairseq.tasks.unpaired_audio_text][INFO] - HYP: n ɪ n s j œ r œ j b j uː yː k j uː ɡ œ j m ə m œ ɔ b ə uː s eː r n v oː s l ɪ ŋ k ɪ l a ɔ œ m a n t a\r\n",
      "[2021-06-08 19:59:28,049][fairseq.tasks.unpaired_audio_text][INFO] - LM [REF]: -53.44462585449219, 0.05339602260269112\r\n",
      "[2021-06-08 19:59:28,049][fairseq.tasks.unpaired_audio_text][INFO] - LM [HYP]: -87.76741790771484, 0.016174400996797515\r\n"
     ]
    },
    {
     "name": "stdout",
     "output_type": "stream",
     "text": [
      "[2021-06-08 19:59:28,474][valid][INFO] - {\"epoch\": 5245, \"valid_loss\": \"1.005\", \"valid_ntokens\": \"3039.79\", \"valid_nsentences\": \"144.214\", \"valid_lm_score_sum\": \"-89815.3\", \"valid_num_pred_chars\": \"48550\", \"valid_vocab_seen_pct\": \"0.888502\", \"valid_uer\": \"100.454\", \"valid_weighted_lm_ppl\": \"75.6447\", \"valid_lm_ppl\": \"59.7166\", \"valid_wps\": \"21602.4\", \"valid_wpb\": \"3039.8\", \"valid_bsz\": \"144.2\", \"valid_num_updates\": \"83920\", \"valid_best_weighted_lm_ppl\": \"73.0296\"}\r\n",
      "[2021-06-08 19:59:28,476][fairseq.checkpoint_utils][INFO] - Preparing to save checkpoint for epoch 5245 @ 83920 updates\r\n",
      "[2021-06-08 19:59:28,477][fairseq.trainer][INFO] - Saving checkpoint to /kaggle/working/checkpoint_last.pt\r\n",
      "[2021-06-08 19:59:28,517][fairseq.trainer][INFO] - Finished saving checkpoint to /kaggle/working/checkpoint_last.pt\r\n",
      "[2021-06-08 19:59:28,517][fairseq.checkpoint_utils][INFO] - Saved checkpoint /kaggle/working/checkpoint_last.pt (epoch 5245 @ 83920 updates, score 75.64468680498919) (writing took 0.04029179200006183 seconds)\r\n",
      "[2021-06-08 19:59:28,517][fairseq_cli.train][INFO] - end of epoch 5245 (average epoch stats below)\r\n",
      "[2021-06-08 19:59:28,519][train][INFO] - {\"epoch\": 5245, \"train_loss\": \"3.67\", \"train_ntokens\": \"145.688\", \"train_nsentences\": \"145.688\", \"train_temp\": \"0.1\", \"train_code_ppl\": \"8.902\", \"train_loss_code_pen\": \"0.353\", \"train_loss_smoothness\": \"2.155\", \"train_loss_dense_g\": \"4.041\", \"train_lm_score_sum\": 0.0, \"train_num_pred_chars\": 0.0, \"train_loss_grad_pen\": \"0.117\", \"train_loss_dense_d\": \"0.024\", \"train_loss_token_d\": \"0.024\", \"train_wps\": \"14.2\", \"train_ups\": \"0.1\", \"train_wpb\": \"145.7\", \"train_bsz\": \"145.7\", \"train_num_updates\": \"83920\", \"train_lr_discriminator\": \"0.0005\", \"train_lr_generator\": \"0.0004\", \"train_gnorm\": \"33.323\", \"train_clip\": \"87.5\", \"train_train_wall\": \"161\", \"train_wall\": \"9690\"}\r\n"
     ]
    },
    {
     "name": "stdout",
     "output_type": "stream",
     "text": [
      "[2021-06-08 19:59:28,567][fairseq.trainer][INFO] - begin training epoch 5246\r\n",
      "[2021-06-08 19:59:28,568][fairseq_cli.train][INFO] - Start iterating over samples\r\n"
     ]
    },
    {
     "name": "stdout",
     "output_type": "stream",
     "text": [
      "[2021-06-08 20:02:30,748][fairseq_cli.train][INFO] - begin validation on \"valid\" subset\r\n"
     ]
    },
    {
     "name": "stdout",
     "output_type": "stream",
     "text": [
      "[2021-06-08 20:02:33,008][fairseq.tasks.unpaired_audio_text][INFO] - REF: ɛ n f œ ʂ ə n a d ɵ ʂ ə k t f øː r d eː t s ɔ m h ɛ n d ə p oː ɕ œ r k ɔ n s ɛ t ə n\r\n",
      "[2021-06-08 20:02:33,010][fairseq.tasks.unpaired_audio_text][INFO] - HYP: n ɪ s j œ r œ j b j uː k j uː ɡ œ j m ə m œ k b ə uː s eː r n v oː s l ɪ ŋ k l ɪ l a s œ m a t a\r\n",
      "[2021-06-08 20:02:33,013][fairseq.tasks.unpaired_audio_text][INFO] - LM [REF]: -53.44462585449219, 0.05339602260269112\r\n",
      "[2021-06-08 20:02:33,013][fairseq.tasks.unpaired_audio_text][INFO] - LM [HYP]: -82.85310363769531, 0.017265056650650323\r\n"
     ]
    },
    {
     "name": "stdout",
     "output_type": "stream",
     "text": [
      "[2021-06-08 20:02:33,424][valid][INFO] - {\"epoch\": 5246, \"valid_loss\": \"1.002\", \"valid_ntokens\": \"3039.79\", \"valid_nsentences\": \"144.214\", \"valid_lm_score_sum\": \"-89668.9\", \"valid_num_pred_chars\": \"48446\", \"valid_vocab_seen_pct\": \"0.888502\", \"valid_uer\": \"100.216\", \"valid_weighted_lm_ppl\": \"75.7769\", \"valid_lm_ppl\": \"59.821\", \"valid_wps\": \"20222.8\", \"valid_wpb\": \"3039.8\", \"valid_bsz\": \"144.2\", \"valid_num_updates\": \"83936\", \"valid_best_weighted_lm_ppl\": \"73.0296\"}\r\n",
      "[2021-06-08 20:02:33,427][fairseq.checkpoint_utils][INFO] - Preparing to save checkpoint for epoch 5246 @ 83936 updates\r\n",
      "[2021-06-08 20:02:33,428][fairseq.trainer][INFO] - Saving checkpoint to /kaggle/working/checkpoint_last.pt\r\n"
     ]
    },
    {
     "name": "stdout",
     "output_type": "stream",
     "text": [
      "[2021-06-08 20:02:33,466][fairseq.trainer][INFO] - Finished saving checkpoint to /kaggle/working/checkpoint_last.pt\r\n",
      "[2021-06-08 20:02:33,466][fairseq.checkpoint_utils][INFO] - Saved checkpoint /kaggle/working/checkpoint_last.pt (epoch 5246 @ 83936 updates, score 75.77690653537725) (writing took 0.039273116999538615 seconds)\r\n",
      "[2021-06-08 20:02:33,466][fairseq_cli.train][INFO] - end of epoch 5246 (average epoch stats below)\r\n",
      "[2021-06-08 20:02:33,469][train][INFO] - {\"epoch\": 5246, \"train_loss\": \"3.307\", \"train_ntokens\": \"145.688\", \"train_nsentences\": \"145.688\", \"train_temp\": \"0.1\", \"train_code_ppl\": \"8.775\", \"train_loss_code_pen\": \"0.328\", \"train_loss_smoothness\": \"2.082\", \"train_loss_dense_g\": \"4.316\", \"train_lm_score_sum\": 0.0, \"train_num_pred_chars\": 0.0, \"train_loss_grad_pen\": \"0.075\", \"train_loss_dense_d\": \"0.03\", \"train_loss_token_d\": \"0.022\", \"train_wps\": \"12.6\", \"train_ups\": \"0.09\", \"train_wpb\": \"145.7\", \"train_bsz\": \"145.7\", \"train_num_updates\": \"83936\", \"train_lr_discriminator\": \"0.0005\", \"train_lr_generator\": \"0.0004\", \"train_gnorm\": \"30.138\", \"train_clip\": \"68.8\", \"train_train_wall\": \"182\", \"train_wall\": \"9875\"}\r\n"
     ]
    },
    {
     "name": "stdout",
     "output_type": "stream",
     "text": [
      "[2021-06-08 20:02:33,515][fairseq.trainer][INFO] - begin training epoch 5247\r\n",
      "[2021-06-08 20:02:33,516][fairseq_cli.train][INFO] - Start iterating over samples\r\n"
     ]
    },
    {
     "name": "stdout",
     "output_type": "stream",
     "text": [
      "[2021-06-08 20:05:34,495][fairseq_cli.train][INFO] - begin validation on \"valid\" subset\r\n"
     ]
    },
    {
     "name": "stdout",
     "output_type": "stream",
     "text": [
      "[2021-06-08 20:05:36,500][fairseq.tasks.unpaired_audio_text][INFO] - REF: ɛ n f œ ʂ ə n a d ɵ ʂ ə k t f øː r d eː t s ɔ m h ɛ n d ə p oː ɕ œ r k ɔ n s ɛ t ə n\r\n",
      "[2021-06-08 20:05:36,502][fairseq.tasks.unpaired_audio_text][INFO] - HYP: n ɪ n s j œ r œ j b j uː yː k j uː ɵ œ j m ə m œ k b ə uː s eː r n v oː s l ɪ ŋ k ɪ l a s œ uː m a t a\r\n",
      "[2021-06-08 20:05:36,507][fairseq.tasks.unpaired_audio_text][INFO] - LM [REF]: -53.44462585449219, 0.05339602260269112\r\n",
      "[2021-06-08 20:05:36,507][fairseq.tasks.unpaired_audio_text][INFO] - LM [HYP]: -88.78478240966797, 0.0154193357491178\r\n"
     ]
    },
    {
     "name": "stdout",
     "output_type": "stream",
     "text": [
      "[2021-06-08 20:05:36,994][valid][INFO] - {\"epoch\": 5247, \"valid_loss\": \"1.004\", \"valid_ntokens\": \"3039.79\", \"valid_nsentences\": \"144.214\", \"valid_lm_score_sum\": \"-89640.8\", \"valid_num_pred_chars\": \"48566\", \"valid_vocab_seen_pct\": \"0.885017\", \"valid_uer\": \"100.435\", \"valid_weighted_lm_ppl\": \"75.5402\", \"valid_lm_ppl\": \"59.1673\", \"valid_wps\": \"21785.5\", \"valid_wpb\": \"3039.8\", \"valid_bsz\": \"144.2\", \"valid_num_updates\": \"83952\", \"valid_best_weighted_lm_ppl\": \"73.0296\"}\r\n",
      "[2021-06-08 20:05:36,997][fairseq.checkpoint_utils][INFO] - Preparing to save checkpoint for epoch 5247 @ 83952 updates\r\n",
      "[2021-06-08 20:05:36,998][fairseq.trainer][INFO] - Saving checkpoint to /kaggle/working/checkpoint_last.pt\r\n"
     ]
    },
    {
     "name": "stdout",
     "output_type": "stream",
     "text": [
      "[2021-06-08 20:05:37,035][fairseq.trainer][INFO] - Finished saving checkpoint to /kaggle/working/checkpoint_last.pt\r\n",
      "[2021-06-08 20:05:37,036][fairseq.checkpoint_utils][INFO] - Saved checkpoint /kaggle/working/checkpoint_last.pt (epoch 5247 @ 83952 updates, score 75.54019393803664) (writing took 0.03870400300002075 seconds)\r\n",
      "[2021-06-08 20:05:37,036][fairseq_cli.train][INFO] - end of epoch 5247 (average epoch stats below)\r\n",
      "[2021-06-08 20:05:37,038][train][INFO] - {\"epoch\": 5247, \"train_loss\": \"3.222\", \"train_ntokens\": \"145.688\", \"train_nsentences\": \"145.688\", \"train_temp\": \"0.1\", \"train_code_ppl\": \"8.677\", \"train_loss_code_pen\": \"0.335\", \"train_loss_smoothness\": \"2.095\", \"train_loss_dense_g\": \"4.159\", \"train_lm_score_sum\": 0.0, \"train_num_pred_chars\": 0.0, \"train_loss_grad_pen\": \"0.049\", \"train_loss_dense_d\": \"0.022\", \"train_loss_token_d\": \"0.021\", \"train_wps\": \"12.7\", \"train_ups\": \"0.09\", \"train_wpb\": \"145.7\", \"train_bsz\": \"145.7\", \"train_num_updates\": \"83952\", \"train_lr_discriminator\": \"0.0005\", \"train_lr_generator\": \"0.0004\", \"train_gnorm\": \"29.713\", \"train_clip\": \"56.2\", \"train_train_wall\": \"181\", \"train_wall\": \"10058\"}\r\n"
     ]
    },
    {
     "name": "stdout",
     "output_type": "stream",
     "text": [
      "[2021-06-08 20:05:37,086][fairseq.trainer][INFO] - begin training epoch 5248\r\n",
      "[2021-06-08 20:05:37,087][fairseq_cli.train][INFO] - Start iterating over samples\r\n"
     ]
    },
    {
     "name": "stdout",
     "output_type": "stream",
     "text": [
      "[2021-06-08 20:08:43,112][fairseq_cli.train][INFO] - begin validation on \"valid\" subset\r\n"
     ]
    },
    {
     "name": "stdout",
     "output_type": "stream",
     "text": [
      "[2021-06-08 20:08:45,896][fairseq.tasks.unpaired_audio_text][INFO] - REF: ɛ n f œ ʂ ə n a d ɵ ʂ ə k t f øː r d eː t s ɔ m h ɛ n d ə p oː ɕ œ r k ɔ n s ɛ t ə n\r\n",
      "[2021-06-08 20:08:45,898][fairseq.tasks.unpaired_audio_text][INFO] - HYP: n ɪ n s j œ r œ j b j uː œ j k j uː ɵ œ øː j m ə m œ k b ə uː s eː r n v oː s l ɪ ŋ k ɪ l a s œ m a t a\r\n",
      "[2021-06-08 20:08:45,903][fairseq.tasks.unpaired_audio_text][INFO] - LM [REF]: -53.44462585449219, 0.05339602260269112\r\n",
      "[2021-06-08 20:08:45,904][fairseq.tasks.unpaired_audio_text][INFO] - LM [HYP]: -89.54750061035156, 0.016182662912300045\r\n"
     ]
    },
    {
     "name": "stdout",
     "output_type": "stream",
     "text": [
      "[2021-06-08 20:08:46,430][valid][INFO] - {\"epoch\": 5248, \"valid_loss\": \"1.002\", \"valid_ntokens\": \"3039.79\", \"valid_nsentences\": \"144.214\", \"valid_lm_score_sum\": \"-89527.3\", \"valid_num_pred_chars\": \"48368\", \"valid_vocab_seen_pct\": \"0.893728\", \"valid_uer\": \"100.214\", \"valid_weighted_lm_ppl\": \"74.8829\", \"valid_lm_ppl\": \"59.8127\", \"valid_wps\": \"17696.5\", \"valid_wpb\": \"3039.8\", \"valid_bsz\": \"144.2\", \"valid_num_updates\": \"83968\", \"valid_best_weighted_lm_ppl\": \"73.0296\"}\r\n",
      "[2021-06-08 20:08:46,434][fairseq.checkpoint_utils][INFO] - Preparing to save checkpoint for epoch 5248 @ 83968 updates\r\n",
      "[2021-06-08 20:08:46,435][fairseq.trainer][INFO] - Saving checkpoint to /kaggle/working/checkpoint_last.pt\r\n"
     ]
    },
    {
     "name": "stdout",
     "output_type": "stream",
     "text": [
      "[2021-06-08 20:08:46,489][fairseq.trainer][INFO] - Finished saving checkpoint to /kaggle/working/checkpoint_last.pt\r\n",
      "[2021-06-08 20:08:46,490][fairseq.checkpoint_utils][INFO] - Saved checkpoint /kaggle/working/checkpoint_last.pt (epoch 5248 @ 83968 updates, score 74.88288713574211) (writing took 0.055715759999657166 seconds)\r\n",
      "[2021-06-08 20:08:46,490][fairseq_cli.train][INFO] - end of epoch 5248 (average epoch stats below)\r\n",
      "[2021-06-08 20:08:46,493][train][INFO] - {\"epoch\": 5248, \"train_loss\": \"3.458\", \"train_ntokens\": \"145.688\", \"train_nsentences\": \"145.688\", \"train_temp\": \"0.1\", \"train_code_ppl\": \"8.733\", \"train_loss_code_pen\": \"0.333\", \"train_loss_smoothness\": \"2.102\", \"train_loss_dense_g\": \"4.585\", \"train_lm_score_sum\": 0.0, \"train_num_pred_chars\": 0.0, \"train_loss_grad_pen\": \"0.094\", \"train_loss_dense_d\": \"0.022\", \"train_loss_token_d\": \"0.03\", \"train_wps\": \"12.3\", \"train_ups\": \"0.08\", \"train_wpb\": \"145.7\", \"train_bsz\": \"145.7\", \"train_num_updates\": \"83968\", \"train_lr_discriminator\": \"0.0005\", \"train_lr_generator\": \"0.0004\", \"train_gnorm\": \"31.205\", \"train_clip\": \"81.2\", \"train_train_wall\": \"186\", \"train_wall\": \"10248\"}\r\n"
     ]
    },
    {
     "name": "stdout",
     "output_type": "stream",
     "text": [
      "[2021-06-08 20:08:46,564][fairseq.trainer][INFO] - begin training epoch 5249\r\n",
      "[2021-06-08 20:08:46,565][fairseq_cli.train][INFO] - Start iterating over samples\r\n"
     ]
    },
    {
     "name": "stdout",
     "output_type": "stream",
     "text": [
      "[2021-06-08 20:12:47,773][fairseq_cli.train][INFO] - begin validation on \"valid\" subset\r\n"
     ]
    },
    {
     "name": "stdout",
     "output_type": "stream",
     "text": [
      "[2021-06-08 20:12:50,346][fairseq.tasks.unpaired_audio_text][INFO] - REF: ɛ n f œ ʂ ə n a d ɵ ʂ ə k t f øː r d eː t s ɔ m h ɛ n d ə p oː ɕ œ r k ɔ n s ɛ t ə n\r\n",
      "[2021-06-08 20:12:50,349][fairseq.tasks.unpaired_audio_text][INFO] - HYP: n ɪ s j œ r œ j b j uː m j k j uː f œ øː j m ə m œ k b ə uː s eː r n v oː s l ɪ ŋ k ɪ l a s œ m a l t a\r\n",
      "[2021-06-08 20:12:50,353][fairseq.tasks.unpaired_audio_text][INFO] - LM [REF]: -53.44462585449219, 0.05339602260269112\r\n",
      "[2021-06-08 20:12:50,353][fairseq.tasks.unpaired_audio_text][INFO] - LM [HYP]: -88.00357055664062, 0.017375151052857897\r\n"
     ]
    },
    {
     "name": "stdout",
     "output_type": "stream",
     "text": [
      "[2021-06-08 20:12:50,908][valid][INFO] - {\"epoch\": 5249, \"valid_loss\": \"1.004\", \"valid_ntokens\": \"3039.79\", \"valid_nsentences\": \"144.214\", \"valid_lm_score_sum\": \"-89666.1\", \"valid_num_pred_chars\": \"48499\", \"valid_vocab_seen_pct\": \"0.88676\", \"valid_uer\": \"100.421\", \"valid_weighted_lm_ppl\": \"75.7395\", \"valid_lm_ppl\": \"59.5572\", \"valid_wps\": \"17143.4\", \"valid_wpb\": \"3039.8\", \"valid_bsz\": \"144.2\", \"valid_num_updates\": \"83984\", \"valid_best_weighted_lm_ppl\": \"73.0296\"}\r\n",
      "[2021-06-08 20:12:50,912][fairseq.checkpoint_utils][INFO] - Preparing to save checkpoint for epoch 5249 @ 83984 updates\r\n",
      "[2021-06-08 20:12:50,913][fairseq.trainer][INFO] - Saving checkpoint to /kaggle/working/checkpoint_last.pt\r\n"
     ]
    },
    {
     "name": "stdout",
     "output_type": "stream",
     "text": [
      "[2021-06-08 20:12:50,965][fairseq.trainer][INFO] - Finished saving checkpoint to /kaggle/working/checkpoint_last.pt\r\n",
      "[2021-06-08 20:12:50,965][fairseq.checkpoint_utils][INFO] - Saved checkpoint /kaggle/working/checkpoint_last.pt (epoch 5249 @ 83984 updates, score 75.73946353235937) (writing took 0.05348675000095682 seconds)\r\n",
      "[2021-06-08 20:12:50,966][fairseq_cli.train][INFO] - end of epoch 5249 (average epoch stats below)\r\n",
      "[2021-06-08 20:12:50,969][train][INFO] - {\"epoch\": 5249, \"train_loss\": \"3.181\", \"train_ntokens\": \"145.688\", \"train_nsentences\": \"145.688\", \"train_temp\": \"0.1\", \"train_code_ppl\": \"8.819\", \"train_loss_code_pen\": \"0.342\", \"train_loss_smoothness\": \"2.112\", \"train_loss_dense_g\": \"4.044\", \"train_lm_score_sum\": 0.0, \"train_num_pred_chars\": 0.0, \"train_loss_grad_pen\": \"0.054\", \"train_loss_dense_d\": \"0.023\", \"train_loss_token_d\": \"0.02\", \"train_wps\": \"9.5\", \"train_ups\": \"0.07\", \"train_wpb\": \"145.7\", \"train_bsz\": \"145.7\", \"train_num_updates\": \"83984\", \"train_lr_discriminator\": \"0.0005\", \"train_lr_generator\": \"0.0004\", \"train_gnorm\": \"30.188\", \"train_clip\": \"68.8\", \"train_train_wall\": \"241\", \"train_wall\": \"10492\"}\r\n"
     ]
    },
    {
     "name": "stdout",
     "output_type": "stream",
     "text": [
      "[2021-06-08 20:12:51,024][fairseq.trainer][INFO] - begin training epoch 5250\r\n",
      "[2021-06-08 20:12:51,025][fairseq_cli.train][INFO] - Start iterating over samples\r\n"
     ]
    },
    {
     "name": "stdout",
     "output_type": "stream",
     "text": [
      "[2021-06-08 20:16:40,885][train_inner][INFO] - {\"epoch\": 5250, \"update\": 5250.0, \"loss\": \"3.437\", \"ntokens\": \"146.26\", \"nsentences\": \"146.26\", \"temp\": \"0.1\", \"code_ppl\": \"8.749\", \"loss_code_pen\": \"0.337\", \"loss_smoothness\": \"2.106\", \"loss_dense_g\": \"4.312\", \"lm_score_sum\": 0.0, \"num_pred_chars\": 0.0, \"loss_grad_pen\": \"0.081\", \"loss_dense_d\": \"0.023\", \"loss_token_d\": \"0.028\", \"wps\": \"11.7\", \"ups\": \"0.08\", \"wpb\": \"146.3\", \"bsz\": \"146.3\", \"num_updates\": \"84000\", \"lr_discriminator\": \"0.0005\", \"lr_generator\": \"0.0004\", \"gnorm\": \"31.27\", \"clip\": \"74\", \"train_wall\": \"1228\", \"wall\": \"10722\"}\r\n",
      "[2021-06-08 20:16:40,887][fairseq_cli.train][INFO] - begin validation on \"valid\" subset\r\n"
     ]
    },
    {
     "name": "stdout",
     "output_type": "stream",
     "text": [
      "[2021-06-08 20:16:43,390][fairseq.tasks.unpaired_audio_text][INFO] - REF: ɛ n f œ ʂ ə n a d ɵ ʂ ə k t f øː r d eː t s ɔ m h ɛ n d ə p oː ɕ œ r k ɔ n s ɛ t ə n\r\n",
      "[2021-06-08 20:16:43,393][fairseq.tasks.unpaired_audio_text][INFO] - HYP: n ɪ s j œ r œ j b j uː j k j uː ɡ œ øː j m ə m œ k b ə uː s eː r n v oː s l ɪ ŋ k ɪ l a s œ m a l t a\r\n",
      "[2021-06-08 20:16:43,397][fairseq.tasks.unpaired_audio_text][INFO] - LM [REF]: -53.44462585449219, 0.05339602260269112\r\n",
      "[2021-06-08 20:16:43,397][fairseq.tasks.unpaired_audio_text][INFO] - LM [HYP]: -86.728759765625, 0.01698342629858826\r\n"
     ]
    },
    {
     "name": "stdout",
     "output_type": "stream",
     "text": [
      "[2021-06-08 20:16:43,910][valid][INFO] - {\"epoch\": 5250, \"valid_loss\": \"1.002\", \"valid_ntokens\": \"3039.79\", \"valid_nsentences\": \"144.214\", \"valid_lm_score_sum\": \"-89528.5\", \"valid_num_pred_chars\": \"48397\", \"valid_vocab_seen_pct\": \"0.890244\", \"valid_uer\": \"100.202\", \"valid_weighted_lm_ppl\": \"75.297\", \"valid_lm_ppl\": \"59.6755\", \"valid_wps\": \"17973.1\", \"valid_wpb\": \"3039.8\", \"valid_bsz\": \"144.2\", \"valid_num_updates\": \"84000\", \"valid_best_weighted_lm_ppl\": \"73.0296\"}\r\n",
      "[2021-06-08 20:16:43,913][fairseq.checkpoint_utils][INFO] - Preparing to save checkpoint for epoch 5250 @ 84000 updates\r\n",
      "[2021-06-08 20:16:43,914][fairseq.trainer][INFO] - Saving checkpoint to /kaggle/working/checkpoint_last.pt\r\n"
     ]
    },
    {
     "name": "stdout",
     "output_type": "stream",
     "text": [
      "[2021-06-08 20:16:43,962][fairseq.trainer][INFO] - Finished saving checkpoint to /kaggle/working/checkpoint_last.pt\r\n",
      "[2021-06-08 20:16:43,962][fairseq.checkpoint_utils][INFO] - Saved checkpoint /kaggle/working/checkpoint_last.pt (epoch 5250 @ 84000 updates, score 75.29701117441525) (writing took 0.04954845800057228 seconds)\r\n",
      "[2021-06-08 20:16:43,963][fairseq_cli.train][INFO] - end of epoch 5250 (average epoch stats below)\r\n",
      "[2021-06-08 20:16:43,965][train][INFO] - {\"epoch\": 5250, \"train_loss\": \"3.675\", \"train_ntokens\": \"145.688\", \"train_nsentences\": \"145.688\", \"train_temp\": \"0.1\", \"train_code_ppl\": \"8.6\", \"train_loss_code_pen\": \"0.328\", \"train_loss_smoothness\": \"2.073\", \"train_loss_dense_g\": \"4.548\", \"train_lm_score_sum\": 0.0, \"train_num_pred_chars\": 0.0, \"train_loss_grad_pen\": \"0.092\", \"train_loss_dense_d\": \"0.021\", \"train_loss_token_d\": \"0.04\", \"train_wps\": \"10\", \"train_ups\": \"0.07\", \"train_wpb\": \"145.7\", \"train_bsz\": \"145.7\", \"train_num_updates\": \"84000\", \"train_lr_discriminator\": \"0.0005\", \"train_lr_generator\": \"0.0004\", \"train_gnorm\": \"33.133\", \"train_clip\": \"81.2\", \"train_train_wall\": \"229\", \"train_wall\": \"10725\"}\r\n"
     ]
    },
    {
     "name": "stdout",
     "output_type": "stream",
     "text": [
      "[2021-06-08 20:16:44,023][fairseq.trainer][INFO] - begin training epoch 5251\r\n",
      "[2021-06-08 20:16:44,024][fairseq_cli.train][INFO] - Start iterating over samples\r\n"
     ]
    },
    {
     "name": "stdout",
     "output_type": "stream",
     "text": [
      "[2021-06-08 20:20:52,309][fairseq_cli.train][INFO] - begin validation on \"valid\" subset\r\n"
     ]
    },
    {
     "name": "stdout",
     "output_type": "stream",
     "text": [
      "[2021-06-08 20:20:55,038][fairseq.tasks.unpaired_audio_text][INFO] - REF: ɛ n f œ ʂ ə n a d ɵ ʂ ə k t f øː r d eː t s ɔ m h ɛ n d ə p oː ɕ œ r k ɔ n s ɛ t ə n\r\n",
      "[2021-06-08 20:20:55,041][fairseq.tasks.unpaired_audio_text][INFO] - HYP: n ɪ n s j œ r œ j b j uː yː k j uː f œ øː j m ə m œ k b ə uː s eː r n v oː s l ɪ ŋ k ɪ l a s œ m a l t a\r\n",
      "[2021-06-08 20:20:55,046][fairseq.tasks.unpaired_audio_text][INFO] - LM [REF]: -53.44462585449219, 0.05339602260269112\r\n",
      "[2021-06-08 20:20:55,046][fairseq.tasks.unpaired_audio_text][INFO] - LM [HYP]: -86.98280334472656, 0.018211425146229136\r\n"
     ]
    },
    {
     "name": "stdout",
     "output_type": "stream",
     "text": [
      "[2021-06-08 20:20:55,564][valid][INFO] - {\"epoch\": 5251, \"valid_loss\": \"1\", \"valid_ntokens\": \"3039.79\", \"valid_nsentences\": \"144.214\", \"valid_lm_score_sum\": \"-89395.2\", \"valid_num_pred_chars\": \"48259\", \"valid_vocab_seen_pct\": \"0.893728\", \"valid_uer\": \"99.9554\", \"valid_weighted_lm_ppl\": \"75.0942\", \"valid_lm_ppl\": \"59.9815\", \"valid_wps\": \"17597.5\", \"valid_wpb\": \"3039.8\", \"valid_bsz\": \"144.2\", \"valid_num_updates\": \"84016\", \"valid_best_weighted_lm_ppl\": \"73.0296\"}\r\n",
      "[2021-06-08 20:20:55,568][fairseq.checkpoint_utils][INFO] - Preparing to save checkpoint for epoch 5251 @ 84016 updates\r\n",
      "[2021-06-08 20:20:55,569][fairseq.trainer][INFO] - Saving checkpoint to /kaggle/working/checkpoint_last.pt\r\n"
     ]
    },
    {
     "name": "stdout",
     "output_type": "stream",
     "text": [
      "[2021-06-08 20:20:55,617][fairseq.trainer][INFO] - Finished saving checkpoint to /kaggle/working/checkpoint_last.pt\r\n",
      "[2021-06-08 20:20:55,617][fairseq.checkpoint_utils][INFO] - Saved checkpoint /kaggle/working/checkpoint_last.pt (epoch 5251 @ 84016 updates, score 75.09419489117442) (writing took 0.049375787000826676 seconds)\r\n",
      "[2021-06-08 20:20:55,617][fairseq_cli.train][INFO] - end of epoch 5251 (average epoch stats below)\r\n",
      "[2021-06-08 20:20:55,620][train][INFO] - {\"epoch\": 5251, \"train_loss\": \"3.153\", \"train_ntokens\": \"145.688\", \"train_nsentences\": \"145.688\", \"train_temp\": \"0.1\", \"train_code_ppl\": \"8.924\", \"train_loss_code_pen\": \"0.337\", \"train_loss_smoothness\": \"2.124\", \"train_loss_dense_g\": \"3.981\", \"train_lm_score_sum\": 0.0, \"train_num_pred_chars\": 0.0, \"train_loss_grad_pen\": \"0.046\", \"train_loss_dense_d\": \"0.028\", \"train_loss_token_d\": \"0.022\", \"train_wps\": \"9.3\", \"train_ups\": \"0.06\", \"train_wpb\": \"145.7\", \"train_bsz\": \"145.7\", \"train_num_updates\": \"84016\", \"train_lr_discriminator\": \"0.0005\", \"train_lr_generator\": \"0.0004\", \"train_gnorm\": \"28.478\", \"train_clip\": \"56.2\", \"train_train_wall\": \"248\", \"train_wall\": \"10977\"}\r\n"
     ]
    },
    {
     "name": "stdout",
     "output_type": "stream",
     "text": [
      "[2021-06-08 20:20:55,679][fairseq.trainer][INFO] - begin training epoch 5252\r\n",
      "[2021-06-08 20:20:55,680][fairseq_cli.train][INFO] - Start iterating over samples\r\n"
     ]
    },
    {
     "name": "stdout",
     "output_type": "stream",
     "text": [
      "[2021-06-08 20:25:16,966][fairseq_cli.train][INFO] - begin validation on \"valid\" subset\r\n"
     ]
    },
    {
     "name": "stdout",
     "output_type": "stream",
     "text": [
      "[2021-06-08 20:25:19,563][fairseq.tasks.unpaired_audio_text][INFO] - REF: ɛ n f œ ʂ ə n a d ɵ ʂ ə k t f øː r d eː t s ɔ m h ɛ n d ə p oː ɕ œ r k ɔ n s ɛ t ə n\r\n",
      "[2021-06-08 20:25:19,566][fairseq.tasks.unpaired_audio_text][INFO] - HYP: n ɪ n s j r œ j b j uː j k j uː ɵ œ j m ə m œ k b ə uː s eː r n v oː s l ɪ ŋ k ɪ l a s œ uː m a t a\r\n",
      "[2021-06-08 20:25:19,570][fairseq.tasks.unpaired_audio_text][INFO] - LM [REF]: -53.44462585449219, 0.05339602260269112\r\n",
      "[2021-06-08 20:25:19,570][fairseq.tasks.unpaired_audio_text][INFO] - LM [HYP]: -87.83121490478516, 0.014797318536859567\r\n"
     ]
    },
    {
     "name": "stdout",
     "output_type": "stream",
     "text": [
      "[2021-06-08 20:25:20,073][valid][INFO] - {\"epoch\": 5252, \"valid_loss\": \"1.002\", \"valid_ntokens\": \"3039.79\", \"valid_nsentences\": \"144.214\", \"valid_lm_score_sum\": \"-89588.8\", \"valid_num_pred_chars\": \"48408\", \"valid_vocab_seen_pct\": \"0.88676\", \"valid_uer\": \"100.209\", \"valid_weighted_lm_ppl\": \"76.0311\", \"valid_lm_ppl\": \"59.7865\", \"valid_wps\": \"17334.4\", \"valid_wpb\": \"3039.8\", \"valid_bsz\": \"144.2\", \"valid_num_updates\": \"84032\", \"valid_best_weighted_lm_ppl\": \"73.0296\"}\r\n",
      "[2021-06-08 20:25:20,076][fairseq.checkpoint_utils][INFO] - Preparing to save checkpoint for epoch 5252 @ 84032 updates\r\n",
      "[2021-06-08 20:25:20,077][fairseq.trainer][INFO] - Saving checkpoint to /kaggle/working/checkpoint_last.pt\r\n"
     ]
    },
    {
     "name": "stdout",
     "output_type": "stream",
     "text": [
      "[2021-06-08 20:25:20,123][fairseq.trainer][INFO] - Finished saving checkpoint to /kaggle/working/checkpoint_last.pt\r\n",
      "[2021-06-08 20:25:20,123][fairseq.checkpoint_utils][INFO] - Saved checkpoint /kaggle/working/checkpoint_last.pt (epoch 5252 @ 84032 updates, score 76.03114410776907) (writing took 0.04695970600005239 seconds)\r\n",
      "[2021-06-08 20:25:20,123][fairseq_cli.train][INFO] - end of epoch 5252 (average epoch stats below)\r\n",
      "[2021-06-08 20:25:20,126][train][INFO] - {\"epoch\": 5252, \"train_loss\": \"2.971\", \"train_ntokens\": \"145.688\", \"train_nsentences\": \"145.688\", \"train_temp\": \"0.1\", \"train_code_ppl\": \"8.551\", \"train_loss_code_pen\": \"0.321\", \"train_loss_smoothness\": \"2.031\", \"train_loss_dense_g\": \"4.12\", \"train_lm_score_sum\": 0.0, \"train_num_pred_chars\": 0.0, \"train_loss_grad_pen\": \"0.053\", \"train_loss_dense_d\": \"0.022\", \"train_loss_token_d\": \"0.022\", \"train_wps\": \"8.8\", \"train_ups\": \"0.06\", \"train_wpb\": \"145.7\", \"train_bsz\": \"145.7\", \"train_num_updates\": \"84032\", \"train_lr_discriminator\": \"0.0005\", \"train_lr_generator\": \"0.0004\", \"train_gnorm\": \"29.636\", \"train_clip\": \"62.5\", \"train_train_wall\": \"261\", \"train_wall\": \"11241\"}\r\n"
     ]
    },
    {
     "name": "stdout",
     "output_type": "stream",
     "text": [
      "[2021-06-08 20:25:20,183][fairseq.trainer][INFO] - begin training epoch 5253\r\n",
      "[2021-06-08 20:25:20,184][fairseq_cli.train][INFO] - Start iterating over samples\r\n"
     ]
    },
    {
     "name": "stdout",
     "output_type": "stream",
     "text": [
      "[2021-06-08 20:29:05,292][fairseq_cli.train][INFO] - begin validation on \"valid\" subset\r\n"
     ]
    },
    {
     "name": "stdout",
     "output_type": "stream",
     "text": [
      "[2021-06-08 20:29:08,049][fairseq.tasks.unpaired_audio_text][INFO] - REF: ɛ n f œ ʂ ə n a d ɵ ʂ ə k t f øː r d eː t s ɔ m h ɛ n d ə p oː ɕ œ r k ɔ n s ɛ t ə n\r\n",
      "[2021-06-08 20:29:08,053][fairseq.tasks.unpaired_audio_text][INFO] - HYP: n ɪ n s j œ r œ j b j uː j k j uː f œ j m ə m œ k b ə uː s eː r n v oː s l ɪ ŋ k ɪ l a s œ uː m a t a\r\n",
      "[2021-06-08 20:29:08,058][fairseq.tasks.unpaired_audio_text][INFO] - LM [REF]: -53.44462585449219, 0.05339602260269112\r\n",
      "[2021-06-08 20:29:08,059][fairseq.tasks.unpaired_audio_text][INFO] - LM [HYP]: -87.0650863647461, 0.016717121647703385\r\n"
     ]
    },
    {
     "name": "stdout",
     "output_type": "stream",
     "text": [
      "[2021-06-08 20:29:08,599][valid][INFO] - {\"epoch\": 5253, \"valid_loss\": \"1.002\", \"valid_ntokens\": \"3039.79\", \"valid_nsentences\": \"144.214\", \"valid_lm_score_sum\": \"-89490.1\", \"valid_num_pred_chars\": \"48387\", \"valid_vocab_seen_pct\": \"0.879791\", \"valid_uer\": \"100.24\", \"valid_weighted_lm_ppl\": \"77.0242\", \"valid_lm_ppl\": \"59.6192\", \"valid_wps\": \"16222.6\", \"valid_wpb\": \"3039.8\", \"valid_bsz\": \"144.2\", \"valid_num_updates\": \"84048\", \"valid_best_weighted_lm_ppl\": \"73.0296\"}\r\n",
      "[2021-06-08 20:29:08,603][fairseq.checkpoint_utils][INFO] - Preparing to save checkpoint for epoch 5253 @ 84048 updates\r\n",
      "[2021-06-08 20:29:08,604][fairseq.trainer][INFO] - Saving checkpoint to /kaggle/working/checkpoint_last.pt\r\n"
     ]
    },
    {
     "name": "stdout",
     "output_type": "stream",
     "text": [
      "[2021-06-08 20:29:08,653][fairseq.trainer][INFO] - Finished saving checkpoint to /kaggle/working/checkpoint_last.pt\r\n",
      "[2021-06-08 20:29:08,653][fairseq.checkpoint_utils][INFO] - Saved checkpoint /kaggle/working/checkpoint_last.pt (epoch 5253 @ 84048 updates, score 77.0241671203777) (writing took 0.05052001199874212 seconds)\r\n",
      "[2021-06-08 20:29:08,654][fairseq_cli.train][INFO] - end of epoch 5253 (average epoch stats below)\r\n",
      "[2021-06-08 20:29:08,657][train][INFO] - {\"epoch\": 5253, \"train_loss\": \"3.473\", \"train_ntokens\": \"145.688\", \"train_nsentences\": \"145.688\", \"train_temp\": \"0.1\", \"train_code_ppl\": \"8.757\", \"train_loss_code_pen\": \"0.333\", \"train_loss_smoothness\": \"2.077\", \"train_loss_dense_g\": \"4.135\", \"train_lm_score_sum\": 0.0, \"train_num_pred_chars\": 0.0, \"train_loss_grad_pen\": \"0.113\", \"train_loss_dense_d\": \"0.027\", \"train_loss_token_d\": \"0.03\", \"train_wps\": \"10.2\", \"train_ups\": \"0.07\", \"train_wpb\": \"145.7\", \"train_bsz\": \"145.7\", \"train_num_updates\": \"84048\", \"train_lr_discriminator\": \"0.0005\", \"train_lr_generator\": \"0.0004\", \"train_gnorm\": \"33.902\", \"train_clip\": \"68.8\", \"train_train_wall\": \"225\", \"train_wall\": \"11470\"}\r\n"
     ]
    },
    {
     "name": "stdout",
     "output_type": "stream",
     "text": [
      "[2021-06-08 20:29:08,716][fairseq.trainer][INFO] - begin training epoch 5254\r\n"
     ]
    },
    {
     "name": "stdout",
     "output_type": "stream",
     "text": [
      "[2021-06-08 20:29:08,718][fairseq_cli.train][INFO] - Start iterating over samples\r\n"
     ]
    },
    {
     "name": "stdout",
     "output_type": "stream",
     "text": [
      "[2021-06-08 20:33:00,577][fairseq_cli.train][INFO] - begin validation on \"valid\" subset\r\n"
     ]
    },
    {
     "name": "stdout",
     "output_type": "stream",
     "text": [
      "[2021-06-08 20:33:03,085][fairseq.tasks.unpaired_audio_text][INFO] - REF: ɛ n f œ ʂ ə n a d ɵ ʂ ə k t f øː r d eː t s ɔ m h ɛ n d ə p oː ɕ œ r k ɔ n s ɛ t ə n\r\n",
      "[2021-06-08 20:33:03,087][fairseq.tasks.unpaired_audio_text][INFO] - HYP: n ɪ n s j œ r œ j b j uː œ yː k j uː f œ øː j m ə m œ k b ə uː s eː r n v oː s l ɪ ŋ k ɪ l a s œ uː m a t a\r\n",
      "[2021-06-08 20:33:03,092][fairseq.tasks.unpaired_audio_text][INFO] - LM [REF]: -53.44462585449219, 0.05339602260269112\r\n",
      "[2021-06-08 20:33:03,092][fairseq.tasks.unpaired_audio_text][INFO] - LM [HYP]: -91.86370086669922, 0.015803415673445224\r\n"
     ]
    },
    {
     "name": "stdout",
     "output_type": "stream",
     "text": [
      "[2021-06-08 20:33:03,623][valid][INFO] - {\"epoch\": 5254, \"valid_loss\": \"1\", \"valid_ntokens\": \"3039.79\", \"valid_nsentences\": \"144.214\", \"valid_lm_score_sum\": \"-89266.6\", \"valid_num_pred_chars\": \"48258\", \"valid_vocab_seen_pct\": \"0.891986\", \"valid_uer\": \"100.049\", \"valid_weighted_lm_ppl\": \"74.9513\", \"valid_lm_ppl\": \"59.6342\", \"valid_wps\": \"17886.9\", \"valid_wpb\": \"3039.8\", \"valid_bsz\": \"144.2\", \"valid_num_updates\": \"84064\", \"valid_best_weighted_lm_ppl\": \"73.0296\"}\r\n",
      "[2021-06-08 20:33:03,627][fairseq.checkpoint_utils][INFO] - Preparing to save checkpoint for epoch 5254 @ 84064 updates\r\n",
      "[2021-06-08 20:33:03,628][fairseq.trainer][INFO] - Saving checkpoint to /kaggle/working/checkpoint_last.pt\r\n"
     ]
    },
    {
     "name": "stdout",
     "output_type": "stream",
     "text": [
      "[2021-06-08 20:33:03,676][fairseq.trainer][INFO] - Finished saving checkpoint to /kaggle/working/checkpoint_last.pt\r\n",
      "[2021-06-08 20:33:03,676][fairseq.checkpoint_utils][INFO] - Saved checkpoint /kaggle/working/checkpoint_last.pt (epoch 5254 @ 84064 updates, score 74.95127388102593) (writing took 0.0495804810016125 seconds)\r\n",
      "[2021-06-08 20:33:03,677][fairseq_cli.train][INFO] - end of epoch 5254 (average epoch stats below)\r\n",
      "[2021-06-08 20:33:03,681][train][INFO] - {\"epoch\": 5254, \"train_loss\": \"3.48\", \"train_ntokens\": \"145.688\", \"train_nsentences\": \"145.688\", \"train_temp\": \"0.1\", \"train_code_ppl\": \"8.663\", \"train_loss_code_pen\": \"0.324\", \"train_loss_smoothness\": \"2.051\", \"train_loss_dense_g\": \"4.205\", \"train_lm_score_sum\": 0.0, \"train_num_pred_chars\": 0.0, \"train_loss_grad_pen\": \"0.09\", \"train_loss_dense_d\": \"0.021\", \"train_loss_token_d\": \"0.035\", \"train_wps\": \"9.9\", \"train_ups\": \"0.07\", \"train_wpb\": \"145.7\", \"train_bsz\": \"145.7\", \"train_num_updates\": \"84064\", \"train_lr_discriminator\": \"0.0005\", \"train_lr_generator\": \"0.0004\", \"train_gnorm\": \"31.795\", \"train_clip\": \"81.2\", \"train_train_wall\": \"231\", \"train_wall\": \"11705\"}\r\n"
     ]
    },
    {
     "name": "stdout",
     "output_type": "stream",
     "text": [
      "[2021-06-08 20:33:03,740][fairseq.trainer][INFO] - begin training epoch 5255\r\n",
      "[2021-06-08 20:33:03,742][fairseq_cli.train][INFO] - Start iterating over samples\r\n"
     ]
    },
    {
     "name": "stdout",
     "output_type": "stream",
     "text": [
      "[2021-06-08 20:37:25,657][fairseq_cli.train][INFO] - begin validation on \"valid\" subset\r\n"
     ]
    },
    {
     "name": "stdout",
     "output_type": "stream",
     "text": [
      "[2021-06-08 20:37:28,205][fairseq.tasks.unpaired_audio_text][INFO] - REF: ɛ n f œ ʂ ə n a d ɵ ʂ ə k t f øː r d eː t s ɔ m h ɛ n d ə p oː ɕ œ r k ɔ n s ɛ t ə n\r\n",
      "[2021-06-08 20:37:28,207][fairseq.tasks.unpaired_audio_text][INFO] - HYP: n ɪ s j œ r œ j b j uː yː k uː ɵ øː j m ə m œ ɔ b ə uː s eː r n v oː s l ɪ ŋ k ɪ l s œ m k t a\r\n",
      "[2021-06-08 20:37:28,212][fairseq.tasks.unpaired_audio_text][INFO] - LM [REF]: -53.44462585449219, 0.05339602260269112\r\n",
      "[2021-06-08 20:37:28,212][fairseq.tasks.unpaired_audio_text][INFO] - LM [HYP]: -83.62399291992188, 0.013857632705017145\r\n"
     ]
    },
    {
     "name": "stdout",
     "output_type": "stream",
     "text": [
      "[2021-06-08 20:37:28,738][valid][INFO] - {\"epoch\": 5255, \"valid_loss\": \"1\", \"valid_ntokens\": \"3039.79\", \"valid_nsentences\": \"144.214\", \"valid_lm_score_sum\": \"-89430.2\", \"valid_num_pred_chars\": \"48260\", \"valid_vocab_seen_pct\": \"0.888502\", \"valid_uer\": \"99.9554\", \"valid_weighted_lm_ppl\": \"76.0963\", \"valid_lm_ppl\": \"60.0731\", \"valid_wps\": \"17801.4\", \"valid_wpb\": \"3039.8\", \"valid_bsz\": \"144.2\", \"valid_num_updates\": \"84080\", \"valid_best_weighted_lm_ppl\": \"73.0296\"}\r\n",
      "[2021-06-08 20:37:28,741][fairseq.checkpoint_utils][INFO] - Preparing to save checkpoint for epoch 5255 @ 84080 updates\r\n",
      "[2021-06-08 20:37:28,743][fairseq.trainer][INFO] - Saving checkpoint to /kaggle/working/checkpoint_last.pt\r\n"
     ]
    },
    {
     "name": "stdout",
     "output_type": "stream",
     "text": [
      "[2021-06-08 20:37:28,791][fairseq.trainer][INFO] - Finished saving checkpoint to /kaggle/working/checkpoint_last.pt\r\n",
      "[2021-06-08 20:37:28,791][fairseq.checkpoint_utils][INFO] - Saved checkpoint /kaggle/working/checkpoint_last.pt (epoch 5255 @ 84080 updates, score 76.09627354605881) (writing took 0.0494268029997329 seconds)\r\n",
      "[2021-06-08 20:37:28,791][fairseq_cli.train][INFO] - end of epoch 5255 (average epoch stats below)\r\n",
      "[2021-06-08 20:37:28,795][train][INFO] - {\"epoch\": 5255, \"train_loss\": \"2.93\", \"train_ntokens\": \"145.688\", \"train_nsentences\": \"145.688\", \"train_temp\": \"0.1\", \"train_code_ppl\": \"8.816\", \"train_loss_code_pen\": \"0.322\", \"train_loss_smoothness\": \"2.056\", \"train_loss_dense_g\": \"3.963\", \"train_lm_score_sum\": 0.0, \"train_num_pred_chars\": 0.0, \"train_loss_grad_pen\": \"0.074\", \"train_loss_dense_d\": \"0.031\", \"train_loss_token_d\": \"0.024\", \"train_wps\": \"8.8\", \"train_ups\": \"0.06\", \"train_wpb\": \"145.7\", \"train_bsz\": \"145.7\", \"train_num_updates\": \"84080\", \"train_lr_discriminator\": \"0.0005\", \"train_lr_generator\": \"0.0004\", \"train_gnorm\": \"29.697\", \"train_clip\": \"68.8\", \"train_train_wall\": \"261\", \"train_wall\": \"11970\"}\r\n"
     ]
    },
    {
     "name": "stdout",
     "output_type": "stream",
     "text": [
      "[2021-06-08 20:37:28,854][fairseq.trainer][INFO] - begin training epoch 5256\r\n",
      "[2021-06-08 20:37:28,856][fairseq_cli.train][INFO] - Start iterating over samples\r\n"
     ]
    },
    {
     "name": "stdout",
     "output_type": "stream",
     "text": [
      "[2021-06-08 20:41:31,609][fairseq_cli.train][INFO] - begin validation on \"valid\" subset\r\n"
     ]
    },
    {
     "name": "stdout",
     "output_type": "stream",
     "text": [
      "[2021-06-08 20:41:34,086][fairseq.tasks.unpaired_audio_text][INFO] - REF: ɛ n f œ ʂ ə n a d ɵ ʂ ə k t f øː r d eː t s ɔ m h ɛ n d ə p oː ɕ œ r k ɔ n s ɛ t ə n\r\n",
      "[2021-06-08 20:41:34,088][fairseq.tasks.unpaired_audio_text][INFO] - HYP: n ɪ s j œ r œ j yː b j uː yː k uː ɡ ɵ j m ə m œ ɔ b ə uː s eː r n v oː s l ɪ ŋ k ɪ l a s œ t a t a\r\n",
      "[2021-06-08 20:41:34,092][fairseq.tasks.unpaired_audio_text][INFO] - LM [REF]: -53.44462585449219, 0.05339602260269112\r\n",
      "[2021-06-08 20:41:34,093][fairseq.tasks.unpaired_audio_text][INFO] - LM [HYP]: -84.7958984375, 0.015697552641703905\r\n"
     ]
    },
    {
     "name": "stdout",
     "output_type": "stream",
     "text": [
      "[2021-06-08 20:41:34,599][valid][INFO] - {\"epoch\": 5256, \"valid_loss\": \"1\", \"valid_ntokens\": \"3039.79\", \"valid_nsentences\": \"144.214\", \"valid_lm_score_sum\": \"-89399.8\", \"valid_num_pred_chars\": \"48230\", \"valid_vocab_seen_pct\": \"0.890244\", \"valid_uer\": \"100\", \"valid_weighted_lm_ppl\": \"75.8784\", \"valid_lm_ppl\": \"60.1362\", \"valid_wps\": \"18163\", \"valid_wpb\": \"3039.8\", \"valid_bsz\": \"144.2\", \"valid_num_updates\": \"84096\", \"valid_best_weighted_lm_ppl\": \"73.0296\"}\r\n",
      "[2021-06-08 20:41:34,602][fairseq.checkpoint_utils][INFO] - Preparing to save checkpoint for epoch 5256 @ 84096 updates\r\n",
      "[2021-06-08 20:41:34,603][fairseq.trainer][INFO] - Saving checkpoint to /kaggle/working/checkpoint_last.pt\r\n"
     ]
    },
    {
     "name": "stdout",
     "output_type": "stream",
     "text": [
      "[2021-06-08 20:41:34,650][fairseq.trainer][INFO] - Finished saving checkpoint to /kaggle/working/checkpoint_last.pt\r\n",
      "[2021-06-08 20:41:34,650][fairseq.checkpoint_utils][INFO] - Saved checkpoint /kaggle/working/checkpoint_last.pt (epoch 5256 @ 84096 updates, score 75.87840642584244) (writing took 0.048320166000848985 seconds)\r\n",
      "[2021-06-08 20:41:34,651][fairseq_cli.train][INFO] - end of epoch 5256 (average epoch stats below)\r\n",
      "[2021-06-08 20:41:34,654][train][INFO] - {\"epoch\": 5256, \"train_loss\": \"3.215\", \"train_ntokens\": \"145.688\", \"train_nsentences\": \"145.688\", \"train_temp\": \"0.1\", \"train_code_ppl\": \"8.956\", \"train_loss_code_pen\": \"0.341\", \"train_loss_smoothness\": \"2.136\", \"train_loss_dense_g\": \"4.086\", \"train_lm_score_sum\": 0.0, \"train_num_pred_chars\": 0.0, \"train_loss_grad_pen\": \"0.054\", \"train_loss_dense_d\": \"0.025\", \"train_loss_token_d\": \"0.025\", \"train_wps\": \"9.5\", \"train_ups\": \"0.07\", \"train_wpb\": \"145.7\", \"train_bsz\": \"145.7\", \"train_num_updates\": \"84096\", \"train_lr_discriminator\": \"0.0005\", \"train_lr_generator\": \"0.0004\", \"train_gnorm\": \"29.022\", \"train_clip\": \"68.8\", \"train_train_wall\": \"242\", \"train_wall\": \"12216\"}\r\n"
     ]
    },
    {
     "name": "stdout",
     "output_type": "stream",
     "text": [
      "[2021-06-08 20:41:34,711][fairseq.trainer][INFO] - begin training epoch 5257\r\n",
      "[2021-06-08 20:41:34,712][fairseq_cli.train][INFO] - Start iterating over samples\r\n"
     ]
    },
    {
     "name": "stdout",
     "output_type": "stream",
     "text": [
      "[2021-06-08 20:42:11,872][train_inner][INFO] - {\"epoch\": 5257, \"update\": 5256.25, \"loss\": \"3.24\", \"ntokens\": \"144.69\", \"nsentences\": \"144.69\", \"temp\": \"0.1\", \"code_ppl\": \"8.809\", \"loss_code_pen\": \"0.329\", \"loss_smoothness\": \"2.078\", \"loss_dense_g\": \"4.082\", \"lm_score_sum\": 0.0, \"num_pred_chars\": 0.0, \"loss_grad_pen\": \"0.071\", \"loss_dense_d\": \"0.026\", \"loss_token_d\": \"0.026\", \"wps\": \"9.5\", \"ups\": \"0.07\", \"wpb\": \"144.7\", \"bsz\": \"144.7\", \"num_updates\": \"84100\", \"lr_discriminator\": \"0.0005\", \"lr_generator\": \"0.0004\", \"gnorm\": \"30.843\", \"clip\": \"68\", \"train_wall\": \"1505\", \"wall\": \"12253\"}\r\n"
     ]
    },
    {
     "name": "stdout",
     "output_type": "stream",
     "text": [
      "[2021-06-08 20:45:17,766][fairseq_cli.train][INFO] - begin validation on \"valid\" subset\r\n"
     ]
    },
    {
     "name": "stdout",
     "output_type": "stream",
     "text": [
      "[2021-06-08 20:45:20,172][fairseq.tasks.unpaired_audio_text][INFO] - REF: ɛ n f œ ʂ ə n a d ɵ ʂ ə k t f øː r d eː t s ɔ m h ɛ n d ə p oː ɕ œ r k ɔ n s ɛ t ə n\r\n"
     ]
    },
    {
     "name": "stdout",
     "output_type": "stream",
     "text": [
      "[2021-06-08 20:45:20,174][fairseq.tasks.unpaired_audio_text][INFO] - HYP: n ɪ n s j œ r œ j b j uː yː k uː f œ øː j m ə m œ k b ə uː s eː r n v oː s l ɪ ŋ k ɪ l s d uː t a t a\r\n",
      "[2021-06-08 20:45:20,179][fairseq.tasks.unpaired_audio_text][INFO] - LM [REF]: -53.44462585449219, 0.05339602260269112\r\n",
      "[2021-06-08 20:45:20,180][fairseq.tasks.unpaired_audio_text][INFO] - LM [HYP]: -85.84823608398438, 0.01627402885082783\r\n"
     ]
    },
    {
     "name": "stdout",
     "output_type": "stream",
     "text": [
      "[2021-06-08 20:45:20,679][valid][INFO] - {\"epoch\": 5257, \"valid_loss\": \"1.003\", \"valid_ntokens\": \"3039.79\", \"valid_nsentences\": \"144.214\", \"valid_lm_score_sum\": \"-89806.3\", \"valid_num_pred_chars\": \"48432\", \"valid_vocab_seen_pct\": \"0.890244\", \"valid_uer\": \"100.275\", \"valid_weighted_lm_ppl\": \"76.0417\", \"valid_lm_ppl\": \"60.2656\", \"valid_wps\": \"18647.3\", \"valid_wpb\": \"3039.8\", \"valid_bsz\": \"144.2\", \"valid_num_updates\": \"84112\", \"valid_best_weighted_lm_ppl\": \"73.0296\"}\r\n",
      "[2021-06-08 20:45:20,683][fairseq.checkpoint_utils][INFO] - Preparing to save checkpoint for epoch 5257 @ 84112 updates\r\n"
     ]
    },
    {
     "name": "stdout",
     "output_type": "stream",
     "text": [
      "[2021-06-08 20:45:20,684][fairseq.trainer][INFO] - Saving checkpoint to /kaggle/working/checkpoint_last.pt\r\n",
      "[2021-06-08 20:45:20,731][fairseq.trainer][INFO] - Finished saving checkpoint to /kaggle/working/checkpoint_last.pt\r\n",
      "[2021-06-08 20:45:20,731][fairseq.checkpoint_utils][INFO] - Saved checkpoint /kaggle/working/checkpoint_last.pt (epoch 5257 @ 84112 updates, score 76.04166496101105) (writing took 0.04831291200025589 seconds)\r\n",
      "[2021-06-08 20:45:20,731][fairseq_cli.train][INFO] - end of epoch 5257 (average epoch stats below)\r\n",
      "[2021-06-08 20:45:20,734][train][INFO] - {\"epoch\": 5257, \"train_loss\": \"3.663\", \"train_ntokens\": \"145.688\", \"train_nsentences\": \"145.688\", \"train_temp\": \"0.1\", \"train_code_ppl\": \"8.793\", \"train_loss_code_pen\": \"0.328\", \"train_loss_smoothness\": \"2.074\", \"train_loss_dense_g\": \"4.161\", \"train_lm_score_sum\": 0.0, \"train_num_pred_chars\": 0.0, \"train_loss_grad_pen\": \"0.082\", \"train_loss_dense_d\": \"0.023\", \"train_loss_token_d\": \"0.026\", \"train_wps\": \"10.3\", \"train_ups\": \"0.07\", \"train_wpb\": \"145.7\", \"train_bsz\": \"145.7\", \"train_num_updates\": \"84112\", \"train_lr_discriminator\": \"0.0005\", \"train_lr_generator\": \"0.0004\", \"train_gnorm\": \"32.558\", \"train_clip\": \"68.8\", \"train_train_wall\": \"223\", \"train_wall\": \"12442\"}\r\n"
     ]
    },
    {
     "name": "stdout",
     "output_type": "stream",
     "text": [
      "[2021-06-08 20:45:20,792][fairseq.trainer][INFO] - begin training epoch 5258\r\n",
      "[2021-06-08 20:45:20,793][fairseq_cli.train][INFO] - Start iterating over samples\r\n"
     ]
    },
    {
     "name": "stdout",
     "output_type": "stream",
     "text": [
      "[2021-06-08 20:49:46,704][fairseq_cli.train][INFO] - begin validation on \"valid\" subset\r\n"
     ]
    },
    {
     "name": "stdout",
     "output_type": "stream",
     "text": [
      "[2021-06-08 20:49:49,300][fairseq.tasks.unpaired_audio_text][INFO] - REF: ɛ n f œ ʂ ə n a d ɵ ʂ ə k t f øː r d eː t s ɔ m h ɛ n d ə p oː ɕ œ r k ɔ n s ɛ t ə n\r\n",
      "[2021-06-08 20:49:49,303][fairseq.tasks.unpaired_audio_text][INFO] - HYP: n ɪ n s j œ r œ j b j uː œ yː k yː uː f œ øː j m uː ə m œ k b ə uː s eː r n v oː s l ɪ ŋ k ɪ l s d uː m a t a\r\n",
      "[2021-06-08 20:49:49,307][fairseq.tasks.unpaired_audio_text][INFO] - LM [REF]: -53.44462585449219, 0.05339602260269112\r\n",
      "[2021-06-08 20:49:49,308][fairseq.tasks.unpaired_audio_text][INFO] - LM [HYP]: -93.55590057373047, 0.014640994483101575\r\n"
     ]
    },
    {
     "name": "stdout",
     "output_type": "stream",
     "text": [
      "[2021-06-08 20:49:49,844][valid][INFO] - {\"epoch\": 5258, \"valid_loss\": \"1.002\", \"valid_ntokens\": \"3039.79\", \"valid_nsentences\": \"144.214\", \"valid_lm_score_sum\": \"-89558.9\", \"valid_num_pred_chars\": \"48335\", \"valid_vocab_seen_pct\": \"0.883275\", \"valid_uer\": \"100.174\", \"valid_weighted_lm_ppl\": \"76.9827\", \"valid_lm_ppl\": \"60.06\", \"valid_wps\": \"17135.5\", \"valid_wpb\": \"3039.8\", \"valid_bsz\": \"144.2\", \"valid_num_updates\": \"84128\", \"valid_best_weighted_lm_ppl\": \"73.0296\"}\r\n",
      "[2021-06-08 20:49:49,848][fairseq.checkpoint_utils][INFO] - Preparing to save checkpoint for epoch 5258 @ 84128 updates\r\n",
      "[2021-06-08 20:49:49,849][fairseq.trainer][INFO] - Saving checkpoint to /kaggle/working/checkpoint_last.pt\r\n"
     ]
    },
    {
     "name": "stdout",
     "output_type": "stream",
     "text": [
      "[2021-06-08 20:49:49,899][fairseq.trainer][INFO] - Finished saving checkpoint to /kaggle/working/checkpoint_last.pt\r\n",
      "[2021-06-08 20:49:49,899][fairseq.checkpoint_utils][INFO] - Saved checkpoint /kaggle/working/checkpoint_last.pt (epoch 5258 @ 84128 updates, score 76.98271621468265) (writing took 0.05089002500062634 seconds)\r\n",
      "[2021-06-08 20:49:49,899][fairseq_cli.train][INFO] - end of epoch 5258 (average epoch stats below)\r\n",
      "[2021-06-08 20:49:49,903][train][INFO] - {\"epoch\": 5258, \"train_loss\": \"2.993\", \"train_ntokens\": \"145.688\", \"train_nsentences\": \"145.688\", \"train_temp\": \"0.1\", \"train_code_ppl\": \"8.684\", \"train_loss_code_pen\": \"0.334\", \"train_loss_smoothness\": \"2.065\", \"train_loss_dense_g\": \"4.101\", \"train_lm_score_sum\": 0.0, \"train_num_pred_chars\": 0.0, \"train_loss_grad_pen\": \"0.067\", \"train_loss_dense_d\": \"0.024\", \"train_loss_token_d\": \"0.021\", \"train_wps\": \"8.7\", \"train_ups\": \"0.06\", \"train_wpb\": \"145.7\", \"train_bsz\": \"145.7\", \"train_num_updates\": \"84128\", \"train_lr_discriminator\": \"0.0005\", \"train_lr_generator\": \"0.0004\", \"train_gnorm\": \"29.795\", \"train_clip\": \"75\", \"train_train_wall\": \"265\", \"train_wall\": \"12711\"}\r\n"
     ]
    },
    {
     "name": "stdout",
     "output_type": "stream",
     "text": [
      "[2021-06-08 20:49:49,970][fairseq.trainer][INFO] - begin training epoch 5259\r\n",
      "[2021-06-08 20:49:49,971][fairseq_cli.train][INFO] - Start iterating over samples\r\n"
     ]
    },
    {
     "name": "stdout",
     "output_type": "stream",
     "text": [
      "[2021-06-08 20:54:00,531][fairseq_cli.train][INFO] - begin validation on \"valid\" subset\r\n"
     ]
    },
    {
     "name": "stdout",
     "output_type": "stream",
     "text": [
      "[2021-06-08 20:54:02,984][fairseq.tasks.unpaired_audio_text][INFO] - REF: ɛ n f œ ʂ ə n a d ɵ ʂ ə k t f øː r d eː t s ɔ m h ɛ n d ə p oː ɕ œ r k ɔ n s ɛ t ə n\r\n",
      "[2021-06-08 20:54:02,987][fairseq.tasks.unpaired_audio_text][INFO] - HYP: n ɪ n s j œ r œ b j uː m yː k j uː f œ øː j m ə m œ k b ə uː s eː r n v oː s l ɪ ŋ k ɪ l a s d uː m a t a\r\n",
      "[2021-06-08 20:54:02,991][fairseq.tasks.unpaired_audio_text][INFO] - LM [REF]: -53.44462585449219, 0.05339602260269112\r\n",
      "[2021-06-08 20:54:02,991][fairseq.tasks.unpaired_audio_text][INFO] - LM [HYP]: -88.91609191894531, 0.016660121395971377\r\n"
     ]
    },
    {
     "name": "stdout",
     "output_type": "stream",
     "text": [
      "[2021-06-08 20:54:03,485][valid][INFO] - {\"epoch\": 5259, \"valid_loss\": \"1.002\", \"valid_ntokens\": \"3039.79\", \"valid_nsentences\": \"144.214\", \"valid_lm_score_sum\": \"-89537.5\", \"valid_num_pred_chars\": \"48379\", \"valid_vocab_seen_pct\": \"0.88676\", \"valid_uer\": \"100.195\", \"valid_weighted_lm_ppl\": \"76.0321\", \"valid_lm_ppl\": \"59.7873\", \"valid_wps\": \"18867.5\", \"valid_wpb\": \"3039.8\", \"valid_bsz\": \"144.2\", \"valid_num_updates\": \"84144\", \"valid_best_weighted_lm_ppl\": \"73.0296\"}\r\n",
      "[2021-06-08 20:54:03,488][fairseq.checkpoint_utils][INFO] - Preparing to save checkpoint for epoch 5259 @ 84144 updates\r\n",
      "[2021-06-08 20:54:03,489][fairseq.trainer][INFO] - Saving checkpoint to /kaggle/working/checkpoint_last.pt\r\n"
     ]
    },
    {
     "name": "stdout",
     "output_type": "stream",
     "text": [
      "[2021-06-08 20:54:03,535][fairseq.trainer][INFO] - Finished saving checkpoint to /kaggle/working/checkpoint_last.pt\r\n",
      "[2021-06-08 20:54:03,536][fairseq.checkpoint_utils][INFO] - Saved checkpoint /kaggle/working/checkpoint_last.pt (epoch 5259 @ 84144 updates, score 76.03211144896173) (writing took 0.04768136399979994 seconds)\r\n",
      "[2021-06-08 20:54:03,536][fairseq_cli.train][INFO] - end of epoch 5259 (average epoch stats below)\r\n",
      "[2021-06-08 20:54:03,539][train][INFO] - {\"epoch\": 5259, \"train_loss\": \"3.158\", \"train_ntokens\": \"145.688\", \"train_nsentences\": \"145.688\", \"train_temp\": \"0.1\", \"train_code_ppl\": \"8.664\", \"train_loss_code_pen\": \"0.327\", \"train_loss_smoothness\": \"2.049\", \"train_loss_dense_g\": \"4.434\", \"train_lm_score_sum\": 0.0, \"train_num_pred_chars\": 0.0, \"train_loss_grad_pen\": \"0.108\", \"train_loss_dense_d\": \"0.023\", \"train_loss_token_d\": \"0.03\", \"train_wps\": \"9.2\", \"train_ups\": \"0.06\", \"train_wpb\": \"145.7\", \"train_bsz\": \"145.7\", \"train_num_updates\": \"84144\", \"train_lr_discriminator\": \"0.0005\", \"train_lr_generator\": \"0.0004\", \"train_gnorm\": \"31.261\", \"train_clip\": \"87.5\", \"train_train_wall\": \"250\", \"train_wall\": \"12965\"}\r\n"
     ]
    },
    {
     "name": "stdout",
     "output_type": "stream",
     "text": [
      "[2021-06-08 20:54:03,595][fairseq.trainer][INFO] - begin training epoch 5260\r\n",
      "[2021-06-08 20:54:03,596][fairseq_cli.train][INFO] - Start iterating over samples\r\n"
     ]
    },
    {
     "name": "stdout",
     "output_type": "stream",
     "text": [
      "[2021-06-08 20:58:01,962][fairseq_cli.train][INFO] - begin validation on \"valid\" subset\r\n"
     ]
    },
    {
     "name": "stdout",
     "output_type": "stream",
     "text": [
      "[2021-06-08 20:58:04,500][fairseq.tasks.unpaired_audio_text][INFO] - REF: ɛ n f œ ʂ ə n a d ɵ ʂ ə k t f øː r d eː t s ɔ m h ɛ n d ə p oː ɕ œ r k ɔ n s ɛ t ə n\r\n",
      "[2021-06-08 20:58:04,503][fairseq.tasks.unpaired_audio_text][INFO] - HYP: n ɪ n s j œ r œ b j uː m yː k j uː f ɵ øː j m ə m œ k b ə uː s eː r n v oː s l ɪ ŋ k l ɪ l a s œ uː m a l t a\r\n",
      "[2021-06-08 20:58:04,507][fairseq.tasks.unpaired_audio_text][INFO] - LM [REF]: -53.44462585449219, 0.05339602260269112\r\n",
      "[2021-06-08 20:58:04,508][fairseq.tasks.unpaired_audio_text][INFO] - LM [HYP]: -92.21319580078125, 0.016852693080226862\r\n"
     ]
    },
    {
     "name": "stdout",
     "output_type": "stream",
     "text": [
      "[2021-06-08 20:58:05,025][valid][INFO] - {\"epoch\": 5260, \"valid_loss\": \"1.003\", \"valid_ntokens\": \"3039.79\", \"valid_nsentences\": \"144.214\", \"valid_lm_score_sum\": \"-89533.1\", \"valid_num_pred_chars\": \"48354\", \"valid_vocab_seen_pct\": \"0.891986\", \"valid_uer\": \"100.277\", \"valid_weighted_lm_ppl\": \"75.2814\", \"valid_lm_ppl\": \"59.8968\", \"valid_wps\": \"18088.9\", \"valid_wpb\": \"3039.8\", \"valid_bsz\": \"144.2\", \"valid_num_updates\": \"84160\", \"valid_best_weighted_lm_ppl\": \"73.0296\"}\r\n",
      "[2021-06-08 20:58:05,028][fairseq.checkpoint_utils][INFO] - Preparing to save checkpoint for epoch 5260 @ 84160 updates\r\n",
      "[2021-06-08 20:58:05,029][fairseq.trainer][INFO] - Saving checkpoint to /kaggle/working/checkpoint_last.pt\r\n"
     ]
    },
    {
     "name": "stdout",
     "output_type": "stream",
     "text": [
      "[2021-06-08 20:58:05,077][fairseq.trainer][INFO] - Finished saving checkpoint to /kaggle/working/checkpoint_last.pt\r\n",
      "[2021-06-08 20:58:05,078][fairseq.checkpoint_utils][INFO] - Saved checkpoint /kaggle/working/checkpoint_last.pt (epoch 5260 @ 84160 updates, score 75.28135514121439) (writing took 0.049898444000064046 seconds)\r\n",
      "[2021-06-08 20:58:05,078][fairseq_cli.train][INFO] - end of epoch 5260 (average epoch stats below)\r\n",
      "[2021-06-08 20:58:05,082][train][INFO] - {\"epoch\": 5260, \"train_loss\": \"3.564\", \"train_ntokens\": \"145.688\", \"train_nsentences\": \"145.688\", \"train_temp\": \"0.1\", \"train_code_ppl\": \"8.699\", \"train_loss_code_pen\": \"0.325\", \"train_loss_smoothness\": \"2.05\", \"train_loss_dense_g\": \"4.253\", \"train_lm_score_sum\": 0.0, \"train_num_pred_chars\": 0.0, \"train_loss_grad_pen\": \"0.21\", \"train_loss_dense_d\": \"0.03\", \"train_loss_token_d\": \"0.028\", \"train_wps\": \"9.7\", \"train_ups\": \"0.07\", \"train_wpb\": \"145.7\", \"train_bsz\": \"145.7\", \"train_num_updates\": \"84160\", \"train_lr_discriminator\": \"0.0005\", \"train_lr_generator\": \"0.0004\", \"train_gnorm\": \"43.543\", \"train_clip\": \"81.2\", \"train_train_wall\": \"238\", \"train_wall\": \"13206\"}\r\n"
     ]
    },
    {
     "name": "stdout",
     "output_type": "stream",
     "text": [
      "[2021-06-08 20:58:05,141][fairseq.trainer][INFO] - begin training epoch 5261\r\n",
      "[2021-06-08 20:58:05,143][fairseq_cli.train][INFO] - Start iterating over samples\r\n"
     ]
    },
    {
     "name": "stdout",
     "output_type": "stream",
     "text": [
      "[2021-06-08 21:02:01,901][fairseq_cli.train][INFO] - begin validation on \"valid\" subset\r\n"
     ]
    },
    {
     "name": "stdout",
     "output_type": "stream",
     "text": [
      "[2021-06-08 21:02:04,425][fairseq.tasks.unpaired_audio_text][INFO] - REF: ɛ n f œ ʂ ə n a d ɵ ʂ ə k t f øː r d eː t s ɔ m h ɛ n d ə p oː ɕ œ r k ɔ n s ɛ t ə n\r\n",
      "[2021-06-08 21:02:04,428][fairseq.tasks.unpaired_audio_text][INFO] - HYP: n ɪ n s j œ r œ j b j uː m yː k j uː f ɵ øː j m b ə m œ k b ə uː s eː r n v oː s l ɪ ŋ k ɪ l s ɔ œ uː m k n t a\r\n",
      "[2021-06-08 21:02:04,432][fairseq.tasks.unpaired_audio_text][INFO] - LM [REF]: -53.44462585449219, 0.05339602260269112\r\n",
      "[2021-06-08 21:02:04,433][fairseq.tasks.unpaired_audio_text][INFO] - LM [HYP]: -98.39691162109375, 0.013914080053797491\r\n"
     ]
    },
    {
     "name": "stdout",
     "output_type": "stream",
     "text": [
      "[2021-06-08 21:02:04,991][valid][INFO] - {\"epoch\": 5261, \"valid_loss\": \"1.003\", \"valid_ntokens\": \"3039.79\", \"valid_nsentences\": \"144.214\", \"valid_lm_score_sum\": \"-89741\", \"valid_num_pred_chars\": \"48458\", \"valid_vocab_seen_pct\": \"0.878049\", \"valid_uer\": \"100.345\", \"valid_weighted_lm_ppl\": \"77.7719\", \"valid_lm_ppl\": \"59.9598\", \"valid_wps\": \"17632.5\", \"valid_wpb\": \"3039.8\", \"valid_bsz\": \"144.2\", \"valid_num_updates\": \"84176\", \"valid_best_weighted_lm_ppl\": \"73.0296\"}\r\n",
      "[2021-06-08 21:02:04,995][fairseq.checkpoint_utils][INFO] - Preparing to save checkpoint for epoch 5261 @ 84176 updates\r\n",
      "[2021-06-08 21:02:04,996][fairseq.trainer][INFO] - Saving checkpoint to /kaggle/working/checkpoint_last.pt\r\n"
     ]
    },
    {
     "name": "stdout",
     "output_type": "stream",
     "text": [
      "[2021-06-08 21:02:05,044][fairseq.trainer][INFO] - Finished saving checkpoint to /kaggle/working/checkpoint_last.pt\r\n",
      "[2021-06-08 21:02:05,045][fairseq.checkpoint_utils][INFO] - Saved checkpoint /kaggle/working/checkpoint_last.pt (epoch 5261 @ 84176 updates, score 77.77193474465984) (writing took 0.04988783599947055 seconds)\r\n",
      "[2021-06-08 21:02:05,045][fairseq_cli.train][INFO] - end of epoch 5261 (average epoch stats below)\r\n",
      "[2021-06-08 21:02:05,048][train][INFO] - {\"epoch\": 5261, \"train_loss\": \"3.41\", \"train_ntokens\": \"145.688\", \"train_nsentences\": \"145.688\", \"train_temp\": \"0.1\", \"train_code_ppl\": \"8.687\", \"train_loss_code_pen\": \"0.34\", \"train_loss_smoothness\": \"2.108\", \"train_loss_dense_g\": \"4.036\", \"train_lm_score_sum\": 0.0, \"train_num_pred_chars\": 0.0, \"train_loss_grad_pen\": \"0.051\", \"train_loss_dense_d\": \"0.026\", \"train_loss_token_d\": \"0.026\", \"train_wps\": \"9.7\", \"train_ups\": \"0.07\", \"train_wpb\": \"145.7\", \"train_bsz\": \"145.7\", \"train_num_updates\": \"84176\", \"train_lr_discriminator\": \"0.0005\", \"train_lr_generator\": \"0.0004\", \"train_gnorm\": \"32.407\", \"train_clip\": \"68.8\", \"train_train_wall\": \"236\", \"train_wall\": \"13446\"}\r\n"
     ]
    },
    {
     "name": "stdout",
     "output_type": "stream",
     "text": [
      "[2021-06-08 21:02:05,111][fairseq.trainer][INFO] - begin training epoch 5262\r\n",
      "[2021-06-08 21:02:05,113][fairseq_cli.train][INFO] - Start iterating over samples\r\n"
     ]
    },
    {
     "name": "stdout",
     "output_type": "stream",
     "text": [
      "[2021-06-08 21:06:08,013][fairseq_cli.train][INFO] - begin validation on \"valid\" subset\r\n"
     ]
    },
    {
     "name": "stdout",
     "output_type": "stream",
     "text": [
      "[2021-06-08 21:06:10,569][fairseq.tasks.unpaired_audio_text][INFO] - REF: ɛ n f œ ʂ ə n a d ɵ ʂ ə k t f øː r d eː t s ɔ m h ɛ n d ə p oː ɕ œ r k ɔ n s ɛ t ə n\r\n",
      "[2021-06-08 21:06:10,571][fairseq.tasks.unpaired_audio_text][INFO] - HYP: n ɪ n s j œ r œ j b j uː œ yː k j uː f œ øː j m b ə m œ k b ə uː s eː r n v oː s l ɪ ŋ k ɪ l a s œ uː m a n t a\r\n",
      "[2021-06-08 21:06:10,576][fairseq.tasks.unpaired_audio_text][INFO] - LM [REF]: -53.44462585449219, 0.05339602260269112\r\n",
      "[2021-06-08 21:06:10,576][fairseq.tasks.unpaired_audio_text][INFO] - LM [HYP]: -93.90062713623047, 0.016915703104474423\r\n"
     ]
    },
    {
     "name": "stdout",
     "output_type": "stream",
     "text": [
      "[2021-06-08 21:06:11,096][valid][INFO] - {\"epoch\": 5262, \"valid_loss\": \"1.005\", \"valid_ntokens\": \"3039.79\", \"valid_nsentences\": \"144.214\", \"valid_lm_score_sum\": \"-89853.7\", \"valid_num_pred_chars\": \"48588\", \"valid_vocab_seen_pct\": \"0.878049\", \"valid_uer\": \"100.477\", \"valid_weighted_lm_ppl\": \"77.3537\", \"valid_lm_ppl\": \"59.6374\", \"valid_wps\": \"17848.4\", \"valid_wpb\": \"3039.8\", \"valid_bsz\": \"144.2\", \"valid_num_updates\": \"84192\", \"valid_best_weighted_lm_ppl\": \"73.0296\"}\r\n",
      "[2021-06-08 21:06:11,100][fairseq.checkpoint_utils][INFO] - Preparing to save checkpoint for epoch 5262 @ 84192 updates\r\n",
      "[2021-06-08 21:06:11,101][fairseq.trainer][INFO] - Saving checkpoint to /kaggle/working/checkpoint_last.pt\r\n"
     ]
    },
    {
     "name": "stdout",
     "output_type": "stream",
     "text": [
      "[2021-06-08 21:06:11,146][fairseq.trainer][INFO] - Finished saving checkpoint to /kaggle/working/checkpoint_last.pt\r\n",
      "[2021-06-08 21:06:11,146][fairseq.checkpoint_utils][INFO] - Saved checkpoint /kaggle/working/checkpoint_last.pt (epoch 5262 @ 84192 updates, score 77.3537050605423) (writing took 0.04679791099988506 seconds)\r\n",
      "[2021-06-08 21:06:11,147][fairseq_cli.train][INFO] - end of epoch 5262 (average epoch stats below)\r\n",
      "[2021-06-08 21:06:11,150][train][INFO] - {\"epoch\": 5262, \"train_loss\": \"3.31\", \"train_ntokens\": \"145.688\", \"train_nsentences\": \"145.688\", \"train_temp\": \"0.1\", \"train_code_ppl\": \"8.379\", \"train_loss_code_pen\": \"0.331\", \"train_loss_smoothness\": \"2.06\", \"train_loss_dense_g\": \"3.879\", \"train_lm_score_sum\": 0.0, \"train_num_pred_chars\": 0.0, \"train_loss_grad_pen\": \"0.078\", \"train_loss_dense_d\": \"0.026\", \"train_loss_token_d\": \"0.021\", \"train_wps\": \"9.5\", \"train_ups\": \"0.07\", \"train_wpb\": \"145.7\", \"train_bsz\": \"145.7\", \"train_num_updates\": \"84192\", \"train_lr_discriminator\": \"0.0005\", \"train_lr_generator\": \"0.0004\", \"train_gnorm\": \"31.137\", \"train_clip\": \"75\", \"train_train_wall\": \"242\", \"train_wall\": \"13692\"}\r\n"
     ]
    },
    {
     "name": "stdout",
     "output_type": "stream",
     "text": [
      "[2021-06-08 21:06:11,208][fairseq.trainer][INFO] - begin training epoch 5263\r\n",
      "[2021-06-08 21:06:11,210][fairseq_cli.train][INFO] - Start iterating over samples\r\n"
     ]
    },
    {
     "name": "stdout",
     "output_type": "stream",
     "text": [
      "[2021-06-08 21:08:19,028][train_inner][INFO] - {\"epoch\": 5263, \"update\": 5262.5, \"loss\": \"3.313\", \"ntokens\": \"147.11\", \"nsentences\": \"147.11\", \"temp\": \"0.1\", \"code_ppl\": \"8.618\", \"loss_code_pen\": \"0.333\", \"loss_smoothness\": \"2.07\", \"loss_dense_g\": \"4.16\", \"lm_score_sum\": 0.0, \"num_pred_chars\": 0.0, \"loss_grad_pen\": \"0.099\", \"loss_dense_d\": \"0.025\", \"loss_token_d\": \"0.026\", \"wps\": \"9.4\", \"ups\": \"0.06\", \"wpb\": \"147.1\", \"bsz\": \"147.1\", \"num_updates\": \"84200\", \"lr_discriminator\": \"0.0005\", \"lr_generator\": \"0.0004\", \"gnorm\": \"32.917\", \"clip\": \"76\", \"train_wall\": \"1545\", \"wall\": \"13820\"}\r\n"
     ]
    },
    {
     "name": "stdout",
     "output_type": "stream",
     "text": [
      "[2021-06-08 21:10:25,695][fairseq_cli.train][INFO] - begin validation on \"valid\" subset\r\n"
     ]
    },
    {
     "name": "stdout",
     "output_type": "stream",
     "text": [
      "[2021-06-08 21:10:28,194][fairseq.tasks.unpaired_audio_text][INFO] - REF: ɛ n f œ ʂ ə n a d ɵ ʂ ə k t f øː r d eː t s ɔ m h ɛ n d ə p oː ɕ œ r k ɔ n s ɛ t ə n\r\n",
      "[2021-06-08 21:10:28,196][fairseq.tasks.unpaired_audio_text][INFO] - HYP: n ɪ n s j œ r œ yː b j uː œ yː k j uː f ɵ j m ə m œ k b ə uː s eː r n v oː s l ɪ ŋ k ɪ l s œ k m k n t a\r\n",
      "[2021-06-08 21:10:28,201][fairseq.tasks.unpaired_audio_text][INFO] - LM [REF]: -53.44462585449219, 0.05339602260269112\r\n",
      "[2021-06-08 21:10:28,201][fairseq.tasks.unpaired_audio_text][INFO] - LM [HYP]: -93.53340148925781, 0.013468895090928103\r\n"
     ]
    },
    {
     "name": "stdout",
     "output_type": "stream",
     "text": [
      "[2021-06-08 21:10:28,710][valid][INFO] - {\"epoch\": 5263, \"valid_loss\": \"1\", \"valid_ntokens\": \"3039.79\", \"valid_nsentences\": \"144.214\", \"valid_lm_score_sum\": \"-89522.9\", \"valid_num_pred_chars\": \"48294\", \"valid_vocab_seen_pct\": \"0.879791\", \"valid_uer\": \"100.012\", \"valid_weighted_lm_ppl\": \"77.7248\", \"valid_lm_ppl\": \"60.1615\", \"valid_wps\": \"18182.5\", \"valid_wpb\": \"3039.8\", \"valid_bsz\": \"144.2\", \"valid_num_updates\": \"84208\", \"valid_best_weighted_lm_ppl\": \"73.0296\"}\r\n",
      "[2021-06-08 21:10:28,714][fairseq.checkpoint_utils][INFO] - Preparing to save checkpoint for epoch 5263 @ 84208 updates\r\n",
      "[2021-06-08 21:10:28,715][fairseq.trainer][INFO] - Saving checkpoint to /kaggle/working/checkpoint_last.pt\r\n"
     ]
    },
    {
     "name": "stdout",
     "output_type": "stream",
     "text": [
      "[2021-06-08 21:10:28,761][fairseq.trainer][INFO] - Finished saving checkpoint to /kaggle/working/checkpoint_last.pt\r\n",
      "[2021-06-08 21:10:28,761][fairseq.checkpoint_utils][INFO] - Saved checkpoint /kaggle/working/checkpoint_last.pt (epoch 5263 @ 84208 updates, score 77.72479152754286) (writing took 0.04734831399946415 seconds)\r\n",
      "[2021-06-08 21:10:28,761][fairseq_cli.train][INFO] - end of epoch 5263 (average epoch stats below)\r\n",
      "[2021-06-08 21:10:28,764][train][INFO] - {\"epoch\": 5263, \"train_loss\": \"3.137\", \"train_ntokens\": \"145.688\", \"train_nsentences\": \"145.688\", \"train_temp\": \"0.1\", \"train_code_ppl\": \"8.747\", \"train_loss_code_pen\": \"0.338\", \"train_loss_smoothness\": \"2.088\", \"train_loss_dense_g\": \"4.294\", \"train_lm_score_sum\": 0.0, \"train_num_pred_chars\": 0.0, \"train_loss_grad_pen\": \"0.146\", \"train_loss_dense_d\": \"0.025\", \"train_loss_token_d\": \"0.025\", \"train_wps\": \"9\", \"train_ups\": \"0.06\", \"train_wpb\": \"145.7\", \"train_bsz\": \"145.7\", \"train_num_updates\": \"84208\", \"train_lr_discriminator\": \"0.0005\", \"train_lr_generator\": \"0.0004\", \"train_gnorm\": \"31.398\", \"train_clip\": \"75\", \"train_train_wall\": \"254\", \"train_wall\": \"13950\"}\r\n"
     ]
    },
    {
     "name": "stdout",
     "output_type": "stream",
     "text": [
      "[2021-06-08 21:10:28,824][fairseq.trainer][INFO] - begin training epoch 5264\r\n",
      "[2021-06-08 21:10:28,825][fairseq_cli.train][INFO] - Start iterating over samples\r\n"
     ]
    },
    {
     "name": "stdout",
     "output_type": "stream",
     "text": [
      "[2021-06-08 21:14:18,907][fairseq_cli.train][INFO] - begin validation on \"valid\" subset\r\n"
     ]
    },
    {
     "name": "stdout",
     "output_type": "stream",
     "text": [
      "[2021-06-08 21:14:21,402][fairseq.tasks.unpaired_audio_text][INFO] - REF: ɛ n f œ ʂ ə n a d ɵ ʂ ə k t f øː r d eː t s ɔ m h ɛ n d ə p oː ɕ œ r k ɔ n s ɛ t ə n\r\n",
      "[2021-06-08 21:14:21,405][fairseq.tasks.unpaired_audio_text][INFO] - HYP: n ɪ n s j œ r œ j yː b j uː yː k j uː f ɵ øː j m ə m œ k b ə uː s eː r n v oː s l ɪ ŋ k ɪ l s uː t k n t a\r\n",
      "[2021-06-08 21:14:21,409][fairseq.tasks.unpaired_audio_text][INFO] - LM [REF]: -53.44462585449219, 0.05339602260269112\r\n",
      "[2021-06-08 21:14:21,409][fairseq.tasks.unpaired_audio_text][INFO] - LM [HYP]: -92.04015350341797, 0.014427694240212717\r\n"
     ]
    },
    {
     "name": "stdout",
     "output_type": "stream",
     "text": [
      "[2021-06-08 21:14:21,953][valid][INFO] - {\"epoch\": 5264, \"valid_loss\": \"1\", \"valid_ntokens\": \"3039.79\", \"valid_nsentences\": \"144.214\", \"valid_lm_score_sum\": \"-89441.4\", \"valid_num_pred_chars\": \"48333\", \"valid_vocab_seen_pct\": \"0.881533\", \"valid_uer\": \"100.009\", \"valid_weighted_lm_ppl\": \"76.8858\", \"valid_lm_ppl\": \"59.748\", \"valid_wps\": \"17832.6\", \"valid_wpb\": \"3039.8\", \"valid_bsz\": \"144.2\", \"valid_num_updates\": \"84224\", \"valid_best_weighted_lm_ppl\": \"73.0296\"}\r\n"
     ]
    },
    {
     "name": "stdout",
     "output_type": "stream",
     "text": [
      "[2021-06-08 21:14:21,956][fairseq.checkpoint_utils][INFO] - Preparing to save checkpoint for epoch 5264 @ 84224 updates\r\n",
      "[2021-06-08 21:14:21,958][fairseq.trainer][INFO] - Saving checkpoint to /kaggle/working/checkpoint_last.pt\r\n",
      "[2021-06-08 21:14:22,003][fairseq.trainer][INFO] - Finished saving checkpoint to /kaggle/working/checkpoint_last.pt\r\n",
      "[2021-06-08 21:14:22,004][fairseq.checkpoint_utils][INFO] - Saved checkpoint /kaggle/working/checkpoint_last.pt (epoch 5264 @ 84224 updates, score 76.88584070942694) (writing took 0.04744634500093525 seconds)\r\n",
      "[2021-06-08 21:14:22,004][fairseq_cli.train][INFO] - end of epoch 5264 (average epoch stats below)\r\n"
     ]
    },
    {
     "name": "stdout",
     "output_type": "stream",
     "text": [
      "[2021-06-08 21:14:22,008][train][INFO] - {\"epoch\": 5264, \"train_loss\": \"3.492\", \"train_ntokens\": \"145.688\", \"train_nsentences\": \"145.688\", \"train_temp\": \"0.1\", \"train_code_ppl\": \"8.744\", \"train_loss_code_pen\": \"0.319\", \"train_loss_smoothness\": \"2.019\", \"train_loss_dense_g\": \"4.246\", \"train_lm_score_sum\": 0.0, \"train_num_pred_chars\": 0.0, \"train_loss_grad_pen\": \"0.1\", \"train_loss_dense_d\": \"0.028\", \"train_loss_token_d\": \"0.038\", \"train_wps\": \"10\", \"train_ups\": \"0.07\", \"train_wpb\": \"145.7\", \"train_bsz\": \"145.7\", \"train_num_updates\": \"84224\", \"train_lr_discriminator\": \"0.0005\", \"train_lr_generator\": \"0.0004\", \"train_gnorm\": \"33.851\", \"train_clip\": \"75\", \"train_train_wall\": \"230\", \"train_wall\": \"14183\"}\r\n"
     ]
    },
    {
     "name": "stdout",
     "output_type": "stream",
     "text": [
      "[2021-06-08 21:14:22,068][fairseq.trainer][INFO] - begin training epoch 5265\r\n",
      "[2021-06-08 21:14:22,069][fairseq_cli.train][INFO] - Start iterating over samples\r\n"
     ]
    },
    {
     "name": "stdout",
     "output_type": "stream",
     "text": [
      "[2021-06-08 21:18:24,098][fairseq_cli.train][INFO] - begin validation on \"valid\" subset\r\n"
     ]
    },
    {
     "name": "stdout",
     "output_type": "stream",
     "text": [
      "[2021-06-08 21:18:26,532][fairseq.tasks.unpaired_audio_text][INFO] - REF: ɛ n f œ ʂ ə n a d ɵ ʂ ə k t f øː r d eː t s ɔ m h ɛ n d ə p oː ɕ œ r k ɔ n s ɛ t ə n\r\n",
      "[2021-06-08 21:18:26,535][fairseq.tasks.unpaired_audio_text][INFO] - HYP: n ɪ n s j œ r œ yː b j uː œ yː k j uː f œ øː j m ə m œ k b ə uː s eː r n v oː s l ɪ ŋ k ɪ l s œ uː m k n t a\r\n",
      "[2021-06-08 21:18:26,539][fairseq.tasks.unpaired_audio_text][INFO] - LM [REF]: -53.44462585449219, 0.05339602260269112\r\n",
      "[2021-06-08 21:18:26,539][fairseq.tasks.unpaired_audio_text][INFO] - LM [HYP]: -95.3166732788086, 0.013522146038501989\r\n"
     ]
    },
    {
     "name": "stdout",
     "output_type": "stream",
     "text": [
      "[2021-06-08 21:18:27,040][valid][INFO] - {\"epoch\": 5265, \"valid_loss\": \"1.001\", \"valid_ntokens\": \"3039.79\", \"valid_nsentences\": \"144.214\", \"valid_lm_score_sum\": \"-89579.5\", \"valid_num_pred_chars\": \"48389\", \"valid_vocab_seen_pct\": \"0.88676\", \"valid_uer\": \"100.099\", \"valid_weighted_lm_ppl\": \"76.1161\", \"valid_lm_ppl\": \"59.8533\", \"valid_wps\": \"18548.3\", \"valid_wpb\": \"3039.8\", \"valid_bsz\": \"144.2\", \"valid_num_updates\": \"84240\", \"valid_best_weighted_lm_ppl\": \"73.0296\"}\r\n",
      "[2021-06-08 21:18:27,043][fairseq.checkpoint_utils][INFO] - Preparing to save checkpoint for epoch 5265 @ 84240 updates\r\n",
      "[2021-06-08 21:18:27,044][fairseq.trainer][INFO] - Saving checkpoint to /kaggle/working/checkpoint_last.pt\r\n"
     ]
    },
    {
     "name": "stdout",
     "output_type": "stream",
     "text": [
      "[2021-06-08 21:18:27,092][fairseq.trainer][INFO] - Finished saving checkpoint to /kaggle/working/checkpoint_last.pt\r\n",
      "[2021-06-08 21:18:27,092][fairseq.checkpoint_utils][INFO] - Saved checkpoint /kaggle/working/checkpoint_last.pt (epoch 5265 @ 84240 updates, score 76.116102228925) (writing took 0.04920422699979099 seconds)\r\n",
      "[2021-06-08 21:18:27,093][fairseq_cli.train][INFO] - end of epoch 5265 (average epoch stats below)\r\n",
      "[2021-06-08 21:18:27,096][train][INFO] - {\"epoch\": 5265, \"train_loss\": \"3.186\", \"train_ntokens\": \"145.688\", \"train_nsentences\": \"145.688\", \"train_temp\": \"0.1\", \"train_code_ppl\": \"8.703\", \"train_loss_code_pen\": \"0.333\", \"train_loss_smoothness\": \"2.077\", \"train_loss_dense_g\": \"4.067\", \"train_lm_score_sum\": 0.0, \"train_num_pred_chars\": 0.0, \"train_loss_grad_pen\": \"0.075\", \"train_loss_dense_d\": \"0.026\", \"train_loss_token_d\": \"0.026\", \"train_wps\": \"9.5\", \"train_ups\": \"0.07\", \"train_wpb\": \"145.7\", \"train_bsz\": \"145.7\", \"train_num_updates\": \"84240\", \"train_lr_discriminator\": \"0.0005\", \"train_lr_generator\": \"0.0004\", \"train_gnorm\": \"30.57\", \"train_clip\": \"81.2\", \"train_train_wall\": \"242\", \"train_wall\": \"14428\"}\r\n"
     ]
    },
    {
     "name": "stdout",
     "output_type": "stream",
     "text": [
      "[2021-06-08 21:18:27,154][fairseq.trainer][INFO] - begin training epoch 5266\r\n",
      "[2021-06-08 21:18:27,156][fairseq_cli.train][INFO] - Start iterating over samples\r\n"
     ]
    },
    {
     "name": "stdout",
     "output_type": "stream",
     "text": [
      "[2021-06-08 21:22:19,248][fairseq_cli.train][INFO] - begin validation on \"valid\" subset\r\n"
     ]
    },
    {
     "name": "stdout",
     "output_type": "stream",
     "text": [
      "[2021-06-08 21:22:21,803][fairseq.tasks.unpaired_audio_text][INFO] - REF: ɛ n f œ ʂ ə n a d ɵ ʂ ə k t f øː r d eː t s ɔ m h ɛ n d ə p oː ɕ œ r k ɔ n s ɛ t ə n\r\n",
      "[2021-06-08 21:22:21,805][fairseq.tasks.unpaired_audio_text][INFO] - HYP: n ɪ n s j œ r œ j yː b j uː yː k uː f œ øː j m ə m œ k b ə uː s eː r n v oː s l ɪ ŋ k ɪ l a s uː m k n t a\r\n",
      "[2021-06-08 21:22:21,809][fairseq.tasks.unpaired_audio_text][INFO] - LM [REF]: -53.44462585449219, 0.05339602260269112\r\n",
      "[2021-06-08 21:22:21,810][fairseq.tasks.unpaired_audio_text][INFO] - LM [HYP]: -90.35718536376953, 0.015590365350351906\r\n"
     ]
    },
    {
     "name": "stdout",
     "output_type": "stream",
     "text": [
      "[2021-06-08 21:22:22,350][valid][INFO] - {\"epoch\": 5266, \"valid_loss\": \"1.001\", \"valid_ntokens\": \"3039.79\", \"valid_nsentences\": \"144.214\", \"valid_lm_score_sum\": \"-89602.6\", \"valid_num_pred_chars\": \"48354\", \"valid_vocab_seen_pct\": \"0.88676\", \"valid_uer\": \"100.103\", \"valid_weighted_lm_ppl\": \"76.4137\", \"valid_lm_ppl\": \"60.0874\", \"valid_wps\": \"17701.4\", \"valid_wpb\": \"3039.8\", \"valid_bsz\": \"144.2\", \"valid_num_updates\": \"84256\", \"valid_best_weighted_lm_ppl\": \"73.0296\"}\r\n",
      "[2021-06-08 21:22:22,353][fairseq.checkpoint_utils][INFO] - Preparing to save checkpoint for epoch 5266 @ 84256 updates\r\n",
      "[2021-06-08 21:22:22,354][fairseq.trainer][INFO] - Saving checkpoint to /kaggle/working/checkpoint_last.pt\r\n"
     ]
    },
    {
     "name": "stdout",
     "output_type": "stream",
     "text": [
      "[2021-06-08 21:22:22,401][fairseq.trainer][INFO] - Finished saving checkpoint to /kaggle/working/checkpoint_last.pt\r\n",
      "[2021-06-08 21:22:22,401][fairseq.checkpoint_utils][INFO] - Saved checkpoint /kaggle/working/checkpoint_last.pt (epoch 5266 @ 84256 updates, score 76.41371463850072) (writing took 0.047914085000229534 seconds)\r\n",
      "[2021-06-08 21:22:22,402][fairseq_cli.train][INFO] - end of epoch 5266 (average epoch stats below)\r\n",
      "[2021-06-08 21:22:22,404][train][INFO] - {\"epoch\": 5266, \"train_loss\": \"3.486\", \"train_ntokens\": \"145.688\", \"train_nsentences\": \"145.688\", \"train_temp\": \"0.1\", \"train_code_ppl\": \"8.844\", \"train_loss_code_pen\": \"0.326\", \"train_loss_smoothness\": \"2.058\", \"train_loss_dense_g\": \"4.111\", \"train_lm_score_sum\": 0.0, \"train_num_pred_chars\": 0.0, \"train_loss_grad_pen\": \"0.182\", \"train_loss_dense_d\": \"0.027\", \"train_loss_token_d\": \"0.039\", \"train_wps\": \"9.9\", \"train_ups\": \"0.07\", \"train_wpb\": \"145.7\", \"train_bsz\": \"145.7\", \"train_num_updates\": \"84256\", \"train_lr_discriminator\": \"0.0005\", \"train_lr_generator\": \"0.0004\", \"train_gnorm\": \"40.249\", \"train_clip\": \"68.8\", \"train_train_wall\": \"232\", \"train_wall\": \"14664\"}\r\n"
     ]
    },
    {
     "name": "stdout",
     "output_type": "stream",
     "text": [
      "[2021-06-08 21:22:22,462][fairseq.trainer][INFO] - begin training epoch 5267\r\n"
     ]
    },
    {
     "name": "stdout",
     "output_type": "stream",
     "text": [
      "[2021-06-08 21:22:22,464][fairseq_cli.train][INFO] - Start iterating over samples\r\n"
     ]
    },
    {
     "name": "stdout",
     "output_type": "stream",
     "text": [
      "[2021-06-08 21:26:29,962][fairseq_cli.train][INFO] - begin validation on \"valid\" subset\r\n"
     ]
    },
    {
     "name": "stdout",
     "output_type": "stream",
     "text": [
      "[2021-06-08 21:26:32,458][fairseq.tasks.unpaired_audio_text][INFO] - REF: ɛ n f œ ʂ ə n a d ɵ ʂ ə k t f øː r d eː t s ɔ m h ɛ n d ə p oː ɕ œ r k ɔ n s ɛ t ə n\r\n",
      "[2021-06-08 21:26:32,460][fairseq.tasks.unpaired_audio_text][INFO] - HYP: n ɪ n s j œ r œ j yː b j uː œ yː k uː f œ øː j m ə m œ k b ə uː s eː r n v oː s l ɪ ŋ k ɪ l s œ uː m k n t a\r\n",
      "[2021-06-08 21:26:32,465][fairseq.tasks.unpaired_audio_text][INFO] - LM [REF]: -53.44462585449219, 0.05339602260269112\r\n",
      "[2021-06-08 21:26:32,465][fairseq.tasks.unpaired_audio_text][INFO] - LM [HYP]: -94.90135955810547, 0.013778090348587332\r\n"
     ]
    },
    {
     "name": "stdout",
     "output_type": "stream",
     "text": [
      "[2021-06-08 21:26:32,988][valid][INFO] - {\"epoch\": 5267, \"valid_loss\": \"1\", \"valid_ntokens\": \"3039.79\", \"valid_nsentences\": \"144.214\", \"valid_lm_score_sum\": \"-89512.4\", \"valid_num_pred_chars\": \"48306\", \"valid_vocab_seen_pct\": \"0.885017\", \"valid_uer\": \"99.9789\", \"valid_weighted_lm_ppl\": \"76.6977\", \"valid_lm_ppl\": \"60.0739\", \"valid_wps\": \"18316.7\", \"valid_wpb\": \"3039.8\", \"valid_bsz\": \"144.2\", \"valid_num_updates\": \"84272\", \"valid_best_weighted_lm_ppl\": \"73.0296\"}\r\n",
      "[2021-06-08 21:26:32,992][fairseq.checkpoint_utils][INFO] - Preparing to save checkpoint for epoch 5267 @ 84272 updates\r\n",
      "[2021-06-08 21:26:32,993][fairseq.trainer][INFO] - Saving checkpoint to /kaggle/working/checkpoint_last.pt\r\n",
      "[2021-06-08 21:26:33,038][fairseq.trainer][INFO] - Finished saving checkpoint to /kaggle/working/checkpoint_last.pt\r\n",
      "[2021-06-08 21:26:33,039][fairseq.checkpoint_utils][INFO] - Saved checkpoint /kaggle/working/checkpoint_last.pt (epoch 5267 @ 84272 updates, score 76.69767663121331) (writing took 0.04714604599939776 seconds)\r\n"
     ]
    },
    {
     "name": "stdout",
     "output_type": "stream",
     "text": [
      "[2021-06-08 21:26:33,039][fairseq_cli.train][INFO] - end of epoch 5267 (average epoch stats below)\r\n",
      "[2021-06-08 21:26:33,042][train][INFO] - {\"epoch\": 5267, \"train_loss\": \"3.229\", \"train_ntokens\": \"145.688\", \"train_nsentences\": \"145.688\", \"train_temp\": \"0.1\", \"train_code_ppl\": \"8.621\", \"train_loss_code_pen\": \"0.34\", \"train_loss_smoothness\": \"2.111\", \"train_loss_dense_g\": \"4.106\", \"train_lm_score_sum\": 0.0, \"train_num_pred_chars\": 0.0, \"train_loss_grad_pen\": \"0.075\", \"train_loss_dense_d\": \"0.029\", \"train_loss_token_d\": \"0.031\", \"train_wps\": \"9.3\", \"train_ups\": \"0.06\", \"train_wpb\": \"145.7\", \"train_bsz\": \"145.7\", \"train_num_updates\": \"84272\", \"train_lr_discriminator\": \"0.0005\", \"train_lr_generator\": \"0.0004\", \"train_gnorm\": \"30.331\", \"train_clip\": \"81.2\", \"train_train_wall\": \"247\", \"train_wall\": \"14914\"}\r\n"
     ]
    },
    {
     "name": "stdout",
     "output_type": "stream",
     "text": [
      "[2021-06-08 21:26:33,104][fairseq.trainer][INFO] - begin training epoch 5268\r\n",
      "[2021-06-08 21:26:33,106][fairseq_cli.train][INFO] - Start iterating over samples\r\n"
     ]
    },
    {
     "name": "stdout",
     "output_type": "stream",
     "text": [
      "[2021-06-08 21:30:13,263][fairseq_cli.train][INFO] - begin validation on \"valid\" subset\r\n"
     ]
    },
    {
     "name": "stdout",
     "output_type": "stream",
     "text": [
      "[2021-06-08 21:30:15,817][fairseq.tasks.unpaired_audio_text][INFO] - REF: ɛ n f œ ʂ ə n a d ɵ ʂ ə k t f øː r d eː t s ɔ m h ɛ n d ə p oː ɕ œ r k ɔ n s ɛ t ə n\r\n",
      "[2021-06-08 21:30:15,819][fairseq.tasks.unpaired_audio_text][INFO] - HYP: n ɪ n s j œ r œ j yː b j uː œ yː k j uː f œ øː j m uː ə m œ k b ə uː s eː r n v oː s ɪ ŋ k ɪ l s œ uː m k n t a\r\n",
      "[2021-06-08 21:30:15,824][fairseq.tasks.unpaired_audio_text][INFO] - LM [REF]: -53.44462585449219, 0.05339602260269112\r\n",
      "[2021-06-08 21:30:15,824][fairseq.tasks.unpaired_audio_text][INFO] - LM [HYP]: -97.78950500488281, 0.013165355661899844\r\n"
     ]
    },
    {
     "name": "stdout",
     "output_type": "stream",
     "text": [
      "[2021-06-08 21:30:16,346][valid][INFO] - {\"epoch\": 5268, \"valid_loss\": \"1.002\", \"valid_ntokens\": \"3039.79\", \"valid_nsentences\": \"144.214\", \"valid_lm_score_sum\": \"-89780.8\", \"valid_num_pred_chars\": \"48553\", \"valid_vocab_seen_pct\": \"0.883275\", \"valid_uer\": \"100.249\", \"valid_weighted_lm_ppl\": \"76.4037\", \"valid_lm_ppl\": \"59.6083\", \"valid_wps\": \"17868.9\", \"valid_wpb\": \"3039.8\", \"valid_bsz\": \"144.2\", \"valid_num_updates\": \"84288\", \"valid_best_weighted_lm_ppl\": \"73.0296\"}\r\n",
      "[2021-06-08 21:30:16,349][fairseq.checkpoint_utils][INFO] - Preparing to save checkpoint for epoch 5268 @ 84288 updates\r\n",
      "[2021-06-08 21:30:16,351][fairseq.trainer][INFO] - Saving checkpoint to /kaggle/working/checkpoint_last.pt\r\n"
     ]
    },
    {
     "name": "stdout",
     "output_type": "stream",
     "text": [
      "[2021-06-08 21:30:16,397][fairseq.trainer][INFO] - Finished saving checkpoint to /kaggle/working/checkpoint_last.pt\r\n",
      "[2021-06-08 21:30:16,398][fairseq.checkpoint_utils][INFO] - Saved checkpoint /kaggle/working/checkpoint_last.pt (epoch 5268 @ 84288 updates, score 76.4037310966372) (writing took 0.04825457600054506 seconds)\r\n",
      "[2021-06-08 21:30:16,398][fairseq_cli.train][INFO] - end of epoch 5268 (average epoch stats below)\r\n",
      "[2021-06-08 21:30:16,402][train][INFO] - {\"epoch\": 5268, \"train_loss\": \"3.628\", \"train_ntokens\": \"145.688\", \"train_nsentences\": \"145.688\", \"train_temp\": \"0.1\", \"train_code_ppl\": \"8.604\", \"train_loss_code_pen\": \"0.322\", \"train_loss_smoothness\": \"2.048\", \"train_loss_dense_g\": \"4.105\", \"train_lm_score_sum\": 0.0, \"train_num_pred_chars\": 0.0, \"train_loss_grad_pen\": \"0.104\", \"train_loss_dense_d\": \"0.029\", \"train_loss_token_d\": \"0.028\", \"train_wps\": \"10.4\", \"train_ups\": \"0.07\", \"train_wpb\": \"145.7\", \"train_bsz\": \"145.7\", \"train_num_updates\": \"84288\", \"train_lr_discriminator\": \"0.0005\", \"train_lr_generator\": \"0.0004\", \"train_gnorm\": \"32.288\", \"train_clip\": \"81.2\", \"train_train_wall\": \"220\", \"train_wall\": \"15138\"}\r\n"
     ]
    },
    {
     "name": "stdout",
     "output_type": "stream",
     "text": [
      "[2021-06-08 21:30:16,462][fairseq.trainer][INFO] - begin training epoch 5269\r\n",
      "[2021-06-08 21:30:16,463][fairseq_cli.train][INFO] - Start iterating over samples\r\n"
     ]
    },
    {
     "name": "stdout",
     "output_type": "stream",
     "text": [
      "[2021-06-08 21:33:01,941][train_inner][INFO] - {\"epoch\": 5269, \"update\": 5268.75, \"loss\": \"3.382\", \"ntokens\": \"145.41\", \"nsentences\": \"145.41\", \"temp\": \"0.1\", \"code_ppl\": \"8.705\", \"loss_code_pen\": \"0.326\", \"loss_smoothness\": \"2.058\", \"loss_dense_g\": \"4.106\", \"lm_score_sum\": 0.0, \"num_pred_chars\": 0.0, \"loss_grad_pen\": \"0.115\", \"loss_dense_d\": \"0.028\", \"loss_token_d\": \"0.031\", \"wps\": \"9.8\", \"ups\": \"0.07\", \"wpb\": \"145.4\", \"bsz\": \"145.4\", \"num_updates\": \"84300\", \"lr_discriminator\": \"0.0005\", \"lr_generator\": \"0.0004\", \"gnorm\": \"33.099\", \"clip\": \"78\", \"train_wall\": \"1461\", \"wall\": \"15303\"}\r\n"
     ]
    },
    {
     "name": "stdout",
     "output_type": "stream",
     "text": [
      "[2021-06-08 21:33:51,803][fairseq_cli.train][INFO] - begin validation on \"valid\" subset\r\n"
     ]
    },
    {
     "name": "stdout",
     "output_type": "stream",
     "text": [
      "[2021-06-08 21:33:54,293][fairseq.tasks.unpaired_audio_text][INFO] - REF: ɛ n f œ ʂ ə n a d ɵ ʂ ə k t f øː r d eː t s ɔ m h ɛ n d ə p oː ɕ œ r k ɔ n s ɛ t ə n\r\n",
      "[2021-06-08 21:33:54,296][fairseq.tasks.unpaired_audio_text][INFO] - HYP: n ɪ n s j œ r œ j yː b j uː œ yː k j uː f œ øː j m ə m œ k b ə uː s eː r n v oː s ɪ ŋ k ɪ l s œ uː m a n t a\r\n",
      "[2021-06-08 21:33:54,300][fairseq.tasks.unpaired_audio_text][INFO] - LM [REF]: -53.44462585449219, 0.05339602260269112\r\n",
      "[2021-06-08 21:33:54,300][fairseq.tasks.unpaired_audio_text][INFO] - LM [HYP]: -92.58911895751953, 0.015294211063852862\r\n"
     ]
    },
    {
     "name": "stdout",
     "output_type": "stream",
     "text": [
      "[2021-06-08 21:33:54,808][valid][INFO] - {\"epoch\": 5269, \"valid_loss\": \"1.001\", \"valid_ntokens\": \"3039.79\", \"valid_nsentences\": \"144.214\", \"valid_lm_score_sum\": \"-89512.7\", \"valid_num_pred_chars\": \"48450\", \"valid_vocab_seen_pct\": \"0.876307\", \"valid_uer\": \"100.139\", \"valid_weighted_lm_ppl\": \"77.3225\", \"valid_lm_ppl\": \"59.377\", \"valid_wps\": \"18403.2\", \"valid_wpb\": \"3039.8\", \"valid_bsz\": \"144.2\", \"valid_num_updates\": \"84304\", \"valid_best_weighted_lm_ppl\": \"73.0296\"}\r\n",
      "[2021-06-08 21:33:54,811][fairseq.checkpoint_utils][INFO] - Preparing to save checkpoint for epoch 5269 @ 84304 updates\r\n",
      "[2021-06-08 21:33:54,813][fairseq.trainer][INFO] - Saving checkpoint to /kaggle/working/checkpoint_last.pt\r\n"
     ]
    },
    {
     "name": "stdout",
     "output_type": "stream",
     "text": [
      "[2021-06-08 21:33:54,860][fairseq.trainer][INFO] - Finished saving checkpoint to /kaggle/working/checkpoint_last.pt\r\n",
      "[2021-06-08 21:33:54,860][fairseq.checkpoint_utils][INFO] - Saved checkpoint /kaggle/working/checkpoint_last.pt (epoch 5269 @ 84304 updates, score 77.3225035765068) (writing took 0.0484334350003337 seconds)\r\n",
      "[2021-06-08 21:33:54,860][fairseq_cli.train][INFO] - end of epoch 5269 (average epoch stats below)\r\n",
      "[2021-06-08 21:33:54,863][train][INFO] - {\"epoch\": 5269, \"train_loss\": \"3.548\", \"train_ntokens\": \"145.688\", \"train_nsentences\": \"145.688\", \"train_temp\": \"0.1\", \"train_code_ppl\": \"8.627\", \"train_loss_code_pen\": \"0.319\", \"train_loss_smoothness\": \"2.039\", \"train_loss_dense_g\": \"3.968\", \"train_lm_score_sum\": 0.0, \"train_num_pred_chars\": 0.0, \"train_loss_grad_pen\": \"0.108\", \"train_loss_dense_d\": \"0.028\", \"train_loss_token_d\": \"0.028\", \"train_wps\": \"10.7\", \"train_ups\": \"0.07\", \"train_wpb\": \"145.7\", \"train_bsz\": \"145.7\", \"train_num_updates\": \"84304\", \"train_lr_discriminator\": \"0.0005\", \"train_lr_generator\": \"0.0004\", \"train_gnorm\": \"31.317\", \"train_clip\": \"87.5\", \"train_train_wall\": \"215\", \"train_wall\": \"15356\"}\r\n"
     ]
    },
    {
     "name": "stdout",
     "output_type": "stream",
     "text": [
      "[2021-06-08 21:33:54,919][fairseq.trainer][INFO] - begin training epoch 5270\r\n",
      "[2021-06-08 21:33:54,921][fairseq_cli.train][INFO] - Start iterating over samples\r\n"
     ]
    },
    {
     "name": "stdout",
     "output_type": "stream",
     "text": [
      "[2021-06-08 21:37:59,044][fairseq_cli.train][INFO] - begin validation on \"valid\" subset\r\n"
     ]
    },
    {
     "name": "stdout",
     "output_type": "stream",
     "text": [
      "[2021-06-08 21:38:02,008][fairseq.tasks.unpaired_audio_text][INFO] - REF: ɛ n f œ ʂ ə n a d ɵ ʂ ə k t f øː r d eː t s ɔ m h ɛ n d ə p oː ɕ œ r k ɔ n s ɛ t ə n\r\n",
      "[2021-06-08 21:38:02,011][fairseq.tasks.unpaired_audio_text][INFO] - HYP: n ɪ s j œ r œ j yː b j uː œ yː k j uː f œ øː j m ə m œ k b ə uː s eː r n v oː s l ɪ ŋ k ɪ l s œ uː m a n t a\r\n",
      "[2021-06-08 21:38:02,016][fairseq.tasks.unpaired_audio_text][INFO] - LM [REF]: -53.44462585449219, 0.05339602260269112\r\n",
      "[2021-06-08 21:38:02,017][fairseq.tasks.unpaired_audio_text][INFO] - LM [HYP]: -92.48426055908203, 0.015366788937643894\r\n"
     ]
    },
    {
     "name": "stdout",
     "output_type": "stream",
     "text": [
      "[2021-06-08 21:38:02,543][valid][INFO] - {\"epoch\": 5270, \"valid_loss\": \"1\", \"valid_ntokens\": \"3039.79\", \"valid_nsentences\": \"144.214\", \"valid_lm_score_sum\": \"-89509.9\", \"valid_num_pred_chars\": \"48294\", \"valid_vocab_seen_pct\": \"0.888502\", \"valid_uer\": \"100.042\", \"valid_weighted_lm_ppl\": \"76.1632\", \"valid_lm_ppl\": \"60.1259\", \"valid_wps\": \"16823.8\", \"valid_wpb\": \"3039.8\", \"valid_bsz\": \"144.2\", \"valid_num_updates\": \"84320\", \"valid_best_weighted_lm_ppl\": \"73.0296\"}\r\n",
      "[2021-06-08 21:38:02,546][fairseq.checkpoint_utils][INFO] - Preparing to save checkpoint for epoch 5270 @ 84320 updates\r\n",
      "[2021-06-08 21:38:02,548][fairseq.trainer][INFO] - Saving checkpoint to /kaggle/working/checkpoint_last.pt\r\n"
     ]
    },
    {
     "name": "stdout",
     "output_type": "stream",
     "text": [
      "[2021-06-08 21:38:02,595][fairseq.trainer][INFO] - Finished saving checkpoint to /kaggle/working/checkpoint_last.pt\r\n",
      "[2021-06-08 21:38:02,595][fairseq.checkpoint_utils][INFO] - Saved checkpoint /kaggle/working/checkpoint_last.pt (epoch 5270 @ 84320 updates, score 76.16317943498167) (writing took 0.04867796400139923 seconds)\r\n",
      "[2021-06-08 21:38:02,596][fairseq_cli.train][INFO] - end of epoch 5270 (average epoch stats below)\r\n",
      "[2021-06-08 21:38:02,599][train][INFO] - {\"epoch\": 5270, \"train_loss\": \"3.31\", \"train_ntokens\": \"145.688\", \"train_nsentences\": \"145.688\", \"train_temp\": \"0.1\", \"train_code_ppl\": \"8.981\", \"train_loss_code_pen\": \"0.331\", \"train_loss_smoothness\": \"2.076\", \"train_loss_dense_g\": \"4.294\", \"train_lm_score_sum\": 0.0, \"train_num_pred_chars\": 0.0, \"train_loss_grad_pen\": \"0.093\", \"train_loss_dense_d\": \"0.03\", \"train_loss_token_d\": \"0.034\", \"train_wps\": \"9.4\", \"train_ups\": \"0.06\", \"train_wpb\": \"145.7\", \"train_bsz\": \"145.7\", \"train_num_updates\": \"84320\", \"train_lr_discriminator\": \"0.0005\", \"train_lr_generator\": \"0.0004\", \"train_gnorm\": \"30.175\", \"train_clip\": \"75\", \"train_train_wall\": \"244\", \"train_wall\": \"15604\"}\r\n"
     ]
    },
    {
     "name": "stdout",
     "output_type": "stream",
     "text": [
      "[2021-06-08 21:38:02,659][fairseq.trainer][INFO] - begin training epoch 5271\r\n",
      "[2021-06-08 21:38:02,660][fairseq_cli.train][INFO] - Start iterating over samples\r\n"
     ]
    },
    {
     "name": "stdout",
     "output_type": "stream",
     "text": [
      "[2021-06-08 21:41:48,290][fairseq_cli.train][INFO] - begin validation on \"valid\" subset\r\n"
     ]
    },
    {
     "name": "stdout",
     "output_type": "stream",
     "text": [
      "[2021-06-08 21:41:50,865][fairseq.tasks.unpaired_audio_text][INFO] - REF: ɛ n f œ ʂ ə n a d ɵ ʂ ə k t f øː r d eː t s ɔ m h ɛ n d ə p oː ɕ œ r k ɔ n s ɛ t ə n\r\n",
      "[2021-06-08 21:41:50,868][fairseq.tasks.unpaired_audio_text][INFO] - HYP: n ɪ n s j œ r œ j yː j uː œ yː k j uː f œ øː j m ə m œ k b ə uː s eː r n v oː s l ɪ ŋ k ɪ l s œ uː m a n t a\r\n",
      "[2021-06-08 21:41:50,873][fairseq.tasks.unpaired_audio_text][INFO] - LM [REF]: -53.44462585449219, 0.05339602260269112\r\n",
      "[2021-06-08 21:41:50,873][fairseq.tasks.unpaired_audio_text][INFO] - LM [HYP]: -91.46800994873047, 0.016088279731214336\r\n"
     ]
    },
    {
     "name": "stdout",
     "output_type": "stream",
     "text": [
      "[2021-06-08 21:41:51,398][valid][INFO] - {\"epoch\": 5271, \"valid_loss\": \"0.999\", \"valid_ntokens\": \"3039.79\", \"valid_nsentences\": \"144.214\", \"valid_lm_score_sum\": \"-89482.1\", \"valid_num_pred_chars\": \"48314\", \"valid_vocab_seen_pct\": \"0.885017\", \"valid_uer\": \"99.9342\", \"valid_weighted_lm_ppl\": \"76.5418\", \"valid_lm_ppl\": \"59.9518\", \"valid_wps\": \"17815.7\", \"valid_wpb\": \"3039.8\", \"valid_bsz\": \"144.2\", \"valid_num_updates\": \"84336\", \"valid_best_weighted_lm_ppl\": \"73.0296\"}\r\n",
      "[2021-06-08 21:41:51,402][fairseq.checkpoint_utils][INFO] - Preparing to save checkpoint for epoch 5271 @ 84336 updates\r\n",
      "[2021-06-08 21:41:51,403][fairseq.trainer][INFO] - Saving checkpoint to /kaggle/working/checkpoint_last.pt\r\n"
     ]
    },
    {
     "name": "stdout",
     "output_type": "stream",
     "text": [
      "[2021-06-08 21:41:51,450][fairseq.trainer][INFO] - Finished saving checkpoint to /kaggle/working/checkpoint_last.pt\r\n",
      "[2021-06-08 21:41:51,450][fairseq.checkpoint_utils][INFO] - Saved checkpoint /kaggle/working/checkpoint_last.pt (epoch 5271 @ 84336 updates, score 76.54180001418594) (writing took 0.04839970999819343 seconds)\r\n",
      "[2021-06-08 21:41:51,451][fairseq_cli.train][INFO] - end of epoch 5271 (average epoch stats below)\r\n",
      "[2021-06-08 21:41:51,454][train][INFO] - {\"epoch\": 5271, \"train_loss\": \"3.632\", \"train_ntokens\": \"145.688\", \"train_nsentences\": \"145.688\", \"train_temp\": \"0.1\", \"train_code_ppl\": \"8.674\", \"train_loss_code_pen\": \"0.343\", \"train_loss_smoothness\": \"2.125\", \"train_loss_dense_g\": \"4.039\", \"train_lm_score_sum\": 0.0, \"train_num_pred_chars\": 0.0, \"train_loss_grad_pen\": \"0.081\", \"train_loss_dense_d\": \"0.026\", \"train_loss_token_d\": \"0.024\", \"train_wps\": \"10.2\", \"train_ups\": \"0.07\", \"train_wpb\": \"145.7\", \"train_bsz\": \"145.7\", \"train_num_updates\": \"84336\", \"train_lr_discriminator\": \"0.0005\", \"train_lr_generator\": \"0.0004\", \"train_gnorm\": \"29.594\", \"train_clip\": \"68.8\", \"train_train_wall\": \"225\", \"train_wall\": \"15833\"}\r\n"
     ]
    },
    {
     "name": "stdout",
     "output_type": "stream",
     "text": [
      "[2021-06-08 21:41:51,512][fairseq.trainer][INFO] - begin training epoch 5272\r\n",
      "[2021-06-08 21:41:51,514][fairseq_cli.train][INFO] - Start iterating over samples\r\n"
     ]
    },
    {
     "name": "stdout",
     "output_type": "stream",
     "text": [
      "[2021-06-08 21:45:37,983][fairseq_cli.train][INFO] - begin validation on \"valid\" subset\r\n"
     ]
    },
    {
     "name": "stdout",
     "output_type": "stream",
     "text": [
      "[2021-06-08 21:45:40,555][fairseq.tasks.unpaired_audio_text][INFO] - REF: ɛ n f œ ʂ ə n a d ɵ ʂ ə k t f øː r d eː t s ɔ m h ɛ n d ə p oː ɕ œ r k ɔ n s ɛ t ə n\r\n",
      "[2021-06-08 21:45:40,558][fairseq.tasks.unpaired_audio_text][INFO] - HYP: t ɪ n s j œ r œ j j uː œ yː k j uː f œ øː j m ə m œ k b uː s eː r n v oː s ɪ ŋ k ɪ l s d uː m a n t a\r\n",
      "[2021-06-08 21:45:40,562][fairseq.tasks.unpaired_audio_text][INFO] - LM [REF]: -53.44462585449219, 0.05339602260269112\r\n",
      "[2021-06-08 21:45:40,563][fairseq.tasks.unpaired_audio_text][INFO] - LM [HYP]: -84.98008728027344, 0.016966080175760328\r\n"
     ]
    },
    {
     "name": "stdout",
     "output_type": "stream",
     "text": [
      "[2021-06-08 21:45:41,104][valid][INFO] - {\"epoch\": 5272, \"valid_loss\": \"1.002\", \"valid_ntokens\": \"3039.79\", \"valid_nsentences\": \"144.214\", \"valid_lm_score_sum\": \"-89746.3\", \"valid_num_pred_chars\": \"48452\", \"valid_vocab_seen_pct\": \"0.88676\", \"valid_uer\": \"100.15\", \"valid_weighted_lm_ppl\": \"76.3068\", \"valid_lm_ppl\": \"60.0033\", \"valid_wps\": \"17602.4\", \"valid_wpb\": \"3039.8\", \"valid_bsz\": \"144.2\", \"valid_num_updates\": \"84352\", \"valid_best_weighted_lm_ppl\": \"73.0296\"}\r\n",
      "[2021-06-08 21:45:41,107][fairseq.checkpoint_utils][INFO] - Preparing to save checkpoint for epoch 5272 @ 84352 updates\r\n",
      "[2021-06-08 21:45:41,108][fairseq.trainer][INFO] - Saving checkpoint to /kaggle/working/checkpoint_last.pt\r\n"
     ]
    },
    {
     "name": "stdout",
     "output_type": "stream",
     "text": [
      "[2021-06-08 21:45:41,158][fairseq.trainer][INFO] - Finished saving checkpoint to /kaggle/working/checkpoint_last.pt\r\n",
      "[2021-06-08 21:45:41,159][fairseq.checkpoint_utils][INFO] - Saved checkpoint /kaggle/working/checkpoint_last.pt (epoch 5272 @ 84352 updates, score 76.30677636875922) (writing took 0.051675685001100646 seconds)\r\n",
      "[2021-06-08 21:45:41,159][fairseq_cli.train][INFO] - end of epoch 5272 (average epoch stats below)\r\n",
      "[2021-06-08 21:45:41,163][train][INFO] - {\"epoch\": 5272, \"train_loss\": \"3.519\", \"train_ntokens\": \"145.688\", \"train_nsentences\": \"145.688\", \"train_temp\": \"0.1\", \"train_code_ppl\": \"8.663\", \"train_loss_code_pen\": \"0.332\", \"train_loss_smoothness\": \"2.077\", \"train_loss_dense_g\": \"4.221\", \"train_lm_score_sum\": 0.0, \"train_num_pred_chars\": 0.0, \"train_loss_grad_pen\": \"0.103\", \"train_loss_dense_d\": \"0.03\", \"train_loss_token_d\": \"0.04\", \"train_wps\": \"10.1\", \"train_ups\": \"0.07\", \"train_wpb\": \"145.7\", \"train_bsz\": \"145.7\", \"train_num_updates\": \"84352\", \"train_lr_discriminator\": \"0.0005\", \"train_lr_generator\": \"0.0004\", \"train_gnorm\": \"33.857\", \"train_clip\": \"75\", \"train_train_wall\": \"226\", \"train_wall\": \"16062\"}\r\n"
     ]
    },
    {
     "name": "stdout",
     "output_type": "stream",
     "text": [
      "[2021-06-08 21:45:41,223][fairseq.trainer][INFO] - begin training epoch 5273\r\n",
      "[2021-06-08 21:45:41,225][fairseq_cli.train][INFO] - Start iterating over samples\r\n"
     ]
    },
    {
     "name": "stdout",
     "output_type": "stream",
     "text": [
      "[2021-06-08 21:49:58,921][fairseq_cli.train][INFO] - begin validation on \"valid\" subset\r\n"
     ]
    },
    {
     "name": "stdout",
     "output_type": "stream",
     "text": [
      "[2021-06-08 21:50:01,462][fairseq.tasks.unpaired_audio_text][INFO] - REF: ɛ n f œ ʂ ə n a d ɵ ʂ ə k t f øː r d eː t s ɔ m h ɛ n d ə p oː ɕ œ r k ɔ n s ɛ t ə n\r\n",
      "[2021-06-08 21:50:01,465][fairseq.tasks.unpaired_audio_text][INFO] - HYP: n ɪ n s j œ r œ j yː j uː œ yː k j uː f œ øː j m ə m œ k b uː s eː r n v oː s ɪ ŋ k ɪ l s uː m a t a\r\n",
      "[2021-06-08 21:50:01,469][fairseq.tasks.unpaired_audio_text][INFO] - LM [REF]: -53.44462585449219, 0.05339602260269112\r\n",
      "[2021-06-08 21:50:01,470][fairseq.tasks.unpaired_audio_text][INFO] - LM [HYP]: -85.83378601074219, 0.014919327032429295\r\n"
     ]
    },
    {
     "name": "stdout",
     "output_type": "stream",
     "text": [
      "[2021-06-08 21:50:01,994][valid][INFO] - {\"epoch\": 5273, \"valid_loss\": \"1\", \"valid_ntokens\": \"3039.79\", \"valid_nsentences\": \"144.214\", \"valid_lm_score_sum\": \"-89374.9\", \"valid_num_pred_chars\": \"48335\", \"valid_vocab_seen_pct\": \"0.885017\", \"valid_uer\": \"100.033\", \"valid_weighted_lm_ppl\": \"76.0375\", \"valid_lm_ppl\": \"59.5568\", \"valid_wps\": \"18105\", \"valid_wpb\": \"3039.8\", \"valid_bsz\": \"144.2\", \"valid_num_updates\": \"84368\", \"valid_best_weighted_lm_ppl\": \"73.0296\"}\r\n",
      "[2021-06-08 21:50:01,997][fairseq.checkpoint_utils][INFO] - Preparing to save checkpoint for epoch 5273 @ 84368 updates\r\n",
      "[2021-06-08 21:50:01,998][fairseq.trainer][INFO] - Saving checkpoint to /kaggle/working/checkpoint_last.pt\r\n"
     ]
    },
    {
     "name": "stdout",
     "output_type": "stream",
     "text": [
      "[2021-06-08 21:50:02,045][fairseq.trainer][INFO] - Finished saving checkpoint to /kaggle/working/checkpoint_last.pt\r\n",
      "[2021-06-08 21:50:02,045][fairseq.checkpoint_utils][INFO] - Saved checkpoint /kaggle/working/checkpoint_last.pt (epoch 5273 @ 84368 updates, score 76.0374570055578) (writing took 0.048535961999732535 seconds)\r\n",
      "[2021-06-08 21:50:02,046][fairseq_cli.train][INFO] - end of epoch 5273 (average epoch stats below)\r\n",
      "[2021-06-08 21:50:02,049][train][INFO] - {\"epoch\": 5273, \"train_loss\": \"3.172\", \"train_ntokens\": \"145.688\", \"train_nsentences\": \"145.688\", \"train_temp\": \"0.1\", \"train_code_ppl\": \"8.649\", \"train_loss_code_pen\": \"0.322\", \"train_loss_smoothness\": \"2.036\", \"train_loss_dense_g\": \"4.109\", \"train_lm_score_sum\": 0.0, \"train_num_pred_chars\": 0.0, \"train_loss_grad_pen\": \"0.057\", \"train_loss_dense_d\": \"0.026\", \"train_loss_token_d\": \"0.026\", \"train_wps\": \"8.9\", \"train_ups\": \"0.06\", \"train_wpb\": \"145.7\", \"train_bsz\": \"145.7\", \"train_num_updates\": \"84368\", \"train_lr_discriminator\": \"0.0005\", \"train_lr_generator\": \"0.0004\", \"train_gnorm\": \"29.542\", \"train_clip\": \"81.2\", \"train_train_wall\": \"257\", \"train_wall\": \"16323\"}\r\n"
     ]
    },
    {
     "name": "stdout",
     "output_type": "stream",
     "text": [
      "[2021-06-08 21:50:02,107][fairseq.trainer][INFO] - begin training epoch 5274\r\n",
      "[2021-06-08 21:50:02,109][fairseq_cli.train][INFO] - Start iterating over samples\r\n"
     ]
    },
    {
     "name": "stdout",
     "output_type": "stream",
     "text": [
      "[2021-06-08 21:54:15,064][fairseq_cli.train][INFO] - begin validation on \"valid\" subset\r\n"
     ]
    },
    {
     "name": "stdout",
     "output_type": "stream",
     "text": [
      "[2021-06-08 21:54:17,561][fairseq.tasks.unpaired_audio_text][INFO] - REF: ɛ n f œ ʂ ə n a d ɵ ʂ ə k t f øː r d eː t s ɔ m h ɛ n d ə p oː ɕ œ r k ɔ n s ɛ t ə n\r\n",
      "[2021-06-08 21:54:17,564][fairseq.tasks.unpaired_audio_text][INFO] - HYP: t ɪ n s j œ r œ j yː j uː œ yː k j uː f œ øː j m b ə m œ k b uː s eː r n v oː s ɪ ŋ k ɪ l s uː m a t a\r\n",
      "[2021-06-08 21:54:17,570][fairseq.tasks.unpaired_audio_text][INFO] - LM [REF]: -53.44462585449219, 0.05339602260269112\r\n",
      "[2021-06-08 21:54:17,570][fairseq.tasks.unpaired_audio_text][INFO] - LM [HYP]: -88.0501708984375, 0.014642709271402559\r\n"
     ]
    },
    {
     "name": "stdout",
     "output_type": "stream",
     "text": [
      "[2021-06-08 21:54:18,106][valid][INFO] - {\"epoch\": 5274, \"valid_loss\": \"0.999\", \"valid_ntokens\": \"3039.79\", \"valid_nsentences\": \"144.214\", \"valid_lm_score_sum\": \"-89231.1\", \"valid_num_pred_chars\": \"48256\", \"valid_vocab_seen_pct\": \"0.881533\", \"valid_uer\": \"99.8966\", \"valid_weighted_lm_ppl\": \"76.6271\", \"valid_lm_ppl\": \"59.547\", \"valid_wps\": \"18113.2\", \"valid_wpb\": \"3039.8\", \"valid_bsz\": \"144.2\", \"valid_num_updates\": \"84384\", \"valid_best_weighted_lm_ppl\": \"73.0296\"}\r\n",
      "[2021-06-08 21:54:18,110][fairseq.checkpoint_utils][INFO] - Preparing to save checkpoint for epoch 5274 @ 84384 updates\r\n",
      "[2021-06-08 21:54:18,111][fairseq.trainer][INFO] - Saving checkpoint to /kaggle/working/checkpoint_last.pt\r\n"
     ]
    },
    {
     "name": "stdout",
     "output_type": "stream",
     "text": [
      "[2021-06-08 21:54:18,162][fairseq.trainer][INFO] - Finished saving checkpoint to /kaggle/working/checkpoint_last.pt\r\n",
      "[2021-06-08 21:54:18,162][fairseq.checkpoint_utils][INFO] - Saved checkpoint /kaggle/working/checkpoint_last.pt (epoch 5274 @ 84384 updates, score 76.62712470611888) (writing took 0.05264063899812754 seconds)\r\n",
      "[2021-06-08 21:54:18,163][fairseq_cli.train][INFO] - end of epoch 5274 (average epoch stats below)\r\n",
      "[2021-06-08 21:54:18,166][train][INFO] - {\"epoch\": 5274, \"train_loss\": \"3\", \"train_ntokens\": \"145.688\", \"train_nsentences\": \"145.688\", \"train_temp\": \"0.1\", \"train_code_ppl\": \"8.699\", \"train_loss_code_pen\": \"0.327\", \"train_loss_smoothness\": \"2.037\", \"train_loss_dense_g\": \"4.151\", \"train_lm_score_sum\": 0.0, \"train_num_pred_chars\": 0.0, \"train_loss_grad_pen\": \"0.063\", \"train_loss_dense_d\": \"0.025\", \"train_loss_token_d\": \"0.026\", \"train_wps\": \"9.1\", \"train_ups\": \"0.06\", \"train_wpb\": \"145.7\", \"train_bsz\": \"145.7\", \"train_num_updates\": \"84384\", \"train_lr_discriminator\": \"0.0005\", \"train_lr_generator\": \"0.0004\", \"train_gnorm\": \"29.673\", \"train_clip\": \"81.2\", \"train_train_wall\": \"252\", \"train_wall\": \"16579\"}\r\n"
     ]
    },
    {
     "name": "stdout",
     "output_type": "stream",
     "text": [
      "[2021-06-08 21:54:18,224][fairseq.trainer][INFO] - begin training epoch 5275\r\n",
      "[2021-06-08 21:54:18,225][fairseq_cli.train][INFO] - Start iterating over samples\r\n"
     ]
    },
    {
     "name": "stdout",
     "output_type": "stream",
     "text": [
      "[2021-06-08 21:58:03,735][train_inner][INFO] - {\"epoch\": 5275, \"update\": 5275.0, \"loss\": \"3.406\", \"ntokens\": \"145.54\", \"nsentences\": \"145.54\", \"temp\": \"0.1\", \"code_ppl\": \"8.728\", \"loss_code_pen\": \"0.333\", \"loss_smoothness\": \"2.078\", \"loss_dense_g\": \"4.167\", \"lm_score_sum\": 0.0, \"num_pred_chars\": 0.0, \"loss_grad_pen\": \"0.083\", \"loss_dense_d\": \"0.027\", \"loss_token_d\": \"0.029\", \"wps\": \"9.7\", \"ups\": \"0.07\", \"wpb\": \"145.5\", \"bsz\": \"145.5\", \"num_updates\": \"84400\", \"lr_discriminator\": \"0.0005\", \"lr_generator\": \"0.0004\", \"gnorm\": \"30.521\", \"clip\": \"76\", \"train_wall\": \"1479\", \"wall\": \"16805\"}\r\n",
      "[2021-06-08 21:58:03,737][fairseq_cli.train][INFO] - begin validation on \"valid\" subset\r\n"
     ]
    },
    {
     "name": "stdout",
     "output_type": "stream",
     "text": [
      "[2021-06-08 21:58:06,253][fairseq.tasks.unpaired_audio_text][INFO] - REF: ɛ n f œ ʂ ə n a d ɵ ʂ ə k t f øː r d eː t s ɔ m h ɛ n d ə p oː ɕ œ r k ɔ n s ɛ t ə n\r\n",
      "[2021-06-08 21:58:06,256][fairseq.tasks.unpaired_audio_text][INFO] - HYP: n ɪ n s j œ r œ j yː b j uː œ yː k j uː f œ øː j m ə m œ k b ə uː s eː r n v oː s ɪ ŋ k ɪ l s uː m a t a\r\n"
     ]
    },
    {
     "name": "stdout",
     "output_type": "stream",
     "text": [
      "[2021-06-08 21:58:06,261][fairseq.tasks.unpaired_audio_text][INFO] - LM [REF]: -53.44462585449219, 0.05339602260269112\r\n",
      "[2021-06-08 21:58:06,262][fairseq.tasks.unpaired_audio_text][INFO] - LM [HYP]: -90.05931091308594, 0.01452295124271916\r\n"
     ]
    },
    {
     "name": "stdout",
     "output_type": "stream",
     "text": [
      "[2021-06-08 21:58:06,782][valid][INFO] - {\"epoch\": 5275, \"valid_loss\": \"1.001\", \"valid_ntokens\": \"3039.79\", \"valid_nsentences\": \"144.214\", \"valid_lm_score_sum\": \"-89410.2\", \"valid_num_pred_chars\": \"48383\", \"valid_vocab_seen_pct\": \"0.881533\", \"valid_uer\": \"100.07\", \"valid_weighted_lm_ppl\": \"76.4654\", \"valid_lm_ppl\": \"59.4213\", \"valid_wps\": \"18169.6\", \"valid_wpb\": \"3039.8\", \"valid_bsz\": \"144.2\", \"valid_num_updates\": \"84400\", \"valid_best_weighted_lm_ppl\": \"73.0296\"}\r\n",
      "[2021-06-08 21:58:06,785][fairseq.checkpoint_utils][INFO] - Preparing to save checkpoint for epoch 5275 @ 84400 updates\r\n",
      "[2021-06-08 21:58:06,786][fairseq.trainer][INFO] - Saving checkpoint to /kaggle/working/checkpoint_last.pt\r\n"
     ]
    },
    {
     "name": "stdout",
     "output_type": "stream",
     "text": [
      "[2021-06-08 21:58:06,833][fairseq.trainer][INFO] - Finished saving checkpoint to /kaggle/working/checkpoint_last.pt\r\n",
      "[2021-06-08 21:58:06,833][fairseq.checkpoint_utils][INFO] - Saved checkpoint /kaggle/working/checkpoint_last.pt (epoch 5275 @ 84400 updates, score 76.46541697970346) (writing took 0.04841791900253156 seconds)\r\n",
      "[2021-06-08 21:58:06,834][fairseq_cli.train][INFO] - end of epoch 5275 (average epoch stats below)\r\n",
      "[2021-06-08 21:58:06,837][train][INFO] - {\"epoch\": 5275, \"train_loss\": \"3.714\", \"train_ntokens\": \"145.688\", \"train_nsentences\": \"145.688\", \"train_temp\": \"0.1\", \"train_code_ppl\": \"8.743\", \"train_loss_code_pen\": \"0.337\", \"train_loss_smoothness\": \"2.101\", \"train_loss_dense_g\": \"4.206\", \"train_lm_score_sum\": 0.0, \"train_num_pred_chars\": 0.0, \"train_loss_grad_pen\": \"0.096\", \"train_loss_dense_d\": \"0.023\", \"train_loss_token_d\": \"0.027\", \"train_wps\": \"10.2\", \"train_ups\": \"0.07\", \"train_wpb\": \"145.7\", \"train_bsz\": \"145.7\", \"train_num_updates\": \"84400\", \"train_lr_discriminator\": \"0.0005\", \"train_lr_generator\": \"0.0004\", \"train_gnorm\": \"30.047\", \"train_clip\": \"68.8\", \"train_train_wall\": \"225\", \"train_wall\": \"16808\"}\r\n"
     ]
    },
    {
     "name": "stdout",
     "output_type": "stream",
     "text": [
      "[2021-06-08 21:58:06,902][fairseq.trainer][INFO] - begin training epoch 5276\r\n",
      "[2021-06-08 21:58:06,903][fairseq_cli.train][INFO] - Start iterating over samples\r\n"
     ]
    },
    {
     "name": "stdout",
     "output_type": "stream",
     "text": [
      "[2021-06-08 22:02:00,031][fairseq_cli.train][INFO] - begin validation on \"valid\" subset\r\n"
     ]
    },
    {
     "name": "stdout",
     "output_type": "stream",
     "text": [
      "[2021-06-08 22:02:02,558][fairseq.tasks.unpaired_audio_text][INFO] - REF: ɛ n f œ ʂ ə n a d ɵ ʂ ə k t f øː r d eː t s ɔ m h ɛ n d ə p oː ɕ œ r k ɔ n s ɛ t ə n\r\n",
      "[2021-06-08 22:02:02,561][fairseq.tasks.unpaired_audio_text][INFO] - HYP: t ɪ n s j œ r œ j yː b j uː œ yː k j uː f œ øː j m ə m œ k b ə uː s eː r n v oː s l ɪ ŋ k ɪ l s d uː m a n t a\r\n",
      "[2021-06-08 22:02:02,565][fairseq.tasks.unpaired_audio_text][INFO] - LM [REF]: -53.44462585449219, 0.05339602260269112\r\n",
      "[2021-06-08 22:02:02,565][fairseq.tasks.unpaired_audio_text][INFO] - LM [HYP]: -92.68363189697266, 0.016505263555431686\r\n"
     ]
    },
    {
     "name": "stdout",
     "output_type": "stream",
     "text": [
      "[2021-06-08 22:02:03,076][valid][INFO] - {\"epoch\": 5276, \"valid_loss\": \"1\", \"valid_ntokens\": \"3039.79\", \"valid_nsentences\": \"144.214\", \"valid_lm_score_sum\": \"-89374.9\", \"valid_num_pred_chars\": \"48370\", \"valid_vocab_seen_pct\": \"0.879791\", \"valid_uer\": \"100.016\", \"valid_weighted_lm_ppl\": \"76.7255\", \"valid_lm_ppl\": \"59.388\", \"valid_wps\": \"18138.5\", \"valid_wpb\": \"3039.8\", \"valid_bsz\": \"144.2\", \"valid_num_updates\": \"84416\", \"valid_best_weighted_lm_ppl\": \"73.0296\"}\r\n",
      "[2021-06-08 22:02:03,079][fairseq.checkpoint_utils][INFO] - Preparing to save checkpoint for epoch 5276 @ 84416 updates\r\n",
      "[2021-06-08 22:02:03,080][fairseq.trainer][INFO] - Saving checkpoint to /kaggle/working/checkpoint_last.pt\r\n"
     ]
    },
    {
     "name": "stdout",
     "output_type": "stream",
     "text": [
      "[2021-06-08 22:02:03,126][fairseq.trainer][INFO] - Finished saving checkpoint to /kaggle/working/checkpoint_last.pt\r\n",
      "[2021-06-08 22:02:03,126][fairseq.checkpoint_utils][INFO] - Saved checkpoint /kaggle/working/checkpoint_last.pt (epoch 5276 @ 84416 updates, score 76.72549549167543) (writing took 0.04766041900074924 seconds)\r\n",
      "[2021-06-08 22:02:03,127][fairseq_cli.train][INFO] - end of epoch 5276 (average epoch stats below)\r\n",
      "[2021-06-08 22:02:03,130][train][INFO] - {\"epoch\": 5276, \"train_loss\": \"3.442\", \"train_ntokens\": \"145.688\", \"train_nsentences\": \"145.688\", \"train_temp\": \"0.1\", \"train_code_ppl\": \"8.549\", \"train_loss_code_pen\": \"0.321\", \"train_loss_smoothness\": \"2.037\", \"train_loss_dense_g\": \"4.163\", \"train_lm_score_sum\": 0.0, \"train_num_pred_chars\": 0.0, \"train_loss_grad_pen\": \"0.083\", \"train_loss_dense_d\": \"0.025\", \"train_loss_token_d\": \"0.022\", \"train_wps\": \"9.9\", \"train_ups\": \"0.07\", \"train_wpb\": \"145.7\", \"train_bsz\": \"145.7\", \"train_num_updates\": \"84416\", \"train_lr_discriminator\": \"0.0005\", \"train_lr_generator\": \"0.0004\", \"train_gnorm\": \"34.239\", \"train_clip\": \"81.2\", \"train_train_wall\": \"233\", \"train_wall\": \"17044\"}\r\n"
     ]
    },
    {
     "name": "stdout",
     "output_type": "stream",
     "text": [
      "[2021-06-08 22:02:03,183][fairseq.trainer][INFO] - begin training epoch 5277\r\n",
      "[2021-06-08 22:02:03,185][fairseq_cli.train][INFO] - Start iterating over samples\r\n"
     ]
    },
    {
     "name": "stdout",
     "output_type": "stream",
     "text": [
      "[2021-06-08 22:06:01,011][fairseq_cli.train][INFO] - begin validation on \"valid\" subset\r\n"
     ]
    },
    {
     "name": "stdout",
     "output_type": "stream",
     "text": [
      "[2021-06-08 22:06:03,528][fairseq.tasks.unpaired_audio_text][INFO] - REF: ɛ n f œ ʂ ə n a d ɵ ʂ ə k t f øː r d eː t s ɔ m h ɛ n d ə p oː ɕ œ r k ɔ n s ɛ t ə n\r\n",
      "[2021-06-08 22:06:03,531][fairseq.tasks.unpaired_audio_text][INFO] - HYP: n ɪ n s j œ r œ j yː b j uː œ yː k j uː f œ øː j m ə m œ k b ə uː s eː r n v oː s l ɪ ŋ k ɪ l s d uː m a n t a\r\n",
      "[2021-06-08 22:06:03,535][fairseq.tasks.unpaired_audio_text][INFO] - LM [REF]: -53.44462585449219, 0.05339602260269112\r\n",
      "[2021-06-08 22:06:03,535][fairseq.tasks.unpaired_audio_text][INFO] - LM [HYP]: -92.60678100585938, 0.016561526554292987\r\n"
     ]
    },
    {
     "name": "stdout",
     "output_type": "stream",
     "text": [
      "[2021-06-08 22:06:04,094][valid][INFO] - {\"epoch\": 5277, \"valid_loss\": \"0.998\", \"valid_ntokens\": \"3039.79\", \"valid_nsentences\": \"144.214\", \"valid_lm_score_sum\": \"-89346.8\", \"valid_num_pred_chars\": \"48263\", \"valid_vocab_seen_pct\": \"0.885017\", \"valid_uer\": \"99.8308\", \"valid_weighted_lm_ppl\": \"76.3853\", \"valid_lm_ppl\": \"59.8292\", \"valid_wps\": \"17827.8\", \"valid_wpb\": \"3039.8\", \"valid_bsz\": \"144.2\", \"valid_num_updates\": \"84432\", \"valid_best_weighted_lm_ppl\": \"73.0296\"}\r\n",
      "[2021-06-08 22:06:04,097][fairseq.checkpoint_utils][INFO] - Preparing to save checkpoint for epoch 5277 @ 84432 updates\r\n",
      "[2021-06-08 22:06:04,099][fairseq.trainer][INFO] - Saving checkpoint to /kaggle/working/checkpoint_last.pt\r\n"
     ]
    },
    {
     "name": "stdout",
     "output_type": "stream",
     "text": [
      "[2021-06-08 22:06:04,146][fairseq.trainer][INFO] - Finished saving checkpoint to /kaggle/working/checkpoint_last.pt\r\n",
      "[2021-06-08 22:06:04,146][fairseq.checkpoint_utils][INFO] - Saved checkpoint /kaggle/working/checkpoint_last.pt (epoch 5277 @ 84432 updates, score 76.38528837751224) (writing took 0.04883807200167212 seconds)\r\n",
      "[2021-06-08 22:06:04,147][fairseq_cli.train][INFO] - end of epoch 5277 (average epoch stats below)\r\n",
      "[2021-06-08 22:06:04,150][train][INFO] - {\"epoch\": 5277, \"train_loss\": \"3.551\", \"train_ntokens\": \"145.688\", \"train_nsentences\": \"145.688\", \"train_temp\": \"0.1\", \"train_code_ppl\": \"8.746\", \"train_loss_code_pen\": \"0.335\", \"train_loss_smoothness\": \"2.072\", \"train_loss_dense_g\": \"4.271\", \"train_lm_score_sum\": 0.0, \"train_num_pred_chars\": 0.0, \"train_loss_grad_pen\": \"0.097\", \"train_loss_dense_d\": \"0.029\", \"train_loss_token_d\": \"0.062\", \"train_wps\": \"9.7\", \"train_ups\": \"0.07\", \"train_wpb\": \"145.7\", \"train_bsz\": \"145.7\", \"train_num_updates\": \"84432\", \"train_lr_discriminator\": \"0.0005\", \"train_lr_generator\": \"0.0004\", \"train_gnorm\": \"32.058\", \"train_clip\": \"81.2\", \"train_train_wall\": \"237\", \"train_wall\": \"17285\"}\r\n"
     ]
    },
    {
     "name": "stdout",
     "output_type": "stream",
     "text": [
      "[2021-06-08 22:06:04,223][fairseq.trainer][INFO] - begin training epoch 5278\r\n",
      "[2021-06-08 22:06:04,224][fairseq_cli.train][INFO] - Start iterating over samples\r\n"
     ]
    },
    {
     "name": "stdout",
     "output_type": "stream",
     "text": [
      "[2021-06-08 22:09:53,427][fairseq_cli.train][INFO] - begin validation on \"valid\" subset\r\n"
     ]
    },
    {
     "name": "stdout",
     "output_type": "stream",
     "text": [
      "[2021-06-08 22:09:56,158][fairseq.tasks.unpaired_audio_text][INFO] - REF: ɛ n f œ ʂ ə n a d ɵ ʂ ə k t f øː r d eː t s ɔ m h ɛ n d ə p oː ɕ œ r k ɔ n s ɛ t ə n\r\n",
      "[2021-06-08 22:09:56,161][fairseq.tasks.unpaired_audio_text][INFO] - HYP: n ɪ n s j œ r œ j yː b j uː œ yː k j uː f œ øː j m ə m œ k b ə uː s eː r n v oː s l ɪ ŋ k ɪ l s uː m a n t a\r\n",
      "[2021-06-08 22:09:56,165][fairseq.tasks.unpaired_audio_text][INFO] - LM [REF]: -53.44462585449219, 0.05339602260269112\r\n",
      "[2021-06-08 22:09:56,166][fairseq.tasks.unpaired_audio_text][INFO] - LM [HYP]: -91.04318237304688, 0.016399838123420427\r\n"
     ]
    },
    {
     "name": "stdout",
     "output_type": "stream",
     "text": [
      "[2021-06-08 22:09:56,696][valid][INFO] - {\"epoch\": 5278, \"valid_loss\": \"1.001\", \"valid_ntokens\": \"3039.79\", \"valid_nsentences\": \"144.214\", \"valid_lm_score_sum\": \"-89650.8\", \"valid_num_pred_chars\": \"48365\", \"valid_vocab_seen_pct\": \"0.885017\", \"valid_uer\": \"100.078\", \"valid_weighted_lm_ppl\": \"76.8151\", \"valid_lm_ppl\": \"60.1659\", \"valid_wps\": \"16410.5\", \"valid_wpb\": \"3039.8\", \"valid_bsz\": \"144.2\", \"valid_num_updates\": \"84448\", \"valid_best_weighted_lm_ppl\": \"73.0296\"}\r\n",
      "[2021-06-08 22:09:56,699][fairseq.checkpoint_utils][INFO] - Preparing to save checkpoint for epoch 5278 @ 84448 updates\r\n",
      "[2021-06-08 22:09:56,700][fairseq.trainer][INFO] - Saving checkpoint to /kaggle/working/checkpoint_last.pt\r\n"
     ]
    },
    {
     "name": "stdout",
     "output_type": "stream",
     "text": [
      "[2021-06-08 22:09:56,750][fairseq.trainer][INFO] - Finished saving checkpoint to /kaggle/working/checkpoint_last.pt\r\n",
      "[2021-06-08 22:09:56,750][fairseq.checkpoint_utils][INFO] - Saved checkpoint /kaggle/working/checkpoint_last.pt (epoch 5278 @ 84448 updates, score 76.81513683153688) (writing took 0.05116824099968653 seconds)\r\n",
      "[2021-06-08 22:09:56,751][fairseq_cli.train][INFO] - end of epoch 5278 (average epoch stats below)\r\n",
      "[2021-06-08 22:09:56,755][train][INFO] - {\"epoch\": 5278, \"train_loss\": \"3.669\", \"train_ntokens\": \"145.688\", \"train_nsentences\": \"145.688\", \"train_temp\": \"0.1\", \"train_code_ppl\": \"8.415\", \"train_loss_code_pen\": \"0.31\", \"train_loss_smoothness\": \"2.023\", \"train_loss_dense_g\": \"4.209\", \"train_lm_score_sum\": 0.0, \"train_num_pred_chars\": 0.0, \"train_loss_grad_pen\": \"0.107\", \"train_loss_dense_d\": \"0.027\", \"train_loss_token_d\": \"0.036\", \"train_wps\": \"10\", \"train_ups\": \"0.07\", \"train_wpb\": \"145.7\", \"train_bsz\": \"145.7\", \"train_num_updates\": \"84448\", \"train_lr_discriminator\": \"0.0005\", \"train_lr_generator\": \"0.0004\", \"train_gnorm\": \"31.545\", \"train_clip\": \"93.8\", \"train_train_wall\": \"229\", \"train_wall\": \"17518\"}\r\n"
     ]
    },
    {
     "name": "stdout",
     "output_type": "stream",
     "text": [
      "[2021-06-08 22:09:56,814][fairseq.trainer][INFO] - begin training epoch 5279\r\n",
      "[2021-06-08 22:09:56,816][fairseq_cli.train][INFO] - Start iterating over samples\r\n"
     ]
    },
    {
     "name": "stdout",
     "output_type": "stream",
     "text": [
      "[2021-06-08 22:14:16,635][fairseq_cli.train][INFO] - begin validation on \"valid\" subset\r\n"
     ]
    },
    {
     "name": "stdout",
     "output_type": "stream",
     "text": [
      "[2021-06-08 22:14:19,403][fairseq.tasks.unpaired_audio_text][INFO] - REF: ɛ n f œ ʂ ə n a d ɵ ʂ ə k t f øː r d eː t s ɔ m h ɛ n d ə p oː ɕ œ r k ɔ n s ɛ t ə n\r\n",
      "[2021-06-08 22:14:19,406][fairseq.tasks.unpaired_audio_text][INFO] - HYP: n ɪ n s j œ r œ j yː b j uː m yː k j uː f œ øː j m ə m œ b ə uː s eː r n v oː s l ɪ ŋ k ɪ l s uː m a n t a\r\n",
      "[2021-06-08 22:14:19,410][fairseq.tasks.unpaired_audio_text][INFO] - LM [REF]: -53.44462585449219, 0.05339602260269112\r\n",
      "[2021-06-08 22:14:19,411][fairseq.tasks.unpaired_audio_text][INFO] - LM [HYP]: -87.72088623046875, 0.01760282110774976\r\n"
     ]
    },
    {
     "name": "stdout",
     "output_type": "stream",
     "text": [
      "[2021-06-08 22:14:19,931][valid][INFO] - {\"epoch\": 5279, \"valid_loss\": \"1\", \"valid_ntokens\": \"3039.79\", \"valid_nsentences\": \"144.214\", \"valid_lm_score_sum\": \"-89411.3\", \"valid_num_pred_chars\": \"48173\", \"valid_vocab_seen_pct\": \"0.888502\", \"valid_uer\": \"99.9507\", \"valid_weighted_lm_ppl\": \"76.5718\", \"valid_lm_ppl\": \"60.4485\", \"valid_wps\": \"17228.6\", \"valid_wpb\": \"3039.8\", \"valid_bsz\": \"144.2\", \"valid_num_updates\": \"84464\", \"valid_best_weighted_lm_ppl\": \"73.0296\"}\r\n",
      "[2021-06-08 22:14:19,935][fairseq.checkpoint_utils][INFO] - Preparing to save checkpoint for epoch 5279 @ 84464 updates\r\n",
      "[2021-06-08 22:14:19,936][fairseq.trainer][INFO] - Saving checkpoint to /kaggle/working/checkpoint_last.pt\r\n"
     ]
    },
    {
     "name": "stdout",
     "output_type": "stream",
     "text": [
      "[2021-06-08 22:14:19,982][fairseq.trainer][INFO] - Finished saving checkpoint to /kaggle/working/checkpoint_last.pt\r\n",
      "[2021-06-08 22:14:19,983][fairseq.checkpoint_utils][INFO] - Saved checkpoint /kaggle/working/checkpoint_last.pt (epoch 5279 @ 84464 updates, score 76.5718093740003) (writing took 0.04758966000008513 seconds)\r\n",
      "[2021-06-08 22:14:19,983][fairseq_cli.train][INFO] - end of epoch 5279 (average epoch stats below)\r\n",
      "[2021-06-08 22:14:19,986][train][INFO] - {\"epoch\": 5279, \"train_loss\": \"2.982\", \"train_ntokens\": \"145.688\", \"train_nsentences\": \"145.688\", \"train_temp\": \"0.1\", \"train_code_ppl\": \"8.803\", \"train_loss_code_pen\": \"0.334\", \"train_loss_smoothness\": \"2.081\", \"train_loss_dense_g\": \"4.05\", \"train_lm_score_sum\": 0.0, \"train_num_pred_chars\": 0.0, \"train_loss_grad_pen\": \"0.069\", \"train_loss_dense_d\": \"0.028\", \"train_loss_token_d\": \"0.025\", \"train_wps\": \"8.9\", \"train_ups\": \"0.06\", \"train_wpb\": \"145.7\", \"train_bsz\": \"145.7\", \"train_num_updates\": \"84464\", \"train_lr_discriminator\": \"0.0005\", \"train_lr_generator\": \"0.0004\", \"train_gnorm\": \"29.26\", \"train_clip\": \"75\", \"train_train_wall\": \"259\", \"train_wall\": \"17781\"}\r\n"
     ]
    },
    {
     "name": "stdout",
     "output_type": "stream",
     "text": [
      "[2021-06-08 22:14:20,044][fairseq.trainer][INFO] - begin training epoch 5280\r\n",
      "[2021-06-08 22:14:20,046][fairseq_cli.train][INFO] - Start iterating over samples\r\n"
     ]
    },
    {
     "name": "stdout",
     "output_type": "stream",
     "text": [
      "[2021-06-08 22:18:04,465][fairseq_cli.train][INFO] - begin validation on \"valid\" subset\r\n"
     ]
    },
    {
     "name": "stdout",
     "output_type": "stream",
     "text": [
      "[2021-06-08 22:18:07,000][fairseq.tasks.unpaired_audio_text][INFO] - REF: ɛ n f œ ʂ ə n a d ɵ ʂ ə k t f øː r d eː t s ɔ m h ɛ n d ə p oː ɕ œ r k ɔ n s ɛ t ə n\r\n",
      "[2021-06-08 22:18:07,003][fairseq.tasks.unpaired_audio_text][INFO] - HYP: n ɪ n s j œ r œ j yː b j uː œ yː k ə uː f œ øː j m ə m œ k b ə uː s eː r n v oː s l ɪ ŋ k ɪ l s uː m k n t a\r\n",
      "[2021-06-08 22:18:07,008][fairseq.tasks.unpaired_audio_text][INFO] - LM [REF]: -53.44462585449219, 0.05339602260269112\r\n",
      "[2021-06-08 22:18:07,008][fairseq.tasks.unpaired_audio_text][INFO] - LM [HYP]: -94.66118621826172, 0.013928306318602271\r\n"
     ]
    },
    {
     "name": "stdout",
     "output_type": "stream",
     "text": [
      "[2021-06-08 22:18:07,526][valid][INFO] - {\"epoch\": 5280, \"valid_loss\": \"1.002\", \"valid_ntokens\": \"3039.79\", \"valid_nsentences\": \"144.214\", \"valid_lm_score_sum\": \"-89707.2\", \"valid_num_pred_chars\": \"48357\", \"valid_vocab_seen_pct\": \"0.888502\", \"valid_uer\": \"100.16\", \"valid_weighted_lm_ppl\": \"76.4603\", \"valid_lm_ppl\": \"60.3605\", \"valid_wps\": \"18047.5\", \"valid_wpb\": \"3039.8\", \"valid_bsz\": \"144.2\", \"valid_num_updates\": \"84480\", \"valid_best_weighted_lm_ppl\": \"73.0296\"}\r\n",
      "[2021-06-08 22:18:07,529][fairseq.checkpoint_utils][INFO] - Preparing to save checkpoint for epoch 5280 @ 84480 updates\r\n",
      "[2021-06-08 22:18:07,530][fairseq.trainer][INFO] - Saving checkpoint to /kaggle/working/checkpoint_last.pt\r\n"
     ]
    },
    {
     "name": "stdout",
     "output_type": "stream",
     "text": [
      "[2021-06-08 22:18:07,580][fairseq.trainer][INFO] - Finished saving checkpoint to /kaggle/working/checkpoint_last.pt\r\n",
      "[2021-06-08 22:18:07,580][fairseq.checkpoint_utils][INFO] - Saved checkpoint /kaggle/working/checkpoint_last.pt (epoch 5280 @ 84480 updates, score 76.46028669680102) (writing took 0.050740351998683764 seconds)\r\n",
      "[2021-06-08 22:18:07,581][fairseq_cli.train][INFO] - end of epoch 5280 (average epoch stats below)\r\n",
      "[2021-06-08 22:18:07,584][train][INFO] - {\"epoch\": 5280, \"train_loss\": \"3.674\", \"train_ntokens\": \"145.688\", \"train_nsentences\": \"145.688\", \"train_temp\": \"0.1\", \"train_code_ppl\": \"8.644\", \"train_loss_code_pen\": \"0.334\", \"train_loss_smoothness\": \"2.084\", \"train_loss_dense_g\": \"4.163\", \"train_lm_score_sum\": 0.0, \"train_num_pred_chars\": 0.0, \"train_loss_grad_pen\": \"0.075\", \"train_loss_dense_d\": \"0.028\", \"train_loss_token_d\": \"0.029\", \"train_wps\": \"10.2\", \"train_ups\": \"0.07\", \"train_wpb\": \"145.7\", \"train_bsz\": \"145.7\", \"train_num_updates\": \"84480\", \"train_lr_discriminator\": \"0.0005\", \"train_lr_generator\": \"0.0004\", \"train_gnorm\": \"30.594\", \"train_clip\": \"81.2\", \"train_train_wall\": \"224\", \"train_wall\": \"18009\"}\r\n"
     ]
    },
    {
     "name": "stdout",
     "output_type": "stream",
     "text": [
      "[2021-06-08 22:18:07,644][fairseq.trainer][INFO] - begin training epoch 5281\r\n",
      "[2021-06-08 22:18:07,645][fairseq_cli.train][INFO] - Start iterating over samples\r\n"
     ]
    },
    {
     "name": "stdout",
     "output_type": "stream",
     "text": [
      "[2021-06-08 22:22:20,430][fairseq_cli.train][INFO] - begin validation on \"valid\" subset\r\n"
     ]
    },
    {
     "name": "stdout",
     "output_type": "stream",
     "text": [
      "[2021-06-08 22:22:23,018][fairseq.tasks.unpaired_audio_text][INFO] - REF: ɛ n f œ ʂ ə n a d ɵ ʂ ə k t f øː r d eː t s ɔ m h ɛ n d ə p oː ɕ œ r k ɔ n s ɛ t ə n\r\n",
      "[2021-06-08 22:22:23,021][fairseq.tasks.unpaired_audio_text][INFO] - HYP: n ɪ n s j œ r œ j yː b j uː œ yː k j uː f œ øː j m b ə m œ ɔ b ə uː s eː r n v oː s l ɪ ŋ k ɪ l s uː m a n t a\r\n"
     ]
    },
    {
     "name": "stdout",
     "output_type": "stream",
     "text": [
      "[2021-06-08 22:22:23,025][fairseq.tasks.unpaired_audio_text][INFO] - LM [REF]: -53.44462585449219, 0.05339602260269112\r\n",
      "[2021-06-08 22:22:23,026][fairseq.tasks.unpaired_audio_text][INFO] - LM [HYP]: -93.60733032226562, 0.015843788351335354\r\n"
     ]
    },
    {
     "name": "stdout",
     "output_type": "stream",
     "text": [
      "[2021-06-08 22:22:23,546][valid][INFO] - {\"epoch\": 5281, \"valid_loss\": \"1.004\", \"valid_ntokens\": \"3039.79\", \"valid_nsentences\": \"144.214\", \"valid_lm_score_sum\": \"-89840.4\", \"valid_num_pred_chars\": \"48467\", \"valid_vocab_seen_pct\": \"0.890244\", \"valid_uer\": \"100.374\", \"valid_weighted_lm_ppl\": \"75.9439\", \"valid_lm_ppl\": \"60.1881\", \"valid_wps\": \"17606.9\", \"valid_wpb\": \"3039.8\", \"valid_bsz\": \"144.2\", \"valid_num_updates\": \"84496\", \"valid_best_weighted_lm_ppl\": \"73.0296\"}\r\n",
      "[2021-06-08 22:22:23,549][fairseq.checkpoint_utils][INFO] - Preparing to save checkpoint for epoch 5281 @ 84496 updates\r\n",
      "[2021-06-08 22:22:23,550][fairseq.trainer][INFO] - Saving checkpoint to /kaggle/working/checkpoint_last.pt\r\n"
     ]
    },
    {
     "name": "stdout",
     "output_type": "stream",
     "text": [
      "[2021-06-08 22:22:23,597][fairseq.trainer][INFO] - Finished saving checkpoint to /kaggle/working/checkpoint_last.pt\r\n",
      "[2021-06-08 22:22:23,598][fairseq.checkpoint_utils][INFO] - Saved checkpoint /kaggle/working/checkpoint_last.pt (epoch 5281 @ 84496 updates, score 75.94385899271941) (writing took 0.048636210998665774 seconds)\r\n",
      "[2021-06-08 22:22:23,598][fairseq_cli.train][INFO] - end of epoch 5281 (average epoch stats below)\r\n",
      "[2021-06-08 22:22:23,601][train][INFO] - {\"epoch\": 5281, \"train_loss\": \"3.231\", \"train_ntokens\": \"145.688\", \"train_nsentences\": \"145.688\", \"train_temp\": \"0.1\", \"train_code_ppl\": \"8.735\", \"train_loss_code_pen\": \"0.334\", \"train_loss_smoothness\": \"2.096\", \"train_loss_dense_g\": \"4.157\", \"train_lm_score_sum\": 0.0, \"train_num_pred_chars\": 0.0, \"train_loss_grad_pen\": \"0.063\", \"train_loss_dense_d\": \"0.024\", \"train_loss_token_d\": \"0.023\", \"train_wps\": \"9.1\", \"train_ups\": \"0.06\", \"train_wpb\": \"145.7\", \"train_bsz\": \"145.7\", \"train_num_updates\": \"84496\", \"train_lr_discriminator\": \"0.0005\", \"train_lr_generator\": \"0.0004\", \"train_gnorm\": \"31.054\", \"train_clip\": \"81.2\", \"train_train_wall\": \"252\", \"train_wall\": \"18265\"}\r\n"
     ]
    },
    {
     "name": "stdout",
     "output_type": "stream",
     "text": [
      "[2021-06-08 22:22:23,659][fairseq.trainer][INFO] - begin training epoch 5282\r\n",
      "[2021-06-08 22:22:23,661][fairseq_cli.train][INFO] - Start iterating over samples\r\n"
     ]
    },
    {
     "name": "stdout",
     "output_type": "stream",
     "text": [
      "[2021-06-08 22:23:29,829][train_inner][INFO] - {\"epoch\": 5282, \"update\": 5281.25, \"loss\": \"3.417\", \"ntokens\": \"146.26\", \"nsentences\": \"146.26\", \"temp\": \"0.1\", \"code_ppl\": \"8.644\", \"loss_code_pen\": \"0.328\", \"loss_smoothness\": \"2.065\", \"loss_dense_g\": \"4.164\", \"lm_score_sum\": 0.0, \"num_pred_chars\": 0.0, \"loss_grad_pen\": \"0.08\", \"loss_dense_d\": \"0.027\", \"loss_token_d\": \"0.032\", \"wps\": \"9.6\", \"ups\": \"0.07\", \"wpb\": \"146.3\", \"bsz\": \"146.3\", \"num_updates\": \"84500\", \"lr_discriminator\": \"0.0005\", \"lr_generator\": \"0.0004\", \"gnorm\": \"31.374\", \"clip\": \"81\", \"train_wall\": \"1500\", \"wall\": \"18331\"}\r\n"
     ]
    },
    {
     "name": "stdout",
     "output_type": "stream",
     "text": [
      "[2021-06-08 22:26:32,454][fairseq_cli.train][INFO] - begin validation on \"valid\" subset\r\n"
     ]
    },
    {
     "name": "stdout",
     "output_type": "stream",
     "text": [
      "[2021-06-08 22:26:34,992][fairseq.tasks.unpaired_audio_text][INFO] - REF: ɛ n f œ ʂ ə n a d ɵ ʂ ə k t f øː r d eː t s ɔ m h ɛ n d ə p oː ɕ œ r k ɔ n s ɛ t ə n\r\n",
      "[2021-06-08 22:26:34,995][fairseq.tasks.unpaired_audio_text][INFO] - HYP: n ɪ n s j œ r œ j yː b j uː œ yː k j uː f ɵ j m ə m œ k ə uː s eː r n v oː s l ɪ ŋ k ɪ l s uː m a n t a\r\n",
      "[2021-06-08 22:26:34,999][fairseq.tasks.unpaired_audio_text][INFO] - LM [REF]: -53.44462585449219, 0.05339602260269112\r\n",
      "[2021-06-08 22:26:35,000][fairseq.tasks.unpaired_audio_text][INFO] - LM [HYP]: -87.68739318847656, 0.01623533908266356\r\n"
     ]
    },
    {
     "name": "stdout",
     "output_type": "stream",
     "text": [
      "[2021-06-08 22:26:35,519][valid][INFO] - {\"epoch\": 5282, \"valid_loss\": \"0.999\", \"valid_ntokens\": \"3039.79\", \"valid_nsentences\": \"144.214\", \"valid_lm_score_sum\": \"-89360.8\", \"valid_num_pred_chars\": \"48201\", \"valid_vocab_seen_pct\": \"0.890244\", \"valid_uer\": \"99.8684\", \"valid_weighted_lm_ppl\": \"75.9222\", \"valid_lm_ppl\": \"60.171\", \"valid_wps\": \"17991.4\", \"valid_wpb\": \"3039.8\", \"valid_bsz\": \"144.2\", \"valid_num_updates\": \"84512\", \"valid_best_weighted_lm_ppl\": \"73.0296\"}\r\n",
      "[2021-06-08 22:26:35,522][fairseq.checkpoint_utils][INFO] - Preparing to save checkpoint for epoch 5282 @ 84512 updates\r\n",
      "[2021-06-08 22:26:35,523][fairseq.trainer][INFO] - Saving checkpoint to /kaggle/working/checkpoint_last.pt\r\n"
     ]
    },
    {
     "name": "stdout",
     "output_type": "stream",
     "text": [
      "[2021-06-08 22:26:35,571][fairseq.trainer][INFO] - Finished saving checkpoint to /kaggle/working/checkpoint_last.pt\r\n",
      "[2021-06-08 22:26:35,571][fairseq.checkpoint_utils][INFO] - Saved checkpoint /kaggle/working/checkpoint_last.pt (epoch 5282 @ 84512 updates, score 75.9222167834651) (writing took 0.04924304099768051 seconds)\r\n",
      "[2021-06-08 22:26:35,572][fairseq_cli.train][INFO] - end of epoch 5282 (average epoch stats below)\r\n",
      "[2021-06-08 22:26:35,576][train][INFO] - {\"epoch\": 5282, \"train_loss\": \"2.973\", \"train_ntokens\": \"145.688\", \"train_nsentences\": \"145.688\", \"train_temp\": \"0.1\", \"train_code_ppl\": \"8.54\", \"train_loss_code_pen\": \"0.301\", \"train_loss_smoothness\": \"1.963\", \"train_loss_dense_g\": \"4.181\", \"train_lm_score_sum\": 0.0, \"train_num_pred_chars\": 0.0, \"train_loss_grad_pen\": \"0.073\", \"train_loss_dense_d\": \"0.024\", \"train_loss_token_d\": \"0.025\", \"train_wps\": \"9.3\", \"train_ups\": \"0.06\", \"train_wpb\": \"145.7\", \"train_bsz\": \"145.7\", \"train_num_updates\": \"84512\", \"train_lr_discriminator\": \"0.0005\", \"train_lr_generator\": \"0.0004\", \"train_gnorm\": \"30.033\", \"train_clip\": \"68.8\", \"train_train_wall\": \"248\", \"train_wall\": \"18517\"}\r\n"
     ]
    },
    {
     "name": "stdout",
     "output_type": "stream",
     "text": [
      "[2021-06-08 22:26:35,651][fairseq.trainer][INFO] - begin training epoch 5283\r\n",
      "[2021-06-08 22:26:35,653][fairseq_cli.train][INFO] - Start iterating over samples\r\n"
     ]
    },
    {
     "name": "stdout",
     "output_type": "stream",
     "text": [
      "[2021-06-08 22:30:33,734][fairseq_cli.train][INFO] - begin validation on \"valid\" subset\r\n"
     ]
    },
    {
     "name": "stdout",
     "output_type": "stream",
     "text": [
      "[2021-06-08 22:30:36,245][fairseq.tasks.unpaired_audio_text][INFO] - REF: ɛ n f œ ʂ ə n a d ɵ ʂ ə k t f øː r d eː t s ɔ m h ɛ n d ə p oː ɕ œ r k ɔ n s ɛ t ə n\r\n",
      "[2021-06-08 22:30:36,248][fairseq.tasks.unpaired_audio_text][INFO] - HYP: n ɪ s j œ r œ j b j uː œ yː k ə uː f ɵ j m ə m œ ɔ ə uː s eː r n v oː s l ɪ ŋ k ɪ l s uː m a n t a\r\n",
      "[2021-06-08 22:30:36,252][fairseq.tasks.unpaired_audio_text][INFO] - LM [REF]: -53.44462585449219, 0.05339602260269112\r\n",
      "[2021-06-08 22:30:36,252][fairseq.tasks.unpaired_audio_text][INFO] - LM [HYP]: -85.04777526855469, 0.015505039130880676\r\n"
     ]
    },
    {
     "name": "stdout",
     "output_type": "stream",
     "text": [
      "[2021-06-08 22:30:36,768][valid][INFO] - {\"epoch\": 5283, \"valid_loss\": \"1.001\", \"valid_ntokens\": \"3039.79\", \"valid_nsentences\": \"144.214\", \"valid_lm_score_sum\": \"-89619.9\", \"valid_num_pred_chars\": \"48423\", \"valid_vocab_seen_pct\": \"0.888502\", \"valid_uer\": \"100.089\", \"valid_weighted_lm_ppl\": \"75.7486\", \"valid_lm_ppl\": \"59.7987\", \"valid_wps\": \"18115.2\", \"valid_wpb\": \"3039.8\", \"valid_bsz\": \"144.2\", \"valid_num_updates\": \"84528\", \"valid_best_weighted_lm_ppl\": \"73.0296\"}\r\n"
     ]
    },
    {
     "name": "stdout",
     "output_type": "stream",
     "text": [
      "[2021-06-08 22:30:36,771][fairseq.checkpoint_utils][INFO] - Preparing to save checkpoint for epoch 5283 @ 84528 updates\r\n",
      "[2021-06-08 22:30:36,772][fairseq.trainer][INFO] - Saving checkpoint to /kaggle/working/checkpoint_last.pt\r\n",
      "[2021-06-08 22:30:36,818][fairseq.trainer][INFO] - Finished saving checkpoint to /kaggle/working/checkpoint_last.pt\r\n",
      "[2021-06-08 22:30:36,818][fairseq.checkpoint_utils][INFO] - Saved checkpoint /kaggle/working/checkpoint_last.pt (epoch 5283 @ 84528 updates, score 75.74864963623301) (writing took 0.047613736998755485 seconds)\r\n",
      "[2021-06-08 22:30:36,819][fairseq_cli.train][INFO] - end of epoch 5283 (average epoch stats below)\r\n",
      "[2021-06-08 22:30:36,821][train][INFO] - {\"epoch\": 5283, \"train_loss\": \"3.488\", \"train_ntokens\": \"145.688\", \"train_nsentences\": \"145.688\", \"train_temp\": \"0.1\", \"train_code_ppl\": \"8.578\", \"train_loss_code_pen\": \"0.314\", \"train_loss_smoothness\": \"2.018\", \"train_loss_dense_g\": \"4.243\", \"train_lm_score_sum\": 0.0, \"train_num_pred_chars\": 0.0, \"train_loss_grad_pen\": \"0.113\", \"train_loss_dense_d\": \"0.026\", \"train_loss_token_d\": \"0.029\", \"train_wps\": \"9.7\", \"train_ups\": \"0.07\", \"train_wpb\": \"145.7\", \"train_bsz\": \"145.7\", \"train_num_updates\": \"84528\", \"train_lr_discriminator\": \"0.0005\", \"train_lr_generator\": \"0.0004\", \"train_gnorm\": \"34.307\", \"train_clip\": \"75\", \"train_train_wall\": \"238\", \"train_wall\": \"18758\"}\r\n"
     ]
    },
    {
     "name": "stdout",
     "output_type": "stream",
     "text": [
      "[2021-06-08 22:30:36,878][fairseq.trainer][INFO] - begin training epoch 5284\r\n",
      "[2021-06-08 22:30:36,880][fairseq_cli.train][INFO] - Start iterating over samples\r\n"
     ]
    },
    {
     "name": "stdout",
     "output_type": "stream",
     "text": [
      "[2021-06-08 22:34:33,541][fairseq_cli.train][INFO] - begin validation on \"valid\" subset\r\n"
     ]
    },
    {
     "name": "stdout",
     "output_type": "stream",
     "text": [
      "[2021-06-08 22:34:36,233][fairseq.tasks.unpaired_audio_text][INFO] - REF: ɛ n f œ ʂ ə n a d ɵ ʂ ə k t f øː r d eː t s ɔ m h ɛ n d ə p oː ɕ œ r k ɔ n s ɛ t ə n\r\n",
      "[2021-06-08 22:34:36,236][fairseq.tasks.unpaired_audio_text][INFO] - HYP: n ɪ s j œ r œ j b j uː œ yː k ə uː f œ j m ə m œ k b ə uː s eː r n v oː s l ɪ ŋ k l ɪ l s uː m k n t a\r\n",
      "[2021-06-08 22:34:36,240][fairseq.tasks.unpaired_audio_text][INFO] - LM [REF]: -53.44462585449219, 0.05339602260269112\r\n",
      "[2021-06-08 22:34:36,240][fairseq.tasks.unpaired_audio_text][INFO] - LM [HYP]: -90.70996856689453, 0.014085625961929226\r\n"
     ]
    },
    {
     "name": "stdout",
     "output_type": "stream",
     "text": [
      "[2021-06-08 22:34:36,751][valid][INFO] - {\"epoch\": 5284, \"valid_loss\": \"1.001\", \"valid_ntokens\": \"3039.79\", \"valid_nsentences\": \"144.214\", \"valid_lm_score_sum\": \"-89543.5\", \"valid_num_pred_chars\": \"48410\", \"valid_vocab_seen_pct\": \"0.89547\", \"valid_uer\": \"100.132\", \"valid_weighted_lm_ppl\": \"74.3931\", \"valid_lm_ppl\": \"59.6534\", \"valid_wps\": \"18241\", \"valid_wpb\": \"3039.8\", \"valid_bsz\": \"144.2\", \"valid_num_updates\": \"84544\", \"valid_best_weighted_lm_ppl\": \"73.0296\"}\r\n",
      "[2021-06-08 22:34:36,754][fairseq.checkpoint_utils][INFO] - Preparing to save checkpoint for epoch 5284 @ 84544 updates\r\n",
      "[2021-06-08 22:34:36,755][fairseq.trainer][INFO] - Saving checkpoint to /kaggle/working/checkpoint_last.pt\r\n"
     ]
    },
    {
     "name": "stdout",
     "output_type": "stream",
     "text": [
      "[2021-06-08 22:34:36,801][fairseq.trainer][INFO] - Finished saving checkpoint to /kaggle/working/checkpoint_last.pt\r\n",
      "[2021-06-08 22:34:36,801][fairseq.checkpoint_utils][INFO] - Saved checkpoint /kaggle/working/checkpoint_last.pt (epoch 5284 @ 84544 updates, score 74.3930850859673) (writing took 0.04713059200003045 seconds)\r\n",
      "[2021-06-08 22:34:36,802][fairseq_cli.train][INFO] - end of epoch 5284 (average epoch stats below)\r\n",
      "[2021-06-08 22:34:36,804][train][INFO] - {\"epoch\": 5284, \"train_loss\": \"3.468\", \"train_ntokens\": \"145.688\", \"train_nsentences\": \"145.688\", \"train_temp\": \"0.1\", \"train_code_ppl\": \"8.71\", \"train_loss_code_pen\": \"0.334\", \"train_loss_smoothness\": \"2.087\", \"train_loss_dense_g\": \"4.16\", \"train_lm_score_sum\": 0.0, \"train_num_pred_chars\": 0.0, \"train_loss_grad_pen\": \"0.068\", \"train_loss_dense_d\": \"0.025\", \"train_loss_token_d\": \"0.026\", \"train_wps\": \"9.7\", \"train_ups\": \"0.07\", \"train_wpb\": \"145.7\", \"train_bsz\": \"145.7\", \"train_num_updates\": \"84544\", \"train_lr_discriminator\": \"0.0005\", \"train_lr_generator\": \"0.0004\", \"train_gnorm\": \"29.748\", \"train_clip\": \"68.8\", \"train_train_wall\": \"236\", \"train_wall\": \"18998\"}\r\n"
     ]
    },
    {
     "name": "stdout",
     "output_type": "stream",
     "text": [
      "[2021-06-08 22:34:36,863][fairseq.trainer][INFO] - begin training epoch 5285\r\n",
      "[2021-06-08 22:34:36,865][fairseq_cli.train][INFO] - Start iterating over samples\r\n"
     ]
    },
    {
     "name": "stdout",
     "output_type": "stream",
     "text": [
      "[2021-06-08 22:38:19,027][fairseq_cli.train][INFO] - begin validation on \"valid\" subset\r\n"
     ]
    },
    {
     "name": "stdout",
     "output_type": "stream",
     "text": [
      "[2021-06-08 22:38:21,514][fairseq.tasks.unpaired_audio_text][INFO] - REF: ɛ n f œ ʂ ə n a d ɵ ʂ ə k t f øː r d eː t s ɔ m h ɛ n d ə p oː ɕ œ r k ɔ n s ɛ t ə n\r\n",
      "[2021-06-08 22:38:21,516][fairseq.tasks.unpaired_audio_text][INFO] - HYP: n ɪ s j œ r œ j b j uː œ yː k j uː f œ j m ə m œ k b ə uː s eː r n v oː s l ɪ ŋ k ɪ l s uː m a n t a\r\n",
      "[2021-06-08 22:38:21,520][fairseq.tasks.unpaired_audio_text][INFO] - LM [REF]: -53.44462585449219, 0.05339602260269112\r\n",
      "[2021-06-08 22:38:21,520][fairseq.tasks.unpaired_audio_text][INFO] - LM [HYP]: -85.34066772460938, 0.01667513744974908\r\n"
     ]
    },
    {
     "name": "stdout",
     "output_type": "stream",
     "text": [
      "[2021-06-08 22:38:22,014][valid][INFO] - {\"epoch\": 5285, \"valid_loss\": \"1.003\", \"valid_ntokens\": \"3039.79\", \"valid_nsentences\": \"144.214\", \"valid_lm_score_sum\": \"-89698.4\", \"valid_num_pred_chars\": \"48509\", \"valid_vocab_seen_pct\": \"0.888502\", \"valid_uer\": \"100.256\", \"valid_weighted_lm_ppl\": \"75.4929\", \"valid_lm_ppl\": \"59.5968\", \"valid_wps\": \"18706.4\", \"valid_wpb\": \"3039.8\", \"valid_bsz\": \"144.2\", \"valid_num_updates\": \"84560\", \"valid_best_weighted_lm_ppl\": \"73.0296\"}\r\n",
      "[2021-06-08 22:38:22,017][fairseq.checkpoint_utils][INFO] - Preparing to save checkpoint for epoch 5285 @ 84560 updates\r\n",
      "[2021-06-08 22:38:22,018][fairseq.trainer][INFO] - Saving checkpoint to /kaggle/working/checkpoint_last.pt\r\n"
     ]
    },
    {
     "name": "stdout",
     "output_type": "stream",
     "text": [
      "[2021-06-08 22:38:22,062][fairseq.trainer][INFO] - Finished saving checkpoint to /kaggle/working/checkpoint_last.pt\r\n",
      "[2021-06-08 22:38:22,063][fairseq.checkpoint_utils][INFO] - Saved checkpoint /kaggle/working/checkpoint_last.pt (epoch 5285 @ 84560 updates, score 75.49289332059843) (writing took 0.04527082899949164 seconds)\r\n",
      "[2021-06-08 22:38:22,063][fairseq_cli.train][INFO] - end of epoch 5285 (average epoch stats below)\r\n",
      "[2021-06-08 22:38:22,066][train][INFO] - {\"epoch\": 5285, \"train_loss\": \"3.676\", \"train_ntokens\": \"145.688\", \"train_nsentences\": \"145.688\", \"train_temp\": \"0.1\", \"train_code_ppl\": \"8.67\", \"train_loss_code_pen\": \"0.33\", \"train_loss_smoothness\": \"2.076\", \"train_loss_dense_g\": \"4.172\", \"train_lm_score_sum\": 0.0, \"train_num_pred_chars\": 0.0, \"train_loss_grad_pen\": \"0.094\", \"train_loss_dense_d\": \"0.023\", \"train_loss_token_d\": \"0.025\", \"train_wps\": \"10.3\", \"train_ups\": \"0.07\", \"train_wpb\": \"145.7\", \"train_bsz\": \"145.7\", \"train_num_updates\": \"84560\", \"train_lr_discriminator\": \"0.0005\", \"train_lr_generator\": \"0.0004\", \"train_gnorm\": \"30.805\", \"train_clip\": \"75\", \"train_train_wall\": \"222\", \"train_wall\": \"19223\"}\r\n"
     ]
    },
    {
     "name": "stdout",
     "output_type": "stream",
     "text": [
      "[2021-06-08 22:38:22,122][fairseq.trainer][INFO] - begin training epoch 5286\r\n",
      "[2021-06-08 22:38:22,124][fairseq_cli.train][INFO] - Start iterating over samples\r\n"
     ]
    },
    {
     "name": "stdout",
     "output_type": "stream",
     "text": [
      "[2021-06-08 22:42:40,402][fairseq_cli.train][INFO] - begin validation on \"valid\" subset\r\n"
     ]
    },
    {
     "name": "stdout",
     "output_type": "stream",
     "text": [
      "[2021-06-08 22:42:42,899][fairseq.tasks.unpaired_audio_text][INFO] - REF: ɛ n f œ ʂ ə n a d ɵ ʂ ə k t f øː r d eː t s ɔ m h ɛ n d ə p oː ɕ œ r k ɔ n s ɛ t ə n\r\n",
      "[2021-06-08 22:42:42,902][fairseq.tasks.unpaired_audio_text][INFO] - HYP: n ɪ s j œ r œ j yː b j uː œ yː k j uː ɡ f œ j m b ə m œ k b uː s eː r n v oː s l ɪ ŋ k ɪ l s uː m a n t a\r\n",
      "[2021-06-08 22:42:42,906][fairseq.tasks.unpaired_audio_text][INFO] - LM [REF]: -53.44462585449219, 0.05339602260269112\r\n",
      "[2021-06-08 22:42:42,906][fairseq.tasks.unpaired_audio_text][INFO] - LM [HYP]: -89.25860595703125, 0.016399397051803138\r\n"
     ]
    },
    {
     "name": "stdout",
     "output_type": "stream",
     "text": [
      "[2021-06-08 22:42:43,409][valid][INFO] - {\"epoch\": 5286, \"valid_loss\": \"1.001\", \"valid_ntokens\": \"3039.79\", \"valid_nsentences\": \"144.214\", \"valid_lm_score_sum\": \"-89709.1\", \"valid_num_pred_chars\": \"48469\", \"valid_vocab_seen_pct\": \"0.888502\", \"valid_uer\": \"100.115\", \"valid_weighted_lm_ppl\": \"75.7745\", \"valid_lm_ppl\": \"59.8191\", \"valid_wps\": \"18306.8\", \"valid_wpb\": \"3039.8\", \"valid_bsz\": \"144.2\", \"valid_num_updates\": \"84576\", \"valid_best_weighted_lm_ppl\": \"73.0296\"}\r\n",
      "[2021-06-08 22:42:43,412][fairseq.checkpoint_utils][INFO] - Preparing to save checkpoint for epoch 5286 @ 84576 updates\r\n",
      "[2021-06-08 22:42:43,413][fairseq.trainer][INFO] - Saving checkpoint to /kaggle/working/checkpoint_last.pt\r\n"
     ]
    },
    {
     "name": "stdout",
     "output_type": "stream",
     "text": [
      "[2021-06-08 22:42:43,458][fairseq.trainer][INFO] - Finished saving checkpoint to /kaggle/working/checkpoint_last.pt\r\n",
      "[2021-06-08 22:42:43,458][fairseq.checkpoint_utils][INFO] - Saved checkpoint /kaggle/working/checkpoint_last.pt (epoch 5286 @ 84576 updates, score 75.7745271992808) (writing took 0.046080604999588104 seconds)\r\n",
      "[2021-06-08 22:42:43,459][fairseq_cli.train][INFO] - end of epoch 5286 (average epoch stats below)\r\n",
      "[2021-06-08 22:42:43,462][train][INFO] - {\"epoch\": 5286, \"train_loss\": \"3.043\", \"train_ntokens\": \"145.688\", \"train_nsentences\": \"145.688\", \"train_temp\": \"0.1\", \"train_code_ppl\": \"8.528\", \"train_loss_code_pen\": \"0.318\", \"train_loss_smoothness\": \"2.053\", \"train_loss_dense_g\": \"4.165\", \"train_lm_score_sum\": 0.0, \"train_num_pred_chars\": 0.0, \"train_loss_grad_pen\": \"0.128\", \"train_loss_dense_d\": \"0.026\", \"train_loss_token_d\": \"0.022\", \"train_wps\": \"8.9\", \"train_ups\": \"0.06\", \"train_wpb\": \"145.7\", \"train_bsz\": \"145.7\", \"train_num_updates\": \"84576\", \"train_lr_discriminator\": \"0.0005\", \"train_lr_generator\": \"0.0004\", \"train_gnorm\": \"32.129\", \"train_clip\": \"87.5\", \"train_train_wall\": \"258\", \"train_wall\": \"19485\"}\r\n"
     ]
    },
    {
     "name": "stdout",
     "output_type": "stream",
     "text": [
      "[2021-06-08 22:42:43,521][fairseq.trainer][INFO] - begin training epoch 5287\r\n",
      "[2021-06-08 22:42:43,522][fairseq_cli.train][INFO] - Start iterating over samples\r\n"
     ]
    },
    {
     "name": "stdout",
     "output_type": "stream",
     "text": [
      "[2021-06-08 22:46:25,788][fairseq_cli.train][INFO] - begin validation on \"valid\" subset\r\n"
     ]
    },
    {
     "name": "stdout",
     "output_type": "stream",
     "text": [
      "[2021-06-08 22:46:28,281][fairseq.tasks.unpaired_audio_text][INFO] - REF: ɛ n f œ ʂ ə n a d ɵ ʂ ə k t f øː r d eː t s ɔ m h ɛ n d ə p oː ɕ œ r k ɔ n s ɛ t ə n\r\n",
      "[2021-06-08 22:46:28,283][fairseq.tasks.unpaired_audio_text][INFO] - HYP: n ɪ n s j œ r œ j b j uː yː k j uː f œ øː j m ə m œ k b uː s eː r n v oː s l ɪ ŋ k ɪ l s uː m a n t a\r\n",
      "[2021-06-08 22:46:28,287][fairseq.tasks.unpaired_audio_text][INFO] - LM [REF]: -53.44462585449219, 0.05339602260269112\r\n",
      "[2021-06-08 22:46:28,288][fairseq.tasks.unpaired_audio_text][INFO] - LM [HYP]: -84.30216979980469, 0.017526887369920818\r\n"
     ]
    },
    {
     "name": "stdout",
     "output_type": "stream",
     "text": [
      "[2021-06-08 22:46:28,793][valid][INFO] - {\"epoch\": 5287, \"valid_loss\": \"1\", \"valid_ntokens\": \"3039.79\", \"valid_nsentences\": \"144.214\", \"valid_lm_score_sum\": \"-89477.7\", \"valid_num_pred_chars\": \"48439\", \"valid_vocab_seen_pct\": \"0.888502\", \"valid_uer\": \"99.9742\", \"valid_weighted_lm_ppl\": \"75.1613\", \"valid_lm_ppl\": \"59.335\", \"valid_wps\": \"18121.2\", \"valid_wpb\": \"3039.8\", \"valid_bsz\": \"144.2\", \"valid_num_updates\": \"84592\", \"valid_best_weighted_lm_ppl\": \"73.0296\"}\r\n",
      "[2021-06-08 22:46:28,796][fairseq.checkpoint_utils][INFO] - Preparing to save checkpoint for epoch 5287 @ 84592 updates\r\n",
      "[2021-06-08 22:46:28,797][fairseq.trainer][INFO] - Saving checkpoint to /kaggle/working/checkpoint_last.pt\r\n"
     ]
    },
    {
     "name": "stdout",
     "output_type": "stream",
     "text": [
      "[2021-06-08 22:46:28,843][fairseq.trainer][INFO] - Finished saving checkpoint to /kaggle/working/checkpoint_last.pt\r\n",
      "[2021-06-08 22:46:28,843][fairseq.checkpoint_utils][INFO] - Saved checkpoint /kaggle/working/checkpoint_last.pt (epoch 5287 @ 84592 updates, score 75.16131355485311) (writing took 0.046808996998152 seconds)\r\n",
      "[2021-06-08 22:46:28,843][fairseq_cli.train][INFO] - end of epoch 5287 (average epoch stats below)\r\n",
      "[2021-06-08 22:46:28,846][train][INFO] - {\"epoch\": 5287, \"train_loss\": \"3.627\", \"train_ntokens\": \"145.688\", \"train_nsentences\": \"145.688\", \"train_temp\": \"0.1\", \"train_code_ppl\": \"8.323\", \"train_loss_code_pen\": \"0.3\", \"train_loss_smoothness\": \"1.982\", \"train_loss_dense_g\": \"4.231\", \"train_lm_score_sum\": 0.0, \"train_num_pred_chars\": 0.0, \"train_loss_grad_pen\": \"0.061\", \"train_loss_dense_d\": \"0.023\", \"train_loss_token_d\": \"0.026\", \"train_wps\": \"10.3\", \"train_ups\": \"0.07\", \"train_wpb\": \"145.7\", \"train_bsz\": \"145.7\", \"train_num_updates\": \"84592\", \"train_lr_discriminator\": \"0.0005\", \"train_lr_generator\": \"0.0004\", \"train_gnorm\": \"29.933\", \"train_clip\": \"68.8\", \"train_train_wall\": \"222\", \"train_wall\": \"19710\"}\r\n"
     ]
    },
    {
     "name": "stdout",
     "output_type": "stream",
     "text": [
      "[2021-06-08 22:46:28,902][fairseq.trainer][INFO] - begin training epoch 5288\r\n",
      "[2021-06-08 22:46:28,904][fairseq_cli.train][INFO] - Start iterating over samples\r\n"
     ]
    },
    {
     "name": "stdout",
     "output_type": "stream",
     "text": [
      "[2021-06-08 22:48:37,895][train_inner][INFO] - {\"epoch\": 5288, \"update\": 5287.5, \"loss\": \"3.322\", \"ntokens\": \"143.97\", \"nsentences\": \"143.97\", \"temp\": \"0.1\", \"code_ppl\": \"8.576\", \"loss_code_pen\": \"0.316\", \"loss_smoothness\": \"2.027\", \"loss_dense_g\": \"4.187\", \"lm_score_sum\": 0.0, \"num_pred_chars\": 0.0, \"loss_grad_pen\": \"0.089\", \"loss_dense_d\": \"0.025\", \"loss_token_d\": \"0.026\", \"wps\": \"9.5\", \"ups\": \"0.07\", \"wpb\": \"144\", \"bsz\": \"144\", \"num_updates\": \"84600\", \"lr_discriminator\": \"0.0005\", \"lr_generator\": \"0.0004\", \"gnorm\": \"31.098\", \"clip\": \"75\", \"train_wall\": \"1486\", \"wall\": \"19839\"}\r\n"
     ]
    },
    {
     "name": "stdout",
     "output_type": "stream",
     "text": [
      "[2021-06-08 22:50:51,515][fairseq_cli.train][INFO] - begin validation on \"valid\" subset\r\n"
     ]
    },
    {
     "name": "stdout",
     "output_type": "stream",
     "text": [
      "[2021-06-08 22:50:53,971][fairseq.tasks.unpaired_audio_text][INFO] - REF: ɛ n f œ ʂ ə n a d ɵ ʂ ə k t f øː r d eː t s ɔ m h ɛ n d ə p oː ɕ œ r k ɔ n s ɛ t ə n\r\n",
      "[2021-06-08 22:50:53,974][fairseq.tasks.unpaired_audio_text][INFO] - HYP: n ɪ n s j œ r œ j b j uː œ yː k uː f œ j m ə m œ k b uː s eː r n v oː s l ɪ ŋ k ɪ l s uː m a n t a\r\n",
      "[2021-06-08 22:50:53,978][fairseq.tasks.unpaired_audio_text][INFO] - LM [REF]: -53.44462585449219, 0.05339602260269112\r\n",
      "[2021-06-08 22:50:53,978][fairseq.tasks.unpaired_audio_text][INFO] - LM [HYP]: -82.35171508789062, 0.01769440034536442\r\n"
     ]
    },
    {
     "name": "stdout",
     "output_type": "stream",
     "text": [
      "[2021-06-08 22:50:54,488][valid][INFO] - {\"epoch\": 5288, \"valid_loss\": \"0.998\", \"valid_ntokens\": \"3039.79\", \"valid_nsentences\": \"144.214\", \"valid_lm_score_sum\": \"-89386.3\", \"valid_num_pred_chars\": \"48342\", \"valid_vocab_seen_pct\": \"0.881533\", \"valid_uer\": \"99.8449\", \"valid_weighted_lm_ppl\": \"76.6362\", \"valid_lm_ppl\": \"59.554\", \"valid_wps\": \"18607.4\", \"valid_wpb\": \"3039.8\", \"valid_bsz\": \"144.2\", \"valid_num_updates\": \"84608\", \"valid_best_weighted_lm_ppl\": \"73.0296\"}\r\n",
      "[2021-06-08 22:50:54,492][fairseq.checkpoint_utils][INFO] - Preparing to save checkpoint for epoch 5288 @ 84608 updates\r\n",
      "[2021-06-08 22:50:54,493][fairseq.trainer][INFO] - Saving checkpoint to /kaggle/working/checkpoint_last.pt\r\n"
     ]
    },
    {
     "name": "stdout",
     "output_type": "stream",
     "text": [
      "[2021-06-08 22:50:54,540][fairseq.trainer][INFO] - Finished saving checkpoint to /kaggle/working/checkpoint_last.pt\r\n",
      "[2021-06-08 22:50:54,540][fairseq.checkpoint_utils][INFO] - Saved checkpoint /kaggle/working/checkpoint_last.pt (epoch 5288 @ 84608 updates, score 76.63621568739758) (writing took 0.04835005700078909 seconds)\r\n",
      "[2021-06-08 22:50:54,540][fairseq_cli.train][INFO] - end of epoch 5288 (average epoch stats below)\r\n",
      "[2021-06-08 22:50:54,544][train][INFO] - {\"epoch\": 5288, \"train_loss\": \"2.966\", \"train_ntokens\": \"145.688\", \"train_nsentences\": \"145.688\", \"train_temp\": \"0.1\", \"train_code_ppl\": \"8.541\", \"train_loss_code_pen\": \"0.329\", \"train_loss_smoothness\": \"2.041\", \"train_loss_dense_g\": \"4.084\", \"train_lm_score_sum\": 0.0, \"train_num_pred_chars\": 0.0, \"train_loss_grad_pen\": \"0.056\", \"train_loss_dense_d\": \"0.025\", \"train_loss_token_d\": \"0.021\", \"train_wps\": \"8.8\", \"train_ups\": \"0.06\", \"train_wpb\": \"145.7\", \"train_bsz\": \"145.7\", \"train_num_updates\": \"84608\", \"train_lr_discriminator\": \"0.0005\", \"train_lr_generator\": \"0.0004\", \"train_gnorm\": \"29.042\", \"train_clip\": \"68.8\", \"train_train_wall\": \"262\", \"train_wall\": \"19976\"}\r\n"
     ]
    },
    {
     "name": "stdout",
     "output_type": "stream",
     "text": [
      "[2021-06-08 22:50:54,602][fairseq.trainer][INFO] - begin training epoch 5289\r\n",
      "[2021-06-08 22:50:54,604][fairseq_cli.train][INFO] - Start iterating over samples\r\n"
     ]
    },
    {
     "name": "stdout",
     "output_type": "stream",
     "text": [
      "[2021-06-08 22:55:12,897][fairseq_cli.train][INFO] - begin validation on \"valid\" subset\r\n"
     ]
    },
    {
     "name": "stdout",
     "output_type": "stream",
     "text": [
      "[2021-06-08 22:55:15,417][fairseq.tasks.unpaired_audio_text][INFO] - REF: ɛ n f œ ʂ ə n a d ɵ ʂ ə k t f øː r d eː t s ɔ m h ɛ n d ə p oː ɕ œ r k ɔ n s ɛ t ə n\r\n",
      "[2021-06-08 22:55:15,419][fairseq.tasks.unpaired_audio_text][INFO] - HYP: n ɪ n s j œ r œ b j uː œ yː k j uː ɡ f œ j m ə m œ k b uː s eː r n v oː s l ɪ ŋ k ɪ l s uː m a n t a\r\n",
      "[2021-06-08 22:55:15,423][fairseq.tasks.unpaired_audio_text][INFO] - LM [REF]: -53.44462585449219, 0.05339602260269112\r\n",
      "[2021-06-08 22:55:15,424][fairseq.tasks.unpaired_audio_text][INFO] - LM [HYP]: -84.16714477539062, 0.017640781353057213\r\n"
     ]
    },
    {
     "name": "stdout",
     "output_type": "stream",
     "text": [
      "[2021-06-08 22:55:15,924][valid][INFO] - {\"epoch\": 5289, \"valid_loss\": \"0.999\", \"valid_ntokens\": \"3039.79\", \"valid_nsentences\": \"144.214\", \"valid_lm_score_sum\": \"-89312.6\", \"valid_num_pred_chars\": \"48259\", \"valid_vocab_seen_pct\": \"0.888502\", \"valid_uer\": \"99.8661\", \"valid_weighted_lm_ppl\": \"75.6934\", \"valid_lm_ppl\": \"59.7551\", \"valid_wps\": \"18178\", \"valid_wpb\": \"3039.8\", \"valid_bsz\": \"144.2\", \"valid_num_updates\": \"84624\", \"valid_best_weighted_lm_ppl\": \"73.0296\"}\r\n",
      "[2021-06-08 22:55:15,927][fairseq.checkpoint_utils][INFO] - Preparing to save checkpoint for epoch 5289 @ 84624 updates\r\n",
      "[2021-06-08 22:55:15,928][fairseq.trainer][INFO] - Saving checkpoint to /kaggle/working/checkpoint_last.pt\r\n"
     ]
    },
    {
     "name": "stdout",
     "output_type": "stream",
     "text": [
      "[2021-06-08 22:55:15,973][fairseq.trainer][INFO] - Finished saving checkpoint to /kaggle/working/checkpoint_last.pt\r\n",
      "[2021-06-08 22:55:15,973][fairseq.checkpoint_utils][INFO] - Saved checkpoint /kaggle/working/checkpoint_last.pt (epoch 5289 @ 84624 updates, score 75.6934437518914) (writing took 0.046170200999767985 seconds)\r\n",
      "[2021-06-08 22:55:15,974][fairseq_cli.train][INFO] - end of epoch 5289 (average epoch stats below)\r\n",
      "[2021-06-08 22:55:15,977][train][INFO] - {\"epoch\": 5289, \"train_loss\": \"2.945\", \"train_ntokens\": \"145.688\", \"train_nsentences\": \"145.688\", \"train_temp\": \"0.1\", \"train_code_ppl\": \"8.634\", \"train_loss_code_pen\": \"0.309\", \"train_loss_smoothness\": \"1.996\", \"train_loss_dense_g\": \"4.083\", \"train_lm_score_sum\": 0.0, \"train_num_pred_chars\": 0.0, \"train_loss_grad_pen\": \"0.069\", \"train_loss_dense_d\": \"0.025\", \"train_loss_token_d\": \"0.024\", \"train_wps\": \"8.9\", \"train_ups\": \"0.06\", \"train_wpb\": \"145.7\", \"train_bsz\": \"145.7\", \"train_num_updates\": \"84624\", \"train_lr_discriminator\": \"0.0005\", \"train_lr_generator\": \"0.0004\", \"train_gnorm\": \"30.12\", \"train_clip\": \"75\", \"train_train_wall\": \"258\", \"train_wall\": \"20237\"}\r\n"
     ]
    },
    {
     "name": "stdout",
     "output_type": "stream",
     "text": [
      "[2021-06-08 22:55:16,034][fairseq.trainer][INFO] - begin training epoch 5290\r\n",
      "[2021-06-08 22:55:16,036][fairseq_cli.train][INFO] - Start iterating over samples\r\n"
     ]
    },
    {
     "name": "stdout",
     "output_type": "stream",
     "text": [
      "[2021-06-08 22:59:23,859][fairseq_cli.train][INFO] - begin validation on \"valid\" subset\r\n"
     ]
    },
    {
     "name": "stdout",
     "output_type": "stream",
     "text": [
      "[2021-06-08 22:59:26,362][fairseq.tasks.unpaired_audio_text][INFO] - REF: ɛ n f œ ʂ ə n a d ɵ ʂ ə k t f øː r d eː t s ɔ m h ɛ n d ə p oː ɕ œ r k ɔ n s ɛ t ə n\r\n",
      "[2021-06-08 22:59:26,364][fairseq.tasks.unpaired_audio_text][INFO] - HYP: n ɪ n s j œ r œ j yː b j uː œ yː k j uː f œ øː j m ə m œ k b ə uː s eː r n v oː s l ɪ ŋ k ɪ l s uː m a n t a\r\n",
      "[2021-06-08 22:59:26,369][fairseq.tasks.unpaired_audio_text][INFO] - LM [REF]: -53.44462585449219, 0.05339602260269112\r\n",
      "[2021-06-08 22:59:26,369][fairseq.tasks.unpaired_audio_text][INFO] - LM [HYP]: -91.04318237304688, 0.016399838123420427\r\n"
     ]
    },
    {
     "name": "stdout",
     "output_type": "stream",
     "text": [
      "[2021-06-08 22:59:26,871][valid][INFO] - {\"epoch\": 5290, \"valid_loss\": \"1\", \"valid_ntokens\": \"3039.79\", \"valid_nsentences\": \"144.214\", \"valid_lm_score_sum\": \"-89496.9\", \"valid_num_pred_chars\": \"48411\", \"valid_vocab_seen_pct\": \"0.874564\", \"valid_uer\": \"100.049\", \"valid_weighted_lm_ppl\": \"77.8201\", \"valid_lm_ppl\": \"59.5217\", \"valid_wps\": \"18556.6\", \"valid_wpb\": \"3039.8\", \"valid_bsz\": \"144.2\", \"valid_num_updates\": \"84640\", \"valid_best_weighted_lm_ppl\": \"73.0296\"}\r\n",
      "[2021-06-08 22:59:26,874][fairseq.checkpoint_utils][INFO] - Preparing to save checkpoint for epoch 5290 @ 84640 updates\r\n",
      "[2021-06-08 22:59:26,875][fairseq.trainer][INFO] - Saving checkpoint to /kaggle/working/checkpoint_last.pt\r\n"
     ]
    },
    {
     "name": "stdout",
     "output_type": "stream",
     "text": [
      "[2021-06-08 22:59:26,922][fairseq.trainer][INFO] - Finished saving checkpoint to /kaggle/working/checkpoint_last.pt\r\n",
      "[2021-06-08 22:59:26,922][fairseq.checkpoint_utils][INFO] - Saved checkpoint /kaggle/working/checkpoint_last.pt (epoch 5290 @ 84640 updates, score 77.82010120887351) (writing took 0.04848600799959968 seconds)\r\n",
      "[2021-06-08 22:59:26,923][fairseq_cli.train][INFO] - end of epoch 5290 (average epoch stats below)\r\n",
      "[2021-06-08 22:59:26,926][train][INFO] - {\"epoch\": 5290, \"train_loss\": \"3.273\", \"train_ntokens\": \"145.688\", \"train_nsentences\": \"145.688\", \"train_temp\": \"0.1\", \"train_code_ppl\": \"8.564\", \"train_loss_code_pen\": \"0.329\", \"train_loss_smoothness\": \"2.072\", \"train_loss_dense_g\": \"4.261\", \"train_lm_score_sum\": 0.0, \"train_num_pred_chars\": 0.0, \"train_loss_grad_pen\": \"0.079\", \"train_loss_dense_d\": \"0.022\", \"train_loss_token_d\": \"0.023\", \"train_wps\": \"9.3\", \"train_ups\": \"0.06\", \"train_wpb\": \"145.7\", \"train_bsz\": \"145.7\", \"train_num_updates\": \"84640\", \"train_lr_discriminator\": \"0.0005\", \"train_lr_generator\": \"0.0004\", \"train_gnorm\": \"30.674\", \"train_clip\": \"75\", \"train_train_wall\": \"247\", \"train_wall\": \"20488\"}\r\n"
     ]
    },
    {
     "name": "stdout",
     "output_type": "stream",
     "text": [
      "[2021-06-08 22:59:26,981][fairseq.trainer][INFO] - begin training epoch 5291\r\n",
      "[2021-06-08 22:59:26,982][fairseq_cli.train][INFO] - Start iterating over samples\r\n"
     ]
    },
    {
     "name": "stdout",
     "output_type": "stream",
     "text": [
      "[2021-06-08 23:03:40,862][fairseq_cli.train][INFO] - begin validation on \"valid\" subset\r\n"
     ]
    },
    {
     "name": "stdout",
     "output_type": "stream",
     "text": [
      "[2021-06-08 23:03:43,424][fairseq.tasks.unpaired_audio_text][INFO] - REF: ɛ n f œ ʂ ə n a d ɵ ʂ ə k t f øː r d eː t s ɔ m h ɛ n d ə p oː ɕ œ r k ɔ n s ɛ t ə n\r\n",
      "[2021-06-08 23:03:43,427][fairseq.tasks.unpaired_audio_text][INFO] - HYP: n ɪ n s j œ r œ j b j uː yː œ yː k yː uː ɡ f œ j m ə m œ k b ə uː s eː r n v oː s l ɪ ŋ k ɪ l s uː m a t a\r\n",
      "[2021-06-08 23:03:43,431][fairseq.tasks.unpaired_audio_text][INFO] - LM [REF]: -53.44462585449219, 0.05339602260269112\r\n",
      "[2021-06-08 23:03:43,431][fairseq.tasks.unpaired_audio_text][INFO] - LM [HYP]: -91.29049682617188, 0.014934478551110908\r\n"
     ]
    },
    {
     "name": "stdout",
     "output_type": "stream",
     "text": [
      "[2021-06-08 23:03:43,941][valid][INFO] - {\"epoch\": 5291, \"valid_loss\": \"1.001\", \"valid_ntokens\": \"3039.79\", \"valid_nsentences\": \"144.214\", \"valid_lm_score_sum\": \"-89615.2\", \"valid_num_pred_chars\": \"48451\", \"valid_vocab_seen_pct\": \"0.879791\", \"valid_uer\": \"100.12\", \"valid_weighted_lm_ppl\": \"77.0645\", \"valid_lm_ppl\": \"59.6504\", \"valid_wps\": \"17983.7\", \"valid_wpb\": \"3039.8\", \"valid_bsz\": \"144.2\", \"valid_num_updates\": \"84656\", \"valid_best_weighted_lm_ppl\": \"73.0296\"}\r\n",
      "[2021-06-08 23:03:43,944][fairseq.checkpoint_utils][INFO] - Preparing to save checkpoint for epoch 5291 @ 84656 updates\r\n",
      "[2021-06-08 23:03:43,945][fairseq.trainer][INFO] - Saving checkpoint to /kaggle/working/checkpoint_last.pt\r\n"
     ]
    },
    {
     "name": "stdout",
     "output_type": "stream",
     "text": [
      "[2021-06-08 23:03:43,991][fairseq.trainer][INFO] - Finished saving checkpoint to /kaggle/working/checkpoint_last.pt\r\n",
      "[2021-06-08 23:03:43,991][fairseq.checkpoint_utils][INFO] - Saved checkpoint /kaggle/working/checkpoint_last.pt (epoch 5291 @ 84656 updates, score 77.06448409402795) (writing took 0.046598008997534635 seconds)\r\n",
      "[2021-06-08 23:03:43,991][fairseq_cli.train][INFO] - end of epoch 5291 (average epoch stats below)\r\n",
      "[2021-06-08 23:03:43,994][train][INFO] - {\"epoch\": 5291, \"train_loss\": \"3.038\", \"train_ntokens\": \"145.688\", \"train_nsentences\": \"145.688\", \"train_temp\": \"0.1\", \"train_code_ppl\": \"8.738\", \"train_loss_code_pen\": \"0.313\", \"train_loss_smoothness\": \"2.02\", \"train_loss_dense_g\": \"4.247\", \"train_lm_score_sum\": 0.0, \"train_num_pred_chars\": 0.0, \"train_loss_grad_pen\": \"0.081\", \"train_loss_dense_d\": \"0.023\", \"train_loss_token_d\": \"0.027\", \"train_wps\": \"9.1\", \"train_ups\": \"0.06\", \"train_wpb\": \"145.7\", \"train_bsz\": \"145.7\", \"train_num_updates\": \"84656\", \"train_lr_discriminator\": \"0.0005\", \"train_lr_generator\": \"0.0004\", \"train_gnorm\": \"30.431\", \"train_clip\": \"62.5\", \"train_train_wall\": \"254\", \"train_wall\": \"20745\"}\r\n"
     ]
    },
    {
     "name": "stdout",
     "output_type": "stream",
     "text": [
      "[2021-06-08 23:03:44,052][fairseq.trainer][INFO] - begin training epoch 5292\r\n",
      "[2021-06-08 23:03:44,054][fairseq_cli.train][INFO] - Start iterating over samples\r\n"
     ]
    },
    {
     "name": "stdout",
     "output_type": "stream",
     "text": [
      "[2021-06-08 23:07:51,409][fairseq_cli.train][INFO] - begin validation on \"valid\" subset\r\n"
     ]
    },
    {
     "name": "stdout",
     "output_type": "stream",
     "text": [
      "[2021-06-08 23:07:53,919][fairseq.tasks.unpaired_audio_text][INFO] - REF: ɛ n f œ ʂ ə n a d ɵ ʂ ə k t f øː r d eː t s ɔ m h ɛ n d ə p oː ɕ œ r k ɔ n s ɛ t ə n\r\n",
      "[2021-06-08 23:07:53,921][fairseq.tasks.unpaired_audio_text][INFO] - HYP: n ɪ n s j œ r œ j yː b j uː œ yː k j uː ɡ f œ øː j m ə m œ k b ə uː s eː r n v oː s l ɪ ŋ k ɪ l s uː m k n t a\r\n",
      "[2021-06-08 23:07:53,926][fairseq.tasks.unpaired_audio_text][INFO] - LM [REF]: -53.44462585449219, 0.05339602260269112\r\n",
      "[2021-06-08 23:07:53,926][fairseq.tasks.unpaired_audio_text][INFO] - LM [HYP]: -95.93428802490234, 0.014292554129599155\r\n"
     ]
    },
    {
     "name": "stdout",
     "output_type": "stream",
     "text": [
      "[2021-06-08 23:07:54,444][valid][INFO] - {\"epoch\": 5292, \"valid_loss\": \"1.001\", \"valid_ntokens\": \"3039.79\", \"valid_nsentences\": \"144.214\", \"valid_lm_score_sum\": \"-89520.4\", \"valid_num_pred_chars\": \"48461\", \"valid_vocab_seen_pct\": \"0.879791\", \"valid_uer\": \"100.11\", \"valid_weighted_lm_ppl\": \"76.6698\", \"valid_lm_ppl\": \"59.3449\", \"valid_wps\": \"18255.3\", \"valid_wpb\": \"3039.8\", \"valid_bsz\": \"144.2\", \"valid_num_updates\": \"84672\", \"valid_best_weighted_lm_ppl\": \"73.0296\"}\r\n",
      "[2021-06-08 23:07:54,448][fairseq.checkpoint_utils][INFO] - Preparing to save checkpoint for epoch 5292 @ 84672 updates\r\n",
      "[2021-06-08 23:07:54,449][fairseq.trainer][INFO] - Saving checkpoint to /kaggle/working/checkpoint_last.pt\r\n"
     ]
    },
    {
     "name": "stdout",
     "output_type": "stream",
     "text": [
      "[2021-06-08 23:07:54,497][fairseq.trainer][INFO] - Finished saving checkpoint to /kaggle/working/checkpoint_last.pt\r\n",
      "[2021-06-08 23:07:54,497][fairseq.checkpoint_utils][INFO] - Saved checkpoint /kaggle/working/checkpoint_last.pt (epoch 5292 @ 84672 updates, score 76.66978229434724) (writing took 0.04920035400209599 seconds)\r\n",
      "[2021-06-08 23:07:54,497][fairseq_cli.train][INFO] - end of epoch 5292 (average epoch stats below)\r\n",
      "[2021-06-08 23:07:54,500][train][INFO] - {\"epoch\": 5292, \"train_loss\": \"3.38\", \"train_ntokens\": \"145.688\", \"train_nsentences\": \"145.688\", \"train_temp\": \"0.1\", \"train_code_ppl\": \"8.66\", \"train_loss_code_pen\": \"0.33\", \"train_loss_smoothness\": \"2.095\", \"train_loss_dense_g\": \"4.466\", \"train_lm_score_sum\": 0.0, \"train_num_pred_chars\": 0.0, \"train_loss_grad_pen\": \"0.068\", \"train_loss_dense_d\": \"0.025\", \"train_loss_token_d\": \"0.023\", \"train_wps\": \"9.3\", \"train_ups\": \"0.06\", \"train_wpb\": \"145.7\", \"train_bsz\": \"145.7\", \"train_num_updates\": \"84672\", \"train_lr_discriminator\": \"0.0005\", \"train_lr_generator\": \"0.0004\", \"train_gnorm\": \"30.244\", \"train_clip\": \"68.8\", \"train_train_wall\": \"247\", \"train_wall\": \"20996\"}\r\n"
     ]
    },
    {
     "name": "stdout",
     "output_type": "stream",
     "text": [
      "[2021-06-08 23:07:54,557][fairseq.trainer][INFO] - begin training epoch 5293\r\n",
      "[2021-06-08 23:07:54,558][fairseq_cli.train][INFO] - Start iterating over samples\r\n"
     ]
    },
    {
     "name": "stdout",
     "output_type": "stream",
     "text": [
      "[2021-06-08 23:12:14,369][fairseq_cli.train][INFO] - begin validation on \"valid\" subset\r\n"
     ]
    },
    {
     "name": "stdout",
     "output_type": "stream",
     "text": [
      "[2021-06-08 23:12:16,917][fairseq.tasks.unpaired_audio_text][INFO] - REF: ɛ n f œ ʂ ə n a d ɵ ʂ ə k t f øː r d eː t s ɔ m h ɛ n d ə p oː ɕ œ r k ɔ n s ɛ t ə n\r\n",
      "[2021-06-08 23:12:16,920][fairseq.tasks.unpaired_audio_text][INFO] - HYP: n ɪ n s j œ r œ j b j uː œ yː k j uː ɡ f œ j m ə m œ k ə uː s eː r n v oː s l ɪ ŋ k ɪ l s œ uː m t n t a\r\n",
      "[2021-06-08 23:12:16,924][fairseq.tasks.unpaired_audio_text][INFO] - LM [REF]: -53.44462585449219, 0.05339602260269112\r\n",
      "[2021-06-08 23:12:16,925][fairseq.tasks.unpaired_audio_text][INFO] - LM [HYP]: -91.70457458496094, 0.014652391302881169\r\n"
     ]
    },
    {
     "name": "stdout",
     "output_type": "stream",
     "text": [
      "[2021-06-08 23:12:17,444][valid][INFO] - {\"epoch\": 5293, \"valid_loss\": \"1\", \"valid_ntokens\": \"3039.79\", \"valid_nsentences\": \"144.214\", \"valid_lm_score_sum\": \"-89510.2\", \"valid_num_pred_chars\": \"48462\", \"valid_vocab_seen_pct\": \"0.883275\", \"valid_uer\": \"99.9883\", \"valid_weighted_lm_ppl\": \"76.0246\", \"valid_lm_ppl\": \"59.3125\", \"valid_wps\": \"18396.1\", \"valid_wpb\": \"3039.8\", \"valid_bsz\": \"144.2\", \"valid_num_updates\": \"84688\", \"valid_best_weighted_lm_ppl\": \"73.0296\"}\r\n",
      "[2021-06-08 23:12:17,447][fairseq.checkpoint_utils][INFO] - Preparing to save checkpoint for epoch 5293 @ 84688 updates\r\n",
      "[2021-06-08 23:12:17,448][fairseq.trainer][INFO] - Saving checkpoint to /kaggle/working/checkpoint_last.pt\r\n",
      "[2021-06-08 23:12:17,492][fairseq.trainer][INFO] - Finished saving checkpoint to /kaggle/working/checkpoint_last.pt\r\n",
      "[2021-06-08 23:12:17,492][fairseq.checkpoint_utils][INFO] - Saved checkpoint /kaggle/working/checkpoint_last.pt (epoch 5293 @ 84688 updates, score 76.02458454132105) (writing took 0.04524470899923472 seconds)\r\n",
      "[2021-06-08 23:12:17,493][fairseq_cli.train][INFO] - end of epoch 5293 (average epoch stats below)\r\n"
     ]
    },
    {
     "name": "stdout",
     "output_type": "stream",
     "text": [
      "[2021-06-08 23:12:17,498][train][INFO] - {\"epoch\": 5293, \"train_loss\": \"2.887\", \"train_ntokens\": \"145.688\", \"train_nsentences\": \"145.688\", \"train_temp\": \"0.1\", \"train_code_ppl\": \"8.526\", \"train_loss_code_pen\": \"0.302\", \"train_loss_smoothness\": \"1.993\", \"train_loss_dense_g\": \"3.987\", \"train_lm_score_sum\": 0.0, \"train_num_pred_chars\": 0.0, \"train_loss_grad_pen\": \"0.059\", \"train_loss_dense_d\": \"0.021\", \"train_loss_token_d\": \"0.02\", \"train_wps\": \"8.9\", \"train_ups\": \"0.06\", \"train_wpb\": \"145.7\", \"train_bsz\": \"145.7\", \"train_num_updates\": \"84688\", \"train_lr_discriminator\": \"0.0005\", \"train_lr_generator\": \"0.0004\", \"train_gnorm\": \"29.867\", \"train_clip\": \"75\", \"train_train_wall\": \"259\", \"train_wall\": \"21259\"}\r\n"
     ]
    },
    {
     "name": "stdout",
     "output_type": "stream",
     "text": [
      "[2021-06-08 23:12:17,557][fairseq.trainer][INFO] - begin training epoch 5294\r\n",
      "[2021-06-08 23:12:17,558][fairseq_cli.train][INFO] - Start iterating over samples\r\n"
     ]
    },
    {
     "name": "stdout",
     "output_type": "stream",
     "text": [
      "[2021-06-08 23:15:40,412][train_inner][INFO] - {\"epoch\": 5294, \"update\": 5293.75, \"loss\": \"3.132\", \"ntokens\": \"146.98\", \"nsentences\": \"146.98\", \"temp\": \"0.1\", \"code_ppl\": \"8.603\", \"loss_code_pen\": \"0.32\", \"loss_smoothness\": \"2.042\", \"loss_dense_g\": \"4.236\", \"lm_score_sum\": 0.0, \"num_pred_chars\": 0.0, \"loss_grad_pen\": \"0.069\", \"loss_dense_d\": \"0.023\", \"loss_token_d\": \"0.023\", \"wps\": \"9.1\", \"ups\": \"0.06\", \"wpb\": \"147\", \"bsz\": \"147\", \"num_updates\": \"84700\", \"lr_discriminator\": \"0.0005\", \"lr_generator\": \"0.0004\", \"gnorm\": \"30.21\", \"clip\": \"71\", \"train_wall\": \"1601\", \"wall\": \"21462\"}\r\n"
     ]
    },
    {
     "name": "stdout",
     "output_type": "stream",
     "text": [
      "[2021-06-08 23:16:43,559][fairseq_cli.train][INFO] - begin validation on \"valid\" subset\r\n"
     ]
    },
    {
     "name": "stdout",
     "output_type": "stream",
     "text": [
      "[2021-06-08 23:16:46,031][fairseq.tasks.unpaired_audio_text][INFO] - REF: ɛ n f œ ʂ ə n a d ɵ ʂ ə k t f øː r d eː t s ɔ m h ɛ n d ə p oː ɕ œ r k ɔ n s ɛ t ə n\r\n",
      "[2021-06-08 23:16:46,034][fairseq.tasks.unpaired_audio_text][INFO] - HYP: n ɪ n s j œ r œ j b j uː œ yː k j uː ɡ f œ j m ə m œ k ə uː s eː r n v oː s l ɪ ŋ k ɪ l s uː m t n t a\r\n",
      "[2021-06-08 23:16:46,038][fairseq.tasks.unpaired_audio_text][INFO] - LM [REF]: -53.44462585449219, 0.05339602260269112\r\n",
      "[2021-06-08 23:16:46,038][fairseq.tasks.unpaired_audio_text][INFO] - LM [HYP]: -89.0721435546875, 0.01521251964050104\r\n"
     ]
    },
    {
     "name": "stdout",
     "output_type": "stream",
     "text": [
      "[2021-06-08 23:16:46,540][valid][INFO] - {\"epoch\": 5294, \"valid_loss\": \"1\", \"valid_ntokens\": \"3039.79\", \"valid_nsentences\": \"144.214\", \"valid_lm_score_sum\": \"-89456.2\", \"valid_num_pred_chars\": \"48421\", \"valid_vocab_seen_pct\": \"0.883275\", \"valid_uer\": \"100.026\", \"valid_weighted_lm_ppl\": \"76.0894\", \"valid_lm_ppl\": \"59.3631\", \"valid_wps\": \"18466.1\", \"valid_wpb\": \"3039.8\", \"valid_bsz\": \"144.2\", \"valid_num_updates\": \"84704\", \"valid_best_weighted_lm_ppl\": \"73.0296\"}\r\n",
      "[2021-06-08 23:16:46,543][fairseq.checkpoint_utils][INFO] - Preparing to save checkpoint for epoch 5294 @ 84704 updates\r\n",
      "[2021-06-08 23:16:46,544][fairseq.trainer][INFO] - Saving checkpoint to /kaggle/working/checkpoint_last.pt\r\n"
     ]
    },
    {
     "name": "stdout",
     "output_type": "stream",
     "text": [
      "[2021-06-08 23:16:46,589][fairseq.trainer][INFO] - Finished saving checkpoint to /kaggle/working/checkpoint_last.pt\r\n",
      "[2021-06-08 23:16:46,589][fairseq.checkpoint_utils][INFO] - Saved checkpoint /kaggle/working/checkpoint_last.pt (epoch 5294 @ 84704 updates, score 76.08939636564713) (writing took 0.04601985399858677 seconds)\r\n",
      "[2021-06-08 23:16:46,590][fairseq_cli.train][INFO] - end of epoch 5294 (average epoch stats below)\r\n",
      "[2021-06-08 23:16:46,592][train][INFO] - {\"epoch\": 5294, \"train_loss\": \"3.081\", \"train_ntokens\": \"145.688\", \"train_nsentences\": \"145.688\", \"train_temp\": \"0.1\", \"train_code_ppl\": \"8.528\", \"train_loss_code_pen\": \"0.332\", \"train_loss_smoothness\": \"2.05\", \"train_loss_dense_g\": \"4.32\", \"train_lm_score_sum\": 0.0, \"train_num_pred_chars\": 0.0, \"train_loss_grad_pen\": \"0.063\", \"train_loss_dense_d\": \"0.021\", \"train_loss_token_d\": \"0.023\", \"train_wps\": \"8.7\", \"train_ups\": \"0.06\", \"train_wpb\": \"145.7\", \"train_bsz\": \"145.7\", \"train_num_updates\": \"84704\", \"train_lr_discriminator\": \"0.0005\", \"train_lr_generator\": \"0.0004\", \"train_gnorm\": \"30.587\", \"train_clip\": \"68.8\", \"train_train_wall\": \"266\", \"train_wall\": \"21528\"}\r\n"
     ]
    },
    {
     "name": "stdout",
     "output_type": "stream",
     "text": [
      "[2021-06-08 23:16:46,648][fairseq.trainer][INFO] - begin training epoch 5295\r\n",
      "[2021-06-08 23:16:46,650][fairseq_cli.train][INFO] - Start iterating over samples\r\n"
     ]
    },
    {
     "name": "stdout",
     "output_type": "stream",
     "text": [
      "[2021-06-08 23:20:32,797][fairseq_cli.train][INFO] - begin validation on \"valid\" subset\r\n"
     ]
    },
    {
     "name": "stdout",
     "output_type": "stream",
     "text": [
      "[2021-06-08 23:20:35,327][fairseq.tasks.unpaired_audio_text][INFO] - REF: ɛ n f œ ʂ ə n a d ɵ ʂ ə k t f øː r d eː t s ɔ m h ɛ n d ə p oː ɕ œ r k ɔ n s ɛ t ə n\r\n",
      "[2021-06-08 23:20:35,329][fairseq.tasks.unpaired_audio_text][INFO] - HYP: n ɪ s j œ r œ j b j uː œ yː k j uː ɡ f œ øː j m ə m œ k ə uː s eː r n v oː s l ɪ ŋ k ɪ l s œ uː m t n t a\r\n",
      "[2021-06-08 23:20:35,334][fairseq.tasks.unpaired_audio_text][INFO] - LM [REF]: -53.44462585449219, 0.05339602260269112\r\n",
      "[2021-06-08 23:20:35,334][fairseq.tasks.unpaired_audio_text][INFO] - LM [HYP]: -92.73104858398438, 0.013975875664558924\r\n"
     ]
    },
    {
     "name": "stdout",
     "output_type": "stream",
     "text": [
      "[2021-06-08 23:20:35,854][valid][INFO] - {\"epoch\": 5295, \"valid_loss\": \"1.004\", \"valid_ntokens\": \"3039.79\", \"valid_nsentences\": \"144.214\", \"valid_lm_score_sum\": \"-89915.5\", \"valid_num_pred_chars\": \"48682\", \"valid_vocab_seen_pct\": \"0.885017\", \"valid_uer\": \"100.395\", \"valid_weighted_lm_ppl\": \"75.778\", \"valid_lm_ppl\": \"59.3536\", \"valid_wps\": \"18095.6\", \"valid_wpb\": \"3039.8\", \"valid_bsz\": \"144.2\", \"valid_num_updates\": \"84720\", \"valid_best_weighted_lm_ppl\": \"73.0296\"}\r\n",
      "[2021-06-08 23:20:35,858][fairseq.checkpoint_utils][INFO] - Preparing to save checkpoint for epoch 5295 @ 84720 updates\r\n",
      "[2021-06-08 23:20:35,859][fairseq.trainer][INFO] - Saving checkpoint to /kaggle/working/checkpoint_last.pt\r\n"
     ]
    },
    {
     "name": "stdout",
     "output_type": "stream",
     "text": [
      "[2021-06-08 23:20:35,906][fairseq.trainer][INFO] - Finished saving checkpoint to /kaggle/working/checkpoint_last.pt\r\n",
      "[2021-06-08 23:20:35,906][fairseq.checkpoint_utils][INFO] - Saved checkpoint /kaggle/working/checkpoint_last.pt (epoch 5295 @ 84720 updates, score 75.77800067955292) (writing took 0.04825358800007962 seconds)\r\n",
      "[2021-06-08 23:20:35,907][fairseq_cli.train][INFO] - end of epoch 5295 (average epoch stats below)\r\n",
      "[2021-06-08 23:20:35,910][train][INFO] - {\"epoch\": 5295, \"train_loss\": \"3.724\", \"train_ntokens\": \"145.688\", \"train_nsentences\": \"145.688\", \"train_temp\": \"0.1\", \"train_code_ppl\": \"8.558\", \"train_loss_code_pen\": \"0.328\", \"train_loss_smoothness\": \"2.11\", \"train_loss_dense_g\": \"4.239\", \"train_lm_score_sum\": 0.0, \"train_num_pred_chars\": 0.0, \"train_loss_grad_pen\": \"0.08\", \"train_loss_dense_d\": \"0.026\", \"train_loss_token_d\": \"0.021\", \"train_wps\": \"10.2\", \"train_ups\": \"0.07\", \"train_wpb\": \"145.7\", \"train_bsz\": \"145.7\", \"train_num_updates\": \"84720\", \"train_lr_discriminator\": \"0.0005\", \"train_lr_generator\": \"0.0004\", \"train_gnorm\": \"31.678\", \"train_clip\": \"81.2\", \"train_train_wall\": \"226\", \"train_wall\": \"21757\"}\r\n"
     ]
    },
    {
     "name": "stdout",
     "output_type": "stream",
     "text": [
      "[2021-06-08 23:20:35,968][fairseq.trainer][INFO] - begin training epoch 5296\r\n",
      "[2021-06-08 23:20:35,969][fairseq_cli.train][INFO] - Start iterating over samples\r\n"
     ]
    },
    {
     "name": "stdout",
     "output_type": "stream",
     "text": [
      "[2021-06-08 23:24:34,172][fairseq_cli.train][INFO] - begin validation on \"valid\" subset\r\n"
     ]
    },
    {
     "name": "stdout",
     "output_type": "stream",
     "text": [
      "[2021-06-08 23:24:36,723][fairseq.tasks.unpaired_audio_text][INFO] - REF: ɛ n f œ ʂ ə n a d ɵ ʂ ə k t f øː r d eː t s ɔ m h ɛ n d ə p oː ɕ œ r k ɔ n s ɛ t ə n\r\n",
      "[2021-06-08 23:24:36,726][fairseq.tasks.unpaired_audio_text][INFO] - HYP: n ɪ n s j œ r œ j b j uː œ yː k j uː f œ j m ə m œ k b ə uː s eː r n v oː s ɪ ŋ k l ɪ l s œ uː m t n t a\r\n",
      "[2021-06-08 23:24:36,730][fairseq.tasks.unpaired_audio_text][INFO] - LM [REF]: -53.44462585449219, 0.05339602260269112\r\n",
      "[2021-06-08 23:24:36,730][fairseq.tasks.unpaired_audio_text][INFO] - LM [HYP]: -92.92172241210938, 0.013853692757051336\r\n"
     ]
    },
    {
     "name": "stdout",
     "output_type": "stream",
     "text": [
      "[2021-06-08 23:24:37,253][valid][INFO] - {\"epoch\": 5296, \"valid_loss\": \"1.003\", \"valid_ntokens\": \"3039.79\", \"valid_nsentences\": \"144.214\", \"valid_lm_score_sum\": \"-89778.5\", \"valid_num_pred_chars\": \"48595\", \"valid_vocab_seen_pct\": \"0.883275\", \"valid_uer\": \"100.254\", \"valid_weighted_lm_ppl\": \"76.137\", \"valid_lm_ppl\": \"59.4002\", \"valid_wps\": \"17982.2\", \"valid_wpb\": \"3039.8\", \"valid_bsz\": \"144.2\", \"valid_num_updates\": \"84736\", \"valid_best_weighted_lm_ppl\": \"73.0296\"}\r\n",
      "[2021-06-08 23:24:37,256][fairseq.checkpoint_utils][INFO] - Preparing to save checkpoint for epoch 5296 @ 84736 updates\r\n",
      "[2021-06-08 23:24:37,257][fairseq.trainer][INFO] - Saving checkpoint to /kaggle/working/checkpoint_last.pt\r\n"
     ]
    },
    {
     "name": "stdout",
     "output_type": "stream",
     "text": [
      "[2021-06-08 23:24:37,304][fairseq.trainer][INFO] - Finished saving checkpoint to /kaggle/working/checkpoint_last.pt\r\n",
      "[2021-06-08 23:24:37,304][fairseq.checkpoint_utils][INFO] - Saved checkpoint /kaggle/working/checkpoint_last.pt (epoch 5296 @ 84736 updates, score 76.13703792416457) (writing took 0.04826499800037709 seconds)\r\n",
      "[2021-06-08 23:24:37,305][fairseq_cli.train][INFO] - end of epoch 5296 (average epoch stats below)\r\n",
      "[2021-06-08 23:24:37,308][train][INFO] - {\"epoch\": 5296, \"train_loss\": \"3.648\", \"train_ntokens\": \"145.688\", \"train_nsentences\": \"145.688\", \"train_temp\": \"0.1\", \"train_code_ppl\": \"8.743\", \"train_loss_code_pen\": \"0.33\", \"train_loss_smoothness\": \"2.099\", \"train_loss_dense_g\": \"4.498\", \"train_lm_score_sum\": 0.0, \"train_num_pred_chars\": 0.0, \"train_loss_grad_pen\": \"0.071\", \"train_loss_dense_d\": \"0.025\", \"train_loss_token_d\": \"0.025\", \"train_wps\": \"9.7\", \"train_ups\": \"0.07\", \"train_wpb\": \"145.7\", \"train_bsz\": \"145.7\", \"train_num_updates\": \"84736\", \"train_lr_discriminator\": \"0.0005\", \"train_lr_generator\": \"0.0004\", \"train_gnorm\": \"30.802\", \"train_clip\": \"87.5\", \"train_train_wall\": \"238\", \"train_wall\": \"21998\"}\r\n"
     ]
    },
    {
     "name": "stdout",
     "output_type": "stream",
     "text": [
      "[2021-06-08 23:24:37,368][fairseq.trainer][INFO] - begin training epoch 5297\r\n",
      "[2021-06-08 23:24:37,370][fairseq_cli.train][INFO] - Start iterating over samples\r\n"
     ]
    },
    {
     "name": "stdout",
     "output_type": "stream",
     "text": [
      "[2021-06-08 23:28:52,041][fairseq_cli.train][INFO] - begin validation on \"valid\" subset\r\n"
     ]
    },
    {
     "name": "stdout",
     "output_type": "stream",
     "text": [
      "[2021-06-08 23:28:54,459][fairseq.tasks.unpaired_audio_text][INFO] - REF: ɛ n f œ ʂ ə n a d ɵ ʂ ə k t f øː r d eː t s ɔ m h ɛ n d ə p oː ɕ œ r k ɔ n s ɛ t ə n\r\n",
      "[2021-06-08 23:28:54,462][fairseq.tasks.unpaired_audio_text][INFO] - HYP: n ɪ s j œ r œ j yː b j uː œ m yː k yː uː ɡ f œ øː j m b ə m œ k b ə uː s eː r n v oː s l ɪ ŋ k l ɪ l s uː m t n t a\r\n",
      "[2021-06-08 23:28:54,466][fairseq.tasks.unpaired_audio_text][INFO] - LM [REF]: -53.44462585449219, 0.05339602260269112\r\n",
      "[2021-06-08 23:28:54,467][fairseq.tasks.unpaired_audio_text][INFO] - LM [HYP]: -101.02473449707031, 0.013463921888187484\r\n"
     ]
    },
    {
     "name": "stdout",
     "output_type": "stream",
     "text": [
      "[2021-06-08 23:28:54,968][valid][INFO] - {\"epoch\": 5297, \"valid_loss\": \"1.004\", \"valid_ntokens\": \"3039.79\", \"valid_nsentences\": \"144.214\", \"valid_lm_score_sum\": \"-89815.9\", \"valid_num_pred_chars\": \"48638\", \"valid_vocab_seen_pct\": \"0.890244\", \"valid_uer\": \"100.425\", \"valid_weighted_lm_ppl\": \"74.8173\", \"valid_lm_ppl\": \"59.2952\", \"valid_wps\": \"18778\", \"valid_wpb\": \"3039.8\", \"valid_bsz\": \"144.2\", \"valid_num_updates\": \"84752\", \"valid_best_weighted_lm_ppl\": \"73.0296\"}\r\n",
      "[2021-06-08 23:28:54,971][fairseq.checkpoint_utils][INFO] - Preparing to save checkpoint for epoch 5297 @ 84752 updates\r\n",
      "[2021-06-08 23:28:54,972][fairseq.trainer][INFO] - Saving checkpoint to /kaggle/working/checkpoint_last.pt\r\n"
     ]
    },
    {
     "name": "stdout",
     "output_type": "stream",
     "text": [
      "[2021-06-08 23:28:55,020][fairseq.trainer][INFO] - Finished saving checkpoint to /kaggle/working/checkpoint_last.pt\r\n",
      "[2021-06-08 23:28:55,020][fairseq.checkpoint_utils][INFO] - Saved checkpoint /kaggle/working/checkpoint_last.pt (epoch 5297 @ 84752 updates, score 74.81726001688612) (writing took 0.049169185000209836 seconds)\r\n",
      "[2021-06-08 23:28:55,021][fairseq_cli.train][INFO] - end of epoch 5297 (average epoch stats below)\r\n",
      "[2021-06-08 23:28:55,024][train][INFO] - {\"epoch\": 5297, \"train_loss\": \"3.277\", \"train_ntokens\": \"145.688\", \"train_nsentences\": \"145.688\", \"train_temp\": \"0.1\", \"train_code_ppl\": \"8.665\", \"train_loss_code_pen\": \"0.321\", \"train_loss_smoothness\": \"2.086\", \"train_loss_dense_g\": \"4.242\", \"train_lm_score_sum\": 0.0, \"train_num_pred_chars\": 0.0, \"train_loss_grad_pen\": \"0.08\", \"train_loss_dense_d\": \"0.034\", \"train_loss_token_d\": \"0.027\", \"train_wps\": \"9\", \"train_ups\": \"0.06\", \"train_wpb\": \"145.7\", \"train_bsz\": \"145.7\", \"train_num_updates\": \"84752\", \"train_lr_discriminator\": \"0.0005\", \"train_lr_generator\": \"0.0004\", \"train_gnorm\": \"30.912\", \"train_clip\": \"75\", \"train_train_wall\": \"254\", \"train_wall\": \"22256\"}\r\n"
     ]
    },
    {
     "name": "stdout",
     "output_type": "stream",
     "text": [
      "[2021-06-08 23:28:55,080][fairseq.trainer][INFO] - begin training epoch 5298\r\n",
      "[2021-06-08 23:28:55,082][fairseq_cli.train][INFO] - Start iterating over samples\r\n"
     ]
    },
    {
     "name": "stdout",
     "output_type": "stream",
     "text": [
      "[2021-06-08 23:32:44,890][fairseq_cli.train][INFO] - begin validation on \"valid\" subset\r\n"
     ]
    },
    {
     "name": "stdout",
     "output_type": "stream",
     "text": [
      "[2021-06-08 23:32:47,481][fairseq.tasks.unpaired_audio_text][INFO] - REF: ɛ n f œ ʂ ə n a d ɵ ʂ ə k t f øː r d eː t s ɔ m h ɛ n d ə p oː ɕ œ r k ɔ n s ɛ t ə n\r\n",
      "[2021-06-08 23:32:47,484][fairseq.tasks.unpaired_audio_text][INFO] - HYP: n ɪ n s j œ r œ b j uː œ yː k uː ɡ f œ j m ə m œ k b ə uː s eː r n v oː s l ɪ ŋ k ɪ l s œ uː m k n t a\r\n",
      "[2021-06-08 23:32:47,488][fairseq.tasks.unpaired_audio_text][INFO] - LM [REF]: -53.44462585449219, 0.05339602260269112\r\n",
      "[2021-06-08 23:32:47,489][fairseq.tasks.unpaired_audio_text][INFO] - LM [HYP]: -89.52568054199219, 0.014891734854699142\r\n"
     ]
    },
    {
     "name": "stdout",
     "output_type": "stream",
     "text": [
      "[2021-06-08 23:32:48,015][valid][INFO] - {\"epoch\": 5298, \"valid_loss\": \"1.002\", \"valid_ntokens\": \"3039.79\", \"valid_nsentences\": \"144.214\", \"valid_lm_score_sum\": \"-89640.8\", \"valid_num_pred_chars\": \"48497\", \"valid_vocab_seen_pct\": \"0.885017\", \"valid_uer\": \"100.237\", \"valid_weighted_lm_ppl\": \"75.9625\", \"valid_lm_ppl\": \"59.4981\", \"valid_wps\": \"17618.3\", \"valid_wpb\": \"3039.8\", \"valid_bsz\": \"144.2\", \"valid_num_updates\": \"84768\", \"valid_best_weighted_lm_ppl\": \"73.0296\"}\r\n",
      "[2021-06-08 23:32:48,018][fairseq.checkpoint_utils][INFO] - Preparing to save checkpoint for epoch 5298 @ 84768 updates\r\n",
      "[2021-06-08 23:32:48,019][fairseq.trainer][INFO] - Saving checkpoint to /kaggle/working/checkpoint_last.pt\r\n"
     ]
    },
    {
     "name": "stdout",
     "output_type": "stream",
     "text": [
      "[2021-06-08 23:32:48,065][fairseq.trainer][INFO] - Finished saving checkpoint to /kaggle/working/checkpoint_last.pt\r\n",
      "[2021-06-08 23:32:48,065][fairseq.checkpoint_utils][INFO] - Saved checkpoint /kaggle/working/checkpoint_last.pt (epoch 5298 @ 84768 updates, score 75.9624984002344) (writing took 0.0472857370004931 seconds)\r\n",
      "[2021-06-08 23:32:48,065][fairseq_cli.train][INFO] - end of epoch 5298 (average epoch stats below)\r\n",
      "[2021-06-08 23:32:48,069][train][INFO] - {\"epoch\": 5298, \"train_loss\": \"3.729\", \"train_ntokens\": \"145.688\", \"train_nsentences\": \"145.688\", \"train_temp\": \"0.1\", \"train_code_ppl\": \"8.602\", \"train_loss_code_pen\": \"0.33\", \"train_loss_smoothness\": \"2.115\", \"train_loss_dense_g\": \"4.214\", \"train_lm_score_sum\": 0.0, \"train_num_pred_chars\": 0.0, \"train_loss_grad_pen\": \"0.1\", \"train_loss_dense_d\": \"0.025\", \"train_loss_token_d\": \"0.034\", \"train_wps\": \"10\", \"train_ups\": \"0.07\", \"train_wpb\": \"145.7\", \"train_bsz\": \"145.7\", \"train_num_updates\": \"84768\", \"train_lr_discriminator\": \"0.0005\", \"train_lr_generator\": \"0.0004\", \"train_gnorm\": \"30.38\", \"train_clip\": \"68.8\", \"train_train_wall\": \"229\", \"train_wall\": \"22489\"}\r\n"
     ]
    },
    {
     "name": "stdout",
     "output_type": "stream",
     "text": [
      "[2021-06-08 23:32:48,126][fairseq.trainer][INFO] - begin training epoch 5299\r\n",
      "[2021-06-08 23:32:48,128][fairseq_cli.train][INFO] - Start iterating over samples\r\n"
     ]
    },
    {
     "name": "stdout",
     "output_type": "stream",
     "text": [
      "[2021-06-08 23:37:10,146][fairseq_cli.train][INFO] - begin validation on \"valid\" subset\r\n"
     ]
    },
    {
     "name": "stdout",
     "output_type": "stream",
     "text": [
      "[2021-06-08 23:37:12,884][fairseq.tasks.unpaired_audio_text][INFO] - REF: ɛ n f œ ʂ ə n a d ɵ ʂ ə k t f øː r d eː t s ɔ m h ɛ n d ə p oː ɕ œ r k ɔ n s ɛ t ə n\r\n",
      "[2021-06-08 23:37:12,887][fairseq.tasks.unpaired_audio_text][INFO] - HYP: n ɪ n s j œ r œ j j uː œ yː k uː ɡ f œ j m ə m œ k b ə uː s eː r n v oː s l ɪ ŋ k ɪ l s œ uː m a n t a\r\n",
      "[2021-06-08 23:37:12,891][fairseq.tasks.unpaired_audio_text][INFO] - LM [REF]: -53.44462585449219, 0.05339602260269112\r\n",
      "[2021-06-08 23:37:12,891][fairseq.tasks.unpaired_audio_text][INFO] - LM [HYP]: -85.68172454833984, 0.017839939472497558\r\n"
     ]
    },
    {
     "name": "stdout",
     "output_type": "stream",
     "text": [
      "[2021-06-08 23:37:13,396][valid][INFO] - {\"epoch\": 5299, \"valid_loss\": \"1.002\", \"valid_ntokens\": \"3039.79\", \"valid_nsentences\": \"144.214\", \"valid_lm_score_sum\": \"-89799.8\", \"valid_num_pred_chars\": \"48571\", \"valid_vocab_seen_pct\": \"0.890244\", \"valid_uer\": \"100.237\", \"valid_weighted_lm_ppl\": \"75.168\", \"valid_lm_ppl\": \"59.5732\", \"valid_wps\": \"16866.9\", \"valid_wpb\": \"3039.8\", \"valid_bsz\": \"144.2\", \"valid_num_updates\": \"84784\", \"valid_best_weighted_lm_ppl\": \"73.0296\"}\r\n",
      "[2021-06-08 23:37:13,399][fairseq.checkpoint_utils][INFO] - Preparing to save checkpoint for epoch 5299 @ 84784 updates\r\n",
      "[2021-06-08 23:37:13,400][fairseq.trainer][INFO] - Saving checkpoint to /kaggle/working/checkpoint_last.pt\r\n"
     ]
    },
    {
     "name": "stdout",
     "output_type": "stream",
     "text": [
      "[2021-06-08 23:37:13,445][fairseq.trainer][INFO] - Finished saving checkpoint to /kaggle/working/checkpoint_last.pt\r\n",
      "[2021-06-08 23:37:13,446][fairseq.checkpoint_utils][INFO] - Saved checkpoint /kaggle/working/checkpoint_last.pt (epoch 5299 @ 84784 updates, score 75.16798851114551) (writing took 0.046519397998054046 seconds)\r\n",
      "[2021-06-08 23:37:13,446][fairseq_cli.train][INFO] - end of epoch 5299 (average epoch stats below)\r\n",
      "[2021-06-08 23:37:13,450][train][INFO] - {\"epoch\": 5299, \"train_loss\": \"3.066\", \"train_ntokens\": \"145.688\", \"train_nsentences\": \"145.688\", \"train_temp\": \"0.1\", \"train_code_ppl\": \"8.683\", \"train_loss_code_pen\": \"0.32\", \"train_loss_smoothness\": \"2.045\", \"train_loss_dense_g\": \"4.317\", \"train_lm_score_sum\": 0.0, \"train_num_pred_chars\": 0.0, \"train_loss_grad_pen\": \"0.049\", \"train_loss_dense_d\": \"0.025\", \"train_loss_token_d\": \"0.023\", \"train_wps\": \"8.8\", \"train_ups\": \"0.06\", \"train_wpb\": \"145.7\", \"train_bsz\": \"145.7\", \"train_num_updates\": \"84784\", \"train_lr_discriminator\": \"0.0005\", \"train_lr_generator\": \"0.0004\", \"train_gnorm\": \"29.343\", \"train_clip\": \"62.5\", \"train_train_wall\": \"262\", \"train_wall\": \"22755\"}\r\n"
     ]
    },
    {
     "name": "stdout",
     "output_type": "stream",
     "text": [
      "[2021-06-08 23:37:13,506][fairseq.trainer][INFO] - begin training epoch 5300\r\n",
      "[2021-06-08 23:37:13,508][fairseq_cli.train][INFO] - Start iterating over samples\r\n"
     ]
    },
    {
     "name": "stdout",
     "output_type": "stream",
     "text": [
      "[2021-06-08 23:41:36,220][train_inner][INFO] - {\"epoch\": 5300, \"update\": 5300.0, \"loss\": \"3.396\", \"ntokens\": \"145.54\", \"nsentences\": \"145.54\", \"temp\": \"0.1\", \"code_ppl\": \"8.637\", \"loss_code_pen\": \"0.324\", \"loss_smoothness\": \"2.083\", \"loss_dense_g\": \"4.292\", \"lm_score_sum\": 0.0, \"num_pred_chars\": 0.0, \"loss_grad_pen\": \"0.074\", \"loss_dense_d\": \"0.026\", \"loss_token_d\": \"0.025\", \"wps\": \"9.4\", \"ups\": \"0.06\", \"wpb\": \"145.5\", \"bsz\": \"145.5\", \"num_updates\": \"84800\", \"lr_discriminator\": \"0.0005\", \"lr_generator\": \"0.0004\", \"gnorm\": \"30.588\", \"clip\": \"74\", \"train_wall\": \"1534\", \"wall\": \"23017\"}\r\n",
      "[2021-06-08 23:41:36,222][fairseq_cli.train][INFO] - begin validation on \"valid\" subset\r\n"
     ]
    },
    {
     "name": "stdout",
     "output_type": "stream",
     "text": [
      "[2021-06-08 23:41:38,698][fairseq.tasks.unpaired_audio_text][INFO] - REF: ɛ n f œ ʂ ə n a d ɵ ʂ ə k t f øː r d eː t s ɔ m h ɛ n d ə p oː ɕ œ r k ɔ n s ɛ t ə n\r\n",
      "[2021-06-08 23:41:38,701][fairseq.tasks.unpaired_audio_text][INFO] - HYP: n ɪ n s j œ r œ j j uː œ yː k uː ɡ f œ j m ə m œ k b ə uː s eː r n v oː s l ɪ ŋ k ɪ l s œ uː m k n t a\r\n",
      "[2021-06-08 23:41:38,705][fairseq.tasks.unpaired_audio_text][INFO] - LM [REF]: -53.44462585449219, 0.05339602260269112\r\n",
      "[2021-06-08 23:41:38,705][fairseq.tasks.unpaired_audio_text][INFO] - LM [HYP]: -89.06983184814453, 0.01521417227590346\r\n"
     ]
    },
    {
     "name": "stdout",
     "output_type": "stream",
     "text": [
      "[2021-06-08 23:41:39,208][valid][INFO] - {\"epoch\": 5300, \"valid_loss\": \"1.002\", \"valid_ntokens\": \"3039.79\", \"valid_nsentences\": \"144.214\", \"valid_lm_score_sum\": \"-89948.8\", \"valid_num_pred_chars\": \"48634\", \"valid_vocab_seen_pct\": \"0.879791\", \"valid_uer\": \"100.237\", \"valid_weighted_lm_ppl\": \"77.0949\", \"valid_lm_ppl\": \"59.6739\", \"valid_wps\": \"18552.2\", \"valid_wpb\": \"3039.8\", \"valid_bsz\": \"144.2\", \"valid_num_updates\": \"84800\", \"valid_best_weighted_lm_ppl\": \"73.0296\"}\r\n",
      "[2021-06-08 23:41:39,211][fairseq.checkpoint_utils][INFO] - Preparing to save checkpoint for epoch 5300 @ 84800 updates\r\n",
      "[2021-06-08 23:41:39,212][fairseq.trainer][INFO] - Saving checkpoint to /kaggle/working/checkpoint_last.pt\r\n"
     ]
    },
    {
     "name": "stdout",
     "output_type": "stream",
     "text": [
      "[2021-06-08 23:41:39,256][fairseq.trainer][INFO] - Finished saving checkpoint to /kaggle/working/checkpoint_last.pt\r\n",
      "[2021-06-08 23:41:39,257][fairseq.checkpoint_utils][INFO] - Saved checkpoint /kaggle/working/checkpoint_last.pt (epoch 5300 @ 84800 updates, score 77.09488960994908) (writing took 0.04561568799908855 seconds)\r\n",
      "[2021-06-08 23:41:39,257][fairseq_cli.train][INFO] - end of epoch 5300 (average epoch stats below)\r\n",
      "[2021-06-08 23:41:39,260][train][INFO] - {\"epoch\": 5300, \"train_loss\": \"3.073\", \"train_ntokens\": \"145.688\", \"train_nsentences\": \"145.688\", \"train_temp\": \"0.1\", \"train_code_ppl\": \"8.689\", \"train_loss_code_pen\": \"0.313\", \"train_loss_smoothness\": \"2.045\", \"train_loss_dense_g\": \"4.314\", \"train_lm_score_sum\": 0.0, \"train_num_pred_chars\": 0.0, \"train_loss_grad_pen\": \"0.074\", \"train_loss_dense_d\": \"0.023\", \"train_loss_token_d\": \"0.021\", \"train_wps\": \"8.8\", \"train_ups\": \"0.06\", \"train_wpb\": \"145.7\", \"train_bsz\": \"145.7\", \"train_num_updates\": \"84800\", \"train_lr_discriminator\": \"0.0005\", \"train_lr_generator\": \"0.0004\", \"train_gnorm\": \"30.654\", \"train_clip\": \"75\", \"train_train_wall\": \"262\", \"train_wall\": \"23020\"}\r\n"
     ]
    },
    {
     "name": "stdout",
     "output_type": "stream",
     "text": [
      "[2021-06-08 23:41:39,317][fairseq.trainer][INFO] - begin training epoch 5301\r\n",
      "[2021-06-08 23:41:39,318][fairseq_cli.train][INFO] - Start iterating over samples\r\n"
     ]
    },
    {
     "name": "stdout",
     "output_type": "stream",
     "text": [
      "[2021-06-08 23:46:02,025][fairseq_cli.train][INFO] - begin validation on \"valid\" subset\r\n"
     ]
    },
    {
     "name": "stdout",
     "output_type": "stream",
     "text": [
      "[2021-06-08 23:46:04,617][fairseq.tasks.unpaired_audio_text][INFO] - REF: ɛ n f œ ʂ ə n a d ɵ ʂ ə k t f øː r d eː t s ɔ m h ɛ n d ə p oː ɕ œ r k ɔ n s ɛ t ə n\r\n"
     ]
    },
    {
     "name": "stdout",
     "output_type": "stream",
     "text": [
      "[2021-06-08 23:46:04,620][fairseq.tasks.unpaired_audio_text][INFO] - HYP: n ɪ n s j œ r œ j j uː œ yː k j uː ɡ f œ j m ə m œ k b ə uː s eː r n v oː s l ɪ ŋ k l ɪ l s uː m k n t a\r\n",
      "[2021-06-08 23:46:04,624][fairseq.tasks.unpaired_audio_text][INFO] - LM [REF]: -53.44462585449219, 0.05339602260269112\r\n",
      "[2021-06-08 23:46:04,625][fairseq.tasks.unpaired_audio_text][INFO] - LM [HYP]: -90.86864471435547, 0.01522744731989541\r\n"
     ]
    },
    {
     "name": "stdout",
     "output_type": "stream",
     "text": [
      "[2021-06-08 23:46:05,157][valid][INFO] - {\"epoch\": 5301, \"valid_loss\": \"1.001\", \"valid_ntokens\": \"3039.79\", \"valid_nsentences\": \"144.214\", \"valid_lm_score_sum\": \"-89682.4\", \"valid_num_pred_chars\": \"48432\", \"valid_vocab_seen_pct\": \"0.88676\", \"valid_uer\": \"100.082\", \"valid_weighted_lm_ppl\": \"76.2083\", \"valid_lm_ppl\": \"59.9258\", \"valid_wps\": \"17661.3\", \"valid_wpb\": \"3039.8\", \"valid_bsz\": \"144.2\", \"valid_num_updates\": \"84816\", \"valid_best_weighted_lm_ppl\": \"73.0296\"}\r\n",
      "[2021-06-08 23:46:05,161][fairseq.checkpoint_utils][INFO] - Preparing to save checkpoint for epoch 5301 @ 84816 updates\r\n",
      "[2021-06-08 23:46:05,162][fairseq.trainer][INFO] - Saving checkpoint to /kaggle/working/checkpoint_last.pt\r\n"
     ]
    },
    {
     "name": "stdout",
     "output_type": "stream",
     "text": [
      "[2021-06-08 23:46:05,208][fairseq.trainer][INFO] - Finished saving checkpoint to /kaggle/working/checkpoint_last.pt\r\n",
      "[2021-06-08 23:46:05,209][fairseq.checkpoint_utils][INFO] - Saved checkpoint /kaggle/working/checkpoint_last.pt (epoch 5301 @ 84816 updates, score 76.20832561918405) (writing took 0.048099248997459654 seconds)\r\n",
      "[2021-06-08 23:46:05,209][fairseq_cli.train][INFO] - end of epoch 5301 (average epoch stats below)\r\n",
      "[2021-06-08 23:46:05,212][train][INFO] - {\"epoch\": 5301, \"train_loss\": \"3.115\", \"train_ntokens\": \"145.688\", \"train_nsentences\": \"145.688\", \"train_temp\": \"0.1\", \"train_code_ppl\": \"8.785\", \"train_loss_code_pen\": \"0.352\", \"train_loss_smoothness\": \"2.182\", \"train_loss_dense_g\": \"4.234\", \"train_lm_score_sum\": 0.0, \"train_num_pred_chars\": 0.0, \"train_loss_grad_pen\": \"0.07\", \"train_loss_dense_d\": \"0.023\", \"train_loss_token_d\": \"0.021\", \"train_wps\": \"8.8\", \"train_ups\": \"0.06\", \"train_wpb\": \"145.7\", \"train_bsz\": \"145.7\", \"train_num_updates\": \"84816\", \"train_lr_discriminator\": \"0.0005\", \"train_lr_generator\": \"0.0004\", \"train_gnorm\": \"30.607\", \"train_clip\": \"68.8\", \"train_train_wall\": \"262\", \"train_wall\": \"23286\"}\r\n"
     ]
    },
    {
     "name": "stdout",
     "output_type": "stream",
     "text": [
      "[2021-06-08 23:46:05,269][fairseq.trainer][INFO] - begin training epoch 5302\r\n",
      "[2021-06-08 23:46:05,271][fairseq_cli.train][INFO] - Start iterating over samples\r\n"
     ]
    },
    {
     "name": "stdout",
     "output_type": "stream",
     "text": [
      "[2021-06-08 23:50:16,380][fairseq_cli.train][INFO] - begin validation on \"valid\" subset\r\n"
     ]
    },
    {
     "name": "stdout",
     "output_type": "stream",
     "text": [
      "[2021-06-08 23:50:18,879][fairseq.tasks.unpaired_audio_text][INFO] - REF: ɛ n f œ ʂ ə n a d ɵ ʂ ə k t f øː r d eː t s ɔ m h ɛ n d ə p oː ɕ œ r k ɔ n s ɛ t ə n\r\n",
      "[2021-06-08 23:50:18,881][fairseq.tasks.unpaired_audio_text][INFO] - HYP: n ɪ n s j œ r œ j j uː yː k ə ɡ f œ øː j m ə m œ k b ə uː s eː r n v oː s l ɪ ŋ k ɪ l s œ uː m t n t a\r\n",
      "[2021-06-08 23:50:18,885][fairseq.tasks.unpaired_audio_text][INFO] - LM [REF]: -53.44462585449219, 0.05339602260269112\r\n",
      "[2021-06-08 23:50:18,886][fairseq.tasks.unpaired_audio_text][INFO] - LM [HYP]: -89.91594696044922, 0.014621121103028309\r\n"
     ]
    },
    {
     "name": "stdout",
     "output_type": "stream",
     "text": [
      "[2021-06-08 23:50:19,401][valid][INFO] - {\"epoch\": 5302, \"valid_loss\": \"1\", \"valid_ntokens\": \"3039.79\", \"valid_nsentences\": \"144.214\", \"valid_lm_score_sum\": \"-89631.6\", \"valid_num_pred_chars\": \"48318\", \"valid_vocab_seen_pct\": \"0.888502\", \"valid_uer\": \"99.9883\", \"valid_weighted_lm_ppl\": \"76.4389\", \"valid_lm_ppl\": \"60.3436\", \"valid_wps\": \"18274.5\", \"valid_wpb\": \"3039.8\", \"valid_bsz\": \"144.2\", \"valid_num_updates\": \"84832\", \"valid_best_weighted_lm_ppl\": \"73.0296\"}\r\n",
      "[2021-06-08 23:50:19,404][fairseq.checkpoint_utils][INFO] - Preparing to save checkpoint for epoch 5302 @ 84832 updates\r\n",
      "[2021-06-08 23:50:19,406][fairseq.trainer][INFO] - Saving checkpoint to /kaggle/working/checkpoint_last.pt\r\n"
     ]
    },
    {
     "name": "stdout",
     "output_type": "stream",
     "text": [
      "[2021-06-08 23:50:19,453][fairseq.trainer][INFO] - Finished saving checkpoint to /kaggle/working/checkpoint_last.pt\r\n",
      "[2021-06-08 23:50:19,454][fairseq.checkpoint_utils][INFO] - Saved checkpoint /kaggle/working/checkpoint_last.pt (epoch 5302 @ 84832 updates, score 76.43892903850801) (writing took 0.049465863001387333 seconds)\r\n",
      "[2021-06-08 23:50:19,454][fairseq_cli.train][INFO] - end of epoch 5302 (average epoch stats below)\r\n",
      "[2021-06-08 23:50:19,457][train][INFO] - {\"epoch\": 5302, \"train_loss\": \"3.051\", \"train_ntokens\": \"145.688\", \"train_nsentences\": \"145.688\", \"train_temp\": \"0.1\", \"train_code_ppl\": \"8.693\", \"train_loss_code_pen\": \"0.313\", \"train_loss_smoothness\": \"2.021\", \"train_loss_dense_g\": \"4.297\", \"train_lm_score_sum\": 0.0, \"train_num_pred_chars\": 0.0, \"train_loss_grad_pen\": \"0.07\", \"train_loss_dense_d\": \"0.02\", \"train_loss_token_d\": \"0.023\", \"train_wps\": \"9.2\", \"train_ups\": \"0.06\", \"train_wpb\": \"145.7\", \"train_bsz\": \"145.7\", \"train_num_updates\": \"84832\", \"train_lr_discriminator\": \"0.0005\", \"train_lr_generator\": \"0.0004\", \"train_gnorm\": \"30.759\", \"train_clip\": \"81.2\", \"train_train_wall\": \"251\", \"train_wall\": \"23541\"}\r\n"
     ]
    },
    {
     "name": "stdout",
     "output_type": "stream",
     "text": [
      "[2021-06-08 23:50:19,516][fairseq.trainer][INFO] - begin training epoch 5303\r\n",
      "[2021-06-08 23:50:19,517][fairseq_cli.train][INFO] - Start iterating over samples\r\n"
     ]
    },
    {
     "name": "stdout",
     "output_type": "stream",
     "text": [
      "[2021-06-08 23:54:35,880][fairseq_cli.train][INFO] - begin validation on \"valid\" subset\r\n"
     ]
    },
    {
     "name": "stdout",
     "output_type": "stream",
     "text": [
      "[2021-06-08 23:54:38,440][fairseq.tasks.unpaired_audio_text][INFO] - REF: ɛ n f œ ʂ ə n a d ɵ ʂ ə k t f øː r d eː t s ɔ m h ɛ n d ə p oː ɕ œ r k ɔ n s ɛ t ə n\r\n",
      "[2021-06-08 23:54:38,443][fairseq.tasks.unpaired_audio_text][INFO] - HYP: n ɪ n s j œ r œ j yː j uː œ yː k ə uː ɡ f œ j m ə m œ k b ə uː s eː r n v oː s l ɪ ŋ k ɪ l s œ uː t n t a\r\n",
      "[2021-06-08 23:54:38,447][fairseq.tasks.unpaired_audio_text][INFO] - LM [REF]: -53.44462585449219, 0.05339602260269112\r\n",
      "[2021-06-08 23:54:38,448][fairseq.tasks.unpaired_audio_text][INFO] - LM [HYP]: -91.66243743896484, 0.014680851686469588\r\n"
     ]
    },
    {
     "name": "stdout",
     "output_type": "stream",
     "text": [
      "[2021-06-08 23:54:38,974][valid][INFO] - {\"epoch\": 5303, \"valid_loss\": \"1.001\", \"valid_ntokens\": \"3039.79\", \"valid_nsentences\": \"144.214\", \"valid_lm_score_sum\": \"-89699.5\", \"valid_num_pred_chars\": \"48438\", \"valid_vocab_seen_pct\": \"0.885017\", \"valid_uer\": \"100.122\", \"valid_weighted_lm_ppl\": \"76.5311\", \"valid_lm_ppl\": \"59.9434\", \"valid_wps\": \"17762.3\", \"valid_wpb\": \"3039.8\", \"valid_bsz\": \"144.2\", \"valid_num_updates\": \"84848\", \"valid_best_weighted_lm_ppl\": \"73.0296\"}\r\n",
      "[2021-06-08 23:54:38,977][fairseq.checkpoint_utils][INFO] - Preparing to save checkpoint for epoch 5303 @ 84848 updates\r\n",
      "[2021-06-08 23:54:38,979][fairseq.trainer][INFO] - Saving checkpoint to /kaggle/working/checkpoint_last.pt\r\n"
     ]
    },
    {
     "name": "stdout",
     "output_type": "stream",
     "text": [
      "[2021-06-08 23:54:39,026][fairseq.trainer][INFO] - Finished saving checkpoint to /kaggle/working/checkpoint_last.pt\r\n",
      "[2021-06-08 23:54:39,026][fairseq.checkpoint_utils][INFO] - Saved checkpoint /kaggle/working/checkpoint_last.pt (epoch 5303 @ 84848 updates, score 76.53110845889387) (writing took 0.04884522599968477 seconds)\r\n",
      "[2021-06-08 23:54:39,027][fairseq_cli.train][INFO] - end of epoch 5303 (average epoch stats below)\r\n",
      "[2021-06-08 23:54:39,031][train][INFO] - {\"epoch\": 5303, \"train_loss\": \"3.051\", \"train_ntokens\": \"145.688\", \"train_nsentences\": \"145.688\", \"train_temp\": \"0.1\", \"train_code_ppl\": \"8.862\", \"train_loss_code_pen\": \"0.323\", \"train_loss_smoothness\": \"2.062\", \"train_loss_dense_g\": \"4.272\", \"train_lm_score_sum\": 0.0, \"train_num_pred_chars\": 0.0, \"train_loss_grad_pen\": \"0.049\", \"train_loss_dense_d\": \"0.021\", \"train_loss_token_d\": \"0.02\", \"train_wps\": \"9\", \"train_ups\": \"0.06\", \"train_wpb\": \"145.7\", \"train_bsz\": \"145.7\", \"train_num_updates\": \"84848\", \"train_lr_discriminator\": \"0.0005\", \"train_lr_generator\": \"0.0004\", \"train_gnorm\": \"29.816\", \"train_clip\": \"62.5\", \"train_train_wall\": \"256\", \"train_wall\": \"23800\"}\r\n"
     ]
    },
    {
     "name": "stdout",
     "output_type": "stream",
     "text": [
      "[2021-06-08 23:54:39,089][fairseq.trainer][INFO] - begin training epoch 5304\r\n",
      "[2021-06-08 23:54:39,091][fairseq_cli.train][INFO] - Start iterating over samples\r\n"
     ]
    },
    {
     "name": "stdout",
     "output_type": "stream",
     "text": [
      "[2021-06-08 23:58:35,055][fairseq_cli.train][INFO] - begin validation on \"valid\" subset\r\n"
     ]
    },
    {
     "name": "stdout",
     "output_type": "stream",
     "text": [
      "[2021-06-08 23:58:37,535][fairseq.tasks.unpaired_audio_text][INFO] - REF: ɛ n f œ ʂ ə n a d ɵ ʂ ə k t f øː r d eː t s ɔ m h ɛ n d ə p oː ɕ œ r k ɔ n s ɛ t ə n\r\n",
      "[2021-06-08 23:58:37,538][fairseq.tasks.unpaired_audio_text][INFO] - HYP: n ɪ n s j œ r œ j yː b j uː œ yː k j uː ɡ f œ øː j m b ə m œ k b ə uː s eː r n v oː s l ɪ ŋ k ɪ l s œ uː m k n t a\r\n",
      "[2021-06-08 23:58:37,542][fairseq.tasks.unpaired_audio_text][INFO] - LM [REF]: -53.44462585449219, 0.05339602260269112\r\n",
      "[2021-06-08 23:58:37,542][fairseq.tasks.unpaired_audio_text][INFO] - LM [HYP]: -100.70626068115234, 0.013648007316588145\r\n"
     ]
    },
    {
     "name": "stdout",
     "output_type": "stream",
     "text": [
      "[2021-06-08 23:58:38,098][valid][INFO] - {\"epoch\": 5304, \"valid_loss\": \"1.005\", \"valid_ntokens\": \"3039.79\", \"valid_nsentences\": \"144.214\", \"valid_lm_score_sum\": \"-89894.2\", \"valid_num_pred_chars\": \"48660\", \"valid_vocab_seen_pct\": \"0.874564\", \"valid_uer\": \"100.498\", \"valid_weighted_lm_ppl\": \"77.6628\", \"valid_lm_ppl\": \"59.4014\", \"valid_wps\": \"17947.7\", \"valid_wpb\": \"3039.8\", \"valid_bsz\": \"144.2\", \"valid_num_updates\": \"84864\", \"valid_best_weighted_lm_ppl\": \"73.0296\"}\r\n",
      "[2021-06-08 23:58:38,102][fairseq.checkpoint_utils][INFO] - Preparing to save checkpoint for epoch 5304 @ 84864 updates\r\n",
      "[2021-06-08 23:58:38,103][fairseq.trainer][INFO] - Saving checkpoint to /kaggle/working/checkpoint_last.pt\r\n"
     ]
    },
    {
     "name": "stdout",
     "output_type": "stream",
     "text": [
      "[2021-06-08 23:58:38,150][fairseq.trainer][INFO] - Finished saving checkpoint to /kaggle/working/checkpoint_last.pt\r\n",
      "[2021-06-08 23:58:38,150][fairseq.checkpoint_utils][INFO] - Saved checkpoint /kaggle/working/checkpoint_last.pt (epoch 5304 @ 84864 updates, score 77.66275239589231) (writing took 0.0487390599992068 seconds)\r\n",
      "[2021-06-08 23:58:38,151][fairseq_cli.train][INFO] - end of epoch 5304 (average epoch stats below)\r\n",
      "[2021-06-08 23:58:38,153][train][INFO] - {\"epoch\": 5304, \"train_loss\": \"3.39\", \"train_ntokens\": \"145.688\", \"train_nsentences\": \"145.688\", \"train_temp\": \"0.1\", \"train_code_ppl\": \"8.592\", \"train_loss_code_pen\": \"0.314\", \"train_loss_smoothness\": \"2.032\", \"train_loss_dense_g\": \"4.053\", \"train_lm_score_sum\": 0.0, \"train_num_pred_chars\": 0.0, \"train_loss_grad_pen\": \"0.113\", \"train_loss_dense_d\": \"0.025\", \"train_loss_token_d\": \"0.016\", \"train_wps\": \"9.7\", \"train_ups\": \"0.07\", \"train_wpb\": \"145.7\", \"train_bsz\": \"145.7\", \"train_num_updates\": \"84864\", \"train_lr_discriminator\": \"0.0005\", \"train_lr_generator\": \"0.0004\", \"train_gnorm\": \"31.416\", \"train_clip\": \"87.5\", \"train_train_wall\": \"236\", \"train_wall\": \"24039\"}\r\n"
     ]
    },
    {
     "name": "stdout",
     "output_type": "stream",
     "text": [
      "[2021-06-08 23:58:38,210][fairseq.trainer][INFO] - begin training epoch 5305\r\n",
      "[2021-06-08 23:58:38,211][fairseq_cli.train][INFO] - Start iterating over samples\r\n"
     ]
    },
    {
     "name": "stdout",
     "output_type": "stream",
     "text": [
      "[2021-06-09 00:02:32,642][fairseq_cli.train][INFO] - begin validation on \"valid\" subset\r\n"
     ]
    },
    {
     "name": "stdout",
     "output_type": "stream",
     "text": [
      "[2021-06-09 00:02:35,197][fairseq.tasks.unpaired_audio_text][INFO] - REF: ɛ n f œ ʂ ə n a d ɵ ʂ ə k t f øː r d eː t s ɔ m h ɛ n d ə p oː ɕ œ r k ɔ n s ɛ t ə n\r\n",
      "[2021-06-09 00:02:35,199][fairseq.tasks.unpaired_audio_text][INFO] - HYP: n ɪ s j œ r œ j b j uː œ yː k j uː ɡ f œ øː j m b ə m œ k b ə uː s eː r n v oː s l ɪ ŋ k ɪ l s œ uː m k n t a\r\n"
     ]
    },
    {
     "name": "stdout",
     "output_type": "stream",
     "text": [
      "[2021-06-09 00:02:35,204][fairseq.tasks.unpaired_audio_text][INFO] - LM [REF]: -53.44462585449219, 0.05339602260269112\r\n",
      "[2021-06-09 00:02:35,205][fairseq.tasks.unpaired_audio_text][INFO] - LM [HYP]: -97.22157287597656, 0.013500640341553804\r\n"
     ]
    },
    {
     "name": "stdout",
     "output_type": "stream",
     "text": [
      "[2021-06-09 00:02:35,708][valid][INFO] - {\"epoch\": 5305, \"valid_loss\": \"1.005\", \"valid_ntokens\": \"3039.79\", \"valid_nsentences\": \"144.214\", \"valid_lm_score_sum\": \"-90063.1\", \"valid_num_pred_chars\": \"48708\", \"valid_vocab_seen_pct\": \"0.88676\", \"valid_uer\": \"100.548\", \"valid_weighted_lm_ppl\": \"75.8291\", \"valid_lm_ppl\": \"59.6277\", \"valid_wps\": \"18145.6\", \"valid_wpb\": \"3039.8\", \"valid_bsz\": \"144.2\", \"valid_num_updates\": \"84880\", \"valid_best_weighted_lm_ppl\": \"73.0296\"}\r\n"
     ]
    },
    {
     "name": "stdout",
     "output_type": "stream",
     "text": [
      "[2021-06-09 00:02:35,711][fairseq.checkpoint_utils][INFO] - Preparing to save checkpoint for epoch 5305 @ 84880 updates\r\n",
      "[2021-06-09 00:02:35,712][fairseq.trainer][INFO] - Saving checkpoint to /kaggle/working/checkpoint_last.pt\r\n",
      "[2021-06-09 00:02:35,757][fairseq.trainer][INFO] - Finished saving checkpoint to /kaggle/working/checkpoint_last.pt\r\n",
      "[2021-06-09 00:02:35,757][fairseq.checkpoint_utils][INFO] - Saved checkpoint /kaggle/working/checkpoint_last.pt (epoch 5305 @ 84880 updates, score 75.82913809582038) (writing took 0.04636908400061657 seconds)\r\n",
      "[2021-06-09 00:02:35,757][fairseq_cli.train][INFO] - end of epoch 5305 (average epoch stats below)\r\n",
      "[2021-06-09 00:02:35,761][train][INFO] - {\"epoch\": 5305, \"train_loss\": \"3.404\", \"train_ntokens\": \"145.688\", \"train_nsentences\": \"145.688\", \"train_temp\": \"0.1\", \"train_code_ppl\": \"8.427\", \"train_loss_code_pen\": \"0.305\", \"train_loss_smoothness\": \"2.023\", \"train_loss_dense_g\": \"4.118\", \"train_lm_score_sum\": 0.0, \"train_num_pred_chars\": 0.0, \"train_loss_grad_pen\": \"0.084\", \"train_loss_dense_d\": \"0.023\", \"train_loss_token_d\": \"0.023\", \"train_wps\": \"9.8\", \"train_ups\": \"0.07\", \"train_wpb\": \"145.7\", \"train_bsz\": \"145.7\", \"train_num_updates\": \"84880\", \"train_lr_discriminator\": \"0.0005\", \"train_lr_generator\": \"0.0004\", \"train_gnorm\": \"31.817\", \"train_clip\": \"81.2\", \"train_train_wall\": \"234\", \"train_wall\": \"24277\"}\r\n"
     ]
    },
    {
     "name": "stdout",
     "output_type": "stream",
     "text": [
      "[2021-06-09 00:02:35,818][fairseq.trainer][INFO] - begin training epoch 5306\r\n",
      "[2021-06-09 00:02:35,819][fairseq_cli.train][INFO] - Start iterating over samples\r\n"
     ]
    },
    {
     "name": "stdout",
     "output_type": "stream",
     "text": [
      "[2021-06-09 00:06:28,332][fairseq_cli.train][INFO] - begin validation on \"valid\" subset\r\n"
     ]
    },
    {
     "name": "stdout",
     "output_type": "stream",
     "text": [
      "[2021-06-09 00:06:30,836][fairseq.tasks.unpaired_audio_text][INFO] - REF: ɛ n f œ ʂ ə n a d ɵ ʂ ə k t f øː r d eː t s ɔ m h ɛ n d ə p oː ɕ œ r k ɔ n s ɛ t ə n\r\n",
      "[2021-06-09 00:06:30,839][fairseq.tasks.unpaired_audio_text][INFO] - HYP: n ɪ s j œ r œ j yː b j uː œ yː yː k ə uː ɡ f œ øː j m ə m œ k b ə uː s eː r n v oː s l ɪ ŋ k ɪ l a s uː m k n t a\r\n",
      "[2021-06-09 00:06:30,843][fairseq.tasks.unpaired_audio_text][INFO] - LM [REF]: -53.44462585449219, 0.05339602260269112\r\n",
      "[2021-06-09 00:06:30,843][fairseq.tasks.unpaired_audio_text][INFO] - LM [HYP]: -97.49337768554688, 0.014471125429605531\r\n"
     ]
    },
    {
     "name": "stdout",
     "output_type": "stream",
     "text": [
      "[2021-06-09 00:06:31,340][valid][INFO] - {\"epoch\": 5306, \"valid_loss\": \"1.004\", \"valid_ntokens\": \"3039.79\", \"valid_nsentences\": \"144.214\", \"valid_lm_score_sum\": \"-89776.1\", \"valid_num_pred_chars\": \"48500\", \"valid_vocab_seen_pct\": \"0.88676\", \"valid_uer\": \"100.376\", \"valid_weighted_lm_ppl\": \"76.1138\", \"valid_lm_ppl\": \"59.8515\", \"valid_wps\": \"18278.4\", \"valid_wpb\": \"3039.8\", \"valid_bsz\": \"144.2\", \"valid_num_updates\": \"84896\", \"valid_best_weighted_lm_ppl\": \"73.0296\"}\r\n",
      "[2021-06-09 00:06:31,343][fairseq.checkpoint_utils][INFO] - Preparing to save checkpoint for epoch 5306 @ 84896 updates\r\n",
      "[2021-06-09 00:06:31,344][fairseq.trainer][INFO] - Saving checkpoint to /kaggle/working/checkpoint_last.pt\r\n"
     ]
    },
    {
     "name": "stdout",
     "output_type": "stream",
     "text": [
      "[2021-06-09 00:06:31,388][fairseq.trainer][INFO] - Finished saving checkpoint to /kaggle/working/checkpoint_last.pt\r\n",
      "[2021-06-09 00:06:31,388][fairseq.checkpoint_utils][INFO] - Saved checkpoint /kaggle/working/checkpoint_last.pt (epoch 5306 @ 84896 updates, score 76.11379590718454) (writing took 0.04586672600271413 seconds)\r\n",
      "[2021-06-09 00:06:31,389][fairseq_cli.train][INFO] - end of epoch 5306 (average epoch stats below)\r\n",
      "[2021-06-09 00:06:31,393][train][INFO] - {\"epoch\": 5306, \"train_loss\": \"3.87\", \"train_ntokens\": \"145.688\", \"train_nsentences\": \"145.688\", \"train_temp\": \"0.1\", \"train_code_ppl\": \"8.517\", \"train_loss_code_pen\": \"0.314\", \"train_loss_smoothness\": \"2.087\", \"train_loss_dense_g\": \"4.426\", \"train_lm_score_sum\": 0.0, \"train_num_pred_chars\": 0.0, \"train_loss_grad_pen\": \"0.195\", \"train_loss_dense_d\": \"0.024\", \"train_loss_token_d\": \"0.048\", \"train_wps\": \"9.9\", \"train_ups\": \"0.07\", \"train_wpb\": \"145.7\", \"train_bsz\": \"145.7\", \"train_num_updates\": \"84896\", \"train_lr_discriminator\": \"0.0005\", \"train_lr_generator\": \"0.0004\", \"train_gnorm\": \"54.397\", \"train_clip\": \"87.5\", \"train_train_wall\": \"232\", \"train_wall\": \"24513\"}\r\n"
     ]
    },
    {
     "name": "stdout",
     "output_type": "stream",
     "text": [
      "[2021-06-09 00:06:31,451][fairseq.trainer][INFO] - begin training epoch 5307\r\n",
      "[2021-06-09 00:06:31,452][fairseq_cli.train][INFO] - Start iterating over samples\r\n"
     ]
    },
    {
     "name": "stdout",
     "output_type": "stream",
     "text": [
      "[2021-06-09 00:07:35,618][train_inner][INFO] - {\"epoch\": 5307, \"update\": 5306.25, \"loss\": \"3.317\", \"ntokens\": \"146.26\", \"nsentences\": \"146.26\", \"temp\": \"0.1\", \"code_ppl\": \"8.641\", \"loss_code_pen\": \"0.319\", \"loss_smoothness\": \"2.067\", \"loss_dense_g\": \"4.232\", \"lm_score_sum\": 0.0, \"num_pred_chars\": 0.0, \"loss_grad_pen\": \"0.096\", \"loss_dense_d\": \"0.022\", \"loss_token_d\": \"0.025\", \"wps\": \"9.4\", \"ups\": \"0.06\", \"wpb\": \"146.3\", \"bsz\": \"146.3\", \"num_updates\": \"84900\", \"lr_discriminator\": \"0.0005\", \"lr_generator\": \"0.0004\", \"gnorm\": \"34.675\", \"clip\": \"78\", \"train_wall\": \"1534\", \"wall\": \"24577\"}\r\n"
     ]
    },
    {
     "name": "stdout",
     "output_type": "stream",
     "text": [
      "[2021-06-09 00:10:22,642][fairseq_cli.train][INFO] - begin validation on \"valid\" subset\r\n"
     ]
    },
    {
     "name": "stdout",
     "output_type": "stream",
     "text": [
      "[2021-06-09 00:10:25,100][fairseq.tasks.unpaired_audio_text][INFO] - REF: ɛ n f œ ʂ ə n a d ɵ ʂ ə k t f øː r d eː t s ɔ m h ɛ n d ə p oː ɕ œ r k ɔ n s ɛ t ə n\r\n",
      "[2021-06-09 00:10:25,103][fairseq.tasks.unpaired_audio_text][INFO] - HYP: n ɪ s j œ r œ j yː b j uː œ yː k j uː ɡ f œ øː j m b ə m œ k b ə uː s eː r n v oː s l ɪ ŋ k ɪ l a s uː m a n t a\r\n",
      "[2021-06-09 00:10:25,107][fairseq.tasks.unpaired_audio_text][INFO] - LM [REF]: -53.44462585449219, 0.05339602260269112\r\n",
      "[2021-06-09 00:10:25,107][fairseq.tasks.unpaired_audio_text][INFO] - LM [HYP]: -94.01239013671875, 0.01683376725049012\r\n"
     ]
    },
    {
     "name": "stdout",
     "output_type": "stream",
     "text": [
      "[2021-06-09 00:10:25,612][valid][INFO] - {\"epoch\": 5307, \"valid_loss\": \"1.002\", \"valid_ntokens\": \"3039.79\", \"valid_nsentences\": \"144.214\", \"valid_lm_score_sum\": \"-89562.7\", \"valid_num_pred_chars\": \"48426\", \"valid_vocab_seen_pct\": \"0.881533\", \"valid_uer\": \"100.207\", \"valid_weighted_lm_ppl\": \"76.7318\", \"valid_lm_ppl\": \"59.6283\", \"valid_wps\": \"18444.3\", \"valid_wpb\": \"3039.8\", \"valid_bsz\": \"144.2\", \"valid_num_updates\": \"84912\", \"valid_best_weighted_lm_ppl\": \"73.0296\"}\r\n",
      "[2021-06-09 00:10:25,615][fairseq.checkpoint_utils][INFO] - Preparing to save checkpoint for epoch 5307 @ 84912 updates\r\n",
      "[2021-06-09 00:10:25,616][fairseq.trainer][INFO] - Saving checkpoint to /kaggle/working/checkpoint_last.pt\r\n"
     ]
    },
    {
     "name": "stdout",
     "output_type": "stream",
     "text": [
      "[2021-06-09 00:10:25,661][fairseq.trainer][INFO] - Finished saving checkpoint to /kaggle/working/checkpoint_last.pt\r\n",
      "[2021-06-09 00:10:25,661][fairseq.checkpoint_utils][INFO] - Saved checkpoint /kaggle/working/checkpoint_last.pt (epoch 5307 @ 84912 updates, score 76.73176553498945) (writing took 0.04601634700156865 seconds)\r\n",
      "[2021-06-09 00:10:25,662][fairseq_cli.train][INFO] - end of epoch 5307 (average epoch stats below)\r\n",
      "[2021-06-09 00:10:25,665][train][INFO] - {\"epoch\": 5307, \"train_loss\": \"3.506\", \"train_ntokens\": \"145.688\", \"train_nsentences\": \"145.688\", \"train_temp\": \"0.1\", \"train_code_ppl\": \"8.658\", \"train_loss_code_pen\": \"0.32\", \"train_loss_smoothness\": \"2.066\", \"train_loss_dense_g\": \"4.197\", \"train_lm_score_sum\": 0.0, \"train_num_pred_chars\": 0.0, \"train_loss_grad_pen\": \"0.135\", \"train_loss_dense_d\": \"0.024\", \"train_loss_token_d\": \"0.038\", \"train_wps\": \"10\", \"train_ups\": \"0.07\", \"train_wpb\": \"145.7\", \"train_bsz\": \"145.7\", \"train_num_updates\": \"84912\", \"train_lr_discriminator\": \"0.0005\", \"train_lr_generator\": \"0.0004\", \"train_gnorm\": \"36.561\", \"train_clip\": \"87.5\", \"train_train_wall\": \"231\", \"train_wall\": \"24747\"}\r\n"
     ]
    },
    {
     "name": "stdout",
     "output_type": "stream",
     "text": [
      "[2021-06-09 00:10:25,722][fairseq.trainer][INFO] - begin training epoch 5308\r\n",
      "[2021-06-09 00:10:25,724][fairseq_cli.train][INFO] - Start iterating over samples\r\n"
     ]
    },
    {
     "name": "stdout",
     "output_type": "stream",
     "text": [
      "[2021-06-09 00:14:28,440][fairseq_cli.train][INFO] - begin validation on \"valid\" subset\r\n"
     ]
    },
    {
     "name": "stdout",
     "output_type": "stream",
     "text": [
      "[2021-06-09 00:14:30,971][fairseq.tasks.unpaired_audio_text][INFO] - REF: ɛ n f œ ʂ ə n a d ɵ ʂ ə k t f øː r d eː t s ɔ m h ɛ n d ə p oː ɕ œ r k ɔ n s ɛ t ə n\r\n",
      "[2021-06-09 00:14:30,974][fairseq.tasks.unpaired_audio_text][INFO] - HYP: n ɪ n s j œ r œ j yː b j uː œ yː k ə uː ɡ f œ j m ə m œ k b ə uː s eː r n v oː s l ɪ ŋ k ɪ l a s d uː m a n t a\r\n"
     ]
    },
    {
     "name": "stdout",
     "output_type": "stream",
     "text": [
      "[2021-06-09 00:14:30,978][fairseq.tasks.unpaired_audio_text][INFO] - LM [REF]: -53.44462585449219, 0.05339602260269112\r\n",
      "[2021-06-09 00:14:30,979][fairseq.tasks.unpaired_audio_text][INFO] - LM [HYP]: -92.71846008300781, 0.017807177707133255\r\n"
     ]
    },
    {
     "name": "stdout",
     "output_type": "stream",
     "text": [
      "[2021-06-09 00:14:31,490][valid][INFO] - {\"epoch\": 5308, \"valid_loss\": \"1.002\", \"valid_ntokens\": \"3039.79\", \"valid_nsentences\": \"144.214\", \"valid_lm_score_sum\": \"-89615.8\", \"valid_num_pred_chars\": \"48359\", \"valid_vocab_seen_pct\": \"0.878049\", \"valid_uer\": \"100.221\", \"valid_weighted_lm_ppl\": \"77.9527\", \"valid_lm_ppl\": \"60.0992\", \"valid_wps\": \"18165.8\", \"valid_wpb\": \"3039.8\", \"valid_bsz\": \"144.2\", \"valid_num_updates\": \"84928\", \"valid_best_weighted_lm_ppl\": \"73.0296\"}\r\n",
      "[2021-06-09 00:14:31,493][fairseq.checkpoint_utils][INFO] - Preparing to save checkpoint for epoch 5308 @ 84928 updates\r\n",
      "[2021-06-09 00:14:31,494][fairseq.trainer][INFO] - Saving checkpoint to /kaggle/working/checkpoint_last.pt\r\n"
     ]
    },
    {
     "name": "stdout",
     "output_type": "stream",
     "text": [
      "[2021-06-09 00:14:31,541][fairseq.trainer][INFO] - Finished saving checkpoint to /kaggle/working/checkpoint_last.pt\r\n",
      "[2021-06-09 00:14:31,541][fairseq.checkpoint_utils][INFO] - Saved checkpoint /kaggle/working/checkpoint_last.pt (epoch 5308 @ 84928 updates, score 77.95272139125399) (writing took 0.04864302299756673 seconds)\r\n",
      "[2021-06-09 00:14:31,542][fairseq_cli.train][INFO] - end of epoch 5308 (average epoch stats below)\r\n",
      "[2021-06-09 00:14:31,546][train][INFO] - {\"epoch\": 5308, \"train_loss\": \"3.302\", \"train_ntokens\": \"145.688\", \"train_nsentences\": \"145.688\", \"train_temp\": \"0.1\", \"train_code_ppl\": \"8.459\", \"train_loss_code_pen\": \"0.319\", \"train_loss_smoothness\": \"2.068\", \"train_loss_dense_g\": \"3.885\", \"train_lm_score_sum\": 0.0, \"train_num_pred_chars\": 0.0, \"train_loss_grad_pen\": \"0.054\", \"train_loss_dense_d\": \"0.029\", \"train_loss_token_d\": \"0.023\", \"train_wps\": \"9.5\", \"train_ups\": \"0.07\", \"train_wpb\": \"145.7\", \"train_bsz\": \"145.7\", \"train_num_updates\": \"84928\", \"train_lr_discriminator\": \"0.0005\", \"train_lr_generator\": \"0.0004\", \"train_gnorm\": \"32.857\", \"train_clip\": \"62.5\", \"train_train_wall\": \"242\", \"train_wall\": \"24993\"}\r\n"
     ]
    },
    {
     "name": "stdout",
     "output_type": "stream",
     "text": [
      "[2021-06-09 00:14:31,605][fairseq.trainer][INFO] - begin training epoch 5309\r\n",
      "[2021-06-09 00:14:31,606][fairseq_cli.train][INFO] - Start iterating over samples\r\n"
     ]
    },
    {
     "name": "stdout",
     "output_type": "stream",
     "text": [
      "[2021-06-09 00:18:46,196][fairseq_cli.train][INFO] - begin validation on \"valid\" subset\r\n"
     ]
    },
    {
     "name": "stdout",
     "output_type": "stream",
     "text": [
      "[2021-06-09 00:18:48,685][fairseq.tasks.unpaired_audio_text][INFO] - REF: ɛ n f œ ʂ ə n a d ɵ ʂ ə k t f øː r d eː t s ɔ m h ɛ n d ə p oː ɕ œ r k ɔ n s ɛ t ə n\r\n",
      "[2021-06-09 00:18:48,688][fairseq.tasks.unpaired_audio_text][INFO] - HYP: n ɪ n s j œ r œ j yː b j uː œ yː k ə uː ɡ f œ øː j m ə m œ k b ə uː s eː r n v oː s l ɪ ŋ k ɪ l s d uː t a n t a\r\n",
      "[2021-06-09 00:18:48,692][fairseq.tasks.unpaired_audio_text][INFO] - LM [REF]: -53.44462585449219, 0.05339602260269112\r\n",
      "[2021-06-09 00:18:48,692][fairseq.tasks.unpaired_audio_text][INFO] - LM [HYP]: -94.30017852783203, 0.01662460550737932\r\n"
     ]
    },
    {
     "name": "stdout",
     "output_type": "stream",
     "text": [
      "[2021-06-09 00:18:49,187][valid][INFO] - {\"epoch\": 5309, \"valid_loss\": \"0.999\", \"valid_ntokens\": \"3039.79\", \"valid_nsentences\": \"144.214\", \"valid_lm_score_sum\": \"-89311.4\", \"valid_num_pred_chars\": \"48230\", \"valid_vocab_seen_pct\": \"0.885017\", \"valid_uer\": \"99.8919\", \"valid_weighted_lm_ppl\": \"76.4668\", \"valid_lm_ppl\": \"59.8931\", \"valid_wps\": \"18497.1\", \"valid_wpb\": \"3039.8\", \"valid_bsz\": \"144.2\", \"valid_num_updates\": \"84944\", \"valid_best_weighted_lm_ppl\": \"73.0296\"}\r\n",
      "[2021-06-09 00:18:49,190][fairseq.checkpoint_utils][INFO] - Preparing to save checkpoint for epoch 5309 @ 84944 updates\r\n",
      "[2021-06-09 00:18:49,191][fairseq.trainer][INFO] - Saving checkpoint to /kaggle/working/checkpoint_last.pt\r\n"
     ]
    },
    {
     "name": "stdout",
     "output_type": "stream",
     "text": [
      "[2021-06-09 00:18:49,237][fairseq.trainer][INFO] - Finished saving checkpoint to /kaggle/working/checkpoint_last.pt\r\n",
      "[2021-06-09 00:18:49,237][fairseq.checkpoint_utils][INFO] - Saved checkpoint /kaggle/working/checkpoint_last.pt (epoch 5309 @ 84944 updates, score 76.46682773318567) (writing took 0.04768345000047702 seconds)\r\n",
      "[2021-06-09 00:18:49,238][fairseq_cli.train][INFO] - end of epoch 5309 (average epoch stats below)\r\n",
      "[2021-06-09 00:18:49,241][train][INFO] - {\"epoch\": 5309, \"train_loss\": \"2.995\", \"train_ntokens\": \"145.688\", \"train_nsentences\": \"145.688\", \"train_temp\": \"0.1\", \"train_code_ppl\": \"8.631\", \"train_loss_code_pen\": \"0.323\", \"train_loss_smoothness\": \"2.064\", \"train_loss_dense_g\": \"4.107\", \"train_lm_score_sum\": 0.0, \"train_num_pred_chars\": 0.0, \"train_loss_grad_pen\": \"0.072\", \"train_loss_dense_d\": \"0.027\", \"train_loss_token_d\": \"0.023\", \"train_wps\": \"9\", \"train_ups\": \"0.06\", \"train_wpb\": \"145.7\", \"train_bsz\": \"145.7\", \"train_num_updates\": \"84944\", \"train_lr_discriminator\": \"0.0005\", \"train_lr_generator\": \"0.0004\", \"train_gnorm\": \"30.824\", \"train_clip\": \"81.2\", \"train_train_wall\": \"254\", \"train_wall\": \"25250\"}\r\n"
     ]
    },
    {
     "name": "stdout",
     "output_type": "stream",
     "text": [
      "[2021-06-09 00:18:49,298][fairseq.trainer][INFO] - begin training epoch 5310\r\n",
      "[2021-06-09 00:18:49,299][fairseq_cli.train][INFO] - Start iterating over samples\r\n"
     ]
    },
    {
     "name": "stdout",
     "output_type": "stream",
     "text": [
      "[2021-06-09 00:22:26,502][fairseq_cli.train][INFO] - begin validation on \"valid\" subset\r\n"
     ]
    },
    {
     "name": "stdout",
     "output_type": "stream",
     "text": [
      "[2021-06-09 00:22:29,103][fairseq.tasks.unpaired_audio_text][INFO] - REF: ɛ n f œ ʂ ə n a d ɵ ʂ ə k t f øː r d eː t s ɔ m h ɛ n d ə p oː ɕ œ r k ɔ n s ɛ t ə n\r\n",
      "[2021-06-09 00:22:29,106][fairseq.tasks.unpaired_audio_text][INFO] - HYP: n ɪ n s j œ r œ j yː j uː œ yː k ə uː ɡ f œ j m uː ə m œ k b ə uː s eː r n v oː s l ɪ ŋ k ɪ l s d uː m a n t a\r\n",
      "[2021-06-09 00:22:29,110][fairseq.tasks.unpaired_audio_text][INFO] - LM [REF]: -53.44462585449219, 0.05339602260269112\r\n",
      "[2021-06-09 00:22:29,110][fairseq.tasks.unpaired_audio_text][INFO] - LM [HYP]: -91.36204528808594, 0.01749998154186629\r\n"
     ]
    },
    {
     "name": "stdout",
     "output_type": "stream",
     "text": [
      "[2021-06-09 00:22:29,621][valid][INFO] - {\"epoch\": 5310, \"valid_loss\": \"1.001\", \"valid_ntokens\": \"3039.79\", \"valid_nsentences\": \"144.214\", \"valid_lm_score_sum\": \"-89504.7\", \"valid_num_pred_chars\": \"48409\", \"valid_vocab_seen_pct\": \"0.879791\", \"valid_uer\": \"100.092\", \"valid_weighted_lm_ppl\": \"76.9382\", \"valid_lm_ppl\": \"59.5526\", \"valid_wps\": \"17779\", \"valid_wpb\": \"3039.8\", \"valid_bsz\": \"144.2\", \"valid_num_updates\": \"84960\", \"valid_best_weighted_lm_ppl\": \"73.0296\"}\r\n"
     ]
    },
    {
     "name": "stdout",
     "output_type": "stream",
     "text": [
      "[2021-06-09 00:22:29,624][fairseq.checkpoint_utils][INFO] - Preparing to save checkpoint for epoch 5310 @ 84960 updates\r\n",
      "[2021-06-09 00:22:29,626][fairseq.trainer][INFO] - Saving checkpoint to /kaggle/working/checkpoint_last.pt\r\n",
      "[2021-06-09 00:22:29,672][fairseq.trainer][INFO] - Finished saving checkpoint to /kaggle/working/checkpoint_last.pt\r\n",
      "[2021-06-09 00:22:29,672][fairseq.checkpoint_utils][INFO] - Saved checkpoint /kaggle/working/checkpoint_last.pt (epoch 5310 @ 84960 updates, score 76.93817471318239) (writing took 0.04775285099822213 seconds)\r\n",
      "[2021-06-09 00:22:29,673][fairseq_cli.train][INFO] - end of epoch 5310 (average epoch stats below)\r\n"
     ]
    },
    {
     "name": "stdout",
     "output_type": "stream",
     "text": [
      "[2021-06-09 00:22:29,676][train][INFO] - {\"epoch\": 5310, \"train_loss\": \"3.974\", \"train_ntokens\": \"145.688\", \"train_nsentences\": \"145.688\", \"train_temp\": \"0.1\", \"train_code_ppl\": \"8.722\", \"train_loss_code_pen\": \"0.327\", \"train_loss_smoothness\": \"2.109\", \"train_loss_dense_g\": \"4.584\", \"train_lm_score_sum\": 0.0, \"train_num_pred_chars\": 0.0, \"train_loss_grad_pen\": \"0.185\", \"train_loss_dense_d\": \"0.022\", \"train_loss_token_d\": \"0.057\", \"train_wps\": \"10.6\", \"train_ups\": \"0.07\", \"train_wpb\": \"145.7\", \"train_bsz\": \"145.7\", \"train_num_updates\": \"84960\", \"train_lr_discriminator\": \"0.0005\", \"train_lr_generator\": \"0.0004\", \"train_gnorm\": \"33.824\", \"train_clip\": \"87.5\", \"train_train_wall\": \"217\", \"train_wall\": \"25471\"}\r\n"
     ]
    },
    {
     "name": "stdout",
     "output_type": "stream",
     "text": [
      "[2021-06-09 00:22:29,736][fairseq.trainer][INFO] - begin training epoch 5311\r\n",
      "[2021-06-09 00:22:29,738][fairseq_cli.train][INFO] - Start iterating over samples\r\n"
     ]
    },
    {
     "name": "stdout",
     "output_type": "stream",
     "text": [
      "[2021-06-09 00:26:44,684][fairseq_cli.train][INFO] - begin validation on \"valid\" subset\r\n"
     ]
    },
    {
     "name": "stdout",
     "output_type": "stream",
     "text": [
      "[2021-06-09 00:26:47,181][fairseq.tasks.unpaired_audio_text][INFO] - REF: ɛ n f œ ʂ ə n a d ɵ ʂ ə k t f øː r d eː t s ɔ m h ɛ n d ə p oː ɕ œ r k ɔ n s ɛ t ə n\r\n",
      "[2021-06-09 00:26:47,184][fairseq.tasks.unpaired_audio_text][INFO] - HYP: n ɪ n s j œ r œ j j uː œ yː k j uː ɡ f œ øː j m ə m œ k b ə uː s eː r n v oː s l ɪ ŋ k ɪ l a s uː m a n t a\r\n",
      "[2021-06-09 00:26:47,188][fairseq.tasks.unpaired_audio_text][INFO] - LM [REF]: -53.44462585449219, 0.05339602260269112\r\n",
      "[2021-06-09 00:26:47,188][fairseq.tasks.unpaired_audio_text][INFO] - LM [HYP]: -88.46508026123047, 0.018424282460010773\r\n"
     ]
    },
    {
     "name": "stdout",
     "output_type": "stream",
     "text": [
      "[2021-06-09 00:26:47,804][valid][INFO] - {\"epoch\": 5311, \"valid_loss\": \"0.999\", \"valid_ntokens\": \"3039.79\", \"valid_nsentences\": \"144.214\", \"valid_lm_score_sum\": \"-89277.7\", \"valid_num_pred_chars\": \"48356\", \"valid_vocab_seen_pct\": \"0.883275\", \"valid_uer\": \"99.9201\", \"valid_weighted_lm_ppl\": \"75.8699\", \"valid_lm_ppl\": \"59.1918\", \"valid_wps\": \"17622.1\", \"valid_wpb\": \"3039.8\", \"valid_bsz\": \"144.2\", \"valid_num_updates\": \"84976\", \"valid_best_weighted_lm_ppl\": \"73.0296\"}\r\n",
      "[2021-06-09 00:26:47,808][fairseq.checkpoint_utils][INFO] - Preparing to save checkpoint for epoch 5311 @ 84976 updates\r\n",
      "[2021-06-09 00:26:47,809][fairseq.trainer][INFO] - Saving checkpoint to /kaggle/working/checkpoint_last.pt\r\n"
     ]
    },
    {
     "name": "stdout",
     "output_type": "stream",
     "text": [
      "[2021-06-09 00:26:47,856][fairseq.trainer][INFO] - Finished saving checkpoint to /kaggle/working/checkpoint_last.pt\r\n",
      "[2021-06-09 00:26:47,857][fairseq.checkpoint_utils][INFO] - Saved checkpoint /kaggle/working/checkpoint_last.pt (epoch 5311 @ 84976 updates, score 75.86987900678571) (writing took 0.04915286100003868 seconds)\r\n",
      "[2021-06-09 00:26:47,858][fairseq_cli.train][INFO] - end of epoch 5311 (average epoch stats below)\r\n",
      "[2021-06-09 00:26:47,860][train][INFO] - {\"epoch\": 5311, \"train_loss\": \"3.06\", \"train_ntokens\": \"145.688\", \"train_nsentences\": \"145.688\", \"train_temp\": \"0.1\", \"train_code_ppl\": \"8.564\", \"train_loss_code_pen\": \"0.336\", \"train_loss_smoothness\": \"2.086\", \"train_loss_dense_g\": \"4.2\", \"train_lm_score_sum\": 0.0, \"train_num_pred_chars\": 0.0, \"train_loss_grad_pen\": \"0.085\", \"train_loss_dense_d\": \"0.026\", \"train_loss_token_d\": \"0.024\", \"train_wps\": \"9\", \"train_ups\": \"0.06\", \"train_wpb\": \"145.7\", \"train_bsz\": \"145.7\", \"train_num_updates\": \"84976\", \"train_lr_discriminator\": \"0.0005\", \"train_lr_generator\": \"0.0004\", \"train_gnorm\": \"31.324\", \"train_clip\": \"81.2\", \"train_train_wall\": \"254\", \"train_wall\": \"25729\"}\r\n"
     ]
    },
    {
     "name": "stdout",
     "output_type": "stream",
     "text": [
      "[2021-06-09 00:26:47,922][fairseq.trainer][INFO] - begin training epoch 5312\r\n",
      "[2021-06-09 00:26:47,924][fairseq_cli.train][INFO] - Start iterating over samples\r\n"
     ]
    },
    {
     "name": "stdout",
     "output_type": "stream",
     "text": [
      "[2021-06-09 00:30:53,077][fairseq_cli.train][INFO] - begin validation on \"valid\" subset\r\n"
     ]
    },
    {
     "name": "stdout",
     "output_type": "stream",
     "text": [
      "[2021-06-09 00:30:55,565][fairseq.tasks.unpaired_audio_text][INFO] - REF: ɛ n f œ ʂ ə n a d ɵ ʂ ə k t f øː r d eː t s ɔ m h ɛ n d ə p oː ɕ œ r k ɔ n s ɛ t ə n\r\n",
      "[2021-06-09 00:30:55,567][fairseq.tasks.unpaired_audio_text][INFO] - HYP: n ɪ n s j œ r œ j j uː œ yː k j uː ɡ f œ øː j m ə m œ k ə uː s eː r n v oː s l ɪ ŋ k ɪ l a s uː m t n t a\r\n",
      "[2021-06-09 00:30:55,571][fairseq.tasks.unpaired_audio_text][INFO] - LM [REF]: -53.44462585449219, 0.05339602260269112\r\n",
      "[2021-06-09 00:30:55,572][fairseq.tasks.unpaired_audio_text][INFO] - LM [HYP]: -89.50220489501953, 0.01621645428471186\r\n"
     ]
    },
    {
     "name": "stdout",
     "output_type": "stream",
     "text": [
      "[2021-06-09 00:30:56,072][valid][INFO] - {\"epoch\": 5312, \"valid_loss\": \"1\", \"valid_ntokens\": \"3039.79\", \"valid_nsentences\": \"144.214\", \"valid_lm_score_sum\": \"-89387.7\", \"valid_num_pred_chars\": \"48362\", \"valid_vocab_seen_pct\": \"0.881533\", \"valid_uer\": \"100.047\", \"valid_weighted_lm_ppl\": \"76.5167\", \"valid_lm_ppl\": \"59.4612\", \"valid_wps\": \"18834.1\", \"valid_wpb\": \"3039.8\", \"valid_bsz\": \"144.2\", \"valid_num_updates\": \"84992\", \"valid_best_weighted_lm_ppl\": \"73.0296\"}\r\n"
     ]
    },
    {
     "name": "stdout",
     "output_type": "stream",
     "text": [
      "[2021-06-09 00:30:56,076][fairseq.checkpoint_utils][INFO] - Preparing to save checkpoint for epoch 5312 @ 84992 updates\r\n",
      "[2021-06-09 00:30:56,078][fairseq.trainer][INFO] - Saving checkpoint to /kaggle/working/checkpoint_last.pt\r\n",
      "[2021-06-09 00:30:56,123][fairseq.trainer][INFO] - Finished saving checkpoint to /kaggle/working/checkpoint_last.pt\r\n",
      "[2021-06-09 00:30:56,123][fairseq.checkpoint_utils][INFO] - Saved checkpoint /kaggle/working/checkpoint_last.pt (epoch 5312 @ 84992 updates, score 76.51668943295414) (writing took 0.04698534000272048 seconds)\r\n",
      "[2021-06-09 00:30:56,124][fairseq_cli.train][INFO] - end of epoch 5312 (average epoch stats below)\r\n"
     ]
    },
    {
     "name": "stdout",
     "output_type": "stream",
     "text": [
      "[2021-06-09 00:30:56,128][train][INFO] - {\"epoch\": 5312, \"train_loss\": \"3.364\", \"train_ntokens\": \"145.688\", \"train_nsentences\": \"145.688\", \"train_temp\": \"0.1\", \"train_code_ppl\": \"8.942\", \"train_loss_code_pen\": \"0.355\", \"train_loss_smoothness\": \"2.156\", \"train_loss_dense_g\": \"4.343\", \"train_lm_score_sum\": 0.0, \"train_num_pred_chars\": 0.0, \"train_loss_grad_pen\": \"0.068\", \"train_loss_dense_d\": \"0.025\", \"train_loss_token_d\": \"0.027\", \"train_wps\": \"9.4\", \"train_ups\": \"0.06\", \"train_wpb\": \"145.7\", \"train_bsz\": \"145.7\", \"train_num_updates\": \"84992\", \"train_lr_discriminator\": \"0.0005\", \"train_lr_generator\": \"0.0004\", \"train_gnorm\": \"30.607\", \"train_clip\": \"87.5\", \"train_train_wall\": \"245\", \"train_wall\": \"25977\"}\r\n"
     ]
    },
    {
     "name": "stdout",
     "output_type": "stream",
     "text": [
      "[2021-06-09 00:30:56,189][fairseq.trainer][INFO] - begin training epoch 5313\r\n",
      "[2021-06-09 00:30:56,191][fairseq_cli.train][INFO] - Start iterating over samples\r\n"
     ]
    },
    {
     "name": "stdout",
     "output_type": "stream",
     "text": [
      "[2021-06-09 00:33:07,802][train_inner][INFO] - {\"epoch\": 5313, \"update\": 5312.5, \"loss\": \"3.358\", \"ntokens\": \"146.26\", \"nsentences\": \"146.26\", \"temp\": \"0.1\", \"code_ppl\": \"8.659\", \"loss_code_pen\": \"0.33\", \"loss_smoothness\": \"2.092\", \"loss_dense_g\": \"4.208\", \"lm_score_sum\": 0.0, \"num_pred_chars\": 0.0, \"loss_grad_pen\": \"0.092\", \"loss_dense_d\": \"0.026\", \"loss_token_d\": \"0.031\", \"wps\": \"9.5\", \"ups\": \"0.07\", \"wpb\": \"146.3\", \"bsz\": \"146.3\", \"num_updates\": \"85000\", \"lr_discriminator\": \"0.0005\", \"lr_generator\": \"0.0004\", \"gnorm\": \"32.445\", \"clip\": \"81\", \"train_wall\": \"1511\", \"wall\": \"26109\"}\r\n"
     ]
    },
    {
     "name": "stdout",
     "output_type": "stream",
     "text": [
      "[2021-06-09 00:34:39,693][fairseq_cli.train][INFO] - begin validation on \"valid\" subset\r\n"
     ]
    },
    {
     "name": "stdout",
     "output_type": "stream",
     "text": [
      "[2021-06-09 00:34:42,119][fairseq.tasks.unpaired_audio_text][INFO] - REF: ɛ n f œ ʂ ə n a d ɵ ʂ ə k t f øː r d eː t s ɔ m h ɛ n d ə p oː ɕ œ r k ɔ n s ɛ t ə n\r\n",
      "[2021-06-09 00:34:42,121][fairseq.tasks.unpaired_audio_text][INFO] - HYP: n ɪ s j œ r œ j yː j uː œ yː k ə uː ɡ f œ øː j m ə m œ k b ə uː s eː r n v oː s l ɪ ŋ k ɪ l s œ uː m a n t a\r\n",
      "[2021-06-09 00:34:42,126][fairseq.tasks.unpaired_audio_text][INFO] - LM [REF]: -53.44462585449219, 0.05339602260269112\r\n",
      "[2021-06-09 00:34:42,126][fairseq.tasks.unpaired_audio_text][INFO] - LM [HYP]: -91.64508819580078, 0.01596016902330621\r\n"
     ]
    },
    {
     "name": "stdout",
     "output_type": "stream",
     "text": [
      "[2021-06-09 00:34:42,623][valid][INFO] - {\"epoch\": 5313, \"valid_loss\": \"1\", \"valid_ntokens\": \"3039.79\", \"valid_nsentences\": \"144.214\", \"valid_lm_score_sum\": \"-89326.9\", \"valid_num_pred_chars\": \"48334\", \"valid_vocab_seen_pct\": \"0.883275\", \"valid_uer\": \"99.9953\", \"valid_weighted_lm_ppl\": \"76.1767\", \"valid_lm_ppl\": \"59.4312\", \"valid_wps\": \"18873\", \"valid_wpb\": \"3039.8\", \"valid_bsz\": \"144.2\", \"valid_num_updates\": \"85008\", \"valid_best_weighted_lm_ppl\": \"73.0296\"}\r\n"
     ]
    },
    {
     "name": "stdout",
     "output_type": "stream",
     "text": [
      "[2021-06-09 00:34:42,627][fairseq.checkpoint_utils][INFO] - Preparing to save checkpoint for epoch 5313 @ 85008 updates\r\n",
      "[2021-06-09 00:34:42,628][fairseq.trainer][INFO] - Saving checkpoint to /kaggle/working/checkpoint_last.pt\r\n",
      "[2021-06-09 00:34:42,672][fairseq.trainer][INFO] - Finished saving checkpoint to /kaggle/working/checkpoint_last.pt\r\n",
      "[2021-06-09 00:34:42,672][fairseq.checkpoint_utils][INFO] - Saved checkpoint /kaggle/working/checkpoint_last.pt (epoch 5313 @ 85008 updates, score 76.17669341356367) (writing took 0.04523439399781637 seconds)\r\n",
      "[2021-06-09 00:34:42,672][fairseq_cli.train][INFO] - end of epoch 5313 (average epoch stats below)\r\n",
      "[2021-06-09 00:34:42,675][train][INFO] - {\"epoch\": 5313, \"train_loss\": \"3.695\", \"train_ntokens\": \"145.688\", \"train_nsentences\": \"145.688\", \"train_temp\": \"0.1\", \"train_code_ppl\": \"8.552\", \"train_loss_code_pen\": \"0.326\", \"train_loss_smoothness\": \"2.077\", \"train_loss_dense_g\": \"4.225\", \"train_lm_score_sum\": 0.0, \"train_num_pred_chars\": 0.0, \"train_loss_grad_pen\": \"0.071\", \"train_loss_dense_d\": \"0.025\", \"train_loss_token_d\": \"0.027\", \"train_wps\": \"10.3\", \"train_ups\": \"0.07\", \"train_wpb\": \"145.7\", \"train_bsz\": \"145.7\", \"train_num_updates\": \"85008\", \"train_lr_discriminator\": \"0.0005\", \"train_lr_generator\": \"0.0004\", \"train_gnorm\": \"32.881\", \"train_clip\": \"75\", \"train_train_wall\": \"223\", \"train_wall\": \"26204\"}\r\n"
     ]
    },
    {
     "name": "stdout",
     "output_type": "stream",
     "text": [
      "[2021-06-09 00:34:42,729][fairseq.trainer][INFO] - begin training epoch 5314\r\n",
      "[2021-06-09 00:34:42,731][fairseq_cli.train][INFO] - Start iterating over samples\r\n"
     ]
    },
    {
     "name": "stdout",
     "output_type": "stream",
     "text": [
      "[2021-06-09 00:38:23,350][fairseq_cli.train][INFO] - begin validation on \"valid\" subset\r\n"
     ]
    },
    {
     "name": "stdout",
     "output_type": "stream",
     "text": [
      "[2021-06-09 00:38:25,851][fairseq.tasks.unpaired_audio_text][INFO] - REF: ɛ n f œ ʂ ə n a d ɵ ʂ ə k t f øː r d eː t s ɔ m h ɛ n d ə p oː ɕ œ r k ɔ n s ɛ t ə n\r\n",
      "[2021-06-09 00:38:25,854][fairseq.tasks.unpaired_audio_text][INFO] - HYP: n ɪ n s j œ r œ j j uː yː k j uː ɡ f œ j m ə m œ k ə uː s eː r n v oː s l ɪ ŋ k ɪ l s d uː t a n t a\r\n",
      "[2021-06-09 00:38:25,858][fairseq.tasks.unpaired_audio_text][INFO] - LM [REF]: -53.44462585449219, 0.05339602260269112\r\n",
      "[2021-06-09 00:38:25,858][fairseq.tasks.unpaired_audio_text][INFO] - LM [HYP]: -83.1326904296875, 0.018538259168257944\r\n"
     ]
    },
    {
     "name": "stdout",
     "output_type": "stream",
     "text": [
      "[2021-06-09 00:38:26,367][valid][INFO] - {\"epoch\": 5314, \"valid_loss\": \"0.998\", \"valid_ntokens\": \"3039.79\", \"valid_nsentences\": \"144.214\", \"valid_lm_score_sum\": \"-89313.7\", \"valid_num_pred_chars\": \"48171\", \"valid_vocab_seen_pct\": \"0.88676\", \"valid_uer\": \"99.8285\", \"valid_weighted_lm_ppl\": \"76.5422\", \"valid_lm_ppl\": \"60.1884\", \"valid_wps\": \"18274.7\", \"valid_wpb\": \"3039.8\", \"valid_bsz\": \"144.2\", \"valid_num_updates\": \"85024\", \"valid_best_weighted_lm_ppl\": \"73.0296\"}\r\n",
      "[2021-06-09 00:38:26,370][fairseq.checkpoint_utils][INFO] - Preparing to save checkpoint for epoch 5314 @ 85024 updates\r\n"
     ]
    },
    {
     "name": "stdout",
     "output_type": "stream",
     "text": [
      "[2021-06-09 00:38:26,371][fairseq.trainer][INFO] - Saving checkpoint to /kaggle/working/checkpoint_last.pt\r\n",
      "[2021-06-09 00:38:26,418][fairseq.trainer][INFO] - Finished saving checkpoint to /kaggle/working/checkpoint_last.pt\r\n",
      "[2021-06-09 00:38:26,418][fairseq.checkpoint_utils][INFO] - Saved checkpoint /kaggle/working/checkpoint_last.pt (epoch 5314 @ 85024 updates, score 76.54221713545148) (writing took 0.047891249996609986 seconds)\r\n",
      "[2021-06-09 00:38:26,418][fairseq_cli.train][INFO] - end of epoch 5314 (average epoch stats below)\r\n",
      "[2021-06-09 00:38:26,421][train][INFO] - {\"epoch\": 5314, \"train_loss\": \"3.754\", \"train_ntokens\": \"145.688\", \"train_nsentences\": \"145.688\", \"train_temp\": \"0.1\", \"train_code_ppl\": \"8.739\", \"train_loss_code_pen\": \"0.339\", \"train_loss_smoothness\": \"2.129\", \"train_loss_dense_g\": \"4.204\", \"train_lm_score_sum\": 0.0, \"train_num_pred_chars\": 0.0, \"train_loss_grad_pen\": \"0.119\", \"train_loss_dense_d\": \"0.038\", \"train_loss_token_d\": \"0.044\", \"train_wps\": \"10.4\", \"train_ups\": \"0.07\", \"train_wpb\": \"145.7\", \"train_bsz\": \"145.7\", \"train_num_updates\": \"85024\", \"train_lr_discriminator\": \"0.0005\", \"train_lr_generator\": \"0.0004\", \"train_gnorm\": \"34.155\", \"train_clip\": \"81.2\", \"train_train_wall\": \"220\", \"train_wall\": \"26428\"}\r\n"
     ]
    },
    {
     "name": "stdout",
     "output_type": "stream",
     "text": [
      "[2021-06-09 00:38:26,478][fairseq.trainer][INFO] - begin training epoch 5315\r\n",
      "[2021-06-09 00:38:26,479][fairseq_cli.train][INFO] - Start iterating over samples\r\n"
     ]
    },
    {
     "name": "stdout",
     "output_type": "stream",
     "text": [
      "[2021-06-09 00:42:19,620][fairseq_cli.train][INFO] - begin validation on \"valid\" subset\r\n"
     ]
    },
    {
     "name": "stdout",
     "output_type": "stream",
     "text": [
      "[2021-06-09 00:42:22,219][fairseq.tasks.unpaired_audio_text][INFO] - REF: ɛ n f œ ʂ ə n a d ɵ ʂ ə k t f øː r d eː t s ɔ m h ɛ n d ə p oː ɕ œ r k ɔ n s ɛ t ə n\r\n",
      "[2021-06-09 00:42:22,221][fairseq.tasks.unpaired_audio_text][INFO] - HYP: n ɪ n s j œ r œ j yː j uː œ yː k j uː f œ j ə m œ k ə uː s eː r n v oː s l ɪ ŋ k ɪ l s uː t a n t a\r\n",
      "[2021-06-09 00:42:22,225][fairseq.tasks.unpaired_audio_text][INFO] - LM [REF]: -53.44462585449219, 0.05339602260269112\r\n",
      "[2021-06-09 00:42:22,226][fairseq.tasks.unpaired_audio_text][INFO] - LM [HYP]: -82.70973205566406, 0.017386752296060324\r\n"
     ]
    },
    {
     "name": "stdout",
     "output_type": "stream",
     "text": [
      "[2021-06-09 00:42:22,743][valid][INFO] - {\"epoch\": 5315, \"valid_loss\": \"1.001\", \"valid_ntokens\": \"3039.79\", \"valid_nsentences\": \"144.214\", \"valid_lm_score_sum\": \"-89487.1\", \"valid_num_pred_chars\": \"48356\", \"valid_vocab_seen_pct\": \"0.88676\", \"valid_uer\": \"100.082\", \"valid_weighted_lm_ppl\": \"75.9987\", \"valid_lm_ppl\": \"59.761\", \"valid_wps\": \"17902.4\", \"valid_wpb\": \"3039.8\", \"valid_bsz\": \"144.2\", \"valid_num_updates\": \"85040\", \"valid_best_weighted_lm_ppl\": \"73.0296\"}\r\n",
      "[2021-06-09 00:42:22,746][fairseq.checkpoint_utils][INFO] - Preparing to save checkpoint for epoch 5315 @ 85040 updates\r\n",
      "[2021-06-09 00:42:22,747][fairseq.trainer][INFO] - Saving checkpoint to /kaggle/working/checkpoint_last.pt\r\n"
     ]
    },
    {
     "name": "stdout",
     "output_type": "stream",
     "text": [
      "[2021-06-09 00:42:22,794][fairseq.trainer][INFO] - Finished saving checkpoint to /kaggle/working/checkpoint_last.pt\r\n",
      "[2021-06-09 00:42:22,795][fairseq.checkpoint_utils][INFO] - Saved checkpoint /kaggle/working/checkpoint_last.pt (epoch 5315 @ 85040 updates, score 75.99871478357575) (writing took 0.048511426997720264 seconds)\r\n",
      "[2021-06-09 00:42:22,795][fairseq_cli.train][INFO] - end of epoch 5315 (average epoch stats below)\r\n",
      "[2021-06-09 00:42:22,798][train][INFO] - {\"epoch\": 5315, \"train_loss\": \"3.597\", \"train_ntokens\": \"145.688\", \"train_nsentences\": \"145.688\", \"train_temp\": \"0.1\", \"train_code_ppl\": \"8.679\", \"train_loss_code_pen\": \"0.341\", \"train_loss_smoothness\": \"2.098\", \"train_loss_dense_g\": \"4.201\", \"train_lm_score_sum\": 0.0, \"train_num_pred_chars\": 0.0, \"train_loss_grad_pen\": \"0.264\", \"train_loss_dense_d\": \"0.029\", \"train_loss_token_d\": \"0.03\", \"train_wps\": \"9.9\", \"train_ups\": \"0.07\", \"train_wpb\": \"145.7\", \"train_bsz\": \"145.7\", \"train_num_updates\": \"85040\", \"train_lr_discriminator\": \"0.0005\", \"train_lr_generator\": \"0.0004\", \"train_gnorm\": \"190.47\", \"train_clip\": \"75\", \"train_train_wall\": \"233\", \"train_wall\": \"26664\"}\r\n"
     ]
    },
    {
     "name": "stdout",
     "output_type": "stream",
     "text": [
      "[2021-06-09 00:42:22,859][fairseq.trainer][INFO] - begin training epoch 5316\r\n",
      "[2021-06-09 00:42:22,861][fairseq_cli.train][INFO] - Start iterating over samples\r\n"
     ]
    },
    {
     "name": "stdout",
     "output_type": "stream",
     "text": [
      "[2021-06-09 00:46:05,272][fairseq_cli.train][INFO] - begin validation on \"valid\" subset\r\n"
     ]
    },
    {
     "name": "stdout",
     "output_type": "stream",
     "text": [
      "[2021-06-09 00:46:07,774][fairseq.tasks.unpaired_audio_text][INFO] - REF: ɛ n f œ ʂ ə n a d ɵ ʂ ə k t f øː r d eː t s ɔ m h ɛ n d ə p oː ɕ œ r k ɔ n s ɛ t ə n\r\n",
      "[2021-06-09 00:46:07,776][fairseq.tasks.unpaired_audio_text][INFO] - HYP: n ɪ s j œ r œ j yː j uː œ yː k j uː f œ j m ə m œ k b ə uː s eː r n v oː s l ɪ ŋ k ɪ l s uː t k n t a\r\n",
      "[2021-06-09 00:46:07,780][fairseq.tasks.unpaired_audio_text][INFO] - LM [REF]: -53.44462585449219, 0.05339602260269112\r\n",
      "[2021-06-09 00:46:07,780][fairseq.tasks.unpaired_audio_text][INFO] - LM [HYP]: -88.4636001586914, 0.014355169671614555\r\n"
     ]
    },
    {
     "name": "stdout",
     "output_type": "stream",
     "text": [
      "[2021-06-09 00:46:08,285][valid][INFO] - {\"epoch\": 5316, \"valid_loss\": \"1.001\", \"valid_ntokens\": \"3039.79\", \"valid_nsentences\": \"144.214\", \"valid_lm_score_sum\": \"-89538.7\", \"valid_num_pred_chars\": \"48350\", \"valid_vocab_seen_pct\": \"0.881533\", \"valid_uer\": \"100.106\", \"valid_weighted_lm_ppl\": \"77.1218\", \"valid_lm_ppl\": \"59.9314\", \"valid_wps\": \"18421.7\", \"valid_wpb\": \"3039.8\", \"valid_bsz\": \"144.2\", \"valid_num_updates\": \"85056\", \"valid_best_weighted_lm_ppl\": \"73.0296\"}\r\n",
      "[2021-06-09 00:46:08,289][fairseq.checkpoint_utils][INFO] - Preparing to save checkpoint for epoch 5316 @ 85056 updates\r\n",
      "[2021-06-09 00:46:08,290][fairseq.trainer][INFO] - Saving checkpoint to /kaggle/working/checkpoint_last.pt\r\n"
     ]
    },
    {
     "name": "stdout",
     "output_type": "stream",
     "text": [
      "[2021-06-09 00:46:08,335][fairseq.trainer][INFO] - Finished saving checkpoint to /kaggle/working/checkpoint_last.pt\r\n",
      "[2021-06-09 00:46:08,335][fairseq.checkpoint_utils][INFO] - Saved checkpoint /kaggle/working/checkpoint_last.pt (epoch 5316 @ 85056 updates, score 77.12180667619752) (writing took 0.046216982998885214 seconds)\r\n",
      "[2021-06-09 00:46:08,335][fairseq_cli.train][INFO] - end of epoch 5316 (average epoch stats below)\r\n",
      "[2021-06-09 00:46:08,338][train][INFO] - {\"epoch\": 5316, \"train_loss\": \"3.577\", \"train_ntokens\": \"145.688\", \"train_nsentences\": \"145.688\", \"train_temp\": \"0.1\", \"train_code_ppl\": \"8.663\", \"train_loss_code_pen\": \"0.334\", \"train_loss_smoothness\": \"2.091\", \"train_loss_dense_g\": \"3.95\", \"train_lm_score_sum\": 0.0, \"train_num_pred_chars\": 0.0, \"train_loss_grad_pen\": \"0.116\", \"train_loss_dense_d\": \"0.026\", \"train_loss_token_d\": \"0.028\", \"train_wps\": \"10.3\", \"train_ups\": \"0.07\", \"train_wpb\": \"145.7\", \"train_bsz\": \"145.7\", \"train_num_updates\": \"85056\", \"train_lr_discriminator\": \"0.0005\", \"train_lr_generator\": \"0.0004\", \"train_gnorm\": \"32.417\", \"train_clip\": \"87.5\", \"train_train_wall\": \"222\", \"train_wall\": \"26890\"}\r\n"
     ]
    },
    {
     "name": "stdout",
     "output_type": "stream",
     "text": [
      "[2021-06-09 00:46:08,392][fairseq.trainer][INFO] - begin training epoch 5317\r\n",
      "[2021-06-09 00:46:08,393][fairseq_cli.train][INFO] - Start iterating over samples\r\n"
     ]
    },
    {
     "name": "stdout",
     "output_type": "stream",
     "text": [
      "[2021-06-09 00:49:52,151][fairseq_cli.train][INFO] - begin validation on \"valid\" subset\r\n"
     ]
    },
    {
     "name": "stdout",
     "output_type": "stream",
     "text": [
      "[2021-06-09 00:49:54,635][fairseq.tasks.unpaired_audio_text][INFO] - REF: ɛ n f œ ʂ ə n a d ɵ ʂ ə k t f øː r d eː t s ɔ m h ɛ n d ə p oː ɕ œ r k ɔ n s ɛ t ə n\r\n",
      "[2021-06-09 00:49:54,638][fairseq.tasks.unpaired_audio_text][INFO] - HYP: n ɪ s j œ r œ j yː j uː œ yː k j uː f œ j m ə m œ k b ə uː s eː r n v oː s l ɪ ŋ k ɪ l s uː t a n t a\r\n",
      "[2021-06-09 00:49:54,642][fairseq.tasks.unpaired_audio_text][INFO] - LM [REF]: -53.44462585449219, 0.05339602260269112\r\n",
      "[2021-06-09 00:49:54,642][fairseq.tasks.unpaired_audio_text][INFO] - LM [HYP]: -85.993896484375, 0.01616071196780958\r\n"
     ]
    },
    {
     "name": "stdout",
     "output_type": "stream",
     "text": [
      "[2021-06-09 00:49:55,153][valid][INFO] - {\"epoch\": 5317, \"valid_loss\": \"1.002\", \"valid_ntokens\": \"3039.79\", \"valid_nsentences\": \"144.214\", \"valid_lm_score_sum\": \"-89598.3\", \"valid_num_pred_chars\": \"48444\", \"valid_vocab_seen_pct\": \"0.885017\", \"valid_uer\": \"100.176\", \"valid_weighted_lm_ppl\": \"76.1415\", \"valid_lm_ppl\": \"59.6383\", \"valid_wps\": \"18577.8\", \"valid_wpb\": \"3039.8\", \"valid_bsz\": \"144.2\", \"valid_num_updates\": \"85072\", \"valid_best_weighted_lm_ppl\": \"73.0296\"}\r\n",
      "[2021-06-09 00:49:55,156][fairseq.checkpoint_utils][INFO] - Preparing to save checkpoint for epoch 5317 @ 85072 updates\r\n",
      "[2021-06-09 00:49:55,157][fairseq.trainer][INFO] - Saving checkpoint to /kaggle/working/checkpoint_last.pt\r\n"
     ]
    },
    {
     "name": "stdout",
     "output_type": "stream",
     "text": [
      "[2021-06-09 00:49:55,202][fairseq.trainer][INFO] - Finished saving checkpoint to /kaggle/working/checkpoint_last.pt\r\n",
      "[2021-06-09 00:49:55,202][fairseq.checkpoint_utils][INFO] - Saved checkpoint /kaggle/working/checkpoint_last.pt (epoch 5317 @ 85072 updates, score 76.14154036843246) (writing took 0.04655049299981329 seconds)\r\n",
      "[2021-06-09 00:49:55,203][fairseq_cli.train][INFO] - end of epoch 5317 (average epoch stats below)\r\n",
      "[2021-06-09 00:49:55,206][train][INFO] - {\"epoch\": 5317, \"train_loss\": \"3.579\", \"train_ntokens\": \"145.688\", \"train_nsentences\": \"145.688\", \"train_temp\": \"0.1\", \"train_code_ppl\": \"8.556\", \"train_loss_code_pen\": \"0.32\", \"train_loss_smoothness\": \"2.04\", \"train_loss_dense_g\": \"4.053\", \"train_lm_score_sum\": 0.0, \"train_num_pred_chars\": 0.0, \"train_loss_grad_pen\": \"0.072\", \"train_loss_dense_d\": \"0.03\", \"train_loss_token_d\": \"0.025\", \"train_wps\": \"10.3\", \"train_ups\": \"0.07\", \"train_wpb\": \"145.7\", \"train_bsz\": \"145.7\", \"train_num_updates\": \"85072\", \"train_lr_discriminator\": \"0.0005\", \"train_lr_generator\": \"0.0004\", \"train_gnorm\": \"31.484\", \"train_clip\": \"81.2\", \"train_train_wall\": \"223\", \"train_wall\": \"27116\"}\r\n"
     ]
    },
    {
     "name": "stdout",
     "output_type": "stream",
     "text": [
      "[2021-06-09 00:49:55,262][fairseq.trainer][INFO] - begin training epoch 5318\r\n",
      "[2021-06-09 00:49:55,264][fairseq_cli.train][INFO] - Start iterating over samples\r\n"
     ]
    },
    {
     "name": "stdout",
     "output_type": "stream",
     "text": [
      "[2021-06-09 00:54:23,505][fairseq_cli.train][INFO] - begin validation on \"valid\" subset\r\n"
     ]
    },
    {
     "name": "stdout",
     "output_type": "stream",
     "text": [
      "[2021-06-09 00:54:26,046][fairseq.tasks.unpaired_audio_text][INFO] - REF: ɛ n f œ ʂ ə n a d ɵ ʂ ə k t f øː r d eː t s ɔ m h ɛ n d ə p oː ɕ œ r k ɔ n s ɛ t ə n\r\n",
      "[2021-06-09 00:54:26,048][fairseq.tasks.unpaired_audio_text][INFO] - HYP: n ɪ n s j œ r œ j yː j uː œ yː k ə uː ɵ f œ j m ə m œ k b ə uː s eː r n v oː s ɪ ŋ k ɪ l s uː t a n t a\r\n",
      "[2021-06-09 00:54:26,052][fairseq.tasks.unpaired_audio_text][INFO] - LM [REF]: -53.44462585449219, 0.05339602260269112\r\n",
      "[2021-06-09 00:54:26,053][fairseq.tasks.unpaired_audio_text][INFO] - LM [HYP]: -87.967041015625, 0.01602338489718987\r\n"
     ]
    },
    {
     "name": "stdout",
     "output_type": "stream",
     "text": [
      "[2021-06-09 00:54:26,576][valid][INFO] - {\"epoch\": 5318, \"valid_loss\": \"1\", \"valid_ntokens\": \"3039.79\", \"valid_nsentences\": \"144.214\", \"valid_lm_score_sum\": \"-89482.4\", \"valid_num_pred_chars\": \"48239\", \"valid_vocab_seen_pct\": \"0.888502\", \"valid_uer\": \"99.9859\", \"valid_weighted_lm_ppl\": \"76.409\", \"valid_lm_ppl\": \"60.32\", \"valid_wps\": \"18074.5\", \"valid_wpb\": \"3039.8\", \"valid_bsz\": \"144.2\", \"valid_num_updates\": \"85088\", \"valid_best_weighted_lm_ppl\": \"73.0296\"}\r\n",
      "[2021-06-09 00:54:26,579][fairseq.checkpoint_utils][INFO] - Preparing to save checkpoint for epoch 5318 @ 85088 updates\r\n",
      "[2021-06-09 00:54:26,580][fairseq.trainer][INFO] - Saving checkpoint to /kaggle/working/checkpoint_last.pt\r\n"
     ]
    },
    {
     "name": "stdout",
     "output_type": "stream",
     "text": [
      "[2021-06-09 00:54:26,628][fairseq.trainer][INFO] - Finished saving checkpoint to /kaggle/working/checkpoint_last.pt\r\n",
      "[2021-06-09 00:54:26,628][fairseq.checkpoint_utils][INFO] - Saved checkpoint /kaggle/working/checkpoint_last.pt (epoch 5318 @ 85088 updates, score 76.40900204048674) (writing took 0.04889079200074775 seconds)\r\n",
      "[2021-06-09 00:54:26,628][fairseq_cli.train][INFO] - end of epoch 5318 (average epoch stats below)\r\n",
      "[2021-06-09 00:54:26,632][train][INFO] - {\"epoch\": 5318, \"train_loss\": \"3.022\", \"train_ntokens\": \"145.688\", \"train_nsentences\": \"145.688\", \"train_temp\": \"0.1\", \"train_code_ppl\": \"8.712\", \"train_loss_code_pen\": \"0.334\", \"train_loss_smoothness\": \"2.063\", \"train_loss_dense_g\": \"4.151\", \"train_lm_score_sum\": 0.0, \"train_num_pred_chars\": 0.0, \"train_loss_grad_pen\": \"0.073\", \"train_loss_dense_d\": \"0.027\", \"train_loss_token_d\": \"0.027\", \"train_wps\": \"8.6\", \"train_ups\": \"0.06\", \"train_wpb\": \"145.7\", \"train_bsz\": \"145.7\", \"train_num_updates\": \"85088\", \"train_lr_discriminator\": \"0.0005\", \"train_lr_generator\": \"0.0004\", \"train_gnorm\": \"30.129\", \"train_clip\": \"68.8\", \"train_train_wall\": \"268\", \"train_wall\": \"27388\"}\r\n"
     ]
    },
    {
     "name": "stdout",
     "output_type": "stream",
     "text": [
      "[2021-06-09 00:54:26,691][fairseq.trainer][INFO] - begin training epoch 5319\r\n",
      "[2021-06-09 00:54:26,693][fairseq_cli.train][INFO] - Start iterating over samples\r\n"
     ]
    },
    {
     "name": "stdout",
     "output_type": "stream",
     "text": [
      "[2021-06-09 00:57:06,196][train_inner][INFO] - {\"epoch\": 5319, \"update\": 5318.75, \"loss\": \"3.618\", \"ntokens\": \"143.97\", \"nsentences\": \"143.97\", \"temp\": \"0.1\", \"code_ppl\": \"8.654\", \"loss_code_pen\": \"0.332\", \"loss_smoothness\": \"2.081\", \"loss_dense_g\": \"4.183\", \"lm_score_sum\": 0.0, \"num_pred_chars\": 0.0, \"loss_grad_pen\": \"0.135\", \"loss_dense_d\": \"0.029\", \"loss_token_d\": \"0.031\", \"wps\": \"10\", \"ups\": \"0.07\", \"wpb\": \"144\", \"bsz\": \"144\", \"num_updates\": \"85100\", \"lr_discriminator\": \"0.0005\", \"lr_generator\": \"0.0004\", \"gnorm\": \"59.713\", \"clip\": \"78\", \"train_wall\": \"1417\", \"wall\": \"27547\"}\r\n"
     ]
    },
    {
     "name": "stdout",
     "output_type": "stream",
     "text": [
      "[2021-06-09 00:58:07,698][fairseq_cli.train][INFO] - begin validation on \"valid\" subset\r\n"
     ]
    },
    {
     "name": "stdout",
     "output_type": "stream",
     "text": [
      "[2021-06-09 00:58:10,188][fairseq.tasks.unpaired_audio_text][INFO] - REF: ɛ n f œ ʂ ə n a d ɵ ʂ ə k t f øː r d eː t s ɔ m h ɛ n d ə p oː ɕ œ r k ɔ n s ɛ t ə n\r\n",
      "[2021-06-09 00:58:10,191][fairseq.tasks.unpaired_audio_text][INFO] - HYP: n ɪ s j œ r œ j yː b j uː œ yː k j uː ɡ f œ j m ə m œ k b ə uː s eː r n v oː s ɪ ŋ k ɪ l s uː t a n t a\r\n"
     ]
    },
    {
     "name": "stdout",
     "output_type": "stream",
     "text": [
      "[2021-06-09 00:58:10,196][fairseq.tasks.unpaired_audio_text][INFO] - LM [REF]: -53.44462585449219, 0.05339602260269112\r\n",
      "[2021-06-09 00:58:10,197][fairseq.tasks.unpaired_audio_text][INFO] - LM [HYP]: -88.61799621582031, 0.015540660213652059\r\n"
     ]
    },
    {
     "name": "stdout",
     "output_type": "stream",
     "text": [
      "[2021-06-09 00:58:10,725][valid][INFO] - {\"epoch\": 5319, \"valid_loss\": \"1.003\", \"valid_ntokens\": \"3039.79\", \"valid_nsentences\": \"144.214\", \"valid_lm_score_sum\": \"-89848.6\", \"valid_num_pred_chars\": \"48525\", \"valid_vocab_seen_pct\": \"0.885017\", \"valid_uer\": \"100.308\", \"valid_weighted_lm_ppl\": \"76.5115\", \"valid_lm_ppl\": \"59.9281\", \"valid_wps\": \"18276.3\", \"valid_wpb\": \"3039.8\", \"valid_bsz\": \"144.2\", \"valid_num_updates\": \"85104\", \"valid_best_weighted_lm_ppl\": \"73.0296\"}\r\n",
      "[2021-06-09 00:58:10,728][fairseq.checkpoint_utils][INFO] - Preparing to save checkpoint for epoch 5319 @ 85104 updates\r\n",
      "[2021-06-09 00:58:10,729][fairseq.trainer][INFO] - Saving checkpoint to /kaggle/working/checkpoint_last.pt\r\n"
     ]
    },
    {
     "name": "stdout",
     "output_type": "stream",
     "text": [
      "[2021-06-09 00:58:10,776][fairseq.trainer][INFO] - Finished saving checkpoint to /kaggle/working/checkpoint_last.pt\r\n",
      "[2021-06-09 00:58:10,777][fairseq.checkpoint_utils][INFO] - Saved checkpoint /kaggle/working/checkpoint_last.pt (epoch 5319 @ 85104 updates, score 76.51152006353554) (writing took 0.048891017999267206 seconds)\r\n",
      "[2021-06-09 00:58:10,777][fairseq_cli.train][INFO] - end of epoch 5319 (average epoch stats below)\r\n",
      "[2021-06-09 00:58:10,781][train][INFO] - {\"epoch\": 5319, \"train_loss\": \"3.819\", \"train_ntokens\": \"145.688\", \"train_nsentences\": \"145.688\", \"train_temp\": \"0.1\", \"train_code_ppl\": \"8.606\", \"train_loss_code_pen\": \"0.327\", \"train_loss_smoothness\": \"2.066\", \"train_loss_dense_g\": \"4.369\", \"train_lm_score_sum\": 0.0, \"train_num_pred_chars\": 0.0, \"train_loss_grad_pen\": \"0.172\", \"train_loss_dense_d\": \"0.031\", \"train_loss_token_d\": \"0.031\", \"train_wps\": \"10.4\", \"train_ups\": \"0.07\", \"train_wpb\": \"145.7\", \"train_bsz\": \"145.7\", \"train_num_updates\": \"85104\", \"train_lr_discriminator\": \"0.0005\", \"train_lr_generator\": \"0.0004\", \"train_gnorm\": \"43.834\", \"train_clip\": \"75\", \"train_train_wall\": \"221\", \"train_wall\": \"27612\"}\r\n"
     ]
    },
    {
     "name": "stdout",
     "output_type": "stream",
     "text": [
      "[2021-06-09 00:58:10,840][fairseq.trainer][INFO] - begin training epoch 5320\r\n",
      "[2021-06-09 00:58:10,842][fairseq_cli.train][INFO] - Start iterating over samples\r\n"
     ]
    },
    {
     "name": "stdout",
     "output_type": "stream",
     "text": [
      "[2021-06-09 01:02:14,726][fairseq_cli.train][INFO] - begin validation on \"valid\" subset\r\n"
     ]
    },
    {
     "name": "stdout",
     "output_type": "stream",
     "text": [
      "[2021-06-09 01:02:17,174][fairseq.tasks.unpaired_audio_text][INFO] - REF: ɛ n f œ ʂ ə n a d ɵ ʂ ə k t f øː r d eː t s ɔ m h ɛ n d ə p oː ɕ œ r k ɔ n s ɛ t ə n\r\n",
      "[2021-06-09 01:02:17,176][fairseq.tasks.unpaired_audio_text][INFO] - HYP: n ɪ s j œ r œ j b j uː œ yː k j uː ɡ f œ j m ə m œ k b ə uː s eː r n v oː s l ɪ ŋ k ɪ l a s uː t a n t a\r\n",
      "[2021-06-09 01:02:17,181][fairseq.tasks.unpaired_audio_text][INFO] - LM [REF]: -53.44462585449219, 0.05339602260269112\r\n",
      "[2021-06-09 01:02:17,181][fairseq.tasks.unpaired_audio_text][INFO] - LM [HYP]: -87.92916870117188, 0.01743478619662047\r\n"
     ]
    },
    {
     "name": "stdout",
     "output_type": "stream",
     "text": [
      "[2021-06-09 01:02:17,687][valid][INFO] - {\"epoch\": 5320, \"valid_loss\": \"1.001\", \"valid_ntokens\": \"3039.79\", \"valid_nsentences\": \"144.214\", \"valid_lm_score_sum\": \"-89733\", \"valid_num_pred_chars\": \"48362\", \"valid_vocab_seen_pct\": \"0.890244\", \"valid_uer\": \"100.066\", \"valid_weighted_lm_ppl\": \"76.2202\", \"valid_lm_ppl\": \"60.4071\", \"valid_wps\": \"18842.2\", \"valid_wpb\": \"3039.8\", \"valid_bsz\": \"144.2\", \"valid_num_updates\": \"85120\", \"valid_best_weighted_lm_ppl\": \"73.0296\"}\r\n",
      "[2021-06-09 01:02:17,690][fairseq.checkpoint_utils][INFO] - Preparing to save checkpoint for epoch 5320 @ 85120 updates\r\n",
      "[2021-06-09 01:02:17,692][fairseq.trainer][INFO] - Saving checkpoint to /kaggle/working/checkpoint_last.pt\r\n"
     ]
    },
    {
     "name": "stdout",
     "output_type": "stream",
     "text": [
      "[2021-06-09 01:02:17,736][fairseq.trainer][INFO] - Finished saving checkpoint to /kaggle/working/checkpoint_last.pt\r\n",
      "[2021-06-09 01:02:17,737][fairseq.checkpoint_utils][INFO] - Saved checkpoint /kaggle/working/checkpoint_last.pt (epoch 5320 @ 85120 updates, score 76.22015989484085) (writing took 0.04635313900143956 seconds)\r\n",
      "[2021-06-09 01:02:17,737][fairseq_cli.train][INFO] - end of epoch 5320 (average epoch stats below)\r\n",
      "[2021-06-09 01:02:17,740][train][INFO] - {\"epoch\": 5320, \"train_loss\": \"3.279\", \"train_ntokens\": \"145.688\", \"train_nsentences\": \"145.688\", \"train_temp\": \"0.1\", \"train_code_ppl\": \"8.637\", \"train_loss_code_pen\": \"0.312\", \"train_loss_smoothness\": \"2.018\", \"train_loss_dense_g\": \"4.311\", \"train_lm_score_sum\": 0.0, \"train_num_pred_chars\": 0.0, \"train_loss_grad_pen\": \"0.096\", \"train_loss_dense_d\": \"0.026\", \"train_loss_token_d\": \"0.032\", \"train_wps\": \"9.4\", \"train_ups\": \"0.06\", \"train_wpb\": \"145.7\", \"train_bsz\": \"145.7\", \"train_num_updates\": \"85120\", \"train_lr_discriminator\": \"0.0005\", \"train_lr_generator\": \"0.0004\", \"train_gnorm\": \"30.717\", \"train_clip\": \"81.2\", \"train_train_wall\": \"243\", \"train_wall\": \"27859\"}\r\n"
     ]
    },
    {
     "name": "stdout",
     "output_type": "stream",
     "text": [
      "[2021-06-09 01:02:17,797][fairseq.trainer][INFO] - begin training epoch 5321\r\n",
      "[2021-06-09 01:02:17,798][fairseq_cli.train][INFO] - Start iterating over samples\r\n"
     ]
    },
    {
     "name": "stdout",
     "output_type": "stream",
     "text": [
      "[2021-06-09 01:05:53,757][fairseq_cli.train][INFO] - begin validation on \"valid\" subset\r\n"
     ]
    },
    {
     "name": "stdout",
     "output_type": "stream",
     "text": [
      "[2021-06-09 01:05:56,337][fairseq.tasks.unpaired_audio_text][INFO] - REF: ɛ n f œ ʂ ə n a d ɵ ʂ ə k t f øː r d eː t s ɔ m h ɛ n d ə p oː ɕ œ r k ɔ n s ɛ t ə n\r\n",
      "[2021-06-09 01:05:56,339][fairseq.tasks.unpaired_audio_text][INFO] - HYP: n ɪ s j œ r œ j yː b j uː œ yː k j uː ɡ f œ øː j m ə m œ b ə uː s eː r n v oː s l ɪ ŋ k l ɪ l s uː t a n t a\r\n",
      "[2021-06-09 01:05:56,343][fairseq.tasks.unpaired_audio_text][INFO] - LM [REF]: -53.44462585449219, 0.05339602260269112\r\n",
      "[2021-06-09 01:05:56,344][fairseq.tasks.unpaired_audio_text][INFO] - LM [HYP]: -90.96244812011719, 0.01645972541294523\r\n"
     ]
    },
    {
     "name": "stdout",
     "output_type": "stream",
     "text": [
      "[2021-06-09 01:05:56,860][valid][INFO] - {\"epoch\": 5321, \"valid_loss\": \"1.001\", \"valid_ntokens\": \"3039.79\", \"valid_nsentences\": \"144.214\", \"valid_lm_score_sum\": \"-89760.1\", \"valid_num_pred_chars\": \"48339\", \"valid_vocab_seen_pct\": \"0.88676\", \"valid_uer\": \"100.127\", \"valid_weighted_lm_ppl\": \"77.0597\", \"valid_lm_ppl\": \"60.5953\", \"valid_wps\": \"17807.6\", \"valid_wpb\": \"3039.8\", \"valid_bsz\": \"144.2\", \"valid_num_updates\": \"85136\", \"valid_best_weighted_lm_ppl\": \"73.0296\"}\r\n",
      "[2021-06-09 01:05:56,863][fairseq.checkpoint_utils][INFO] - Preparing to save checkpoint for epoch 5321 @ 85136 updates\r\n",
      "[2021-06-09 01:05:56,864][fairseq.trainer][INFO] - Saving checkpoint to /kaggle/working/checkpoint_last.pt\r\n"
     ]
    },
    {
     "name": "stdout",
     "output_type": "stream",
     "text": [
      "[2021-06-09 01:05:56,909][fairseq.trainer][INFO] - Finished saving checkpoint to /kaggle/working/checkpoint_last.pt\r\n",
      "[2021-06-09 01:05:56,909][fairseq.checkpoint_utils][INFO] - Saved checkpoint /kaggle/working/checkpoint_last.pt (epoch 5321 @ 85136 updates, score 77.05970966468553) (writing took 0.04664654500083998 seconds)\r\n",
      "[2021-06-09 01:05:56,910][fairseq_cli.train][INFO] - end of epoch 5321 (average epoch stats below)\r\n",
      "[2021-06-09 01:05:56,913][train][INFO] - {\"epoch\": 5321, \"train_loss\": \"3.762\", \"train_ntokens\": \"145.688\", \"train_nsentences\": \"145.688\", \"train_temp\": \"0.1\", \"train_code_ppl\": \"8.651\", \"train_loss_code_pen\": \"0.33\", \"train_loss_smoothness\": \"2.074\", \"train_loss_dense_g\": \"4.217\", \"train_lm_score_sum\": 0.0, \"train_num_pred_chars\": 0.0, \"train_loss_grad_pen\": \"0.182\", \"train_loss_dense_d\": \"0.031\", \"train_loss_token_d\": \"0.068\", \"train_wps\": \"10.6\", \"train_ups\": \"0.07\", \"train_wpb\": \"145.7\", \"train_bsz\": \"145.7\", \"train_num_updates\": \"85136\", \"train_lr_discriminator\": \"0.0005\", \"train_lr_generator\": \"0.0004\", \"train_gnorm\": \"39.54\", \"train_clip\": \"81.2\", \"train_train_wall\": \"216\", \"train_wall\": \"28078\"}\r\n"
     ]
    },
    {
     "name": "stdout",
     "output_type": "stream",
     "text": [
      "[2021-06-09 01:05:56,970][fairseq.trainer][INFO] - begin training epoch 5322\r\n",
      "[2021-06-09 01:05:56,971][fairseq_cli.train][INFO] - Start iterating over samples\r\n"
     ]
    },
    {
     "name": "stdout",
     "output_type": "stream",
     "text": [
      "[2021-06-09 01:09:37,666][fairseq_cli.train][INFO] - begin validation on \"valid\" subset\r\n"
     ]
    },
    {
     "name": "stdout",
     "output_type": "stream",
     "text": [
      "[2021-06-09 01:09:40,353][fairseq.tasks.unpaired_audio_text][INFO] - REF: ɛ n f œ ʂ ə n a d ɵ ʂ ə k t f øː r d eː t s ɔ m h ɛ n d ə p oː ɕ œ r k ɔ n s ɛ t ə n\r\n",
      "[2021-06-09 01:09:40,355][fairseq.tasks.unpaired_audio_text][INFO] - HYP: n ɪ s j œ r œ j yː b j uː œ yː k yː uː ɵ f œ øː j m ə m œ k b uː s eː r n v oː s ɪ ŋ k ɪ l s uː t a n t a\r\n",
      "[2021-06-09 01:09:40,360][fairseq.tasks.unpaired_audio_text][INFO] - LM [REF]: -53.44462585449219, 0.05339602260269112\r\n",
      "[2021-06-09 01:09:40,360][fairseq.tasks.unpaired_audio_text][INFO] - LM [HYP]: -91.46385192871094, 0.013595362032768238\r\n"
     ]
    },
    {
     "name": "stdout",
     "output_type": "stream",
     "text": [
      "[2021-06-09 01:09:40,886][valid][INFO] - {\"epoch\": 5322, \"valid_loss\": \"1.001\", \"valid_ntokens\": \"3039.79\", \"valid_nsentences\": \"144.214\", \"valid_lm_score_sum\": \"-89676.9\", \"valid_num_pred_chars\": \"48335\", \"valid_vocab_seen_pct\": \"0.88676\", \"valid_uer\": \"100.066\", \"valid_weighted_lm_ppl\": \"76.7921\", \"valid_lm_ppl\": \"60.3849\", \"valid_wps\": \"17230.6\", \"valid_wpb\": \"3039.8\", \"valid_bsz\": \"144.2\", \"valid_num_updates\": \"85152\", \"valid_best_weighted_lm_ppl\": \"73.0296\"}\r\n",
      "[2021-06-09 01:09:40,889][fairseq.checkpoint_utils][INFO] - Preparing to save checkpoint for epoch 5322 @ 85152 updates\r\n",
      "[2021-06-09 01:09:40,890][fairseq.trainer][INFO] - Saving checkpoint to /kaggle/working/checkpoint_last.pt\r\n"
     ]
    },
    {
     "name": "stdout",
     "output_type": "stream",
     "text": [
      "[2021-06-09 01:09:40,939][fairseq.trainer][INFO] - Finished saving checkpoint to /kaggle/working/checkpoint_last.pt\r\n",
      "[2021-06-09 01:09:40,939][fairseq.checkpoint_utils][INFO] - Saved checkpoint /kaggle/working/checkpoint_last.pt (epoch 5322 @ 85152 updates, score 76.7920965128633) (writing took 0.04990834099953645 seconds)\r\n",
      "[2021-06-09 01:09:40,939][fairseq_cli.train][INFO] - end of epoch 5322 (average epoch stats below)\r\n",
      "[2021-06-09 01:09:40,943][train][INFO] - {\"epoch\": 5322, \"train_loss\": \"3.586\", \"train_ntokens\": \"145.688\", \"train_nsentences\": \"145.688\", \"train_temp\": \"0.1\", \"train_code_ppl\": \"8.777\", \"train_loss_code_pen\": \"0.326\", \"train_loss_smoothness\": \"2.063\", \"train_loss_dense_g\": \"4.017\", \"train_lm_score_sum\": 0.0, \"train_num_pred_chars\": 0.0, \"train_loss_grad_pen\": \"0.094\", \"train_loss_dense_d\": \"0.026\", \"train_loss_token_d\": \"0.032\", \"train_wps\": \"10.4\", \"train_ups\": \"0.07\", \"train_wpb\": \"145.7\", \"train_bsz\": \"145.7\", \"train_num_updates\": \"85152\", \"train_lr_discriminator\": \"0.0005\", \"train_lr_generator\": \"0.0004\", \"train_gnorm\": \"30.589\", \"train_clip\": \"68.8\", \"train_train_wall\": \"220\", \"train_wall\": \"28302\"}\r\n"
     ]
    },
    {
     "name": "stdout",
     "output_type": "stream",
     "text": [
      "[2021-06-09 01:09:41,001][fairseq.trainer][INFO] - begin training epoch 5323\r\n",
      "[2021-06-09 01:09:41,003][fairseq_cli.train][INFO] - Start iterating over samples\r\n"
     ]
    },
    {
     "name": "stdout",
     "output_type": "stream",
     "text": [
      "[2021-06-09 01:13:45,904][fairseq_cli.train][INFO] - begin validation on \"valid\" subset\r\n"
     ]
    },
    {
     "name": "stdout",
     "output_type": "stream",
     "text": [
      "[2021-06-09 01:13:48,437][fairseq.tasks.unpaired_audio_text][INFO] - REF: ɛ n f œ ʂ ə n a d ɵ ʂ ə k t f øː r d eː t s ɔ m h ɛ n d ə p oː ɕ œ r k ɔ n s ɛ t ə n\r\n",
      "[2021-06-09 01:13:48,439][fairseq.tasks.unpaired_audio_text][INFO] - HYP: n ɪ s j œ r œ yː b j uː œ yː k j uː ɵ f œ øː j m ə m œ k b ə uː s eː r n v oː s ɪ ŋ k ɪ l s uː t a n t a\r\n",
      "[2021-06-09 01:13:48,444][fairseq.tasks.unpaired_audio_text][INFO] - LM [REF]: -53.44462585449219, 0.05339602260269112\r\n",
      "[2021-06-09 01:13:48,444][fairseq.tasks.unpaired_audio_text][INFO] - LM [HYP]: -90.77165222167969, 0.01404485634927464\r\n"
     ]
    },
    {
     "name": "stdout",
     "output_type": "stream",
     "text": [
      "[2021-06-09 01:13:48,951][valid][INFO] - {\"epoch\": 5323, \"valid_loss\": \"1.003\", \"valid_ntokens\": \"3039.79\", \"valid_nsentences\": \"144.214\", \"valid_lm_score_sum\": \"-89891.3\", \"valid_num_pred_chars\": \"48491\", \"valid_vocab_seen_pct\": \"0.890244\", \"valid_uer\": \"100.334\", \"valid_weighted_lm_ppl\": \"75.9722\", \"valid_lm_ppl\": \"60.2105\", \"valid_wps\": \"18319.7\", \"valid_wpb\": \"3039.8\", \"valid_bsz\": \"144.2\", \"valid_num_updates\": \"85168\", \"valid_best_weighted_lm_ppl\": \"73.0296\"}\r\n",
      "[2021-06-09 01:13:48,954][fairseq.checkpoint_utils][INFO] - Preparing to save checkpoint for epoch 5323 @ 85168 updates\r\n",
      "[2021-06-09 01:13:48,955][fairseq.trainer][INFO] - Saving checkpoint to /kaggle/working/checkpoint_last.pt\r\n"
     ]
    },
    {
     "name": "stdout",
     "output_type": "stream",
     "text": [
      "[2021-06-09 01:13:49,001][fairseq.trainer][INFO] - Finished saving checkpoint to /kaggle/working/checkpoint_last.pt\r\n",
      "[2021-06-09 01:13:49,001][fairseq.checkpoint_utils][INFO] - Saved checkpoint /kaggle/working/checkpoint_last.pt (epoch 5323 @ 85168 updates, score 75.97217144132632) (writing took 0.0465658249995613 seconds)\r\n",
      "[2021-06-09 01:13:49,001][fairseq_cli.train][INFO] - end of epoch 5323 (average epoch stats below)\r\n",
      "[2021-06-09 01:13:49,004][train][INFO] - {\"epoch\": 5323, \"train_loss\": \"3.408\", \"train_ntokens\": \"145.688\", \"train_nsentences\": \"145.688\", \"train_temp\": \"0.1\", \"train_code_ppl\": \"8.671\", \"train_loss_code_pen\": \"0.311\", \"train_loss_smoothness\": \"2.017\", \"train_loss_dense_g\": \"4.113\", \"train_lm_score_sum\": 0.0, \"train_num_pred_chars\": 0.0, \"train_loss_grad_pen\": \"0.077\", \"train_loss_dense_d\": \"0.032\", \"train_loss_token_d\": \"0.039\", \"train_wps\": \"9.4\", \"train_ups\": \"0.06\", \"train_wpb\": \"145.7\", \"train_bsz\": \"145.7\", \"train_num_updates\": \"85168\", \"train_lr_discriminator\": \"0.0005\", \"train_lr_generator\": \"0.0004\", \"train_gnorm\": \"31.088\", \"train_clip\": \"81.2\", \"train_train_wall\": \"244\", \"train_wall\": \"28550\"}\r\n"
     ]
    },
    {
     "name": "stdout",
     "output_type": "stream",
     "text": [
      "[2021-06-09 01:13:49,063][fairseq.trainer][INFO] - begin training epoch 5324\r\n",
      "[2021-06-09 01:13:49,064][fairseq_cli.train][INFO] - Start iterating over samples\r\n"
     ]
    },
    {
     "name": "stdout",
     "output_type": "stream",
     "text": [
      "[2021-06-09 01:17:40,270][fairseq_cli.train][INFO] - begin validation on \"valid\" subset\r\n"
     ]
    },
    {
     "name": "stdout",
     "output_type": "stream",
     "text": [
      "[2021-06-09 01:17:42,962][fairseq.tasks.unpaired_audio_text][INFO] - REF: ɛ n f œ ʂ ə n a d ɵ ʂ ə k t f øː r d eː t s ɔ m h ɛ n d ə p oː ɕ œ r k ɔ n s ɛ t ə n\r\n",
      "[2021-06-09 01:17:42,965][fairseq.tasks.unpaired_audio_text][INFO] - HYP: n ɪ s j œ r œ j yː b j uː œ yː k ə uː ɡ f œ øː j m ə m œ k b ə uː s eː r n v oː s ɪ ŋ k ɪ l s uː t a n t a\r\n"
     ]
    },
    {
     "name": "stdout",
     "output_type": "stream",
     "text": [
      "[2021-06-09 01:17:42,970][fairseq.tasks.unpaired_audio_text][INFO] - LM [REF]: -53.44462585449219, 0.05339602260269112\r\n",
      "[2021-06-09 01:17:42,970][fairseq.tasks.unpaired_audio_text][INFO] - LM [HYP]: -90.70126342773438, 0.015345276967809475\r\n"
     ]
    },
    {
     "name": "stdout",
     "output_type": "stream",
     "text": [
      "[2021-06-09 01:17:43,495][valid][INFO] - {\"epoch\": 5324, \"valid_loss\": \"1.001\", \"valid_ntokens\": \"3039.79\", \"valid_nsentences\": \"144.214\", \"valid_lm_score_sum\": \"-89564.7\", \"valid_num_pred_chars\": \"48399\", \"valid_vocab_seen_pct\": \"0.885017\", \"valid_uer\": \"100.066\", \"valid_weighted_lm_ppl\": \"76.3027\", \"valid_lm_ppl\": \"59.7645\", \"valid_wps\": \"18085.1\", \"valid_wpb\": \"3039.8\", \"valid_bsz\": \"144.2\", \"valid_num_updates\": \"85184\", \"valid_best_weighted_lm_ppl\": \"73.0296\"}\r\n",
      "[2021-06-09 01:17:43,499][fairseq.checkpoint_utils][INFO] - Preparing to save checkpoint for epoch 5324 @ 85184 updates\r\n",
      "[2021-06-09 01:17:43,500][fairseq.trainer][INFO] - Saving checkpoint to /kaggle/working/checkpoint_last.pt\r\n"
     ]
    },
    {
     "name": "stdout",
     "output_type": "stream",
     "text": [
      "[2021-06-09 01:17:43,549][fairseq.trainer][INFO] - Finished saving checkpoint to /kaggle/working/checkpoint_last.pt\r\n",
      "[2021-06-09 01:17:43,549][fairseq.checkpoint_utils][INFO] - Saved checkpoint /kaggle/working/checkpoint_last.pt (epoch 5324 @ 85184 updates, score 76.3026986322224) (writing took 0.05027142700055265 seconds)\r\n",
      "[2021-06-09 01:17:43,549][fairseq_cli.train][INFO] - end of epoch 5324 (average epoch stats below)\r\n",
      "[2021-06-09 01:17:43,552][train][INFO] - {\"epoch\": 5324, \"train_loss\": \"3.655\", \"train_ntokens\": \"145.688\", \"train_nsentences\": \"145.688\", \"train_temp\": \"0.1\", \"train_code_ppl\": \"8.742\", \"train_loss_code_pen\": \"0.335\", \"train_loss_smoothness\": \"2.09\", \"train_loss_dense_g\": \"4.053\", \"train_lm_score_sum\": 0.0, \"train_num_pred_chars\": 0.0, \"train_loss_grad_pen\": \"0.157\", \"train_loss_dense_d\": \"0.031\", \"train_loss_token_d\": \"0.028\", \"train_wps\": \"9.9\", \"train_ups\": \"0.07\", \"train_wpb\": \"145.7\", \"train_bsz\": \"145.7\", \"train_num_updates\": \"85184\", \"train_lr_discriminator\": \"0.0005\", \"train_lr_generator\": \"0.0004\", \"train_gnorm\": \"36.732\", \"train_clip\": \"87.5\", \"train_train_wall\": \"231\", \"train_wall\": \"28785\"}\r\n"
     ]
    },
    {
     "name": "stdout",
     "output_type": "stream",
     "text": [
      "[2021-06-09 01:17:43,610][fairseq.trainer][INFO] - begin training epoch 5325\r\n",
      "[2021-06-09 01:17:43,611][fairseq_cli.train][INFO] - Start iterating over samples\r\n"
     ]
    },
    {
     "name": "stdout",
     "output_type": "stream",
     "text": [
      "[2021-06-09 01:21:42,876][train_inner][INFO] - {\"epoch\": 5325, \"update\": 5325.0, \"loss\": \"3.517\", \"ntokens\": \"146.26\", \"nsentences\": \"146.26\", \"temp\": \"0.1\", \"code_ppl\": \"8.682\", \"loss_code_pen\": \"0.324\", \"loss_smoothness\": \"2.056\", \"loss_dense_g\": \"4.085\", \"lm_score_sum\": 0.0, \"num_pred_chars\": 0.0, \"loss_grad_pen\": \"0.11\", \"loss_dense_d\": \"0.029\", \"loss_token_d\": \"0.037\", \"wps\": \"9.9\", \"ups\": \"0.07\", \"wpb\": \"146.3\", \"bsz\": \"146.3\", \"num_updates\": \"85200\", \"lr_discriminator\": \"0.0005\", \"lr_generator\": \"0.0004\", \"gnorm\": \"32.904\", \"clip\": \"81\", \"train_wall\": \"1455\", \"wall\": \"29024\"}\r\n",
      "[2021-06-09 01:21:42,878][fairseq_cli.train][INFO] - begin validation on \"valid\" subset\r\n"
     ]
    },
    {
     "name": "stdout",
     "output_type": "stream",
     "text": [
      "[2021-06-09 01:21:45,613][fairseq.tasks.unpaired_audio_text][INFO] - REF: ɛ n f œ ʂ ə n a d ɵ ʂ ə k t f øː r d eː t s ɔ m h ɛ n d ə p oː ɕ œ r k ɔ n s ɛ t ə n\r\n",
      "[2021-06-09 01:21:45,615][fairseq.tasks.unpaired_audio_text][INFO] - HYP: n ɪ s j œ r œ j yː b j uː œ yː k ə uː ɡ f œ j ə m ɔ k b ə uː s eː r n v oː s ɪ ŋ k ɪ l s uː t a n t a\r\n",
      "[2021-06-09 01:21:45,620][fairseq.tasks.unpaired_audio_text][INFO] - LM [REF]: -53.44462585449219, 0.05339602260269112\r\n",
      "[2021-06-09 01:21:45,620][fairseq.tasks.unpaired_audio_text][INFO] - LM [HYP]: -83.79579162597656, 0.017957850062100766\r\n"
     ]
    },
    {
     "name": "stdout",
     "output_type": "stream",
     "text": [
      "[2021-06-09 01:21:46,153][valid][INFO] - {\"epoch\": 5325, \"valid_loss\": \"1.001\", \"valid_ntokens\": \"3039.79\", \"valid_nsentences\": \"144.214\", \"valid_lm_score_sum\": \"-89556.6\", \"valid_num_pred_chars\": \"48387\", \"valid_vocab_seen_pct\": \"0.890244\", \"valid_uer\": \"100.113\", \"valid_weighted_lm_ppl\": \"75.4547\", \"valid_lm_ppl\": \"59.8004\", \"valid_wps\": \"16696.2\", \"valid_wpb\": \"3039.8\", \"valid_bsz\": \"144.2\", \"valid_num_updates\": \"85200\", \"valid_best_weighted_lm_ppl\": \"73.0296\"}\r\n"
     ]
    },
    {
     "name": "stdout",
     "output_type": "stream",
     "text": [
      "[2021-06-09 01:21:46,158][fairseq.checkpoint_utils][INFO] - Preparing to save checkpoint for epoch 5325 @ 85200 updates\r\n",
      "[2021-06-09 01:21:46,159][fairseq.trainer][INFO] - Saving checkpoint to /kaggle/working/checkpoint_last.pt\r\n",
      "[2021-06-09 01:21:46,205][fairseq.trainer][INFO] - Finished saving checkpoint to /kaggle/working/checkpoint_last.pt\r\n",
      "[2021-06-09 01:21:46,205][fairseq.checkpoint_utils][INFO] - Saved checkpoint /kaggle/working/checkpoint_last.pt (epoch 5325 @ 85200 updates, score 75.45467914856823) (writing took 0.047084157002245774 seconds)\r\n",
      "[2021-06-09 01:21:46,205][fairseq_cli.train][INFO] - end of epoch 5325 (average epoch stats below)\r\n"
     ]
    },
    {
     "name": "stdout",
     "output_type": "stream",
     "text": [
      "[2021-06-09 01:21:46,209][train][INFO] - {\"epoch\": 5325, \"train_loss\": \"3.477\", \"train_ntokens\": \"145.688\", \"train_nsentences\": \"145.688\", \"train_temp\": \"0.1\", \"train_code_ppl\": \"8.635\", \"train_loss_code_pen\": \"0.329\", \"train_loss_smoothness\": \"2.063\", \"train_loss_dense_g\": \"3.85\", \"train_lm_score_sum\": 0.0, \"train_num_pred_chars\": 0.0, \"train_loss_grad_pen\": \"0.061\", \"train_loss_dense_d\": \"0.026\", \"train_loss_token_d\": \"0.025\", \"train_wps\": \"9.6\", \"train_ups\": \"0.07\", \"train_wpb\": \"145.7\", \"train_bsz\": \"145.7\", \"train_num_updates\": \"85200\", \"train_lr_discriminator\": \"0.0005\", \"train_lr_generator\": \"0.0004\", \"train_gnorm\": \"29.51\", \"train_clip\": \"87.5\", \"train_train_wall\": \"239\", \"train_wall\": \"29027\"}\r\n"
     ]
    },
    {
     "name": "stdout",
     "output_type": "stream",
     "text": [
      "[2021-06-09 01:21:46,270][fairseq.trainer][INFO] - begin training epoch 5326\r\n",
      "[2021-06-09 01:21:46,271][fairseq_cli.train][INFO] - Start iterating over samples\r\n"
     ]
    },
    {
     "name": "stdout",
     "output_type": "stream",
     "text": [
      "[2021-06-09 01:25:52,014][fairseq_cli.train][INFO] - begin validation on \"valid\" subset\r\n"
     ]
    },
    {
     "name": "stdout",
     "output_type": "stream",
     "text": [
      "[2021-06-09 01:25:56,947][fairseq.tasks.unpaired_audio_text][INFO] - REF: ɛ n f œ ʂ ə n a d ɵ ʂ ə k t f øː r d eː t s ɔ m h ɛ n d ə p oː ɕ œ r k ɔ n s ɛ t ə n\r\n",
      "[2021-06-09 01:25:56,949][fairseq.tasks.unpaired_audio_text][INFO] - HYP: n ɪ s j œ r œ j yː j uː œ yː k ə uː ɡ f œ j m ə m œ k b ə uː s eː r n v oː s ɪ ŋ k ɪ l s uː t a n t a\r\n",
      "[2021-06-09 01:25:56,954][fairseq.tasks.unpaired_audio_text][INFO] - LM [REF]: -53.44462585449219, 0.05339602260269112\r\n",
      "[2021-06-09 01:25:56,955][fairseq.tasks.unpaired_audio_text][INFO] - LM [HYP]: -86.27583312988281, 0.015943615409093722\r\n"
     ]
    },
    {
     "name": "stdout",
     "output_type": "stream",
     "text": [
      "[2021-06-09 01:25:57,651][valid][INFO] - {\"epoch\": 5326, \"valid_loss\": \"1.005\", \"valid_ntokens\": \"3039.79\", \"valid_nsentences\": \"144.214\", \"valid_lm_score_sum\": \"-90016.6\", \"valid_num_pred_chars\": \"48695\", \"valid_vocab_seen_pct\": \"0.891986\", \"valid_uer\": \"100.47\", \"valid_weighted_lm_ppl\": \"74.8632\", \"valid_lm_ppl\": \"59.5641\", \"valid_wps\": \"9770.5\", \"valid_wpb\": \"3039.8\", \"valid_bsz\": \"144.2\", \"valid_num_updates\": \"85216\", \"valid_best_weighted_lm_ppl\": \"73.0296\"}\r\n",
      "[2021-06-09 01:25:57,655][fairseq.checkpoint_utils][INFO] - Preparing to save checkpoint for epoch 5326 @ 85216 updates\r\n",
      "[2021-06-09 01:25:57,656][fairseq.trainer][INFO] - Saving checkpoint to /kaggle/working/checkpoint_last.pt\r\n"
     ]
    },
    {
     "name": "stdout",
     "output_type": "stream",
     "text": [
      "[2021-06-09 01:25:57,722][fairseq.trainer][INFO] - Finished saving checkpoint to /kaggle/working/checkpoint_last.pt\r\n",
      "[2021-06-09 01:25:57,723][fairseq.checkpoint_utils][INFO] - Saved checkpoint /kaggle/working/checkpoint_last.pt (epoch 5326 @ 85216 updates, score 74.86318931055983) (writing took 0.06795510399751947 seconds)\r\n",
      "[2021-06-09 01:25:57,723][fairseq_cli.train][INFO] - end of epoch 5326 (average epoch stats below)\r\n",
      "[2021-06-09 01:25:57,726][train][INFO] - {\"epoch\": 5326, \"train_loss\": \"3.414\", \"train_ntokens\": \"145.688\", \"train_nsentences\": \"145.688\", \"train_temp\": \"0.1\", \"train_code_ppl\": \"8.853\", \"train_loss_code_pen\": \"0.345\", \"train_loss_smoothness\": \"2.093\", \"train_loss_dense_g\": \"3.972\", \"train_lm_score_sum\": 0.0, \"train_num_pred_chars\": 0.0, \"train_loss_grad_pen\": \"0.132\", \"train_loss_dense_d\": \"0.034\", \"train_loss_token_d\": \"0.026\", \"train_wps\": \"9.3\", \"train_ups\": \"0.06\", \"train_wpb\": \"145.7\", \"train_bsz\": \"145.7\", \"train_num_updates\": \"85216\", \"train_lr_discriminator\": \"0.0005\", \"train_lr_generator\": \"0.0004\", \"train_gnorm\": \"30.758\", \"train_clip\": \"75\", \"train_train_wall\": \"245\", \"train_wall\": \"29279\"}\r\n"
     ]
    },
    {
     "name": "stdout",
     "output_type": "stream",
     "text": [
      "[2021-06-09 01:25:57,785][fairseq.trainer][INFO] - begin training epoch 5327\r\n",
      "[2021-06-09 01:25:57,787][fairseq_cli.train][INFO] - Start iterating over samples\r\n"
     ]
    },
    {
     "name": "stdout",
     "output_type": "stream",
     "text": [
      "[2021-06-09 01:30:23,734][fairseq_cli.train][INFO] - begin validation on \"valid\" subset\r\n"
     ]
    },
    {
     "name": "stdout",
     "output_type": "stream",
     "text": [
      "[2021-06-09 01:30:26,523][fairseq.tasks.unpaired_audio_text][INFO] - REF: ɛ n f œ ʂ ə n a d ɵ ʂ ə k t f øː r d eː t s ɔ m h ɛ n d ə p oː ɕ œ r k ɔ n s ɛ t ə n\r\n",
      "[2021-06-09 01:30:26,526][fairseq.tasks.unpaired_audio_text][INFO] - HYP: n ɪ s j œ r œ j yː j uː œ yː k ə uː ɡ f œ j m ə m œ k b uː s eː r n v oː s ɪ ŋ k ɪ l s uː t a n t a\r\n",
      "[2021-06-09 01:30:26,530][fairseq.tasks.unpaired_audio_text][INFO] - LM [REF]: -53.44462585449219, 0.05339602260269112\r\n",
      "[2021-06-09 01:30:26,530][fairseq.tasks.unpaired_audio_text][INFO] - LM [HYP]: -84.25790405273438, 0.0161167933412654\r\n"
     ]
    },
    {
     "name": "stdout",
     "output_type": "stream",
     "text": [
      "[2021-06-09 01:30:27,057][valid][INFO] - {\"epoch\": 5327, \"valid_loss\": \"1.003\", \"valid_ntokens\": \"3039.79\", \"valid_nsentences\": \"144.214\", \"valid_lm_score_sum\": \"-89971.7\", \"valid_num_pred_chars\": \"48549\", \"valid_vocab_seen_pct\": \"0.890244\", \"valid_uer\": \"100.291\", \"valid_weighted_lm_ppl\": \"75.8934\", \"valid_lm_ppl\": \"60.1481\", \"valid_wps\": \"17267.7\", \"valid_wpb\": \"3039.8\", \"valid_bsz\": \"144.2\", \"valid_num_updates\": \"85232\", \"valid_best_weighted_lm_ppl\": \"73.0296\"}\r\n",
      "[2021-06-09 01:30:27,060][fairseq.checkpoint_utils][INFO] - Preparing to save checkpoint for epoch 5327 @ 85232 updates\r\n",
      "[2021-06-09 01:30:27,061][fairseq.trainer][INFO] - Saving checkpoint to /kaggle/working/checkpoint_last.pt\r\n"
     ]
    },
    {
     "name": "stdout",
     "output_type": "stream",
     "text": [
      "[2021-06-09 01:30:27,110][fairseq.trainer][INFO] - Finished saving checkpoint to /kaggle/working/checkpoint_last.pt\r\n",
      "[2021-06-09 01:30:27,110][fairseq.checkpoint_utils][INFO] - Saved checkpoint /kaggle/working/checkpoint_last.pt (epoch 5327 @ 85232 updates, score 75.89342531156753) (writing took 0.04990542100131279 seconds)\r\n",
      "[2021-06-09 01:30:27,110][fairseq_cli.train][INFO] - end of epoch 5327 (average epoch stats below)\r\n",
      "[2021-06-09 01:30:27,114][train][INFO] - {\"epoch\": 5327, \"train_loss\": \"2.946\", \"train_ntokens\": \"145.688\", \"train_nsentences\": \"145.688\", \"train_temp\": \"0.1\", \"train_code_ppl\": \"8.818\", \"train_loss_code_pen\": \"0.341\", \"train_loss_smoothness\": \"2.083\", \"train_loss_dense_g\": \"3.971\", \"train_lm_score_sum\": 0.0, \"train_num_pred_chars\": 0.0, \"train_loss_grad_pen\": \"0.061\", \"train_loss_dense_d\": \"0.027\", \"train_loss_token_d\": \"0.025\", \"train_wps\": \"8.7\", \"train_ups\": \"0.06\", \"train_wpb\": \"145.7\", \"train_bsz\": \"145.7\", \"train_num_updates\": \"85232\", \"train_lr_discriminator\": \"0.0005\", \"train_lr_generator\": \"0.0004\", \"train_gnorm\": \"30.002\", \"train_clip\": \"81.2\", \"train_train_wall\": \"265\", \"train_wall\": \"29548\"}\r\n"
     ]
    },
    {
     "name": "stdout",
     "output_type": "stream",
     "text": [
      "[2021-06-09 01:30:27,174][fairseq.trainer][INFO] - begin training epoch 5328\r\n",
      "[2021-06-09 01:30:27,175][fairseq_cli.train][INFO] - Start iterating over samples\r\n"
     ]
    },
    {
     "name": "stdout",
     "output_type": "stream",
     "text": [
      "[2021-06-09 01:34:53,491][fairseq_cli.train][INFO] - begin validation on \"valid\" subset\r\n"
     ]
    },
    {
     "name": "stdout",
     "output_type": "stream",
     "text": [
      "[2021-06-09 01:34:55,967][fairseq.tasks.unpaired_audio_text][INFO] - REF: ɛ n f œ ʂ ə n a d ɵ ʂ ə k t f øː r d eː t s ɔ m h ɛ n d ə p oː ɕ œ r k ɔ n s ɛ t ə n\r\n",
      "[2021-06-09 01:34:55,970][fairseq.tasks.unpaired_audio_text][INFO] - HYP: n ɪ n s j œ r œ j yː j uː yː œ yː k j uː ɡ f œ øː j m b ə m œ b ə uː s eː r n v oː s l ɪ ŋ k l ɪ l a uː t a n t a\r\n",
      "[2021-06-09 01:34:55,974][fairseq.tasks.unpaired_audio_text][INFO] - LM [REF]: -53.44462585449219, 0.05339602260269112\r\n",
      "[2021-06-09 01:34:55,975][fairseq.tasks.unpaired_audio_text][INFO] - LM [HYP]: -94.00497436523438, 0.016839191597165022\r\n"
     ]
    },
    {
     "name": "stdout",
     "output_type": "stream",
     "text": [
      "[2021-06-09 01:34:56,482][valid][INFO] - {\"epoch\": 5328, \"valid_loss\": \"1\", \"valid_ntokens\": \"3039.79\", \"valid_nsentences\": \"144.214\", \"valid_lm_score_sum\": \"-89793.2\", \"valid_num_pred_chars\": \"48368\", \"valid_vocab_seen_pct\": \"0.891986\", \"valid_uer\": \"100.049\", \"valid_weighted_lm_ppl\": \"76.0949\", \"valid_lm_ppl\": \"60.5441\", \"valid_wps\": \"18616.1\", \"valid_wpb\": \"3039.8\", \"valid_bsz\": \"144.2\", \"valid_num_updates\": \"85248\", \"valid_best_weighted_lm_ppl\": \"73.0296\"}\r\n",
      "[2021-06-09 01:34:56,485][fairseq.checkpoint_utils][INFO] - Preparing to save checkpoint for epoch 5328 @ 85248 updates\r\n",
      "[2021-06-09 01:34:56,486][fairseq.trainer][INFO] - Saving checkpoint to /kaggle/working/checkpoint_last.pt\r\n"
     ]
    },
    {
     "name": "stdout",
     "output_type": "stream",
     "text": [
      "[2021-06-09 01:34:56,534][fairseq.trainer][INFO] - Finished saving checkpoint to /kaggle/working/checkpoint_last.pt\r\n",
      "[2021-06-09 01:34:56,535][fairseq.checkpoint_utils][INFO] - Saved checkpoint /kaggle/working/checkpoint_last.pt (epoch 5328 @ 85248 updates, score 76.0948948815181) (writing took 0.04927032900013728 seconds)\r\n",
      "[2021-06-09 01:34:56,535][fairseq_cli.train][INFO] - end of epoch 5328 (average epoch stats below)\r\n",
      "[2021-06-09 01:34:56,538][train][INFO] - {\"epoch\": 5328, \"train_loss\": \"2.872\", \"train_ntokens\": \"145.688\", \"train_nsentences\": \"145.688\", \"train_temp\": \"0.1\", \"train_code_ppl\": \"8.472\", \"train_loss_code_pen\": \"0.293\", \"train_loss_smoothness\": \"1.932\", \"train_loss_dense_g\": \"3.99\", \"train_lm_score_sum\": 0.0, \"train_num_pred_chars\": 0.0, \"train_loss_grad_pen\": \"0.078\", \"train_loss_dense_d\": \"0.025\", \"train_loss_token_d\": \"0.024\", \"train_wps\": \"8.7\", \"train_ups\": \"0.06\", \"train_wpb\": \"145.7\", \"train_bsz\": \"145.7\", \"train_num_updates\": \"85248\", \"train_lr_discriminator\": \"0.0005\", \"train_lr_generator\": \"0.0004\", \"train_gnorm\": \"30.865\", \"train_clip\": \"81.2\", \"train_train_wall\": \"266\", \"train_wall\": \"29818\"}\r\n"
     ]
    },
    {
     "name": "stdout",
     "output_type": "stream",
     "text": [
      "[2021-06-09 01:34:56,595][fairseq.trainer][INFO] - begin training epoch 5329\r\n",
      "[2021-06-09 01:34:56,596][fairseq_cli.train][INFO] - Start iterating over samples\r\n"
     ]
    },
    {
     "name": "stdout",
     "output_type": "stream",
     "text": [
      "[2021-06-09 01:39:08,156][fairseq_cli.train][INFO] - begin validation on \"valid\" subset\r\n"
     ]
    },
    {
     "name": "stdout",
     "output_type": "stream",
     "text": [
      "[2021-06-09 01:39:10,931][fairseq.tasks.unpaired_audio_text][INFO] - REF: ɛ n f œ ʂ ə n a d ɵ ʂ ə k t f øː r d eː t s ɔ m h ɛ n d ə p oː ɕ œ r k ɔ n s ɛ t ə n\r\n",
      "[2021-06-09 01:39:10,934][fairseq.tasks.unpaired_audio_text][INFO] - HYP: n ɪ n s j œ r œ j ɕ j uː œ yː k j uː ɡ f œ j m ə h œ k b ə uː s eː r n v oː s l ɪ ŋ k ɪ l s uː t a n t a\r\n",
      "[2021-06-09 01:39:10,938][fairseq.tasks.unpaired_audio_text][INFO] - LM [REF]: -53.44462585449219, 0.05339602260269112\r\n",
      "[2021-06-09 01:39:10,938][fairseq.tasks.unpaired_audio_text][INFO] - LM [HYP]: -88.53810119628906, 0.016952664844789134\r\n"
     ]
    },
    {
     "name": "stdout",
     "output_type": "stream",
     "text": [
      "[2021-06-09 01:39:11,448][valid][INFO] - {\"epoch\": 5329, \"valid_loss\": \"1\", \"valid_ntokens\": \"3039.79\", \"valid_nsentences\": \"144.214\", \"valid_lm_score_sum\": \"-89468.5\", \"valid_num_pred_chars\": \"48343\", \"valid_vocab_seen_pct\": \"0.883275\", \"valid_uer\": \"99.9906\", \"valid_weighted_lm_ppl\": \"76.6154\", \"valid_lm_ppl\": \"59.7734\", \"valid_wps\": \"18328.4\", \"valid_wpb\": \"3039.8\", \"valid_bsz\": \"144.2\", \"valid_num_updates\": \"85264\", \"valid_best_weighted_lm_ppl\": \"73.0296\"}\r\n",
      "[2021-06-09 01:39:11,451][fairseq.checkpoint_utils][INFO] - Preparing to save checkpoint for epoch 5329 @ 85264 updates\r\n",
      "[2021-06-09 01:39:11,452][fairseq.trainer][INFO] - Saving checkpoint to /kaggle/working/checkpoint_last.pt\r\n"
     ]
    },
    {
     "name": "stdout",
     "output_type": "stream",
     "text": [
      "[2021-06-09 01:39:11,501][fairseq.trainer][INFO] - Finished saving checkpoint to /kaggle/working/checkpoint_last.pt\r\n",
      "[2021-06-09 01:39:11,501][fairseq.checkpoint_utils][INFO] - Saved checkpoint /kaggle/working/checkpoint_last.pt (epoch 5329 @ 85264 updates, score 76.61539373199075) (writing took 0.04948465999768814 seconds)\r\n",
      "[2021-06-09 01:39:11,501][fairseq_cli.train][INFO] - end of epoch 5329 (average epoch stats below)\r\n",
      "[2021-06-09 01:39:11,504][train][INFO] - {\"epoch\": 5329, \"train_loss\": \"3.18\", \"train_ntokens\": \"145.688\", \"train_nsentences\": \"145.688\", \"train_temp\": \"0.1\", \"train_code_ppl\": \"8.513\", \"train_loss_code_pen\": \"0.323\", \"train_loss_smoothness\": \"2.034\", \"train_loss_dense_g\": \"4.128\", \"train_lm_score_sum\": 0.0, \"train_num_pred_chars\": 0.0, \"train_loss_grad_pen\": \"0.06\", \"train_loss_dense_d\": \"0.023\", \"train_loss_token_d\": \"0.024\", \"train_wps\": \"9.1\", \"train_ups\": \"0.06\", \"train_wpb\": \"145.7\", \"train_bsz\": \"145.7\", \"train_num_updates\": \"85264\", \"train_lr_discriminator\": \"0.0005\", \"train_lr_generator\": \"0.0004\", \"train_gnorm\": \"29.991\", \"train_clip\": \"75\", \"train_train_wall\": \"251\", \"train_wall\": \"30073\"}\r\n"
     ]
    },
    {
     "name": "stdout",
     "output_type": "stream",
     "text": [
      "[2021-06-09 01:39:11,559][fairseq.trainer][INFO] - begin training epoch 5330\r\n",
      "[2021-06-09 01:39:11,560][fairseq_cli.train][INFO] - Start iterating over samples\r\n"
     ]
    },
    {
     "name": "stdout",
     "output_type": "stream",
     "text": [
      "[2021-06-09 01:43:23,861][fairseq_cli.train][INFO] - begin validation on \"valid\" subset\r\n"
     ]
    },
    {
     "name": "stdout",
     "output_type": "stream",
     "text": [
      "[2021-06-09 01:43:26,327][fairseq.tasks.unpaired_audio_text][INFO] - REF: ɛ n f œ ʂ ə n a d ɵ ʂ ə k t f øː r d eː t s ɔ m h ɛ n d ə p oː ɕ œ r k ɔ n s ɛ t ə n\r\n",
      "[2021-06-09 01:43:26,330][fairseq.tasks.unpaired_audio_text][INFO] - HYP: n ɪ n s j œ r œ j ɕ j uː œ yː k j uː f œ j m ə h œ ɔ b ə uː s eː r n v oː s ɪ ŋ k ɪ l s uː t a n t a\r\n",
      "[2021-06-09 01:43:26,334][fairseq.tasks.unpaired_audio_text][INFO] - LM [REF]: -53.44462585449219, 0.05339602260269112\r\n",
      "[2021-06-09 01:43:26,334][fairseq.tasks.unpaired_audio_text][INFO] - LM [HYP]: -86.37319946289062, 0.01586932098214216\r\n"
     ]
    },
    {
     "name": "stdout",
     "output_type": "stream",
     "text": [
      "[2021-06-09 01:43:26,830][valid][INFO] - {\"epoch\": 5330, \"valid_loss\": \"1\", \"valid_ntokens\": \"3039.79\", \"valid_nsentences\": \"144.214\", \"valid_lm_score_sum\": \"-89632.2\", \"valid_num_pred_chars\": \"48458\", \"valid_vocab_seen_pct\": \"0.88676\", \"valid_uer\": \"100.014\", \"valid_weighted_lm_ppl\": \"75.8737\", \"valid_lm_ppl\": \"59.6628\", \"valid_wps\": \"18798.7\", \"valid_wpb\": \"3039.8\", \"valid_bsz\": \"144.2\", \"valid_num_updates\": \"85280\", \"valid_best_weighted_lm_ppl\": \"73.0296\"}\r\n",
      "[2021-06-09 01:43:26,833][fairseq.checkpoint_utils][INFO] - Preparing to save checkpoint for epoch 5330 @ 85280 updates\r\n"
     ]
    },
    {
     "name": "stdout",
     "output_type": "stream",
     "text": [
      "[2021-06-09 01:43:26,834][fairseq.trainer][INFO] - Saving checkpoint to /kaggle/working/checkpoint_last.pt\r\n",
      "[2021-06-09 01:43:26,880][fairseq.trainer][INFO] - Finished saving checkpoint to /kaggle/working/checkpoint_last.pt\r\n",
      "[2021-06-09 01:43:26,880][fairseq.checkpoint_utils][INFO] - Saved checkpoint /kaggle/working/checkpoint_last.pt (epoch 5330 @ 85280 updates, score 75.8737466797545) (writing took 0.04694477999873925 seconds)\r\n",
      "[2021-06-09 01:43:26,880][fairseq_cli.train][INFO] - end of epoch 5330 (average epoch stats below)\r\n",
      "[2021-06-09 01:43:26,884][train][INFO] - {\"epoch\": 5330, \"train_loss\": \"3.261\", \"train_ntokens\": \"145.688\", \"train_nsentences\": \"145.688\", \"train_temp\": \"0.1\", \"train_code_ppl\": \"8.574\", \"train_loss_code_pen\": \"0.328\", \"train_loss_smoothness\": \"2.074\", \"train_loss_dense_g\": \"4.242\", \"train_lm_score_sum\": 0.0, \"train_num_pred_chars\": 0.0, \"train_loss_grad_pen\": \"0.064\", \"train_loss_dense_d\": \"0.027\", \"train_loss_token_d\": \"0.024\", \"train_wps\": \"9.1\", \"train_ups\": \"0.06\", \"train_wpb\": \"145.7\", \"train_bsz\": \"145.7\", \"train_num_updates\": \"85280\", \"train_lr_discriminator\": \"0.0005\", \"train_lr_generator\": \"0.0004\", \"train_gnorm\": \"30.314\", \"train_clip\": \"68.8\", \"train_train_wall\": \"252\", \"train_wall\": \"30328\"}\r\n"
     ]
    },
    {
     "name": "stdout",
     "output_type": "stream",
     "text": [
      "[2021-06-09 01:43:26,939][fairseq.trainer][INFO] - begin training epoch 5331\r\n",
      "[2021-06-09 01:43:26,940][fairseq_cli.train][INFO] - Start iterating over samples\r\n"
     ]
    },
    {
     "name": "stdout",
     "output_type": "stream",
     "text": [
      "[2021-06-09 01:47:19,596][fairseq_cli.train][INFO] - begin validation on \"valid\" subset\r\n"
     ]
    },
    {
     "name": "stdout",
     "output_type": "stream",
     "text": [
      "[2021-06-09 01:47:22,098][fairseq.tasks.unpaired_audio_text][INFO] - REF: ɛ n f œ ʂ ə n a d ɵ ʂ ə k t f øː r d eː t s ɔ m h ɛ n d ə p oː ɕ œ r k ɔ n s ɛ t ə n\r\n",
      "[2021-06-09 01:47:22,100][fairseq.tasks.unpaired_audio_text][INFO] - HYP: n ɪ n s j œ r œ j j uː œ yː k j uː ɡ f œ øː j ə m ɔ k b ə uː s eː r n v oː s ɪ ŋ k ɪ l s uː t a n t a\r\n",
      "[2021-06-09 01:47:22,104][fairseq.tasks.unpaired_audio_text][INFO] - LM [REF]: -53.44462585449219, 0.05339602260269112\r\n",
      "[2021-06-09 01:47:22,105][fairseq.tasks.unpaired_audio_text][INFO] - LM [HYP]: -82.42977905273438, 0.019174009420065852\r\n"
     ]
    },
    {
     "name": "stdout",
     "output_type": "stream",
     "text": [
      "[2021-06-09 01:47:22,607][valid][INFO] - {\"epoch\": 5331, \"valid_loss\": \"1\", \"valid_ntokens\": \"3039.79\", \"valid_nsentences\": \"144.214\", \"valid_lm_score_sum\": \"-89544.4\", \"valid_num_pred_chars\": \"48403\", \"valid_vocab_seen_pct\": \"0.885017\", \"valid_uer\": \"99.9859\", \"valid_weighted_lm_ppl\": \"76.207\", \"valid_lm_ppl\": \"59.6896\", \"valid_wps\": \"18530.1\", \"valid_wpb\": \"3039.8\", \"valid_bsz\": \"144.2\", \"valid_num_updates\": \"85296\", \"valid_best_weighted_lm_ppl\": \"73.0296\"}\r\n",
      "[2021-06-09 01:47:22,611][fairseq.checkpoint_utils][INFO] - Preparing to save checkpoint for epoch 5331 @ 85296 updates\r\n",
      "[2021-06-09 01:47:22,613][fairseq.trainer][INFO] - Saving checkpoint to /kaggle/working/checkpoint_last.pt\r\n"
     ]
    },
    {
     "name": "stdout",
     "output_type": "stream",
     "text": [
      "[2021-06-09 01:47:22,674][fairseq.trainer][INFO] - Finished saving checkpoint to /kaggle/working/checkpoint_last.pt\r\n",
      "[2021-06-09 01:47:22,674][fairseq.checkpoint_utils][INFO] - Saved checkpoint /kaggle/working/checkpoint_last.pt (epoch 5331 @ 85296 updates, score 76.2070016842068) (writing took 0.06254138100121054 seconds)\r\n",
      "[2021-06-09 01:47:22,675][fairseq_cli.train][INFO] - end of epoch 5331 (average epoch stats below)\r\n",
      "[2021-06-09 01:47:22,678][train][INFO] - {\"epoch\": 5331, \"train_loss\": \"3.706\", \"train_ntokens\": \"145.688\", \"train_nsentences\": \"145.688\", \"train_temp\": \"0.1\", \"train_code_ppl\": \"8.527\", \"train_loss_code_pen\": \"0.338\", \"train_loss_smoothness\": \"2.092\", \"train_loss_dense_g\": \"4.175\", \"train_lm_score_sum\": 0.0, \"train_num_pred_chars\": 0.0, \"train_loss_grad_pen\": \"0.12\", \"train_loss_dense_d\": \"0.023\", \"train_loss_token_d\": \"0.033\", \"train_wps\": \"9.9\", \"train_ups\": \"0.07\", \"train_wpb\": \"145.7\", \"train_bsz\": \"145.7\", \"train_num_updates\": \"85296\", \"train_lr_discriminator\": \"0.0005\", \"train_lr_generator\": \"0.0004\", \"train_gnorm\": \"35.078\", \"train_clip\": \"81.2\", \"train_train_wall\": \"232\", \"train_wall\": \"30564\"}\r\n"
     ]
    },
    {
     "name": "stdout",
     "output_type": "stream",
     "text": [
      "[2021-06-09 01:47:22,740][fairseq.trainer][INFO] - begin training epoch 5332\r\n",
      "[2021-06-09 01:47:22,741][fairseq_cli.train][INFO] - Start iterating over samples\r\n"
     ]
    },
    {
     "name": "stdout",
     "output_type": "stream",
     "text": [
      "[2021-06-09 01:48:28,576][train_inner][INFO] - {\"epoch\": 5332, \"update\": 5331.25, \"loss\": \"3.214\", \"ntokens\": \"145.54\", \"nsentences\": \"145.54\", \"temp\": \"0.1\", \"code_ppl\": \"8.603\", \"loss_code_pen\": \"0.33\", \"loss_smoothness\": \"2.056\", \"loss_dense_g\": \"4.076\", \"lm_score_sum\": 0.0, \"num_pred_chars\": 0.0, \"loss_grad_pen\": \"0.084\", \"loss_dense_d\": \"0.026\", \"loss_token_d\": \"0.025\", \"wps\": \"9.1\", \"ups\": \"0.06\", \"wpb\": \"145.5\", \"bsz\": \"145.5\", \"num_updates\": \"85300\", \"lr_discriminator\": \"0.0005\", \"lr_generator\": \"0.0004\", \"gnorm\": \"31.1\", \"clip\": \"77\", \"train_wall\": \"1577\", \"wall\": \"30630\"}\r\n"
     ]
    },
    {
     "name": "stdout",
     "output_type": "stream",
     "text": [
      "[2021-06-09 01:51:12,997][fairseq_cli.train][INFO] - begin validation on \"valid\" subset\r\n"
     ]
    },
    {
     "name": "stdout",
     "output_type": "stream",
     "text": [
      "[2021-06-09 01:51:15,486][fairseq.tasks.unpaired_audio_text][INFO] - REF: ɛ n f œ ʂ ə n a d ɵ ʂ ə k t f øː r d eː t s ɔ m h ɛ n d ə p oː ɕ œ r k ɔ n s ɛ t ə n\r\n",
      "[2021-06-09 01:51:15,488][fairseq.tasks.unpaired_audio_text][INFO] - HYP: n ɪ n s j œ r œ j j uː œ yː k j uː ɡ f œ øː j m b ə m œ k b uː s eː r n v oː s ɪ ŋ k ɪ l s uː t a n t a\r\n",
      "[2021-06-09 01:51:15,492][fairseq.tasks.unpaired_audio_text][INFO] - LM [REF]: -53.44462585449219, 0.05339602260269112\r\n",
      "[2021-06-09 01:51:15,493][fairseq.tasks.unpaired_audio_text][INFO] - LM [HYP]: -87.5496826171875, 0.016340742385504058\r\n"
     ]
    },
    {
     "name": "stdout",
     "output_type": "stream",
     "text": [
      "[2021-06-09 01:51:15,995][valid][INFO] - {\"epoch\": 5332, \"valid_loss\": \"1.003\", \"valid_ntokens\": \"3039.79\", \"valid_nsentences\": \"144.214\", \"valid_lm_score_sum\": \"-89757.7\", \"valid_num_pred_chars\": \"48608\", \"valid_vocab_seen_pct\": \"0.88676\", \"valid_uer\": \"100.315\", \"valid_weighted_lm_ppl\": \"75.3894\", \"valid_lm_ppl\": \"59.2819\", \"valid_wps\": \"18398.4\", \"valid_wpb\": \"3039.8\", \"valid_bsz\": \"144.2\", \"valid_num_updates\": \"85312\", \"valid_best_weighted_lm_ppl\": \"73.0296\"}\r\n",
      "[2021-06-09 01:51:15,998][fairseq.checkpoint_utils][INFO] - Preparing to save checkpoint for epoch 5332 @ 85312 updates\r\n",
      "[2021-06-09 01:51:15,999][fairseq.trainer][INFO] - Saving checkpoint to /kaggle/working/checkpoint_last.pt\r\n"
     ]
    },
    {
     "name": "stdout",
     "output_type": "stream",
     "text": [
      "[2021-06-09 01:51:16,045][fairseq.trainer][INFO] - Finished saving checkpoint to /kaggle/working/checkpoint_last.pt\r\n",
      "[2021-06-09 01:51:16,046][fairseq.checkpoint_utils][INFO] - Saved checkpoint /kaggle/working/checkpoint_last.pt (epoch 5332 @ 85312 updates, score 75.38939171961961) (writing took 0.04770680399815319 seconds)\r\n",
      "[2021-06-09 01:51:16,046][fairseq_cli.train][INFO] - end of epoch 5332 (average epoch stats below)\r\n",
      "[2021-06-09 01:51:16,049][train][INFO] - {\"epoch\": 5332, \"train_loss\": \"3.48\", \"train_ntokens\": \"145.688\", \"train_nsentences\": \"145.688\", \"train_temp\": \"0.1\", \"train_code_ppl\": \"8.745\", \"train_loss_code_pen\": \"0.337\", \"train_loss_smoothness\": \"2.082\", \"train_loss_dense_g\": \"4.174\", \"train_lm_score_sum\": 0.0, \"train_num_pred_chars\": 0.0, \"train_loss_grad_pen\": \"0.082\", \"train_loss_dense_d\": \"0.024\", \"train_loss_token_d\": \"0.024\", \"train_wps\": \"10\", \"train_ups\": \"0.07\", \"train_wpb\": \"145.7\", \"train_bsz\": \"145.7\", \"train_num_updates\": \"85312\", \"train_lr_discriminator\": \"0.0005\", \"train_lr_generator\": \"0.0004\", \"train_gnorm\": \"30.017\", \"train_clip\": \"75\", \"train_train_wall\": \"230\", \"train_wall\": \"30797\"}\r\n"
     ]
    },
    {
     "name": "stdout",
     "output_type": "stream",
     "text": [
      "[2021-06-09 01:51:16,106][fairseq.trainer][INFO] - begin training epoch 5333\r\n",
      "[2021-06-09 01:51:16,108][fairseq_cli.train][INFO] - Start iterating over samples\r\n"
     ]
    },
    {
     "name": "stdout",
     "output_type": "stream",
     "text": [
      "[2021-06-09 01:55:30,747][fairseq_cli.train][INFO] - begin validation on \"valid\" subset\r\n"
     ]
    },
    {
     "name": "stdout",
     "output_type": "stream",
     "text": [
      "[2021-06-09 01:55:33,211][fairseq.tasks.unpaired_audio_text][INFO] - REF: ɛ n f œ ʂ ə n a d ɵ ʂ ə k t f øː r d eː t s ɔ m h ɛ n d ə p oː ɕ œ r k ɔ n s ɛ t ə n\r\n"
     ]
    },
    {
     "name": "stdout",
     "output_type": "stream",
     "text": [
      "[2021-06-09 01:55:33,214][fairseq.tasks.unpaired_audio_text][INFO] - HYP: n ɪ n s j œ r œ j yː j uː œ yː k ə uː ɡ f œ øː j m b ə m œ k b uː s eː r n v oː s l ɪ ŋ k l ɪ l s uː t a n t a\r\n",
      "[2021-06-09 01:55:33,219][fairseq.tasks.unpaired_audio_text][INFO] - LM [REF]: -53.44462585449219, 0.05339602260269112\r\n",
      "[2021-06-09 01:55:33,219][fairseq.tasks.unpaired_audio_text][INFO] - LM [HYP]: -92.6444091796875, 0.01653395481947489\r\n"
     ]
    },
    {
     "name": "stdout",
     "output_type": "stream",
     "text": [
      "[2021-06-09 01:55:33,731][valid][INFO] - {\"epoch\": 5333, \"valid_loss\": \"1\", \"valid_ntokens\": \"3039.79\", \"valid_nsentences\": \"144.214\", \"valid_lm_score_sum\": \"-89786.6\", \"valid_num_pred_chars\": \"48449\", \"valid_vocab_seen_pct\": \"0.890244\", \"valid_uer\": \"100.012\", \"valid_weighted_lm_ppl\": \"75.8687\", \"valid_lm_ppl\": \"60.1285\", \"valid_wps\": \"18715.1\", \"valid_wpb\": \"3039.8\", \"valid_bsz\": \"144.2\", \"valid_num_updates\": \"85328\", \"valid_best_weighted_lm_ppl\": \"73.0296\"}\r\n",
      "[2021-06-09 01:55:33,734][fairseq.checkpoint_utils][INFO] - Preparing to save checkpoint for epoch 5333 @ 85328 updates\r\n",
      "[2021-06-09 01:55:33,735][fairseq.trainer][INFO] - Saving checkpoint to /kaggle/working/checkpoint_last.pt\r\n"
     ]
    },
    {
     "name": "stdout",
     "output_type": "stream",
     "text": [
      "[2021-06-09 01:55:33,779][fairseq.trainer][INFO] - Finished saving checkpoint to /kaggle/working/checkpoint_last.pt\r\n",
      "[2021-06-09 01:55:33,779][fairseq.checkpoint_utils][INFO] - Saved checkpoint /kaggle/working/checkpoint_last.pt (epoch 5333 @ 85328 updates, score 75.86865820621922) (writing took 0.04558835399802774 seconds)\r\n",
      "[2021-06-09 01:55:33,780][fairseq_cli.train][INFO] - end of epoch 5333 (average epoch stats below)\r\n",
      "[2021-06-09 01:55:33,783][train][INFO] - {\"epoch\": 5333, \"train_loss\": \"3.198\", \"train_ntokens\": \"145.688\", \"train_nsentences\": \"145.688\", \"train_temp\": \"0.1\", \"train_code_ppl\": \"8.791\", \"train_loss_code_pen\": \"0.341\", \"train_loss_smoothness\": \"2.112\", \"train_loss_dense_g\": \"4.001\", \"train_lm_score_sum\": 0.0, \"train_num_pred_chars\": 0.0, \"train_loss_grad_pen\": \"0.123\", \"train_loss_dense_d\": \"0.026\", \"train_loss_token_d\": \"0.022\", \"train_wps\": \"9\", \"train_ups\": \"0.06\", \"train_wpb\": \"145.7\", \"train_bsz\": \"145.7\", \"train_num_updates\": \"85328\", \"train_lr_discriminator\": \"0.0005\", \"train_lr_generator\": \"0.0004\", \"train_gnorm\": \"31.579\", \"train_clip\": \"87.5\", \"train_train_wall\": \"254\", \"train_wall\": \"31055\"}\r\n"
     ]
    },
    {
     "name": "stdout",
     "output_type": "stream",
     "text": [
      "[2021-06-09 01:55:33,839][fairseq.trainer][INFO] - begin training epoch 5334\r\n",
      "[2021-06-09 01:55:33,840][fairseq_cli.train][INFO] - Start iterating over samples\r\n"
     ]
    },
    {
     "name": "stdout",
     "output_type": "stream",
     "text": [
      "[2021-06-09 01:59:12,127][fairseq_cli.train][INFO] - begin validation on \"valid\" subset\r\n"
     ]
    },
    {
     "name": "stdout",
     "output_type": "stream",
     "text": [
      "[2021-06-09 01:59:14,811][fairseq.tasks.unpaired_audio_text][INFO] - REF: ɛ n f œ ʂ ə n a d ɵ ʂ ə k t f øː r d eː t s ɔ m h ɛ n d ə p oː ɕ œ r k ɔ n s ɛ t ə n\r\n",
      "[2021-06-09 01:59:14,814][fairseq.tasks.unpaired_audio_text][INFO] - HYP: n ɪ n s j œ r œ j ɕ j uː œ yː k ə uː f œ øː j m ə h œ k b ə uː s eː r n v oː s ɪ ŋ k ɪ l s uː t a n t a\r\n",
      "[2021-06-09 01:59:14,819][fairseq.tasks.unpaired_audio_text][INFO] - LM [REF]: -53.44462585449219, 0.05339602260269112\r\n",
      "[2021-06-09 01:59:14,819][fairseq.tasks.unpaired_audio_text][INFO] - LM [HYP]: -88.39634704589844, 0.01570337194722452\r\n"
     ]
    },
    {
     "name": "stdout",
     "output_type": "stream",
     "text": [
      "[2021-06-09 01:59:15,390][valid][INFO] - {\"epoch\": 5334, \"valid_loss\": \"1\", \"valid_ntokens\": \"3039.79\", \"valid_nsentences\": \"144.214\", \"valid_lm_score_sum\": \"-89606.6\", \"valid_num_pred_chars\": \"48389\", \"valid_vocab_seen_pct\": \"0.885017\", \"valid_uer\": \"99.9577\", \"valid_weighted_lm_ppl\": \"76.5107\", \"valid_lm_ppl\": \"59.9274\", \"valid_wps\": \"16854.1\", \"valid_wpb\": \"3039.8\", \"valid_bsz\": \"144.2\", \"valid_num_updates\": \"85344\", \"valid_best_weighted_lm_ppl\": \"73.0296\"}\r\n",
      "[2021-06-09 01:59:15,394][fairseq.checkpoint_utils][INFO] - Preparing to save checkpoint for epoch 5334 @ 85344 updates\r\n",
      "[2021-06-09 01:59:15,395][fairseq.trainer][INFO] - Saving checkpoint to /kaggle/working/checkpoint_last.pt\r\n"
     ]
    },
    {
     "name": "stdout",
     "output_type": "stream",
     "text": [
      "[2021-06-09 01:59:15,441][fairseq.trainer][INFO] - Finished saving checkpoint to /kaggle/working/checkpoint_last.pt\r\n",
      "[2021-06-09 01:59:15,441][fairseq.checkpoint_utils][INFO] - Saved checkpoint /kaggle/working/checkpoint_last.pt (epoch 5334 @ 85344 updates, score 76.51065883262504) (writing took 0.04772212799798581 seconds)\r\n",
      "[2021-06-09 01:59:15,442][fairseq_cli.train][INFO] - end of epoch 5334 (average epoch stats below)\r\n",
      "[2021-06-09 01:59:15,444][train][INFO] - {\"epoch\": 5334, \"train_loss\": \"4.012\", \"train_ntokens\": \"145.688\", \"train_nsentences\": \"145.688\", \"train_temp\": \"0.1\", \"train_code_ppl\": \"8.867\", \"train_loss_code_pen\": \"0.334\", \"train_loss_smoothness\": \"2.095\", \"train_loss_dense_g\": \"4.529\", \"train_lm_score_sum\": 0.0, \"train_num_pred_chars\": 0.0, \"train_loss_grad_pen\": \"0.366\", \"train_loss_dense_d\": \"0.025\", \"train_loss_token_d\": \"0.034\", \"train_wps\": \"10.5\", \"train_ups\": \"0.07\", \"train_wpb\": \"145.7\", \"train_bsz\": \"145.7\", \"train_num_updates\": \"85344\", \"train_lr_discriminator\": \"0.0005\", \"train_lr_generator\": \"0.0004\", \"train_gnorm\": \"68.923\", \"train_clip\": \"93.8\", \"train_train_wall\": \"218\", \"train_wall\": \"31277\"}\r\n"
     ]
    },
    {
     "name": "stdout",
     "output_type": "stream",
     "text": [
      "[2021-06-09 01:59:15,503][fairseq.trainer][INFO] - begin training epoch 5335\r\n",
      "[2021-06-09 01:59:15,504][fairseq_cli.train][INFO] - Start iterating over samples\r\n"
     ]
    },
    {
     "name": "stdout",
     "output_type": "stream",
     "text": [
      "[2021-06-09 02:03:39,674][fairseq_cli.train][INFO] - begin validation on \"valid\" subset\r\n"
     ]
    },
    {
     "name": "stdout",
     "output_type": "stream",
     "text": [
      "[2021-06-09 02:03:42,187][fairseq.tasks.unpaired_audio_text][INFO] - REF: ɛ n f œ ʂ ə n a d ɵ ʂ ə k t f øː r d eː t s ɔ m h ɛ n d ə p oː ɕ œ r k ɔ n s ɛ t ə n\r\n",
      "[2021-06-09 02:03:42,189][fairseq.tasks.unpaired_audio_text][INFO] - HYP: n ɪ s j œ r œ j ɕ j uː œ yː k ə uː f œ øː j m ə h œ k b ə uː s eː r n v oː s ɪ ŋ k l ɪ l s uː m a n t a\r\n",
      "[2021-06-09 02:03:42,193][fairseq.tasks.unpaired_audio_text][INFO] - LM [REF]: -53.44462585449219, 0.05339602260269112\r\n",
      "[2021-06-09 02:03:42,193][fairseq.tasks.unpaired_audio_text][INFO] - LM [HYP]: -88.38880920410156, 0.015708935298254522\r\n"
     ]
    },
    {
     "name": "stdout",
     "output_type": "stream",
     "text": [
      "[2021-06-09 02:03:42,699][valid][INFO] - {\"epoch\": 5335, \"valid_loss\": \"0.998\", \"valid_ntokens\": \"3039.79\", \"valid_nsentences\": \"144.214\", \"valid_lm_score_sum\": \"-89370.9\", \"valid_num_pred_chars\": \"48242\", \"valid_vocab_seen_pct\": \"0.888502\", \"valid_uer\": \"99.8261\", \"valid_weighted_lm_ppl\": \"76.0009\", \"valid_lm_ppl\": \"59.9978\", \"valid_wps\": \"18290.2\", \"valid_wpb\": \"3039.8\", \"valid_bsz\": \"144.2\", \"valid_num_updates\": \"85360\", \"valid_best_weighted_lm_ppl\": \"73.0296\"}\r\n",
      "[2021-06-09 02:03:42,703][fairseq.checkpoint_utils][INFO] - Preparing to save checkpoint for epoch 5335 @ 85360 updates\r\n",
      "[2021-06-09 02:03:42,704][fairseq.trainer][INFO] - Saving checkpoint to /kaggle/working/checkpoint_last.pt\r\n"
     ]
    },
    {
     "name": "stdout",
     "output_type": "stream",
     "text": [
      "[2021-06-09 02:03:42,752][fairseq.trainer][INFO] - Finished saving checkpoint to /kaggle/working/checkpoint_last.pt\r\n",
      "[2021-06-09 02:03:42,753][fairseq.checkpoint_utils][INFO] - Saved checkpoint /kaggle/working/checkpoint_last.pt (epoch 5335 @ 85360 updates, score 76.00090101492572) (writing took 0.050115207999624545 seconds)\r\n",
      "[2021-06-09 02:03:42,753][fairseq_cli.train][INFO] - end of epoch 5335 (average epoch stats below)\r\n",
      "[2021-06-09 02:03:42,756][train][INFO] - {\"epoch\": 5335, \"train_loss\": \"2.952\", \"train_ntokens\": \"145.688\", \"train_nsentences\": \"145.688\", \"train_temp\": \"0.1\", \"train_code_ppl\": \"8.545\", \"train_loss_code_pen\": \"0.318\", \"train_loss_smoothness\": \"2.029\", \"train_loss_dense_g\": \"4.056\", \"train_lm_score_sum\": 0.0, \"train_num_pred_chars\": 0.0, \"train_loss_grad_pen\": \"0.064\", \"train_loss_dense_d\": \"0.029\", \"train_loss_token_d\": \"0.025\", \"train_wps\": \"8.7\", \"train_ups\": \"0.06\", \"train_wpb\": \"145.7\", \"train_bsz\": \"145.7\", \"train_num_updates\": \"85360\", \"train_lr_discriminator\": \"0.0005\", \"train_lr_generator\": \"0.0004\", \"train_gnorm\": \"29.966\", \"train_clip\": \"68.8\", \"train_train_wall\": \"264\", \"train_wall\": \"31544\"}\r\n"
     ]
    },
    {
     "name": "stdout",
     "output_type": "stream",
     "text": [
      "[2021-06-09 02:03:42,817][fairseq.trainer][INFO] - begin training epoch 5336\r\n",
      "[2021-06-09 02:03:42,819][fairseq_cli.train][INFO] - Start iterating over samples\r\n"
     ]
    },
    {
     "name": "stdout",
     "output_type": "stream",
     "text": [
      "[2021-06-09 02:07:39,647][fairseq_cli.train][INFO] - begin validation on \"valid\" subset\r\n"
     ]
    }
   ],
   "source": [
    "!bash rungan.sh"
   ]
  }
 ],
 "metadata": {
  "kernelspec": {
   "display_name": "Python 3",
   "language": "python",
   "name": "python3"
  },
  "language_info": {
   "codemirror_mode": {
    "name": "ipython",
    "version": 3
   },
   "file_extension": ".py",
   "mimetype": "text/x-python",
   "name": "python",
   "nbconvert_exporter": "python",
   "pygments_lexer": "ipython3",
   "version": "3.6.4"
  },
  "papermill": {
   "default_parameters": {},
   "duration": null,
   "end_time": null,
   "environment_variables": {},
   "exception": null,
   "input_path": "__notebook__.ipynb",
   "output_path": "__notebook__.ipynb",
   "parameters": {},
   "start_time": "2021-06-08T17:09:59.055529",
   "version": "2.3.3"
  }
 },
 "nbformat": 4,
 "nbformat_minor": 5
}