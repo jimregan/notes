{
 "cells": [
  {
   "cell_type": "code",
   "execution_count": 1,
   "metadata": {},
   "outputs": [
    {
     "name": "stdout",
     "output_type": "stream",
     "text": [
      "Defaulting to user installation because normal site-packages is not writeable\n",
      "Collecting mosestokenizer\n",
      "  Downloading mosestokenizer-1.2.1.tar.gz (37 kB)\n",
      "Requirement already satisfied: docopt in /usr/local/lib/python3.6/dist-packages (from mosestokenizer) (0.6.2)\n",
      "Collecting openfile\n",
      "  Downloading openfile-0.0.7-py3-none-any.whl (2.4 kB)\n",
      "Collecting uctools\n",
      "  Downloading uctools-1.3.0.tar.gz (4.6 kB)\n",
      "Collecting toolwrapper\n",
      "  Downloading toolwrapper-2.1.0.tar.gz (3.2 kB)\n",
      "Building wheels for collected packages: mosestokenizer, toolwrapper, uctools\n",
      "  Building wheel for mosestokenizer (setup.py) ... \u001b[?25ldone\n",
      "\u001b[?25h  Created wheel for mosestokenizer: filename=mosestokenizer-1.2.1-py3-none-any.whl size=49188 sha256=229dee068b627738bf756f58559816a32dfdd97d3bd4eae29659933884a62d66\n",
      "  Stored in directory: /home/jim/.cache/pip/wheels/14/98/78/29b22cc372fc9a2777654deb45c36a87b6bed63c4d4792d960\n",
      "  Building wheel for toolwrapper (setup.py) ... \u001b[?25ldone\n",
      "\u001b[?25h  Created wheel for toolwrapper: filename=toolwrapper-2.1.0-py3-none-any.whl size=3354 sha256=95c1ec4471d7b73012c133b19485a6eef5c67ef8fb651efaf1c469a32a4ab2c8\n",
      "  Stored in directory: /home/jim/.cache/pip/wheels/fe/fe/d3/e07660b9bbcf584e855c142709ca143760935a0f4cfca7582f\n",
      "  Building wheel for uctools (setup.py) ... \u001b[?25ldone\n",
      "\u001b[?25h  Created wheel for uctools: filename=uctools-1.3.0-py3-none-any.whl size=6163 sha256=21313104ecdccf6c9ea8e140b82f8b8641bda724e76c1f63481e85a8ebc7d075\n",
      "  Stored in directory: /home/jim/.cache/pip/wheels/22/cc/6d/f0197ba6334169f56f7f03e50190bc6e6be12a680d94f6c171\n",
      "Successfully built mosestokenizer toolwrapper uctools\n",
      "Installing collected packages: uctools, toolwrapper, openfile, mosestokenizer\n",
      "Successfully installed mosestokenizer-1.2.1 openfile-0.0.7 toolwrapper-2.1.0 uctools-1.3.0\n",
      "\u001b[33mWARNING: You are using pip version 21.2.4; however, version 21.3.1 is available.\n",
      "You should consider upgrading via the '/usr/bin/python3 -m pip install --upgrade pip' command.\u001b[0m\n"
     ]
    }
   ],
   "source": [
    "!pip install mosestokenizer"
   ]
  },
  {
   "cell_type": "code",
   "execution_count": 5,
   "metadata": {},
   "outputs": [],
   "source": [
    "from datasets import load_dataset"
   ]
  },
  {
   "cell_type": "code",
   "execution_count": 6,
   "metadata": {},
   "outputs": [
    {
     "name": "stderr",
     "output_type": "stream",
     "text": [
      "Reusing dataset foinse_dataset (/home/jim/.cache/huggingface/datasets/foinse_dataset/documents/1.1.0/1f38b24860415793797d1e25734a8f044b0621b08c7618392c4aae9740097b34)\n"
     ]
    }
   ],
   "source": [
    "foinse = load_dataset(\"jimregan/foinse\", \"documents\")"
   ]
  },
  {
   "cell_type": "code",
   "execution_count": 4,
   "metadata": {},
   "outputs": [
    {
     "data": {
      "text/plain": [
       "DatasetDict({\n",
       "    train: Dataset({\n",
       "        features: ['title', 'url', 'author', 'date_text', 'text', 'category', 'subcategory', 'summary'],\n",
       "        num_rows: 4283\n",
       "    })\n",
       "})"
      ]
     },
     "execution_count": 4,
     "metadata": {},
     "output_type": "execute_result"
    }
   ],
   "source": [
    "foinse"
   ]
  },
  {
   "cell_type": "code",
   "execution_count": 7,
   "metadata": {},
   "outputs": [],
   "source": [
    "from mosestokenizer import *"
   ]
  },
  {
   "cell_type": "code",
   "execution_count": 14,
   "metadata": {},
   "outputs": [
    {
     "name": "stdout",
     "output_type": "stream",
     "text": [
      "['Tá sé in am fáil faoi réir do na hócáidí móra spóirt.', 'Déan dearmad ar an gCorn Domhanda agus ar Chorn na Sé Náisiún agus bíodh féilire 2010 lámh leat go líonfaimid é le dátaí na n-imeachtaí is tábhachtaí spóirt a bheas ar siúl i mbliana.', 'Caithfimid súil chun cinn ar na laethanta atá leagtha amach ag an dá mhóreagraíocht spóirt uisce sa tír seo:', 'an ISA, atá i bhfeighil chomórtas na tonnmharcaíochta agus an IWA, atá i bhfeighil chomórtas na clársheoltóireachta.', 'Is léir dom go bhfuil sé deacair a bheith ag trácht ar eachtraí uisce an tráth seo den bhliain, nuair nach bhfuil duine ar bith ar goir le méar a chur taobh amuigh den leaba, ní áirím cois a thumadh san fharraige fhuar fheannta.', 'Ach tá fad cois coiligh ar an gcarn aoiligh tagtha ar an lá cheana agus is gearr go mbeidh an choscairt air.', 'Tonnmharcaíocht Tá athrú mór tagtha ar leagan amach chomórtais náisiúnta na tonnmharcaíochta i mbliana sa mhéid is go mbeidh craobh á reáchtáil i mbliana i leaba an chomórtais mhóir amháin a bhí ann go dtí seo.', 'Beidh ceithre bhabhta i gceist sa chraobh, sa tsraith sinsir agus sa tsraith sóisir.', 'Cuirfear tús leis an tsraith sóisir ar an 6 agus 7 Márta ar thrá na Leachta i gContae an Chláir.', 'Is ócáid mhór a bheas anseo.', 'Roghnófar an fhoireann a thabharfas aghaidh ar chraobh sóisir na hEorpa a bheas ar siúl sa Phortaingéil i rith an tsamhraidh ag an gcomórtas seo agus ag comórtas na Trá Móire, i bPort Láirge a bheas ar siúl ar an 27/28 Márta.', 'Is i gContae Aontroma a chuirfear tús le craobh na sraithe sinsir ar thrá Phort Rois ar an 10/11 Aibreán.', 'Reáchtálfar comórtais sa Leacht agus i mBaile Ghearóid, i gContae Chorcaigh ar an 17/18 Aibreán agus 24/25 Aibreán faoi seach.', 'Níl aon turas go dtí an choigríoch i ndán don seandream ach má bhíonn na coinníollacha in araíocht beidh an-chomórtas in Iascaigh, Co.', 'Shligigh nuair a chuirfear críoch leis an gcraobh ar an 2/3 Deireadh Fómhair.', 'Tá athrú i ndán sna comórtais chlársheoltóireachta freisin.', 'Cuirfear rialacha nua i bhfeidhm sa chomórtas saorstíle agus sa chomórtas marcaíochta toinne.', 'Rialacha Is féidir na rialacha seo a léamh ar shuíomh idirlín an IWA agus moltar do na hiomaitheoirí súil a chaitheamh orthu sula gcláraíonn siad do na comórtais.', 'Faoi láthair, níl fógartha ag an IWA do 2010 ach na comórtais slalóim a bheas ag tosú i mBaile Nua na hArda i gCo. an Dúin ar an 27/28 Márta.', 'Beidh cúig bhabhta uile sa chomórtas slalóim agus i measc na n-áiteanna a reáchtálfar iad i mbliana beidh Caisleán Ghriaire, na Dúnaibh, Garraí Lúcáis agus Gaillimh.', 'Ar deireadh, ba mhaith liom tagairt a dhéanamh don surfáil eitleoige.', 'Níl an spórt seo ar an bhfód i bhfad ach tá sé ag dul ó neart go neart sa tír seo le blianta beaga anuas.', 'D’eagraigh an IKSA roinnt comórtas anuraidh agus tá súil go ndéanfaidh siad amhlaidh i mbliana agus fógrófar na himeachtaí sin ar a suíomh idirlín amach sa bhliain.', 'Cé nach raibh againn go dtí seo ach aimsir fhuar sheaca a d’fheannfadh gabhar sléibhe, tá sé in am fáil faoi réir do na hócáidí móra spóirt a bheas ag tarraingt ar chladaí na tíre an bhliain seo amach romhainn.']\n"
     ]
    }
   ],
   "source": [
    "one = foinse['train'][0]\n",
    "with MosesSentenceSplitter('ga') as splitsents:\n",
    "    print(splitsents([one['text']]))"
   ]
  },
  {
   "cell_type": "code",
   "execution_count": 19,
   "metadata": {},
   "outputs": [],
   "source": [
    "sentences = 0\n",
    "with MosesSentenceSplitter('ga') as splitsents:\n",
    "    with open(\"/tmp/foinse.txt\", \"w\") as outf:\n",
    "        for item in foinse['train']:\n",
    "            outf.write(item['title'] + \"\\n\")\n",
    "            sentences += 1\n",
    "            if not item['text']:\n",
    "                continue\n",
    "            sents = splitsents([item['text']])\n",
    "            sentences += len(sents)\n",
    "            for sentence in sents:\n",
    "                outf.write(sentence + \"\\n\")"
   ]
  },
  {
   "cell_type": "code",
   "execution_count": 20,
   "metadata": {},
   "outputs": [
    {
     "data": {
      "text/plain": [
       "49903"
      ]
     },
     "execution_count": 20,
     "metadata": {},
     "output_type": "execute_result"
    }
   ],
   "source": [
    "sentences"
   ]
  }
 ],
 "metadata": {
  "kernelspec": {
   "display_name": "Python 3",
   "language": "python",
   "name": "python3"
  }
 },
 "nbformat": 4,
 "nbformat_minor": 2
}
