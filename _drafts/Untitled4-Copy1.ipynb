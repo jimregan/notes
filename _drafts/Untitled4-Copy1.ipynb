{
 "cells": [
  {
   "cell_type": "markdown",
   "metadata": {},
   "source": [
    "# Split sentences from datasets\n",
    "\n",
    "> \"Needed to count sentences\"\n",
    "\n",
    "- toc: false\n",
    "- branch: master\n",
    "- hidden: true\n",
    "- categories: [datasets]"
   ]
  },
  {
   "cell_type": "code",
   "execution_count": null,
   "metadata": {},
   "outputs": [],
   "source": [
    "!pip install mosestokenizer"
   ]
  },
  {
   "cell_type": "code",
   "execution_count": null,
   "metadata": {},
   "outputs": [],
   "source": [
    "from datasets import load_dataset"
   ]
  },
  {
   "cell_type": "code",
   "execution_count": null,
   "metadata": {},
   "outputs": [],
   "source": [
    "script = \"/home/jim/Playing/notes/_drafts/nos.py\"\n",
    "nos = load_dataset(script, 'documents')"
   ]
  },
  {
   "cell_type": "code",
   "execution_count": null,
   "metadata": {},
   "outputs": [],
   "source": [
    "from mosestokenizer import *"
   ]
  },
  {
   "cell_type": "code",
   "execution_count": null,
   "metadata": {},
   "outputs": [],
   "source": [
    "sentences = 0\n",
    "with MosesSentenceSplitter('ga') as splitsents:\n",
    "    with open(\"/tmp/nos.txt\", \"w\") as outf:\n",
    "        for item in nos['train']:\n",
    "            outf.write(item['title'] + \"\\n\")\n",
    "            sentences += 1\n",
    "            if not item['text']:\n",
    "                continue\n",
    "            sents = splitsents([item['text']])\n",
    "            sentences += len(sents)\n",
    "            for sentence in sents:\n",
    "                outf.write(sentence + \"\\n\")"
   ]
  },
  {
   "cell_type": "code",
   "execution_count": null,
   "metadata": {},
   "outputs": [],
   "source": [
    "sentences"
   ]
  }
 ],
 "metadata": {
  "kernelspec": {
   "display_name": "Python 3",
   "language": "python",
   "name": "python3"
  }
 },
 "nbformat": 4,
 "nbformat_minor": 2
}
