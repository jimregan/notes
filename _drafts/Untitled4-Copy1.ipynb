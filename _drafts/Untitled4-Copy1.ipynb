{
 "cells": [
  {
   "cell_type": "code",
   "execution_count": 1,
   "metadata": {},
   "outputs": [
    {
     "name": "stdout",
     "output_type": "stream",
     "text": [
      "Defaulting to user installation because normal site-packages is not writeable\n",
      "Collecting mosestokenizer\n",
      "  Downloading mosestokenizer-1.2.1.tar.gz (37 kB)\n",
      "Requirement already satisfied: docopt in /usr/local/lib/python3.6/dist-packages (from mosestokenizer) (0.6.2)\n",
      "Collecting openfile\n",
      "  Downloading openfile-0.0.7-py3-none-any.whl (2.4 kB)\n",
      "Collecting uctools\n",
      "  Downloading uctools-1.3.0.tar.gz (4.6 kB)\n",
      "Collecting toolwrapper\n",
      "  Downloading toolwrapper-2.1.0.tar.gz (3.2 kB)\n",
      "Building wheels for collected packages: mosestokenizer, toolwrapper, uctools\n",
      "  Building wheel for mosestokenizer (setup.py) ... \u001b[?25ldone\n",
      "\u001b[?25h  Created wheel for mosestokenizer: filename=mosestokenizer-1.2.1-py3-none-any.whl size=49188 sha256=229dee068b627738bf756f58559816a32dfdd97d3bd4eae29659933884a62d66\n",
      "  Stored in directory: /home/jim/.cache/pip/wheels/14/98/78/29b22cc372fc9a2777654deb45c36a87b6bed63c4d4792d960\n",
      "  Building wheel for toolwrapper (setup.py) ... \u001b[?25ldone\n",
      "\u001b[?25h  Created wheel for toolwrapper: filename=toolwrapper-2.1.0-py3-none-any.whl size=3354 sha256=95c1ec4471d7b73012c133b19485a6eef5c67ef8fb651efaf1c469a32a4ab2c8\n",
      "  Stored in directory: /home/jim/.cache/pip/wheels/fe/fe/d3/e07660b9bbcf584e855c142709ca143760935a0f4cfca7582f\n",
      "  Building wheel for uctools (setup.py) ... \u001b[?25ldone\n",
      "\u001b[?25h  Created wheel for uctools: filename=uctools-1.3.0-py3-none-any.whl size=6163 sha256=21313104ecdccf6c9ea8e140b82f8b8641bda724e76c1f63481e85a8ebc7d075\n",
      "  Stored in directory: /home/jim/.cache/pip/wheels/22/cc/6d/f0197ba6334169f56f7f03e50190bc6e6be12a680d94f6c171\n",
      "Successfully built mosestokenizer toolwrapper uctools\n",
      "Installing collected packages: uctools, toolwrapper, openfile, mosestokenizer\n",
      "Successfully installed mosestokenizer-1.2.1 openfile-0.0.7 toolwrapper-2.1.0 uctools-1.3.0\n",
      "\u001b[33mWARNING: You are using pip version 21.2.4; however, version 21.3.1 is available.\n",
      "You should consider upgrading via the '/usr/bin/python3 -m pip install --upgrade pip' command.\u001b[0m\n"
     ]
    }
   ],
   "source": [
    "!pip install mosestokenizer"
   ]
  },
  {
   "cell_type": "code",
   "execution_count": 5,
   "metadata": {},
   "outputs": [],
   "source": [
    "from datasets import load_dataset"
   ]
  },
  {
   "cell_type": "code",
   "execution_count": 24,
   "metadata": {},
   "outputs": [
    {
     "name": "stderr",
     "output_type": "stream",
     "text": [
      "Using custom data configuration 20191117_paragraphs-76621f8e8e6fa23c\n"
     ]
    },
    {
     "name": "stdout",
     "output_type": "stream",
     "text": [
      "Downloading and preparing dataset corpus_crawler_irish/20191117_paragraphs (download: Unknown size, generated: Unknown size, post-processed: Unknown size, total: Unknown size) to /home/jim/.cache/huggingface/datasets/corpus_crawler_irish/20191117_paragraphs-76621f8e8e6fa23c/0.0.0/ac7e3064d57dc118952fd12452489179f8214f60a052ecd2e1665e1d5487c7ca...\n"
     ]
    },
    {
     "data": {
      "application/vnd.jupyter.widget-view+json": {
       "model_id": "d122f97eb1d946308455eed8bd992cc7",
       "version_major": 2,
       "version_minor": 0
      },
      "text/plain": [
       "Downloading:   0%|          | 0.00/2.20M [00:00<?, ?B/s]"
      ]
     },
     "metadata": {},
     "output_type": "display_data"
    },
    {
     "data": {
      "application/vnd.jupyter.widget-view+json": {
       "model_id": "",
       "version_major": 2,
       "version_minor": 0
      },
      "text/plain": [
       "0 examples [00:00, ? examples/s]"
      ]
     },
     "metadata": {},
     "output_type": "display_data"
    },
    {
     "ename": "Exception",
     "evalue": "Failed to read https://www.irishtimes.com/culture/tuarasc%C3%A1il/d%C3%A1-mba-rud-%C3%A9-gur-sinne-a-bheadh-%C3%A1-rial%C3%BA-1.3835317 from /home/jim/Playing/corpus-crawler/corpuscrawler-ga-cache/cache-corpuscrawler",
     "output_type": "error",
     "traceback": [
      "\u001b[0;31m---------------------------------------------------------------------------\u001b[0m",
      "\u001b[0;31mException\u001b[0m                                 Traceback (most recent call last)",
      "\u001b[0;32m<ipython-input-24-f3a32044e9c0>\u001b[0m in \u001b[0;36m<module>\u001b[0;34m\u001b[0m\n\u001b[1;32m      1\u001b[0m \u001b[0mccdir\u001b[0m \u001b[0;34m=\u001b[0m \u001b[0;34m\"/home/jim/Playing/corpus-crawler/corpuscrawler-ga-cache/cache-corpuscrawler/\"\u001b[0m\u001b[0;34m\u001b[0m\u001b[0;34m\u001b[0m\u001b[0m\n\u001b[0;32m----> 2\u001b[0;31m \u001b[0mcc\u001b[0m \u001b[0;34m=\u001b[0m \u001b[0mload_dataset\u001b[0m\u001b[0;34m(\u001b[0m\u001b[0;34m\"phonlab-tcd/corpuscrawler-ga\"\u001b[0m\u001b[0;34m,\u001b[0m \u001b[0;34m'20191117_paragraphs'\u001b[0m\u001b[0;34m,\u001b[0m \u001b[0mdata_dir\u001b[0m\u001b[0;34m=\u001b[0m\u001b[0mccdir\u001b[0m\u001b[0;34m)\u001b[0m\u001b[0;34m\u001b[0m\u001b[0;34m\u001b[0m\u001b[0m\n\u001b[0m",
      "\u001b[0;32m~/.local/lib/python3.6/site-packages/datasets/load.py\u001b[0m in \u001b[0;36mload_dataset\u001b[0;34m(path, name, data_dir, data_files, split, cache_dir, features, download_config, download_mode, ignore_verifications, keep_in_memory, save_infos, script_version, use_auth_token, task, streaming, **config_kwargs)\u001b[0m\n\u001b[1;32m    850\u001b[0m         \u001b[0mignore_verifications\u001b[0m\u001b[0;34m=\u001b[0m\u001b[0mignore_verifications\u001b[0m\u001b[0;34m,\u001b[0m\u001b[0;34m\u001b[0m\u001b[0;34m\u001b[0m\u001b[0m\n\u001b[1;32m    851\u001b[0m         \u001b[0mtry_from_hf_gcs\u001b[0m\u001b[0;34m=\u001b[0m\u001b[0mtry_from_hf_gcs\u001b[0m\u001b[0;34m,\u001b[0m\u001b[0;34m\u001b[0m\u001b[0;34m\u001b[0m\u001b[0m\n\u001b[0;32m--> 852\u001b[0;31m         \u001b[0muse_auth_token\u001b[0m\u001b[0;34m=\u001b[0m\u001b[0muse_auth_token\u001b[0m\u001b[0;34m,\u001b[0m\u001b[0;34m\u001b[0m\u001b[0;34m\u001b[0m\u001b[0m\n\u001b[0m\u001b[1;32m    853\u001b[0m     )\n\u001b[1;32m    854\u001b[0m \u001b[0;34m\u001b[0m\u001b[0m\n",
      "\u001b[0;32m~/.local/lib/python3.6/site-packages/datasets/builder.py\u001b[0m in \u001b[0;36mdownload_and_prepare\u001b[0;34m(self, download_config, download_mode, ignore_verifications, try_from_hf_gcs, dl_manager, base_path, use_auth_token, **download_and_prepare_kwargs)\u001b[0m\n\u001b[1;32m    614\u001b[0m                     \u001b[0;32mif\u001b[0m \u001b[0;32mnot\u001b[0m \u001b[0mdownloaded_from_gcs\u001b[0m\u001b[0;34m:\u001b[0m\u001b[0;34m\u001b[0m\u001b[0;34m\u001b[0m\u001b[0m\n\u001b[1;32m    615\u001b[0m                         self._download_and_prepare(\n\u001b[0;32m--> 616\u001b[0;31m                             \u001b[0mdl_manager\u001b[0m\u001b[0;34m=\u001b[0m\u001b[0mdl_manager\u001b[0m\u001b[0;34m,\u001b[0m \u001b[0mverify_infos\u001b[0m\u001b[0;34m=\u001b[0m\u001b[0mverify_infos\u001b[0m\u001b[0;34m,\u001b[0m \u001b[0;34m**\u001b[0m\u001b[0mdownload_and_prepare_kwargs\u001b[0m\u001b[0;34m\u001b[0m\u001b[0;34m\u001b[0m\u001b[0m\n\u001b[0m\u001b[1;32m    617\u001b[0m                         )\n\u001b[1;32m    618\u001b[0m                     \u001b[0;31m# Sync info\u001b[0m\u001b[0;34m\u001b[0m\u001b[0;34m\u001b[0m\u001b[0;34m\u001b[0m\u001b[0m\n",
      "\u001b[0;32m~/.local/lib/python3.6/site-packages/datasets/builder.py\u001b[0m in \u001b[0;36m_download_and_prepare\u001b[0;34m(self, dl_manager, verify_infos, **prepare_split_kwargs)\u001b[0m\n\u001b[1;32m    691\u001b[0m             \u001b[0;32mtry\u001b[0m\u001b[0;34m:\u001b[0m\u001b[0;34m\u001b[0m\u001b[0;34m\u001b[0m\u001b[0m\n\u001b[1;32m    692\u001b[0m                 \u001b[0;31m# Prepare split will record examples associated to the split\u001b[0m\u001b[0;34m\u001b[0m\u001b[0;34m\u001b[0m\u001b[0;34m\u001b[0m\u001b[0m\n\u001b[0;32m--> 693\u001b[0;31m                 \u001b[0mself\u001b[0m\u001b[0;34m.\u001b[0m\u001b[0m_prepare_split\u001b[0m\u001b[0;34m(\u001b[0m\u001b[0msplit_generator\u001b[0m\u001b[0;34m,\u001b[0m \u001b[0;34m**\u001b[0m\u001b[0mprepare_split_kwargs\u001b[0m\u001b[0;34m)\u001b[0m\u001b[0;34m\u001b[0m\u001b[0;34m\u001b[0m\u001b[0m\n\u001b[0m\u001b[1;32m    694\u001b[0m             \u001b[0;32mexcept\u001b[0m \u001b[0mOSError\u001b[0m \u001b[0;32mas\u001b[0m \u001b[0me\u001b[0m\u001b[0;34m:\u001b[0m\u001b[0;34m\u001b[0m\u001b[0;34m\u001b[0m\u001b[0m\n\u001b[1;32m    695\u001b[0m                 raise OSError(\n",
      "\u001b[0;32m~/.local/lib/python3.6/site-packages/datasets/builder.py\u001b[0m in \u001b[0;36m_prepare_split\u001b[0;34m(self, split_generator)\u001b[0m\n\u001b[1;32m   1105\u001b[0m                     \u001b[0mtotal\u001b[0m\u001b[0;34m=\u001b[0m\u001b[0msplit_info\u001b[0m\u001b[0;34m.\u001b[0m\u001b[0mnum_examples\u001b[0m\u001b[0;34m,\u001b[0m\u001b[0;34m\u001b[0m\u001b[0;34m\u001b[0m\u001b[0m\n\u001b[1;32m   1106\u001b[0m                     \u001b[0mleave\u001b[0m\u001b[0;34m=\u001b[0m\u001b[0;32mFalse\u001b[0m\u001b[0;34m,\u001b[0m\u001b[0;34m\u001b[0m\u001b[0;34m\u001b[0m\u001b[0m\n\u001b[0;32m-> 1107\u001b[0;31m                     \u001b[0mdisable\u001b[0m\u001b[0;34m=\u001b[0m\u001b[0mbool\u001b[0m\u001b[0;34m(\u001b[0m\u001b[0mlogging\u001b[0m\u001b[0;34m.\u001b[0m\u001b[0mget_verbosity\u001b[0m\u001b[0;34m(\u001b[0m\u001b[0;34m)\u001b[0m \u001b[0;34m==\u001b[0m \u001b[0mlogging\u001b[0m\u001b[0;34m.\u001b[0m\u001b[0mNOTSET\u001b[0m\u001b[0;34m)\u001b[0m\u001b[0;34m,\u001b[0m\u001b[0;34m\u001b[0m\u001b[0;34m\u001b[0m\u001b[0m\n\u001b[0m\u001b[1;32m   1108\u001b[0m                 ):\n\u001b[1;32m   1109\u001b[0m                     \u001b[0mexample\u001b[0m \u001b[0;34m=\u001b[0m \u001b[0mself\u001b[0m\u001b[0;34m.\u001b[0m\u001b[0minfo\u001b[0m\u001b[0;34m.\u001b[0m\u001b[0mfeatures\u001b[0m\u001b[0;34m.\u001b[0m\u001b[0mencode_example\u001b[0m\u001b[0;34m(\u001b[0m\u001b[0mrecord\u001b[0m\u001b[0;34m)\u001b[0m\u001b[0;34m\u001b[0m\u001b[0;34m\u001b[0m\u001b[0m\n",
      "\u001b[0;32m/usr/local/lib/python3.6/dist-packages/tqdm/notebook.py\u001b[0m in \u001b[0;36m__iter__\u001b[0;34m(self)\u001b[0m\n\u001b[1;32m    251\u001b[0m     \u001b[0;32mdef\u001b[0m \u001b[0m__iter__\u001b[0m\u001b[0;34m(\u001b[0m\u001b[0mself\u001b[0m\u001b[0;34m)\u001b[0m\u001b[0;34m:\u001b[0m\u001b[0;34m\u001b[0m\u001b[0;34m\u001b[0m\u001b[0m\n\u001b[1;32m    252\u001b[0m         \u001b[0;32mtry\u001b[0m\u001b[0;34m:\u001b[0m\u001b[0;34m\u001b[0m\u001b[0;34m\u001b[0m\u001b[0m\n\u001b[0;32m--> 253\u001b[0;31m             \u001b[0;32mfor\u001b[0m \u001b[0mobj\u001b[0m \u001b[0;32min\u001b[0m \u001b[0msuper\u001b[0m\u001b[0;34m(\u001b[0m\u001b[0mtqdm_notebook\u001b[0m\u001b[0;34m,\u001b[0m \u001b[0mself\u001b[0m\u001b[0;34m)\u001b[0m\u001b[0;34m.\u001b[0m\u001b[0m__iter__\u001b[0m\u001b[0;34m(\u001b[0m\u001b[0;34m)\u001b[0m\u001b[0;34m:\u001b[0m\u001b[0;34m\u001b[0m\u001b[0;34m\u001b[0m\u001b[0m\n\u001b[0m\u001b[1;32m    254\u001b[0m                 \u001b[0;31m# return super(tqdm...) will not catch exception\u001b[0m\u001b[0;34m\u001b[0m\u001b[0;34m\u001b[0m\u001b[0;34m\u001b[0m\u001b[0m\n\u001b[1;32m    255\u001b[0m                 \u001b[0;32myield\u001b[0m \u001b[0mobj\u001b[0m\u001b[0;34m\u001b[0m\u001b[0;34m\u001b[0m\u001b[0m\n",
      "\u001b[0;32m/usr/local/lib/python3.6/dist-packages/tqdm/std.py\u001b[0m in \u001b[0;36m__iter__\u001b[0;34m(self)\u001b[0m\n\u001b[1;32m   1174\u001b[0m \u001b[0;34m\u001b[0m\u001b[0m\n\u001b[1;32m   1175\u001b[0m         \u001b[0;32mtry\u001b[0m\u001b[0;34m:\u001b[0m\u001b[0;34m\u001b[0m\u001b[0;34m\u001b[0m\u001b[0m\n\u001b[0;32m-> 1176\u001b[0;31m             \u001b[0;32mfor\u001b[0m \u001b[0mobj\u001b[0m \u001b[0;32min\u001b[0m \u001b[0miterable\u001b[0m\u001b[0;34m:\u001b[0m\u001b[0;34m\u001b[0m\u001b[0;34m\u001b[0m\u001b[0m\n\u001b[0m\u001b[1;32m   1177\u001b[0m                 \u001b[0;32myield\u001b[0m \u001b[0mobj\u001b[0m\u001b[0;34m\u001b[0m\u001b[0;34m\u001b[0m\u001b[0m\n\u001b[1;32m   1178\u001b[0m                 \u001b[0;31m# Update and possibly print the progressbar.\u001b[0m\u001b[0;34m\u001b[0m\u001b[0;34m\u001b[0m\u001b[0;34m\u001b[0m\u001b[0m\n",
      "\u001b[0;32m~/.cache/huggingface/modules/datasets_modules/datasets/corpuscrawler-ga/ac7e3064d57dc118952fd12452489179f8214f60a052ecd2e1665e1d5487c7ca/corpuscrawler-ga.py\u001b[0m in \u001b[0;36m_generate_examples\u001b[0;34m(self, name, data_dir, data_file)\u001b[0m\n\u001b[1;32m    112\u001b[0m             \u001b[0mres\u001b[0m \u001b[0;34m=\u001b[0m \u001b[0mself\u001b[0m\u001b[0;34m.\u001b[0m\u001b[0m_fetch_page\u001b[0m\u001b[0;34m(\u001b[0m\u001b[0mlink\u001b[0m\u001b[0;34m,\u001b[0m \u001b[0mdata_dir\u001b[0m\u001b[0;34m)\u001b[0m\u001b[0;34m\u001b[0m\u001b[0;34m\u001b[0m\u001b[0m\n\u001b[1;32m    113\u001b[0m             \u001b[0;32mif\u001b[0m \u001b[0mres\u001b[0m \u001b[0;32mis\u001b[0m \u001b[0;32mNone\u001b[0m\u001b[0;34m:\u001b[0m\u001b[0;34m\u001b[0m\u001b[0;34m\u001b[0m\u001b[0m\n\u001b[0;32m--> 114\u001b[0;31m                 \u001b[0;32mraise\u001b[0m \u001b[0mException\u001b[0m\u001b[0;34m(\u001b[0m\u001b[0;34m\"Failed to read \"\u001b[0m \u001b[0;34m+\u001b[0m \u001b[0mlink\u001b[0m \u001b[0;34m+\u001b[0m \u001b[0;34m\" from \"\u001b[0m \u001b[0;34m+\u001b[0m \u001b[0mdata_dir\u001b[0m\u001b[0;34m)\u001b[0m\u001b[0;34m\u001b[0m\u001b[0;34m\u001b[0m\u001b[0m\n\u001b[0m\u001b[1;32m    115\u001b[0m             \u001b[0;32mif\u001b[0m \u001b[0mscfg\u001b[0m \u001b[0;34m==\u001b[0m \u001b[0;34m\"documents\"\u001b[0m\u001b[0;34m:\u001b[0m\u001b[0;34m\u001b[0m\u001b[0;34m\u001b[0m\u001b[0m\n\u001b[1;32m    116\u001b[0m                 \u001b[0mtext\u001b[0m \u001b[0;34m=\u001b[0m \u001b[0;34m[\u001b[0m\u001b[0;34m\"\\n\"\u001b[0m\u001b[0;34m.\u001b[0m\u001b[0mjoin\u001b[0m\u001b[0;34m(\u001b[0m\u001b[0mres\u001b[0m\u001b[0;34m.\u001b[0m\u001b[0mget\u001b[0m\u001b[0;34m(\u001b[0m\u001b[0;34m'text'\u001b[0m\u001b[0;34m,\u001b[0m \u001b[0;34m[\u001b[0m\u001b[0;34m]\u001b[0m\u001b[0;34m)\u001b[0m\u001b[0;34m)\u001b[0m\u001b[0;34m]\u001b[0m\u001b[0;34m\u001b[0m\u001b[0;34m\u001b[0m\u001b[0m\n",
      "\u001b[0;31mException\u001b[0m: Failed to read https://www.irishtimes.com/culture/tuarasc%C3%A1il/d%C3%A1-mba-rud-%C3%A9-gur-sinne-a-bheadh-%C3%A1-rial%C3%BA-1.3835317 from /home/jim/Playing/corpus-crawler/corpuscrawler-ga-cache/cache-corpuscrawler"
     ]
    }
   ],
   "source": [
    "ccdir = \"/home/jim/Playing/corpus-crawler/corpuscrawler-ga-cache/cache-corpuscrawler/\"\n",
    "cc = load_dataset(\"phonlab-tcd/corpuscrawler-ga\", '20191117_paragraphs', data_dir=ccdir)"
   ]
  },
  {
   "cell_type": "code",
   "execution_count": 4,
   "metadata": {},
   "outputs": [
    {
     "data": {
      "text/plain": [
       "DatasetDict({\n",
       "    train: Dataset({\n",
       "        features: ['title', 'url', 'author', 'date_text', 'text', 'category', 'subcategory', 'summary'],\n",
       "        num_rows: 4283\n",
       "    })\n",
       "})"
      ]
     },
     "execution_count": 4,
     "metadata": {},
     "output_type": "execute_result"
    }
   ],
   "source": [
    "foinse"
   ]
  },
  {
   "cell_type": "code",
   "execution_count": 7,
   "metadata": {},
   "outputs": [],
   "source": [
    "from mosestokenizer import *"
   ]
  },
  {
   "cell_type": "code",
   "execution_count": 14,
   "metadata": {},
   "outputs": [
    {
     "name": "stdout",
     "output_type": "stream",
     "text": [
      "['Tá sé in am fáil faoi réir do na hócáidí móra spóirt.', 'Déan dearmad ar an gCorn Domhanda agus ar Chorn na Sé Náisiún agus bíodh féilire 2010 lámh leat go líonfaimid é le dátaí na n-imeachtaí is tábhachtaí spóirt a bheas ar siúl i mbliana.', 'Caithfimid súil chun cinn ar na laethanta atá leagtha amach ag an dá mhóreagraíocht spóirt uisce sa tír seo:', 'an ISA, atá i bhfeighil chomórtas na tonnmharcaíochta agus an IWA, atá i bhfeighil chomórtas na clársheoltóireachta.', 'Is léir dom go bhfuil sé deacair a bheith ag trácht ar eachtraí uisce an tráth seo den bhliain, nuair nach bhfuil duine ar bith ar goir le méar a chur taobh amuigh den leaba, ní áirím cois a thumadh san fharraige fhuar fheannta.', 'Ach tá fad cois coiligh ar an gcarn aoiligh tagtha ar an lá cheana agus is gearr go mbeidh an choscairt air.', 'Tonnmharcaíocht Tá athrú mór tagtha ar leagan amach chomórtais náisiúnta na tonnmharcaíochta i mbliana sa mhéid is go mbeidh craobh á reáchtáil i mbliana i leaba an chomórtais mhóir amháin a bhí ann go dtí seo.', 'Beidh ceithre bhabhta i gceist sa chraobh, sa tsraith sinsir agus sa tsraith sóisir.', 'Cuirfear tús leis an tsraith sóisir ar an 6 agus 7 Márta ar thrá na Leachta i gContae an Chláir.', 'Is ócáid mhór a bheas anseo.', 'Roghnófar an fhoireann a thabharfas aghaidh ar chraobh sóisir na hEorpa a bheas ar siúl sa Phortaingéil i rith an tsamhraidh ag an gcomórtas seo agus ag comórtas na Trá Móire, i bPort Láirge a bheas ar siúl ar an 27/28 Márta.', 'Is i gContae Aontroma a chuirfear tús le craobh na sraithe sinsir ar thrá Phort Rois ar an 10/11 Aibreán.', 'Reáchtálfar comórtais sa Leacht agus i mBaile Ghearóid, i gContae Chorcaigh ar an 17/18 Aibreán agus 24/25 Aibreán faoi seach.', 'Níl aon turas go dtí an choigríoch i ndán don seandream ach má bhíonn na coinníollacha in araíocht beidh an-chomórtas in Iascaigh, Co.', 'Shligigh nuair a chuirfear críoch leis an gcraobh ar an 2/3 Deireadh Fómhair.', 'Tá athrú i ndán sna comórtais chlársheoltóireachta freisin.', 'Cuirfear rialacha nua i bhfeidhm sa chomórtas saorstíle agus sa chomórtas marcaíochta toinne.', 'Rialacha Is féidir na rialacha seo a léamh ar shuíomh idirlín an IWA agus moltar do na hiomaitheoirí súil a chaitheamh orthu sula gcláraíonn siad do na comórtais.', 'Faoi láthair, níl fógartha ag an IWA do 2010 ach na comórtais slalóim a bheas ag tosú i mBaile Nua na hArda i gCo. an Dúin ar an 27/28 Márta.', 'Beidh cúig bhabhta uile sa chomórtas slalóim agus i measc na n-áiteanna a reáchtálfar iad i mbliana beidh Caisleán Ghriaire, na Dúnaibh, Garraí Lúcáis agus Gaillimh.', 'Ar deireadh, ba mhaith liom tagairt a dhéanamh don surfáil eitleoige.', 'Níl an spórt seo ar an bhfód i bhfad ach tá sé ag dul ó neart go neart sa tír seo le blianta beaga anuas.', 'D’eagraigh an IKSA roinnt comórtas anuraidh agus tá súil go ndéanfaidh siad amhlaidh i mbliana agus fógrófar na himeachtaí sin ar a suíomh idirlín amach sa bhliain.', 'Cé nach raibh againn go dtí seo ach aimsir fhuar sheaca a d’fheannfadh gabhar sléibhe, tá sé in am fáil faoi réir do na hócáidí móra spóirt a bheas ag tarraingt ar chladaí na tíre an bhliain seo amach romhainn.']\n"
     ]
    }
   ],
   "source": [
    "one = foinse['train'][0]\n",
    "with MosesSentenceSplitter('ga') as splitsents:\n",
    "    print(splitsents([one['text']]))"
   ]
  },
  {
   "cell_type": "code",
   "execution_count": 19,
   "metadata": {},
   "outputs": [],
   "source": [
    "sentences = 0\n",
    "with MosesSentenceSplitter('ga') as splitsents:\n",
    "    with open(\"/tmp/foinse.txt\", \"w\") as outf:\n",
    "        for item in foinse['train']:\n",
    "            outf.write(item['title'] + \"\\n\")\n",
    "            sentences += 1\n",
    "            if not item['text']:\n",
    "                continue\n",
    "            sents = splitsents([item['text']])\n",
    "            sentences += len(sents)\n",
    "            for sentence in sents:\n",
    "                outf.write(sentence + \"\\n\")"
   ]
  },
  {
   "cell_type": "code",
   "execution_count": 20,
   "metadata": {},
   "outputs": [
    {
     "data": {
      "text/plain": [
       "49903"
      ]
     },
     "execution_count": 20,
     "metadata": {},
     "output_type": "execute_result"
    }
   ],
   "source": [
    "sentences"
   ]
  }
 ],
 "metadata": {
  "kernelspec": {
   "display_name": "Python 3",
   "language": "python",
   "name": "python3"
  }
 },
 "nbformat": 4,
 "nbformat_minor": 2
}
