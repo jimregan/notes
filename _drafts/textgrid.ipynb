{
 "cells": [
  {
   "cell_type": "code",
   "execution_count": 1,
   "metadata": {},
   "outputs": [
    {
     "name": "stdout",
     "output_type": "stream",
     "text": [
      "Collecting textgrid\n",
      "  Downloading TextGrid-1.6.1.tar.gz (9.4 kB)\n",
      "Building wheels for collected packages: textgrid\n",
      "  Building wheel for textgrid (setup.py) ... \u001b[?25ldone\n",
      "\u001b[?25h  Created wheel for textgrid: filename=TextGrid-1.6.1-py3-none-any.whl size=10166 sha256=4ed07535888c9c76dbd1300e306f13aacb6d60c64e697e22126f6131ecf2e874\n",
      "  Stored in directory: /Users/joregan/Library/Caches/pip/wheels/23/41/f2/e2ef1817bd163de3c21dd078966bdd71bd5c4455841f4ec016\n",
      "Successfully built textgrid\n",
      "Installing collected packages: textgrid\n",
      "Successfully installed textgrid-1.6.1\n",
      "Note: you may need to restart the kernel to use updated packages.\n"
     ]
    }
   ],
   "source": [
    "%pip install textgrid"
   ]
  },
  {
   "cell_type": "code",
   "execution_count": 2,
   "metadata": {},
   "outputs": [],
   "source": [
    "import textgrid"
   ]
  },
  {
   "cell_type": "code",
   "execution_count": null,
   "metadata": {},
   "outputs": [],
   "source": [
    "from pathlib import Path\n",
    "\n",
    "DIR = Path(\"/private/tmp/test-out\")\n",
    "for file in DIR.glob(\"*.TextGrid\"):\n",
    "    tg = textgrid.TextGrid.fromFile(str(file)):\n",
    "    "
   ]
  },
  {
   "cell_type": "code",
   "execution_count": 3,
   "metadata": {},
   "outputs": [],
   "source": [
    "SAMPLE = \"/private/tmp/test-out/10.TextGrid\""
   ]
  },
  {
   "cell_type": "code",
   "execution_count": 11,
   "metadata": {},
   "outputs": [],
   "source": [
    "tg = textgrid.TextGrid.fromFile(SAMPLE)\n",
    "tiers = None\n",
    "if len(tg.tiers) == 2:\n",
    "    if tg.tiers[0].name == \"words\":\n",
    "        tiers = tg.tiers[0]\n",
    "    else:\n",
    "        tiers = tg.tiers[1]\n"
   ]
  },
  {
   "cell_type": "code",
   "execution_count": 20,
   "metadata": {},
   "outputs": [
    {
     "name": "stdout",
     "output_type": "stream",
     "text": [
      "0.56 0.67 and\n",
      "0.67 0.7 at\n",
      "0.7 0.77 the\n",
      "0.77 1.07 end\n",
      "1.07 1.99 of\n",
      "3.15 3.86 the\n",
      "3.89 4.21 day\n",
      "4.21 4.41 we\n",
      "4.41 4.65 were\n",
      "4.65 4.75 all\n",
      "4.75 5.05 just\n",
      "5.05 5.26 so\n",
      "5.26 5.8 tired\n",
      "5.8 6.06 but\n",
      "6.21 6.35 you\n",
      "6.35 6.55 know\n",
      "6.55 6.71 it\n",
      "6.71 6.96 was\n",
      "6.96 7.14 a\n",
      "7.14 7.34 it\n",
      "7.92 8.32 was\n",
      "8.32 8.37 a\n",
      "8.37 8.72 great\n",
      "8.72 8.82 day\n",
      "8.82 9.11 really\n",
      "18.43 18.97 special\n"
     ]
    }
   ],
   "source": [
    "for interval in tiers.intervals:\n",
    "    if interval.mark is None or interval.mark == \"\":\n",
    "        continue\n",
    "    else:\n",
    "        print(interval.minTime, interval.maxTime, interval.mark)\n",
    "    "
   ]
  },
  {
   "cell_type": "code",
   "execution_count": 19,
   "metadata": {},
   "outputs": [
    {
     "data": {
      "text/plain": [
       "''"
      ]
     },
     "execution_count": 19,
     "metadata": {},
     "output_type": "execute_result"
    }
   ],
   "source": [
    "tiers.intervals[0].mark"
   ]
  }
 ],
 "metadata": {
  "kernelspec": {
   "display_name": "ctcseg",
   "language": "python",
   "name": "python3"
  },
  "language_info": {
   "codemirror_mode": {
    "name": "ipython",
    "version": 3
   },
   "file_extension": ".py",
   "mimetype": "text/x-python",
   "name": "python",
   "nbconvert_exporter": "python",
   "pygments_lexer": "ipython3",
   "version": "3.10.4"
  }
 },
 "nbformat": 4,
 "nbformat_minor": 2
}
