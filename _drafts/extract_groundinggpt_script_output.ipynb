{
 "cells": [
  {
   "cell_type": "code",
   "execution_count": 1,
   "metadata": {},
   "outputs": [],
   "source": [
    "from pathlib import Path"
   ]
  },
  {
   "cell_type": "code",
   "execution_count": 2,
   "metadata": {},
   "outputs": [],
   "source": [
    "results = []\n",
    "\n",
    "for file in Path(\"/tmp\").glob(\"ggpt*.txt\"):\n",
    "    current = {}\n",
    "    with open(file, \"r\") as f:\n",
    "        lines = f.readlines()\n",
    "        for line in lines:\n",
    "            line = line.strip()\n",
    "            if line.startswith(\"🔵 Loading object masks\"):\n",
    "                if current != {}:\n",
    "                    results.append(current)\n",
    "                current = {}\n",
    "            elif line.startswith(\"📝 Model Output:\"):\n",
    "                text_start = line.find('\"')\n",
    "                text_end = line.rfind('\"')\n",
    "                current[\"text\"] = line[text_start + 1:text_end]\n",
    "            elif line.startswith(\"🎯 Randomly selected object:\"):\n",
    "                object_start = line.find(':')\n",
    "                id_start = line.find('(')\n",
    "                id_end = line.rfind(')')\n",
    "                current[\"object\"] = line[object_start + 1:id_start].strip()\n",
    "                current[\"id\"] = line[id_start + 1:id_end]\n",
    "            elif line.startswith(\"✅ Saved visualization to\"):\n",
    "                output_filename = line[line.find(\"to\") + 3:].strip()\n",
    "                current[\"output_filename\"] = output_filename\n",
    "                assert \"_0/viz_random_object/result.png\" in output_filename\n",
    "                tmp = output_filename.replace(\"_0/viz_random_object/result.png\", \"\")\n",
    "                parts = tmp.split(\"/\")\n",
    "                current[\"orginal_id\"] = parts[-1]\n",
    "            else:\n",
    "                continue"
   ]
  },
  {
   "cell_type": "code",
   "execution_count": 3,
   "metadata": {},
   "outputs": [
    {
     "data": {
      "text/plain": [
       "[{'object': 'pillow_20',\n",
       "  'id': 'ID 62',\n",
       "  'text': \"Look at that chair over there, it's so comfortable.\",\n",
       "  'output_filename': '/data/shared/mm_conv/screenshots_1.6/hsi_3_0715_227_004_main_0/viz_random_object/result.png',\n",
       "  'orginal_id': 'hsi_3_0715_227_004_main'},\n",
       " {'object': 'Floor',\n",
       "  'id': 'ID 14',\n",
       "  'text': 'Look at the floor, this is where we will dance tonight.',\n",
       "  'output_filename': '/data/shared/mm_conv/screenshots_1.6/hsi_7_0719_211_002_main_0/viz_random_object/result.png',\n",
       "  'orginal_id': 'hsi_7_0719_211_002_main'}]"
      ]
     },
     "execution_count": 3,
     "metadata": {},
     "output_type": "execute_result"
    }
   ],
   "source": [
    "results[0:2]"
   ]
  },
  {
   "cell_type": "code",
   "execution_count": 22,
   "metadata": {},
   "outputs": [],
   "source": [
    "import json\n",
    "with open(\"/tmp/ggpt2.json\", \"w\") as f:\n",
    "    json.dump(results, f, indent=4)"
   ]
  },
  {
   "cell_type": "code",
   "execution_count": 4,
   "metadata": {},
   "outputs": [],
   "source": [
    "numbered = []\n",
    "for idx, res in enumerate(results):\n",
    "    parts = res[\"orginal_id\"].split(\"_\")\n",
    "    numbered.append({\n",
    "        \"person\": parts[1],\n",
    "        \"room\": parts[3],\n",
    "        \"filename\": res[\"orginal_id\"],\n",
    "        \"id\": f\"{res['orginal_id']}__ggpt__{idx}\",\n",
    "        \"topic\": res[\"object\"],\n",
    "        \"snippet\": res[\"text\"]\n",
    "    })"
   ]
  },
  {
   "cell_type": "code",
   "execution_count": 6,
   "metadata": {},
   "outputs": [],
   "source": [
    "import json\n",
    "with open(\"/tmp/ggpt_numbered2.json\", \"w\") as f:\n",
    "    json.dump(numbered, f, indent=4)"
   ]
  }
 ],
 "metadata": {
  "kernelspec": {
   "display_name": "nst-tts",
   "language": "python",
   "name": "python3"
  },
  "language_info": {
   "codemirror_mode": {
    "name": "ipython",
    "version": 3
   },
   "file_extension": ".py",
   "mimetype": "text/x-python",
   "name": "python",
   "nbconvert_exporter": "python",
   "pygments_lexer": "ipython3",
   "version": "3.10.9"
  }
 },
 "nbformat": 4,
 "nbformat_minor": 2
}
