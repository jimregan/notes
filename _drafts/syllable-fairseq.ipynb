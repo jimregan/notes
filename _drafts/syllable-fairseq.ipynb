{
 "cells": [
  {
   "cell_type": "code",
   "execution_count": null,
   "metadata": {},
   "outputs": [],
   "source": [
    "import datasets\n",
    "import pyphen"
   ]
  },
  {
   "cell_type": "code",
   "execution_count": null,
   "metadata": {},
   "outputs": [],
   "source": [
    "timit = datasets.load_dataset('timit_asr', data_dir='/path/to/TIMIT/')"
   ]
  },
  {
   "cell_type": "code",
   "execution_count": null,
   "metadata": {},
   "outputs": [],
   "source": [
    "dic = pyphen.Pyphen(lang='en')"
   ]
  },
  {
   "cell_type": "code",
   "execution_count": null,
   "metadata": {},
   "outputs": [],
   "source": [
    "with open(\"transcripts-pyphen.txt\", \"w\") as pp:\n",
    "    for sample in timit['train']:\n",
    "        words = sample['word_detail']['utterance']\n",
    "        sylls = []\n",
    "        for word in words:\n",
    "            sylls += dic.inserted(word).split(\"-\")\n",
    "        pp.write(\" \".join(sylls) + \"\\n\")"
   ]
  }
 ],
 "metadata": {
  "language_info": {
   "name": "python"
  },
  "orig_nbformat": 4
 },
 "nbformat": 4,
 "nbformat_minor": 2
}
