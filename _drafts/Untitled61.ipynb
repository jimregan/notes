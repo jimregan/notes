{
  "nbformat": 4,
  "nbformat_minor": 0,
  "metadata": {
    "colab": {
      "provenance": []
    },
    "kernelspec": {
      "name": "python3",
      "display_name": "Python 3"
    },
    "language_info": {
      "name": "python"
    }
  },
  "cells": [
    {
      "cell_type": "code",
      "source": [
        "!pip install praat-parselmouth"
      ],
      "metadata": {
        "colab": {
          "base_uri": "https://localhost:8080/"
        },
        "id": "BkYfYPiwf1M4",
        "outputId": "2bbd0217-bf8a-449f-ae2b-54565c96d91d"
      },
      "execution_count": 6,
      "outputs": [
        {
          "output_type": "stream",
          "name": "stdout",
          "text": [
            "Collecting praat-parselmouth\n",
            "  Downloading praat_parselmouth-0.4.6-cp311-cp311-manylinux_2_17_x86_64.manylinux2014_x86_64.whl.metadata (2.9 kB)\n",
            "Requirement already satisfied: numpy>=1.7.0 in /usr/local/lib/python3.11/dist-packages (from praat-parselmouth) (2.0.2)\n",
            "Downloading praat_parselmouth-0.4.6-cp311-cp311-manylinux_2_17_x86_64.manylinux2014_x86_64.whl (10.8 MB)\n",
            "\u001b[2K   \u001b[90m━━━━━━━━━━━━━━━━━━━━━━━━━━━━━━━━━━━━━━━━\u001b[0m \u001b[32m10.8/10.8 MB\u001b[0m \u001b[31m81.0 MB/s\u001b[0m eta \u001b[36m0:00:00\u001b[0m\n",
            "\u001b[?25hInstalling collected packages: praat-parselmouth\n",
            "Successfully installed praat-parselmouth-0.4.6\n"
          ]
        }
      ]
    },
    {
      "cell_type": "code",
      "execution_count": 7,
      "metadata": {
        "colab": {
          "base_uri": "https://localhost:8080/",
          "height": 365
        },
        "id": "hJRLcZ01eZlo",
        "outputId": "07a4d4e7-3895-43e4-aa6b-f60d9511afdd"
      },
      "outputs": [
        {
          "output_type": "stream",
          "name": "stderr",
          "text": [
            "Downloading file '5703-47212-0000.ogg' from 'https://librosa.org/data/audio/5703-47212-0000.ogg' to '/root/.cache/librosa'.\n"
          ]
        },
        {
          "output_type": "error",
          "ename": "ValueError",
          "evalue": "File format b'OggS' not understood. Only 'RIFF', 'RIFX', and 'RF64' supported.",
          "traceback": [
            "\u001b[0;31m---------------------------------------------------------------------------\u001b[0m",
            "\u001b[0;31mValueError\u001b[0m                                Traceback (most recent call last)",
            "\u001b[0;32m/tmp/ipython-input-7-2742750481.py\u001b[0m in \u001b[0;36m<cell line: 0>\u001b[0;34m()\u001b[0m\n\u001b[1;32m    114\u001b[0m \u001b[0;34m\u001b[0m\u001b[0m\n\u001b[1;32m    115\u001b[0m \u001b[0;31m# Generate both spectrograms\u001b[0m\u001b[0;34m\u001b[0m\u001b[0;34m\u001b[0m\u001b[0m\n\u001b[0;32m--> 116\u001b[0;31m \u001b[0mgenerate_python_spectrogram\u001b[0m\u001b[0;34m(\u001b[0m\u001b[0maudio_file_path\u001b[0m\u001b[0;34m,\u001b[0m \u001b[0mpython_spec_path\u001b[0m\u001b[0;34m)\u001b[0m\u001b[0;34m\u001b[0m\u001b[0;34m\u001b[0m\u001b[0m\n\u001b[0m\u001b[1;32m    117\u001b[0m \u001b[0mgenerate_praat_spectrogram\u001b[0m\u001b[0;34m(\u001b[0m\u001b[0maudio_file_path\u001b[0m\u001b[0;34m,\u001b[0m \u001b[0mpraat_spec_path\u001b[0m\u001b[0;34m)\u001b[0m\u001b[0;34m\u001b[0m\u001b[0;34m\u001b[0m\u001b[0m\n",
            "\u001b[0;32m/tmp/ipython-input-7-2742750481.py\u001b[0m in \u001b[0;36mgenerate_python_spectrogram\u001b[0;34m(audio_path, output_path, freq_range, window_length, dynamic_range, dynamic_compression)\u001b[0m\n\u001b[1;32m     18\u001b[0m     \u001b[0mGenerates\u001b[0m \u001b[0ma\u001b[0m \u001b[0mPraat\u001b[0m\u001b[0;34m-\u001b[0m\u001b[0mlike\u001b[0m \u001b[0mspectrogram\u001b[0m \u001b[0musing\u001b[0m \u001b[0mpure\u001b[0m \u001b[0mPython\u001b[0m \u001b[0mlibraries\u001b[0m\u001b[0;34m.\u001b[0m\u001b[0;34m\u001b[0m\u001b[0;34m\u001b[0m\u001b[0m\n\u001b[1;32m     19\u001b[0m     \"\"\"\n\u001b[0;32m---> 20\u001b[0;31m     \u001b[0msample_rate\u001b[0m\u001b[0;34m,\u001b[0m \u001b[0msamples\u001b[0m \u001b[0;34m=\u001b[0m \u001b[0mwavfile\u001b[0m\u001b[0;34m.\u001b[0m\u001b[0mread\u001b[0m\u001b[0;34m(\u001b[0m\u001b[0maudio_path\u001b[0m\u001b[0;34m)\u001b[0m\u001b[0;34m\u001b[0m\u001b[0;34m\u001b[0m\u001b[0m\n\u001b[0m\u001b[1;32m     21\u001b[0m     \u001b[0;32mif\u001b[0m \u001b[0msamples\u001b[0m\u001b[0;34m.\u001b[0m\u001b[0mndim\u001b[0m \u001b[0;34m>\u001b[0m \u001b[0;36m1\u001b[0m\u001b[0;34m:\u001b[0m\u001b[0;34m\u001b[0m\u001b[0;34m\u001b[0m\u001b[0m\n\u001b[1;32m     22\u001b[0m         \u001b[0msamples\u001b[0m \u001b[0;34m=\u001b[0m \u001b[0msamples\u001b[0m\u001b[0;34m.\u001b[0m\u001b[0mmean\u001b[0m\u001b[0;34m(\u001b[0m\u001b[0maxis\u001b[0m\u001b[0;34m=\u001b[0m\u001b[0;36m1\u001b[0m\u001b[0;34m)\u001b[0m\u001b[0;34m\u001b[0m\u001b[0;34m\u001b[0m\u001b[0m\n",
            "\u001b[0;32m/usr/local/lib/python3.11/dist-packages/scipy/io/wavfile.py\u001b[0m in \u001b[0;36mread\u001b[0;34m(filename, mmap)\u001b[0m\n\u001b[1;32m    675\u001b[0m \u001b[0;34m\u001b[0m\u001b[0m\n\u001b[1;32m    676\u001b[0m     \u001b[0;32mtry\u001b[0m\u001b[0;34m:\u001b[0m\u001b[0;34m\u001b[0m\u001b[0;34m\u001b[0m\u001b[0m\n\u001b[0;32m--> 677\u001b[0;31m         \u001b[0mfile_size\u001b[0m\u001b[0;34m,\u001b[0m \u001b[0mis_big_endian\u001b[0m\u001b[0;34m,\u001b[0m \u001b[0mis_rf64\u001b[0m \u001b[0;34m=\u001b[0m \u001b[0m_read_riff_chunk\u001b[0m\u001b[0;34m(\u001b[0m\u001b[0mfid\u001b[0m\u001b[0;34m)\u001b[0m\u001b[0;34m\u001b[0m\u001b[0;34m\u001b[0m\u001b[0m\n\u001b[0m\u001b[1;32m    678\u001b[0m         \u001b[0mfmt_chunk_received\u001b[0m \u001b[0;34m=\u001b[0m \u001b[0;32mFalse\u001b[0m\u001b[0;34m\u001b[0m\u001b[0;34m\u001b[0m\u001b[0m\n\u001b[1;32m    679\u001b[0m         \u001b[0mdata_chunk_received\u001b[0m \u001b[0;34m=\u001b[0m \u001b[0;32mFalse\u001b[0m\u001b[0;34m\u001b[0m\u001b[0;34m\u001b[0m\u001b[0m\n",
            "\u001b[0;32m/usr/local/lib/python3.11/dist-packages/scipy/io/wavfile.py\u001b[0m in \u001b[0;36m_read_riff_chunk\u001b[0;34m(fid)\u001b[0m\n\u001b[1;32m    534\u001b[0m     \u001b[0;32melse\u001b[0m\u001b[0;34m:\u001b[0m\u001b[0;34m\u001b[0m\u001b[0;34m\u001b[0m\u001b[0m\n\u001b[1;32m    535\u001b[0m         \u001b[0;31m# There are also .wav files with \"FFIR\" or \"XFIR\" signatures?\u001b[0m\u001b[0;34m\u001b[0m\u001b[0;34m\u001b[0m\u001b[0m\n\u001b[0;32m--> 536\u001b[0;31m         raise ValueError(f\"File format {repr(str1)} not understood. Only \"\n\u001b[0m\u001b[1;32m    537\u001b[0m                          \"'RIFF', 'RIFX', and 'RF64' supported.\")\n\u001b[1;32m    538\u001b[0m     \u001b[0;31m# Size of entire file\u001b[0m\u001b[0;34m\u001b[0m\u001b[0;34m\u001b[0m\u001b[0m\n",
            "\u001b[0;31mValueError\u001b[0m: File format b'OggS' not understood. Only 'RIFF', 'RIFX', and 'RF64' supported."
          ]
        }
      ],
      "source": [
        "import librosa\n",
        "import numpy as np\n",
        "import matplotlib.pyplot as plt\n",
        "from scipy.io import wavfile\n",
        "from scipy.signal import spectrogram as scipy_spectrogram, windows, lfilter\n",
        "import parselmouth\n",
        "import os\n",
        "\n",
        "def generate_python_spectrogram(\n",
        "    audio_path,\n",
        "    output_path,\n",
        "    freq_range=(0, 5000),\n",
        "    window_length=0.005,\n",
        "    dynamic_range=50,\n",
        "    dynamic_compression=0.3\n",
        "):\n",
        "    \"\"\"\n",
        "    Generates a Praat-like spectrogram using pure Python libraries.\n",
        "    \"\"\"\n",
        "    sample_rate, samples = wavfile.read(audio_path)\n",
        "    if samples.ndim > 1:\n",
        "        samples = samples.mean(axis=1)\n",
        "\n",
        "    # Pre-emphasis\n",
        "    pre_emphasis_from = 50\n",
        "    k = np.exp(-2 * np.pi * pre_emphasis_from / sample_rate)\n",
        "    emphasized_samples = lfilter([1, -k], 1, samples)\n",
        "\n",
        "    # Spectrogram Calculation\n",
        "    nperseg = int(window_length * sample_rate)\n",
        "    hop_length = int(0.001 * sample_rate) # 1ms time step\n",
        "    noverlap = nperseg - hop_length\n",
        "    window = windows.gaussian(nperseg, std=nperseg / 8)\n",
        "\n",
        "    frequencies, times, Sxx = scipy_spectrogram(\n",
        "        emphasized_samples, fs=sample_rate, window=window,\n",
        "        nperseg=nperseg, noverlap=noverlap, scaling='density'\n",
        "    )\n",
        "\n",
        "    # Power, dB Conversion, and Dynamic Range\n",
        "    Sxx_db = 10 * np.log10(np.maximum(Sxx, 1e-10))\n",
        "    max_db = np.percentile(Sxx_db, 99.9)\n",
        "    min_db = max_db - dynamic_range\n",
        "    clipped_Sxx_db = np.clip(Sxx_db, min_db, max_db)\n",
        "\n",
        "    # Dynamic Compression\n",
        "    normalized_Sxx = (clipped_Sxx_db - min_db) / dynamic_range\n",
        "    compressed_Sxx = normalized_Sxx ** (1 - dynamic_compression)\n",
        "\n",
        "    # Plotting\n",
        "    fig, ax = plt.subplots(figsize=(14, 7))\n",
        "    img = ax.imshow(\n",
        "        compressed_Sxx, interpolation='bilinear', origin='lower',\n",
        "        aspect='auto', extent=(times.min(), times.max(), frequencies.min(), frequencies.max()),\n",
        "        cmap='gray_r'\n",
        "    )\n",
        "    ax.set_ylim(freq_range)\n",
        "    ax.set_xlabel(\"Time (s)\")\n",
        "    ax.set_ylabel(\"Frequency (Hz)\")\n",
        "    ax.set_title(\"Python-Generated Phonetic Spectrogram\")\n",
        "    plt.tight_layout()\n",
        "    plt.savefig(output_path, dpi=300)\n",
        "    plt.close()\n",
        "    print(f\"Python spectrogram saved to {output_path}\")\n",
        "\n",
        "def generate_praat_spectrogram(\n",
        "    audio_path,\n",
        "    output_path,\n",
        "    freq_range=(0, 5000),\n",
        "    window_length=0.005,\n",
        "    dynamic_range=50\n",
        "):\n",
        "    \"\"\"\n",
        "    Generates a spectrogram using the Praat engine via Parselmouth.\n",
        "    \"\"\"\n",
        "    snd = parselmouth.Sound(audio_path)\n",
        "    # The time_step is 0.001 for a 1000Hz analysis rate\n",
        "    spectrogram = snd.to_spectrogram(\n",
        "        window_length=window_length,\n",
        "        time_step=0.001,\n",
        "        window_shape=parselmouth.WindowShape.GAUSSIAN\n",
        "    )\n",
        "\n",
        "    # Extract data for plotting\n",
        "    X, Y = spectrogram.x_grid(), spectrogram.y_grid()\n",
        "    sg_db = 10 * np.log10(spectrogram.values)\n",
        "\n",
        "    # Plotting with the same dynamic range and colormap\n",
        "    fig, ax = plt.subplots(figsize=(14, 7))\n",
        "    # Note: Praat's dynamic range is handled differently in the plotting call\n",
        "    img = ax.pcolormesh(\n",
        "        X, Y, sg_db,\n",
        "        vmin=sg_db.max() - dynamic_range,\n",
        "        cmap='gray_r',\n",
        "        shading='auto'\n",
        "    )\n",
        "    ax.set_ylim(freq_range)\n",
        "    ax.set_xlabel(\"Time (s)\")\n",
        "    ax.set_ylabel(\"Frequency (Hz)\")\n",
        "    ax.set_title(\"Praat-Generated Spectrogram (via Parselmouth)\")\n",
        "    plt.tight_layout()\n",
        "    plt.savefig(output_path, dpi=300)\n",
        "    plt.close()\n",
        "    print(f\"Praat spectrogram saved to {output_path}\")\n",
        "\n",
        "\n",
        "# --- Main Execution ---\n",
        "# Load the example audio file from Librosa\n",
        "audio_file_path = librosa.ex('libri1')\n",
        "\n",
        "# Define output paths\n",
        "python_spec_path = \"python_libri1_spectrogram.png\"\n",
        "praat_spec_path = \"praat_libri1_spectrogram.png\"\n",
        "\n",
        "# Generate both spectrograms\n",
        "generate_python_spectrogram(audio_file_path, python_spec_path)\n",
        "generate_praat_spectrogram(audio_file_path, praat_spec_path)"
      ]
    }
  ]
}