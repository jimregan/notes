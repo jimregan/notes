{
  "nbformat": 4,
  "nbformat_minor": 0,
  "metadata": {
    "colab": {
      "name": "2021-09-05-playing-with-asteroid.ipynb",
      "provenance": [],
      "collapsed_sections": []
    },
    "kernelspec": {
      "name": "python3",
      "display_name": "Python 3"
    },
    "accelerator": "GPU"
  },
  "cells": [
    {
      "cell_type": "markdown",
      "metadata": {
        "id": "_jbu5q7jgdCV"
      },
      "source": [
        "# Playing with Asteroid\n",
        "\n",
        "> \"Source separation with Asteroid\"\n",
        "\n",
        "- toc: false\n",
        "- branch: master\n",
        "- hidden: true\n",
        "- categories: [asteroid, separation]\n"
      ]
    },
    {
      "cell_type": "code",
      "metadata": {
        "id": "vJGyKTQJqdzq"
      },
      "source": [
        "%%capture\n",
        "!pip install -U asteroid"
      ],
      "execution_count": null,
      "outputs": []
    },
    {
      "cell_type": "code",
      "metadata": {
        "id": "f5u8wRm3GYFr"
      },
      "source": [
        "%%capture\n",
        "!wget https://podcast.rasset.ie/podcasts/audio/2021/0626/20210626_rteraidion-bailiuchanbhairbre-bailichnbh_c21974765_21975131_232_.mp3"
      ],
      "execution_count": null,
      "outputs": []
    },
    {
      "cell_type": "code",
      "metadata": {
        "id": "_1FfyTTCePSR"
      },
      "source": [
        "%%capture\n",
        "!ffmpeg -i /content/20210626_rteraidion-bailiuchanbhairbre-bailichnbh_c21974765_21975131_232_.mp3 -acodec pcm_s16le -ac 1 -ar 16000 /content/20210626_rteraidion-bailiuchanbhairbre-bailichnbh_c21974765_21975131_232_.wav"
      ],
      "execution_count": null,
      "outputs": []
    },
    {
      "cell_type": "code",
      "metadata": {
        "id": "go1wJBYJnsIx",
        "colab": {
          "base_uri": "https://localhost:8080/"
        },
        "outputId": "09c3538b-f5c3-4dd0-d83c-721be004bc12"
      },
      "source": [
        "!asteroid-infer \"mpariente/ConvTasNet_WHAM!_sepclean\" --files /content/20210626_rteraidion-bailiuchanbhairbre-bailichnbh_c21974765_21975131_232_.wav --resample --ola-window 8000 --ola-hop 4000"
      ],
      "execution_count": null,
      "outputs": [
        {
          "output_type": "stream",
          "name": "stdout",
          "text": [
            "100% 19.3M/19.3M [00:03<00:00, 5.35MB/s]\n"
          ]
        }
      ]
    }
  ]
}