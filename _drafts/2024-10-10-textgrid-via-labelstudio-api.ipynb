{
 "cells": [
  {
   "cell_type": "markdown",
   "metadata": {},
   "source": [
    "# TextGrid to Label Studio\n",
    "\n",
    "> \"Via the API\"\n",
    "\n",
    "- branch: master\n",
    "- comments: false\n",
    "- categories: [textgrid, json, hsi]"
   ]
  },
  {
   "cell_type": "markdown",
   "metadata": {},
   "source": [
    "Update of [an earlier notebook]({% post_url 2024-09-20-textgrid-via-labelstudio-api %}), to include quasi-transcriptions via espeak, and to fix the problem of labels and textareas being separate."
   ]
  },
  {
   "cell_type": "code",
   "execution_count": 1,
   "metadata": {},
   "outputs": [],
   "source": [
    "def slurpfile(filename) -> str:\n",
    "    with open(filename) as inf:\n",
    "        return inf.read().strip()"
   ]
  },
  {
   "cell_type": "code",
   "execution_count": 2,
   "metadata": {
    "tags": [
     "parameters"
    ]
   },
   "outputs": [],
   "source": [
    "host = \"http://130.237.3.107:8080/api/\"\n",
    "api_token: str = slurpfile(\"label_studio_mine\")\n",
    "input_dir = \"/Users/joregan/Desktop/\""
   ]
  },
  {
   "cell_type": "code",
   "execution_count": 3,
   "metadata": {},
   "outputs": [],
   "source": [
    "import requests\n",
    "import json\n",
    "from pathlib import Path\n",
    "\n",
    "headers = {\n",
    "    \"Authorization\": f\"Token {api_token}\"\n",
    "}"
   ]
  },
  {
   "cell_type": "code",
   "execution_count": 4,
   "metadata": {},
   "outputs": [],
   "source": [
    "def get_projects():\n",
    "    req = requests.get(f\"{host}projects\", headers=headers)\n",
    "    assert req.status_code == 200\n",
    "    data = json.loads(req.text)\n",
    "    return data"
   ]
  },
  {
   "cell_type": "code",
   "execution_count": 5,
   "metadata": {},
   "outputs": [],
   "source": [
    "def get_project_id_from_name(name):\n",
    "    projects = get_projects()\n",
    "    for res in projects[\"results\"]:\n",
    "        if res[\"title\"].strip() == name.strip():\n",
    "            return res[\"id\"]"
   ]
  },
  {
   "cell_type": "code",
   "execution_count": 6,
   "metadata": {},
   "outputs": [],
   "source": [
    "def get_tasks(projectid):\n",
    "    req = requests.get(f\"{host}tasks\", headers=headers, params={\"project\": projectid})\n",
    "    assert req.status_code == 200\n",
    "    data = json.loads(req.text)\n",
    "    return data"
   ]
  },
  {
   "cell_type": "code",
   "execution_count": 7,
   "metadata": {},
   "outputs": [],
   "source": [
    "def index_task_filestem_to_id(tasks_data):\n",
    "    tasks = tasks_data[\"tasks\"]\n",
    "    mapping = {}\n",
    "    for task in tasks:\n",
    "        task_id = task[\"id\"]\n",
    "        if \"storage_filename\" in task:\n",
    "            task_raw_path = task[\"storage_filename\"]\n",
    "        else:\n",
    "            task_raw_path = task[\"data\"][\"audio\"]\n",
    "        if not task_raw_path:\n",
    "            continue\n",
    "        task_stem = task_raw_path.split(\"/\")[-1]\n",
    "        mapping[task_stem] = task_id\n",
    "    return mapping"
   ]
  },
  {
   "cell_type": "code",
   "execution_count": 43,
   "metadata": {},
   "outputs": [],
   "source": [
    "tasks = get_tasks(8)"
   ]
  },
  {
   "cell_type": "code",
   "execution_count": 44,
   "metadata": {},
   "outputs": [],
   "source": [
    "mapping = index_task_filestem_to_id(tasks)"
   ]
  },
  {
   "cell_type": "code",
   "execution_count": 16,
   "metadata": {},
   "outputs": [],
   "source": [
    "import json\n",
    "from praatio import textgrid\n",
    "import uuid\n",
    "\n",
    "noises = [\"smack\", \"spn\", \"mic_click\", \"labial_trill\", \"sniff\", \"click\", \"vocal_clicks\", \"throat_noise\", \"vocal_noise\", \"lip_trill\", \"lip_noise\", \"noise\", \"flapping_noises\", \"cough\", \"grumble\", \"skip\", \"creak\", \"s\"]\n",
    "breath = [\"breath\", \"inhale\", \"exhale\", \"sigh\", \"breath_noise\", \"breath_noises\", \"blow\", \"suck\"]\n",
    "laugh = [\"laugh\", \"laughter\"]\n",
    "\n",
    "labels = {}\n",
    "for noise in noises:\n",
    "    labels[noise] = \"Noise\"\n",
    "for noise in laugh:\n",
    "    labels[noise] = \"Laughter\"\n",
    "for noise in breath:\n",
    "    labels[noise] = \"Breath\"\n",
    "\n",
    "def tg_to_result(tgfile):\n",
    "    outputs = []\n",
    "    tg = textgrid.openTextgrid(tgfile, False)\n",
    "\n",
    "    espeak = {}\n",
    "    espeak_tier = \"espeak\"\n",
    "    es_tier = tg.getTier(espeak_tier)\n",
    "    for entry in es_tier.entries:\n",
    "        text = entry.label.strip()\n",
    "        if text == \"\":\n",
    "            continue\n",
    "        espeak[entry.start] = text\n",
    "\n",
    "    tiername = \"utterances\"\n",
    "    if not tiername in tg.tierNames:\n",
    "        tiername = \"words\"\n",
    "\n",
    "    tier = tg.getTier(tiername)\n",
    "    for entry in tier.entries:\n",
    "        text = entry.label.strip()\n",
    "        if text == \"\":\n",
    "            continue\n",
    "\n",
    "        label = \"Speech\"\n",
    "        if text.endswith(\"crosstalk]\"):\n",
    "            label = \"Cross-talk\"\n",
    "            if text.startswith(\"[\") and text.endswith(\"]\"):\n",
    "                text = text[1:-1]\n",
    "        elif text.startswith(\"[\") and text.endswith(\"]\") and text[1:-1] in labels:\n",
    "            label = labels[text[1:-1]]\n",
    "            text = text[1:-1]\n",
    "        \n",
    "        if entry.start in espeak:\n",
    "            estext = f\"/{espeak[entry.start]}/\"\n",
    "            atext = [text, estext]\n",
    "        else:\n",
    "            atext = [text]\n",
    "\n",
    "        gen_id = str(uuid.uuid4())[:6]\n",
    "        segment = {\n",
    "            \"value\": {\n",
    "                \"start\": entry.start,\n",
    "                \"end\": entry.end,\n",
    "                \"channel\": 0,\n",
    "                \"labels\": [label]\n",
    "            },\n",
    "            \"from_name\": \"labels\",\n",
    "            \"to_name\": \"audio\",\n",
    "            \"type\": \"labels\",\n",
    "            \"id\": gen_id,\n",
    "        }\n",
    "        rec = {\n",
    "            \"value\": {\n",
    "                \"start\": entry.start,\n",
    "                \"end\": entry.end,\n",
    "                \"channel\": 0,\n",
    "                \"text\": atext\n",
    "            },\n",
    "            \"from_name\": \"transcription\",\n",
    "            \"to_name\": \"audio\",\n",
    "            \"type\": \"textarea\",\n",
    "            \"id\": gen_id,\n",
    "        }\n",
    "        outputs.append(segment)\n",
    "        outputs.append(rec)\n",
    "\n",
    "    return outputs"
   ]
  },
  {
   "cell_type": "code",
   "execution_count": 17,
   "metadata": {},
   "outputs": [],
   "source": [
    "def post_results(id, task, project, results):\n",
    "    ep = f\"{host}annotations/{id}/?taskID={task}&project={project}\"\n",
    "\n",
    "    cur_headers = {i: headers[i] for i in headers}\n",
    "    cur_headers[\"Content-type\"] = \"application/json\"\n",
    "\n",
    "    content = {\n",
    "        \"was_cancelled\": False,\n",
    "        \"ground_truth\": False,\n",
    "        \"project\": project,\n",
    "        \"draft_id\": 0,\n",
    "        \"parent_prediction\": None,\n",
    "        \"parent_annotation\": None,\n",
    "        \"result\": results\n",
    "    }\n",
    "    r = requests.patch(ep, data=json.dumps(content), headers=cur_headers)\n",
    "    return r"
   ]
  },
  {
   "cell_type": "code",
   "execution_count": 18,
   "metadata": {},
   "outputs": [],
   "source": [
    "file = f\"{input_dir}hsi_4_0717_209_002_main.TextGrid\"\n",
    "data = tg_to_result(file)"
   ]
  },
  {
   "cell_type": "code",
   "execution_count": 19,
   "metadata": {},
   "outputs": [
    {
     "name": "stdout",
     "output_type": "stream",
     "text": [
      "{\"id\":270,\"result\":[{\"value\":{\"start\":5.804032706613903,\"end\":9.021769689180255,\"channel\":0,\"labels\":[\"Cross-talk\"]},\"from_name\":\"labels\",\"to_name\":\"audio\",\"type\":\"labels\",\"id\":\"a4995c\"},{\"value\":{\"start\":5.804032706613903,\"end\":9.021769689180255,\"channel\":0,\"text\":[\"crosstalk\"]},\"from_name\":\"transcription\",\"to_name\":\"audio\",\"type\":\"textarea\",\"id\":\"a4995c\"},{\"value\":{\"start\":9.021769689180255,\"end\":13.893398836807094,\"channel\":0,\"labels\":[\"Speech\"]},\"from_name\":\"labels\",\"to_name\":\"audio\",\"type\":\"labels\",\"id\":\"587b96\"},{\"value\":{\"start\":9.021769689180255,\"end\":13.893398836807094,\"channel\":0,\"text\":[\"Well, yeah, I think you maybe have to look at the fingers. Because in the pinky fingers.\",\"/wˈʌ jˈæ aɪ θˈɪŋk juː mˈeɪbiː æv tə lˈʊk æ ðə fˈɪŋɡɚz. ks ɪn ðə pˈɪŋki fˈɪŋɡɚz./\"]},\"from_name\":\"transcription\",\"to_name\":\"audio\",\"type\":\"textarea\",\"id\":\"587b96\"},{\"value\":{\"start\":14.487499775581218,\"end\":17.20729204576262,\"channel\":0,\"labels\":[\"Cross-talk\"]},\"from_name\":\"labels\",\"to_name\":\"audio\",\"type\":\"labels\",\"id\":\"1eb381\"},{\"value\":{\"start\":14.487499775581218,\"end\":17.20729204576262,\"channel\":0,\"text\":[\"crosstalk\"]},\"from_name\":\"transcription\",\"to_name\":\"audio\",\"type\":\"textarea\",\"id\":\"1eb381\"},{\"value\":{\"start\":19.654001629543544,\"end\":27.618558408994666,\"channel\":0,\"labels\":[\"Cross-talk\"]},\"from_name\":\"labels\",\"to_name\":\"audio\",\"type\":\"labels\",\"id\":\"72fc51\"},{\"value\":{\"start\":19.654001629543544,\"end\":27.618558408994666,\"channel\":0,\"text\":[\"crosstalk\"]},\"from_name\":\"transcription\",\"to_name\":\"audio\",\"type\":\"textarea\",\"id\":\"72fc51\"},{\"value\":{\"start\":27.68271730548336,\"end\":27.91185622151442,\"channel\":0,\"labels\":[\"Speech\"]},\"from_name\":\"labels\",\"to_name\":\"audio\",\"type\":\"labels\",\"id\":\"ba607d\"},{\"value\":{\"start\":27.68271730548336,\"end\":27.91185622151442,\"channel\":0,\"text\":[\"Yeah.\",\"/jˈæ./\"]},\"from_name\":\"transcription\",\"to_name\":\"audio\",\"type\":\"textarea\",\"id\":\"ba607d\"},{\"value\":{\"start\":28.37139434773715,\"end\":28.71684202427182,\"channel\":0,\"labels\":[\"Speech\"]},\"from_name\":\"labels\",\"to_name\":\"audio\",\"type\":\"labels\",\"id\":\"f620bd\"},{\"value\":{\"start\":28.37139434773715,\"end\":28.71684202427182,\"channel\":0,\"text\":[\"Okay.\",\"/oʊkˈeɪ./\"]},\"from_name\":\"transcription\",\"to_name\":\"audio\",\"type\":\"textarea\",\"id\":\"f620bd\"},{\"value\":{\"start\":29.699664991314116,\"end\":31.50961619794646,\"channel\":0,\"labels\":[\"Cross-talk\"]},\"from_name\":\"labels\",\"to_name\":\"audio\",\"type\":\"labels\",\"id\":\"2c2c61\"},{\"value\":{\"start\":29.699664991314116,\"end\":31.50961619794646,\"channel\":0,\"text\":[\"crosstalk\"]},\"from_name\":\"transcription\",\"to_name\":\"audio\",\"type\":\"textarea\",\"id\":\"2c2c61\"},{\"value\":{\"start\":31.50961619794646,\"end\":31.884256635878426,\"channel\":0,\"labels\":[\"Speech\"]},\"from_name\":\"labels\",\"to_name\":\"audio\",\"type\":\"labels\",\"id\":\"a5780b\"},{\"value\":{\"start\":31.50961619794646,\"end\":31.884256635878426,\"channel\":0,\"text\":[\"Hmm.\",\"/hm./\"]},\"from_name\":\"transcription\",\"to_name\":\"audio\",\"type\":\"textarea\",\"id\":\"a5780b\"},{\"value\":{\"start\":35.5378558516291,\"end\":35.921,\"channel\":0,\"labels\":[\"Speech\"]},\"from_name\":\"labels\",\"to_name\":\"audio\",\"type\":\"labels\",\"id\":\"ead11c\"},{\"value\":{\"start\":35.5378558516291,\"end\":35.921,\"channel\":0,\"text\":[\"Yeah.\",\"/jˈɛ./\"]},\"from_name\":\"transcription\",\"to_name\":\"audio\",\"type\":\"textarea\",\"id\":\"ead11c\"},{\"value\":{\"start\":35.921,\"end\":36.501216977739865,\"channel\":0,\"labels\":[\"Cross-talk\"]},\"from_name\":\"labels\",\"to_name\":\"audio\",\"type\":\"labels\",\"id\":\"19856b\"},{\"value\":{\"start\":35.921,\"end\":36.501216977739865,\"channel\":0,\"text\":[\"crosstalk\"]},\"from_name\":\"transcription\",\"to_name\":\"audio\",\"type\":\"textarea\",\"id\":\"19856b\"},{\"value\":{\"start\":37.17751595011055,\"end\":37.809058630739415,\"channel\":0,\"labels\":[\"Speech\"]},\"from_name\":\"labels\",\"to_name\":\"audio\",\"type\":\"labels\",\"id\":\"ff642a\"},{\"value\":{\"start\":37.17751595011055,\"end\":37.809058630739415,\"channel\":0,\"text\":[\"Good.\",\"/ɡˈʊd/\"]},\"from_name\":\"transcription\",\"to_name\":\"audio\",\"type\":\"textarea\",\"id\":\"ff642a\"},{\"value\":{\"start\":38.812287890159986,\"end\":42.393266621561615,\"channel\":0,\"labels\":[\"Speech\"]},\"from_name\":\"labels\",\"to_name\":\"audio\",\"type\":\"labels\",\"id\":\"b06b7b\"},{\"value\":{\"start\":38.812287890159986,\"end\":42.393266621561615,\"channel\":0,\"text\":[\"But I'm wondering about the fourth vase. Where is it? Did you break it?\",\"/bˌʌt aɪm wˈʌndɹɪŋ ɐbˌaʊt ðə fˈoːɹθ vˈɑːz. wˌɛɹ ɪz ɪt. dˈɪ dʒuː bɹˈeɪk ɪt?/\"]},\"from_name\":\"transcription\",\"to_name\":\"audio\",\"type\":\"textarea\",\"id\":\"b06b7b\"},{\"value\":{\"start\":43.21148338579515,\"end\":46.57838186694995,\"channel\":0,\"labels\":[\"Cross-talk\"]},\"from_name\":\"labels\",\"to_name\":\"audio\",\"type\":\"labels\",\"id\":\"f31325\"},{\"value\":{\"start\":43.21148338579515,\"end\":46.57838186694995,\"channel\":0,\"text\":[\"crosstalk\"]},\"from_name\":\"transcription\",\"to_name\":\"audio\",\"type\":\"textarea\",\"id\":\"f31325\"},{\"value\":{\"start\":46.57838186694995,\"end\":48.912057963585795,\"channel\":0,\"labels\":[\"Speech\"]},\"from_name\":\"labels\",\"to_name\":\"audio\",\"type\":\"labels\",\"id\":\"42ba35\"},{\"value\":{\"start\":46.57838186694995,\"end\":48.912057963585795,\"channel\":0,\"text\":[\"I have three now. I used to have four.\",\"/aɪ hæ θɹˈiː nˈaʊ aɪ jˈuːz tə hæ fˈoːɹ./\"]},\"from_name\":\"transcription\",\"to_name\":\"audio\",\"type\":\"textarea\",\"id\":\"42ba35\"},{\"value\":{\"start\":49.81985332137389,\"end\":53.274330086720575,\"channel\":0,\"labels\":[\"Cross-talk\"]},\"from_name\":\"labels\",\"to_name\":\"audio\",\"type\":\"labels\",\"id\":\"d90ab2\"},{\"value\":{\"start\":49.81985332137389,\"end\":53.274330086720575,\"channel\":0,\"text\":[\"crosstalk\"]},\"from_name\":\"transcription\",\"to_name\":\"audio\",\"type\":\"textarea\",\"id\":\"d90ab2\"},{\"value\":{\"start\":54.141064299692765,\"end\":55.55563672078263,\"channel\":0,\"labels\":[\"Speech\"]},\"from_name\":\"labels\",\"to_name\":\"audio\",\"type\":\"labels\",\"id\":\"6ece7f\"},{\"value\":{\"start\":54.141064299692765,\"end\":55.55563672078263,\"channel\":0,\"text\":[\"I had a black one as well.\",\"/aɪ hɐd ɐ blˈæk wˈʌn æz wˈɛl./\"]},\"from_name\":\"transcription\",\"to_name\":\"audio\",\"type\":\"textarea\",\"id\":\"6ece7f\"},{\"value\":{\"start\":56.88073375680986,\"end\":58.763666866935445,\"channel\":0,\"labels\":[\"Speech\"]},\"from_name\":\"labels\",\"to_name\":\"audio\",\"type\":\"labels\",\"id\":\"e9d07f\"},{\"value\":{\"start\":56.88073375680986,\"end\":58.763666866935445,\"channel\":0,\"text\":[\"See-through, blue, green and black.\",\"/sˈiːθɹuː blˈuː ɡɹˈiːn æn blˈæk./\"]},\"from_name\":\"transcription\",\"to_name\":\"audio\",\"type\":\"textarea\",\"id\":\"e9d07f\"},{\"value\":{\"start\":58.93078436753661,\"end\":59.36867578849605,\"channel\":0,\"labels\":[\"Cross-talk\"]},\"from_name\":\"labels\",\"to_name\":\"audio\",\"type\":\"labels\",\"id\":\"92a846\"},{\"value\":{\"start\":58.93078436753661,\"end\":59.36867578849605,\"channel\":0,\"text\":[\"crosstalk\"]},\"from_name\":\"transcription\",\"to_name\":\"audio\",\"type\":\"textarea\",\"id\":\"92a846\"},{\"value\":{\"start\":60.049840221099615,\"end\":60.789390176497776,\"channel\":0,\"labels\":[\"Speech\"]},\"from_name\":\"labels\",\"to_name\":\"audio\",\"type\":\"labels\",\"id\":\"550cc6\"},{\"value\":{\"start\":60.049840221099615,\"end\":60.789390176497776,\"channel\":0,\"text\":[\"Did you break it?\",\"/dˈɪ dʒˈuː bɹˈeɪk ɪt?/\"]},\"from_name\":\"transcription\",\"to_name\":\"audio\",\"type\":\"textarea\",\"id\":\"550cc6\"},{\"value\":{\"start\":61.15916515419686,\"end\":65.08125978852915,\"channel\":0,\"labels\":[\"Cross-talk\"]},\"from_name\":\"labels\",\"to_name\":\"audio\",\"type\":\"labels\",\"id\":\"dfbcbe\"},{\"value\":{\"start\":61.15916515419686,\"end\":65.08125978852915,\"channel\":0,\"text\":[\"crosstalk\"]},\"from_name\":\"transcription\",\"to_name\":\"audio\",\"type\":\"textarea\",\"id\":\"dfbcbe\"},{\"value\":{\"start\":65.71863507903679,\"end\":66.63676313851693,\"channel\":0,\"labels\":[\"Speech\"]},\"from_name\":\"labels\",\"to_name\":\"audio\",\"type\":\"labels\",\"id\":\"7624ad\"},{\"value\":{\"start\":65.71863507903679,\"end\":66.63676313851693,\"channel\":0,\"text\":[\"You moved it.\",\"/juː mˈuːvd ɪt./\"]},\"from_name\":\"transcription\",\"to_name\":\"audio\",\"type\":\"textarea\",\"id\":\"7624ad\"},{\"value\":{\"start\":66.63676313851693,\"end\":67.96989924232678,\"channel\":0,\"labels\":[\"Cross-talk\"]},\"from_name\":\"labels\",\"to_name\":\"audio\",\"type\":\"labels\",\"id\":\"f5d901\"},{\"value\":{\"start\":66.63676313851693,\"end\":67.96989924232678,\"channel\":0,\"text\":[\"crosstalk\"]},\"from_name\":\"transcription\",\"to_name\":\"audio\",\"type\":\"textarea\",\"id\":\"f5d901\"},{\"value\":{\"start\":68.30016388906927,\"end\":68.59209150304223,\"channel\":0,\"labels\":[\"Speech\"]},\"from_name\":\"labels\",\"to_name\":\"audio\",\"type\":\"labels\",\"id\":\"a4284d\"},{\"value\":{\"start\":68.30016388906927,\"end\":68.59209150304223,\"channel\":0,\"text\":[\"Hmm.\",\"/hm./\"]},\"from_name\":\"transcription\",\"to_name\":\"audio\",\"type\":\"textarea\",\"id\":\"a4284d\"},{\"value\":{\"start\":69.60150514089284,\"end\":70.38882972497953,\"channel\":0,\"labels\":[\"Cross-talk\"]},\"from_name\":\"labels\",\"to_name\":\"audio\",\"type\":\"labels\",\"id\":\"9be2bf\"},{\"value\":{\"start\":69.60150514089284,\"end\":70.38882972497953,\"channel\":0,\"text\":[\"crosstalk\"]},\"from_name\":\"transcription\",\"to_name\":\"audio\",\"type\":\"textarea\",\"id\":\"9be2bf\"},{\"value\":{\"start\":70.38882972497953,\"end\":75.58110280464096,\"channel\":0,\"labels\":[\"Speech\"]},\"from_name\":\"labels\",\"to_name\":\"audio\",\"type\":\"labels\",\"id\":\"8b66ee\"},{\"value\":{\"start\":70.38882972497953,\"end\":75.58110280464096,\"channel\":0,\"text\":[\"Okay. And that weird waste bin over there, is that something you put there?\",\"/oʊkˈeɪ æn ðæt wˈɪɹd wˈeɪs bˈɪn ˌoʊvɚ ðɛɹ. ɪz ðæt, sˈʌmθɪŋ juː pˌʊ ðˈɛɹ?/\"]},\"from_name\":\"transcription\",\"to_name\":\"audio\",\"type\":\"textarea\",\"id\":\"8b66ee\"},{\"value\":{\"start\":75.58110280464096,\"end\":78.742486223894,\"channel\":0,\"labels\":[\"Cross-talk\"]},\"from_name\":\"labels\",\"to_name\":\"audio\",\"type\":\"labels\",\"id\":\"39ba1a\"},{\"value\":{\"start\":75.58110280464096,\"end\":78.742486223894,\"channel\":0,\"text\":[\"crosstalk\"]},\"from_name\":\"transcription\",\"to_name\":\"audio\",\"type\":\"textarea\",\"id\":\"39ba1a\"},{\"value\":{\"start\":78.742486223894,\"end\":83.08386771369534,\"channel\":0,\"labels\":[\"Speech\"]},\"from_name\":\"labels\",\"to_name\":\"audio\",\"type\":\"labels\",\"id\":\"2cf904\"},{\"value\":{\"start\":78.742486223894,\"end\":83.08386771369534,\"channel\":0,\"text\":[\"That's good, but it looks, uh you can bring that with you, okay. Cause I don't really like it.\",\"/ðæts ɡˈʊd bˌʌt ɪt lˈʊks ˈʌ juː kæn bɹˈɪŋ ðæt wɪð juː oʊkˈeɪ kˈɔːz aɪ dˈoʊnt ɹˈili lˈaɪk ɪt./\"]},\"from_name\":\"transcription\",\"to_name\":\"audio\",\"type\":\"textarea\",\"id\":\"2cf904\"},{\"value\":{\"start\":83.2346969809147,\"end\":84.14453804446376,\"channel\":0,\"labels\":[\"Speech\"]},\"from_name\":\"labels\",\"to_name\":\"audio\",\"type\":\"labels\",\"id\":\"6d67f4\"},{\"value\":{\"start\":83.2346969809147,\"end\":84.14453804446376,\"channel\":0,\"text\":[\"I think it's ugly.\",\"/aɪ θˈɪŋk ɪts ˈʌɡli./\"]},\"from_name\":\"transcription\",\"to_name\":\"audio\",\"type\":\"textarea\",\"id\":\"6d67f4\"},{\"value\":{\"start\":85.86630161961156,\"end\":90.73031036189313,\"channel\":0,\"labels\":[\"Speech\"]},\"from_name\":\"labels\",\"to_name\":\"audio\",\"type\":\"labels\",\"id\":\"90c91e\"},{\"value\":{\"start\":85.86630161961156,\"end\":90.73031036189313,\"channel\":0,\"text\":[\"And how about the cleaning is like the, the desk? Is it, did you dust it?\",\"/ænd hˌaʊ ɐbˌaʊt ðə klˈiːnɪŋ? ɪz lˈaɪk ðə, ðə dˈɛsk ɪz ɪ, dˈɪd juː dˈʌst ɪt?/\"]},\"from_name\":\"transcription\",\"to_name\":\"audio\",\"type\":\"textarea\",\"id\":\"90c91e\"},{\"value\":{\"start\":91.22684279986203,\"end\":93.668,\"channel\":0,\"labels\":[\"Cross-talk\"]},\"from_name\":\"labels\",\"to_name\":\"audio\",\"type\":\"labels\",\"id\":\"e216f5\"},{\"value\":{\"start\":91.22684279986203,\"end\":93.668,\"channel\":0,\"text\":[\"crosstalk\"]},\"from_name\":\"transcription\",\"to_name\":\"audio\",\"type\":\"textarea\",\"id\":\"e216f5\"},{\"value\":{\"start\":93.668,\"end\":93.97096237120785,\"channel\":0,\"labels\":[\"Speech\"]},\"from_name\":\"labels\",\"to_name\":\"audio\",\"type\":\"labels\",\"id\":\"e05f65\"},{\"value\":{\"start\":93.668,\"end\":93.97096237120785,\"channel\":0,\"text\":[\"Yeah.\",\"/jˈæ./\"]},\"from_name\":\"transcription\",\"to_name\":\"audio\",\"type\":\"textarea\",\"id\":\"e05f65\"},{\"value\":{\"start\":93.97096237120785,\"end\":95.626,\"channel\":0,\"labels\":[\"Cross-talk\"]},\"from_name\":\"labels\",\"to_name\":\"audio\",\"type\":\"labels\",\"id\":\"f8f0f5\"},{\"value\":{\"start\":93.97096237120785,\"end\":95.626,\"channel\":0,\"text\":[\"crosstalk\"]},\"from_name\":\"transcription\",\"to_name\":\"audio\",\"type\":\"textarea\",\"id\":\"f8f0f5\"},{\"value\":{\"start\":95.626,\"end\":96.32983061051564,\"channel\":0,\"labels\":[\"Speech\"]},\"from_name\":\"labels\",\"to_name\":\"audio\",\"type\":\"labels\",\"id\":\"4dcf54\"},{\"value\":{\"start\":95.626,\"end\":96.32983061051564,\"channel\":0,\"text\":[\"Yeah, cool.\",\"/jˈæ kˈuːl./\"]},\"from_name\":\"transcription\",\"to_name\":\"audio\",\"type\":\"textarea\",\"id\":\"4dcf54\"},{\"value\":{\"start\":96.55850724146113,\"end\":97.0456096495774,\"channel\":0,\"labels\":[\"Breath\"]},\"from_name\":\"labels\",\"to_name\":\"audio\",\"type\":\"labels\",\"id\":\"f1b11f\"},{\"value\":{\"start\":96.55850724146113,\"end\":97.0456096495774,\"channel\":0,\"text\":[\"breath\"]},\"from_name\":\"transcription\",\"to_name\":\"audio\",\"type\":\"textarea\",\"id\":\"f1b11f\"},{\"value\":{\"start\":97.0456096495774,\"end\":102.39557776605373,\"channel\":0,\"labels\":[\"Speech\"]},\"from_name\":\"labels\",\"to_name\":\"audio\",\"type\":\"labels\",\"id\":\"101ca5\"},{\"value\":{\"start\":97.0456096495774,\"end\":102.39557776605373,\"channel\":0,\"text\":[\"And also, because this is a part where you can often forget the lower part of the table.\",\"/æn ˈɑːsoʊ, kˈʌz ɪs ɪz ɐ pˈɑːɹt wˌɛɹ juː kæn ˈɔftən fɚɡˈɛt ðə lˈoʊɚ pˈɑːɹt ʌv ðə tˈeɪbəl./\"]},\"from_name\":\"transcription\",\"to_name\":\"audio\",\"type\":\"textarea\",\"id\":\"101ca5\"},{\"value\":{\"start\":102.39557776605373,\"end\":102.95765482095953,\"channel\":0,\"labels\":[\"Breath\"]},\"from_name\":\"labels\",\"to_name\":\"audio\",\"type\":\"labels\",\"id\":\"002ea1\"},{\"value\":{\"start\":102.39557776605373,\"end\":102.95765482095953,\"channel\":0,\"text\":[\"breath\"]},\"from_name\":\"transcription\",\"to_name\":\"audio\",\"type\":\"textarea\",\"id\":\"002ea1\"},{\"value\":{\"start\":102.95765482095953,\"end\":104.74327872642748,\"channel\":0,\"labels\":[\"Cross-talk\"]},\"from_name\":\"labels\",\"to_name\":\"audio\",\"type\":\"labels\",\"id\":\"6530fc\"},{\"value\":{\"start\":102.95765482095953,\"end\":104.74327872642748,\"channel\":0,\"text\":[\"crosstalk\"]},\"from_name\":\"transcription\",\"to_name\":\"audio\",\"type\":\"textarea\",\"id\":\"6530fc\"},{\"value\":{\"start\":104.74327872642748,\"end\":106.13764280570297,\"channel\":0,\"labels\":[\"Speech\"]},\"from_name\":\"labels\",\"to_name\":\"audio\",\"type\":\"labels\",\"id\":\"86acc7\"},{\"value\":{\"start\":104.74327872642748,\"end\":106.13764280570297,\"channel\":0,\"text\":[\"Did you dust it?\",\"/dˈɪ dʒˈuː, dˈʌst ɪt?/\"]},\"from_name\":\"transcription\",\"to_name\":\"audio\",\"type\":\"textarea\",\"id\":\"86acc7\"},{\"value\":{\"start\":107.21032255871383,\"end\":107.70173404223497,\"channel\":0,\"labels\":[\"Speech\"]},\"from_name\":\"labels\",\"to_name\":\"audio\",\"type\":\"labels\",\"id\":\"a562b4\"},{\"value\":{\"start\":107.21032255871383,\"end\":107.70173404223497,\"channel\":0,\"text\":[\"Okay.\",\"/ˈoʊkeɪ./\"]},\"from_name\":\"transcription\",\"to_name\":\"audio\",\"type\":\"textarea\",\"id\":\"a562b4\"},{\"value\":{\"start\":108.78585170052754,\"end\":112.47557754186849,\"channel\":0,\"labels\":[\"Speech\"]},\"from_name\":\"labels\",\"to_name\":\"audio\",\"type\":\"labels\",\"id\":\"a03a73\"},{\"value\":{\"start\":108.78585170052754,\"end\":112.47557754186849,\"channel\":0,\"text\":[\"But before I come back, I would really like for you to dust it, okay?\",\"/bˌʌ bɪfˌoːɹ aɪ kˈʌm bˈæk aɪ wʊd wi lˈaɪk fɔːɹ juː tə dˈʌst ɪt oʊkˈeɪ?/\"]},\"from_name\":\"transcription\",\"to_name\":\"audio\",\"type\":\"textarea\",\"id\":\"a03a73\"},{\"value\":{\"start\":112.879673801479,\"end\":113.40514350663032,\"channel\":0,\"labels\":[\"Breath\"]},\"from_name\":\"labels\",\"to_name\":\"audio\",\"type\":\"labels\",\"id\":\"b630ec\"},{\"value\":{\"start\":112.879673801479,\"end\":113.40514350663032,\"channel\":0,\"text\":[\"breath\"]},\"from_name\":\"transcription\",\"to_name\":\"audio\",\"type\":\"textarea\",\"id\":\"b630ec\"},{\"value\":{\"start\":113.40514350663032,\"end\":115.44059773665843,\"channel\":0,\"labels\":[\"Speech\"]},\"from_name\":\"labels\",\"to_name\":\"audio\",\"type\":\"labels\",\"id\":\"4be3b0\"},{\"value\":{\"start\":113.40514350663032,\"end\":115.44059773665843,\"channel\":0,\"text\":[\"And I'm also wondering if you um...\",\"/ænd aɪm ˈɑːsoʊ wˈʌndɹɪŋ ɪf juː ˈʌm/\"]},\"from_name\":\"transcription\",\"to_name\":\"audio\",\"type\":\"textarea\",\"id\":\"4be3b0\"},{\"value\":{\"start\":117.10141152875455,\"end\":117.2571062562068,\"channel\":0,\"labels\":[\"Noise\"]},\"from_name\":\"labels\",\"to_name\":\"audio\",\"type\":\"labels\",\"id\":\"6f938e\"},{\"value\":{\"start\":117.10141152875455,\"end\":117.2571062562068,\"channel\":0,\"text\":[\"smack\"]},\"from_name\":\"transcription\",\"to_name\":\"audio\",\"type\":\"textarea\",\"id\":\"6f938e\"},{\"value\":{\"start\":117.2571062562068,\"end\":119.32492685518193,\"channel\":0,\"labels\":[\"Speech\"]},\"from_name\":\"labels\",\"to_name\":\"audio\",\"type\":\"labels\",\"id\":\"b944c6\"},{\"value\":{\"start\":117.2571062562068,\"end\":119.32492685518193,\"channel\":0,\"text\":[\"vacuumed under the couches.\",\"/vˈækjuːmd ˌʌndə ðə kˈaʊtʃᵻz./\"]},\"from_name\":\"transcription\",\"to_name\":\"audio\",\"type\":\"textarea\",\"id\":\"b944c6\"},{\"value\":{\"start\":119.32492685518193,\"end\":122.6545935071568,\"channel\":0,\"labels\":[\"Cross-talk\"]},\"from_name\":\"labels\",\"to_name\":\"audio\",\"type\":\"labels\",\"id\":\"94f621\"},{\"value\":{\"start\":119.32492685518193,\"end\":122.6545935071568,\"channel\":0,\"text\":[\"crosstalk\"]},\"from_name\":\"transcription\",\"to_name\":\"audio\",\"type\":\"textarea\",\"id\":\"94f621\"},{\"value\":{\"start\":122.6545935071568,\"end\":122.91732835973247,\"channel\":0,\"labels\":[\"Speech\"]},\"from_name\":\"labels\",\"to_name\":\"audio\",\"type\":\"labels\",\"id\":\"67081b\"},{\"value\":{\"start\":122.6545935071568,\"end\":122.91732835973247,\"channel\":0,\"text\":[\"Hmm.\",\"/hm./\"]},\"from_name\":\"transcription\",\"to_name\":\"audio\",\"type\":\"textarea\",\"id\":\"67081b\"},{\"value\":{\"start\":124.65941861731932,\"end\":126.0947293860197,\"channel\":0,\"labels\":[\"Speech\"]},\"from_name\":\"labels\",\"to_name\":\"audio\",\"type\":\"labels\",\"id\":\"ba5d92\"},{\"value\":{\"start\":124.65941861731932,\"end\":126.0947293860197,\"channel\":0,\"text\":[\"Did you find them heavy to move?\",\"/dˈɪ dʒuː fˈaɪn ðˌɛm hˈɛvi tə mˈuːv?/\"]},\"from_name\":\"transcription\",\"to_name\":\"audio\",\"type\":\"textarea\",\"id\":\"ba5d92\"},{\"value\":{\"start\":126.97419682391802,\"end\":129.26582859360573,\"channel\":0,\"labels\":[\"Cross-talk\"]},\"from_name\":\"labels\",\"to_name\":\"audio\",\"type\":\"labels\",\"id\":\"f4e542\"},{\"value\":{\"start\":126.97419682391802,\"end\":129.26582859360573,\"channel\":0,\"text\":[\"crosstalk\"]},\"from_name\":\"transcription\",\"to_name\":\"audio\",\"type\":\"textarea\",\"id\":\"f4e542\"},{\"value\":{\"start\":129.26582859360573,\"end\":130.77412126579935,\"channel\":0,\"labels\":[\"Speech\"]},\"from_name\":\"labels\",\"to_name\":\"audio\",\"type\":\"labels\",\"id\":\"2cde1b\"},{\"value\":{\"start\":129.26582859360573,\"end\":130.77412126579935,\"channel\":0,\"text\":[\"Oh, so you're strong.\",\"/ˈoʊ. sˌoʊ jɚ stɹˈɔŋ./\"]},\"from_name\":\"transcription\",\"to_name\":\"audio\",\"type\":\"textarea\",\"id\":\"2cde1b\"},{\"value\":{\"start\":131.42319752186992,\"end\":132.20653661936404,\"channel\":0,\"labels\":[\"Laughter\"]},\"from_name\":\"labels\",\"to_name\":\"audio\",\"type\":\"labels\",\"id\":\"bee212\"},{\"value\":{\"start\":131.42319752186992,\"end\":132.20653661936404,\"channel\":0,\"text\":[\"laughter\"]},\"from_name\":\"transcription\",\"to_name\":\"audio\",\"type\":\"textarea\",\"id\":\"bee212\"},{\"value\":{\"start\":132.62010073915906,\"end\":133.6126546266671,\"channel\":0,\"labels\":[\"Breath\"]},\"from_name\":\"labels\",\"to_name\":\"audio\",\"type\":\"labels\",\"id\":\"9c05fe\"},{\"value\":{\"start\":132.62010073915906,\"end\":133.6126546266671,\"channel\":0,\"text\":[\"breath\"]},\"from_name\":\"transcription\",\"to_name\":\"audio\",\"type\":\"textarea\",\"id\":\"9c05fe\"},{\"value\":{\"start\":133.6126546266671,\"end\":135.42228981055356,\"channel\":0,\"labels\":[\"Speech\"]},\"from_name\":\"labels\",\"to_name\":\"audio\",\"type\":\"labels\",\"id\":\"542685\"},{\"value\":{\"start\":133.6126546266671,\"end\":135.42228981055356,\"channel\":0,\"text\":[\"Okay, so uh\",\"/oʊkˈeɪ sˌoʊ ˈʌ/\"]},\"from_name\":\"transcription\",\"to_name\":\"audio\",\"type\":\"textarea\",\"id\":\"542685\"},{\"value\":{\"start\":137.97118919135778,\"end\":139.15349602794828,\"channel\":0,\"labels\":[\"Speech\"]},\"from_name\":\"labels\",\"to_name\":\"audio\",\"type\":\"labels\",\"id\":\"ec216f\"},{\"value\":{\"start\":137.97118919135778,\"end\":139.15349602794828,\"channel\":0,\"text\":[\"the windows look\",\"/ðə wˈɪndoʊz ˈʊk/\"]},\"from_name\":\"transcription\",\"to_name\":\"audio\",\"type\":\"textarea\",\"id\":\"ec216f\"},{\"value\":{\"start\":140.71815121537466,\"end\":141.64745411985524,\"channel\":0,\"labels\":[\"Speech\"]},\"from_name\":\"labels\",\"to_name\":\"audio\",\"type\":\"labels\",\"id\":\"30c08d\"},{\"value\":{\"start\":140.71815121537466,\"end\":141.64745411985524,\"channel\":0,\"text\":[\"quite dirty.\",\"/kwˈaɪ dˈɜːɾi./\"]},\"from_name\":\"transcription\",\"to_name\":\"audio\",\"type\":\"textarea\",\"id\":\"30c08d\"},{\"value\":{\"start\":146.94103702289968,\"end\":147.40325574502353,\"channel\":0,\"labels\":[\"Speech\"]},\"from_name\":\"labels\",\"to_name\":\"audio\",\"type\":\"labels\",\"id\":\"4eda98\"},{\"value\":{\"start\":146.94103702289968,\"end\":147.40325574502353,\"channel\":0,\"text\":[\"Uh-huh.\",\"/ˈʌhʌ./\"]},\"from_name\":\"transcription\",\"to_name\":\"audio\",\"type\":\"textarea\",\"id\":\"4eda98\"},{\"value\":{\"start\":148.3167889706184,\"end\":149.0417425453179,\"channel\":0,\"labels\":[\"Speech\"]},\"from_name\":\"labels\",\"to_name\":\"audio\",\"type\":\"labels\",\"id\":\"3f6aab\"},{\"value\":{\"start\":148.3167889706184,\"end\":149.0417425453179,\"channel\":0,\"text\":[\"Oh.\",\"/ˈoʊ./\"]},\"from_name\":\"transcription\",\"to_name\":\"audio\",\"type\":\"textarea\",\"id\":\"3f6aab\"},{\"value\":{\"start\":150.71371605028173,\"end\":152.44095443295507,\"channel\":0,\"labels\":[\"Speech\"]},\"from_name\":\"labels\",\"to_name\":\"audio\",\"type\":\"labels\",\"id\":\"90fb4d\"},{\"value\":{\"start\":150.71371605028173,\"end\":152.44095443295507,\"channel\":0,\"text\":[\"So the rain messed them up.\",\"/sə ðə ɹˈeɪn mˈɛs ðˌɛm ˈʌp./\"]},\"from_name\":\"transcription\",\"to_name\":\"audio\",\"type\":\"textarea\",\"id\":\"90fb4d\"},{\"value\":{\"start\":152.8087139691587,\"end\":154.8035526646406,\"channel\":0,\"labels\":[\"Speech\"]},\"from_name\":\"labels\",\"to_name\":\"audio\",\"type\":\"labels\",\"id\":\"17276e\"},{\"value\":{\"start\":152.8087139691587,\"end\":154.8035526646406,\"channel\":0,\"text\":[\"Okay. So how about the insides?\",\"/oʊkˈeɪ sˌoʊ hˌaʊ bˈaʊt ðə ɪnsˈaɪdz?/\"]},\"from_name\":\"transcription\",\"to_name\":\"audio\",\"type\":\"textarea\",\"id\":\"17276e\"},{\"value\":{\"start\":158.09884507223938,\"end\":159.37846111348753,\"channel\":0,\"labels\":[\"Speech\"]},\"from_name\":\"labels\",\"to_name\":\"audio\",\"type\":\"labels\",\"id\":\"8777fa\"},{\"value\":{\"start\":158.09884507223938,\"end\":159.37846111348753,\"channel\":0,\"text\":[\"You have to check, okay.\",\"/juː hæv tə tʃˈɛk oʊkˈeɪ./\"]},\"from_name\":\"transcription\",\"to_name\":\"audio\",\"type\":\"textarea\",\"id\":\"8777fa\"},{\"value\":{\"start\":159.37846111348753,\"end\":159.89906535840595,\"channel\":0,\"labels\":[\"Breath\"]},\"from_name\":\"labels\",\"to_name\":\"audio\",\"type\":\"labels\",\"id\":\"8e59c7\"},{\"value\":{\"start\":159.37846111348753,\"end\":159.89906535840595,\"channel\":0,\"text\":[\"breath\"]},\"from_name\":\"transcription\",\"to_name\":\"audio\",\"type\":\"textarea\",\"id\":\"8e59c7\"},{\"value\":{\"start\":159.89906535840595,\"end\":163.30600785714623,\"channel\":0,\"labels\":[\"Speech\"]},\"from_name\":\"labels\",\"to_name\":\"audio\",\"type\":\"labels\",\"id\":\"e3ff49\"},{\"value\":{\"start\":159.89906535840595,\"end\":163.30600785714623,\"channel\":0,\"text\":[\"So I would like for you to do that. Before I come back, okay?\",\"/sˌoʊ aɪ wʊd lˈaɪk fɚ juː tə dˈuː ðæt. bɪfˌoːɹ aɪ kˈʌm bˈæk, oʊkˈeɪ?/\"]},\"from_name\":\"transcription\",\"to_name\":\"audio\",\"type\":\"textarea\",\"id\":\"e3ff49\"},{\"value\":{\"start\":164.990577433446,\"end\":165.48685437720002,\"channel\":0,\"labels\":[\"Speech\"]},\"from_name\":\"labels\",\"to_name\":\"audio\",\"type\":\"labels\",\"id\":\"902068\"},{\"value\":{\"start\":164.990577433446,\"end\":165.48685437720002,\"channel\":0,\"text\":[\"Yeah.\",\"/jˈæ./\"]},\"from_name\":\"transcription\",\"to_name\":\"audio\",\"type\":\"textarea\",\"id\":\"902068\"},{\"value\":{\"start\":166.55866172263703,\"end\":172.39974799808772,\"channel\":0,\"labels\":[\"Speech\"]},\"from_name\":\"labels\",\"to_name\":\"audio\",\"type\":\"labels\",\"id\":\"35d78f\"},{\"value\":{\"start\":166.55866172263703,\"end\":172.39974799808772,\"channel\":0,\"text\":[\"That's cool. And also, have you been using the fireplace at all? Have you been, have....\",\"/ðæts kˈuːl, æn ˈɑːsoʊ. hæv juː bˌɪn jˈuːzɪŋ ðə fˈaɪɹpleɪs æɾ ˈɔːl hæv juː bˌɪn hˈæv/\"]},\"from_name\":\"transcription\",\"to_name\":\"audio\",\"type\":\"textarea\",\"id\":\"35d78f\"},{\"value\":{\"start\":173.6069385206706,\"end\":174.35621939653453,\"channel\":0,\"labels\":[\"Speech\"]},\"from_name\":\"labels\",\"to_name\":\"audio\",\"type\":\"labels\",\"id\":\"9b7d1c\"},{\"value\":{\"start\":173.6069385206706,\"end\":174.35621939653453,\"channel\":0,\"text\":[\"No fires.\",\"/nˈoʊ fˈaɪɹz./\"]},\"from_name\":\"transcription\",\"to_name\":\"audio\",\"type\":\"textarea\",\"id\":\"9b7d1c\"},{\"value\":{\"start\":175.15700489346474,\"end\":175.42460520627327,\"channel\":0,\"labels\":[\"Speech\"]},\"from_name\":\"labels\",\"to_name\":\"audio\",\"type\":\"labels\",\"id\":\"cb248b\"},{\"value\":{\"start\":175.15700489346474,\"end\":175.42460520627327,\"channel\":0,\"text\":[\"Hmm.\",\"/hm./\"]},\"from_name\":\"transcription\",\"to_name\":\"audio\",\"type\":\"textarea\",\"id\":\"cb248b\"},{\"value\":{\"start\":176.50557195521523,\"end\":177.41139726790618,\"channel\":0,\"labels\":[\"Speech\"]},\"from_name\":\"labels\",\"to_name\":\"audio\",\"type\":\"labels\",\"id\":\"564778\"},{\"value\":{\"start\":176.50557195521523,\"end\":177.41139726790618,\"channel\":0,\"text\":[\"Quite nice.\",\"/kwˈaɪt nˈaɪs./\"]},\"from_name\":\"transcription\",\"to_name\":\"audio\",\"type\":\"textarea\",\"id\":\"564778\"},{\"value\":{\"start\":178.52072220100345,\"end\":179.71275995805968,\"channel\":0,\"labels\":[\"Speech\"]},\"from_name\":\"labels\",\"to_name\":\"audio\",\"type\":\"labels\",\"id\":\"2718b4\"},{\"value\":{\"start\":178.52072220100345,\"end\":179.71275995805968,\"channel\":0,\"text\":[\"On a rainy night.\",\"/ˌɑːn ɐ ɹˈeɪni nˈaɪt./\"]},\"from_name\":\"transcription\",\"to_name\":\"audio\",\"type\":\"textarea\",\"id\":\"2718b4\"},{\"value\":{\"start\":180.59909316555357,\"end\":185.47969103183013,\"channel\":0,\"labels\":[\"Cross-talk\"]},\"from_name\":\"labels\",\"to_name\":\"audio\",\"type\":\"labels\",\"id\":\"708697\"},{\"value\":{\"start\":180.59909316555357,\"end\":185.47969103183013,\"channel\":0,\"text\":[\"crosstalk\"]},\"from_name\":\"transcription\",\"to_name\":\"audio\",\"type\":\"textarea\",\"id\":\"708697\"},{\"value\":{\"start\":187.54606014020416,\"end\":189.32195312520633,\"channel\":0,\"labels\":[\"Speech\"]},\"from_name\":\"labels\",\"to_name\":\"audio\",\"type\":\"labels\",\"id\":\"f5270a\"},{\"value\":{\"start\":187.54606014020416,\"end\":189.32195312520633,\"channel\":0,\"text\":[\"What do you mean? You're going to take it with you?\",\"/wˌʌ dˈuː juː mˈiːn jʊɹ ɡən ə tˈeɪk ɪt wɪð ju?/\"]},\"from_name\":\"transcription\",\"to_name\":\"audio\",\"type\":\"textarea\",\"id\":\"f5270a\"},{\"value\":{\"start\":191.4200868213011,\"end\":192.44669893043937,\"channel\":0,\"labels\":[\"Cross-talk\"]},\"from_name\":\"labels\",\"to_name\":\"audio\",\"type\":\"labels\",\"id\":\"164a8a\"},{\"value\":{\"start\":191.4200868213011,\"end\":192.44669893043937,\"channel\":0,\"text\":[\"crosstalk\"]},\"from_name\":\"transcription\",\"to_name\":\"audio\",\"type\":\"textarea\",\"id\":\"164a8a\"},{\"value\":{\"start\":193.1327288232758,\"end\":193.96784316818383,\"channel\":0,\"labels\":[\"Speech\"]},\"from_name\":\"labels\",\"to_name\":\"audio\",\"type\":\"labels\",\"id\":\"c0f64b\"},{\"value\":{\"start\":193.1327288232758,\"end\":193.96784316818383,\"channel\":0,\"text\":[\"Okay.\",\"/oʊkˈeɪ./\"]},\"from_name\":\"transcription\",\"to_name\":\"audio\",\"type\":\"textarea\",\"id\":\"c0f64b\"},{\"value\":{\"start\":194.17219249796491,\"end\":194.707393123582,\"channel\":0,\"labels\":[\"Breath\"]},\"from_name\":\"labels\",\"to_name\":\"audio\",\"type\":\"labels\",\"id\":\"f2c77e\"},{\"value\":{\"start\":194.17219249796491,\"end\":194.707393123582,\"channel\":0,\"text\":[\"breath\"]},\"from_name\":\"transcription\",\"to_name\":\"audio\",\"type\":\"textarea\",\"id\":\"f2c77e\"},{\"value\":{\"start\":194.707393123582,\"end\":197.2640306815557,\"channel\":0,\"labels\":[\"Speech\"]},\"from_name\":\"labels\",\"to_name\":\"audio\",\"type\":\"labels\",\"id\":\"856ed1\"},{\"value\":{\"start\":194.707393123582,\"end\":197.2640306815557,\"channel\":0,\"text\":[\"Well, maybe you have to pay me a little bit then.\",\"/wˈɛl, mˈeɪbiː jə æv tə pˈeɪ mˌiː ɐ lˈɪɾəl bˈɪ ðˈɛn./\"]},\"from_name\":\"transcription\",\"to_name\":\"audio\",\"type\":\"textarea\",\"id\":\"856ed1\"},{\"value\":{\"start\":198.6712614585148,\"end\":200.88991132470932,\"channel\":0,\"labels\":[\"Cross-talk\"]},\"from_name\":\"labels\",\"to_name\":\"audio\",\"type\":\"labels\",\"id\":\"8c3309\"},{\"value\":{\"start\":198.6712614585148,\"end\":200.88991132470932,\"channel\":0,\"text\":[\"crosstalk\"]},\"from_name\":\"transcription\",\"to_name\":\"audio\",\"type\":\"textarea\",\"id\":\"8c3309\"},{\"value\":{\"start\":200.88991132470932,\"end\":202.49806232968484,\"channel\":0,\"labels\":[\"Speech\"]},\"from_name\":\"labels\",\"to_name\":\"audio\",\"type\":\"labels\",\"id\":\"77bc09\"},{\"value\":{\"start\":200.88991132470932,\"end\":202.49806232968484,\"channel\":0,\"text\":[\"Okay. You can have it for\",\"/oʊkˈeɪ jə kæn hˈæv ɪt fɔːɹ/\"]},\"from_name\":\"transcription\",\"to_name\":\"audio\",\"type\":\"textarea\",\"id\":\"77bc09\"},{\"value\":{\"start\":204.7490256023617,\"end\":205.92160151848643,\"channel\":0,\"labels\":[\"Speech\"]},\"from_name\":\"labels\",\"to_name\":\"audio\",\"type\":\"labels\",\"id\":\"f9eded\"},{\"value\":{\"start\":204.7490256023617,\"end\":205.92160151848643,\"channel\":0,\"text\":[\"hundred bucks.\",\"/hˈʌndɹəd bˈʌks./\"]},\"from_name\":\"transcription\",\"to_name\":\"audio\",\"type\":\"textarea\",\"id\":\"f9eded\"},{\"value\":{\"start\":206.7438642978436,\"end\":207.01633007088503,\"channel\":0,\"labels\":[\"Speech\"]},\"from_name\":\"labels\",\"to_name\":\"audio\",\"type\":\"labels\",\"id\":\"93a067\"},{\"value\":{\"start\":206.7438642978436,\"end\":207.01633007088503,\"channel\":0,\"text\":[\"Yeah.\",\"/jæ./\"]},\"from_name\":\"transcription\",\"to_name\":\"audio\",\"type\":\"textarea\",\"id\":\"93a067\"},{\"value\":{\"start\":209.97020568494008,\"end\":210.7778720835986,\"channel\":0,\"labels\":[\"Speech\"]},\"from_name\":\"labels\",\"to_name\":\"audio\",\"type\":\"labels\",\"id\":\"9b1b61\"},{\"value\":{\"start\":209.97020568494008,\"end\":210.7778720835986,\"channel\":0,\"text\":[\"Yeah. Cool.\",\"/jæ, kˈuːl./\"]},\"from_name\":\"transcription\",\"to_name\":\"audio\",\"type\":\"textarea\",\"id\":\"9b1b61\"},{\"value\":{\"start\":211.42436894727925,\"end\":212.63100308503414,\"channel\":0,\"labels\":[\"Breath\"]},\"from_name\":\"labels\",\"to_name\":\"audio\",\"type\":\"labels\",\"id\":\"06a13f\"},{\"value\":{\"start\":211.42436894727925,\"end\":212.63100308503414,\"channel\":0,\"text\":[\"breath\"]},\"from_name\":\"transcription\",\"to_name\":\"audio\",\"type\":\"textarea\",\"id\":\"06a13f\"},{\"value\":{\"start\":212.63100308503414,\"end\":216.0013231018872,\"channel\":0,\"labels\":[\"Speech\"]},\"from_name\":\"labels\",\"to_name\":\"audio\",\"type\":\"labels\",\"id\":\"691347\"},{\"value\":{\"start\":212.63100308503414,\"end\":216.0013231018872,\"channel\":0,\"text\":[\"Yeah. And all the lights are working. That's good.\",\"/jˈæ ən ˈɔːl ðə lˈaɪts ɑːɹ wˈɜːkɪŋ. ðæts ɡˈʊd./\"]},\"from_name\":\"transcription\",\"to_name\":\"audio\",\"type\":\"textarea\",\"id\":\"691347\"},{\"value\":{\"start\":216.41744391587284,\"end\":216.94291362102416,\"channel\":0,\"labels\":[\"Breath\"]},\"from_name\":\"labels\",\"to_name\":\"audio\",\"type\":\"labels\",\"id\":\"f448db\"},{\"value\":{\"start\":216.41744391587284,\"end\":216.94291362102416,\"channel\":0,\"text\":[\"breath\"]},\"from_name\":\"transcription\",\"to_name\":\"audio\",\"type\":\"textarea\",\"id\":\"f448db\"},{\"value\":{\"start\":216.94291362102416,\"end\":218.5631118785741,\"channel\":0,\"labels\":[\"Speech\"]},\"from_name\":\"labels\",\"to_name\":\"audio\",\"type\":\"labels\",\"id\":\"86d12c\"},{\"value\":{\"start\":216.94291362102416,\"end\":218.5631118785741,\"channel\":0,\"text\":[\"And how about the TV?\",\"/ˈæn hˌaʊ bˈaʊ ðə tˌiːvˈiː?/\"]},\"from_name\":\"transcription\",\"to_name\":\"audio\",\"type\":\"textarea\",\"id\":\"86d12c\"},{\"value\":{\"start\":219.20675872351737,\"end\":220.62260765128622,\"channel\":0,\"labels\":[\"Speech\"]},\"from_name\":\"labels\",\"to_name\":\"audio\",\"type\":\"labels\",\"id\":\"4f07a4\"},{\"value\":{\"start\":219.20675872351737,\"end\":220.62260765128622,\"channel\":0,\"text\":[\"Everything okay with the TV?\",\"/ˈɛvɹɪθˌɪŋ oʊkˈeɪ wɪ ðə tˌiːvˈiː?/\"]},\"from_name\":\"transcription\",\"to_name\":\"audio\",\"type\":\"textarea\",\"id\":\"4f07a4\"},{\"value\":{\"start\":220.62260765128622,\"end\":221.9368382989926,\"channel\":0,\"labels\":[\"Cross-talk\"]},\"from_name\":\"labels\",\"to_name\":\"audio\",\"type\":\"labels\",\"id\":\"1865c3\"},{\"value\":{\"start\":220.62260765128622,\"end\":221.9368382989926,\"channel\":0,\"text\":[\"crosstalk\"]},\"from_name\":\"transcription\",\"to_name\":\"audio\",\"type\":\"textarea\",\"id\":\"1865c3\"},{\"value\":{\"start\":221.9368382989926,\"end\":225.03239134282833,\"channel\":0,\"labels\":[\"Speech\"]},\"from_name\":\"labels\",\"to_name\":\"audio\",\"type\":\"labels\",\"id\":\"8c8f35\"},{\"value\":{\"start\":221.9368382989926,\"end\":225.03239134282833,\"channel\":0,\"text\":[\"Well, I'm just wondering, did it work well and did you take care of it?\",\"/w aɪm dʒˈʌs wˈʌndɚɹɪŋ dˈɪd ɪt wˈɜːk wˈɛl æn dˈɪ dʒuː tˈeɪ kˈɛɹ ʌv ɪt?/\"]},\"from_name\":\"transcription\",\"to_name\":\"audio\",\"type\":\"textarea\",\"id\":\"8c8f35\"},{\"value\":{\"start\":225.03239134282833,\"end\":229.97165292431345,\"channel\":0,\"labels\":[\"Cross-talk\"]},\"from_name\":\"labels\",\"to_name\":\"audio\",\"type\":\"labels\",\"id\":\"b35d78\"},{\"value\":{\"start\":225.03239134282833,\"end\":229.97165292431345,\"channel\":0,\"text\":[\"crosstalk\"]},\"from_name\":\"transcription\",\"to_name\":\"audio\",\"type\":\"textarea\",\"id\":\"b35d78\"},{\"value\":{\"start\":229.97165292431345,\"end\":231.35370669073336,\"channel\":0,\"labels\":[\"Speech\"]},\"from_name\":\"labels\",\"to_name\":\"audio\",\"type\":\"labels\",\"id\":\"36dc12\"},{\"value\":{\"start\":229.97165292431345,\"end\":231.35370669073336,\"channel\":0,\"text\":[\"You didn't watch the TV?\",\"/juː dˈɪɾn wˈɑːtʃ ðə tˌiːvˈiː?/\"]},\"from_name\":\"transcription\",\"to_name\":\"audio\",\"type\":\"textarea\",\"id\":\"36dc12\"},{\"value\":{\"start\":233.1573409465318,\"end\":233.80931261773807,\"channel\":0,\"labels\":[\"Speech\"]},\"from_name\":\"labels\",\"to_name\":\"audio\",\"type\":\"labels\",\"id\":\"484153\"},{\"value\":{\"start\":233.1573409465318,\"end\":233.80931261773807,\"channel\":0,\"text\":[\"Uh-huh.\",\"/ˈʌhʌ./\"]},\"from_name\":\"transcription\",\"to_name\":\"audio\",\"type\":\"textarea\",\"id\":\"484153\"},{\"value\":{\"start\":234.78897710936337,\"end\":235.2657922121859,\"channel\":0,\"labels\":[\"Speech\"]},\"from_name\":\"labels\",\"to_name\":\"audio\",\"type\":\"labels\",\"id\":\"17f31e\"},{\"value\":{\"start\":234.78897710936337,\"end\":235.2657922121859,\"channel\":0,\"text\":[\"Okay.\",\"/ˈoʊkeɪ./\"]},\"from_name\":\"transcription\",\"to_name\":\"audio\",\"type\":\"textarea\",\"id\":\"17f31e\"},{\"value\":{\"start\":236.99786579082658,\"end\":238.4575038606914,\"channel\":0,\"labels\":[\"Speech\"]},\"from_name\":\"labels\",\"to_name\":\"audio\",\"type\":\"labels\",\"id\":\"135b99\"},{\"value\":{\"start\":236.99786579082658,\"end\":238.4575038606914,\"channel\":0,\"text\":[\"Fair enough.\",\"/fˈɛɹ ˈiːnˈʌf./\"]},\"from_name\":\"transcription\",\"to_name\":\"audio\",\"type\":\"textarea\",\"id\":\"135b99\"},{\"value\":{\"start\":239.5204375611037,\"end\":240.07996548788523,\"channel\":0,\"labels\":[\"Breath\"]},\"from_name\":\"labels\",\"to_name\":\"audio\",\"type\":\"labels\",\"id\":\"d828d1\"},{\"value\":{\"start\":239.5204375611037,\"end\":240.07996548788523,\"channel\":0,\"text\":[\"breath\"]},\"from_name\":\"transcription\",\"to_name\":\"audio\",\"type\":\"textarea\",\"id\":\"d828d1\"},{\"value\":{\"start\":240.07996548788523,\"end\":241.92310250857386,\"channel\":0,\"labels\":[\"Speech\"]},\"from_name\":\"labels\",\"to_name\":\"audio\",\"type\":\"labels\",\"id\":\"42d286\"},{\"value\":{\"start\":240.07996548788523,\"end\":241.92310250857386,\"channel\":0,\"text\":[\"But this lamp is looking very...\",\"/bˌʌ ðɪs lˈæmp ɪz lˈʊkɪŋ vˈɛɹi/\"]},\"from_name\":\"transcription\",\"to_name\":\"audio\",\"type\":\"textarea\",\"id\":\"42d286\"},{\"value\":{\"start\":244.53096649519983,\"end\":245.2413236892007,\"channel\":0,\"labels\":[\"Speech\"]},\"from_name\":\"labels\",\"to_name\":\"audio\",\"type\":\"labels\",\"id\":\"4498d4\"},{\"value\":{\"start\":244.53096649519983,\"end\":245.2413236892007,\"channel\":0,\"text\":[\"I don't know.\",\"/ˈaɪ dˈʌ noʊ./\"]},\"from_name\":\"transcription\",\"to_name\":\"audio\",\"type\":\"textarea\",\"id\":\"4498d4\"},{\"value\":{\"start\":248.07814249918613,\"end\":249.19233289251628,\"channel\":0,\"labels\":[\"Speech\"]},\"from_name\":\"labels\",\"to_name\":\"audio\",\"type\":\"labels\",\"id\":\"199fae\"},{\"value\":{\"start\":248.07814249918613,\"end\":249.19233289251628,\"channel\":0,\"text\":[\"Animated.\",\"/ˈænɪmˌeɪɾᵻd./\"]},\"from_name\":\"transcription\",\"to_name\":\"audio\",\"type\":\"textarea\",\"id\":\"199fae\"},{\"value\":{\"start\":249.43530501354724,\"end\":252.7423740473728,\"channel\":0,\"labels\":[\"Speech\"]},\"from_name\":\"labels\",\"to_name\":\"audio\",\"type\":\"labels\",\"id\":\"92e46c\"},{\"value\":{\"start\":249.43530501354724,\"end\":252.7423740473728,\"channel\":0,\"text\":[\"It's like, it looks weird. Did you do something with it?\",\"/ɪts lˈaɪk, ɪt lˈʊks wˈɪɹd. dˈɪ dʒˈuː dˈuː sˈʌmθɪŋ wɪð ɪt?/\"]},\"from_name\":\"transcription\",\"to_name\":\"audio\",\"type\":\"textarea\",\"id\":\"92e46c\"},{\"value\":{\"start\":252.7423740473728,\"end\":257.7245599294463,\"channel\":0,\"labels\":[\"Cross-talk\"]},\"from_name\":\"labels\",\"to_name\":\"audio\",\"type\":\"labels\",\"id\":\"4a88a8\"},{\"value\":{\"start\":252.7423740473728,\"end\":257.7245599294463,\"channel\":0,\"text\":[\"crosstalk\"]},\"from_name\":\"transcription\",\"to_name\":\"audio\",\"type\":\"textarea\",\"id\":\"4a88a8\"},{\"value\":{\"start\":257.7245599294463,\"end\":258.14183134341994,\"channel\":0,\"labels\":[\"Speech\"]},\"from_name\":\"labels\",\"to_name\":\"audio\",\"type\":\"labels\",\"id\":\"e4cfce\"},{\"value\":{\"start\":257.7245599294463,\"end\":258.14183134341994,\"channel\":0,\"text\":[\"Yeah.\",\"/jˈæ./\"]},\"from_name\":\"transcription\",\"to_name\":\"audio\",\"type\":\"textarea\",\"id\":\"e4cfce\"},{\"value\":{\"start\":258.14183134341994,\"end\":262.3941981905611,\"channel\":0,\"labels\":[\"Cross-talk\"]},\"from_name\":\"labels\",\"to_name\":\"audio\",\"type\":\"labels\",\"id\":\"c7db60\"},{\"value\":{\"start\":258.14183134341994,\"end\":262.3941981905611,\"channel\":0,\"text\":[\"crosstalk\"]},\"from_name\":\"transcription\",\"to_name\":\"audio\",\"type\":\"textarea\",\"id\":\"c7db60\"},{\"value\":{\"start\":262.3941981905611,\"end\":264.54328768896056,\"channel\":0,\"labels\":[\"Speech\"]},\"from_name\":\"labels\",\"to_name\":\"audio\",\"type\":\"labels\",\"id\":\"4ec2b7\"},{\"value\":{\"start\":262.3941981905611,\"end\":264.54328768896056,\"channel\":0,\"text\":[\"I don't even remember what it was before.\",\"/aɪ dˈoʊn ˈiːvən ɹɪmˈɛmbɚ wˌʌɾ ɪɾ wʌz bɪfˈoːɹ./\"]},\"from_name\":\"transcription\",\"to_name\":\"audio\",\"type\":\"textarea\",\"id\":\"4ec2b7\"},{\"value\":{\"start\":265.3643923022634,\"end\":265.8509383255517,\"channel\":0,\"labels\":[\"Speech\"]},\"from_name\":\"labels\",\"to_name\":\"audio\",\"type\":\"labels\",\"id\":\"2c6746\"},{\"value\":{\"start\":265.3643923022634,\"end\":265.8509383255517,\"channel\":0,\"text\":[\"Do you?\",\"/dˈuː juː?/\"]},\"from_name\":\"transcription\",\"to_name\":\"audio\",\"type\":\"textarea\",\"id\":\"2c6746\"},{\"value\":{\"start\":265.8509383255517,\"end\":268.9688107951228,\"channel\":0,\"labels\":[\"Cross-talk\"]},\"from_name\":\"labels\",\"to_name\":\"audio\",\"type\":\"labels\",\"id\":\"e7c672\"},{\"value\":{\"start\":265.8509383255517,\"end\":268.9688107951228,\"channel\":0,\"text\":[\"crosstalk\"]},\"from_name\":\"transcription\",\"to_name\":\"audio\",\"type\":\"textarea\",\"id\":\"e7c672\"},{\"value\":{\"start\":268.9688107951228,\"end\":269.2558729488629,\"channel\":0,\"labels\":[\"Speech\"]},\"from_name\":\"labels\",\"to_name\":\"audio\",\"type\":\"labels\",\"id\":\"6dd58f\"},{\"value\":{\"start\":268.9688107951228,\"end\":269.2558729488629,\"channel\":0,\"text\":[\"Yeah.\",\"/jˈæ./\"]},\"from_name\":\"transcription\",\"to_name\":\"audio\",\"type\":\"textarea\",\"id\":\"6dd58f\"},{\"value\":{\"start\":269.2558729488629,\"end\":272.61243872832557,\"channel\":0,\"labels\":[\"Cross-talk\"]},\"from_name\":\"labels\",\"to_name\":\"audio\",\"type\":\"labels\",\"id\":\"4c762d\"},{\"value\":{\"start\":269.2558729488629,\"end\":272.61243872832557,\"channel\":0,\"text\":[\"crosstalk\"]},\"from_name\":\"transcription\",\"to_name\":\"audio\",\"type\":\"textarea\",\"id\":\"4c762d\"},{\"value\":{\"start\":272.61243872832557,\"end\":273.5732053299138,\"channel\":0,\"labels\":[\"Speech\"]},\"from_name\":\"labels\",\"to_name\":\"audio\",\"type\":\"labels\",\"id\":\"b1dc2a\"},{\"value\":{\"start\":272.61243872832557,\"end\":273.5732053299138,\"channel\":0,\"text\":[\"No, it's fine.\",\"/nˈoʊ ɪts fˈaɪn./\"]},\"from_name\":\"transcription\",\"to_name\":\"audio\",\"type\":\"textarea\",\"id\":\"b1dc2a\"},{\"value\":{\"start\":274.7460594384525,\"end\":276.59979978718076,\"channel\":0,\"labels\":[\"Speech\"]},\"from_name\":\"labels\",\"to_name\":\"audio\",\"type\":\"labels\",\"id\":\"3a2692\"},{\"value\":{\"start\":274.7460594384525,\"end\":276.59979978718076,\"channel\":0,\"text\":[\"It's just new. To me.\",\"/s dʒˈʌs nˈuː. tə mˌiː./\"]},\"from_name\":\"transcription\",\"to_name\":\"audio\",\"type\":\"textarea\",\"id\":\"3a2692\"},{\"value\":{\"start\":279.9918450146092,\"end\":283.05191104441286,\"channel\":0,\"labels\":[\"Speech\"]},\"from_name\":\"labels\",\"to_name\":\"audio\",\"type\":\"labels\",\"id\":\"9cc43b\"},{\"value\":{\"start\":279.9918450146092,\"end\":283.05191104441286,\"channel\":0,\"text\":[\"Oh, and I see you took care of my plant. Thank you.\",\"/ˈoʊ æn aɪ sˈiː juː tˈʊk kˈɛɹ ʌv maɪ plˈænt. θˈæŋk ju./\"]},\"from_name\":\"transcription\",\"to_name\":\"audio\",\"type\":\"textarea\",\"id\":\"9cc43b\"},{\"value\":{\"start\":283.05191104441286,\"end\":286.2006832601972,\"channel\":0,\"labels\":[\"Cross-talk\"]},\"from_name\":\"labels\",\"to_name\":\"audio\",\"type\":\"labels\",\"id\":\"cee9b8\"},{\"value\":{\"start\":283.05191104441286,\"end\":286.2006832601972,\"channel\":0,\"text\":[\"crosstalk\"]},\"from_name\":\"transcription\",\"to_name\":\"audio\",\"type\":\"textarea\",\"id\":\"cee9b8\"},{\"value\":{\"start\":286.2006832601972,\"end\":286.72615296534855,\"channel\":0,\"labels\":[\"Speech\"]},\"from_name\":\"labels\",\"to_name\":\"audio\",\"type\":\"labels\",\"id\":\"a53f6f\"},{\"value\":{\"start\":286.2006832601972,\"end\":286.72615296534855,\"channel\":0,\"text\":[\"Yeah.\",\"/jˈæ./\"]},\"from_name\":\"transcription\",\"to_name\":\"audio\",\"type\":\"textarea\",\"id\":\"a53f6f\"},{\"value\":{\"start\":287.515,\"end\":288.0023096405666,\"channel\":0,\"labels\":[\"Speech\"]},\"from_name\":\"labels\",\"to_name\":\"audio\",\"type\":\"labels\",\"id\":\"932f0d\"},{\"value\":{\"start\":287.515,\"end\":288.0023096405666,\"channel\":0,\"text\":[\"Good.\",\"/ɡˈʊd./\"]},\"from_name\":\"transcription\",\"to_name\":\"audio\",\"type\":\"textarea\",\"id\":\"932f0d\"},{\"value\":{\"start\":288.0752915440598,\"end\":290.6908937078553,\"channel\":0,\"labels\":[\"Speech\"]},\"from_name\":\"labels\",\"to_name\":\"audio\",\"type\":\"labels\",\"id\":\"09d707\"},{\"value\":{\"start\":288.0752915440598,\"end\":290.6908937078553,\"channel\":0,\"text\":[\"Because I would be quite upset if it had died.\",\"/kɐs aɪ wʊ biː, kwˈaɪt ʌpsˈɛɾ ɪf ɪt hɐ dˈaɪd./\"]},\"from_name\":\"transcription\",\"to_name\":\"audio\",\"type\":\"textarea\",\"id\":\"09d707\"},{\"value\":{\"start\":294.0148224920233,\"end\":298.8313120998313,\"channel\":0,\"labels\":[\"Speech\"]},\"from_name\":\"labels\",\"to_name\":\"audio\",\"type\":\"labels\",\"id\":\"9696a3\"},{\"value\":{\"start\":294.0148224920233,\"end\":298.8313120998313,\"channel\":0,\"text\":[\"Well, I think everything looks good. I mean, go find the, the black vase, please.\",\"/wˈɛl aɪ θˈɪŋk ˈɛvɹɪθˌɪŋ lˈʊks ɡˈʊd aɪ mˈiːn ɡˌoʊ fˈaɪn ðə, ðə blˈæk vˈɑːs plˈiːz./\"]},\"from_name\":\"transcription\",\"to_name\":\"audio\",\"type\":\"textarea\",\"id\":\"9696a3\"},{\"value\":{\"start\":298.8313120998313,\"end\":299.2611720190745,\"channel\":0,\"labels\":[\"Breath\"]},\"from_name\":\"labels\",\"to_name\":\"audio\",\"type\":\"labels\",\"id\":\"5780fa\"},{\"value\":{\"start\":298.8313120998313,\"end\":299.2611720190745,\"channel\":0,\"text\":[\"breath\"]},\"from_name\":\"transcription\",\"to_name\":\"audio\",\"type\":\"textarea\",\"id\":\"5780fa\"},{\"value\":{\"start\":299.2611720190745,\"end\":301.37648905432417,\"channel\":0,\"labels\":[\"Speech\"]},\"from_name\":\"labels\",\"to_name\":\"audio\",\"type\":\"labels\",\"id\":\"ac6946\"},{\"value\":{\"start\":299.2611720190745,\"end\":301.37648905432417,\"channel\":0,\"text\":[\"And then you can take the yellow painting with you.\",\"/ən ðˈɛ juː kæn tˈeɪk ðə jˈɛloʊ pˈeɪntɪŋ wɪð juː./\"]},\"from_name\":\"transcription\",\"to_name\":\"audio\",\"type\":\"textarea\",\"id\":\"ac6946\"},{\"value\":{\"start\":302.243,\"end\":302.483,\"channel\":0,\"labels\":[\"Speech\"]},\"from_name\":\"labels\",\"to_name\":\"audio\",\"type\":\"labels\",\"id\":\"eb9a7d\"},{\"value\":{\"start\":302.243,\"end\":302.483,\"channel\":0,\"text\":[\"Yeah?\",\"/jˈæ./\"]},\"from_name\":\"transcription\",\"to_name\":\"audio\",\"type\":\"textarea\",\"id\":\"eb9a7d\"},{\"value\":{\"start\":302.483,\"end\":303.403,\"channel\":0,\"labels\":[\"Cross-talk\"]},\"from_name\":\"labels\",\"to_name\":\"audio\",\"type\":\"labels\",\"id\":\"10a575\"},{\"value\":{\"start\":302.483,\"end\":303.403,\"channel\":0,\"text\":[\"crosstalk\"]},\"from_name\":\"transcription\",\"to_name\":\"audio\",\"type\":\"textarea\",\"id\":\"10a575\"},{\"value\":{\"start\":303.403,\"end\":303.70694435384155,\"channel\":0,\"labels\":[\"Speech\"]},\"from_name\":\"labels\",\"to_name\":\"audio\",\"type\":\"labels\",\"id\":\"c664ba\"},{\"value\":{\"start\":303.403,\"end\":303.70694435384155,\"channel\":0,\"text\":[\"Cool.\",\"/kˈuː./\"]},\"from_name\":\"transcription\",\"to_name\":\"audio\",\"type\":\"textarea\",\"id\":\"c664ba\"},{\"value\":{\"start\":304.1886249168969,\"end\":304.564,\"channel\":0,\"labels\":[\"Speech\"]},\"from_name\":\"labels\",\"to_name\":\"audio\",\"type\":\"labels\",\"id\":\"6ebd77\"},{\"value\":{\"start\":304.1886249168969,\"end\":304.564,\"channel\":0,\"text\":[\"Thank you.\",\"/θˈæŋk juː./\"]},\"from_name\":\"transcription\",\"to_name\":\"audio\",\"type\":\"textarea\",\"id\":\"6ebd77\"}],\"created_username\":\"Jim O'Regan jaoregan@tcd.ie, 1\",\"created_ago\":\"0 minutes\",\"completed_by\":1,\"was_cancelled\":false,\"ground_truth\":false,\"created_at\":\"2024-10-10T09:03:50.837404Z\",\"updated_at\":\"2024-10-10T09:04:24.923494Z\",\"draft_created_at\":null,\"lead_time\":298.3740000000001,\"import_id\":null,\"last_action\":null,\"task\":72,\"project\":5,\"updated_by\":1,\"parent_prediction\":null,\"parent_annotation\":null,\"last_created_by\":null}\n"
     ]
    }
   ],
   "source": [
    "r = post_results(270, 72, 5, data)\n",
    "print(r.text)"
   ]
  }
 ],
 "metadata": {
  "kernelspec": {
   "display_name": "nst-tts",
   "language": "python",
   "name": "python3"
  },
  "language_info": {
   "codemirror_mode": {
    "name": "ipython",
    "version": 3
   },
   "file_extension": ".py",
   "mimetype": "text/x-python",
   "name": "python",
   "nbconvert_exporter": "python",
   "pygments_lexer": "ipython3",
   "version": "3.10.9"
  }
 },
 "nbformat": 4,
 "nbformat_minor": 2
}
