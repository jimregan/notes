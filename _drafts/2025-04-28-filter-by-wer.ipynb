{
 "cells": [
  {
   "cell_type": "markdown",
   "metadata": {},
   "source": [
    "# Filter by WER\n",
    "\n",
    "> \"Also, find determiner location\"\n",
    "\n",
    "- branch: master\n",
    "- hidden: true\n",
    "- categories: [hsi, wer, groundinggpt]"
   ]
  },
  {
   "cell_type": "code",
   "execution_count": 21,
   "metadata": {},
   "outputs": [],
   "source": [
    "PATHS = (\n",
    "    (\"/tmp/numered_all.json\", \"/tmp/gpt4o-generated-speech\"),\n",
    "    (\"/tmp/ggpt_numbered.json\", \"/tmp/groundinggpt-generated-speech\"),\n",
    "    (\"/tmp/ggpt_numbered2.json\", \"/tmp/groundinggpt-generated-speech2\")\n",
    ")"
   ]
  },
  {
   "cell_type": "code",
   "execution_count": 1,
   "metadata": {},
   "outputs": [],
   "source": [
    "import json\n",
    "\n",
    "with open(\"/tmp/numered_all.json\") as inf:\n",
    "    data = json.load(inf)"
   ]
  },
  {
   "cell_type": "code",
   "execution_count": 9,
   "metadata": {},
   "outputs": [],
   "source": [
    "from string import punctuation\n",
    "\n",
    "punct = set(punctuation)"
   ]
  },
  {
   "cell_type": "code",
   "execution_count": null,
   "metadata": {},
   "outputs": [],
   "source": [
    "def gather_phrase(text):\n",
    "    words = text.split(\" \")\n",
    "    phrase = []\n",
    "    inphrase = False\n",
    "    start = 0\n",
    "    for idx, word in enumerate(words):\n",
    "        if inphrase:\n",
    "            if word.endswith(\"*\") or (word[-1] in punct and word[-2] == \"*\"):\n",
    "                word = word.replace(\"*\", \"\")\n",
    "                phrase.append(word)\n",
    "                inphrase = False\n",
    "            else:\n",
    "                phrase.append(word)\n",
    "        else:\n",
    "            if word.startswith(\"*\"):\n",
    "                if word.endswith(\"*\") or (word[-1] in punct and word[-2] == \"*\"):\n",
    "                    return idx, word.replace(\"*\", \"\")\n",
    "                else:\n",
    "                    phrase.append(word.strip(\"*\"))\n",
    "                    start = idx\n",
    "                inphrase = True\n",
    "            else:\n",
    "                continue\n",
    "    return start, (\" \".join(phrase)).strip(\"*\")"
   ]
  },
  {
   "cell_type": "code",
   "execution_count": null,
   "metadata": {},
   "outputs": [],
   "source": [
    "def index_of_determiner(phrase):\n",
    "    dp = gather_phrase(phrase)\n",
    "    words = phrase.split(\" \")\n",
    "    for i, word in enumerate(words):\n",
    "        if word in [\"this\", \"that\", \"these\", \"those\"]:\n",
    "            return i\n",
    "    return -1"
   ]
  },
  {
   "cell_type": "code",
   "execution_count": null,
   "metadata": {},
   "outputs": [],
   "source": [
    "def clean_text(text):\n",
    "    text = text.replace(\"’\", \"'\")\n",
    "    text = text.replace(\"—\", \" \")\n",
    "    words = text.split(\" \")\n",
    "    cleaned = [w.lower().strip(punctuation) for w in words]\n",
    "    return \" \".join(cleaned)"
   ]
  },
  {
   "cell_type": "code",
   "execution_count": null,
   "metadata": {},
   "outputs": [],
   "source": [
    "!pip install jiwer"
   ]
  },
  {
   "cell_type": "code",
   "execution_count": 24,
   "metadata": {},
   "outputs": [],
   "source": [
    "from jiwer import wer"
   ]
  },
  {
   "cell_type": "code",
   "execution_count": 22,
   "metadata": {},
   "outputs": [],
   "source": [
    "def prune_fillers(text):\n",
    "    FILLERS = [\"uh\", \"um\"]\n",
    "    words = [x for x in text.split(\" \") if x not in FILLERS]\n",
    "    return \" \".join(words)"
   ]
  },
  {
   "cell_type": "code",
   "execution_count": null,
   "metadata": {},
   "outputs": [],
   "source": [
    "FIXES = {\n",
    "    \"hsi_4_0717_222_002__0__8\": (\"racket\", \"racquet\")\n",
    "}"
   ]
  },
  {
   "cell_type": "code",
   "execution_count": 49,
   "metadata": {},
   "outputs": [],
   "source": [
    "def read_tsv(tsvfile):\n",
    "    tsvdata = []\n",
    "    with open(tsvfile) as inf:\n",
    "        for line in inf:\n",
    "            line = line.strip()\n",
    "            if not line:\n",
    "                continue\n",
    "            tsvdata.append(line.split(\"\\t\"))\n",
    "    return tsvdata"
   ]
  },
  {
   "cell_type": "code",
   "execution_count": 77,
   "metadata": {},
   "outputs": [],
   "source": [
    "def get_phrase_in_tsv(tsvdata, phrase):\n",
    "    phrase_parts = clean_text(phrase).split(\" \")\n",
    "    tsvwords = [clean_text(x[2]) for x in tsvdata]\n",
    "    for i in range(len(tsvwords) - len(phrase_parts) + 1):\n",
    "        if tsvwords[i:i + len(phrase_parts)] == phrase_parts:\n",
    "            return i\n",
    "    return -1"
   ]
  },
  {
   "cell_type": "code",
   "execution_count": 140,
   "metadata": {},
   "outputs": [],
   "source": [
    "from pathlib import Path\n",
    "try:\n",
    "    import librosa\n",
    "    LIBROSA_AVAILABLE = True\n",
    "except ImportError:\n",
    "    LIBROSA_AVAILABLE = False\n",
    "\n",
    "def process_data(data, tsvpath, gatherable_phrase = True, THRESHOLD = 0.3):\n",
    "    discard_ids = []\n",
    "    collected_data = []\n",
    "\n",
    "    for item in data:\n",
    "        person = item[\"person\"]\n",
    "        fileid = item[\"id\"]\n",
    "        text = item[\"snippet\"]\n",
    "\n",
    "        tsvfile = Path(tsvpath) / f\"{fileid}.tsv\"\n",
    "        tsvdata = read_tsv(tsvfile)\n",
    "        \n",
    "        tsvwords = [x[2] for x in tsvdata]\n",
    "        tsvtext = \" \".join(tsvwords)\n",
    "\n",
    "        cleaned_text = clean_text(text.strip())\n",
    "        cleaned_tsv = clean_text(tsvtext)\n",
    "\n",
    "        if gatherable_phrase:\n",
    "            phrase = gather_phrase(text)\n",
    "            phrase_parts = phrase.split(\" \")\n",
    "            if phrase_parts[0] in [\"a\", \"the\"]:\n",
    "                discard_ids.append(fileid)\n",
    "                continue\n",
    "\n",
    "        if cleaned_text != cleaned_tsv:\n",
    "            if cleaned_tsv.replace(\"-\", \" \") == cleaned_text:\n",
    "                cleaned_tsv = cleaned_tsv.replace(\"-\", \" \")\n",
    "\n",
    "        current = {\n",
    "            \"person\": person,\n",
    "            \"fileid\": fileid,\n",
    "            \"text\": text,\n",
    "            \"tsv_text\": tsvtext,\n",
    "            \"room\": item[\"room\"],\n",
    "            \"topic\": item[\"topic\"],\n",
    "            \"filename\": item[\"filename\"],\n",
    "        }\n",
    "\n",
    "        if LIBROSA_AVAILABLE:\n",
    "            wavfile = Path(tsvpath) / f\"{fileid}.wav\"\n",
    "            if wavfile.exists():\n",
    "                y, sr = librosa.load(wavfile, sr=None)\n",
    "                current[\"duration\"] = librosa.get_duration(y=y, sr=sr)\n",
    "            else:\n",
    "                print(\"Wav file not found\", wavfile)\n",
    "\n",
    "        if gatherable_phrase:\n",
    "            phrase_index = get_phrase_in_tsv(tsvdata, phrase)\n",
    "            if phrase_index == -1 and not \"determiner_index\" in current:\n",
    "                discard_ids.append(fileid)\n",
    "                current[\"discarded\"] = True\n",
    "                current[\"disard_reason\"] = \"Phrase not in tsv\"\n",
    "                continue\n",
    "            else:\n",
    "                current[\"determiner_index\"] = phrase_index\n",
    "                current[\"determiner_start\"] = tsvdata[phrase_index][0]\n",
    "                current[\"determiner_end\"] = tsvdata[phrase_index][1]\n",
    "                current[\"determiner_duration\"] = float(tsvdata[phrase_index][1]) - float(tsvdata[phrase_index][0])\n",
    "        else:\n",
    "            for idx, word in enumerate(tsvwords):\n",
    "                word = clean_text(word)\n",
    "                if word in ['this','that','one','those','these','there','here']:\n",
    "                    current[\"determiner_index\"] = idx\n",
    "                    current[\"determiner_start\"] = tsvdata[idx][0]\n",
    "                    current[\"determiner_end\"] = tsvdata[idx][1]\n",
    "                    current[\"determiner_duration\"] = float(tsvdata[idx][1]) - float(tsvdata[idx][0])\n",
    "                    break\n",
    "\n",
    "        if cleaned_text != cleaned_tsv:\n",
    "            if gatherable_phrase:\n",
    "                if not phrase in cleaned_tsv and not \"determiner_index\" in current:\n",
    "                    discard_ids.append(fileid)\n",
    "                    current[\"discarded\"] = True\n",
    "                    current[\"disard_reason\"] = \"Phrase not in tsv\"\n",
    "            cur_wer = wer(cleaned_text, cleaned_tsv)\n",
    "            current[\"wer\"] = cur_wer\n",
    "            if cur_wer > THRESHOLD:\n",
    "                discard_ids.append(fileid)\n",
    "                current[\"discarded\"] = True\n",
    "                current[\"discard_reason\"] = \"wer\"\n",
    "        else:\n",
    "            current[\"wer\"] = 0.0\n",
    "        collected_data.append(current)\n",
    "\n",
    "    return collected_data, discard_ids\n"
   ]
  },
  {
   "cell_type": "code",
   "execution_count": 131,
   "metadata": {},
   "outputs": [],
   "source": [
    "a, b = process_data(data, \"/tmp/gpt4o-generated-speech\")"
   ]
  },
  {
   "cell_type": "code",
   "execution_count": 132,
   "metadata": {},
   "outputs": [],
   "source": [
    "import json\n",
    "\n",
    "with open(\"/tmp/procced.json\", \"w\") as outf:\n",
    "    json.dump(a, outf, indent=4)"
   ]
  },
  {
   "cell_type": "code",
   "execution_count": 134,
   "metadata": {},
   "outputs": [],
   "source": [
    "with open(\"/tmp/discarded.txt\", \"w\") as outf:\n",
    "    outf.write(\"\\n\".join(set(b)))\n"
   ]
  },
  {
   "cell_type": "code",
   "execution_count": 146,
   "metadata": {},
   "outputs": [],
   "source": [
    "#(\"/tmp/ggpt_numbered.json\", \"/tmp/groundinggpt-generated-speech\"),\n",
    "\n",
    "with open(\"/tmp/ggpt_numbered.json\") as inf:\n",
    "    data = json.load(inf)\n",
    "\n",
    "a, b = process_data(data, \"/tmp/groundinggpt-generated-speech\", gatherable_phrase=False)"
   ]
  },
  {
   "cell_type": "code",
   "execution_count": 147,
   "metadata": {},
   "outputs": [],
   "source": [
    "import json\n",
    "\n",
    "with open(\"/tmp/procced2.json\", \"w\") as outf:\n",
    "    json.dump(a, outf, indent=4)"
   ]
  },
  {
   "cell_type": "code",
   "execution_count": 148,
   "metadata": {},
   "outputs": [],
   "source": [
    "with open(\"/tmp/discarded2.txt\", \"w\") as outf:\n",
    "    outf.write(\"\\n\".join(set(b)))\n"
   ]
  },
  {
   "cell_type": "code",
   "execution_count": 151,
   "metadata": {},
   "outputs": [],
   "source": [
    "for item in a:\n",
    "    if \"determiner_start\" in item:\n",
    "        if float(item[\"determiner_start\"]) > 5.0:\n",
    "            item[\"discarded\"] = True\n",
    "            item[\"discard_reason\"] = \"start too late\"\n",
    "    else:\n",
    "        if not \"discarded\" in item:\n",
    "            item[\"discarded\"] = True\n",
    "            item[\"discard_reason\"] = \"no determiner start\""
   ]
  },
  {
   "cell_type": "code",
   "execution_count": 152,
   "metadata": {},
   "outputs": [],
   "source": [
    "import json\n",
    "\n",
    "with open(\"/tmp/procced2.1.json\", \"w\") as outf:\n",
    "    json.dump(a, outf, indent=4)"
   ]
  },
  {
   "cell_type": "code",
   "execution_count": 204,
   "metadata": {},
   "outputs": [],
   "source": [
    "with open(\"/tmp/procced2.1.json\") as inf:\n",
    "    a = json.load(inf)"
   ]
  },
  {
   "cell_type": "code",
   "execution_count": 207,
   "metadata": {},
   "outputs": [],
   "source": [
    "filtered1 = [x for x in a if not \"discarded\" in x]"
   ]
  },
  {
   "cell_type": "code",
   "execution_count": 206,
   "metadata": {},
   "outputs": [],
   "source": [
    "already_done = []\n",
    "with open(\"/tmp/assignment_short.csv\") as tsvf:\n",
    "    for line in tsvf:\n",
    "        line = line.strip()\n",
    "        if line.startswith(\"syntitem\"):\n",
    "            continue\n",
    "        if not line:\n",
    "            continue\n",
    "        already_done.append(line.split(\",\")[0])"
   ]
  },
  {
   "cell_type": "code",
   "execution_count": 212,
   "metadata": {},
   "outputs": [],
   "source": [
    "filtered = [x for x in filtered1 if not x[\"fileid\"] in already_done]"
   ]
  },
  {
   "cell_type": "code",
   "execution_count": 213,
   "metadata": {},
   "outputs": [
    {
     "data": {
      "text/plain": [
       "(839, 1412, 573)"
      ]
     },
     "execution_count": 213,
     "metadata": {},
     "output_type": "execute_result"
    }
   ],
   "source": [
    "len(filtered), len(filtered1), len(already_done)"
   ]
  },
  {
   "cell_type": "code",
   "execution_count": 214,
   "metadata": {},
   "outputs": [],
   "source": [
    "import numpy as np\n",
    "\n",
    "L = np.load('bvh_pt_lengths.npy',allow_pickle=True)\n",
    "framerate = 120\n",
    "point_length = {}\n",
    "for thing in L:\n",
    "    item = list(thing.keys())[0].split('/')[-1]\n",
    "    item = item.replace('.bvh','')\n",
    "    point_length[item] = list(thing.values())[0]/framerate"
   ]
  },
  {
   "cell_type": "code",
   "execution_count": 215,
   "metadata": {},
   "outputs": [],
   "source": [
    "synth_length = {}\n",
    "for item in filtered:\n",
    "    synth_length[item[\"fileid\"]] = item[\"duration\"]"
   ]
  },
  {
   "cell_type": "code",
   "execution_count": 216,
   "metadata": {},
   "outputs": [],
   "source": [
    "# get Anna's names from my list\n",
    "synth_pre = {}\n",
    "synth_post = {}\n",
    "synth_data = {}\n",
    "synth_times = []\n",
    "\n",
    "for item in filtered:\n",
    "    fileid = item[\"fileid\"]\n",
    "    dem_start = float(item[\"determiner_start\"])\n",
    "    dem_end = float(item[\"determiner_end\"])\n",
    "    duration = float(item[\"duration\"])\n",
    "\n",
    "    synth_pre[fileid] = dem_start\n",
    "    synth_post[fileid] = dem_end - dem_start\n",
    "    synth_data[fileid] = (dem_start, duration)\n",
    "    synth_times.append((duration, dem_start))"
   ]
  },
  {
   "cell_type": "code",
   "execution_count": 217,
   "metadata": {},
   "outputs": [
    {
     "name": "stdout",
     "output_type": "stream",
     "text": [
      "1147\n"
     ]
    }
   ],
   "source": [
    "import pandas as pd\n",
    "from glob import glob\n",
    "\n",
    "def find_demonstrative_index(expression, demonstratives):\n",
    "    words = expression.split(' ')\n",
    "    # Iterate over each word to find if it matches any of the demonstratives\n",
    "    for i, word in enumerate(words):\n",
    "        if word in demonstratives:\n",
    "            return i  # Return the index of the first matching demonstrative\n",
    "    return -1  # Return -1 if no demonstratives are found\n",
    "demonstratives = ['this','that','one','those','these','there','here']\n",
    "\n",
    "files = glob('/tmp/tsv_pt_segments/*.tsv')\n",
    "print(len(files))\n",
    "words_to_exclude = ['left', 'right', 'middle', 'back']\n",
    "files = [f for f in files if not any(word in f for word in words_to_exclude)]\n",
    "pt_times = []\n",
    "pt_names = []\n",
    "pt_pre = {}\n",
    "pt_post = {}\n",
    "pt_data = {}\n",
    "for fn in files:\n",
    "    temp_list = []\n",
    "    item = fn.split('/')[-1].split('.tsv')[0]\n",
    "    with open(fn) as f:\n",
    "        with open(fn) as f:\n",
    "            for line in f:\n",
    "                t0, t1, wrd = line.strip().split('\\t')\n",
    "                t0, t1 = float(t0), float(t1)\n",
    "                temp_list.append([t0, t1, wrd])\n",
    "        df = pd.DataFrame(temp_list, columns=['t0','t1','wrd'])\n",
    "        expr = ' '.join(df['wrd'])\n",
    "        index  = find_demonstrative_index(expr, demonstratives)\n",
    "        dem_time = df['t0'].iloc[index]\n",
    "        total_time = point_length[item]\n",
    "        pt_times.append((total_time, dem_time))\n",
    "        pt_names.append(item)\n",
    "        pt_pre[item] = dem_time\n",
    "        pt_post[item] = point_length[item] - pt_pre[item]\n",
    "        pt_data[item] = (dem_time,total_time)\n"
   ]
  },
  {
   "cell_type": "code",
   "execution_count": null,
   "metadata": {},
   "outputs": [],
   "source": [
    "pt_data"
   ]
  },
  {
   "cell_type": "code",
   "execution_count": 219,
   "metadata": {},
   "outputs": [
    {
     "name": "stdout",
     "output_type": "stream",
     "text": [
      "Saved histogram to ./histogram_len.pdf\n"
     ]
    },
    {
     "data": {
      "image/png": "[encoded data removed]",
      "text/plain": [
       "<Figure size 800x600 with 1 Axes>"
      ]
     },
     "metadata": {},
     "output_type": "display_data"
    }
   ],
   "source": [
    "import matplotlib.pyplot as plt\n",
    "import pandas as pd\n",
    "import numpy as np\n",
    "\n",
    "def plot_histogram(df1, df2, title, save_path):\n",
    "    \"\"\"\n",
    "    Histogram with bigger text sizes for better readability.\n",
    "    \"\"\"\n",
    "    plt.figure(figsize=(8, 6))\n",
    "\n",
    "    # Merge lengths for consistent bins\n",
    "    all_lengths = np.concatenate([df1['Length'].values, df2['Length'].values])\n",
    "    bins = np.histogram_bin_edges(all_lengths, bins='auto')\n",
    "\n",
    "    # Plot\n",
    "    plt.hist(df1['Length'], bins=bins, alpha=0.6, label=df1['Label'].iloc[0], color='royalblue', edgecolor='black', linewidth=0.7)\n",
    "    plt.hist(df2['Length'], bins=bins, alpha=0.6, label=df2['Label'].iloc[0], color='tomato', edgecolor='black', linewidth=0.7)\n",
    "\n",
    "    # Bigger font sizes!\n",
    "    plt.xlabel('Length (seconds)', fontsize=18)\n",
    "    plt.ylabel('Number of Files', fontsize=18)\n",
    "    plt.title(title, fontsize=22)\n",
    "    plt.xticks(fontsize=16)\n",
    "    plt.yticks(fontsize=16)\n",
    "    plt.legend(fontsize=16)\n",
    "    plt.grid(axis='y', linestyle='--', linewidth=0.5, alpha=0.7)\n",
    "    plt.tight_layout()\n",
    "\n",
    "    plt.savefig(save_path, dpi=300)\n",
    "    print(f\"Saved histogram to {save_path}\")\n",
    "\n",
    "plot_histogram(df_pt, df_synth, 'Distribution of File Lengths', './histogram_len.pdf')\n"
   ]
  },
  {
   "cell_type": "code",
   "execution_count": 220,
   "metadata": {},
   "outputs": [
    {
     "data": {
      "image/png": "[encoded data removed]",
      "text/plain": [
       "<Figure size 640x480 with 1 Axes>"
      ]
     },
     "metadata": {},
     "output_type": "display_data"
    }
   ],
   "source": [
    "import matplotlib.pyplot as plt\n",
    "\n",
    "# Let's assume you have two lists of tuples containing (total_length, index_time)\n",
    "# One for BVH files and one for audio files, where each tuple corresponds to a matched pair.\n",
    "bvh_data = pt_times  # replace with your actual data\n",
    "audio_data = synth_times# replace with your actual data\n",
    "# audio_data = [(x[0],x[1]+0.5) for x in audio_data]\n",
    "\n",
    "# Unzip the tuples to get separate lists for total length and index time for each dataset\n",
    "bvh_lengths, bvh_indices = zip(*bvh_data)\n",
    "audio_lengths, audio_indices = zip(*audio_data)\n",
    "\n",
    "# Create a scatter plot\n",
    "plt.scatter(bvh_lengths, bvh_indices, alpha=0.5, color='blue', label='BVH Files')\n",
    "plt.scatter(audio_lengths, audio_indices, alpha=0.5, color='red', label='Audio Files')\n",
    "\n",
    "# Add labels and legend\n",
    "plt.xlabel('Total Length (seconds)')\n",
    "plt.ylabel('Location of Demonstrative (seconds)')\n",
    "\n",
    "plt.title('Comparison of Demonstrative Location in BVH and Audio Files')\n",
    "plt.legend()\n",
    "\n",
    "# Show the plot\n",
    "plt.show()\n"
   ]
  },
  {
   "cell_type": "code",
   "execution_count": null,
   "metadata": {},
   "outputs": [],
   "source": []
  },
  {
   "cell_type": "code",
   "execution_count": 221,
   "metadata": {},
   "outputs": [
    {
     "name": "stdout",
     "output_type": "stream",
     "text": [
      "[ 4.576       5.06666667  4.59733333  3.81866667  5.61066667  5.36533333\n",
      "  6.73066667  4.45866667  5.024       4.96        7.37066667  6.92266667\n",
      "  7.21066667  3.70133333  4.59733333  5.28        4.27733333  3.57333333\n",
      "  4.59733333  5.61066667  6.51733333  5.55733333  5.01333333  4.33066667\n",
      "  5.86666667  4.07466667  3.86133333  5.26933333  6.34666667  6.15466667\n",
      "  3.94666667  6.61333333  6.208       3.94666667  4.10666667  3.712\n",
      "  4.16        3.552       3.92533333  3.904       6.12266667  3.65866667\n",
      "  5.71733333  4.32        4.992       4.07466667  3.40266667  3.904\n",
      "  4.512       4.27733333  4.91733333  4.26666667  5.81333333  4.32\n",
      "  4.34133333  3.968       5.29066667  4.43733333  6.79466667  4.11733333\n",
      "  5.42933333  4.096       5.376       4.20266667  3.712       5.16266667\n",
      "  4.07466667  3.62666667  4.18133333  4.02133333  4.08533333  4.\n",
      "  5.48266667  4.66133333  5.984       4.18133333  5.48266667  4.14933333\n",
      "  3.91466667  5.86666667  3.97866667  4.04266667  6.02666667  5.38666667\n",
      "  4.384       3.94666667  6.73066667  7.34933333  8.288       4.192\n",
      "  5.29066667  4.61866667  3.36        5.312       5.29066667  3.12533333\n",
      "  5.12        4.65066667  7.18933333  4.30933333  3.66933333  3.81866667\n",
      "  4.98133333  3.37066667  4.736       4.20266667  4.736       9.32266667\n",
      "  4.37333333  3.56266667  4.49066667  4.704       4.768       4.27733333\n",
      "  4.78933333  4.50133333  3.60533333  4.59733333  5.14133333  4.05333333\n",
      "  5.248       5.92        4.74666667  5.056       5.51466667  4.43733333\n",
      "  4.87466667  4.128       5.70666667  3.616       3.92533333  3.33866667\n",
      "  5.06666667  4.75733333  3.36        3.36        4.128       4.05333333\n",
      "  4.832       4.26666667  3.33866667  4.736       5.86666667  5.30133333\n",
      "  5.84533333  5.22666667  4.8         4.08533333  4.21333333 10.12266667\n",
      "  4.40533333  4.064       5.01333333  3.49866667  5.472       4.37333333\n",
      "  5.024       4.98133333  5.32266667  4.096       3.53066667  4.39466667\n",
      "  3.488       4.68266667  4.56533333  4.45866667  4.49066667  3.70133333\n",
      "  6.44266667  3.63733333  4.608       4.768       3.53066667  5.25866667\n",
      "  3.82933333  5.504       8.832      12.78866667  4.          6.10133333\n",
      "  3.59466667  7.60533333  4.90666667  5.17333333  3.872       5.30133333\n",
      "  8.832       6.54933333  6.53866667  7.712       6.16533333  4.512\n",
      "  4.88533333  4.192       3.84        3.82933333  4.37333333  3.66933333\n",
      "  3.85066667  5.19466667  4.512       5.952       3.92533333  4.768\n",
      "  5.92        3.81866667  4.97066667  3.904       4.96        4.27733333\n",
      "  6.112       5.13066667  3.97866667  4.88533333  5.824       3.712\n",
      "  6.25066667  4.27733333  4.84266667  3.41333333  6.752       7.488\n",
      "  5.10933333  5.888       5.83466667  3.904       3.94666667  3.81866667\n",
      "  3.62666667  4.14933333  6.22933333  6.89066667  4.96        3.82933333\n",
      "  4.256       3.81866667  5.248       4.18133333  4.20266667  4.49066667\n",
      "  5.056       3.296       4.064       4.69333333  5.29066667  9.20533333\n",
      "  4.17066667  3.50933333  5.408      10.26133333  3.936       5.152\n",
      "  5.55733333  5.13066667  5.46133333  5.70666667  4.29866667  4.26666667\n",
      "  5.216       4.064       8.064       6.784       4.832       3.49866667\n",
      "  5.6         4.29866667  4.04266667  3.65866667  5.33333333  3.648\n",
      "  4.064       4.64        4.77866667  3.616       5.96266667  3.95733333\n",
      "  4.096       6.944       6.06933333  3.296       3.91466667  4.34133333\n",
      "  4.34133333  5.09866667  4.064       3.712       5.536       4.56533333\n",
      "  6.42133333  3.69066667  4.90666667  4.55466667  4.01066667  4.05333333\n",
      "  6.752       4.26666667  4.26666667  4.64        4.82133333 10.826\n",
      "  3.60533333  5.32266667  6.13333333  7.02933333  4.832       3.75466667\n",
      "  5.29066667  3.78666667  3.95733333  4.02133333  5.632       5.73866667\n",
      "  5.65333333  3.17866667  5.65333333  3.97866667  3.86133333  5.04533333\n",
      "  4.01066667  4.33066667  4.704       3.36        4.192       3.72266667\n",
      "  3.21066667  4.576       5.28        4.58666667  5.48266667  5.74933333\n",
      "  5.04533333  4.94933333  3.63733333  4.39466667  5.64266667  4.736\n",
      "  3.82933333  5.87733333  4.064       4.27733333  3.89333333  4.98133333\n",
      "  4.07466667  3.69066667  9.04533333  5.78133333  3.86133333  4.27733333\n",
      "  4.69333333  3.75466667  4.08533333  4.34133333  3.12533333  5.89866667\n",
      "  3.78666667  3.776       3.88266667  3.97866667  4.24533333  4.33066667\n",
      "  9.32266667  5.056       4.02133333  4.97066667  3.75466667  6.08\n",
      "  3.712       4.56533333  5.26933333  5.48266667  4.26666667  5.41866667\n",
      "  3.25333333  3.63733333  5.472       5.06666667  4.20266667  5.71733333\n",
      "  5.16266667  4.608       5.504       3.68        3.97866667  3.95733333\n",
      "  3.936       4.96        5.504       3.70133333  4.36266667  4.88533333\n",
      "  3.81866667  5.55733333  3.73333333  4.34133333  3.904       4.27733333\n",
      "  3.97866667  3.63733333  4.68266667  3.712       4.064       3.92533333\n",
      "  3.616       5.33333333  5.58933333  3.2         5.04533333  3.94666667\n",
      "  3.456       7.456       3.41333333  4.864       5.46133333  4.24533333\n",
      "  6.92266667  3.88266667  5.984       5.376       9.97333333  6.89066667\n",
      "  6.13333333  4.          5.29066667  6.272       3.712       4.56533333\n",
      "  4.62933333  7.41333333  3.904       4.46933333  4.032       4.93866667\n",
      "  4.88533333  3.62666667  6.29333333  6.208       3.12533333  4.82133333\n",
      "  4.24533333  6.63466667  4.97066667  4.128       5.792       3.52\n",
      "  5.04533333  4.10666667  5.22666667  4.07466667  5.94133333  3.37066667\n",
      "  5.00266667  3.776       3.904      14.506       8.13866667  4.768\n",
      "  4.08533333  4.45866667  3.91466667  5.93066667  3.94666667  9.19466667\n",
      "  4.04266667  5.10933333  3.05066667  3.69066667  6.144       3.94666667\n",
      "  5.68533333  3.95733333  3.91466667  5.17333333  3.25333333  4.33066667\n",
      "  3.98933333  4.30933333  5.07733333  4.05333333  3.28533333  4.21333333\n",
      "  3.904       3.776       4.736       3.82933333  3.53066667  4.064\n",
      "  5.376       3.744       4.768       5.20533333  4.192       3.872\n",
      "  4.864       5.20533333  3.488       5.10933333  5.04533333  3.44533333\n",
      "  4.07466667  4.416       5.17333333  4.20266667  4.84266667  4.97066667\n",
      "  4.21333333  4.68266667  4.18133333  3.54133333  6.656       4.192\n",
      "  4.096       8.39466667  3.968       4.43733333  4.59733333  5.344\n",
      "  5.54666667  3.14666667  5.20533333  4.85333333  4.21333333  7.25333333\n",
      "  3.95733333  3.37066667  4.13866667  3.85066667  4.704       4.26666667\n",
      "  4.36266667 12.49        4.27733333  3.53066667  5.36533333  4.26666667\n",
      "  5.088       5.376       5.22666667  3.70133333  5.728       5.44\n",
      "  3.456       4.84266667  4.64        3.72266667  5.568       3.68\n",
      "  3.28533333  4.24533333  4.78933333  4.08533333  4.34133333  4.58666667\n",
      "  5.64266667  6.688       4.256       5.89866667  3.616       4.18133333\n",
      "  5.14133333  4.064       5.984       5.06666667  5.68533333  3.92533333\n",
      "  4.256       3.616       3.616       3.44533333  9.92        5.408\n",
      "  3.68        3.69066667  5.65333333  3.62666667  5.17333333  5.856\n",
      "  3.85066667  5.48266667  4.29866667  3.81866667  3.73333333  3.98933333\n",
      "  4.576       4.07466667  3.75466667  4.11733333  4.91733333  5.856\n",
      "  3.86133333  6.63466667  4.91733333  5.14133333  4.93866667  4.34133333\n",
      "  4.45866667  8.928       5.504       4.768       5.99466667  4.288\n",
      "  4.064       4.18133333  5.36533333  4.23466667  4.27733333  3.92533333\n",
      "  4.33066667  4.37333333  3.78666667  4.29866667  3.76533333  4.768\n",
      "  3.40266667  4.64        4.128       3.82933333  4.224       5.22666667\n",
      "  9.51466667  5.312       4.11733333  3.97866667  5.10933333  3.648\n",
      "  3.63733333  4.62933333  6.19733333  3.82933333  6.624       3.904\n",
      "  4.192       6.19733333  6.88        3.81866667  4.27733333  3.53066667\n",
      "  4.18133333  4.50133333  5.07733333  3.744       4.224       3.97866667\n",
      "  6.25066667  4.69333333  4.34133333  3.488       4.736      11.31666667\n",
      "  3.98933333  4.736       4.91733333  5.52533333  4.75733333  3.95733333\n",
      "  5.29066667  4.33066667  6.19733333  6.272       5.55733333  4.832\n",
      "  5.62133333  5.216       6.28266667  4.          4.77866667  3.21066667\n",
      "  4.04266667  5.76        4.992       4.032       4.256       5.504\n",
      "  7.25333333  5.09866667  4.65066667  7.712       4.75733333  6.56\n",
      "  4.52266667  3.82933333  3.936       5.64266667 13.642       3.968\n",
      "  4.37333333  3.76533333  4.832       5.19466667  5.36533333  5.84533333\n",
      "  4.33066667  3.92533333  4.13866667  6.10133333  4.384       4.43733333\n",
      "  3.616       4.82133333  3.56266667  4.08533333  8.224       4.864\n",
      "  4.43733333  3.53066667  4.33066667  4.064       4.37333333  7.37066667\n",
      "  4.928       5.62133333  4.66133333  3.872       4.85333333  4.48\n",
      "  4.58666667  5.888       3.968       5.568       3.28533333  4.384\n",
      "  5.25866667  3.46666667  4.10666667  3.872       4.45866667  4.448\n",
      "  4.49066667  6.464       3.73333333  3.75466667  3.98933333  5.056\n",
      "  5.024       5.664       4.98133333  4.97066667  4.27733333  5.664\n",
      "  6.93333333  4.736       3.44533333  5.84533333  3.82933333  3.62666667\n",
      "  7.21066667  5.52533333  3.82933333  4.24533333  4.17066667  5.89866667\n",
      "  4.          3.30666667  5.16266667  4.064       3.21066667  8.736\n",
      "  4.40533333  3.94666667  3.616       4.85333333  5.504       5.97333333\n",
      "  6.03733333 11.562       4.36266667  5.41866667  4.768       4.61866667\n",
      "  3.75466667  4.04266667  4.61866667  6.95466667  4.512       3.30666667\n",
      "  4.85333333  4.128       5.54666667  4.032       3.28533333  4.736\n",
      "  6.656       4.608       4.50133333  5.984       3.82933333  6.92266667\n",
      "  4.27733333  4.90666667  4.08533333  6.45333333  5.248       6.528\n",
      "  4.064       4.45866667  4.16        3.98933333  3.98933333  4.61866667\n",
      "  5.792       3.85066667  3.52        7.24266667  4.49066667  4.64\n",
      "  5.184       3.81866667  5.19466667  4.65066667  3.97866667  5.55733333\n",
      "  3.296       6.45333333  4.64        4.69333333  6.19733333  4.62933333\n",
      "  4.68266667  7.2         5.54666667  5.55733333  5.024       4.05333333\n",
      "  3.73333333  4.56533333  4.88533333  5.35466667  4.42666667  6.57066667\n",
      "  3.488       4.384       4.78933333  4.17066667  4.576       6.08\n",
      "  4.32        4.13866667  5.52533333  5.25866667  4.82133333]\n",
      "1147\n",
      "839\n"
     ]
    }
   ],
   "source": [
    "# Convert the list to a numpy array for statistical calculations\n",
    "synth_lengths_array = np.array([x[0] for x in synth_times])\n",
    "print(synth_lengths_array)\n",
    "lengths_array = np.array(synth_lengths_array)\n",
    "\n",
    "lengths_array_pt = np.array([x[0] for x in pt_times])\n",
    "# Calculate the mean and standard deviation\n",
    "mean_length = np.mean(lengths_array)\n",
    "std_dev_length = np.std(lengths_array)\n",
    "\n",
    "# Calculate the 50th (median) and 75th percentiles\n",
    "median_length_syn = np.percentile(lengths_array, 50)\n",
    "percentile_75_length = np.percentile(lengths_array, 75)\n",
    "percentile_75_length\n",
    "\n",
    "cutoff_time_syn = median_length_syn\n",
    "\n",
    "median_length_pt = np.percentile(lengths_array_pt, 50)\n",
    "percentile_75_length = np.percentile(lengths_array, 75)\n",
    "percentile_75_length\n",
    "\n",
    "cutoff_time_pt = median_length_pt\n",
    "\n",
    "print(len(pt_data))\n",
    "print(len(synth_data))\n",
    "\n",
    "short_pt = {k:v for k,v in pt_data.items() if v[1]<cutoff_time_pt}\n",
    "short_synth = {k:v for k,v in synth_data.items() if v[1]<cutoff_time_syn}\n",
    "long_pt = {k:v for k,v in pt_data.items() if v[1]>=cutoff_time_pt}\n",
    "long_synth = {k:v for k,v in synth_data.items() if v[1]>=cutoff_time_syn}\n",
    "\n",
    "synth_pre_short = {k:v for k,v in synth_pre.items() if k in short_synth}\n",
    "synth_post_short = {k:v for k,v in synth_post.items() if k in short_synth}\n",
    "pt_pre_short = {k:v for k,v in pt_pre.items() if k in short_pt}\n",
    "pt_post_short = {k:v for k,v in pt_post.items() if k in short_pt}\n",
    "\n"
   ]
  },
  {
   "cell_type": "code",
   "execution_count": 222,
   "metadata": {},
   "outputs": [
    {
     "data": {
      "text/plain": [
       "(416, 573)"
      ]
     },
     "execution_count": 222,
     "metadata": {},
     "output_type": "execute_result"
    }
   ],
   "source": [
    "# make distance matrix\n",
    "D = []\n",
    "synth_pre = synth_pre_short\n",
    "synth_post = synth_post_short\n",
    "pt_pre = pt_pre_short\n",
    "pt_post = pt_post_short\n",
    "\n",
    "for syntitem in list(synth_pre.keys())[:]:\n",
    "    row = []\n",
    "    for pointitem in list(pt_pre.keys())[:]:\n",
    "        syntpre = synth_pre[syntitem]\n",
    "        syntpost = synth_post[syntitem]\n",
    "        pointpre = pt_pre[pointitem]\n",
    "        pointpost = pt_post[pointitem]\n",
    "\n",
    "        cost = abs(syntpre-pointpre) + abs(syntpost-pointpost)\n",
    "        if synth_length[syntitem] > point_length[pointitem]:\n",
    "            cost *= 10\n",
    "        # penalize if synt starts before or ends after point\n",
    "        if syntpre > pointpre:\n",
    "            cost *= 2\n",
    "        if syntpost > pointpost:\n",
    "            cost *= 2\n",
    "        row.append(cost)\n",
    "    \n",
    "    D.append(row)\n",
    "dd = np.array(D)\n",
    "dd.shape"
   ]
  },
  {
   "cell_type": "code",
   "execution_count": 187,
   "metadata": {},
   "outputs": [
    {
     "name": "stdout",
     "output_type": "stream",
     "text": [
      "Collecting munkres\n",
      "  Using cached munkres-1.1.4-py2.py3-none-any.whl (7.0 kB)\n",
      "Installing collected packages: munkres\n",
      "Successfully installed munkres-1.1.4\n"
     ]
    }
   ],
   "source": [
    "!pip install munkres"
   ]
  },
  {
   "cell_type": "code",
   "execution_count": 224,
   "metadata": {},
   "outputs": [],
   "source": [
    "from munkres import Munkres\n",
    "m = Munkres()\n",
    "assignment_re = m.compute(D)\n",
    "f = open('assignment_short.csv','w')\n",
    "f.write('syntitem,pointitem,offset\\n')\n",
    "for pair in assignment_re:\n",
    "    syntidx,pointidx = pair\n",
    "    syntitem = list(synth_pre.keys())[syntidx]\n",
    "    pointitem = list(pt_pre.keys())[pointidx]\n",
    "    f.write('{},{},{}\\n'.format(syntitem, pointitem, pt_pre[pointitem]-synth_pre[syntitem]))\n",
    "f.close()"
   ]
  },
  {
   "cell_type": "code",
   "execution_count": 193,
   "metadata": {},
   "outputs": [],
   "source": [
    "selected = []\n",
    "with open(\"/tmp/assignment_short.csv\") as f:\n",
    "    for line in f.readlines():\n",
    "        line = line.strip()\n",
    "        if line.startswith(\"syntitem\"):\n",
    "            continue\n",
    "        parts = line.split(\",\")\n",
    "        selected.append(parts[0])"
   ]
  },
  {
   "cell_type": "code",
   "execution_count": 195,
   "metadata": {},
   "outputs": [],
   "source": [
    "filtered = []\n",
    "with open(\"/tmp/procced2.1.json\") as inf:\n",
    "    newdata = json.load(inf)\n",
    "for item in newdata:\n",
    "    if item[\"fileid\"] in selected:\n",
    "        filtered.append(item)"
   ]
  },
  {
   "cell_type": "code",
   "execution_count": 198,
   "metadata": {},
   "outputs": [],
   "source": [
    "# ffmpeg -i /tmp/output/st2_mirrored.10512_10854_1.23stretch.mp4 -i groundinggpt-generated-speech/hsi_4_0717_211_001_main__ggpt__682.wav -filter_complex \"[1:a]atrim=start=0.8624999999999999[aud]\" -map 0:v -map \"[aud]\" -c:v copy -c:a aac output_minus.mp4\n",
    "\n",
    "with open(\"/tmp/assignment_short.csv\") as f, open(\"/tmp/ffmpeg-runner.sh\", \"w\") as outf:\n",
    "    for line in f.readlines():\n",
    "        line = line.strip()\n",
    "        if line.startswith(\"syntitem\"):\n",
    "            continue\n",
    "        parts = line.split(\",\")\n",
    "        \n",
    "        outf.write(f\"ffmpeg -i /tmp/output/{parts[1]}.mp4 -i /tmp/groundinggpt-generated-speech/{parts[0]}.wav\")\n",
    "        time = float(parts[2])\n",
    "        if time < 0.0:\n",
    "            outf.write(f\" -filter_complex \\\"[1:a]atrim=start={time}[aud]\\\" -map 0:v -map \\\"[aud]\\\"\")\n",
    "        else:\n",
    "            itime = int(time * 1000.0)\n",
    "            outf.write(f\" -filter_complex \\\"[1:a]adelay={itime}|{itime}[aud]\\\" -map 0:v -map \\\"[aud]\\\"\")\n",
    "        outf.write(f\" -c:v copy -c:a aac /tmp/output_minus/{parts[0]}.mp4\\n\")\n"
   ]
  },
  {
   "cell_type": "code",
   "execution_count": 201,
   "metadata": {},
   "outputs": [],
   "source": [
    "filtered_dict = {x[\"fileid\"]: x for x in filtered}"
   ]
  },
  {
   "cell_type": "code",
   "execution_count": 203,
   "metadata": {},
   "outputs": [],
   "source": [
    "with open(\"/tmp/assignment_short.csv\") as f, open(\"/tmp/assigned_extended.csv\", \"w\") as outf:\n",
    "    for line in f.readlines():\n",
    "        line = line.strip()\n",
    "        if line.startswith(\"syntitem\"):\n",
    "            outf.write(line + \",room,topic\\n\")\n",
    "            continue\n",
    "        parts = line.split(\",\")\n",
    "        cur = filtered_dict[parts[0]]\n",
    "        outf.write(f\"{line},{cur['room']},{cur['topic']}\\n\")\n"
   ]
  }
 ],
 "metadata": {
  "kernelspec": {
   "display_name": "nst-tts",
   "language": "python",
   "name": "python3"
  },
  "language_info": {
   "codemirror_mode": {
    "name": "ipython",
    "version": 3
   },
   "file_extension": ".py",
   "mimetype": "text/x-python",
   "name": "python",
   "nbconvert_exporter": "python",
   "pygments_lexer": "ipython3",
   "version": "3.10.9"
  }
 },
 "nbformat": 4,
 "nbformat_minor": 2
}
