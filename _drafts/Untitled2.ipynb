{
 "cells": [
  {
   "cell_type": "code",
   "execution_count": 17,
   "metadata": {},
   "outputs": [],
   "source": [
    "dictionary = open(\"/home/jim/Playing/mfa_alignments/snc.dict\")\n",
    "dictionary2 = open(\"/home/jim/Playing/mfa_alignments/snc.dict.exp\", \"w\")"
   ]
  },
  {
   "cell_type": "code",
   "execution_count": 18,
   "metadata": {},
   "outputs": [],
   "source": [
    "for line in dictionary.readlines():\n",
    "    line = line.strip()\n",
    "    pieces = line.split(\" \")\n",
    "    word = pieces[0]\n",
    "    phones = pieces[1:]\n",
    "    dictionary2.write(line + \"\\n\")\n",
    "    if len(phones) == 1 and phones[0] == '@': \n",
    "        dictionary2.write(f\"{word} sil\\n\")\n",
    "    elif phones[0] == '@':\n",
    "        dictionary2.write(\" \".join([word] + phones[1:]) + \"\\n\")\n",
    "        if phones[-1] == '@':\n",
    "            dictionary2.write(\" \".join([word] + phones[1:-1]) + \"\\n\")\n",
    "    elif phones[-1] == '@': \n",
    "        dictionary2.write(\" \".join([word] + phones[:-1]) + \"\\n\")"
   ]
  },
  {
   "cell_type": "code",
   "execution_count": 19,
   "metadata": {},
   "outputs": [],
   "source": [
    "dictionary.close()\n",
    "dictionary2.close()"
   ]
  }
 ],
 "metadata": {
  "kernelspec": {
   "display_name": "Python 3",
   "language": "python",
   "name": "python3"
  },
  "language_info": {
   "codemirror_mode": {
    "name": "ipython",
    "version": 3
   },
   "file_extension": ".py",
   "mimetype": "text/x-python",
   "name": "python",
   "nbconvert_exporter": "python",
   "pygments_lexer": "ipython3",
   "version": "3.6.9"
  }
 },
 "nbformat": 4,
 "nbformat_minor": 2
}
