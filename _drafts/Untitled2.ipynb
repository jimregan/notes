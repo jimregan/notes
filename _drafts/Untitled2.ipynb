{
 "cells": [
  {
   "cell_type": "code",
   "execution_count": 10,
   "metadata": {},
   "outputs": [
    {
     "name": "stdout",
     "output_type": "stream",
     "text": [
      "Thosaigh sé .\n",
      "\n",
      "Bhí mé $ 3.4 4 % ag fanacht'm-ho at-ainm théis IRP23 4ú 9pm , 000 1 - 0 3B .\n",
      "\n"
     ]
    }
   ],
   "source": [
    "import spacy\n",
    "\n",
    "batch_size = 100\n",
    "nlp = spacy.blank(\"de\")\n",
    "\n",
    "nlp.add_pipe(\"sentencizer\")\n",
    "for doc in nlp.pipe([\"Thosaigh sé. Bhí mé $3.4 4% ag fanacht'm-ho at-ainm théis IRP23 4ú 9pm ,000 1-0 3B .\"], batch_size=batch_size):\n",
    "    for sent in doc.sents:\n",
    "        print(\" \".join([t.text for t in sent]) + \"\\n\")\n"
   ]
  },
  {
   "cell_type": "code",
   "execution_count": 22,
   "metadata": {},
   "outputs": [
    {
     "name": "stdout",
     "output_type": "stream",
     "text": [
      "Thosaigh sé .\n",
      "\n",
      "Bhí mé $ 2 $ 3.4 4 % ag fanacht'm - ho at - ainm ( 9 ) th éis IRP23 4ú 9pm , 000 1 - 0 3B .\n",
      "\n"
     ]
    }
   ],
   "source": [
    "import spacy\n",
    "from spacy import util\n",
    "\n",
    "\n",
    "batch_size = 100\n",
    "nlp = spacy.blank(\"ga\")\n",
    "\n",
    "prefixes = nlp.Defaults.prefixes + [r\"\\([0-9]+\\)\", r\"\\$\\d\"]\n",
    "prefix_regex = util.compile_prefix_regex(prefixes)\n",
    "nlp.tokenizer.prefix_search = prefix_regex.search\n",
    "\n",
    "nlp.add_pipe(\"sentencizer\")\n",
    "for doc in nlp.pipe([\"Thosaigh sé. Bhí mé $2 $3.4 4% ag fanacht'm-ho at-ainm (9) théis IRP23 4ú 9pm ,000 1-0 3B .\"], batch_size=batch_size):\n",
    "    for sent in doc.sents:\n",
    "        print(\" \".join([t.text for t in sent]) + \"\\n\")\n"
   ]
  },
  {
   "cell_type": "code",
   "execution_count": 13,
   "metadata": {},
   "outputs": [
    {
     "name": "stdout",
     "output_type": "stream",
     "text": [
      "Thosaigh sé .\n",
      "\n",
      "Bhí mé $ 3.4 4 % ag fanacht'm - ho at - ainm théis IRP23 4ú 9 pm , 000 1 + 0 3B .\n",
      "\n"
     ]
    }
   ],
   "source": [
    "import spacy\n",
    "\n",
    "batch_size = 100\n",
    "nlp = spacy.blank(\"en\")\n",
    "\n",
    "nlp.add_pipe(\"sentencizer\")\n",
    "for doc in nlp.pipe([\"Thosaigh sé. Bhí mé $3.4 4% ag fanacht'm-ho at-ainm théis IRP23 4ú 9pm ,000 1+0 3B .\"], batch_size=batch_size):\n",
    "    for sent in doc.sents:\n",
    "        print(\" \".join([t.text for t in sent]) + \"\\n\")\n"
   ]
  },
  {
   "cell_type": "code",
   "execution_count": 19,
   "metadata": {},
   "outputs": [],
   "source": [
    "IDT_JUNK = \"\"\"\n",
    "(01) (1) (11) (17) (19) (2) (20) (21) (3) (4) (5) (6) (64) (8) (9) (I) (II)\n",
    "(N) (T) (W) (a) (b) (c) (d) (e) (f) (h) (i) (ii) (iii) (iv) (r) (vi) 19(2)\n",
    "29(2) H(8)\n",
    "\"\"\""
   ]
  },
  {
   "cell_type": "code",
   "execution_count": 20,
   "metadata": {},
   "outputs": [
    {
     "data": {
      "text/plain": [
       "['(01)',\n",
       " '(1)',\n",
       " '(11)',\n",
       " '(17)',\n",
       " '(19)',\n",
       " '(2)',\n",
       " '(20)',\n",
       " '(21)',\n",
       " '(3)',\n",
       " '(4)',\n",
       " '(5)',\n",
       " '(6)',\n",
       " '(64)',\n",
       " '(8)',\n",
       " '(9)',\n",
       " '(I)',\n",
       " '(II)',\n",
       " '(N)',\n",
       " '(T)',\n",
       " '(W)',\n",
       " '(a)',\n",
       " '(b)',\n",
       " '(c)',\n",
       " '(d)',\n",
       " '(e)',\n",
       " '(f)',\n",
       " '(h)',\n",
       " '(i)',\n",
       " '(ii)',\n",
       " '(iii)',\n",
       " '(iv)',\n",
       " '(r)',\n",
       " '(vi)',\n",
       " '19(2)',\n",
       " '29(2)',\n",
       " 'H(8)']"
      ]
     },
     "execution_count": 20,
     "metadata": {},
     "output_type": "execute_result"
    }
   ],
   "source": [
    "IDT_JUNK.split()"
   ]
  }
 ],
 "metadata": {
  "kernelspec": {
   "display_name": "Python 3",
   "language": "python",
   "name": "python3"
  },
  "language_info": {
   "codemirror_mode": {
    "name": "ipython",
    "version": 3
   },
   "file_extension": ".py",
   "mimetype": "text/x-python",
   "name": "python",
   "nbconvert_exporter": "python",
   "pygments_lexer": "ipython3",
   "version": "3.6.9"
  }
 },
 "nbformat": 4,
 "nbformat_minor": 2
}
