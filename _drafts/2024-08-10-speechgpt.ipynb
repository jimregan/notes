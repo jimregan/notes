{
 "cells": [
  {
   "cell_type": "markdown",
   "id": "6d36d48d",
   "metadata": {
    "jupyter": {
     "source_hidden": false
    }
   },
   "source": [
    "# SpeechGPT\n",
    "\n",
    "> \"Speech LLM\"\n",
    "\n",
    "- branch: master\n",
    "- hidden: true\n",
    "- categories: [speechgpt, speechllm]"
   ]
  },
  {
   "cell_type": "markdown",
   "id": "cca592d1",
   "metadata": {
    "jupyter": {
     "source_hidden": false
    }
   },
   "source": [
    "```bibtex\n",
    "@misc{zhang2023speechgpt,\n",
    "      title={SpeechGPT: Empowering Large Language Models with Intrinsic Cross-Modal Conversational Abilities}, \n",
    "      author={Dong Zhang and Shimin Li and Xin Zhang and Jun Zhan and Pengyu Wang and Yaqian Zhou and Xipeng Qiu},\n",
    "      year={2023},\n",
    "      eprint={2305.11000},\n",
    "      archivePrefix={arXiv},\n",
    "      primaryClass={cs.CL}\n",
    "}\n",
    "```\n",
    "\n",
    "[code](https://github.com/0nutation/SpeechGPT) is open source (Apache 2.0); models are not (based on Llama), but training scripts are provided."
   ]
  }
 ],
 "metadata": {
  "kernelspec": {
   "display_name": "Python 3 (ipykernel)",
   "language": "python",
   "name": "python3"
  },
  "language_info": {
   "codemirror_mode": {
    "name": "ipython",
    "version": 3
   },
   "file_extension": ".py",
   "mimetype": "text/x-python",
   "name": "python",
   "nbconvert_exporter": "python",
   "pygments_lexer": "ipython3",
   "version": "3.11.9"
  },
  "widgets": {
   "application/vnd.jupyter.widget-state+json": {
    "state": {},
    "version_major": 2,
    "version_minor": 0
   }
  }
 },
 "nbformat": 4,
 "nbformat_minor": 5
}
