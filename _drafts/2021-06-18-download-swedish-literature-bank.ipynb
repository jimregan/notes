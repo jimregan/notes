{
  "nbformat": 4,
  "nbformat_minor": 5,
  "metadata": {
    "kernelspec": {
      "display_name": "Python 3",
      "language": "python",
      "name": "python3"
    },
    "language_info": {
      "codemirror_mode": {
        "name": "ipython",
        "version": 3
      },
      "file_extension": ".py",
      "mimetype": "text/x-python",
      "name": "python",
      "nbconvert_exporter": "python",
      "pygments_lexer": "ipython3",
      "version": "3.7.9"
    },
    "papermill": {
      "default_parameters": {},
      "duration": 228.539974,
      "end_time": "2021-06-18T09:06:20.774398",
      "environment_variables": {},
      "exception": null,
      "input_path": "__notebook__.ipynb",
      "output_path": "__notebook__.ipynb",
      "parameters": {},
      "start_time": "2021-06-18T09:02:32.234424",
      "version": "2.3.2"
    },
    "colab": {
      "name": "2021-06-18-download-swedish-literature-bank.ipynb",
      "provenance": []
    }
  },
  "cells": [
    {
      "cell_type": "markdown",
      "metadata": {
        "id": "V1MpqggPRioI"
      },
      "source": [
        "# Download Swedish Literature Bank\n",
        "\n",
        "> \"Download Swedish Literature Bank for use on Kaggle\"\n",
        "\n",
        "- toc: false\n",
        "- branch: master\n",
        "- hidden: true\n",
        "- categories: [kaggle, swedish]"
      ],
      "id": "V1MpqggPRioI"
    },
    {
      "cell_type": "code",
      "metadata": {
        "id": "9F5FvG3lRuvn"
      },
      "source": [
        "[Original](https://www.kaggle.com/jimregan/download-swedish-literature-bank)"
      ],
      "id": "9F5FvG3lRuvn",
      "execution_count": null,
      "outputs": []
    },
    {
      "cell_type": "code",
      "metadata": {
        "_cell_guid": "b1076dfc-b9ad-4769-8c92-a6c4dae69d19",
        "_uuid": "8f2839f25d086af736a60e9eeb907d3b93b6e0e5",
        "execution": {
          "iopub.execute_input": "2021-06-18T09:02:37.484313Z",
          "iopub.status.busy": "2021-06-18T09:02:37.483397Z",
          "iopub.status.idle": "2021-06-18T09:05:44.997361Z",
          "shell.execute_reply": "2021-06-18T09:05:44.997797Z"
        },
        "papermill": {
          "duration": 187.520651,
          "end_time": "2021-06-18T09:05:44.998099",
          "exception": false,
          "start_time": "2021-06-18T09:02:37.477448",
          "status": "completed"
        },
        "tags": [],
        "id": "extra-finding"
      },
      "source": [
        "!wget http://spraakbanken.gu.se/lb/resurser/meningsmangder/lb.xml.bz2"
      ],
      "id": "extra-finding",
      "execution_count": null,
      "outputs": []
    },
    {
      "cell_type": "code",
      "metadata": {
        "execution": {
          "iopub.execute_input": "2021-06-18T09:05:45.383272Z",
          "iopub.status.busy": "2021-06-18T09:05:45.382746Z",
          "iopub.status.idle": "2021-06-18T09:06:19.931493Z",
          "shell.execute_reply": "2021-06-18T09:06:19.930866Z"
        },
        "papermill": {
          "duration": 34.741116,
          "end_time": "2021-06-18T09:06:19.931643",
          "exception": false,
          "start_time": "2021-06-18T09:05:45.190527",
          "status": "completed"
        },
        "tags": [],
        "id": "deluxe-polymer"
      },
      "source": [
        "!wget https://svn.spraakdata.gu.se/sb-arkiv/pub/frekvens/stats_LB.txt\n"
      ],
      "id": "deluxe-polymer",
      "execution_count": null,
      "outputs": []
    }
  ]
}