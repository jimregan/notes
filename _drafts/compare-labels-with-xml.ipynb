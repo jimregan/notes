{
 "cells": [
  {
   "cell_type": "code",
   "execution_count": 58,
   "metadata": {},
   "outputs": [],
   "source": [
    "from pathlib import Path\n",
    "import xml.etree.ElementTree as ET"
   ]
  },
  {
   "cell_type": "code",
   "execution_count": 1,
   "metadata": {},
   "outputs": [],
   "source": [
    "LABELS_PATH = Path(\"/media/storage/harald/git/abair-gitea/abair-software/nnmnkwii_tests/data/pmg_ga_demo/label_state_align\")"
   ]
  },
  {
   "cell_type": "code",
   "execution_count": 2,
   "metadata": {},
   "outputs": [],
   "source": [
    "label_files = {a.stem: a for a in LABELS_PATH.glob('*.lab')}"
   ]
  },
  {
   "cell_type": "code",
   "execution_count": 4,
   "metadata": {},
   "outputs": [],
   "source": [
    "GITEA_XML_PATH = Path(\"/media/storage/harald/git/abair-gitea/abair-corpora/pmg_ga_co/RCPiarsachALL/xml\")"
   ]
  },
  {
   "cell_type": "code",
   "execution_count": 7,
   "metadata": {},
   "outputs": [],
   "source": [
    "gitea_xml_files = {a.stem: a for a in GITEA_XML_PATH.glob('*.xml')}"
   ]
  },
  {
   "cell_type": "code",
   "execution_count": 9,
   "metadata": {},
   "outputs": [],
   "source": [
    "SVN_XML_PATH = Path(\"/media/storage/jim/speech-syn/Corpora/ga_CO/pmg/RC_ALL_141118/xml\")"
   ]
  },
  {
   "cell_type": "code",
   "execution_count": 10,
   "metadata": {},
   "outputs": [],
   "source": [
    "svn_xml_files = {a.stem: a for a in SVN_XML_PATH.glob('*.xml')}"
   ]
  },
  {
   "cell_type": "markdown",
   "metadata": {},
   "source": [
    "Filter the xml files to only include what was in the labels"
   ]
  },
  {
   "cell_type": "code",
   "execution_count": 11,
   "metadata": {},
   "outputs": [],
   "source": [
    "svn_xml_filt = {a: svn_xml_files[a] for a in label_files.keys()}"
   ]
  },
  {
   "cell_type": "code",
   "execution_count": 14,
   "metadata": {},
   "outputs": [],
   "source": [
    "gitea_xml_filt = {a: gitea_xml_files[a] for a in label_files.keys()}"
   ]
  },
  {
   "cell_type": "markdown",
   "metadata": {},
   "source": [
    "Check that the contents seem right"
   ]
  },
  {
   "cell_type": "code",
   "execution_count": 12,
   "metadata": {},
   "outputs": [
    {
     "data": {
      "text/plain": [
       "91"
      ]
     },
     "execution_count": 12,
     "metadata": {},
     "output_type": "execute_result"
    }
   ],
   "source": [
    "len(label_files)"
   ]
  },
  {
   "cell_type": "code",
   "execution_count": 13,
   "metadata": {},
   "outputs": [
    {
     "data": {
      "text/plain": [
       "91"
      ]
     },
     "execution_count": 13,
     "metadata": {},
     "output_type": "execute_result"
    }
   ],
   "source": [
    "len(svn_xml_filt)"
   ]
  },
  {
   "cell_type": "code",
   "execution_count": 15,
   "metadata": {},
   "outputs": [
    {
     "data": {
      "text/plain": [
       "91"
      ]
     },
     "execution_count": 15,
     "metadata": {},
     "output_type": "execute_result"
    }
   ],
   "source": [
    "len(gitea_xml_filt)"
   ]
  },
  {
   "cell_type": "code",
   "execution_count": 17,
   "metadata": {},
   "outputs": [],
   "source": [
    "assert set(label_files) == set(svn_xml_filt) == set(gitea_xml_filt), \"Nope\""
   ]
  },
  {
   "cell_type": "code",
   "execution_count": 37,
   "metadata": {},
   "outputs": [],
   "source": [
    "def break_phones(string):\n",
    "    i = 0\n",
    "    mark = 0\n",
    "    toks = []\n",
    "    pieces = {\n",
    "        0: '^',\n",
    "        1: '-',\n",
    "        2: '+',\n",
    "        3: '=',\n",
    "        4: '@'\n",
    "    }\n",
    "    piece = 0\n",
    "    while i <= len(string):\n",
    "        if string[i:i+1] == pieces[piece]:\n",
    "            if piece < 4:\n",
    "                toks.append(string[mark:i])\n",
    "            else:\n",
    "                if string[i+1:i+2].isdigit():\n",
    "                    toks.append(string[mark:i])\n",
    "                else:\n",
    "                    toks.append(\"@\")\n",
    "                break\n",
    "            piece += 1\n",
    "            mark = i + 1\n",
    "        i += 1\n",
    "    return toks"
   ]
  },
  {
   "cell_type": "code",
   "execution_count": 82,
   "metadata": {},
   "outputs": [],
   "source": [
    "assert break_phones('nnj^ii-lj+sil=@@3_2/') == ['nnj', 'ii', 'lj', 'sil', '@']\n",
    "assert break_phones(\"x^sil-nnj+ii=lj@1_4\") == ['x', 'sil', 'nnj', 'ii', 'lj']\n",
    "assert break_phones(\"oo^r-sil+x=x@1_1\") == ['oo', 'r', 'sil', 'x', 'x']"
   ]
  },
  {
   "cell_type": "code",
   "execution_count": 41,
   "metadata": {},
   "outputs": [],
   "source": [
    "def read_phonemes_lab(filename):\n",
    "    phn_bits = []\n",
    "    with open(filename, \"r\") as f:\n",
    "        for line in f.readlines():\n",
    "            _, _, phones = line.split(' ')\n",
    "            phones = break_phones(phones)\n",
    "            phn_bits.append(phones)\n",
    "    return phn_bits        "
   ]
  },
  {
   "cell_type": "code",
   "execution_count": 51,
   "metadata": {},
   "outputs": [],
   "source": [
    "# Dumb way of doing this, but it works\n",
    "def check_len(phone_list):\n",
    "    length = str(len(phone_list))\n",
    "    return (length[-1] == \"0\" or length[-1] == \"5\")"
   ]
  },
  {
   "cell_type": "code",
   "execution_count": 56,
   "metadata": {},
   "outputs": [],
   "source": [
    "def prune_phones(phone_list):\n",
    "    if not check_len(phone_list):\n",
    "        return []\n",
    "    return [a[2] for a in phone_list[::5]]"
   ]
  },
  {
   "cell_type": "code",
   "execution_count": 84,
   "metadata": {},
   "outputs": [],
   "source": [
    "lab_phonemes_raw = {a: read_phonemes_lab(b) for (a, b) in label_files.items()}"
   ]
  },
  {
   "cell_type": "code",
   "execution_count": 85,
   "metadata": {},
   "outputs": [],
   "source": [
    "lab_phonemes = {a: prune_phones(b) for (a, b) in lab_phonemes_raw.items()}"
   ]
  },
  {
   "cell_type": "code",
   "execution_count": 97,
   "metadata": {},
   "outputs": [],
   "source": [
    "def xml_phones(filename):\n",
    "    phonemes = []\n",
    "    tree = ET.parse(filename)\n",
    "    root = tree.getroot()\n",
    "    for phoneme in root.findall('.//phoneme'):\n",
    "        # skip glottal stops, they seem to be absent\n",
    "        if 'symbol' in phoneme.attrib and phoneme.attrib['symbol'] != '?':\n",
    "            phonemes.append(phoneme.attrib['symbol'])\n",
    "    return phonemes"
   ]
  },
  {
   "cell_type": "code",
   "execution_count": 98,
   "metadata": {},
   "outputs": [],
   "source": [
    "svn_phonemes = {a: xml_phones(b) for (a, b) in svn_xml_filt.items()}"
   ]
  },
  {
   "cell_type": "code",
   "execution_count": 89,
   "metadata": {},
   "outputs": [],
   "source": [
    "gitea_phonemes = {a: xml_phones(b) for (a, b) in gitea_xml_filt.items()}"
   ]
  },
  {
   "cell_type": "code",
   "execution_count": 91,
   "metadata": {},
   "outputs": [],
   "source": [
    "from difflib import SequenceMatcher"
   ]
  },
  {
   "cell_type": "code",
   "execution_count": 99,
   "metadata": {},
   "outputs": [],
   "source": [
    "res = {}\n",
    "for item in lab_phonemes.keys():\n",
    "    match1 = SequenceMatcher(None, lab_phonemes[item], svn_phonemes[item])\n",
    "    match2 = SequenceMatcher(None, lab_phonemes[item], gitea_phonemes[item])\n",
    "    if match1.ratio() > match2.ratio():\n",
    "        res[item] = 'SVN'\n",
    "    else:\n",
    "        res[item] = 'Gitea'"
   ]
  },
  {
   "cell_type": "code",
   "execution_count": 100,
   "metadata": {},
   "outputs": [
    {
     "data": {
      "text/plain": [
       "{'MI0001RCPiarsachBairbre_0010': 'Gitea',\n",
       " 'MI0001RCPiarsachBairbre_0091': 'Gitea',\n",
       " 'MI0001RCPiarsachBairbre_0017': 'Gitea',\n",
       " 'MI0001RCPiarsachBairbre_0088': 'Gitea',\n",
       " 'MI0001RCPiarsachBairbre_0071': 'Gitea',\n",
       " 'MI0001RCPiarsachBairbre_0099': 'Gitea',\n",
       " 'MI0001RCPiarsachBairbre_0034': 'Gitea',\n",
       " 'MI0001RCPiarsachBairbre_0050': 'Gitea',\n",
       " 'MI0001RCPiarsachBairbre_0096': 'Gitea',\n",
       " 'MI0001RCPiarsachBairbre_0009': 'Gitea',\n",
       " 'MI0001RCPiarsachBairbre_0098': 'Gitea',\n",
       " 'MI0001RCPiarsachBairbre_0094': 'Gitea',\n",
       " 'MI0001RCPiarsachBairbre_0049': 'Gitea',\n",
       " 'MI0001RCPiarsachBairbre_0068': 'Gitea',\n",
       " 'MI0001RCPiarsachBairbre_0040': 'Gitea',\n",
       " 'MI0001RCPiarsachBairbre_0080': 'Gitea',\n",
       " 'MI0001RCPiarsachBairbre_0048': 'Gitea',\n",
       " 'MI0001RCPiarsachBairbre_0052': 'Gitea',\n",
       " 'MI0001RCPiarsachBairbre_0067': 'Gitea',\n",
       " 'MI0001RCPiarsachBairbre_0079': 'Gitea',\n",
       " 'MI0001RCPiarsachBairbre_0092': 'Gitea',\n",
       " 'MI0001RCPiarsachBairbre_0082': 'Gitea',\n",
       " 'MI0001RCPiarsachBairbre_0097': 'Gitea',\n",
       " 'MI0001RCPiarsachBairbre_0015': 'Gitea',\n",
       " 'MI0001RCPiarsachBairbre_0095': 'Gitea',\n",
       " 'MI0001RCPiarsachBairbre_0019': 'Gitea',\n",
       " 'MI0001RCPiarsachBairbre_0011': 'Gitea',\n",
       " 'MI0001RCPiarsachBairbre_0090': 'Gitea',\n",
       " 'MI0001RCPiarsachBairbre_0005': 'Gitea',\n",
       " 'MI0001RCPiarsachBairbre_0084': 'Gitea',\n",
       " 'MI0001RCPiarsachBairbre_0093': 'Gitea',\n",
       " 'MI0001RCPiarsachBairbre_0058': 'Gitea',\n",
       " 'MI0001RCPiarsachBairbre_0016': 'Gitea',\n",
       " 'MI0001RCPiarsachBairbre_0012': 'Gitea',\n",
       " 'MI0001RCPiarsachBairbre_0033': 'Gitea',\n",
       " 'MI0001RCPiarsachBairbre_0055': 'Gitea',\n",
       " 'MI0001RCPiarsachBairbre_0020': 'Gitea',\n",
       " 'MI0001RCPiarsachBairbre_0037': 'Gitea',\n",
       " 'MI0001RCPiarsachBairbre_0060': 'Gitea',\n",
       " 'MI0001RCPiarsachBairbre_0057': 'Gitea',\n",
       " 'MI0001RCPiarsachBairbre_0087': 'Gitea',\n",
       " 'MI0001RCPiarsachBairbre_0035': 'Gitea',\n",
       " 'MI0001RCPiarsachBairbre_0008': 'Gitea',\n",
       " 'MI0001RCPiarsachBairbre_0072': 'Gitea',\n",
       " 'MI0001RCPiarsachBairbre_0051': 'Gitea',\n",
       " 'MI0001RCPiarsachBairbre_0032': 'Gitea',\n",
       " 'MI0001RCPiarsachBairbre_0041': 'Gitea',\n",
       " 'MI0001RCPiarsachBairbre_0043': 'Gitea',\n",
       " 'MI0001RCPiarsachBairbre_0083': 'Gitea',\n",
       " 'MI0001RCPiarsachBairbre_0029': 'Gitea',\n",
       " 'MI0001RCPiarsachBairbre_0039': 'Gitea',\n",
       " 'MI0001RCPiarsachBairbre_0077': 'Gitea',\n",
       " 'MI0001RCPiarsachBairbre_0070': 'Gitea',\n",
       " 'MI0001RCPiarsachBairbre_0002': 'Gitea',\n",
       " 'MI0001RCPiarsachBairbre_0038': 'Gitea',\n",
       " 'MI0001RCPiarsachBairbre_0027': 'Gitea',\n",
       " 'MI0001RCPiarsachBairbre_0046': 'Gitea',\n",
       " 'MI0001RCPiarsachBairbre_0003': 'Gitea',\n",
       " 'MI0001RCPiarsachBairbre_0065': 'Gitea',\n",
       " 'MI0001RCPiarsachBairbre_0089': 'Gitea',\n",
       " 'MI0001RCPiarsachBairbre_0021': 'Gitea',\n",
       " 'MI0001RCPiarsachBairbre_0078': 'Gitea',\n",
       " 'MI0001RCPiarsachBairbre_0074': 'Gitea',\n",
       " 'MI0001RCPiarsachBairbre_0045': 'Gitea',\n",
       " 'MI0001RCPiarsachBairbre_0064': 'Gitea',\n",
       " 'MI0001RCPiarsachBairbre_0063': 'Gitea',\n",
       " 'MI0001RCPiarsachBairbre_0001': 'Gitea',\n",
       " 'MI0001RCPiarsachBairbre_0069': 'Gitea',\n",
       " 'MI0001RCPiarsachBairbre_0053': 'Gitea',\n",
       " 'MI0001RCPiarsachBairbre_0024': 'Gitea',\n",
       " 'MI0001RCPiarsachBairbre_0059': 'Gitea',\n",
       " 'MI0001RCPiarsachBairbre_0056': 'Gitea',\n",
       " 'MI0001RCPiarsachBairbre_0073': 'Gitea',\n",
       " 'MI0001RCPiarsachBairbre_0054': 'Gitea',\n",
       " 'MI0001RCPiarsachBairbre_0044': 'Gitea',\n",
       " 'MI0001RCPiarsachBairbre_0023': 'Gitea',\n",
       " 'MI0001RCPiarsachBairbre_0085': 'Gitea',\n",
       " 'MI0001RCPiarsachBairbre_0086': 'Gitea',\n",
       " 'MI0001RCPiarsachBairbre_0036': 'Gitea',\n",
       " 'MI0001RCPiarsachBairbre_0030': 'Gitea',\n",
       " 'MI0001RCPiarsachBairbre_0022': 'Gitea',\n",
       " 'MI0001RCPiarsachBairbre_0076': 'Gitea',\n",
       " 'MI0001RCPiarsachBairbre_0031': 'Gitea',\n",
       " 'MI0001RCPiarsachBairbre_0025': 'Gitea',\n",
       " 'MI0001RCPiarsachBairbre_0066': 'Gitea',\n",
       " 'MI0001RCPiarsachBairbre_0042': 'Gitea',\n",
       " 'MI0001RCPiarsachBairbre_0014': 'Gitea',\n",
       " 'MI0001RCPiarsachBairbre_0004': 'Gitea',\n",
       " 'MI0001RCPiarsachBairbre_0028': 'Gitea',\n",
       " 'MI0001RCPiarsachBairbre_0061': 'Gitea',\n",
       " 'MI0001RCPiarsachBairbre_0026': 'Gitea'}"
      ]
     },
     "execution_count": 100,
     "metadata": {},
     "output_type": "execute_result"
    }
   ],
   "source": [
    "res"
   ]
  }
 ],
 "metadata": {
  "kernelspec": {
   "display_name": "Python 3",
   "language": "python",
   "name": "python3"
  },
  "language_info": {
   "codemirror_mode": {
    "name": "ipython",
    "version": 3
   },
   "file_extension": ".py",
   "mimetype": "text/x-python",
   "name": "python",
   "nbconvert_exporter": "python",
   "pygments_lexer": "ipython3",
   "version": "3.6.9"
  }
 },
 "nbformat": 4,
 "nbformat_minor": 2
}
