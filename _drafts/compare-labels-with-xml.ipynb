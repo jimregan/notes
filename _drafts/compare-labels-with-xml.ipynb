{
 "cells": [
  {
   "cell_type": "code",
   "execution_count": 58,
   "metadata": {},
   "outputs": [],
   "source": [
    "from pathlib import Path\n",
    "import xml.etree.ElementTree as ET"
   ]
  },
  {
   "cell_type": "code",
   "execution_count": 1,
   "metadata": {},
   "outputs": [],
   "source": [
    "LABELS_PATH = Path(\"/media/storage/harald/git/abair-gitea/abair-software/nnmnkwii_tests/data/pmg_ga_demo/label_state_align\")"
   ]
  },
  {
   "cell_type": "code",
   "execution_count": 2,
   "metadata": {},
   "outputs": [],
   "source": [
    "label_files = {a.stem: a for a in LABELS_PATH.glob('*.lab')}"
   ]
  },
  {
   "cell_type": "code",
   "execution_count": 4,
   "metadata": {},
   "outputs": [],
   "source": [
    "GITEA_XML_PATH = Path(\"/media/storage/harald/git/abair-gitea/abair-corpora/pmg_ga_co/RCPiarsachALL/xml\")"
   ]
  },
  {
   "cell_type": "code",
   "execution_count": 7,
   "metadata": {},
   "outputs": [],
   "source": [
    "gitea_xml_files = {a.stem: a for a in GITEA_XML_PATH.glob('*.xml')}"
   ]
  },
  {
   "cell_type": "code",
   "execution_count": 9,
   "metadata": {},
   "outputs": [],
   "source": [
    "SVN_XML_PATH = Path(\"/media/storage/jim/speech-syn/Corpora/ga_CO/pmg/RC_ALL_141118/xml\")"
   ]
  },
  {
   "cell_type": "code",
   "execution_count": 10,
   "metadata": {},
   "outputs": [],
   "source": [
    "svn_xml_files = {a.stem: a for a in SVN_XML_PATH.glob('*.xml')}"
   ]
  },
  {
   "cell_type": "markdown",
   "metadata": {},
   "source": [
    "Filter the xml files to only include what was in the labels"
   ]
  },
  {
   "cell_type": "code",
   "execution_count": 11,
   "metadata": {},
   "outputs": [],
   "source": [
    "svn_xml_filt = {a: svn_xml_files[a] for a in label_files.keys()}"
   ]
  },
  {
   "cell_type": "code",
   "execution_count": 14,
   "metadata": {},
   "outputs": [],
   "source": [
    "gitea_xml_filt = {a: gitea_xml_files[a] for a in label_files.keys()}"
   ]
  },
  {
   "cell_type": "markdown",
   "metadata": {},
   "source": [
    "Check that the contents seem right"
   ]
  },
  {
   "cell_type": "code",
   "execution_count": 12,
   "metadata": {},
   "outputs": [
    {
     "data": {
      "text/plain": [
       "91"
      ]
     },
     "execution_count": 12,
     "metadata": {},
     "output_type": "execute_result"
    }
   ],
   "source": [
    "len(label_files)"
   ]
  },
  {
   "cell_type": "code",
   "execution_count": 13,
   "metadata": {},
   "outputs": [
    {
     "data": {
      "text/plain": [
       "91"
      ]
     },
     "execution_count": 13,
     "metadata": {},
     "output_type": "execute_result"
    }
   ],
   "source": [
    "len(svn_xml_filt)"
   ]
  },
  {
   "cell_type": "code",
   "execution_count": 15,
   "metadata": {},
   "outputs": [
    {
     "data": {
      "text/plain": [
       "91"
      ]
     },
     "execution_count": 15,
     "metadata": {},
     "output_type": "execute_result"
    }
   ],
   "source": [
    "len(gitea_xml_filt)"
   ]
  },
  {
   "cell_type": "code",
   "execution_count": 17,
   "metadata": {},
   "outputs": [],
   "source": [
    "assert set(label_files) == set(svn_xml_filt) == set(gitea_xml_filt), \"Nope\""
   ]
  },
  {
   "cell_type": "code",
   "execution_count": 37,
   "metadata": {},
   "outputs": [],
   "source": [
    "def break_phones(string):\n",
    "    i = 0\n",
    "    mark = 0\n",
    "    toks = []\n",
    "    pieces = {\n",
    "        0: '^',\n",
    "        1: '-',\n",
    "        2: '+',\n",
    "        3: '=',\n",
    "        4: '@'\n",
    "    }\n",
    "    piece = 0\n",
    "    while i <= len(string):\n",
    "        if string[i:i+1] == pieces[piece]:\n",
    "            if piece < 4:\n",
    "                toks.append(string[mark:i])\n",
    "            else:\n",
    "                if string[i+1:i+2].isdigit():\n",
    "                    toks.append(string[mark:i])\n",
    "                else:\n",
    "                    toks.append(\"@\")\n",
    "                break\n",
    "            piece += 1\n",
    "            mark = i + 1\n",
    "        i += 1\n",
    "    return toks"
   ]
  },
  {
   "cell_type": "code",
   "execution_count": 82,
   "metadata": {},
   "outputs": [],
   "source": [
    "assert break_phones('nnj^ii-lj+sil=@@3_2/') == ['nnj', 'ii', 'lj', 'sil', '@']\n",
    "assert break_phones(\"x^sil-nnj+ii=lj@1_4\") == ['x', 'sil', 'nnj', 'ii', 'lj']\n",
    "assert break_phones(\"oo^r-sil+x=x@1_1\") == ['oo', 'r', 'sil', 'x', 'x']"
   ]
  },
  {
   "cell_type": "code",
   "execution_count": 41,
   "metadata": {},
   "outputs": [],
   "source": [
    "def read_phonemes_lab(filename):\n",
    "    phn_bits = []\n",
    "    with open(filename, \"r\") as f:\n",
    "        for line in f.readlines():\n",
    "            _, _, phones = line.split(' ')\n",
    "            phones = break_phones(phones)\n",
    "            phn_bits.append(phones)\n",
    "    return phn_bits        "
   ]
  },
  {
   "cell_type": "code",
   "execution_count": 51,
   "metadata": {},
   "outputs": [],
   "source": [
    "# Dumb way of doing this, but it works\n",
    "def check_len(phone_list):\n",
    "    length = str(len(phone_list))\n",
    "    return (length[-1] == \"0\" or length[-1] == \"5\")"
   ]
  },
  {
   "cell_type": "code",
   "execution_count": 56,
   "metadata": {},
   "outputs": [],
   "source": [
    "def prune_phones(phone_list):\n",
    "    if not check_len(phone_list):\n",
    "        return []\n",
    "    return [a[2] for a in phone_list[::5]]"
   ]
  },
  {
   "cell_type": "code",
   "execution_count": 84,
   "metadata": {},
   "outputs": [],
   "source": [
    "lab_phonemes_raw = {a: read_phonemes_lab(b) for (a, b) in label_files.items()}"
   ]
  },
  {
   "cell_type": "code",
   "execution_count": 85,
   "metadata": {},
   "outputs": [],
   "source": [
    "lab_phonemes = {a: prune_phones(b) for (a, b) in lab_phonemes_raw.items()}"
   ]
  },
  {
   "cell_type": "code",
   "execution_count": 74,
   "metadata": {},
   "outputs": [],
   "source": [
    "def xml_phones(filename):\n",
    "    phonemes = []\n",
    "    tree = ET.parse(filename)\n",
    "    root = tree.getroot()\n",
    "    for phoneme in root.findall('.//phoneme'):\n",
    "        if 'symbol' in phoneme.attrib:\n",
    "            phonemes.append(phoneme.attrib['symbol'])\n",
    "    return phonemes"
   ]
  },
  {
   "cell_type": "code",
   "execution_count": 87,
   "metadata": {},
   "outputs": [],
   "source": [
    "svn_phonemes = {a: xml_phones(b) for (a, b) in svn_xml_filt.items()}"
   ]
  },
  {
   "cell_type": "code",
   "execution_count": 89,
   "metadata": {},
   "outputs": [],
   "source": [
    "gitea_phonemes = {a: xml_phones(b) for (a, b) in gitea_xml_filt.items()}"
   ]
  }
 ],
 "metadata": {
  "kernelspec": {
   "display_name": "Python 3",
   "language": "python",
   "name": "python3"
  },
  "language_info": {
   "codemirror_mode": {
    "name": "ipython",
    "version": 3
   },
   "file_extension": ".py",
   "mimetype": "text/x-python",
   "name": "python",
   "nbconvert_exporter": "python",
   "pygments_lexer": "ipython3",
   "version": "3.6.9"
  }
 },
 "nbformat": 4,
 "nbformat_minor": 2
}
