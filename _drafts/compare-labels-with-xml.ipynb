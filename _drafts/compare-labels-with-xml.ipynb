{
 "cells": [
  {
   "cell_type": "code",
   "execution_count": null,
   "metadata": {},
   "outputs": [],
   "source": [
    "phnsrv3path = \"/media/phonetics/git/abair-gitea/abair-software/nnmnkwii_tests/data/pmg_ga_demo/label_state_align/\""
   ]
  },
  {
   "cell_type": "code",
   "execution_count": 1,
   "metadata": {},
   "outputs": [],
   "source": [
    "from pathlib import Path\n",
    "LABELS_PATH = Path(\"/media/storage/harald/git/abair-gitea/abair-software/nnmnkwii_tests/data/pmg_ga_demo/label_state_align\")"
   ]
  },
  {
   "cell_type": "code",
   "execution_count": 2,
   "metadata": {},
   "outputs": [],
   "source": [
    "label_files = {a.stem: a for a in LABELS_PATH.glob('*.lab')}"
   ]
  },
  {
   "cell_type": "code",
   "execution_count": 3,
   "metadata": {},
   "outputs": [
    {
     "data": {
      "text/plain": [
       "{'MI0001RCPiarsachBairbre_0010': PosixPath('/media/storage/harald/git/abair-gitea/abair-software/nnmnkwii_tests/data/pmg_ga_demo/label_state_align/MI0001RCPiarsachBairbre_0010.lab'),\n",
       " 'MI0001RCPiarsachBairbre_0091': PosixPath('/media/storage/harald/git/abair-gitea/abair-software/nnmnkwii_tests/data/pmg_ga_demo/label_state_align/MI0001RCPiarsachBairbre_0091.lab'),\n",
       " 'MI0001RCPiarsachBairbre_0017': PosixPath('/media/storage/harald/git/abair-gitea/abair-software/nnmnkwii_tests/data/pmg_ga_demo/label_state_align/MI0001RCPiarsachBairbre_0017.lab'),\n",
       " 'MI0001RCPiarsachBairbre_0088': PosixPath('/media/storage/harald/git/abair-gitea/abair-software/nnmnkwii_tests/data/pmg_ga_demo/label_state_align/MI0001RCPiarsachBairbre_0088.lab'),\n",
       " 'MI0001RCPiarsachBairbre_0071': PosixPath('/media/storage/harald/git/abair-gitea/abair-software/nnmnkwii_tests/data/pmg_ga_demo/label_state_align/MI0001RCPiarsachBairbre_0071.lab'),\n",
       " 'MI0001RCPiarsachBairbre_0099': PosixPath('/media/storage/harald/git/abair-gitea/abair-software/nnmnkwii_tests/data/pmg_ga_demo/label_state_align/MI0001RCPiarsachBairbre_0099.lab'),\n",
       " 'MI0001RCPiarsachBairbre_0034': PosixPath('/media/storage/harald/git/abair-gitea/abair-software/nnmnkwii_tests/data/pmg_ga_demo/label_state_align/MI0001RCPiarsachBairbre_0034.lab'),\n",
       " 'MI0001RCPiarsachBairbre_0050': PosixPath('/media/storage/harald/git/abair-gitea/abair-software/nnmnkwii_tests/data/pmg_ga_demo/label_state_align/MI0001RCPiarsachBairbre_0050.lab'),\n",
       " 'MI0001RCPiarsachBairbre_0096': PosixPath('/media/storage/harald/git/abair-gitea/abair-software/nnmnkwii_tests/data/pmg_ga_demo/label_state_align/MI0001RCPiarsachBairbre_0096.lab'),\n",
       " 'MI0001RCPiarsachBairbre_0009': PosixPath('/media/storage/harald/git/abair-gitea/abair-software/nnmnkwii_tests/data/pmg_ga_demo/label_state_align/MI0001RCPiarsachBairbre_0009.lab'),\n",
       " 'MI0001RCPiarsachBairbre_0098': PosixPath('/media/storage/harald/git/abair-gitea/abair-software/nnmnkwii_tests/data/pmg_ga_demo/label_state_align/MI0001RCPiarsachBairbre_0098.lab'),\n",
       " 'MI0001RCPiarsachBairbre_0094': PosixPath('/media/storage/harald/git/abair-gitea/abair-software/nnmnkwii_tests/data/pmg_ga_demo/label_state_align/MI0001RCPiarsachBairbre_0094.lab'),\n",
       " 'MI0001RCPiarsachBairbre_0049': PosixPath('/media/storage/harald/git/abair-gitea/abair-software/nnmnkwii_tests/data/pmg_ga_demo/label_state_align/MI0001RCPiarsachBairbre_0049.lab'),\n",
       " 'MI0001RCPiarsachBairbre_0068': PosixPath('/media/storage/harald/git/abair-gitea/abair-software/nnmnkwii_tests/data/pmg_ga_demo/label_state_align/MI0001RCPiarsachBairbre_0068.lab'),\n",
       " 'MI0001RCPiarsachBairbre_0040': PosixPath('/media/storage/harald/git/abair-gitea/abair-software/nnmnkwii_tests/data/pmg_ga_demo/label_state_align/MI0001RCPiarsachBairbre_0040.lab'),\n",
       " 'MI0001RCPiarsachBairbre_0080': PosixPath('/media/storage/harald/git/abair-gitea/abair-software/nnmnkwii_tests/data/pmg_ga_demo/label_state_align/MI0001RCPiarsachBairbre_0080.lab'),\n",
       " 'MI0001RCPiarsachBairbre_0048': PosixPath('/media/storage/harald/git/abair-gitea/abair-software/nnmnkwii_tests/data/pmg_ga_demo/label_state_align/MI0001RCPiarsachBairbre_0048.lab'),\n",
       " 'MI0001RCPiarsachBairbre_0052': PosixPath('/media/storage/harald/git/abair-gitea/abair-software/nnmnkwii_tests/data/pmg_ga_demo/label_state_align/MI0001RCPiarsachBairbre_0052.lab'),\n",
       " 'MI0001RCPiarsachBairbre_0067': PosixPath('/media/storage/harald/git/abair-gitea/abair-software/nnmnkwii_tests/data/pmg_ga_demo/label_state_align/MI0001RCPiarsachBairbre_0067.lab'),\n",
       " 'MI0001RCPiarsachBairbre_0079': PosixPath('/media/storage/harald/git/abair-gitea/abair-software/nnmnkwii_tests/data/pmg_ga_demo/label_state_align/MI0001RCPiarsachBairbre_0079.lab'),\n",
       " 'MI0001RCPiarsachBairbre_0092': PosixPath('/media/storage/harald/git/abair-gitea/abair-software/nnmnkwii_tests/data/pmg_ga_demo/label_state_align/MI0001RCPiarsachBairbre_0092.lab'),\n",
       " 'MI0001RCPiarsachBairbre_0082': PosixPath('/media/storage/harald/git/abair-gitea/abair-software/nnmnkwii_tests/data/pmg_ga_demo/label_state_align/MI0001RCPiarsachBairbre_0082.lab'),\n",
       " 'MI0001RCPiarsachBairbre_0097': PosixPath('/media/storage/harald/git/abair-gitea/abair-software/nnmnkwii_tests/data/pmg_ga_demo/label_state_align/MI0001RCPiarsachBairbre_0097.lab'),\n",
       " 'MI0001RCPiarsachBairbre_0015': PosixPath('/media/storage/harald/git/abair-gitea/abair-software/nnmnkwii_tests/data/pmg_ga_demo/label_state_align/MI0001RCPiarsachBairbre_0015.lab'),\n",
       " 'MI0001RCPiarsachBairbre_0095': PosixPath('/media/storage/harald/git/abair-gitea/abair-software/nnmnkwii_tests/data/pmg_ga_demo/label_state_align/MI0001RCPiarsachBairbre_0095.lab'),\n",
       " 'MI0001RCPiarsachBairbre_0019': PosixPath('/media/storage/harald/git/abair-gitea/abair-software/nnmnkwii_tests/data/pmg_ga_demo/label_state_align/MI0001RCPiarsachBairbre_0019.lab'),\n",
       " 'MI0001RCPiarsachBairbre_0011': PosixPath('/media/storage/harald/git/abair-gitea/abair-software/nnmnkwii_tests/data/pmg_ga_demo/label_state_align/MI0001RCPiarsachBairbre_0011.lab'),\n",
       " 'MI0001RCPiarsachBairbre_0090': PosixPath('/media/storage/harald/git/abair-gitea/abair-software/nnmnkwii_tests/data/pmg_ga_demo/label_state_align/MI0001RCPiarsachBairbre_0090.lab'),\n",
       " 'MI0001RCPiarsachBairbre_0005': PosixPath('/media/storage/harald/git/abair-gitea/abair-software/nnmnkwii_tests/data/pmg_ga_demo/label_state_align/MI0001RCPiarsachBairbre_0005.lab'),\n",
       " 'MI0001RCPiarsachBairbre_0084': PosixPath('/media/storage/harald/git/abair-gitea/abair-software/nnmnkwii_tests/data/pmg_ga_demo/label_state_align/MI0001RCPiarsachBairbre_0084.lab'),\n",
       " 'MI0001RCPiarsachBairbre_0093': PosixPath('/media/storage/harald/git/abair-gitea/abair-software/nnmnkwii_tests/data/pmg_ga_demo/label_state_align/MI0001RCPiarsachBairbre_0093.lab'),\n",
       " 'MI0001RCPiarsachBairbre_0058': PosixPath('/media/storage/harald/git/abair-gitea/abair-software/nnmnkwii_tests/data/pmg_ga_demo/label_state_align/MI0001RCPiarsachBairbre_0058.lab'),\n",
       " 'MI0001RCPiarsachBairbre_0016': PosixPath('/media/storage/harald/git/abair-gitea/abair-software/nnmnkwii_tests/data/pmg_ga_demo/label_state_align/MI0001RCPiarsachBairbre_0016.lab'),\n",
       " 'MI0001RCPiarsachBairbre_0012': PosixPath('/media/storage/harald/git/abair-gitea/abair-software/nnmnkwii_tests/data/pmg_ga_demo/label_state_align/MI0001RCPiarsachBairbre_0012.lab'),\n",
       " 'MI0001RCPiarsachBairbre_0033': PosixPath('/media/storage/harald/git/abair-gitea/abair-software/nnmnkwii_tests/data/pmg_ga_demo/label_state_align/MI0001RCPiarsachBairbre_0033.lab'),\n",
       " 'MI0001RCPiarsachBairbre_0055': PosixPath('/media/storage/harald/git/abair-gitea/abair-software/nnmnkwii_tests/data/pmg_ga_demo/label_state_align/MI0001RCPiarsachBairbre_0055.lab'),\n",
       " 'MI0001RCPiarsachBairbre_0020': PosixPath('/media/storage/harald/git/abair-gitea/abair-software/nnmnkwii_tests/data/pmg_ga_demo/label_state_align/MI0001RCPiarsachBairbre_0020.lab'),\n",
       " 'MI0001RCPiarsachBairbre_0037': PosixPath('/media/storage/harald/git/abair-gitea/abair-software/nnmnkwii_tests/data/pmg_ga_demo/label_state_align/MI0001RCPiarsachBairbre_0037.lab'),\n",
       " 'MI0001RCPiarsachBairbre_0060': PosixPath('/media/storage/harald/git/abair-gitea/abair-software/nnmnkwii_tests/data/pmg_ga_demo/label_state_align/MI0001RCPiarsachBairbre_0060.lab'),\n",
       " 'MI0001RCPiarsachBairbre_0057': PosixPath('/media/storage/harald/git/abair-gitea/abair-software/nnmnkwii_tests/data/pmg_ga_demo/label_state_align/MI0001RCPiarsachBairbre_0057.lab'),\n",
       " 'MI0001RCPiarsachBairbre_0087': PosixPath('/media/storage/harald/git/abair-gitea/abair-software/nnmnkwii_tests/data/pmg_ga_demo/label_state_align/MI0001RCPiarsachBairbre_0087.lab'),\n",
       " 'MI0001RCPiarsachBairbre_0035': PosixPath('/media/storage/harald/git/abair-gitea/abair-software/nnmnkwii_tests/data/pmg_ga_demo/label_state_align/MI0001RCPiarsachBairbre_0035.lab'),\n",
       " 'MI0001RCPiarsachBairbre_0008': PosixPath('/media/storage/harald/git/abair-gitea/abair-software/nnmnkwii_tests/data/pmg_ga_demo/label_state_align/MI0001RCPiarsachBairbre_0008.lab'),\n",
       " 'MI0001RCPiarsachBairbre_0072': PosixPath('/media/storage/harald/git/abair-gitea/abair-software/nnmnkwii_tests/data/pmg_ga_demo/label_state_align/MI0001RCPiarsachBairbre_0072.lab'),\n",
       " 'MI0001RCPiarsachBairbre_0051': PosixPath('/media/storage/harald/git/abair-gitea/abair-software/nnmnkwii_tests/data/pmg_ga_demo/label_state_align/MI0001RCPiarsachBairbre_0051.lab'),\n",
       " 'MI0001RCPiarsachBairbre_0032': PosixPath('/media/storage/harald/git/abair-gitea/abair-software/nnmnkwii_tests/data/pmg_ga_demo/label_state_align/MI0001RCPiarsachBairbre_0032.lab'),\n",
       " 'MI0001RCPiarsachBairbre_0041': PosixPath('/media/storage/harald/git/abair-gitea/abair-software/nnmnkwii_tests/data/pmg_ga_demo/label_state_align/MI0001RCPiarsachBairbre_0041.lab'),\n",
       " 'MI0001RCPiarsachBairbre_0043': PosixPath('/media/storage/harald/git/abair-gitea/abair-software/nnmnkwii_tests/data/pmg_ga_demo/label_state_align/MI0001RCPiarsachBairbre_0043.lab'),\n",
       " 'MI0001RCPiarsachBairbre_0083': PosixPath('/media/storage/harald/git/abair-gitea/abair-software/nnmnkwii_tests/data/pmg_ga_demo/label_state_align/MI0001RCPiarsachBairbre_0083.lab'),\n",
       " 'MI0001RCPiarsachBairbre_0029': PosixPath('/media/storage/harald/git/abair-gitea/abair-software/nnmnkwii_tests/data/pmg_ga_demo/label_state_align/MI0001RCPiarsachBairbre_0029.lab'),\n",
       " 'MI0001RCPiarsachBairbre_0039': PosixPath('/media/storage/harald/git/abair-gitea/abair-software/nnmnkwii_tests/data/pmg_ga_demo/label_state_align/MI0001RCPiarsachBairbre_0039.lab'),\n",
       " 'MI0001RCPiarsachBairbre_0077': PosixPath('/media/storage/harald/git/abair-gitea/abair-software/nnmnkwii_tests/data/pmg_ga_demo/label_state_align/MI0001RCPiarsachBairbre_0077.lab'),\n",
       " 'MI0001RCPiarsachBairbre_0070': PosixPath('/media/storage/harald/git/abair-gitea/abair-software/nnmnkwii_tests/data/pmg_ga_demo/label_state_align/MI0001RCPiarsachBairbre_0070.lab'),\n",
       " 'MI0001RCPiarsachBairbre_0002': PosixPath('/media/storage/harald/git/abair-gitea/abair-software/nnmnkwii_tests/data/pmg_ga_demo/label_state_align/MI0001RCPiarsachBairbre_0002.lab'),\n",
       " 'MI0001RCPiarsachBairbre_0038': PosixPath('/media/storage/harald/git/abair-gitea/abair-software/nnmnkwii_tests/data/pmg_ga_demo/label_state_align/MI0001RCPiarsachBairbre_0038.lab'),\n",
       " 'MI0001RCPiarsachBairbre_0027': PosixPath('/media/storage/harald/git/abair-gitea/abair-software/nnmnkwii_tests/data/pmg_ga_demo/label_state_align/MI0001RCPiarsachBairbre_0027.lab'),\n",
       " 'MI0001RCPiarsachBairbre_0046': PosixPath('/media/storage/harald/git/abair-gitea/abair-software/nnmnkwii_tests/data/pmg_ga_demo/label_state_align/MI0001RCPiarsachBairbre_0046.lab'),\n",
       " 'MI0001RCPiarsachBairbre_0003': PosixPath('/media/storage/harald/git/abair-gitea/abair-software/nnmnkwii_tests/data/pmg_ga_demo/label_state_align/MI0001RCPiarsachBairbre_0003.lab'),\n",
       " 'MI0001RCPiarsachBairbre_0065': PosixPath('/media/storage/harald/git/abair-gitea/abair-software/nnmnkwii_tests/data/pmg_ga_demo/label_state_align/MI0001RCPiarsachBairbre_0065.lab'),\n",
       " 'MI0001RCPiarsachBairbre_0089': PosixPath('/media/storage/harald/git/abair-gitea/abair-software/nnmnkwii_tests/data/pmg_ga_demo/label_state_align/MI0001RCPiarsachBairbre_0089.lab'),\n",
       " 'MI0001RCPiarsachBairbre_0021': PosixPath('/media/storage/harald/git/abair-gitea/abair-software/nnmnkwii_tests/data/pmg_ga_demo/label_state_align/MI0001RCPiarsachBairbre_0021.lab'),\n",
       " 'MI0001RCPiarsachBairbre_0078': PosixPath('/media/storage/harald/git/abair-gitea/abair-software/nnmnkwii_tests/data/pmg_ga_demo/label_state_align/MI0001RCPiarsachBairbre_0078.lab'),\n",
       " 'MI0001RCPiarsachBairbre_0074': PosixPath('/media/storage/harald/git/abair-gitea/abair-software/nnmnkwii_tests/data/pmg_ga_demo/label_state_align/MI0001RCPiarsachBairbre_0074.lab'),\n",
       " 'MI0001RCPiarsachBairbre_0045': PosixPath('/media/storage/harald/git/abair-gitea/abair-software/nnmnkwii_tests/data/pmg_ga_demo/label_state_align/MI0001RCPiarsachBairbre_0045.lab'),\n",
       " 'MI0001RCPiarsachBairbre_0064': PosixPath('/media/storage/harald/git/abair-gitea/abair-software/nnmnkwii_tests/data/pmg_ga_demo/label_state_align/MI0001RCPiarsachBairbre_0064.lab'),\n",
       " 'MI0001RCPiarsachBairbre_0063': PosixPath('/media/storage/harald/git/abair-gitea/abair-software/nnmnkwii_tests/data/pmg_ga_demo/label_state_align/MI0001RCPiarsachBairbre_0063.lab'),\n",
       " 'MI0001RCPiarsachBairbre_0001': PosixPath('/media/storage/harald/git/abair-gitea/abair-software/nnmnkwii_tests/data/pmg_ga_demo/label_state_align/MI0001RCPiarsachBairbre_0001.lab'),\n",
       " 'MI0001RCPiarsachBairbre_0069': PosixPath('/media/storage/harald/git/abair-gitea/abair-software/nnmnkwii_tests/data/pmg_ga_demo/label_state_align/MI0001RCPiarsachBairbre_0069.lab'),\n",
       " 'MI0001RCPiarsachBairbre_0053': PosixPath('/media/storage/harald/git/abair-gitea/abair-software/nnmnkwii_tests/data/pmg_ga_demo/label_state_align/MI0001RCPiarsachBairbre_0053.lab'),\n",
       " 'MI0001RCPiarsachBairbre_0024': PosixPath('/media/storage/harald/git/abair-gitea/abair-software/nnmnkwii_tests/data/pmg_ga_demo/label_state_align/MI0001RCPiarsachBairbre_0024.lab'),\n",
       " 'MI0001RCPiarsachBairbre_0059': PosixPath('/media/storage/harald/git/abair-gitea/abair-software/nnmnkwii_tests/data/pmg_ga_demo/label_state_align/MI0001RCPiarsachBairbre_0059.lab'),\n",
       " 'MI0001RCPiarsachBairbre_0056': PosixPath('/media/storage/harald/git/abair-gitea/abair-software/nnmnkwii_tests/data/pmg_ga_demo/label_state_align/MI0001RCPiarsachBairbre_0056.lab'),\n",
       " 'MI0001RCPiarsachBairbre_0073': PosixPath('/media/storage/harald/git/abair-gitea/abair-software/nnmnkwii_tests/data/pmg_ga_demo/label_state_align/MI0001RCPiarsachBairbre_0073.lab'),\n",
       " 'MI0001RCPiarsachBairbre_0054': PosixPath('/media/storage/harald/git/abair-gitea/abair-software/nnmnkwii_tests/data/pmg_ga_demo/label_state_align/MI0001RCPiarsachBairbre_0054.lab'),\n",
       " 'MI0001RCPiarsachBairbre_0044': PosixPath('/media/storage/harald/git/abair-gitea/abair-software/nnmnkwii_tests/data/pmg_ga_demo/label_state_align/MI0001RCPiarsachBairbre_0044.lab'),\n",
       " 'MI0001RCPiarsachBairbre_0023': PosixPath('/media/storage/harald/git/abair-gitea/abair-software/nnmnkwii_tests/data/pmg_ga_demo/label_state_align/MI0001RCPiarsachBairbre_0023.lab'),\n",
       " 'MI0001RCPiarsachBairbre_0085': PosixPath('/media/storage/harald/git/abair-gitea/abair-software/nnmnkwii_tests/data/pmg_ga_demo/label_state_align/MI0001RCPiarsachBairbre_0085.lab'),\n",
       " 'MI0001RCPiarsachBairbre_0086': PosixPath('/media/storage/harald/git/abair-gitea/abair-software/nnmnkwii_tests/data/pmg_ga_demo/label_state_align/MI0001RCPiarsachBairbre_0086.lab'),\n",
       " 'MI0001RCPiarsachBairbre_0036': PosixPath('/media/storage/harald/git/abair-gitea/abair-software/nnmnkwii_tests/data/pmg_ga_demo/label_state_align/MI0001RCPiarsachBairbre_0036.lab'),\n",
       " 'MI0001RCPiarsachBairbre_0030': PosixPath('/media/storage/harald/git/abair-gitea/abair-software/nnmnkwii_tests/data/pmg_ga_demo/label_state_align/MI0001RCPiarsachBairbre_0030.lab'),\n",
       " 'MI0001RCPiarsachBairbre_0022': PosixPath('/media/storage/harald/git/abair-gitea/abair-software/nnmnkwii_tests/data/pmg_ga_demo/label_state_align/MI0001RCPiarsachBairbre_0022.lab'),\n",
       " 'MI0001RCPiarsachBairbre_0076': PosixPath('/media/storage/harald/git/abair-gitea/abair-software/nnmnkwii_tests/data/pmg_ga_demo/label_state_align/MI0001RCPiarsachBairbre_0076.lab'),\n",
       " 'MI0001RCPiarsachBairbre_0031': PosixPath('/media/storage/harald/git/abair-gitea/abair-software/nnmnkwii_tests/data/pmg_ga_demo/label_state_align/MI0001RCPiarsachBairbre_0031.lab'),\n",
       " 'MI0001RCPiarsachBairbre_0025': PosixPath('/media/storage/harald/git/abair-gitea/abair-software/nnmnkwii_tests/data/pmg_ga_demo/label_state_align/MI0001RCPiarsachBairbre_0025.lab'),\n",
       " 'MI0001RCPiarsachBairbre_0066': PosixPath('/media/storage/harald/git/abair-gitea/abair-software/nnmnkwii_tests/data/pmg_ga_demo/label_state_align/MI0001RCPiarsachBairbre_0066.lab'),\n",
       " 'MI0001RCPiarsachBairbre_0042': PosixPath('/media/storage/harald/git/abair-gitea/abair-software/nnmnkwii_tests/data/pmg_ga_demo/label_state_align/MI0001RCPiarsachBairbre_0042.lab'),\n",
       " 'MI0001RCPiarsachBairbre_0014': PosixPath('/media/storage/harald/git/abair-gitea/abair-software/nnmnkwii_tests/data/pmg_ga_demo/label_state_align/MI0001RCPiarsachBairbre_0014.lab'),\n",
       " 'MI0001RCPiarsachBairbre_0004': PosixPath('/media/storage/harald/git/abair-gitea/abair-software/nnmnkwii_tests/data/pmg_ga_demo/label_state_align/MI0001RCPiarsachBairbre_0004.lab'),\n",
       " 'MI0001RCPiarsachBairbre_0028': PosixPath('/media/storage/harald/git/abair-gitea/abair-software/nnmnkwii_tests/data/pmg_ga_demo/label_state_align/MI0001RCPiarsachBairbre_0028.lab'),\n",
       " 'MI0001RCPiarsachBairbre_0061': PosixPath('/media/storage/harald/git/abair-gitea/abair-software/nnmnkwii_tests/data/pmg_ga_demo/label_state_align/MI0001RCPiarsachBairbre_0061.lab'),\n",
       " 'MI0001RCPiarsachBairbre_0026': PosixPath('/media/storage/harald/git/abair-gitea/abair-software/nnmnkwii_tests/data/pmg_ga_demo/label_state_align/MI0001RCPiarsachBairbre_0026.lab')}"
      ]
     },
     "execution_count": 3,
     "metadata": {},
     "output_type": "execute_result"
    }
   ],
   "source": [
    "label_files"
   ]
  }
 ],
 "metadata": {
  "kernelspec": {
   "display_name": "Python 3",
   "language": "python",
   "name": "python3"
  },
  "language_info": {
   "codemirror_mode": {
    "name": "ipython",
    "version": 3
   },
   "file_extension": ".py",
   "mimetype": "text/x-python",
   "name": "python",
   "nbconvert_exporter": "python",
   "pygments_lexer": "ipython3",
   "version": "3.6.9"
  }
 },
 "nbformat": 4,
 "nbformat_minor": 2
}
