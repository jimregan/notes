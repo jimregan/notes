{
 "cells": [
  {
   "cell_type": "code",
   "execution_count": 1,
   "metadata": {},
   "outputs": [],
   "source": [
    "import IPython"
   ]
  },
  {
   "cell_type": "markdown",
   "metadata": {},
   "source": [
    "```\n",
    "0018\téirigh\t<igh> -> /ə/\n",
    "0020\tthosaigh\t<igh> -> /ə/\n",
    "0040\td'imigh\t<igh> -> /ə/\n",
    "0041\tShuigh\t<igh> -> /i:/\n",
    "0043\tDhúisigh\t<igh> -> /ə/\n",
    "0044\tchuaigh\t<igh> -> /ə/\n",
    "0050\td'imigh\t<igh> -> /ə/\n",
    "0079\tBreathnaigh\t<igh> -> /ə/\n",
    "0092\tchuimhnigh\t<igh> -> /ə/\n",
    "0094\tD'ísligh\t<igh> -> /ə/\n",
    "0107\téadaigh\t<igh> -> /ə/\n",
    "0108\tchuaigh\t<igh> -> /ə/\n",
    "0108\tthosaigh\t<igh> -> /ə/\n",
    "0122\tchuimhnigh\t<igh> -> /ə/\tx ii nj @\n",
    "0140\tShocraigh\t<igh> -> /ə/\n",
    "0143\td'éirigh\t<igh> -> /ə/\n",
    "0152\ttigh\t<igh> -> /i:/\n",
    "0167\tndóigh\tnn uu\n",
    "0180\tGhlaoigh\t<igh> -> /i:/\n",
    "0180\tistigh\t<igh> -> /ə/\n",
    "0183\tbhailigh\t<igh> -> /ə/\n",
    "0186\tCorraigh\t<igh> -> /ə/\n",
    "0186\tistigh\t<igh> -> /ə/\n",
    "0206\tdóigh\t<igh> -> /ə/\n",
    "0231\tdóigh\t<igh> -> /ə/\t[ɪ]\n",
    "0234\tchompánaigh\t<igh> -> /i:/\n",
    "0237\tairigh\t<igh> -> /ə/\n",
    "0248\tndóigh\tnn uu\n",
    "0258\tdóigh\t<igh> -> /i:/\n",
    "0261\tamuigh\t(@) m u\n",
    "0267\td'éirigh\t<igh> -> /ə/\n",
    "0267\torlaigh\t<igh> -> /i:/\n",
    "0268\tdhúisigh\t<igh> -> /ə/\n",
    "0269\tchorraigh\t<igh> -> /ə/\n",
    "0272\tamuigh\t@ m u\n",
    "0281\ttharrthaigh\t<igh> -> /ə/\n",
    "0284\tndóigh\tnn uu\n",
    "0286\td'éirigh\t<igh> -> /ə/\n",
    "0287\tbrionglóidigh\t<igh> -> /i:/\n",
    "0288\tMhothaigh\t<igh> -> /ə/\n",
    "0289\td'eirigh\t<igh> -> /ə/\n",
    "0295\tBhreathnaigh\t<igh> -> /ə/\n",
    "0303\tChuaigh\t<igh> -> /ə/\n",
    "0321\tghlaoigh\t<igh> -> /i:/\n",
    "0327\tchoinnigh\t<igh> -> /ə/\n",
    "0343\tráinigh\t<igh> -> /ə/\n",
    "0351\tamuigh\t@ m u\n",
    "0354\tchuaigh\t<igh> -> /ə/\n",
    "0366\tamuigh\t@ m u\n",
    "0367\tamuigh\t@ m u\n",
    "0368\tamuigh\t@ m u\n",
    "0369\td'imigh\t<igh> -> /ə/\n",
    "0370\tndóigh\tnn uu\n",
    "0371\td'imigh\t<igh> -> /ə/\n",
    "0373\td'imigh\t<igh> -> /ə/\n",
    "0400\td'éirigh\t<igh> -> /ə/\n",
    "0404\tsuigh\t<igh> -> /i:/\n",
    "0405\tshuigh\t<igh> -> /i:/\n",
    "0407\téadaigh\t<igh> -> /ə/\n",
    "0409\tnigh\t<igh> -> /i:/\n",
    "0422\tshuigh\t<igh> -> /i:/\n",
    "0423\tthosaigh\t<igh> -> /ə/\n",
    "0428\td'fhuadaigh\t<igh> -> /ə/\n",
    "0435\tghlaoigh\t<igh> -> /i:/\n",
    "0436\tghlaoigh\t<igh> -> /i:/\n",
    "0449\td'éirigh\t<igh> -> /ə/\n",
    "0453\tChuaigh\t<igh> -> /ə/\n",
    "0461\ttigh\t<igh> -> /i:/\n",
    "0477\tmharaigh\t<igh> -> /ə/\n",
    "0480\tmharaigh\t<igh> -> /ə/\n",
    "0484\td'éirigh\t<igh> -> /ə/\n",
    "0499\tteallaigh\t<igh> -> /i:/\n",
    "0502\tNeachtanaigh\t<igh> -> /i:/\n",
    "0506\tghlaoigh\t<igh> -> /i:/\n",
    "0527\tThiontaigh\t<igh> -> /ə/\n",
    "0531\tChuaigh\t<igh> -> /ə/\n",
    "0542\tairigh\t<igh> -> /ə/\n",
    "0544\tChuaigh\t<igh> -> /ə/\n",
    "0546\tCheistigh\t<igh> -> /ə/\n",
    "0548\tChuardaigh\t<igh> -> /ə/\n",
    "0568\tD'imigh\t<igh> -> /ə/\n",
    "0572\tLuigh\t<igh> -> /i:/\n",
    "0581\tmharaigh\t<igh> -> /ə/\n",
    "0587\td'éirigh\t<igh> -> /ə/\n",
    "0612\tmhionnaigh\t<igh> -> /ə/\n",
    "0615\tmhionnaigh\t<igh> -> /ə/\n",
    "0616\tmhionnaigh\t<igh> -> /ə/\n",
    "0628\tmhionnaigh\t<igh> -> /ə/\n",
    "0629\tmhionnaigh\t<igh> -> /ə/\n",
    "0642\tChuaigh\t<igh> -> /ə/\n",
    "0647\tChuaigh\t<igh> -> /ə/\n",
    "0649\tDheasaigh\t<igh> -> /ə/\n",
    "0650\tistigh\t<igh> -> /ə/\n",
    "0650\tamuigh\t@ m u\n",
    "0652\téadaigh\t<igh> -> /i:/\n",
    "0652\tdhathaigh\t<igh> -> /ə/\n",
    "0664\tDomhnaigh\t<igh> -> /ə/\n",
    "0671\tndóigh\tnn uu\n",
    "0675\téirigh\t<igh> -> /ə/\n",
    "0678\tChuaigh\t<igh> -> /ə/\n",
    "0678\tshuigh\t<igh> -> /i:/\n",
    "```"
   ]
  },
  {
   "cell_type": "code",
   "execution_count": 10,
   "metadata": {},
   "outputs": [],
   "source": [
    "ids = \"0690 0691 0701 0704 0707 0711 0715 0720 0724 0726 0728 0729 0736 0745 0746 0758 0760 0762 0772 0773 0805 0808 0822 1316 1325 1339 1369 1373 1383 1395 1408 1417 1427 1436 1439 1440 1442 1443 1449 1455 1458 1461 1464 1466 1467 1469 1474 1483 1486 1493 1497 1510 1511 1519 1527 1528 1537 1539 1540 1551 1554 1555 1556 1573 1577 1578 1581 1584 1586 1587 1588 1589 1599 1600 1601 1602 1605 1613 1619 1622 1627 1628 1630 1635 1639 1643 1647 1653 1654 1658 1661 1664 1667 1669 1670 1673 1674 1676 1678 1683 1690 1692 1704 1721 1724 1725 1730 1731 1737 1738 1745 1746 1749 1750 1752 1763 1769 1771 1775 1779 1787 1816 1825 1830 1832 1835 1838 1839 1840 1843 1844 1846 1867 1876 1877 1878 1881 1883 1884 1886 1893 1903 1907 1908 1910 1913 1920 1932 1950 1951 1952 1955 1989 1999 2001 2002 2003 2007 2010 2012 2022 2024 2028 2029 2030\""
   ]
  },
  {
   "cell_type": "code",
   "execution_count": 11,
   "metadata": {
    "scrolled": true
   },
   "outputs": [
    {
     "name": "stdout",
     "output_type": "stream",
     "text": [
      "165\n"
     ]
    }
   ],
   "source": [
    "idlist = ids.split(\" \")\n",
    "print(len(idlist))\n",
    "#for fid in idlist:\n",
    "#    print(fid + \"\\n\")\n",
    "#    !cat /home/jim/Playing/snc_ga_co/txt/SNC_Gearrscealta_an_Phiarsaigh_{fid}.txt\n",
    "#    IPython.display.display(IPython.display.Audio(f\"/home/jim/Playing/snc_ga_co/original_wav/SNC0001SNC_Gearrscealta_an_Phiarsaigh_{fid}.wav\"))"
   ]
  }
 ],
 "metadata": {
  "kernelspec": {
   "display_name": "Python 3",
   "language": "python",
   "name": "python3"
  },
  "language_info": {
   "codemirror_mode": {
    "name": "ipython",
    "version": 3
   },
   "file_extension": ".py",
   "mimetype": "text/x-python",
   "name": "python",
   "nbconvert_exporter": "python",
   "pygments_lexer": "ipython3",
   "version": "3.6.9"
  }
 },
 "nbformat": 4,
 "nbformat_minor": 2
}
