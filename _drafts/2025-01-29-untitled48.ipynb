{
  "nbformat": 4,
  "nbformat_minor": 0,
  "metadata": {
    "colab": {
      "provenance": []
    },
    "kernelspec": {
      "name": "python3",
      "display_name": "Python 3"
    },
    "language_info": {
      "name": "python"
    }
  },
  "cells": [
    {
      "cell_type": "code",
      "execution_count": 28,
      "metadata": {
        "colab": {
          "base_uri": "https://localhost:8080/",
          "height": 196
        },
        "id": "is_foPfawEuR",
        "outputId": "c5aaed47-a6f9-411e-c1ec-3333d97ebf12"
      },
      "outputs": [
        {
          "output_type": "display_data",
          "data": {
            "text/plain": [
              "<IPython.core.display.HTML object>"
            ],
            "text/html": [
              "\n",
              "    <style>\n",
              "        @keyframes fadeIn {\n",
              "            from { opacity: 0; }\n",
              "            to { opacity: 1; }\n",
              "        }\n",
              "        .phoneme-step {\n",
              "            font-size: 20px;\n",
              "            font-family: Arial, sans-serif;\n",
              "            margin-bottom: 10px;\n",
              "            animation: fadeIn 1s;\n",
              "        }\n",
              "        .hl_red {\n",
              "            color: red;\n",
              "            font-weight: bold;\n",
              "        }\n",
              "    </style>\n",
              "    <h1>Deletion</h1>\n",
              "    <span>&nbsp;</span>\n",
              "    <div id='phoneme-display'></div>\n",
              "    <script>\n",
              "        let steps = [[[\"find him\", \"/fa\\u026and h\\u026am/\"], [\"around this\", \"/\\u0259\\u0279a\\u028and \\u00f0\\u026as/\"], [\"let me\", \"/l\\u025bt mi:/\"]], [[\"fin<span class='hl_red'>d h</span>im\", \"/fa\\u026and h\\u026am/\"], [\"aroun<span class='hl_red'>d th</span>is\", \"/\\u0259\\u0279a\\u028and \\u00f0\\u026as/\"], [\"le<span class='hl_red'>t</span> me\", \"/l\\u025bt mi:/\"]], [[\"fin<span class='hl_red'>d h</span>im\", \"/fa\\u026an<span class='hl_red'>d h</span>\\u026am/\"], [\"aroun<span class='hl_red'>d th</span>is\", \"/\\u0259\\u0279a\\u028an<span class='hl_red'>d \\u00f0</span>\\u026as/\"], [\"le<span class='hl_red'>t</span> me\", \"/l\\u025b<span class='hl_red'>t</span> mi:/\"]], [[\"fin<span class='hl_red'>d h</span>im\", \"/fa\\u026an \\u026am/\"], [\"aroun<span class='hl_red'>d th</span>is\", \"/\\u0259\\u0279a\\u028an \\u026as/\"], [\"le<span class='hl_red'>t</span> me\", \"/l\\u025b mi:/\"]], [[\"fin<span class='hl_red'>d h</span>im\", \"/fa\\u026an\\u026am/\"], [\"aroun<span class='hl_red'>d th</span>is\", \"/\\u0259\\u0279a\\u028an\\u026as/\"], [\"le<span class='hl_red'>t</span> me\", \"/l\\u025bmi:/\"]], [[\"fin<span class='hl_red'>d h</span>im\", \"/fa\\u026a\\u027e\\u0303\\u026am/\"], [\"aroun<span class='hl_red'>d th</span>is\", \"/\\u0259\\u0279a\\u028a\\u027e\\u0303\\u026as/\"], [\"le<span class='hl_red'>t</span> me\", \"/l\\u025bmi:/\"]]];\n",
              "        let index = 0;\n",
              "        function updateDisplay() {\n",
              "            let displayDiv = document.getElementById('phoneme-display');\n",
              "            displayDiv.innerHTML = steps[index].map(pair => `<div class='phoneme-step'><strong>${pair[0]}</strong>: ${pair[1]}</div>`).join('');\n",
              "            if (index < 5) {\n",
              "                index = (index + 1) % steps.length;\n",
              "                setTimeout(updateDisplay, 2000);\n",
              "            }\n",
              "        }\n",
              "        updateDisplay();\n",
              "    </script>\n",
              "    "
            ]
          },
          "metadata": {}
        }
      ],
      "source": [
        "from IPython.core.display import display, HTML\n",
        "import json\n",
        "\n",
        "# Define the phonetic transformation steps\n",
        "modifications = [\n",
        "    [(\"find him\", \"/faɪnd hɪm/\"),\n",
        "     (\"around this\", \"/əɹaʊnd ðɪs/\"),\n",
        "     (\"let me\", \"/lɛt mi:/\")],\n",
        "    [(\"fin<span class='hl_red'>d h</span>im\", \"/faɪnd hɪm/\"),\n",
        "     (\"aroun<span class='hl_red'>d th</span>is\", \"/əɹaʊnd ðɪs/\"),\n",
        "     (\"le<span class='hl_red'>t</span> me\", \"/lɛt mi:/\")],\n",
        "    [(\"fin<span class='hl_red'>d h</span>im\", \"/faɪn<span class='hl_red'>d h</span>ɪm/\"),\n",
        "     (\"aroun<span class='hl_red'>d th</span>is\", \"/əɹaʊn<span class='hl_red'>d ð</span>ɪs/\"),\n",
        "     (\"le<span class='hl_red'>t</span> me\", \"/lɛ<span class='hl_red'>t</span> mi:/\")],\n",
        "    [(\"fin<span class='hl_red'>d h</span>im\", \"/faɪn ɪm/\"),\n",
        "     (\"aroun<span class='hl_red'>d th</span>is\", \"/əɹaʊn ɪs/\"),\n",
        "     (\"le<span class='hl_red'>t</span> me\", \"/lɛ mi:/\")],\n",
        "    [(\"fin<span class='hl_red'>d h</span>im\", \"/faɪnɪm/\"),\n",
        "     (\"aroun<span class='hl_red'>d th</span>is\", \"/əɹaʊnɪs/\"),\n",
        "     (\"le<span class='hl_red'>t</span> me\", \"/lɛmi:/\")],\n",
        "    [(\"fin<span class='hl_red'>d h</span>im\", \"/faɪɾ̃ɪm/\"),\n",
        "     (\"aroun<span class='hl_red'>d th</span>is\", \"/əɹaʊɾ̃ɪs/\"),\n",
        "     (\"le<span class='hl_red'>t</span> me\", \"/lɛmi:/\")]\n",
        "]\n",
        "\n",
        "# Function to render animation in Jupyter Notebook\n",
        "def render_animation():\n",
        "    steps_json = json.dumps(modifications)\n",
        "    html_template = f\"\"\"\n",
        "    <style>\n",
        "        @keyframes fadeIn {{\n",
        "            from {{ opacity: 0; }}\n",
        "            to {{ opacity: 1; }}\n",
        "        }}\n",
        "        .phoneme-step {{\n",
        "            font-size: 20px;\n",
        "            font-family: Arial, sans-serif;\n",
        "            margin-bottom: 10px;\n",
        "            animation: fadeIn 1s;\n",
        "        }}\n",
        "        .hl_red {{\n",
        "            color: red;\n",
        "            font-weight: bold;\n",
        "        }}\n",
        "    </style>\n",
        "    <h1>Deletion</h1>\n",
        "    <span>&nbsp;</span>\n",
        "    <div id='phoneme-display'></div>\n",
        "    <script>\n",
        "        let steps = {steps_json};\n",
        "        let index = 0;\n",
        "        function updateDisplay() {{\n",
        "            let displayDiv = document.getElementById('phoneme-display');\n",
        "            displayDiv.innerHTML = steps[index].map(pair => `<div class='phoneme-step'><strong>${{pair[0]}}</strong>: ${{pair[1]}}</div>`).join('');\n",
        "            if (index < 5) {{\n",
        "                index = (index + 1) % steps.length;\n",
        "                setTimeout(updateDisplay, 2000);\n",
        "            }}\n",
        "        }}\n",
        "        updateDisplay();\n",
        "    </script>\n",
        "    \"\"\"\n",
        "    display(HTML(html_template))\n",
        "\n",
        "# Call the function to display the animation in Jupyter Notebook\n",
        "render_animation()\n"
      ]
    }
  ]
}