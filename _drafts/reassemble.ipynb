{
 "cells": [
  {
   "cell_type": "code",
   "execution_count": 3,
   "metadata": {},
   "outputs": [],
   "source": [
    "import json\n",
    "from pathlib import Path"
   ]
  },
  {
   "cell_type": "code",
   "execution_count": 53,
   "metadata": {
    "tags": [
     "parameters"
    ]
   },
   "outputs": [],
   "source": [
    "JSONDIR = \"/tmp/reassemble/\"\n",
    "TSVDIR = \"/tmp/word-tsv\"\n",
    "TXTDIR = \"/Users/joregan/Playing/audio_clips/\""
   ]
  },
  {
   "cell_type": "code",
   "execution_count": 54,
   "metadata": {},
   "outputs": [],
   "source": [
    "JSONPATH = Path(JSONDIR)\n",
    "TSVPATH = Path(TSVDIR)\n",
    "TXTPATH = Path(TXTDIR)"
   ]
  },
  {
   "cell_type": "code",
   "execution_count": 35,
   "metadata": {},
   "outputs": [],
   "source": [
    "if not TSVPATH.is_dir():\n",
    "    TSVPATH.mkdir()"
   ]
  },
  {
   "cell_type": "code",
   "execution_count": 55,
   "metadata": {},
   "outputs": [],
   "source": [
    "def read_json(filename):\n",
    "    if type(filename) is Path:\n",
    "        filename = str(filename)\n",
    "    out = []\n",
    "    with open(filename) as inf:\n",
    "        data = json.load(inf)\n",
    "    for seg in data[\"segments\"]:\n",
    "        out.append({\n",
    "            \"start\": seg[\"start\"],\n",
    "            \"end\": seg[\"end\"],\n",
    "            \"word\": seg[\"text\"]\n",
    "        })\n",
    "    return out"
   ]
  },
  {
   "cell_type": "code",
   "execution_count": 56,
   "metadata": {},
   "outputs": [],
   "source": [
    "def reinterpret_json(filename: Path):\n",
    "    data = read_json(filename)\n",
    "    stem = filename.stem\n",
    "    orig_text = TXTPATH / f\"{stem}.txt\"\n",
    "    json_words = [x[\"word\"] for x in data]\n",
    "    json_txt = \" \".join(json_words)\n",
    "    with open(str(orig_text)) as inf:\n",
    "        text = inf.read().strip()\n",
    "    if json_txt != text:\n",
    "        print(text, json_txt)\n",
    "    "
   ]
  },
  {
   "cell_type": "code",
   "execution_count": 58,
   "metadata": {},
   "outputs": [
    {
     "ename": "FileNotFoundError",
     "evalue": "[Errno 2] No such file or directory: '/tmp/reassemble/hsi_7_0719_227_003_main_490060_501574.json'",
     "output_type": "error",
     "traceback": [
      "\u001b[0;31m---------------------------------------------------------------------------\u001b[0m",
      "\u001b[0;31mFileNotFoundError\u001b[0m                         Traceback (most recent call last)",
      "Cell \u001b[0;32mIn [58], line 1\u001b[0m\n\u001b[0;32m----> 1\u001b[0m \u001b[43mreinterpret_json\u001b[49m\u001b[43m(\u001b[49m\u001b[43mPath\u001b[49m\u001b[43m(\u001b[49m\u001b[38;5;124;43m\"\u001b[39;49m\u001b[38;5;124;43m/tmp/reassemble/hsi_7_0719_227_003_main_490060_501574.json\u001b[39;49m\u001b[38;5;124;43m\"\u001b[39;49m\u001b[43m)\u001b[49m\u001b[43m)\u001b[49m\n",
      "Cell \u001b[0;32mIn [56], line 2\u001b[0m, in \u001b[0;36mreinterpret_json\u001b[0;34m(filename)\u001b[0m\n\u001b[1;32m      1\u001b[0m \u001b[38;5;28;01mdef\u001b[39;00m \u001b[38;5;21mreinterpret_json\u001b[39m(filename: Path):\n\u001b[0;32m----> 2\u001b[0m     data \u001b[38;5;241m=\u001b[39m \u001b[43mread_json\u001b[49m\u001b[43m(\u001b[49m\u001b[43mfilename\u001b[49m\u001b[43m)\u001b[49m\n\u001b[1;32m      3\u001b[0m     stem \u001b[38;5;241m=\u001b[39m filename\u001b[38;5;241m.\u001b[39mstem\n\u001b[1;32m      4\u001b[0m     orig_text \u001b[38;5;241m=\u001b[39m TXTPATH \u001b[38;5;241m/\u001b[39m \u001b[38;5;124mf\u001b[39m\u001b[38;5;124m\"\u001b[39m\u001b[38;5;132;01m{\u001b[39;00mstem\u001b[38;5;132;01m}\u001b[39;00m\u001b[38;5;124m.txt\u001b[39m\u001b[38;5;124m\"\u001b[39m\n",
      "Cell \u001b[0;32mIn [55], line 5\u001b[0m, in \u001b[0;36mread_json\u001b[0;34m(filename)\u001b[0m\n\u001b[1;32m      3\u001b[0m     filename \u001b[38;5;241m=\u001b[39m \u001b[38;5;28mstr\u001b[39m(filename)\n\u001b[1;32m      4\u001b[0m out \u001b[38;5;241m=\u001b[39m []\n\u001b[0;32m----> 5\u001b[0m \u001b[38;5;28;01mwith\u001b[39;00m \u001b[38;5;28;43mopen\u001b[39;49m\u001b[43m(\u001b[49m\u001b[43mfilename\u001b[49m\u001b[43m)\u001b[49m \u001b[38;5;28;01mas\u001b[39;00m inf:\n\u001b[1;32m      6\u001b[0m     data \u001b[38;5;241m=\u001b[39m json\u001b[38;5;241m.\u001b[39mload(inf)\n\u001b[1;32m      7\u001b[0m \u001b[38;5;28;01mfor\u001b[39;00m seg \u001b[38;5;129;01min\u001b[39;00m data[\u001b[38;5;124m\"\u001b[39m\u001b[38;5;124msegments\u001b[39m\u001b[38;5;124m\"\u001b[39m]:\n",
      "File \u001b[0;32m~/opt/anaconda3/envs/hf/lib/python3.9/site-packages/IPython/core/interactiveshell.py:282\u001b[0m, in \u001b[0;36m_modified_open\u001b[0;34m(file, *args, **kwargs)\u001b[0m\n\u001b[1;32m    275\u001b[0m \u001b[38;5;28;01mif\u001b[39;00m file \u001b[38;5;129;01min\u001b[39;00m {\u001b[38;5;241m0\u001b[39m, \u001b[38;5;241m1\u001b[39m, \u001b[38;5;241m2\u001b[39m}:\n\u001b[1;32m    276\u001b[0m     \u001b[38;5;28;01mraise\u001b[39;00m \u001b[38;5;167;01mValueError\u001b[39;00m(\n\u001b[1;32m    277\u001b[0m         \u001b[38;5;124mf\u001b[39m\u001b[38;5;124m\"\u001b[39m\u001b[38;5;124mIPython won\u001b[39m\u001b[38;5;124m'\u001b[39m\u001b[38;5;124mt let you open fd=\u001b[39m\u001b[38;5;132;01m{\u001b[39;00mfile\u001b[38;5;132;01m}\u001b[39;00m\u001b[38;5;124m by default \u001b[39m\u001b[38;5;124m\"\u001b[39m\n\u001b[1;32m    278\u001b[0m         \u001b[38;5;124m\"\u001b[39m\u001b[38;5;124mas it is likely to crash IPython. If you know what you are doing, \u001b[39m\u001b[38;5;124m\"\u001b[39m\n\u001b[1;32m    279\u001b[0m         \u001b[38;5;124m\"\u001b[39m\u001b[38;5;124myou can use builtins\u001b[39m\u001b[38;5;124m'\u001b[39m\u001b[38;5;124m open.\u001b[39m\u001b[38;5;124m\"\u001b[39m\n\u001b[1;32m    280\u001b[0m     )\n\u001b[0;32m--> 282\u001b[0m \u001b[38;5;28;01mreturn\u001b[39;00m \u001b[43mio_open\u001b[49m\u001b[43m(\u001b[49m\u001b[43mfile\u001b[49m\u001b[43m,\u001b[49m\u001b[43m \u001b[49m\u001b[38;5;241;43m*\u001b[39;49m\u001b[43margs\u001b[49m\u001b[43m,\u001b[49m\u001b[43m \u001b[49m\u001b[38;5;241;43m*\u001b[39;49m\u001b[38;5;241;43m*\u001b[39;49m\u001b[43mkwargs\u001b[49m\u001b[43m)\u001b[49m\n",
      "\u001b[0;31mFileNotFoundError\u001b[0m: [Errno 2] No such file or directory: '/tmp/reassemble/hsi_7_0719_227_003_main_490060_501574.json'"
     ]
    }
   ],
   "source": [
    "reinterpret_json(Path(\"/tmp/reassemble/hsi_7_0719_227_003_main_490060_501574.json\"))"
   ]
  },
  {
   "cell_type": "code",
   "execution_count": 46,
   "metadata": {},
   "outputs": [],
   "source": [
    "filepieces = {}\n",
    "for file in JSONPATH.glob(\"*.json\"):\n",
    "    filestem = file.stem\n",
    "    if not filestem.startswith(\"hsi_\"):\n",
    "        continue\n",
    "    pieces = filestem.split(\"_\")\n",
    "    if len(pieces) != 8:\n",
    "        continue\n",
    "    base = \"_\".join(pieces[0:6])\n",
    "    if not base in filepieces:\n",
    "        filepieces[base] = []\n",
    "\n",
    "    startint = int(pieces[6])\n",
    "    endint = int(pieces[7])\n",
    "    words = read_json(file)\n",
    "    for word in words:\n",
    "        w = word[\"word\"].strip()\n",
    "        if w.startswith(\"[\") or w.endswith(\"]\"):\n",
    "            continue\n",
    "        start = (float(startint) / 1000.0) + word[\"start\"]\n",
    "        end = (float(startint) / 1000.0) + word[\"end\"]\n",
    "        filepieces[base].append((start, end, w))"
   ]
  },
  {
   "cell_type": "code",
   "execution_count": 51,
   "metadata": {},
   "outputs": [],
   "source": [
    "for piece in filepieces:\n",
    "    pieces = filepieces[piece]\n",
    "    pieces_sorted = sorted(pieces, key=lambda x: x[0])\n",
    "    outfile = TSVPATH / f\"{piece}.tsv\"\n",
    "    with open(outfile, \"w\") as of:\n",
    "        for item in pieces_sorted:\n",
    "            of.write(f\"{item[0]:.03f}\\t{item[1]:.03f}\\t{item[2]}\\n\")"
   ]
  }
 ],
 "metadata": {
  "kernelspec": {
   "display_name": "hf",
   "language": "python",
   "name": "python3"
  },
  "language_info": {
   "codemirror_mode": {
    "name": "ipython",
    "version": 3
   },
   "file_extension": ".py",
   "mimetype": "text/x-python",
   "name": "python",
   "nbconvert_exporter": "python",
   "pygments_lexer": "ipython3",
   "version": "3.9.15"
  }
 },
 "nbformat": 4,
 "nbformat_minor": 2
}
