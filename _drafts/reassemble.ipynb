{
 "cells": [
  {
   "cell_type": "code",
   "execution_count": 3,
   "metadata": {},
   "outputs": [],
   "source": [
    "import json\n",
    "from pathlib import Path"
   ]
  },
  {
   "cell_type": "code",
   "execution_count": 33,
   "metadata": {
    "tags": [
     "parameters"
    ]
   },
   "outputs": [],
   "source": [
    "JSONDIR = \"/tmp/reassemble/\"\n",
    "TSVDIR = \"/tmp/word-tsv\""
   ]
  },
  {
   "cell_type": "code",
   "execution_count": 34,
   "metadata": {},
   "outputs": [],
   "source": [
    "JSONPATH = Path(JSONDIR)\n",
    "TSVPATH = Path(TSVDIR)"
   ]
  },
  {
   "cell_type": "code",
   "execution_count": 35,
   "metadata": {},
   "outputs": [],
   "source": [
    "if not TSVPATH.is_dir():\n",
    "    TSVPATH.mkdir()"
   ]
  },
  {
   "cell_type": "code",
   "execution_count": 36,
   "metadata": {},
   "outputs": [],
   "source": [
    "def read_json(filename):\n",
    "    out = []\n",
    "    with open(filename) as inf:\n",
    "        data = json.load(inf)\n",
    "    for seg in data[\"segments\"]:\n",
    "        out.append({\n",
    "            \"start\": seg[\"start\"],\n",
    "            \"end\": seg[\"end\"],\n",
    "            \"word\": seg[\"text\"]\n",
    "        })\n",
    "    return out"
   ]
  },
  {
   "cell_type": "code",
   "execution_count": 46,
   "metadata": {},
   "outputs": [],
   "source": [
    "filepieces = {}\n",
    "for file in JSONPATH.glob(\"*.json\"):\n",
    "    filestem = file.stem\n",
    "    if not filestem.startswith(\"hsi_\"):\n",
    "        continue\n",
    "    pieces = filestem.split(\"_\")\n",
    "    if len(pieces) != 8:\n",
    "        continue\n",
    "    base = \"_\".join(pieces[0:6])\n",
    "    if not base in filepieces:\n",
    "        filepieces[base] = []\n",
    "\n",
    "    startint = int(pieces[6])\n",
    "    endint = int(pieces[7])\n",
    "    words = read_json(str(file))\n",
    "    for word in words:\n",
    "        w = word[\"word\"].strip()\n",
    "        if w.startswith(\"[\") or w.endswith(\"]\"):\n",
    "            continue\n",
    "        start = (float(startint) / 1000.0) + word[\"start\"]\n",
    "        end = (float(startint) / 1000.0) + word[\"end\"]\n",
    "        filepieces[base].append((start, end, w))"
   ]
  },
  {
   "cell_type": "code",
   "execution_count": 50,
   "metadata": {},
   "outputs": [],
   "source": [
    "for piece in filepieces:\n",
    "    pieces = filepieces[piece]\n",
    "    pieces_sorted = sorted(pieces, key=lambda x: x[0])\n",
    "    outfile = TSVPATH / f\"{piece}.tsv\"\n",
    "    with open(outfile, \"w\") as of:\n",
    "        for item in pieces_sorted:\n",
    "            start_ms = int(item[0] * 1000)\n",
    "            end_ms = int(item[1] * 1000)\n",
    "            if start_ms < 1000:\n",
    "                start_whole = 0\n",
    "            else:\n",
    "                start_whole = str(start_ms)[:-3]\n",
    "            start_dec = str(start_ms)[-3:].zfill(3)\n",
    "            if end_ms < 1000:\n",
    "                end_whole = 0\n",
    "            else:\n",
    "                end_whole = str(end_ms)[:-3]\n",
    "            end_dec = str(end_ms)[-3:].zfill(3)\n",
    "            start_fmt = f\"{start_whole}.{start_dec}\"\n",
    "            end_fmt = f\"{end_whole}.{end_dec}\"\n",
    "\n",
    "            of.write(f\"{start_fmt}\\t{end_fmt}\\t{item[2]}\\n\")"
   ]
  }
 ],
 "metadata": {
  "kernelspec": {
   "display_name": "hf",
   "language": "python",
   "name": "python3"
  },
  "language_info": {
   "codemirror_mode": {
    "name": "ipython",
    "version": 3
   },
   "file_extension": ".py",
   "mimetype": "text/x-python",
   "name": "python",
   "nbconvert_exporter": "python",
   "pygments_lexer": "ipython3",
   "version": "3.9.15"
  }
 },
 "nbformat": 4,
 "nbformat_minor": 2
}
