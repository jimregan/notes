{
 "cells": [
  {
   "cell_type": "code",
   "execution_count": 3,
   "metadata": {},
   "outputs": [],
   "source": [
    "import json\n",
    "from pathlib import Path"
   ]
  },
  {
   "cell_type": "code",
   "execution_count": 74,
   "metadata": {
    "tags": [
     "parameters"
    ]
   },
   "outputs": [],
   "source": [
    "JSONDIR = \"/tmp/reassemble/\"\n",
    "TSVDIR = \"/tmp/word-tsv\"\n",
    "TXTDIR = \"/tmp/39b5958071804a33f4cd1780d029f602\""
   ]
  },
  {
   "cell_type": "code",
   "execution_count": 75,
   "metadata": {},
   "outputs": [],
   "source": [
    "JSONPATH = Path(JSONDIR)\n",
    "TSVPATH = Path(TSVDIR)\n",
    "TXTPATH = Path(TXTDIR)"
   ]
  },
  {
   "cell_type": "code",
   "execution_count": 35,
   "metadata": {},
   "outputs": [],
   "source": [
    "if not TSVPATH.is_dir():\n",
    "    TSVPATH.mkdir()"
   ]
  },
  {
   "cell_type": "code",
   "execution_count": 55,
   "metadata": {},
   "outputs": [],
   "source": [
    "def read_json(filename):\n",
    "    if type(filename) is Path:\n",
    "        filename = str(filename)\n",
    "    out = []\n",
    "    with open(filename) as inf:\n",
    "        data = json.load(inf)\n",
    "    for seg in data[\"segments\"]:\n",
    "        out.append({\n",
    "            \"start\": seg[\"start\"],\n",
    "            \"end\": seg[\"end\"],\n",
    "            \"word\": seg[\"text\"]\n",
    "        })\n",
    "    return out"
   ]
  },
  {
   "cell_type": "code",
   "execution_count": 73,
   "metadata": {},
   "outputs": [],
   "source": [
    "NORMS = {\n",
    "    \"Tromso\": \"Tromsø\",\n",
    "    \"Skane.\": \"Skåne.\",\n",
    "    \"ehh,\": \"eh,\",\n",
    "    \"ehh\": \"eh\",\n",
    "    \"eehh\": \"eh\",\n",
    "    \"ehh...\": \"eh...\",\n",
    "    \"Ostermalm.\": \"Östermalm.\",\n",
    "    \"Timothee\": \"Timothée\",\n",
    "    \"fatolj?\": \"fåtölj?\",\n",
    "}"
   ]
  },
  {
   "cell_type": "code",
   "execution_count": 70,
   "metadata": {},
   "outputs": [],
   "source": [
    "def reinterpret_json(filename: Path):\n",
    "    data = read_json(filename)\n",
    "    stem = filename.stem\n",
    "    orig_text = TXTPATH / f\"{stem}.txt\"\n",
    "    with open(str(orig_text)) as inf:\n",
    "        text = inf.read().strip()\n",
    "    orig_words = text.split(\" \")\n",
    "    if len(orig_words) == len(data):\n",
    "        for pp in zip(data, orig_words):\n",
    "            if pp[0][\"word\"] in NORMS:\n",
    "                pp[0][\"word\"] = NORMS[pp[0][\"word\"]]\n",
    "                continue\n",
    "            if pp[0][\"word\"] == pp[1]:\n",
    "                continue\n",
    "            if pp[0][\"word\"] == pp[1].replace(\"-\", \"\"):\n",
    "                pp[0][\"word\"] = pp[1]\n",
    "            else:\n",
    "                print(\"Argh!\", filename, pp[0][\"word\"], pp[1])\n",
    "    return data"
   ]
  },
  {
   "cell_type": "code",
   "execution_count": 71,
   "metadata": {},
   "outputs": [
    {
     "data": {
      "text/plain": [
       "[{'start': 0.14, 'end': 0.54, 'word': 'Maybe'},\n",
       " {'start': 0.54, 'end': 0.78, 'word': \"it's\"},\n",
       " {'start': 0.78, 'end': 0.88, 'word': 'a'},\n",
       " {'start': 0.88, 'end': 1.5, 'word': 'well-known'},\n",
       " {'start': 1.5, 'end': 1.84, 'word': 'thing.'}]"
      ]
     },
     "execution_count": 71,
     "metadata": {},
     "output_type": "execute_result"
    }
   ],
   "source": [
    "reinterpret_json(Path(\"/tmp/reassemble/hsi_4_0717_211_002_main_110516_112501.json\"))"
   ]
  },
  {
   "cell_type": "code",
   "execution_count": 62,
   "metadata": {},
   "outputs": [],
   "source": [
    "filepieces = {}\n",
    "for file in JSONPATH.glob(\"*.json\"):\n",
    "    filestem = file.stem\n",
    "    if not filestem.startswith(\"hsi_\"):\n",
    "        continue\n",
    "    pieces = filestem.split(\"_\")\n",
    "    if len(pieces) != 8:\n",
    "        continue\n",
    "    base = \"_\".join(pieces[0:6])\n",
    "    if not base in filepieces:\n",
    "        filepieces[base] = []\n",
    "\n",
    "    startint = int(pieces[6])\n",
    "    endint = int(pieces[7])\n",
    "    words = reinterpret_json(file)\n",
    "    for word in words:\n",
    "        w = word[\"word\"].strip()\n",
    "        if w.startswith(\"[\") or w.endswith(\"]\"):\n",
    "            continue\n",
    "        start = (float(startint) / 1000.0) + word[\"start\"]\n",
    "        end = (float(startint) / 1000.0) + word[\"end\"]\n",
    "        filepieces[base].append((start, end, w))"
   ]
  },
  {
   "cell_type": "code",
   "execution_count": 63,
   "metadata": {},
   "outputs": [],
   "source": [
    "for piece in filepieces:\n",
    "    pieces = filepieces[piece]\n",
    "    pieces_sorted = sorted(pieces, key=lambda x: x[0])\n",
    "    outfile = TSVPATH / f\"{piece}.tsv\"\n",
    "    with open(outfile, \"w\") as of:\n",
    "        for item in pieces_sorted:\n",
    "            of.write(f\"{item[0]:.03f}\\t{item[1]:.03f}\\t{item[2]}\\n\")"
   ]
  }
 ],
 "metadata": {
  "kernelspec": {
   "display_name": "hf",
   "language": "python",
   "name": "python3"
  },
  "language_info": {
   "codemirror_mode": {
    "name": "ipython",
    "version": 3
   },
   "file_extension": ".py",
   "mimetype": "text/x-python",
   "name": "python",
   "nbconvert_exporter": "python",
   "pygments_lexer": "ipython3",
   "version": "3.9.15"
  }
 },
 "nbformat": 4,
 "nbformat_minor": 2
}
