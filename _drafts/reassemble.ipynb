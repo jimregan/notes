{
 "cells": [
  {
   "cell_type": "code",
   "execution_count": 3,
   "metadata": {},
   "outputs": [],
   "source": [
    "import json\n",
    "from pathlib import Path"
   ]
  },
  {
   "cell_type": "code",
   "execution_count": 53,
   "metadata": {
    "tags": [
     "parameters"
    ]
   },
   "outputs": [],
   "source": [
    "JSONDIR = \"/tmp/reassemble/\"\n",
    "TSVDIR = \"/tmp/word-tsv\"\n",
    "TXTDIR = \"/Users/joregan/Playing/audio_clips/\""
   ]
  },
  {
   "cell_type": "code",
   "execution_count": 54,
   "metadata": {},
   "outputs": [],
   "source": [
    "JSONPATH = Path(JSONDIR)\n",
    "TSVPATH = Path(TSVDIR)\n",
    "TXTPATH = Path(TXTDIR)"
   ]
  },
  {
   "cell_type": "code",
   "execution_count": 35,
   "metadata": {},
   "outputs": [],
   "source": [
    "if not TSVPATH.is_dir():\n",
    "    TSVPATH.mkdir()"
   ]
  },
  {
   "cell_type": "code",
   "execution_count": 55,
   "metadata": {},
   "outputs": [],
   "source": [
    "def read_json(filename):\n",
    "    if type(filename) is Path:\n",
    "        filename = str(filename)\n",
    "    out = []\n",
    "    with open(filename) as inf:\n",
    "        data = json.load(inf)\n",
    "    for seg in data[\"segments\"]:\n",
    "        out.append({\n",
    "            \"start\": seg[\"start\"],\n",
    "            \"end\": seg[\"end\"],\n",
    "            \"word\": seg[\"text\"]\n",
    "        })\n",
    "    return out"
   ]
  },
  {
   "cell_type": "code",
   "execution_count": 64,
   "metadata": {},
   "outputs": [],
   "source": [
    "def reinterpret_json(filename: Path):\n",
    "    data = read_json(filename)\n",
    "    stem = filename.stem\n",
    "    orig_text = TXTPATH / f\"{stem}.txt\"\n",
    "    with open(str(orig_text)) as inf:\n",
    "        text = inf.read().strip()\n",
    "    orig_words = text.split(\" \")\n",
    "    if len(orig_words) == len(data):\n",
    "        for pp in zip(data, orig_words):\n",
    "            if pp[0][\"word\"] == pp[1]:\n",
    "                continue\n",
    "            if pp[0][\"word\"] == pp[1].replace(\"-\", \"\"):\n",
    "                pp[0][\"word\"] = pp[1]\n",
    "            else:\n",
    "                print(\"Argh!\", filename, pp[0][\"word\"], pp[1])\n",
    "    return data"
   ]
  },
  {
   "cell_type": "code",
   "execution_count": 59,
   "metadata": {},
   "outputs": [
    {
     "name": "stdout",
     "output_type": "stream",
     "text": [
      "Maybe it's a well-known thing. Maybe it's a wellknown thing.\n"
     ]
    }
   ],
   "source": [
    "reinterpret_json(Path(\"/tmp/reassemble/hsi_4_0717_211_002_main_110516_112501.json\"))"
   ]
  },
  {
   "cell_type": "code",
   "execution_count": 62,
   "metadata": {},
   "outputs": [],
   "source": [
    "filepieces = {}\n",
    "for file in JSONPATH.glob(\"*.json\"):\n",
    "    filestem = file.stem\n",
    "    if not filestem.startswith(\"hsi_\"):\n",
    "        continue\n",
    "    pieces = filestem.split(\"_\")\n",
    "    if len(pieces) != 8:\n",
    "        continue\n",
    "    base = \"_\".join(pieces[0:6])\n",
    "    if not base in filepieces:\n",
    "        filepieces[base] = []\n",
    "\n",
    "    startint = int(pieces[6])\n",
    "    endint = int(pieces[7])\n",
    "    words = reinterpret_json(file)\n",
    "    for word in words:\n",
    "        w = word[\"word\"].strip()\n",
    "        if w.startswith(\"[\") or w.endswith(\"]\"):\n",
    "            continue\n",
    "        start = (float(startint) / 1000.0) + word[\"start\"]\n",
    "        end = (float(startint) / 1000.0) + word[\"end\"]\n",
    "        filepieces[base].append((start, end, w))"
   ]
  },
  {
   "cell_type": "code",
   "execution_count": 63,
   "metadata": {},
   "outputs": [],
   "source": [
    "for piece in filepieces:\n",
    "    pieces = filepieces[piece]\n",
    "    pieces_sorted = sorted(pieces, key=lambda x: x[0])\n",
    "    outfile = TSVPATH / f\"{piece}.tsv\"\n",
    "    with open(outfile, \"w\") as of:\n",
    "        for item in pieces_sorted:\n",
    "            of.write(f\"{item[0]:.03f}\\t{item[1]:.03f}\\t{item[2]}\\n\")"
   ]
  }
 ],
 "metadata": {
  "kernelspec": {
   "display_name": "hf",
   "language": "python",
   "name": "python3"
  },
  "language_info": {
   "codemirror_mode": {
    "name": "ipython",
    "version": 3
   },
   "file_extension": ".py",
   "mimetype": "text/x-python",
   "name": "python",
   "nbconvert_exporter": "python",
   "pygments_lexer": "ipython3",
   "version": "3.9.15"
  }
 },
 "nbformat": 4,
 "nbformat_minor": 2
}
