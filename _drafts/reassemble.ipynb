{
 "cells": [
  {
   "cell_type": "code",
   "execution_count": 3,
   "metadata": {},
   "outputs": [],
   "source": [
    "import json\n",
    "from pathlib import Path"
   ]
  },
  {
   "cell_type": "code",
   "execution_count": 13,
   "metadata": {
    "tags": [
     "parameters"
    ]
   },
   "outputs": [],
   "source": [
    "JSONDIR = \"/tmp/reassemble/\"\n",
    "TSVDIR = \"/tmp/word-tsv\""
   ]
  },
  {
   "cell_type": "code",
   "execution_count": 14,
   "metadata": {},
   "outputs": [],
   "source": [
    "JSONPATH = Path(JSONDIR)\n",
    "TSVPATH = Path(TSVDIR)"
   ]
  },
  {
   "cell_type": "code",
   "execution_count": 15,
   "metadata": {},
   "outputs": [],
   "source": [
    "if not TSVPATH.is_dir():\n",
    "    TSVPATH.mkdir()"
   ]
  },
  {
   "cell_type": "code",
   "execution_count": 26,
   "metadata": {},
   "outputs": [],
   "source": [
    "def read_json(filename):\n",
    "    out = []\n",
    "    with open(filename) as inf:\n",
    "        data = json.load(inf)\n",
    "    for seg in data[\"segments\"]:\n",
    "        out.append({\n",
    "            \"start\": seg[\"start\"],\n",
    "            \"end\": seg[\"end\"],\n",
    "            \"word\": seg[\"text\"]\n",
    "        })\n",
    "    return out"
   ]
  },
  {
   "cell_type": "code",
   "execution_count": 31,
   "metadata": {},
   "outputs": [],
   "source": [
    "filepieces = {}\n",
    "for file in JSONPATH.glob(\"*.json\"):\n",
    "    filestem = file.stem\n",
    "    if not filestem.startswith(\"hsi_\"):\n",
    "        continue\n",
    "    pieces = filestem.split(\"_\")\n",
    "    if len(pieces) != 8:\n",
    "        continue\n",
    "    base = \"_\".join(pieces[0:6])\n",
    "    if not base in filepieces:\n",
    "        filepieces[base] = []\n",
    "\n",
    "    startint = int(pieces[6])\n",
    "    endint = int(pieces[7])\n",
    "    words = read_json(str(file))\n",
    "    for word in words:\n",
    "        start = (float(startint) / 1000.0) + word[\"start\"]\n",
    "        end = (float(startint) / 1000.0) + word[\"end\"]\n",
    "        filepieces[base].append((start, end, word[\"word\"]))"
   ]
  },
  {
   "cell_type": "code",
   "execution_count": 32,
   "metadata": {},
   "outputs": [],
   "source": [
    "for piece in filepieces:\n",
    "    pieces = filepieces[piece]\n",
    "    pieces_sorted = sorted(pieces, key=lambda x: x[0])\n",
    "    outfile = TSVPATH / f\"{piece}.tsv\"\n",
    "    with open(outfile, \"w\") as of:\n",
    "        for item in pieces_sorted:\n",
    "            of.write(f\"{item[0]}\\t{item[1]}\\t{item[2]}\\n\")"
   ]
  }
 ],
 "metadata": {
  "kernelspec": {
   "display_name": "hf",
   "language": "python",
   "name": "python3"
  },
  "language_info": {
   "codemirror_mode": {
    "name": "ipython",
    "version": 3
   },
   "file_extension": ".py",
   "mimetype": "text/x-python",
   "name": "python",
   "nbconvert_exporter": "python",
   "pygments_lexer": "ipython3",
   "version": "3.9.15"
  }
 },
 "nbformat": 4,
 "nbformat_minor": 2
}
