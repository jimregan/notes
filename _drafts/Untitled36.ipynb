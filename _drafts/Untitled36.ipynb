{
  "cells": [
    {
      "cell_type": "markdown",
      "metadata": {},
      "source": [
        "# Recreating a phonetic dictionary with piper_phonemize\n",
        "\n",
        "> \"For a student project\"\n",
        "\n",
        "- toc: false\n",
        "- branch: master\n",
        "- categories: [matcha, g2p, dt2112]"
      ]
    },
    {
      "cell_type": "markdown",
      "metadata": {
        "id": "bQPpMYBcXoFX"
      },
      "source": [
        "Matcha-TTS uses `piper_phonemize` as its phonemiser, so for best results, the pre-phonemised text that you feed it should match that type of input: one method is to use a phoneset mapping between the two, to create a new dictionary with which to train an MFA model. This is an alternative approach, where you take the headwords from an MFA dictionary, and generate the pronunciations using `piper_phonemize`: this guarantees that the input matches not only the phoneset, but other conventions (for one, providing accent marks in the expected way) without the potential mess that can happen in phoneset mapping: e.g., that mappings are not always 1:1.\n",
        "\n",
        "As an additional bonus, you can be assured that some of the pronunciations it generates will be incorrect: for testing an interface where the user provides their own pronunciations, this is *a* *good* *thing!*"
      ]
    },
    {
      "cell_type": "markdown",
      "metadata": {
        "id": "JdbMBML_ZV0r"
      },
      "source": [
        "Watch in amazement at how easy it is to install `piper_phonemize` on Linux, compared to how incredibly difficult it is on Mac..."
      ]
    },
    {
      "cell_type": "code",
      "execution_count": 1,
      "metadata": {
        "colab": {
          "base_uri": "https://localhost:8080/"
        },
        "id": "ayw7ozWNXDLD",
        "outputId": "7ea99560-9440-4e44-a9a9-8fd5b8436d74"
      },
      "outputs": [
        {
          "name": "stdout",
          "output_type": "stream",
          "text": [
            "Collecting piper_phonemize\n",
            "  Downloading piper_phonemize-1.1.0-cp310-cp310-manylinux_2_28_x86_64.whl (25.0 MB)\n",
            "\u001b[2K     \u001b[90m━━━━━━━━━━━━━━━━━━━━━━━━━━━━━━━━━━━━━━━━\u001b[0m \u001b[32m25.0/25.0 MB\u001b[0m \u001b[31m41.5 MB/s\u001b[0m eta \u001b[36m0:00:00\u001b[0m\n",
            "\u001b[?25hInstalling collected packages: piper_phonemize\n",
            "Successfully installed piper_phonemize-1.1.0\n"
          ]
        }
      ],
      "source": [
        "%pip install piper_phonemize"
      ]
    },
    {
      "cell_type": "markdown",
      "metadata": {
        "id": "yYzlZjgkZesp"
      },
      "source": [
        "This function copies [what Matcha does](https://github.com/shivammehta25/Matcha-TTS/blob/dd9105b34bf2be2230f4aa1e4769fb586a3c824e/matcha/text/cleaners.py#L114C24-L114C82)."
      ]
    },
    {
      "cell_type": "code",
      "execution_count": 2,
      "metadata": {
        "id": "FW5DrojcXHzY"
      },
      "outputs": [],
      "source": [
        "import piper_phonemize\n",
        "\n",
        "def matcha_style_phonemizer(text):\n",
        "    return piper_phonemize.phonemize_espeak(text=text, voice=\"en-US\")"
      ]
    },
    {
      "cell_type": "markdown",
      "metadata": {
        "id": "dn745CqFZ8Q0"
      },
      "source": [
        "As input, I'm using the MFA 3.0 US dictionary, available [here](https://github.com/MontrealCorpusTools/mfa-models/releases/tag/dictionary-english_us_mfa-v3.0.0)"
      ]
    },
    {
      "cell_type": "code",
      "execution_count": 3,
      "metadata": {
        "id": "kosuKZpcZORI"
      },
      "outputs": [],
      "source": [
        "%%capture\n",
        "!wget https://github.com/MontrealCorpusTools/mfa-models/releases/download/dictionary-english_us_mfa-v3.0.0/english_us_mfa.dict"
      ]
    },
    {
      "cell_type": "markdown",
      "metadata": {
        "id": "MIGLh7ApahCY"
      },
      "source": [
        "Let's take a quick look at the format:"
      ]
    },
    {
      "cell_type": "code",
      "execution_count": 5,
      "metadata": {
        "colab": {
          "base_uri": "https://localhost:8080/"
        },
        "id": "Kg6Q_qu2aLba",
        "outputId": "dfbb0ac4-a0e0-4b54-9850-cb32ef6d6299"
      },
      "outputs": [
        {
          "name": "stdout",
          "output_type": "stream",
          "text": [
            "zygon\tz aj ɡ ɑ n\n",
            "zygophyte\tz ɪ ɡ ow f aj t\n",
            "zygophyte\tz aj ɡ ow f aj t\n",
            "zygote\t0.99\t0.14\t1.0\t1.0\tz aj ɡ ow t\n",
            "zyme\tz aj m\n",
            "zymophyte\tz aj m ow f aj t\n",
            "zythum\tz aj θ ə m\n",
            "zyzzyva\t0.99\t0.14\t1.0\t1.0\tz ɪ z ɪ v ə\n",
            "zzyzx\tz aj z ɪ k s\n",
            "zzzs\tz i z\n"
          ]
        }
      ],
      "source": [
        "!tail english_us_mfa.dict"
      ]
    },
    {
      "cell_type": "markdown",
      "metadata": {
        "id": "azg9t607aj1O"
      },
      "source": [
        "So, we can see two kinds of line: one probabilistic, the other more basic. In either case, we are only interested in the *first field* of the tab-delimited file."
      ]
    },
    {
      "cell_type": "code",
      "execution_count": 6,
      "metadata": {
        "id": "HaE_5YlNaXZ7"
      },
      "outputs": [],
      "source": [
        "with open(\"english_us_mfa.dict\") as mfadict:\n",
        "    words = set()\n",
        "    for line in mfadict.readlines():\n",
        "        parts = line.split(\"\\t\")\n",
        "        words.add(parts[0])"
      ]
    },
    {
      "cell_type": "markdown",
      "metadata": {
        "id": "nQkhM4XZbW9V"
      },
      "source": [
        "I'm not doing all of this for you: MFA expects tab delimited output, with word separated phonemes: by default, stress and duration marks are separate \"phones\". You get to check if this is correct input to Matcha."
      ]
    },
    {
      "cell_type": "code",
      "execution_count": 10,
      "metadata": {
        "id": "fvFKAuBDa91K"
      },
      "outputs": [],
      "source": [
        "with open(\"english_with_piper.dict\", \"w\") as piperdict:\n",
        "    for word in words:\n",
        "        piper = matcha_style_phonemizer(word)\n",
        "        for piper_item in piper:\n",
        "            phon = \" \".join(piper_item)\n",
        "            piperdict.write(f\"{word}\\t{phon}\\n\")"
      ]
    },
    {
      "cell_type": "code",
      "execution_count": 11,
      "metadata": {
        "colab": {
          "base_uri": "https://localhost:8080/"
        },
        "id": "0Vdf6QTBcMh8",
        "outputId": "c461035c-a564-4669-db96-c0685f1ce495"
      },
      "outputs": [
        {
          "name": "stdout",
          "output_type": "stream",
          "text": [
            "annihilating\tɐ n ˈ a ɪ ə l ˌ e ɪ ɾ ɪ ŋ\n",
            "horatia\th o ː ɹ ˈ e ɪ ʃ ə\n",
            "aliena\tˌ e ɪ l i ˈ ɛ n ə\n",
            "disbanding\td ɪ s b ˈ æ n d ɪ ŋ\n",
            "beginneth\tb ɪ ɡ ˈ ɪ n ə θ\n",
            "wordster\tw ˈ ɜ ː d s t ɚ\n",
            "sullying\ts ˈ ʌ l i ɪ ŋ\n",
            "offices\tˈ ɑ ː f ɪ s ᵻ z\n",
            "toads\tt ˈ o ʊ d z\n",
            "projective\tp ɹ ə d ʒ ˈ ɛ k t ɪ v\n"
          ]
        }
      ],
      "source": [
        "!tail english_with_piper.dict"
      ]
    }
  ],
  "metadata": {
    "colab": {
      "provenance": []
    },
    "kernelspec": {
      "display_name": "Python 3",
      "name": "python3"
    },
    "language_info": {
      "name": "python"
    }
  },
  "nbformat": 4,
  "nbformat_minor": 0
}
