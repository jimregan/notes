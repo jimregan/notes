{
  "nbformat": 4,
  "nbformat_minor": 0,
  "metadata": {
    "colab": {
      "provenance": []
    },
    "kernelspec": {
      "name": "python3",
      "display_name": "Python 3"
    },
    "language_info": {
      "name": "python"
    }
  },
  "cells": [
    {
      "cell_type": "code",
      "execution_count": 2,
      "metadata": {
        "id": "HA8xe04gf5GR"
      },
      "outputs": [],
      "source": [
        "M3U_1 = \"https://nrk-od2.telenorcdn.net/open/ps/sapp/sapp63008024/32342f4f-5.smil/cmaf.m3u8?adap=small&s=0\"\n"
      ]
    },
    {
      "cell_type": "code",
      "source": [
        "PAGE = \"https://tv.nrk.no/serie/samenes-nasjonaldag/2024/SAPP63008024/avspiller\""
      ],
      "metadata": {
        "id": "pd2ylOcogian"
      },
      "execution_count": 4,
      "outputs": []
    },
    {
      "cell_type": "code",
      "source": [
        "WEBVTT1 = \"https://undertekst.nrk.no/SAPP63/00/SAPP63008024/NOR/SAPP63008024.vtt\""
      ],
      "metadata": {
        "id": "P8y_wRfZgktE"
      },
      "execution_count": 3,
      "outputs": []
    },
    {
      "cell_type": "code",
      "source": [
        "# https://tv.nrk.no/serie/sami-grand-prix-tv/2023/SAPP63009023/avspiller\n",
        "# https://nrk-od-world-36.akamaized.net/open/ps/sapp/sapp63009023/123294f9-5.smil/cmaf.m3u8?adap=small&s=0\n",
        "# 123294f9\n",
        "# https://psapi.nrk.no/playback/manifest/program/SAPP63009023?eea-portability=true\n"
      ],
      "metadata": {
        "id": "jYd9s9A0iyXz"
      },
      "execution_count": null,
      "outputs": []
    },
    {
      "cell_type": "code",
      "source": [
        "import requests\n",
        "import json\n",
        "def get_programme_data(page):\n",
        "    if page.endswith(\"/avspiller\"):\n",
        "        parts = page.split(\"/\")\n",
        "        programme_id = parts[-2]\n",
        "        res = requests.get(f\"https://psapi.nrk.no/playback/manifest/program/{programme_id}?eea-portability=true\")\n",
        "        if res.status_code == 200:\n",
        "            data = json.loads(res.text)\n",
        "            return data"
      ],
      "metadata": {
        "id": "Z7zrYhixkW_c"
      },
      "execution_count": 9,
      "outputs": []
    },
    {
      "cell_type": "code",
      "source": [
        "res = get_programme_data(PAGE)"
      ],
      "metadata": {
        "id": "C9qfBaXzky1u"
      },
      "execution_count": 10,
      "outputs": []
    },
    {
      "cell_type": "code",
      "source": [
        "res.keys()"
      ],
      "metadata": {
        "colab": {
          "base_uri": "https://localhost:8080/"
        },
        "id": "Iullsp22k4sB",
        "outputId": "57ce85ca-51ab-4efd-dd27-a0762fff6c14"
      },
      "execution_count": 14,
      "outputs": [
        {
          "output_type": "execute_result",
          "data": {
            "text/plain": [
              "dict_keys(['_links', 'id', 'playability', 'streamingMode', 'availability', 'statistics', 'playable', 'nonPlayable', 'displayAspectRatio', 'sourceMedium'])"
            ]
          },
          "metadata": {},
          "execution_count": 14
        }
      ]
    },
    {
      "cell_type": "code",
      "source": [],
      "metadata": {
        "id": "gJkw6C4TllUi"
      },
      "execution_count": null,
      "outputs": []
    }
  ]
}