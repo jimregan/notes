{
 "cells": [
  {
   "cell_type": "code",
   "execution_count": 1,
   "id": "large-benefit",
   "metadata": {
    "_cell_guid": "b1076dfc-b9ad-4769-8c92-a6c4dae69d19",
    "_uuid": "8f2839f25d086af736a60e9eeb907d3b93b6e0e5",
    "execution": {
     "iopub.execute_input": "2021-06-24T21:11:20.908576Z",
     "iopub.status.busy": "2021-06-24T21:11:20.897521Z",
     "iopub.status.idle": "2021-06-24T21:14:54.726574Z",
     "shell.execute_reply": "2021-06-24T21:14:54.727074Z",
     "shell.execute_reply.started": "2021-06-24T20:42:37.951638Z"
    },
    "papermill": {
     "duration": 213.843245,
     "end_time": "2021-06-24T21:14:54.727410",
     "exception": false,
     "start_time": "2021-06-24T21:11:20.884165",
     "status": "completed"
    },
    "tags": []
   },
   "outputs": [
    {
     "name": "stdout",
     "output_type": "stream",
     "text": [
      "--2021-06-24 21:11:21--  https://dumps.wikimedia.org/enwiktionary/20210620/enwiktionary-20210620-pages-articles-multistream.xml.bz2\r\n",
      "Resolving dumps.wikimedia.org (dumps.wikimedia.org)... 208.80.154.7, 2620:0:861:1:208:80:154:7\r\n",
      "Connecting to dumps.wikimedia.org (dumps.wikimedia.org)|208.80.154.7|:443... connected.\r\n",
      "HTTP request sent, awaiting response... 200 OK\r\n",
      "Length: 1047334797 (999M) [application/octet-stream]\r\n",
      "Saving to: ‘enwiktionary-20210620-pages-articles-multistream.xml.bz2’\r\n",
      "\r\n",
      "enwiktionary-202106 100%[===================>] 998.82M  4.76MB/s    in 3m 33s  \r\n",
      "\r\n",
      "2021-06-24 21:14:54 (4.70 MB/s) - ‘enwiktionary-20210620-pages-articles-multistream.xml.bz2’ saved [1047334797/1047334797]\r\n",
      "\r\n"
     ]
    }
   ],
   "source": [
    "!wget https://dumps.wikimedia.org/enwiktionary/20210620/enwiktionary-20210620-pages-articles-multistream.xml.bz2"
   ]
  },
  {
   "cell_type": "code",
   "execution_count": 2,
   "id": "attempted-south",
   "metadata": {
    "execution": {
     "iopub.execute_input": "2021-06-24T21:14:55.343257Z",
     "iopub.status.busy": "2021-06-24T21:14:55.339315Z",
     "iopub.status.idle": "2021-06-24T21:18:09.044016Z",
     "shell.execute_reply": "2021-06-24T21:18:09.043457Z",
     "shell.execute_reply.started": "2021-06-24T20:47:32.973022Z"
    },
    "papermill": {
     "duration": 194.01431,
     "end_time": "2021-06-24T21:18:09.044175",
     "exception": false,
     "start_time": "2021-06-24T21:14:55.029865",
     "status": "completed"
    },
    "tags": []
   },
   "outputs": [],
   "source": [
    "!bzcat enwiktionary-20210620-pages-articles-multistream.xml.bz2|grep 'hyphenation|en' > /tmp/rawhyph"
   ]
  },
  {
   "cell_type": "code",
   "execution_count": 3,
   "id": "guided-weekly",
   "metadata": {
    "execution": {
     "iopub.execute_input": "2021-06-24T21:18:09.648059Z",
     "iopub.status.busy": "2021-06-24T21:18:09.647393Z",
     "iopub.status.idle": "2021-06-24T21:18:10.353906Z",
     "shell.execute_reply": "2021-06-24T21:18:10.353348Z",
     "shell.execute_reply.started": "2021-06-24T20:58:40.301858Z"
    },
    "papermill": {
     "duration": 1.010457,
     "end_time": "2021-06-24T21:18:10.354038",
     "exception": false,
     "start_time": "2021-06-24T21:18:09.343581",
     "status": "completed"
    },
    "tags": []
   },
   "outputs": [
    {
     "name": "stdout",
     "output_type": "stream",
     "text": [
      "* {{hyphenation|en|caption=|tub|er|vil}}\r\n"
     ]
    }
   ],
   "source": [
    "!grep '{{a|U.S.' /tmp/rawhyph|sed -e 's/{a|U.S.}//;s/{}//'"
   ]
  },
  {
   "cell_type": "code",
   "execution_count": 4,
   "id": "confirmed-actor",
   "metadata": {
    "execution": {
     "iopub.execute_input": "2021-06-24T21:18:10.980477Z",
     "iopub.status.busy": "2021-06-24T21:18:10.977450Z",
     "iopub.status.idle": "2021-06-24T21:18:11.747906Z",
     "shell.execute_reply": "2021-06-24T21:18:11.747334Z",
     "shell.execute_reply.started": "2021-06-24T21:10:19.733010Z"
    },
    "papermill": {
     "duration": 1.092006,
     "end_time": "2021-06-24T21:18:11.748038",
     "exception": false,
     "start_time": "2021-06-24T21:18:10.656032",
     "status": "completed"
    },
    "tags": []
   },
   "outputs": [],
   "source": [
    "!cat /tmp/rawhyph|sed -e 's/{a|U.S.}//;s/{}//;'|sed -e \"s/''':'''/|/g\"|awk -F'{{hyphenation\\|en\\|' '{print $2}'|awk -F'}}' '{print $1}'|perl -ane 'chomp;@l=split/\\|/;if($l[0] =~ /=/){shift @l};if($l[$#l] =~ /=/){pop @l};print join(\"\", @l) . \"\\t\" . join(\" \", @l). \"\\n\"'|sort|uniq > hyphenation.tsv"
   ]
  }
 ],
 "metadata": {
  "kernelspec": {
   "display_name": "Python 3",
   "language": "python",
   "name": "python3"
  },
  "language_info": {
   "codemirror_mode": {
    "name": "ipython",
    "version": 3
   },
   "file_extension": ".py",
   "mimetype": "text/x-python",
   "name": "python",
   "nbconvert_exporter": "python",
   "pygments_lexer": "ipython3",
   "version": "3.7.9"
  },
  "papermill": {
   "default_parameters": {},
   "duration": 417.847965,
   "end_time": "2021-06-24T21:18:12.679826",
   "environment_variables": {},
   "exception": null,
   "input_path": "__notebook__.ipynb",
   "output_path": "__notebook__.ipynb",
   "parameters": {},
   "start_time": "2021-06-24T21:11:14.831861",
   "version": "2.3.2"
  }
 },
 "nbformat": 4,
 "nbformat_minor": 5
}
