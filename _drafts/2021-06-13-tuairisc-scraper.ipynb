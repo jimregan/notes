{
 "cells": [
  {
   "cell_type": "markdown",
   "source": [
    "# Tuairisc scraper pieces\r\n",
    "\r\n",
    "> \"Incomplete: much to do\"\r\n",
    "\r\n",
    "- toc: false\r\n",
    "- branch: master\r\n",
    "- hidden: true\r\n",
    "- categories: [irish, scraper, tuairisc]"
   ],
   "metadata": {}
  },
  {
   "cell_type": "code",
   "execution_count": 6,
   "source": [
    "_SITEMAP='https://tuairisc.ie/sitemap.xml'"
   ],
   "outputs": [],
   "metadata": {}
  },
  {
   "cell_type": "code",
   "execution_count": 1,
   "source": [
    "import requests\r\n",
    "from bs4 import BeautifulSoup"
   ],
   "outputs": [],
   "metadata": {}
  },
  {
   "cell_type": "code",
   "execution_count": 19,
   "source": [
    "def _read_main_sitemap():\r\n",
    "    output = []\r\n",
    "    sm = requests.get(_SITEMAP)\r\n",
    "    if sm.status_code != 200:\r\n",
    "        raise Exception(\"Failed to read sitemap\")\r\n",
    "    base_soup = BeautifulSoup(sm.text, 'lxml')\r\n",
    "    for submap in base_soup.findAll('sitemap'):\r\n",
    "        location = submap.find('loc').text\r\n",
    "        if 'sitemap-pt' in location:\r\n",
    "            output.append(_read_sub_sitemap(location))\r\n",
    "    return output"
   ],
   "outputs": [],
   "metadata": {}
  },
  {
   "cell_type": "code",
   "execution_count": 17,
   "source": [
    "def _read_sub_sitemap(url):\r\n",
    "    output = []\r\n",
    "    sm = requests.get(url)\r\n",
    "    if sm.status_code != 200:\r\n",
    "        raise Exception(\"Failed to read sitemap\")\r\n",
    "    base_soup = BeautifulSoup(sm.text, 'lxml')\r\n",
    "    for submap in base_soup.findAll('url'):\r\n",
    "        output.append(submap.find('loc').text)\r\n",
    "    return output"
   ],
   "outputs": [],
   "metadata": {}
  },
  {
   "cell_type": "code",
   "execution_count": 25,
   "source": [
    "def _fetch_article(url):\r\n",
    "    page = requests.get(url)\r\n",
    "    if page.status_code != 200:\r\n",
    "        raise Exception(\"Failed to read page: \" + url)\r\n",
    "    return page.text"
   ],
   "outputs": [],
   "metadata": {}
  },
  {
   "cell_type": "code",
   "execution_count": 34,
   "source": [
    "def _get_article_text(content):\r\n",
    "    base_soup = BeautifulSoup(content, 'html.parser')\r\n",
    "    main = base_soup.find('div', {'class': 'article--full__content'})\r\n",
    "    paras = [p.text.strip() for p in main.findAll('p') if p.text.strip() != '']\r\n",
    "    return(paras)"
   ],
   "outputs": [],
   "metadata": {}
  },
  {
   "cell_type": "code",
   "execution_count": 36,
   "source": [
    "def _get_pub_date(content):\r\n",
    "    base_soup = BeautifulSoup(content, 'html.parser')\r\n",
    "    date = base_soup.find('time', {'itemprop': 'datePublished'})\r\n",
    "    return date['datetime']"
   ],
   "outputs": [],
   "metadata": {}
  },
  {
   "cell_type": "code",
   "execution_count": null,
   "source": [
    "_get_article_text(_fetch_article('https://tuairisc.ie/nuair-a-thainig-john-hume-go-hollscoil-na-banriona-thuig-me-gur-i-lathair-ceannaire-agus-faidh-a-bhi-me/'))"
   ],
   "outputs": [],
   "metadata": {}
  },
  {
   "cell_type": "code",
   "execution_count": 37,
   "source": [
    "_get_pub_date(_fetch_article('https://tuairisc.ie/nuair-a-thainig-john-hume-go-hollscoil-na-banriona-thuig-me-gur-i-lathair-ceannaire-agus-faidh-a-bhi-me/'))"
   ],
   "outputs": [
    {
     "output_type": "execute_result",
     "data": {
      "text/plain": [
       "'2020-08-04 05:44'"
      ]
     },
     "metadata": {},
     "execution_count": 37
    }
   ],
   "metadata": {}
  }
 ],
 "metadata": {
  "kernelspec": {
   "display_name": "Python 3",
   "language": "python",
   "name": "python3"
  },
  "language_info": {
   "codemirror_mode": {
    "name": "ipython",
    "version": 3
   },
   "file_extension": ".py",
   "mimetype": "text/x-python",
   "name": "python",
   "nbconvert_exporter": "python",
   "pygments_lexer": "ipython3",
   "version": "3.8.2"
  }
 },
 "nbformat": 4,
 "nbformat_minor": 5
}