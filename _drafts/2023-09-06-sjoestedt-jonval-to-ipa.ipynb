{
  "cells": [
    {
      "cell_type": "markdown",
      "id": "79469536",
      "metadata": {
        "id": "79469536"
      },
      "source": [
        "# \"Sjoestedt-Jonval to IPA\"\n",
        "\n",
        "> \"Converting Sjoestedt-Jonval's proto-IPA to more modern conventions\"\n",
        "\n",
        "- toc: false\n",
        "- branch: master\n",
        "- hidden: true\n",
        "- categories: [irish, sjoestedt-jonval, icu, ipa, phonetic]"
      ]
    },
    {
      "cell_type": "code",
      "source": [
        "!pip install pyicu"
      ],
      "metadata": {
        "id": "1rvGTdE_f4jY",
        "outputId": "ddab75b4-2db4-43f0-9ec8-f701d0a8cfca",
        "colab": {
          "base_uri": "https://localhost:8080/"
        }
      },
      "id": "1rvGTdE_f4jY",
      "execution_count": null,
      "outputs": [
        {
          "output_type": "stream",
          "name": "stdout",
          "text": [
            "Collecting pyicu\n",
            "  Downloading PyICU-2.11.tar.gz (257 kB)\n",
            "\u001b[2K     \u001b[90m━━━━━━━━━━━━━━━━━━━━━━━━━━━━━━━━━━━━━━━\u001b[0m \u001b[32m257.9/257.9 kB\u001b[0m \u001b[31m3.1 MB/s\u001b[0m eta \u001b[36m0:00:00\u001b[0m\n",
            "\u001b[?25h  Installing build dependencies ... \u001b[?25l\u001b[?25hdone\n",
            "  Getting requirements to build wheel ... \u001b[?25l\u001b[?25hdone\n",
            "  Preparing metadata (pyproject.toml) ... \u001b[?25l\u001b[?25hdone\n",
            "Building wheels for collected packages: pyicu\n",
            "  Building wheel for pyicu (pyproject.toml) ... \u001b[?25l\u001b[?25hdone\n",
            "  Created wheel for pyicu: filename=PyICU-2.11-cp310-cp310-linux_x86_64.whl size=1742564 sha256=eea1adbb7860248d95bf7cfa2cae866d78c34527b8a4a36fef693101cd990d1d\n",
            "  Stored in directory: /root/.cache/pip/wheels/67/c3/00/2176cc05d3ea22935a9c78f1034b1a3e3697ef11ffb5cbe2f5\n",
            "Successfully built pyicu\n",
            "Installing collected packages: pyicu\n",
            "Successfully installed pyicu-2.11\n"
          ]
        }
      ]
    },
    {
      "cell_type": "code",
      "execution_count": null,
      "id": "b2579095",
      "metadata": {
        "id": "b2579095"
      },
      "outputs": [],
      "source": [
        "import icu\n",
        "def transliterator_from_rules(name, rules):\n",
        "    fromrules = icu.Transliterator.createFromRules(name, rules)\n",
        "    icu.Transliterator.registerInstance(fromrules)\n",
        "    return icu.Transliterator.createInstance(name)"
      ]
    },
    {
      "cell_type": "code",
      "execution_count": null,
      "id": "a4e0cd3c",
      "metadata": {
        "id": "a4e0cd3c"
      },
      "outputs": [],
      "source": [
        "sjoestedt_to_wikipedia = \"\"\"\n",
        "bʹ → bʲ;\n",
        "b → bˠ;\n",
        "k′ → c;\n",
        "kʹ → c;\n",
        "kʷ → k;\n",
        "k → k;\n",
        "ç → ç;\n",
        "dʹ → dʲ;\n",
        "d → d̪ˠ;\n",
        "e\\: → eː;\n",
        "è\\: → eː;\n",
        "e → e;\n",
        "ə → ə;\n",
        "œ → ə;\n",
        "αi → əi;\n",
        "αu → əu;\n",
        "ɑ\\: → ɑː;\n",
        "α̃\\: → ɑː;\n",
        "æ → a;\n",
        "α → a;\n",
        "f′ → fʲ;\n",
        "fʹ → fʲ;\n",
        "f → fˠ;\n",
        "ɡʹ → ɟ;\n",
        "gʹ → ɟ;\n",
        "g′ → ɟ;\n",
        "ɡ → ɡ;\n",
        "g → ɡ;\n",
        "ǥ → ɣ;\n",
        "h → h;\n",
        "i\\: → iː;\n",
        "iə → iə;\n",
        "ï → ɪ;\n",
        "ĩ → ɪ;\n",
        "i → ɪ;\n",
        "y → ɪ;\n",
        "j → j;\n",
        "L′ → l̠ʲ;\n",
        "lʹ → lʲ;\n",
        "L → l̪ˠ;\n",
        "l → lˠ;\n",
        "mʹ → mʲ;\n",
        "mʷ → mˠ;\n",
        "m → mˠ;\n",
        "nʹ → nʲ;\n",
        "n → nˠ;\n",
        "N′ → n̠ʲ;\n",
        "N → n̪ˠ;\n",
        "ɲ → ɲ;\n",
        "ŋ → ŋ;\n",
        "o\\: → oː;\n",
        "ɔ\\: → oː;\n",
        "ɔ → ɔ;\n",
        "o̤ → ɔ;\n",
        "pʹ → pʲ;\n",
        "p → pˠ;\n",
        "rʹ → ɾʲ;\n",
        "r → ɾˠ;\n",
        "R → ɾˠ;\n",
        "s → sˠ;\n",
        "ʃ → ʃ;\n",
        "tʹ → tʲ;\n",
        "t → t̪ˠ;\n",
        "u\\: → uː;\n",
        "uə → uə;\n",
        "Ũ → ʊ;\n",
        "U → ʊ;\n",
        "vʹ → vʲ;\n",
        "v → vˠ;\n",
        "w̥'`' → w;\n",
        "w̥ → w;\n",
        "w → w;\n",
        "χʷ → x;\n",
        "χ → x;\n",
        "\"\"\""
      ]
    },
    {
      "cell_type": "code",
      "execution_count": null,
      "id": "5f05e9d2",
      "metadata": {
        "id": "5f05e9d2"
      },
      "outputs": [],
      "source": [
        "sjoestedt = transliterator_from_rules('sjoestedt', sjoestedt_to_wikipedia)"
      ]
    },
    {
      "cell_type": "code",
      "execution_count": null,
      "id": "2cd2dc44",
      "metadata": {
        "id": "2cd2dc44",
        "outputId": "a3e04cbe-3e67-4a2f-dac2-fdab6edc403e",
        "colab": {
          "base_uri": "https://localhost:8080/",
          "height": 35
        }
      },
      "outputs": [
        {
          "output_type": "execute_result",
          "data": {
            "text/plain": [
              "'ənˠɪʃ'"
            ],
            "application/vnd.google.colaboratory.intrinsic+json": {
              "type": "string"
            }
          },
          "metadata": {},
          "execution_count": 6
        }
      ],
      "source": [
        "sjoestedt.transliterate(\"əniʃ\")"
      ]
    },
    {
      "cell_type": "code",
      "execution_count": null,
      "id": "7555965c",
      "metadata": {
        "id": "7555965c"
      },
      "outputs": [],
      "source": [
        "sample = \"\"\"\n",
        "tɑ: tɑməl fɑd əniʃ ə vʹi: fʹαr nə χo:ni: ə mαlʹə muər χorkʷi:. fʹαr sevʹərʹ ɑgəs kʹαni:\n",
        "fɑrəgʹə do bʹα e. də vʹi:χ liŋʹgʹəs e tʹαχt hɑr lʹαr χʷigʹə. də vʹi: è:n inʹi:n əvɑ:nʹ\n",
        "əgʹe gœr bʹe n αnʹəmʹ ə vʹi: erʹhə mɑ:rʹə vɑ:n. də hi:lʹ ʃi ən αnʹəmʹ ʃinʹ mɑr nʹi revʹ\n",
        "ʃi sə vαlʹə vuər è:n χαlʹi:nʹ ko dʹαs ko mʷè:rgə lʹe:. nʹi revʹ e:nʹə klinʹə egə nə mʷi:nʹtʹərʹ\n",
        "ɑχ i: ɑgəs do vʹe:αdəgʹ ʃinʹ irʹəmʹ ɑgəs grɑ: nə ni:nʹə don inʹi:n o:g so.\n",
        " \"\"\""
      ]
    },
    {
      "cell_type": "markdown",
      "source": [
        "Tá tamall fad anois a bhí fear ina chónaí i mbaile mór Chorcaí. Fear saibhir agus ceannaí farraige do b'ea é. Do bhíodh loingeas ag teacht thar lár chuige. Do bhí aon iníon amháin aige gurb é an ainm a bhí uirthi Máire Bhán. Do shíl sí an ainm sin mar ní raibh sí sa bhaile mhór aon chailín comh deas comh maorga léi. Ní raibh éinne clainne age na muintir ach í agus do bhféadfaidh sin oirim agus grá na ndaoine don iníon óg so."
      ],
      "metadata": {
        "id": "cp3n2xZ_sP69"
      },
      "id": "cp3n2xZ_sP69"
    },
    {
      "cell_type": "code",
      "source": [
        "sample = \"\"\"\n",
        "bo ǥnɑ:həχ lʹe: kɑpte:n o:g liŋʹgʹə tʹαχt er kuərdʹ go tʹigʹ ə çαni: go mʹnʹikʹ ɑgəs\n",
        "vʹi:χ ʃe ɑnəçαnu:lʹ er vɑ:rʹə vɑ:n. vʹi: mɑ:rʹə e tʹitʹəm ə ŋrɑ: lʹeʃ ə gɑnis dʹi\n",
        "fʹe:nʹ. nuerʹ ə imʹi:χ ʃe oŋ guən vʹi:χ uegʹənʹəs ɑgəs dʹi:mvɑ: ə dαunʹ erʹhə ɑχ nʹi:\n",
        "vʹi:χ is əkʹi kɑd e: ən fɑ:h. nʹi revʹ e:nʹ αr o:g uəsəl tʹi:mpəl nɑ: go revʹ e tnu:\n",
        "lʹe mɑ:rʹə vɑ:n ə ǥɑ:lʹ lʹe po:sə ɑχ nʹi revʹ è:n vαh de:nʹə vʹeh ɑ: lorəg. nʹi: fo:səχ\n",
        "ʃi e:nʹ αr ɑχ ə kɑpte:n o:g. nʹi:r wαh lʹe nə mʷi:nʹtʹərʹ i: hu:rtʹ lʹe po:sə do:sən.\n",
        "do bʹɑ:r lʹo: i: vʹeh nə gu:ŋgər fʹe:nʹ. dɑn mɑ:rʹə bʹlʹiəntə gɑn po:sə. dʹerʹəχ ʃi nə\n",
        "hαgʹənʹə fʹe:nʹ « dɑ: vαjəχ mɑhərʹ bɑ:s vʹeαχ ʃe er mo χuməs mo rʹαu fʹαr ə fo:sə ».\n",
        "\"\"\""
      ],
      "metadata": {
        "id": "NAK03Oji3MLb"
      },
      "id": "NAK03Oji3MLb",
      "execution_count": null,
      "outputs": []
    },
    {
      "cell_type": "markdown",
      "source": [
        "Ba ghnáthach léi captaen óg loinge teacht ar cuairt go tigh an cheannaí go minic agus bhíodh sé an-cheanúil ar Mháire Bhán. Bhí Máire ag titim i ngrá leis i (gcanais) di féin. Nuair a imíoch sé ón gcuan bhíodh uaigneas agus díombhá an domhain uirthi ach ní bhíodh fhios aici cad é an fáth. Ní raibh aoinfhear óg uasal timpeall ná go raibh é tnúth le Máire Bhán ag gháil le pósadh ach ní raibh aon mhaith déanamh bheith á lorg. Ní phósadh sí aoinfhear ach a captaen óg. Níor mhaith le na muintir í a thabhairt le pósadh dósan. Do b'fhearr leo í a bheith ina gcóngar féin. D'fhan Máire blianta gan pósadh. Deireadh sí na haigne féin \"dá bhfaigheadh m'athair bás bheadh sé ar mo chomas mo (reabh) fear a phósadh."
      ],
      "metadata": {
        "id": "a_VlBWm23-A2"
      },
      "id": "a_VlBWm23-A2"
    },
    {
      "cell_type": "code",
      "execution_count": null,
      "id": "d25ce849",
      "metadata": {
        "id": "d25ce849",
        "outputId": "16dbfe53-e2aa-48ed-85ad-ec0252c8a78c",
        "colab": {
          "base_uri": "https://localhost:8080/"
        }
      },
      "outputs": [
        {
          "output_type": "stream",
          "name": "stdout",
          "text": [
            "\n",
            "bˠo ɣnˠɑːhəx lʲeː kɑpˠt̪ˠeːnˠ oːɡ lˠɪŋʹɟə tʲaxt̪ˠ eɾˠ kuəɾˠdʲ ɡo tʲɪɟ ə çanˠiː ɡo mʲnʲɪc ɑɡəsˠ\n",
            "vʲiːx ʃe ɑnˠəçanˠuːlʲ eɾˠ vˠɑːɾʲə vˠɑːnˠ. vʲiː mˠɑːɾʲə e tʲɪtʲəmˠ ə ŋɾˠɑː lʲeʃ ə ɡɑnˠɪsˠ dʲɪ\n",
            "fʲeːnʲ. nˠueɾʲ ə ɪmʲiːx ʃe oŋ ɡuənˠ vʲiːx ueɟənʲəsˠ ɑɡəsˠ dʲiːmˠvˠɑː ə d̪ˠəunʲ eɾʲhə ɑx nʲiː\n",
            "vʲiːx ɪsˠ əcɪ kɑd̪ˠ eː ənˠ fˠɑːh. nʲɪ ɾˠevʲ eːnʲ aɾˠ oːɡ uəsˠəlˠ tʲiːmˠpˠəlˠ nˠɑː ɡo ɾˠevʲ e t̪ˠnˠuː\n",
            "lʲe mˠɑːɾʲə vˠɑːnˠ ə ɣɑːlʲ lʲe pˠoːsˠə ɑx nʲɪ ɾˠevʲ eːnˠ vˠah d̪ˠeːnʲə vʲeh ɑː lˠoɾˠəɡ. nʲiː fˠoːsˠəx\n",
            "ʃɪ eːnʲ aɾˠ ɑx ə kɑpˠt̪ˠeːnˠ oːɡ. nʲiːɾˠ wah lʲe nˠə mˠiːnʲtʲəɾʲ iː huːɾˠtʲ lʲe pˠoːsˠə d̪ˠoːsˠənˠ.\n",
            "d̪ˠo bʲɑːɾˠ lʲoː iː vʲeh nˠə ɡuːŋɡəɾˠ fʲeːnʲ. d̪ˠɑnˠ mˠɑːɾʲə bʲlʲiənˠt̪ˠə ɡɑnˠ pˠoːsˠə. dʲeɾʲəx ʃɪ nˠə\n",
            "haɟənʲə fʲeːnʲ « d̪ˠɑː vˠajəx mˠɑhəɾʲ bˠɑːsˠ vʲeax ʃe eɾˠ mˠo xumˠəsˠ mˠo ɾʲəu fʲaɾˠ ə fˠoːsˠə ».\n",
            "\n"
          ]
        }
      ],
      "source": [
        "print(sjoestedt.transliterate(sample))"
      ]
    }
  ],
  "metadata": {
    "kernelspec": {
      "display_name": "Python 3",
      "language": "python",
      "name": "python3"
    },
    "language_info": {
      "codemirror_mode": {
        "name": "ipython",
        "version": 3
      },
      "file_extension": ".py",
      "mimetype": "text/x-python",
      "name": "python",
      "nbconvert_exporter": "python",
      "pygments_lexer": "ipython3",
      "version": "3.8.2"
    },
    "colab": {
      "provenance": []
    }
  },
  "nbformat": 4,
  "nbformat_minor": 5
}